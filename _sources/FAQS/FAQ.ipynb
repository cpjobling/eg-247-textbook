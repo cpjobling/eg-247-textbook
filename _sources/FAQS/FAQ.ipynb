{
 "cells": [
  {
   "cell_type": "markdown",
   "id": "39cec3db",
   "metadata": {},
   "source": [
    "# Answers to Frequently Asked Questions\n",
    "\n",
    "A PDF version of this FAQ is [FAQ.pdf](https://cpjobling.github.io/eg-247-textbook/FAQS/FAQ.pdf).\n",
    "\n",
    "## Acknowledgements\n",
    "\n",
    "I thank the following students who helped me to recognise the holes in my course notes and were the inspiration for these answers.\n",
    "\n",
    "* Charlotte Newman (Medical Engineering, 2020)\n",
    "\n",
    "## Harmonic frequencies\n",
    "\n",
    "\n",
    "*Fundamental frequency* -- A periodic signal $f(t) = f(t + nT),\\; n\\in \\mathbb{Z}$ has period $T$ s and a fundamental frequency $f_0 = 1/T$ Hz. When used in Fourier series and Fourier transforms, frequencies are expressed as $\\omega$ in radians/second. The **fundamental frequency** is $\\omega = \\Omega_0 = 2 \\pi f_0$ or, equivalently, $\\Omega_0 = 2 \\pi /T$ rad/s.\n",
    "\n",
    "*Harmonic frquencies* (or *Harmonics*) are simply integer multiples of the fundamental frequency $\\Omega_0$. So the zero-th harmonic is $\\Omega_0 = 0$ rad/s or DC. The first harmonic is $1.\\Omega_0 = \\Omega_0$, the second is $2 \\Omega_0$, the third $3 \\Omega_0$ etc. \n",
    "\n",
    "In general, we can express the $k$-th harmonic as $k\\Omega_0,\\; k\\in \\mathbb{Z}$."
   ]
  },
  {
   "cell_type": "markdown",
   "id": "b225aba5",
   "metadata": {},
   "source": [
    "## Line spectra\n",
    "\n",
    "In trig. Fourier series, the coefficients $a_k$ and $b_k$ are the amplitudes of the $\\cos(k\\Omega_0 t)$ and $\\sin(k \\Omega_0 t)$ terms respectively. We usually show these terms as lines (or *spectra*) with height $a_k$ and/or $b_k$ plotted against the harmonic frequency index $k$.\n",
    "\n",
    "An example of such a plot is reproduced from [Line Spectra for Trig. FS](https://cpjobling.github.io/eg-247-textbook/fourier_series/3/exp_fs2.html#line-spectra-for-trig-fs).\n",
    "\n",
    "![Line Spectra for a Tig. Fourier Series](pictures/line-spec.png)\n",
    "\n",
    "For exponential Fourier Series, the harmonic terms are defined as \n",
    "\n",
    "$$C_k \\exp(jk\\Omega_0 t)\\,k = -\\infty, \\dots, -2, -1, 0, 1, 2,\\ldots, \\infty.$$\n",
    "\n",
    "And $\\left|C_k\\right|$ and $\\angle C_k$ are plotted as the line spectra against $k$. Note that $C_{-k}$ and $C_k$ are complex conjugates $\\forall k > 0$. Hence, the spectrum will be symmetric around $k=0$.\n",
    "\n",
    "An example of such a plot is reproduced from [Line Spectra for Exp. FS](https://cpjobling.github.io/eg-247-textbook/fourier_series/3/exp_fs2.html#line-spectra-for-exp-fs).\n",
    "\n",
    "![Line Spectra for an Exp. Fourier Series](pictures/efs_sqw.png)"
   ]
  },
  {
   "cell_type": "markdown",
   "id": "c4f020d9",
   "metadata": {},
   "source": [
    "## Filter attenuation\n",
    "\n",
    "In the notes [Steady-State Response of an LTI System to a Periodic Signal](https://cpjobling.github.io/eg-247-textbook/fourier_series/3/exp_fs2.html#steady-state-response-of-an-lti-system-to-a-periodic-signal) we state (without proof) that the output of an LTI system to a periodic function with period $T$ represented by a Fourier series is given by:\n",
    "\n",
    "$$y(t)=\\sum_{k=-\\infty}^{\\infty} C_kH(jk\\Omega_0)e^{jk\\Omega_0 t}.$$\n",
    "\n",
    "Thus $y(t)$ is a Fourier series itself with coefficients $D_k$:\n",
    "\n",
    "$$D_k = C_kH(jk\\Omega_0).$$\n",
    "\n",
    "What is missing from this analaysis is a discussion of what $H(jk\\Omega_0)$ looks like.\n",
    "\n",
    "As an example, consider the simple first-order Butterworth low-pass (LP) filter with cut-off frequency $\\omega_c$:\n",
    "\n",
    "$$H(s) = \\frac{\\omega_c}{s + \\omega_c}$$\n",
    "\n",
    "For this filter\n",
    "\n",
    "$$H(j\\omega) = \\frac{\\omega_c}{j\\omega + \\omega_c}.$$\n",
    "\n",
    "Let us say that we wish to compute the attenuation and phase of this filter at $\\omega = \\Omega_0$.\n",
    "\n",
    "To compute the *magnitude*:\n",
    "$$\\begin{eqnarray*}\n",
    "\\left|H(j\\Omega_0)\\right| &=& \\left|\\frac{\\omega_c}{j\\Omega_0 + \\omega_c}\\right| \\\\\n",
    "& = & \\frac{\\omega_c}{\\sqrt{\\Omega_0^2 + \\omega_c^2}}\n",
    "\\end{eqnarray*}$$\n",
    "\n",
    "We note that is $\\left|H(j\\Omega_0\\right| \\lt 1$ so the filter will *attenuate* the incoming harmonic frequency. This will be true for all harmonics, so in general, for a LP filter:\n",
    "\n",
    "$$D_k = C_k\\left|H(jk\\Omega_0)\\right|   < C_k.$$\n",
    "\n",
    "The phase will be given by \n",
    "$$\\phi = \\angle H(j\\omega) = \\tan^{-1}\\left(\\frac{\\Im \\left( H(j\\omega)\\right)}{\\Re \\left(H(j(\\omega)\\right)}\\right)$$\n",
    "where\n",
    "$$\\begin{eqnarray*}\n",
    "H(jk\\Omega_0) &=& \\frac{\\omega_c^2}{(k\\Omega_0)^2 + \\omega_c^2} - j\\frac{k\\Omega_0\\omega_c}{(k\\Omega_0)^2 + \\omega_c^2}\\\\\n",
    "\\phi_k &=& \\tan^{-1}\\left(-\\frac{K\\Omega_0\\omega_c}{\\omega_c^2}\\right) \\\\\n",
    "&=& \\tan^{-1}\\left(-\\frac{k\\Omega_0}{\\omega_c}\\right) \n",
    "\\end{eqnarray*}\n",
    "$$\n",
    "\n",
    "Phases are additive so\n",
    "$$\\angle D_k = \\angle C_k + \\phi_k.$$\n",
    "\n",
    "By doing such analysis, we can examine the effect of a filter on a periodic signal, just by considering how the coefficients of the harmonic terms are changed (attenuated in magnitude and shifted in phase) by the filter."
   ]
  }
 ],
 "metadata": {
  "jupytext": {
   "formats": "ipynb,md:myst",
   "text_representation": {
    "extension": ".md",
    "format_name": "myst",
    "format_version": 0.13,
    "jupytext_version": "1.14.4"
   }
  },
  "kernelspec": {
   "display_name": "Python 3 (ipykernel)",
   "language": "python",
   "name": "python3"
  },
  "language_info": {
   "codemirror_mode": {
    "name": "ipython",
    "version": 3
   },
   "file_extension": ".py",
   "mimetype": "text/x-python",
   "name": "python",
   "nbconvert_exporter": "python",
   "pygments_lexer": "ipython3",
   "version": "3.9.13"
  },
  "source_map": [
   13,
   34,
   54
  ]
 },
 "nbformat": 4,
 "nbformat_minor": 5
}