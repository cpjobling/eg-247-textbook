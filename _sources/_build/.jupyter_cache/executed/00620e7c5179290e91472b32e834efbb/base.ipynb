{
 "cells": [
  {
   "cell_type": "code",
   "execution_count": 1,
   "id": "ffb02f36",
   "metadata": {
    "slideshow": {
     "slide_type": "subslide"
    }
   },
   "outputs": [
    {
     "name": "stdout",
     "output_type": "stream",
     "text": [
      "\n",
      "ans =\n",
      "\n",
      "    '/Users/eechris/code/src/github.com/cpjobling/eg-247-textbook/transfer_functions/matlab/convolution_demo'\n",
      "\n"
     ]
    }
   ],
   "source": [
    "clear all\n",
    "cd ../matlab/convolution_demo\n",
    "pwd"
   ]
  },
  {
   "cell_type": "code",
   "execution_count": 2,
   "id": "144cbb43",
   "metadata": {
    "slideshow": {
     "slide_type": "subslide"
    },
    "tags": [
     "remove-output"
    ]
   },
   "outputs": [
    {
     "name": "stdout",
     "output_type": "stream",
     "text": [
      "Warning: The EraseMode property is no longer supported and will error in a future release.\n"
     ]
    },
    {
     "name": "stdout",
     "output_type": "stream",
     "text": [
      "> In convolutiondemo>convolutiondemo_LayoutFcn (line 398)\n",
      "In convolutiondemo>gui_mainfcn (line 1181)\n",
      "In convolutiondemo (line 44)\n"
     ]
    }
   ],
   "source": [
    "convolutiondemo % ignore warnings"
   ]
  },
  {
   "cell_type": "code",
   "execution_count": 3,
   "id": "e12bfd29",
   "metadata": {
    "slideshow": {
     "slide_type": "notes"
    }
   },
   "outputs": [
    {
     "name": "stdout",
     "output_type": "stream",
     "text": [
      " \n"
     ]
    },
    {
     "name": "stdout",
     "output_type": "stream",
     "text": [
      "x1 =\n",
      " \n"
     ]
    },
    {
     "name": "stdout",
     "output_type": "stream",
     "text": [
      "1 - exp(-t)\n"
     ]
    },
    {
     "name": "stdout",
     "output_type": "stream",
     "text": [
      " \n"
     ]
    }
   ],
   "source": [
    "syms t tau\n",
    "x1=int(exp(-tau),tau,0,t)"
   ]
  },
  {
   "cell_type": "code",
   "execution_count": 4,
   "id": "a098a085",
   "metadata": {
    "slideshow": {
     "slide_type": "notes"
    }
   },
   "outputs": [
    {
     "name": "stdout",
     "output_type": "stream",
     "text": [
      " \n"
     ]
    },
    {
     "name": "stdout",
     "output_type": "stream",
     "text": [
      "x2 =\n"
     ]
    },
    {
     "name": "stdout",
     "output_type": "stream",
     "text": [
      " \n"
     ]
    },
    {
     "name": "stdout",
     "output_type": "stream",
     "text": [
      "exp(-t)*(exp(1) - 1)\n"
     ]
    },
    {
     "name": "stdout",
     "output_type": "stream",
     "text": [
      " \n"
     ]
    }
   ],
   "source": [
    "x2=int(exp(-tau),tau,t-1,t)"
   ]
  }
 ],
 "metadata": {
  "jupytext": {
   "formats": "ipynb,md:myst",
   "text_representation": {
    "extension": ".md",
    "format_name": "myst",
    "format_version": 0.13,
    "jupytext_version": "1.14.4"
   }
  },
  "kernelspec": {
   "display_name": "Matlab",
   "language": "matlab",
   "name": "matlab"
  },
  "language_info": {
   "codemirror_mode": "octave",
   "file_extension": ".m",
   "help_links": [
    {
     "text": "MetaKernel Magics",
     "url": "https://metakernel.readthedocs.io/en/latest/source/README.html"
    }
   ],
   "mimetype": "text/x-octave",
   "name": "matlab",
   "version": "0.17.1"
  },
  "source_map": [
   15,
   19,
   31,
   39,
   43,
   49,
   54,
   59,
   67,
   71,
   81,
   85,
   93,
   99,
   109,
   113,
   121,
   127,
   136,
   140,
   144,
   150,
   156,
   164,
   170,
   176,
   180,
   188,
   222,
   228,
   234,
   240,
   250,
   260,
   264,
   272,
   276,
   282,
   288,
   292,
   296,
   304,
   314,
   323,
   327,
   331,
   335,
   339,
   343,
   347,
   351,
   355,
   359,
   369,
   377,
   385,
   391,
   413,
   422,
   432,
   442,
   452,
   456,
   465,
   473,
   483,
   495,
   505,
   541,
   547,
   555,
   565,
   575,
   593
  ]
 },
 "nbformat": 4,
 "nbformat_minor": 5
}