{
 "cells": [
  {
   "cell_type": "code",
   "execution_count": 1,
   "id": "57db2cc2",
   "metadata": {
    "slideshow": {
     "slide_type": "slide"
    }
   },
   "outputs": [],
   "source": [
    "%% Lecturer: set up project for in class execution of exercise tests and activities\n",
    "\n",
    "% Setup MATLAB to use the PoleZeroAnalysis.mlx LiveScript and the polesApp.mlapp app in class.\n",
    "% I am assuming that this is on the MATLAB Drive\n",
    "\n",
    "format compact \n",
    "cd '/Users/eechris/MATLAB-Drive/Repositories/Transfer-Function-Analysis-of-Dynamic-Systems'\n",
    "open('TransferFunctions.prj')"
   ]
  },
  {
   "cell_type": "code",
   "execution_count": 2,
   "id": "12323c4c",
   "metadata": {
    "slideshow": {
     "slide_type": "subslide"
    }
   },
   "outputs": [],
   "source": [
    "format compact\n",
    "% Use these symbolic variables\n",
    "syms L R k_e J B k_m    % Constants\n",
    "syms Theta I s V        % Laplace domain variables\n",
    "% Write your laplace transform equation here\n",
    "eqn1 = NaN;"
   ]
  },
  {
   "cell_type": "code",
   "execution_count": 3,
   "id": "6069a46f",
   "metadata": {
    "slideshow": {
     "slide_type": "subslide"
    }
   },
   "outputs": [],
   "source": [
    "% Write your laplace transform equation here\n",
    "eqn2 = NaN;"
   ]
  },
  {
   "cell_type": "code",
   "execution_count": 4,
   "id": "a7087f0e",
   "metadata": {
    "slideshow": {
     "slide_type": "subslide"
    }
   },
   "outputs": [],
   "source": [
    "% Write your transfer function here\n",
    "ThetaOverV = NaN;"
   ]
  },
  {
   "cell_type": "code",
   "execution_count": 5,
   "id": "c80dfe5e",
   "metadata": {
    "slideshow": {
     "slide_type": "subslide"
    }
   },
   "outputs": [],
   "source": [
    "% Write your transfer function here\n",
    "OmegaOverV = NaN;"
   ]
  },
  {
   "cell_type": "code",
   "execution_count": 6,
   "id": "579887a1",
   "metadata": {
    "slideshow": {
     "slide_type": "subslide"
    }
   },
   "outputs": [],
   "source": [
    "open('polesApp.mlapp')"
   ]
  },
  {
   "cell_type": "code",
   "execution_count": 7,
   "id": "9a795edb",
   "metadata": {
    "slideshow": {
     "slide_type": "subslide"
    }
   },
   "outputs": [],
   "source": [
    "% Write your code here"
   ]
  },
  {
   "cell_type": "code",
   "execution_count": 8,
   "id": "1f03ee5b",
   "metadata": {
    "slideshow": {
     "slide_type": "subslide"
    }
   },
   "outputs": [],
   "source": [
    "% Write your code here"
   ]
  },
  {
   "cell_type": "code",
   "execution_count": 9,
   "id": "742ee7e6",
   "metadata": {
    "slideshow": {
     "slide_type": "notes"
    }
   },
   "outputs": [],
   "source": [
    "% Write your code here"
   ]
  },
  {
   "cell_type": "code",
   "execution_count": 10,
   "id": "4ec19dfd",
   "metadata": {
    "slideshow": {
     "slide_type": "fragment"
    }
   },
   "outputs": [],
   "source": [
    "open('PoleZeroAnalysis.mlx')"
   ]
  },
  {
   "cell_type": "code",
   "execution_count": 11,
   "id": "0bec8551",
   "metadata": {
    "slideshow": {
     "slide_type": "subslide"
    }
   },
   "outputs": [],
   "source": [
    "% Write your code here"
   ]
  },
  {
   "cell_type": "code",
   "execution_count": 12,
   "id": "7e428df7",
   "metadata": {
    "slideshow": {
     "slide_type": "subslide"
    }
   },
   "outputs": [],
   "source": [
    "% Write your code here"
   ]
  },
  {
   "cell_type": "code",
   "execution_count": 13,
   "id": "0f2b2cf9",
   "metadata": {
    "slideshow": {
     "slide_type": "subslide"
    }
   },
   "outputs": [
    {
     "name": "stdout",
     "output_type": "stream",
     "text": [
      "X(s) =\n"
     ]
    },
    {
     "name": "stdout",
     "output_type": "stream",
     "text": [
      "K/(omega_n^2 + 2*zeta*omega_n*s + s^2)\n"
     ]
    },
    {
     "name": "stdout",
     "output_type": "stream",
     "text": [
      "x(t) =\n"
     ]
    },
    {
     "name": "stdout",
     "output_type": "stream",
     "text": [
      "(K*exp(-omega_n*t*zeta)*sin(omega_n*t*(1 - zeta^2)^(1/2)))/(omega_n*(1 - zeta^2)^(1/2))\n"
     ]
    }
   ],
   "source": [
    "syms s zeta omega_n K X(s) x(t)\n",
    "X(s) = K/(s^2 + 2*zeta*omega_n*s + omega_n^2) \n",
    "x(t) = ilaplace(X) % The impulse response in the time domain"
   ]
  },
  {
   "cell_type": "code",
   "execution_count": 14,
   "id": "5b010036",
   "metadata": {
    "slideshow": {
     "slide_type": "subslide"
    }
   },
   "outputs": [],
   "source": [
    "% Use these symbolic variables\n",
    "syms m c k\n",
    "% Replace the NaNs with your expressions\n",
    "K = NaN;\n",
    "omega_n = NaN;\n",
    "zeta = NaN;"
   ]
  },
  {
   "cell_type": "code",
   "execution_count": 15,
   "id": "22b34371",
   "metadata": {
    "slideshow": {
     "slide_type": "subslide"
    }
   },
   "outputs": [],
   "source": [
    "% Write your answers here\n",
    "poles = NaN;\n",
    "pplus = NaN;\n",
    "pminus = NaN;"
   ]
  },
  {
   "cell_type": "code",
   "execution_count": null,
   "id": "72b103e7",
   "metadata": {},
   "outputs": [],
   "source": []
  }
 ],
 "metadata": {
  "jupytext": {
   "formats": "ipynb,md:myst",
   "text_representation": {
    "extension": ".md",
    "format_name": "myst",
    "format_version": 0.13,
    "jupytext_version": "1.15.2"
   }
  },
  "kernelspec": {
   "display_name": "Matlab",
   "language": "matlab",
   "name": "matlab"
  },
  "language_info": {
   "codemirror_mode": "octave",
   "file_extension": ".m",
   "help_links": [
    {
     "text": "MetaKernel Magics",
     "url": "https://metakernel.readthedocs.io/en/latest/source/README.html"
    }
   ],
   "mimetype": "text/x-octave",
   "name": "matlab",
   "version": "0.17.1"
  },
  "source_map": [
   15,
   20,
   30,
   36,
   46,
   61,
   65,
   71,
   78,
   82,
   87,
   97,
   105,
   115,
   123,
   131,
   139,
   145,
   152,
   165,
   178,
   185,
   194,
   205,
   214,
   225,
   234,
   239,
   249,
   254,
   258,
   262,
   266,
   270,
   275,
   281,
   289,
   296,
   304,
   314,
   325,
   332,
   336,
   342,
   346,
   356,
   366,
   373,
   379,
   387,
   397,
   405,
   414,
   422,
   432,
   437,
   442,
   447,
   464,
   468,
   476,
   486,
   498,
   507,
   514,
   523,
   533,
   541,
   548,
   552,
   559,
   565,
   572,
   578,
   588,
   594,
   603,
   613,
   620,
   630,
   637,
   643,
   647,
   652,
   658,
   663,
   673,
   686,
   692,
   703,
   713,
   723,
   778,
   825,
   831
  ]
 },
 "nbformat": 4,
 "nbformat_minor": 5
}