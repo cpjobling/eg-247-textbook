{
 "cells": [
  {
   "cell_type": "code",
   "execution_count": 1,
   "id": "7dea1a1c",
   "metadata": {
    "slideshow": {
     "slide_type": "subslide"
    }
   },
   "outputs": [],
   "source": [
    "syms m s k % Symbolic variable declarations\n",
    "% Record your answer here\n",
    "Vtf = NaN;"
   ]
  }
 ],
 "metadata": {
  "jupytext": {
   "formats": "ipynb,md:myst",
   "text_representation": {
    "extension": ".md",
    "format_name": "myst",
    "format_version": 0.13,
    "jupytext_version": "1.15.2"
   }
  },
  "kernelspec": {
   "display_name": "Matlab",
   "language": "matlab",
   "name": "matlab"
  },
  "language_info": {
   "codemirror_mode": "octave",
   "file_extension": ".m",
   "help_links": [
    {
     "text": "MetaKernel Magics",
     "url": "https://metakernel.readthedocs.io/en/latest/source/README.html"
    }
   ],
   "mimetype": "text/x-octave",
   "name": "matlab",
   "version": "0.17.1"
  },
  "source_map": [
   15,
   20,
   32,
   40,
   48,
   52,
   61,
   71,
   76,
   87,
   95,
   101,
   107,
   113,
   127,
   133,
   137,
   142,
   147,
   155,
   163,
   170,
   176,
   180,
   188,
   194,
   200,
   208,
   214,
   219,
   229,
   239,
   243,
   257,
   302,
   398,
   463
  ]
 },
 "nbformat": 4,
 "nbformat_minor": 5
}