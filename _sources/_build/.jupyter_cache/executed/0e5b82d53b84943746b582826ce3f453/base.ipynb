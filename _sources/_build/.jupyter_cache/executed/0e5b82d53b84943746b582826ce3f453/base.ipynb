{
 "cells": [
  {
   "cell_type": "code",
   "execution_count": 1,
   "id": "0293e08d",
   "metadata": {
    "slideshow": {
     "slide_type": "slide"
    }
   },
   "outputs": [],
   "source": [
    "%% Lecturer: set up project for in class execution of exercise tests and activities\n",
    "\n",
    "% Setup MATLAB to use the PoleZeroAnalysis.mlx LiveScript and the polesApp.mlapp app in class.\n",
    "% I am assuming that this is on the MATLAB Drive\n",
    "\n",
    "format compact \n",
    "cd '/Users/eechris/MATLAB-Drive/Repositories/Transfer-Function-Analysis-of-Dynamic-Systems'\n",
    "open('TransferFunctions.prj')"
   ]
  },
  {
   "cell_type": "code",
   "execution_count": 2,
   "id": "6f0f414a",
   "metadata": {
    "slideshow": {
     "slide_type": "subslide"
    }
   },
   "outputs": [],
   "source": [
    "format compact\n",
    "% Use these symbolic variables\n",
    "syms L R k_e J B k_m    % Constants\n",
    "syms Theta I s V        % Laplace domain variables\n",
    "% Write your laplace transform equation here\n",
    "eqn1 = NaN;"
   ]
  },
  {
   "cell_type": "code",
   "execution_count": 3,
   "id": "43794148",
   "metadata": {
    "slideshow": {
     "slide_type": "subslide"
    }
   },
   "outputs": [],
   "source": [
    "% Write your laplace transform equation here\n",
    "eqn2 = NaN;"
   ]
  },
  {
   "cell_type": "code",
   "execution_count": 4,
   "id": "3fffe888",
   "metadata": {
    "slideshow": {
     "slide_type": "subslide"
    }
   },
   "outputs": [],
   "source": [
    "% Write your transfer function here\n",
    "ThetaOverV = NaN;"
   ]
  },
  {
   "cell_type": "code",
   "execution_count": 5,
   "id": "21235e04",
   "metadata": {
    "slideshow": {
     "slide_type": "subslide"
    }
   },
   "outputs": [],
   "source": [
    "% Write your transfer function here\n",
    "OmegaOverV = NaN;"
   ]
  },
  {
   "cell_type": "code",
   "execution_count": 6,
   "id": "f62fff27",
   "metadata": {
    "slideshow": {
     "slide_type": "subslide"
    }
   },
   "outputs": [],
   "source": [
    "open('polesApp.mlapp')"
   ]
  },
  {
   "cell_type": "code",
   "execution_count": 7,
   "id": "f7f1abe6",
   "metadata": {
    "slideshow": {
     "slide_type": "subslide"
    }
   },
   "outputs": [],
   "source": [
    "% Write your code here"
   ]
  },
  {
   "cell_type": "code",
   "execution_count": 8,
   "id": "a8273804",
   "metadata": {
    "slideshow": {
     "slide_type": "subslide"
    }
   },
   "outputs": [],
   "source": [
    "% Write your code here"
   ]
  },
  {
   "cell_type": "code",
   "execution_count": 9,
   "id": "5feff7aa",
   "metadata": {
    "slideshow": {
     "slide_type": "notes"
    }
   },
   "outputs": [],
   "source": [
    "% Write your code here"
   ]
  },
  {
   "cell_type": "code",
   "execution_count": 10,
   "id": "de1502a1",
   "metadata": {
    "slideshow": {
     "slide_type": "fragment"
    }
   },
   "outputs": [],
   "source": [
    "open('PoleZeroAnalysis.mlx')"
   ]
  },
  {
   "cell_type": "code",
   "execution_count": 11,
   "id": "2d1a3b67",
   "metadata": {
    "slideshow": {
     "slide_type": "subslide"
    }
   },
   "outputs": [],
   "source": [
    "% Write your code here"
   ]
  },
  {
   "cell_type": "code",
   "execution_count": 12,
   "id": "081c395f",
   "metadata": {
    "slideshow": {
     "slide_type": "subslide"
    }
   },
   "outputs": [],
   "source": [
    "% Write your code here"
   ]
  },
  {
   "cell_type": "code",
   "execution_count": 13,
   "id": "68731fe5",
   "metadata": {
    "slideshow": {
     "slide_type": "subslide"
    }
   },
   "outputs": [
    {
     "name": "stdout",
     "output_type": "stream",
     "text": [
      "X(s) =\n"
     ]
    },
    {
     "name": "stdout",
     "output_type": "stream",
     "text": [
      "K/(omega_n^2 + 2*zeta*omega_n*s + s^2)\n"
     ]
    },
    {
     "name": "stdout",
     "output_type": "stream",
     "text": [
      "x(t) =\n"
     ]
    },
    {
     "name": "stdout",
     "output_type": "stream",
     "text": [
      "(K*exp(-omega_n*t*zeta)*sin(omega_n*t*(1 - zeta^2)^(1/2)))/(omega_n*(1 - zeta^2)^(1/2))\n"
     ]
    }
   ],
   "source": [
    "syms s zeta omega_n K X(s) x(t)\n",
    "X(s) = K/(s^2 + 2*zeta*omega_n*s + omega_n^2) \n",
    "x(t) = ilaplace(X) % The impulse response in the time domain"
   ]
  },
  {
   "cell_type": "code",
   "execution_count": 14,
   "id": "e702652f",
   "metadata": {
    "slideshow": {
     "slide_type": "subslide"
    }
   },
   "outputs": [],
   "source": [
    "% Use these symbolic variables\n",
    "syms m c k\n",
    "% Replace the NaNs with your expressions\n",
    "K = NaN;\n",
    "omega_n = NaN;\n",
    "zeta = NaN;"
   ]
  },
  {
   "cell_type": "code",
   "execution_count": 15,
   "id": "a8d13ae2",
   "metadata": {
    "slideshow": {
     "slide_type": "subslide"
    }
   },
   "outputs": [],
   "source": [
    "% Write your answers here\n",
    "poles = NaN;\n",
    "pplus = NaN;\n",
    "pminus = NaN;"
   ]
  },
  {
   "cell_type": "code",
   "execution_count": 16,
   "id": "01bd304a",
   "metadata": {
    "slideshow": {
     "slide_type": "subslide"
    }
   },
   "outputs": [],
   "source": [
    "open('polesApp.mlapp')"
   ]
  },
  {
   "cell_type": "code",
   "execution_count": 17,
   "id": "b28df5dd",
   "metadata": {
    "slideshow": {
     "slide_type": "subslide"
    }
   },
   "outputs": [
    {
     "name": "stdout",
     "output_type": "stream",
     "text": [
      "x =\n",
      "   NaN\n"
     ]
    }
   ],
   "source": [
    "% Use these symbolic variables\n",
    "syms s z_0 t positive \n",
    "% Write your solution here\n",
    "x = NaN"
   ]
  },
  {
   "cell_type": "code",
   "execution_count": 18,
   "id": "f5689751",
   "metadata": {
    "slideshow": {
     "slide_type": "subslide"
    }
   },
   "outputs": [],
   "source": [
    "% Create your plot here"
   ]
  },
  {
   "cell_type": "code",
   "execution_count": 19,
   "id": "443f2f95",
   "metadata": {
    "slideshow": {
     "slide_type": "subslide"
    }
   },
   "outputs": [
    {
     "name": "stdout",
     "output_type": "stream",
     "text": [
      "tlim =\n",
      "   NaN\n"
     ]
    }
   ],
   "source": [
    "% Write your solution here\n",
    "tlim = NaN"
   ]
  }
 ],
 "metadata": {
  "jupytext": {
   "formats": "ipynb,md:myst",
   "text_representation": {
    "extension": ".md",
    "format_name": "myst",
    "format_version": 0.13,
    "jupytext_version": "1.15.2"
   }
  },
  "kernelspec": {
   "display_name": "Matlab",
   "language": "matlab",
   "name": "matlab"
  },
  "language_info": {
   "codemirror_mode": "octave",
   "file_extension": ".m",
   "help_links": [
    {
     "text": "MetaKernel Magics",
     "url": "https://metakernel.readthedocs.io/en/latest/source/README.html"
    }
   ],
   "mimetype": "text/x-octave",
   "name": "matlab",
   "version": "0.17.1"
  },
  "source_map": [
   15,
   20,
   30,
   36,
   46,
   61,
   65,
   71,
   78,
   82,
   87,
   97,
   105,
   115,
   123,
   131,
   139,
   145,
   152,
   165,
   178,
   185,
   194,
   205,
   214,
   225,
   234,
   239,
   249,
   254,
   258,
   262,
   266,
   270,
   275,
   281,
   289,
   296,
   304,
   314,
   325,
   332,
   336,
   342,
   346,
   356,
   366,
   373,
   379,
   387,
   397,
   405,
   414,
   422,
   432,
   437,
   442,
   447,
   464,
   468,
   476,
   486,
   498,
   507,
   514,
   523,
   533,
   541,
   548,
   552,
   559,
   565,
   572,
   578,
   588,
   594,
   603,
   613,
   620,
   630,
   637,
   643,
   647,
   652,
   658,
   663,
   673,
   686,
   692,
   703,
   713,
   723,
   731,
   743,
   749,
   760,
   770,
   774,
   782,
   791,
   798,
   810,
   816,
   827,
   833,
   841,
   847,
   856,
   866,
   872,
   919
  ]
 },
 "nbformat": 4,
 "nbformat_minor": 5
}