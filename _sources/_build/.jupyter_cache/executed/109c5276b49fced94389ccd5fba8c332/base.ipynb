{
 "cells": [
  {
   "cell_type": "code",
   "execution_count": 1,
   "id": "c0d47342",
   "metadata": {
    "slideshow": {
     "slide_type": "skip"
    }
   },
   "outputs": [],
   "source": [
    "%% Lecturer: set up the TransferFunctions project for in class execution of exercise tests and activities.\n",
    "\n",
    "% Setup MATLAB to use the PoleZeroAnalysis.mlx LiveScript and the polesApp.mlapp app in class.\n",
    "% I am assuming that this is on the MATLAB Drive\n",
    "\n",
    "format compact \n",
    "% Change this to local set up where this Jupyter book is run\n",
    "cd '/Users/eechris/MATLAB-Drive/Repositories/Transfer-Function-Analysis-of-Dynamic-Systems'\n",
    "open('TransferFunctions.prj')"
   ]
  },
  {
   "cell_type": "code",
   "execution_count": 2,
   "id": "cfee2e88",
   "metadata": {
    "slideshow": {
     "slide_type": "subslide"
    }
   },
   "outputs": [],
   "source": [
    "format compact\n",
    "% Use these symbolic variables\n",
    "syms L R k_e J B k_m    % Constants\n",
    "syms Theta I s V        % Laplace domain variables\n",
    "% Write your laplace transform equation here\n",
    "eqn1 = NaN;"
   ]
  },
  {
   "cell_type": "code",
   "execution_count": 3,
   "id": "961f92b2",
   "metadata": {
    "slideshow": {
     "slide_type": "subslide"
    }
   },
   "outputs": [],
   "source": [
    "% Write your laplace transform equation here\n",
    "eqn2 = NaN;"
   ]
  },
  {
   "cell_type": "code",
   "execution_count": 4,
   "id": "84dfb8a0",
   "metadata": {
    "slideshow": {
     "slide_type": "subslide"
    }
   },
   "outputs": [],
   "source": [
    "% Write your transfer function here\n",
    "ThetaOverV = NaN;"
   ]
  },
  {
   "cell_type": "code",
   "execution_count": 5,
   "id": "4a6c8d97",
   "metadata": {
    "slideshow": {
     "slide_type": "subslide"
    }
   },
   "outputs": [],
   "source": [
    "% Write your transfer function here\n",
    "OmegaOverV = NaN;"
   ]
  },
  {
   "cell_type": "code",
   "execution_count": 6,
   "id": "cd96ecd8",
   "metadata": {
    "slideshow": {
     "slide_type": "subslide"
    }
   },
   "outputs": [],
   "source": [
    "open('polesApp.mlapp')"
   ]
  },
  {
   "cell_type": "code",
   "execution_count": 7,
   "id": "fd379d28",
   "metadata": {
    "slideshow": {
     "slide_type": "subslide"
    }
   },
   "outputs": [
    {
     "name": "stdout",
     "output_type": "stream",
     "text": [
      "\n",
      "G =\n"
     ]
    },
    {
     "name": "stdout",
     "output_type": "stream",
     "text": [
      " \n"
     ]
    },
    {
     "name": "stdout",
     "output_type": "stream",
     "text": [
      "         60\n"
     ]
    },
    {
     "name": "stdout",
     "output_type": "stream",
     "text": [
      "  ----------------\n"
     ]
    },
    {
     "name": "stdout",
     "output_type": "stream",
     "text": [
      "  s^2 + 2.3 s + 11\n"
     ]
    },
    {
     "name": "stdout",
     "output_type": "stream",
     "text": [
      " \n"
     ]
    },
    {
     "name": "stdout",
     "output_type": "stream",
     "text": [
      "Continuous-time transfer function.\n"
     ]
    }
   ],
   "source": [
    "% Write your code here\n",
    "g = 60; b = 2.3; c = 11;\n",
    "G = tf([0 0 g],[1 b c])"
   ]
  },
  {
   "cell_type": "code",
   "execution_count": 8,
   "id": "3c0fbc49",
   "metadata": {
    "slideshow": {
     "slide_type": "subslide"
    }
   },
   "outputs": [
    {
     "data": {
      "image/png": "[encoded data removed]",
      "text/plain": [
       "<IPython.core.display.Image object>"
      ]
     },
     "metadata": {},
     "output_type": "display_data"
    }
   ],
   "source": [
    "% Write your code here\n",
    "pzmap(G)"
   ]
  },
  {
   "cell_type": "code",
   "execution_count": 9,
   "id": "13d8923f",
   "metadata": {
    "slideshow": {
     "slide_type": "notes"
    }
   },
   "outputs": [
    {
     "name": "stdout",
     "output_type": "stream",
     "text": [
      "ans =\n",
      "  -1.1500 + 3.1109i\n",
      "  -1.1500 - 3.1109i\n"
     ]
    }
   ],
   "source": [
    "% Write your code here\n",
    "pole(G)"
   ]
  },
  {
   "cell_type": "code",
   "execution_count": 10,
   "id": "e872d772",
   "metadata": {
    "slideshow": {
     "slide_type": "fragment"
    }
   },
   "outputs": [],
   "source": [
    "open('PoleZeroAnalysis.mlx')"
   ]
  },
  {
   "cell_type": "code",
   "execution_count": 11,
   "id": "97d71e8f",
   "metadata": {
    "slideshow": {
     "slide_type": "subslide"
    }
   },
   "outputs": [
    {
     "name": "stdout",
     "output_type": "stream",
     "text": [
      "p =\n",
      "  -1.1500 + 3.1109i\n",
      "  -1.1500 - 3.1109i\n"
     ]
    },
    {
     "name": "stdout",
     "output_type": "stream",
     "text": [
      "wn =\n",
      "    3.3166\n",
      "    3.3166\n"
     ]
    }
   ],
   "source": [
    "% Write your code here\n",
    "p = pole(G)\n",
    "wn = abs(p) % rad/s"
   ]
  },
  {
   "cell_type": "code",
   "execution_count": 12,
   "id": "32b056ca",
   "metadata": {
    "slideshow": {
     "slide_type": "subslide"
    }
   },
   "outputs": [
    {
     "name": "stdout",
     "output_type": "stream",
     "text": [
      "                                                                       \n",
      "         Pole              Damping       Frequency      Time Constant  \n",
      "                                       (rad/seconds)      (seconds)    \n",
      "                                                                       \n",
      " -1.15e+00 + 3.11e+00i     3.47e-01       3.32e+00         8.70e-01    \n",
      " -1.15e+00 - 3.11e+00i     3.47e-01       3.32e+00         8.70e-01    \n"
     ]
    }
   ],
   "source": [
    "% Write your code here\n",
    "damp(G)"
   ]
  },
  {
   "cell_type": "code",
   "execution_count": 13,
   "id": "b6038153",
   "metadata": {
    "slideshow": {
     "slide_type": "subslide"
    }
   },
   "outputs": [
    {
     "name": "stdout",
     "output_type": "stream",
     "text": [
      "X(s) =\n"
     ]
    },
    {
     "name": "stdout",
     "output_type": "stream",
     "text": [
      "K/(omega_n^2 + 2*zeta*omega_n*s + s^2)\n"
     ]
    },
    {
     "name": "stdout",
     "output_type": "stream",
     "text": [
      "x(t) =\n"
     ]
    },
    {
     "name": "stdout",
     "output_type": "stream",
     "text": [
      "(K*exp(-omega_n*t*zeta)*sin(omega_n*t*(1 - zeta^2)^(1/2)))/(omega_n*(1 - zeta^2)^(1/2))\n"
     ]
    }
   ],
   "source": [
    "syms s zeta omega_n K X(s) x(t)\n",
    "X(s) = K/(s^2 + 2*zeta*omega_n*s + omega_n^2) \n",
    "x(t) = ilaplace(X) % The impulse response in the time domain"
   ]
  },
  {
   "cell_type": "code",
   "execution_count": 14,
   "id": "c145142f",
   "metadata": {
    "slideshow": {
     "slide_type": "subslide"
    }
   },
   "outputs": [],
   "source": [
    "% Use these symbolic variables\n",
    "syms m c k\n",
    "% Replace the NaNs with your expressions\n",
    "K = NaN;\n",
    "omega_n = NaN;\n",
    "zeta = NaN;"
   ]
  },
  {
   "cell_type": "code",
   "execution_count": 15,
   "id": "6fa77426",
   "metadata": {
    "slideshow": {
     "slide_type": "subslide"
    }
   },
   "outputs": [],
   "source": [
    "% Write your answers here\n",
    "poles = NaN;\n",
    "pplus = NaN;\n",
    "pminus = NaN;"
   ]
  },
  {
   "cell_type": "code",
   "execution_count": 16,
   "id": "b37ae84d",
   "metadata": {
    "slideshow": {
     "slide_type": "subslide"
    }
   },
   "outputs": [],
   "source": [
    "open('polesApp.mlapp')"
   ]
  },
  {
   "cell_type": "code",
   "execution_count": 17,
   "id": "95b55550",
   "metadata": {
    "slideshow": {
     "slide_type": "subslide"
    }
   },
   "outputs": [
    {
     "name": "stdout",
     "output_type": "stream",
     "text": [
      "x =\n",
      "   NaN\n"
     ]
    }
   ],
   "source": [
    "% Use these symbolic variables\n",
    "syms s z_0 t positive \n",
    "% Write your solution here\n",
    "x = NaN"
   ]
  },
  {
   "cell_type": "code",
   "execution_count": 18,
   "id": "4972887e",
   "metadata": {
    "slideshow": {
     "slide_type": "subslide"
    }
   },
   "outputs": [],
   "source": [
    "% Create your plot here"
   ]
  },
  {
   "cell_type": "code",
   "execution_count": 19,
   "id": "e050872a",
   "metadata": {
    "slideshow": {
     "slide_type": "subslide"
    }
   },
   "outputs": [
    {
     "name": "stdout",
     "output_type": "stream",
     "text": [
      "tlim =\n",
      "   NaN\n"
     ]
    }
   ],
   "source": [
    "% Write your solution here\n",
    "tlim = NaN"
   ]
  }
 ],
 "metadata": {
  "jupytext": {
   "formats": "ipynb,md:myst",
   "text_representation": {
    "extension": ".md",
    "format_name": "myst",
    "format_version": 0.13,
    "jupytext_version": "1.15.2"
   }
  },
  "kernelspec": {
   "display_name": "Matlab",
   "language": "matlab",
   "name": "matlab"
  },
  "language_info": {
   "codemirror_mode": "octave",
   "file_extension": ".m",
   "help_links": [
    {
     "text": "MetaKernel Magics",
     "url": "https://metakernel.readthedocs.io/en/latest/source/README.html"
    }
   ],
   "mimetype": "text/x-octave",
   "name": "matlab",
   "version": "0.17.1"
  },
  "source_map": [
   15,
   20,
   30,
   36,
   46,
   62,
   66,
   74,
   82,
   86,
   92,
   102,
   110,
   120,
   128,
   136,
   144,
   150,
   157,
   170,
   183,
   190,
   199,
   210,
   219,
   230,
   239,
   244,
   254,
   259,
   263,
   267,
   271,
   275,
   280,
   286,
   294,
   301,
   309,
   319,
   330,
   337,
   341,
   347,
   351,
   361,
   368,
   379,
   385,
   395,
   405,
   414,
   423,
   432,
   442,
   447,
   452,
   457,
   474,
   478,
   486,
   496,
   508,
   518,
   525,
   534,
   544,
   552,
   559,
   563,
   570,
   576,
   583,
   589,
   599,
   605,
   614,
   624,
   631,
   641,
   648,
   655,
   659,
   664,
   670,
   675,
   685,
   698,
   704,
   715,
   725,
   735,
   743,
   749,
   761,
   772,
   782,
   786,
   794,
   803,
   810,
   823,
   829,
   840,
   846,
   854,
   860,
   869,
   879,
   892,
   898,
   946
  ]
 },
 "nbformat": 4,
 "nbformat_minor": 5
}