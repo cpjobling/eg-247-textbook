{
 "cells": [],
 "metadata": {
  "jupytext": {
   "formats": "ipynb,md:myst",
   "text_representation": {
    "extension": ".md",
    "format_name": "myst",
    "format_version": 0.13,
    "jupytext_version": "1.14.4"
   }
  },
  "kernelspec": {
   "display_name": "MKernel",
   "language": "matlab",
   "name": "mkernel"
  },
  "language_info": {
   "file_extension": ".m",
   "mimetype": "text/x-matlab",
   "name": "matlab"
  },
  "source_map": [
   13,
   17,
   27,
   43,
   57,
   65,
   85,
   91,
   99,
   105,
   121,
   149,
   165
  ]
 },
 "nbformat": 4,
 "nbformat_minor": 5
}