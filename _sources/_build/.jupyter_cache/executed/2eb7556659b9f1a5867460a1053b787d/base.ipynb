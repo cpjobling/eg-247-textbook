{
 "cells": [],
 "metadata": {
  "jupytext": {
   "formats": "md:myst,ipynb",
   "text_representation": {
    "extension": ".md",
    "format_name": "myst",
    "format_version": 0.13,
    "jupytext_version": "1.11.5"
   }
  },
  "kernelspec": {
   "display_name": "Python 3 (ipykernel)",
   "language": "python",
   "name": "python3"
  },
  "language_info": {
   "codemirror_mode": {
    "name": "ipython",
    "version": 3
   },
   "file_extension": ".py",
   "mimetype": "text/x-python",
   "name": "python",
   "nbconvert_exporter": "python",
   "pygments_lexer": "ipython3",
   "version": "3.9.7"
  },
  "source_map": [
   15,
   26,
   38,
   46,
   50,
   54,
   58,
   62,
   66,
   70,
   74,
   78,
   84,
   90,
   101,
   111,
   115,
   121,
   127,
   133,
   139,
   147,
   158,
   168,
   174,
   178,
   190,
   198,
   204,
   210,
   216,
   222,
   232,
   243,
   249,
   270,
   282,
   288
  ]
 },
 "nbformat": 4,
 "nbformat_minor": 5
}