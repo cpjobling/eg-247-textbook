{
 "cells": [
  {
   "cell_type": "code",
   "execution_count": 1,
   "id": "9aec52e4",
   "metadata": {},
   "outputs": [],
   "source": [
    "%% Lecturer: set up the TransferFunctions project for in class execution of exercise tests and activities.\n",
    "\n",
    "% Setup MATLAB to use the ConceptReview.mlx LiveScript in class.\n",
    "% I am assuming that this is on the MATLAB Drive\n",
    "\n",
    "format compact \n",
    "% Change this to local set up where this Jupyter book is run\n",
    "cd '/Users/eechris/MATLAB-Drive/Repositories/Transfer-Function-Analysis-of-Dynamic-Systems'\n",
    "open('TransferFunctions.prj')"
   ]
  },
  {
   "cell_type": "code",
   "execution_count": 2,
   "id": "98d4c2e5",
   "metadata": {
    "slideshow": {
     "slide_type": "fragment"
    }
   },
   "outputs": [],
   "source": [
    "format compact % use less white space in outputs\n",
    "syms t s\n",
    "syms a positive"
   ]
  },
  {
   "cell_type": "code",
   "execution_count": 3,
   "id": "ea731beb",
   "metadata": {
    "slideshow": {
     "slide_type": "fragment"
    }
   },
   "outputs": [
    {
     "name": "stdout",
     "output_type": "stream",
     "text": [
      "f =\n"
     ]
    },
    {
     "name": "stdout",
     "output_type": "stream",
     "text": [
      "heaviside(t - a)\n"
     ]
    }
   ],
   "source": [
    "f = heaviside(t - a)"
   ]
  },
  {
   "cell_type": "code",
   "execution_count": 4,
   "id": "34cb7abb",
   "metadata": {},
   "outputs": [
    {
     "name": "stdout",
     "output_type": "stream",
     "text": [
      "Fs =\n"
     ]
    },
    {
     "name": "stdout",
     "output_type": "stream",
     "text": [
      "exp(-a*s)/s\n"
     ]
    }
   ],
   "source": [
    "Fs = laplace(f, t, s)"
   ]
  },
  {
   "cell_type": "code",
   "execution_count": 5,
   "id": "7653aba3",
   "metadata": {
    "slideshow": {
     "slide_type": "subslide"
    }
   },
   "outputs": [],
   "source": [
    "% Symbolic variable declarations\n",
    "syms t s\n",
    "syms a positive"
   ]
  },
  {
   "cell_type": "code",
   "execution_count": 6,
   "id": "0bb01f73",
   "metadata": {
    "slideshow": {
     "slide_type": "fragment"
    }
   },
   "outputs": [
    {
     "name": "stdout",
     "output_type": "stream",
     "text": [
      "f =\n",
      "     1\n"
     ]
    },
    {
     "name": "stdout",
     "output_type": "stream",
     "text": [
      "Fs =\n"
     ]
    },
    {
     "name": "stdout",
     "output_type": "stream",
     "text": [
      "1/s\n"
     ]
    }
   ],
   "source": [
    "f = 1\n",
    "Fs = laplace(f,t,s)"
   ]
  },
  {
   "cell_type": "code",
   "execution_count": 7,
   "id": "1ebb1e5b",
   "metadata": {
    "slideshow": {
     "slide_type": "fragment"
    }
   },
   "outputs": [
    {
     "name": "stdout",
     "output_type": "stream",
     "text": [
      "f =\n"
     ]
    },
    {
     "name": "stdout",
     "output_type": "stream",
     "text": [
      "exp(-a*t)\n"
     ]
    },
    {
     "name": "stdout",
     "output_type": "stream",
     "text": [
      "Fs =\n"
     ]
    },
    {
     "name": "stdout",
     "output_type": "stream",
     "text": [
      "1/(a + s)\n"
     ]
    }
   ],
   "source": [
    "f = exp(-a*t)\n",
    "Fs = laplace(exp(-a*t))"
   ]
  },
  {
   "cell_type": "code",
   "execution_count": 8,
   "id": "2ea4e303",
   "metadata": {
    "slideshow": {
     "slide_type": "fragment"
    }
   },
   "outputs": [
    {
     "name": "stdout",
     "output_type": "stream",
     "text": [
      "f =\n"
     ]
    },
    {
     "name": "stdout",
     "output_type": "stream",
     "text": [
      "t\n"
     ]
    },
    {
     "name": "stdout",
     "output_type": "stream",
     "text": [
      "Fs =\n"
     ]
    },
    {
     "name": "stdout",
     "output_type": "stream",
     "text": [
      "1/s^2\n"
     ]
    }
   ],
   "source": [
    "f = t\n",
    "Fs = laplace(f, t, s)"
   ]
  },
  {
   "cell_type": "code",
   "execution_count": 9,
   "id": "6801c4fa",
   "metadata": {
    "slideshow": {
     "slide_type": "fragment"
    }
   },
   "outputs": [
    {
     "name": "stdout",
     "output_type": "stream",
     "text": [
      "f =\n"
     ]
    },
    {
     "name": "stdout",
     "output_type": "stream",
     "text": [
      "dirac(a - t)\n"
     ]
    },
    {
     "name": "stdout",
     "output_type": "stream",
     "text": [
      "Fs =\n"
     ]
    },
    {
     "name": "stdout",
     "output_type": "stream",
     "text": [
      "exp(-a*s)\n"
     ]
    }
   ],
   "source": [
    "f = dirac(t - a)\n",
    "Fs = laplace(f, t, s)"
   ]
  },
  {
   "cell_type": "code",
   "execution_count": 10,
   "id": "59e84040",
   "metadata": {
    "slideshow": {
     "slide_type": "fragment"
    }
   },
   "outputs": [
    {
     "name": "stdout",
     "output_type": "stream",
     "text": [
      "f =\n"
     ]
    },
    {
     "name": "stdout",
     "output_type": "stream",
     "text": [
      "cos(t)\n"
     ]
    },
    {
     "name": "stdout",
     "output_type": "stream",
     "text": [
      "Fs =\n"
     ]
    },
    {
     "name": "stdout",
     "output_type": "stream",
     "text": [
      "s/(s^2 + 1)\n"
     ]
    }
   ],
   "source": [
    "f = cos(t)\n",
    "Fs = laplace(f, t, s)"
   ]
  },
  {
   "cell_type": "code",
   "execution_count": 11,
   "id": "5f4f0353",
   "metadata": {
    "slideshow": {
     "slide_type": "fragment"
    }
   },
   "outputs": [
    {
     "name": "stdout",
     "output_type": "stream",
     "text": [
      "f =\n"
     ]
    },
    {
     "name": "stdout",
     "output_type": "stream",
     "text": [
      "t^2*exp(-a*t)\n"
     ]
    },
    {
     "name": "stdout",
     "output_type": "stream",
     "text": [
      "Fs =\n"
     ]
    },
    {
     "name": "stdout",
     "output_type": "stream",
     "text": [
      "2/(a + s)^3\n"
     ]
    }
   ],
   "source": [
    "f = t^2 * exp(-a*t)\n",
    "Fs = laplace(f, t, s)"
   ]
  },
  {
   "cell_type": "code",
   "execution_count": 12,
   "id": "3ffbb1fa",
   "metadata": {
    "slideshow": {
     "slide_type": "fragment"
    }
   },
   "outputs": [
    {
     "name": "stdout",
     "output_type": "stream",
     "text": [
      "f =\n"
     ]
    },
    {
     "name": "stdout",
     "output_type": "stream",
     "text": [
      "exp(-a*t)*sin(t)\n"
     ]
    },
    {
     "name": "stdout",
     "output_type": "stream",
     "text": [
      "Fs =\n"
     ]
    },
    {
     "name": "stdout",
     "output_type": "stream",
     "text": [
      "1/((a + s)^2 + 1)\n"
     ]
    }
   ],
   "source": [
    "f = exp(-a*t) * sin(t)\n",
    "Fs = laplace(f, t, s)"
   ]
  },
  {
   "cell_type": "code",
   "execution_count": 13,
   "id": "81077da3",
   "metadata": {
    "slideshow": {
     "slide_type": "subslide"
    }
   },
   "outputs": [],
   "source": [
    "open('ConceptReview.mlx')"
   ]
  },
  {
   "cell_type": "code",
   "execution_count": 14,
   "id": "d03a546f",
   "metadata": {
    "slideshow": {
     "slide_type": "fragment"
    }
   },
   "outputs": [],
   "source": [
    "syms f(t)"
   ]
  },
  {
   "cell_type": "code",
   "execution_count": 15,
   "id": "7a3ca5df",
   "metadata": {
    "slideshow": {
     "slide_type": "fragment"
    }
   },
   "outputs": [
    {
     "name": "stdout",
     "output_type": "stream",
     "text": [
      "dfdt(t) =\n"
     ]
    },
    {
     "name": "stdout",
     "output_type": "stream",
     "text": [
      "diff(f(t), t)\n"
     ]
    }
   ],
   "source": [
    "syms t f(t)\n",
    "dfdt = diff(f)"
   ]
  },
  {
   "cell_type": "code",
   "execution_count": 16,
   "id": "e88678b4",
   "metadata": {
    "slideshow": {
     "slide_type": "fragment"
    }
   },
   "outputs": [
    {
     "name": "stdout",
     "output_type": "stream",
     "text": [
      "Fs =\n"
     ]
    },
    {
     "name": "stdout",
     "output_type": "stream",
     "text": [
      "s*laplace(f(t), t, s) - f(0)\n"
     ]
    }
   ],
   "source": [
    "Fs = laplace(dfdt)"
   ]
  },
  {
   "cell_type": "code",
   "execution_count": 17,
   "id": "f75ee046",
   "metadata": {
    "slideshow": {
     "slide_type": "fragment"
    }
   },
   "outputs": [
    {
     "name": "stdout",
     "output_type": "stream",
     "text": [
      "d2fdt2(t) =\n"
     ]
    },
    {
     "name": "stdout",
     "output_type": "stream",
     "text": [
      "diff(f(t), t, t)\n"
     ]
    }
   ],
   "source": [
    "syms t f(t) % Definitions of the symbolic variables\n",
    "% Perform your symbolic computations here\n",
    "d2fdt2 = diff(f,2)"
   ]
  },
  {
   "cell_type": "code",
   "execution_count": 18,
   "id": "dbe833dd",
   "metadata": {
    "slideshow": {
     "slide_type": "fragment"
    }
   },
   "outputs": [
    {
     "name": "stdout",
     "output_type": "stream",
     "text": [
      "Fs =\n"
     ]
    },
    {
     "name": "stdout",
     "output_type": "stream",
     "text": [
      "s^2*laplace(f(t), t, s) - subs(diff(f(t), t), t, 0) - s*f(0)\n"
     ]
    }
   ],
   "source": [
    "Fs = laplace(d2fdt2)"
   ]
  },
  {
   "cell_type": "code",
   "execution_count": 19,
   "id": "94542610",
   "metadata": {
    "slideshow": {
     "slide_type": "subslide"
    }
   },
   "outputs": [
    {
     "name": "stdout",
     "output_type": "stream",
     "text": [
      "X =\n"
     ]
    },
    {
     "name": "stdout",
     "output_type": "stream",
     "text": [
      "10/(s^3 + 2*s^2 + 10*s)\n"
     ]
    }
   ],
   "source": [
    "% Define X(s)\n",
    "syms s \n",
    "X = 10/(s^3 + 2*s^2 + 10*s)"
   ]
  },
  {
   "cell_type": "code",
   "execution_count": 20,
   "id": "b506be1e",
   "metadata": {
    "slideshow": {
     "slide_type": "subslide"
    }
   },
   "outputs": [
    {
     "name": "stdout",
     "output_type": "stream",
     "text": [
      "Xdecomp =\n"
     ]
    },
    {
     "name": "stdout",
     "output_type": "stream",
     "text": [
      "1/s - (s + 2)/(s^2 + 2*s + 10)\n"
     ]
    }
   ],
   "source": [
    "% Compute the partial fraction decomposition\n",
    "Xdecomp = partfrac(X,s)"
   ]
  },
  {
   "cell_type": "code",
   "execution_count": 21,
   "id": "a9c3ce0f",
   "metadata": {
    "slideshow": {
     "slide_type": "fragment"
    }
   },
   "outputs": [
    {
     "name": "stdout",
     "output_type": "stream",
     "text": [
      "x =\n"
     ]
    },
    {
     "name": "stdout",
     "output_type": "stream",
     "text": [
      "1 - exp(-t)*(cos(3*t) + sin(3*t)/3)\n"
     ]
    }
   ],
   "source": [
    "syms x\n",
    "x = ilaplace(X)"
   ]
  },
  {
   "cell_type": "code",
   "execution_count": 22,
   "id": "4ea30ae1",
   "metadata": {
    "slideshow": {
     "slide_type": "fragment"
    }
   },
   "outputs": [
    {
     "data": {
      "image/png": "[encoded data removed]",
      "text/plain": [
       "<IPython.core.display.Image object>"
      ]
     },
     "metadata": {},
     "output_type": "display_data"
    }
   ],
   "source": [
    "% Create solution array\n",
    "t = linspace(0,5,150);\n",
    "x = 1-exp(-t).*(cos(3*t) + 1/3*sin(3*t));\n",
    "plot(t, x)"
   ]
  },
  {
   "cell_type": "code",
   "execution_count": 23,
   "id": "09a7fad4",
   "metadata": {
    "slideshow": {
     "slide_type": "fragment"
    }
   },
   "outputs": [],
   "source": [
    "open('ConceptReview.mlx')"
   ]
  },
  {
   "cell_type": "code",
   "execution_count": 24,
   "id": "a8694d1c",
   "metadata": {
    "slideshow": {
     "slide_type": "subslide"
    }
   },
   "outputs": [],
   "source": [
    "syms t\n",
    "% Replace NaN with your symbolic solution and run the section\n",
    "theta = NaN; "
   ]
  },
  {
   "cell_type": "code",
   "execution_count": 25,
   "id": "3fbcb2ed",
   "metadata": {
    "slideshow": {
     "slide_type": "fragment"
    }
   },
   "outputs": [],
   "source": [
    "open('ConceptReview.mlx')"
   ]
  },
  {
   "cell_type": "code",
   "execution_count": 26,
   "id": "5460ea1c",
   "metadata": {
    "slideshow": {
     "slide_type": "fragment"
    }
   },
   "outputs": [],
   "source": [
    "open('ConceptReview.mlx')"
   ]
  },
  {
   "cell_type": "code",
   "execution_count": null,
   "id": "90421c94",
   "metadata": {},
   "outputs": [],
   "source": []
  }
 ],
 "metadata": {
  "jupytext": {
   "formats": "ipynb,md:myst",
   "text_representation": {
    "extension": ".md",
    "format_name": "myst",
    "format_version": 0.13,
    "jupytext_version": "1.15.2"
   }
  },
  "kernelspec": {
   "display_name": "Matlab",
   "language": "matlab",
   "name": "matlab"
  },
  "language_info": {
   "codemirror_mode": "octave",
   "file_extension": ".m",
   "help_links": [
    {
     "text": "MetaKernel Magics",
     "url": "https://metakernel.readthedocs.io/en/latest/source/README.html"
    }
   ],
   "mimetype": "text/x-octave",
   "name": "matlab",
   "version": "0.17.1"
  },
  "source_map": [
   15,
   20,
   31,
   41,
   53,
   57,
   62,
   70,
   76,
   80,
   86,
   90,
   94,
   100,
   109,
   116,
   120,
   130,
   134,
   142,
   146,
   150,
   162,
   166,
   170,
   180,
   184,
   193,
   197,
   206,
   210,
   219,
   223,
   232,
   236,
   245,
   249,
   258,
   262,
   271,
   279,
   287,
   296,
   302,
   308,
   329,
   333,
   337,
   349,
   357,
   365,
   369,
   378,
   382,
   390,
   400,
   406,
   414,
   418,
   428,
   436,
   444,
   454,
   465,
   469,
   477,
   481,
   487,
   493,
   499,
   505,
   511,
   521,
   530,
   536,
   540,
   554,
   558,
   567,
   571,
   582,
   586,
   594,
   604,
   612,
   625,
   635,
   639,
   647,
   657,
   668,
   676,
   691,
   699,
   707,
   715
  ]
 },
 "nbformat": 4,
 "nbformat_minor": 5
}