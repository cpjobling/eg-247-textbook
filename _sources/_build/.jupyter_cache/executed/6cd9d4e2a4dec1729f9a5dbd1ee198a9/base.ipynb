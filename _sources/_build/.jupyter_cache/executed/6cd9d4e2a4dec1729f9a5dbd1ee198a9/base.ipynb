{
 "cells": [
  {
   "cell_type": "code",
   "execution_count": 1,
   "id": "0203971d",
   "metadata": {
    "slideshow": {
     "slide_type": "skip"
    }
   },
   "outputs": [],
   "source": [
    "%% Lecturer: set up the TransferFunctions project for in class execution of exercise tests and activities.\n",
    "\n",
    "% Setup MATLAB to use the PoleZeroAnalysis.mlx LiveScript and the polesApp.mlapp app in class.\n",
    "% I am assuming that this is on the MATLAB Drive\n",
    "\n",
    "format compact \n",
    "% Change this to local set up where this Jupyter book is run\n",
    "cd '/Users/eechris/MATLAB-Drive/Repositories/Transfer-Function-Analysis-of-Dynamic-Systems'\n",
    "open('TransferFunctions.prj')"
   ]
  },
  {
   "cell_type": "code",
   "execution_count": 2,
   "id": "64529c9a",
   "metadata": {
    "slideshow": {
     "slide_type": "subslide"
    }
   },
   "outputs": [],
   "source": [
    "format compact\n",
    "% Use these symbolic variables\n",
    "syms L R k_e J B k_m    % Constants\n",
    "syms Theta I s V        % Laplace domain variables\n",
    "% Write your laplace transform equation here\n",
    "eqn1 = NaN;"
   ]
  },
  {
   "cell_type": "code",
   "execution_count": 3,
   "id": "9edbb65d",
   "metadata": {
    "slideshow": {
     "slide_type": "subslide"
    }
   },
   "outputs": [],
   "source": [
    "% Write your laplace transform equation here\n",
    "eqn2 = NaN;"
   ]
  },
  {
   "cell_type": "code",
   "execution_count": 4,
   "id": "af97fa6b",
   "metadata": {
    "slideshow": {
     "slide_type": "subslide"
    }
   },
   "outputs": [],
   "source": [
    "% Write your transfer function here\n",
    "ThetaOverV = NaN;"
   ]
  },
  {
   "cell_type": "code",
   "execution_count": 5,
   "id": "7eb00dea",
   "metadata": {
    "slideshow": {
     "slide_type": "subslide"
    }
   },
   "outputs": [],
   "source": [
    "% Write your transfer function here\n",
    "OmegaOverV = NaN;"
   ]
  },
  {
   "cell_type": "code",
   "execution_count": 6,
   "id": "b0e21abe",
   "metadata": {
    "slideshow": {
     "slide_type": "subslide"
    }
   },
   "outputs": [],
   "source": [
    "open('polesApp.mlapp')"
   ]
  },
  {
   "cell_type": "code",
   "execution_count": 7,
   "id": "52244ad5",
   "metadata": {
    "slideshow": {
     "slide_type": "subslide"
    }
   },
   "outputs": [],
   "source": [
    "% Write your code here"
   ]
  },
  {
   "cell_type": "code",
   "execution_count": 8,
   "id": "b72bbe6d",
   "metadata": {
    "slideshow": {
     "slide_type": "subslide"
    }
   },
   "outputs": [],
   "source": [
    "% Write your code here"
   ]
  },
  {
   "cell_type": "code",
   "execution_count": 9,
   "id": "768081fa",
   "metadata": {
    "slideshow": {
     "slide_type": "notes"
    }
   },
   "outputs": [],
   "source": [
    "% Write your code here"
   ]
  },
  {
   "cell_type": "code",
   "execution_count": 10,
   "id": "d74f5e6b",
   "metadata": {
    "slideshow": {
     "slide_type": "fragment"
    }
   },
   "outputs": [],
   "source": [
    "open('PoleZeroAnalysis.mlx')"
   ]
  },
  {
   "cell_type": "code",
   "execution_count": 11,
   "id": "3913b574",
   "metadata": {
    "slideshow": {
     "slide_type": "subslide"
    }
   },
   "outputs": [],
   "source": [
    "% Write your code here"
   ]
  },
  {
   "cell_type": "code",
   "execution_count": 12,
   "id": "295f3acc",
   "metadata": {
    "slideshow": {
     "slide_type": "subslide"
    }
   },
   "outputs": [],
   "source": [
    "% Write your code here"
   ]
  },
  {
   "cell_type": "code",
   "execution_count": 13,
   "id": "19af0bc3",
   "metadata": {
    "slideshow": {
     "slide_type": "subslide"
    }
   },
   "outputs": [
    {
     "name": "stdout",
     "output_type": "stream",
     "text": [
      "X(s) =\n"
     ]
    },
    {
     "name": "stdout",
     "output_type": "stream",
     "text": [
      "K/(omega_n^2 + 2*zeta*omega_n*s + s^2)\n"
     ]
    },
    {
     "name": "stdout",
     "output_type": "stream",
     "text": [
      "x(t) =\n"
     ]
    },
    {
     "name": "stdout",
     "output_type": "stream",
     "text": [
      "(K*exp(-omega_n*t*zeta)*sin(omega_n*t*(1 - zeta^2)^(1/2)))/(omega_n*(1 - zeta^2)^(1/2))\n"
     ]
    }
   ],
   "source": [
    "syms s zeta omega_n K X(s) x(t)\n",
    "X(s) = K/(s^2 + 2*zeta*omega_n*s + omega_n^2) \n",
    "x(t) = ilaplace(X) % The impulse response in the time domain"
   ]
  },
  {
   "cell_type": "code",
   "execution_count": 14,
   "id": "ca83e053",
   "metadata": {
    "slideshow": {
     "slide_type": "subslide"
    }
   },
   "outputs": [],
   "source": [
    "% Use these symbolic variables\n",
    "syms m c k\n",
    "% Replace the NaNs with your expressions\n",
    "K = NaN;\n",
    "omega_n = NaN;\n",
    "zeta = NaN;"
   ]
  },
  {
   "cell_type": "code",
   "execution_count": 15,
   "id": "3d406185",
   "metadata": {
    "slideshow": {
     "slide_type": "subslide"
    }
   },
   "outputs": [],
   "source": [
    "% Write your answers here\n",
    "poles = NaN;\n",
    "pplus = NaN;\n",
    "pminus = NaN;"
   ]
  },
  {
   "cell_type": "code",
   "execution_count": 16,
   "id": "6e006060",
   "metadata": {
    "slideshow": {
     "slide_type": "subslide"
    }
   },
   "outputs": [],
   "source": [
    "open('polesApp.mlapp')"
   ]
  },
  {
   "cell_type": "code",
   "execution_count": 17,
   "id": "4bd88dbe",
   "metadata": {
    "slideshow": {
     "slide_type": "subslide"
    }
   },
   "outputs": [
    {
     "name": "stdout",
     "output_type": "stream",
     "text": [
      "x =\n",
      "   NaN\n"
     ]
    }
   ],
   "source": [
    "% Use these symbolic variables\n",
    "syms s z_0 t positive \n",
    "% Write your solution here\n",
    "x = NaN"
   ]
  },
  {
   "cell_type": "code",
   "execution_count": 18,
   "id": "271d184b",
   "metadata": {
    "slideshow": {
     "slide_type": "subslide"
    }
   },
   "outputs": [],
   "source": [
    "% Create your plot here"
   ]
  },
  {
   "cell_type": "code",
   "execution_count": 19,
   "id": "5e145487",
   "metadata": {
    "slideshow": {
     "slide_type": "subslide"
    }
   },
   "outputs": [
    {
     "name": "stdout",
     "output_type": "stream",
     "text": [
      "tlim =\n",
      "   NaN\n"
     ]
    }
   ],
   "source": [
    "% Write your solution here\n",
    "tlim = NaN"
   ]
  }
 ],
 "metadata": {
  "jupytext": {
   "formats": "ipynb,md:myst",
   "text_representation": {
    "extension": ".md",
    "format_name": "myst",
    "format_version": 0.13,
    "jupytext_version": "1.15.2"
   }
  },
  "kernelspec": {
   "display_name": "Matlab",
   "language": "matlab",
   "name": "matlab"
  },
  "language_info": {
   "codemirror_mode": "octave",
   "file_extension": ".m",
   "help_links": [
    {
     "text": "MetaKernel Magics",
     "url": "https://metakernel.readthedocs.io/en/latest/source/README.html"
    }
   ],
   "mimetype": "text/x-octave",
   "name": "matlab",
   "version": "0.17.1"
  },
  "source_map": [
   15,
   20,
   30,
   36,
   46,
   62,
   66,
   72,
   79,
   83,
   88,
   99,
   107,
   117,
   126,
   134,
   142,
   148,
   155,
   168,
   181,
   188,
   197,
   208,
   217,
   228,
   237,
   242,
   252,
   257,
   261,
   265,
   269,
   273,
   278,
   284,
   292,
   299,
   307,
   317,
   328,
   335,
   339,
   345,
   349,
   359,
   366,
   377,
   383,
   391,
   401,
   409,
   418,
   426,
   436,
   441,
   446,
   451,
   468,
   472,
   480,
   490,
   502,
   510,
   517,
   525,
   535,
   543,
   550,
   554,
   561,
   567,
   574,
   580,
   590,
   596,
   605,
   615,
   622,
   632,
   639,
   646,
   650,
   655,
   661,
   666,
   676,
   689,
   695,
   706,
   716,
   726,
   734,
   740,
   752,
   763,
   773,
   777,
   785,
   794,
   801,
   814,
   820,
   831,
   837,
   845,
   851,
   860,
   870,
   883,
   889,
   937
  ]
 },
 "nbformat": 4,
 "nbformat_minor": 5
}