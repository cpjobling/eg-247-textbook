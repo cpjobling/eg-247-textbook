{
 "cells": [
  {
   "cell_type": "code",
   "execution_count": 1,
   "metadata": {
    "slideshow": {
     "slide_type": "subslide"
    }
   },
   "outputs": [
    {
     "name": "stdout",
     "output_type": "stream",
     "text": [
      "\n",
      "ans =\n",
      "\n",
      "    '/Users/eechris/code/src/github.com/cpjobling/eg-247-textbook/laplace_transform/matlab/convolution_demo'\n",
      "\n"
     ]
    }
   ],
   "source": [
    "clear all\n",
    "imatlab_export_fig('print-svg')  % Static svg figures.\n",
    "cd ../matlab/convolution_demo\n",
    "pwd"
   ]
  },
  {
   "cell_type": "code",
   "execution_count": 2,
   "metadata": {
    "slideshow": {
     "slide_type": "subslide"
    },
    "tags": [
     "remove-output"
    ]
   },
   "outputs": [
    {
     "name": "stdout",
     "output_type": "stream",
     "text": [
      "Warning: The EraseMode property is no longer supported and will error in a future release.\n",
      "> In convolutiondemo>convolutiondemo_LayoutFcn (line 398)\n",
      "In convolutiondemo>gui_mainfcn (line 1188)\n",
      "In convolutiondemo (line 44)\n"
     ]
    },
    {
     "name": "stdout",
     "output_type": "stream",
     "text": [
      "Warning: The EraseMode property is no longer supported and will error in a future release.\n",
      "> In convolutiondemo>convolutiondemo_LayoutFcn (line 449)\n",
      "In convolutiondemo>gui_mainfcn (line 1188)\n",
      "In convolutiondemo (line 44)\n"
     ]
    },
    {
     "name": "stdout",
     "output_type": "stream",
     "text": [
      "Warning: The EraseMode property is no longer supported and will error in a future release.\n",
      "> In convolutiondemo>convolutiondemo_LayoutFcn (line 500)\n",
      "In convolutiondemo>gui_mainfcn (line 1188)\n",
      "In convolutiondemo (line 44)\n"
     ]
    },
    {
     "name": "stdout",
     "output_type": "stream",
     "text": [
      "Warning: The EraseMode property is no longer supported and will error in a future release.\n",
      "> In convolutiondemo>convolutiondemo_LayoutFcn (line 551)\n",
      "In convolutiondemo>gui_mainfcn (line 1188)\n",
      "In convolutiondemo (line 44)\n"
     ]
    },
    {
     "name": "stdout",
     "output_type": "stream",
     "text": [
      "Warning: The EraseMode property is no longer supported and will error in a future release.\n",
      "> In convolutiondemo>convolutiondemo_LayoutFcn (line 621)\n",
      "In convolutiondemo>gui_mainfcn (line 1188)\n",
      "In convolutiondemo (line 44)\n"
     ]
    },
    {
     "name": "stdout",
     "output_type": "stream",
     "text": [
      "Warning: The EraseMode property is no longer supported and will error in a future release.\n",
      "> In convolutiondemo>convolutiondemo_LayoutFcn (line 672)\n",
      "In convolutiondemo>gui_mainfcn (line 1188)\n",
      "In convolutiondemo (line 44)\n"
     ]
    },
    {
     "name": "stdout",
     "output_type": "stream",
     "text": [
      "Warning: The EraseMode property is no longer supported and will error in a future release.\n",
      "> In convolutiondemo>convolutiondemo_LayoutFcn (line 723)\n",
      "In convolutiondemo>gui_mainfcn (line 1188)\n",
      "In convolutiondemo (line 44)\n"
     ]
    },
    {
     "name": "stdout",
     "output_type": "stream",
     "text": [
      "Warning: The EraseMode property is no longer supported and will error in a future release.\n",
      "> In convolutiondemo>convolutiondemo_LayoutFcn (line 774)\n",
      "In convolutiondemo>gui_mainfcn (line 1188)\n",
      "In convolutiondemo (line 44)\n"
     ]
    }
   ],
   "source": [
    "convolutiondemo % ignore warnings"
   ]
  },
  {
   "cell_type": "code",
   "execution_count": 3,
   "metadata": {
    "slideshow": {
     "slide_type": "notes"
    }
   },
   "outputs": [
    {
     "name": "stdout",
     "output_type": "stream",
     "text": [
      " \n"
     ]
    },
    {
     "name": "stdout",
     "output_type": "stream",
     "text": [
      "x1 =\n"
     ]
    },
    {
     "name": "stdout",
     "output_type": "stream",
     "text": [
      " \n"
     ]
    },
    {
     "name": "stdout",
     "output_type": "stream",
     "text": [
      "1 - exp(-t)\n"
     ]
    },
    {
     "name": "stdout",
     "output_type": "stream",
     "text": [
      " \n"
     ]
    }
   ],
   "source": [
    "syms t tau\n",
    "x1=int(exp(-tau),tau,0,t)"
   ]
  },
  {
   "cell_type": "code",
   "execution_count": 4,
   "metadata": {
    "slideshow": {
     "slide_type": "notes"
    }
   },
   "outputs": [
    {
     "name": "stdout",
     "output_type": "stream",
     "text": [
      " \n"
     ]
    },
    {
     "name": "stdout",
     "output_type": "stream",
     "text": [
      "x2 =\n"
     ]
    },
    {
     "name": "stdout",
     "output_type": "stream",
     "text": [
      " \n"
     ]
    },
    {
     "name": "stdout",
     "output_type": "stream",
     "text": [
      "exp(-t)*(exp(1) - 1)\n"
     ]
    },
    {
     "name": "stdout",
     "output_type": "stream",
     "text": [
      " \n"
     ]
    }
   ],
   "source": [
    "x2=int(exp(-tau),tau,t-1,t)"
   ]
  }
 ],
 "metadata": {
  "jupytext": {
   "formats": "ipynb,md:myst",
   "text_representation": {
    "extension": ".md",
    "format_name": "myst",
    "format_version": 0.12,
    "jupytext_version": "1.9.1"
   }
  },
  "kernelspec": {
   "display_name": "MATLAB",
   "language": "matlab",
   "name": "imatlab"
  },
  "language_info": {
   "codemirror_mode": "octave",
   "file_extension": ".m",
   "mimetype": "text/x-matlab",
   "name": "matlab",
   "nbconvert_exporter": "imatlab._exporter.MatlabExporter",
   "pygments_lexer": "matlab",
   "version": "9.9.0.1467703 (R2020b)"
  },
  "source_map": [
   15,
   19,
   31,
   39,
   43,
   49,
   54,
   59,
   67,
   71,
   81,
   85,
   93,
   99,
   109,
   113,
   121,
   127,
   136,
   140,
   144,
   150,
   156,
   164,
   170,
   176,
   180,
   188,
   222,
   228,
   234,
   240,
   250,
   260,
   264,
   272,
   276,
   282,
   288,
   292,
   296,
   304,
   315,
   324,
   328,
   332,
   336,
   340,
   344,
   348,
   352,
   356,
   360,
   370,
   398,
   404,
   412,
   424,
   434,
   444,
   448,
   457,
   465,
   475,
   487,
   497,
   533,
   539,
   547,
   557,
   585
  ]
 },
 "nbformat": 4,
 "nbformat_minor": 4
}