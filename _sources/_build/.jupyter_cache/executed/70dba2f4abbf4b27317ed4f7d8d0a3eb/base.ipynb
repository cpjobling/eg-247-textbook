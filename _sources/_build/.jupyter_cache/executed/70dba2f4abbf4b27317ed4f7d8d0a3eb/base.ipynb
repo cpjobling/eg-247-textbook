{
 "cells": [
  {
   "cell_type": "code",
   "execution_count": 1,
   "id": "27e11a38",
   "metadata": {
    "slideshow": {
     "slide_type": "subslide"
    }
   },
   "outputs": [
    {
     "name": "stdout",
     "output_type": "stream",
     "text": [
      "ans =\n",
      "    '/Users/eechris/code/src/github.com/cpjobling/eg-247-textbook/laplace_transform/matlab/convolution_demo'\n"
     ]
    }
   ],
   "source": [
    "clear all\n",
    "imatlab_export_fig('print-svg')  % Static svg figures.\n",
    "cd ../matlab/convolution_demo\n",
    "pwd"
   ]
  },
  {
   "cell_type": "code",
   "execution_count": 2,
   "id": "81d8b919",
   "metadata": {
    "slideshow": {
     "slide_type": "subslide"
    },
    "tags": [
     "remove-output"
    ]
   },
   "outputs": [
    {
     "name": "stdout",
     "output_type": "stream",
     "text": [
      "Warning: The EraseMode property is no longer supported and will error in a future release.\n",
      "> In convolutiondemo>convolutiondemo_LayoutFcn (line 398)\n",
      "In convolutiondemo>gui_mainfcn (line 1188)\n",
      "In convolutiondemo (line 44)\n"
     ]
    },
    {
     "name": "stdout",
     "output_type": "stream",
     "text": [
      "Warning: The EraseMode property is no longer supported and will error in a future release.\n",
      "> In convolutiondemo>convolutiondemo_LayoutFcn (line 449)\n",
      "In convolutiondemo>gui_mainfcn (line 1188)\n",
      "In convolutiondemo (line 44)\n"
     ]
    },
    {
     "name": "stdout",
     "output_type": "stream",
     "text": [
      "Warning: The EraseMode property is no longer supported and will error in a future release.\n",
      "> In convolutiondemo>convolutiondemo_LayoutFcn (line 500)\n",
      "In convolutiondemo>gui_mainfcn (line 1188)\n",
      "In convolutiondemo (line 44)\n"
     ]
    },
    {
     "name": "stdout",
     "output_type": "stream",
     "text": [
      "Warning: The EraseMode property is no longer supported and will error in a future release.\n",
      "> In convolutiondemo>convolutiondemo_LayoutFcn (line 551)\n",
      "In convolutiondemo>gui_mainfcn (line 1188)\n",
      "In convolutiondemo (line 44)\n"
     ]
    },
    {
     "name": "stdout",
     "output_type": "stream",
     "text": [
      "Warning: The EraseMode property is no longer supported and will error in a future release.\n",
      "> In convolutiondemo>convolutiondemo_LayoutFcn (line 621)\n",
      "In convolutiondemo>gui_mainfcn (line 1188)\n",
      "In convolutiondemo (line 44)\n"
     ]
    },
    {
     "name": "stdout",
     "output_type": "stream",
     "text": [
      "Warning: The EraseMode property is no longer supported and will error in a future release.\n",
      "> In convolutiondemo>convolutiondemo_LayoutFcn (line 672)\n",
      "In convolutiondemo>gui_mainfcn (line 1188)\n",
      "In convolutiondemo (line 44)\n"
     ]
    },
    {
     "name": "stdout",
     "output_type": "stream",
     "text": [
      "Warning: The EraseMode property is no longer supported and will error in a future release.\n",
      "> In convolutiondemo>convolutiondemo_LayoutFcn (line 723)\n",
      "In convolutiondemo>gui_mainfcn (line 1188)\n",
      "In convolutiondemo (line 44)\n"
     ]
    },
    {
     "name": "stdout",
     "output_type": "stream",
     "text": [
      "Warning: The EraseMode property is no longer supported and will error in a future release.\n",
      "> In convolutiondemo>convolutiondemo_LayoutFcn (line 774)\n",
      "In convolutiondemo>gui_mainfcn (line 1188)\n",
      "In convolutiondemo (line 44)\n"
     ]
    }
   ],
   "source": [
    "convolutiondemo % ignore warnings"
   ]
  },
  {
   "cell_type": "code",
   "execution_count": 3,
   "id": "978fc379",
   "metadata": {
    "slideshow": {
     "slide_type": "notes"
    }
   },
   "outputs": [
    {
     "name": "stdout",
     "output_type": "stream",
     "text": [
      "x1 =\n"
     ]
    },
    {
     "name": "stdout",
     "output_type": "stream",
     "text": [
      "1 - exp(-t)\n"
     ]
    }
   ],
   "source": [
    "syms t tau\n",
    "x1=int(exp(-tau),tau,0,t)"
   ]
  },
  {
   "cell_type": "code",
   "execution_count": 4,
   "id": "e7d2444d",
   "metadata": {
    "slideshow": {
     "slide_type": "notes"
    }
   },
   "outputs": [
    {
     "name": "stdout",
     "output_type": "stream",
     "text": [
      "x2 =\n"
     ]
    },
    {
     "name": "stdout",
     "output_type": "stream",
     "text": [
      "exp(-t)*(exp(1) - 1)\n"
     ]
    }
   ],
   "source": [
    "x2=int(exp(-tau),tau,t-1,t)"
   ]
  }
 ],
 "metadata": {
  "jupytext": {
   "formats": "ipynb,md:myst",
   "text_representation": {
    "extension": ".md",
    "format_name": "myst",
    "format_version": 0.13,
    "jupytext_version": "1.11.5"
   }
  },
  "kernelspec": {
   "display_name": "MATLAB",
   "language": "matlab",
   "name": "imatlab"
  },
  "language_info": {
   "codemirror_mode": "octave",
   "file_extension": ".m",
   "mimetype": "text/x-matlab",
   "name": "matlab",
   "nbconvert_exporter": "imatlab._exporter.MatlabExporter",
   "pygments_lexer": "matlab",
   "version": "9.11.0.1769968 (R2021b)"
  },
  "source_map": [
   15,
   19,
   31,
   39,
   43,
   49,
   54,
   59,
   67,
   71,
   81,
   85,
   93,
   99,
   109,
   113,
   121,
   127,
   136,
   140,
   144,
   150,
   156,
   164,
   170,
   176,
   180,
   188,
   222,
   228,
   234,
   240,
   250,
   260,
   264,
   272,
   276,
   282,
   288,
   292,
   296,
   304,
   315,
   324,
   328,
   332,
   336,
   340,
   344,
   348,
   352,
   356,
   360,
   370,
   378,
   386,
   392,
   414,
   423,
   435,
   445,
   455,
   459,
   468,
   476,
   486,
   498,
   508,
   544,
   550,
   558,
   568,
   596
  ]
 },
 "nbformat": 4,
 "nbformat_minor": 5
}