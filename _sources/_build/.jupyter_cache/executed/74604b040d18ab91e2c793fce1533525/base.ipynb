{
 "cells": [
  {
   "cell_type": "code",
   "execution_count": 1,
   "id": "939887af",
   "metadata": {
    "slideshow": {
     "slide_type": "subslide"
    }
   },
   "outputs": [
    {
     "name": "stderr",
     "output_type": "stream",
     "text": [
      "\u001b[0;31mError using eval\n",
      "Undefined function 'imatlab_export_fig' for input arguments of type 'char'.\n",
      "\u001b[0m"
     ]
    }
   ],
   "source": [
    "imatlab_export_fig('print-svg')  % Static svg figures."
   ]
  },
  {
   "cell_type": "code",
   "execution_count": 2,
   "id": "f24e004d",
   "metadata": {
    "slideshow": {
     "slide_type": "subslide"
    }
   },
   "outputs": [
    {
     "name": "stdout",
     "output_type": "stream",
     "text": [
      "ans =\n"
     ]
    },
    {
     "name": "stdout",
     "output_type": "stream",
     "text": [
      "1\n"
     ]
    }
   ],
   "source": [
    "syms t;\n",
    "fourier(dirac(t))"
   ]
  },
  {
   "cell_type": "code",
   "execution_count": 3,
   "id": "1a8f5f54",
   "metadata": {
    "slideshow": {
     "slide_type": "subslide"
    }
   },
   "outputs": [
    {
     "name": "stdout",
     "output_type": "stream",
     "text": [
      "ans =\n"
     ]
    },
    {
     "name": "stdout",
     "output_type": "stream",
     "text": [
      "6.2832*dirac(omega)\n"
     ]
    }
   ],
   "source": [
    "syms t omega;\n",
    "A = sym(1);\n",
    "fourier(A,omega)"
   ]
  }
 ],
 "metadata": {
  "jupytext": {
   "formats": "ipynb,md:myst",
   "text_representation": {
    "extension": ".md",
    "format_name": "myst",
    "format_version": 0.13,
    "jupytext_version": "1.14.1"
   }
  },
  "kernelspec": {
   "display_name": "Matlab",
   "language": "matlab",
   "name": "matlab"
  },
  "language_info": {
   "codemirror_mode": "octave",
   "file_extension": ".m",
   "help_links": [
    {
     "text": "MetaKernel Magics",
     "url": "https://metakernel.readthedocs.io/en/latest/source/README.html"
    }
   ],
   "mimetype": "text/x-octave",
   "name": "matlab",
   "version": "0.17.1"
  },
  "source_map": [
   15,
   19,
   31,
   52,
   61,
   67,
   75,
   83,
   87,
   95,
   101,
   117,
   121,
   137,
   147,
   151,
   159,
   168,
   174,
   182,
   186,
   196,
   202,
   212,
   222,
   234,
   244,
   254,
   266,
   282,
   290,
   294,
   304,
   314,
   320,
   326,
   332,
   338,
   350,
   356,
   360,
   372,
   378,
   382,
   393,
   399,
   410,
   419,
   425
  ]
 },
 "nbformat": 4,
 "nbformat_minor": 5
}