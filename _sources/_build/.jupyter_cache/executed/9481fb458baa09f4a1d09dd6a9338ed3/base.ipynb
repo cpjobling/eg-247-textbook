{
 "cells": [
  {
   "cell_type": "code",
   "execution_count": 1,
   "id": "2e9fb92b",
   "metadata": {
    "slideshow": {
     "slide_type": "subslide"
    }
   },
   "outputs": [],
   "source": [
    "format compact\n",
    "% Use these symbolic variables\n",
    "syms L R k_e J B k_m    % Constants\n",
    "syms Theta I s V        % Laplace domain variables\n",
    "% Write your laplace transform equation here\n",
    "eqn1 = NaN;"
   ]
  },
  {
   "cell_type": "code",
   "execution_count": 2,
   "id": "ee897c31",
   "metadata": {
    "slideshow": {
     "slide_type": "subslide"
    }
   },
   "outputs": [],
   "source": [
    "% Write your laplace transform equation here\n",
    "eqn2 = NaN;"
   ]
  },
  {
   "cell_type": "code",
   "execution_count": 3,
   "id": "c8c885e9",
   "metadata": {
    "slideshow": {
     "slide_type": "subslide"
    }
   },
   "outputs": [],
   "source": [
    "% Write your transfer function here\n",
    "ThetaOverV = NaN;"
   ]
  },
  {
   "cell_type": "code",
   "execution_count": 4,
   "id": "a60dfbad",
   "metadata": {
    "slideshow": {
     "slide_type": "subslide"
    }
   },
   "outputs": [],
   "source": [
    "% Write your transfer function here\n",
    "OmegaOverV = NaN;"
   ]
  },
  {
   "cell_type": "code",
   "execution_count": null,
   "id": "f7810c5a",
   "metadata": {},
   "outputs": [],
   "source": []
  }
 ],
 "metadata": {
  "jupytext": {
   "formats": "ipynb,md:myst",
   "text_representation": {
    "extension": ".md",
    "format_name": "myst",
    "format_version": 0.13,
    "jupytext_version": "1.15.2"
   }
  },
  "kernelspec": {
   "display_name": "Matlab",
   "language": "matlab",
   "name": "matlab"
  },
  "language_info": {
   "codemirror_mode": "octave",
   "file_extension": ".m",
   "help_links": [
    {
     "text": "MetaKernel Magics",
     "url": "https://metakernel.readthedocs.io/en/latest/source/README.html"
    }
   ],
   "mimetype": "text/x-octave",
   "name": "matlab",
   "version": "0.17.1"
  },
  "source_map": [
   15,
   20,
   30,
   36,
   46,
   50,
   56,
   63,
   67,
   72,
   82,
   90,
   100,
   108,
   116,
   124,
   130,
   137,
   150,
   163,
   170,
   179,
   190,
   199,
   210,
   219,
   442,
   472,
   478
  ]
 },
 "nbformat": 4,
 "nbformat_minor": 5
}