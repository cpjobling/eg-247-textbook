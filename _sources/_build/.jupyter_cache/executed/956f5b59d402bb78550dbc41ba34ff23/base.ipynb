{
 "cells": [
  {
   "cell_type": "code",
   "execution_count": 1,
   "id": "d71494d1",
   "metadata": {
    "slideshow": {
     "slide_type": "subslide"
    }
   },
   "outputs": [],
   "source": [
    "clear all\n",
    "cd ../matlab\n",
    "format compact"
   ]
  },
  {
   "cell_type": "code",
   "execution_count": 2,
   "id": "906baaee",
   "metadata": {
    "slideshow": {
     "slide_type": "subslide"
    }
   },
   "outputs": [
    {
     "data": {
      "image/png": "[encoded data removed]",
      "text/plain": [
       "<IPython.core.display.Image object>"
      ]
     },
     "metadata": {},
     "output_type": "display_data"
    }
   ],
   "source": [
    "x = linspace(-5,5,1000);\n",
    "plot(x,sin(pi.*x)./(pi.*x))\n",
    "grid\n",
    "title('Graph of sinc function')\n",
    "ylabel('sinc(u)')\n",
    "xlabel('u')"
   ]
  },
  {
   "cell_type": "code",
   "execution_count": 3,
   "id": "a9665fee",
   "metadata": {
    "slideshow": {
     "slide_type": "subslide"
    }
   },
   "outputs": [],
   "source": [
    "open duty_cycle"
   ]
  },
  {
   "cell_type": "code",
   "execution_count": null,
   "id": "17362d07",
   "metadata": {},
   "outputs": [],
   "source": []
  },
  {
   "cell_type": "code",
   "execution_count": 4,
   "id": "19a0d4dd",
   "metadata": {
    "slideshow": {
     "slide_type": "fragment"
    }
   },
   "outputs": [
    {
     "name": "stdout",
     "output_type": "stream",
     "text": [
      "Fw =\n"
     ]
    },
    {
     "name": "stdout",
     "output_type": "stream",
     "text": [
      "2^(1/2)*pi^(1/2)*exp(-omega^2/2)\n"
     ]
    }
   ],
   "source": [
    "syms t v omega x;\n",
    "ft = exp(-t^2/2);\n",
    "Fw = fourier(ft,omega)"
   ]
  },
  {
   "cell_type": "code",
   "execution_count": 5,
   "id": "e8d75414",
   "metadata": {
    "slideshow": {
     "slide_type": "subslide"
    }
   },
   "outputs": [
    {
     "name": "stdout",
     "output_type": "stream",
     "text": [
      "                    /        2 \\\n",
      "                    |   omega  |\n",
      "sqrt(2) sqrt(pi) exp| - ------ |\n",
      "                    \\      2   /\n",
      "\n"
     ]
    }
   ],
   "source": [
    "pretty(Fw)"
   ]
  },
  {
   "cell_type": "code",
   "execution_count": 6,
   "id": "037ed2e4",
   "metadata": {
    "slideshow": {
     "slide_type": "subslide"
    }
   },
   "outputs": [
    {
     "name": "stdout",
     "output_type": "stream",
     "text": [
      "ft =\n"
     ]
    },
    {
     "name": "stdout",
     "output_type": "stream",
     "text": [
      "exp(-t^2/2)\n"
     ]
    }
   ],
   "source": [
    "ft = ifourier(Fw,t)"
   ]
  }
 ],
 "metadata": {
  "jupytext": {
   "formats": "ipynb,md:myst",
   "text_representation": {
    "extension": ".md",
    "format_name": "myst",
    "format_version": 0.13,
    "jupytext_version": "1.15.2"
   }
  },
  "kernelspec": {
   "display_name": "Matlab",
   "language": "matlab",
   "name": "matlab"
  },
  "language_info": {
   "codemirror_mode": "octave",
   "file_extension": ".m",
   "help_links": [
    {
     "text": "MetaKernel Magics",
     "url": "https://metakernel.readthedocs.io/en/latest/source/README.html"
    }
   ],
   "mimetype": "text/x-octave",
   "name": "matlab",
   "version": "0.17.1"
  },
  "source_map": [
   15,
   20,
   32,
   36,
   40,
   44,
   48,
   52,
   56,
   62,
   66,
   72,
   82,
   92,
   100,
   110,
   120,
   133,
   143,
   150,
   158,
   166,
   172,
   180,
   186,
   192,
   203,
   212,
   222,
   228,
   238,
   248,
   260,
   268,
   277,
   283,
   291,
   297,
   303,
   309,
   333,
   359,
   363,
   389,
   397,
   405,
   413,
   423,
   434,
   442,
   450,
   458,
   466,
   474,
   482,
   492,
   502,
   510,
   518,
   536,
   546,
   574,
   582,
   590,
   596,
   602,
   610,
   618,
   628,
   636,
   640,
   648,
   652,
   662,
   668,
   674,
   678,
   690,
   708,
   725
  ]
 },
 "nbformat": 4,
 "nbformat_minor": 5
}