{
 "cells": [
  {
   "cell_type": "code",
   "execution_count": 1,
   "id": "0fecbf17",
   "metadata": {
    "slideshow": {
     "slide_type": "subslide"
    }
   },
   "outputs": [],
   "source": [
    "% Write your transfer function here\n",
    "OmegaOverV = NaN;"
   ]
  },
  {
   "cell_type": "code",
   "execution_count": null,
   "id": "07cfb27a",
   "metadata": {},
   "outputs": [],
   "source": []
  }
 ],
 "metadata": {
  "jupytext": {
   "formats": "ipynb,md:myst",
   "text_representation": {
    "extension": ".md",
    "format_name": "myst",
    "format_version": 0.13,
    "jupytext_version": "1.15.2"
   }
  },
  "kernelspec": {
   "display_name": "Matlab",
   "language": "matlab",
   "name": "matlab"
  },
  "language_info": {
   "codemirror_mode": "octave",
   "file_extension": ".m",
   "help_links": [
    {
     "text": "MetaKernel Magics",
     "url": "https://metakernel.readthedocs.io/en/latest/source/README.html"
    }
   ],
   "mimetype": "text/x-octave",
   "name": "matlab",
   "version": "0.17.1"
  },
  "source_map": [
   15,
   20,
   30,
   36,
   44,
   48,
   54,
   61,
   65,
   70,
   80,
   88,
   124,
   133,
   137,
   360
  ]
 },
 "nbformat": 4,
 "nbformat_minor": 5
}