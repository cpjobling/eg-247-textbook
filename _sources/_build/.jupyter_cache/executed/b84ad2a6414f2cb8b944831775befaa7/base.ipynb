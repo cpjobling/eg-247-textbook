{
 "cells": [
  {
   "cell_type": "code",
   "execution_count": 1,
   "id": "abd33731",
   "metadata": {
    "slideshow": {
     "slide_type": "skip"
    }
   },
   "outputs": [],
   "source": [
    "%% Lecturer: set up the TransferFunctions project for in class execution of exercise tests and activities.\n",
    "\n",
    "% Setup MATLAB to use the PoleZeroAnalysis.mlx LiveScript and the polesApp.mlapp app in class.\n",
    "% I am assuming that this is on the MATLAB Drive\n",
    "\n",
    "format compact \n",
    "% Change this to local set up where this Jupyter book is run\n",
    "cd '/Users/eechris/MATLAB-Drive/Repositories/Transfer-Function-Analysis-of-Dynamic-Systems'\n",
    "open('TransferFunctions.prj')"
   ]
  },
  {
   "cell_type": "code",
   "execution_count": 2,
   "id": "00df6e56",
   "metadata": {
    "slideshow": {
     "slide_type": "subslide"
    }
   },
   "outputs": [
    {
     "name": "stdout",
     "output_type": "stream",
     "text": [
      "eqn1 =\n"
     ]
    },
    {
     "name": "stdout",
     "output_type": "stream",
     "text": [
      "I*R + I*L*s + Theta*k_e*s == V\n"
     ]
    }
   ],
   "source": [
    "format compact\n",
    "% Use these symbolic variables\n",
    "syms L R k_e J B k_m    % Constants\n",
    "syms Theta I s V        % Laplace domain variables\n",
    "% Write your laplace transform equation here\n",
    "eqn1 = R*I + L*s*I + s*k_e*Theta == V"
   ]
  },
  {
   "cell_type": "code",
   "execution_count": 3,
   "id": "20b63f17",
   "metadata": {
    "slideshow": {
     "slide_type": "subslide"
    }
   },
   "outputs": [
    {
     "name": "stdout",
     "output_type": "stream",
     "text": [
      "eqn2 =\n"
     ]
    },
    {
     "name": "stdout",
     "output_type": "stream",
     "text": [
      "J*Theta*s^2 + B*Theta*s == I*k_m\n"
     ]
    }
   ],
   "source": [
    "% Write your laplace transform equation here\n",
    "eqn2 = J*s^2*Theta + B*s*Theta == k_m*I"
   ]
  },
  {
   "cell_type": "code",
   "execution_count": 4,
   "id": "231d8c18",
   "metadata": {
    "slideshow": {
     "slide_type": "subslide"
    }
   },
   "outputs": [
    {
     "name": "stdout",
     "output_type": "stream",
     "text": [
      "ThetaOverV =\n"
     ]
    },
    {
     "name": "stdout",
     "output_type": "stream",
     "text": [
      "k_m/(s*(J*L*s^2 + (B*L + J*R)*s + k_e*k_m + B*R))\n"
     ]
    }
   ],
   "source": [
    "% Write your transfer function here\n",
    "ThetaOverV = k_m/(s*(L*J*s^2 + (R*J+L*B)*s + B*R + k_m*k_e))"
   ]
  },
  {
   "cell_type": "code",
   "execution_count": 5,
   "id": "91702c3b",
   "metadata": {
    "slideshow": {
     "slide_type": "subslide"
    }
   },
   "outputs": [
    {
     "name": "stdout",
     "output_type": "stream",
     "text": [
      "OmegaOverV =\n"
     ]
    },
    {
     "name": "stdout",
     "output_type": "stream",
     "text": [
      "k_m/(J*L*s^2 + (B*L + J*R)*s + k_e*k_m + B*R)\n"
     ]
    }
   ],
   "source": [
    "% Write your transfer function here\n",
    "OmegaOverV = k_m/(L*J*s^2 + (R*J+L*B)*s + B*R + k_m*k_e)"
   ]
  },
  {
   "cell_type": "code",
   "execution_count": 6,
   "id": "db207212",
   "metadata": {
    "slideshow": {
     "slide_type": "subslide"
    }
   },
   "outputs": [],
   "source": [
    "open('polesApp.mlapp')"
   ]
  },
  {
   "cell_type": "code",
   "execution_count": 7,
   "id": "6f0bf1ba",
   "metadata": {
    "slideshow": {
     "slide_type": "subslide"
    }
   },
   "outputs": [
    {
     "name": "stdout",
     "output_type": "stream",
     "text": [
      "\n",
      "G =\n"
     ]
    },
    {
     "name": "stdout",
     "output_type": "stream",
     "text": [
      " \n"
     ]
    },
    {
     "name": "stdout",
     "output_type": "stream",
     "text": [
      "         60\n"
     ]
    },
    {
     "name": "stdout",
     "output_type": "stream",
     "text": [
      "  ----------------\n"
     ]
    },
    {
     "name": "stdout",
     "output_type": "stream",
     "text": [
      "  s^2 + 2.3 s + 11\n"
     ]
    },
    {
     "name": "stdout",
     "output_type": "stream",
     "text": [
      " \n"
     ]
    },
    {
     "name": "stdout",
     "output_type": "stream",
     "text": [
      "Continuous-time transfer function.\n"
     ]
    }
   ],
   "source": [
    "% Write your code here\n",
    "g = 60; b = 2.3; c = 11;\n",
    "G = tf([0 0 g],[1 b c])"
   ]
  },
  {
   "cell_type": "code",
   "execution_count": 8,
   "id": "5e9d91f1",
   "metadata": {
    "slideshow": {
     "slide_type": "subslide"
    }
   },
   "outputs": [
    {
     "data": {
      "image/png": "[encoded data removed]",
      "text/plain": [
       "<IPython.core.display.Image object>"
      ]
     },
     "metadata": {},
     "output_type": "display_data"
    }
   ],
   "source": [
    "% Write your code here\n",
    "pzmap(G)"
   ]
  },
  {
   "cell_type": "code",
   "execution_count": 9,
   "id": "b4ae285e",
   "metadata": {
    "slideshow": {
     "slide_type": "notes"
    }
   },
   "outputs": [
    {
     "name": "stdout",
     "output_type": "stream",
     "text": [
      "ans =\n",
      "  -1.1500 + 3.1109i\n",
      "  -1.1500 - 3.1109i\n"
     ]
    }
   ],
   "source": [
    "% Write your code here\n",
    "pole(G)"
   ]
  },
  {
   "cell_type": "code",
   "execution_count": 10,
   "id": "0e004eb4",
   "metadata": {
    "slideshow": {
     "slide_type": "fragment"
    }
   },
   "outputs": [],
   "source": [
    "open('PoleZeroAnalysis.mlx')"
   ]
  },
  {
   "cell_type": "code",
   "execution_count": 11,
   "id": "b4797d86",
   "metadata": {
    "slideshow": {
     "slide_type": "subslide"
    }
   },
   "outputs": [
    {
     "name": "stdout",
     "output_type": "stream",
     "text": [
      "\n",
      "G =\n"
     ]
    },
    {
     "name": "stdout",
     "output_type": "stream",
     "text": [
      " \n"
     ]
    },
    {
     "name": "stdout",
     "output_type": "stream",
     "text": [
      "         60\n"
     ]
    },
    {
     "name": "stdout",
     "output_type": "stream",
     "text": [
      "  ----------------\n"
     ]
    },
    {
     "name": "stdout",
     "output_type": "stream",
     "text": [
      "  s^2 + 2.3 s + 11\n"
     ]
    },
    {
     "name": "stdout",
     "output_type": "stream",
     "text": [
      " \n"
     ]
    },
    {
     "name": "stdout",
     "output_type": "stream",
     "text": [
      "Continuous-time transfer function.\n"
     ]
    },
    {
     "name": "stdout",
     "output_type": "stream",
     "text": [
      "p =\n",
      "  -1.1500 + 3.1109i\n",
      "  -1.1500 - 3.1109i\n"
     ]
    },
    {
     "name": "stdout",
     "output_type": "stream",
     "text": [
      "wn =\n",
      "    3.3166\n",
      "    3.3166\n"
     ]
    }
   ],
   "source": [
    "% Write your code here\n",
    "G = tf([0 0 60],[1 2.3 11])\n",
    "p = pole(G)\n",
    "wn = abs(p) % rad/s"
   ]
  },
  {
   "cell_type": "code",
   "execution_count": 12,
   "id": "a4f6adb0",
   "metadata": {
    "slideshow": {
     "slide_type": "subslide"
    }
   },
   "outputs": [
    {
     "name": "stdout",
     "output_type": "stream",
     "text": [
      "                                                                       \n",
      "         Pole              Damping       Frequency      Time Constant  \n",
      "                                       (rad/seconds)      (seconds)    \n",
      "                                                                       \n",
      " -1.15e+00 + 3.11e+00i     3.47e-01       3.32e+00         8.70e-01    \n",
      " -1.15e+00 - 3.11e+00i     3.47e-01       3.32e+00         8.70e-01    \n"
     ]
    }
   ],
   "source": [
    "% Write your code here\n",
    "damp(G)"
   ]
  },
  {
   "cell_type": "code",
   "execution_count": 13,
   "id": "e079dfd3",
   "metadata": {
    "slideshow": {
     "slide_type": "subslide"
    }
   },
   "outputs": [
    {
     "name": "stdout",
     "output_type": "stream",
     "text": [
      "X(s) =\n"
     ]
    },
    {
     "name": "stdout",
     "output_type": "stream",
     "text": [
      "K/(omega_n^2 + 2*zeta*omega_n*s + s^2)\n"
     ]
    },
    {
     "name": "stdout",
     "output_type": "stream",
     "text": [
      "x(t) =\n"
     ]
    },
    {
     "name": "stdout",
     "output_type": "stream",
     "text": [
      "(K*exp(-omega_n*t*zeta)*sin(omega_n*t*(1 - zeta^2)^(1/2)))/(omega_n*(1 - zeta^2)^(1/2))\n"
     ]
    }
   ],
   "source": [
    "syms s zeta omega_n K X(s) x(t)\n",
    "X(s) = K/(s^2 + 2*zeta*omega_n*s + omega_n^2) \n",
    "x(t) = ilaplace(X) % The impulse response in the time domain"
   ]
  },
  {
   "cell_type": "code",
   "execution_count": 14,
   "id": "868dcc49",
   "metadata": {
    "slideshow": {
     "slide_type": "subslide"
    }
   },
   "outputs": [],
   "source": [
    "% Use these symbolic variables\n",
    "syms m c k\n",
    "% Replace the NaNs with your expressions\n",
    "K = NaN;\n",
    "omega_n = NaN;\n",
    "zeta = NaN;"
   ]
  },
  {
   "cell_type": "code",
   "execution_count": 15,
   "id": "60bbf3d4",
   "metadata": {
    "slideshow": {
     "slide_type": "subslide"
    }
   },
   "outputs": [],
   "source": [
    "% Write your answers here\n",
    "poles = NaN;\n",
    "pplus = NaN;\n",
    "pminus = NaN;"
   ]
  },
  {
   "cell_type": "code",
   "execution_count": 16,
   "id": "b0c2bd2b",
   "metadata": {
    "slideshow": {
     "slide_type": "subslide"
    }
   },
   "outputs": [],
   "source": [
    "open('polesApp.mlapp')"
   ]
  },
  {
   "cell_type": "code",
   "execution_count": 17,
   "id": "fe2f524b",
   "metadata": {
    "slideshow": {
     "slide_type": "subslide"
    }
   },
   "outputs": [
    {
     "name": "stdout",
     "output_type": "stream",
     "text": [
      "x =\n",
      "   NaN\n"
     ]
    }
   ],
   "source": [
    "% Use these symbolic variables\n",
    "syms s z_0 t positive \n",
    "% Write your solution here\n",
    "x = NaN"
   ]
  },
  {
   "cell_type": "code",
   "execution_count": 18,
   "id": "667757b2",
   "metadata": {
    "slideshow": {
     "slide_type": "subslide"
    }
   },
   "outputs": [],
   "source": [
    "% Create your plot here"
   ]
  },
  {
   "cell_type": "code",
   "execution_count": 19,
   "id": "407cb9be",
   "metadata": {
    "slideshow": {
     "slide_type": "subslide"
    }
   },
   "outputs": [
    {
     "name": "stdout",
     "output_type": "stream",
     "text": [
      "tlim =\n",
      "   NaN\n"
     ]
    }
   ],
   "source": [
    "% Write your solution here\n",
    "tlim = NaN"
   ]
  }
 ],
 "metadata": {
  "jupytext": {
   "formats": "ipynb,md:myst",
   "text_representation": {
    "extension": ".md",
    "format_name": "myst",
    "format_version": 0.13,
    "jupytext_version": "1.15.2"
   }
  },
  "kernelspec": {
   "display_name": "Matlab",
   "language": "matlab",
   "name": "matlab"
  },
  "language_info": {
   "codemirror_mode": "octave",
   "file_extension": ".m",
   "help_links": [
    {
     "text": "MetaKernel Magics",
     "url": "https://metakernel.readthedocs.io/en/latest/source/README.html"
    }
   ],
   "mimetype": "text/x-octave",
   "name": "matlab",
   "version": "0.17.1"
  },
  "source_map": [
   15,
   20,
   30,
   36,
   46,
   62,
   66,
   74,
   82,
   86,
   92,
   102,
   110,
   120,
   128,
   136,
   144,
   150,
   157,
   170,
   183,
   190,
   199,
   210,
   219,
   230,
   239,
   244,
   254,
   259,
   263,
   267,
   271,
   275,
   280,
   286,
   294,
   301,
   309,
   319,
   330,
   337,
   341,
   347,
   351,
   361,
   368,
   379,
   385,
   395,
   405,
   414,
   423,
   432,
   442,
   447,
   452,
   457,
   474,
   478,
   486,
   496,
   508,
   519,
   526,
   535,
   545,
   553,
   560,
   564,
   571,
   577,
   584,
   590,
   600,
   606,
   615,
   625,
   632,
   642,
   649,
   656,
   660,
   665,
   671,
   676,
   686,
   699,
   705,
   716,
   726,
   736,
   744,
   750,
   762,
   773,
   783,
   787,
   795,
   804,
   811,
   824,
   830,
   841,
   847,
   855,
   861,
   870,
   880,
   893,
   899
  ]
 },
 "nbformat": 4,
 "nbformat_minor": 5
}