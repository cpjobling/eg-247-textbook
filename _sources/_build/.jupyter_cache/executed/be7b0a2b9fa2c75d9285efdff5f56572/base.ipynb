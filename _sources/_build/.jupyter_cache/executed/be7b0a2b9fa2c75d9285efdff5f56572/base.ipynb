{
 "cells": [
  {
   "cell_type": "code",
   "execution_count": 1,
   "id": "fba16c65",
   "metadata": {
    "slideshow": {
     "slide_type": "slide"
    }
   },
   "outputs": [],
   "source": [
    "%% Lecturer: set up the TransferFunctions project for in class execution of exercise tests and activities.\n",
    "\n",
    "% Setup MATLAB to use the PoleZeroAnalysis.mlx LiveScript and the polesApp.mlapp app in class.\n",
    "% I am assuming that this is on the MATLAB Drive\n",
    "\n",
    "format compact \n",
    "% Change this to local set up where this Jupyter book is run\n",
    "cd '/Users/eechris/MATLAB-Drive/Repositories/Transfer-Function-Analysis-of-Dynamic-Systems'\n",
    "open('TransferFunctions.prj')"
   ]
  },
  {
   "cell_type": "code",
   "execution_count": 2,
   "id": "496deb14",
   "metadata": {
    "slideshow": {
     "slide_type": "subslide"
    }
   },
   "outputs": [],
   "source": [
    "format compact\n",
    "% Use these symbolic variables\n",
    "syms L R k_e J B k_m    % Constants\n",
    "syms Theta I s V        % Laplace domain variables\n",
    "% Write your laplace transform equation here\n",
    "eqn1 = NaN;"
   ]
  },
  {
   "cell_type": "code",
   "execution_count": 3,
   "id": "58744a9d",
   "metadata": {
    "slideshow": {
     "slide_type": "subslide"
    }
   },
   "outputs": [],
   "source": [
    "% Write your laplace transform equation here\n",
    "eqn2 = NaN;"
   ]
  },
  {
   "cell_type": "code",
   "execution_count": 4,
   "id": "be35486a",
   "metadata": {
    "slideshow": {
     "slide_type": "subslide"
    }
   },
   "outputs": [],
   "source": [
    "% Write your transfer function here\n",
    "ThetaOverV = NaN;"
   ]
  },
  {
   "cell_type": "code",
   "execution_count": 5,
   "id": "07a87cf1",
   "metadata": {
    "slideshow": {
     "slide_type": "subslide"
    }
   },
   "outputs": [],
   "source": [
    "% Write your transfer function here\n",
    "OmegaOverV = NaN;"
   ]
  },
  {
   "cell_type": "code",
   "execution_count": 6,
   "id": "4dc8cafb",
   "metadata": {
    "slideshow": {
     "slide_type": "subslide"
    }
   },
   "outputs": [],
   "source": [
    "open('polesApp.mlapp')"
   ]
  },
  {
   "cell_type": "code",
   "execution_count": 7,
   "id": "c53db66e",
   "metadata": {
    "slideshow": {
     "slide_type": "subslide"
    }
   },
   "outputs": [],
   "source": [
    "% Write your code here"
   ]
  },
  {
   "cell_type": "code",
   "execution_count": 8,
   "id": "324defa6",
   "metadata": {
    "slideshow": {
     "slide_type": "subslide"
    }
   },
   "outputs": [],
   "source": [
    "% Write your code here"
   ]
  },
  {
   "cell_type": "code",
   "execution_count": 9,
   "id": "2fc41978",
   "metadata": {
    "slideshow": {
     "slide_type": "notes"
    }
   },
   "outputs": [],
   "source": [
    "% Write your code here"
   ]
  },
  {
   "cell_type": "code",
   "execution_count": 10,
   "id": "3cc3913c",
   "metadata": {
    "slideshow": {
     "slide_type": "fragment"
    }
   },
   "outputs": [],
   "source": [
    "open('PoleZeroAnalysis.mlx')"
   ]
  },
  {
   "cell_type": "code",
   "execution_count": 11,
   "id": "7359da85",
   "metadata": {
    "slideshow": {
     "slide_type": "subslide"
    }
   },
   "outputs": [],
   "source": [
    "% Write your code here"
   ]
  },
  {
   "cell_type": "code",
   "execution_count": 12,
   "id": "9b69b925",
   "metadata": {
    "slideshow": {
     "slide_type": "subslide"
    }
   },
   "outputs": [],
   "source": [
    "% Write your code here"
   ]
  },
  {
   "cell_type": "code",
   "execution_count": 13,
   "id": "e8f9ebeb",
   "metadata": {
    "slideshow": {
     "slide_type": "subslide"
    }
   },
   "outputs": [
    {
     "name": "stdout",
     "output_type": "stream",
     "text": [
      "X(s) =\n"
     ]
    },
    {
     "name": "stdout",
     "output_type": "stream",
     "text": [
      "K/(omega_n^2 + 2*zeta*omega_n*s + s^2)\n"
     ]
    },
    {
     "name": "stdout",
     "output_type": "stream",
     "text": [
      "x(t) =\n"
     ]
    },
    {
     "name": "stdout",
     "output_type": "stream",
     "text": [
      "(K*exp(-omega_n*t*zeta)*sin(omega_n*t*(1 - zeta^2)^(1/2)))/(omega_n*(1 - zeta^2)^(1/2))\n"
     ]
    }
   ],
   "source": [
    "syms s zeta omega_n K X(s) x(t)\n",
    "X(s) = K/(s^2 + 2*zeta*omega_n*s + omega_n^2) \n",
    "x(t) = ilaplace(X) % The impulse response in the time domain"
   ]
  },
  {
   "cell_type": "code",
   "execution_count": 14,
   "id": "e5754c6e",
   "metadata": {
    "slideshow": {
     "slide_type": "subslide"
    }
   },
   "outputs": [],
   "source": [
    "% Use these symbolic variables\n",
    "syms m c k\n",
    "% Replace the NaNs with your expressions\n",
    "K = NaN;\n",
    "omega_n = NaN;\n",
    "zeta = NaN;"
   ]
  },
  {
   "cell_type": "code",
   "execution_count": 15,
   "id": "6df0ee95",
   "metadata": {
    "slideshow": {
     "slide_type": "subslide"
    }
   },
   "outputs": [],
   "source": [
    "% Write your answers here\n",
    "poles = NaN;\n",
    "pplus = NaN;\n",
    "pminus = NaN;"
   ]
  },
  {
   "cell_type": "code",
   "execution_count": 16,
   "id": "85af3850",
   "metadata": {
    "slideshow": {
     "slide_type": "subslide"
    }
   },
   "outputs": [],
   "source": [
    "open('polesApp.mlapp')"
   ]
  },
  {
   "cell_type": "code",
   "execution_count": 17,
   "id": "c79af9f0",
   "metadata": {
    "slideshow": {
     "slide_type": "subslide"
    }
   },
   "outputs": [
    {
     "name": "stdout",
     "output_type": "stream",
     "text": [
      "x =\n",
      "   NaN\n"
     ]
    }
   ],
   "source": [
    "% Use these symbolic variables\n",
    "syms s z_0 t positive \n",
    "% Write your solution here\n",
    "x = NaN"
   ]
  },
  {
   "cell_type": "code",
   "execution_count": 18,
   "id": "07459758",
   "metadata": {
    "slideshow": {
     "slide_type": "subslide"
    }
   },
   "outputs": [],
   "source": [
    "% Create your plot here"
   ]
  },
  {
   "cell_type": "code",
   "execution_count": 19,
   "id": "7035c14f",
   "metadata": {
    "slideshow": {
     "slide_type": "subslide"
    }
   },
   "outputs": [
    {
     "name": "stdout",
     "output_type": "stream",
     "text": [
      "tlim =\n",
      "   NaN\n"
     ]
    }
   ],
   "source": [
    "% Write your solution here\n",
    "tlim = NaN"
   ]
  }
 ],
 "metadata": {
  "jupytext": {
   "formats": "ipynb,md:myst",
   "text_representation": {
    "extension": ".md",
    "format_name": "myst",
    "format_version": 0.13,
    "jupytext_version": "1.15.2"
   }
  },
  "kernelspec": {
   "display_name": "Matlab",
   "language": "matlab",
   "name": "matlab"
  },
  "language_info": {
   "codemirror_mode": "octave",
   "file_extension": ".m",
   "help_links": [
    {
     "text": "MetaKernel Magics",
     "url": "https://metakernel.readthedocs.io/en/latest/source/README.html"
    }
   ],
   "mimetype": "text/x-octave",
   "name": "matlab",
   "version": "0.17.1"
  },
  "source_map": [
   15,
   20,
   30,
   36,
   46,
   62,
   66,
   72,
   79,
   83,
   88,
   98,
   106,
   116,
   124,
   132,
   140,
   146,
   153,
   166,
   179,
   186,
   195,
   206,
   215,
   226,
   235,
   240,
   250,
   255,
   259,
   263,
   267,
   271,
   276,
   282,
   290,
   297,
   305,
   315,
   326,
   333,
   337,
   343,
   347,
   357,
   367,
   374,
   380,
   388,
   398,
   406,
   415,
   423,
   433,
   438,
   443,
   448,
   465,
   469,
   477,
   487,
   499,
   508,
   515,
   524,
   534,
   542,
   549,
   553,
   560,
   566,
   573,
   579,
   589,
   595,
   604,
   614,
   621,
   631,
   638,
   644,
   648,
   653,
   659,
   664,
   674,
   687,
   693,
   704,
   714,
   724,
   732,
   744,
   750,
   761,
   771,
   775,
   783,
   792,
   799,
   811,
   817,
   828,
   834,
   842,
   848,
   857,
   867,
   873,
   921
  ]
 },
 "nbformat": 4,
 "nbformat_minor": 5
}