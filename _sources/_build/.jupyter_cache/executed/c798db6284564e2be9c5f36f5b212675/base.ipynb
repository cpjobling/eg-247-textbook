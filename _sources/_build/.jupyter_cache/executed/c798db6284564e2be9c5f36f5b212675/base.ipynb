{
 "cells": [],
 "metadata": {
  "jupytext": {
   "formats": "ipynb,md:myst",
   "text_representation": {
    "extension": ".md",
    "format_name": "myst",
    "format_version": 0.12,
    "jupytext_version": "1.9.1"
   }
  },
  "kernelspec": {
   "display_name": "MATLAB",
   "language": "matlab",
   "name": "imatlab"
  },
  "language_info": {
   "codemirror_mode": "octave",
   "file_extension": ".m",
   "mimetype": "text/x-matlab",
   "name": "matlab",
   "nbconvert_exporter": "imatlab._exporter.MatlabExporter",
   "pygments_lexer": "matlab",
   "version": "9.11.0.1769968 (R2021b)"
  },
  "source_map": [
   15,
   19,
   23,
   35,
   41,
   45,
   49,
   53,
   57,
   63,
   69,
   75,
   81,
   87,
   93,
   99,
   107,
   117,
   123,
   133,
   137,
   145,
   153,
   159,
   169
  ]
 },
 "nbformat": 4,
 "nbformat_minor": 5
}