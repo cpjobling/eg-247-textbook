{
 "cells": [
  {
   "cell_type": "code",
   "execution_count": 1,
   "id": "c14fd31f",
   "metadata": {
    "slideshow": {
     "slide_type": "notes"
    }
   },
   "outputs": [],
   "source": [
    "clear all\n",
    "format compact\n",
    "imatlab_export_fig('print-svg')  % Static svg figures."
   ]
  },
  {
   "cell_type": "code",
   "execution_count": 2,
   "id": "6da772fb",
   "metadata": {
    "slideshow": {
     "slide_type": "subslide"
    }
   },
   "outputs": [
    {
     "name": "stdout",
     "output_type": "stream",
     "text": [
      "r =\n",
      "    1.0000\n",
      "    1.0000\n"
     ]
    },
    {
     "name": "stdout",
     "output_type": "stream",
     "text": [
      "p =\n",
      "   -3.0000\n",
      "   -2.0000\n"
     ]
    },
    {
     "name": "stdout",
     "output_type": "stream",
     "text": [
      "k =\n",
      "     []\n"
     ]
    }
   ],
   "source": [
    "Ns = [2, 5]; Ds = [1, 5, 6];\n",
    "[r,p,k] = residue(Ns, Ds)"
   ]
  },
  {
   "cell_type": "code",
   "execution_count": 3,
   "id": "c0b8f0ce",
   "metadata": {
    "slideshow": {
     "slide_type": "subslide"
    }
   },
   "outputs": [
    {
     "name": "stdout",
     "output_type": "stream",
     "text": [
      "exp(-2 t) + exp(-3 t)\n",
      "\n"
     ]
    }
   ],
   "source": [
    "syms s t;\n",
    "Fs = (2*s + 5)/(s^2 + 5*s + 6);\n",
    "ft = ilaplace(Fs);\n",
    "pretty(ft)"
   ]
  },
  {
   "cell_type": "code",
   "execution_count": 4,
   "id": "836277c4",
   "metadata": {
    "slideshow": {
     "slide_type": "subslide"
    }
   },
   "outputs": [
    {
     "name": "stdout",
     "output_type": "stream",
     "text": [
      "ans =\n"
     ]
    },
    {
     "name": "stdout",
     "output_type": "stream",
     "text": [
      "[s + 3, s + 5, s + 1]\n"
     ]
    }
   ],
   "source": [
    "syms s;\n",
    "factor(s^3 + 9*s^2 + 23*s + 15)"
   ]
  },
  {
   "cell_type": "code",
   "execution_count": 5,
   "id": "386156b5",
   "metadata": {},
   "outputs": [
    {
     "name": "stdout",
     "output_type": "stream",
     "text": [
      "r =\n",
      "     1\n"
     ]
    },
    {
     "name": "stdout",
     "output_type": "stream",
     "text": [
      "p =\n",
      "    -1\n"
     ]
    },
    {
     "name": "stdout",
     "output_type": "stream",
     "text": [
      "k =\n",
      "     1     1\n"
     ]
    }
   ],
   "source": [
    "Ns = [1, 2, 2]; Ds = [1 1];\n",
    "[r, p, k] = residue(Ns, Ds)"
   ]
  },
  {
   "cell_type": "code",
   "execution_count": 6,
   "id": "5f42adeb",
   "metadata": {
    "slideshow": {
     "slide_type": "subslide"
    }
   },
   "outputs": [
    {
     "name": "stdout",
     "output_type": "stream",
     "text": [
      "f6 =\n"
     ]
    },
    {
     "name": "stdout",
     "output_type": "stream",
     "text": [
      "exp(-t) + dirac(t) + dirac(1, t)\n"
     ]
    }
   ],
   "source": [
    "syms s;\n",
    "F6 = (s^2 + 2*s + 2)/(s + 1);\n",
    "f6 = ilaplace(F6)"
   ]
  },
  {
   "cell_type": "code",
   "execution_count": 7,
   "id": "2de07c0d",
   "metadata": {
    "slideshow": {
     "slide_type": "fragment"
    },
    "tags": [
     "remove-output"
    ]
   },
   "outputs": [
    {
     "name": "stdout",
     "output_type": "stream",
     "text": [
      "README.md        ex3_3.m          example_8.slx    tf_matlab.m\n",
      "\u001b[34mconvolution_demo\u001b[39;49m\u001b[0m ex3_4.m          solution3.m\n",
      "ex3_1.m          ex3_5.m          solution5.m\n",
      "ex3_2.m          example8.m       solution7.m\n",
      "\n"
     ]
    },
    {
     "name": "stdout",
     "output_type": "stream",
     "text": [
      "r =\n",
      "     4\n",
      "    -1\n"
     ]
    },
    {
     "name": "stdout",
     "output_type": "stream",
     "text": [
      "p =\n",
      "    -2\n",
      "    -1\n"
     ]
    },
    {
     "name": "stdout",
     "output_type": "stream",
     "text": [
      "k =\n",
      "     []\n"
     ]
    },
    {
     "name": "stdout",
     "output_type": "stream",
     "text": [
      "ft =\n"
     ]
    },
    {
     "name": "stdout",
     "output_type": "stream",
     "text": [
      "4*exp(-2*t) - exp(-t)\n"
     ]
    }
   ],
   "source": [
    "cd ../matlab\n",
    "ls\n",
    "open ex3_1\n",
    "ex3_1"
   ]
  }
 ],
 "metadata": {
  "jupytext": {
   "formats": "ipynb,md:myst",
   "text_representation": {
    "extension": ".md",
    "format_name": "myst",
    "format_version": 0.13,
    "jupytext_version": "1.11.5"
   }
  },
  "kernelspec": {
   "display_name": "MATLAB",
   "language": "matlab",
   "name": "imatlab"
  },
  "language_info": {
   "codemirror_mode": "octave",
   "file_extension": ".m",
   "mimetype": "text/x-matlab",
   "name": "matlab",
   "nbconvert_exporter": "imatlab._exporter.MatlabExporter",
   "pygments_lexer": "matlab",
   "version": "9.11.0.1769968 (R2021b)"
  },
  "source_map": [
   15,
   19,
   28,
   40,
   50,
   54,
   58,
   68,
   77,
   85,
   95,
   105,
   111,
   124,
   128,
   134,
   140,
   146,
   156,
   160,
   170,
   179,
   189,
   193,
   204,
   214,
   218,
   222,
   231,
   235,
   243,
   249,
   258,
   270,
   290,
   305,
   315,
   331,
   339,
   349,
   357,
   365,
   369,
   373,
   377,
   381,
   387,
   393,
   399,
   403,
   407,
   411,
   415,
   419,
   424,
   434,
   440,
   452,
   464,
   470
  ]
 },
 "nbformat": 4,
 "nbformat_minor": 5
}