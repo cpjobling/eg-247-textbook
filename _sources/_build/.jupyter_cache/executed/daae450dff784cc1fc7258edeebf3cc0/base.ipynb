{
 "cells": [
  {
   "cell_type": "code",
   "execution_count": 1,
   "id": "6a3a50e0",
   "metadata": {
    "slideshow": {
     "slide_type": "notes"
    }
   },
   "outputs": [],
   "source": [
    "%% Lecturer: set up the TransferFunctions project for in class execution of exercise tests and activities.\n",
    "\n",
    "% Setup MATLAB to use the ConceptReview.mlx LiveScript in class.\n",
    "% I am assuming that this is on the MATLAB Drive\n",
    "\n",
    "format compact \n",
    "% Change this to local set up where this Jupyter book is run\n",
    "cd '/Users/eechris/MATLAB-Drive/Repositories/Transfer-Function-Analysis-of-Dynamic-Systems'\n",
    "open('TransferFunctions.prj')"
   ]
  },
  {
   "cell_type": "code",
   "execution_count": 2,
   "id": "66635eff",
   "metadata": {
    "slideshow": {
     "slide_type": "fragment"
    }
   },
   "outputs": [],
   "source": [
    "format compact % use less white space in outputs\n",
    "syms t s\n",
    "syms a positive"
   ]
  },
  {
   "cell_type": "code",
   "execution_count": 3,
   "id": "80a0cad6",
   "metadata": {
    "slideshow": {
     "slide_type": "fragment"
    }
   },
   "outputs": [
    {
     "name": "stdout",
     "output_type": "stream",
     "text": [
      "f =\n"
     ]
    },
    {
     "name": "stdout",
     "output_type": "stream",
     "text": [
      "heaviside(t - a)\n"
     ]
    }
   ],
   "source": [
    "f = heaviside(t - a)"
   ]
  },
  {
   "cell_type": "code",
   "execution_count": 4,
   "id": "088d0193",
   "metadata": {},
   "outputs": [
    {
     "name": "stdout",
     "output_type": "stream",
     "text": [
      "Fs =\n"
     ]
    },
    {
     "name": "stdout",
     "output_type": "stream",
     "text": [
      "exp(-a*s)/s\n"
     ]
    }
   ],
   "source": [
    "Fs = laplace(f, t, s)"
   ]
  },
  {
   "cell_type": "code",
   "execution_count": 5,
   "id": "b0b471f7",
   "metadata": {
    "slideshow": {
     "slide_type": "subslide"
    }
   },
   "outputs": [],
   "source": [
    "% Symbolic variable declarations\n",
    "syms t s\n",
    "syms a positive"
   ]
  },
  {
   "cell_type": "code",
   "execution_count": 6,
   "id": "5095fee3",
   "metadata": {
    "slideshow": {
     "slide_type": "fragment"
    }
   },
   "outputs": [
    {
     "name": "stdout",
     "output_type": "stream",
     "text": [
      "f =\n",
      "     1\n"
     ]
    },
    {
     "name": "stdout",
     "output_type": "stream",
     "text": [
      "Fs =\n"
     ]
    },
    {
     "name": "stdout",
     "output_type": "stream",
     "text": [
      "1/s\n"
     ]
    }
   ],
   "source": [
    "f = 1\n",
    "Fs = laplace(f,t,s)"
   ]
  },
  {
   "cell_type": "code",
   "execution_count": 7,
   "id": "4d66705a",
   "metadata": {
    "slideshow": {
     "slide_type": "fragment"
    }
   },
   "outputs": [
    {
     "name": "stdout",
     "output_type": "stream",
     "text": [
      "f =\n"
     ]
    },
    {
     "name": "stdout",
     "output_type": "stream",
     "text": [
      "exp(-a*t)\n"
     ]
    },
    {
     "name": "stdout",
     "output_type": "stream",
     "text": [
      "Fs =\n"
     ]
    },
    {
     "name": "stdout",
     "output_type": "stream",
     "text": [
      "1/(a + s)\n"
     ]
    }
   ],
   "source": [
    "f = exp(-a*t)\n",
    "Fs = laplace(exp(-a*t))"
   ]
  },
  {
   "cell_type": "code",
   "execution_count": 8,
   "id": "65a2ec98",
   "metadata": {
    "slideshow": {
     "slide_type": "fragment"
    }
   },
   "outputs": [
    {
     "name": "stdout",
     "output_type": "stream",
     "text": [
      "f =\n"
     ]
    },
    {
     "name": "stdout",
     "output_type": "stream",
     "text": [
      "t\n"
     ]
    },
    {
     "name": "stdout",
     "output_type": "stream",
     "text": [
      "Fs =\n"
     ]
    },
    {
     "name": "stdout",
     "output_type": "stream",
     "text": [
      "1/s^2\n"
     ]
    }
   ],
   "source": [
    "f = t\n",
    "Fs = laplace(f, t, s)"
   ]
  },
  {
   "cell_type": "code",
   "execution_count": 9,
   "id": "856e25ac",
   "metadata": {
    "slideshow": {
     "slide_type": "fragment"
    }
   },
   "outputs": [
    {
     "name": "stdout",
     "output_type": "stream",
     "text": [
      "f =\n"
     ]
    },
    {
     "name": "stdout",
     "output_type": "stream",
     "text": [
      "dirac(a - t)\n"
     ]
    },
    {
     "name": "stdout",
     "output_type": "stream",
     "text": [
      "Fs =\n"
     ]
    },
    {
     "name": "stdout",
     "output_type": "stream",
     "text": [
      "exp(-a*s)\n"
     ]
    }
   ],
   "source": [
    "f = dirac(t - a)\n",
    "Fs = laplace(f, t, s)"
   ]
  },
  {
   "cell_type": "code",
   "execution_count": 10,
   "id": "74264741",
   "metadata": {
    "slideshow": {
     "slide_type": "fragment"
    }
   },
   "outputs": [
    {
     "name": "stdout",
     "output_type": "stream",
     "text": [
      "f =\n"
     ]
    },
    {
     "name": "stdout",
     "output_type": "stream",
     "text": [
      "cos(t)\n"
     ]
    },
    {
     "name": "stdout",
     "output_type": "stream",
     "text": [
      "Fs =\n"
     ]
    },
    {
     "name": "stdout",
     "output_type": "stream",
     "text": [
      "s/(s^2 + 1)\n"
     ]
    }
   ],
   "source": [
    "f = cos(t)\n",
    "Fs = laplace(f, t, s)"
   ]
  },
  {
   "cell_type": "code",
   "execution_count": 11,
   "id": "7817e24c",
   "metadata": {
    "slideshow": {
     "slide_type": "fragment"
    }
   },
   "outputs": [
    {
     "name": "stdout",
     "output_type": "stream",
     "text": [
      "f =\n"
     ]
    },
    {
     "name": "stdout",
     "output_type": "stream",
     "text": [
      "t^2*exp(-a*t)\n"
     ]
    },
    {
     "name": "stdout",
     "output_type": "stream",
     "text": [
      "Fs =\n"
     ]
    },
    {
     "name": "stdout",
     "output_type": "stream",
     "text": [
      "2/(a + s)^3\n"
     ]
    }
   ],
   "source": [
    "f = t^2 * exp(-a*t)\n",
    "Fs = laplace(f, t, s)"
   ]
  },
  {
   "cell_type": "code",
   "execution_count": 12,
   "id": "fff48127",
   "metadata": {
    "slideshow": {
     "slide_type": "fragment"
    }
   },
   "outputs": [
    {
     "name": "stdout",
     "output_type": "stream",
     "text": [
      "f =\n"
     ]
    },
    {
     "name": "stdout",
     "output_type": "stream",
     "text": [
      "exp(-a*t)*sin(t)\n"
     ]
    },
    {
     "name": "stdout",
     "output_type": "stream",
     "text": [
      "Fs =\n"
     ]
    },
    {
     "name": "stdout",
     "output_type": "stream",
     "text": [
      "1/((a + s)^2 + 1)\n"
     ]
    }
   ],
   "source": [
    "f = exp(-a*t) * sin(t)\n",
    "Fs = laplace(f, t, s)"
   ]
  },
  {
   "cell_type": "code",
   "execution_count": 13,
   "id": "37aa949a",
   "metadata": {
    "slideshow": {
     "slide_type": "subslide"
    }
   },
   "outputs": [],
   "source": [
    "open('ConceptReview.mlx')"
   ]
  },
  {
   "cell_type": "code",
   "execution_count": 14,
   "id": "a64a6271",
   "metadata": {
    "slideshow": {
     "slide_type": "fragment"
    }
   },
   "outputs": [],
   "source": [
    "syms f(t)"
   ]
  },
  {
   "cell_type": "code",
   "execution_count": 15,
   "id": "4515d301",
   "metadata": {
    "slideshow": {
     "slide_type": "fragment"
    }
   },
   "outputs": [
    {
     "name": "stdout",
     "output_type": "stream",
     "text": [
      "dfdt(t) =\n"
     ]
    },
    {
     "name": "stdout",
     "output_type": "stream",
     "text": [
      "diff(f(t), t)\n"
     ]
    }
   ],
   "source": [
    "syms t f(t)\n",
    "dfdt = diff(f)"
   ]
  },
  {
   "cell_type": "code",
   "execution_count": 16,
   "id": "39c25ebc",
   "metadata": {
    "slideshow": {
     "slide_type": "fragment"
    }
   },
   "outputs": [
    {
     "name": "stdout",
     "output_type": "stream",
     "text": [
      "Fs =\n"
     ]
    },
    {
     "name": "stdout",
     "output_type": "stream",
     "text": [
      "s*laplace(f(t), t, s) - f(0)\n"
     ]
    }
   ],
   "source": [
    "Fs = laplace(dfdt)"
   ]
  },
  {
   "cell_type": "code",
   "execution_count": 17,
   "id": "5d012ba9",
   "metadata": {
    "slideshow": {
     "slide_type": "fragment"
    }
   },
   "outputs": [
    {
     "name": "stdout",
     "output_type": "stream",
     "text": [
      "d2fdt2(t) =\n"
     ]
    },
    {
     "name": "stdout",
     "output_type": "stream",
     "text": [
      "diff(f(t), t, t)\n"
     ]
    }
   ],
   "source": [
    "syms t f(t) % Definitions of the symbolic variables\n",
    "% Perform your symbolic computations here\n",
    "d2fdt2 = diff(f,2)"
   ]
  },
  {
   "cell_type": "code",
   "execution_count": 18,
   "id": "ea725935",
   "metadata": {
    "slideshow": {
     "slide_type": "fragment"
    }
   },
   "outputs": [
    {
     "name": "stdout",
     "output_type": "stream",
     "text": [
      "Fs =\n"
     ]
    },
    {
     "name": "stdout",
     "output_type": "stream",
     "text": [
      "s^2*laplace(f(t), t, s) - subs(diff(f(t), t), t, 0) - s*f(0)\n"
     ]
    }
   ],
   "source": [
    "Fs = laplace(d2fdt2)"
   ]
  },
  {
   "cell_type": "code",
   "execution_count": 19,
   "id": "e3f3b6f7",
   "metadata": {
    "slideshow": {
     "slide_type": "subslide"
    }
   },
   "outputs": [
    {
     "name": "stdout",
     "output_type": "stream",
     "text": [
      "X =\n"
     ]
    },
    {
     "name": "stdout",
     "output_type": "stream",
     "text": [
      "10/(s^3 + 2*s^2 + 10*s)\n"
     ]
    }
   ],
   "source": [
    "% Define X(s)\n",
    "syms s \n",
    "X = 10/(s^3 + 2*s^2 + 10*s)"
   ]
  },
  {
   "cell_type": "code",
   "execution_count": 20,
   "id": "56b1564f",
   "metadata": {
    "slideshow": {
     "slide_type": "subslide"
    }
   },
   "outputs": [
    {
     "name": "stdout",
     "output_type": "stream",
     "text": [
      "Xdecomp =\n"
     ]
    },
    {
     "name": "stdout",
     "output_type": "stream",
     "text": [
      "1/s - (s + 2)/(s^2 + 2*s + 10)\n"
     ]
    }
   ],
   "source": [
    "% Compute the partial fraction decomposition\n",
    "Xdecomp = partfrac(X,s)"
   ]
  },
  {
   "cell_type": "code",
   "execution_count": 21,
   "id": "c9224fcf",
   "metadata": {
    "slideshow": {
     "slide_type": "fragment"
    }
   },
   "outputs": [
    {
     "name": "stdout",
     "output_type": "stream",
     "text": [
      "x =\n"
     ]
    },
    {
     "name": "stdout",
     "output_type": "stream",
     "text": [
      "1 - exp(-t)*(cos(3*t) + sin(3*t)/3)\n"
     ]
    }
   ],
   "source": [
    "syms x\n",
    "x = ilaplace(X)"
   ]
  },
  {
   "cell_type": "code",
   "execution_count": 22,
   "id": "fd0ecaed",
   "metadata": {
    "slideshow": {
     "slide_type": "fragment"
    }
   },
   "outputs": [
    {
     "data": {
      "image/png": "[encoded data removed]",
      "text/plain": [
       "<IPython.core.display.Image object>"
      ]
     },
     "metadata": {},
     "output_type": "display_data"
    }
   ],
   "source": [
    "% Create solution array\n",
    "t = linspace(0,5,150);\n",
    "x = 1-exp(-t).*(cos(3*t) + 1/3*sin(3*t));\n",
    "plot(t, x)"
   ]
  },
  {
   "cell_type": "code",
   "execution_count": 23,
   "id": "dc8859e8",
   "metadata": {
    "slideshow": {
     "slide_type": "fragment"
    }
   },
   "outputs": [],
   "source": [
    "open('ConceptReview.mlx')"
   ]
  },
  {
   "cell_type": "code",
   "execution_count": 24,
   "id": "c5feb21b",
   "metadata": {
    "slideshow": {
     "slide_type": "subslide"
    }
   },
   "outputs": [
    {
     "name": "stdout",
     "output_type": "stream",
     "text": [
      "theta =\n"
     ]
    },
    {
     "name": "stdout",
     "output_type": "stream",
     "text": [
      "(pi*cos((7*2^(1/2)*5^(1/2)*t)/5))/6\n"
     ]
    }
   ],
   "source": [
    "syms t s\n",
    "% Replace NaN with your symbolic solution and run the section\n",
    "Theta = (pi/6)*s/(s^2 + 19.6);\n",
    "theta = ilaplace(Theta)"
   ]
  },
  {
   "cell_type": "code",
   "execution_count": 25,
   "id": "140d6c25",
   "metadata": {
    "slideshow": {
     "slide_type": "fragment"
    }
   },
   "outputs": [],
   "source": [
    "open('ConceptReview.mlx')"
   ]
  },
  {
   "cell_type": "code",
   "execution_count": 26,
   "id": "e6321a12",
   "metadata": {
    "slideshow": {
     "slide_type": "fragment"
    }
   },
   "outputs": [],
   "source": [
    "open('ConceptReview.mlx')"
   ]
  },
  {
   "cell_type": "code",
   "execution_count": null,
   "id": "2b439559",
   "metadata": {},
   "outputs": [],
   "source": []
  }
 ],
 "metadata": {
  "jupytext": {
   "formats": "ipynb,md:myst",
   "text_representation": {
    "extension": ".md",
    "format_name": "myst",
    "format_version": 0.13,
    "jupytext_version": "1.15.2"
   }
  },
  "kernelspec": {
   "display_name": "Matlab",
   "language": "matlab",
   "name": "matlab"
  },
  "language_info": {
   "codemirror_mode": "octave",
   "file_extension": ".m",
   "help_links": [
    {
     "text": "MetaKernel Magics",
     "url": "https://metakernel.readthedocs.io/en/latest/source/README.html"
    }
   ],
   "mimetype": "text/x-octave",
   "name": "matlab",
   "version": "0.17.1"
  },
  "source_map": [
   15,
   20,
   31,
   41,
   57,
   63,
   68,
   76,
   82,
   86,
   92,
   96,
   100,
   106,
   115,
   122,
   126,
   136,
   140,
   148,
   152,
   156,
   168,
   172,
   176,
   186,
   190,
   199,
   203,
   212,
   216,
   225,
   229,
   238,
   242,
   251,
   255,
   264,
   268,
   277,
   285,
   293,
   302,
   308,
   315,
   336,
   340,
   344,
   356,
   364,
   372,
   376,
   385,
   389,
   397,
   407,
   413,
   421,
   425,
   435,
   443,
   451,
   461,
   472,
   476,
   484,
   488,
   494,
   500,
   506,
   512,
   518,
   528,
   537,
   543,
   547,
   561,
   565,
   574,
   578,
   589,
   593,
   601,
   611,
   619,
   632,
   643,
   647,
   655,
   665,
   676,
   684,
   699,
   707,
   716,
   857,
   865,
   873
  ]
 },
 "nbformat": 4,
 "nbformat_minor": 5
}