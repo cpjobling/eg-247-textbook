{
 "cells": [
  {
   "cell_type": "code",
   "execution_count": 1,
   "id": "b549b550",
   "metadata": {
    "slideshow": {
     "slide_type": "subslide"
    }
   },
   "outputs": [
    {
     "name": "stdout",
     "output_type": "stream",
     "text": [
      "ans =\n",
      "1\n"
     ]
    }
   ],
   "source": [
    "format compact; setappdata(0, \"MKernel_plot_format\", 'svg')\n",
    "syms t;\n",
    "fourier(dirac(t))"
   ]
  },
  {
   "cell_type": "code",
   "execution_count": 2,
   "id": "f0a8b3a9",
   "metadata": {
    "slideshow": {
     "slide_type": "subslide"
    }
   },
   "outputs": [
    {
     "name": "stdout",
     "output_type": "stream",
     "text": [
      "ans =\n",
      "2*pi*dirac(omega)\n"
     ]
    }
   ],
   "source": [
    "syms t omega;\n",
    "A = sym(1);\n",
    "fourier(A,omega)"
   ]
  }
 ],
 "metadata": {
  "jupytext": {
   "formats": "ipynb,md:myst",
   "text_representation": {
    "extension": ".md",
    "format_name": "myst",
    "format_version": 0.13,
    "jupytext_version": "1.15.2"
   }
  },
  "kernelspec": {
   "display_name": "MKernel",
   "language": "matlab",
   "name": "mkernel"
  },
  "language_info": {
   "file_extension": ".m",
   "mimetype": "text/x-matlab",
   "name": "matlab"
  },
  "source_map": [
   15,
   21,
   33,
   54,
   63,
   69,
   77,
   85,
   89,
   97,
   103,
   119,
   123,
   139,
   149,
   153,
   163,
   169,
   177,
   181,
   191,
   197,
   207,
   217,
   231,
   241,
   251,
   263,
   279,
   287,
   291,
   301,
   311,
   317,
   323,
   329,
   335,
   347,
   353,
   357,
   369,
   375,
   379,
   390,
   394,
   405,
   414,
   420
  ]
 },
 "nbformat": 4,
 "nbformat_minor": 5
}