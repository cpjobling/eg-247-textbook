{
 "cells": [
  {
   "cell_type": "code",
   "execution_count": 1,
   "id": "6e756724",
   "metadata": {
    "slideshow": {
     "slide_type": "notes"
    }
   },
   "outputs": [],
   "source": [
    "%% Lecturer: set up the TransferFunctions project for in class execution of exercise tests and activities.\n",
    "\n",
    "% Setup MATLAB to use the ConceptReview.mlx LiveScript in class.\n",
    "% I am assuming that this is on the MATLAB Drive\n",
    "\n",
    "format compact; % use less white space in outputs\n",
    "setappdata(0, \"MKernel_plot_format\", 'svg')\n",
    "% Change this to local set up where this Jupyter book is run\n",
    "cd '/Users/eechris/MATLAB-Drive/Repositories/Transfer-Function-Analysis-of-Dynamic-Systems'\n",
    "open('TransferFunctions.prj')"
   ]
  },
  {
   "cell_type": "code",
   "execution_count": 2,
   "id": "ede015fd",
   "metadata": {
    "slideshow": {
     "slide_type": "fragment"
    }
   },
   "outputs": [],
   "source": [
    "syms t s\n",
    "syms a positive"
   ]
  },
  {
   "cell_type": "code",
   "execution_count": 3,
   "id": "02385ec2",
   "metadata": {
    "slideshow": {
     "slide_type": "fragment"
    }
   },
   "outputs": [
    {
     "name": "stdout",
     "output_type": "stream",
     "text": [
      "f =\n",
      "heaviside(t - a)\n"
     ]
    }
   ],
   "source": [
    "f = heaviside(t - a)"
   ]
  },
  {
   "cell_type": "code",
   "execution_count": 4,
   "id": "2eef2e28",
   "metadata": {},
   "outputs": [
    {
     "name": "stdout",
     "output_type": "stream",
     "text": [
      "Fs =\n",
      "exp(-a*s)/s\n"
     ]
    }
   ],
   "source": [
    "Fs = laplace(f, t, s)"
   ]
  },
  {
   "cell_type": "code",
   "execution_count": 5,
   "id": "ba10517f",
   "metadata": {
    "slideshow": {
     "slide_type": "subslide"
    }
   },
   "outputs": [],
   "source": [
    "% Symbolic variable declarations\n",
    "syms t s\n",
    "syms a positive"
   ]
  },
  {
   "cell_type": "code",
   "execution_count": 6,
   "id": "363e0229",
   "metadata": {
    "slideshow": {
     "slide_type": "fragment"
    }
   },
   "outputs": [
    {
     "name": "stdout",
     "output_type": "stream",
     "text": [
      "f =\n",
      "     1\n",
      "Fs =\n",
      "1/s\n"
     ]
    }
   ],
   "source": [
    "f = 1\n",
    "Fs = laplace(f,t,s)"
   ]
  },
  {
   "cell_type": "code",
   "execution_count": 7,
   "id": "1bfde36d",
   "metadata": {
    "slideshow": {
     "slide_type": "fragment"
    }
   },
   "outputs": [
    {
     "name": "stdout",
     "output_type": "stream",
     "text": [
      "f =\n",
      "exp(-a*t)\n",
      "Fs =\n",
      "1/(a + s)\n"
     ]
    }
   ],
   "source": [
    "f = exp(-a*t)\n",
    "Fs = laplace(exp(-a*t))"
   ]
  },
  {
   "cell_type": "code",
   "execution_count": 8,
   "id": "87c93cd6",
   "metadata": {
    "slideshow": {
     "slide_type": "fragment"
    }
   },
   "outputs": [
    {
     "name": "stdout",
     "output_type": "stream",
     "text": [
      "f =\n",
      "t\n",
      "Fs =\n",
      "1/s^2\n"
     ]
    }
   ],
   "source": [
    "f = t\n",
    "Fs = laplace(f, t, s)"
   ]
  },
  {
   "cell_type": "code",
   "execution_count": 9,
   "id": "ea906aaf",
   "metadata": {
    "slideshow": {
     "slide_type": "fragment"
    }
   },
   "outputs": [
    {
     "name": "stdout",
     "output_type": "stream",
     "text": [
      "f =\n",
      "dirac(a - t)\n",
      "Fs =\n",
      "exp(-a*s)\n"
     ]
    }
   ],
   "source": [
    "f = dirac(t - a)\n",
    "Fs = laplace(f, t, s)"
   ]
  },
  {
   "cell_type": "code",
   "execution_count": 10,
   "id": "67de313f",
   "metadata": {
    "slideshow": {
     "slide_type": "fragment"
    }
   },
   "outputs": [
    {
     "name": "stdout",
     "output_type": "stream",
     "text": [
      "f =\n",
      "cos(t)\n",
      "Fs =\n",
      "s/(s^2 + 1)\n"
     ]
    }
   ],
   "source": [
    "f = cos(t)\n",
    "Fs = laplace(f, t, s)"
   ]
  },
  {
   "cell_type": "code",
   "execution_count": 11,
   "id": "04272ad8",
   "metadata": {
    "slideshow": {
     "slide_type": "fragment"
    }
   },
   "outputs": [
    {
     "name": "stdout",
     "output_type": "stream",
     "text": [
      "f =\n",
      "t^2*exp(-a*t)\n",
      "Fs =\n",
      "2/(a + s)^3\n"
     ]
    }
   ],
   "source": [
    "f = t^2 * exp(-a*t)\n",
    "Fs = laplace(f, t, s)"
   ]
  },
  {
   "cell_type": "code",
   "execution_count": 12,
   "id": "dc53ddc7",
   "metadata": {
    "slideshow": {
     "slide_type": "fragment"
    }
   },
   "outputs": [
    {
     "name": "stdout",
     "output_type": "stream",
     "text": [
      "f =\n",
      "exp(-a*t)*sin(t)\n",
      "Fs =\n",
      "1/((a + s)^2 + 1)\n"
     ]
    }
   ],
   "source": [
    "f = exp(-a*t) * sin(t)\n",
    "Fs = laplace(f, t, s)"
   ]
  },
  {
   "cell_type": "code",
   "execution_count": 13,
   "id": "6a2e4ef5",
   "metadata": {
    "slideshow": {
     "slide_type": "subslide"
    }
   },
   "outputs": [],
   "source": [
    "open('ConceptReview.mlx')"
   ]
  },
  {
   "cell_type": "code",
   "execution_count": 14,
   "id": "e1c5d258",
   "metadata": {
    "slideshow": {
     "slide_type": "fragment"
    }
   },
   "outputs": [],
   "source": [
    "syms f(t)"
   ]
  },
  {
   "cell_type": "code",
   "execution_count": 15,
   "id": "6ecf2d9e",
   "metadata": {
    "slideshow": {
     "slide_type": "fragment"
    }
   },
   "outputs": [
    {
     "name": "stdout",
     "output_type": "stream",
     "text": [
      "dfdt(t) =\n",
      "diff(f(t), t)\n"
     ]
    }
   ],
   "source": [
    "syms t f(t)\n",
    "dfdt = diff(f)"
   ]
  },
  {
   "cell_type": "code",
   "execution_count": 16,
   "id": "81f0a9e6",
   "metadata": {
    "slideshow": {
     "slide_type": "fragment"
    }
   },
   "outputs": [
    {
     "name": "stdout",
     "output_type": "stream",
     "text": [
      "Fs =\n",
      "s*laplace(f(t), t, s) - f(0)\n"
     ]
    }
   ],
   "source": [
    "Fs = laplace(dfdt)"
   ]
  },
  {
   "cell_type": "code",
   "execution_count": 17,
   "id": "da56564d",
   "metadata": {
    "slideshow": {
     "slide_type": "fragment"
    }
   },
   "outputs": [
    {
     "name": "stdout",
     "output_type": "stream",
     "text": [
      "d2fdt2(t) =\n",
      "diff(f(t), t, t)\n"
     ]
    }
   ],
   "source": [
    "syms t f(t) % Definitions of the symbolic variables\n",
    "% Perform your symbolic computations here\n",
    "d2fdt2 = diff(f,2)"
   ]
  },
  {
   "cell_type": "code",
   "execution_count": 18,
   "id": "49aceb08",
   "metadata": {
    "slideshow": {
     "slide_type": "fragment"
    }
   },
   "outputs": [
    {
     "name": "stdout",
     "output_type": "stream",
     "text": [
      "Fs =\n",
      "s^2*laplace(f(t), t, s) - subs(diff(f(t), t), t, 0) - s*f(0)\n"
     ]
    }
   ],
   "source": [
    "Fs = laplace(d2fdt2)"
   ]
  },
  {
   "cell_type": "code",
   "execution_count": 19,
   "id": "e8e2cdf7",
   "metadata": {
    "slideshow": {
     "slide_type": "subslide"
    }
   },
   "outputs": [
    {
     "name": "stdout",
     "output_type": "stream",
     "text": [
      "X =\n",
      "10/(s^3 + 2*s^2 + 10*s)\n"
     ]
    }
   ],
   "source": [
    "% Define X(s)\n",
    "syms s\n",
    "X = 10/(s^3 + 2*s^2 + 10*s)"
   ]
  },
  {
   "cell_type": "code",
   "execution_count": 20,
   "id": "a16e159f",
   "metadata": {
    "slideshow": {
     "slide_type": "subslide"
    }
   },
   "outputs": [
    {
     "name": "stdout",
     "output_type": "stream",
     "text": [
      "Xdecomp =\n",
      "1/s - (s + 2)/(s^2 + 2*s + 10)\n"
     ]
    }
   ],
   "source": [
    "% Compute the partial fraction decomposition\n",
    "Xdecomp = partfrac(X,s)"
   ]
  },
  {
   "cell_type": "code",
   "execution_count": 21,
   "id": "c5bf0118",
   "metadata": {
    "slideshow": {
     "slide_type": "fragment"
    }
   },
   "outputs": [
    {
     "name": "stdout",
     "output_type": "stream",
     "text": [
      "x =\n",
      "1 - exp(-t)*(cos(3*t) + sin(3*t)/3)\n"
     ]
    }
   ],
   "source": [
    "syms x\n",
    "x = ilaplace(Xdecomp)"
   ]
  },
  {
   "cell_type": "code",
   "execution_count": 22,
   "id": "cd17ce0e",
   "metadata": {
    "slideshow": {
     "slide_type": "fragment"
    }
   },
   "outputs": [
    {
     "data": {
      "image/svg+xml": [
       "<?xml version=\"1.0\"?>\n",
       "<!DOCTYPE svg PUBLIC '-//W3C//DTD SVG 1.0//EN'\n",
       "          'http://www.w3.org/TR/2001/REC-SVG-20010904/DTD/svg10.dtd'>\n",
       "<svg xmlns:xlink=\"http://www.w3.org/1999/xlink\" style=\"fill-opacity:1; color-rendering:auto; color-interpolation:auto; text-rendering:auto; stroke:black; stroke-linecap:square; stroke-miterlimit:10; shape-rendering:auto; stroke-opacity:1; fill:black; stroke-dasharray:none; font-weight:normal; stroke-width:1; font-family:'Dialog'; font-style:normal; stroke-linejoin:miter; font-size:12px; stroke-dashoffset:0; image-rendering:auto;\" width=\"560\" height=\"420\" xmlns=\"http://www.w3.org/2000/svg\"\n",
       "><!--Generated by the Batik Graphics2D SVG Generator--><defs id=\"genericDefs\"\n",
       "  /><g\n",
       "  ><defs id=\"defs1\"\n",
       "    ><clipPath clipPathUnits=\"userSpaceOnUse\" id=\"clipPath1\"\n",
       "      ><path d=\"M0 0 L560 0 L560 420 L0 420 L0 0 Z\"\n",
       "      /></clipPath\n",
       "      ><font horiz-adv-x=\"50.0\" id=\"font1\"\n",
       "      ><font-face ascent=\"95.200005\" descent=\"21.3\" units-per-em=\"100\" style=\"font-style:normal; font-family:Helvetica Neue; font-weight:normal;\"\n",
       "        /><missing-glyph horiz-adv-x=\"50.0\" d=\"M40.9 66.6 L10.2 66.6 L10.2 4.7 L40.9 4.7 ZM46 71.2 L46 0.1 L5.1 0.1 L5.1 71.2 Z\"\n",
       "        /><glyph unicode=\"0\" horiz-adv-x=\"55.6\" d=\"M13.2 34.9 Q13.2 37.5 13.25 40.65 Q13.3 43.8 13.75 46.95 Q14.2 50.1 15.05 53.1 Q15.9 56.1 17.55 58.35 Q19.2 60.6 21.7 62 Q24.2 63.4 27.8 63.4 Q31.4 63.4 33.9 62 Q36.4 60.6 38.05 58.35 Q39.7 56.1 40.55 53.1 Q41.4 50.1 41.85 46.95 Q42.3 43.8 42.35 40.65 Q42.4 37.5 42.4 34.9 Q42.4 30.9 42.15 25.95 Q41.9 21 40.55 16.65 Q39.2 12.3 36.2 9.3 Q33.2 6.3 27.8 6.3 Q22.4 6.3 19.4 9.3 Q16.4 12.3 15.05 16.65 Q13.7 21 13.45 25.95 Q13.2 30.9 13.2 34.9 ZM4.2 34.8 Q4.2 30.9 4.4 26.7 Q4.6 22.5 5.4 18.5 Q6.2 14.5 7.7 10.95 Q9.2 7.4 11.8 4.7 Q14.4 2 18.35 0.45 Q22.3 -1.1 27.8 -1.1 Q33.4 -1.1 37.3 0.45 Q41.2 2 43.8 4.7 Q46.4 7.4 47.9 10.95 Q49.4 14.5 50.2 18.5 Q51 22.5 51.2 26.7 Q51.4 30.9 51.4 34.8 Q51.4 38.7 51.2 42.9 Q51 47.1 50.2 51.1 Q49.4 55.1 47.9 58.7 Q46.4 62.3 43.8 65 Q41.2 67.7 37.25 69.3 Q33.3 70.9 27.8 70.9 Q22.3 70.9 18.35 69.3 Q14.4 67.7 11.8 65 Q9.2 62.3 7.7 58.7 Q6.2 55.1 5.4 51.1 Q4.6 47.1 4.4 42.9 Q4.2 38.7 4.2 34.8 Z\"\n",
       "        /><glyph unicode=\"5\" horiz-adv-x=\"55.6\" d=\"M47 62.2 L47 69.7 L12 69.7 L5.4 32.9 L12.7 32.5 Q15.2 35.5 18.45 37.35 Q21.7 39.2 25.9 39.2 Q29.5 39.2 32.45 38 Q35.4 36.8 37.5 34.65 Q39.6 32.5 40.75 29.55 Q41.9 26.6 41.9 23.1 Q41.9 18.9 40.7 15.75 Q39.5 12.6 37.45 10.5 Q35.4 8.4 32.65 7.35 Q29.9 6.3 26.9 6.3 Q23.7 6.3 21.05 7.25 Q18.4 8.2 16.45 9.95 Q14.5 11.7 13.35 14.05 Q12.2 16.4 12 19.1 L3.5 19.1 Q3.6 14.3 5.4 10.5 Q7.2 6.7 10.3 4.15 Q13.4 1.6 17.45 0.25 Q21.5 -1.1 26.1 -1.1 Q32.3 -1.1 36.95 0.85 Q41.6 2.8 44.7 6.1 Q47.8 9.4 49.35 13.65 Q50.9 17.9 50.9 22.4 Q50.9 28.5 49.1 33.05 Q47.3 37.6 44.2 40.65 Q41.1 43.7 36.9 45.2 Q32.7 46.7 28 46.7 Q24.4 46.7 20.75 45.45 Q17.1 44.2 14.8 41.6 L14.6 41.8 L18.4 62.2 Z\"\n",
       "        /><glyph unicode=\".\" horiz-adv-x=\"27.8\" d=\"M8.3 11.1 L8.3 0 L19.4 0 L19.4 11.1 Z\"\n",
       "        /><glyph unicode=\"1\" horiz-adv-x=\"55.6\" d=\"M35.6 0 L35.6 70.9 L29.1 70.9 Q28.4 66.9 26.5 64.3 Q24.6 61.7 21.85 60.2 Q19.1 58.7 15.7 58.15 Q12.3 57.6 8.7 57.6 L8.7 50.8 L27.1 50.8 L27.1 0 Z\"\n",
       "        /><glyph unicode=\"2\" horiz-adv-x=\"55.6\" d=\"M4.4 45.8 L12.9 45.8 Q12.8 49 13.55 52.15 Q14.3 55.3 16 57.8 Q17.7 60.3 20.35 61.85 Q23 63.4 26.7 63.4 Q29.5 63.4 32 62.5 Q34.5 61.6 36.35 59.9 Q38.2 58.2 39.3 55.85 Q40.4 53.5 40.4 50.6 Q40.4 46.9 39.25 44.1 Q38.1 41.3 35.85 38.9 Q33.6 36.5 30.2 34.15 Q26.8 31.8 22.3 29 Q18.6 26.8 15.2 24.3 Q11.8 21.8 9.1 18.5 Q6.4 15.2 4.65 10.75 Q2.9 6.3 2.4 0 L48.7 0 L48.7 7.5 L12.3 7.5 Q12.9 10.8 14.85 13.35 Q16.8 15.9 19.55 18.1 Q22.3 20.3 25.6 22.25 Q28.9 24.2 32.2 26.2 Q35.5 28.3 38.6 30.6 Q41.7 32.9 44.1 35.75 Q46.5 38.6 47.95 42.2 Q49.4 45.8 49.4 50.5 Q49.4 55.5 47.65 59.3 Q45.9 63.1 42.9 65.65 Q39.9 68.2 35.85 69.55 Q31.8 70.9 27.2 70.9 Q21.6 70.9 17.2 69 Q12.8 67.1 9.85 63.75 Q6.9 60.4 5.5 55.8 Q4.1 51.2 4.4 45.8 Z\"\n",
       "        /><glyph unicode=\"3\" horiz-adv-x=\"55.6\" d=\"M21.8 40.5 L21.8 33.3 Q24.2 33.6 26.9 33.6 Q30.1 33.6 32.85 32.75 Q35.6 31.9 37.6 30.15 Q39.6 28.4 40.8 25.85 Q42 23.3 42 20 Q42 16.8 40.75 14.25 Q39.5 11.7 37.4 9.95 Q35.3 8.2 32.5 7.25 Q29.7 6.3 26.6 6.3 Q19.3 6.3 15.5 10.65 Q11.7 15 11.5 21.9 L3 21.9 Q2.9 16.4 4.55 12.1 Q6.2 7.8 9.3 4.85 Q12.4 1.9 16.8 0.4 Q21.2 -1.1 26.6 -1.1 Q31.6 -1.1 36.05 0.25 Q40.5 1.6 43.8 4.3 Q47.1 7 49.05 11.05 Q51 15.1 51 20.4 Q51 26.8 47.85 31.5 Q44.7 36.2 38.2 37.6 L38.2 37.8 Q42.4 39.7 45.2 43.4 Q48 47.1 48 51.9 Q48 56.8 46.35 60.4 Q44.7 64 41.8 66.3 Q38.9 68.6 34.95 69.75 Q31 70.9 26.4 70.9 Q21.1 70.9 17.05 69.2 Q13 67.5 10.3 64.5 Q7.6 61.5 6.15 57.3 Q4.7 53.1 4.5 48 L13 48 Q13 51.1 13.8 53.9 Q14.6 56.7 16.25 58.8 Q17.9 60.9 20.45 62.15 Q23 63.4 26.4 63.4 Q31.8 63.4 35.4 60.55 Q39 57.7 39 52 Q39 49.2 37.9 47 Q36.8 44.8 34.95 43.35 Q33.1 41.9 30.65 41.15 Q28.2 40.4 25.5 40.4 L23.7 40.4 Q23.2 40.4 22.7 40.4 Q22.3 40.4 21.8 40.5 Z\"\n",
       "        /><glyph unicode=\"4\" horiz-adv-x=\"55.6\" d=\"M33.9 24.1 L10.1 24.1 L33.7 58.8 L33.9 58.8 ZM41.9 24.1 L41.9 70.9 L35.1 70.9 L2.8 24.8 L2.8 16.6 L33.9 16.6 L33.9 0 L41.9 0 L41.9 16.6 L51.5 16.6 L51.5 24.1 Z\"\n",
       "        /><glyph unicode=\"6\" horiz-adv-x=\"55.6\" d=\"M41.4 52.8 L49.9 52.8 Q49.1 61.6 43.9 66.25 Q38.7 70.9 29.9 70.9 Q22.3 70.9 17.3 67.7 Q12.3 64.5 9.3 59.2 Q6.3 53.9 5.05 47.05 Q3.8 40.2 3.8 32.9 Q3.8 27.3 4.65 21.3 Q5.5 15.3 8.1 10.3 Q10.7 5.3 15.5 2.1 Q20.3 -1.1 28.2 -1.1 Q34.9 -1.1 39.45 1.15 Q44 3.4 46.75 6.85 Q49.5 10.3 50.7 14.5 Q51.9 18.7 51.9 22.6 Q51.9 27.5 50.4 31.7 Q48.9 35.9 46.15 39 Q43.4 42.1 39.35 43.85 Q35.3 45.6 30.2 45.6 Q24.4 45.6 19.95 43.4 Q15.5 41.2 12.5 36.3 L12.3 36.5 Q12.4 40.6 13.1 45.3 Q13.8 50 15.65 54.05 Q17.5 58.1 20.8 60.75 Q24.1 63.4 29.5 63.4 Q34.6 63.4 37.7 60.5 Q40.8 57.6 41.4 52.8 ZM28.6 38.1 Q32.2 38.1 34.9 36.8 Q37.6 35.5 39.4 33.35 Q41.2 31.2 42.05 28.25 Q42.9 25.3 42.9 22 Q42.9 18.9 41.95 16.05 Q41 13.2 39.2 11 Q37.4 8.8 34.75 7.55 Q32.1 6.3 28.6 6.3 Q25.1 6.3 22.35 7.55 Q19.6 8.8 17.75 10.9 Q15.9 13 14.9 15.9 Q13.9 18.8 13.9 22.1 Q13.9 25.4 14.85 28.35 Q15.8 31.3 17.7 33.45 Q19.6 35.6 22.3 36.85 Q25 38.1 28.6 38.1 Z\"\n",
       "        /><glyph unicode=\"8\" horiz-adv-x=\"55.6\" d=\"M15.5 52.5 Q15.5 55.2 16.5 57.2 Q17.5 59.2 19.15 60.6 Q20.8 62 23.1 62.7 Q25.4 63.4 27.9 63.4 Q33.1 63.4 36.45 60.65 Q39.8 57.9 39.8 52.5 Q39.8 47.1 36.5 44.1 Q33.2 41.1 28.1 41.1 Q25.5 41.1 23.2 41.8 Q20.9 42.5 19.2 43.9 Q17.5 45.3 16.5 47.45 Q15.5 49.6 15.5 52.5 ZM6.5 52.8 Q6.5 48 9.2 43.95 Q11.9 39.9 16.4 38.1 Q10.4 36 7.2 31.35 Q4 26.7 4 20.4 Q4 15 5.85 10.95 Q7.7 6.9 10.95 4.2 Q14.2 1.5 18.6 0.2 Q23 -1.1 28.1 -1.1 Q33 -1.1 37.3 0.3 Q41.6 1.7 44.75 4.45 Q47.9 7.2 49.75 11.2 Q51.6 15.2 51.6 20.4 Q51.6 27 48.5 31.55 Q45.4 36.1 39 38.1 Q43.5 40.1 46.15 44.05 Q48.8 48 48.8 52.8 Q48.8 56.2 47.6 59.45 Q46.4 62.7 43.85 65.25 Q41.3 67.8 37.2 69.35 Q33.1 70.9 27.3 70.9 Q23.2 70.9 19.45 69.7 Q15.7 68.5 12.8 66.2 Q9.9 63.9 8.2 60.55 Q6.5 57.2 6.5 52.8 ZM13 20 Q13 23.1 14.15 25.6 Q15.3 28.1 17.35 29.9 Q19.4 31.7 22.15 32.65 Q24.9 33.6 28 33.6 Q31 33.6 33.65 32.55 Q36.3 31.5 38.3 29.7 Q40.3 27.9 41.45 25.45 Q42.6 23 42.6 20.1 Q42.6 17.1 41.55 14.6 Q40.5 12.1 38.55 10.25 Q36.6 8.4 33.95 7.35 Q31.3 6.3 28.1 6.3 Q21.5 6.3 17.25 9.95 Q13 13.6 13 20 Z\"\n",
       "      /></font\n",
       "    ></defs\n",
       "    ><g style=\"fill:white; stroke:white;\"\n",
       "    ><rect x=\"0\" y=\"0\" width=\"560\" style=\"clip-path:url(#clipPath1); stroke:none;\" height=\"420\"\n",
       "    /></g\n",
       "    ><g style=\"fill:white; text-rendering:optimizeSpeed; color-rendering:optimizeSpeed; image-rendering:optimizeSpeed; shape-rendering:crispEdges; stroke:white; color-interpolation:sRGB;\"\n",
       "    ><rect x=\"0\" width=\"560\" height=\"420\" y=\"0\" style=\"stroke:none;\"\n",
       "      /><path style=\"stroke:none;\" d=\"M73 374 L507 374 L507 31.5 L73 31.5 Z\"\n",
       "    /></g\n",
       "    ><g style=\"fill:rgb(38,38,38); text-rendering:geometricPrecision; image-rendering:optimizeQuality; color-rendering:optimizeQuality; stroke-linejoin:round; stroke:rgb(38,38,38); color-interpolation:linearRGB; stroke-width:0.5;\"\n",
       "    ><line y2=\"374\" style=\"fill:none;\" x1=\"73\" x2=\"507\" y1=\"374\"\n",
       "      /><line y2=\"31.5\" style=\"fill:none;\" x1=\"73\" x2=\"507\" y1=\"31.5\"\n",
       "      /><line y2=\"369.66\" style=\"fill:none;\" x1=\"73\" x2=\"73\" y1=\"374\"\n",
       "      /><line y2=\"369.66\" style=\"fill:none;\" x1=\"116.4\" x2=\"116.4\" y1=\"374\"\n",
       "      /><line y2=\"369.66\" style=\"fill:none;\" x1=\"159.8\" x2=\"159.8\" y1=\"374\"\n",
       "      /><line y2=\"369.66\" style=\"fill:none;\" x1=\"203.2\" x2=\"203.2\" y1=\"374\"\n",
       "      /><line y2=\"369.66\" style=\"fill:none;\" x1=\"246.6\" x2=\"246.6\" y1=\"374\"\n",
       "      /><line y2=\"369.66\" style=\"fill:none;\" x1=\"290\" x2=\"290\" y1=\"374\"\n",
       "      /><line y2=\"369.66\" style=\"fill:none;\" x1=\"333.4\" x2=\"333.4\" y1=\"374\"\n",
       "      /><line y2=\"369.66\" style=\"fill:none;\" x1=\"376.8\" x2=\"376.8\" y1=\"374\"\n",
       "      /><line y2=\"369.66\" style=\"fill:none;\" x1=\"420.2\" x2=\"420.2\" y1=\"374\"\n",
       "      /><line y2=\"369.66\" style=\"fill:none;\" x1=\"463.6\" x2=\"463.6\" y1=\"374\"\n",
       "      /><line y2=\"369.66\" style=\"fill:none;\" x1=\"507\" x2=\"507\" y1=\"374\"\n",
       "      /><line y2=\"35.84\" style=\"fill:none;\" x1=\"73\" x2=\"73\" y1=\"31.5\"\n",
       "      /><line y2=\"35.84\" style=\"fill:none;\" x1=\"116.4\" x2=\"116.4\" y1=\"31.5\"\n",
       "      /><line y2=\"35.84\" style=\"fill:none;\" x1=\"159.8\" x2=\"159.8\" y1=\"31.5\"\n",
       "      /><line y2=\"35.84\" style=\"fill:none;\" x1=\"203.2\" x2=\"203.2\" y1=\"31.5\"\n",
       "      /><line y2=\"35.84\" style=\"fill:none;\" x1=\"246.6\" x2=\"246.6\" y1=\"31.5\"\n",
       "      /><line y2=\"35.84\" style=\"fill:none;\" x1=\"290\" x2=\"290\" y1=\"31.5\"\n",
       "      /><line y2=\"35.84\" style=\"fill:none;\" x1=\"333.4\" x2=\"333.4\" y1=\"31.5\"\n",
       "      /><line y2=\"35.84\" style=\"fill:none;\" x1=\"376.8\" x2=\"376.8\" y1=\"31.5\"\n",
       "      /><line y2=\"35.84\" style=\"fill:none;\" x1=\"420.2\" x2=\"420.2\" y1=\"31.5\"\n",
       "      /><line y2=\"35.84\" style=\"fill:none;\" x1=\"463.6\" x2=\"463.6\" y1=\"31.5\"\n",
       "      /><line y2=\"35.84\" style=\"fill:none;\" x1=\"507\" x2=\"507\" y1=\"31.5\"\n",
       "    /></g\n",
       "    ><g transform=\"translate(73,378)\" style=\"font-size:10px; fill:rgb(38,38,38); text-rendering:geometricPrecision; image-rendering:optimizeQuality; color-rendering:optimizeQuality; font-family:'Helvetica Neue'; stroke:rgb(38,38,38); color-interpolation:linearRGB;\"\n",
       "    ><text x=\"-3\" xml:space=\"preserve\" y=\"10\" style=\"stroke:none;\"\n",
       "      >0</text\n",
       "    ></g\n",
       "    ><g transform=\"translate(116.4,378)\" style=\"font-size:10px; fill:rgb(38,38,38); text-rendering:geometricPrecision; image-rendering:optimizeQuality; color-rendering:optimizeQuality; font-family:'Helvetica Neue'; stroke:rgb(38,38,38); color-interpolation:linearRGB;\"\n",
       "    ><text x=\"-7\" xml:space=\"preserve\" y=\"10\" style=\"stroke:none;\"\n",
       "      >0.5</text\n",
       "    ></g\n",
       "    ><g transform=\"translate(159.8,378)\" style=\"font-size:10px; fill:rgb(38,38,38); text-rendering:geometricPrecision; image-rendering:optimizeQuality; color-rendering:optimizeQuality; font-family:'Helvetica Neue'; stroke:rgb(38,38,38); color-interpolation:linearRGB;\"\n",
       "    ><text x=\"-3\" xml:space=\"preserve\" y=\"10\" style=\"stroke:none;\"\n",
       "      >1</text\n",
       "    ></g\n",
       "    ><g transform=\"translate(203.2,378)\" style=\"font-size:10px; fill:rgb(38,38,38); text-rendering:geometricPrecision; image-rendering:optimizeQuality; color-rendering:optimizeQuality; font-family:'Helvetica Neue'; stroke:rgb(38,38,38); color-interpolation:linearRGB;\"\n",
       "    ><text x=\"-7\" xml:space=\"preserve\" y=\"10\" style=\"stroke:none;\"\n",
       "      >1.5</text\n",
       "    ></g\n",
       "    ><g transform=\"translate(246.6,378)\" style=\"font-size:10px; fill:rgb(38,38,38); text-rendering:geometricPrecision; image-rendering:optimizeQuality; color-rendering:optimizeQuality; font-family:'Helvetica Neue'; stroke:rgb(38,38,38); color-interpolation:linearRGB;\"\n",
       "    ><text x=\"-3\" xml:space=\"preserve\" y=\"10\" style=\"stroke:none;\"\n",
       "      >2</text\n",
       "    ></g\n",
       "    ><g transform=\"translate(290,378)\" style=\"font-size:10px; fill:rgb(38,38,38); text-rendering:geometricPrecision; image-rendering:optimizeQuality; color-rendering:optimizeQuality; font-family:'Helvetica Neue'; stroke:rgb(38,38,38); color-interpolation:linearRGB;\"\n",
       "    ><text x=\"-7\" xml:space=\"preserve\" y=\"10\" style=\"stroke:none;\"\n",
       "      >2.5</text\n",
       "    ></g\n",
       "    ><g transform=\"translate(333.4,378)\" style=\"font-size:10px; fill:rgb(38,38,38); text-rendering:geometricPrecision; image-rendering:optimizeQuality; color-rendering:optimizeQuality; font-family:'Helvetica Neue'; stroke:rgb(38,38,38); color-interpolation:linearRGB;\"\n",
       "    ><text x=\"-3\" xml:space=\"preserve\" y=\"10\" style=\"stroke:none;\"\n",
       "      >3</text\n",
       "    ></g\n",
       "    ><g transform=\"translate(376.8,378)\" style=\"font-size:10px; fill:rgb(38,38,38); text-rendering:geometricPrecision; image-rendering:optimizeQuality; color-rendering:optimizeQuality; font-family:'Helvetica Neue'; stroke:rgb(38,38,38); color-interpolation:linearRGB;\"\n",
       "    ><text x=\"-7\" xml:space=\"preserve\" y=\"10\" style=\"stroke:none;\"\n",
       "      >3.5</text\n",
       "    ></g\n",
       "    ><g transform=\"translate(420.2,378)\" style=\"font-size:10px; fill:rgb(38,38,38); text-rendering:geometricPrecision; image-rendering:optimizeQuality; color-rendering:optimizeQuality; font-family:'Helvetica Neue'; stroke:rgb(38,38,38); color-interpolation:linearRGB;\"\n",
       "    ><text x=\"-3\" xml:space=\"preserve\" y=\"10\" style=\"stroke:none;\"\n",
       "      >4</text\n",
       "    ></g\n",
       "    ><g transform=\"translate(463.6,378)\" style=\"font-size:10px; fill:rgb(38,38,38); text-rendering:geometricPrecision; image-rendering:optimizeQuality; color-rendering:optimizeQuality; font-family:'Helvetica Neue'; stroke:rgb(38,38,38); color-interpolation:linearRGB;\"\n",
       "    ><text x=\"-7\" xml:space=\"preserve\" y=\"10\" style=\"stroke:none;\"\n",
       "      >4.5</text\n",
       "    ></g\n",
       "    ><g transform=\"translate(507,378)\" style=\"font-size:10px; fill:rgb(38,38,38); text-rendering:geometricPrecision; image-rendering:optimizeQuality; color-rendering:optimizeQuality; font-family:'Helvetica Neue'; stroke:rgb(38,38,38); color-interpolation:linearRGB;\"\n",
       "    ><text x=\"-3\" xml:space=\"preserve\" y=\"10\" style=\"stroke:none;\"\n",
       "      >5</text\n",
       "    ></g\n",
       "    ><g style=\"fill:rgb(38,38,38); text-rendering:geometricPrecision; image-rendering:optimizeQuality; color-rendering:optimizeQuality; stroke-linejoin:round; stroke:rgb(38,38,38); color-interpolation:linearRGB; stroke-width:0.5;\"\n",
       "    ><line y2=\"31.5\" style=\"fill:none;\" x1=\"73\" x2=\"73\" y1=\"374\"\n",
       "      /><line y2=\"31.5\" style=\"fill:none;\" x1=\"507\" x2=\"507\" y1=\"374\"\n",
       "      /><line y2=\"374\" style=\"fill:none;\" x1=\"73\" x2=\"77.34\" y1=\"374\"\n",
       "      /><line y2=\"325.0714\" style=\"fill:none;\" x1=\"73\" x2=\"77.34\" y1=\"325.0714\"\n",
       "      /><line y2=\"276.1429\" style=\"fill:none;\" x1=\"73\" x2=\"77.34\" y1=\"276.1429\"\n",
       "      /><line y2=\"227.2143\" style=\"fill:none;\" x1=\"73\" x2=\"77.34\" y1=\"227.2143\"\n",
       "      /><line y2=\"178.2857\" style=\"fill:none;\" x1=\"73\" x2=\"77.34\" y1=\"178.2857\"\n",
       "      /><line y2=\"129.3571\" style=\"fill:none;\" x1=\"73\" x2=\"77.34\" y1=\"129.3571\"\n",
       "      /><line y2=\"80.4286\" style=\"fill:none;\" x1=\"73\" x2=\"77.34\" y1=\"80.4286\"\n",
       "      /><line y2=\"31.5\" style=\"fill:none;\" x1=\"73\" x2=\"77.34\" y1=\"31.5\"\n",
       "      /><line y2=\"374\" style=\"fill:none;\" x1=\"507\" x2=\"502.66\" y1=\"374\"\n",
       "      /><line y2=\"325.0714\" style=\"fill:none;\" x1=\"507\" x2=\"502.66\" y1=\"325.0714\"\n",
       "      /><line y2=\"276.1429\" style=\"fill:none;\" x1=\"507\" x2=\"502.66\" y1=\"276.1429\"\n",
       "      /><line y2=\"227.2143\" style=\"fill:none;\" x1=\"507\" x2=\"502.66\" y1=\"227.2143\"\n",
       "      /><line y2=\"178.2857\" style=\"fill:none;\" x1=\"507\" x2=\"502.66\" y1=\"178.2857\"\n",
       "      /><line y2=\"129.3571\" style=\"fill:none;\" x1=\"507\" x2=\"502.66\" y1=\"129.3571\"\n",
       "      /><line y2=\"80.4286\" style=\"fill:none;\" x1=\"507\" x2=\"502.66\" y1=\"80.4286\"\n",
       "      /><line y2=\"31.5\" style=\"fill:none;\" x1=\"507\" x2=\"502.66\" y1=\"31.5\"\n",
       "    /></g\n",
       "    ><g transform=\"translate(69,374)\" style=\"font-size:10px; fill:rgb(38,38,38); text-rendering:geometricPrecision; image-rendering:optimizeQuality; color-rendering:optimizeQuality; font-family:'Helvetica Neue'; stroke:rgb(38,38,38); color-interpolation:linearRGB;\"\n",
       "    ><text x=\"-6\" xml:space=\"preserve\" y=\"3.5\" style=\"stroke:none;\"\n",
       "      >0</text\n",
       "    ></g\n",
       "    ><g transform=\"translate(69,325.0714)\" style=\"font-size:10px; fill:rgb(38,38,38); text-rendering:geometricPrecision; image-rendering:optimizeQuality; color-rendering:optimizeQuality; font-family:'Helvetica Neue'; stroke:rgb(38,38,38); color-interpolation:linearRGB;\"\n",
       "    ><text x=\"-14\" xml:space=\"preserve\" y=\"3.5\" style=\"stroke:none;\"\n",
       "      >0.2</text\n",
       "    ></g\n",
       "    ><g transform=\"translate(69,276.1429)\" style=\"font-size:10px; fill:rgb(38,38,38); text-rendering:geometricPrecision; image-rendering:optimizeQuality; color-rendering:optimizeQuality; font-family:'Helvetica Neue'; stroke:rgb(38,38,38); color-interpolation:linearRGB;\"\n",
       "    ><text x=\"-14\" xml:space=\"preserve\" y=\"3.5\" style=\"stroke:none;\"\n",
       "      >0.4</text\n",
       "    ></g\n",
       "    ><g transform=\"translate(69,227.2143)\" style=\"font-size:10px; fill:rgb(38,38,38); text-rendering:geometricPrecision; image-rendering:optimizeQuality; color-rendering:optimizeQuality; font-family:'Helvetica Neue'; stroke:rgb(38,38,38); color-interpolation:linearRGB;\"\n",
       "    ><text x=\"-14\" xml:space=\"preserve\" y=\"3.5\" style=\"stroke:none;\"\n",
       "      >0.6</text\n",
       "    ></g\n",
       "    ><g transform=\"translate(69,178.2857)\" style=\"font-size:10px; fill:rgb(38,38,38); text-rendering:geometricPrecision; image-rendering:optimizeQuality; color-rendering:optimizeQuality; font-family:'Helvetica Neue'; stroke:rgb(38,38,38); color-interpolation:linearRGB;\"\n",
       "    ><text x=\"-14\" xml:space=\"preserve\" y=\"3.5\" style=\"stroke:none;\"\n",
       "      >0.8</text\n",
       "    ></g\n",
       "    ><g transform=\"translate(69,129.3571)\" style=\"font-size:10px; fill:rgb(38,38,38); text-rendering:geometricPrecision; image-rendering:optimizeQuality; color-rendering:optimizeQuality; font-family:'Helvetica Neue'; stroke:rgb(38,38,38); color-interpolation:linearRGB;\"\n",
       "    ><text x=\"-6\" xml:space=\"preserve\" y=\"3.5\" style=\"stroke:none;\"\n",
       "      >1</text\n",
       "    ></g\n",
       "    ><g transform=\"translate(69,80.4286)\" style=\"font-size:10px; fill:rgb(38,38,38); text-rendering:geometricPrecision; image-rendering:optimizeQuality; color-rendering:optimizeQuality; font-family:'Helvetica Neue'; stroke:rgb(38,38,38); color-interpolation:linearRGB;\"\n",
       "    ><text x=\"-14\" xml:space=\"preserve\" y=\"3.5\" style=\"stroke:none;\"\n",
       "      >1.2</text\n",
       "    ></g\n",
       "    ><g transform=\"translate(69,31.5)\" style=\"font-size:10px; fill:rgb(38,38,38); text-rendering:geometricPrecision; image-rendering:optimizeQuality; color-rendering:optimizeQuality; font-family:'Helvetica Neue'; stroke:rgb(38,38,38); color-interpolation:linearRGB;\"\n",
       "    ><text x=\"-14\" xml:space=\"preserve\" y=\"3.5\" style=\"stroke:none;\"\n",
       "      >1.4</text\n",
       "    ></g\n",
       "    ><g style=\"stroke-linecap:butt; fill:rgb(0,114,189); text-rendering:geometricPrecision; image-rendering:optimizeQuality; color-rendering:optimizeQuality; stroke-linejoin:round; stroke:rgb(0,114,189); color-interpolation:linearRGB; stroke-width:0.5;\"\n",
       "    ><path d=\"M73 374 L75.9128 372.6541 L78.8255 368.7483 L81.7383 362.4912 L84.651 354.1036 L87.5638 343.8149 L90.4765 331.8606 L93.3893 318.4788 L96.302 303.9078 L99.2148 288.3834 L102.1275 272.1363 L105.0403 255.3903 L107.953 238.3599 L110.8658 221.2489 L113.7785 204.2487 L116.6913 187.5372 L119.604 171.2774 L122.5168 155.6169 L125.4295 140.6872 L128.3423 126.6033 L131.255 113.4636 L134.1678 101.3498 L137.0805 90.327 L139.9933 80.4444 L142.906 71.7356 L145.8188 64.219 L148.7315 57.8991 L151.6443 52.7669 L154.5571 48.8013 L157.4698 45.9696 L160.3826 44.2291 L163.2953 43.5278 L166.2081 43.806 L169.1208 44.9969 L172.0336 47.0285 L174.9463 49.8241 L177.8591 53.3035 L180.7718 57.3847 L183.6846 61.984 L186.5973 67.0179 L189.5101 72.4034 L192.4228 78.059 L195.3356 83.9056 L198.2483 89.8673 L201.1611 95.8717 L204.0738 101.8507 L206.9866 107.7409 L209.8993 113.4839 L212.8121 119.0269 L215.7248 124.3225 L218.6376 129.3291 L221.5503 134.011 L224.4631 138.3384 L227.3758 142.2872 L230.2886 145.8389 L233.2013 148.9808 L236.1141 151.7052 L239.0268 154.0096 L241.9396 155.8961 L244.8524 157.3715 L247.7651 158.4462 L250.6779 159.1347 L253.5906 159.4544 L256.5034 159.4259 L259.4161 159.0721 L262.3289 158.418 L265.2416 157.49 L268.1544 156.3162 L271.0671 154.9253 L273.9799 153.3464 L276.8926 151.609 L279.8054 149.7423 L282.7181 147.7749 L285.6309 145.7348 L288.5436 143.6489 L291.4564 141.543 L294.3691 139.4411 L297.2819 137.366 L300.1946 135.3383 L303.1074 133.3773 L306.0201 131.4998 L308.9329 129.7208 L311.8456 128.0534 L314.7584 126.5084 L317.6711 125.0946 L320.5839 123.8191 L323.4966 122.6865 L326.4094 121.7001 L329.3221 120.861 L332.2349 120.1689 L335.1476 119.6216 L338.0604 119.2158 L340.9731 118.9467 L343.8859 118.8083 L346.7986 118.7937 L349.7114 118.895 L352.6242 119.1035 L355.5369 119.4101 L358.4497 119.805 L361.3624 120.2783 L364.2752 120.8195 L367.1879 121.4186 L370.1007 122.0651 L373.0134 122.749 L375.9262 123.4604 L378.8389 124.1899 L381.7517 124.9281 L384.6644 125.6667 L387.5772 126.3975 L390.4899 127.113 L393.4027 127.8065 L396.3154 128.4719 L399.2282 129.1037 L402.141 129.6972 L405.0537 130.2486 L407.9664 130.7544 L410.8792 131.2122 L413.7919 131.6201 L416.7047 131.9769 L419.6174 132.282 L422.5302 132.5355 L425.443 132.738 L428.3557 132.8905 L431.2685 132.9947 L434.1812 133.0526 L437.094 133.0664 L440.0067 133.039 L442.9195 132.9734 L445.8322 132.8726 L448.7449 132.7401 L451.6577 132.5795 L454.5705 132.3942 L457.4832 132.1878 L460.396 131.9641 L463.3087 131.7265 L466.2215 131.4786 L469.1342 131.2237 L472.047 130.965 L474.9597 130.7056 L477.8725 130.4483 L480.7852 130.196 L483.698 129.9508 L486.6107 129.7151 L489.5235 129.4908 L492.4362 129.2796 L495.349 129.083 L498.2617 128.9021 L501.1745 128.7379 L504.0872 128.5911 L507 128.4622\" style=\"fill:none; fill-rule:evenodd;\"\n",
       "    /></g\n",
       "  ></g\n",
       "></svg\n",
       ">\n"
      ]
     },
     "metadata": {},
     "output_type": "display_data"
    }
   ],
   "source": [
    "% Create solution array\n",
    "t = linspace(0,5,150);\n",
    "x = 1-exp(-t).*(cos(3*t) + sin(3*t)/3);\n",
    "plot(t, x)"
   ]
  },
  {
   "cell_type": "code",
   "execution_count": 23,
   "id": "2ba1c984",
   "metadata": {
    "slideshow": {
     "slide_type": "fragment"
    }
   },
   "outputs": [],
   "source": [
    "open('ConceptReview.mlx')"
   ]
  },
  {
   "cell_type": "code",
   "execution_count": 24,
   "id": "fb171040",
   "metadata": {
    "slideshow": {
     "slide_type": "subslide"
    }
   },
   "outputs": [
    {
     "name": "stdout",
     "output_type": "stream",
     "text": [
      "theta =\n",
      "(pi*cos((7*2^(1/2)*5^(1/2)*t)/5))/6\n"
     ]
    }
   ],
   "source": [
    "syms t s\n",
    "% Replace NaN with your symbolic solution and run the section\n",
    "Theta = (pi/6)*s/(s^2 + 19.6);\n",
    "theta = ilaplace(Theta)"
   ]
  },
  {
   "cell_type": "code",
   "execution_count": 25,
   "id": "f8a3b273",
   "metadata": {
    "slideshow": {
     "slide_type": "fragment"
    }
   },
   "outputs": [],
   "source": [
    "open('ConceptReview.mlx')"
   ]
  },
  {
   "cell_type": "code",
   "execution_count": 26,
   "id": "f86b6e9c",
   "metadata": {
    "slideshow": {
     "slide_type": "fragment"
    }
   },
   "outputs": [],
   "source": [
    "open('ConceptReview.mlx')"
   ]
  }
 ],
 "metadata": {
  "jupytext": {
   "formats": "ipynb,md:myst",
   "text_representation": {
    "extension": ".md",
    "format_name": "myst",
    "format_version": 0.13,
    "jupytext_version": "1.15.2"
   }
  },
  "kernelspec": {
   "display_name": "MKernel",
   "language": "matlab",
   "name": "mkernel"
  },
  "language_info": {
   "file_extension": ".m",
   "mimetype": "text/x-matlab",
   "name": "matlab"
  },
  "source_map": [
   15,
   21,
   32,
   42,
   59,
   65,
   71,
   79,
   85,
   89,
   95,
   99,
   103,
   109,
   120,
   128,
   132,
   141,
   145,
   153,
   157,
   161,
   173,
   177,
   181,
   191,
   195,
   204,
   208,
   217,
   221,
   230,
   234,
   243,
   247,
   256,
   260,
   269,
   273,
   282,
   290,
   298,
   307,
   313,
   321,
   343,
   347,
   351,
   363,
   371,
   379,
   383,
   392,
   396,
   404,
   414,
   420,
   428,
   432,
   442,
   450,
   458,
   468,
   480,
   484,
   492,
   496,
   502,
   508,
   514,
   520,
   526,
   536,
   545,
   551,
   555,
   569,
   573,
   582,
   586,
   597,
   601,
   609,
   619,
   627,
   639,
   650,
   654,
   662,
   672,
   685,
   693,
   708,
   716,
   726,
   867,
   875
  ]
 },
 "nbformat": 4,
 "nbformat_minor": 5
}