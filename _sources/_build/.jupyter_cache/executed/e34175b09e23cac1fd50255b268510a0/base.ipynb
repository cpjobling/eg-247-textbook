{
 "cells": [
  {
   "cell_type": "code",
   "execution_count": 1,
   "id": "6b54eabf",
   "metadata": {
    "slideshow": {
     "slide_type": "fragment"
    }
   },
   "outputs": [],
   "source": [
    "format compact % use less white space in outputs\n",
    "syms t s\n",
    "syms a positive"
   ]
  },
  {
   "cell_type": "code",
   "execution_count": 2,
   "id": "36225067",
   "metadata": {
    "slideshow": {
     "slide_type": "fragment"
    }
   },
   "outputs": [
    {
     "name": "stdout",
     "output_type": "stream",
     "text": [
      "f =\n"
     ]
    },
    {
     "name": "stdout",
     "output_type": "stream",
     "text": [
      "heaviside(t - a)\n"
     ]
    }
   ],
   "source": [
    "f = heaviside(t - a)"
   ]
  },
  {
   "cell_type": "code",
   "execution_count": 3,
   "id": "801190b7",
   "metadata": {},
   "outputs": [
    {
     "name": "stdout",
     "output_type": "stream",
     "text": [
      "Fs =\n"
     ]
    },
    {
     "name": "stdout",
     "output_type": "stream",
     "text": [
      "exp(-a*s)/s\n"
     ]
    }
   ],
   "source": [
    "Fs = laplace(f, t, s)"
   ]
  },
  {
   "cell_type": "code",
   "execution_count": 4,
   "id": "96a9ba91",
   "metadata": {
    "slideshow": {
     "slide_type": "subslide"
    }
   },
   "outputs": [],
   "source": [
    "% Symbolic variable declarations\n",
    "syms t s\n",
    "syms a positive"
   ]
  },
  {
   "cell_type": "code",
   "execution_count": 5,
   "id": "b6539383",
   "metadata": {
    "slideshow": {
     "slide_type": "fragment"
    }
   },
   "outputs": [
    {
     "name": "stdout",
     "output_type": "stream",
     "text": [
      "f =\n",
      "     1\n"
     ]
    },
    {
     "name": "stdout",
     "output_type": "stream",
     "text": [
      "Fs =\n"
     ]
    },
    {
     "name": "stdout",
     "output_type": "stream",
     "text": [
      "1/s\n"
     ]
    }
   ],
   "source": [
    "f = 1\n",
    "Fs = laplace(f,t,s)"
   ]
  },
  {
   "cell_type": "code",
   "execution_count": 6,
   "id": "ddc54ce9",
   "metadata": {
    "slideshow": {
     "slide_type": "fragment"
    }
   },
   "outputs": [
    {
     "name": "stdout",
     "output_type": "stream",
     "text": [
      "f =\n"
     ]
    },
    {
     "name": "stdout",
     "output_type": "stream",
     "text": [
      "exp(-a*t)\n"
     ]
    },
    {
     "name": "stdout",
     "output_type": "stream",
     "text": [
      "Fs =\n"
     ]
    },
    {
     "name": "stdout",
     "output_type": "stream",
     "text": [
      "1/(a + s)\n"
     ]
    }
   ],
   "source": [
    "f = exp(-a*t)\n",
    "Fs = laplace(exp(-a*t))"
   ]
  },
  {
   "cell_type": "code",
   "execution_count": 7,
   "id": "3e31dc9b",
   "metadata": {
    "slideshow": {
     "slide_type": "fragment"
    }
   },
   "outputs": [
    {
     "name": "stdout",
     "output_type": "stream",
     "text": [
      "f =\n"
     ]
    },
    {
     "name": "stdout",
     "output_type": "stream",
     "text": [
      "t\n"
     ]
    },
    {
     "name": "stdout",
     "output_type": "stream",
     "text": [
      "Fs =\n"
     ]
    },
    {
     "name": "stdout",
     "output_type": "stream",
     "text": [
      "1/s^2\n"
     ]
    }
   ],
   "source": [
    "f = t\n",
    "Fs = laplace(f, t, s)"
   ]
  },
  {
   "cell_type": "code",
   "execution_count": 8,
   "id": "1892fc16",
   "metadata": {
    "slideshow": {
     "slide_type": "fragment"
    }
   },
   "outputs": [
    {
     "name": "stdout",
     "output_type": "stream",
     "text": [
      "f =\n"
     ]
    },
    {
     "name": "stdout",
     "output_type": "stream",
     "text": [
      "dirac(a - t)\n"
     ]
    },
    {
     "name": "stdout",
     "output_type": "stream",
     "text": [
      "Fs =\n"
     ]
    },
    {
     "name": "stdout",
     "output_type": "stream",
     "text": [
      "exp(-a*s)\n"
     ]
    }
   ],
   "source": [
    "f = dirac(t - a)\n",
    "Fs = laplace(f, t, s)"
   ]
  },
  {
   "cell_type": "code",
   "execution_count": 9,
   "id": "f530ec5b",
   "metadata": {
    "slideshow": {
     "slide_type": "fragment"
    }
   },
   "outputs": [
    {
     "name": "stdout",
     "output_type": "stream",
     "text": [
      "f =\n"
     ]
    },
    {
     "name": "stdout",
     "output_type": "stream",
     "text": [
      "cos(t)\n"
     ]
    },
    {
     "name": "stdout",
     "output_type": "stream",
     "text": [
      "Fs =\n"
     ]
    },
    {
     "name": "stdout",
     "output_type": "stream",
     "text": [
      "s/(s^2 + 1)\n"
     ]
    }
   ],
   "source": [
    "f = cos(t)\n",
    "Fs = laplace(f, t, s)"
   ]
  },
  {
   "cell_type": "code",
   "execution_count": 10,
   "id": "13cacd5b",
   "metadata": {
    "slideshow": {
     "slide_type": "fragment"
    }
   },
   "outputs": [
    {
     "name": "stdout",
     "output_type": "stream",
     "text": [
      "f =\n"
     ]
    },
    {
     "name": "stdout",
     "output_type": "stream",
     "text": [
      "t^2*exp(-a*t)\n"
     ]
    },
    {
     "name": "stdout",
     "output_type": "stream",
     "text": [
      "Fs =\n"
     ]
    },
    {
     "name": "stdout",
     "output_type": "stream",
     "text": [
      "2/(a + s)^3\n"
     ]
    }
   ],
   "source": [
    "f = t^2 * exp(-a*t)\n",
    "Fs = laplace(f, t, s)"
   ]
  },
  {
   "cell_type": "code",
   "execution_count": 11,
   "id": "aec26dac",
   "metadata": {
    "slideshow": {
     "slide_type": "fragment"
    }
   },
   "outputs": [
    {
     "name": "stdout",
     "output_type": "stream",
     "text": [
      "f =\n"
     ]
    },
    {
     "name": "stdout",
     "output_type": "stream",
     "text": [
      "exp(-a*t)*sin(t)\n"
     ]
    },
    {
     "name": "stdout",
     "output_type": "stream",
     "text": [
      "Fs =\n"
     ]
    },
    {
     "name": "stdout",
     "output_type": "stream",
     "text": [
      "1/((a + s)^2 + 1)\n"
     ]
    }
   ],
   "source": [
    "f = exp(-a*t) * sin(t)\n",
    "Fs = laplace(f, t, s)"
   ]
  },
  {
   "cell_type": "code",
   "execution_count": 12,
   "id": "5887c4d4",
   "metadata": {},
   "outputs": [
    {
     "name": "stderr",
     "output_type": "stream",
     "text": [
      "\u001b[0;31mError: Invalid text character. Check for unsupported symbol, invisible character, or pasting of non-ASCII characters.\n",
      "\u001b[0m"
     ]
    }
   ],
   "source": [
    "### Visualize Laplace transforms\n",
    "\n",
    "See MATLAB project."
   ]
  }
 ],
 "metadata": {
  "jupytext": {
   "formats": "ipynb,md:myst",
   "text_representation": {
    "extension": ".md",
    "format_name": "myst",
    "format_version": 0.13,
    "jupytext_version": "1.15.2"
   }
  },
  "kernelspec": {
   "display_name": "Matlab",
   "language": "matlab",
   "name": "matlab"
  },
  "language_info": {
   "codemirror_mode": "octave",
   "file_extension": ".m",
   "help_links": [
    {
     "text": "MetaKernel Magics",
     "url": "https://metakernel.readthedocs.io/en/latest/source/README.html"
    }
   ],
   "mimetype": "text/x-octave",
   "name": "matlab",
   "version": "0.17.1"
  },
  "source_map": [
   15,
   20,
   28,
   32,
   37,
   45,
   51,
   55,
   59,
   63,
   67,
   73,
   82,
   89,
   93,
   103,
   107,
   115,
   119,
   123,
   133,
   137,
   141,
   151,
   155,
   164,
   168,
   177,
   181,
   190,
   194,
   203,
   207,
   216,
   220,
   229,
   233,
   242,
   248
  ]
 },
 "nbformat": 4,
 "nbformat_minor": 5
}