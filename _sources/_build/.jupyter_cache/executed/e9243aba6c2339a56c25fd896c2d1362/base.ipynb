{
 "cells": [
  {
   "cell_type": "code",
   "execution_count": 1,
   "id": "fe5b61a0",
   "metadata": {
    "slideshow": {
     "slide_type": "subslide"
    }
   },
   "outputs": [
    {
     "name": "stdout",
     "output_type": "stream",
     "text": [
      "ans =\n"
     ]
    },
    {
     "name": "stdout",
     "output_type": "stream",
     "text": [
      "1\n"
     ]
    }
   ],
   "source": [
    "format compact\n",
    "syms t;\n",
    "fourier(dirac(t))"
   ]
  },
  {
   "cell_type": "code",
   "execution_count": 2,
   "id": "fa818d56",
   "metadata": {
    "slideshow": {
     "slide_type": "subslide"
    }
   },
   "outputs": [
    {
     "name": "stdout",
     "output_type": "stream",
     "text": [
      "ans =\n"
     ]
    },
    {
     "name": "stdout",
     "output_type": "stream",
     "text": [
      "2*pi*dirac(omega)\n"
     ]
    }
   ],
   "source": [
    "syms t omega;\n",
    "A = sym(1);\n",
    "fourier(A,omega)"
   ]
  }
 ],
 "metadata": {
  "jupytext": {
   "formats": "ipynb,md:myst",
   "text_representation": {
    "extension": ".md",
    "format_name": "myst",
    "format_version": 0.13,
    "jupytext_version": "1.15.2"
   }
  },
  "kernelspec": {
   "display_name": "Matlab",
   "language": "matlab",
   "name": "matlab"
  },
  "language_info": {
   "codemirror_mode": "octave",
   "file_extension": ".m",
   "help_links": [
    {
     "text": "MetaKernel Magics",
     "url": "https://metakernel.readthedocs.io/en/latest/source/README.html"
    }
   ],
   "mimetype": "text/x-octave",
   "name": "matlab",
   "version": "0.17.1"
  },
  "source_map": [
   15,
   20,
   32,
   53,
   62,
   68,
   76,
   84,
   88,
   96,
   102,
   118,
   122,
   138,
   148,
   152,
   162,
   168,
   176,
   180,
   190,
   196,
   206,
   216,
   228,
   238,
   248,
   260,
   276,
   284,
   288,
   298,
   308,
   314,
   320,
   326,
   332,
   344,
   350,
   354,
   366,
   372,
   376,
   387,
   391,
   402,
   411,
   417
  ]
 },
 "nbformat": 4,
 "nbformat_minor": 5
}