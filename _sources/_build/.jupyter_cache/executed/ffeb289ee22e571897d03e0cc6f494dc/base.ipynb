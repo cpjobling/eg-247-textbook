{
 "cells": [
  {
   "cell_type": "code",
   "execution_count": 1,
   "id": "eea6d69f",
   "metadata": {
    "slideshow": {
     "slide_type": "skip"
    }
   },
   "outputs": [],
   "source": [
    "clear all\n",
    "cd matlab\n",
    "format compact"
   ]
  },
  {
   "cell_type": "code",
   "execution_count": 2,
   "id": "fab5fb25",
   "metadata": {
    "slideshow": {
     "slide_type": "fragment"
    }
   },
   "outputs": [],
   "source": [
    "open example1"
   ]
  },
  {
   "cell_type": "code",
   "execution_count": 3,
   "id": "cd196831",
   "metadata": {
    "slideshow": {
     "slide_type": "fragment"
    }
   },
   "outputs": [],
   "source": [
    "syms z n\n",
    "assume(n,'integer')"
   ]
  },
  {
   "cell_type": "code",
   "execution_count": 4,
   "id": "0ec629ab",
   "metadata": {
    "slideshow": {
     "slide_type": "fragment"
    }
   },
   "outputs": [],
   "source": [
    "Dz = (z - 0.5)*(z - 0.75)*(z - 1);"
   ]
  },
  {
   "cell_type": "code",
   "execution_count": 5,
   "id": "b400558d",
   "metadata": {
    "slideshow": {
     "slide_type": "fragment"
    }
   },
   "outputs": [
    {
     "name": "stdout",
     "output_type": "stream",
     "text": [
      "Dz_poly =\n"
     ]
    },
    {
     "name": "stdout",
     "output_type": "stream",
     "text": [
      "z^3 - (9*z^2)/4 + (13*z)/8 - 3/8\n"
     ]
    }
   ],
   "source": [
    "Dz_poly = collect(Dz)"
   ]
  },
  {
   "cell_type": "code",
   "execution_count": 6,
   "id": "03767047",
   "metadata": {
    "slideshow": {
     "slide_type": "fragment"
    }
   },
   "outputs": [],
   "source": [
    "num = [0, 1, 0, 0];"
   ]
  },
  {
   "cell_type": "code",
   "execution_count": 7,
   "id": "8d691405",
   "metadata": {
    "slideshow": {
     "slide_type": "fragment"
    }
   },
   "outputs": [
    {
     "name": "stdout",
     "output_type": "stream",
     "text": [
      "den =\n",
      "    1.0000   -2.2500    1.6250   -0.3750\n"
     ]
    }
   ],
   "source": [
    "den = sym2poly(Dz_poly)"
   ]
  },
  {
   "cell_type": "code",
   "execution_count": 8,
   "id": "f53e994e",
   "metadata": {
    "slideshow": {
     "slide_type": "fragment"
    }
   },
   "outputs": [],
   "source": [
    "[r,p,k] = residue(num,den);"
   ]
  },
  {
   "cell_type": "code",
   "execution_count": 9,
   "id": "064efb1f",
   "metadata": {
    "slideshow": {
     "slide_type": "fragment"
    }
   },
   "outputs": [
    {
     "name": "stdout",
     "output_type": "stream",
     "text": [
      "\n"
     ]
    },
    {
     "name": "stdout",
     "output_type": "stream",
     "text": [
      "r1 = 8.00\t"
     ]
    },
    {
     "name": "stdout",
     "output_type": "stream",
     "text": [
      "p1 = 1.00\n"
     ]
    },
    {
     "name": "stdout",
     "output_type": "stream",
     "text": [
      "r2 = -9.00\t"
     ]
    },
    {
     "name": "stdout",
     "output_type": "stream",
     "text": [
      "p2 = 0.75\n"
     ]
    },
    {
     "name": "stdout",
     "output_type": "stream",
     "text": [
      "r3 = 2.00\t"
     ]
    },
    {
     "name": "stdout",
     "output_type": "stream",
     "text": [
      "p3 = 0.50\n"
     ]
    }
   ],
   "source": [
    "fprintf('\\n')\n",
    "fprintf('r1 = %4.2f\\t', r(1)); fprintf('p1 = %4.2f\\n', p(1));...\n",
    "fprintf('r2 = %4.2f\\t', r(2)); fprintf('p2 = %4.2f\\n', p(2));...\n",
    "fprintf('r3 = %4.2f\\t', r(3)); fprintf('p3 = %4.2f\\n', p(3));"
   ]
  },
  {
   "cell_type": "code",
   "execution_count": 10,
   "id": "d1d860d1",
   "metadata": {
    "slideshow": {
     "slide_type": "fragment"
    }
   },
   "outputs": [
    {
     "name": "stdout",
     "output_type": "stream",
     "text": [
      "Fz =\n"
     ]
    },
    {
     "name": "stdout",
     "output_type": "stream",
     "text": [
      "(8*z)/(z - 1) + (2*z)/(z - 1/2) - (9*z)/(z - 3/4)\n"
     ]
    }
   ],
   "source": [
    "% z-transform\n",
    "fn = 2*(1/2)^n-9*(3/4)^n + 8;\n",
    "Fz = ztrans(fn)"
   ]
  },
  {
   "cell_type": "code",
   "execution_count": 11,
   "id": "874a58db",
   "metadata": {
    "slideshow": {
     "slide_type": "fragment"
    }
   },
   "outputs": [
    {
     "name": "stdout",
     "output_type": "stream",
     "text": [
      "ans =\n"
     ]
    },
    {
     "name": "stdout",
     "output_type": "stream",
     "text": [
      "2*(1/2)^n - 9*(3/4)^n + 8\n"
     ]
    }
   ],
   "source": [
    "% inverse z-transform\n",
    "iztrans(Fz)"
   ]
  },
  {
   "cell_type": "code",
   "execution_count": 12,
   "id": "26938831",
   "metadata": {
    "slideshow": {
     "slide_type": "fragment"
    }
   },
   "outputs": [
    {
     "data": {
      "image/png": "[encoded data removed]",
      "text/plain": [
       "<IPython.core.display.Image object>"
      ]
     },
     "metadata": {},
     "output_type": "display_data"
    }
   ],
   "source": [
    "n = 0:15;\n",
    "sequence = subs(fn,n);\n",
    "stem(n,sequence)\n",
    "title('Discrete Time Sequence f[n] = 2*(1/2)^n-9*(3/4)^n + 8');\n",
    "ylabel('f[n]')\n",
    "xlabel('Sequence number n')"
   ]
  },
  {
   "cell_type": "code",
   "execution_count": 13,
   "id": "d04d4547",
   "metadata": {
    "slideshow": {
     "slide_type": "fragment"
    }
   },
   "outputs": [],
   "source": [
    "open example2"
   ]
  },
  {
   "cell_type": "code",
   "execution_count": 14,
   "id": "59e210fc",
   "metadata": {
    "slideshow": {
     "slide_type": "fragment"
    }
   },
   "outputs": [],
   "source": [
    "open example3"
   ]
  },
  {
   "cell_type": "code",
   "execution_count": 15,
   "id": "90dec6ba",
   "metadata": {
    "slideshow": {
     "slide_type": "fragment"
    }
   },
   "outputs": [],
   "source": [
    "open example4"
   ]
  }
 ],
 "metadata": {
  "jupytext": {
   "formats": "ipynb,md:myst",
   "text_representation": {
    "extension": ".md",
    "format_name": "myst",
    "format_version": 0.13,
    "jupytext_version": "1.15.2"
   }
  },
  "kernelspec": {
   "display_name": "Matlab",
   "language": "matlab",
   "name": "matlab"
  },
  "language_info": {
   "codemirror_mode": "octave",
   "file_extension": ".m",
   "help_links": [
    {
     "text": "MetaKernel Magics",
     "url": "https://metakernel.readthedocs.io/en/latest/source/README.html"
    }
   ],
   "mimetype": "text/x-octave",
   "name": "matlab",
   "version": "0.17.1"
  },
  "source_map": [
   15,
   20,
   32,
   40,
   44,
   48,
   52,
   56,
   60,
   70,
   80,
   88,
   98,
   106,
   114,
   120,
   128,
   152,
   167,
   177,
   185,
   194,
   198,
   206,
   210,
   218,
   222,
   226,
   234,
   238,
   246,
   250,
   258,
   264,
   275,
   281,
   291,
   300,
   304,
   317,
   325,
   349,
   355,
   361,
   369,
   383,
   391,
   415,
   421,
   429,
   441,
   455,
   459,
   465,
   471,
   479,
   503,
   509,
   517,
   539,
   543,
   556,
   568,
   577,
   585,
   598,
   604,
   608,
   614,
   620,
   626,
   632,
   636
  ]
 },
 "nbformat": 4,
 "nbformat_minor": 5
}