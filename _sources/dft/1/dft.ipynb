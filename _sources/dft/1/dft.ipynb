{
 "cells": [
  {
   "cell_type": "markdown",
   "id": "c346a3d3",
   "metadata": {
    "slideshow": {
     "slide_type": "slide"
    }
   },
   "source": [
    "# The Discrete Fourier Transform"
   ]
  },
  {
   "cell_type": "markdown",
   "id": "d6faff5f",
   "metadata": {
    "slideshow": {
     "slide_type": "skip"
    }
   },
   "source": [
    "## Colophon\n",
    "\n",
    "An annotatable worksheet for this presentation is available as [**Worksheet 18**](worksheet18).\n",
    "\n",
    "* The source code for this page is [dft/1/dft.ipynb](https://github.com/cpjobling/eg-247-textbook/blob/master/dft/1/dft.ipynb).\n",
    "\n",
    "* You can view the notes for this presentation as a webpage ([HTML](https://cpjobling.github.io/eg-247-textbook/dft/1/dft.html)). \n",
    "\n",
    "* This page is downloadable as a [PDF](https://cpjobling.github.io/eg-247-textbook/dft/1/dft.pdf) file."
   ]
  },
  {
   "cell_type": "markdown",
   "id": "2b2bfa13",
   "metadata": {
    "slideshow": {
     "slide_type": "subslide"
    }
   },
   "source": [
    "## Scope and Background Reading\n",
    "\n",
    "The material in this presentation and notes is based on [Chapter 10](https://ebookcentral.proquest.com/lib/swansea-ebooks/reader.action?docID=3384197&ppg=389) of  {cite}`karris` from the **Required Reading List**. Additional coverage is to be found in Chapter 12 of {cite}`phillips` from the **Recommended Reading List**."
   ]
  },
  {
   "cell_type": "markdown",
   "id": "fd17bb77",
   "metadata": {
    "slideshow": {
     "slide_type": "subslide"
    }
   },
   "source": [
    "## Agenda"
   ]
  },
  {
   "cell_type": "markdown",
   "id": "8ccefe41",
   "metadata": {
    "slideshow": {
     "slide_type": "fragment"
    }
   },
   "source": [
    "* The discrete time fourier transform (DFT)"
   ]
  },
  {
   "cell_type": "markdown",
   "id": "4cbd574c",
   "metadata": {
    "slideshow": {
     "slide_type": "fragment"
    }
   },
   "source": [
    "* Even and Odd Properties of the DFT"
   ]
  },
  {
   "cell_type": "markdown",
   "id": "267aa32d",
   "metadata": {
    "slideshow": {
     "slide_type": "fragment"
    }
   },
   "source": [
    "* Common Properties and Theorems of the DFT"
   ]
  },
  {
   "cell_type": "markdown",
   "id": "1e4c9ab5",
   "metadata": {
    "slideshow": {
     "slide_type": "fragment"
    }
   },
   "source": [
    "* Sampling Theorem, Windows, and the Picket Fence Effect (Notes only)"
   ]
  },
  {
   "cell_type": "markdown",
   "id": "39691be7",
   "metadata": {
    "slideshow": {
     "slide_type": "slide"
    }
   },
   "source": [
    "## Introduction\n",
    "\n",
    "* Fourier series: periodic and continuous time function leads to a non-periodic discrete frequency function.\n",
    "* Fourier transform: non-periodic continuous function leads to a non-periodic continuous frequency function.\n",
    "* Z and inverse Z-transforms produce a periodic and continuous frequency function, since they are evaluated on the unit circle."
   ]
  },
  {
   "cell_type": "markdown",
   "id": "ce4771df",
   "metadata": {
    "slideshow": {
     "slide_type": "notes"
    }
   },
   "source": [
    "### Note\n",
    "\n",
    "The frequency spectrum of a discrete time function $f[n]$ is obtained from its z-transform by substituting $z = e^{sT} = e^{j\\omega T}$ as we saw from the mapping of the s-plane to the z-plane. This is continuous as there are an infinite number of points in the interval $0$ to $2\\pi$; and it is periodic because for any point $\\omega T$ there is an equivalent point $\\omega T + 2 N \\pi$ later. \n",
    "\n",
    "In practice, to compute the spectrum for a discrete time (DT) system, we only compute a finite number of equally spaced points.\n",
    "\n",
    "For maxium readability, and because the exponent terms we will be using are fairly complex, we shall use the functional notation $\\exp(x)$ rather than exponential notation $e^x$."
   ]
  },
  {
   "cell_type": "markdown",
   "id": "027bc25a",
   "metadata": {
    "slideshow": {
     "slide_type": "subslide"
    }
   },
   "source": [
    "In this session, we will see that a periodic and discrete time function results in a periodic and discrete frequency function."
   ]
  },
  {
   "cell_type": "markdown",
   "id": "01c9aa2d",
   "metadata": {
    "slideshow": {
     "slide_type": "subslide"
    }
   },
   "source": [
    "For convenience we summarize these facts in a table:\n",
    "\n",
    "| **Topic** | **Time Function** | **Frequency Function** |\n",
    "|-----------|-------------------|------------------------|\n",
    "| Fourier Series | Continuous, Periodic | Discrete, Non-Periodic |\n",
    "| Fourier Transform | Continuous, Non-Periodic | Continuous, Non-Periodic |\n",
    "| Z Transform | Discrete, Non-Periodic | Continuous, Periodic |\n",
    "| Discrete Fourier Transform | Discrete, Periodic | Discrete, Periodic |"
   ]
  },
  {
   "cell_type": "markdown",
   "id": "ae1412ab",
   "metadata": {
    "slideshow": {
     "slide_type": "subslide"
    }
   },
   "source": [
    "### List of Abbreviations\n",
    "\n",
    "* CT -- Continous Time\n",
    "* DT -- Discrete Time\n",
    "* DF - Discrete frequency\n",
    "* DFT -- Discrete (Time) Fourier Transform\n",
    "* FFT -- Fast Fourier Transform"
   ]
  },
  {
   "cell_type": "markdown",
   "id": "454e7369",
   "metadata": {
    "slideshow": {
     "slide_type": "subslide"
    }
   },
   "source": [
    "### Notation\n",
    "\n",
    "In the following we shall denote a DT signal as $x[n]$ and its discrete frequency function as $X[m]$."
   ]
  },
  {
   "cell_type": "markdown",
   "id": "8c31517c",
   "metadata": {
    "slideshow": {
     "slide_type": "slide"
    }
   },
   "source": [
    "## Z-Transform\n",
    "\n",
    "Recall that\n",
    "\n",
    "$$F(z) = \\mathcal{Z} f[n] = \\sum_{n=0}^{\\infty} f[n]z^{-n}.$$"
   ]
  },
  {
   "cell_type": "markdown",
   "id": "0600468f",
   "metadata": {
    "slideshow": {
     "slide_type": "subslide"
    }
   },
   "source": [
    "The value of this function on the unit circle in the Z-plane will be\n",
    "\n",
    "$$F\\left(\\exp\\left({j\\omega T}\\right)\\right) = \\sum_{n=0}^{\\infty} f[n]\\exp\\left({-jn \\omega T}\\right).$$"
   ]
  },
  {
   "cell_type": "markdown",
   "id": "26e1cdf2",
   "metadata": {
    "slideshow": {
     "slide_type": "fragment"
    }
   },
   "source": [
    "This is an infinite sum.  So to compute it, we need to truncate it."
   ]
  },
  {
   "cell_type": "markdown",
   "id": "e99dfaca",
   "metadata": {
    "slideshow": {
     "slide_type": "slide"
    }
   },
   "source": [
    "## The Discrete-time Fourier Transform"
   ]
  },
  {
   "cell_type": "markdown",
   "id": "85244466",
   "metadata": {
    "slideshow": {
     "slide_type": "fragment"
    }
   },
   "source": [
    "Let's assume that instead of an infinite number of points, we have $N$ points, equally distributed around the unit circle, then the truncated version will be:\n",
    "\n",
    "$$X[m] =  \\sum_{n=0}^{N-1} x[n]\\exp\\left({-j2\\pi \\frac{m n}{N}}\\right)$$"
   ]
  },
  {
   "cell_type": "markdown",
   "id": "8ec9efcb",
   "metadata": {
    "slideshow": {
     "slide_type": "subslide"
    }
   },
   "source": [
    "where\n",
    "\n",
    "$$\\omega  = \\left( {\\frac{2\\pi}{N}} \\right)m$$"
   ]
  },
  {
   "cell_type": "markdown",
   "id": "7e86931b",
   "metadata": {
    "slideshow": {
     "slide_type": "fragment"
    }
   },
   "source": [
    "and $m = 0,1,2,\\ldots, N-1$."
   ]
  },
  {
   "cell_type": "markdown",
   "id": "a2ae7834",
   "metadata": {
    "slideshow": {
     "slide_type": "subslide"
    }
   },
   "source": [
    "We refer to the equation \n",
    "\n",
    "$$X[m] =  \\sum_{n=0}^{N-1} x[n]\\exp\\left({-j2\\pi \\frac{m n}{N}}\\right)$$\n",
    "\n",
    "as the N-point Discrete-time Fourier Transform (DFT) of $x[n]$."
   ]
  },
  {
   "cell_type": "markdown",
   "id": "c0cb46ba",
   "metadata": {
    "slideshow": {
     "slide_type": "subslide"
    }
   },
   "source": [
    "The inverse DFT is defined as\n",
    "\n",
    "$$x[n] =  \\frac{1}{N} \\sum_{m=0}^{N-1} X[m]\\exp\\left({j2\\pi \\frac{m n}{N}}\\right)$$\n",
    "\n",
    "for $n = 0,1,2,\\ldots, N-1$."
   ]
  },
  {
   "cell_type": "markdown",
   "id": "5d229722",
   "metadata": {
    "slideshow": {
     "slide_type": "fragment"
    }
   },
   "source": [
    "Note the symmetry of the DFT and the Inverse DFT!"
   ]
  },
  {
   "cell_type": "markdown",
   "id": "c4ac7c58",
   "metadata": {
    "slideshow": {
     "slide_type": "subslide"
    }
   },
   "source": [
    "In general, the DFT is complex, and thus it can be expressed as\n",
    "\n",
    "$$X[m] = \\Re\\left\\{X[m]\\right\\} + \\Im\\left\\{X[m]\\right\\}$$\n",
    "\n",
    "for $m = 0,1,2,\\ldots,N-1$."
   ]
  },
  {
   "cell_type": "markdown",
   "id": "81a66796",
   "metadata": {
    "slideshow": {
     "slide_type": "subslide"
    }
   },
   "source": [
    "Since\n",
    "\n",
    "$$\\exp\\left({-j2\\pi \\frac{m n}{N}}\\right) = \\cos\\left(2\\pi\\frac{m n}{N}\\right) - j\\sin\\left(2\\pi \\frac{m n}{N}\\right)$$\n",
    "\n",
    "the DFT can be expresssed as\n",
    "\n",
    "$$X[m] =  \\sum_{n=0}^{N-1} x[n]\\exp\\left({-j2\\pi \\frac{m n}{N}}\\right) = \\sum_{n=0}^{N-1}x[n]\\cos\\left(2\\pi \\frac{m n}{N}\\right) - j\\sum_{n=0}^{N-1}x[n]\\sin\\left(2\\pi\\frac{ m n}{N}\\right).$$"
   ]
  },
  {
   "cell_type": "markdown",
   "id": "ec9cbefb",
   "metadata": {
    "slideshow": {
     "slide_type": "subslide"
    }
   },
   "source": [
    "For $n=0$ this reduces to \n",
    "\n",
    "$$X[m] = x[0].$$"
   ]
  },
  {
   "cell_type": "markdown",
   "id": "57833831",
   "metadata": {
    "slideshow": {
     "slide_type": "subslide"
    }
   },
   "source": [
    "Then the real part of $X[m]$ is\n",
    "\n",
    "$$\\Re \\left\\{ {X[m]} \\right\\} = x[0] + \\sum\\limits_{n = 1}^{N - 1} x [n]\\cos \\left( 2\\pi \\frac{mn}{N} \\right)\\quad {\\text{for}}\\quad m = 0,1,2, \\ldots ,N - 1$$"
   ]
  },
  {
   "cell_type": "markdown",
   "id": "b479e323",
   "metadata": {
    "slideshow": {
     "slide_type": "subslide"
    }
   },
   "source": [
    "and the imaginary part is\n",
    "\n",
    "$$\n",
    " \\Im \\left\\{ {X[m]} \\right\\} = - \\sum\\limits_{n = 1}^{N - 1} x [n]\\sin \\left( 2\\pi \\frac{mn}{N} \\right)\\quad {\\text{for}}\\quad m = 0,1,2, \\ldots ,N - 1.\n",
    "$$"
   ]
  },
  {
   "cell_type": "markdown",
   "id": "e2cf9500",
   "metadata": {
    "slideshow": {
     "slide_type": "notes"
    }
   },
   "source": [
    "Note that the summations are from 1 to $N-1$ because $n=0$ is covered in the real term, and as $x[0]$ is real, it is zero in the corresponding imaginary term."
   ]
  },
  {
   "cell_type": "markdown",
   "id": "65628cd1",
   "metadata": {
    "slideshow": {
     "slide_type": "subslide"
    }
   },
   "source": [
    "### In Class Example 1\n",
    "\n",
    "A discrete time signal is defined by the sequence \n",
    "\n",
    "$x[0] = 1$, $x[1] = 2$, $x[2] = 2$, $x[3] = 1$. \n",
    "\n",
    "Compute the frequency components $X[m]$."
   ]
  },
  {
   "cell_type": "markdown",
   "id": "e3b45727",
   "metadata": {
    "slideshow": {
     "slide_type": "notes"
    }
   },
   "source": [
    "### Solution 1\n",
    "\n",
    "Compute the $N=4$ point DFT for $\\Re\\left\\{X[m]\\right\\}$.\n",
    "\n",
    "$x[n] = \\left[1, 2, 2, 1\\right]$ and $N=4$.\n",
    "\n",
    "$x[0]$:\n",
    "\n",
    "\n",
    "$$\n",
    "\\begin{eqnarray*}\n",
    "\\Re \\left\\{ {X[0]} \\right\\} &=& x[0] + \\sum\\limits_{n = 1}^{3} x[n]\\cos \\left( 0 \\right)\\\\\n",
    "                            &=& 1 + 2\\times 1 + 2\\times 1 + 1\\times 1\\\\\n",
    "\\Re \\left\\{ {X[0]} \\right\\} &=& 6\n",
    "\\end{eqnarray*}\n",
    "$$\n",
    "\n",
    "\n",
    "$x[1]$:\n",
    "\n",
    "$$\n",
    "\\begin{eqnarray*}\n",
    "\\Re \\left\\{ {X[1]} \\right\\} &=& x[0] + \\sum\\limits_{n = 1}^{3} x[n]\\cos \\left( \\frac{n\\pi}{2} \\right)\\\\\n",
    "                            &=& 1 + 2\\times 0 + 2 \\times -1 + 1 \\times 0\\\\\n",
    "\\Re \\left\\{ {X[1]} \\right\\} &=& -1\n",
    "\\end{eqnarray*}\n",
    "$$\n",
    "\n",
    "\n",
    "$x[2]$:\n",
    "\n",
    "$$\n",
    "\\begin{eqnarray*}\n",
    "\\Re \\left\\{ {X[2]} \\right\\} &=& x[0] + \\sum\\limits_{n = 1}^{3} x[n]\\cos \\left( n\\pi \\right)\\\\\n",
    "                            &=& 1 + 2\\times -1 + 2 \\times 1 + 1\\times -1\\\\\n",
    "\\Re \\left\\{ {X[2]} \\right\\} &=& 0\n",
    "\\end{eqnarray*}\n",
    "$$\n",
    "\n",
    "$x[3]$:\n",
    "\n",
    "$$\n",
    "\\begin{eqnarray*}\n",
    "\\Re \\left\\{ {X[3]} \\right\\} &=& x[0] + \\sum\\limits_{n = 1}^{3} x[n]\\cos \\left( \\frac{3n\\pi}{2} \\right)\\\\\n",
    "                            &=& 1 + 2\\times 0 + 2 \\times -1 + 1\\times 0\\\\\n",
    "\\Re \\left\\{ {X[3]} \\right\\} &=& -1\n",
    "\\end{eqnarray*}\n",
    "$$"
   ]
  },
  {
   "cell_type": "markdown",
   "id": "b0e672d5",
   "metadata": {
    "slideshow": {
     "slide_type": "notes"
    }
   },
   "source": [
    "Compute the four point DFT for $\\Im\\left\\{X[m]\\right\\}$.\n",
    "\n",
    "$x[0]$:\n",
    "\n",
    "$$\n",
    "\\begin{eqnarray*}\n",
    "\\Im \\left\\{ {X[0]} \\right\\} &=& - \\sum\\limits_{n = 1}^{3} x[n]\\sin \\left( 0 \\right)\\\\\n",
    "\\Im \\left\\{ {X[0]} \\right\\} &=& 0\n",
    "\\end{eqnarray*}\n",
    "$$\n",
    "\n",
    "$x[1]$:\n",
    "\n",
    "$$\n",
    "\\begin{eqnarray*}\n",
    "\\Im \\left\\{ {X[1]} \\right\\} &=& - \\sum\\limits_{n = 1}^{3} x[n]\\sin \\left( \\frac{n\\pi}{2} \\right)\\\\\n",
    "                            &=& - (2\\times 1 + 2 \\times 0 + 1 \\times -1)\\\\\n",
    "\\Im \\left\\{ {X[1]} \\right\\} &=& -1\n",
    "\\end{eqnarray*}\n",
    "$$\n",
    "\n",
    "$x[2]$:\n",
    "\n",
    "$$\n",
    "\\begin{eqnarray*}\n",
    "\\Im \\left\\{ {X[2]} \\right\\} &=& - \\sum\\limits_{n = 1}^{3} x[n]\\sin \\left( n\\pi \\right)\\\\\n",
    "                            &=& - (2\\times 0 + 2 \\times 0 + 1\\times 0)\\\\\n",
    "\\Im \\left\\{ {X[2]} \\right\\} &=& 0\n",
    "\\end{eqnarray*}\n",
    "$$\n",
    "\n",
    "$x[3]$:\n",
    "\n",
    "$$\n",
    "\\begin{eqnarray*}\n",
    "\\Im \\left\\{ {X[3]} \\right\\} &=& - \\sum\\limits_{n = 1}^{3} x[n]\\sin \\left( \\frac{3n\\pi}{2} \\right)\\\\\n",
    "                            &=& - (2\\times -1 + 2 \\times 0 + 1\\times 1)\\\\\n",
    "\\Im \\left\\{ {X[3]} \\right\\} &=& 1\n",
    "\\end{eqnarray*}\n",
    "$$"
   ]
  },
  {
   "cell_type": "markdown",
   "id": "b3da9bcc",
   "metadata": {
    "slideshow": {
     "slide_type": "notes"
    }
   },
   "source": [
    "</pre>\n",
    "\n",
    "* Add these together to find $X[m]$.\n",
    "\n",
    "$$\n",
    "\\begin{eqnarray*}\n",
    "X[0] &=& 6 + j0\\\\\n",
    "X[1] &=& -1 - j\\\\\n",
    "X[2] &=& 0\\\\\n",
    "X[3] &=& -1 + j\n",
    "\\end{eqnarray*}\n",
    "$$\n",
    "\n",
    "$$X[m] = \\left[6, -1 - j, 0, -1 - j\\right].$$"
   ]
  },
  {
   "cell_type": "markdown",
   "id": "1ae2fe39",
   "metadata": {
    "slideshow": {
     "slide_type": "slide"
    }
   },
   "source": [
    "### In Class Example 2\n",
    "\n",
    "Use the inverse DFT to compute the discrete-time sequence $x[n]$ from $X[m]$."
   ]
  },
  {
   "cell_type": "markdown",
   "id": "12b31220",
   "metadata": {
    "slideshow": {
     "slide_type": "notes"
    }
   },
   "source": [
    "### Solution 2\n",
    "\n",
    "$$\n",
    "x[n] = \\frac{1}{4}\\sum_{m=0}^{3} X[m]\\exp\\left(j2\\pi\\frac{mn}{4}\\right)\n",
    "$$\n",
    "\n",
    "Compute $x[0]$ from this result.\n",
    "\n",
    "$$x[0] = \\frac{1}{4}\\left[6, -1 - j, 0, -1 + j\\right] = \\frac{6-2}{4} = 1$$\n",
    "\n",
    "Repeat for $x[1]$, $x[2]$ and $x[3]$.\n",
    "\n",
    "$x[1]$: uses $\\exp\\left(j\\frac{\\pi}{2}m\\right) = 1,j,-1,-j$\n",
    "\n",
    "$$\n",
    "\\begin{eqnarray*}\n",
    "x[1] &=& \\frac{1}{4}\\left(6 + j(-1-j)+0-j(-1+j)\\right)\\\\\n",
    "&=& \\frac{1}{4}\\left(6 + -j+1+0+j+1)\\right) = \\frac{8}{4} = 2\\\\\n",
    "\\end{eqnarray*}\n",
    "$$\n",
    "\n",
    "$x[2]$: uses $\\exp\\left(j\\pi m\\right) = 1, -1, 1, -1$\n",
    "\n",
    "$$\n",
    "\\begin{eqnarray*}\n",
    "x[2] &=& \\frac{1}{4}\\left(1\\times 6 + -1\\times (-1-j)+1\\times 0-1\\times(-1+j)\\right)\\\\\n",
    "&=& \\frac{1}{4}\\left(6 + 1+j+0+1-j)\\right) = \\frac{8}{4} = 2\\\\\n",
    "\\end{eqnarray*}\n",
    "$$\n",
    "\n",
    "$x[3]$: uses $\\exp\\left(j\\frac{3\\pi}{2} m\\right) = 1, -j, 1, j$\n",
    "\n",
    "$$\n",
    "\\begin{eqnarray*}\n",
    "x[3] &=& \\frac{1}{4}\\left(1\\times 6 + -j\\times (-1-j)+1\\times 0+j\\times(-1+j)\\right)\\\\\n",
    "&=& \\frac{1}{4}\\left(6 + j-1 +0-j -1 )\\right) = \\frac{4}{1} = 1\\\\\n",
    "\\end{eqnarray*}\n",
    "$$"
   ]
  },
  {
   "cell_type": "markdown",
   "id": "ece9597e",
   "metadata": {
    "slideshow": {
     "slide_type": "subslide"
    }
   },
   "source": [
    "### Simulink model of the DFT"
   ]
  },
  {
   "cell_type": "code",
   "execution_count": null,
   "id": "a6253771",
   "metadata": {
    "slideshow": {
     "slide_type": "fragment"
    }
   },
   "outputs": [],
   "source": [
    "cd matlab \n",
    "pwd"
   ]
  },
  {
   "cell_type": "markdown",
   "id": "ec466ad6",
   "metadata": {
    "slideshow": {
     "slide_type": "notes"
    }
   },
   "source": [
    "See [dft_ex10_1.slx](https://cpjobling.github.io/eg-247-textbook/dft/1/matlab/dft_ex10_1.slx)"
   ]
  },
  {
   "cell_type": "code",
   "execution_count": null,
   "id": "45db92d1",
   "metadata": {
    "slideshow": {
     "slide_type": "fragment"
    }
   },
   "outputs": [],
   "source": [
    "dft_ex10_1"
   ]
  },
  {
   "cell_type": "markdown",
   "id": "90f4d0e9",
   "metadata": {
    "slideshow": {
     "slide_type": "notes"
    }
   },
   "source": [
    "![Simulink Model of DFT](pictures/dft_10_1.png)\n",
    "\n",
    "Try inputting your student number."
   ]
  },
  {
   "cell_type": "markdown",
   "id": "5916b215",
   "metadata": {
    "slideshow": {
     "slide_type": "subslide"
    }
   },
   "source": [
    "### MATLAB model of the DFT\n",
    "\n",
    "Karris Example 10.1. To successfully run this script you will need to download the functions [dft.m](https://cpjobling.github.io/eg-247-textbook/dft/1/matlab/dft.m) and [idft.m](https://cpjobling.github.io/eg-247-textbook/dft/1/matlab/idft.m) and make them available on your `MATLABPATH`."
   ]
  },
  {
   "cell_type": "code",
   "execution_count": null,
   "id": "3be2e60f",
   "metadata": {
    "slideshow": {
     "slide_type": "fragment"
    }
   },
   "outputs": [],
   "source": [
    "xn = [1, 2, 2, 1];"
   ]
  },
  {
   "cell_type": "code",
   "execution_count": null,
   "id": "54009b19",
   "metadata": {
    "slideshow": {
     "slide_type": "fragment"
    }
   },
   "outputs": [],
   "source": [
    "open dft"
   ]
  },
  {
   "cell_type": "code",
   "execution_count": null,
   "id": "570c960b",
   "metadata": {
    "slideshow": {
     "slide_type": "fragment"
    }
   },
   "outputs": [],
   "source": [
    "Xm = dft(xn,4)"
   ]
  },
  {
   "cell_type": "code",
   "execution_count": null,
   "id": "ae0ae0af",
   "metadata": {
    "slideshow": {
     "slide_type": "subslide"
    }
   },
   "outputs": [],
   "source": [
    "open idft"
   ]
  },
  {
   "cell_type": "code",
   "execution_count": null,
   "id": "3409ea66",
   "metadata": {
    "slideshow": {
     "slide_type": "fragment"
    }
   },
   "outputs": [],
   "source": [
    "xn = idft(Xm,4)"
   ]
  },
  {
   "cell_type": "markdown",
   "id": "7b41f954",
   "metadata": {
    "slideshow": {
     "slide_type": "slide"
    }
   },
   "source": [
    "### A useful compact notation\n",
    "\n",
    "The term\n",
    "\n",
    "$$\\exp\\left(\\frac{-j2\\pi}{N}\\right)$$\n",
    "\n",
    "is a rotating vector where the range $0 <= \\theta <= 2\\pi$ is divided into $N$ equal segments where $N$ is usually taken to be a power of 2."
   ]
  },
  {
   "cell_type": "markdown",
   "id": "105a71a3",
   "metadata": {
    "slideshow": {
     "slide_type": "subslide"
    }
   },
   "source": [
    "It is convenient to represent this as $W_N$, that is\n",
    "\n",
    "$$W_N = \\exp\\left({\\frac{-j2\\pi}{N}}\\right)$$\n",
    "\n",
    "and consequently, \n",
    "\n",
    "$$W_N^{-1} = \\exp\\left({\\frac{j2\\pi}{N}}\\right).$$"
   ]
  },
  {
   "cell_type": "markdown",
   "id": "b85d49e8",
   "metadata": {
    "slideshow": {
     "slide_type": "subslide"
    }
   },
   "source": [
    "### In Class Example 3\n",
    "\n",
    "Compute the complex numbers represented by the rotating vector\n",
    "$W_8$"
   ]
  },
  {
   "cell_type": "markdown",
   "id": "3a889ed8",
   "metadata": {
    "slideshow": {
     "slide_type": "notes"
    }
   },
   "source": [
    "### Solution 3\n",
    "\n",
    "* Rewrite $W_8$ in exponential form\n",
    "\n",
    "<pre style=\"border: 2px solid blue\">\n",
    "\n",
    "\n",
    "\n",
    "\n",
    "\n",
    "\n",
    "\n",
    "\n",
    "\n",
    "</pre>\n",
    "\n",
    "* Visualize on unit circle\n",
    "\n",
    "![Visualization of the function unction $W_8^n$](pictures/circle.png)\n",
    "\n",
    "* Complete this table\n",
    "\n",
    "| $n$ | $\\theta$        | Real | Imaginary | $W_8^n$ |\n",
    "|-----|-----------------|------|-----------|--------|\n",
    "| 0   | 0               | 1    |  0        | 1      |\n",
    "\n",
    "\n",
    "<pre style=\"border: 2px solid blue\">\n",
    "\n",
    "\n",
    "\n",
    "\n",
    "\n",
    "\n",
    "\n",
    "\n",
    "\n",
    "\n",
    "\n",
    "\n",
    "\n",
    "\n",
    "\n",
    "\n",
    "\n",
    "\n",
    "\n",
    "\n",
    "\n",
    "\n",
    "</pre>"
   ]
  },
  {
   "cell_type": "markdown",
   "id": "9c99b1e4",
   "metadata": {
    "slideshow": {
     "slide_type": "subslide"
    }
   },
   "source": [
    "Using this notation, the DFT and inverse DFT pairs are represented as:\n",
    "\n",
    "$$X[m] =  \\sum_{n=0}^{N-1} x[n]W_N^{nm}$$ \n",
    "and\n",
    "$$x[n] = \\frac{1}{N}\\sum_{n=0}^{N-1} X[m]W_N^{-nm}$$"
   ]
  },
  {
   "cell_type": "markdown",
   "id": "53da8419",
   "metadata": {
    "slideshow": {
     "slide_type": "subslide"
    }
   },
   "source": [
    "### MATLAB implementation of DFT\n",
    "\n",
    "Using the W notation, it is very easy to write a function to implement the DFT. \n",
    "\n",
    "We will demonstrate this in class."
   ]
  },
  {
   "cell_type": "markdown",
   "id": "52ecbe23",
   "metadata": {
    "slideshow": {
     "slide_type": "subslide"
    }
   },
   "source": [
    "For example, consider [dft.m](https://cpjobling.github.io/eg-247-textbook/dft/1/matlab/dft.m):"
   ]
  },
  {
   "cell_type": "markdown",
   "id": "a9af9912",
   "metadata": {
    "slideshow": {
     "slide_type": "subslide"
    }
   },
   "source": [
    "```matlab\n",
    "function [ Xm ] = dft( xn, N )\n",
    "% Computes Discrete Fourier Transform\n",
    "% -----------------------------------\n",
    "% [Xm]  = dft(xn, N)\n",
    "% Xm = DFT coeff. array over 0 <= m <= N-1\n",
    "% xn = N-point finite-duration sequence\n",
    "%  N = length of DFT\n",
    "%\n",
    "n = [0:1:N-1];          % row vector for n\n",
    "m = [0:1:N-1];          % row vector for m\n",
    "WN = exp(-j*2*pi/N);    % Wn factor\n",
    "nm = n'*m;              % creates an N by N matrix of nm values\n",
    "WNnm = WN .^ nm;        % DFT matrix\n",
    "Xm = xn * WNnm;         % row vector of DFT coefficients\n",
    "```"
   ]
  },
  {
   "cell_type": "markdown",
   "id": "60716270",
   "metadata": {
    "slideshow": {
     "slide_type": "subslide"
    }
   },
   "source": [
    "Similarly for the inverse DFT [idft.m](https://cpjobling.github.io/eg-247-textbook/dft/1/matlab/idft.m):"
   ]
  },
  {
   "cell_type": "markdown",
   "id": "32683d05",
   "metadata": {
    "slideshow": {
     "slide_type": "subslide"
    }
   },
   "source": [
    "```matlab\n",
    "function [ xn ] = idft( Xm, N )\n",
    "% Computes Inverse Discrete Fourier Transform\n",
    "% -------------------------------------------\n",
    "% [xn]  = idft(Xm, N)\n",
    "% xn = N-point sequence over 0 <= n <= N-1\n",
    "% Xm = DFT coeff. array over 0 <= m <= N-1\n",
    "%  N = length of DFT\n",
    "%\n",
    "n = [0:1:N-1];          % row vector for n\n",
    "m = [0:1:N-1];          % row vector for m\n",
    "WN = exp(-j*2*pi/N);    % Wn factor\n",
    "nm = n'*m;              % creates an N by N matrix of nm values\n",
    "WNnm = WN .^ (-nm);     % DFT matrix\n",
    "xn = (Xm * WNnm)/N;     % row vector for IDFT values\n",
    "```"
   ]
  },
  {
   "cell_type": "markdown",
   "id": "71dafc3e",
   "metadata": {
    "slideshow": {
     "slide_type": "subslide"
    }
   },
   "source": [
    "### Notes\n",
    "\n",
    "In the remainder of these notes, the correspondence between $x[n]$ and $X[m]$ will be written\n",
    "\n",
    "$$x[n] \\Leftrightarrow X[m]$$\n",
    "\n",
    "In Example 2, we found that, although the DT sequence $x[n]$ was real, the discrete frequency (DF) sequence was complex. However, in most applications we are interested in the magnitude and phase of the DF, that is \n",
    "\n",
    "$$|X[m]|$$ \n",
    "\n",
    "and \n",
    "\n",
    "$$\n",
    "    \\angle X[m].\n",
    "$$"
   ]
  },
  {
   "cell_type": "markdown",
   "id": "76d0c32f",
   "metadata": {
    "slideshow": {
     "slide_type": "subslide"
    }
   },
   "source": [
    "### In Class Example 4\n",
    "\n",
    "Use MATLAB to compute the magnitude of the frequency components of the following DT function:\n",
    "\n",
    "| n | 0 | 1 | 2 | 3 | 4 | 5 | 6 | 7 | 8 | 9 | 10 | 11 | 12 | 13 | 14 | 15 | \n",
    "|-----|---|---|---|---|---|---|---|---|---|---|----|----|----|----|----|----|\n",
    "| x[n] |1.0 |2 |2 |2.5 |1.5 |0.5 |-0.5 |-1.5 |-2.5 |-0.5 |0.25 | 1.25 | 2 | 1.5 | 1 | 0.5 |\n",
    "\n",
    "We will compute this in class and make some comments afterwards."
   ]
  },
  {
   "cell_type": "code",
   "execution_count": null,
   "id": "5a8d8a2c",
   "metadata": {
    "slideshow": {
     "slide_type": "subslide"
    }
   },
   "outputs": [],
   "source": [
    "xn = [ 1, 2, 3, 2.5, 1.5, 0.5,...\n",
    "    -0.5, -1.5, -2.5, -0.5,...\n",
    "    0.25, 1.25, 2, 1.5, 1, 0.5];"
   ]
  },
  {
   "cell_type": "code",
   "execution_count": null,
   "id": "fcf796a0",
   "metadata": {
    "slideshow": {
     "slide_type": "subslide"
    }
   },
   "outputs": [],
   "source": [
    "stem([0:15],xn),xlabel('n'),ylabel('x[n]'),title('Discrete Time Sequence')"
   ]
  },
  {
   "cell_type": "code",
   "execution_count": null,
   "id": "43c64231",
   "metadata": {
    "slideshow": {
     "slide_type": "subslide"
    }
   },
   "outputs": [],
   "source": [
    "Xm = dft(xn,16);"
   ]
  },
  {
   "cell_type": "code",
   "execution_count": null,
   "id": "af236623",
   "metadata": {
    "slideshow": {
     "slide_type": "subslide"
    }
   },
   "outputs": [],
   "source": [
    "stem([0:15],abs(Xm)),xlabel('m'),ylabel('|X[m]|'),title('Discrete Frequency Sequence')"
   ]
  },
  {
   "cell_type": "markdown",
   "id": "21044890",
   "metadata": {
    "slideshow": {
     "slide_type": "notes"
    }
   },
   "source": [
    "Points to note: \n",
    "\n",
    "* $X[0] = 12$ is the DC component of the DT sequence.\n",
    "* After the $|X[8]| = 1.4872$ term, the magnitude of the frequency values for the range $9 <= m \\le 15$ are the mirror image of the values for the range $0 <= m <= 7$.\n",
    "* This is not a coincidence, in fact if $x[n]$ is an N-point *real discrete-time function*, only $N/2$ of the *frequency components* of $|X[m]|$ *are unique*."
   ]
  },
  {
   "cell_type": "markdown",
   "id": "f7ce6e25",
   "metadata": {
    "slideshow": {
     "slide_type": "slide"
    }
   },
   "source": [
    "## Even and Odd Properties of the DFT\n",
    "\n",
    "The discrete time and discrete frequency functions are defined as *even* or *odd* in according to the following relations:\n",
    "\n",
    "Even time function: $f[N - n] = f[n]$\n",
    "\n",
    "Odd time function: $f[N - n] = -f[n]$\n",
    "\n",
    "Even frequency function: $F[N - m] = F[m]$\n",
    "\n",
    "Odd frequency function: $F[N - m] = -F[m]$"
   ]
  },
  {
   "cell_type": "markdown",
   "id": "f1f38856",
   "metadata": {
    "slideshow": {
     "slide_type": "subslide"
    }
   },
   "source": [
    "Even and odd properties of the DFT\n",
    "\n",
    "<table>\n",
    "<thead>\n",
    "    <tr><td><b>Discrete time sequence <i>f</i>[<i>n</i>]</b> </td><td> <b>Discrete frequency sequence <i>F</i>[<i>m</i>]</b> </td></tr>\n",
    "</thead>\n",
    "<tbody>\n",
    "<tr>\n",
    "    <td>Real</td><td>Complex<br>Real part is Even<br>Imaginary part is Odd</td>\n",
    "</tr>\n",
    "<tr>\n",
    "    <td>Real and Even</td><td>Real and Even</td>\n",
    "</tr>\n",
    "<tr>\n",
    "    <td>Real and Odd</td><td>Imaginary and Even</td>\n",
    "</tr>\n",
    "<tr>\n",
    "    <td>Imaginary</td><td>Complex<br>Real part is Odd<br>Imaginary part is Even</td>\n",
    "</tr>\n",
    "<tr>\n",
    "    <td>Imaginary and Even</td><td>Imaginary and Even</td>\n",
    "</tr>\n",
    "<tr>\n",
    "    <td>Imaginary and Odd</td><td>Real and Odd</td>\n",
    "</tr>\n",
    "</tbody>\n",
    "</table>"
   ]
  },
  {
   "cell_type": "markdown",
   "id": "e48da536",
   "metadata": {
    "slideshow": {
     "slide_type": "notes"
    }
   },
   "source": [
    "It is not difficult to prove these by expanding \n",
    "\n",
    "$$X[m] = \\sum_{n=0}^{N-1} x[n]W_N^{mn}$$\n",
    "\n",
    "into its real and imaginary parts using Euler's identity and considering the cosine (even) and sine (odd) terms that result."
   ]
  },
  {
   "cell_type": "markdown",
   "id": "06de0698",
   "metadata": {
    "slideshow": {
     "slide_type": "subslide"
    }
   },
   "source": [
    "## Common Properties and Theorems of the DFT\n",
    "\n",
    "We denote the DFT and inverse DFT using as follows:\n",
    "\n",
    "$$X[m] = \\mathcal{D}\\left\\{x[n]\\right\\}$$\n",
    "\n",
    "and\n",
    "\n",
    "$$x[n] = \\mathcal{D}^{-1}\\left\\{X[m]\\right\\}$$\n",
    "\n",
    "\n",
    "We then state the following useful properties. For proofs, see Karris, 10.3. **Not examined.**"
   ]
  },
  {
   "cell_type": "markdown",
   "id": "f636bbab",
   "metadata": {
    "slideshow": {
     "slide_type": "subslide"
    }
   },
   "source": [
    "### Linearity\n",
    "\n",
    "$$a x_1[n] + b x_2[n] + \\cdots \\Leftrightarrow a X_1[m] + b X_2[m] + \\cdots$$"
   ]
  },
  {
   "cell_type": "markdown",
   "id": "5a9179f4",
   "metadata": {
    "slideshow": {
     "slide_type": "subslide"
    }
   },
   "source": [
    "### Time-shift\n",
    "\n",
    "$$x[n-k] \\Leftrightarrow W_n^{km} X[m]$$"
   ]
  },
  {
   "cell_type": "markdown",
   "id": "b092568f",
   "metadata": {
    "slideshow": {
     "slide_type": "subslide"
    }
   },
   "source": [
    "### Frequency shift\n",
    "\n",
    "$$W_n^{-km} x[n] \\Leftrightarrow X[m-k]$$"
   ]
  },
  {
   "cell_type": "markdown",
   "id": "dca44a80",
   "metadata": {
    "slideshow": {
     "slide_type": "subslide"
    }
   },
   "source": [
    "### Time convolution\n",
    "\n",
    "$$x[n]*h[n] \\Leftrightarrow X[m] H[m]$$"
   ]
  },
  {
   "cell_type": "markdown",
   "id": "3fa48c1b",
   "metadata": {
    "slideshow": {
     "slide_type": "subslide"
    }
   },
   "source": [
    "### Frequency convolution\n",
    "\n",
    "$$x[n]y[n] \\Leftrightarrow \\frac{1}{N}\\sum_{k=0}^{N-1} X[k] Y[m - k] \\Leftrightarrow X[m] * Y[m]$$"
   ]
  },
  {
   "cell_type": "markdown",
   "id": "4d021296",
   "metadata": {
    "slideshow": {
     "slide_type": "slide"
    }
   },
   "source": [
    "## Sampling Theorem, Windows, and the Picket Fence Effect\n",
    "\n",
    "See notes"
   ]
  },
  {
   "cell_type": "markdown",
   "id": "501cac24",
   "metadata": {
    "slideshow": {
     "slide_type": "notes"
    }
   },
   "source": [
    "### Sampling Theorem\n",
    "\n",
    "The *sampling theorem* known as *Nyquist/Shannon's Sampling Theorem* (see [wp>Nyquist/Shannon Sampling Theorem](https://en.wikipedia.org/wiki/Nyquist%E2%80%93Shannon_sampling_theorem)), states that *if a continuous time function, $f(t)$ is band-limited with its highest frequency component less that $W$, then $f(t)$ can be completely recovered from its sampled values, $f[n]$, f the sampling frequency is equal or greater than $2W$.\n",
    "\n",
    "For example, say the highest frequency component in a signal is 18 kHz, this signal must be sampled at $2 \\times 18 = 36$ kHz or higher so that it can be completely specified by its sampled values. If the sampled frequency remains the same, i.e., 36 kHz, and the highest frequency in the signal is increased, to say 25 kHz, this signal cannot be recovered by a Digital to Analogue Converter (DAC).\n",
    "\n",
    "Since many real signals are not band limited, a typical digital signal processing system will include a low-pass filter, often called a *pre-sampling-filter* or simply a *pre-filter*, to ensure that the highest frequency signal allowed into the system will be equal or less than the sampling frequency so that the signal can be recovered. The highest frequency allowed in the system is referred to as the Nyquist frequency denoted as $f_n$.\n",
    "\n",
    "If the signal is not band limited, or the sampling frequency is too low, the spectral components of the signal will overlap each other and this is called *aliasing*. To avoid aliasing, we must increase the sampling rate.\n",
    "\n",
    "### Windowing\n",
    "\n",
    "A DT signal may have an infinite length; in this case it must be limited to a finite interval before it is sampled. We can terminate the signal at a defined number of terms by multiplying it by a *window function*. There are several window functions that are used in practice such as the *rectangular*, *triangular*, *Hanning*, *Hamming*, *Kaiser*, etc. Window functions, and their design, are outside the scope of this module, but are discussed in Appendix E of Karris.\n",
    "\n",
    "All I will say here is that the window function must be carefully chosen to avoid the signal being terminated too abrubtly and causing *leakage* -- that is a spread of the spectrum outside the bounds imposed by the window.\n",
    "\n",
    "### Picket fence\n",
    "\n",
    "A third problem introduced by the DFT is the fact that as the spectrum of the DFT is not continuous, important frequencies may fall between spectrum lines and therefore not be detected. This is called the picket fence effect, named after the white fences seen in the suburbs in US movies. A way round this is to pad the signal with zeros so that the effective period changes and therefore changes the locations of the spectral lines.\n",
    "\n",
    "You should remember that the sampling theorem states under what conditions a signal may be recovered. It does not guarantee that all significant frequencies will be present in the sampled signal."
   ]
  },
  {
   "cell_type": "markdown",
   "id": "0e613b65",
   "metadata": {
    "slideshow": {
     "slide_type": "slide"
    }
   },
   "source": [
    "## A summary of the important features of sampling and the DFT\n",
    "\n",
    "* $N$ is the number of samples in frequency.\n",
    "* $f_s$ sampling frequency, samples per seconds.\n",
    "* $T_t$ period of a periodic DT function.\n",
    "* $t_s$ interval between the $N$ samples in time period $T_t$.\n",
    "* $f_f$ period of a periodic DF function.\n",
    "* $F_s$ interval between the $N$ samples in frequency period $T_f$."
   ]
  },
  {
   "cell_type": "markdown",
   "id": "67c65252",
   "metadata": {
    "slideshow": {
     "slide_type": "subslide"
    }
   },
   "source": [
    "The relationships between these quantities are:\n",
    "\n",
    "$$t_t = \\frac{T_t}{N}$$\n",
    "\n",
    "$$f_s = \\frac{1}{t_t}$$\n",
    "\n",
    "$$t_f = \\frac{T_f}{N}$$"
   ]
  },
  {
   "cell_type": "markdown",
   "id": "3970f3f1",
   "metadata": {
    "slideshow": {
     "slide_type": "subslide"
    }
   },
   "source": [
    "$$t_t = \\frac{1}{T_f}$$\n",
    "\n",
    "$$f_f = \\frac{1}{T_t}$$\n",
    "\n",
    "We will add these quantities to the results of Example 4 in class."
   ]
  },
  {
   "cell_type": "markdown",
   "id": "db0c06b5",
   "metadata": {
    "slideshow": {
     "slide_type": "notes"
    }
   },
   "source": [
    "### Example 4 (continued)\n",
    "\n",
    "![Example 4](./pictures/repeat.png)\n",
    "\n",
    "To reproduce this plot use [repeat.m](https://cpjobling.github.io/eg-247-textbook/dft/1/matlab/repeat.m)."
   ]
  },
  {
   "cell_type": "markdown",
   "id": "59a56474",
   "metadata": {
    "slideshow": {
     "slide_type": "slide"
    }
   },
   "source": [
    "### In Class Example 5\n",
    "\n",
    "The period of a periodic DT function is 0.125 ms and it is sampled at 1024 equally spaced points. It is assumed that with this number of samples, the sampling theorem is satisfied and thus there will be no aliasing.\n",
    "\n",
    "1. Compute the interval $t_t$ between samples for the periodic signal \n",
    "1. Compute the period $T_f$ of the frequency spectrum in kHz\n",
    "2. Compute the interval $t_f$ between frequency components in kHz\n",
    "3. Compute the sampling frequency $f_s$.\n",
    "4. Compute the Nyquist frequency $f_n$."
   ]
  },
  {
   "cell_type": "markdown",
   "id": "bb3dcf9e",
   "metadata": {
    "slideshow": {
     "slide_type": "notes"
    }
   },
   "source": [
    "### Solution\n",
    "\n",
    "To be done in class.\n",
    "\n",
    "*  Compute the interval $t_t$ between samples for the periodic signal \n",
    "\n",
    "<pre style=\"border: 2px solid blue\">\n",
    "\n",
    "\n",
    "\n",
    "\n",
    "\n",
    "\n",
    "\n",
    "\n",
    "\n",
    "</pre>\n",
    "\n",
    "* Compute the period of the frequency spectrum $T_f$ in kHz\n",
    "\n",
    "<pre style=\"border: 2px solid blue\">\n",
    "\n",
    "\n",
    "\n",
    "\n",
    "\n",
    "\n",
    "\n",
    "\n",
    "\n",
    "</pre>\n",
    "\n",
    "* Compute the interval $t_f$ between frequency components in kHz\n",
    "\n",
    "<pre style=\"border: 2px solid blue\">\n",
    "\n",
    "\n",
    "\n",
    "\n",
    "\n",
    "\n",
    "\n",
    "\n",
    "\n",
    "</pre>\n",
    "\n",
    "* Compute the sampling frequency $f_s$.\n",
    "\n",
    "<pre style=\"border: 2px solid blue\">\n",
    "\n",
    "\n",
    "\n",
    "\n",
    "\n",
    "\n",
    "\n",
    "\n",
    "\n",
    "</pre>\n",
    "\n",
    "* Compute the Nyquist frequency $f_n$.\n",
    "\n",
    "<pre style=\"border: 2px solid blue\">\n",
    "\n",
    "\n",
    "\n",
    "\n",
    "\n",
    "\n",
    "\n",
    "\n",
    "\n",
    "</pre>"
   ]
  },
  {
   "cell_type": "markdown",
   "id": "04349fc1",
   "metadata": {
    "slideshow": {
     "slide_type": "slide"
    }
   },
   "source": [
    "## Summary\n",
    "\n",
    "* The discrete time fourier transform\n",
    "* Even and Odd Properties of the DFT\n",
    "* Common Properties and Theorems of the DFT\n",
    "* Sampling Theorem, Windows, and the Picket Fence Effect"
   ]
  },
  {
   "cell_type": "markdown",
   "id": "461013b6",
   "metadata": {
    "slideshow": {
     "slide_type": "subslide"
    }
   },
   "source": [
    "*Next session*\n",
    "\n",
    "* The [Fast Fourier Transform](../2/fft)\n",
    "\n",
    "(without the mathematics)"
   ]
  },
  {
   "cell_type": "markdown",
   "id": "05f5f3cc",
   "metadata": {
    "slideshow": {
     "slide_type": "subslide"
    }
   },
   "source": [
    "## Homework\n",
    "\n",
    "Try Exercise 1 and Exercise 2 in Karris 10.8 by hand."
   ]
  },
  {
   "cell_type": "markdown",
   "id": "a5a6e470",
   "metadata": {
    "slideshow": {
     "slide_type": "notes"
    }
   },
   "source": [
    "For the exam, I wouldn't expect you to compute the whole sequence for a signal with more than 8 samples. A thorough understanding of the $W_N^nm$ notation is needed and familiarity with the angle wheel (e.g as for $W_8^n$ in Example 3) will be advantageous."
   ]
  },
  {
   "cell_type": "markdown",
   "id": "efdf43f7",
   "metadata": {
    "slideshow": {
     "slide_type": "notes"
    }
   },
   "source": [
    "## References\n",
    "\n",
    "See [Bibliography](/zbib)."
   ]
  },
  {
   "cell_type": "markdown",
   "id": "ab0890ab",
   "metadata": {
    "slideshow": {
     "slide_type": "notes"
    }
   },
   "source": [
    "## Answers to selcted exercises\n",
    "\n",
    "### Example 1\n",
    "\n",
    "$$\\begin{eqnarray*}\n",
    "  X(0) &=& 6 \\\\ \n",
    "  X(1) &=&  - 1 - j \\\\ \n",
    "  X(2) &=& 0 \\\\ \n",
    "  X(3) &=&  - 1 + j \\\\ \n",
    "\\end{eqnarray*} $$\n",
    "\n",
    "\n",
    "### Example 3\n",
    "\n",
    "$$W_8 = \\left[ 1, \\frac{1}{\\sqrt{2}}+j\\frac{1}{\\sqrt{2}}, j, -\\frac{1}{\\sqrt{2}}+j\\frac{1}{\\sqrt{2}}, -1, -\\frac{1}{\\sqrt{2}}-j\\frac{1}{\\sqrt{2}}, -j, \\frac{1}{\\sqrt{2}}-j\\frac{1}{\\sqrt{2}} \\right]$$\n",
    "\n",
    "### Example 5\n",
    "\n",
    "1. $t_t = 0.122$ $\\mu$s\n",
    "2. $T_f = 1/t_t = 8192$ kHz (8.2 Mhz)\n",
    "2. $t_f = T_f/N = 8$ kHz\n",
    "3. $f_s = 1/t_t$ = 8.2 Mhz\n",
    "4. $f_n \\le F_s/2 \\le 4.1$ Mhz"
   ]
  }
 ],
 "metadata": {
  "jupytext": {
   "formats": "ipynb,md:myst",
   "text_representation": {
    "extension": ".md",
    "format_name": "myst",
    "format_version": 0.13,
    "jupytext_version": "1.14.4"
   }
  },
  "kernelspec": {
   "display_name": "Matlab",
   "language": "matlab",
   "name": "matlab"
  },
  "source_map": [
   15,
   19,
   31,
   37,
   41,
   45,
   49,
   53,
   57,
   65,
   75,
   79,
   90,
   100,
   106,
   114,
   120,
   124,
   128,
   134,
   140,
   144,
   152,
   160,
   164,
   172,
   182,
   188,
   194,
   202,
   206,
   216,
   267,
   310,
   327,
   333,
   374,
   378,
   387,
   391,
   399,
   405,
   411,
   419,
   427,
   435,
   443,
   451,
   461,
   471,
   478,
   532,
   540,
   548,
   552,
   571,
   575,
   594,
   612,
   624,
   634,
   642,
   650,
   658,
   666,
   680,
   710,
   718,
   733,
   739,
   745,
   751,
   757,
   763,
   769,
   793,
   804,
   814,
   822,
   830,
   842,
   918,
   927,
   935,
   941,
   945,
   951
  ]
 },
 "nbformat": 4,
 "nbformat_minor": 5
}