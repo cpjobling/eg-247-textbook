{
 "cells": [
  {
   "cell_type": "markdown",
   "id": "1de3c7d7",
   "metadata": {
    "slideshow": {
     "slide_type": "slide"
    }
   },
   "source": [
    "# The Discrete Fourier Transform"
   ]
  },
  {
   "cell_type": "markdown",
   "id": "e4a8d0e9",
   "metadata": {
    "slideshow": {
     "slide_type": "skip"
    }
   },
   "source": [
    "## Colophon\n",
    "\n",
    "An annotatable worksheet for this presentation is available as [**Worksheet 18**](worksheet18).\n",
    "\n",
    "* The source code for this page is [dft/1/dft.ipynb](https://github.com/cpjobling/eg-247-textbook/blob/master/dft/1/dft.ipynb).\n",
    "\n",
    "* You can view the notes for this presentation as a webpage ([HTML](https://cpjobling.github.io/eg-247-textbook/dft/1/dft.html)). \n",
    "\n",
    "* This page is downloadable as a [PDF](https://cpjobling.github.io/eg-247-textbook/dft/1/dft.pdf) file."
   ]
  },
  {
   "cell_type": "markdown",
   "id": "24792837",
   "metadata": {
    "slideshow": {
     "slide_type": "subslide"
    }
   },
   "source": [
    "## Scope and Background Reading\n",
    "\n",
    "The material in this presentation and notes is based on [Chapter 10](https://ebookcentral.proquest.com/lib/swansea-ebooks/reader.action?docID=3384197&ppg=389) of  {cite}`karris` from the **Required Reading List**. Additional coverage is to be found in Chapter 12 of {cite}`phillips` from the **Recommended Reading List**."
   ]
  },
  {
   "cell_type": "markdown",
   "id": "964bf717",
   "metadata": {
    "slideshow": {
     "slide_type": "subslide"
    }
   },
   "source": [
    "## Agenda"
   ]
  },
  {
   "cell_type": "markdown",
   "id": "61687c54",
   "metadata": {
    "slideshow": {
     "slide_type": "fragment"
    }
   },
   "source": [
    "* The discrete time fourier transform (DFT)"
   ]
  },
  {
   "cell_type": "markdown",
   "id": "a7d4d25d",
   "metadata": {
    "slideshow": {
     "slide_type": "fragment"
    }
   },
   "source": [
    "* Even and Odd Properties of the DFT"
   ]
  },
  {
   "cell_type": "markdown",
   "id": "f2f300aa",
   "metadata": {
    "slideshow": {
     "slide_type": "fragment"
    }
   },
   "source": [
    "* Common Properties and Theorems of the DFT"
   ]
  },
  {
   "cell_type": "markdown",
   "id": "9450b06a",
   "metadata": {
    "slideshow": {
     "slide_type": "fragment"
    }
   },
   "source": [
    "* Sampling Theorem, Windows, and the Picket Fence Effect (Notes only)"
   ]
  },
  {
   "cell_type": "markdown",
   "id": "3111ab38",
   "metadata": {
    "slideshow": {
     "slide_type": "slide"
    }
   },
   "source": [
    "## Introduction\n",
    "\n",
    "* Fourier series: periodic and continuous time function leads to a non-periodic discrete frequency function.\n",
    "* Fourier transform: non-periodic and continuous function leads to a non-periodic continuous frequency function.\n",
    "* Z and inverse Z-transforms produce a periodic and continuous frequency function, since they are evaluated on the unit circle."
   ]
  },
  {
   "cell_type": "markdown",
   "id": "e9ea1ba9",
   "metadata": {
    "slideshow": {
     "slide_type": "notes"
    }
   },
   "source": [
    "### Note\n",
    "\n",
    "The frequency spectrum of a discrete time function $f[n]$ is obtained from its z-transform by substituting $z = e^{sT} = e^{j\\omega T}$ as we saw from the mapping of the s-plane to the z-plane. This is continuous as there are an infinite number of points in the interval $0$ to $2\\pi$; and it is periodic because for any point $\\omega T$ there is an equivalent point $\\omega T + 2 N \\pi$ later. \n",
    "\n",
    "In practice, to compute the spectrum for a discrete time (DT) system, we only compute a finite number of equally spaced points.\n",
    "\n",
    "For maxium readability, and because the exponent terms we will be using are fairly complex, we shall use the functional notation $\\exp(x)$ rather than exponential notation $e^x$."
   ]
  },
  {
   "cell_type": "markdown",
   "id": "e6cc4f8b",
   "metadata": {
    "slideshow": {
     "slide_type": "subslide"
    }
   },
   "source": [
    "In this session, we will see that a periodic and discrete time function results in a periodic and discrete frequency function."
   ]
  },
  {
   "cell_type": "markdown",
   "id": "739babc3",
   "metadata": {
    "slideshow": {
     "slide_type": "subslide"
    }
   },
   "source": [
    "For convenience we summarize these facts in a table:\n",
    "\n",
    "| **Topic** | **Time Function** | **Frequency Function** |\n",
    "|-----------|-------------------|------------------------|\n",
    "| Fourier Series | Continuous, Periodic | Discrete, Non-Periodic |\n",
    "| Fourier Transform | Continuous, Non-Periodic | Continuous, Non-Periodic |\n",
    "| Z Transform | Discrete, Non-Periodic | Continuous, Periodic |\n",
    "| Discrete Fourier Transform | Discrete, Periodic | Discrete, Periodic |"
   ]
  },
  {
   "cell_type": "markdown",
   "id": "6d7acd72",
   "metadata": {
    "slideshow": {
     "slide_type": "subslide"
    }
   },
   "source": [
    "### List of Abbreviations\n",
    "\n",
    "* CT -- Continous Time\n",
    "* DT -- Discrete Time\n",
    "* DF - Discrete frequency\n",
    "* DFT -- Discrete (Time) Fourier Transform\n",
    "* FFT -- Fast Fourier Transform"
   ]
  },
  {
   "cell_type": "markdown",
   "id": "d237b853",
   "metadata": {
    "slideshow": {
     "slide_type": "subslide"
    }
   },
   "source": [
    "### Notation\n",
    "\n",
    "In the following we shall denote a DT signal as $x[n]$ and its discrete frequency function as $X[m]$."
   ]
  },
  {
   "cell_type": "markdown",
   "id": "6e69a7e4",
   "metadata": {
    "slideshow": {
     "slide_type": "slide"
    }
   },
   "source": [
    "## Z-Transform\n",
    "\n",
    "Recall that\n",
    "\n",
    "$$F(z) = \\mathcal{Z} f[n] = \\sum_{n=0}^{\\infty} f[n]z^{-n}.$$"
   ]
  },
  {
   "cell_type": "markdown",
   "id": "587bebe4",
   "metadata": {
    "slideshow": {
     "slide_type": "subslide"
    }
   },
   "source": [
    "The value of this function on the unit circle in the Z-plane will be\n",
    "\n",
    "$$F\\left(\\exp\\left({j\\omega T}\\right)\\right) = \\sum_{n=0}^{\\infty} f[n]\\exp\\left({-jn \\omega T}\\right).$$"
   ]
  },
  {
   "cell_type": "markdown",
   "id": "b9115875",
   "metadata": {
    "slideshow": {
     "slide_type": "fragment"
    }
   },
   "source": [
    "This is an infinite sum.  So to compute it, we need to truncate it."
   ]
  },
  {
   "cell_type": "markdown",
   "id": "e2fff6ba",
   "metadata": {
    "slideshow": {
     "slide_type": "slide"
    }
   },
   "source": [
    "## The Discrete-time Fourier Transform"
   ]
  },
  {
   "cell_type": "markdown",
   "id": "787a79cb",
   "metadata": {
    "slideshow": {
     "slide_type": "fragment"
    }
   },
   "source": [
    "Let's assume that instead of an infinite number of points, we have $N$ points, equally distributed around the unit circle, then the truncated version will be:\n",
    "\n",
    "$$X[m] =  \\sum_{n=0}^{N-1} x[n]\\exp\\left({-j2\\pi \\frac{m n}{N}}\\right)$$"
   ]
  },
  {
   "cell_type": "markdown",
   "id": "a8012cdb",
   "metadata": {
    "slideshow": {
     "slide_type": "subslide"
    }
   },
   "source": [
    "where\n",
    "\n",
    "$$\\omega  = \\left( {\\frac{2\\pi}{N}} \\right)m$$"
   ]
  },
  {
   "cell_type": "markdown",
   "id": "b5f5712e",
   "metadata": {
    "slideshow": {
     "slide_type": "fragment"
    }
   },
   "source": [
    "and $m = 0,1,2,\\ldots, N-1$."
   ]
  },
  {
   "cell_type": "markdown",
   "id": "c87399e2",
   "metadata": {
    "slideshow": {
     "slide_type": "subslide"
    }
   },
   "source": [
    "We refer to the equation \n",
    "\n",
    "$$X[m] =  \\sum_{n=0}^{N-1} x[n]\\exp\\left({-j2\\pi \\frac{m n}{N}}\\right)$$\n",
    "\n",
    "as the N-point Discrete-time Fourier Transform (DFT) of $x[n]$."
   ]
  },
  {
   "cell_type": "markdown",
   "id": "b8297faa",
   "metadata": {
    "slideshow": {
     "slide_type": "subslide"
    }
   },
   "source": [
    "The inverse DFT is defined as\n",
    "\n",
    "$$x[n] =  \\frac{1}{N} \\sum_{m=0}^{N-1} X[m]\\exp\\left({j2\\pi \\frac{m n}{N}}\\right)$$\n",
    "\n",
    "for $n = 0,1,2,\\ldots, N-1$."
   ]
  },
  {
   "cell_type": "markdown",
   "id": "287cb941",
   "metadata": {
    "slideshow": {
     "slide_type": "fragment"
    }
   },
   "source": [
    "Note the symmetry of the DFT and the Inverse DFT!"
   ]
  },
  {
   "cell_type": "markdown",
   "id": "80aa8816",
   "metadata": {
    "slideshow": {
     "slide_type": "subslide"
    }
   },
   "source": [
    "In general, the DFT is complex, and thus it can be expressed as\n",
    "\n",
    "$$X[m] = \\Re\\left\\{X[m]\\right\\} + \\Im\\left\\{X[m]\\right\\}$$\n",
    "\n",
    "for $m = 0,1,2,\\ldots,N-1$."
   ]
  },
  {
   "cell_type": "markdown",
   "id": "fe32899d",
   "metadata": {
    "slideshow": {
     "slide_type": "subslide"
    }
   },
   "source": [
    "Since\n",
    "\n",
    "$$\\exp\\left({-j2\\pi \\frac{m n}{N}}\\right) = \\cos\\left(2\\pi\\frac{m n}{N}\\right) - j\\sin\\left(2\\pi \\frac{m n}{N}\\right)$$\n",
    "\n",
    "the DFT can be expresssed as\n",
    "\n",
    "$$X[m] =  \\sum_{n=0}^{N-1} x[n]\\exp\\left({-j2\\pi \\frac{m n}{N}}\\right) = \\sum_{n=0}^{N-1}x[n]\\cos\\left(2\\pi \\frac{m n}{N}\\right) - j\\sum_{n=0}^{N-1}x[n]\\sin\\left(2\\pi\\frac{ m n}{N}\\right).$$"
   ]
  },
  {
   "cell_type": "markdown",
   "id": "39d8b4ff",
   "metadata": {
    "slideshow": {
     "slide_type": "subslide"
    }
   },
   "source": [
    "For $n=0$ this reduces to \n",
    "\n",
    "$$X[m] = x[0].$$"
   ]
  },
  {
   "cell_type": "markdown",
   "id": "5ce37226",
   "metadata": {
    "slideshow": {
     "slide_type": "subslide"
    }
   },
   "source": [
    "Then the real part of $X[m]$ is\n",
    "\n",
    "$$\\Re \\left\\{ {X[m]} \\right\\} = x[0] + \\sum\\limits_{n = 1}^{N - 1} x [n]\\cos \\left( 2\\pi \\frac{mn}{N} \\right)\\quad {\\text{for}}\\quad m = 0,1,2, \\ldots ,N - 1$$"
   ]
  },
  {
   "cell_type": "markdown",
   "id": "1a7c8920",
   "metadata": {
    "slideshow": {
     "slide_type": "subslide"
    }
   },
   "source": [
    "and the imaginary part is\n",
    "\n",
    "$$\n",
    " \\Im \\left\\{ {X[m]} \\right\\} = - \\sum\\limits_{n = 1}^{N - 1} x [n]\\sin \\left( 2\\pi \\frac{mn}{N} \\right)\\quad {\\text{for}}\\quad m = 0,1,2, \\ldots ,N - 1.\n",
    "$$"
   ]
  },
  {
   "cell_type": "markdown",
   "id": "d7fb363d",
   "metadata": {
    "slideshow": {
     "slide_type": "notes"
    }
   },
   "source": [
    "Note that the summations are from 1 to $N-1$ because $n=0$ is covered in the real term, and as $x[0]$ is real, it is zero in the corresponding imaginary term."
   ]
  },
  {
   "cell_type": "markdown",
   "id": "bb50fe2c",
   "metadata": {
    "slideshow": {
     "slide_type": "subslide"
    }
   },
   "source": [
    "### In Class Example 1\n",
    "\n",
    "A discrete time signal is defined by the sequence \n",
    "\n",
    "$x[0] = 1$, $x[1] = 2$, $x[2] = 2$, $x[3] = 1$. \n",
    "\n",
    "Compute the frequency components $X[m]$."
   ]
  },
  {
   "cell_type": "markdown",
   "id": "8fad3e0a",
   "metadata": {
    "slideshow": {
     "slide_type": "notes"
    }
   },
   "source": [
    "### Solution 1\n",
    "\n",
    "Compute the $N=4$ point DFT for $\\Re\\left\\{X[m]\\right\\}$.\n",
    "\n",
    "$x[n] = \\left[1, 2, 2, 1\\right]$ and $N=4$.\n",
    "\n",
    "$x[0]$:\n",
    "\n",
    "\n",
    "$$\n",
    "\\begin{eqnarray*}\n",
    "\\Re \\left\\{ {X[0]} \\right\\} &=& x[0] + \\sum\\limits_{n = 1}^{3} x[n]\\cos \\left( 0 \\right)\\\\\n",
    "                            &=& 1 + 2\\times 1 + 2\\times 1 + 1\\times 1\\\\\n",
    "\\Re \\left\\{ {X[0]} \\right\\} &=& 6\n",
    "\\end{eqnarray*}\n",
    "$$\n",
    "\n",
    "\n",
    "$x[1]$:\n",
    "\n",
    "$$\n",
    "\\begin{eqnarray*}\n",
    "\\Re \\left\\{ {X[1]} \\right\\} &=& x[0] + \\sum\\limits_{n = 1}^{3} x[n]\\cos \\left( \\frac{n\\pi}{2} \\right)\\\\\n",
    "                            &=& 1 + 2\\times 0 + 2 \\times -1 + 1 \\times 0\\\\\n",
    "\\Re \\left\\{ {X[1]} \\right\\} &=& -1\n",
    "\\end{eqnarray*}\n",
    "$$\n",
    "\n",
    "\n",
    "$x[2]$:\n",
    "\n",
    "$$\n",
    "\\begin{eqnarray*}\n",
    "\\Re \\left\\{ {X[2]} \\right\\} &=& x[0] + \\sum\\limits_{n = 1}^{3} x[n]\\cos \\left( n\\pi \\right)\\\\\n",
    "                            &=& 1 + 2\\times -1 + 2 \\times 1 + 1\\times -1\\\\\n",
    "\\Re \\left\\{ {X[2]} \\right\\} &=& 0\n",
    "\\end{eqnarray*}\n",
    "$$\n",
    "\n",
    "$x[3]$:\n",
    "\n",
    "$$\n",
    "\\begin{eqnarray*}\n",
    "\\Re \\left\\{ {X[3]} \\right\\} &=& x[0] + \\sum\\limits_{n = 1}^{3} x[n]\\cos \\left( \\frac{3n\\pi}{2} \\right)\\\\\n",
    "                            &=& 1 + 2\\times 0 + 2 \\times -1 + 1\\times 0\\\\\n",
    "\\Re \\left\\{ {X[3]} \\right\\} &=& -1\n",
    "\\end{eqnarray*}\n",
    "$$"
   ]
  },
  {
   "cell_type": "markdown",
   "id": "ca6b17f3",
   "metadata": {
    "slideshow": {
     "slide_type": "notes"
    }
   },
   "source": [
    "Compute the four point DFT for $\\Im\\left\\{X[m]\\right\\}$.\n",
    "\n",
    "$x[0]$:\n",
    "\n",
    "$$\n",
    "\\begin{eqnarray*}\n",
    "\\Im \\left\\{ {X[0]} \\right\\} &=& - \\sum\\limits_{n = 1}^{3} x[n]\\sin \\left( 0 \\right)\\\\\n",
    "\\Im \\left\\{ {X[0]} \\right\\} &=& 0\n",
    "\\end{eqnarray*}\n",
    "$$\n",
    "\n",
    "$x[1]$:\n",
    "\n",
    "$$\n",
    "\\begin{eqnarray*}\n",
    "\\Im \\left\\{ {X[1]} \\right\\} &=& - \\sum\\limits_{n = 1}^{3} x[n]\\sin \\left( \\frac{n\\pi}{2} \\right)\\\\\n",
    "                            &=& - (2\\times 1 + 2 \\times 0 + 1 \\times -1)\\\\\n",
    "\\Im \\left\\{ {X[1]} \\right\\} &=& -1\n",
    "\\end{eqnarray*}\n",
    "$$\n",
    "\n",
    "$x[2]$:\n",
    "\n",
    "$$\n",
    "\\begin{eqnarray*}\n",
    "\\Im \\left\\{ {X[2]} \\right\\} &=& - \\sum\\limits_{n = 1}^{3} x[n]\\sin \\left( n\\pi \\right)\\\\\n",
    "                            &=& - (2\\times 0 + 2 \\times 0 + 1\\times 0)\\\\\n",
    "\\Im \\left\\{ {X[2]} \\right\\} &=& 0\n",
    "\\end{eqnarray*}\n",
    "$$\n",
    "\n",
    "$x[3]$:\n",
    "\n",
    "$$\n",
    "\\begin{eqnarray*}\n",
    "\\Im \\left\\{ {X[3]} \\right\\} &=& - \\sum\\limits_{n = 1}^{3} x[n]\\sin \\left( \\frac{3n\\pi}{2} \\right)\\\\\n",
    "                            &=& - (2\\times -1 + 2 \\times 0 + 1\\times 1)\\\\\n",
    "\\Im \\left\\{ {X[3]} \\right\\} &=& 1\n",
    "\\end{eqnarray*}\n",
    "$$"
   ]
  },
  {
   "cell_type": "markdown",
   "id": "76afb55c",
   "metadata": {
    "slideshow": {
     "slide_type": "notes"
    }
   },
   "source": [
    "</pre>\n",
    "\n",
    "* Add these together to find $X[m]$.\n",
    "\n",
    "$$\n",
    "\\begin{eqnarray*}\n",
    "X[0] &=& 6 + j0\\\\\n",
    "X[1] &=& -1 - j\\\\\n",
    "X[2] &=& 0\\\\\n",
    "X[3] &=& -1 + j\n",
    "\\end{eqnarray*}\n",
    "$$\n",
    "\n",
    "$$X[m] = \\left[6, -1 - j, 0, -1 - j\\right].$$"
   ]
  },
  {
   "cell_type": "markdown",
   "id": "89413ce5",
   "metadata": {
    "slideshow": {
     "slide_type": "slide"
    }
   },
   "source": [
    "### In Class Example 2\n",
    "\n",
    "Use the inverse DFT to compute the discrete-time sequence $x[n]$ from $X[m]$."
   ]
  },
  {
   "cell_type": "markdown",
   "id": "348f2ca8",
   "metadata": {
    "slideshow": {
     "slide_type": "notes"
    }
   },
   "source": [
    "### Solution 2\n",
    "\n",
    "$$\n",
    "x[n] = \\frac{1}{4}\\sum_{m=0}^{3} X[m]\\exp\\left(j2\\pi\\frac{mn}{4}\\right)\n",
    "$$\n",
    "\n",
    "Compute $x[0]$ from this result.\n",
    "\n",
    "$$x[0] = \\frac{1}{4}\\left[6, -1 - j, 0, -1 + j\\right] = \\frac{6-2}{4} = 1$$\n",
    "\n",
    "Repeat for $x[1]$, $x[2]$ and $x[3]$.\n",
    "\n",
    "$x[1]$: uses $\\exp\\left(j\\frac{\\pi}{2}m\\right) = \\pm j$\n",
    "\n",
    "$$\n",
    "\\begin{eqnarray*}\n",
    "x[1] &=& \\frac{1}{4}\\left(6 + j(-1-j)+0-j(-1+j)\\right)\\\\\n",
    "&=& \\frac{1}{4}\\left(6 + -j+1+0+j+1)\\right) = \\frac{8}{4} = 2\\\\\n",
    "\\end{eqnarray*}\n",
    "$$\n",
    "\n",
    "$x[2]$: uses $\\exp\\left(j\\pi m\\right) = 1, -1, 1, -1$\n",
    "\n",
    "$$\n",
    "\\begin{eqnarray*}\n",
    "x[2] &=& \\frac{1}{4}\\left(1\\times 6 + -1\\times (-1-j)+1\\times 0-1\\times(-1+j)\\right)\\\\\n",
    "&=& \\frac{1}{4}\\left(6 + 1+j+0+1-j)\\right) = \\frac{8}{4} = 2\\\\\n",
    "\\end{eqnarray*}\n",
    "$$\n",
    "\n",
    "$x[3]$: uses $\\exp\\left(j\\frac{3\\pi}{2} m\\right)$\n",
    "\n",
    "$$\n",
    "\\begin{eqnarray*}\n",
    "x[3] &=& \\frac{1}{4}\\left(1\\times 6 + -j\\times (-1-j)+1\\times 0+j\\times(-1+j)\\right)\\\\\n",
    "&=& \\frac{1}{4}\\left(6 + j-1 +0-j +1 )\\right) = \\frac{4}{1} = 1\\\\\n",
    "\\end{eqnarray*}\n",
    "$$"
   ]
  },
  {
   "cell_type": "markdown",
   "id": "f9f5fd94",
   "metadata": {
    "slideshow": {
     "slide_type": "subslide"
    }
   },
   "source": [
    "### Simulink model of the DFT"
   ]
  },
  {
   "cell_type": "code",
   "execution_count": 1,
   "id": "06e6f410",
   "metadata": {
    "slideshow": {
     "slide_type": "fragment"
    }
   },
   "outputs": [
    {
     "name": "stdout",
     "output_type": "stream",
     "text": [
      "ans =\n",
      "    '/Users/eechris/code/src/github.com/cpjobling/eg-247-textbook/dft/1/matlab'\n"
     ]
    }
   ],
   "source": [
    "cd matlab\n",
    "imatlab_export_fig('print-svg')  % Static svg figures.\n",
    "pwd"
   ]
  },
  {
   "cell_type": "markdown",
   "id": "ad60968c",
   "metadata": {
    "slideshow": {
     "slide_type": "notes"
    }
   },
   "source": [
    "See [dft_ex10_1.slx](https://cpjobling.github.io/eg-247-textbook/dft/1/matlab/dft_ex10_1.slx)"
   ]
  },
  {
   "cell_type": "code",
   "execution_count": 2,
   "id": "e8dd1443",
   "metadata": {
    "slideshow": {
     "slide_type": "fragment"
    }
   },
   "outputs": [],
   "source": [
    "dft_ex10_1"
   ]
  },
  {
   "cell_type": "markdown",
   "id": "ddcff560",
   "metadata": {
    "slideshow": {
     "slide_type": "notes"
    }
   },
   "source": [
    "![Simulink Model of DFT](pictures/dft_10_1.png)\n",
    "\n",
    "Try inputting your student number."
   ]
  },
  {
   "cell_type": "markdown",
   "id": "718afc30",
   "metadata": {
    "slideshow": {
     "slide_type": "subslide"
    }
   },
   "source": [
    "### MATLAB model of the DFT\n",
    "\n",
    "Karris Example 10.1. To successfully run this script you will need to download the functions [dft.m](https://cpjobling.github.io/eg-247-textbook/dft/1/matlab/dft.m) and [idft.m](https://cpjobling.github.io/eg-247-textbook/dft/1/matlab/idft.m) and make them available on your `MATLABPATH`."
   ]
  },
  {
   "cell_type": "code",
   "execution_count": 3,
   "id": "54fe4ab6",
   "metadata": {
    "slideshow": {
     "slide_type": "fragment"
    }
   },
   "outputs": [],
   "source": [
    "xn = [1, 2, 2, 1];"
   ]
  },
  {
   "cell_type": "code",
   "execution_count": 4,
   "id": "69df94de",
   "metadata": {
    "slideshow": {
     "slide_type": "fragment"
    }
   },
   "outputs": [],
   "source": [
    "open dft"
   ]
  },
  {
   "cell_type": "code",
   "execution_count": 5,
   "id": "97d1c2ed",
   "metadata": {
    "slideshow": {
     "slide_type": "fragment"
    }
   },
   "outputs": [
    {
     "name": "stdout",
     "output_type": "stream",
     "text": [
      "Xm =\n",
      "   6.0000 + 0.0000i  -1.0000 - 1.0000i   0.0000 - 0.0000i  -1.0000 + 1.0000i\n"
     ]
    }
   ],
   "source": [
    "Xm = dft(xn,4)"
   ]
  },
  {
   "cell_type": "code",
   "execution_count": 6,
   "id": "4896c854",
   "metadata": {
    "slideshow": {
     "slide_type": "subslide"
    }
   },
   "outputs": [],
   "source": [
    "open idft"
   ]
  },
  {
   "cell_type": "code",
   "execution_count": 7,
   "id": "7286c559",
   "metadata": {
    "slideshow": {
     "slide_type": "fragment"
    }
   },
   "outputs": [
    {
     "name": "stdout",
     "output_type": "stream",
     "text": [
      "xn =\n",
      "   1.0000 - 0.0000i   2.0000 - 0.0000i   2.0000 + 0.0000i   1.0000 + 0.0000i\n"
     ]
    }
   ],
   "source": [
    "xn = idft(Xm,4)"
   ]
  },
  {
   "cell_type": "markdown",
   "id": "1816c931",
   "metadata": {
    "slideshow": {
     "slide_type": "slide"
    }
   },
   "source": [
    "### A useful compact notation\n",
    "\n",
    "The term\n",
    "\n",
    "$$\\exp\\left(\\frac{-j2\\pi}{N}\\right)$$\n",
    "\n",
    "is a rotating vector where the range $0 <= \\theta <= 2\\pi$ is divided into $360^\\circ/N$ equal segments."
   ]
  },
  {
   "cell_type": "markdown",
   "id": "a36de842",
   "metadata": {
    "slideshow": {
     "slide_type": "subslide"
    }
   },
   "source": [
    "It is convenient to represent this as $W_N$, that is\n",
    "\n",
    "$$W_N = \\exp\\left({\\frac{-j2\\pi}{N}}\\right)$$\n",
    "\n",
    "and consequently, \n",
    "\n",
    "$$W_N^{-1} = \\exp\\left({\\frac{j2\\pi}{N}}\\right).$$"
   ]
  },
  {
   "cell_type": "markdown",
   "id": "a9d1e813",
   "metadata": {
    "slideshow": {
     "slide_type": "subslide"
    }
   },
   "source": [
    "### In Class Example 3\n",
    "\n",
    "Compute the complex numbers represented by the rotating vector\n",
    "$W_8$"
   ]
  },
  {
   "cell_type": "markdown",
   "id": "55f0d8cd",
   "metadata": {
    "slideshow": {
     "slide_type": "notes"
    }
   },
   "source": [
    "### Solution 3\n",
    "\n",
    "* Rewrite $W_8$ in exponential form\n",
    "\n",
    "<pre style=\"border: 2px solid blue\">\n",
    "\n",
    "\n",
    "\n",
    "\n",
    "\n",
    "\n",
    "\n",
    "\n",
    "\n",
    "</pre>\n",
    "\n",
    "* Visualize on unit circle\n",
    "\n",
    "![Visualization of the function unction $W_8^n$](pictures/circle.png)\n",
    "\n",
    "* Complete this table\n",
    "\n",
    "| $n$ | $\\theta$        | Real | Imaginary | $W_8^n$ |\n",
    "|-----|-----------------|------|-----------|--------|\n",
    "| 0   | 0               | 1    |  0        | 1      |\n",
    "\n",
    "\n",
    "<pre style=\"border: 2px solid blue\">\n",
    "\n",
    "\n",
    "\n",
    "\n",
    "\n",
    "\n",
    "\n",
    "\n",
    "\n",
    "\n",
    "\n",
    "\n",
    "\n",
    "\n",
    "\n",
    "\n",
    "\n",
    "\n",
    "\n",
    "\n",
    "\n",
    "\n",
    "</pre>"
   ]
  },
  {
   "cell_type": "markdown",
   "id": "682e2c36",
   "metadata": {
    "slideshow": {
     "slide_type": "subslide"
    }
   },
   "source": [
    "Using this notation, the DFT and inverse DFT pairs are represented as:\n",
    "\n",
    "$$X[m] =  \\sum_{n=0}^{N-1} x[n]W_N^{nm}$$ \n",
    "and\n",
    "$$x[n] = \\frac{1}{N}\\sum_{n=0}^{N-1} X[m]W_N^{-nm}$$"
   ]
  },
  {
   "cell_type": "markdown",
   "id": "ac9dbed7",
   "metadata": {
    "slideshow": {
     "slide_type": "subslide"
    }
   },
   "source": [
    "### MATLAB implementation of DFT\n",
    "\n",
    "Using the W notation, it is very easy to write a function to implement the DFT. \n",
    "\n",
    "We will demonstrate this in class."
   ]
  },
  {
   "cell_type": "markdown",
   "id": "0be8ec0c",
   "metadata": {
    "slideshow": {
     "slide_type": "subslide"
    }
   },
   "source": [
    "For example, consider [dft.m](https://cpjobling.github.io/eg-247-textbook/dft/1/matlab/dft.m):"
   ]
  },
  {
   "cell_type": "markdown",
   "id": "e949c1ea",
   "metadata": {
    "slideshow": {
     "slide_type": "subslide"
    }
   },
   "source": [
    "```matlab\n",
    "function [ Xm ] = dft( xn, N )\n",
    "% Computes Discrete Fourier Transform\n",
    "% -----------------------------------\n",
    "% [Xm]  = dft(xn, N)\n",
    "% Xm = DFT coeff. array over 0 <= m <= N-1\n",
    "% xn = N-point finite-duration sequence\n",
    "%  N = length of DFT\n",
    "%\n",
    "n = [0:1:N-1];          % row vector for n\n",
    "m = [0:1:N-1];          % row vector for m\n",
    "WN = exp(-j*2*pi/N);    % Wn factor\n",
    "nm = n'*m;              % creates an N by N matrix of nm values\n",
    "WNnm = WN .^ nm;        % DFT matrix\n",
    "Xm = xn * WNnm;         % row vector of DFT coefficients\n",
    "```"
   ]
  },
  {
   "cell_type": "markdown",
   "id": "a0c306f5",
   "metadata": {
    "slideshow": {
     "slide_type": "subslide"
    }
   },
   "source": [
    "Similarly for the inverse DFT [idft.m](https://cpjobling.github.io/eg-247-textbook/dft/1/matlab/idft.m):"
   ]
  },
  {
   "cell_type": "markdown",
   "id": "2d006c01",
   "metadata": {
    "slideshow": {
     "slide_type": "subslide"
    }
   },
   "source": [
    "```matlab\n",
    "function [ xn ] = idft( Xm, N )\n",
    "% Computes Inverse Discrete Fourier Transform\n",
    "% -------------------------------------------\n",
    "% [xn]  = idft(Xm, N)\n",
    "% xn = N-point sequence over 0 <= n <= N-1\n",
    "% Xm = DFT coeff. array over 0 <= m <= N-1\n",
    "%  N = length of DFT\n",
    "%\n",
    "n = [0:1:N-1];          % row vector for n\n",
    "m = [0:1:N-1];          % row vector for m\n",
    "WN = exp(-j*2*pi/N);    % Wn factor\n",
    "nm = n'*m;              % creates an N by N matrix of nm values\n",
    "WNnm = WN .^ (-nm);     % DFT matrix\n",
    "xn = (Xm * WNnm)/N;     % row vector for IDFT values\n",
    "```"
   ]
  },
  {
   "cell_type": "markdown",
   "id": "82d5acc0",
   "metadata": {
    "slideshow": {
     "slide_type": "subslide"
    }
   },
   "source": [
    "### Notes\n",
    "\n",
    "In the remainder of these notes, the correspondence between $x[n]$ and $X[m]$ will be written\n",
    "\n",
    "$$x[n] \\Leftrightarrow X[m]$$\n",
    "\n",
    "In Example 2, we found that, although the DT sequence $x[n]$ was real, the discrete frequency (DF) sequence was complex. However, in most applications we are interested in the magnitude and phase of the DF, that is \n",
    "\n",
    "$$|X[m]|$$ \n",
    "\n",
    "and \n",
    "\n",
    "$$\n",
    "    \\angle X[m].\n",
    "$$"
   ]
  },
  {
   "cell_type": "markdown",
   "id": "22ce2876",
   "metadata": {
    "slideshow": {
     "slide_type": "subslide"
    }
   },
   "source": [
    "### In Class Example 4\n",
    "\n",
    "Use MATLAB to compute the magnitude of the frequency components of the following DT function:\n",
    "\n",
    "| $n$ | 0 | 1 | 2 | 3 | 4 | 5 | 6 | 7 | 8 | 9 | 10 | 11 | 12 | 13 | 14 | 15 | \n",
    "|-----|---|---|---|---|---|---|---|---|---|---|----|----|----|----|----|----|\n",
    "| $x[n]$ |1.0 |1.5 |2.0 |2.3 |2.7 |3.0 |3.4 |4.1 |4.7 |4.2 |3.5 | 3.6 | 3.2 | 2.9 | 2.5 | 1.8 |\n",
    "\n",
    "We will compute this in class and make some comments afterwards."
   ]
  },
  {
   "cell_type": "code",
   "execution_count": 8,
   "id": "0b755e48",
   "metadata": {
    "slideshow": {
     "slide_type": "subslide"
    }
   },
   "outputs": [],
   "source": [
    "xn = [ 1, 2, 3, 2.5, 1.5, 0.5,...\n",
    "    -0.5, -1.5, -2.5, -0.5,...\n",
    "    0.25, 1.25, 2, 1.5, 1, 0.5];"
   ]
  },
  {
   "cell_type": "code",
   "execution_count": 9,
   "id": "aa44503d",
   "metadata": {
    "slideshow": {
     "slide_type": "subslide"
    }
   },
   "outputs": [
    {
     "data": {
      "image/svg+xml": [
       "<?xml version=\"1.0\"?>\n",
       "<!DOCTYPE svg PUBLIC '-//W3C//DTD SVG 1.0//EN'\n",
       "          'http://www.w3.org/TR/2001/REC-SVG-20010904/DTD/svg10.dtd'>\n",
       "<svg xmlns:xlink=\"http://www.w3.org/1999/xlink\" style=\"fill-opacity:1; color-rendering:auto; color-interpolation:auto; text-rendering:auto; stroke:black; stroke-linecap:square; stroke-miterlimit:10; shape-rendering:auto; stroke-opacity:1; fill:black; stroke-dasharray:none; font-weight:normal; stroke-width:1; font-family:'Dialog'; font-style:normal; stroke-linejoin:miter; font-size:12px; stroke-dashoffset:0; image-rendering:auto;\" width=\"560\" height=\"420\" xmlns=\"http://www.w3.org/2000/svg\"\n",
       "><!--Generated by the Batik Graphics2D SVG Generator--><defs id=\"genericDefs\"\n",
       "  /><g\n",
       "  ><defs id=\"defs1\"\n",
       "    ><clipPath clipPathUnits=\"userSpaceOnUse\" id=\"clipPath1\"\n",
       "      ><path d=\"M0 0 L560 0 L560 420 L0 420 L0 0 Z\"\n",
       "      /></clipPath\n",
       "      ><font horiz-adv-x=\"50.0\" id=\"font1\"\n",
       "      ><font-face ascent=\"95.200005\" descent=\"21.3\" units-per-em=\"100\" style=\"font-style:normal; font-family:Helvetica Neue; font-weight:normal;\"\n",
       "        /><missing-glyph horiz-adv-x=\"50.0\" d=\"M40.9 66.6 L10.2 66.6 L10.2 4.7 L40.9 4.7 ZM46 71.2 L46 0.1 L5.1 0.1 L5.1 71.2 Z\"\n",
       "        /><glyph unicode=\"3\" horiz-adv-x=\"55.6\" d=\"M21.8 40.5 L21.8 33.3 Q24.2 33.6 26.9 33.6 Q30.1 33.6 32.85 32.75 Q35.6 31.9 37.6 30.15 Q39.6 28.4 40.8 25.85 Q42 23.3 42 20 Q42 16.8 40.75 14.25 Q39.5 11.7 37.4 9.95 Q35.3 8.2 32.5 7.25 Q29.7 6.3 26.6 6.3 Q19.3 6.3 15.5 10.65 Q11.7 15 11.5 21.9 L3 21.9 Q2.9 16.4 4.55 12.1 Q6.2 7.8 9.3 4.85 Q12.4 1.9 16.8 0.4 Q21.2 -1.1 26.6 -1.1 Q31.6 -1.1 36.05 0.25 Q40.5 1.6 43.8 4.3 Q47.1 7 49.05 11.05 Q51 15.1 51 20.4 Q51 26.8 47.85 31.5 Q44.7 36.2 38.2 37.6 L38.2 37.8 Q42.4 39.7 45.2 43.4 Q48 47.1 48 51.9 Q48 56.8 46.35 60.4 Q44.7 64 41.8 66.3 Q38.9 68.6 34.95 69.75 Q31 70.9 26.4 70.9 Q21.1 70.9 17.05 69.2 Q13 67.5 10.3 64.5 Q7.6 61.5 6.15 57.3 Q4.7 53.1 4.5 48 L13 48 Q13 51.1 13.8 53.9 Q14.6 56.7 16.25 58.8 Q17.9 60.9 20.45 62.15 Q23 63.4 26.4 63.4 Q31.8 63.4 35.4 60.55 Q39 57.7 39 52 Q39 49.2 37.9 47 Q36.8 44.8 34.95 43.35 Q33.1 41.9 30.65 41.15 Q28.2 40.4 25.5 40.4 L23.7 40.4 Q23.2 40.4 22.7 40.4 Q22.3 40.4 21.8 40.5 Z\"\n",
       "        /><glyph unicode=\"-\" horiz-adv-x=\"38.9\" d=\"M5 31.8 L5 23.8 L33.9 23.8 L33.9 31.8 Z\"\n",
       "        /><glyph unicode=\"2\" horiz-adv-x=\"55.6\" d=\"M4.4 45.8 L12.9 45.8 Q12.8 49 13.55 52.15 Q14.3 55.3 16 57.8 Q17.7 60.3 20.35 61.85 Q23 63.4 26.7 63.4 Q29.5 63.4 32 62.5 Q34.5 61.6 36.35 59.9 Q38.2 58.2 39.3 55.85 Q40.4 53.5 40.4 50.6 Q40.4 46.9 39.25 44.1 Q38.1 41.3 35.85 38.9 Q33.6 36.5 30.2 34.15 Q26.8 31.8 22.3 29 Q18.6 26.8 15.2 24.3 Q11.8 21.8 9.1 18.5 Q6.4 15.2 4.65 10.75 Q2.9 6.3 2.4 0 L48.7 0 L48.7 7.5 L12.3 7.5 Q12.9 10.8 14.85 13.35 Q16.8 15.9 19.55 18.1 Q22.3 20.3 25.6 22.25 Q28.9 24.2 32.2 26.2 Q35.5 28.3 38.6 30.6 Q41.7 32.9 44.1 35.75 Q46.5 38.6 47.95 42.2 Q49.4 45.8 49.4 50.5 Q49.4 55.5 47.65 59.3 Q45.9 63.1 42.9 65.65 Q39.9 68.2 35.85 69.55 Q31.8 70.9 27.2 70.9 Q21.6 70.9 17.2 69 Q12.8 67.1 9.85 63.75 Q6.9 60.4 5.5 55.8 Q4.1 51.2 4.4 45.8 Z\"\n",
       "        /><glyph unicode=\"1\" horiz-adv-x=\"55.6\" d=\"M35.6 0 L35.6 70.9 L29.1 70.9 Q28.4 66.9 26.5 64.3 Q24.6 61.7 21.85 60.2 Q19.1 58.7 15.7 58.15 Q12.3 57.6 8.7 57.6 L8.7 50.8 L27.1 50.8 L27.1 0 Z\"\n",
       "        /><glyph unicode=\"0\" horiz-adv-x=\"55.6\" d=\"M13.2 34.9 Q13.2 37.5 13.25 40.65 Q13.3 43.8 13.75 46.95 Q14.2 50.1 15.05 53.1 Q15.9 56.1 17.55 58.35 Q19.2 60.6 21.7 62 Q24.2 63.4 27.8 63.4 Q31.4 63.4 33.9 62 Q36.4 60.6 38.05 58.35 Q39.7 56.1 40.55 53.1 Q41.4 50.1 41.85 46.95 Q42.3 43.8 42.35 40.65 Q42.4 37.5 42.4 34.9 Q42.4 30.9 42.15 25.95 Q41.9 21 40.55 16.65 Q39.2 12.3 36.2 9.3 Q33.2 6.3 27.8 6.3 Q22.4 6.3 19.4 9.3 Q16.4 12.3 15.05 16.65 Q13.7 21 13.45 25.95 Q13.2 30.9 13.2 34.9 ZM4.2 34.8 Q4.2 30.9 4.4 26.7 Q4.6 22.5 5.4 18.5 Q6.2 14.5 7.7 10.95 Q9.2 7.4 11.8 4.7 Q14.4 2 18.35 0.45 Q22.3 -1.1 27.8 -1.1 Q33.4 -1.1 37.3 0.45 Q41.2 2 43.8 4.7 Q46.4 7.4 47.9 10.95 Q49.4 14.5 50.2 18.5 Q51 22.5 51.2 26.7 Q51.4 30.9 51.4 34.8 Q51.4 38.7 51.2 42.9 Q51 47.1 50.2 51.1 Q49.4 55.1 47.9 58.7 Q46.4 62.3 43.8 65 Q41.2 67.7 37.25 69.3 Q33.3 70.9 27.8 70.9 Q22.3 70.9 18.35 69.3 Q14.4 67.7 11.8 65 Q9.2 62.3 7.7 58.7 Q6.2 55.1 5.4 51.1 Q4.6 47.1 4.4 42.9 Q4.2 38.7 4.2 34.8 Z\"\n",
       "        /><glyph unicode=\"]\" horiz-adv-x=\"25.9\" d=\"M0 -12.9 L0 -19.7 L18.7 -19.7 L18.7 73.1 L0 73.1 L0 66.3 L10.7 66.3 L10.7 -12.9 Z\"\n",
       "        /><glyph unicode=\"n\" horiz-adv-x=\"55.6\" d=\"M6.4 51.7 L6.4 0 L14.9 0 L14.9 29.2 Q14.9 32.7 15.85 35.65 Q16.8 38.6 18.7 40.8 Q20.6 43 23.45 44.2 Q26.3 45.4 30.2 45.4 Q35.1 45.4 37.9 42.6 Q40.7 39.8 40.7 35 L40.7 0 L49.2 0 L49.2 34 Q49.2 38.2 48.35 41.65 Q47.5 45.1 45.4 47.6 Q43.3 50.1 39.9 51.5 Q36.5 52.9 31.4 52.9 Q19.9 52.9 14.6 43.5 L14.4 43.5 L14.4 51.7 Z\"\n",
       "        /><glyph unicode=\"[\" horiz-adv-x=\"25.9\" d=\"M25.9 66.3 L25.9 73.1 L7.2 73.1 L7.2 -19.7 L25.9 -19.7 L25.9 -12.9 L15.2 -12.9 L15.2 66.3 Z\"\n",
       "        /><glyph unicode=\"x\" horiz-adv-x=\"51.8\" d=\"M20.3 27.2 L0.9 0 L11.2 0 L25.6 21.4 L40 0 L50.9 0 L30.9 27.9 L48.7 51.7 L38.5 51.7 L25.6 33.6 L13.2 51.7 L2.3 51.7 Z\"\n",
       "        /><glyph unicode=\"5\" horiz-adv-x=\"55.6\" d=\"M47 62.2 L47 69.7 L12 69.7 L5.4 32.9 L12.7 32.5 Q15.2 35.5 18.45 37.35 Q21.7 39.2 25.9 39.2 Q29.5 39.2 32.45 38 Q35.4 36.8 37.5 34.65 Q39.6 32.5 40.75 29.55 Q41.9 26.6 41.9 23.1 Q41.9 18.9 40.7 15.75 Q39.5 12.6 37.45 10.5 Q35.4 8.4 32.65 7.35 Q29.9 6.3 26.9 6.3 Q23.7 6.3 21.05 7.25 Q18.4 8.2 16.45 9.95 Q14.5 11.7 13.35 14.05 Q12.2 16.4 12 19.1 L3.5 19.1 Q3.6 14.3 5.4 10.5 Q7.2 6.7 10.3 4.15 Q13.4 1.6 17.45 0.25 Q21.5 -1.1 26.1 -1.1 Q32.3 -1.1 36.95 0.85 Q41.6 2.8 44.7 6.1 Q47.8 9.4 49.35 13.65 Q50.9 17.9 50.9 22.4 Q50.9 28.5 49.1 33.05 Q47.3 37.6 44.2 40.65 Q41.1 43.7 36.9 45.2 Q32.7 46.7 28 46.7 Q24.4 46.7 20.75 45.45 Q17.1 44.2 14.8 41.6 L14.6 41.8 L18.4 62.2 Z\"\n",
       "      /></font\n",
       "      ><font horiz-adv-x=\"50.0\" id=\"font2\"\n",
       "      ><font-face ascent=\"97.5\" descent=\"21.699999\" units-per-em=\"100\" style=\"font-style:normal; font-family:Helvetica Neue; font-weight:bold;\"\n",
       "        /><missing-glyph horiz-adv-x=\"50.0\" d=\"M39.1 60.7 L11.1 60.7 L11.1 9.5 L39.1 9.5 ZM48.2 69.8 L48.2 0.3 L1.7 0.3 L1.7 69.8 Z\"\n",
       "        /><glyph unicode=\"n\" horiz-adv-x=\"59.3\" d=\"M5.4 51.7 L5.4 0 L19.6 0 L19.6 27.1 Q19.6 35 22.2 38.45 Q24.8 41.9 30.6 41.9 Q35.7 41.9 37.7 38.75 Q39.7 35.6 39.7 29.2 L39.7 0 L53.9 0 L53.9 31.8 Q53.9 36.6 53.05 40.55 Q52.2 44.5 50.1 47.25 Q48 50 44.35 51.55 Q40.7 53.1 35 53.1 Q30.5 53.1 26.2 51.05 Q21.9 49 19.2 44.5 L18.9 44.5 L18.9 51.7 Z\"\n",
       "        /><glyph unicode=\"u\" horiz-adv-x=\"59.3\" d=\"M53.9 0 L53.9 51.7 L39.7 51.7 L39.7 24.6 Q39.7 16.7 37.1 13.25 Q34.5 9.8 28.7 9.8 Q23.6 9.8 21.6 12.95 Q19.6 16.1 19.6 22.5 L19.6 51.7 L5.4 51.7 L5.4 19.9 Q5.4 15.1 6.25 11.15 Q7.1 7.2 9.2 4.45 Q11.3 1.7 14.95 0.2 Q18.6 -1.3 24.3 -1.3 Q28.8 -1.3 33.1 0.7 Q37.4 2.7 40.1 7.2 L40.4 7.2 L40.4 0 Z\"\n",
       "        /><glyph unicode=\"q\" horiz-adv-x=\"61.1\" d=\"M17.4 25.8 Q17.4 29 18.05 31.95 Q18.7 34.9 20.2 37.25 Q21.7 39.6 24.1 41 Q26.5 42.4 30 42.4 Q33.3 42.4 35.65 40.9 Q38 39.4 39.4 37 Q40.8 34.6 41.45 31.6 Q42.1 28.6 42.1 25.6 Q42.1 22.4 41.45 19.45 Q40.8 16.5 39.35 14.25 Q37.9 12 35.55 10.65 Q33.2 9.3 29.7 9.3 Q26.2 9.3 23.85 10.7 Q21.5 12.1 20.05 14.45 Q18.6 16.8 18 19.75 Q17.4 22.7 17.4 25.8 ZM55.8 -18.1 L55.8 51.7 L42.3 51.7 L42.3 45.1 L42.1 45.1 Q39.7 49.4 35.45 51.25 Q31.2 53.1 26.4 53.1 Q20.5 53.1 16.15 50.8 Q11.8 48.5 8.9 44.65 Q6 40.8 4.6 35.8 Q3.2 30.8 3.2 25.5 Q3.2 18 5.3 12.85 Q7.4 7.7 10.6 4.55 Q13.8 1.4 17.65 0.05 Q21.5 -1.3 25.1 -1.3 Q29.9 -1.3 34.4 0.5 Q38.9 2.3 41.4 6.5 L41.6 6.5 L41.6 -18.1 Z\"\n",
       "        /><glyph unicode=\"S\" horiz-adv-x=\"64.9\" d=\"M17.6 23.7 L2.4 23.7 Q2.3 17.1 4.8 12.3 Q7.3 7.5 11.55 4.4 Q15.8 1.3 21.35 -0.15 Q26.9 -1.6 32.8 -1.6 Q40.1 -1.6 45.65 0.1 Q51.2 1.8 54.95 4.85 Q58.7 7.9 60.6 12.1 Q62.5 16.3 62.5 21.2 Q62.5 27.2 59.95 31.05 Q57.4 34.9 53.9 37.2 Q50.4 39.5 46.85 40.55 Q43.3 41.6 41.3 42 Q34.6 43.7 30.45 44.8 Q26.3 45.9 23.95 47 Q21.6 48.1 20.8 49.4 Q20 50.7 20 52.8 Q20 55.1 21 56.6 Q22 58.1 23.55 59.1 Q25.1 60.1 27 60.5 Q28.9 60.9 30.8 60.9 Q33.7 60.9 36.15 60.4 Q38.6 59.9 40.5 58.7 Q42.4 57.5 43.55 55.4 Q44.7 53.3 44.9 50.1 L60.1 50.1 Q60.1 56.3 57.75 60.65 Q55.4 65 51.4 67.8 Q47.4 70.6 42.25 71.85 Q37.1 73.1 31.5 73.1 Q26.7 73.1 21.9 71.8 Q17.1 70.5 13.3 67.8 Q9.5 65.1 7.15 61.05 Q4.8 57 4.8 51.5 Q4.8 46.6 6.65 43.15 Q8.5 39.7 11.5 37.4 Q14.5 35.1 18.3 33.65 Q22.1 32.2 26.1 31.2 Q30 30.1 33.8 29.2 Q37.6 28.3 40.6 27.1 Q43.6 25.9 45.45 24.1 Q47.3 22.3 47.3 19.4 Q47.3 16.7 45.9 14.95 Q44.5 13.2 42.4 12.2 Q40.3 11.2 37.9 10.85 Q35.5 10.5 33.4 10.5 Q30.3 10.5 27.4 11.25 Q24.5 12 22.35 13.55 Q20.2 15.1 18.9 17.6 Q17.6 20.1 17.6 23.7 Z\"\n",
       "        /><glyph unicode=\"m\" horiz-adv-x=\"90.6\" d=\"M5.8 51.7 L5.8 0 L20 0 L20 30 Q20 33.8 21.1 36.15 Q22.2 38.5 23.75 39.75 Q25.3 41 26.95 41.45 Q28.6 41.9 29.6 41.9 Q33 41.9 34.75 40.75 Q36.5 39.6 37.25 37.7 Q38 35.8 38.1 33.55 Q38.2 31.3 38.2 29 L38.2 0 L52.4 0 L52.4 28.8 Q52.4 31.2 52.75 33.55 Q53.1 35.9 54.15 37.75 Q55.2 39.6 57.05 40.75 Q58.9 41.9 61.9 41.9 Q64.9 41.9 66.65 40.9 Q68.4 39.9 69.3 38.2 Q70.2 36.5 70.4 34.2 Q70.6 31.9 70.6 29.3 L70.6 0 L84.8 0 L84.8 34.6 Q84.8 39.6 83.4 43.15 Q82 46.7 79.5 48.9 Q77 51.1 73.5 52.1 Q70 53.1 65.9 53.1 Q60.5 53.1 56.55 50.5 Q52.6 47.9 50.3 44.5 Q48.2 49.3 44.15 51.2 Q40.1 53.1 35.2 53.1 Q30.1 53.1 26.15 50.9 Q22.2 48.7 19.4 44.7 L19.2 44.7 L19.2 51.7 Z\"\n",
       "        /><glyph unicode=\"T\" horiz-adv-x=\"61.1\" d=\"M22.7 58.2 L22.7 0 L38.4 0 L38.4 58.2 L59.8 58.2 L59.8 71.4 L1.3 71.4 L1.3 58.2 Z\"\n",
       "        /><glyph unicode=\" \" horiz-adv-x=\"27.8\" d=\"\"\n",
       "        /><glyph unicode=\"t\" horiz-adv-x=\"35.2\" d=\"M23.4 51.7 L23.4 67.2 L9.2 67.2 L9.2 51.7 L0.6 51.7 L0.6 42.2 L9.2 42.2 L9.2 11.7 Q9.2 7.8 10.5 5.4 Q11.8 3 14.05 1.7 Q16.3 0.4 19.25 -0.05 Q22.2 -0.5 25.5 -0.5 Q27.6 -0.5 29.8 -0.4 Q32 -0.3 33.8 0 L33.8 11 Q32.8 10.8 31.7 10.7 Q30.6 10.6 29.4 10.6 Q25.8 10.6 24.6 11.8 Q23.4 13 23.4 16.6 L23.4 42.2 L33.8 42.2 L33.8 51.7 Z\"\n",
       "        /><glyph unicode=\"e\" horiz-adv-x=\"57.4\" d=\"M40.2 31.4 L17.1 31.4 Q17.2 32.9 17.75 34.8 Q18.3 36.7 19.65 38.4 Q21 40.1 23.25 41.25 Q25.5 42.4 28.9 42.4 Q34.1 42.4 36.65 39.6 Q39.2 36.8 40.2 31.4 ZM17.1 22.4 L54.4 22.4 Q54.8 28.4 53.4 33.9 Q52 39.4 48.85 43.7 Q45.7 48 40.8 50.55 Q35.9 53.1 29.3 53.1 Q23.4 53.1 18.55 51 Q13.7 48.9 10.2 45.25 Q6.7 41.6 4.8 36.6 Q2.9 31.6 2.9 25.8 Q2.9 19.8 4.75 14.8 Q6.6 9.8 10 6.2 Q13.4 2.6 18.3 0.65 Q23.2 -1.3 29.3 -1.3 Q38.1 -1.3 44.3 2.7 Q50.5 6.7 53.5 16 L41 16 Q40.3 13.6 37.2 11.45 Q34.1 9.3 29.8 9.3 Q23.8 9.3 20.6 12.4 Q17.4 15.5 17.1 22.4 Z\"\n",
       "        /><glyph unicode=\"r\" horiz-adv-x=\"38.9\" d=\"M5.4 51.7 L5.4 0 L19.6 0 L19.6 23.3 Q19.6 26.8 20.3 29.8 Q21 32.8 22.65 35.05 Q24.3 37.3 27 38.6 Q29.7 39.9 33.6 39.9 Q34.9 39.9 36.3 39.75 Q37.7 39.6 38.7 39.4 L38.7 52.6 Q37 53.1 35.6 53.1 Q32.9 53.1 30.4 52.3 Q27.9 51.5 25.7 50.05 Q23.5 48.6 21.8 46.55 Q20.1 44.5 19.1 42.1 L18.9 42.1 L18.9 51.7 Z\"\n",
       "        /><glyph unicode=\"c\" horiz-adv-x=\"57.4\" d=\"M40.6 33.5 L54.5 33.5 Q54.2 38.5 52.1 42.15 Q50 45.8 46.65 48.25 Q43.3 50.7 39.05 51.9 Q34.8 53.1 30.2 53.1 Q23.9 53.1 19 51 Q14.1 48.9 10.7 45.15 Q7.3 41.4 5.55 36.25 Q3.8 31.1 3.8 25.1 Q3.8 19.3 5.7 14.45 Q7.6 9.6 11 6.1 Q14.4 2.6 19.25 0.65 Q24.1 -1.3 29.9 -1.3 Q40.2 -1.3 46.8 4.1 Q53.4 9.5 54.8 19.8 L41.1 19.8 Q40.4 15 37.65 12.15 Q34.9 9.3 29.8 9.3 Q26.5 9.3 24.2 10.8 Q21.9 12.3 20.55 14.65 Q19.2 17 18.6 19.9 Q18 22.8 18 25.6 Q18 28.5 18.6 31.45 Q19.2 34.4 20.65 36.85 Q22.1 39.3 24.4 40.85 Q26.7 42.4 30.1 42.4 Q39.2 42.4 40.6 33.5 Z\"\n",
       "        /><glyph unicode=\"s\" horiz-adv-x=\"53.7\" d=\"M16.4 16.8 L2.9 16.8 Q3.1 11.6 5.25 8.15 Q7.4 4.7 10.75 2.6 Q14.1 0.5 18.4 -0.4 Q22.7 -1.3 27.2 -1.3 Q31.6 -1.3 35.85 -0.45 Q40.1 0.4 43.4 2.5 Q46.7 4.6 48.75 8.05 Q50.8 11.5 50.8 16.6 Q50.8 20.2 49.4 22.65 Q48 25.1 45.7 26.75 Q43.4 28.4 40.45 29.4 Q37.5 30.4 34.4 31.1 Q31.4 31.8 28.5 32.4 Q25.6 33 23.35 33.75 Q21.1 34.5 19.7 35.7 Q18.3 36.9 18.3 38.8 Q18.3 40.4 19.1 41.35 Q19.9 42.3 21.05 42.8 Q22.2 43.3 23.6 43.45 Q25 43.6 26.2 43.6 Q30 43.6 32.8 42.15 Q35.6 40.7 35.9 36.6 L49.4 36.6 Q49 41.4 46.95 44.55 Q44.9 47.7 41.8 49.6 Q38.7 51.5 34.75 52.3 Q30.8 53.1 26.6 53.1 Q22.4 53.1 18.4 52.35 Q14.4 51.6 11.2 49.75 Q8 47.9 6.05 44.7 Q4.1 41.5 4.1 36.5 Q4.1 33.1 5.5 30.75 Q6.9 28.4 9.2 26.85 Q11.5 25.3 14.45 24.35 Q17.4 23.4 20.5 22.7 Q28.1 21.1 32.35 19.5 Q36.6 17.9 36.6 14.7 Q36.6 12.8 35.7 11.55 Q34.8 10.3 33.45 9.55 Q32.1 8.8 30.45 8.45 Q28.8 8.1 27.3 8.1 Q25.2 8.1 23.25 8.6 Q21.3 9.1 19.8 10.15 Q18.3 11.2 17.35 12.85 Q16.4 14.5 16.4 16.8 Z\"\n",
       "        /><glyph unicode=\"i\" horiz-adv-x=\"25.8\" d=\"M20 59.7 L20 71.4 L5.8 71.4 L5.8 59.7 ZM5.8 51.7 L5.8 0 L20 0 L20 51.7 Z\"\n",
       "        /><glyph unicode=\"D\" horiz-adv-x=\"74.1\" d=\"M22.6 13.2 L22.6 58.2 L33.8 58.2 Q39.6 58.2 43.55 56.55 Q47.5 54.9 49.9 51.8 Q52.3 48.7 53.35 44.35 Q54.4 40 54.4 34.6 Q54.4 28.7 52.9 24.6 Q51.4 20.5 48.9 17.95 Q46.4 15.4 43.2 14.3 Q40 13.2 36.6 13.2 ZM6.9 71.4 L6.9 0 L37.7 0 Q45.9 0 51.95 2.75 Q58 5.5 62.05 10.3 Q66.1 15.1 68.1 21.7 Q70.1 28.3 70.1 36.1 Q70.1 45 67.65 51.6 Q65.2 58.2 60.85 62.6 Q56.5 67 50.55 69.2 Q44.6 71.4 37.7 71.4 Z\"\n",
       "      /></font\n",
       "    ></defs\n",
       "    ><g style=\"fill:white; stroke:white;\"\n",
       "    ><rect x=\"0\" y=\"0\" width=\"560\" style=\"clip-path:url(#clipPath1); stroke:none;\" height=\"420\"\n",
       "    /></g\n",
       "    ><g style=\"fill:white; text-rendering:optimizeSpeed; color-rendering:optimizeSpeed; image-rendering:optimizeSpeed; shape-rendering:crispEdges; stroke:white; color-interpolation:sRGB;\"\n",
       "    ><rect x=\"0\" width=\"560\" height=\"420\" y=\"0\" style=\"stroke:none;\"\n",
       "      /><path style=\"stroke:none;\" d=\"M73 374 L507 374 L507 31 L73 31 Z\"\n",
       "    /></g\n",
       "    ><g style=\"fill:rgb(38,38,38); text-rendering:geometricPrecision; image-rendering:optimizeQuality; color-rendering:optimizeQuality; stroke-linejoin:round; stroke:rgb(38,38,38); color-interpolation:linearRGB; stroke-width:0.5;\"\n",
       "    ><line y2=\"31\" style=\"fill:none;\" x1=\"73\" x2=\"73\" y1=\"374\"\n",
       "      /><line y2=\"31\" style=\"fill:none;\" x1=\"507\" x2=\"507\" y1=\"374\"\n",
       "      /><line y2=\"374\" style=\"fill:none;\" x1=\"73\" x2=\"77.34\" y1=\"374\"\n",
       "      /><line y2=\"316.8333\" style=\"fill:none;\" x1=\"73\" x2=\"77.34\" y1=\"316.8333\"\n",
       "      /><line y2=\"259.6667\" style=\"fill:none;\" x1=\"73\" x2=\"77.34\" y1=\"259.6667\"\n",
       "      /><line y2=\"202.5\" style=\"fill:none;\" x1=\"73\" x2=\"77.34\" y1=\"202.5\"\n",
       "      /><line y2=\"145.3333\" style=\"fill:none;\" x1=\"73\" x2=\"77.34\" y1=\"145.3333\"\n",
       "      /><line y2=\"88.1667\" style=\"fill:none;\" x1=\"73\" x2=\"77.34\" y1=\"88.1667\"\n",
       "      /><line y2=\"31\" style=\"fill:none;\" x1=\"73\" x2=\"77.34\" y1=\"31\"\n",
       "      /><line y2=\"374\" style=\"fill:none;\" x1=\"507\" x2=\"502.66\" y1=\"374\"\n",
       "      /><line y2=\"316.8333\" style=\"fill:none;\" x1=\"507\" x2=\"502.66\" y1=\"316.8333\"\n",
       "      /><line y2=\"259.6667\" style=\"fill:none;\" x1=\"507\" x2=\"502.66\" y1=\"259.6667\"\n",
       "      /><line y2=\"202.5\" style=\"fill:none;\" x1=\"507\" x2=\"502.66\" y1=\"202.5\"\n",
       "      /><line y2=\"145.3333\" style=\"fill:none;\" x1=\"507\" x2=\"502.66\" y1=\"145.3333\"\n",
       "      /><line y2=\"88.1667\" style=\"fill:none;\" x1=\"507\" x2=\"502.66\" y1=\"88.1667\"\n",
       "      /><line y2=\"31\" style=\"fill:none;\" x1=\"507\" x2=\"502.66\" y1=\"31\"\n",
       "    /></g\n",
       "    ><g transform=\"translate(69,374)\" style=\"font-size:10px; fill:rgb(38,38,38); text-rendering:geometricPrecision; image-rendering:optimizeQuality; color-rendering:optimizeQuality; font-family:'Helvetica Neue'; stroke:rgb(38,38,38); color-interpolation:linearRGB;\"\n",
       "    ><text x=\"-10\" xml:space=\"preserve\" y=\"3.5\" style=\"stroke:none;\"\n",
       "      >-3</text\n",
       "    ></g\n",
       "    ><g transform=\"translate(69,316.8333)\" style=\"font-size:10px; fill:rgb(38,38,38); text-rendering:geometricPrecision; image-rendering:optimizeQuality; color-rendering:optimizeQuality; font-family:'Helvetica Neue'; stroke:rgb(38,38,38); color-interpolation:linearRGB;\"\n",
       "    ><text x=\"-10\" xml:space=\"preserve\" y=\"3.5\" style=\"stroke:none;\"\n",
       "      >-2</text\n",
       "    ></g\n",
       "    ><g transform=\"translate(69,259.6667)\" style=\"font-size:10px; fill:rgb(38,38,38); text-rendering:geometricPrecision; image-rendering:optimizeQuality; color-rendering:optimizeQuality; font-family:'Helvetica Neue'; stroke:rgb(38,38,38); color-interpolation:linearRGB;\"\n",
       "    ><text x=\"-10\" xml:space=\"preserve\" y=\"3.5\" style=\"stroke:none;\"\n",
       "      >-1</text\n",
       "    ></g\n",
       "    ><g transform=\"translate(69,202.5)\" style=\"font-size:10px; fill:rgb(38,38,38); text-rendering:geometricPrecision; image-rendering:optimizeQuality; color-rendering:optimizeQuality; font-family:'Helvetica Neue'; stroke:rgb(38,38,38); color-interpolation:linearRGB;\"\n",
       "    ><text x=\"-6\" xml:space=\"preserve\" y=\"3.5\" style=\"stroke:none;\"\n",
       "      >0</text\n",
       "    ></g\n",
       "    ><g transform=\"translate(69,145.3333)\" style=\"font-size:10px; fill:rgb(38,38,38); text-rendering:geometricPrecision; image-rendering:optimizeQuality; color-rendering:optimizeQuality; font-family:'Helvetica Neue'; stroke:rgb(38,38,38); color-interpolation:linearRGB;\"\n",
       "    ><text x=\"-6\" xml:space=\"preserve\" y=\"3.5\" style=\"stroke:none;\"\n",
       "      >1</text\n",
       "    ></g\n",
       "    ><g transform=\"translate(69,88.1667)\" style=\"font-size:10px; fill:rgb(38,38,38); text-rendering:geometricPrecision; image-rendering:optimizeQuality; color-rendering:optimizeQuality; font-family:'Helvetica Neue'; stroke:rgb(38,38,38); color-interpolation:linearRGB;\"\n",
       "    ><text x=\"-6\" xml:space=\"preserve\" y=\"3.5\" style=\"stroke:none;\"\n",
       "      >2</text\n",
       "    ></g\n",
       "    ><g transform=\"translate(69,31)\" style=\"font-size:10px; fill:rgb(38,38,38); text-rendering:geometricPrecision; image-rendering:optimizeQuality; color-rendering:optimizeQuality; font-family:'Helvetica Neue'; stroke:rgb(38,38,38); color-interpolation:linearRGB;\"\n",
       "    ><text x=\"-6\" xml:space=\"preserve\" y=\"3.5\" style=\"stroke:none;\"\n",
       "      >3</text\n",
       "    ></g\n",
       "    ><g transform=\"translate(56,202.4998) rotate(-90)\" style=\"font-size:11px; fill:rgb(38,38,38); text-rendering:geometricPrecision; image-rendering:optimizeQuality; color-rendering:optimizeQuality; font-family:'Helvetica Neue'; stroke:rgb(38,38,38); color-interpolation:linearRGB;\"\n",
       "    ><text x=\"-9\" xml:space=\"preserve\" y=\"-3\" style=\"stroke:none;\"\n",
       "      >x[n]</text\n",
       "    ></g\n",
       "    ><g transform=\"translate(290.0003,28.25)\" style=\"font-size:11px; text-rendering:geometricPrecision; image-rendering:optimizeQuality; color-rendering:optimizeQuality; font-family:'Helvetica Neue'; color-interpolation:linearRGB; font-weight:bold;\"\n",
       "    ><text x=\"-64.5\" xml:space=\"preserve\" y=\"-3\" style=\"stroke:none;\"\n",
       "      >Discrete Time Sequence</text\n",
       "    ></g\n",
       "    ><g style=\"stroke-linecap:butt; fill:rgb(38,38,38); text-rendering:geometricPrecision; image-rendering:optimizeQuality; color-rendering:optimizeQuality; stroke-linejoin:round; stroke:rgb(38,38,38); color-interpolation:linearRGB; stroke-width:0.5;\"\n",
       "    ><line y2=\"202.5\" style=\"fill:none;\" x1=\"73\" x2=\"507\" y1=\"202.5\"\n",
       "      /><path d=\"M0 -2.75 C1.5188 -2.75 2.75 -1.5188 2.75 0 L2.75 0 C2.75 1.5188 1.5188 2.75 -0 2.75 C-1.5188 2.75 -2.75 1.5188 -2.75 -0 C-2.75 -1.5188 -1.5188 -2.75 0 -2.75 ZM0 -3.25 C-1.7949 -3.25 -3.25 -1.7949 -3.25 -0 C-3.25 1.7949 -1.7949 3.25 -0 3.25 C1.7949 3.25 3.25 1.7949 3.25 0 L3.25 0 C3.25 -1.7949 1.7949 -3.25 0 -3.25 Z\" style=\"fill:rgb(0,114,189); stroke:none;\" transform=\"translate(73,145.3333)\"\n",
       "      /><path d=\"M0 -2.75 C1.5188 -2.75 2.75 -1.5188 2.75 0 L2.75 0 C2.75 1.5188 1.5188 2.75 -0 2.75 C-1.5188 2.75 -2.75 1.5188 -2.75 -0 C-2.75 -1.5188 -1.5188 -2.75 0 -2.75 ZM0 -3.25 C-1.7949 -3.25 -3.25 -1.7949 -3.25 -0 C-3.25 1.7949 -1.7949 3.25 -0 3.25 C1.7949 3.25 3.25 1.7949 3.25 0 L3.25 0 C3.25 -1.7949 1.7949 -3.25 0 -3.25 Z\" style=\"fill:rgb(0,114,189); stroke:none;\" transform=\"translate(101.9333,88.1667)\"\n",
       "      /><path d=\"M0 -2.75 C1.5188 -2.75 2.75 -1.5188 2.75 0 L2.75 0 C2.75 1.5188 1.5188 2.75 -0 2.75 C-1.5188 2.75 -2.75 1.5188 -2.75 -0 C-2.75 -1.5188 -1.5188 -2.75 0 -2.75 ZM0 -3.25 C-1.7949 -3.25 -3.25 -1.7949 -3.25 -0 C-3.25 1.7949 -1.7949 3.25 -0 3.25 C1.7949 3.25 3.25 1.7949 3.25 0 L3.25 0 C3.25 -1.7949 1.7949 -3.25 0 -3.25 Z\" style=\"fill:rgb(0,114,189); stroke:none;\" transform=\"translate(130.8667,31)\"\n",
       "      /><path d=\"M0 -2.75 C1.5188 -2.75 2.75 -1.5188 2.75 0 L2.75 0 C2.75 1.5188 1.5188 2.75 -0 2.75 C-1.5188 2.75 -2.75 1.5188 -2.75 -0 C-2.75 -1.5188 -1.5188 -2.75 0 -2.75 ZM0 -3.25 C-1.7949 -3.25 -3.25 -1.7949 -3.25 -0 C-3.25 1.7949 -1.7949 3.25 -0 3.25 C1.7949 3.25 3.25 1.7949 3.25 0 L3.25 0 C3.25 -1.7949 1.7949 -3.25 0 -3.25 Z\" style=\"fill:rgb(0,114,189); stroke:none;\" transform=\"translate(159.8,59.5833)\"\n",
       "      /><path d=\"M0 -2.75 C1.5188 -2.75 2.75 -1.5188 2.75 0 L2.75 0 C2.75 1.5188 1.5188 2.75 -0 2.75 C-1.5188 2.75 -2.75 1.5188 -2.75 -0 C-2.75 -1.5188 -1.5188 -2.75 0 -2.75 ZM0 -3.25 C-1.7949 -3.25 -3.25 -1.7949 -3.25 -0 C-3.25 1.7949 -1.7949 3.25 -0 3.25 C1.7949 3.25 3.25 1.7949 3.25 0 L3.25 0 C3.25 -1.7949 1.7949 -3.25 0 -3.25 Z\" style=\"fill:rgb(0,114,189); stroke:none;\" transform=\"translate(188.7333,116.75)\"\n",
       "      /><path d=\"M0 -2.75 C1.5188 -2.75 2.75 -1.5188 2.75 0 L2.75 0 C2.75 1.5188 1.5188 2.75 -0 2.75 C-1.5188 2.75 -2.75 1.5188 -2.75 -0 C-2.75 -1.5188 -1.5188 -2.75 0 -2.75 ZM0 -3.25 C-1.7949 -3.25 -3.25 -1.7949 -3.25 -0 C-3.25 1.7949 -1.7949 3.25 -0 3.25 C1.7949 3.25 3.25 1.7949 3.25 0 L3.25 0 C3.25 -1.7949 1.7949 -3.25 0 -3.25 Z\" style=\"fill:rgb(0,114,189); stroke:none;\" transform=\"translate(217.6667,173.9167)\"\n",
       "      /><path d=\"M0 -2.75 C1.5188 -2.75 2.75 -1.5188 2.75 0 L2.75 0 C2.75 1.5188 1.5188 2.75 -0 2.75 C-1.5188 2.75 -2.75 1.5188 -2.75 -0 C-2.75 -1.5188 -1.5188 -2.75 0 -2.75 ZM0 -3.25 C-1.7949 -3.25 -3.25 -1.7949 -3.25 -0 C-3.25 1.7949 -1.7949 3.25 -0 3.25 C1.7949 3.25 3.25 1.7949 3.25 0 L3.25 0 C3.25 -1.7949 1.7949 -3.25 0 -3.25 Z\" style=\"fill:rgb(0,114,189); stroke:none;\" transform=\"translate(246.6,231.0833)\"\n",
       "      /><path d=\"M0 -2.75 C1.5188 -2.75 2.75 -1.5188 2.75 0 L2.75 0 C2.75 1.5188 1.5188 2.75 -0 2.75 C-1.5188 2.75 -2.75 1.5188 -2.75 -0 C-2.75 -1.5188 -1.5188 -2.75 0 -2.75 ZM0 -3.25 C-1.7949 -3.25 -3.25 -1.7949 -3.25 -0 C-3.25 1.7949 -1.7949 3.25 -0 3.25 C1.7949 3.25 3.25 1.7949 3.25 0 L3.25 0 C3.25 -1.7949 1.7949 -3.25 0 -3.25 Z\" style=\"fill:rgb(0,114,189); stroke:none;\" transform=\"translate(275.5333,288.25)\"\n",
       "      /><path d=\"M0 -2.75 C1.5188 -2.75 2.75 -1.5188 2.75 0 L2.75 0 C2.75 1.5188 1.5188 2.75 -0 2.75 C-1.5188 2.75 -2.75 1.5188 -2.75 -0 C-2.75 -1.5188 -1.5188 -2.75 0 -2.75 ZM0 -3.25 C-1.7949 -3.25 -3.25 -1.7949 -3.25 -0 C-3.25 1.7949 -1.7949 3.25 -0 3.25 C1.7949 3.25 3.25 1.7949 3.25 0 L3.25 0 C3.25 -1.7949 1.7949 -3.25 0 -3.25 Z\" style=\"fill:rgb(0,114,189); stroke:none;\" transform=\"translate(304.4667,345.4167)\"\n",
       "      /><path d=\"M0 -2.75 C1.5188 -2.75 2.75 -1.5188 2.75 0 L2.75 0 C2.75 1.5188 1.5188 2.75 -0 2.75 C-1.5188 2.75 -2.75 1.5188 -2.75 -0 C-2.75 -1.5188 -1.5188 -2.75 0 -2.75 ZM0 -3.25 C-1.7949 -3.25 -3.25 -1.7949 -3.25 -0 C-3.25 1.7949 -1.7949 3.25 -0 3.25 C1.7949 3.25 3.25 1.7949 3.25 0 L3.25 0 C3.25 -1.7949 1.7949 -3.25 0 -3.25 Z\" style=\"fill:rgb(0,114,189); stroke:none;\" transform=\"translate(333.4,231.0833)\"\n",
       "      /><path d=\"M0 -2.75 C1.5188 -2.75 2.75 -1.5188 2.75 0 L2.75 0 C2.75 1.5188 1.5188 2.75 -0 2.75 C-1.5188 2.75 -2.75 1.5188 -2.75 -0 C-2.75 -1.5188 -1.5188 -2.75 0 -2.75 ZM0 -3.25 C-1.7949 -3.25 -3.25 -1.7949 -3.25 -0 C-3.25 1.7949 -1.7949 3.25 -0 3.25 C1.7949 3.25 3.25 1.7949 3.25 0 L3.25 0 C3.25 -1.7949 1.7949 -3.25 0 -3.25 Z\" style=\"fill:rgb(0,114,189); stroke:none;\" transform=\"translate(362.3333,188.2083)\"\n",
       "      /><path d=\"M0 -2.75 C1.5188 -2.75 2.75 -1.5188 2.75 0 L2.75 0 C2.75 1.5188 1.5188 2.75 -0 2.75 C-1.5188 2.75 -2.75 1.5188 -2.75 -0 C-2.75 -1.5188 -1.5188 -2.75 0 -2.75 ZM0 -3.25 C-1.7949 -3.25 -3.25 -1.7949 -3.25 -0 C-3.25 1.7949 -1.7949 3.25 -0 3.25 C1.7949 3.25 3.25 1.7949 3.25 0 L3.25 0 C3.25 -1.7949 1.7949 -3.25 0 -3.25 Z\" style=\"fill:rgb(0,114,189); stroke:none;\" transform=\"translate(391.2667,131.0417)\"\n",
       "      /><path d=\"M0 -2.75 C1.5188 -2.75 2.75 -1.5188 2.75 0 L2.75 0 C2.75 1.5188 1.5188 2.75 -0 2.75 C-1.5188 2.75 -2.75 1.5188 -2.75 -0 C-2.75 -1.5188 -1.5188 -2.75 0 -2.75 ZM0 -3.25 C-1.7949 -3.25 -3.25 -1.7949 -3.25 -0 C-3.25 1.7949 -1.7949 3.25 -0 3.25 C1.7949 3.25 3.25 1.7949 3.25 0 L3.25 0 C3.25 -1.7949 1.7949 -3.25 0 -3.25 Z\" style=\"fill:rgb(0,114,189); stroke:none;\" transform=\"translate(420.2,88.1667)\"\n",
       "      /><path d=\"M0 -2.75 C1.5188 -2.75 2.75 -1.5188 2.75 0 L2.75 0 C2.75 1.5188 1.5188 2.75 -0 2.75 C-1.5188 2.75 -2.75 1.5188 -2.75 -0 C-2.75 -1.5188 -1.5188 -2.75 0 -2.75 ZM0 -3.25 C-1.7949 -3.25 -3.25 -1.7949 -3.25 -0 C-3.25 1.7949 -1.7949 3.25 -0 3.25 C1.7949 3.25 3.25 1.7949 3.25 0 L3.25 0 C3.25 -1.7949 1.7949 -3.25 0 -3.25 Z\" style=\"fill:rgb(0,114,189); stroke:none;\" transform=\"translate(449.1333,116.75)\"\n",
       "      /><path d=\"M0 -2.75 C1.5188 -2.75 2.75 -1.5188 2.75 0 L2.75 0 C2.75 1.5188 1.5188 2.75 -0 2.75 C-1.5188 2.75 -2.75 1.5188 -2.75 -0 C-2.75 -1.5188 -1.5188 -2.75 0 -2.75 ZM0 -3.25 C-1.7949 -3.25 -3.25 -1.7949 -3.25 -0 C-3.25 1.7949 -1.7949 3.25 -0 3.25 C1.7949 3.25 3.25 1.7949 3.25 0 L3.25 0 C3.25 -1.7949 1.7949 -3.25 0 -3.25 Z\" style=\"fill:rgb(0,114,189); stroke:none;\" transform=\"translate(478.0667,145.3333)\"\n",
       "      /><path d=\"M0 -2.75 C1.5188 -2.75 2.75 -1.5188 2.75 0 L2.75 0 C2.75 1.5188 1.5188 2.75 -0 2.75 C-1.5188 2.75 -2.75 1.5188 -2.75 -0 C-2.75 -1.5188 -1.5188 -2.75 0 -2.75 ZM0 -3.25 C-1.7949 -3.25 -3.25 -1.7949 -3.25 -0 C-3.25 1.7949 -1.7949 3.25 -0 3.25 C1.7949 3.25 3.25 1.7949 3.25 0 L3.25 0 C3.25 -1.7949 1.7949 -3.25 0 -3.25 Z\" style=\"fill:rgb(0,114,189); stroke:none;\" transform=\"translate(507,173.9167)\"\n",
       "      /><line x1=\"73\" x2=\"73\" y1=\"202.5\" style=\"fill:none; stroke:rgb(0,114,189);\" y2=\"145.3333\"\n",
       "      /><line x1=\"101.9333\" x2=\"101.9333\" y1=\"202.5\" style=\"fill:none; stroke:rgb(0,114,189);\" y2=\"88.1667\"\n",
       "      /><line x1=\"130.8667\" x2=\"130.8667\" y1=\"202.5\" style=\"fill:none; stroke:rgb(0,114,189);\" y2=\"31\"\n",
       "      /><line x1=\"159.8\" x2=\"159.8\" y1=\"202.5\" style=\"fill:none; stroke:rgb(0,114,189);\" y2=\"59.5833\"\n",
       "      /><line x1=\"188.7333\" x2=\"188.7333\" y1=\"202.5\" style=\"fill:none; stroke:rgb(0,114,189);\" y2=\"116.75\"\n",
       "      /><line x1=\"217.6667\" x2=\"217.6667\" y1=\"202.5\" style=\"fill:none; stroke:rgb(0,114,189);\" y2=\"173.9167\"\n",
       "      /><line x1=\"246.6\" x2=\"246.6\" y1=\"202.5\" style=\"fill:none; stroke:rgb(0,114,189);\" y2=\"231.0833\"\n",
       "      /><line x1=\"275.5333\" x2=\"275.5333\" y1=\"202.5\" style=\"fill:none; stroke:rgb(0,114,189);\" y2=\"288.25\"\n",
       "      /><line x1=\"304.4667\" x2=\"304.4667\" y1=\"202.5\" style=\"fill:none; stroke:rgb(0,114,189);\" y2=\"345.4167\"\n",
       "      /><line x1=\"333.4\" x2=\"333.4\" y1=\"202.5\" style=\"fill:none; stroke:rgb(0,114,189);\" y2=\"231.0833\"\n",
       "      /><line x1=\"362.3333\" x2=\"362.3333\" y1=\"202.5\" style=\"fill:none; stroke:rgb(0,114,189);\" y2=\"188.2083\"\n",
       "      /><line x1=\"391.2667\" x2=\"391.2667\" y1=\"202.5\" style=\"fill:none; stroke:rgb(0,114,189);\" y2=\"131.0417\"\n",
       "      /><line x1=\"420.2\" x2=\"420.2\" y1=\"202.5\" style=\"fill:none; stroke:rgb(0,114,189);\" y2=\"88.1667\"\n",
       "      /><line x1=\"449.1333\" x2=\"449.1333\" y1=\"202.5\" style=\"fill:none; stroke:rgb(0,114,189);\" y2=\"116.75\"\n",
       "      /><line x1=\"478.0667\" x2=\"478.0667\" y1=\"202.5\" style=\"fill:none; stroke:rgb(0,114,189);\" y2=\"145.3333\"\n",
       "      /><line x1=\"507\" x2=\"507\" y1=\"202.5\" style=\"fill:none; stroke:rgb(0,114,189);\" y2=\"173.9167\"\n",
       "      /><line x1=\"73\" x2=\"507\" y1=\"374\" style=\"fill:none; stroke-linecap:square;\" y2=\"374\"\n",
       "      /><line x1=\"73\" x2=\"507\" y1=\"31\" style=\"fill:none; stroke-linecap:square;\" y2=\"31\"\n",
       "      /><line x1=\"73\" x2=\"73\" y1=\"374\" style=\"fill:none; stroke-linecap:square;\" y2=\"369.66\"\n",
       "      /><line x1=\"217.6667\" x2=\"217.6667\" y1=\"374\" style=\"fill:none; stroke-linecap:square;\" y2=\"369.66\"\n",
       "      /><line x1=\"362.3333\" x2=\"362.3333\" y1=\"374\" style=\"fill:none; stroke-linecap:square;\" y2=\"369.66\"\n",
       "      /><line x1=\"507\" x2=\"507\" y1=\"374\" style=\"fill:none; stroke-linecap:square;\" y2=\"369.66\"\n",
       "      /><line x1=\"73\" x2=\"73\" y1=\"31\" style=\"fill:none; stroke-linecap:square;\" y2=\"35.34\"\n",
       "      /><line x1=\"217.6667\" x2=\"217.6667\" y1=\"31\" style=\"fill:none; stroke-linecap:square;\" y2=\"35.34\"\n",
       "      /><line x1=\"362.3333\" x2=\"362.3333\" y1=\"31\" style=\"fill:none; stroke-linecap:square;\" y2=\"35.34\"\n",
       "      /><line x1=\"507\" x2=\"507\" y1=\"31\" style=\"fill:none; stroke-linecap:square;\" y2=\"35.34\"\n",
       "    /></g\n",
       "    ><g transform=\"translate(73,378)\" style=\"font-size:10px; fill:rgb(38,38,38); text-rendering:geometricPrecision; image-rendering:optimizeQuality; color-rendering:optimizeQuality; font-family:'Helvetica Neue'; stroke:rgb(38,38,38); color-interpolation:linearRGB;\"\n",
       "    ><text x=\"-3\" xml:space=\"preserve\" y=\"10\" style=\"stroke:none;\"\n",
       "      >0</text\n",
       "    ></g\n",
       "    ><g transform=\"translate(217.6667,378)\" style=\"font-size:10px; fill:rgb(38,38,38); text-rendering:geometricPrecision; image-rendering:optimizeQuality; color-rendering:optimizeQuality; font-family:'Helvetica Neue'; stroke:rgb(38,38,38); color-interpolation:linearRGB;\"\n",
       "    ><text x=\"-3\" xml:space=\"preserve\" y=\"10\" style=\"stroke:none;\"\n",
       "      >5</text\n",
       "    ></g\n",
       "    ><g transform=\"translate(362.3333,378)\" style=\"font-size:10px; fill:rgb(38,38,38); text-rendering:geometricPrecision; image-rendering:optimizeQuality; color-rendering:optimizeQuality; font-family:'Helvetica Neue'; stroke:rgb(38,38,38); color-interpolation:linearRGB;\"\n",
       "    ><text x=\"-6\" xml:space=\"preserve\" y=\"10\" style=\"stroke:none;\"\n",
       "      >10</text\n",
       "    ></g\n",
       "    ><g transform=\"translate(507,378)\" style=\"font-size:10px; fill:rgb(38,38,38); text-rendering:geometricPrecision; image-rendering:optimizeQuality; color-rendering:optimizeQuality; font-family:'Helvetica Neue'; stroke:rgb(38,38,38); color-interpolation:linearRGB;\"\n",
       "    ><text x=\"-6\" xml:space=\"preserve\" y=\"10\" style=\"stroke:none;\"\n",
       "      >15</text\n",
       "    ></g\n",
       "    ><g transform=\"translate(290.0002,392)\" style=\"font-size:11px; fill:rgb(38,38,38); text-rendering:geometricPrecision; image-rendering:optimizeQuality; color-rendering:optimizeQuality; font-family:'Helvetica Neue'; stroke:rgb(38,38,38); color-interpolation:linearRGB;\"\n",
       "    ><text x=\"-3.5\" xml:space=\"preserve\" y=\"11\" style=\"stroke:none;\"\n",
       "      >n</text\n",
       "    ></g\n",
       "  ></g\n",
       "></svg\n",
       ">\n"
      ]
     },
     "metadata": {
      "filenames": {
       "image/svg+xml": "/Users/eechris/code/src/github.com/cpjobling/eg-247-textbook/_build/jupyter_execute/dft/1/dft_60_0.svg"
      }
     },
     "output_type": "display_data"
    }
   ],
   "source": [
    "stem([0:15],xn),xlabel('n'),ylabel('x[n]'),title('Discrete Time Sequence')"
   ]
  },
  {
   "cell_type": "code",
   "execution_count": 10,
   "id": "6be14b9f",
   "metadata": {
    "slideshow": {
     "slide_type": "subslide"
    }
   },
   "outputs": [],
   "source": [
    "Xm = dft(xn,16);"
   ]
  },
  {
   "cell_type": "code",
   "execution_count": 11,
   "id": "e906c892",
   "metadata": {
    "slideshow": {
     "slide_type": "subslide"
    }
   },
   "outputs": [
    {
     "data": {
      "image/svg+xml": [
       "<?xml version=\"1.0\"?>\n",
       "<!DOCTYPE svg PUBLIC '-//W3C//DTD SVG 1.0//EN'\n",
       "          'http://www.w3.org/TR/2001/REC-SVG-20010904/DTD/svg10.dtd'>\n",
       "<svg xmlns:xlink=\"http://www.w3.org/1999/xlink\" style=\"fill-opacity:1; color-rendering:auto; color-interpolation:auto; text-rendering:auto; stroke:black; stroke-linecap:square; stroke-miterlimit:10; shape-rendering:auto; stroke-opacity:1; fill:black; stroke-dasharray:none; font-weight:normal; stroke-width:1; font-family:'Dialog'; font-style:normal; stroke-linejoin:miter; font-size:12px; stroke-dashoffset:0; image-rendering:auto;\" width=\"560\" height=\"420\" xmlns=\"http://www.w3.org/2000/svg\"\n",
       "><!--Generated by the Batik Graphics2D SVG Generator--><defs id=\"genericDefs\"\n",
       "  /><g\n",
       "  ><defs id=\"defs1\"\n",
       "    ><clipPath clipPathUnits=\"userSpaceOnUse\" id=\"clipPath1\"\n",
       "      ><path d=\"M0 0 L560 0 L560 420 L0 420 L0 0 Z\"\n",
       "      /></clipPath\n",
       "      ><font horiz-adv-x=\"50.0\" id=\"font1\"\n",
       "      ><font-face ascent=\"95.200005\" descent=\"21.3\" units-per-em=\"100\" style=\"font-style:normal; font-family:Helvetica Neue; font-weight:normal;\"\n",
       "        /><missing-glyph horiz-adv-x=\"50.0\" d=\"M40.9 66.6 L10.2 66.6 L10.2 4.7 L40.9 4.7 ZM46 71.2 L46 0.1 L5.1 0.1 L5.1 71.2 Z\"\n",
       "        /><glyph unicode=\"0\" horiz-adv-x=\"55.6\" d=\"M13.2 34.9 Q13.2 37.5 13.25 40.65 Q13.3 43.8 13.75 46.95 Q14.2 50.1 15.05 53.1 Q15.9 56.1 17.55 58.35 Q19.2 60.6 21.7 62 Q24.2 63.4 27.8 63.4 Q31.4 63.4 33.9 62 Q36.4 60.6 38.05 58.35 Q39.7 56.1 40.55 53.1 Q41.4 50.1 41.85 46.95 Q42.3 43.8 42.35 40.65 Q42.4 37.5 42.4 34.9 Q42.4 30.9 42.15 25.95 Q41.9 21 40.55 16.65 Q39.2 12.3 36.2 9.3 Q33.2 6.3 27.8 6.3 Q22.4 6.3 19.4 9.3 Q16.4 12.3 15.05 16.65 Q13.7 21 13.45 25.95 Q13.2 30.9 13.2 34.9 ZM4.2 34.8 Q4.2 30.9 4.4 26.7 Q4.6 22.5 5.4 18.5 Q6.2 14.5 7.7 10.95 Q9.2 7.4 11.8 4.7 Q14.4 2 18.35 0.45 Q22.3 -1.1 27.8 -1.1 Q33.4 -1.1 37.3 0.45 Q41.2 2 43.8 4.7 Q46.4 7.4 47.9 10.95 Q49.4 14.5 50.2 18.5 Q51 22.5 51.2 26.7 Q51.4 30.9 51.4 34.8 Q51.4 38.7 51.2 42.9 Q51 47.1 50.2 51.1 Q49.4 55.1 47.9 58.7 Q46.4 62.3 43.8 65 Q41.2 67.7 37.25 69.3 Q33.3 70.9 27.8 70.9 Q22.3 70.9 18.35 69.3 Q14.4 67.7 11.8 65 Q9.2 62.3 7.7 58.7 Q6.2 55.1 5.4 51.1 Q4.6 47.1 4.4 42.9 Q4.2 38.7 4.2 34.8 Z\"\n",
       "        /><glyph unicode=\"2\" horiz-adv-x=\"55.6\" d=\"M4.4 45.8 L12.9 45.8 Q12.8 49 13.55 52.15 Q14.3 55.3 16 57.8 Q17.7 60.3 20.35 61.85 Q23 63.4 26.7 63.4 Q29.5 63.4 32 62.5 Q34.5 61.6 36.35 59.9 Q38.2 58.2 39.3 55.85 Q40.4 53.5 40.4 50.6 Q40.4 46.9 39.25 44.1 Q38.1 41.3 35.85 38.9 Q33.6 36.5 30.2 34.15 Q26.8 31.8 22.3 29 Q18.6 26.8 15.2 24.3 Q11.8 21.8 9.1 18.5 Q6.4 15.2 4.65 10.75 Q2.9 6.3 2.4 0 L48.7 0 L48.7 7.5 L12.3 7.5 Q12.9 10.8 14.85 13.35 Q16.8 15.9 19.55 18.1 Q22.3 20.3 25.6 22.25 Q28.9 24.2 32.2 26.2 Q35.5 28.3 38.6 30.6 Q41.7 32.9 44.1 35.75 Q46.5 38.6 47.95 42.2 Q49.4 45.8 49.4 50.5 Q49.4 55.5 47.65 59.3 Q45.9 63.1 42.9 65.65 Q39.9 68.2 35.85 69.55 Q31.8 70.9 27.2 70.9 Q21.6 70.9 17.2 69 Q12.8 67.1 9.85 63.75 Q6.9 60.4 5.5 55.8 Q4.1 51.2 4.4 45.8 Z\"\n",
       "        /><glyph unicode=\"4\" horiz-adv-x=\"55.6\" d=\"M33.9 24.1 L10.1 24.1 L33.7 58.8 L33.9 58.8 ZM41.9 24.1 L41.9 70.9 L35.1 70.9 L2.8 24.8 L2.8 16.6 L33.9 16.6 L33.9 0 L41.9 0 L41.9 16.6 L51.5 16.6 L51.5 24.1 Z\"\n",
       "        /><glyph unicode=\"6\" horiz-adv-x=\"55.6\" d=\"M41.4 52.8 L49.9 52.8 Q49.1 61.6 43.9 66.25 Q38.7 70.9 29.9 70.9 Q22.3 70.9 17.3 67.7 Q12.3 64.5 9.3 59.2 Q6.3 53.9 5.05 47.05 Q3.8 40.2 3.8 32.9 Q3.8 27.3 4.65 21.3 Q5.5 15.3 8.1 10.3 Q10.7 5.3 15.5 2.1 Q20.3 -1.1 28.2 -1.1 Q34.9 -1.1 39.45 1.15 Q44 3.4 46.75 6.85 Q49.5 10.3 50.7 14.5 Q51.9 18.7 51.9 22.6 Q51.9 27.5 50.4 31.7 Q48.9 35.9 46.15 39 Q43.4 42.1 39.35 43.85 Q35.3 45.6 30.2 45.6 Q24.4 45.6 19.95 43.4 Q15.5 41.2 12.5 36.3 L12.3 36.5 Q12.4 40.6 13.1 45.3 Q13.8 50 15.65 54.05 Q17.5 58.1 20.8 60.75 Q24.1 63.4 29.5 63.4 Q34.6 63.4 37.7 60.5 Q40.8 57.6 41.4 52.8 ZM28.6 38.1 Q32.2 38.1 34.9 36.8 Q37.6 35.5 39.4 33.35 Q41.2 31.2 42.05 28.25 Q42.9 25.3 42.9 22 Q42.9 18.9 41.95 16.05 Q41 13.2 39.2 11 Q37.4 8.8 34.75 7.55 Q32.1 6.3 28.6 6.3 Q25.1 6.3 22.35 7.55 Q19.6 8.8 17.75 10.9 Q15.9 13 14.9 15.9 Q13.9 18.8 13.9 22.1 Q13.9 25.4 14.85 28.35 Q15.8 31.3 17.7 33.45 Q19.6 35.6 22.3 36.85 Q25 38.1 28.6 38.1 Z\"\n",
       "        /><glyph unicode=\"8\" horiz-adv-x=\"55.6\" d=\"M15.5 52.5 Q15.5 55.2 16.5 57.2 Q17.5 59.2 19.15 60.6 Q20.8 62 23.1 62.7 Q25.4 63.4 27.9 63.4 Q33.1 63.4 36.45 60.65 Q39.8 57.9 39.8 52.5 Q39.8 47.1 36.5 44.1 Q33.2 41.1 28.1 41.1 Q25.5 41.1 23.2 41.8 Q20.9 42.5 19.2 43.9 Q17.5 45.3 16.5 47.45 Q15.5 49.6 15.5 52.5 ZM6.5 52.8 Q6.5 48 9.2 43.95 Q11.9 39.9 16.4 38.1 Q10.4 36 7.2 31.35 Q4 26.7 4 20.4 Q4 15 5.85 10.95 Q7.7 6.9 10.95 4.2 Q14.2 1.5 18.6 0.2 Q23 -1.1 28.1 -1.1 Q33 -1.1 37.3 0.3 Q41.6 1.7 44.75 4.45 Q47.9 7.2 49.75 11.2 Q51.6 15.2 51.6 20.4 Q51.6 27 48.5 31.55 Q45.4 36.1 39 38.1 Q43.5 40.1 46.15 44.05 Q48.8 48 48.8 52.8 Q48.8 56.2 47.6 59.45 Q46.4 62.7 43.85 65.25 Q41.3 67.8 37.2 69.35 Q33.1 70.9 27.3 70.9 Q23.2 70.9 19.45 69.7 Q15.7 68.5 12.8 66.2 Q9.9 63.9 8.2 60.55 Q6.5 57.2 6.5 52.8 ZM13 20 Q13 23.1 14.15 25.6 Q15.3 28.1 17.35 29.9 Q19.4 31.7 22.15 32.65 Q24.9 33.6 28 33.6 Q31 33.6 33.65 32.55 Q36.3 31.5 38.3 29.7 Q40.3 27.9 41.45 25.45 Q42.6 23 42.6 20.1 Q42.6 17.1 41.55 14.6 Q40.5 12.1 38.55 10.25 Q36.6 8.4 33.95 7.35 Q31.3 6.3 28.1 6.3 Q21.5 6.3 17.25 9.95 Q13 13.6 13 20 Z\"\n",
       "        /><glyph unicode=\"1\" horiz-adv-x=\"55.6\" d=\"M35.6 0 L35.6 70.9 L29.1 70.9 Q28.4 66.9 26.5 64.3 Q24.6 61.7 21.85 60.2 Q19.1 58.7 15.7 58.15 Q12.3 57.6 8.7 57.6 L8.7 50.8 L27.1 50.8 L27.1 0 Z\"\n",
       "        /><glyph unicode=\"]\" horiz-adv-x=\"25.9\" d=\"M0 -12.9 L0 -19.7 L18.7 -19.7 L18.7 73.1 L0 73.1 L0 66.3 L10.7 66.3 L10.7 -12.9 Z\"\n",
       "        /><glyph unicode=\"m\" horiz-adv-x=\"85.3\" d=\"M6.4 51.7 L6.4 0 L14.9 0 L14.9 32.2 Q14.9 33.7 15.65 35.95 Q16.4 38.2 18.05 40.3 Q19.7 42.4 22.35 43.9 Q25 45.4 28.7 45.4 Q31.6 45.4 33.45 44.55 Q35.3 43.7 36.4 42.15 Q37.5 40.6 37.95 38.5 Q38.4 36.4 38.4 33.9 L38.4 0 L46.9 0 L46.9 32.2 Q46.9 38.2 50.5 41.8 Q54.1 45.4 60.4 45.4 Q63.5 45.4 65.45 44.5 Q67.4 43.6 68.5 42.05 Q69.6 40.5 70 38.4 Q70.4 36.3 70.4 33.9 L70.4 0 L78.9 0 L78.9 37.9 Q78.9 41.9 77.65 44.75 Q76.4 47.6 74.15 49.4 Q71.9 51.2 68.75 52.05 Q65.6 52.9 61.7 52.9 Q56.6 52.9 52.35 50.6 Q48.1 48.3 45.5 44.1 Q43.9 48.9 40 50.9 Q36.1 52.9 31.3 52.9 Q20.4 52.9 14.6 44.1 L14.4 44.1 L14.4 51.7 Z\"\n",
       "        /><glyph unicode=\"[\" horiz-adv-x=\"25.9\" d=\"M25.9 66.3 L25.9 73.1 L7.2 73.1 L7.2 -19.7 L25.9 -19.7 L25.9 -12.9 L15.2 -12.9 L15.2 66.3 Z\"\n",
       "        /><glyph unicode=\"X\" horiz-adv-x=\"61.1\" d=\"M24.8 36.7 L0 0 L10.6 0 L30.4 29.5 L49.6 0 L61.2 0 L36.1 36.7 L59.7 71.4 L49.1 71.4 L30.5 43.5 L12.7 71.4 L1.3 71.4 Z\"\n",
       "        /><glyph unicode=\"|\" horiz-adv-x=\"22.2\" d=\"M7.7 78.6 L7.7 -21.3 L14.5 -21.3 L14.5 78.6 Z\"\n",
       "        /><glyph unicode=\"5\" horiz-adv-x=\"55.6\" d=\"M47 62.2 L47 69.7 L12 69.7 L5.4 32.9 L12.7 32.5 Q15.2 35.5 18.45 37.35 Q21.7 39.2 25.9 39.2 Q29.5 39.2 32.45 38 Q35.4 36.8 37.5 34.65 Q39.6 32.5 40.75 29.55 Q41.9 26.6 41.9 23.1 Q41.9 18.9 40.7 15.75 Q39.5 12.6 37.45 10.5 Q35.4 8.4 32.65 7.35 Q29.9 6.3 26.9 6.3 Q23.7 6.3 21.05 7.25 Q18.4 8.2 16.45 9.95 Q14.5 11.7 13.35 14.05 Q12.2 16.4 12 19.1 L3.5 19.1 Q3.6 14.3 5.4 10.5 Q7.2 6.7 10.3 4.15 Q13.4 1.6 17.45 0.25 Q21.5 -1.1 26.1 -1.1 Q32.3 -1.1 36.95 0.85 Q41.6 2.8 44.7 6.1 Q47.8 9.4 49.35 13.65 Q50.9 17.9 50.9 22.4 Q50.9 28.5 49.1 33.05 Q47.3 37.6 44.2 40.65 Q41.1 43.7 36.9 45.2 Q32.7 46.7 28 46.7 Q24.4 46.7 20.75 45.45 Q17.1 44.2 14.8 41.6 L14.6 41.8 L18.4 62.2 Z\"\n",
       "      /></font\n",
       "      ><font horiz-adv-x=\"50.0\" id=\"font2\"\n",
       "      ><font-face ascent=\"97.5\" descent=\"21.699999\" units-per-em=\"100\" style=\"font-style:normal; font-family:Helvetica Neue; font-weight:bold;\"\n",
       "        /><missing-glyph horiz-adv-x=\"50.0\" d=\"M39.1 60.7 L11.1 60.7 L11.1 9.5 L39.1 9.5 ZM48.2 69.8 L48.2 0.3 L1.7 0.3 L1.7 69.8 Z\"\n",
       "        /><glyph unicode=\"S\" horiz-adv-x=\"64.9\" d=\"M17.6 23.7 L2.4 23.7 Q2.3 17.1 4.8 12.3 Q7.3 7.5 11.55 4.4 Q15.8 1.3 21.35 -0.15 Q26.9 -1.6 32.8 -1.6 Q40.1 -1.6 45.65 0.1 Q51.2 1.8 54.95 4.85 Q58.7 7.9 60.6 12.1 Q62.5 16.3 62.5 21.2 Q62.5 27.2 59.95 31.05 Q57.4 34.9 53.9 37.2 Q50.4 39.5 46.85 40.55 Q43.3 41.6 41.3 42 Q34.6 43.7 30.45 44.8 Q26.3 45.9 23.95 47 Q21.6 48.1 20.8 49.4 Q20 50.7 20 52.8 Q20 55.1 21 56.6 Q22 58.1 23.55 59.1 Q25.1 60.1 27 60.5 Q28.9 60.9 30.8 60.9 Q33.7 60.9 36.15 60.4 Q38.6 59.9 40.5 58.7 Q42.4 57.5 43.55 55.4 Q44.7 53.3 44.9 50.1 L60.1 50.1 Q60.1 56.3 57.75 60.65 Q55.4 65 51.4 67.8 Q47.4 70.6 42.25 71.85 Q37.1 73.1 31.5 73.1 Q26.7 73.1 21.9 71.8 Q17.1 70.5 13.3 67.8 Q9.5 65.1 7.15 61.05 Q4.8 57 4.8 51.5 Q4.8 46.6 6.65 43.15 Q8.5 39.7 11.5 37.4 Q14.5 35.1 18.3 33.65 Q22.1 32.2 26.1 31.2 Q30 30.1 33.8 29.2 Q37.6 28.3 40.6 27.1 Q43.6 25.9 45.45 24.1 Q47.3 22.3 47.3 19.4 Q47.3 16.7 45.9 14.95 Q44.5 13.2 42.4 12.2 Q40.3 11.2 37.9 10.85 Q35.5 10.5 33.4 10.5 Q30.3 10.5 27.4 11.25 Q24.5 12 22.35 13.55 Q20.2 15.1 18.9 17.6 Q17.6 20.1 17.6 23.7 Z\"\n",
       "        /><glyph unicode=\"y\" horiz-adv-x=\"51.9\" d=\"M30.9 -6.4 L52.5 51.7 L37.8 51.7 L26.5 16.3 L26.3 16.3 L14.6 51.7 L-0.5 51.7 L17.6 3.2 Q18.2 1.7 18.2 0 Q18.2 -2.3 16.85 -4.2 Q15.5 -6.1 12.7 -6.4 Q10.6 -6.5 8.5 -6.3 Q6.4 -6.1 4.4 -5.9 L4.4 -17.6 Q6.6 -17.8 8.75 -17.95 Q10.9 -18.1 13.1 -18.1 Q20.4 -18.1 24.5 -15.4 Q28.6 -12.7 30.9 -6.4 Z\"\n",
       "        /><glyph unicode=\"n\" horiz-adv-x=\"59.3\" d=\"M5.4 51.7 L5.4 0 L19.6 0 L19.6 27.1 Q19.6 35 22.2 38.45 Q24.8 41.9 30.6 41.9 Q35.7 41.9 37.7 38.75 Q39.7 35.6 39.7 29.2 L39.7 0 L53.9 0 L53.9 31.8 Q53.9 36.6 53.05 40.55 Q52.2 44.5 50.1 47.25 Q48 50 44.35 51.55 Q40.7 53.1 35 53.1 Q30.5 53.1 26.2 51.05 Q21.9 49 19.2 44.5 L18.9 44.5 L18.9 51.7 Z\"\n",
       "        /><glyph unicode=\"u\" horiz-adv-x=\"59.3\" d=\"M53.9 0 L53.9 51.7 L39.7 51.7 L39.7 24.6 Q39.7 16.7 37.1 13.25 Q34.5 9.8 28.7 9.8 Q23.6 9.8 21.6 12.95 Q19.6 16.1 19.6 22.5 L19.6 51.7 L5.4 51.7 L5.4 19.9 Q5.4 15.1 6.25 11.15 Q7.1 7.2 9.2 4.45 Q11.3 1.7 14.95 0.2 Q18.6 -1.3 24.3 -1.3 Q28.8 -1.3 33.1 0.7 Q37.4 2.7 40.1 7.2 L40.4 7.2 L40.4 0 Z\"\n",
       "        /><glyph unicode=\"q\" horiz-adv-x=\"61.1\" d=\"M17.4 25.8 Q17.4 29 18.05 31.95 Q18.7 34.9 20.2 37.25 Q21.7 39.6 24.1 41 Q26.5 42.4 30 42.4 Q33.3 42.4 35.65 40.9 Q38 39.4 39.4 37 Q40.8 34.6 41.45 31.6 Q42.1 28.6 42.1 25.6 Q42.1 22.4 41.45 19.45 Q40.8 16.5 39.35 14.25 Q37.9 12 35.55 10.65 Q33.2 9.3 29.7 9.3 Q26.2 9.3 23.85 10.7 Q21.5 12.1 20.05 14.45 Q18.6 16.8 18 19.75 Q17.4 22.7 17.4 25.8 ZM55.8 -18.1 L55.8 51.7 L42.3 51.7 L42.3 45.1 L42.1 45.1 Q39.7 49.4 35.45 51.25 Q31.2 53.1 26.4 53.1 Q20.5 53.1 16.15 50.8 Q11.8 48.5 8.9 44.65 Q6 40.8 4.6 35.8 Q3.2 30.8 3.2 25.5 Q3.2 18 5.3 12.85 Q7.4 7.7 10.6 4.55 Q13.8 1.4 17.65 0.05 Q21.5 -1.3 25.1 -1.3 Q29.9 -1.3 34.4 0.5 Q38.9 2.3 41.4 6.5 L41.6 6.5 L41.6 -18.1 Z\"\n",
       "        /><glyph unicode=\"F\" horiz-adv-x=\"59.3\" d=\"M6.9 71.4 L6.9 0 L22.6 0 L22.6 29.5 L52.5 29.5 L52.5 41.7 L22.6 41.7 L22.6 58.2 L57.1 58.2 L57.1 71.4 Z\"\n",
       "        /><glyph unicode=\" \" horiz-adv-x=\"27.8\" d=\"\"\n",
       "        /><glyph unicode=\"t\" horiz-adv-x=\"35.2\" d=\"M23.4 51.7 L23.4 67.2 L9.2 67.2 L9.2 51.7 L0.6 51.7 L0.6 42.2 L9.2 42.2 L9.2 11.7 Q9.2 7.8 10.5 5.4 Q11.8 3 14.05 1.7 Q16.3 0.4 19.25 -0.05 Q22.2 -0.5 25.5 -0.5 Q27.6 -0.5 29.8 -0.4 Q32 -0.3 33.8 0 L33.8 11 Q32.8 10.8 31.7 10.7 Q30.6 10.6 29.4 10.6 Q25.8 10.6 24.6 11.8 Q23.4 13 23.4 16.6 L23.4 42.2 L33.8 42.2 L33.8 51.7 Z\"\n",
       "        /><glyph unicode=\"e\" horiz-adv-x=\"57.4\" d=\"M40.2 31.4 L17.1 31.4 Q17.2 32.9 17.75 34.8 Q18.3 36.7 19.65 38.4 Q21 40.1 23.25 41.25 Q25.5 42.4 28.9 42.4 Q34.1 42.4 36.65 39.6 Q39.2 36.8 40.2 31.4 ZM17.1 22.4 L54.4 22.4 Q54.8 28.4 53.4 33.9 Q52 39.4 48.85 43.7 Q45.7 48 40.8 50.55 Q35.9 53.1 29.3 53.1 Q23.4 53.1 18.55 51 Q13.7 48.9 10.2 45.25 Q6.7 41.6 4.8 36.6 Q2.9 31.6 2.9 25.8 Q2.9 19.8 4.75 14.8 Q6.6 9.8 10 6.2 Q13.4 2.6 18.3 0.65 Q23.2 -1.3 29.3 -1.3 Q38.1 -1.3 44.3 2.7 Q50.5 6.7 53.5 16 L41 16 Q40.3 13.6 37.2 11.45 Q34.1 9.3 29.8 9.3 Q23.8 9.3 20.6 12.4 Q17.4 15.5 17.1 22.4 Z\"\n",
       "        /><glyph unicode=\"r\" horiz-adv-x=\"38.9\" d=\"M5.4 51.7 L5.4 0 L19.6 0 L19.6 23.3 Q19.6 26.8 20.3 29.8 Q21 32.8 22.65 35.05 Q24.3 37.3 27 38.6 Q29.7 39.9 33.6 39.9 Q34.9 39.9 36.3 39.75 Q37.7 39.6 38.7 39.4 L38.7 52.6 Q37 53.1 35.6 53.1 Q32.9 53.1 30.4 52.3 Q27.9 51.5 25.7 50.05 Q23.5 48.6 21.8 46.55 Q20.1 44.5 19.1 42.1 L18.9 42.1 L18.9 51.7 Z\"\n",
       "        /><glyph unicode=\"c\" horiz-adv-x=\"57.4\" d=\"M40.6 33.5 L54.5 33.5 Q54.2 38.5 52.1 42.15 Q50 45.8 46.65 48.25 Q43.3 50.7 39.05 51.9 Q34.8 53.1 30.2 53.1 Q23.9 53.1 19 51 Q14.1 48.9 10.7 45.15 Q7.3 41.4 5.55 36.25 Q3.8 31.1 3.8 25.1 Q3.8 19.3 5.7 14.45 Q7.6 9.6 11 6.1 Q14.4 2.6 19.25 0.65 Q24.1 -1.3 29.9 -1.3 Q40.2 -1.3 46.8 4.1 Q53.4 9.5 54.8 19.8 L41.1 19.8 Q40.4 15 37.65 12.15 Q34.9 9.3 29.8 9.3 Q26.5 9.3 24.2 10.8 Q21.9 12.3 20.55 14.65 Q19.2 17 18.6 19.9 Q18 22.8 18 25.6 Q18 28.5 18.6 31.45 Q19.2 34.4 20.65 36.85 Q22.1 39.3 24.4 40.85 Q26.7 42.4 30.1 42.4 Q39.2 42.4 40.6 33.5 Z\"\n",
       "        /><glyph unicode=\"s\" horiz-adv-x=\"53.7\" d=\"M16.4 16.8 L2.9 16.8 Q3.1 11.6 5.25 8.15 Q7.4 4.7 10.75 2.6 Q14.1 0.5 18.4 -0.4 Q22.7 -1.3 27.2 -1.3 Q31.6 -1.3 35.85 -0.45 Q40.1 0.4 43.4 2.5 Q46.7 4.6 48.75 8.05 Q50.8 11.5 50.8 16.6 Q50.8 20.2 49.4 22.65 Q48 25.1 45.7 26.75 Q43.4 28.4 40.45 29.4 Q37.5 30.4 34.4 31.1 Q31.4 31.8 28.5 32.4 Q25.6 33 23.35 33.75 Q21.1 34.5 19.7 35.7 Q18.3 36.9 18.3 38.8 Q18.3 40.4 19.1 41.35 Q19.9 42.3 21.05 42.8 Q22.2 43.3 23.6 43.45 Q25 43.6 26.2 43.6 Q30 43.6 32.8 42.15 Q35.6 40.7 35.9 36.6 L49.4 36.6 Q49 41.4 46.95 44.55 Q44.9 47.7 41.8 49.6 Q38.7 51.5 34.75 52.3 Q30.8 53.1 26.6 53.1 Q22.4 53.1 18.4 52.35 Q14.4 51.6 11.2 49.75 Q8 47.9 6.05 44.7 Q4.1 41.5 4.1 36.5 Q4.1 33.1 5.5 30.75 Q6.9 28.4 9.2 26.85 Q11.5 25.3 14.45 24.35 Q17.4 23.4 20.5 22.7 Q28.1 21.1 32.35 19.5 Q36.6 17.9 36.6 14.7 Q36.6 12.8 35.7 11.55 Q34.8 10.3 33.45 9.55 Q32.1 8.8 30.45 8.45 Q28.8 8.1 27.3 8.1 Q25.2 8.1 23.25 8.6 Q21.3 9.1 19.8 10.15 Q18.3 11.2 17.35 12.85 Q16.4 14.5 16.4 16.8 Z\"\n",
       "        /><glyph unicode=\"i\" horiz-adv-x=\"25.8\" d=\"M20 59.7 L20 71.4 L5.8 71.4 L5.8 59.7 ZM5.8 51.7 L5.8 0 L20 0 L20 51.7 Z\"\n",
       "        /><glyph unicode=\"D\" horiz-adv-x=\"74.1\" d=\"M22.6 13.2 L22.6 58.2 L33.8 58.2 Q39.6 58.2 43.55 56.55 Q47.5 54.9 49.9 51.8 Q52.3 48.7 53.35 44.35 Q54.4 40 54.4 34.6 Q54.4 28.7 52.9 24.6 Q51.4 20.5 48.9 17.95 Q46.4 15.4 43.2 14.3 Q40 13.2 36.6 13.2 ZM6.9 71.4 L6.9 0 L37.7 0 Q45.9 0 51.95 2.75 Q58 5.5 62.05 10.3 Q66.1 15.1 68.1 21.7 Q70.1 28.3 70.1 36.1 Q70.1 45 67.65 51.6 Q65.2 58.2 60.85 62.6 Q56.5 67 50.55 69.2 Q44.6 71.4 37.7 71.4 Z\"\n",
       "      /></font\n",
       "    ></defs\n",
       "    ><g style=\"fill:white; stroke:white;\"\n",
       "    ><rect x=\"0\" y=\"0\" width=\"560\" style=\"clip-path:url(#clipPath1); stroke:none;\" height=\"420\"\n",
       "    /></g\n",
       "    ><g style=\"fill:white; text-rendering:optimizeSpeed; color-rendering:optimizeSpeed; image-rendering:optimizeSpeed; shape-rendering:crispEdges; stroke:white; color-interpolation:sRGB;\"\n",
       "    ><rect x=\"0\" width=\"560\" height=\"420\" y=\"0\" style=\"stroke:none;\"\n",
       "      /><path style=\"stroke:none;\" d=\"M73 374 L507 374 L507 31 L73 31 Z\"\n",
       "    /></g\n",
       "    ><g style=\"fill:rgb(38,38,38); text-rendering:geometricPrecision; image-rendering:optimizeQuality; color-rendering:optimizeQuality; stroke-linejoin:round; stroke:rgb(38,38,38); color-interpolation:linearRGB; stroke-width:0.5;\"\n",
       "    ><line y2=\"31\" style=\"fill:none;\" x1=\"73\" x2=\"73\" y1=\"374\"\n",
       "      /><line y2=\"31\" style=\"fill:none;\" x1=\"507\" x2=\"507\" y1=\"374\"\n",
       "      /><line y2=\"374\" style=\"fill:none;\" x1=\"73\" x2=\"77.34\" y1=\"374\"\n",
       "      /><line y2=\"316.8333\" style=\"fill:none;\" x1=\"73\" x2=\"77.34\" y1=\"316.8333\"\n",
       "      /><line y2=\"259.6667\" style=\"fill:none;\" x1=\"73\" x2=\"77.34\" y1=\"259.6667\"\n",
       "      /><line y2=\"202.5\" style=\"fill:none;\" x1=\"73\" x2=\"77.34\" y1=\"202.5\"\n",
       "      /><line y2=\"145.3333\" style=\"fill:none;\" x1=\"73\" x2=\"77.34\" y1=\"145.3333\"\n",
       "      /><line y2=\"88.1667\" style=\"fill:none;\" x1=\"73\" x2=\"77.34\" y1=\"88.1667\"\n",
       "      /><line y2=\"31\" style=\"fill:none;\" x1=\"73\" x2=\"77.34\" y1=\"31\"\n",
       "      /><line y2=\"374\" style=\"fill:none;\" x1=\"507\" x2=\"502.66\" y1=\"374\"\n",
       "      /><line y2=\"316.8333\" style=\"fill:none;\" x1=\"507\" x2=\"502.66\" y1=\"316.8333\"\n",
       "      /><line y2=\"259.6667\" style=\"fill:none;\" x1=\"507\" x2=\"502.66\" y1=\"259.6667\"\n",
       "      /><line y2=\"202.5\" style=\"fill:none;\" x1=\"507\" x2=\"502.66\" y1=\"202.5\"\n",
       "      /><line y2=\"145.3333\" style=\"fill:none;\" x1=\"507\" x2=\"502.66\" y1=\"145.3333\"\n",
       "      /><line y2=\"88.1667\" style=\"fill:none;\" x1=\"507\" x2=\"502.66\" y1=\"88.1667\"\n",
       "      /><line y2=\"31\" style=\"fill:none;\" x1=\"507\" x2=\"502.66\" y1=\"31\"\n",
       "    /></g\n",
       "    ><g transform=\"translate(69,374)\" style=\"font-size:10px; fill:rgb(38,38,38); text-rendering:geometricPrecision; image-rendering:optimizeQuality; color-rendering:optimizeQuality; font-family:'Helvetica Neue'; stroke:rgb(38,38,38); color-interpolation:linearRGB;\"\n",
       "    ><text x=\"-6\" xml:space=\"preserve\" y=\"3.5\" style=\"stroke:none;\"\n",
       "      >0</text\n",
       "    ></g\n",
       "    ><g transform=\"translate(69,316.8333)\" style=\"font-size:10px; fill:rgb(38,38,38); text-rendering:geometricPrecision; image-rendering:optimizeQuality; color-rendering:optimizeQuality; font-family:'Helvetica Neue'; stroke:rgb(38,38,38); color-interpolation:linearRGB;\"\n",
       "    ><text x=\"-6\" xml:space=\"preserve\" y=\"3.5\" style=\"stroke:none;\"\n",
       "      >2</text\n",
       "    ></g\n",
       "    ><g transform=\"translate(69,259.6667)\" style=\"font-size:10px; fill:rgb(38,38,38); text-rendering:geometricPrecision; image-rendering:optimizeQuality; color-rendering:optimizeQuality; font-family:'Helvetica Neue'; stroke:rgb(38,38,38); color-interpolation:linearRGB;\"\n",
       "    ><text x=\"-6\" xml:space=\"preserve\" y=\"3.5\" style=\"stroke:none;\"\n",
       "      >4</text\n",
       "    ></g\n",
       "    ><g transform=\"translate(69,202.5)\" style=\"font-size:10px; fill:rgb(38,38,38); text-rendering:geometricPrecision; image-rendering:optimizeQuality; color-rendering:optimizeQuality; font-family:'Helvetica Neue'; stroke:rgb(38,38,38); color-interpolation:linearRGB;\"\n",
       "    ><text x=\"-6\" xml:space=\"preserve\" y=\"3.5\" style=\"stroke:none;\"\n",
       "      >6</text\n",
       "    ></g\n",
       "    ><g transform=\"translate(69,145.3333)\" style=\"font-size:10px; fill:rgb(38,38,38); text-rendering:geometricPrecision; image-rendering:optimizeQuality; color-rendering:optimizeQuality; font-family:'Helvetica Neue'; stroke:rgb(38,38,38); color-interpolation:linearRGB;\"\n",
       "    ><text x=\"-6\" xml:space=\"preserve\" y=\"3.5\" style=\"stroke:none;\"\n",
       "      >8</text\n",
       "    ></g\n",
       "    ><g transform=\"translate(69,88.1667)\" style=\"font-size:10px; fill:rgb(38,38,38); text-rendering:geometricPrecision; image-rendering:optimizeQuality; color-rendering:optimizeQuality; font-family:'Helvetica Neue'; stroke:rgb(38,38,38); color-interpolation:linearRGB;\"\n",
       "    ><text x=\"-12\" xml:space=\"preserve\" y=\"3.5\" style=\"stroke:none;\"\n",
       "      >10</text\n",
       "    ></g\n",
       "    ><g transform=\"translate(69,31)\" style=\"font-size:10px; fill:rgb(38,38,38); text-rendering:geometricPrecision; image-rendering:optimizeQuality; color-rendering:optimizeQuality; font-family:'Helvetica Neue'; stroke:rgb(38,38,38); color-interpolation:linearRGB;\"\n",
       "    ><text x=\"-12\" xml:space=\"preserve\" y=\"3.5\" style=\"stroke:none;\"\n",
       "      >12</text\n",
       "    ></g\n",
       "    ><g transform=\"translate(54,202.4998) rotate(-90)\" style=\"font-size:11px; fill:rgb(38,38,38); text-rendering:geometricPrecision; image-rendering:optimizeQuality; color-rendering:optimizeQuality; font-family:'Helvetica Neue'; stroke:rgb(38,38,38); color-interpolation:linearRGB;\"\n",
       "    ><text x=\"-13.5\" xml:space=\"preserve\" y=\"-3\" style=\"stroke:none;\"\n",
       "      >|X[m]|</text\n",
       "    ></g\n",
       "    ><g transform=\"translate(290.0003,28.25)\" style=\"font-size:11px; text-rendering:geometricPrecision; image-rendering:optimizeQuality; color-rendering:optimizeQuality; font-family:'Helvetica Neue'; color-interpolation:linearRGB; font-weight:bold;\"\n",
       "    ><text x=\"-79\" xml:space=\"preserve\" y=\"-3\" style=\"stroke:none;\"\n",
       "      >Discrete Frequency Sequence</text\n",
       "    ></g\n",
       "    ><g style=\"stroke-linecap:butt; fill:rgb(38,38,38); text-rendering:geometricPrecision; image-rendering:optimizeQuality; color-rendering:optimizeQuality; stroke-linejoin:round; stroke:rgb(38,38,38); color-interpolation:linearRGB; stroke-width:0.5;\"\n",
       "    ><line y2=\"374\" style=\"fill:none;\" x1=\"73\" x2=\"507\" y1=\"374\"\n",
       "      /><path d=\"M0 -2.75 C1.5188 -2.75 2.75 -1.5188 2.75 0 L2.75 0 C2.75 1.5188 1.5188 2.75 -0 2.75 C-1.5188 2.75 -2.75 1.5188 -2.75 -0 C-2.75 -1.5188 -1.5188 -2.75 0 -2.75 ZM0 -3.25 C-1.7949 -3.25 -3.25 -1.7949 -3.25 -0 C-3.25 1.7949 -1.7949 3.25 -0 3.25 C1.7949 3.25 3.25 1.7949 3.25 0 L3.25 0 C3.25 -1.7949 1.7949 -3.25 0 -3.25 Z\" style=\"fill:rgb(0,114,189); stroke:none;\" transform=\"translate(73,31)\"\n",
       "      /><path d=\"M0 -2.75 C1.5188 -2.75 2.75 -1.5188 2.75 0 L2.75 0 C2.75 1.5188 1.5188 2.75 -0 2.75 C-1.5188 2.75 -2.75 1.5188 -2.75 -0 C-2.75 -1.5188 -1.5188 -2.75 0 -2.75 ZM0 -3.25 C-1.7949 -3.25 -3.25 -1.7949 -3.25 -0 C-3.25 1.7949 -1.7949 3.25 -0 3.25 C1.7949 3.25 3.25 1.7949 3.25 0 L3.25 0 C3.25 -1.7949 1.7949 -3.25 0 -3.25 Z\" style=\"fill:rgb(0,114,189); stroke:none;\" transform=\"translate(101.9333,43.8092)\"\n",
       "      /><path d=\"M0 -2.75 C1.5188 -2.75 2.75 -1.5188 2.75 0 L2.75 0 C2.75 1.5188 1.5188 2.75 -0 2.75 C-1.5188 2.75 -2.75 1.5188 -2.75 -0 C-2.75 -1.5188 -1.5188 -2.75 0 -2.75 ZM0 -3.25 C-1.7949 -3.25 -3.25 -1.7949 -3.25 -0 C-3.25 1.7949 -1.7949 3.25 -0 3.25 C1.7949 3.25 3.25 1.7949 3.25 0 L3.25 0 C3.25 -1.7949 1.7949 -3.25 0 -3.25 Z\" style=\"fill:rgb(0,114,189); stroke:none;\" transform=\"translate(130.8667,75.5447)\"\n",
       "      /><path d=\"M0 -2.75 C1.5188 -2.75 2.75 -1.5188 2.75 0 L2.75 0 C2.75 1.5188 1.5188 2.75 -0 2.75 C-1.5188 2.75 -2.75 1.5188 -2.75 -0 C-2.75 -1.5188 -1.5188 -2.75 0 -2.75 ZM0 -3.25 C-1.7949 -3.25 -3.25 -1.7949 -3.25 -0 C-3.25 1.7949 -1.7949 3.25 -0 3.25 C1.7949 3.25 3.25 1.7949 3.25 0 L3.25 0 C3.25 -1.7949 1.7949 -3.25 0 -3.25 Z\" style=\"fill:rgb(0,114,189); stroke:none;\" transform=\"translate(159.8,323.8192)\"\n",
       "      /><path d=\"M0 -2.75 C1.5188 -2.75 2.75 -1.5188 2.75 0 L2.75 0 C2.75 1.5188 1.5188 2.75 -0 2.75 C-1.5188 2.75 -2.75 1.5188 -2.75 -0 C-2.75 -1.5188 -1.5188 -2.75 0 -2.75 ZM0 -3.25 C-1.7949 -3.25 -3.25 -1.7949 -3.25 -0 C-3.25 1.7949 -1.7949 3.25 -0 3.25 C1.7949 3.25 3.25 1.7949 3.25 0 L3.25 0 C3.25 -1.7949 1.7949 -3.25 0 -3.25 Z\" style=\"fill:rgb(0,114,189); stroke:none;\" transform=\"translate(188.7333,319.5789)\"\n",
       "      /><path d=\"M0 -2.75 C1.5188 -2.75 2.75 -1.5188 2.75 0 L2.75 0 C2.75 1.5188 1.5188 2.75 -0 2.75 C-1.5188 2.75 -2.75 1.5188 -2.75 -0 C-2.75 -1.5188 -1.5188 -2.75 0 -2.75 ZM0 -3.25 C-1.7949 -3.25 -3.25 -1.7949 -3.25 -0 C-3.25 1.7949 -1.7949 3.25 -0 3.25 C1.7949 3.25 3.25 1.7949 3.25 0 L3.25 0 C3.25 -1.7949 1.7949 -3.25 0 -3.25 Z\" style=\"fill:rgb(0,114,189); stroke:none;\" transform=\"translate(217.6667,336.0745)\"\n",
       "      /><path d=\"M0 -2.75 C1.5188 -2.75 2.75 -1.5188 2.75 0 L2.75 0 C2.75 1.5188 1.5188 2.75 -0 2.75 C-1.5188 2.75 -2.75 1.5188 -2.75 -0 C-2.75 -1.5188 -1.5188 -2.75 0 -2.75 ZM0 -3.25 C-1.7949 -3.25 -3.25 -1.7949 -3.25 -0 C-3.25 1.7949 -1.7949 3.25 -0 3.25 C1.7949 3.25 3.25 1.7949 3.25 0 L3.25 0 C3.25 -1.7949 1.7949 -3.25 0 -3.25 Z\" style=\"fill:rgb(0,114,189); stroke:none;\" transform=\"translate(246.6,336.4777)\"\n",
       "      /><path d=\"M0 -2.75 C1.5188 -2.75 2.75 -1.5188 2.75 0 L2.75 0 C2.75 1.5188 1.5188 2.75 -0 2.75 C-1.5188 2.75 -2.75 1.5188 -2.75 -0 C-2.75 -1.5188 -1.5188 -2.75 0 -2.75 ZM0 -3.25 C-1.7949 -3.25 -3.25 -1.7949 -3.25 -0 C-3.25 1.7949 -1.7949 3.25 -0 3.25 C1.7949 3.25 3.25 1.7949 3.25 0 L3.25 0 C3.25 -1.7949 1.7949 -3.25 0 -3.25 Z\" style=\"fill:rgb(0,114,189); stroke:none;\" transform=\"translate(275.5333,331.4907)\"\n",
       "      /><path d=\"M0 -2.75 C1.5188 -2.75 2.75 -1.5188 2.75 0 L2.75 0 C2.75 1.5188 1.5188 2.75 -0 2.75 C-1.5188 2.75 -2.75 1.5188 -2.75 -0 C-2.75 -1.5188 -1.5188 -2.75 0 -2.75 ZM0 -3.25 C-1.7949 -3.25 -3.25 -1.7949 -3.25 -0 C-3.25 1.7949 -1.7949 3.25 -0 3.25 C1.7949 3.25 3.25 1.7949 3.25 0 L3.25 0 C3.25 -1.7949 1.7949 -3.25 0 -3.25 Z\" style=\"fill:rgb(0,114,189); stroke:none;\" transform=\"translate(304.4667,359.7083)\"\n",
       "      /><path d=\"M0 -2.75 C1.5188 -2.75 2.75 -1.5188 2.75 0 L2.75 0 C2.75 1.5188 1.5188 2.75 -0 2.75 C-1.5188 2.75 -2.75 1.5188 -2.75 -0 C-2.75 -1.5188 -1.5188 -2.75 0 -2.75 ZM0 -3.25 C-1.7949 -3.25 -3.25 -1.7949 -3.25 -0 C-3.25 1.7949 -1.7949 3.25 -0 3.25 C1.7949 3.25 3.25 1.7949 3.25 0 L3.25 0 C3.25 -1.7949 1.7949 -3.25 0 -3.25 Z\" style=\"fill:rgb(0,114,189); stroke:none;\" transform=\"translate(333.4,331.4907)\"\n",
       "      /><path d=\"M0 -2.75 C1.5188 -2.75 2.75 -1.5188 2.75 0 L2.75 0 C2.75 1.5188 1.5188 2.75 -0 2.75 C-1.5188 2.75 -2.75 1.5188 -2.75 -0 C-2.75 -1.5188 -1.5188 -2.75 0 -2.75 ZM0 -3.25 C-1.7949 -3.25 -3.25 -1.7949 -3.25 -0 C-3.25 1.7949 -1.7949 3.25 -0 3.25 C1.7949 3.25 3.25 1.7949 3.25 0 L3.25 0 C3.25 -1.7949 1.7949 -3.25 0 -3.25 Z\" style=\"fill:rgb(0,114,189); stroke:none;\" transform=\"translate(362.3333,336.4777)\"\n",
       "      /><path d=\"M0 -2.75 C1.5188 -2.75 2.75 -1.5188 2.75 0 L2.75 0 C2.75 1.5188 1.5188 2.75 -0 2.75 C-1.5188 2.75 -2.75 1.5188 -2.75 -0 C-2.75 -1.5188 -1.5188 -2.75 0 -2.75 ZM0 -3.25 C-1.7949 -3.25 -3.25 -1.7949 -3.25 -0 C-3.25 1.7949 -1.7949 3.25 -0 3.25 C1.7949 3.25 3.25 1.7949 3.25 0 L3.25 0 C3.25 -1.7949 1.7949 -3.25 0 -3.25 Z\" style=\"fill:rgb(0,114,189); stroke:none;\" transform=\"translate(391.2667,336.0745)\"\n",
       "      /><path d=\"M0 -2.75 C1.5188 -2.75 2.75 -1.5188 2.75 0 L2.75 0 C2.75 1.5188 1.5188 2.75 -0 2.75 C-1.5188 2.75 -2.75 1.5188 -2.75 -0 C-2.75 -1.5188 -1.5188 -2.75 0 -2.75 ZM0 -3.25 C-1.7949 -3.25 -3.25 -1.7949 -3.25 -0 C-3.25 1.7949 -1.7949 3.25 -0 3.25 C1.7949 3.25 3.25 1.7949 3.25 0 L3.25 0 C3.25 -1.7949 1.7949 -3.25 0 -3.25 Z\" style=\"fill:rgb(0,114,189); stroke:none;\" transform=\"translate(420.2,319.5789)\"\n",
       "      /><path d=\"M0 -2.75 C1.5188 -2.75 2.75 -1.5188 2.75 0 L2.75 0 C2.75 1.5188 1.5188 2.75 -0 2.75 C-1.5188 2.75 -2.75 1.5188 -2.75 -0 C-2.75 -1.5188 -1.5188 -2.75 0 -2.75 ZM0 -3.25 C-1.7949 -3.25 -3.25 -1.7949 -3.25 -0 C-3.25 1.7949 -1.7949 3.25 -0 3.25 C1.7949 3.25 3.25 1.7949 3.25 0 L3.25 0 C3.25 -1.7949 1.7949 -3.25 0 -3.25 Z\" style=\"fill:rgb(0,114,189); stroke:none;\" transform=\"translate(449.1333,323.8192)\"\n",
       "      /><path d=\"M0 -2.75 C1.5188 -2.75 2.75 -1.5188 2.75 0 L2.75 0 C2.75 1.5188 1.5188 2.75 -0 2.75 C-1.5188 2.75 -2.75 1.5188 -2.75 -0 C-2.75 -1.5188 -1.5188 -2.75 0 -2.75 ZM0 -3.25 C-1.7949 -3.25 -3.25 -1.7949 -3.25 -0 C-3.25 1.7949 -1.7949 3.25 -0 3.25 C1.7949 3.25 3.25 1.7949 3.25 0 L3.25 0 C3.25 -1.7949 1.7949 -3.25 0 -3.25 Z\" style=\"fill:rgb(0,114,189); stroke:none;\" transform=\"translate(478.0667,75.5447)\"\n",
       "      /><path d=\"M0 -2.75 C1.5188 -2.75 2.75 -1.5188 2.75 0 L2.75 0 C2.75 1.5188 1.5188 2.75 -0 2.75 C-1.5188 2.75 -2.75 1.5188 -2.75 -0 C-2.75 -1.5188 -1.5188 -2.75 0 -2.75 ZM0 -3.25 C-1.7949 -3.25 -3.25 -1.7949 -3.25 -0 C-3.25 1.7949 -1.7949 3.25 -0 3.25 C1.7949 3.25 3.25 1.7949 3.25 0 L3.25 0 C3.25 -1.7949 1.7949 -3.25 0 -3.25 Z\" style=\"fill:rgb(0,114,189); stroke:none;\" transform=\"translate(507,43.8092)\"\n",
       "      /><line x1=\"73\" x2=\"73\" y1=\"374\" style=\"fill:none; stroke:rgb(0,114,189);\" y2=\"31\"\n",
       "      /><line x1=\"101.9333\" x2=\"101.9333\" y1=\"374\" style=\"fill:none; stroke:rgb(0,114,189);\" y2=\"43.8092\"\n",
       "      /><line x1=\"130.8667\" x2=\"130.8667\" y1=\"374\" style=\"fill:none; stroke:rgb(0,114,189);\" y2=\"75.5447\"\n",
       "      /><line x1=\"159.8\" x2=\"159.8\" y1=\"374\" style=\"fill:none; stroke:rgb(0,114,189);\" y2=\"323.8192\"\n",
       "      /><line x1=\"188.7333\" x2=\"188.7333\" y1=\"374\" style=\"fill:none; stroke:rgb(0,114,189);\" y2=\"319.5789\"\n",
       "      /><line x1=\"217.6667\" x2=\"217.6667\" y1=\"374\" style=\"fill:none; stroke:rgb(0,114,189);\" y2=\"336.0745\"\n",
       "      /><line x1=\"246.6\" x2=\"246.6\" y1=\"374\" style=\"fill:none; stroke:rgb(0,114,189);\" y2=\"336.4777\"\n",
       "      /><line x1=\"275.5333\" x2=\"275.5333\" y1=\"374\" style=\"fill:none; stroke:rgb(0,114,189);\" y2=\"331.4907\"\n",
       "      /><line x1=\"304.4667\" x2=\"304.4667\" y1=\"374\" style=\"fill:none; stroke:rgb(0,114,189);\" y2=\"359.7083\"\n",
       "      /><line x1=\"333.4\" x2=\"333.4\" y1=\"374\" style=\"fill:none; stroke:rgb(0,114,189);\" y2=\"331.4907\"\n",
       "      /><line x1=\"362.3333\" x2=\"362.3333\" y1=\"374\" style=\"fill:none; stroke:rgb(0,114,189);\" y2=\"336.4777\"\n",
       "      /><line x1=\"391.2667\" x2=\"391.2667\" y1=\"374\" style=\"fill:none; stroke:rgb(0,114,189);\" y2=\"336.0745\"\n",
       "      /><line x1=\"420.2\" x2=\"420.2\" y1=\"374\" style=\"fill:none; stroke:rgb(0,114,189);\" y2=\"319.5789\"\n",
       "      /><line x1=\"449.1333\" x2=\"449.1333\" y1=\"374\" style=\"fill:none; stroke:rgb(0,114,189);\" y2=\"323.8192\"\n",
       "      /><line x1=\"478.0667\" x2=\"478.0667\" y1=\"374\" style=\"fill:none; stroke:rgb(0,114,189);\" y2=\"75.5447\"\n",
       "      /><line x1=\"507\" x2=\"507\" y1=\"374\" style=\"fill:none; stroke:rgb(0,114,189);\" y2=\"43.8092\"\n",
       "      /><line x1=\"73\" x2=\"507\" y1=\"374\" style=\"fill:none; stroke-linecap:square;\" y2=\"374\"\n",
       "      /><line x1=\"73\" x2=\"507\" y1=\"31\" style=\"fill:none; stroke-linecap:square;\" y2=\"31\"\n",
       "      /><line x1=\"73\" x2=\"73\" y1=\"374\" style=\"fill:none; stroke-linecap:square;\" y2=\"369.66\"\n",
       "      /><line x1=\"217.6667\" x2=\"217.6667\" y1=\"374\" style=\"fill:none; stroke-linecap:square;\" y2=\"369.66\"\n",
       "      /><line x1=\"362.3333\" x2=\"362.3333\" y1=\"374\" style=\"fill:none; stroke-linecap:square;\" y2=\"369.66\"\n",
       "      /><line x1=\"507\" x2=\"507\" y1=\"374\" style=\"fill:none; stroke-linecap:square;\" y2=\"369.66\"\n",
       "      /><line x1=\"73\" x2=\"73\" y1=\"31\" style=\"fill:none; stroke-linecap:square;\" y2=\"35.34\"\n",
       "      /><line x1=\"217.6667\" x2=\"217.6667\" y1=\"31\" style=\"fill:none; stroke-linecap:square;\" y2=\"35.34\"\n",
       "      /><line x1=\"362.3333\" x2=\"362.3333\" y1=\"31\" style=\"fill:none; stroke-linecap:square;\" y2=\"35.34\"\n",
       "      /><line x1=\"507\" x2=\"507\" y1=\"31\" style=\"fill:none; stroke-linecap:square;\" y2=\"35.34\"\n",
       "    /></g\n",
       "    ><g transform=\"translate(73,378)\" style=\"font-size:10px; fill:rgb(38,38,38); text-rendering:geometricPrecision; image-rendering:optimizeQuality; color-rendering:optimizeQuality; font-family:'Helvetica Neue'; stroke:rgb(38,38,38); color-interpolation:linearRGB;\"\n",
       "    ><text x=\"-3\" xml:space=\"preserve\" y=\"10\" style=\"stroke:none;\"\n",
       "      >0</text\n",
       "    ></g\n",
       "    ><g transform=\"translate(217.6667,378)\" style=\"font-size:10px; fill:rgb(38,38,38); text-rendering:geometricPrecision; image-rendering:optimizeQuality; color-rendering:optimizeQuality; font-family:'Helvetica Neue'; stroke:rgb(38,38,38); color-interpolation:linearRGB;\"\n",
       "    ><text x=\"-3\" xml:space=\"preserve\" y=\"10\" style=\"stroke:none;\"\n",
       "      >5</text\n",
       "    ></g\n",
       "    ><g transform=\"translate(362.3333,378)\" style=\"font-size:10px; fill:rgb(38,38,38); text-rendering:geometricPrecision; image-rendering:optimizeQuality; color-rendering:optimizeQuality; font-family:'Helvetica Neue'; stroke:rgb(38,38,38); color-interpolation:linearRGB;\"\n",
       "    ><text x=\"-6\" xml:space=\"preserve\" y=\"10\" style=\"stroke:none;\"\n",
       "      >10</text\n",
       "    ></g\n",
       "    ><g transform=\"translate(507,378)\" style=\"font-size:10px; fill:rgb(38,38,38); text-rendering:geometricPrecision; image-rendering:optimizeQuality; color-rendering:optimizeQuality; font-family:'Helvetica Neue'; stroke:rgb(38,38,38); color-interpolation:linearRGB;\"\n",
       "    ><text x=\"-6\" xml:space=\"preserve\" y=\"10\" style=\"stroke:none;\"\n",
       "      >15</text\n",
       "    ></g\n",
       "    ><g transform=\"translate(290.0002,392)\" style=\"font-size:11px; fill:rgb(38,38,38); text-rendering:geometricPrecision; image-rendering:optimizeQuality; color-rendering:optimizeQuality; font-family:'Helvetica Neue'; stroke:rgb(38,38,38); color-interpolation:linearRGB;\"\n",
       "    ><text x=\"-5\" xml:space=\"preserve\" y=\"11\" style=\"stroke:none;\"\n",
       "      >m</text\n",
       "    ></g\n",
       "  ></g\n",
       "></svg\n",
       ">\n"
      ]
     },
     "metadata": {
      "filenames": {
       "image/svg+xml": "/Users/eechris/code/src/github.com/cpjobling/eg-247-textbook/_build/jupyter_execute/dft/1/dft_62_0.svg"
      }
     },
     "output_type": "display_data"
    }
   ],
   "source": [
    "stem([0:15],abs(Xm)),xlabel('m'),ylabel('|X[m]|'),title('Discrete Frequency Sequence')"
   ]
  },
  {
   "cell_type": "markdown",
   "id": "1dbfe446",
   "metadata": {
    "slideshow": {
     "slide_type": "notes"
    }
   },
   "source": [
    "Points to note: \n",
    "\n",
    "* $X[0] = 12$ is the DC component of the DT sequence.\n",
    "* After the $|X[8]| = 1.4872$ term, the magnitude of the frequency values for the range $9 <= m \\le 15$ are the mirror image of the values for the range $0 <= m <= 7$.\n",
    "* This is not a coincidence, in fact if $x[n]$ is an N-point *real discrete time function*, only $N/2$ of the *frequency components* of $|X[m]|$ *are unique*."
   ]
  },
  {
   "cell_type": "markdown",
   "id": "16e7bc43",
   "metadata": {
    "slideshow": {
     "slide_type": "slide"
    }
   },
   "source": [
    "## Even and Odd Properties of the DFT\n",
    "\n",
    "The discrete time and discrete frequency functions are defined as *even* or *odd* in according to the following relations:\n",
    "\n",
    "Even time function: $f[N - n] = f[n]$\n",
    "\n",
    "Odd time function: $f[N - n] = -f[n]$\n",
    "\n",
    "Even frequency function: $F[N - m] = F[m]$\n",
    "\n",
    "Odd frequency function: $F[N - m] = -F[m]$"
   ]
  },
  {
   "cell_type": "markdown",
   "id": "c0019ff5",
   "metadata": {
    "slideshow": {
     "slide_type": "subslide"
    }
   },
   "source": [
    "Even and odd properties of the DFT\n",
    "\n",
    "<table>\n",
    "<thead>\n",
    "<tr><td>Discrete time sequence $f[n]$ </td><td> Discrete frequency sequence $F[m]$ </td></tr>\n",
    "</thead>\n",
    "<tbody>\n",
    "<tr>\n",
    "    <td>Real</td><td>Complex<br>Real part is Even<br>Imaginary part is Odd</td>\n",
    "</tr>\n",
    "<tr>\n",
    "    <td>Real and Even</td><td>Real and Even</td>\n",
    "</tr>\n",
    "<tr>\n",
    "    <td>Real and Odd</td><td>Imaginary and Even</td>\n",
    "</tr>\n",
    "<tr>\n",
    "    <td>Imaginary</td><td>Complex<br>Real part is Odd<br>Imaginary part is Even</td>\n",
    "</tr>\n",
    "<tr>\n",
    "    <td>Imaginary and Even</td><td>Imaginary and Even</td>\n",
    "</tr>\n",
    "<tr>\n",
    "    <td>Imaginary and Odd</td><td>Real and Odd</td>\n",
    "</tr>\n",
    "</tbody>\n",
    "</table>"
   ]
  },
  {
   "cell_type": "markdown",
   "id": "7be81698",
   "metadata": {
    "slideshow": {
     "slide_type": "notes"
    }
   },
   "source": [
    "It is not difficult to prove these by expanding \n",
    "\n",
    "$$X[m] = \\sum_{n=0}^{N-1} x[n]W_N^{mn}$$\n",
    "\n",
    "into its real and imaginary parts using Euler's identity and considering the cosine (even) and sine (odd) terms that result."
   ]
  },
  {
   "cell_type": "markdown",
   "id": "1e677a82",
   "metadata": {
    "slideshow": {
     "slide_type": "subslide"
    }
   },
   "source": [
    "## Common Properties and Theorems of the DFT\n",
    "\n",
    "We denote the DFT and inverse DFT using as follows:\n",
    "\n",
    "$$X[m] = \\mathcal{D}\\left\\{x[n]\\right\\}$$\n",
    "\n",
    "and\n",
    "\n",
    "$$x[n] = \\mathcal{D}^{-1}\\left\\{X[m]\\right\\}$$\n",
    "\n",
    "\n",
    "We then state the following useful properties. For proofs, see Karris, 10.3. **Not examined.**"
   ]
  },
  {
   "cell_type": "markdown",
   "id": "86411ded",
   "metadata": {
    "slideshow": {
     "slide_type": "subslide"
    }
   },
   "source": [
    "### Linearity\n",
    "\n",
    "$$a x_1[n] + b x_2[n] + \\cdots \\Leftrightarrow a X_1[m] + b X_2[m] + \\cdots$$"
   ]
  },
  {
   "cell_type": "markdown",
   "id": "7eb55857",
   "metadata": {
    "slideshow": {
     "slide_type": "subslide"
    }
   },
   "source": [
    "### Time-shift\n",
    "\n",
    "$$x[n-k] \\Leftrightarrow W_n^{km} X[m]$$"
   ]
  },
  {
   "cell_type": "markdown",
   "id": "46ab9954",
   "metadata": {
    "slideshow": {
     "slide_type": "subslide"
    }
   },
   "source": [
    "### Frequency shift\n",
    "\n",
    "$$W_n^{-km} x[n] \\Leftrightarrow X[m-k]$$"
   ]
  },
  {
   "cell_type": "markdown",
   "id": "0a61e6a3",
   "metadata": {
    "slideshow": {
     "slide_type": "subslide"
    }
   },
   "source": [
    "### Time convolution\n",
    "\n",
    "$$x[n]*h[n] \\Leftrightarrow X[m] H[m]$$"
   ]
  },
  {
   "cell_type": "markdown",
   "id": "7b50702a",
   "metadata": {
    "slideshow": {
     "slide_type": "subslide"
    }
   },
   "source": [
    "### Frequency convolution\n",
    "\n",
    "$$x[n]y[n] \\Leftrightarrow \\frac{1}{N}\\sum_{k=0}^{N-1} X[k] Y[m - k] \\Leftrightarrow X[m] * Y[m]$$"
   ]
  },
  {
   "cell_type": "markdown",
   "id": "c38a37fd",
   "metadata": {
    "slideshow": {
     "slide_type": "slide"
    }
   },
   "source": [
    "## Sampling Theorem, Windows, and the Picket Fence Effect\n",
    "\n",
    "See notes"
   ]
  },
  {
   "cell_type": "markdown",
   "id": "d9fe3fb4",
   "metadata": {
    "slideshow": {
     "slide_type": "notes"
    }
   },
   "source": [
    "### Sampling Theorem\n",
    "\n",
    "The *sampling theorem* known as *Nyquist/Shannon's Sampling Theorem* (see [wp>Nyquist/Shannon Sampling Theorem](https://en.wikipedia.org/wiki/Nyquist%E2%80%93Shannon_sampling_theorem)), states that *if a continuous time function, $f(t)$ is band-limited with its highest frequency component less that $W$, then $f(t)$ can be completely recovered from its sampled values, $f[n]$, f the sampling frequency is equal or greater than $2W$.\n",
    "\n",
    "For example, say the highest frequency component in a signal is 18 kHz, this signal must be sampled at $2 \\times 18 = 36$ kHz or higher so that it can be completely specified by its sampled values. If the sampled frequency remains the same, i.e., 36 kHz, and the highest frequency in the signal is increased, to say 25 kHz, this signal cannot be recovered by a Digital to Analogue Converter (DAC).\n",
    "\n",
    "Since many real signals are not band limited, a typical digital signal processing system will include a low-pass filter, often called a *pre-sampling-filter* or simply a *pre-filter*, to ensure that the highest frequency signal allowed into the system will be equal or less than the sampling frequency so that the signal can be recovered. The highest frequency allowed in the system is referred to as the Nyquist frequency denoted as $f_n$.\n",
    "\n",
    "If the signal is not band limited, or the sampling frequency is too low, the spectral components of the signal will overlap each other and this is called *aliasing*. To avoid aliasing, we must increase the sampling rate.\n",
    "\n",
    "### Windowing\n",
    "\n",
    "A DT signal may have an infinite length; in this case it must be limited to a finite interval before it is sampled. We can terminate the signal at a defined number of terms by multiplying it by a *window function*. There are several window functions that are used in practice such as the *rectangular*, *triangular*, *Hanning*, *Hamming*, *Kaiser*, etc. Window functions, and their design, are outside the scope of this module, but are discussed in Appendix E of Karris.\n",
    "\n",
    "All I will say here is that the window function must be carefully chosen to avoid the signal being terminated too abrubtly and causing *leakage* -- that is a spread of the spectrum outside the bounds imposed by the window.\n",
    "\n",
    "### Picket fence\n",
    "\n",
    "A third problem introduced by the DFT is the fact that as the spectrum of the DFT is not continuous, important frequencies may fall between spectrum lines and therefore not be detected. This is called the picket fence effect, named after the white fences seen in the suburbs in US movies. A way round this is to pad the signal with zeros so that the effective period changes and therefore changes the locations of the spectral lines.\n",
    "\n",
    "You should remember that the sampling theorem states under what conditions a signal may be recovered. It does not guarantee that all significant frequencies will be present in the sampled signal."
   ]
  },
  {
   "cell_type": "markdown",
   "id": "91a19048",
   "metadata": {
    "slideshow": {
     "slide_type": "slide"
    }
   },
   "source": [
    "## A summary of the important features of sampling and the DFT\n",
    "\n",
    "* $N$ is the number of samples in frequency.\n",
    "* $f_s$ sampling frequency, samples per seconds.\n",
    "* $T_t$ period of a periodic DT function.\n",
    "* $t_s$ interval between the $N$ samples in time period $T_t$.\n",
    "* $f_f$ period of a periodic DF function.\n",
    "* $F_s$ interval between the $N$ samples in frequency period $T_f$."
   ]
  },
  {
   "cell_type": "markdown",
   "id": "2238e6ee",
   "metadata": {
    "slideshow": {
     "slide_type": "subslide"
    }
   },
   "source": [
    "The relationships between these quantities are:\n",
    "\n",
    "$$t_t = \\frac{T_t}{N}$$\n",
    "\n",
    "$$f_s = \\frac{1}{t_t}$$\n",
    "\n",
    "$$t_f = \\frac{T_f}{N}$$"
   ]
  },
  {
   "cell_type": "markdown",
   "id": "1ff6a77e",
   "metadata": {
    "slideshow": {
     "slide_type": "subslide"
    }
   },
   "source": [
    "$$t_t = \\frac{1}{T_f}$$\n",
    "\n",
    "$$f_f = \\frac{1}{T_t}$$\n",
    "\n",
    "We will add these quantities to the results of Example 4 in class."
   ]
  },
  {
   "cell_type": "markdown",
   "id": "bfd797db",
   "metadata": {
    "slideshow": {
     "slide_type": "notes"
    }
   },
   "source": [
    "### Example 4 (continued)\n",
    "\n",
    "![Example 4](./pictures/repeat.png)\n",
    "\n",
    "To reproduce this plot use [repeat.m](https://cpjobling.github.io/eg-247-textbook/dft/1/matlab/repeat.m)."
   ]
  },
  {
   "cell_type": "markdown",
   "id": "085360bb",
   "metadata": {
    "slideshow": {
     "slide_type": "slide"
    }
   },
   "source": [
    "### In Class Example 5\n",
    "\n",
    "The period of a periodic DT function is 0.125 ms and it is sampled at 1024 equally spaced points. It is assumed that with this number of samples, the sampling theorem is satisfied and thus there will be no aliasing.\n",
    "\n",
    "1. Compute the interval $t_t$ between samples for the periodic signal \n",
    "1. Compute the period $T_f$ of the frequency spectrum in kHz\n",
    "2. Compute the interval $t_f$ between frequency components in kHz\n",
    "3. Compute the sampling frequency $f_s$.\n",
    "4. Compute the Nyquist frequency $f_n$."
   ]
  },
  {
   "cell_type": "markdown",
   "id": "451c58a7",
   "metadata": {
    "slideshow": {
     "slide_type": "notes"
    }
   },
   "source": [
    "### Solution\n",
    "\n",
    "To be done in class.\n",
    "\n",
    "*  Compute the interval $t_t$ between samples for the periodic signal \n",
    "\n",
    "<pre style=\"border: 2px solid blue\">\n",
    "\n",
    "\n",
    "\n",
    "\n",
    "\n",
    "\n",
    "\n",
    "\n",
    "\n",
    "</pre>\n",
    "\n",
    "* Compute the period of the frequency spectrum $T_f$ in kHz\n",
    "\n",
    "<pre style=\"border: 2px solid blue\">\n",
    "\n",
    "\n",
    "\n",
    "\n",
    "\n",
    "\n",
    "\n",
    "\n",
    "\n",
    "</pre>\n",
    "\n",
    "* Compute the interval $t_f$ between frequency components in kHz\n",
    "\n",
    "<pre style=\"border: 2px solid blue\">\n",
    "\n",
    "\n",
    "\n",
    "\n",
    "\n",
    "\n",
    "\n",
    "\n",
    "\n",
    "</pre>\n",
    "\n",
    "* Compute the sampling frequency $f_s$.\n",
    "\n",
    "<pre style=\"border: 2px solid blue\">\n",
    "\n",
    "\n",
    "\n",
    "\n",
    "\n",
    "\n",
    "\n",
    "\n",
    "\n",
    "</pre>\n",
    "\n",
    "* Compute the Nyquist frequency $f_n$.\n",
    "\n",
    "<pre style=\"border: 2px solid blue\">\n",
    "\n",
    "\n",
    "\n",
    "\n",
    "\n",
    "\n",
    "\n",
    "\n",
    "\n",
    "</pre>"
   ]
  },
  {
   "cell_type": "markdown",
   "id": "0ce5741c",
   "metadata": {
    "slideshow": {
     "slide_type": "slide"
    }
   },
   "source": [
    "## Summary\n",
    "\n",
    "* The discrete time fourier transform\n",
    "* Even and Odd Properties of the DFT\n",
    "* Common Properties and Theorems of the DFT\n",
    "* Sampling Theorem, Windows, and the Picket Fence Effect"
   ]
  },
  {
   "cell_type": "markdown",
   "id": "5a2cf1f9",
   "metadata": {
    "slideshow": {
     "slide_type": "subslide"
    }
   },
   "source": [
    "*Next session*\n",
    "\n",
    "* The [Fast Fourier Transform](../2/fft)\n",
    "\n",
    "(without the mathematics)"
   ]
  },
  {
   "cell_type": "markdown",
   "id": "66c98d9f",
   "metadata": {
    "slideshow": {
     "slide_type": "subslide"
    }
   },
   "source": [
    "## Homework\n",
    "\n",
    "Try Exercise 1 and Exercise 2 in Karris 10.8 by hand."
   ]
  },
  {
   "cell_type": "markdown",
   "id": "d761a984",
   "metadata": {
    "slideshow": {
     "slide_type": "notes"
    }
   },
   "source": [
    "For the exam, I wouldn't expect you to compute the whole sequence for a signal with more than 8 samples. A thorough understanding of the $W_N^nm$ notation is needed and familiarity with the angle wheel (e.g as for $W_8^n$ in Example 3) will be advantageous."
   ]
  },
  {
   "cell_type": "markdown",
   "id": "dd469ae3",
   "metadata": {
    "slideshow": {
     "slide_type": "notes"
    }
   },
   "source": [
    "## References\n",
    "\n",
    "See [Bibliography](/zbib)."
   ]
  },
  {
   "cell_type": "markdown",
   "id": "40911490",
   "metadata": {
    "slideshow": {
     "slide_type": "notes"
    }
   },
   "source": [
    "## Answers to selcted exercises\n",
    "\n",
    "### Example 1\n",
    "\n",
    "$$\\begin{eqnarray*}\n",
    "  X(0) &=& 6 \\\\ \n",
    "  X(1) &=&  - 1 - j \\\\ \n",
    "  X(2) &=& 0 \\\\ \n",
    "  X(3) &=&  - 1 + j \\\\ \n",
    "\\end{eqnarray*} $$\n",
    "\n",
    "\n",
    "### Example 3\n",
    "\n",
    "$$W_8 = \\left[ 1, \\frac{1}{\\sqrt{2}}+j\\frac{1}{\\sqrt{2}}, j, -\\frac{1}{\\sqrt{2}}+j\\frac{1}{\\sqrt{2}}, -1, -\\frac{1}{\\sqrt{2}}-j\\frac{1}{\\sqrt{2}}, -j, \\frac{1}{\\sqrt{2}}-j\\frac{1}{\\sqrt{2}} \\right]$$\n",
    "\n",
    "### Example 5\n",
    "\n",
    "1. $t_t = 0.122$ $\\mu$s\n",
    "2. $T_f = 1/t_t = 8192$ kHz (8.2 Mhz)\n",
    "2. $t_f = T_f/N = 8$ kHz\n",
    "3. $f_s = 1/t_t$ = 8.2 Mhz\n",
    "4. $f_n \\le F_s/2 \\le 4.1$ Mhz"
   ]
  }
 ],
 "metadata": {
  "jupytext": {
   "formats": "ipynb,md:myst",
   "text_representation": {
    "extension": ".md",
    "format_name": "myst",
    "format_version": 0.13,
    "jupytext_version": "1.11.5"
   }
  },
  "kernelspec": {
   "display_name": "MATLAB",
   "language": "matlab",
   "name": "imatlab"
  },
  "language_info": {
   "codemirror_mode": "octave",
   "file_extension": ".m",
   "mimetype": "text/x-matlab",
   "name": "matlab",
   "nbconvert_exporter": "imatlab._exporter.MatlabExporter",
   "pygments_lexer": "matlab",
   "version": "9.11.0.1769968 (R2021b)"
  },
  "source_map": [
   15,
   19,
   31,
   37,
   41,
   45,
   49,
   53,
   57,
   65,
   75,
   79,
   90,
   100,
   106,
   114,
   120,
   124,
   128,
   134,
   140,
   144,
   152,
   160,
   164,
   172,
   182,
   188,
   194,
   202,
   206,
   216,
   267,
   310,
   327,
   333,
   374,
   378,
   388,
   392,
   400,
   406,
   412,
   420,
   428,
   436,
   444,
   452,
   462,
   472,
   479,
   533,
   541,
   549,
   553,
   572,
   576,
   595,
   613,
   625,
   635,
   643,
   651,
   659,
   667,
   681,
   711,
   719,
   734,
   740,
   746,
   752,
   758,
   764,
   770,
   794,
   805,
   815,
   823,
   831,
   843,
   919,
   928,
   936,
   942,
   946,
   952
  ]
 },
 "nbformat": 4,
 "nbformat_minor": 5
}