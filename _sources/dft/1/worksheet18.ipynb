{
 "cells": [
  {
   "cell_type": "markdown",
   "id": "3cf69f63",
   "metadata": {
    "slideshow": {
     "slide_type": "slide"
    }
   },
   "source": [
    "# Worksheet 18 \n",
    "\n",
    "## To accompany Chapter 7.1 The Discrete Fourier Transform"
   ]
  },
  {
   "cell_type": "markdown",
   "id": "81ba194e",
   "metadata": {
    "slideshow": {
     "slide_type": "notes"
    }
   },
   "source": [
    "We will step through this worksheet in class. \n",
    "\n",
    "You are expected to have at least watched the video presentation of [Chapter 7.1](dft) of the [notes](https://cpjobling.github.io/eg-247-textbook/) before coming to class. \n",
    "\n",
    "If you haven't watch it afterwards!"
   ]
  },
  {
   "cell_type": "markdown",
   "id": "68e23c9d",
   "metadata": {
    "slideshow": {
     "slide_type": "subslide"
    }
   },
   "source": [
    "### List of Abbreviations\n",
    "\n",
    "* CT -- Continuous Time\n",
    "* DT -- Discrete Time\n",
    "* DF - Discrete frequency\n",
    "* DFT -- Discrete (Time) Fourier Transform\n",
    "* FFT -- Fast Fourier Transform"
   ]
  },
  {
   "cell_type": "markdown",
   "id": "fcb580ad",
   "metadata": {
    "slideshow": {
     "slide_type": "subslide"
    }
   },
   "source": [
    "### Notation\n",
    "\n",
    "In the following we shall denote a DT signal as $x[n]$ and its discrete frequency function as $X[m]$."
   ]
  },
  {
   "cell_type": "markdown",
   "id": "024d5144",
   "metadata": {
    "slideshow": {
     "slide_type": "slide"
    }
   },
   "source": [
    "## Z-Transform\n",
    "\n",
    "Recall that\n",
    "\n",
    "$$F(z) = \\mathcal{Z} f[n] = \\sum_{n=0}^{\\infty} f[n]z^{-n}.$$"
   ]
  },
  {
   "cell_type": "markdown",
   "id": "c5232b41",
   "metadata": {
    "slideshow": {
     "slide_type": "subslide"
    }
   },
   "source": [
    "The value of this function on the unit circle in the Z-plane will be\n",
    "\n",
    "$$F\\left(\\exp\\left({j\\omega T}\\right)\\right) = \\sum_{n=0}^{\\infty} f[n]\\exp\\left({-jn \\omega T}\\right).$$"
   ]
  },
  {
   "cell_type": "markdown",
   "id": "170d92ab",
   "metadata": {
    "slideshow": {
     "slide_type": "fragment"
    }
   },
   "source": [
    "This is an infinite sum.  So to compute it, we need to truncate it."
   ]
  },
  {
   "cell_type": "markdown",
   "id": "776e828e",
   "metadata": {
    "slideshow": {
     "slide_type": "slide"
    }
   },
   "source": [
    "## The Discrete-time Fourier Transform"
   ]
  },
  {
   "cell_type": "markdown",
   "id": "9f70fae6",
   "metadata": {
    "slideshow": {
     "slide_type": "fragment"
    }
   },
   "source": [
    "Let's assume that instead of an infinite number of points, we have $N$ points, equally distributed around the unit circle, then the truncated version will be:\n",
    "\n",
    "$$X[m] =  \\sum_{n=0}^{N-1} x[n]\\exp\\left({-j2\\pi \\frac{m n}{N}}\\right)$$"
   ]
  },
  {
   "cell_type": "markdown",
   "id": "930dcf6e",
   "metadata": {
    "slideshow": {
     "slide_type": "subslide"
    }
   },
   "source": [
    "where\n",
    "\n",
    "$$\\omega  = \\left( {\\frac{2\\pi}{N}} \\right)nm$$"
   ]
  },
  {
   "cell_type": "markdown",
   "id": "5f1b54e8",
   "metadata": {
    "slideshow": {
     "slide_type": "fragment"
    }
   },
   "source": [
    "and $m = 0,1,2,\\ldots, N-1$ and $n = 0,1,2,\\ldots, N-1$."
   ]
  },
  {
   "cell_type": "markdown",
   "id": "96a04e11",
   "metadata": {
    "slideshow": {
     "slide_type": "subslide"
    }
   },
   "source": [
    "We refer to the equation \n",
    "\n",
    "$$X[m] =  \\sum_{n=0}^{N-1} x[n]\\exp\\left({-j2\\pi \\frac{m n}{N}}\\right)$$\n",
    "\n",
    "as the N-point Discrete-time Fourier Transform (DFT) of $x[n]$."
   ]
  },
  {
   "cell_type": "markdown",
   "id": "2e3dff2f",
   "metadata": {
    "slideshow": {
     "slide_type": "subslide"
    }
   },
   "source": [
    "The inverse DFT is defined as\n",
    "\n",
    "$$x[n] =  \\frac{1}{N} \\sum_{m=0}^{N-1} X[m]\\exp\\left({j2\\pi \\frac{m n}{N}}\\right)$$\n",
    "\n",
    "for $n = 0,1,2,\\ldots, N-1$."
   ]
  },
  {
   "cell_type": "markdown",
   "id": "0314d08c",
   "metadata": {
    "slideshow": {
     "slide_type": "fragment"
    }
   },
   "source": [
    "Note the symmetry of the DFT and the Inverse DFT!"
   ]
  },
  {
   "cell_type": "markdown",
   "id": "e4064c38",
   "metadata": {
    "slideshow": {
     "slide_type": "subslide"
    }
   },
   "source": [
    "In general, the DFT is complex, and thus it can be expressed as\n",
    "\n",
    "$$X[m] = \\Re\\left\\{X[m]\\right\\} + \\Im\\left\\{X[m]\\right\\}$$\n",
    "\n",
    "for $m = 0,1,2,\\ldots,N-1$."
   ]
  },
  {
   "cell_type": "markdown",
   "id": "2966bfd5",
   "metadata": {
    "slideshow": {
     "slide_type": "subslide"
    }
   },
   "source": [
    "Since\n",
    "\n",
    "$$\\exp\\left({-j2\\pi \\frac{m n}{N}}\\right) = \\cos\\left(2\\pi\\frac{m n}{N}\\right) - j\\sin\\left(2\\pi \\frac{m n}{N}\\right)$$\n",
    "\n",
    "the DFT can be expresssed as\n",
    "\n",
    "$$X[m] =  \\sum_{n=0}^{N-1} x[n]\\exp\\left({-j2\\pi \\frac{m n}{N}}\\right) = \\sum_{n=0}^{N-1}x[n]\\cos\\left(2\\pi \\frac{m n}{N}\\right) - j\\sum_{n=0}^{N-1}x[n]\\sin\\left(2\\pi\\frac{ m n}{N}\\right).$$"
   ]
  },
  {
   "cell_type": "markdown",
   "id": "7e1d1e48",
   "metadata": {
    "slideshow": {
     "slide_type": "subslide"
    }
   },
   "source": [
    "For $n=0$ this reduces to \n",
    "\n",
    "$$X[m] = x[0].$$"
   ]
  },
  {
   "cell_type": "markdown",
   "id": "df6d5024",
   "metadata": {
    "slideshow": {
     "slide_type": "subslide"
    }
   },
   "source": [
    "Then the real part of $X[m]$ is\n",
    "\n",
    "$$\\Re \\left\\{ {X[m]} \\right\\} = x[0] + \\sum\\limits_{n = 1}^{N - 1} x [n]\\cos \\left( 2\\pi \\frac{mn}{N} \\right)\\quad {\\text{for}}\\quad m = 0,1,2, \\ldots ,N - 1$$"
   ]
  },
  {
   "cell_type": "markdown",
   "id": "af4fb41d",
   "metadata": {
    "slideshow": {
     "slide_type": "subslide"
    }
   },
   "source": [
    "and the imaginary part is\n",
    "\n",
    "$$\n",
    " \\Im \\left\\{ {X[m]} \\right\\} = - \\sum\\limits_{n = 1}^{N - 1} x [n]\\sin \\left( 2\\pi \\frac{mn}{N} \\right)\\quad  {\\text{for}}\\quad m = 0,1,2, \\ldots ,N - 1.\n",
    "$$"
   ]
  },
  {
   "cell_type": "markdown",
   "id": "1de69c35",
   "metadata": {
    "slideshow": {
     "slide_type": "notes"
    }
   },
   "source": [
    "Note that the summations are from 1 to $N-1$ because $n=0$ is covered in the real term, and as $x[0]$ is real, it is zero in the corresponding imaginary term."
   ]
  },
  {
   "cell_type": "markdown",
   "id": "fe3f7895",
   "metadata": {
    "slideshow": {
     "slide_type": "slide"
    }
   },
   "source": [
    "### In Class Example 1\n",
    "\n",
    "A discrete time signal is defined by the sequence \n",
    "\n",
    "$x[0] = 1$, $x[1] = 2$, $x[2] = 2$, $x[3] = 1$, \n",
    "and $x[n]=0$ for all other values of $n$. \n",
    "\n",
    "Compute the frequency components $X[m]$."
   ]
  },
  {
   "cell_type": "markdown",
   "id": "3c9e7619",
   "metadata": {
    "slideshow": {
     "slide_type": "notes"
    }
   },
   "source": [
    "### Solution 1\n",
    "\n",
    "* Compute the $N$ point DFT for $\\Re\\left\\{X[m]\\right\\}$.\n",
    "\n",
    "<pre style=\"border: 2px solid blue\">\n",
    "\n",
    "\n",
    "\n",
    "\n",
    "\n",
    "\n",
    "\n",
    "\n",
    "\n",
    "\n",
    "\n",
    "\n",
    "\n",
    "\n",
    "\n",
    "\n",
    "\n",
    "\n",
    "\n",
    "</pre>\n",
    "\n",
    "* Compute the four point DFT for $\\Im\\left\\{X[m]\\right\\}$.\n",
    "\n",
    "<pre style=\"border: 2px solid blue\">\n",
    "\n",
    "\n",
    "\n",
    "\n",
    "\n",
    "\n",
    "\n",
    "\n",
    "\n",
    "\n",
    "\n",
    "\n",
    "\n",
    "\n",
    "\n",
    "\n",
    "\n",
    "\n",
    "\n",
    "</pre>\n",
    "\n",
    "* Add these together to find $X[m]$.\n",
    "\n",
    "<pre style=\"border: 2px solid blue\">\n",
    "\n",
    "\n",
    "\n",
    "\n",
    "\n",
    "\n",
    "\n",
    "\n",
    "\n",
    "\n",
    "\n",
    "\n",
    "\n",
    "\n",
    "\n",
    "\n",
    "\n",
    "\n",
    "\n",
    "</pre>"
   ]
  },
  {
   "cell_type": "markdown",
   "id": "2747d7e1",
   "metadata": {
    "slideshow": {
     "slide_type": "slide"
    }
   },
   "source": [
    "### In Class Example 2\n",
    "\n",
    "Use the inverse DFT to compute the discrete-time sequence $x[n]$ from $X[m]$."
   ]
  },
  {
   "cell_type": "markdown",
   "id": "0d536ca3",
   "metadata": {
    "slideshow": {
     "slide_type": "notes"
    }
   },
   "source": [
    "### Solution 2\n",
    "\n",
    "* Write down the expression $x[n]$ in terms of $X[m]$.\n",
    "\n",
    "<pre style=\"border: 2px solid blue\">\n",
    "\n",
    "\n",
    "\n",
    "\n",
    "\n",
    "\n",
    "\n",
    "\n",
    "\n",
    "\n",
    "\n",
    "\n",
    "\n",
    "\n",
    "\n",
    "\n",
    "\n",
    "\n",
    "\n",
    "</pre>\n",
    "\n",
    "* Compute $x[0]$ from this result.\n",
    "\n",
    "<pre style=\"border: 2px solid blue\">\n",
    "\n",
    "\n",
    "\n",
    "\n",
    "\n",
    "\n",
    "\n",
    "\n",
    "\n",
    "\n",
    "\n",
    "\n",
    "\n",
    "\n",
    "\n",
    "\n",
    "\n",
    "\n",
    "\n",
    "</pre>\n",
    "\n",
    "* Repeat for $x[1]$, $x[2]$ and $x[3]$.\n",
    "\n",
    "<pre style=\"border: 2px solid blue\">\n",
    "\n",
    "\n",
    "\n",
    "\n",
    "\n",
    "\n",
    "\n",
    "\n",
    "\n",
    "\n",
    "\n",
    "\n",
    "\n",
    "\n",
    "\n",
    "\n",
    "\n",
    "\n",
    "\n",
    "</pre>"
   ]
  },
  {
   "cell_type": "markdown",
   "id": "a519e5a0",
   "metadata": {
    "slideshow": {
     "slide_type": "subslide"
    }
   },
   "source": [
    "### Simulink model of the DFT"
   ]
  },
  {
   "cell_type": "code",
   "execution_count": null,
   "id": "d762a902",
   "metadata": {
    "slideshow": {
     "slide_type": "fragment"
    }
   },
   "outputs": [],
   "source": [
    "cd matlab\n",
    "pwd"
   ]
  },
  {
   "cell_type": "markdown",
   "id": "19b201ae",
   "metadata": {
    "slideshow": {
     "slide_type": "notes"
    }
   },
   "source": [
    "See [dft_ex10_1.slx](https://cpjobling.github.io/eg-247-textbook/dft/1/matlab/dft_ex10_1.slx)"
   ]
  },
  {
   "cell_type": "code",
   "execution_count": null,
   "id": "aa78f8a4",
   "metadata": {
    "slideshow": {
     "slide_type": "fragment"
    }
   },
   "outputs": [],
   "source": [
    "dft_ex10_1"
   ]
  },
  {
   "cell_type": "markdown",
   "id": "b4a64683",
   "metadata": {
    "slideshow": {
     "slide_type": "notes"
    }
   },
   "source": [
    "![Simulink Model of DFT](pictures/dft_10_1.png)\n",
    "\n",
    "Try inputting your student number."
   ]
  },
  {
   "cell_type": "markdown",
   "id": "4714525f",
   "metadata": {
    "slideshow": {
     "slide_type": "subslide"
    }
   },
   "source": [
    "### MATLAB model of the DFT\n",
    "\n",
    "Karris Example 10.1. To successfully run this script you will need to download the functions [dft.m](https://cpjobling.github.io/eg-247-textbook/dft/1/matlab/dft.m) and [idft.m](https://cpjobling.github.io/eg-247-textbook/dft/1/matlab/idft.m) and make them available on your `MATLABPATH`."
   ]
  },
  {
   "cell_type": "code",
   "execution_count": null,
   "id": "b4cf35dc",
   "metadata": {
    "slideshow": {
     "slide_type": "fragment"
    }
   },
   "outputs": [],
   "source": [
    "xn = [2 0 0 8 9 7 5 0];"
   ]
  },
  {
   "cell_type": "code",
   "execution_count": null,
   "id": "4fb537e3",
   "metadata": {
    "slideshow": {
     "slide_type": "fragment"
    }
   },
   "outputs": [],
   "source": [
    "open dft"
   ]
  },
  {
   "cell_type": "code",
   "execution_count": null,
   "id": "89cd3fd0",
   "metadata": {
    "slideshow": {
     "slide_type": "fragment"
    }
   },
   "outputs": [],
   "source": [
    "Xm = dft(xn,8)"
   ]
  },
  {
   "cell_type": "code",
   "execution_count": null,
   "id": "dbd5d1ad",
   "metadata": {
    "slideshow": {
     "slide_type": "subslide"
    }
   },
   "outputs": [],
   "source": [
    "open idft"
   ]
  },
  {
   "cell_type": "code",
   "execution_count": null,
   "id": "b510ee1f",
   "metadata": {
    "slideshow": {
     "slide_type": "fragment"
    }
   },
   "outputs": [],
   "source": [
    "xn = idft(Xm,8)"
   ]
  },
  {
   "cell_type": "markdown",
   "id": "f8954237",
   "metadata": {
    "slideshow": {
     "slide_type": "slide"
    }
   },
   "source": [
    "### A useful compact notation\n",
    "\n",
    "The term\n",
    "\n",
    "$$\\exp\\left(\\frac{-j2\\pi}{N}\\right)$$\n",
    "\n",
    "is a rotating vector where the range $0 <= \\theta <= 2\\pi$ is divided into $N$ equal segments where $N$ is usually taken to be a power of 2."
   ]
  },
  {
   "cell_type": "markdown",
   "id": "e17caf6c",
   "metadata": {
    "slideshow": {
     "slide_type": "subslide"
    }
   },
   "source": [
    "It is convenient to represent this as $W_N$, that is\n",
    "\n",
    "$$W_N = \\exp\\left({\\frac{-j2\\pi}{N}}\\right)$$\n",
    "\n",
    "and consequently, \n",
    "\n",
    "$$W_N^{-1} = \\exp\\left({\\frac{j2\\pi}{N}}\\right).$$"
   ]
  },
  {
   "cell_type": "markdown",
   "id": "b9809485",
   "metadata": {
    "slideshow": {
     "slide_type": "subslide"
    }
   },
   "source": [
    "### In Class Example 3\n",
    "\n",
    "Compute the complex numbers represented by the rotating vector\n",
    "$W_8$"
   ]
  },
  {
   "cell_type": "markdown",
   "id": "afa0e25d",
   "metadata": {
    "slideshow": {
     "slide_type": "notes"
    }
   },
   "source": [
    "### Solution 3\n",
    "\n",
    "* Rewrite $W_8$ in exponential form\n",
    "\n",
    "<pre style=\"border: 2px solid blue\">\n",
    "\n",
    "\n",
    "\n",
    "\n",
    "\n",
    "\n",
    "\n",
    "\n",
    "\n",
    "</pre>"
   ]
  },
  {
   "cell_type": "markdown",
   "id": "772d8a45",
   "metadata": {
    "slideshow": {
     "slide_type": "notes"
    }
   },
   "source": [
    "* Visualize on unit circle\n",
    "\n",
    "![Visualization of the function unction $W_8^n$](pictures/circle.png)"
   ]
  },
  {
   "cell_type": "markdown",
   "id": "d629b652",
   "metadata": {
    "slideshow": {
     "slide_type": "notes"
    }
   },
   "source": [
    "* Complete this table\n",
    "\n",
    "| $n$ | $\\theta$        | Real | Imaginary | $W_8^n$ |\n",
    "|-----|-----------------|------|-----------|--------|\n",
    "| 0   | 0               | 1    |  0        | 1      |"
   ]
  },
  {
   "cell_type": "markdown",
   "id": "804016f1",
   "metadata": {
    "slideshow": {
     "slide_type": "notes"
    }
   },
   "source": [
    "<pre style=\"border: 2px solid blue\">\n",
    "\n",
    "\n",
    "\n",
    "\n",
    "\n",
    "\n",
    "\n",
    "\n",
    "\n",
    "\n",
    "\n",
    "\n",
    "\n",
    "\n",
    "\n",
    "\n",
    "\n",
    "\n",
    "\n",
    "\n",
    "\n",
    "\n",
    "</pre>"
   ]
  },
  {
   "cell_type": "markdown",
   "id": "8aa5edd9",
   "metadata": {
    "slideshow": {
     "slide_type": "subslide"
    }
   },
   "source": [
    "Using this notation, the DFT and inverse DFT pairs are represented as:\n",
    "\n",
    "$$X[m] =  \\sum_{n=0}^{N-1} x[n]W_N^{nm}$$ \n",
    "and\n",
    "$$x[n] = \\frac{1}{N}\\sum_{n=0}^{N-1} X[m]W_N^{-nm}$$"
   ]
  },
  {
   "cell_type": "markdown",
   "id": "d76f7ad9",
   "metadata": {
    "slideshow": {
     "slide_type": "slide"
    }
   },
   "source": [
    "### MATLAB implementation of DFT\n",
    "\n",
    "Using the W notation, it is very easy to write a function to implement the DFT. \n",
    "\n",
    "We will demonstrate this in class."
   ]
  },
  {
   "cell_type": "markdown",
   "id": "2a79acfa",
   "metadata": {
    "slideshow": {
     "slide_type": "subslide"
    }
   },
   "source": [
    "For example, consider [dft.m](https://cpjobling.github.io/eg-247-textbook/dft/1/matlab/dft.m):"
   ]
  },
  {
   "cell_type": "markdown",
   "id": "010bf988",
   "metadata": {
    "slideshow": {
     "slide_type": "fragment"
    }
   },
   "source": [
    "```matlab\n",
    "function [ Xm ] = dft( xn, N )\n",
    "% Computes Discrete Fourier Transform\n",
    "% -----------------------------------\n",
    "% [Xm]  = dft(xn, N)\n",
    "% Xm = DFT coeff. array over 0 <= m <= N-1\n",
    "% xn = N-point finite-duration sequence\n",
    "%  N = length of DFT\n",
    "%\n",
    "n = [0:1:N-1];          % row vector for n\n",
    "m = [0:1:N-1];          % row vector for m\n",
    "WN = exp(-j*2*pi/N);    % Wn factor\n",
    "nm = n'*m;              % creates an N by N matrix of nm values\n",
    "WNnm = WN .^ nm;        % DFT matrix\n",
    "Xm = xn * WNnm;         % row vector of DFT coefficients\n",
    "```"
   ]
  },
  {
   "cell_type": "markdown",
   "id": "80dc0a92",
   "metadata": {
    "slideshow": {
     "slide_type": "subslide"
    }
   },
   "source": [
    "Similarly for the inverse DFT [idft.m](https://cpjobling.github.io/eg-247-textbook/dft/1/matlab/idft.m):"
   ]
  },
  {
   "cell_type": "markdown",
   "id": "1835bc23",
   "metadata": {
    "slideshow": {
     "slide_type": "fragment"
    }
   },
   "source": [
    "```matlab\n",
    "function [ xn ] = idft( Xm, N )\n",
    "% Computes Inverse Discrete Fourier Transform\n",
    "% -------------------------------------------\n",
    "% [xn]  = idft(Xm, N)\n",
    "% xn = N-point sequence over 0 <= n <= N-1\n",
    "% Xm = DFT coeff. array over 0 <= m <= N-1\n",
    "%  N = length of DFT\n",
    "%\n",
    "n = [0:1:N-1];          % row vector for n\n",
    "m = [0:1:N-1];          % row vector for m\n",
    "WN = exp(-j*2*pi/N);    % Wn factor\n",
    "nm = n'*m;              % creates an N by N matrix of nm values\n",
    "WNnm = WN .^ (-nm);     % DFT matrix\n",
    "xn = (Xm * WNnm)/N;     % row vector for IDFT values\n",
    "```"
   ]
  },
  {
   "cell_type": "markdown",
   "id": "39549181",
   "metadata": {
    "slideshow": {
     "slide_type": "subslide"
    }
   },
   "source": [
    "### Notes\n",
    "\n",
    "In the remainder of these notes, the correspondence between $x[n]$ and $X[m]$ will be written\n",
    "\n",
    "$$x[n] \\Leftrightarrow X[m]$$\n",
    "\n",
    "In Example 2, we found that, although the DT sequence $x[n]$ was real, the discrete frequency (DF) sequence was complex. However, in most applications we are interested in the magnitude and phase of the DF, that is \n",
    "\n",
    "$$|X[m]|$$ \n",
    "\n",
    "and \n",
    "\n",
    "$$\n",
    " \\angle X[m].\n",
    "$$"
   ]
  },
  {
   "cell_type": "markdown",
   "id": "0dc6a438",
   "metadata": {
    "slideshow": {
     "slide_type": "subslide"
    }
   },
   "source": [
    "### In Class Example 4\n",
    "\n",
    "Use MATLAB to compute the magnitude of the frequency components of the following DT function:\n",
    "\n",
    "| $n$ | 0 | 1 | 2 | 3 | 4 | 5 | 6 | 7 | 8 | 9 | 10 | 11 | 12 | 13 | 14 | 15 | \n",
    "|-----|---|---|---|---|---|---|---|---|---|---|----|----|----|----|----|----|\n",
    "| $x[n]$ |1.0 |2 |2 |2.5 |1.5 |0.5 |-0.5 |-1.5 |-2.5 |-0.5 |0.25 | 1.25 | 2 | 1.5 | 1 | 0.5 |\n",
    "\n",
    "We will compute this in class and make some comments afterwards."
   ]
  },
  {
   "cell_type": "code",
   "execution_count": null,
   "id": "2e04c62d",
   "metadata": {
    "slideshow": {
     "slide_type": "subslide"
    }
   },
   "outputs": [],
   "source": [
    "xn = [ 1, 2, 3, 2.5, 1.5, 0.5,...\n",
    "    -0.5, -1.5, -2.5, -0.5,...\n",
    "    0.25, 1.25, 2, 1.5, 1, 0.5];"
   ]
  },
  {
   "cell_type": "code",
   "execution_count": null,
   "id": "c3ca544d",
   "metadata": {
    "slideshow": {
     "slide_type": "subslide"
    }
   },
   "outputs": [],
   "source": [
    "stem([0:15],xn),xlabel('n'),ylabel('x[n]'),title('Discrete Time Sequence')"
   ]
  },
  {
   "cell_type": "code",
   "execution_count": null,
   "id": "676c7333",
   "metadata": {
    "slideshow": {
     "slide_type": "subslide"
    }
   },
   "outputs": [],
   "source": [
    "Xm = dft(xn,16);"
   ]
  },
  {
   "cell_type": "code",
   "execution_count": null,
   "id": "7038b620",
   "metadata": {
    "slideshow": {
     "slide_type": "subslide"
    }
   },
   "outputs": [],
   "source": [
    "stem([0:15],abs(Xm)),xlabel('m'),ylabel('|X[m]|'),title('Discrete Frequency Sequence')"
   ]
  },
  {
   "cell_type": "markdown",
   "id": "96cf3808",
   "metadata": {
    "slideshow": {
     "slide_type": "notes"
    }
   },
   "source": [
    "Points to note: \n",
    "\n",
    "* $X[0] = 12$ is the DC component of the DT sequence.\n",
    "* After the $|X[8]| = 1.4872$ term, the magnitude of the frequency values for the range $9 <= m \\le 15$ are the mirror image of the values for the range $0 <= m <= 7$.\n",
    "* This is not a coincidence, in fact if $x[n]$ is an N-point *real discrete-time function*, only $N/2$ of the *frequency components* of $|X[m]|$ *are unique*."
   ]
  },
  {
   "cell_type": "markdown",
   "id": "321c6e77",
   "metadata": {
    "slideshow": {
     "slide_type": "slide"
    }
   },
   "source": [
    "## A summary of the important features of sampling and the DFT\n",
    "\n",
    "* $N$ is the number of samples in frequency.\n",
    "* $f_s$ sampling frequency, samples per second.\n",
    "* $T_t$ period of a periodic DT function.\n",
    "* $t_s$ interval between the $N$ samples in time period $T_t$.\n",
    "* $f_f$ period of a periodic DF function.\n",
    "* $F_s$ interval between the $N$ samples in frequency period $T_f$."
   ]
  },
  {
   "cell_type": "markdown",
   "id": "fe947d8c",
   "metadata": {
    "slideshow": {
     "slide_type": "subslide"
    }
   },
   "source": [
    "The relationships between these quantities are:\n",
    "\n",
    "$$t_t = \\frac{T_t}{N}$$\n",
    "\n",
    "$$f_s = \\frac{1}{t_t}$$\n",
    "\n",
    "$$t_f = \\frac{T_f}{N}$$"
   ]
  },
  {
   "cell_type": "markdown",
   "id": "48066640",
   "metadata": {
    "slideshow": {
     "slide_type": "subslide"
    }
   },
   "source": [
    "$$t_t = \\frac{1}{T_f}$$\n",
    "\n",
    "$$f_f = \\frac{1}{T_t}$$\n",
    "\n",
    "We will add these quantities to the results of Example 4 in class."
   ]
  },
  {
   "cell_type": "markdown",
   "id": "01c3f4e1",
   "metadata": {
    "slideshow": {
     "slide_type": "notes"
    }
   },
   "source": [
    "### Example 4 (continued)\n",
    "\n",
    "![Example 4](./pictures/repeat.png)\n",
    "\n",
    "To reproduce this plot use [repeat.m](https://cpjobling.github.io/eg-247-textbook/dft/1/matlab/repeat.m)."
   ]
  },
  {
   "cell_type": "markdown",
   "id": "8904ef85",
   "metadata": {
    "slideshow": {
     "slide_type": "slide"
    }
   },
   "source": [
    "### In Class Example 5\n",
    "\n",
    "The period of a periodic DT function is 0.125 ms and it is sampled at 1024 equally spaced points. It is assumed that with this number of samples, the sampling theorem is satisfied and thus there will be no aliasing.\n",
    "\n",
    "1. Compute the interval $t_t$ between samples for the periodic signal \n",
    "1. Compute the period $T_f$ of the frequency spectrum in kHz\n",
    "2. Compute the interval $t_f$ between frequency components in kHz\n",
    "3. Compute the sampling frequency $f_s$.\n",
    "4. Compute the Nyquist frequency $f_n$."
   ]
  },
  {
   "cell_type": "markdown",
   "id": "f3ebad8e",
   "metadata": {
    "slideshow": {
     "slide_type": "notes"
    }
   },
   "source": [
    "### Solution\n",
    "\n",
    "To be done in class.\n",
    "\n",
    "*  Compute the interval $t_t$ between samples for the periodic signal \n",
    "\n",
    "<pre style=\"border: 2px solid blue\">\n",
    "\n",
    "\n",
    "\n",
    "\n",
    "\n",
    "\n",
    "\n",
    "\n",
    "\n",
    "</pre>\n",
    "\n",
    "* Compute the period of the frequency spectrum $T_f$ in kHz\n",
    "\n",
    "<pre style=\"border: 2px solid blue\">\n",
    "\n",
    "\n",
    "\n",
    "\n",
    "\n",
    "\n",
    "\n",
    "\n",
    "\n",
    "</pre>\n",
    "\n",
    "* Compute the interval $t_f$ between frequency components in kHz\n",
    "\n",
    "<pre style=\"border: 2px solid blue\">\n",
    "\n",
    "\n",
    "\n",
    "\n",
    "\n",
    "\n",
    "\n",
    "\n",
    "\n",
    "</pre>\n",
    "\n",
    "* Compute the sampling frequency $f_s$.\n",
    "\n",
    "<pre style=\"border: 2px solid blue\">\n",
    "\n",
    "\n",
    "\n",
    "\n",
    "\n",
    "\n",
    "\n",
    "\n",
    "\n",
    "</pre>\n",
    "\n",
    "* Compute the Nyquist frequency $f_n$.\n",
    "\n",
    "<pre style=\"border: 2px solid blue\">\n",
    "\n",
    "\n",
    "\n",
    "\n",
    "\n",
    "\n",
    "\n",
    "\n",
    "\n",
    "</pre>"
   ]
  }
 ],
 "metadata": {
  "jupytext": {
   "formats": "ipynb,md:myst",
   "text_representation": {
    "extension": ".md",
    "format_name": "myst",
    "format_version": 0.13,
    "jupytext_version": "1.14.4"
   }
  },
  "kernelspec": {
   "display_name": "Matlab",
   "language": "matlab",
   "name": "matlab"
  },
  "source_map": [
   15,
   21,
   29,
   39,
   45,
   53,
   59,
   63,
   67,
   73,
   79,
   83,
   91,
   99,
   103,
   111,
   121,
   127,
   133,
   141,
   145,
   156,
   232,
   238,
   314,
   318,
   327,
   331,
   339,
   345,
   351,
   359,
   367,
   375,
   383,
   391,
   401,
   411,
   418,
   436,
   442,
   450,
   477,
   485,
   493,
   497,
   516,
   520,
   539,
   557,
   569,
   579,
   587,
   595,
   603,
   611,
   622,
   632,
   640,
   648,
   660
  ]
 },
 "nbformat": 4,
 "nbformat_minor": 5
}