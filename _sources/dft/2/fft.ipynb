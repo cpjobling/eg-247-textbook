{
 "cells": [
  {
   "cell_type": "markdown",
   "id": "3dc980da",
   "metadata": {
    "slideshow": {
     "slide_type": "slide"
    }
   },
   "source": [
    "# The Fast Fourier Transform"
   ]
  },
  {
   "cell_type": "markdown",
   "id": "842a3c14",
   "metadata": {
    "slideshow": {
     "slide_type": "skip"
    }
   },
   "source": [
    "## Colophon\n",
    "\n",
    "An annotatable worksheet for this presentation is available as [**Worksheet 19**](worksheet19).\n",
    "\n",
    "* The source code for this page is [dft/1/dft.ipynb](https://github.com/cpjobling/eg-247-textbook/blob/master/dft/2/fft.ipynb).\n",
    "\n",
    "* You can view the notes for this presentation as a webpage ([HTML](https://cpjobling.github.io/eg-247-textbook/dft/2/fft.html)). \n",
    "\n",
    "* This page is downloadable as a [PDF](https://cpjobling.github.io/eg-247-textbook/dft/2/fft.pdf) file."
   ]
  },
  {
   "cell_type": "markdown",
   "id": "c45059d5",
   "metadata": {
    "slideshow": {
     "slide_type": "subslide"
    },
    "tags": []
   },
   "source": [
    "## Scope and Background Reading\n",
    "\n",
    "This session introduces the fast fourier transform (FFT) which is one of the most widely used numerical algorithms in the world. It exploits some features of the symmetry of the computation of the DFT to reduce the complexity from something that takes order $N^2$ ($O(N^2)$) complex operations to something that takes order $N \\log N$ ($O(N \\log N)$) operations."
   ]
  },
  {
   "cell_type": "markdown",
   "id": "1376d0d1",
   "metadata": {
    "slideshow": {
     "slide_type": "notes"
    }
   },
   "source": [
    "The FFT is to be found in all manner of signal and image processing algorithms, and because it is more efficient than the DFT, you will find it exploited in hundreds of signal processing applications.\n",
    "\n",
    "As one example, it turns out that the computation of the convolution of two long DT sequences is more efficient if the FFT of the two signals is taken, the product of the frequency spectra is computed, and the Inverse DFT of the result is computed.\n",
    "\n",
    "In this presentation, we will not go through the mathematical development of the FFT, please read section 10.6 of Karris if you want the details. Here we will concentrate on the benefits to be gained by using the FFT and give some examples of its use in MATLAB."
   ]
  },
  {
   "cell_type": "markdown",
   "id": "5fb58248",
   "metadata": {
    "slideshow": {
     "slide_type": "subslide"
    }
   },
   "source": [
    "### Acknowledgements\n",
    "\n",
    "The material in this presentation and notes is based on [Chapter 10](https://ebookcentral.proquest.com/lib/swansea-ebooks/reader.action?docID=3384197&ppg=405) of {cite}`karris` from the **Required Reading List**. The models of the FFT signal flow graphs and Simulink block diagrams are based on the presentation given in Section 12.5 of {cite}`phillips`."
   ]
  },
  {
   "cell_type": "markdown",
   "id": "7f2110eb",
   "metadata": {
    "slideshow": {
     "slide_type": "slide"
    }
   },
   "source": [
    "## Agenda"
   ]
  },
  {
   "cell_type": "markdown",
   "id": "0aecccfd",
   "metadata": {
    "slideshow": {
     "slide_type": "fragment"
    }
   },
   "source": [
    "* The inefficiency of the DFT"
   ]
  },
  {
   "cell_type": "markdown",
   "id": "bb7edbaa",
   "metadata": {
    "slideshow": {
     "slide_type": "fragment"
    }
   },
   "source": [
    "* The FFT - a sketch of its development"
   ]
  },
  {
   "cell_type": "markdown",
   "id": "968179c4",
   "metadata": {
    "slideshow": {
     "slide_type": "fragment"
    }
   },
   "source": [
    "* An illustration of part of the FFT algorithm"
   ]
  },
  {
   "cell_type": "markdown",
   "id": "724a1b3b",
   "metadata": {
    "slideshow": {
     "slide_type": "fragment"
    }
   },
   "source": [
    "* FFT v DFT"
   ]
  },
  {
   "cell_type": "markdown",
   "id": "adcf9b18",
   "metadata": {
    "slideshow": {
     "slide_type": "fragment"
    }
   },
   "source": [
    "* Two examples"
   ]
  },
  {
   "cell_type": "markdown",
   "id": "0dfe8d99",
   "metadata": {
    "slideshow": {
     "slide_type": "slide"
    }
   },
   "source": [
    "## The inefficiency of the DFT\n",
    "\n",
    "Consider a signal whose highest frequency is 18 kHz, the sampling frequency is 50 kHz, and 1024 samples are taken, i.e., $N=1024$."
   ]
  },
  {
   "cell_type": "markdown",
   "id": "c0b9198d",
   "metadata": {
    "slideshow": {
     "slide_type": "fragment"
    }
   },
   "source": [
    "The time required to compute the entire DFT would be:\n",
    "\n",
    "$$t = \\frac{1024\\,\\mathrm{samples}}{50\\times 10^3\\,\\mathrm{samples\\ per\\ second}} = 20.48\\,\\mathrm{ms}$$"
   ]
  },
  {
   "cell_type": "markdown",
   "id": "c3903c8b",
   "metadata": {
    "slideshow": {
     "slide_type": "subslide"
    }
   },
   "source": [
    "To compute the number of operations required to complete this task, let us expand the N-point DFT defined as:\n",
    "\n",
    "$$X[m] = \\sum_{n=0}^{N-1} x[n] W_N^{mn}$$"
   ]
  },
  {
   "cell_type": "markdown",
   "id": "e995a2b8",
   "metadata": {
    "slideshow": {
     "slide_type": "subslide"
    }
   },
   "source": [
    "Then\n",
    "\n",
    "$$\\begin{eqnarray*}\n",
    "  X[0] &=& x[0]W_N^0 + x[1]W_N^0 + x[1]W_N^0 +  \\cdots  + x[N - 1]W_N^0 \\hfill \\\\\n",
    "  X[1] &=& x[0]W_N^0 + x[1]W_N^1 + x[1]W_N^2 +  \\cdots  + x[N - 1]W_N^{N - 1} \\hfill \\\\\n",
    "  X[2] &=& x[0]W_N^0 + x[1]W_N^2 + x[1]W_N^4 +  \\cdots  + x[N - 1]W_N^{2(N - 1)} \\hfill \\\\\n",
    "  \\hfil &\\cdots&  \\hfill \\\\\n",
    "  X[N - 1] &=& x[0]W_N^0 + x[1]W_N^{N - 1} + x[1]W_N^{2(N - 1)} +  \\cdots  + x[N - 1]W_N^{(N - 1)^2} \\hfill \\\\ \n",
    "\\end{eqnarray*}$$"
   ]
  },
  {
   "cell_type": "markdown",
   "id": "ebdce260",
   "metadata": {
    "slideshow": {
     "slide_type": "subslide"
    }
   },
   "source": [
    "* It is worth remembering that \n",
    "\n",
    "$$W_N^0 = \\exp\\left(-j\\frac{2\\pi}{N}(0)\\right) = 1.$$"
   ]
  },
  {
   "cell_type": "markdown",
   "id": "2bf4426f",
   "metadata": {
    "slideshow": {
     "slide_type": "fragment"
    }
   },
   "source": [
    "* Since $W_N^i$ is a complex number, the computation of any frequency component $X[k]$ requires $N$ complex multiplications and $N$ complex additions"
   ]
  },
  {
   "cell_type": "markdown",
   "id": "ac777202",
   "metadata": {
    "slideshow": {
     "slide_type": "fragment"
    }
   },
   "source": [
    "* $2N$ complex arithmetic operations are required to compute any frequency component of $X[k].$<sup>1</sup>"
   ]
  },
  {
   "cell_type": "markdown",
   "id": "c0d22d59",
   "metadata": {
    "slideshow": {
     "slide_type": "fragment"
    }
   },
   "source": [
    "* If we assume that $x[n]$ is real, then only $N/2$ of the $X[m]$ components are unique."
   ]
  },
  {
   "cell_type": "markdown",
   "id": "048e5f42",
   "metadata": {
    "slideshow": {
     "slide_type": "fragment"
    }
   },
   "source": [
    "* Therefore we would require $2N\\times N/2 = N^2$ complex operations to compute the entire frequency spectrum.<sup>2</sup>"
   ]
  },
  {
   "cell_type": "markdown",
   "id": "a4dee411",
   "metadata": {
    "slideshow": {
     "slide_type": "subslide"
    }
   },
   "source": [
    "* For our example, the $N=1024$-point DFT, would require $1024^2 = 1,048,576$ complex operations"
   ]
  },
  {
   "cell_type": "markdown",
   "id": "07055fe5",
   "metadata": {
    "slideshow": {
     "slide_type": "fragment"
    }
   },
   "source": [
    "* These would have to be completed in 20.48 ms."
   ]
  },
  {
   "cell_type": "markdown",
   "id": "0f1b817c",
   "metadata": {
    "slideshow": {
     "slide_type": "fragment"
    }
   },
   "source": [
    "* This may be possible with modern computing hardware, perhaps even in a mobile phone, but it seems impractical."
   ]
  },
  {
   "cell_type": "markdown",
   "id": "b9ed453b",
   "metadata": {
    "slideshow": {
     "slide_type": "subslide"
    }
   },
   "source": [
    "* Fortunately, many of the $W_N$ terms in the computation are unity ($=\\pm 1$)."
   ]
  },
  {
   "cell_type": "markdown",
   "id": "955b111a",
   "metadata": {
    "slideshow": {
     "slide_type": "fragment"
    }
   },
   "source": [
    "* Moreover, because the $W_N^i$ points are equally spaced points on the unit circle;"
   ]
  },
  {
   "cell_type": "markdown",
   "id": "22d5bd70",
   "metadata": {
    "slideshow": {
     "slide_type": "fragment"
    }
   },
   "source": [
    "* And because $N$ is a power of 2, the points on the upper-half plane (range $0 < \\theta < \\pi$ are the mirror image of the points on the lower-half plane range $\\pi < \\theta < 2\\pi$;"
   ]
  },
  {
   "cell_type": "markdown",
   "id": "6648495b",
   "metadata": {
    "slideshow": {
     "slide_type": "fragment"
    }
   },
   "source": [
    "* Thus, there is a great deal of symmetry in the computation that can be exploited to simplify the computation and reduce the number of operations considerably to a much more manageable $N\\log_2 N$ operations<sup>3</sup>."
   ]
  },
  {
   "cell_type": "markdown",
   "id": "22e17d9c",
   "metadata": {
    "slideshow": {
     "slide_type": "fragment"
    }
   },
   "source": [
    "This is possible with the algorithm called the [FTT](https://en.wikipedia.org/wiki/Fast_Fourier_transform) (fast Fourier transform) that was originally developed by [James Cooley](https://en.wikipedia.org/wiki/James_Cooley) and [John Tukey](https://en.wikipedia.org/wiki/John_Tukey) and has been considerably refined since."
   ]
  },
  {
   "cell_type": "markdown",
   "id": "e6bb0ce0",
   "metadata": {
    "slideshow": {
     "slide_type": "slide"
    }
   },
   "source": [
    "## The Fast Fourier Transform (FFT)\n",
    "\n",
    "The FFT is very well documented, including in Karris, so we will only sketch its development and present its main result. However, we will illustrate part of the algorithm to make concrete an idea of the efficiency advantage that the FFT has over the DFT that we have already seen."
   ]
  },
  {
   "cell_type": "markdown",
   "id": "d8600f39",
   "metadata": {
    "slideshow": {
     "slide_type": "fragment"
    }
   },
   "source": [
    "Much of the development follows from the properties of the rotating vector.<sup>4</sup>"
   ]
  },
  {
   "cell_type": "markdown",
   "id": "efa2b4ee",
   "metadata": {
    "slideshow": {
     "slide_type": "subslide"
    }
   },
   "source": [
    "$$W_N=\\exp\\left(-\\frac{j2\\pi}{N}\\right)$$\n",
    "\n",
    "which results in some simplifications and mathematical short-cuts when $N$ is a power of 2."
   ]
  },
  {
   "cell_type": "markdown",
   "id": "9734d9f9",
   "metadata": {
    "slideshow": {
     "slide_type": "subslide"
    }
   },
   "source": [
    "The most useful properties are:\n",
    "\n",
    "$$\\begin{eqnarray*}\n",
    "  W_N^N &=& \\exp\\left(-j\\frac{2\\pi}{N}N\\right) = \\exp\\left(-j2\\pi\\right) = 1.\\\\\n",
    "  W_N^{N/2} &=&  \\exp\\left(-j\\frac{2\\pi}{N}\\frac{N}{2}\\right) = \\exp\\left(-j\\pi\\right) = -1.\\\\\n",
    "  W_N^{N/4} &=&  \\exp\\left(-j\\frac{2\\pi}{N}\\frac{N}{4}\\right) = \\exp\\left(-j\\pi/2\\right) = -j.\\\\\n",
    "  W_N^{3N/4} &=&  \\exp\\left(-j\\frac{2\\pi}{N}\\frac{3N}{4}\\right) = \\exp\\left(-j3\\pi/2\\right) = j.\\end{eqnarray*}$$"
   ]
  },
  {
   "cell_type": "markdown",
   "id": "bf5a0c9d",
   "metadata": {
    "slideshow": {
     "slide_type": "subslide"
    }
   },
   "source": [
    "$$\\begin{eqnarray*}\n",
    "  W_N^{kN} &=&  \\exp\\left(-j\\frac{2\\pi}{N}kN\\right) = \\exp\\left(-j2\\pi\\right) = 1,\\,k=0,1,2,\\ldots\\\\\n",
    "  W_N^{kN+r} &=&  \\exp\\left(-j\\frac{2\\pi}{N}kN\\right)\\exp\\left(-j\\frac{2\\pi}{N}r\\right) = 1.W_N^r=W_N^r.\\\\\n",
    "  W_{2N}^{k} &=&  \\exp\\left(-j\\frac{2\\pi}{2N}k\\right) = \\exp\\left(-j\\frac{2\\pi}{N}\\frac{k}{2}\\right) = W_N^{k/2}.\n",
    "\\end{eqnarray*}$$"
   ]
  },
  {
   "cell_type": "markdown",
   "id": "ecc0b553",
   "metadata": {
    "slideshow": {
     "slide_type": "subslide"
    }
   },
   "source": [
    "Representing\n",
    "\n",
    "$$\\begin{eqnarray*}\n",
    "  X[0] &=& x[0]W_N^0 + x[1]W_N^0 + x[2]W_N^0 +  \\cdots  + x[N - 1]W_N^0 \\hfill \\\\\n",
    "  X[1] &=& x[0]W_N^0 + x[1]W_N^1 + x[2]W_N^2 +  \\cdots  + x[N - 1]W_N^{N - 1} \\hfill \\\\\n",
    "  X[2] &=& x[0]W_N^0 + x[1]W_N^2 + x[2]W_N^4 +  \\cdots  + x[N - 1]W_N^{2(N - 1)} \\hfill \\\\\n",
    "  \\hfil &\\cdots&  \\hfill \\\\\n",
    "  X[N - 1] &=& x[0]W_N^0 + x[1]W_N^{N - 1} + x[2]W_N^{2(N - 1)} +  \\cdots  + x[N - 1]W_N^{(N - 1)^2} \\hfill \\\\ \n",
    "\\end{eqnarray*}$$"
   ]
  },
  {
   "cell_type": "markdown",
   "id": "e5071496",
   "metadata": {
    "slideshow": {
     "slide_type": "subslide"
    }
   },
   "source": [
    "in matrix form:\n",
    "\n",
    "$$\n",
    "\\left[ {\\begin{array}{*{20}{c}}\n",
    "{X[0]}\\\\\n",
    "{X[1]}\\\\\n",
    "{X[2]}\\\\\n",
    " \\vdots \\\\\n",
    "{X[N - 1]}\\end{array}} \\right] = \\left[ {\\begin{array}{*{20}{c}}\n",
    "{W_N^0}&{W_N^0}&{W_N^0}&\\cdots&{W_N^0}\\\\\n",
    "{W_N^0}&{W_N^1}&{W_N^2}&\\cdots&{W_N^{N - 1}}\\\\\n",
    "{W_N^0}&{W_N^2}&{W_N^4}&\\cdots&{W_N^{2(N - 1)}}\\\\\n",
    "\\cdots&\\cdots&\\cdots&\\cdots&\\cdots\\\\\n",
    "{W_N^0}&{W_N^{N - 1}}&{W_N^{2(N - 1)}}&\\cdots&W_N^{(N - 1)^2}\\\\\n",
    "\\end{array}} \\right]\\left[ {\\begin{array}{*{20}{c}}\n",
    "{x[0]}\\\\\n",
    "{x[1]}\\\\\n",
    "{x[2]}\\\\\n",
    " \\vdots \\\\\n",
    "{x[N - 1]}\n",
    "\\end{array}} \\right].\n",
    "$$"
   ]
  },
  {
   "cell_type": "markdown",
   "id": "f3196ffc",
   "metadata": {
    "slideshow": {
     "slide_type": "subslide"
    }
   },
   "source": [
    "This is a complex [Vandemonde matrix](https://en.wikipedia.org/wiki/Vandermonde_matrix) and it is more compactly expressed as:\n",
    "\n",
    "$$\\mathbf{X}[m] = \\mathbf{W_N} \\mathbf{x}[n]$$"
   ]
  },
  {
   "cell_type": "markdown",
   "id": "c9c0ba46",
   "metadata": {
    "slideshow": {
     "slide_type": "subslide"
    }
   },
   "source": [
    "The algorithm developed by Cooley and Tukey is based on *matrix decomposition* methods, where the matrix $\\mathbf{W_N}$ is factored into $L$ smaller matrices, that is:\n",
    "\n",
    "$$\\mathbf{W_N} = \\mathbf{W_1} \\mathbf{W_2} \\mathbf{W_3} \\cdots \\mathbf{W_L}$$\n",
    "\n",
    "where $L$ is chosen as $L = \\log_2N$ or $N=2^L$."
   ]
  },
  {
   "cell_type": "markdown",
   "id": "371d630e",
   "metadata": {
    "slideshow": {
     "slide_type": "subslide"
    }
   },
   "source": [
    "Each row of the matrices on the right side of the decomposition, contains only two, non-zero terms, unity and $W_N^k$. \n",
    "\n",
    "And the DFT sequence is:\n",
    "\n",
    "$$\\mathbf{X}[m] = \\mathbf{W_1} \\mathbf{W_2} \\mathbf{W_3} \\cdots \\mathbf{W_L} \\mathbf{x}[n].$$"
   ]
  },
  {
   "cell_type": "markdown",
   "id": "79cd9892",
   "metadata": {
    "slideshow": {
     "slide_type": "notes"
    }
   },
   "source": [
    "The FFT computation starts with matrix $\\mathbf{W}_L$. It operates on $\\mathbf{x}[n]$ producing a row vector, and each component of the row vector is obtained by one multiplication and one addition. This is because there are only two non-zero elements on a given row, and one of those elements is unity. Since there are $N$ components of $\\mathbf{x}[n]$, there will be $N$ complex multiplications and $N$ complex additions."
   ]
  },
  {
   "cell_type": "markdown",
   "id": "5e32f334",
   "metadata": {
    "slideshow": {
     "slide_type": "subslide"
    }
   },
   "source": [
    "This new vector is then operated on by the $\\mathbf{W}_{L-1}$ matrix, then on $\\mathbf{W}_{L-2}$ and so on, until the entire operation is completed."
   ]
  },
  {
   "cell_type": "markdown",
   "id": "f93d1233",
   "metadata": {
    "slideshow": {
     "slide_type": "subslide"
    }
   },
   "source": [
    "It appears that the entire operation would require $NL= N\\log_2N$ complex additions and also $N\\log_2N$ complex additions."
   ]
  },
  {
   "cell_type": "markdown",
   "id": "829132ce",
   "metadata": {
    "slideshow": {
     "slide_type": "fragment"
    }
   },
   "source": [
    "However, since $W_N^0 = 1$, $W_N^{N/2}=-1$, and other simplifications, it is estimated that only about half of these, that is, $N\\log_2 N$ total complex arithmetic operations are required by the FFT versus the $N^2$ required by the DFT<sup>5</sup>."
   ]
  },
  {
   "cell_type": "markdown",
   "id": "f3ec395d",
   "metadata": {
    "slideshow": {
     "slide_type": "subslide"
    }
   },
   "source": [
    "### Decomposition-in-Time FFT Algorithm"
   ]
  },
  {
   "cell_type": "markdown",
   "id": "50561366",
   "metadata": {
    "slideshow": {
     "slide_type": "fragment"
    }
   },
   "source": [
    "This development follows (Philips, *et al.*, 2015). It is called the *decomposition-in-time (DIT), radix-2, FFT*."
   ]
  },
  {
   "cell_type": "markdown",
   "id": "95638623",
   "metadata": {
    "slideshow": {
     "slide_type": "fragment"
    }
   },
   "source": [
    "It allows us to visualize the FFT as a block diagram (for simulation) or a signal flow graph (for ease of drawing)."
   ]
  },
  {
   "cell_type": "markdown",
   "id": "5690af70",
   "metadata": {
    "slideshow": {
     "slide_type": "fragment"
    }
   },
   "source": [
    "We start from a 2-point FFT ($N=2$), and work up to an 8-point FFT ($N=8$) before generalizing the result."
   ]
  },
  {
   "cell_type": "markdown",
   "id": "acba689d",
   "metadata": {
    "slideshow": {
     "slide_type": "notes"
    }
   },
   "source": [
    "We have implemented each algorithm in Simulink so we are able illustrate these structures with executable examples as we go."
   ]
  },
  {
   "cell_type": "markdown",
   "id": "00eb328e",
   "metadata": {
    "slideshow": {
     "slide_type": "subslide"
    }
   },
   "source": [
    "#### 2-Point DFT\n",
    "\n",
    "$$X[k] = \\sum_{n=0}^1 x[n]W^{nk}_2 = x[0]W_2^{0k} + X[1]W_2^{1k},\\,k=0,1.$$"
   ]
  },
  {
   "cell_type": "markdown",
   "id": "7923d10b",
   "metadata": {
    "slideshow": {
     "slide_type": "fragment"
    }
   },
   "source": [
    "Because $W_2^{0k}=\\exp\\left(j0\\right)=1$ and $W_2^{1k}=\\exp\\left(-j\\pi k\\right)=(-1)^k$, we write\n",
    "\n",
    "$$\\begin{eqnarray*}\n",
    "X[0] &=& x[0]+x[1];\\\\\n",
    "X[1] &=& x[0]-x[1].\n",
    "\\end{eqnarray*}$$"
   ]
  },
  {
   "cell_type": "markdown",
   "id": "925b0ca4",
   "metadata": {
    "slideshow": {
     "slide_type": "subslide"
    }
   },
   "source": [
    "In general for the 2-point DFT, we have\n",
    "\n",
    "$$X[k]=x[0]+(-1)^kx[1].$$"
   ]
  },
  {
   "cell_type": "markdown",
   "id": "5c164d72",
   "metadata": {
    "slideshow": {
     "slide_type": "subslide"
    }
   },
   "source": [
    "![Signal flow graph of 2-point DFT](pictures/2-point-dft-sfg.png)"
   ]
  },
  {
   "cell_type": "markdown",
   "id": "5262cfc7",
   "metadata": {
    "slideshow": {
     "slide_type": "notes"
    }
   },
   "source": [
    "An equivalent Simulink model in block diagram form is:\n",
    "\n",
    "![2-point dft](pictures/2-point-dft.png)"
   ]
  },
  {
   "cell_type": "markdown",
   "id": "a4029d6c",
   "metadata": {
    "slideshow": {
     "slide_type": "subslide"
    }
   },
   "source": [
    "#### Let's See it in MATLAB\n",
    "\n",
    "[two_point_dft.slx](https://cpjobling.github.io/eg-247-textbook/dft/2/matlab/two_point_dft.slx)"
   ]
  },
  {
   "cell_type": "code",
   "execution_count": 1,
   "id": "765596fd",
   "metadata": {
    "slideshow": {
     "slide_type": "fragment"
    }
   },
   "outputs": [
    {
     "name": "stderr",
     "output_type": "stream",
     "text": [
      "\u001b[0;31mError using eval\n",
      "Undefined function 'imatlab_export_fig' for input arguments of type 'char'.\n",
      "\u001b[0m"
     ]
    }
   ],
   "source": [
    "cd matlab\n",
    "clear all\n",
    "format compact\n",
    "imatlab_export_fig('print-svg')  % Static svg figures."
   ]
  },
  {
   "cell_type": "code",
   "execution_count": 2,
   "id": "ee7a4886",
   "metadata": {
    "slideshow": {
     "slide_type": "fragment"
    }
   },
   "outputs": [],
   "source": [
    "open two_point_dft"
   ]
  },
  {
   "cell_type": "markdown",
   "id": "f1eb68ea",
   "metadata": {
    "slideshow": {
     "slide_type": "slide"
    }
   },
   "source": [
    "#### 4-point DFT\n",
    "\n",
    "The 4-point DFT is given by\n",
    "\n",
    "$$X[k] = \\sum_{n=0}^3 x[n]W_4^{nk}= x[0]W_4^{0k} + x[1]W_4^{1k} + x[2]W_4^{2k} + x[3]W_4^{3k}.$$"
   ]
  },
  {
   "cell_type": "markdown",
   "id": "b8727809",
   "metadata": {
    "slideshow": {
     "slide_type": "subslide"
    }
   },
   "source": [
    "As a result of the periodicity of the weighting factor, we can simplify this expression:\n",
    "\n",
    "$$\\begin{eqnarray*}\n",
    "W_N^{nk} &=& \\exp\\left(-j(2\\pi/N)nk\\right);\\\\\n",
    "W_4^{0k} &=& 1;\\\\\n",
    "W_4^{1k} &=& \\exp\\left(-j(\\pi/2)k\\right) = (-j)^k;\\\\\n",
    "W_4^{2k} &=& \\exp\\left(-j\\pi k\\right) = (-1)^k;\\\\\n",
    "W_4^{3k} &=& W_4^{2k}W_4^{1k}=(-1)^k W_4^{1k}.\n",
    "\\end{eqnarray*}$$"
   ]
  },
  {
   "cell_type": "markdown",
   "id": "aade8f20",
   "metadata": {
    "slideshow": {
     "slide_type": "subslide"
    }
   },
   "source": [
    "Using these results, we write\n",
    "\n",
    "$$\\begin{eqnarray*}\n",
    "X[k] &=&  x[0] + x[1]W_4^{1k} + x[2](-1)^k + x[3](-1)^kW_4^{1k},\\\\\n",
    "X[k] &=&  \\left[x[0] + x[2](-1)^k\\right] \\left[x[1] +  x[3](-1)^k\\right]W_4^{1k}.\n",
    "\\end{eqnarray*}$$"
   ]
  },
  {
   "cell_type": "markdown",
   "id": "1bb6c958",
   "metadata": {
    "slideshow": {
     "slide_type": "subslide"
    }
   },
   "source": [
    "To clarify the next step, we define two new variables\n",
    "\n",
    "$$\\begin{eqnarray*}\n",
    "x_e[n]&=&x[2n],\\,n=0,1;\\\\\n",
    "x_o[n]&=&x[2n+1],\\,n=0,1.\n",
    "\\end{eqnarray*}$$"
   ]
  },
  {
   "cell_type": "markdown",
   "id": "072c70d7",
   "metadata": {
    "slideshow": {
     "slide_type": "subslide"
    }
   },
   "source": [
    "Then,\n",
    "\n",
    "$$X[k] =  \\left[x_e[0] + x_e[1](-1)^k\\right] + \\left[x_o[0] + x_o[1](-1)^k\\right]W_4^{1k}.$$"
   ]
  },
  {
   "cell_type": "markdown",
   "id": "4912499a",
   "metadata": {
    "slideshow": {
     "slide_type": "fragment"
    }
   },
   "source": [
    "The factors in brackets in this equation can be recognized as 2-point DFTs:\n",
    "\n",
    "$$\\begin{eqnarray*}\n",
    "X_e[m] &=& x_e[0] + x_e[1](-1)^m,\\;m=0,1;\\\\\n",
    "X_o[m] &=& x_o[0] + x_o[1](-1)^m,\\;m=0,1.\n",
    "\\end{eqnarray*}$$"
   ]
  },
  {
   "cell_type": "markdown",
   "id": "13e8df8e",
   "metadata": {
    "slideshow": {
     "slide_type": "subslide"
    }
   },
   "source": [
    "Note that $X_e[k]$ and $X_o[k]$ are periodic; for example,\n",
    "\n",
    "$$X_e[2]= x_e[0]+ x_e[1](-1)^2 = X_e[0]$$\n",
    "\n",
    "and\n",
    "\n",
    "$$X_o[3]= x_o[0]+ x_o[1](-1)^3 = X_o[1]$$"
   ]
  },
  {
   "cell_type": "markdown",
   "id": "6d6a2c3d",
   "metadata": {
    "slideshow": {
     "slide_type": "subslide"
    }
   },
   "source": [
    "The 4-point DFT then is\n",
    "\n",
    "$$\\begin{eqnarray*}\n",
    "X[0] &=& X_e[0] + X_o[0]W_4^{1(0)} = X_e[0] + X_o[0];\\\\\n",
    "X[1] &=& X_e[1] + X_o[1]W_4^{1(1)} = X_e[1] + X_o[1]W_4^1;\\\\\n",
    "X[2] &=& X_e[0] - X_o[0]W_4^{1(2)} = X_e[0] - X_o[0];\\\\\n",
    "X[3] &=& X_e[1] - X_o[1]W_4^{1(3)} = X_e[1] + X_o[1]W_4^1.\n",
    "\\end{eqnarray*}$$"
   ]
  },
  {
   "cell_type": "markdown",
   "id": "57e1d6e6",
   "metadata": {
    "slideshow": {
     "slide_type": "notes"
    }
   },
   "source": [
    "We see that the 4-point DFT can be computed by the generation of two 2-point DFTs, followed by a *recomposition* of terms as shown in the signal flow graph below:"
   ]
  },
  {
   "cell_type": "markdown",
   "id": "f2e97872",
   "metadata": {
    "slideshow": {
     "slide_type": "subslide"
    }
   },
   "source": [
    "![Signal flow graph of 4-point DFT](pictures/4-point-dft-sfg.png)"
   ]
  },
  {
   "cell_type": "markdown",
   "id": "c0ee9ab8",
   "metadata": {
    "slideshow": {
     "slide_type": "notes"
    }
   },
   "source": [
    "In other words,\n",
    "\n",
    "[4-point DFT of $x[n]$] = [2-point DFT of $x_e[n]$] + $W_4^{1k}$[2-point DFT of $x_o[n]$]."
   ]
  },
  {
   "cell_type": "markdown",
   "id": "5bca8fb9",
   "metadata": {
    "slideshow": {
     "slide_type": "subslide"
    }
   },
   "source": [
    "#### SIMULINK Model of 4-Point DFT\n",
    "\n",
    "[four_point_dft.slx](https://cpjobling.github.io/eg-247-textbook/dft/2/matlab/four_point_dft.slx)"
   ]
  },
  {
   "cell_type": "code",
   "execution_count": 3,
   "id": "4fad774a",
   "metadata": {
    "slideshow": {
     "slide_type": "fragment"
    }
   },
   "outputs": [],
   "source": [
    "open four_point_dft"
   ]
  },
  {
   "cell_type": "markdown",
   "id": "058ab2cb",
   "metadata": {
    "slideshow": {
     "slide_type": "subslide"
    }
   },
   "source": [
    "### In Class Example 1\n",
    "\n",
    "Use four-point DIT FFT to confirm that the DFT of the sequence \n",
    "\n",
    "$$x[n] = [1, 2, 3, 4]$$\n",
    "\n",
    "is \n",
    "\n",
    "$$X[m] = [10, -2+j2, -4, -2-j2].$$"
   ]
  },
  {
   "cell_type": "markdown",
   "id": "fbccd158",
   "metadata": {
    "slideshow": {
     "slide_type": "notes"
    }
   },
   "source": [
    "<pre style=\"border: 2px solid blue\">\n",
    "\n",
    "\n",
    "\n",
    "\n",
    "\n",
    "\n",
    "\n",
    "\n",
    "\n",
    "\n",
    "\n",
    "\n",
    "\n",
    "\n",
    "\n",
    "\n",
    "\n",
    "\n",
    "\n",
    "\n",
    "\n",
    "\n",
    "</pre>"
   ]
  },
  {
   "cell_type": "markdown",
   "id": "2133a0e4",
   "metadata": {
    "slideshow": {
     "slide_type": "slide"
    }
   },
   "source": [
    "#### 8-point DFT\n",
    "\n",
    "$$X[k] = \\sum_{n=0}^{7}x[n]W_8^{nk}.$$"
   ]
  },
  {
   "cell_type": "markdown",
   "id": "13130014",
   "metadata": {
    "slideshow": {
     "slide_type": "subslide"
    }
   },
   "source": [
    "After some manipulation, not reproduced here, it can be shown that the 8-point DFT is the recombination of two, 4-point DFTs that operate on the even and odd numbered values in the sequence $x[n]$ respectively."
   ]
  },
  {
   "cell_type": "markdown",
   "id": "4e02cd3b",
   "metadata": {
    "slideshow": {
     "slide_type": "subslide"
    }
   },
   "source": [
    "#### Signal flow graph of 8-point DFT\n",
    "\n",
    "![Signal flow graph of 8-point DFT](pictures/8-point-dft-sfg.png)"
   ]
  },
  {
   "cell_type": "markdown",
   "id": "26db4165",
   "metadata": {
    "slideshow": {
     "slide_type": "subslide"
    }
   },
   "source": [
    "#### SIMULINK Model of 8-Point DFT\n",
    "\n",
    "[eight_point_dft.slx](https://cpjobling.github.io/eg-247-textbook/dft/2/matlab/eight_point_dft.slx)"
   ]
  },
  {
   "cell_type": "code",
   "execution_count": 4,
   "id": "1db5b2ee",
   "metadata": {
    "slideshow": {
     "slide_type": "fragment"
    }
   },
   "outputs": [],
   "source": [
    "open eight_point_dft"
   ]
  },
  {
   "cell_type": "markdown",
   "id": "f74ef838",
   "metadata": {
    "slideshow": {
     "slide_type": "slide"
    }
   },
   "source": [
    "#### N-Point, radix-2 DIT FFT\n",
    "\n",
    "In general, the $N$-point, radix-2 DIT FFT is computed as the recomposition of two $(N/2)$-point FFTs) as shown in the buterfly diagram below\n",
    "\n",
    "![N-point FFT](pictures/n-point-fft.png)"
   ]
  },
  {
   "cell_type": "markdown",
   "id": "ba4131bf",
   "metadata": {
    "slideshow": {
     "slide_type": "slide"
    }
   },
   "source": [
    "### Decomposition-in-Frequency FFT\n",
    "\n",
    "Another approach to forming the FFT is the so-called decomposition in frequency (DIF) FFT. \n",
    "\n",
    "We will not cover it's development in detail (see Karris and Phillips *et al.*) if you want to follow it through.\n",
    "\n",
    "We instead illustrate the final result for the four-point DIF FFT."
   ]
  },
  {
   "cell_type": "markdown",
   "id": "b0fa3e3a",
   "metadata": {
    "slideshow": {
     "slide_type": "subslide"
    }
   },
   "source": [
    "#### Signal flow graph for 4-point DIF FFT\n",
    "\n",
    "![Signal flow chart for 4-point DIF FFT](pictures/4-point-dif-fft.png)"
   ]
  },
  {
   "cell_type": "markdown",
   "id": "d9c5e259",
   "metadata": {
    "slideshow": {
     "slide_type": "notes"
    }
   },
   "source": [
    "Note that the structure is a 4-point decompostion followed by two 2-point FFTs.\n",
    "\n",
    "Also note that it is frequency $X_n[k]$ that is the input to the DFT stage."
   ]
  },
  {
   "cell_type": "markdown",
   "id": "8f4a46f1",
   "metadata": {
    "slideshow": {
     "slide_type": "slide"
    }
   },
   "source": [
    "### In Class Example 2\n",
    "\n",
    "Use four two-point DIF FFT to confirm that the DFT of the sequence \n",
    "\n",
    "$$x[n] = [1, 2, 3, 4]$$\n",
    "\n",
    "is \n",
    "\n",
    "$$X[m] = [10, -2+j2, -4, -2-j2].$$"
   ]
  },
  {
   "cell_type": "markdown",
   "id": "fde9dd3a",
   "metadata": {
    "slideshow": {
     "slide_type": "notes"
    }
   },
   "source": [
    "<pre style=\"border: 2px solid blue\">\n",
    "\n",
    "\n",
    "\n",
    "\n",
    "\n",
    "\n",
    "\n",
    "\n",
    "\n",
    "\n",
    "\n",
    "\n",
    "\n",
    "\n",
    "\n",
    "\n",
    "\n",
    "\n",
    "\n",
    "\n",
    "\n",
    "\n",
    "</pre>"
   ]
  },
  {
   "cell_type": "markdown",
   "id": "a0a6dbad",
   "metadata": {
    "slideshow": {
     "slide_type": "subslide"
    }
   },
   "source": [
    "#### SIMULINK Model of 4-Point DIF FFT\n",
    "\n",
    "[four_point_dif.slx](https://cpjobling.github.io/eg-247-textbook/dft/2/matlab/four_point_dif.slx)"
   ]
  },
  {
   "cell_type": "code",
   "execution_count": 5,
   "id": "769c1fe0",
   "metadata": {
    "slideshow": {
     "slide_type": "fragment"
    }
   },
   "outputs": [],
   "source": [
    "open four_point_dif"
   ]
  },
  {
   "cell_type": "markdown",
   "id": "d657c00b",
   "metadata": {
    "slideshow": {
     "slide_type": "notes"
    }
   },
   "source": [
    "### 8-Point DIF FFT\n",
    "\n",
    "I have created a Simulink model of the 8-point DIF FFT. I will create a signal flow graph to go with it at some point in the future.\n",
    "\n",
    "#### SIMULINK Model of 4-Point DIF FFT\n",
    "\n",
    "[eight_point_dif.slx](https://cpjobling.github.io/eg-247-textbook/dft/2/matlab/eight_point_dif.slx)"
   ]
  },
  {
   "cell_type": "markdown",
   "id": "e67eed36",
   "metadata": {
    "slideshow": {
     "slide_type": "slide"
    }
   },
   "source": [
    "## Efficiency of the FFT\n",
    "\n",
    "Wether we implement it as a Decomposition-in-Time (DIT) or a Decomposition-in-Frequency (DIF), the FFT ends up having approximately $(N/2)\\log_2(N)$ multiplications and a similar number of complex additions or subtractions. \n",
    "\n",
    "In other words, $(N)\\log_2(N)$ complex arithmetic operations.\n",
    "\n",
    "As complex arithmetic, particularly multiplication, is very expensive, this is a great saving over the DFT which has of order $N^2$ operations."
   ]
  },
  {
   "cell_type": "markdown",
   "id": "91670b11",
   "metadata": {
    "slideshow": {
     "slide_type": "subslide"
    }
   },
   "source": [
    "### DFT and FFT Comparisons\n",
    "\n",
    "Under the assumptions about the relative efficiency of the DFT and FFT we can create a table like that shown below:\n",
    "\n",
    "\n",
    "| &nbsp; |  &nbsp;      | DFT         | FFT       | FFT/DFT   |\n",
    "|--------|--------------|-------------|-----------|-----------|\n",
    "| N      | $\\log_2 N$ | $N^2$   | $N\\log_2 N$ |         % | \n",
    "| 8      | 3            | 64        | 24          | 37.5      |\n",
    "| 16     | 4            | 256       | 64          | 25        |\n",
    "| 32     | 5            | 1,024     | 160         | 15.6      |\n",
    "| 64     | 6            | 4,096     | 384         | 9.4       |\n",
    "| 128    | 7            | 16,384    | 896         | 5.5       |\n",
    "| 256    | 8            | 65,536    | 2,048       | 3.1       |\n",
    "| 512    | 9            | 261,144   | 4,608       | 1.8       |\n",
    "| 1024   | 10           | 1,048,576 | 10,240      | 1         |\n",
    "| 2048   | 11           | 4,194,304 | 22,528      | 0.5       |"
   ]
  },
  {
   "cell_type": "markdown",
   "id": "5332236d",
   "metadata": {
    "slideshow": {
     "slide_type": "notes"
    }
   },
   "source": [
    "As you can see, the efficiency of the FFT actual gets better as the number of samples go up! \n",
    "\n",
    "However, there are other costs, such as the data storage needed for intermediate steps, that need to be taken into account as well. For example, an 8-point FFT requires only a 3 stage decomposition, with each stage needing storage for 8 complex numbers. That is 24 in all. Whereas a 2048 sequence will require 11 stages, storing 2048 values each. That is a total of 22,528 complex values<sup>6</sup>."
   ]
  },
  {
   "cell_type": "markdown",
   "id": "99f3b195",
   "metadata": {
    "slideshow": {
     "slide_type": "slide"
    }
   },
   "source": [
    "## In Class Demonstrations"
   ]
  },
  {
   "cell_type": "markdown",
   "id": "717c745b",
   "metadata": {
    "slideshow": {
     "slide_type": "fragment"
    }
   },
   "source": [
    "### FFT in MATLAB\n",
    "\n",
    "The FFT algorithm is implemented, in MATLAB, as the function `fft`. We will conclude the class by working through Exercises 6 and 7 from section 10.8 of Karris."
   ]
  },
  {
   "cell_type": "markdown",
   "id": "3e6a75f2",
   "metadata": {
    "slideshow": {
     "slide_type": "subslide"
    }
   },
   "source": [
    "### Example 3\n",
    "\n",
    "Plot the Fourier transform of the rectangular pulse shown below, using the MATLAB `fft` func-tion. Then, use the `ifft` function to verify that the inverse transformation produces the rectangular pulse.\n",
    "\n",
    "![Example 3](pictures/fft_example1.png)"
   ]
  },
  {
   "cell_type": "markdown",
   "id": "9d6f541e",
   "metadata": {
    "slideshow": {
     "slide_type": "subslide"
    }
   },
   "source": [
    "#### FFT for Example 3\n",
    "\n",
    "The rectangular pulse can be produced like so"
   ]
  },
  {
   "cell_type": "code",
   "execution_count": 6,
   "id": "df1d7fc5",
   "metadata": {
    "slideshow": {
     "slide_type": "fragment"
    }
   },
   "outputs": [
    {
     "data": {
      "image/png": "[encoded data removed]",
      "text/plain": [
       "<IPython.core.display.Image object>"
      ]
     },
     "metadata": {
      "filenames": {
       "image/png": "/Users/eechris/code/src/github.com/cpjobling/eg-247-textbook/_build/jupyter_execute/dft/2/fft_91_0.png"
      }
     },
     "output_type": "display_data"
    }
   ],
   "source": [
    "x = [linspace(-2,-1,50) linspace(-1,1,100) linspace(1,2,50)];\n",
    "y = [linspace(0,0,50) linspace(1,1,100) linspace(0,0,50)];\n",
    "stem(x,y)"
   ]
  },
  {
   "cell_type": "markdown",
   "id": "d41e8118",
   "metadata": {
    "slideshow": {
     "slide_type": "subslide"
    }
   },
   "source": [
    "and the FFT is produced as"
   ]
  },
  {
   "cell_type": "code",
   "execution_count": 7,
   "id": "b1416b3c",
   "metadata": {
    "slideshow": {
     "slide_type": "fragment"
    }
   },
   "outputs": [
    {
     "data": {
      "image/png": "[encoded data removed]",
      "text/plain": [
       "<IPython.core.display.Image object>"
      ]
     },
     "metadata": {
      "filenames": {
       "image/png": "/Users/eechris/code/src/github.com/cpjobling/eg-247-textbook/_build/jupyter_execute/dft/2/fft_93_0.png"
      }
     },
     "output_type": "display_data"
    }
   ],
   "source": [
    "stem(x, abs(fft(y)))"
   ]
  },
  {
   "cell_type": "markdown",
   "id": "9686fc89",
   "metadata": {
    "slideshow": {
     "slide_type": "subslide"
    }
   },
   "source": [
    "unwind"
   ]
  },
  {
   "cell_type": "code",
   "execution_count": 8,
   "id": "0d58a6d0",
   "metadata": {
    "slideshow": {
     "slide_type": "fragment"
    }
   },
   "outputs": [
    {
     "data": {
      "image/png": "[encoded data removed]",
      "text/plain": [
       "<IPython.core.display.Image object>"
      ]
     },
     "metadata": {
      "filenames": {
       "image/png": "/Users/eechris/code/src/github.com/cpjobling/eg-247-textbook/_build/jupyter_execute/dft/2/fft_95_0.png"
      }
     },
     "output_type": "display_data"
    }
   ],
   "source": [
    "stem(x, abs(fftshift(fft(y))))"
   ]
  },
  {
   "cell_type": "markdown",
   "id": "aa9f4976",
   "metadata": {
    "slideshow": {
     "slide_type": "subslide"
    }
   },
   "source": [
    "The inverse FFT is obtained with"
   ]
  },
  {
   "cell_type": "code",
   "execution_count": 9,
   "id": "c1aa89a2",
   "metadata": {
    "slideshow": {
     "slide_type": "fragment"
    }
   },
   "outputs": [
    {
     "data": {
      "image/png": "[encoded data removed]",
      "text/plain": [
       "<IPython.core.display.Image object>"
      ]
     },
     "metadata": {
      "filenames": {
       "image/png": "/Users/eechris/code/src/github.com/cpjobling/eg-247-textbook/_build/jupyter_execute/dft/2/fft_97_0.png"
      }
     },
     "output_type": "display_data"
    }
   ],
   "source": [
    "stem(x, ifft(fft(y)))"
   ]
  },
  {
   "cell_type": "markdown",
   "id": "c91d2d45",
   "metadata": {
    "slideshow": {
     "slide_type": "subslide"
    }
   },
   "source": [
    "### Example 4\n",
    "\n",
    "![Example 4](pictures/fft_example2.png)"
   ]
  },
  {
   "cell_type": "markdown",
   "id": "79d104a9",
   "metadata": {
    "slideshow": {
     "slide_type": "subslide"
    }
   },
   "source": [
    "#### FFT Example 4\n",
    "\n",
    "The triangular pulse is obtained with"
   ]
  },
  {
   "cell_type": "code",
   "execution_count": 10,
   "id": "7aea4d91",
   "metadata": {
    "slideshow": {
     "slide_type": "fragment"
    }
   },
   "outputs": [
    {
     "data": {
      "image/png": "[encoded data removed]",
      "text/plain": [
       "<IPython.core.display.Image object>"
      ]
     },
     "metadata": {
      "filenames": {
       "image/png": "/Users/eechris/code/src/github.com/cpjobling/eg-247-textbook/_build/jupyter_execute/dft/2/fft_100_0.png"
      }
     },
     "output_type": "display_data"
    }
   ],
   "source": [
    "x = linspace(-1,1,100);\n",
    "y = [linspace(0,1,50) linspace(1,0,50)];\n",
    "stem(x,y)"
   ]
  },
  {
   "cell_type": "markdown",
   "id": "dc83dbc0",
   "metadata": {
    "slideshow": {
     "slide_type": "subslide"
    }
   },
   "source": [
    "and the FFT is obtained with"
   ]
  },
  {
   "cell_type": "code",
   "execution_count": 11,
   "id": "50ddcfc7",
   "metadata": {
    "slideshow": {
     "slide_type": "subslide"
    }
   },
   "outputs": [
    {
     "data": {
      "image/png": "[encoded data removed]",
      "text/plain": [
       "<IPython.core.display.Image object>"
      ]
     },
     "metadata": {
      "filenames": {
       "image/png": "/Users/eechris/code/src/github.com/cpjobling/eg-247-textbook/_build/jupyter_execute/dft/2/fft_102_0.png"
      }
     },
     "output_type": "display_data"
    }
   ],
   "source": [
    "stem(x, abs(fftshift(fft(y))))"
   ]
  },
  {
   "cell_type": "markdown",
   "id": "9b227a73",
   "metadata": {
    "slideshow": {
     "slide_type": "subslide"
    }
   },
   "source": [
    "The inverse FFT is obtained with"
   ]
  },
  {
   "cell_type": "code",
   "execution_count": 12,
   "id": "c1cbd46a",
   "metadata": {
    "slideshow": {
     "slide_type": "fragment"
    }
   },
   "outputs": [
    {
     "data": {
      "image/png": "[encoded data removed]",
      "text/plain": [
       "<IPython.core.display.Image object>"
      ]
     },
     "metadata": {
      "filenames": {
       "image/png": "/Users/eechris/code/src/github.com/cpjobling/eg-247-textbook/_build/jupyter_execute/dft/2/fft_104_0.png"
      }
     },
     "output_type": "display_data"
    }
   ],
   "source": [
    "stem(x, ifft(fft(y)))"
   ]
  },
  {
   "cell_type": "markdown",
   "id": "2e654da9",
   "metadata": {
    "slideshow": {
     "slide_type": "slide"
    }
   },
   "source": [
    "## Summary\n",
    "\n",
    "* The inefficiency of the DFT\n",
    "* The FFT - a sketch of its development\n",
    "* An illustration of part of the FFT algorithm\n",
    "* FFT v DFT\n",
    "* Two examples"
   ]
  },
  {
   "cell_type": "markdown",
   "id": "6cf94c91",
   "metadata": {
    "slideshow": {
     "slide_type": "slide"
    }
   },
   "source": [
    "## Homework\n",
    "\n",
    "Read the rest of Chapter 10 of Karris from page 10.9 and make your own notes on the implementation of the FFT."
   ]
  },
  {
   "cell_type": "markdown",
   "id": "a2bf14a3",
   "metadata": {
    "slideshow": {
     "slide_type": "slide"
    }
   },
   "source": [
    "## The End?\n",
    "\n",
    "* This concludes this module. \n",
    "* There is some material that I have not covered, most notably is a significant amount of additional information about **Filter Design** (including the use of MATLAB for this) in Chapter 11 of Karris."
   ]
  },
  {
   "cell_type": "markdown",
   "id": "dd9934c1",
   "metadata": {
    "slideshow": {
     "slide_type": "notes"
    }
   },
   "source": [
    "## References\n",
    "\n",
    "See [Bibliography](/zbib)."
   ]
  },
  {
   "cell_type": "markdown",
   "id": "c5f6df84",
   "metadata": {
    "slideshow": {
     "slide_type": "notes"
    }
   },
   "source": [
    "### Footnotes\n",
    "\n",
    "1. *Note*: addition of two complex numbers $(a + jb) + (c + jd) = (a+b) + j(b + d)$ so requires 2 floating-point additions; multiplication $(a + jb)(c + jd) = (ac - bd)+j(ad + bc)$ requires four floating-point multiplications and two additions. \n",
    "\n",
    "    In MATLAB, complex numbers are represented internally as two 64 bit floating point operations so each complex operation is expensive both in terms of computing time and working memory space. And the result of an N-point DFT will require twice the memory of the original sequence, assuming that it is stored as floating point real numbers, considerably 16 times the storage is needed if the original sequence is the result of sampling by, say, an 8 bit ADC.\n",
    "\n",
    "    Of course, modern 64 bit mirocprocessers have hardware support for floating point operations and so these operations take a minumum number of machine cycles. Digital Signal Processors and Graphic Processing Units, probably have hardware support for complex arithmetic too. Nonethess, complex arithmetic is an expensive operation, so any simplifications we can make will be valuable.\n",
    "\n",
    "2. Even if we do not have a real sequence, we only need to compute the first $N/2$ values of the spectrum because the sequence for $X[k]$ from $N/2 + 1 < k \\le N-1$ are complex conjugates, in the reverse order, of the sequence of $X[k]$ for $0 \\le k < N/2$. This is easy to prove by looking at the geometry of the unit circle in the z-plane.\n",
    "\n",
    "3. If $N=1024$, $N\\log_2 N = 1024\\times 10 = 10,240$ complex operations.\n",
    "\n",
    "4. The Inverse FFT (IFFT) follows by noting that the rotation vector used in its computation is the complex conjugate\n",
    "$$W_N^{-1}.$$\n",
    "\n",
    "5. Karris goes further in showing how the decomposition used to implement the FFT can be further be understood by considering even and odd decompositions. This is also the approach taken by Phillips *et al.* reproduced here.\n",
    "You'll also find that most text books on Digital Signal Processing will cover the FFT and give more or less understandable presentations of the way the algorithm works.\n",
    "\n",
    "6. A complex number in MATLAB is 2 floating point doubles or 128 bits. So a 2048 \"bin\" FFT needs storage in RAM for approximately $22,528\\times 128 = 2.9$ Mbit ($260$ kByte) of data."
   ]
  },
  {
   "cell_type": "markdown",
   "id": "238a860e",
   "metadata": {
    "slideshow": {
     "slide_type": "notes"
    }
   },
   "source": [
    "## Solutions"
   ]
  },
  {
   "cell_type": "markdown",
   "id": "ca3ab158",
   "metadata": {
    "slideshow": {
     "slide_type": "notes"
    }
   },
   "source": [
    "### Example 1\n",
    "\n",
    "From the mathematical development and signal flow graph shown earlier:\n",
    "\n",
    "$$\\begin{eqnarray*}\n",
    "X_e[0] &=& x[0] + x[2] = 1 + 3 = 4;\\\\\n",
    "X_e[1] &=& x[0] - x[2] = 1 - 3 = -2;\\\\\n",
    "X_o[0] &=& x[1] + x[3] = 2 + 4 = 6;\\\\\n",
    "X_o[1] &=& x[1] - x[3] = 2 - 4 = -2.\n",
    "\\end{eqnarray*}$$\n",
    "\n",
    "Thus,\n",
    "\n",
    "$$\\begin{eqnarray*}\n",
    "X[0] &=& X_e[0] + X_o[0] = 4 + 6 = 10,\\\\\n",
    "X[1] &=& X_e[1] + W_4^1 X_o[1] = -2 + (-j)(-2) = -2 - j2,\\\\\n",
    "X[2] &=& X_e[0] - X_o[0] = 4 - 6 = -2,\\\\\n",
    "X[3] &=& X_e[1] - W_4^1 X_o[1] = -2 - (-j)(-2) = -2 + j2.\n",
    "\\end{eqnarray*}$$\n",
    "\n",
    "Q.E.D."
   ]
  },
  {
   "cell_type": "markdown",
   "id": "8b3be1d8",
   "metadata": {
    "slideshow": {
     "slide_type": "notes"
    }
   },
   "source": [
    "### Example 2\n",
    "\n",
    "After decomposition we have:\n",
    "\n",
    "$$\\begin{eqnarray*}\n",
    "X_1[0] &=& x[0] + x[2] = 1 + 3 = 4;\\\\\n",
    "X_1[1] &=& W_4^0\\left[x[1] - x[3]\\right] = 2 + 4 = 6;\\\\\n",
    "X_2[0] &=& x[0] - x[2] = 1 - 3 = -2;\\\\\n",
    "X_2[1] &=& W_4^1\\left[x[1] - x[3]\\right] = -j[2 - 4] = -j2.\n",
    "\\end{eqnarray*}$$\n",
    "\n",
    "Hence, after 2-point FFT:\n",
    "\n",
    "$$\\begin{eqnarray*}\n",
    "X[0] &=& X_1[0] + X_1[1] = 4 + 6 = 10,\\\\\n",
    "X[1] &=& X_2[0] + X_2[1] = -2 - j2,\\\\\n",
    "X[2] &=& X_1[0] - X_1[1] = 4 - 6 = -2,\\\\\n",
    "X[3] &=& X_2[0] - X_2[1] = -2 + j2.\n",
    "\\end{eqnarray*}$$\n",
    "\n",
    "Q.E.D."
   ]
  },
  {
   "cell_type": "markdown",
   "id": "97ce9854",
   "metadata": {
    "slideshow": {
     "slide_type": "notes"
    }
   },
   "source": [
    "### Example 3\n",
    "\n",
    "See script [fft_ex1.m](https://cpjobling.github.io/eg-247-textbook/dft/2/matlab/fft_ex1.m).\n",
    "\n",
    "### Example 4\n",
    "\n",
    "See script [fft_ex2.m](https://cpjobling.github.io/eg-247-textbook/dft/2/matlab/fft_ex2.m)."
   ]
  }
 ],
 "metadata": {
  "jupytext": {
   "formats": "ipynb,md:myst",
   "text_representation": {
    "extension": ".md",
    "format_name": "myst",
    "format_version": 0.13,
    "jupytext_version": "1.14.1"
   }
  },
  "kernelspec": {
   "display_name": "Matlab",
   "language": "matlab",
   "name": "matlab"
  },
  "language_info": {
   "codemirror_mode": "octave",
   "file_extension": ".m",
   "help_links": [
    {
     "text": "MetaKernel Magics",
     "url": "https://metakernel.readthedocs.io/en/latest/source/README.html"
    }
   ],
   "mimetype": "text/x-octave",
   "name": "matlab",
   "version": "0.17.1"
  },
  "source_map": [
   15,
   19,
   31,
   37,
   45,
   51,
   55,
   59,
   63,
   67,
   71,
   75,
   81,
   87,
   93,
   105,
   111,
   115,
   119,
   123,
   127,
   131,
   135,
   139,
   143,
   147,
   151,
   155,
   159,
   165,
   169,
   175,
   185,
   193,
   205,
   230,
   236,
   244,
   252,
   256,
   260,
   264,
   268,
   272,
   276,
   280,
   284,
   288,
   294,
   303,
   309,
   313,
   319,
   325,
   336,
   344,
   352,
   364,
   373,
   382,
   388,
   397,
   407,
   418,
   422,
   426,
   432,
   438,
   446,
   458,
   485,
   491,
   495,
   501,
   507,
   515,
   523,
   533,
   539,
   545,
   557,
   584,
   590,
   598,
   608,
   618,
   638,
   644,
   648,
   654,
   662,
   668,
   678,
   682,
   690,
   694,
   702,
   706,
   714,
   720,
   726,
   736,
   740,
   748,
   752,
   760,
   770,
   776,
   783,
   789,
   811,
   815,
   839,
   863
  ]
 },
 "nbformat": 4,
 "nbformat_minor": 5
}