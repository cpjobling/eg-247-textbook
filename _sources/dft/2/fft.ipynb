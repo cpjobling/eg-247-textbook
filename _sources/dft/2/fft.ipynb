{
 "cells": [
  {
   "cell_type": "markdown",
   "id": "102eaee1",
   "metadata": {
    "slideshow": {
     "slide_type": "slide"
    }
   },
   "source": [
    "(unit6.2)=\n",
    "# Unit 6.2: The Fast Fourier Transform"
   ]
  },
  {
   "cell_type": "markdown",
   "id": "1a1149a0",
   "metadata": {
    "slideshow": {
     "slide_type": "skip"
    }
   },
   "source": [
    "## Colophon\n",
    "\n",
    "An annotatable worksheet for this presentation is available as [**Worksheet 19**](worksheet19).\n",
    "\n",
    "* The source code for this page is [dft/1/dft.ipynb](https://github.com/cpjobling/eg-247-textbook/blob/master/dft/2/fft.ipynb).\n",
    "\n",
    "* You can view the notes for this presentation as a webpage ([HTML](https://cpjobling.github.io/eg-247-textbook/dft/2/fft.html)). \n",
    "\n",
    "* This page is downloadable as a [PDF](https://cpjobling.github.io/eg-247-textbook/dft/2/fft.pdf) file."
   ]
  },
  {
   "cell_type": "markdown",
   "id": "742f0ffc",
   "metadata": {
    "slideshow": {
     "slide_type": "subslide"
    },
    "tags": []
   },
   "source": [
    "## Scope and Background Reading\n",
    "\n",
    "This session introduces the fast fourier transform (FFT) which is one of the most widely used numerical algorithms in the world. It exploits some features of the symmetry of the computation of the DFT to reduce the complexity from something that takes order $N^2$ ($O(N^2)$) complex operations to something that takes order $N \\log N$ ($O(N \\log N)$) operations."
   ]
  },
  {
   "cell_type": "markdown",
   "id": "80032251",
   "metadata": {
    "slideshow": {
     "slide_type": "notes"
    }
   },
   "source": [
    "The FFT is to be found in all manner of signal and image processing algorithms, and because it is more efficient than the DFT, you will find it exploited in hundreds of signal processing applications.\n",
    "\n",
    "As one example, it turns out that the computation of the convolution of two long DT sequences is more efficient if the FFT of the two signals is taken, the product of the frequency spectra is computed, and the Inverse DFT of the result is computed.\n",
    "\n",
    "In this presentation, we will not go through the mathematical development of the FFT, please read section 10.6 of Karris if you want the details. Here we will concentrate on the benefits to be gained by using the FFT and give some examples of its use in MATLAB."
   ]
  },
  {
   "cell_type": "markdown",
   "id": "fa616737",
   "metadata": {
    "slideshow": {
     "slide_type": "subslide"
    }
   },
   "source": [
    "### Acknowledgements\n",
    "\n",
    "The material in this presentation and notes is based on [Chapter 10](https://ebookcentral.proquest.com/lib/swansea-ebooks/reader.action?docID=44853&ppg=405) of {cite}`karris` from the **Required Reading List**. The models of the FFT signal flow graphs and Simulink block diagrams are based on the presentation given in Section 12.5 of {cite}`phillips`."
   ]
  },
  {
   "cell_type": "markdown",
   "id": "1e7a8385",
   "metadata": {
    "slideshow": {
     "slide_type": "slide"
    }
   },
   "source": [
    "## Agenda"
   ]
  },
  {
   "cell_type": "markdown",
   "id": "89970650",
   "metadata": {
    "slideshow": {
     "slide_type": "fragment"
    }
   },
   "source": [
    "* The inefficiency of the DFT"
   ]
  },
  {
   "cell_type": "markdown",
   "id": "7b2ddf51",
   "metadata": {
    "slideshow": {
     "slide_type": "fragment"
    }
   },
   "source": [
    "* The FFT - a sketch of its development"
   ]
  },
  {
   "cell_type": "markdown",
   "id": "6d8cdb11",
   "metadata": {
    "slideshow": {
     "slide_type": "fragment"
    }
   },
   "source": [
    "* An illustration of part of the FFT algorithm"
   ]
  },
  {
   "cell_type": "markdown",
   "id": "de665e53",
   "metadata": {
    "slideshow": {
     "slide_type": "fragment"
    }
   },
   "source": [
    "* FFT v DFT"
   ]
  },
  {
   "cell_type": "markdown",
   "id": "03983e30",
   "metadata": {
    "slideshow": {
     "slide_type": "fragment"
    }
   },
   "source": [
    "* Two examples"
   ]
  },
  {
   "cell_type": "markdown",
   "id": "70d25b6a",
   "metadata": {
    "slideshow": {
     "slide_type": "fragment"
    }
   },
   "source": [
    "* Frequency and Amplitude Scaling"
   ]
  },
  {
   "cell_type": "markdown",
   "id": "78d88ed7",
   "metadata": {
    "slideshow": {
     "slide_type": "slide"
    }
   },
   "source": [
    "## The inefficiency of the DFT\n",
    "\n",
    "Consider a signal whose highest frequency is 18 kHz, the sampling frequency is 50 kHz, and 1024 samples are taken, i.e., $N=1024$."
   ]
  },
  {
   "cell_type": "markdown",
   "id": "74b26103",
   "metadata": {
    "slideshow": {
     "slide_type": "fragment"
    }
   },
   "source": [
    "The time required to compute the entire DFT would be:\n",
    "\n",
    "$$t = \\frac{1024\\,\\mathrm{samples}}{50\\times 10^3\\,\\mathrm{samples\\ per\\ second}} = 20.48\\,\\mathrm{ms}$$"
   ]
  },
  {
   "cell_type": "markdown",
   "id": "0f05cc51",
   "metadata": {
    "slideshow": {
     "slide_type": "subslide"
    }
   },
   "source": [
    "To compute the number of operations required to complete this task, let us expand the N-point DFT defined as:\n",
    "\n",
    "$$X[m] = \\sum_{n=0}^{N-1} x[n] W_N^{mn}$$"
   ]
  },
  {
   "cell_type": "markdown",
   "id": "db934123",
   "metadata": {
    "slideshow": {
     "slide_type": "subslide"
    }
   },
   "source": [
    "Then\n",
    "\n",
    "$$\\begin{eqnarray*}\n",
    "  X[0] &=& x[0]W_N^0 + x[1]W_N^0 + x[1]W_N^0 +  \\cdots  + x[N - 1]W_N^0 \\hfill \\\\\n",
    "  X[1] &=& x[0]W_N^0 + x[1]W_N^1 + x[1]W_N^2 +  \\cdots  + x[N - 1]W_N^{N - 1} \\hfill \\\\\n",
    "  X[2] &=& x[0]W_N^0 + x[1]W_N^2 + x[1]W_N^4 +  \\cdots  + x[N - 1]W_N^{2(N - 1)} \\hfill \\\\\n",
    "  \\hfil &\\cdots&  \\hfill \\\\\n",
    "  X[N - 1] &=& x[0]W_N^0 + x[1]W_N^{N - 1} + x[1]W_N^{2(N - 1)} +  \\cdots  + x[N - 1]W_N^{(N - 1)^2} \\hfill \\\\ \n",
    "\\end{eqnarray*}$$"
   ]
  },
  {
   "cell_type": "markdown",
   "id": "8b9f8dd4",
   "metadata": {
    "slideshow": {
     "slide_type": "subslide"
    }
   },
   "source": [
    "* It is worth remembering that \n",
    "\n",
    "$$W_N^0 = \\exp\\left(-j\\frac{2\\pi}{N}(0)\\right) = 1.$$"
   ]
  },
  {
   "cell_type": "markdown",
   "id": "480490e8",
   "metadata": {
    "slideshow": {
     "slide_type": "fragment"
    }
   },
   "source": [
    "* Since $W_N^i$ is a complex number, the computation of any frequency component $X[k]$ requires $N$ complex multiplications and $N$ complex additions"
   ]
  },
  {
   "cell_type": "markdown",
   "id": "fbb350a1",
   "metadata": {
    "slideshow": {
     "slide_type": "fragment"
    }
   },
   "source": [
    "* $2N$ complex arithmetic operations are required to compute any frequency component of $X[k].$<sup>1</sup>"
   ]
  },
  {
   "cell_type": "markdown",
   "id": "8e712470",
   "metadata": {
    "slideshow": {
     "slide_type": "fragment"
    }
   },
   "source": [
    "* If we assume that $x[n]$ is real, then only $N/2$ of the $X[m]$ components are unique."
   ]
  },
  {
   "cell_type": "markdown",
   "id": "f82d76cd",
   "metadata": {
    "slideshow": {
     "slide_type": "fragment"
    }
   },
   "source": [
    "* Therefore we would require $2N\\times N/2 = N^2$ complex operations to compute the entire frequency spectrum.<sup>2</sup>"
   ]
  },
  {
   "cell_type": "markdown",
   "id": "19f07ab3",
   "metadata": {
    "slideshow": {
     "slide_type": "subslide"
    }
   },
   "source": [
    "* For our example, the $N=1024$-point DFT, would require $1024^2 = 1,048,576$ complex operations"
   ]
  },
  {
   "cell_type": "markdown",
   "id": "8f8d66ae",
   "metadata": {
    "slideshow": {
     "slide_type": "fragment"
    }
   },
   "source": [
    "* These would have to be completed in 20.48 ms."
   ]
  },
  {
   "cell_type": "markdown",
   "id": "352a94e1",
   "metadata": {
    "slideshow": {
     "slide_type": "fragment"
    }
   },
   "source": [
    "* This may be possible with modern computing hardware, perhaps even in a mobile phone, but it seems impractical."
   ]
  },
  {
   "cell_type": "markdown",
   "id": "275ad5a5",
   "metadata": {
    "slideshow": {
     "slide_type": "subslide"
    }
   },
   "source": [
    "* Fortunately, many of the $W_N$ terms in the computation are unity ($=\\pm 1$)."
   ]
  },
  {
   "cell_type": "markdown",
   "id": "ad8df25e",
   "metadata": {
    "slideshow": {
     "slide_type": "fragment"
    }
   },
   "source": [
    "* Moreover, because the $W_N^i$ points are equally spaced points on the unit circle;"
   ]
  },
  {
   "cell_type": "markdown",
   "id": "5ed2b4d3",
   "metadata": {
    "slideshow": {
     "slide_type": "fragment"
    }
   },
   "source": [
    "* And because $N$ is a power of 2, the points on the upper-half plane (range $0 < \\theta < \\pi$ are the mirror image of the points on the lower-half plane range $\\pi < \\theta < 2\\pi$;"
   ]
  },
  {
   "cell_type": "markdown",
   "id": "2f642f89",
   "metadata": {
    "slideshow": {
     "slide_type": "fragment"
    }
   },
   "source": [
    "* Thus, there is a great deal of symmetry in the computation that can be exploited to simplify the computation and reduce the number of operations considerably to a much more manageable $N\\log_2 N$ operations<sup>3</sup>."
   ]
  },
  {
   "cell_type": "markdown",
   "id": "700f1aee",
   "metadata": {
    "slideshow": {
     "slide_type": "fragment"
    }
   },
   "source": [
    "This is possible with the algorithm called the [FTT](https://en.wikipedia.org/wiki/Fast_Fourier_transform) (fast Fourier transform) that was originally developed by [James Cooley](https://en.wikipedia.org/wiki/James_Cooley) and [John Tukey](https://en.wikipedia.org/wiki/John_Tukey) and has been considerably refined since."
   ]
  },
  {
   "cell_type": "markdown",
   "id": "1f7e2358",
   "metadata": {
    "slideshow": {
     "slide_type": "slide"
    }
   },
   "source": [
    "## The Fast Fourier Transform (FFT)\n",
    "\n",
    "The FFT is very well documented, including in Karris, so we will only sketch its development and present its main result. However, we will illustrate part of the algorithm to make concrete an idea of the efficiency advantage that the FFT has over the DFT that we have already seen."
   ]
  },
  {
   "cell_type": "markdown",
   "id": "7a746b7f",
   "metadata": {
    "slideshow": {
     "slide_type": "fragment"
    }
   },
   "source": [
    "Much of the development follows from the properties of the rotating vector.<sup>4</sup>"
   ]
  },
  {
   "cell_type": "markdown",
   "id": "bb217354",
   "metadata": {
    "slideshow": {
     "slide_type": "subslide"
    }
   },
   "source": [
    "$$W_N=\\exp\\left(-\\frac{j2\\pi}{N}\\right)$$\n",
    "\n",
    "which results in some simplifications and mathematical short-cuts when $N$ is a power of 2."
   ]
  },
  {
   "cell_type": "markdown",
   "id": "9e4f4787",
   "metadata": {
    "slideshow": {
     "slide_type": "subslide"
    }
   },
   "source": [
    "The most useful properties are:\n",
    "\n",
    "$$\\begin{eqnarray*}\n",
    "  W_N^N &=& \\exp\\left(-j\\frac{2\\pi}{N}N\\right) = \\exp\\left(-j2\\pi\\right) = 1.\\\\\n",
    "  W_N^{N/2} &=&  \\exp\\left(-j\\frac{2\\pi}{N}\\frac{N}{2}\\right) = \\exp\\left(-j\\pi\\right) = -1.\\\\\n",
    "  W_N^{N/4} &=&  \\exp\\left(-j\\frac{2\\pi}{N}\\frac{N}{4}\\right) = \\exp\\left(-j\\pi/2\\right) = -j.\\\\\n",
    "  W_N^{3N/4} &=&  \\exp\\left(-j\\frac{2\\pi}{N}\\frac{3N}{4}\\right) = \\exp\\left(-j3\\pi/2\\right) = j.\\end{eqnarray*}$$"
   ]
  },
  {
   "cell_type": "markdown",
   "id": "15c43605",
   "metadata": {
    "slideshow": {
     "slide_type": "subslide"
    }
   },
   "source": [
    "$$\\begin{eqnarray*}\n",
    "  W_N^{kN} &=&  \\exp\\left(-j\\frac{2\\pi}{N}kN\\right) = \\exp\\left(-j2\\pi\\right) = 1,\\,k=0,1,2,\\ldots\\\\\n",
    "  W_N^{kN+r} &=&  \\exp\\left(-j\\frac{2\\pi}{N}kN\\right)\\exp\\left(-j\\frac{2\\pi}{N}r\\right) = 1.W_N^r=W_N^r.\\\\\n",
    "  W_{2N}^{k} &=&  \\exp\\left(-j\\frac{2\\pi}{2N}k\\right) = \\exp\\left(-j\\frac{2\\pi}{N}\\frac{k}{2}\\right) = W_N^{k/2}.\n",
    "\\end{eqnarray*}$$"
   ]
  },
  {
   "cell_type": "markdown",
   "id": "6097ae9b",
   "metadata": {
    "slideshow": {
     "slide_type": "subslide"
    }
   },
   "source": [
    "Representing\n",
    "\n",
    "$$\\begin{eqnarray*}\n",
    "  X[0] &=& x[0]W_N^0 + x[1]W_N^0 + x[2]W_N^0 +  \\cdots  + x[N - 1]W_N^0 \\hfill \\\\\n",
    "  X[1] &=& x[0]W_N^0 + x[1]W_N^1 + x[2]W_N^2 +  \\cdots  + x[N - 1]W_N^{N - 1} \\hfill \\\\\n",
    "  X[2] &=& x[0]W_N^0 + x[1]W_N^2 + x[2]W_N^4 +  \\cdots  + x[N - 1]W_N^{2(N - 1)} \\hfill \\\\\n",
    "  \\hfil &\\cdots&  \\hfill \\\\\n",
    "  X[N - 1] &=& x[0]W_N^0 + x[1]W_N^{N - 1} + x[2]W_N^{2(N - 1)} +  \\cdots  + x[N - 1]W_N^{(N - 1)^2} \\hfill \\\\ \n",
    "\\end{eqnarray*}$$"
   ]
  },
  {
   "cell_type": "markdown",
   "id": "6c44e79f",
   "metadata": {
    "slideshow": {
     "slide_type": "subslide"
    }
   },
   "source": [
    "in matrix form:\n",
    "\n",
    "$$\n",
    "\\left[ {\\begin{array}{*{20}{c}}\n",
    "{X[0]}\\\\\n",
    "{X[1]}\\\\\n",
    "{X[2]}\\\\\n",
    " \\vdots \\\\\n",
    "{X[N - 1]}\\end{array}} \\right] = \\left[ {\\begin{array}{*{20}{c}}\n",
    "{W_N^0}&{W_N^0}&{W_N^0}&\\cdots&{W_N^0}\\\\\n",
    "{W_N^0}&{W_N^1}&{W_N^2}&\\cdots&{W_N^{N - 1}}\\\\\n",
    "{W_N^0}&{W_N^2}&{W_N^4}&\\cdots&{W_N^{2(N - 1)}}\\\\\n",
    "\\cdots&\\cdots&\\cdots&\\cdots&\\cdots\\\\\n",
    "{W_N^0}&{W_N^{N - 1}}&{W_N^{2(N - 1)}}&\\cdots&W_N^{(N - 1)^2}\\\\\n",
    "\\end{array}} \\right]\\left[ {\\begin{array}{*{20}{c}}\n",
    "{x[0]}\\\\\n",
    "{x[1]}\\\\\n",
    "{x[2]}\\\\\n",
    " \\vdots \\\\\n",
    "{x[N - 1]}\n",
    "\\end{array}} \\right].\n",
    "$$"
   ]
  },
  {
   "cell_type": "markdown",
   "id": "30c83ed0",
   "metadata": {
    "slideshow": {
     "slide_type": "subslide"
    }
   },
   "source": [
    "This is a complex [Vandemonde matrix](https://en.wikipedia.org/wiki/Vandermonde_matrix) and it is more compactly expressed as:\n",
    "\n",
    "$$\\mathbf{X}[m] = \\mathbf{W_N} \\mathbf{x}[n]$$"
   ]
  },
  {
   "cell_type": "markdown",
   "id": "083fa211",
   "metadata": {
    "slideshow": {
     "slide_type": "subslide"
    }
   },
   "source": [
    "The algorithm developed by Cooley and Tukey is based on *matrix decomposition* methods, where the matrix $\\mathbf{W_N}$ is factored into $L$ smaller matrices, that is:\n",
    "\n",
    "$$\\mathbf{W_N} = \\mathbf{W_1} \\mathbf{W_2} \\mathbf{W_3} \\cdots \\mathbf{W_L}$$\n",
    "\n",
    "where $L$ is chosen as $L = \\log_2N$ or $N=2^L$."
   ]
  },
  {
   "cell_type": "markdown",
   "id": "40995a94",
   "metadata": {
    "slideshow": {
     "slide_type": "subslide"
    }
   },
   "source": [
    "Each row of the matrices on the right side of the decomposition, contains only two, non-zero terms, unity and $W_N^k$. \n",
    "\n",
    "And the DFT sequence is:\n",
    "\n",
    "$$\\mathbf{X}[m] = \\mathbf{W_1} \\mathbf{W_2} \\mathbf{W_3} \\cdots \\mathbf{W_L} \\mathbf{x}[n].$$"
   ]
  },
  {
   "cell_type": "markdown",
   "id": "3df09f9a",
   "metadata": {
    "slideshow": {
     "slide_type": "notes"
    }
   },
   "source": [
    "The FFT computation starts with matrix $\\mathbf{W}_L$. It operates on $\\mathbf{x}[n]$ producing a row vector, and each component of the row vector is obtained by one multiplication and one addition. This is because there are only two non-zero elements on a given row, and one of those elements is unity. Since there are $N$ components of $\\mathbf{x}[n]$, there will be $N$ complex multiplications and $N$ complex additions."
   ]
  },
  {
   "cell_type": "markdown",
   "id": "477dda7c",
   "metadata": {
    "slideshow": {
     "slide_type": "subslide"
    }
   },
   "source": [
    "This new vector is then operated on by the $\\mathbf{W}_{L-1}$ matrix, then on $\\mathbf{W}_{L-2}$ and so on, until the entire operation is completed."
   ]
  },
  {
   "cell_type": "markdown",
   "id": "a67d9eec",
   "metadata": {
    "slideshow": {
     "slide_type": "subslide"
    }
   },
   "source": [
    "It appears that the entire operation would require $NL= N\\log_2N$ complex additions and also $N\\log_2N$ complex additions."
   ]
  },
  {
   "cell_type": "markdown",
   "id": "367aaff6",
   "metadata": {
    "slideshow": {
     "slide_type": "fragment"
    }
   },
   "source": [
    "However, since $W_N^0 = 1$, $W_N^{N/2}=-1$, and other simplifications, it is estimated that only about half of these, that is, $N\\log_2 N$ total complex arithmetic operations are required by the FFT versus the $N^2$ required by the DFT<sup>5</sup>."
   ]
  },
  {
   "cell_type": "markdown",
   "id": "85be2206",
   "metadata": {
    "slideshow": {
     "slide_type": "subslide"
    }
   },
   "source": [
    "### Decomposition-in-Time FFT Algorithm"
   ]
  },
  {
   "cell_type": "markdown",
   "id": "fb2ba27b",
   "metadata": {
    "slideshow": {
     "slide_type": "fragment"
    }
   },
   "source": [
    "This development follows (Philips, *et al.*, 2015). It is called the *decomposition-in-time (DIT), radix-2, FFT*."
   ]
  },
  {
   "cell_type": "markdown",
   "id": "b1b9eabd",
   "metadata": {
    "slideshow": {
     "slide_type": "fragment"
    }
   },
   "source": [
    "It allows us to visualize the FFT as a block diagram (for simulation) or a signal flow graph (for ease of drawing)."
   ]
  },
  {
   "cell_type": "markdown",
   "id": "17158ff5",
   "metadata": {
    "slideshow": {
     "slide_type": "fragment"
    }
   },
   "source": [
    "We start from a 2-point FFT ($N=2$), and work up to an 8-point FFT ($N=8$) before generalizing the result."
   ]
  },
  {
   "cell_type": "markdown",
   "id": "2a295cdf",
   "metadata": {
    "slideshow": {
     "slide_type": "notes"
    }
   },
   "source": [
    "We have implemented each algorithm in Simulink so we are able illustrate these structures with executable examples as we go."
   ]
  },
  {
   "cell_type": "markdown",
   "id": "8caff691",
   "metadata": {
    "slideshow": {
     "slide_type": "subslide"
    }
   },
   "source": [
    "#### 2-Point DFT\n",
    "\n",
    "$$X[k] = \\sum_{n=0}^1 x[n]W^{nk}_2 = x[0]W_2^{0k} + X[1]W_2^{1k},\\,k=0,1.$$"
   ]
  },
  {
   "cell_type": "markdown",
   "id": "f322d718",
   "metadata": {
    "slideshow": {
     "slide_type": "fragment"
    }
   },
   "source": [
    "Because $W_2^{0k}=\\exp\\left(j0\\right)=1$ and $W_2^{1k}=\\exp\\left(-j\\pi k\\right)=(-1)^k$, we write\n",
    "\n",
    "$$\\begin{eqnarray*}\n",
    "X[0] &=& x[0]+x[1];\\\\\n",
    "X[1] &=& x[0]-x[1].\n",
    "\\end{eqnarray*}$$"
   ]
  },
  {
   "cell_type": "markdown",
   "id": "df2eb59c",
   "metadata": {
    "slideshow": {
     "slide_type": "subslide"
    }
   },
   "source": [
    "In general for the 2-point DFT, we have\n",
    "\n",
    "$$X[k]=x[0]+(-1)^kx[1].$$"
   ]
  },
  {
   "cell_type": "markdown",
   "id": "1c40868e",
   "metadata": {
    "slideshow": {
     "slide_type": "subslide"
    }
   },
   "source": [
    "![Signal flow graph of 2-point DFT](pictures/2-point-dft-sfg.png)"
   ]
  },
  {
   "cell_type": "markdown",
   "id": "cda2eecd",
   "metadata": {
    "slideshow": {
     "slide_type": "notes"
    }
   },
   "source": [
    "An equivalent Simulink model in block diagram form is:\n",
    "\n",
    "![2-point dft](pictures/2-point-dft.png)"
   ]
  },
  {
   "cell_type": "markdown",
   "id": "ceb57b52",
   "metadata": {
    "slideshow": {
     "slide_type": "subslide"
    }
   },
   "source": [
    "#### Let's See it in MATLAB\n",
    "\n",
    "[two_point_dft.slx](https://cpjobling.github.io/eg-247-textbook/dft/2/matlab/two_point_dft.slx)"
   ]
  },
  {
   "cell_type": "code",
   "execution_count": 66,
   "id": "f695b146",
   "metadata": {
    "slideshow": {
     "slide_type": "fragment"
    }
   },
   "outputs": [
    {
     "name": "stderr",
     "output_type": "stream",
     "text": [
      "\u001b[0;31mError using cd\n",
      "Unable to change current folder to '/Users/eechris/code/src/github.com/cpjobling/eg-247-textbook/dft/2/matlab/matlab' (Name is nonexistent or not a folder).\n",
      "\u001b[0m"
     ]
    }
   ],
   "source": [
    "cd matlab\n",
    "clear all\n",
    "format compact"
   ]
  },
  {
   "cell_type": "code",
   "execution_count": 67,
   "id": "30a1f77a",
   "metadata": {
    "slideshow": {
     "slide_type": "fragment"
    }
   },
   "outputs": [],
   "source": [
    "open two_point_dft"
   ]
  },
  {
   "cell_type": "markdown",
   "id": "7382eece",
   "metadata": {
    "slideshow": {
     "slide_type": "slide"
    }
   },
   "source": [
    "#### 4-point DFT\n",
    "\n",
    "The 4-point DFT is given by\n",
    "\n",
    "$$X[k] = \\sum_{n=0}^3 x[n]W_4^{nk}= x[0]W_4^{0k} + x[1]W_4^{1k} + x[2]W_4^{2k} + x[3]W_4^{3k}.$$"
   ]
  },
  {
   "cell_type": "markdown",
   "id": "9074ab43",
   "metadata": {
    "slideshow": {
     "slide_type": "subslide"
    }
   },
   "source": [
    "As a result of the periodicity of the weighting factor, we can simplify this expression:\n",
    "\n",
    "$$\\begin{eqnarray*}\n",
    "W_N^{nk} &=& \\exp\\left(-j(2\\pi/N)nk\\right);\\\\\n",
    "W_4^{0k} &=& 1;\\\\\n",
    "W_4^{1k} &=& \\exp\\left(-j(\\pi/2)k\\right) = (-j)^k;\\\\\n",
    "W_4^{2k} &=& \\exp\\left(-j\\pi k\\right) = (-1)^k;\\\\\n",
    "W_4^{3k} &=& W_4^{2k}W_4^{1k}=(-1)^k W_4^{1k}.\n",
    "\\end{eqnarray*}$$"
   ]
  },
  {
   "cell_type": "markdown",
   "id": "6576dd02",
   "metadata": {
    "slideshow": {
     "slide_type": "subslide"
    }
   },
   "source": [
    "Using these results, we write\n",
    "\n",
    "$$\\begin{eqnarray*}\n",
    "X[k] &=&  x[0] + x[1]W_4^{1k} + x[2](-1)^k + x[3](-1)^kW_4^{1k},\\\\\n",
    "X[k] &=&  \\left[x[0] + x[2](-1)^k\\right] \\left[x[1] +  x[3](-1)^k\\right]W_4^{1k}.\n",
    "\\end{eqnarray*}$$"
   ]
  },
  {
   "cell_type": "markdown",
   "id": "bebf1961",
   "metadata": {
    "slideshow": {
     "slide_type": "subslide"
    }
   },
   "source": [
    "To clarify the next step, we define two new variables\n",
    "\n",
    "$$\\begin{eqnarray*}\n",
    "x_e[n]&=&x[2n],\\,n=0,1;\\\\\n",
    "x_o[n]&=&x[2n+1],\\,n=0,1.\n",
    "\\end{eqnarray*}$$"
   ]
  },
  {
   "cell_type": "markdown",
   "id": "f956cdbb",
   "metadata": {
    "slideshow": {
     "slide_type": "subslide"
    }
   },
   "source": [
    "Then,\n",
    "\n",
    "$$X[k] =  \\left[x_e[0] + x_e[1](-1)^k\\right] + \\left[x_o[0] + x_o[1](-1)^k\\right]W_4^{1k}.$$"
   ]
  },
  {
   "cell_type": "markdown",
   "id": "fe95f373",
   "metadata": {
    "slideshow": {
     "slide_type": "fragment"
    }
   },
   "source": [
    "The factors in brackets in this equation can be recognized as 2-point DFTs:\n",
    "\n",
    "$$\\begin{eqnarray*}\n",
    "X_e[m] &=& x_e[0] + x_e[1](-1)^m,\\;m=0,1;\\\\\n",
    "X_o[m] &=& x_o[0] + x_o[1](-1)^m,\\;m=0,1.\n",
    "\\end{eqnarray*}$$"
   ]
  },
  {
   "cell_type": "markdown",
   "id": "8663374d",
   "metadata": {
    "slideshow": {
     "slide_type": "subslide"
    }
   },
   "source": [
    "Note that $X_e[k]$ and $X_o[k]$ are periodic; for example,\n",
    "\n",
    "$$X_e[2]= x_e[0]+ x_e[1](-1)^2 = X_e[0]$$\n",
    "\n",
    "and\n",
    "\n",
    "$$X_o[3]= x_o[0]+ x_o[1](-1)^3 = X_o[1]$$"
   ]
  },
  {
   "cell_type": "markdown",
   "id": "02dc6ed5",
   "metadata": {
    "slideshow": {
     "slide_type": "subslide"
    }
   },
   "source": [
    "The 4-point DFT then is\n",
    "\n",
    "$$\\begin{eqnarray*}\n",
    "X[0] &=& X_e[0] + X_o[0]W_4^{1(0)} = X_e[0] + X_o[0];\\\\\n",
    "X[1] &=& X_e[1] + X_o[1]W_4^{1(1)} = X_e[1] + X_o[1]W_4^1;\\\\\n",
    "X[2] &=& X_e[0] - X_o[0]W_4^{1(2)} = X_e[0] - X_o[0];\\\\\n",
    "X[3] &=& X_e[1] - X_o[1]W_4^{1(3)} = X_e[1] + X_o[1]W_4^1.\n",
    "\\end{eqnarray*}$$"
   ]
  },
  {
   "cell_type": "markdown",
   "id": "87b70011",
   "metadata": {
    "slideshow": {
     "slide_type": "notes"
    }
   },
   "source": [
    "We see that the 4-point DFT can be computed by the generation of two 2-point DFTs, followed by a *recomposition* of terms as shown in the signal flow graph below:"
   ]
  },
  {
   "cell_type": "markdown",
   "id": "5ee34e8c",
   "metadata": {
    "slideshow": {
     "slide_type": "subslide"
    }
   },
   "source": [
    "![Signal flow graph of 4-point DFT](pictures/4-point-dft-sfg.png)"
   ]
  },
  {
   "cell_type": "markdown",
   "id": "1fac9d90",
   "metadata": {
    "slideshow": {
     "slide_type": "notes"
    }
   },
   "source": [
    "In other words,\n",
    "\n",
    "[4-point DFT of $x[n]$] = [2-point DFT of $x_e[n]$] + $W_4^{1k}$[2-point DFT of $x_o[n]$]."
   ]
  },
  {
   "cell_type": "markdown",
   "id": "f3183f35",
   "metadata": {
    "slideshow": {
     "slide_type": "subslide"
    }
   },
   "source": [
    "#### SIMULINK Model of 4-Point DFT\n",
    "\n",
    "[four_point_dft.slx](https://cpjobling.github.io/eg-247-textbook/dft/2/matlab/four_point_dft.slx)"
   ]
  },
  {
   "cell_type": "code",
   "execution_count": 68,
   "id": "7a569d4f",
   "metadata": {
    "slideshow": {
     "slide_type": "fragment"
    }
   },
   "outputs": [],
   "source": [
    "open four_point_dft"
   ]
  },
  {
   "cell_type": "markdown",
   "id": "cc8479e0",
   "metadata": {
    "slideshow": {
     "slide_type": "subslide"
    }
   },
   "source": [
    "### In Class Example 1\n",
    "\n",
    "Use four-point DIT FFT to confirm that the DFT of the sequence \n",
    "\n",
    "$$x[n] = [1, 2, 3, 4]$$\n",
    "\n",
    "is \n",
    "\n",
    "$$X[m] = [10, -2+j2, -2, -2-j2].$$"
   ]
  },
  {
   "cell_type": "markdown",
   "id": "edaa058a",
   "metadata": {
    "slideshow": {
     "slide_type": "notes"
    }
   },
   "source": [
    "<pre style=\"border: 2px solid blue\">\n",
    "\n",
    "\n",
    "\n",
    "\n",
    "\n",
    "\n",
    "\n",
    "\n",
    "\n",
    "\n",
    "\n",
    "\n",
    "\n",
    "\n",
    "\n",
    "\n",
    "\n",
    "\n",
    "\n",
    "\n",
    "\n",
    "\n",
    "</pre>"
   ]
  },
  {
   "cell_type": "markdown",
   "id": "ee7c85d3",
   "metadata": {
    "slideshow": {
     "slide_type": "slide"
    }
   },
   "source": [
    "#### 8-point DFT\n",
    "\n",
    "$$X[k] = \\sum_{n=0}^{7}x[n]W_8^{nk}.$$"
   ]
  },
  {
   "cell_type": "markdown",
   "id": "1fc2dcd5",
   "metadata": {
    "slideshow": {
     "slide_type": "subslide"
    }
   },
   "source": [
    "After some manipulation, not reproduced here, it can be shown that the 8-point DFT is the recombination of two, 4-point DFTs that operate on the even and odd numbered values in the sequence $x[n]$ respectively."
   ]
  },
  {
   "cell_type": "markdown",
   "id": "43b929d1",
   "metadata": {
    "slideshow": {
     "slide_type": "subslide"
    }
   },
   "source": [
    "#### Signal flow graph of 8-point DFT\n",
    "\n",
    "![Signal flow graph of 8-point DFT](pictures/8-point-dft-sfg.png)"
   ]
  },
  {
   "cell_type": "markdown",
   "id": "49a22c16",
   "metadata": {
    "slideshow": {
     "slide_type": "subslide"
    }
   },
   "source": [
    "#### SIMULINK Model of 8-Point DFT\n",
    "\n",
    "[eight_point_dft.slx](https://cpjobling.github.io/eg-247-textbook/dft/2/matlab/eight_point_dft.slx)"
   ]
  },
  {
   "cell_type": "code",
   "execution_count": 69,
   "id": "ab037608",
   "metadata": {
    "slideshow": {
     "slide_type": "fragment"
    }
   },
   "outputs": [],
   "source": [
    "open eight_point_dft"
   ]
  },
  {
   "cell_type": "markdown",
   "id": "77282240",
   "metadata": {
    "slideshow": {
     "slide_type": "slide"
    }
   },
   "source": [
    "#### N-Point, radix-2 DIT FFT\n",
    "\n",
    "In general, the $N$-point, radix-2 DIT FFT is computed as the recomposition of two $(N/2)$-point FFTs) as shown in the buterfly diagram below\n",
    "\n",
    "![N-point FFT](pictures/n-point-fft.png)"
   ]
  },
  {
   "cell_type": "markdown",
   "id": "150ec630",
   "metadata": {
    "slideshow": {
     "slide_type": "slide"
    }
   },
   "source": [
    "### Decomposition-in-Frequency FFT\n",
    "\n",
    "Another approach to forming the FFT is the so-called decomposition in frequency (DIF) FFT. \n",
    "\n",
    "We will not cover it's development in detail (see Karris and Phillips *et al.*) if you want to follow it through.\n",
    "\n",
    "We instead illustrate the final result for the four-point DIF FFT."
   ]
  },
  {
   "cell_type": "markdown",
   "id": "fe5b2c5d",
   "metadata": {
    "slideshow": {
     "slide_type": "subslide"
    }
   },
   "source": [
    "#### Signal flow graph for 4-point DIF FFT\n",
    "\n",
    "![Signal flow chart for 4-point DIF FFT](pictures/4-point-dif-fft.png)"
   ]
  },
  {
   "cell_type": "markdown",
   "id": "1019c442",
   "metadata": {
    "slideshow": {
     "slide_type": "notes"
    }
   },
   "source": [
    "Note that the structure is a 4-point decompostion followed by two 2-point FFTs.\n",
    "\n",
    "Also note that it is frequency $X_n[k]$ that is the input to the DFT stage."
   ]
  },
  {
   "cell_type": "markdown",
   "id": "7847a297",
   "metadata": {
    "slideshow": {
     "slide_type": "slide"
    }
   },
   "source": [
    "### In Class Example 2\n",
    "\n",
    "Use four two-point DIF FFT to confirm that the DFT of the sequence \n",
    "\n",
    "$$x[n] = [1, 2, 3, 4]$$\n",
    "\n",
    "is \n",
    "\n",
    "$$X[m] = [10, -2+j2, -2, -2-j2].$$"
   ]
  },
  {
   "cell_type": "markdown",
   "id": "1e52aae4",
   "metadata": {
    "slideshow": {
     "slide_type": "notes"
    }
   },
   "source": [
    "<pre style=\"border: 2px solid blue\">\n",
    "\n",
    "\n",
    "\n",
    "\n",
    "\n",
    "\n",
    "\n",
    "\n",
    "\n",
    "\n",
    "\n",
    "\n",
    "\n",
    "\n",
    "\n",
    "\n",
    "\n",
    "\n",
    "\n",
    "\n",
    "\n",
    "\n",
    "</pre>"
   ]
  },
  {
   "cell_type": "markdown",
   "id": "af784ac2",
   "metadata": {
    "slideshow": {
     "slide_type": "subslide"
    }
   },
   "source": [
    "#### SIMULINK Model of 4-Point DIF FFT\n",
    "\n",
    "[four_point_dif.slx](https://cpjobling.github.io/eg-247-textbook/dft/2/matlab/four_point_dif.slx)"
   ]
  },
  {
   "cell_type": "code",
   "execution_count": 70,
   "id": "57512606",
   "metadata": {
    "slideshow": {
     "slide_type": "fragment"
    }
   },
   "outputs": [],
   "source": [
    "open four_point_dif"
   ]
  },
  {
   "cell_type": "markdown",
   "id": "19ad8d6e",
   "metadata": {
    "slideshow": {
     "slide_type": "notes"
    }
   },
   "source": [
    "### 8-Point DIF FFT\n",
    "\n",
    "I have created a Simulink model of the 8-point DIF FFT. I will create a signal flow graph to go with it at some point in the future.\n",
    "\n",
    "#### SIMULINK Model of 4-Point DIF FFT\n",
    "\n",
    "[eight_point_dif.slx](https://cpjobling.github.io/eg-247-textbook/dft/2/matlab/eight_point_dif.slx)"
   ]
  },
  {
   "cell_type": "markdown",
   "id": "b51f5b35",
   "metadata": {
    "slideshow": {
     "slide_type": "slide"
    }
   },
   "source": [
    "## Efficiency of the FFT\n",
    "\n",
    "Wether we implement it as a Decomposition-in-Time (DIT) or a Decomposition-in-Frequency (DIF), the FFT ends up having approximately $(N/2)\\log_2(N)$ multiplications and a similar number of complex additions or subtractions. \n",
    "\n",
    "In other words, $(N)\\log_2(N)$ complex arithmetic operations.\n",
    "\n",
    "As complex arithmetic, particularly multiplication, is very expensive, this is a great saving over the DFT which has of order $N^2$ operations."
   ]
  },
  {
   "cell_type": "markdown",
   "id": "3519c527",
   "metadata": {
    "slideshow": {
     "slide_type": "subslide"
    }
   },
   "source": [
    "### DFT and FFT Comparisons\n",
    "\n",
    "Under the assumptions about the relative efficiency of the DFT and FFT we can create a table like that shown below:\n",
    "\n",
    "\n",
    "| &nbsp; |  &nbsp;      | DFT         | FFT       | FFT/DFT   |\n",
    "|--------|--------------|-------------|-----------|-----------|\n",
    "| N      | $\\log_2 N$ | $N^2$   | $N\\log_2 N$ |         % | \n",
    "| 8      | 3            | 64        | 24          | 37.5      |\n",
    "| 16     | 4            | 256       | 64          | 25        |\n",
    "| 32     | 5            | 1,024     | 160         | 15.6      |\n",
    "| 64     | 6            | 4,096     | 384         | 9.4       |\n",
    "| 128    | 7            | 16,384    | 896         | 5.5       |\n",
    "| 256    | 8            | 65,536    | 2,048       | 3.1       |\n",
    "| 512    | 9            | 261,144   | 4,608       | 1.8       |\n",
    "| 1024   | 10           | 1,048,576 | 10,240      | 1         |\n",
    "| 2048   | 11           | 4,194,304 | 22,528      | 0.5       |"
   ]
  },
  {
   "cell_type": "markdown",
   "id": "fad9bd51",
   "metadata": {
    "slideshow": {
     "slide_type": "notes"
    }
   },
   "source": [
    "As you can see, the efficiency of the FFT actual gets better as the number of samples go up! \n",
    "\n",
    "However, there are other costs, such as the data storage needed for intermediate steps, that need to be taken into account as well. For example, an 8-point FFT requires only a 3 stage decomposition, with each stage needing storage for 8 complex numbers. That is 24 in all. Whereas a 2048 sequence will require 11 stages, storing 2048 values each. That is a total of 22,528 complex values<sup>6</sup>."
   ]
  },
  {
   "cell_type": "markdown",
   "id": "f079a77a",
   "metadata": {
    "slideshow": {
     "slide_type": "slide"
    }
   },
   "source": [
    "## In Class Demonstrations"
   ]
  },
  {
   "cell_type": "markdown",
   "id": "f4dc7117",
   "metadata": {
    "slideshow": {
     "slide_type": "fragment"
    }
   },
   "source": [
    "### FFT in MATLAB\n",
    "\n",
    "The FFT algorithm is implemented, in MATLAB, as the function `fft`. We will conclude the class by working through Exercises 6 and 7 from section 10.8 of Karris."
   ]
  },
  {
   "cell_type": "markdown",
   "id": "3ee0089d",
   "metadata": {
    "slideshow": {
     "slide_type": "subslide"
    }
   },
   "source": [
    "### Example 3\n",
    "\n",
    "Plot the Fourier transform of the rectangular pulse shown below, using the MATLAB `fft` func-tion. Then, use the `ifft` function to verify that the inverse transformation produces the rectangular pulse.\n",
    "\n",
    "![Example 3](pictures/fft_example1.png)"
   ]
  },
  {
   "cell_type": "markdown",
   "id": "2de9a5d5",
   "metadata": {
    "slideshow": {
     "slide_type": "subslide"
    }
   },
   "source": [
    "#### FFT for Example 3\n",
    "\n",
    "The rectangular pulse can be produced like so"
   ]
  },
  {
   "cell_type": "code",
   "execution_count": 71,
   "id": "f167cf2a",
   "metadata": {
    "slideshow": {
     "slide_type": "fragment"
    }
   },
   "outputs": [
    {
     "data": {
      "image/png": "[encoded data removed]",
      "text/plain": [
       "<IPython.core.display.Image object>"
      ]
     },
     "metadata": {},
     "output_type": "display_data"
    }
   ],
   "source": [
    "x = [linspace(-2,-1,50) linspace(-1,1,100) linspace(1,2,50)];\n",
    "y = [linspace(0,0,50) linspace(1,1,100) linspace(0,0,50)];\n",
    "stem(x,y);\n",
    "N = length(x);"
   ]
  },
  {
   "cell_type": "markdown",
   "id": "dc109ff3",
   "metadata": {
    "slideshow": {
     "slide_type": "subslide"
    }
   },
   "source": [
    "and the FFT is produced as"
   ]
  },
  {
   "cell_type": "code",
   "execution_count": 72,
   "id": "dedc923c",
   "metadata": {
    "slideshow": {
     "slide_type": "fragment"
    }
   },
   "outputs": [
    {
     "data": {
      "image/png": "[encoded data removed]",
      "text/plain": [
       "<IPython.core.display.Image object>"
      ]
     },
     "metadata": {},
     "output_type": "display_data"
    }
   ],
   "source": [
    "stem(abs(fft(y))),xlabel('k'),ylabel('abs(fft)')"
   ]
  },
  {
   "cell_type": "markdown",
   "id": "eb64095b",
   "metadata": {
    "slideshow": {
     "slide_type": "subslide"
    }
   },
   "source": [
    "unwind"
   ]
  },
  {
   "cell_type": "code",
   "execution_count": 73,
   "id": "16678fe4",
   "metadata": {
    "slideshow": {
     "slide_type": "fragment"
    }
   },
   "outputs": [
    {
     "data": {
      "image/png": "[encoded data removed]",
      "text/plain": [
       "<IPython.core.display.Image object>"
      ]
     },
     "metadata": {},
     "output_type": "display_data"
    }
   ],
   "source": [
    "stem(-N/2+1:N/2,abs(fftshift(fft(y)))) % Note change in x index to get axis labels correct\n",
    "xlabel('k'),ylabel('abs(fft)')"
   ]
  },
  {
   "cell_type": "markdown",
   "id": "ae0e2b22",
   "metadata": {
    "slideshow": {
     "slide_type": "subslide"
    }
   },
   "source": [
    "The inverse FFT is obtained with"
   ]
  },
  {
   "cell_type": "code",
   "execution_count": 74,
   "id": "647ee75a",
   "metadata": {
    "slideshow": {
     "slide_type": "fragment"
    }
   },
   "outputs": [
    {
     "data": {
      "image/png": "[encoded data removed]",
      "text/plain": [
       "<IPython.core.display.Image object>"
      ]
     },
     "metadata": {},
     "output_type": "display_data"
    }
   ],
   "source": [
    "stem(x, ifft(fft(y)))"
   ]
  },
  {
   "cell_type": "markdown",
   "id": "aa67646f",
   "metadata": {
    "slideshow": {
     "slide_type": "subslide"
    }
   },
   "source": [
    "### Example 4\n",
    "\n",
    "![Example 4](pictures/fft_example2.png)"
   ]
  },
  {
   "cell_type": "markdown",
   "id": "c1ffdd1d",
   "metadata": {
    "slideshow": {
     "slide_type": "subslide"
    }
   },
   "source": [
    "#### FFT Example 4\n",
    "\n",
    "The triangular pulse is obtained with"
   ]
  },
  {
   "cell_type": "code",
   "execution_count": 87,
   "id": "a00c8430",
   "metadata": {
    "slideshow": {
     "slide_type": "fragment"
    }
   },
   "outputs": [
    {
     "data": {
      "image/png": "[encoded data removed]",
      "text/plain": [
       "<IPython.core.display.Image object>"
      ]
     },
     "metadata": {},
     "output_type": "display_data"
    }
   ],
   "source": [
    "x = linspace(-1,1,100);\n",
    "y = [linspace(0,1,50) linspace(1,0,50)];\n",
    "stem(x,y)\n",
    "N = length(y);"
   ]
  },
  {
   "cell_type": "markdown",
   "id": "d7ae131e",
   "metadata": {
    "slideshow": {
     "slide_type": "subslide"
    }
   },
   "source": [
    "and the FFT is obtained with"
   ]
  },
  {
   "cell_type": "code",
   "execution_count": 88,
   "id": "1520e0c2",
   "metadata": {
    "slideshow": {
     "slide_type": "subslide"
    }
   },
   "outputs": [
    {
     "data": {
      "image/png": "[encoded data removed]",
      "text/plain": [
       "<IPython.core.display.Image object>"
      ]
     },
     "metadata": {},
     "output_type": "display_data"
    }
   ],
   "source": [
    "stem(-N/2 + 1:N/2, abs(fftshift(fft(y))))\n",
    "xlabel('k'),ylabel('abs(fft)')"
   ]
  },
  {
   "cell_type": "markdown",
   "id": "9ce2fe2a",
   "metadata": {
    "slideshow": {
     "slide_type": "subslide"
    }
   },
   "source": [
    "The inverse FFT is obtained with"
   ]
  },
  {
   "cell_type": "code",
   "execution_count": 77,
   "id": "b06428d1",
   "metadata": {
    "slideshow": {
     "slide_type": "fragment"
    }
   },
   "outputs": [
    {
     "data": {
      "image/png": "[encoded data removed]",
      "text/plain": [
       "<IPython.core.display.Image object>"
      ]
     },
     "metadata": {},
     "output_type": "display_data"
    }
   ],
   "source": [
    "stem(ifft(fft(y)))"
   ]
  },
  {
   "cell_type": "markdown",
   "id": "76b15877",
   "metadata": {
    "slideshow": {
     "slide_type": "slide"
    }
   },
   "source": [
    "(fas)=\n",
    "## Frequency and Amplitude Scaling\n",
    "\n",
    "Let's assume that you have a DT sequence $x[n]$ sampled from a CT signal $x(t)$ at some period $T_s = 1/f_s$. When you apply the `fft` function to $x[n]$, the absolute values of the frequency terms $X[K]$ will have the distribution shown in {numref}`fig:fft:1` starting at $K=0$ on the left and going up to $K=N-1$ at the right."
   ]
  },
  {
   "cell_type": "markdown",
   "id": "71faa799",
   "metadata": {
    "slideshow": {
     "slide_type": "subslide"
    }
   },
   "source": [
    ":::{figure-md} fig:fft:1\n",
    "<img src=\"pictures/fft_dist.png\" alt=\"\" width=\"\" />\n",
    "\n",
    "Distribution of the terms $X[K]$ in the fft of DT signal $x[n]$. From video {cite}`douglasdft` [9 minutes 20 seconds] (c) The MathWorks 2023.\n",
    ":::"
   ]
  },
  {
   "cell_type": "markdown",
   "id": "e586ca4d",
   "metadata": {
    "slideshow": {
     "slide_type": "subslide"
    }
   },
   "source": [
    "DC is at $K = 0$, and the frequency terms for $K = 1 \\to N/2$ on the left of the plot represent the positive frequencies. That is the frequencies computed on the unit circle from $\\theta = 0 \\to -\\pi$ radians."
   ]
  },
  {
   "cell_type": "markdown",
   "id": "a9f29247",
   "metadata": {
    "slideshow": {
     "slide_type": "fragment"
    }
   },
   "source": [
    "The component that corresponds to the Nyquist frequency $f_n = f_s/2$ is at the centre of the plot at $\\theta = -\\pi$ radians or $K = N/2$[^fft:footnote1]"
   ]
  },
  {
   "cell_type": "markdown",
   "id": "a3e728cd",
   "metadata": {
    "slideshow": {
     "slide_type": "notes"
    }
   },
   "source": [
    "[^fft:footnote1]: The Nyquist frequency will only appear on the frequency plot if there are an even number of samples. If that is the case, we construct the positive frquencies from $K = 1$ to ceil $N/2$"
   ]
  },
  {
   "cell_type": "markdown",
   "id": "b59feaa0",
   "metadata": {
    "slideshow": {
     "slide_type": "fragment"
    }
   },
   "source": [
    "The FFT terms plotted on the right of the plot, from $K = N/2 + 1 \\to N - 1$, correspond to the negative frequencies and, for real signals, will be the complex conjugates of their positive frequency terms. Thus the frequency plot will always be symmetric around the Nyquist frequency."
   ]
  },
  {
   "cell_type": "markdown",
   "id": "72dda16c",
   "metadata": {
    "slideshow": {
     "slide_type": "subslide"
    }
   },
   "source": [
    "As demonstrated above, we normally expect the frequency response to be symmetric around $f = 0$ and the `fftshift` function achieves that for us by shifting $X[0]$ to $K = N/2$, reversing the sequence of negative frequencies, and plotting them between $K = 0$ and $N/2 -1$."
   ]
  },
  {
   "cell_type": "markdown",
   "id": "747f945f",
   "metadata": {
    "slideshow": {
     "slide_type": "subslide"
    }
   },
   "source": [
    "* However, even when shifted in this way, the $x$-axis of the FFT plot only represents the sequence number $K$ not frequency. \n",
    "* Furthermore, the amplitude of the frequency terms is related to the FFT algorithm rather than the physical size of the frequency components in the original signal. \n",
    "* Also, we often only care about the postive frequencies and so usually present the FFT data as a single-sided plot."
   ]
  },
  {
   "cell_type": "markdown",
   "id": "a1b517b9",
   "metadata": {
    "slideshow": {
     "slide_type": "subslide"
    }
   },
   "source": [
    "To achieve a single sided FFT plot against frequency, with realistic amplitudes, and valid values of power and power spectral density for power plots, we need to make some adjustments to the FFT data. This is called *frequency and amplitude scaling*."
   ]
  },
  {
   "cell_type": "markdown",
   "id": "71d80542",
   "metadata": {
    "slideshow": {
     "slide_type": "notes"
    }
   },
   "source": [
    "What follows is extracted from the two MATLAB Tech Talks {cite}`douglasdft` and {cite}`douglaspsd`.\n",
    "\n",
    "We have already shown you {cite}`douglasdft` in {ref}`unit6`. You may which to watch {cite}`douglaspsd` now.\n",
    "\n",
    "<iframe width=\"560\" height=\"315\" src=\"https://www.youtube.com/embed/pfjiwxhqd1M?si=BA_C6_GrOA54ayEj\" title=\"YouTube video player\" frameborder=\"0\" allow=\"accelerometer; autoplay; clipboard-write; encrypted-media; gyroscope; picture-in-picture; web-share\" referrerpolicy=\"strict-origin-when-cross-origin\" allowfullscreen></iframe>"
   ]
  },
  {
   "cell_type": "markdown",
   "id": "14ded27f",
   "metadata": {
    "slideshow": {
     "slide_type": "subslide"
    }
   },
   "source": [
    "### Frequency scaling\n",
    "\n",
    "How does $K$ relate to the frequency?"
   ]
  },
  {
   "cell_type": "markdown",
   "id": "39cf9d50",
   "metadata": {
    "slideshow": {
     "slide_type": "fragment"
    }
   },
   "source": [
    "When $K=0$, the equivalent frequency is 0 Hz or DC."
   ]
  },
  {
   "cell_type": "markdown",
   "id": "efa24103",
   "metadata": {
    "slideshow": {
     "slide_type": "fragment"
    }
   },
   "source": [
    "When $K=1$ the frequency is equal to the length of the time sequence."
   ]
  },
  {
   "cell_type": "markdown",
   "id": "989d7d40",
   "metadata": {
    "slideshow": {
     "slide_type": "fragment"
    }
   },
   "source": [
    "When $K = 2$ there are two complete cycles of a sinusoid in the length of the time signal, ... and so on up to the Nyquist frequency at $K = N/2 + 1$ for a signal with an even number of samples."
   ]
  },
  {
   "cell_type": "markdown",
   "id": "d3f05084",
   "metadata": {
    "slideshow": {
     "slide_type": "fragment"
    }
   },
   "source": [
    "Frequency corresponding to a particular $K$ is therefore given by frequency = $K$/(length of the time signal) or\n",
    "\n",
    "$$f = \\frac{K\\times f_s}{N} $$"
   ]
  },
  {
   "cell_type": "markdown",
   "id": "ffddd813",
   "metadata": {
    "slideshow": {
     "slide_type": "notes"
    }
   },
   "source": [
    "### Bin width\n",
    "\n",
    "The bin width is the distance (in frequency) between samples in the FFT. It is given by\n",
    "\n",
    "$$f_s/N$$\n",
    "\n",
    "To reduce the bin width, and increase the frequency resolution of the FFT, we take more samples, or equivalently reduce the sampling period."
   ]
  },
  {
   "cell_type": "markdown",
   "id": "5c463da3",
   "metadata": {
    "slideshow": {
     "slide_type": "subslide"
    }
   },
   "source": [
    "### Example 5\n",
    "\n",
    "Use MATLAB to find the one-sided FFT of a sinusoidal signal with frequency 3 Hz, sampled at $f_s = 40$ Hz. Present the frequency response in Hz."
   ]
  },
  {
   "cell_type": "markdown",
   "id": "0fbfce71",
   "metadata": {
    "slideshow": {
     "slide_type": "subslide"
    }
   },
   "source": [
    "#### Solution\n",
    "\n",
    "##### Create time-domain signal"
   ]
  },
  {
   "cell_type": "code",
   "execution_count": 78,
   "id": "1a550bc1",
   "metadata": {
    "slideshow": {
     "slide_type": "-"
    }
   },
   "outputs": [],
   "source": [
    "fs = 40;              % Sampling frequency\n",
    "T = 1/fs;             % Sampling period\n",
    "N = 40;               % Length of signal\n",
    "t = (0:N-1)*T';        % Time vector\n",
    "\n",
    "xn = sin(2*pi*3*t);   % 3 Hz signal"
   ]
  },
  {
   "cell_type": "markdown",
   "id": "470e78d1",
   "metadata": {
    "slideshow": {
     "slide_type": "subslide"
    }
   },
   "source": [
    "##### Plot the signal"
   ]
  },
  {
   "cell_type": "code",
   "execution_count": 79,
   "id": "1ef12a64",
   "metadata": {
    "slideshow": {
     "slide_type": "fragment"
    }
   },
   "outputs": [
    {
     "data": {
      "image/png": "[encoded data removed]",
      "text/plain": [
       "<IPython.core.display.Image object>"
      ]
     },
     "metadata": {},
     "output_type": "display_data"
    }
   ],
   "source": [
    "plot(t, xn, '.-', 'MarkerSize', 20')\n",
    "title('Signal')\n",
    "xlabel('t')\n",
    "ylabel('xn(t)')"
   ]
  },
  {
   "cell_type": "markdown",
   "id": "e1e5d085",
   "metadata": {
    "slideshow": {
     "slide_type": "subslide"
    }
   },
   "source": [
    "##### FFT"
   ]
  },
  {
   "cell_type": "code",
   "execution_count": 80,
   "id": "109fc9e7",
   "metadata": {
    "slideshow": {
     "slide_type": "fragment"
    }
   },
   "outputs": [
    {
     "data": {
      "image/png": "[encoded data removed]",
      "text/plain": [
       "<IPython.core.display.Image object>"
      ]
     },
     "metadata": {},
     "output_type": "display_data"
    }
   ],
   "source": [
    "Xn = fft(xn);\n",
    "\n",
    "figure\n",
    "plot(Xn)"
   ]
  },
  {
   "cell_type": "markdown",
   "id": "b9c79af5",
   "metadata": {
    "slideshow": {
     "slide_type": "notes"
    }
   },
   "source": [
    "This plot doesn't make sense as Xn is complex."
   ]
  },
  {
   "cell_type": "markdown",
   "id": "81c41b4a",
   "metadata": {
    "slideshow": {
     "slide_type": "subslide"
    }
   },
   "source": [
    "##### Plot absolute value"
   ]
  },
  {
   "cell_type": "code",
   "execution_count": 81,
   "id": "efb85cc8",
   "metadata": {},
   "outputs": [
    {
     "data": {
      "image/png": "[encoded data removed]",
      "text/plain": [
       "<IPython.core.display.Image object>"
      ]
     },
     "metadata": {},
     "output_type": "display_data"
    }
   ],
   "source": [
    "Xn = fft(xn);\n",
    "\n",
    "figure\n",
    "stem(abs(Xn));\n",
    "title('Absolute Value of the FFT of xn');"
   ]
  },
  {
   "cell_type": "markdown",
   "id": "884a855b",
   "metadata": {
    "slideshow": {
     "slide_type": "notes"
    }
   },
   "source": [
    "Now we see the peaks in the postive and negative frequency. But they are plotted at bin number $K$ not frequency."
   ]
  },
  {
   "cell_type": "markdown",
   "id": "d87a97e2",
   "metadata": {
    "slideshow": {
     "slide_type": "subslide"
    }
   },
   "source": [
    "##### One-sided FFT plotted against frequency\n",
    "Just plot half of the frequency by plotting absolute values only for $K = 0 \\to N/2$<sup>7</sup>."
   ]
  },
  {
   "cell_type": "code",
   "execution_count": 82,
   "id": "126ed418",
   "metadata": {
    "slideshow": {
     "slide_type": "fragment"
    }
   },
   "outputs": [
    {
     "data": {
      "image/png": "[encoded data removed]",
      "text/plain": [
       "<IPython.core.display.Image object>"
      ]
     },
     "metadata": {},
     "output_type": "display_data"
    }
   ],
   "source": [
    "Xn = fft(xn);\n",
    "\n",
    "figure\n",
    "stem(abs(Xn(1:(N/2)+1)));\n",
    "title('One-Sided Absolute Value of the FFT of xn');"
   ]
  },
  {
   "cell_type": "markdown",
   "id": "6bd090cf",
   "metadata": {
    "slideshow": {
     "slide_type": "subslide"
    }
   },
   "source": [
    "##### Plot against real frequency"
   ]
  },
  {
   "cell_type": "code",
   "execution_count": 83,
   "id": "2d39b528",
   "metadata": {
    "slideshow": {
     "slide_type": "fragment"
    }
   },
   "outputs": [],
   "source": [
    "Xn = fft(xn);"
   ]
  },
  {
   "cell_type": "code",
   "execution_count": 84,
   "id": "830b05ff",
   "metadata": {
    "slideshow": {
     "slide_type": "fragment"
    }
   },
   "outputs": [],
   "source": [
    "K = 0:N/2;       % K starts at 0 so the length here is N/2 + 1\n",
    "freq = K*fs/N;   % Cycles per length of the signal in seconds"
   ]
  },
  {
   "cell_type": "code",
   "execution_count": 85,
   "id": "1e480d54",
   "metadata": {
    "slideshow": {
     "slide_type": "fragment"
    }
   },
   "outputs": [
    {
     "data": {
      "image/png": "[encoded data removed]",
      "text/plain": [
       "<IPython.core.display.Image object>"
      ]
     },
     "metadata": {},
     "output_type": "display_data"
    }
   ],
   "source": [
    "figure\n",
    "stem(freq, abs(Xn(1:(N/2)+1)));\n",
    "title('One-Sided Absolute Value of the FFT of xn');\n",
    "xlabel('Frequencty (Hz)')"
   ]
  },
  {
   "cell_type": "markdown",
   "id": "dd582cfd",
   "metadata": {
    "slideshow": {
     "slide_type": "notes"
    }
   },
   "source": [
    "Now we can clearly see the peak at 3 Hz, but the amplitude is 20, which has no real physical value. \n",
    "\n",
    "we will see how to scale the amplitude of the FFT in the next section.\n",
    "\n",
    "The actual Live Script can be obtained from [aerojunkie/control-tools/FFT MATLAB App](https://github.com/aerojunkie/control-tools/tree/master/FFT%20MATLAB%20App)"
   ]
  },
  {
   "cell_type": "markdown",
   "id": "61d7aa7b",
   "metadata": {
    "slideshow": {
     "slide_type": "subslide"
    }
   },
   "source": [
    "#### Amplitude Scaling\n",
    "\n",
    "If you only need to know that a peak occurs at a particular frequency then you only need to scale the frequency. If you need to know the *amplitude* or *power* of the sinusoidal frequencies that are present in the FFT, then we also need to scale the magnitudes.\n",
    "\n",
    "The detail of how this is done is covered in {cite}`douglaspsd` (see video in the notes) and we will only summarize it here and give an example. \n",
    "\n",
    "The example is available on [GitHub](https://github.com/aerojunkie/control-tools/tree/master/PSD) and can be loaded into MATLAB online (we will do this in class)."
   ]
  },
  {
   "cell_type": "markdown",
   "id": "b776d4ac",
   "metadata": {
    "slideshow": {
     "slide_type": "subslide"
    }
   },
   "source": [
    "##### Amplitude scaling\n",
    "\n",
    "For a double-sided FFT, the amplitudes are scaled by the number of samples, that is:\n",
    "\n",
    "$$X'[m] = \\frac{\\left|X[m]\\right|}{N}$$ \n",
    "\n",
    "For a single sided FFT, we use double this value and ignore the DC and Nyquist frequency.\n",
    "\n",
    "$$X'[m]_{m \\gt 0; m \\ne 0; m \\ne N/2} = \\frac{2\\left|X[m]\\right|}{N}$$"
   ]
  },
  {
   "cell_type": "markdown",
   "id": "ab0fbcc3",
   "metadata": {
    "slideshow": {
     "slide_type": "subslide"
    }
   },
   "source": [
    "##### Power\n",
    "\n",
    "By analysis of the terms. it can be shown that the power in each term pf the single-sided FFT is\n",
    "\n",
    "$$P = 2\\frac{\\left|X[m]\\right|^2}{N^2}$$\n",
    "\n",
    "We can thus compute the power using a similar method to that used for the amplitude.\n",
    "\n",
    "The power is often expressed in dB so we can use the `pow2db` function to get power in dB.\n",
    "\n",
    "There is also a function [`periodigram`](https://uk.mathworks.com/help/signal/ref/periodogram.html) that will compute the power spectrum in dB from the sampled data:\n",
    "\n",
    "```matlab\n",
    "periodogram(xn, rectwin(length(xn)), length(xn), fs, 'power')\n",
    "````"
   ]
  },
  {
   "cell_type": "markdown",
   "id": "bcc3414d",
   "metadata": {
    "slideshow": {
     "slide_type": "notes"
    }
   },
   "source": [
    "The second argument is a windowing function that is applied to the sequence to select, and possibly prescale, the samples to reduce *spectral leakage*. This is explained by Brian Douglas in the video {cite}`douglaspsd` and we will not persue it further here."
   ]
  },
  {
   "cell_type": "markdown",
   "id": "beb348d6",
   "metadata": {
    "slideshow": {
     "slide_type": "subslide"
    }
   },
   "source": [
    "##### Power Spectral Density\n",
    "\n",
    "A full explanation of this is beyond the scope of this presentation (and will not be formally assessed). View the video for details. We will demonstrate this in class.\n",
    "\n",
    "The function [`periodigram`](https://uk.mathworks.com/help/signal/ref/periodogram.html) also computes the power spectral density in dB from the sampled data:\n",
    "\n",
    "```matlab\n",
    "periodogram(xn, rectwin(length(xn)), length(xn), fs, 'psd')\n",
    "````"
   ]
  },
  {
   "cell_type": "markdown",
   "id": "fe10aabf",
   "metadata": {
    "slideshow": {
     "slide_type": "subslide"
    }
   },
   "source": [
    "#### Exercise\n",
    "\n",
    "Redo Examples 3 and 4 as single-sided FFT plots using amplitude and frequency scaling.\n",
    "\n",
    "Compute the power spectrum and power-spectral desity."
   ]
  },
  {
   "cell_type": "markdown",
   "id": "b4a0cda8",
   "metadata": {
    "slideshow": {
     "slide_type": "slide"
    }
   },
   "source": [
    "## Summary\n",
    "\n",
    "* The inefficiency of the DFT\n",
    "* The FFT - a sketch of its development\n",
    "* An illustration of part of the FFT algorithm\n",
    "* FFT v DFT\n",
    "* Two examples\n",
    "* Frequency and Amplitude Scaling"
   ]
  },
  {
   "cell_type": "markdown",
   "id": "5ba1383b",
   "metadata": {
    "slideshow": {
     "slide_type": "slide"
    }
   },
   "source": [
    "## Homework\n",
    "\n",
    "Read the rest of Chapter 10 of Karris from page 10.9 and make your own notes on the implementation of the FFT."
   ]
  },
  {
   "cell_type": "markdown",
   "id": "d3bf1e5f",
   "metadata": {
    "slideshow": {
     "slide_type": "slide"
    }
   },
   "source": [
    "## Coming next\n",
    "\n",
    "* **Filter Design** (including the use of MATLAB for this) from Chapter 11 of Karris and other resources."
   ]
  },
  {
   "cell_type": "markdown",
   "id": "7655d256",
   "metadata": {
    "slideshow": {
     "slide_type": "notes"
    }
   },
   "source": [
    "## References\n",
    "\n",
    "See [Bibliography](/zbib)."
   ]
  },
  {
   "cell_type": "markdown",
   "id": "ca859c4d",
   "metadata": {
    "slideshow": {
     "slide_type": "notes"
    }
   },
   "source": [
    "### Footnotes\n",
    "\n",
    "1. *Note*: addition of two complex numbers $(a + jb) + (c + jd) = (a+b) + j(b + d)$ so requires 2 floating-point additions; multiplication $(a + jb)(c + jd) = (ac - bd)+j(ad + bc)$ requires four floating-point multiplications and two additions. \n",
    "\n",
    "    In MATLAB, complex numbers are represented internally as two 64 bit floating point operations so each complex operation is expensive both in terms of computing time and working memory space. And the result of an N-point DFT will require twice the memory of the original sequence, assuming that it is stored as floating point real numbers, considerably 16 times the storage is needed if the original sequence is the result of sampling by, say, an 8 bit ADC.\n",
    "\n",
    "    Of course, modern 64 bit mirocprocessers have hardware support for floating point operations and so these operations take a minumum number of machine cycles. Digital Signal Processors and Graphic Processing Units, probably have hardware support for complex arithmetic too. Nonethess, complex arithmetic is an expensive operation, so any simplifications we can make will be valuable.\n",
    "\n",
    "2. Even if we do not have a real sequence, we only need to compute the first $N/2$ values of the spectrum because the sequence for $X[k]$ from $N/2 + 1 < k \\le N-1$ are complex conjugates, in the reverse order, of the sequence of $X[k]$ for $0 \\le k < N/2$. This is easy to prove by looking at the geometry of the unit circle in the z-plane.\n",
    "\n",
    "3. If $N=1024$, $N\\log_2 N = 1024\\times 10 = 10,240$ complex operations.\n",
    "\n",
    "4. The Inverse FFT (IFFT) follows by noting that the rotation vector used in its computation is the complex conjugate\n",
    "$$W_N^{-1}.$$\n",
    "\n",
    "5. Karris goes further in showing how the decomposition used to implement the FFT can be further be understood by considering even and odd decompositions. This is also the approach taken by Phillips *et al.* reproduced here.\n",
    "You'll also find that most text books on Digital Signal Processing will cover the FFT and give more or less understandable presentations of the way the algorithm works.\n",
    "\n",
    "6. A complex number in MATLAB is 2 floating point doubles or 128 bits. So a 2048 \"bin\" FFT needs storage in RAM for approximately $22,528\\times 128 = 2.9$ Mbit ($260$ kByte) of data.\n",
    "\n",
    "7. In MATLAB arrays start at 1 so we actually use 1 - N/2 + 1 as our range of values for K."
   ]
  },
  {
   "cell_type": "markdown",
   "id": "04c9c22e",
   "metadata": {
    "slideshow": {
     "slide_type": "notes"
    }
   },
   "source": [
    "## Solutions"
   ]
  },
  {
   "cell_type": "markdown",
   "id": "7238256f",
   "metadata": {
    "slideshow": {
     "slide_type": "notes"
    }
   },
   "source": [
    "### Example 1\n",
    "\n",
    "From the mathematical development and signal flow graph shown earlier:\n",
    "\n",
    "$$\\begin{eqnarray*}\n",
    "X_e[0] &=& x[0] + x[2] = 1 + 3 = 4;\\\\\n",
    "X_e[1] &=& x[0] - x[2] = 1 - 3 = -2;\\\\\n",
    "X_o[0] &=& x[1] + x[3] = 2 + 4 = 6;\\\\\n",
    "X_o[1] &=& x[1] - x[3] = 2 - 4 = -2.\n",
    "\\end{eqnarray*}$$\n",
    "\n",
    "Thus,\n",
    "\n",
    "$$\\begin{eqnarray*}\n",
    "X[0] &=& X_e[0] + X_o[0] = 4 + 6 = 10,\\\\\n",
    "X[1] &=& X_e[1] + W_4^1 X_o[1] = -2 + (-j)(-2) = -2 - j2,\\\\\n",
    "X[2] &=& X_e[0] - X_o[0] = 4 - 6 = -2,\\\\\n",
    "X[3] &=& X_e[1] - W_4^1 X_o[1] = -2 - (-j)(-2) = -2 + j2.\n",
    "\\end{eqnarray*}$$\n",
    "\n",
    "Q.E.D."
   ]
  },
  {
   "cell_type": "markdown",
   "id": "0cb8d78b",
   "metadata": {
    "slideshow": {
     "slide_type": "notes"
    }
   },
   "source": [
    "### Example 2\n",
    "\n",
    "After decomposition we have:\n",
    "\n",
    "$$\\begin{eqnarray*}\n",
    "X_1[0] &=& x[0] + x[2] = 1 + 3 = 4;\\\\\n",
    "X_1[1] &=& W_4^0\\left[x[1] - x[3]\\right] = 2 + 4 = 6;\\\\\n",
    "X_2[0] &=& x[0] - x[2] = 1 - 3 = -2;\\\\\n",
    "X_2[1] &=& W_4^1\\left[x[1] - x[3]\\right] = -j[2 - 4] = -j2.\n",
    "\\end{eqnarray*}$$\n",
    "\n",
    "Hence, after 2-point FFT:\n",
    "\n",
    "$$\\begin{eqnarray*}\n",
    "X[0] &=& X_1[0] + X_1[1] = 4 + 6 = 10,\\\\\n",
    "X[1] &=& X_2[0] + X_2[1] = -2 - j2,\\\\\n",
    "X[2] &=& X_1[0] - X_1[1] = 4 - 6 = -2,\\\\\n",
    "X[3] &=& X_2[0] - X_2[1] = -2 + j2.\n",
    "\\end{eqnarray*}$$\n",
    "\n",
    "Q.E.D."
   ]
  },
  {
   "cell_type": "markdown",
   "id": "a1e19283",
   "metadata": {
    "slideshow": {
     "slide_type": "notes"
    }
   },
   "source": [
    "### Example 3\n",
    "\n",
    "See script [fft_ex1.m](https://cpjobling.github.io/eg-247-textbook/dft/2/matlab/fft_ex1.m).\n",
    "\n",
    "### Example 4\n",
    "\n",
    "See script [fft_ex2.m](https://cpjobling.github.io/eg-247-textbook/dft/2/matlab/fft_ex2.m)."
   ]
  }
 ],
 "metadata": {
  "celltoolbar": "Slideshow",
  "jupytext": {
   "formats": "ipynb,md:myst"
  },
  "kernelspec": {
   "display_name": "Matlab",
   "language": "matlab",
   "name": "matlab"
  },
  "language_info": {
   "codemirror_mode": "octave",
   "file_extension": ".m",
   "help_links": [
    {
     "text": "MetaKernel Magics",
     "url": "https://metakernel.readthedocs.io/en/latest/source/README.html"
    }
   ],
   "mimetype": "text/x-octave",
   "name": "matlab",
   "version": "0.17.1"
  }
 },
 "nbformat": 4,
 "nbformat_minor": 5
}
