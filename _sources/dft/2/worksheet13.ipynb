{
 "cells": [
  {
   "cell_type": "markdown",
   "id": "e57ed548",
   "metadata": {
    "slideshow": {
     "slide_type": "slide"
    }
   },
   "source": [
    "# Worksheet 13 \n",
    "\n",
    "## To accompany Unit 6.2 The Fast Fourier Transform"
   ]
  },
  {
   "cell_type": "markdown",
   "id": "da0cb372",
   "metadata": {
    "slideshow": {
     "slide_type": "notes"
    }
   },
   "source": [
    "We will step through this worksheet in class. \n",
    "\n",
    "You are expected to have at least watched the video presentation of {ref}`unit6.2` before coming to class. \n",
    "\n",
    "If you haven't watch it afterwards!"
   ]
  },
  {
   "cell_type": "markdown",
   "id": "8fbe98fb",
   "metadata": {
    "slideshow": {
     "slide_type": "slide"
    }
   },
   "source": [
    "## Agenda"
   ]
  },
  {
   "cell_type": "markdown",
   "id": "28f2791a",
   "metadata": {
    "slideshow": {
     "slide_type": "fragment"
    }
   },
   "source": [
    "* The inefficiency of the DFT"
   ]
  },
  {
   "cell_type": "markdown",
   "id": "56f1e82e",
   "metadata": {
    "slideshow": {
     "slide_type": "fragment"
    }
   },
   "source": [
    "* The FFT - a sketch of its development"
   ]
  },
  {
   "cell_type": "markdown",
   "id": "eea07523",
   "metadata": {
    "slideshow": {
     "slide_type": "fragment"
    }
   },
   "source": [
    "* An illustration of part of the FFT algorithm"
   ]
  },
  {
   "cell_type": "markdown",
   "id": "ae8b15cd",
   "metadata": {
    "slideshow": {
     "slide_type": "fragment"
    }
   },
   "source": [
    "* FFT v DFT"
   ]
  },
  {
   "cell_type": "markdown",
   "id": "e5be9c14",
   "metadata": {
    "slideshow": {
     "slide_type": "fragment"
    }
   },
   "source": [
    "* Two examples"
   ]
  },
  {
   "cell_type": "markdown",
   "id": "39697e25",
   "metadata": {
    "slideshow": {
     "slide_type": "fragment"
    }
   },
   "source": [
    "* Amplitude and frequency scaling the FFT"
   ]
  },
  {
   "cell_type": "markdown",
   "id": "1f3c2c75",
   "metadata": {
    "slideshow": {
     "slide_type": "slide"
    }
   },
   "source": [
    "## The inefficiency of the DFT\n",
    "\n",
    "Consider a signal whose highest frequency is 18 kHz, the sampling frequency is 50 kHz, and 1024 samples are taken, i.e., $N=1024$."
   ]
  },
  {
   "cell_type": "markdown",
   "id": "045ca1af",
   "metadata": {
    "slideshow": {
     "slide_type": "fragment"
    }
   },
   "source": [
    "The time required to compute the entire DFT would be:\n",
    "\n",
    "$$t = \\frac{1024\\,\\mathrm{samples}}{50\\times 10^3\\,\\mathrm{samples\\ per\\ second}} = 20.48\\,\\mathrm{ms}$$"
   ]
  },
  {
   "cell_type": "markdown",
   "id": "285574dd",
   "metadata": {
    "slideshow": {
     "slide_type": "subslide"
    }
   },
   "source": [
    "To compute the number of operations required to complete this task, let us expand the N-point DFT defined as:\n",
    "\n",
    "$$X[m] = \\sum_{n=0}^{N-1} x[n] W_N^{mn}$$"
   ]
  },
  {
   "cell_type": "markdown",
   "id": "ce4bf57b",
   "metadata": {
    "slideshow": {
     "slide_type": "subslide"
    }
   },
   "source": [
    "Then\n",
    "\n",
    "$$\\begin{eqnarray*}\n",
    "  X[0] &=& x[0]W_N^0 + x[1]W_N^0 + x[1]W_N^0 +  \\cdots  + x[N - 1]W_N^0 \\hfill \\\\\n",
    "  X[1] &=& x[0]W_N^0 + x[1]W_N^1 + x[1]W_N^2 +  \\cdots  + x[N - 1]W_N^{N - 1} \\hfill \\\\\n",
    "  X[2] &=& x[0]W_N^0 + x[1]W_N^2 + x[1]W_N^4 +  \\cdots  + x[N - 1]W_N^{2(N - 1)} \\hfill \\\\\n",
    "  \\hfil &\\cdots&  \\hfill \\\\\n",
    "  X[N - 1] &=& x[0]W_N^0 + x[1]W_N^{N - 1} + x[1]W_N^{2(N - 1)} +  \\cdots  + x[N - 1]W_N^{(N - 1)^2} \\hfill \\\\ \n",
    "\\end{eqnarray*}$$"
   ]
  },
  {
   "cell_type": "markdown",
   "id": "62373dea",
   "metadata": {
    "slideshow": {
     "slide_type": "subslide"
    }
   },
   "source": [
    "* It is worth remembering that \n",
    "\n",
    "$$W_N^0 = \\exp\\left(-j\\frac{2\\pi}{N}(0)\\right) = 1.$$"
   ]
  },
  {
   "cell_type": "markdown",
   "id": "baefbd6e",
   "metadata": {
    "slideshow": {
     "slide_type": "fragment"
    }
   },
   "source": [
    "* Since $W_N^i$ is a complex number, the computation of any frequency component $X[k]$ requires $N$ complex multiplications and $N$ complex additions"
   ]
  },
  {
   "cell_type": "markdown",
   "id": "5cf70a66",
   "metadata": {
    "slideshow": {
     "slide_type": "fragment"
    }
   },
   "source": [
    "* $2N$ complex arithmetic operations are required to compute any frequency component of $X[k].$<sup>1</sup>"
   ]
  },
  {
   "cell_type": "markdown",
   "id": "4e946676",
   "metadata": {
    "slideshow": {
     "slide_type": "fragment"
    }
   },
   "source": [
    "* If we assume that $x[n]$ is real, then only $N/2$ of the $X[m]$ components are unique."
   ]
  },
  {
   "cell_type": "markdown",
   "id": "b0f1b549",
   "metadata": {
    "slideshow": {
     "slide_type": "fragment"
    }
   },
   "source": [
    "* Therefore we would require $2N\\times N/2 = N^2$ complex operations to compute the entire frequency spectrum.<sup>2</sup>"
   ]
  },
  {
   "cell_type": "markdown",
   "id": "9b377352",
   "metadata": {
    "slideshow": {
     "slide_type": "subslide"
    }
   },
   "source": [
    "* For our example, the $N=1024$-point DFT, would require $1024^2 = 1,048,576$ complex operations"
   ]
  },
  {
   "cell_type": "markdown",
   "id": "bf19f982",
   "metadata": {
    "slideshow": {
     "slide_type": "fragment"
    }
   },
   "source": [
    "* These would have to be completed in 20.48 ms."
   ]
  },
  {
   "cell_type": "markdown",
   "id": "a9b33f28",
   "metadata": {
    "slideshow": {
     "slide_type": "fragment"
    }
   },
   "source": [
    "* This may be possible with modern computing hardware, perhaps even in a mobile phone, but it seems impractical."
   ]
  },
  {
   "cell_type": "markdown",
   "id": "d8322448",
   "metadata": {
    "slideshow": {
     "slide_type": "subslide"
    }
   },
   "source": [
    "* Fortunately, many of the $W_N$ terms in the computation are unity ($=\\pm 1$)."
   ]
  },
  {
   "cell_type": "markdown",
   "id": "92b92fa4",
   "metadata": {
    "slideshow": {
     "slide_type": "fragment"
    }
   },
   "source": [
    "* Moreover, because the $W_N^i$ points are equally spaced points on the unit circle;"
   ]
  },
  {
   "cell_type": "markdown",
   "id": "a70f7118",
   "metadata": {
    "slideshow": {
     "slide_type": "fragment"
    }
   },
   "source": [
    "* And because $N$ is a power of 2, the points on the upper-half plane (range $0 < \\theta < \\pi$ are the mirror image of the points on the lower-half plane range $\\pi < \\theta < 2\\pi$;"
   ]
  },
  {
   "cell_type": "markdown",
   "id": "0a320b59",
   "metadata": {
    "slideshow": {
     "slide_type": "fragment"
    }
   },
   "source": [
    "* Thus, there is a great deal of symmetry in the computation that can be exploited to simplify the computation and reduce the number of operations considerably to a much more manageable $N\\log_2 N$ operations<sup>3</sup>."
   ]
  },
  {
   "cell_type": "markdown",
   "id": "6be0219e",
   "metadata": {
    "slideshow": {
     "slide_type": "fragment"
    }
   },
   "source": [
    "This is possible with the algorithm called the [FTT](https://en.wikipedia.org/wiki/Fast_Fourier_transform) (fast Fourier transform) that was originally developed by [James Cooley](https://en.wikipedia.org/wiki/James_Cooley) and [John Tukey](https://en.wikipedia.org/wiki/John_Tukey) and has been considerably refined since."
   ]
  },
  {
   "cell_type": "markdown",
   "id": "43a3c48b",
   "metadata": {
    "slideshow": {
     "slide_type": "slide"
    }
   },
   "source": [
    "## The Fast Fourier Transform (FFT)\n",
    "\n",
    "The FFT is very well documented, including in Karris, so we will only sketch its development and present its main result. However, we will illustrate part of the algorithm to make concrete an idea of the efficiency advantage that the FFT has over the DFT that we have already seen."
   ]
  },
  {
   "cell_type": "markdown",
   "id": "6d44af4b",
   "metadata": {
    "slideshow": {
     "slide_type": "fragment"
    }
   },
   "source": [
    "Much of the development follows from the properties of the rotating vector.<sup>4</sup>"
   ]
  },
  {
   "cell_type": "markdown",
   "id": "daa56af7",
   "metadata": {
    "slideshow": {
     "slide_type": "subslide"
    }
   },
   "source": [
    "$$W_N=\\exp\\left(-\\frac{j2\\pi}{N}\\right)$$\n",
    "\n",
    "which results in some simplifications and mathematical short-cuts when $N$ is a power of 2."
   ]
  },
  {
   "cell_type": "markdown",
   "id": "6006a3ab",
   "metadata": {
    "slideshow": {
     "slide_type": "subslide"
    }
   },
   "source": [
    "The most useful properties are:\n",
    "\n",
    "$$\\begin{eqnarray*}\n",
    "  W_N^N &=& \\exp\\left(-j\\frac{2\\pi}{N}N\\right) = \\exp\\left(-j2\\pi\\right) = 1.\\\\\n",
    "  W_N^{N/2} &=&  \\exp\\left(-j\\frac{2\\pi}{N}\\frac{N}{2}\\right) = \\exp\\left(-j\\pi\\right) = -1.\\\\\n",
    "  W_N^{N/4} &=&  \\exp\\left(-j\\frac{2\\pi}{N}\\frac{N}{4}\\right) = \\exp\\left(-j\\pi/2\\right) = -j.\\\\\n",
    "  W_N^{3N/4} &=&  \\exp\\left(-j\\frac{2\\pi}{N}\\frac{3N}{4}\\right) = \\exp\\left(-j3\\pi/2\\right) = j.\\end{eqnarray*}$$"
   ]
  },
  {
   "cell_type": "markdown",
   "id": "943a19e3",
   "metadata": {
    "slideshow": {
     "slide_type": "subslide"
    }
   },
   "source": [
    "$$\\begin{eqnarray*}\n",
    "  W_N^{kN} &=&  \\exp\\left(-j\\frac{2\\pi}{N}kN\\right) = \\exp\\left(-j2\\pi\\right) = 1,\\,k=0,1,2,\\ldots\\\\\n",
    "  W_N^{kN+r} &=&  \\exp\\left(-j\\frac{2\\pi}{N}kN\\right)\\exp\\left(-j\\frac{2\\pi}{N}r\\right) = 1.W_N^r=W_N^r.\\\\\n",
    "  W_{2N}^{k} &=&  \\exp\\left(-j\\frac{2\\pi}{2N}k\\right) = \\exp\\left(-j\\frac{2\\pi}{N}\\frac{k}{2}\\right) = W_N^{k/2}.\n",
    "\\end{eqnarray*}$$"
   ]
  },
  {
   "cell_type": "markdown",
   "id": "f3d9d852",
   "metadata": {
    "slideshow": {
     "slide_type": "subslide"
    }
   },
   "source": [
    "### Decomposition-in-Time FFT Algorithm"
   ]
  },
  {
   "cell_type": "markdown",
   "id": "04703eb8",
   "metadata": {
    "slideshow": {
     "slide_type": "fragment"
    }
   },
   "source": [
    "This development follows (Philips, *et al.*, 2015). It is called the *decomposition-in-time (DIT), radix-2, FFT*."
   ]
  },
  {
   "cell_type": "markdown",
   "id": "c7378047",
   "metadata": {
    "slideshow": {
     "slide_type": "fragment"
    }
   },
   "source": [
    "It allows us to visualize the FFT as a block diagram (for simulation) or a signal flow graph (for ease of drawing)."
   ]
  },
  {
   "cell_type": "markdown",
   "id": "c70c07c6",
   "metadata": {
    "slideshow": {
     "slide_type": "subslide"
    }
   },
   "source": [
    "We start from a 2-point FFT ($N=2$), and work up to an 8-point FFT ($N=8$) before generalizing the result."
   ]
  },
  {
   "cell_type": "markdown",
   "id": "eacefe57",
   "metadata": {
    "slideshow": {
     "slide_type": "fragment"
    }
   },
   "source": [
    "We have implemented each algorithm in Simulink so we are able illustrate these structures with executable examples as we go."
   ]
  },
  {
   "cell_type": "markdown",
   "id": "3b3cb99b",
   "metadata": {
    "slideshow": {
     "slide_type": "subslide"
    }
   },
   "source": [
    "#### 2-Point DFT\n",
    "\n",
    "$$X[k] = \\sum_{n=0}^1 x[n]W^{nk}_2 = x[0]W_2^{0k} + X[1]W_2^{1k},\\,k=0,1.$$"
   ]
  },
  {
   "cell_type": "markdown",
   "id": "c443656f",
   "metadata": {
    "slideshow": {
     "slide_type": "fragment"
    }
   },
   "source": [
    "Because $W_2^{0k}=\\exp\\left(j0\\right)=1$ and $W_2^{1k}=\\exp\\left(-j\\pi k\\right)=(-1)^k$, we write\n",
    "\n",
    "$$\\begin{eqnarray*}\n",
    "X[0] &=& x[0]+x[1];\\\\\n",
    "X[1] &=& x[0]-x[1].\n",
    "\\end{eqnarray*}$$"
   ]
  },
  {
   "cell_type": "markdown",
   "id": "f1570ede",
   "metadata": {
    "slideshow": {
     "slide_type": "subslide"
    }
   },
   "source": [
    "In general for the 2-point DFT, we have\n",
    "\n",
    "$$X[k]=x[0]+(-1)^kx[1].$$"
   ]
  },
  {
   "cell_type": "markdown",
   "id": "d20d8599",
   "metadata": {
    "slideshow": {
     "slide_type": "subslide"
    }
   },
   "source": [
    "![Signal flow graph of 2-point DFT](pictures/2-point-dft-sfg.png)"
   ]
  },
  {
   "cell_type": "markdown",
   "id": "0547a7e8",
   "metadata": {
    "slideshow": {
     "slide_type": "notes"
    }
   },
   "source": [
    "An equivalent Simulink model in block diagram form is:\n",
    "\n",
    "![2-point dft](pictures/2-point-dft.png)"
   ]
  },
  {
   "cell_type": "markdown",
   "id": "3de5f604",
   "metadata": {
    "slideshow": {
     "slide_type": "subslide"
    }
   },
   "source": [
    "#### Let's See it in MATLAB\n",
    "\n",
    "[two_point_dft.slx](https://cpjobling.github.io/eg-247-textbook/dft/2/matlab/two_point_dft.slx)"
   ]
  },
  {
   "cell_type": "code",
   "execution_count": 1,
   "id": "912e1f10",
   "metadata": {
    "slideshow": {
     "slide_type": "skip"
    }
   },
   "outputs": [],
   "source": [
    "cd matlab\n",
    "clear all\n",
    "format compact\n",
    "%imatlab_export_fig('print-svg')  % Static svg figures."
   ]
  },
  {
   "cell_type": "code",
   "execution_count": 4,
   "id": "0fccd809",
   "metadata": {
    "slideshow": {
     "slide_type": "fragment"
    }
   },
   "outputs": [],
   "source": [
    "open two_point_dft"
   ]
  },
  {
   "cell_type": "markdown",
   "id": "821f8e6a",
   "metadata": {
    "slideshow": {
     "slide_type": "slide"
    }
   },
   "source": [
    "#### 4-point DFT\n",
    "\n",
    "The 4-point DFT is given by\n",
    "\n",
    "$$\\begin{eqnarray*}\n",
    "X[k] &=& \\sum_{n=0}^3 x[n]W_4^{nk}\\\\\n",
    "     &=& x[0]W_4^{0k} + x[1]W_4^{1k} + x[2]W_4^{2k} + x[3]W_4^{3k}.\\end{eqnarray*}$$"
   ]
  },
  {
   "cell_type": "markdown",
   "id": "d9a078ec",
   "metadata": {
    "slideshow": {
     "slide_type": "subslide"
    }
   },
   "source": [
    "As a result of the periodicity of the weighting factor, we can simplify this expression:\n",
    "\n",
    "$$\\begin{eqnarray*}\n",
    "W_N^{nk} &=& \\exp\\left(-j(2\\pi/N)nk\\right);\\\\\n",
    "W_4^{0k} &=& 1;\\\\\n",
    "W_4^{1k} &=& \\exp\\left(-j(\\pi/2)k\\right) = (-j)^k;\\\\\n",
    "W_4^{2k} &=& \\exp\\left(-j\\pi k\\right) = (-1)^k;\\\\\n",
    "W_4^{3k} &=& W_4^{2k}W_4^{1k}=(-1)^k W_4^{1k}.\n",
    "\\end{eqnarray*}$$"
   ]
  },
  {
   "cell_type": "markdown",
   "id": "df51e4ea",
   "metadata": {
    "slideshow": {
     "slide_type": "subslide"
    }
   },
   "source": [
    "Using these results, we write\n",
    "\n",
    "$$\\begin{eqnarray*}\n",
    "X[k] &=&  x[0] + x[1]W_4^{1k} + x[2](-1)^k + x[3](-1)^kW_4^{1k},\\\\\n",
    "X[k] &=&  \\left[x[0] + x[2](-1)^k\\right] + \\left[x[1] +  x[3](-1)^k\\right]W_4^{1k}.\n",
    "\\end{eqnarray*}$$"
   ]
  },
  {
   "cell_type": "markdown",
   "id": "485327e2",
   "metadata": {
    "slideshow": {
     "slide_type": "subslide"
    }
   },
   "source": [
    "To clarify the next step, we define two new variables\n",
    "\n",
    "$$\\begin{eqnarray*}\n",
    "x_e[n]&=&x[2n],\\,n=0,1;\\\\\n",
    "x_o[n]&=&x[2n+1],\\,n=0,1.\n",
    "\\end{eqnarray*}$$"
   ]
  },
  {
   "cell_type": "markdown",
   "id": "1059160b",
   "metadata": {
    "slideshow": {
     "slide_type": "subslide"
    }
   },
   "source": [
    "Then,\n",
    "\n",
    "$$X[k] =  \\left[x_e[0] + x_e[1](-1)^k\\right] +\\left[x_o[0] + x_o[1](-1)^k\\right]W_4^{1k}.$$"
   ]
  },
  {
   "cell_type": "markdown",
   "id": "83575df7",
   "metadata": {
    "slideshow": {
     "slide_type": "fragment"
    }
   },
   "source": [
    "The factors in brackets in this equation can be recognized as 2-point DFTs:\n",
    "\n",
    "$$\\begin{eqnarray*}\n",
    "X_e[m] &=& x_e[0] + x_e[1](-1)^m,\\;m=0,1;\\\\\n",
    "X_o[m] &=& x_o[0] + x_o[1](-1)^m,\\;m=0,1.\n",
    "\\end{eqnarray*}$$"
   ]
  },
  {
   "cell_type": "markdown",
   "id": "eef68e68",
   "metadata": {
    "slideshow": {
     "slide_type": "subslide"
    }
   },
   "source": [
    "Note that $X_e[k]$ and $X_o[k]$ are periodic; for example,\n",
    "\n",
    "$$X_e[2]= x_e[0]+ x_e[1](-1)^2 = X_e[0]$$\n",
    "\n",
    "and\n",
    "\n",
    "$$X_o[3]= x_o[0]+ x_o[1](-1)^3 = X_o[1]$$"
   ]
  },
  {
   "cell_type": "markdown",
   "id": "1c487063",
   "metadata": {
    "slideshow": {
     "slide_type": "subslide"
    }
   },
   "source": [
    "The 4-point DFT then is\n",
    "\n",
    "$$\\begin{eqnarray*}\n",
    "X[0] &=& X_e[0] + X_o[0]W_4^{1(0)} = X_e[0] + X_o[0];\\\\\n",
    "X[1] &=& X_e[1] + X_o[1]W_4^{1(1)} = X_e[0] + X_o[0]W_4^1;\\\\\n",
    "X[2] &=& X_e[0] - X_o[0]W_4^{1(2)} = X_e[0] + X_o[0];\\\\\n",
    "X[3] &=& X_e[1] - X_o[1]W_4^{1(3)} = X_e[0] + X_o[0]W_4^1.\n",
    "\\end{eqnarray*}$$"
   ]
  },
  {
   "cell_type": "markdown",
   "id": "0200f231",
   "metadata": {
    "slideshow": {
     "slide_type": "subslide"
    }
   },
   "source": [
    "We see that the 4-point DFT can be computed by the generation of two 2-point DFTs, followed by a *recomposition* of terms as shown in the signal flow graph below:"
   ]
  },
  {
   "cell_type": "markdown",
   "id": "4b57022d",
   "metadata": {
    "slideshow": {
     "slide_type": "subslide"
    }
   },
   "source": [
    "![Signal flow graph of 4-point DFT](pictures/4-point-dft-sfg.png)"
   ]
  },
  {
   "cell_type": "markdown",
   "id": "b4b5498b",
   "metadata": {
    "slideshow": {
     "slide_type": "subslide"
    }
   },
   "source": [
    "In other words,\n",
    "\n",
    "[4-point DFT of $x[n]$] = [2-point DFT of $x_e[n]$] + $W_4^{1k}$[2-point DFT of $x_o[n]$]."
   ]
  },
  {
   "cell_type": "markdown",
   "id": "63005df3",
   "metadata": {
    "slideshow": {
     "slide_type": "subslide"
    }
   },
   "source": [
    "### In Class Example 1\n",
    "\n",
    "Use four-point DIT FFT to confirm that the DFT of the sequence \n",
    "\n",
    "$$x[n] = [1, 2, 3, 4]$$\n",
    "\n",
    "is \n",
    "\n",
    "$$X[m] = [10, -2+j2, -2, -2-j2].$$"
   ]
  },
  {
   "cell_type": "markdown",
   "id": "cf9e6404",
   "metadata": {
    "slideshow": {
     "slide_type": "notes"
    }
   },
   "source": [
    "<pre style=\"border: 2px solid blue\">\n",
    "\n",
    "\n",
    "\n",
    "\n",
    "\n",
    "\n",
    "\n",
    "\n",
    "\n",
    "\n",
    "\n",
    "\n",
    "\n",
    "\n",
    "\n",
    "\n",
    "\n",
    "\n",
    "\n",
    "\n",
    "\n",
    "\n",
    "</pre>"
   ]
  },
  {
   "cell_type": "markdown",
   "id": "94454bce",
   "metadata": {
    "slideshow": {
     "slide_type": "subslide"
    }
   },
   "source": [
    "#### SIMULINK Model of 4-Point DFT\n",
    "\n",
    "[four_point_dft.slx](https://cpjobling.github.io/eg-247-textbook/dft/2/matlab/four_point_dft.slx)"
   ]
  },
  {
   "cell_type": "code",
   "execution_count": 5,
   "id": "093412ff",
   "metadata": {
    "slideshow": {
     "slide_type": "fragment"
    }
   },
   "outputs": [],
   "source": [
    "open four_point_dft"
   ]
  },
  {
   "cell_type": "markdown",
   "id": "2884abae",
   "metadata": {
    "slideshow": {
     "slide_type": "slide"
    }
   },
   "source": [
    "#### 8-point DFT\n",
    "\n",
    "$$X[k] = \\sum_{n=0}^{7}x[n]W_8^{nk}.$$"
   ]
  },
  {
   "cell_type": "markdown",
   "id": "c5976f13",
   "metadata": {
    "slideshow": {
     "slide_type": "subslide"
    }
   },
   "source": [
    "After some manipulation, not reproduced here, it can be shown that the 8-point DFT is the recombination of two, 4-point DFTs that operate on the even and odd numbered values in the sequence $x[n]$ respectively."
   ]
  },
  {
   "cell_type": "markdown",
   "id": "d98ac5e3",
   "metadata": {
    "slideshow": {
     "slide_type": "subslide"
    }
   },
   "source": [
    "#### Signal flow graph of 8-point DFT\n",
    "\n",
    "![Signal flow graph of 8-point DFT](pictures/8-point-dft-sfg.png)"
   ]
  },
  {
   "cell_type": "markdown",
   "id": "9ecc1d14",
   "metadata": {
    "slideshow": {
     "slide_type": "subslide"
    }
   },
   "source": [
    "#### SIMULINK Model of 8-Point DFT\n",
    "\n",
    "[eight_point_dft.slx](https://cpjobling.github.io/eg-247-textbook/dft/2/matlab/eight_point_dft.slx)"
   ]
  },
  {
   "cell_type": "code",
   "execution_count": 6,
   "id": "a22a3b37",
   "metadata": {
    "slideshow": {
     "slide_type": "fragment"
    }
   },
   "outputs": [],
   "source": [
    "open eight_point_dft"
   ]
  },
  {
   "cell_type": "markdown",
   "id": "c52edf5e",
   "metadata": {
    "slideshow": {
     "slide_type": "slide"
    }
   },
   "source": [
    "#### N-Point, radix-2 DIT FFT\n",
    "\n",
    "In general, the $N$-point, radix-2 DIT FFT is computed as the recomposition of two $(N/2)$-point FFTs) as shown in the buterfly diagram below\n",
    "\n",
    "![N-point FFT](pictures/n-point-fft.png)"
   ]
  },
  {
   "cell_type": "markdown",
   "id": "bd990afd",
   "metadata": {
    "slideshow": {
     "slide_type": "slide"
    }
   },
   "source": [
    "### Decomposition-in-Frequency FFT\n",
    "\n",
    "Another approach to forming the FFT is the so-called decomposition in frequency (DIF) FFT. \n",
    "\n",
    "We will not cover it's development in detail (see Karris and Phillips *et al.*) if you want to follow it through.\n",
    "\n",
    "We instead illustrate the final result for the four-point DIF FFT."
   ]
  },
  {
   "cell_type": "markdown",
   "id": "613676c3",
   "metadata": {
    "slideshow": {
     "slide_type": "subslide"
    }
   },
   "source": [
    "#### Signal flow graph for 4-point DIF FFT\n",
    "\n",
    "![Signal flow chart for 4-point DIF FFT](pictures/4-point-dif-fft.png)"
   ]
  },
  {
   "cell_type": "markdown",
   "id": "a23239e6",
   "metadata": {
    "slideshow": {
     "slide_type": "notes"
    }
   },
   "source": [
    "Note that the structure is a 4-point decompostion followed by two 2-point FFTs.\n",
    "\n",
    "Also note that it is frequency $X_n[k]$ that is the input to the DFT stage."
   ]
  },
  {
   "cell_type": "markdown",
   "id": "8f7d3188",
   "metadata": {
    "slideshow": {
     "slide_type": "subslide"
    }
   },
   "source": [
    "#### SIMULINK Model of 4-Point DIF FFT\n",
    "\n",
    "[four_point_dif.slx](https://cpjobling.github.io/eg-247-textbook/dft/2/matlab/four_point_dif.slx)"
   ]
  },
  {
   "cell_type": "code",
   "execution_count": 7,
   "id": "9ece910e",
   "metadata": {
    "slideshow": {
     "slide_type": "fragment"
    }
   },
   "outputs": [],
   "source": [
    "open four_point_dif"
   ]
  },
  {
   "cell_type": "markdown",
   "id": "3ecf84c5",
   "metadata": {
    "slideshow": {
     "slide_type": "slide"
    }
   },
   "source": [
    "### In Class Example 2\n",
    "\n",
    "Use four two-point DIF FFT to confirm that the DFT of the sequence \n",
    "\n",
    "$$x[n] = [1, 2, 3, 4]$$\n",
    "\n",
    "is \n",
    "\n",
    "$$X[m] = [10, -2+j2, -2, -2-j2].$$"
   ]
  },
  {
   "cell_type": "markdown",
   "id": "54ea3c0f",
   "metadata": {
    "slideshow": {
     "slide_type": "notes"
    }
   },
   "source": [
    "<pre style=\"border: 2px solid blue\">\n",
    "\n",
    "\n",
    "\n",
    "\n",
    "\n",
    "\n",
    "\n",
    "\n",
    "\n",
    "\n",
    "\n",
    "\n",
    "\n",
    "\n",
    "\n",
    "\n",
    "\n",
    "\n",
    "\n",
    "\n",
    "\n",
    "\n",
    "</pre>"
   ]
  },
  {
   "cell_type": "markdown",
   "id": "440f3284",
   "metadata": {
    "slideshow": {
     "slide_type": "slide"
    }
   },
   "source": [
    "## Efficiency of the FFT\n",
    "\n",
    "Wether we implement it as a Decomposition-in-Time (DIT) or a Decomposition-in-Frequency (DIF), the FFT ends up having approximately $(N/2)\\log_2(N)$ multiplications and a similar number of complex additions or subtractions. \n",
    "\n",
    "In other words, $(N)\\log_2(N)$ complex arithmetic operations.\n",
    "\n",
    "As complex arithmetic, particularly multiplication, is very expensive, this is a great saving over the DFT which has of order $N^2$ operations."
   ]
  },
  {
   "cell_type": "markdown",
   "id": "7823d98a",
   "metadata": {
    "slideshow": {
     "slide_type": "subslide"
    }
   },
   "source": [
    "### DFT and FFT Comparisons\n",
    "\n",
    "Under the assumptions about the relative efficiency of the DFT and FFT we can create a table like that shown below:\n",
    "\n",
    "\n",
    "| &nbsp; |  &nbsp;      | DFT         | FFT         | FFT/DFT   |\n",
    "|--------|--------------|-------------|-------------|-----------|\n",
    "| N      | $\\log_2 N$   | $N^2$       | $N\\log_2 N$ |         % | \n",
    "| 8      | 3            | 64          | 24          | 37.5      |\n",
    "| 16     | 4            | 256         | 64          | 25        |\n",
    "| 32     | 5            | 1,024       | 160         | 15.6      |\n",
    "| 64     | 6            | 4,096       | 384         | 9.4       |\n",
    "| 128    | 7            | 16,384      | 896         | 5.5       |\n",
    "| 256    | 8            | 65,536      | 2,048       | 3.1       |\n",
    "| 512    | 9            | 261,144     | 4,608       | 1.8       |\n",
    "| 1024   | 10           | 1,048,576   | 10,240      | 1         |\n",
    "| 2048   | 11           | 4,194,304   | 22,528      | 0.5       |"
   ]
  },
  {
   "cell_type": "markdown",
   "id": "dce5c7be",
   "metadata": {
    "slideshow": {
     "slide_type": "notes"
    }
   },
   "source": [
    "As you can see, the efficiency of the FFT actual gets better as the number of samples go up! \n",
    "\n",
    "However, there are other costs, such as the data storage needed for intermediate steps, that need to be taken into account as well. For example, an 8-point FFT requires only a 3 stage decomposition, with each stage needing storage for 8 complex numbers. That is 24 in all. Whereas a 2048 sequence will require 11 stages, storing 2048 values each. That is a total of 22,528 complex values<sup>6</sup>."
   ]
  },
  {
   "cell_type": "markdown",
   "id": "9a7d40c3",
   "metadata": {
    "slideshow": {
     "slide_type": "slide"
    }
   },
   "source": [
    "## In Class Demonstrations"
   ]
  },
  {
   "cell_type": "markdown",
   "id": "4149208d",
   "metadata": {
    "slideshow": {
     "slide_type": "fragment"
    }
   },
   "source": [
    "### FFT in MATLAB\n",
    "\n",
    "The FFT algorithm is implemented, in MATLAB, as the function `fft`. We will work through Exercises 6 and 7 from section 10.8 of Karris."
   ]
  },
  {
   "cell_type": "markdown",
   "id": "eeced22f",
   "metadata": {
    "slideshow": {
     "slide_type": "subslide"
    }
   },
   "source": [
    "### Example 3\n",
    "\n",
    "Plot the Fourier transform of the rectangular pulse shown below, using the MATLAB `fft` func-tion. Then, use the `ifft` function to verify that the inverse transformation produces the rectangular pulse.\n",
    "\n",
    "![Example 1](pictures/fft_example1.png)"
   ]
  },
  {
   "cell_type": "markdown",
   "id": "b4d39825",
   "metadata": {
    "slideshow": {
     "slide_type": "subslide"
    }
   },
   "source": [
    "#### FFT for Example 3\n",
    "\n",
    "The rectangular pulse can be produced like so"
   ]
  },
  {
   "cell_type": "code",
   "execution_count": 14,
   "id": "22a749e4",
   "metadata": {
    "slideshow": {
     "slide_type": "fragment"
    }
   },
   "outputs": [
    {
     "data": {
      "image/png": "[encoded data removed]",
      "text/plain": [
       "<IPython.core.display.Image object>"
      ]
     },
     "metadata": {},
     "output_type": "display_data"
    }
   ],
   "source": [
    "x = [linspace(-2,-1,50) linspace(-1,1,100) linspace(1,2,50)];\n",
    "y = [linspace(0,0,50) linspace(1,1,100) linspace(0,0,50)];\n",
    "stem(x,y);\n",
    "N = length(x);"
   ]
  },
  {
   "cell_type": "markdown",
   "id": "df5ec7cd",
   "metadata": {
    "slideshow": {
     "slide_type": "subslide"
    }
   },
   "source": [
    "and the FFT is produced as"
   ]
  },
  {
   "cell_type": "code",
   "execution_count": 16,
   "id": "f01ffffd",
   "metadata": {
    "slideshow": {
     "slide_type": "fragment"
    }
   },
   "outputs": [
    {
     "data": {
      "image/png": "[encoded data removed]",
      "text/plain": [
       "<IPython.core.display.Image object>"
      ]
     },
     "metadata": {},
     "output_type": "display_data"
    }
   ],
   "source": [
    "stem(abs(fft(y)))\n",
    "stem(-N/2+1:N/2,abs(fftshift(fft(y)))) % Note change in x index to get axis labels correct\n",
    "xlabel('k'),ylabel('abs(fft)')"
   ]
  },
  {
   "cell_type": "markdown",
   "id": "3f3ae3a2",
   "metadata": {
    "slideshow": {
     "slide_type": "subslide"
    }
   },
   "source": [
    "unwind"
   ]
  },
  {
   "cell_type": "code",
   "execution_count": 19,
   "id": "afaed712",
   "metadata": {
    "slideshow": {
     "slide_type": "fragment"
    }
   },
   "outputs": [
    {
     "data": {
      "image/png": "[encoded data removed]",
      "text/plain": [
       "<IPython.core.display.Image object>"
      ]
     },
     "metadata": {},
     "output_type": "display_data"
    }
   ],
   "source": [
    "stem(-N/2+1:N/2, abs(fftshift(fft(y)))) % Note change in x index for index $k$ into positive/negative frequency bins\n",
    "xlabel('k'),ylabel('abs(fft)')"
   ]
  },
  {
   "cell_type": "markdown",
   "id": "5741865a",
   "metadata": {
    "slideshow": {
     "slide_type": "subslide"
    }
   },
   "source": [
    "The inverse FFT is obtained with"
   ]
  },
  {
   "cell_type": "code",
   "execution_count": 11,
   "id": "335d6dc6",
   "metadata": {
    "slideshow": {
     "slide_type": "fragment"
    }
   },
   "outputs": [
    {
     "data": {
      "image/png": "[encoded data removed]",
      "text/plain": [
       "<IPython.core.display.Image object>"
      ]
     },
     "metadata": {},
     "output_type": "display_data"
    }
   ],
   "source": [
    "stem(x, ifft(fft(y)))"
   ]
  },
  {
   "cell_type": "markdown",
   "id": "c360db8b",
   "metadata": {
    "slideshow": {
     "slide_type": "subslide"
    }
   },
   "source": [
    "### Example 4\n",
    "\n",
    "![Example 2](pictures/fft_example2.png)"
   ]
  },
  {
   "cell_type": "markdown",
   "id": "045df551",
   "metadata": {
    "slideshow": {
     "slide_type": "subslide"
    }
   },
   "source": [
    "#### FFT Example 4\n",
    "\n",
    "The triangular pulse is obtained with"
   ]
  },
  {
   "cell_type": "code",
   "execution_count": 25,
   "id": "38de82d0",
   "metadata": {
    "slideshow": {
     "slide_type": "fragment"
    }
   },
   "outputs": [
    {
     "data": {
      "image/png": "[encoded data removed]",
      "text/plain": [
       "<IPython.core.display.Image object>"
      ]
     },
     "metadata": {},
     "output_type": "display_data"
    }
   ],
   "source": [
    "x = linspace(-1,1,100);\n",
    "y = [linspace(0,1,50) linspace(1,0,50)];\n",
    "stem(x,y)\n",
    "N = length(y);"
   ]
  },
  {
   "cell_type": "markdown",
   "id": "7cd85c0a",
   "metadata": {
    "slideshow": {
     "slide_type": "subslide"
    }
   },
   "source": [
    "and the FFT is obtained with"
   ]
  },
  {
   "cell_type": "code",
   "execution_count": 26,
   "id": "8bb91577",
   "metadata": {
    "slideshow": {
     "slide_type": "subslide"
    }
   },
   "outputs": [
    {
     "data": {
      "image/png": "[encoded data removed]",
      "text/plain": [
       "<IPython.core.display.Image object>"
      ]
     },
     "metadata": {},
     "output_type": "display_data"
    }
   ],
   "source": [
    "stem(-N/2 + 1:N/2, abs(fftshift(fft(y))))\n",
    "xlabel('k'),ylabel('abs(fft)')"
   ]
  },
  {
   "cell_type": "markdown",
   "id": "8d9b9367",
   "metadata": {
    "slideshow": {
     "slide_type": "subslide"
    }
   },
   "source": [
    "The inverse FFT is obtained with"
   ]
  },
  {
   "cell_type": "code",
   "execution_count": 27,
   "id": "b9cbe9bb",
   "metadata": {
    "slideshow": {
     "slide_type": "fragment"
    }
   },
   "outputs": [
    {
     "data": {
      "image/png": "[encoded data removed]",
      "text/plain": [
       "<IPython.core.display.Image object>"
      ]
     },
     "metadata": {},
     "output_type": "display_data"
    }
   ],
   "source": [
    "stem(x, ifft(fft(y)))"
   ]
  },
  {
   "cell_type": "markdown",
   "id": "94c75a77",
   "metadata": {
    "slideshow": {
     "slide_type": "subslide"
    }
   },
   "source": [
    "## Time and Amplitude Scaling\n",
    "\n",
    "This is covered in the <a href=\"https://cpjobling.github.io/eg-247-textbook/dft/2/fft.html#frequency-and-amplitude-scaling\">notes for this section</a>."
   ]
  },
  {
   "cell_type": "markdown",
   "id": "df20e847",
   "metadata": {
    "slideshow": {
     "slide_type": "slide"
    }
   },
   "source": [
    "## Summary\n",
    "\n",
    "* The inefficiency of the DFT\n",
    "* The FFT - a sketch of its development\n",
    "* An illustration of part of the FFT algorithm\n",
    "* FFT v DFT\n",
    "* Two examples"
   ]
  }
 ],
 "metadata": {
  "celltoolbar": "Slideshow",
  "jupytext": {
   "formats": "ipynb,md:myst"
  },
  "kernelspec": {
   "display_name": "Matlab",
   "language": "matlab",
   "name": "matlab"
  },
  "language_info": {
   "codemirror_mode": "octave",
   "file_extension": ".m",
   "help_links": [
    {
     "text": "MetaKernel Magics",
     "url": "https://metakernel.readthedocs.io/en/latest/source/README.html"
    }
   ],
   "mimetype": "text/x-octave",
   "name": "matlab",
   "version": "0.17.1"
  }
 },
 "nbformat": 4,
 "nbformat_minor": 5
}
