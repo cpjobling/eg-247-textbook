{
 "cells": [
  {
   "cell_type": "markdown",
   "id": "75f0242a",
   "metadata": {
    "slideshow": {
     "slide_type": "slide"
    }
   },
   "source": [
    "# Discrete-Time Systems and the Z-Transform"
   ]
  },
  {
   "cell_type": "markdown",
   "id": "f395f74c",
   "metadata": {},
   "source": [
    "## Colophon\n",
    "\n",
    "* The source code for this page is [dt_systems/2/z_transform.ipynb](https://github.com/cpjobling/eg-247-textbook/blob/master/dt_systems/2/z_transform.ipynb).\n",
    "\n",
    "* You can view the notes for this presentation as a webpage ([HTML](https://cpjobling.github.io/eg-247-textbook/dt_systems/2/z_transform.html)). \n",
    "\n",
    "* This page is downloadable as a [PDF](https://cpjobling.github.io/eg-247-textbook/dt_systems/2/z_transform.pdf) file."
   ]
  },
  {
   "cell_type": "markdown",
   "id": "cf3870e6",
   "metadata": {
    "slideshow": {
     "slide_type": "slide"
    }
   },
   "source": [
    "## Scope and Background Reading\n",
    "\n",
    "This session introduces the z-transform which is used in the analysis of discrete time systems. As for the Fourier and Laplace transforms, we present the definition, define the properties and give some applications of the use of the z-transform in the analysis of signals that are represented as sequences and systems represented by difference equations.\n",
    "\n",
    "The material in this presentation and notes is based on [Chapter 9](https://ebookcentral.proquest.com/lib/swansea-ebooks/reader.action?docID=3384197&ppg=329) of {cite}`karris` from the **Required Reading List**. Additional coverage is to be found in Chapter 13 of {cite}`boulet` from the **Recommended Reading List**."
   ]
  },
  {
   "cell_type": "markdown",
   "id": "eff94eaa",
   "metadata": {
    "slideshow": {
     "slide_type": "slide"
    }
   },
   "source": [
    "## Agenda"
   ]
  },
  {
   "cell_type": "markdown",
   "id": "b6c30007",
   "metadata": {
    "slideshow": {
     "slide_type": "fragment"
    }
   },
   "source": [
    "* Introduction"
   ]
  },
  {
   "cell_type": "markdown",
   "id": "c2622d75",
   "metadata": {
    "slideshow": {
     "slide_type": "fragment"
    }
   },
   "source": [
    "* The Z-Transform"
   ]
  },
  {
   "cell_type": "markdown",
   "id": "7892e869",
   "metadata": {
    "slideshow": {
     "slide_type": "fragment"
    }
   },
   "source": [
    "* Properties of the Z-Transform"
   ]
  },
  {
   "cell_type": "markdown",
   "id": "e4befb62",
   "metadata": {
    "slideshow": {
     "slide_type": "fragment"
    }
   },
   "source": [
    "* Some Selected Z-Transforms"
   ]
  },
  {
   "cell_type": "markdown",
   "id": "b26771fd",
   "metadata": {
    "slideshow": {
     "slide_type": "fragment"
    }
   },
   "source": [
    "* Relationship between Laplace and Z-Transform"
   ]
  },
  {
   "cell_type": "markdown",
   "id": "f4ea78ea",
   "metadata": {
    "slideshow": {
     "slide_type": "fragment"
    }
   },
   "source": [
    "* Stability Regions"
   ]
  },
  {
   "cell_type": "markdown",
   "id": "af6b4c66",
   "metadata": {
    "slideshow": {
     "slide_type": "slide"
    }
   },
   "source": [
    "## Introduction\n",
    "\n",
    "![CT to DT System](./pictures/ct-to-dt.png)"
   ]
  },
  {
   "cell_type": "markdown",
   "id": "9b420de1",
   "metadata": {
    "slideshow": {
     "slide_type": "fragment"
    }
   },
   "source": [
    "In the remainder of this course we turn our attention to how we model and analyse the behaviour of the central block in this picture."
   ]
  },
  {
   "cell_type": "markdown",
   "id": "f19fc964",
   "metadata": {
    "slideshow": {
     "slide_type": "subslide"
    }
   },
   "source": [
    "### Nature of the signals\n",
    "\n",
    "![Nature of the signals](./pictures/ct-to-dt-to-sequence.png)"
   ]
  },
  {
   "cell_type": "markdown",
   "id": "65b14f9e",
   "metadata": {
    "slideshow": {
     "slide_type": "notes"
    }
   },
   "source": [
    "The signals we process in discrete time systems are *sequences* of values $x[n]$ where $n$ is an index.\n",
    "\n",
    "A sequence can be obtained in real-time, e.g. as the output of a ADC, or can be stored in digital memory; processed and re-stored; or processed and output in real-time, for example in digital music."
   ]
  },
  {
   "cell_type": "markdown",
   "id": "49e3f05e",
   "metadata": {
    "slideshow": {
     "slide_type": "subslide"
    }
   },
   "source": [
    "### Nature of the systems\n",
    "\n",
    "* The input to a discrete time system is a squence of values $x[n]$\n",
    "* The output is also a sequence $y[n]$\n",
    "* The block represents the operations that convert $x[n]$ into $y[n]$. \n",
    "* This processing takes the form of a *difference equation* \n",
    "* This is analogous to the representation of continuous-time operations by differential equations."
   ]
  },
  {
   "cell_type": "markdown",
   "id": "868320d6",
   "metadata": {
    "slideshow": {
     "slide_type": "subslide"
    }
   },
   "source": [
    "### Transfer function model of a DT system\n",
    "\n",
    "* In CT systems we use the Laplace transform to simplify the analysis of the *differential equations*\n",
    "* In DT systems the z-Transform allows us to simplify the analysis of the *difference equations*\n",
    "* In CT systems application of the Laplace transform allows us to represent systems as transfer functions and solve convolution problems by multiplication\n",
    "* The z-transform provides [analogous](https://www.google.co.uk/search?q=define:analogous) tools for the analysis of DT systems."
   ]
  },
  {
   "cell_type": "markdown",
   "id": "2d8a9534",
   "metadata": {
    "slideshow": {
     "slide_type": "slide"
    }
   },
   "source": [
    "## The Z-Transform\n",
    "\n",
    "$$\\mathcal{Z}\\left\\{f[n]\\right\\} = F(z) = \\sum_{n=0}^{\\infty} f[n]z^{-n}$$"
   ]
  },
  {
   "cell_type": "markdown",
   "id": "f16b0cfe",
   "metadata": {
    "slideshow": {
     "slide_type": "fragment"
    }
   },
   "source": [
    "$$\\mathcal{Z}^{ - 1}\\left\\{ {F(z)} \\right\\} = f[n] = \\frac{1}{2\\pi j}\\oint\\limits_{} {F(z){z^{k - 1}}\\,dz}$$"
   ]
  },
  {
   "cell_type": "markdown",
   "id": "34c9a05f",
   "metadata": {
    "slideshow": {
     "slide_type": "subslide"
    }
   },
   "source": [
    "### Sampling and the Z-Transform\n",
    "\n",
    "In the last lecture we showed that sampling could be represented as the multiplication of a CT signal by a periodic train of impulses:\n",
    "\n",
    "$$x_s(t) = x(t)\\sum_{n=0}^{\\infty}\\delta(t-nT_s)$$"
   ]
  },
  {
   "cell_type": "markdown",
   "id": "4aa77dd9",
   "metadata": {
    "slideshow": {
     "slide_type": "subslide"
    }
   },
   "source": [
    "By the sampling property of $\\delta(t)$\n",
    "\n",
    "$$x_s(t) = \\sum_{n=0}^{\\infty}x(nT_s)\\delta(t-nT_s)$$"
   ]
  },
  {
   "cell_type": "markdown",
   "id": "3d599b42",
   "metadata": {
    "slideshow": {
     "slide_type": "subslide"
    }
   },
   "source": [
    "Using the Laplace transform pairs $\\delta(t) \\Leftrightarrow 1$ and $\\delta(t-T) \\Leftrightarrow e^{-sT}$ we obtain:"
   ]
  },
  {
   "cell_type": "markdown",
   "id": "37fde002",
   "metadata": {
    "slideshow": {
     "slide_type": "subslide"
    }
   },
   "source": [
    "$$X_s(s) = \\mathcal{L}\\left\\{\\sum_{n=0}^{\\infty}x(nT_s)\\delta(t-nT_s)\\right\\} = \\sum_{n=0}^{\\infty}x(nT_s)e^{-nsT_s}$$"
   ]
  },
  {
   "cell_type": "markdown",
   "id": "6cfe4ddf",
   "metadata": {
    "slideshow": {
     "slide_type": "fragment"
    }
   },
   "source": [
    "By substitution of $z = e^{sT_s}$ and representing samples $x(nT_s)$ as sequence $x[n]$:\n",
    "\n",
    "$$X(z) = \\sum_{n=0}^{\\infty}x[n]z^{-n}$$"
   ]
  },
  {
   "cell_type": "markdown",
   "id": "7efd9a3a",
   "metadata": {
    "slideshow": {
     "slide_type": "subslide"
    }
   },
   "source": [
    "## Properties of the z-Transform\n",
    "\n",
    "\n",
    "| &nbsp; | Property | Discrete Time Domain | $\\displaystyle{\\mathcal{Z}}$ Transform |\n",
    "|---|---------------|----------------------|----------------------------------------|\n",
    "| 1 | Linearity | $\\displaystyle{af_1[n]+bf_2[n]+\\cdots}$ | $\\displaystyle{aF_1(z)+bF_2(z)+\\cdots}$ |\n",
    "| 2 | Shift of $\\displaystyle{x[n]u_0[n]}$ | $\\displaystyle{f[n-m]u_0[n-m]}$ | $\\displaystyle{z^{-m}F(z)}$ |\n",
    "| 3 | Left shift | $\\displaystyle{f[n-m]}$ | $\\displaystyle{z^{-m}F(z)+\\sum_{n=0}^{m-1}f[n-m]z^{-n}}$ |\n",
    "| 4 | Right shift | $\\displaystyle{f[n+m]}$ | $\\displaystyle{z^{m}F(z)+\\sum_{n=-m}^{-1}f[n+m]z^{-n}}$ |\n",
    "| 5 | Multiplication by $\\displaystyle{a^n}$ | $\\displaystyle{a^nf[n]}$ | $\\displaystyle{F\\left(\\frac{z}{a}\\right)}$ |\n",
    "| 6 | Multiplication by $\\displaystyle{e^{-nsT_s}}$ | $\\displaystyle{e^{-nsT_s}f[n]}$ | $\\displaystyle{F\\left(e^{sT_s}z\\right)}$ |\n",
    "| 7 | Multiplication by $\\displaystyle{n}$ | $\\displaystyle{nf[n]}$ | $\\displaystyle{-z\\frac{d}{dz}F(z)}$ |\n",
    "| 8 | Multiplication by $\\displaystyle{n^2}$ | $\\displaystyle{n^2f[n]}$ | $\\displaystyle{-z\\frac{d}{dz}F(z)+z^2\\frac{d^2}{dz^2}F(z)}$ |\n",
    "| 9 | Summation in time | $\\displaystyle{\\sum_{m=0}^{n}f[m]}$ | $\\displaystyle{\\frac{z}{z-1}F(z)}$ |\n",
    "| 10 | Time convolution | $\\displaystyle{f_1[n]*f_2[n]}$ | $\\displaystyle{F_1(z)F_2(z)}$ |\n",
    "| 11 | Frequency convolution | $\\displaystyle{f_1[n]f_2[n]}$ | $\\displaystyle{\\frac{1}{j2\\pi }\\oint {x{F_1}(v){F_2}\\left( {\\frac{z}{v}} \\right)} {v^{ - 1}}dv}$ |\n",
    "| 12 | Initial value theorem | $\\displaystyle{f[0]=\\lim_{z\\to\\infty}F(z)}$ | |\n",
    "| 13 | Final value theorem| $\\displaystyle{\\lim_{n\\to\\infty}f[n]=\\lim_{z\\to 1}(z-1)F(z)}$ | |\n",
    "\n",
    "\n",
    "\n",
    "\n",
    "\n",
    "For proofs refer to Section 9.2 of {cite}`karris`."
   ]
  },
  {
   "cell_type": "markdown",
   "id": "c5a70150",
   "metadata": {
    "slideshow": {
     "slide_type": "slide"
    }
   },
   "source": [
    "## Some Selected Common z-Transforms\n",
    "\n",
    "### The Geometric Sequence"
   ]
  },
  {
   "cell_type": "markdown",
   "id": "42b0558f",
   "metadata": {
    "slideshow": {
     "slide_type": "fragment"
    }
   },
   "source": [
    "$$f[n] = \\left\\{ {\\begin{array}{*{20}{c}}\n",
    "0&{n =  - 1, - 2, - 3, \\ldots }\\\\\n",
    "a^n&{n = 0,1,2,3, \\ldots }\n",
    "\\end{array}} \\right.$$"
   ]
  },
  {
   "cell_type": "markdown",
   "id": "cdc74993",
   "metadata": {
    "slideshow": {
     "slide_type": "fragment"
    }
   },
   "source": [
    "$$F(z) = \\sum_{n=0}^{\\infty}f[n]z^{-n} = \\sum_{n=0}^{\\infty}a^n z^{-n} = \\sum_{n=0}^{\\infty}\\left(az^{-1}\\right)^n$$"
   ]
  },
  {
   "cell_type": "markdown",
   "id": "369a68bf",
   "metadata": {
    "slideshow": {
     "slide_type": "fragment"
    }
   },
   "source": [
    "After some analysis<sup>1</sup>, this can be shown to have a *closed-form* expression<sup>2</sup>\n",
    "\n",
    "$$F(z) = \\frac{1}{1-az^{-1}}=\\frac{z}{z -a}$$"
   ]
  },
  {
   "cell_type": "markdown",
   "id": "c1972fd2",
   "metadata": {
    "slideshow": {
     "slide_type": "notes"
    }
   },
   "source": [
    "**Notes**\n",
    "\n",
    "1. See Karris pp 9-12&mdash;9-13{cite}`karris` for the details.\n",
    "\n",
    "2. This function converges only if \n",
    "\n",
    "   $\\displaystyle{|z| < |a|}$ \n",
    "   \n",
    "   and the region of convergence is outside the circle centred at $z=0$ with radius \n",
    "   \n",
    "   $\\displaystyle{r=|a|}$."
   ]
  },
  {
   "cell_type": "markdown",
   "id": "8de6b230",
   "metadata": {
    "slideshow": {
     "slide_type": "subslide"
    }
   },
   "source": [
    "### Region of convergence\n",
    "\n",
    "![Region of convergence](./pictures/roc.png)"
   ]
  },
  {
   "cell_type": "markdown",
   "id": "356dd43b",
   "metadata": {
    "slideshow": {
     "slide_type": "subslide"
    }
   },
   "source": [
    "### The Delta Sequence"
   ]
  },
  {
   "cell_type": "markdown",
   "id": "d831396a",
   "metadata": {
    "slideshow": {
     "slide_type": "fragment"
    }
   },
   "source": [
    "$$\\delta [n] = \\left\\{ {\\begin{array}{*{20}{c}}\n",
    "1&{n = 0}\\\\\n",
    "0&\\mathrm{otherwise}\n",
    "\\end{array}} \\right.$$"
   ]
  },
  {
   "cell_type": "markdown",
   "id": "812fe433",
   "metadata": {
    "slideshow": {
     "slide_type": "fragment"
    }
   },
   "source": [
    "$$\\mathcal{Z}\\left\\{\\delta [n]\\right\\} = \\Delta(z) = \\sum_{n=0}^{\\infty}\\delta[n]z^{-n} = 1 + \\sum_{n=1}^{\\infty}0z^{-n} =1$$"
   ]
  },
  {
   "cell_type": "markdown",
   "id": "688f71c7",
   "metadata": {
    "slideshow": {
     "slide_type": "fragment"
    }
   },
   "source": [
    "$$\\delta [n] \\Leftrightarrow 1$$"
   ]
  },
  {
   "cell_type": "markdown",
   "id": "ccf15a8c",
   "metadata": {
    "slideshow": {
     "slide_type": "subslide"
    }
   },
   "source": [
    "### The Unit Step\n",
    "\n",
    "$${u_0}[n] = {\\rm{ }}\\left\\{ {\\begin{array}{*{20}{c}}\n",
    "0&{n < 0}\\\\\n",
    "1&{n \\ge 0}\n",
    "\\end{array}} \\right.$$\n",
    "\n",
    "![Unit step sequence](./pictures/unitstep.png)"
   ]
  },
  {
   "cell_type": "markdown",
   "id": "29b414cc",
   "metadata": {
    "slideshow": {
     "slide_type": "subslide"
    }
   },
   "source": [
    "### Z-Transform of Unit Step"
   ]
  },
  {
   "cell_type": "markdown",
   "id": "a69230d3",
   "metadata": {
    "slideshow": {
     "slide_type": "fragment"
    }
   },
   "source": [
    "$$\\mathcal{Z}\\left\\{u_0 [n]\\right\\} U_0(z) = \\sum_{n=0}^{\\infty}u_0[n]z^{-n} =\\sum_{n=0}^{\\infty}z^{-n}$$"
   ]
  },
  {
   "cell_type": "markdown",
   "id": "090a6add",
   "metadata": {
    "slideshow": {
     "slide_type": "fragment"
    }
   },
   "source": [
    "This is a special case of the geometric sequence with $a = 1$ so\n",
    "\n",
    "$$U_0(z) = \\frac{1}{1-z^{-1}} = \\frac{z}{z - 1}$$"
   ]
  },
  {
   "cell_type": "markdown",
   "id": "d9a6ed8e",
   "metadata": {
    "slideshow": {
     "slide_type": "fragment"
    }
   },
   "source": [
    "Region of convergence is \n",
    "\n",
    "$$|z| > 1$$"
   ]
  },
  {
   "cell_type": "markdown",
   "id": "276a220a",
   "metadata": {
    "slideshow": {
     "slide_type": "subslide"
    }
   },
   "source": [
    "### Exponential Decay Sequence\n",
    "\n",
    "$$f[n] = e^{-naT_s}{u_0}[n]$$"
   ]
  },
  {
   "cell_type": "markdown",
   "id": "7e3347e3",
   "metadata": {
    "slideshow": {
     "slide_type": "fragment"
    }
   },
   "source": [
    "$$F(z) = \\sum_{n=0}^{\\infty}e^{-nasT_s}z^{-n} =1+e^{-aT_s}z^{-1}+e^{-2aT_s}z^{-2}+e^{-a3T_s}z^{-3}+\\cdots$$"
   ]
  },
  {
   "cell_type": "markdown",
   "id": "d4917d51",
   "metadata": {
    "slideshow": {
     "slide_type": "fragment"
    }
   },
   "source": [
    "This is a geometric sequence with $a = e^{-aT_s}$, so\n",
    "\n",
    "$$\\mathcal{Z}\\left\\{e^{-naT_s}{u_0}[n]\\right\\} = \\frac{1}{1-e^{-aT_s}z^{-1}} = \\frac{z}{z-e^{-aT_s}}$$"
   ]
  },
  {
   "cell_type": "markdown",
   "id": "430e2b27",
   "metadata": {
    "slideshow": {
     "slide_type": "fragment"
    }
   },
   "source": [
    "Region of convergence is $$|e^{-aT_s}z^{-1}| < 1$$"
   ]
  },
  {
   "cell_type": "markdown",
   "id": "9f614fd3",
   "metadata": {
    "slideshow": {
     "slide_type": "subslide"
    }
   },
   "source": [
    "### Ramp Function\n",
    "\n",
    "$$f[n] = nu_0[n]$$"
   ]
  },
  {
   "cell_type": "markdown",
   "id": "8de10cd4",
   "metadata": {
    "slideshow": {
     "slide_type": "fragment"
    }
   },
   "source": [
    "$$\\mathcal{Z}\\left\\{nu_0[n]\\right\\}=\\sum_{n=0}^{\\infty} nz^{-n} = 0 + z^{-1}+2z^{-2}+3z^{-3}+\\cdots$$"
   ]
  },
  {
   "cell_type": "markdown",
   "id": "a8c06163",
   "metadata": {
    "slideshow": {
     "slide_type": "fragment"
    }
   },
   "source": [
    "We recognize this as a signal $u_0[n]$ multiplied by $n$ for which we have the property \n",
    "$$nf[n] \\Leftrightarrow -z\\frac{d}{dz}F(z)$$"
   ]
  },
  {
   "cell_type": "markdown",
   "id": "e4b14a6b",
   "metadata": {
    "slideshow": {
     "slide_type": "fragment"
    }
   },
   "source": [
    "After applying the property and some manipulation, we arrive at:\n",
    "\n",
    "$$nu_0[n] \\Leftrightarrow \\frac{z}{(z-1)^2}$$"
   ]
  },
  {
   "cell_type": "markdown",
   "id": "c496a232",
   "metadata": {
    "slideshow": {
     "slide_type": "subslide"
    }
   },
   "source": [
    "### z-Transform Tables\n",
    "\n",
    "As usual, we can rely on this and similar analysis to have been tabulated for us and in practice we can rely on tables of transform pairs, such as this one.\n",
    "\n",
    "| &nbsp; | f[n]                    | F(z).              | Region of Convergence |\n",
    "|--------|----------------------------|--------------------|-------------------|\n",
    "| 1.     |    $\\displaystyle{\\delta[n]}$ | $\\displaystyle{1}$ |\n",
    "| 2 | $\\displaystyle{\\delta[n-m]}$ | $\\displaystyle{z^{-m}}$ |\n",
    "| 3 | $\\displaystyle{a^nu_0[n]}$ | $\\displaystyle{\\frac{z}{z-a}}$ | $\\mid z \\mid > a$ |\n",
    "| 4 | $\\displaystyle{u_0[n]}$ | $\\displaystyle{\\frac{z}{z-1}}$ | $\\mid z \\mid > 1$ |\n",
    "| 5 | $\\displaystyle{(e^{-anT_s})u_0[n]}$ | $\\displaystyle{\\frac{z}{z-e^{-aT_s}}}$ | $\\displaystyle{\\mid e^{-aT_s}z^{-1} \\mid < 1}$ |\n",
    "| 6 | $\\displaystyle{(\\cos naT_s)u_0[n]}$ | $\\displaystyle{\\frac{z^2 - z\\cos aT_s}{z^2 -2z\\cos aT_s + 1}}$ | ${ \\mid z \\mid> 1}$ |\n",
    "| 7 | $\\displaystyle{(\\sin naT_s)u_0[n]}$ | $\\displaystyle{\\frac{z\\sin aT_s}{z^2 -2z\\cos aT_s + 1}}$ | ${\\mid z \\mid > 1}$ |\n",
    "| 8 | $\\displaystyle{(a^n\\cos naT_s)u_0[n]}$ | $\\displaystyle{\\frac{z^2 - az\\cos aT_s}{z^2 -2az\\cos aT_s + a^2}}$ | ${\\mid z \\mid > 1}$ |\n",
    "| 9 | $\\displaystyle{(a^n\\sin naT_s)u_0[n]}$ | $\\displaystyle{\\frac{az\\sin aT_s}{z^2 -2az\\cos aT_s + a^2}}$ | ${\\mid z \\mid > 1}$ |\n",
    "| 10 | $\\displaystyle{u_0[n]-u_0[n-m]}$ | $\\displaystyle{\\frac{z^m-1}{z^{m-1}(z-1)}}$ | |\n",
    "| 11 | $\\displaystyle{nu_0[n]}$ | $\\displaystyle{\\frac{z}{(z-1)^2}}$ | |\n",
    "| 12 | $\\displaystyle{n^2u_0[n]}$ | $\\displaystyle{\\frac{z(z+1)}{(z-1)^3}}$ | |\n",
    "| 13 | $\\displaystyle{[n+1]u_0[n]}$ | $\\displaystyle{\\frac{z^2}{(z-1)^2}}$ | |\n",
    "| 14 | $\\displaystyle{a^n n u_0[n]}$ | $\\displaystyle{\\frac{az}{(z-a)^2}}$ | |\n",
    "| 15 | $\\displaystyle{a^n n^2 u_0[n]}$ | $\\displaystyle{\\frac{az(z+a)}{(z-a)^3}}$ | |\n",
    "| 16 | $\\displaystyle{a^n n[n+1] u_0[n]}$ | $\\displaystyle{\\frac{2az^2}{(z-a)^3}}$ | |"
   ]
  },
  {
   "cell_type": "markdown",
   "id": "e2ae30e7",
   "metadata": {
    "slideshow": {
     "slide_type": "slide"
    }
   },
   "source": [
    "## Relationship Between the Laplace and Z-Transform"
   ]
  },
  {
   "cell_type": "markdown",
   "id": "99edbda9",
   "metadata": {
    "slideshow": {
     "slide_type": "fragment"
    }
   },
   "source": [
    "Given that we can represent a sampled signal in the complex frequency domain as the infinite sum of each sequence value delayed by an integer multiple of the sampling time:\n",
    "\n",
    "$$F(s) = \\sum_{n=0}^{\\infty}f[n]e^{-nsT_s}$$"
   ]
  },
  {
   "cell_type": "markdown",
   "id": "c3b74b14",
   "metadata": {
    "slideshow": {
     "slide_type": "fragment"
    }
   },
   "source": [
    "And by definition, the z-transform of such a sequence is:\n",
    "\n",
    "$$F(z) = \\sum_{n=0}^{\\infty}f[n]z^{-n}$$"
   ]
  },
  {
   "cell_type": "markdown",
   "id": "5bdf73c7",
   "metadata": {
    "slideshow": {
     "slide_type": "subslide"
    }
   },
   "source": [
    "It follows that\n",
    "\n",
    "$$z = e^{sT_s}$$"
   ]
  },
  {
   "cell_type": "markdown",
   "id": "e42e46a3",
   "metadata": {
    "slideshow": {
     "slide_type": "fragment"
    }
   },
   "source": [
    "And\n",
    "\n",
    "$$s = \\frac{1}{T_s}\\ln z$$"
   ]
  },
  {
   "cell_type": "markdown",
   "id": "297c37b1",
   "metadata": {
    "slideshow": {
     "slide_type": "subslide"
    }
   },
   "source": [
    "### Mapping of s to z\n",
    "\n",
    "Since $s$ and $z$ are both complex variables, $z=e^{sT_s}$ is a mapping from the $s$-domain to the $z$-domain and $z = \\ln z/T_s$ is a mapping from the $z$ to $s$-domain."
   ]
  },
  {
   "cell_type": "markdown",
   "id": "2cecfd1b",
   "metadata": {
    "slideshow": {
     "slide_type": "fragment"
    }
   },
   "source": [
    "![Mapping of s to z](./pictures/mapping-s-to-z.png)"
   ]
  },
  {
   "cell_type": "markdown",
   "id": "e71dd4d0",
   "metadata": {
    "slideshow": {
     "slide_type": "subslide"
    }
   },
   "source": [
    "Now, since\n",
    "\n",
    "$$s = \\sigma + j\\omega$$"
   ]
  },
  {
   "cell_type": "markdown",
   "id": "00f93275",
   "metadata": {
    "slideshow": {
     "slide_type": "fragment"
    }
   },
   "source": [
    "$$z = e^{\\sigma T_s + j\\omega T_s} = e^{\\sigma T_s}e^{j\\omega T_s} = |z|e^{j\\theta}$$"
   ]
  },
  {
   "cell_type": "markdown",
   "id": "8f00a5fc",
   "metadata": {
    "slideshow": {
     "slide_type": "fragment"
    }
   },
   "source": [
    "where \n",
    "\n",
    "$$|z| = e^{\\sigma Ts}$$\n",
    "\n",
    "and \n",
    "\n",
    "$$\\theta = \\omega T_s.$$"
   ]
  },
  {
   "cell_type": "markdown",
   "id": "d7fce873",
   "metadata": {
    "slideshow": {
     "slide_type": "subslide"
    }
   },
   "source": [
    "### Introduction of sampling frequency\n",
    "\n",
    "Now, since $T_s = 1/f_s$ then $\\omega_s = 2\\pi/f_s$ or $f_s = \\omega_s/(2\\pi)$ and $T_s = 2\\pi/\\omega_s$"
   ]
  },
  {
   "cell_type": "markdown",
   "id": "267d82a6",
   "metadata": {
    "slideshow": {
     "slide_type": "fragment"
    }
   },
   "source": [
    "We let\n",
    "\n",
    "$$\\theta = \\omega T_s = \\omega\\frac{2\\pi}{\\omega_s} = 2\\pi\\frac{\\omega}{\\omega_s}$$"
   ]
  },
  {
   "cell_type": "markdown",
   "id": "b86ad7b9",
   "metadata": {
    "slideshow": {
     "slide_type": "fragment"
    }
   },
   "source": [
    "Hence by substitution:\n",
    "\n",
    "$$z = e^{\\sigma t}e^{j2\\pi\\omega/\\omega_s}$$"
   ]
  },
  {
   "cell_type": "markdown",
   "id": "9d179bbc",
   "metadata": {
    "slideshow": {
     "slide_type": "subslide"
    }
   },
   "source": [
    "### Interpretation of the mapping s to z\n",
    "\n",
    "* The quantity $e^{j2\\pi\\omega/\\omega_s}$ defines a unit-circle in the $z$-plane centred at the origin. \n",
    "\n",
    "* And of course the term $\\sigma$ represents the (stability) boundary between the left- and right-half planes of the $s$-plane.\n",
    "\n",
    "* What are the consequences of this?"
   ]
  },
  {
   "cell_type": "markdown",
   "id": "68baa58f",
   "metadata": {
    "slideshow": {
     "slide_type": "subslide"
    }
   },
   "source": [
    "#### Case I: $\\sigma < 0$\n",
    "\n",
    "* When $\\sigma < 0$ we see that from \n",
    "\n",
    "  $$|z| = e^{\\sigma T_s}$$ \n",
    "  \n",
    "  that \n",
    "  \n",
    "  $$|z| < 1$$\n",
    "\n",
    "* The left-half plane of the $s$-domain maps into the unit circle in the $z$-plane.\n",
    "\n",
    "* Different negative values of $\\sigma$ map onto concentric circles with radius less than unity."
   ]
  },
  {
   "cell_type": "markdown",
   "id": "b50af45a",
   "metadata": {
    "slideshow": {
     "slide_type": "subslide"
    }
   },
   "source": [
    "#### Case II: $\\sigma > 0$"
   ]
  },
  {
   "cell_type": "markdown",
   "id": "4e23211f",
   "metadata": {
    "slideshow": {
     "slide_type": "fragment"
    }
   },
   "source": [
    "* When $\\sigma > 0$ we see that from \n",
    "\n",
    "  $$|z| = e^{\\sigma T_s}$$\n",
    "  \n",
    "  that \n",
    "  \n",
    "  $$|z| > 1$$\n",
    "\n",
    "\n",
    "* The right-half plane of the $s$-domain maps outside the unit circle in the $z$-plane.\n",
    "\n",
    "* Different positive values of $\\sigma$ map onto concentric circles with radius greater than unity."
   ]
  },
  {
   "cell_type": "markdown",
   "id": "fbb728b9",
   "metadata": {
    "slideshow": {
     "slide_type": "subslide"
    }
   },
   "source": [
    "#### Case III: $\\sigma = 0$"
   ]
  },
  {
   "cell_type": "markdown",
   "id": "58808b08",
   "metadata": {
    "slideshow": {
     "slide_type": "fragment"
    }
   },
   "source": [
    "* When $\\sigma = 0$, \n",
    " \n",
    "   $$|z| = 1$$\n",
    "  \n",
    "  and \n",
    "  \n",
    "  $$\\theta = \\frac{2\\pi\\omega}{\\omega_s}$$\n",
    "  \n",
    "* All values of $\\omega$ lie on the circumference of the unit circle."
   ]
  },
  {
   "cell_type": "markdown",
   "id": "7ab2c96d",
   "metadata": {
    "slideshow": {
     "slide_type": "subslide"
    }
   },
   "source": [
    "### Stability Region - s-Plane\n",
    "\n",
    "![Stability Region - s-Plane](./pictures/s-plane.png)"
   ]
  },
  {
   "cell_type": "markdown",
   "id": "b85dc0d9",
   "metadata": {
    "slideshow": {
     "slide_type": "subslide"
    }
   },
   "source": [
    "### Stability Region - z-Plane\n",
    "\n",
    "![Stability Region - z-Plane](./pictures/z-plane.png)"
   ]
  },
  {
   "cell_type": "markdown",
   "id": "324f52ac",
   "metadata": {
    "slideshow": {
     "slide_type": "subslide"
    }
   },
   "source": [
    "### Frequencies in the z-Domain\n",
    "\n",
    "* As a consequence of the result for **Case III** above, we can explore how frequencies (that is is values of $s=\\pm j\\omega$) map onto the $z$-plane.\n",
    "\n",
    "* We already know that these frequencies will map onto the unit circle and by $\\theta = 2\\pi\\omega/\\omega_s$ the angles are related to the sampling frequency.\n",
    "\n",
    "* Let's see how"
   ]
  },
  {
   "cell_type": "markdown",
   "id": "fc104d69",
   "metadata": {
    "slideshow": {
     "slide_type": "subslide"
    }
   },
   "source": [
    "### Mapping of multiples of sampling frequency"
   ]
  },
  {
   "cell_type": "markdown",
   "id": "5094555d",
   "metadata": {
    "slideshow": {
     "slide_type": "fragment"
    }
   },
   "source": [
    "| $\\omega$ [radians/sec] | $\\mid z\\mid $ | $\\theta$ [radians] |\n",
    "|------------------------|-------|--------------------|\n",
    "| 0 | 1 | 0 |\n",
    "| $\\omega_s/8$ | 1 | $\\pi/4$ |\n",
    "| $\\omega_s/4$ | 1 | $\\pi/2$ |\n",
    "| $3\\omega_s/8$ | 1 | $3\\pi/4$ |\n",
    "| $\\omega_s/2$ | 1 | $\\pi$ |\n",
    "| $5\\omega_s/8$ | 1 | $5\\pi/4$ |\n",
    "| $3\\omega_s/4$ | 1 | $3\\pi/2$ |\n",
    "| $7\\omega_s/8$ | 1 | $7\\pi/4$ |\n",
    "| $\\omega_s$ | 1 | $2\\pi$ |"
   ]
  },
  {
   "cell_type": "markdown",
   "id": "47fd0f88",
   "metadata": {
    "slideshow": {
     "slide_type": "subslide"
    }
   },
   "source": [
    "### Mapping of s-plane to z-plane\n",
    "\n",
    "![Mapping of s-plane to z-plane](./pictures/s-to-z-mapping.png)"
   ]
  },
  {
   "cell_type": "markdown",
   "id": "59568262",
   "metadata": {
    "slideshow": {
     "slide_type": "subslide"
    }
   },
   "source": [
    "### Mapping z-plane to s-plane\n",
    "\n",
    "There is no unique mapping of $z$ to $s$ since\n",
    "\n",
    "$$s = \\frac{1}{T_s} \\ln z$$\n",
    "\n",
    "but for a complex variable\n",
    "\n",
    "$$\\ln z = \\ln z \\pm j2n\\pi$$\n",
    "\n",
    "This is in agreement with the theoretical idea that in the frequency domain, sampling creates an infinite number of spectra, each of which is centred around $\\pm n\\omega_s$."
   ]
  },
  {
   "cell_type": "markdown",
   "id": "b8ef5a7e",
   "metadata": {
    "slideshow": {
     "slide_type": "subslide"
    }
   },
   "source": [
    "### Frequency aliasing\n",
    "\n",
    "* It's worth observing that any stable complex pole in the $s$-plane $s=-\\sigma + j\\omega$ will have complex conjugate pair $s = -\\sigma - j\\omega$.\n",
    "* Providing $\\omega < \\omega_s/2$ these poles will be mapped to the upper and lower half-plane of the $z$-plane respectively.\n",
    "* If $\\omega > \\omega_s/2$, an upper-half plane pole will be mapped to the lower-half plane and will have an effective frequency of $\\omega_s/2 - \\omega$.\n",
    "* Similarly, its conjugate pair will move into the upper-half plane. \n",
    "\n",
    "This is another way of looking at *aliasing*."
   ]
  },
  {
   "cell_type": "markdown",
   "id": "f63ef666",
   "metadata": {
    "slideshow": {
     "slide_type": "notes"
    }
   },
   "source": [
    "* Also, any poles with frequency $\\omega > \\omega_s$ will also be aliased back into into the unit circle."
   ]
  },
  {
   "cell_type": "markdown",
   "id": "e61defca",
   "metadata": {
    "slideshow": {
     "slide_type": "slide"
    }
   },
   "source": [
    "## Summary\n",
    "\n",
    "* Introduction\n",
    "* The Z-Transform\n",
    "* Properties of the Z-Transform\n",
    "* Some Selected Z-Transforms\n",
    "* Relationship Between Laplace and Z-Transform\n",
    "* Stability Regions\n",
    "\n",
    "*Next session*\n",
    "\n",
    "* The Inverse Z-Transform &ndash; an examples class"
   ]
  },
  {
   "cell_type": "markdown",
   "id": "4f37b033",
   "metadata": {
    "slideshow": {
     "slide_type": "slide"
    }
   },
   "source": [
    "## Homework"
   ]
  },
  {
   "cell_type": "markdown",
   "id": "ec10ffa4",
   "metadata": {
    "slideshow": {
     "slide_type": "fragment"
    }
   },
   "source": [
    "Problems 1 to 3 in **Section 9.10 Exercises** of {cite}`karris` explore the z-Transform"
   ]
  },
  {
   "cell_type": "markdown",
   "id": "0d2527d3",
   "metadata": {},
   "source": [
    "## References\n",
    "\n",
    "See [Bibliography](/zbib)."
   ]
  }
 ],
 "metadata": {
  "jupytext": {
   "formats": "ipynb,md:myst",
   "text_representation": {
    "extension": ".md",
    "format_name": "myst",
    "format_version": 0.13,
    "jupytext_version": "1.14.4"
   }
  },
  "kernelspec": {
   "display_name": "Python 3 (ipykernel)",
   "language": "python",
   "name": "python3"
  },
  "language_info": {
   "codemirror_mode": {
    "name": "ipython",
    "version": 3
   },
   "file_extension": ".py",
   "mimetype": "text/x-python",
   "name": "python",
   "nbconvert_exporter": "python",
   "pygments_lexer": "ipython3",
   "version": "3.9.13"
  },
  "source_map": [
   15,
   19,
   29,
   37,
   41,
   45,
   49,
   53,
   57,
   61,
   65,
   71,
   75,
   81,
   87,
   97,
   106,
   112,
   116,
   124,
   130,
   134,
   138,
   144,
   171,
   177,
   184,
   188,
   194,
   208,
   214,
   218,
   225,
   229,
   233,
   244,
   248,
   252,
   258,
   264,
   270,
   274,
   280,
   284,
   290,
   294,
   299,
   305,
   330,
   334,
   340,
   346,
   352,
   358,
   364,
   368,
   374,
   378,
   388,
   394,
   400,
   406,
   416,
   432,
   436,
   451,
   455,
   467,
   473,
   479,
   489,
   493,
   507,
   513,
   527,
   538,
   542,
   557,
   561,
   565
  ]
 },
 "nbformat": 4,
 "nbformat_minor": 5
}