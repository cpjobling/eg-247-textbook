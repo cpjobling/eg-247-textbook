{
 "cells": [
  {
   "cell_type": "markdown",
   "id": "a39c75d5",
   "metadata": {
    "slideshow": {
     "slide_type": "slide"
    }
   },
   "source": [
    "# Worksheet 16 \n",
    "\n",
    "## To accompany Chapter 6.3 The Inverse Z-Transform"
   ]
  },
  {
   "cell_type": "markdown",
   "id": "9fee5dba",
   "metadata": {
    "slideshow": {
     "slide_type": "notes"
    }
   },
   "source": [
    "## Colophon\n",
    "\n",
    "This worksheet can be downloaded as a [PDF file](https://cpjobling.github.io/eg-247-textbook/worksheets/worksheet16.pdf). We will step through this worksheet in class. \n",
    "\n",
    "An annotatable copy of the notes for this presentation will be distributed before the second class meeting as **Worksheet 16** in the **Week 9: Classroom Activities** section of the Canvas site. I will also distribute a copy to your personal **Worksheets** section of the **OneNote Class Notebook** so that you can add your own notes using OneNote. \n",
    "\n",
    "You are expected to have at least watched the video presentation of [Chapter 6.3](i_z_transform) of the [notes](https://cpjobling.github.io/eg-247-textbook) before coming to class. If you haven't watch it afterwards!\n",
    "\n",
    "After class, the lecture recording and the annotated version of the worksheets will be made available through Canvas."
   ]
  },
  {
   "cell_type": "markdown",
   "id": "7f18334e",
   "metadata": {
    "slideshow": {
     "slide_type": "slide"
    }
   },
   "source": [
    "## Agenda"
   ]
  },
  {
   "cell_type": "markdown",
   "id": "47723d07",
   "metadata": {
    "slideshow": {
     "slide_type": "fragment"
    }
   },
   "source": [
    "* Inverse Z-Transform"
   ]
  },
  {
   "cell_type": "markdown",
   "id": "e32e7323",
   "metadata": {
    "slideshow": {
     "slide_type": "fragment"
    }
   },
   "source": [
    "* Examples using PFE"
   ]
  },
  {
   "cell_type": "markdown",
   "id": "a4d1e8c4",
   "metadata": {
    "slideshow": {
     "slide_type": "fragment"
    }
   },
   "source": [
    "* Examples using Long Division"
   ]
  },
  {
   "cell_type": "markdown",
   "id": "302942a8",
   "metadata": {
    "slideshow": {
     "slide_type": "fragment"
    }
   },
   "source": [
    "* Analysis in MATLAB"
   ]
  },
  {
   "cell_type": "markdown",
   "id": "9e725513",
   "metadata": {
    "slideshow": {
     "slide_type": "slide"
    }
   },
   "source": [
    "## The Inverse Z-Transform\n",
    "\n",
    "The inverse Z-Transform enables us to extract a sequence $f[n]$ from $F(z)$. It can be found by any of the following methods:\n",
    "\n",
    "* Partial fraction expansion\n",
    "* The inversion integral\n",
    "* Long division of polynomials"
   ]
  },
  {
   "cell_type": "markdown",
   "id": "39bc92df",
   "metadata": {
    "slideshow": {
     "slide_type": "subslide"
    }
   },
   "source": [
    "### Partial fraction expansion\n",
    "\n",
    "We expand $F(z)$ into a summation of terms whose inverse is known. These terms have the form:\n",
    "\n",
    "$$k,\\;\\frac{r_1 z}{z - p_1},\\;\\frac{r_1 z}{(z - p_1)^2},\\;\\frac{r_3 z}{z - p_2},\\ldots$$\n",
    "\n",
    "where $k$ is a constant, and $r_i$ and $p_i$ represent the residues and poles respectively, and can be real or complex<sup>1</sup>."
   ]
  },
  {
   "cell_type": "markdown",
   "id": "30c5dcdf",
   "metadata": {
    "slideshow": {
     "slide_type": "notes"
    }
   },
   "source": [
    "**Notes**\n",
    "\n",
    "1. If complex, the poles and residues will be in complex conjugate pairs \n",
    "\n",
    "$$\\frac{r_{i} z}{z - p_i} + \\frac{r_{i}^* z}{z - p_i^*}$$"
   ]
  },
  {
   "cell_type": "markdown",
   "id": "8ea31f29",
   "metadata": {
    "slideshow": {
     "slide_type": "subslide"
    }
   },
   "source": [
    "### Step 1: Make Fractions Proper\n",
    "\n",
    "* Before we expand $F(z)$ into partial fraction expansions, we must first express it as a *proper* rational function.\n",
    "* This is done by expanding $F(z)/z$ instead of $F(z)$\n",
    "* That is we expand\n",
    "\n",
    "$$\\frac{F(z)}{z} = \\frac{k}{z} + \\frac{r_1}{z-p_1} + \\frac{r_2}{z-p_2} + \\cdots$$"
   ]
  },
  {
   "cell_type": "markdown",
   "id": "84ccadc5",
   "metadata": {
    "slideshow": {
     "slide_type": "subslide"
    }
   },
   "source": [
    "### Step 2: Find residues\n",
    "\n",
    "* Find residues from\n",
    "\n",
    "$$r_k = \\lim_{z\\to p_k}(z - p_k)\\frac{F(z)}{z} = (z - p_k)\\left.\\frac{F(z)}{z}\\right|_{z=p_k}$$"
   ]
  },
  {
   "cell_type": "markdown",
   "id": "96cfdcf2",
   "metadata": {
    "slideshow": {
     "slide_type": "subslide"
    }
   },
   "source": [
    "### Step 3: Map back to transform tables form\n",
    "\n",
    "* Rewrite $F(z)/z$:\n",
    "\n",
    "$$z\\frac{F(z)}{z} = F(z) = k + \\frac{r_1z}{s-p_1} + \\frac{r_2z}{s-p_2} + \\cdots$$"
   ]
  },
  {
   "cell_type": "markdown",
   "id": "b9b802d3",
   "metadata": {
    "slideshow": {
     "slide_type": "subslide"
    }
   },
   "source": [
    "### Example 1\n",
    "\n",
    "Karris Example 9.4: use the partial fraction expansion to compute the inverse z-transform of\n",
    "\n",
    "$$F(z) = \\frac{1}{(1 - 0.5z^{-1})(1 - 0.75z^{-1})(1 - z^{-1})}$$"
   ]
  },
  {
   "cell_type": "markdown",
   "id": "55f4d236",
   "metadata": {
    "slideshow": {
     "slide_type": "notes"
    }
   },
   "source": [
    "<pre style=\"border: 2px solid blue\">\n",
    "\n",
    "\n",
    "\n",
    "\n",
    "\n",
    "\n",
    "\n",
    "\n",
    "\n",
    "\n",
    "\n",
    "\n",
    "\n",
    "\n",
    "\n",
    "\n",
    "\n",
    "\n",
    "\n",
    "</pre>"
   ]
  },
  {
   "cell_type": "markdown",
   "id": "9726e370",
   "metadata": {
    "slideshow": {
     "slide_type": "subslide"
    }
   },
   "source": [
    "### MATLAB solution\n",
    "\n",
    "See [example1.mlx](https://cpjobling.github.io/eg-247-textbook/dt_systems/3/matlab/example1.mlx). (Also available as  [example1.m](https://cpjobling.github.io/eg-247-textbook/dt_systems/3/matlab/example1.m).)\n",
    "\n",
    "Uses MATLAB functions: \n",
    "\n",
    "* `collect` &ndash; expands a polynomial\n",
    "* `sym2poly` &ndash; converts a polynomial into a numeric polymial (vector of coefficients in descending order of exponents)\n",
    "* `residue` &ndash; calculates poles and zeros of a polynomial\n",
    "* `ztrans` &ndash; symbolic z-transform\n",
    "* `iztrans` &ndash; symbolic inverse ze-transform\n",
    "* `stem` &ndash; plots sequence as a \"lollipop\" diagram"
   ]
  },
  {
   "cell_type": "code",
   "execution_count": null,
   "id": "2d706e98",
   "metadata": {
    "slideshow": {
     "slide_type": "skip"
    }
   },
   "outputs": [],
   "source": [
    "clear all\n",
    "imatlab_export_fig('print-svg')  % Static svg figures.\n",
    "cd matlab\n",
    "format compact"
   ]
  },
  {
   "cell_type": "code",
   "execution_count": null,
   "id": "474f7e5d",
   "metadata": {
    "slideshow": {
     "slide_type": "fragment"
    }
   },
   "outputs": [],
   "source": [
    "syms z n"
   ]
  },
  {
   "cell_type": "markdown",
   "id": "5b63d346",
   "metadata": {
    "slideshow": {
     "slide_type": "subslide"
    }
   },
   "source": [
    "The denoninator of $F(z)$"
   ]
  },
  {
   "cell_type": "code",
   "execution_count": null,
   "id": "51fab3a6",
   "metadata": {
    "slideshow": {
     "slide_type": "fragment"
    }
   },
   "outputs": [],
   "source": [
    "Dz = (z - 0.5)*(z - 0.75)*(z - 1);"
   ]
  },
  {
   "cell_type": "markdown",
   "id": "3b7caedd",
   "metadata": {
    "slideshow": {
     "slide_type": "subslide"
    }
   },
   "source": [
    "Multiply the three factors of Dz to obtain a polynomial"
   ]
  },
  {
   "cell_type": "code",
   "execution_count": null,
   "id": "f38cbe2f",
   "metadata": {
    "slideshow": {
     "slide_type": "fragment"
    }
   },
   "outputs": [],
   "source": [
    "Dz_poly = collect(Dz)"
   ]
  },
  {
   "cell_type": "markdown",
   "id": "06ee04ee",
   "metadata": {
    "slideshow": {
     "slide_type": "subslide"
    }
   },
   "source": [
    "### Make into a rational polynomial"
   ]
  },
  {
   "cell_type": "markdown",
   "id": "5ed05a9c",
   "metadata": {
    "slideshow": {
     "slide_type": "fragment"
    }
   },
   "source": [
    "$z^2$"
   ]
  },
  {
   "cell_type": "code",
   "execution_count": null,
   "id": "7aa004c9",
   "metadata": {
    "slideshow": {
     "slide_type": "fragment"
    }
   },
   "outputs": [],
   "source": [
    "num = [0, 1, 0, 0];"
   ]
  },
  {
   "cell_type": "markdown",
   "id": "fbbc9c0a",
   "metadata": {
    "slideshow": {
     "slide_type": "fragment"
    }
   },
   "source": [
    "$z^3 - 9/4 z^2 - 13/8 z - 3/8$"
   ]
  },
  {
   "cell_type": "code",
   "execution_count": null,
   "id": "f490b9b9",
   "metadata": {
    "slideshow": {
     "slide_type": "fragment"
    }
   },
   "outputs": [],
   "source": [
    "den = sym2poly(Dz_poly)"
   ]
  },
  {
   "cell_type": "markdown",
   "id": "f94bd46e",
   "metadata": {
    "slideshow": {
     "slide_type": "subslide"
    }
   },
   "source": [
    "### Compute residues and poles"
   ]
  },
  {
   "cell_type": "code",
   "execution_count": null,
   "id": "64456c4a",
   "metadata": {
    "slideshow": {
     "slide_type": "fragment"
    }
   },
   "outputs": [],
   "source": [
    "[r,p,k] = residue(num,den);"
   ]
  },
  {
   "cell_type": "markdown",
   "id": "a6870803",
   "metadata": {
    "slideshow": {
     "slide_type": "subslide"
    }
   },
   "source": [
    "### Print results \n",
    "\n",
    "- `fprintf` works like the c-language function"
   ]
  },
  {
   "cell_type": "code",
   "execution_count": null,
   "id": "63c55a40",
   "metadata": {
    "slideshow": {
     "slide_type": "fragment"
    }
   },
   "outputs": [],
   "source": [
    "fprintf('\\n')\n",
    "fprintf('r1 = %4.2f\\t', r(1)); fprintf('p1 = %4.2f\\n', p(1));...\n",
    "fprintf('r2 = %4.2f\\t', r(2)); fprintf('p2 = %4.2f\\n', p(2));...\n",
    "fprintf('r3 = %4.2f\\t', r(3)); fprintf('p3 = %4.2f\\n', p(3));"
   ]
  },
  {
   "cell_type": "markdown",
   "id": "2de7d8df",
   "metadata": {
    "slideshow": {
     "slide_type": "subslide"
    }
   },
   "source": [
    "### Symbolic proof\n",
    "\n",
    "$$f[n] = 2\\left(\\frac{1}{2}\\right)^n - 9\\left(\\frac{3}{4}\\right)^n + 8$$"
   ]
  },
  {
   "cell_type": "code",
   "execution_count": null,
   "id": "be8e556c",
   "metadata": {
    "slideshow": {
     "slide_type": "fragment"
    }
   },
   "outputs": [],
   "source": [
    "% z-transform\n",
    "fn = 2*(1/2)^n-9*(3/4)^n + 8;\n",
    "Fz = ztrans(fn)"
   ]
  },
  {
   "cell_type": "code",
   "execution_count": null,
   "id": "f8b68a07",
   "metadata": {
    "slideshow": {
     "slide_type": "fragment"
    }
   },
   "outputs": [],
   "source": [
    "% inverse z-transform\n",
    "iztrans(Fz)"
   ]
  },
  {
   "cell_type": "markdown",
   "id": "b7c82149",
   "metadata": {
    "slideshow": {
     "slide_type": "subslide"
    }
   },
   "source": [
    "### Sequence"
   ]
  },
  {
   "cell_type": "code",
   "execution_count": null,
   "id": "e3d9fee4",
   "metadata": {
    "slideshow": {
     "slide_type": "fragment"
    }
   },
   "outputs": [],
   "source": [
    "n = 0:15;\n",
    "sequence = subs(fn,n);\n",
    "stem(n,sequence)\n",
    "title('Discrete Time Sequence f[n] = 2*(1/2)^n-9*(3/4)^n + 8');\n",
    "ylabel('f[n]')\n",
    "xlabel('Sequence number n')"
   ]
  },
  {
   "cell_type": "markdown",
   "id": "1441f919",
   "metadata": {
    "slideshow": {
     "slide_type": "subslide"
    }
   },
   "source": [
    "### Example 2\n",
    "\n",
    "Karris example 9.5: use the partial fraction expansion method to to compute the inverse z-transform of\n",
    "\n",
    "$$F(z) = \\frac{12z}{(z+1)(z - 1)^2}$$"
   ]
  },
  {
   "cell_type": "markdown",
   "id": "dfed01cc",
   "metadata": {
    "slideshow": {
     "slide_type": "notes"
    }
   },
   "source": [
    "<pre style=\"border: 2px solid blue\">\n",
    "\n",
    "\n",
    "\n",
    "\n",
    "\n",
    "\n",
    "\n",
    "\n",
    "\n",
    "\n",
    "\n",
    "\n",
    "\n",
    "\n",
    "\n",
    "\n",
    "\n",
    "\n",
    "\n",
    "</pre>"
   ]
  },
  {
   "cell_type": "markdown",
   "id": "f9350fc1",
   "metadata": {
    "slideshow": {
     "slide_type": "subslide"
    }
   },
   "source": [
    "### MATLAB solution\n",
    "\n",
    "See [example2.mlx](https://cpjobling.github.io/eg-247-textbook/dt_systems/3/matlab/example2.mlx). (Also available as  [example2.m](https://cpjobling.github.io/eg-247-textbook/dt_systems/3/matlab/example2.m).)"
   ]
  },
  {
   "cell_type": "markdown",
   "id": "9feeb7a6",
   "metadata": {
    "slideshow": {
     "slide_type": "notes"
    }
   },
   "source": [
    "Uses additional MATLAB functions: \n",
    "\n",
    "* `dimpulse` &ndash; computes and plots a sequence $f[n]$ for any range of values of $n$"
   ]
  },
  {
   "cell_type": "code",
   "execution_count": null,
   "id": "94b36100",
   "metadata": {
    "slideshow": {
     "slide_type": "fragment"
    }
   },
   "outputs": [],
   "source": [
    "open example2"
   ]
  },
  {
   "cell_type": "markdown",
   "id": "44cae7ad",
   "metadata": {
    "slideshow": {
     "slide_type": "subslide"
    }
   },
   "source": [
    "### Example 3\n",
    "\n",
    "Karris example 9.6: use the partial fraction expansion method to to compute the inverse z-transform of\n",
    "\n",
    "$$F(z) = \\frac{z + 1}{(z-1)(z^2 + 2z + 2)}$$"
   ]
  },
  {
   "cell_type": "markdown",
   "id": "a352fb5f",
   "metadata": {
    "slideshow": {
     "slide_type": "notes"
    }
   },
   "source": [
    "<pre style=\"border: 2px solid blue\">\n",
    "\n",
    "\n",
    "\n",
    "\n",
    "\n",
    "\n",
    "\n",
    "\n",
    "\n",
    "\n",
    "\n",
    "\n",
    "\n",
    "\n",
    "\n",
    "\n",
    "\n",
    "\n",
    "\n",
    "</pre>"
   ]
  },
  {
   "cell_type": "markdown",
   "id": "ec48c406",
   "metadata": {
    "slideshow": {
     "slide_type": "subslide"
    }
   },
   "source": [
    "### MATLAB solution\n",
    "\n",
    "See [example3.mlx](https://cpjobling.github.io/eg-247-textbook/dt_systems/3/matlab/example3.mlx). (Also available as [example3.m](https://cpjobling.github.io/eg-247-textbook/dt_systems/3/matlab/example3.m).)"
   ]
  },
  {
   "cell_type": "code",
   "execution_count": null,
   "id": "11be808f",
   "metadata": {
    "slideshow": {
     "slide_type": "fragment"
    }
   },
   "outputs": [],
   "source": [
    "open example3"
   ]
  },
  {
   "cell_type": "markdown",
   "id": "6ddd2040",
   "metadata": {
    "slideshow": {
     "slide_type": "slide"
    }
   },
   "source": [
    "### Inverse Z-Transform by the Inversion Integral\n",
    "\n",
    "The inversion integral states that:\n",
    "\n",
    "$$f[n] = \\frac{1}{j2\\pi}\\oint_C {F(z){z^{n - 1}}\\,dz} $$\n",
    "\n",
    "where $C$ is a closed curve that encloses all poles of the integrant.\n",
    "\n",
    "This can (*apparently*) be solved by Cauchy's residue theorem!!\n",
    "\n",
    "Fortunately (:-), this is beyond the scope of this module!"
   ]
  },
  {
   "cell_type": "markdown",
   "id": "95f4d4ef",
   "metadata": {
    "slideshow": {
     "slide_type": "notes"
    }
   },
   "source": [
    "See Karris Section 9.6.2 (pp 9-29&mdash;9-33) if you want to find out more."
   ]
  },
  {
   "cell_type": "markdown",
   "id": "d9d06cf2",
   "metadata": {
    "slideshow": {
     "slide_type": "slide"
    }
   },
   "source": [
    "### Inverse Z-Transform by the Long Division\n",
    "\n",
    "To apply this method, $F(z)$ must be a rational polynomial function, and the numerator and denominator must be polynomials arranged in descending powers of $z$."
   ]
  },
  {
   "cell_type": "markdown",
   "id": "1cd460fd",
   "metadata": {
    "slideshow": {
     "slide_type": "subslide"
    }
   },
   "source": [
    "We will work through an example in class.\n",
    "\n",
    "[Skip next slide in Pre-Lecture]"
   ]
  },
  {
   "cell_type": "markdown",
   "id": "1c24a936",
   "metadata": {
    "slideshow": {
     "slide_type": "subslide"
    }
   },
   "source": [
    "### Example 4\n",
    "\n",
    "Karris example 9.9: use the long division method to determine $f[n]$ for $n = 0,\\,1,\\,\\mathrm{and}\\,2$, given that\n",
    "\n",
    "$$F(z) = \\frac{1 + z^{-1} + 2z^{-2} + 3z^{-3}}{(1 - 0.25z^{-1})(1 - 0.5z^{-1})(1 - 0.75z^{-1})}$$"
   ]
  },
  {
   "cell_type": "markdown",
   "id": "3f8eb012",
   "metadata": {
    "slideshow": {
     "slide_type": "notes"
    }
   },
   "source": [
    "<pre style=\"border: 2px solid blue\">\n",
    "\n",
    "\n",
    "\n",
    "\n",
    "\n",
    "\n",
    "\n",
    "\n",
    "\n",
    "\n",
    "\n",
    "\n",
    "\n",
    "\n",
    "\n",
    "\n",
    "\n",
    "\n",
    "\n",
    "</pre>"
   ]
  },
  {
   "cell_type": "markdown",
   "id": "7b62c178",
   "metadata": {
    "slideshow": {
     "slide_type": "subslide"
    }
   },
   "source": [
    "### MATLAB\n",
    "\n",
    "See [example4.mlx](https://cpjobling.github.io/eg-247-textbook/dt_systems/3/matlab/example4.mlx). (also available as [example4.m](https://cpjobling.github.io/eg-247-textbook/dt_systems/3/matlab/example4.m).)"
   ]
  },
  {
   "cell_type": "code",
   "execution_count": null,
   "id": "1c3c93c3",
   "metadata": {
    "slideshow": {
     "slide_type": "fragment"
    }
   },
   "outputs": [],
   "source": [
    "open example4"
   ]
  },
  {
   "cell_type": "markdown",
   "id": "27247747",
   "metadata": {
    "slideshow": {
     "slide_type": "slide"
    }
   },
   "source": [
    "## Methods of Evaluation of the Inverse Z-Transform"
   ]
  },
  {
   "cell_type": "markdown",
   "id": "df9aa18b",
   "metadata": {
    "slideshow": {
     "slide_type": "subslide"
    }
   },
   "source": [
    "### Partial Fraction Expansion\n",
    "\n",
    "*Advantages*\n",
    "\n",
    "* Most familiar.\n",
    "* Can use MATLAB `residue` function.\n",
    "\n",
    "*Disadvantages*\n",
    "\n",
    "* Requires that $F(z)$ is a proper rational function."
   ]
  },
  {
   "cell_type": "markdown",
   "id": "80f63a95",
   "metadata": {
    "slideshow": {
     "slide_type": "subslide"
    }
   },
   "source": [
    "### Inversion Integral\n",
    "\n",
    "*Advantage*\n",
    "\n",
    "* Can be used whether $F(z)$ is rational or not\n",
    "\n",
    "*Disadvantages*\n",
    "\n",
    "* Requires familiarity with the *Residues theorem* of complex variable analaysis.</li></ul>"
   ]
  },
  {
   "cell_type": "markdown",
   "id": "81e3fa36",
   "metadata": {
    "slideshow": {
     "slide_type": "subslide"
    }
   },
   "source": [
    "### Long Division\n",
    "\n",
    "*Advantages*\n",
    "\n",
    "* Practical when only a small sequence of numbers is desired.\n",
    "* Useful when z-transform has no closed-form solution."
   ]
  },
  {
   "cell_type": "markdown",
   "id": "971e457f",
   "metadata": {
    "slideshow": {
     "slide_type": "subslide"
    }
   },
   "source": [
    "*Disadvantages*\n",
    "\n",
    "* Can use MATLAB `dimpulse` function to compute a large sequence of numbers.\n",
    "* Requires that $F(z)$ is a proper rational function.\n",
    "* Division may be endless."
   ]
  },
  {
   "cell_type": "markdown",
   "id": "1a8b7568",
   "metadata": {
    "slideshow": {
     "slide_type": "slide"
    }
   },
   "source": [
    "## Summary\n",
    "\n",
    "* Inverse Z-Transform\n",
    "* Examples using PFE\n",
    "* Examples using Long Division\n",
    "* Analysis in MATLAB\n",
    "\n",
    "*Coming Next*\n",
    "\n",
    "* DT transfer functions, continuous system equivalents, and modelling DT systems in Matlab and Simulink."
   ]
  }
 ],
 "metadata": {
  "jupytext": {
   "formats": "ipynb,md:myst",
   "text_representation": {
    "extension": ".md",
    "format_name": "myst",
    "format_version": 0.12,
    "jupytext_version": "1.9.1"
   }
  },
  "kernelspec": {
   "display_name": "MATLAB",
   "language": "matlab",
   "name": "imatlab"
  },
  "source_map": [
   15,
   21,
   33,
   37,
   41,
   45,
   49,
   53,
   63,
   73,
   81,
   91,
   99,
   107,
   115,
   139,
   154,
   165,
   173,
   177,
   185,
   189,
   197,
   201,
   205,
   213,
   217,
   225,
   229,
   237,
   243,
   254,
   260,
   270,
   279,
   283,
   296,
   304,
   328,
   334,
   340,
   348,
   356,
   380,
   386,
   394,
   408,
   412,
   418,
   424,
   432,
   456,
   462,
   470,
   474,
   487,
   499,
   508,
   516
  ]
 },
 "nbformat": 4,
 "nbformat_minor": 5
}