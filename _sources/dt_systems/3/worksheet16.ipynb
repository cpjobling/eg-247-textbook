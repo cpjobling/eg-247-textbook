{
 "cells": [
  {
   "cell_type": "markdown",
   "id": "b07ebff5",
   "metadata": {
    "slideshow": {
     "slide_type": "slide"
    }
   },
   "source": [
    "# Worksheet 16 \n",
    "\n",
    "## To accompany Chapter 6.3 The Inverse Z-Transform"
   ]
  },
  {
   "cell_type": "markdown",
   "id": "2414f263",
   "metadata": {
    "slideshow": {
     "slide_type": "notes"
    }
   },
   "source": [
    "## Colophon\n",
    "\n",
    "This worksheet can be downloaded as a [PDF file](https://cpjobling.github.io/eg-247-textbook/worksheets/worksheet16.pdf). We will step through this worksheet in class. \n",
    "\n",
    "An annotatable copy of the notes for this presentation will be distributed before the second class meeting as **Worksheet 16** in the **Week 9: Classroom Activities** section of the Canvas site. I will also distribute a copy to your personal **Worksheets** section of the **OneNote Class Notebook** so that you can add your own notes using OneNote. \n",
    "\n",
    "You are expected to have at least watched the video presentation of [Chapter 6.3](i_z_transform) of the [notes](https://cpjobling.github.io/eg-247-textbook) before coming to class. If you haven't watch it afterwards!\n",
    "\n",
    "After class, the lecture recording and the annotated version of the worksheets will be made available through Canvas."
   ]
  },
  {
   "cell_type": "markdown",
   "id": "88cd7c65",
   "metadata": {
    "slideshow": {
     "slide_type": "slide"
    }
   },
   "source": [
    "## Agenda"
   ]
  },
  {
   "cell_type": "markdown",
   "id": "13a6b34c",
   "metadata": {
    "slideshow": {
     "slide_type": "fragment"
    }
   },
   "source": [
    "* Inverse Z-Transform"
   ]
  },
  {
   "cell_type": "markdown",
   "id": "267f33fc",
   "metadata": {
    "slideshow": {
     "slide_type": "fragment"
    }
   },
   "source": [
    "* Examples using PFE"
   ]
  },
  {
   "cell_type": "markdown",
   "id": "1a934b77",
   "metadata": {
    "slideshow": {
     "slide_type": "fragment"
    }
   },
   "source": [
    "* Examples using Long Division"
   ]
  },
  {
   "cell_type": "markdown",
   "id": "e15f3b9a",
   "metadata": {
    "slideshow": {
     "slide_type": "fragment"
    }
   },
   "source": [
    "* Analysis in MATLAB"
   ]
  },
  {
   "cell_type": "markdown",
   "id": "3bd16b1c",
   "metadata": {
    "slideshow": {
     "slide_type": "slide"
    }
   },
   "source": [
    "## The Inverse Z-Transform\n",
    "\n",
    "The inverse Z-Transform enables us to extract a sequence $f[n]$ from $F(z)$. It can be found by any of the following methods:\n",
    "\n",
    "* Partial fraction expansion\n",
    "* The inversion integral\n",
    "* Long division of polynomials"
   ]
  },
  {
   "cell_type": "markdown",
   "id": "5f9362df",
   "metadata": {
    "slideshow": {
     "slide_type": "subslide"
    }
   },
   "source": [
    "### Partial fraction expansion\n",
    "\n",
    "We expand $F(z)$ into a summation of terms whose inverse is known. These terms have the form:\n",
    "\n",
    "$$k,\\;\\frac{r_1 z}{z - p_1},\\;\\frac{r_1 z}{(z - p_1)^2},\\;\\frac{r_3 z}{z - p_2},\\ldots$$\n",
    "\n",
    "where $k$ is a constant, and $r_i$ and $p_i$ represent the residues and poles respectively, and can be real or complex<sup>1</sup>."
   ]
  },
  {
   "cell_type": "markdown",
   "id": "37917d10",
   "metadata": {
    "slideshow": {
     "slide_type": "notes"
    }
   },
   "source": [
    "**Notes**\n",
    "\n",
    "1. If complex, the poles and residues will be in complex conjugate pairs \n",
    "\n",
    "$$\\frac{r_{i} z}{z - p_i} + \\frac{r_{i}^* z}{z - p_i^*}$$"
   ]
  },
  {
   "cell_type": "markdown",
   "id": "71e20728",
   "metadata": {
    "slideshow": {
     "slide_type": "subslide"
    }
   },
   "source": [
    "### Step 1: Make Fractions Proper\n",
    "\n",
    "* Before we expand $F(z)$ into partial fraction expansions, we must first express it as a *proper* rational function.\n",
    "* This is done by expanding $F(z)/z$ instead of $F(z)$\n",
    "* That is we expand\n",
    "\n",
    "$$\\frac{F(z)}{z} = \\frac{k}{z} + \\frac{r_1}{z-p_1} + \\frac{r_2}{z-p_2} + \\cdots$$"
   ]
  },
  {
   "cell_type": "markdown",
   "id": "801db70b",
   "metadata": {
    "slideshow": {
     "slide_type": "subslide"
    }
   },
   "source": [
    "### Step 2: Find residues\n",
    "\n",
    "* Find residues from\n",
    "\n",
    "$$r_k = \\lim_{z\\to p_k}(z - p_k)\\frac{F(z)}{z} = (z - p_k)\\left.\\frac{F(z)}{z}\\right|_{z=p_k}$$"
   ]
  },
  {
   "cell_type": "markdown",
   "id": "36f33168",
   "metadata": {
    "slideshow": {
     "slide_type": "subslide"
    }
   },
   "source": [
    "### Step 3: Map back to transform tables form\n",
    "\n",
    "* Rewrite $F(z)/z$:\n",
    "\n",
    "$$z\\frac{F(z)}{z} = F(z) = k + \\frac{r_1z}{s-p_1} + \\frac{r_2z}{s-p_2} + \\cdots$$"
   ]
  },
  {
   "cell_type": "markdown",
   "id": "e5c3bc67",
   "metadata": {
    "slideshow": {
     "slide_type": "subslide"
    }
   },
   "source": [
    "### Example 1\n",
    "\n",
    "Karris Example 9.4: use the partial fraction expansion to compute the inverse z-transform of\n",
    "\n",
    "$$F(z) = \\frac{1}{(1 - 0.5z^{-1})(1 - 0.75z^{-1})(1 - z^{-1})}$$"
   ]
  },
  {
   "cell_type": "markdown",
   "id": "13c66be5",
   "metadata": {
    "slideshow": {
     "slide_type": "notes"
    }
   },
   "source": [
    "<pre style=\"border: 2px solid blue\">\n",
    "\n",
    "\n",
    "\n",
    "\n",
    "\n",
    "\n",
    "\n",
    "\n",
    "\n",
    "\n",
    "\n",
    "\n",
    "\n",
    "\n",
    "\n",
    "\n",
    "\n",
    "\n",
    "\n",
    "</pre>"
   ]
  },
  {
   "cell_type": "markdown",
   "id": "edc18963",
   "metadata": {
    "slideshow": {
     "slide_type": "subslide"
    }
   },
   "source": [
    "### MATLAB solution\n",
    "\n",
    "See [example1.mlx](https://cpjobling.github.io/eg-247-textbook/dt_systems/3/matlab/example1.mlx). (Also available as  [example1.m](https://cpjobling.github.io/eg-247-textbook/dt_systems/3/matlab/example1.m).)\n",
    "\n",
    "Uses MATLAB functions: \n",
    "\n",
    "* `collect` &ndash; expands a polynomial\n",
    "* `sym2poly` &ndash; converts a polynomial into a numeric polymial (vector of coefficients in descending order of exponents)\n",
    "* `residue` &ndash; calculates poles and zeros of a polynomial\n",
    "* `ztrans` &ndash; symbolic z-transform\n",
    "* `iztrans` &ndash; symbolic inverse ze-transform\n",
    "* `stem` &ndash; plots sequence as a \"lollipop\" diagram"
   ]
  },
  {
   "cell_type": "code",
   "execution_count": null,
   "id": "78ef6f36",
   "metadata": {
    "slideshow": {
     "slide_type": "skip"
    }
   },
   "outputs": [],
   "source": [
    "clear all\n",
    "cd matlab\n",
    "format compact"
   ]
  },
  {
   "cell_type": "code",
   "execution_count": null,
   "id": "7f578b2e",
   "metadata": {
    "slideshow": {
     "slide_type": "fragment"
    }
   },
   "outputs": [],
   "source": [
    "syms z n"
   ]
  },
  {
   "cell_type": "markdown",
   "id": "404f5bdb",
   "metadata": {
    "slideshow": {
     "slide_type": "subslide"
    }
   },
   "source": [
    "The denoninator of $F(z)$"
   ]
  },
  {
   "cell_type": "code",
   "execution_count": null,
   "id": "c1a88a22",
   "metadata": {
    "slideshow": {
     "slide_type": "fragment"
    }
   },
   "outputs": [],
   "source": [
    "Dz = (z - 0.5)*(z - 0.75)*(z - 1);"
   ]
  },
  {
   "cell_type": "markdown",
   "id": "318fdd6b",
   "metadata": {
    "slideshow": {
     "slide_type": "subslide"
    }
   },
   "source": [
    "Multiply the three factors of Dz to obtain a polynomial"
   ]
  },
  {
   "cell_type": "code",
   "execution_count": null,
   "id": "940b7592",
   "metadata": {
    "slideshow": {
     "slide_type": "fragment"
    }
   },
   "outputs": [],
   "source": [
    "Dz_poly = collect(Dz)"
   ]
  },
  {
   "cell_type": "markdown",
   "id": "40f193d3",
   "metadata": {
    "slideshow": {
     "slide_type": "subslide"
    }
   },
   "source": [
    "### Make into a rational polynomial"
   ]
  },
  {
   "cell_type": "markdown",
   "id": "6960c33f",
   "metadata": {
    "slideshow": {
     "slide_type": "fragment"
    }
   },
   "source": [
    "$z^2$"
   ]
  },
  {
   "cell_type": "code",
   "execution_count": null,
   "id": "81c3986e",
   "metadata": {
    "slideshow": {
     "slide_type": "fragment"
    }
   },
   "outputs": [],
   "source": [
    "num = [0, 1, 0, 0];"
   ]
  },
  {
   "cell_type": "markdown",
   "id": "1e7a2d3f",
   "metadata": {
    "slideshow": {
     "slide_type": "fragment"
    }
   },
   "source": [
    "$z^3 - 9/4 z^2 - 13/8 z - 3/8$"
   ]
  },
  {
   "cell_type": "code",
   "execution_count": null,
   "id": "7fb34530",
   "metadata": {
    "slideshow": {
     "slide_type": "fragment"
    }
   },
   "outputs": [],
   "source": [
    "den = sym2poly(Dz_poly)"
   ]
  },
  {
   "cell_type": "markdown",
   "id": "0f624546",
   "metadata": {
    "slideshow": {
     "slide_type": "subslide"
    }
   },
   "source": [
    "### Compute residues and poles"
   ]
  },
  {
   "cell_type": "code",
   "execution_count": null,
   "id": "40b8b35c",
   "metadata": {
    "slideshow": {
     "slide_type": "fragment"
    }
   },
   "outputs": [],
   "source": [
    "[r,p,k] = residue(num,den);"
   ]
  },
  {
   "cell_type": "markdown",
   "id": "e1a74453",
   "metadata": {
    "slideshow": {
     "slide_type": "subslide"
    }
   },
   "source": [
    "### Print results \n",
    "\n",
    "- `fprintf` works like the c-language function"
   ]
  },
  {
   "cell_type": "code",
   "execution_count": null,
   "id": "6d4cd983",
   "metadata": {
    "slideshow": {
     "slide_type": "fragment"
    }
   },
   "outputs": [],
   "source": [
    "fprintf('\\n')\n",
    "fprintf('r1 = %4.2f\\t', r(1)); fprintf('p1 = %4.2f\\n', p(1));...\n",
    "fprintf('r2 = %4.2f\\t', r(2)); fprintf('p2 = %4.2f\\n', p(2));...\n",
    "fprintf('r3 = %4.2f\\t', r(3)); fprintf('p3 = %4.2f\\n', p(3));"
   ]
  },
  {
   "cell_type": "markdown",
   "id": "0537f5e5",
   "metadata": {
    "slideshow": {
     "slide_type": "subslide"
    }
   },
   "source": [
    "### Symbolic proof\n",
    "\n",
    "$$f[n] = 2\\left(\\frac{1}{2}\\right)^n - 9\\left(\\frac{3}{4}\\right)^n + 8$$"
   ]
  },
  {
   "cell_type": "code",
   "execution_count": null,
   "id": "f79ff609",
   "metadata": {
    "slideshow": {
     "slide_type": "fragment"
    }
   },
   "outputs": [],
   "source": [
    "% z-transform\n",
    "fn = 2*(1/2)^n-9*(3/4)^n + 8;\n",
    "Fz = ztrans(fn)"
   ]
  },
  {
   "cell_type": "code",
   "execution_count": null,
   "id": "4eb10b9c",
   "metadata": {
    "slideshow": {
     "slide_type": "fragment"
    }
   },
   "outputs": [],
   "source": [
    "% inverse z-transform\n",
    "iztrans(Fz)"
   ]
  },
  {
   "cell_type": "markdown",
   "id": "cab0f177",
   "metadata": {
    "slideshow": {
     "slide_type": "subslide"
    }
   },
   "source": [
    "### Sequence"
   ]
  },
  {
   "cell_type": "code",
   "execution_count": null,
   "id": "2231dc10",
   "metadata": {
    "slideshow": {
     "slide_type": "fragment"
    }
   },
   "outputs": [],
   "source": [
    "n = 0:15;\n",
    "sequence = subs(fn,n);\n",
    "stem(n,sequence)\n",
    "title('Discrete Time Sequence f[n] = 2*(1/2)^n-9*(3/4)^n + 8');\n",
    "ylabel('f[n]')\n",
    "xlabel('Sequence number n')"
   ]
  },
  {
   "cell_type": "markdown",
   "id": "2c247b13",
   "metadata": {
    "slideshow": {
     "slide_type": "subslide"
    }
   },
   "source": [
    "### Example 2\n",
    "\n",
    "Karris example 9.5: use the partial fraction expansion method to to compute the inverse z-transform of\n",
    "\n",
    "$$F(z) = \\frac{12z}{(z+1)(z - 1)^2}$$"
   ]
  },
  {
   "cell_type": "markdown",
   "id": "a6762e5b",
   "metadata": {
    "slideshow": {
     "slide_type": "notes"
    }
   },
   "source": [
    "<pre style=\"border: 2px solid blue\">\n",
    "\n",
    "\n",
    "\n",
    "\n",
    "\n",
    "\n",
    "\n",
    "\n",
    "\n",
    "\n",
    "\n",
    "\n",
    "\n",
    "\n",
    "\n",
    "\n",
    "\n",
    "\n",
    "\n",
    "</pre>"
   ]
  },
  {
   "cell_type": "markdown",
   "id": "9e70a123",
   "metadata": {
    "slideshow": {
     "slide_type": "subslide"
    }
   },
   "source": [
    "### MATLAB solution\n",
    "\n",
    "See [example2.mlx](https://cpjobling.github.io/eg-247-textbook/dt_systems/3/matlab/example2.mlx). (Also available as  [example2.m](https://cpjobling.github.io/eg-247-textbook/dt_systems/3/matlab/example2.m).)"
   ]
  },
  {
   "cell_type": "markdown",
   "id": "ea814ab7",
   "metadata": {
    "slideshow": {
     "slide_type": "notes"
    }
   },
   "source": [
    "Uses additional MATLAB functions: \n",
    "\n",
    "* `dimpulse` &ndash; computes and plots a sequence $f[n]$ for any range of values of $n$"
   ]
  },
  {
   "cell_type": "code",
   "execution_count": null,
   "id": "f2c0bbd8",
   "metadata": {
    "slideshow": {
     "slide_type": "fragment"
    }
   },
   "outputs": [],
   "source": [
    "open example2"
   ]
  },
  {
   "cell_type": "markdown",
   "id": "65e1eb5d",
   "metadata": {
    "slideshow": {
     "slide_type": "subslide"
    }
   },
   "source": [
    "### Example 3\n",
    "\n",
    "Karris example 9.6: use the partial fraction expansion method to to compute the inverse z-transform of\n",
    "\n",
    "$$F(z) = \\frac{z + 1}{(z-1)(z^2 + 2z + 2)}$$"
   ]
  },
  {
   "cell_type": "markdown",
   "id": "cb3c8f04",
   "metadata": {
    "slideshow": {
     "slide_type": "notes"
    }
   },
   "source": [
    "<pre style=\"border: 2px solid blue\">\n",
    "\n",
    "\n",
    "\n",
    "\n",
    "\n",
    "\n",
    "\n",
    "\n",
    "\n",
    "\n",
    "\n",
    "\n",
    "\n",
    "\n",
    "\n",
    "\n",
    "\n",
    "\n",
    "\n",
    "</pre>"
   ]
  },
  {
   "cell_type": "markdown",
   "id": "10d25d7d",
   "metadata": {
    "slideshow": {
     "slide_type": "subslide"
    }
   },
   "source": [
    "### MATLAB solution\n",
    "\n",
    "See [example3.mlx](https://cpjobling.github.io/eg-247-textbook/dt_systems/3/matlab/example3.mlx). (Also available as [example3.m](https://cpjobling.github.io/eg-247-textbook/dt_systems/3/matlab/example3.m).)"
   ]
  },
  {
   "cell_type": "code",
   "execution_count": null,
   "id": "ef86cf00",
   "metadata": {
    "slideshow": {
     "slide_type": "fragment"
    }
   },
   "outputs": [],
   "source": [
    "open example3"
   ]
  },
  {
   "cell_type": "markdown",
   "id": "2d0490b7",
   "metadata": {
    "slideshow": {
     "slide_type": "slide"
    }
   },
   "source": [
    "### Inverse Z-Transform by the Inversion Integral\n",
    "\n",
    "The inversion integral states that:\n",
    "\n",
    "$$f[n] = \\frac{1}{j2\\pi}\\oint_C {F(z){z^{n - 1}}\\,dz} $$\n",
    "\n",
    "where $C$ is a closed curve that encloses all poles of the integrant.\n",
    "\n",
    "This can (*apparently*) be solved by Cauchy's residue theorem!!\n",
    "\n",
    "Fortunately (:-), this is beyond the scope of this module!"
   ]
  },
  {
   "cell_type": "markdown",
   "id": "f4457176",
   "metadata": {
    "slideshow": {
     "slide_type": "notes"
    }
   },
   "source": [
    "See Karris Section 9.6.2 (pp 9-29&mdash;9-33) if you want to find out more."
   ]
  },
  {
   "cell_type": "markdown",
   "id": "4d6b4393",
   "metadata": {
    "slideshow": {
     "slide_type": "slide"
    }
   },
   "source": [
    "### Inverse Z-Transform by the Long Division\n",
    "\n",
    "To apply this method, $F(z)$ must be a rational polynomial function, and the numerator and denominator must be polynomials arranged in descending powers of $z$."
   ]
  },
  {
   "cell_type": "markdown",
   "id": "2307044a",
   "metadata": {
    "slideshow": {
     "slide_type": "subslide"
    }
   },
   "source": [
    "We will work through an example in class.\n",
    "\n",
    "[Skip next slide in Pre-Lecture]"
   ]
  },
  {
   "cell_type": "markdown",
   "id": "b39e6757",
   "metadata": {
    "slideshow": {
     "slide_type": "subslide"
    }
   },
   "source": [
    "### Example 4\n",
    "\n",
    "Karris example 9.9: use the long division method to determine $f[n]$ for $n = 0,\\,1,\\,\\mathrm{and}\\,2$, given that\n",
    "\n",
    "$$F(z) = \\frac{1 + z^{-1} + 2z^{-2} + 3z^{-3}}{(1 - 0.25z^{-1})(1 - 0.5z^{-1})(1 - 0.75z^{-1})}$$"
   ]
  },
  {
   "cell_type": "markdown",
   "id": "d29623ae",
   "metadata": {
    "slideshow": {
     "slide_type": "notes"
    }
   },
   "source": [
    "<pre style=\"border: 2px solid blue\">\n",
    "\n",
    "\n",
    "\n",
    "\n",
    "\n",
    "\n",
    "\n",
    "\n",
    "\n",
    "\n",
    "\n",
    "\n",
    "\n",
    "\n",
    "\n",
    "\n",
    "\n",
    "\n",
    "\n",
    "</pre>"
   ]
  },
  {
   "cell_type": "markdown",
   "id": "3f9c0c2d",
   "metadata": {
    "slideshow": {
     "slide_type": "subslide"
    }
   },
   "source": [
    "### MATLAB\n",
    "\n",
    "See [example4.mlx](https://cpjobling.github.io/eg-247-textbook/dt_systems/3/matlab/example4.mlx). (also available as [example4.m](https://cpjobling.github.io/eg-247-textbook/dt_systems/3/matlab/example4.m).)"
   ]
  },
  {
   "cell_type": "code",
   "execution_count": null,
   "id": "62d74026",
   "metadata": {
    "slideshow": {
     "slide_type": "fragment"
    }
   },
   "outputs": [],
   "source": [
    "open example4"
   ]
  },
  {
   "cell_type": "markdown",
   "id": "8e555724",
   "metadata": {
    "slideshow": {
     "slide_type": "slide"
    }
   },
   "source": [
    "## Methods of Evaluation of the Inverse Z-Transform"
   ]
  },
  {
   "cell_type": "markdown",
   "id": "0dfb9427",
   "metadata": {
    "slideshow": {
     "slide_type": "subslide"
    }
   },
   "source": [
    "### Partial Fraction Expansion\n",
    "\n",
    "*Advantages*\n",
    "\n",
    "* Most familiar.\n",
    "* Can use MATLAB `residue` function.\n",
    "\n",
    "*Disadvantages*\n",
    "\n",
    "* Requires that $F(z)$ is a proper rational function."
   ]
  },
  {
   "cell_type": "markdown",
   "id": "42acc199",
   "metadata": {
    "slideshow": {
     "slide_type": "subslide"
    }
   },
   "source": [
    "### Inversion Integral\n",
    "\n",
    "*Advantage*\n",
    "\n",
    "* Can be used whether $F(z)$ is rational or not\n",
    "\n",
    "*Disadvantages*\n",
    "\n",
    "* Requires familiarity with the *Residues theorem* of complex variable analaysis.</li></ul>"
   ]
  },
  {
   "cell_type": "markdown",
   "id": "a25d869f",
   "metadata": {
    "slideshow": {
     "slide_type": "subslide"
    }
   },
   "source": [
    "### Long Division\n",
    "\n",
    "*Advantages*\n",
    "\n",
    "* Practical when only a small sequence of numbers is desired.\n",
    "* Useful when z-transform has no closed-form solution."
   ]
  },
  {
   "cell_type": "markdown",
   "id": "01f4fa5e",
   "metadata": {
    "slideshow": {
     "slide_type": "subslide"
    }
   },
   "source": [
    "*Disadvantages*\n",
    "\n",
    "* Can use MATLAB `dimpulse` function to compute a large sequence of numbers.\n",
    "* Requires that $F(z)$ is a proper rational function.\n",
    "* Division may be endless."
   ]
  },
  {
   "cell_type": "markdown",
   "id": "a9124e77",
   "metadata": {
    "slideshow": {
     "slide_type": "slide"
    }
   },
   "source": [
    "## Summary\n",
    "\n",
    "* Inverse Z-Transform\n",
    "* Examples using PFE\n",
    "* Examples using Long Division\n",
    "* Analysis in MATLAB\n",
    "\n",
    "*Coming Next*\n",
    "\n",
    "* DT transfer functions, continuous system equivalents, and modelling DT systems in Matlab and Simulink."
   ]
  }
 ],
 "metadata": {
  "jupytext": {
   "formats": "ipynb,md:myst",
   "text_representation": {
    "extension": ".md",
    "format_name": "myst",
    "format_version": 0.13,
    "jupytext_version": "1.14.4"
   }
  },
  "kernelspec": {
   "display_name": "Matlab",
   "language": "matlab",
   "name": "matlab"
  },
  "source_map": [
   15,
   21,
   33,
   37,
   41,
   45,
   49,
   53,
   63,
   73,
   81,
   91,
   99,
   107,
   115,
   139,
   154,
   164,
   172,
   176,
   184,
   188,
   196,
   200,
   204,
   212,
   216,
   224,
   228,
   236,
   242,
   253,
   259,
   269,
   278,
   282,
   295,
   303,
   327,
   333,
   339,
   347,
   355,
   379,
   385,
   393,
   407,
   411,
   417,
   423,
   431,
   455,
   461,
   469,
   473,
   486,
   498,
   507,
   515
  ]
 },
 "nbformat": 4,
 "nbformat_minor": 5
}