{
 "cells": [
  {
   "cell_type": "markdown",
   "id": "1a7b9972",
   "metadata": {
    "slideshow": {
     "slide_type": "slide"
    }
   },
   "source": [
    "# Models of Discrete-Time Systems"
   ]
  },
  {
   "cell_type": "markdown",
   "id": "6ebe9c59",
   "metadata": {
    "slideshow": {
     "slide_type": "skip"
    }
   },
   "source": [
    "## Colophon\n",
    "\n",
    "An annotatable worksheet for this presentation is available as [**Worksheet 17**](worksheet17).\n",
    "\n",
    "* The [Jupytext](https://jupytext.readthedocs.io/en/latest/index.html) source code for this page is [dt_systems/4/dt_models.md](https://github.com/cpjobling/eg-247-textbook/blob/master/dt_systems/4/dt_models.ipynb).\n",
    "\n",
    "* You can view the notes for this presentation as a webpage ([HTML](https://cpjobling.github.io/eg-247-textbook/dt_systems/4/dt_models.html)). \n",
    "\n",
    "* This page is downloadable as a [PDF](https://cpjobling.github.io/eg-247-textbook/dt_systems/4/dt_models.pdf) file."
   ]
  },
  {
   "cell_type": "markdown",
   "id": "fcc9d7f2",
   "metadata": {
    "slideshow": {
     "slide_type": "slide"
    }
   },
   "source": [
    "## Scope and Background Reading\n",
    "\n",
    "In this section we will explore digital systems and learn more about the z-transfer function model.\n",
    "\n",
    "The material in this presentation and notes is based on Chapter 9 (Starting at [Section 9.7](https://ebookcentral.proquest.com/lib/swansea-ebooks/reader.action?docID=3384197&ppg=363)) of {cite}`karris`. I have skipped the section on digital state-space models."
   ]
  },
  {
   "cell_type": "markdown",
   "id": "7b6a6257",
   "metadata": {
    "slideshow": {
     "slide_type": "slide"
    }
   },
   "source": [
    "## Agenda"
   ]
  },
  {
   "cell_type": "markdown",
   "id": "3b08bf2e",
   "metadata": {
    "slideshow": {
     "slide_type": "fragment"
    }
   },
   "source": [
    "* [Discrete Time Systems](dtsystems)"
   ]
  },
  {
   "cell_type": "markdown",
   "id": "5eca00b7",
   "metadata": {
    "slideshow": {
     "slide_type": "fragment"
    }
   },
   "source": [
    "* [Transfer Functions in the Z-Domain](tf)"
   ]
  },
  {
   "cell_type": "markdown",
   "id": "a3aa5bf7",
   "metadata": {
    "slideshow": {
     "slide_type": "fragment"
    }
   },
   "source": [
    "* [Modelling digital systems in Matlab/Simulink](simulink)"
   ]
  },
  {
   "cell_type": "markdown",
   "id": "18fd87f9",
   "metadata": {
    "slideshow": {
     "slide_type": "fragment"
    }
   },
   "source": [
    "* [Converting Continuous Time Systems to Discrete Time Systems](cse)"
   ]
  },
  {
   "cell_type": "markdown",
   "id": "d51aca6f",
   "metadata": {
    "slideshow": {
     "slide_type": "fragment"
    }
   },
   "source": [
    "* [Example: Digital Butterworth Filter](demo)"
   ]
  },
  {
   "cell_type": "markdown",
   "id": "8cdcb0bf",
   "metadata": {
    "slideshow": {
     "slide_type": "slide"
    }
   },
   "source": [
    "(dtsystems)=\n",
    "## Discrete Time Systems\n",
    "\n",
    "In the lecture that introduced the z-transform we talked about the representation of a discrete-time (DT) system by the model shown below:\n",
    "\n",
    "![DT System](./pictures/ct-to-dt.png)\n",
    "\n",
    "In this session, we want to explore the contents of the central block."
   ]
  },
  {
   "cell_type": "markdown",
   "id": "67b5f6e1",
   "metadata": {
    "slideshow": {
     "slide_type": "subslide"
    }
   },
   "source": [
    "### DT System as a Sequence Processor\n",
    "\n",
    "* As noted in the previous slide, the discrete time system (DTS) `takes as an input the sequence $x_d[n]$<sup>1</sup> which in a physical signal would be obtained by sampling the continuous time signal $x(t)$ using an analogue to digital converter (ADC)."
   ]
  },
  {
   "cell_type": "markdown",
   "id": "17485eab",
   "metadata": {
    "slideshow": {
     "slide_type": "fragment"
    }
   },
   "source": [
    "* It produces another sequence $y_d[n]$ by *processing* the input sequence in some way."
   ]
  },
  {
   "cell_type": "markdown",
   "id": "42950cb8",
   "metadata": {
    "slideshow": {
     "slide_type": "fragment"
    }
   },
   "source": [
    "* The output sequence is converted into an analogue signal $y(t)$ by a digital to analogue converter (DAC)."
   ]
  },
  {
   "cell_type": "markdown",
   "id": "2327ff2e",
   "metadata": {
    "slideshow": {
     "slide_type": "fragment"
    }
   },
   "source": [
    "![DT System as a Sequence Processor](./pictures/sigs.png)"
   ]
  },
  {
   "cell_type": "markdown",
   "id": "e64bb642",
   "metadata": {
    "slideshow": {
     "slide_type": "subslide"
    }
   },
   "source": [
    "### What is the nature of the DTS?\n",
    "\n",
    "* The discrete time system (DTS) is a block that converts a sequence $x_d[n]$ into another sequence $y_d[n]$"
   ]
  },
  {
   "cell_type": "markdown",
   "id": "d9616831",
   "metadata": {
    "slideshow": {
     "slide_type": "fragment"
    }
   },
   "source": [
    "* The transformation will be a *difference equation* $h[n]$"
   ]
  },
  {
   "cell_type": "markdown",
   "id": "582fa19c",
   "metadata": {
    "slideshow": {
     "slide_type": "fragment"
    }
   },
   "source": [
    "* By analogy with CT systems, $h[n]$ is the impulse response of the DTS, and $y[n]$ can be obtained by *convolving* $h[n]$ with $x_d[n]$ so:\n",
    "\n",
    "$$y_d[n] = h[n] * x_d[n]$$"
   ]
  },
  {
   "cell_type": "markdown",
   "id": "468b2f94",
   "metadata": {
    "slideshow": {
     "slide_type": "subslide"
    }
   },
   "source": [
    "* Taking the z-transform of $h[n]$ we get $H(z)$, and from the transform properties, convolution of the signal $x_d[n]$ by system $h[n]$ will be *multiplication* of the z-transforms:\n",
    "\n",
    "$$Y_d(z) = H(z) X_d(z)$$"
   ]
  },
  {
   "cell_type": "markdown",
   "id": "965d092b",
   "metadata": {
    "slideshow": {
     "slide_type": "fragment"
    }
   },
   "source": [
    "* So, what does $h[n]$ and therefore $H(z)$ look like?"
   ]
  },
  {
   "cell_type": "markdown",
   "id": "b8578f19",
   "metadata": {
    "slideshow": {
     "slide_type": "slide"
    }
   },
   "source": [
    "(tf)=\n",
    "## Transfer Functions in the Z-Domain\n",
    "\n",
    "Let us assume that the sequence transformation is a *difference equation* of the form<sup>2</sup>:\n",
    "\n",
    "$$\\begin{array}{l}\n",
    "y[n] + {a_1}y[n - 1] + {a_2}y[n - 2] +  \\cdots  + {a_k}y[n - k]\\\\\n",
    "\\quad  = {b_0}x[n] + {b_1}u[n - 1] + {b_2}u[n - 2] +  \\cdots  + {b_k}u[n - k]\n",
    "\\end{array}$$"
   ]
  },
  {
   "cell_type": "markdown",
   "id": "d24ca55a",
   "metadata": {
    "slideshow": {
     "slide_type": "subslide"
    }
   },
   "source": [
    "### Take Z-Transform of both sides\n",
    "\n",
    "From the z-transform properties\n",
    "\n",
    "$$f[n-m] \\Leftrightarrow z^{-m}F(z)$$\n",
    "\n",
    "so...."
   ]
  },
  {
   "cell_type": "markdown",
   "id": "2b9552d3",
   "metadata": {
    "slideshow": {
     "slide_type": "fragment"
    }
   },
   "source": [
    "$$Y(z) + a_1z^{-1}Y(z) + a_2z^{-2}Y(z) + \\cdots + a_kz^{-k}Y(z) = ...$$"
   ]
  },
  {
   "cell_type": "markdown",
   "id": "833d8dc6",
   "metadata": {
    "slideshow": {
     "slide_type": "fragment"
    }
   },
   "source": [
    "$$b_0 U(z) + b_1z^{-1}U(z) + b_2z^{-2}U(z) + \\cdots + b_kz^{-k}U(z)$$"
   ]
  },
  {
   "cell_type": "markdown",
   "id": "3b622057",
   "metadata": {
    "slideshow": {
     "slide_type": "subslide"
    }
   },
   "source": [
    "### Gather terms\n",
    "\n",
    "$$\\begin{array}{l}\n",
    "\\left( 1 + {a_1} z^{-1} + {a_2} z^{-2} +  \\cdots {a_k} z^{-k} \\right)Y(z) = \\\\\n",
    "\\quad \\left( b_0 + b_1 z^{-1} + b_2 z^{- 2} +  \\cdots b_k z^{- k} \\right)U(z)\n",
    "\\end{array}$$\n",
    "\n",
    "from which ..."
   ]
  },
  {
   "cell_type": "markdown",
   "id": "51effdb2",
   "metadata": {
    "slideshow": {
     "slide_type": "fragment"
    }
   },
   "source": [
    "$$Y(z) = \\left(\\frac{b_0 + b_{1}z^{-1} + b_{2}z^{-2} + \\cdots b_{k}z^{-k}}{1 + a_{1}z^{-1} + a_{2}z^{-2} + \\cdots a_{k}z^{-k}\n",
    "}\\right) U(z)$$"
   ]
  },
  {
   "cell_type": "markdown",
   "id": "4a88d447",
   "metadata": {
    "slideshow": {
     "slide_type": "subslide"
    }
   },
   "source": [
    "### Define transfer function\n",
    "\n",
    "We define the *discrete time transfer function* $H(z) := Y(z)/U(z)$ so..."
   ]
  },
  {
   "cell_type": "markdown",
   "id": "5d86acd3",
   "metadata": {
    "slideshow": {
     "slide_type": "fragment"
    }
   },
   "source": [
    "$$H(z) = \\frac{Y(z)}{U(z)} = \\frac{b_0 + b_{1}z^{-1} + b_{2}z^{-2} + \\cdots b_{k}z^{-k}}{1 + a_{1}z^{-1} + a_{2}z^{-2} + \\cdots a_{k}z^{-k}\n",
    "}$$"
   ]
  },
  {
   "cell_type": "markdown",
   "id": "c11945d4",
   "metadata": {
    "slideshow": {
     "slide_type": "fragment"
    }
   },
   "source": [
    "... or more conventionally<sup>3</sup>:\n",
    "\n",
    "$$H(z) = \\frac{b_0z^k + b_{1}z^{k-1} + b_{2}z^{k-2} + \\cdots b_{k-1}z + b_{k}}{z^k + a_{1}z^{k-1} + a_{2}z^{k-2} + \\cdots a_{k-1} z + a_{k}}$$"
   ]
  },
  {
   "cell_type": "markdown",
   "id": "9664f109",
   "metadata": {
    "slideshow": {
     "slide_type": "subslide"
    }
   },
   "source": [
    "### DT impulse response\n",
    "\n",
    "The *discrete-time impulse reponse* $h[n]$ is the response of the DT system to the input $x[n] = \\delta[n]$"
   ]
  },
  {
   "cell_type": "markdown",
   "id": "e484506c",
   "metadata": {
    "slideshow": {
     "slide_type": "fragment"
    }
   },
   "source": [
    "Last week we showed that $$\\mathcal{Z}\\left\\{\\delta[n]\\right\\}$$ was defined by the transform pair \n",
    "\n",
    "$$\\delta[n] \\Leftrightarrow 1$$"
   ]
  },
  {
   "cell_type": "markdown",
   "id": "24f9ef2d",
   "metadata": {
    "slideshow": {
     "slide_type": "subslide"
    }
   },
   "source": [
    "so \n",
    "\n",
    "$$h[n] = \\mathcal{Z}^{-1}\\left\\{H(z).1\\right\\} = \\mathcal{Z}^{-1}\\left\\{H(z)\\right\\}$$"
   ]
  },
  {
   "cell_type": "markdown",
   "id": "ccd84ffb",
   "metadata": {
    "slideshow": {
     "slide_type": "subslide"
    }
   },
   "source": [
    "We will work through an example in class.\n",
    "\n",
    "[Skip next slide in Pre-Lecture]"
   ]
  },
  {
   "cell_type": "markdown",
   "id": "ab806289",
   "metadata": {
    "slideshow": {
     "slide_type": "subslide"
    }
   },
   "source": [
    "### Example 5\n",
    "\n",
    "Karris Example 9.10:\n",
    "\n",
    "The difference equation describing the input-output relationship of a DT system with zero initial conditions, is:\n",
    "\n",
    "$$y[n] - 0.5 y[n-1] + 0.125 y[n-2] = x[n] + x[n -1]$$"
   ]
  },
  {
   "cell_type": "markdown",
   "id": "74bc7b81",
   "metadata": {
    "slideshow": {
     "slide_type": "subslide"
    }
   },
   "source": [
    "Compute:\n",
    "\n",
    "1. The transfer function $H(z)$\n",
    "2. The DT impulse response $h[n]$\n",
    "3. The response $y[n]$ when the input $x[n]$ is the DT unit step $u_0[n]$"
   ]
  },
  {
   "cell_type": "markdown",
   "id": "d67bfa98",
   "metadata": {
    "slideshow": {
     "slide_type": "subslide"
    }
   },
   "source": [
    "#### 5.1. The transfer function\n",
    "\n",
    "$$H(z) = \\frac{Y(z)}{U(z)} = ...?$$"
   ]
  },
  {
   "cell_type": "markdown",
   "id": "2f51a2cf",
   "metadata": {
    "slideshow": {
     "slide_type": "notes"
    }
   },
   "source": [
    "<pre style=\"border: 2px solid blue\">\n",
    "\n",
    "\n",
    "\n",
    "\n",
    "\n",
    "\n",
    "\n",
    "\n",
    "\n",
    "\n",
    "\n",
    "\n",
    "\n",
    "\n",
    "\n",
    "\n",
    "\n",
    "\n",
    "\n",
    "</pre>"
   ]
  },
  {
   "cell_type": "markdown",
   "id": "29b33f15",
   "metadata": {
    "slideshow": {
     "slide_type": "subslide"
    }
   },
   "source": [
    "#### 5.2. The DT impulse response\n",
    "\n",
    "Start with:\n",
    "\n",
    "$$\\frac{H(z)}{z} = \\frac{z - 1}{z^2 + 0.5 z + 0.125}$$"
   ]
  },
  {
   "cell_type": "markdown",
   "id": "52706311",
   "metadata": {
    "slideshow": {
     "slide_type": "notes"
    }
   },
   "source": [
    "<pre style=\"border: 2px solid blue\">\n",
    "\n",
    "\n",
    "\n",
    "\n",
    "\n",
    "\n",
    "\n",
    "\n",
    "\n",
    "\n",
    "\n",
    "\n",
    "\n",
    "\n",
    "\n",
    "\n",
    "\n",
    "\n",
    "\n",
    "</pre>"
   ]
  },
  {
   "cell_type": "markdown",
   "id": "9e644b3b",
   "metadata": {
    "slideshow": {
     "slide_type": "subslide"
    }
   },
   "source": [
    "##### Matlab Solution"
   ]
  },
  {
   "cell_type": "code",
   "execution_count": 1,
   "id": "5df51614",
   "metadata": {
    "slideshow": {
     "slide_type": "fragment"
    }
   },
   "outputs": [
    {
     "name": "stdout",
     "output_type": "stream",
     "text": [
      "\n",
      "ans =\n",
      "\n",
      "    '/Users/cpjobling/code/src/github.com/cpjobling/eg-247-textbook/dt_systems/4/matlab'\n",
      "\n"
     ]
    }
   ],
   "source": [
    "clear all\n",
    "imatlab_export_fig('print-svg')  % Static svg figures.\n",
    "cd matlab\n",
    "pwd\n",
    "format compact"
   ]
  },
  {
   "cell_type": "markdown",
   "id": "63a2fe19",
   "metadata": {
    "slideshow": {
     "slide_type": "fragment"
    }
   },
   "source": [
    "See [dtm_ex1_2.mlx](https://cpjobling.github.io/eg-247-textbook/dt_systems/4/matlab/dtm_ex1_2.mlx). (Also available as [dtm_ex1_2.m](https://cpjobling.github.io/eg-247-textbook/dt_systems/4/matlab/dtm_ex1_2.m).)"
   ]
  },
  {
   "cell_type": "markdown",
   "id": "dc88d7ab",
   "metadata": {
    "slideshow": {
     "slide_type": "subslide"
    }
   },
   "source": [
    "The difference equation describing the input-output relationship of the DT system with zero initial conditions, is:\n",
    "\n",
    "$$y[n] - 0.5 y[n-1] + 0.125 y[n-2] = x[n] + x[n -1]$$"
   ]
  },
  {
   "cell_type": "markdown",
   "id": "7a6de2f1",
   "metadata": {
    "slideshow": {
     "slide_type": "subslide"
    }
   },
   "source": [
    "###### Transfer function\n",
    "\n",
    "Numerator $z^2 + z$"
   ]
  },
  {
   "cell_type": "code",
   "execution_count": 2,
   "id": "6f0d116b",
   "metadata": {},
   "outputs": [],
   "source": [
    "Nz = [1 1 0];"
   ]
  },
  {
   "cell_type": "markdown",
   "id": "96ba2c42",
   "metadata": {
    "slideshow": {
     "slide_type": "fragment"
    }
   },
   "source": [
    "Denominator $z^2 - 0.5 z + 0.125$"
   ]
  },
  {
   "cell_type": "code",
   "execution_count": 3,
   "id": "4e0139ea",
   "metadata": {},
   "outputs": [],
   "source": [
    "Dz = [1 -0.5 0.125];"
   ]
  },
  {
   "cell_type": "markdown",
   "id": "e3a0c1b2",
   "metadata": {
    "slideshow": {
     "slide_type": "subslide"
    }
   },
   "source": [
    "###### Poles and residues"
   ]
  },
  {
   "cell_type": "code",
   "execution_count": 4,
   "id": "2689735c",
   "metadata": {},
   "outputs": [
    {
     "name": "stdout",
     "output_type": "stream",
     "text": [
      "r =\n",
      "   0.7500 - 0.5000i\n",
      "   0.7500 + 0.5000i\n"
     ]
    },
    {
     "name": "stdout",
     "output_type": "stream",
     "text": [
      "p =\n",
      "   0.2500 + 0.2500i\n",
      "   0.2500 - 0.2500i\n"
     ]
    },
    {
     "name": "stdout",
     "output_type": "stream",
     "text": [
      "k =\n",
      "     1\n"
     ]
    }
   ],
   "source": [
    "[r,p,k] = residue(Nz,Dz)"
   ]
  },
  {
   "cell_type": "markdown",
   "id": "c88b653c",
   "metadata": {
    "slideshow": {
     "slide_type": "subslide"
    }
   },
   "source": [
    "###### Impulse Response"
   ]
  },
  {
   "cell_type": "code",
   "execution_count": 5,
   "id": "ddaf7f44",
   "metadata": {},
   "outputs": [
    {
     "name": "stdout",
     "output_type": "stream",
     "text": [
      "\n",
      "Hz =\n"
     ]
    },
    {
     "name": "stdout",
     "output_type": "stream",
     "text": [
      " \n"
     ]
    },
    {
     "name": "stdout",
     "output_type": "stream",
     "text": [
      "        z^2 + z\n"
     ]
    },
    {
     "name": "stdout",
     "output_type": "stream",
     "text": [
      "  -------------------\n"
     ]
    },
    {
     "name": "stdout",
     "output_type": "stream",
     "text": [
      "  z^2 - 0.5 z + 0.125\n"
     ]
    },
    {
     "name": "stdout",
     "output_type": "stream",
     "text": [
      " \n"
     ]
    },
    {
     "name": "stdout",
     "output_type": "stream",
     "text": [
      "Sample time: 1 seconds\n"
     ]
    },
    {
     "name": "stdout",
     "output_type": "stream",
     "text": [
      "Discrete-time transfer function.\n",
      "\n"
     ]
    }
   ],
   "source": [
    "Hz = tf(Nz,Dz,1)\n",
    "hn = impulse(Hz, 15);"
   ]
  },
  {
   "cell_type": "markdown",
   "id": "90c53cc0",
   "metadata": {
    "slideshow": {
     "slide_type": "subslide"
    }
   },
   "source": [
    "###### Plot the response"
   ]
  },
  {
   "cell_type": "code",
   "execution_count": 6,
   "id": "5fea9edf",
   "metadata": {
    "slideshow": {
     "slide_type": "-"
    }
   },
   "outputs": [
    {
     "data": {
      "image/svg+xml": [
       "<?xml version=\"1.0\"?>\n",
       "<!DOCTYPE svg PUBLIC '-//W3C//DTD SVG 1.0//EN'\n",
       "          'http://www.w3.org/TR/2001/REC-SVG-20010904/DTD/svg10.dtd'>\n",
       "<svg xmlns:xlink=\"http://www.w3.org/1999/xlink\" style=\"fill-opacity:1; color-rendering:auto; color-interpolation:auto; text-rendering:auto; stroke:black; stroke-linecap:square; stroke-miterlimit:10; shape-rendering:auto; stroke-opacity:1; fill:black; stroke-dasharray:none; font-weight:normal; stroke-width:1; font-family:'Dialog'; font-style:normal; stroke-linejoin:miter; font-size:12px; stroke-dashoffset:0; image-rendering:auto;\" width=\"560\" height=\"420\" xmlns=\"http://www.w3.org/2000/svg\"\n",
       "><!--Generated by the Batik Graphics2D SVG Generator--><defs id=\"genericDefs\"\n",
       "  /><g\n",
       "  ><defs id=\"defs1\"\n",
       "    ><clipPath clipPathUnits=\"userSpaceOnUse\" id=\"clipPath1\"\n",
       "      ><path d=\"M0 0 L560 0 L560 420 L0 420 L0 0 Z\"\n",
       "      /></clipPath\n",
       "      ><font horiz-adv-x=\"50.0\" id=\"font1\"\n",
       "      ><font-face ascent=\"95.200005\" descent=\"21.3\" units-per-em=\"100\" style=\"font-style:normal; font-family:Helvetica Neue; font-weight:normal;\"\n",
       "        /><missing-glyph horiz-adv-x=\"50.0\" d=\"M40.9 66.6 L10.2 66.6 L10.2 4.7 L40.9 4.7 ZM46 71.2 L46 0.1 L5.1 0.1 L5.1 71.2 Z\"\n",
       "        /><glyph unicode=\"2\" horiz-adv-x=\"55.6\" d=\"M4.4 45.8 L12.9 45.8 Q12.8 49 13.55 52.15 Q14.3 55.3 16 57.8 Q17.7 60.3 20.35 61.85 Q23 63.4 26.7 63.4 Q29.5 63.4 32 62.5 Q34.5 61.6 36.35 59.9 Q38.2 58.2 39.3 55.85 Q40.4 53.5 40.4 50.6 Q40.4 46.9 39.25 44.1 Q38.1 41.3 35.85 38.9 Q33.6 36.5 30.2 34.15 Q26.8 31.8 22.3 29 Q18.6 26.8 15.2 24.3 Q11.8 21.8 9.1 18.5 Q6.4 15.2 4.65 10.75 Q2.9 6.3 2.4 0 L48.7 0 L48.7 7.5 L12.3 7.5 Q12.9 10.8 14.85 13.35 Q16.8 15.9 19.55 18.1 Q22.3 20.3 25.6 22.25 Q28.9 24.2 32.2 26.2 Q35.5 28.3 38.6 30.6 Q41.7 32.9 44.1 35.75 Q46.5 38.6 47.95 42.2 Q49.4 45.8 49.4 50.5 Q49.4 55.5 47.65 59.3 Q45.9 63.1 42.9 65.65 Q39.9 68.2 35.85 69.55 Q31.8 70.9 27.2 70.9 Q21.6 70.9 17.2 69 Q12.8 67.1 9.85 63.75 Q6.9 60.4 5.5 55.8 Q4.1 51.2 4.4 45.8 Z\"\n",
       "        /><glyph unicode=\".\" horiz-adv-x=\"27.8\" d=\"M8.3 11.1 L8.3 0 L19.4 0 L19.4 11.1 Z\"\n",
       "        /><glyph unicode=\"0\" horiz-adv-x=\"55.6\" d=\"M13.2 34.9 Q13.2 37.5 13.25 40.65 Q13.3 43.8 13.75 46.95 Q14.2 50.1 15.05 53.1 Q15.9 56.1 17.55 58.35 Q19.2 60.6 21.7 62 Q24.2 63.4 27.8 63.4 Q31.4 63.4 33.9 62 Q36.4 60.6 38.05 58.35 Q39.7 56.1 40.55 53.1 Q41.4 50.1 41.85 46.95 Q42.3 43.8 42.35 40.65 Q42.4 37.5 42.4 34.9 Q42.4 30.9 42.15 25.95 Q41.9 21 40.55 16.65 Q39.2 12.3 36.2 9.3 Q33.2 6.3 27.8 6.3 Q22.4 6.3 19.4 9.3 Q16.4 12.3 15.05 16.65 Q13.7 21 13.45 25.95 Q13.2 30.9 13.2 34.9 ZM4.2 34.8 Q4.2 30.9 4.4 26.7 Q4.6 22.5 5.4 18.5 Q6.2 14.5 7.7 10.95 Q9.2 7.4 11.8 4.7 Q14.4 2 18.35 0.45 Q22.3 -1.1 27.8 -1.1 Q33.4 -1.1 37.3 0.45 Q41.2 2 43.8 4.7 Q46.4 7.4 47.9 10.95 Q49.4 14.5 50.2 18.5 Q51 22.5 51.2 26.7 Q51.4 30.9 51.4 34.8 Q51.4 38.7 51.2 42.9 Q51 47.1 50.2 51.1 Q49.4 55.1 47.9 58.7 Q46.4 62.3 43.8 65 Q41.2 67.7 37.25 69.3 Q33.3 70.9 27.8 70.9 Q22.3 70.9 18.35 69.3 Q14.4 67.7 11.8 65 Q9.2 62.3 7.7 58.7 Q6.2 55.1 5.4 51.1 Q4.6 47.1 4.4 42.9 Q4.2 38.7 4.2 34.8 Z\"\n",
       "        /><glyph unicode=\"-\" horiz-adv-x=\"38.9\" d=\"M5 31.8 L5 23.8 L33.9 23.8 L33.9 31.8 Z\"\n",
       "        /><glyph unicode=\"4\" horiz-adv-x=\"55.6\" d=\"M33.9 24.1 L10.1 24.1 L33.7 58.8 L33.9 58.8 ZM41.9 24.1 L41.9 70.9 L35.1 70.9 L2.8 24.8 L2.8 16.6 L33.9 16.6 L33.9 0 L41.9 0 L41.9 16.6 L51.5 16.6 L51.5 24.1 Z\"\n",
       "        /><glyph unicode=\"6\" horiz-adv-x=\"55.6\" d=\"M41.4 52.8 L49.9 52.8 Q49.1 61.6 43.9 66.25 Q38.7 70.9 29.9 70.9 Q22.3 70.9 17.3 67.7 Q12.3 64.5 9.3 59.2 Q6.3 53.9 5.05 47.05 Q3.8 40.2 3.8 32.9 Q3.8 27.3 4.65 21.3 Q5.5 15.3 8.1 10.3 Q10.7 5.3 15.5 2.1 Q20.3 -1.1 28.2 -1.1 Q34.9 -1.1 39.45 1.15 Q44 3.4 46.75 6.85 Q49.5 10.3 50.7 14.5 Q51.9 18.7 51.9 22.6 Q51.9 27.5 50.4 31.7 Q48.9 35.9 46.15 39 Q43.4 42.1 39.35 43.85 Q35.3 45.6 30.2 45.6 Q24.4 45.6 19.95 43.4 Q15.5 41.2 12.5 36.3 L12.3 36.5 Q12.4 40.6 13.1 45.3 Q13.8 50 15.65 54.05 Q17.5 58.1 20.8 60.75 Q24.1 63.4 29.5 63.4 Q34.6 63.4 37.7 60.5 Q40.8 57.6 41.4 52.8 ZM28.6 38.1 Q32.2 38.1 34.9 36.8 Q37.6 35.5 39.4 33.35 Q41.2 31.2 42.05 28.25 Q42.9 25.3 42.9 22 Q42.9 18.9 41.95 16.05 Q41 13.2 39.2 11 Q37.4 8.8 34.75 7.55 Q32.1 6.3 28.6 6.3 Q25.1 6.3 22.35 7.55 Q19.6 8.8 17.75 10.9 Q15.9 13 14.9 15.9 Q13.9 18.8 13.9 22.1 Q13.9 25.4 14.85 28.35 Q15.8 31.3 17.7 33.45 Q19.6 35.6 22.3 36.85 Q25 38.1 28.6 38.1 Z\"\n",
       "        /><glyph unicode=\"8\" horiz-adv-x=\"55.6\" d=\"M15.5 52.5 Q15.5 55.2 16.5 57.2 Q17.5 59.2 19.15 60.6 Q20.8 62 23.1 62.7 Q25.4 63.4 27.9 63.4 Q33.1 63.4 36.45 60.65 Q39.8 57.9 39.8 52.5 Q39.8 47.1 36.5 44.1 Q33.2 41.1 28.1 41.1 Q25.5 41.1 23.2 41.8 Q20.9 42.5 19.2 43.9 Q17.5 45.3 16.5 47.45 Q15.5 49.6 15.5 52.5 ZM6.5 52.8 Q6.5 48 9.2 43.95 Q11.9 39.9 16.4 38.1 Q10.4 36 7.2 31.35 Q4 26.7 4 20.4 Q4 15 5.85 10.95 Q7.7 6.9 10.95 4.2 Q14.2 1.5 18.6 0.2 Q23 -1.1 28.1 -1.1 Q33 -1.1 37.3 0.3 Q41.6 1.7 44.75 4.45 Q47.9 7.2 49.75 11.2 Q51.6 15.2 51.6 20.4 Q51.6 27 48.5 31.55 Q45.4 36.1 39 38.1 Q43.5 40.1 46.15 44.05 Q48.8 48 48.8 52.8 Q48.8 56.2 47.6 59.45 Q46.4 62.7 43.85 65.25 Q41.3 67.8 37.2 69.35 Q33.1 70.9 27.3 70.9 Q23.2 70.9 19.45 69.7 Q15.7 68.5 12.8 66.2 Q9.9 63.9 8.2 60.55 Q6.5 57.2 6.5 52.8 ZM13 20 Q13 23.1 14.15 25.6 Q15.3 28.1 17.35 29.9 Q19.4 31.7 22.15 32.65 Q24.9 33.6 28 33.6 Q31 33.6 33.65 32.55 Q36.3 31.5 38.3 29.7 Q40.3 27.9 41.45 25.45 Q42.6 23 42.6 20.1 Q42.6 17.1 41.55 14.6 Q40.5 12.1 38.55 10.25 Q36.6 8.4 33.95 7.35 Q31.3 6.3 28.1 6.3 Q21.5 6.3 17.25 9.95 Q13 13.6 13 20 Z\"\n",
       "        /><glyph unicode=\"1\" horiz-adv-x=\"55.6\" d=\"M35.6 0 L35.6 70.9 L29.1 70.9 Q28.4 66.9 26.5 64.3 Q24.6 61.7 21.85 60.2 Q19.1 58.7 15.7 58.15 Q12.3 57.6 8.7 57.6 L8.7 50.8 L27.1 50.8 L27.1 0 Z\"\n",
       "        /><glyph unicode=\"]\" horiz-adv-x=\"25.9\" d=\"M0 -12.9 L0 -19.7 L18.7 -19.7 L18.7 73.1 L0 73.1 L0 66.3 L10.7 66.3 L10.7 -12.9 Z\"\n",
       "        /><glyph unicode=\"[\" horiz-adv-x=\"25.9\" d=\"M25.9 66.3 L25.9 73.1 L7.2 73.1 L7.2 -19.7 L25.9 -19.7 L25.9 -12.9 L15.2 -12.9 L15.2 66.3 Z\"\n",
       "        /><glyph unicode=\"h\" horiz-adv-x=\"55.6\" d=\"M6.4 71.4 L6.4 0 L14.9 0 L14.9 29.2 Q14.9 32.7 15.85 35.65 Q16.8 38.6 18.7 40.8 Q20.6 43 23.45 44.2 Q26.3 45.4 30.2 45.4 Q35.1 45.4 37.9 42.6 Q40.7 39.8 40.7 35 L40.7 0 L49.2 0 L49.2 34 Q49.2 38.2 48.35 41.65 Q47.5 45.1 45.4 47.6 Q43.3 50.1 39.9 51.5 Q36.5 52.9 31.4 52.9 Q29.1 52.9 26.65 52.4 Q24.2 51.9 21.95 50.85 Q19.7 49.8 17.9 48.15 Q16.1 46.5 15.1 44.1 L14.9 44.1 L14.9 71.4 Z\"\n",
       "        /><glyph unicode=\"n\" horiz-adv-x=\"55.6\" d=\"M6.4 51.7 L6.4 0 L14.9 0 L14.9 29.2 Q14.9 32.7 15.85 35.65 Q16.8 38.6 18.7 40.8 Q20.6 43 23.45 44.2 Q26.3 45.4 30.2 45.4 Q35.1 45.4 37.9 42.6 Q40.7 39.8 40.7 35 L40.7 0 L49.2 0 L49.2 34 Q49.2 38.2 48.35 41.65 Q47.5 45.1 45.4 47.6 Q43.3 50.1 39.9 51.5 Q36.5 52.9 31.4 52.9 Q19.9 52.9 14.6 43.5 L14.4 43.5 L14.4 51.7 Z\"\n",
       "        /><glyph unicode=\"o\" horiz-adv-x=\"57.4\" d=\"M12.6 25.8 Q12.6 30.5 13.85 34.15 Q15.1 37.8 17.3 40.3 Q19.5 42.8 22.45 44.1 Q25.4 45.4 28.7 45.4 Q32 45.4 34.95 44.1 Q37.9 42.8 40.1 40.3 Q42.3 37.8 43.55 34.15 Q44.8 30.5 44.8 25.8 Q44.8 21.1 43.55 17.45 Q42.3 13.8 40.1 11.35 Q37.9 8.9 34.95 7.6 Q32 6.3 28.7 6.3 Q25.4 6.3 22.45 7.6 Q19.5 8.9 17.3 11.35 Q15.1 13.8 13.85 17.45 Q12.6 21.1 12.6 25.8 ZM3.6 25.8 Q3.6 20.1 5.2 15.2 Q6.8 10.3 10 6.65 Q13.2 3 17.9 0.95 Q22.6 -1.1 28.7 -1.1 Q34.9 -1.1 39.55 0.95 Q44.2 3 47.4 6.65 Q50.6 10.3 52.2 15.2 Q53.8 20.1 53.8 25.8 Q53.8 31.5 52.2 36.45 Q50.6 41.4 47.4 45.05 Q44.2 48.7 39.55 50.8 Q34.9 52.9 28.7 52.9 Q22.6 52.9 17.9 50.8 Q13.2 48.7 10 45.05 Q6.8 41.4 5.2 36.45 Q3.6 31.5 3.6 25.8 Z\"\n",
       "        /><glyph unicode=\"r\" horiz-adv-x=\"33.3\" d=\"M6.1 51.7 L6.1 0 L14.6 0 L14.6 23 Q14.6 28 15.6 31.85 Q16.6 35.7 18.8 38.4 Q21 41.1 24.6 42.5 Q28.2 43.9 33.3 43.9 L33.3 52.9 Q26.4 53.1 21.9 50.1 Q17.4 47.1 14.3 40.8 L14.1 40.8 L14.1 51.7 Z\"\n",
       "        /><glyph unicode=\" \" horiz-adv-x=\"27.8\" d=\"\"\n",
       "        /><glyph unicode=\"e\" horiz-adv-x=\"53.7\" d=\"M42.3 30.8 L12.6 30.8 Q12.8 33.8 13.9 36.45 Q15 39.1 16.9 41.1 Q18.8 43.1 21.45 44.25 Q24.1 45.4 27.4 45.4 Q30.6 45.4 33.25 44.25 Q35.9 43.1 37.85 41.15 Q39.8 39.2 40.95 36.5 Q42.1 33.8 42.3 30.8 ZM50.5 16.4 L42.1 16.4 Q41 11.3 37.55 8.8 Q34.1 6.3 28.7 6.3 Q24.5 6.3 21.4 7.7 Q18.3 9.1 16.3 11.45 Q14.3 13.8 13.4 16.85 Q12.5 19.9 12.6 23.3 L51.3 23.3 Q51.5 28 50.45 33.2 Q49.4 38.4 46.65 42.8 Q43.9 47.2 39.35 50.05 Q34.8 52.9 27.9 52.9 Q22.6 52.9 18.15 50.9 Q13.7 48.9 10.45 45.3 Q7.2 41.7 5.4 36.8 Q3.6 31.9 3.6 26 Q3.8 20.1 5.35 15.1 Q6.9 10.1 10 6.5 Q13.1 2.9 17.65 0.9 Q22.2 -1.1 28.4 -1.1 Q37.2 -1.1 43 3.3 Q48.8 7.7 50.5 16.4 Z\"\n",
       "        /><glyph unicode=\"s\" horiz-adv-x=\"50.0\" d=\"M11.6 16.3 L3.1 16.3 Q3.3 11.5 5.1 8.15 Q6.9 4.8 9.9 2.75 Q12.9 0.7 16.8 -0.2 Q20.7 -1.1 25 -1.1 Q28.9 -1.1 32.85 -0.35 Q36.8 0.4 39.95 2.3 Q43.1 4.2 45.05 7.3 Q47 10.4 47 15.1 Q47 18.8 45.55 21.3 Q44.1 23.8 41.75 25.45 Q39.4 27.1 36.35 28.1 Q33.3 29.1 30.1 29.8 Q27.1 30.5 24.1 31.15 Q21.1 31.8 18.7 32.75 Q16.3 33.7 14.75 35.15 Q13.2 36.6 13.2 38.8 Q13.2 40.8 14.2 42.05 Q15.2 43.3 16.8 44.05 Q18.4 44.8 20.35 45.1 Q22.3 45.4 24.2 45.4 Q26.3 45.4 28.35 44.95 Q30.4 44.5 32.1 43.5 Q33.8 42.5 34.9 40.85 Q36 39.2 36.2 36.7 L44.7 36.7 Q44.4 41.4 42.7 44.55 Q41 47.7 38.15 49.55 Q35.3 51.4 31.6 52.15 Q27.9 52.9 23.5 52.9 Q20.1 52.9 16.65 52.05 Q13.2 51.2 10.45 49.45 Q7.7 47.7 5.95 44.9 Q4.2 42.1 4.2 38.2 Q4.2 33.2 6.7 30.4 Q9.2 27.6 12.95 26.05 Q16.7 24.5 21.1 23.65 Q25.5 22.8 29.25 21.75 Q33 20.7 35.5 19 Q38 17.3 38 14 Q38 11.6 36.8 10.05 Q35.6 8.5 33.75 7.7 Q31.9 6.9 29.7 6.6 Q27.5 6.3 25.5 6.3 Q22.9 6.3 20.45 6.8 Q18 7.3 16.05 8.45 Q14.1 9.6 12.9 11.55 Q11.7 13.5 11.6 16.3 Z\"\n",
       "        /><glyph unicode=\"l\" horiz-adv-x=\"22.2\" d=\"M6.9 71.4 L6.9 0 L15.4 0 L15.4 71.4 Z\"\n",
       "        /><glyph unicode=\"u\" horiz-adv-x=\"55.6\" d=\"M49.2 0 L49.2 51.7 L40.7 51.7 L40.7 22.5 Q40.7 19 39.75 16.05 Q38.8 13.1 36.9 10.9 Q35 8.7 32.15 7.5 Q29.3 6.3 25.4 6.3 Q20.5 6.3 17.7 9.1 Q14.9 11.9 14.9 16.7 L14.9 51.7 L6.4 51.7 L6.4 17.7 Q6.4 13.5 7.25 10.05 Q8.1 6.6 10.2 4.1 Q12.3 1.6 15.7 0.25 Q19.1 -1.1 24.2 -1.1 Q29.9 -1.1 34.1 1.15 Q38.3 3.4 41 8.2 L41.2 8.2 L41.2 0 Z\"\n",
       "        /><glyph unicode=\"p\" horiz-adv-x=\"59.3\" d=\"M6.7 51.7 L6.7 -19.7 L15.2 -19.7 L15.2 6.9 L15.4 6.9 Q16.8 4.6 18.85 3.05 Q20.9 1.5 23.2 0.6 Q25.5 -0.3 27.85 -0.7 Q30.2 -1.1 32.1 -1.1 Q38 -1.1 42.45 1 Q46.9 3.1 49.85 6.75 Q52.8 10.4 54.25 15.3 Q55.7 20.2 55.7 25.7 Q55.7 31.2 54.2 36.1 Q52.7 41 49.75 44.75 Q46.8 48.5 42.35 50.7 Q37.9 52.9 31.9 52.9 Q26.5 52.9 22 50.95 Q17.5 49 15.4 44.7 L15.2 44.7 L15.2 51.7 ZM46.7 26.3 Q46.7 22.5 45.9 18.9 Q45.1 15.3 43.3 12.5 Q41.5 9.7 38.55 8 Q35.6 6.3 31.2 6.3 Q26.8 6.3 23.7 7.95 Q20.6 9.6 18.65 12.3 Q16.7 15 15.8 18.55 Q14.9 22.1 14.9 25.9 Q14.9 29.5 15.75 33 Q16.6 36.5 18.5 39.25 Q20.4 42 23.4 43.7 Q26.4 45.4 30.7 45.4 Q34.8 45.4 37.85 43.8 Q40.9 42.2 42.85 39.5 Q44.8 36.8 45.75 33.35 Q46.7 29.9 46.7 26.3 Z\"\n",
       "        /><glyph unicode=\"m\" horiz-adv-x=\"85.3\" d=\"M6.4 51.7 L6.4 0 L14.9 0 L14.9 32.2 Q14.9 33.7 15.65 35.95 Q16.4 38.2 18.05 40.3 Q19.7 42.4 22.35 43.9 Q25 45.4 28.7 45.4 Q31.6 45.4 33.45 44.55 Q35.3 43.7 36.4 42.15 Q37.5 40.6 37.95 38.5 Q38.4 36.4 38.4 33.9 L38.4 0 L46.9 0 L46.9 32.2 Q46.9 38.2 50.5 41.8 Q54.1 45.4 60.4 45.4 Q63.5 45.4 65.45 44.5 Q67.4 43.6 68.5 42.05 Q69.6 40.5 70 38.4 Q70.4 36.3 70.4 33.9 L70.4 0 L78.9 0 L78.9 37.9 Q78.9 41.9 77.65 44.75 Q76.4 47.6 74.15 49.4 Q71.9 51.2 68.75 52.05 Q65.6 52.9 61.7 52.9 Q56.6 52.9 52.35 50.6 Q48.1 48.3 45.5 44.1 Q43.9 48.9 40 50.9 Q36.1 52.9 31.3 52.9 Q20.4 52.9 14.6 44.1 L14.4 44.1 L14.4 51.7 Z\"\n",
       "        /><glyph unicode=\"I\" horiz-adv-x=\"25.9\" d=\"M8.2 71.4 L8.2 0 L17.7 0 L17.7 71.4 Z\"\n",
       "        /><glyph unicode=\"5\" horiz-adv-x=\"55.6\" d=\"M47 62.2 L47 69.7 L12 69.7 L5.4 32.9 L12.7 32.5 Q15.2 35.5 18.45 37.35 Q21.7 39.2 25.9 39.2 Q29.5 39.2 32.45 38 Q35.4 36.8 37.5 34.65 Q39.6 32.5 40.75 29.55 Q41.9 26.6 41.9 23.1 Q41.9 18.9 40.7 15.75 Q39.5 12.6 37.45 10.5 Q35.4 8.4 32.65 7.35 Q29.9 6.3 26.9 6.3 Q23.7 6.3 21.05 7.25 Q18.4 8.2 16.45 9.95 Q14.5 11.7 13.35 14.05 Q12.2 16.4 12 19.1 L3.5 19.1 Q3.6 14.3 5.4 10.5 Q7.2 6.7 10.3 4.15 Q13.4 1.6 17.45 0.25 Q21.5 -1.1 26.1 -1.1 Q32.3 -1.1 36.95 0.85 Q41.6 2.8 44.7 6.1 Q47.8 9.4 49.35 13.65 Q50.9 17.9 50.9 22.4 Q50.9 28.5 49.1 33.05 Q47.3 37.6 44.2 40.65 Q41.1 43.7 36.9 45.2 Q32.7 46.7 28 46.7 Q24.4 46.7 20.75 45.45 Q17.1 44.2 14.8 41.6 L14.6 41.8 L18.4 62.2 Z\"\n",
       "      /></font\n",
       "      ><font horiz-adv-x=\"50.0\" id=\"font2\"\n",
       "      ><font-face ascent=\"97.5\" descent=\"21.699999\" units-per-em=\"100\" style=\"font-style:normal; font-family:Helvetica Neue; font-weight:bold;\"\n",
       "        /><missing-glyph horiz-adv-x=\"50.0\" d=\"M39.1 60.7 L11.1 60.7 L11.1 9.5 L39.1 9.5 ZM48.2 69.8 L48.2 0.3 L1.7 0.3 L1.7 69.8 Z\"\n",
       "        /><glyph unicode=\"2\" horiz-adv-x=\"55.6\" d=\"M3.7 43.1 L17.3 43.1 Q17.3 45.9 17.85 48.75 Q18.4 51.6 19.7 53.95 Q21 56.3 23.15 57.75 Q25.3 59.2 28.4 59.2 Q33 59.2 35.95 56.35 Q38.9 53.5 38.9 48.4 Q38.9 45.2 37.45 42.7 Q36 40.2 33.85 38.2 Q31.7 36.2 29.1 34.55 Q26.5 32.9 24.2 31.3 Q19.7 28.2 15.65 25.2 Q11.6 22.2 8.6 18.65 Q5.6 15.1 3.85 10.6 Q2.1 6.1 2.1 0 L53.5 0 L53.5 12.2 L20.4 12.2 Q23 15.8 26.4 18.5 Q29.8 21.2 33.4 23.55 Q37 25.9 40.55 28.3 Q44.1 30.7 46.9 33.65 Q49.7 36.6 51.4 40.4 Q53.1 44.2 53.1 49.5 Q53.1 54.6 51.15 58.7 Q49.2 62.8 45.9 65.6 Q42.6 68.4 38.25 69.9 Q33.9 71.4 29.1 71.4 Q22.8 71.4 17.95 69.25 Q13.1 67.1 9.9 63.25 Q6.7 59.4 5.1 54.25 Q3.5 49.1 3.7 43.1 Z\"\n",
       "        /><glyph unicode=\"t\" horiz-adv-x=\"35.2\" d=\"M23.4 51.7 L23.4 67.2 L9.2 67.2 L9.2 51.7 L0.6 51.7 L0.6 42.2 L9.2 42.2 L9.2 11.7 Q9.2 7.8 10.5 5.4 Q11.8 3 14.05 1.7 Q16.3 0.4 19.25 -0.05 Q22.2 -0.5 25.5 -0.5 Q27.6 -0.5 29.8 -0.4 Q32 -0.3 33.8 0 L33.8 11 Q32.8 10.8 31.7 10.7 Q30.6 10.6 29.4 10.6 Q25.8 10.6 24.6 11.8 Q23.4 13 23.4 16.6 L23.4 42.2 L33.8 42.2 L33.8 51.7 Z\"\n",
       "        /><glyph unicode=\"r\" horiz-adv-x=\"38.9\" d=\"M5.4 51.7 L5.4 0 L19.6 0 L19.6 23.3 Q19.6 26.8 20.3 29.8 Q21 32.8 22.65 35.05 Q24.3 37.3 27 38.6 Q29.7 39.9 33.6 39.9 Q34.9 39.9 36.3 39.75 Q37.7 39.6 38.7 39.4 L38.7 52.6 Q37 53.1 35.6 53.1 Q32.9 53.1 30.4 52.3 Q27.9 51.5 25.7 50.05 Q23.5 48.6 21.8 46.55 Q20.1 44.5 19.1 42.1 L18.9 42.1 L18.9 51.7 Z\"\n",
       "        /><glyph unicode=\"P\" horiz-adv-x=\"66.7\" d=\"M22.6 37.8 L22.6 59.2 L34.8 59.2 Q37.5 59.2 40 58.8 Q42.5 58.4 44.4 57.25 Q46.3 56.1 47.45 54 Q48.6 51.9 48.6 48.5 Q48.6 45.1 47.45 43 Q46.3 40.9 44.4 39.75 Q42.5 38.6 40 38.2 Q37.5 37.8 34.8 37.8 ZM6.9 71.4 L6.9 0 L22.6 0 L22.6 25.6 L39.1 25.6 Q45.8 25.6 50.5 27.55 Q55.2 29.5 58.15 32.7 Q61.1 35.9 62.45 40.05 Q63.8 44.2 63.8 48.5 Q63.8 52.9 62.45 57 Q61.1 61.1 58.15 64.3 Q55.2 67.5 50.5 69.45 Q45.8 71.4 39.1 71.4 Z\"\n",
       "        /><glyph unicode=\"-\" horiz-adv-x=\"40.7\" d=\"M5.3 33.4 L5.3 21.2 L35.4 21.2 L35.4 33.4 Z\"\n",
       "        /><glyph unicode=\"5\" horiz-adv-x=\"55.6\" d=\"M50 58.3 L50 70 L10.9 70 L4 31.3 L16.8 31.3 Q18.9 34.2 21.3 35.55 Q23.7 36.9 27.5 36.9 Q30.4 36.9 32.6 35.9 Q34.8 34.9 36.4 33.1 Q38 31.3 38.8 28.9 Q39.6 26.5 39.6 23.8 Q39.6 21.2 38.75 18.75 Q37.9 16.3 36.35 14.45 Q34.8 12.6 32.55 11.45 Q30.3 10.3 27.5 10.3 Q22.7 10.3 19.6 13.15 Q16.5 16 16 20.8 L1.8 20.8 Q1.9 15.3 4.05 11.15 Q6.2 7 9.8 4.2 Q13.4 1.4 18.05 0.05 Q22.7 -1.3 27.8 -1.3 Q33.1 -1.4 37.8 0.45 Q42.5 2.3 46.05 5.7 Q49.6 9.1 51.7 13.75 Q53.8 18.4 53.8 23.8 Q53.8 28.7 52.35 33.05 Q50.9 37.4 48.15 40.6 Q45.4 43.8 41.4 45.7 Q37.4 47.6 32.2 47.6 Q28 47.6 24.7 46.35 Q21.4 45.1 18.5 42.2 L18.3 42.4 L21.1 58.3 Z\"\n",
       "        /><glyph unicode=\" \" horiz-adv-x=\"27.8\" d=\"\"\n",
       "        /><glyph unicode=\"e\" horiz-adv-x=\"57.4\" d=\"M40.2 31.4 L17.1 31.4 Q17.2 32.9 17.75 34.8 Q18.3 36.7 19.65 38.4 Q21 40.1 23.25 41.25 Q25.5 42.4 28.9 42.4 Q34.1 42.4 36.65 39.6 Q39.2 36.8 40.2 31.4 ZM17.1 22.4 L54.4 22.4 Q54.8 28.4 53.4 33.9 Q52 39.4 48.85 43.7 Q45.7 48 40.8 50.55 Q35.9 53.1 29.3 53.1 Q23.4 53.1 18.55 51 Q13.7 48.9 10.2 45.25 Q6.7 41.6 4.8 36.6 Q2.9 31.6 2.9 25.8 Q2.9 19.8 4.75 14.8 Q6.6 9.8 10 6.2 Q13.4 2.6 18.3 0.65 Q23.2 -1.3 29.3 -1.3 Q38.1 -1.3 44.3 2.7 Q50.5 6.7 53.5 16 L41 16 Q40.3 13.6 37.2 11.45 Q34.1 9.3 29.8 9.3 Q23.8 9.3 20.6 12.4 Q17.4 15.5 17.1 22.4 Z\"\n",
       "        /><glyph unicode=\"l\" horiz-adv-x=\"25.8\" d=\"M5.8 71.4 L5.8 0 L20 0 L20 71.4 Z\"\n",
       "        /><glyph unicode=\"p\" horiz-adv-x=\"61.1\" d=\"M31.5 9.3 Q28.1 9.3 25.7 10.7 Q23.3 12.1 21.85 14.35 Q20.4 16.6 19.75 19.6 Q19.1 22.6 19.1 25.7 Q19.1 28.9 19.7 31.9 Q20.3 34.9 21.75 37.2 Q23.2 39.5 25.55 40.95 Q27.9 42.4 31.4 42.4 Q34.8 42.4 37.15 40.95 Q39.5 39.5 41 37.15 Q42.5 34.8 43.15 31.8 Q43.8 28.8 43.8 25.7 Q43.8 22.6 43.2 19.6 Q42.6 16.6 41.15 14.35 Q39.7 12.1 37.35 10.7 Q35 9.3 31.5 9.3 ZM5.4 51.7 L5.4 -18.1 L19.6 -18.1 L19.6 6.4 L19.8 6.4 Q22.4 2.6 26.45 0.65 Q30.5 -1.3 35.3 -1.3 Q41 -1.3 45.25 0.9 Q49.5 3.1 52.35 6.8 Q55.2 10.5 56.6 15.3 Q58 20.1 58 25.3 Q58 30.8 56.6 35.85 Q55.2 40.9 52.3 44.7 Q49.4 48.5 45 50.8 Q40.6 53.1 34.5 53.1 Q29.7 53.1 25.7 51.2 Q21.7 49.3 19.1 45.1 L18.9 45.1 L18.9 51.7 Z\"\n",
       "        /><glyph unicode=\"m\" horiz-adv-x=\"90.6\" d=\"M5.8 51.7 L5.8 0 L20 0 L20 30 Q20 33.8 21.1 36.15 Q22.2 38.5 23.75 39.75 Q25.3 41 26.95 41.45 Q28.6 41.9 29.6 41.9 Q33 41.9 34.75 40.75 Q36.5 39.6 37.25 37.7 Q38 35.8 38.1 33.55 Q38.2 31.3 38.2 29 L38.2 0 L52.4 0 L52.4 28.8 Q52.4 31.2 52.75 33.55 Q53.1 35.9 54.15 37.75 Q55.2 39.6 57.05 40.75 Q58.9 41.9 61.9 41.9 Q64.9 41.9 66.65 40.9 Q68.4 39.9 69.3 38.2 Q70.2 36.5 70.4 34.2 Q70.6 31.9 70.6 29.3 L70.6 0 L84.8 0 L84.8 34.6 Q84.8 39.6 83.4 43.15 Q82 46.7 79.5 48.9 Q77 51.1 73.5 52.1 Q70 53.1 65.9 53.1 Q60.5 53.1 56.55 50.5 Q52.6 47.9 50.3 44.5 Q48.2 49.3 44.15 51.2 Q40.1 53.1 35.2 53.1 Q30.1 53.1 26.15 50.9 Q22.2 48.7 19.4 44.7 L19.2 44.7 L19.2 51.7 Z\"\n",
       "        /><glyph unicode=\"a\" horiz-adv-x=\"57.4\" d=\"M4.8 35.8 Q5.1 40.8 7.3 44.1 Q9.5 47.4 12.9 49.4 Q16.3 51.4 20.55 52.25 Q24.8 53.1 29.1 53.1 Q33 53.1 37 52.55 Q41 52 44.3 50.4 Q47.6 48.8 49.7 45.95 Q51.8 43.1 51.8 38.4 L51.8 11.5 Q51.8 8 52.2 4.8 Q52.6 1.6 53.6 0 L39.2 0 Q38.8 1.2 38.55 2.45 Q38.3 3.7 38.2 5 Q34.8 1.5 30.2 0.1 Q25.6 -1.3 20.8 -1.3 Q17.1 -1.3 13.9 -0.4 Q10.7 0.5 8.3 2.4 Q5.9 4.3 4.55 7.2 Q3.2 10.1 3.2 14.1 Q3.2 18.5 4.75 21.35 Q6.3 24.2 8.75 25.9 Q11.2 27.6 14.35 28.45 Q17.5 29.3 20.7 29.8 Q23.9 30.3 27 30.6 Q30.1 30.9 32.5 31.5 Q34.9 32.1 36.3 33.25 Q37.7 34.4 37.6 36.6 Q37.6 38.9 36.85 40.25 Q36.1 41.6 34.85 42.35 Q33.6 43.1 31.95 43.35 Q30.3 43.6 28.4 43.6 Q24.2 43.6 21.8 41.8 Q19.4 40 19 35.8 ZM37.6 25.3 Q36.7 24.5 35.35 24.05 Q34 23.6 32.45 23.3 Q30.9 23 29.2 22.8 Q27.5 22.6 25.8 22.3 Q24.2 22 22.65 21.5 Q21.1 21 19.95 20.15 Q18.8 19.3 18.1 18 Q17.4 16.7 17.4 14.7 Q17.4 12.8 18.1 11.5 Q18.8 10.2 20 9.45 Q21.2 8.7 22.8 8.4 Q24.4 8.1 26.1 8.1 Q30.3 8.1 32.6 9.5 Q34.9 10.9 36 12.85 Q37.1 14.8 37.35 16.8 Q37.6 18.8 37.6 20 Z\"\n",
       "        /><glyph unicode=\"x\" horiz-adv-x=\"53.7\" d=\"M18.6 27.2 L0 0 L15.9 0 L26.7 16.3 L37.5 0 L53.7 0 L34.6 27.5 L51.6 51.7 L35.9 51.7 L26.9 38.2 L17.8 51.7 L1.6 51.7 Z\"\n",
       "        /><glyph unicode=\"E\" horiz-adv-x=\"64.8\" d=\"M6.9 71.4 L6.9 0 L61.1 0 L61.1 13.2 L22.6 13.2 L22.6 30.7 L57.2 30.7 L57.2 42.9 L22.6 42.9 L22.6 58.2 L60.3 58.2 L60.3 71.4 Z\"\n",
       "      /></font\n",
       "    ></defs\n",
       "    ><g style=\"fill:white; stroke:white;\"\n",
       "    ><rect x=\"0\" y=\"0\" width=\"560\" style=\"clip-path:url(#clipPath1); stroke:none;\" height=\"420\"\n",
       "    /></g\n",
       "    ><g style=\"fill:white; text-rendering:optimizeSpeed; color-rendering:optimizeSpeed; image-rendering:optimizeSpeed; shape-rendering:crispEdges; stroke:white; color-interpolation:sRGB;\"\n",
       "    ><rect x=\"0\" width=\"560\" height=\"420\" y=\"0\" style=\"stroke:none;\"\n",
       "      /><path style=\"stroke:none;\" d=\"M73 374 L507 374 L507 31.5 L73 31.5 Z\"\n",
       "    /></g\n",
       "    ><g style=\"stroke-linecap:butt; fill-opacity:0.149; fill:rgb(38,38,38); text-rendering:geometricPrecision; image-rendering:optimizeQuality; color-rendering:optimizeQuality; stroke-linejoin:round; stroke:rgb(38,38,38); color-interpolation:linearRGB; stroke-width:0.5; stroke-opacity:0.149;\"\n",
       "    ><line y2=\"31.5\" style=\"fill:none;\" x1=\"73\" x2=\"73\" y1=\"374\"\n",
       "      /><line y2=\"31.5\" style=\"fill:none;\" x1=\"217.6667\" x2=\"217.6667\" y1=\"374\"\n",
       "      /><line y2=\"31.5\" style=\"fill:none;\" x1=\"362.3333\" x2=\"362.3333\" y1=\"374\"\n",
       "      /><line y2=\"31.5\" style=\"fill:none;\" x1=\"507\" x2=\"507\" y1=\"374\"\n",
       "      /><line y2=\"374\" style=\"fill:none;\" x1=\"507\" x2=\"73\" y1=\"374\"\n",
       "      /><line y2=\"335.9445\" style=\"fill:none;\" x1=\"507\" x2=\"73\" y1=\"335.9445\"\n",
       "      /><line y2=\"297.8889\" style=\"fill:none;\" x1=\"507\" x2=\"73\" y1=\"297.8889\"\n",
       "      /><line y2=\"259.8333\" style=\"fill:none;\" x1=\"507\" x2=\"73\" y1=\"259.8333\"\n",
       "      /><line y2=\"221.7778\" style=\"fill:none;\" x1=\"507\" x2=\"73\" y1=\"221.7778\"\n",
       "      /><line y2=\"183.7222\" style=\"fill:none;\" x1=\"507\" x2=\"73\" y1=\"183.7222\"\n",
       "      /><line y2=\"145.6667\" style=\"fill:none;\" x1=\"507\" x2=\"73\" y1=\"145.6667\"\n",
       "      /><line y2=\"107.6111\" style=\"fill:none;\" x1=\"507\" x2=\"73\" y1=\"107.6111\"\n",
       "      /><line y2=\"69.5556\" style=\"fill:none;\" x1=\"507\" x2=\"73\" y1=\"69.5556\"\n",
       "      /><line y2=\"31.5\" style=\"fill:none;\" x1=\"507\" x2=\"73\" y1=\"31.5\"\n",
       "      /><line x1=\"73\" x2=\"73\" y1=\"374\" style=\"stroke-linecap:square; fill-opacity:1; fill:none; stroke-opacity:1;\" y2=\"31.5\"\n",
       "      /><line x1=\"507\" x2=\"507\" y1=\"374\" style=\"stroke-linecap:square; fill-opacity:1; fill:none; stroke-opacity:1;\" y2=\"31.5\"\n",
       "      /><line x1=\"73\" x2=\"77.34\" y1=\"374\" style=\"stroke-linecap:square; fill-opacity:1; fill:none; stroke-opacity:1;\" y2=\"374\"\n",
       "      /><line x1=\"73\" x2=\"77.34\" y1=\"335.9445\" style=\"stroke-linecap:square; fill-opacity:1; fill:none; stroke-opacity:1;\" y2=\"335.9445\"\n",
       "      /><line x1=\"73\" x2=\"77.34\" y1=\"297.8889\" style=\"stroke-linecap:square; fill-opacity:1; fill:none; stroke-opacity:1;\" y2=\"297.8889\"\n",
       "      /><line x1=\"73\" x2=\"77.34\" y1=\"259.8333\" style=\"stroke-linecap:square; fill-opacity:1; fill:none; stroke-opacity:1;\" y2=\"259.8333\"\n",
       "      /><line x1=\"73\" x2=\"77.34\" y1=\"221.7778\" style=\"stroke-linecap:square; fill-opacity:1; fill:none; stroke-opacity:1;\" y2=\"221.7778\"\n",
       "      /><line x1=\"73\" x2=\"77.34\" y1=\"183.7222\" style=\"stroke-linecap:square; fill-opacity:1; fill:none; stroke-opacity:1;\" y2=\"183.7222\"\n",
       "      /><line x1=\"73\" x2=\"77.34\" y1=\"145.6667\" style=\"stroke-linecap:square; fill-opacity:1; fill:none; stroke-opacity:1;\" y2=\"145.6667\"\n",
       "      /><line x1=\"73\" x2=\"77.34\" y1=\"107.6111\" style=\"stroke-linecap:square; fill-opacity:1; fill:none; stroke-opacity:1;\" y2=\"107.6111\"\n",
       "      /><line x1=\"73\" x2=\"77.34\" y1=\"69.5556\" style=\"stroke-linecap:square; fill-opacity:1; fill:none; stroke-opacity:1;\" y2=\"69.5556\"\n",
       "      /><line x1=\"73\" x2=\"77.34\" y1=\"31.5\" style=\"stroke-linecap:square; fill-opacity:1; fill:none; stroke-opacity:1;\" y2=\"31.5\"\n",
       "      /><line x1=\"507\" x2=\"502.66\" y1=\"374\" style=\"stroke-linecap:square; fill-opacity:1; fill:none; stroke-opacity:1;\" y2=\"374\"\n",
       "      /><line x1=\"507\" x2=\"502.66\" y1=\"335.9445\" style=\"stroke-linecap:square; fill-opacity:1; fill:none; stroke-opacity:1;\" y2=\"335.9445\"\n",
       "      /><line x1=\"507\" x2=\"502.66\" y1=\"297.8889\" style=\"stroke-linecap:square; fill-opacity:1; fill:none; stroke-opacity:1;\" y2=\"297.8889\"\n",
       "      /><line x1=\"507\" x2=\"502.66\" y1=\"259.8333\" style=\"stroke-linecap:square; fill-opacity:1; fill:none; stroke-opacity:1;\" y2=\"259.8333\"\n",
       "      /><line x1=\"507\" x2=\"502.66\" y1=\"221.7778\" style=\"stroke-linecap:square; fill-opacity:1; fill:none; stroke-opacity:1;\" y2=\"221.7778\"\n",
       "      /><line x1=\"507\" x2=\"502.66\" y1=\"183.7222\" style=\"stroke-linecap:square; fill-opacity:1; fill:none; stroke-opacity:1;\" y2=\"183.7222\"\n",
       "      /><line x1=\"507\" x2=\"502.66\" y1=\"145.6667\" style=\"stroke-linecap:square; fill-opacity:1; fill:none; stroke-opacity:1;\" y2=\"145.6667\"\n",
       "      /><line x1=\"507\" x2=\"502.66\" y1=\"107.6111\" style=\"stroke-linecap:square; fill-opacity:1; fill:none; stroke-opacity:1;\" y2=\"107.6111\"\n",
       "      /><line x1=\"507\" x2=\"502.66\" y1=\"69.5556\" style=\"stroke-linecap:square; fill-opacity:1; fill:none; stroke-opacity:1;\" y2=\"69.5556\"\n",
       "      /><line x1=\"507\" x2=\"502.66\" y1=\"31.5\" style=\"stroke-linecap:square; fill-opacity:1; fill:none; stroke-opacity:1;\" y2=\"31.5\"\n",
       "    /></g\n",
       "    ><g transform=\"translate(69,374)\" style=\"font-size:10px; fill:rgb(38,38,38); text-rendering:geometricPrecision; image-rendering:optimizeQuality; color-rendering:optimizeQuality; font-family:'Helvetica Neue'; stroke:rgb(38,38,38); color-interpolation:linearRGB;\"\n",
       "    ><text x=\"-18\" xml:space=\"preserve\" y=\"3.5\" style=\"stroke:none;\"\n",
       "      >-0.2</text\n",
       "    ></g\n",
       "    ><g transform=\"translate(69,335.9445)\" style=\"font-size:10px; fill:rgb(38,38,38); text-rendering:geometricPrecision; image-rendering:optimizeQuality; color-rendering:optimizeQuality; font-family:'Helvetica Neue'; stroke:rgb(38,38,38); color-interpolation:linearRGB;\"\n",
       "    ><text x=\"-6\" xml:space=\"preserve\" y=\"3.5\" style=\"stroke:none;\"\n",
       "      >0</text\n",
       "    ></g\n",
       "    ><g transform=\"translate(69,297.8889)\" style=\"font-size:10px; fill:rgb(38,38,38); text-rendering:geometricPrecision; image-rendering:optimizeQuality; color-rendering:optimizeQuality; font-family:'Helvetica Neue'; stroke:rgb(38,38,38); color-interpolation:linearRGB;\"\n",
       "    ><text x=\"-14\" xml:space=\"preserve\" y=\"3.5\" style=\"stroke:none;\"\n",
       "      >0.2</text\n",
       "    ></g\n",
       "    ><g transform=\"translate(69,259.8333)\" style=\"font-size:10px; fill:rgb(38,38,38); text-rendering:geometricPrecision; image-rendering:optimizeQuality; color-rendering:optimizeQuality; font-family:'Helvetica Neue'; stroke:rgb(38,38,38); color-interpolation:linearRGB;\"\n",
       "    ><text x=\"-14\" xml:space=\"preserve\" y=\"3.5\" style=\"stroke:none;\"\n",
       "      >0.4</text\n",
       "    ></g\n",
       "    ><g transform=\"translate(69,221.7778)\" style=\"font-size:10px; fill:rgb(38,38,38); text-rendering:geometricPrecision; image-rendering:optimizeQuality; color-rendering:optimizeQuality; font-family:'Helvetica Neue'; stroke:rgb(38,38,38); color-interpolation:linearRGB;\"\n",
       "    ><text x=\"-14\" xml:space=\"preserve\" y=\"3.5\" style=\"stroke:none;\"\n",
       "      >0.6</text\n",
       "    ></g\n",
       "    ><g transform=\"translate(69,183.7222)\" style=\"font-size:10px; fill:rgb(38,38,38); text-rendering:geometricPrecision; image-rendering:optimizeQuality; color-rendering:optimizeQuality; font-family:'Helvetica Neue'; stroke:rgb(38,38,38); color-interpolation:linearRGB;\"\n",
       "    ><text x=\"-14\" xml:space=\"preserve\" y=\"3.5\" style=\"stroke:none;\"\n",
       "      >0.8</text\n",
       "    ></g\n",
       "    ><g transform=\"translate(69,145.6667)\" style=\"font-size:10px; fill:rgb(38,38,38); text-rendering:geometricPrecision; image-rendering:optimizeQuality; color-rendering:optimizeQuality; font-family:'Helvetica Neue'; stroke:rgb(38,38,38); color-interpolation:linearRGB;\"\n",
       "    ><text x=\"-6\" xml:space=\"preserve\" y=\"3.5\" style=\"stroke:none;\"\n",
       "      >1</text\n",
       "    ></g\n",
       "    ><g transform=\"translate(69,107.6111)\" style=\"font-size:10px; fill:rgb(38,38,38); text-rendering:geometricPrecision; image-rendering:optimizeQuality; color-rendering:optimizeQuality; font-family:'Helvetica Neue'; stroke:rgb(38,38,38); color-interpolation:linearRGB;\"\n",
       "    ><text x=\"-14\" xml:space=\"preserve\" y=\"3.5\" style=\"stroke:none;\"\n",
       "      >1.2</text\n",
       "    ></g\n",
       "    ><g transform=\"translate(69,69.5556)\" style=\"font-size:10px; fill:rgb(38,38,38); text-rendering:geometricPrecision; image-rendering:optimizeQuality; color-rendering:optimizeQuality; font-family:'Helvetica Neue'; stroke:rgb(38,38,38); color-interpolation:linearRGB;\"\n",
       "    ><text x=\"-14\" xml:space=\"preserve\" y=\"3.5\" style=\"stroke:none;\"\n",
       "      >1.4</text\n",
       "    ></g\n",
       "    ><g transform=\"translate(69,31.5)\" style=\"font-size:10px; fill:rgb(38,38,38); text-rendering:geometricPrecision; image-rendering:optimizeQuality; color-rendering:optimizeQuality; font-family:'Helvetica Neue'; stroke:rgb(38,38,38); color-interpolation:linearRGB;\"\n",
       "    ><text x=\"-14\" xml:space=\"preserve\" y=\"3.5\" style=\"stroke:none;\"\n",
       "      >1.6</text\n",
       "    ></g\n",
       "    ><g transform=\"translate(48,202.7498) rotate(-90)\" style=\"font-size:11px; fill:rgb(38,38,38); text-rendering:geometricPrecision; image-rendering:optimizeQuality; color-rendering:optimizeQuality; font-family:'Helvetica Neue'; stroke:rgb(38,38,38); color-interpolation:linearRGB;\"\n",
       "    ><text x=\"-54.5\" xml:space=\"preserve\" y=\"-3\" style=\"stroke:none;\"\n",
       "      >Impulse response h[n]</text\n",
       "    ></g\n",
       "    ><g transform=\"translate(290.0003,30.125)\" style=\"font-size:11px; text-rendering:geometricPrecision; image-rendering:optimizeQuality; color-rendering:optimizeQuality; font-family:'Helvetica Neue'; color-interpolation:linearRGB; font-weight:bold;\"\n",
       "    ><text x=\"-48\" xml:space=\"preserve\" y=\"-3\" style=\"stroke:none;\"\n",
       "      >Example 5 - Part 2</text\n",
       "    ></g\n",
       "    ><g style=\"stroke-linecap:butt; fill:rgb(38,38,38); text-rendering:geometricPrecision; image-rendering:optimizeQuality; color-rendering:optimizeQuality; stroke-linejoin:round; stroke:rgb(38,38,38); color-interpolation:linearRGB; stroke-width:0.5;\"\n",
       "    ><line y2=\"335.9445\" style=\"fill:none;\" x1=\"73\" x2=\"507\" y1=\"335.9445\"\n",
       "      /><path d=\"M0 -2.75 C1.5188 -2.75 2.75 -1.5188 2.75 0 L2.75 0 C2.75 1.5188 1.5188 2.75 -0 2.75 C-1.5188 2.75 -2.75 1.5188 -2.75 -0 C-2.75 -1.5188 -1.5188 -2.75 0 -2.75 ZM0 -3.25 C-1.7949 -3.25 -3.25 -1.7949 -3.25 -0 C-3.25 1.7949 -1.7949 3.25 -0 3.25 C1.7949 3.25 3.25 1.7949 3.25 0 L3.25 0 C3.25 -1.7949 1.7949 -3.25 0 -3.25 Z\" style=\"fill:rgb(0,114,189); stroke:none;\" transform=\"translate(73,145.6667)\"\n",
       "      /><path d=\"M0 -2.75 C1.5188 -2.75 2.75 -1.5188 2.75 0 L2.75 0 C2.75 1.5188 1.5188 2.75 -0 2.75 C-1.5188 2.75 -2.75 1.5188 -2.75 -0 C-2.75 -1.5188 -1.5188 -2.75 0 -2.75 ZM0 -3.25 C-1.7949 -3.25 -3.25 -1.7949 -3.25 -0 C-3.25 1.7949 -1.7949 3.25 -0 3.25 C1.7949 3.25 3.25 1.7949 3.25 0 L3.25 0 C3.25 -1.7949 1.7949 -3.25 0 -3.25 Z\" style=\"fill:rgb(0,114,189); stroke:none;\" transform=\"translate(101.9333,50.5278)\"\n",
       "      /><path d=\"M0 -2.75 C1.5188 -2.75 2.75 -1.5188 2.75 0 L2.75 0 C2.75 1.5188 1.5188 2.75 -0 2.75 C-1.5188 2.75 -2.75 1.5188 -2.75 -0 C-2.75 -1.5188 -1.5188 -2.75 0 -2.75 ZM0 -3.25 C-1.7949 -3.25 -3.25 -1.7949 -3.25 -0 C-3.25 1.7949 -1.7949 3.25 -0 3.25 C1.7949 3.25 3.25 1.7949 3.25 0 L3.25 0 C3.25 -1.7949 1.7949 -3.25 0 -3.25 Z\" style=\"fill:rgb(0,114,189); stroke:none;\" transform=\"translate(130.8667,217.0208)\"\n",
       "      /><path d=\"M0 -2.75 C1.5188 -2.75 2.75 -1.5188 2.75 0 L2.75 0 C2.75 1.5188 1.5188 2.75 -0 2.75 C-1.5188 2.75 -2.75 1.5188 -2.75 -0 C-2.75 -1.5188 -1.5188 -2.75 0 -2.75 ZM0 -3.25 C-1.7949 -3.25 -3.25 -1.7949 -3.25 -0 C-3.25 1.7949 -1.7949 3.25 -0 3.25 C1.7949 3.25 3.25 1.7949 3.25 0 L3.25 0 C3.25 -1.7949 1.7949 -3.25 0 -3.25 Z\" style=\"fill:rgb(0,114,189); stroke:none;\" transform=\"translate(159.8,312.1597)\"\n",
       "      /><path d=\"M0 -2.75 C1.5188 -2.75 2.75 -1.5188 2.75 0 L2.75 0 C2.75 1.5188 1.5188 2.75 -0 2.75 C-1.5188 2.75 -2.75 1.5188 -2.75 -0 C-2.75 -1.5188 -1.5188 -2.75 0 -2.75 ZM0 -3.25 C-1.7949 -3.25 -3.25 -1.7949 -3.25 -0 C-3.25 1.7949 -1.7949 3.25 -0 3.25 C1.7949 3.25 3.25 1.7949 3.25 0 L3.25 0 C3.25 -1.7949 1.7949 -3.25 0 -3.25 Z\" style=\"fill:rgb(0,114,189); stroke:none;\" transform=\"translate(188.7333,338.9175)\"\n",
       "      /><path d=\"M0 -2.75 C1.5188 -2.75 2.75 -1.5188 2.75 0 L2.75 0 C2.75 1.5188 1.5188 2.75 -0 2.75 C-1.5188 2.75 -2.75 1.5188 -2.75 -0 C-2.75 -1.5188 -1.5188 -2.75 0 -2.75 ZM0 -3.25 C-1.7949 -3.25 -3.25 -1.7949 -3.25 -0 C-3.25 1.7949 -1.7949 3.25 -0 3.25 C1.7949 3.25 3.25 1.7949 3.25 0 L3.25 0 C3.25 -1.7949 1.7949 -3.25 0 -3.25 Z\" style=\"fill:rgb(0,114,189); stroke:none;\" transform=\"translate(217.6667,340.4041)\"\n",
       "      /><path d=\"M0 -2.75 C1.5188 -2.75 2.75 -1.5188 2.75 0 L2.75 0 C2.75 1.5188 1.5188 2.75 -0 2.75 C-1.5188 2.75 -2.75 1.5188 -2.75 -0 C-2.75 -1.5188 -1.5188 -2.75 0 -2.75 ZM0 -3.25 C-1.7949 -3.25 -3.25 -1.7949 -3.25 -0 C-3.25 1.7949 -1.7949 3.25 -0 3.25 C1.7949 3.25 3.25 1.7949 3.25 0 L3.25 0 C3.25 -1.7949 1.7949 -3.25 0 -3.25 Z\" style=\"fill:rgb(0,114,189); stroke:none;\" transform=\"translate(246.6,337.8026)\"\n",
       "      /><path d=\"M0 -2.75 C1.5188 -2.75 2.75 -1.5188 2.75 0 L2.75 0 C2.75 1.5188 1.5188 2.75 -0 2.75 C-1.5188 2.75 -2.75 1.5188 -2.75 -0 C-2.75 -1.5188 -1.5188 -2.75 0 -2.75 ZM0 -3.25 C-1.7949 -3.25 -3.25 -1.7949 -3.25 -0 C-3.25 1.7949 -1.7949 3.25 -0 3.25 C1.7949 3.25 3.25 1.7949 3.25 0 L3.25 0 C3.25 -1.7949 1.7949 -3.25 0 -3.25 Z\" style=\"fill:rgb(0,114,189); stroke:none;\" transform=\"translate(275.5333,336.3161)\"\n",
       "      /><path d=\"M0 -2.75 C1.5188 -2.75 2.75 -1.5188 2.75 0 L2.75 0 C2.75 1.5188 1.5188 2.75 -0 2.75 C-1.5188 2.75 -2.75 1.5188 -2.75 -0 C-2.75 -1.5188 -1.5188 -2.75 0 -2.75 ZM0 -3.25 C-1.7949 -3.25 -3.25 -1.7949 -3.25 -0 C-3.25 1.7949 -1.7949 3.25 -0 3.25 C1.7949 3.25 3.25 1.7949 3.25 0 L3.25 0 C3.25 -1.7949 1.7949 -3.25 0 -3.25 Z\" style=\"fill:rgb(0,114,189); stroke:none;\" transform=\"translate(304.4667,335.898)\"\n",
       "      /><path d=\"M0 -2.75 C1.5188 -2.75 2.75 -1.5188 2.75 0 L2.75 0 C2.75 1.5188 1.5188 2.75 -0 2.75 C-1.5188 2.75 -2.75 1.5188 -2.75 -0 C-2.75 -1.5188 -1.5188 -2.75 0 -2.75 ZM0 -3.25 C-1.7949 -3.25 -3.25 -1.7949 -3.25 -0 C-3.25 1.7949 -1.7949 3.25 -0 3.25 C1.7949 3.25 3.25 1.7949 3.25 0 L3.25 0 C3.25 -1.7949 1.7949 -3.25 0 -3.25 Z\" style=\"fill:rgb(0,114,189); stroke:none;\" transform=\"translate(333.4,335.8748)\"\n",
       "      /><path d=\"M0 -2.75 C1.5188 -2.75 2.75 -1.5188 2.75 0 L2.75 0 C2.75 1.5188 1.5188 2.75 -0 2.75 C-1.5188 2.75 -2.75 1.5188 -2.75 -0 C-2.75 -1.5188 -1.5188 -2.75 0 -2.75 ZM0 -3.25 C-1.7949 -3.25 -3.25 -1.7949 -3.25 -0 C-3.25 1.7949 -1.7949 3.25 -0 3.25 C1.7949 3.25 3.25 1.7949 3.25 0 L3.25 0 C3.25 -1.7949 1.7949 -3.25 0 -3.25 Z\" style=\"fill:rgb(0,114,189); stroke:none;\" transform=\"translate(362.3333,335.9154)\"\n",
       "      /><path d=\"M0 -2.75 C1.5188 -2.75 2.75 -1.5188 2.75 0 L2.75 0 C2.75 1.5188 1.5188 2.75 -0 2.75 C-1.5188 2.75 -2.75 1.5188 -2.75 -0 C-2.75 -1.5188 -1.5188 -2.75 0 -2.75 ZM0 -3.25 C-1.7949 -3.25 -3.25 -1.7949 -3.25 -0 C-3.25 1.7949 -1.7949 3.25 -0 3.25 C1.7949 3.25 3.25 1.7949 3.25 0 L3.25 0 C3.25 -1.7949 1.7949 -3.25 0 -3.25 Z\" style=\"fill:rgb(0,114,189); stroke:none;\" transform=\"translate(391.2667,335.9386)\"\n",
       "      /><path d=\"M0 -2.75 C1.5188 -2.75 2.75 -1.5188 2.75 0 L2.75 0 C2.75 1.5188 1.5188 2.75 -0 2.75 C-1.5188 2.75 -2.75 1.5188 -2.75 -0 C-2.75 -1.5188 -1.5188 -2.75 0 -2.75 ZM0 -3.25 C-1.7949 -3.25 -3.25 -1.7949 -3.25 -0 C-3.25 1.7949 -1.7949 3.25 -0 3.25 C1.7949 3.25 3.25 1.7949 3.25 0 L3.25 0 C3.25 -1.7949 1.7949 -3.25 0 -3.25 Z\" style=\"fill:rgb(0,114,189); stroke:none;\" transform=\"translate(420.2,335.9452)\"\n",
       "      /><path d=\"M0 -2.75 C1.5188 -2.75 2.75 -1.5188 2.75 0 L2.75 0 C2.75 1.5188 1.5188 2.75 -0 2.75 C-1.5188 2.75 -2.75 1.5188 -2.75 -0 C-2.75 -1.5188 -1.5188 -2.75 0 -2.75 ZM0 -3.25 C-1.7949 -3.25 -3.25 -1.7949 -3.25 -0 C-3.25 1.7949 -1.7949 3.25 -0 3.25 C1.7949 3.25 3.25 1.7949 3.25 0 L3.25 0 C3.25 -1.7949 1.7949 -3.25 0 -3.25 Z\" style=\"fill:rgb(0,114,189); stroke:none;\" transform=\"translate(449.1333,335.9455)\"\n",
       "      /><path d=\"M0 -2.75 C1.5188 -2.75 2.75 -1.5188 2.75 0 L2.75 0 C2.75 1.5188 1.5188 2.75 -0 2.75 C-1.5188 2.75 -2.75 1.5188 -2.75 -0 C-2.75 -1.5188 -1.5188 -2.75 0 -2.75 ZM0 -3.25 C-1.7949 -3.25 -3.25 -1.7949 -3.25 -0 C-3.25 1.7949 -1.7949 3.25 -0 3.25 C1.7949 3.25 3.25 1.7949 3.25 0 L3.25 0 C3.25 -1.7949 1.7949 -3.25 0 -3.25 Z\" style=\"fill:rgb(0,114,189); stroke:none;\" transform=\"translate(478.0667,335.9449)\"\n",
       "      /><path d=\"M0 -2.75 C1.5188 -2.75 2.75 -1.5188 2.75 0 L2.75 0 C2.75 1.5188 1.5188 2.75 -0 2.75 C-1.5188 2.75 -2.75 1.5188 -2.75 -0 C-2.75 -1.5188 -1.5188 -2.75 0 -2.75 ZM0 -3.25 C-1.7949 -3.25 -3.25 -1.7949 -3.25 -0 C-3.25 1.7949 -1.7949 3.25 -0 3.25 C1.7949 3.25 3.25 1.7949 3.25 0 L3.25 0 C3.25 -1.7949 1.7949 -3.25 0 -3.25 Z\" style=\"fill:rgb(0,114,189); stroke:none;\" transform=\"translate(507,335.9445)\"\n",
       "      /><line x1=\"73\" x2=\"73\" y1=\"335.9445\" style=\"fill:none; stroke:rgb(0,114,189);\" y2=\"145.6667\"\n",
       "      /><line x1=\"101.9333\" x2=\"101.9333\" y1=\"335.9445\" style=\"fill:none; stroke:rgb(0,114,189);\" y2=\"50.5278\"\n",
       "      /><line x1=\"130.8667\" x2=\"130.8667\" y1=\"335.9445\" style=\"fill:none; stroke:rgb(0,114,189);\" y2=\"217.0208\"\n",
       "      /><line x1=\"159.8\" x2=\"159.8\" y1=\"335.9445\" style=\"fill:none; stroke:rgb(0,114,189);\" y2=\"312.1597\"\n",
       "      /><line x1=\"188.7333\" x2=\"188.7333\" y1=\"335.9445\" style=\"fill:none; stroke:rgb(0,114,189);\" y2=\"338.9175\"\n",
       "      /><line x1=\"217.6667\" x2=\"217.6667\" y1=\"335.9445\" style=\"fill:none; stroke:rgb(0,114,189);\" y2=\"340.4041\"\n",
       "      /><line x1=\"246.6\" x2=\"246.6\" y1=\"335.9445\" style=\"fill:none; stroke:rgb(0,114,189);\" y2=\"337.8026\"\n",
       "      /><line x1=\"275.5333\" x2=\"275.5333\" y1=\"335.9445\" style=\"fill:none; stroke:rgb(0,114,189);\" y2=\"336.3161\"\n",
       "      /><line x1=\"304.4667\" x2=\"304.4667\" y1=\"335.9445\" style=\"fill:none; stroke:rgb(0,114,189);\" y2=\"335.898\"\n",
       "      /><line x1=\"333.4\" x2=\"333.4\" y1=\"335.9445\" style=\"fill:none; stroke:rgb(0,114,189);\" y2=\"335.8748\"\n",
       "      /><line x1=\"362.3333\" x2=\"362.3333\" y1=\"335.9445\" style=\"fill:none; stroke:rgb(0,114,189);\" y2=\"335.9154\"\n",
       "      /><line x1=\"391.2667\" x2=\"391.2667\" y1=\"335.9445\" style=\"fill:none; stroke:rgb(0,114,189);\" y2=\"335.9386\"\n",
       "      /><line x1=\"420.2\" x2=\"420.2\" y1=\"335.9445\" style=\"fill:none; stroke:rgb(0,114,189);\" y2=\"335.9452\"\n",
       "      /><line x1=\"449.1333\" x2=\"449.1333\" y1=\"335.9445\" style=\"fill:none; stroke:rgb(0,114,189);\" y2=\"335.9455\"\n",
       "      /><line x1=\"478.0667\" x2=\"478.0667\" y1=\"335.9445\" style=\"fill:none; stroke:rgb(0,114,189);\" y2=\"335.9449\"\n",
       "      /><line x1=\"507\" x2=\"507\" y1=\"335.9445\" style=\"fill:none; stroke:rgb(0,114,189);\" y2=\"335.9445\"\n",
       "      /><line x1=\"73\" x2=\"507\" y1=\"374\" style=\"fill:none; stroke-linecap:square;\" y2=\"374\"\n",
       "      /><line x1=\"73\" x2=\"507\" y1=\"31.5\" style=\"fill:none; stroke-linecap:square;\" y2=\"31.5\"\n",
       "      /><line x1=\"73\" x2=\"73\" y1=\"374\" style=\"fill:none; stroke-linecap:square;\" y2=\"369.66\"\n",
       "      /><line x1=\"217.6667\" x2=\"217.6667\" y1=\"374\" style=\"fill:none; stroke-linecap:square;\" y2=\"369.66\"\n",
       "      /><line x1=\"362.3333\" x2=\"362.3333\" y1=\"374\" style=\"fill:none; stroke-linecap:square;\" y2=\"369.66\"\n",
       "      /><line x1=\"507\" x2=\"507\" y1=\"374\" style=\"fill:none; stroke-linecap:square;\" y2=\"369.66\"\n",
       "      /><line x1=\"73\" x2=\"73\" y1=\"31.5\" style=\"fill:none; stroke-linecap:square;\" y2=\"35.84\"\n",
       "      /><line x1=\"217.6667\" x2=\"217.6667\" y1=\"31.5\" style=\"fill:none; stroke-linecap:square;\" y2=\"35.84\"\n",
       "      /><line x1=\"362.3333\" x2=\"362.3333\" y1=\"31.5\" style=\"fill:none; stroke-linecap:square;\" y2=\"35.84\"\n",
       "      /><line x1=\"507\" x2=\"507\" y1=\"31.5\" style=\"fill:none; stroke-linecap:square;\" y2=\"35.84\"\n",
       "    /></g\n",
       "    ><g transform=\"translate(73,378)\" style=\"font-size:10px; fill:rgb(38,38,38); text-rendering:geometricPrecision; image-rendering:optimizeQuality; color-rendering:optimizeQuality; font-family:'Helvetica Neue'; stroke:rgb(38,38,38); color-interpolation:linearRGB;\"\n",
       "    ><text x=\"-3\" xml:space=\"preserve\" y=\"10\" style=\"stroke:none;\"\n",
       "      >0</text\n",
       "    ></g\n",
       "    ><g transform=\"translate(217.6667,378)\" style=\"font-size:10px; fill:rgb(38,38,38); text-rendering:geometricPrecision; image-rendering:optimizeQuality; color-rendering:optimizeQuality; font-family:'Helvetica Neue'; stroke:rgb(38,38,38); color-interpolation:linearRGB;\"\n",
       "    ><text x=\"-3\" xml:space=\"preserve\" y=\"10\" style=\"stroke:none;\"\n",
       "      >5</text\n",
       "    ></g\n",
       "    ><g transform=\"translate(362.3333,378)\" style=\"font-size:10px; fill:rgb(38,38,38); text-rendering:geometricPrecision; image-rendering:optimizeQuality; color-rendering:optimizeQuality; font-family:'Helvetica Neue'; stroke:rgb(38,38,38); color-interpolation:linearRGB;\"\n",
       "    ><text x=\"-6\" xml:space=\"preserve\" y=\"10\" style=\"stroke:none;\"\n",
       "      >10</text\n",
       "    ></g\n",
       "    ><g transform=\"translate(507,378)\" style=\"font-size:10px; fill:rgb(38,38,38); text-rendering:geometricPrecision; image-rendering:optimizeQuality; color-rendering:optimizeQuality; font-family:'Helvetica Neue'; stroke:rgb(38,38,38); color-interpolation:linearRGB;\"\n",
       "    ><text x=\"-6\" xml:space=\"preserve\" y=\"10\" style=\"stroke:none;\"\n",
       "      >15</text\n",
       "    ></g\n",
       "    ><g transform=\"translate(290.0002,391.5)\" style=\"font-size:11px; fill:rgb(38,38,38); text-rendering:geometricPrecision; image-rendering:optimizeQuality; color-rendering:optimizeQuality; font-family:'Helvetica Neue'; stroke:rgb(38,38,38); color-interpolation:linearRGB;\"\n",
       "    ><text x=\"-3.5\" xml:space=\"preserve\" y=\"11\" style=\"stroke:none;\"\n",
       "      >n</text\n",
       "    ></g\n",
       "  ></g\n",
       "></svg\n",
       ">\n"
      ]
     },
     "metadata": {
      "filenames": {
       "image/svg+xml": "/Users/cpjobling/code/src/github.com/cpjobling/eg-247-textbook/_build/jupyter_execute/dt_systems/4/dt_models_51_0.svg"
      }
     },
     "output_type": "display_data"
    }
   ],
   "source": [
    "stem([0:15], hn)\n",
    "grid\n",
    "title('Example 5 - Part 2')\n",
    "xlabel('n')\n",
    "ylabel('Impulse response h[n]')"
   ]
  },
  {
   "cell_type": "markdown",
   "id": "4ddb2537",
   "metadata": {
    "slideshow": {
     "slide_type": "subslide"
    }
   },
   "source": [
    "###### Response as stepwise continuous y(t)"
   ]
  },
  {
   "cell_type": "code",
   "execution_count": 7,
   "id": "cc96183b",
   "metadata": {},
   "outputs": [
    {
     "data": {
      "image/svg+xml": [
       "<?xml version=\"1.0\"?>\n",
       "<!DOCTYPE svg PUBLIC '-//W3C//DTD SVG 1.0//EN'\n",
       "          'http://www.w3.org/TR/2001/REC-SVG-20010904/DTD/svg10.dtd'>\n",
       "<svg xmlns:xlink=\"http://www.w3.org/1999/xlink\" style=\"fill-opacity:1; color-rendering:auto; color-interpolation:auto; text-rendering:auto; stroke:black; stroke-linecap:square; stroke-miterlimit:10; shape-rendering:auto; stroke-opacity:1; fill:black; stroke-dasharray:none; font-weight:normal; stroke-width:1; font-family:'Dialog'; font-style:normal; stroke-linejoin:miter; font-size:12px; stroke-dashoffset:0; image-rendering:auto;\" width=\"560\" height=\"420\" xmlns=\"http://www.w3.org/2000/svg\"\n",
       "><!--Generated by the Batik Graphics2D SVG Generator--><defs id=\"genericDefs\"\n",
       "  /><g\n",
       "  ><defs id=\"defs1\"\n",
       "    ><clipPath clipPathUnits=\"userSpaceOnUse\" id=\"clipPath1\"\n",
       "      ><path d=\"M0 0 L560 0 L560 420 L0 420 L0 0 Z\"\n",
       "      /></clipPath\n",
       "      ><clipPath clipPathUnits=\"userSpaceOnUse\" id=\"clipPath2\"\n",
       "      ><path d=\"M0 0 L1119.9999 0 L1119.9999 839.9999 L0 839.9999 L0 0 Z\"\n",
       "      /></clipPath\n",
       "    ></defs\n",
       "    ><g style=\"fill:white; stroke:white;\"\n",
       "    ><rect x=\"0\" y=\"0\" width=\"560\" style=\"clip-path:url(#clipPath1); stroke:none;\" height=\"420\"\n",
       "    /></g\n",
       "    ><g transform=\"scale(0.5,0.5)\"\n",
       "    ><image x=\"0\" y=\"0\" width=\"1120\" xlink:href=\"data:image/png;base64,iVBORw0KGgoAAAANSUhEUgAABGAAAANICAIAAAAHNA4rAABks0lEQVR42uzdCXRV\n",
       "9aEucEAFFYpivZRBQdpKqRefQyeovdZqsY5X0WqFqrVVSMKkKKBSlLkggxZBAwS0\n",
       "ooJgKQIFRECZxzJUGWRQKQhGGYOJyJD4/o/93CvNRMBI4eT3Wy5Xzs45GQ7n0+/j\n",
       "5OyU+QIAAIBDyrgLAAAADCQAAAADCQAAwEACAAAwkAAAAAwkAAAAAwkAAMBAAgAA\n",
       "MJAAAAAMJAAAAAMJAADAQAIAADCQAAAADCQAAAADCQAAwEACAAAwkAAAAAwkAAAA\n",
       "AwkAAMBAAgAAMJAAAAAMJAAAAAMJAADAQAIAADCQAAAADCQAAAADCQAAwEACAAAw\n",
       "kAAAAAwkAAAAAwkAAMBAAgAAMJAAAAAMJAAAAAMJAADAQAIAADCQAAAAMJAAAAAM\n",
       "JAAAAAMJAADAQAIAADCQAAAADCQAAAADCQAAwEACAAAwkAAAAAwkAAAAAwkAAMBA\n",
       "AgAAMJAAAAAMJAAAAAMJAADAQAIAADCQAAAADCQAAAADCQAAwEACAAAwkAAAAAwk\n",
       "AAAAAwkAAMBAAgAAMJAAAAAMJAAAAAMJAADAQAIAADCQAAAADCQAgK/Vvn37Vq9e\n",
       "/fe//33y5MkrV67MyspynwAGEpCwUlJSTjucF1988YT7vi688MLoi3/ssce+4of6\n",
       "4x//eEchPvnkk6/vT+H000+vV6/ebbfdNmrUqBK8Z3JycrK+VJzrv/XWW/fcc89F\n",
       "F110xhlnXHrppc2bN//ggw++jj+y7t27x9/7XXfddYJ+iq/pQfifkpGR0aVLl29+\n",
       "85tlcgmPzBYtWrz//vvH23eaAHc4YCAB/3n33ntvmcNJS0s74b6v888/P/riH3nk\n",
       "ka/4oc4888zC7pmSmgqH/VNo3Ljx/v37S+RzbdmyJf6wYfwUfeXHH3+8XLlyeb6Y\n",
       "ChUqjBw5smT/vMJsq1OnTvwpTj311N27d59wn+LrexD+R4QJ3bBhw8Iek9WqVYsf\n",
       "/8fJd3qi3+GAgQQYSCdAVdq0aVMR98zXNJDKly9/8skn5/lc/fr1K/GBNHXq1CKu\n",
       "OX78+MK+8dNPP3316tUl+OcVplqeTzFkyJCSfUgcg0+RYH29TZs28X1VvXr1Jk2a\n",
       "3HzzzWeccUZ88NJLL42u+atf/erbhzz11FMGEmAgAYkzkEJdXlqQ7du3l9qBNGnS\n",
       "pOjjXHHFFe/kc/DgwRL/U9i6dWt0cNeuXaHBn3LKKfFf2B/jgfTf//3f8aeeM2fO\n",
       "hg0b2rVrF9+2Y8eOJfjndffdd+dZLz/96U9L9iFxDD5FgvX1733ve9HXHx4JmZmZ\n",
       "0cE9e/b84Ac/iO/Dbdu2JV7qAQMJMJDyVvP8UlNT7/5S/NRBqNfxwfiHtXbv3v3M\n",
       "M89ceeWV3/nOd84666w6deqEt/v167d37974o3Xo0CG61ZIlSyZOnHjbbbedc845\n",
       "l156acuWLTMyMsIVhg8ffuONN37rW9+68MILk5OTN2/eHN+2VatW0W1XrVoVPlGj\n",
       "Ro1Cfb/sssseeuihjRs3HrYqrVixokWLFg0aNAgf/Je//OVjjz2W+1b59erVK/o4\n",
       "4Wv+j/wp/OEPf4jftWPHjmLeyfG9FP6wFixYcMMNN1SvXv3+++9PSkq66aab4g8Y\n",
       "Vl+4zujRo/N/Senp6fHVxowZEx3MycmpXbt2dDDceyX17YfOXbFixejDVqlSJf68\n",
       "a9euzXPNWbNm3XPPPfXr169ateq5554b/hx79Ojx8ccfl9SnyH2//e1vf7v55ptr\n",
       "1KhRq1atW265Jezh3NcszuO8wAdheLw98MADv/jFL8LjNjy8f/vb377yyisFfs2D\n",
       "Bw8OKQhfQBgkrVu3DtEID4boy1uzZk24Qvg40cXcQ3fmzJnRwd///vdf5ZGflZUV\n",
       "30tNmzbN/a4RI0ac8qUo+HGi44dKMb+Fkr3PDSQwkACO3UBatmxZ/FTGj370o4MH\n",
       "D27fvj00rejIBRdcEHWUDz/8sF69egX+UFa4VXxWgLjHhIKe5yUu4UizZs3y3DYU\n",
       "pp07d0a3jX/C55JLLslztVCa58+fX0RV6t27d/ny5fPfKkyIwr7xJk2aRFcLVe+J\n",
       "J54IF2+//fbwxvr164/Nn0Konnl+oq84d3J8L4X2GX/LoYuXLVs2/63CcMr/JS1c\n",
       "uDC+QvzsQRD6bnTwqquuKqlvP+zh+HNNnjw5/iLzPEkVrpb/BVHBeeedd9ifdSzm\n",
       "p4jvtzAp89xXp5122tKlS6OrHenjPH4Qhi+jUqVK+W91/fXXx+v3i0Nnjbvtttvy\n",
       "XOcnP/lJ/HZYQbm/2tw/2JaWlhYdPOmkk77KIz8455xzomuGuyI5OTmEKzs7u8Br\n",
       "5v9Oi/ktlOx9biCBgQRQwtX86quv/t98unbtGl3zT3/6U3zNnj17xsshFK/ly5dH\n",
       "1/nNb34TH2zatGm3bt1++ctfxreaMGFCnjoVda9wMZS5PKWndu3aFSpUiC927tw5\n",
       "T50KQl2++OKLc3+0mjVrhmZWYFX661//Gl+tVq1al156aXyxYsWKhZ2Prn79+tF1\n",
       "4n0YCTW3sL/4L8GBFGZh3bp145MKRPW0OHdy7nspFgbStdde+4tf/CI+8sMf/vCa\n",
       "a64J2y//lxQW4B8P6dKlS3xwy5Yt8Ud+6KGHSurb/9nPfhZ9zAsvvDBcvPzyy6OL\n",
       "5557btzIc3Jy4md+GjRo0Ldv3+bNm8dPCv3ud7/76p8i//32jW98I/fF8Jg/usd5\n",
       "9CD8xz/+ET/Ow59m+C7CwzW+Ve5v4ZlnnomPn3nmmeGLP+uss3J/JUc0kI7ukR+E\n",
       "UZTnIRS+jMaNGw8aNOi9994reiAV81so2fvcQAIDCaCEq3mBQqWOrnnw4MGf/vSn\n",
       "+a/Qp0+f+Apx1wnlNT54+umnRwc7deqUp06FrjNnzpxwZPXq1aEyxpNp2rRp4eDm\n",
       "zZvj8wuHWpanToXbRlcL+vfvn+eV93mq0t69e2vUqBEdadmyZdSJN2zYEHfuAs8L\n",
       "HLZW7l0UGmfui2G/5T7TcUn9KfzhD39o3bp1+CJvv/323J3ylltuKf6dnLt0hg0w\n",
       "cODA6dOnh4L+xZG8BimP8McRP2t38sknL1u2rES+93Xr1sVfT+/evcORZ599Nj4S\n",
       "/xGvWrUqPhj/TGCvXr2+ccj3v//9r/4pct9v4f4MA3j//v3//Oc/458q/Pa3v310\n",
       "j/PoQRgWUbxS4qe87r///vgriZ7PCVMwfqyGORe9AvDTTz+97LLLjmIgHd0jP/LZ\n",
       "Z5/FwzKPcuXK/frXv45/uDHPd1r8b6Fk73MDCQwkgGM6kIL33nsvzw8IXXHFFbn/\n",
       "Av5f//rXxkOin3jZunXr008/HV/50UcfzVOnbrrppvi28Y/f/OhHP4oPxj+lE96b\n",
       "p07leV3EBRdcEB0PN8lflRYtWhSvr8WLF6/+0s033xx31vx3Tihq8RffvXv3zMzM\n",
       "0N5yj7FmzZoVdseGMtrs3z344INH/acQ7vZ4jBXnTo7vpXDDjz76KPfnOrqBFJpr\n",
       "7l+GE82Mr/6NBx07doz/aMK3Fo588skn8TMtv/3tb6OrhW8z9zT93e9+N2LEiFD0\n",
       "i/PFF/NT5L7fcv+WpN///vdxgz+6x3l4EIaxEf98YGpqavzBw4CJt0rYe9EQjT/U\n",
       "q6++Gl8zLIqjGEhH98iPhXQ///zzP/7xjwv84cz69etHJ2nIE7fifwsle58bSGAg\n",
       "AZTwQAoleGY+eV4nnfsnZ0JPjepmbqFz/+EPf7jooovy/KhMgcWxffv28Q0bNWoU\n",
       "Hfz1r38dH4xfj5R/ID377LN5enl0/Ac/+EH+qjRs2LCiF8gpp5yS/875/PPPNx2S\n",
       "53VBN9xwQ/w6qMLu2NNOOy3Pp/iv//qvoxtIYYXm+Ymmw97J8b10zz335PlcRzqQ\n",
       "MjIywoTI/Yde9Gnfj+gbD/07fqFLtWrV/vql0NrjfhydtyMIk7jAFyCF7VrEL709\n",
       "ok8R32/dunWLP0JcxHO/queIHufhQbh06dL4CitXrsz9FcaP/DvvvDNcfPPNN+Nr\n",
       "5n6pW+6zJhR/IB3dIz+/8LAJizR8hXl+Ui6aynniVvxvoWTvcwMJDCSAEh5IRZyk\n",
       "IRYmTe5eEr/cItK8efM83eviiy+OfyytwOIY3/bqq6+ODt5xxx3xwaSkpMIG0nPP\n",
       "PVfgF/ad73wn/6fo16/fYX/dU3weiMPq0aNHdJPwxZT4QBowYMALh7z44otz5szZ\n",
       "tWtXnisX506O76XwpX6VgbRhw4Zwf+Z+NfyqVauKvskRfePhCzjsn0uo+NGVDxw4\n",
       "EP7Qf/azn+X/JVFXXXVVTk7OV/8UxXxVz1E8zsMfZWGnzvvf//3f6Hh4I1ycP39+\n",
       "fM3cfz2xe/fuPL/hN/5qn3zyyfx/hRF9tUf9yA/3W69D+vbtm/uXFIe348d/ENZd\n",
       "/rgV/1so2fvcQAIDCeBYD6RQ8vKcRuxb3/pW/CLvt99+O/dLq+NfE3Teeed9HQMp\n",
       "/miRW265JffZ1fJ8ivjXGZUtW/ajjz7aUZD8DbtNmzb/fcgNN9xQ4J0WKlph99XY\n",
       "sWPH/Lsi1kjx/xSKeScXWDqPdCCtW7euWrVq8WtOOnbsGCbKYR9RR/SNhz/rw9b3\n",
       "sIjy3CojI2P8+PGtWrU688wz46sVttyO6FMUp6wf3eM892nTp0yZkvsr/P73vx8d\n",
       "f/jhh7/49x8mzP3bgUeNGpXn6Zf4Z/NSUlLiqz322GO5v9qje+TnWVaLFi3K8946\n",
       "derEvyIpf9yK/y2U7H1uIIGBBFDCA2nWrFlrChK6XbhmZmZm/GRCKKbxSzhuvvnm\n",
       "6EM9//zz8YeKf+QpzKf47/tLdiCdc8458bMrH3zwQXzKu9Cb83+KTZs2xS+iCC0t\n",
       "/vihvjc85O67785/5+T+m/KJEydGB5ctWxZ/rvj14sdsphbzTi7mQAofrYjPdeWV\n",
       "V8bXHDp0aIk/9sIfX3xmjjA1O/+73L+NdMOGDUOGDKl0yA9/+MPciz3/MxJH/SmK\n",
       "WdaP+nFetWrV6OKNN94Yb5Lp06fHH+3ll1/+4tAZDuLf0Fq5cuXJkyfv3bs3XC0+\n",
       "q368LuKPH/+o5+effx6fdzH6ao/ukR/Mnj079+m5c5+FfMmSJfFTN9ELh/KfpKGY\n",
       "30LJ3ucGEhhIACVczQvTpk2bL/79nL9Tpkx5+OGH44vRT7uNHz8+PtK3b98wq+bN\n",
       "m/fzn/88Phi/4qhEBlL0t9fhE/Xq1evcc8+Nn+iIfgFl/k9xzz33xKe/u+GGG55+\n",
       "+unwvcftOc8rmiJLly7N/YzZZZdd9pvf/CY+cVa47WF/3qzEB1Ix7+QiBlJouvGV\n",
       "q1WrVtgvKp0xY0bux8AZ+dSrV+8rftepqal5tkFuo0ePjt/72GOP5T6LXdu2bcMk\n",
       "fv/993/3u9/FZ9XL/cuaju5TFLOsH/XjfODAgbl/8dHgwYP/+Mc/xmc9CfdndIb6\n",
       "IASq6EhG6+JXv/pV7vMlhISeffbZuU+6eNSP/C8OnT0iPvFJdELwm266qVmzZr/8\n",
       "5S9zn8uxsPNrF/NbKNn73EACAwng2A2k119/Pb74+9//PupP8e9t/MY3vhHa6rZt\n",
       "2+Kf+SlQ+FwlOJAK/J2hDzzwQGGfInx58c8F5T8Lwueff17g/ZP7nHW5lS1bNve5\n",
       "yI7ZQCrmnVzEQPoi189HFfGLYvv06VP0o6JGjRpf8bv+8Y9/HJfv/PMmKysr3qK1\n",
       "a9fOycnJ/4tHY61bty6RT1Gcsn7Uj/Ps7Ozcv7onz1kK586dG3/G8JV06tQpz4nj\n",
       "UlJS4qdto3UxZsyY/B8qPolCPJCO7pH/xaEnZuNnvQoUn58wf9yK+S0UcyAV8z43\n",
       "kMBAAigB+X8XZH6hQMe/0TK8Ef9g24IFC+KVEppfOPLWW29997vfzf1C6ocffjju\n",
       "tdHv6Pwi1ym5c/8Oluuuu66IgXTZZZflqVM9e/a8/fbb474VemHfvn3jGxb4KT79\n",
       "9NNQ0eLfLhpNu/DdFXEOtGDcuHEXX3xx7jskfCPRr2/6Ov4UivjFnZHi3MlFD6RF\n",
       "ixbFv9GosIEUnz+wMEWfHvqwNmzYEH+oPGdsj8W/GzQI++HAgQOhc8cvi4qfBOvc\n",
       "uXOBr6I5ik9R4P0W/3xXPDmO+nEeNlL4yLmf5wm3veGGGzZu3Jj/a1u8eHG/fv3u\n",
       "uuuujh07Tpo06eOPP473xsKFC6MR0rt37/j5nBDG66+/fvLkyfnP/3Z0j/wvDr2a\n",
       "qEOHDpUrV87zpx8S8be//S2+2wuMW3G+hcIeq0d3nxf2ZQAGEsB/0sGDB1evXj1t\n",
       "2rRVq1YV8ZfTRy1PnQrNb/bs2WvXri3sJGb5hZK6fv368BW+8847n332WTFvtW3b\n",
       "tlDpZs6cGf3WywS4k8P3Hupvenp6cU69cPwIX+26deuic9CHP/foxfon3B9BuOff\n",
       "fPPN8AjMfYK4WNiBvz9k8ODB8cEXXnihwKcZMzMz582bF/bD7t27v45H/heHXtoU\n",
       "7uqpU6eOHTv2H//4R3HO93hE38Jx8t8WwEACOCEV/dwIJIA777wzflIoDIywZ/r0\n",
       "6RP/NqfoPI2+BcBAAsBAolRYunRp7pOR5Hb22Wf/4x//8C0ABhIA/983v/nNkw8Z\n",
       "MGCAe4NEtXz58muvvTb3mUjOOuusxo0bb9myxbcAGEgAQGkUvfLtzTff/Oijj3wL\n",
       "gIEEAABgIAEAABhIAAAAGEgAAAAGEgAAgIEEAABgIAEAABhIJ7j09PSZM2dmZmYW\n",
       "8/rhmsuWLVu0aNHmzZvdewAAYCAllKFDhzZv3nz9+vXFmUZ9+vRJSkpq/qWBAwfu\n",
       "27fPfQgAAAbSCW/v3r0TJkyIps5hB1K4cs+ePcM1e/ToMWnSpFGjRrVt2zZcDG+4\n",
       "JwEAwEA6gb3zzjtdu3Zt2bJl/FzQYQfS1KlTw9X69u2bnZ0df5Bw5MEHH8zJyXGX\n",
       "AgCAgXQCD6THv5SSklKcgdS9e/dwta1bt+Y+OHPmzBkzZsSTCQAAMJBObIMGDTrs\n",
       "QNq1a1e4TseOHb849LN2a9asWblyZUZGhnsPAAAMpFI3kD744INwnWeeeebVV1/N\n",
       "fZKG5557Luwl9yEAABhIpWggvf322+E6ycnJ4d9PPfXU5MmTX3nllVatWoWLaWlp\n",
       "RdywX79+zQEASCyh42nRBlKpHkhLliyJwvDyyy/HBzdu3BhNpi1bthR2w/Be9zB8\n",
       "daIEogTSZCBxHA2kVatWRQNpz549uY8//fTT4eD8+fOFB/x/CEQJpAkDqbQMpH/9\n",
       "61/hOq1bt85z/KWXXgrHp0yZIjzg/0MgSiBNGEilZSBlZ2c/8MAD4Wo7d+7Mfbxv\n",
       "377h4OLFi4UH/H8IRAmkCQMpYQfSpk2b3jgkPvLcc8+Fqw0ZMuTgwYPRkRUrVoQj\n",
       "rVq1KuJ838ID/j8EogTShIF0wg+kqVOnRi86io/s2rXrkUceCUe6dOkyatSo1NTU\n",
       "6HzfkyZNEh7w/yEQJZAmDKQEEaZOYQMpOTk598GtW7c+/fTTbdq0ibbTo48+Onfu\n",
       "XOEB/x8CUQJpwkBCeODYGTFihDsBRAl0PAMJ4QH+nw8++MCdAKIEOp6BhPAAWh2I\n",
       "Euh4BhLCA2h1IEqg4xlICA+g1YEogY5nICE8gFYHogQ6noGE8ABaHYgS6HgGEsID\n",
       "aHUgSqDjGUgID6DVgSiBjmcgITyAVgeiBDqegYTwAFodiBLoeBhIwiM8oNWBKIGO\n",
       "h4GE8IBWB6IEOh4GEsIDWh2IEuh4GEgID2h1IEqg42EgITyg1YEogY6HgYTwgFYH\n",
       "ogQ6HgYSwgNaHYgS6HgYSAgPaHUgSqDj6XgGEsIDWh2IEqDjGUgID2h1IEqAjmcg\n",
       "ITyg1YEoATqegYTwgFYHogToeAYSwgNaHYgSoOMZSAgPaHUgSoCOZyAhPKDVgSgB\n",
       "Op6BhPCAVgeiBOh4BhLCU5AuU9+/4pmlx/8/4ev0oNLqAFECHc9AQni+Rm9t2Bm2\n",
       "R/j38f9PmQdneFBpdYAogY5nICE8X/tAOjHiZCBpdYAogY5nICE8BpKBpNW5E0CU\n",
       "QMczkBAeA8lAQqsDUQIdz0BCeAwkAwmtDkQJdDwDCeExkAwktDoQJdDxDCSEx0Ay\n",
       "kNDqQJRAxzOQEB4DyUBCqwNRAh3PQEJ4DCQDCa0ORAl0PAMJ4TGQDCS0OhAl0PEM\n",
       "JITHQDKQ0OpAlEDHM5AQHgPJQEKrA1ECHQ8DSXgMJAMJrQ5ECXQ8DCQMJAMJrQ5E\n",
       "CXQ8DCQMJAMJrQ5ECXQ8DCQMJAMJrQ5ECXQ8DCQMJAMJrQ5ECXQ8DCQMJAMJrQ5E\n",
       "CXQ8DCQMJAMJrQ5ECXQ8DCQMJAMJrQ5ECXQ8A8lAwkAykNDqQJQAA8lAwkAykNDq\n",
       "QJQAA8lAwkAykNDqQJQAA8lAwkAykNDqQJQAA8lAwkAykNDqQJQAA8lAwkAykNDq\n",
       "QJQAA8lAQngMJLQ6ECXAQDKQEB4DCa0ORAkwkAwkhMdAQqsDUQIMJAOJwqSnp8+c\n",
       "OTMzM/OIbrV79+5wq40bNxpIBhJaHYgSGEgYSIlj6NCh4SG+fv364t8kJyfnqaee\n",
       "CreaOHGigWQgodWBKIGBhIGUCPbu3TthwoTmhxzRQJo+fXp0KwPJQEKrA1ECAwkD\n",
       "6YT3zjvvdO3atWXLls2/VPyBtGXLlnDD1q1bG0gGElodiBIYSBhICTKQHv9SSkpK\n",
       "8QfSgQMHunfv/tBDD7311lsGkoGEVgeiBAYSBlKiGTRoUPEH0tixY8OVly1btmTJ\n",
       "EgPJQEKrA1ECAwkDqfQOpLVr1yYlJQ0fPjy8XfyBVKARI0Z8cNwYNXdNg/7zPjgR\n",
       "hIH0AaXSnDlz3AkgSnCMhcLWvHBatIFU2gfSZ5999sgjj3To0CErK+uIBpJnkDyD\n",
       "hL/2BlECzyBhICXaQBo+fHi42sqVK6OLBpKBhFYHogQGEgZSKR1IS5cuDddJS0vb\n",
       "+6UFCxaEI+PGjQtvHzx40EAykNDqQJTAQMJAKi0DacyYMUX8BOpbb71lIBlIaHUg\n",
       "SmAgYSCVloG0ePHi1H/XrVu3cKvOnTuHt+OfuzOQDCS0OhAlMJAwkBJwIG3atOmN\n",
       "Qwq7ldcgGUhodSBKYCBhIJWWgTR16tSiT+BoIBlIaHUgSmAgYSAloNTU1MIGUnJy\n",
       "cmG3WrZsWbjCpEmTDCQDCa0ORAkMJAwkEic8BhJaHYgSYCAZSAiPgYRWB6IEGEgG\n",
       "EsJjIKHVgSgBBpKBhPAYSGh1IEqAgWQgITwGElodIEpgIBlICI+BhFYHiBIYSAYS\n",
       "wmMgodUBogQGkoGE8BhIaHWAKIGOZyAhPAYSWh0gSqDjGUgIj4GEVgeIEuh4BhLC\n",
       "YyCh1QGiBDqegYTwGEhodYAogY5nICE8BpIHlVYHiBLoeAYSwmMgGUhaHSBKoOMZ\n",
       "SAiPgWQgodWBKIGOZyAhPAaSgYRWB6IEOp6BhPAYSAYSWh2IEuh4BhLCYyAZSGh1\n",
       "IEqg4xlICI+BZCCh1YEogY5nICE8BpKBhFYHogQ6noGE8BhIBhJaHYgS6HgGEsJj\n",
       "IBlIaHUgSqDjGUgIj4FkIKHVgSiBjoeBJDwGkoGEVgeiBDoeBhIGkoGEVgeiBDoe\n",
       "BhIGkoGEVgeiBDoeBhIGkoGEVgeiBDoeBhIGkoGEVgeiBDoeBhIGkoGEVgeiBDoe\n",
       "BhIGkoGEVgeiBDoeBhIGkoGEVgeiBDqeO8FAwkAykNDqQJQAA8lAwkAykNDqQJQA\n",
       "A8lAwkAykNDqQJQAA8lAwkAykNDqQJQAA8lAwkAykNDqQJQAA8lAwkAykNDqQJQA\n",
       "A8lAQngMJLQ6ECXAQDKQEB4DCa0ORAkwkAwkhMdAQqsDUQIMJAMJ4TGQ0OpAlAAD\n",
       "yUBCeAwktDpAlMBAMpAQHgMJrQ4QJTCQDCSEx0BCqwNECQwkAwnhMZDQ6gBRAh3P\n",
       "QEJ4DCS0OkCUQMczkBAeAwmtDhAl0PEMJITHQEKrA0QJdDwDCeExkNDqAFECHc9A\n",
       "QngMJANJqwNECXQ8AwnhMZAMJK0OECXQ8QwkhMdAMpDQ6kCUQMczkBAeA8lAQqsD\n",
       "UQIdz0BCeAwkAwmtDkQJdDwDCeExkAwktDoQJdDxDCSEx0AykNDqQJRAxzOQOD6k\n",
       "p6fPnDkzMzOzOFfOysp69913586du2bNmvC2gWQgodWBKIGBhIGUUIYOHRoe4uvX\n",
       "ry/6ajk5OdOmTWvRokXzL7Vp02b69OkGkoGEVgeiBAYSBlIi2Lt374QJE6K1c9iB\n",
       "NGvWrHC1lJSU0aNHz549e9iwYUlJSeHIkiVLDCQDCa0ORAkMJAykE9g777zTtWvX\n",
       "li1bxk8HFT2QsrOz27VrF662aNGi+GA0rvr06WMgGUhodSBKYCBhIJ3YA+nxL6Wk\n",
       "pBx2IH388cfhOo888khOTk58cPv27eFg69atDSQDCa0ORAkMJAykBDFo0KDDDqRN\n",
       "mzaFKfWXv/wlz8Fwww4dOhhIBhJaHYgSGEgYSKVoIBXo+eefDzdMTU01kAwktDoQ\n",
       "JTCQMJBK70DKycn561//Gm7VokWLrVu3Fh2eAo0YMeKD48aouWsa9J/3wYkgDKQP\n",
       "KJXmzJnjTgBRgmMsFLbmhdOiDSQD6f8Li6h3797hJq1atVq5cmUC/O2CZ5Dw194g\n",
       "SoBnkAwkjnggZWdnT548OfpVSGEjpaenJ0Z4DCS0OhAlwEAykDiygXTgwIHBgweH\n",
       "a95///2zZ8/OfTo7A8lAQqsDUQIDCQOpdA2k6EVHXbp02blzZ4KFx0BCqwNRAgwk\n",
       "A4miBtKmTZveOCS6GEZRixYtWrdunZGRkXjhMZDQ6kCUAAPJQKKogTR16tTc5ydZ\n",
       "sGBB9Dthn8rnhRdeMJAMJLQ6ECUwkDCQEkRqamphAyk5OTm6OHr06MLO8NipUycD\n",
       "yUBCqwNRAgMJA4kECY+BhFYHogQYSAYSwmMgodWBKAEGkoGE8BhIaHUgSoCBZCAh\n",
       "PAYSWh2IEmAgGUgIj4GEVgeIEhhIBhLCYyCh1QGiBAaSgYTwGEhodYAogYFkICE8\n",
       "BhJaHSBKoOMZSAiPgYRWB4gS6HgGEsJjIKHVAaIEOp6BhPAYSGh1gCiBjmcgITwG\n",
       "ElodIEqg4xlICI+B5EGl1QGiBDqegYTwGEgGklYHiBLoeAYSwmMgGUhodSBKoOMZ\n",
       "SAiPgWQgodWBKIGOZyAhPAaSgYRWB6IEOp6BhPAYSAYSWh2IEuh4BhLCYyAZSGh1\n",
       "IEqg4xlICI+BZCCh1YEogY5nICE8BpKBhFYHogQ6noGE8BhIBhJaHYgS6HgGEsJj\n",
       "IBlIaHUgSqDjYSAJj4FkIKHVgSiBjoeBhIFkIKHVgSiBjoeBhIFkIKHVgSiBjoeB\n",
       "hIFkIKHVgSiBjoeBhIFkIKHVgSiBjoeBhIFkIKHVgSiBjoeBhIFkIKHVgSiBjoeB\n",
       "hIFkIKHVgSiBjudOMJAwkAwktDoQJcBAMpAwkAwktDoQJcBAMpAwkAwktDoQJcBA\n",
       "MpAwkAwktDoQJcBAMpAwkAwktDoQJcBAMpAwkAwktDoQJcBAMpAQHgMJrQ5ECTCQ\n",
       "DCSEx0BCqwNRAgwkAwnhMZDQ6kCUAAPJQEJ4DCS0OhAlwEAykBAeAwmtDhAlMJAM\n",
       "JITHQEKrA0QJDCQDCeExkNDqAFECA8lAQngMJLQ6QJRAxzOQEB4DCa0OECXQ8Qwk\n",
       "hMdAQqsDRAl0PAMJ4TGQ0OoAUQIdz0BCeAwktDpAlEDHM5AQHgPJQNLqAFECHc9A\n",
       "QngMJANJqwNECXQ8AwnhMZAMJLQ6ECXQ8QwkhMdAMpDQ6kCUQMczkBAeA8lAQqsD\n",
       "UQIdz0BCeAwkAwmtDkQJdDwDCeExkAwktDoQJdDxDCSEx0AykNDqQJRAxzOQOKGl\n",
       "p6fPnDkzMzPTQDKQ0OpAlMBAwkAq7YYOHRoisX79egPJQEKrA1ECAwkDqfTau3fv\n",
       "hAkTmh9iIBlIaHUgSmAgYSCVUu+8807Xrl1btmzZ/EsGkoGEVgeiBAYSBlLpHUiP\n",
       "fyklJcVAMpDQ6kCUwEDCQOL/GTRokIFkIKHVgSiBgYSBxBEPpB+0errL1PeP83/C\n",
       "OjKQ0OpAlAADyUDiWAykAv9p3Oe1B15Zdvz888EJIgykDyiV5syZ404AUYJjbMSI\n",
       "Ec0LpxUbSBzNQBKeEo6TZ5D8tTcgSnAc0PEMJAwkAwmtDkQJ0PEMJAwkAwmtDkQJ\n",
       "0PEMJAwkAwmtDkQJ0PEMJAwkAwmtDkQJ0PEMpONVTk7O8uXL+/Tpc/PNNzdo0KBO\n",
       "nTrVq1e/8MILr7zyyvvvv3/cuHE7duwwkAwktDpAlMBAMpAS3O7du/v373/eeeeV\n",
       "KdIpp5xyxx13zJs379h8VampqQaSgYRWB6IEBhIG0rGzb9++J554onLlytEEqlKl\n",
       "yiWXXHLLLbc8+OCDAwcOfP7557t06XLPPff8/Oc/r1WrVrly5aKrXXPNNRs3bhQe\n",
       "AwmtDhAl0PEMpMSxefPm888/Pwye6tWrt2vXbvny5UVf/5NPPgmr6cc//nG4ScWK\n",
       "FadMmSI8BhJaHSBKoOMZSAli8eLFVatW/fOf//z5558f0Q1ff/31iy++uE+fPsJj\n",
       "IKHVAaIEOp6BlCCysrIyMzPji9OnT3/00UcXLVpU4JVTU1PDe3fu3BldzMnJ+fTT\n",
       "T4XHQEKrA0QJdDwDKTF17ty5TJkygwcPLvC90U/WHbf/xRceAwmtDkQJDCQMpBIw\n",
       "Z86cGYfcfffdYQK1bdt2Rj6vvfbaGWecEd67detW4TGQ0OoAUQIdz0BKWFWrVi1T\n",
       "PGEjHThwQHgMJLQ6QJRAxzOQEtaPfvSjbx9SpUqVsILOPvvsb+fz3e9+93/+53/G\n",
       "jBkjPAYSWh0gSqDjGUiJKTs7e+/evfHFol+DlEdOTk5WVpbwGEhodYAogY5nICWI\n",
       "JUuW1KxZc/jw4QcPHgwXhwwZcumll44dO/awN5w2bdoPf/hDp/k2kNDqAFECHc9A\n",
       "ShwbN26sXr16mTJl6tat+6c//SlcLPr6O3bsSE1NbdiwYbjJ6aefPnHiROExkNDq\n",
       "AFECHc9AShy7du1q1qxZ2bJlw+YJ/65Tp86VV1557733du/e/aWXXho1alSvXr2S\n",
       "kpKuvvrq888//+STT47O1nDHHXds2rRJeAwktDpAlEDHM5AS0KpVq1JSUipWrFj0\n",
       "WexOPfXU++67b+XKlcJjIKHVAaIEOp6BlOD27Nnz97//vV27dpdffvn3vve9KlWq\n",
       "nHHGGeeff/7Pfvazli1bvvbaaxkZGcJjIKHVAaIEOp6BhPAYSGh1gCiBjmcglUo5\n",
       "OTk7duzYVpDs7GzhMZDQ6gBRAh3PQCoV3njjjQYNGpQvX76wlyEdt//FFx4DCa0O\n",
       "RAkMJAykkrR69erTTjut6PM0GEgGElodIEqg4xlIpUK7du3CBDr33HOHDRu2bdu2\n",
       "zILk5OQIj4GEVgeIEuh4BlLiu+6668JA6tevn/BgIGl1gCiBjmcglXa/+tWvwkCa\n",
       "M2eO8GAgaXWAKIGOZyCVdg8//HAYSH/+85+FBwNJqwNECXQ8A6m0e++9904//fQz\n",
       "zzxz2bJlwmMguRO0OkCUQMczkEqd/v37P5zL//zP/5QpU6ZcuXKNGjVq06bNw/ns\n",
       "3LlTeAwktDpAlEDHM5AS0wUXXFDmSDjNt4GEVgeIEuh4BlLC6tmzZ/KR2L59u/AY\n",
       "SGh1gCiBjmcgITwGElodIEqg4xlICI+BhFYHiBLoeAYSwmMgodUBogQ6noGE8BhI\n",
       "BpJWB4gS6HgGEsKDgaTVAaIEOp6BhPBgIKHVgSiBjmcgITwYSGh1IEqg4xlIFG7/\n",
       "/v0TJ07s169fhw4dwsWlS5fu2bNHeAwktDpAlEDHM5BKnV69elWtWrXMl8KRq666\n",
       "6rTTTuvWrZvwGEhodYAogY5nIJUiDz74YLSLatSoEQ+kW265JXq7e/fuwmMgodUB\n",
       "ogQ6noFUKsyePTusoJNOOiktLS1crFatWjSQ9u3b16NHj/B25cqVMzIyhMdAQqsD\n",
       "RAl0PAMp8XXr1i2soPbt20cX44EUqVu3brg4d+5c4TGQ0OoAUQIdz0BKfNdcc02Y\n",
       "QLNnzy5wIN17773h4qhRo4THQEKrA0QJdDwDKfHdddddYQJNmjSpwIEUzSfPIBlI\n",
       "aHWAKIGOZyCVCgMGDAgTKAyh/ANp+fLlFSpUKFu27HF7vm/hMZDQ6kCUwEDCQCpJ\n",
       "27dvr1mzZhhF119//fz5888666zw9ubNm4cNG1a9evXwdtOmTYXHQEKrA0QJdDwD\n",
       "qbSYOXNmpUqVyhSkXr16x/OvixUeAwmtDkQJDCQMpJK3ZcuWO++8s0qVKvE0ql27\n",
       "dv/+/T///HPhMZDQ6gBRAh3PQCqltm7dunTp0u3btwuPgYRWB4gS6HgGUun16aef\n",
       "5uTkhDfCv0ePHt22bduBAwe+9957wmMgodUBogQ6noFUiixfvrxhw4blypWLXm7U\n",
       "rFmz+AftKlWqNH/+fOExkNDqAFECHc9AKhW2bNlSuXLlaA6FgbRixYro7Zo1a9ap\n",
       "Uye8Ub9+feExkNDqAFECHc9AKhV69uwZVlDYQgsXLgwXO3XqFC5edNFF+/bty8zM\n",
       "rFWrVri4atUq4TGQ0OoAUQIdz0BKfLfddluYQCNHjowuXnbZZeFiWlpa/OgMFydO\n",
       "nCg8BhJaHSBKoOMZSInviiuuCBPo7bffDm9/9tlnFSpUCBc3btwYvbdt27bh4ssv\n",
       "vyw8BhJaHSBKoOMZSImvcePGYQJNmTIlvD1u3Ljwdq1ateL3NmrUKByZMWOG8BhI\n",
       "aHWAKIGOZyAlvq5du4YJ1LBhwzFjxtStWze8nZKSEr1r/Pjx5cqVO/nkk9PT04XH\n",
       "QEKrA0QJdDwDKfF9+OGHFStWjM/rXb58+ejH7e6+++7oSJMmTYTHQEKrA0QJdDwD\n",
       "qbSYNWvWhRdeWLZs2fr167/00kvRwWuvvTasoxtvvDEzM1N4DCS0OkCUQMczkEqX\n",
       "rKys3BcXLly4efNm4TGQ0OoAUQIdz0BCeAwktDpAlEDHM5BKsZycnB07dmwrSHZ2\n",
       "9lF8wKysrLVr186dO3f16tV79uwpzk0yMzNXrlw5e/bs8O+MjAzhMZDQ6kCUwEDC\n",
       "QDrW3njjjQYNGpQvX75MIY7iv/jz5s1r06ZN8y+1aNEiOpN4EaZPn57nJq+99prw\n",
       "GEhodSBKYCBhIB07q1evPu2008oU6Uj/i79u3bqkpKTwyB46dOisWbNefPHF6OKi\n",
       "RYsKu8ny5cvDFZKTk8OVZ8+enZaWFgZSODJ37lzhMZDQ6kCUwEDCQDpG2rVrFybQ\n",
       "ueeeO2zYsG3btmUWJCcn54g+5oABA8LDeuTIkfGR119/PRzp3LlzYTcJUypcIfdT\n",
       "Rq+88ko40q9fP+ExkNDqQJTAQMJAOkauu+66MJCK3iFH5MCBA9GTPzt27IgP7t+/\n",
       "v2XLluHg9u3bC7xV+ALCe1esWBEfiZ5T6tKli/AYSGh1IEpgIGEgHSO//vWvw0Ca\n",
       "M2dOSX3A9PT08Jhu3759nuO9e/cOx1evXl3grSZOnBjeO2LEiPjI8OHDw5ExY8YI\n",
       "j4GEVgeiBAYSBtIxMmDAgDCQ/vznP5fUB1y3bl14TPfs2TPP8dTU1HB84cKFBd4q\n",
       "IyOjR48e4QpPPvnk2LFju3fvHv1IXu6noQoMT4HC0PqAIxcGkjuhdJozZ447AUQJ\n",
       "jrFQ2JoXTks3kP5jNm/eXKtWrTPPPHPZsmUl8gHffffd8Jju3bt3nuPRM0KFnXQh\n",
       "Ozt78uTJeYIxYcKEol/+JDyeQcJfe4MogWeQMJBK0qJFix566KEyZcqUK1euUaNG\n",
       "bdq0eTifnTt3Fv8DrlmzpsCBFJ2GobCB9MILL4T3tmrVauzYsYsXLw7T6P777w9H\n",
       "Bg4cKDwGElodiBIYSBhIx0jnzp3LHM4R/Rd//fr14THdtWvXPMcHDRpU2Jm+Dx48\n",
       "GIZZUlLSunXr4oNbtmyJzuuwa9cu4TGQ0OpAlMBAwkA6FiZOnJh8OIWdeq5A27Zt\n",
       "i54LyvPTcY899lg4vnbt2vw3CQcLPAn4wIEDw/EFCxYIj4GEVgeiBAYSBtJ/wMGD\n",
       "B4t4xqY4srOz27RpEx7WGzdujA9mZGSEoZWUlBTeyH+TcM1w/U6dOuU53r9//3C8\n",
       "iBdHCY+BhFYHogQGEgZSydu9e3eHDh2+//3vly9fvkyZMlWqVPnpT386evToo/to\n",
       "Q4YMiX7Ha/wkUnSGhl69ekUXN23a9MYh0cX4VyfNmjUrvsk///nPpEOKeAWU8BhI\n",
       "aHUgSmAgYSCVsKVLl5599tkFvvqoUaNGYb0c6QdMT0+PXj7Uvn37tLS0jh07hrfD\n",
       "1Il/vm7q1Kl5TuD45ptvRkfCTV588cVnnnkmXD9cfO2114THQEKrA1ECAwkD6Rj5\n",
       "9NNPzz///LCFKlWq1KlTp8mTJy9evHj06NGNGzeONtKjjz56FB92w4YNXbp0iU/Y\n",
       "HT7IihUr4vdGAyk5OTn3TebNmxeuFt/koYceCqspOztbeAwktDoQJTCQMJCOkbS0\n",
       "tLCCzj777NwvGYqkpqaGd51yyin79u0THgMJrQ4QJdDxDKTE16JFi7CCnn322QLf\n",
       "+5Of/CS8t6R+h6zwGEhodSBKgI5nIB3XrrzyyjCB5s+fX+B7k5KSwntfeeUV4TGQ\n",
       "0OoAUQIdz0BKfPfdd1+YQH/5y18KfO8vfvGL8N6FCxcKj4GEVgeIEuh4BlLie/bZ\n",
       "Z8MEOu+88/L/+qPXXnstvOukk0767LPPhMdAQqsDRAl0PAMp8X3yySfVq1cPQ+ic\n",
       "c84ZOnToypUrP/roowULFtx///2nnHJKON6sWTPhMZDQ6gBRAh3PQCotpk+fXqFC\n",
       "hQJ/D9L/+T//JysrS3gMJLQ6QJRAxzOQSpH333//jjvuqFSpUjyNzjnnnL59+x63\n",
       "J/gWHgMJrQ5ECQwkDKSv3ZYtW1atWrVnzx7hMZDQ6gBRAh3PQCq9MjMzZ8yYMXjw\n",
       "4O7du48YMWLhwoU5OTnCYyCh1QGiBDqegVS6ZGdnP/nkk1WrVs3zAqRLLrlk2rRp\n",
       "wmMgodUBogQ6noFUinTo0CFaRKecckq9evUaNGhQs2bN+Ehhv0NWeAwktDpAlEDH\n",
       "M5ASzaxZs6ItdN99923dujU+vmDBgksvvTQcr127tvAYSGh1gCiBjmcglQqPP/54\n",
       "WEG33npr/ndt3749+rm7999/X3gMJLQ6QJRAxzOQEt91110XJtD48eMLfO/tt98e\n",
       "3jt27FjhMZDQ6gBRAh3PQEp80QSaPn16ge9t0qRJeO+4ceOEx0BCqwNECXQ8Aynx\n",
       "9e7dO0ygdu3a5X9XZmZmjRo1wns//PBD4TGQ0OoAUQIdz0BKfJs2bTrnnHPKli07\n",
       "ePDggwcPxsc//vjj6KfvmjRpIjwGElodIEqg4xlIpcKECRMuv/zy6ER25513XtOm\n",
       "TVNSUm644YZTTz01OnjnnXc2z2Xq1KnCYyCh1QGiBDqegZSYOnfuXOZIPPHEE8Jj\n",
       "IKHVAaIEOp6BlJimT5/+6JGYNWuW8BhIaHWAKIGOZyAhPAYSWh0gSqDjGUilw6ef\n",
       "fpqTkxPeCP8ePXp027ZtBw4c+N577wmPgYRWB4gS6HgGUimyfPnyhg0blitXbs+e\n",
       "PeFis2bN4lccVapUaf78+cJjIKHVAaIEOp6BVCps2bKlcuXK0RwKA2nFihXR2zVr\n",
       "1qxTp054o379+sJjIKHVAaIEOp6BVCr07NkzrKCwhRYuXBgudurUKVy86KKL9u3b\n",
       "l5mZWatWrXBx1apVwmMgodUBogQ6noGU+G677bYwgUaOHBldvOyyy8LFtLS0+NEZ\n",
       "Lk6cOFF4DCS0OkCUQMczkBLfFVdcESbQ22+/Hd7+7LPPKlSoEC5u3Lgxem/btm3D\n",
       "xZdffll4DCS0OkCUQMczkBJf48aNwwSaMmVKeHvcuHHh7Vq1asXvbdSoUTgyY8YM\n",
       "4TGQ0OoAUQIdz0BKfF27dg0TqGHDhmPGjKlbt254OyUlJXrX+PHjy5Urd/LJJ6en\n",
       "pwuPgYRWB4gS6HgGUuL78MMPK1asGJ/Xu3z58tGP2919993RkSZNmgiPgYRWB4gS\n",
       "6HgGUmkxa9asCy+8sGzZsvXr13/ppZeig9dee21YRzfeeGNmZqbwGEhodYAogY5n\n",
       "IJUuWVlZuS8uXLhw8+bNwmMgodUBogQ6noFUGu3fv3/ixIn9+vXr0KFDuLh06dI9\n",
       "e/YIj4GEVgeIEuh4BlKp06tXr6pVq8avRApHrrrqqtNOO61bt27CYyCh1QGiBDqe\n",
       "gVSKPPjgg9EuqlGjRjyQbrnllujt7t27C4+BhFYHiBLoeAZSqTB79uywgk466aS0\n",
       "tLRwsVq1atFA2rdvX48ePcLblStXzsjIEB4DCa0OECXQ8QykxNetW7ewgtq3bx9d\n",
       "jAdSJPrNSHPnzhUeAwmtDhAl0PEMpMR3zTXXhAk0e/bsAgfSvffeGy6OGjVKeAwk\n",
       "tDpAlEDHM5AS31133RUm0KRJkwocSNF88gySgYRWB4gS6HgGUqkwYMCAMIHCEMo/\n",
       "kJYvX16hQoWyZcset+f7Fh4DCa0ORAkMJAykkrR9+/aaNWuGUXT99dfPnz//rLPO\n",
       "Cm9v3rx52LBh1atXD283bdpUeAwktDpAlEDHM5BKi5kzZ1aqVKlMQerVq3c8/7pY\n",
       "4TGQ0OpAlMBAwkAqeVu2bLnzzjurVKkST6PatWv379//888/Fx4DCa0OECXQ8Qyk\n",
       "0mLAgAEtW7acOHFidHHr1q1Lly7dvn278BhIaHWAKIGOZyCVOvfff3+ZMmV++9vf\n",
       "Cg8GklYHiBLoeAZSafe3v/0tDKRatWplZmYKj4HkTtDqAFECHc9AKtWysrKuv/76\n",
       "sJGaNGmSkZEhPAYSWh0gSqDjGUil19tvvz1ixIjvfOc7YSOdeeaZTZs2ffjhh3v/\n",
       "u927dwuPgYRWB4gS6HgGUuLr3LlzmcM5bv+LLzwGElodiBIYSBhIJenVV1/9zeF8\n",
       "8sknwmMgodUBogQ6noGE8BhIaHWAKIGOZyAhPAYSWh0gSqDjGUgIT2keSG9t2HlC\n",
       "/OMPS6sDUQIdDwMJ4fl6dZn6/hXPLD3+/4mGnD8vrQ5ECXQ8DCSEhy/CRjKQtDoQ\n",
       "JdDxMJBOMFlZWWvXrp07d+7q1av37NlTzFtlZmYuW7Zs0aJFmzdvFh4MJK0ORAkM\n",
       "JAykRDBv3rw2bdo0/1KLFi2mTJly2GnUp0+fpKSk+FYDBw7ct2+f8GAgaXUgSmAg\n",
       "YSAda/v37584cWK/fv06dOgQLi5durT4T/vksW7dumjnDB06dNasWS+++GJ0cdGi\n",
       "RYXdZO/evT179gzX6dGjx6RJk0aNGtW2bdtwMbwhPBhIWh2IEhhIGEjHVK9evapW\n",
       "rVrmS+HIVVddddppp3Xr1u0oPtqAAQPCw3rkyJHxkddffz0c6dy5c2E3mTp1arhC\n",
       "3759s7OzoyPvvPNOOPLggw/m5OQIDwaSVgeiBAYSBtIxEkZItItq1KgRD6Rbbrkl\n",
       "ert79+5H9NEOHDjQokWL8LDesWNHfHD//v0tW7YMB7dv317grcJnCe/dunVr7oMz\n",
       "Z86cMWNGPJmEBwNJqwNRAgMJA+nrNXv27LCCTjrppLS0tHCxWrVq0UDat29fjx49\n",
       "wtuVK1fOyMgo/gdMT08Pj+n27dvnOd67d+9wfPXq1flvsmvXrvCujh07fnHoZ+3W\n",
       "rFmzcuXK4nxS4TGQ0OpAlMBAwkAqSd26dQsrKN4z8UCK1K1bN1ycO3du8T/gunXr\n",
       "wmO6Z8+eeY6npqaG4wsXLizw/yjhXc8888yrr76a+yQNzz33XNhLwoOBpNWBKIGB\n",
       "hIF0jFxzzTVhAs2ePbvAgXTvvfeGi0WfKSGPd999Nzyme/funef48OHDw/ECt9bb\n",
       "b78d3pWcnBz+/dRTT02ePPmVV15p1apVuBg9r1VEeAo0YsSID0hcDfrPGzV3jfuh\n",
       "BM2ZM8edAKIEx1gobM0Lp6UbSP8xd911V5hAkyZNKnAgRfPpiJ5BWrNmTYEDaejQ\n",
       "oYUNpCVLlkRJePnll+ODGzdujCbTli1b/O0CnkHy194gSuAZJAykY2HAgAFhAoUh\n",
       "lH8gLV++vEKFCmXLlj2i832vX78+PKa7du2a5/igQYMKO9P3qlWrooGU5xM9/fTT\n",
       "4eD8+fOFBwNJqwNRAgMJA+lY2L59e82aNcMouv7668MUOeuss8LbmzdvHjZsWPXq\n",
       "1cPbTZs2PaIPuG3btvCYbtWqVZ7Tcz/22GPh+Nq1a/Pf5F//+ld4V+vWrfMcf+ml\n",
       "l8LxIn7DrPAYSGh1IEpgIGEglbCZM2dWqlSpTEHq1at3pL8uNjs7u02bNuFhvXHj\n",
       "xvhgRkZGcnJyUlJSgeemCzd54IEHwk127vy31tu3b99wcPHixcKDgaTVgSiBgYSB\n",
       "dOxs2bLlzjvvrFKlSjyNateu3b9//88///woPtqQIUPCw7pfv37xk0jRGRp69eoV\n",
       "Xdy0adMbh8Q3ee6558IVwg0PHjwYHVmxYkX0TFQR5/sWHgMJrQ5ECQwkDKSv0dat\n",
       "W5cuXVrYr3MtpvT09OjXwrZv3z4tLa1jx47h7aSkpPjn66ZOnZrn/CS7du165JFH\n",
       "wpEuXbqMGjUqNTU1Ot93fPYI4cFA0upAlMBAwkA6dj799NPoCZ/w79GjR7dt23bg\n",
       "wIHvvffe0X20DRs2hKkTn6jx0UcfXbFiRfzeaCAlJyfn2WZPP/109ON50U0Oe/Y8\n",
       "4TGQ0OpAlMBAwkAqYcuXL2/YsGG5cuWilxs1a9Ys/kG7SpUqFXESOeHBQNLqAFEC\n",
       "Hc9ASihbtmypXLlyNIfCQFqxYkX0ds2aNevUqRPeqF+/vvBgIGl1gCiBjmcglQo9\n",
       "e/YMKyhsoYULF4aLnTp1Chcvuuiiffv2ZWZm1qpVK1xctWqV8GAgaXWAKIGOZyAl\n",
       "vttuuy1MoJEjR0YXL7vssnAxLS0tfnSGixMnThQeDCStDhAl0PEMpFLQNa+4Ikyg\n",
       "t99+O7z92WefVahQIVyMf4VR27Ztw8WXX35ZeDCQtDpAlEDHM5ASX+PGjcMEmjJl\n",
       "Snh73Lhx4e1atWrF723UqFE4MmPGDOHBQNLqAFECHc9ASnxdu3YNE6hhw4Zjxoyp\n",
       "W7dueDslJSV61/jx48uVK3fyySenp6cLDwaSVgeIEuh4BlLi+/DDDytWrBif17t8\n",
       "+fLRj9vdfffd0ZEmTZoIDwaSVgeIEuh4BlJpMWvWrAsvvLBs2bL169d/6aWXooPX\n",
       "XnttWEc33nhjZmam8GAgaXWAKIGOZyCVLllZWbkvLly4cPPmzcKDgaTVAaIEOp6B\n",
       "hPBgIGl1gCiBjmcglQ4dOnT47ZH45JNPhAcDSasDRAl0PAMpMV1wwQVljsRx+198\n",
       "4TGQ0OpAlMBAwkD6qoYPH97jSOzevVt4MJC0OkCUQMczkBAeDCStDhAl0PEMpFIj\n",
       "Kytr2+FkZ2cLDwaSVgeIEuh4BlLi69y5s9cgYSBpde4EECXQ8QwkijWQzjrrrI8+\n",
       "+kh4MJC0OkCUQMczkBLf/v37M/N5//33R4wYUbt27W9+85vLli0THgwkrQ4QJdDx\n",
       "DKTS7r333vvGN75RrVq1nJwc4cFA0uoAUQIdz0Aq7W699dYyZcqsXr1aeDCQtDpA\n",
       "lEDHM5BKu9/85jdhIL3yyivCg4Gk1QGiBDqegVSq7dixo2LFimEgzZ49W3gwkLQ6\n",
       "QJRAxzOQEt+0adMeLkiTJk1OP/30sI7Cv3fu3Ck8GEhaHSBKoOMZSImv6NN8lytX\n",
       "btiwYcKDgaTVAaIEOp6BVCpMnDgxuSAPPPBAv3791q9fLzwYSFodIEqg4xlICA8G\n",
       "klYHiBLoeAYSwoOBpNUBogQ6noFUymVmZs6YMWPw4MHdu3cfMWLEwoULj9vfDys8\n",
       "BpKBpNWBKIGBhIH0dcnOzn7yySerVq2a5wwNl1xyybRp04QHA0mrA0QJdDwDqRTp\n",
       "0KFDtIhOOeWUevXqNWjQoGbNmvGR+fPnCw8GklYHiBLoeAZSqTBr1qxoC913331b\n",
       "t26Njy9YsODSSy8Nx2vXri08GEhaHSBKoOMZSKXC448/HlbQrbfemv9d27dvj37u\n",
       "7v333xceDCStDhAl0PEMpMR33XXXhQk0fvz4At97++23h/eOHTtWeDCQtDpAlEDH\n",
       "M5ASXzSBpk+fXuB7mzRpEt47btw44cFA0uoAUQIdz0BKfL179w4TqF27dvnflZmZ\n",
       "WaNGjfDeDz/8UHgwkLQ6QJRAxzOQEt+mTZvOOeecsmXLDh48+ODBg/Hxjz/+OPrp\n",
       "uyZNmggPBpJWB4gS6HgGUqkwYcKEyy+/PDqR3Xnnnde0adOUlJQbbrjh1FNPjQ7e\n",
       "eeedzXOZOnWq8GAgaXWAKIGOZyAlps6dO5c5Ek888YTwYCBpdYAogY5nICWm6dOn\n",
       "P3okZs2aJTwYSFodIEqg4xlICA8GklYHiBLoeAZSotu5c+fAgQNTUlL+UIht27YJ\n",
       "DwaSVgeIEuh4BlLi2759+3nnnVf0646O2//iC4+BhFYHogQGEgZSSeratWuYQCed\n",
       "dNJNN9308MMPdyrIrl27hAcDSasDRAl0PAMp8d18881hIPXq1Ut4MJC0OkCUQMcz\n",
       "kEq7q6++Ogyk2bNnCw8GklYHiBLoeAZSaRf9HqQ//vGPwoOBpNUBogQ6noFU2i1f\n",
       "vrxChQrnnnvuu+++KzwYSFodIEqg4xlIpd3o0aOjs9U1aNCgdUF27NghPBhIWh0g\n",
       "SqDjGUiJ7+OPP65bt67TfGMgaXWAKIGOZyDxRd++fcMEKlu27FVXXdW6desHC+IZ\n",
       "JAwkrQ4QJdDxDKRSoXHjxmEg9ejRQ3gwkLQ6QJRAxzOQSrtbb701DKQFCxYIDwaS\n",
       "VgeIEuh4BlJp179//zCQhgwZIjwYSFodIEqg4xlIpd2mTZtq1KhRtWrVdevWCQ8G\n",
       "klYHiBLoeAZSqbZo0aKkpKQyZcpUqFChSZMmDxdk586dwoOBpNUBogQ6noGU+Dp3\n",
       "7lzmcJzmGwNJqwNECXQ8A6lUmDhxYvLhbN++/Sg+clZW1tq1a+fOnbt69eo9e/Yc\n",
       "0W137949c+bMjRs3Cg8GklYHogQGEgbSCW/evHlt2rRp/qUWLVpMmTKlmLfNycl5\n",
       "6qmnwq3CeBMeDCStDkQJDCQMpBPbunXrkpKSwiN76NChs2bNevHFF6OLixYtKs7N\n",
       "p0+fHs0qAwkDSasDUQIDCQPpa7dx48a1R+LAgQNH9PEHDBgQHtYjR46Mj7z++uvh\n",
       "SOfOnQ972y1btrRs2bJ169YGEgaSVgeiBAYSBtKxcMEFF5Q5Ekf0X/ywplq0aBEe\n",
       "1jt27IgP7t+/P8yecLDolzOF23bv3v2hhx566623DCQMJK0ORAkMJAykE34gpaen\n",
       "h8d0+/bt8xzv3bt3OL569eoibjt27NhwnWXLli1ZssRAwkDS6kCUwEDCQDoW1q1b\n",
       "t/RI7Nu374g+eHhM9+zZM8/x1NTUcHzhwoWF3XDt2rVJSUnDhw8PbxtIGEhaHYgS\n",
       "GEgYSIng3XffDY/p3r175zkelk84Pnfu3AJv9dlnnz3yyCMdOnTIyso6ooFUoBEj\n",
       "RnxA4mrQf96ouWvcDyVozpw57gQQJTjGQmFrXjil2kBKHGvWrClwIA0dOrSIgRTN\n",
       "p5UrV0YXPYOEZ5D8tTeIEngGCQMpEaxfvz48prt27Zrn+KBBgwo70/fSpUvDu9LS\n",
       "0vZ+acGCBeHIuHHjwtsHDx4UHgwkrQ5ECQwkDKQT0rZt28JjulWrVjk5ObmPP/bY\n",
       "Y+H42rVr899kzJgxRTzB+tZbbwkPBpJWB6IEBhIG0gkpOzu7TZs24WG9cePG+GBG\n",
       "RkZycnJSUlJ4I/9NFi9enPrvunXrFv3epPB2/HN3woOBpNWBKIGBhIF04hkyZEh4\n",
       "WPfr1y9+Eil6iVGvXr2ii5s2bXrjkMI+gtcgYSBpdSBKYCBhICWI9PT06NfCtm/f\n",
       "Pi0trWPHjuHtpKSk+Ofrpk6dWvT5SQwkDCStDkQJDCQMpMSxYcOGLl26xK8jevTR\n",
       "R1esWBG/NxpIycnJhd182bJl4QqTJk0SHgwkrQ5ECQwkDCSEBwNJqwNRAh0PAwnh\n",
       "wUDS6kCUQMfDQEJ4MJC0OhAlQMczkBAeDCStDkQJ0PEMJIQHA0mrA1ECdDwDCeHB\n",
       "QNLqQJQAHc9AQngwkLQ6ECVAxzOQEB4MJK0ORAnQ8QwkhAcDSasDUQJ0PAMJ4cFA\n",
       "0upAlAAdz0BCeDCQtDoQJUDHM5AQHgwkrQ5ECdDxDCSEBwNJqwNECXQ8AwnhwUDS\n",
       "6gBRAh3PQEJ4MJC0OkCUQMczkBAeDCStDhAl0PEMJIQHA0mrA0QJdDwDCeHBQNLq\n",
       "AFECHc9AQngwkLQ6QJRAxzOQEB4MJK0OECXQ8QwkhAcDSasDRAl0PAMJ4cFA0uoA\n",
       "UQIdz0BCeDCQ0OpAlEDHM5AQHgwktDoQJdDxDCSEBwMJrQ5ECXQ8AwnhwUBCqwNR\n",
       "Ah3PQEJ4MJDQ6kCUQMczkBAeDCS0OhAl0PEMJIQHAwmtDkQJdDwDCeHBQEKrA1EC\n",
       "Hc9AQngwkNDqQJRAx8NAEh4MJLQ6ECXQ8TCQEB4DCa0ORAl0PAwkhMdAMpC0OhAl\n",
       "0PEwkBAeDCStDkQJdDwMJIQHA0mrA1ECHQ8DCeHBQNLqQJRAx8NAQngwkLQ6ECXQ\n",
       "8TCQEB4MJK0ORAl0PHeCgYTwYCBpdSBKgI5nICE8GEhaHYgSoOMZSAgPBpJWB6IE\n",
       "6HgGEsKDgaTVgSgBOp6BhPBgIGl1IEqAjmcgITwYSFodiBKg4xlICA8GklYHogTo\n",
       "eAYSwoOBpNWBKAE6noGE8GAgaXUgSoCOZyAhPBhIWh2IEqDjGUgIDwaSVgeIEuh4\n",
       "BhLCg4Gk1QGiBDqegYTwYCBpdYAogY5nICE8GEhaHSBKoOMZSAgPBpJWB4gS6HgG\n",
       "EsKDgaTVAaIEOp6BhPBgIGl1gCiBjmcgITwYSFodIEqg4xlIlLCsrKy1a9fOnTt3\n",
       "9erVe/bsKeZN3n333XCTNWvWhLeFBwNJqwNRAgMJAykRzJs3r02bNs2/1KJFiylT\n",
       "phRx/ZycnGnTpoWrxTcJN58+fbrwYCBpdSBKYCBhIJ3Y1q1bl5SUFB7ZQ4cOnTVr\n",
       "1osvvhhdXLRoUWE3CVcLV0hJSRk9evTs2bOHDRsW3WTJkiXCg4Gk1YEogYGEgXQC\n",
       "GzBgQHhYjxw5Mj7y+uuvhyOdO3cu8PrZ2dnt2rXLs6AmTJgQjvTp00d4MJC0OhAl\n",
       "MJAwkE5UBw4ciH5SbseOHfHB/fv3t2zZMhzcvn17/pt8/PHH4V2PPPJITk5OfDBc\n",
       "Mxxs3bq18GAgaXUgSmAgYSCdqNLT08Njun379nmO9+7dOxxfvXp1/pts2rTp8ccf\n",
       "/8tf/pLnYLh+hw4dhAcDSasDUQIDCQPpRLVu3brwmO7Zs2ee46mpqeH4woULi/lx\n",
       "nn/++XD9cKuiw1OgESNGfEDiatB/3qi5a9wPJWjOnDnuBBAlOMZCYWteOKXaQEoc\n",
       "7777bnhM9+7dO8/x4cOHh+Nz58497EfIycn561//Gp37buvWrf52Ac8g+WtvECXw\n",
       "DBIG0olqzZo1BQ6koUOHFmcghUUU/TBeq1atVq5cKTwYSFodiBIYSBhIJ7D169eH\n",
       "x3TXrl3zHB80aFDRZ/rOzs6ePHlydIKHsJHS09OFBwNJqwNRAgMJA+nEtm3btuj5\n",
       "n9ynpAsee+yxcHzt2rUF3urAgQODBw8OV7j//vtnz56d57bCg4Gk1YEogYGEgXRC\n",
       "ys7ObtOmTXhYb9y4MT6YkZGRnJyclJQU3ijwVtGLjrp06bJz507hwUDS6kCUwEDC\n",
       "QEocQ4YMCQ/rfv36xU8ERWdo6NWrV3Rx06ZNbxwSXQyjqEWLFq1bty5sPgkPBpJW\n",
       "B6IEBhIG0okqPT09+rWw7du3T0tL69ixY3g7KSkp/vm6qVOn5j6B44IFC6LfCftU\n",
       "Pi+88ILwYCBpdSBKYCBhIJ3YNmzY0KVLl/hM9o8++uiKFSvi90YDKTk5Obo4evTo\n",
       "wk6B36lTJ+HBQNLqQJTAQMJAQngwkLQ6ECXQ8TCQEB4MJK0ORAl0PAwkhAcDSasD\n",
       "UQJ0PAMJ4cFA0upAlAAdz0BCeDCQtDoQJUDHM5AQHgwkrQ5ECdDxDCSEBwNJqwNR\n",
       "AnQ8AwnhwUDS6kCUAB3PQEJ4MJC0OhAlQMczkBAeDCStDkQJ0PEMJIQHA0mrA1EC\n",
       "dDwDCeHBQNLqQJQAHc9AQngwkLQ6ECVRAh3PQEJ4MJC0OkCUQMczkBCe/9ve/QB3\n",
       "Xdd/ANdUwgoprSv7cwr2hwz//PIytavMzK4s7SC0Oy+8To7vGDCNHBcUMkJkGp6S\n",
       "KDKgQDzmjAyx44+O449b8k9B4fYPTtYEmm2sNpnoxtbvfXzye/M79t1nMJSxx+O+\n",
       "123vvfeBffg++7yebt/PUJBMdYAogRlPQUJ4UJBMdYAogRlPQUJ4UJBMdYAogRlP\n",
       "QUJ4UJBMdYAogRlPQUJ4OBHlrHr1lHGre8SjpxQ5Ux2IEpjxFCSEB457kQsPUx0o\n",
       "SIAZT0FCeEBBAgUJMOMpSAgPKEigIAFmPAUJ4QEFCRQkJwHMeAoSwgMKEiBKYMZT\n",
       "kBAeUJAAUQIznoKE8ICCBIgSmPEUJIQHFCRAlMCMpyAhPKAgAaIEZjwFCeEBBQkQ\n",
       "JTDjKUgIDyhIgCiBGU9BQnhAQQJECcx4ChLCAwoSIEpgxlOQEB5QkEx1IEpgxlOQ\n",
       "EB5QkEx1IEpgxlOQEB5QkEx1IEpgxlOQEB5QkEx1IEpgxlOQEB5QkEx1IEpgxlOQ\n",
       "EB5QkEx1IEpgxlOQEB5QkEx1IEpgxlOQEB5QkEx1IEpgxlOQEB5QkEx1IEpgxlOQ\n",
       "EB5QkEx1IEpgxkNBEh7hQUEy1YEogRkPBQnhQUEy1YEogRkPBQnhQUEy1YEogRkP\n",
       "BQnhQUEy1YEogRkPBQnhQUEy1YEogRkPBQnhQUEy1YGCBGY8FCSEBwXJVAcKEpjx\n",
       "UJAQHhQkUx0oSIAZT0FCeFCQTHWgIAFmPAUJ4UFBMtWBggSY8RQkhAcFyVQHChJg\n",
       "xlOQEB4UJFMdKEiAGU9BQnhQkEx1oCABZjwFCeFBQTLVgYIEmPEUJLqmsbGxvLy8\n",
       "qKiopKSkoaFBeFCQTHWgIIGChILUSxUXF2dlZY18R2Zm5ooVK4QHBclUBwoSKEgo\n",
       "SL1ORUVFIpEIScjLy1u3bt2iRYuidzdu3Cg8KEimOlCQQEFCQepdZs6cGWKwePHi\n",
       "5MrKlSvDyuTJk4UHBclUBwoSKEgoSL1Ic3NzZmZmiMH+/fuTi01NTaNHjw6LtbW1\n",
       "woOCZKoDUQIFCQWpt6iurg4ZyM7OTlnPzc0N6yUlJcKDgmSqA1ECBQkFqbeoqKgI\n",
       "GZg2bVrK+uzZs8P6hg0b0nzuj3/84/aLaw474v6OPnS814/TMd+vL+c9OF0nx5d2\n",
       "xIJ0Yv5V2091nni95UvbVefRjY/8olInwcOjWx4KkoLUq5WVlYUM5ObmpqzPnz8/\n",
       "rBcVFaX53HPPPXdkO2Hxiiuu2H0kVxz23q/n5+d3+zHfxy/neK+fNF/aKVfeescT\n",
       "L/WIv+rzzz/vide9f0T0r5/yCIvvy3pHH7ri/uJTxq0O/+vRXY//u2eNk+DhEf9x\n",
       "7u35HT0UJAWpVystLT1iQcrLy+u0IAkPJzI/YtdrXf3wi+ERPQFO8Id/LFGCE5MZ\n",
       "T0Hq1Xbu3BkyMGXKlJT1WbNmdXqnb+FBQTLVnZgFac2uOudBQQIUJAWJo1FTUxMy\n",
       "MGbMmNbW1rbrkyZNCuvl5eXCg4Jkqkue0uibMyf445RxqxUkBQlQkBQkjlJLS0tW\n",
       "VlaIQWVlZXKxvr4+IyMjkUiEN4QHBclU97//xz9cPHrEw/NfQQIUJAWJozdnzpwQ\n",
       "gxkzZiS/iRTdoWH69OnCQ48uSD3lhSj5RaU9pSB5XqEggYKEgnTyq66ujn4tbHZ2\n",
       "9ty5cydOnBjeTiQS6X++TnjoER2pRzyuuL9YQQIFCRQkBYkTyK5du3JycpK36p4w\n",
       "YcK2bduEB94Da3bVKUigIIGCpCAhPMD/ClIoHj3i5gfh4d8LBQnMeChICA8cX/lF\n",
       "pW5+AAoSmPEUJIQHMNWBKIEZT0FCeABTHYgSmPEUJIQHMNWBKIEZT0FCeABTHYgS\n",
       "mPEUJIQHMNWBKIEZT0FCeABTHYgSmPEUJIQHMNWBKIEZT0FCeABTHYgSmPEUJIQH\n",
       "MNWBKIEZDwVJeIQHTHUgSmDGQ0FCeMBUB6IEZjwUJIQHTHUgSmDGQ0FCeMBUB6IE\n",
       "ZjwUJIQHTHUgSmDGQ0FCeMBUB6IEZjwUJIQHTHUgSmDGQ0FCeMBUB6IEZjwznoKE\n",
       "8ICpDkQJMOMpSAgPmOpAlAAznoKE8ICpDkQJMOMpSAgPmOpAlAAznoKE8ICpDkQJ\n",
       "MOMpSAgPmOpAlAAznoKE8ICpDkQJMOMpSAgPmOpAlAAznoKE8ICpDkQJMOMpSAgP\n",
       "mOpAlJwEMOMpSAgPmOoAUQIznoKE8ICpDhAlMOMpSAgPmOoAUQIznoKE8ICpDhAl\n",
       "MOMpSAgPmOoAUQIznoKE8ICpDhAlMOMpSAgPmOoAUQIznoKE8ICpDhAlMOMpSAgP\n",
       "mOoAUQIznoKE8ICpzlQHogRmPAUJ4QFMdSBKYMZTkBAewFQHogRmPAUJ4QFMdSBK\n",
       "YMZTkBAewFQHogRmPAUJ4QFMdSBKYMZTkBAewFQHogRmPAUJ4QFMdSBKYMZTkBAe\n",
       "wFQHogRmPAUJ4QFMdSBKYMZDQRIe4QFTHYgSmPFQkBAeMNWBKIEZDwUJ4QFTHYgS\n",
       "mPFQkBAeMNWBKIEZDwUJ4QFTHYgSmPFQkBAeMNWBKIEZDwUJ4QFTHYgSmPFQkBAe\n",
       "eF889thjTgKIEpjxFCSEBxAlECWQJgWJ90RjY2N5eXlRUVFJSUlDQ0Oc/WVlZWF/\n",
       "aWlpeFt4wHUIRAmkCQXpJFFcXJyVlTXyHZmZmStWrOhoc2tr63PPPRf2JPeHzy0s\n",
       "LBQecB0CUQJpQkHq8SoqKhKJRHhm5+XlrVu3btGiRdG7GzduPOL+sCd8dNSoUQUF\n",
       "BevXr583b160f/PmzcIDrkMgSiBNKEg928yZM8PTevHixcmVlStXhpXJkye339zS\n",
       "0nLnnXem1Kdly5aFlfvuu094wHUIRAmkCQWpB2tubo5+WG7//v3JxaamptGjR4fF\n",
       "2tralP2vv/56WP/1r3/d2tqaXAzbwuLYsWOFB1yHQJRAmlCQerDq6urwnM7Ozk5Z\n",
       "z83NDeslJSUp61VVVXfdddeCBQtSFsPm8ePHCw+4DoEogTShIPVgFRUV4Tk9bdq0\n",
       "lPXZs2eH9Q0bNsQ5yJ/+9KewOXyK8IDrEIgSSBMKUg9WVlYWntO5ubkp6/Pnzw/r\n",
       "RUVF6T+9tbV1yZIl0Y3v9u3bl37zjBkzRgIAcHIJM56hWkHqed58883H3+2pp54K\n",
       "66WlpUcsSHl5eZ0WpNCIop/EGzNmzI4dO5xkAABQkHqGurq6lK4fvWRo586d4e0p\n",
       "U6ak7J81a1aaO323tLQsX748urtD6EjV1dXOMAAAKEg9RnNzc8W7VVVVhfWampro\n",
       "W0Bt70oXTJo0KayXl5cf8VCPPvpo+Ojtt9++fv36lE8EAAAUpJ6qpaUlKysrtJ3K\n",
       "ysrkYn19fUZGRiKRCG+0/5ToRUc5OTl1dXVOIAAAKEgnlTlz5kSvrkt+Lyi6Q8P0\n",
       "6dOjd6uqqp497L+Hf1QvMzNz7NixR+xOAACAgtSzVVdXR78WNjs7e+7cuRMnTgxv\n",
       "JxKJ5M/XrVq1KnrZUnj7hRdeiH4n7APtLFy40MkEAAAFqcfbtWtXTk5O8v4NEyZM\n",
       "2LZtW/KjUUHKyMgIbxcUFHR0h8ff/va3ziQAAChIAAAAChIAAICCBAAAoCABAAAo\n",
       "SAAAAAoSx6ixsbG8vLyoqKikpKShocEJgaNQW1u7tx2Bgi6prq5eu3btgQMHXKrg\n",
       "eETJpUpBIpbi4uKsrKzkrcAzMzNXrFjhtEBXTZ48uf299ZcuXerMQHx5eXkhODt3\n",
       "7nSpguMRJZcqBYnOVVRUJBKJkI0QpHXr1i1atCh6d+PGjU4OxNfU1JSRkTF+/PiC\n",
       "d9u+fbuTA3EcPHhw2bJl0biWMtW5VEG3RMmlSkEilpkzZ4b8LF68OLmycuXKsDJ5\n",
       "8mQnB+L7xz/+EYKzYMECpwK6KgxnU6ZMGT16dPK/Z6dMdS5V0C1RcqlSkOhcc3Nz\n",
       "ZmZmiMr+/fvb/teFKFq1tbVOEcT097//PaSmsLDQqYCjmOrueseoUaNSpjqXKuiW\n",
       "KLlUKUjEUl1dHXKSnZ2dsp6bmxvWS0pKnCKI6cknnwypeemll9avX79kyZJw+Xn1\n",
       "1VedFuiqWbNmpUx1LlXQLVFyqVKQiKWioiLkZNq0aSnrs2fPDusbNmxwiiCmBx54\n",
       "IHrheNuXvc6bN6+5udnJgWOZ6lyqoLsKkkuVgkTnysrKQjByc3NT1ufPnx/Wi4qK\n",
       "nCKI6Ve/+lVIzb333hvGtfLy8qVLl0ZXILcGgmOc6lyqoLsKkkuVgkTnSktLj3jV\n",
       "iW4N6aoDMbW0tDz77LPPPfdc2/8It2nTpug/1IWPOkVw1FOdSxV0S5RcqhQkYgmx\n",
       "CamYMmXKEUPl9qlwjMaPHx+itG/fPqcCjnqqc6mCbomSS5WCRCw1NTUhEmPGjGlt\n",
       "bW27PmnSpLBeXl7uFEEcIUEHDx5s/zPcU6dO9SJyOMapzqUKuiVKLlUKErG0tLRE\n",
       "v5i8srIyuVhfX5+RkZFIJMIbThHE8eKLL4YczZkzp+1iU1PT2LFj3YYYjnGqc6mC\n",
       "bomSS5WCRFwhJyEVM2bMSP6Xuehlr9OnT3dyIKZwXQmpGTVqVEVFRbQSAvXEE0+E\n",
       "xZycHOcHjmWqc6mCbomSS5WCRFzV1dXR79rLzs6eO3fuxIkTw9uJRMIPLUCX5Ofn\n",
       "h+xkZGTMnj27oKBg2rRp0cted+3a5eTAMRYklyrolii5VClIxBVSkZOTk7wd/oQJ\n",
       "E7Zt2+a0QJccOnRo+fLld9xxR5SjcPm59957X3vtNWcGuiT67UbtX1nuUgXHHiWX\n",
       "KgWJrmlsbKyqqmpoaHAq4Ki1trbW1tbu2bPHL90DlypwqVKQAAAAFCQAAAAFCQAA\n",
       "QEECAABQkAAAABQkAAAABQkAjpdt27YVvGPt2rXpNx84cKCgjTfeeCP9/jVr1vz1\n",
       "r3/tted2z5494SxVVFR4mgEoSAB0j5qamjNjGDp06NEd/8477zzlHYMHD06/effu\n",
       "3ae0sX79+jSbt27devrpp3/ve987yf5FHnnkkXDCb7nllk531tbWnnXWWZdccsmh\n",
       "Q4c8kwEUJAC6wb/+9a9TYrj22muPpSBdf/31Ye5/4okn0m9uaGh45LABAwakL0ih\n",
       "Elx22WWnnnrqSy+9dJL9izz00EPha//Rj34UZ/OUKVPC5tmzZ3smAyhIAHSD1tbW\n",
       "hne74IILwsw9YcKEtotvvvnmsRSk6dOnd+mzrrzyyvQFKT8/P2wYMmTIyfcv0qWC\n",
       "FP5p+vXr98lPfvKtt97yZAZQkADofl/84hfDgJ6Tk9MtRztOBemqq64KG5YtW9bL\n",
       "C1Jw6623hv0LFizw1AVQkADo3IMPPjh8+PAdO3asW7cuIyPjoosu+sIXvjBs2LCt\n",
       "W7ceRUEqLCy8+eabBw8ePGDAgK9//et33HFH+psEHLEgdXqQ9AXp5ZdfDh8955xz\n",
       "mpqauvQX27x5c2Zm5uWXXx62jRo16i9/+Uv7g69evTrac8EFF1xzzTXhb15fX5+y\n",
       "Z+PGjbfffvs3v/nNsOfGG2+cOnXqv//976M74U8//fRtt9128cUXf/7znx86dGj4\n",
       "09sXpPRf2rPPPhv2X3bZZZ7qAAoSAJ37/ve/HwboMPT36dOn7cuKwrsvvPBClwrS\n",
       "jBkz2r88qX///q+88kr8ghTnIOkL0u9///vw0euuu65Lx7z//vvPOOOMlD3jxo1L\n",
       "bmhtbZ00adKpp56asudzn/vc3r17k9vuueee008/PWXPeeedF1pTl074oUOHxowZ\n",
       "0/6vHZpS24LU6Zd24MCBaHHfvn2e7QAKEgCxClJw6aWXrl69es+ePQsXLvzsZz8b\n",
       "Vm688cb4Bentt9/+0Ic+FD6USCR2795dX19fWFg4cODAsHLTTTfFLEgxD5K+IF1/\n",
       "/fXREeIfM3zh4d3TTjstVKBdu3a9+uqrd999d1RgHnrooWjPkiVLohM1fPjw0GTC\n",
       "tvChc845J6z84Ac/iPY888wz0Z6wsmnTptBJCgoKPvWpT4WVcEqjV2rFPOF//OMf\n",
       "o20jRozYsmVLZWXl448//vGPfzxajApSzNP1iU98Iqw89thjnu0AChIAsQpSmLz/\n",
       "85//JBdzc3PDYhi14xekkpKSaHZ/8cUXk4vLly8/++yzv/rVr8YsSDEPkr4gnXvu\n",
       "ueGj4UuIf8zBgwe3/6JmzpwZFsPX+9/D3z668MILw7s/+9nP2u75wx/+EBbPOOOM\n",
       "6AftBg0aFN3TL+xP7glV6oMf/GDyy4xzwltaWs4///ywknI77/C1RN+eigpSzNP1\n",
       "ta99LewZO3asZzuAggRArIKUlZXVdnHr1q1hsV+/fvELUpjpo2+VhMl+7ty5MX+g\n",
       "K6UgxTxImoIUmklUIZI3De/0mMlbme/du/dgG6HzRN9E2rJlS/isaM/mzZvbfm5T\n",
       "U9PKlStXrVoV3kjuaf+jiYlEIqxHv5QpzgmvrKxs33wiw4YNSxakmKfrpptuCnvC\n",
       "J3q2AyhIAMQqSDNnzmy7uH379rD4kY98JH5BChYuXHjmmWcmXwkzcODAESNGrFmz\n",
       "Jn5BinmQNAWprq4u+sQNGzbEPObatWvT/5anp556KvxZ0c/gpfmlq+GAYc8HPvCB\n",
       "UK5SPpSXlxe9EinmCS8sLOzoj7vvvvvavgYpzukaP358+NC3v/1tz3YABQmAWAXp\n",
       "0UcfPfaC9N/DP04WPnT55Ze3vVHBL37xi7Y/cpa+IMU5SJqCVF9fH+0vKiqKecy/\n",
       "/e1v0bvndyA/P3/p0qUdnZCk5cuXhz3h+O2/2Oj3Mp199tkxT3j0WqY+ffq0/1Nm\n",
       "zZqVche7Tk/Xb37zm7DyjW98w7MdQEEC4D0tSEkHDhwIpSIM5dG83tH3kdL/HqSO\n",
       "DpL+NUh9+/YNH3388cdjHjMUjOg7P21vC55i27Zt0f66urq26y0tLeHUPfLII3v3\n",
       "7i0tLY32VFVVpXz61KlTw3roMDFPePJQ//znP1MONW7cuI5+D1JHp+uWW24J7/7k\n",
       "Jz/xbAdQkAB4jwrSM888M2jQoJ/+9KdtFxsaGs4666yw/8EHH4xTkGIeJH1BOu+8\n",
       "88JHQyeJecxQcvr16xfeXrJkSds9lZWV4YsdOHDgnj17GhsbTzvttLBn1qxZbfcU\n",
       "FBRE5aq2tjb0q+iecpMmTWq75+23347uzX3bbbfFPOHhUz784Q+HlbvvvjvlUNGL\n",
       "jqKCFPN0RZVp5MiRnu0AChIA71FBeuWVV6KXzTz99NPJxdLS0ugGboWFhXEKUsyD\n",
       "pC9IQ4cOTbaRmMe86667wtuf+cxnkq9cCo3ohhtuCIuhgUQrI0aMiH5MLnkPhrKy\n",
       "sosvvjgsfutb34pWQjUK7/bt2zd5i4hwnJ///OfRj96F/fFP+IQJE8JKqEnLli2L\n",
       "Vt56663Qhdre5jvm6fr0pz/d/k8EQEEC4DgWpNbW1uuuuy4a30NtGDJkyNVXXx1N\n",
       "6hdeeGH0K4A6LUgxD5K+IIWvJXz0mmuuiX/MhoaGL3/5y1HZuOiii0LhiTaEVrNy\n",
       "5croOPv27YtuIB72XHrppdGdwYMzzzxzx44d0Z433njjkksuidbDAa+99troFyUF\n",
       "v/vd77p0wuvq6r7yla9En/ulL33pO9/5TvR9oeibVFFBivOlhVoV/XLbUJw82wEU\n",
       "JABiFaR58+a1XYxeA/PRj360/f5oaj/ia5BCzRg1alT0s2GRvn373nzzza+//npH\n",
       "f3r71yDFOUj6glRVVRU6TP/+/UM3iH/MxsbGkSNHhs9K7gmVI9mOIjU1NcOGDYsq\n",
       "SuSqq65KufF3+EN/+ctfJn+jaygnod60/Q5P/BMe6tbw4cOTf6Xwd7711lvvv//+\n",
       "tq9B6vRLi+6/F91ADwAFCYD32sGDBysqKoqLi8PQH1pH+s0d3aQh/UHSF6RgyJAh\n",
       "7V9TFPMvtnv37o0bN6YpdS0tLWVlZVu2bIl+OWxHXnvttU2bNoWSc4zns7W1NfyF\n",
       "t2/f3tzcfBTnPLS+NLfBAEBBAuAEkv4udh3ptCA9//zzHd3qrVcJZeljH/tY3759\n",
       "a2trPdkAFCQAekZBuuGGGx5++OH8/Pz0mw8cOPDwYQMGDEhfkIIf/vCHYc+mTZt6\n",
       "8+m955572t9VDwAFCYATuiBFBg8enH7z7t27T2kjfUEqLy/v06fPd7/73V57bmtr\n",
       "a/v37z9o0KDka7EAUJAAOKG9/PLLT75j1apV6TeHQf/Pf/5zcn9NTU36/cXFxWHb\n",
       "oUOHem1BCl9+KIqeZgAKEgAAgIIEAACgIAEAAChIAAAAChIAAICCBAAAoCABAAAo\n",
       "SAAAAAoSAACAggQAAKAgAQAAKEgAAAAKEgAAgIIEAACgIAEAAChIAAAAChIAAICC\n",
       "BAAAoCABAAAoSAAAAAoSAACAggQAAKAgAQAAKEgAAAAKEgAAgIIEAACgIAEAAChI\n",
       "AAAAKEgAAAAKEgAAgIIEAACgIAEAAChIAAAAChIAAICCBAAA0HX/D0K6dpvSQusA\n",
       "AAAAAElFTkSuQmCC\" style=\"clip-path:url(#clipPath2);\" height=\"840\" preserveAspectRatio=\"none\"\n",
       "    /></g\n",
       "  ></g\n",
       "></svg\n",
       ">\n"
      ]
     },
     "metadata": {
      "filenames": {
       "image/svg+xml": "/Users/cpjobling/code/src/github.com/cpjobling/eg-247-textbook/_build/jupyter_execute/dt_systems/4/dt_models_53_0.svg"
      }
     },
     "output_type": "display_data"
    }
   ],
   "source": [
    "impulse(Hz,15)\n",
    "grid\n",
    "title('Example 5 - Part 2 - As Analogue Signal')\n",
    "xlabel('nTs [s]')\n",
    "ylabel('Impulse response h(t)')"
   ]
  },
  {
   "cell_type": "markdown",
   "id": "4d12bd30",
   "metadata": {
    "slideshow": {
     "slide_type": "slide"
    }
   },
   "source": [
    "#### 5.3. The DT step response\n",
    "\n",
    "$$Y(z) = H(z)X(z)$$"
   ]
  },
  {
   "cell_type": "markdown",
   "id": "0e0f2b6d",
   "metadata": {
    "slideshow": {
     "slide_type": "fragment"
    }
   },
   "source": [
    "$$u_0[n] \\Leftrightarrow \\frac{z}{z - 1}$$"
   ]
  },
  {
   "cell_type": "markdown",
   "id": "2be18b7b",
   "metadata": {
    "slideshow": {
     "slide_type": "subslide"
    }
   },
   "source": [
    "We will work through this example in class.\n",
    "\n",
    "[Skip next slide in Pre-Lecture]"
   ]
  },
  {
   "cell_type": "markdown",
   "id": "0bb9fdab",
   "metadata": {
    "slideshow": {
     "slide_type": "subslide"
    }
   },
   "source": [
    "$$\\begin{array}{lcl}\n",
    "Y(z) = H(z){U_0}(z) &=& \\frac{z^2 + z}{z^2 + 0.5z + 0.125}.\\frac{z}{z - 1}\\\\\n",
    " & = & \\frac{z(z^2 + z)}{(z^2 + 0.5z + 0.125)(z - 1)}\n",
    "\\end{array}$$"
   ]
  },
  {
   "cell_type": "markdown",
   "id": "f9d39813",
   "metadata": {
    "slideshow": {
     "slide_type": "subslide"
    }
   },
   "source": [
    "$$\\frac{Y(z)}{z} = \\frac{z^2 + z}{(z^2 + 0.5 z + 0.125)(z - 1)}$$"
   ]
  },
  {
   "cell_type": "markdown",
   "id": "f027e55d",
   "metadata": {
    "slideshow": {
     "slide_type": "fragment"
    }
   },
   "source": [
    "Solved by inverse Z-transform."
   ]
  },
  {
   "cell_type": "markdown",
   "id": "043296dd",
   "metadata": {
    "slideshow": {
     "slide_type": "notes"
    }
   },
   "source": [
    "<pre style=\"border: 2px solid blue\">\n",
    "\n",
    "\n",
    "\n",
    "\n",
    "\n",
    "\n",
    "\n",
    "\n",
    "\n",
    "\n",
    "\n",
    "\n",
    "\n",
    "\n",
    "\n",
    "\n",
    "\n",
    "\n",
    "\n",
    "</pre>"
   ]
  },
  {
   "cell_type": "markdown",
   "id": "e26f1d19",
   "metadata": {
    "slideshow": {
     "slide_type": "subslide"
    }
   },
   "source": [
    "##### Matlab Solution\n",
    "\n",
    "See [dtm_ex1_3.mlx](https://cpjobling.github.io/eg-247-textbook/dt_systems/4/matlab/dtm_ex1_3.mlx). (Also available as [dtm_ex1_3.m](https://cpjobling.github.io/eg-247-textbook/dt_systems/4/matlab/dtm_ex1_3.m).)"
   ]
  },
  {
   "cell_type": "code",
   "execution_count": 8,
   "id": "c3c3f015",
   "metadata": {},
   "outputs": [],
   "source": [
    "open dtm_ex1_3"
   ]
  },
  {
   "cell_type": "markdown",
   "id": "4a7d07fa",
   "metadata": {
    "slideshow": {
     "slide_type": "notes"
    }
   },
   "source": [
    "###### Results\n",
    "\n",
    "![Results](./pictures/dtm_ex1_3_1.png)"
   ]
  },
  {
   "cell_type": "markdown",
   "id": "6bc68c48",
   "metadata": {
    "slideshow": {
     "slide_type": "slide"
    }
   },
   "source": [
    "(simulink)=\n",
    "## Modelling DT systems in MATLAB and Simulink"
   ]
  },
  {
   "cell_type": "markdown",
   "id": "722a5674",
   "metadata": {
    "slideshow": {
     "slide_type": "fragment"
    }
   },
   "source": [
    "We will consider some examples in class"
   ]
  },
  {
   "cell_type": "markdown",
   "id": "d9d3f427",
   "metadata": {
    "slideshow": {
     "slide_type": "subslide"
    }
   },
   "source": [
    "### MATLAB\n",
    "\n",
    "Code extracted from [dtm_ex1_3.m](https://cpjobling.github.io/eg-247-textbook/dt_systems/4/matlab/dtm_ex1_3.m):"
   ]
  },
  {
   "cell_type": "code",
   "execution_count": 9,
   "id": "31d948c9",
   "metadata": {
    "slideshow": {
     "slide_type": "fragment"
    }
   },
   "outputs": [],
   "source": [
    "Ts = 1;\n",
    "z = tf('z', Ts);"
   ]
  },
  {
   "cell_type": "code",
   "execution_count": 10,
   "id": "2174cb8d",
   "metadata": {
    "slideshow": {
     "slide_type": "fragment"
    }
   },
   "outputs": [
    {
     "name": "stdout",
     "output_type": "stream",
     "text": [
      "\n",
      "Hz =\n"
     ]
    },
    {
     "name": "stdout",
     "output_type": "stream",
     "text": [
      " \n"
     ]
    },
    {
     "name": "stdout",
     "output_type": "stream",
     "text": [
      "        z^2 + z\n"
     ]
    },
    {
     "name": "stdout",
     "output_type": "stream",
     "text": [
      "  -------------------\n"
     ]
    },
    {
     "name": "stdout",
     "output_type": "stream",
     "text": [
      "  z^2 - 0.5 z + 0.125\n"
     ]
    },
    {
     "name": "stdout",
     "output_type": "stream",
     "text": [
      " \n"
     ]
    },
    {
     "name": "stdout",
     "output_type": "stream",
     "text": [
      "Sample time: 1 seconds\n"
     ]
    },
    {
     "name": "stdout",
     "output_type": "stream",
     "text": [
      "Discrete-time transfer function.\n",
      "\n"
     ]
    }
   ],
   "source": [
    "Hz = (z^2 + z)/(z^2 - 0.5 * z + 0.125)"
   ]
  },
  {
   "cell_type": "code",
   "execution_count": 11,
   "id": "3d5078c7",
   "metadata": {
    "slideshow": {
     "slide_type": "subslide"
    }
   },
   "outputs": [
    {
     "data": {
      "image/svg+xml": [
       "<?xml version=\"1.0\"?>\n",
       "<!DOCTYPE svg PUBLIC '-//W3C//DTD SVG 1.0//EN'\n",
       "          'http://www.w3.org/TR/2001/REC-SVG-20010904/DTD/svg10.dtd'>\n",
       "<svg xmlns:xlink=\"http://www.w3.org/1999/xlink\" style=\"fill-opacity:1; color-rendering:auto; color-interpolation:auto; text-rendering:auto; stroke:black; stroke-linecap:square; stroke-miterlimit:10; shape-rendering:auto; stroke-opacity:1; fill:black; stroke-dasharray:none; font-weight:normal; stroke-width:1; font-family:'Dialog'; font-style:normal; stroke-linejoin:miter; font-size:12px; stroke-dashoffset:0; image-rendering:auto;\" width=\"560\" height=\"420\" xmlns=\"http://www.w3.org/2000/svg\"\n",
       "><!--Generated by the Batik Graphics2D SVG Generator--><defs id=\"genericDefs\"\n",
       "  /><g\n",
       "  ><defs id=\"defs1\"\n",
       "    ><clipPath clipPathUnits=\"userSpaceOnUse\" id=\"clipPath1\"\n",
       "      ><path d=\"M0 0 L560 0 L560 420 L0 420 L0 0 Z\"\n",
       "      /></clipPath\n",
       "      ><clipPath clipPathUnits=\"userSpaceOnUse\" id=\"clipPath2\"\n",
       "      ><path d=\"M0 0 L1119.9999 0 L1119.9999 839.9999 L0 839.9999 L0 0 Z\"\n",
       "      /></clipPath\n",
       "    ></defs\n",
       "    ><g style=\"fill:white; stroke:white;\"\n",
       "    ><rect x=\"0\" y=\"0\" width=\"560\" style=\"clip-path:url(#clipPath1); stroke:none;\" height=\"420\"\n",
       "    /></g\n",
       "    ><g transform=\"scale(0.5,0.5)\"\n",
       "    ><image x=\"0\" y=\"0\" width=\"1120\" xlink:href=\"data:image/png;base64,iVBORw0KGgoAAAANSUhEUgAABGAAAANICAIAAAAHNA4rAABcQ0lEQVR42uzdDXyV\n",
       "dcE/fkAFUUIxIxEEyTTq1ju1NMwy0zAfS80nEL19BAYORGGKT0Mm8SBkpDkQukWs\n",
       "YIg6ITEEVAZMwAYqAoGACIKoE2EOgY3N3/fm+nv9T3uAiRPY2fv94tVr5zrn7OFw\n",
       "Pvn5sO06dT4HAABghzoeAgAAAAMJAADAQAIAADCQAAAADCQAAAADCQAAwEACAAAw\n",
       "kAAAAAwkAAAAAwkAAMBAAgAAMJAAAAAMJAAAAAMJAADAQAIAADCQAAAADCQAAAAD\n",
       "CQAAwEACAAAwkAAAAAwkAAAAAwkAAMBAAgAAMJAAAAAMJAAAAAMJAADAQAIAADCQ\n",
       "AAAADCQAAAADCQAAwEACAAAwkAAAAAwkAAAAAwkAAMBAAgAAMJAAAAAMJAAAAAwk\n",
       "AAAAAwkAAMBAAgAAMJAAAAAMJAAAAAMJAADAQAIAADCQAAAADCQAAAADCQAAwEAC\n",
       "AAAwkAAAAAwkAAAAAwkAAMBAAgAAMJAAAAAMJAAAAAMJAADAQAIAADCQAAAADCQA\n",
       "AAADCQAAwEACAAAwkAAAAAwkAAAAAwkAAMBAAgAAMJAAAAAMJAAAAAMJAOBrtW3b\n",
       "tsWLF//jH/+YPHnyW2+9tXnzZo8JYCABSSslJaXhrjz55JM17us64YQTok/+3nvv\n",
       "ra73+fHHH1+1w/33378H/hYOOuigNm3aXH755WPHjq3Gj1VaWrr5C1W5/ZgxYy68\n",
       "8MKWLVsefvjhp5122u9///uCgoKv468sIyMj/tqvueaaGvohvu4n4R62adOmvn37\n",
       "fvOb36yTIDwzu3btunLlyn3tK02CBxwwkIC978Ybb6yzKyNHjqxxX9exxx4bffJ3\n",
       "3nlndb3PYcOGRe/zF7/4xR7+W7jkkkuKioqq5WOtXbs2frcvv/zyTm4ZPuL5559f\n",
       "/pM54ogj3n777ep9BMJsa926dfwhDjzwwI0bN9a4D7EHnoR7UpjQYRJX9pwMT4N3\n",
       "3nlnn/pKa/oDDhhIgIFUY6pS6NZZWVmhUu+ZgVS/fv3999+/zN/CkCFDqn0gTZky\n",
       "ZSe3zMjISPwE6tWrF78dHt7wmFTjIxCmWpmvd8SIEdX7IO+BD5Fkfb179+7xY9Ws\n",
       "WbP27dtffPHFhxxySHzw5JNPjm7561//+js7PPTQQwYSYCAByTOQQl3Oq0h+fn6t\n",
       "HUgTJ068/PLLjz766MRi/bUOpHXr1kUHP/nkk9DgDzjggPgf7PfkQCoqKmrYsGF0\n",
       "s1B/FyxYsGHDhsTGHI5U4yNw7bXXllkvP/3pT6v3Qd4DHyLJ+vr3vve96PP/r//6\n",
       "r8LCwuhgQUHBj370o/gx/Oijj5L1n0UAAwkwkP7/al5eZmbmtV9YvHhxdDDU6/hg\n",
       "/MNaGzdu/POf/3zWWWcdc8wxhx12WOvWrcPbQ4YM2bJlS/ze0tLSonu99tprkyZN\n",
       "CgukRYsWJ598crdu3TZt2hRu8Je//OWiiy769re/fcIJJ3Tp0mXNmjXxfW+55Zbo\n",
       "vosWLQofqF27dmE5nH766bfffvuqVat2WZVef/31rl27tm3bNrzzX/3qV/fee2/i\n",
       "vcrr27dv+W+p7ZmBFLnhhhviqz7++OMqPsjxoxT+sl599dULL7ywWbNmPXr06Ny5\n",
       "829/+9v4HZ555pnhNllZWeU/pfBAxTcLb8cft0GDBtHBv/3tb9X15YfOffDBB0fv\n",
       "tkmTJvHHXbp0aZlbzpgx47rrrjv++OObNm161FFHhb/HBx544IMPPqiuD5H4uD3z\n",
       "zDMXX3zxkUce2bJly0svvXThwoWJt6zK87zCJ2F4vt16662//OUvw/M2PL2vvvrq\n",
       "cePGVfg5Dx8+PKQgfAJhkKSmpoZohCdD9OktWbIk3CC8n+hi4tB95ZVXooPXX3/9\n",
       "V3nmb968OX6UOnTokHjVmDFjDvhCFPw40ePHj/9SX0L1PuYGEhhIAHtuIM2fPz/+\n",
       "VsYpp5yyffv2/Pz80LSiIz/4wQ+ijvLee++1adOmwp/TC/eKzwoQ95hQ0BN/cCs6\n",
       "cvPNN5e5byhMGzZsiO4b/4TPSSedVOZmoTTn5ubupCoNHDiwfv365e8VJkRlX/iA\n",
       "AQP27kAK1TO+KvqVj6o8yPGjFNpn/CWHLl63bt3y9wrDqfynFLrpDTuE9xAfXL58\n",
       "efweVqxYUV1fftjD8SczefLk+EPcddddZW5W5tkSOfroo+NfhvmKHyJ+3MKkLPNY\n",
       "NWzYMC8vL7rZl32ex0/C8Gk0atSo/L0uuOCCeP1+vuOscZdffnmZ2/zkJz+J3w4r\n",
       "KPGzTfzBtpEjR0YH99tvv6/yzA9atGgR3TI8FF26dAnhKikpqfCW5b/SKn4J1fuY\n",
       "G0hgIAFUczU/55xzflNOfMa23//+9/Et+/fv3759+/gXZuKftrryyivjgx06dOjX\n",
       "r9+vfvWr+F4TJ04sU6ei7hUuhjJXpvS0atUq/mZFkJ6eXqZORb8Vc+KJJya+t+bN\n",
       "m4dmVmFVmjBhQnyzli1bnnzyyfHFgw8++MMPP6zsIdr+hWuuuWYPD6QwC4877rj4\n",
       "pAJRPa3Kg5z4KMXCQDrvvPN++ctfxkd+/OMfn3vuucOHD9/5pxce0kcffbRnz56H\n",
       "H354dMcf/ehH1fjl/+xnP4ve7QknnBAunnHGGdHFo446Km7kpaWl8Xd+2rZt++CD\n",
       "D3bq1Cn+ptD//M//fPUPUf5x+8Y3vpF4MTznd+95Hj0J//Wvf8XP8/C3Gb6K8HSN\n",
       "75X4Jfz5z3+Ojx966KHhkz/ssMMSP5MvNZB2+5kfRlGZp1D4NC655JJHHnmkzDwu\n",
       "H7cqfgnV+5gbSGAgAVRzNa9QqNTxTvjpT39a/gaDBw+ObxB3nVBe44MHHXRQdPCe\n",
       "e+4pU6dC15k5c2Y4snjx4vgUCGEyTZ06NRxcs2ZNfH7hUMvK1Klw3+hmwdChQ8v8\n",
       "5n2ZqrRly5YjjzwyOtKtW7eoEy9fvjzu3FU5L3CosHtgIN1www2pqanhk7ziiisS\n",
       "O+Wll15a9Qc5sXSGDfDwww9PmzYtFPTPv8xJGmLhLyLxb/wHP/hBVX6qrYqWLVsW\n",
       "v+eBAweGI2GMxUfiv+JFixbFB+OfCRwwYMA3dvj+97//1T9E4uMWHs9x48YVFRW9\n",
       "8cYbYatHB7/zne/s3vM8ehKGRRSvlPhbXj169Ig/k+j7OWEKxs/VMOei3wD89NNP\n",
       "Tz/99N0YSF/lmf/ZZ5/Fw7KMevXqXXbZZfHToMxXWvUvoXofcwMJDCSAPTqQghUr\n",
       "VpT5AaEzzzwz8R/g33333VU7RD/xsm7duj/96U/xjfv06VOmTv32t7+N7xv/+M0p\n",
       "p5wSH4x/SidcW6ZOlfm9iNDao+PhLuWr0ty5c+P1NW/evMVfuPjii+POWr0DKZTR\n",
       "m//Tbbfdttt/C+Fhj192pioPcvwohTu+//77iR/rqw+k6JuNZd7t7n3hwV133RX/\n",
       "1YQvLRz58MMP4++0XH311dHNwpcZf/QGDRqEv4sxY8aEol+Vz7+KHyLxcUt8laTr\n",
       "r78+bvC79zwPT8IwNuKfD8zMzIzfeRgw8VYJe6/Mo/3UU0/FtwyLYjcG0ld85od0\n",
       "P/7446eeemqFP5x5/PHHRydpKBO3qn8J1fuYG0hgIAFU80AaN27cK+WU+T3pxJ+c\n",
       "CT01qpuJQue+4YYbfvjDH5b5UZkKi2Pv3r3jO7Zr1y46eNlll8UH499HKj+QHn30\n",
       "0TK9PPGnv8pUpVGjRu18gRxwwAHVO5DiU8DFvvWtb+3eQAortMxPNO3yQY4fpeuu\n",
       "u67Mx9qNgfT5jl/ZX7Zs2d133x23/IyMjK/+hYf+Hf+iyxFHHDHhC6G1x/04Om9H\n",
       "ECZxhb+AFD6Tnbzo7Zf6EPHj1q9fv/g9xEU88bd6vtTzPDwJ8/Ly4hu89dZbiZ9h\n",
       "/Mzv2LFjuPjSSy/Ft0x8vanEsyZUfSBVyzM/etqERRo+wzI/KRd9R65M3Kr+JVTv\n",
       "Y24ggYEEUM0DaScnaYiFSZPYS+Jft4h06tSpTPc68cQT47M7VFgc4/uec8450cGr\n",
       "rroqPti5c+fKBtL//u//VviJHXPMMeU/xJAhQ3b5ck/xeSD27kAaNmzYEzs8+eST\n",
       "M2fO/OSTT8rcuCoPcvwoPfDAA7s3kEaMGNFzhzJ/xfFv75x00klf/QsPn8Au/15C\n",
       "xY9uXFxcHP7Sf/azn5V/kaizzz67stdl+lIfooq/1bMbz/PwV1nZqfN+85vfRMfD\n",
       "G+Fibm5ufMvEf57YuHFjmVf4jT/bP/zhD+X/CSP6bHf7mR8etwE7PPjgg4kvUhze\n",
       "Dk+q+L5h3ZWPW9W/hOp9zA0kMJAA9vRACiWvzGnEvv3tb8e/5P3mm28m/mp1KEbb\n",
       "t28Px+MXEaregRS/t8ill14ad+XyH+L555+Pf9Do/fff/7giu3zl0y81kJ5++unx\n",
       "/2kna6TqfwtVfJArLJ1faiDF37u76KKLEo/H53ho1qzZV//Cw9/1Lut7WERl7rVp\n",
       "06bnnnvulltuOfTQQ+ObLVq06Kt/iKqU9d17nq9fvz6+1wsvvJD4GX7/+9+Pjt9x\n",
       "xx2f/+cPEya+OvDYsWPLfPsl/tm8lJSU+Gb33ntv4me728/8xGU1d+7cMte2bt06\n",
       "fomk8nGr+pdQvY+5gQQGEkA1D6QZM2YsqUjoduGWhYWFxxxzTHxaqvhXOC6++OLo\n",
       "XT3++OPxu4p/5CnMp/jf+6t3ILVo0SL+7so777wTn/IuOi11mQ+xevXq+JcoQkuL\n",
       "33+o76ftcO211+7ysdozJ2nY+UCq4oNcxYEU3ltlHyjcMf51/NmzZ8fzLH4YE39/\n",
       "bPeEv774zBwnnnhi+n9KfDXS5cuXjxgxotEOP/7xjxMXe/nvSOz2h6hiWd/t53nT\n",
       "pk3jzRlvkmnTpsXvLXppqXBV/AqtjRs3njx58pYtW8LN4rPqx+sifv/xd/O2bt16\n",
       "/PHHJ362u/3Mz8nJSTw9d+JZyF977bX4WzfRLw6VP0lDFb+E6n3MDSQwkACquZpX\n",
       "pnv37p//5zl/X3jhhTvuuCO+GP2023PPPRcfefDBB8OsCsU6bIn4YPwbR9UykKJ/\n",
       "vQ4faMCAAUcddVTc5qMXoCz/Ia677rr49HcXXnjhn/70p/C1x+25zG807bMDqYoP\n",
       "8k4GUmi68Y2POOKIyl6o9N13341/0yOMz8svv7xdu3aJZ2MfM2bMV/yqMzMzy2yD\n",
       "RFlZWfG19957b+JZ7Hr27Bkm8cqVK+O/kVCUw4D/ih+iimV9t5/nDz/8cOILHw0f\n",
       "Pvzuu++Oz3rSpk2b6Az1QQjUziMZrYtf//rXiedLCAmNz8Oe+MNpu/fMD5MmPvFJ\n",
       "dELwMIlvvvnmX/3qV/E62sn5tav4JVTvY24ggYEEsOcG0j//+c/44vXXXx/1p/h1\n",
       "G0OTDm31o48+in/mp0LhY1XjQKrwNUNvvfXWyj5E+PTinwsqfxaErVu31oiBVMUH\n",
       "eScD6fOEn4/ayQvFJpbU8m644Yav/lWfeuqpcfkuP282b94cn8S5VatWpaWl5V94\n",
       "NJaamlotH6IqZX23n+clJSWJL91T5iyFs2bNij9i+EzuueeeMieOS0lJiQdqtC7G\n",
       "jx9f/l3FJ1GIB9JuP/PDCo2/61Wh+PyE5eNWxS+higOpio+5gQQGEkA1KP9akOWF\n",
       "Ah2/omV4I/7BtldffTVeKaH5hSMvv/zyd7/73cRfpL7jjjviXhu9RufnCafkTnwN\n",
       "lvPPP38nA+n0008vU6f69+9/xRVXxH0r9MIHH3wwvmOFH+LTTz8NFS1+ddFo2oWv\n",
       "bifnQEsUn3q42gdS4t/CTl64M1KVB3nnA2nu3LknnXTSLgfS5zt+zirxltFZ40aP\n",
       "Hp14bvfds3z58vh9ljljeyx+bdAg7Ifi4uLQuY844ojEzydcTE9Pr/C3aHbjQ1T4\n",
       "uMU/3xVPjt1+nofHLbznxO/zhPteeOGFq1atKv+5zZs3b8iQIddcc81dd931/PPP\n",
       "f/DBB/HemDNnTjRCBg4cGH8/J4TxggsumDx5cvnzv+32Mz/M9bS0tMaNG5f5/4QT\n",
       "TzzxmWeeiR/2CuNWlS+hsufq7j3mlX0agIEEsDdt37598eLFU6dOXbRoUVW+LfNl\n",
       "lalTofmFEr906dJdnmIhFkrq22+/HT7DhQsXfvbZZ7X2QQ5fe6i/69evD8Nj57cs\n",
       "KCgITXfGjBmVvfbRnhQ+22XLlkXnoA9/79Ev69e4v4LwyL/00kvhGZh4grhY2IHX\n",
       "7zB8+PD44BNPPFHhtxkLCwtnz54d9sPGjRu/pmd++ALDQz1lypSnn376X//61y7P\n",
       "9/hlv4R95P9bAAMJoEba+fdGIAl07Ngx/qZQGBhhzwwePDh+NafoPI2+BMBAAsBA\n",
       "olbIy8tLPBlJosMPP/xf//qXLwEwkAD4/3zzm9/cf4dhw4Z5NEhWCxYsOO+88xLP\n",
       "RHLYYYddcskla9eu9SUABhIAUBt99NFHc+bMeemll/aF3/6qtV8CYCABAAAYSAAA\n",
       "AAYSAACAgQQAAGAgAQAAGEgAAAAGEgAAgIHEV7Zx48aFCxfOmjVryZIlW7Zs2eXt\n",
       "8/Pz15ZTUFDgkQQAAAOpBispKcnOzu7SpUunL/Ts2TMspZ3fKz09vVM54f14PAEA\n",
       "wECqwV5++eWwbVJTU5999tmpU6cOHTo0XAx7acWKFZXdpaioKNwgLS0t6z8tXLjQ\n",
       "4wkAAAZSDda7d++wiJYsWRIfGThwYDgyYcKEyu7y7rvvhhuMHj3aowcAAAZS8ti4\n",
       "cWOYOvfee2/iwWnTpoWDmZmZld0rNzc33CDczAMIAAAGUvIoKCjIycl54403Eg+G\n",
       "aRT2z0svvVTZvcaPHx9uMH/+/HDfCRMmhKW0cuVKDyYAABhIyWP58uWzZs0aNmxY\n",
       "GD8ZGRmFhYWV3fKhhx4Kt+natWviGRpGjRpVXFzsYQQAAAMpGTz44IPx2pk/f/5O\n",
       "bnn77beH2wwaNGjOnDlLly7Nzs6OxtLOz2I3ZMiQTgAAJJfQ8RRpAyk5rVixIi8v\n",
       "L4yc7t27h+f6+PHjK7xZSUnJiy++OHXq1MTvF82bNy/6nlK4trL3H27gQYavTpRA\n",
       "lECaDCT29FLq3Llzamrql/qRubS0tBCPdevWCQ/47xCIEkgTBlKN9Prrrz/xxBPl\n",
       "f6Cub9++4bm+dOnS8ncpLS3dsmVL+e2UkZER7rJ48WLhAf8dAlECacJAqpFmz54d\n",
       "nZKhzPE+ffqE46tXry5/l7y8vHDViBEjEg8WFRWlpqaG4/n5+cID/jsEogTShIFU\n",
       "I7333nvRb9e9/fbb8cGpU6eGI2HwbN++PVwMM+nFHaJrwwQK16akpCxbtiw6Ulpa\n",
       "Om7cuHCwb9++wgP+OwSiBNKEgVSDPfnkk9H5FR577LGsrKyBAwdGkyk3Nze6wZQp\n",
       "U6Ij8V3Gjh0bLnbp0iUzMzPcpX///tF7WL58ufCA/w6BKIE0YSDVYMXFxZMnT47O\n",
       "XBdJT0/Py8uLbxANpDCH4iPbt28Pd7n11luj24erBg0atGbNGuEB/x0CUQJpwkBC\n",
       "eGDPGTNmjAcBRAl0PAMJ4QH+zzvvvONBAFECHc9AQngArQ5ECXQ8AwnhAbQ6ECXQ\n",
       "8QwkhAfQ6kCUQMczkBAeQKsDUQIdz0BCeACtDkQJdDwDCeEBtDoQJdDxDCSEB9Dq\n",
       "QJRAxzOQEB5AqwNRAh3PQEJ4AK0ORAl0PAwk4REe0OpAlEDHw0BCeECrA1ECHQ8D\n",
       "CeEBrQ5ECXQ8DCSEB7Q6ECXQ8TCQEB7Q6kCUQMfDQEJ4QKsDUQIdDwMJ4QGtDkQJ\n",
       "dDwMJIQHtDoQJdDxdDwDCeEBrQ5ECdDxDCSEB7Q6ECVAxzOQEB7Q6kCUAB3PQEJ4\n",
       "QKsDUQJ0PAMJ4QGtDkQJ0PEMJIQHtDoQJUDHM5AQHtDqQJQAHc9AQnhAqwNRAnQ8\n",
       "AwnhAa0ORAnQ8QwkhAe0OhAlDwLoeAYSwgNaHSBKoOMZSAgPaHWAKIGOZyAhPKDV\n",
       "AaIEOp6BhPCAVgeIEuh4BhLCA1odIEqg4xlICA9odYAogY5nICE8oNUBogQ6noGE\n",
       "8IBWB4gS6HgGEsJDDdJ3ysoa8UerAwMJ0PEMJISHr9eZf84Lf/b9dRR9klodGEiA\n",
       "jmcgITx8vQPp5eUb9v3PswZ9E0mrA1ECHc9AQngwkL72gVQjvtMV/oydtcTzCgwk\n",
       "0PEMJIQHA+lr30g14k/bobM9r8BAAh3PQEJ4MJD4PDyYBhIYSKDjGUgIDwYSBhIY\n",
       "SKDjGUgIDwYS5QZS+N99/4+/LAwk0PEwkBAeDKSv3a3j5kcnT9/H/9S5bbq/LAwk\n",
       "0PEwkKjURRdd9PLLL5c//vIOjifr8f87NdyoZz0O1Xh87NixNeLzDAOp5r5GsOfb\n",
       "VzleI77DGf6MnbWkpnyq/vizj/8xkAwkdlOzZs3OPPPMCgr0Do4n6/E6l//hzI49\n",
       "PA7VeLxt27Y14/Pv2KOCF+Tt87/hz752PGw5f6rxT434Dmf403bo7Jryqfrjzz7+\n",
       "x0AykPDtV74EP2JX7fxcEIgS6HgGEsKDgYRWB6IEOp6BhPBgIKHVgSiBjmcgITwY\n",
       "SGh1IEqg4xlICA8GElodiBLoeAYSwoOBhFYHogQ6noGE8GAgodWBKIGOZyAhPBhI\n",
       "aHUgSqDjGUgIDwYSWh2IEuh4BpKHQHgwkNDqQJRAx8NAQngMJLQ6ECXQ8TCQEB4D\n",
       "yUDS6kCUQMfDQEJ4vlZhdfSdsnLf/1PntukGklYHogQ6HgYSwvM1x+m26TViIFlH\n",
       "Wh2IEuh4GEgIz54YSB4ErQ4QJdDxDCSEBwNJqwNECXQ8AwnhwUBCqwNRAh3PQEJ4\n",
       "MJDQ6kCUQMczkBAeDCS0OhAl0PEMJIQHAwmtDkQJdDwDCeHBQEKrA1ECHc9AQngw\n",
       "kNDqQJRAxzOQEB4MJLQ6ECXQ8QwkhAcDCa0ORAl0PAMJ4cFAQqsDUQIdDwNJeDCQ\n",
       "0OpAlEDHw0BCeAwktDoQJdDxMJAQHgMJrQ5ECXQ8DCSEx0BCqwNRAh0PA6mW2Lhx\n",
       "48KFC2fNmrVkyZItW7YIj4GEVgeiBAYSBlJtVFJSkp2d3aVLl05f6NmzZ1hKwmMg\n",
       "odWBKIGBhIFU67z88sshBqmpqc8+++zUqVOHDh0aLoa9tGLFCuExkNDqQJTAQMJA\n",
       "ql169+4dYrBkyZL4yMCBA8ORCRMmCI+BhFYHogQGEgZSLbJx48aQgXvvvTfx4LRp\n",
       "08LBzMxM4TGQ0OpAlMBAwkCqRQoKCnJyct54443Eg2EahWC89NJLwmMgodWBKIGB\n",
       "hIFUSy1fvnzWrFnDhg0LqcjIyCgsLBQeAwmtDkQJDCQMpFrqwQcfjE9kN3/+/KqE\n",
       "p0Jjxox5hy8vDCQPQu00c+ZMDwKIEuxhobB1qpxibCDxf1asWJGXl5ednd29e/cQ\n",
       "jPHjx/vXhT0aJ99B8s/egCjBPkDHM5CoYCl17tw5NTW1uLhYeAwktDoQJTCQMJBq\n",
       "i9dff/2JJ54o/wN1ffv2DdlYunSp8BhIaHUgSmAgYSDVFrNnz45OyVDmeJ8+fcLx\n",
       "1atXC4+BhFYHogQGEgZSbfHee+9Fv4r39ttvxwenTp0ajqSmpm7fvl14DCS0OhAl\n",
       "MJAwkGqRJ598MsSga9eujz32WFZW1sCBA6PJlJubKzwGElodiBIYSBhItUtxcfHk\n",
       "yZOjM9dF0tPT8/LyhMdAQqsDUQIDCQMJ4TGQ0OpAlEDHw0BCeAwktDoQJdDxdDwD\n",
       "CeExkNDqQJQAHc9AQngMJLQ6ECVAxzOQEB4DCa0ORAnQ8QwkhMdAQqsDUQJ0PAMJ\n",
       "4TGQ0OpAlAAdz0BCeAwktDoQJUDHM5AQHgMJrQ5ECdDxDCSEx0BCqwNRAnQ8Awnh\n",
       "MZDQ6kCUAB3PQEJ4DCS0OhAlDwLoeAYSwmMgodUBogQ6noGE8BhIaHWAKIGOZyAh\n",
       "PAYSWh0gSqDjGUgIj4GEVgeIEuh4BhLCYyCh1QGiBDqegYTwGEhodYAogY5nICE8\n",
       "BhJaHSBKoOMZSAiPgYRWB4gS6HgGEsKDgaTVAaIEOp6BhPBgIGl1Wh2IEuh4BhLC\n",
       "g4GEVgeiBDqegYTwYCCh1YEogY5nICE8GEhodSBKoOMZSAgPBhJaHYgS6HgGEsKD\n",
       "gYRWB6IEOp6BhPBgIKHVgSiBjmcgITwYSGh1IEqg4xlICA8GElodiBLoeAYSwoOB\n",
       "hFYHogQ6HgaS8AiPgYRWB6IEOh4GEsJjIKHVgSiBjoeBhPAYSGh1IEqg42EgITwG\n",
       "ElodiBLoeBhICI+BhFYHogQ6HgYSwmMgodWBKIGOh4GE8BhIaHUgSqDjYSAhPAYS\n",
       "Wh2IEqDjGUgIj4GEVgeiBOh4BhLCYyCh1YEoATqegYTwGEhodSBKgI5nICE8BhJa\n",
       "HYgSoOMZSAiPgYRWB6IE6HgGEsJjIKHVgSgBOp6BhPAYSGh1IEqAjmcgITwGElod\n",
       "iBKg4xlICI+BhFYHogToeAYSwmMgodWBKIkS6HgGEsJjIKHVAaIEOp6BhPAYSGh1\n",
       "gCiBjmcgITwGElodIEqg4xlICI+BhFYHiBLoeAYSwmMgodUBogQ6noGE8BhIaHWA\n",
       "KIGOZyAhPAYSWh0gSqDjGUgIj4GEVgeIEuh4BhLCg4Gk1QGiBDqegYTwYCBpdVod\n",
       "iBLoeAYSwoOBhFYHogQ6noGE8GAgodWBKIGOZyAhPBhIaHUgSqDjGUgIDwYSWh2I\n",
       "Euh4BhLCg4GEVgeiBDqegYTwYCCh1YEogY5nICE8GEhodSBKoOMZSAgPBhJaHYgS\n",
       "6HgGEsKDgYRWB6IEOh4GEsJjIKHVgSiBjoeBhPAYSGh1IEqg42EgITwGElodiBLo\n",
       "eBhICI+BhFYHogQ6HgYSwmMgodWBKIGOh4GE8BhIaHUgSqDjYSAhPAYSWh2IEuh4\n",
       "GEgIj4GEVgeiBOh4BhLCYyCh1YEoATqegZTcNm/e/O9//3vWrFlLliwJb+/y9vn5\n",
       "+WvLKSgoEB4DCa0ORAkMJAykGqy0tHTq1Kldu3bt9IXu3btPmzZt5/dKT0/vVE52\n",
       "drbwGEhodSBKYCBhINVgM2bMCE/rlJSUrKysnJycUaNGde7cORx57bXXKrtLUVFR\n",
       "ly5d0tLSsv7TwoULhcdAQqsDUQIDCQOppiopKenVq1d4Ws+dOzc+OHHixHBk8ODB\n",
       "ld3r3XffDTcYPXq08BhIaHUgSmAgeRAMpOTxwQcfhOf0nXfeWVpaGh/Mz88PB1NT\n",
       "Uyu7V25ubrjBLn8MT3gMJLQ6ECUwkDCQapLVq1ffd999Zb4XFA6GJ3paWlpl9xo/\n",
       "fny4wfz583NyciZMmBCW0sqVK4XHQEKrA1ECAwkDKQk9/vjj4YmemZlZ2Q0eeuih\n",
       "cIPE8zoEo0aNKi4uToLwvLx8Q434YyBpdYAogYFkIPH1Ki0tnTBhQjR+1q1bV9nN\n",
       "br/99nCbQYMGzZkzZ+nSpdnZ2dFY2uVZ7Co0ZsyYd/YZY2ctCcOj7dDZ+/6fW8fN\n",
       "f4daaebMmR4EECXYw0Jh61Q5LdpASk5hEQ0cODA8xW+55Za33nqrspuVlJS8+OKL\n",
       "U6dOTfx+0bx586JZFa6t0f+68PLyDWf+Oc+TAf/sDaIE+A6SgVR7hVUzefLk6LtA\n",
       "YSOtX79+N95JWlpauPtOvu9kIIFWB6IEBhIG0r6uuLh4+PDh4Zndo0ePnJycxNPZ\n",
       "VSjcYMuWLeV/3SgjIyO8k8WLFxtIoNWBKIGBhIFUU0W/dNS3b98NGzZU5fZ5eXnh\n",
       "9iNGjEg8WFRUlJqaGo7n5+cbSKDVgSiBgYSBVCOFUdS1a9ewbTZt2lTZbVavXv3i\n",
       "DtHF6FWSUlJSli1bFh0pLS0dN25ctLJqengMJLQ6ECXAQDKQaq9XX301ek3Yh8p5\n",
       "4oknottMmTKlzPlJxo4dGy526dIlMzMzKyurf//+0Rkali9fbiCBVgeiBAYSBlJN\n",
       "FeZNZadrvOeeexIHUphD8b22b98+efLkW2+9NbpluGrQoEFr1qxJgvAYSGh1IEqA\n",
       "gWQgITwGElodiBJgIBlICI+BhFYHogQYSAYSwmMgodWBKAEGkoGE8BhIaHWAKIGB\n",
       "ZCAhPAYSWh0gSmAgGUgIj4GEVgeIEhhIBhLCYyCh1QGiBDqegYTwGEhodYAogY5n\n",
       "ICE8BhJaHSBKoOMZSAiPgYRWB4gS6HgGEsJjIKHVAaIEOp6BhPAYSGh1gCiBjmcg\n",
       "ITwGElodIEqg4xlICI+BBFodiBLoeAYSwmMggVYHogQ6noGE8BhIoNWBKIGOZyAh\n",
       "PAYSaHUgSqDjGUgIj4EEWh2IEuh4BhLCYyCBVgeiBDqegYTwGEig1YEogY5nICE8\n",
       "BhJodSBKoOMZSAiPgQRaHYgS6HgYSMJjIIFWB6IEOh4GEgYSaHUgSqDjYSBhIIFW\n",
       "B6IEOh4GEgYSaHUgSqDjYSBhIIFWB6IEOh4GEgYSaHUgSqDjYSBhIIFWB6IEOh4G\n",
       "EgYSaHUgSqDjeRAMJAwk0OpAlAADyUDCQAKtDkQJMJAMJAwk0OpAlAADyUDCQAKt\n",
       "DkQJMJAMJAwk0OpAlAADyUDCQPKXhVYHogQYSAYSwmMgodWBKAEGkoGE8BhIaHUg\n",
       "SoCBZCAhPAYSWh2IEmAgGUgIj4GEVgeiBBhIBhLCYyCh1QGiBAaSgYTwGEhodYAo\n",
       "gYFkICE8BhJaHSBKYCAZSAiPgYRWB4gS6HgGEsJjIKHVAaIEOp6BVHuVlpYuWLBg\n",
       "8ODBF198cdu2bVu3bt2sWbMTTjjhrLPO6tGjx7PPPvvxxx8Lj4GEVgeIEhhIBlKS\n",
       "27hx49ChQ48++ug6O3XAAQdcddVVs2fPFh4DCa0OECUwkAykJLRt27ZBgwY1btw4\n",
       "mkBNmjQ56aSTLr300ttuu+3hhx9+/PHH+/bte9111/3iF79o2bJlvXr1opude+65\n",
       "q1atEh4DCa0ORMmDAAaSgZQ81qxZc+yxx4bB06xZs169ei1YsGDnt//www/Dajr1\n",
       "1FPDXQ4++OAXXnhBeAwktDoQJcBAMpCSxLx585o2bfrHP/5x69atX+qO//znP088\n",
       "8cTBgwcLj4GEVgeiBBhIBlKS2Lx5c2FhYXxx2rRpffr0mTt3boU3zszMDNdu2LAh\n",
       "ulhaWvrpp58Kj4GEVgeiBBhIBlJySk9Pr1OnzvDhwyu8NvrJur3+XwIDCbQ6ECUw\n",
       "kDCQvkYzZ86cvsO1114bJlDPnj2nl5OdnX3IIYeEa9etWyc8BhJaHSBKYCAZSEmr\n",
       "adOmdaombKTi4mLhMZDQ6gBRAgPJQEpap5xyynd2aNKkSVhBhx9++HfK+e53v/vz\n",
       "n/98/PjxwmMgodUBogQGkoGUnEpKSrZs2RJf3PnvIJVRWlq6efNm4TGQ0OpAlAAD\n",
       "yUBKEq+99lrz5s3/8pe/bN++PVwcMWLEySef/PTTT+/yjlOnTv3xj3/sNN8GElod\n",
       "iJIHAQwkAyl5rFq1qlmzZnXq1DnuuON+//vfh4s7v/3HH3+cmZl52mmnhbscdNBB\n",
       "kyZNEh4DCa0ORAkwkAyk5PHJJ5/cfPPNdevWDZsn/G/r1q3POuusG2+8MSMj469/\n",
       "/evYsWMHDBjQuXPnc84559hjj91///2jszVcddVVq1evFh4DCa0ORMmDAAaSgZSE\n",
       "Fi1alJKScvDBB+/8LHYHHnjgTTfd9NZbbwmPgYRWB4gSGEgGUpIrKCj4xz/+0atX\n",
       "rzPOOON73/tekyZNDjnkkGOPPfZnP/tZt27dsrOzN23aJDwGElodIEpgIBlItUJJ\n",
       "SYnwGEhodYAogY5nIPF/MjIyTjnllMzMzI0bNwqPgYRWB4gS6HgGUq0WvQ5S0LBh\n",
       "w6uvvvqll14qLS0VHgMJrQ4QJdDxDKTaaNWqVX379m3Tpk18VobWrVv369dvb52w\n",
       "zkACrQ5ECQwkDKS97/XXX7/zzjvDOopmUr169X79619nZWVt3bpVeAwktDpAlMBA\n",
       "MpBqqblz5/bs2bN58+bRUvrmN7/ZvXv3N954Q3gMJLQ6QJTAQDKQaqMNGzZkZmY2\n",
       "btw48QWRzj777L01kwwk0OpAlMBAwkDa07Zs2fLUU09dfPHF9evXj0ZR06ZNe/Xq\n",
       "1blz52984xvRiRzefPNN4TGQ0OpAlAADyUBKWiUlJdOnT7/hhhsOOeSQaBfVrVv3\n",
       "7LPPzsrK2rZtW3SbjRs3nnPOOeGqbt26CY+BhFYHogQYSAZScnrmmWfiXzcKvv3t\n",
       "b99xxx3Lly8vf8vs7Oxwg8suu0x4DCS0OhAlwEAykJJT9DpIdevWbdeu3VNPPVVU\n",
       "VFTZLV944YVzzjnn0UcfFR4DCa0ORAkwkAyk5DRixIg+ffqsWLFCeAwktDpAlEDH\n",
       "M5AQHgMJrQ4QJdDxDCSEx0BCqwNECXQ8AwnhMZDQ6gBRAh3PQEJ4DCS0OkCUQMcz\n",
       "kNiXbN68+d///vesWbOWLFkS3jaQQKsDUQIDCQOpNiotLZ06dWrXrl07faF79+7T\n",
       "pk0zkECrA1ECAwkDad9SVFQ0adKkIUOGpKWlhYt5eXkFBQXV+yFmzJgRYpCSkpKV\n",
       "lZWTkzNq1KjOnTuHI6+99pqBBFodiBIYSBhI+4oBAwY0bdq0zhfCkbPPPrthw4b9\n",
       "+vWrrg9RUlLSq1evEIO5c+fGBydOnBiODB482EACrQ5ECQwkDKR9wm233RbtoiOP\n",
       "PDIeSJdeemn0dkZGRrV8lA8++CBk4M477ywtLY0P5ufnh4OpqakGEmh1IEpgIGEg\n",
       "7X05OTlhBe23334jR44MF4844ohoIG3btu2BBx4Ibzdu3HjTpk1f/QOtXr36vvvu\n",
       "Gz16dJmDIRjRD/UZSKDVgSiBgYSBtJf169cvrKDevXtHF+OBFDnuuOPCxVmzZn1N\n",
       "H/3xxx8PwcjMzDSQQKsDUQIDCQNp7zv33HPDBMrJyalwIN14443h4tixY6v945aW\n",
       "lk6YMCGkomvXruvWrdtleCo0ZsyYd/YZY2ctaTt09juwD5s5c6YHAUQJ9rBQ2DpV\n",
       "Ths3kPY511xzTZhAzz//fIUDKZpP1f4dpLCIBg4cGCJxyy23vPXWW8nxrwu+g4R/\n",
       "9gZRAnwHyUCq8YYNGxYmUBhC5QfSggULGjRoULdu3Wo833dJScnkyZOjl0IKG2n9\n",
       "+vVJEx4DCa0ORAkwkAykGi8/P7958+ZhFF1wwQW5ubmHHXZYeHvNmjWjRo1q1qxZ\n",
       "eLtDhw7V9bGKi4uHDx8ektCjR4+cnJzE09kZSKDVgSiBgYSBtE945ZVXGjVqVKci\n",
       "bdq0qcZvH0W/dNS3b98NGzYkX3gMJLQ6ECXAQDKQksTatWs7duzYpEmTeBq1atVq\n",
       "6NChW7dura4PEUZR165dU1NTd+Ok4QYSaHUgSmAgYSDtBevWrcvLy8vPz6/29/zq\n",
       "q69Grwn7UDlPPPGEgQRaHYgSGEgYSPuQTz/9NPqloPC/WVlZPXv2fPjhh1esWFFd\n",
       "7z+8z8pO73jPPfcYSKDVgSiBgYSBtE9YsGDBaaedVq9evejXjW6++eb4B+0aNWqU\n",
       "m5srPAYSWh0gSmAgGUi1wtq1axs3bhzNoTCQXn/99ejt5s2bt27dOrxx/PHHC4+B\n",
       "hFYHiBIYSAZSrdC/f/+wgsIWmjNnTrh4zz33hIs//OEPt23bVlhY2LJly3Bx0aJF\n",
       "wmMgodUBogQGkoGU/C6//PIwgf7+979HF08//fRwceTIkfGzNlycNGmS8BhIaHWA\n",
       "KIGBZCAlvzPPPDNMoDfffDO8/dlnnzVo0CBcXLVqVXRtz549w8W//e1vwmMgodUB\n",
       "ogQGkoGU/C655JIwgV544YXw9rPPPhvebtmyZXxtu3btwpHp06cLj4GEVgeIEhhI\n",
       "BlLyu//++8MEOu2008aPH3/ccceFt1NSUqKrnnvuuXr16u2///7r168XHgMJrQ4Q\n",
       "JTCQDKTk99577x188MHxeb3r168f/bjdtddeGx1p37698BhIaHWAKIGBZCDVFjNm\n",
       "zDjhhBPq1q17/PHH//Wvf40OnnfeeWEdXXTRRYWFhcJjIKHVAaIEBpKBVLts3rw5\n",
       "8eKcOXPWrFkjPAYSWh0gSmAgGUgIj4GEVgeIEuh4BlItVlpa+vHHH39UkZKSEuEx\n",
       "kNDqAFECA8lAqhVefPHFtm3b1q9fv04l9vp/CQwk0OpAlMBAwkDaExYvXtywYcM6\n",
       "O2UgGUhodYAogYFkINUKvXr1ChPoqKOOGjVq1EcffVRYkdLSUuExkNDqAFECA8lA\n",
       "Sn7nn39+GEhDhgwRHgMJrQ4QJdDxDKTa7rLLLgsDaebMmcJjIKHVAaIEOp6BVNsN\n",
       "GzYsDKQ//vGPwmMgodUBogQ6noFU261Zs6Zly5aHHnro/PnzhcdAQqsDRAl0PAOp\n",
       "Vps7d+7tt99ep06devXqtWvXrnv37neUs2HDBuExkNDqAFECA8lASn7p6el1dsVp\n",
       "vg0ktDpAlMBAMpBqhUmTJnXZlfz8fOExkNDqAFECA8lAqnW2b9/+ySefCI+BhFYH\n",
       "iBLoeAZS7bVx48a0tLTvf//79evXr1OnTpMmTX76059mZWUJj4GEVgeIEhhIBlLt\n",
       "kpeXd/jhh1f420ft2rUrLi4WHgMJrQ4QJTCQDKRa4dNPPz322GPDFmrUqNE999wz\n",
       "efLkefPmZWVlXXLJJdFG6tOnj/AYSGh1gCiBgWQg1QojR44MK+jwww9ftWpVmasy\n",
       "MzPDVQcccMC2bduEx0BCqwNECQwkAyn5de3aNaygRx99tMJrf/KTn4Rr9/pryBpI\n",
       "oNWBKIGBhIG0J5x11llhAuXm5lZ4befOncO148aNEx4DCa0OECUwkAyk5HfTTTeF\n",
       "CTR69OgKr/3lL38Zrp0zZ47wGEhodYAogYFkICW/Rx99NEygo48+uvzLH2VnZ4er\n",
       "9ttvv88++0x4DCS0OkCUwEAykJLfhx9+2KxZszCEWrRo8dhjj7311lvvv//+q6++\n",
       "2qNHjwMOOCAcv/nmm4XHQEKrA0QJDCQDqbaYNm1agwYNKnwdpP/+7//evHmz8BhI\n",
       "aHWAKIGBZCDVIitXrrzqqqsaNWoUT6MWLVo8+OCDe/0E3wYSaHUgSmAgYSDtNWvX\n",
       "rl20aFFBQYHwGEhodYAogY5nINVehYWF06dPHz58eEZGxpgxY+bMmVNaWio8BhJa\n",
       "HSBKYCAZSLVLSUnJH/7wh6ZNm5b5BaSTTjpp6tSpwmMgodUBogQGkoFUi6SlpUWL\n",
       "6IADDmjTpk3btm2bN28eH6nsNWSFx0BCqwNRAgwkAynZzJgxI9pCN91007p16+Lj\n",
       "r7766sknnxyOt2rVSngMJLQ6QJTAQDKQaoX77rsvrKDf/e535a/Kz8+Pfu5u5cqV\n",
       "wmMgodUBogQGkoGU/M4///wwgZ577rkKr73iiivCtU8//bTwGEhodYAogYFkICW/\n",
       "aAJNmzatwmvbt28frn322WeFx0BCqwNECQwkAyn5DRw4MEygXr16lb+qsLDwyCOP\n",
       "DNe+9957wmMgodUBogQGkoGU/FavXt2iRYu6desOHz58+/bt8fEPPvgg+um79u3b\n",
       "C4+BhFYHiBIYSAZSrTBx4sQzzjgjOpHd0Ucf3aFDh5SUlAsvvPDAAw+MDnbs2LFT\n",
       "gilTpgiPgYRWB6IEGEgGUnJKT0+v82UMGjRIeAwktDoQJcBAMpCS07Rp0/p8GTNm\n",
       "zBAeAwmtDkQJMJAMJITHQEKrA0QJDCQDqXb49NNPS0tLwxvhf7Oysnr27Pnwww+v\n",
       "WLFCeAwktDpAlMBAMpBqkQULFpx22mn16tUrKCgIF2+++eb4N44aNWqUm5srPAYS\n",
       "Wh0gSmAgGUi1wtq1axs3bhzNoTCQXn/99ejt5s2bt27dOrxx/PHHC4+BhFYHiBIY\n",
       "SAZSrdC/f/+wgsIWmjNnTrh4zz33hIs//OEPt23bVlhY2LJly3Bx0aJFwmMgodUB\n",
       "ogQGkoGU/C6//PIwgf7+979HF08//fRwceTIkfGzNlycNGmS8BhIaHWAKIGBZCAl\n",
       "vzPPPDNMoDfffDO8/dlnnzVo0CBcXLVqVXRtz549w8W//e1vwmMgodUBogQGkoGU\n",
       "/C655JIwgV544YXw9rPPPhvebtmyZXxtu3btwpHp06cLj4GEVgeIEhhIBlLyu//+\n",
       "+8MEOu2008aPH3/ccceFt1NSUqKrnnvuuXr16u2///7r168XHgMJrQ4QJTCQDKTk\n",
       "99577x188MHxeb3r168f/bjdtddeGx1p37698BhIaHWAKIGBZCDVFjNmzDjhhBPq\n",
       "1q17/PHH//Wvf40OnnfeeWEdXXTRRYWFhcJjIKHVAaIEBpKBVLts3rw58eKcOXPW\n",
       "rFkjPAYSWh0gSmAgGUi1UVFR0aRJk4YMGZKWlhYu5uXlFRQUCI+BhFYHiBIYSAZS\n",
       "rTNgwICmTZvGv4kUjpx99tkNGzbs16+f8BhIaHWAKIGBZCDVIrfddlu0i4488sh4\n",
       "IF166aXR2xkZGcJjIKHVAaIEBpKBVCvk5OSEFbTffvuNHDkyXDziiCOigbRt27YH\n",
       "HnggvN24ceNNmzYJj4GEVgeIEhhIBlLy69evX1hBvXv3ji7GAykSvTLSrFmzhMdA\n",
       "QqsDRAkMJAMp+Z177rlhAuXk5FQ4kG688cZwcezYscJjIKHVAaIEBpKBlPyuueaa\n",
       "MIGef/75CgdSNJ98B8lAQqsDRAkMJAOpVhg2bFiYQGEIlR9ICxYsaNCgQd26dff6\n",
       "+b4NJNDqQJTAQMJA2hPy8/ObN28eRtEFF1yQm5t72GGHhbfXrFkzatSoZs2ahbc7\n",
       "dOggPAYSWh0gSmAgGUi1xSuvvNKoUaM6FWnTps2+8HKxBhJodSBKYCBhIO05a9eu\n",
       "7dixY5MmTeJp1KpVq6FDh27dulV4DCS0OkCUwEAykGqLYcOGdevWbdKkSdHFdevW\n",
       "5eXl5efnC4+BhFYHiBLoeAZSrdOjR486depcffXVwmMgodUBogQ6noFU2z3zzDNh\n",
       "ILVs2bKwsFB4DCS0OkCUQMczkGq1zZs3X3DBBWEjtW/fftOmTcJjIKHVAaIEOp6B\n",
       "VHu9+eabY8aMOeaYY8JGOvTQQzt06HDHHXcM/E8bN24UHgMJrQ4QJTCQDKTkl56e\n",
       "XmdX9vp/CQwk0OpAlMBAwkDaE5566qkrd+XDDz8UHgMJrQ4QJTCQDCSEx0BCqwNE\n",
       "CQwkA4kvaf369a+88kpVToWXn5+/tpyCggIDCbQ6ECUwkDCQksRjjz0WnuJvv/32\n",
       "Lm+Znp7eqZzs7GwDCbQ6ECUwkDCQarwtW7ZMnDgx2jm7HEhFRUVdunRJS0vL+k8L\n",
       "Fy40kECrA1ECAwkDqQYLq+b+++/v1q1b/I2gXQ6kd999N9xs9OjRyRceAwmtDkQJ\n",
       "MJAMpNo+kO77QkpKSlUGUm5ubrjZtGnTDCTQ6kCUwEDyIBhISeuRRx6pykAaP358\n",
       "uNn8+fNzcnImTJgQltLKlSsNJNDqQJTAQMJAqo0D6aGHHgo369q1a+IZGkaNGlVc\n",
       "XLzz8FRozJgx7+wzxs5a0nbo7HdgHzZz5kwPAogS7GGhsHWqnBZtIO27CgsLp0+f\n",
       "Pnz48IyMjPA8njNnTmlpabUPpNtvvz3cbNCgQeH9L126NDs7OxpLzmIH/tkbRAl8\n",
       "BwkDaZ9QUlLyhz/8oWnTpnX+00knnTR16tRqHEjhA7344ovhfSZ+v2jevHnR95TC\n",
       "tQYSaHUgSmAgYSDtZWlpadEiOuCAA9q0adO2bdvmzZvHR3Jzc6trIO3kEwj3Xbdu\n",
       "nYEEWh2IEhhIGEh704wZM6ItdNNNNyVOlFdfffXkk08Ox1u1alVdA6m0tHTLli3l\n",
       "f90oIyMj3Hfx4sUGEmh1IEpgIGEg7U333XdfWEG/+93vyl+Vn58f/dxdVU40V5WB\n",
       "lJeXF24zYsSIxINFRUWpqanhePhwBhJodSBKYCBhIO1N559/fphAzz33XIXXXnHF\n",
       "FeHap59+evcG0urVq1/cIV5c4TYpKSnLli2LjpSWlo4bNy4c7Nu3b00Pj4GEVgei\n",
       "BBhIBlKNF02gyl65tX379uHaZ599dvcG0pQpU8qcwHHs2LHhYpcuXTIzM7Oysvr3\n",
       "7x+doWH58uUGEmh1IEpgIGEg7WUDBw4ME6hXr17lryosLDzyyCPDte+9994u308Y\n",
       "PJUNpDCH4iPbt2+fPHnyrbfeGg2ncNWgQYPWrFmTBOExkNDqQJQAA8lAqvFWr17d\n",
       "okWLunXrDh8+PKyX+PgHH3wQ/fRd+/bthcdAQqsDRAkMJAOpVpg4ceIZZ5wRncju\n",
       "6KOP7tChQ0pKyoUXXnjggQdGBzt27Jj4asdTpkwRHgMJrQ5ECTCQDKTklJ6eXufL\n",
       "GDRokPAYSGh1IEqAgWQgJadp06b1+TJmzJghPAYSWh2IEmAgGUhJrqioaNKkSUOG\n",
       "DElLS/t8x2sWFRQUCI+BhFYHiBIYSAZSrTNgwIDoNWEj4cjZZ5/dsGHDfv36CY+B\n",
       "hFYHiBIYSAZSLXLbbbdFuyg6qXc0kC699NLo7YyMDOExkNDqAFECA8lAqhVycnLC\n",
       "Ctpvv/1GjhwZLh5xxBHRQNq2bdsDDzwQ3m7cuPGmTZuEx0BCqwNECQwkAyn59evX\n",
       "L6yg3r17RxfjgRQ57rjjwsVZs2YJj4GEVgeIEhhIBlLyO/fcc8MEysnJqXAg3Xjj\n",
       "jeHi2LFjhcdAQqsDRAkMJAMp+V1zzTVhAj3//PMVDqRoPvkOkoGEVgeIEhhIBlKt\n",
       "MGzYsDCBwhAqP5AWLFjQoEGDunXr7vXzfRtIoNWBKIGBhIG0J+Tn5zdv3jyMogsu\n",
       "uCA3N/ewww4Lb69Zs2bUqFHNmjULb3fo0EF4DCS0OkCUwEAykGqLV155pVGjRnUq\n",
       "0qZNm33h5WINJNDqQJTAQMJA2nPWrl3bsWPHJk2axNOoVatWQ4cO3bp1q/AYSGh1\n",
       "gCiBgWQg1VLr1q3Ly8vLz88XHgMJrQ4QJdDxDKRaZ9q0aX369Jk7d26F12ZmZoZr\n",
       "N2zYIDwGElodIEpgIBlIyS89Pb1OnTrDhw+v8NpTTz01XLvX/0tgIIFWB6IEBhIG\n",
       "0tdo5syZ03e49tprwwTq2bPn9HKys7MPOeSQcO26deuEx0BCqwNECQwkAylpNW3a\n",
       "tE7VhI1UXFwsPAYSWh0gSmAgGUhJ65RTTvnODtGZ6w4//PDvlPPd73735z//+fjx\n",
       "44XHQEKrA0QJDCQDqVbY+e8gCY+BhFYHiBIYSAZSLTJixIiTTz756aefFh4DCa0O\n",
       "ECXQ8QwkhMdAQqsDRAl0PAOJHUpKShIvLlmyZNCgQVdeeeXdd9/90ksvlZaWCo+B\n",
       "hFYHiBIYSAZS8u+iwYMH/+QnP2nYsOH27dujg1OmTGnUqFHiKew6d+68L2wkAwm0\n",
       "OhAlMJAwkL4uW7duPffcc+MVFJ3Fu7Cw8Fvf+la4WLdu3egcd9G1AwcOFB4DCa0O\n",
       "ECUwkAykpPXwww9H4+c3v/lNVlZW9D2iYcOGRevoxRdfjG7Wt2/fcKR58+ZeB8lA\n",
       "QqsDRAkMJAMpabVq1Sosn+uvvz7x4Nlnnx0OXnnllfGRMJxatGgRDs6YMUN4DCS0\n",
       "OkCUwEAykJJQQUFB9O2j6dOnxwe3bNlSv379cPCpp55KvPF1110XDj7xxBPCYyCh\n",
       "1QGiBAaSgZSEFi5cGDZPo0aNtm3bFh+cNWtWtJry8/MTb9yzZ89wcNCgQcJjIKHV\n",
       "AaIEBpKBlISWLVsWNs/RRx+deLB///7h4HHHHVfmxldeeWU4Pnr0aOExkNDqAFEC\n",
       "A8lASkLbtm2rV6/efvvt9/7778cHTzvttOik3mVu2axZs3A8JydHeAwktDpAlMBA\n",
       "MpCS0y9+8Yswe6655proVWKfeeaZ6OfrsrOzE282ePDgcPCQQw4pKCgQHgMJrQ4Q\n",
       "JTCQDKTk9I9//CNaRK1atWrbtm29evWiH7qLXjE2/O/s2bN79OgR3ebuu+8WHgMJ\n",
       "rQ4QJTCQDKRkNmDAgDoJDjrooPikdlOmTImPn3766Z988onwGEhodYAogYFkICW5\n",
       "3Nzc+++//7LLLuvbt+8bb7wRH580aVKYRt/5znd69uyZeKY74TGQ0OoAUQIDyUBC\n",
       "eAwktDpAlMBAMpAQHgMJrQ4QJTCQDCSEx0BCqwNECXQ8AwnhMZDQ6gBRAh3PQEJ4\n",
       "DCS0OkCUQMczkBAeAwmtDhAl0PEMJITHQEKrA0QJdDwDCeExkNDqAFECHc9AQngM\n",
       "JLQ6DwKIEuh4BhLCYyCBVgeiBDqegYTwGEig1YEogY5nICE8BhJodSBKoOMZSAiP\n",
       "gQRaHYgS6HgGEsJjIIFWB6IEOp6BhPAYSKDVgSiBjmcgITwGEmh1IEqg4xlICI+B\n",
       "BFodiBLoeAYSwmMggVYHogQ6HgaS8BhIoNWBKIGOh4GEgQRaHYgS6HgYSBhIoNWB\n",
       "KIGOh4GEgQRaHYgS6HgYSBhIoNWBKIGOh4GEgQRaHYgS6HgYSBhIoNWBKIGOh4GE\n",
       "gQRaHYgS6HgGkoGEgQRaHYgSYCAZSBhIoNWBKAEGkoGEgQRaHYgSYCAZSBhIoNWB\n",
       "KAEGkoGEgQRaHYgSYCAZSBhIBhJaHYgSYCAZSAiPgYRWB6IEGEgGEsJjIKHVgSgB\n",
       "BpKBhPAYSGh1IEqAgWQgITwGElodiJIHAQwkAwnhMZDQ6gBRAgPJQEJ4DCS0OkCU\n",
       "wEAykBAeAwmtDhAlMJAMJITHQEKrA0QJdDwDiT1o/fr1r7zySmFhoYEEWh2IEhhI\n",
       "GEi13WOPPRYi8fbbbxtIoNWBKIGBhIFUe23ZsmXixImddjCQQKsDUQIDCQOpllq4\n",
       "cOH999/frVu3Tl8wkECrA1ECAwkDqfYOpPu+kJKSYiCBVgeiBAYSBhL/55FHHjGQ\n",
       "QKsDUQIDCQOJLz2QmvUYW9mftkNn7zt/bh03/x3Yh82cOdODAKIEe9iYMWM6VU4r\n",
       "NpDYnYF0Uco9Ly/fsO//8deKf/YGUQJ8B8lA4msfSMIDWh2IEhhIGEgGkvCAVgei\n",
       "BAYSBpKBJDyg1YEogYGEgWQgCQ9odSBKYCBhIBlIwgNaHYgSGEgYSAaS8IBWB6IE\n",
       "BhIGUi2XmZlpIIFWB6IEBhIGEsIDWh2IEqDjGUgID2h1IEqAjmcgITyg1YEoATqe\n",
       "gYTwgFYHogToeAYSwgNaHYgSoOMZSAgPaHUgSoCOZyAhPKDVgSgBOp6BhPCAVgei\n",
       "BOh4BhLCA1odiBKg4xlICA9odSBKgI5nICE8oNWBKIkS6HgGEsIDWh0gSqDjGUgI\n",
       "D2h1gCiBjmcgITyg1QGiBDqegYTwgFYHiBLoeAYSwgNaHSBKoOMZSAgPaHWAKIGO\n",
       "ZyAhPKDVAaIEOp6BhPCAVgeIEuh4BhLCA1odIEqg4xlICA+g1YEogY5nICE8gFYH\n",
       "ogQ6noGE8ABaHYgS6HgGEsIDaHUgSqDjGUgID6DVgSiBjmcgITyAVgeiBDqegYTw\n",
       "AFodiBLoeAYSwgNodSBKoOMZSAgPoNWBKIGOZyB5CIQH0OpAlEDHw0BCeECrA1EC\n",
       "HQ8DCeEBrQ5ECXQ8DCSEB7Q6ECXQ8TCQEB7Q6kCUQMfDQEJ4QKsDUQIdDwMJ4QGt\n",
       "DkQJdDwMJIQHtDoQJdDxMJAQHtDqQJQAHc9AQnhAqwNRAnQ8AwnhAa0ORAnQ8Qwk\n",
       "hAe0OhAlQMczkBAe0OpAlAAdz0BCeECrA1ECdDwDCeEBrQ5ECdDxDCSEB7Q6ECVA\n",
       "xzOQEB7Q6kCUAB3PQEJ4QKsDUQJ0PAMJ4QGtDhAl0PEMJIQHtDpAlEDHM5AQHtDq\n",
       "AFECHc9AQnhAqwNECXQ8AwnhAa0OECXQ8QwkhAe0OkCUQMczkBAe0OoAUQIdz0BC\n",
       "eECrA0QJdDwDCeEBrQ4QJdDxDCSEB7Q6QJRAxzOQEB5AqwNRAh3PQEJ4AK0ORAl0\n",
       "PAMJ4QG0OhAl0PEMJIQH0OpAlEDHM5AQHkCrA1ECHc9AQngArQ5ECXQ8AwnhAbQ6\n",
       "ECXQ8QwkhAfQ6kCUQMczkBAeQKsDUQIdDwNJeACtDkQJdDwMJIQHtDoQJdDxMJAQ\n",
       "HtDqQJRAx8NAQnhAqwNRAh0PAwnhAa0ORAl0PAwkhAe0OhAl0PEwkBAe0OpAlEDH\n",
       "w0BCeECrA1ECHQ8DCeEBrQ5ECdDxDCSEB7Q6ECVAxzOQEB7Q6kCUAB3PQKolNm/e\n",
       "vHTp0lmzZi1evLigoGCXt8/Pz19bzs7vKDyg1YEogYGEgVQDzJ49u3v37p2+0LVr\n",
       "1xdeeGHnd0lPT+9UTnZ2tvCAVgeiBAYSBlINtmzZss6dO4dn9mOPPTZjxownn3wy\n",
       "ujh37tzK7lJUVNSlS5e0tLSs/7Rw4ULhAa0ORAkMJAykGmzYsGHhaf33v/89PvLP\n",
       "f/4zHElPT6/sLu+++264wejRo4UHtDoQJTCQPAgGUvIoLi7u2rVreFp//PHH8cGi\n",
       "oqJu3bqFg/n5+RXeKzc3N1w7bdo04QGtDkQJDCQPgoGUPNavXx+e07179y5zfODA\n",
       "geH44sWLK7zX+PHjw7Xz58/PycmZMGFCWEorV64UHtDqQJTAQMJAqtmWLVsWntP9\n",
       "+/cvczwzMzMcnzNnToX3euihh6JzOSSeoWHUqFHFxcU7D0+FxowZ8w5QZTNnzvQg\n",
       "gCjBHhYKW6fKKdUGUvL497//HZ7TAwcOLHP8L3/5Szg+a9asCu91++23h2sHDRoU\n",
       "FtTSpUuzs7OjseQsduCfvUGUwHeQMJBqsCVLllQ4kB577LHKBlJJScmLL744derU\n",
       "xO8XzZs3L/qeUrhWeECrA1ECAwkDqUZ6++23w3P6/vvvL3P8kUce2fmZvstLS0sL\n",
       "d1m3bp3wgFYHogQGEgZSjfTRRx+F5/Qtt9xSWlqaePzee+8Nx5cuXVr+LuGWW7Zs\n",
       "Kf/rRhkZGTs5r4PwgFYHogQGEgbSvq6kpKR79+7hab1q1ar44KZNm7p06dK5c+fw\n",
       "Rvm75OXlhduPGDEi8WBRUVFqaupOzgwuPKDVgSiBgYSBVAOEqROe1kOGDIm/iRSd\n",
       "oWHAgAHRxdWrV7+4Q3QxTKBwbUpKyrJly6Ij4Y7jxo0LB/v27Ss8oNWBKIGBhIFU\n",
       "g61fvz56WdjevXuPHDnyrrvuCm937tw5/vm6KVOmlDmB49ixY8PFLl26ZGZmZmVl\n",
       "9e/fPzpDw/Lly4UHtDoQJTCQMJBqtjBs+vbtG5/Jvk+fPq+//np8bTSQwhyKj2zf\n",
       "vn3y5Mm33nprdPtw1aBBg9asWSM8oNWBKIGBhIGE8IBWB6IEOh4GEsIDWh2IEuh4\n",
       "GEgID2h1IEqAjmcgITyg1YEoATqegYTwgFYHogToeAYSwgNaHYgSoOMZSAgPaHUg\n",
       "SoCOZyAhPKDVgSgBOp6BhPCAVgeiBOh4BhLCA1odiBKg4xlICA9odSBKgI73/9q7\n",
       "+9iq6vsP4DIUYRNxPmSPRsG5MQU1I3OZi8451GwuYkB0iRnESGipyJwbJGgQEJG6\n",
       "YSaKMEEXUEOpYw5xQdQaQIvyKCim0EqgQ2DdWnGt7ZBCu33iiTd3rdye0urPn329\n",
       "/qLfnp5yv9x3zudNe89VkBAeMNWBKAFmPAUJ4QFTHSBKYMZTkBAeMNUBogRmPAUJ\n",
       "4QFTHSBKYMZTkBAeMNUBogRmPAUJ4QFTHSBKYMZTkBAeMNUBogRmPAUJ4QFTHSBK\n",
       "YMZTkBAeMNUBogRmPAUJ4QFTHSBKYMZTkBAeMNUBogRmPAUJ4QFMdSBKYMZTkBAe\n",
       "wFQHogRmPAUJ4QFMdSBKYMZTkBAewFQHogRmPAUJ4QFMdSBKYMZTkBAewFQHogRm\n",
       "PAUJ4QFMdSBKYMZTkBAewFQHogRmPAUJ4QFMdSBKYMZDQRIewFQHogRmPBQkhAdM\n",
       "dSBKYMZDQUJ4wFQHogRmPBQkhAdMdSBKYMZDQUJ4wFQHogRmPBQkhAdMdSBKYMZD\n",
       "QUJ4wFQHogRmPBQkhAdMdSBKYMazCQoSwgOmOhAlwIynICE8YKoDUQLMeAoSwgOm\n",
       "OhAlwIynICE8YKoDUQLMeAoSwgOmOhAlwIynICE8YKoDUQLMeAoSwgOmOhAlwIyn\n",
       "ICE8YKoDUQLMeAoSwgOmOhAlwIynICE8YKoDUQLMeAoSwgOmOkCUwIynICE8YKoD\n",
       "RAnMeAoSwgOmOkCUwIynICE8YKoDRAnMeAoSwgOmOkCUwIynICE8YKoDRAnMeAoS\n",
       "wgOmOkCUwIynICE8YKoDRAnMeAoSwgOmOkCUwIynICE8YKoDRAnMeAoSwgOY6kCU\n",
       "wIynICE8gKkORAnMeAoSwgOY6kCUwIynICE8gKkORAnMeAoSwgOY6kCUwIynICE8\n",
       "gKkORAnMeAoSwgOY6kCUwIynICE8gKkORAnMeAoSwgOY6kCUwIyHgiQ8NgFMdSBK\n",
       "YMZDQUJ4wFQHogRmPBQkhAdMdSBKYMZDQUJ4wFQHogRmPBQkhAdMdSBKYMZDQUJ4\n",
       "wFQHogRmPBQkhAdMdSBKYMZDQUJ44P/AY489ZhNAlMCMpyAhPIAogSiBNClIfCo1\n",
       "NDSUl5eXlpaWlZXV1dUJD7gOgSiBNKEgdVFr1qwZN27c6A8VFBQ8++yzwgOuQyBK\n",
       "IE0oSF1ORUVFXl5eJGHevHmrV69+/PHHkw/XrVsnPOA6BKIE0oSC1LXMmjUrYrBo\n",
       "0aLMyooVK2Jl8uTJwgOuQyBKIE0oSF3IoUOHCgoKIgbvvPNOZrGxsfHmm2+OxZqa\n",
       "GuEB1yEQJZAmFKSuoqqqKjIwfvz4FuuFhYWxXlZWJjzgOgSiBNKEgtRVVFRURAam\n",
       "T5/eYn3u3LmxvnbtWuEB1yEQJZAmFKSuYvv27ZGBwsLCFuuPPvporJeWlub42pkz\n",
       "Z44GAOCzJWY8Q7KC1HVt27btIwvSvHnz2ixIAACAgvSZ8tZbb0URmjp1aov12bNn\n",
       "p7nTNwAAoCB9dlRXV0cRGjt2bHNzc/b6pEmTYr28vNwWAQCAgtRVNDU1jRs3LrpQ\n",
       "ZWVlZrG2tjY/Pz8vLy/+YIsAAEBB6kIefvjh5NV4mR8iJXdomDFjhs0BAAAFqWup\n",
       "qqpK3hZ2/Pjx8+fPv/322+PPeXl5fr8OAAAUpK5ox44dU6ZMydzbceLEiVu2bLEt\n",
       "AACgIAEAAChIAAAAChIAAICCBAAAoCABAAAoSHRcQ0NDeXl5aWlpWVlZXV2dDYGj\n",
       "UFNTs7cVgYJ2qaqqWrVqVX19vUsVfBxRcqlSkEhlzZo148aNy9wQvKCg4Nlnn7Ut\n",
       "0F6TJ08e3crSpUvtDKQ3b968CM5bb73lUgUfR5RcqhQk2lZRUZGXlxfZiCCtXr36\n",
       "8ccfTz5ct26dzYH0Ghsb8/PzJ0yYUPy/tm7danMgjQMHDixbtiwZ11pMdS5V0ClR\n",
       "cqlSkEhl1qxZkZ9FixZlVlasWBErkydPtjmQ3t/+9rcIzoIFC2wFtFcMZ1OnTr35\n",
       "5psz/5/dYqpzqYJOiZJLlYJE2w4dOlRQUBBReeedd7L/dyGJVk1NjS2ClF555ZVI\n",
       "TUlJia2Ao5jq7vzQmDFjWkx1LlXQKVFyqVKQSKWqqipyMn78+BbrhYWFsV5WVmaL\n",
       "IKUnn3wyUvPaa6+99NJLS5YsicvPzp07bQu01+zZs1tMdS5V0ClRcqlSkEiloqIi\n",
       "cjJ9+vQW63Pnzo31tWvX2iJI6fe//33ywvHsl70+8sgjhw4dsjnQkanOpQo6qyC5\n",
       "VClItG379u0RjMLCwhbrjz76aKyXlpbaIkjp17/+daTm3nvvjXGtvLx86dKlyRXI\n",
       "rYGgg1OdSxV0VkFyqVKQaNu2bds+8qqT3BrSVQdSampqev7551944YXs/4Rbv359\n",
       "8h918VlbBEc91blUQadEyaVKQSKViE2kYurUqR8ZKrdPhQ6aMGFCRGnfvn22Ao56\n",
       "qnOpgk6JkkuVgkQq1dXVEYmxY8c2Nzdnr0+aNCnWy8vLbRGkEQk6cOBA69/hnjZt\n",
       "mheRQwenOpcq6JQouVQpSKTS1NSUvDF5ZWVlZrG2tjY/Pz8vLy/+YIsgjU2bNkWO\n",
       "Hn744ezFxsbGW265xW2IoYNTnUsVdEqUXKoUJNKKnEQqZs6cmfmfueRlrzNmzLA5\n",
       "kFJcVyI1Y8aMqaioSFYiUIsXL47FKVOm2B/oyFTnUgWdEiWXKgWJtKqqqpL32hs/\n",
       "fvz8+fNvv/32+HNeXp5fWoB2KSoqiuzk5+fPnTu3uLh4+vTpycted+zYYXOggwXJ\n",
       "pQo6JUouVQoSaUUqpkyZkrkd/sSJE7ds2WJboF0OHz68fPnyW2+9NclRXH7uvffe\n",
       "t99+285AuyTvbtT6leUuVdDxKLlUKUi0T0NDw+7du+vq6mwFHLXm5uaampo9e/Z4\n",
       "0z1wqQKXKgUJAABAQQIAAFCQAAAAFCQAAAAFCQAAQEECAABQkADg47Jly5biD61a\n",
       "tSr3wfX19cVZ3nvvvdzHr1y58i9/+UuX3ds9e/bELlVUVHiaAShIAHSO6urqXikM\n",
       "Gzbs6M7/m9/85pgPDRgwIPfBu3btOibLSy+9lOPgzZs3H3vssZdffvln7F9kzpw5\n",
       "seE33HBDm0fW1NSceOKJ559//uHDhz2TARQkADrBP//5z2NSGDx4cEcK0lVXXRVz\n",
       "/+LFi3MfXFdXN+cDffv2zV2QohIMGjSoW7dur7322mfsX+TBBx+Mx/6zn/0szcFT\n",
       "p06Ng+fOneuZDKAgAdAJmpub6/7XWWedFTP3xIkTsxf//e9/d6QgzZgxo11f9f3v\n",
       "fz93QSoqKooDhg4d+tn7F2lXQYp/mt69e3/pS196//33PZkBFCQAOt83v/nNGNCn\n",
       "TJnSKWf7mArSRRddFAcsW7asixekMHLkyDh+wYIFnroAChIAbbv//vtHjBjx5ptv\n",
       "rl69Oj8/f+DAgWefffbw4cM3b958FAWppKTk+uuvHzBgQN++fb/3ve/deuutuW8S\n",
       "8JEFqc2T5C5Ir7/+enz2lFNOaWxsbNdfbMOGDQUFBRdeeGEcNmbMmD//+c+tT/7i\n",
       "iy8mx5x11lmXXXZZ/M1ra2tbHLNu3bpf/vKXF198cRwzZMiQadOmvfvuu0e34U8/\n",
       "/fRNN9103nnnfeMb3xg2bFh899YFKfdDe/755+P4QYMGeaoDKEgAtO3KK6+MATqG\n",
       "/h49emS/rCg+fPXVV9tVkGbOnNn65Ul9+vR544030hekNCfJXZB+97vfxWevuOKK\n",
       "dp3zvvvuO+6441occ9ttt2UOaG5unjRpUrdu3Vocc/rpp+/duzdz2D333HPssce2\n",
       "OOaMM86I1tSuDT98+PDYsWNb/7WjKWUXpDYfWn19fbK4b98+z3YABQmAVAUpXHDB\n",
       "BS+++OKePXsWLlz49a9/PVaGDBmSviAdPHjw85//fHwqLy9v165dtbW1JSUl/fr1\n",
       "i5XrrrsuZUFKeZLcBemqq65KzpD+nPHA48Pu3btHBdqxY8fOnTvvvvvupMA8+OCD\n",
       "yTFLlixJNmrEiBHRZOKw+NQpp5wSKz/5yU+SY5555pnkmFhZv359dJLi4uIvf/nL\n",
       "sRJbmrxSK+WG//GPf0wOGzVq1MaNGysrK5944olTTz01WUwKUsrtOu2002Llscce\n",
       "82wHUJAASFWQYvL+17/+lVksLCyMxRi10xeksrKyZHbftGlTZnH58uUnn3zyd77z\n",
       "nZQFKeVJchekr3zlK/HZeAjpzzlgwIDWD2rWrFmxGI/3Px/8+Oicc86JD3/+859n\n",
       "H/PAAw/E4nHHHZf8ol3//v2Te/rF8Zljokodf/zxmYeZZsObmprOPPPMWGlxO+94\n",
       "LMmPp5KClHK7vvvd78Yxt9xyi2c7gIIEQKqCNG7cuOzFzZs3x2Lv3r3TF6SY6ZMf\n",
       "lcRkP3/+/JS/0NWiIKU8SY6CFM0kqRCZm4a3ec7Mrcz37t17IEt0nuSHSBs3boyv\n",
       "So7ZsGFD9tc2NjauWLHiueeeiz9kjmn9q4l5eXmxnrwpU5oNr6ysbN18EsOHD88U\n",
       "pJTbdd1118Ux8YWe7QAKEgCpCtKsWbOyF7du3RqLJ5xwQvqCFBYuXNirV6/MK2H6\n",
       "9es3atSolStXpi9IKU+SoyDt378/+cK1a9emPOeqVatyv8vTU089Fd8r+R28HG+6\n",
       "GieMYz73uc9FuWrxqXnz5iWvREq54SUlJUf6dr/97W+zX4OUZrsmTJgQn/rhD3/o\n",
       "2Q6gIAGQqiD94Q9/6HhB+s8Hv04Wn7rwwguzb1Rw4403Zv/KWe6ClOYkOQpSbW1t\n",
       "cnxpaWnKc/71r39NPjzzCIqKipYuXXqkDclYvnx5HBPnb/1gk/dlOvnkk1NuePJa\n",
       "ph49erT+LrNnz25xF7s2t+uOO+6IlR/84Aee7QAKEgCfaEHKqK+vj1IRQ3kyrx/p\n",
       "50i53wfpSCfJ/Rqknj17xmefeOKJlOeMgpH85Cf7tuAtbNmyJTl+//792etNTU2x\n",
       "dXPmzNm7d++2bduSY3bv3t3iy6dNmxbr0WFSbnjmVH//+99bnOq222470vsgHWm7\n",
       "brjhhvjwmmuu8WwHUJAA+IQK0jPPPNO/f/9rr702e7Guru7EE0+M4++///40BSnl\n",
       "SXIXpDPOOCM+G50k5Tmj5PTu3Tv+vGTJkuxjKisr48H269dvz549DQ0N3bt3j2Nm\n",
       "z56dfUxxcXFSrmpqaqJfJfeUmzRpUvYxBw8eTO7NfdNNN6Xc8PiSL3zhC7Fy9913\n",
       "tzhV8qKjpCCl3K6kMo0ePdqzHUBBAuATKkhvvPFG8rKZp59+OrO4bdu25AZuJSUl\n",
       "aQpSypPkLkjDhg3LtJGU57zzzjvjz1/72tcyr1yKRnT11VfHYjSQZGXUqFHJr8ll\n",
       "7sGwffv28847LxYvueSSZCWqUXzYs2fPzC0i4jy/+MUvkl+9i+PTb/jEiRNjJWrS\n",
       "smXLkpX3338/ulD2bb5TbtdXv/rV1t8RAAUJgI+xIDU3N19xxRXJ+B61YejQoZde\n",
       "emkyqZ9zzjnJWwC1WZBSniR3QYrHEp+97LLL0p+zrq7u29/+dlI2Bg4cGIUnOSBa\n",
       "zYoVK5Lz7Nu3L7mBeBxzwQUXJHcGD7169XrzzTeTY957773zzz8/WY8TDh48OHmj\n",
       "pHDXXXe1a8P3799/7rnnJl/7rW9960c/+lHyc6Hkh1RJQUrz0KJWJW9uG8XJsx1A\n",
       "QQIgVUF65JFHsheT18CcdNJJrY9PpvaPfA1S1IwxY8YkvxuW6Nmz5/XXX/+Pf/zj\n",
       "SN+99WuQ0pwkd0HavXt3dJg+ffpEN0h/zoaGhtGjR8dXZY6JypFpR4nq6urhw4cn\n",
       "FSVx0UUXtbjxd3zTX/3qV5l3dI1yEvUm+yc86Tc86taIESMyf6X4O48cOfK+++7L\n",
       "fg1Smw8tuf9ecgM9ABQkAD5pBw4cqKioWLNmTQz90TpyH3ykmzTkPknughSGDh3a\n",
       "+jVFKf9iu3btWrduXY5S19TUtH379o0bNyZvDnskb7/99vr166PkdHA/m5ub4y+8\n",
       "devWQ4cOHcWeR+vLcRsMABQkAD5Fct/F7kjaLEgvv/zykW711qVEWfriF7/Ys2fP\n",
       "mpoaTzYABQmA/x8F6eqrr37ooYeKiopyH1xfX//QB/r27Zu7IIWf/vSnccz69eu7\n",
       "8vbec889re+qB4CCBMCnuiAlBgwYkPvgXbt2HZMld0EqLy/v0aPHj3/84y67tzU1\n",
       "NX369Onfv3/mtVgAKEgAfKq9/vrrT37oueeey31wDPp/+tOfMsdXV1fnPn7NmjVx\n",
       "2OHDh7tsQYqHH0XR0wxAQQIAAFCQAAAAFCQAAAAFCQAAQEECAABQkAAAABQkAAAA\n",
       "BQkAAEBBAgAAUJAAAAAUJAAAAAUJAABAQQIAAFCQAAAAFCQAAAAFCQAAQEECAABQ\n",
       "kAAAABQkAAAABQkAAEBBAgAAUJAAAAAUJAAAAAUJAABAQQIAAFCQAAAAFCQAAAAF\n",
       "CQAAAAUJAABAQQIAAFCQAAAAFCQAAAAFCQAAQEECAABQkAAAANrvv1xfBwiT08oz\n",
       "AAAAAElFTkSuQmCC\" style=\"clip-path:url(#clipPath2);\" height=\"840\" preserveAspectRatio=\"none\"\n",
       "    /></g\n",
       "  ></g\n",
       "></svg\n",
       ">\n"
      ]
     },
     "metadata": {
      "filenames": {
       "image/svg+xml": "/Users/cpjobling/code/src/github.com/cpjobling/eg-247-textbook/_build/jupyter_execute/dt_systems/4/dt_models_69_0.svg"
      }
     },
     "output_type": "display_data"
    }
   ],
   "source": [
    "step(Hz)\n",
    "grid\n",
    "title('Example 1 - Part 3 - As Analogue Signal')\n",
    "xlabel('nTs [s]')\n",
    "ylabel('Step response y(t)')\n",
    "axis([0,15,0,3.5])"
   ]
  },
  {
   "cell_type": "markdown",
   "id": "2b74889e",
   "metadata": {
    "slideshow": {
     "slide_type": "subslide"
    }
   },
   "source": [
    "### Simulink Model\n",
    "\n",
    "See [dtm.slx](https://cpjobling.github.io/eg-247-textbook/dt_systems/4/matlab/dtm.slx):\n",
    "\n",
    "![Simulink model](./pictures/simulink_model.png)"
   ]
  },
  {
   "cell_type": "code",
   "execution_count": 12,
   "id": "55799700",
   "metadata": {
    "slideshow": {
     "slide_type": "fragment"
    }
   },
   "outputs": [],
   "source": [
    "dtm"
   ]
  },
  {
   "cell_type": "markdown",
   "id": "7e32689a",
   "metadata": {
    "slideshow": {
     "slide_type": "notes"
    }
   },
   "source": [
    "#### Results\n",
    "\n",
    "![Simulink results](./pictures/scope.png)"
   ]
  },
  {
   "cell_type": "markdown",
   "id": "4c6d6ba8",
   "metadata": {
    "slideshow": {
     "slide_type": "slide"
    }
   },
   "source": [
    "(cse)=\n",
    "## Converting Continuous Time Systems to Discrete Time Systems\n",
    "\n",
    "In analogue electronics, to implement a filter we would need to resort to op-amp circuits with resistors, capacitors and inductors acting as energy dissipation, storage and release devices."
   ]
  },
  {
   "cell_type": "markdown",
   "id": "1d3ceedb",
   "metadata": {
    "slideshow": {
     "slide_type": "subslide"
    }
   },
   "source": [
    "* In modern digital electronics, it is often more convenient to take the original transfer function $H(s)$ and produce an equivalent $H(z)$."
   ]
  },
  {
   "cell_type": "markdown",
   "id": "9fd27625",
   "metadata": {
    "slideshow": {
     "slide_type": "fragment"
    }
   },
   "source": [
    "* We can then determine a *difference equation* that will respresent $h[n]$ and implement this as *computer algorithm*."
   ]
  },
  {
   "cell_type": "markdown",
   "id": "0eb968c0",
   "metadata": {
    "slideshow": {
     "slide_type": "fragment"
    }
   },
   "source": [
    "* Simple storage of past values in memory becomes the repository of past state rather than the integrators and derivative circuits that are needed in the analogue world."
   ]
  },
  {
   "cell_type": "markdown",
   "id": "8dbbbdcf",
   "metadata": {
    "slideshow": {
     "slide_type": "subslide"
    }
   },
   "source": [
    "To achieve this, all we need is to be able to do is to *sample* and *process* the signals quickly enough to avoid violating Nyquist-Shannon's sampling theorem."
   ]
  },
  {
   "cell_type": "markdown",
   "id": "d4bc3571",
   "metadata": {
    "slideshow": {
     "slide_type": "subslide"
    }
   },
   "source": [
    "### Continuous System Equivalents\n",
    "\n",
    "* There is no digital system that uniquely represents a continuous system\n",
    "* This is because as we are sampling, we only have knowledge of signals being processed at the sampling instants, and need to *reconstruct* the inter-sample behaviour.\n",
    "* In practice, only a small number of transformations are used.\n",
    "* The derivation of these is beyond the scope of this module, but **in class** we'll demonstrate the ones that MATLAB provides in a function called `c2d`"
   ]
  },
  {
   "cell_type": "markdown",
   "id": "6aaa23c2",
   "metadata": {
    "slideshow": {
     "slide_type": "subslide"
    }
   },
   "source": [
    "### MATLAB c2d function\n",
    "\n",
    "Let's see what the help function says:"
   ]
  },
  {
   "cell_type": "code",
   "execution_count": 13,
   "id": "cf81130c",
   "metadata": {
    "slideshow": {
     "slide_type": "notes"
    }
   },
   "outputs": [
    {
     "name": "stdout",
     "output_type": "stream",
     "text": [
      " C2D  Converts continuous-time dynamic system to discrete time.\n",
      " \n",
      "    SYSD = C2D(SYSC,TS,METHOD) computes a discrete-time model SYSD with\n",
      "    sample time TS that approximates the continuous-time model SYSC.\n",
      "    The string METHOD selects the discretization method among the following:\n",
      "       'zoh'           Zero-order hold on the inputs\n",
      "       'foh'           Linear interpolation of inputs\n",
      "       'impulse'       Impulse-invariant discretization\n",
      "       'tustin'        Bilinear (Tustin) approximation.\n",
      "       'matched'       Matched pole-zero method (for SISO systems only).\n",
      "       'least-squares' Least-squares minimization of the error between\n",
      "                       frequency responses of the continuous and discrete\n",
      "                       systems (for SISO systems only).\n",
      "       'damped'        Damped Tustin approximation based on TRBDF2 formula\n",
      "                       (sparse models only).\n",
      "    The default is 'zoh' when METHOD is omitted. The sample time TS should\n",
      "    be specified in the time units of SYSC (see \"TimeUnit\" property).\n",
      " \n",
      "    C2D(SYSC,TS,OPTIONS) gives access to additional discretization options. \n",
      "    Use C2DOPTIONS to create and configure the option set OPTIONS. For \n",
      "    example, you can specify a prewarping frequency for the Tustin method by:\n",
      "       opt = c2dOptions('Method','tustin','PrewarpFrequency',.5);\n",
      "       sysd = c2d(sysc,.1,opt);\n",
      " \n",
      "    For state-space models,\n",
      "       [SYSD,G] = C2D(SYSC,Ts,METHOD)\n",
      "    also returns the matrix G mapping the states xc(t) of SYSC to the states \n",
      "    xd[k] of SYSD:\n",
      "       xd[k] = G * [xc(k*Ts) ; u[k]]\n",
      "    Given an initial condition x0 for SYSC and an initial input value u0=u(0), \n",
      "    the equivalent initial condition for SYSD is (assuming u(t)=0 for t<0):\n",
      "       xd[0] = G * [x0;u0] .\n",
      " \n",
      "    See also C2DOPTIONS, D2C, D2D, DYNAMICSYSTEM.\n",
      "\n",
      "    Documentation for c2d\n",
      "       doc c2d\n",
      "\n",
      "    Other functions named c2d\n",
      "\n",
      "       DynamicSystem/c2d    ltipack.tfdata/c2d\n",
      "\n"
     ]
    }
   ],
   "source": [
    "help c2d"
   ]
  },
  {
   "cell_type": "code",
   "execution_count": 14,
   "id": "725763f0",
   "metadata": {
    "slideshow": {
     "slide_type": "fragment"
    }
   },
   "outputs": [],
   "source": [
    "doc c2d"
   ]
  },
  {
   "cell_type": "markdown",
   "id": "3102a03f",
   "metadata": {
    "slideshow": {
     "slide_type": "subslide"
    }
   },
   "source": [
    "(demo)=\n",
    "## Example: Digital Butterworth Filter\n",
    "\n",
    "* Design a 2nd-order butterworth low-pass anti-aliasing filter with transfer function $H(s)$ for use in sampling music. \n",
    "* The cut-off frequency $\\omega_c = 20$&nbsp;kHz and the filter should have an attenuation of at least $-80$&nbsp;dB in the stop band. \n",
    "* Choose a suitable sampling frequency for the audio signal and give the transfer function $H(z)$ and an algorithm to implement $h[n]$"
   ]
  },
  {
   "cell_type": "markdown",
   "id": "891e08d2",
   "metadata": {
    "slideshow": {
     "slide_type": "subslide"
    }
   },
   "source": [
    "### Solution\n",
    "\n",
    "See [digi_butter.mlx](https://cpjobling.github.io/eg-247-textbook/dt_systems/4/matlab/digi_butter.mlx)."
   ]
  },
  {
   "cell_type": "markdown",
   "id": "e6698af0",
   "metadata": {
    "slideshow": {
     "slide_type": "subslide"
    }
   },
   "source": [
    "First determine the cut-off frequency $\\omega_c$\n",
    "\n",
    "$$\\omega_c = 2\\pi f_c = 2\\times \\pi \\times 20\\times 10^3\\;\\mathrm{rad/s}$$"
   ]
  },
  {
   "cell_type": "code",
   "execution_count": 15,
   "id": "ce49da6f",
   "metadata": {
    "slideshow": {
     "slide_type": "fragment"
    }
   },
   "outputs": [
    {
     "name": "stdout",
     "output_type": "stream",
     "text": [
      "wc =\n",
      "   1.2566e+05\n"
     ]
    }
   ],
   "source": [
    "wc = 2*pi*20e3"
   ]
  },
  {
   "cell_type": "markdown",
   "id": "869cab0d",
   "metadata": {
    "slideshow": {
     "slide_type": "fragment"
    }
   },
   "source": [
    "$$\\omega_c = 125.66\\times 10^3\\;\\mathrm{rad/s}$$"
   ]
  },
  {
   "cell_type": "markdown",
   "id": "bedcb797",
   "metadata": {
    "slideshow": {
     "slide_type": "subslide"
    }
   },
   "source": [
    "From the lecture on filters, we know the 2nd-order butterworth filter has transfer function:\n",
    "\n",
    "$$H(s) = \\frac{Y(s)}{U(s)} = \\frac{\\omega _c^2}{s^2 + \\omega _c\\sqrt 2 \\,s + \\omega _c^2}$$"
   ]
  },
  {
   "cell_type": "markdown",
   "id": "cf8946e7",
   "metadata": {
    "slideshow": {
     "slide_type": "fragment"
    }
   },
   "source": [
    "Substituting for $\\omega_c = 125.6637\\times 10^3 $ this is ...?"
   ]
  },
  {
   "cell_type": "code",
   "execution_count": 16,
   "id": "67a53dd8",
   "metadata": {
    "slideshow": {
     "slide_type": "fragment"
    }
   },
   "outputs": [
    {
     "name": "stdout",
     "output_type": "stream",
     "text": [
      "\n",
      "Hs =\n"
     ]
    },
    {
     "name": "stdout",
     "output_type": "stream",
     "text": [
      " \n"
     ]
    },
    {
     "name": "stdout",
     "output_type": "stream",
     "text": [
      "           1.579e10\n"
     ]
    },
    {
     "name": "stdout",
     "output_type": "stream",
     "text": [
      "  ---------------------------\n"
     ]
    },
    {
     "name": "stdout",
     "output_type": "stream",
     "text": [
      "  s^2 + 1.777e05 s + 1.579e10\n"
     ]
    },
    {
     "name": "stdout",
     "output_type": "stream",
     "text": [
      " \n"
     ]
    },
    {
     "name": "stdout",
     "output_type": "stream",
     "text": [
      "Continuous-time transfer function.\n",
      "\n"
     ]
    }
   ],
   "source": [
    "Hs = tf(wc^2,[1 wc*sqrt(2), wc^2])"
   ]
  },
  {
   "cell_type": "markdown",
   "id": "07b04c46",
   "metadata": {
    "slideshow": {
     "slide_type": "subslide"
    }
   },
   "source": [
    "$$H(s) = \\frac{15.79 \\times 10^9}{s^2 + 177.7 \\times 10^3 s + 15.79 \\times 10^9}$$"
   ]
  },
  {
   "cell_type": "markdown",
   "id": "5c56b30a",
   "metadata": {
    "slideshow": {
     "slide_type": "subslide"
    }
   },
   "source": [
    "#### Bode plot\n",
    "\n",
    "MATLAB:"
   ]
  },
  {
   "cell_type": "code",
   "execution_count": 17,
   "id": "2342a339",
   "metadata": {
    "slideshow": {
     "slide_type": "subslide"
    }
   },
   "outputs": [
    {
     "data": {
      "image/svg+xml": [
       "<?xml version=\"1.0\"?>\n",
       "<!DOCTYPE svg PUBLIC '-//W3C//DTD SVG 1.0//EN'\n",
       "          'http://www.w3.org/TR/2001/REC-SVG-20010904/DTD/svg10.dtd'>\n",
       "<svg xmlns:xlink=\"http://www.w3.org/1999/xlink\" style=\"fill-opacity:1; color-rendering:auto; color-interpolation:auto; text-rendering:auto; stroke:black; stroke-linecap:square; stroke-miterlimit:10; shape-rendering:auto; stroke-opacity:1; fill:black; stroke-dasharray:none; font-weight:normal; stroke-width:1; font-family:'Dialog'; font-style:normal; stroke-linejoin:miter; font-size:12px; stroke-dashoffset:0; image-rendering:auto;\" width=\"560\" height=\"420\" xmlns=\"http://www.w3.org/2000/svg\"\n",
       "><!--Generated by the Batik Graphics2D SVG Generator--><defs id=\"genericDefs\"\n",
       "  /><g\n",
       "  ><defs id=\"defs1\"\n",
       "    ><clipPath clipPathUnits=\"userSpaceOnUse\" id=\"clipPath1\"\n",
       "      ><path d=\"M0 0 L560 0 L560 420 L0 420 L0 0 Z\"\n",
       "      /></clipPath\n",
       "      ><font horiz-adv-x=\"50.0\" id=\"font1\"\n",
       "      ><font-face ascent=\"95.200005\" descent=\"21.3\" units-per-em=\"100\" style=\"font-style:normal; font-family:Helvetica Neue; font-weight:normal;\"\n",
       "        /><missing-glyph horiz-adv-x=\"50.0\" d=\"M40.9 66.6 L10.2 66.6 L10.2 4.7 L40.9 4.7 ZM46 71.2 L46 0.1 L5.1 0.1 L5.1 71.2 Z\"\n",
       "        /><glyph unicode=\"0\" horiz-adv-x=\"55.6\" d=\"M13.2 34.9 Q13.2 37.5 13.25 40.65 Q13.3 43.8 13.75 46.95 Q14.2 50.1 15.05 53.1 Q15.9 56.1 17.55 58.35 Q19.2 60.6 21.7 62 Q24.2 63.4 27.8 63.4 Q31.4 63.4 33.9 62 Q36.4 60.6 38.05 58.35 Q39.7 56.1 40.55 53.1 Q41.4 50.1 41.85 46.95 Q42.3 43.8 42.35 40.65 Q42.4 37.5 42.4 34.9 Q42.4 30.9 42.15 25.95 Q41.9 21 40.55 16.65 Q39.2 12.3 36.2 9.3 Q33.2 6.3 27.8 6.3 Q22.4 6.3 19.4 9.3 Q16.4 12.3 15.05 16.65 Q13.7 21 13.45 25.95 Q13.2 30.9 13.2 34.9 ZM4.2 34.8 Q4.2 30.9 4.4 26.7 Q4.6 22.5 5.4 18.5 Q6.2 14.5 7.7 10.95 Q9.2 7.4 11.8 4.7 Q14.4 2 18.35 0.45 Q22.3 -1.1 27.8 -1.1 Q33.4 -1.1 37.3 0.45 Q41.2 2 43.8 4.7 Q46.4 7.4 47.9 10.95 Q49.4 14.5 50.2 18.5 Q51 22.5 51.2 26.7 Q51.4 30.9 51.4 34.8 Q51.4 38.7 51.2 42.9 Q51 47.1 50.2 51.1 Q49.4 55.1 47.9 58.7 Q46.4 62.3 43.8 65 Q41.2 67.7 37.25 69.3 Q33.3 70.9 27.8 70.9 Q22.3 70.9 18.35 69.3 Q14.4 67.7 11.8 65 Q9.2 62.3 7.7 58.7 Q6.2 55.1 5.4 51.1 Q4.6 47.1 4.4 42.9 Q4.2 38.7 4.2 34.8 Z\"\n",
       "        /><glyph unicode=\"2\" horiz-adv-x=\"55.6\" d=\"M4.4 45.8 L12.9 45.8 Q12.8 49 13.55 52.15 Q14.3 55.3 16 57.8 Q17.7 60.3 20.35 61.85 Q23 63.4 26.7 63.4 Q29.5 63.4 32 62.5 Q34.5 61.6 36.35 59.9 Q38.2 58.2 39.3 55.85 Q40.4 53.5 40.4 50.6 Q40.4 46.9 39.25 44.1 Q38.1 41.3 35.85 38.9 Q33.6 36.5 30.2 34.15 Q26.8 31.8 22.3 29 Q18.6 26.8 15.2 24.3 Q11.8 21.8 9.1 18.5 Q6.4 15.2 4.65 10.75 Q2.9 6.3 2.4 0 L48.7 0 L48.7 7.5 L12.3 7.5 Q12.9 10.8 14.85 13.35 Q16.8 15.9 19.55 18.1 Q22.3 20.3 25.6 22.25 Q28.9 24.2 32.2 26.2 Q35.5 28.3 38.6 30.6 Q41.7 32.9 44.1 35.75 Q46.5 38.6 47.95 42.2 Q49.4 45.8 49.4 50.5 Q49.4 55.5 47.65 59.3 Q45.9 63.1 42.9 65.65 Q39.9 68.2 35.85 69.55 Q31.8 70.9 27.2 70.9 Q21.6 70.9 17.2 69 Q12.8 67.1 9.85 63.75 Q6.9 60.4 5.5 55.8 Q4.1 51.2 4.4 45.8 Z\"\n",
       "        /><glyph unicode=\"1\" horiz-adv-x=\"55.6\" d=\"M35.6 0 L35.6 70.9 L29.1 70.9 Q28.4 66.9 26.5 64.3 Q24.6 61.7 21.85 60.2 Q19.1 58.7 15.7 58.15 Q12.3 57.6 8.7 57.6 L8.7 50.8 L27.1 50.8 L27.1 0 Z\"\n",
       "        /><glyph unicode=\"-\" horiz-adv-x=\"38.9\" d=\"M5 31.8 L5 23.8 L33.9 23.8 L33.9 31.8 Z\"\n",
       "        /><glyph unicode=\"8\" horiz-adv-x=\"55.6\" d=\"M15.5 52.5 Q15.5 55.2 16.5 57.2 Q17.5 59.2 19.15 60.6 Q20.8 62 23.1 62.7 Q25.4 63.4 27.9 63.4 Q33.1 63.4 36.45 60.65 Q39.8 57.9 39.8 52.5 Q39.8 47.1 36.5 44.1 Q33.2 41.1 28.1 41.1 Q25.5 41.1 23.2 41.8 Q20.9 42.5 19.2 43.9 Q17.5 45.3 16.5 47.45 Q15.5 49.6 15.5 52.5 ZM6.5 52.8 Q6.5 48 9.2 43.95 Q11.9 39.9 16.4 38.1 Q10.4 36 7.2 31.35 Q4 26.7 4 20.4 Q4 15 5.85 10.95 Q7.7 6.9 10.95 4.2 Q14.2 1.5 18.6 0.2 Q23 -1.1 28.1 -1.1 Q33 -1.1 37.3 0.3 Q41.6 1.7 44.75 4.45 Q47.9 7.2 49.75 11.2 Q51.6 15.2 51.6 20.4 Q51.6 27 48.5 31.55 Q45.4 36.1 39 38.1 Q43.5 40.1 46.15 44.05 Q48.8 48 48.8 52.8 Q48.8 56.2 47.6 59.45 Q46.4 62.7 43.85 65.25 Q41.3 67.8 37.2 69.35 Q33.1 70.9 27.3 70.9 Q23.2 70.9 19.45 69.7 Q15.7 68.5 12.8 66.2 Q9.9 63.9 8.2 60.55 Q6.5 57.2 6.5 52.8 ZM13 20 Q13 23.1 14.15 25.6 Q15.3 28.1 17.35 29.9 Q19.4 31.7 22.15 32.65 Q24.9 33.6 28 33.6 Q31 33.6 33.65 32.55 Q36.3 31.5 38.3 29.7 Q40.3 27.9 41.45 25.45 Q42.6 23 42.6 20.1 Q42.6 17.1 41.55 14.6 Q40.5 12.1 38.55 10.25 Q36.6 8.4 33.95 7.35 Q31.3 6.3 28.1 6.3 Q21.5 6.3 17.25 9.95 Q13 13.6 13 20 Z\"\n",
       "        /><glyph unicode=\"6\" horiz-adv-x=\"55.6\" d=\"M41.4 52.8 L49.9 52.8 Q49.1 61.6 43.9 66.25 Q38.7 70.9 29.9 70.9 Q22.3 70.9 17.3 67.7 Q12.3 64.5 9.3 59.2 Q6.3 53.9 5.05 47.05 Q3.8 40.2 3.8 32.9 Q3.8 27.3 4.65 21.3 Q5.5 15.3 8.1 10.3 Q10.7 5.3 15.5 2.1 Q20.3 -1.1 28.2 -1.1 Q34.9 -1.1 39.45 1.15 Q44 3.4 46.75 6.85 Q49.5 10.3 50.7 14.5 Q51.9 18.7 51.9 22.6 Q51.9 27.5 50.4 31.7 Q48.9 35.9 46.15 39 Q43.4 42.1 39.35 43.85 Q35.3 45.6 30.2 45.6 Q24.4 45.6 19.95 43.4 Q15.5 41.2 12.5 36.3 L12.3 36.5 Q12.4 40.6 13.1 45.3 Q13.8 50 15.65 54.05 Q17.5 58.1 20.8 60.75 Q24.1 63.4 29.5 63.4 Q34.6 63.4 37.7 60.5 Q40.8 57.6 41.4 52.8 ZM28.6 38.1 Q32.2 38.1 34.9 36.8 Q37.6 35.5 39.4 33.35 Q41.2 31.2 42.05 28.25 Q42.9 25.3 42.9 22 Q42.9 18.9 41.95 16.05 Q41 13.2 39.2 11 Q37.4 8.8 34.75 7.55 Q32.1 6.3 28.6 6.3 Q25.1 6.3 22.35 7.55 Q19.6 8.8 17.75 10.9 Q15.9 13 14.9 15.9 Q13.9 18.8 13.9 22.1 Q13.9 25.4 14.85 28.35 Q15.8 31.3 17.7 33.45 Q19.6 35.6 22.3 36.85 Q25 38.1 28.6 38.1 Z\"\n",
       "        /><glyph unicode=\"4\" horiz-adv-x=\"55.6\" d=\"M33.9 24.1 L10.1 24.1 L33.7 58.8 L33.9 58.8 ZM41.9 24.1 L41.9 70.9 L35.1 70.9 L2.8 24.8 L2.8 16.6 L33.9 16.6 L33.9 0 L41.9 0 L41.9 16.6 L51.5 16.6 L51.5 24.1 Z\"\n",
       "        /><glyph unicode=\")\" horiz-adv-x=\"25.9\" d=\"M-0.9 -19.7 L5.5 -19.7 Q13.3 -9.4 17.25 2.55 Q21.2 14.5 21.2 26.3 Q21.2 32.9 20.1 38.9 Q19 44.9 16.95 50.65 Q14.9 56.4 12 61.95 Q9.1 67.5 5.5 73.1 L-0.9 73.1 Q6.1 61.6 9.15 50.25 Q12.2 38.9 12.2 26.3 Q12.2 14.1 9.2 2.85 Q6.2 -8.4 -0.9 -19.7 Z\"\n",
       "        /><glyph unicode=\"B\" horiz-adv-x=\"68.5\" d=\"M17.3 40.7 L17.3 63.4 L36.3 63.4 Q39.4 63.4 42.15 63.05 Q44.9 62.7 47 61.5 Q49.1 60.3 50.3 58.1 Q51.5 55.9 51.5 52.1 Q51.5 46.4 47.95 43.55 Q44.4 40.7 36.3 40.7 ZM7.8 71.4 L7.8 0 L42.3 0 Q47.6 0 51.65 1.75 Q55.7 3.5 58.45 6.35 Q61.2 9.2 62.6 12.9 Q64 16.6 64 20.5 Q64 27.1 60.5 31.7 Q57 36.3 50.4 37.7 L50.4 37.9 Q55.5 39.9 58.25 44.05 Q61 48.2 61 53.9 Q61 59.3 58.55 63 Q56.1 66.7 52.6 68.8 Q51 69.8 48.75 70.3 Q46.5 70.8 43.9 71.05 Q41.3 71.3 38.65 71.35 Q36 71.4 33.7 71.4 ZM17.3 8 L17.3 32.7 L39 32.7 Q42 32.7 44.8 32.15 Q47.6 31.6 49.75 30.25 Q51.9 28.9 53.2 26.6 Q54.5 24.3 54.5 20.8 Q54.5 14.8 50.95 11.4 Q47.4 8 41.1 8 Z\"\n",
       "        /><glyph unicode=\"(\" horiz-adv-x=\"25.9\" d=\"M20.4 -19.7 L26.9 -19.7 Q19.8 -8.2 16.75 3.1 Q13.7 14.4 13.7 27 Q13.7 39.3 16.7 50.5 Q19.7 61.7 26.9 73.1 L20.4 73.1 Q12.6 62.8 8.65 50.8 Q4.7 38.8 4.7 27 Q4.7 20.4 5.8 14.4 Q6.9 8.4 8.95 2.7 Q11 -3 13.9 -8.55 Q16.8 -14.1 20.4 -19.7 Z\"\n",
       "        /><glyph unicode=\" \" horiz-adv-x=\"27.8\" d=\"\"\n",
       "        /><glyph unicode=\"e\" horiz-adv-x=\"53.7\" d=\"M42.3 30.8 L12.6 30.8 Q12.8 33.8 13.9 36.45 Q15 39.1 16.9 41.1 Q18.8 43.1 21.45 44.25 Q24.1 45.4 27.4 45.4 Q30.6 45.4 33.25 44.25 Q35.9 43.1 37.85 41.15 Q39.8 39.2 40.95 36.5 Q42.1 33.8 42.3 30.8 ZM50.5 16.4 L42.1 16.4 Q41 11.3 37.55 8.8 Q34.1 6.3 28.7 6.3 Q24.5 6.3 21.4 7.7 Q18.3 9.1 16.3 11.45 Q14.3 13.8 13.4 16.85 Q12.5 19.9 12.6 23.3 L51.3 23.3 Q51.5 28 50.45 33.2 Q49.4 38.4 46.65 42.8 Q43.9 47.2 39.35 50.05 Q34.8 52.9 27.9 52.9 Q22.6 52.9 18.15 50.9 Q13.7 48.9 10.45 45.3 Q7.2 41.7 5.4 36.8 Q3.6 31.9 3.6 26 Q3.8 20.1 5.35 15.1 Q6.9 10.1 10 6.5 Q13.1 2.9 17.65 0.9 Q22.2 -1.1 28.4 -1.1 Q37.2 -1.1 43 3.3 Q48.8 7.7 50.5 16.4 Z\"\n",
       "        /><glyph unicode=\"d\" horiz-adv-x=\"59.3\" d=\"M12.6 25.4 Q12.6 29.2 13.4 32.8 Q14.2 36.4 16 39.2 Q17.8 42 20.8 43.7 Q23.8 45.4 28.1 45.4 Q32.5 45.4 35.6 43.75 Q38.7 42.1 40.65 39.4 Q42.6 36.7 43.5 33.15 Q44.4 29.6 44.4 25.8 Q44.4 22.2 43.55 18.7 Q42.7 15.2 40.8 12.45 Q38.9 9.7 35.9 8 Q32.9 6.3 28.6 6.3 Q24.5 6.3 21.45 7.9 Q18.4 9.5 16.45 12.2 Q14.5 14.9 13.55 18.35 Q12.6 21.8 12.6 25.4 ZM52.6 0 L52.6 71.4 L44.1 71.4 L44.1 44.8 L43.9 44.8 Q42.5 47.1 40.45 48.65 Q38.4 50.2 36.1 51.15 Q33.8 52.1 31.5 52.5 Q29.2 52.9 27.2 52.9 Q21.3 52.9 16.85 50.75 Q12.4 48.6 9.45 44.95 Q6.5 41.3 5.05 36.4 Q3.6 31.5 3.6 26 Q3.6 20.5 5.1 15.6 Q6.6 10.7 9.55 7 Q12.5 3.3 16.95 1.1 Q21.4 -1.1 27.4 -1.1 Q32.8 -1.1 37.3 0.8 Q41.8 2.7 43.9 7 L44.1 7 L44.1 0 Z\"\n",
       "        /><glyph unicode=\"u\" horiz-adv-x=\"55.6\" d=\"M49.2 0 L49.2 51.7 L40.7 51.7 L40.7 22.5 Q40.7 19 39.75 16.05 Q38.8 13.1 36.9 10.9 Q35 8.7 32.15 7.5 Q29.3 6.3 25.4 6.3 Q20.5 6.3 17.7 9.1 Q14.9 11.9 14.9 16.7 L14.9 51.7 L6.4 51.7 L6.4 17.7 Q6.4 13.5 7.25 10.05 Q8.1 6.6 10.2 4.1 Q12.3 1.6 15.7 0.25 Q19.1 -1.1 24.2 -1.1 Q29.9 -1.1 34.1 1.15 Q38.3 3.4 41 8.2 L41.2 8.2 L41.2 0 Z\"\n",
       "        /><glyph unicode=\"t\" horiz-adv-x=\"31.5\" d=\"M18.2 51.7 L18.2 67.2 L9.7 67.2 L9.7 51.7 L0.9 51.7 L0.9 44.2 L9.7 44.2 L9.7 11.3 Q9.7 7.7 10.4 5.5 Q11.1 3.3 12.55 2.1 Q14 0.9 16.35 0.45 Q18.7 0 22 0 L28.5 0 L28.5 7.5 L24.6 7.5 Q22.6 7.5 21.35 7.65 Q20.1 7.8 19.4 8.3 Q18.7 8.8 18.45 9.7 Q18.2 10.6 18.2 12.1 L18.2 44.2 L28.5 44.2 L28.5 51.7 Z\"\n",
       "        /><glyph unicode=\"i\" horiz-adv-x=\"22.2\" d=\"M15.4 61 L15.4 71.4 L6.9 71.4 L6.9 61 ZM6.9 51.7 L6.9 0 L15.4 0 L15.4 51.7 Z\"\n",
       "        /><glyph unicode=\"n\" horiz-adv-x=\"55.6\" d=\"M6.4 51.7 L6.4 0 L14.9 0 L14.9 29.2 Q14.9 32.7 15.85 35.65 Q16.8 38.6 18.7 40.8 Q20.6 43 23.45 44.2 Q26.3 45.4 30.2 45.4 Q35.1 45.4 37.9 42.6 Q40.7 39.8 40.7 35 L40.7 0 L49.2 0 L49.2 34 Q49.2 38.2 48.35 41.65 Q47.5 45.1 45.4 47.6 Q43.3 50.1 39.9 51.5 Q36.5 52.9 31.4 52.9 Q19.9 52.9 14.6 43.5 L14.4 43.5 L14.4 51.7 Z\"\n",
       "        /><glyph unicode=\"g\" horiz-adv-x=\"57.4\" d=\"M51 4.4 L51 51.7 L43 51.7 L43 44.3 L42.9 44.3 Q40.6 48.6 36.5 50.75 Q32.4 52.9 27.5 52.9 Q20.8 52.9 16.2 50.35 Q11.6 47.8 8.8 43.85 Q6 39.9 4.8 35.05 Q3.6 30.2 3.6 25.6 Q3.6 20.3 5.05 15.55 Q6.5 10.8 9.4 7.25 Q12.3 3.7 16.6 1.6 Q20.9 -0.5 26.7 -0.5 Q31.7 -0.5 36.15 1.75 Q40.6 4 42.8 8.8 L43 8.8 L43 5.4 Q43 1.1 42.15 -2.5 Q41.3 -6.1 39.4 -8.65 Q37.5 -11.2 34.6 -12.65 Q31.7 -14.1 27.5 -14.1 Q25.4 -14.1 23.1 -13.65 Q20.8 -13.2 18.85 -12.2 Q16.9 -11.2 15.55 -9.6 Q14.2 -8 14.1 -5.7 L5.6 -5.7 Q5.8 -9.9 7.8 -12.8 Q9.8 -15.7 12.85 -17.5 Q15.9 -19.3 19.65 -20.1 Q23.4 -20.9 27 -20.9 Q39.4 -20.9 45.2 -14.6 Q51 -8.3 51 4.4 ZM27.2 6.9 Q23 6.9 20.2 8.65 Q17.4 10.4 15.7 13.25 Q14 16.1 13.3 19.6 Q12.6 23.1 12.6 26.6 Q12.6 30.3 13.45 33.7 Q14.3 37.1 16.15 39.7 Q18 42.3 20.9 43.85 Q23.8 45.4 27.9 45.4 Q31.9 45.4 34.7 43.8 Q37.5 42.2 39.25 39.55 Q41 36.9 41.8 33.6 Q42.6 30.3 42.6 26.9 Q42.6 23.3 41.75 19.7 Q40.9 16.1 39.1 13.25 Q37.3 10.4 34.35 8.65 Q31.4 6.9 27.2 6.9 Z\"\n",
       "        /><glyph unicode=\"a\" horiz-adv-x=\"53.7\" d=\"M52.2 0.2 Q50 -1.1 46.1 -1.1 Q42.8 -1.1 40.85 0.75 Q38.9 2.6 38.9 6.8 Q35.4 2.6 30.75 0.75 Q26.1 -1.1 20.7 -1.1 Q17.2 -1.1 14.05 -0.3 Q10.9 0.5 8.6 2.2 Q6.3 3.9 4.95 6.65 Q3.6 9.4 3.6 13.3 Q3.6 17.7 5.1 20.5 Q6.6 23.3 9.05 25.05 Q11.5 26.8 14.65 27.7 Q17.8 28.6 21.1 29.2 Q24.6 29.9 27.75 30.25 Q30.9 30.6 33.3 31.25 Q35.7 31.9 37.1 33.15 Q38.5 34.4 38.5 36.8 Q38.5 39.6 37.45 41.3 Q36.4 43 34.75 43.9 Q33.1 44.8 31.05 45.1 Q29 45.4 27 45.4 Q21.6 45.4 18 43.35 Q14.4 41.3 14.1 35.6 L5.6 35.6 Q5.8 40.4 7.6 43.7 Q9.4 47 12.4 49.05 Q15.4 51.1 19.25 52 Q23.1 52.9 27.5 52.9 Q31 52.9 34.45 52.4 Q37.9 51.9 40.7 50.35 Q43.5 48.8 45.2 46 Q46.9 43.2 46.9 38.7 L46.9 12.1 Q46.9 9.1 47.25 7.7 Q47.6 6.3 49.6 6.3 Q50.7 6.3 52.2 6.8 ZM38.4 26.7 Q36.8 25.5 34.2 24.95 Q31.6 24.4 28.75 24.05 Q25.9 23.7 23 23.25 Q20.1 22.8 17.8 21.8 Q15.5 20.8 14.05 18.95 Q12.6 17.1 12.6 13.9 Q12.6 11.8 13.45 10.35 Q14.3 8.9 15.65 8 Q17 7.1 18.8 6.7 Q20.6 6.3 22.6 6.3 Q26.8 6.3 29.8 7.45 Q32.8 8.6 34.7 10.35 Q36.6 12.1 37.5 14.15 Q38.4 16.2 38.4 18 Z\"\n",
       "        /><glyph unicode=\"M\" horiz-adv-x=\"87.1\" d=\"M8 71.4 L8 0 L17 0 L17 59.4 L17.2 59.4 L39.5 0 L47.6 0 L69.9 59.4 L70.1 59.4 L70.1 0 L79.1 0 L79.1 71.4 L66.1 71.4 L43.5 11.4 L21 71.4 Z\"\n",
       "        /><glyph unicode=\"5\" horiz-adv-x=\"55.6\" d=\"M47 62.2 L47 69.7 L12 69.7 L5.4 32.9 L12.7 32.5 Q15.2 35.5 18.45 37.35 Q21.7 39.2 25.9 39.2 Q29.5 39.2 32.45 38 Q35.4 36.8 37.5 34.65 Q39.6 32.5 40.75 29.55 Q41.9 26.6 41.9 23.1 Q41.9 18.9 40.7 15.75 Q39.5 12.6 37.45 10.5 Q35.4 8.4 32.65 7.35 Q29.9 6.3 26.9 6.3 Q23.7 6.3 21.05 7.25 Q18.4 8.2 16.45 9.95 Q14.5 11.7 13.35 14.05 Q12.2 16.4 12 19.1 L3.5 19.1 Q3.6 14.3 5.4 10.5 Q7.2 6.7 10.3 4.15 Q13.4 1.6 17.45 0.25 Q21.5 -1.1 26.1 -1.1 Q32.3 -1.1 36.95 0.85 Q41.6 2.8 44.7 6.1 Q47.8 9.4 49.35 13.65 Q50.9 17.9 50.9 22.4 Q50.9 28.5 49.1 33.05 Q47.3 37.6 44.2 40.65 Q41.1 43.7 36.9 45.2 Q32.7 46.7 28 46.7 Q24.4 46.7 20.75 45.45 Q17.1 44.2 14.8 41.6 L14.6 41.8 L18.4 62.2 Z\"\n",
       "        /><glyph unicode=\"7\" horiz-adv-x=\"55.6\" d=\"M50.9 62.4 L50.9 69.7 L5 69.7 L5 61.7 L42.2 61.7 Q36.6 55.8 31.75 48.8 Q26.9 41.8 23.2 33.95 Q19.5 26.1 17.15 17.55 Q14.8 9 14.2 0 L23.7 0 Q24.2 8.3 26.5 17.1 Q28.8 25.9 32.45 34.2 Q36.1 42.5 40.8 49.8 Q45.5 57.1 50.9 62.4 Z\"\n",
       "        /><glyph unicode=\"3\" horiz-adv-x=\"55.6\" d=\"M21.8 40.5 L21.8 33.3 Q24.2 33.6 26.9 33.6 Q30.1 33.6 32.85 32.75 Q35.6 31.9 37.6 30.15 Q39.6 28.4 40.8 25.85 Q42 23.3 42 20 Q42 16.8 40.75 14.25 Q39.5 11.7 37.4 9.95 Q35.3 8.2 32.5 7.25 Q29.7 6.3 26.6 6.3 Q19.3 6.3 15.5 10.65 Q11.7 15 11.5 21.9 L3 21.9 Q2.9 16.4 4.55 12.1 Q6.2 7.8 9.3 4.85 Q12.4 1.9 16.8 0.4 Q21.2 -1.1 26.6 -1.1 Q31.6 -1.1 36.05 0.25 Q40.5 1.6 43.8 4.3 Q47.1 7 49.05 11.05 Q51 15.1 51 20.4 Q51 26.8 47.85 31.5 Q44.7 36.2 38.2 37.6 L38.2 37.8 Q42.4 39.7 45.2 43.4 Q48 47.1 48 51.9 Q48 56.8 46.35 60.4 Q44.7 64 41.8 66.3 Q38.9 68.6 34.95 69.75 Q31 70.9 26.4 70.9 Q21.1 70.9 17.05 69.2 Q13 67.5 10.3 64.5 Q7.6 61.5 6.15 57.3 Q4.7 53.1 4.5 48 L13 48 Q13 51.1 13.8 53.9 Q14.6 56.7 16.25 58.8 Q17.9 60.9 20.45 62.15 Q23 63.4 26.4 63.4 Q31.8 63.4 35.4 60.55 Q39 57.7 39 52 Q39 49.2 37.9 47 Q36.8 44.8 34.95 43.35 Q33.1 41.9 30.65 41.15 Q28.2 40.4 25.5 40.4 L23.7 40.4 Q23.2 40.4 22.7 40.4 Q22.3 40.4 21.8 40.5 Z\"\n",
       "        /><glyph unicode=\"9\" horiz-adv-x=\"55.6\" d=\"M13.4 17.1 L4.9 17.1 Q5.7 7.9 11.6 3.4 Q17.5 -1.1 26.4 -1.1 Q39.3 -1.1 45.15 8.75 Q51 18.6 51 37 Q51 47.1 49.05 53.65 Q47.1 60.2 43.8 64 Q40.5 67.8 36.1 69.35 Q31.7 70.9 26.7 70.9 Q21.6 70.9 17.3 69.2 Q13 67.5 9.9 64.45 Q6.8 61.4 5.1 57.15 Q3.4 52.9 3.4 47.8 Q3.4 42.6 4.85 38.2 Q6.3 33.8 9.15 30.7 Q12 27.6 16.2 25.85 Q20.4 24.1 25.8 24.1 Q31 24.1 35.4 26.75 Q39.8 29.4 42.2 33.9 L42.4 33.7 Q42 19.8 38.1 13.05 Q34.2 6.3 26.4 6.3 Q21.3 6.3 17.6 9.1 Q13.9 11.9 13.4 17.1 ZM40.9 47.2 Q40.9 44.1 39.9 41.25 Q38.9 38.4 37 36.25 Q35.1 34.1 32.4 32.85 Q29.7 31.6 26.4 31.6 Q23.3 31.6 20.75 32.85 Q18.2 34.1 16.35 36.2 Q14.5 38.3 13.45 41 Q12.4 43.7 12.4 46.6 Q12.4 49.9 13.15 52.9 Q13.9 55.9 15.55 58.25 Q17.2 60.6 19.85 62 Q22.5 63.4 26.3 63.4 Q29.9 63.4 32.6 62.1 Q35.3 60.8 37.15 58.55 Q39 56.3 39.95 53.4 Q40.9 50.5 40.9 47.2 Z\"\n",
       "        /><glyph unicode=\"s\" horiz-adv-x=\"50.0\" d=\"M11.6 16.3 L3.1 16.3 Q3.3 11.5 5.1 8.15 Q6.9 4.8 9.9 2.75 Q12.9 0.7 16.8 -0.2 Q20.7 -1.1 25 -1.1 Q28.9 -1.1 32.85 -0.35 Q36.8 0.4 39.95 2.3 Q43.1 4.2 45.05 7.3 Q47 10.4 47 15.1 Q47 18.8 45.55 21.3 Q44.1 23.8 41.75 25.45 Q39.4 27.1 36.35 28.1 Q33.3 29.1 30.1 29.8 Q27.1 30.5 24.1 31.15 Q21.1 31.8 18.7 32.75 Q16.3 33.7 14.75 35.15 Q13.2 36.6 13.2 38.8 Q13.2 40.8 14.2 42.05 Q15.2 43.3 16.8 44.05 Q18.4 44.8 20.35 45.1 Q22.3 45.4 24.2 45.4 Q26.3 45.4 28.35 44.95 Q30.4 44.5 32.1 43.5 Q33.8 42.5 34.9 40.85 Q36 39.2 36.2 36.7 L44.7 36.7 Q44.4 41.4 42.7 44.55 Q41 47.7 38.15 49.55 Q35.3 51.4 31.6 52.15 Q27.9 52.9 23.5 52.9 Q20.1 52.9 16.65 52.05 Q13.2 51.2 10.45 49.45 Q7.7 47.7 5.95 44.9 Q4.2 42.1 4.2 38.2 Q4.2 33.2 6.7 30.4 Q9.2 27.6 12.95 26.05 Q16.7 24.5 21.1 23.65 Q25.5 22.8 29.25 21.75 Q33 20.7 35.5 19 Q38 17.3 38 14 Q38 11.6 36.8 10.05 Q35.6 8.5 33.75 7.7 Q31.9 6.9 29.7 6.6 Q27.5 6.3 25.5 6.3 Q22.9 6.3 20.45 6.8 Q18 7.3 16.05 8.45 Q14.1 9.6 12.9 11.55 Q11.7 13.5 11.6 16.3 Z\"\n",
       "        /><glyph unicode=\"h\" horiz-adv-x=\"55.6\" d=\"M6.4 71.4 L6.4 0 L14.9 0 L14.9 29.2 Q14.9 32.7 15.85 35.65 Q16.8 38.6 18.7 40.8 Q20.6 43 23.45 44.2 Q26.3 45.4 30.2 45.4 Q35.1 45.4 37.9 42.6 Q40.7 39.8 40.7 35 L40.7 0 L49.2 0 L49.2 34 Q49.2 38.2 48.35 41.65 Q47.5 45.1 45.4 47.6 Q43.3 50.1 39.9 51.5 Q36.5 52.9 31.4 52.9 Q29.1 52.9 26.65 52.4 Q24.2 51.9 21.95 50.85 Q19.7 49.8 17.9 48.15 Q16.1 46.5 15.1 44.1 L14.9 44.1 L14.9 71.4 Z\"\n",
       "        /><glyph unicode=\"P\" horiz-adv-x=\"64.8\" d=\"M17.3 37.2 L17.3 63.4 L35.9 63.4 Q44 63.4 47.75 60.05 Q51.5 56.7 51.5 50.3 Q51.5 43.9 47.75 40.5 Q44 37.1 35.9 37.2 ZM7.8 71.4 L7.8 0 L17.3 0 L17.3 29.2 L39.1 29.2 Q49.9 29.1 55.45 34.7 Q61 40.3 61 50.3 Q61 60.3 55.45 65.85 Q49.9 71.4 39.1 71.4 Z\"\n",
       "        /><glyph unicode=\"/\" horiz-adv-x=\"33.3\" d=\"M27.8 73.1 L-1.7 -1.6 L5.5 -1.6 L35.1 73.1 Z\"\n",
       "        /><glyph unicode=\"y\" horiz-adv-x=\"50.0\" d=\"M26.7 -6.9 Q25.2 -10.7 23.75 -13.3 Q22.3 -15.9 20.55 -17.55 Q18.8 -19.2 16.65 -19.95 Q14.5 -20.7 11.7 -20.7 Q10.2 -20.7 8.7 -20.5 Q7.2 -20.3 5.8 -19.8 L5.8 -12 Q6.9 -12.5 8.35 -12.85 Q9.8 -13.2 10.8 -13.2 Q13.4 -13.2 15.15 -11.95 Q16.9 -10.7 17.8 -8.4 L21.3 0.3 L0.8 51.7 L10.4 51.7 L25.5 9.4 L25.7 9.4 L40.2 51.7 L49.2 51.7 Z\"\n",
       "        /><glyph unicode=\"c\" horiz-adv-x=\"53.7\" d=\"M41.5 35.1 L50.3 35.1 Q49.8 39.7 47.9 43.05 Q46 46.4 43.05 48.6 Q40.1 50.8 36.25 51.85 Q32.4 52.9 28 52.9 Q21.9 52.9 17.3 50.75 Q12.7 48.6 9.65 44.85 Q6.6 41.1 5.1 36.05 Q3.6 31 3.6 25.2 Q3.6 19.4 5.15 14.55 Q6.7 9.7 9.75 6.2 Q12.8 2.7 17.35 0.8 Q21.9 -1.1 27.8 -1.1 Q37.7 -1.1 43.45 4.1 Q49.2 9.3 50.6 18.9 L41.9 18.9 Q41.1 12.9 37.55 9.6 Q34 6.3 27.7 6.3 Q23.7 6.3 20.8 7.9 Q17.9 9.5 16.1 12.15 Q14.3 14.8 13.45 18.2 Q12.6 21.6 12.6 25.2 Q12.6 29.1 13.4 32.75 Q14.2 36.4 16.05 39.2 Q17.9 42 21 43.7 Q24.1 45.4 28.7 45.4 Q34.1 45.4 37.3 42.7 Q40.5 40 41.5 35.1 Z\"\n",
       "        /><glyph unicode=\"q\" horiz-adv-x=\"59.3\" d=\"M12.6 25.4 Q12.6 29.2 13.4 32.8 Q14.2 36.4 16 39.2 Q17.8 42 20.8 43.7 Q23.8 45.4 28.1 45.4 Q32.5 45.4 35.6 43.75 Q38.7 42.1 40.65 39.4 Q42.6 36.7 43.5 33.15 Q44.4 29.6 44.4 25.8 Q44.4 22.2 43.55 18.7 Q42.7 15.2 40.8 12.45 Q38.9 9.7 35.9 8 Q32.9 6.3 28.6 6.3 Q24.5 6.3 21.45 7.9 Q18.4 9.5 16.45 12.2 Q14.5 14.9 13.55 18.35 Q12.6 21.8 12.6 25.4 ZM52.6 -19.7 L52.6 51.7 L44.1 51.7 L44.1 44.8 L43.9 44.8 Q42.5 47.1 40.45 48.65 Q38.4 50.2 36.1 51.15 Q33.8 52.1 31.5 52.5 Q29.2 52.9 27.2 52.9 Q21.3 52.9 16.85 50.75 Q12.4 48.6 9.45 44.95 Q6.5 41.3 5.05 36.4 Q3.6 31.5 3.6 26 Q3.6 20.5 5.1 15.6 Q6.6 10.7 9.55 7 Q12.5 3.3 16.95 1.1 Q21.4 -1.1 27.4 -1.1 Q32.8 -1.1 37.3 0.8 Q41.8 2.7 43.9 7 L44.1 7 L44.1 -19.7 Z\"\n",
       "        /><glyph unicode=\"r\" horiz-adv-x=\"33.3\" d=\"M6.1 51.7 L6.1 0 L14.6 0 L14.6 23 Q14.6 28 15.6 31.85 Q16.6 35.7 18.8 38.4 Q21 41.1 24.6 42.5 Q28.2 43.9 33.3 43.9 L33.3 52.9 Q26.4 53.1 21.9 50.1 Q17.4 47.1 14.3 40.8 L14.1 40.8 L14.1 51.7 Z\"\n",
       "        /><glyph unicode=\"F\" horiz-adv-x=\"57.4\" d=\"M7.8 71.4 L7.8 0 L17.3 0 L17.3 32.7 L50.1 32.7 L50.1 40.7 L17.3 40.7 L17.3 63.4 L54.7 63.4 L54.7 71.4 Z\"\n",
       "      /></font\n",
       "      ><font horiz-adv-x=\"50.0\" id=\"font2\"\n",
       "      ><font-face ascent=\"97.5\" descent=\"21.699999\" units-per-em=\"100\" style=\"font-style:normal; font-family:Helvetica Neue; font-weight:bold;\"\n",
       "        /><missing-glyph horiz-adv-x=\"50.0\" d=\"M39.1 60.7 L11.1 60.7 L11.1 9.5 L39.1 9.5 ZM48.2 69.8 L48.2 0.3 L1.7 0.3 L1.7 69.8 Z\"\n",
       "        /><glyph unicode=\"m\" horiz-adv-x=\"90.6\" d=\"M5.8 51.7 L5.8 0 L20 0 L20 30 Q20 33.8 21.1 36.15 Q22.2 38.5 23.75 39.75 Q25.3 41 26.95 41.45 Q28.6 41.9 29.6 41.9 Q33 41.9 34.75 40.75 Q36.5 39.6 37.25 37.7 Q38 35.8 38.1 33.55 Q38.2 31.3 38.2 29 L38.2 0 L52.4 0 L52.4 28.8 Q52.4 31.2 52.75 33.55 Q53.1 35.9 54.15 37.75 Q55.2 39.6 57.05 40.75 Q58.9 41.9 61.9 41.9 Q64.9 41.9 66.65 40.9 Q68.4 39.9 69.3 38.2 Q70.2 36.5 70.4 34.2 Q70.6 31.9 70.6 29.3 L70.6 0 L84.8 0 L84.8 34.6 Q84.8 39.6 83.4 43.15 Q82 46.7 79.5 48.9 Q77 51.1 73.5 52.1 Q70 53.1 65.9 53.1 Q60.5 53.1 56.55 50.5 Q52.6 47.9 50.3 44.5 Q48.2 49.3 44.15 51.2 Q40.1 53.1 35.2 53.1 Q30.1 53.1 26.15 50.9 Q22.2 48.7 19.4 44.7 L19.2 44.7 L19.2 51.7 Z\"\n",
       "        /><glyph unicode=\"r\" horiz-adv-x=\"38.9\" d=\"M5.4 51.7 L5.4 0 L19.6 0 L19.6 23.3 Q19.6 26.8 20.3 29.8 Q21 32.8 22.65 35.05 Q24.3 37.3 27 38.6 Q29.7 39.9 33.6 39.9 Q34.9 39.9 36.3 39.75 Q37.7 39.6 38.7 39.4 L38.7 52.6 Q37 53.1 35.6 53.1 Q32.9 53.1 30.4 52.3 Q27.9 51.5 25.7 50.05 Q23.5 48.6 21.8 46.55 Q20.1 44.5 19.1 42.1 L18.9 42.1 L18.9 51.7 Z\"\n",
       "        /><glyph unicode=\"g\" horiz-adv-x=\"61.1\" d=\"M29.5 12.2 Q26.2 12.2 24 13.6 Q21.8 15 20.45 17.2 Q19.1 19.4 18.55 22.15 Q18 24.9 18 27.7 Q18 30.6 18.65 33.25 Q19.3 35.9 20.75 37.95 Q22.2 40 24.35 41.2 Q26.5 42.4 29.5 42.4 Q33 42.4 35.3 41.1 Q37.6 39.8 39 37.6 Q40.4 35.4 41 32.55 Q41.6 29.7 41.6 26.5 Q41.6 23.7 40.85 21.15 Q40.1 18.6 38.6 16.6 Q37.1 14.6 34.8 13.4 Q32.5 12.2 29.5 12.2 ZM55.1 3.3 L55.1 51.7 L41.6 51.7 L41.6 44.8 L41.4 44.8 Q38.8 49.3 34.95 51.2 Q31.1 53.1 26 53.1 Q20.6 53.1 16.45 51 Q12.3 48.9 9.5 45.35 Q6.7 41.8 5.25 37.15 Q3.8 32.5 3.8 27.5 Q3.8 22.2 5.05 17.45 Q6.3 12.7 9 9.15 Q11.7 5.6 15.9 3.55 Q20.1 1.5 25.9 1.5 Q30.6 1.5 34.85 3.45 Q39.1 5.4 41.4 9.5 L41.6 9.5 L41.6 2.7 Q41.7 -2.8 38.95 -6.4 Q36.2 -10 30.2 -10 Q26.4 -10 23.5 -8.45 Q20.6 -6.9 19.6 -2.9 L5.5 -2.9 Q5.8 -7.3 7.95 -10.45 Q10.1 -13.6 13.35 -15.6 Q16.6 -17.6 20.55 -18.55 Q24.5 -19.5 28.3 -19.5 Q37.2 -19.5 42.5 -17.1 Q47.8 -14.7 50.6 -11.25 Q53.4 -7.8 54.25 -3.8 Q55.1 0.2 55.1 3.3 Z\"\n",
       "        /><glyph unicode=\"a\" horiz-adv-x=\"57.4\" d=\"M4.8 35.8 Q5.1 40.8 7.3 44.1 Q9.5 47.4 12.9 49.4 Q16.3 51.4 20.55 52.25 Q24.8 53.1 29.1 53.1 Q33 53.1 37 52.55 Q41 52 44.3 50.4 Q47.6 48.8 49.7 45.95 Q51.8 43.1 51.8 38.4 L51.8 11.5 Q51.8 8 52.2 4.8 Q52.6 1.6 53.6 0 L39.2 0 Q38.8 1.2 38.55 2.45 Q38.3 3.7 38.2 5 Q34.8 1.5 30.2 0.1 Q25.6 -1.3 20.8 -1.3 Q17.1 -1.3 13.9 -0.4 Q10.7 0.5 8.3 2.4 Q5.9 4.3 4.55 7.2 Q3.2 10.1 3.2 14.1 Q3.2 18.5 4.75 21.35 Q6.3 24.2 8.75 25.9 Q11.2 27.6 14.35 28.45 Q17.5 29.3 20.7 29.8 Q23.9 30.3 27 30.6 Q30.1 30.9 32.5 31.5 Q34.9 32.1 36.3 33.25 Q37.7 34.4 37.6 36.6 Q37.6 38.9 36.85 40.25 Q36.1 41.6 34.85 42.35 Q33.6 43.1 31.95 43.35 Q30.3 43.6 28.4 43.6 Q24.2 43.6 21.8 41.8 Q19.4 40 19 35.8 ZM37.6 25.3 Q36.7 24.5 35.35 24.05 Q34 23.6 32.45 23.3 Q30.9 23 29.2 22.8 Q27.5 22.6 25.8 22.3 Q24.2 22 22.65 21.5 Q21.1 21 19.95 20.15 Q18.8 19.3 18.1 18 Q17.4 16.7 17.4 14.7 Q17.4 12.8 18.1 11.5 Q18.8 10.2 20 9.45 Q21.2 8.7 22.8 8.4 Q24.4 8.1 26.1 8.1 Q30.3 8.1 32.6 9.5 Q34.9 10.9 36 12.85 Q37.1 14.8 37.35 16.8 Q37.6 18.8 37.6 20 Z\"\n",
       "        /><glyph unicode=\"i\" horiz-adv-x=\"25.8\" d=\"M20 59.7 L20 71.4 L5.8 71.4 L5.8 59.7 ZM5.8 51.7 L5.8 0 L20 0 L20 51.7 Z\"\n",
       "        /><glyph unicode=\"D\" horiz-adv-x=\"74.1\" d=\"M22.6 13.2 L22.6 58.2 L33.8 58.2 Q39.6 58.2 43.55 56.55 Q47.5 54.9 49.9 51.8 Q52.3 48.7 53.35 44.35 Q54.4 40 54.4 34.6 Q54.4 28.7 52.9 24.6 Q51.4 20.5 48.9 17.95 Q46.4 15.4 43.2 14.3 Q40 13.2 36.6 13.2 ZM6.9 71.4 L6.9 0 L37.7 0 Q45.9 0 51.95 2.75 Q58 5.5 62.05 10.3 Q66.1 15.1 68.1 21.7 Q70.1 28.3 70.1 36.1 Q70.1 45 67.65 51.6 Q65.2 58.2 60.85 62.6 Q56.5 67 50.55 69.2 Q44.6 71.4 37.7 71.4 Z\"\n",
       "        /><glyph unicode=\" \" horiz-adv-x=\"27.8\" d=\"\"\n",
       "        /><glyph unicode=\"e\" horiz-adv-x=\"57.4\" d=\"M40.2 31.4 L17.1 31.4 Q17.2 32.9 17.75 34.8 Q18.3 36.7 19.65 38.4 Q21 40.1 23.25 41.25 Q25.5 42.4 28.9 42.4 Q34.1 42.4 36.65 39.6 Q39.2 36.8 40.2 31.4 ZM17.1 22.4 L54.4 22.4 Q54.8 28.4 53.4 33.9 Q52 39.4 48.85 43.7 Q45.7 48 40.8 50.55 Q35.9 53.1 29.3 53.1 Q23.4 53.1 18.55 51 Q13.7 48.9 10.2 45.25 Q6.7 41.6 4.8 36.6 Q2.9 31.6 2.9 25.8 Q2.9 19.8 4.75 14.8 Q6.6 9.8 10 6.2 Q13.4 2.6 18.3 0.65 Q23.2 -1.3 29.3 -1.3 Q38.1 -1.3 44.3 2.7 Q50.5 6.7 53.5 16 L41 16 Q40.3 13.6 37.2 11.45 Q34.1 9.3 29.8 9.3 Q23.8 9.3 20.6 12.4 Q17.4 15.5 17.1 22.4 Z\"\n",
       "        /><glyph unicode=\"d\" horiz-adv-x=\"61.1\" d=\"M42.1 26 Q42.1 22.8 41.5 19.8 Q40.9 16.8 39.5 14.45 Q38.1 12.1 35.75 10.7 Q33.4 9.3 29.9 9.3 Q26.6 9.3 24.25 10.75 Q21.9 12.2 20.35 14.55 Q18.8 16.9 18.1 19.9 Q17.4 22.9 17.4 25.9 Q17.4 29.1 18.05 32.05 Q18.7 35 20.15 37.3 Q21.6 39.6 24 41 Q26.4 42.4 29.9 42.4 Q33.4 42.4 35.7 41 Q38 39.6 39.45 37.35 Q40.9 35.1 41.5 32.15 Q42.1 29.2 42.1 26 ZM42.3 6.6 L42.3 0 L55.8 0 L55.8 71.4 L41.6 71.4 L41.6 45.4 L41.4 45.4 Q39 49.2 34.85 51.15 Q30.7 53.1 26.1 53.1 Q20.4 53.1 16.1 50.85 Q11.8 48.6 8.95 44.9 Q6.1 41.2 4.65 36.35 Q3.2 31.5 3.2 26.3 Q3.2 20.9 4.65 15.9 Q6.1 10.9 8.95 7.05 Q11.8 3.2 16.2 0.95 Q20.6 -1.3 26.4 -1.3 Q31.5 -1.3 35.55 0.55 Q39.6 2.4 42.1 6.6 Z\"\n",
       "        /><glyph unicode=\"o\" horiz-adv-x=\"61.1\" d=\"M18 25.8 Q18 28.9 18.6 31.9 Q19.2 34.9 20.65 37.2 Q22.1 39.5 24.5 40.95 Q26.9 42.4 30.5 42.4 Q34.1 42.4 36.55 40.95 Q39 39.5 40.45 37.2 Q41.9 34.9 42.5 31.9 Q43.1 28.9 43.1 25.8 Q43.1 22.7 42.5 19.75 Q41.9 16.8 40.45 14.45 Q39 12.1 36.55 10.7 Q34.1 9.3 30.5 9.3 Q26.9 9.3 24.5 10.7 Q22.1 12.1 20.65 14.45 Q19.2 16.8 18.6 19.75 Q18 22.7 18 25.8 ZM3.8 25.8 Q3.8 19.6 5.7 14.6 Q7.6 9.6 11.1 6.05 Q14.6 2.5 19.5 0.6 Q24.4 -1.3 30.5 -1.3 Q36.6 -1.3 41.55 0.6 Q46.5 2.5 50 6.05 Q53.5 9.6 55.4 14.6 Q57.3 19.6 57.3 25.8 Q57.3 32 55.4 37.05 Q53.5 42.1 50 45.65 Q46.5 49.2 41.55 51.15 Q36.6 53.1 30.5 53.1 Q24.4 53.1 19.5 51.15 Q14.6 49.2 11.1 45.65 Q7.6 42.1 5.7 37.05 Q3.8 32 3.8 25.8 Z\"\n",
       "        /><glyph unicode=\"B\" horiz-adv-x=\"70.4\" d=\"M22.6 42.5 L22.6 59.2 L37.3 59.2 Q39.4 59.2 41.35 58.85 Q43.3 58.5 44.8 57.6 Q46.3 56.7 47.2 55.1 Q48.1 53.5 48.1 51 Q48.1 46.5 45.4 44.5 Q42.7 42.5 38.5 42.5 ZM6.9 71.4 L6.9 0 L41.5 0 Q46.3 0 50.85 1.2 Q55.4 2.4 58.95 4.9 Q62.5 7.4 64.6 11.35 Q66.7 15.3 66.7 20.7 Q66.7 27.4 63.45 32.15 Q60.2 36.9 53.6 38.8 Q58.4 41.1 60.85 44.7 Q63.3 48.3 63.3 53.7 Q63.3 58.7 61.65 62.1 Q60 65.5 57 67.55 Q54 69.6 49.8 70.5 Q45.6 71.4 40.5 71.4 ZM22.6 12.2 L22.6 31.8 L39.7 31.8 Q44.8 31.8 47.9 29.45 Q51 27.1 51 21.6 Q51 18.8 50.05 17 Q49.1 15.2 47.5 14.15 Q45.9 13.1 43.8 12.65 Q41.7 12.2 39.4 12.2 Z\"\n",
       "      /></font\n",
       "    ></defs\n",
       "    ><g style=\"fill:white; stroke:white;\"\n",
       "    ><rect x=\"0\" y=\"0\" width=\"560\" style=\"clip-path:url(#clipPath1); stroke:none;\" height=\"420\"\n",
       "    /></g\n",
       "    ><g style=\"fill:white; text-rendering:optimizeSpeed; color-rendering:optimizeSpeed; image-rendering:optimizeSpeed; shape-rendering:crispEdges; stroke:white; color-interpolation:sRGB;\"\n",
       "    ><rect x=\"0\" width=\"560\" height=\"420\" y=\"0\" style=\"stroke:none;\"\n",
       "      /><path style=\"stroke:none;\" d=\"M85 216 L507 216 L507 51.5 L85 51.5 Z\"\n",
       "    /></g\n",
       "    ><g style=\"fill-opacity:0.251; color-rendering:optimizeQuality; color-interpolation:linearRGB; text-rendering:geometricPrecision; stroke:rgb(102,102,102); stroke-linecap:butt; stroke-miterlimit:1; stroke-opacity:0.251; fill:rgb(102,102,102); stroke-dasharray:1,3; stroke-width:0.5; stroke-linejoin:bevel; image-rendering:optimizeQuality;\"\n",
       "    ><line y2=\"51.5\" style=\"fill:none;\" x1=\"116.7587\" x2=\"116.7587\" y1=\"216\"\n",
       "      /><line y2=\"51.5\" style=\"fill:none;\" x1=\"135.3363\" x2=\"135.3363\" y1=\"216\"\n",
       "      /><line y2=\"51.5\" style=\"fill:none;\" x1=\"148.5173\" x2=\"148.5173\" y1=\"216\"\n",
       "      /><line y2=\"51.5\" style=\"fill:none;\" x1=\"158.7413\" x2=\"158.7413\" y1=\"216\"\n",
       "      /><line y2=\"51.5\" style=\"fill:none;\" x1=\"167.095\" x2=\"167.095\" y1=\"216\"\n",
       "      /><line y2=\"51.5\" style=\"fill:none;\" x1=\"174.1578\" x2=\"174.1578\" y1=\"216\"\n",
       "      /><line y2=\"51.5\" style=\"fill:none;\" x1=\"180.276\" x2=\"180.276\" y1=\"216\"\n",
       "      /><line y2=\"51.5\" style=\"fill:none;\" x1=\"185.6726\" x2=\"185.6726\" y1=\"216\"\n",
       "      /><line y2=\"51.5\" style=\"fill:none;\" x1=\"222.2587\" x2=\"222.2587\" y1=\"216\"\n",
       "      /><line y2=\"51.5\" style=\"fill:none;\" x1=\"240.8363\" x2=\"240.8363\" y1=\"216\"\n",
       "      /><line y2=\"51.5\" style=\"fill:none;\" x1=\"254.0173\" x2=\"254.0173\" y1=\"216\"\n",
       "      /><line y2=\"51.5\" style=\"fill:none;\" x1=\"264.2413\" x2=\"264.2413\" y1=\"216\"\n",
       "      /><line y2=\"51.5\" style=\"fill:none;\" x1=\"272.595\" x2=\"272.595\" y1=\"216\"\n",
       "      /><line y2=\"51.5\" style=\"fill:none;\" x1=\"279.6578\" x2=\"279.6578\" y1=\"216\"\n",
       "      /><line y2=\"51.5\" style=\"fill:none;\" x1=\"285.776\" x2=\"285.776\" y1=\"216\"\n",
       "      /><line y2=\"51.5\" style=\"fill:none;\" x1=\"291.1726\" x2=\"291.1726\" y1=\"216\"\n",
       "      /><line y2=\"51.5\" style=\"fill:none;\" x1=\"327.7587\" x2=\"327.7587\" y1=\"216\"\n",
       "      /><line y2=\"51.5\" style=\"fill:none;\" x1=\"346.3363\" x2=\"346.3363\" y1=\"216\"\n",
       "      /><line y2=\"51.5\" style=\"fill:none;\" x1=\"359.5173\" x2=\"359.5173\" y1=\"216\"\n",
       "      /><line y2=\"51.5\" style=\"fill:none;\" x1=\"369.7413\" x2=\"369.7413\" y1=\"216\"\n",
       "      /><line y2=\"51.5\" style=\"fill:none;\" x1=\"378.095\" x2=\"378.095\" y1=\"216\"\n",
       "      /><line y2=\"51.5\" style=\"fill:none;\" x1=\"385.1578\" x2=\"385.1578\" y1=\"216\"\n",
       "      /><line y2=\"51.5\" style=\"fill:none;\" x1=\"391.276\" x2=\"391.276\" y1=\"216\"\n",
       "      /><line y2=\"51.5\" style=\"fill:none;\" x1=\"396.6726\" x2=\"396.6726\" y1=\"216\"\n",
       "      /><line y2=\"51.5\" style=\"fill:none;\" x1=\"433.2587\" x2=\"433.2587\" y1=\"216\"\n",
       "      /><line y2=\"51.5\" style=\"fill:none;\" x1=\"451.8363\" x2=\"451.8363\" y1=\"216\"\n",
       "      /><line y2=\"51.5\" style=\"fill:none;\" x1=\"465.0173\" x2=\"465.0173\" y1=\"216\"\n",
       "      /><line y2=\"51.5\" style=\"fill:none;\" x1=\"475.2413\" x2=\"475.2413\" y1=\"216\"\n",
       "      /><line y2=\"51.5\" style=\"fill:none;\" x1=\"483.595\" x2=\"483.595\" y1=\"216\"\n",
       "      /><line y2=\"51.5\" style=\"fill:none;\" x1=\"490.6578\" x2=\"490.6578\" y1=\"216\"\n",
       "      /><line y2=\"51.5\" style=\"fill:none;\" x1=\"496.776\" x2=\"496.776\" y1=\"216\"\n",
       "      /><line y2=\"51.5\" style=\"fill:none;\" x1=\"502.1726\" x2=\"502.1726\" y1=\"216\"\n",
       "    /></g\n",
       "    ><g style=\"stroke-linecap:butt; fill-opacity:0.149; fill:rgb(38,38,38); text-rendering:geometricPrecision; image-rendering:optimizeQuality; color-rendering:optimizeQuality; stroke-linejoin:round; stroke:rgb(38,38,38); color-interpolation:linearRGB; stroke-width:0.5; stroke-opacity:0.149;\"\n",
       "    ><line y2=\"51.5\" style=\"fill:none;\" x1=\"85\" x2=\"85\" y1=\"216\"\n",
       "      /><line y2=\"51.5\" style=\"fill:none;\" x1=\"190.5\" x2=\"190.5\" y1=\"216\"\n",
       "      /><line y2=\"51.5\" style=\"fill:none;\" x1=\"296\" x2=\"296\" y1=\"216\"\n",
       "      /><line y2=\"51.5\" style=\"fill:none;\" x1=\"401.5\" x2=\"401.5\" y1=\"216\"\n",
       "      /><line y2=\"51.5\" style=\"fill:none;\" x1=\"507\" x2=\"507\" y1=\"216\"\n",
       "      /><line y2=\"216\" style=\"fill:none;\" x1=\"507\" x2=\"85\" y1=\"216\"\n",
       "      /><line y2=\"188.5833\" style=\"fill:none;\" x1=\"507\" x2=\"85\" y1=\"188.5833\"\n",
       "      /><line y2=\"161.1667\" style=\"fill:none;\" x1=\"507\" x2=\"85\" y1=\"161.1667\"\n",
       "      /><line y2=\"133.75\" style=\"fill:none;\" x1=\"507\" x2=\"85\" y1=\"133.75\"\n",
       "      /><line y2=\"106.3333\" style=\"fill:none;\" x1=\"507\" x2=\"85\" y1=\"106.3333\"\n",
       "      /><line y2=\"78.9167\" style=\"fill:none;\" x1=\"507\" x2=\"85\" y1=\"78.9167\"\n",
       "      /><line y2=\"51.5\" style=\"fill:none;\" x1=\"507\" x2=\"85\" y1=\"51.5\"\n",
       "    /></g\n",
       "    ><g style=\"fill:rgb(102,102,102); text-rendering:geometricPrecision; image-rendering:optimizeQuality; color-rendering:optimizeQuality; stroke-linejoin:round; stroke:rgb(102,102,102); color-interpolation:linearRGB; stroke-width:0.5;\"\n",
       "    ><line y2=\"216\" style=\"fill:none;\" x1=\"85\" x2=\"507\" y1=\"216\"\n",
       "      /><line y2=\"51.5\" style=\"fill:none;\" x1=\"85\" x2=\"507\" y1=\"51.5\"\n",
       "      /><line y2=\"211.78\" style=\"fill:none;\" x1=\"85\" x2=\"85\" y1=\"216\"\n",
       "      /><line y2=\"211.78\" style=\"fill:none;\" x1=\"190.5\" x2=\"190.5\" y1=\"216\"\n",
       "      /><line y2=\"211.78\" style=\"fill:none;\" x1=\"296\" x2=\"296\" y1=\"216\"\n",
       "      /><line y2=\"211.78\" style=\"fill:none;\" x1=\"401.5\" x2=\"401.5\" y1=\"216\"\n",
       "      /><line y2=\"211.78\" style=\"fill:none;\" x1=\"507\" x2=\"507\" y1=\"216\"\n",
       "      /><line y2=\"55.72\" style=\"fill:none;\" x1=\"85\" x2=\"85\" y1=\"51.5\"\n",
       "      /><line y2=\"55.72\" style=\"fill:none;\" x1=\"190.5\" x2=\"190.5\" y1=\"51.5\"\n",
       "      /><line y2=\"55.72\" style=\"fill:none;\" x1=\"296\" x2=\"296\" y1=\"51.5\"\n",
       "      /><line y2=\"55.72\" style=\"fill:none;\" x1=\"401.5\" x2=\"401.5\" y1=\"51.5\"\n",
       "      /><line y2=\"55.72\" style=\"fill:none;\" x1=\"507\" x2=\"507\" y1=\"51.5\"\n",
       "      /><line y2=\"213.89\" style=\"fill:none;\" x1=\"85\" x2=\"85\" y1=\"216\"\n",
       "      /><line y2=\"213.89\" style=\"fill:none;\" x1=\"116.7587\" x2=\"116.7587\" y1=\"216\"\n",
       "      /><line y2=\"213.89\" style=\"fill:none;\" x1=\"135.3363\" x2=\"135.3363\" y1=\"216\"\n",
       "      /><line y2=\"213.89\" style=\"fill:none;\" x1=\"148.5173\" x2=\"148.5173\" y1=\"216\"\n",
       "      /><line y2=\"213.89\" style=\"fill:none;\" x1=\"158.7413\" x2=\"158.7413\" y1=\"216\"\n",
       "      /><line y2=\"213.89\" style=\"fill:none;\" x1=\"167.095\" x2=\"167.095\" y1=\"216\"\n",
       "      /><line y2=\"213.89\" style=\"fill:none;\" x1=\"174.1578\" x2=\"174.1578\" y1=\"216\"\n",
       "      /><line y2=\"213.89\" style=\"fill:none;\" x1=\"180.276\" x2=\"180.276\" y1=\"216\"\n",
       "      /><line y2=\"213.89\" style=\"fill:none;\" x1=\"185.6726\" x2=\"185.6726\" y1=\"216\"\n",
       "      /><line y2=\"213.89\" style=\"fill:none;\" x1=\"190.5\" x2=\"190.5\" y1=\"216\"\n",
       "      /><line y2=\"213.89\" style=\"fill:none;\" x1=\"222.2587\" x2=\"222.2587\" y1=\"216\"\n",
       "      /><line y2=\"213.89\" style=\"fill:none;\" x1=\"240.8363\" x2=\"240.8363\" y1=\"216\"\n",
       "      /><line y2=\"213.89\" style=\"fill:none;\" x1=\"254.0173\" x2=\"254.0173\" y1=\"216\"\n",
       "      /><line y2=\"213.89\" style=\"fill:none;\" x1=\"264.2413\" x2=\"264.2413\" y1=\"216\"\n",
       "      /><line y2=\"213.89\" style=\"fill:none;\" x1=\"272.595\" x2=\"272.595\" y1=\"216\"\n",
       "      /><line y2=\"213.89\" style=\"fill:none;\" x1=\"279.6578\" x2=\"279.6578\" y1=\"216\"\n",
       "      /><line y2=\"213.89\" style=\"fill:none;\" x1=\"285.776\" x2=\"285.776\" y1=\"216\"\n",
       "      /><line y2=\"213.89\" style=\"fill:none;\" x1=\"291.1726\" x2=\"291.1726\" y1=\"216\"\n",
       "      /><line y2=\"213.89\" style=\"fill:none;\" x1=\"296\" x2=\"296\" y1=\"216\"\n",
       "      /><line y2=\"213.89\" style=\"fill:none;\" x1=\"327.7587\" x2=\"327.7587\" y1=\"216\"\n",
       "      /><line y2=\"213.89\" style=\"fill:none;\" x1=\"346.3363\" x2=\"346.3363\" y1=\"216\"\n",
       "      /><line y2=\"213.89\" style=\"fill:none;\" x1=\"359.5173\" x2=\"359.5173\" y1=\"216\"\n",
       "      /><line y2=\"213.89\" style=\"fill:none;\" x1=\"369.7413\" x2=\"369.7413\" y1=\"216\"\n",
       "      /><line y2=\"213.89\" style=\"fill:none;\" x1=\"378.095\" x2=\"378.095\" y1=\"216\"\n",
       "      /><line y2=\"213.89\" style=\"fill:none;\" x1=\"385.1578\" x2=\"385.1578\" y1=\"216\"\n",
       "      /><line y2=\"213.89\" style=\"fill:none;\" x1=\"391.276\" x2=\"391.276\" y1=\"216\"\n",
       "      /><line y2=\"213.89\" style=\"fill:none;\" x1=\"396.6726\" x2=\"396.6726\" y1=\"216\"\n",
       "      /><line y2=\"213.89\" style=\"fill:none;\" x1=\"401.5\" x2=\"401.5\" y1=\"216\"\n",
       "      /><line y2=\"213.89\" style=\"fill:none;\" x1=\"433.2587\" x2=\"433.2587\" y1=\"216\"\n",
       "      /><line y2=\"213.89\" style=\"fill:none;\" x1=\"451.8363\" x2=\"451.8363\" y1=\"216\"\n",
       "      /><line y2=\"213.89\" style=\"fill:none;\" x1=\"465.0173\" x2=\"465.0173\" y1=\"216\"\n",
       "      /><line y2=\"213.89\" style=\"fill:none;\" x1=\"475.2413\" x2=\"475.2413\" y1=\"216\"\n",
       "      /><line y2=\"213.89\" style=\"fill:none;\" x1=\"483.595\" x2=\"483.595\" y1=\"216\"\n",
       "      /><line y2=\"213.89\" style=\"fill:none;\" x1=\"490.6578\" x2=\"490.6578\" y1=\"216\"\n",
       "      /><line y2=\"213.89\" style=\"fill:none;\" x1=\"496.776\" x2=\"496.776\" y1=\"216\"\n",
       "      /><line y2=\"213.89\" style=\"fill:none;\" x1=\"502.1726\" x2=\"502.1726\" y1=\"216\"\n",
       "      /><line y2=\"213.89\" style=\"fill:none;\" x1=\"507\" x2=\"507\" y1=\"216\"\n",
       "      /><line y2=\"53.61\" style=\"fill:none;\" x1=\"85\" x2=\"85\" y1=\"51.5\"\n",
       "      /><line y2=\"53.61\" style=\"fill:none;\" x1=\"116.7587\" x2=\"116.7587\" y1=\"51.5\"\n",
       "      /><line y2=\"53.61\" style=\"fill:none;\" x1=\"135.3363\" x2=\"135.3363\" y1=\"51.5\"\n",
       "      /><line y2=\"53.61\" style=\"fill:none;\" x1=\"148.5173\" x2=\"148.5173\" y1=\"51.5\"\n",
       "      /><line y2=\"53.61\" style=\"fill:none;\" x1=\"158.7413\" x2=\"158.7413\" y1=\"51.5\"\n",
       "      /><line y2=\"53.61\" style=\"fill:none;\" x1=\"167.095\" x2=\"167.095\" y1=\"51.5\"\n",
       "      /><line y2=\"53.61\" style=\"fill:none;\" x1=\"174.1578\" x2=\"174.1578\" y1=\"51.5\"\n",
       "      /><line y2=\"53.61\" style=\"fill:none;\" x1=\"180.276\" x2=\"180.276\" y1=\"51.5\"\n",
       "      /><line y2=\"53.61\" style=\"fill:none;\" x1=\"185.6726\" x2=\"185.6726\" y1=\"51.5\"\n",
       "      /><line y2=\"53.61\" style=\"fill:none;\" x1=\"190.5\" x2=\"190.5\" y1=\"51.5\"\n",
       "      /><line y2=\"53.61\" style=\"fill:none;\" x1=\"222.2587\" x2=\"222.2587\" y1=\"51.5\"\n",
       "      /><line y2=\"53.61\" style=\"fill:none;\" x1=\"240.8363\" x2=\"240.8363\" y1=\"51.5\"\n",
       "      /><line y2=\"53.61\" style=\"fill:none;\" x1=\"254.0173\" x2=\"254.0173\" y1=\"51.5\"\n",
       "      /><line y2=\"53.61\" style=\"fill:none;\" x1=\"264.2413\" x2=\"264.2413\" y1=\"51.5\"\n",
       "      /><line y2=\"53.61\" style=\"fill:none;\" x1=\"272.595\" x2=\"272.595\" y1=\"51.5\"\n",
       "      /><line y2=\"53.61\" style=\"fill:none;\" x1=\"279.6578\" x2=\"279.6578\" y1=\"51.5\"\n",
       "      /><line y2=\"53.61\" style=\"fill:none;\" x1=\"285.776\" x2=\"285.776\" y1=\"51.5\"\n",
       "      /><line y2=\"53.61\" style=\"fill:none;\" x1=\"291.1726\" x2=\"291.1726\" y1=\"51.5\"\n",
       "      /><line y2=\"53.61\" style=\"fill:none;\" x1=\"296\" x2=\"296\" y1=\"51.5\"\n",
       "      /><line y2=\"53.61\" style=\"fill:none;\" x1=\"327.7587\" x2=\"327.7587\" y1=\"51.5\"\n",
       "      /><line y2=\"53.61\" style=\"fill:none;\" x1=\"346.3363\" x2=\"346.3363\" y1=\"51.5\"\n",
       "      /><line y2=\"53.61\" style=\"fill:none;\" x1=\"359.5173\" x2=\"359.5173\" y1=\"51.5\"\n",
       "      /><line y2=\"53.61\" style=\"fill:none;\" x1=\"369.7413\" x2=\"369.7413\" y1=\"51.5\"\n",
       "      /><line y2=\"53.61\" style=\"fill:none;\" x1=\"378.095\" x2=\"378.095\" y1=\"51.5\"\n",
       "      /><line y2=\"53.61\" style=\"fill:none;\" x1=\"385.1578\" x2=\"385.1578\" y1=\"51.5\"\n",
       "      /><line y2=\"53.61\" style=\"fill:none;\" x1=\"391.276\" x2=\"391.276\" y1=\"51.5\"\n",
       "      /><line y2=\"53.61\" style=\"fill:none;\" x1=\"396.6726\" x2=\"396.6726\" y1=\"51.5\"\n",
       "      /><line y2=\"53.61\" style=\"fill:none;\" x1=\"401.5\" x2=\"401.5\" y1=\"51.5\"\n",
       "      /><line y2=\"53.61\" style=\"fill:none;\" x1=\"433.2587\" x2=\"433.2587\" y1=\"51.5\"\n",
       "      /><line y2=\"53.61\" style=\"fill:none;\" x1=\"451.8363\" x2=\"451.8363\" y1=\"51.5\"\n",
       "      /><line y2=\"53.61\" style=\"fill:none;\" x1=\"465.0173\" x2=\"465.0173\" y1=\"51.5\"\n",
       "      /><line y2=\"53.61\" style=\"fill:none;\" x1=\"475.2413\" x2=\"475.2413\" y1=\"51.5\"\n",
       "      /><line y2=\"53.61\" style=\"fill:none;\" x1=\"483.595\" x2=\"483.595\" y1=\"51.5\"\n",
       "      /><line y2=\"53.61\" style=\"fill:none;\" x1=\"490.6578\" x2=\"490.6578\" y1=\"51.5\"\n",
       "      /><line y2=\"53.61\" style=\"fill:none;\" x1=\"496.776\" x2=\"496.776\" y1=\"51.5\"\n",
       "      /><line y2=\"53.61\" style=\"fill:none;\" x1=\"502.1726\" x2=\"502.1726\" y1=\"51.5\"\n",
       "      /><line y2=\"53.61\" style=\"fill:none;\" x1=\"507\" x2=\"507\" y1=\"51.5\"\n",
       "      /><line y2=\"51.5\" style=\"fill:none;\" x1=\"85\" x2=\"85\" y1=\"216\"\n",
       "      /><line y2=\"51.5\" style=\"fill:none;\" x1=\"507\" x2=\"507\" y1=\"216\"\n",
       "      /><line y2=\"216\" style=\"fill:none;\" x1=\"85\" x2=\"89.22\" y1=\"216\"\n",
       "      /><line y2=\"188.5833\" style=\"fill:none;\" x1=\"85\" x2=\"89.22\" y1=\"188.5833\"\n",
       "      /><line y2=\"161.1667\" style=\"fill:none;\" x1=\"85\" x2=\"89.22\" y1=\"161.1667\"\n",
       "      /><line y2=\"133.75\" style=\"fill:none;\" x1=\"85\" x2=\"89.22\" y1=\"133.75\"\n",
       "      /><line y2=\"106.3333\" style=\"fill:none;\" x1=\"85\" x2=\"89.22\" y1=\"106.3333\"\n",
       "      /><line y2=\"78.9167\" style=\"fill:none;\" x1=\"85\" x2=\"89.22\" y1=\"78.9167\"\n",
       "      /><line y2=\"51.5\" style=\"fill:none;\" x1=\"85\" x2=\"89.22\" y1=\"51.5\"\n",
       "      /><line y2=\"216\" style=\"fill:none;\" x1=\"507\" x2=\"502.78\" y1=\"216\"\n",
       "      /><line y2=\"188.5833\" style=\"fill:none;\" x1=\"507\" x2=\"502.78\" y1=\"188.5833\"\n",
       "      /><line y2=\"161.1667\" style=\"fill:none;\" x1=\"507\" x2=\"502.78\" y1=\"161.1667\"\n",
       "      /><line y2=\"133.75\" style=\"fill:none;\" x1=\"507\" x2=\"502.78\" y1=\"133.75\"\n",
       "      /><line y2=\"106.3333\" style=\"fill:none;\" x1=\"507\" x2=\"502.78\" y1=\"106.3333\"\n",
       "      /><line y2=\"78.9167\" style=\"fill:none;\" x1=\"507\" x2=\"502.78\" y1=\"78.9167\"\n",
       "      /><line y2=\"51.5\" style=\"fill:none;\" x1=\"507\" x2=\"502.78\" y1=\"51.5\"\n",
       "    /></g\n",
       "    ><g transform=\"translate(81,216)\" style=\"font-size:10px; fill:rgb(102,102,102); text-rendering:geometricPrecision; image-rendering:optimizeQuality; color-rendering:optimizeQuality; font-family:'Helvetica Neue'; stroke:rgb(102,102,102); color-interpolation:linearRGB;\"\n",
       "    ><text x=\"-21\" xml:space=\"preserve\" y=\"3.5\" style=\"stroke:none;\"\n",
       "      >-120</text\n",
       "    ></g\n",
       "    ><g transform=\"translate(81,188.5833)\" style=\"font-size:10px; fill:rgb(102,102,102); text-rendering:geometricPrecision; image-rendering:optimizeQuality; color-rendering:optimizeQuality; font-family:'Helvetica Neue'; stroke:rgb(102,102,102); color-interpolation:linearRGB;\"\n",
       "    ><text x=\"-21\" xml:space=\"preserve\" y=\"3.5\" style=\"stroke:none;\"\n",
       "      >-100</text\n",
       "    ></g\n",
       "    ><g transform=\"translate(81,161.1667)\" style=\"font-size:10px; fill:rgb(102,102,102); text-rendering:geometricPrecision; image-rendering:optimizeQuality; color-rendering:optimizeQuality; font-family:'Helvetica Neue'; stroke:rgb(102,102,102); color-interpolation:linearRGB;\"\n",
       "    ><text x=\"-16\" xml:space=\"preserve\" y=\"3.5\" style=\"stroke:none;\"\n",
       "      >-80</text\n",
       "    ></g\n",
       "    ><g transform=\"translate(81,133.75)\" style=\"font-size:10px; fill:rgb(102,102,102); text-rendering:geometricPrecision; image-rendering:optimizeQuality; color-rendering:optimizeQuality; font-family:'Helvetica Neue'; stroke:rgb(102,102,102); color-interpolation:linearRGB;\"\n",
       "    ><text x=\"-16\" xml:space=\"preserve\" y=\"3.5\" style=\"stroke:none;\"\n",
       "      >-60</text\n",
       "    ></g\n",
       "    ><g transform=\"translate(81,106.3333)\" style=\"font-size:10px; fill:rgb(102,102,102); text-rendering:geometricPrecision; image-rendering:optimizeQuality; color-rendering:optimizeQuality; font-family:'Helvetica Neue'; stroke:rgb(102,102,102); color-interpolation:linearRGB;\"\n",
       "    ><text x=\"-16\" xml:space=\"preserve\" y=\"3.5\" style=\"stroke:none;\"\n",
       "      >-40</text\n",
       "    ></g\n",
       "    ><g transform=\"translate(81,78.9167)\" style=\"font-size:10px; fill:rgb(102,102,102); text-rendering:geometricPrecision; image-rendering:optimizeQuality; color-rendering:optimizeQuality; font-family:'Helvetica Neue'; stroke:rgb(102,102,102); color-interpolation:linearRGB;\"\n",
       "    ><text x=\"-16\" xml:space=\"preserve\" y=\"3.5\" style=\"stroke:none;\"\n",
       "      >-20</text\n",
       "    ></g\n",
       "    ><g transform=\"translate(81,51.5)\" style=\"font-size:10px; fill:rgb(102,102,102); text-rendering:geometricPrecision; image-rendering:optimizeQuality; color-rendering:optimizeQuality; font-family:'Helvetica Neue'; stroke:rgb(102,102,102); color-interpolation:linearRGB;\"\n",
       "    ><text x=\"-6\" xml:space=\"preserve\" y=\"3.5\" style=\"stroke:none;\"\n",
       "      >0</text\n",
       "    ></g\n",
       "    ><g transform=\"translate(57,133.7499) rotate(-90)\" style=\"font-size:11px; text-rendering:geometricPrecision; color-rendering:optimizeQuality; image-rendering:optimizeQuality; font-family:'Helvetica Neue'; color-interpolation:linearRGB;\"\n",
       "    ><text x=\"-38\" xml:space=\"preserve\" y=\"-3\" style=\"stroke:none;\"\n",
       "      >Magnitude (dB)</text\n",
       "    ></g\n",
       "    ><g style=\"stroke-linecap:butt; fill:rgb(0,114,189); text-rendering:geometricPrecision; image-rendering:optimizeQuality; color-rendering:optimizeQuality; stroke-linejoin:round; stroke:rgb(0,114,189); color-interpolation:linearRGB; stroke-width:0.5;\"\n",
       "    ><path d=\"M85 51.5002 L92.1525 51.5004 L99.3051 51.5008 L106.4576 51.5015 L113.6102 51.5029 L120.7627 51.5054 L127.9153 51.5101 L135.0678 51.5189 L142.2203 51.5352 L149.3729 51.5655 L156.5254 51.6217 L163.678 51.7253 L170.8305 51.914 L177.983 52.251 L185.1356 52.8335 L192.2881 53.7886 L199.4407 55.2433 L206.5932 57.2666 L213.7458 59.8294 L220.8983 62.8221 L228.0509 66.1118 L235.2034 69.5869 L242.3559 73.1704 L249.5085 76.8148 L256.661 80.4929 L263.8136 84.1891 L270.9661 87.8952 L278.1187 91.6066 L285.2712 95.3208 L292.4237 99.0366 L299.5763 102.7532 L306.7288 106.4702 L313.8813 110.1874 L321.0339 113.9048 L328.1864 117.6222 L335.339 121.3397 L342.4915 125.0572 L349.6441 128.7747 L356.7966 132.4922 L363.9492 136.2097 L371.1017 139.9272 L378.2542 143.6447 L385.4068 147.3622 L392.5593 151.0798 L399.7119 154.7973 L406.8644 158.5148 L414.0169 162.2323 L421.1695 165.9498 L428.322 169.6673 L435.4746 173.3849 L442.6271 177.1024 L449.7797 180.8199 L456.9322 184.5374 L464.0847 188.2549 L471.2373 191.9724 L478.3898 195.6899 L485.5424 199.4075 L492.6949 203.125 L499.8474 206.8425 L507 210.56\" style=\"fill:none; fill-rule:evenodd;\"\n",
       "    /></g\n",
       "    ><g style=\"fill:white; text-rendering:optimizeSpeed; color-rendering:optimizeSpeed; image-rendering:optimizeSpeed; shape-rendering:crispEdges; stroke:white; color-interpolation:sRGB;\"\n",
       "    ><path style=\"stroke:none;\" d=\"M85 374 L507 374 L507 228 L85 228 Z\"\n",
       "    /></g\n",
       "    ><g style=\"fill-opacity:0.251; color-rendering:optimizeQuality; color-interpolation:linearRGB; text-rendering:geometricPrecision; stroke:rgb(102,102,102); stroke-linecap:butt; stroke-miterlimit:1; stroke-opacity:0.251; fill:rgb(102,102,102); stroke-dasharray:1,3; stroke-width:0.5; stroke-linejoin:bevel; image-rendering:optimizeQuality;\"\n",
       "    ><line y2=\"228\" style=\"fill:none;\" x1=\"116.7587\" x2=\"116.7587\" y1=\"374\"\n",
       "      /><line y2=\"228\" style=\"fill:none;\" x1=\"135.3363\" x2=\"135.3363\" y1=\"374\"\n",
       "      /><line y2=\"228\" style=\"fill:none;\" x1=\"148.5173\" x2=\"148.5173\" y1=\"374\"\n",
       "      /><line y2=\"228\" style=\"fill:none;\" x1=\"158.7413\" x2=\"158.7413\" y1=\"374\"\n",
       "      /><line y2=\"228\" style=\"fill:none;\" x1=\"167.095\" x2=\"167.095\" y1=\"374\"\n",
       "      /><line y2=\"228\" style=\"fill:none;\" x1=\"174.1578\" x2=\"174.1578\" y1=\"374\"\n",
       "      /><line y2=\"228\" style=\"fill:none;\" x1=\"180.276\" x2=\"180.276\" y1=\"374\"\n",
       "      /><line y2=\"228\" style=\"fill:none;\" x1=\"185.6726\" x2=\"185.6726\" y1=\"374\"\n",
       "      /><line y2=\"228\" style=\"fill:none;\" x1=\"222.2587\" x2=\"222.2587\" y1=\"374\"\n",
       "      /><line y2=\"228\" style=\"fill:none;\" x1=\"240.8363\" x2=\"240.8363\" y1=\"374\"\n",
       "      /><line y2=\"228\" style=\"fill:none;\" x1=\"254.0173\" x2=\"254.0173\" y1=\"374\"\n",
       "      /><line y2=\"228\" style=\"fill:none;\" x1=\"264.2413\" x2=\"264.2413\" y1=\"374\"\n",
       "      /><line y2=\"228\" style=\"fill:none;\" x1=\"272.595\" x2=\"272.595\" y1=\"374\"\n",
       "      /><line y2=\"228\" style=\"fill:none;\" x1=\"279.6578\" x2=\"279.6578\" y1=\"374\"\n",
       "      /><line y2=\"228\" style=\"fill:none;\" x1=\"285.776\" x2=\"285.776\" y1=\"374\"\n",
       "      /><line y2=\"228\" style=\"fill:none;\" x1=\"291.1726\" x2=\"291.1726\" y1=\"374\"\n",
       "      /><line y2=\"228\" style=\"fill:none;\" x1=\"327.7587\" x2=\"327.7587\" y1=\"374\"\n",
       "      /><line y2=\"228\" style=\"fill:none;\" x1=\"346.3363\" x2=\"346.3363\" y1=\"374\"\n",
       "      /><line y2=\"228\" style=\"fill:none;\" x1=\"359.5173\" x2=\"359.5173\" y1=\"374\"\n",
       "      /><line y2=\"228\" style=\"fill:none;\" x1=\"369.7413\" x2=\"369.7413\" y1=\"374\"\n",
       "      /><line y2=\"228\" style=\"fill:none;\" x1=\"378.095\" x2=\"378.095\" y1=\"374\"\n",
       "      /><line y2=\"228\" style=\"fill:none;\" x1=\"385.1578\" x2=\"385.1578\" y1=\"374\"\n",
       "      /><line y2=\"228\" style=\"fill:none;\" x1=\"391.276\" x2=\"391.276\" y1=\"374\"\n",
       "      /><line y2=\"228\" style=\"fill:none;\" x1=\"396.6726\" x2=\"396.6726\" y1=\"374\"\n",
       "      /><line y2=\"228\" style=\"fill:none;\" x1=\"433.2587\" x2=\"433.2587\" y1=\"374\"\n",
       "      /><line y2=\"228\" style=\"fill:none;\" x1=\"451.8363\" x2=\"451.8363\" y1=\"374\"\n",
       "      /><line y2=\"228\" style=\"fill:none;\" x1=\"465.0173\" x2=\"465.0173\" y1=\"374\"\n",
       "      /><line y2=\"228\" style=\"fill:none;\" x1=\"475.2413\" x2=\"475.2413\" y1=\"374\"\n",
       "      /><line y2=\"228\" style=\"fill:none;\" x1=\"483.595\" x2=\"483.595\" y1=\"374\"\n",
       "      /><line y2=\"228\" style=\"fill:none;\" x1=\"490.6578\" x2=\"490.6578\" y1=\"374\"\n",
       "      /><line y2=\"228\" style=\"fill:none;\" x1=\"496.776\" x2=\"496.776\" y1=\"374\"\n",
       "      /><line y2=\"228\" style=\"fill:none;\" x1=\"502.1726\" x2=\"502.1726\" y1=\"374\"\n",
       "    /></g\n",
       "    ><g style=\"stroke-linecap:butt; fill-opacity:0.149; fill:rgb(38,38,38); text-rendering:geometricPrecision; image-rendering:optimizeQuality; color-rendering:optimizeQuality; stroke-linejoin:round; stroke:rgb(38,38,38); color-interpolation:linearRGB; stroke-width:0.5; stroke-opacity:0.149;\"\n",
       "    ><line y2=\"228\" style=\"fill:none;\" x1=\"85\" x2=\"85\" y1=\"374\"\n",
       "      /><line y2=\"228\" style=\"fill:none;\" x1=\"190.5\" x2=\"190.5\" y1=\"374\"\n",
       "      /><line y2=\"228\" style=\"fill:none;\" x1=\"296\" x2=\"296\" y1=\"374\"\n",
       "      /><line y2=\"228\" style=\"fill:none;\" x1=\"401.5\" x2=\"401.5\" y1=\"374\"\n",
       "      /><line y2=\"228\" style=\"fill:none;\" x1=\"507\" x2=\"507\" y1=\"374\"\n",
       "      /><line y2=\"372.5686\" style=\"fill:none;\" x1=\"507\" x2=\"85\" y1=\"372.5686\"\n",
       "      /><line y2=\"336.7843\" style=\"fill:none;\" x1=\"507\" x2=\"85\" y1=\"336.7843\"\n",
       "      /><line y2=\"301\" style=\"fill:none;\" x1=\"507\" x2=\"85\" y1=\"301\"\n",
       "      /><line y2=\"265.2157\" style=\"fill:none;\" x1=\"507\" x2=\"85\" y1=\"265.2157\"\n",
       "      /><line y2=\"229.4314\" style=\"fill:none;\" x1=\"507\" x2=\"85\" y1=\"229.4314\"\n",
       "    /></g\n",
       "    ><g style=\"fill:rgb(102,102,102); text-rendering:geometricPrecision; image-rendering:optimizeQuality; color-rendering:optimizeQuality; stroke-linejoin:round; stroke:rgb(102,102,102); color-interpolation:linearRGB; stroke-width:0.5;\"\n",
       "    ><line y2=\"374\" style=\"fill:none;\" x1=\"85\" x2=\"507\" y1=\"374\"\n",
       "      /><line y2=\"228\" style=\"fill:none;\" x1=\"85\" x2=\"507\" y1=\"228\"\n",
       "      /><line y2=\"369.78\" style=\"fill:none;\" x1=\"85\" x2=\"85\" y1=\"374\"\n",
       "      /><line y2=\"369.78\" style=\"fill:none;\" x1=\"190.5\" x2=\"190.5\" y1=\"374\"\n",
       "      /><line y2=\"369.78\" style=\"fill:none;\" x1=\"296\" x2=\"296\" y1=\"374\"\n",
       "      /><line y2=\"369.78\" style=\"fill:none;\" x1=\"401.5\" x2=\"401.5\" y1=\"374\"\n",
       "      /><line y2=\"369.78\" style=\"fill:none;\" x1=\"507\" x2=\"507\" y1=\"374\"\n",
       "      /><line y2=\"232.22\" style=\"fill:none;\" x1=\"85\" x2=\"85\" y1=\"228\"\n",
       "      /><line y2=\"232.22\" style=\"fill:none;\" x1=\"190.5\" x2=\"190.5\" y1=\"228\"\n",
       "      /><line y2=\"232.22\" style=\"fill:none;\" x1=\"296\" x2=\"296\" y1=\"228\"\n",
       "      /><line y2=\"232.22\" style=\"fill:none;\" x1=\"401.5\" x2=\"401.5\" y1=\"228\"\n",
       "      /><line y2=\"232.22\" style=\"fill:none;\" x1=\"507\" x2=\"507\" y1=\"228\"\n",
       "      /><line y2=\"371.89\" style=\"fill:none;\" x1=\"85\" x2=\"85\" y1=\"374\"\n",
       "      /><line y2=\"371.89\" style=\"fill:none;\" x1=\"116.7587\" x2=\"116.7587\" y1=\"374\"\n",
       "      /><line y2=\"371.89\" style=\"fill:none;\" x1=\"135.3363\" x2=\"135.3363\" y1=\"374\"\n",
       "      /><line y2=\"371.89\" style=\"fill:none;\" x1=\"148.5173\" x2=\"148.5173\" y1=\"374\"\n",
       "      /><line y2=\"371.89\" style=\"fill:none;\" x1=\"158.7413\" x2=\"158.7413\" y1=\"374\"\n",
       "      /><line y2=\"371.89\" style=\"fill:none;\" x1=\"167.095\" x2=\"167.095\" y1=\"374\"\n",
       "      /><line y2=\"371.89\" style=\"fill:none;\" x1=\"174.1578\" x2=\"174.1578\" y1=\"374\"\n",
       "      /><line y2=\"371.89\" style=\"fill:none;\" x1=\"180.276\" x2=\"180.276\" y1=\"374\"\n",
       "      /><line y2=\"371.89\" style=\"fill:none;\" x1=\"185.6726\" x2=\"185.6726\" y1=\"374\"\n",
       "      /><line y2=\"371.89\" style=\"fill:none;\" x1=\"190.5\" x2=\"190.5\" y1=\"374\"\n",
       "      /><line y2=\"371.89\" style=\"fill:none;\" x1=\"222.2587\" x2=\"222.2587\" y1=\"374\"\n",
       "      /><line y2=\"371.89\" style=\"fill:none;\" x1=\"240.8363\" x2=\"240.8363\" y1=\"374\"\n",
       "      /><line y2=\"371.89\" style=\"fill:none;\" x1=\"254.0173\" x2=\"254.0173\" y1=\"374\"\n",
       "      /><line y2=\"371.89\" style=\"fill:none;\" x1=\"264.2413\" x2=\"264.2413\" y1=\"374\"\n",
       "      /><line y2=\"371.89\" style=\"fill:none;\" x1=\"272.595\" x2=\"272.595\" y1=\"374\"\n",
       "      /><line y2=\"371.89\" style=\"fill:none;\" x1=\"279.6578\" x2=\"279.6578\" y1=\"374\"\n",
       "      /><line y2=\"371.89\" style=\"fill:none;\" x1=\"285.776\" x2=\"285.776\" y1=\"374\"\n",
       "      /><line y2=\"371.89\" style=\"fill:none;\" x1=\"291.1726\" x2=\"291.1726\" y1=\"374\"\n",
       "      /><line y2=\"371.89\" style=\"fill:none;\" x1=\"296\" x2=\"296\" y1=\"374\"\n",
       "      /><line y2=\"371.89\" style=\"fill:none;\" x1=\"327.7587\" x2=\"327.7587\" y1=\"374\"\n",
       "      /><line y2=\"371.89\" style=\"fill:none;\" x1=\"346.3363\" x2=\"346.3363\" y1=\"374\"\n",
       "      /><line y2=\"371.89\" style=\"fill:none;\" x1=\"359.5173\" x2=\"359.5173\" y1=\"374\"\n",
       "      /><line y2=\"371.89\" style=\"fill:none;\" x1=\"369.7413\" x2=\"369.7413\" y1=\"374\"\n",
       "      /><line y2=\"371.89\" style=\"fill:none;\" x1=\"378.095\" x2=\"378.095\" y1=\"374\"\n",
       "      /><line y2=\"371.89\" style=\"fill:none;\" x1=\"385.1578\" x2=\"385.1578\" y1=\"374\"\n",
       "      /><line y2=\"371.89\" style=\"fill:none;\" x1=\"391.276\" x2=\"391.276\" y1=\"374\"\n",
       "      /><line y2=\"371.89\" style=\"fill:none;\" x1=\"396.6726\" x2=\"396.6726\" y1=\"374\"\n",
       "      /><line y2=\"371.89\" style=\"fill:none;\" x1=\"401.5\" x2=\"401.5\" y1=\"374\"\n",
       "      /><line y2=\"371.89\" style=\"fill:none;\" x1=\"433.2587\" x2=\"433.2587\" y1=\"374\"\n",
       "      /><line y2=\"371.89\" style=\"fill:none;\" x1=\"451.8363\" x2=\"451.8363\" y1=\"374\"\n",
       "      /><line y2=\"371.89\" style=\"fill:none;\" x1=\"465.0173\" x2=\"465.0173\" y1=\"374\"\n",
       "      /><line y2=\"371.89\" style=\"fill:none;\" x1=\"475.2413\" x2=\"475.2413\" y1=\"374\"\n",
       "      /><line y2=\"371.89\" style=\"fill:none;\" x1=\"483.595\" x2=\"483.595\" y1=\"374\"\n",
       "      /><line y2=\"371.89\" style=\"fill:none;\" x1=\"490.6578\" x2=\"490.6578\" y1=\"374\"\n",
       "      /><line y2=\"371.89\" style=\"fill:none;\" x1=\"496.776\" x2=\"496.776\" y1=\"374\"\n",
       "      /><line y2=\"371.89\" style=\"fill:none;\" x1=\"502.1726\" x2=\"502.1726\" y1=\"374\"\n",
       "      /><line y2=\"371.89\" style=\"fill:none;\" x1=\"507\" x2=\"507\" y1=\"374\"\n",
       "      /><line y2=\"230.11\" style=\"fill:none;\" x1=\"85\" x2=\"85\" y1=\"228\"\n",
       "      /><line y2=\"230.11\" style=\"fill:none;\" x1=\"116.7587\" x2=\"116.7587\" y1=\"228\"\n",
       "      /><line y2=\"230.11\" style=\"fill:none;\" x1=\"135.3363\" x2=\"135.3363\" y1=\"228\"\n",
       "      /><line y2=\"230.11\" style=\"fill:none;\" x1=\"148.5173\" x2=\"148.5173\" y1=\"228\"\n",
       "      /><line y2=\"230.11\" style=\"fill:none;\" x1=\"158.7413\" x2=\"158.7413\" y1=\"228\"\n",
       "      /><line y2=\"230.11\" style=\"fill:none;\" x1=\"167.095\" x2=\"167.095\" y1=\"228\"\n",
       "      /><line y2=\"230.11\" style=\"fill:none;\" x1=\"174.1578\" x2=\"174.1578\" y1=\"228\"\n",
       "      /><line y2=\"230.11\" style=\"fill:none;\" x1=\"180.276\" x2=\"180.276\" y1=\"228\"\n",
       "      /><line y2=\"230.11\" style=\"fill:none;\" x1=\"185.6726\" x2=\"185.6726\" y1=\"228\"\n",
       "      /><line y2=\"230.11\" style=\"fill:none;\" x1=\"190.5\" x2=\"190.5\" y1=\"228\"\n",
       "      /><line y2=\"230.11\" style=\"fill:none;\" x1=\"222.2587\" x2=\"222.2587\" y1=\"228\"\n",
       "      /><line y2=\"230.11\" style=\"fill:none;\" x1=\"240.8363\" x2=\"240.8363\" y1=\"228\"\n",
       "      /><line y2=\"230.11\" style=\"fill:none;\" x1=\"254.0173\" x2=\"254.0173\" y1=\"228\"\n",
       "      /><line y2=\"230.11\" style=\"fill:none;\" x1=\"264.2413\" x2=\"264.2413\" y1=\"228\"\n",
       "      /><line y2=\"230.11\" style=\"fill:none;\" x1=\"272.595\" x2=\"272.595\" y1=\"228\"\n",
       "      /><line y2=\"230.11\" style=\"fill:none;\" x1=\"279.6578\" x2=\"279.6578\" y1=\"228\"\n",
       "      /><line y2=\"230.11\" style=\"fill:none;\" x1=\"285.776\" x2=\"285.776\" y1=\"228\"\n",
       "      /><line y2=\"230.11\" style=\"fill:none;\" x1=\"291.1726\" x2=\"291.1726\" y1=\"228\"\n",
       "      /><line y2=\"230.11\" style=\"fill:none;\" x1=\"296\" x2=\"296\" y1=\"228\"\n",
       "      /><line y2=\"230.11\" style=\"fill:none;\" x1=\"327.7587\" x2=\"327.7587\" y1=\"228\"\n",
       "      /><line y2=\"230.11\" style=\"fill:none;\" x1=\"346.3363\" x2=\"346.3363\" y1=\"228\"\n",
       "      /><line y2=\"230.11\" style=\"fill:none;\" x1=\"359.5173\" x2=\"359.5173\" y1=\"228\"\n",
       "      /><line y2=\"230.11\" style=\"fill:none;\" x1=\"369.7413\" x2=\"369.7413\" y1=\"228\"\n",
       "      /><line y2=\"230.11\" style=\"fill:none;\" x1=\"378.095\" x2=\"378.095\" y1=\"228\"\n",
       "      /><line y2=\"230.11\" style=\"fill:none;\" x1=\"385.1578\" x2=\"385.1578\" y1=\"228\"\n",
       "      /><line y2=\"230.11\" style=\"fill:none;\" x1=\"391.276\" x2=\"391.276\" y1=\"228\"\n",
       "      /><line y2=\"230.11\" style=\"fill:none;\" x1=\"396.6726\" x2=\"396.6726\" y1=\"228\"\n",
       "      /><line y2=\"230.11\" style=\"fill:none;\" x1=\"401.5\" x2=\"401.5\" y1=\"228\"\n",
       "      /><line y2=\"230.11\" style=\"fill:none;\" x1=\"433.2587\" x2=\"433.2587\" y1=\"228\"\n",
       "      /><line y2=\"230.11\" style=\"fill:none;\" x1=\"451.8363\" x2=\"451.8363\" y1=\"228\"\n",
       "      /><line y2=\"230.11\" style=\"fill:none;\" x1=\"465.0173\" x2=\"465.0173\" y1=\"228\"\n",
       "      /><line y2=\"230.11\" style=\"fill:none;\" x1=\"475.2413\" x2=\"475.2413\" y1=\"228\"\n",
       "      /><line y2=\"230.11\" style=\"fill:none;\" x1=\"483.595\" x2=\"483.595\" y1=\"228\"\n",
       "      /><line y2=\"230.11\" style=\"fill:none;\" x1=\"490.6578\" x2=\"490.6578\" y1=\"228\"\n",
       "      /><line y2=\"230.11\" style=\"fill:none;\" x1=\"496.776\" x2=\"496.776\" y1=\"228\"\n",
       "      /><line y2=\"230.11\" style=\"fill:none;\" x1=\"502.1726\" x2=\"502.1726\" y1=\"228\"\n",
       "      /><line y2=\"230.11\" style=\"fill:none;\" x1=\"507\" x2=\"507\" y1=\"228\"\n",
       "    /></g\n",
       "    ><g transform=\"translate(76,391)\" style=\"font-size:10px; fill:rgb(102,102,102); text-rendering:geometricPrecision; image-rendering:optimizeQuality; color-rendering:optimizeQuality; font-family:'Helvetica Neue'; stroke:rgb(102,102,102); color-interpolation:linearRGB;\"\n",
       "    ><text x=\"0\" xml:space=\"preserve\" y=\"0\" style=\"stroke:none;\"\n",
       "      >10</text\n",
       "    ></g\n",
       "    ><g transform=\"translate(88,386)\" style=\"font-size:8px; fill:rgb(102,102,102); text-rendering:geometricPrecision; image-rendering:optimizeQuality; color-rendering:optimizeQuality; font-family:'Helvetica Neue'; stroke:rgb(102,102,102); color-interpolation:linearRGB;\"\n",
       "    ><text x=\"0\" xml:space=\"preserve\" y=\"0\" style=\"stroke:none;\"\n",
       "      >4</text\n",
       "    ></g\n",
       "    ><g transform=\"translate(182,391)\" style=\"font-size:10px; fill:rgb(102,102,102); text-rendering:geometricPrecision; image-rendering:optimizeQuality; color-rendering:optimizeQuality; font-family:'Helvetica Neue'; stroke:rgb(102,102,102); color-interpolation:linearRGB;\"\n",
       "    ><text x=\"0\" xml:space=\"preserve\" y=\"0\" style=\"stroke:none;\"\n",
       "      >10</text\n",
       "    ></g\n",
       "    ><g transform=\"translate(194,386)\" style=\"font-size:8px; fill:rgb(102,102,102); text-rendering:geometricPrecision; image-rendering:optimizeQuality; color-rendering:optimizeQuality; font-family:'Helvetica Neue'; stroke:rgb(102,102,102); color-interpolation:linearRGB;\"\n",
       "    ><text x=\"0\" xml:space=\"preserve\" y=\"0\" style=\"stroke:none;\"\n",
       "      >5</text\n",
       "    ></g\n",
       "    ><g transform=\"translate(287,391)\" style=\"font-size:10px; fill:rgb(102,102,102); text-rendering:geometricPrecision; image-rendering:optimizeQuality; color-rendering:optimizeQuality; font-family:'Helvetica Neue'; stroke:rgb(102,102,102); color-interpolation:linearRGB;\"\n",
       "    ><text x=\"0\" xml:space=\"preserve\" y=\"0\" style=\"stroke:none;\"\n",
       "      >10</text\n",
       "    ></g\n",
       "    ><g transform=\"translate(299,386)\" style=\"font-size:8px; fill:rgb(102,102,102); text-rendering:geometricPrecision; image-rendering:optimizeQuality; color-rendering:optimizeQuality; font-family:'Helvetica Neue'; stroke:rgb(102,102,102); color-interpolation:linearRGB;\"\n",
       "    ><text x=\"0\" xml:space=\"preserve\" y=\"0\" style=\"stroke:none;\"\n",
       "      >6</text\n",
       "    ></g\n",
       "    ><g transform=\"translate(393,391)\" style=\"font-size:10px; fill:rgb(102,102,102); text-rendering:geometricPrecision; image-rendering:optimizeQuality; color-rendering:optimizeQuality; font-family:'Helvetica Neue'; stroke:rgb(102,102,102); color-interpolation:linearRGB;\"\n",
       "    ><text x=\"0\" xml:space=\"preserve\" y=\"0\" style=\"stroke:none;\"\n",
       "      >10</text\n",
       "    ></g\n",
       "    ><g transform=\"translate(405,386)\" style=\"font-size:8px; fill:rgb(102,102,102); text-rendering:geometricPrecision; image-rendering:optimizeQuality; color-rendering:optimizeQuality; font-family:'Helvetica Neue'; stroke:rgb(102,102,102); color-interpolation:linearRGB;\"\n",
       "    ><text x=\"0\" xml:space=\"preserve\" y=\"0\" style=\"stroke:none;\"\n",
       "      >7</text\n",
       "    ></g\n",
       "    ><g transform=\"translate(498,391)\" style=\"font-size:10px; fill:rgb(102,102,102); text-rendering:geometricPrecision; image-rendering:optimizeQuality; color-rendering:optimizeQuality; font-family:'Helvetica Neue'; stroke:rgb(102,102,102); color-interpolation:linearRGB;\"\n",
       "    ><text x=\"0\" xml:space=\"preserve\" y=\"0\" style=\"stroke:none;\"\n",
       "      >10</text\n",
       "    ></g\n",
       "    ><g transform=\"translate(510,386)\" style=\"font-size:8px; fill:rgb(102,102,102); text-rendering:geometricPrecision; image-rendering:optimizeQuality; color-rendering:optimizeQuality; font-family:'Helvetica Neue'; stroke:rgb(102,102,102); color-interpolation:linearRGB;\"\n",
       "    ><text x=\"0\" xml:space=\"preserve\" y=\"0\" style=\"stroke:none;\"\n",
       "      >8</text\n",
       "    ></g\n",
       "    ><g style=\"fill:rgb(102,102,102); text-rendering:geometricPrecision; image-rendering:optimizeQuality; color-rendering:optimizeQuality; stroke-linejoin:round; stroke:rgb(102,102,102); color-interpolation:linearRGB; stroke-width:0.5;\"\n",
       "    ><line y2=\"228\" style=\"fill:none;\" x1=\"85\" x2=\"85\" y1=\"374\"\n",
       "      /><line y2=\"228\" style=\"fill:none;\" x1=\"507\" x2=\"507\" y1=\"374\"\n",
       "      /><line y2=\"372.5686\" style=\"fill:none;\" x1=\"85\" x2=\"89.22\" y1=\"372.5686\"\n",
       "      /><line y2=\"336.7843\" style=\"fill:none;\" x1=\"85\" x2=\"89.22\" y1=\"336.7843\"\n",
       "      /><line y2=\"301\" style=\"fill:none;\" x1=\"85\" x2=\"89.22\" y1=\"301\"\n",
       "      /><line y2=\"265.2157\" style=\"fill:none;\" x1=\"85\" x2=\"89.22\" y1=\"265.2157\"\n",
       "      /><line y2=\"229.4314\" style=\"fill:none;\" x1=\"85\" x2=\"89.22\" y1=\"229.4314\"\n",
       "      /><line y2=\"372.5686\" style=\"fill:none;\" x1=\"507\" x2=\"502.78\" y1=\"372.5686\"\n",
       "      /><line y2=\"336.7843\" style=\"fill:none;\" x1=\"507\" x2=\"502.78\" y1=\"336.7843\"\n",
       "      /><line y2=\"301\" style=\"fill:none;\" x1=\"507\" x2=\"502.78\" y1=\"301\"\n",
       "      /><line y2=\"265.2157\" style=\"fill:none;\" x1=\"507\" x2=\"502.78\" y1=\"265.2157\"\n",
       "      /><line y2=\"229.4314\" style=\"fill:none;\" x1=\"507\" x2=\"502.78\" y1=\"229.4314\"\n",
       "    /></g\n",
       "    ><g transform=\"translate(81,372.5686)\" style=\"font-size:10px; fill:rgb(102,102,102); text-rendering:geometricPrecision; image-rendering:optimizeQuality; color-rendering:optimizeQuality; font-family:'Helvetica Neue'; stroke:rgb(102,102,102); color-interpolation:linearRGB;\"\n",
       "    ><text x=\"-21\" xml:space=\"preserve\" y=\"3.5\" style=\"stroke:none;\"\n",
       "      >-180</text\n",
       "    ></g\n",
       "    ><g transform=\"translate(81,336.7843)\" style=\"font-size:10px; fill:rgb(102,102,102); text-rendering:geometricPrecision; image-rendering:optimizeQuality; color-rendering:optimizeQuality; font-family:'Helvetica Neue'; stroke:rgb(102,102,102); color-interpolation:linearRGB;\"\n",
       "    ><text x=\"-21\" xml:space=\"preserve\" y=\"3.5\" style=\"stroke:none;\"\n",
       "      >-135</text\n",
       "    ></g\n",
       "    ><g transform=\"translate(81,301)\" style=\"font-size:10px; fill:rgb(102,102,102); text-rendering:geometricPrecision; image-rendering:optimizeQuality; color-rendering:optimizeQuality; font-family:'Helvetica Neue'; stroke:rgb(102,102,102); color-interpolation:linearRGB;\"\n",
       "    ><text x=\"-16\" xml:space=\"preserve\" y=\"3.5\" style=\"stroke:none;\"\n",
       "      >-90</text\n",
       "    ></g\n",
       "    ><g transform=\"translate(81,265.2157)\" style=\"font-size:10px; fill:rgb(102,102,102); text-rendering:geometricPrecision; image-rendering:optimizeQuality; color-rendering:optimizeQuality; font-family:'Helvetica Neue'; stroke:rgb(102,102,102); color-interpolation:linearRGB;\"\n",
       "    ><text x=\"-16\" xml:space=\"preserve\" y=\"3.5\" style=\"stroke:none;\"\n",
       "      >-45</text\n",
       "    ></g\n",
       "    ><g transform=\"translate(81,229.4314)\" style=\"font-size:10px; fill:rgb(102,102,102); text-rendering:geometricPrecision; image-rendering:optimizeQuality; color-rendering:optimizeQuality; font-family:'Helvetica Neue'; stroke:rgb(102,102,102); color-interpolation:linearRGB;\"\n",
       "    ><text x=\"-6\" xml:space=\"preserve\" y=\"3.5\" style=\"stroke:none;\"\n",
       "      >0</text\n",
       "    ></g\n",
       "    ><g transform=\"translate(57,300.9999) rotate(-90)\" style=\"font-size:11px; text-rendering:geometricPrecision; color-rendering:optimizeQuality; image-rendering:optimizeQuality; font-family:'Helvetica Neue'; color-interpolation:linearRGB;\"\n",
       "    ><text x=\"-29.5\" xml:space=\"preserve\" y=\"-3\" style=\"stroke:none;\"\n",
       "      >Phase (deg)</text\n",
       "    ></g\n",
       "    ><g style=\"stroke-linecap:butt; fill:rgb(0,114,189); text-rendering:geometricPrecision; image-rendering:optimizeQuality; color-rendering:optimizeQuality; stroke-linejoin:round; stroke:rgb(0,114,189); color-interpolation:linearRGB; stroke-width:0.5;\"\n",
       "    ><path d=\"M85 234.5697 L92.1525 235.4424 L99.3051 236.4653 L106.4576 237.6653 L113.6102 239.0749 L120.7627 240.7334 L127.9153 242.689 L135.0678 245.0011 L142.2203 247.7442 L149.3729 251.0113 L156.5254 254.9188 L163.678 259.609 L170.8305 265.2451 L177.983 271.9875 L185.1356 279.9329 L192.2881 289.0071 L199.4407 298.8552 L206.5932 308.8539 L213.7458 318.3198 L220.8983 326.7704 L228.0509 334.0214 L235.2034 340.1117 L242.3559 345.1848 L249.5085 349.4074 L256.661 352.9321 L263.8136 355.8861 L270.9661 358.372 L278.1187 360.4717 L285.2712 362.2505 L292.4237 363.761 L299.5763 365.0461 L306.7288 366.141 L313.8813 367.0748 L321.0339 367.8718 L328.1864 368.5526 L335.339 369.1342 L342.4915 369.6313 L349.6441 370.0563 L356.7966 370.4197 L363.9492 370.7305 L371.1017 370.9963 L378.2542 371.2236 L385.4068 371.4181 L392.5593 371.5844 L399.7119 371.7267 L406.8644 371.8484 L414.0169 371.9525 L421.1695 372.0415 L428.322 372.1177 L435.4746 372.1829 L442.6271 372.2386 L449.7797 372.2863 L456.9322 372.3271 L464.0847 372.362 L471.2373 372.3919 L478.3898 372.4174 L485.5424 372.4393 L492.6949 372.458 L499.8474 372.474 L507 372.4877\" style=\"fill:none; fill-rule:evenodd;\"\n",
       "    /></g\n",
       "    ><g transform=\"translate(295,44.45)\" style=\"font-size:11px; text-rendering:geometricPrecision; image-rendering:optimizeQuality; color-rendering:optimizeQuality; font-family:'Helvetica Neue'; color-interpolation:linearRGB; font-weight:bold;\"\n",
       "    ><text x=\"-38\" xml:space=\"preserve\" y=\"-3\" style=\"stroke:none;\"\n",
       "      >Bode Diagram</text\n",
       "    ></g\n",
       "    ><g transform=\"translate(295,392.5)\" style=\"font-size:11px; text-rendering:geometricPrecision; color-rendering:optimizeQuality; image-rendering:optimizeQuality; font-family:'Helvetica Neue'; color-interpolation:linearRGB;\"\n",
       "    ><text x=\"-45\" xml:space=\"preserve\" y=\"11\" style=\"stroke:none;\"\n",
       "      >Frequency  (rad/s)</text\n",
       "    ></g\n",
       "  ></g\n",
       "></svg\n",
       ">\n"
      ]
     },
     "metadata": {
      "filenames": {
       "image/svg+xml": "/Users/cpjobling/code/src/github.com/cpjobling/eg-247-textbook/_build/jupyter_execute/dt_systems/4/dt_models_92_0.svg"
      }
     },
     "output_type": "display_data"
    }
   ],
   "source": [
    "bode(Hs,{1e4,1e8})\n",
    "grid"
   ]
  },
  {
   "cell_type": "markdown",
   "id": "6735fb65",
   "metadata": {
    "slideshow": {
     "slide_type": "subslide"
    }
   },
   "source": [
    "#### Sampling Frequency\n",
    "\n",
    "From the bode diagram, the frequency at which $|H(j\\omega)|$ is $-80$&nbsp;dB is approx $12.6\\times 10^6$&nbsp;rad/s.\n",
    "\n",
    "To avoid aliasing, we should choose a sampling frequency twice this = ?"
   ]
  },
  {
   "cell_type": "markdown",
   "id": "6494b7f4",
   "metadata": {
    "slideshow": {
     "slide_type": "fragment"
    }
   },
   "source": [
    "$\\omega_s = 2\\times 12.6\\times 10^6$&nbsp;rad/s."
   ]
  },
  {
   "cell_type": "code",
   "execution_count": 18,
   "id": "ff964cb4",
   "metadata": {
    "slideshow": {
     "slide_type": "fragment"
    }
   },
   "outputs": [
    {
     "name": "stdout",
     "output_type": "stream",
     "text": [
      "ws =\n",
      "    25200000\n"
     ]
    }
   ],
   "source": [
    "ws = 2* 12.6e6"
   ]
  },
  {
   "cell_type": "markdown",
   "id": "58a3986e",
   "metadata": {
    "slideshow": {
     "slide_type": "subslide"
    }
   },
   "source": [
    "So\n",
    "\n",
    "$\\omega_s = 25.2\\times 10^6$&nbsp;rad/s."
   ]
  },
  {
   "cell_type": "markdown",
   "id": "885af508",
   "metadata": {
    "slideshow": {
     "slide_type": "fragment"
    }
   },
   "source": [
    "Sampling frequency ($f_s$) in Hz  = ?"
   ]
  },
  {
   "cell_type": "markdown",
   "id": "e8ecaf66",
   "metadata": {
    "slideshow": {
     "slide_type": "fragment"
    }
   },
   "source": [
    "$$f_s = \\omega_s/(2\\pi)\\;\\mathrm{Mhz}$$"
   ]
  },
  {
   "cell_type": "code",
   "execution_count": 19,
   "id": "9bae477d",
   "metadata": {
    "slideshow": {
     "slide_type": "fragment"
    }
   },
   "outputs": [
    {
     "name": "stdout",
     "output_type": "stream",
     "text": [
      "fs =\n",
      "   4.0107e+06\n"
     ]
    }
   ],
   "source": [
    "fs = ws/(2*pi)"
   ]
  },
  {
   "cell_type": "markdown",
   "id": "20a05014",
   "metadata": {
    "slideshow": {
     "slide_type": "subslide"
    }
   },
   "source": [
    "$$f_s = 40.11\\;\\mathrm{Mhz}$$\n",
    "\n",
    "Sampling time $T_s = ?$"
   ]
  },
  {
   "cell_type": "markdown",
   "id": "b97c55b0",
   "metadata": {
    "slideshow": {
     "slide_type": "fragment"
    }
   },
   "source": [
    "$T_s = 1/fs\\;\\mathrm{s}$"
   ]
  },
  {
   "cell_type": "code",
   "execution_count": 20,
   "id": "099e53b1",
   "metadata": {
    "slideshow": {
     "slide_type": "fragment"
    }
   },
   "outputs": [
    {
     "name": "stdout",
     "output_type": "stream",
     "text": [
      "Ts =\n",
      "   2.4933e-07\n"
     ]
    }
   ],
   "source": [
    "Ts = 1/fs"
   ]
  },
  {
   "cell_type": "markdown",
   "id": "39f220ac",
   "metadata": {
    "slideshow": {
     "slide_type": "subslide"
    }
   },
   "source": [
    "$$T_s = 1/f_s \\approx 0.25\\;\\mu\\mathrm{s}$$"
   ]
  },
  {
   "cell_type": "markdown",
   "id": "efa948e9",
   "metadata": {
    "slideshow": {
     "slide_type": "subslide"
    }
   },
   "source": [
    "#### Digital Butterworth\n",
    "\n",
    "zero-order-hold equivalent"
   ]
  },
  {
   "cell_type": "code",
   "execution_count": 21,
   "id": "279864d9",
   "metadata": {},
   "outputs": [
    {
     "name": "stdout",
     "output_type": "stream",
     "text": [
      "\n",
      "Hz =\n"
     ]
    },
    {
     "name": "stdout",
     "output_type": "stream",
     "text": [
      " \n"
     ]
    },
    {
     "name": "stdout",
     "output_type": "stream",
     "text": [
      "  0.0004836 z + 0.0004765\n"
     ]
    },
    {
     "name": "stdout",
     "output_type": "stream",
     "text": [
      "  -----------------------\n"
     ]
    },
    {
     "name": "stdout",
     "output_type": "stream",
     "text": [
      "  z^2 - 1.956 z + 0.9567\n"
     ]
    },
    {
     "name": "stdout",
     "output_type": "stream",
     "text": [
      " \n"
     ]
    },
    {
     "name": "stdout",
     "output_type": "stream",
     "text": [
      "Sample time: 2.4933e-07 seconds\n"
     ]
    },
    {
     "name": "stdout",
     "output_type": "stream",
     "text": [
      "Discrete-time transfer function.\n",
      "\n"
     ]
    }
   ],
   "source": [
    "Hz = c2d(Hs, Ts)"
   ]
  },
  {
   "cell_type": "markdown",
   "id": "0ef6d925",
   "metadata": {
    "slideshow": {
     "slide_type": "subslide"
    }
   },
   "source": [
    "#### Step response"
   ]
  },
  {
   "cell_type": "code",
   "execution_count": 22,
   "id": "6dbe0380",
   "metadata": {},
   "outputs": [
    {
     "data": {
      "image/svg+xml": [
       "<?xml version=\"1.0\"?>\n",
       "<!DOCTYPE svg PUBLIC '-//W3C//DTD SVG 1.0//EN'\n",
       "          'http://www.w3.org/TR/2001/REC-SVG-20010904/DTD/svg10.dtd'>\n",
       "<svg xmlns:xlink=\"http://www.w3.org/1999/xlink\" style=\"fill-opacity:1; color-rendering:auto; color-interpolation:auto; text-rendering:auto; stroke:black; stroke-linecap:square; stroke-miterlimit:10; shape-rendering:auto; stroke-opacity:1; fill:black; stroke-dasharray:none; font-weight:normal; stroke-width:1; font-family:'Dialog'; font-style:normal; stroke-linejoin:miter; font-size:12px; stroke-dashoffset:0; image-rendering:auto;\" width=\"560\" height=\"420\" xmlns=\"http://www.w3.org/2000/svg\"\n",
       "><!--Generated by the Batik Graphics2D SVG Generator--><defs id=\"genericDefs\"\n",
       "  /><g\n",
       "  ><defs id=\"defs1\"\n",
       "    ><clipPath clipPathUnits=\"userSpaceOnUse\" id=\"clipPath1\"\n",
       "      ><path d=\"M0 0 L560 0 L560 420 L0 420 L0 0 Z\"\n",
       "      /></clipPath\n",
       "      ><clipPath clipPathUnits=\"userSpaceOnUse\" id=\"clipPath2\"\n",
       "      ><path d=\"M0 0 L1119.9999 0 L1119.9999 839.9999 L0 839.9999 L0 0 Z\"\n",
       "      /></clipPath\n",
       "    ></defs\n",
       "    ><g style=\"fill:white; stroke:white;\"\n",
       "    ><rect x=\"0\" y=\"0\" width=\"560\" style=\"clip-path:url(#clipPath1); stroke:none;\" height=\"420\"\n",
       "    /></g\n",
       "    ><g transform=\"scale(0.5,0.5)\"\n",
       "    ><image x=\"0\" y=\"0\" width=\"1120\" xlink:href=\"data:image/png;base64,iVBORw0KGgoAAAANSUhEUgAABGAAAANICAIAAAAHNA4rAABR5ElEQVR42uzdD3zV\n",
       "db348ZEp/im7WQ8ztPTWvV0zb6VW1x637oNudW+3LK2u9aA/Wr+6bAyYOh0JiQyB\n",
       "BxNQLwoXGCAqhWKSxq7AggXMIQwaYeDGBg6koBFjOi4TZW7+PvKNr6ezv+AG287z\n",
       "+TgPH9t35+D8uPfx8/J79j1prwEAAHBEmiUAAAAQSAAAAAIJAABAIAEAAAgkAAAA\n",
       "gQQAACCQAAAABBIAAIBAAgAAEEgAAAACCQAAQCABAAAIJAAAAIEEAAAgkAAAAAQS\n",
       "AACAQAIAABBIAAAAAgkAAEAgAQAACCQAAACBBAAAIJAAAAAEEgAAgEACAAAQSAAA\n",
       "AAIJAABAIAEAAAgkAAAAgQQAACCQAAAABBIAAIBAAgAAEEgAAAACCQAAQCABAAAI\n",
       "JAAAAAQSAACAQAIAABBIAAAAAgkAAEAgAQAACCQAAACBBAAAIJAAAAAEEgAAgEAC\n",
       "AAAQSAAAAAIJAABAIAEAAAgkAAAAgQQAACCQAAAABBIAAIBAAgAAEEgAAAACCQAA\n",
       "QCABAAAIJAAAAIEEAAAgkAAAAAQSAACAQAIAABBIAAAAAgkAAEAgAQAACCQA+oxX\n",
       "XnmlvLz8f//3f5csWbJly5aGhgZrAoBAAiDl1NfX5+bmvutd70pLcOaZZ2ZmZlZX\n",
       "V8d3a25ubjjqRH57Q4YMOaMN559//pe+9KXHH3/cv0QABBIAXSDUzqc//em0Npx3\n",
       "3nk7duyI7rl79+74+MqVK0/Yd/ijH/0orSPZ2dn+VQIgkAB4s7KysuLMeO973zto\n",
       "0KBrrrnmHe94R3zw8ssvbxlIhYWFJyuQTjvirW99a1IjrVq1yr9NAAQSAG/KP/zD\n",
       "P0SB8ZGPfOTgwYPRwQMHDlxxxRVxe+zbt6+HBNKePXuig6+++uqaNWv+/d//Pf7S\n",
       "zTff7N8mAAIJgOPX0NAQB8Z3vvOdxC899NBDpx61cuXK9PT0q6++Or7zwIEDr7vu\n",
       "uoULF8b337RpU2Zm5pVXXvme97znC1/4wujRo3fu3Bl/ddiwYdcd8eyzz06fPv2L\n",
       "X/zieeed98///M+hahLv1vlAipSUlMRfuuaaaxK/1P73E6xevfoHP/jBpZdeeu65\n",
       "577vfe8L9xw/fvzevXuP73sOR2688cbPfe5z4T7/+I//+N3vfveRRx5Juk/8B5aX\n",
       "l//yl78M3/CAAQPe//73f+Mb39i8efMxfW+d/GcEQCABcGwuuOCCKDD69euXkZHx\n",
       "9NNPNzU1tbxb+GrL3/y54YYboq/m5eWddtppSV8Nm/u1a9dGd4hfs3fZZZe1vFv4\n",
       "mx5fIK1fvz7+0pgxY+LjHX4/c+fOfctb3tLyn+iiiy6Kf+eq899z+NPe9ra3tfzT\n",
       "vvKVr+zfvz++W/wHXnXVVUnrecYZZ5SVlXX+e+vMPyMAAgmAYxaiKGmTfc4553z9\n",
       "61+fNm3ac889F9/tP/7jPz73uc/F9/nEJz7xpS99aebMmeFLjz32WHz8/e9//+WX\n",
       "Xx5/etZZZ/35z39ObIMg7P4//vGP//3f/3185Pzzz3/llVeONZCef/75b3/72/GX\n",
       "ioqKouMdfj/Nzc3vfOc7oyNXXnnl5MmTBw8eHL4UHbn++uuTeqb97/m3v/3tKaec\n",
       "Eh08/fTTwx8YvhTfLf7Tkv7A4O1vf3vip4MGDXrtyKUCO/O9dWbNARBIAByzl156\n",
       "6TOf+Uyrl4YLVfCf//mf8Su7Wv0dpEOHDg0YMCA6OHTo0Ojs0/bt2+Nd/ujRoxPb\n",
       "4LTTTlu+fHn02Lvuuiv+A2fNmtWZQLrooov+7ogLL7ww8Vv92te+9uqrr3by+3n2\n",
       "2WfjB8avEpw4ceLbj/jwhz+c1DPtf88hY+JQic/w3HDDDfHdWp5GO/PMMx955JHD\n",
       "hw8/88wz8T/IBz7wgXCfznxvnVxzAAQSAMcj7LDnzZv3qU99qtXX0V166aXtXKSh\n",
       "tLQ0foXe+vXry4+65ppr4mxIbIOk33S65JJLouPXXnttZwKpVR/72Mfq6+s7//3s\n",
       "2bMnfmz//v2vv/76hx56KARG0t+3M99zyMv45XAzZsyI7xMaJs6VkDdJf+D3v//9\n",
       "+J4//OEP42oKn3bme+vkmgMgkAB4U0IChe349773vXPOOSexQPLy8toKpDlz5rRf\n",
       "L6eeempiG/zP//xP4t9x6NCh0fErrriiM4E0YMCADx6R9B0OHDjwmL6f0Dyt/pLP\n",
       "uHHj4rfB7cz3XFZWFj98y5YtiXf74he/GB0P65n0B95xxx3x3e69997o4CmnnBId\n",
       "6fB76+Q/IwACCYBjEzpn4hGTJ08+fPhwfDx8PH78+HjDHfb6bQXSlClTOnwX17q6\n",
       "urgN7r///sRvICcnJzoemqczgRT/DlJTU9OaNWvikzlB+LTz309jY2P4Tj7zmc+0\n",
       "fD+lz3/+883NzYk90873/NRTT8UPrKysTLzb1772tfjlf0mBdM8998R3mz17dlIg\n",
       "dfi9dfKf0Y83gEAC4NgkbrVLS0uTvvq3f/u38VsktRVITz75ZPxyrz/96U/7WxP2\n",
       "9HEbjBw5MvFv8Y1vfCPe+h9TIEUSz6Xcfffdnf9+4j+hvr7+V7/61bBhw/7mb/4m\n",
       "/qOeffbZxJ5p53uuqamJH7V06dLEu334wx+Ojv/kJz85pkDq8Hs71n9GAAQSAJ1S\n",
       "XFwc77z/6Z/+KfGa1Bs2bDj11FMTf2cmMZDmzZsX3W3Xrl3xby49/PDD8cMfffTR\n",
       "Tx9x3XXXJbbBBRdc8MILL0T32bFjR//+/aPjIQOOI5Dq6uriL+Xk5HTy+5k1a9bb\n",
       "jvjEJz4R3yHxXNDKlSs7/z2fe+650adf/epX4yxZsWJF/Kf9/Oc/73wgdeZ76+Sa\n",
       "AyCQADg2hw4dSnyV2llnnXX11Vf/13/91xe+8IW4joLFixeHO4d8io+cd9558Xuh\n",
       "/uAHP4iv9nbVVVfde++9IWlOP/30xF/gSbzC9Uc+8pHJkydPnDjxfe97X3y5vIqK\n",
       "iuMIpODMM8+MvhS+7ehIh99P4pXibrrpptA81dXV119/fXTkrW9968GDBzv/Pd93\n",
       "332Jb3w0c+bMn/70p/HbIl188cXxFcw7E0id/N46s+YACCQAjlnYgsfnQFqVnZ0d\n",
       "3zl+0V3iG8Xu27cv6XjitRNefvnlxDZo9S1Qb7zxxna+w/YD6dJLL016kV5nvp9r\n",
       "r722rX/e4cOHJ/VM+99zU1NT6MlW/6iQSSUlJfG32smX2HXme+vMPyMAAgmA4xGq\n",
       "Y8SIEWeffXbSVvvjH//4L3/5y8TfZiktLb3sssuSAin4v//7vyFDhsTvZxq9C2r4\n",
       "assrwk2YMOFb3/pW/M6q55xzzuTJk9v/9hLfyrblW6Bed9118UWx4xfCdfj9NDY2\n",
       "3nbbbeedd17iP2/4dMyYMfE/b+e/59BIoXne/e53J15H7qqrrtq5c2fi3VoNpHnz\n",
       "5rW8SEOH31tn/hkBEEgAHL+XX365srKysLBw0aJFv/3tb9u5DNpLL70UmqqmpiZs\n",
       "5ZM6Ydu2bcuXL9+8eXO4TzttEDb3xcXF4W/XrdcSaOf7iVOkqqpq1RHhm4neavbN\n",
       "fM9hWX7zm9+Ev13iJQGPT/vfW+f/GQEQSAD0OK2ePPE9AyCQABBIvmcABBIAKexd\n",
       "73rXW4+YOnWq7xkAgQQAACCQAAAABBIAAIBAAgAAEEgAAAACCQAAQCABAAAIJAAA\n",
       "AIHEyVJTU7Nq1aqDBw925s4NDQ1bt24tKSmpqKgIH1s9AAAQSH1Kfn7+4MGDt23b\n",
       "1v7dmpubly9fnpmZOfiorKysFStWWEAAABBIfcGhQ4cWL14c1U6HgbR69epwtyFD\n",
       "hixcuLC4uHjOnDnp6enhyIYNG6wkAAAIpF5s8+bNY8eOHTp0aHw6qP1AampquuWW\n",
       "W8LdSktL44NRXE2aNMl6AgCAQOrdgXT7UUOGDOkwkPbu3Rvuc+uttzY3N8cHa2tr\n",
       "w8Hhw4dbTwAAEEh9xLRp0zoMpF27doWUeuCBB5IOhgeOGDHCGgIAgEBKoUBq1bx5\n",
       "88IDZ8yYYQ0BAEAgpW4gNTc3P/bYY+FRmZmZe/bsaeeeU6ZMGQwAQN8S9nh20QJJ\n",
       "IP1FKKK8vLzwkGHDhm3ZsqX9O4e7WeETwDpbauuMpbbOWGpLLZA40YHU1NS0ZMmS\n",
       "6K2QQiPV1NQYHk9SlhrrbKmxzpbaUiOQUjGQGhsbZ86cGe55ww03FBcXJ17OzvB4\n",
       "krLUWGdLjXW21JYagZRagRT90lFubm5dXZ3h8SRlqbHOlhrrbKktNQIphQJp165d\n",
       "vz4i+jREUWZm5vDhw+vr6w2PJylLjXW21FhnS22pLYJASq1AKiwsjC5REn26du3a\n",
       "6D1h72nhwQcfNDyepCw11tlSY50ttaVGIPURM2bMaCuQMjIyok8XLlzY1kUeb7vt\n",
       "NsPjScpSY50tNdbZUltqBBKGp6coKCiwCJbaOmOprTOW2h5PIGF4AACwxxNIGB4A\n",
       "AOzxBBKGBwAAezyBhOEBAMAeTyBheAAAsMcTSBgeAADs8QQShgcAAHs8gYThAQDA\n",
       "Hk8gYXgAALDHE0gYHgAA7PEEEoYHAAB7PIGE4QEAwB5PIGF4AACwxxNIGB4AAOzx\n",
       "EEgYHgAAezwEEoYHAMAeD4GE4QEAsMdDIGF4AADs8RBIGB4AAHs8BBKGBwDAHg+B\n",
       "hOEBALDHQyBheAAAsMcTSBgeAADs8QQShgcAAHs8gYThAQDAHk8gYXgAALDHE0gY\n",
       "HgAA7PEEEoYHAAB7PIGE4QEAwB5PIGF4AACwxxNIGB4AAOzxBBKGBwAAezyBhOEB\n",
       "AMAeTyBheAAAsMcTSBgeAADs8QQShgcAAHs8gYThAQDAHk8gYXgAALDHE0gYHgAA\n",
       "7PEEEoYHAAB7PIGE4QEAwB5PIGF4AACwxxNIGB4AAOzxBBKGBwAAezyBhOEBAMAe\n",
       "TyBheAAAsMcTSBgeAADs8QQShgcAAHs8gYThAQDAHk8gYXgAALDHE0iWwPAAAGCP\n",
       "h0DC8AAA2OMhkDA8AAD2eAgkDA8AgD0eAgnDAwBgj4dAwvAAANjjIZAwPAAA9ngI\n",
       "JAwPAIA9HgIJwwMAgD2eQMLwAABgjyeQMDwAANjjCSQMDwAA9ngCCcMDAIA9nkDC\n",
       "8AAAYI8nkDA8AADY4wkkDA8AAPZ4AgnDAwCAPZ5AwvAAAGCPJ5AwPAAA2OMJJAwP\n",
       "AAD2eAIJwwMAgD2eQMLwAABgjyeQMDwAANjjCSQMDwAA9ngCCcMDcHKt3F53HDfr\n",
       "BtjjCSQMD0DvSJ3cwupwGzi9rOUtLbso6dbq3Tq8tfxz2vkDo+8n8Sa0AHs8gYTh\n",
       "AeiyCkrsn5ZlkhQhJ/jMT8u/actA6vCbb/X7928fsMcTSBgeIHUrKPFcUFJI9L2T\n",
       "MC1rqp3TVvER7QTY4wkkDA/QN3Oo1SSIz6VYpVZr6pjORFk3wB5PIGF4gJ4r6TyJ\n",
       "rXzXtlM7L+fTToA9nkDC8AA9YuMeNuVJ23S785OVpu3/KpR2Ans8BBKGB+iuvXji\n",
       "aSJr0vM7tpMv3rNcYI8nkDA8AJ2KonhvHb92zrL0mXaKA0k7gT2eQMLwALS5dU7c\n",
       "MXuBlnbSTmCPJ5AwPECKdpGXz9El7aSowR5PIGF4AF2EdqpOesMr7QT2eAIJwwPo\n",
       "IjiedoqvV27dwB5PIGF4AF1EqrdTy7cY1k5gjyeQMDyALsIPbZvt1OovPmkn7PEs\n",
       "gkDC8ACdootIhYjq8I2eRBT2eAgkDA+kehfFm0WrQSq3U2dOQIko7PEEEn1HTU3N\n",
       "qlWrDh48aHiA1/76fV3t8+D4IqqddvK2YAgkgURPl5+fH0Zi27Zthgfs9sLN72PA\n",
       "iWknZ6IQSAKJHufQoUOLFy8efIRAghTnF42gB9ZUZyLKKSkEkkCiC2zevHns2LFD\n",
       "hw4dfJRAgpTtIr9oBL06ojp5Ssq5KezxBBIdBNLtRw0ZMkQgQWqmUVRHtkqQCjXV\n",
       "1rmpxJusEkgIJF43bdo0gQSpJvG9X6wGkFhWx5dVnTlt5dWAAkkgIZCAnsUL6oBu\n",
       "yqrOnLZq+WrAdkKr/eJqK700mEASSJzoQEo7YnAL0fG27u+4446f9OOvp9Gnr2/1\n",
       "BXXWx3HHHe8JxxPzJu2Cj4Vby+J6/Xns09e3cmrr2rvDrcMG67DKWv45bf19Oz5+\n",
       "9Ptv65/rWI93yToXFBS03L/Fn9oVCySOJ5AMD/RGXlAH0Kq2TkC1f0KsM7e2Togd\n",
       "962TyXfcN3s8gYRAgr7PW74C0En2eAIJgQR9n7d8BUAgCSQEEqQ6V2IAQCAJJAQS\n",
       "8JcX0w+cXuaUEQACSSAhkCClxb9xFD6wGgAIJIHEcZoxY4ZAgl7NiSMABJJAwvAA\n",
       "r3PiCAB7PIGE4QFe+8vbEbqENwD2eAIJwwMpznu/AmCPJ5AwPJDq4jd39xtHANjj\n",
       "CSQMD6S66MSR3zgCwB5PIGF4IHXFJ4689ysA9ngCCcMDqc6JIwDs8QQShgc4+szr\n",
       "xBEA9ngCCcMDKW7g9LKQRuEWPrAaANjjCSQMD6T2E64TRwDY4wkkDA+kuNzC6viX\n",
       "jqwGAPZ4AgnDA6n9PJtdFF+2zmoAYI8nkDA8kIpCDuUWVoebV9YBYI8nkDA8kPJP\n",
       "r9lFUSA5cQSAPZ5AwvCAQHLiCAB7PIGE4YHU5lreANjjCSQMD3D0WdWJIwDs8QQS\n",
       "hgdSnEsyAGCPJ5AwPMDRJ1OXZADAHk8gYXiAOJAsAgD2eAIJwwMpLbeweuD0suhm\n",
       "NQCwxxNIGB5I7efQ7KKV2+uim9UAwB5PIGF4INUDySIAYI8nkDA8kNK82REA9ngC\n",
       "CcMDHH3qdOIIAHs8gYThgRQX/7qRQALAHk8gYXgg1cUXrMstrLYaANjjCSQMD6T2\n",
       "M6YTRwDY4wkkDA+kOK+sA8AeTyBheIC/8Mo6AOzxBBKGBzj6ROnEEQD2eAIJwwMp\n",
       "zivrALDHE0gYHuAvvLIOAHs8gYThAY4+PzpxBIA9nkDC8ECK88o6AOzxBBKGB/gL\n",
       "r6wDwB5PIGF4gKNPi04cAWCPJ5AwPIBAAsAeD4FkeIDXDZxeFtIo3MIHVgMAezyB\n",
       "hOGB1H42dOIIAHs8BJLhsQggkACwx0MgYXjgdbmF1fFl66wGAPZ4CCTDA6n9JJhd\n",
       "FL/xkdUAwB4PgWR4INUDySIAYI+HQMLwkNLis0YCCQB7PAQShodUF//eUW5htdUA\n",
       "wB4PgYThIbWf+5w4AsAeD4GE4QGBBIA9HgIJwwOvc1FvAOzxEEgYHjj6lOei3gDY\n",
       "4yGQMDwQB5JFAMAeD4GE4SGluag3APZ4CCQMD/yFi3oDYI+HQMLwwNFnOieOALDH\n",
       "QyBheEAgAWCPh0DC8MDrVm6vyy2sDjeBBIA9HgIJw0PKP8FlF0WB5KLeANjjIZAw\n",
       "PAgkJ44AsMdDIGF4QCABYI+HQMLwQJBbWB1f19tqAGCPh0DC8JDaz2vZRfE7w1oN\n",
       "AOzxEEgYHlI9kCwCAPZ4CCQMDwgkALDHE0gYHvCrRwBgjyeQMDzwxtOZXz0CAHs8\n",
       "gYThgTiQLAIA2OMJJAwPCCQAsMcTSBge8KtHAGCPJ5AwPPDGs5hfPQIAezyBhOGB\n",
       "OJAsAgDY4wkkDA8IJACwxxNIGB7wq0cAYI8nkDA88MaTl189AgB7PIGE4YE4kCwC\n",
       "ANjjCSQMDwgkALDHE0gYHnjttZXb63ILq8NNIAGAPZ5AwvCQ8s9Z2UVRIPnVIwCw\n",
       "xxNIGB4EkhNHAGCPJ5AwPCCQAMAeTyBheEAgAYA9nkDC8MAbBk4vC2kUbt4WFgDs\n",
       "8QQShoeUf6py4ggA7PEEEoYHBBIA2OMJJAwPCCQAsMcTSBgeSJBbWD1well0sxoA\n",
       "YI8nkDA8pPYzVHbRyu110c1qAIA9nkDC8JDqgWQRAMAeTyBheEAgAYA9nkDC8IBA\n",
       "AgB7PIGE4YGYt4UFAHs8gYThgaNPTE4cAYA9nkDC8IBAAgB7PIGE4QGBBAD2eAKJ\n",
       "djU0NFRWVpaUlJSXlx84cKAzDzl48OCWLVuKi4vDX+vr6w0PvcvK7XW5hdXhJpAA\n",
       "QCAJJP7KmjVrsrKyBh+VmZm5dOnS9h+yYsWKpIc88cQThofe9HyUXRQFkreFBQCB\n",
       "JJB4Q1VVVXp6evjJzs/PX7169fz586NPS0tL23rI7373u3CHjIyMcOfi4uLZs2eH\n",
       "QApHSkpKDA+9KJAsAgAIJIFEsqlTp4Yf6wULFsRHli1bFo6MGTOmrYeElAp3SDxl\n",
       "9Mgjj4QjU6ZMMTwIJAAQSAik3qqxsTE6+bN///744OHDh4cOHRoO1tbWtvqoEELh\n",
       "q5s2bYqPROeUcnNzDQ8CCQAEEgKpt6qpqQk/0zk5OUnH8/LywvHy8vJWH1VQUBC+\n",
       "+tBDD8VH5s6dG448+uijhoceLreweuD0suhmNQBAIAkk/kpVVVX4mZ4wYULS8Rkz\n",
       "ZoTj69ata/VR9fX148ePD3e4++67Fy1aNG7cuOgleYmnoQwPPfRpKLto5fa66GY1\n",
       "AEAgCST+ytatW8PPdF5eXtLx6IxQWxddaGpqWrJkyeC/tnjx4ubm5vaHp1UFBQX+\n",
       "RXAiA8kiAMCxil5A1BbrI5D6joqKilYDKboMQ1uB9OCDD4avDhs2bNGiRevXrw9p\n",
       "dMMNN4Qj9913n/+7gEACgJRijyeQ+pRt27aFn+mxY8cmHZ82bVpbV/p+9dVXs7Ky\n",
       "0tPTq6qq4oO7d++OruvwwgsvGB4EEgAIJARSr7Rv377oXFDSq+NGjx4djldWVrZ8\n",
       "SDjY6kXA77vvvnB87dq1hoceyLUZAEAgCSQ61tTUlJWVFX6sd+7cGR+sr6/PyMhI\n",
       "T08PH7R8SLhnuP9tt92WdPyuu+4Kxzdu3Gh46InPPq7NAAACSSDRGbNmzYre4zU+\n",
       "iRRdoWHixInRp7t27fr1EdGn8VsnrV69On7IM888k35EXV2d4aFnBpJFAACBJJDo\n",
       "WE1NTfTrQzk5ObNnzx41alT4OKRO/Pq6wsLCpOuT/OY3v4mOhIfMnz9/+vTp4f7h\n",
       "0yeeeMLwIJAAQCAhkHq37du35+bmxhdqHDly5KZNm+KvRoGUkZGR+JA1a9aEu8UP\n",
       "ufnmm0M1NTU1GR4EEgAIJAQShoeeyLUZAMAeTyBheODok45rMwCAPZ5AwvBAHEgW\n",
       "AQDs8QQShgcEEgDY4wkkDA8IJACwxxNIGB6IuTYDANjjCSQMDxx9rnFtBgCwxxNI\n",
       "GB6IA8kiAIA9nkDC8IBAAgB7PIGE4QGBBAD2eAIJwwOxldvrcgurw00gAYA9nkDC\n",
       "8JDyTzHZRVEguTYDANjjCSQMDwLJiSMAsMcTSBgeEEgAYI8nkDA8IJAAwB5PIGF4\n",
       "4A3xe8IKJACwxxNIGB5S3cDpZdEtt7DaagCAPZ5AwvCQ2s8sThwBgD2eQMLwgEAC\n",
       "AHs8gYThAYEEAPZ4AgnDAwIJAOzxBBKGB1rKLayOL89gNQDAHk8gYXhI7SeU7KL4\n",
       "At9WAwDs8QQShodUDySLAAD2eAIJwwMCCQDs8QQShgcEEgDY4wkkDA/E4t87EkgA\n",
       "YI8nkDA8pLr4ynW5hdVWAwDs8QQShofUfh5x4ggA7PEEEoYHBBIA2OMJJAwPCCQA\n",
       "sMcTSBgeEEgAYI8nkDA80NLK7XW5hdXhJpAAwB5PIGF4SPmnj+yiKJBCKVkNALDH\n",
       "E0gYHlI9kCwCANjjCSQMDwgkALDHE0gYHhBIAGCPJ5AwPCCQAMAeTyBheCBZbmH1\n",
       "wOll0c1qAIA9nkDC8JDazxrZRSu310U3qwEA9ngCCcNDqgeSRQAAezyBhOEBgQQA\n",
       "9ngCCcMDAgkA7PEEEoYHBBIA2OMJJAwPJBs4vSykUbi5eB0A2OMJJAwPKf9k4cQR\n",
       "ANjjCSQMDwgkALDHE0gYHhBIAGCPJ5AwPCCQAMAeTyBheEAgAYA9nkDC8ECbXLwO\n",
       "AOzxBBKGB44+RzhxBAD2eAKJLnT48OGCgoIpU6aMGDEifFpWVnbgwAHDg0ACAOzx\n",
       "BFLKmThx4rnnnpt2VDjy+c9//owzzrjjjjsMDwIJALDHE0gpJDs7O+qiAQMGxIH0\n",
       "jW98I/p43LhxhgeBBADY4wmklFBcXBwq6JRTTpk9e3b49LzzzosC6ZVXXhk/fnz4\n",
       "+Oyzz66vrzc8CCQAwB5PIPV9d9xxR6ignJyc6NM4kCIf+tCHwqclJSWGh54pt7B6\n",
       "4PSy6GY1AEAgCSTerC996UshgYqLi1sNpB/96Efh04cfftjw0AOt3F4Xuij8NbpZ\n",
       "EAAQSAKJN+v73/9+SKAnn3yy1UCK8skZJHpyIFkHABBIAokuM3Xq1JBAIYRaBtLv\n",
       "fve7/v379+vX76Rf79vwIJAAQCAhkE6E2tra888/P0TRV77ylaeffvqcc84JH//h\n",
       "D3+YM2fOe9/73vDxd77zHcODQAIA7PEEUqpYtWrV2972trTWXHzxxT3h7WINDwIJ\n",
       "AAQSAunE2b179/e+9713vvOdcRpdeOGFd91118svv2x46IHii9eFD6wGAAgkgUR3\n",
       "2bNnT1lZWW1treGhx0q8eJ3VAACBJJAwPAgkr6wDAHs8gUQXufrqqy89Fn/84x8N\n",
       "DwIJALDHE0h90yWXXJJ2LHbs2GF4EEgAgD2eQOqbVq1aVZDgX//1X0MFnXnmmUOG\n",
       "DFmwYMHSpUvz8/M/97nPRXU0c+bMl156yfAgkAAAezyB1Pdt2LChX79+55xzztat\n",
       "W5O+9N///d8hkC655JLm5mbDQw9Jo/j6dVYDAASSQKLrDR06NFTQPffc0+pXr7ji\n",
       "ivDV5557zvDQE+ooLbsoBJJLewOAQEIgdZfo9XVPPfVUq1/98Y9/HL66aNEiw0NP\n",
       "CCQnjgBAICGQute1114bEuhnP/tZq18dOHBg+GpRUZHhQSABAPZ4AqnvmzRpUkig\n",
       "T37ykwcPHkz60pIlS0455ZR+/frV19cbHgQSAGCPJ5D6vsrKyrPOOis00sc+9rEH\n",
       "Hnhg+/btf/7zn8vKym6++eYzzjgjHP/6179ueBBIAIA9nkBKFQsWLOjXr1+r74B0\n",
       "8cUXn/TTR4YHgQQAAgmBdEJt3Ljxq1/9av/+/eM0uuCCC+68886GhgbDw8mf/+yi\n",
       "6Ob6dQAgkBBIJ05TU9Pzzz//zDPPHDhwwPDQQzhxBAACCYF04jQ0NOzrSAgnw4NA\n",
       "AgDs8QRS3zdmzJi0juzYscPwIJAAAHs8gSSQ0s4555w//elPhgeBBADY4wmkvu/w\n",
       "4cMHW6iurn7ooYcuvPDCd73rXRs3bjQ8CCQAwB5PIKW655577u1vf/t5553X3Nxs\n",
       "eDgpaZRbWB3qSCABgEBCIPUI3/zmN9PS0srLyw0PJ76Oout6u7Q3AAgkBFJP8e1v\n",
       "fzsE0iOPPGJ4OPGB5MQRAAgkBFIPsn///rPOOisEUnFxseFBIAEA9ngCqe9bvnz5\n",
       "T1ozaNCgM888M9RR+GtdXZ3hQSABAPZ4Aqnva/8y3295y1vmzJljeBBIAIA9nkBK\n",
       "CQUFBRmtufHGG6dMmbJt2zbDg0ACAOzxBBKGh5M07dlF0c316wDAHg+BdKKtWLFi\n",
       "5MiRpaWlrX51xowZ4at+B4kTxokjABBICKSTKfodpJkzZ7b61U996lPhqzt27DA8\n",
       "CCQAwB5PIPVZTz31VNER1113XUigm266qaiFJ5544h3veEf46p49ewwPAgkAsMcT\n",
       "SH3Wueeem9Y5oZEaGxvb+aMaGhoqKytLSkrKy8sPHDjQyW/g4MGDGzduLC0t/cMf\n",
       "/mB4EEgAIJAQSCfTJz/5yQ8c8c53vjNU0Lvf/e4PtPB3f/d3n/3sZx999NF2/pw1\n",
       "a9ZkZWUNPiozM3Pp0qUdptGkSZPS09PjR913332vvPKK4UEgAYBAQiCdZO3/DlL7\n",
       "qqqqos7Jz89fvXr1/Pnzo0/buuRDcOjQoQkTJoT7jB8//sknn3z44Ydvuumm8Gn4\n",
       "wPBIo3DLLawWSAAgkBBIJ82sWbMuv/zyRYsWHcdjp06dGn6sFyxYEB9ZtmxZOBKi\n",
       "q62HFBYWhjtMnjy5qakpOrJ58+ZwJDs7u7m52fCkch2lZReFNAo3V/cGAIGEQOp9\n",
       "GhsbMzMzw4/1/v3744OHDx8eOnRoOFhbW9vqo8aNGxe+mnTVh1WrVhUVFcXJZHhS\n",
       "M5CcOAIAgYRAOjluv/327373u5MnTw4fL1q06Lsd+fOf/9zyD6mpqQk/0zk5OUnH\n",
       "8/LywvHy8vKWD3nhhRfCl0aNGvXakdfaVVRUbNmypb6+3vAgkABAICGQTppLLrkk\n",
       "LS3ty1/+8mtHfwepfa2+D1JVVVX4mZ4wYULS8RkzZoTj69ata/mQ8OeEL02fPv0X\n",
       "v/hF4kUa7r///tBLhkcgWQcAEEgIpJNg5syZ48ePf+SRR8LHxcXF4zvy4osvtvxD\n",
       "tm7dGn6m8/Lyko7PnTs3HC8pKWn5kN///vfhSxkZGeGv99xzz5IlS8L3MGzYsPDp\n",
       "7Nmz2x+eVhUUFPi3KZAAgJ4sbNgGt836CKS+o6KiotVAys/PbyuQNmzYEE3Cz3/+\n",
       "8/jgzp07o2TavXu3/7sgkACA1GGPJ5D6lG3btoWf6bFjxyYdnzZtWltX+n722Wej\n",
       "QEp6P9l77703HHz66acNT2qmUXRpb4EEAAIJgXRyjBgx4rvHotWLNOzbty/8TA8b\n",
       "Nizp8tyjR48OxysrK1s+5Pnnnw9fGj58eNLxn/3sZ+F4O+8wa3j6cB2lZReFQHJp\n",
       "bwAQSAikkya6SEPntXqRhqampqysrPBjvXPnzvhgfX19RkZGenp6q9emCw+58cYb\n",
       "w0Pq6uoSj0+ePDkcXL9+veFJwUBy4ggABBIC6SSbO3fu+GPR6kUaXjvyJrPhx3rK\n",
       "lCnxSaToCg0TJ06MPt21a9evj4gfcv/994c7hAe++uqr0ZFNmzZFZ6Laud634RFI\n",
       "AIBAQiD1dDU1NdHbwubk5MyePXvUqFHh4/T09Pj1dYWFhUnXJ3nhhRduvfXWcCQ3\n",
       "N/fhhx+eMWNGdL3vJ5980vAIJABAICGQeoqDBw8WFRXNnDlz3LhxDz300Lp165J+\n",
       "uahV27dvD6kTX6hx5MiRmzZtir8aBVJGRkbiQ/bs2XPvvfdGL8+LHtLqJe8Mj0AC\n",
       "AAQSAukkaGpquvvuu88999ykXz267LLLli9fbngQSACAPZ5ASiEjRoyIiujUU0+9\n",
       "+OKLr7zyyvPPPz8+0s7Vtw0Pxy2+tLfr1wGAQEIg9SCrV6+OWujHP/7xnj174uNr\n",
       "1669/PLLw/ELL7zQ8NC1ohNH4a/hZjUAQCAhkHqQ22+/PVTQN7/5zZZfqq2tjV53\n",
       "V11dbXjo8kCyDgAgkCyCQOpxvvzlL4cE+tWvftXqV7/1rW+Fry5atMjwIJAAAHs8\n",
       "gdT3RQm0YsWKVr86aNCg8NXHH3/c8CCQAAB7PIHU9+Xl5YUEuuWWW1p+6eDBgwMG\n",
       "DAhf/eMf/2h4EEgAgD2eQOr7du3adcEFF/Tr12/mzJmvvvpqfHzv3r3Rq+8GDRpk\n",
       "eBBIAIA9nkBKCYsXL/6Xf/mX6EJ2F1100Xe+850hQ4ZcddVVp59+enTwe9/73uAE\n",
       "hYWFhofj5ureAIA9nkDq0caMGZN2LO68807Dw/FxdW8AwB5PIPV0K1asGHksVq9e\n",
       "bXh4M4FkHQAAezyBhOFBIAEA9ngCCcODQAIA7PEEUi9SV1d33333DRky5P+1Yd++\n",
       "fYYHgQQA2OMJpL6vtrb2oosuav/CDDt27DA8CCQAwB5PIPV9Y8eODQl0yimnXH31\n",
       "1T/5yU9ua80LL7xgeHgzXN0bALDHE0i9wzXXXBMCaeLEiYaHbuLq3gCAPZ5A6jX+\n",
       "7d/+LQRScXGx4aFbA8k6AAD2eAKpF4jeKPanP/2p4UEgAQD2eAIp1f3ud7/r37//\n",
       "+973vq1btxoeBBIAYI8nkFLdwoULo6vVXXnllcNbs3//fsODQAIA7PEEUt+3d+/e\n",
       "D33oQy7zjUACAOzxBBKvTZ48OSRQv379Pv/5zw8fPjy7Nc4gcXxc3RsAsMcTSL3M\n",
       "17/+9RBI48ePNzx0LVf3BgDs8QRS7/PNb34zBNLatWsND90RSNYBALDHE0i9yV13\n",
       "3RUCadasWYYHgQQA2OMJpFS3a9euAQMGnHvuuVVVVYYHgQQA2OMJpJRWWlqanp6e\n",
       "lpbWv3//QYMG/aQ1dXV1hgeBBADY4wmkvm/MmDFpHXGZbwQSAGCPJ5BSQkFBQUZH\n",
       "amtrDQ+d5+reAIA9nkDqm7Zu3TpixIi9e/caHjrJ1b0BAHs8gdTXNDQ0PPjgg5/9\n",
       "7Ge9xI7jCyTrAADY4wmkvqCsrGzIkCHveMc74l9A6tev365duwwPAgkAsMcTSKni\n",
       "xRdfnD59+mWXXZZ4bYaPfOQjeXl5J72ODI9AAgAEEgLpBFm9evX3v//9M844IzGN\n",
       "rr766o0bNxoeBBIAYI8nkFJCTU3NnXfe+aEPfSiOotBI3/rWty6//PLwcX5+vuFB\n",
       "IAEA9ngCKSWkp6efeuqpURe95S1v+cIXvjBv3rwDBw6EL/3whz8USBx3GsUX+LYa\n",
       "AIA9nkDqNS655JJQQaeddtqkSZP27NmT+CWBxHHXUVp2UQgk730EANjjCaReGUjB\n",
       "gAEDbrnllmeeeUYg8eYDyYkjAMAeTyD1SpWVlSNGjHjPe94T/wLSRz/60cmTJ+/e\n",
       "vVsgIZAAAHs8gZSKGhsbH3/88a985SunnHJK/PtIp59+evhg1qxZhgeBBADY4wmk\n",
       "VPTHP/5x/PjxH/jAB+ITSmefffaPf/zjp556yvAgkAAAezyBlIqam5uLiooGDRrU\n",
       "v3//uJQ++MEP3nHHHS+99JLhQSABAPZ4AikV7d+/f+rUqR/96EfjTNqxY4fhQSAB\n",
       "APZ4AimlrV+/PvzUnn322c8//7zhoc3hzC6Kbi7wDQDY4wmkvu/QoUOGh7Y4cQQA\n",
       "2OMJJAwPAgkAsMcTSBgeBBIAYI8nkDA8CCQAwB5PIGF4EEgAgD2eQMLwIJAAAHs8\n",
       "gYThoTNyC6tDGoWbq3sDAPZ4AgnDk9KiE0fhr+FmNQAAezyBhOERSF5ZBwDY4wkk\n",
       "DA8CCQCwxxNIGB4EEgBgjyeQMDwIJADAHk8gYXgQSACAPZ5AwvDQThqFW3SNb6sB\n",
       "ANjjCSQMT0rXUVp2kbc/AgDs8QQShgevrAMA7PEEEoYHgQQA2OMJJAwPAgkAsMcT\n",
       "SBgeBBIAYI8nkDA8CCQAwB5PIGF4EEgAgD2eQMLw0LkJzC6Kbq7uDQDY4wkkDE9K\n",
       "c+IIALDHE0gYHgQSAGCPJ5AwPAgkAMAeTyBheBBIAIA9nkDC8CCQAAB7PIGE4UEg\n",
       "AQD2eAIJw0Mn0yi3sDrUkUACAOzxBBKGJ9XrKHrjI+99BADY4wkkDI9A8so6AMAe\n",
       "TyBheBBIAIA9nkDC8CCQAAB7PIGE4UEgAQD2eAIJw4NAAgDs8QQShgeBBADY4wkk\n",
       "DA8di9/7yAW+AQB7PIGE4Ulp0Ymj8NdwsxoAgD2eQMLwCCSvrAMA7PEEEoYHgQQA\n",
       "2OMJJAwPAgkAsMcTSBgeBBIAYI8nkDA8CCQAwB5PIGF4aCeNwi26xrfVAADs8QQS\n",
       "hiel6ygtu8jbHwEA9ngCCcODV9YBAPZ4AgnDg0ACAOzxBBKGB4EEANjjCSS6XkND\n",
       "Q2VlZUlJSXl5+YEDB47psS+++OKqVat27txpeAQSACCQEEi93po1a7KysgYflZmZ\n",
       "uXTp0k4+trm5+Z577gmPKigoMDwCCQAQSAik3q2qqio9PT38ZOfn569evXr+/PnR\n",
       "p6WlpZ15+IoVK6KsEkgCCQAQSAikXm/q1Knhx3rBggXxkWXLloUjY8aM6fCxu3fv\n",
       "Hjp06PDhwwXSSRe98ZGrewMAAkkgcfwaGxszMzPDj/X+/fvjg4cPHw7ZEw7W1ta2\n",
       "/9hx48bdfPPNK1euFEgnV3TiKHqLWKsBAAgkgcRxqqmpCT/TOTk5Scfz8vLC8fLy\n",
       "8nYeu2jRonCfjRs3btiwQSD1hECyDgCAQBJIvClVVVXhZ3rChAlJx2fMmBGOr1u3\n",
       "rq0HVlZWpqenz507N3wskAQSACCQEEh9wdatW8PPdF5eXtLxUD7heElJSauPeuml\n",
       "l2699dYRI0Y0NDQcUyC1qsMHIpAAgJMrbNgGt836CKS+o6KiotVAys/PbyeQonza\n",
       "smVL9KkzSAIJAEhZ9ngCqU/Ztm1b+JkeO3Zs0vFp06a1daXvsrKy8KXZs2cfOmrt\n",
       "2rXhyOOPPx4+fvXVVw2PQAIABBICqVfat29f+JkeNmxYc3Nz4vHRo0eH45WVlS0f\n",
       "8uijj7ZzgnXlypWGRyABAAIJgdQrNTU1ZWVlhR/rnTt3xgfr6+szMjLS09PDBy0f\n",
       "sn79+hl/7Y477ojeNyl8HL/uzvCcoKHKLopu3v4IABBIAokuMGvWrPBjPWXKlPgk\n",
       "UvQrRhMnTow+3bVr16+PaOtP8DtIJ4sTRwCAQBJIdLGamprobWFzcnJmz549atSo\n",
       "8HF6enr8+rrCwsL2r08ikAQSACCQEEh9x/bt23Nzc+PfIxo5cuSmTZvir0aBlJGR\n",
       "0dbDN27cGO7w5JNPGh6BBAAIJAQShkcgAQD2eAgkDI9AAgDs8RBIGB6BBABgjyeQ\n",
       "MDw9JY3CLbewWiABAPZ4AgnDk+p1lJZdFNIo3Lz9EQBgjyeQMDypHkhOHAEA9ngC\n",
       "CcODQAIA7PEEEoYHgQQA2OMJJAwPAgkAsMcTSBgeBBIAYI8nkDA8CCQAwB5PIGF4\n",
       "6FD0xkeu7g0A2OMJJAxPqotOHEVvEWs1AAB7PIGE4RFIXlkHANjjCSQMDwIJALDH\n",
       "E0gYHgQSAGCPJ5AwPAgkAMAeTyBheBBIAIA9nkDC8CCQAAB7PIGE4aGjyckuim7e\n",
       "/ggAsMcTSBielObEEQBgjyeQMDwIJADAHk8gYXgQSACAPZ5AwvAgkAAAezyBhOFB\n",
       "IAEA9ngCCcODQAIA7PEEEoaHTqZRuOUWVgskAMAeTyBheFK9jtKyi0IahZu3PwIA\n",
       "7PEEEoYn1QPJiSMAwB5PIGF4EEgAgD2eQMLwIJAAAHs8gYThQSABAPZ4AgnDg0AC\n",
       "AOzxBBKGB4EEANjjCSRLYHjoUPTGR67uDQDY4wkkDE+qi04cRW8RazUAAHs8gYTh\n",
       "EUheWQcA2OMJJAwPAgkAsMcTSBgeBBIAYI8nkDA8CCQAwB5PIGF4EEgAgD2eQLIE\n",
       "hgeBBADY4yGQMDwdjUd2UXTz9kcAgD2eQMLwpDQnjgAAezyBhOFBIAEA9ngCCcOD\n",
       "QAIA7PEEkiUwPAgkAMAeD4GE4RFIAIA9HgIJwyOQAAB7PAQShqeTaRRuuYXVAgkA\n",
       "sMcTSBieVK+jtOyikEbh5u2PAAB7PIGE4Un1QHLiCACwxxNIGB4EEgBgjyeQMDwI\n",
       "JADAHg+BhOERSACAPR4CCcMjkAAAezwEEoZHIAEA9ngIJAxPh6I3PnJ1bwDAHk8g\n",
       "YXhSXXTiKHqLWKsBANjjCSQMj0DyyjoAwB5PIGF4EEgAgD0eAgnDI5AAAHs8BBKG\n",
       "RyABAPZ4CCQMj0ACAOzxEEgYnnbSKNyia3xbDQDAHk8gYXhSuo7Ssou8/REAYI+H\n",
       "QMLweGUdAGCPh0DC8AgkAMAeD4GE4RFIAIA9HgIJwyOQAAB7PAQShkcgAQD2eAgk\n",
       "DI9AAgDs8RBIGJ5Oid74yNW9AQB7PAQSqT480Ymj6C1i/RgAAPZ4CCQEklfWAQD2\n",
       "eAgkDI9AAgDs8RBIGB6BBADY4yGQMDwCCQCwx0MgYXgEEgBgj4dAwvC0k0bhFl3j\n",
       "2w8AAGCPh0AidYcnpFFadpG3PwIA7PEQSBger6wDAOzxEEgYHoEEANjjIZAwPAIJ\n",
       "ALDHQyBheAQSAGCPh0DC8AgkAMAeTyAJJAyPQAIAEEgCCcPTuR/07KLo5ureAIA9\n",
       "HgKJlB4eJ44AAHs8BBKGRyABAPZ4CCQMj0ACAOzxEEgYHoEEACCQBFLf1NDQUFlZ\n",
       "WVJSUl5efuDAgU4+ZOvWreEhFRUV4WPDI5AAAIGEQOoL1qxZk5WVNfiozMzMpUuX\n",
       "tnP/5ubm5cuXh7vFDwkPX7FiheERSACAQEIg9W5VVVXp6enhJzs/P3/16tXz58+P\n",
       "Pi0tLW3rIeFu4Q5DhgxZuHBhcXHxnDlzoods2LAhlYcnt7A6pFG4ubo3ACCQEEi9\n",
       "1dSpU8OP9YIFC+Ijy5YtC0fGjBnT6v2bmppuueWWpIJavHhxODJp0qSUHZ7oxFH4\n",
       "a7j5oQIABBICqVdqbGyMXim3f//++ODhw4eHDh0aDtbW1rZ8yN69e8OXbr311ubm\n",
       "5vhguGc4OHz48BQPJD9RAIBAQiD1YjU1NeFnOicnJ+l4Xl5eOF5eXt7yIbt27br9\n",
       "9tsfeOCBpIPh/iNGjBBIAAACCYHUW1VVVYWf6QkTJiQdnzFjRji+bt26Tv458+bN\n",
       "C/cPjxJIAAACCYHUW23dujX8TOfl5SUdnzt3bjheUlLS4Z/Q3Nz82GOPRde+27Nn\n",
       "T/vD06qCggKBBADQk4UN2+C2WR+B1HdUVFS0Gkj5+fmdCaRQRNGL8YYNG7Zly5ZU\n",
       "/r8LAgkASE0CSSD1Kdu2bQs/02PHjk06Pm3atPav9N3U1LRkyZLoAg+hkWpqalJ2\n",
       "eFzdGwAQSAikPmLfvn3R+Z/ES9IFo0ePDscrKytbfVRjY+PMmTPDHW644Ybi4uKk\n",
       "x6bU8Li6NwAgkCyCQOo7mpqasrKywo/1zp0744P19fUZGRnp6enhg1YfFf3SUW5u\n",
       "bl1dXYoPj1fWAQACySIIpD5l1qxZ4cd6ypQp8Ymg6AoNEydOjD7dtWvXr4+IPg1R\n",
       "lJmZOXz48LbySSABAAgkBFJvVVNTE70tbE5OzuzZs0eNGhU+Tk9Pj19fV1hYmHh9\n",
       "krVr10bvCXtPCw8++KBAAgAQSAik3m379u25ubnxhRpHjhy5adOm+KtRIGVkZESf\n",
       "Lly4sK0rPN52220CCQBAICGQSNHhEUgAgD2eRRBIGJ7X0yi+wLd/uQCAPR4CidQd\n",
       "nlBHadlFIZC89xEAYI9nEQQSAskr6wAABJJAwvAIJAAAgSSQMDwCCQBAIAkkDI9A\n",
       "AgAQSAIJwyOQAAAEkkDC8LQjvrS369cBAAgkgURKD0904ij8Ndz8CwUAEEgCCYHk\n",
       "lXUAAAJJIGF4BBIAgEASSBgegQQAIJAEEoZHIAEACCSBhOERSAAAAkkgYXja/NnN\n",
       "Lopuru4NACCQBBIpPTxOHAEACCSBhOERSAAAAkkgYXgEEgCAQBJIGB6BBAAgkAQS\n",
       "hkcgAQAIJIGE4ekojcItt7BaIAEACCSBREoPT9RF0c3VvQEABJJAItUDSRcBAAgk\n",
       "gYThEUgAAAJJIGF4BBIAgEASSBgegQQAIJAEEoZHIAEACCSBhOFpQ/SuRy5eBwAg\n",
       "kAQShucvJ46id0Dybw0AQCAJJASSE0cAAAJJIGF4BBIAgEASSBgegQQAIJAEEoZH\n",
       "IAEACCSBhOFpI41cvA4AQCAJJFJ9eOI0UkcAAAJJICGQpBEAgEASSBgegQQAIJAE\n",
       "EoZHIAEACCSBhOERSAAAAkkgYXjaTiMXrwMAEEgCiVQfHhevAwAQSAIJw/NGIEkj\n",
       "AACBJJAwPAIJAEAgCSQMj0ACABBIAgnDI5AAAASSQMLwtJlGLl4HACCQBBKpPjwu\n",
       "XgcAIJAEEobnjUCSRgAAAkkgYXgEEgCAQBJIGB6BBAAgkAQShkcgAQAIJIGE4Um2\n",
       "cnvdwOll0U0gAQAIJIFESg9PdOIoZFK4+TcCACCQBBICyYkjAACBJJAwPAIJAEAg\n",
       "CSQMj0ACABBIAgnD84bo944EEgCAQBJIpPrwhCiKL17n8gwAAAJJIJHqgeTEEQCA\n",
       "QBJIGB6BBAAgkAQShkcgAQAIJIGE4Unk2gwAAAJJIGF4XufaDAAAAkkgYXjeCCQn\n",
       "jgAABJJAwvAIJAAAgSSQMDwCCQBAIAkkDE8i12YAABBIAgnD8zrXZgAAEEgCCcPz\n",
       "RiA5cQQAIJAEEoZHIAEACCSBhOERSAAAAkkgYXhaptHA6WUCCQBAIAkkUnp44jRS\n",
       "RwAAAkkgIZCkEQCAQBJIGB6BBAAgkAQShifibWEBAASSQMLwvM7bwgIACCSBhOF5\n",
       "I5CcOAIAEEgCCcMjkAAABJJAwvAc4VePAAAEkkDC8LzOrx4BAAgkgYTheSOQnDgC\n",
       "ABBIAgnDI5AAAASSQMLwJKTRwOllAgkAQCAJJFJ6eOI0UkcAAAJJICGQpBEAgEAS\n",
       "SKT88LioNwCAQBJIGJ7Xuag3AIBAEkgYnjcCyYkjAACBJJBI9eHxyjoAAIEkkDA8\n",
       "r/PKuuNQUFBgESy1dcZSW2cstUASSPTNQHLiyJOUpbbOFsFSW2cstaUWSPR0DQ0N\n",
       "lZWVJSUl5eXlBw4c6PLh8W6wnqQsNdbZUltnLLWlFkj0DmvWrMnKyhp8VGZm5tKl\n",
       "S7tweLwbrCcpS411ttTWGUttqQUSvUNVVVV6enqYhPz8/NWrV8+fPz/6tLS09M0P\n",
       "jxNHnqQsNdbZUltnLLWlFkj0JlOnTg1jsGDBgvjIsmXLwpExY8a8yeFx4siTlKXG\n",
       "Oltq64ylttQCid6ksbExMzMzjMH+/fvjg4cPHx46dGg4WFtbexzDs3J7XXypOmnk\n",
       "ScpSY50ttXXGUltqgUSvUVNTE2YgJycn6XheXl44Xl5efkzDk/iCuuj9jqywJylL\n",
       "jXW21NYZS22pBRK9RlVVVZiBCRMmJB2fMWNGOL5u3bp2HnvFsHvjIko8ZeSskScp\n",
       "S411ttTWGUttqQUSvdLWrVvDDOTl5SUdnzt3bjheUlLSzmMH3bssNFK4fXXIbdFt\n",
       "MAAAvdyUKVNskgVS6qqoqGg1kPLz8zsMJAAAQCD1Kdu2bQshNHbs2KTj06ZN68yV\n",
       "vgEAAIHUd+zbty+E0LBhw5qbmxOPjx49OhyvrKy0RAAAIJBSRVNTU1ZWVmihnTt3\n",
       "xgfr6+szMjLS09PDB5YIAAAEUgqZNWtW9Nt48Umk6AoNEydOtDgAACCQUktNTU30\n",
       "trA5OTmzZ88eNWpU+Dg9Pd3r6wAAQCClou3bt+fm5sbXdhw5cuSmTZssCwAACCQA\n",
       "AACBBAAAIJAAAAAEEgAAgEACAAAQSLx5DQ0NlZWVJSUl5eXlBw4csCDdraamZtWq\n",
       "VQcPHrQU3fcjvXXr1vAjXVFRET62IN3nxRdf3Lx5c7TUhw4dsiAnYMHDs0fi+4DT\n",
       "hWpra3e34D+L3ST8R3Djxo2lpaV/+MMfrEaXa25u3t02T9cCiQ6sWbMmKysrviB4\n",
       "Zmbm0qVLLUu3ys/PD0u9bds2S9Ed/0lYvnx5+DGOf6TDj/eKFSusTJdramp64okn\n",
       "MjIy4qW+6aabQilZmW798b7nnnvCUhcUFFiN7jBmzJjBLYSfcyvT5Wk0adKk9PT0\n",
       "eJHvu+++V155xcp0obq6usFt+/3vf2+JBBJtqqqqip6hwpZ99erV8+fPjz4tLS21\n",
       "ON3h0KFDixcvjp6eBFJ3CD/GYW2HDBmycOHC4uLiOXPmRD/SGzZssDhda+XKlWFh\n",
       "hw8f/vjjj4coveuuu8KnoZeee+45i9NNQupHzx4CqTscPnw4/ACPGDFi4V/bvHmz\n",
       "xena/w5OmDAh/BiPHz/+ySeffPjhh2+66abwafjA4nRthea3MHPmzLDU4T+Lzz//\n",
       "vCUSSLRp6tSpYVQWLFgQH1m2bFk4MmbMGIvTtcJ/YseOHTt06ND4/98IpC7X1NR0\n",
       "yy23JBV+VKSTJk2yPl0rJycnLGxFRUV8JC8vLxx57LHHLE532L17d3gCCUUqkLpJ\n",
       "2DKGtX3ggQcsRbcqLCwM6zx58uTwjB3/9zEcyc7Obm5utj7dKjw/h6X+1a9+ZSkE\n",
       "Em1qbGyMXom0f//++ODhw4ejTXxtba0l6tpAuv2oIUOGCKTusHfv3rCwt956a+J/\n",
       "ZcNPcnSiw/p0oRdffDGs6ujRoxMPRuc3ZsyYYX264+l63LhxN998c3TiTiB1h6ef\n",
       "fjqsrVfkdrfwkxzWec+ePYkHV61aVVRUFCcT3WHdunVh5adNmyZEBRLtqampCaOS\n",
       "k5OTdDz638Dl5eWWqJuEpyeB1B127doV+jPpfwCHg2G1R4wYYX260IEDB4qLi595\n",
       "5pnEgyGNwlL/5je/sT5dbtGiRWFtN27cuGHDBoHUTR599NFokcPP9mOPPRZKqbq6\n",
       "2rJ0rRdeeCEs8qhRo1478lq7ioqKLVu21NfXW5nu9uKLLw4fPjwrK8tFRwQSHaiq\n",
       "qgrPUxMmTEg6Hu1y1q1bZ4kEUh8wb948pzW61fbt20tKSqLX644bN87lGbtcZWVl\n",
       "enr63Llzw8cCqftEF8BIvMRLMGfOnMbGRovTVXbs2BFWdfr06b/4xS8SL9Jw//33\n",
       "u67aCfhPoacOgUTHtm7dGqYlLy8v6Xj4z3A47mpUAqm3a25ujl5vHXY8SS/noAtN\n",
       "njw53uVs3LjRgnStl1566dZbbx0xYkR0wXqB1H1uvvnmsLZ33nnnunXrQpQ+8cQT\n",
       "USy5il0X+v3vfx9dzSX8NRTpkiVLHnnkkWHDhoVPZ8+ebX26r0tDjoaf8Jdfftlq\n",
       "CCQ6UFFR0WogRRehFkgCqVcLRRS9WDT8p3fLli0WpPs899xzZWVlYRMZvWHAo48+\n",
       "ak26UPR/rOKfYYHUTZqamn79618vX7488XzR+vXro//D4ndjukr0Axz8/Oc/jw/u\n",
       "3Pn/27v3oKjq/4/jP/MSVkhpTfcxsYuZt8lJZ2y6qdl0GS1MrbFwGskFlEsmFhYJ\n",
       "KkiFKepIQjqSJuKYhhppUXjBTERFIQRikhAUhTBQQhHw+/76ns7vtCvL5ncJkefj\n",
       "r933fnbPOR+Ph/PaPefzKdTIVFJSQhc1Bx28bvPmzXQFAQlNkxN0+Q8TFhZ2ydN3\n",
       "RvomILXeE53k5GT96lcyUmlpKX3yryUli8Xi5+fHJUnOIslTv1mv+cvu3bulsmHD\n",
       "BnlcV1dHFzW36dOn244ogMv2888/a0CyuhNm4cKFUvzxxx/pIqerrq7WP4gnTpyg\n",
       "NwhIaFpZWZl+v241nklISIjU8/Ly6CICUqsjp+b6VVlAQMCOHTsYq6eZZGZmxsfH\n",
       "215QFxoaytHDiXTYgMakpqbSRc4ixwrJnLbZXodcY9QiZ9Gx1G2HFV21apXUmae+\n",
       "Oej0gBEREXQFAQkOqa+v10tiCgsLjWJlZaW3t7fFYmFUGQJSa6Q3HclpekVFBb3R\n",
       "fHbt2qVDMljVg4ODpV5UVEQXOUV6enrM382aNUunqpPHXDvqRPpj3dKlS83F2tpa\n",
       "nXiKeS+ceOIRGBgoXWp1iNZbGWWHp4ucTkfQ2bp1K11BQIKj5I+B/LeJiooyvmjX\n",
       "693nzp1L5xCQWh35i+vr6ysnNMT75lZcXGw73/F3332n3w1z6Vfz4R6kZqITpvn4\n",
       "+OTn52tF/iyuWbNGv3Chf5xo+fLlmkWNA0VmZqZez8KhuznoZaLmSb1BQEITSktL\n",
       "dVrYoKCguLi4GTNmyGOLxcIVMgSk1khvz5AT9Pk24uPj6R/nWrlypd6/Hhsbm5iY\n",
       "qENicBcBAan1SkhI0AHWYmJiZJcODw/XPbygoIDOcaJTp069++67mjylz6W3dbzv\n",
       "r7/+ms5xuurqaj0yS7fTGwQk/ANy6NfbBlRwcHBmZibd0qx0pikCktPJOU1jd2u8\n",
       "//779I9znT9/Pjk5WS/TVTNnzty3bx8906z279/PqWQzqaurk11aLwDTpPThhx8e\n",
       "PXqUnnG6Y8eOLVy40Dh6yIkHA+c2E514SvZquoKAhMv8jqGoqIj5lQH8Iw0NDRUV\n",
       "FXL00Fl6gKtgly4vLy8uLmYwxuZWX18v/czU0iAgAQAAAAABCQAAAAAISAAAAABA\n",
       "QAIAAAAAAhIAAAAAEJAAAAAAgIAEAECLSU1N3bBhQ9vc9uLi4sTExPz8fHYDACAg\n",
       "AQCaRVlZWWcHjB49Whr7+PjI49DQ0JZa2wMHDnTo0OHpp5++mv4JlixZIr06fvz4\n",
       "JluWl5d36dKlf//+dXV17LoAQEACADjfyZMn/88Bw4cPl8YTJ06Ux++9916LrKqk\n",
       "goEDB7Zr127//v1X0z/BokWLpFdfeOEFRxqHhYVJ45iYGHZdACAgAQCcr6Ghoerv\n",
       "evbsKafgwcHB5uKff/4pjRMTEydPnvzNN9+0yKomJCTIinl4eFxl/wT/KCDJv4Wr\n",
       "q+utt9569uxZ9l4AICABAJrd/fffL+frLXgdXWOGDBkiK7Zx48a2HJDEhAkTpP2K\n",
       "FSvYV4E2rqSkZP7f/fDDD3QLAQkA8O8FpGXLlnl6eq5bt06fLliwQJ5mZ2enpqZ6\n",
       "eXn16dNn8ODBb7/9dlVVlby6cuXKsWPHuru7Dxw40M/Pr7i42PxRe/fu9fX1HTRo\n",
       "kLzLx8fnyy+/tL9WBw8elLXq1q1bbW2tUUxJSRk3bpx8Qo8ePWTRgYGBtgMYOLKg\n",
       "77//Xtv07Nlz6NChc+fOraystGqzZ8+egICAxx57TNqMGjVq9uzZp06dMl41umL7\n",
       "9u3e3t59+/a97777xowZc+DAAavPSUpKmjhxYr9+/e69997Ro0fLom0Dkv3t+vbb\n",
       "b6W99Cr7KtDGpaWlTZo0KdZEDkF0CwEJAPDvBSSre5CeeeYZefrqq6926NDBfMPS\n",
       "yJEjJSZZ3cUkeUCDk5g3b17Hjh2tGkydOtXOWn388cfSZsSIEUYlKirK9l4pNze3\n",
       "Q4cOGW2aXFBDQ0NISEi7du2s2tx9990lJSVGs4iICKttFN27d5fUZO4KSVmdOnUy\n",
       "t5Gnu3fv1jZ1dXVTpkyxXWfpGXNAanK7zpw5o8Vjx46xuwJtWWJi4jvvvEM/EJAA\n",
       "AFdWQBJDhgzZuXPn8ePHJZAY5/TDhg1LSEgoLi5evHixVtavX3/h4s818rh9+/aS\n",
       "TAoKCn799dc5c+Zorli0aFFja/X8889LA4vFok/PnTt33XXXaeXIkSOVlZUpKSnu\n",
       "7u5SGTt2rLZxZEHr1q3TdfP09JQkI83kpW7duknl2Wef1TabNm3SNlJJT0+XWCIn\n",
       "JbfddptU7rrrLr07y+iKAQMGyHJlq+Pj4+VVqYwaNUo/Z/ny5drGy8srIyOjsLBw\n",
       "1apVN998sxY1IDmyXeKWW26Ryueff87uCrRl8+fPX7hwIf1AQAIAXFkBqUePHjU1\n",
       "NUabPn366C8emhzU4MGDpTh37lyjgdXnR0dHS1EW3dha3X777dIgMjJSn+bk5Giu\n",
       "2Ldvn9EmOTm5a9euDz/8sHlN7CyooaGhd+/e8vSVV14xt5ETDil27NhRL7Tr1auX\n",
       "juMn7Y02EqWuvfZaY6O0KyTt/PHHH0YbWVspSryRx/X19ffcc488tRrOWzZEf5vS\n",
       "gOTIdolHHnlE2vj5+bG7Am3ZtGnT5DgTERERGBgYHh6elpZGnxCQAAAtH5BmzZpl\n",
       "bjNy5Egpvvnmm+aiJBApzp492xhVvKSkpMZEooj+tpORkWG7XEkmmiLWrFmjFckb\n",
       "+huOpI64uDjbi80cWZC8S9vs3bvX/N7a2totW7Zs3bpVHhhtjCvlDBaLReo6KZN2\n",
       "hb+/v7nBgQMHpOjq6iqPCwsLbZOPGjNmjBGQmtwuNXbsWGkjb2R3Bdqs06dPT5o0\n",
       "ydvbOyYmZvXq1UFBQfI0JSWFniEgAQBaOCB9+umn5jYvvfSSFOfNm2cuvvbaaxqQ\n",
       "tm3bZn/CJb0Mz0pFRYW++tNPPxnF+Pj4zp07G290d3f38vJKTU3VVx1Z0I4dO/Qa\n",
       "PDvzrsoHSptrrrnG/CuZio2N1TuRjK6Ijo42N8jKypLiDTfccOHiuAuNLeujjz4y\n",
       "34Nkf7vU9OnT5aUnnniC3RVoI8rKyraYFBQUyIHxiy++kOOMNjhz5owcGfz9/c2/\n",
       "dYOABAC40gPS5s2b9bz/nkYkJCTYLreyslLfZXUBiZwiyHoOGjTIPILCG2+8IecH\n",
       "jizoq6++MgJMY5KTk6WNfL7tOYfOy9S1a9fGusIckPRGpk6dOtkuQu/RMo9iZ2e7\n",
       "tIH8E0jl0UcfZXcFWp3S0tJt27ZJnrF9qbq6Oi8vTw50OTk5xqg26tChQ5NM5PBl\n",
       "+/akpCR56eTJk3QyAQkA0GoCkpz66w8y5tG6HeHi4iJvXLVq1SVflVMNOV2QwKBZ\n",
       "IjU11ZEFZWZmavuKigpzvb6+XjZqyZIlJSUlhw8f1jZFRUVWb5fNkbrEGEcCkvE5\n",
       "x48ft/qcqVOnNjYPku12aX38+PHy9MUXX2R3BVqd2NhYiTG//PKLVX3Xrl3+/v5G\n",
       "BPL19TXPyl1XV3fGRI5scjDJyMiQ45XRRtrLG3/77Tc6mYAEAGg1AUn+lru6uspj\n",
       "YzIlVVhYKMt1d3e3mi7J0L17d/0Efbpp06ZevXq9/PLL5jZVVVVdunSRZgsWLHBk\n",
       "QdXV1e3bt5c2ixcvNrdJTEzUcFVeXi5nITqsXEhIiLnNuXPndHhu6RNHApK0v/76\n",
       "6+XpnDlzrD5HbzrSgNTkdmlFI5OcCbG7Aq1ITU3Nxo0bNf9YBaT8/HyLxaKTGm3f\n",
       "vn3lypX61JhLwNaOHTukQXZ2tlGJiory9vaWowpdTUACALSagCSPP/jgA3l85513\n",
       "GjcUSVDRoR0kGzS2VqNHjzbSyIWLV5voLT1JSUlGm8OHD+vIcnqbsiML8vLy0svk\n",
       "jDEYcnNz+/XrJ8XHH39cKxKN5KmLi4sxRIR8zuuvv66X3kl7RwKSCA4OlqcSk+QM\n",
       "SStnz56VLGQe5tuR7RJ33HGH7eIAXLHkaBAWFjZ58mTjByKrgBQdHS3F1atXG5Ut\n",
       "W7ZIZebMmY19ZkVFRUBAwLRp09LS0iQmrVixQtqvXbuW3iYgAQBaWUCqqqp68MEH\n",
       "NQb07dtXcoie/UvYkBOCxtZKliJthg4dqk8bGhpGjBih0ULyjIeHx5NPPqmf07t3\n",
       "bx1h3JEFHTt2TAcQlzYDBgzQkcFF586dje9lT58+3b9/f63LBw4fPlwnSjKP4OdI\n",
       "QJKzmYceekjf+MADDzz11FP6u5D+QqUByZHtklilM9tKcGJ3BVpLQPrgLz4+PlYB\n",
       "6fz5876+vlL8/fffjWJtba0GqvLy8sY+Ni8vTxKUJi4/P7/169fLR9HbBCQAgJPp\n",
       "SfwlA5K3t7f5JU0Fn3322T8KSBcu/gIjf87d3NyMEQgkDNhJR6KoqEgyjLxF4oFW\n",
       "JP/IeYZet6ZcXFzGjRt34sQJ412OLKisrGzMmDGaUox5b60G/paFvvXWW8akrpJP\n",
       "JOGYf+S5ZFfofUc33nijUZGs5enpaayPrPCECRN0dl3jHqQmt0sH39PR8wC0oPj4\n",
       "eOOIZJadnW1nSqLFixdbBaTS0lKpBAUFWbWMjIyUek5Ojv3VkIOGhCgGryMgAQCu\n",
       "BkeOHNmzZ4850tjh4eFhe09RTU1Nfn7+rl27JI1IHLrsBdXX1+fm5mZkZOjksI05\n",
       "evRoenq65Jz/ZavlPEbWNisry853vXa2S06YjAlqAbSggwcPRkVFWWUkSUe2RfsB\n",
       "Sf6zSyU8PNyqZUxMjNTN0xuAgAQAwP/buXNnY6O9tR0Slm666SYXFxc7V90AaKmM\n",
       "1GQ6umRAys3NlUpkZKRVy2XLlkndzo9RICABANq65557TjJSenp6m+2BiIgI2yH1\n",
       "ALQgIxTJg08++cR+OrpkQDp8+PAlA5IOCE5AIiABANCovLy8Tp06DRs2rG1ufnl5\n",
       "uZubW69evZo8AwPwL2ek8PBwR9LRJQOSPJZKWFjYJVvaGekbBCQAAP47l+LatWvr\n",
       "6uraZkCSbZeUyG4AXFGysrIkIM2fP//yAlJZWZlUpkyZYjXQQkhIiNT5L09AAgAA\n",
       "AFoN4zak7OxsRzKSbUCqr6/39/eXYmFhoVGsrKz09va2WCz2R44BAQkAAAC4UmRm\n",
       "ZpqvrLu8QRrE0qVLpSjvNX5E0hEaGK+SgAQAAAC0mnTklGG+L1ycCkmnhQ0KCoqL\n",
       "i5sxY4Y8tlgsXF9HQAIAAABah/j4+HPnztnW7U8Uq7MbWQUkUVBQEBoaOukvwcHB\n",
       "EsDoZAISAAAA0HZVV1cXFRVVVVXRFQQkAAAAACAgAQAAAAABCQAAAAAISAAAAABA\n",
       "QAIAAAAAAhIAAAAAEJAAAAAAgIAEAAAAAAQkAAAAACAgAQAAAAABCQAAAAAISAAA\n",
       "AABAQAIAAAAAAhIAAAAAEJAAAAAAgIAEAAAAAAQkAAAAACAgAQAAAAABCQAAAAAI\n",
       "SAAAAAAAAhIAAAAAEJAAAAAAgIAEAAAAAAQkAAAAACAgAQAAAAABCQAAAAAISAAA\n",
       "AABAQAIAAAAAAhIAAAAAEJAAAAAAwIn+A01i4YihVk/MAAAAAElFTkSuQmCC\" style=\"clip-path:url(#clipPath2);\" height=\"840\" preserveAspectRatio=\"none\"\n",
       "    /></g\n",
       "  ></g\n",
       "></svg\n",
       ">\n"
      ]
     },
     "metadata": {
      "filenames": {
       "image/svg+xml": "/Users/cpjobling/code/src/github.com/cpjobling/eg-247-textbook/_build/jupyter_execute/dt_systems/4/dt_models_107_0.svg"
      }
     },
     "output_type": "display_data"
    }
   ],
   "source": [
    "step(Hz)"
   ]
  },
  {
   "cell_type": "markdown",
   "id": "98a5cd79",
   "metadata": {
    "slideshow": {
     "slide_type": "subslide"
    }
   },
   "source": [
    "#### Algorithm\n",
    "\n",
    "From previous result:\n",
    "\n",
    "$$H(z) = \\frac{Y(z)}{U(z)} = \\frac{486.6\\times 10^{-6}z +  476.5\\times 10^{-6}}{z^2 - 1.956z + 0.9567}$$\n",
    "\n",
    "Dividing top and bottom by $z^2$ ..."
   ]
  },
  {
   "cell_type": "markdown",
   "id": "84d1a6ff",
   "metadata": {
    "slideshow": {
     "slide_type": "fragment"
    }
   },
   "source": [
    "$$H(z) = \\frac{Y(z)}{U(z)} = \\frac{486.6\\times 10^{-6}z^{-1} +  476.5\\times 10^{-6}z^{-2}}{1 - 1.956z^{-1} + 0.9567z^{-2}}$$"
   ]
  },
  {
   "cell_type": "markdown",
   "id": "d35cf03f",
   "metadata": {
    "slideshow": {
     "slide_type": "subslide"
    }
   },
   "source": [
    "expanding out ...\n",
    "\n",
    "$$\\begin{array}{l}\n",
    "Y(z) - 1.956{z^{ - 1}}Y(z) + 0.9567{z^{ - 2}}Y(z) = \\\\\n",
    "\\quad 486.6 \\times {10^{ - 6}}{z^{ - 1}}U(z) + 476.5 \\times {10^{ - 6}}{z^{ - 2}}U(z)\n",
    "\\end{array}$$"
   ]
  },
  {
   "cell_type": "markdown",
   "id": "506ecb6c",
   "metadata": {
    "slideshow": {
     "slide_type": "subslide"
    }
   },
   "source": [
    "Inverse z-transform gives ...\n",
    "\n",
    "$$\\begin{array}{l}\n",
    "y[n] - 1.956y[n - 1] + 0.9567y[n - 2] = \\\\\n",
    "\\quad 486.6 \\times {10^{ - 6}}u[n - 1] + 476.5 \\times {10^{ - 6}}u[n - 2]\n",
    "\\end{array}$$"
   ]
  },
  {
   "cell_type": "markdown",
   "id": "cc9fc15c",
   "metadata": {
    "slideshow": {
     "slide_type": "fragment"
    }
   },
   "source": [
    "in algorithmic form (compute $y[n]$ from past values of $u$ and $y$) ...\n",
    "\n",
    "$$\\begin{array}{l}\n",
    "y[n] = 1.956y[n - 1] - 0.9567y[n - 2] + 486.6 \\times {10^{ - 6}}u[n - 1] + ...\\\\\n",
    "\\quad 476.5 \\times {10^{ - 6}}u[n - 2]\n",
    "\\end{array}$$"
   ]
  },
  {
   "cell_type": "markdown",
   "id": "75f16655",
   "metadata": {
    "slideshow": {
     "slide_type": "subslide"
    }
   },
   "source": [
    "#### Block Diagram of the digital BW filter\n",
    "\n",
    "![digital filter](pictures/digifilter-bd.png)"
   ]
  },
  {
   "cell_type": "markdown",
   "id": "80029d93",
   "metadata": {
    "slideshow": {
     "slide_type": "subslide"
    }
   },
   "source": [
    "#### As Simulink Model\n",
    "\n",
    "[digifilter.slx](https://cpjobling.github.io/eg-247-textbook/dt_systems/4/matlab/digifilter.slx)"
   ]
  },
  {
   "cell_type": "code",
   "execution_count": 23,
   "id": "3a44f429",
   "metadata": {
    "slideshow": {
     "slide_type": "fragment"
    }
   },
   "outputs": [],
   "source": [
    "open digifilter"
   ]
  },
  {
   "cell_type": "markdown",
   "id": "56834299",
   "metadata": {
    "slideshow": {
     "slide_type": "subslide"
    }
   },
   "source": [
    "#### Convert to code\n",
    "\n",
    "To implement:\n",
    "\n",
    "$$y[n] = 1.956 y[n-1] - 0.9567 y[n - 2] + 486.6\\times 10^{-6} u[n-1] + 476.5\\times 10^{-6} u[n-2]$$"
   ]
  },
  {
   "cell_type": "markdown",
   "id": "494cb368",
   "metadata": {
    "slideshow": {
     "slide_type": "subslide"
    }
   },
   "source": [
    "    /* Initialize */\n",
    "    Ts = 2.4933e-07; /* more probably some fraction of clock speed */\n",
    "    ynm1 = 0; ynm2 = 0; unm1 = 0; unm2 = 0;\n",
    "    while (true) {\n",
    "        un = read_adc;\n",
    "        yn = 1.956*ynm1 - 0.9567*ynm2 + 486.6e-6*unm1 + 476.5e-6*unm2;\n",
    "        write_dac(yn);\n",
    "        /* store past values */\n",
    "        ynm2 = ynm1; ynm1 = yn;\n",
    "        unm2 = unm1; unm1 = un;\n",
    "        wait(Ts);\n",
    "    }"
   ]
  },
  {
   "cell_type": "markdown",
   "id": "13abb085",
   "metadata": {
    "slideshow": {
     "slide_type": "notes"
    }
   },
   "source": [
    "#### Comments\n",
    "\n",
    "PC soundcards can sample audio at 44.1 kHz so this implies that the anti-aliasing filter is much sharper than this one as $f_s/2 = 22.05$ kHz.\n",
    "\n",
    "You might wish to find out what order butterworth filter would be needed to have $f_c = 20$ kHz and $f_{\\mathrm{stop}}$ of 22.05 kHz."
   ]
  },
  {
   "cell_type": "markdown",
   "id": "cebc6354",
   "metadata": {
    "slideshow": {
     "slide_type": "slide"
    }
   },
   "source": [
    "## Summary\n",
    "\n",
    "* Discrete Time Systems\n",
    "* Transfer Functions in the Z-Domain\n",
    "* Modelling digital systems in MATLAB/Simulink\n",
    "* Continuous System Equivalents\n",
    "* In-class demonstration: Digital Butterworth Filter"
   ]
  },
  {
   "cell_type": "markdown",
   "id": "8e912900",
   "metadata": {},
   "source": [
    "## Reference\n",
    "\n",
    "```{bibliography}\n",
    ":filter: docname in docnames\n",
    "```"
   ]
  },
  {
   "cell_type": "markdown",
   "id": "132c250f",
   "metadata": {
    "slideshow": {
     "slide_type": "notes"
    }
   },
   "source": [
    "## Solutions to Example 5"
   ]
  },
  {
   "cell_type": "markdown",
   "id": "f050b75c",
   "metadata": {
    "slideshow": {
     "slide_type": "notes"
    }
   },
   "source": [
    "### Solution to 5.1.\n",
    "\n",
    "The transfer function is\n",
    "\n",
    "$$H(z) = \\frac{Y(z)}{X(z)} = \\frac{z^2 + z}{z^2 - 0.5z + 0.125}$$"
   ]
  },
  {
   "cell_type": "markdown",
   "id": "4f561f42",
   "metadata": {
    "slideshow": {
     "slide_type": "notes"
    }
   },
   "source": [
    "### Solution to 5.2.\n",
    "\n",
    "The DT impulse response:\n",
    "\n",
    "$$h[n] = \\left( \\frac{\\sqrt 2}{4} \\right)^n{\\left( \\cos \\left( \\frac{n\\pi}{4} \\right) + 5\\sin \\left( \\frac{n\\pi}{4} \\right) \\right)}$$"
   ]
  },
  {
   "cell_type": "markdown",
   "id": "23f47c81",
   "metadata": {
    "slideshow": {
     "slide_type": "notes"
    }
   },
   "source": [
    "### Solution to 5.3.\n",
    "\n",
    "Step response:\n",
    "\n",
    "$$y[n] = \\left(3.2 - \\left( \\frac{\\sqrt 2}{4} \\right)^n\\left( 2.2 \\cos \\left( \\frac{n\\pi}{4} \\right) + 0.6\\sin \\left(\\frac{n\\pi}{4} \\right) \\right)\\right) u_0[n]$$"
   ]
  }
 ],
 "metadata": {
  "jupytext": {
   "formats": "ipynb,md:myst",
   "text_representation": {
    "extension": ".md",
    "format_name": "myst",
    "format_version": 0.13,
    "jupytext_version": "1.11.5"
   }
  },
  "kernelspec": {
   "display_name": "MATLAB",
   "language": "matlab",
   "name": "imatlab"
  },
  "language_info": {
   "codemirror_mode": "octave",
   "file_extension": ".m",
   "mimetype": "text/x-matlab",
   "name": "matlab",
   "nbconvert_exporter": "imatlab._exporter.MatlabExporter",
   "pygments_lexer": "matlab",
   "version": "9.11.0.1873467 (R2021b) Update 3"
  },
  "source_map": [
   15,
   19,
   31,
   39,
   43,
   47,
   51,
   55,
   59,
   63,
   74,
   80,
   84,
   88,
   92,
   98,
   102,
   108,
   114,
   118,
   130,
   140,
   144,
   148,
   159,
   164,
   170,
   175,
   181,
   187,
   193,
   199,
   205,
   215,
   223,
   229,
   253,
   261,
   285,
   289,
   301,
   305,
   311,
   317,
   321,
   325,
   329,
   333,
   337,
   341,
   346,
   350,
   362,
   366,
   374,
   380,
   384,
   390,
   397,
   401,
   405,
   429,
   435,
   439,
   445,
   450,
   454,
   460,
   469,
   477,
   490,
   498,
   506,
   512,
   519,
   523,
   527,
   531,
   535,
   544,
   550,
   558,
   566,
   575,
   581,
   587,
   595,
   599,
   605,
   609,
   617,
   621,
   627,
   636,
   644,
   648,
   656,
   662,
   666,
   670,
   678,
   684,
   688,
   696,
   700,
   706,
   710,
   714,
   718,
   728,
   732,
   741,
   750,
   759,
   765,
   771,
   779,
   787,
   802,
   810,
   820,
   828,
   832,
   840,
   848
  ]
 },
 "nbformat": 4,
 "nbformat_minor": 5
}