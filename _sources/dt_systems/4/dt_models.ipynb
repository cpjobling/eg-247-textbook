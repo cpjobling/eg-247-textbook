{
 "cells": [
  {
   "cell_type": "markdown",
   "id": "d2fac384",
   "metadata": {
    "slideshow": {
     "slide_type": "slide"
    }
   },
   "source": [
    "# Models of Discrete-Time Systems"
   ]
  },
  {
   "cell_type": "markdown",
   "id": "1eac49a7",
   "metadata": {},
   "source": [
    "## Colophon\n",
    "\n",
    "An annotatable worksheet for this presentation is available as [**Worksheet 17**](worksheet17).\n",
    "\n",
    "* The [Jupytext](https://jupytext.readthedocs.io/en/latest/index.html) source code for this page is [dt_systems/4/dt_models.md](https://github.com/cpjobling/eg-247-textbook/blob/master/dt_systems/4/dt_models.ipynb).\n",
    "\n",
    "* You can view the notes for this presentation as a webpage ([HTML](https://cpjobling.github.io/eg-247-textbook/dt_systems/4/dt_models.html)). \n",
    "\n",
    "* This page is downloadable as a [PDF](https://cpjobling.github.io/eg-247-textbook/dt_systems/4/dt_models.pdf) file."
   ]
  },
  {
   "cell_type": "markdown",
   "id": "6f4cbb31",
   "metadata": {
    "slideshow": {
     "slide_type": "slide"
    }
   },
   "source": [
    "## Scope and Background Reading\n",
    "\n",
    "In this section we will explore digital systems and learn more about the z-transfer function model.\n",
    "\n",
    "The material in this presentation and notes is based on Chapter 9 (Starting at [Section 9.7](https://ebookcentral.proquest.com/lib/swansea-ebooks/reader.action?docID=3384197&ppg=363)) of {cite}`karris`. I have skipped the section on digital state-space models."
   ]
  },
  {
   "cell_type": "markdown",
   "id": "33c081e2",
   "metadata": {
    "slideshow": {
     "slide_type": "slide"
    }
   },
   "source": [
    "## Agenda"
   ]
  },
  {
   "cell_type": "markdown",
   "id": "4b4554b1",
   "metadata": {
    "slideshow": {
     "slide_type": "fragment"
    }
   },
   "source": [
    "* [Discrete Time Systems](dtsystems)"
   ]
  },
  {
   "cell_type": "markdown",
   "id": "02708ed0",
   "metadata": {
    "slideshow": {
     "slide_type": "fragment"
    }
   },
   "source": [
    "* [Transfer Functions in the Z-Domain](tf)"
   ]
  },
  {
   "cell_type": "markdown",
   "id": "e5297f83",
   "metadata": {
    "slideshow": {
     "slide_type": "fragment"
    }
   },
   "source": [
    "* [Modelling digital systems in Matlab/Simulink](simulink)"
   ]
  },
  {
   "cell_type": "markdown",
   "id": "ef4586ed",
   "metadata": {
    "slideshow": {
     "slide_type": "fragment"
    }
   },
   "source": [
    "* [Converting Continuous Time Systems to Discrete Time Systems](cse)"
   ]
  },
  {
   "cell_type": "markdown",
   "id": "23fb1069",
   "metadata": {
    "slideshow": {
     "slide_type": "fragment"
    }
   },
   "source": [
    "* [Example: Digital Butterworth Filter](demo)"
   ]
  },
  {
   "cell_type": "markdown",
   "id": "e4bc7243",
   "metadata": {
    "slideshow": {
     "slide_type": "slide"
    }
   },
   "source": [
    "(dtsystems)=\n",
    "## Discrete Time Systems\n",
    "\n",
    "In the lecture that introduced the z-transform we talked about the representation of a discrete-time (DT) system by the model shown below:\n",
    "\n",
    "![DT System](./pictures/ct-to-dt.png)\n",
    "\n",
    "In this session, we want to explore the contents of the central block."
   ]
  },
  {
   "cell_type": "markdown",
   "id": "7c681318",
   "metadata": {
    "slideshow": {
     "slide_type": "subslide"
    }
   },
   "source": [
    "### DT System as a Sequence Processor\n",
    "\n",
    "* As noted in the previous slide, the discrete time system (DTS) `takes as an input the sequence $x_d[n]$<sup>1</sup> which in a physical signal would be obtained by sampling the continuous time signal $x(t)$ using an analogue to digital converter (ADC)."
   ]
  },
  {
   "cell_type": "markdown",
   "id": "16e960b2",
   "metadata": {
    "slideshow": {
     "slide_type": "fragment"
    }
   },
   "source": [
    "* It produces another sequence $y_d[n]$ by *processing* the input sequence in some way."
   ]
  },
  {
   "cell_type": "markdown",
   "id": "06ee7ea1",
   "metadata": {
    "slideshow": {
     "slide_type": "fragment"
    }
   },
   "source": [
    "* The output sequence is converted into an analogue signal $y(t)$ by a digital to analogue converter (DAC)."
   ]
  },
  {
   "cell_type": "markdown",
   "id": "bf8be84f",
   "metadata": {
    "slideshow": {
     "slide_type": "fragment"
    }
   },
   "source": [
    "![DT System as a Sequence Processor](./pictures/sigs.png)"
   ]
  },
  {
   "cell_type": "markdown",
   "id": "1141384f",
   "metadata": {
    "slideshow": {
     "slide_type": "subslide"
    }
   },
   "source": [
    "### What is the nature of the DTS?\n",
    "\n",
    "* The discrete time system (DTS) is a block that converts a sequence $x_d[n]$ into another sequence $y_d[n]$"
   ]
  },
  {
   "cell_type": "markdown",
   "id": "84c1e086",
   "metadata": {
    "slideshow": {
     "slide_type": "fragment"
    }
   },
   "source": [
    "* The transformation will be a *difference equation* $h[n]$"
   ]
  },
  {
   "cell_type": "markdown",
   "id": "c1a93ce4",
   "metadata": {
    "slideshow": {
     "slide_type": "fragment"
    }
   },
   "source": [
    "* By analogy with CT systems, $h[n]$ is the impulse response of the DTS, and $y[n]$ can be obtained by *convolving* $h[n]$ with $x_d[n]$ so:\n",
    "\n",
    "$$y_d[n] = h[n] * x_d[n]$$"
   ]
  },
  {
   "cell_type": "markdown",
   "id": "52167f08",
   "metadata": {
    "slideshow": {
     "slide_type": "subslide"
    }
   },
   "source": [
    "* Taking the z-transform of $h[n]$ we get $H(z)$, and from the transform properties, convolution of the signal $x_d[n]$ by system $h[n]$ will be *multiplication* of the z-transforms:\n",
    "\n",
    "$$Y_d(z) = H(z) X_d(z)$$"
   ]
  },
  {
   "cell_type": "markdown",
   "id": "e2c9984d",
   "metadata": {
    "slideshow": {
     "slide_type": "fragment"
    }
   },
   "source": [
    "* So, what does $h[n]$ and therefore $H(z)$ look like?"
   ]
  },
  {
   "cell_type": "markdown",
   "id": "b0afea80",
   "metadata": {
    "slideshow": {
     "slide_type": "slide"
    }
   },
   "source": [
    "(tf)=\n",
    "## Transfer Functions in the Z-Domain\n",
    "\n",
    "Let us assume that the sequence transformation is a *difference equation* of the form<sup>2</sup>:\n",
    "\n",
    "$$\\begin{array}{l}\n",
    "y[n] + {a_1}y[n - 1] + {a_2}y[n - 2] +  \\cdots  + {a_k}y[n - k]\\\\\n",
    "\\quad  = {b_0}x[n] + {b_1}u[n - 1] + {b_2}u[n - 2] +  \\cdots  + {b_k}u[n - k]\n",
    "\\end{array}$$"
   ]
  },
  {
   "cell_type": "markdown",
   "id": "9767cca7",
   "metadata": {
    "slideshow": {
     "slide_type": "subslide"
    }
   },
   "source": [
    "### Take Z-Transform of both sides\n",
    "\n",
    "From the z-transform properties\n",
    "\n",
    "$$f[n-m] \\Leftrightarrow z^{-m}F(z)$$\n",
    "\n",
    "so...."
   ]
  },
  {
   "cell_type": "markdown",
   "id": "320783bb",
   "metadata": {
    "slideshow": {
     "slide_type": "fragment"
    }
   },
   "source": [
    "$$Y(z) + a_1z^{-1}Y(z) + a_2z^{-2}Y(z) + \\cdots + a_kz^{-k}Y(z) = ...$$"
   ]
  },
  {
   "cell_type": "markdown",
   "id": "2cc6d51e",
   "metadata": {
    "slideshow": {
     "slide_type": "fragment"
    }
   },
   "source": [
    "$$b_0 U(z) + b_1z^{-1}U(z) + b_2z^{-2}U(z) + \\cdots + b_kz^{-k}U(z)$$"
   ]
  },
  {
   "cell_type": "markdown",
   "id": "2c0e68a8",
   "metadata": {
    "slideshow": {
     "slide_type": "subslide"
    }
   },
   "source": [
    "### Gather terms\n",
    "\n",
    "$$\\begin{array}{l}\n",
    "\\left( 1 + {a_1} z^{-1} + {a_2} z^{-2} +  \\cdots {a_k} z^{-k} \\right)Y(z) = \\\\\n",
    "\\quad \\left( b_0 + b_1 z^{-1} + b_2 z^{- 2} +  \\cdots b_k z^{- k} \\right)U(z)\n",
    "\\end{array}$$\n",
    "\n",
    "from which ..."
   ]
  },
  {
   "cell_type": "markdown",
   "id": "5e95eff8",
   "metadata": {
    "slideshow": {
     "slide_type": "fragment"
    }
   },
   "source": [
    "$$Y(z) = \\left(\\frac{b_0 + b_{1}z^{-1} + b_{2}z^{-2} + \\cdots b_{k}z^{-k}}{1 + a_{1}z^{-1} + a_{2}z^{-2} + \\cdots a_{k}z^{-k}\n",
    "}\\right) U(z)$$"
   ]
  },
  {
   "cell_type": "markdown",
   "id": "0d6b66e4",
   "metadata": {
    "slideshow": {
     "slide_type": "subslide"
    }
   },
   "source": [
    "### Define transfer function\n",
    "\n",
    "We define the *discrete time transfer function* $H(z) := Y(z)/U(z)$ so..."
   ]
  },
  {
   "cell_type": "markdown",
   "id": "dd7ef654",
   "metadata": {
    "slideshow": {
     "slide_type": "fragment"
    }
   },
   "source": [
    "$$H(z) = \\frac{Y(z)}{U(z)} = \\frac{b_0 + b_{1}z^{-1} + b_{2}z^{-2} + \\cdots b_{k}z^{-k}}{1 + a_{1}z^{-1} + a_{2}z^{-2} + \\cdots a_{k}z^{-k}\n",
    "}$$"
   ]
  },
  {
   "cell_type": "markdown",
   "id": "8a971ebb",
   "metadata": {
    "slideshow": {
     "slide_type": "fragment"
    }
   },
   "source": [
    "... or more conventionally<sup>3</sup>:\n",
    "\n",
    "$$H(z) = \\frac{b_0z^k + b_{1}z^{k-1} + b_{2}z^{k-2} + \\cdots b_{k-1}z + b_{k}}{z^k + a_{1}z^{k-1} + a_{2}z^{k-2} + \\cdots a_{k-1} z + a_{k}}$$"
   ]
  },
  {
   "cell_type": "markdown",
   "id": "e1d90d7e",
   "metadata": {
    "slideshow": {
     "slide_type": "subslide"
    }
   },
   "source": [
    "### DT impulse response\n",
    "\n",
    "The *discrete-time impulse reponse* $h[n]$ is the response of the DT system to the input $x[n] = \\delta[n]$"
   ]
  },
  {
   "cell_type": "markdown",
   "id": "9cd6f44d",
   "metadata": {
    "slideshow": {
     "slide_type": "fragment"
    }
   },
   "source": [
    "Last week we showed that $$\\mathcal{Z}\\left\\{\\delta[n]\\right\\}$$ was defined by the transform pair \n",
    "\n",
    "$$\\delta[n] \\Leftrightarrow 1$$"
   ]
  },
  {
   "cell_type": "markdown",
   "id": "3992ab4f",
   "metadata": {
    "slideshow": {
     "slide_type": "subslide"
    }
   },
   "source": [
    "so \n",
    "\n",
    "$$h[n] = \\mathcal{Z}^{-1}\\left\\{H(z).1\\right\\} = \\mathcal{Z}^{-1}\\left\\{H(z)\\right\\}$$"
   ]
  },
  {
   "cell_type": "markdown",
   "id": "cdd4b424",
   "metadata": {
    "slideshow": {
     "slide_type": "subslide"
    }
   },
   "source": [
    "We will work through an example in class.\n",
    "\n",
    "[Skip next slide in Pre-Lecture]"
   ]
  },
  {
   "cell_type": "markdown",
   "id": "02e58192",
   "metadata": {
    "slideshow": {
     "slide_type": "subslide"
    }
   },
   "source": [
    "### Example 5\n",
    "\n",
    "Karris Example 9.10:\n",
    "\n",
    "The difference equation describing the input-output relationship of a DT system with zero initial conditions, is:\n",
    "\n",
    "$$y[n] - 0.5 y[n-1] + 0.125 y[n-2] = x[n] + x[n -1]$$"
   ]
  },
  {
   "cell_type": "markdown",
   "id": "aaa6b7c1",
   "metadata": {
    "slideshow": {
     "slide_type": "subslide"
    }
   },
   "source": [
    "Compute:\n",
    "\n",
    "1. The transfer function $H(z)$\n",
    "2. The DT impulse response $h[n]$\n",
    "3. The response $y[n]$ when the input $x[n]$ is the DT unit step $u_0[n]$"
   ]
  },
  {
   "cell_type": "markdown",
   "id": "c6f87590",
   "metadata": {
    "slideshow": {
     "slide_type": "subslide"
    }
   },
   "source": [
    "#### 5.1. The transfer function\n",
    "\n",
    "$$H(z) = \\frac{Y(z)}{U(z)} = ...?$$"
   ]
  },
  {
   "cell_type": "markdown",
   "id": "b1c1c3b5",
   "metadata": {
    "slideshow": {
     "slide_type": "notes"
    }
   },
   "source": [
    "<pre style=\"border: 2px solid blue\">\n",
    "\n",
    "\n",
    "\n",
    "\n",
    "\n",
    "\n",
    "\n",
    "\n",
    "\n",
    "\n",
    "\n",
    "\n",
    "\n",
    "\n",
    "\n",
    "\n",
    "\n",
    "\n",
    "\n",
    "</pre>"
   ]
  },
  {
   "cell_type": "markdown",
   "id": "83add455",
   "metadata": {
    "slideshow": {
     "slide_type": "subslide"
    }
   },
   "source": [
    "#### 5.2. The DT impulse response\n",
    "\n",
    "Start with:\n",
    "\n",
    "$$\\frac{H(z)}{z} = \\frac{z - 1}{z^2 + 0.5 z + 0.125}$$"
   ]
  },
  {
   "cell_type": "markdown",
   "id": "ba661921",
   "metadata": {
    "slideshow": {
     "slide_type": "notes"
    }
   },
   "source": [
    "<pre style=\"border: 2px solid blue\">\n",
    "\n",
    "\n",
    "\n",
    "\n",
    "\n",
    "\n",
    "\n",
    "\n",
    "\n",
    "\n",
    "\n",
    "\n",
    "\n",
    "\n",
    "\n",
    "\n",
    "\n",
    "\n",
    "\n",
    "</pre>"
   ]
  },
  {
   "cell_type": "markdown",
   "id": "b1bfa29f",
   "metadata": {
    "slideshow": {
     "slide_type": "subslide"
    }
   },
   "source": [
    "##### Matlab Solution"
   ]
  },
  {
   "cell_type": "code",
   "execution_count": 1,
   "id": "5acc80b0",
   "metadata": {
    "slideshow": {
     "slide_type": "fragment"
    }
   },
   "outputs": [
    {
     "name": "stdout",
     "output_type": "stream",
     "text": [
      "ans =\n",
      "    '/Users/eechris/code/src/github.com/cpjobling/eg-247-textbook/dt_systems/4/matlab'\n"
     ]
    }
   ],
   "source": [
    "clear all\n",
    "imatlab_export_fig('print-svg')  % Static svg figures.\n",
    "cd matlab\n",
    "pwd\n",
    "format compact"
   ]
  },
  {
   "cell_type": "markdown",
   "id": "62d7e431",
   "metadata": {
    "slideshow": {
     "slide_type": "fragment"
    }
   },
   "source": [
    "See [dtm_ex1_2.mlx](https://cpjobling.github.io/eg-247-textbook/dt_systems/4/matlab/dtm_ex1_2.mlx). (Also available as [dtm_ex1_2.m](https://cpjobling.github.io/eg-247-textbook/dt_systems/4/matlab/dtm_ex1_2.m).)"
   ]
  },
  {
   "cell_type": "markdown",
   "id": "9d0593f3",
   "metadata": {
    "slideshow": {
     "slide_type": "subslide"
    }
   },
   "source": [
    "The difference equation describing the input-output relationship of the DT system with zero initial conditions, is:\n",
    "\n",
    "$$y[n] - 0.5 y[n-1] + 0.125 y[n-2] = x[n] + x[n -1]$$"
   ]
  },
  {
   "cell_type": "markdown",
   "id": "29c49c39",
   "metadata": {
    "slideshow": {
     "slide_type": "subslide"
    }
   },
   "source": [
    "###### Transfer function\n",
    "\n",
    "Numerator $z^2 + z$"
   ]
  },
  {
   "cell_type": "code",
   "execution_count": 2,
   "id": "354104cc",
   "metadata": {},
   "outputs": [],
   "source": [
    "Nz = [1 1 0];"
   ]
  },
  {
   "cell_type": "markdown",
   "id": "c591a882",
   "metadata": {
    "slideshow": {
     "slide_type": "fragment"
    }
   },
   "source": [
    "Denominator $z^2 - 0.5 z + 0.125$"
   ]
  },
  {
   "cell_type": "code",
   "execution_count": 3,
   "id": "2fd12db3",
   "metadata": {},
   "outputs": [],
   "source": [
    "Dz = [1 -0.5 0.125];"
   ]
  },
  {
   "cell_type": "markdown",
   "id": "d570ced6",
   "metadata": {
    "slideshow": {
     "slide_type": "subslide"
    }
   },
   "source": [
    "###### Poles and residues"
   ]
  },
  {
   "cell_type": "code",
   "execution_count": 4,
   "id": "6cc13f1c",
   "metadata": {},
   "outputs": [
    {
     "name": "stdout",
     "output_type": "stream",
     "text": [
      "r =\n",
      "   0.7500 - 0.5000i\n",
      "   0.7500 + 0.5000i\n"
     ]
    },
    {
     "name": "stdout",
     "output_type": "stream",
     "text": [
      "p =\n",
      "   0.2500 + 0.2500i\n",
      "   0.2500 - 0.2500i\n"
     ]
    },
    {
     "name": "stdout",
     "output_type": "stream",
     "text": [
      "k =\n",
      "     1\n"
     ]
    }
   ],
   "source": [
    "[r,p,k] = residue(Nz,Dz)"
   ]
  },
  {
   "cell_type": "markdown",
   "id": "48e5fdc1",
   "metadata": {
    "slideshow": {
     "slide_type": "subslide"
    }
   },
   "source": [
    "###### Impulse Response"
   ]
  },
  {
   "cell_type": "code",
   "execution_count": 5,
   "id": "1801c8af",
   "metadata": {},
   "outputs": [
    {
     "name": "stdout",
     "output_type": "stream",
     "text": [
      "\n",
      "Hz =\n"
     ]
    },
    {
     "name": "stdout",
     "output_type": "stream",
     "text": [
      " \n"
     ]
    },
    {
     "name": "stdout",
     "output_type": "stream",
     "text": [
      "        z^2 + z\n"
     ]
    },
    {
     "name": "stdout",
     "output_type": "stream",
     "text": [
      "  -------------------\n"
     ]
    },
    {
     "name": "stdout",
     "output_type": "stream",
     "text": [
      "  z^2 - 0.5 z + 0.125\n"
     ]
    },
    {
     "name": "stdout",
     "output_type": "stream",
     "text": [
      " \n"
     ]
    },
    {
     "name": "stdout",
     "output_type": "stream",
     "text": [
      "Sample time: 1 seconds\n"
     ]
    },
    {
     "name": "stdout",
     "output_type": "stream",
     "text": [
      "Discrete-time transfer function.\n",
      "\n"
     ]
    }
   ],
   "source": [
    "Hz = tf(Nz,Dz,1)\n",
    "hn = impulse(Hz, 15);"
   ]
  },
  {
   "cell_type": "markdown",
   "id": "ab0d3224",
   "metadata": {
    "slideshow": {
     "slide_type": "subslide"
    }
   },
   "source": [
    "###### Plot the response"
   ]
  },
  {
   "cell_type": "code",
   "execution_count": 6,
   "id": "d3a6b54e",
   "metadata": {
    "slideshow": {
     "slide_type": "-"
    }
   },
   "outputs": [
    {
     "data": {
      "image/svg+xml": [
       "<?xml version=\"1.0\"?>\n",
       "<!DOCTYPE svg PUBLIC '-//W3C//DTD SVG 1.0//EN'\n",
       "          'http://www.w3.org/TR/2001/REC-SVG-20010904/DTD/svg10.dtd'>\n",
       "<svg xmlns:xlink=\"http://www.w3.org/1999/xlink\" style=\"fill-opacity:1; color-rendering:auto; color-interpolation:auto; text-rendering:auto; stroke:black; stroke-linecap:square; stroke-miterlimit:10; shape-rendering:auto; stroke-opacity:1; fill:black; stroke-dasharray:none; font-weight:normal; stroke-width:1; font-family:'Dialog'; font-style:normal; stroke-linejoin:miter; font-size:12px; stroke-dashoffset:0; image-rendering:auto;\" width=\"560\" height=\"420\" xmlns=\"http://www.w3.org/2000/svg\"\n",
       "><!--Generated by the Batik Graphics2D SVG Generator--><defs id=\"genericDefs\"\n",
       "  /><g\n",
       "  ><defs id=\"defs1\"\n",
       "    ><clipPath clipPathUnits=\"userSpaceOnUse\" id=\"clipPath1\"\n",
       "      ><path d=\"M0 0 L560 0 L560 420 L0 420 L0 0 Z\"\n",
       "      /></clipPath\n",
       "      ><font horiz-adv-x=\"50.0\" id=\"font1\"\n",
       "      ><font-face ascent=\"95.200005\" descent=\"21.3\" units-per-em=\"100\" style=\"font-style:normal; font-family:Helvetica Neue; font-weight:normal;\"\n",
       "        /><missing-glyph horiz-adv-x=\"50.0\" d=\"M40.9 66.6 L10.2 66.6 L10.2 4.7 L40.9 4.7 ZM46 71.2 L46 0.1 L5.1 0.1 L5.1 71.2 Z\"\n",
       "        /><glyph unicode=\"2\" horiz-adv-x=\"55.6\" d=\"M4.4 45.8 L12.9 45.8 Q12.8 49 13.55 52.15 Q14.3 55.3 16 57.8 Q17.7 60.3 20.35 61.85 Q23 63.4 26.7 63.4 Q29.5 63.4 32 62.5 Q34.5 61.6 36.35 59.9 Q38.2 58.2 39.3 55.85 Q40.4 53.5 40.4 50.6 Q40.4 46.9 39.25 44.1 Q38.1 41.3 35.85 38.9 Q33.6 36.5 30.2 34.15 Q26.8 31.8 22.3 29 Q18.6 26.8 15.2 24.3 Q11.8 21.8 9.1 18.5 Q6.4 15.2 4.65 10.75 Q2.9 6.3 2.4 0 L48.7 0 L48.7 7.5 L12.3 7.5 Q12.9 10.8 14.85 13.35 Q16.8 15.9 19.55 18.1 Q22.3 20.3 25.6 22.25 Q28.9 24.2 32.2 26.2 Q35.5 28.3 38.6 30.6 Q41.7 32.9 44.1 35.75 Q46.5 38.6 47.95 42.2 Q49.4 45.8 49.4 50.5 Q49.4 55.5 47.65 59.3 Q45.9 63.1 42.9 65.65 Q39.9 68.2 35.85 69.55 Q31.8 70.9 27.2 70.9 Q21.6 70.9 17.2 69 Q12.8 67.1 9.85 63.75 Q6.9 60.4 5.5 55.8 Q4.1 51.2 4.4 45.8 Z\"\n",
       "        /><glyph unicode=\".\" horiz-adv-x=\"27.8\" d=\"M8.3 11.1 L8.3 0 L19.4 0 L19.4 11.1 Z\"\n",
       "        /><glyph unicode=\"0\" horiz-adv-x=\"55.6\" d=\"M13.2 34.9 Q13.2 37.5 13.25 40.65 Q13.3 43.8 13.75 46.95 Q14.2 50.1 15.05 53.1 Q15.9 56.1 17.55 58.35 Q19.2 60.6 21.7 62 Q24.2 63.4 27.8 63.4 Q31.4 63.4 33.9 62 Q36.4 60.6 38.05 58.35 Q39.7 56.1 40.55 53.1 Q41.4 50.1 41.85 46.95 Q42.3 43.8 42.35 40.65 Q42.4 37.5 42.4 34.9 Q42.4 30.9 42.15 25.95 Q41.9 21 40.55 16.65 Q39.2 12.3 36.2 9.3 Q33.2 6.3 27.8 6.3 Q22.4 6.3 19.4 9.3 Q16.4 12.3 15.05 16.65 Q13.7 21 13.45 25.95 Q13.2 30.9 13.2 34.9 ZM4.2 34.8 Q4.2 30.9 4.4 26.7 Q4.6 22.5 5.4 18.5 Q6.2 14.5 7.7 10.95 Q9.2 7.4 11.8 4.7 Q14.4 2 18.35 0.45 Q22.3 -1.1 27.8 -1.1 Q33.4 -1.1 37.3 0.45 Q41.2 2 43.8 4.7 Q46.4 7.4 47.9 10.95 Q49.4 14.5 50.2 18.5 Q51 22.5 51.2 26.7 Q51.4 30.9 51.4 34.8 Q51.4 38.7 51.2 42.9 Q51 47.1 50.2 51.1 Q49.4 55.1 47.9 58.7 Q46.4 62.3 43.8 65 Q41.2 67.7 37.25 69.3 Q33.3 70.9 27.8 70.9 Q22.3 70.9 18.35 69.3 Q14.4 67.7 11.8 65 Q9.2 62.3 7.7 58.7 Q6.2 55.1 5.4 51.1 Q4.6 47.1 4.4 42.9 Q4.2 38.7 4.2 34.8 Z\"\n",
       "        /><glyph unicode=\"-\" horiz-adv-x=\"38.9\" d=\"M5 31.8 L5 23.8 L33.9 23.8 L33.9 31.8 Z\"\n",
       "        /><glyph unicode=\"4\" horiz-adv-x=\"55.6\" d=\"M33.9 24.1 L10.1 24.1 L33.7 58.8 L33.9 58.8 ZM41.9 24.1 L41.9 70.9 L35.1 70.9 L2.8 24.8 L2.8 16.6 L33.9 16.6 L33.9 0 L41.9 0 L41.9 16.6 L51.5 16.6 L51.5 24.1 Z\"\n",
       "        /><glyph unicode=\"6\" horiz-adv-x=\"55.6\" d=\"M41.4 52.8 L49.9 52.8 Q49.1 61.6 43.9 66.25 Q38.7 70.9 29.9 70.9 Q22.3 70.9 17.3 67.7 Q12.3 64.5 9.3 59.2 Q6.3 53.9 5.05 47.05 Q3.8 40.2 3.8 32.9 Q3.8 27.3 4.65 21.3 Q5.5 15.3 8.1 10.3 Q10.7 5.3 15.5 2.1 Q20.3 -1.1 28.2 -1.1 Q34.9 -1.1 39.45 1.15 Q44 3.4 46.75 6.85 Q49.5 10.3 50.7 14.5 Q51.9 18.7 51.9 22.6 Q51.9 27.5 50.4 31.7 Q48.9 35.9 46.15 39 Q43.4 42.1 39.35 43.85 Q35.3 45.6 30.2 45.6 Q24.4 45.6 19.95 43.4 Q15.5 41.2 12.5 36.3 L12.3 36.5 Q12.4 40.6 13.1 45.3 Q13.8 50 15.65 54.05 Q17.5 58.1 20.8 60.75 Q24.1 63.4 29.5 63.4 Q34.6 63.4 37.7 60.5 Q40.8 57.6 41.4 52.8 ZM28.6 38.1 Q32.2 38.1 34.9 36.8 Q37.6 35.5 39.4 33.35 Q41.2 31.2 42.05 28.25 Q42.9 25.3 42.9 22 Q42.9 18.9 41.95 16.05 Q41 13.2 39.2 11 Q37.4 8.8 34.75 7.55 Q32.1 6.3 28.6 6.3 Q25.1 6.3 22.35 7.55 Q19.6 8.8 17.75 10.9 Q15.9 13 14.9 15.9 Q13.9 18.8 13.9 22.1 Q13.9 25.4 14.85 28.35 Q15.8 31.3 17.7 33.45 Q19.6 35.6 22.3 36.85 Q25 38.1 28.6 38.1 Z\"\n",
       "        /><glyph unicode=\"8\" horiz-adv-x=\"55.6\" d=\"M15.5 52.5 Q15.5 55.2 16.5 57.2 Q17.5 59.2 19.15 60.6 Q20.8 62 23.1 62.7 Q25.4 63.4 27.9 63.4 Q33.1 63.4 36.45 60.65 Q39.8 57.9 39.8 52.5 Q39.8 47.1 36.5 44.1 Q33.2 41.1 28.1 41.1 Q25.5 41.1 23.2 41.8 Q20.9 42.5 19.2 43.9 Q17.5 45.3 16.5 47.45 Q15.5 49.6 15.5 52.5 ZM6.5 52.8 Q6.5 48 9.2 43.95 Q11.9 39.9 16.4 38.1 Q10.4 36 7.2 31.35 Q4 26.7 4 20.4 Q4 15 5.85 10.95 Q7.7 6.9 10.95 4.2 Q14.2 1.5 18.6 0.2 Q23 -1.1 28.1 -1.1 Q33 -1.1 37.3 0.3 Q41.6 1.7 44.75 4.45 Q47.9 7.2 49.75 11.2 Q51.6 15.2 51.6 20.4 Q51.6 27 48.5 31.55 Q45.4 36.1 39 38.1 Q43.5 40.1 46.15 44.05 Q48.8 48 48.8 52.8 Q48.8 56.2 47.6 59.45 Q46.4 62.7 43.85 65.25 Q41.3 67.8 37.2 69.35 Q33.1 70.9 27.3 70.9 Q23.2 70.9 19.45 69.7 Q15.7 68.5 12.8 66.2 Q9.9 63.9 8.2 60.55 Q6.5 57.2 6.5 52.8 ZM13 20 Q13 23.1 14.15 25.6 Q15.3 28.1 17.35 29.9 Q19.4 31.7 22.15 32.65 Q24.9 33.6 28 33.6 Q31 33.6 33.65 32.55 Q36.3 31.5 38.3 29.7 Q40.3 27.9 41.45 25.45 Q42.6 23 42.6 20.1 Q42.6 17.1 41.55 14.6 Q40.5 12.1 38.55 10.25 Q36.6 8.4 33.95 7.35 Q31.3 6.3 28.1 6.3 Q21.5 6.3 17.25 9.95 Q13 13.6 13 20 Z\"\n",
       "        /><glyph unicode=\"1\" horiz-adv-x=\"55.6\" d=\"M35.6 0 L35.6 70.9 L29.1 70.9 Q28.4 66.9 26.5 64.3 Q24.6 61.7 21.85 60.2 Q19.1 58.7 15.7 58.15 Q12.3 57.6 8.7 57.6 L8.7 50.8 L27.1 50.8 L27.1 0 Z\"\n",
       "        /><glyph unicode=\"]\" horiz-adv-x=\"25.9\" d=\"M0 -12.9 L0 -19.7 L18.7 -19.7 L18.7 73.1 L0 73.1 L0 66.3 L10.7 66.3 L10.7 -12.9 Z\"\n",
       "        /><glyph unicode=\"[\" horiz-adv-x=\"25.9\" d=\"M25.9 66.3 L25.9 73.1 L7.2 73.1 L7.2 -19.7 L25.9 -19.7 L25.9 -12.9 L15.2 -12.9 L15.2 66.3 Z\"\n",
       "        /><glyph unicode=\"h\" horiz-adv-x=\"55.6\" d=\"M6.4 71.4 L6.4 0 L14.9 0 L14.9 29.2 Q14.9 32.7 15.85 35.65 Q16.8 38.6 18.7 40.8 Q20.6 43 23.45 44.2 Q26.3 45.4 30.2 45.4 Q35.1 45.4 37.9 42.6 Q40.7 39.8 40.7 35 L40.7 0 L49.2 0 L49.2 34 Q49.2 38.2 48.35 41.65 Q47.5 45.1 45.4 47.6 Q43.3 50.1 39.9 51.5 Q36.5 52.9 31.4 52.9 Q29.1 52.9 26.65 52.4 Q24.2 51.9 21.95 50.85 Q19.7 49.8 17.9 48.15 Q16.1 46.5 15.1 44.1 L14.9 44.1 L14.9 71.4 Z\"\n",
       "        /><glyph unicode=\"n\" horiz-adv-x=\"55.6\" d=\"M6.4 51.7 L6.4 0 L14.9 0 L14.9 29.2 Q14.9 32.7 15.85 35.65 Q16.8 38.6 18.7 40.8 Q20.6 43 23.45 44.2 Q26.3 45.4 30.2 45.4 Q35.1 45.4 37.9 42.6 Q40.7 39.8 40.7 35 L40.7 0 L49.2 0 L49.2 34 Q49.2 38.2 48.35 41.65 Q47.5 45.1 45.4 47.6 Q43.3 50.1 39.9 51.5 Q36.5 52.9 31.4 52.9 Q19.9 52.9 14.6 43.5 L14.4 43.5 L14.4 51.7 Z\"\n",
       "        /><glyph unicode=\"o\" horiz-adv-x=\"57.4\" d=\"M12.6 25.8 Q12.6 30.5 13.85 34.15 Q15.1 37.8 17.3 40.3 Q19.5 42.8 22.45 44.1 Q25.4 45.4 28.7 45.4 Q32 45.4 34.95 44.1 Q37.9 42.8 40.1 40.3 Q42.3 37.8 43.55 34.15 Q44.8 30.5 44.8 25.8 Q44.8 21.1 43.55 17.45 Q42.3 13.8 40.1 11.35 Q37.9 8.9 34.95 7.6 Q32 6.3 28.7 6.3 Q25.4 6.3 22.45 7.6 Q19.5 8.9 17.3 11.35 Q15.1 13.8 13.85 17.45 Q12.6 21.1 12.6 25.8 ZM3.6 25.8 Q3.6 20.1 5.2 15.2 Q6.8 10.3 10 6.65 Q13.2 3 17.9 0.95 Q22.6 -1.1 28.7 -1.1 Q34.9 -1.1 39.55 0.95 Q44.2 3 47.4 6.65 Q50.6 10.3 52.2 15.2 Q53.8 20.1 53.8 25.8 Q53.8 31.5 52.2 36.45 Q50.6 41.4 47.4 45.05 Q44.2 48.7 39.55 50.8 Q34.9 52.9 28.7 52.9 Q22.6 52.9 17.9 50.8 Q13.2 48.7 10 45.05 Q6.8 41.4 5.2 36.45 Q3.6 31.5 3.6 25.8 Z\"\n",
       "        /><glyph unicode=\"r\" horiz-adv-x=\"33.3\" d=\"M6.1 51.7 L6.1 0 L14.6 0 L14.6 23 Q14.6 28 15.6 31.85 Q16.6 35.7 18.8 38.4 Q21 41.1 24.6 42.5 Q28.2 43.9 33.3 43.9 L33.3 52.9 Q26.4 53.1 21.9 50.1 Q17.4 47.1 14.3 40.8 L14.1 40.8 L14.1 51.7 Z\"\n",
       "        /><glyph unicode=\" \" horiz-adv-x=\"27.8\" d=\"\"\n",
       "        /><glyph unicode=\"e\" horiz-adv-x=\"53.7\" d=\"M42.3 30.8 L12.6 30.8 Q12.8 33.8 13.9 36.45 Q15 39.1 16.9 41.1 Q18.8 43.1 21.45 44.25 Q24.1 45.4 27.4 45.4 Q30.6 45.4 33.25 44.25 Q35.9 43.1 37.85 41.15 Q39.8 39.2 40.95 36.5 Q42.1 33.8 42.3 30.8 ZM50.5 16.4 L42.1 16.4 Q41 11.3 37.55 8.8 Q34.1 6.3 28.7 6.3 Q24.5 6.3 21.4 7.7 Q18.3 9.1 16.3 11.45 Q14.3 13.8 13.4 16.85 Q12.5 19.9 12.6 23.3 L51.3 23.3 Q51.5 28 50.45 33.2 Q49.4 38.4 46.65 42.8 Q43.9 47.2 39.35 50.05 Q34.8 52.9 27.9 52.9 Q22.6 52.9 18.15 50.9 Q13.7 48.9 10.45 45.3 Q7.2 41.7 5.4 36.8 Q3.6 31.9 3.6 26 Q3.8 20.1 5.35 15.1 Q6.9 10.1 10 6.5 Q13.1 2.9 17.65 0.9 Q22.2 -1.1 28.4 -1.1 Q37.2 -1.1 43 3.3 Q48.8 7.7 50.5 16.4 Z\"\n",
       "        /><glyph unicode=\"s\" horiz-adv-x=\"50.0\" d=\"M11.6 16.3 L3.1 16.3 Q3.3 11.5 5.1 8.15 Q6.9 4.8 9.9 2.75 Q12.9 0.7 16.8 -0.2 Q20.7 -1.1 25 -1.1 Q28.9 -1.1 32.85 -0.35 Q36.8 0.4 39.95 2.3 Q43.1 4.2 45.05 7.3 Q47 10.4 47 15.1 Q47 18.8 45.55 21.3 Q44.1 23.8 41.75 25.45 Q39.4 27.1 36.35 28.1 Q33.3 29.1 30.1 29.8 Q27.1 30.5 24.1 31.15 Q21.1 31.8 18.7 32.75 Q16.3 33.7 14.75 35.15 Q13.2 36.6 13.2 38.8 Q13.2 40.8 14.2 42.05 Q15.2 43.3 16.8 44.05 Q18.4 44.8 20.35 45.1 Q22.3 45.4 24.2 45.4 Q26.3 45.4 28.35 44.95 Q30.4 44.5 32.1 43.5 Q33.8 42.5 34.9 40.85 Q36 39.2 36.2 36.7 L44.7 36.7 Q44.4 41.4 42.7 44.55 Q41 47.7 38.15 49.55 Q35.3 51.4 31.6 52.15 Q27.9 52.9 23.5 52.9 Q20.1 52.9 16.65 52.05 Q13.2 51.2 10.45 49.45 Q7.7 47.7 5.95 44.9 Q4.2 42.1 4.2 38.2 Q4.2 33.2 6.7 30.4 Q9.2 27.6 12.95 26.05 Q16.7 24.5 21.1 23.65 Q25.5 22.8 29.25 21.75 Q33 20.7 35.5 19 Q38 17.3 38 14 Q38 11.6 36.8 10.05 Q35.6 8.5 33.75 7.7 Q31.9 6.9 29.7 6.6 Q27.5 6.3 25.5 6.3 Q22.9 6.3 20.45 6.8 Q18 7.3 16.05 8.45 Q14.1 9.6 12.9 11.55 Q11.7 13.5 11.6 16.3 Z\"\n",
       "        /><glyph unicode=\"l\" horiz-adv-x=\"22.2\" d=\"M6.9 71.4 L6.9 0 L15.4 0 L15.4 71.4 Z\"\n",
       "        /><glyph unicode=\"u\" horiz-adv-x=\"55.6\" d=\"M49.2 0 L49.2 51.7 L40.7 51.7 L40.7 22.5 Q40.7 19 39.75 16.05 Q38.8 13.1 36.9 10.9 Q35 8.7 32.15 7.5 Q29.3 6.3 25.4 6.3 Q20.5 6.3 17.7 9.1 Q14.9 11.9 14.9 16.7 L14.9 51.7 L6.4 51.7 L6.4 17.7 Q6.4 13.5 7.25 10.05 Q8.1 6.6 10.2 4.1 Q12.3 1.6 15.7 0.25 Q19.1 -1.1 24.2 -1.1 Q29.9 -1.1 34.1 1.15 Q38.3 3.4 41 8.2 L41.2 8.2 L41.2 0 Z\"\n",
       "        /><glyph unicode=\"p\" horiz-adv-x=\"59.3\" d=\"M6.7 51.7 L6.7 -19.7 L15.2 -19.7 L15.2 6.9 L15.4 6.9 Q16.8 4.6 18.85 3.05 Q20.9 1.5 23.2 0.6 Q25.5 -0.3 27.85 -0.7 Q30.2 -1.1 32.1 -1.1 Q38 -1.1 42.45 1 Q46.9 3.1 49.85 6.75 Q52.8 10.4 54.25 15.3 Q55.7 20.2 55.7 25.7 Q55.7 31.2 54.2 36.1 Q52.7 41 49.75 44.75 Q46.8 48.5 42.35 50.7 Q37.9 52.9 31.9 52.9 Q26.5 52.9 22 50.95 Q17.5 49 15.4 44.7 L15.2 44.7 L15.2 51.7 ZM46.7 26.3 Q46.7 22.5 45.9 18.9 Q45.1 15.3 43.3 12.5 Q41.5 9.7 38.55 8 Q35.6 6.3 31.2 6.3 Q26.8 6.3 23.7 7.95 Q20.6 9.6 18.65 12.3 Q16.7 15 15.8 18.55 Q14.9 22.1 14.9 25.9 Q14.9 29.5 15.75 33 Q16.6 36.5 18.5 39.25 Q20.4 42 23.4 43.7 Q26.4 45.4 30.7 45.4 Q34.8 45.4 37.85 43.8 Q40.9 42.2 42.85 39.5 Q44.8 36.8 45.75 33.35 Q46.7 29.9 46.7 26.3 Z\"\n",
       "        /><glyph unicode=\"m\" horiz-adv-x=\"85.3\" d=\"M6.4 51.7 L6.4 0 L14.9 0 L14.9 32.2 Q14.9 33.7 15.65 35.95 Q16.4 38.2 18.05 40.3 Q19.7 42.4 22.35 43.9 Q25 45.4 28.7 45.4 Q31.6 45.4 33.45 44.55 Q35.3 43.7 36.4 42.15 Q37.5 40.6 37.95 38.5 Q38.4 36.4 38.4 33.9 L38.4 0 L46.9 0 L46.9 32.2 Q46.9 38.2 50.5 41.8 Q54.1 45.4 60.4 45.4 Q63.5 45.4 65.45 44.5 Q67.4 43.6 68.5 42.05 Q69.6 40.5 70 38.4 Q70.4 36.3 70.4 33.9 L70.4 0 L78.9 0 L78.9 37.9 Q78.9 41.9 77.65 44.75 Q76.4 47.6 74.15 49.4 Q71.9 51.2 68.75 52.05 Q65.6 52.9 61.7 52.9 Q56.6 52.9 52.35 50.6 Q48.1 48.3 45.5 44.1 Q43.9 48.9 40 50.9 Q36.1 52.9 31.3 52.9 Q20.4 52.9 14.6 44.1 L14.4 44.1 L14.4 51.7 Z\"\n",
       "        /><glyph unicode=\"I\" horiz-adv-x=\"25.9\" d=\"M8.2 71.4 L8.2 0 L17.7 0 L17.7 71.4 Z\"\n",
       "        /><glyph unicode=\"5\" horiz-adv-x=\"55.6\" d=\"M47 62.2 L47 69.7 L12 69.7 L5.4 32.9 L12.7 32.5 Q15.2 35.5 18.45 37.35 Q21.7 39.2 25.9 39.2 Q29.5 39.2 32.45 38 Q35.4 36.8 37.5 34.65 Q39.6 32.5 40.75 29.55 Q41.9 26.6 41.9 23.1 Q41.9 18.9 40.7 15.75 Q39.5 12.6 37.45 10.5 Q35.4 8.4 32.65 7.35 Q29.9 6.3 26.9 6.3 Q23.7 6.3 21.05 7.25 Q18.4 8.2 16.45 9.95 Q14.5 11.7 13.35 14.05 Q12.2 16.4 12 19.1 L3.5 19.1 Q3.6 14.3 5.4 10.5 Q7.2 6.7 10.3 4.15 Q13.4 1.6 17.45 0.25 Q21.5 -1.1 26.1 -1.1 Q32.3 -1.1 36.95 0.85 Q41.6 2.8 44.7 6.1 Q47.8 9.4 49.35 13.65 Q50.9 17.9 50.9 22.4 Q50.9 28.5 49.1 33.05 Q47.3 37.6 44.2 40.65 Q41.1 43.7 36.9 45.2 Q32.7 46.7 28 46.7 Q24.4 46.7 20.75 45.45 Q17.1 44.2 14.8 41.6 L14.6 41.8 L18.4 62.2 Z\"\n",
       "      /></font\n",
       "      ><font horiz-adv-x=\"50.0\" id=\"font2\"\n",
       "      ><font-face ascent=\"97.5\" descent=\"21.699999\" units-per-em=\"100\" style=\"font-style:normal; font-family:Helvetica Neue; font-weight:bold;\"\n",
       "        /><missing-glyph horiz-adv-x=\"50.0\" d=\"M39.1 60.7 L11.1 60.7 L11.1 9.5 L39.1 9.5 ZM48.2 69.8 L48.2 0.3 L1.7 0.3 L1.7 69.8 Z\"\n",
       "        /><glyph unicode=\"2\" horiz-adv-x=\"55.6\" d=\"M3.7 43.1 L17.3 43.1 Q17.3 45.9 17.85 48.75 Q18.4 51.6 19.7 53.95 Q21 56.3 23.15 57.75 Q25.3 59.2 28.4 59.2 Q33 59.2 35.95 56.35 Q38.9 53.5 38.9 48.4 Q38.9 45.2 37.45 42.7 Q36 40.2 33.85 38.2 Q31.7 36.2 29.1 34.55 Q26.5 32.9 24.2 31.3 Q19.7 28.2 15.65 25.2 Q11.6 22.2 8.6 18.65 Q5.6 15.1 3.85 10.6 Q2.1 6.1 2.1 0 L53.5 0 L53.5 12.2 L20.4 12.2 Q23 15.8 26.4 18.5 Q29.8 21.2 33.4 23.55 Q37 25.9 40.55 28.3 Q44.1 30.7 46.9 33.65 Q49.7 36.6 51.4 40.4 Q53.1 44.2 53.1 49.5 Q53.1 54.6 51.15 58.7 Q49.2 62.8 45.9 65.6 Q42.6 68.4 38.25 69.9 Q33.9 71.4 29.1 71.4 Q22.8 71.4 17.95 69.25 Q13.1 67.1 9.9 63.25 Q6.7 59.4 5.1 54.25 Q3.5 49.1 3.7 43.1 Z\"\n",
       "        /><glyph unicode=\"t\" horiz-adv-x=\"35.2\" d=\"M23.4 51.7 L23.4 67.2 L9.2 67.2 L9.2 51.7 L0.6 51.7 L0.6 42.2 L9.2 42.2 L9.2 11.7 Q9.2 7.8 10.5 5.4 Q11.8 3 14.05 1.7 Q16.3 0.4 19.25 -0.05 Q22.2 -0.5 25.5 -0.5 Q27.6 -0.5 29.8 -0.4 Q32 -0.3 33.8 0 L33.8 11 Q32.8 10.8 31.7 10.7 Q30.6 10.6 29.4 10.6 Q25.8 10.6 24.6 11.8 Q23.4 13 23.4 16.6 L23.4 42.2 L33.8 42.2 L33.8 51.7 Z\"\n",
       "        /><glyph unicode=\"r\" horiz-adv-x=\"38.9\" d=\"M5.4 51.7 L5.4 0 L19.6 0 L19.6 23.3 Q19.6 26.8 20.3 29.8 Q21 32.8 22.65 35.05 Q24.3 37.3 27 38.6 Q29.7 39.9 33.6 39.9 Q34.9 39.9 36.3 39.75 Q37.7 39.6 38.7 39.4 L38.7 52.6 Q37 53.1 35.6 53.1 Q32.9 53.1 30.4 52.3 Q27.9 51.5 25.7 50.05 Q23.5 48.6 21.8 46.55 Q20.1 44.5 19.1 42.1 L18.9 42.1 L18.9 51.7 Z\"\n",
       "        /><glyph unicode=\"P\" horiz-adv-x=\"66.7\" d=\"M22.6 37.8 L22.6 59.2 L34.8 59.2 Q37.5 59.2 40 58.8 Q42.5 58.4 44.4 57.25 Q46.3 56.1 47.45 54 Q48.6 51.9 48.6 48.5 Q48.6 45.1 47.45 43 Q46.3 40.9 44.4 39.75 Q42.5 38.6 40 38.2 Q37.5 37.8 34.8 37.8 ZM6.9 71.4 L6.9 0 L22.6 0 L22.6 25.6 L39.1 25.6 Q45.8 25.6 50.5 27.55 Q55.2 29.5 58.15 32.7 Q61.1 35.9 62.45 40.05 Q63.8 44.2 63.8 48.5 Q63.8 52.9 62.45 57 Q61.1 61.1 58.15 64.3 Q55.2 67.5 50.5 69.45 Q45.8 71.4 39.1 71.4 Z\"\n",
       "        /><glyph unicode=\"-\" horiz-adv-x=\"40.7\" d=\"M5.3 33.4 L5.3 21.2 L35.4 21.2 L35.4 33.4 Z\"\n",
       "        /><glyph unicode=\"5\" horiz-adv-x=\"55.6\" d=\"M50 58.3 L50 70 L10.9 70 L4 31.3 L16.8 31.3 Q18.9 34.2 21.3 35.55 Q23.7 36.9 27.5 36.9 Q30.4 36.9 32.6 35.9 Q34.8 34.9 36.4 33.1 Q38 31.3 38.8 28.9 Q39.6 26.5 39.6 23.8 Q39.6 21.2 38.75 18.75 Q37.9 16.3 36.35 14.45 Q34.8 12.6 32.55 11.45 Q30.3 10.3 27.5 10.3 Q22.7 10.3 19.6 13.15 Q16.5 16 16 20.8 L1.8 20.8 Q1.9 15.3 4.05 11.15 Q6.2 7 9.8 4.2 Q13.4 1.4 18.05 0.05 Q22.7 -1.3 27.8 -1.3 Q33.1 -1.4 37.8 0.45 Q42.5 2.3 46.05 5.7 Q49.6 9.1 51.7 13.75 Q53.8 18.4 53.8 23.8 Q53.8 28.7 52.35 33.05 Q50.9 37.4 48.15 40.6 Q45.4 43.8 41.4 45.7 Q37.4 47.6 32.2 47.6 Q28 47.6 24.7 46.35 Q21.4 45.1 18.5 42.2 L18.3 42.4 L21.1 58.3 Z\"\n",
       "        /><glyph unicode=\" \" horiz-adv-x=\"27.8\" d=\"\"\n",
       "        /><glyph unicode=\"e\" horiz-adv-x=\"57.4\" d=\"M40.2 31.4 L17.1 31.4 Q17.2 32.9 17.75 34.8 Q18.3 36.7 19.65 38.4 Q21 40.1 23.25 41.25 Q25.5 42.4 28.9 42.4 Q34.1 42.4 36.65 39.6 Q39.2 36.8 40.2 31.4 ZM17.1 22.4 L54.4 22.4 Q54.8 28.4 53.4 33.9 Q52 39.4 48.85 43.7 Q45.7 48 40.8 50.55 Q35.9 53.1 29.3 53.1 Q23.4 53.1 18.55 51 Q13.7 48.9 10.2 45.25 Q6.7 41.6 4.8 36.6 Q2.9 31.6 2.9 25.8 Q2.9 19.8 4.75 14.8 Q6.6 9.8 10 6.2 Q13.4 2.6 18.3 0.65 Q23.2 -1.3 29.3 -1.3 Q38.1 -1.3 44.3 2.7 Q50.5 6.7 53.5 16 L41 16 Q40.3 13.6 37.2 11.45 Q34.1 9.3 29.8 9.3 Q23.8 9.3 20.6 12.4 Q17.4 15.5 17.1 22.4 Z\"\n",
       "        /><glyph unicode=\"l\" horiz-adv-x=\"25.8\" d=\"M5.8 71.4 L5.8 0 L20 0 L20 71.4 Z\"\n",
       "        /><glyph unicode=\"p\" horiz-adv-x=\"61.1\" d=\"M31.5 9.3 Q28.1 9.3 25.7 10.7 Q23.3 12.1 21.85 14.35 Q20.4 16.6 19.75 19.6 Q19.1 22.6 19.1 25.7 Q19.1 28.9 19.7 31.9 Q20.3 34.9 21.75 37.2 Q23.2 39.5 25.55 40.95 Q27.9 42.4 31.4 42.4 Q34.8 42.4 37.15 40.95 Q39.5 39.5 41 37.15 Q42.5 34.8 43.15 31.8 Q43.8 28.8 43.8 25.7 Q43.8 22.6 43.2 19.6 Q42.6 16.6 41.15 14.35 Q39.7 12.1 37.35 10.7 Q35 9.3 31.5 9.3 ZM5.4 51.7 L5.4 -18.1 L19.6 -18.1 L19.6 6.4 L19.8 6.4 Q22.4 2.6 26.45 0.65 Q30.5 -1.3 35.3 -1.3 Q41 -1.3 45.25 0.9 Q49.5 3.1 52.35 6.8 Q55.2 10.5 56.6 15.3 Q58 20.1 58 25.3 Q58 30.8 56.6 35.85 Q55.2 40.9 52.3 44.7 Q49.4 48.5 45 50.8 Q40.6 53.1 34.5 53.1 Q29.7 53.1 25.7 51.2 Q21.7 49.3 19.1 45.1 L18.9 45.1 L18.9 51.7 Z\"\n",
       "        /><glyph unicode=\"m\" horiz-adv-x=\"90.6\" d=\"M5.8 51.7 L5.8 0 L20 0 L20 30 Q20 33.8 21.1 36.15 Q22.2 38.5 23.75 39.75 Q25.3 41 26.95 41.45 Q28.6 41.9 29.6 41.9 Q33 41.9 34.75 40.75 Q36.5 39.6 37.25 37.7 Q38 35.8 38.1 33.55 Q38.2 31.3 38.2 29 L38.2 0 L52.4 0 L52.4 28.8 Q52.4 31.2 52.75 33.55 Q53.1 35.9 54.15 37.75 Q55.2 39.6 57.05 40.75 Q58.9 41.9 61.9 41.9 Q64.9 41.9 66.65 40.9 Q68.4 39.9 69.3 38.2 Q70.2 36.5 70.4 34.2 Q70.6 31.9 70.6 29.3 L70.6 0 L84.8 0 L84.8 34.6 Q84.8 39.6 83.4 43.15 Q82 46.7 79.5 48.9 Q77 51.1 73.5 52.1 Q70 53.1 65.9 53.1 Q60.5 53.1 56.55 50.5 Q52.6 47.9 50.3 44.5 Q48.2 49.3 44.15 51.2 Q40.1 53.1 35.2 53.1 Q30.1 53.1 26.15 50.9 Q22.2 48.7 19.4 44.7 L19.2 44.7 L19.2 51.7 Z\"\n",
       "        /><glyph unicode=\"a\" horiz-adv-x=\"57.4\" d=\"M4.8 35.8 Q5.1 40.8 7.3 44.1 Q9.5 47.4 12.9 49.4 Q16.3 51.4 20.55 52.25 Q24.8 53.1 29.1 53.1 Q33 53.1 37 52.55 Q41 52 44.3 50.4 Q47.6 48.8 49.7 45.95 Q51.8 43.1 51.8 38.4 L51.8 11.5 Q51.8 8 52.2 4.8 Q52.6 1.6 53.6 0 L39.2 0 Q38.8 1.2 38.55 2.45 Q38.3 3.7 38.2 5 Q34.8 1.5 30.2 0.1 Q25.6 -1.3 20.8 -1.3 Q17.1 -1.3 13.9 -0.4 Q10.7 0.5 8.3 2.4 Q5.9 4.3 4.55 7.2 Q3.2 10.1 3.2 14.1 Q3.2 18.5 4.75 21.35 Q6.3 24.2 8.75 25.9 Q11.2 27.6 14.35 28.45 Q17.5 29.3 20.7 29.8 Q23.9 30.3 27 30.6 Q30.1 30.9 32.5 31.5 Q34.9 32.1 36.3 33.25 Q37.7 34.4 37.6 36.6 Q37.6 38.9 36.85 40.25 Q36.1 41.6 34.85 42.35 Q33.6 43.1 31.95 43.35 Q30.3 43.6 28.4 43.6 Q24.2 43.6 21.8 41.8 Q19.4 40 19 35.8 ZM37.6 25.3 Q36.7 24.5 35.35 24.05 Q34 23.6 32.45 23.3 Q30.9 23 29.2 22.8 Q27.5 22.6 25.8 22.3 Q24.2 22 22.65 21.5 Q21.1 21 19.95 20.15 Q18.8 19.3 18.1 18 Q17.4 16.7 17.4 14.7 Q17.4 12.8 18.1 11.5 Q18.8 10.2 20 9.45 Q21.2 8.7 22.8 8.4 Q24.4 8.1 26.1 8.1 Q30.3 8.1 32.6 9.5 Q34.9 10.9 36 12.85 Q37.1 14.8 37.35 16.8 Q37.6 18.8 37.6 20 Z\"\n",
       "        /><glyph unicode=\"x\" horiz-adv-x=\"53.7\" d=\"M18.6 27.2 L0 0 L15.9 0 L26.7 16.3 L37.5 0 L53.7 0 L34.6 27.5 L51.6 51.7 L35.9 51.7 L26.9 38.2 L17.8 51.7 L1.6 51.7 Z\"\n",
       "        /><glyph unicode=\"E\" horiz-adv-x=\"64.8\" d=\"M6.9 71.4 L6.9 0 L61.1 0 L61.1 13.2 L22.6 13.2 L22.6 30.7 L57.2 30.7 L57.2 42.9 L22.6 42.9 L22.6 58.2 L60.3 58.2 L60.3 71.4 Z\"\n",
       "      /></font\n",
       "    ></defs\n",
       "    ><g style=\"fill:white; stroke:white;\"\n",
       "    ><rect x=\"0\" y=\"0\" width=\"560\" style=\"clip-path:url(#clipPath1); stroke:none;\" height=\"420\"\n",
       "    /></g\n",
       "    ><g style=\"fill:white; text-rendering:optimizeSpeed; color-rendering:optimizeSpeed; image-rendering:optimizeSpeed; shape-rendering:crispEdges; stroke:white; color-interpolation:sRGB;\"\n",
       "    ><rect x=\"0\" width=\"560\" height=\"420\" y=\"0\" style=\"stroke:none;\"\n",
       "      /><path style=\"stroke:none;\" d=\"M73 374 L507 374 L507 31.5 L73 31.5 Z\"\n",
       "    /></g\n",
       "    ><g style=\"stroke-linecap:butt; fill-opacity:0.149; fill:rgb(38,38,38); text-rendering:geometricPrecision; image-rendering:optimizeQuality; color-rendering:optimizeQuality; stroke-linejoin:round; stroke:rgb(38,38,38); color-interpolation:linearRGB; stroke-width:0.5; stroke-opacity:0.149;\"\n",
       "    ><line y2=\"31.5\" style=\"fill:none;\" x1=\"73\" x2=\"73\" y1=\"374\"\n",
       "      /><line y2=\"31.5\" style=\"fill:none;\" x1=\"217.6667\" x2=\"217.6667\" y1=\"374\"\n",
       "      /><line y2=\"31.5\" style=\"fill:none;\" x1=\"362.3333\" x2=\"362.3333\" y1=\"374\"\n",
       "      /><line y2=\"31.5\" style=\"fill:none;\" x1=\"507\" x2=\"507\" y1=\"374\"\n",
       "      /><line y2=\"374\" style=\"fill:none;\" x1=\"507\" x2=\"73\" y1=\"374\"\n",
       "      /><line y2=\"335.9445\" style=\"fill:none;\" x1=\"507\" x2=\"73\" y1=\"335.9445\"\n",
       "      /><line y2=\"297.8889\" style=\"fill:none;\" x1=\"507\" x2=\"73\" y1=\"297.8889\"\n",
       "      /><line y2=\"259.8333\" style=\"fill:none;\" x1=\"507\" x2=\"73\" y1=\"259.8333\"\n",
       "      /><line y2=\"221.7778\" style=\"fill:none;\" x1=\"507\" x2=\"73\" y1=\"221.7778\"\n",
       "      /><line y2=\"183.7222\" style=\"fill:none;\" x1=\"507\" x2=\"73\" y1=\"183.7222\"\n",
       "      /><line y2=\"145.6667\" style=\"fill:none;\" x1=\"507\" x2=\"73\" y1=\"145.6667\"\n",
       "      /><line y2=\"107.6111\" style=\"fill:none;\" x1=\"507\" x2=\"73\" y1=\"107.6111\"\n",
       "      /><line y2=\"69.5556\" style=\"fill:none;\" x1=\"507\" x2=\"73\" y1=\"69.5556\"\n",
       "      /><line y2=\"31.5\" style=\"fill:none;\" x1=\"507\" x2=\"73\" y1=\"31.5\"\n",
       "      /><line x1=\"73\" x2=\"73\" y1=\"374\" style=\"stroke-linecap:square; fill-opacity:1; fill:none; stroke-opacity:1;\" y2=\"31.5\"\n",
       "      /><line x1=\"507\" x2=\"507\" y1=\"374\" style=\"stroke-linecap:square; fill-opacity:1; fill:none; stroke-opacity:1;\" y2=\"31.5\"\n",
       "      /><line x1=\"73\" x2=\"77.34\" y1=\"374\" style=\"stroke-linecap:square; fill-opacity:1; fill:none; stroke-opacity:1;\" y2=\"374\"\n",
       "      /><line x1=\"73\" x2=\"77.34\" y1=\"335.9445\" style=\"stroke-linecap:square; fill-opacity:1; fill:none; stroke-opacity:1;\" y2=\"335.9445\"\n",
       "      /><line x1=\"73\" x2=\"77.34\" y1=\"297.8889\" style=\"stroke-linecap:square; fill-opacity:1; fill:none; stroke-opacity:1;\" y2=\"297.8889\"\n",
       "      /><line x1=\"73\" x2=\"77.34\" y1=\"259.8333\" style=\"stroke-linecap:square; fill-opacity:1; fill:none; stroke-opacity:1;\" y2=\"259.8333\"\n",
       "      /><line x1=\"73\" x2=\"77.34\" y1=\"221.7778\" style=\"stroke-linecap:square; fill-opacity:1; fill:none; stroke-opacity:1;\" y2=\"221.7778\"\n",
       "      /><line x1=\"73\" x2=\"77.34\" y1=\"183.7222\" style=\"stroke-linecap:square; fill-opacity:1; fill:none; stroke-opacity:1;\" y2=\"183.7222\"\n",
       "      /><line x1=\"73\" x2=\"77.34\" y1=\"145.6667\" style=\"stroke-linecap:square; fill-opacity:1; fill:none; stroke-opacity:1;\" y2=\"145.6667\"\n",
       "      /><line x1=\"73\" x2=\"77.34\" y1=\"107.6111\" style=\"stroke-linecap:square; fill-opacity:1; fill:none; stroke-opacity:1;\" y2=\"107.6111\"\n",
       "      /><line x1=\"73\" x2=\"77.34\" y1=\"69.5556\" style=\"stroke-linecap:square; fill-opacity:1; fill:none; stroke-opacity:1;\" y2=\"69.5556\"\n",
       "      /><line x1=\"73\" x2=\"77.34\" y1=\"31.5\" style=\"stroke-linecap:square; fill-opacity:1; fill:none; stroke-opacity:1;\" y2=\"31.5\"\n",
       "      /><line x1=\"507\" x2=\"502.66\" y1=\"374\" style=\"stroke-linecap:square; fill-opacity:1; fill:none; stroke-opacity:1;\" y2=\"374\"\n",
       "      /><line x1=\"507\" x2=\"502.66\" y1=\"335.9445\" style=\"stroke-linecap:square; fill-opacity:1; fill:none; stroke-opacity:1;\" y2=\"335.9445\"\n",
       "      /><line x1=\"507\" x2=\"502.66\" y1=\"297.8889\" style=\"stroke-linecap:square; fill-opacity:1; fill:none; stroke-opacity:1;\" y2=\"297.8889\"\n",
       "      /><line x1=\"507\" x2=\"502.66\" y1=\"259.8333\" style=\"stroke-linecap:square; fill-opacity:1; fill:none; stroke-opacity:1;\" y2=\"259.8333\"\n",
       "      /><line x1=\"507\" x2=\"502.66\" y1=\"221.7778\" style=\"stroke-linecap:square; fill-opacity:1; fill:none; stroke-opacity:1;\" y2=\"221.7778\"\n",
       "      /><line x1=\"507\" x2=\"502.66\" y1=\"183.7222\" style=\"stroke-linecap:square; fill-opacity:1; fill:none; stroke-opacity:1;\" y2=\"183.7222\"\n",
       "      /><line x1=\"507\" x2=\"502.66\" y1=\"145.6667\" style=\"stroke-linecap:square; fill-opacity:1; fill:none; stroke-opacity:1;\" y2=\"145.6667\"\n",
       "      /><line x1=\"507\" x2=\"502.66\" y1=\"107.6111\" style=\"stroke-linecap:square; fill-opacity:1; fill:none; stroke-opacity:1;\" y2=\"107.6111\"\n",
       "      /><line x1=\"507\" x2=\"502.66\" y1=\"69.5556\" style=\"stroke-linecap:square; fill-opacity:1; fill:none; stroke-opacity:1;\" y2=\"69.5556\"\n",
       "      /><line x1=\"507\" x2=\"502.66\" y1=\"31.5\" style=\"stroke-linecap:square; fill-opacity:1; fill:none; stroke-opacity:1;\" y2=\"31.5\"\n",
       "    /></g\n",
       "    ><g transform=\"translate(69,374)\" style=\"font-size:10px; fill:rgb(38,38,38); text-rendering:geometricPrecision; image-rendering:optimizeQuality; color-rendering:optimizeQuality; font-family:'Helvetica Neue'; stroke:rgb(38,38,38); color-interpolation:linearRGB;\"\n",
       "    ><text x=\"-18\" xml:space=\"preserve\" y=\"3.5\" style=\"stroke:none;\"\n",
       "      >-0.2</text\n",
       "    ></g\n",
       "    ><g transform=\"translate(69,335.9445)\" style=\"font-size:10px; fill:rgb(38,38,38); text-rendering:geometricPrecision; image-rendering:optimizeQuality; color-rendering:optimizeQuality; font-family:'Helvetica Neue'; stroke:rgb(38,38,38); color-interpolation:linearRGB;\"\n",
       "    ><text x=\"-6\" xml:space=\"preserve\" y=\"3.5\" style=\"stroke:none;\"\n",
       "      >0</text\n",
       "    ></g\n",
       "    ><g transform=\"translate(69,297.8889)\" style=\"font-size:10px; fill:rgb(38,38,38); text-rendering:geometricPrecision; image-rendering:optimizeQuality; color-rendering:optimizeQuality; font-family:'Helvetica Neue'; stroke:rgb(38,38,38); color-interpolation:linearRGB;\"\n",
       "    ><text x=\"-14\" xml:space=\"preserve\" y=\"3.5\" style=\"stroke:none;\"\n",
       "      >0.2</text\n",
       "    ></g\n",
       "    ><g transform=\"translate(69,259.8333)\" style=\"font-size:10px; fill:rgb(38,38,38); text-rendering:geometricPrecision; image-rendering:optimizeQuality; color-rendering:optimizeQuality; font-family:'Helvetica Neue'; stroke:rgb(38,38,38); color-interpolation:linearRGB;\"\n",
       "    ><text x=\"-14\" xml:space=\"preserve\" y=\"3.5\" style=\"stroke:none;\"\n",
       "      >0.4</text\n",
       "    ></g\n",
       "    ><g transform=\"translate(69,221.7778)\" style=\"font-size:10px; fill:rgb(38,38,38); text-rendering:geometricPrecision; image-rendering:optimizeQuality; color-rendering:optimizeQuality; font-family:'Helvetica Neue'; stroke:rgb(38,38,38); color-interpolation:linearRGB;\"\n",
       "    ><text x=\"-14\" xml:space=\"preserve\" y=\"3.5\" style=\"stroke:none;\"\n",
       "      >0.6</text\n",
       "    ></g\n",
       "    ><g transform=\"translate(69,183.7222)\" style=\"font-size:10px; fill:rgb(38,38,38); text-rendering:geometricPrecision; image-rendering:optimizeQuality; color-rendering:optimizeQuality; font-family:'Helvetica Neue'; stroke:rgb(38,38,38); color-interpolation:linearRGB;\"\n",
       "    ><text x=\"-14\" xml:space=\"preserve\" y=\"3.5\" style=\"stroke:none;\"\n",
       "      >0.8</text\n",
       "    ></g\n",
       "    ><g transform=\"translate(69,145.6667)\" style=\"font-size:10px; fill:rgb(38,38,38); text-rendering:geometricPrecision; image-rendering:optimizeQuality; color-rendering:optimizeQuality; font-family:'Helvetica Neue'; stroke:rgb(38,38,38); color-interpolation:linearRGB;\"\n",
       "    ><text x=\"-6\" xml:space=\"preserve\" y=\"3.5\" style=\"stroke:none;\"\n",
       "      >1</text\n",
       "    ></g\n",
       "    ><g transform=\"translate(69,107.6111)\" style=\"font-size:10px; fill:rgb(38,38,38); text-rendering:geometricPrecision; image-rendering:optimizeQuality; color-rendering:optimizeQuality; font-family:'Helvetica Neue'; stroke:rgb(38,38,38); color-interpolation:linearRGB;\"\n",
       "    ><text x=\"-14\" xml:space=\"preserve\" y=\"3.5\" style=\"stroke:none;\"\n",
       "      >1.2</text\n",
       "    ></g\n",
       "    ><g transform=\"translate(69,69.5556)\" style=\"font-size:10px; fill:rgb(38,38,38); text-rendering:geometricPrecision; image-rendering:optimizeQuality; color-rendering:optimizeQuality; font-family:'Helvetica Neue'; stroke:rgb(38,38,38); color-interpolation:linearRGB;\"\n",
       "    ><text x=\"-14\" xml:space=\"preserve\" y=\"3.5\" style=\"stroke:none;\"\n",
       "      >1.4</text\n",
       "    ></g\n",
       "    ><g transform=\"translate(69,31.5)\" style=\"font-size:10px; fill:rgb(38,38,38); text-rendering:geometricPrecision; image-rendering:optimizeQuality; color-rendering:optimizeQuality; font-family:'Helvetica Neue'; stroke:rgb(38,38,38); color-interpolation:linearRGB;\"\n",
       "    ><text x=\"-14\" xml:space=\"preserve\" y=\"3.5\" style=\"stroke:none;\"\n",
       "      >1.6</text\n",
       "    ></g\n",
       "    ><g transform=\"translate(48,202.7498) rotate(-90)\" style=\"font-size:11px; fill:rgb(38,38,38); text-rendering:geometricPrecision; image-rendering:optimizeQuality; color-rendering:optimizeQuality; font-family:'Helvetica Neue'; stroke:rgb(38,38,38); color-interpolation:linearRGB;\"\n",
       "    ><text x=\"-54.5\" xml:space=\"preserve\" y=\"-3\" style=\"stroke:none;\"\n",
       "      >Impulse response h[n]</text\n",
       "    ></g\n",
       "    ><g transform=\"translate(290.0003,30.125)\" style=\"font-size:11px; text-rendering:geometricPrecision; image-rendering:optimizeQuality; color-rendering:optimizeQuality; font-family:'Helvetica Neue'; color-interpolation:linearRGB; font-weight:bold;\"\n",
       "    ><text x=\"-48\" xml:space=\"preserve\" y=\"-3\" style=\"stroke:none;\"\n",
       "      >Example 5 - Part 2</text\n",
       "    ></g\n",
       "    ><g style=\"stroke-linecap:butt; fill:rgb(38,38,38); text-rendering:geometricPrecision; image-rendering:optimizeQuality; color-rendering:optimizeQuality; stroke-linejoin:round; stroke:rgb(38,38,38); color-interpolation:linearRGB; stroke-width:0.5;\"\n",
       "    ><line y2=\"335.9445\" style=\"fill:none;\" x1=\"73\" x2=\"507\" y1=\"335.9445\"\n",
       "      /><path d=\"M0 -2.75 C1.5188 -2.75 2.75 -1.5188 2.75 0 L2.75 0 C2.75 1.5188 1.5188 2.75 -0 2.75 C-1.5188 2.75 -2.75 1.5188 -2.75 -0 C-2.75 -1.5188 -1.5188 -2.75 0 -2.75 ZM0 -3.25 C-1.7949 -3.25 -3.25 -1.7949 -3.25 -0 C-3.25 1.7949 -1.7949 3.25 -0 3.25 C1.7949 3.25 3.25 1.7949 3.25 0 L3.25 0 C3.25 -1.7949 1.7949 -3.25 0 -3.25 Z\" style=\"fill:rgb(0,114,189); stroke:none;\" transform=\"translate(73,145.6667)\"\n",
       "      /><path d=\"M0 -2.75 C1.5188 -2.75 2.75 -1.5188 2.75 0 L2.75 0 C2.75 1.5188 1.5188 2.75 -0 2.75 C-1.5188 2.75 -2.75 1.5188 -2.75 -0 C-2.75 -1.5188 -1.5188 -2.75 0 -2.75 ZM0 -3.25 C-1.7949 -3.25 -3.25 -1.7949 -3.25 -0 C-3.25 1.7949 -1.7949 3.25 -0 3.25 C1.7949 3.25 3.25 1.7949 3.25 0 L3.25 0 C3.25 -1.7949 1.7949 -3.25 0 -3.25 Z\" style=\"fill:rgb(0,114,189); stroke:none;\" transform=\"translate(101.9333,50.5278)\"\n",
       "      /><path d=\"M0 -2.75 C1.5188 -2.75 2.75 -1.5188 2.75 0 L2.75 0 C2.75 1.5188 1.5188 2.75 -0 2.75 C-1.5188 2.75 -2.75 1.5188 -2.75 -0 C-2.75 -1.5188 -1.5188 -2.75 0 -2.75 ZM0 -3.25 C-1.7949 -3.25 -3.25 -1.7949 -3.25 -0 C-3.25 1.7949 -1.7949 3.25 -0 3.25 C1.7949 3.25 3.25 1.7949 3.25 0 L3.25 0 C3.25 -1.7949 1.7949 -3.25 0 -3.25 Z\" style=\"fill:rgb(0,114,189); stroke:none;\" transform=\"translate(130.8667,217.0208)\"\n",
       "      /><path d=\"M0 -2.75 C1.5188 -2.75 2.75 -1.5188 2.75 0 L2.75 0 C2.75 1.5188 1.5188 2.75 -0 2.75 C-1.5188 2.75 -2.75 1.5188 -2.75 -0 C-2.75 -1.5188 -1.5188 -2.75 0 -2.75 ZM0 -3.25 C-1.7949 -3.25 -3.25 -1.7949 -3.25 -0 C-3.25 1.7949 -1.7949 3.25 -0 3.25 C1.7949 3.25 3.25 1.7949 3.25 0 L3.25 0 C3.25 -1.7949 1.7949 -3.25 0 -3.25 Z\" style=\"fill:rgb(0,114,189); stroke:none;\" transform=\"translate(159.8,312.1597)\"\n",
       "      /><path d=\"M0 -2.75 C1.5188 -2.75 2.75 -1.5188 2.75 0 L2.75 0 C2.75 1.5188 1.5188 2.75 -0 2.75 C-1.5188 2.75 -2.75 1.5188 -2.75 -0 C-2.75 -1.5188 -1.5188 -2.75 0 -2.75 ZM0 -3.25 C-1.7949 -3.25 -3.25 -1.7949 -3.25 -0 C-3.25 1.7949 -1.7949 3.25 -0 3.25 C1.7949 3.25 3.25 1.7949 3.25 0 L3.25 0 C3.25 -1.7949 1.7949 -3.25 0 -3.25 Z\" style=\"fill:rgb(0,114,189); stroke:none;\" transform=\"translate(188.7333,338.9175)\"\n",
       "      /><path d=\"M0 -2.75 C1.5188 -2.75 2.75 -1.5188 2.75 0 L2.75 0 C2.75 1.5188 1.5188 2.75 -0 2.75 C-1.5188 2.75 -2.75 1.5188 -2.75 -0 C-2.75 -1.5188 -1.5188 -2.75 0 -2.75 ZM0 -3.25 C-1.7949 -3.25 -3.25 -1.7949 -3.25 -0 C-3.25 1.7949 -1.7949 3.25 -0 3.25 C1.7949 3.25 3.25 1.7949 3.25 0 L3.25 0 C3.25 -1.7949 1.7949 -3.25 0 -3.25 Z\" style=\"fill:rgb(0,114,189); stroke:none;\" transform=\"translate(217.6667,340.4041)\"\n",
       "      /><path d=\"M0 -2.75 C1.5188 -2.75 2.75 -1.5188 2.75 0 L2.75 0 C2.75 1.5188 1.5188 2.75 -0 2.75 C-1.5188 2.75 -2.75 1.5188 -2.75 -0 C-2.75 -1.5188 -1.5188 -2.75 0 -2.75 ZM0 -3.25 C-1.7949 -3.25 -3.25 -1.7949 -3.25 -0 C-3.25 1.7949 -1.7949 3.25 -0 3.25 C1.7949 3.25 3.25 1.7949 3.25 0 L3.25 0 C3.25 -1.7949 1.7949 -3.25 0 -3.25 Z\" style=\"fill:rgb(0,114,189); stroke:none;\" transform=\"translate(246.6,337.8026)\"\n",
       "      /><path d=\"M0 -2.75 C1.5188 -2.75 2.75 -1.5188 2.75 0 L2.75 0 C2.75 1.5188 1.5188 2.75 -0 2.75 C-1.5188 2.75 -2.75 1.5188 -2.75 -0 C-2.75 -1.5188 -1.5188 -2.75 0 -2.75 ZM0 -3.25 C-1.7949 -3.25 -3.25 -1.7949 -3.25 -0 C-3.25 1.7949 -1.7949 3.25 -0 3.25 C1.7949 3.25 3.25 1.7949 3.25 0 L3.25 0 C3.25 -1.7949 1.7949 -3.25 0 -3.25 Z\" style=\"fill:rgb(0,114,189); stroke:none;\" transform=\"translate(275.5333,336.3161)\"\n",
       "      /><path d=\"M0 -2.75 C1.5188 -2.75 2.75 -1.5188 2.75 0 L2.75 0 C2.75 1.5188 1.5188 2.75 -0 2.75 C-1.5188 2.75 -2.75 1.5188 -2.75 -0 C-2.75 -1.5188 -1.5188 -2.75 0 -2.75 ZM0 -3.25 C-1.7949 -3.25 -3.25 -1.7949 -3.25 -0 C-3.25 1.7949 -1.7949 3.25 -0 3.25 C1.7949 3.25 3.25 1.7949 3.25 0 L3.25 0 C3.25 -1.7949 1.7949 -3.25 0 -3.25 Z\" style=\"fill:rgb(0,114,189); stroke:none;\" transform=\"translate(304.4667,335.898)\"\n",
       "      /><path d=\"M0 -2.75 C1.5188 -2.75 2.75 -1.5188 2.75 0 L2.75 0 C2.75 1.5188 1.5188 2.75 -0 2.75 C-1.5188 2.75 -2.75 1.5188 -2.75 -0 C-2.75 -1.5188 -1.5188 -2.75 0 -2.75 ZM0 -3.25 C-1.7949 -3.25 -3.25 -1.7949 -3.25 -0 C-3.25 1.7949 -1.7949 3.25 -0 3.25 C1.7949 3.25 3.25 1.7949 3.25 0 L3.25 0 C3.25 -1.7949 1.7949 -3.25 0 -3.25 Z\" style=\"fill:rgb(0,114,189); stroke:none;\" transform=\"translate(333.4,335.8748)\"\n",
       "      /><path d=\"M0 -2.75 C1.5188 -2.75 2.75 -1.5188 2.75 0 L2.75 0 C2.75 1.5188 1.5188 2.75 -0 2.75 C-1.5188 2.75 -2.75 1.5188 -2.75 -0 C-2.75 -1.5188 -1.5188 -2.75 0 -2.75 ZM0 -3.25 C-1.7949 -3.25 -3.25 -1.7949 -3.25 -0 C-3.25 1.7949 -1.7949 3.25 -0 3.25 C1.7949 3.25 3.25 1.7949 3.25 0 L3.25 0 C3.25 -1.7949 1.7949 -3.25 0 -3.25 Z\" style=\"fill:rgb(0,114,189); stroke:none;\" transform=\"translate(362.3333,335.9154)\"\n",
       "      /><path d=\"M0 -2.75 C1.5188 -2.75 2.75 -1.5188 2.75 0 L2.75 0 C2.75 1.5188 1.5188 2.75 -0 2.75 C-1.5188 2.75 -2.75 1.5188 -2.75 -0 C-2.75 -1.5188 -1.5188 -2.75 0 -2.75 ZM0 -3.25 C-1.7949 -3.25 -3.25 -1.7949 -3.25 -0 C-3.25 1.7949 -1.7949 3.25 -0 3.25 C1.7949 3.25 3.25 1.7949 3.25 0 L3.25 0 C3.25 -1.7949 1.7949 -3.25 0 -3.25 Z\" style=\"fill:rgb(0,114,189); stroke:none;\" transform=\"translate(391.2667,335.9386)\"\n",
       "      /><path d=\"M0 -2.75 C1.5188 -2.75 2.75 -1.5188 2.75 0 L2.75 0 C2.75 1.5188 1.5188 2.75 -0 2.75 C-1.5188 2.75 -2.75 1.5188 -2.75 -0 C-2.75 -1.5188 -1.5188 -2.75 0 -2.75 ZM0 -3.25 C-1.7949 -3.25 -3.25 -1.7949 -3.25 -0 C-3.25 1.7949 -1.7949 3.25 -0 3.25 C1.7949 3.25 3.25 1.7949 3.25 0 L3.25 0 C3.25 -1.7949 1.7949 -3.25 0 -3.25 Z\" style=\"fill:rgb(0,114,189); stroke:none;\" transform=\"translate(420.2,335.9452)\"\n",
       "      /><path d=\"M0 -2.75 C1.5188 -2.75 2.75 -1.5188 2.75 0 L2.75 0 C2.75 1.5188 1.5188 2.75 -0 2.75 C-1.5188 2.75 -2.75 1.5188 -2.75 -0 C-2.75 -1.5188 -1.5188 -2.75 0 -2.75 ZM0 -3.25 C-1.7949 -3.25 -3.25 -1.7949 -3.25 -0 C-3.25 1.7949 -1.7949 3.25 -0 3.25 C1.7949 3.25 3.25 1.7949 3.25 0 L3.25 0 C3.25 -1.7949 1.7949 -3.25 0 -3.25 Z\" style=\"fill:rgb(0,114,189); stroke:none;\" transform=\"translate(449.1333,335.9455)\"\n",
       "      /><path d=\"M0 -2.75 C1.5188 -2.75 2.75 -1.5188 2.75 0 L2.75 0 C2.75 1.5188 1.5188 2.75 -0 2.75 C-1.5188 2.75 -2.75 1.5188 -2.75 -0 C-2.75 -1.5188 -1.5188 -2.75 0 -2.75 ZM0 -3.25 C-1.7949 -3.25 -3.25 -1.7949 -3.25 -0 C-3.25 1.7949 -1.7949 3.25 -0 3.25 C1.7949 3.25 3.25 1.7949 3.25 0 L3.25 0 C3.25 -1.7949 1.7949 -3.25 0 -3.25 Z\" style=\"fill:rgb(0,114,189); stroke:none;\" transform=\"translate(478.0667,335.9449)\"\n",
       "      /><path d=\"M0 -2.75 C1.5188 -2.75 2.75 -1.5188 2.75 0 L2.75 0 C2.75 1.5188 1.5188 2.75 -0 2.75 C-1.5188 2.75 -2.75 1.5188 -2.75 -0 C-2.75 -1.5188 -1.5188 -2.75 0 -2.75 ZM0 -3.25 C-1.7949 -3.25 -3.25 -1.7949 -3.25 -0 C-3.25 1.7949 -1.7949 3.25 -0 3.25 C1.7949 3.25 3.25 1.7949 3.25 0 L3.25 0 C3.25 -1.7949 1.7949 -3.25 0 -3.25 Z\" style=\"fill:rgb(0,114,189); stroke:none;\" transform=\"translate(507,335.9445)\"\n",
       "      /><line x1=\"73\" x2=\"73\" y1=\"335.9445\" style=\"fill:none; stroke:rgb(0,114,189);\" y2=\"145.6667\"\n",
       "      /><line x1=\"101.9333\" x2=\"101.9333\" y1=\"335.9445\" style=\"fill:none; stroke:rgb(0,114,189);\" y2=\"50.5278\"\n",
       "      /><line x1=\"130.8667\" x2=\"130.8667\" y1=\"335.9445\" style=\"fill:none; stroke:rgb(0,114,189);\" y2=\"217.0208\"\n",
       "      /><line x1=\"159.8\" x2=\"159.8\" y1=\"335.9445\" style=\"fill:none; stroke:rgb(0,114,189);\" y2=\"312.1597\"\n",
       "      /><line x1=\"188.7333\" x2=\"188.7333\" y1=\"335.9445\" style=\"fill:none; stroke:rgb(0,114,189);\" y2=\"338.9175\"\n",
       "      /><line x1=\"217.6667\" x2=\"217.6667\" y1=\"335.9445\" style=\"fill:none; stroke:rgb(0,114,189);\" y2=\"340.4041\"\n",
       "      /><line x1=\"246.6\" x2=\"246.6\" y1=\"335.9445\" style=\"fill:none; stroke:rgb(0,114,189);\" y2=\"337.8026\"\n",
       "      /><line x1=\"275.5333\" x2=\"275.5333\" y1=\"335.9445\" style=\"fill:none; stroke:rgb(0,114,189);\" y2=\"336.3161\"\n",
       "      /><line x1=\"304.4667\" x2=\"304.4667\" y1=\"335.9445\" style=\"fill:none; stroke:rgb(0,114,189);\" y2=\"335.898\"\n",
       "      /><line x1=\"333.4\" x2=\"333.4\" y1=\"335.9445\" style=\"fill:none; stroke:rgb(0,114,189);\" y2=\"335.8748\"\n",
       "      /><line x1=\"362.3333\" x2=\"362.3333\" y1=\"335.9445\" style=\"fill:none; stroke:rgb(0,114,189);\" y2=\"335.9154\"\n",
       "      /><line x1=\"391.2667\" x2=\"391.2667\" y1=\"335.9445\" style=\"fill:none; stroke:rgb(0,114,189);\" y2=\"335.9386\"\n",
       "      /><line x1=\"420.2\" x2=\"420.2\" y1=\"335.9445\" style=\"fill:none; stroke:rgb(0,114,189);\" y2=\"335.9452\"\n",
       "      /><line x1=\"449.1333\" x2=\"449.1333\" y1=\"335.9445\" style=\"fill:none; stroke:rgb(0,114,189);\" y2=\"335.9455\"\n",
       "      /><line x1=\"478.0667\" x2=\"478.0667\" y1=\"335.9445\" style=\"fill:none; stroke:rgb(0,114,189);\" y2=\"335.9449\"\n",
       "      /><line x1=\"507\" x2=\"507\" y1=\"335.9445\" style=\"fill:none; stroke:rgb(0,114,189);\" y2=\"335.9445\"\n",
       "      /><line x1=\"73\" x2=\"507\" y1=\"374\" style=\"fill:none; stroke-linecap:square;\" y2=\"374\"\n",
       "      /><line x1=\"73\" x2=\"507\" y1=\"31.5\" style=\"fill:none; stroke-linecap:square;\" y2=\"31.5\"\n",
       "      /><line x1=\"73\" x2=\"73\" y1=\"374\" style=\"fill:none; stroke-linecap:square;\" y2=\"369.66\"\n",
       "      /><line x1=\"217.6667\" x2=\"217.6667\" y1=\"374\" style=\"fill:none; stroke-linecap:square;\" y2=\"369.66\"\n",
       "      /><line x1=\"362.3333\" x2=\"362.3333\" y1=\"374\" style=\"fill:none; stroke-linecap:square;\" y2=\"369.66\"\n",
       "      /><line x1=\"507\" x2=\"507\" y1=\"374\" style=\"fill:none; stroke-linecap:square;\" y2=\"369.66\"\n",
       "      /><line x1=\"73\" x2=\"73\" y1=\"31.5\" style=\"fill:none; stroke-linecap:square;\" y2=\"35.84\"\n",
       "      /><line x1=\"217.6667\" x2=\"217.6667\" y1=\"31.5\" style=\"fill:none; stroke-linecap:square;\" y2=\"35.84\"\n",
       "      /><line x1=\"362.3333\" x2=\"362.3333\" y1=\"31.5\" style=\"fill:none; stroke-linecap:square;\" y2=\"35.84\"\n",
       "      /><line x1=\"507\" x2=\"507\" y1=\"31.5\" style=\"fill:none; stroke-linecap:square;\" y2=\"35.84\"\n",
       "    /></g\n",
       "    ><g transform=\"translate(73,378)\" style=\"font-size:10px; fill:rgb(38,38,38); text-rendering:geometricPrecision; image-rendering:optimizeQuality; color-rendering:optimizeQuality; font-family:'Helvetica Neue'; stroke:rgb(38,38,38); color-interpolation:linearRGB;\"\n",
       "    ><text x=\"-3\" xml:space=\"preserve\" y=\"10\" style=\"stroke:none;\"\n",
       "      >0</text\n",
       "    ></g\n",
       "    ><g transform=\"translate(217.6667,378)\" style=\"font-size:10px; fill:rgb(38,38,38); text-rendering:geometricPrecision; image-rendering:optimizeQuality; color-rendering:optimizeQuality; font-family:'Helvetica Neue'; stroke:rgb(38,38,38); color-interpolation:linearRGB;\"\n",
       "    ><text x=\"-3\" xml:space=\"preserve\" y=\"10\" style=\"stroke:none;\"\n",
       "      >5</text\n",
       "    ></g\n",
       "    ><g transform=\"translate(362.3333,378)\" style=\"font-size:10px; fill:rgb(38,38,38); text-rendering:geometricPrecision; image-rendering:optimizeQuality; color-rendering:optimizeQuality; font-family:'Helvetica Neue'; stroke:rgb(38,38,38); color-interpolation:linearRGB;\"\n",
       "    ><text x=\"-6\" xml:space=\"preserve\" y=\"10\" style=\"stroke:none;\"\n",
       "      >10</text\n",
       "    ></g\n",
       "    ><g transform=\"translate(507,378)\" style=\"font-size:10px; fill:rgb(38,38,38); text-rendering:geometricPrecision; image-rendering:optimizeQuality; color-rendering:optimizeQuality; font-family:'Helvetica Neue'; stroke:rgb(38,38,38); color-interpolation:linearRGB;\"\n",
       "    ><text x=\"-6\" xml:space=\"preserve\" y=\"10\" style=\"stroke:none;\"\n",
       "      >15</text\n",
       "    ></g\n",
       "    ><g transform=\"translate(290.0002,391.5)\" style=\"font-size:11px; fill:rgb(38,38,38); text-rendering:geometricPrecision; image-rendering:optimizeQuality; color-rendering:optimizeQuality; font-family:'Helvetica Neue'; stroke:rgb(38,38,38); color-interpolation:linearRGB;\"\n",
       "    ><text x=\"-3.5\" xml:space=\"preserve\" y=\"11\" style=\"stroke:none;\"\n",
       "      >n</text\n",
       "    ></g\n",
       "  ></g\n",
       "></svg\n",
       ">\n"
      ]
     },
     "metadata": {
      "filenames": {
       "image/svg+xml": "/Users/eechris/Documents/code/src/github.com/cpjobling/eg-247-textbook/_build/jupyter_execute/dt_systems/4/dt_models_51_0.svg"
      }
     },
     "output_type": "display_data"
    }
   ],
   "source": [
    "stem([0:15], hn)\n",
    "grid\n",
    "title('Example 5 - Part 2')\n",
    "xlabel('n')\n",
    "ylabel('Impulse response h[n]')"
   ]
  },
  {
   "cell_type": "markdown",
   "id": "6d37212e",
   "metadata": {
    "slideshow": {
     "slide_type": "subslide"
    }
   },
   "source": [
    "###### Response as stepwise continuous y(t)"
   ]
  },
  {
   "cell_type": "code",
   "execution_count": 7,
   "id": "6ec4a3c3",
   "metadata": {},
   "outputs": [
    {
     "data": {
      "image/svg+xml": [
       "<?xml version=\"1.0\"?>\n",
       "<!DOCTYPE svg PUBLIC '-//W3C//DTD SVG 1.0//EN'\n",
       "          'http://www.w3.org/TR/2001/REC-SVG-20010904/DTD/svg10.dtd'>\n",
       "<svg xmlns:xlink=\"http://www.w3.org/1999/xlink\" style=\"fill-opacity:1; color-rendering:auto; color-interpolation:auto; text-rendering:auto; stroke:black; stroke-linecap:square; stroke-miterlimit:10; shape-rendering:auto; stroke-opacity:1; fill:black; stroke-dasharray:none; font-weight:normal; stroke-width:1; font-family:'Dialog'; font-style:normal; stroke-linejoin:miter; font-size:12px; stroke-dashoffset:0; image-rendering:auto;\" width=\"560\" height=\"420\" xmlns=\"http://www.w3.org/2000/svg\"\n",
       "><!--Generated by the Batik Graphics2D SVG Generator--><defs id=\"genericDefs\"\n",
       "  /><g\n",
       "  ><defs id=\"defs1\"\n",
       "    ><clipPath clipPathUnits=\"userSpaceOnUse\" id=\"clipPath1\"\n",
       "      ><path d=\"M0 0 L560 0 L560 420 L0 420 L0 0 Z\"\n",
       "      /></clipPath\n",
       "      ><clipPath clipPathUnits=\"userSpaceOnUse\" id=\"clipPath2\"\n",
       "      ><path d=\"M0 0 L1119.9999 0 L1119.9999 839.9999 L0 839.9999 L0 0 Z\"\n",
       "      /></clipPath\n",
       "    ></defs\n",
       "    ><g style=\"fill:white; stroke:white;\"\n",
       "    ><rect x=\"0\" y=\"0\" width=\"560\" style=\"clip-path:url(#clipPath1); stroke:none;\" height=\"420\"\n",
       "    /></g\n",
       "    ><g transform=\"scale(0.5,0.5)\"\n",
       "    ><image x=\"0\" y=\"0\" width=\"1120\" xlink:href=\"data:image/png;base64,iVBORw0KGgoAAAANSUhEUgAABGAAAANICAIAAAAHNA4rAABjr0lEQVR42uzdB3iV\n",
       "9cE2cEAFFYpifSlDQdpKqS9+ji6ofa3VYp2votUKVWurkLBFAZWC7IIMLYIGCGhd\n",
       "IFiKQAERUPYso8qQoVAQjDKDCchI/P4fz+dzpVkEjFROfr/Ly+ucJ+dkHM6t981J\n",
       "npT6HAAAgCNKeQgAAAAMJAAAAAMJAADAQAIAADCQAAAADCQAAAADCQAAwEACAAAw\n",
       "kAAAAAwkAAAAAwkAAMBAAgAAMJAAAAAMJAAAAAMJAADAQAIAADCQAAAADCQAAAAD\n",
       "CQAAwEACAAAwkAAAAAwkAAAAAwkAAMBAAgAAMJAAAAAMJAAAAAMJAADAQAIAADCQ\n",
       "AAAADCQAAAADCQAAwEACAAAwkAAAAAwkAAAAAwkAAMBAAgAAMJAAAAAwkAAAAAwk\n",
       "AAAAAwkAAMBAAgAAMJAAAAAMJAAAAAMJAADAQAIAADCQAAAADCQAAAADCQAAwEAC\n",
       "AAAwkAAAAAwkAAAAAwkAAMBAAgAAMJAAAAAMJAAAAAMJAADAQAIAADCQAAAADCQA\n",
       "AAADCQAAwEACAAAwkAAAAAwkAAAAAwkAAMBAAgAAMJAAAAAMJACAr9SBAwdWr179\n",
       "97//ffLkyStXrszMzPSYAAYSkLCaNWt2xtG89NJLJ93XdfHFF0effOfOnb/ku/rj\n",
       "H/94VwE++eSTr+5P4cwzz6xTp84dd9wxatSoYnxksrOzM79QlNu//fbb99133yWX\n",
       "XHLWWWddfvnlTZs23bhx41fxR9ajR4/4a7/nnntO0g/xFT0J/1PS09O7du36zW9+\n",
       "s1QO4ZnZvHnzDz744Ov2lSbAAw4YSMB/3v3331/qaFJTU0+6r+vCCy+MPvlHH330\n",
       "S76rs88+u6BHprimwlH/FBo2bHjw4MFi+Vhbt26N320YP4Xf+PHHHy9TpkyuT6Zc\n",
       "uXIjR44s3j+vMNtq1aoVf4jTTz99z549J92H+OqehP8RYULXr1+/oOdklSpV4uf/\n",
       "1+QrPdkfcMBAAgykk6Aqbd68uZBH5isaSGXLlj311FNzfaz+/fsX+0CaOnVqIbcc\n",
       "P358QV/4mWeeuXr16mL88wpTLdeHGDp0aPE+JU7Ah0iwvt66dev4sapatWqjRo1u\n",
       "vfXWs846Kz54+eWXR7f81a9+9e0jnnrqKQMJMJCAxBlIoS4vzc+OHTtK7ECaNGlS\n",
       "9H6uuuqqd/M4fPhwsf8pbNu2LTq4e/fu0OBPO+20+C/sT/BA+u///u/4Q8+ZM2fD\n",
       "hg3t2rWL79uxY8di/PO69957c62Xn/70p8X7lDgBHyLB+vr3vve96PMPz4SMjIzo\n",
       "4N69e3/wgx/Ej+H27dsTL/WAgQQYSLmreV4pKSn3fiF+6SDU6/hg/M1ae/bseeaZ\n",
       "Z66++urvfOc755xzTq1atcLl/v3779+/P35vHTp0iO61ZMmSiRMn3nHHHeedd97l\n",
       "l1/eokWL9PT0cIMRI0bcfPPN3/rWty6++OLk5OQtW7bE923ZsmV031WrVoUP1KBB\n",
       "g1Dfr7jiiocffnjTpk1HrUorVqxo3rx5vXr1wjv/5S9/2blz55z3yqt3797R+wmf\n",
       "83/kT+EPf/hD/KadO3cW8UGOH6Xwh7VgwYKbbrqpatWqbdq0SUpKuuWWW+J3GFZf\n",
       "uM3o0aPzfkppaWnxzcaMGRMdzM7OrlmzZnQwPHrF9eWHzl2+fPno3VaqVCn+uGvX\n",
       "rs11y1mzZt13331169atXLny+eefH/4ce/bs+fHHHxfXh8j5uP3tb3+79dZbq1Wr\n",
       "VqNGjdtuuy3s4Zy3LMrzPN8nYXi+Pfjgg7/4xS/C8zY8vX/729+++uqr+X7OQ4YM\n",
       "CSkIn0AYJK1atQrRCE+G6NNbs2ZNuEF4P9HVnEN35syZ0cHf//73X+aZn5mZGT9K\n",
       "jRs3zvmmF1988bQvRMGPEx0/VYr4JRTvY24ggYEEcOIG0rJly+KXMn70ox8dPnx4\n",
       "x44doWlFRy666KKoo3z44Yd16tTJ95uywr3iswLEPSYU9Fw/4hKONGnSJNd9Q2Ha\n",
       "tWtXdN/4O3wuu+yyXDcLpXn+/PmFVKU+ffqULVs2773ChCjoC2/UqFF0s1D1nnji\n",
       "iXD1zjvvDBfWr19/Yv4UQvXM9R19RXmQ40cptM/4Sw5dvHTp0nnvFYZT3k9p4cKF\n",
       "8Q3iVw+C0Hejg9dcc01xfflhD8cfa/LkyfEnmetFqnCzvD8QFVxwwQVH/V7HIn6I\n",
       "+HELkzLXY3XGGWcsXbo0utmxPs/jJ2H4NCpUqJD3XjfeeGO8fj8/cta4O+64I9dt\n",
       "fvKTn8SXwwrK+dnm/Ma21NTU6OApp5zyZZ75wXnnnRfdMjwUycnJIVxZWVn53jLv\n",
       "V1rEL6F4H3MDCQwkgGKu5tdee+3/5tGtW7foln/605/iW/bq1SteDqF4LV++PLrN\n",
       "b37zm/hg48aNu3fv/stf/jK+14QJE3LVqah7hauhzOUqPTVr1ixXrlx8tUuXLrnq\n",
       "VBDq8qWXXprzvVWvXj00s3yr0l//+tf4ZjVq1Lj88svjq+XLly/ofHR169aNbhPv\n",
       "w0iouQX9xX8xDqQwC2vXrh2fVCCqp0V5kHM+SrEwkK6//vpf/OIX8ZEf/vCH1113\n",
       "Xdh+eT+lsAD/eETXrl3jg1u3bo3f88MPP1xcX/7Pfvaz6H1efPHF4eqVV14ZXT3/\n",
       "/PPjRp6dnR2/8lOvXr1+/fo1bdo0flHod7/73Zf/EHkft2984xs5r4bn/PE9z6Mn\n",
       "4T/+8Y/4eR7+NMNXEZ6u8b1yfgnPPPNMfPzss88On/w555yT8zM5poF0fM/8IIyi\n",
       "XE+h8Gk0bNhw8ODB77//fuEDqYhfQvE+5gYSGEgAxVzN8xUqdXTLw4cP//SnP817\n",
       "g759+8Y3iLtOKK/xwTPPPDM62KlTp1x1KnSdOXPmhCOrV68OlTGeTNOmTQsHt2zZ\n",
       "Ep9fONSyXHUq3De6WTBgwIBcP3mfqyrt37+/WrVq0ZEWLVpEnXjDhg1x5873vMBh\n",
       "a+XcRaFx5rwa9lvOMx0X15/CH/7wh1atWoVP8s4778zZKW+77baiP8g5S2fYAIMG\n",
       "DZo+fXoo6J8fy88g5RL+OOJX7U499dRly5YVy9e+bt26+PPp06dPOPLss8/GR+I/\n",
       "4lWrVsUH4+8J7N279zeO+P73v//lP0TOxy08nmEAHzx48J///Gf8XYXf/va3j+95\n",
       "Hj0JwyKKV0r8klebNm3izyR6PSdMwfi5GuZc9BOAn3766RVXXHEcA+n4nvmRffv2\n",
       "xcMylzJlyvz617+Ov7kx11da9C+heB9zAwkMJIATOpCC999/P9c3CF111VU5/wL+\n",
       "X//616Yjou942bZt29NPPx3f+LHHHstVp2655Zb4vvG33/zoRz+KD8bfpRPemqtO\n",
       "5fq5iIsuuig6Hu6StyotWrQoXl+LFy9e/YVbb7017qx5H5xQ1OJPvkePHhkZGaG9\n",
       "5RxjTZo0KeiBDWW0yb976KGHjvtPITzs8RgryoMcP0rhjh999FHOj3V8Ayk015y/\n",
       "DCeaGV/+Cw86duwY/9GELy0c+eSTT+JXWn77299GNwtfZs5p+rvf/e7FF18MRb8o\n",
       "n3wRP0TOxy3nb0n6/e9/Hzf443uehydhGBvx9wempKTE7zwMmHirhL0XDdH4Xb32\n",
       "2mvxLcOiOI6BdHzP/FhI9/PPP//jH/8432/OrFu3bnSShlxxK/qXULyPuYEEBhJA\n",
       "MQ+kUIJn5pHr56RzfudM6KlR3cwpdO4//OEPl1xySa5vlcm3OLZv3z6+Y4MGDaKD\n",
       "v/71r+OD8c8j5R1Izz77bK5eHh3/wQ9+kLcqDR8+vPAFctppp+V9cD777LPNR+T6\n",
       "uaCbbrop/jmogh7YM844I9eH+K//+q/jG0hhheb6jqajPsjxo3Tffffl+ljHOpDS\n",
       "09PDhMj5h174ad+P6QsP/Tv+QZcqVar89Quhtcf9ODpvRxAmcb4/gBS2ayG/9PaY\n",
       "PkT8uHXv3j1+D3ERz/lTPcf0PA9PwqVLl8Y3WLlyZc7PMH7m33333eHqW2+9Fd8y\n",
       "54+65TxrQtEH0vE98/MKT5uwSMNnmOs75aKpnCtuRf8SivcxN5DAQAIo5oFUyEka\n",
       "YmHS5Owl8Y9bRJo2bZqre1166aXxt6XlWxzj+1577bXRwbvuuis+mJSUVNBAeu65\n",
       "5/L9xL7zne/k/RD9+/c/6q97is8DcVQ9e/aM7hI+mWIfSAMHDnzhiJdeemnOnDm7\n",
       "d+/OdeOiPMjxoxQ+1S8zkDZs2BAez5w/Db9q1arC73JMX3j4BI765xIqfnTjQ4cO\n",
       "hT/0n/3sZ3l/SdQ111yTnZ395T9EEX+q5zie5+GPsqBT5/3v//5vdDxcCFfnz58f\n",
       "3zLnX0/s2bMn12/4jT/bJ598Mu9fYUSf7XE/88Pj1vuIfv365fwlxeFy/PwPwrrL\n",
       "G7eifwnF+5gbSGAgAZzogRRKXq7TiH3rW9+Kf8j7nXfeyfmj1fGvCbrgggu+ioEU\n",
       "v7fIbbfdlvPsark+RPzrjEqXLv3RRx/tzE/eht26dev/PuKmm27K90ELFa2gx2rs\n",
       "2LFj/l0ha6TofwpFfJDzLZ3HOpDWrVtXpUqV+GdOOnbsGCbKUZ9Rx/SFhz/ro9b3\n",
       "sIhy3Ss9PX38+PEtW7Y8++yz45sVtNyO6UMUpawf3/M852nTp0yZkvMz/P73vx8d\n",
       "f+SRRz7/928mzPnbgUeNGpXr5Zf4e/OaNWsW36xz5845P9vje+bnWlaLFi3K9dZa\n",
       "tWrFvyIpb9yK/iUU72NuIIGBBFDMA2nWrFlr8hO6XbhlRkZG/GJCKKbxj3Dceuut\n",
       "0bt6/vnn43cVf8tTmE/x3/cX70A677zz4ldXNm7cGJ/yLvTmvB9i8+bN8Q9RhJYW\n",
       "v/9Q3+sfce+99+Z9cHL+TfnEiROjg8uWLYs/Vvzz4idsphbxQS7iQArvrZCPdfXV\n",
       "V8e3HDZsWLE/98IfX3xmjjA1u/y7nL+NdMOGDUOHDq1wxA9/+MOciz3vKxLH/SGK\n",
       "WNaP+3leuXLl6OrNN98cb5Lp06fH7+2VV175/MgZDuLf0FqxYsXJkyfv378/3Cw+\n",
       "q368LuL3H3+r52effRafdzH6bI/vmR/Mnj075+m5c56FfMmSJfFLN9EPDuU9SUMR\n",
       "v4TifcwNJDCQAIq5mhekdevWn//7OX+nTJnyyCOPxFej73YbP358fKRfv35hVs2b\n",
       "N+/nP/95fDD+iaNiGUjR316HD9S7d+/zzz8/fqEj+gWUeT/EfffdF5/+7qabbnr6\n",
       "6afD1x6351w/0RRZunRpzlfMrrjiit/85jfxibPCfY/6/WbFPpCK+CAXMpBC041v\n",
       "XKVKlYJ+UemMGTNyPgfOyqNOnTpf8qtOSUnJtQ1yGj16dPzWzp075zyLXdu2bcMk\n",
       "/uCDD373u9/FZ9XL+cuaju9DFLGsH/fzfNCgQTl/8dGQIUP++Mc/xmc9CY9ndIb6\n",
       "IASq8EhG6+JXv/pVzvMlhISee+65OU+6eNzP/M+PnD0iPvFJdELwW265pUmTJr/8\n",
       "5S9znsuxoPNrF/FLKN7H3EACAwngxA2kN954I776+9//PupP8e9t/MY3vhHa6vbt\n",
       "2+Pv+clX+FjFOJDy/Z2hDz74YEEfInx68fcF5T0LwmeffZbv45PznHU5lS5dOue5\n",
       "yE7YQCrig1zIQPo8x/dHFfKLYvv27Vv4s6JatWpf8qv+8Y9/HJfvvPMmMzMz3qI1\n",
       "a9bMzs7O+4tHY61atSqWD1GUsn7cz/OsrKycv7on11kK586dG3/E8Jl06tQp14nj\n",
       "mjVrFr9sG62LMWPG5H1X8UkU4oF0fM/8z4+8MBu/6pWv+PyEeeNWxC+hiAOpiI+5\n",
       "gQQGEkAxyPu7IPMKBTr+jZbhQvyNbQsWLIhXSmh+4cjbb7/93e9+N+cPUj/yyCNx\n",
       "r41+R+fnOU7JnfN3sNxwww2FDKQrrrgiV53q1avXnXfeGfet0Av79esX3zHfD/Hp\n",
       "p5+Gihb/dtFo2oWvrpBzoAXjxo279NJLcz4g4QuJfn3TV/GnUMgv7owU5UEufCAt\n",
       "WrQo/o1GBQ2k+PyBBSn89NBHtWHDhvhd5Tpjeyz+3aBB2A+HDh0KnTv+saj4RbAu\n",
       "Xbrk+1M0x/Eh8n3c4u/viifHcT/Pw0YK7znn6zzhvjfddNOmTZvyfm6LFy/u37//\n",
       "Pffc07Fjx0mTJn388cfx3li4cGE0Qvr06RO/nhPCeOONN06ePDnv+d+O75n/+ZGf\n",
       "JurQoUPFihVz/emHRPztb3+LH/Z841aUL6Gg5+rxPeYFfRqAgQTwn3T48OHVq1dP\n",
       "mzZt1apVhfzl9HHLVadC85s9e/batWsLOolZXqGkrl+/PnyG77777r59+4p4r+3b\n",
       "t4dKN3PmzOi3XibAgxy+9lB/09LSinLqha+P8NmuW7cuOgd9+HOPflj/pPsjCI/8\n",
       "W2+9FZ6BOU8QFws78PdHDBkyJD74wgsv5PsyY0ZGxrx588J+2LNnz1fxzP/8yI82\n",
       "hYd66tSpY8eO/cc//lGU8z0e05fwNflvC2AgAZyUCn9tBBLA3XffHb8oFAZG2DN9\n",
       "+/aNf5tTdJ5GXwJgIAFgIFEiLF26NOfJSHI699xz//GPf/gSAAMJgP/vm9/85qlH\n",
       "DBw40KNBolq+fPn111+f80wk55xzTsOGDbdu3epLAAwkAKAkin7y7a233vroo498\n",
       "CYCBBAAAYCABAAAYSAAAABhIAAAABhIAAICBBAAAYCABAAAYSCe5tLS0mTNnZmRk\n",
       "FPH24ZbLli1btGjRli1bPHoAAGAgJZRhw4Y1bdp0/fr1RZlGffv2TUpKavqFQYMG\n",
       "HThwwGMIAAAG0klv//79EyZMiKbOUQdSuHGvXr3CLXv27Dlp0qRRo0a1bds2XA0X\n",
       "PJIAAGAgncTefffdbt26tWjRIn4t6KgDaerUqeFm/fr1y8rKit9JOPLQQw9lZ2d7\n",
       "SAEAwEA6iQfS419o1qxZUQZSjx49ws22bduW8+DMmTNnzJgRTyYAAMBAOrkNHjz4\n",
       "qANp9+7d4TYdO3b8/Mj32q1Zs2blypXp6ekePQAAMJBK3EDauHFjuM0zzzzz2muv\n",
       "5TxJw3PPPRf2kscQAAAMpBI0kN55551wm+Tk5PDvp556avLkya+++mrLli3D1dTU\n",
       "1ELu2BQAgESkRRtIJXogLVmyJErCK6+8Eh/ctGlTNJm2bt1ayEDyCMOXJ0ogSiBN\n",
       "BhJfo4G0atWqaCDt3bs35/Gnn346HJw/f77wgP8PgSiBNGEglZSB9K9//SvcplWr\n",
       "VrmOv/zyy+H4lClThAf8fwhECaQJA6mkDKSsrKwHH3ww3GzXrl05j/fr1y8cXLx4\n",
       "sfCA/w+BKIE0YSAl7EDavHnzm0fER5577rlws6FDhx4+fDg6smLFinCkZcuWhZzv\n",
       "W3jA/4dAlECaMJBO+oE0derUXOcn2b1796OPPhqOdO3addSoUSkpKdH5vidNmiQ8\n",
       "4P9DIEogTRhICSJMnYIGUnJycs6D27Zte/rpp1u3bh1tp8cee2zu3LnCA/4/BKIE\n",
       "0oSBhPDAibNx40YPAogS6HgGEsIDaHUgSqDjGUgID6DVgSiBjmcgITyAVgeiBDqe\n",
       "gYTwAFodiBLoeAYSwgNodSBKoOMZSAgPoNWBKIGOZyAhPIBWB6IEOp6BhPAAWh2I\n",
       "Euh4BhLCA2h1IEqg42EgCY/wgFYHogQ6HgYSwgNaHYgS6HgYSAgPaHUgSqDjYSAh\n",
       "PKDVgSiBjoeBhPCAVgeiBDoeBhLCA1odiBLoeBhICA9odSBKoONhICE8oNWBKIGO\n",
       "p+MZSAgPaHUgSoCOZyAhPKDVgSgBOp6BhPCAVgeiBOh4BhLCA1odiBKg4xlICA9o\n",
       "dSBKgI5nICE8oNWBKAE6noGE8IBWB6IE6HgGEsIDWh2IEqDjGUgID2h1IEqAjmcg\n",
       "ITyFuG/U6pPin1IPzfCk0uoAUQIdz0BCeL5aVz2z7OSIk4Gk1QGiBDqegYTwGEgG\n",
       "klbnQQBRAh3PQEJ4DCQDCa0ORAl0PAMJ4TGQDCS0OhAl0PEMJITHQDKQ0OpAlEDH\n",
       "M5AQHgPJQEKrA1ECHc9AQngMJAMJrQ5ECXQ8AwnhMZAMJLQ6ECXQ8QwkhMdAMpDQ\n",
       "6kCUQMczkBAeA8lAQqsDUQIdz0BCeAwkAwmtDkQJdDwMJOExkAwktDoQJdDxMJAw\n",
       "kAwktDoQJdDxMJAwkAwktDoQJdDxMJAwkAwktDoQJdDxMJAwkAwktDoQJdDxMJAw\n",
       "kAwktDoQJdDxMJAwkAwktDoQJdDxMJAwkAwktDoQJdDxDCQDCQPJQEKrA1ECDCQD\n",
       "CQPJQEKrA1ECDCQDCQPJQEKrA1ECDCQDCQPJQEKrA1ECDCQDCQPJQEKrA1ECDCQD\n",
       "CQPJQEKrA1ECDCQDCeExkNDqQJQAA8lAQngMJLQ6ECXAQDKQEB4DCa0ORAkwkAwk\n",
       "hMdAQqsDUfIggIFkIHEUaWlpM2fOzMjIOKZ77dmzJ9xr06ZNBpKBhFYHogQGEgZS\n",
       "4hg2bFh4iq9fv77od8nOzn7qqafCvSZOnGggGUhodSBKYCBhICWC/fv3T5gwoekR\n",
       "xzSQpk+fHt3LQDKQ0OpAlMBAwkA66b377rvdunVr0aJF0y8UfSBt3bo13LFVq1YG\n",
       "koGEVgeiBAYSBlKCDKTHv9CsWbOiD6RDhw716NHj4Ycffvvttw0kAwmtDkQJDCQM\n",
       "pEQzePDgog+ksWPHhhsvW7ZsyZIlBpKBhFYHogQGEgZSyR1Ia9euTUpKGjFiRLhc\n",
       "9IGUr41fM/UGzN94MggDaSMl0pw5czwIIEpw4jUtmBZtIJX0gbRv375HH320Q4cO\n",
       "mZmZxzSQvILkFST8tTeIEngFCQMp0QbSiBEjws1WrlwZXTWQDCS0OhAlMJAwkEro\n",
       "QFq6dGm4TWpq6v4vLFiwIBwZN25cuHz48GEDyUBCqwNRAgMJA6mkDKQxY8YU8h2o\n",
       "b7/9toFkIKHVgSiBgYSBVFIG0uLFi1P+Xffu3cO9unTpEi7H33dnIBlIaHUgSmAg\n",
       "YSAl4EDavHnzm0cUdC8/g2QgodWBKIGBhIFUUgbS1KlTCz+Bo4FkIKHVgSiBgYSB\n",
       "lIBSUlIKGkjJyckF3WvZsmXhBpMmTTKQDCS0OhAlMJAwkEio8BhIaHUgSoCBZCAh\n",
       "PAYSWh2IEmAgGUgIj4GEVgeiBBhIBhLCYyCh1YEoAQaSgYTwGEhodSBKogQGkoGE\n",
       "8BhIaHWAKIGBZCAhPAYSWh0gSmAgGUgIj4GEVgeIEuh4BhLCYyCh1QGiBDqegYTw\n",
       "GEhodYAogY5nICE8BhJaHSBKoOMZSAiPgYRWB4gS6HgGEsJjIKHVAaIEOp6BhPAY\n",
       "SAaSVgeIEuh4BhLCYyAZSFqdVgeiBDqegYTwGEgGElodiBLoeAYSwmMgGUhodSBK\n",
       "oOMZSAiPgWQgodWBKIGOZyAhPAaSgYRWB6IEOp6BhPAYSAYSWh2IEuh4BhLCYyAZ\n",
       "SGh1IEqg4xlICI+BZCCh1YEogY5nICE8BpKBhFYHogQ6noGE8BhIBhJaHYgS6HgY\n",
       "SBhIBhJaHYgS6HgYSBhIBhJaHYgS6HgYSBhIBhJaHYgS6HgYSBhIBhJaHYgS6HgY\n",
       "SBhIBhJaHYgS6HgYSBhIBhJaHYgS6HgYSBhIBhJaHYgS6HgYSBhIBhJaHYgSYCAZ\n",
       "SBhIBhJaHYgSYCAZSBhIBhJaHYgSYCAZSBhIBhJaHYgSYCAZSBhIBhJaHYgSYCAZ\n",
       "SBhIBhJaHYgSYCAZSAiPgYRWB6IEGEgGEsJjIKHVgSgBBpKBhPAYSGh1IEqAgWQg\n",
       "ITwGElodiBJgIBlICI+BhFYHoiRKYCAZSAiPgYRWB4gSGEgGEsJjIKHVAaIEBpKB\n",
       "hPAYSGh1gCiBjmcgITwGElodIEqg4xlICI+BhFYHiBLoeAYSwmMgodUBogQ6noGE\n",
       "8BhIaHWAKIGOZyAhPAYSWh0gSqDjGUgIj4FkIGl1gCiBjmcgITwGkoGEVgeiBDqe\n",
       "gYTwGEgGElodiBLoeAYSwmMgGUhodSBKoOMZSAiPgWQgodWBKIGOZyAhPAaSgYRW\n",
       "B6IEOp6BxNdAWlrazJkzMzIyinLjzMzM9957b+7cuWvWrAmXDSQDCa0ORAkMJAyk\n",
       "hDJs2LDwFF+/fn3hN8vOzp42bVrz5s2bfqF169bTp083kAwktDoQJTCQMJASwf79\n",
       "+ydMmBCtnaMOpFmzZoWbNWvWbPTo0bNnzx4+fHhSUlI4smTJEgPJQEKrA1ECAwkD\n",
       "6ST27rvvduvWrUWLFvHLQYUPpKysrHbt2oWbLVq0KD4Yjau+ffsaSAYSWh2IEhhI\n",
       "GEgn90B6/AvNmjU76kD6+OOPw20effTR7Ozs+OCOHTvCwVatWhlIBhJaHYgSGEgY\n",
       "SAli8ODBRx1ImzdvDlPqL3/5S66D4Y4dOnQwkAwktDoQJTCQMJBK0EDK1/PPPx/u\n",
       "mJKSYiAZSGh1IEpgIGEgldyBlJ2d/de//jXcq3nz5tu2bSs8PPna+DVTb8D8jSeD\n",
       "MJA2UiLNmTPHgwCiBCde04Jp0QaSgfT/hUXUp0+fcJeWLVuuXLkyMf52wStI+Gtv\n",
       "ECXAK0gGEsc2kLKysiZPnhz9KqSwkdLS0hImPAYSWh2IEmAgGUgcw0A6dOjQkCFD\n",
       "wi3btGkze/bsnKezM5AMJLQ6ECUwkDCQStZAin7oqGvXrrt27Uq88BhIaHUgSoCB\n",
       "ZCBR4EDavHnzm0dEV8Moat68eatWrdLT0xMyPAYSWh2IEmAgGUgUOJCmTp2a8/wk\n",
       "CxYsiH4n7FN5vPDCCwaSgYRWB6IEBhIGUoJISUkpaCAlJydHV0ePHl3QGR47depk\n",
       "IBlIaHUgSmAgYSCROOExkNDqQJQAA8lAQngMJLQ6ECXAQDKQEB4DCa0ORAkwkAwk\n",
       "hMdAQqsDUQIMJAMJ4TGQ0OpAlEQJDCQDCeExkNDqAFECA8lAQngMJLQ6QJTAQDKQ\n",
       "EB4DCa0OECXQ8QwkhMdAQqsDRAl0PAMJ4TGQ0OoAUQIdz0BCeAwktDpAlEDHM5AQ\n",
       "HgMJrQ4QJdDxDCSEx0BCqwNECXQ8AwnhMZAMJK0OECXQ8QwkhMdAMpC0Oq0ORAl0\n",
       "PAMJ4TGQDCS0OhAl0PEMJITHQDKQ0OpAlEDHM5AQHgPJQEKrA1ECHc9AQngMJAMJ\n",
       "rQ5ECXQ8AwnhMZAMJLQ6ECXQ8QwkhMdAMpDQ6kCUQMczkBAeA8lAQqsDUQIdz0BC\n",
       "eAwkAwmtDkQJdDwDCeExkAwktDoQJdDxMJAwkAwktDoQJdDxMJAwkAwktDoQJdDx\n",
       "MJAwkAwktDoQJdDxMJAwkAwktDoQJdDxMJAwkAwktDoQJdDxMJAwkAwktDoQJdDx\n",
       "MJAwkAwktDoQJdDxMJAwkAwktDoQJcBAMpAwkAwktDoQJcBAMpAwkAwktDoQJcBA\n",
       "MpAwkAwktDoQJcBAMpAwkAwktDoQJcBAMpAwkAwktDoQJcBAMpAQHgMJrQ5ECTCQ\n",
       "DCSEx0BCqwNRAgwkAwnhMZDQ6kCUAAPJQEJ4DCS0OhAlwEAykBAeAwmtDkRJlMBA\n",
       "MpAQHgMJrQ4QJTCQDCSEx0BCqwNECQwkAwnhMZDQ6gBRAh3PQEJ4DCS0OkCUQMcz\n",
       "kBAeAwmtDhAl0PEMJITHQEKrA0QJdDwDCeExkNDqAFECHc9AQngMJLQ6QJRAxzOQ\n",
       "EB4DyUDS6gBRAh3PQEJ4DCQDCa0ORAl0PAMJ4TGQDCS0OhAl0PEMJITHQDKQ0OpA\n",
       "lEDHM5AQHgPJQEKrA1ECHc9AQngMJAMJrQ5ECXQ8AwnhMZAMJLQ6ECXQ8QwkTl5p\n",
       "aWkzZ87MyMgwkAwktDoQJTCQMJBKumHDhoVIrF+/3kAykNDqQJTAQMJAKrn2798/\n",
       "YcKEpkcYSAYSWh2IEhhIGEgl1LvvvtutW7cWLVo0/YKBZCCh1YEogYGEgVRyB9Lj\n",
       "X2jWrJmBZCCh1YEogYGEgcT/M3jwYAPJQEKrA1ECAwkDCQPJQEKrA1ECDCQDieMd\n",
       "SD9o+XS+/zz46rKv1T8bTxJhIG2kRJozZ44HAUQJTrymBdOKDSSOZyAJTzHHyStI\n",
       "/tobECX4GtDxDCQMJAMJrQ5ECdDxDCQMJAMJrQ5ECdDxDCQMJAMJrQ5ECdDxDCQM\n",
       "JAMJrQ5ECdDxDKSvq+zs7OXLl/ft2/fWW2+tV69erVq1qlatevHFF1999dVt2rQZ\n",
       "N27czp07DSQDCa0OECUwkAykBLdnz54BAwZccMEFpQp12mmn3XXXXfPmzTsxn1VK\n",
       "SoqBZCCh1YEogYGEgXTiHDhw4IknnqhYsWI0gSpVqnTZZZfddtttDz300KBBg55/\n",
       "/vmuXbved999P//5z2vUqFGmTJnoZtddd92mTZuEx0BCqwNECXQ8AylxbNmy5cIL\n",
       "LwyDp2rVqu3atVu+fHnht//kk0/Cavrxj38c7lK+fPkpU6YIj4GEVgeIEuh4BlKC\n",
       "WLx4ceXKlf/85z9/9tlnx3THN95449JLL+3bt6/wGEhodYAogY5nICWIzMzMjIyM\n",
       "+Or06dMfe+yxRYsW5XvjlJSU8NZdu3ZFV7Ozsz/99FPhMZDQ6gBRAh3PQEpMXbp0\n",
       "KVWq1JAhQ/J9a/SddV/b/+ILj4GEVgeiBAYSBlIxmDNnzowj7r333jCB2rZtOyOP\n",
       "119//ayzzgpv3bZtm/AYSGh1gCiBjmcgJazKlSuXKpqwkQ4dOiQ8BhJaHSBKoOMZ\n",
       "SAnrRz/60bePqFSpUlhB55577rfz+O53v/s///M/Y8aMER4DCa0OECXQ8QykxJSV\n",
       "lbV///74auE/g5RLdnZ2Zmam8BhIaHWAKIGOZyAliCVLllSvXn3EiBGHDx8OV4cO\n",
       "HXr55ZePHTv2qHecNm3aD3/4Q6f5NpDQ6gBRAh3PQEocmzZtqlq1aqlSpWrXrv2n\n",
       "P/0pXC389jt37kxJSalfv364y5lnnjlx4kThMZDQ6gBRAh3PQEocu3fvbtKkSenS\n",
       "pcPmCf+uVavW1Vdfff/99/fo0ePll18eNWpU7969k5KSrr322gsvvPDUU0+NztZw\n",
       "1113bd68WXgMJLQ6QJRAxzOQEtCqVauaNWtWvnz5ws9id/rppz/wwAMrV64UHgMJ\n",
       "rQ4QJdDxDKQEt3fv3r///e/t2rW78sorv/e971WqVOmss8668MILf/azn7Vo0eL1\n",
       "119PT08XHgMJrQ4QJdDxDCSEx0BCqwNECXQ8A6lEys7O3rlz5/b8ZGVlCY+BhFYH\n",
       "iBLoeAZSifDmm2/Wq1evbNmyBf0Y0tf2v/jCYyCh1YEogYGEgVScVq9efcYZZxR+\n",
       "ngYDyUBCqwNECXQ8A6lEaNeuXZhA559//vDhw7dv356Rn+zsbOExkNDqAFECHc9A\n",
       "Snw33HBDGEj9+/cXHgwkrQ4QJdDxDKSS7le/+lUYSHPmzBEeDCStDhAl0PEMpJLu\n",
       "kUceCQPpz3/+s/BgIGl1gCiBjmcglXTvv//+mWeeefbZZy9btkx4DCQPglYHiBLo\n",
       "eAZSiTNgwIBHcvif//mfUqVKlSlTpkGDBq1bt34kj127dgmPgYRWB4gS6HgGUmK6\n",
       "6KKLSh0Lp/k2kNDqAFECHc9ASli9evVKPhY7duwQHgMJrQ4QJdDxDCSEx0BCqwNE\n",
       "CXQ8AwnhMZDQ6gBRAh3PQEJ4DCS0OkCUQMczkBAeA8lA0uoAUQIdz0BCeDCQtDpA\n",
       "lEDHM5AQHgwktDoQJdDxDCSEBwMJrQ5ECXQ8A4mCHTx4cOLEif379+/QoUO4unTp\n",
       "0r179wqPgYRWB4gS6HgGUonTu3fvypUrl/pCOHLNNdecccYZ3bt3Fx4DCa0OECXQ\n",
       "8QykEuShhx6KdlG1atXigXTbbbdFl3v06CE8BhJaHSBKoOMZSCXC7Nmzwwo65ZRT\n",
       "UlNTw9UqVapEA+nAgQM9e/YMlytWrJieni48BhJaHSBKoOMZSImve/fuYQW1b98+\n",
       "uhoPpEjt2rXD1blz5wqPgYRWB4gS6HgGUuK77rrrwgSaPXt2vgPp/vvvD1dHjRol\n",
       "PAYSWh0gSqDjGUiJ75577gkTaNKkSfkOpGg+eQXJQEKrA0QJdDwDqUQYOHBgmEBh\n",
       "COUdSMuXLy9Xrlzp0qW/tuf7Fh4DCa0ORAkMJAyk4rRjx47q1auHUXTjjTfOnz//\n",
       "nHPOCZe3bNkyfPjwqlWrhsuNGzcWHgMJrQ4QJdDxDKSSYubMmRUqVCiVnzp16nyd\n",
       "f12s8BhIaHUgSmAgYSAVv61bt959992VKlWKp1HNmjUHDBjw2WefCY+BhFYHiBLo\n",
       "eAZSCbVt27alS5fu2LFDeAwktDpAlEDHM5BKrk8//TQ7OztcCP8ePXp027ZtBw0a\n",
       "9P777wuPgYRWB4gS6HgGUgmyfPny+vXrlylTJvpxoyZNmsTfaFehQoX58+cLj4GE\n",
       "VgeIEuh4BlKJsHXr1ooVK0ZzKAykFStWRJerV69eq1atcKFu3brCYyCh1QGiBDqe\n",
       "gVQi9OrVK6ygsIUWLlwYrnbq1ClcveSSSw4cOJCRkVGjRo1wddWqVcJjIKHVAaIE\n",
       "Op6BlPjuuOOOMIFGjhwZXb3iiivC1dTU1PjZGa5OnDhReAwktDpAlEDHM5AS31VX\n",
       "XRUm0DvvvBMu79u3r1y5cuHqpk2bore2bds2XH3llVeEx0BCqwNECXQ8AynxNWzY\n",
       "MEygKVOmhMvjxo0Ll2vUqBG/tUGDBuHIjBkzhMdAQqsDRAl0PAMp8XXr1i1MoPr1\n",
       "648ZM6Z27drhcrNmzaI3jR8/vkyZMqeeempaWprwGEhodYAogY5nICW+Dz/8sHz5\n",
       "8vF5vcuWLRt9u929994bHWnUqJHwGEhodYAogY5nIJUUs2bNuvjii0uXLl23bt2X\n",
       "X345Onj99deHdXTzzTdnZGQIj4GEVgeIEuh4BlLJkpmZmfPqwoULt2zZIjwGElod\n",
       "IEqg4xlICI+BhFYHiBLoeAZSCZadnb1z587t+cnKyjqOd5iZmbl27dq5c+euXr16\n",
       "7969RblLRkbGypUrZ8+eHf6dnp4uPAYSWh2IEhhIGEgn2ptvvlmvXr2yZcuWKsBx\n",
       "/Bd/3rx5rVu3bvqF5s2bR2cSL8T06dNz3eX1118XHgMJrQ5ECQwkDKQTZ/Xq1Wec\n",
       "cUapQh3rf/HXrVuXlJQUntnDhg2bNWvWSy+9FF1dtGhRQXdZvnx5uEFycnK48ezZ\n",
       "s1NTU8NACkfmzp0rPAYSWh2IEhhIGEgnSLt27cIEOv/884cPH759+/aM/GRnZx/T\n",
       "+xw4cGB4Wo8cOTI+8sYbb4QjXbp0KeguYUqFG+R8yejVV18NR/r37y88BhJaHYgS\n",
       "GEgYSCfIDTfcEAZS4TvkmBw6dCh68Wfnzp3xwYMHD7Zo0SIc3LFjR773Cp9AeOuK\n",
       "FSviI9FrSl27dhUeAwmtDkQJDCQMpBPk17/+dRhIc+bMKa53mJaWFp7T7du3z3W8\n",
       "T58+4fjq1avzvdfEiRPDW1988cX4yIgRI8KRMWPGCI+BhFYHogQGEgbSCTJw4MAw\n",
       "kP785z8X1ztct25deE736tUr1/GUlJRwfOHChfneKz09vWfPnuEGTz755NixY3v0\n",
       "6BF9S17Ol6HyDU++NnJcwkDyIJRMc+bM8SCAKMGJ17RgWrqB9B+zZcuWGjVqnH32\n",
       "2cuWLSuWd/jee++F53SfPn1yHY9eESropAtZWVmTJ0/OFYwJEyYU/uNPwuMVJPy1\n",
       "N4gSeAUJA6k4LVq06OGHHy5VqlSZMmUaNGjQunXrR/LYtWtX0d/hmjVr8h1I0WkY\n",
       "ChpIL7zwQnhry5Ytx44du3jx4jCN2rRpE44MGjRIeAwktDoQJTCQMJBOkC5dupQ6\n",
       "mmP6L/769evDc7p79+65jg8ePLigM30fPnw4DLOkpKR169bFB7du3Rqd12H37t3C\n",
       "YyCh1YEogYGEgXQiTJw4MfloCjr1XL62b98evRaU67vjOnfuHI6vXbs2713CwXxP\n",
       "Aj5o0KBwfMGCBcJjIKHVgSiBgYSB9B9w+PDhQl6xKYqsrKzWrVuHp/WmTZvig+np\n",
       "6WFoJSUlhQt57xJuGW7fqVOnXMcHDBgQjhfyw1HCYyCh1YEogYGEgVT89uzZ06FD\n",
       "h+9///tly5YtVapUpUqVfvrTn44ePfr43tvQoUOj3/Eav4gUnaGhd+/e0dXNmze/\n",
       "eUR0Nf7VSbNmzYrv8s9//jPpiEJ+Akp4DCS0OhAlMJAwkIrZ0qVLzz333Hx/+qhB\n",
       "gwZhvRzrO0xLS4t+fKh9+/apqakdO3YMl8PUib+/burUqblO4PjWW29FR8JdXnrp\n",
       "pWeeeSbcPlx9/fXXhcdAQqsDUQIDCQPpBPn0008vvPDCsIUqVKjQqVOnyZMnL168\n",
       "ePTo0Q0bNow20mOPPXYc73bDhg1du3aNT9gd3smKFSvit0YDKTk5Oedd5s2bF24W\n",
       "3+Xhhx8OqykrK0t4DCS0OhAlMJAwkE6Q1NTUsILOPffcnD8yFElJSQlvOu200w4c\n",
       "OCA8BhJaHSBKoOMZSImvefPmYQU9++yz+b71Jz/5SXhrcf0OWeExkNDqQJQAHc9A\n",
       "+lq7+uqrwwSaP39+vm9NSkoKb3311VeFx0BCqwNECXQ8AynxPfDAA2EC/eUvf8n3\n",
       "rb/4xS/CWxcuXCg8BhJaHSBKoOMZSInv2WefDRPoggsuyPvrj15//fXwplNOOWXf\n",
       "vn3CYyCh1QGiBDqegZT4Pvnkk6pVq4YhdN555w0bNmzlypUfffTRggUL2rRpc9pp\n",
       "p4XjTZo0ER4DCa0OECXQ8QykkmL69OnlypXL9/cg/Z//838yMzOFx0BCqwNECXQ8\n",
       "A6kE+eCDD+66664KFSrE0+i8887r16/f1/YE38JjIKHVgSiBgYSB9JXbunXrqlWr\n",
       "9u7dKzwGElodIEqg4xlIJVdGRsaMGTOGDBnSo0ePF198ceHChdnZ2cJjIKHVAaIE\n",
       "Op6BVLJkZWU9+eSTlStXzvUDSJdddtm0adOEx0BCqwNECXQ8A6kE6dChQ7SITjvt\n",
       "tDp16tSrV6969erxkYJ+h6zwGEhodYAogY5nICWaWbNmRVvogQce2LZtW3x8wYIF\n",
       "l19+eThes2ZN4TGQ0OoAUQIdz0AqER5//PGwgm6//fa8b9qxY0f0fXcffPCB8BhI\n",
       "aHWAKIGOZyAlvhtuuCFMoPHjx+f71jvvvDO8dezYscJjIKHVAaIEOp6BlPiiCTR9\n",
       "+vR839qoUaPw1nHjxgmPgYRWB4gS6HgGUuLr06dPmEDt2rXL+6aMjIxq1aqFt374\n",
       "4YfCYyCh1QGiBDqegZT4Nm/efN5555UuXXrIkCGHDx+Oj3/88cfRd981atRIeAwk\n",
       "tDpAlEDHM5BKhAkTJlx55ZXRiewuuOCCxo0bN2vW7Kabbjr99NOjg3fffXfTHKZO\n",
       "nSo8BhJaHSBKoOMZSImpS5cupY7FE088ITwGElodIEqg4xlIiWn69OmPHYtZs2YJ\n",
       "j4GEVgeIEuh4BhLCYyCh1QGiBDqegVQyfPrpp9nZ2eFC+Pfo0aPbtm07aNCg999/\n",
       "X3gMJLQ6QJRAxzOQSpDly5fXr1+/TJkye/fuDVebNGkS/8RRhQoV5s+fLzwGElod\n",
       "IEqg4xlIJcLWrVsrVqwYzaEwkFasWBFdrl69eq1atcKFunXrCo+BhFYHiBLoeAZS\n",
       "idCrV6+wgsIWWrhwYbjaqVOncPWSSy45cOBARkZGjRo1wtVVq1YJj4GEVgeIEuh4\n",
       "BlLiu+OOO8IEGjlyZHT1iiuuCFdTU1PjZ2e4OnHiROExkNDqAFECHc9ASnxXXXVV\n",
       "mEDvvPNOuLxv375y5cqFq5s2bYre2rZt23D1lVdeER4DCa0OECXQ8QykxNewYcMw\n",
       "gaZMmRIujxs3LlyuUaNG/NYGDRqEIzNmzBAeAwmtDhAl0PEMpMTXrVu3MIHq168/\n",
       "ZsyY2rVrh8vNmjWL3jR+/PgyZcqceuqpaWlpwmMgodUBogQ6noGU+D788MPy5cvH\n",
       "5/UuW7Zs9O129957b3SkUaNGwmMgodUBogQ6noFUUsyaNeviiy8uXbp03bp1X375\n",
       "5ejg9ddfH9bRzTffnJGRITwGElodIEqg4xlIJUtmZmbOqwsXLtyyZYvwGEhodYAo\n",
       "gY5nIJVEBw8enDhxYv/+/Tt06BCuLl26dO/evcJjIKHVAaIEOp6BVOL07t27cuXK\n",
       "8U8ihSPXXHPNGWec0b17d+ExkNDqAFECHc9AKkEeeuihaBdVq1YtHki33XZbdLlH\n",
       "jx7CYyCh1QGiBDqegVQizJ49O6ygU045JTU1NVytUqVKNJAOHDjQs2fPcLlixYrp\n",
       "6enCYyCh1QGiBDqegZT4unfvHlZQ+/bto6vxQIpEvxlp7ty5wmMgodUBogQ6noGU\n",
       "+K677rowgWbPnp3vQLr//vvD1VGjRgmPgYRWB4gS6HgGUuK75557wgSaNGlSvgMp\n",
       "mk9eQTKQ0OoAUQIdz0AqEQYOHBgmUBhCeQfS8uXLy5UrV7p06a/t+b6Fx0BCqwNR\n",
       "AgMJA6k47dixo3r16mEU3XjjjfPnzz/nnHPC5S1btgwfPrxq1arhcuPGjYXHQEKr\n",
       "A0QJdDwDqaSYOXNmhQoVSuWnTp06X+dfFys8BhJaHYgSGEgYSMVv69atd999d6VK\n",
       "leJpVLNmzQEDBnz22WfCYyCh1QGiBDqegVRSDBw4sEWLFhMnToyubtu2benSpTt2\n",
       "7BAeAwmtDhAl0PEMpBKnTZs2pUqV+u1vfys8GEhaHSBKoOMZSCXd3/72tzCQatSo\n",
       "kZGRITwGkgdBqwNECXQ8A6lEy8zMvPHGG8NGatSoUXp6uvAYSGh1gCiBjmcglVzv\n",
       "vPPOiy+++J3vfCdspLPPPrtx48aPPPJIn3+3Z88e4TGQ0OoAUQIdz0BKfF26dCl1\n",
       "NF/b/+ILj4GEVgeiBAYSBlJxeu21135zNJ988onwGEhodYAogY5nICE8BhJaHSBK\n",
       "oOMZSAiPgYRWB4gS6HgGEsJjIKHVAaIEOp6BhPCUdBf0nHdS/HPVM8v8YWl1IEqg\n",
       "42EgITz8PwaSVgeiBDoeBtLJJzMzc+3atXPnzl29evXevXuLeK+MjIxly5YtWrRo\n",
       "y5YtwoOBpNWBKIGBhIGUCObNm9e6deumX2jevPmUKVOOOo369u2blJQU32vQoEEH\n",
       "DhwQHgwkrQ5ECQwkDKQT7eDBgxMnTuzfv3+HDh3C1aVLlxb9ZZ9c1q1bF+2cYcOG\n",
       "zZo166WXXoquLlq0qKC77N+/v1evXuE2PXv2nDRp0qhRo9q2bRuuhgvCg4Gk1YEo\n",
       "gYGEgXRC9e7du3LlyqW+EI5cc801Z5xxRvfu3Y/jvQ0cODA8rUeOHBkfeeONN8KR\n",
       "Ll26FHSXqVOnhhv069cvKysrOvLuu++GIw899FB2drbwYCBpdSBKYCBhIJ0gYYRE\n",
       "u6hatWrxQLrtttuiyz169Dim93bo0KHmzZuHp/XOnTvjgwcPHmzRokU4uGPHjnzv\n",
       "FT5KeOu2bdtyHpw5c+aMGTPiySQ8GEhaHYgSGEgYSF+t2bNnhxV0yimnpKamhqtV\n",
       "qlSJBtKBAwd69uwZLlesWDE9Pb3o7zAtLS08p9u3b5/reJ8+fcLx1atX573L7t27\n",
       "w5s6duz4+ZHvtVuzZs3KlSuL8kGFx0BCqwNRAgMJA6k4de/ePaygeM/EAylSu3bt\n",
       "cHXu3LlFf4fr1q0Lz+levXrlOp6SkhKOL1y4MN//o4Q3PfPMM6+99lrOkzQ899xz\n",
       "YS8JDwaSVgeiBAYSBtIJct1114UJNHv27HwH0v333x+uFn6mhFzee++98Jzu06dP\n",
       "ruMjRowIx/PdWu+88054U3Jycvj3U089NXny5FdffbVly5bhavS6ViHhyddGElq9\n",
       "AfM9CMVrzpw5HgQQJTjxmhZMSzeQ/mPuueeeMIEmTZqU70CK5tMxvYK0Zs2afAfS\n",
       "sGHDChpIS5YsiZLwyiuvxAc3bdoUTaatW7f62wW8guSvvUGUwCtIGEgnwsCBA8ME\n",
       "CkMo70Bavnx5uXLlSpcufUzn+16/fn14Tuc9/d3gwYMLOtP3qlWrooGU6wM9/fTT\n",
       "4eD8+fOFBwNJqwNRAgMJA+lE2LFjR/Xq1cMouvHGG8MUOeecc8LlLVu2DB8+vGrV\n",
       "quFy48aNj+kdbt++PTynW7Zsmev03J07dw7H165dm/cu//rXv8KbWrVqlev4yy+/\n",
       "HI4X8htmhcdAQqsDUQIDCQOpmM2cObNChQql8lOnTp1j/XWxWVlZrVu3Dk/rTZs2\n",
       "xQfT09OTk5OTkpLyPTdduMuDDz4Y7rJr166cx/v16xcOLl68WHgwkLQ6ECUwkDCQ\n",
       "TpytW7fefffdlSpViqdRzZo1BwwY8Nlnnx3Hexs6dGh4Wvfv3z9+ESk6Q0Pv3r2j\n",
       "q5s3b37ziPguzz33XLhBuOPhw4ejIytWrIheiSrkfN/CYyCh1YEogYGEgfQV2rZt\n",
       "29KlSwv6da5FlJaWFv1a2Pbt26empnbs2DFcTkpKir+/burUqbnOT7J79+5HH300\n",
       "HOnateuoUaNSUlKi833HZ48QHgwkrQ5ECQwkDKQT59NPP41e8An/Hj16dNu2bQcN\n",
       "GvT+++8f33vbsGFDmDrxiRofe+yxFStWxG+NBlJycnKubfb0009H354X3eWoZ88T\n",
       "HgMJrQ5ECQwkDKRitnz58vr165cpUyb6caMmTZrE32hXoUKFQk4iJzwYSFodIEqg\n",
       "4xlICWXr1q0VK1aM5lAYSCtWrIguV69evVatWuFC3bp1hQcDSasDRAl0PAOpROjV\n",
       "q1dYQWELLVy4MFzt1KlTuHrJJZccOHAgIyOjRo0a4eqqVauEBwNJqwNECXQ8Aynx\n",
       "3XHHHWECjRw5Mrp6xRVXhKupqanxszNcnThxovBgIGl1gCiBjmcglYCuedVVYQK9\n",
       "88474fK+ffvKlSsXrsa/wqht27bh6iuvvCI8GEhaHSBKoOMZSImvYcOGYQJNmTIl\n",
       "XB43bly4XKNGjfitDRo0CEdmzJghPBhIWh0gSqDjGUiJr1u3bmEC1a9ff8yYMbVr\n",
       "1w6XmzVrFr1p/PjxZcqUOfXUU9PS0oQHA0mrA0QJdDwDKfF9+OGH5cuXj8/rXbZs\n",
       "2ejb7e69997oSKNGjYQHA0mrA0QJdDwDqaSYNWvWxRdfXLp06bp167788svRweuv\n",
       "vz6so5tvvjkjI0N4MJC0OkCUQMczkEqWzMzMnFcXLly4ZcsW4cFA0uoAUQIdz0BC\n",
       "eDCQtDpAlEDHM5BKhg4dOvz2WHzyySfCg4Gk1QGiBDqegZSYLrroolLH4mv7X3zh\n",
       "MZDQ6kCUwEDCQPqyRowY0fNY7NmzR3gwkLQ6QJRAxzOQEB4MJK0OECXQ8QykEiMz\n",
       "M3P70WRlZQkPBpJWB4gS6HgGUuLr0qWLn0HCQNLqPAggSqDjGUgUaSCdc845H330\n",
       "kfBgIGl1gCiBjmcgJb6DBw9m5PHBBx+8+OKLNWvW/OY3v7ls2TLhwUDS6gBRAh3P\n",
       "QCrp3n///W984xtVqlTJzs4WHgwkrQ4QJdDxDKSS7vbbby9VqtTq1auFBwNJqwNE\n",
       "CXQ8A6mk+81vfhMG0quvvio8GEhaHSBKoOMZSCXazp07y5cvHwbS7NmzhQcDSasD\n",
       "RAl0PAMp8U2bNu2R/DRq1OjMM88M6yj8e9euXcKDgaTVAaIEOp6BlPgKP813mTJl\n",
       "hg8fLjwYSFodIEqg4xlIJcLEiROT8/Pggw/2799//fr1woOBpNUBogQ6noGE8GAg\n",
       "aXWAKIGOZyAhPBhIWh0gSqDjGUglXEZGxowZM4YMGdKjR48XX3xx4cKFX9vfDys8\n",
       "BpIHQasDUQIDCQPpq5KVlfXkk09Wrlw51xkaLrvssmnTpgkPBpJWB4gS6HgGUgnS\n",
       "oUOHaBGddtppderUqVevXvXq1eMj8+fPFx4MJK0OECXQ8QykEmHWrFnRFnrggQe2\n",
       "bdsWH1+wYMHll18ejtesWVN4MJC0OkCUQMczkEqExx9/PKyg22+/Pe+bduzYEX3f\n",
       "3QcffCA8GEhaHSBKoOMZSInvhhtuCBNo/Pjx+b71zjvvDG8dO3as8GAgaXWAKIGO\n",
       "ZyAlvmgCTZ8+Pd+3NmrUKLx13LhxwoOBpNUBogQ6noGU+Pr06RMmULt27fK+KSMj\n",
       "o1q1auGtH374ofBgIGl1gCiBjmcgJb7Nmzefd955pUuXHjJkyOHDh+PjH3/8cfTd\n",
       "d40aNRIeDCStDhAl0PEMpBJhwoQJV155ZXQiuwsuuKBx48bNmjW76aabTj/99Ojg\n",
       "3Xff3TSHqVOnCg8GklYHiBLoeAZSYurSpUupY/HEE08IDwaSVgeIEuh4BlJimj59\n",
       "+mPHYtasWcKDgaTVAaIEOp6BhPBgIGl1gCiBjmcgJbpdu3YNGjSoWbNmfyjA9u3b\n",
       "hQcDSasDRAl0PAMp8e3YseOCCy4o/OeOvrb/xRceAwmtDkQJDCQMpOLUrVu3MIFO\n",
       "OeWUW2655ZFHHumUn927dwsPBpJWB4gS6HgGUuK79dZbw0Dq3bu38GAgaXWAKIGO\n",
       "ZyCVdNdee20YSLNnzxYeDCStDhAl0PEMpJIu+j1If/zjH4UHA0mrA0QJdDwDqaRb\n",
       "vnx5uXLlzj///Pfee094MJC0OkCUQMczkEq60aNHR2erq1evXqv87Ny5U3gwkLQ6\n",
       "QJRAxzOQEt/HH39cu3Ztp/nGQNLqAFECHc9A4vN+/fqFCVS6dOlrrrmmVatWD+XH\n",
       "K0gYSFodIEqg4xlIJULDhg3DQOrZs6fwYCBpdYAogY5nIJV0t99+exhICxYsEB4M\n",
       "JK0OECXQ8Qykkm7AgAFhIA0dOlR4MJC0OkCUQMczkEq6zZs3V6tWrXLlyuvWrRMe\n",
       "DCStDhAl0PEMpBJt0aJFSUlJpUqVKleuXKNGjR7Jz65du4QHA0mrA0QJdDwDKfF1\n",
       "6dKl1NE4zTcGklYHiBLoeAZSiTBx4sTko9mxY8dxvOfMzMy1a9fOnTt39erVe/fu\n",
       "Pab77tmzZ+bMmZs2bRIeDCStDkQJDCQMpJPevHnzWrdu3fQLzZs3nzJlShHvm52d\n",
       "/dRTT4V7hfEmPBhIWh2IEhhIGEgnt3Xr1iUlJYVn9rBhw2bNmvXSSy9FVxctWlSU\n",
       "u0+fPj2aVQYSBpJWB6IEBhIG0ldu06ZNa4/FoUOHjun9Dxw4MDytR44cGR954403\n",
       "wpEuXboc9b5bt25t0aJFq1atDCQMJK0ORAkMJAykE+Giiy4qdSyO6b/4YU01b948\n",
       "PK137twZHzx48GCYPeFg4T/OFO7bo0ePhx9++O233zaQMJC0OhAlMJAwkE76gZSW\n",
       "lhae0+3bt891vE+fPuH46tWrC7nv2LFjw22WLVu2ZMkSAwkDSasDUQIDCQPpRFi3\n",
       "bt3SY3HgwIFjeufhOd2rV69cx1NSUsLxhQsXFnTHtWvXJiUljRgxIlw2kDCQtDoQ\n",
       "JTCQMJASwXvvvRee03369Ml1PCyfcHzu3Ln53mvfvn2PPvpohw4dMjMzj2kg5Wsj\n",
       "Ca3egPkehOI1Z84cDwKIEpx4TQumVBtIiWPNmjX5DqRhw4YVMpCi+bRy5croqleQ\n",
       "8AqSv/YGUQKvIGEgJYL169eH53T37t1zHR88eHBBZ/peunRpeFNqaur+LyxYsCAc\n",
       "GTduXLh8+PBh4cFA0upAlMBAwkA6KW3fvj08p1u2bJmdnZ3zeOfOncPxtWvX5r3L\n",
       "mDFjCnmB9e233xYeDCStDkQJDCQMpJNSVlZW69atw9N606ZN8cH09PTk5OSkpKRw\n",
       "Ie9dFi9enPLvunfvHv3epHA5/r474cFA0upAlMBAwkA6+QwdOjQ8rfv37x+/iBT9\n",
       "iFHv3r2jq5s3b37ziILeg59BwkDS6kCUwEDCQEoQaWlp0a+Fbd++fWpqaseOHcPl\n",
       "pKSk+Pvrpk6dWvj5SQwkDCStDkQJDCQMpMSxYcOGrl27xj9H9Nhjj61YsSJ+azSQ\n",
       "kpOTC7r7smXLwg0mTZokPBhIWh2IEhhIGEgIDwaSVgeiBDoeBhLCg4Gk1YEogY6H\n",
       "gYTwYCBpdSBKgI5nICE8GEhaHYgSoOMZSAgPBpJWB6IE6HgGEsKDgaTVgSgBOp6B\n",
       "hPBgIGl1IEqAjmcgITwYSFodiBKg4xlICA8GklYHogToeAYSwoOBpNWBKAE6noGE\n",
       "8GAgaXUgSoCOZyAhPBhIWh2IEqDjGUgIDwaSVgeIEuh4BhLCg4Gk1QGiBDqegYTw\n",
       "YCBpdYAogY5nICE8GEhaHSBKoOMZSAgPBpJWB4gS6HgGEsKDgaTVAaIEOp6BhPBg\n",
       "IGl1gCiBjmcgITwYSFodIEqg4xlICA8GklYHiBLoeAYSwoOBpNUBogQ6noGE8GAg\n",
       "odWBKIGOZyAhPBhIaHUgSqDjGUgIDwYSWh2IEuh4BhLCg4GEVgeiBDqegYTwYCCh\n",
       "1YEogY5nICE8GEhodSBKoOMZSAgPBhJaHYgS6HgGEsKDgYRWB6IEOp6BhPBgIKHV\n",
       "gSiBjoeBJDwYSGh1IEqg42EgITwGElodiBLoeBhICI+BZCBpdSBKoONhICE8GEha\n",
       "HYgS6HgYSAgPBpJWB6IEOh4GEsKDgaTVgSiBjoeBhPBgIGl1IEqg42EgITwYSFod\n",
       "iBLoeB4EAwnhwUDS6kCUAB3PQEJ4MJC0OhAlQMczkBAeDCStDkQJ0PEMJIQHA0mr\n",
       "A1ECdDwDCeHBQNLqQJQAHc9AQngwkLQ6ECVAxzOQEB4MJK0ORAnQ8QwkhAcDSasD\n",
       "UQJ0PAMJ4cFA0upAlAAdz0BCeDCQtDoQJUDHM5AQHgwkrQ4QJdDxDCSEBwNJqwNE\n",
       "CXQ8AwnhwUDS6gBRAh3PQEJ4MJC0OkCUQMczkBAeDCStDhAl0PEMJIQHA0mrA0QJ\n",
       "dDwDCeHBQNLqAFECHc9AQngwkLQ6QJRAxzOQKGaZmZlr166dO3fu6tWr9+7dW8S7\n",
       "vPfee+Eua9asCZeFBwNJqwNRAgMJAykRzJs3r3Xr1k2/0Lx58ylTphRy++zs7GnT\n",
       "poWbxXcJd58+fbrwYCBpdSBKYCBhIJ3c1q1bl5SUFJ7Zw4YNmzVr1ksvvRRdXbRo\n",
       "UUF3CTcLN2jWrNno0aNnz549fPjw6C5LliwRHgwkrQ5ECQwkDKST2MCBA8PTeuTI\n",
       "kfGRN954Ixzp0qVLvrfPyspq165drgU1YcKEcKRv377Cg4Gk1YEogYGEgXSyOnTo\n",
       "UPSdcjt37owPHjx4sEWLFuHgjh078t7l448/Dm969NFHs7Oz44PhluFgq1athAcD\n",
       "SasDUQIDCQPpZJWWlhae0+3bt891vE+fPuH46tWr895l8+bNjz/++F/+8pdcB8Pt\n",
       "O3ToIDwYSFodiBIYSBhIJ6t169aF53SvXr1yHU9JSQnHFy5cWMT38/zzz4fbh3sV\n",
       "Hp58bSSh1Rsw34NQvObMmeNBAFGCE69pwZRqAylxvPfee+E53adPn1zHR4wYEY7P\n",
       "nTv3qO8hOzv7r3/9a3Tuu23btvnbBbyC5K+9QZTAK0gYSCerNWvW5DuQhg0bVpSB\n",
       "FBZR9M14LVu2XLlypfBgIGl1IEpgIGEgncTWr18fntPdu3fPdXzw4MGFn+k7Kytr\n",
       "8uTJ0QkewkZKS0sTHgwkrQ5ECQwkDKST2/bt26PXf3Keki7o3LlzOL527dp873Xo\n",
       "0KEhQ4aEG7Rp02b27Nm57is8GEhaHYgSGEgYSCelrKys1q1bh6f1pk2b4oPp6enJ\n",
       "yclJSUnhQr73in7oqGvXrrt27RIeDCStDkQJDCQMpMQxdOjQ8LTu379//EJQdIaG\n",
       "3r17R1c3b9785hHR1TCKmjdv3qpVq4Lmk/BgIGl1IEpgIGEgnazS0tKiXwvbvn37\n",
       "1NTUjh07hstJSUnx99dNnTo15wkcFyxYEP1O2KfyeOGFF4QHA0mrA1ECAwkD6eS2\n",
       "YcOGrl27xmeyf+yxx1asWBG/NRpIycnJ0dXRo0cXdAr8Tp06CQ8GklYHogQGEgYS\n",
       "woOBpNWBKIGOh4GE8GAgaXUgSqDjYSAhPBhIWh2IEqDjGUgIDwaSVgeiBOh4BhLC\n",
       "g4Gk1YEoATqegYTwYCBpdSBKgI5nICE8GEhaHYgSoOMZSAgPBpJWB6IE6HgGEsKD\n",
       "gaTVgSgBOp6BhPBgIGl1IEqAjmcgITwYSFodiBKg4xlICA8GklYHogToeAYSwoOB\n",
       "pNWBKIkS6HgGEsKDgaTVAaIEOp6BhPBgIGl1gCiBjmcgITwYSFodIEqg4xlICA8G\n",
       "klYHiBLoeAYSwoOBpNUBogQ6noGE8PC1jP1DM06Wf+4btVqrAwMJ0PEMJIQH/m97\n",
       "9x9ddV3/ATxTCSuktE5WdhTsBxn++ObJvtmpzMxO2dEOhHaOJzwdOdwxYP7IcRqF\n",
       "TBCZBkenKDKgIDzgjAyxA0PnEWhTBigonP2CI2sCzTaoTSa6sfV9f/kc77newd1n\n",
       "MD3MPR5nf2zvvfdh++w+z+f1ZLuf/T8FCRQkwIynICE8oCCBggSY8RQkhAcUJFCQ\n",
       "ADOegoTwgIIEiBKY8RQkhAcUJECUwIynICE8oCABogRmPAUJ4QEFCRAlMOMpSAgP\n",
       "KEiAKIEZT0FCeEBBAkQJzHgKEsIDChIgSmDGU5AQHlCQAFECM56ChPCAggSIEpjx\n",
       "FCSEBxQkQJTAjKcgITygIJnqQJTAjKcgITygIJnqQJTAjKcgITygIJnqQJTAjKcg\n",
       "ITygIJnqQJTAjKcgITygIJnqQJTAjKcgITygIJnqQJTAjKcgITygIJnqQJTAjKcg\n",
       "ITygIJnqQJTAjKcgITygIJnqQJTAjIeCJDygIJnqQJTAjIeChPCgIJnqQJTAjIeC\n",
       "hPCgIJnqQJTAjIeChPCgIJnqQJTAjIeChPCgIJnqQJTAjIeChPCgIJnqQEECMx4K\n",
       "EsKDgmSqAwUJzHgoSAgPCpKpDhQkMOOhICE8KEimOlCQADOegoTwoCCZ6kBBAsx4\n",
       "ChLCg4JkqgMFCTDjKUgIDwqSqQ4UJMCMpyAhPChIpjpQkAAznoKE8KAgmepAQQLM\n",
       "eAoSwoOCZKoDBQkw4ylI9Fhra2tNTU1ZWVllZWVLS4vwoCCZ6kBBAgUJBamfKi8v\n",
       "z8nJGfuO7Ozs1atXCw8KkqkOFCRQkFCQ+p3a2tpEIhGSUFRUtG7duiVLlkRvVlRU\n",
       "CA8KkqkOFCRQkFCQ+pfCwsIQg6VLlyZXSkpKwsrUqVOFBwXJVAcKEihIKEj9SHt7\n",
       "e3Z2dojBvn37kottbW3jx48Pi01NTcKDgmSqA1ECBQkFqb9oaGgIGcjNzU1bLygo\n",
       "COuVlZXCg4JkqgNRAgUJBam/qK2tDRmYMWNG2vrcuXPD+oYNG4QHBclUB6IEChIK\n",
       "Un9RXV0dMlBQUJC2vnDhwrBeVlaW4WMHHTa2i7MP29WFdevv9/pND/SJz/Oss87y\n",
       "/eqf62fnr/vf2c+nvpx96+PhJW3Resz1/7n7ub7y+YdvvRcvJ8LLoFtWHvFFQVKQ\n",
       "+rWqqqojFqSioqJuC5LwcILzE6R++33PL3m1T7z4ZokS+AmSgsQJZ8eOHSED06ZN\n",
       "S1ufM2dOt3f6Fh4UJFOd7zuiBAoSCtIHSmNjY8jAhAkTOjs7U9enTJkS1mtqaoQH\n",
       "g7KpLnk++8TLuXeVe/ArSICCpCBxjDo6OnJyckIM6urqkovNzc1ZWVmJRCK8Ijwo\n",
       "SKa6iOKBKIGChILUL8ybNy/EYNasWckfIkV3aJg5c6bw0KeFgb5P/MRDQQIFCRQk\n",
       "BYkTSENDQ/RnYXNzc+fPnz958uTweiKRyPz7dcIDveXs/HUKEihIoCApSJxAdu7c\n",
       "mZ+fn7xPd15e3tatW4UHFCQFCQUJFCQUJIQH3lf/O/v5yx966cR/UZBQkMCMh4KE\n",
       "8ICpDkQJzHgoSAgPmOpAlMCMh4KE8ICpDkQJzHgoSAgPmOpAlAAznoKE8ICpDkQJ\n",
       "MOMpSAgPmOpAlAAznoKE8ICpDkQJMOMpSAgPmOpAlAAznoKE8ICpDkQJMOMpSAgP\n",
       "mOpAlAAznoKE8ICpDkQJMOMpSAgPmOpAlAAznoKE8ICpDkQJMOMpSAgPmOpAlEQJ\n",
       "zHgKEsIDpjpAlMCMpyAhPGCqA0QJzHgKEsIDpjpAlMCMpyAhPGCqA0QJzHgKEsID\n",
       "pjpAlMCMpyAhPGCqA0QJzHgKEsIDpjpAlMCMpyAhPGCqA0QJzHgKEsIDpjpAlMCM\n",
       "pyAhPICpDkQJzHgKEsIDmOpAlMCMpyAhPICpDkQJzHgKEsIDmOpAlMCMpyAhPICp\n",
       "DkQJzHgKEsIDmOpAlMCMpyAhPICpDkQJzHgKEsIDmOpAlMCMpyAhPICpDkQJzHgK\n",
       "klMgPICpDkQJzHgoSAgPmOpAlMCMh4KE8ICpDkQJzHgoSAgPmOpAlMCMh4KE8ICp\n",
       "DkQJzHgoSAgPmOpAlMCMh4KE8ICpDkQJzHgoSAgPmOpAlMCMh4KE8ICpDkQJMOMp\n",
       "SAgPmOpAlAAznoKE8ICpDkQJMOMpSAgPmOpAlAAznoKE8ICpDkQJMOMpSAgPmOpA\n",
       "lAAznoKE8ICpDkQJMOMpSAgPmOpAlAAznoKE8ICpDkQJMOMpSAgPmOpAlAAznoKE\n",
       "8ICpDhAlMOMpSAgPmOoAUQIznoKE8ICpDhAlMOMpSAgPmOoAUQIznoKE8ICpDhAl\n",
       "MOMpSAgPiBIgSiBNChLHqbW1taampqysrLKysqWlJc7+6urqsL+qqiq8LjzgOgSi\n",
       "BNKEgvQBUV5enpOTM/Yd2dnZq1evPtrmzs7OZ555JuxJ7g8fW1paKjzgOgSiBNKE\n",
       "gtTn1dbWJhKJ8MguKipat27dkiVLojcrKiqOuD/sCe8dN25ccXHx+vXrFyxYEO3f\n",
       "tGmT8IDrEIgSSBMKUt9WWFgYHtZLly5NrpSUlISVqVOndt3c0dFx++23p9WnlStX\n",
       "hpV7771XeMB1CEQJpAkFqQ9rb2+Pfllu3759ycW2trbx48eHxaamprT9r7/+elj/\n",
       "zW9+09nZmVwM28LixIkThQdch0CUQJpQkPqwhoaG8JjOzc1NWy8oKAjrlZWVaev1\n",
       "9fV33HHHokWL0hbD5kmTJgkPuA6BKIE0oSD1YbW1teExPWPGjLT1uXPnhvUNGzbE\n",
       "Ocgf//jHsDl8iPCA6xCIEkgTClIfVl1dHR7TBQUFaesLFy4M62VlZZk/vLOzc/ny\n",
       "5dGN7/bu3dtteAAA+OAxVCtIfc+bb7756Ls98cQTYb2qquqIBamoqKjbghQaUfSb\n",
       "eBMmTNi+fbuTDAAAClLfsH///rSiHz1laMeOHeH1adOmpe2fM2dOhjt9d3R0rFq1\n",
       "Krq7Q+hIDQ0NzjAAAChIfUZ7e3vtu9XX14f1xsbG6EdAqXelC6ZMmRLWa2pqjnio\n",
       "Rx55JLz35ptvXr9+fdoHAgAAClJf1dHRkZOTE9pOXV1dcrG5uTkrKyuRSIRXun5I\n",
       "9KSj/Pz8/fv3O4EAAKAgfaDMmzcvFJ5Zs2YlfxYU3aFh5syZ0Zv19fVPH/bfw7+q\n",
       "l52dPXHixCN2JwAAQEHq2xoaGqI/C5ubmzt//vzJkyeH1xOJRPL369asWZO8P8kL\n",
       "L7wQ/U3Y+7pYvHixkwkAAApSn7dz5878/Pzk/Rvy8vK2bt2afG9UkLKyssLrxcXF\n",
       "R7u94+9+9ztnEgAAFCQAAAAFCQAAQEECAABQkAAAABQkAAAABYnj1NraWlNTU1ZW\n",
       "VllZ2dLS4oTAMWhqatrThUBBjzQ0NKxdu/bAgQMuVfBeRMmlSkEilvLy8pycnOSt\n",
       "wLOzs1evXu20QE9NnTq16731V6xY4cxAfEVFRSE4O3bscKmC9yJKLlUKEt2rra1N\n",
       "JBIhGyFI69atW7JkSfRmRUWFkwPxtbW1ZWVlTZo0qfjdtm3b5uRAHAcPHly5cmU0\n",
       "rqVNdS5V0CtRcqlSkIilsLAw5Gfp0qXJlZKSkrAydepUJwfi+8c//hGCs2jRIqcC\n",
       "eioMZ3feeef48eOT/5+dNtW5VEGvRMmlSkGie+3t7dnZ2SEq+/btS/3fhShaTU1N\n",
       "ThHE9Pzzz4fUlJaWOhVwDFPdHe8YN25c2lTnUgW9EiWXKgWJWBoaGkJOcnNz09YL\n",
       "CgrCemVlpVMEMT3++OMhNS+99NL69euXL18eLj+vvvqq0wI9NWfOnLSpzqUKeiVK\n",
       "LlUKErHU1taGnMyYMSNtfe7cuWF9w4YNThHEdN9990VPHE992uuCBQva29udHDie\n",
       "qc6lCnqrILlUKUh0r7q6OgSjoKAgbX3hwoVhvayszCmCmH7961+H1Nxzzz1hXKup\n",
       "qVmxYkV0BXJrIDjOqc6lCnqrILlUKUh0r6qq6ohXnejWkK46EFNHR8fTTz/9zDPP\n",
       "pP4n3MaNG6P/qAvvdYrgmKc6lyrolSi5VClIxBJiE1Ixbdq0I4bK7VPhOE2aNClE\n",
       "ae/evU4FHPNU51IFvRIllyoFiVgaGxtDJCZMmNDZ2Zm6PmXKlLBeU1PjFEEcIUEH\n",
       "Dx7s+jvc06dP9yRyOM6pzqUKeiVKLlUKErF0dHREf5i8rq4uudjc3JyVlZVIJMIr\n",
       "ThHE8eKLL4YczZs3L3Wxra1t4sSJbkMMxznVuVRBr0TJpUpBIq6Qk5CKWbNmJf9n\n",
       "Lnra68yZM50ciClcV0Jqxo0bV1tbG62EQD322GNhMT8/3/mB45nqXKqgV6LkUqUg\n",
       "EVdDQ0P0t/Zyc3Pnz58/efLk8HoikfBLC9Ajy5YtC9nJysqaO3ducXHxjBkzoqe9\n",
       "7ty508mB4yxILlXQK1FyqVKQiCukIj8/P3k7/Ly8vK1btzot0COHDh1atWrVLbfc\n",
       "EuUoXH7uueee1157zZmBHon+ulHXZ5a7VMHxR8mlSkGiZ1pbW+vr61taWpwKOGad\n",
       "nZ1NTU27d+/2R/fApQpcqhQkAAAABQkAAEBBAgAAUJAAAAAUJAAAAAUJAABAQQKA\n",
       "98rWrVuL37F27drMmw8cOFCc4o033si8/7nnnvvrX//ab8/t7t27w1mqra31MANQ\n",
       "kADoHY2NjafFMHLkyGM7/u233/6hdwwfPjzz5l27dn0oxfr16zNs3rJlyymnnPLD\n",
       "H/7wA/Ydefjhh8MJv+GGG7rd2dTUdPrpp1900UWHDh3ySAZQkADoBf/6178+FMOV\n",
       "V155PAXp6quvDnP/Y489lnlzS0vLw4cNGTIkc0EKleCSSy456aSTXnrppQ/Yd+TB\n",
       "Bx8MX/tPf/rTOJvvvPPOsHnu3LkeyQAKEgC9oLOzs+XdzjvvvDBz5+XlpS6++eab\n",
       "x1OQZs6c2aOP+ta3vpW5IC1btixsGDFixAfvO9KjghS+NYMGDfrMZz7z1ltveTAD\n",
       "KEgA9L4vf/nLYUDPz8/vlaO9RwXpsssuCxtWrlzZzwtScOONN4b9ixYt8tAFUJAA\n",
       "6N79998/evTo7du3r1u3Lisr64ILLvjSl740atSoLVu2HENBKi0tvf7664cPHz5k\n",
       "yJBvfvObt9xyS+abBByxIHV7kMwF6eWXXw7vPfPMM9va2nr0iW3atCk7O/vSSy8N\n",
       "28aNG/eXv/yl68GfffbZaM955513xRVXhM+8ubk5bU9FRcXNN9/8ne98J+y59tpr\n",
       "p0+f/u9///vYTviTTz550003XXjhhV/84hdHjhwZ/vWuBSnzl/b000+H/ZdccomH\n",
       "OoCCBED3fvSjH4UBOgz9AwYMSH1aUXjzhRde6FFBmjVrVtenJw0ePPiVV16JX5Di\n",
       "HCRzQfr9738f3nvVVVf16JizZ88+9dRT0/bcdtttyQ2dnZ1Tpkw56aST0vZ84Qtf\n",
       "2LNnT3Lb3Xfffcopp6TtOeecc0Jr6tEJP3To0IQJE7p+2qEppRakbr+0AwcORIt7\n",
       "9+71aAdQkACIVZCCiy+++Nlnn929e/fixYvPPvvssHLttdfGL0hvv/32Rz/60fCu\n",
       "RCKxa9eu5ubm0tLSoUOHhpXrrrsuZkGKeZDMBenqq6+OjhD/mOELD2+efPLJoQLt\n",
       "3Lnz1Vdfveuuu6IC8+CDD0Z7li9fHp2o0aNHhyYTtoV3nXnmmWHlxz/+cbTnqaee\n",
       "ivaElY0bN4ZOUlxcfNZZZ4WVcEqjZ2rFPOF/+MMfom1jxozZvHlzXV3do48++qlP\n",
       "fSpajApSzNP16U9/Oqz86U9/8mgHUJAAiFWQwuT9n//8J7lYUFAQFsOoHb8gVVZW\n",
       "RrP7iy++mFxctWrVGWec8fWvfz1mQYp5kMwF6bOf/Wx4b/gS4h9z+PDhXb+owsLC\n",
       "sBi+3v8e/vHR+eefH978xS9+kbrngQceCIunnnpq9It2w4YNi+7pF/Yn94Qq9ZGP\n",
       "fCT5ZcY54R0dHeeee25YSbudd/haoh9PRQUp5un6xje+EfZMnDjRox1AQQIgVkHK\n",
       "yclJXdyyZUtYHDRoUPyCFGb66EclYbKfP39+zF/oSitIMQ+SoSCFZhJViORNw7s9\n",
       "ZvJW5nv27DmYInSe6IdImzdvDh8V7dm0aVPqx7a1tZWUlKxZsya8ktzT9VcTE4lE\n",
       "WI/+KFOcE15XV9e1+URGjRqVLEgxT9d1110X9oQP9GgHUJAAiFWQCgsLUxe3bdsW\n",
       "Fj/+8Y/HL0jB4sWLTzvttOQzYYYOHTpmzJjnnnsufkGKeZAMBWn//v3RB27YsCHm\n",
       "MdeuXZv5rzw98cQT4d+Kfgcvwx9dDQcMez784Q+HcpX2rqKiouiZSDFPeGlp6dH+\n",
       "uXvvvTf1OUhxTtekSZPCu773ve95tAMoSADEKkiPPPLI8Rek/x7+dbLwrksvvTT1\n",
       "RgW/+tWvUn/lLHNBinOQDAWpubk52l9WVhbzmH/729+iN889imXLlq1YseJoJyRp\n",
       "1apVYU84ftcvNvq7TGeccUbMEx49l2nAgAFd/5U5c+ak3cWu29P129/+Nqx8+9vf\n",
       "9mgHUJAAeF8LUtKBAwdCqQhDeTSvH+3nSJn/DtLRDpL5OUgDBw4M73300UdjHjMU\n",
       "jOgnP6m3BU+zdevWaP/+/ftT1zs6OsKpe/jhh/fs2VNVVRXtqa+vT/vw6dOnh/XQ\n",
       "YWKe8OSh/vnPf6Yd6rbbbjva30E62um64YYbwps/+9nPPNoBFCQA3qeC9NRTTw0b\n",
       "NuznP/956mJLS8vpp58e9t9///1xClLMg2QuSOecc054b+gkMY8ZSs6gQYPC68uX\n",
       "L0/dU1dXF77YoUOH7t69u7W19eSTTw575syZk7qnuLg4KldNTU2hX0X3lJsyZUrq\n",
       "nrfffju6N/dNN90U84SHD/nYxz4WVu666660Q0VPOooKUszTFVWmsWPHerQDKEgA\n",
       "vE8F6ZVXXomeNvPkk08mF6uqqqIbuJWWlsYpSDEPkrkgjRw5MtlGYh7zjjvuCK9/\n",
       "/vOfTz5zKTSia665JiyGBhKtjBkzJvo1ueQ9GKqrqy+88MKw+N3vfjdaCdUovDlw\n",
       "4MDkLSLCcX75y19Gv3oX9sc/4Xl5eWEl1KSVK1dGK2+99VboQqm3+Y55uj73uc91\n",
       "/RcBUJAAeA8LUmdn51VXXRWN76E2jBgx4vLLL48m9fPPPz/6E0DdFqSYB8lckMLX\n",
       "Et57xRVXxD9mS0vLV7/61ahsXHDBBaHwRBtCqykpKYmOs3fv3ugG4mHPxRdfHN0Z\n",
       "PDjttNO2b98e7XnjjTcuuuiiaD0c8Morr4z+UFIwbdq0Hp3w/fv3f+1rX4s+9itf\n",
       "+cr3v//96OdC0Q+pooIU50sLtSr647ahOHm0AyhIAMQqSAsWLEhdjJ4D84lPfKLr\n",
       "/mhqP+JzkELNGDduXPS7YZGBAwdef/31r7/++tH+9a7PQYpzkMwFqb6+PnSYwYMH\n",
       "h24Q/5itra1jx44NH5XcEypHsh1FGhsbR40aFVWUyGWXXZZ24+/wj956663Jv+ga\n",
       "ykmoN6k/4Yl/wkPdGj16dPJTCp/zjTfeOHv27NTnIHX7pUX334tuoAeAggTA++3g\n",
       "wYO1tbXl5eVh6A+tI/Pmo92kIfNBMhekYMSIEV2fUxTzE9u1a1dFRUWGUtfR0VFd\n",
       "Xb158+boj8MezWuvvbZx48ZQco7zfHZ2doZPeNu2be3t7cdwzkPry3AbDAAUJABO\n",
       "IJnvYnc03Rakv//970e71Vu/EsrSJz/5yYEDBzY1NXmwAShIAPSNgnTNNdc89NBD\n",
       "y5Yty7z5wIEDDx02ZMiQzAUp+MlPfhL2bNy4sT+f3rvvvrvrXfUAUJAAOKELUmT4\n",
       "8OGZN+/atetDKTIXpJqamgEDBvzgBz/ot+e2qalp8ODBw4YNSz4XCwAFCYAT2ssv\n",
       "v/z4O9asWZN5cxj0//znPyf3NzY2Zt5fXl4eth06dKjfFqTw5Yei6GEGoCABAAAo\n",
       "SAAAAAoSAACAggQAAKAgAQAAKEgAAAAKEgAAgIIEAACgIAEAAChIAAAAChIAAICC\n",
       "BAAAoCABAAAoSAAAAAoSAACAggQAAKAgAQAAKEgAAAAKEgAAgIIEAACgIAEAAChI\n",
       "AAAAChIAAICCBAAAoCABAAAoSAAAAAoSAACAggQAAICCBAAAoCABAAAoSAAAAAoS\n",
       "AACAggQAAKAgAQAAKEgAAAA99399zda0zqOAtAAAAABJRU5ErkJggg==\" style=\"clip-path:url(#clipPath2);\" height=\"840\" preserveAspectRatio=\"none\"\n",
       "    /></g\n",
       "  ></g\n",
       "></svg\n",
       ">\n"
      ]
     },
     "metadata": {
      "filenames": {
       "image/svg+xml": "/Users/eechris/Documents/code/src/github.com/cpjobling/eg-247-textbook/_build/jupyter_execute/dt_systems/4/dt_models_53_0.svg"
      }
     },
     "output_type": "display_data"
    }
   ],
   "source": [
    "impulse(Hz,15)\n",
    "grid\n",
    "title('Example 5 - Part 2 - As Analogue Signal')\n",
    "xlabel('nTs [s]')\n",
    "ylabel('Impulse response h(t)')"
   ]
  },
  {
   "cell_type": "markdown",
   "id": "7ed590d7",
   "metadata": {
    "slideshow": {
     "slide_type": "slide"
    }
   },
   "source": [
    "#### 5.3. The DT step response\n",
    "\n",
    "$$Y(z) = H(z)X(z)$$"
   ]
  },
  {
   "cell_type": "markdown",
   "id": "0e884bb5",
   "metadata": {
    "slideshow": {
     "slide_type": "fragment"
    }
   },
   "source": [
    "$$u_0[n] \\Leftrightarrow \\frac{z}{z - 1}$$"
   ]
  },
  {
   "cell_type": "markdown",
   "id": "3094374d",
   "metadata": {
    "slideshow": {
     "slide_type": "subslide"
    }
   },
   "source": [
    "We will work through this example in class.\n",
    "\n",
    "[Skip next slide in Pre-Lecture]"
   ]
  },
  {
   "cell_type": "markdown",
   "id": "d50cb389",
   "metadata": {
    "slideshow": {
     "slide_type": "subslide"
    }
   },
   "source": [
    "$$\\begin{array}{lcl}\n",
    "Y(z) = H(z){U_0}(z) &=& \\frac{z^2 + z}{z^2 + 0.5z + 0.125}.\\frac{z}{z - 1}\\\\\n",
    " & = & \\frac{z(z^2 + z)}{(z^2 + 0.5z + 0.125)(z - 1)}\n",
    "\\end{array}$$"
   ]
  },
  {
   "cell_type": "markdown",
   "id": "29b30489",
   "metadata": {
    "slideshow": {
     "slide_type": "subslide"
    }
   },
   "source": [
    "$$\\frac{Y(z)}{z} = \\frac{z^2 + z}{(z^2 + 0.5 z + 0.125)(z - 1)}$$"
   ]
  },
  {
   "cell_type": "markdown",
   "id": "0fb0521b",
   "metadata": {
    "slideshow": {
     "slide_type": "fragment"
    }
   },
   "source": [
    "Solved by inverse Z-transform."
   ]
  },
  {
   "cell_type": "markdown",
   "id": "80b5724b",
   "metadata": {
    "slideshow": {
     "slide_type": "notes"
    }
   },
   "source": [
    "<pre style=\"border: 2px solid blue\">\n",
    "\n",
    "\n",
    "\n",
    "\n",
    "\n",
    "\n",
    "\n",
    "\n",
    "\n",
    "\n",
    "\n",
    "\n",
    "\n",
    "\n",
    "\n",
    "\n",
    "\n",
    "\n",
    "\n",
    "</pre>"
   ]
  },
  {
   "cell_type": "markdown",
   "id": "1368cb7d",
   "metadata": {
    "slideshow": {
     "slide_type": "subslide"
    }
   },
   "source": [
    "##### Matlab Solution\n",
    "\n",
    "See [dtm_ex1_3.mlx](https://cpjobling.github.io/eg-247-textbook/dt_systems/4/matlab/dtm_ex1_3.mlx). (Also available as [dtm_ex1_3.m](https://cpjobling.github.io/eg-247-textbook/dt_systems/4/matlab/dtm_ex1_3.m).)"
   ]
  },
  {
   "cell_type": "code",
   "execution_count": 8,
   "id": "28620474",
   "metadata": {},
   "outputs": [],
   "source": [
    "open dtm_ex1_3"
   ]
  },
  {
   "cell_type": "markdown",
   "id": "dea73057",
   "metadata": {
    "slideshow": {
     "slide_type": "notes"
    }
   },
   "source": [
    "###### Results\n",
    "\n",
    "![Results](./pictures/dtm_ex1_3_1.png)"
   ]
  },
  {
   "cell_type": "markdown",
   "id": "cde71584",
   "metadata": {
    "slideshow": {
     "slide_type": "slide"
    }
   },
   "source": [
    "(simulink)=\n",
    "## Modelling DT systems in MATLAB and Simulink"
   ]
  },
  {
   "cell_type": "markdown",
   "id": "20535b9f",
   "metadata": {
    "slideshow": {
     "slide_type": "fragment"
    }
   },
   "source": [
    "We will consider some examples in class"
   ]
  },
  {
   "cell_type": "markdown",
   "id": "1e830b51",
   "metadata": {
    "slideshow": {
     "slide_type": "subslide"
    }
   },
   "source": [
    "### MATLAB\n",
    "\n",
    "Code extracted from [dtm_ex1_3.m](https://cpjobling.github.io/eg-247-textbook/dt_systems/4/matlab/dtm_ex1_3.m):"
   ]
  },
  {
   "cell_type": "code",
   "execution_count": 9,
   "id": "a4dfdbd2",
   "metadata": {
    "slideshow": {
     "slide_type": "fragment"
    }
   },
   "outputs": [],
   "source": [
    "Ts = 1;\n",
    "z = tf('z', Ts);"
   ]
  },
  {
   "cell_type": "code",
   "execution_count": 10,
   "id": "2a3e6a7a",
   "metadata": {
    "slideshow": {
     "slide_type": "fragment"
    }
   },
   "outputs": [
    {
     "name": "stdout",
     "output_type": "stream",
     "text": [
      "\n",
      "Hz =\n"
     ]
    },
    {
     "name": "stdout",
     "output_type": "stream",
     "text": [
      " \n"
     ]
    },
    {
     "name": "stdout",
     "output_type": "stream",
     "text": [
      "        z^2 + z\n"
     ]
    },
    {
     "name": "stdout",
     "output_type": "stream",
     "text": [
      "  -------------------\n"
     ]
    },
    {
     "name": "stdout",
     "output_type": "stream",
     "text": [
      "  z^2 - 0.5 z + 0.125\n"
     ]
    },
    {
     "name": "stdout",
     "output_type": "stream",
     "text": [
      " \n"
     ]
    },
    {
     "name": "stdout",
     "output_type": "stream",
     "text": [
      "Sample time: 1 seconds\n"
     ]
    },
    {
     "name": "stdout",
     "output_type": "stream",
     "text": [
      "Discrete-time transfer function.\n",
      "\n"
     ]
    }
   ],
   "source": [
    "Hz = (z^2 + z)/(z^2 - 0.5 * z + 0.125)"
   ]
  },
  {
   "cell_type": "code",
   "execution_count": 11,
   "id": "388ddc38",
   "metadata": {
    "slideshow": {
     "slide_type": "subslide"
    }
   },
   "outputs": [
    {
     "data": {
      "image/svg+xml": [
       "<?xml version=\"1.0\"?>\n",
       "<!DOCTYPE svg PUBLIC '-//W3C//DTD SVG 1.0//EN'\n",
       "          'http://www.w3.org/TR/2001/REC-SVG-20010904/DTD/svg10.dtd'>\n",
       "<svg xmlns:xlink=\"http://www.w3.org/1999/xlink\" style=\"fill-opacity:1; color-rendering:auto; color-interpolation:auto; text-rendering:auto; stroke:black; stroke-linecap:square; stroke-miterlimit:10; shape-rendering:auto; stroke-opacity:1; fill:black; stroke-dasharray:none; font-weight:normal; stroke-width:1; font-family:'Dialog'; font-style:normal; stroke-linejoin:miter; font-size:12px; stroke-dashoffset:0; image-rendering:auto;\" width=\"560\" height=\"420\" xmlns=\"http://www.w3.org/2000/svg\"\n",
       "><!--Generated by the Batik Graphics2D SVG Generator--><defs id=\"genericDefs\"\n",
       "  /><g\n",
       "  ><defs id=\"defs1\"\n",
       "    ><clipPath clipPathUnits=\"userSpaceOnUse\" id=\"clipPath1\"\n",
       "      ><path d=\"M0 0 L560 0 L560 420 L0 420 L0 0 Z\"\n",
       "      /></clipPath\n",
       "      ><clipPath clipPathUnits=\"userSpaceOnUse\" id=\"clipPath2\"\n",
       "      ><path d=\"M0 0 L1119.9999 0 L1119.9999 839.9999 L0 839.9999 L0 0 Z\"\n",
       "      /></clipPath\n",
       "    ></defs\n",
       "    ><g style=\"fill:white; stroke:white;\"\n",
       "    ><rect x=\"0\" y=\"0\" width=\"560\" style=\"clip-path:url(#clipPath1); stroke:none;\" height=\"420\"\n",
       "    /></g\n",
       "    ><g transform=\"scale(0.5,0.5)\"\n",
       "    ><image x=\"0\" y=\"0\" width=\"1120\" xlink:href=\"data:image/png;base64,iVBORw0KGgoAAAANSUhEUgAABGAAAANICAIAAAAHNA4rAABbaklEQVR42uzdCXiU\n",
       "9aE+bEABUYpiLZVFllot7dFTtdViba3VYl1btW7g8ncFAgZEIYpbkEhZhFqqNSD0\n",
       "iNoWgqgRKpZNJUAEbEBFoCAggiBqRIhBICHp9zu8x/cbkwARI5DJfV9cvTLvzGQZ\n",
       "5qnPQ5J3av0HAACAHWp5CAAAAAwkAAAAAwkAAMBAAgAAMJAAAAAMJAAAAAMJAADA\n",
       "QAIAADCQAAAADCQAAAADCQAAwEACAAAwkAAAAAwkAAAAAwkAAMBAAgAAMJAAAAAM\n",
       "JAAAAAMJAADAQAIAADCQAAAADCQAAAADCQAAwEACAAAwkAAAAAwkAAAAAwkAAMBA\n",
       "AgAAMJAAAAAMJAAAAAMJAADAQAIAADCQAAAADCQAAAADCQAAwEACAAAwkAAAADCQ\n",
       "AAAADCQAAAADCQAAwEACAAAwkAAAAAwkAAAAAwkAAMBAAgAAMJAAAAAMJAAAAAMJ\n",
       "AADAQAIAADCQAAAADCQAAAADCQAAwEACAAAwkAAAAAwkAAAAAwkAAMBAAgAAMJAA\n",
       "AAAMJAAAAAMJAADAQAIAADCQAAAADCQAAAADCQAAwEACAAAwkAAAAAwkAICv1bZt\n",
       "2xYvXvyPf/xj0qRJb7311ubNmz0mgIEEJK2UlJQGu/PUU09Vu6/r+OOPjz75e++9\n",
       "t6re58cff3zlDvfff/9e+Fs4+OCD27Zte9lll40ZM6YKP1Zpaenmz1Xm9k8++eQF\n",
       "F1zQsmXLI4444tRTT/39739fUFDwdfyVZWRkxF/7NddcU00/xNf9JNzLNm3a1Ldv\n",
       "329+85u1EoRnZteuXVeuXLm/faVJ8IADBhKw79144421dmfkyJHV7us65phjok/+\n",
       "zjvvrKr3OWzYsOh9/uIXv9jLfwsXX3xxUVFRlXystWvXxu/25Zdf3sUtw0c877zz\n",
       "yn8yRx555Ntvv121j0CYbW3atIk/xEEHHbRx48Zq9yH2wpNwbwoTOkzinT0nw9Pg\n",
       "nXfe2a++0ur+gAMGEmAgVZuqFLp1VlZWqNR7ZyDVq1fvwAMPLPO3MGTIkCofSJMn\n",
       "T97FLTMyMhI/gTp16sRvh4c3PCZV+AiEqVbm6x0xYkTVPsh74UMkWV/v3r17/Fg1\n",
       "bdq0Q4cOF1100aGHHhofPOmkk6Jb/vrXv/7ODg899JCBBBhIQPIMpFCX8yqSn59f\n",
       "YwfShAkTLrvsstatWycW6691IK1bty46+Mknn4QGX7du3fgf7PfmQCoqKmrQoEF0\n",
       "s1B/FyxYsGHDhsTGHI5U4SNw7bXXllkvP/3pT6v2Qd4LHyLJ+vr3vve96PP/r//6\n",
       "r8LCwuhgQUHBj370o/gx/Oijj5L1n0UAAwkwkP7/al5eZmbmtZ9bvHhxdDDU6/hg\n",
       "/MNaGzdu/POf/3zmmWceffTRhx9+eJs2bcLbQ4YM2bJlS/ze0tLSonu99tprEydO\n",
       "DAukRYsWJ510Urdu3TZt2hRu8Je//OXCCy/89re/ffzxx3fp0mXNmjXxfW+55Zbo\n",
       "vosWLQofqH379mE5nHbaabfffvuqVat2W5Vef/31rl27tmvXLrzzX/3qV/fee2/i\n",
       "vcrr27dv+W+p7Z2BFLnhhhviqz7++ONKPsjxoxT+sl599dULLrigadOmPXr06Ny5\n",
       "829/+9v4HZ5xxhnhNllZWeU/pfBAxTcLb8cft379+tHBv/3tb1X15YfOfcghh0Tv\n",
       "tnHjxvHHXbp0aZlbzpgx47rrrjvuuOOaNGly1FFHhb/HBx544IMPPqiqD5H4uD37\n",
       "7LMXXXRRs2bNWrZseckllyxcuDDxlpV5nlf4JAzPt1tvvfWXv/xleN6Gp/dVV101\n",
       "duzYCj/n4cOHhxSETyAMktTU1BCN8GSIPr0lS5aEG4T3E11MHLqvvPJKdPD666//\n",
       "Ks/8zZs3x49Sx44dE6968skn634uCn6c6HHjxn2pL6FqH3MDCQwkgL03kObPnx9/\n",
       "K+Pkk0/evn17fn5+aFrRkR/84AdRR3nvvffatm1b4c/phXvFZwWIe0wo6Ik/uBUd\n",
       "ufnmm8vcNxSmDRs2RPeNf8LnxBNPLHOzUJpzc3N3UZUGDhxYr1698vcKE2JnX/iA\n",
       "AQP27UAK1TO+KvqVj8o8yPGjFNpn/CWHLl67du3y9wrDqfynFLrpDTuE9xAfXL58\n",
       "efweVqxYUVVfftjD8SczadKk+EPcddddZW5W5tkSad26dfzLMF/xQ8SPW5iUZR6r\n",
       "Bg0a5OXlRTf7ss/z+EkYPo2GDRuWv9f5558fr9//7Dhr3GWXXVbmNj/5yU/it8MK\n",
       "SvxsE3+wbeTIkdHBAw444Ks884MWLVpEtwwPRZcuXUK4SkpKKrxl+a+0kl9C1T7m\n",
       "BhIYSABVXM3PPvvs35QTn7Ht97//fXzL/v37d+jQIf6Fmfinra644or4YMeOHfv1\n",
       "6/erX/0qvteECRPK1Kmoe4WLocyVKT2tWrWKv1kRpKenl6lT0W/FnHDCCYnvrXnz\n",
       "5qGZVViVxo8fH9+sZcuWJ510UnzxkEMO+fDDD3f2EG3/3DXXXLOXB1KYhccee2x8\n",
       "UoGonlbmQU58lGJhIJ177rm//OUv4yM//vGPzznnnOHDh+/60wsP6aOPPtqzZ88j\n",
       "jjgiuuOPfvSjKvzyf/azn0Xv9vjjjw8XTz/99OjiUUcdFTfy0tLS+Ds/7dq1e/DB\n",
       "Bzt16hR/U+j//b//99U/RPnH7Rvf+EbixfCc37PnefQk/Ne//hU/z8PfZvgqwtM1\n",
       "vlfil/DnP/85Pn7YYYeFT/7www9P/Ey+1EDa42d+GEVlnkLh07j44osfeeSRMvO4\n",
       "fNwq+SVU7WNuIIGBBFDF1bxCoVLHO+GnP/1p+RsMHjw4vkHcdUJ5jQ8efPDB0cF7\n",
       "7rmnTJ0KXWfmzJnhyOLFi+NTIITJNHXq1HBwzZo18fmFQy0rU6fCfaObBUOHDi3z\n",
       "m/dlqtKWLVuaNWsWHenWrVvUiZcvXx537sqcFzhU2L0wkG644YbU1NTwSV5++eWJ\n",
       "nfKSSy6p/IOcWDrDBnj44YenTZsWCvp/vsxJGmLhLyLxb/wHP/hBZX6qrZKWLVsW\n",
       "v+eBAweGI2GMxUfiv+JFixbFB+OfCRwwYMA3dvj+97//1T9E4uMWHs+xY8cWFRW9\n",
       "8cYbYatHB7/zne/s2fM8ehKGRRSvlPhbXj169Ig/k+j7OWEKxs/VMOei3wD89NNP\n",
       "TzvttD0YSF/lmf/ZZ5/Fw7KMOnXqXHrppfHToMxXWvkvoWofcwMJDCSAvTqQghUr\n",
       "VpT5AaEzzjgj8R/g33333VU7RD/xsm7duj/96U/xjfv06VOmTv32t7+N7xv/+M3J\n",
       "J58cH4x/SidcW6ZOlfm9iNDao+PhLuWr0ty5c+P1NW/evMWfu+iii+LOWrUDKZTR\n",
       "m7/otttu2+O/hfCwxy87U5kHOX6Uwh3ff//9xI/11QdS9M3GMu92z77w4K677or/\n",
       "asKXFo58+OGH8Xdarrrqquhm4cuMP3r9+vXD38WTTz4Zin5lPv9KfojExy3xVZKu\n",
       "v/76uMHv2fM8PAnD2Ih/PjAzMzN+52HAxFsl7L0yj/bTTz8d3zIsij0YSF/xmR/S\n",
       "/fjjj59yyikV/nDmcccdF52koUzcKv8lVO1jbiCBgQRQxQNp7Nixr5RT5vekE39y\n",
       "JvTUqG4mCp37hhtu+OEPf1jmR2UqLI69e/eO79i+ffvo4KWXXhofjH8fqfxAevTR\n",
       "R8v08sSf/ipTlUaNGrXrBVK3bt2qHUjxKeBi3/rWt/ZsIIUVWuYnmnb7IMeP0nXX\n",
       "XVfmY+3BQPrPjl/ZX7Zs2d133x23/IyMjK/+hYf+Hf+iy5FHHjn+c6G1x/04Om9H\n",
       "ECZxhb+AFD6TXbzo7Zf6EPHj1q9fv/g9xEU88bd6vtTzPDwJ8/Ly4hu89dZbiZ9h\n",
       "/My/+uqrw8WXXnopvmXi600lnjWh8gOpSp750dMmLNLwGZb5SbnoO3Jl4lb5L6Fq\n",
       "H3MDCQwkgCoeSLs4SUMsTJrEXhL/ukWkU6dOZbrXCSecEJ/docLiGN/37LPPjg5e\n",
       "eeWV8cHOnTvvbCD9z//8T4Wf2NFHH13+QwwZMmS3L/cUnwdi3w6kYcOGPbHDU089\n",
       "NXPmzE8++aTMjSvzIMeP0gMPPLBnA2nEiBE9dyjzVxz/9s6JJ5741b/w8Ans9u8l\n",
       "VPzoxsXFxeEv/Wc/+1n5F4k666yzdva6TF/qQ1Tyt3r24Hke/ip3duq83/zmN9Hx\n",
       "8Ea4mJubG98y8Z8nNm7cWOYVfuPP9g9/+EP5f8KIPts9fuaHx23ADg8++GDiixSH\n",
       "t8OTKr5vWHfl41b5L6FqH3MDCQwkgL09kELJK3MasW9/+9vxL3m/+eabib9aHYrR\n",
       "9u3bw/H4RYSqdiDF7y1yySWXxF25/Id44YUX4h80ev/99z+uyG5f+fRLDaRnnnlm\n",
       "3BftYo1U/m+hkg9yhaXzSw2k+Ht3F154YeLx+BwPTZs2/epfePi73m19D4uozL02\n",
       "bdr0/PPP33LLLYcddlh8s0WLFn31D1GZsr5nz/P169fH93rxxRcTP8Pvf//70fE7\n",
       "7rjjP1/8YcLEVwceM2ZMmW+/xD+bl5KSEt/s3nvvTfxs9/iZn7is5s6dW+baNm3a\n",
       "xC+RVD5ulf8SqvYxN5DAQAKo4oE0Y8aMJRUJ3S7csrCw8Oijj45PSxX/CsdFF10U\n",
       "vavHH388flfxjzyF+RT/e3/VDqQWLVrE311555134lPeRaelLvMhVq9eHf8SRWhp\n",
       "8fsP9f3UHa699trdPlZ75yQNux5IlXyQKzmQwnvb2QcKd4x/HX/27NnxPIsfxsTf\n",
       "H9sz4a8vPjPHCSeckP5Fia9Gunz58hEjRjTc4cc//nHiYi//HYk9/hCVLOt7/Dxv\n",
       "0qRJvDnjTTJt2rT4vUUvLRWuil+htVGjRpMmTdqyZUu4WXxW/XhdxO8//m7e1q1b\n",
       "jzvuuMTPdo+f+Tk5OYmn5048C/lrr70Wf+sm+sWh8idpqOSXULWPuYEEBhJAFVfz\n",
       "nenevft/vnjO3xdffPGOO+6IL0Y/7fb888/HRx588MEwq0KxDlsiPhj/xlGVDKTo\n",
       "X6/DBxowYMBRRx0Vt/noBSjLf4jrrrsuPv3dBRdc8Kc//Sl87XF7LvMbTfvtQKrk\n",
       "g7yLgRSabnzjI488cmcvVPruu+/Gv+kRxudll13Wvn37xLOxP/nkk1/xq87MzCyz\n",
       "DRJlZWXF1957772JZ7Hr2bNnmMQrV66M/0ZCUQ4D/it+iEqW9T1+nj/88MOJL3w0\n",
       "fPjwu+++Oz7rSdu2baMz1AchULuOZLQufv3rXyeeLyEkND4Pe+IPp+3ZMz9MmvjE\n",
       "J9EJwcMkvvnmm3/1q1/F62gX59eu5JdQtY+5gQQGEsDeG0j//Oc/44vXX3991J/i\n",
       "120MTTq01Y8++ij+mZ8KhY9VhQOpwtcMvfXWW3f2IcKnF/9cUPmzIGzdurVaDKRK\n",
       "Psi7GEj/Sfj5qF28UGxiSS3vhhtu+Opf9SmnnBKX7/LzZvPmzfFJnFu1alVaWlr+\n",
       "hUdjqampVfIhKlPW9/h5XlJSkvjSPWXOUjhr1qz4I4bP5J577ilz4riUlJR4oEbr\n",
       "Yty4ceXfVXwShXgg7fEzP6zQ+LteFYrPT1g+bpX8Eio5kCr5mBtIYCABVIHyrwVZ\n",
       "XijQ8StahjfiH2x79dVX45USml848vLLL3/3u99N/EXqO+64I+610Wt0/ifhlNyJ\n",
       "r8Fy3nnn7WIgnXbaaWXqVP/+/S+//PK4b4Ve+OCDD8Z3rPBDfPrpp6Gixa8uGk27\n",
       "8NXt4hxoieJTD1f5QEr8W9jFC3dGKvMg73ogzZ0798QTT9ztQPrPjp+zSrxldNa4\n",
       "0aNHJ57bfc8sX748fp9lztgei18bNAj7obi4OHTuI488MvHzCRfT09Mr/C2aPfgQ\n",
       "FT5u8c93xZNjj5/n4XEL7znx+zzhvhdccMGqVavKf27z5s0bMmTINddcc9ddd73w\n",
       "wgsffPBBvDfmzJkTjZCBAwfG388JYTz//PMnTZpU/vxve/zMD3M9LS2tUaNGZf4/\n",
       "4YQTTnj22Wfjh73CuFXmS9jZc3XPHvOdfRqAgQSwL23fvn3x4sVTp05dtGhRZb4t\n",
       "82WVqVOh+YUSv3Tp0t2eYiEWSurbb78dPsOFCxd+9tlnNfZBDl97qL/r168Pw2PX\n",
       "tywoKAhNd8aMGTt77aO9KXy2y5Yti85BH/7eo1/Wr3Z/BeGRf+mll8IzMPEEcbGw\n",
       "A6/fYfjw4fHBJ554osJvMxYWFs6ePTvsh40bN35Nz/zwBYaHevLkyc8888y//vWv\n",
       "3Z7v8ct+CfvJ/7cABhJAtbTr741AErj66qvjbwqFgRH2zODBg+NXc4rO0+hLAAwk\n",
       "AAwkaoS8vLzEk5EkOuKII/71r3/5EgADCYD/881vfvPAHYYNG+bRIFktWLDg3HPP\n",
       "TTwTyeGHH37xxRevXbvWlwAYSABATfTRRx/NmTPnpZde2h9++6vGfgmAgQQAAGAg\n",
       "AQAAGEgAAAAGEgAAgIEEAABgIAEAABhIAAAABhJf2caNGxcuXDhr1qwlS5Zs2bJl\n",
       "t7fPz89fW05BQYFHEgAADKRqrKSkJDs7u0uXLp0+17Nnz7CUdn2v9PT0TuWE9+Px\n",
       "BAAAA6kae/nll8O2SU1Nfe6556ZOnTp06NBwMeylFStW7OwuRUVF4QZpaWlZX7Rw\n",
       "4UKPJwAAGEjVWO/evcMiWrJkSXxk4MCB4cj48eN3dpd333033GD06NEePQAAMJCS\n",
       "x8aNG8PUuffeexMPTps2LRzMzMzc2b1yc3PDDcLNPIAAAGAgJY+CgoKcnJw33ngj\n",
       "8WCYRmH/vPTSSzu717hx48IN5s+fH+47fvz4sJRWrlzpwQQAAAMpeSxfvnzWrFnD\n",
       "hg0L4ycjI6OwsHBnt3zooYfCbbp27Zp4hoZRo0YVFxd7GAEAwEBKBg8++GC8dubP\n",
       "n7+LW95+++3hNoMGDZozZ87SpUuzs7OjsbTrs9h1AgAgGSnSBlJyWrFiRV5eXhg5\n",
       "3bt3D0/0cePGVXizkpKSKVOmTJ06NfH7RfPmzYu+pxSu3cVA8iDDVydKIEogTQYS\n",
       "e3spde7cOTU19Uv9yFxaWlqIx7p164QH/HcIRAmkCQOpWnr99defeOKJ8j9Q17dv\n",
       "3/BcX7p0afm7lJaWbtmypfx2ysjICHdZvHix8ID/DoEogTRhIFVLs2fPjk7JUOZ4\n",
       "nz59wvHVq1eXv0teXl64asSIEYkHi4qKUlNTw/H8/HzhAf8dAlECacJAqpbee++9\n",
       "6Ffr3n777fjg1KlTw5EweLZv3x4uhpk0ZYfo2jCBwrUpKSnLli2LjpSWlo4dOzYc\n",
       "7Nu3r/CA/w6BKIE0YSBVY0899VR0foXHHnssKytr4MCB0WTKzc2NbjB58uQy5ycZ\n",
       "M2ZMuNilS5fMzMxwl/79+0fvYfny5cID/jsEogTShIFUjRUXF0+aNCk6c10kPT09\n",
       "Ly8vvkE0kMIcio9s37493OXWW2+Nbh+uGjRo0Jo1a4QH/HcIRAmkCQMJ4YG95513\n",
       "3vEggCiBjmcgITyAVgeiBDqegYTwAFodiBLoeAYSwgNodSBKoOMZSAgPoNWBKIGO\n",
       "ZyAhPIBWB6IEOp6BhPAAWh2IEuh4BhLCA2h1IEqg4xlICA+g1YEogY5nICE8gFYH\n",
       "ogQ6HgaS8AgPaHUgSqDjYSAhPKDVgSiBjoeBhPCAVgeiBDoeBhLCA1odiBLoeBhI\n",
       "CA9odSBKoONhICE8oNWBKIGOh4GE8IBWB6IEOh4GEsIDWh2IEuh4Op6BhPCAVgei\n",
       "BOh4BhLCA1odiBKg4xlICA9odSBKgI5nICE8oNWBKAE6noGE8IBWB6IE6HgGEsID\n",
       "Wh2IEqDjGUgID2h1IEqAjmcgITyg1YEoATqegYTwgFYHogToeAYSwgNaHYiSBwF0\n",
       "PAMJ4QGtDhAl0PEMJIQHtDpAlEDHM5AQHtDqAFECHc9AQnhAqwNECXQ8AwnhAa0O\n",
       "ECXQ8QwkhAe0OkCUQMczkBAe0OoAUQIdz0BCeECrA0QJdDwDCeEBrQ4QJdDxDCSE\n",
       "B7Q6rQ5ECXQ8AwnhoXo648/zrxuzuLr80erAQAJ0PAMJ4eHrHUjV5VM1kMBAAnQ8\n",
       "AwnhwUD6P60fmN33nyv3/z9aHRhIoOMZSAgPBhL/p0XfGR4EMJBAxzOQEB4MJAwk\n",
       "MJBAxzOQEB4MJAwkMJBAxzOQEB4MJAwkMJBAxzOQEB4MJHaq3dDc8Kju/39aPzDb\n",
       "XxYGEuh4GEgIDwaSVve/DCRECXQ8DCR2pVmzZmeccUYFBXoHx5P1eOvez3ocqvZ4\n",
       "u3btqsvnX/6leM8YMCn82a+OhyHnT838U12+GeuPP/v/HwPJQMK/LvAl+A6Sf/YG\n",
       "UQIdDwMJ4cFA0upAlEDHw0BCeDCQtDoQJdDxMJAQHgwkrQ5ECXQ8DCSEBwNJqwNR\n",
       "Ah0PAwnhwUDS6kCUQMfT8QwkhAcDSasDUQJ0PAMJ4cFA0upAlAAdz0BCeDCQtDoQ\n",
       "JUDHM5AQHgwkrQ5ECdDxDCSEBwNJqwNRAnQ8AwnhwUDS6kCUAB3PQEJ4MJC0OhAl\n",
       "QMczkBCeaum6MYuryx9/WVodiBLoeBhICM/XHKfbpnsQtDpAlEDHM5AQHgwkrQ4Q\n",
       "JdDxDCSEBwMJrQ5ECXQ8AwnhwUBCqwNRAh3PQEJ4MJDQ6kCUQMczkBAeDCS0OhAl\n",
       "0PEMJIQHAwmtDkQJdDwDCeHBQEKrA1ECHc9AQngwkNDqQJRAxzOQEB4MJLQ6ECXQ\n",
       "8QwkhAcDCa0ORAl0PAwk4cFAQqsDUQIdDwMJ4TGQ0OpAlEDHw0BCeAwktDoQJdDx\n",
       "MJAQHgMJrQ5ECXQ8DKQaYuPGjQsXLpw1a9aSJUu2bNkiPAYSWh2IEhhIGEg1UUlJ\n",
       "SXZ2dpcuXTp9rmfPnmEpCY+BhFYHogQGEgZSjfPyyy+HGKSmpj733HNTp04dOnRo\n",
       "uBj20ooVK4THQEKrA1ECAwkDqWbp3bt3iMGSJUviIwMHDgxHxo8fLzwGElodiBIY\n",
       "SBhINcjGjRtDBu69997Eg9OmTQsHMzMzhcdAQqsDUQIDCQOpBikoKMjJyXnjjTcS\n",
       "D4ZpFILx0ksvCY+BhFYHogQGEgZSDbV8+fJZs2YNGzYspCIjI6OwsFB4DCS0OhAl\n",
       "MJAwkGqoBx98MD6R3fz58ysTngq9wx4JA8mDUDPNnDnTgwCiBHtfp51TjA0k/teK\n",
       "FSvy8vKys7O7d+8egjFu3Dj/urBX4+Q7SP7ZGxAl2A/oeAYSFSylzp07p6amFhcX\n",
       "C4+BhFYHogQGEgZSTfH6668/8cQT5X+grm/fviEbS5cuFR4DCa0ORAkMJAykmmL2\n",
       "7NnRKRnKHO/Tp084vnr1auExkNDqQJTAQMJAqinee++96Ffx3n777fjg1KlTw5HU\n",
       "1NTt27cLj4GEVgeiBAYSBlIN8tRTT4UYdO3a9bHHHsvKyho4cGA0mXJzc4XHQEKr\n",
       "A1ECAwkDqWYpLi6eNGlSdOa6SHp6el5envAYSGh1IEpgIGEgITwGElodiBLoeBhI\n",
       "CI+BhFYHogQ6no5nICE8BhJaHYgSoOMZSAiPgYRWB6IE6HgGEsJjIKHVgSgBOp6B\n",
       "hPAYSGh1IEqAjmcgITwGElodiBKg4xlICI+BhFYHogToeAYSwmMgodWBKAE6noGE\n",
       "8BhIaHUgSoCOZyAhPAYSWh2IEqDjGUgIj4GEVgei5EEAHc9AQngMJLQ6QJRAxzOQ\n",
       "EB4DCa0OECXQ8QwkhMdAQqsDRAl0PAMJ4TGQ0OoAUQIdz0BCeAwktDpAlEDHM5AQ\n",
       "HgMJrQ4QJdDxDCSEx0BCqwNECXQ8AwnhMZDQ6gBRAh3PQEJ4MJC0OkCUQMczkBAe\n",
       "DCStTqsDUQIdz0BCeDCQ0OpAlEDHM5AQHgwktDoQJdDxDCSEBwMJrQ5ECXQ8Awnh\n",
       "wUBCqwNRAh3PQEJ4MJDQ6kCUQMczkBAeDCS0OhAl0PEMJIQHAwmtDkQJdDwDCeHB\n",
       "QEKrA1ECHc9AQngwkNDqQJRAx8NAEh7hMZDQ6kCUQMfDQEJ4DCS0OhAl0PEwkBAe\n",
       "AwmtDkQJdDwMJITHQEKrA1ECHQ8DCeExkNDqQJRAx8NAQngMJLQ6ECXQ8TCQEB4D\n",
       "Ca0ORAl0PAwkhMdAQqsDUQJ0PAMJ4TGQ0OpAlAAdz0BCeAwktDoQJUDHM5AQHgMJ\n",
       "rQ5ECdDxDCSEx0BCqwNRAnQ8AwnhMZDQ6kCUAB3PQEJ4DCS0OhAlQMczkBAeAwmt\n",
       "DkQJ0PEMJITHQEKrA1ECdDwDCeExkNDqQJQAHc9AQngMJLQ6ECVRAh3PQEJ4DCS0\n",
       "OkCUQMczkBAeAwmtDhAl0PEMJITHQEKrA0QJdDwDCeExkNDqAFECHc9AQngMJLQ6\n",
       "QJRAxzOQEB4DCa0OECXQ8QwkhMdAQqsDRAl0PAMJ4TGQ0OoAUQIdz0BCeDCQtDpA\n",
       "lEDHM5AQHgwkrU6rA1ECHc9AQngwkNDqQJRAxzOQEB4MJLQ6ECXQ8QwkhAcDCa0O\n",
       "RAl0PAMJ4cFAQqsDUQIdz0BCeDCQ0OpAlEDHM5AQHgwktDoQJdDxDCSEBwMJrQ5E\n",
       "CXQ8AwnhwUBCqwNRAh3PQEJ4MJDQ6kCUQMfDQEJ4DCS0OhAl0PEwkBAeAwmtDkQJ\n",
       "dDwMJITHQEKrA1ECHQ8DCeExkNDqQJRAx8NAQngMJLQ6ECXQ8TCQEB4DCa0ORAl0\n",
       "PAwkhMdAQqsDUQIdDwMJ4TGQ0OpAlAAdz0BCeAwktDoQJUDHM5CS2+bNm//973/P\n",
       "mjVryZIl4e3d3j4/P39tOQUFBcJjIKHVgSiBgYSBVI2VlpZOnTq1a9eunT7XvXv3\n",
       "adOm7fpe6enpncrJzs4WHgMJrQ5ECQwkDKRqbMaMGeFpnZKSkpWVlZOTM2rUqM6d\n",
       "O4cjr7322s7uUlRU1KVLl7S0tKwvWrhwofAYSGh1IEpgIGEgVVclJSW9evUKT+u5\n",
       "c+fGBydMmBCODB48eGf3evfdd8MNRo8eLTwGElodiBIYSB4EAyl5fPDBB+E5feed\n",
       "d5aWlsYH8/Pzw8HU1NSd3Ss3NzfcYLc/hic8BhJaHYgSGEgYSNXJ6tWr77vvvjLf\n",
       "CwoHwxM9LS1tZ/caN25cuMH8+fNzcnLGjx8fltLKlSuFx0BCqwNRAgMJAykJPf74\n",
       "4+GJnpmZubMbPPTQQ+EGied1CEaNGlVcXCw8BhJaHYgSGEgYSEmitLR0/Pjx0fhZ\n",
       "t27dzm52++23h9sMGjRozpw5S5cuzc7OjsbSbs9iV6F39jPthuZWiz9hIL1DjTRz\n",
       "5kwPAogS7H2ddk6LNpCSU1hEAwcODE/xW2655a233trZzUpKSqZMmTJ16tTE7xfN\n",
       "mzcvmlXh2ur+rwtn/Hm+JwP+2RtECfAdJAOp5gqrZtKkSdF3gcJGWr9+/R68k7S0\n",
       "tHD3XXzfyUACrQ5ECQwkDKT9XXFx8fDhw8Mzu0ePHjk5OYmns6tQuMGWLVvK/7pR\n",
       "RkZGeCeLFy82kECrA1ECAwkDqbqKfumob9++GzZsqMzt8/Lywu1HjBiReLCoqCg1\n",
       "NTUcz8/PN5BAqwNRAgMJA6laCqOoa9euYdts2rRpZ7dZvXr1lB2ii9GrJKWkpCxb\n",
       "tiw6UlpaOnbs2GhlJUF4DCS0OhAlwEAykGqoV199NXpN2IfKeeKJJ6LbTJ48ucz5\n",
       "ScaMGRMudunSJTMzMysrq3///tEZGpYvX24ggVYHogQGEgZSdRXmzc5O13jPPfck\n",
       "DqQwh+J7bd++fdKkSbfeemt0y3DVoEGD1qxZkxzhMZDQ6kCUAAPJQEJ4DCS0OhAl\n",
       "wEAykBAeAwmtDkQJMJAMJITHQEKrA1ECDCQDCeExkNDqQJRECQwkAwnhMZDQ6gBR\n",
       "AgPJQEJ4DCS0OkCUwEAykBAeAwmtDhAl0PEMJITHQEKrA0QJdDwDCeExkNDqAFEC\n",
       "Hc9AQngMJLQ6QJRAxzOQEB4DCa0OECXQ8QwkhMdAQqsDRAl0PAMJ4TGQ0OoAUQId\n",
       "z0BCeAwktDqtDkQJdDwDCeExkECrA1ECHc9AQngMJNDqQJRAxzOQEB4DCbQ6ECXQ\n",
       "8QwkhMdAAq0ORAl0PAMJ4TGQQKsDUQIdz0BCeAwk0OpAlEDHM5AQHgMJtDoQJdDx\n",
       "DCSEx0ACrQ5ECXQ8AwnhMZBAqwNRAh0PAwkDCbQ6ECXQ8TCQMJBAqwNRAh0PAwkD\n",
       "CbQ6ECXQ8TCQMJBAqwNRAh0PAwkDCbQ6ECXQ8TCQMJBAqwNRAh0PAwkDCbQ6ECXQ\n",
       "8TCQMJBAqwNRAgwkAwkDCbQ6ECXAQDKQMJBAqwNRAgwkAwkDCbQ6ECXAQDKQMJBA\n",
       "qwNRAgwkAwkDCbQ6ECXAQDKQEB4DCa0ORAkwkAwkhMdAQqsDUQIMJAMJ4TGQ0OpA\n",
       "lAADyUBCeAwktDoQJcBAMpAQHgMJrQ5ESZTAQDKQEB4DCa0OECUwkAwkhMdAQqsD\n",
       "RAkMJAMJ4TGQ0OoAUQIdz0BCeAwktDpAlEDHM5BqqNLS0gULFgwePPiiiy5q165d\n",
       "mzZtmjZtevzxx5955pk9evR47rnnPv74Y+ExkNDqAFECA8lASnIbN24cOnRo69at\n",
       "a+1S3bp1r7zyytmzZwuPgYRWB4gSGEgGUhLatm3boEGDGjVqFE2gxo0bn3jiiZdc\n",
       "csltt9328MMPP/7443379r3uuut+8YtftGzZsk6dOtHNzjnnnFWrVgmPgYRWB6Lk\n",
       "QQADyUBKHmvWrDnmmGPC4GnatGmvXr0WLFiw69t/+OGHYTWdcsop4S6HHHLIiy++\n",
       "KDwGElodiBJgIBlISWLevHlNmjT54x//uHXr1i91x3/+858nnHDC4MGDhcdAQqsD\n",
       "UQIMJAMpSWzevLmwsDC+OG3atD59+sydO7fCG2dmZoZrN2zYEF0sLS399NNPhcdA\n",
       "QqsDUQIMJAMpOaWnp9eqVWv48OEVXhv9ZN0+/y+BgQRaHYgSGEgYSF+jmTNnTt/h\n",
       "2muvDROoZ8+e08vJzs4+9NBDw7Xr1q0THgMJrQ4QJTCQDKSk1aRJk1qVEzZScXGx\n",
       "8BhIaHWAKIGBZCAlrZNPPvk7OzRu3DisoCOOOOI75Xz3u9/9+c9/Pm7cOOExkNDq\n",
       "AFECA8lASk4lJSVbtmyJL+76d5DKKC0t3bx5s/AYSGh1IEqAgWQgJYnXXnutefPm\n",
       "f/nLX7Zv3x4ujhgx4qSTTnrmmWd2e8epU6f++Mc/dppvAwmtDkTJgwAGkoGUPFat\n",
       "WtW0adNatWode+yxv//978PFXd/+448/zszMPPXUU8NdDj744IkTJwqPgYRWB6IE\n",
       "GEgGUvL45JNPbr755tq1a4fNE/63TZs2Z5555o033piRkfHXv/51zJgxAwYM6Ny5\n",
       "89lnn33MMccceOCB0dkarrzyytWrVwuPgYRWB6LkQQADyUBKQosWLUpJSTnkkEN2\n",
       "fRa7gw466KabbnrrrbeEx0BCqwNECQwkAynJFRQU/OMf/+jVq9fpp5/+ve99r3Hj\n",
       "xoceeugxxxzzs5/9rFu3btnZ2Zs2bRIeAwmtDhAlMJAMpBqhpKREeAwktDpAlEDH\n",
       "M5D4XxkZGSeffHJmZubGjRuFx0BCqwNECXQ8A6lGi14HKWjQoMFVV1310ksvlZaW\n",
       "Co+BhFYHiBLoeAZSTbRq1aq+ffu2bds2PitDmzZt+vXrt69OWGcggVYHogQGEgbS\n",
       "vvf666/feeedYR1FM6lOnTq//vWvs7Kytm7dKjwGElodIEpgIBlINdTcuXN79uzZ\n",
       "vHnzaCl985vf7N69+xtvvCE8BhJaHSBKYCAZSDXRhg0bMjMzGzVqlPiCSGeddda+\n",
       "mkkGEmh1IEpgIGEg7W1btmx5+umnL7roonr16kWjqEmTJr169ercufM3vvGN6EQO\n",
       "b775pvAYSGh1IEqAgWQgJa2SkpLp06ffcMMNhx56aLSLateufdZZZ2VlZW3bti26\n",
       "zcaNG88+++xwVbdu3YTHQEKrA1ECDCQDKTk9++yz8a8bBd/+9rfvuOOO5cuXl79l\n",
       "dnZ2uMGll14qPAYSWh2IEmAgGUjJKXodpNq1a7dv3/7pp58uKira2S1ffPHFs88+\n",
       "+9FHHxUeAwmtDkQJMJAMpOQ0YsSIPn36rFixQngMJLQ6QJRAxzOQEB4DCa0OECXQ\n",
       "8QwkhMdAQqsDRAl0PAMJ4TGQ0OoAUQIdz0BCeAwktDpAlEDHM5DYn2zevPnf//73\n",
       "rFmzlixZEt42kECrA1ECAwkDqSYqLS2dOnVq165dO32ue/fu06ZNM5BAqwNRAgMJ\n",
       "A2n/UlRUNHHixCFDhqSlpYWLeXl5BQUFVfshZsyYEWKQkpKSlZWVk5MzatSozp07\n",
       "hyOvvfaagQRaHYgSGEgYSPuLAQMGNGnSpNbnwpGzzjqrQYMG/fr1q6oPUVJS0qtX\n",
       "rxCDuXPnxgcnTJgQjgwePNhAAq0ORAkMJAyk/cJtt90W7aJmzZrFA+mSSy6J3s7I\n",
       "yKiSj/LBBx+EDNx5552lpaXxwfz8/HAwNTXVQAKtDkQJDCQMpH0vJycnrKADDjhg\n",
       "5MiR4eKRRx4ZDaRt27Y98MAD4e1GjRpt2rTpq3+g1atX33fffaNHjy5zMAQj+qE+\n",
       "Awm0OhAlMJAwkPaxfv36hRXUu3fv6GI8kCLHHntsuDhr1qyv6aM//vjjIRiZmZkG\n",
       "Emh1IEpgIGEg7XvnnHNOmEA5OTkVDqQbb7wxXBwzZkyVf9zS0tLx48eHVHTt2nXd\n",
       "unW7DU+F3tnPtBua+w7sx2bOnOlBAFGCva/TzmnjBtJ+55prrgkT6IUXXqhwIEXz\n",
       "qcq/gxQW0cCBA0Mkbrnllrfeeitp/nXBd5Dwz94gSoDvIBlI1duwYcPCBApDqPxA\n",
       "WrBgQf369WvXrl2F5/suKSmZNGlS9FJIYSOtX78+mcJjIKHVgSgBBpKBVL3l5+c3\n",
       "b948jKLzzz8/Nzf38MMPD2+vWbNm1KhRTZs2DW937Nixqj5WcXHx8OHDQxJ69OiR\n",
       "k5OTeDo7Awm0OhAlMJAwkPYLr7zySsOGDWtVpG3btlX47aPol4769u27YcOGpAyP\n",
       "gYRWB6IEGEgGUjJYu3bt1Vdf3bhx43gatWrVaujQoVu3bq2qDxFGUdeuXVNTU/fg\n",
       "pOEGEmh1IEpgIGEg7QPr1q3Ly8vLz8+v8vf86quvRq8J+1A5TzzxhIEEWh2IEhhI\n",
       "GEj7kU8//TT6paDwv1lZWT179nz44YdXrFhRVe8/vM+dnd7xnnvuMZBAqwNRAgMJ\n",
       "A2m/sGDBglNPPbVOnTrRrxvdfPPN8Q/aNWzYMDc3V3gMJLQ6QJTAQDKQaoS1a9c2\n",
       "atQomkNhIL3++uvR282bN2/Tpk1447jjjhMeAwmtDhAlMJAMpBqhf//+YQWFLTRn\n",
       "zpxw8Z577gkXf/jDH27btq2wsLBly5bh4qJFi4THQEKrA0QJDCQDKflddtllYQL9\n",
       "/e9/jy6edtpp4eLIkSPjZ224OHHiROExkNDqAFECA8lASn5nnHFGmEBvvvlmePuz\n",
       "zz6rX79+uLhq1aro2p49e4aLf/vb34THQEKrA0QJDCQDKfldfPHFYQK9+OKL4e3n\n",
       "nnsuvN2yZcv42vbt24cj06dPFx4DCa0OECUwkAyk5Hf//feHCXTqqaeOGzfu2GOP\n",
       "DW+npKREVz3//PN16tQ58MAD169fLzwGElodIEpgIBlIye+999475JBD4vN616tX\n",
       "L/pxu2uvvTY60qFDB+ExkNDqAFECA8lAqilmzJhx/PHH165d+7jjjvvrX/8aHTz3\n",
       "3HPDOrrwwgsLCwuFx0BCqwNECQwkA6lm2bx5c+LFOXPmrFmzRngMJLQ6QJTAQDKQ\n",
       "EB4DCa0OECXQ8QykGqy0tPTjjz/+qCIlJSXCYyCh1QGiBAaSgVQjTJkypV27dvXq\n",
       "1au1E/v8vwQGEmh1IEpgIGEg7Q2LFy9u0KBBrV0ykAwktDpAlMBAMpBqhF69eoUJ\n",
       "dNRRR40aNeqjjz4qrEhpaanwGEhodYAogYFkICW/8847LwykIUOGCI+BhFYHiBLo\n",
       "eAZSTXfppZeGgTRz5kzhMZDQ6gBRAh3PQKrphg0bFgbSH//4R+ExkNDqAFECHc9A\n",
       "qunWrFnTsmXLww47bP78+cJjIKHVAaIEOp6BVKPNnTv39ttvr1WrVp06ddq3b9+9\n",
       "e/c7ytmwYYPwGEhodYAogYFkICW/9PT0WrvjNN8GElodIEpgIBlINcLEiRO77E5+\n",
       "fr7wGEhodYAogYFkINU427dv/+STT4THQEKrA0QJdDwDqebauHFjWlra97///Xr1\n",
       "6tWqVatx48Y//elPs7KyhMdAQqsDRAkMJAOpZsnLyzviiCMq/O2j9u3bFxcXC4+B\n",
       "hFYHiBIYSAZSjfDpp58ec8wxYQs1bNjwnnvumTRp0rx587Kysi6++OJoI/Xp00d4\n",
       "DCS0OkCUwEAykGqEkSNHhhV0xBFHrFq1qsxVmZmZ4aq6detu27ZNeAwktDpAlMBA\n",
       "MpCSX9euXcMKevTRRyu89ic/+Um4dp+/hqyBBFodiBIYSBhIe8OZZ54ZJlBubm6F\n",
       "13bu3DlcO3bsWOExkNDqAFECA8lASn433XRTmECjR4+u8Npf/vKX4do5c+YIj4GE\n",
       "VgeIEhhIBlLye/TRR8MEat26dfmXP8rOzg5XHXDAAZ999pnwGEhodYAogYFkICW/\n",
       "Dz/8sGnTpmEItWjR4rHHHnvrrbfef//9V199tUePHnXr1g3Hb775ZuExkNDqAFEC\n",
       "A8lAqimmTZtWv379Cl8H6b//+783b94sPAYSWh0gSmAgGUg1yMqVK6+88sqGDRvG\n",
       "06hFixYPPvjgPj/Bt4EEWh2IEhhIGEj7zNq1axctWlRQUCA8BhJaHSBKoOMZSDVX\n",
       "YWHh9OnThw8fnpGR8eSTT86ZM6e0tFR4DCS0OkCUwEAykGqWkpKSP/zhD02aNCnz\n",
       "C0gnnnji1KlThcdAQqsDRAkMJAOpBklLS4sWUd26ddu2bduuXbvmzZvHR3b2GrLC\n",
       "YyCh1YEoAQaSgZRsZsyYEW2hm266ad26dfHxV1999aSTTgrHW7VqJTwGElodIEpg\n",
       "IBlINcJ9990XVtDvfve78lfl5+dHP3e3cuVK4TGQ0OoAUQIDyUBKfuedd16YQM8/\n",
       "/3yF115++eXh2meeeUZ4DCS0OkCUwEAykJJfNIGmTZtW4bUdOnQI1z733HPCYyCh\n",
       "1QGiBAaSgZT8Bg4cGCZQr169yl9VWFjYrFmzcO17770nPAYSWh0gSmAgGUjJb/Xq\n",
       "1S1atKhdu/bw4cO3b98eH//ggw+in77r0KGD8BhIaHWAKIGBZCDVCBMmTDj99NOj\n",
       "E9m1bt26Y8eOKSkpF1xwwUEHHRQdvPrqqzslmDx5svAYSGh1IEqAgWQgJaf09PRa\n",
       "X8agQYOEx0BCqwNRAgwkAyk5TZs2rc+XMWPGDOExkNDqQJQAA8lAQngMJLQ6QJTA\n",
       "QDKQaoZPP/20tLQ0vBH+Nysrq2fPng8//PCKFSuEx0BCqwNECQwkA6kGWbBgwamn\n",
       "nlqnTp2CgoJw8eabb45/46hhw4a5ubnCYyCh1QGiBAaSgVQjrF27tlGjRtEcCgPp\n",
       "9ddfj95u3rx5mzZtwhvHHXec8BhIaHWAKIGBZCDVCP379w8rKGyhOXPmhIv33HNP\n",
       "uPjDH/5w27ZthYWFLVu2DBcXLVokPAYSWh0gSmAgGUjJ77LLLgsT6O9//3t08bTT\n",
       "TgsXR44cGT9rw8WJEycKj4GEVgeIEhhIBlLyO+OMM8IEevPNN8Pbn332Wf369cPF\n",
       "VatWRdf27NkzXPzb3/4mPAYSWh0gSmAgGUjJ7+KLLw4T6MUXXwxvP/fcc+Htli1b\n",
       "xte2b98+HJk+fbrwGEhodYAogYFkICW/+++/P0ygU089ddy4cccee2x4OyUlJbrq\n",
       "+eefr1OnzoEHHrh+/XrhMZDQ6gBRAgPJQEp+77333iGHHBKf17tevXrRj9tde+21\n",
       "0ZEOHToIj4GEVgeIEhhIBlJNMWPGjOOPP7527drHHXfcX//61+jgueeeG9bRhRde\n",
       "WFhYKDwGElodIEpgIBlINcvmzZsTL86ZM2fNmjXCYyCh1QGiBAaSgVQTFRUVTZw4\n",
       "cciQIWlpaeFiXl5eQUGB8BhIaHWAKIGBZCDVOAMGDGjSpEn8m0jhyFlnndWgQYN+\n",
       "/foJj4GEVgeIEhhIBlINctttt0W7qFmzZvFAuuSSS6K3MzIyhMdAQqsDRAkMJAOp\n",
       "RsjJyQkr6IADDhg5cmS4eOSRR0YDadu2bQ888EB4u1GjRps2bRIeAwmtDhAlMJAM\n",
       "pOTXr1+/sIJ69+4dXYwHUiR6ZaRZs2YJj4GEVgeIEhhIBlLyO+ecc8IEysnJqXAg\n",
       "3XjjjeHimDFjhMdAQqsDRAkMJAMp+V1zzTVhAr3wwgsVDqRoPvkOkoGEVgeIEhhI\n",
       "BlKNMGzYsDCBwhAqP5AWLFhQv3792rVr7/PzfRtIoNWBKIGBhIG0N+Tn5zdv3jyM\n",
       "ovPPPz83N/fwww8Pb69Zs2bUqFFNmzYNb3fs2FF4DCS0OkCUwEAykGqKV155pWHD\n",
       "hrUq0rZt2/3h5WINJNDqQJTAQMJA2nvWrl179dVXN27cOJ5GrVq1Gjp06NatW4XH\n",
       "QEKrA0QJDCQDqaYYNmxYt27dJk6cGF1ct25dXl5efn6+8BhIaHWAKIGOZyDVOD16\n",
       "9KhVq9ZVV10lPAYSWh0gSqDjGUg13bPPPhsGUsuWLQsLC4XHQEKrA0QJdDwDqUbb\n",
       "vHnz+eefHzZShw4dNm3aJDwGElodIEqg4xlINdebb7755JNPHn300WEjHXbYYR07\n",
       "drzjjjsGftHGjRuFx0BCqwNECQwkAyn5paen19qdff5fAgMJtDoQJTCQMJD2hqef\n",
       "fvqK3fnwww+Fx0BCqwNECQwkAwnhMZDQ6gBRAgPJQOJLWr9+/SuvvFKZU+Hl5+ev\n",
       "LaegoMBAAq0ORAkMJAykJPHYY4+Fp/jbb7+921ump6d3Kic7O9tAAq0ORAkMJAyk\n",
       "am/Lli0TJkyIds5uB1JRUVGXLl3S0tKyvmjhwoUGEmh1IEpgIGEgVWNh1dx///3d\n",
       "unWLvxG024H07rvvhpuNHj06KcNjIKHVgSgBBpKBVKMH0n2fS0lJqcxAys3NDTeb\n",
       "Nm2agQRaHYgSGEgeBAMpaT3yyCOVGUjjxo0LN5s/f35OTs748ePDUlq5cqWBBFod\n",
       "iBIYSBhINXEgPfTQQ+FmXbt2TTxDw6hRo4qLi3cdngq9s59pNzT3HdiPzZw504MA\n",
       "ogR7X6ed06INpP1XYWHh9OnThw8fnpGR8eSTT86ZM6e0tLTKB9Ltt98ebjZo0KDw\n",
       "/pcuXZqdnR2NJWexA//sDaIEvoOEgbRfKCkp+cMf/tCkSZNaX3TiiSdOnTq1CgdS\n",
       "+EBTpkwJ7zPx+0Xz5s2LvqcUrjWQQKsDUQIDCQNpH0tLS4sWUd26ddu2bduuXbvm\n",
       "zZvHR3Jzc6tqIO3iEwj3XbdunYEEWh2IEhhIGEj70owZM6ItdNNNNyVOlFdfffWk\n",
       "k04Kx1u1alVVA6m0tHTLli3lf90oIyMj3Hfx4sUGEmh1IEpgIGEg7Uv33XdfWEG/\n",
       "+93vyl+Vn58f/dxdZU40V5mBlJeXF24zYsSIxINFRUWpqanhePhwBhJodSBKYCBh\n",
       "IO1L5513XphAzz//fIXXXn755eHaZ555Zs8G0urVq6fsEC+ucJuUlJRly5ZFR0pL\n",
       "S8eOHRsO9u3bNwnCYyCh1YEoAQaSgVS9RRNoZ6/c2qFDh3Dtc889t2cDafLkyWVO\n",
       "4DhmzJhwsUuXLpmZmVlZWf3794/O0LB8+XIDCbQ6ECUwkDCQ9rGBAweGCdSrV6/y\n",
       "VxUWFjZr1ixc+9577+32/YTBs7OBFOZQfGT79u2TJk269dZbo+EUrho0aNCaNWuS\n",
       "IzwGElodiBJgIBlI1dvq1atbtGhRu3bt4cOHh/USH//ggw+in77r0KGD8BhIaHWA\n",
       "KIGBZCDVCBMmTDj99NOjE9m1bt26Y8eOKSkpF1xwwUEHHRQdvPrqqxNf7Xjy5MnC\n",
       "YyCh1YEoAQaSgZSc0tPTa30ZgwYNEh4DCa0ORAkwkAyk5DRt2rQ+X8aMGTOEx0BC\n",
       "qwNRAgwkAynJFRUVTZw4cciQIWlpaf/Z8ZpFBQUFwmMgodUBogQGkoFU4wwYMCB6\n",
       "TdhIOHLWWWc1aNCgX79+wmMgodUBogQGkoFUg9x2223RLopO6h0NpEsuuSR6OyMj\n",
       "Q3gMJLQ6QJTAQDKQaoScnJywgg444ICRI0eGi0ceeWQ0kLZt2/bAAw+Etxs1arRp\n",
       "0ybhMZDQ6gBRAgPJQEp+/fr1Cyuod+/e0cV4IEWOPfbYcHHWrFnCYyCh1QGiBAaS\n",
       "gZT8zjnnnDCBcnJyKhxIN954Y7g4ZswY4TGQ0OoAUQIDyUBKftdcc02YQC+88EKF\n",
       "AymaT76DZCCh1QGiBAaSgVQjDBs2LEygMITKD6QFCxbUr1+/du3a+/x83wYSaHUg\n",
       "SmAgYSDtDfn5+c2bNw+j6Pzzz8/NzT388MPD22vWrBk1alTTpk3D2x07dhQeAwmt\n",
       "DhAlMJAMpJrilVdeadiwYa2KtG3bdn94uVgDCbQ6ECUwkDCQ9p61a9deffXVjRs3\n",
       "jqdRq1athg4dunXrVuExkNDqAFECA8lAqqHWrVuXl5eXn58vPAYSWh0gSqDjGUg1\n",
       "zrRp0/r06TN37twKr83MzAzXbtiwQXgMJLQ6QJTAQDKQkl96enqtWrWGDx9e4bWn\n",
       "nHJKuHaf/5fAQAKtDkQJDCQMpK/RzJkzp+9w7bXXhgnUs2fP6eVkZ2cfeuih4dp1\n",
       "69YJj4GEVgeIEhhIBlLSatKkSa3KCRupuLhYeAwktDpAlMBAMpCS1sknn/ydHaIz\n",
       "1x1xxBHfKee73/3uz3/+83HjxgmPgYRWB4gSGEgGUo2w699BEh4DCa0OECUwkAyk\n",
       "GmTEiBEnnXTSM888IzwGElodIEqg4xlICI+BhFYHiBLoeAYSO5SUlCReXLJkyaBB\n",
       "g6644oq77777pZdeKi0tFR4DCa0OECUwkAyk5N9FgwcP/slPftKgQYPt27dHBydP\n",
       "ntywYcPEU9h17tx5f9hIBhJodSBKYCBhIH1dtm7des4558QrKDqLd2Fh4be+9a1w\n",
       "sXbt2tE57qJrBw4cKDwGElodIEpgIBlISevhhx+Oxs9vfvObrKys6HtEw4YNi9bR\n",
       "lClTopv17ds3HGnevLnXQTKQ0OoAUQIDyUBKWq1atQrL5/rrr088eNZZZ4WDV1xx\n",
       "RXwkDKcWLVqEgzNmzBAeAwmtDhAlMJAMpCRUUFAQffto+vTp8cEtW7bUq1cvHHz6\n",
       "6acTb3zdddeFg0888YTwGEhodYAogYFkICWhhQsXhs3TsGHDbdu2xQdnzZoVrab8\n",
       "/PzEG/fs2TMcHDRokPAYSGh1gCiBgWQgJaFly5aFzdO6devEg/379w8Hjz322DI3\n",
       "vuKKK8Lx0aNHC4+BhFYHiBIYSAZSEtq2bVudOnUOOOCA999/Pz546qmnRif1LnPL\n",
       "pk2bhuM5OTnCYyCh1QGiBAaSgZScfvGLX4TZc80110SvEvvss89GP1+XnZ2deLPB\n",
       "gweHg4ceemhBQYHwGEhodYAogYFkICWnf/zjH9EiatWqVbt27erUqRP90F30irHh\n",
       "f2fPnt2jR4/oNnfffbfwGEhodYAogYFkICWzAQMG1Epw8MEHxye1mzx5cnz8tNNO\n",
       "++STT4THQEKrA0QJDCQDKcnl5ubef//9l156ad++fd944434+MSJE8M0+s53vtOz\n",
       "Z8/EM90Jj4GEVgeIEhhIBhLCYyCh1QGiBAaSgYTwGEhodYAogYFkICE8BhJaHSBK\n",
       "oOMZSAiPgYRWB4gS6HgGEsJjIKHVAaIEOp6BhPAYSGh1gCiBjmcgITwGElodIEqg\n",
       "4xlICI+BhFYHiBLoeAYSwmMgodV5EECUQMczkBAeAwm0OhAl0PEMJITHQAKtDkQJ\n",
       "dDwDCeExkECrA1ECHc9AQngMJNDqQJRAxzOQEB4DCbQ6ECXQ8QwkhMdAAq0ORAl0\n",
       "PAMJ4TGQQKsDUQIdz0BCeAwk0OpAlEDHM5AQHgMJtDoQJdDxMJCEx0ACrQ5ECXQ8\n",
       "DCQMJNDqQJRAx8NAwkACrQ5ECXQ8DCQMJNDqQJRAx8NAwkACrQ5ECXQ8DCQMJNDq\n",
       "QJRAx8NAwkACrQ5ECXQ8DCQMJNDqQJRAxzOQDCQMJNDqQJQAA8lAwkACrQ5ECTCQ\n",
       "DCQMJNDqQJQAA8lAwkACrQ5ECTCQDCQMJNDqQJQAA8lAwkAykNDqQJQAA8lAQngM\n",
       "JLQ6ECXAQDKQEB4DCa0ORAkwkAwkhMdAQqsDUQIMJAMJ4TGQ0OpAlDwIYCAZSAiP\n",
       "gYRWB4gSGEgGEsJjIKHVAaIEBpKBhPAYSGh1gCiBjmcgITwGElodIEqg4xlI7EXr\n",
       "169/5ZVXCgsLDSTQ6kCUwEDCQKrpHnvssRCJt99+20ACrQ5ECQwkDKSaa8uWLRMm\n",
       "TOi0g4EEWh2IEhhIGEg11MKFC++///5u3bp1+pyBBFodiBIYSBhINXcg3fe5lJQU\n",
       "Awm0OhAlMJAwkPhfjzzyiIEEWh2IEhhIGEh86YHUrMeYCv+0G5q7v/15B/ZjM2fO\n",
       "9CCAKMHe12nntGIDiT0ZSMID/tkbRAmSj45nIGEggVYHogToeAYSBhJodSBKgI5n\n",
       "IGEggVYHogToeAYSBhJodSBKgI5nIGEggVYHogToeAYSBhJodSBKgIFkILEnMjMz\n",
       "DSTQ6kCUwEDCQEJ4QKsDUQJ0PAMJ4QGtDkQJ0PEMJIQHtDoQJUDHM5AQHtDqQJQA\n",
       "Hc9AQnhAqwNRAnQ8AwnhAa0ORAnQ8QwkhAe0OhAlQMczkBAe0OpAlAAdz0BCeECr\n",
       "A1ECdDwDCeEBrQ5ECdDxDCSEB7Q6ECVRAh3PQEJ4QKsDRAl0PAMJ4QGtDhAl0PEM\n",
       "JIQHtDpAlEDHM5AQHtDqAFECHc9AQnhAqwNECXQ8AwnhAa0OECXQ8QwkhAe0OkCU\n",
       "QMczkBAe0OoAUQIdz0BCeECrA0QJdDwDCeEBtDoQJdDxDCSEB9DqQJRAxzOQEB5A\n",
       "qwNRAh3PQEJ4AK0ORAl0PAMJ4QG0OhAl0PEMJIQH0OpAlEDHM5AQHkCrA1ECHc9A\n",
       "QngArQ5ECXQ8AwnhAbQ6ECXQ8QwkD4HwAFodiBLoeBhICA9odSBKoONhICE8oNWB\n",
       "KIGOh4GE8IBWB6IEOh4GEsIDWh2IEuh4GEgID2h1IEqg42EgITyg1YEogY6HgYTw\n",
       "gFYHogQ6HgYSwgNaHYgSoOMZSAgPaHUgSoCOZyAhPKDVgSgBOp6BhPCAVgeiBOh4\n",
       "BhLCA1odiBKg4xlICA9odSBKgI5nICE8oNWBKAE6noGE8IBWB6IE6HgGEsIDWh2I\n",
       "EqDjGUgID2h1IEqAjmcgITyg1QGiBDqegYTwgFYHiBLoeAYSwgNaHSBKoOMZSAgP\n",
       "aHWAKIGOZyAhPKDVAaIEOp6BhPCAVgeIEuh4BhLCA1odIEqg4xlICA9odYAogY5n\n",
       "ICE8oNUBogQ6noGE8IBWB4gS6HgGEsIDaHUgSqDjGUgID6DVgSiBjmcgITyAVgei\n",
       "BDqegYTwAFodiBLoeAYSwgNodSBKoOMZSAgPoNWBKIGOZyAhPIBWB6IEOp6BhPAA\n",
       "Wh2IEuh4BhLCA2h1IEqg42EgCQ+g1YEogY6HgYTwgFYHogQ6HgYSwgNaHYgS6HgY\n",
       "SAgPaHUgSqDjYSAhPKDVgSiBjoeBhPCAVgeiBDoeBhLCA1odiBLoeBhICA9odSBK\n",
       "oONhICE8oNWBKAE6noGE8IBWB6IE6HgGEsIDWh2IEqDjGUg1xObNm5cuXTpr1qzF\n",
       "ixcXFBTs9vb5+flry9n1HYUHtDoQJTCQMJCqgdmzZ3fv3r3T57p27friiy/u+i7p\n",
       "6emdysnOzhYe0OpAlMBAwkCqxpYtW9a5c+fwzH7sscdmzJjx1FNPRRfnzp27s7sU\n",
       "FRV16dIlLS0t64sWLlwoPKDVgSiBgYSBVI0NGzYsPK3//ve/x0f++c9/hiPp6ek7\n",
       "u8u7774bbjB69GjhAa0ORAkMJA+CgZQ8iouLu3btGp7WH3/8cXywqKioW7du4WB+\n",
       "fn6F98rNzQ3XTps2TXhAqwNRAgPJg2AgJY/169eH53Tv3r3LHB84cGA4vnjx4grv\n",
       "NW7cuHDt/Pnzc3Jyxo8fH5bSypUrhQe0OhAlMJAwkKq3ZcuWhed0//79yxzPzMwM\n",
       "x+fMmVPhvR566KHoXA6JZ2gYNWpUcXHxrsNToXeAL2PmzJkeBBAl2Ps67ZxSbSAl\n",
       "j3//+9/hOT1w4MAyx//yl7+E47NmzarwXrfffnu4dtCgQWFBLV26NDs7OxpLzmIH\n",
       "/tkbRAl8BwkDqRpbsmRJhQPpscce29lAKikpmTJlytSpUxO/XzRv3rzoe0rhWuEB\n",
       "rQ5ECQwkDKRq6e233w7P6X79+pU5/sgjj+z6TN/lpaWlhbusW7dOeECrA1ECAwkD\n",
       "qVr66KOPwnP6lltuKS0tTTx+7733huNLly4tf5dwyy1btpT/daOMjIxdnNdBeECr\n",
       "A1ECAwkDaX9XUlLSvXv38LRetWpVfHDTpk1dunTp3LlzeKP8XfLy8sLtR4wYkXiw\n",
       "qKgoNTV1F2cGFx7Q6kCUwEDCQKoGwtQJT+shQ4bE30SKztAwYMCA6OLq1aun7BBd\n",
       "DBMoXJuSkrJs2bLoSLjj2LFjw8G+ffsKD2h1IEpgIGEgVWPr16+PXha2d+/eI0eO\n",
       "vOuuu8LbnTt3jn++bvLkyWVO4DhmzJhwsUuXLpmZmVlZWf3794/O0LB8+XLhAa0O\n",
       "RAkMJAyk6i0Mm759+8Znsu/Tp8/rr78eXxsNpDCH4iPbt2+fNGnSrbfeGt0+XDVo\n",
       "0KA1a9YID2h1IEpgIGEgITyg1YEogY6HgYTwgFYHogQ6HgYSwgNaHYgSoOMZSAgP\n",
       "aHUgSoCOZyAhPKDVgSgBOp6BhPCAVgeiBOh4BhLCA1odiBKg4xlICA9odSBKgI5n\n",
       "ICE8oNWBKAE6noGE8IBWB6IE6HgGEsIDWh2IEqDjGUgID2h1IEqAjmcgITyg1QGi\n",
       "BDqegYTwgFYHiBLoeAYSwgNaHSBKoOMZSAgPaHWAKIGOZyAhPKDVAaIEOp6BhPCA\n",
       "VgeIEuh4BhLCA1odIEqg4xlI/1979x5bZX3/AVxEEDYRhxqdblFQJ1O8ZESNLrvo\n",
       "vMRL1IDoEjOMkdBSkTkUEjQIgkhVzEQRFNR4i4iiIhpEVwJoUW4Kiim0EqkI2K0V\n",
       "bW2HFNr9PvGJJ2etnD6l1exnX6+/2u/5nqc9355Pvp93z3meg+IBXR2glECPJyCh\n",
       "eEBXBygl0OMJSCge0NUBSgn0eAISigfQ1YFSAj2egITiAXR1oJRAjycgoXgAXR0o\n",
       "JdDjCUgoHkBXB0oJ9HgCEooH0NWBUgI9noCE4gF0daCUQI8nIKF4AF0dKCXQ4wlI\n",
       "KB5AVwdKCfR4AhKKB9DVgVICPR4CkuIBdHWglECPh4CE4gFdHSgl0OMhIKF4QFcH\n",
       "Sgn0eAhIKB7Q1YFSAj0eAhKKB3R1oJRAj4eAhOIBXR0oJdDjISCheEBXB0oJ9HgI\n",
       "SCge0NWBUgI9nkUQkFA8oKsDpQTo8QQkFA/o6kApAXo8AQnFA7o6UEqAHk9AQvGA\n",
       "rg6UEqDHE5BQPKCrA6UE6PEEJBQP6OpAKQF6PAEJxQO6OlBKgB5PQELxgK4OlBKg\n",
       "xxOQUDygqwOlBOjxBCQUD+jqQCkBejwBCcUDujpAKYEeT0BC8YCuDlBKoMcTkFA8\n",
       "oKsDlBLo8QQkFA/o6gClBHo8AQnFA7o6QCmBHk9AQvGArg5QSqDHE5BQPKCrA5QS\n",
       "6PEEJBQP6OoApQR6PAEJxQO6OkApgR5PQELxgK4OUEqgxxOQUDyArg6UEujxBCQU\n",
       "D6CrA6UEejwBCcUD6OpAKYEeT0BC8QC6OlBKoMcTkFA8gK4OlBLo8QQkFA+gqwOl\n",
       "BHo8AQnFA+jqQCmBHk9AQvEAujpQSqDHE5BQPICuDpQS6PEQkBSPRQBdHSgl0OMh\n",
       "IKF4QFcHSgn0eAhIKB7Q1YFSAj0eAhKKB3R1oJRAj4eAhOIBXR0oJdDjISCheEBX\n",
       "B0oJ9HgISCge0NWBUgI9HgISigd0daCUQI+nxxOQUDyglEApAapJQCKjrq6utLS0\n",
       "uLi4pKSkpqZG8YB9CJQSqCYEpA5q2bJlI0aMGPqtgoKC1157TfGAfQiUEqgmBKQO\n",
       "p6ysLC8vLyph5syZS5cufeqpp5JvV6xYoXjAPgRKCVQTAlLHMnXq1CiDZ555JjOy\n",
       "cOHCGBk3bpziAfsQKCVQTQhIHciuXbsKCgqiDD7//PPMYH19/fXXXx+DVVVVigfs\n",
       "Q6CUQDUhIHUUFRUVUQOjRo1qMl5YWBjjJSUligfsQ6CUQDUhIHUUZWVlUQOTJk1q\n",
       "Mj5jxowYX758ueIB+xAoJVBNCEgdxYYNG6IGCgsLm4w/+uijMV5cXJy7eAAA+PHR\n",
       "JAtIHdf69eu/MyDNnDmzxYAEAAAISD8qH330UQShCRMmNBmfNm1amit9AwAAAtKP\n",
       "R2VlZQSh4cOHNzY2Zo+PHTs2xktLSy0RAAAISB1FQ0PDiBEjIguVl5dnBqurq/Pz\n",
       "8/Py8uILSwQAAAJSB/Lwww9HQJoyZUrmRaTkCg2TJ0+2OAAAICB1LBUVFcnHwo4a\n",
       "NWrWrFm33HJLfJ2Xl+f9dQAAICB1RBs3bhw/fnzmwo5jxoxZu3atZQEAAAEJAABA\n",
       "QAIAABCQAAAABCQAAAABCQAAQECi7erq6kpLS4uLi0tKSmpqaiwI7IWqqqqtzSgo\n",
       "aJWKioolS5bU1tbaquD7KCVblYBEKsuWLRsxYkTmguAFBQWvvfaaZYHWGjdu3NBm\n",
       "5s2bZ2UgvZkzZ0bhfPTRR7Yq+D5KyVYlINGysrKyvLy8qI0opKVLlz711FPJtytW\n",
       "rLA4kF59fX1+fv7o0aPn/Ld169ZZHEhjx44d8+fPT9q1Jl2drQrapZRsVQISqUyd\n",
       "OjXq55lnnsmMLFy4MEbGjRtncSC9Tz75JArn8ccftxTQWtGc3X777ddff33m/9lN\n",
       "ujpbFbRLKdmqBCRatmvXroKCgiiVzz//PPu/C0lpVVVVWSJI6e23346qKSoqshSw\n",
       "F13dbd8aNmxYk67OVgXtUkq2KgGJVCoqKqJORo0a1WS8sLAwxktKSiwRpPTcc89F\n",
       "1bz33ntvvvnm3LlzY/v5+OOPLQu01rRp05p0dbYqaJdSslUJSKRSVlYWdTJp0qQm\n",
       "4zNmzIjx5cuXWyJI6e9//3ty4nj2aa+PPPLIrl27LA60pauzVUF7BSRblYBEyzZs\n",
       "2BCFUVhY2GT80UcfjfHi4mJLBCnddNNNUTV33XVXtGulpaXz5s1LdiCXBoI2dnW2\n",
       "KmivgGSrEpBo2fr1679z10kuDWnXgZQaGhreeOONf/zjH9n/hFu5cmXyj7q41RLB\n",
       "Xnd1tipol1KyVQlIpBJlE1UxYcKE7ywql0+FNho9enSU0rZt2ywF7HVXZ6uCdikl\n",
       "W5WARCqVlZVREsOHD29sbMweHzt2bIyXlpZaIkgjKmjHjh3N38M9ceJEJ5FDG7s6\n",
       "WxW0SynZqgQkUmloaEg+mLy8vDwzWF1dnZ+fn5eXF19YIkjj3XffjTp6+OGHswfr\n",
       "6+tvuOEGlyGGNnZ1tipol1KyVQlIpBV1ElUxZcqUzH/mktNeJ0+ebHEgpdhXomqG\n",
       "DRtWVlaWjERBPfvsszE4fvx46wNt6epsVdAupWSrEpBIq6KiIvmsvVGjRs2aNeuW\n",
       "W26Jr/Py8rxpAVpl9uzZUTv5+fkzZsyYM2fOpEmTktNeN27caHGgjQHJVgXtUkq2\n",
       "KgGJtKIqxo8fn7kc/pgxY9auXWtZoFV27969YMGCG2+8Mamj2H7uuuuuTz/91MpA\n",
       "qySfbtT8zHJbFbS9lGxVAhKtU1dXt3nz5pqaGksBe62xsbGqqmrLli0+dA9sVWCr\n",
       "EpAAAAAEJAAAAAEJAABAQAIAABCQAAAABCQAAAABCQC+L2vXrp3zrSVLluSeXFtb\n",
       "OyfLV199lXv+4sWLX3rppQ67tlu2bIlVKisr8zQDEJAAaB+VlZXdUxg4cODeHf/m\n",
       "m2/e51v9+vXLPXnTpk37ZHnzzTdzTF6zZs1+++133nnn/cj+ItOnT48Fv/rqq1uc\n",
       "WVVVdeCBB55yyim7d+/2TAYQkABoB//617/2SeHcc89tS0C6+OKLo+9/9tlnc0+u\n",
       "qamZ/o3evXvnDkgRCfr379+pU6f33nvvR/YXeeCBB+KxX3LJJWkm33777TF5xowZ\n",
       "nskAAhIA7aCxsbHmvx1zzDHRc48ZMyZ78N///ndbAtLkyZNbda8zzzwzd0CaPXt2\n",
       "TBgwYMCP7y/SqoAUf5oePXocdthhX3/9tSczgIAEQPv71a9+FQ36+PHj2+Vo31NA\n",
       "Ouuss2LC/PnzO3hACtdcc03Mf/zxxz11AQQkAFp23333DR48+MMPP1y6dGl+fv5J\n",
       "J5103HHHDRo0aM2aNXsRkIqKiq666qp+/fr17t37jDPOuPHGG3NfJOA7A1KLB8kd\n",
       "kN5///249eCDD66vr2/VL7Zq1aqCgoLTTz89pg0bNuyFF15ofvBFixYlc4455phz\n",
       "zjknfvPq6uomc1asWPHXv/71d7/7Xcy57LLLJk6c+MUXX+zdgr/88svXXXfdySef\n",
       "fOyxxw4cODB+evOAlPuhvfHGGzG/f//+nuoAAhIALbvggguigY6mv2vXrtmnFcW3\n",
       "77zzTqsC0pQpU5qfntSzZ88PPvggfUBKc5DcAemee+6JW88///xWHfPee+/t0qVL\n",
       "kzkjR47MTGhsbBw7dmynTp2azPnlL3+5devWzLQ777xzv/32azLnqKOOitTUqgXf\n",
       "vXv38OHDm//akZSyA1KLD622tjYZ3LZtm2c7gIAEQKqAFE499dRFixZt2bLliSee\n",
       "+MUvfhEjl112WfqAtHPnzp/85CdxU15e3qZNm6qrq4uKivr06RMjV155ZcqAlPIg\n",
       "uQPSxRdfnBwh/THjgce3nTt3jgi0cePGjz/++I477kgCzAMPPJDMmTt3brJQgwcP\n",
       "jiQT0+Kmgw8+OEYuvPDCZM4rr7ySzImRlStXRiaZM2fO4YcfHiOxpMmZWikX/LHH\n",
       "HkumDRkyZPXq1eXl5U8//fQhhxySDCYBKeVyHXrooTHy5JNPerYDCEgApApI0Xl/\n",
       "+eWXmcHCwsIYjFY7fUAqKSlJevd33303M7hgwYJevXr95je/SRmQUh4kd0D6+c9/\n",
       "HrfGQ0h/zH79+jV/UFOnTo3BeLz/+ebloxNOOCG+/fOf/5w95/7774/BLl26JG+0\n",
       "69u3b3JNv5ifmRNRav/99888zDQL3tDQcPTRR8dIk8t5x2NJXp5KAlLK5TrttNNi\n",
       "zg033ODZDiAgAZAqII0YMSJ7cM2aNTHYo0eP9AEpevrkpZLo7GfNmpXyDV1NAlLK\n",
       "g+QISJFMkgiRuWh4i8fMXMp869atO7JE5kleRFq9enXcK5mzatWq7PvW19cvXLjw\n",
       "9ddfjy8yc5q/NTEvLy/Gkw9lSrPg5eXlzZNPYtCgQZmAlHK5rrzyypgTd/RsBxCQ\n",
       "AEgVkKZOnZo9uG7duhg84IAD0gek8MQTT3Tv3j1zJkyfPn2GDBmyePHi9AEp5UFy\n",
       "BKTt27cnd1y+fHnKYy5ZsiT3pzy9+OKL8bOS9+Dl+NDVOGDM2XfffSNcNblp5syZ\n",
       "yZlIKRe8qKhoTz/u7rvvzj4HKc1yjR49Om76wx/+4NkOICABkCogPfTQQ20PSP/5\n",
       "5u1kcdPpp5+efaGCa6+9NvstZ7kDUpqD5AhI1dXVyfzi4uKUx3z11VeTb4/eg9mz\n",
       "Z8+bN29PC5KxYMGCmBPHb/5gk89l6tWrV8oFT85l6tq1a/OfMm3atCZXsWtxuW69\n",
       "9dYY+e1vf+vZDiAgAfCDBqSM2traCBXRlCf9+p5eR8r9OUh7Okjuc5C6desWtz79\n",
       "9NMpjxkBI3nlJ/uy4E2sXbs2mb99+/bs8YaGhli66dOnb926df369cmczZs3N7n7\n",
       "xIkTYzwyTMoFzxzqs88+a3KokSNH7ulzkPa0XFdffXV8e/nll3u2AwhIAPxAAemV\n",
       "V17p27fvFVdckT1YU1Nz4IEHxvz77rsvTUBKeZDcAemoo46KWyOTpDxmhJwePXrE\n",
       "13Pnzs2eU15eHg+2T58+W7Zsqaur69y5c8yZNm1a9pw5c+Yk4aqqqiryVXJNubFj\n",
       "x2bP2blzZ3Jt7uuuuy7lgsddfvrTn8bIHXfc0eRQyUlHSUBKuVxJZBo6dKhnO4CA\n",
       "BMAPFJA++OCD5LSZl19+OTO4fv365AJuRUVFaQJSyoPkDkgDBw7MpJGUx7ztttvi\n",
       "6yOPPDJz5lIkoksvvTQGI4EkI0OGDEneJpe5BsOGDRtOPvnkGPz973+fjEQ0im+7\n",
       "deuWuUREHOcvf/lL8ta7mJ9+wceMGRMjEZPmz5+fjHz99deRhbIv851yuY444ojm\n",
       "PxEAAQmA7zEgNTY2nn/++Un7HrFhwIABf/zjH5NO/YQTTkg+AqjFgJTyILkDUjyW\n",
       "uPWcc85Jf8yamppf//rXSdg46aSTIvAkEyLVLFy4MDnOtm3bkguIx5xTTz01uTJ4\n",
       "6N69+4cffpjM+eqrr0455ZRkPA547rnnJh+UFCZMmNCqBd++ffuJJ56Y3Pf4448/\n",
       "++yzk9eFkhepkoCU5qFFrEo+3DaCk2c7gIAEQKqA9Mgjj2QPJufAHHTQQc3nJ137\n",
       "d56DFDFj2LBhyXvDEt26dbvqqqv++c9/7umnNz8HKc1BcgekzZs3R4bp2bNnZIP0\n",
       "x6yrqxs6dGjcKzMnIkcmHSUqKysHDRqURJTEWWed1eTC3/FD//a3v2U+0TXCScSb\n",
       "7Fd40i94xK3BgwdnfqX4na+55pp77703+xykFh9acv295AJ6AAhIAPzQduzYUVZW\n",
       "tmzZsmj6I3XknrynizTkPkjugBQGDBjQ/JyilL/Ypk2bVqxYkSPUNTQ0bNiwYfXq\n",
       "1cmHw+7Jp59+unLlygg5bVzPxsbG+IXXrVu3a9euvVjzSH05LoMBgIAEwP+Q3Fex\n",
       "25MWA9Jbb721p0u9dSgRln72s59169atqqrKkw1AQALg/0dAuvTSSx988MHZs2fn\n",
       "nlxbW/vgN3r37p07IIWLLroo5qxcubIjL++dd97Z/Kp6AAhIAPxPB6REv379ck/e\n",
       "tGnTPllyB6TS0tKuXbv+6U9/6rBrW1VV1bNnz759+2bOxQJAQALgf9r777//3Lde\n",
       "f/313JOj0X/++ecz8ysrK3PPX7ZsWUzbvXt3hw1I8fAjKHqaAQhIAAAAAhIAAICA\n",
       "BAAAICABAAAISAAAAAISAACAgAQAACAgAQAACEgAAAACEgAAgIAEAAAgIAEAAAhI\n",
       "AAAAAhIAAICABAAAICABAAAISAAAAAISAACAgAQAACAgAQAACEgAAAACEgAAgIAE\n",
       "AAAgIAEAAAhIAAAAAhIAAICABAAAICABAAAgIAEAAAhIAAAAAhIAAICABAAAICAB\n",
       "AAAISAAAAAISAABA6/0fAwmI7mBcKmQAAAAASUVORK5CYII=\" style=\"clip-path:url(#clipPath2);\" height=\"840\" preserveAspectRatio=\"none\"\n",
       "    /></g\n",
       "  ></g\n",
       "></svg\n",
       ">\n"
      ]
     },
     "metadata": {
      "filenames": {
       "image/svg+xml": "/Users/eechris/Documents/code/src/github.com/cpjobling/eg-247-textbook/_build/jupyter_execute/dt_systems/4/dt_models_69_0.svg"
      }
     },
     "output_type": "display_data"
    }
   ],
   "source": [
    "step(Hz)\n",
    "grid\n",
    "title('Example 1 - Part 3 - As Analogue Signal')\n",
    "xlabel('nTs [s]')\n",
    "ylabel('Step response y(t)')\n",
    "axis([0,15,0,3.5])"
   ]
  },
  {
   "cell_type": "markdown",
   "id": "ae6dd8d2",
   "metadata": {
    "slideshow": {
     "slide_type": "subslide"
    }
   },
   "source": [
    "### Simulink Model\n",
    "\n",
    "See [dtm.slx](https://cpjobling.github.io/eg-247-textbook/dt_systems/4/matlab/dtm.slx):\n",
    "\n",
    "![Simulink model](./pictures/simulink_model.png)"
   ]
  },
  {
   "cell_type": "code",
   "execution_count": 12,
   "id": "1b478332",
   "metadata": {
    "slideshow": {
     "slide_type": "fragment"
    }
   },
   "outputs": [],
   "source": [
    "dtm"
   ]
  },
  {
   "cell_type": "markdown",
   "id": "aa096bbb",
   "metadata": {
    "slideshow": {
     "slide_type": "notes"
    }
   },
   "source": [
    "#### Results\n",
    "\n",
    "![Simulink results](./pictures/scope.png)"
   ]
  },
  {
   "cell_type": "markdown",
   "id": "6414b56b",
   "metadata": {
    "slideshow": {
     "slide_type": "slide"
    }
   },
   "source": [
    "(cse)=\n",
    "## Converting Continuous Time Systems to Discrete Time Systems\n",
    "\n",
    "In analogue electronics, to implement a filter we would need to resort to op-amp circuits with resistors, capacitors and inductors acting as energy dissipation, storage and release devices."
   ]
  },
  {
   "cell_type": "markdown",
   "id": "2247547e",
   "metadata": {
    "slideshow": {
     "slide_type": "subslide"
    }
   },
   "source": [
    "* In modern digital electronics, it is often more convenient to take the original transfer function $H(s)$ and produce an equivalent $H(z)$."
   ]
  },
  {
   "cell_type": "markdown",
   "id": "43a1aa75",
   "metadata": {
    "slideshow": {
     "slide_type": "fragment"
    }
   },
   "source": [
    "* We can then determine a *difference equation* that will respresent $h[n]$ and implement this as *computer algorithm*."
   ]
  },
  {
   "cell_type": "markdown",
   "id": "020d6fcc",
   "metadata": {
    "slideshow": {
     "slide_type": "fragment"
    }
   },
   "source": [
    "* Simple storage of past values in memory becomes the repository of past state rather than the integrators and derivative circuits that are needed in the analogue world."
   ]
  },
  {
   "cell_type": "markdown",
   "id": "1838b5a3",
   "metadata": {
    "slideshow": {
     "slide_type": "subslide"
    }
   },
   "source": [
    "To achieve this, all we need is to be able to do is to *sample* and *process* the signals quickly enough to avoid violating Nyquist-Shannon's sampling theorem."
   ]
  },
  {
   "cell_type": "markdown",
   "id": "c47ae9f7",
   "metadata": {
    "slideshow": {
     "slide_type": "subslide"
    }
   },
   "source": [
    "### Continuous System Equivalents\n",
    "\n",
    "* There is no digital system that uniquely represents a continuous system\n",
    "* This is because as we are sampling, we only have knowledge of signals being processed at the sampling instants, and need to *reconstruct* the inter-sample behaviour.\n",
    "* In practice, only a small number of transformations are used.\n",
    "* The derivation of these is beyond the scope of this module, but **in class** we'll demonstrate the ones that MATLAB provides in a function called `c2d`"
   ]
  },
  {
   "cell_type": "markdown",
   "id": "784d54ae",
   "metadata": {
    "slideshow": {
     "slide_type": "subslide"
    }
   },
   "source": [
    "### MATLAB c2d function\n",
    "\n",
    "Let's see what the help function says:"
   ]
  },
  {
   "cell_type": "code",
   "execution_count": 13,
   "id": "472a38fa",
   "metadata": {
    "slideshow": {
     "slide_type": "notes"
    }
   },
   "outputs": [
    {
     "name": "stdout",
     "output_type": "stream",
     "text": [
      " C2D  Converts continuous-time dynamic system to discrete time.\n",
      " \n",
      "    SYSD = C2D(SYSC,TS,METHOD) computes a discrete-time model SYSD with\n",
      "    sample time TS that approximates the continuous-time model SYSC.\n",
      "    The string METHOD selects the discretization method among the following:\n",
      "       'zoh'           Zero-order hold on the inputs\n",
      "       'foh'           Linear interpolation of inputs\n",
      "       'impulse'       Impulse-invariant discretization\n",
      "       'tustin'        Bilinear (Tustin) approximation.\n",
      "       'matched'       Matched pole-zero method (for SISO systems only).\n",
      "       'least-squares' Least-squares minimization of the error between\n",
      "                       frequency responses of the continuous and discrete\n",
      "                       systems (for SISO systems only).\n",
      "       'damped'        Damped Tustin approximation based on TRBDF2 formula\n",
      "                       (sparse models only).\n",
      "    The default is 'zoh' when METHOD is omitted. The sample time TS should\n",
      "    be specified in the time units of SYSC (see \"TimeUnit\" property).\n",
      " \n",
      "    C2D(SYSC,TS,OPTIONS) gives access to additional discretization options. \n",
      "    Use C2DOPTIONS to create and configure the option set OPTIONS. For \n",
      "    example, you can specify a prewarping frequency for the Tustin method by:\n",
      "       opt = c2dOptions('Method','tustin','PrewarpFrequency',.5);\n",
      "       sysd = c2d(sysc,.1,opt);\n",
      " \n",
      "    For state-space models,\n",
      "       [SYSD,G] = C2D(SYSC,Ts,METHOD)\n",
      "    also returns the matrix G mapping the states xc(t) of SYSC to the states \n",
      "    xd[k] of SYSD:\n",
      "       xd[k] = G * [xc(k*Ts) ; u[k]]\n",
      "    Given an initial condition x0 for SYSC and an initial input value u0=u(0), \n",
      "    the equivalent initial condition for SYSD is (assuming u(t)=0 for t<0):\n",
      "       xd[0] = G * [x0;u0] .\n",
      " \n",
      "    See also C2DOPTIONS, D2C, D2D, DYNAMICSYSTEM.\n",
      "\n",
      "    Documentation for c2d\n",
      "       doc c2d\n",
      "\n",
      "    Other functions named c2d\n",
      "\n",
      "       DynamicSystem/c2d    ltipack.tfdata/c2d\n",
      "\n"
     ]
    }
   ],
   "source": [
    "help c2d"
   ]
  },
  {
   "cell_type": "code",
   "execution_count": 14,
   "id": "270e0aec",
   "metadata": {
    "slideshow": {
     "slide_type": "fragment"
    }
   },
   "outputs": [],
   "source": [
    "doc c2d"
   ]
  },
  {
   "cell_type": "markdown",
   "id": "552e03a2",
   "metadata": {
    "slideshow": {
     "slide_type": "subslide"
    }
   },
   "source": [
    "(demo)=\n",
    "## Example: Digital Butterworth Filter\n",
    "\n",
    "* Design a 2nd-order butterworth low-pass anti-aliasing filter with transfer function $H(s)$ for use in sampling music. \n",
    "* The cut-off frequency $\\omega_c = 20$&nbsp;kHz and the filter should have an attenuation of at least $-80$&nbsp;dB in the stop band. \n",
    "* Choose a suitable sampling frequency for the audio signal and give the transfer function $H(z)$ and an algorithm to implement $h[n]$"
   ]
  },
  {
   "cell_type": "markdown",
   "id": "d6caa914",
   "metadata": {
    "slideshow": {
     "slide_type": "subslide"
    }
   },
   "source": [
    "### Solution\n",
    "\n",
    "See [digi_butter.mlx](https://cpjobling.github.io/eg-247-textbook/dt_systems/4/matlab/digi_butter.mlx)."
   ]
  },
  {
   "cell_type": "markdown",
   "id": "42d761a9",
   "metadata": {
    "slideshow": {
     "slide_type": "subslide"
    }
   },
   "source": [
    "First determine the cut-off frequency $\\omega_c$\n",
    "\n",
    "$$\\omega_c = 2\\pi f_c = 2\\times \\pi \\times 20\\times 10^3\\;\\mathrm{rad/s}$$"
   ]
  },
  {
   "cell_type": "code",
   "execution_count": 15,
   "id": "7140ee49",
   "metadata": {
    "slideshow": {
     "slide_type": "fragment"
    }
   },
   "outputs": [
    {
     "name": "stdout",
     "output_type": "stream",
     "text": [
      "wc =\n",
      "   1.2566e+05\n"
     ]
    }
   ],
   "source": [
    "wc = 2*pi*20e3"
   ]
  },
  {
   "cell_type": "markdown",
   "id": "38d15410",
   "metadata": {
    "slideshow": {
     "slide_type": "fragment"
    }
   },
   "source": [
    "$$\\omega_c = 125.66\\times 10^3\\;\\mathrm{rad/s}$$"
   ]
  },
  {
   "cell_type": "markdown",
   "id": "55acb14a",
   "metadata": {
    "slideshow": {
     "slide_type": "subslide"
    }
   },
   "source": [
    "From the lecture on filters, we know the 2nd-order butterworth filter has transfer function:\n",
    "\n",
    "$$H(s) = \\frac{Y(s)}{U(s)} = \\frac{\\omega _c^2}{s^2 + \\omega _c\\sqrt 2 \\,s + \\omega _c^2}$$"
   ]
  },
  {
   "cell_type": "markdown",
   "id": "674c07bb",
   "metadata": {
    "slideshow": {
     "slide_type": "fragment"
    }
   },
   "source": [
    "Substituting for $\\omega_c = 125.6637\\times 10^3 $ this is ...?"
   ]
  },
  {
   "cell_type": "code",
   "execution_count": 16,
   "id": "1828c098",
   "metadata": {
    "slideshow": {
     "slide_type": "fragment"
    }
   },
   "outputs": [
    {
     "name": "stdout",
     "output_type": "stream",
     "text": [
      "\n",
      "Hs =\n"
     ]
    },
    {
     "name": "stdout",
     "output_type": "stream",
     "text": [
      " \n"
     ]
    },
    {
     "name": "stdout",
     "output_type": "stream",
     "text": [
      "           1.579e10\n"
     ]
    },
    {
     "name": "stdout",
     "output_type": "stream",
     "text": [
      "  ---------------------------\n"
     ]
    },
    {
     "name": "stdout",
     "output_type": "stream",
     "text": [
      "  s^2 + 1.777e05 s + 1.579e10\n"
     ]
    },
    {
     "name": "stdout",
     "output_type": "stream",
     "text": [
      " \n"
     ]
    },
    {
     "name": "stdout",
     "output_type": "stream",
     "text": [
      "Continuous-time transfer function.\n",
      "\n"
     ]
    }
   ],
   "source": [
    "Hs = tf(wc^2,[1 wc*sqrt(2), wc^2])"
   ]
  },
  {
   "cell_type": "markdown",
   "id": "ca029310",
   "metadata": {
    "slideshow": {
     "slide_type": "subslide"
    }
   },
   "source": [
    "$$H(s) = \\frac{15.79 \\times 10^9}{s^2 + 177.7 \\times 10^3 s + 15.79 \\times 10^9}$$"
   ]
  },
  {
   "cell_type": "markdown",
   "id": "92d30d00",
   "metadata": {
    "slideshow": {
     "slide_type": "subslide"
    }
   },
   "source": [
    "#### Bode plot\n",
    "\n",
    "MATLAB:"
   ]
  },
  {
   "cell_type": "code",
   "execution_count": 17,
   "id": "91bad135",
   "metadata": {
    "slideshow": {
     "slide_type": "subslide"
    }
   },
   "outputs": [
    {
     "data": {
      "image/svg+xml": [
       "<?xml version=\"1.0\"?>\n",
       "<!DOCTYPE svg PUBLIC '-//W3C//DTD SVG 1.0//EN'\n",
       "          'http://www.w3.org/TR/2001/REC-SVG-20010904/DTD/svg10.dtd'>\n",
       "<svg xmlns:xlink=\"http://www.w3.org/1999/xlink\" style=\"fill-opacity:1; color-rendering:auto; color-interpolation:auto; text-rendering:auto; stroke:black; stroke-linecap:square; stroke-miterlimit:10; shape-rendering:auto; stroke-opacity:1; fill:black; stroke-dasharray:none; font-weight:normal; stroke-width:1; font-family:'Dialog'; font-style:normal; stroke-linejoin:miter; font-size:12px; stroke-dashoffset:0; image-rendering:auto;\" width=\"560\" height=\"420\" xmlns=\"http://www.w3.org/2000/svg\"\n",
       "><!--Generated by the Batik Graphics2D SVG Generator--><defs id=\"genericDefs\"\n",
       "  /><g\n",
       "  ><defs id=\"defs1\"\n",
       "    ><clipPath clipPathUnits=\"userSpaceOnUse\" id=\"clipPath1\"\n",
       "      ><path d=\"M0 0 L560 0 L560 420 L0 420 L0 0 Z\"\n",
       "      /></clipPath\n",
       "      ><font horiz-adv-x=\"50.0\" id=\"font1\"\n",
       "      ><font-face ascent=\"95.200005\" descent=\"21.3\" units-per-em=\"100\" style=\"font-style:normal; font-family:Helvetica Neue; font-weight:normal;\"\n",
       "        /><missing-glyph horiz-adv-x=\"50.0\" d=\"M40.9 66.6 L10.2 66.6 L10.2 4.7 L40.9 4.7 ZM46 71.2 L46 0.1 L5.1 0.1 L5.1 71.2 Z\"\n",
       "        /><glyph unicode=\"0\" horiz-adv-x=\"55.6\" d=\"M13.2 34.9 Q13.2 37.5 13.25 40.65 Q13.3 43.8 13.75 46.95 Q14.2 50.1 15.05 53.1 Q15.9 56.1 17.55 58.35 Q19.2 60.6 21.7 62 Q24.2 63.4 27.8 63.4 Q31.4 63.4 33.9 62 Q36.4 60.6 38.05 58.35 Q39.7 56.1 40.55 53.1 Q41.4 50.1 41.85 46.95 Q42.3 43.8 42.35 40.65 Q42.4 37.5 42.4 34.9 Q42.4 30.9 42.15 25.95 Q41.9 21 40.55 16.65 Q39.2 12.3 36.2 9.3 Q33.2 6.3 27.8 6.3 Q22.4 6.3 19.4 9.3 Q16.4 12.3 15.05 16.65 Q13.7 21 13.45 25.95 Q13.2 30.9 13.2 34.9 ZM4.2 34.8 Q4.2 30.9 4.4 26.7 Q4.6 22.5 5.4 18.5 Q6.2 14.5 7.7 10.95 Q9.2 7.4 11.8 4.7 Q14.4 2 18.35 0.45 Q22.3 -1.1 27.8 -1.1 Q33.4 -1.1 37.3 0.45 Q41.2 2 43.8 4.7 Q46.4 7.4 47.9 10.95 Q49.4 14.5 50.2 18.5 Q51 22.5 51.2 26.7 Q51.4 30.9 51.4 34.8 Q51.4 38.7 51.2 42.9 Q51 47.1 50.2 51.1 Q49.4 55.1 47.9 58.7 Q46.4 62.3 43.8 65 Q41.2 67.7 37.25 69.3 Q33.3 70.9 27.8 70.9 Q22.3 70.9 18.35 69.3 Q14.4 67.7 11.8 65 Q9.2 62.3 7.7 58.7 Q6.2 55.1 5.4 51.1 Q4.6 47.1 4.4 42.9 Q4.2 38.7 4.2 34.8 Z\"\n",
       "        /><glyph unicode=\"2\" horiz-adv-x=\"55.6\" d=\"M4.4 45.8 L12.9 45.8 Q12.8 49 13.55 52.15 Q14.3 55.3 16 57.8 Q17.7 60.3 20.35 61.85 Q23 63.4 26.7 63.4 Q29.5 63.4 32 62.5 Q34.5 61.6 36.35 59.9 Q38.2 58.2 39.3 55.85 Q40.4 53.5 40.4 50.6 Q40.4 46.9 39.25 44.1 Q38.1 41.3 35.85 38.9 Q33.6 36.5 30.2 34.15 Q26.8 31.8 22.3 29 Q18.6 26.8 15.2 24.3 Q11.8 21.8 9.1 18.5 Q6.4 15.2 4.65 10.75 Q2.9 6.3 2.4 0 L48.7 0 L48.7 7.5 L12.3 7.5 Q12.9 10.8 14.85 13.35 Q16.8 15.9 19.55 18.1 Q22.3 20.3 25.6 22.25 Q28.9 24.2 32.2 26.2 Q35.5 28.3 38.6 30.6 Q41.7 32.9 44.1 35.75 Q46.5 38.6 47.95 42.2 Q49.4 45.8 49.4 50.5 Q49.4 55.5 47.65 59.3 Q45.9 63.1 42.9 65.65 Q39.9 68.2 35.85 69.55 Q31.8 70.9 27.2 70.9 Q21.6 70.9 17.2 69 Q12.8 67.1 9.85 63.75 Q6.9 60.4 5.5 55.8 Q4.1 51.2 4.4 45.8 Z\"\n",
       "        /><glyph unicode=\"1\" horiz-adv-x=\"55.6\" d=\"M35.6 0 L35.6 70.9 L29.1 70.9 Q28.4 66.9 26.5 64.3 Q24.6 61.7 21.85 60.2 Q19.1 58.7 15.7 58.15 Q12.3 57.6 8.7 57.6 L8.7 50.8 L27.1 50.8 L27.1 0 Z\"\n",
       "        /><glyph unicode=\"-\" horiz-adv-x=\"38.9\" d=\"M5 31.8 L5 23.8 L33.9 23.8 L33.9 31.8 Z\"\n",
       "        /><glyph unicode=\"8\" horiz-adv-x=\"55.6\" d=\"M15.5 52.5 Q15.5 55.2 16.5 57.2 Q17.5 59.2 19.15 60.6 Q20.8 62 23.1 62.7 Q25.4 63.4 27.9 63.4 Q33.1 63.4 36.45 60.65 Q39.8 57.9 39.8 52.5 Q39.8 47.1 36.5 44.1 Q33.2 41.1 28.1 41.1 Q25.5 41.1 23.2 41.8 Q20.9 42.5 19.2 43.9 Q17.5 45.3 16.5 47.45 Q15.5 49.6 15.5 52.5 ZM6.5 52.8 Q6.5 48 9.2 43.95 Q11.9 39.9 16.4 38.1 Q10.4 36 7.2 31.35 Q4 26.7 4 20.4 Q4 15 5.85 10.95 Q7.7 6.9 10.95 4.2 Q14.2 1.5 18.6 0.2 Q23 -1.1 28.1 -1.1 Q33 -1.1 37.3 0.3 Q41.6 1.7 44.75 4.45 Q47.9 7.2 49.75 11.2 Q51.6 15.2 51.6 20.4 Q51.6 27 48.5 31.55 Q45.4 36.1 39 38.1 Q43.5 40.1 46.15 44.05 Q48.8 48 48.8 52.8 Q48.8 56.2 47.6 59.45 Q46.4 62.7 43.85 65.25 Q41.3 67.8 37.2 69.35 Q33.1 70.9 27.3 70.9 Q23.2 70.9 19.45 69.7 Q15.7 68.5 12.8 66.2 Q9.9 63.9 8.2 60.55 Q6.5 57.2 6.5 52.8 ZM13 20 Q13 23.1 14.15 25.6 Q15.3 28.1 17.35 29.9 Q19.4 31.7 22.15 32.65 Q24.9 33.6 28 33.6 Q31 33.6 33.65 32.55 Q36.3 31.5 38.3 29.7 Q40.3 27.9 41.45 25.45 Q42.6 23 42.6 20.1 Q42.6 17.1 41.55 14.6 Q40.5 12.1 38.55 10.25 Q36.6 8.4 33.95 7.35 Q31.3 6.3 28.1 6.3 Q21.5 6.3 17.25 9.95 Q13 13.6 13 20 Z\"\n",
       "        /><glyph unicode=\"6\" horiz-adv-x=\"55.6\" d=\"M41.4 52.8 L49.9 52.8 Q49.1 61.6 43.9 66.25 Q38.7 70.9 29.9 70.9 Q22.3 70.9 17.3 67.7 Q12.3 64.5 9.3 59.2 Q6.3 53.9 5.05 47.05 Q3.8 40.2 3.8 32.9 Q3.8 27.3 4.65 21.3 Q5.5 15.3 8.1 10.3 Q10.7 5.3 15.5 2.1 Q20.3 -1.1 28.2 -1.1 Q34.9 -1.1 39.45 1.15 Q44 3.4 46.75 6.85 Q49.5 10.3 50.7 14.5 Q51.9 18.7 51.9 22.6 Q51.9 27.5 50.4 31.7 Q48.9 35.9 46.15 39 Q43.4 42.1 39.35 43.85 Q35.3 45.6 30.2 45.6 Q24.4 45.6 19.95 43.4 Q15.5 41.2 12.5 36.3 L12.3 36.5 Q12.4 40.6 13.1 45.3 Q13.8 50 15.65 54.05 Q17.5 58.1 20.8 60.75 Q24.1 63.4 29.5 63.4 Q34.6 63.4 37.7 60.5 Q40.8 57.6 41.4 52.8 ZM28.6 38.1 Q32.2 38.1 34.9 36.8 Q37.6 35.5 39.4 33.35 Q41.2 31.2 42.05 28.25 Q42.9 25.3 42.9 22 Q42.9 18.9 41.95 16.05 Q41 13.2 39.2 11 Q37.4 8.8 34.75 7.55 Q32.1 6.3 28.6 6.3 Q25.1 6.3 22.35 7.55 Q19.6 8.8 17.75 10.9 Q15.9 13 14.9 15.9 Q13.9 18.8 13.9 22.1 Q13.9 25.4 14.85 28.35 Q15.8 31.3 17.7 33.45 Q19.6 35.6 22.3 36.85 Q25 38.1 28.6 38.1 Z\"\n",
       "        /><glyph unicode=\"4\" horiz-adv-x=\"55.6\" d=\"M33.9 24.1 L10.1 24.1 L33.7 58.8 L33.9 58.8 ZM41.9 24.1 L41.9 70.9 L35.1 70.9 L2.8 24.8 L2.8 16.6 L33.9 16.6 L33.9 0 L41.9 0 L41.9 16.6 L51.5 16.6 L51.5 24.1 Z\"\n",
       "        /><glyph unicode=\")\" horiz-adv-x=\"25.9\" d=\"M-0.9 -19.7 L5.5 -19.7 Q13.3 -9.4 17.25 2.55 Q21.2 14.5 21.2 26.3 Q21.2 32.9 20.1 38.9 Q19 44.9 16.95 50.65 Q14.9 56.4 12 61.95 Q9.1 67.5 5.5 73.1 L-0.9 73.1 Q6.1 61.6 9.15 50.25 Q12.2 38.9 12.2 26.3 Q12.2 14.1 9.2 2.85 Q6.2 -8.4 -0.9 -19.7 Z\"\n",
       "        /><glyph unicode=\"B\" horiz-adv-x=\"68.5\" d=\"M17.3 40.7 L17.3 63.4 L36.3 63.4 Q39.4 63.4 42.15 63.05 Q44.9 62.7 47 61.5 Q49.1 60.3 50.3 58.1 Q51.5 55.9 51.5 52.1 Q51.5 46.4 47.95 43.55 Q44.4 40.7 36.3 40.7 ZM7.8 71.4 L7.8 0 L42.3 0 Q47.6 0 51.65 1.75 Q55.7 3.5 58.45 6.35 Q61.2 9.2 62.6 12.9 Q64 16.6 64 20.5 Q64 27.1 60.5 31.7 Q57 36.3 50.4 37.7 L50.4 37.9 Q55.5 39.9 58.25 44.05 Q61 48.2 61 53.9 Q61 59.3 58.55 63 Q56.1 66.7 52.6 68.8 Q51 69.8 48.75 70.3 Q46.5 70.8 43.9 71.05 Q41.3 71.3 38.65 71.35 Q36 71.4 33.7 71.4 ZM17.3 8 L17.3 32.7 L39 32.7 Q42 32.7 44.8 32.15 Q47.6 31.6 49.75 30.25 Q51.9 28.9 53.2 26.6 Q54.5 24.3 54.5 20.8 Q54.5 14.8 50.95 11.4 Q47.4 8 41.1 8 Z\"\n",
       "        /><glyph unicode=\"(\" horiz-adv-x=\"25.9\" d=\"M20.4 -19.7 L26.9 -19.7 Q19.8 -8.2 16.75 3.1 Q13.7 14.4 13.7 27 Q13.7 39.3 16.7 50.5 Q19.7 61.7 26.9 73.1 L20.4 73.1 Q12.6 62.8 8.65 50.8 Q4.7 38.8 4.7 27 Q4.7 20.4 5.8 14.4 Q6.9 8.4 8.95 2.7 Q11 -3 13.9 -8.55 Q16.8 -14.1 20.4 -19.7 Z\"\n",
       "        /><glyph unicode=\" \" horiz-adv-x=\"27.8\" d=\"\"\n",
       "        /><glyph unicode=\"e\" horiz-adv-x=\"53.7\" d=\"M42.3 30.8 L12.6 30.8 Q12.8 33.8 13.9 36.45 Q15 39.1 16.9 41.1 Q18.8 43.1 21.45 44.25 Q24.1 45.4 27.4 45.4 Q30.6 45.4 33.25 44.25 Q35.9 43.1 37.85 41.15 Q39.8 39.2 40.95 36.5 Q42.1 33.8 42.3 30.8 ZM50.5 16.4 L42.1 16.4 Q41 11.3 37.55 8.8 Q34.1 6.3 28.7 6.3 Q24.5 6.3 21.4 7.7 Q18.3 9.1 16.3 11.45 Q14.3 13.8 13.4 16.85 Q12.5 19.9 12.6 23.3 L51.3 23.3 Q51.5 28 50.45 33.2 Q49.4 38.4 46.65 42.8 Q43.9 47.2 39.35 50.05 Q34.8 52.9 27.9 52.9 Q22.6 52.9 18.15 50.9 Q13.7 48.9 10.45 45.3 Q7.2 41.7 5.4 36.8 Q3.6 31.9 3.6 26 Q3.8 20.1 5.35 15.1 Q6.9 10.1 10 6.5 Q13.1 2.9 17.65 0.9 Q22.2 -1.1 28.4 -1.1 Q37.2 -1.1 43 3.3 Q48.8 7.7 50.5 16.4 Z\"\n",
       "        /><glyph unicode=\"d\" horiz-adv-x=\"59.3\" d=\"M12.6 25.4 Q12.6 29.2 13.4 32.8 Q14.2 36.4 16 39.2 Q17.8 42 20.8 43.7 Q23.8 45.4 28.1 45.4 Q32.5 45.4 35.6 43.75 Q38.7 42.1 40.65 39.4 Q42.6 36.7 43.5 33.15 Q44.4 29.6 44.4 25.8 Q44.4 22.2 43.55 18.7 Q42.7 15.2 40.8 12.45 Q38.9 9.7 35.9 8 Q32.9 6.3 28.6 6.3 Q24.5 6.3 21.45 7.9 Q18.4 9.5 16.45 12.2 Q14.5 14.9 13.55 18.35 Q12.6 21.8 12.6 25.4 ZM52.6 0 L52.6 71.4 L44.1 71.4 L44.1 44.8 L43.9 44.8 Q42.5 47.1 40.45 48.65 Q38.4 50.2 36.1 51.15 Q33.8 52.1 31.5 52.5 Q29.2 52.9 27.2 52.9 Q21.3 52.9 16.85 50.75 Q12.4 48.6 9.45 44.95 Q6.5 41.3 5.05 36.4 Q3.6 31.5 3.6 26 Q3.6 20.5 5.1 15.6 Q6.6 10.7 9.55 7 Q12.5 3.3 16.95 1.1 Q21.4 -1.1 27.4 -1.1 Q32.8 -1.1 37.3 0.8 Q41.8 2.7 43.9 7 L44.1 7 L44.1 0 Z\"\n",
       "        /><glyph unicode=\"u\" horiz-adv-x=\"55.6\" d=\"M49.2 0 L49.2 51.7 L40.7 51.7 L40.7 22.5 Q40.7 19 39.75 16.05 Q38.8 13.1 36.9 10.9 Q35 8.7 32.15 7.5 Q29.3 6.3 25.4 6.3 Q20.5 6.3 17.7 9.1 Q14.9 11.9 14.9 16.7 L14.9 51.7 L6.4 51.7 L6.4 17.7 Q6.4 13.5 7.25 10.05 Q8.1 6.6 10.2 4.1 Q12.3 1.6 15.7 0.25 Q19.1 -1.1 24.2 -1.1 Q29.9 -1.1 34.1 1.15 Q38.3 3.4 41 8.2 L41.2 8.2 L41.2 0 Z\"\n",
       "        /><glyph unicode=\"t\" horiz-adv-x=\"31.5\" d=\"M18.2 51.7 L18.2 67.2 L9.7 67.2 L9.7 51.7 L0.9 51.7 L0.9 44.2 L9.7 44.2 L9.7 11.3 Q9.7 7.7 10.4 5.5 Q11.1 3.3 12.55 2.1 Q14 0.9 16.35 0.45 Q18.7 0 22 0 L28.5 0 L28.5 7.5 L24.6 7.5 Q22.6 7.5 21.35 7.65 Q20.1 7.8 19.4 8.3 Q18.7 8.8 18.45 9.7 Q18.2 10.6 18.2 12.1 L18.2 44.2 L28.5 44.2 L28.5 51.7 Z\"\n",
       "        /><glyph unicode=\"i\" horiz-adv-x=\"22.2\" d=\"M15.4 61 L15.4 71.4 L6.9 71.4 L6.9 61 ZM6.9 51.7 L6.9 0 L15.4 0 L15.4 51.7 Z\"\n",
       "        /><glyph unicode=\"n\" horiz-adv-x=\"55.6\" d=\"M6.4 51.7 L6.4 0 L14.9 0 L14.9 29.2 Q14.9 32.7 15.85 35.65 Q16.8 38.6 18.7 40.8 Q20.6 43 23.45 44.2 Q26.3 45.4 30.2 45.4 Q35.1 45.4 37.9 42.6 Q40.7 39.8 40.7 35 L40.7 0 L49.2 0 L49.2 34 Q49.2 38.2 48.35 41.65 Q47.5 45.1 45.4 47.6 Q43.3 50.1 39.9 51.5 Q36.5 52.9 31.4 52.9 Q19.9 52.9 14.6 43.5 L14.4 43.5 L14.4 51.7 Z\"\n",
       "        /><glyph unicode=\"g\" horiz-adv-x=\"57.4\" d=\"M51 4.4 L51 51.7 L43 51.7 L43 44.3 L42.9 44.3 Q40.6 48.6 36.5 50.75 Q32.4 52.9 27.5 52.9 Q20.8 52.9 16.2 50.35 Q11.6 47.8 8.8 43.85 Q6 39.9 4.8 35.05 Q3.6 30.2 3.6 25.6 Q3.6 20.3 5.05 15.55 Q6.5 10.8 9.4 7.25 Q12.3 3.7 16.6 1.6 Q20.9 -0.5 26.7 -0.5 Q31.7 -0.5 36.15 1.75 Q40.6 4 42.8 8.8 L43 8.8 L43 5.4 Q43 1.1 42.15 -2.5 Q41.3 -6.1 39.4 -8.65 Q37.5 -11.2 34.6 -12.65 Q31.7 -14.1 27.5 -14.1 Q25.4 -14.1 23.1 -13.65 Q20.8 -13.2 18.85 -12.2 Q16.9 -11.2 15.55 -9.6 Q14.2 -8 14.1 -5.7 L5.6 -5.7 Q5.8 -9.9 7.8 -12.8 Q9.8 -15.7 12.85 -17.5 Q15.9 -19.3 19.65 -20.1 Q23.4 -20.9 27 -20.9 Q39.4 -20.9 45.2 -14.6 Q51 -8.3 51 4.4 ZM27.2 6.9 Q23 6.9 20.2 8.65 Q17.4 10.4 15.7 13.25 Q14 16.1 13.3 19.6 Q12.6 23.1 12.6 26.6 Q12.6 30.3 13.45 33.7 Q14.3 37.1 16.15 39.7 Q18 42.3 20.9 43.85 Q23.8 45.4 27.9 45.4 Q31.9 45.4 34.7 43.8 Q37.5 42.2 39.25 39.55 Q41 36.9 41.8 33.6 Q42.6 30.3 42.6 26.9 Q42.6 23.3 41.75 19.7 Q40.9 16.1 39.1 13.25 Q37.3 10.4 34.35 8.65 Q31.4 6.9 27.2 6.9 Z\"\n",
       "        /><glyph unicode=\"a\" horiz-adv-x=\"53.7\" d=\"M52.2 0.2 Q50 -1.1 46.1 -1.1 Q42.8 -1.1 40.85 0.75 Q38.9 2.6 38.9 6.8 Q35.4 2.6 30.75 0.75 Q26.1 -1.1 20.7 -1.1 Q17.2 -1.1 14.05 -0.3 Q10.9 0.5 8.6 2.2 Q6.3 3.9 4.95 6.65 Q3.6 9.4 3.6 13.3 Q3.6 17.7 5.1 20.5 Q6.6 23.3 9.05 25.05 Q11.5 26.8 14.65 27.7 Q17.8 28.6 21.1 29.2 Q24.6 29.9 27.75 30.25 Q30.9 30.6 33.3 31.25 Q35.7 31.9 37.1 33.15 Q38.5 34.4 38.5 36.8 Q38.5 39.6 37.45 41.3 Q36.4 43 34.75 43.9 Q33.1 44.8 31.05 45.1 Q29 45.4 27 45.4 Q21.6 45.4 18 43.35 Q14.4 41.3 14.1 35.6 L5.6 35.6 Q5.8 40.4 7.6 43.7 Q9.4 47 12.4 49.05 Q15.4 51.1 19.25 52 Q23.1 52.9 27.5 52.9 Q31 52.9 34.45 52.4 Q37.9 51.9 40.7 50.35 Q43.5 48.8 45.2 46 Q46.9 43.2 46.9 38.7 L46.9 12.1 Q46.9 9.1 47.25 7.7 Q47.6 6.3 49.6 6.3 Q50.7 6.3 52.2 6.8 ZM38.4 26.7 Q36.8 25.5 34.2 24.95 Q31.6 24.4 28.75 24.05 Q25.9 23.7 23 23.25 Q20.1 22.8 17.8 21.8 Q15.5 20.8 14.05 18.95 Q12.6 17.1 12.6 13.9 Q12.6 11.8 13.45 10.35 Q14.3 8.9 15.65 8 Q17 7.1 18.8 6.7 Q20.6 6.3 22.6 6.3 Q26.8 6.3 29.8 7.45 Q32.8 8.6 34.7 10.35 Q36.6 12.1 37.5 14.15 Q38.4 16.2 38.4 18 Z\"\n",
       "        /><glyph unicode=\"M\" horiz-adv-x=\"87.1\" d=\"M8 71.4 L8 0 L17 0 L17 59.4 L17.2 59.4 L39.5 0 L47.6 0 L69.9 59.4 L70.1 59.4 L70.1 0 L79.1 0 L79.1 71.4 L66.1 71.4 L43.5 11.4 L21 71.4 Z\"\n",
       "        /><glyph unicode=\"5\" horiz-adv-x=\"55.6\" d=\"M47 62.2 L47 69.7 L12 69.7 L5.4 32.9 L12.7 32.5 Q15.2 35.5 18.45 37.35 Q21.7 39.2 25.9 39.2 Q29.5 39.2 32.45 38 Q35.4 36.8 37.5 34.65 Q39.6 32.5 40.75 29.55 Q41.9 26.6 41.9 23.1 Q41.9 18.9 40.7 15.75 Q39.5 12.6 37.45 10.5 Q35.4 8.4 32.65 7.35 Q29.9 6.3 26.9 6.3 Q23.7 6.3 21.05 7.25 Q18.4 8.2 16.45 9.95 Q14.5 11.7 13.35 14.05 Q12.2 16.4 12 19.1 L3.5 19.1 Q3.6 14.3 5.4 10.5 Q7.2 6.7 10.3 4.15 Q13.4 1.6 17.45 0.25 Q21.5 -1.1 26.1 -1.1 Q32.3 -1.1 36.95 0.85 Q41.6 2.8 44.7 6.1 Q47.8 9.4 49.35 13.65 Q50.9 17.9 50.9 22.4 Q50.9 28.5 49.1 33.05 Q47.3 37.6 44.2 40.65 Q41.1 43.7 36.9 45.2 Q32.7 46.7 28 46.7 Q24.4 46.7 20.75 45.45 Q17.1 44.2 14.8 41.6 L14.6 41.8 L18.4 62.2 Z\"\n",
       "        /><glyph unicode=\"7\" horiz-adv-x=\"55.6\" d=\"M50.9 62.4 L50.9 69.7 L5 69.7 L5 61.7 L42.2 61.7 Q36.6 55.8 31.75 48.8 Q26.9 41.8 23.2 33.95 Q19.5 26.1 17.15 17.55 Q14.8 9 14.2 0 L23.7 0 Q24.2 8.3 26.5 17.1 Q28.8 25.9 32.45 34.2 Q36.1 42.5 40.8 49.8 Q45.5 57.1 50.9 62.4 Z\"\n",
       "        /><glyph unicode=\"3\" horiz-adv-x=\"55.6\" d=\"M21.8 40.5 L21.8 33.3 Q24.2 33.6 26.9 33.6 Q30.1 33.6 32.85 32.75 Q35.6 31.9 37.6 30.15 Q39.6 28.4 40.8 25.85 Q42 23.3 42 20 Q42 16.8 40.75 14.25 Q39.5 11.7 37.4 9.95 Q35.3 8.2 32.5 7.25 Q29.7 6.3 26.6 6.3 Q19.3 6.3 15.5 10.65 Q11.7 15 11.5 21.9 L3 21.9 Q2.9 16.4 4.55 12.1 Q6.2 7.8 9.3 4.85 Q12.4 1.9 16.8 0.4 Q21.2 -1.1 26.6 -1.1 Q31.6 -1.1 36.05 0.25 Q40.5 1.6 43.8 4.3 Q47.1 7 49.05 11.05 Q51 15.1 51 20.4 Q51 26.8 47.85 31.5 Q44.7 36.2 38.2 37.6 L38.2 37.8 Q42.4 39.7 45.2 43.4 Q48 47.1 48 51.9 Q48 56.8 46.35 60.4 Q44.7 64 41.8 66.3 Q38.9 68.6 34.95 69.75 Q31 70.9 26.4 70.9 Q21.1 70.9 17.05 69.2 Q13 67.5 10.3 64.5 Q7.6 61.5 6.15 57.3 Q4.7 53.1 4.5 48 L13 48 Q13 51.1 13.8 53.9 Q14.6 56.7 16.25 58.8 Q17.9 60.9 20.45 62.15 Q23 63.4 26.4 63.4 Q31.8 63.4 35.4 60.55 Q39 57.7 39 52 Q39 49.2 37.9 47 Q36.8 44.8 34.95 43.35 Q33.1 41.9 30.65 41.15 Q28.2 40.4 25.5 40.4 L23.7 40.4 Q23.2 40.4 22.7 40.4 Q22.3 40.4 21.8 40.5 Z\"\n",
       "        /><glyph unicode=\"9\" horiz-adv-x=\"55.6\" d=\"M13.4 17.1 L4.9 17.1 Q5.7 7.9 11.6 3.4 Q17.5 -1.1 26.4 -1.1 Q39.3 -1.1 45.15 8.75 Q51 18.6 51 37 Q51 47.1 49.05 53.65 Q47.1 60.2 43.8 64 Q40.5 67.8 36.1 69.35 Q31.7 70.9 26.7 70.9 Q21.6 70.9 17.3 69.2 Q13 67.5 9.9 64.45 Q6.8 61.4 5.1 57.15 Q3.4 52.9 3.4 47.8 Q3.4 42.6 4.85 38.2 Q6.3 33.8 9.15 30.7 Q12 27.6 16.2 25.85 Q20.4 24.1 25.8 24.1 Q31 24.1 35.4 26.75 Q39.8 29.4 42.2 33.9 L42.4 33.7 Q42 19.8 38.1 13.05 Q34.2 6.3 26.4 6.3 Q21.3 6.3 17.6 9.1 Q13.9 11.9 13.4 17.1 ZM40.9 47.2 Q40.9 44.1 39.9 41.25 Q38.9 38.4 37 36.25 Q35.1 34.1 32.4 32.85 Q29.7 31.6 26.4 31.6 Q23.3 31.6 20.75 32.85 Q18.2 34.1 16.35 36.2 Q14.5 38.3 13.45 41 Q12.4 43.7 12.4 46.6 Q12.4 49.9 13.15 52.9 Q13.9 55.9 15.55 58.25 Q17.2 60.6 19.85 62 Q22.5 63.4 26.3 63.4 Q29.9 63.4 32.6 62.1 Q35.3 60.8 37.15 58.55 Q39 56.3 39.95 53.4 Q40.9 50.5 40.9 47.2 Z\"\n",
       "        /><glyph unicode=\"s\" horiz-adv-x=\"50.0\" d=\"M11.6 16.3 L3.1 16.3 Q3.3 11.5 5.1 8.15 Q6.9 4.8 9.9 2.75 Q12.9 0.7 16.8 -0.2 Q20.7 -1.1 25 -1.1 Q28.9 -1.1 32.85 -0.35 Q36.8 0.4 39.95 2.3 Q43.1 4.2 45.05 7.3 Q47 10.4 47 15.1 Q47 18.8 45.55 21.3 Q44.1 23.8 41.75 25.45 Q39.4 27.1 36.35 28.1 Q33.3 29.1 30.1 29.8 Q27.1 30.5 24.1 31.15 Q21.1 31.8 18.7 32.75 Q16.3 33.7 14.75 35.15 Q13.2 36.6 13.2 38.8 Q13.2 40.8 14.2 42.05 Q15.2 43.3 16.8 44.05 Q18.4 44.8 20.35 45.1 Q22.3 45.4 24.2 45.4 Q26.3 45.4 28.35 44.95 Q30.4 44.5 32.1 43.5 Q33.8 42.5 34.9 40.85 Q36 39.2 36.2 36.7 L44.7 36.7 Q44.4 41.4 42.7 44.55 Q41 47.7 38.15 49.55 Q35.3 51.4 31.6 52.15 Q27.9 52.9 23.5 52.9 Q20.1 52.9 16.65 52.05 Q13.2 51.2 10.45 49.45 Q7.7 47.7 5.95 44.9 Q4.2 42.1 4.2 38.2 Q4.2 33.2 6.7 30.4 Q9.2 27.6 12.95 26.05 Q16.7 24.5 21.1 23.65 Q25.5 22.8 29.25 21.75 Q33 20.7 35.5 19 Q38 17.3 38 14 Q38 11.6 36.8 10.05 Q35.6 8.5 33.75 7.7 Q31.9 6.9 29.7 6.6 Q27.5 6.3 25.5 6.3 Q22.9 6.3 20.45 6.8 Q18 7.3 16.05 8.45 Q14.1 9.6 12.9 11.55 Q11.7 13.5 11.6 16.3 Z\"\n",
       "        /><glyph unicode=\"h\" horiz-adv-x=\"55.6\" d=\"M6.4 71.4 L6.4 0 L14.9 0 L14.9 29.2 Q14.9 32.7 15.85 35.65 Q16.8 38.6 18.7 40.8 Q20.6 43 23.45 44.2 Q26.3 45.4 30.2 45.4 Q35.1 45.4 37.9 42.6 Q40.7 39.8 40.7 35 L40.7 0 L49.2 0 L49.2 34 Q49.2 38.2 48.35 41.65 Q47.5 45.1 45.4 47.6 Q43.3 50.1 39.9 51.5 Q36.5 52.9 31.4 52.9 Q29.1 52.9 26.65 52.4 Q24.2 51.9 21.95 50.85 Q19.7 49.8 17.9 48.15 Q16.1 46.5 15.1 44.1 L14.9 44.1 L14.9 71.4 Z\"\n",
       "        /><glyph unicode=\"P\" horiz-adv-x=\"64.8\" d=\"M17.3 37.2 L17.3 63.4 L35.9 63.4 Q44 63.4 47.75 60.05 Q51.5 56.7 51.5 50.3 Q51.5 43.9 47.75 40.5 Q44 37.1 35.9 37.2 ZM7.8 71.4 L7.8 0 L17.3 0 L17.3 29.2 L39.1 29.2 Q49.9 29.1 55.45 34.7 Q61 40.3 61 50.3 Q61 60.3 55.45 65.85 Q49.9 71.4 39.1 71.4 Z\"\n",
       "        /><glyph unicode=\"/\" horiz-adv-x=\"33.3\" d=\"M27.8 73.1 L-1.7 -1.6 L5.5 -1.6 L35.1 73.1 Z\"\n",
       "        /><glyph unicode=\"y\" horiz-adv-x=\"50.0\" d=\"M26.7 -6.9 Q25.2 -10.7 23.75 -13.3 Q22.3 -15.9 20.55 -17.55 Q18.8 -19.2 16.65 -19.95 Q14.5 -20.7 11.7 -20.7 Q10.2 -20.7 8.7 -20.5 Q7.2 -20.3 5.8 -19.8 L5.8 -12 Q6.9 -12.5 8.35 -12.85 Q9.8 -13.2 10.8 -13.2 Q13.4 -13.2 15.15 -11.95 Q16.9 -10.7 17.8 -8.4 L21.3 0.3 L0.8 51.7 L10.4 51.7 L25.5 9.4 L25.7 9.4 L40.2 51.7 L49.2 51.7 Z\"\n",
       "        /><glyph unicode=\"c\" horiz-adv-x=\"53.7\" d=\"M41.5 35.1 L50.3 35.1 Q49.8 39.7 47.9 43.05 Q46 46.4 43.05 48.6 Q40.1 50.8 36.25 51.85 Q32.4 52.9 28 52.9 Q21.9 52.9 17.3 50.75 Q12.7 48.6 9.65 44.85 Q6.6 41.1 5.1 36.05 Q3.6 31 3.6 25.2 Q3.6 19.4 5.15 14.55 Q6.7 9.7 9.75 6.2 Q12.8 2.7 17.35 0.8 Q21.9 -1.1 27.8 -1.1 Q37.7 -1.1 43.45 4.1 Q49.2 9.3 50.6 18.9 L41.9 18.9 Q41.1 12.9 37.55 9.6 Q34 6.3 27.7 6.3 Q23.7 6.3 20.8 7.9 Q17.9 9.5 16.1 12.15 Q14.3 14.8 13.45 18.2 Q12.6 21.6 12.6 25.2 Q12.6 29.1 13.4 32.75 Q14.2 36.4 16.05 39.2 Q17.9 42 21 43.7 Q24.1 45.4 28.7 45.4 Q34.1 45.4 37.3 42.7 Q40.5 40 41.5 35.1 Z\"\n",
       "        /><glyph unicode=\"q\" horiz-adv-x=\"59.3\" d=\"M12.6 25.4 Q12.6 29.2 13.4 32.8 Q14.2 36.4 16 39.2 Q17.8 42 20.8 43.7 Q23.8 45.4 28.1 45.4 Q32.5 45.4 35.6 43.75 Q38.7 42.1 40.65 39.4 Q42.6 36.7 43.5 33.15 Q44.4 29.6 44.4 25.8 Q44.4 22.2 43.55 18.7 Q42.7 15.2 40.8 12.45 Q38.9 9.7 35.9 8 Q32.9 6.3 28.6 6.3 Q24.5 6.3 21.45 7.9 Q18.4 9.5 16.45 12.2 Q14.5 14.9 13.55 18.35 Q12.6 21.8 12.6 25.4 ZM52.6 -19.7 L52.6 51.7 L44.1 51.7 L44.1 44.8 L43.9 44.8 Q42.5 47.1 40.45 48.65 Q38.4 50.2 36.1 51.15 Q33.8 52.1 31.5 52.5 Q29.2 52.9 27.2 52.9 Q21.3 52.9 16.85 50.75 Q12.4 48.6 9.45 44.95 Q6.5 41.3 5.05 36.4 Q3.6 31.5 3.6 26 Q3.6 20.5 5.1 15.6 Q6.6 10.7 9.55 7 Q12.5 3.3 16.95 1.1 Q21.4 -1.1 27.4 -1.1 Q32.8 -1.1 37.3 0.8 Q41.8 2.7 43.9 7 L44.1 7 L44.1 -19.7 Z\"\n",
       "        /><glyph unicode=\"r\" horiz-adv-x=\"33.3\" d=\"M6.1 51.7 L6.1 0 L14.6 0 L14.6 23 Q14.6 28 15.6 31.85 Q16.6 35.7 18.8 38.4 Q21 41.1 24.6 42.5 Q28.2 43.9 33.3 43.9 L33.3 52.9 Q26.4 53.1 21.9 50.1 Q17.4 47.1 14.3 40.8 L14.1 40.8 L14.1 51.7 Z\"\n",
       "        /><glyph unicode=\"F\" horiz-adv-x=\"57.4\" d=\"M7.8 71.4 L7.8 0 L17.3 0 L17.3 32.7 L50.1 32.7 L50.1 40.7 L17.3 40.7 L17.3 63.4 L54.7 63.4 L54.7 71.4 Z\"\n",
       "      /></font\n",
       "      ><font horiz-adv-x=\"50.0\" id=\"font2\"\n",
       "      ><font-face ascent=\"97.5\" descent=\"21.699999\" units-per-em=\"100\" style=\"font-style:normal; font-family:Helvetica Neue; font-weight:bold;\"\n",
       "        /><missing-glyph horiz-adv-x=\"50.0\" d=\"M39.1 60.7 L11.1 60.7 L11.1 9.5 L39.1 9.5 ZM48.2 69.8 L48.2 0.3 L1.7 0.3 L1.7 69.8 Z\"\n",
       "        /><glyph unicode=\"m\" horiz-adv-x=\"90.6\" d=\"M5.8 51.7 L5.8 0 L20 0 L20 30 Q20 33.8 21.1 36.15 Q22.2 38.5 23.75 39.75 Q25.3 41 26.95 41.45 Q28.6 41.9 29.6 41.9 Q33 41.9 34.75 40.75 Q36.5 39.6 37.25 37.7 Q38 35.8 38.1 33.55 Q38.2 31.3 38.2 29 L38.2 0 L52.4 0 L52.4 28.8 Q52.4 31.2 52.75 33.55 Q53.1 35.9 54.15 37.75 Q55.2 39.6 57.05 40.75 Q58.9 41.9 61.9 41.9 Q64.9 41.9 66.65 40.9 Q68.4 39.9 69.3 38.2 Q70.2 36.5 70.4 34.2 Q70.6 31.9 70.6 29.3 L70.6 0 L84.8 0 L84.8 34.6 Q84.8 39.6 83.4 43.15 Q82 46.7 79.5 48.9 Q77 51.1 73.5 52.1 Q70 53.1 65.9 53.1 Q60.5 53.1 56.55 50.5 Q52.6 47.9 50.3 44.5 Q48.2 49.3 44.15 51.2 Q40.1 53.1 35.2 53.1 Q30.1 53.1 26.15 50.9 Q22.2 48.7 19.4 44.7 L19.2 44.7 L19.2 51.7 Z\"\n",
       "        /><glyph unicode=\"r\" horiz-adv-x=\"38.9\" d=\"M5.4 51.7 L5.4 0 L19.6 0 L19.6 23.3 Q19.6 26.8 20.3 29.8 Q21 32.8 22.65 35.05 Q24.3 37.3 27 38.6 Q29.7 39.9 33.6 39.9 Q34.9 39.9 36.3 39.75 Q37.7 39.6 38.7 39.4 L38.7 52.6 Q37 53.1 35.6 53.1 Q32.9 53.1 30.4 52.3 Q27.9 51.5 25.7 50.05 Q23.5 48.6 21.8 46.55 Q20.1 44.5 19.1 42.1 L18.9 42.1 L18.9 51.7 Z\"\n",
       "        /><glyph unicode=\"g\" horiz-adv-x=\"61.1\" d=\"M29.5 12.2 Q26.2 12.2 24 13.6 Q21.8 15 20.45 17.2 Q19.1 19.4 18.55 22.15 Q18 24.9 18 27.7 Q18 30.6 18.65 33.25 Q19.3 35.9 20.75 37.95 Q22.2 40 24.35 41.2 Q26.5 42.4 29.5 42.4 Q33 42.4 35.3 41.1 Q37.6 39.8 39 37.6 Q40.4 35.4 41 32.55 Q41.6 29.7 41.6 26.5 Q41.6 23.7 40.85 21.15 Q40.1 18.6 38.6 16.6 Q37.1 14.6 34.8 13.4 Q32.5 12.2 29.5 12.2 ZM55.1 3.3 L55.1 51.7 L41.6 51.7 L41.6 44.8 L41.4 44.8 Q38.8 49.3 34.95 51.2 Q31.1 53.1 26 53.1 Q20.6 53.1 16.45 51 Q12.3 48.9 9.5 45.35 Q6.7 41.8 5.25 37.15 Q3.8 32.5 3.8 27.5 Q3.8 22.2 5.05 17.45 Q6.3 12.7 9 9.15 Q11.7 5.6 15.9 3.55 Q20.1 1.5 25.9 1.5 Q30.6 1.5 34.85 3.45 Q39.1 5.4 41.4 9.5 L41.6 9.5 L41.6 2.7 Q41.7 -2.8 38.95 -6.4 Q36.2 -10 30.2 -10 Q26.4 -10 23.5 -8.45 Q20.6 -6.9 19.6 -2.9 L5.5 -2.9 Q5.8 -7.3 7.95 -10.45 Q10.1 -13.6 13.35 -15.6 Q16.6 -17.6 20.55 -18.55 Q24.5 -19.5 28.3 -19.5 Q37.2 -19.5 42.5 -17.1 Q47.8 -14.7 50.6 -11.25 Q53.4 -7.8 54.25 -3.8 Q55.1 0.2 55.1 3.3 Z\"\n",
       "        /><glyph unicode=\"a\" horiz-adv-x=\"57.4\" d=\"M4.8 35.8 Q5.1 40.8 7.3 44.1 Q9.5 47.4 12.9 49.4 Q16.3 51.4 20.55 52.25 Q24.8 53.1 29.1 53.1 Q33 53.1 37 52.55 Q41 52 44.3 50.4 Q47.6 48.8 49.7 45.95 Q51.8 43.1 51.8 38.4 L51.8 11.5 Q51.8 8 52.2 4.8 Q52.6 1.6 53.6 0 L39.2 0 Q38.8 1.2 38.55 2.45 Q38.3 3.7 38.2 5 Q34.8 1.5 30.2 0.1 Q25.6 -1.3 20.8 -1.3 Q17.1 -1.3 13.9 -0.4 Q10.7 0.5 8.3 2.4 Q5.9 4.3 4.55 7.2 Q3.2 10.1 3.2 14.1 Q3.2 18.5 4.75 21.35 Q6.3 24.2 8.75 25.9 Q11.2 27.6 14.35 28.45 Q17.5 29.3 20.7 29.8 Q23.9 30.3 27 30.6 Q30.1 30.9 32.5 31.5 Q34.9 32.1 36.3 33.25 Q37.7 34.4 37.6 36.6 Q37.6 38.9 36.85 40.25 Q36.1 41.6 34.85 42.35 Q33.6 43.1 31.95 43.35 Q30.3 43.6 28.4 43.6 Q24.2 43.6 21.8 41.8 Q19.4 40 19 35.8 ZM37.6 25.3 Q36.7 24.5 35.35 24.05 Q34 23.6 32.45 23.3 Q30.9 23 29.2 22.8 Q27.5 22.6 25.8 22.3 Q24.2 22 22.65 21.5 Q21.1 21 19.95 20.15 Q18.8 19.3 18.1 18 Q17.4 16.7 17.4 14.7 Q17.4 12.8 18.1 11.5 Q18.8 10.2 20 9.45 Q21.2 8.7 22.8 8.4 Q24.4 8.1 26.1 8.1 Q30.3 8.1 32.6 9.5 Q34.9 10.9 36 12.85 Q37.1 14.8 37.35 16.8 Q37.6 18.8 37.6 20 Z\"\n",
       "        /><glyph unicode=\"i\" horiz-adv-x=\"25.8\" d=\"M20 59.7 L20 71.4 L5.8 71.4 L5.8 59.7 ZM5.8 51.7 L5.8 0 L20 0 L20 51.7 Z\"\n",
       "        /><glyph unicode=\"D\" horiz-adv-x=\"74.1\" d=\"M22.6 13.2 L22.6 58.2 L33.8 58.2 Q39.6 58.2 43.55 56.55 Q47.5 54.9 49.9 51.8 Q52.3 48.7 53.35 44.35 Q54.4 40 54.4 34.6 Q54.4 28.7 52.9 24.6 Q51.4 20.5 48.9 17.95 Q46.4 15.4 43.2 14.3 Q40 13.2 36.6 13.2 ZM6.9 71.4 L6.9 0 L37.7 0 Q45.9 0 51.95 2.75 Q58 5.5 62.05 10.3 Q66.1 15.1 68.1 21.7 Q70.1 28.3 70.1 36.1 Q70.1 45 67.65 51.6 Q65.2 58.2 60.85 62.6 Q56.5 67 50.55 69.2 Q44.6 71.4 37.7 71.4 Z\"\n",
       "        /><glyph unicode=\" \" horiz-adv-x=\"27.8\" d=\"\"\n",
       "        /><glyph unicode=\"e\" horiz-adv-x=\"57.4\" d=\"M40.2 31.4 L17.1 31.4 Q17.2 32.9 17.75 34.8 Q18.3 36.7 19.65 38.4 Q21 40.1 23.25 41.25 Q25.5 42.4 28.9 42.4 Q34.1 42.4 36.65 39.6 Q39.2 36.8 40.2 31.4 ZM17.1 22.4 L54.4 22.4 Q54.8 28.4 53.4 33.9 Q52 39.4 48.85 43.7 Q45.7 48 40.8 50.55 Q35.9 53.1 29.3 53.1 Q23.4 53.1 18.55 51 Q13.7 48.9 10.2 45.25 Q6.7 41.6 4.8 36.6 Q2.9 31.6 2.9 25.8 Q2.9 19.8 4.75 14.8 Q6.6 9.8 10 6.2 Q13.4 2.6 18.3 0.65 Q23.2 -1.3 29.3 -1.3 Q38.1 -1.3 44.3 2.7 Q50.5 6.7 53.5 16 L41 16 Q40.3 13.6 37.2 11.45 Q34.1 9.3 29.8 9.3 Q23.8 9.3 20.6 12.4 Q17.4 15.5 17.1 22.4 Z\"\n",
       "        /><glyph unicode=\"d\" horiz-adv-x=\"61.1\" d=\"M42.1 26 Q42.1 22.8 41.5 19.8 Q40.9 16.8 39.5 14.45 Q38.1 12.1 35.75 10.7 Q33.4 9.3 29.9 9.3 Q26.6 9.3 24.25 10.75 Q21.9 12.2 20.35 14.55 Q18.8 16.9 18.1 19.9 Q17.4 22.9 17.4 25.9 Q17.4 29.1 18.05 32.05 Q18.7 35 20.15 37.3 Q21.6 39.6 24 41 Q26.4 42.4 29.9 42.4 Q33.4 42.4 35.7 41 Q38 39.6 39.45 37.35 Q40.9 35.1 41.5 32.15 Q42.1 29.2 42.1 26 ZM42.3 6.6 L42.3 0 L55.8 0 L55.8 71.4 L41.6 71.4 L41.6 45.4 L41.4 45.4 Q39 49.2 34.85 51.15 Q30.7 53.1 26.1 53.1 Q20.4 53.1 16.1 50.85 Q11.8 48.6 8.95 44.9 Q6.1 41.2 4.65 36.35 Q3.2 31.5 3.2 26.3 Q3.2 20.9 4.65 15.9 Q6.1 10.9 8.95 7.05 Q11.8 3.2 16.2 0.95 Q20.6 -1.3 26.4 -1.3 Q31.5 -1.3 35.55 0.55 Q39.6 2.4 42.1 6.6 Z\"\n",
       "        /><glyph unicode=\"o\" horiz-adv-x=\"61.1\" d=\"M18 25.8 Q18 28.9 18.6 31.9 Q19.2 34.9 20.65 37.2 Q22.1 39.5 24.5 40.95 Q26.9 42.4 30.5 42.4 Q34.1 42.4 36.55 40.95 Q39 39.5 40.45 37.2 Q41.9 34.9 42.5 31.9 Q43.1 28.9 43.1 25.8 Q43.1 22.7 42.5 19.75 Q41.9 16.8 40.45 14.45 Q39 12.1 36.55 10.7 Q34.1 9.3 30.5 9.3 Q26.9 9.3 24.5 10.7 Q22.1 12.1 20.65 14.45 Q19.2 16.8 18.6 19.75 Q18 22.7 18 25.8 ZM3.8 25.8 Q3.8 19.6 5.7 14.6 Q7.6 9.6 11.1 6.05 Q14.6 2.5 19.5 0.6 Q24.4 -1.3 30.5 -1.3 Q36.6 -1.3 41.55 0.6 Q46.5 2.5 50 6.05 Q53.5 9.6 55.4 14.6 Q57.3 19.6 57.3 25.8 Q57.3 32 55.4 37.05 Q53.5 42.1 50 45.65 Q46.5 49.2 41.55 51.15 Q36.6 53.1 30.5 53.1 Q24.4 53.1 19.5 51.15 Q14.6 49.2 11.1 45.65 Q7.6 42.1 5.7 37.05 Q3.8 32 3.8 25.8 Z\"\n",
       "        /><glyph unicode=\"B\" horiz-adv-x=\"70.4\" d=\"M22.6 42.5 L22.6 59.2 L37.3 59.2 Q39.4 59.2 41.35 58.85 Q43.3 58.5 44.8 57.6 Q46.3 56.7 47.2 55.1 Q48.1 53.5 48.1 51 Q48.1 46.5 45.4 44.5 Q42.7 42.5 38.5 42.5 ZM6.9 71.4 L6.9 0 L41.5 0 Q46.3 0 50.85 1.2 Q55.4 2.4 58.95 4.9 Q62.5 7.4 64.6 11.35 Q66.7 15.3 66.7 20.7 Q66.7 27.4 63.45 32.15 Q60.2 36.9 53.6 38.8 Q58.4 41.1 60.85 44.7 Q63.3 48.3 63.3 53.7 Q63.3 58.7 61.65 62.1 Q60 65.5 57 67.55 Q54 69.6 49.8 70.5 Q45.6 71.4 40.5 71.4 ZM22.6 12.2 L22.6 31.8 L39.7 31.8 Q44.8 31.8 47.9 29.45 Q51 27.1 51 21.6 Q51 18.8 50.05 17 Q49.1 15.2 47.5 14.15 Q45.9 13.1 43.8 12.65 Q41.7 12.2 39.4 12.2 Z\"\n",
       "      /></font\n",
       "    ></defs\n",
       "    ><g style=\"fill:white; stroke:white;\"\n",
       "    ><rect x=\"0\" y=\"0\" width=\"560\" style=\"clip-path:url(#clipPath1); stroke:none;\" height=\"420\"\n",
       "    /></g\n",
       "    ><g style=\"fill:white; text-rendering:optimizeSpeed; color-rendering:optimizeSpeed; image-rendering:optimizeSpeed; shape-rendering:crispEdges; stroke:white; color-interpolation:sRGB;\"\n",
       "    ><rect x=\"0\" width=\"560\" height=\"420\" y=\"0\" style=\"stroke:none;\"\n",
       "      /><path style=\"stroke:none;\" d=\"M85 216 L507 216 L507 51.5 L85 51.5 Z\"\n",
       "    /></g\n",
       "    ><g style=\"fill-opacity:0.251; color-rendering:optimizeQuality; color-interpolation:linearRGB; text-rendering:geometricPrecision; stroke:rgb(102,102,102); stroke-linecap:butt; stroke-miterlimit:1; stroke-opacity:0.251; fill:rgb(102,102,102); stroke-dasharray:1,3; stroke-width:0.5; stroke-linejoin:bevel; image-rendering:optimizeQuality;\"\n",
       "    ><line y2=\"51.5\" style=\"fill:none;\" x1=\"116.7587\" x2=\"116.7587\" y1=\"216\"\n",
       "      /><line y2=\"51.5\" style=\"fill:none;\" x1=\"135.3363\" x2=\"135.3363\" y1=\"216\"\n",
       "      /><line y2=\"51.5\" style=\"fill:none;\" x1=\"148.5173\" x2=\"148.5173\" y1=\"216\"\n",
       "      /><line y2=\"51.5\" style=\"fill:none;\" x1=\"158.7413\" x2=\"158.7413\" y1=\"216\"\n",
       "      /><line y2=\"51.5\" style=\"fill:none;\" x1=\"167.095\" x2=\"167.095\" y1=\"216\"\n",
       "      /><line y2=\"51.5\" style=\"fill:none;\" x1=\"174.1578\" x2=\"174.1578\" y1=\"216\"\n",
       "      /><line y2=\"51.5\" style=\"fill:none;\" x1=\"180.276\" x2=\"180.276\" y1=\"216\"\n",
       "      /><line y2=\"51.5\" style=\"fill:none;\" x1=\"185.6726\" x2=\"185.6726\" y1=\"216\"\n",
       "      /><line y2=\"51.5\" style=\"fill:none;\" x1=\"222.2587\" x2=\"222.2587\" y1=\"216\"\n",
       "      /><line y2=\"51.5\" style=\"fill:none;\" x1=\"240.8363\" x2=\"240.8363\" y1=\"216\"\n",
       "      /><line y2=\"51.5\" style=\"fill:none;\" x1=\"254.0173\" x2=\"254.0173\" y1=\"216\"\n",
       "      /><line y2=\"51.5\" style=\"fill:none;\" x1=\"264.2413\" x2=\"264.2413\" y1=\"216\"\n",
       "      /><line y2=\"51.5\" style=\"fill:none;\" x1=\"272.595\" x2=\"272.595\" y1=\"216\"\n",
       "      /><line y2=\"51.5\" style=\"fill:none;\" x1=\"279.6578\" x2=\"279.6578\" y1=\"216\"\n",
       "      /><line y2=\"51.5\" style=\"fill:none;\" x1=\"285.776\" x2=\"285.776\" y1=\"216\"\n",
       "      /><line y2=\"51.5\" style=\"fill:none;\" x1=\"291.1726\" x2=\"291.1726\" y1=\"216\"\n",
       "      /><line y2=\"51.5\" style=\"fill:none;\" x1=\"327.7587\" x2=\"327.7587\" y1=\"216\"\n",
       "      /><line y2=\"51.5\" style=\"fill:none;\" x1=\"346.3363\" x2=\"346.3363\" y1=\"216\"\n",
       "      /><line y2=\"51.5\" style=\"fill:none;\" x1=\"359.5173\" x2=\"359.5173\" y1=\"216\"\n",
       "      /><line y2=\"51.5\" style=\"fill:none;\" x1=\"369.7413\" x2=\"369.7413\" y1=\"216\"\n",
       "      /><line y2=\"51.5\" style=\"fill:none;\" x1=\"378.095\" x2=\"378.095\" y1=\"216\"\n",
       "      /><line y2=\"51.5\" style=\"fill:none;\" x1=\"385.1578\" x2=\"385.1578\" y1=\"216\"\n",
       "      /><line y2=\"51.5\" style=\"fill:none;\" x1=\"391.276\" x2=\"391.276\" y1=\"216\"\n",
       "      /><line y2=\"51.5\" style=\"fill:none;\" x1=\"396.6726\" x2=\"396.6726\" y1=\"216\"\n",
       "      /><line y2=\"51.5\" style=\"fill:none;\" x1=\"433.2587\" x2=\"433.2587\" y1=\"216\"\n",
       "      /><line y2=\"51.5\" style=\"fill:none;\" x1=\"451.8363\" x2=\"451.8363\" y1=\"216\"\n",
       "      /><line y2=\"51.5\" style=\"fill:none;\" x1=\"465.0173\" x2=\"465.0173\" y1=\"216\"\n",
       "      /><line y2=\"51.5\" style=\"fill:none;\" x1=\"475.2413\" x2=\"475.2413\" y1=\"216\"\n",
       "      /><line y2=\"51.5\" style=\"fill:none;\" x1=\"483.595\" x2=\"483.595\" y1=\"216\"\n",
       "      /><line y2=\"51.5\" style=\"fill:none;\" x1=\"490.6578\" x2=\"490.6578\" y1=\"216\"\n",
       "      /><line y2=\"51.5\" style=\"fill:none;\" x1=\"496.776\" x2=\"496.776\" y1=\"216\"\n",
       "      /><line y2=\"51.5\" style=\"fill:none;\" x1=\"502.1726\" x2=\"502.1726\" y1=\"216\"\n",
       "    /></g\n",
       "    ><g style=\"stroke-linecap:butt; fill-opacity:0.149; fill:rgb(38,38,38); text-rendering:geometricPrecision; image-rendering:optimizeQuality; color-rendering:optimizeQuality; stroke-linejoin:round; stroke:rgb(38,38,38); color-interpolation:linearRGB; stroke-width:0.5; stroke-opacity:0.149;\"\n",
       "    ><line y2=\"51.5\" style=\"fill:none;\" x1=\"85\" x2=\"85\" y1=\"216\"\n",
       "      /><line y2=\"51.5\" style=\"fill:none;\" x1=\"190.5\" x2=\"190.5\" y1=\"216\"\n",
       "      /><line y2=\"51.5\" style=\"fill:none;\" x1=\"296\" x2=\"296\" y1=\"216\"\n",
       "      /><line y2=\"51.5\" style=\"fill:none;\" x1=\"401.5\" x2=\"401.5\" y1=\"216\"\n",
       "      /><line y2=\"51.5\" style=\"fill:none;\" x1=\"507\" x2=\"507\" y1=\"216\"\n",
       "      /><line y2=\"216\" style=\"fill:none;\" x1=\"507\" x2=\"85\" y1=\"216\"\n",
       "      /><line y2=\"188.5833\" style=\"fill:none;\" x1=\"507\" x2=\"85\" y1=\"188.5833\"\n",
       "      /><line y2=\"161.1667\" style=\"fill:none;\" x1=\"507\" x2=\"85\" y1=\"161.1667\"\n",
       "      /><line y2=\"133.75\" style=\"fill:none;\" x1=\"507\" x2=\"85\" y1=\"133.75\"\n",
       "      /><line y2=\"106.3333\" style=\"fill:none;\" x1=\"507\" x2=\"85\" y1=\"106.3333\"\n",
       "      /><line y2=\"78.9167\" style=\"fill:none;\" x1=\"507\" x2=\"85\" y1=\"78.9167\"\n",
       "      /><line y2=\"51.5\" style=\"fill:none;\" x1=\"507\" x2=\"85\" y1=\"51.5\"\n",
       "    /></g\n",
       "    ><g style=\"fill:rgb(102,102,102); text-rendering:geometricPrecision; image-rendering:optimizeQuality; color-rendering:optimizeQuality; stroke-linejoin:round; stroke:rgb(102,102,102); color-interpolation:linearRGB; stroke-width:0.5;\"\n",
       "    ><line y2=\"216\" style=\"fill:none;\" x1=\"85\" x2=\"507\" y1=\"216\"\n",
       "      /><line y2=\"51.5\" style=\"fill:none;\" x1=\"85\" x2=\"507\" y1=\"51.5\"\n",
       "      /><line y2=\"211.78\" style=\"fill:none;\" x1=\"85\" x2=\"85\" y1=\"216\"\n",
       "      /><line y2=\"211.78\" style=\"fill:none;\" x1=\"190.5\" x2=\"190.5\" y1=\"216\"\n",
       "      /><line y2=\"211.78\" style=\"fill:none;\" x1=\"296\" x2=\"296\" y1=\"216\"\n",
       "      /><line y2=\"211.78\" style=\"fill:none;\" x1=\"401.5\" x2=\"401.5\" y1=\"216\"\n",
       "      /><line y2=\"211.78\" style=\"fill:none;\" x1=\"507\" x2=\"507\" y1=\"216\"\n",
       "      /><line y2=\"55.72\" style=\"fill:none;\" x1=\"85\" x2=\"85\" y1=\"51.5\"\n",
       "      /><line y2=\"55.72\" style=\"fill:none;\" x1=\"190.5\" x2=\"190.5\" y1=\"51.5\"\n",
       "      /><line y2=\"55.72\" style=\"fill:none;\" x1=\"296\" x2=\"296\" y1=\"51.5\"\n",
       "      /><line y2=\"55.72\" style=\"fill:none;\" x1=\"401.5\" x2=\"401.5\" y1=\"51.5\"\n",
       "      /><line y2=\"55.72\" style=\"fill:none;\" x1=\"507\" x2=\"507\" y1=\"51.5\"\n",
       "      /><line y2=\"213.89\" style=\"fill:none;\" x1=\"85\" x2=\"85\" y1=\"216\"\n",
       "      /><line y2=\"213.89\" style=\"fill:none;\" x1=\"116.7587\" x2=\"116.7587\" y1=\"216\"\n",
       "      /><line y2=\"213.89\" style=\"fill:none;\" x1=\"135.3363\" x2=\"135.3363\" y1=\"216\"\n",
       "      /><line y2=\"213.89\" style=\"fill:none;\" x1=\"148.5173\" x2=\"148.5173\" y1=\"216\"\n",
       "      /><line y2=\"213.89\" style=\"fill:none;\" x1=\"158.7413\" x2=\"158.7413\" y1=\"216\"\n",
       "      /><line y2=\"213.89\" style=\"fill:none;\" x1=\"167.095\" x2=\"167.095\" y1=\"216\"\n",
       "      /><line y2=\"213.89\" style=\"fill:none;\" x1=\"174.1578\" x2=\"174.1578\" y1=\"216\"\n",
       "      /><line y2=\"213.89\" style=\"fill:none;\" x1=\"180.276\" x2=\"180.276\" y1=\"216\"\n",
       "      /><line y2=\"213.89\" style=\"fill:none;\" x1=\"185.6726\" x2=\"185.6726\" y1=\"216\"\n",
       "      /><line y2=\"213.89\" style=\"fill:none;\" x1=\"190.5\" x2=\"190.5\" y1=\"216\"\n",
       "      /><line y2=\"213.89\" style=\"fill:none;\" x1=\"222.2587\" x2=\"222.2587\" y1=\"216\"\n",
       "      /><line y2=\"213.89\" style=\"fill:none;\" x1=\"240.8363\" x2=\"240.8363\" y1=\"216\"\n",
       "      /><line y2=\"213.89\" style=\"fill:none;\" x1=\"254.0173\" x2=\"254.0173\" y1=\"216\"\n",
       "      /><line y2=\"213.89\" style=\"fill:none;\" x1=\"264.2413\" x2=\"264.2413\" y1=\"216\"\n",
       "      /><line y2=\"213.89\" style=\"fill:none;\" x1=\"272.595\" x2=\"272.595\" y1=\"216\"\n",
       "      /><line y2=\"213.89\" style=\"fill:none;\" x1=\"279.6578\" x2=\"279.6578\" y1=\"216\"\n",
       "      /><line y2=\"213.89\" style=\"fill:none;\" x1=\"285.776\" x2=\"285.776\" y1=\"216\"\n",
       "      /><line y2=\"213.89\" style=\"fill:none;\" x1=\"291.1726\" x2=\"291.1726\" y1=\"216\"\n",
       "      /><line y2=\"213.89\" style=\"fill:none;\" x1=\"296\" x2=\"296\" y1=\"216\"\n",
       "      /><line y2=\"213.89\" style=\"fill:none;\" x1=\"327.7587\" x2=\"327.7587\" y1=\"216\"\n",
       "      /><line y2=\"213.89\" style=\"fill:none;\" x1=\"346.3363\" x2=\"346.3363\" y1=\"216\"\n",
       "      /><line y2=\"213.89\" style=\"fill:none;\" x1=\"359.5173\" x2=\"359.5173\" y1=\"216\"\n",
       "      /><line y2=\"213.89\" style=\"fill:none;\" x1=\"369.7413\" x2=\"369.7413\" y1=\"216\"\n",
       "      /><line y2=\"213.89\" style=\"fill:none;\" x1=\"378.095\" x2=\"378.095\" y1=\"216\"\n",
       "      /><line y2=\"213.89\" style=\"fill:none;\" x1=\"385.1578\" x2=\"385.1578\" y1=\"216\"\n",
       "      /><line y2=\"213.89\" style=\"fill:none;\" x1=\"391.276\" x2=\"391.276\" y1=\"216\"\n",
       "      /><line y2=\"213.89\" style=\"fill:none;\" x1=\"396.6726\" x2=\"396.6726\" y1=\"216\"\n",
       "      /><line y2=\"213.89\" style=\"fill:none;\" x1=\"401.5\" x2=\"401.5\" y1=\"216\"\n",
       "      /><line y2=\"213.89\" style=\"fill:none;\" x1=\"433.2587\" x2=\"433.2587\" y1=\"216\"\n",
       "      /><line y2=\"213.89\" style=\"fill:none;\" x1=\"451.8363\" x2=\"451.8363\" y1=\"216\"\n",
       "      /><line y2=\"213.89\" style=\"fill:none;\" x1=\"465.0173\" x2=\"465.0173\" y1=\"216\"\n",
       "      /><line y2=\"213.89\" style=\"fill:none;\" x1=\"475.2413\" x2=\"475.2413\" y1=\"216\"\n",
       "      /><line y2=\"213.89\" style=\"fill:none;\" x1=\"483.595\" x2=\"483.595\" y1=\"216\"\n",
       "      /><line y2=\"213.89\" style=\"fill:none;\" x1=\"490.6578\" x2=\"490.6578\" y1=\"216\"\n",
       "      /><line y2=\"213.89\" style=\"fill:none;\" x1=\"496.776\" x2=\"496.776\" y1=\"216\"\n",
       "      /><line y2=\"213.89\" style=\"fill:none;\" x1=\"502.1726\" x2=\"502.1726\" y1=\"216\"\n",
       "      /><line y2=\"213.89\" style=\"fill:none;\" x1=\"507\" x2=\"507\" y1=\"216\"\n",
       "      /><line y2=\"53.61\" style=\"fill:none;\" x1=\"85\" x2=\"85\" y1=\"51.5\"\n",
       "      /><line y2=\"53.61\" style=\"fill:none;\" x1=\"116.7587\" x2=\"116.7587\" y1=\"51.5\"\n",
       "      /><line y2=\"53.61\" style=\"fill:none;\" x1=\"135.3363\" x2=\"135.3363\" y1=\"51.5\"\n",
       "      /><line y2=\"53.61\" style=\"fill:none;\" x1=\"148.5173\" x2=\"148.5173\" y1=\"51.5\"\n",
       "      /><line y2=\"53.61\" style=\"fill:none;\" x1=\"158.7413\" x2=\"158.7413\" y1=\"51.5\"\n",
       "      /><line y2=\"53.61\" style=\"fill:none;\" x1=\"167.095\" x2=\"167.095\" y1=\"51.5\"\n",
       "      /><line y2=\"53.61\" style=\"fill:none;\" x1=\"174.1578\" x2=\"174.1578\" y1=\"51.5\"\n",
       "      /><line y2=\"53.61\" style=\"fill:none;\" x1=\"180.276\" x2=\"180.276\" y1=\"51.5\"\n",
       "      /><line y2=\"53.61\" style=\"fill:none;\" x1=\"185.6726\" x2=\"185.6726\" y1=\"51.5\"\n",
       "      /><line y2=\"53.61\" style=\"fill:none;\" x1=\"190.5\" x2=\"190.5\" y1=\"51.5\"\n",
       "      /><line y2=\"53.61\" style=\"fill:none;\" x1=\"222.2587\" x2=\"222.2587\" y1=\"51.5\"\n",
       "      /><line y2=\"53.61\" style=\"fill:none;\" x1=\"240.8363\" x2=\"240.8363\" y1=\"51.5\"\n",
       "      /><line y2=\"53.61\" style=\"fill:none;\" x1=\"254.0173\" x2=\"254.0173\" y1=\"51.5\"\n",
       "      /><line y2=\"53.61\" style=\"fill:none;\" x1=\"264.2413\" x2=\"264.2413\" y1=\"51.5\"\n",
       "      /><line y2=\"53.61\" style=\"fill:none;\" x1=\"272.595\" x2=\"272.595\" y1=\"51.5\"\n",
       "      /><line y2=\"53.61\" style=\"fill:none;\" x1=\"279.6578\" x2=\"279.6578\" y1=\"51.5\"\n",
       "      /><line y2=\"53.61\" style=\"fill:none;\" x1=\"285.776\" x2=\"285.776\" y1=\"51.5\"\n",
       "      /><line y2=\"53.61\" style=\"fill:none;\" x1=\"291.1726\" x2=\"291.1726\" y1=\"51.5\"\n",
       "      /><line y2=\"53.61\" style=\"fill:none;\" x1=\"296\" x2=\"296\" y1=\"51.5\"\n",
       "      /><line y2=\"53.61\" style=\"fill:none;\" x1=\"327.7587\" x2=\"327.7587\" y1=\"51.5\"\n",
       "      /><line y2=\"53.61\" style=\"fill:none;\" x1=\"346.3363\" x2=\"346.3363\" y1=\"51.5\"\n",
       "      /><line y2=\"53.61\" style=\"fill:none;\" x1=\"359.5173\" x2=\"359.5173\" y1=\"51.5\"\n",
       "      /><line y2=\"53.61\" style=\"fill:none;\" x1=\"369.7413\" x2=\"369.7413\" y1=\"51.5\"\n",
       "      /><line y2=\"53.61\" style=\"fill:none;\" x1=\"378.095\" x2=\"378.095\" y1=\"51.5\"\n",
       "      /><line y2=\"53.61\" style=\"fill:none;\" x1=\"385.1578\" x2=\"385.1578\" y1=\"51.5\"\n",
       "      /><line y2=\"53.61\" style=\"fill:none;\" x1=\"391.276\" x2=\"391.276\" y1=\"51.5\"\n",
       "      /><line y2=\"53.61\" style=\"fill:none;\" x1=\"396.6726\" x2=\"396.6726\" y1=\"51.5\"\n",
       "      /><line y2=\"53.61\" style=\"fill:none;\" x1=\"401.5\" x2=\"401.5\" y1=\"51.5\"\n",
       "      /><line y2=\"53.61\" style=\"fill:none;\" x1=\"433.2587\" x2=\"433.2587\" y1=\"51.5\"\n",
       "      /><line y2=\"53.61\" style=\"fill:none;\" x1=\"451.8363\" x2=\"451.8363\" y1=\"51.5\"\n",
       "      /><line y2=\"53.61\" style=\"fill:none;\" x1=\"465.0173\" x2=\"465.0173\" y1=\"51.5\"\n",
       "      /><line y2=\"53.61\" style=\"fill:none;\" x1=\"475.2413\" x2=\"475.2413\" y1=\"51.5\"\n",
       "      /><line y2=\"53.61\" style=\"fill:none;\" x1=\"483.595\" x2=\"483.595\" y1=\"51.5\"\n",
       "      /><line y2=\"53.61\" style=\"fill:none;\" x1=\"490.6578\" x2=\"490.6578\" y1=\"51.5\"\n",
       "      /><line y2=\"53.61\" style=\"fill:none;\" x1=\"496.776\" x2=\"496.776\" y1=\"51.5\"\n",
       "      /><line y2=\"53.61\" style=\"fill:none;\" x1=\"502.1726\" x2=\"502.1726\" y1=\"51.5\"\n",
       "      /><line y2=\"53.61\" style=\"fill:none;\" x1=\"507\" x2=\"507\" y1=\"51.5\"\n",
       "      /><line y2=\"51.5\" style=\"fill:none;\" x1=\"85\" x2=\"85\" y1=\"216\"\n",
       "      /><line y2=\"51.5\" style=\"fill:none;\" x1=\"507\" x2=\"507\" y1=\"216\"\n",
       "      /><line y2=\"216\" style=\"fill:none;\" x1=\"85\" x2=\"89.22\" y1=\"216\"\n",
       "      /><line y2=\"188.5833\" style=\"fill:none;\" x1=\"85\" x2=\"89.22\" y1=\"188.5833\"\n",
       "      /><line y2=\"161.1667\" style=\"fill:none;\" x1=\"85\" x2=\"89.22\" y1=\"161.1667\"\n",
       "      /><line y2=\"133.75\" style=\"fill:none;\" x1=\"85\" x2=\"89.22\" y1=\"133.75\"\n",
       "      /><line y2=\"106.3333\" style=\"fill:none;\" x1=\"85\" x2=\"89.22\" y1=\"106.3333\"\n",
       "      /><line y2=\"78.9167\" style=\"fill:none;\" x1=\"85\" x2=\"89.22\" y1=\"78.9167\"\n",
       "      /><line y2=\"51.5\" style=\"fill:none;\" x1=\"85\" x2=\"89.22\" y1=\"51.5\"\n",
       "      /><line y2=\"216\" style=\"fill:none;\" x1=\"507\" x2=\"502.78\" y1=\"216\"\n",
       "      /><line y2=\"188.5833\" style=\"fill:none;\" x1=\"507\" x2=\"502.78\" y1=\"188.5833\"\n",
       "      /><line y2=\"161.1667\" style=\"fill:none;\" x1=\"507\" x2=\"502.78\" y1=\"161.1667\"\n",
       "      /><line y2=\"133.75\" style=\"fill:none;\" x1=\"507\" x2=\"502.78\" y1=\"133.75\"\n",
       "      /><line y2=\"106.3333\" style=\"fill:none;\" x1=\"507\" x2=\"502.78\" y1=\"106.3333\"\n",
       "      /><line y2=\"78.9167\" style=\"fill:none;\" x1=\"507\" x2=\"502.78\" y1=\"78.9167\"\n",
       "      /><line y2=\"51.5\" style=\"fill:none;\" x1=\"507\" x2=\"502.78\" y1=\"51.5\"\n",
       "    /></g\n",
       "    ><g transform=\"translate(81,216)\" style=\"font-size:10px; fill:rgb(102,102,102); text-rendering:geometricPrecision; image-rendering:optimizeQuality; color-rendering:optimizeQuality; font-family:'Helvetica Neue'; stroke:rgb(102,102,102); color-interpolation:linearRGB;\"\n",
       "    ><text x=\"-21\" xml:space=\"preserve\" y=\"3.5\" style=\"stroke:none;\"\n",
       "      >-120</text\n",
       "    ></g\n",
       "    ><g transform=\"translate(81,188.5833)\" style=\"font-size:10px; fill:rgb(102,102,102); text-rendering:geometricPrecision; image-rendering:optimizeQuality; color-rendering:optimizeQuality; font-family:'Helvetica Neue'; stroke:rgb(102,102,102); color-interpolation:linearRGB;\"\n",
       "    ><text x=\"-21\" xml:space=\"preserve\" y=\"3.5\" style=\"stroke:none;\"\n",
       "      >-100</text\n",
       "    ></g\n",
       "    ><g transform=\"translate(81,161.1667)\" style=\"font-size:10px; fill:rgb(102,102,102); text-rendering:geometricPrecision; image-rendering:optimizeQuality; color-rendering:optimizeQuality; font-family:'Helvetica Neue'; stroke:rgb(102,102,102); color-interpolation:linearRGB;\"\n",
       "    ><text x=\"-16\" xml:space=\"preserve\" y=\"3.5\" style=\"stroke:none;\"\n",
       "      >-80</text\n",
       "    ></g\n",
       "    ><g transform=\"translate(81,133.75)\" style=\"font-size:10px; fill:rgb(102,102,102); text-rendering:geometricPrecision; image-rendering:optimizeQuality; color-rendering:optimizeQuality; font-family:'Helvetica Neue'; stroke:rgb(102,102,102); color-interpolation:linearRGB;\"\n",
       "    ><text x=\"-16\" xml:space=\"preserve\" y=\"3.5\" style=\"stroke:none;\"\n",
       "      >-60</text\n",
       "    ></g\n",
       "    ><g transform=\"translate(81,106.3333)\" style=\"font-size:10px; fill:rgb(102,102,102); text-rendering:geometricPrecision; image-rendering:optimizeQuality; color-rendering:optimizeQuality; font-family:'Helvetica Neue'; stroke:rgb(102,102,102); color-interpolation:linearRGB;\"\n",
       "    ><text x=\"-16\" xml:space=\"preserve\" y=\"3.5\" style=\"stroke:none;\"\n",
       "      >-40</text\n",
       "    ></g\n",
       "    ><g transform=\"translate(81,78.9167)\" style=\"font-size:10px; fill:rgb(102,102,102); text-rendering:geometricPrecision; image-rendering:optimizeQuality; color-rendering:optimizeQuality; font-family:'Helvetica Neue'; stroke:rgb(102,102,102); color-interpolation:linearRGB;\"\n",
       "    ><text x=\"-16\" xml:space=\"preserve\" y=\"3.5\" style=\"stroke:none;\"\n",
       "      >-20</text\n",
       "    ></g\n",
       "    ><g transform=\"translate(81,51.5)\" style=\"font-size:10px; fill:rgb(102,102,102); text-rendering:geometricPrecision; image-rendering:optimizeQuality; color-rendering:optimizeQuality; font-family:'Helvetica Neue'; stroke:rgb(102,102,102); color-interpolation:linearRGB;\"\n",
       "    ><text x=\"-6\" xml:space=\"preserve\" y=\"3.5\" style=\"stroke:none;\"\n",
       "      >0</text\n",
       "    ></g\n",
       "    ><g transform=\"translate(57,133.7499) rotate(-90)\" style=\"font-size:11px; text-rendering:geometricPrecision; color-rendering:optimizeQuality; image-rendering:optimizeQuality; font-family:'Helvetica Neue'; color-interpolation:linearRGB;\"\n",
       "    ><text x=\"-38\" xml:space=\"preserve\" y=\"-3\" style=\"stroke:none;\"\n",
       "      >Magnitude (dB)</text\n",
       "    ></g\n",
       "    ><g style=\"stroke-linecap:butt; fill:rgb(0,114,189); text-rendering:geometricPrecision; image-rendering:optimizeQuality; color-rendering:optimizeQuality; stroke-linejoin:round; stroke:rgb(0,114,189); color-interpolation:linearRGB; stroke-width:0.5;\"\n",
       "    ><path d=\"M85 51.5002 L92.1525 51.5004 L99.3051 51.5008 L106.4576 51.5015 L113.6102 51.5029 L120.7627 51.5054 L127.9153 51.5101 L135.0678 51.5189 L142.2203 51.5352 L149.3729 51.5655 L156.5254 51.6217 L163.678 51.7253 L170.8305 51.914 L177.983 52.251 L185.1356 52.8335 L192.2881 53.7886 L199.4407 55.2433 L206.5932 57.2666 L213.7458 59.8294 L220.8983 62.8221 L228.0509 66.1118 L235.2034 69.5869 L242.3559 73.1704 L249.5085 76.8148 L256.661 80.4929 L263.8136 84.1891 L270.9661 87.8952 L278.1187 91.6066 L285.2712 95.3208 L292.4237 99.0366 L299.5763 102.7532 L306.7288 106.4702 L313.8813 110.1874 L321.0339 113.9048 L328.1864 117.6222 L335.339 121.3397 L342.4915 125.0572 L349.6441 128.7747 L356.7966 132.4922 L363.9492 136.2097 L371.1017 139.9272 L378.2542 143.6447 L385.4068 147.3622 L392.5593 151.0798 L399.7119 154.7973 L406.8644 158.5148 L414.0169 162.2323 L421.1695 165.9498 L428.322 169.6673 L435.4746 173.3849 L442.6271 177.1024 L449.7797 180.8199 L456.9322 184.5374 L464.0847 188.2549 L471.2373 191.9724 L478.3898 195.6899 L485.5424 199.4075 L492.6949 203.125 L499.8474 206.8425 L507 210.56\" style=\"fill:none; fill-rule:evenodd;\"\n",
       "    /></g\n",
       "    ><g style=\"fill:white; text-rendering:optimizeSpeed; color-rendering:optimizeSpeed; image-rendering:optimizeSpeed; shape-rendering:crispEdges; stroke:white; color-interpolation:sRGB;\"\n",
       "    ><path style=\"stroke:none;\" d=\"M85 374 L507 374 L507 228 L85 228 Z\"\n",
       "    /></g\n",
       "    ><g style=\"fill-opacity:0.251; color-rendering:optimizeQuality; color-interpolation:linearRGB; text-rendering:geometricPrecision; stroke:rgb(102,102,102); stroke-linecap:butt; stroke-miterlimit:1; stroke-opacity:0.251; fill:rgb(102,102,102); stroke-dasharray:1,3; stroke-width:0.5; stroke-linejoin:bevel; image-rendering:optimizeQuality;\"\n",
       "    ><line y2=\"228\" style=\"fill:none;\" x1=\"116.7587\" x2=\"116.7587\" y1=\"374\"\n",
       "      /><line y2=\"228\" style=\"fill:none;\" x1=\"135.3363\" x2=\"135.3363\" y1=\"374\"\n",
       "      /><line y2=\"228\" style=\"fill:none;\" x1=\"148.5173\" x2=\"148.5173\" y1=\"374\"\n",
       "      /><line y2=\"228\" style=\"fill:none;\" x1=\"158.7413\" x2=\"158.7413\" y1=\"374\"\n",
       "      /><line y2=\"228\" style=\"fill:none;\" x1=\"167.095\" x2=\"167.095\" y1=\"374\"\n",
       "      /><line y2=\"228\" style=\"fill:none;\" x1=\"174.1578\" x2=\"174.1578\" y1=\"374\"\n",
       "      /><line y2=\"228\" style=\"fill:none;\" x1=\"180.276\" x2=\"180.276\" y1=\"374\"\n",
       "      /><line y2=\"228\" style=\"fill:none;\" x1=\"185.6726\" x2=\"185.6726\" y1=\"374\"\n",
       "      /><line y2=\"228\" style=\"fill:none;\" x1=\"222.2587\" x2=\"222.2587\" y1=\"374\"\n",
       "      /><line y2=\"228\" style=\"fill:none;\" x1=\"240.8363\" x2=\"240.8363\" y1=\"374\"\n",
       "      /><line y2=\"228\" style=\"fill:none;\" x1=\"254.0173\" x2=\"254.0173\" y1=\"374\"\n",
       "      /><line y2=\"228\" style=\"fill:none;\" x1=\"264.2413\" x2=\"264.2413\" y1=\"374\"\n",
       "      /><line y2=\"228\" style=\"fill:none;\" x1=\"272.595\" x2=\"272.595\" y1=\"374\"\n",
       "      /><line y2=\"228\" style=\"fill:none;\" x1=\"279.6578\" x2=\"279.6578\" y1=\"374\"\n",
       "      /><line y2=\"228\" style=\"fill:none;\" x1=\"285.776\" x2=\"285.776\" y1=\"374\"\n",
       "      /><line y2=\"228\" style=\"fill:none;\" x1=\"291.1726\" x2=\"291.1726\" y1=\"374\"\n",
       "      /><line y2=\"228\" style=\"fill:none;\" x1=\"327.7587\" x2=\"327.7587\" y1=\"374\"\n",
       "      /><line y2=\"228\" style=\"fill:none;\" x1=\"346.3363\" x2=\"346.3363\" y1=\"374\"\n",
       "      /><line y2=\"228\" style=\"fill:none;\" x1=\"359.5173\" x2=\"359.5173\" y1=\"374\"\n",
       "      /><line y2=\"228\" style=\"fill:none;\" x1=\"369.7413\" x2=\"369.7413\" y1=\"374\"\n",
       "      /><line y2=\"228\" style=\"fill:none;\" x1=\"378.095\" x2=\"378.095\" y1=\"374\"\n",
       "      /><line y2=\"228\" style=\"fill:none;\" x1=\"385.1578\" x2=\"385.1578\" y1=\"374\"\n",
       "      /><line y2=\"228\" style=\"fill:none;\" x1=\"391.276\" x2=\"391.276\" y1=\"374\"\n",
       "      /><line y2=\"228\" style=\"fill:none;\" x1=\"396.6726\" x2=\"396.6726\" y1=\"374\"\n",
       "      /><line y2=\"228\" style=\"fill:none;\" x1=\"433.2587\" x2=\"433.2587\" y1=\"374\"\n",
       "      /><line y2=\"228\" style=\"fill:none;\" x1=\"451.8363\" x2=\"451.8363\" y1=\"374\"\n",
       "      /><line y2=\"228\" style=\"fill:none;\" x1=\"465.0173\" x2=\"465.0173\" y1=\"374\"\n",
       "      /><line y2=\"228\" style=\"fill:none;\" x1=\"475.2413\" x2=\"475.2413\" y1=\"374\"\n",
       "      /><line y2=\"228\" style=\"fill:none;\" x1=\"483.595\" x2=\"483.595\" y1=\"374\"\n",
       "      /><line y2=\"228\" style=\"fill:none;\" x1=\"490.6578\" x2=\"490.6578\" y1=\"374\"\n",
       "      /><line y2=\"228\" style=\"fill:none;\" x1=\"496.776\" x2=\"496.776\" y1=\"374\"\n",
       "      /><line y2=\"228\" style=\"fill:none;\" x1=\"502.1726\" x2=\"502.1726\" y1=\"374\"\n",
       "    /></g\n",
       "    ><g style=\"stroke-linecap:butt; fill-opacity:0.149; fill:rgb(38,38,38); text-rendering:geometricPrecision; image-rendering:optimizeQuality; color-rendering:optimizeQuality; stroke-linejoin:round; stroke:rgb(38,38,38); color-interpolation:linearRGB; stroke-width:0.5; stroke-opacity:0.149;\"\n",
       "    ><line y2=\"228\" style=\"fill:none;\" x1=\"85\" x2=\"85\" y1=\"374\"\n",
       "      /><line y2=\"228\" style=\"fill:none;\" x1=\"190.5\" x2=\"190.5\" y1=\"374\"\n",
       "      /><line y2=\"228\" style=\"fill:none;\" x1=\"296\" x2=\"296\" y1=\"374\"\n",
       "      /><line y2=\"228\" style=\"fill:none;\" x1=\"401.5\" x2=\"401.5\" y1=\"374\"\n",
       "      /><line y2=\"228\" style=\"fill:none;\" x1=\"507\" x2=\"507\" y1=\"374\"\n",
       "      /><line y2=\"372.5686\" style=\"fill:none;\" x1=\"507\" x2=\"85\" y1=\"372.5686\"\n",
       "      /><line y2=\"336.7843\" style=\"fill:none;\" x1=\"507\" x2=\"85\" y1=\"336.7843\"\n",
       "      /><line y2=\"301\" style=\"fill:none;\" x1=\"507\" x2=\"85\" y1=\"301\"\n",
       "      /><line y2=\"265.2157\" style=\"fill:none;\" x1=\"507\" x2=\"85\" y1=\"265.2157\"\n",
       "      /><line y2=\"229.4314\" style=\"fill:none;\" x1=\"507\" x2=\"85\" y1=\"229.4314\"\n",
       "    /></g\n",
       "    ><g style=\"fill:rgb(102,102,102); text-rendering:geometricPrecision; image-rendering:optimizeQuality; color-rendering:optimizeQuality; stroke-linejoin:round; stroke:rgb(102,102,102); color-interpolation:linearRGB; stroke-width:0.5;\"\n",
       "    ><line y2=\"374\" style=\"fill:none;\" x1=\"85\" x2=\"507\" y1=\"374\"\n",
       "      /><line y2=\"228\" style=\"fill:none;\" x1=\"85\" x2=\"507\" y1=\"228\"\n",
       "      /><line y2=\"369.78\" style=\"fill:none;\" x1=\"85\" x2=\"85\" y1=\"374\"\n",
       "      /><line y2=\"369.78\" style=\"fill:none;\" x1=\"190.5\" x2=\"190.5\" y1=\"374\"\n",
       "      /><line y2=\"369.78\" style=\"fill:none;\" x1=\"296\" x2=\"296\" y1=\"374\"\n",
       "      /><line y2=\"369.78\" style=\"fill:none;\" x1=\"401.5\" x2=\"401.5\" y1=\"374\"\n",
       "      /><line y2=\"369.78\" style=\"fill:none;\" x1=\"507\" x2=\"507\" y1=\"374\"\n",
       "      /><line y2=\"232.22\" style=\"fill:none;\" x1=\"85\" x2=\"85\" y1=\"228\"\n",
       "      /><line y2=\"232.22\" style=\"fill:none;\" x1=\"190.5\" x2=\"190.5\" y1=\"228\"\n",
       "      /><line y2=\"232.22\" style=\"fill:none;\" x1=\"296\" x2=\"296\" y1=\"228\"\n",
       "      /><line y2=\"232.22\" style=\"fill:none;\" x1=\"401.5\" x2=\"401.5\" y1=\"228\"\n",
       "      /><line y2=\"232.22\" style=\"fill:none;\" x1=\"507\" x2=\"507\" y1=\"228\"\n",
       "      /><line y2=\"371.89\" style=\"fill:none;\" x1=\"85\" x2=\"85\" y1=\"374\"\n",
       "      /><line y2=\"371.89\" style=\"fill:none;\" x1=\"116.7587\" x2=\"116.7587\" y1=\"374\"\n",
       "      /><line y2=\"371.89\" style=\"fill:none;\" x1=\"135.3363\" x2=\"135.3363\" y1=\"374\"\n",
       "      /><line y2=\"371.89\" style=\"fill:none;\" x1=\"148.5173\" x2=\"148.5173\" y1=\"374\"\n",
       "      /><line y2=\"371.89\" style=\"fill:none;\" x1=\"158.7413\" x2=\"158.7413\" y1=\"374\"\n",
       "      /><line y2=\"371.89\" style=\"fill:none;\" x1=\"167.095\" x2=\"167.095\" y1=\"374\"\n",
       "      /><line y2=\"371.89\" style=\"fill:none;\" x1=\"174.1578\" x2=\"174.1578\" y1=\"374\"\n",
       "      /><line y2=\"371.89\" style=\"fill:none;\" x1=\"180.276\" x2=\"180.276\" y1=\"374\"\n",
       "      /><line y2=\"371.89\" style=\"fill:none;\" x1=\"185.6726\" x2=\"185.6726\" y1=\"374\"\n",
       "      /><line y2=\"371.89\" style=\"fill:none;\" x1=\"190.5\" x2=\"190.5\" y1=\"374\"\n",
       "      /><line y2=\"371.89\" style=\"fill:none;\" x1=\"222.2587\" x2=\"222.2587\" y1=\"374\"\n",
       "      /><line y2=\"371.89\" style=\"fill:none;\" x1=\"240.8363\" x2=\"240.8363\" y1=\"374\"\n",
       "      /><line y2=\"371.89\" style=\"fill:none;\" x1=\"254.0173\" x2=\"254.0173\" y1=\"374\"\n",
       "      /><line y2=\"371.89\" style=\"fill:none;\" x1=\"264.2413\" x2=\"264.2413\" y1=\"374\"\n",
       "      /><line y2=\"371.89\" style=\"fill:none;\" x1=\"272.595\" x2=\"272.595\" y1=\"374\"\n",
       "      /><line y2=\"371.89\" style=\"fill:none;\" x1=\"279.6578\" x2=\"279.6578\" y1=\"374\"\n",
       "      /><line y2=\"371.89\" style=\"fill:none;\" x1=\"285.776\" x2=\"285.776\" y1=\"374\"\n",
       "      /><line y2=\"371.89\" style=\"fill:none;\" x1=\"291.1726\" x2=\"291.1726\" y1=\"374\"\n",
       "      /><line y2=\"371.89\" style=\"fill:none;\" x1=\"296\" x2=\"296\" y1=\"374\"\n",
       "      /><line y2=\"371.89\" style=\"fill:none;\" x1=\"327.7587\" x2=\"327.7587\" y1=\"374\"\n",
       "      /><line y2=\"371.89\" style=\"fill:none;\" x1=\"346.3363\" x2=\"346.3363\" y1=\"374\"\n",
       "      /><line y2=\"371.89\" style=\"fill:none;\" x1=\"359.5173\" x2=\"359.5173\" y1=\"374\"\n",
       "      /><line y2=\"371.89\" style=\"fill:none;\" x1=\"369.7413\" x2=\"369.7413\" y1=\"374\"\n",
       "      /><line y2=\"371.89\" style=\"fill:none;\" x1=\"378.095\" x2=\"378.095\" y1=\"374\"\n",
       "      /><line y2=\"371.89\" style=\"fill:none;\" x1=\"385.1578\" x2=\"385.1578\" y1=\"374\"\n",
       "      /><line y2=\"371.89\" style=\"fill:none;\" x1=\"391.276\" x2=\"391.276\" y1=\"374\"\n",
       "      /><line y2=\"371.89\" style=\"fill:none;\" x1=\"396.6726\" x2=\"396.6726\" y1=\"374\"\n",
       "      /><line y2=\"371.89\" style=\"fill:none;\" x1=\"401.5\" x2=\"401.5\" y1=\"374\"\n",
       "      /><line y2=\"371.89\" style=\"fill:none;\" x1=\"433.2587\" x2=\"433.2587\" y1=\"374\"\n",
       "      /><line y2=\"371.89\" style=\"fill:none;\" x1=\"451.8363\" x2=\"451.8363\" y1=\"374\"\n",
       "      /><line y2=\"371.89\" style=\"fill:none;\" x1=\"465.0173\" x2=\"465.0173\" y1=\"374\"\n",
       "      /><line y2=\"371.89\" style=\"fill:none;\" x1=\"475.2413\" x2=\"475.2413\" y1=\"374\"\n",
       "      /><line y2=\"371.89\" style=\"fill:none;\" x1=\"483.595\" x2=\"483.595\" y1=\"374\"\n",
       "      /><line y2=\"371.89\" style=\"fill:none;\" x1=\"490.6578\" x2=\"490.6578\" y1=\"374\"\n",
       "      /><line y2=\"371.89\" style=\"fill:none;\" x1=\"496.776\" x2=\"496.776\" y1=\"374\"\n",
       "      /><line y2=\"371.89\" style=\"fill:none;\" x1=\"502.1726\" x2=\"502.1726\" y1=\"374\"\n",
       "      /><line y2=\"371.89\" style=\"fill:none;\" x1=\"507\" x2=\"507\" y1=\"374\"\n",
       "      /><line y2=\"230.11\" style=\"fill:none;\" x1=\"85\" x2=\"85\" y1=\"228\"\n",
       "      /><line y2=\"230.11\" style=\"fill:none;\" x1=\"116.7587\" x2=\"116.7587\" y1=\"228\"\n",
       "      /><line y2=\"230.11\" style=\"fill:none;\" x1=\"135.3363\" x2=\"135.3363\" y1=\"228\"\n",
       "      /><line y2=\"230.11\" style=\"fill:none;\" x1=\"148.5173\" x2=\"148.5173\" y1=\"228\"\n",
       "      /><line y2=\"230.11\" style=\"fill:none;\" x1=\"158.7413\" x2=\"158.7413\" y1=\"228\"\n",
       "      /><line y2=\"230.11\" style=\"fill:none;\" x1=\"167.095\" x2=\"167.095\" y1=\"228\"\n",
       "      /><line y2=\"230.11\" style=\"fill:none;\" x1=\"174.1578\" x2=\"174.1578\" y1=\"228\"\n",
       "      /><line y2=\"230.11\" style=\"fill:none;\" x1=\"180.276\" x2=\"180.276\" y1=\"228\"\n",
       "      /><line y2=\"230.11\" style=\"fill:none;\" x1=\"185.6726\" x2=\"185.6726\" y1=\"228\"\n",
       "      /><line y2=\"230.11\" style=\"fill:none;\" x1=\"190.5\" x2=\"190.5\" y1=\"228\"\n",
       "      /><line y2=\"230.11\" style=\"fill:none;\" x1=\"222.2587\" x2=\"222.2587\" y1=\"228\"\n",
       "      /><line y2=\"230.11\" style=\"fill:none;\" x1=\"240.8363\" x2=\"240.8363\" y1=\"228\"\n",
       "      /><line y2=\"230.11\" style=\"fill:none;\" x1=\"254.0173\" x2=\"254.0173\" y1=\"228\"\n",
       "      /><line y2=\"230.11\" style=\"fill:none;\" x1=\"264.2413\" x2=\"264.2413\" y1=\"228\"\n",
       "      /><line y2=\"230.11\" style=\"fill:none;\" x1=\"272.595\" x2=\"272.595\" y1=\"228\"\n",
       "      /><line y2=\"230.11\" style=\"fill:none;\" x1=\"279.6578\" x2=\"279.6578\" y1=\"228\"\n",
       "      /><line y2=\"230.11\" style=\"fill:none;\" x1=\"285.776\" x2=\"285.776\" y1=\"228\"\n",
       "      /><line y2=\"230.11\" style=\"fill:none;\" x1=\"291.1726\" x2=\"291.1726\" y1=\"228\"\n",
       "      /><line y2=\"230.11\" style=\"fill:none;\" x1=\"296\" x2=\"296\" y1=\"228\"\n",
       "      /><line y2=\"230.11\" style=\"fill:none;\" x1=\"327.7587\" x2=\"327.7587\" y1=\"228\"\n",
       "      /><line y2=\"230.11\" style=\"fill:none;\" x1=\"346.3363\" x2=\"346.3363\" y1=\"228\"\n",
       "      /><line y2=\"230.11\" style=\"fill:none;\" x1=\"359.5173\" x2=\"359.5173\" y1=\"228\"\n",
       "      /><line y2=\"230.11\" style=\"fill:none;\" x1=\"369.7413\" x2=\"369.7413\" y1=\"228\"\n",
       "      /><line y2=\"230.11\" style=\"fill:none;\" x1=\"378.095\" x2=\"378.095\" y1=\"228\"\n",
       "      /><line y2=\"230.11\" style=\"fill:none;\" x1=\"385.1578\" x2=\"385.1578\" y1=\"228\"\n",
       "      /><line y2=\"230.11\" style=\"fill:none;\" x1=\"391.276\" x2=\"391.276\" y1=\"228\"\n",
       "      /><line y2=\"230.11\" style=\"fill:none;\" x1=\"396.6726\" x2=\"396.6726\" y1=\"228\"\n",
       "      /><line y2=\"230.11\" style=\"fill:none;\" x1=\"401.5\" x2=\"401.5\" y1=\"228\"\n",
       "      /><line y2=\"230.11\" style=\"fill:none;\" x1=\"433.2587\" x2=\"433.2587\" y1=\"228\"\n",
       "      /><line y2=\"230.11\" style=\"fill:none;\" x1=\"451.8363\" x2=\"451.8363\" y1=\"228\"\n",
       "      /><line y2=\"230.11\" style=\"fill:none;\" x1=\"465.0173\" x2=\"465.0173\" y1=\"228\"\n",
       "      /><line y2=\"230.11\" style=\"fill:none;\" x1=\"475.2413\" x2=\"475.2413\" y1=\"228\"\n",
       "      /><line y2=\"230.11\" style=\"fill:none;\" x1=\"483.595\" x2=\"483.595\" y1=\"228\"\n",
       "      /><line y2=\"230.11\" style=\"fill:none;\" x1=\"490.6578\" x2=\"490.6578\" y1=\"228\"\n",
       "      /><line y2=\"230.11\" style=\"fill:none;\" x1=\"496.776\" x2=\"496.776\" y1=\"228\"\n",
       "      /><line y2=\"230.11\" style=\"fill:none;\" x1=\"502.1726\" x2=\"502.1726\" y1=\"228\"\n",
       "      /><line y2=\"230.11\" style=\"fill:none;\" x1=\"507\" x2=\"507\" y1=\"228\"\n",
       "    /></g\n",
       "    ><g transform=\"translate(76,391)\" style=\"font-size:10px; fill:rgb(102,102,102); text-rendering:geometricPrecision; image-rendering:optimizeQuality; color-rendering:optimizeQuality; font-family:'Helvetica Neue'; stroke:rgb(102,102,102); color-interpolation:linearRGB;\"\n",
       "    ><text x=\"0\" xml:space=\"preserve\" y=\"0\" style=\"stroke:none;\"\n",
       "      >10</text\n",
       "    ></g\n",
       "    ><g transform=\"translate(88,386)\" style=\"font-size:8px; fill:rgb(102,102,102); text-rendering:geometricPrecision; image-rendering:optimizeQuality; color-rendering:optimizeQuality; font-family:'Helvetica Neue'; stroke:rgb(102,102,102); color-interpolation:linearRGB;\"\n",
       "    ><text x=\"0\" xml:space=\"preserve\" y=\"0\" style=\"stroke:none;\"\n",
       "      >4</text\n",
       "    ></g\n",
       "    ><g transform=\"translate(182,391)\" style=\"font-size:10px; fill:rgb(102,102,102); text-rendering:geometricPrecision; image-rendering:optimizeQuality; color-rendering:optimizeQuality; font-family:'Helvetica Neue'; stroke:rgb(102,102,102); color-interpolation:linearRGB;\"\n",
       "    ><text x=\"0\" xml:space=\"preserve\" y=\"0\" style=\"stroke:none;\"\n",
       "      >10</text\n",
       "    ></g\n",
       "    ><g transform=\"translate(194,386)\" style=\"font-size:8px; fill:rgb(102,102,102); text-rendering:geometricPrecision; image-rendering:optimizeQuality; color-rendering:optimizeQuality; font-family:'Helvetica Neue'; stroke:rgb(102,102,102); color-interpolation:linearRGB;\"\n",
       "    ><text x=\"0\" xml:space=\"preserve\" y=\"0\" style=\"stroke:none;\"\n",
       "      >5</text\n",
       "    ></g\n",
       "    ><g transform=\"translate(287,391)\" style=\"font-size:10px; fill:rgb(102,102,102); text-rendering:geometricPrecision; image-rendering:optimizeQuality; color-rendering:optimizeQuality; font-family:'Helvetica Neue'; stroke:rgb(102,102,102); color-interpolation:linearRGB;\"\n",
       "    ><text x=\"0\" xml:space=\"preserve\" y=\"0\" style=\"stroke:none;\"\n",
       "      >10</text\n",
       "    ></g\n",
       "    ><g transform=\"translate(299,386)\" style=\"font-size:8px; fill:rgb(102,102,102); text-rendering:geometricPrecision; image-rendering:optimizeQuality; color-rendering:optimizeQuality; font-family:'Helvetica Neue'; stroke:rgb(102,102,102); color-interpolation:linearRGB;\"\n",
       "    ><text x=\"0\" xml:space=\"preserve\" y=\"0\" style=\"stroke:none;\"\n",
       "      >6</text\n",
       "    ></g\n",
       "    ><g transform=\"translate(393,391)\" style=\"font-size:10px; fill:rgb(102,102,102); text-rendering:geometricPrecision; image-rendering:optimizeQuality; color-rendering:optimizeQuality; font-family:'Helvetica Neue'; stroke:rgb(102,102,102); color-interpolation:linearRGB;\"\n",
       "    ><text x=\"0\" xml:space=\"preserve\" y=\"0\" style=\"stroke:none;\"\n",
       "      >10</text\n",
       "    ></g\n",
       "    ><g transform=\"translate(405,386)\" style=\"font-size:8px; fill:rgb(102,102,102); text-rendering:geometricPrecision; image-rendering:optimizeQuality; color-rendering:optimizeQuality; font-family:'Helvetica Neue'; stroke:rgb(102,102,102); color-interpolation:linearRGB;\"\n",
       "    ><text x=\"0\" xml:space=\"preserve\" y=\"0\" style=\"stroke:none;\"\n",
       "      >7</text\n",
       "    ></g\n",
       "    ><g transform=\"translate(498,391)\" style=\"font-size:10px; fill:rgb(102,102,102); text-rendering:geometricPrecision; image-rendering:optimizeQuality; color-rendering:optimizeQuality; font-family:'Helvetica Neue'; stroke:rgb(102,102,102); color-interpolation:linearRGB;\"\n",
       "    ><text x=\"0\" xml:space=\"preserve\" y=\"0\" style=\"stroke:none;\"\n",
       "      >10</text\n",
       "    ></g\n",
       "    ><g transform=\"translate(510,386)\" style=\"font-size:8px; fill:rgb(102,102,102); text-rendering:geometricPrecision; image-rendering:optimizeQuality; color-rendering:optimizeQuality; font-family:'Helvetica Neue'; stroke:rgb(102,102,102); color-interpolation:linearRGB;\"\n",
       "    ><text x=\"0\" xml:space=\"preserve\" y=\"0\" style=\"stroke:none;\"\n",
       "      >8</text\n",
       "    ></g\n",
       "    ><g style=\"fill:rgb(102,102,102); text-rendering:geometricPrecision; image-rendering:optimizeQuality; color-rendering:optimizeQuality; stroke-linejoin:round; stroke:rgb(102,102,102); color-interpolation:linearRGB; stroke-width:0.5;\"\n",
       "    ><line y2=\"228\" style=\"fill:none;\" x1=\"85\" x2=\"85\" y1=\"374\"\n",
       "      /><line y2=\"228\" style=\"fill:none;\" x1=\"507\" x2=\"507\" y1=\"374\"\n",
       "      /><line y2=\"372.5686\" style=\"fill:none;\" x1=\"85\" x2=\"89.22\" y1=\"372.5686\"\n",
       "      /><line y2=\"336.7843\" style=\"fill:none;\" x1=\"85\" x2=\"89.22\" y1=\"336.7843\"\n",
       "      /><line y2=\"301\" style=\"fill:none;\" x1=\"85\" x2=\"89.22\" y1=\"301\"\n",
       "      /><line y2=\"265.2157\" style=\"fill:none;\" x1=\"85\" x2=\"89.22\" y1=\"265.2157\"\n",
       "      /><line y2=\"229.4314\" style=\"fill:none;\" x1=\"85\" x2=\"89.22\" y1=\"229.4314\"\n",
       "      /><line y2=\"372.5686\" style=\"fill:none;\" x1=\"507\" x2=\"502.78\" y1=\"372.5686\"\n",
       "      /><line y2=\"336.7843\" style=\"fill:none;\" x1=\"507\" x2=\"502.78\" y1=\"336.7843\"\n",
       "      /><line y2=\"301\" style=\"fill:none;\" x1=\"507\" x2=\"502.78\" y1=\"301\"\n",
       "      /><line y2=\"265.2157\" style=\"fill:none;\" x1=\"507\" x2=\"502.78\" y1=\"265.2157\"\n",
       "      /><line y2=\"229.4314\" style=\"fill:none;\" x1=\"507\" x2=\"502.78\" y1=\"229.4314\"\n",
       "    /></g\n",
       "    ><g transform=\"translate(81,372.5686)\" style=\"font-size:10px; fill:rgb(102,102,102); text-rendering:geometricPrecision; image-rendering:optimizeQuality; color-rendering:optimizeQuality; font-family:'Helvetica Neue'; stroke:rgb(102,102,102); color-interpolation:linearRGB;\"\n",
       "    ><text x=\"-21\" xml:space=\"preserve\" y=\"3.5\" style=\"stroke:none;\"\n",
       "      >-180</text\n",
       "    ></g\n",
       "    ><g transform=\"translate(81,336.7843)\" style=\"font-size:10px; fill:rgb(102,102,102); text-rendering:geometricPrecision; image-rendering:optimizeQuality; color-rendering:optimizeQuality; font-family:'Helvetica Neue'; stroke:rgb(102,102,102); color-interpolation:linearRGB;\"\n",
       "    ><text x=\"-21\" xml:space=\"preserve\" y=\"3.5\" style=\"stroke:none;\"\n",
       "      >-135</text\n",
       "    ></g\n",
       "    ><g transform=\"translate(81,301)\" style=\"font-size:10px; fill:rgb(102,102,102); text-rendering:geometricPrecision; image-rendering:optimizeQuality; color-rendering:optimizeQuality; font-family:'Helvetica Neue'; stroke:rgb(102,102,102); color-interpolation:linearRGB;\"\n",
       "    ><text x=\"-16\" xml:space=\"preserve\" y=\"3.5\" style=\"stroke:none;\"\n",
       "      >-90</text\n",
       "    ></g\n",
       "    ><g transform=\"translate(81,265.2157)\" style=\"font-size:10px; fill:rgb(102,102,102); text-rendering:geometricPrecision; image-rendering:optimizeQuality; color-rendering:optimizeQuality; font-family:'Helvetica Neue'; stroke:rgb(102,102,102); color-interpolation:linearRGB;\"\n",
       "    ><text x=\"-16\" xml:space=\"preserve\" y=\"3.5\" style=\"stroke:none;\"\n",
       "      >-45</text\n",
       "    ></g\n",
       "    ><g transform=\"translate(81,229.4314)\" style=\"font-size:10px; fill:rgb(102,102,102); text-rendering:geometricPrecision; image-rendering:optimizeQuality; color-rendering:optimizeQuality; font-family:'Helvetica Neue'; stroke:rgb(102,102,102); color-interpolation:linearRGB;\"\n",
       "    ><text x=\"-6\" xml:space=\"preserve\" y=\"3.5\" style=\"stroke:none;\"\n",
       "      >0</text\n",
       "    ></g\n",
       "    ><g transform=\"translate(57,300.9999) rotate(-90)\" style=\"font-size:11px; text-rendering:geometricPrecision; color-rendering:optimizeQuality; image-rendering:optimizeQuality; font-family:'Helvetica Neue'; color-interpolation:linearRGB;\"\n",
       "    ><text x=\"-29.5\" xml:space=\"preserve\" y=\"-3\" style=\"stroke:none;\"\n",
       "      >Phase (deg)</text\n",
       "    ></g\n",
       "    ><g style=\"stroke-linecap:butt; fill:rgb(0,114,189); text-rendering:geometricPrecision; image-rendering:optimizeQuality; color-rendering:optimizeQuality; stroke-linejoin:round; stroke:rgb(0,114,189); color-interpolation:linearRGB; stroke-width:0.5;\"\n",
       "    ><path d=\"M85 234.5697 L92.1525 235.4424 L99.3051 236.4653 L106.4576 237.6653 L113.6102 239.0749 L120.7627 240.7334 L127.9153 242.689 L135.0678 245.0011 L142.2203 247.7442 L149.3729 251.0113 L156.5254 254.9188 L163.678 259.609 L170.8305 265.2451 L177.983 271.9875 L185.1356 279.9329 L192.2881 289.0071 L199.4407 298.8552 L206.5932 308.8539 L213.7458 318.3198 L220.8983 326.7704 L228.0509 334.0214 L235.2034 340.1117 L242.3559 345.1848 L249.5085 349.4074 L256.661 352.9321 L263.8136 355.8861 L270.9661 358.372 L278.1187 360.4717 L285.2712 362.2505 L292.4237 363.761 L299.5763 365.0461 L306.7288 366.141 L313.8813 367.0748 L321.0339 367.8718 L328.1864 368.5526 L335.339 369.1342 L342.4915 369.6313 L349.6441 370.0563 L356.7966 370.4197 L363.9492 370.7305 L371.1017 370.9963 L378.2542 371.2236 L385.4068 371.4181 L392.5593 371.5844 L399.7119 371.7267 L406.8644 371.8484 L414.0169 371.9525 L421.1695 372.0415 L428.322 372.1177 L435.4746 372.1829 L442.6271 372.2386 L449.7797 372.2863 L456.9322 372.3271 L464.0847 372.362 L471.2373 372.3919 L478.3898 372.4174 L485.5424 372.4393 L492.6949 372.458 L499.8474 372.474 L507 372.4877\" style=\"fill:none; fill-rule:evenodd;\"\n",
       "    /></g\n",
       "    ><g transform=\"translate(295,44.45)\" style=\"font-size:11px; text-rendering:geometricPrecision; image-rendering:optimizeQuality; color-rendering:optimizeQuality; font-family:'Helvetica Neue'; color-interpolation:linearRGB; font-weight:bold;\"\n",
       "    ><text x=\"-38\" xml:space=\"preserve\" y=\"-3\" style=\"stroke:none;\"\n",
       "      >Bode Diagram</text\n",
       "    ></g\n",
       "    ><g transform=\"translate(295,392.5)\" style=\"font-size:11px; text-rendering:geometricPrecision; color-rendering:optimizeQuality; image-rendering:optimizeQuality; font-family:'Helvetica Neue'; color-interpolation:linearRGB;\"\n",
       "    ><text x=\"-45\" xml:space=\"preserve\" y=\"11\" style=\"stroke:none;\"\n",
       "      >Frequency  (rad/s)</text\n",
       "    ></g\n",
       "  ></g\n",
       "></svg\n",
       ">\n"
      ]
     },
     "metadata": {
      "filenames": {
       "image/svg+xml": "/Users/eechris/Documents/code/src/github.com/cpjobling/eg-247-textbook/_build/jupyter_execute/dt_systems/4/dt_models_92_0.svg"
      }
     },
     "output_type": "display_data"
    }
   ],
   "source": [
    "bode(Hs,{1e4,1e8})\n",
    "grid"
   ]
  },
  {
   "cell_type": "markdown",
   "id": "aa43e51b",
   "metadata": {
    "slideshow": {
     "slide_type": "subslide"
    }
   },
   "source": [
    "#### Sampling Frequency\n",
    "\n",
    "From the bode diagram, the frequency at which $|H(j\\omega)|$ is $-80$&nbsp;dB is approx $12.6\\times 10^6$&nbsp;rad/s.\n",
    "\n",
    "To avoid aliasing, we should choose a sampling frequency twice this = ?"
   ]
  },
  {
   "cell_type": "markdown",
   "id": "653209ee",
   "metadata": {
    "slideshow": {
     "slide_type": "fragment"
    }
   },
   "source": [
    "$\\omega_s = 2\\times 12.6\\times 10^6$&nbsp;rad/s."
   ]
  },
  {
   "cell_type": "code",
   "execution_count": 18,
   "id": "e042db01",
   "metadata": {
    "slideshow": {
     "slide_type": "fragment"
    }
   },
   "outputs": [
    {
     "name": "stdout",
     "output_type": "stream",
     "text": [
      "ws =\n",
      "    25200000\n"
     ]
    }
   ],
   "source": [
    "ws = 2* 12.6e6"
   ]
  },
  {
   "cell_type": "markdown",
   "id": "38b80368",
   "metadata": {
    "slideshow": {
     "slide_type": "subslide"
    }
   },
   "source": [
    "So\n",
    "\n",
    "$\\omega_s = 25.2\\times 10^6$&nbsp;rad/s."
   ]
  },
  {
   "cell_type": "markdown",
   "id": "1e1d474d",
   "metadata": {
    "slideshow": {
     "slide_type": "fragment"
    }
   },
   "source": [
    "Sampling frequency ($f_s$) in Hz  = ?"
   ]
  },
  {
   "cell_type": "markdown",
   "id": "914cf63b",
   "metadata": {
    "slideshow": {
     "slide_type": "fragment"
    }
   },
   "source": [
    "$$f_s = \\omega_s/(2\\pi)\\;\\mathrm{Mhz}$$"
   ]
  },
  {
   "cell_type": "code",
   "execution_count": 19,
   "id": "42cc8a72",
   "metadata": {
    "slideshow": {
     "slide_type": "fragment"
    }
   },
   "outputs": [
    {
     "name": "stdout",
     "output_type": "stream",
     "text": [
      "fs =\n",
      "   4.0107e+06\n"
     ]
    }
   ],
   "source": [
    "fs = ws/(2*pi)"
   ]
  },
  {
   "cell_type": "markdown",
   "id": "57899beb",
   "metadata": {
    "slideshow": {
     "slide_type": "subslide"
    }
   },
   "source": [
    "$$f_s = 40.11\\;\\mathrm{Mhz}$$\n",
    "\n",
    "Sampling time $T_s = ?$"
   ]
  },
  {
   "cell_type": "markdown",
   "id": "80271c07",
   "metadata": {
    "slideshow": {
     "slide_type": "fragment"
    }
   },
   "source": [
    "$T_s = 1/fs\\;\\mathrm{s}$"
   ]
  },
  {
   "cell_type": "code",
   "execution_count": 20,
   "id": "02443315",
   "metadata": {
    "slideshow": {
     "slide_type": "fragment"
    }
   },
   "outputs": [
    {
     "name": "stdout",
     "output_type": "stream",
     "text": [
      "Ts =\n",
      "   2.4933e-07\n"
     ]
    }
   ],
   "source": [
    "Ts = 1/fs"
   ]
  },
  {
   "cell_type": "markdown",
   "id": "69628da0",
   "metadata": {
    "slideshow": {
     "slide_type": "subslide"
    }
   },
   "source": [
    "$$T_s = 1/f_s \\approx 0.25\\;\\mu\\mathrm{s}$$"
   ]
  },
  {
   "cell_type": "markdown",
   "id": "92347fda",
   "metadata": {
    "slideshow": {
     "slide_type": "subslide"
    }
   },
   "source": [
    "#### Digital Butterworth\n",
    "\n",
    "zero-order-hold equivalent"
   ]
  },
  {
   "cell_type": "code",
   "execution_count": 21,
   "id": "b9e7efd6",
   "metadata": {},
   "outputs": [
    {
     "name": "stdout",
     "output_type": "stream",
     "text": [
      "\n",
      "Hz =\n"
     ]
    },
    {
     "name": "stdout",
     "output_type": "stream",
     "text": [
      " \n"
     ]
    },
    {
     "name": "stdout",
     "output_type": "stream",
     "text": [
      "  0.0004836 z + 0.0004765\n"
     ]
    },
    {
     "name": "stdout",
     "output_type": "stream",
     "text": [
      "  -----------------------\n"
     ]
    },
    {
     "name": "stdout",
     "output_type": "stream",
     "text": [
      "  z^2 - 1.956 z + 0.9567\n"
     ]
    },
    {
     "name": "stdout",
     "output_type": "stream",
     "text": [
      " \n"
     ]
    },
    {
     "name": "stdout",
     "output_type": "stream",
     "text": [
      "Sample time: 2.4933e-07 seconds\n"
     ]
    },
    {
     "name": "stdout",
     "output_type": "stream",
     "text": [
      "Discrete-time transfer function.\n",
      "\n"
     ]
    }
   ],
   "source": [
    "Hz = c2d(Hs, Ts)"
   ]
  },
  {
   "cell_type": "markdown",
   "id": "c9f7ca56",
   "metadata": {
    "slideshow": {
     "slide_type": "subslide"
    }
   },
   "source": [
    "#### Step response"
   ]
  },
  {
   "cell_type": "code",
   "execution_count": 22,
   "id": "ae663a12",
   "metadata": {},
   "outputs": [
    {
     "data": {
      "image/svg+xml": [
       "<?xml version=\"1.0\"?>\n",
       "<!DOCTYPE svg PUBLIC '-//W3C//DTD SVG 1.0//EN'\n",
       "          'http://www.w3.org/TR/2001/REC-SVG-20010904/DTD/svg10.dtd'>\n",
       "<svg xmlns:xlink=\"http://www.w3.org/1999/xlink\" style=\"fill-opacity:1; color-rendering:auto; color-interpolation:auto; text-rendering:auto; stroke:black; stroke-linecap:square; stroke-miterlimit:10; shape-rendering:auto; stroke-opacity:1; fill:black; stroke-dasharray:none; font-weight:normal; stroke-width:1; font-family:'Dialog'; font-style:normal; stroke-linejoin:miter; font-size:12px; stroke-dashoffset:0; image-rendering:auto;\" width=\"560\" height=\"420\" xmlns=\"http://www.w3.org/2000/svg\"\n",
       "><!--Generated by the Batik Graphics2D SVG Generator--><defs id=\"genericDefs\"\n",
       "  /><g\n",
       "  ><defs id=\"defs1\"\n",
       "    ><clipPath clipPathUnits=\"userSpaceOnUse\" id=\"clipPath1\"\n",
       "      ><path d=\"M0 0 L560 0 L560 420 L0 420 L0 0 Z\"\n",
       "      /></clipPath\n",
       "      ><clipPath clipPathUnits=\"userSpaceOnUse\" id=\"clipPath2\"\n",
       "      ><path d=\"M0 0 L1119.9999 0 L1119.9999 839.9999 L0 839.9999 L0 0 Z\"\n",
       "      /></clipPath\n",
       "    ></defs\n",
       "    ><g style=\"fill:white; stroke:white;\"\n",
       "    ><rect x=\"0\" y=\"0\" width=\"560\" style=\"clip-path:url(#clipPath1); stroke:none;\" height=\"420\"\n",
       "    /></g\n",
       "    ><g transform=\"scale(0.5,0.5)\"\n",
       "    ><image x=\"0\" y=\"0\" width=\"1120\" xlink:href=\"data:image/png;base64,iVBORw0KGgoAAAANSUhEUgAABGAAAANICAIAAAAHNA4rAABPRElEQVR42uzdD3zV\n",
       "db34ccgU/5RdrYcZWnK793bNvJVaXXvcug+61b3dtLS61oP+KP3ysjFgKrolJDJh\n",
       "XCagXhQuMEBUEsQkDZI/wQLmJgxiYeDGBgKuoBEDHZeJMjZ/n/jKt3PP/oIbsJ3n\n",
       "83EePeC7c2h+3Hu8X57trMebAAAAHNHDEQAAAAgkAAAAgQQAACCQAAAABBIAAIBA\n",
       "AgAAEEgAAAACCQAAQCABAAAIJAAAAIEEAAAgkAAAAAQSAACAQAIAABBIAAAAAgkA\n",
       "AEAgAQAACCQAAACBBAAAIJAAAAAEEgAAgEACAAAQSAAAAAIJAABAIAEAAAgkAAAA\n",
       "gQQAACCQAAAABBIAAIBAAgAAEEgAAAACCQAAQCABAAAIJAAAAIEEAAAgkAAAAAQS\n",
       "AAAAAgkAAEAgAQAACCQAAACBBAAAIJAAAAAEEgAAgEACAAAQSAAAAAIJAABAIAEA\n",
       "AAgkAAAAgQQAACCQAAAABBIAAIBAAgAAEEgAAAACCQAAQCABAAAIJAAAAIEEAAAg\n",
       "kAAAAAQSAACAQAIAABBIAAAAAgkAAEAgAQAACCQAAACBBAAAIJAAAAAEEgDdxhtv\n",
       "vFFWVvbLX/5y0aJFmzZtqqurcyYACCQAUk5tbW1OTs573/veHgnOPvvsjIyMbdu2\n",
       "xXdrbGysO+pEvnsDBw48qwUXXXTRV77ylaefftq/RAAEEgAdINTOZz/72R4tuPDC\n",
       "C7dv3x7dc+fOnfH1FStWnLD38Ec/+lGPtgwdOtS/SgAEEgBvV2ZmZpwZH/jAB/r1\n",
       "63f99de/5z3viS9eeeWVTQNp6dKlJyuQzjjine98Z1IjrVy50r9NAAQSAG/L3//9\n",
       "30eB8bGPfezAgQPRxf3791911VVxe+zZs+cUCaRdu3ZFFw8fPlxcXPxv//Zv8Ztu\n",
       "v/12/zYBEEgAHL+6uro4ML773e8mvumxxx47/agVK1akpaVdd9118Z379u174403\n",
       "zps3L77/hg0bMjIyrr766ve///1f+tKXRowYsWPHjvitgwcPvvGIF198cfLkyV/+\n",
       "8pcvvPDCf/qnfwpVk3i39gdSpKioKH7T9ddfn/im1t+fYNWqVf3797/88ssvuOCC\n",
       "D37wg+Geubm5u3fvPr73OVy59dZbv/CFL4T7/MM//MP3vve9J554Iuk+8R9YVlb2\n",
       "85//PLzDvXv3/tCHPvTNb35z48aNx/S+tfOfEQCBBMCxufjii6PA6NmzZ3p6+vPP\n",
       "P9/Q0ND0buGtTb/z55ZbbonempeXd8YZZyS9NSz3q1evju4Qf83eFVdc0fRu4f/0\n",
       "+AJp7dq18ZtGjhwZX2/z/Zk5c+Y73vGOpv9Effr0ib/nqv3vc/jT3vWudzX90665\n",
       "5pq9e/fGd4v/wGuvvTbpPM8666z169e3/31rzz8jAAIJgGMWoihpyT7//PO/8Y1v\n",
       "TJo06aWXXorv9u///u9f+MIX4vt86lOf+spXvjJ16tTwpqeeeiq+/qEPfejKK6+M\n",
       "f3vOOef86U9/SmyDIGz/n/zkJ//u7/4uvnLRRRe98cYbxxpIL7/88ne+8534TQUF\n",
       "BdH1Nt+fxsbG8847L7py9dVXjx8/fsCAAeFN0ZWbbropqWdaf59/85vfnHbaadHF\n",
       "M888M/yB4U3x3eI/LekPDN797ncn/rZfv35vHnmpwPa8b+05cwAEEgDH7LXXXvvc\n",
       "5z7X7EvDhSr4j//4j/gru5r9HqSDBw/27t07ujho0KDo2aetW7fGW/6IESMS2+CM\n",
       "M85YtmxZ9Nj77rsv/gOnTZvWnkDq06fP3x5xySWXJL6rX//61w8fPtzO9+fFF1+M\n",
       "Hxh/leDYsWPffcRHP/rRpJ5p/X0OGROHSvwMzy233BLfrenTaGefffYTTzxx6NCh\n",
       "F154If4H+fCHPxzu0573rZ1nDoBAAuB4hA171qxZn/nMZ5r9OrrLL7+8lRdpKCkp\n",
       "ib9Cb+3atWVHXX/99XE2JLZB0nc6XXbZZdH1G264oT2B1KxPfOITtbW17X9/du3a\n",
       "FT+2V69eN91002OPPRYCI+n/tz3vc8jL+MvhpkyZEt8nNEycKyFvkv7AH/zgB/E9\n",
       "f/jDH8bVFH7bnvetnWcOgEAC4G0JCRTW8e9///vnn39+YoHk5eW1FEgzZsxovV5O\n",
       "P/30xDb4n//5n8T/x0GDBkXXr7rqqvYEUu/evf/miKT3sG/fvsf0/oTmafabfEaP\n",
       "Hh3/GNz2vM/r16+PH75p06bEu335y1+OrofzTPoDR40aFd/twQcfjC6edtpp0ZU2\n",
       "37d2/jMCIJAAODahc8YeMX78+EOHDsXXw69zc3PjhTvs+i0F0oQJE9r8Ka779u2L\n",
       "2+Dhhx9OfAeysrKi66F52hNI8fcgNTQ0FBcXx0/mBOG37X9/6uvrw3vyuc99runP\n",
       "U/riF7/Y2NiY2DOtvM/PPfdc/MCKiorEu33961+Pv/wvKZAeeOCB+G7Tp09PCqQ2\n",
       "37d2/jP68AYQSAAcm8RVu6SkJOmtf/3Xfx3/iKSWAunZZ5+Nv9zrj3/8497mhJ0+\n",
       "boNhw4Yl/l9885vfjFf/YwqkSOJzKffff3/735/4T6itrf3FL34xePDgv/qrv4r/\n",
       "qBdffDGxZ1p5n6urq+NHLV68OPFuH/3oR6PrP/7xj48pkNp83471nxEAgQRAuxQW\n",
       "Fsab9z/+4z8mvib1unXrTj/99MTvmUkMpFmzZkV3q6qqir9zae7cufHDn3zyyc8e\n",
       "ceONNya2wcUXX/zKK69E99m+fXuvXr2i6yEDjiOQ9u3bF78pKyurne/PtGnT3nXE\n",
       "pz71qfgOic8FrVixov3v8wUXXBD99mtf+1qcJcuXL4//tMcff7z9gdSe962dZw6A\n",
       "QALg2Bw8eDDxq9TOOeec66677j//8z+/9KUvxXUULFiwINw55FN85cILL4x/Fmr/\n",
       "/v3jV3u79tprH3zwwZA0Z555ZuI38CS+wvXHPvax8ePHjx079oMf/GD8cnnl5eXH\n",
       "EUjB2WefHb0pvNvRlTbfn8RXirvttttC82zbtu2mm26Krrzzne88cOBA+9/nhx56\n",
       "KPEHH02dOvUnP/lJ/GORLr300vgVzNsTSO1839pz5gAIJACOWVjB4+dAmjV06ND4\n",
       "zvEX3SX+oNg9e/YkXU987YTXX389sQ2a/RGot956ayvvYeuBdPnllyd9kV573p8b\n",
       "brihpX/eIUOGJPVM6+9zQ0ND6Mlm/6iQSUVFRfG72s4vsWvP+9aef0YABBIAxyNU\n",
       "R3Z29rnnnpu0an/yk5/8+c9/nvjdLCUlJVdccUVSIAX/+7//O3DgwPjnmUY/BTW8\n",
       "tekrwo0ZM+bb3/52/JNVzz///PHjx7f+7iX+KNumPwL1xhtvjF8UO/5CuDbfn/r6\n",
       "+rvuuuvCCy9M/OcNvx05cmT8z9v+9zk0Umie973vfYmvI3fttdfu2LEj8W7NBtKs\n",
       "WbOavkhDm+9be/4ZARBIABy/119/vaKiYunSpfPnz//Nb37Tysugvfbaa6Gpqqur\n",
       "wyqf1AlbtmxZtmzZxo0bw31aaYOw3BcWFob/u059LYFW3p84RSorK1ceEd6Z6EfN\n",
       "vp33ORzLr3/96/B/l/iSgMen9fet/f+MAAgkAE45zT554n0GQCABIJC8zwAIJABS\n",
       "2Hvf+953HjFx4kTvMwACCQAAQCABAAAIJAAAAIEEAAAgkAAAAAQSAACAQAIAABBI\n",
       "AAAAAomTpbq6euXKlQcOHGjPnevq6jZv3lxUVFReXh5+7fQAAEAgdSv5+fkDBgzY\n",
       "smVL63drbGxctmxZRkbGgKMyMzOXL1/uAAEAQCB1BwcPHlywYEFUO20G0qpVq8Ld\n",
       "Bg4cOG/evMLCwhkzZqSlpYUr69atc5IAACCQurCNGzfec889gwYNip8Oaj2QGhoa\n",
       "7rjjjnC3kpKS+GIUV+PGjXOeAAAgkLp2IN191MCBA9sMpN27d4f73HnnnY2NjfHF\n",
       "mpqacHHIkCHOEwAABFI3MWnSpDYDqaqqKqTUI488knQxPDA7O9sZAgCAQEqhQGrW\n",
       "rFmzwgOnTJniDAEAQCClbiA1NjY+9dRT4VEZGRm7du1q5Z4DAADojmzRAkkgvSUU\n",
       "UV5eXnjI4MGDN23a1PqdDc+J4ZwdtXPGUTtnHLWjFkic6EBqaGhYtGhR9KOQQiNV\n",
       "V1cbHp+kHDXO2VHjnB21o0YgpWIg1dfXT506NdzzlltuKSwsTHw5O8Pjk5Sjxjk7\n",
       "apyzo3bUCKTUCqTom45ycnL27dtneHySctQ4Z0eNc3bUjhqBlEKBVFVV9asjot+G\n",
       "KMrIyBgyZEhtba3h8UnKUeOcHTXO2VE7aocgkFIrkJYuXZr4+iSrV6+OfibsA008\n",
       "+uijhscnKUeNc3bUOGdH7agRSN3ElClTWgqk9PT06Lfz5s1r6RUe77rrLsPjk5Sj\n",
       "xjk7apyzo3bUCCQMDwCAHQ+BhOEBALDjIZAwPAAA2PEEEoYHAAA7nkDC8AAAYMcT\n",
       "SBgeAADseAIJwwMAgB1PIGF4AACw4wkkDA8AAHY8gYThAQDAjieQMDwAANjxBBKG\n",
       "BwAAO55AwvAAAGDHE0gYHgAA7HgCCcMDAIAdTyBheAAAsOMJJAwPAAB2PIGE4QEA\n",
       "wI4nkDA8AADY8QQShgcAADueQMLwAABgxxNIGB4AAOx4AgnDAwCAHU8gYXgAALDj\n",
       "CSQMDwAAdjyBhOEBAMCOJ5AwPAAA2PEEEoYHAAA7nkDC8AAAYMcTSBgeAADseAIJ\n",
       "wwMAgB1PIGF4AACw4yGQMDwAAHY8BBKGBwDAjodAwvAAANjxEEgYHgAAOx4CCcMD\n",
       "AGDHQyBheAAA7HgIJAwPAIAdD4GE4QEAwI4nkDA8AADY8QQShgcAADueQMLwAABg\n",
       "xxNIGB4AAOx4AgnDAwCAHU8gYXgAALDjCSQMDwAAdjyBhOEBAMCOJ5AwPAAA2PEE\n",
       "EoYHAAA7nkDC8AAAYMcTSBgeAADseAIJwwMAgB1PIGF4AACw4wkkDA8AAHY8gYTh\n",
       "AQDAjieQMDwAANjxBBKGBwAAO55AwvAAAGDHE0gYHgAA7HgCCcMDAIAdTyBheAAA\n",
       "sOMJJAwPAAB2PIGE4QEAwI4nkDA8AADY8QQShgcAADueQMLwAABgxxNIGB4AAOx4\n",
       "AskRGB4AAOx4CCQMDwCAHQ+BhOEBALDjIZAwPAAAdjwEEoYHAMCOh0DC8AAA2PEQ\n",
       "SBgeAAA7HgIJwwMAYMdDIGF4gFTSf25ZdOs7uTTcegwtSLqFN/XJLY5u0X1av8V3\n",
       "jm7t/ANzlmyLbv6NAHY8gYThAejE+Eksk1M/SFoKtvCuxlkV38e/YsCOJ5AwPACt\n",
       "VVCIitTph/ifNH62SkQBdjyBhOEBUjGH4i9RcybHFFGJX9rn6/oAO55AwvAAcohk\n",
       "Tb+ByhNQgB1PIGF4gFPjb5SEL5ZzGqdIozb7RYwOB+x4CCQMD9BZK3i0eUc3Z9JF\n",
       "2yn+4j2HA3Y8BJLhATgGid8M4zS0E2DHE0gYHiAl/7bw5XPaSTuBHU8gYXiAFJf4\n",
       "c1SdBm22U9MX3HM4YMcTSBgeQBeBdgI7nkDC8ABdv4u8SDTaCex4AgnDA+giXcQp\n",
       "JP5JuIntFN/8kFyw4wkkDA/QKV3k6+joBh/Aie2k88GOJ5AwPMCx8TrddHtecA/s\n",
       "eAIJwwPoImhb/MV7noDCjodAShXV1dUrV648cOCA4QEi8X9KdxTQ/pFJevUIEYVA\n",
       "Ekh0Vfn5+WEktmzZYniAN498n4ZDABGFQEIgpaKDBw8uWLBgwBECCVJcvKLZ0uCk\n",
       "R1T85Xzx90QlfoGfF+VDIAkkOt7GjRvvueeeQYMGDThKIEGKfk5P+JZ0pwFdsabi\n",
       "p6GarSn/1QOBJJBobyDdfdTAgQMFEqSg+IfGOApInZpq+txU0o/c9SSVQEIg8eak\n",
       "SZMEEqQaXQQcR1Y1fbaqaV/Fr/vnhV4EkkBCIAGn/GdwX1AHnPC+Or7QavpwxSWQ\n",
       "BBKnYiD1OGJAE9H1lu7vuuuunyrXb37cObjuuutd9Pqfn5X67E3h1kw73XB/uCX9\n",
       "lKo/B9jNj8cNlhhjf75+8+NNqyz+c5L//H/LDvePnxz7y7NkXfA8m+5v8W9txQKJ\n",
       "4wkkwwNdkVeoA+gMcSk1bbakJ83ac2v2JeDbvDUtwOO72fEEEgIJur/Ev3SdBgB2\n",
       "PIGEQIKUposAEEgCCYEEKf9p2isxACCQBBICCYjoIgAEkkBCIEGq8x1HAAgkgUQH\n",
       "mDJlikCCbkAXASCQBBKGB3SRl/AGwI4nkDA8wNFAcggA2PEEEoYHUr2LPHEEgB1P\n",
       "IGF4gLcCySEAYMcTSBgeSGnxs0aeOALAjieQMDyQ6jxxBIAdTyBheCDV+RlHANjx\n",
       "BBKGB3iLLgLAjieQMDyQ8p9whxZEN4EEgB1PIGF4INXpIgDseAIJwwOpznccAWDH\n",
       "E0gYHuAtuggAO55AwvAAAgkAO55AwvAAR7vID4EFwI4nkDA8wFuB5BAAsOMJJAwP\n",
       "pPZnVa/lDYAdTyBheICILgLAjieQMDyAQALAjieQMDzAEfHrMQgkAOx4AgnDA6lO\n",
       "FwFgxxNIGB5IdX0nl0Y3gQSAHU8gYXgg1ekiAOx4AgnDAwgkAOx4AgnDA0SfOv2w\n",
       "IwDseAIJwwNEdBEAdjyBhOEBBBIAdjyBhOEBjvCadQDY8QQShgd4iy4CwI4nkDA8\n",
       "gEACwI4nkDA8wBH955ZFN4EEgB1PIGF4IOU/UQ4tcAgA2PEEEoYHEEgA2PEEEoYH\n",
       "SPjKOoEEgB1PIGF4IOU/P+oiAOx4AgnDAwgkAOx4AgnDA/xZ/NNgBRIAdjyBhOGB\n",
       "lP+0qIsAsOMJJAwPIJAAsOMhkAwP8FYXxTenAYAdTyBheCDVA8khAGDHQyAZHkAg\n",
       "AWDHQyBheMBr1gFgx0MgYXjgL58EdREAdjwEEoYHBBIAdjwEEoYHBBIAdjwEEoYH\n",
       "EvSfWxbdBBIAdjwEEoaHlP/cp4sAsOMhkDA8IJAAsOMhkDA88Gd9coujm0ACwI6H\n",
       "QMLwkPKf8nQRAHY8BBKGBwQSAHY8BBKGBwQSAHY8BBKGBxL0nVwa3QQSAHY8BBKG\n",
       "h5T/TKeLALDjIZAwPCCQALDjIZAwPPBnOUu2RTeBBIAdD4GE4SHlP8HpIgDseAgk\n",
       "DA8IJADseAgkDA8IJACw4wkkDA8k8KLeANjxHIJAwvDA0c9ruggAOx4CCcMDAgkA\n",
       "7HgCCcMDAgkA7HgCCcMDCXzrEQDY8QQShgeOfjrTRQBgxxNIGB4QSABgxxNIGB4Q\n",
       "SABgxxNIGB5I4FuPAMCOJ5AwPHD0s5guAgA7nkDC8IBAAgA7nkDC8IBAAgA7nkDC\n",
       "8ECC/nPLoptAAgA7nkDC8JDyn7x0EQDY8QQShgcEEgDY8QQShgcEEgDY8QQShgcE\n",
       "EgDY8QQShgea8toMAGDHE0gYHjj6OUsXAYAdTyBheEAgAYAdTyBheEAgAYAdTyBh\n",
       "eCBBn9zi6CaQAMCOJ5AwPKT8pypdBAB2PIGE4QGBBAB2PIGE4QGBBAB2PIGE4YEE\n",
       "fuoRANjxBBKGB45+htJFAGDHE0gYHhBIAGDHE0gYHhBIAGDHE0gYHhBIAGDHE0gY\n",
       "HmjKj4UFADueQMLwwNFPTLoIAOx4AgnDAwIJAOx4AgnDAwIJAOx4AolW1dXVVVRU\n",
       "FBUVlZWV7d+/vz0POXDgwKZNmwoLC8P/1tbWGh4EEgAIJARSd1BcXJyZmTngqIyM\n",
       "jMWLF7f+kOXLlyc95JlnnjE8dCH955ZFN4EEAAJJIPEXlZWVaWlp4SM7Pz9/1apV\n",
       "s2fPjn5bUlLS0kN++9vfhjukp6eHOxcWFk6fPj0EUrhSVFRkeOgyn490EQAIJIFE\n",
       "UxMnTgwf1nPmzImvLFmyJFwZOXJkSw8JKRXukPiU0RNPPBGuTJgwwfAgkABAICGQ\n",
       "uqr6+vroyZ+9e/fGFw8dOjRo0KBwsaamptlHhRAKb92wYUN8JXpOKScnx/AgkABA\n",
       "ICGQuqrq6urwMZ2VlZV0PS8vL1wvKytr9lELFy4Mb33sscfiKzNnzgxXnnzyScPD\n",
       "Kc63HgGAQBJItKiysjJ8TI8ZMybp+pQpU8L1NWvWNPuo2tra3NzccIf7779//vz5\n",
       "o0ePjr4kL/FpKMPDKfppSBcBgEASSLRk8+bN4WM6Ly8v6Xr0jFBLL7rQ0NCwaNGi\n",
       "Af/XggULGhsbWx+eZvm3gEACgC4RQtY5gdT9lZeXNxtI0cswtBRIjz76aHjr4MGD\n",
       "58+fv3bt2pBGt9xyS7jy0EMP+a8LCCQASLVwcggCqfvYsmVL+JgeNWpU0vVJkya1\n",
       "9Erfhw8fzszMTEtLq6ysjC/u3Lkzel2HV155xfAgkABAICGQuqQ9e/ZEzwUlfXXc\n",
       "iBEjwvWKioqmDwkXm30R8IceeihcX716teHhFNR3cml0E0gAIJAEEi1qaGjIzMwM\n",
       "H9Y7duyIL9bW1qanp6elpYVfNH1IuGe4/1133ZV0/b777gvXS0tLDQ+n4mcfXQQA\n",
       "Akkg0R7Tpk2LfsZr/CRS9AoNY8eOjX5bVVX1qyOi38Y/OmnVqlXxQ1544YW0I/bt\n",
       "22d4EEgAIJAQSF1VdXV19O1DWVlZ06dPHz58ePh1SJ346+uWLl2a9Pokv/71r6Mr\n",
       "4SGzZ8+ePHlyuH/47TPPPGN4EEgAIJAQSF3b1q1bc3Jy4hdqHDZs2IYNG+K3RoGU\n",
       "np6e+JDi4uJwt/ght99+e6imhoYGw4NAAgCBhEDC8HAq8toMAGDHE0gYHnhLn9xi\n",
       "hwAAdjyBhOEBgQQAdjyBhOEBgQQAdjyBhOEBgQQAdjyBhOGBZP3nlkU3gQQAdjyB\n",
       "hOEh1ekiALDjCSQMDwgkALDjCSQMDwgkALDjCSQMDwgkALDjCSQMDwgkALDjCSQM\n",
       "D7TyKWZoQc6SbeHmKADAjieQMDykOk8cAYAdTyBheEAgAYAdTyBheEAgAYAdTyBh\n",
       "eEAgAYAdTyBheKD5LopvTgMA7HgCCcNDqgeSQwAAO55AwvCAQAIAO55AwvCAQAIA\n",
       "O55AwvCAQAIAO55AwvBAsr6TS6ObQAIAO55AwvCQ6nQRANjxBBKGBwQSANjxBBKG\n",
       "BwQSANjxBBKGBwQSANjxBBKGBwQSANjxBBKGB1rtovjmNADAjieQMDykeiA5BACw\n",
       "4wkkDA8IJACw4wkkDA8IJACw4wkkDA8IJACw4wkkDA8ky1myLboJJACw4wkkDA+p\n",
       "ThcBgB1PIGF4QCABgB1PIGF4QCABgB1PIGF4QCABgB1PIGF4QCABgB1PIGF4oGV9\n",
       "J5dGN4EEAHY8gYThIdXpIgCw4wkkDA8IJACw4wkkDA8IJACw4wkkDA8IJACw4wkk\n",
       "DA8IJACw4wkkDA+02kXxzWkAgB1PIGF4SPVAcggAYMcTSBgeEEgAYMcTSBgeEEgA\n",
       "YMcTSBgeEEgAYMcTSBgeEEgAYMcTSBgeaLmLvHgdANjxBBKGB94KJIcAAHY8gUSH\n",
       "OXTo0MKFCydMmJCdnR1+u379+v379xseBBIAYMcTSCln7NixF1xwQY+jwpUvfvGL\n",
       "Z5111qhRowwPAgkAsOMJpBQydOjQqIt69+4dB9I3v/nN6NejR482PAgkAMCOJ5BS\n",
       "QmFhYaig0047bfr06eG3F154YRRIb7zxRm5ubvj1ueeeW1tba3gQSACAHU8gdX+j\n",
       "Ro0KFZSVlRX9Ng6kyEc+8pHw26KiIsPDKdtFXrwOAASSQKLDfOUrXwkJVFhY2Gwg\n",
       "/ehHPwq/nTt3ruHhlA0khwAAAkkg0WF+8IMfhAR69tlnmw2kKJ88g4RAAgDseAIp\n",
       "JUycODEkUAihpoH029/+tlevXj179jzpr/dteBBIACCQEEgnQk1NzUUXXRSi6Jpr\n",
       "rnn++efPP//88Ovf//73M2bM+MAHPhB+/d3vftfwIJAAADueQEoVK1eufNe73tWj\n",
       "OZdeeump8ONiDQ8CCQAEEgLpxNm5c+f3v//98847L06jSy655L777nv99dcND6eg\n",
       "/nPLoptAAgCBJJDoRLt27Vq/fn1NTY3h4VSmiwBAIAkkDA8IJACw4yGQOtp11113\n",
       "+bH4wx/+YHgQSACAHU8gdU+XXXZZj2Oxfft2w4NAAgDseAKpe1q5cuXCBP/yL/8S\n",
       "Kujss88eOHDgnDlzFi9enJ+f/4UvfCGqo6lTp7722muGB4EEANjxBFL3t27dup49\n",
       "e55//vmbN29OetN///d/h0C67LLLGhsbDQ8CCQCw4wmk7m/QoEGhgh544IFm33rV\n",
       "VVeFt7700kuGh1PiE8HQgujVvR0FAAgkgUSniL6+7rnnnmv2rTfffHN46/z58w0P\n",
       "pwJPHAGAQEIgda4bbrghJNBPf/rTZt/at2/f8NaCggLDg0ACAOx4Aqn7GzduXEig\n",
       "T3/60wcOHEh606JFi0477bSePXvW1tYaHgQSAGDHE0jdX0VFxTnnnBMa6ROf+MQj\n",
       "jzyydevWP/3pT+vXr7/99tvPOuuscP0b3/iG4UEgAQB2PIGUKubMmdOzZ89mfwLS\n",
       "pZdeetKfPjI8CCQAEEgIpBOqtLT0a1/7Wq9eveI0uvjii++99966ujrDw8mf/6EF\n",
       "0U0gAYBAQiCdOA0NDS+//PILL7ywf/9+w8OpQxcBgEBCIJ0gdXV1e9oSwsnwIJAA\n",
       "ADueQOr+Ro4c2aMt27dvNzwIJADAjieQBFKP888//49//KPhQSABAHY8gdT9HTp0\n",
       "6EAT27Zte+yxxy655JL3vve9paWlhgeBBADY8QRSqnvppZfe/e53X3jhhY2NjYaH\n",
       "E6//3LLoJpAAQCAhkE4J3/rWt3r06FFWVmZ4OPF0EQAIJATSqeU73/lOCKQnnnjC\n",
       "8CCQAAA7nkBKaXv37j3nnHNCIBUWFhoeBBIAYMcTSN3fsmXLftycfv36nX322aGO\n",
       "wv/u27fP8CCQAAA7nkDq/lp/me93vOMdM2bMMDwIJADAjieQUsLChQvTm3PrrbdO\n",
       "mDBhy5YthgeBBADY8QQShoeTNO1DC6KbQAIAOx4C6URbvnz5sGHDSkpKmn3rlClT\n",
       "wlt9DxInki4CAIGEQDppou9Bmjp1arNv/cxnPhPeun37dsODQAIA7HgCqdt67rnn\n",
       "Co648cYbQwLddtttBU0888wz73nPe8Jbd+3aZXgQSACAHU8gdVsXXHBBj/YJjVRf\n",
       "X9/KH1VXV1dRUVFUVFRWVrZ///52vgMHDhwoLS0tKSn5/e9/b3gQSAAgkBBIJ9On\n",
       "P/3pDx9x3nnnhQp63/ve9+Em/vZv//bzn//8k08+2cqfU1xcnJmZOeCojIyMxYsX\n",
       "t5lG48aNS0tLix/10EMPvfHGG4YHgQQAAgmBdJK1/j1IrausrIw6Jz8/f9WqVbNn\n",
       "z45+29JLPgQHDx4cM2ZMuE9ubu6zzz47d+7c2267Lfw2/MLwIJAAQCAhkE6yadOm\n",
       "XXnllfPnzz+Ox06cODF8WM+ZMye+smTJknAlRFdLD1m6dGm4w/jx4xsaGqIrGzdu\n",
       "DFeGDh3a2NhoeFJ6yIcW9J9bFm6OAgAEEgKp66mvr8/IyAgf1nv37o0vHjp0aNCg\n",
       "QeFiTU1Ns48aPXp0eGvSqz6sXLmyoKAgTibDk5o8cQQAAgmBdHLcfffd3/ve98aP\n",
       "Hx9+PX/+/O+15U9/+lPTP6S6ujp8TGdlZSVdz8vLC9fLypp5HuCVV14Jbxo+fPib\n",
       "R77Wrry8fNOmTbW1tYYHgQQAAgmBdNJcdtllPXr0+OpXv/rm0e9Bal2zPwepsrIy\n",
       "fEyPGTMm6fqUKVPC9TVr1jR9SPhzwpsmT578s5/9LPFFGh5++OHQS4ZHIDkEABBI\n",
       "CKSTYOrUqbm5uU888UT4dWFhYW5bXn311aZ/yObNm8PHdF5eXtL1mTNnhutFRUVN\n",
       "H/K73/0uvCk9PT387wMPPLBo0aLwPgwePDj8dvr06a0PT7P8qxRIAECXCCHrnEDq\n",
       "/srLy5sNpPz8/JYCad26ddEkPP744/HFHTt2RMm0c+dO/3VBIAEAKRVODkEgdR9b\n",
       "tmwJH9OjRo1Kuj5p0qSWXun7xRdfjAIp6efJPvjgg+Hi888/b3hSUPTKdeEmkABA\n",
       "ICGQTo7s7OzvHYtmX6Rhz5494WN68ODBSS/PPWLEiHC9oqKi6UNefvnl8KYhQ4Yk\n",
       "Xf/pT38arrfyE2YNTzemiwBAICGQTrLoRRrar9kXaWhoaMjMzAwf1jt27Igv1tbW\n",
       "pqenp6WlNfvadOEht956a3jIvn37Eq+PHz8+XFy7dq3hEUgAgEBCIJ1oM2fOzD0W\n",
       "zb5Iw5tHfshs+LCeMGFC/CRS9AoNY8eOjX5bVVX1qyPihzz88MPhDuGBhw8fjq5s\n",
       "2LAheiaqldf7NjwCCQAQSAikU111dXX0Y2GzsrKmT58+fPjw8Ou0tLT46+uWLl2a\n",
       "9Pokr7zyyp133hmu5OTkzJ07d8qUKdHrfT/77LOGRyABAAIJgXSqOHDgQEFBwdSp\n",
       "U0ePHv3YY4+tWbMm6ZuLmrV169aQOvELNQ4bNmzDhg3xW6NASk9PT3zIrl27Hnzw\n",
       "wejL86KHNPuSd4ZHIAEAAgmBdBI0NDTcf//9F1xwQdK3Hl1xxRXLli0zPAgkAMCO\n",
       "J5BSSHZ2dlREp59++qWXXnr11VdfdNFF8ZVWXn3b8HDc+k4ujW4CCQAEEgLpFLJq\n",
       "1aqohW6++eZdu3bF11evXn3llVeG65dcconhocPpIgDAjieQTkV33313qKBvfetb\n",
       "Td9UU1MTfd3dtm3bDA8CCQCw4wmk7u+rX/1qSKBf/OIXzb7129/+dnjr/PnzDQ8C\n",
       "CQCw4wmk7i9KoOXLlzf71n79+oW3Pv3004YHgQQA2PEEUveXl5cXEuiOO+5o+qYD\n",
       "Bw707t07vPUPf/iD4UEgAQB2PIHU/VVVVV188cU9e/acOnXq4cOH4+u7d++Ovvqu\n",
       "X79+hgeBBADY8QRSSliwYME///M/Ry9k16dPn+9+97sDBw689tprzzzzzOji97//\n",
       "/QEJli5danh4O10U35wGAAgkhyCQTjkjR47scSzuvfdew8PbCSSHAADY8QTSqWv5\n",
       "8uXDjsWqVasMDwIJALDjCSQMDwIJALDjCSQMDwIJALDjCaQUsW/fvoceemjgwIH/\n",
       "rwV79uwxPAgkAMCOJ5C6v5qamj59+rT+wgzbt283PAgkAMCOJ5C6v3vuuSck0Gmn\n",
       "nXbdddf9+Mc/vqs5r7zyiuHhbXaRV/cGAOx4AqkLuP7660MgjR071vDQefpOLnUI\n",
       "AIAdTyB1Af/6r/8aAqmwsNDwIJAAADueQEp10Q+K/clPfmJ4EEgAgB1PIKW63/72\n",
       "t7169frgBz+4efNmw4NAAgDseAIp1c2bNy96tbqrr756SHP27t1reBBIAIAdTyB1\n",
       "f7t37/7IRz7iZb4RSACAHU8g8eb48eNDAvXs2fOLX/zikCFDhjbHM0gcdxfFN6cB\n",
       "ANjxBFIX8I1vfCMEUm5uruGhMwLJIQAAdjyB1JV861vfCoG0evVqw4NAAgDseAIp\n",
       "1d13330hkKZNm2Z4EEgAgB1PIKW6qqqq3r17X3DBBZWVlYYHgQQA2PEEUkorKSlJ\n",
       "S0vr0aNHr169+vXr9+Pm7Nu3z/AgkAAAO55A6v5GjhzZoy1e5huBBADY8QRSSli4\n",
       "cGF6W2pqagwP7dd/bll0E0gAgB1PIHUrmzdvzs7O3r17t+Gh/XQRAGDHE0jdSl1d\n",
       "3aOPPvr5z3/el9ghkAAAO55ASl3r168fOHDge97znvgbkHr27FlVVWV4EEgAgB1P\n",
       "IKWKV199dfLkyVdccUXiazN87GMfy8vLO+l1ZHgEEgAgkBBIJ8iqVat+8IMfnHXW\n",
       "WYlpdN1115WWlhoeBBIAYMcTSCmhurr63nvv/chHPhJHUWikb3/721deeWX4dX5+\n",
       "vuFBIAEAdjyBlBLS0tJOP/30qIve8Y53fOlLX5o1a9b+/fvDm374wx8KJAQSAGDH\n",
       "E0gp5LLLLgsVdMYZZ4wbN27Xrl2JbxJIHP+UDi2IfvyRowAA7HgCqesFUtC7d+87\n",
       "7rjjhRdeEEi8fZ44AgDseAKpS6qoqMjOzn7/+98ffwPSxz/+8fHjx+/cuVMgIZAA\n",
       "ADueQEpF9fX1Tz/99DXXXHPaaafF34905plnhl9MmzbN8CCQAAA7nkBKRX/4wx9y\n",
       "c3M//OEPx08onXvuuTfffPNzzz1neBBIAIAdTyClosbGxoKCgn79+vXq1Ssupb/5\n",
       "m78ZNWrUa6+9ZngQSACAHU8gpaK9e/dOnDjx4x//eJxJ27dvNzwIJADAjieQUtra\n",
       "tWvDR+2555778ssvGx5a0ie3OLoJJADAjieQur+DBw8aHlqhiwAAO55AwvAgkAAA\n",
       "O55AwvAgkAAAO55AwvAgkAAAO55AwvAgkAAAO55AwvAgkAAAO55AwvDQni6Kb04D\n",
       "ALDjCSQMT6oHkkMAAOx4AgnDg0ACAOx4AgnDg0ACAOx4AgnDg0ACAOx4AgnDg0AC\n",
       "AOx4AgnDg0ACAOx4AgnDg0ACAOx4AgnDQ/tGcWhB/7ll4eYoAAA7nkDC8KQ6TxwB\n",
       "AHY8gYThQSABAHY8gYThQSABAHY8gYThQSABAHY8gYThQSABAHY8gYThQSABAHY8\n",
       "gYThoU19coujm0ACAOx4AgnDk+p0EQBgxxNIGB4EEgBgxxNIGB4EEgBgxxNIGB4E\n",
       "EgBgxxNIGB4EEgBgxxNIGB4EEgBgxxNIGB4EEgBgxxNIGB7aPXhDC/rPLQs3RwEA\n",
       "2PEEEoYn1XniCACw4wkkDA8CCQCw4wkkDA8CCQCw4wkkDA8CCQCw4wkkDA8CCQCw\n",
       "4wkkDA8CCQCw4wkkDA9t6pNbHN0EEgBgxxNIGJ5Up4sAADueQMLwIJAAADueQMLw\n",
       "IJAAADueQMLwIJAAADueQMLwIJAAADueQMLwIJAAADueQMLwIJAAADueQMLw0O4x\n",
       "G1oQ0ii6OQ0AwI4nkDA8KU0XAQB2PIGE4UEgAQB2PIGE4UEgAQB2PIFEx6qrq6uo\n",
       "qCgqKiorK9u/f/8xPfbVV19duXLljh07DI9AAgAEEgKpyysuLs7MzBxwVEZGxuLF\n",
       "i9v52MbGxgceeCA8auHChYZHIAEAAgmB1LVVVlampaWFj+z8/PxVq1bNnj07+m1J\n",
       "SUl7Hr58+fIoqwSSQAIABBICqcubOHFi+LCeM2dOfGXJkiXhysiRI9t87M6dOwcN\n",
       "GjRkyBCBdNL1n1sW3QQSACCQBBLHqb6+PiMjI3xY7927N7546NChkD3hYk1NTeuP\n",
       "HT169O23375ixQqBdNLpIgBAIAkk3q7q6urwMZ2VlZV0PS8vL1wvKytr5bHz588P\n",
       "9yktLV23bp1AEkgAgEBCIHV5lZWV4WN6zJgxSdenTJkSrq9Zs6alB1ZUVKSlpc2c\n",
       "OTP8WiAJJABAICGQuoPNmzeHj+m8vLyk66F8wvWioqJmH/Xaa6/deeed2dnZdXV1\n",
       "xxRIzfJvQSABAF0ihKxzAqn7Ky8vbzaQ8vPzWwmkKJ82bdoU/dYzSAIJAEjlcHII\n",
       "Aqn72LJlS/iYHjVqVNL1SZMmtfRK3+vXrw9vmj59+sGjVq9eHa48/fTT4deHDx82\n",
       "PAIJABBICKQuac+ePeFjevDgwY2NjYnXR4wYEa5XVFQ0fciTTz7ZyhOsK1asMDwC\n",
       "CQAQSAikLqmhoSEzMzN8WO/YsSO+WFtbm56enpaWFn7R9CFr166d8n+NGjUq+rlJ\n",
       "4dfx190ZnhM0VEMLoptAAgAEkkCiA0ybNi18WE+YMCF+Ein6FqOxY8dGv62qqvrV\n",
       "ES39Cb4H6STSRQCAQBJIdKTq6urox8JmZWVNnz59+PDh4ddpaWnx19ctXbq09dcn\n",
       "EUgCCQAQSAik7mPr1q05OTnx9xENGzZsw4YN8VujQEpPT2/p4aWlpeEOzz77rOER\n",
       "SACAQEIgYXgEEgBgx0MgYXgEEgBgx0MgYXgEEgCAHU8gYXgEEgCAHU8gYXhOqVka\n",
       "WtB/blm4OQoAwI4nkDA8qc4TRwCAHU8gYXgQSACAHU8gYXgQSACAHU8gYXgQSACA\n",
       "HU8gYXgQSACAHU8gYXgQSACAHU8gYXhoU/TS3uEmkAAAO55AwvCkOl0EANjxBBKG\n",
       "B4EEANjxBBKGB4EEANjxBBKGB4EEANjxBBKGB4EEANjxBBKGB4EEANjxBBKGB4EE\n",
       "ANjxBBKGh3ZPztCC6CaQAAA7nkDC8KQ6XQQA2PEEEoYHgQQA2PEEEoYHgQQA2PEE\n",
       "EoYHgQQA2PEEEoYHgQQA2PEEEoYHgQQA2PEEEoYHgQQA2PEEEoaHdg/MkR98pI4A\n",
       "ADueQMLw4IkjAMCOJ5AwPAgkAMCOJ5AwPAgkAMCOJ5AwPAgkAMCOJ5AwPAgkAMCO\n",
       "J5AwPAgkAMCOh0AyPLSt/9yy6CaQAAA7nkDC8KQ6XQQA2PEEEoYHgQQA2PEEEoYH\n",
       "gQQA2PEEEoYHgQQA2PEEEoYHgQQA2PEQSIYHgQQA2PEQSBgegQQA2PEQSBiedo/H\n",
       "0ILoJpAAADueQMLwpDpdBADY8QQShgeBBADY8QQShgeBBADY8QQShgeBBADY8RBI\n",
       "hsfwCCQAwI6HQMLwCCQAwI6HQMLwCCQAwI6HQMLwtHsqhhb0n1sWbo4CALDjCSQM\n",
       "T6rzxBEAYMcTSBgeBBIAYMcTSBgeBBIAYMdDIGF4BBIAYMdDIGF4BBIAYMdDIGF4\n",
       "BBIAYMdDIGF42tNF8c1pAAB2PIGE4UlpfvARAGDHQyAZHgQSAGDHQyBheAQSAGDH\n",
       "QyBheAQSAGDHQyBheAQSAGDHQyBheAQSAGDHQyBheAQSAGDHQyBheNqrT26xn30E\n",
       "ANjxEEgYnj/zxBEAYMdDIGF4BBIAYMdDIGF4BBIAYMdDIGF4BBIAYMdDIGF4BBIA\n",
       "YMdDIGF4BBIAYMdDIGF42hS9tHe4CSQAwI6HQCLVh0cXAQB2PAQShkcgAQB2PAQS\n",
       "hkcgAQB2PAQShkcgAQB2PAQShkcgAQB2PAQShkcgAQB2PAQShkcgAQAIJIGE4Wmv\n",
       "PrnFIY3UEQBgx0MgYXg8cQQA2PEQSBgegQQA2PEQSBgegQQA2PEQSBgegQQA2PEQ\n",
       "SBgegQQA2PEQSBgegQQAIJAEEoanHR/oQwuim0ACAOx4CCRSfXh0EQBgx0MgYXgE\n",
       "EgBgx0MgYXgEEgBgx0MgYXgEEgBgx3MIAqkbqqurq6ioKCoqKisr279/fzsfsnnz\n",
       "5vCQ8vLy8GvDI5AAAIGEQOoOiouLMzMzBxyVkZGxePHiVu7f2Ni4bNmycLf4IeHh\n",
       "y5cvNzwCCQAQSAikrq2ysjItLS18ZOfn569atWr27NnRb0tKSlp6SLhbuMPAgQPn\n",
       "zZtXWFg4Y8aM6CHr1q1L5eHpO7k0ugkkAEAgIZC6qokTJ4YP6zlz5sRXlixZEq6M\n",
       "HDmy2fs3NDTccccdSQW1YMGCcGXcuHGpPDy6CAAQSAikrq2+vj76Srm9e/fGFw8d\n",
       "OjRo0KBwsaampulDdu/eHd505513NjY2xhfDPcPFIUOGCCQAAIGEQOqqqqurw8d0\n",
       "VlZW0vW8vLxwvaysmY2/qqrq7rvvfuSRR5IuhvtnZ2cLJAAAgYRA6qoqKyvDx/SY\n",
       "MWOSrk+ZMiVcX7NmTTv/nFmzZoX7h0cJJAAAgYRA6qo2b94cPqbz8vKSrs+cOTNc\n",
       "LyoqavNPaGxsfOqpp6LXvtu1a1frw9MsgQQA0CVCqNuvcwKJN8vLy5sNpPz8/PYE\n",
       "Uiii6IvxBg8evGnTphT/rwsCCQBIzXByCAKp+9iyZUv4mB41alTS9UmTJrX+St8N\n",
       "DQ2LFi2KXuAhNFJ1dXXKDk/oovjmIwoAEEgIpC5sz5490fM/iS9JF4wYMSJcr6io\n",
       "aPZR9fX1U6dODXe45ZZbCgsLkx6bgoHkAwkAEEgIpO6goaEhMzMzfFjv2LEjvlhb\n",
       "W5uenp6WlhZ+0eyjom86ysnJ2bdvn+ERSACAQEIgdR/Tpk0LH9YTJkyInwiKXqFh\n",
       "7Nix0W+rqqp+dUT02xBFGRkZQ4YMaSmfBBIAgEBCIHVV1dXV0Y+FzcrKmj59+vDh\n",
       "w8Ov09LS4q+vW7p0aeLrk6xevTr6mbAPNPHoo48KJAAAgYRA6tq2bt2ak5MTv1Dj\n",
       "sGHDNmzYEL81CqT09PTot/PmzWvpFR7vuusugQQAIJAQSKTu8AgkAMCOh0Ai1YfH\n",
       "q3sDAAgkgYTh+Usg+XcKACCQBBKGRyABAAgkgYThEUgAAAJJIGF4BBIAgEASSBge\n",
       "gQQAIJAEEoZHIAEACCSBhOFpXd/JpdFNIAEACCSBRKoPjy4CABBIAgnDI5AAAASS\n",
       "QMLwCCQAAIEkkDA8AgkAQCAJJAyPQAIAEEgCCcMjkAAABJJAwvC0qU9ucXQTSAAA\n",
       "AkkgkerDo4sAAASSQMLwCCQAAIEkkDA8AgkAQCAJJAyPQAIAEEgCCcMjkAAABJJA\n",
       "wvAIJAAAgSSQMDxt6pNb3Hdyabj51wcAIJAEEqk+PJ44AgAQSAIJwyOQAAAEkkDC\n",
       "8AgkAACBJJAwPAIJAEAgCSQMj0ACABBIAgnD07LolevCTSABAAgkgUSqD48uAgAQ\n",
       "SAIJwyOQAAAEkkDC8AgkAACBJJAwPAIJAEAgCSQMj0ACABBIAgnDI5AAAASSQMLw\n",
       "tKnv5NKcJdvCzb8sAACBJJBI9eHxxBEAgEASSBgegQQAIJAEEoZHIAEACCSBhOER\n",
       "SAAAAkkgYXgEEgCAQBJIGJ6W9cktDmmkjgAABJJAwvB44ggAQCAJJAyPQAIAEEgC\n",
       "CcMjkAAABJJAwvAIJAAAgSSQMDwCCQBAIAkkDE8r+k4uzVmyLdz8qwEAEEgCiVQf\n",
       "Hk8cAQAIJIGE4RFIAAACSSBheAQSAIBAEkgYHoEEACCQBBKGpxl9J5dGN4EEACCQ\n",
       "BBKpPjy6CABAIAkkDI9AAgAQSAIJwyOQAAAEkkDC8AgkAACBJJAwPAIJAEAgCSQM\n",
       "T8v65BaHNFJHAAACSSBheDxxBAAgkAQShkcgAQAIJIGE4RFIAAACSSBheAQSAIBA\n",
       "EkgYnub0yS2Obs4fAEAgCSRSfXg8cQQAIJAEEoZHIAEACCSBhOERSAAAAkkgYXgE\n",
       "EgCAQBJIGJ5m9Mkt7ju5NNwcOwCAQBJIpPrweOIIAEAgCSQMj0ACABBIAgnDI5AA\n",
       "AASSQMLwJMpZsi26CSQAAIEkkEj14dFFAAACSSBheAQSAIBAEkgYHoEEACCQBBKG\n",
       "RyABAAgkgYThaYYfCwsAIJAEEobnLTlLtjleAACBJJAwPAIJAEAgCSQMj0ACABBI\n",
       "AgnDE+uTWxzdnC0AgEASSKT68HjiCABAIAkkDI9AAgAQSAIJwyOQAAAEkkDC8CTq\n",
       "O7k0pJE6AgAQSAIJw+OJIwAAgSSQMDwCCQBAIAkkDE/Ei3oDAAgkgYTheYsnjgAA\n",
       "BJJAwvAIJAAAgSSQMDxH+Mo6AACBJJAwPG/xxJFPUo7aOTsER+2ccdSOWiBxqqur\n",
       "q6uoqCgqKiorK9u/f3+HD0//uWXRTSD5JOWonbNDcNTOGUftqAUSp7Ti4uLMzMwB\n",
       "R2VkZCxevLhjh0cX+STlqHHOjto546gdtUCiC6isrExLSwuTkJ+fv2rVqtmzZ0e/\n",
       "LSkpEUg+STlqnLOjxjk7akeNQEotEydODGMwZ86c+MqSJUvClZEjR7794ek7uTSk\n",
       "kTryScpR45wdtXPGUTtqgUQXUF9fn5GREcZg79698cVDhw4NGjQoXKypqTm+4Qld\n",
       "FN2kkU9Sjhrn7KidM47aUQskuozq6uowA1lZWUnX8/LywvWysrJjGp7oySJPGfkk\n",
       "5ahxzo7aOeOoHbVAokuqrKwMMzBmzJik61OmTAnX16xZ057h8XyRT1KOGufsqJ0z\n",
       "jtpRI5C6g82bN4cZyMvLS7o+c+bMcL2oqKiVx141+MHoNgAAgG7EkiyQUld5eXmz\n",
       "gZSfn99mIAEAAAKpW9myZUsIoVGjRiVdnzRpUnte6RsAABBI3ceePXtCCA0ePLix\n",
       "sTHx+ogRI8L1iooKRwQAAAIpVTQ0NGRmZoYW2rFjR3yxtrY2PT09LS0t/MIRAQCA\n",
       "QEoh06ZNC4E0YcKE+Emk6BUaxo4d63AAAEAgpZbq6urox8JmZWVNnz59+PDh4ddp\n",
       "aWm+vg4AAARSKtq6dWtOTk78wo7Dhg3bsGGDYwEAAIEEAAAgkAAAAAQSAACAQAIA\n",
       "ABBIAAAAAom3r66urqKioqioqKysbP/+/Q6ks1VXV69cufLAgQOOovM+pDdv3hw+\n",
       "pMvLy8OvHUjnefXVVzdu3Bgd9cGDBx3ICTjw8Nkj8eeA04Fqamp2NuGvxU4S/hIs\n",
       "LS0tKSn5/e9/7zQ6XGNj486W+XQtkGhDcXFxZmZm/ILgGRkZixcvdiydKj8/Pxz1\n",
       "li1bHEVn/JWwbNmy8GEcf0iHD+/ly5c7mQ7X0NDwzDPPpKenx0d92223hVJyMp36\n",
       "4f3AAw+Eo164cKHT6AwjR44c0ET4OHcyHZ5G48aNS0tLiw/5oYceeuONN5xMB9q3\n",
       "b9+Alv3ud79zRAKJFlVWVkafocLKvmrVqtmzZ0e/LSkpcTid4eDBgwsWLIg+PQmk\n",
       "zhA+jMPZDhw4cN68eYWFhTNmzIg+pNetW+dwOtaKFSvCwQ4ZMuTpp58OUXrfffeF\n",
       "34ZeeumllxxOJwmpH332EEid4dChQ+EDODs7e97/tXHjRofTsX8PjhkzJnwY5+bm\n",
       "Pvvss3Pnzr3tttvCb8MvHE7HVmh+E1OnTg1HHf5afPnllx2RQKJFEydODKMyZ86c\n",
       "+MqSJUvClZEjRzqcjhX+ir3nnnsGDRoU//cbgdThGhoa7rjjjqTCj4p03Lhxzqdj\n",
       "ZWVlhYMtLy+Pr+Tl5YUrTz31lMPpDDt37gyfQEKRCqROElbGcLaPPPKIo+hUS5cu\n",
       "Dec8fvz48Bk7/vsxXBk6dGhjY6Pz6VTh83M46l/84heOQiDRovr6+ugrkfbu3Rtf\n",
       "PHToULTE19TUOKKODaS7jxo4cKBA6gy7d+8OB3vnnXcm/i0bPpKjJzqcTwd69dVX\n",
       "w6mOGDEi8WL0/MaUKVOcT2d8uh49evTtt98ePXEnkDrD888/H87WV+R2tvCRHM55\n",
       "165diRdXrlxZUFAQJxOdYc2aNeHkJ02aJEQFEq2prq4Oo5KVlZV0PfrPwGVlZY6o\n",
       "k4RPTwKpM1RVVYX+TPoPwOFiOO3s7Gzn04H2799fWFj4wgsvJF4MaRSO+te//rXz\n",
       "6XDz588PZ1taWrpu3TqB1EmefPLJ6JDDx/ZTTz0VSmnbtm2OpWO98sor4ZCHDx/+\n",
       "5pGvtSsvL9+0aVNtba2T6WyvvvrqkCFDMjMzveiIQKINlZWV4fPUmDFjkq5HW86a\n",
       "NWsckUDqBmbNmuVpjU61devWoqKi6Ot1R48e7eUZO1xFRUVaWtrMmTPDrwVS54le\n",
       "ACPxJV6CGTNm1NfXO5yOsn379nCqkydP/tnPfpb4Ig0PP/yw11U7AX8V+tQhkGjb\n",
       "5s2bw7Tk5eUlXQ9/DYfrXo1KIHV1jY2N0ddbh40n6cs56EDjx4+Pt5zS0lIH0rFe\n",
       "e+21O++8Mzs7O3rBeoHUeW6//fZwtvfee++aNWtClD7zzDNRLHkVuw70u9/9Lno1\n",
       "l/C/oUgXLVr0xBNPDB48OPx2+vTpzqfzujTkaPgIf/31152GQKIN5eXlzQZS9CLU\n",
       "AkkgdWmhiKIvFg1/9W7atMmBdJ6XXnpp/fr1YYmMfmDAk08+6Uw6UPRfrOKPYYHU\n",
       "SRoaGn71q18tW7Ys8fmitWvXRv+FxffGdJToAzh4/PHH44s7duyIkmnnzp2OqDNE\n",
       "L173y1/+0lEIJNoWFvQwMKNGjWp2ffdK3wKp6y46ixYtiv7Tb2ik6upqZ3LCSikt\n",
       "LW3IkCG+JKmjhPKM/sv6waNWr14drjz99NPh14cPH3ZEnS07O7vpKwpw3F588cUo\n",
       "kJK+E+bBBx8MF59//nlH1OHq6uqivxB3797tNAQSbduzZ0/039eTXs9kxIgR4XpF\n",
       "RYUjEkhdTljNo/9UdssttxQWFnqtnk6yYcOGRx99tOkX1OXk5Pjs0YGilw1oyYoV\n",
       "KxxRRwmfK0JzNm376CXXvGpRR4leS73py4r+9Kc/Ddf9nPrOEP14wP/6r/9yFAKJ\n",
       "dmloaIi+JGbHjh3xxdra2vT09LS0NK8qI5C6ouibjsKavm/fPqfReYqLi6OXZEi6\n",
       "PmzYsHC9qqrKEXWItf+/vXsPqqpc4zh+TCWskNKa7mNiFzJvk5PO2HRTs+kyWhBY\n",
       "Y+k0klwUJJMKi7xyqTBFGUlIR8JEHLPQIi0KLzgloqAw3GKSEJCEMFBCEPA8x2fO\n",
       "Oqu9ZbPrQIh8P3/t/e5n77XWy2Kxfuy13jcjI+bPlixZolPVyWOuHe1A+mXd2rVr\n",
       "zY1NTU068RTzXnTgiUdgYKB0qcUhWm9llB2eLupwOoLOrl276AoCEuwlfwzk1yYy\n",
       "MtL4R7te7x4eHk7nEJC6HfmL6+fnJyc0xPvOVlZWZj3f8bfffqv/G+bSr87DPUid\n",
       "RCdM8/X1LSoq0hb5s7h582b9hwv904HWr1+vWdQ4UGRnZ+v1LBy6O4NeJmqe1BsE\n",
       "JLSjsrJSp4UNCgqKi4tbsGCBPPb29uYKGQJSd6S3Z8gJ+gor8fHx9E/HSkhI0PvX\n",
       "Y2Njk5KSdEgM7iIgIHVfiYmJOsBaTEyM7NKhoaG6hxcXF9M5HejUqVNvvfWWJk/p\n",
       "c+ltHe/7q6++onM6XH19vR6ZpdvpDQIS/gI59OttAyo4ODg7O5tu6VQ60xQBqcPJ\n",
       "OU1bd2u888479E/HOnfuXEpKil6mqxYuXHjo0CF6plMdPnyYU8lO0tzcLLu0XgCm\n",
       "Sem99947fvw4PdPhKioqVq1aZRw95MSDgXM7iU48JXs1XUFAwt/8H0NpaSnzKwP4\n",
       "S1pbW2tqauToobP0AJfBLl1dXV1WVsZgjJ2tpaVF+pmppUFAAgAAAAACEgAAAAAQ\n",
       "kAAAAACAgAQAAAAABCQAAAAAICABAAAAAAEJAIAuk5aW9vnnn/fMbS8rK0tKSioq\n",
       "KmI3AAACEgCgU1RVVfWzg7u7uxT7+vrK40WLFnXV2mZlZfXp0+fxxx+/nH4Ea9as\n",
       "kV6dNm1au5XV1dX9+/cfOXJkc3Mzuy4AEJAAAB3v5MmT/7LDxIkTpXjmzJny+O23\n",
       "3+6SVZVUMHr06F69eh0+fPhy+hGsXr1aevWZZ56xp3jx4sVSHBMTw64LAAQkAEDH\n",
       "a21trfuzIUOGyCl4cHCwufGPP/6Q4qSkpNmzZ3/99dddsqqJiYmyYm5ubpfZj+Av\n",
       "BST5WTg5Od14441nz55l7wUAAhIAoNPdfffdcr7ehdfRtWXcuHGyYtu3b+/JAUnM\n",
       "mDFD6jds2MC+CvRw5eXlK/7s+++/p1sISACAfy4grVu3bvr06Vu3btWnK1eulKe5\n",
       "ublpaWleXl7Dhg0bO3bs66+/XldXJ68mJCR4enq6uLiMHj3a39+/rKzM/FEHDx70\n",
       "8/MbM2aMvMvX1/ezzz6zvVZHjhyRtRo4cGBTU5PRmJqaOnXqVPmEwYMHy6IDAwOt\n",
       "BzCwZ0Hfffed1gwZMmT8+PHh4eG1tbUWNQcOHJg7d+5DDz0kNVOmTFm6dOmpU6eM\n",
       "V42u2LNnj4+Pz/Dhw++66y4PD4+srCyLz0lOTp45c+aIESPuvPNOd3d3WbR1QLK9\n",
       "Xd98843US6+yrwI9XHp6+qxZs2JN5BBEtxCQAAD/XECyuAfpiSeekKcvvvhinz59\n",
       "zDcsTZ48WWKSxV1Mkgc0OInly5f37dvXomDevHk21uqDDz6QmkmTJhktkZGR1vdK\n",
       "OTs7Hz161Khpd0Gtra0hISG9evWyqLn99tvLy8uNsrCwMIttFIMGDZLUZO4KSVkO\n",
       "Dg7mGnn6ww8/aE1zc/OcOXOs11l6xhyQ2t2uM2fOaGNFRQW7K9CTJSUlvfnmm/QD\n",
       "AQkAcGkFJDFu3Lh9+/adOHFCAolxTj9hwoTExMSysrLo6Ght2bZt2/kLX9fI4969\n",
       "e0syKS4u/vnnn5ctW6a5YvXq1W2t1dNPPy0F3t7e+rSxsfGqq67SlmPHjtXW1qam\n",
       "prq4uEiLp6en1tizoK1bt+q6TZ8+XZKMlMlLAwcOlJYnn3xSa3bs2KE10pKRkSGx\n",
       "RE5KbrrpJmm57bbb9O4soytGjRoly5Wtjo+Pl1elZcqUKfo569ev1xovL6/MzMyS\n",
       "kpKNGzdef/312qgByZ7tEjfccIO0fPLJJ+yuQE+2YsWKVatW0Q8EJADApRWQBg8e\n",
       "3NDQYNQMGzZMv/HQ5KDGjh0rjeHh4UaBxedHRUVJoyy6rbW6+eabpSAiIkKf5uXl\n",
       "aa44dOiQUZOSkjJgwID777/fvCY2FtTa2jp06FB5+sILL5hr5IRDGvv27asX2rm6\n",
       "uuo4flJv1EiUuvLKK42N0q6QtPP7778bNbK20ijxRh63tLTccccd8tRiOG/ZEP1u\n",
       "SgOSPdslHnjgAanx9/dndwV6svnz58txJiwsLDAwMDQ0ND09nT4hIAEAuj4gLVmy\n",
       "xFwzefJkaXz11VfNjZJApHHp0qXGqOLl5eUNJhJF9LudzMxM6+VKMtEUsXnzZm2R\n",
       "vKHf4UjqiIuLs77YzJ4Fybu05uDBg+b3NjU17dy5c9euXfLAqDGulDN4e3tLu07K\n",
       "pF0REBBgLsjKypJGJycneVxSUmKdfJSHh4cRkNrdLuXp6Sk18kZ2V6DHOn369KxZ\n",
       "s3x8fGJiYjZt2hQUFCRPU1NT6RkCEgCgiwPSRx99ZK557rnnpHH58uXmxpdeekkD\n",
       "0u7du21PuKSX4VmoqanRV3/88UejMT4+vl+/fsYbXVxcvLy80tLS9FV7FrR37169\n",
       "Bs/GvKvygVJzxRVXmL8lU7GxsXonktEVUVFR5oKcnBxpvOaaa85fGHehrWW9//77\n",
       "5nuQbG+XeuONN+SlRx55hN0V6CGqqqp2mhQXF8uB8dNPP5XjjBacOXNGjgwBAQHm\n",
       "77pBQAIAXOoB6csvv9Tz/jvakJiYaL3c2tpafZfFBSRyiiDrOWbMGPMICq+88oqc\n",
       "H9izoC+++MIIMG1JSUmRGvl863MOnZdpwIABbXWFOSDpjUwODg7Wi9B7tMyj2NnY\n",
       "Li2QH4G0PPjgg+yuQLdTWVm5e/duyTPWL9XX1xcWFsqBLi8vzxjVRh09enSWiRy+\n",
       "rN+enJwsL508eZJOJiABALpNQJJTf/1Cxjxatz0cHR3ljRs3brzoq3KqIacLEhg0\n",
       "S6SlpdmzoOzsbK2vqakxt7e0tMhGrVmzpry8PD8/X2tKS0st3i6bI+0SY+wJSMbn\n",
       "nDhxwuJz5s2b19Y8SNbbpe3Tpk2Tp88++yy7K9DtxMbGSoz56aefLNr3798fEBBg\n",
       "RCA/Pz/zrNzNzc1nTOTIJgeTzMxMOV4ZNVIvb/zll1/oZAISAKDbBCT5W+7k5CSP\n",
       "jcmUVElJiSzXxcXFYrokw6BBg/QT9OmOHTtcXV2ff/55c01dXV3//v2lbOXKlfYs\n",
       "qL6+vnfv3lITHR1trklKStJwVV1dLWchOqxcSEiIuaaxsVGH55Y+sScgSf3VV18t\n",
       "T5ctW2bxOXrTkQakdrdLWzQyyZkQuyvQjTQ0NGzfvl3zj0VAKioq8vb21kmN9uzZ\n",
       "k5CQoE+NuQSs7d27Vwpyc3ONlsjISB8fHzmq0NUEJABAtwlI8vjdd9+Vx7feeqtx\n",
       "Q5EEFR3aQbJBW2vl7u5upJHzF6420Vt6kpOTjZr8/HwdWU5vU7ZnQV5eXnqZnDEG\n",
       "Q0FBwYgRI6Tx4Ycf1haJRvLU0dHRGCJCPufll1/WS++k3p6AJIKDg+WpxCQ5Q9KW\n",
       "s2fPShYyD/Ntz3aJW265xXpxAC5ZcjRYvHjx7NmzjS+ILAJSVFSUNG7atMlo2blz\n",
       "p7QsXLiwrc+sqamZO3fu/Pnz09PTJSZt2LBB6rds2UJvE5AAAN0sINXV1d17770a\n",
       "A4YPHy45RM/+JWzICUFbayVLkZrx48fr09bW1kmTJmm0kDzj5ub26KOP6ucMHTpU\n",
       "Rxi3Z0EVFRU6gLjUjBo1SkcGF/369TP+L3v69OmRI0dqu3zgxIkTdaIk8wh+9gQk\n",
       "OZu577779I333HPPY489pt8L6TdUGpDs2S6JVTqzrQQndleguwSkd//L19fXIiCd\n",
       "O3fOz89PGn/77TejsampSQNVdXV1Wx9bWFgoCUoTl7+//7Zt2+Sj6G0CEgCgg+lJ\n",
       "/EUDko+Pj/klTQUff/zxXwpI5y98AyN/zp2dnY0RCCQM2EhHorS0VDKMvEXigbZI\n",
       "/pHzDL1uTTk6Ok6dOvXXX3813mXPgqqqqjw8PDSlGPPeWgz8LQt97bXXjEldJZ9I\n",
       "wjF/yXPRrtD7jq699lqjRbLW9OnTjfWRFZ4xY4bOrmvcg9Tudungezp6HoAuFB8f\n",
       "bxyRzHJzc21MSRQdHW0RkCorK6UlKCjIojIiIkLa8/LybK+GHDQkRDF4HQEJAHA5\n",
       "OHbs2IEDB8yRxgY3Nzfre4oaGhqKior2798vaUTi0N9eUEtLS0FBQWZmpk4O25bj\n",
       "x49nZGRIzvl/tlrOY2Rtc3JybPyv18Z2yQmTMUEtgC505MiRyMhIi4wk6ci60XZA\n",
       "kl92aQkNDbWojImJkXbz9AYgIAEA8D/79u1ra7S3nkPC0nXXXefo6GjjqhsAXZWR\n",
       "2k1HFw1IBQUF0hIREWFRuW7dOmm38WUUCEgAgJ7uqaeekoyUkZHRY3sgLCzMekg9\n",
       "AF3ICEXy4MMPP7Sdji4akPLz8y8akHRAcAISAQkAgDYVFhY6ODhMmDChZ25+dXW1\n",
       "s7Ozq6tru2dgAP7hjBQaGmpPOrpoQJLH0mIM+mJRaWOkbxCQAAD4z1yKW7ZsaW5u\n",
       "7pkBSbZdUiK7AXBJycnJkYC0YsWKvxeQqqqqpGXOnDkWAy2EhIRIO7/yBCQAAACg\n",
       "2zBuQ8rNzbUnI1kHpJaWloCAAGksKSkxGmtra318fLy9vW2PHAMCEgAAAHCpyM7O\n",
       "Nl9Z9/cGaRBr166VRnmv8SWSjtDAeJUEJAAAAKDbpKMOGeb7/IWpkHRa2KCgoLi4\n",
       "uAULFshjb29vrq8jIAEAAADdQ3x8fGNjo3W77YlidXYji4AkiouLFy1aNOu/goOD\n",
       "JYDRyQQkAAAAoOeqr68vLS2tq6ujKwhIAAAAAEBAAgAAAAACEgAAAAAQkAAAAACA\n",
       "gAQAAAAABCQAAAAAICABAAAAAAEJAAAAAAhIAAAAAEBAAgAAAAACEgAAAAAQkAAA\n",
       "AACAgAQAAAAABCQAAAAAICABAAAAAAEJAAAAAAhIAAAAAEBAAgAAAAACEgAAAAAQ\n",
       "kAAAAAAABCQAAAAAICABAAAAAAEJAAAAAAhIAAAAAEBAAgAAAAACEgAAAAAQkAAA\n",
       "AACAgAQAAAAABCQAAAAAICABAAAAQAf6N4bawZQ1qQ1bAAAAAElFTkSuQmCC\" style=\"clip-path:url(#clipPath2);\" height=\"840\" preserveAspectRatio=\"none\"\n",
       "    /></g\n",
       "  ></g\n",
       "></svg\n",
       ">\n"
      ]
     },
     "metadata": {
      "filenames": {
       "image/svg+xml": "/Users/eechris/Documents/code/src/github.com/cpjobling/eg-247-textbook/_build/jupyter_execute/dt_systems/4/dt_models_107_0.svg"
      }
     },
     "output_type": "display_data"
    }
   ],
   "source": [
    "step(Hz)"
   ]
  },
  {
   "cell_type": "markdown",
   "id": "1e8e05f2",
   "metadata": {
    "slideshow": {
     "slide_type": "subslide"
    }
   },
   "source": [
    "#### Algorithm\n",
    "\n",
    "From previous result:\n",
    "\n",
    "$$H(z) = \\frac{Y(z)}{U(z)} = \\frac{486.6\\times 10^{-6}z +  476.5\\times 10^{-6}}{z^2 - 1.956z + 0.9567}$$\n",
    "\n",
    "Dividing top and bottom by $z^2$ ..."
   ]
  },
  {
   "cell_type": "markdown",
   "id": "71add46a",
   "metadata": {
    "slideshow": {
     "slide_type": "fragment"
    }
   },
   "source": [
    "$$H(z) = \\frac{Y(z)}{U(z)} = \\frac{486.6\\times 10^{-6}z^{-1} +  476.5\\times 10^{-6}z^{-2}}{1 - 1.956z^{-1} + 0.9567z^{-2}}$$"
   ]
  },
  {
   "cell_type": "markdown",
   "id": "6a63e7ef",
   "metadata": {
    "slideshow": {
     "slide_type": "subslide"
    }
   },
   "source": [
    "expanding out ...\n",
    "\n",
    "$$\\begin{array}{l}\n",
    "Y(z) - 1.956{z^{ - 1}}Y(z) + 0.9567{z^{ - 2}}Y(z) = \\\\\n",
    "\\quad 486.6 \\times {10^{ - 6}}{z^{ - 1}}U(z) + 476.5 \\times {10^{ - 6}}{z^{ - 2}}U(z)\n",
    "\\end{array}$$"
   ]
  },
  {
   "cell_type": "markdown",
   "id": "da8fa6ce",
   "metadata": {
    "slideshow": {
     "slide_type": "subslide"
    }
   },
   "source": [
    "Inverse z-transform gives ...\n",
    "\n",
    "$$\\begin{array}{l}\n",
    "y[n] - 1.956y[n - 1] + 0.9567y[n - 2] = \\\\\n",
    "\\quad 486.6 \\times {10^{ - 6}}u[n - 1] + 476.5 \\times {10^{ - 6}}u[n - 2]\n",
    "\\end{array}$$"
   ]
  },
  {
   "cell_type": "markdown",
   "id": "58d5192f",
   "metadata": {
    "slideshow": {
     "slide_type": "fragment"
    }
   },
   "source": [
    "in algorithmic form (compute $y[n]$ from past values of $u$ and $y$) ...\n",
    "\n",
    "$$\\begin{array}{l}\n",
    "y[n] = 1.956y[n - 1] - 0.9567y[n - 2] + 486.6 \\times {10^{ - 6}}u[n - 1] + ...\\\\\n",
    "\\quad 476.5 \\times {10^{ - 6}}u[n - 2]\n",
    "\\end{array}$$"
   ]
  },
  {
   "cell_type": "markdown",
   "id": "01d2db77",
   "metadata": {
    "slideshow": {
     "slide_type": "subslide"
    }
   },
   "source": [
    "#### Block Diagram of the digital BW filter\n",
    "\n",
    "![digital filter](pictures/digifilter-bd.png)"
   ]
  },
  {
   "cell_type": "markdown",
   "id": "4b2dac4f",
   "metadata": {
    "slideshow": {
     "slide_type": "subslide"
    }
   },
   "source": [
    "#### As Simulink Model\n",
    "\n",
    "[digifilter.slx](https://cpjobling.github.io/eg-247-textbook/dt_systems/4/matlab/digifilter.slx)"
   ]
  },
  {
   "cell_type": "code",
   "execution_count": 23,
   "id": "c01f1b1b",
   "metadata": {
    "slideshow": {
     "slide_type": "fragment"
    }
   },
   "outputs": [],
   "source": [
    "open digifilter"
   ]
  },
  {
   "cell_type": "markdown",
   "id": "87d42d74",
   "metadata": {
    "slideshow": {
     "slide_type": "subslide"
    }
   },
   "source": [
    "#### Convert to code\n",
    "\n",
    "To implement:\n",
    "\n",
    "$$y[n] = 1.956 y[n-1] - 0.9567 y[n - 2] + 486.6\\times 10^{-6} u[n-1] + 476.5\\times 10^{-6} u[n-2]$$"
   ]
  },
  {
   "cell_type": "markdown",
   "id": "fb0eab65",
   "metadata": {
    "slideshow": {
     "slide_type": "subslide"
    }
   },
   "source": [
    "    /* Initialize */\n",
    "    Ts = 2.4933e-07; /* more probably some fraction of clock speed */\n",
    "    ynm1 = 0; ynm2 = 0; unm1 = 0; unm2 = 0;\n",
    "    while (true) {\n",
    "        un = read_adc;\n",
    "        yn = 1.956*ynm1 - 0.9567*ynm2 + 486.6e-6*unm1 + 476.5e-6*unm2;\n",
    "        write_dac(yn);\n",
    "        /* store past values */\n",
    "        ynm2 = ynm1; ynm1 = yn;\n",
    "        unm2 = unm1; unm1 = un;\n",
    "        wait(Ts);\n",
    "    }"
   ]
  },
  {
   "cell_type": "markdown",
   "id": "104a33c0",
   "metadata": {
    "slideshow": {
     "slide_type": "notes"
    }
   },
   "source": [
    "#### Comments\n",
    "\n",
    "PC soundcards can sample audio at 44.1 kHz so this implies that the anti-aliasing filter is much sharper than this one as $f_s/2 = 22.05$ kHz.\n",
    "\n",
    "You might wish to find out what order butterworth filter would be needed to have $f_c = 20$ kHz and $f_{\\mathrm{stop}}$ of 22.05 kHz."
   ]
  },
  {
   "cell_type": "markdown",
   "id": "af6e0ae5",
   "metadata": {
    "slideshow": {
     "slide_type": "slide"
    }
   },
   "source": [
    "## Summary\n",
    "\n",
    "* Discrete Time Systems\n",
    "* Transfer Functions in the Z-Domain\n",
    "* Modelling digital systems in MATLAB/Simulink\n",
    "* Continuous System Equivalents\n",
    "* In-class demonstration: Digital Butterworth Filter"
   ]
  },
  {
   "cell_type": "markdown",
   "id": "3019700f",
   "metadata": {},
   "source": [
    "## Reference\n",
    "\n",
    "```{bibliography}\n",
    ":filter: docname in docnames\n",
    "```"
   ]
  },
  {
   "cell_type": "markdown",
   "id": "74630383",
   "metadata": {
    "slideshow": {
     "slide_type": "notes"
    }
   },
   "source": [
    "## Solutions to Example 5"
   ]
  },
  {
   "cell_type": "markdown",
   "id": "ab1c87dd",
   "metadata": {
    "slideshow": {
     "slide_type": "notes"
    }
   },
   "source": [
    "### Solution to 5.1.\n",
    "\n",
    "The transfer function is\n",
    "\n",
    "$$H(z) = \\frac{Y(z)}{X(z)} = \\frac{z^2 + z}{z^2 - 0.5z + 0.125}$$"
   ]
  },
  {
   "cell_type": "markdown",
   "id": "a7e9bf59",
   "metadata": {
    "slideshow": {
     "slide_type": "notes"
    }
   },
   "source": [
    "### Solution to 5.2.\n",
    "\n",
    "The DT impulse response:\n",
    "\n",
    "$$h[n] = \\left( \\frac{\\sqrt 2}{4} \\right)^n{\\left( \\cos \\left( \\frac{n\\pi}{4} \\right) + 5\\sin \\left( \\frac{n\\pi}{4} \\right) \\right)}$$"
   ]
  },
  {
   "cell_type": "markdown",
   "id": "c5e064d8",
   "metadata": {
    "slideshow": {
     "slide_type": "notes"
    }
   },
   "source": [
    "### Solution to 5.3.\n",
    "\n",
    "Step response:\n",
    "\n",
    "$$y[n] = \\left(3.2 - \\left( \\frac{\\sqrt 2}{4} \\right)^n\\left( 2.2 \\cos \\left( \\frac{n\\pi}{4} \\right) + 0.6\\sin \\left(\\frac{n\\pi}{4} \\right) \\right)\\right) u_0[n]$$"
   ]
  }
 ],
 "metadata": {
  "jupytext": {
   "formats": "ipynb,md:myst",
   "text_representation": {
    "extension": ".md",
    "format_name": "myst",
    "format_version": 0.13,
    "jupytext_version": "1.11.5"
   }
  },
  "kernelspec": {
   "display_name": "MATLAB",
   "language": "matlab",
   "name": "imatlab"
  },
  "language_info": {
   "codemirror_mode": "octave",
   "file_extension": ".m",
   "mimetype": "text/x-matlab",
   "name": "matlab",
   "nbconvert_exporter": "imatlab._exporter.MatlabExporter",
   "pygments_lexer": "matlab",
   "version": "9.11.0.1769968 (R2021b)"
  },
  "source_map": [
   15,
   19,
   31,
   39,
   43,
   47,
   51,
   55,
   59,
   63,
   74,
   80,
   84,
   88,
   92,
   98,
   102,
   108,
   114,
   118,
   130,
   140,
   144,
   148,
   159,
   164,
   170,
   175,
   181,
   187,
   193,
   199,
   205,
   215,
   223,
   229,
   253,
   261,
   285,
   289,
   301,
   305,
   311,
   317,
   321,
   325,
   329,
   333,
   337,
   341,
   346,
   350,
   362,
   366,
   374,
   380,
   384,
   390,
   397,
   401,
   405,
   429,
   435,
   439,
   445,
   450,
   454,
   460,
   469,
   477,
   490,
   498,
   506,
   512,
   519,
   523,
   527,
   531,
   535,
   544,
   550,
   558,
   566,
   575,
   581,
   587,
   595,
   599,
   605,
   609,
   617,
   621,
   627,
   636,
   644,
   648,
   656,
   662,
   666,
   670,
   678,
   684,
   688,
   696,
   700,
   706,
   710,
   714,
   718,
   728,
   732,
   741,
   750,
   759,
   765,
   771,
   779,
   787,
   802,
   810,
   820,
   828,
   832,
   840,
   848
  ]
 },
 "nbformat": 4,
 "nbformat_minor": 5
}