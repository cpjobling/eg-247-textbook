{
 "cells": [
  {
   "cell_type": "markdown",
   "id": "105aa8b5",
   "metadata": {
    "slideshow": {
     "slide_type": "slide"
    }
   },
   "source": [
    "# Models of Discrete-Time Systems"
   ]
  },
  {
   "cell_type": "markdown",
   "id": "ce1124f1",
   "metadata": {
    "slideshow": {
     "slide_type": "skip"
    }
   },
   "source": [
    "## Colophon\n",
    "\n",
    "An annotatable worksheet for this presentation is available as [**Worksheet 17**](worksheet17).\n",
    "\n",
    "* The [Jupytext](https://jupytext.readthedocs.io/en/latest/index.html) source code for this page is [dt_systems/4/dt_models.md](https://github.com/cpjobling/eg-247-textbook/blob/master/dt_systems/4/dt_models.ipynb).\n",
    "\n",
    "* You can view the notes for this presentation as a webpage ([HTML](https://cpjobling.github.io/eg-247-textbook/dt_systems/4/dt_models.html)). \n",
    "\n",
    "* This page is downloadable as a [PDF](https://cpjobling.github.io/eg-247-textbook/dt_systems/4/dt_models.pdf) file."
   ]
  },
  {
   "cell_type": "markdown",
   "id": "6db02ebd",
   "metadata": {
    "slideshow": {
     "slide_type": "slide"
    }
   },
   "source": [
    "## Scope and Background Reading\n",
    "\n",
    "In this section we will explore digital systems and learn more about the z-transfer function model.\n",
    "\n",
    "The material in this presentation and notes is based on Chapter 9 (Starting at [Section 9.7](https://ebookcentral.proquest.com/lib/swansea-ebooks/reader.action?docID=3384197&ppg=363)) of {cite}`karris`. I have skipped the section on digital state-space models."
   ]
  },
  {
   "cell_type": "markdown",
   "id": "0006c7f0",
   "metadata": {
    "slideshow": {
     "slide_type": "slide"
    }
   },
   "source": [
    "## Agenda"
   ]
  },
  {
   "cell_type": "markdown",
   "id": "2d2f9709",
   "metadata": {
    "slideshow": {
     "slide_type": "fragment"
    }
   },
   "source": [
    "* [Discrete Time Systems](dtsystems)"
   ]
  },
  {
   "cell_type": "markdown",
   "id": "ebb7e5d6",
   "metadata": {
    "slideshow": {
     "slide_type": "fragment"
    }
   },
   "source": [
    "* [Transfer Functions in the Z-Domain](tf)"
   ]
  },
  {
   "cell_type": "markdown",
   "id": "4eb465a3",
   "metadata": {
    "slideshow": {
     "slide_type": "fragment"
    }
   },
   "source": [
    "* [Modelling digital systems in Matlab/Simulink](simulink)"
   ]
  },
  {
   "cell_type": "markdown",
   "id": "54a9aa6f",
   "metadata": {
    "slideshow": {
     "slide_type": "fragment"
    }
   },
   "source": [
    "* [Converting Continuous Time Systems to Discrete Time Systems](cse)"
   ]
  },
  {
   "cell_type": "markdown",
   "id": "18c2fa46",
   "metadata": {
    "slideshow": {
     "slide_type": "fragment"
    }
   },
   "source": [
    "* [Example: Digital Butterworth Filter](demo)"
   ]
  },
  {
   "cell_type": "markdown",
   "id": "379538ae",
   "metadata": {
    "slideshow": {
     "slide_type": "slide"
    }
   },
   "source": [
    "(dtsystems)=\n",
    "## Discrete Time Systems\n",
    "\n",
    "In the lecture that introduced the z-transform we talked about the representation of a discrete-time (DT) system by the model shown below:\n",
    "\n",
    "![DT System](./pictures/ct-to-dt.png)\n",
    "\n",
    "In this session, we want to explore the contents of the central block."
   ]
  },
  {
   "cell_type": "markdown",
   "id": "1a5fb607",
   "metadata": {
    "slideshow": {
     "slide_type": "subslide"
    }
   },
   "source": [
    "### DT System as a Sequence Processor\n",
    "\n",
    "* As noted in the previous slide, the discrete time system (DTS) `takes as an input the sequence $x_d[n]$<sup>1</sup> which in a physical signal would be obtained by sampling the continuous time signal $x(t)$ using an analogue to digital converter (ADC)."
   ]
  },
  {
   "cell_type": "markdown",
   "id": "6a1a9bae",
   "metadata": {
    "slideshow": {
     "slide_type": "fragment"
    }
   },
   "source": [
    "* It produces another sequence $y_d[n]$ by *processing* the input sequence in some way."
   ]
  },
  {
   "cell_type": "markdown",
   "id": "2cc32697",
   "metadata": {
    "slideshow": {
     "slide_type": "fragment"
    }
   },
   "source": [
    "* The output sequence is converted into an analogue signal $y(t)$ by a digital to analogue converter (DAC)."
   ]
  },
  {
   "cell_type": "markdown",
   "id": "fd1d7687",
   "metadata": {
    "slideshow": {
     "slide_type": "fragment"
    }
   },
   "source": [
    "![DT System as a Sequence Processor](./pictures/sigs.png)"
   ]
  },
  {
   "cell_type": "markdown",
   "id": "07183abf",
   "metadata": {
    "slideshow": {
     "slide_type": "subslide"
    }
   },
   "source": [
    "### What is the nature of the DTS?\n",
    "\n",
    "* The discrete time system (DTS) is a block that converts a sequence $x_d[n]$ into another sequence $y_d[n]$"
   ]
  },
  {
   "cell_type": "markdown",
   "id": "c7adbfe5",
   "metadata": {
    "slideshow": {
     "slide_type": "fragment"
    }
   },
   "source": [
    "* The transformation will be a *difference equation* $h[n]$"
   ]
  },
  {
   "cell_type": "markdown",
   "id": "ed8d719d",
   "metadata": {
    "slideshow": {
     "slide_type": "fragment"
    }
   },
   "source": [
    "* By analogy with CT systems, $h[n]$ is the impulse response of the DTS, and $y[n]$ can be obtained by *convolving* $h[n]$ with $x_d[n]$ so:\n",
    "\n",
    "$$y_d[n] = h[n] * x_d[n]$$"
   ]
  },
  {
   "cell_type": "markdown",
   "id": "3b2f2b8c",
   "metadata": {
    "slideshow": {
     "slide_type": "subslide"
    }
   },
   "source": [
    "* Taking the z-transform of $h[n]$ we get $H(z)$, and from the transform properties, convolution of the signal $x_d[n]$ by system $h[n]$ will be *multiplication* of the z-transforms:\n",
    "\n",
    "$$Y_d(z) = H(z) X_d(z)$$"
   ]
  },
  {
   "cell_type": "markdown",
   "id": "8be1ac9b",
   "metadata": {
    "slideshow": {
     "slide_type": "fragment"
    }
   },
   "source": [
    "* So, what does $h[n]$ and therefore $H(z)$ look like?"
   ]
  },
  {
   "cell_type": "markdown",
   "id": "f07240c0",
   "metadata": {
    "slideshow": {
     "slide_type": "slide"
    }
   },
   "source": [
    "(tf)=\n",
    "## Transfer Functions in the Z-Domain\n",
    "\n",
    "Let us assume that the sequence transformation is a *difference equation* of the form<sup>2</sup>:\n",
    "\n",
    "$$\\begin{array}{l}\n",
    "y[n] + {a_1}y[n - 1] + {a_2}y[n - 2] +  \\cdots  + {a_k}y[n - k]\\\\\n",
    "\\quad  = {b_0}x[n] + {b_1}u[n - 1] + {b_2}u[n - 2] +  \\cdots  + {b_k}u[n - k]\n",
    "\\end{array}$$"
   ]
  },
  {
   "cell_type": "markdown",
   "id": "3527f254",
   "metadata": {
    "slideshow": {
     "slide_type": "subslide"
    }
   },
   "source": [
    "### Take Z-Transform of both sides\n",
    "\n",
    "From the z-transform properties\n",
    "\n",
    "$$f[n-m] \\Leftrightarrow z^{-m}F(z)$$\n",
    "\n",
    "so...."
   ]
  },
  {
   "cell_type": "markdown",
   "id": "87fb26b0",
   "metadata": {
    "slideshow": {
     "slide_type": "fragment"
    }
   },
   "source": [
    "$$Y(z) + a_1z^{-1}Y(z) + a_2z^{-2}Y(z) + \\cdots + a_kz^{-k}Y(z) = ...$$"
   ]
  },
  {
   "cell_type": "markdown",
   "id": "b7698c3a",
   "metadata": {
    "slideshow": {
     "slide_type": "fragment"
    }
   },
   "source": [
    "$$b_0 U(z) + b_1z^{-1}U(z) + b_2z^{-2}U(z) + \\cdots + b_kz^{-k}U(z)$$"
   ]
  },
  {
   "cell_type": "markdown",
   "id": "826061b4",
   "metadata": {
    "slideshow": {
     "slide_type": "subslide"
    }
   },
   "source": [
    "### Gather terms\n",
    "\n",
    "$$\\begin{array}{l}\n",
    "\\left( 1 + {a_1} z^{-1} + {a_2} z^{-2} +  \\cdots {a_k} z^{-k} \\right)Y(z) = \\\\\n",
    "\\quad \\left( b_0 + b_1 z^{-1} + b_2 z^{- 2} +  \\cdots b_k z^{- k} \\right)U(z)\n",
    "\\end{array}$$\n",
    "\n",
    "from which ..."
   ]
  },
  {
   "cell_type": "markdown",
   "id": "ef092925",
   "metadata": {
    "slideshow": {
     "slide_type": "fragment"
    }
   },
   "source": [
    "$$Y(z) = \\left(\\frac{b_0 + b_{1}z^{-1} + b_{2}z^{-2} + \\cdots b_{k}z^{-k}}{1 + a_{1}z^{-1} + a_{2}z^{-2} + \\cdots a_{k}z^{-k}\n",
    "}\\right) U(z)$$"
   ]
  },
  {
   "cell_type": "markdown",
   "id": "fc506a8f",
   "metadata": {
    "slideshow": {
     "slide_type": "subslide"
    }
   },
   "source": [
    "### Define the transfer function\n",
    "\n",
    "We define the *discrete time transfer function* $H(z) := Y(z)/U(z)$ so..."
   ]
  },
  {
   "cell_type": "markdown",
   "id": "9ff4d692",
   "metadata": {
    "slideshow": {
     "slide_type": "fragment"
    }
   },
   "source": [
    "$$H(z) = \\frac{Y(z)}{U(z)} = \\frac{b_0 + b_{1}z^{-1} + b_{2}z^{-2} + \\cdots b_{k}z^{-k}}{1 + a_{1}z^{-1} + a_{2}z^{-2} + \\cdots a_{k}z^{-k}\n",
    "}$$"
   ]
  },
  {
   "cell_type": "markdown",
   "id": "327e2b65",
   "metadata": {
    "slideshow": {
     "slide_type": "fragment"
    }
   },
   "source": [
    "... or more conventionally<sup>3</sup>:\n",
    "\n",
    "$$H(z) = \\frac{b_0z^k + b_{1}z^{k-1} + b_{2}z^{k-2} + \\cdots b_{k-1}z + b_{k}}{z^k + a_{1}z^{k-1} + a_{2}z^{k-2} + \\cdots a_{k-1} z + a_{k}}$$"
   ]
  },
  {
   "cell_type": "markdown",
   "id": "c8670d60",
   "metadata": {
    "slideshow": {
     "slide_type": "subslide"
    }
   },
   "source": [
    "### DT impulse response\n",
    "\n",
    "The *discrete-time impulse reponse* $h[n]$ is the response of the DT system to the input $x[n] = \\delta[n]$"
   ]
  },
  {
   "cell_type": "markdown",
   "id": "499fb363",
   "metadata": {
    "slideshow": {
     "slide_type": "fragment"
    }
   },
   "source": [
    "Last week we showed that \n",
    "\n",
    "$$\\mathcal{Z}\\left\\{\\delta[n]\\right\\}$$\n",
    "\n",
    "was defined by the transform pair \n",
    "\n",
    "$$\\delta[n] \\Leftrightarrow 1$$"
   ]
  },
  {
   "cell_type": "markdown",
   "id": "7f758372",
   "metadata": {
    "slideshow": {
     "slide_type": "subslide"
    }
   },
   "source": [
    "so \n",
    "\n",
    "$$h[n] = \\mathcal{Z}^{-1}\\left\\{H(z).1\\right\\} = \\mathcal{Z}^{-1}\\left\\{H(z)\\right\\}$$"
   ]
  },
  {
   "cell_type": "markdown",
   "id": "d19c08f9",
   "metadata": {
    "slideshow": {
     "slide_type": "subslide"
    }
   },
   "source": [
    "We will work through an example in class.\n",
    "\n",
    "[Skip next slide in Pre-Lecture]"
   ]
  },
  {
   "cell_type": "markdown",
   "id": "8527e1e3",
   "metadata": {
    "slideshow": {
     "slide_type": "subslide"
    }
   },
   "source": [
    "### Example 5\n",
    "\n",
    "Karris Example 9.10:\n",
    "\n",
    "The difference equation describing the input-output relationship of a DT system with zero initial conditions, is:\n",
    "\n",
    "$$y[n] - 0.5 y[n-1] + 0.125 y[n-2] = x[n] + x[n -1]$$"
   ]
  },
  {
   "cell_type": "markdown",
   "id": "4b9a14d2",
   "metadata": {
    "slideshow": {
     "slide_type": "subslide"
    }
   },
   "source": [
    "Compute:\n",
    "\n",
    "1. The transfer function $H(z)$\n",
    "2. The DT impulse response $h[n]$\n",
    "3. The response $y[n]$ when the input $x[n]$ is the DT unit step $u_0[n]$"
   ]
  },
  {
   "cell_type": "markdown",
   "id": "5a60cb73",
   "metadata": {
    "slideshow": {
     "slide_type": "subslide"
    }
   },
   "source": [
    "#### 5.1. The transfer function\n",
    "\n",
    "$$H(z) = \\frac{Y(z)}{U(z)} = ...?$$"
   ]
  },
  {
   "cell_type": "markdown",
   "id": "39e5d8d3",
   "metadata": {
    "slideshow": {
     "slide_type": "notes"
    }
   },
   "source": [
    "<pre style=\"border: 2px solid blue\">\n",
    "\n",
    "\n",
    "\n",
    "\n",
    "\n",
    "\n",
    "\n",
    "\n",
    "\n",
    "\n",
    "\n",
    "\n",
    "\n",
    "\n",
    "\n",
    "\n",
    "\n",
    "\n",
    "\n",
    "</pre>"
   ]
  },
  {
   "cell_type": "markdown",
   "id": "e4db2023",
   "metadata": {
    "slideshow": {
     "slide_type": "subslide"
    }
   },
   "source": [
    "#### 5.2. The DT impulse response\n",
    "\n",
    "Start with:\n",
    "\n",
    "$$\\frac{H(z)}{z} = \\frac{z + 1}{z^2 - 0.5 z + 0.125}$$"
   ]
  },
  {
   "cell_type": "markdown",
   "id": "803fcf34",
   "metadata": {
    "slideshow": {
     "slide_type": "notes"
    }
   },
   "source": [
    "<pre style=\"border: 2px solid blue\">\n",
    "\n",
    "\n",
    "\n",
    "\n",
    "\n",
    "\n",
    "\n",
    "\n",
    "\n",
    "\n",
    "\n",
    "\n",
    "\n",
    "\n",
    "\n",
    "\n",
    "\n",
    "\n",
    "\n",
    "</pre>"
   ]
  },
  {
   "cell_type": "markdown",
   "id": "0cd5c0a9",
   "metadata": {
    "slideshow": {
     "slide_type": "subslide"
    }
   },
   "source": [
    "##### Matlab Solution"
   ]
  },
  {
   "cell_type": "code",
   "execution_count": 1,
   "id": "9f3ef528",
   "metadata": {
    "slideshow": {
     "slide_type": "skip"
    }
   },
   "outputs": [
    {
     "name": "stdout",
     "output_type": "stream",
     "text": [
      "ans =\n",
      "    '/Users/eechris/code/src/github.com/cpjobling/eg-247-textbook/dt_systems/4/matlab'\n"
     ]
    }
   ],
   "source": [
    "clear all\n",
    "imatlab_export_fig('print-svg')  % Static svg figures.\n",
    "cd matlab\n",
    "pwd\n",
    "format compact"
   ]
  },
  {
   "cell_type": "markdown",
   "id": "91b8e0bb",
   "metadata": {
    "slideshow": {
     "slide_type": "fragment"
    }
   },
   "source": [
    "See [dtm_ex1_2.mlx](https://cpjobling.github.io/eg-247-textbook/dt_systems/4/matlab/dtm_ex1_2.mlx). (Also available as [dtm_ex1_2.m](https://cpjobling.github.io/eg-247-textbook/dt_systems/4/matlab/dtm_ex1_2.m).)"
   ]
  },
  {
   "cell_type": "markdown",
   "id": "7820f6fd",
   "metadata": {
    "slideshow": {
     "slide_type": "subslide"
    }
   },
   "source": [
    "The difference equation describing the input-output relationship of the DT system with zero initial conditions, is:\n",
    "\n",
    "$$y[n] - 0.5 y[n-1] + 0.125 y[n-2] = x[n] + x[n -1]$$"
   ]
  },
  {
   "cell_type": "markdown",
   "id": "c0d2e0cb",
   "metadata": {
    "slideshow": {
     "slide_type": "subslide"
    }
   },
   "source": [
    "###### Transfer function\n",
    "\n",
    "Numerator $z^2 + z$"
   ]
  },
  {
   "cell_type": "code",
   "execution_count": 2,
   "id": "12776b80",
   "metadata": {},
   "outputs": [],
   "source": [
    "Nz = [1 1 0];"
   ]
  },
  {
   "cell_type": "markdown",
   "id": "73b3ec90",
   "metadata": {
    "slideshow": {
     "slide_type": "fragment"
    }
   },
   "source": [
    "Denominator $z^2 - 0.5 z + 0.125$"
   ]
  },
  {
   "cell_type": "code",
   "execution_count": 3,
   "id": "ec64a94e",
   "metadata": {},
   "outputs": [],
   "source": [
    "Dz = [1 -0.5 0.125];"
   ]
  },
  {
   "cell_type": "markdown",
   "id": "12b2db8d",
   "metadata": {
    "slideshow": {
     "slide_type": "subslide"
    }
   },
   "source": [
    "###### Poles and residues"
   ]
  },
  {
   "cell_type": "code",
   "execution_count": 4,
   "id": "9b1a442e",
   "metadata": {},
   "outputs": [
    {
     "name": "stdout",
     "output_type": "stream",
     "text": [
      "r =\n",
      "   0.7500 - 0.5000i\n",
      "   0.7500 + 0.5000i\n"
     ]
    },
    {
     "name": "stdout",
     "output_type": "stream",
     "text": [
      "p =\n",
      "   0.2500 + 0.2500i\n",
      "   0.2500 - 0.2500i\n"
     ]
    },
    {
     "name": "stdout",
     "output_type": "stream",
     "text": [
      "k =\n",
      "     1\n"
     ]
    }
   ],
   "source": [
    "[r,p,k] = residue(Nz,Dz)"
   ]
  },
  {
   "cell_type": "markdown",
   "id": "25ad2a2e",
   "metadata": {
    "slideshow": {
     "slide_type": "subslide"
    }
   },
   "source": [
    "###### Impulse Response"
   ]
  },
  {
   "cell_type": "code",
   "execution_count": 5,
   "id": "d53ce1df",
   "metadata": {},
   "outputs": [
    {
     "name": "stdout",
     "output_type": "stream",
     "text": [
      "\n",
      "Hz =\n"
     ]
    },
    {
     "name": "stdout",
     "output_type": "stream",
     "text": [
      " \n"
     ]
    },
    {
     "name": "stdout",
     "output_type": "stream",
     "text": [
      "        z^2 + z\n"
     ]
    },
    {
     "name": "stdout",
     "output_type": "stream",
     "text": [
      "  -------------------\n"
     ]
    },
    {
     "name": "stdout",
     "output_type": "stream",
     "text": [
      "  z^2 - 0.5 z + 0.125\n"
     ]
    },
    {
     "name": "stdout",
     "output_type": "stream",
     "text": [
      " \n"
     ]
    },
    {
     "name": "stdout",
     "output_type": "stream",
     "text": [
      "Sample time: 1 seconds\n"
     ]
    },
    {
     "name": "stdout",
     "output_type": "stream",
     "text": [
      "Discrete-time transfer function.\n",
      "\n"
     ]
    }
   ],
   "source": [
    "Hz = tf(Nz,Dz,1)\n",
    "hn = impulse(Hz, 15);"
   ]
  },
  {
   "cell_type": "markdown",
   "id": "3301e97b",
   "metadata": {
    "slideshow": {
     "slide_type": "subslide"
    }
   },
   "source": [
    "###### Plot the response"
   ]
  },
  {
   "cell_type": "code",
   "execution_count": 6,
   "id": "f592167f",
   "metadata": {
    "slideshow": {
     "slide_type": "-"
    }
   },
   "outputs": [
    {
     "data": {
      "image/svg+xml": [
       "<?xml version=\"1.0\"?>\n",
       "<!DOCTYPE svg PUBLIC '-//W3C//DTD SVG 1.0//EN'\n",
       "          'http://www.w3.org/TR/2001/REC-SVG-20010904/DTD/svg10.dtd'>\n",
       "<svg xmlns:xlink=\"http://www.w3.org/1999/xlink\" style=\"fill-opacity:1; color-rendering:auto; color-interpolation:auto; text-rendering:auto; stroke:black; stroke-linecap:square; stroke-miterlimit:10; shape-rendering:auto; stroke-opacity:1; fill:black; stroke-dasharray:none; font-weight:normal; stroke-width:1; font-family:'Dialog'; font-style:normal; stroke-linejoin:miter; font-size:12px; stroke-dashoffset:0; image-rendering:auto;\" width=\"560\" height=\"420\" xmlns=\"http://www.w3.org/2000/svg\"\n",
       "><!--Generated by the Batik Graphics2D SVG Generator--><defs id=\"genericDefs\"\n",
       "  /><g\n",
       "  ><defs id=\"defs1\"\n",
       "    ><clipPath clipPathUnits=\"userSpaceOnUse\" id=\"clipPath1\"\n",
       "      ><path d=\"M0 0 L560 0 L560 420 L0 420 L0 0 Z\"\n",
       "      /></clipPath\n",
       "      ><font horiz-adv-x=\"50.0\" id=\"font1\"\n",
       "      ><font-face ascent=\"95.200005\" descent=\"21.3\" units-per-em=\"100\" style=\"font-style:normal; font-family:Helvetica Neue; font-weight:normal;\"\n",
       "        /><missing-glyph horiz-adv-x=\"50.0\" d=\"M40.9 66.6 L10.2 66.6 L10.2 4.7 L40.9 4.7 ZM46 71.2 L46 0.1 L5.1 0.1 L5.1 71.2 Z\"\n",
       "        /><glyph unicode=\"2\" horiz-adv-x=\"55.6\" d=\"M4.4 45.8 L12.9 45.8 Q12.8 49 13.55 52.15 Q14.3 55.3 16 57.8 Q17.7 60.3 20.35 61.85 Q23 63.4 26.7 63.4 Q29.5 63.4 32 62.5 Q34.5 61.6 36.35 59.9 Q38.2 58.2 39.3 55.85 Q40.4 53.5 40.4 50.6 Q40.4 46.9 39.25 44.1 Q38.1 41.3 35.85 38.9 Q33.6 36.5 30.2 34.15 Q26.8 31.8 22.3 29 Q18.6 26.8 15.2 24.3 Q11.8 21.8 9.1 18.5 Q6.4 15.2 4.65 10.75 Q2.9 6.3 2.4 0 L48.7 0 L48.7 7.5 L12.3 7.5 Q12.9 10.8 14.85 13.35 Q16.8 15.9 19.55 18.1 Q22.3 20.3 25.6 22.25 Q28.9 24.2 32.2 26.2 Q35.5 28.3 38.6 30.6 Q41.7 32.9 44.1 35.75 Q46.5 38.6 47.95 42.2 Q49.4 45.8 49.4 50.5 Q49.4 55.5 47.65 59.3 Q45.9 63.1 42.9 65.65 Q39.9 68.2 35.85 69.55 Q31.8 70.9 27.2 70.9 Q21.6 70.9 17.2 69 Q12.8 67.1 9.85 63.75 Q6.9 60.4 5.5 55.8 Q4.1 51.2 4.4 45.8 Z\"\n",
       "        /><glyph unicode=\".\" horiz-adv-x=\"27.8\" d=\"M8.3 11.1 L8.3 0 L19.4 0 L19.4 11.1 Z\"\n",
       "        /><glyph unicode=\"0\" horiz-adv-x=\"55.6\" d=\"M13.2 34.9 Q13.2 37.5 13.25 40.65 Q13.3 43.8 13.75 46.95 Q14.2 50.1 15.05 53.1 Q15.9 56.1 17.55 58.35 Q19.2 60.6 21.7 62 Q24.2 63.4 27.8 63.4 Q31.4 63.4 33.9 62 Q36.4 60.6 38.05 58.35 Q39.7 56.1 40.55 53.1 Q41.4 50.1 41.85 46.95 Q42.3 43.8 42.35 40.65 Q42.4 37.5 42.4 34.9 Q42.4 30.9 42.15 25.95 Q41.9 21 40.55 16.65 Q39.2 12.3 36.2 9.3 Q33.2 6.3 27.8 6.3 Q22.4 6.3 19.4 9.3 Q16.4 12.3 15.05 16.65 Q13.7 21 13.45 25.95 Q13.2 30.9 13.2 34.9 ZM4.2 34.8 Q4.2 30.9 4.4 26.7 Q4.6 22.5 5.4 18.5 Q6.2 14.5 7.7 10.95 Q9.2 7.4 11.8 4.7 Q14.4 2 18.35 0.45 Q22.3 -1.1 27.8 -1.1 Q33.4 -1.1 37.3 0.45 Q41.2 2 43.8 4.7 Q46.4 7.4 47.9 10.95 Q49.4 14.5 50.2 18.5 Q51 22.5 51.2 26.7 Q51.4 30.9 51.4 34.8 Q51.4 38.7 51.2 42.9 Q51 47.1 50.2 51.1 Q49.4 55.1 47.9 58.7 Q46.4 62.3 43.8 65 Q41.2 67.7 37.25 69.3 Q33.3 70.9 27.8 70.9 Q22.3 70.9 18.35 69.3 Q14.4 67.7 11.8 65 Q9.2 62.3 7.7 58.7 Q6.2 55.1 5.4 51.1 Q4.6 47.1 4.4 42.9 Q4.2 38.7 4.2 34.8 Z\"\n",
       "        /><glyph unicode=\"-\" horiz-adv-x=\"38.9\" d=\"M5 31.8 L5 23.8 L33.9 23.8 L33.9 31.8 Z\"\n",
       "        /><glyph unicode=\"4\" horiz-adv-x=\"55.6\" d=\"M33.9 24.1 L10.1 24.1 L33.7 58.8 L33.9 58.8 ZM41.9 24.1 L41.9 70.9 L35.1 70.9 L2.8 24.8 L2.8 16.6 L33.9 16.6 L33.9 0 L41.9 0 L41.9 16.6 L51.5 16.6 L51.5 24.1 Z\"\n",
       "        /><glyph unicode=\"6\" horiz-adv-x=\"55.6\" d=\"M41.4 52.8 L49.9 52.8 Q49.1 61.6 43.9 66.25 Q38.7 70.9 29.9 70.9 Q22.3 70.9 17.3 67.7 Q12.3 64.5 9.3 59.2 Q6.3 53.9 5.05 47.05 Q3.8 40.2 3.8 32.9 Q3.8 27.3 4.65 21.3 Q5.5 15.3 8.1 10.3 Q10.7 5.3 15.5 2.1 Q20.3 -1.1 28.2 -1.1 Q34.9 -1.1 39.45 1.15 Q44 3.4 46.75 6.85 Q49.5 10.3 50.7 14.5 Q51.9 18.7 51.9 22.6 Q51.9 27.5 50.4 31.7 Q48.9 35.9 46.15 39 Q43.4 42.1 39.35 43.85 Q35.3 45.6 30.2 45.6 Q24.4 45.6 19.95 43.4 Q15.5 41.2 12.5 36.3 L12.3 36.5 Q12.4 40.6 13.1 45.3 Q13.8 50 15.65 54.05 Q17.5 58.1 20.8 60.75 Q24.1 63.4 29.5 63.4 Q34.6 63.4 37.7 60.5 Q40.8 57.6 41.4 52.8 ZM28.6 38.1 Q32.2 38.1 34.9 36.8 Q37.6 35.5 39.4 33.35 Q41.2 31.2 42.05 28.25 Q42.9 25.3 42.9 22 Q42.9 18.9 41.95 16.05 Q41 13.2 39.2 11 Q37.4 8.8 34.75 7.55 Q32.1 6.3 28.6 6.3 Q25.1 6.3 22.35 7.55 Q19.6 8.8 17.75 10.9 Q15.9 13 14.9 15.9 Q13.9 18.8 13.9 22.1 Q13.9 25.4 14.85 28.35 Q15.8 31.3 17.7 33.45 Q19.6 35.6 22.3 36.85 Q25 38.1 28.6 38.1 Z\"\n",
       "        /><glyph unicode=\"8\" horiz-adv-x=\"55.6\" d=\"M15.5 52.5 Q15.5 55.2 16.5 57.2 Q17.5 59.2 19.15 60.6 Q20.8 62 23.1 62.7 Q25.4 63.4 27.9 63.4 Q33.1 63.4 36.45 60.65 Q39.8 57.9 39.8 52.5 Q39.8 47.1 36.5 44.1 Q33.2 41.1 28.1 41.1 Q25.5 41.1 23.2 41.8 Q20.9 42.5 19.2 43.9 Q17.5 45.3 16.5 47.45 Q15.5 49.6 15.5 52.5 ZM6.5 52.8 Q6.5 48 9.2 43.95 Q11.9 39.9 16.4 38.1 Q10.4 36 7.2 31.35 Q4 26.7 4 20.4 Q4 15 5.85 10.95 Q7.7 6.9 10.95 4.2 Q14.2 1.5 18.6 0.2 Q23 -1.1 28.1 -1.1 Q33 -1.1 37.3 0.3 Q41.6 1.7 44.75 4.45 Q47.9 7.2 49.75 11.2 Q51.6 15.2 51.6 20.4 Q51.6 27 48.5 31.55 Q45.4 36.1 39 38.1 Q43.5 40.1 46.15 44.05 Q48.8 48 48.8 52.8 Q48.8 56.2 47.6 59.45 Q46.4 62.7 43.85 65.25 Q41.3 67.8 37.2 69.35 Q33.1 70.9 27.3 70.9 Q23.2 70.9 19.45 69.7 Q15.7 68.5 12.8 66.2 Q9.9 63.9 8.2 60.55 Q6.5 57.2 6.5 52.8 ZM13 20 Q13 23.1 14.15 25.6 Q15.3 28.1 17.35 29.9 Q19.4 31.7 22.15 32.65 Q24.9 33.6 28 33.6 Q31 33.6 33.65 32.55 Q36.3 31.5 38.3 29.7 Q40.3 27.9 41.45 25.45 Q42.6 23 42.6 20.1 Q42.6 17.1 41.55 14.6 Q40.5 12.1 38.55 10.25 Q36.6 8.4 33.95 7.35 Q31.3 6.3 28.1 6.3 Q21.5 6.3 17.25 9.95 Q13 13.6 13 20 Z\"\n",
       "        /><glyph unicode=\"1\" horiz-adv-x=\"55.6\" d=\"M35.6 0 L35.6 70.9 L29.1 70.9 Q28.4 66.9 26.5 64.3 Q24.6 61.7 21.85 60.2 Q19.1 58.7 15.7 58.15 Q12.3 57.6 8.7 57.6 L8.7 50.8 L27.1 50.8 L27.1 0 Z\"\n",
       "        /><glyph unicode=\"]\" horiz-adv-x=\"25.9\" d=\"M0 -12.9 L0 -19.7 L18.7 -19.7 L18.7 73.1 L0 73.1 L0 66.3 L10.7 66.3 L10.7 -12.9 Z\"\n",
       "        /><glyph unicode=\"[\" horiz-adv-x=\"25.9\" d=\"M25.9 66.3 L25.9 73.1 L7.2 73.1 L7.2 -19.7 L25.9 -19.7 L25.9 -12.9 L15.2 -12.9 L15.2 66.3 Z\"\n",
       "        /><glyph unicode=\"h\" horiz-adv-x=\"55.6\" d=\"M6.4 71.4 L6.4 0 L14.9 0 L14.9 29.2 Q14.9 32.7 15.85 35.65 Q16.8 38.6 18.7 40.8 Q20.6 43 23.45 44.2 Q26.3 45.4 30.2 45.4 Q35.1 45.4 37.9 42.6 Q40.7 39.8 40.7 35 L40.7 0 L49.2 0 L49.2 34 Q49.2 38.2 48.35 41.65 Q47.5 45.1 45.4 47.6 Q43.3 50.1 39.9 51.5 Q36.5 52.9 31.4 52.9 Q29.1 52.9 26.65 52.4 Q24.2 51.9 21.95 50.85 Q19.7 49.8 17.9 48.15 Q16.1 46.5 15.1 44.1 L14.9 44.1 L14.9 71.4 Z\"\n",
       "        /><glyph unicode=\"n\" horiz-adv-x=\"55.6\" d=\"M6.4 51.7 L6.4 0 L14.9 0 L14.9 29.2 Q14.9 32.7 15.85 35.65 Q16.8 38.6 18.7 40.8 Q20.6 43 23.45 44.2 Q26.3 45.4 30.2 45.4 Q35.1 45.4 37.9 42.6 Q40.7 39.8 40.7 35 L40.7 0 L49.2 0 L49.2 34 Q49.2 38.2 48.35 41.65 Q47.5 45.1 45.4 47.6 Q43.3 50.1 39.9 51.5 Q36.5 52.9 31.4 52.9 Q19.9 52.9 14.6 43.5 L14.4 43.5 L14.4 51.7 Z\"\n",
       "        /><glyph unicode=\"o\" horiz-adv-x=\"57.4\" d=\"M12.6 25.8 Q12.6 30.5 13.85 34.15 Q15.1 37.8 17.3 40.3 Q19.5 42.8 22.45 44.1 Q25.4 45.4 28.7 45.4 Q32 45.4 34.95 44.1 Q37.9 42.8 40.1 40.3 Q42.3 37.8 43.55 34.15 Q44.8 30.5 44.8 25.8 Q44.8 21.1 43.55 17.45 Q42.3 13.8 40.1 11.35 Q37.9 8.9 34.95 7.6 Q32 6.3 28.7 6.3 Q25.4 6.3 22.45 7.6 Q19.5 8.9 17.3 11.35 Q15.1 13.8 13.85 17.45 Q12.6 21.1 12.6 25.8 ZM3.6 25.8 Q3.6 20.1 5.2 15.2 Q6.8 10.3 10 6.65 Q13.2 3 17.9 0.95 Q22.6 -1.1 28.7 -1.1 Q34.9 -1.1 39.55 0.95 Q44.2 3 47.4 6.65 Q50.6 10.3 52.2 15.2 Q53.8 20.1 53.8 25.8 Q53.8 31.5 52.2 36.45 Q50.6 41.4 47.4 45.05 Q44.2 48.7 39.55 50.8 Q34.9 52.9 28.7 52.9 Q22.6 52.9 17.9 50.8 Q13.2 48.7 10 45.05 Q6.8 41.4 5.2 36.45 Q3.6 31.5 3.6 25.8 Z\"\n",
       "        /><glyph unicode=\"r\" horiz-adv-x=\"33.3\" d=\"M6.1 51.7 L6.1 0 L14.6 0 L14.6 23 Q14.6 28 15.6 31.85 Q16.6 35.7 18.8 38.4 Q21 41.1 24.6 42.5 Q28.2 43.9 33.3 43.9 L33.3 52.9 Q26.4 53.1 21.9 50.1 Q17.4 47.1 14.3 40.8 L14.1 40.8 L14.1 51.7 Z\"\n",
       "        /><glyph unicode=\" \" horiz-adv-x=\"27.8\" d=\"\"\n",
       "        /><glyph unicode=\"e\" horiz-adv-x=\"53.7\" d=\"M42.3 30.8 L12.6 30.8 Q12.8 33.8 13.9 36.45 Q15 39.1 16.9 41.1 Q18.8 43.1 21.45 44.25 Q24.1 45.4 27.4 45.4 Q30.6 45.4 33.25 44.25 Q35.9 43.1 37.85 41.15 Q39.8 39.2 40.95 36.5 Q42.1 33.8 42.3 30.8 ZM50.5 16.4 L42.1 16.4 Q41 11.3 37.55 8.8 Q34.1 6.3 28.7 6.3 Q24.5 6.3 21.4 7.7 Q18.3 9.1 16.3 11.45 Q14.3 13.8 13.4 16.85 Q12.5 19.9 12.6 23.3 L51.3 23.3 Q51.5 28 50.45 33.2 Q49.4 38.4 46.65 42.8 Q43.9 47.2 39.35 50.05 Q34.8 52.9 27.9 52.9 Q22.6 52.9 18.15 50.9 Q13.7 48.9 10.45 45.3 Q7.2 41.7 5.4 36.8 Q3.6 31.9 3.6 26 Q3.8 20.1 5.35 15.1 Q6.9 10.1 10 6.5 Q13.1 2.9 17.65 0.9 Q22.2 -1.1 28.4 -1.1 Q37.2 -1.1 43 3.3 Q48.8 7.7 50.5 16.4 Z\"\n",
       "        /><glyph unicode=\"s\" horiz-adv-x=\"50.0\" d=\"M11.6 16.3 L3.1 16.3 Q3.3 11.5 5.1 8.15 Q6.9 4.8 9.9 2.75 Q12.9 0.7 16.8 -0.2 Q20.7 -1.1 25 -1.1 Q28.9 -1.1 32.85 -0.35 Q36.8 0.4 39.95 2.3 Q43.1 4.2 45.05 7.3 Q47 10.4 47 15.1 Q47 18.8 45.55 21.3 Q44.1 23.8 41.75 25.45 Q39.4 27.1 36.35 28.1 Q33.3 29.1 30.1 29.8 Q27.1 30.5 24.1 31.15 Q21.1 31.8 18.7 32.75 Q16.3 33.7 14.75 35.15 Q13.2 36.6 13.2 38.8 Q13.2 40.8 14.2 42.05 Q15.2 43.3 16.8 44.05 Q18.4 44.8 20.35 45.1 Q22.3 45.4 24.2 45.4 Q26.3 45.4 28.35 44.95 Q30.4 44.5 32.1 43.5 Q33.8 42.5 34.9 40.85 Q36 39.2 36.2 36.7 L44.7 36.7 Q44.4 41.4 42.7 44.55 Q41 47.7 38.15 49.55 Q35.3 51.4 31.6 52.15 Q27.9 52.9 23.5 52.9 Q20.1 52.9 16.65 52.05 Q13.2 51.2 10.45 49.45 Q7.7 47.7 5.95 44.9 Q4.2 42.1 4.2 38.2 Q4.2 33.2 6.7 30.4 Q9.2 27.6 12.95 26.05 Q16.7 24.5 21.1 23.65 Q25.5 22.8 29.25 21.75 Q33 20.7 35.5 19 Q38 17.3 38 14 Q38 11.6 36.8 10.05 Q35.6 8.5 33.75 7.7 Q31.9 6.9 29.7 6.6 Q27.5 6.3 25.5 6.3 Q22.9 6.3 20.45 6.8 Q18 7.3 16.05 8.45 Q14.1 9.6 12.9 11.55 Q11.7 13.5 11.6 16.3 Z\"\n",
       "        /><glyph unicode=\"l\" horiz-adv-x=\"22.2\" d=\"M6.9 71.4 L6.9 0 L15.4 0 L15.4 71.4 Z\"\n",
       "        /><glyph unicode=\"u\" horiz-adv-x=\"55.6\" d=\"M49.2 0 L49.2 51.7 L40.7 51.7 L40.7 22.5 Q40.7 19 39.75 16.05 Q38.8 13.1 36.9 10.9 Q35 8.7 32.15 7.5 Q29.3 6.3 25.4 6.3 Q20.5 6.3 17.7 9.1 Q14.9 11.9 14.9 16.7 L14.9 51.7 L6.4 51.7 L6.4 17.7 Q6.4 13.5 7.25 10.05 Q8.1 6.6 10.2 4.1 Q12.3 1.6 15.7 0.25 Q19.1 -1.1 24.2 -1.1 Q29.9 -1.1 34.1 1.15 Q38.3 3.4 41 8.2 L41.2 8.2 L41.2 0 Z\"\n",
       "        /><glyph unicode=\"p\" horiz-adv-x=\"59.3\" d=\"M6.7 51.7 L6.7 -19.7 L15.2 -19.7 L15.2 6.9 L15.4 6.9 Q16.8 4.6 18.85 3.05 Q20.9 1.5 23.2 0.6 Q25.5 -0.3 27.85 -0.7 Q30.2 -1.1 32.1 -1.1 Q38 -1.1 42.45 1 Q46.9 3.1 49.85 6.75 Q52.8 10.4 54.25 15.3 Q55.7 20.2 55.7 25.7 Q55.7 31.2 54.2 36.1 Q52.7 41 49.75 44.75 Q46.8 48.5 42.35 50.7 Q37.9 52.9 31.9 52.9 Q26.5 52.9 22 50.95 Q17.5 49 15.4 44.7 L15.2 44.7 L15.2 51.7 ZM46.7 26.3 Q46.7 22.5 45.9 18.9 Q45.1 15.3 43.3 12.5 Q41.5 9.7 38.55 8 Q35.6 6.3 31.2 6.3 Q26.8 6.3 23.7 7.95 Q20.6 9.6 18.65 12.3 Q16.7 15 15.8 18.55 Q14.9 22.1 14.9 25.9 Q14.9 29.5 15.75 33 Q16.6 36.5 18.5 39.25 Q20.4 42 23.4 43.7 Q26.4 45.4 30.7 45.4 Q34.8 45.4 37.85 43.8 Q40.9 42.2 42.85 39.5 Q44.8 36.8 45.75 33.35 Q46.7 29.9 46.7 26.3 Z\"\n",
       "        /><glyph unicode=\"m\" horiz-adv-x=\"85.3\" d=\"M6.4 51.7 L6.4 0 L14.9 0 L14.9 32.2 Q14.9 33.7 15.65 35.95 Q16.4 38.2 18.05 40.3 Q19.7 42.4 22.35 43.9 Q25 45.4 28.7 45.4 Q31.6 45.4 33.45 44.55 Q35.3 43.7 36.4 42.15 Q37.5 40.6 37.95 38.5 Q38.4 36.4 38.4 33.9 L38.4 0 L46.9 0 L46.9 32.2 Q46.9 38.2 50.5 41.8 Q54.1 45.4 60.4 45.4 Q63.5 45.4 65.45 44.5 Q67.4 43.6 68.5 42.05 Q69.6 40.5 70 38.4 Q70.4 36.3 70.4 33.9 L70.4 0 L78.9 0 L78.9 37.9 Q78.9 41.9 77.65 44.75 Q76.4 47.6 74.15 49.4 Q71.9 51.2 68.75 52.05 Q65.6 52.9 61.7 52.9 Q56.6 52.9 52.35 50.6 Q48.1 48.3 45.5 44.1 Q43.9 48.9 40 50.9 Q36.1 52.9 31.3 52.9 Q20.4 52.9 14.6 44.1 L14.4 44.1 L14.4 51.7 Z\"\n",
       "        /><glyph unicode=\"I\" horiz-adv-x=\"25.9\" d=\"M8.2 71.4 L8.2 0 L17.7 0 L17.7 71.4 Z\"\n",
       "        /><glyph unicode=\"5\" horiz-adv-x=\"55.6\" d=\"M47 62.2 L47 69.7 L12 69.7 L5.4 32.9 L12.7 32.5 Q15.2 35.5 18.45 37.35 Q21.7 39.2 25.9 39.2 Q29.5 39.2 32.45 38 Q35.4 36.8 37.5 34.65 Q39.6 32.5 40.75 29.55 Q41.9 26.6 41.9 23.1 Q41.9 18.9 40.7 15.75 Q39.5 12.6 37.45 10.5 Q35.4 8.4 32.65 7.35 Q29.9 6.3 26.9 6.3 Q23.7 6.3 21.05 7.25 Q18.4 8.2 16.45 9.95 Q14.5 11.7 13.35 14.05 Q12.2 16.4 12 19.1 L3.5 19.1 Q3.6 14.3 5.4 10.5 Q7.2 6.7 10.3 4.15 Q13.4 1.6 17.45 0.25 Q21.5 -1.1 26.1 -1.1 Q32.3 -1.1 36.95 0.85 Q41.6 2.8 44.7 6.1 Q47.8 9.4 49.35 13.65 Q50.9 17.9 50.9 22.4 Q50.9 28.5 49.1 33.05 Q47.3 37.6 44.2 40.65 Q41.1 43.7 36.9 45.2 Q32.7 46.7 28 46.7 Q24.4 46.7 20.75 45.45 Q17.1 44.2 14.8 41.6 L14.6 41.8 L18.4 62.2 Z\"\n",
       "      /></font\n",
       "      ><font horiz-adv-x=\"50.0\" id=\"font2\"\n",
       "      ><font-face ascent=\"97.5\" descent=\"21.699999\" units-per-em=\"100\" style=\"font-style:normal; font-family:Helvetica Neue; font-weight:bold;\"\n",
       "        /><missing-glyph horiz-adv-x=\"50.0\" d=\"M39.1 60.7 L11.1 60.7 L11.1 9.5 L39.1 9.5 ZM48.2 69.8 L48.2 0.3 L1.7 0.3 L1.7 69.8 Z\"\n",
       "        /><glyph unicode=\"2\" horiz-adv-x=\"55.6\" d=\"M3.7 43.1 L17.3 43.1 Q17.3 45.9 17.85 48.75 Q18.4 51.6 19.7 53.95 Q21 56.3 23.15 57.75 Q25.3 59.2 28.4 59.2 Q33 59.2 35.95 56.35 Q38.9 53.5 38.9 48.4 Q38.9 45.2 37.45 42.7 Q36 40.2 33.85 38.2 Q31.7 36.2 29.1 34.55 Q26.5 32.9 24.2 31.3 Q19.7 28.2 15.65 25.2 Q11.6 22.2 8.6 18.65 Q5.6 15.1 3.85 10.6 Q2.1 6.1 2.1 0 L53.5 0 L53.5 12.2 L20.4 12.2 Q23 15.8 26.4 18.5 Q29.8 21.2 33.4 23.55 Q37 25.9 40.55 28.3 Q44.1 30.7 46.9 33.65 Q49.7 36.6 51.4 40.4 Q53.1 44.2 53.1 49.5 Q53.1 54.6 51.15 58.7 Q49.2 62.8 45.9 65.6 Q42.6 68.4 38.25 69.9 Q33.9 71.4 29.1 71.4 Q22.8 71.4 17.95 69.25 Q13.1 67.1 9.9 63.25 Q6.7 59.4 5.1 54.25 Q3.5 49.1 3.7 43.1 Z\"\n",
       "        /><glyph unicode=\"t\" horiz-adv-x=\"35.2\" d=\"M23.4 51.7 L23.4 67.2 L9.2 67.2 L9.2 51.7 L0.6 51.7 L0.6 42.2 L9.2 42.2 L9.2 11.7 Q9.2 7.8 10.5 5.4 Q11.8 3 14.05 1.7 Q16.3 0.4 19.25 -0.05 Q22.2 -0.5 25.5 -0.5 Q27.6 -0.5 29.8 -0.4 Q32 -0.3 33.8 0 L33.8 11 Q32.8 10.8 31.7 10.7 Q30.6 10.6 29.4 10.6 Q25.8 10.6 24.6 11.8 Q23.4 13 23.4 16.6 L23.4 42.2 L33.8 42.2 L33.8 51.7 Z\"\n",
       "        /><glyph unicode=\"r\" horiz-adv-x=\"38.9\" d=\"M5.4 51.7 L5.4 0 L19.6 0 L19.6 23.3 Q19.6 26.8 20.3 29.8 Q21 32.8 22.65 35.05 Q24.3 37.3 27 38.6 Q29.7 39.9 33.6 39.9 Q34.9 39.9 36.3 39.75 Q37.7 39.6 38.7 39.4 L38.7 52.6 Q37 53.1 35.6 53.1 Q32.9 53.1 30.4 52.3 Q27.9 51.5 25.7 50.05 Q23.5 48.6 21.8 46.55 Q20.1 44.5 19.1 42.1 L18.9 42.1 L18.9 51.7 Z\"\n",
       "        /><glyph unicode=\"P\" horiz-adv-x=\"66.7\" d=\"M22.6 37.8 L22.6 59.2 L34.8 59.2 Q37.5 59.2 40 58.8 Q42.5 58.4 44.4 57.25 Q46.3 56.1 47.45 54 Q48.6 51.9 48.6 48.5 Q48.6 45.1 47.45 43 Q46.3 40.9 44.4 39.75 Q42.5 38.6 40 38.2 Q37.5 37.8 34.8 37.8 ZM6.9 71.4 L6.9 0 L22.6 0 L22.6 25.6 L39.1 25.6 Q45.8 25.6 50.5 27.55 Q55.2 29.5 58.15 32.7 Q61.1 35.9 62.45 40.05 Q63.8 44.2 63.8 48.5 Q63.8 52.9 62.45 57 Q61.1 61.1 58.15 64.3 Q55.2 67.5 50.5 69.45 Q45.8 71.4 39.1 71.4 Z\"\n",
       "        /><glyph unicode=\"-\" horiz-adv-x=\"40.7\" d=\"M5.3 33.4 L5.3 21.2 L35.4 21.2 L35.4 33.4 Z\"\n",
       "        /><glyph unicode=\"5\" horiz-adv-x=\"55.6\" d=\"M50 58.3 L50 70 L10.9 70 L4 31.3 L16.8 31.3 Q18.9 34.2 21.3 35.55 Q23.7 36.9 27.5 36.9 Q30.4 36.9 32.6 35.9 Q34.8 34.9 36.4 33.1 Q38 31.3 38.8 28.9 Q39.6 26.5 39.6 23.8 Q39.6 21.2 38.75 18.75 Q37.9 16.3 36.35 14.45 Q34.8 12.6 32.55 11.45 Q30.3 10.3 27.5 10.3 Q22.7 10.3 19.6 13.15 Q16.5 16 16 20.8 L1.8 20.8 Q1.9 15.3 4.05 11.15 Q6.2 7 9.8 4.2 Q13.4 1.4 18.05 0.05 Q22.7 -1.3 27.8 -1.3 Q33.1 -1.4 37.8 0.45 Q42.5 2.3 46.05 5.7 Q49.6 9.1 51.7 13.75 Q53.8 18.4 53.8 23.8 Q53.8 28.7 52.35 33.05 Q50.9 37.4 48.15 40.6 Q45.4 43.8 41.4 45.7 Q37.4 47.6 32.2 47.6 Q28 47.6 24.7 46.35 Q21.4 45.1 18.5 42.2 L18.3 42.4 L21.1 58.3 Z\"\n",
       "        /><glyph unicode=\" \" horiz-adv-x=\"27.8\" d=\"\"\n",
       "        /><glyph unicode=\"e\" horiz-adv-x=\"57.4\" d=\"M40.2 31.4 L17.1 31.4 Q17.2 32.9 17.75 34.8 Q18.3 36.7 19.65 38.4 Q21 40.1 23.25 41.25 Q25.5 42.4 28.9 42.4 Q34.1 42.4 36.65 39.6 Q39.2 36.8 40.2 31.4 ZM17.1 22.4 L54.4 22.4 Q54.8 28.4 53.4 33.9 Q52 39.4 48.85 43.7 Q45.7 48 40.8 50.55 Q35.9 53.1 29.3 53.1 Q23.4 53.1 18.55 51 Q13.7 48.9 10.2 45.25 Q6.7 41.6 4.8 36.6 Q2.9 31.6 2.9 25.8 Q2.9 19.8 4.75 14.8 Q6.6 9.8 10 6.2 Q13.4 2.6 18.3 0.65 Q23.2 -1.3 29.3 -1.3 Q38.1 -1.3 44.3 2.7 Q50.5 6.7 53.5 16 L41 16 Q40.3 13.6 37.2 11.45 Q34.1 9.3 29.8 9.3 Q23.8 9.3 20.6 12.4 Q17.4 15.5 17.1 22.4 Z\"\n",
       "        /><glyph unicode=\"l\" horiz-adv-x=\"25.8\" d=\"M5.8 71.4 L5.8 0 L20 0 L20 71.4 Z\"\n",
       "        /><glyph unicode=\"p\" horiz-adv-x=\"61.1\" d=\"M31.5 9.3 Q28.1 9.3 25.7 10.7 Q23.3 12.1 21.85 14.35 Q20.4 16.6 19.75 19.6 Q19.1 22.6 19.1 25.7 Q19.1 28.9 19.7 31.9 Q20.3 34.9 21.75 37.2 Q23.2 39.5 25.55 40.95 Q27.9 42.4 31.4 42.4 Q34.8 42.4 37.15 40.95 Q39.5 39.5 41 37.15 Q42.5 34.8 43.15 31.8 Q43.8 28.8 43.8 25.7 Q43.8 22.6 43.2 19.6 Q42.6 16.6 41.15 14.35 Q39.7 12.1 37.35 10.7 Q35 9.3 31.5 9.3 ZM5.4 51.7 L5.4 -18.1 L19.6 -18.1 L19.6 6.4 L19.8 6.4 Q22.4 2.6 26.45 0.65 Q30.5 -1.3 35.3 -1.3 Q41 -1.3 45.25 0.9 Q49.5 3.1 52.35 6.8 Q55.2 10.5 56.6 15.3 Q58 20.1 58 25.3 Q58 30.8 56.6 35.85 Q55.2 40.9 52.3 44.7 Q49.4 48.5 45 50.8 Q40.6 53.1 34.5 53.1 Q29.7 53.1 25.7 51.2 Q21.7 49.3 19.1 45.1 L18.9 45.1 L18.9 51.7 Z\"\n",
       "        /><glyph unicode=\"m\" horiz-adv-x=\"90.6\" d=\"M5.8 51.7 L5.8 0 L20 0 L20 30 Q20 33.8 21.1 36.15 Q22.2 38.5 23.75 39.75 Q25.3 41 26.95 41.45 Q28.6 41.9 29.6 41.9 Q33 41.9 34.75 40.75 Q36.5 39.6 37.25 37.7 Q38 35.8 38.1 33.55 Q38.2 31.3 38.2 29 L38.2 0 L52.4 0 L52.4 28.8 Q52.4 31.2 52.75 33.55 Q53.1 35.9 54.15 37.75 Q55.2 39.6 57.05 40.75 Q58.9 41.9 61.9 41.9 Q64.9 41.9 66.65 40.9 Q68.4 39.9 69.3 38.2 Q70.2 36.5 70.4 34.2 Q70.6 31.9 70.6 29.3 L70.6 0 L84.8 0 L84.8 34.6 Q84.8 39.6 83.4 43.15 Q82 46.7 79.5 48.9 Q77 51.1 73.5 52.1 Q70 53.1 65.9 53.1 Q60.5 53.1 56.55 50.5 Q52.6 47.9 50.3 44.5 Q48.2 49.3 44.15 51.2 Q40.1 53.1 35.2 53.1 Q30.1 53.1 26.15 50.9 Q22.2 48.7 19.4 44.7 L19.2 44.7 L19.2 51.7 Z\"\n",
       "        /><glyph unicode=\"a\" horiz-adv-x=\"57.4\" d=\"M4.8 35.8 Q5.1 40.8 7.3 44.1 Q9.5 47.4 12.9 49.4 Q16.3 51.4 20.55 52.25 Q24.8 53.1 29.1 53.1 Q33 53.1 37 52.55 Q41 52 44.3 50.4 Q47.6 48.8 49.7 45.95 Q51.8 43.1 51.8 38.4 L51.8 11.5 Q51.8 8 52.2 4.8 Q52.6 1.6 53.6 0 L39.2 0 Q38.8 1.2 38.55 2.45 Q38.3 3.7 38.2 5 Q34.8 1.5 30.2 0.1 Q25.6 -1.3 20.8 -1.3 Q17.1 -1.3 13.9 -0.4 Q10.7 0.5 8.3 2.4 Q5.9 4.3 4.55 7.2 Q3.2 10.1 3.2 14.1 Q3.2 18.5 4.75 21.35 Q6.3 24.2 8.75 25.9 Q11.2 27.6 14.35 28.45 Q17.5 29.3 20.7 29.8 Q23.9 30.3 27 30.6 Q30.1 30.9 32.5 31.5 Q34.9 32.1 36.3 33.25 Q37.7 34.4 37.6 36.6 Q37.6 38.9 36.85 40.25 Q36.1 41.6 34.85 42.35 Q33.6 43.1 31.95 43.35 Q30.3 43.6 28.4 43.6 Q24.2 43.6 21.8 41.8 Q19.4 40 19 35.8 ZM37.6 25.3 Q36.7 24.5 35.35 24.05 Q34 23.6 32.45 23.3 Q30.9 23 29.2 22.8 Q27.5 22.6 25.8 22.3 Q24.2 22 22.65 21.5 Q21.1 21 19.95 20.15 Q18.8 19.3 18.1 18 Q17.4 16.7 17.4 14.7 Q17.4 12.8 18.1 11.5 Q18.8 10.2 20 9.45 Q21.2 8.7 22.8 8.4 Q24.4 8.1 26.1 8.1 Q30.3 8.1 32.6 9.5 Q34.9 10.9 36 12.85 Q37.1 14.8 37.35 16.8 Q37.6 18.8 37.6 20 Z\"\n",
       "        /><glyph unicode=\"x\" horiz-adv-x=\"53.7\" d=\"M18.6 27.2 L0 0 L15.9 0 L26.7 16.3 L37.5 0 L53.7 0 L34.6 27.5 L51.6 51.7 L35.9 51.7 L26.9 38.2 L17.8 51.7 L1.6 51.7 Z\"\n",
       "        /><glyph unicode=\"E\" horiz-adv-x=\"64.8\" d=\"M6.9 71.4 L6.9 0 L61.1 0 L61.1 13.2 L22.6 13.2 L22.6 30.7 L57.2 30.7 L57.2 42.9 L22.6 42.9 L22.6 58.2 L60.3 58.2 L60.3 71.4 Z\"\n",
       "      /></font\n",
       "    ></defs\n",
       "    ><g style=\"fill:rgb(240,240,240); stroke:rgb(240,240,240);\"\n",
       "    ><rect x=\"0\" y=\"0\" width=\"560\" style=\"clip-path:url(#clipPath1); stroke:none;\" height=\"420\"\n",
       "    /></g\n",
       "    ><g style=\"fill:rgb(240,240,240); text-rendering:optimizeSpeed; color-rendering:optimizeSpeed; image-rendering:optimizeSpeed; shape-rendering:crispEdges; stroke:rgb(240,240,240); color-interpolation:sRGB;\"\n",
       "    ><rect x=\"0\" width=\"560\" height=\"420\" y=\"0\" style=\"stroke:none;\"\n",
       "      /><path d=\"M73 374 L507 374 L507 31.5 L73 31.5 Z\" style=\"fill:white; stroke:none;\"\n",
       "    /></g\n",
       "    ><g style=\"stroke-linecap:butt; fill-opacity:0.149; fill:rgb(38,38,38); text-rendering:geometricPrecision; image-rendering:optimizeQuality; color-rendering:optimizeQuality; stroke-linejoin:round; stroke:rgb(38,38,38); color-interpolation:linearRGB; stroke-width:0.5; stroke-opacity:0.149;\"\n",
       "    ><line y2=\"31.5\" style=\"fill:none;\" x1=\"73\" x2=\"73\" y1=\"374\"\n",
       "      /><line y2=\"31.5\" style=\"fill:none;\" x1=\"217.6667\" x2=\"217.6667\" y1=\"374\"\n",
       "      /><line y2=\"31.5\" style=\"fill:none;\" x1=\"362.3333\" x2=\"362.3333\" y1=\"374\"\n",
       "      /><line y2=\"31.5\" style=\"fill:none;\" x1=\"507\" x2=\"507\" y1=\"374\"\n",
       "      /><line y2=\"374\" style=\"fill:none;\" x1=\"507\" x2=\"73\" y1=\"374\"\n",
       "      /><line y2=\"335.9445\" style=\"fill:none;\" x1=\"507\" x2=\"73\" y1=\"335.9445\"\n",
       "      /><line y2=\"297.8889\" style=\"fill:none;\" x1=\"507\" x2=\"73\" y1=\"297.8889\"\n",
       "      /><line y2=\"259.8333\" style=\"fill:none;\" x1=\"507\" x2=\"73\" y1=\"259.8333\"\n",
       "      /><line y2=\"221.7778\" style=\"fill:none;\" x1=\"507\" x2=\"73\" y1=\"221.7778\"\n",
       "      /><line y2=\"183.7222\" style=\"fill:none;\" x1=\"507\" x2=\"73\" y1=\"183.7222\"\n",
       "      /><line y2=\"145.6667\" style=\"fill:none;\" x1=\"507\" x2=\"73\" y1=\"145.6667\"\n",
       "      /><line y2=\"107.6111\" style=\"fill:none;\" x1=\"507\" x2=\"73\" y1=\"107.6111\"\n",
       "      /><line y2=\"69.5556\" style=\"fill:none;\" x1=\"507\" x2=\"73\" y1=\"69.5556\"\n",
       "      /><line y2=\"31.5\" style=\"fill:none;\" x1=\"507\" x2=\"73\" y1=\"31.5\"\n",
       "      /><line x1=\"73\" x2=\"73\" y1=\"374\" style=\"stroke-linecap:square; fill-opacity:1; fill:none; stroke-opacity:1;\" y2=\"31.5\"\n",
       "      /><line x1=\"507\" x2=\"507\" y1=\"374\" style=\"stroke-linecap:square; fill-opacity:1; fill:none; stroke-opacity:1;\" y2=\"31.5\"\n",
       "      /><line x1=\"73\" x2=\"77.34\" y1=\"374\" style=\"stroke-linecap:square; fill-opacity:1; fill:none; stroke-opacity:1;\" y2=\"374\"\n",
       "      /><line x1=\"73\" x2=\"77.34\" y1=\"335.9445\" style=\"stroke-linecap:square; fill-opacity:1; fill:none; stroke-opacity:1;\" y2=\"335.9445\"\n",
       "      /><line x1=\"73\" x2=\"77.34\" y1=\"297.8889\" style=\"stroke-linecap:square; fill-opacity:1; fill:none; stroke-opacity:1;\" y2=\"297.8889\"\n",
       "      /><line x1=\"73\" x2=\"77.34\" y1=\"259.8333\" style=\"stroke-linecap:square; fill-opacity:1; fill:none; stroke-opacity:1;\" y2=\"259.8333\"\n",
       "      /><line x1=\"73\" x2=\"77.34\" y1=\"221.7778\" style=\"stroke-linecap:square; fill-opacity:1; fill:none; stroke-opacity:1;\" y2=\"221.7778\"\n",
       "      /><line x1=\"73\" x2=\"77.34\" y1=\"183.7222\" style=\"stroke-linecap:square; fill-opacity:1; fill:none; stroke-opacity:1;\" y2=\"183.7222\"\n",
       "      /><line x1=\"73\" x2=\"77.34\" y1=\"145.6667\" style=\"stroke-linecap:square; fill-opacity:1; fill:none; stroke-opacity:1;\" y2=\"145.6667\"\n",
       "      /><line x1=\"73\" x2=\"77.34\" y1=\"107.6111\" style=\"stroke-linecap:square; fill-opacity:1; fill:none; stroke-opacity:1;\" y2=\"107.6111\"\n",
       "      /><line x1=\"73\" x2=\"77.34\" y1=\"69.5556\" style=\"stroke-linecap:square; fill-opacity:1; fill:none; stroke-opacity:1;\" y2=\"69.5556\"\n",
       "      /><line x1=\"73\" x2=\"77.34\" y1=\"31.5\" style=\"stroke-linecap:square; fill-opacity:1; fill:none; stroke-opacity:1;\" y2=\"31.5\"\n",
       "      /><line x1=\"507\" x2=\"502.66\" y1=\"374\" style=\"stroke-linecap:square; fill-opacity:1; fill:none; stroke-opacity:1;\" y2=\"374\"\n",
       "      /><line x1=\"507\" x2=\"502.66\" y1=\"335.9445\" style=\"stroke-linecap:square; fill-opacity:1; fill:none; stroke-opacity:1;\" y2=\"335.9445\"\n",
       "      /><line x1=\"507\" x2=\"502.66\" y1=\"297.8889\" style=\"stroke-linecap:square; fill-opacity:1; fill:none; stroke-opacity:1;\" y2=\"297.8889\"\n",
       "      /><line x1=\"507\" x2=\"502.66\" y1=\"259.8333\" style=\"stroke-linecap:square; fill-opacity:1; fill:none; stroke-opacity:1;\" y2=\"259.8333\"\n",
       "      /><line x1=\"507\" x2=\"502.66\" y1=\"221.7778\" style=\"stroke-linecap:square; fill-opacity:1; fill:none; stroke-opacity:1;\" y2=\"221.7778\"\n",
       "      /><line x1=\"507\" x2=\"502.66\" y1=\"183.7222\" style=\"stroke-linecap:square; fill-opacity:1; fill:none; stroke-opacity:1;\" y2=\"183.7222\"\n",
       "      /><line x1=\"507\" x2=\"502.66\" y1=\"145.6667\" style=\"stroke-linecap:square; fill-opacity:1; fill:none; stroke-opacity:1;\" y2=\"145.6667\"\n",
       "      /><line x1=\"507\" x2=\"502.66\" y1=\"107.6111\" style=\"stroke-linecap:square; fill-opacity:1; fill:none; stroke-opacity:1;\" y2=\"107.6111\"\n",
       "      /><line x1=\"507\" x2=\"502.66\" y1=\"69.5556\" style=\"stroke-linecap:square; fill-opacity:1; fill:none; stroke-opacity:1;\" y2=\"69.5556\"\n",
       "      /><line x1=\"507\" x2=\"502.66\" y1=\"31.5\" style=\"stroke-linecap:square; fill-opacity:1; fill:none; stroke-opacity:1;\" y2=\"31.5\"\n",
       "    /></g\n",
       "    ><g transform=\"translate(69,374)\" style=\"font-size:10px; fill:rgb(38,38,38); text-rendering:geometricPrecision; image-rendering:optimizeQuality; color-rendering:optimizeQuality; font-family:'Helvetica Neue'; stroke:rgb(38,38,38); color-interpolation:linearRGB;\"\n",
       "    ><text x=\"-18\" xml:space=\"preserve\" y=\"3.5\" style=\"stroke:none;\"\n",
       "      >-0.2</text\n",
       "    ></g\n",
       "    ><g transform=\"translate(69,335.9445)\" style=\"font-size:10px; fill:rgb(38,38,38); text-rendering:geometricPrecision; image-rendering:optimizeQuality; color-rendering:optimizeQuality; font-family:'Helvetica Neue'; stroke:rgb(38,38,38); color-interpolation:linearRGB;\"\n",
       "    ><text x=\"-6\" xml:space=\"preserve\" y=\"3.5\" style=\"stroke:none;\"\n",
       "      >0</text\n",
       "    ></g\n",
       "    ><g transform=\"translate(69,297.8889)\" style=\"font-size:10px; fill:rgb(38,38,38); text-rendering:geometricPrecision; image-rendering:optimizeQuality; color-rendering:optimizeQuality; font-family:'Helvetica Neue'; stroke:rgb(38,38,38); color-interpolation:linearRGB;\"\n",
       "    ><text x=\"-14\" xml:space=\"preserve\" y=\"3.5\" style=\"stroke:none;\"\n",
       "      >0.2</text\n",
       "    ></g\n",
       "    ><g transform=\"translate(69,259.8333)\" style=\"font-size:10px; fill:rgb(38,38,38); text-rendering:geometricPrecision; image-rendering:optimizeQuality; color-rendering:optimizeQuality; font-family:'Helvetica Neue'; stroke:rgb(38,38,38); color-interpolation:linearRGB;\"\n",
       "    ><text x=\"-14\" xml:space=\"preserve\" y=\"3.5\" style=\"stroke:none;\"\n",
       "      >0.4</text\n",
       "    ></g\n",
       "    ><g transform=\"translate(69,221.7778)\" style=\"font-size:10px; fill:rgb(38,38,38); text-rendering:geometricPrecision; image-rendering:optimizeQuality; color-rendering:optimizeQuality; font-family:'Helvetica Neue'; stroke:rgb(38,38,38); color-interpolation:linearRGB;\"\n",
       "    ><text x=\"-14\" xml:space=\"preserve\" y=\"3.5\" style=\"stroke:none;\"\n",
       "      >0.6</text\n",
       "    ></g\n",
       "    ><g transform=\"translate(69,183.7222)\" style=\"font-size:10px; fill:rgb(38,38,38); text-rendering:geometricPrecision; image-rendering:optimizeQuality; color-rendering:optimizeQuality; font-family:'Helvetica Neue'; stroke:rgb(38,38,38); color-interpolation:linearRGB;\"\n",
       "    ><text x=\"-14\" xml:space=\"preserve\" y=\"3.5\" style=\"stroke:none;\"\n",
       "      >0.8</text\n",
       "    ></g\n",
       "    ><g transform=\"translate(69,145.6667)\" style=\"font-size:10px; fill:rgb(38,38,38); text-rendering:geometricPrecision; image-rendering:optimizeQuality; color-rendering:optimizeQuality; font-family:'Helvetica Neue'; stroke:rgb(38,38,38); color-interpolation:linearRGB;\"\n",
       "    ><text x=\"-6\" xml:space=\"preserve\" y=\"3.5\" style=\"stroke:none;\"\n",
       "      >1</text\n",
       "    ></g\n",
       "    ><g transform=\"translate(69,107.6111)\" style=\"font-size:10px; fill:rgb(38,38,38); text-rendering:geometricPrecision; image-rendering:optimizeQuality; color-rendering:optimizeQuality; font-family:'Helvetica Neue'; stroke:rgb(38,38,38); color-interpolation:linearRGB;\"\n",
       "    ><text x=\"-14\" xml:space=\"preserve\" y=\"3.5\" style=\"stroke:none;\"\n",
       "      >1.2</text\n",
       "    ></g\n",
       "    ><g transform=\"translate(69,69.5556)\" style=\"font-size:10px; fill:rgb(38,38,38); text-rendering:geometricPrecision; image-rendering:optimizeQuality; color-rendering:optimizeQuality; font-family:'Helvetica Neue'; stroke:rgb(38,38,38); color-interpolation:linearRGB;\"\n",
       "    ><text x=\"-14\" xml:space=\"preserve\" y=\"3.5\" style=\"stroke:none;\"\n",
       "      >1.4</text\n",
       "    ></g\n",
       "    ><g transform=\"translate(69,31.5)\" style=\"font-size:10px; fill:rgb(38,38,38); text-rendering:geometricPrecision; image-rendering:optimizeQuality; color-rendering:optimizeQuality; font-family:'Helvetica Neue'; stroke:rgb(38,38,38); color-interpolation:linearRGB;\"\n",
       "    ><text x=\"-14\" xml:space=\"preserve\" y=\"3.5\" style=\"stroke:none;\"\n",
       "      >1.6</text\n",
       "    ></g\n",
       "    ><g transform=\"translate(48,202.7498) rotate(-90)\" style=\"font-size:11px; fill:rgb(38,38,38); text-rendering:geometricPrecision; image-rendering:optimizeQuality; color-rendering:optimizeQuality; font-family:'Helvetica Neue'; stroke:rgb(38,38,38); color-interpolation:linearRGB;\"\n",
       "    ><text x=\"-54.5\" xml:space=\"preserve\" y=\"-3\" style=\"stroke:none;\"\n",
       "      >Impulse response h[n]</text\n",
       "    ></g\n",
       "    ><g transform=\"translate(290.0003,30.125)\" style=\"font-size:11px; text-rendering:geometricPrecision; image-rendering:optimizeQuality; color-rendering:optimizeQuality; font-family:'Helvetica Neue'; color-interpolation:linearRGB; font-weight:bold;\"\n",
       "    ><text x=\"-48\" xml:space=\"preserve\" y=\"-3\" style=\"stroke:none;\"\n",
       "      >Example 5 - Part 2</text\n",
       "    ></g\n",
       "    ><g style=\"stroke-linecap:butt; fill:rgb(38,38,38); text-rendering:geometricPrecision; image-rendering:optimizeQuality; color-rendering:optimizeQuality; stroke-linejoin:round; stroke:rgb(38,38,38); color-interpolation:linearRGB; stroke-width:0.5;\"\n",
       "    ><line y2=\"335.9445\" style=\"fill:none;\" x1=\"73\" x2=\"507\" y1=\"335.9445\"\n",
       "      /><path d=\"M0 -2.75 C1.5188 -2.75 2.75 -1.5188 2.75 0 L2.75 0 C2.75 1.5188 1.5188 2.75 -0 2.75 C-1.5188 2.75 -2.75 1.5188 -2.75 -0 C-2.75 -1.5188 -1.5188 -2.75 0 -2.75 ZM0 -3.25 C-1.7949 -3.25 -3.25 -1.7949 -3.25 -0 C-3.25 1.7949 -1.7949 3.25 -0 3.25 C1.7949 3.25 3.25 1.7949 3.25 0 L3.25 0 C3.25 -1.7949 1.7949 -3.25 0 -3.25 Z\" style=\"fill:rgb(0,114,189); stroke:none;\" transform=\"translate(73,145.6667)\"\n",
       "      /><path d=\"M0 -2.75 C1.5188 -2.75 2.75 -1.5188 2.75 0 L2.75 0 C2.75 1.5188 1.5188 2.75 -0 2.75 C-1.5188 2.75 -2.75 1.5188 -2.75 -0 C-2.75 -1.5188 -1.5188 -2.75 0 -2.75 ZM0 -3.25 C-1.7949 -3.25 -3.25 -1.7949 -3.25 -0 C-3.25 1.7949 -1.7949 3.25 -0 3.25 C1.7949 3.25 3.25 1.7949 3.25 0 L3.25 0 C3.25 -1.7949 1.7949 -3.25 0 -3.25 Z\" style=\"fill:rgb(0,114,189); stroke:none;\" transform=\"translate(101.9333,50.5278)\"\n",
       "      /><path d=\"M0 -2.75 C1.5188 -2.75 2.75 -1.5188 2.75 0 L2.75 0 C2.75 1.5188 1.5188 2.75 -0 2.75 C-1.5188 2.75 -2.75 1.5188 -2.75 -0 C-2.75 -1.5188 -1.5188 -2.75 0 -2.75 ZM0 -3.25 C-1.7949 -3.25 -3.25 -1.7949 -3.25 -0 C-3.25 1.7949 -1.7949 3.25 -0 3.25 C1.7949 3.25 3.25 1.7949 3.25 0 L3.25 0 C3.25 -1.7949 1.7949 -3.25 0 -3.25 Z\" style=\"fill:rgb(0,114,189); stroke:none;\" transform=\"translate(130.8667,217.0208)\"\n",
       "      /><path d=\"M0 -2.75 C1.5188 -2.75 2.75 -1.5188 2.75 0 L2.75 0 C2.75 1.5188 1.5188 2.75 -0 2.75 C-1.5188 2.75 -2.75 1.5188 -2.75 -0 C-2.75 -1.5188 -1.5188 -2.75 0 -2.75 ZM0 -3.25 C-1.7949 -3.25 -3.25 -1.7949 -3.25 -0 C-3.25 1.7949 -1.7949 3.25 -0 3.25 C1.7949 3.25 3.25 1.7949 3.25 0 L3.25 0 C3.25 -1.7949 1.7949 -3.25 0 -3.25 Z\" style=\"fill:rgb(0,114,189); stroke:none;\" transform=\"translate(159.8,312.1597)\"\n",
       "      /><path d=\"M0 -2.75 C1.5188 -2.75 2.75 -1.5188 2.75 0 L2.75 0 C2.75 1.5188 1.5188 2.75 -0 2.75 C-1.5188 2.75 -2.75 1.5188 -2.75 -0 C-2.75 -1.5188 -1.5188 -2.75 0 -2.75 ZM0 -3.25 C-1.7949 -3.25 -3.25 -1.7949 -3.25 -0 C-3.25 1.7949 -1.7949 3.25 -0 3.25 C1.7949 3.25 3.25 1.7949 3.25 0 L3.25 0 C3.25 -1.7949 1.7949 -3.25 0 -3.25 Z\" style=\"fill:rgb(0,114,189); stroke:none;\" transform=\"translate(188.7333,338.9175)\"\n",
       "      /><path d=\"M0 -2.75 C1.5188 -2.75 2.75 -1.5188 2.75 0 L2.75 0 C2.75 1.5188 1.5188 2.75 -0 2.75 C-1.5188 2.75 -2.75 1.5188 -2.75 -0 C-2.75 -1.5188 -1.5188 -2.75 0 -2.75 ZM0 -3.25 C-1.7949 -3.25 -3.25 -1.7949 -3.25 -0 C-3.25 1.7949 -1.7949 3.25 -0 3.25 C1.7949 3.25 3.25 1.7949 3.25 0 L3.25 0 C3.25 -1.7949 1.7949 -3.25 0 -3.25 Z\" style=\"fill:rgb(0,114,189); stroke:none;\" transform=\"translate(217.6667,340.4041)\"\n",
       "      /><path d=\"M0 -2.75 C1.5188 -2.75 2.75 -1.5188 2.75 0 L2.75 0 C2.75 1.5188 1.5188 2.75 -0 2.75 C-1.5188 2.75 -2.75 1.5188 -2.75 -0 C-2.75 -1.5188 -1.5188 -2.75 0 -2.75 ZM0 -3.25 C-1.7949 -3.25 -3.25 -1.7949 -3.25 -0 C-3.25 1.7949 -1.7949 3.25 -0 3.25 C1.7949 3.25 3.25 1.7949 3.25 0 L3.25 0 C3.25 -1.7949 1.7949 -3.25 0 -3.25 Z\" style=\"fill:rgb(0,114,189); stroke:none;\" transform=\"translate(246.6,337.8026)\"\n",
       "      /><path d=\"M0 -2.75 C1.5188 -2.75 2.75 -1.5188 2.75 0 L2.75 0 C2.75 1.5188 1.5188 2.75 -0 2.75 C-1.5188 2.75 -2.75 1.5188 -2.75 -0 C-2.75 -1.5188 -1.5188 -2.75 0 -2.75 ZM0 -3.25 C-1.7949 -3.25 -3.25 -1.7949 -3.25 -0 C-3.25 1.7949 -1.7949 3.25 -0 3.25 C1.7949 3.25 3.25 1.7949 3.25 0 L3.25 0 C3.25 -1.7949 1.7949 -3.25 0 -3.25 Z\" style=\"fill:rgb(0,114,189); stroke:none;\" transform=\"translate(275.5333,336.3161)\"\n",
       "      /><path d=\"M0 -2.75 C1.5188 -2.75 2.75 -1.5188 2.75 0 L2.75 0 C2.75 1.5188 1.5188 2.75 -0 2.75 C-1.5188 2.75 -2.75 1.5188 -2.75 -0 C-2.75 -1.5188 -1.5188 -2.75 0 -2.75 ZM0 -3.25 C-1.7949 -3.25 -3.25 -1.7949 -3.25 -0 C-3.25 1.7949 -1.7949 3.25 -0 3.25 C1.7949 3.25 3.25 1.7949 3.25 0 L3.25 0 C3.25 -1.7949 1.7949 -3.25 0 -3.25 Z\" style=\"fill:rgb(0,114,189); stroke:none;\" transform=\"translate(304.4667,335.898)\"\n",
       "      /><path d=\"M0 -2.75 C1.5188 -2.75 2.75 -1.5188 2.75 0 L2.75 0 C2.75 1.5188 1.5188 2.75 -0 2.75 C-1.5188 2.75 -2.75 1.5188 -2.75 -0 C-2.75 -1.5188 -1.5188 -2.75 0 -2.75 ZM0 -3.25 C-1.7949 -3.25 -3.25 -1.7949 -3.25 -0 C-3.25 1.7949 -1.7949 3.25 -0 3.25 C1.7949 3.25 3.25 1.7949 3.25 0 L3.25 0 C3.25 -1.7949 1.7949 -3.25 0 -3.25 Z\" style=\"fill:rgb(0,114,189); stroke:none;\" transform=\"translate(333.4,335.8748)\"\n",
       "      /><path d=\"M0 -2.75 C1.5188 -2.75 2.75 -1.5188 2.75 0 L2.75 0 C2.75 1.5188 1.5188 2.75 -0 2.75 C-1.5188 2.75 -2.75 1.5188 -2.75 -0 C-2.75 -1.5188 -1.5188 -2.75 0 -2.75 ZM0 -3.25 C-1.7949 -3.25 -3.25 -1.7949 -3.25 -0 C-3.25 1.7949 -1.7949 3.25 -0 3.25 C1.7949 3.25 3.25 1.7949 3.25 0 L3.25 0 C3.25 -1.7949 1.7949 -3.25 0 -3.25 Z\" style=\"fill:rgb(0,114,189); stroke:none;\" transform=\"translate(362.3333,335.9154)\"\n",
       "      /><path d=\"M0 -2.75 C1.5188 -2.75 2.75 -1.5188 2.75 0 L2.75 0 C2.75 1.5188 1.5188 2.75 -0 2.75 C-1.5188 2.75 -2.75 1.5188 -2.75 -0 C-2.75 -1.5188 -1.5188 -2.75 0 -2.75 ZM0 -3.25 C-1.7949 -3.25 -3.25 -1.7949 -3.25 -0 C-3.25 1.7949 -1.7949 3.25 -0 3.25 C1.7949 3.25 3.25 1.7949 3.25 0 L3.25 0 C3.25 -1.7949 1.7949 -3.25 0 -3.25 Z\" style=\"fill:rgb(0,114,189); stroke:none;\" transform=\"translate(391.2667,335.9386)\"\n",
       "      /><path d=\"M0 -2.75 C1.5188 -2.75 2.75 -1.5188 2.75 0 L2.75 0 C2.75 1.5188 1.5188 2.75 -0 2.75 C-1.5188 2.75 -2.75 1.5188 -2.75 -0 C-2.75 -1.5188 -1.5188 -2.75 0 -2.75 ZM0 -3.25 C-1.7949 -3.25 -3.25 -1.7949 -3.25 -0 C-3.25 1.7949 -1.7949 3.25 -0 3.25 C1.7949 3.25 3.25 1.7949 3.25 0 L3.25 0 C3.25 -1.7949 1.7949 -3.25 0 -3.25 Z\" style=\"fill:rgb(0,114,189); stroke:none;\" transform=\"translate(420.2,335.9452)\"\n",
       "      /><path d=\"M0 -2.75 C1.5188 -2.75 2.75 -1.5188 2.75 0 L2.75 0 C2.75 1.5188 1.5188 2.75 -0 2.75 C-1.5188 2.75 -2.75 1.5188 -2.75 -0 C-2.75 -1.5188 -1.5188 -2.75 0 -2.75 ZM0 -3.25 C-1.7949 -3.25 -3.25 -1.7949 -3.25 -0 C-3.25 1.7949 -1.7949 3.25 -0 3.25 C1.7949 3.25 3.25 1.7949 3.25 0 L3.25 0 C3.25 -1.7949 1.7949 -3.25 0 -3.25 Z\" style=\"fill:rgb(0,114,189); stroke:none;\" transform=\"translate(449.1333,335.9455)\"\n",
       "      /><path d=\"M0 -2.75 C1.5188 -2.75 2.75 -1.5188 2.75 0 L2.75 0 C2.75 1.5188 1.5188 2.75 -0 2.75 C-1.5188 2.75 -2.75 1.5188 -2.75 -0 C-2.75 -1.5188 -1.5188 -2.75 0 -2.75 ZM0 -3.25 C-1.7949 -3.25 -3.25 -1.7949 -3.25 -0 C-3.25 1.7949 -1.7949 3.25 -0 3.25 C1.7949 3.25 3.25 1.7949 3.25 0 L3.25 0 C3.25 -1.7949 1.7949 -3.25 0 -3.25 Z\" style=\"fill:rgb(0,114,189); stroke:none;\" transform=\"translate(478.0667,335.9449)\"\n",
       "      /><path d=\"M0 -2.75 C1.5188 -2.75 2.75 -1.5188 2.75 0 L2.75 0 C2.75 1.5188 1.5188 2.75 -0 2.75 C-1.5188 2.75 -2.75 1.5188 -2.75 -0 C-2.75 -1.5188 -1.5188 -2.75 0 -2.75 ZM0 -3.25 C-1.7949 -3.25 -3.25 -1.7949 -3.25 -0 C-3.25 1.7949 -1.7949 3.25 -0 3.25 C1.7949 3.25 3.25 1.7949 3.25 0 L3.25 0 C3.25 -1.7949 1.7949 -3.25 0 -3.25 Z\" style=\"fill:rgb(0,114,189); stroke:none;\" transform=\"translate(507,335.9445)\"\n",
       "      /><line x1=\"73\" x2=\"73\" y1=\"335.9445\" style=\"fill:none; stroke:rgb(0,114,189);\" y2=\"145.6667\"\n",
       "      /><line x1=\"101.9333\" x2=\"101.9333\" y1=\"335.9445\" style=\"fill:none; stroke:rgb(0,114,189);\" y2=\"50.5278\"\n",
       "      /><line x1=\"130.8667\" x2=\"130.8667\" y1=\"335.9445\" style=\"fill:none; stroke:rgb(0,114,189);\" y2=\"217.0208\"\n",
       "      /><line x1=\"159.8\" x2=\"159.8\" y1=\"335.9445\" style=\"fill:none; stroke:rgb(0,114,189);\" y2=\"312.1597\"\n",
       "      /><line x1=\"188.7333\" x2=\"188.7333\" y1=\"335.9445\" style=\"fill:none; stroke:rgb(0,114,189);\" y2=\"338.9175\"\n",
       "      /><line x1=\"217.6667\" x2=\"217.6667\" y1=\"335.9445\" style=\"fill:none; stroke:rgb(0,114,189);\" y2=\"340.4041\"\n",
       "      /><line x1=\"246.6\" x2=\"246.6\" y1=\"335.9445\" style=\"fill:none; stroke:rgb(0,114,189);\" y2=\"337.8026\"\n",
       "      /><line x1=\"275.5333\" x2=\"275.5333\" y1=\"335.9445\" style=\"fill:none; stroke:rgb(0,114,189);\" y2=\"336.3161\"\n",
       "      /><line x1=\"304.4667\" x2=\"304.4667\" y1=\"335.9445\" style=\"fill:none; stroke:rgb(0,114,189);\" y2=\"335.898\"\n",
       "      /><line x1=\"333.4\" x2=\"333.4\" y1=\"335.9445\" style=\"fill:none; stroke:rgb(0,114,189);\" y2=\"335.8748\"\n",
       "      /><line x1=\"362.3333\" x2=\"362.3333\" y1=\"335.9445\" style=\"fill:none; stroke:rgb(0,114,189);\" y2=\"335.9154\"\n",
       "      /><line x1=\"391.2667\" x2=\"391.2667\" y1=\"335.9445\" style=\"fill:none; stroke:rgb(0,114,189);\" y2=\"335.9386\"\n",
       "      /><line x1=\"420.2\" x2=\"420.2\" y1=\"335.9445\" style=\"fill:none; stroke:rgb(0,114,189);\" y2=\"335.9452\"\n",
       "      /><line x1=\"449.1333\" x2=\"449.1333\" y1=\"335.9445\" style=\"fill:none; stroke:rgb(0,114,189);\" y2=\"335.9455\"\n",
       "      /><line x1=\"478.0667\" x2=\"478.0667\" y1=\"335.9445\" style=\"fill:none; stroke:rgb(0,114,189);\" y2=\"335.9449\"\n",
       "      /><line x1=\"507\" x2=\"507\" y1=\"335.9445\" style=\"fill:none; stroke:rgb(0,114,189);\" y2=\"335.9445\"\n",
       "      /><line x1=\"73\" x2=\"507\" y1=\"374\" style=\"fill:none; stroke-linecap:square;\" y2=\"374\"\n",
       "      /><line x1=\"73\" x2=\"507\" y1=\"31.5\" style=\"fill:none; stroke-linecap:square;\" y2=\"31.5\"\n",
       "      /><line x1=\"73\" x2=\"73\" y1=\"374\" style=\"fill:none; stroke-linecap:square;\" y2=\"369.66\"\n",
       "      /><line x1=\"217.6667\" x2=\"217.6667\" y1=\"374\" style=\"fill:none; stroke-linecap:square;\" y2=\"369.66\"\n",
       "      /><line x1=\"362.3333\" x2=\"362.3333\" y1=\"374\" style=\"fill:none; stroke-linecap:square;\" y2=\"369.66\"\n",
       "      /><line x1=\"507\" x2=\"507\" y1=\"374\" style=\"fill:none; stroke-linecap:square;\" y2=\"369.66\"\n",
       "      /><line x1=\"73\" x2=\"73\" y1=\"31.5\" style=\"fill:none; stroke-linecap:square;\" y2=\"35.84\"\n",
       "      /><line x1=\"217.6667\" x2=\"217.6667\" y1=\"31.5\" style=\"fill:none; stroke-linecap:square;\" y2=\"35.84\"\n",
       "      /><line x1=\"362.3333\" x2=\"362.3333\" y1=\"31.5\" style=\"fill:none; stroke-linecap:square;\" y2=\"35.84\"\n",
       "      /><line x1=\"507\" x2=\"507\" y1=\"31.5\" style=\"fill:none; stroke-linecap:square;\" y2=\"35.84\"\n",
       "    /></g\n",
       "    ><g transform=\"translate(73,378)\" style=\"font-size:10px; fill:rgb(38,38,38); text-rendering:geometricPrecision; image-rendering:optimizeQuality; color-rendering:optimizeQuality; font-family:'Helvetica Neue'; stroke:rgb(38,38,38); color-interpolation:linearRGB;\"\n",
       "    ><text x=\"-3\" xml:space=\"preserve\" y=\"10\" style=\"stroke:none;\"\n",
       "      >0</text\n",
       "    ></g\n",
       "    ><g transform=\"translate(217.6667,378)\" style=\"font-size:10px; fill:rgb(38,38,38); text-rendering:geometricPrecision; image-rendering:optimizeQuality; color-rendering:optimizeQuality; font-family:'Helvetica Neue'; stroke:rgb(38,38,38); color-interpolation:linearRGB;\"\n",
       "    ><text x=\"-3\" xml:space=\"preserve\" y=\"10\" style=\"stroke:none;\"\n",
       "      >5</text\n",
       "    ></g\n",
       "    ><g transform=\"translate(362.3333,378)\" style=\"font-size:10px; fill:rgb(38,38,38); text-rendering:geometricPrecision; image-rendering:optimizeQuality; color-rendering:optimizeQuality; font-family:'Helvetica Neue'; stroke:rgb(38,38,38); color-interpolation:linearRGB;\"\n",
       "    ><text x=\"-6\" xml:space=\"preserve\" y=\"10\" style=\"stroke:none;\"\n",
       "      >10</text\n",
       "    ></g\n",
       "    ><g transform=\"translate(507,378)\" style=\"font-size:10px; fill:rgb(38,38,38); text-rendering:geometricPrecision; image-rendering:optimizeQuality; color-rendering:optimizeQuality; font-family:'Helvetica Neue'; stroke:rgb(38,38,38); color-interpolation:linearRGB;\"\n",
       "    ><text x=\"-6\" xml:space=\"preserve\" y=\"10\" style=\"stroke:none;\"\n",
       "      >15</text\n",
       "    ></g\n",
       "    ><g transform=\"translate(290.0002,391.5)\" style=\"font-size:11px; fill:rgb(38,38,38); text-rendering:geometricPrecision; image-rendering:optimizeQuality; color-rendering:optimizeQuality; font-family:'Helvetica Neue'; stroke:rgb(38,38,38); color-interpolation:linearRGB;\"\n",
       "    ><text x=\"-3.5\" xml:space=\"preserve\" y=\"11\" style=\"stroke:none;\"\n",
       "      >n</text\n",
       "    ></g\n",
       "  ></g\n",
       "></svg\n",
       ">\n"
      ]
     },
     "metadata": {
      "filenames": {
       "image/svg+xml": "/Users/eechris/code/src/github.com/cpjobling/eg-247-textbook/_build/jupyter_execute/dt_systems/4/dt_models_51_0.svg"
      }
     },
     "output_type": "display_data"
    }
   ],
   "source": [
    "stem([0:15], hn)\n",
    "grid\n",
    "title('Example 5 - Part 2')\n",
    "xlabel('n')\n",
    "ylabel('Impulse response h[n]')"
   ]
  },
  {
   "cell_type": "markdown",
   "id": "17653ec7",
   "metadata": {
    "slideshow": {
     "slide_type": "subslide"
    }
   },
   "source": [
    "###### Response as stepwise continuous y(t)"
   ]
  },
  {
   "cell_type": "code",
   "execution_count": 7,
   "id": "babe8abe",
   "metadata": {},
   "outputs": [
    {
     "data": {
      "image/svg+xml": [
       "<?xml version=\"1.0\"?>\n",
       "<!DOCTYPE svg PUBLIC '-//W3C//DTD SVG 1.0//EN'\n",
       "          'http://www.w3.org/TR/2001/REC-SVG-20010904/DTD/svg10.dtd'>\n",
       "<svg xmlns:xlink=\"http://www.w3.org/1999/xlink\" style=\"fill-opacity:1; color-rendering:auto; color-interpolation:auto; text-rendering:auto; stroke:black; stroke-linecap:square; stroke-miterlimit:10; shape-rendering:auto; stroke-opacity:1; fill:black; stroke-dasharray:none; font-weight:normal; stroke-width:1; font-family:'Dialog'; font-style:normal; stroke-linejoin:miter; font-size:12px; stroke-dashoffset:0; image-rendering:auto;\" width=\"560\" height=\"420\" xmlns=\"http://www.w3.org/2000/svg\"\n",
       "><!--Generated by the Batik Graphics2D SVG Generator--><defs id=\"genericDefs\"\n",
       "  /><g\n",
       "  ><defs id=\"defs1\"\n",
       "    ><clipPath clipPathUnits=\"userSpaceOnUse\" id=\"clipPath1\"\n",
       "      ><path d=\"M0 0 L560 0 L560 420 L0 420 L0 0 Z\"\n",
       "      /></clipPath\n",
       "      ><clipPath clipPathUnits=\"userSpaceOnUse\" id=\"clipPath2\"\n",
       "      ><path d=\"M0 0 L1119.9999 0 L1119.9999 839.9999 L0 839.9999 L0 0 Z\"\n",
       "      /></clipPath\n",
       "    ></defs\n",
       "    ><g style=\"fill:rgb(240,240,240); stroke:rgb(240,240,240);\"\n",
       "    ><rect x=\"0\" y=\"0\" width=\"560\" style=\"clip-path:url(#clipPath1); stroke:none;\" height=\"420\"\n",
       "    /></g\n",
       "    ><g transform=\"scale(0.5,0.5)\"\n",
       "    ><image x=\"0\" y=\"0\" width=\"1120\" xlink:href=\"data:image/png;base64,iVBORw0KGgoAAAANSUhEUgAABGAAAANICAIAAAAHNA4rAABjzUlEQVR42uzdiXuU\n",
       "9dnoccAFlOJSXwooSFspFV+XblDa12q1LryKVivUpVW0VBLCqhRkExBBKRahbAUV\n",
       "QRARUSQuBEhYYiiSsgsEIRjZTAAh8T8453d4js81zUbAQMnk87m8vDJPZrIMc+v9\n",
       "ZTJP6nwFAADAMXXcBQAAAAIJAABAIAEAAAgkAAAAgQQAACCQAAAABBIAAIBAAgAA\n",
       "EEgAAAACCQAAQCABAAAIJAAAAIEEAAAgkAAAAAQSAACAQAIAABBIAAAAAgkAAEAg\n",
       "AQAACCQAAACBBAAAIJAAAAAEEgAAgEACAAAQSAAAAAIJAABAIAEAAAgkAAAAgQQA\n",
       "ACCQAAAABBIAAIBAAgAAEEgAAAACCQAAQCABAAAIJAAAAIEEAACAQAIAABBIAAAA\n",
       "AgkAAEAgAQAACCQAAACBBAAAIJAAAAAEEgAAgEACAAAQSAAAAAIJAABAIAEAAAgk\n",
       "AAAAgQQAACCQAAAABBIAAIBAAgAAEEgAAAACCQAAQCABAAAIJAAAAIEEAAAgkAAA\n",
       "AAQSAACAQAIAABBIAAAAAgkAAEAgAQAACCQAAACBBABwSh0+fDg3N3f+/PkLFixY\n",
       "u3ZtUVGR+wQQSEDS6tq1a4PjmT59eo37vq666qroix8wYMA3/FB/+ctf7qvA7t27\n",
       "T92fwnnnnde6det77rlnxowZ1XjPlJSUFH2tKtf/4IMPHnrooauvvvqCCy647rrr\n",
       "Hn300U8++eRU/JENGTIk/t4feOCBGvopTtGD8D9l//79gwYN+va3v10nQXhk/vnP\n",
       "f96yZcuZ9p0mwR0OCCTgP+/hhx+uczwTJ06scd/XFVdcEX3xTzzxxDf8UBdeeGFF\n",
       "90x1pcJx/xQ6duz45ZdfVsvn+vTTT+MPG+Kn8is/9dRT9erVK/XF1K9f/5VXXqne\n",
       "P6+QbS1btow/Rdhx9+3bV+M+xal7EP5HhIRu165dRY/JJk2axI//M+Q7rel3OCCQ\n",
       "AIFUA1al7du3V3LPnKJAOvfcc88+++xSn2vUqFHVHkgLFy6s5Jrz5s2r6Bs/77zz\n",
       "cnNzq/HPK6RaqU8xYcKE6n1InIZPkWT7empqanxfNW3atFOnTnfeeecFF1wQH7zu\n",
       "uuuia/7mN7/57jHPP/+8QAIEEpA8gRTW5ezyFBQU1NpAeuutt6KPc/31139cxtGj\n",
       "R6v9T2Hnzp3Rwb1794YN/pxzzon/wv40B9KVV14Zf+olS5Zs2rSpV69e8W379etX\n",
       "jX9eDz74YKl6+fnPf169D4nT8CmSbF//wQ9+EH394ZFQWFgYHTxw4MCPfvSj+D78\n",
       "7LPPkm/qAYEECKTSq3lZL7744oNfi586COt1fDD+Ya19+/b97W9/u+GGG773ve9d\n",
       "fPHFLVu2DG+PGjXq0KFD8Ufr06dPdKuVK1fOnz//nnvuufTSS6+77rrHH398//79\n",
       "4QqTJ0/u0KHDd77znauuuupPf/pTXl5efNtu3brFX0b4RDfddFNY39u3b9+zZ8+t\n",
       "W7ced1VavXr1n//857Zt24YP/utf/3rAgAGJtypr+PDh0ccJX/N/5E/hj3/8Y/yu\n",
       "zz//vIp3cuK9lJmZGe7Mpk2bpqamPvbYY3fccUf8AUP1hevMnDmz7Je0a9eu+Gqz\n",
       "Zs2KDpaUlLRo0SI6GO696vr2w859/vnnRx/2oosuij/v+vXrS11z8eLFDz30UJs2\n",
       "bRo3bnzZZZeFP8ehQ4fm5+dX16dIvN9ef/31O++8M9xvzZs3v+uuu0IPJ16zKo/z\n",
       "ch+E4fGWlpb2q1/9Kjxuw8P797///auvvlru1zx+/PjoDy4ESUpKShiN8GCIvrx/\n",
       "/etf4Qrh40QXE0P3ww8/jA7+4Q9/+CaP/KKiovhe6ty5c+K7pk+ffs7XosGPJzp+\n",
       "qFTxW6je+1wggUACOH2B9NFHH8VPZfzkJz85evRoQUFB2LTiv2COdpQdO3a0bt26\n",
       "3B/KCreKzwoQ7zFhQS/1EpdwpEuXLqVuGxamPXv2RLeNf8Ln2muvLXW1sDQvW7as\n",
       "klVpxIgR5557btlbhYSo6Bvv1KlTdLWw6j3zzDPh4r333hve2Lhx4+n5UwirZ6mf\n",
       "6KvKnRzfS2H7jL/lsIvXrVu37K1COJX9krKysuIrxM8eBGHfjQ7eeOON1fXthx6O\n",
       "P9eCBQviL7LUk1ThamVfEBVcfvnlx/1Zxyp+ivh+C99mqfuqQYMG2dnZ0dVO9HEe\n",
       "PwjDl9GwYcOyt7r99tvj+v3q2Fnj7rnnnlLX+dnPfha/HSoo8atN/MG2iRMnRgfP\n",
       "Ouusb/LIDy699NLomuGu+NOf/hSGq7i4uNxrlv1Oq/gtVO99LpBAIAFU82p+8803\n",
       "/28ZgwYNiq45bNiw+JpPP/10XA5h8crJyYmu87vf/S4+2Llz58GDB//617+Ob/Xm\n",
       "m2+WWqei3StcDMtcqaWnRYsW9evXjy8OHDiw1DoVhHX5mmuuSfxozZo1C5tZuavS\n",
       "7Nmz46s1b978uuuuiy+ef/75FZ2Prk2bNtF14j6MhDW3or/4r8ZAClnYqlWreFmM\n",
       "1tOq3MmJ91IsBNKtt976q1/9Kj7y4x//+JZbbgntV/ZLCgX4l2PiB8BXx348L/7I\n",
       "PXv2rK5vv3379tHHvOqqq8LFX/7yl9HFyy67LN7IS0pK4md+2rZt++yzzz766KPx\n",
       "k0IPPvjgN/8UZe+3b33rW4kXw2P+5B7n0YNw1apV8eM8/GmG7yI8XONbJX4Lf/vb\n",
       "3+LjF154YfjiL7744sSv5IQC6eQe+UGIolIPofBldOzY8YUXXti8eXPlgVTFb6F6\n",
       "73OBBAIJoJpX83KFlTq65tGjR3/+85+XvcLIkSPjK8S7Tlhe44PnnXdedLB///6l\n",
       "1qmw6yxZsiQcyc3NDStjnEyLFi0KB/Py8uLzC4e1rNQ6FW4bXS0YPXp0qVfel1qV\n",
       "Dh061LRp0+jI448/Hu3EmzZtinfucs8LHForsYvCxpl4MfRb4pmOq+tP4Y9//GNK\n",
       "Skr4Iu+9997EnfKuu+6q+p2cuHSGBhg7dmx6enpY0L86kdcglRL+OOJn7c4+++yP\n",
       "PvqoWr73DRs2xF/PiBEjwpFx48bFR+I/4vAIiQ/GPxM4fPjwbx3zwx/+8Jt/isT7\n",
       "LdyfIYC//PLLf/7zn/FPFX73u989ucd59CAMRRRXSvyUV+KJEKLnc0IKxo/VkHPR\n",
       "KwC/+OKLuPFOKJBO7pEfOXjwYOInTVSvXr3f/va38Q83lvpOq/4tVO99LpBAIAGc\n",
       "1kAKNm/eXOoHhK6//vrEv4Dftm3b1mOin3jZuXPnX//61/jKTz75ZKl16o477ohv\n",
       "G//4zU9+8pP4YPxTOuG9pdapUq+LiM8oEG5SdlVavnx5XF8rVqzI/dqdd94Z76xl\n",
       "75ywqMVf/JAhQwoLC8P2lhhjXbp0qeiODctol3/Xo0ePk/5TCHd7HGNVuZPjeync\n",
       "sNTP7J1cIIXNNfGX4USZ8c2/8aBfv37xH0341sKR3bt3x8+0/P73v4+uFr6LxDR9\n",
       "8MEHp0+fHhb9qnzxVfwUifdb4m9J+sMf/hBv8Cf3OA8PwhAb8c8Hvvjii/EHDwET\n",
       "t0rovShE4w/12muvxdcMRXESgXRyj/xYmO6pU6f+9Kc/LfeHM9u0aROdpKHUuFX9\n",
       "W6je+1wggUACqOZACkvwh2WUep104k/OhD01WjcThZ37j3/849VXX13qR2XKXRx7\n",
       "9+4d3/Cmm26KDv72t7+ND8avRyobSOPGjSu1l0fHf/SjH5VdlSZNmlR5gZxzzjll\n",
       "75ywvG4/plRjxK/Dufbaayu6Y+MnxGL/9V//dXKBFCq01E80HfdOju+lhx56qNTn\n",
       "OtFA2r9/f0iIxD/0yk/7fkLfeNi/4xe6NGnSZPbXwtYe78fReTuCkMTlvgAptGsl\n",
       "v/T2hD5FfL8NHjw4/gjxIp74qp4TepyHB2F2dnZ8hbVr1yZ+hfEj//777w8X33//\n",
       "/fiaiS91SzxrQtUD6eQe+WWFh00o0vAVlvpJuSiVS41b1b+F6r3PBRIIJIBqDqRK\n",
       "TtIQC0mTuJfEL7eIPProo6V2r2uuuSb+sbRyF8f4tjfffHN08L777osPPvbYYxUF\n",
       "0pQpU8r9wr73ve+V/RSjRo067q97is8DcVxDhw6NbhK+mGoPpDFjxkw7JuyjS5Ys\n",
       "2bt3b6krV+VOju+l8KV+k0DatGlTuD8TXw1/3F9/dELfePgCjvvnElb86MpHjhwJ\n",
       "f+jt27cv+0uibrzxxpKSkm/+Kar4qp6TeJyHP8qKTp33v//7v9Hx8Ea4uGzZsvia\n",
       "iX89sW/fvlK/4Tf+ap977rmyf4URfbUn/cgP99vwY5599tnEX1Ic3o4f/0Gou7Lj\n",
       "VvVvoXrvc4EEAgngdAdSWPJKnUbsO9/5Tvwi7zVr1iS+tDr+NUGXX375qQik+KNF\n",
       "7rrrrsSzq5X6FPGvM6pbt274Nj8vT9kNOzU19cpjOnToUO6dFla0iu6rOXPmzPp3\n",
       "ldRI1f8Uqngnl7t0nmggbdiwoUmTJvFrTvr16xcS5biPqBP6xsOf9XHX91BEpW61\n",
       "f//+efPmdevW7cILL4yvVlG5ndCnqMqyfnKP88TTpr/99tuJX+EPf/jD6Hjfvn2/\n",
       "+vcfJkz87cAzZswo9fRL/LN5Xbt2ja82YMCAxK/25B75pcpq+fLlpd7bsmXL+AyW\n",
       "Zcet6t9C9d7nAgkEEkA1B9LixYv/VZ6w24VrFhYWxk8mhMU0fgnHnXfeGX2oqVOn\n",
       "xh8q/pGnkE/x3/dXbyBdeuml8bMrn3zySXzKu7A3l/0U27dvj19EEba0+OOH9b3d\n",
       "MeWeBi3xb8rnz58fHfzoo4/izxW/Xvy0ZWoV7+QqBlL4aJV8rhtuuCG+5t///vdq\n",
       "f+yFP7746aaQmgP/XeJvI920adOECRMaHvPjH/84sdjLPiNx0p+iisv6ST/OGzdu\n",
       "HJ/POm6S9PT0+KO9/PLLXx07w0H8G1obNWq0YMGCQ4cOhavFZ9WP6yL++PGPeoZr\n",
       "xuddjL7ak3vkBxkZGYmn5048C/nKlSvjp26iFw6VPUlDFb+F6r3PBRIIJIBqXs0r\n",
       "Ev2enMRz/r799tt9+/aNL0Y/7TZv3rz4yLPPPhuyaunSpf/zP/8TH4xfcVQtgRT9\n",
       "7XX4RMOHD7/sssviJzqiX0BZ9lM89NBD8envwob617/+NXzv8fZc6hVNkezs7MRn\n",
       "zNq3b/+73/0uPnFWuO1xf96s2gOpindyJYEUNt34yk2aNKnoF5W+9957iY+BC8po\n",
       "3br1N/yuX3zxxVJtkGjmzJnxewcMGJB4Fru0tLSQxFu2bAnLfXxWvcRf1nRyn6KK\n",
       "y/pJP87Hjh2b+IuPxo8f/5e//CU+60m4P6Mz1AdhoCofyagufvOb3ySeLyFM6CWX\n",
       "XJJ40sWTfuRHrRWf+CQ6Ifgdd9zRpUuXX//614nncqzo/NpV/Baq9z4XSCCQAE5f\n",
       "IL3zzjvxxT/84Q/R/hT/3sZvfetbYVv97LPP4p/5KVf4XNUYSOX+ztCwOlf0KcKX\n",
       "F/9cUNmzIES/6LasxHPWJapbt27iuchOWyBV8U6uJJC+Svj5qEp+UezIkSMrf1Q0\n",
       "bdr0G37XP/3pT+Plu2zeFBUVxS3aokWLkpKSsr94NJaSklItn6Iqy/pJP86Li4sT\n",
       "f3VPqbMUho0//ozhK+nfv3+pE8d17do1fto2qotZs2aV/VDxSRTiQDq5R/5Xx56Y\n",
       "jZ/1Kld8fsKy41bFb6GKgVTF+1wggUACqAZlfxdkuYEU/0bL8Eb8g22ZmZlxpYTN\n",
       "Lxz54IMPvv/97ye+kLpv377xXhv9js6vEk7Jnfg7WG677bZKAqnsq0Sefvrpe++9\n",
       "N963wl747LPPxjcs91N88cUXYUWLf7tolHbhu6vkHGjB3Llzr7nmmsQ7JHwj0a9v\n",
       "OhV/CpX84s5IVe7kygNp+fLl8W80qiiQ4vMHVqTy00Mf16ZNm+IPVeqM7bH4d4MG\n",
       "oR+OHDkSdu74ZVHxk2ADBw4s91U0J/Epyr3f4p/vipPjpB/noZHCR058nifctkOH\n",
       "Dlu3bi37ta1YsWLUqFEPPPBAv3793nrrrfz8/Lg3srKyoggZMWJE/HxOGMbbb799\n",
       "wYIFZc//dnKP/K+OvZqoT58+jRo1KvWnHybi9ddfj+/2csetKt9CRY/Vk7vPK/oy\n",
       "AIEE8J909OjR3NzcRYsWhX9X8pfTJ63UOhU2v4yMjPXr11d0ErOywpK6cePG8BV+\n",
       "/PHHBw8erOKtPvvss7DSffjhh9FvvUyCOzl872H93bVrV1VOvXDmCF/thg0bonPQ\n",
       "hz/36MX6Ne6PINzz77//fngEJp4gLhY68A/HjB8/Pj44bdq0cp9mLCwsDGkX+mHf\n",
       "vn2n4pH/1bGni8NdvXDhwjlz5qxataoq53s8oW/hDPlvCyCQAGqkyp8bgSRw//33\n",
       "x08KhcAIPTNy5Mj4tzlF52n0LQACCQCBRK2QnZ2deDKSRJdccsmqVat8C4BAAuD/\n",
       "+/a3v332MWPGjHFvkKxycnJuvfXWxDORXHzxxR07dvz00099C4BAAgBqo+iVb++/\n",
       "//5JvGLHtwAIJAAAAIEEAAAgkAAAAAQSAACAQAIAABBIAAAAAgkAAEAgcYbJz8/P\n",
       "yMgoLCys4vXDNVevXr1y5codO3a49wAAQCAllSlTpnTr1m3z5s1VSaPnnnsuJSWl\n",
       "29fGjx//5Zdfug8BAEAg1XiHDh1asGBBlDrHDaRw5ZEjR4ZrPvPMM++8886sWbP6\n",
       "9u0bLoY33JMAACCQarC1a9cOGzYsLS0tfi7ouIGUnp4erjZmzJji4uL4g4QjTzzx\n",
       "RElJibsUAAAEUg0OpKFf6969e1UCacSIEeFqu3btSjyYkZHxwQcfxMkEAAAIpJpt\n",
       "woQJxw2kvXv3husMHDjwq2M/a7d+/frc3Nz9+/e79wAAQCDVukDaunVruE645uuv\n",
       "v554koZp06aFXnIfAgCAQKpFgfTxxx+H66SmpoZ/v/DCCwsXLnzttdd69OgRLk6d\n",
       "OrWSG/7tb3/rBgBAchkzZowtWiDV6kDKzs6OhmHmzJnxwW3btkXJtHPnzopuGN77\n",
       "f4BvzCiBUYIzbZps0QKpVgfSv/71ryiQDhw4kHh83Lhx4eDy5csFEtjqwCiBQEIg\n",
       "1ZZA2r59e7hOz549Sx1/9dVXw/F3331XIIGtDowSCCQEUm0JpOLi4j59+oSr7d27\n",
       "N/H4mDFjwsFVq1YJJLDVgVECgYRAStpAysvLe++Y+Mi0adPC1SZPnnz06NHoyJo1\n",
       "a8KRHj16VHK+b/8rAlsdGCUQSAikGh9I6enp0YuO4iP79u0bMGBAOPL000/PmjVr\n",
       "0qRJ0fm+33nnnUo+uP8Vga0OjBIIJARSTRJSp6JASk1NTTy4a9eucePG9erVK2qn\n",
       "p556KjMzs/IP7n9FYKsDowQCCYGEQILqNHv2bHcCGCUQSAIJgQT8P59//rk7AYwS\n",
       "CCSBhEACbHVglEAgCSQEEmCrA6MEAkkgIZAAWx0YJRBIAgmBBNjqwCiBQBJICCTA\n",
       "VgdGCQSSQEIgAbY6MEogkAQSAgmw1YFRAoEkkBBIgK0OjBIIJIGEQAJsdWCUQCAh\n",
       "kASSQAJbHRglEEgIJAQS2OrAKIFAQiAhkMBWB0YJBBICCYEEtjowSiCQEEgIJLDV\n",
       "gVECgYRAQiCBrQ6MEggkBBICCWx1YJRAICGQEEhgqwOjBAJJIAkkBBLY6sAoAQJJ\n",
       "ICGQwFYHRgkQSAIJgQS2OjBKgEASSAgksNWBUQIEkkBCIIGtDowSIJAEEgIJbHVg\n",
       "lACBJJAQSGCrA6MECCSBhEACWx0YJUAgCSQEUnlGLC349ZQNZ/4/4ev0X2RbHWCU\n",
       "QCAJJATSKbRyd3Foj/DvM/+fOk8u919kWx1glEAgCSQE0ikPpBrxHyOBZKsDjBII\n",
       "JIGEQBJIAslWZ6sDowQCSSAhkASSQMJWB0YJBJJAQiAJJIGErQ6MEggkgYRAEkgC\n",
       "CVsdGCUQSAIJgSSQBBK2OjBKIJAEEgJJIAkkbHVglEAgCSQEkkASSNjqwCiBQBJI\n",
       "CCSBJJCw1YFRAoEkkBBIAkkgYasDowQCSSAhkASSQMJWB0YJBBICSSAJJIGErQ6M\n",
       "EggkBBICSSBhqwOjBAIJgYRAEkjY6sAogUBCICGQBBK2OjBKIJAQSAgkgYStDowS\n",
       "CCQEEgJJIGGrA6MEAgmBhEASSNjqwCiBQEIgIZAEErY6MEqAQBJICCSBhK0OjBIg\n",
       "kAQSAkkgYasDowQIJIGEQBJI2OrAKAECSSAhkAQStjowSoBAEkgIJIGErQ6MEiCQ\n",
       "BBICSSBhqwOjBAgkgYRAEkjY6sAoAQJJICGQBBK2OjBKgEASSAgkgYStDowSIJAE\n",
       "EhXKz8/PyMgoLCw8oVvt27cv3Grbtm0CSSBhqwOjBAIJgZQ8pkyZEh7imzdvrvpN\n",
       "SkpKXnjhhXCrBQsWCCSBhK0OjBIIJARSMjh06FAonG7HnFAgvf/++9GtBJJAwlYH\n",
       "RgkEEgKpxlu7du2wYcPS0tK6fa3qgbRz585ww549ewokgYStDowSCCQEUpIE0tCv\n",
       "de/eveqBdOTIkREjRjzxxBOLFy8WSAIJWx0YJRBICKRkM2HChKoH0htvvBGuvHr1\n",
       "6uzsbIEkkLDVgVECgYRAqr2BtHHjxpSUlGnTpoW3qx5I5Zo9e/bnZ4x5q3e0H/fP\n",
       "z2uCEEifUyvl5OS4E8AowWkWFrZuFbNFC6TaHkgHDx4cMGBA//79i4qKTiiQPIPk\n",
       "GST8tTcYJfAMEgIp2QJp2rRp4Wq5ubnRRYEkkLDVgVECgYRAqqWBlJOTE64zderU\n",
       "Q19bsWJFOPLmm2+Gt48ePSqQBBK2OjBKIJAQSLUlkObMmVPJT6AuXrxYIAkkbHVg\n",
       "lEAgIZBqSyCtWrVq0r8bPnx4uNXQoUPD2/HP3QkkgYStDowSCCQEUhIGUl5e3nvH\n",
       "VHQrr0ESSNjqwCiBQEIg1ZZASk9Pr/wEjgJJIGGrA6MEAgmBlIQmTZpUUSClpqZW\n",
       "dKvVq1eHK7zzzjsCSSBhqwOjBAIJgUSVCCSBhK0OjBIIJAQSAkkgYasDowQCCYGE\n",
       "QBJI2OrAKIFAQiAhkAQStjowSiCQEEgIJIGErQ6MEggkBBICSSBhqwOjBAIJgYRA\n",
       "EkjY6sAogUBCICGQBBK2OjBKgEASSAgkgYStDowSIJAEEgJJIGGrA6MECCSBhEAS\n",
       "SNjqwCgBAkkgIZAEErY6MEqAQBJICCSBhK0OjBIgkAQSAkkgYasDowQIJIGEQBJI\n",
       "2OrAKAECSSAhkAQStjowSoBAEkgIJIGErQ6MEiCQBBICSSBhqwOjZJRAIAkkBJJA\n",
       "wlYHGCUQSAIJgSSQsNUBRgkEkkBCIAkkbHWAUQKBJJAQSAIJWx1glEAgCSQEkkDC\n",
       "VgcYJRBIAgmBJJCw1QFGCQSSQEIgCSRsdYBRAoEkkBBIAglbHWCUQCAJJASSQBJI\n",
       "tjrAKIFAEkgIJIEkkLDVgVECgSSQEEgCSSBhqwOjBAJJICGQBJJAwlYHRgkEkkBC\n",
       "IAkkgYStDowSCCSBhEASSAIJWx0YJRBIAgmBJJAEErY6MEogkAQSAkkgCSRsdWCU\n",
       "QCAJJASSQBJI2OrAKIFAEkgIJIEkkLDVgVECgSSQ3AUCSSAJJGx1YJRAICGQEEgC\n",
       "CVsdGCUQSAgkBJJAwlYHRgkEEgIJgSSQsNWBUQKBhEBCIAkkbHVglEAgIZAQSAIJ\n",
       "Wx0YJRBICCQEkkDCVgdGCQQSAgmBJJCw1YFRAoGEQEIgCSRsdWCUAIEkkBBIAglb\n",
       "HRglQCAJJASSQMJWB0YJEEgCCYEkkLDVgVECBJJAQiAJJGx1YJQAgSSQEEgCCVsd\n",
       "GCVAIAkkBJJAwlYHRgkQSAIJgSSQsNWBUQIEkkBCIAkkbHVglACBJJAQSAIJWx0Y\n",
       "JUAgCSQEkkDCVgcYJRBIAgmBJJCw1QFGCQSSQKLK8vPzMzIyCgsLq3LloqKiDRs2\n",
       "ZGZmrl+/PrwtkAQStjowSiCQEEhJZcqUKeEhvnnz5sqvVlJS8v7776elpXX7Wu/e\n",
       "vcMRgSSQsNWBUQKBhEBKBocOHVqwYEFUO8cNpCVLloSrde/efc6cOUuXLv3HP/6R\n",
       "kpISjmRnZwskgYStDowSCCQEUg22du3aYcOGJT4dVHkgFRcXP/nkk+FqK1eujA9G\n",
       "cfXcc88JJIGErQ6MEggkBFLNDqShX+vevftxA2n37t3hOgMGDCgpKYkPhv/NhIM9\n",
       "e/YUSAIJWx0YJRBICKQkMWHChOMGUl5eXkipl19+udTBcMP+/fsLJIGErQ6MEggk\n",
       "BFItCqRyTZ8+Pdxw4sSJAkkgYasDowQCCYFUewOppKRk7ty50Tkbdu3aVXkglWv2\n",
       "7NmfnzHmrd7Rftw/P68JQiB9Tq2Uk5PjTgCjBKdZWNi6VcwWLZAE0v8Ximj06NHh\n",
       "Jj169MjNza38yp5B8gwS/tobjBJ4BgmBlJyBVFxcvHDhwujcd6GR8vPzj3sTgSSQ\n",
       "sNWBUQKBhEBKwkA6cuTIpEmTot8Pu3Tp0sTT2QkkgYStDowSCCQEUu0KpOhFR8OG\n",
       "Ddu7d2/VP7hAEkjY6sAogUBCINX4QMrLy3vvmOhiiKLu3bv37Nlz//79J/TBBZJA\n",
       "wlYHRgkEEgKpxgdSenp64vlJVqxYEf1O2BfKKPXLkQSSQMJWB0YJBBICqQaLXllU\n",
       "biClpqZGF+fMmVPRGR4HDRokkAQStjowSiCQEEj4ETuBhK0OjBIIJAQSAkkgYasD\n",
       "owQCCYGEQBJI2OrAKAECSSAhkAQStjowSoBAEkgIJIGErQ6MEiCQBBICSSBhqwOj\n",
       "BAgkgYRAEkjY6sAoAQJJICGQBBK2OjBKgEASSAgkgYStDowSIJAEEgJJIGGrA6ME\n",
       "CCSBhEASSNjqwCgBAkkgIZAEErY6MEqAQBJICCSBhK0OjJJRAoEkkBBIAglbHWCU\n",
       "QCAJJASSQMJWBxglEEgCCYEkkLDVAUYJBJJAQiAJJGx1gFECgSSQEEgCCVsdYJRA\n",
       "IAkkBJJAwlYHGCUQSAIJgSSQsNUBRgkEkkBCIAkkbHWAUQKBJJAQSAJJINnqAKME\n",
       "AkkgIZAEkkCy1dnqwCiBQBJICCSBJJCw1YFRAoEkkBBIAkkgYasDowQCSSAhkASS\n",
       "QMJWB0YJBJJAQiAJJIGErQ6MEggkgYRAEkgCCVsdGCUQSAIJgSSQBBK2OjBKIJAE\n",
       "EgJJIAkkbHVglEAgCSQEkkASSNjqwCiBQBJICCSBJJCw1YFRAoGEQEIgCSRsdWCU\n",
       "QCAhkBBIAglbHRglEEgIJASSQMJWB0YJBBICCYEkkLDVgVECgYRAQiAJJGx1YJRA\n",
       "ICGQEEgCCVsdGCUQSAgkBJJAwlYHRgkEEgIJgSSQsNWBUQIEkkBCIAkkbHVglACB\n",
       "JJAQSAIJWx0YJUAgCSQEkkDCVgdGCRBIAgmBJJCw1YFRAgSSQEIgCSRsdWCUAIEk\n",
       "kBBIAglbHRglQCAJJASSQMJWB0YJEEgCCYEkkLDVgVECBJJAQiAJJGx1YJQAgSSQ\n",
       "EEgCCVsdGCWjBAJJICGQBBK2OsAogUASSAgkgYStDjBKIJAEEgJJIGGrA4wSCCSB\n",
       "hEASSNjqAKMEAkkgIZAEErY6wCiBQBJICCSBhK0OMEogkAQSAkkgYasDjBIIJIHE\n",
       "f15+fn5GRkZhYaFAEkjY6sAogUBCINV2U6ZMCSOxefNmgSSQsNWBUQKBhECqvQ4d\n",
       "OrRgwYJuxwgkgYStDowSCCQEUi21du3aYcOGpaWldfuaQBJI2OrAKIFAQiDV3kAa\n",
       "+rXu3bsLJIGErQ6MEggkBBL/z4QJEwSSQMJWB0YJBBICiRMOpJ/2nDhiacEZ/k+o\n",
       "I4GErQ6MEiCQBBKnI5DK/efesYv6vrnxzPnn8xoiBNLn1Eo5OTnuBDBKcJrNnj27\n",
       "W8VsxQKJpP0RuxrEM0j+2hswSuAZJIGEQEIg2epsdWCUQCAJJAQSAglbHRglEEgC\n",
       "CYGEQMJWB0YJBJJAQiAhkLDVgVECgSSQqFhJSUlOTs7IkSPvvPPOtm3btmzZsmnT\n",
       "plddddUNN9yQmpo6d+7c8J97gSSQsNUBRgkEkkBKcvv27Rs9evTll19ep1LnnHPO\n",
       "fffdt3Tp0tPzVU2aNEkgCSRsdWCUQCAhkE6fw4cPP/PMM40aNYoS6KKLLrr22mvv\n",
       "uuuuHj16jB07durUqYMGDXrooYf+53/+p3nz5vXq1Yuudsstt2zduvWM+kYEkkDC\n",
       "VgdGCQQSAukbycvLu+KKK0LwNG3atFevXjk5OZVff/fu3aGafvrTn4abnH/++W+/\n",
       "/bZAEkjY6gCjBAJJICWJFStWNG7c+Pnnnz906NAJ3fCdd9655pprRo4cKZAEErY6\n",
       "wCiBQBJISaKoqKiwsDC+mJ6e/uSTTy5fvrzcK7/44ovhvXv27InP6PDFF18IJIGE\n",
       "rQ4wSiCQBFJyGjhwYJ06dcaPH1/ue6OfrPvkk0/OzC9eIAkkbHVglEAgIZCqwZIl\n",
       "S9475sEHHwwJlJaW9l4Zb7zxxgUXXBDeu3PnToEkkLDVAUYJBJJASlqNGzeuUzWh\n",
       "kY4cOSKQBBK2OsAogUASSEnrJz/5yXePueiii0IFXXLJJd8t4/vf//4vfvGLWbNm\n",
       "nbHfhUASSNjqwCiBQEIgfSPFxcWJ56+r/DVIpZSUlBQVFQkkgYStDjBKIJAEUpJY\n",
       "uXJls2bNJk+efPTo0XBxwoQJ11133Zw5c457w0WLFv34xz92mm+BhK0OMEogkARS\n",
       "8ti6dWvTpk3r1KnTqlWrYcOGhYuVXz/85/7FF19s165duMl55503f/58gSSQsNUB\n",
       "RgkEkkBKHnv37u3SpUvdunVD84R/t2zZ8oYbbnj44YeHDBny0ksvzZgxY/jw4Y89\n",
       "9tjNN998xRVXnH322dHZGu67777t27d7DZJAwlYHGCUQSAIpCeXm5nbt2vX888+v\n",
       "/Cx2DRo0eOSRR9auXeskDQIJWx1glEAgCaQkd+DAgfnz5/fq1euXv/zlD37wg4su\n",
       "uuiCCy644oor2rdv//jjj7/xxhv79+8/Y794gSSQsNWBUQKBhEBCIAkkbHVglEAg\n",
       "IZBOpZKSkvBf9s/KU1xcLJAEErY6wCiBQBJItcK7777btm3bc889t6KXIX3yyScC\n",
       "SSBhqwOMEggkgVQrTtXQoEGDys/TIJAEErY6wCiBQBJItUKvXr1CAl122WWTJk36\n",
       "7LPPCstTUlIikAQStjrAKIFAEkjJ77bbbguBNGrUKCdpQCDZ6gCjBAJJINV2v/nN\n",
       "b0IgLVmyRCAhkGx1gFECgSSQaru+ffuGQHr++ecFEgLJVgcYJRBIAqm227x583nn\n",
       "nXfhhRd+9NFHAkkguRNsdYBRAoEkkGqd0aNH903wi1/8ok6dOvXq1bvppptSU1P7\n",
       "lrFnzx6BJJCw1QFGCQSSQEpOV155ZZ0T4TTfAglbHWCUQCAJpKT19NNP/+lEFBQU\n",
       "CCSBhK0OMEogkAQSXoMkkLDVAUYJBJJAQiAJJGx1gFECgSSQEEgCCVsdYJRAIAkk\n",
       "BJJAEki2OsAogUASSAgkBJKtDjBKIJAEEgIJgYStDowSCCSBhEBCIGGrA6MEAkkg\n",
       "UbEvv/xy/vz5o0aN6tOnT7iYnZ194MABgSSQsNUBRgkEkkCqdYYPH964ceM6XwtH\n",
       "brzxxgYNGgwePFggCSRsdYBRAoEkkGqRHj16RF3UtGnTOJDuuuuu6O0hQ4YIJIGE\n",
       "rQ4wSiCQBFKtkJGRESrorLPOmjhxYrjYpEmTKJAOHz48dOjQ8HajRo32798vkAQS\n",
       "tjrAKIFAEkjJb/DgwaGCevfuHV2MAynSqlWrcHHp0qUCSSBhqwOMEggkgZT8brnl\n",
       "lpBAGRkZ5QbSww8/HC7OmDFDIAkkbHWAUQKBJJCS3wMPPBAS6K233io3kKJ88gyS\n",
       "QMJWBxglEEgCqVYYM2ZMSKAQQmUDKScnp379+nXr1j1jz/ctkAQStjowSiCQEEjV\n",
       "qaCgoFmzZiGKbr/99mXLll188cXh7by8vEmTJkUntevcufMZ+8ULJIGErQ6MEggk\n",
       "BFI1+/DDDxs2bFinPK1btz6Tf12sQBJI2OrAKIFAQiBVv08//fT++++/6KKL4jRq\n",
       "0aLF6NGjDx06dCZ/2QJJIGGrA6MEAgmBdArt3LkzOzu7oKCgRny1AkkgYasDowQC\n",
       "CYF0SnzxxRclJSXhjfDvmTNnpqWljR07dvPmzQJJIGGrA4wSCCSBVIvk5OS0a9eu\n",
       "Xr160cuNunTpEv+gXcOGDZctWyaQBBK2OsAogUASSLXl1UeNGjWKcigE0urVq6O3\n",
       "mzVr1rJly/BGmzZtBJJAwlYHGCUQSAKpVnj66adDBYUWysrKChf79+8fLl599dWH\n",
       "Dx8uLCxs3rx5uJibmyuQBBK2OsAogUASSMnvnnvuCQn0yiuvRBfbt28fLk6cODG6\n",
       "+Oijj4aL8+fPF0gCCVsdYJRAIAmk5Hf99deHBFqzZk14++DBg/Xr1w8Xt27dGr03\n",
       "LS0tXHz55ZcFkkDCVgcYJRBIAin5dezYMSTQ22+/Hd6eO3dueLt58+bxe2+66aZw\n",
       "5L333hNIAglbHWCUQCAJpOQ3aNCgkEDt2rWbNWtWq1atwttdu3aN3jVv3rx69eqd\n",
       "ffbZu3btEkgCCVsdYJRAIAmk5Ldjx47zzz8/Pq/3ueeeG/243YMPPhgd6dSp0xn7\n",
       "xQskgYStDowSCCQEUjVbvHjxVVddVbdu3TZt2rz00kvRwVtvvTXUUYcOHQoLCwWS\n",
       "QMJWBxglEEgCqXYpKipKvJiVlZWXl3eGf80CSSBhqwOjBAIJgYRAEkjY6sAogUBC\n",
       "IJ1KJSUl4b/sn5WnuLj45J6S2rhxY2Zm5rp16w4cOFCVmxQWFubm5i5dujT8e//+\n",
       "/QJJIGGrA6MEAgmBdLq9++67bdu2Pffcc+tU4JNPPjnRj5mVldW7d+9uX0tLSwuf\n",
       "pfKbvP/++7169Ypv0r179+P+glqBJJCw1YFRAoGEQKpOubm5DRo0qFOpEw2kTZs2\n",
       "paSkhEf2lClTlixZMmPGjOjiypUrK7rJP//5z3CF1NTUcOWlS5dOnTo1NFU4kpmZ\n",
       "KZAEErY6MEogkBBIp0mvXr1CAl122WWTJk367LPPCstTUlJyQh9z3Lhx4WE9a9as\n",
       "+MiiRYvCkaFDh1Z0k5BS4QqJTxm99tpr4ciYMWMEkkDCVgdGCQQSAuk0ue2220Ig\n",
       "jRo1qro+4JEjR6Inf/bs2ZN4sEePHuFg+J9HubcKIRTeG/0KpsTnlIYNGyaQBBK2\n",
       "OjBKIJAQSKfJb3/72xBIS5Ysqa4PmJ+fHx7T/fr1K3V89OjR4fi6devKvdWCBQvC\n",
       "e1955ZX4yLRp08KROXPmCCSBhK0OjBIIJATSaTJmzJgQSM8//3x1fcBNmzaFx/TI\n",
       "kSNLHZ84cWIlL0Pav3//M888E64wduzYN954Y8SIEdGP5CU+DVVuIJVr9uzZn3Pi\n",
       "QiC5E2qnnJwcdwIYJTjNwsLWrWK2dIH0H5OXl9e8efMLL7zwo48+qpYPuGHDhvCY\n",
       "Hj16dKnj0TNCFZ10obi4eOHChaUGY8GCBZW//MkzSJ5Bwl97g1ECzyAhkKrT8uXL\n",
       "e/bsWadOnXr16t10002pqal9y6j8aZxS1q9fX24gRadhqCiQXn755fDeHj16vPHG\n",
       "G6tWrQppFJ0lfPz48QJJIGGrA6MEAgmBdJoMHDiwzvGc0Gm+N2/eHB7Tw4cPL3V8\n",
       "woQJFf2I3dGjR3v16pWSkrJp06b44M6dO6PzOuzbt08gCSRsdWCUQCAhkE6H+fPn\n",
       "/+l4CgoKqv4Bw5Wj54JK/XTckCFDwvGNGzeWvUk4WO5JwMePHx+Or1ixQiAJJGx1\n",
       "YJRAICGQ/gOOHj26d+/eb/IRiouLe/XqFR7W27ZtSzwHQ2pqakpKSnij7E3CNcP1\n",
       "Bw8eXOr4X//613B89erVAkkgYasDowQCCYF0+uzbt69Pnz4//OEPzz333Dp16lx0\n",
       "0UU///nPZ86ceXIfbfLkydHveI2fRIrO0BD/tqW8vLz3jokuxr86acmSJfFNPv74\n",
       "45RjKgk2gSSQsNWBUQKBhECqZtnZ2Zdcckm5rz666aabQr2c6AfMz8+Pgqdfv35T\n",
       "p04dOHBgeDukTvzzdenp6aVO4Lh48eLoSLjJjBkzJkyYEK4fLs6fP99JGgQStjow\n",
       "SiCQEEinyRdffHHFFVeEFmrYsGH//v0XLFiwYsWKmTNnduzYMWqkJ5988iQ+7JYt\n",
       "W4YNGxafsPupp55as2ZN/N4okFJTUxNvkpWVFa4W3yR83lBNxcXFAkkgYasDowQC\n",
       "CYF0mkycODFU0CWXXLJ169ZS73rxxRfDu84555zDhw+fmV+8QBJI2OrAKIFAQiBV\n",
       "pz//+c+hgsaNG1fue3/2s5+F91bX75AVSAIJWx0YJUAgCaQz2g033BASaNmyZeW+\n",
       "97HHHgvvffXVVwWSQMJWBxglEEgCKfk98sgjIYH+8Y9/lPveX/3qV+G9WVlZAkkg\n",
       "YasDjBIIJIGU/MaNGxcS6PLLLy97Nu033ngjvOuss846ePCgQBJI2OoAowQCSSAl\n",
       "v927dzdt2jSE0KWXXvr3v/997dq1O3fuzMzMTE1NPeecc8LxLl26nLFfvEASSNjq\n",
       "wCiBQEIgVbP09PT69euX+3uQ/vu//7uoqEggCSRsdYBRAoEkkGqRLVu23HfffQ0b\n",
       "NozT6NJLL3322WfP2BN8CySBhK0OjBIIJATSKffpp5/m5uYeOHCgRny1AkkgYasD\n",
       "owQCCYF0ShQWFr733nvjx48fMmTI9OnTs7KySkpKBJJAwlYHGCUQSAKpdikuLn7u\n",
       "uecaN25c6gVI11577aJFiwSSQMJWBxglEEgCqRbp06dPVETnnHNO69at27Zt26xZ\n",
       "s/hIRb9DViAJJGx1gFECgSSQks3ixYujFnrkkUd27twZH8/MzLzuuuvC8RYtWggk\n",
       "gYStDjBKIJAEUq3w1FNPhQq6++67y76roKAg+rm7LVu2CCSBhK0OMEogkARS8rvt\n",
       "tttCAs2bN6/c9957773hvXPmzBFIAglbHWCUQCAJpOQXJVB6enq57+3UqVN479y5\n",
       "cwWSQMJWBxglEEgCKfmNGDEiJFCvXr3KvquwsLBp06bhvTt27BBIAglbHWCUQCAJ\n",
       "pOS3ffv2Sy+9tG7duuPHjz969Gh8PD8/P/rpu06dOjlJg0DCVgcYJRBIAqlWePPN\n",
       "N3/5y19GJ7K7/PLLO3fu3LVr1w4dOjRo0CA6eP/99z+aYOHChQJJIGGrA4wSCCSB\n",
       "lJwGDhxY50Q888wzAkkgYasDjBIIJIGUnNLT0588EYsXLxZIAglbHWCUQCAJJLwG\n",
       "SSBhqwOMEggkgVQ7fPHFFyUlJeGN8O+ZM2empaWNHTt28+bNAkkgYasDjBIIJIFU\n",
       "i+Tk5LRr165evXoHDhwIF7t06RK/4qhhw4bLli0TSAIJWx1glEAgCaRa4dNPP23U\n",
       "qFGUQyGQVq9eHb3drFmzli1bhjfatGkjkAQStjrAKIFAEki1wtNPPx0qKLRQVlZW\n",
       "uNi/f/9w8eqrrz58+HBhYWHz5s3DxdzcXIEkkLDVAUYJBJJASn733HNPSKBXXnkl\n",
       "uti+fftwceLEidHFRx99NFycP3++QBJI2OoAowQCSSAlv+uvvz4k0Jo1a8LbBw8e\n",
       "rF+/fri4devW6L1paWnh4ssvvyyQBBK2OsAogUASSMmvY8eOIYHefvvt8PbcuXPD\n",
       "282bN4/fe9NNN4Uj7733nkASSNjqAKMEAkkgJb9BgwaFBGrXrt2sWbNatWoV3u7a\n",
       "tWv0rnnz5tWrV+/ss8/etWuXQBJI2OoAowQCSSAlvx07dpx//vnxeb3PPffc6Mft\n",
       "HnzwwehIp06dztgvXiAJJGx1YJRAICGQqtnixYuvuuqqunXrtmnT5qWXXooO3nrr\n",
       "raGOOnToUFhYKJAEErY6wCiBQBJItUtRUVHixaysrLy8vDP8axZIAglbHRglEEgI\n",
       "pFPiyy+/nD9//qhRo/r06RMuZmdnHzhwQCAJJGx1gFECgSSQap3hw4c3btw4fiVS\n",
       "OHLjjTc2aNBg8ODBAkkgYasDjBIIJIFUi/To0SPqoqZNm8aBdNddd0VvDxkyRCAJ\n",
       "JGx1gFECgSSQaoWMjIxQQWedddbEiRPDxSZNmkSBdPjw4aFDh4a3GzVqtH//foEk\n",
       "kLDVAUYJBJJASn6DBw8OFdS7d+/oYhxIkeg3Iy1dulQgCSRsdYBRAoEkkJLfLbfc\n",
       "EhIoIyOj3EB6+OGHw8UZM2YIJIGErQ4wSiCQBFLye+CBB0ICvfXWW+UGUpRPnkES\n",
       "SNjqAKMEAkkg1QpjxowJCRRCqGwg5eTk1K9fv27dumfs+b4FkkDCVgdGCQQSAqk6\n",
       "FRQUNGvWLETR7bffvmzZsosvvji8nZeXN2nSpOikdp07dz5jv3iBJJCw1YFRAoGE\n",
       "QKpmH374YcOGDeuUp3Xr1mfyr4sVSAIJWx0YJRBICKTq9+mnn95///0XXXRRnEYt\n",
       "WrQYPXr0oUOHzuQvWyAJJGx1YJRAICGQqvk1SI8//vj8+fOjizt37szOzi4oKKgR\n",
       "X7xAEkjY6sAogUBCIFWn1NTUOnXq/P73v6+JX7xAEkjY6sAogUBCIFWn119/PQRS\n",
       "8+bNCwsLBZJAcifY6gCjBAJJINVqRUVFt99+e2ikTp067d+/XyAJJGx1gFECgSSQ\n",
       "aq81a9ZMnz79e9/7XmikCy+8sHPnzn379h3x7/bt2yeQBBK2OsAogUASSMlv4MCB\n",
       "dY7nk08+EUgCCVsdYJRAIAmk5Pfaa6/97nh2794tkAQStjrAKIFAEkh4DZJAwlYH\n",
       "GCUQSAIJgSSQsNUBRgkEkkBCINXmQFq5u7hG/OMPy1YHRgkEEgIJgXRqjVha8Osp\n",
       "G878f6KQ8+dlqwOjBAIJgYRA4v+ERhJItjowSiCQEEg1TFFR0caNGzMzM9etW3fg\n",
       "wIEq3qqwsHD16tUrV67csWOHQEIg2erAKIFAQiAlg6ysrN69e3f7Wlpa2rvvvnvc\n",
       "NHruuedSUlLiW40fP/7LL78USAgkWx0YJRBICKTTLaTI/PnzR40a1adPn3AxOzu7\n",
       "6k/7lLJp06aoc6ZMmbJkyZIZM2ZEF1euXFnRTQ4dOjRy5MhwnWeeeeadd96ZNWtW\n",
       "3759w8XwhkBCINnqwCiBQEIgnVbDhw9v3Lhxna+FIzfeeGODBg0GDx58Eh9t3Lhx\n",
       "pdpm0aJF4cjQoUMrukl6enq4wpgxY4qLi6Mja9euDUeeeOKJkpISgYRAstWBUQKB\n",
       "hEA6TXr06BF1UdOmTeNAuuuuu6K3hwwZckIf7ciRI2lpaeFhvWfPnsSD4bOEg+F/\n",
       "HuXeasSIEeG9u3btSjyYkZHxwQcfxMkkkBBItjowSiCQEEinVoiQUEFnnXXWxIkT\n",
       "w8UmTZpEgXT48OGhQ4eGtxs1arR///6qf8D8/PzwmO7Xr1+p46NHjw7H161bV/Ym\n",
       "e/fuDe8aOHBg9LN269evz83NrconFUgCCVsdGCUQSAik6jR48OBQQb17944uxoEU\n",
       "adWqVbi4dOnSE3oBUnhMjxw5stTxEGAVvQxp69at4V0TJkx4/fXXE0/SMG3atNBL\n",
       "AgmBZKsDowQCCYF0mtxyyy0hgTIyMsoNpIcffjhcnDFjRtU/4IYNG8JjevTo0aWO\n",
       "h9oJxzMzM8ve5OOPPw7vSk1NDf9+4YUXFi5c+Nprr0U/kjd16tTKA6lcs2fP/pzk\n",
       "1X7cP+et3uF+qEY5OTnuBDBKcJqFha1bxWzpAuk/5oEHHggJ9NZbb5UbSFE+ndAz\n",
       "SOvXry83kKZMmVJRIGVnZ0eTMHPmzPjgtm3bomTauXOnZ5DwDJK/9gajBJ5BQiCd\n",
       "DmPGjAkJFEKobCDl5OTUr1+/bt26J3S+782bN4fH9PDhw0sdnzBhQkU/Yvevf/0r\n",
       "CqRSnyg6G97y5csFEgLJVgdGCQQSAul0KCgoaNasWYii22+/fdmyZRdffHF4Oy8v\n",
       "b9KkSdFJ7Tp37nyiHzA8pnv06FHq9NxDhgwJxzdu3Fj2Jtu3bw/v6tmzZ6njr776\n",
       "ajheyW+YFUgCCVsdGCUQSAikavbhhx82bNiwTnlat259or8utri4uFevXuFhvW3b\n",
       "tvjg/v37U1NTU1JSyj03XbhJnz59wk327t1b6tmtcHDVqlUCCYFkqwOjBAIJgXT6\n",
       "fPrpp/fff/9FF10Up1GLFi1Gjx5d+UnkKjJ58uTot77GTyJFZ2gYNWpUdDEvL++9\n",
       "Y0qdwiHc8OjRo9GRNWvWRM9EVXK+b4EkkLDVgVECgYRAOoV27tyZnZ1dUFDwTT5I\n",
       "fn5+9Lti+/XrN3Xq1IEDB4a3U1JS4p+vS09PL3V+kn379g0YMCAcefrpp2fNmjVp\n",
       "0qTofN/vvPNOJZ9IIAkkbHVglEAgIZBOiS+++CJ6wif8e+bMmaFwxo4du3nz5pP7\n",
       "aFu2bBk2bFh8osannnpqzZo18XujQEpNTU28ya5du8aNGxf9eF50k3JPeSeQEEi2\n",
       "OjBKIJAQSKdQTk5Ou3bt6tWrF73cqEuXLvEP2jVs2HDZsmVn7FcukAQStjowSiCQ\n",
       "EEjV/OqjRo0aRTkUAmn16tXR282aNWvZsmV4o02bNgIJgWSrA4wSCCSBVCs8/fTT\n",
       "oYJCC2VlZYWL/fv3Dxevvvrqw4cPFxYWNm/ePFzMzc0VSAgkWx1glEAgCaTkd889\n",
       "94QEeuWVV6KL7du3DxcnTpwYXXz00UfDxfnz5wskBJKtDjBKIJAEUvK7/vrrQwJF\n",
       "Z1A4ePBg/fr1w8WtW7dG701LSwsXX375ZYGEQLLVAUYJBJJASn4dO3YMCfT222+H\n",
       "t+fOnRvebt68efzem266KRxJ/IVFAgmBZKsDjBIIJIGUtAYNGhQSqF27drNmzWrV\n",
       "qlV4u2vXrtG75s2bV69evbPPPnvXrl0CCYFkqwOMEggkgZT8duzYcf7558fn9T73\n",
       "3HOjH7d78MEHoyOdOnU6Y794gSSQsNWBUQKBhECqZosXL77qqqvq1q3bpk2bl156\n",
       "KTp46623hjrq0KFDYWGhQEIg2eoAowQCSSDVLkVFRYkXs7Ky8vLyzvCvWSAJJGx1\n",
       "YJRAICGQEEgCSSDZ6sAogUBCIFWTPn36/P5E7N69WyAhkGx1gFECgSSQktOVV15Z\n",
       "50R88sknAgmBZKsDjBIIJIGUnCZPnjz0ROzbt08gIZBsdYBRAoEkkPAaJASSrQ4w\n",
       "SiCQBFKtUVRU9NnxFBcXCyQEkq0OMEogkARS8hs4cKDXICGQbHXuBDBKIJAEElUK\n",
       "pIsvvnjnzp0CCYFkqwOMEggkgZT8vvzyy8IytmzZMn369BYtWnz729/+6KOPvAYJ\n",
       "gWSrA4wSCCSBVNtt3rz5W9/6VpMmTUpKSgQSAslWBxglEEgCqba7++6769Spk5ub\n",
       "K5AQSLY6wCiBQBJItd3vfve7EEivvvqqQEIg2eoAowQCSSDVauE/9Oeff34IpIyM\n",
       "DIGEQLLVAUYJBJJASn6LFi3qW55OnTqdd955oY7Cv/fs2SOQEEi2OsAogUASSMmv\n",
       "8tN816tXb9KkSWfsFy+QBBK2OjBKIJAQSNVp/vz5fypPWlraqFGjNm7ceCZ/8QJJ\n",
       "IGGrA6MEAgmBhEASSALJVgdGCQQSAgmBhECy1YFRAoGEQDoNCgsL33vvvfHjxw8Z\n",
       "MmT69OlZWVln7O+HFUgCSSDZ6sAogUBCIJ0qxcXFzz33XOPGjUudoeHaa69dtGiR\n",
       "QEIg2eoAowQCSSDVIn369ImK6JxzzmndunXbtm2bNWsWH1m2bJlAQiDZ6gCjBAJJ\n",
       "INUKixcvjlrokUce2blzZ3w8MzPzuuuuC8dbtGghkBBItjrAKIFAEki1wlNPPRUq\n",
       "6O677y77roKCgujn7rZs2SKQEEi2OsAogUASSMnvtttuCwk0b968ct977733hvfO\n",
       "mTNHICGQbHWAUQKBJJCSX5RA6enp5b63U6dO4b1z584VSAgkWx1glEAgCaTkN2LE\n",
       "iJBAvXr1KvuuwsLCpk2bhvfu2LFDICGQbHWAUQKBJJCS3/bt2y+99NK6deuOHz/+\n",
       "6NGj8fH8/Pzop+86derkJA0IJFsdYJRAIAmkWuHNN9/85S9/GZ3I7vLLL+/cuXPX\n",
       "rl07dOjQoEGD6OD999//aIKFCxcKJASSrQ4wSiCQBFJyGjhwYJ0T8cwzzwgkBJKt\n",
       "DjBKIJAEUnJKT09/8kQsXrxYICGQbHWAUQKBJJDwGiQEkq0OMEogkARSstuzZ8/Y\n",
       "sWO7du36xwp89tlnAgmBZKsDjBIIJIGU/AoKCi6//PLKX3f0ySefCCQEkq0OMEog\n",
       "kARS8hs0aFBIoLPOOuuOO+7o27dv//Ls3btXICGQbHWAUQKBJJCS35133hkCafjw\n",
       "4V6DhECy1QFGCQSSQKrtbr755hBIGRkZAgmBZKsDjBIIJIFU20W/B+kvf/mLQEIg\n",
       "2eoAowQCSSDVdjk5OfXr17/sssvWrVsnkBBItjrAKIFAEki13cyZM6Oz1bVt2zal\n",
       "POG/+AIJgWSrA4wSCCSBlPzy8/NbtWrlNN8IJFsdYJRAIAkkvnr22WdDAtWtW/fG\n",
       "G29MSUnpUR7PICGQbHWAUQKBJJBqhY4dO4ZAGjp0qJM0IJBsdYBRAoEkkGq7u+++\n",
       "OwRSZmamQEIg2eoAowQCSSDVdqNHjw6BNGHCBIGEQLLVAUYJBJJAqu22b9/etGnT\n",
       "xo0bb9iwQSAhkGx1gFECgSSQarXly5c/9thjderUqV+/fqdOnfqWZ8+ePQIJgWSr\n",
       "A4wSCCSBlPwGDhxY53ic5huBZKsDjBIIJIFUK8yfP/9Px1NQUHASH7moqGjjxo2Z\n",
       "mZnr1q07cODACd123759GRkZ27ZtE0gIJFsdGCUQSAikGi8rK6t3797dvpaWlvbu\n",
       "u+9W8bYlJSUvvPBCuNWCBQsEEgLJVgdGCQQSAqlm27RpU0pKSnhkT5kyZcmSJTNm\n",
       "zIgurly5sio3f//996OsEkgIJFsdGCUQSAikU27r1q3rT8SRI0dO6OOPGzcuPKxn\n",
       "zZoVH1m0aFE4UpVfR7tz5860tLSePXsKJASSrQ6MEggkBNLpcOWVV9Y5ESd0koZQ\n",
       "U6FwwsM68dx34WCPHj3CwfA/j8pvO2LEiCeeeGLx4sUCCYFkqwOjBAIJgVTjAyk/\n",
       "Pz88pvv161fq+OjRo8PxdevWVXLbN954I1xn9erV2dnZAgmBZKsDowQCCYF0OmzY\n",
       "sCH7RBw+fPiEXoAUHtMjR44sdXzixImVvwxp48aNKSkp06ZNC28LJASSrQ6MEggk\n",
       "BFKS1Fd4TI8ePbrU8VA+4XhmZma5tzp48OCAAQP69+9fVFR0QoFUrtmzZ39O8mo/\n",
       "7p/zVu9wP1SjnJwcdwIYJTjNwsLWrWKWaoGUPNavX19uIE2ZMqWSQIryKTc3N7ro\n",
       "GSQ8g+SvvcEogWeQEEjJYPPmzeExPXz48FLHJ0yYUNGP2OXk5IR3TZ069dDXVqxY\n",
       "EY68+eab4e2jR48KJASSrQ6MEggkBFKNVFBQEB7TPXr0KCkpSTw+ZMiQcHzjxo1l\n",
       "bzJnzpxKnmBdvHixQEIg2erAKIFAQiDVSMXFxb169QoP623btsUH9+/fn5qampKS\n",
       "Et4oe5NVq1ZN+nfDhw+Pfm9SeDv+uTuBhECy1YFRAoGEQKp5Jk+eHB7WY8aMiZ9E\n",
       "il5iNGrUqOhiXl7ee8dU9BG8BgmBZKsDowQCCYGUJPLz86PfFduvX7+pU6cOHDgw\n",
       "vJ2SkhL/fF16enrl5ycRSAgkWx0YJRBICKTksWXLlmHDhsWvI3rqqafWrFkTvzcK\n",
       "pNTU1Ipuvnr16nCFd955RyAhkGx1YJRAICGQqBKBJJCw1YFRAoGEQEIgCSSBZKsD\n",
       "owQCCYGEQEIg2erAKIFAQiAhkBBItjowSiCQEEgIJASSrQ6MEggkBBICCYFkqwOj\n",
       "BAIJgYRAQiDZ6sAogUBCICGQEEi2OjBKgEASSAgkBJKtDowSIJAEEgIJgWSrA6ME\n",
       "CCSBhEBCINnqwCgBAkkgIZAQSLY6MEqAQBJICCQEkq0OjBIgkAQSAgmBZKsDowQI\n",
       "JIGEQEIg2erAKAECSSAhkBBItjowSoBAEkgIJASSrQ6MEiCQBBICCYFkqwOjZJRA\n",
       "IAkkBBICyVYHGCUQSAIJgYRAstUBRgkEkkBCICGQbHWAUQKBJJAQSAgkWx1glEAg\n",
       "CSQEEgLJVgcYJRBIAgmBhECy1QFGCQSSQEIgIZBsdYBRAoEkkBBICCRbHWCUQCAJ\n",
       "JAQSAslWBxglEEgCCYGEQMJWB0YJBJJAQiAhkLDVgVECgSSQEEgIJGx1YJRAIAkk\n",
       "BBICCVsdGCUQSAIJgYRAwlYHRgkEkkBCICGQsNWBUQKBJJAQSAgkbHVglEAgCSQE\n",
       "EgIJWx0YJRBIAgmBhEDCVgdGCQSSQHIXCCQEErY6MEogkBBICCSBhK0OjBIIJAQS\n",
       "AkkgCSRbHRglEEgIJAQSAslWB0YJBBICCYGEQLLVgVECgYRAQiAhkGx1YJRAICGQ\n",
       "EEgIJFsdGCUQSAgkBBICyVYHRgkEEgIJgYRAstWBUQIEkkBCICGQbHVglACBJJAQ\n",
       "SAgkWx0YJUAgCSQEEgLJVgdGCRBIAgmBhECy1YFRAgSSQEIgIZBsdWCUAIEkkBBI\n",
       "CCRbHRglQCAJJAQSAslWB0YJEEgCCYGEQLLVgVECBJJAQiAhkGx1YJQAgSSQEEgI\n",
       "JFsdYJRAIAkkBBICyVYHGCUQSAIJgYRAstUBRgkEkkCi6oqKijZu3JiZmblu3boD\n",
       "Bw5U8SYbNmwIN1m/fn14WyAhkGx1YJRAICGQkkFWVlbv3r27fS0tLe3dd9+t5Pol\n",
       "JSXvv/9+uFp8k3DzcEQgIZBsdWCUQCAhkGq2TZs2paSkhEf2lClTlixZMmPGjOji\n",
       "ypUrK7pJuFq4Qvfu3efMmbN06dJ//OMf0U2ys7MFEgLJVgdGCQQSAqkGGzduXHhY\n",
       "z5o1Kz6yaNGicGTo0KHlXr+4uPjJJ58sVVALFiwIR5577jmBhECy1YFRAoGEQKqp\n",
       "jhw5Ev2k3J49exIP9ujRIxwM//Moe5Pdu3eHdw0YMKCkpCQ+GK4ZDvbs2VMgIZBs\n",
       "dWCUQCAhkGqq/Pz88Jju169fqeOjR48Ox9etW1f2Jnl5eUOHDn355ZdLHQzX79+/\n",
       "v0BCINnqwCiBQEIg1eAXIIXH9MiRI0sdnzhxYuUvQypl+vTp4frhVpUHUrlmz579\n",
       "Ocmr/bh/zlu9w/1QjXJyctwJYJTgNAsLW7eKWaoFUvLYsGFDeEyPHj261PFp06aF\n",
       "45mZmcf9CCUlJXPnzo3O2bBr1y7PIOEZJH/tDUYJPIOEQKqp1q9fX24gTZkypSqB\n",
       "FIoo+mG8Hj165ObmVn5lgSSQsNWBUQKBhEA6o23evDk8pocPH17q+IQJEyr/Ebvi\n",
       "4uKFCxdGJ3gIjZSfn3/czyWQBBK2OjBKIJAQSGe0goKC6PmfxFPSBUOGDAnHN27c\n",
       "WO6tjhw5MmnSpOj3wy5durTUbQUSAslWB0YJBBICqUYqLi7u1atXeFhv27YtPrh/\n",
       "//7U1NSUlJTwRrm3il50NGzYsL1791b9cwkkgYStDowSCCQE0plu8uTJ4WE9ZsyY\n",
       "+Img6AwNo0aNii7m5eW9d0x0MURR9+7de/bsWVE+CSQEkq0OjBIIJARSTZWfnx+9\n",
       "lKhfv35Tp04dOHBgeDslJSX++br09PTEEziuWLEi+p2wL5RR6pcjCSQEkq0OjBII\n",
       "JARSzbNly5Zhw4bFZ7J/6qmn1qxZE783CqTU1NTo4pw5cyo6Bf6gQYMEEgLJVgdG\n",
       "CQQSAgk/YodAstWBUQKBhEBCICGQbHVglEAgIZAQSAgkWx0YJUAgCSQEEgLJVgdG\n",
       "CRBIAgmBhECy1YFRAgSSQEIgIZBsdWCUAIEkkBBICCRbHRglQCAJJAQSAslWB0YJ\n",
       "EEgCCYGEQLLVgVECBJJAQiAhkGx1YJQAgSSQEEgIJFsdGCVAIAkkBBICyVYHRgkQ\n",
       "SAIJgYRAstWBUTJKIJAEEgIJgWSrA4wSCCSBhEBCINnqAKMEAkkgIZAQSLY6wCiB\n",
       "QBJICCQEkq0OMEogkAQSAgmBZKsDjBIIJIGEQOJMNGJpQZ0nl9eIf2pKyNnqwCiB\n",
       "QBJICCQ45SEX/rHVgUACBJJAQiCBQAKBBAgkgYRAAoEEAgkQSAIJgQQCCQSSOwEE\n",
       "kkBCIIFAAowSCCSBxP9t7258q6oPx4/rVMY2ZNMt29yi4B6Y+JD5ncvEPTjnsjld\n",
       "YOgSM7LIV+diSwv4DUUe1qaYjioTuzGgUDUVpGOFEHnUSVNocUBFS1soj1ooZa1U\n",
       "tLT7E36fcH7eXG/p7SkUpfT1yo1pPz097T3cT87nbe89VyCBQAJMJRBIAgmBBAIJ\n",
       "MJVAIAkkBBIIJMBUAoEkkBBIIJAAUwkEkkBCIIFAAkwlEEgCCYEEAgkwlUAgCSQE\n",
       "EggkwFQCgSSQEEggkABTCQSSQEIggUCyqgNTCQSSQEIggUCyqgNTCQSSQEIggUCy\n",
       "qgNTCQSSQEIggUCyqgNTCQSSQEIggUCyqgNTCQSSQEIggUCyqgNTCQSSQEIggUCy\n",
       "qgNTCQSSQEIggUCyqgNTCQSSQEIggUCyqgNTCQSSQEIggUCyqgNTCQQSAkkgCSQE\n",
       "klUdmEogkBBICCQEklUdmEogkBBICCQEklUdmEogkBBICCQEklUdmEogkBBICCQE\n",
       "klUdmEogkBBICCQEklUdCCQQSAgkBBICyaoOBBIIJAQSAgmBZFUHAgkQSAIJgYRA\n",
       "sqoDgQQIJIGEQEIgWdWBQAIEkkBCICGQrOpAIAECSSAhkBBIVnUgkACBJJAQSAgk\n",
       "qzoQSIBAEkgIJASSVR0IJEAgCST6pr29vb6+vrKysra2tq2tTSAhkKzqQCCBQEIg\n",
       "DVJbtmyZOnXqYx/Kyspat26dQEIgWdWBQAKBhEAadBoaGjIyMsJMKC4u3rx5c2lp\n",
       "afRpdXW1QEIgWdWBQAKBhEAaXIqKisI0WL58eWJk/fr1YSQvL08gIZCs6kAggUBC\n",
       "IA0iHR0dWVlZYRq0tLQkD2ZnZ4fBcLIRSAgkqzowlUAgIZAGi6ampjAHcnJyUsYL\n",
       "CwvDeG1trUBCIFnVgakEAgmBNIhegBTmQEFBQcr4woULe30Z0tixY7vPqOrTzjjZ\n",
       "evrS+R4/T/v8pO7Ox3C4Lo67dsZAujB/1e6rOg+8wXLXjnS69eOtfMchB8HNrV9u\n",
       "AkkgDWp1dXVhDhQWFqaMl5SUhPHKyso033vNNdc81k0YHDNmzLEzGXPaxz9eXl7e\n",
       "7/v8BO/O+R6/aO7aJXf87/+tqh8Qv+r27ds98Pr3R0T/+im3MPiJjPf0pTFFOy+Z\n",
       "tjX8162/bv/zVLWD4OYW/3bN4+U93QSSQBrUdu/efcZAKi4u7jWQPMUOT7HzvKAL\n",
       "0F3FdeEWPQAu8Jt/LFMJPMVOIHHB2bNnT5gDc+bMSRlfsGBBr0+xE0gIJKu6CzOQ\n",
       "qo90Og4CCRBIAomz0dzcHOZAdnZ2V1dX8nhubm4Yr6+vF0gIJKu6xCGN/jhzgd8u\n",
       "mbZVIAkkQCAJJM5SZ2fnlClTwjTYv39/YrC1tTUzMzMjIyN8IJAQSFZ1kSg8BsTN\n",
       "418gAQJJIHH2Fi9eHKbBvHnzEn9Eiq7QMHfu3PTfKJC4wANpoLwQpXzHoYESSB5X\n",
       "CCQQSAiki19TU1P0XrE5OTlLliyZNWtW+DgjIyP98+sEEgOikQbEbUzRToEEAgkE\n",
       "kkDiArJ37978/PzEpbpnzpxZU1PT63cJJDh31Uc6BRIIJBBIAomLgUCCfgmkEB4D\n",
       "4uIH4ebfC4EEAgmBhECC86t8xyEXPwCBBAJJICGQAKs6MJVAIAkkBBJgVQemEggk\n",
       "gYRAAqzqwFQCgSSQEEiAVR2YSiCQBBICCbCqA1MJBJJAQiABVnVgKoFAEkgIJMCq\n",
       "DkwlEEgCCYEEWNWBqQQCSSAhkACrOjCVQCAhkASSQAKrOjCVQCAhkBBIYFUHphII\n",
       "JAQSAgms6sBUAoGEQEIggVUdmEogkBBICCSwqgNTCQQSAgmBBFZ1YCqBQEIgIZDA\n",
       "qg5MJRBICCQEEljVgakEAkkgCSQEEljVgakECCSBhEACqzowlQCBJJAQSGBVB6YS\n",
       "IJAEEgIJrOrAVAIEkkBCIIFVHZhKgEASSAgksKoDUwkQSAIJgQRWdWAqAQJJICGQ\n",
       "wKoOTCVAIAkkBBJY1YGpBAgkgYRAAqs6MJUcBBBIAgmBBFZ1gKkEAkkgIZDAqg4w\n",
       "lUAgCSQEEljVAaYSCCSBhEACqzrAVAKBJJAQSGBVB5hKIJAEEgIJrOoAUwkEkkBC\n",
       "IIFVHWAqgUASSAgksKoDTCUQSAIJgQRWdYCpBAJJICGQwKrOqg5MJRBIAgmBBFjV\n",
       "gakEAkkgIZAAqzowlUAgCSQEEmBVB6YSCCSBhEACrOrAVAKBJJAQSIBVHZhKIJAE\n",
       "EgIJsKoDUwkEkkBCIAFWdWAqgUASSAgkwKoOTCUQSAIJgQRY1YGpBAIJgSSQBBJY\n",
       "1YGpBAIJgYRAAqs6MJVAICGQEEhgVQemEggkBBICCazqwFQCgYRAQiCBVR2YSiCQ\n",
       "EEgIJLCqA1MJBBICCYEEVnVgKoFAQiAhkOATsWLFCgcBTCUQSAIJgQT8//OQgwCm\n",
       "EggkgcT51d7eXl9fX1lZWVtb29bWFmf7urq6sP3u3bvDxwIJrOrAVAKBhEC6SGzZ\n",
       "smXq1KmPfSgrK2vdunU9bdzV1bVp06awTWL78L1hRCCBVR2YSiCQEEgDXkNDQ0ZG\n",
       "RnhkFxcXb968ubS0NPq0urr6jNuHbcJXJ02aVFZWVlFRsXTp0mj7119/XSCBVR2Y\n",
       "SiCQEEgDW1FRUXhYL1++PDGyfv36MJKXl9d9487OzmnTpqXk05o1a8LIU089JZDA\n",
       "qg5MJRBICKQBrKOjI3qyXEtLS/JgdnZ2GDx27FjK9keOHAnjM2bM6OrqSgyGzcLg\n",
       "5MmTBRJY1YGpBAIJgTSANTU1hcd0Tk5OynhhYWEYr62tTRk/ePBgXl7eCy+8kDIY\n",
       "Nn7iiScEEljVgakEAgmBNLBfgBQe0wUFBSnjCxcuTPMypBTPPfdc2Dh8i0ACqzow\n",
       "lUAgIZAGsLq6uvCYLiwsTBkvKSkJ45WVlem/vaura+XKldE1G9555530G8+bN+8x\n",
       "AAAuLmGNZ1EtkAae995778WPKi8vD+O7d+8+YyAVFxf3GkihiKJn4mVnZ7/55psO\n",
       "MgAACKSB4fjx4ymtP3369DC+Z8+e8PGcOXNStl+wYEGap9h1dnauXbs2urpDaKSm\n",
       "piZHGAAABNKA0dHR0fBRBw8eDOPNzc3Rn4CSr0oX5ObmhvH6+voz7mrRokXR+8NW\n",
       "VFSkfCMAACCQBqrOzs4pU6aE2tm/f39isLW1NTMzMyMjI3zQ/VuiFx3l5+cfP37c\n",
       "AQQAAIF0UVm8eHH06rrE34KiKzTMnTs3+vTgwYMbT/vv6afqTZo0afLkyWdsJwAA\n",
       "QCANbE1NTdGriXJycpYsWTJr1qzwcUZGRuL5dRs2bIhethQ+rqqqit4Tdn43KW+O\n",
       "BAAACKQBae/evfn5+YnrN8ycObOmpibx1SiQMjMzw8dlZWU9XeFx9uzZjiQAAAgk\n",
       "AAAAgQQAACCQAAAABBIAAIBAAgAAEEico/b29vr6+srKytra2ra2NgcEzsKxY8fe\n",
       "7saEgj5pamp67bXXTpw44VQF52MqOVUJJGLZsmXL1KlTE5cCz8rKWrduncMCfZWX\n",
       "l9f92vqrV692ZCC+4uLiMHH27NnjVAXnYyo5VQkketfQ0JCRkRHmRphImzdvLi0t\n",
       "jT6trq52cCC+jo6OzMzMJ554ouyjdu3a5eBAHCdPnlyzZk20XEtZ1TlVQb9MJacq\n",
       "gUQsRUVFYf4sX748MbJ+/fowkpeX5+BAfAcOHAgT54UXXnAooK/C4iw/Pz8rKyvx\n",
       "/7NTVnVOVdAvU8mpSiDRu46OjmgWtbS0JA9mZ2eHwWPHjjlEENPWrVvDrNm0aZND\n",
       "AWexqsv70KRJk1JWdU5V0C9TyalKIBFLU1NTmCc5OTkp44WFhWG8trbWIYKYysrK\n",
       "wqzZsWNHRUXFypUrw+mnsbHRYYG+WrBgQcqqzqkK+mUqOVUJJGJpaGgI86SgoCBl\n",
       "fOHChZ7bDX0yf/78MGui/2OXsHTp0o6ODgcHzmVV51QF/RVITlUCid7V1dWFiVFY\n",
       "WJgyXlJSEsYrKysdIohp2rRp0Wyqqqqqr69fvXp1dAZyaSA4x1WdUxX0VyA5VQkk\n",
       "erd79+4znnWiS0M660BMnZ2dGzdu3LRpU/L/hNu2bVt0MeLwVYcIznpV51QF/TKV\n",
       "nKoEErGEaRNmxZw5c844qTxvAc7R9OnTw1R65513HAo461WdUxX0y1RyqhJIxNLc\n",
       "3BymRHZ2dldXV/J4bm5uGK+vr3eIII4wg06ePNn9OdxPPvmkF5HDOa7qnKqgX6aS\n",
       "U5VAIpbOzs4pU6aEWbF///7EYGtra2ZmZkZGRvjAIYI4tm/fHubR4sWLkwfDSWjy\n",
       "5MkuQwznuKpzqoJ+mUpOVQKJuMI8CbNi3rx5if8zF73sde7cuQ4OxBTOK9F1gRoa\n",
       "GqKRMKFeeumlMJifn+/4wLms6pyqoF+mklOVQCKupqam6A34cnJylixZMmvWrPBx\n",
       "RkaGJy1AnyxfvjzMnczMzIULF5aVlRUUFETnob179zo4cI6B5FQF/TKVnKoEEnGF\n",
       "WZGfn5+4HP7MmTNramocFuiTU6dOrV279vHHH4/mUTj9FBYWHjp0yJGBPlm0aNEZ\n",
       "X1nuVAXnPpWcqgQSfdPe3n7w4MG2tjaHAs5aV1fXsWPHDh8+7E33wKkKnKoEEgAA\n",
       "gEACAAAQSAAAAAIJAABAIAEAAAgkAAAAgQQA58uOHTuWfejVV19Nv/GJEyeWJXn3\n",
       "3XfTb//KK6+sXLly0B7bQ4cOhaNUV1fnYQYgkADoH0ePHh0aw7hx485u/1OmTLnk\n",
       "Q6NHj06/cWNj4yVJXnvttTQbb9++/fLLL//Zz352kf2LFBUVhQP+4IMP9rplc3Pz\n",
       "lVdeefPNN586dcojGUAgAdAPjhw5ckkMd91117kE0j333BPW/S+++GL6jdva2opO\n",
       "GzFiRPpACklw6623Xnrppf/+978vsn+RZ555Jtz3X/3qV3E2nj17dtj4r3/9q0cy\n",
       "gEACoB90dXW1fdT1118f1tzTpk1LHnzvvffOJZDmzJnTp+/6wQ9+kD6QSktLwwZj\n",
       "x469+P5F+hRI4Z9m2LBhX/7yl0+ePOnBDCCQAOh/3/rWt8ICffbs2f2yt/MUSLff\n",
       "fnvYYNWqVYM8kIIJEyaE7ZcuXeqhCyCQAOjd008/HdbQu3bt+te//vWHP/zhxhtv\n",
       "/OY3vzl+/Pjt27efRSBt2LDhgQceGD169IgRI77//e9nZWWlv0jAGQOp152kD6Sd\n",
       "O3eGr1599dUffPBBn36x6urqP/7xj7fddlvY7NFHHy0rK+u+840bN0bbXH/99Xfe\n",
       "eWf4zVtbW1O22bp1a2Zm5h133BG2ue+++3Jzc48fP352B7y8vPyhhx666aabvvGN\n",
       "b4wbNy789O6BlP6urVu3Lmx/6623eqgDCCQAevfzn/88LKDDon/IkCHJLysKn1ZW\n",
       "VvYpkObOndv95UnDhw+vqamJH0hxdpI+kP785z+Hr95999192mdhYeEVV1yRsk12\n",
       "dnZig66urhkzZlx66aUp23z9618/fPhwYrP8/PzLL788ZZtrr702VFOfDvipU6ce\n",
       "e+yx7r92KKXkQOr1rp04cSIafPvttz3aAQQSALECKbjllls2btx46NChkpKSr33t\n",
       "a2Hkvvvuix9I77///mc+85nwpUceeaSxsbG1tXXDhg0jR44MI/fff3/MQIq5k/SB\n",
       "dM8990R7iL/PcMfDp5dddllIoIaGhr179+bl5UUB88wzz0TbrFixIjpQEyZMCCUT\n",
       "Ngtfuvrqq8PIL37xi2ib1atXR9uEkaqqqtAky5Yt+8pXvhJGwiGNXqkV84AXFxdH\n",
       "m02cOHHbtm379u17/vnnv/jFL0aDUSDFPFxf+tKXwshzzz3n0Q4gkACIFUhh5f2f\n",
       "//wnMfjkk0+GwbDUjh9Ib775ZrR2f/311xODa9asueqqq7773e/GDKSYO0kfSF/9\n",
       "6lfDV8NdiL/P0aNHd79T8+bNC4Ph/v739J+PbrjhhvDpb3/72+Rt/vKXv4TBK664\n",
       "Inqi3ahRo6Jr+oXtE9uElPr0pz+duJtxDnhnZ+d1110XRlIu5x3uS/TnqSiQYh6u\n",
       "733ve2GbjIwMj3YAgQRArEDKzMxMHty+fXsYHDZsWPxACmv66E8lYWW/cOHCmE/o\n",
       "SgmkmDtJE0ihTKKESFw0vNd9Ji5lfvjw4ZNJQvNEf0Tatm1b+K5om+rq6uTv/eCD\n",
       "D15++eW1a9eGDxLbdH9q4iOPPBLGozdlinPA9+3b1718IuPHj08EUszDdf/994dt\n",
       "wjd6tAMIJABiBdK8efOSB994440w+LnPfS5+IAUlJSVDhw5NvBJm5MiREydOfOWV\n",
       "V+IHUsydpAmklpaW6Bu3bNkSc5+vvvpq+nd5+sc//hF+VvQcvDRvuhp2GLb51Kc+\n",
       "1f2a2n//+9+jVyLFPOAbNmzo6ccVFBQkvwYpzuF6/PHHw5d+9KMfebQDCCQAYgXS\n",
       "3/72t3MPpP+efjpZ+NJtt92WfKGC3//+98lPOUsfSHF2kiaQWltbo+0rKipi7jPx\n",
       "wqHrelBaWvrPf/6zpwOSsGbNmrBN2H/3Oxu9L9NVV10V84BHv9KQIUO6/5T58+en\n",
       "XMWu18M1ffr0MDJmzBiPdgCBBMDHGkgJJ06cCFERFuXRer2nvyOlfx+knnaS/jVI\n",
       "0V9Unn/++Zj7DIER/eUn+bLgKXbs2BFt39LSkjze2dkZDl1RUdHhw4ffeuutaJsD\n",
       "Bw6kfHtubm4YDw0T84AndtX9WXPZ2dk9vQ9ST4frwQcfDJ/++te/9mgHEEgAfEyB\n",
       "tHr16lGjRv3mN79JHmxra7vyyivD9k8//XScQIq5k/SBdO2114avhiaJuc8QOcOG\n",
       "DQsfr1ixInmbffv2hTs7cuTIQ4cOtbe3X3bZZWGb+fPnJ2+zbNmyKK6am5tDX0XX\n",
       "lJsxY0byNu+//350be6HHnoo5gEP3/LZz342jOTl5aXsKnrRURRIMQ9XlEwPP/yw\n",
       "RzuAQALgYwqkmpqa6GUz5eXlicG33noruoDbhg0b4gRSzJ2kD6Rx48YlaiTmPmfO\n",
       "nBk+vuaaaxKvXApFdO+994bBUCDRyMSJE6OnySWuwVBbW3vTTTeFwR/+8IfRSEij\n",
       "8OnQoUMTl4gI+/nd734XPfUubB//gE+bNi2MhExatWpVNHLy5MnQQsmX+Y55uKLL\n",
       "+qX8RAAEEgDnMZC6urruvvvuaPkesmHs2LE//vGPo5X6DTfcEL0FUK+BFHMn6QMp\n",
       "3Jfw1TvvvDP+Ptva2r7zne9EsXHjjTeG4Ik2CFXz8ssvR/t5++23o9II29xyyy3R\n",
       "lcGjHNq1a1e0zbvvvnvzzTdH42GHd911V/RGScGf/vSnPh3wlpaW6MLiwbe//e2f\n",
       "/OQn0d+Foj9SRYEU566FrIre3DaEk0c7gEACIFYgLVq0KHkweg3M5z//+e7bR6v2\n",
       "M74GKWTGo48+Gj03LBEPDzzwQFNTU08/vftrkOLsJH0gHThwIDTM8OHDE1eTi7PP\n",
       "9vb2hx9+OHxXYpuQHIk6ihw9enT8+PFRokRuv/32lAt/hx+alZWVeEfXECchb5L/\n",
       "whP/gIfcmjBhQuJXCr9z+LSwsDD5NUi93rXo+nvRBfQAEEgAfNxCIdTV1VVUVIRF\n",
       "f6iO9Bv3dJGG9DtJH0jB2LFju7+mKOYv1tjYuHXr1jRR19nZWVtbu23btujNYXty\n",
       "8ODBqqqqEDnneDy7urrCL/zGG290dHScxTEP1ZfmMhgACCQALiDpr2LXk14DafPm\n",
       "zT1d6m1QCbH0hS98YejQoc3NzR5sAAIJgIERSPfee++zzz5bWlqafuMTJ048e9qI\n",
       "ESPSB1Lwy1/+MmxTVVU1mA9vfn5+96vqASCQALigAykyevTo9Bs3NjZekiR9IO3e\n",
       "vXvIkCE//elPB+2xbW5uHj58+KhRoxKvxQJAIAFwQdu5c+fyD61duzb9xmGh/9JL\n",
       "LyW2P3r0aPrtKyoqwmanTp0atIEU7n4IRQ8zAIEEAAAgkAAAAAQSAACAQAIAABBI\n",
       "AAAAAgkAAEAgAQAACCQAAACBBAAAIJAAAAAEEgAAgEACAAAQSAAAAAIJAABAIAEA\n",
       "AAgkAAAAgQQAACCQAAAABBIAAIBAAgAAEEgAAAACCQAAQCABAAAIJAAAAIEEAAAg\n",
       "kAAAAAQSAACAQAIAAEAgAQAACCQAAACBBAAAIJAAAAAEEgAAgEACAAAQSAAAAH33\n",
       "/wDItZJMtVuZXwAAAABJRU5ErkJggg==\" style=\"clip-path:url(#clipPath2);\" height=\"840\" preserveAspectRatio=\"none\"\n",
       "    /></g\n",
       "  ></g\n",
       "></svg\n",
       ">\n"
      ]
     },
     "metadata": {
      "filenames": {
       "image/svg+xml": "/Users/eechris/code/src/github.com/cpjobling/eg-247-textbook/_build/jupyter_execute/dt_systems/4/dt_models_53_0.svg"
      }
     },
     "output_type": "display_data"
    }
   ],
   "source": [
    "impulse(Hz,15)\n",
    "grid\n",
    "title('Example 5 - Part 2 - As Analogue Signal')\n",
    "xlabel('nTs [s]')\n",
    "ylabel('Impulse response h(t)')"
   ]
  },
  {
   "cell_type": "markdown",
   "id": "886f48bf",
   "metadata": {
    "slideshow": {
     "slide_type": "slide"
    }
   },
   "source": [
    "#### 5.3. The DT step response\n",
    "\n",
    "$$Y(z) = H(z)X(z)$$"
   ]
  },
  {
   "cell_type": "markdown",
   "id": "e479a9ec",
   "metadata": {
    "slideshow": {
     "slide_type": "fragment"
    }
   },
   "source": [
    "$$u_0[n] \\Leftrightarrow \\frac{z}{z - 1}$$"
   ]
  },
  {
   "cell_type": "markdown",
   "id": "3e568473",
   "metadata": {
    "slideshow": {
     "slide_type": "subslide"
    }
   },
   "source": [
    "We will work through this example in class.\n",
    "\n",
    "[Skip next slide in Pre-Lecture]"
   ]
  },
  {
   "cell_type": "markdown",
   "id": "97e8ad9a",
   "metadata": {
    "slideshow": {
     "slide_type": "subslide"
    }
   },
   "source": [
    "$$\\begin{eqnarray*}\n",
    "Y(z) = H(z){U_0}(z) &=& \\frac{z^2 + z}{z^2 - 0.5z + 0.125}.\\frac{z}{z - 1}\\\\\n",
    " & = & \\frac{z(z^2 + z)}{(z^2 - 0.5z + 0.125)(z - 1)}\n",
    "\\end{eqnarray*}$$"
   ]
  },
  {
   "cell_type": "markdown",
   "id": "d938c9e2",
   "metadata": {
    "slideshow": {
     "slide_type": "subslide"
    }
   },
   "source": [
    "$$\\frac{Y(z)}{z} = \\frac{z^2 + z}{(z^2 + 0.5 z + 0.125)(z - 1)}$$"
   ]
  },
  {
   "cell_type": "markdown",
   "id": "48dd87ed",
   "metadata": {
    "slideshow": {
     "slide_type": "fragment"
    }
   },
   "source": [
    "Solved by inverse Z-transform."
   ]
  },
  {
   "cell_type": "markdown",
   "id": "5ec1a4b6",
   "metadata": {
    "slideshow": {
     "slide_type": "notes"
    }
   },
   "source": [
    "<pre style=\"border: 2px solid blue\">\n",
    "\n",
    "\n",
    "\n",
    "\n",
    "\n",
    "\n",
    "\n",
    "\n",
    "\n",
    "\n",
    "\n",
    "\n",
    "\n",
    "\n",
    "\n",
    "\n",
    "\n",
    "\n",
    "\n",
    "</pre>"
   ]
  },
  {
   "cell_type": "markdown",
   "id": "ddb759f1",
   "metadata": {
    "slideshow": {
     "slide_type": "subslide"
    }
   },
   "source": [
    "##### Matlab Solution\n",
    "\n",
    "See [dtm_ex1_3.mlx](https://cpjobling.github.io/eg-247-textbook/dt_systems/4/matlab/dtm_ex1_3.mlx). (Also available as [dtm_ex1_3.m](https://cpjobling.github.io/eg-247-textbook/dt_systems/4/matlab/dtm_ex1_3.m).)"
   ]
  },
  {
   "cell_type": "code",
   "execution_count": 8,
   "id": "e7fb78f5",
   "metadata": {},
   "outputs": [],
   "source": [
    "open dtm_ex1_3"
   ]
  },
  {
   "cell_type": "markdown",
   "id": "b675d51e",
   "metadata": {
    "slideshow": {
     "slide_type": "notes"
    }
   },
   "source": [
    "###### Results\n",
    "\n",
    "![Results](./pictures/dtm_ex1_3_1.png)"
   ]
  },
  {
   "cell_type": "markdown",
   "id": "473e2ba6",
   "metadata": {
    "slideshow": {
     "slide_type": "slide"
    }
   },
   "source": [
    "(simulink)=\n",
    "## Modelling DT systems in MATLAB and Simulink"
   ]
  },
  {
   "cell_type": "markdown",
   "id": "c1a74430",
   "metadata": {
    "slideshow": {
     "slide_type": "fragment"
    }
   },
   "source": [
    "We will consider some examples in class"
   ]
  },
  {
   "cell_type": "markdown",
   "id": "09595e95",
   "metadata": {
    "slideshow": {
     "slide_type": "subslide"
    }
   },
   "source": [
    "### MATLAB\n",
    "\n",
    "Code extracted from [dtm_ex1_3.m](https://cpjobling.github.io/eg-247-textbook/dt_systems/4/matlab/dtm_ex1_3.m):"
   ]
  },
  {
   "cell_type": "code",
   "execution_count": 9,
   "id": "927b7714",
   "metadata": {
    "slideshow": {
     "slide_type": "fragment"
    }
   },
   "outputs": [],
   "source": [
    "Ts = 1;\n",
    "z = tf('z', Ts);"
   ]
  },
  {
   "cell_type": "code",
   "execution_count": 10,
   "id": "6f37b2fb",
   "metadata": {
    "slideshow": {
     "slide_type": "fragment"
    }
   },
   "outputs": [
    {
     "name": "stdout",
     "output_type": "stream",
     "text": [
      "\n",
      "Hz =\n"
     ]
    },
    {
     "name": "stdout",
     "output_type": "stream",
     "text": [
      " \n"
     ]
    },
    {
     "name": "stdout",
     "output_type": "stream",
     "text": [
      "        z^2 + z\n"
     ]
    },
    {
     "name": "stdout",
     "output_type": "stream",
     "text": [
      "  -------------------\n"
     ]
    },
    {
     "name": "stdout",
     "output_type": "stream",
     "text": [
      "  z^2 - 0.5 z + 0.125\n"
     ]
    },
    {
     "name": "stdout",
     "output_type": "stream",
     "text": [
      " \n"
     ]
    },
    {
     "name": "stdout",
     "output_type": "stream",
     "text": [
      "Sample time: 1 seconds\n"
     ]
    },
    {
     "name": "stdout",
     "output_type": "stream",
     "text": [
      "Discrete-time transfer function.\n",
      "\n"
     ]
    }
   ],
   "source": [
    "Hz = (z^2 + z)/(z^2 - 0.5 * z + 0.125)"
   ]
  },
  {
   "cell_type": "code",
   "execution_count": 11,
   "id": "8cd8f580",
   "metadata": {
    "slideshow": {
     "slide_type": "subslide"
    }
   },
   "outputs": [
    {
     "data": {
      "image/svg+xml": [
       "<?xml version=\"1.0\"?>\n",
       "<!DOCTYPE svg PUBLIC '-//W3C//DTD SVG 1.0//EN'\n",
       "          'http://www.w3.org/TR/2001/REC-SVG-20010904/DTD/svg10.dtd'>\n",
       "<svg xmlns:xlink=\"http://www.w3.org/1999/xlink\" style=\"fill-opacity:1; color-rendering:auto; color-interpolation:auto; text-rendering:auto; stroke:black; stroke-linecap:square; stroke-miterlimit:10; shape-rendering:auto; stroke-opacity:1; fill:black; stroke-dasharray:none; font-weight:normal; stroke-width:1; font-family:'Dialog'; font-style:normal; stroke-linejoin:miter; font-size:12px; stroke-dashoffset:0; image-rendering:auto;\" width=\"560\" height=\"420\" xmlns=\"http://www.w3.org/2000/svg\"\n",
       "><!--Generated by the Batik Graphics2D SVG Generator--><defs id=\"genericDefs\"\n",
       "  /><g\n",
       "  ><defs id=\"defs1\"\n",
       "    ><clipPath clipPathUnits=\"userSpaceOnUse\" id=\"clipPath1\"\n",
       "      ><path d=\"M0 0 L560 0 L560 420 L0 420 L0 0 Z\"\n",
       "      /></clipPath\n",
       "      ><clipPath clipPathUnits=\"userSpaceOnUse\" id=\"clipPath2\"\n",
       "      ><path d=\"M0 0 L1119.9999 0 L1119.9999 839.9999 L0 839.9999 L0 0 Z\"\n",
       "      /></clipPath\n",
       "    ></defs\n",
       "    ><g style=\"fill:rgb(240,240,240); stroke:rgb(240,240,240);\"\n",
       "    ><rect x=\"0\" y=\"0\" width=\"560\" style=\"clip-path:url(#clipPath1); stroke:none;\" height=\"420\"\n",
       "    /></g\n",
       "    ><g transform=\"scale(0.5,0.5)\"\n",
       "    ><image x=\"0\" y=\"0\" width=\"1120\" xlink:href=\"data:image/png;base64,iVBORw0KGgoAAAANSUhEUgAABGAAAANICAIAAAAHNA4rAABbUklEQVR42uzdiXuU\n",
       "9dnwb0BZlKJYSwUE0Wpp9a3aaqXUWhXrQqvUDdzXUiEEBIqgbAIisahleYJIKUWW\n",
       "iBixVEgFwioNIlR2SlgFhRgMhqT/wfv7Ptyv92+ajYAxJJPzPDh6ZO7MZBnmqteH\n",
       "ZO6p9x8AAACOqecuAAAAEEgAAAACCQAAQCABAAAIJAAAAIEEAAAgkAAAAAQSAACA\n",
       "QAIAABBIAAAAAgkAAEAgAQAACCQAAACBBAAAIJAAAAAEEgAAgEACAAAQSAAAAAIJ\n",
       "AABAIAEAAAgkAAAAgQQAACCQAAAABBIAAIBAAgAAEEgAAAACCQAAQCABAAAIJAAA\n",
       "AIEEAAAgkAAAAAQSAACAQAIAABBIAAAAAgkAAEAgAQAACCQAAAAEEgAAgEACAAAQ\n",
       "SAAAAAIJAABAIAEAAAgkAAAAgQQAACCQAAAABBIAAIBAAgAAEEgAAAACCQAAQCAB\n",
       "AAAIJAAAAIEEAAAgkAAAAAQSAACAQAIAABBIAAAAAgkAAEAgAQAACCQAAACBBAAA\n",
       "IJAAAAAEEgAAgEACAAAQSAAAAAIJAABAIAEAAAgkAIBv1JEjR9avX5+ZmTlv3rx1\n",
       "69YdPnzYfQIIJCBpde/evcnxTJ06tdZ9X5dddln0xT/77LNV9TEPHDhw7zFDhgyp\n",
       "hr+FM844o3379nfdddf06dOr8HMVFxcf/kplrh/+9jt37tymTZtzzz23Q4cOI0aM\n",
       "yMvL+yb+yoYNGxZ/7w888EAt/RTf9IOwmh06dCg82r/97W/XSxAemb///e+3bt1a\n",
       "077TJLjDAYEEnHqPPvpoveNJT0+vdd/XxRdfHH3xf/jDH6rqY44dOzb6mL/4xS+q\n",
       "+W/hjjvu+PLLL6vkc+3atSv+sP/4xz8quGb4jLfeemvpL+a8887btGlT1d4DIdva\n",
       "tWsXf4qw4x48eLDWfYpqeBBWp5DQIYnLe0yGh8G2bdtq1Hda2+9wQCABAqnWrEph\n",
       "t54xY0ZYqasnkBo1anT66aeX+FsYM2ZMlQfS/PnzK7jmsGHDEr+ABg0axG+Huzfc\n",
       "J1V4D4RUK/H9Tpw4sWrv5Gr4FEm2r6ekpMT3VcuWLbt27Xr77befddZZ8cErr7wy\n",
       "uuavfvWrC4/54x//KJAAgQQkTyCFdXl1Wfbv319nA+ntt9++6667LrjggsTF+hsN\n",
       "pN27d0cHP/vss7DBN2zYMP4H++oMpC+//DIOwrD+5uTkfPrpp4kbczhShffAgw8+\n",
       "WKJefvazn1XtnVwNnyLJ9vXvf//70df/wx/+MD8/PzqYl5f34x//OL4PP/nkk2T9\n",
       "ZxFAIAEC6f9fzUsbP378g19Zv359dDCs1/HB+Je1Dh48+Kc//en666+/6KKLzjnn\n",
       "nHbt2oW3x4wZU1BQEH+0fv36RbdatWpVZmZmKJDWrVtfeeWVTz311KFDh8IVXnvt\n",
       "tc6dO3/3u9+97LLLfve73+Xm5sa37dGjR/xlhE/UqVOnUA4dO3bs06fP9u3bj7sq\n",
       "rVmz5ve///0111wTPviNN9747LPPJt6qtCFDhpT+kVr1BFLkkUceid914MCBSt7J\n",
       "iffSsmXLwp3ZsmXLkDdPPvnkb37zm/gDXnfddeE6M2bMKP0lhTsqvlp4O/68jRs3\n",
       "jg5Omzatqr79sHOfeeaZ0Ydt3rx5/Hk3bNhQ4pqLFi166KGHLr300hYtWpx//vnh\n",
       "73H48OF79+6tqk+ReL+9+eabt99+e7jf2rRp06VLl48++ijxmpV5nJf5IAyPt9TU\n",
       "1F/+8pfhcRse3vfdd98bb7xR5tc8YcKE6C8uBEnPnj3DaIQHQ/Tl/etf/wpXCB8n\n",
       "upgYuu+//3508OGHH/46j/zDhw/H91K3bt0S3zV16tSGX4kGP57omTNnntC3ULX3\n",
       "uUACgQRQfYH0z3/+M/5RxlVXXXX06NH9+/eHTSv+B+ZoR9m5c2f79u3L/D29cKv4\n",
       "rADxHhMW9MRf3IqOPP744yVuGxamTz/9NLpt/Bs+V1xxRYmrhaV56dKlFaxKo0aN\n",
       "atSoUelbhYQo7xsfOXLkqQ2ksHrG74qe8lGZOzm+l8L2GX/LYRevX79+6VuFcCr9\n",
       "JYXd9JFjwkeID27evDn+CFu2bKmqbz/0cPzFzJs3L/4UzzzzTImrlXi0RC644IL4\n",
       "yTBf81PE91tY60vcV02aNFm9enV0tRN9nMcPwvBlNG3atPStbrvttrh+/3PsrHF3\n",
       "3XVXiev89Kc/jd8OFZT41Sb+Ylt6enp08LTTTvs6j/ygdevW0TXDXfG73/0uDFdR\n",
       "UVGZ1yz9nVbyW6ja+1wggUACqOLV/Kabbvp1KfEZ20aMGBFf8/nnn+/atWv8hJn4\n",
       "t63uueee+GC3bt2GDh164403xrd6++23S6xT0e4VLoZlrsTS07Zt2/iHFcHgwYNL\n",
       "rFPRs2Iuv/zyxI/WqlWrsJmVuSrNnj07vlqbNm2uvPLK+OKZZ565b9++8u6io195\n",
       "4IEHqjmQQhZecskl8bIYraeVuZMT76VYCKRbbrnll7/8ZXzkJz/5yc033zxhwoSK\n",
       "v7xwl44bNy41NfXcc8+NbvjjH/+4Cr/9jh07Rh/2sssuCxevvfba6OL5558fb+TF\n",
       "xcXxT36uueaaF1988Yknnoh/KPTggw9+/U9R+n771re+lXgxPOZP7nEePQg/+OCD\n",
       "+HEe/jbDdxEervGtEr+FP/3pT/Hxs88+O3zx55xzTuJXckKBdNKP/BBFJR5C4cu4\n",
       "4447Xn311RJ5XHrcKvktVO19LpBAIAFU8WpeprBSx53ws5/9rPQVRo8eHV8h3nXC\n",
       "8hofPOOMM6KDgwYNKrFOhV1nyZIl4cj69evjZ7yEZHrvvffCwdzc3Pj8wmEtK7FO\n",
       "hdtGVwvS0tJKPPO+xKpUUFDQsmXL6MhTTz0V7cSbN2+Od+7KnBc4fhLLNxpIjzzy\n",
       "SM+ePcMXeffddyfulF26dKn8nZy4dIYGeOWVVxYsWBAW9P+cyEkaYuEvIvFv/Ic/\n",
       "/GFlfqutkjZu3Bh/5FGjRoUjIcbiI/FfcXiExAfj3wkcOXLkt475wQ9+8PU/ReL9\n",
       "Fu7PN95448svv/zwww9Dq0cHL7zwwpN7nEcPwlBEcaXEP/JKfFpX9POckILxYzXk\n",
       "XPQMwM8//zxuvBMKpK/zyP/iiy8SP2mJM3bceeed8cOgxHda+W+hau9zgQQCCaBa\n",
       "AynYsmVLiV8Quu666xL/Af7f//739mOi33jZvXv3yy+/HF95wIABJdap3/zmN/Ft\n",
       "41+/ueqqq+KD8W/phPeWWKdKPC8ibO3R8XCT0qvSihUr4vpauXLl+q/cfvvt8c5a\n",
       "tYEUltHH/1vv3r1P+m8h3O3xy85U5k6O76VwwxK/s/f1Ayn6YWN5v5B5Qt948Mwz\n",
       "z8R/NeFbC0f27dsX/6Tlvvvui64WPl382Rs3bhz+LqZOnRoW/cp8/ZX8FIn3W+Kr\n",
       "JD388MPxBn9yj/PwIAyxEf9+4Pjx4+MPHgImbpXQeyXu7VmzZsXXDEVxEoH0NR/5\n",
       "Ybpff/31q6++usxfzrz00kujkzSUGLfKfwtVe58LJBBIAFUcSG+88cb7pZR4nnTi\n",
       "b86EPTVaNxOFnfuRRx750Y9+VOJXZcpcHPv27RvfsFOnTtHBO++8Mz4YPx+pdCCN\n",
       "GzeuxF6e+NtfJValSZMmVVwgDRs2rNpAin8gFvvOd75zcoEUKrTEbzQd906O76WH\n",
       "HnqoxOc6iUD6z7Gn7G/cuHHgwIHxlj9s2LCv/42H/Tt+ost55503+ytha4/34+i8\n",
       "HUFI4jKfgBS+kgpe9PaEPkV8vw0dOjT+CPEinvisnhN6nIcH4erVq+MrrFu3LvEr\n",
       "jB/5999/f7iYlZUVXzPx9aYSz5pQ+UCqkkd+9LAJRRq+whK/KRf9RK7EuFX+W6ja\n",
       "+1wggUACqOJAquAkDbGQNIl7Sfx0i8gTTzxRYve6/PLL47M7lLk4xre96aabooP3\n",
       "3ntvfPDJJ58sL5AmT55c5hd20UUXlf4UY8aMOe7LPcXngTi1gTR27Ng/HxP20SVL\n",
       "lnz22WclrlyZOzm+l4YPH35ygTRx4sTUY0r8FcfP3rniiiu+/jcevoDj/r2EFT+6\n",
       "cmFhYfhL79ixY+kXibrhhhvKe12mE/oUlXxWz0k8zsNfZXmnzvv1r38dHQ9vhItL\n",
       "ly6Nr5n4zxMHDx4s8Qq/8Vf70ksvlf4njOirPelHfrjfRh7z4osvJr5IcXg7PKji\n",
       "24a6Kz1ulf8WqvY+F0ggkACqO5DCklfiNGLf/e534yd5r127NvGp1WExOnr0aDge\n",
       "v4hQ1QZS/NEiXbp0iXfl0p/inXfeiX/RKHybB8py3Fc+PaFAysjImPnfKqiRyv8t\n",
       "VPJOLnPpPKFAin9217lz58Tj8TkeWrZs+fW/8fB3fdz1PRRRiVsdOnRo7ty5PXr0\n",
       "OPvss+OrxWef/zqfojLL+sk9zvfs2RPf6t133038Cn/wgx9Ex/v37/+f//5lwsRX\n",
       "B54+fXqJH7/Ev5vXvXv3+GrPPvts4ld70o/8xLJasWJFife2a9cufkJa6XGr/LdQ\n",
       "tfe5QAKBBFDFgbRo0aJ/lSXsduGa+fn5F110UXxaqvgpHLfffnv0oV5//fX4Q8W/\n",
       "8hTyKf73/qoNpNatW8c/Xdm2bVt8yrvotNQlPsWOHTviJ1GELS3++GF973DMcU+D\n",
       "9p/qOklDxYFUyTu5koEUPlp5nyjcMH46fnZ2dpxn8d2Y+PyxkxP++uIfN11++eWD\n",
       "/1viq5Fu3rx54sSJTY/5yU9+kljspX8icdKfopLL+kk/zlu0aBE3Z9wkCxYsiD9a\n",
       "9NJS4V3xK7Q2a9Zs3rx5BQUF4WrxWfXjuog/fvzTvHDNSy+9NPGrPelH/uLFixNP\n",
       "z514FvJVq1bFP7qJnjhU+iQNlfwWqvY+F0ggkACqeDUvT/Q6OYnn/H333Xf79+8f\n",
       "X4x+223u3LnxkRdffDFkVVisQ0vEB+NnHFVJIEX/eh0+0ciRI88///x4m49egLL0\n",
       "p3jooYfi09+FDfXll18O33u8PZd4RlONDaRK3skVBFLYdOMrn3feeeW9UOm///3v\n",
       "+JkeIT7vuuuuTp06JZ6NferUqV/zux4/fnyJNkg0Y8aM+L3PPvts4lnsUlNTQxJv\n",
       "3bo1/hsJi3II+K/5KSq5rJ/04/yVV15JfOGjCRMmDBw4MD7rSfv27aMz1AdhoCoe\n",
       "yagufvWrXyWeLyFMaHwe9sRfTju5R35ImvjEJ9EJwUMSP/744zfeeGNcRxWcX7uS\n",
       "30LV3ucCCQQSQPUF0t/+9rf44sMPPxztT/HrNoZNOmyrn3zySfw7P2UKn6sKA6nM\n",
       "1wwNq3N5nyJ8efHvBZU+C0L0Qrc1P5AqeSdXEEj/Sfj9qApeKDZxSS3tkUce+frf\n",
       "9dVXXx0v36Xz5vDhw/FJnNu2bVtcXFz6hUdjPXv2rJJPUZll/aQf50VFRYkv3VPi\n",
       "LIXxj+n+c+wnMIMGDSpx4rju3bvHgRrVxcyZM0t/qPgkCnEgnfQjP1Ro/FOvMsXn\n",
       "Jyw9bpX8FioZSJW8zwUSCCSAKlD6tSDLDKT4FS3DG/Evti1btiyulLD5hSP/+Mc/\n",
       "vve97yU+kbp///7xXhu9Rud/Ek7JnfgaLLfeemsFgVT6WSLPP//83XffHe9bYS98\n",
       "8cUX4xuW+Sk+//zzsKLFry4apV347io4B1qi+NTDVR5IiX8LFbxwZ6Qyd3LFgbRi\n",
       "xYorrrjiuIH0n2O/Z5V4zeiscVOmTEk8t/vJ2bx5c/wxS5yxPRa/NmgQ+qGwsDDs\n",
       "3Oedd17i1xMuDh48uMxn0ZzEpyjzfot/vytOjpN+nIf7LXzkxJ/zhNt27tx5+/bt\n",
       "pb+2lStXjhkz5oEHHnjmmWfeeeedvXv3xr2xfPnyKEJGjRoV/zwnDONtt902b968\n",
       "0ud/O+lHfsj1fv36NWvWrMT/J1x++eVvvvlmfLeXOW6V+RbKe6ye3H1e3pcBCCSA\n",
       "U+no0aPr169/7733wv9W5scyJ6rEOhU2v7DEb9iw4binWIiFJXXTpk3hK/zoo4++\n",
       "+OKLOnsnh+89rL979uwJ4VHxNfPy8sKmu2jRosqc5/CbFr7ajRs3RuegD3/v0ZP1\n",
       "a91fQbgns7KywiMw8QRxsdCBDx8zYcKE+OCf//znMn/MmJ+fH9Iu9MPBgwe/oUd+\n",
       "+AbDXT1//vyMjIwPPvjguOd7PNFvoYb8fwsgkABqpYp/NgJJ4P77749/KBQCI/TM\n",
       "6NGj41dzis7T6FsABBIAAok6YfXq1YknI0l07rnnfvDBB74FQCAB8P98+9vfPv2Y\n",
       "sWPHujdIVjk5ObfcckvimUjOOeecO+64Y9euXb4FQCABAHXRJ598snz58qysrJrw\n",
       "7K86+y0AAgkAAEAgAQAACCQAAACBBAAAIJAAAAAEEgAAgEACAAAQSHxtBw8eXLdu\n",
       "3bJlyzZs2FBQUHDc6x84cGB3KXl5ee5JAAAQSLVYUVFRZmZmSkpKj6/0798/lFLF\n",
       "txo+fHiPUsLHcX8CAIBAqsUWLVoU2qZPnz5vv/12VlbWyy+/HC6GXtq6dWt5Nyks\n",
       "LAxXGDRoUMZ/W7dunfsTAAAEUi32zDPPhCLasGFDfCQtLS0cmTNnTnk32bFjR7jC\n",
       "tGnT3HsAACCQksfBgwdD6gwbNizxYFZWVjiYnp5e3q1WrFgRrhCu5g4EAACBlDzy\n",
       "8vKys7M/+uijxIOTJk0K/fP++++Xd6uMjIxwhTVr1oTbzpkzJ5TStm3b3JkAACCQ\n",
       "kseWLVuWLVs2bty4ED+jRo3Kz88v75qvvvpquE6vXr0Sz9AwZcqUwsJCdyMAAAik\n",
       "ZDB27Ni4dtasWVPBNQcMGBCuk5aWtnLlyk2bNmVmZkaxVPFZ7P70pz/1AAAguYQd\n",
       "0iItkJLT1q1bc3JyQuT07ds3PNYzMjLKvFpRUdHChQuzsrISf170wQcfhJukpqaG\n",
       "95b38cMV/i/wtRklMEpQ06bJIi2Qkr+Uevbs2adPnxP6lbmBAweG8dizZ49AAlsd\n",
       "GCUQSAikWmnt2rXTpk0r/Qt1I0aMCI/1TZs2lb5JcXFxQUFB6XYaNWpUuMnHH38s\n",
       "kMBWB0YJBBICqVZavnx5dEqGEsefe+65cDw3N7f0TXJycsK7XnvttcSDoZf69OkT\n",
       "jh84cEAgga0OjBIIJARSrbRr167o2XVbtmyJD0avgxSC5+jRo+FiyKSFx0TvDQkU\n",
       "ncJu8+bN8c+UZs2aFQ6OGDGigs/lP0VgqwOjBAIJgVTTTZ8+PQqeyZMnZ2RkpKWl\n",
       "Rcm0YsWK6AoLFiyIjsQ3mTlzZriYkpKSnp4ebjJ69OjoI2zdulUgga0OjBIIJARS\n",
       "LVZYWDh//vzozHWR4cOH5+TkxFeIAinkUHzk6NGj4Sb9+vWLrh/eFbJq586dFX8i\n",
       "/ykCWx0YJRBICCQEElSl2bNnuxPAKIFAEkgIJOB/HThwwJ0ARgkEkkBCIAG2OjBK\n",
       "IJAEEgIJsNWBUQKBJJAQSICtDowSCCSBhEACbHVglEAgCSQEEmCrA6MEAkkgIZAA\n",
       "Wx0YJRBIAgmBBNjqwCiBQBJICCTAVgdGCQSSQEIgAbY6MEogkBBIAkkgga0OjBII\n",
       "JAQSAglsdWCUQCAhkBBIYKsDowQCCYGEQAJbHRglEEgIJAQS2OrAKIFAQiAhkMBW\n",
       "B0YJBBICCYEEtjowSiCQEEgIJLDVgVECgSSQBBICCWx1YJQAgSSQEEhgqwOjBAgk\n",
       "gYRAAlsdGCVAIAkkBBLY6sAoAQJJICGQwFYHRgkQSAIJgQS2OjBKgEASSAgksNWB\n",
       "UQIEkkBCIIGtDowSIJAEEgIJbHVglACBJJAQSGCrA6PkTgCBJJAQSGCrA4wSCCSB\n",
       "hEACWx1glEAgCSQEEtjqAKMEAkkgIZDAVgcYJRBIAgmBBLY6wCiBQBJICCSw1QFG\n",
       "CQSSQEIgga0OMEogkAQSAglsdYBRAoEkkBBI1CKjsvfXij+2OhBIgEASSAgkvlk3\n",
       "Tt4Y/tT8Ooq+SFsdCCRAIAkkBBLfbCCt2ldU87/OWvRDJFsdGCUQSAIJgYRA+sYD\n",
       "qVb8pCv8mbtmp8cVCCQQSAIJgYRA+sYbqVb86TjuQ48rEEggkAQSAgmBxP8Nd6ZA\n",
       "AoEEAkkgIZAQSAgkEEggkAQSAgmBRKlACv9b8//4y0IggUBCICGQEEjfuP5vb4pO\n",
       "nl7D/9QbsMJfFgIJBBICiXJ16dJl1apVZfyL+DGOJ+vx/z013F//7n6owuNz586t\n",
       "FV9nCKTa+xrBHm9f53it+Aln+DN3zc7a8qX6408N/yOQBBInqVWrVjfeeGMZC/Qx\n",
       "jifr8Xrdxt/4SD/3QxUe79ixY+34+h/pV8YL8g55I/ypacdDy/lThX9qxU84w5+O\n",
       "4z6sLV+qP/7U8D8CSSDhV+zwK3Z+LwiMEvD/CCSBhEBCINnqwCgBAkkgIZAQSLY6\n",
       "MEqAQBJICCQEkq0OjBIgkAQSAgmBZKsDowQIJIGEQEIg2erAKAECSSAhkBBItjow\n",
       "SoBAEkgIJASSrQ6MEiCQBBICCYFkqwOjBAgkgYRAQiDZ6sAoAQJJICGQEEi2OjBK\n",
       "RgkEkkBCICGQbHWAUQKBJJAQSMknVMeo7P01/0+9ASsEkq0OjBIIJAQSAumbFcKj\n",
       "VgSSOrLVgVECgYRAQiBVRyC5E2x1gFECgSSQEEgIJFsdYJRAIAkkBBICCVsdGCUQ\n",
       "SAIJgYRAwlYHRgkEkkBCICGQsNWBUQKBJJAQSAgkbHVglEAgCSQEEgIJWx0YJRBI\n",
       "AgmBhEDCVgdGCQSSQEIgIZCw1YFRAoEkkBBICCRsdWCUQCAJJAQSAglbHRglEEgI\n",
       "JIGEQMJWB0YJBBICCYEkkLDVgVECgYRAQiAJJGx1YJRAICGQEEgCCVsdGCUQSAik\n",
       "OuLgwYPr1q1btmzZhg0bCgoKBJJAwlYHRgkEEgKpLioqKsrMzExJSenxlf79+4dS\n",
       "EkgCCVsdGCUQSAikOmfRokVhDPr06fP2229nZWW9/PLL4WLopa1btwokgYStDowS\n",
       "CCQEUt3yzDPPhDHYsGFDfCQtLS0cmTNnjkASSNjqwCiBQEIg1a2nHoUZGDZsWOLB\n",
       "rKyscDA9PV0gCSRsdWCUQCAhkOqQvLy87Ozsjz76KPHgpEmTwmC8//77AkkgYasD\n",
       "owQCCYFUR23ZsmXZsmXjxo0LUzFq1Kj8/HyBJJCw1YFRAoGEQKqjxo4dG5/Ibs2a\n",
       "Nce9fo9yzJ49+wAnLgSSO6FuysnJcSeAUYJqFha2HuWzGAsk/tfWrVvDf10yMzP7\n",
       "9u0bBiMjI8NPkPwECf/sDUYJ/AQJgaSUtvbs2bNPnz6FhYUCSSBhqwOjBAIJgVRX\n",
       "rF27dtq0aaV/oW7EiBFhNjZt2iSQBBK2OjBKIJAQSHXF8uXLo1MylDj+3HPPheO5\n",
       "ubkCSSBhqwOjBAIJgVRX7Nq1K3oq3pYtW+KD0esg9enT5+jRowJJIGGrA6MEAgmB\n",
       "VIdMnz49jEGvXr0mT56ckZGRlpYWJdOKFSucpEEgYasDowQCCYFUtxQWFs6fPz86\n",
       "c11k+PDhOTk5x72hQBJI2OrAKIFAQiAhkAQStjowSiCQEEgIJIGErQ6MEggkBBIC\n",
       "SSBhqwOjBAIJgYRAEkjY6sAogUBCICGQBBK2OjBKIJAQSAgkgYStDowSCCQEEgJJ\n",
       "IGGrA6MECCSBhEASSNjqwCgBAkkgIZAEErY6MEqAQBJICCSBhK0OjBIgkAQSAkkg\n",
       "YasDowQIJIGEQBJI2OrAKAECSSAhkAQStjowSoBAEkgIJIGErQ6MEiCQBBICSSBh\n",
       "qwOjBAgkgYRAEkjY6sAoAQJJICGQBBK2OjBKRgkEkkBCIAkkbHWAUQKBJJAQSAIJ\n",
       "Wx1glEAgCSQEkkDCVgcYJRBIAgmBJJCw1QFGCQSSQEIgCSRsdYBRAoEkkBBIAglb\n",
       "HWCUQCAJJASSQMJWBxglEEgCCYEkkLDVAUYJBJJAQiAhkGx1gFECgSSQEEgIJGx1\n",
       "YJRAIAkkBBICCVsdGCUQSAIJgYRAwlYHRgkEkkBCICGQsNWBUQKBJJAQSAgkbHVg\n",
       "lEAgCSQEEgIJWx0YJRBIAgmBhEDCVgdGCQSSQEIgIZCw1YFRAoEkkBBICCRsdWCU\n",
       "QCAJJHeBQEIgYasDowQCCYGEQBJI2OrAKIFAQiAhkAQStjowSiCQEEgIJIGErQ6M\n",
       "EggkBBICSSBhqwOjBAIJgYRAEkjY6sAogUBCICGQBBK2OjBKIJAQSAgkgYStDowS\n",
       "CCQEEgJJIGGrA6MECCSBhEASSNjqwCgBAkkgIZAEErY6MEqAQBJICCSBhK0OjBIg\n",
       "kAQSAkkgYasDowQIJIGEQBJI2OrAKAECSSAhkAQStjowSoBAEkgIJIGErQ6MEiCQ\n",
       "BBICSSBhqwOjBAgkgYRAEkjY6sAoAQJJICGQBBK2OsAogUASSAgkgYStDjBKIJAE\n",
       "EgJJIGGrA4wSCCSBhEASSNjqAKMEAkkgIZAEErY6wCiBQBJICCSBhK0OMEogkAQS\n",
       "AkkgYasDjBIIJIGEQBJI2OoAowQCSSAhkAQStjrAKIFAEkgIJASSrQ4wSiCQBBIC\n",
       "CYGErQ6MEggkgYRAQiBhqwOjBAJJICGQEEjY6sAogUASSAgkBBK2OjBKIJAEEgIJ\n",
       "gYStDowSCCSBhEBCIGGrA6MEAkkgIZAQSNjqwCiBQBJICCQEErY6MEogkAQSAgmB\n",
       "hK0OjBIIJASSQEIgYasDowQCCYGEQBJI2OrAKIFAQiAhkAQStjowSiCQEEgIJIGE\n",
       "rQ6MEggkBBICSSBhqwOjBAIJgVSrHT58eOPGjcuWLduwYUN4+7jXD/9d2V1KXl6e\n",
       "QBJI2OrAKIFAQiDVYsXFxVlZWampqT2+0rdv33Ck4lsNHz68RymZmZkCSSBhqwOj\n",
       "BAIJgVSLLVmyJDyse/XqlZGRkZ2dPWXKlJ49e4Yjq1evLu8mhYWFKSkpgwYNyvhv\n",
       "69atE0gCCVsdGCUQSAik2qqoqGjAgAHhYb1q1ar44Lx588KRl156qbxb7dixI1xh\n",
       "2rRpnoMkkLDVgVECgWSpFkjJY9++feEx/eyzzxYXFyc+vygc7NOnT3m3WrFiRbjC\n",
       "cX8NTyAJJGx1YJRAICGQapPc3Nzhw4eX+FlQOBge6IMGDSrvVhkZGeEKa9asyc7O\n",
       "njNnTiilbdu2CSSBhK0OjBIIJARSEpo6dWp4oKenp5d3hVdffTV62lLiGRqmTJlS\n",
       "WFiYBIG0al9RrfgjkGx1gFECgSSQ+GYVFxfPmTMnip89e/aUd7XoaUtpaWkrV67c\n",
       "tGlTZmZmFEvHPYtdmWbPnn2gxpi7ZmcIj47jPqz5f/q/vekAdVJOTo47AYwSVLOw\n",
       "sPUony1aICWnUEShecJDvHfv3uvXr6/gvA4LFy7MyspK/HnRBx98EG6Ympoa3lur\n",
       "f4K0al/RjZM3+qcg/LM3GCXAT5AEUt0Vqmb+/PnRSyGFRtq7d+9JfJCBAweGm1fw\n",
       "cyeBBLY6MEogkBBINV1hYeGkSZOi14fNzs5OPJ1deb+GV1BQUPrpRqNGjQof5OOP\n",
       "PxZIYKsDowQCCYFUW0VPOhoxYsRnn31Wmevn5OSE67/22mslKqtPnz7hePjvjUAC\n",
       "Wx0YJRBICKRaKURRr169QtscOnSovOvk5uYuPCa6GL1KUrjV5s2b458pzZo1K6qs\n",
       "ik/SIJDAVgdGCQQSAqnmWrlyZfSasK+WEr840oIFC0qcn2TmzJnhYkpKSnp6ekZG\n",
       "xujRo6Nk2rp1q0ACWx0YJRBICKTaKnrJ1zINGTIkMZBCDsW3Onr06Pz58/v16xdd\n",
       "M7wrLS1t586dFX8ugQS2OjBKIJAQSAgksNWBUQKBhEBCIIGtDowSCCQEEgIJbHVg\n",
       "lEAgIZAQSGCrA6MEAgmBhEACWx0YJRBICCQEEtjqwCiBQEIgIZDAVgdGCRBIAgmB\n",
       "BLY6MEqAQBJICCSw1YFRAgSSQEIgga0OjBIgkAQSAglsdWCUAIEkkBBIYKsDowQI\n",
       "JIGEQBJI2OrAKAECSSAhkAQStjowSoBAEkgIJIGErQ6MEiCQBBICSSBhqwOjBAgk\n",
       "gYRAEkjY6sAoGSUQSAIJgSSQsNUBRgkEkkBCIAkkbHWAUQKBJJAQSAIJWx1glEAg\n",
       "CSQEkkDCVgcYJRBIAgmBJJCw1QFGCQSSQEIgCSRsdYBRAoEkkBBIAglbHWCUQCAJ\n",
       "JASSQMJWBxglEEgCCYEkkLDVAUYJBJJAQiAJJLDVgVECgSSQEEgCCWx1YJRAIAkk\n",
       "BJJAAlsdGCUQSAIJgSSQwFYHRgkEkkBCIAkksNWBUQKBJJAQSAIJbHVglEAgCSQE\n",
       "kkACWx0YJRBIAgmBJJDAVgdGCQSSQEIgCSSw1YFRAoEkkNwFAkkgga0OjBIIJAQS\n",
       "AglsdWCUQCAhkBBIYKsDowQCCYGEQAJbHRglEEgIJAQS2OrAKIFAQiAhkMBWB0YJ\n",
       "BBICCYEEtjowSiCQEEgIJLDVgVECgYRAQiCBrQ6MEiCQBBICCWx1YJQAgSSQarTi\n",
       "4uKcnJzRo0fffvvt11xzTbt27Vq2bHnZZZddf/31KSkpc+bMCf8ZEEgCCVsdYJRA\n",
       "IAmkJHfw4MG0tLQLLrigXoUaNmx47733ZmdnCySBhK0OMEogkARSEjpy5MgLL7zQ\n",
       "rFmzKIGaN29+xRVXdOnSpXfv3q+88srrr78+ZMiQhx566Be/+EWbNm0aNGgQXe3m\n",
       "m2/evn27QBJI2OrAKLkTQCAJpOSRm5t78cUXh+Bp2bLl008/nZOTU/H19+3bF6rp\n",
       "6quvDjc588wz3333XYEkkLDVgVECBJJAShIrV65s0aLFH//4x4KCghO64d/+9rfL\n",
       "L7989OjRAkkgYasDowQIJIGUJA4fPpyfnx9fXLBgwYABA1asWFHmlcePHx/e++mn\n",
       "n8ZndPj8888FkkDCVgdGCRBIAik5DR48uF69ehMmTCjzvdFv1m3btu3UfpECCWx1\n",
       "YJRAICGQvkFLlixZeMyDDz4YEig1NXVhKW+99dZZZ50V3rt7926BJJCw1QFGCQSS\n",
       "QEpaLVq0qFc5oZEKCwsFkkDCVgcYJRBIAilpXXXVVRce07x581BB55577oWlfO97\n",
       "3/v5z38+c+bMU/7VCiSw1YFRAoGEQPpGFBUVJZ6/ruLnIJVQXFx8+PBhgSSQsNWB\n",
       "UQIEkkBKEqtWrWrVqtVrr7129OjRcHHixIlXXnllRkbGcW/43nvv/eQnP3Gab4GE\n",
       "rQ6MkjsBBJJASh7bt29v2bJlvXr1LrnkkhEjRoSLFV8//Gdg/PjxHTp0CDc544wz\n",
       "MjMzBZJAwlYHRgkQSAIpeXz22WePP/54/fr1Q/OE/23Xrt3111//6KOPDhs27C9/\n",
       "+cv06dNHjhz55JNP3nTTTRdffPHpp58ena3h3nvv3bFjh+cgCSRsdWCU3AkgkARS\n",
       "Elq/fn337t3PPPPMis9i16RJk8cee2zdunVO0iCQsNUBRgkEkkBKcnl5eZmZmU8/\n",
       "/fS11177/e9/v3nz5medddbFF1/csWPHp5566q233jp06NAp/yIFEtjqwCiBQEIg\n",
       "VYeioqKa/0UKJLDVgVECgYRAqg7Dhg276qqrxo8ff/DgQYEkkLDVAUYJBJJAqtOi\n",
       "10GKnmt03333ZWVlFRcXCySBhK0OMEogkARSXbR9+/YhQ4a0b98+PitDu3bthg4d\n",
       "eqpOWCeQwFYHRgkEEgLp1FuzZs0f/vCHUEdRJjVo0OBXv/rVjBkzCgoKBJJAwlYH\n",
       "GCUQSAKpjlqxYkVqamqrVq2iUvr2t7+dkpLy4YcfCiSBhK0OMEogkARSXfTpp5+O\n",
       "Hz++WbNmiS+IdMMNN5yqTBJIYKsDowQCCYFU3QoKCmbNmnX77bc3atQoiqIWLVo8\n",
       "/fTTTz755Le+9a3oRA5r164VSAIJWx0YJUAgCaSkVVRUtHDhwkceeeSss86Kuqh+\n",
       "/fo33HDDjBkzjhw5El3n4MGDN910U3jXU089JZAEErY6MEqAQBJIyenNN9+Mn24U\n",
       "fPe73+3fv//mzZtLX/Ott94KV7jzzjsFkkDCVgdGCRBIAik5Ra+DVL9+/U6dOs2a\n",
       "NevLL78s75rvvvvuTTfdNG7cOIEkkLDVgVECBJJASk4TJ04cMGDAli1bavIXKZDA\n",
       "VgdGCQQSAgmBBLY6MEogkBBICCSw1YFRAoGEQEIgga0OjBIIJAQSAglsdWCUQCAh\n",
       "kOqew4cPb9y4cdmyZRs2bAhvCySw1YFRAoGEQKqLiouLs7KyUlNTe3ylb9++4YhA\n",
       "AlsdGCUQSAikmuXLL7/MzMwcM2ZMv379wsXVq1fn5eVV7adYsmRJGINevXplZGRk\n",
       "Z2dPmTKlZ8+e4Uj4XAIJbHVglEAgIZBqipEjR7Zo0aLeV8KRG264oUmTJkOHDq2q\n",
       "T1FUVDRgwIAwBqtWrYoPzps3Lxx56aWXBBLY6sAogUBCINUIvXv3jrqoZcuWcSB1\n",
       "6dIlenvYsGFV8ln27dsXZuDZZ58tLi6OD4b/xoSDffr0EUhgqwOjBAIJgXTqLV68\n",
       "OFTQaaedlp6eHi6ed955USAdOXJk+PDh4e1mzZodOnTo63+i3Nzc8AGnTZtW4mAY\n",
       "jEGDBgkksNWBUQKBhEA69YYOHRoqqG/fvtHFOJAil1xySbiYnZ39DX32qVOnhsGI\n",
       "2kwgga0OjBIIJATSKXbzzTeHBFq8eHGZgfToo4+Gi9OnT6/yz1tcXDxnzpzonA17\n",
       "9uw5biCVafbs2QdqjLlrdnYc9+EBqMFycnLcCWCUoJqFha1H+WzjAqnGeeCBB0IC\n",
       "vfPOO2UGUpRPVf4TpFBEaWlpYSR69+69fv36417fT5DAP3uDUQI/QUIgVYexY8eG\n",
       "BAohVDqQcnJyGjduXL9+/So833dRUdH8+fOjl0IKjbR3797K3Eogga0OjBIIJARS\n",
       "ddi/f3+rVq1CFN12221Lly4955xzwtu5ubmTJk2KTmrXrVu3qvpchYWF4cNGrw+b\n",
       "nZ2deDo7gQS2OjBKIJAQSDXC+++/37Rp03plad++fRX++Ch60tGIESM+++yzE7qh\n",
       "QAJbHRglEEgIpOqza9eu+++/v3nz5nEatW3bNi0traCgoKo+RYiiXr169enT5yRO\n",
       "Gi6QwFYHRgkEEgLpFNi9e/fq1av3799f5R955cqV0WvCvlpKiRdHEkhgqwOjBAIJ\n",
       "gXSKff7559GTgsL/zpgxIzU19ZVXXtmyZUtVffyMjIzyTu84ZMgQgQS2OjBKIJAQ\n",
       "SDVCTk5Ohw4dGjRoED3d6PHHH49/0a5p06ZLly495V+hQAJbHRglEEgIpGp69lGz\n",
       "Zs2iHAqBtGbNmujtVq1atWvXLrxx6aWXCiSBhK0OMEogkARSnfD888+HCgottHz5\n",
       "8nBx0KBB4eKPfvSjI0eO5Ofnt2nTJlyszGu5CiSBhK0OjBIgkARSrXfXXXeFBPrr\n",
       "X/8aXezYsWO4mJ6eHl184oknwsXMzEyBJJCw1QFGCQSSQEp+1113XUigtWvXhre/\n",
       "+OKLxo0bh4vbt2+P3puamhouHvcscwJJIGGrA6MECCSBlAzuuOOOkEDvvvvuf469\n",
       "kGt4u02bNvF7O3XqFI4sXLhQIAkkbHWAUQKBJJCS35AhQ0ICdejQYebMmZdcckl4\n",
       "u3v37tG75s6d26BBg9NPP33Pnj0CSSBhqwOMEggkgZT8du7ceeaZZ8bn9W7UqFH0\n",
       "63YPPvhgdKRr166n/IsUSGCrA6MEAgmBVE0WLVp02WWX1a9f/9JLL/3LX/4SHbzl\n",
       "lltCHXXu3Dk/P18gCSRsdYBRAoEkkOqWw4cPJ15cvnx5bm5uDfnaBBLY6sAogUBC\n",
       "ICGQwFYHRgkEEgLpVCguLg7/j/9JWYqKigSSQMJWBxglEEgCqU74+9//fs011zRq\n",
       "1KheObZt2yaQBBK2OsAogUASSMlv/fr1TZo0qVchgSSQsNUBRgkEkkCqE55++umQ\n",
       "QOeff/6kSZM++eST/LIUFxcLJIGErQ4wSiCQBFLyu/XWW0MgjRkzxkkaBBK2OsAo\n",
       "gUASSHXdnXfeGQJpyZIlAkkgYasDjBIIJIFU140dOzYE0h//+EeBJJCw1QFGCQSS\n",
       "QKrrcnNz27Rpc/bZZ//zn/8USAIJWx1glEAgCaQ6bcWKFX369KlXr16DBg06deqU\n",
       "kpLSv5RPP/1UIAkkbHWAUQKBJJCS3+DBg+sdj9N8CyRsdYBRAoEkkOqEzMzM3x3P\n",
       "/v37BZJAwlYHGCUQSAKpzjl69Ohnn33mOUgCCVsdYJRAIAmkuuvgwYP9+vX7wQ9+\n",
       "0KhRo3r16jVv3vxnP/vZjBkzBJJAwlYHGCUQSAKpblm9evW5555b5rOPOnXqVFhY\n",
       "KJAEErY6wCiBQBJIdcLnn39+8cUXhxZq2rTpoEGD5s2bt3LlyhkzZtxxxx1RIw0Y\n",
       "MEAgCSRsdYBRAoEkkOqE9PT0UEHnnnvu9u3bS7xr/Pjx4V0NGzY8cuSIQBJI2OoA\n",
       "owQCSSAlv9///vehgsaNG1fme3/605+G957y15AVSGCrA6MEAgmBVB2uv/76kEBL\n",
       "ly4t871PPvlkeO8bb7whkAQStjrAKIFAEkjJ77HHHgsJNGXKlDLf+8tf/jK8d/ny\n",
       "5QJJIGGrA4wSCCSBlPzGjRsXEuiCCy4o/fJHb731VnjXaaed9sUXXwgkgYStDjBK\n",
       "IJAEUvLbt29fy5YtQwi1bt36f/7nf9atW7d79+5ly5alpKQ0bNgwHH/88cdP+Rcp\n",
       "kMBWB0YJBBICqZosWLCgcePGZb4O0v/5P//n8OHDAkkgYasDjBIIJIFUh2zduvXe\n",
       "e+9t2rRpnEatW7d+8cUXT/kJvgUS2OrAKIFAQiCdMrt27Vq/fn1eXl6N+qoEEtjq\n",
       "wCiBQEIgVav8/PyFCxdOmDBh2LBhU6dOXb58eXFxsUASSNjqAKMEAkkg1S1FRUUv\n",
       "vfRSixYtSjwB6YorrnjvvfcEkkDCVgcYJRBIAqkO6devX1REDRs2bN++/TXXXNOq\n",
       "Vav4SHmvISuQBBK2OjBKgEASSMlm0aJFUQs99thju3fvjo8vW7bsyiuvDMfbtm0r\n",
       "kAQStjrAKIFAEkh1wnPPPRcq6Le//W3pd+3fvz/6vbutW7cKJIGErQ4wSiCQBFLy\n",
       "u/XWW0MCzZ07t8z33n333eG9GRkZAkkgYasDjBIIJIGU/KIEWrBgQZnv7dq1a3jv\n",
       "nDlzBJJAwlYHGCUQSAIp+Y0aNSok0NNPP136Xfn5+S1btgzv3blzp0ASSNjqAKME\n",
       "AkkgJb8dO3a0bt26fv36EyZMOHr0aHx879690W/fde3a1UkaBBK2OsAogUASSHXC\n",
       "22+/fe2110Ynsrvgggu6devWvXv3zp07N2nSJDp4//33P5Fg/vz5AkkgYasDowQI\n",
       "JIGUnAYPHlzvRLzwwgsCSSBhqwOjBAgkgZScFixYMOBELFq0SCAJJGx1YJQAgSSQ\n",
       "8BwkgYStDjBKIJAEUt3w+eefFxcXhzfC/86YMSM1NfWVV17ZsmWLQBJI2OoAowQC\n",
       "SSDVITk5OR06dGjQoEFeXl64+Pjjj8fPOGratOnSpUsFkkDCVgcYJRBIAqlO2LVr\n",
       "V7NmzaIcCoG0Zs2a6O1WrVq1a9cuvHHppZcKJIGErQ4wSiCQBFKd8Pzzz4cKCi20\n",
       "fPnycHHQoEHh4o9+9KMjR47k5+e3adMmXFy/fr1AEkjY6gCjBAJJICW/u+66KyTQ\n",
       "X//61+hix44dw8X09PTo4hNPPBEuZmZmCiSBhK0OMEogkARS8rvuuutCAq1duza8\n",
       "/cUXXzRu3Dhc3L59e/Te1NTUcHHatGkCSSBhqwOMEggkgZT87rjjjpBA7777bnh7\n",
       "zpw54e02bdrE7+3UqVM4snDhQoEkkLDVAUYJBJJASn5DhgwJCdShQ4eZM2decskl\n",
       "4e3u3btH75o7d26DBg1OP/30PXv2CCSBhK0OMEogkARS8tu5c+eZZ54Zn9e7UaNG\n",
       "0a/bPfjgg9GRrl27nvIvUiCBrQ6MEggkBFI1WbRo0WWXXVa/fv1LL730L3/5S3Tw\n",
       "lltuCXXUuXPn/Px8gSSQsNUBRgkEkkCqWw4fPpx4cfny5bm5uTXkaxNIYKsDowQC\n",
       "CYFUrb788svMzMwxY8b069cvXFy9enVeXp5AEkjY6gCjBAJJINU5I0eObNGiRfxM\n",
       "pHDkhhtuaNKkydChQwWSQMJWBxglEEgCqQ7p3bt31EUtW7aMA6lLly7R28OGDRNI\n",
       "AglbHWCUQCAJpDph8eLFoYJOO+209PT0cPG8886LAunIkSPDhw8Pbzdr1uzQoUMC\n",
       "SSBhqwOMEggkgZT8hg4dGiqob9++0cU4kCLRKyNlZ2cLJIGErQ4wSiCQBFLyu/nm\n",
       "m0MCLV68uMxAevTRR8PF6dOnCySBhK0OMEogkARS8nvggQdCAr3zzjtlBlKUT36C\n",
       "JJCw1QFGCQSSQKoTxo4dGxIohFDpQMrJyWncuHH9+vVP+fm+BRLY6sAogUBCIFWH\n",
       "/fv3t2rVKkTRbbfdtnTp0nPOOSe8nZubO2nSpOikdt26dTvlX6RAAlsdGCUQSAik\n",
       "avL+++83bdq0Xlnat29fE14uViCBrQ6MEggkBFL12bVr1/3339+8efM4jdq2bZuW\n",
       "llZQUFATvjyBBLY6MEogkBBI1fQcpKeeeiozMzO6uHv37tWrV+/fv79GfZECCWx1\n",
       "YJRAICGQqkNKSkq9evXuu+++mvxFCiSw1YFRAoGEQKoOb775ZgikNm3a5OfnCySB\n",
       "hK0OMEogkARSnXb48OHbbrstNFLXrl0PHTokkAQStjrAKIFAEkh119q1a6dOnXrR\n",
       "RReFRjr77LO7devWv3//Uf/t4MGDAkkgYasDjBIIJIGU/AYPHlzveLZt2yaQBBK2\n",
       "OsAogUASSMlv1qxZ9xzPvn37BJJAwlYHGCUQSAIJz0ESSNjqAKMEAkkgcYL27t27\n",
       "ePHiypwKL/x3ZXcpeXl5AglsdWCUQCAhkJLE5MmTw0N8y5Ytx73m8OHDe5QSv1Kt\n",
       "QAJbHRglEEgIpFqsoKBg3rx5UeccN5AKCwtTUlIGDRqU8d/WrVsnkMBWB0YJBBIC\n",
       "qRYLVTNixIjU1NT4B0HHDaQdO3aEq02bNs1zkMBWB0YJBJKNWiAlWyAN/0qvXr0q\n",
       "E0grVqwIV8vKyhJIYKsDowQCyUYtkJLWxIkTKxNIGRkZ4Wpr1qzJzs6eM2dOKKXK\n",
       "vMiSQAJbHRglEEgIpCQMpFdffTVcLfpxU2zKlCmFhYUVB1KZZs+efaDGmLtmZ8dx\n",
       "Hx6AGiwnJ8edAEYJqllY2HqUzxYtkGqu/Pz8hQsXTpgwYdiwYVOnTl2+fHlxcXGV\n",
       "B9KAAQPC1dLS0lauXLlp06bMzMwolpzFDvyzNxgl8BMkBFKNUFRU9NJLL7Vo0aLe\n",
       "f7viiivee++9Kgyk8IlCg2VlZSX+vOiDDz4IN0xNTQ3vFUhgqwOjBAIJgXSK9evX\n",
       "Lyqihg0btm/f/pprrmnVqlV8ZOnSpVX4E6QyDRw4MNx2z549AglsdWCUQCAhkE6l\n",
       "RYsWRS302GOP7d69Oz6+bNmyK6+8Mhxv27ZtVQVScXFxQUFB6acbjRo1Ktz2448/\n",
       "FkhgqwOjBAIJgXQqPffcc6GCfvvb35Z+1/79+6Pfu9u6dWuVBFJOTk64zmuvvZZ4\n",
       "MPRSnz59wvHw3xuBBLY6MEogkBBIp9Ktt94aEmju3Lllvvfuu+8O783IyDi5QMrN\n",
       "zV14THQx/BclOoXd5s2b458pzZo1KxwcMWKEkzSArQ6MEggkBNIpFiXQggULynxv\n",
       "165dw3vnzJlzcoEUPmyJEzjOnDkzXExJSUlPTw/dNXr06CiZKv4hlUACWx0YJRBI\n",
       "CKTqMGrUqJBATz/9dOl35efnt2zZMrx3586dx/04kyZNKi+QQg7FR44ePTp//vx+\n",
       "/fpF4RTelZaWdtyPL5DAVgdGCQQSAqk67Nixo3Xr1vXr158wYUKol/j43r17o9++\n",
       "69q16yn/IgUS2OrAKIFAQiBVh7fffvvaa6+NTmR3wQUXdOvWrXv37p07d27SpEl0\n",
       "8P77738iwfz58wWSQMJWB0YJEEgCKTkNHjy43ol44YUXBJJAwlYHRgkQSAIpOS1Y\n",
       "sGDAiVi0aJFAEkjY6sAoAQJJICW5L7/8MjMzc8yYMf369QsXV69enZeXV0O+NoEE\n",
       "tjowSiCQEEjVZ+TIkdFrwkbCkRtuuKFJkyZDhw4VSAIJWx1glEAgCaQ6pHfv3lEX\n",
       "RSf1jgKpS5cu0dvDhg0TSAIJWx1glEAgCaQ6YfHixaGCTjvttPT09HDxvPPOiwLp\n",
       "yJEjw4cPD283a9bs0KFDAkkgYasDjBIIJIGU/IYOHRoqqG/fvtHFOJAil1xySbiY\n",
       "nZ0tkAQStjrAKIFAEkjJ7+abbw4JtHjx4jID6dFHHw0Xp0+fLpAEErY6wCiBQBJI\n",
       "ye+BBx4ICfTOO++UGUhRPvkJkkDCVgcYJRBIAqlOGDt2bEigEEKlAyknJ6dx48b1\n",
       "69c/5ef7FkhgqwOjBAIJgVQd9u/f36pVqxBFt91229KlS88555zwdm5u7qRJk6KT\n",
       "2nXr1u2Uf5ECCWx1YJRAICGQqsn777/ftGnTemVp3759TXi5WIEEtjowSiCQEEjV\n",
       "Z9euXffff3/z5s3jNGrbtm1aWlpBQUFN+PIEEtjqwCiBQEIgnQK7d+9evXr1/v37\n",
       "a9RXJZDAVgdGCQQSAqk6LFiwYMCAAStWrCjzvePHjw/v/fTTTwWSQMJWBxglEEgC\n",
       "KfkNHjy4Xr16EyZMKPO9V199dXjvtm3bBJJAwlYHGCUQSAIpaS1ZsmThMQ8++GBI\n",
       "oNTU1IWlvPXWW2eddVZ47+7duwWSQMJWBxglEEgCKWm1aNGiXuWERiosLBRIAglb\n",
       "HWCUQCAJpKR11VVXXXhMdOa6c88998JSvve97/385z+fOXOmkzQIJGx1gFECgSSQ\n",
       "PAepphBIYKsDowQCCYFUHSZOnHjllVdmZGQIJIGErQ4wSiCQBBK1gEACWx0YJRBI\n",
       "CKTqUFRUlHjxX//61wsvvHDPPfcMHDgwKyuruLhYIAkkbHWAUQKBJJCSv4tGjx79\n",
       "05/+tEmTJkePHo0Ozp8/v2nTpomnsHvyySdrQiMJJLDVgVECgYRA+qYUFBTcfPPN\n",
       "cQVFZ/HOz8//zne+Ey7Wr18/Osdd9N5Ro0YJJIGErQ4wSiCQBFLSeuWVV6L4+fWv\n",
       "fz1jxozoZ0Rjx46N6ujvf/97dLUhQ4aEI61atfI6SAIJWx1glEAgCaSk1bZt21A+\n",
       "Dz/8cOLBG264IRy855574iMhnFq3bh0OLlq0SCAJJGx1gFECgSSQklBeXl7046OF\n",
       "Cxcm/tJdo0aNwsFZs2YlXvmhhx4KB//85z8LJIGErQ4wSiCQBFIS+uijj0LzNG3a\n",
       "9MiRI/HB7OzsqJr279+feOXU1NRw8IUXXhBIAglbHWCUQCAJpCS0cePG0DwXXHBB\n",
       "4sHnn38+HLzkkktKXPmee+4Jx6dMmSKQBBK2OsAogUASSEnoyJEjDRo0OO2003bv\n",
       "3h0f7NChQ3RS7xLXbNmyZTi+ePFigSSQsNUBRgkEkkBKTr/4xS9C9jzwwAPRq8S+\n",
       "+eab0e/XvfXWW4lXGz16dDh41lln5eXlCSSBhK0OMEogkARScsrMzIyKqG3bttdc\n",
       "c02DBg2iX7qLXjE2/G92dnZKSkp0nYEDB57yL1ggga0OjBIIJATSN2jkyJH1Epxx\n",
       "xhnxSe3mz58fH+/YseNnn30mkAQStjrAKIFAEkhJbunSpUOGDLnzzjvD/3744Ycl\n",
       "fr504YUXpqamJp7pTiAJJGx1gFECgSSQEEgCCVsdYJRAIAkkBJJAwlYHGCUQSAIJ\n",
       "gSSQsNUBRgkEkkBCIAkkbHWAUQKBJJAQSAIJWx1glEAgCSQEkkDCVgcYJRBIAgmB\n",
       "JJCw1QFGCQSSQEIgCSRsdYBRAoEkkBBIAglbnTsBjBIIJIGEQBJIYKsDowQCSSAh\n",
       "kAQS2OrAKIFAEkgIJIEEtjowSiCQBBICSSCBrQ6MEggkgYRAEkhgqwOjBAJJICGQ\n",
       "BBLY6sAogUASSAgkgQS2OjBKIJAEEgJJIIGtDowSCCSBhEASSGCrA6MEAgmBJJAE\n",
       "EtjqwCiBQEIgIZDAVgdGCQQSAgmBBLY6MEogkBBICCSw1YFRAoGEQEIgga0OjBII\n",
       "JAQSAglsdWCUQCAhkBBIYKsDowQCCYGEQAJbHRglEEgCSSAhkMBWB0YJEEgCCYEE\n",
       "tjowSoBAEkgIJLDVgVECBJJAQiCBrQ6MEiCQBBICCWx1YJQAgSSQEEgCCVsdGCVA\n",
       "IAkkBJJAwlYHRgkQSAIJgSSQsNWBUQIEkkBCIAkkbHVglACBJJAQSAIJWx0YJXcC\n",
       "CCSBhEASSNjqAKMEAkkgIZAEErY6wCiBQBJICCSBhK0OMEogkAQSAkkgYasDjBII\n",
       "JIFENdq7d+/ixYvz8/MFEtjqwCiBQEIg1XWTJ08OI7FlyxaBBLY6MEogkBBIdVdB\n",
       "QcG8efN6HCOQwFYHRgkEEgKpjlq3bt2IESNSU1N7fEUgga0OjBIIJARS3Q2k4V/p\n",
       "1auXQAJbHRglEEgIJP7XxIkTBRLY6sAogUBCIHHCgdSq39zy/nQc92HN+dP/7U0H\n",
       "oAbLyclxJ4BRgmo2e/bsHuWzFQskTiaQuvQavmpfUc3/49+B8M/eYJQAP0ESSPgV\n",
       "O7DVgVECBJJAQiCBrQ6MEiCQBBICCWx1YJQAgSSQEEhgqwOjZJRAIAkkBBLY6gCj\n",
       "BAJJICGQwFYHGCUQSAKJb9akSZMEEtjqwCiBQEIgccIEEtjqwCiBQEIgIZDAVgdG\n",
       "CQQSAgmBBLY6MEogkBBICCSw1YFRAoGEQEIgga0OjBIIJAQSAglsdWCUQCAhkBBI\n",
       "YKsDowQCCYGEQAJbHRglQCAJJAQS2OrAKAECSSAhkMBWB0YJEEgCCYEEtjowSoBA\n",
       "EkgIJLDVgVECBJJAQiCBrQ6MEiCQBBICCWx1YJQAgSSQEEhgqwOjBAgkgYRAAlsd\n",
       "GCVAIAkkBBLY6sAoAQJJICGQwFYHRskogUASSAgksNUBRgkEkkBCIIGtDjBKIJAE\n",
       "EgIJbHWAUQKBJJAQSGCrA4wSCCSBhEACWx1glEAgCSQEEtjqAKMEAkkgIZDAVgcY\n",
       "JRBIAgmBBLY6wCiBQBJICCSw1QFGCQSSQEIgAbY6MEogkAQSAgmw1YFRAoEkkBBI\n",
       "gK0OjBIIJIGEQAJsdWCUQCAJJAQSYKsDowQCSSAhkABbHRglEEgCCYEE2OrAKIFA\n",
       "EkgIJMBWB0YJBJJAQiABtjowSiCQBJK7QCABtjowSiCQEEgIJLDVgVECgYRAQiCB\n",
       "rQ6MEggkBBICCWx1YJRAICGQEEhgqwOjBAIJgYRAAlsdGCUQSAgkBBLY6sAogUBC\n",
       "ICGQwFYHRgkEEgIJgQS2OjBKgEASSAgksNWBUQIEkkBCIIGtDowSIJAEEgIJbHVg\n",
       "lACBJJAQSGCrA6MECCSBhEACWx0YJUAgCSQEEtjqwCgBAkkgIZDAVgdGCRBIAgmB\n",
       "BLY6MEqAQBJICCSw1YFRAgSSQEIgga0OMEogkAQSAglsdYBRAoEkkBBIYKsDjBII\n",
       "JIGEQAJbHWCUQCAJJAQS2OoAowQCSSAhkMBWBxglEEgCCYEEtjrAKIFAEkgIJLDV\n",
       "AUYJBJJAQiCBrQ4wSiCQBBICCWx1gFECgSSQEEiArQ6MEggkgYRAAmx1YJRAIAkk\n",
       "BBJgqwOjBAJJICGQAFsdGCUQSAIJgQTY6sAogUASSAgkwFYHRgkEkkBCIAG2OjBK\n",
       "IJAEEgIJsNWBUQKBJJAQSICtDowSCCQEkkACbHVglEAgIZAQSGCrA6MEAgmBhEAC\n",
       "Wx0YJRBICCQEEtjqwCiBQEIg1U6HDx/etGnTsmXLPv7447y8vONeP/x3ZXcpFd9Q\n",
       "IIGtDowSCCQEUi2wfPnyvn379vhKamrq3//+94pvMnz48B6lZGZmCiSw1YFRAoGE\n",
       "QKrFNm/e3LNnz/DInjx58pIlS6ZPnx5dXLVqVXk3KSwsTElJGTRoUMZ/W7dunUAC\n",
       "Wx0YJRBICKRabNy4ceFhPXPmzPjIe++9F44MHz68vJvs2LEjXGHatGmegwS2OjBK\n",
       "IJBs1AIpeRQWFqampoaH9aeffpp4sHfv3uFg+I9HmbdasWJFeG9WVpZAAlsdGCUQ\n",
       "SJZqgZQ89u7dGx7TzzzzTInjaWlp4fjHH39c5q0yMjLCe9esWZOdnT1nzpxQStu2\n",
       "bRNIYKsDowQCCYFU65+AFB7To0ePLnE8PT29gqchvfrqq+G9vXr1SjxDw5QpUwoL\n",
       "CysOpDLNnj37AFBpOTk57gQwSlDNwsLWo3yWaoGUPDZu3Bge02lpaSWO//nPfw7H\n",
       "ly1bVuatBgwYEN1q5cqVmzZtyszMjGLJWezAP3uDUQI/QUIg1WIbNmwoM5AmT55c\n",
       "XiAVFRUtXLgwKysr8edFH3zwQXR+8PBegQS2OjBKIJAQSLXSli1bwmN65MiRJY5P\n",
       "nDix4jN9lzZw4MBwkz179ggksNWBUQKBhECqlfbv3x8e07179y4uLk48PmzYsHB8\n",
       "06ZNpW8SrllQUFD66UajRo2q4LwOAglsdWCUQCAhkGq6oqKip59+Ojys//3vf8cH\n",
       "Dx06lJKS0rNnz/BG6Zvk5OSE67/22muJB0Mv9enTp4IzgwsksNWBUQKBhECqBULq\n",
       "hIf12LFj4x8iRWdoGDNmTHQxNzd34THRxfBflOgUdps3b45/pjRr1qxwcMSIEU7S\n",
       "ALY6MEogkBBItdjevXuj14p95plnXn/99cGDB4e3e/bsGf9+3YIFC0qcwHHmzJnh\n",
       "YkpKSnp6ekZGxujRo6Nk2rp1q0ACWx0YJRBICKTaLYTNiBEj4jPZP/fcc2vXro3f\n",
       "GwVSyKH4yNGjR+fPn9+vX7/o+uFdaWlpO3furPizCCSw1YFRAoGEQEIgga0OjBII\n",
       "JAQSAglsdWCUQCAhkBBIYKsDowQCCYGEQAJbHRglEEgIJAQS2OrAKIFAQiAhkMBW\n",
       "B0YJBBICCYEEtjowSoBAEkgIJLDVgVECBJJAQiCBrQ6MEiCQBBICCWx1YJQAgSSQ\n",
       "EEhgqwOjBAgkgYRAAlsdGCVAIAkkBBLY6sAoAQJJICGQwFYHRgkQSAIJgQS2OjBK\n",
       "gEASSAgksNWBUQIEkkBCIIGtDoySUQKBJJAQSGCrA4wSCCSBhEACWx1glEAgCSQE\n",
       "EtjqAKMEAkkgIZDAVgcYJRBIAgmBBLY6wCiBQBJICKT/r707/62q2hs47IioiGMc\n",
       "o+CE4hCNGufZOAdETYzESJxiayuagIpKUwzSiGIdUBQ1FQQnQgTBCVImBREttFJE\n",
       "wEqptrZWS3v/hPuN+/Xk3FZOd2k1vvR5fqKru5uexVnZ60PP2QW7OsBSAoEkkBBI\n",
       "YFcHWEogkAQSAgns6gBLCQSSQEIggV0dYCmBQBJICCTArg4sJRBIAgmBBNjVgaUE\n",
       "AkkgIZAAuzqwlEAgCSQEEmBXB5YSCCSBhEAC7OrAUgKBJJAQSIBdHVhKIJAEEgIJ\n",
       "sKsDSwkEkkBCIAF2dWApgUASSAgkwK4OLCUQSALJFAgkwK4OLCUQSAgkBBLY1YGl\n",
       "BAIJgYRAArs6sJRAICGQEEhgVweWEggkBBICCezqwFICgYRAQiCBXR1YSiCQEEgI\n",
       "JLCrA0sJBBICCYEEdnVgKYFAQiAhkMCuDiwlQCAJJAQS2NWBpQQIJIGEQAK7OrCU\n",
       "AIEkkBBIYFcHlhIgkAQSAgns6sBSAgSSQEIggV0dWEqAQBJICCSwqwNLCRBIAgmB\n",
       "BHZ1YCkBAkkgIZDArg4sJUAgCSQEEtjVgaUECCSBhEACuzrAUgKBJJAQSGBXB1hK\n",
       "IJAEEgIJ7OoASwkEkkBCIIFdHWApgUASSAgksKsDLCUQSAIJgQR2dYClBAJJICGQ\n",
       "wK4OsJRAIAkkBBLY1QGWEggkgYRAArs6wFICgSSQEEhgVwdYSiCQBBICCbCrA0sJ\n",
       "BJJAQiABdnVgKYFAEkgIJMCuDiwlEEgCCYEE2NWBpQQCSSAhkAC7OrCUQCAJJAQS\n",
       "YFcHlhIIJIGEQALs6sBSAoEkkBBIgF0dWEogkAQSAgmwqwNLCQQSAkkgAXZ1YCmB\n",
       "QEIgIZDArg4sJRBICCQEEtjVgaUEAgmBhECCv8WMGTNMAlhKIJAEEgIJ+L/rkEkA\n",
       "SwkEkkDi36WpqamysrK8vLyioqKhoUEggV0dWEogkBBIvdSiRYseeOCBe/9UUFAw\n",
       "d+5cgQR2dWApgUBCIPU6VVVVeXl5sRKmTJmyYMGCsrKy5MOlS5cKJLCrA0sJBBIC\n",
       "qXcpLS2NZTB9+vTMyIcffhgjRUVFAgns6sBSAoGEQOpFWlpaCgoKYhnU1dVlDxYW\n",
       "Fsbgli1bBBLY1YGlBAIJgdRb1NTUxBoYPXp0u/GSkpIYr6ioEEhgVweWEggkBFIv\n",
       "egNSrIHx48e3G588eXKnb0NyKQK7OrCUQCAhkHYoa9asiTVQUlLSbnzq1KkxXl5e\n",
       "nuNrJ06ceC8AADuW2OPZJAuk3mv16tV/GUhTpkzpNJAAAACBtEP59ttvI4TGjRvX\n",
       "bvyFF15Ic6dvAABAIO04amtrI4QKCwvb2tqyx8eOHRvjlZWVpggAAARSb9Ha2jpy\n",
       "5Mhooe+++y4zWF9fn5+fn5eXF38wRQAAIJB6kZdffjl5N17mh0jJHRomTJhgcgAA\n",
       "QCD1LjU1Ncnvih09evQrr7zy6KOPxp/z8vK8vg4AAARSb7R27dri4uLMvR3HjBmz\n",
       "cuVK0wIAAAIJAABAIAEAAAgkAAAAgQQAACCQAAAABBLd19TUVFlZWV5eXlFR0dDQ\n",
       "YEJgO2zZsmVTBxYUdElNTc1nn33W2NjoUgV/x1JyqRJIpLJo0aIHHnggc0PwgoKC\n",
       "uXPnmhboqqKions7mDVrlpmB9KZMmRIL59tvv3Wpgr9jKblUCSQ6V1VVlZeXF2sj\n",
       "FtKCBQvKysqSD5cuXWpyIL2Wlpb8/PyHH3545v9atWqVyYE0mpubZ8+enWzX2u3q\n",
       "XKqgR5aSS5VAIpXS0tJYP9OnT8+MfPjhhzFSVFRkciC99evXx8J54403TAV0VWzO\n",
       "iouLCwoKMv+f3W5X51IFPbKUXKoEEp1raWlJVlFdXV32YGFhYQxu2bLFFEFKixcv\n",
       "jlXz0UcfmQrYjl1d0Z/uu+++drs6lyrokaXkUiWQSKWmpibWyejRo9uNl5SUxHhF\n",
       "RYUpgpRmzpwZq2bFihULFy5855134vJTXV1tWqCrXnjhhXa7Opcq6JGl5FIlkEil\n",
       "qqoq1sn48ePbjU+ePNlru6FLJk2aFKsm+R+7jFdffbWlpcXkQHd2dS5V0FOB5FIl\n",
       "kOjcmjVrYmGUlJS0G586dWqMl5eXmyJIadSoUclqWrJkSWVl5axZs5IrkFsDQTd3\n",
       "dS5V0FOB5FIlkOjc6tWr//Kqk9wa0lUHUmptbZ0/f/5HH32U/Z9wy5YtS25GHJ81\n",
       "RbDduzqXKuiRpeRSJZBIJZZNrIpx48b95aLyugXopoceeiiW0g8//GAqYLt3dS5V\n",
       "0CNLyaVKIJFKbW1tLInCwsK2trbs8bFjx8Z4ZWWlKYI0YgU1Nzd3fA33E0884U3k\n",
       "0M1dnUsV9MhScqkSSKTS2to6cuTIWBXfffddZrC+vj4/Pz8vLy/+YIogjeXLl8c6\n",
       "evnll7MH4yJ0//33uw0xdHNX51IFPbKUXKoEEmnFOolVMXHixMz/zCVve50wYYLJ\n",
       "gZTiupLcF6iqqioZiQX11ltvxWBxcbH5ge7s6lyqoEeWkkuVQCKtmpqa5BfwjR49\n",
       "+pVXXnn00Ufjz3l5eV60AF0yffr0WDv5+fmTJ0+eOXPm+PHjk+vQ2rVrTQ50M5Bc\n",
       "qqBHlpJLlUAirVgVxcXFmdvhjxkzZuXKlaYFumTr1q1z5sx58MEHk3UUl5+SkpIN\n",
       "GzaYGeiSl1566S/fWe5SBd1fSi5VAomuaWpq+v777xsaGkwFbLe2trYtW7Zs3LjR\n",
       "L90DlypwqRJIAAAAAgkAAEAgAQAACCQAAACBBAAAIJAAAAAEEgD8XVasWDHtT598\n",
       "8knugxsbG6dl+eWXX3If//HHH7/zzju9dm43bNgQs7RmzRpPMwCBBEDP2Lx5c98U\n",
       "hg4dun3nHzly5E5/Gjx4cO6Dq6urd8ry2Wef5Th4+fLlu+2222WXXbaD/YuUlpbG\n",
       "hN9yyy2dHllbW7vPPvuccsopW7du9UwGEEgA9IAff/xxpxQuvfTS7gTS1VdfHfv+\n",
       "N998M/fBDQ0NpX8YMGBA7kCKJDj99NN33nnnL774Ygf7F3nmmWfisV9zzTVpDn7s\n",
       "scfi4Oeee84zGUAgAdAD2traGv7X0UcfHXvuUaNGZQ/++uuv3QmkcePGdemrzj77\n",
       "7NyBVFZWFgcMGTJkx/sX6VIgxT9Nv379Dj744ObmZk9mAIEEQM877rjjYoP+2GOP\n",
       "9cjZ/qZAOuecc+KA999/v5cHUhg+fHgc/+qrr3rqAggkADr31FNPxR561apVn376\n",
       "6V133XXSSScde+yxw4YNW758+XYE0rx582666abBgwcPGDDgrLPOKigoyH2TgL8M\n",
       "pE5PkjuQvvzyy/jsAQcc8Pvvv3fpG1u6dOk999xz5plnxmF33333zJkzO558/vz5\n",
       "yTFHH330xRdfHN95fX19u2MWL16cn59/3nnnxTHXXXfd2LFjf/rpp+2b8Pfee+/2\n",
       "228/+eSTjznmmKFDh8bf3jGQcj+0uXPnxvGnn366pzqAQAKgc1dccUVsoGPT36dP\n",
       "n+y3FcWH5eXlXQqkCRMmdHx7Uv/+/VeuXJk+kNKcJHcgPfnkk/HZyy+/vEvnLCkp\n",
       "2X333dsdU1hYmDmgra3tkUce2Xnnndsdc8QRR2zcuDFzWHFx8W677dbumCOPPDKq\n",
       "qUsTvnXr1nvvvbfjtx2llB1InT60xsbGZHDTpk2e7QACCYBUgRROPfXU+fPnb9iw\n",
       "YerUqYcffniMXHfddekD6bfffttzzz3jU3feeWd1dXV9ff28efMGDhwYIzfeeGPK\n",
       "QEp5ktyBdPXVVydnSH/OeODx4a677hoJVFVVtXbt2qKioiRgnnnmmeSYGTNmJBM1\n",
       "fPjwKJk4LD51wAEHxMiVV16ZHDNr1qzkmBhZsmRJNMm0adMOOeSQGIkpTd6plXLC\n",
       "p0yZkhw2YsSIZcuWrVu37vXXXz/wwAOTwSSQUk7XQQcdFCOvvfaaZzuAQAIgVSDF\n",
       "zvvnn3/ODD7xxBMxGFvt9IH09ddfJ3v3zz//PDM4e/bs/fff/7TTTksZSClPkjuQ\n",
       "Dj300PhsPIT05xw8eHDHBzVx4sQYjMf7nz9+fHTiiSfGhzfffHP2MU8//XQM7r77\n",
       "7skL7QYNGpTc0y+OzxwTKbXHHntkHmaaCW9tbT3qqKNipN3tvOOxJD+eSgIp5XSd\n",
       "ccYZcUxeXp5nO4BAAiBVIOXn52cPLl++PAb79euXPpBiT5/8qCR29pMnT075gq52\n",
       "gZTyJDkCKcokSYjMTcM7PWfmVuYbN25szhLNk/wQadmyZfFVyTFLly7N/trff//9\n",
       "gw8+mDNnTvwhc0zHlybeeeedMZ78UqY0E75u3bqO5ZMYNmxYJpBSTteNN94Yx8QX\n",
       "erYDCCQAUgXSxIkTswe/+uqrGNx7773TB1KYOnVq3759M++EGThw4IgRIz7++OP0\n",
       "gZTyJDkCqa6uLvnCRYsWpTznJ598kvu3PL399tvxdyWvwcvxS1fjhHHMLrvs0vGe\n",
       "2i+++GLyTqSUEz5v3rxt/XXjx4/Pfg9Smul68MEH41MXXHCBZzuAQAIgVSA9//zz\n",
       "3Q+k//zxcrL41Jlnnpl9o4Lbbrst+yVnuQMpzUlyBFJ9fX1y/MKFC1OeM/PGoaO2\n",
       "oays7N13393WhGTMnj07jonzd3ywye9l2n///VNOePIt9enTp+PfMmnSpHZ3set0\n",
       "uh566KEYOffccz3bAQQSAP9oIGU0NjZGVMSmPNmvb+vnSLl/D9K2TpL7PUjJT1Re\n",
       "f/31lOeMwEh+8pN9W/B2VqxYkRxfV1eXPd7a2hpTV1paunHjxm+++SY5Zv369e2+\n",
       "fOzYsTEeDZNywjOn6viqucLCwm39HqRtTdctt9wSH15//fWe7QACCYB/KJBmzZo1\n",
       "aNCgG264IXuwoaFhn332ieOfeuqpNIGU8iS5A+nII4+Mz0aTpDxnRE6/fv3izzNm\n",
       "zMg+Zt26dfFgBw4cuGHDhqampl133TWOmTRpUvYx06ZNS+KqtrY2+iq5p9wjjzyS\n",
       "fcxvv/2W3Jv79ttvTznh8SV77bVXjBQVFbU7VfKmoySQUk5Xkkx33HGHZzuAQALg\n",
       "HwqklStXJm+bee+99zKD33zzTXIDt3nz5qUJpJQnyR1IQ4cOzdRIynOOGTMm/nzY\n",
       "YYdl3rkURXTttdfGYBRIMjJixIjkZXKZezBUVFScfPLJMXj++ecnI5FG8WHfvn0z\n",
       "t4iI89x6663JS+/i+PQTPmrUqBiJTHr//feTkebm5mih7Nt8p5yu5LZ+7f5GAAQS\n",
       "AH9jILW1tV1++eXJ9j2yYciQIRdeeGGyUz/xxBOTXwHUaSClPEnuQIrHEp+9+OKL\n",
       "05+zoaHhhBNOSGLjpJNOiuBJDoiq+eCDD5LzbNq0KSmNOObUU09N7gye5NCqVauS\n",
       "Y3755ZdTTjklGY8TXnrppckvSgqPP/54lya8rq4uubF4OP744y+66KLk50LJD6mS\n",
       "QErz0CKrkl9uG+Hk2Q4gkABIFUgvvfRS9mDyHph999234/HJrv0v34MUmXH33Xcn\n",
       "rw3LxMNNN91UU1Ozrb+943uQ0pwkdyCtX78+GqZ///6Zu8mlOWdTU9Mdd9wRX5U5\n",
       "JpIjU0eJzZs3Dxs2LEmUxDnnnNPuxt/xlxYUFGR+o2vESeRN9k940k945Nbw4cMz\n",
       "31J8z/FhSUlJ9nuQOn1oyf33khvoASCQAPinRSGsWbNm4cKFsemP6sh98LZu0pD7\n",
       "JLkDKQwZMqTje4pSfmPV1dWLFy/OEXWtra0VFRXLli1Lfjnstnz//fdLliyJyOnm\n",
       "fLa1tcU3/NVXX7W0tGzHnEf15bgNBgACCYB/kdx3sduWTgNpwYIF27rVW68SsbTf\n",
       "fvv17du3trbWkw1AIAHw/yOQrr322meffbasrCz3wY2Njc/+YcCAAbkDKVx11VVx\n",
       "zJIlS3rz9BYXF3e8qx4AAgmAf3UgJQYPHpz74Orq6p2y5A6k1atX9+nT55JLLum1\n",
       "c1tbW9u/f/9BgwZl3osFgEAC4F/tyy+/nP6nOXPm5D44NvpvvfVW5vjNmzfnPn7h\n",
       "woVx2NatW3ttIMXDj1D0NAMQSAAAAAIJAABAIAEAAAgkAAAAgQQAACCQAAAABBIA\n",
       "AIBAAgAAEEgAAAACCQAAQCABAAAIJAAAAIEEAAAgkAAAAAQSAACAQAIAABBIAAAA\n",
       "AgkAAEAgAQAACCQAAACBBAAAIJAAAAAEEgAAgEACAAAQSAAAAAIJAABAIAEAAAgk\n",
       "AAAABBIAAIBAAgAAEEgAAAACCQAAQCABAAAIJAAAAIEEAADQdf8F3Vi5ZQnjmAAAAAAASUVORK5CYII=\" style=\"clip-path:url(#clipPath2);\" height=\"840\" preserveAspectRatio=\"none\"\n",
       "    /></g\n",
       "  ></g\n",
       "></svg\n",
       ">\n"
      ]
     },
     "metadata": {
      "filenames": {
       "image/svg+xml": "/Users/eechris/code/src/github.com/cpjobling/eg-247-textbook/_build/jupyter_execute/dt_systems/4/dt_models_69_0.svg"
      }
     },
     "output_type": "display_data"
    }
   ],
   "source": [
    "step(Hz)\n",
    "grid\n",
    "title('Example 1 - Part 3 - As Analogue Signal')\n",
    "xlabel('nTs [s]')\n",
    "ylabel('Step response y(t)')\n",
    "axis([0,15,0,3.5])"
   ]
  },
  {
   "cell_type": "markdown",
   "id": "e4dcbd8a",
   "metadata": {
    "slideshow": {
     "slide_type": "subslide"
    }
   },
   "source": [
    "### Simulink Model\n",
    "\n",
    "See [dtm.slx](https://cpjobling.github.io/eg-247-textbook/dt_systems/4/matlab/dtm.slx):\n",
    "\n",
    "![Simulink model](./pictures/simulink_model.png)"
   ]
  },
  {
   "cell_type": "code",
   "execution_count": 12,
   "id": "704b9f30",
   "metadata": {
    "slideshow": {
     "slide_type": "fragment"
    }
   },
   "outputs": [],
   "source": [
    "dtm"
   ]
  },
  {
   "cell_type": "markdown",
   "id": "c5fabd34",
   "metadata": {
    "slideshow": {
     "slide_type": "notes"
    }
   },
   "source": [
    "#### Results\n",
    "\n",
    "![Simulink results](./pictures/scope.png)"
   ]
  },
  {
   "cell_type": "markdown",
   "id": "377e53d3",
   "metadata": {
    "slideshow": {
     "slide_type": "slide"
    }
   },
   "source": [
    "(cse)=\n",
    "## Converting Continuous Time Systems to Discrete Time Systems\n",
    "\n",
    "In analogue electronics, to implement a filter we would need to resort to op-amp circuits with resistors, capacitors and inductors acting as energy dissipation, storage and release devices."
   ]
  },
  {
   "cell_type": "markdown",
   "id": "d0451048",
   "metadata": {
    "slideshow": {
     "slide_type": "subslide"
    }
   },
   "source": [
    "* In modern digital electronics, it is often more convenient to take the original transfer function $H(s)$ and produce an equivalent $H(z)$."
   ]
  },
  {
   "cell_type": "markdown",
   "id": "0f94911b",
   "metadata": {
    "slideshow": {
     "slide_type": "fragment"
    }
   },
   "source": [
    "* We can then determine a *difference equation* that will respresent $h[n]$ and implement this as *computer algorithm*."
   ]
  },
  {
   "cell_type": "markdown",
   "id": "41941ef0",
   "metadata": {
    "slideshow": {
     "slide_type": "fragment"
    }
   },
   "source": [
    "* Simple storage of past values in memory becomes the repository of past state rather than the integrators and derivative circuits that are needed in the analogue world."
   ]
  },
  {
   "cell_type": "markdown",
   "id": "758deba6",
   "metadata": {
    "slideshow": {
     "slide_type": "subslide"
    }
   },
   "source": [
    "To achieve this, all we need is to be able to do is to *sample* and *process* the signals quickly enough to avoid violating Nyquist-Shannon's sampling theorem."
   ]
  },
  {
   "cell_type": "markdown",
   "id": "e12dbe91",
   "metadata": {
    "slideshow": {
     "slide_type": "subslide"
    }
   },
   "source": [
    "### Continuous System Equivalents\n",
    "\n",
    "* There is no digital system that uniquely represents a continuous system\n",
    "* This is because as we are sampling, we only have knowledge of signals being processed at the sampling instants, and need to *reconstruct* the inter-sample behaviour.\n",
    "* In practice, only a small number of transformations are used.\n",
    "* The derivation of these is beyond the scope of this module, but **in class** we'll demonstrate the ones that MATLAB provides in a function called `c2d`"
   ]
  },
  {
   "cell_type": "markdown",
   "id": "03216f68",
   "metadata": {
    "slideshow": {
     "slide_type": "subslide"
    }
   },
   "source": [
    "### MATLAB c2d function\n",
    "\n",
    "Let's see what the help function says:"
   ]
  },
  {
   "cell_type": "code",
   "execution_count": 13,
   "id": "a08768ac",
   "metadata": {
    "slideshow": {
     "slide_type": "notes"
    }
   },
   "outputs": [
    {
     "name": "stdout",
     "output_type": "stream",
     "text": [
      " C2D  Converts continuous-time dynamic system to discrete time.\n",
      " \n",
      "    SYSD = C2D(SYSC,TS,METHOD) computes a discrete-time model SYSD with\n",
      "    sample time TS that approximates the continuous-time model SYSC.\n",
      "    The string METHOD selects the discretization method among the following:\n",
      "       'zoh'           Zero-order hold on the inputs\n",
      "       'foh'           Linear interpolation of inputs\n",
      "       'impulse'       Impulse-invariant discretization\n",
      "       'tustin'        Bilinear (Tustin) approximation.\n",
      "       'matched'       Matched pole-zero method (for SISO systems only).\n",
      "       'least-squares' Least-squares minimization of the error between\n",
      "                       frequency responses of the continuous and discrete\n",
      "                       systems (for SISO systems only).\n",
      "       'damped'        Damped Tustin approximation based on TRBDF2 formula\n",
      "                       (sparse models only).\n",
      "    The default is 'zoh' when METHOD is omitted. The sample time TS should\n",
      "    be specified in the time units of SYSC (see \"TimeUnit\" property).\n",
      " \n",
      "    C2D(SYSC,TS,OPTIONS) gives access to additional discretization options. \n",
      "    Use C2DOPTIONS to create and configure the option set OPTIONS. For \n",
      "    example, you can specify a prewarping frequency for the Tustin method by:\n",
      "       opt = c2dOptions('Method','tustin','PrewarpFrequency',.5);\n",
      "       sysd = c2d(sysc,.1,opt);\n",
      " \n",
      "    For state-space models,\n",
      "       [SYSD,G] = C2D(SYSC,Ts,METHOD)\n",
      "    also returns the matrix G mapping the states xc(t) of SYSC to the states \n",
      "    xd[k] of SYSD:\n",
      "       xd[k] = G * [xc(k*Ts) ; u[k]]\n",
      "    Given an initial condition x0 for SYSC and an initial input value u0=u(0), \n",
      "    the equivalent initial condition for SYSD is (assuming u(t)=0 for t<0):\n",
      "       xd[0] = G * [x0;u0] .\n",
      " \n",
      "    See also C2DOPTIONS, D2C, D2D, DYNAMICSYSTEM.\n",
      "\n",
      "    Documentation for c2d\n",
      "       doc c2d\n",
      "\n",
      "    Other functions named c2d\n",
      "\n",
      "       DynamicSystem/c2d    ltipack.tfdata/c2d\n",
      "\n"
     ]
    }
   ],
   "source": [
    "help c2d"
   ]
  },
  {
   "cell_type": "code",
   "execution_count": 14,
   "id": "5e1a58c7",
   "metadata": {
    "slideshow": {
     "slide_type": "fragment"
    }
   },
   "outputs": [],
   "source": [
    "doc c2d"
   ]
  },
  {
   "cell_type": "markdown",
   "id": "929fc396",
   "metadata": {
    "slideshow": {
     "slide_type": "subslide"
    }
   },
   "source": [
    "(demo)=\n",
    "## Example: Digital Butterworth Filter\n",
    "\n",
    "* Design a 2nd-order butterworth low-pass anti-aliasing filter with transfer function $H(s)$ for use in sampling music. \n",
    "* The cut-off frequency $\\omega_c = 20$&nbsp;kHz and the filter should have an attenuation of at least $-80$&nbsp;dB in the stop band. \n",
    "* Choose a suitable sampling frequency for the audio signal and give the transfer function $H(z)$ and an algorithm to implement $h[n]$"
   ]
  },
  {
   "cell_type": "markdown",
   "id": "a92f8d9f",
   "metadata": {
    "slideshow": {
     "slide_type": "subslide"
    }
   },
   "source": [
    "### Solution\n",
    "\n",
    "See [digi_butter.mlx](https://cpjobling.github.io/eg-247-textbook/dt_systems/4/matlab/digi_butter.mlx)."
   ]
  },
  {
   "cell_type": "markdown",
   "id": "37826957",
   "metadata": {
    "slideshow": {
     "slide_type": "subslide"
    }
   },
   "source": [
    "First determine the cut-off frequency $\\omega_c$\n",
    "\n",
    "$$\\omega_c = 2\\pi f_c = 2\\times \\pi \\times 20\\times 10^3\\;\\mathrm{rad/s}$$"
   ]
  },
  {
   "cell_type": "code",
   "execution_count": 15,
   "id": "9a98fc36",
   "metadata": {
    "slideshow": {
     "slide_type": "fragment"
    }
   },
   "outputs": [
    {
     "name": "stdout",
     "output_type": "stream",
     "text": [
      "wc =\n",
      "   1.2566e+05\n"
     ]
    }
   ],
   "source": [
    "wc = 2*pi*20e3"
   ]
  },
  {
   "cell_type": "markdown",
   "id": "f59d85e0",
   "metadata": {
    "slideshow": {
     "slide_type": "fragment"
    }
   },
   "source": [
    "$$\\omega_c = 125.6637\\times 10^3\\;\\mathrm{rad/s}$$"
   ]
  },
  {
   "cell_type": "markdown",
   "id": "7832974d",
   "metadata": {
    "slideshow": {
     "slide_type": "subslide"
    }
   },
   "source": [
    "From the lecture on filters, we know the 2nd-order butterworth filter has transfer function:\n",
    "\n",
    "$$H(s) = \\frac{Y(s)}{U(s)} = \\frac{\\omega _c^2}{s^2 + \\omega _c\\sqrt 2 \\,s + \\omega _c^2}$$"
   ]
  },
  {
   "cell_type": "markdown",
   "id": "36db1f94",
   "metadata": {
    "slideshow": {
     "slide_type": "fragment"
    }
   },
   "source": [
    "Substituting for $\\omega_c = 125.6637\\times 10^3 $ this is ...?"
   ]
  },
  {
   "cell_type": "code",
   "execution_count": 16,
   "id": "ea54bf6b",
   "metadata": {
    "slideshow": {
     "slide_type": "fragment"
    }
   },
   "outputs": [
    {
     "name": "stdout",
     "output_type": "stream",
     "text": [
      "\n",
      "Hs =\n"
     ]
    },
    {
     "name": "stdout",
     "output_type": "stream",
     "text": [
      " \n"
     ]
    },
    {
     "name": "stdout",
     "output_type": "stream",
     "text": [
      "           1.579e10\n"
     ]
    },
    {
     "name": "stdout",
     "output_type": "stream",
     "text": [
      "  ---------------------------\n"
     ]
    },
    {
     "name": "stdout",
     "output_type": "stream",
     "text": [
      "  s^2 + 1.777e05 s + 1.579e10\n"
     ]
    },
    {
     "name": "stdout",
     "output_type": "stream",
     "text": [
      " \n"
     ]
    },
    {
     "name": "stdout",
     "output_type": "stream",
     "text": [
      "Continuous-time transfer function.\n",
      "\n"
     ]
    }
   ],
   "source": [
    "Hs = tf(wc^2,[1 wc*sqrt(2), wc^2])"
   ]
  },
  {
   "cell_type": "markdown",
   "id": "6e039eb3",
   "metadata": {
    "slideshow": {
     "slide_type": "subslide"
    }
   },
   "source": [
    "$$H(s) = \\frac{15.79 \\times 10^9}{s^2 + 177.7 \\times 10^3 s + 15.79 \\times 10^9}$$"
   ]
  },
  {
   "cell_type": "markdown",
   "id": "8403329c",
   "metadata": {
    "slideshow": {
     "slide_type": "subslide"
    }
   },
   "source": [
    "#### Bode plot\n",
    "\n",
    "MATLAB:"
   ]
  },
  {
   "cell_type": "code",
   "execution_count": 17,
   "id": "edfbd560",
   "metadata": {
    "slideshow": {
     "slide_type": "subslide"
    }
   },
   "outputs": [
    {
     "data": {
      "image/svg+xml": [
       "<?xml version=\"1.0\"?>\n",
       "<!DOCTYPE svg PUBLIC '-//W3C//DTD SVG 1.0//EN'\n",
       "          'http://www.w3.org/TR/2001/REC-SVG-20010904/DTD/svg10.dtd'>\n",
       "<svg xmlns:xlink=\"http://www.w3.org/1999/xlink\" style=\"fill-opacity:1; color-rendering:auto; color-interpolation:auto; text-rendering:auto; stroke:black; stroke-linecap:square; stroke-miterlimit:10; shape-rendering:auto; stroke-opacity:1; fill:black; stroke-dasharray:none; font-weight:normal; stroke-width:1; font-family:'Dialog'; font-style:normal; stroke-linejoin:miter; font-size:12px; stroke-dashoffset:0; image-rendering:auto;\" width=\"560\" height=\"420\" xmlns=\"http://www.w3.org/2000/svg\"\n",
       "><!--Generated by the Batik Graphics2D SVG Generator--><defs id=\"genericDefs\"\n",
       "  /><g\n",
       "  ><defs id=\"defs1\"\n",
       "    ><clipPath clipPathUnits=\"userSpaceOnUse\" id=\"clipPath1\"\n",
       "      ><path d=\"M0 0 L560 0 L560 420 L0 420 L0 0 Z\"\n",
       "      /></clipPath\n",
       "      ><font horiz-adv-x=\"50.0\" id=\"font1\"\n",
       "      ><font-face ascent=\"95.200005\" descent=\"21.3\" units-per-em=\"100\" style=\"font-style:normal; font-family:Helvetica Neue; font-weight:normal;\"\n",
       "        /><missing-glyph horiz-adv-x=\"50.0\" d=\"M40.9 66.6 L10.2 66.6 L10.2 4.7 L40.9 4.7 ZM46 71.2 L46 0.1 L5.1 0.1 L5.1 71.2 Z\"\n",
       "        /><glyph unicode=\"0\" horiz-adv-x=\"55.6\" d=\"M13.2 34.9 Q13.2 37.5 13.25 40.65 Q13.3 43.8 13.75 46.95 Q14.2 50.1 15.05 53.1 Q15.9 56.1 17.55 58.35 Q19.2 60.6 21.7 62 Q24.2 63.4 27.8 63.4 Q31.4 63.4 33.9 62 Q36.4 60.6 38.05 58.35 Q39.7 56.1 40.55 53.1 Q41.4 50.1 41.85 46.95 Q42.3 43.8 42.35 40.65 Q42.4 37.5 42.4 34.9 Q42.4 30.9 42.15 25.95 Q41.9 21 40.55 16.65 Q39.2 12.3 36.2 9.3 Q33.2 6.3 27.8 6.3 Q22.4 6.3 19.4 9.3 Q16.4 12.3 15.05 16.65 Q13.7 21 13.45 25.95 Q13.2 30.9 13.2 34.9 ZM4.2 34.8 Q4.2 30.9 4.4 26.7 Q4.6 22.5 5.4 18.5 Q6.2 14.5 7.7 10.95 Q9.2 7.4 11.8 4.7 Q14.4 2 18.35 0.45 Q22.3 -1.1 27.8 -1.1 Q33.4 -1.1 37.3 0.45 Q41.2 2 43.8 4.7 Q46.4 7.4 47.9 10.95 Q49.4 14.5 50.2 18.5 Q51 22.5 51.2 26.7 Q51.4 30.9 51.4 34.8 Q51.4 38.7 51.2 42.9 Q51 47.1 50.2 51.1 Q49.4 55.1 47.9 58.7 Q46.4 62.3 43.8 65 Q41.2 67.7 37.25 69.3 Q33.3 70.9 27.8 70.9 Q22.3 70.9 18.35 69.3 Q14.4 67.7 11.8 65 Q9.2 62.3 7.7 58.7 Q6.2 55.1 5.4 51.1 Q4.6 47.1 4.4 42.9 Q4.2 38.7 4.2 34.8 Z\"\n",
       "        /><glyph unicode=\"5\" horiz-adv-x=\"55.6\" d=\"M47 62.2 L47 69.7 L12 69.7 L5.4 32.9 L12.7 32.5 Q15.2 35.5 18.45 37.35 Q21.7 39.2 25.9 39.2 Q29.5 39.2 32.45 38 Q35.4 36.8 37.5 34.65 Q39.6 32.5 40.75 29.55 Q41.9 26.6 41.9 23.1 Q41.9 18.9 40.7 15.75 Q39.5 12.6 37.45 10.5 Q35.4 8.4 32.65 7.35 Q29.9 6.3 26.9 6.3 Q23.7 6.3 21.05 7.25 Q18.4 8.2 16.45 9.95 Q14.5 11.7 13.35 14.05 Q12.2 16.4 12 19.1 L3.5 19.1 Q3.6 14.3 5.4 10.5 Q7.2 6.7 10.3 4.15 Q13.4 1.6 17.45 0.25 Q21.5 -1.1 26.1 -1.1 Q32.3 -1.1 36.95 0.85 Q41.6 2.8 44.7 6.1 Q47.8 9.4 49.35 13.65 Q50.9 17.9 50.9 22.4 Q50.9 28.5 49.1 33.05 Q47.3 37.6 44.2 40.65 Q41.1 43.7 36.9 45.2 Q32.7 46.7 28 46.7 Q24.4 46.7 20.75 45.45 Q17.1 44.2 14.8 41.6 L14.6 41.8 L18.4 62.2 Z\"\n",
       "        /><glyph unicode=\"1\" horiz-adv-x=\"55.6\" d=\"M35.6 0 L35.6 70.9 L29.1 70.9 Q28.4 66.9 26.5 64.3 Q24.6 61.7 21.85 60.2 Q19.1 58.7 15.7 58.15 Q12.3 57.6 8.7 57.6 L8.7 50.8 L27.1 50.8 L27.1 0 Z\"\n",
       "        /><glyph unicode=\"-\" horiz-adv-x=\"38.9\" d=\"M5 31.8 L5 23.8 L33.9 23.8 L33.9 31.8 Z\"\n",
       "        /><glyph unicode=\")\" horiz-adv-x=\"25.9\" d=\"M-0.9 -19.7 L5.5 -19.7 Q13.3 -9.4 17.25 2.55 Q21.2 14.5 21.2 26.3 Q21.2 32.9 20.1 38.9 Q19 44.9 16.95 50.65 Q14.9 56.4 12 61.95 Q9.1 67.5 5.5 73.1 L-0.9 73.1 Q6.1 61.6 9.15 50.25 Q12.2 38.9 12.2 26.3 Q12.2 14.1 9.2 2.85 Q6.2 -8.4 -0.9 -19.7 Z\"\n",
       "        /><glyph unicode=\"B\" horiz-adv-x=\"68.5\" d=\"M17.3 40.7 L17.3 63.4 L36.3 63.4 Q39.4 63.4 42.15 63.05 Q44.9 62.7 47 61.5 Q49.1 60.3 50.3 58.1 Q51.5 55.9 51.5 52.1 Q51.5 46.4 47.95 43.55 Q44.4 40.7 36.3 40.7 ZM7.8 71.4 L7.8 0 L42.3 0 Q47.6 0 51.65 1.75 Q55.7 3.5 58.45 6.35 Q61.2 9.2 62.6 12.9 Q64 16.6 64 20.5 Q64 27.1 60.5 31.7 Q57 36.3 50.4 37.7 L50.4 37.9 Q55.5 39.9 58.25 44.05 Q61 48.2 61 53.9 Q61 59.3 58.55 63 Q56.1 66.7 52.6 68.8 Q51 69.8 48.75 70.3 Q46.5 70.8 43.9 71.05 Q41.3 71.3 38.65 71.35 Q36 71.4 33.7 71.4 ZM17.3 8 L17.3 32.7 L39 32.7 Q42 32.7 44.8 32.15 Q47.6 31.6 49.75 30.25 Q51.9 28.9 53.2 26.6 Q54.5 24.3 54.5 20.8 Q54.5 14.8 50.95 11.4 Q47.4 8 41.1 8 Z\"\n",
       "        /><glyph unicode=\"(\" horiz-adv-x=\"25.9\" d=\"M20.4 -19.7 L26.9 -19.7 Q19.8 -8.2 16.75 3.1 Q13.7 14.4 13.7 27 Q13.7 39.3 16.7 50.5 Q19.7 61.7 26.9 73.1 L20.4 73.1 Q12.6 62.8 8.65 50.8 Q4.7 38.8 4.7 27 Q4.7 20.4 5.8 14.4 Q6.9 8.4 8.95 2.7 Q11 -3 13.9 -8.55 Q16.8 -14.1 20.4 -19.7 Z\"\n",
       "        /><glyph unicode=\" \" horiz-adv-x=\"27.8\" d=\"\"\n",
       "        /><glyph unicode=\"e\" horiz-adv-x=\"53.7\" d=\"M42.3 30.8 L12.6 30.8 Q12.8 33.8 13.9 36.45 Q15 39.1 16.9 41.1 Q18.8 43.1 21.45 44.25 Q24.1 45.4 27.4 45.4 Q30.6 45.4 33.25 44.25 Q35.9 43.1 37.85 41.15 Q39.8 39.2 40.95 36.5 Q42.1 33.8 42.3 30.8 ZM50.5 16.4 L42.1 16.4 Q41 11.3 37.55 8.8 Q34.1 6.3 28.7 6.3 Q24.5 6.3 21.4 7.7 Q18.3 9.1 16.3 11.45 Q14.3 13.8 13.4 16.85 Q12.5 19.9 12.6 23.3 L51.3 23.3 Q51.5 28 50.45 33.2 Q49.4 38.4 46.65 42.8 Q43.9 47.2 39.35 50.05 Q34.8 52.9 27.9 52.9 Q22.6 52.9 18.15 50.9 Q13.7 48.9 10.45 45.3 Q7.2 41.7 5.4 36.8 Q3.6 31.9 3.6 26 Q3.8 20.1 5.35 15.1 Q6.9 10.1 10 6.5 Q13.1 2.9 17.65 0.9 Q22.2 -1.1 28.4 -1.1 Q37.2 -1.1 43 3.3 Q48.8 7.7 50.5 16.4 Z\"\n",
       "        /><glyph unicode=\"d\" horiz-adv-x=\"59.3\" d=\"M12.6 25.4 Q12.6 29.2 13.4 32.8 Q14.2 36.4 16 39.2 Q17.8 42 20.8 43.7 Q23.8 45.4 28.1 45.4 Q32.5 45.4 35.6 43.75 Q38.7 42.1 40.65 39.4 Q42.6 36.7 43.5 33.15 Q44.4 29.6 44.4 25.8 Q44.4 22.2 43.55 18.7 Q42.7 15.2 40.8 12.45 Q38.9 9.7 35.9 8 Q32.9 6.3 28.6 6.3 Q24.5 6.3 21.45 7.9 Q18.4 9.5 16.45 12.2 Q14.5 14.9 13.55 18.35 Q12.6 21.8 12.6 25.4 ZM52.6 0 L52.6 71.4 L44.1 71.4 L44.1 44.8 L43.9 44.8 Q42.5 47.1 40.45 48.65 Q38.4 50.2 36.1 51.15 Q33.8 52.1 31.5 52.5 Q29.2 52.9 27.2 52.9 Q21.3 52.9 16.85 50.75 Q12.4 48.6 9.45 44.95 Q6.5 41.3 5.05 36.4 Q3.6 31.5 3.6 26 Q3.6 20.5 5.1 15.6 Q6.6 10.7 9.55 7 Q12.5 3.3 16.95 1.1 Q21.4 -1.1 27.4 -1.1 Q32.8 -1.1 37.3 0.8 Q41.8 2.7 43.9 7 L44.1 7 L44.1 0 Z\"\n",
       "        /><glyph unicode=\"u\" horiz-adv-x=\"55.6\" d=\"M49.2 0 L49.2 51.7 L40.7 51.7 L40.7 22.5 Q40.7 19 39.75 16.05 Q38.8 13.1 36.9 10.9 Q35 8.7 32.15 7.5 Q29.3 6.3 25.4 6.3 Q20.5 6.3 17.7 9.1 Q14.9 11.9 14.9 16.7 L14.9 51.7 L6.4 51.7 L6.4 17.7 Q6.4 13.5 7.25 10.05 Q8.1 6.6 10.2 4.1 Q12.3 1.6 15.7 0.25 Q19.1 -1.1 24.2 -1.1 Q29.9 -1.1 34.1 1.15 Q38.3 3.4 41 8.2 L41.2 8.2 L41.2 0 Z\"\n",
       "        /><glyph unicode=\"t\" horiz-adv-x=\"31.5\" d=\"M18.2 51.7 L18.2 67.2 L9.7 67.2 L9.7 51.7 L0.9 51.7 L0.9 44.2 L9.7 44.2 L9.7 11.3 Q9.7 7.7 10.4 5.5 Q11.1 3.3 12.55 2.1 Q14 0.9 16.35 0.45 Q18.7 0 22 0 L28.5 0 L28.5 7.5 L24.6 7.5 Q22.6 7.5 21.35 7.65 Q20.1 7.8 19.4 8.3 Q18.7 8.8 18.45 9.7 Q18.2 10.6 18.2 12.1 L18.2 44.2 L28.5 44.2 L28.5 51.7 Z\"\n",
       "        /><glyph unicode=\"i\" horiz-adv-x=\"22.2\" d=\"M15.4 61 L15.4 71.4 L6.9 71.4 L6.9 61 ZM6.9 51.7 L6.9 0 L15.4 0 L15.4 51.7 Z\"\n",
       "        /><glyph unicode=\"n\" horiz-adv-x=\"55.6\" d=\"M6.4 51.7 L6.4 0 L14.9 0 L14.9 29.2 Q14.9 32.7 15.85 35.65 Q16.8 38.6 18.7 40.8 Q20.6 43 23.45 44.2 Q26.3 45.4 30.2 45.4 Q35.1 45.4 37.9 42.6 Q40.7 39.8 40.7 35 L40.7 0 L49.2 0 L49.2 34 Q49.2 38.2 48.35 41.65 Q47.5 45.1 45.4 47.6 Q43.3 50.1 39.9 51.5 Q36.5 52.9 31.4 52.9 Q19.9 52.9 14.6 43.5 L14.4 43.5 L14.4 51.7 Z\"\n",
       "        /><glyph unicode=\"g\" horiz-adv-x=\"57.4\" d=\"M51 4.4 L51 51.7 L43 51.7 L43 44.3 L42.9 44.3 Q40.6 48.6 36.5 50.75 Q32.4 52.9 27.5 52.9 Q20.8 52.9 16.2 50.35 Q11.6 47.8 8.8 43.85 Q6 39.9 4.8 35.05 Q3.6 30.2 3.6 25.6 Q3.6 20.3 5.05 15.55 Q6.5 10.8 9.4 7.25 Q12.3 3.7 16.6 1.6 Q20.9 -0.5 26.7 -0.5 Q31.7 -0.5 36.15 1.75 Q40.6 4 42.8 8.8 L43 8.8 L43 5.4 Q43 1.1 42.15 -2.5 Q41.3 -6.1 39.4 -8.65 Q37.5 -11.2 34.6 -12.65 Q31.7 -14.1 27.5 -14.1 Q25.4 -14.1 23.1 -13.65 Q20.8 -13.2 18.85 -12.2 Q16.9 -11.2 15.55 -9.6 Q14.2 -8 14.1 -5.7 L5.6 -5.7 Q5.8 -9.9 7.8 -12.8 Q9.8 -15.7 12.85 -17.5 Q15.9 -19.3 19.65 -20.1 Q23.4 -20.9 27 -20.9 Q39.4 -20.9 45.2 -14.6 Q51 -8.3 51 4.4 ZM27.2 6.9 Q23 6.9 20.2 8.65 Q17.4 10.4 15.7 13.25 Q14 16.1 13.3 19.6 Q12.6 23.1 12.6 26.6 Q12.6 30.3 13.45 33.7 Q14.3 37.1 16.15 39.7 Q18 42.3 20.9 43.85 Q23.8 45.4 27.9 45.4 Q31.9 45.4 34.7 43.8 Q37.5 42.2 39.25 39.55 Q41 36.9 41.8 33.6 Q42.6 30.3 42.6 26.9 Q42.6 23.3 41.75 19.7 Q40.9 16.1 39.1 13.25 Q37.3 10.4 34.35 8.65 Q31.4 6.9 27.2 6.9 Z\"\n",
       "        /><glyph unicode=\"a\" horiz-adv-x=\"53.7\" d=\"M52.2 0.2 Q50 -1.1 46.1 -1.1 Q42.8 -1.1 40.85 0.75 Q38.9 2.6 38.9 6.8 Q35.4 2.6 30.75 0.75 Q26.1 -1.1 20.7 -1.1 Q17.2 -1.1 14.05 -0.3 Q10.9 0.5 8.6 2.2 Q6.3 3.9 4.95 6.65 Q3.6 9.4 3.6 13.3 Q3.6 17.7 5.1 20.5 Q6.6 23.3 9.05 25.05 Q11.5 26.8 14.65 27.7 Q17.8 28.6 21.1 29.2 Q24.6 29.9 27.75 30.25 Q30.9 30.6 33.3 31.25 Q35.7 31.9 37.1 33.15 Q38.5 34.4 38.5 36.8 Q38.5 39.6 37.45 41.3 Q36.4 43 34.75 43.9 Q33.1 44.8 31.05 45.1 Q29 45.4 27 45.4 Q21.6 45.4 18 43.35 Q14.4 41.3 14.1 35.6 L5.6 35.6 Q5.8 40.4 7.6 43.7 Q9.4 47 12.4 49.05 Q15.4 51.1 19.25 52 Q23.1 52.9 27.5 52.9 Q31 52.9 34.45 52.4 Q37.9 51.9 40.7 50.35 Q43.5 48.8 45.2 46 Q46.9 43.2 46.9 38.7 L46.9 12.1 Q46.9 9.1 47.25 7.7 Q47.6 6.3 49.6 6.3 Q50.7 6.3 52.2 6.8 ZM38.4 26.7 Q36.8 25.5 34.2 24.95 Q31.6 24.4 28.75 24.05 Q25.9 23.7 23 23.25 Q20.1 22.8 17.8 21.8 Q15.5 20.8 14.05 18.95 Q12.6 17.1 12.6 13.9 Q12.6 11.8 13.45 10.35 Q14.3 8.9 15.65 8 Q17 7.1 18.8 6.7 Q20.6 6.3 22.6 6.3 Q26.8 6.3 29.8 7.45 Q32.8 8.6 34.7 10.35 Q36.6 12.1 37.5 14.15 Q38.4 16.2 38.4 18 Z\"\n",
       "        /><glyph unicode=\"M\" horiz-adv-x=\"87.1\" d=\"M8 71.4 L8 0 L17 0 L17 59.4 L17.2 59.4 L39.5 0 L47.6 0 L69.9 59.4 L70.1 59.4 L70.1 0 L79.1 0 L79.1 71.4 L66.1 71.4 L43.5 11.4 L21 71.4 Z\"\n",
       "        /><glyph unicode=\"6\" horiz-adv-x=\"55.6\" d=\"M41.4 52.8 L49.9 52.8 Q49.1 61.6 43.9 66.25 Q38.7 70.9 29.9 70.9 Q22.3 70.9 17.3 67.7 Q12.3 64.5 9.3 59.2 Q6.3 53.9 5.05 47.05 Q3.8 40.2 3.8 32.9 Q3.8 27.3 4.65 21.3 Q5.5 15.3 8.1 10.3 Q10.7 5.3 15.5 2.1 Q20.3 -1.1 28.2 -1.1 Q34.9 -1.1 39.45 1.15 Q44 3.4 46.75 6.85 Q49.5 10.3 50.7 14.5 Q51.9 18.7 51.9 22.6 Q51.9 27.5 50.4 31.7 Q48.9 35.9 46.15 39 Q43.4 42.1 39.35 43.85 Q35.3 45.6 30.2 45.6 Q24.4 45.6 19.95 43.4 Q15.5 41.2 12.5 36.3 L12.3 36.5 Q12.4 40.6 13.1 45.3 Q13.8 50 15.65 54.05 Q17.5 58.1 20.8 60.75 Q24.1 63.4 29.5 63.4 Q34.6 63.4 37.7 60.5 Q40.8 57.6 41.4 52.8 ZM28.6 38.1 Q32.2 38.1 34.9 36.8 Q37.6 35.5 39.4 33.35 Q41.2 31.2 42.05 28.25 Q42.9 25.3 42.9 22 Q42.9 18.9 41.95 16.05 Q41 13.2 39.2 11 Q37.4 8.8 34.75 7.55 Q32.1 6.3 28.6 6.3 Q25.1 6.3 22.35 7.55 Q19.6 8.8 17.75 10.9 Q15.9 13 14.9 15.9 Q13.9 18.8 13.9 22.1 Q13.9 25.4 14.85 28.35 Q15.8 31.3 17.7 33.45 Q19.6 35.6 22.3 36.85 Q25 38.1 28.6 38.1 Z\"\n",
       "        /><glyph unicode=\"7\" horiz-adv-x=\"55.6\" d=\"M50.9 62.4 L50.9 69.7 L5 69.7 L5 61.7 L42.2 61.7 Q36.6 55.8 31.75 48.8 Q26.9 41.8 23.2 33.95 Q19.5 26.1 17.15 17.55 Q14.8 9 14.2 0 L23.7 0 Q24.2 8.3 26.5 17.1 Q28.8 25.9 32.45 34.2 Q36.1 42.5 40.8 49.8 Q45.5 57.1 50.9 62.4 Z\"\n",
       "        /><glyph unicode=\"8\" horiz-adv-x=\"55.6\" d=\"M15.5 52.5 Q15.5 55.2 16.5 57.2 Q17.5 59.2 19.15 60.6 Q20.8 62 23.1 62.7 Q25.4 63.4 27.9 63.4 Q33.1 63.4 36.45 60.65 Q39.8 57.9 39.8 52.5 Q39.8 47.1 36.5 44.1 Q33.2 41.1 28.1 41.1 Q25.5 41.1 23.2 41.8 Q20.9 42.5 19.2 43.9 Q17.5 45.3 16.5 47.45 Q15.5 49.6 15.5 52.5 ZM6.5 52.8 Q6.5 48 9.2 43.95 Q11.9 39.9 16.4 38.1 Q10.4 36 7.2 31.35 Q4 26.7 4 20.4 Q4 15 5.85 10.95 Q7.7 6.9 10.95 4.2 Q14.2 1.5 18.6 0.2 Q23 -1.1 28.1 -1.1 Q33 -1.1 37.3 0.3 Q41.6 1.7 44.75 4.45 Q47.9 7.2 49.75 11.2 Q51.6 15.2 51.6 20.4 Q51.6 27 48.5 31.55 Q45.4 36.1 39 38.1 Q43.5 40.1 46.15 44.05 Q48.8 48 48.8 52.8 Q48.8 56.2 47.6 59.45 Q46.4 62.7 43.85 65.25 Q41.3 67.8 37.2 69.35 Q33.1 70.9 27.3 70.9 Q23.2 70.9 19.45 69.7 Q15.7 68.5 12.8 66.2 Q9.9 63.9 8.2 60.55 Q6.5 57.2 6.5 52.8 ZM13 20 Q13 23.1 14.15 25.6 Q15.3 28.1 17.35 29.9 Q19.4 31.7 22.15 32.65 Q24.9 33.6 28 33.6 Q31 33.6 33.65 32.55 Q36.3 31.5 38.3 29.7 Q40.3 27.9 41.45 25.45 Q42.6 23 42.6 20.1 Q42.6 17.1 41.55 14.6 Q40.5 12.1 38.55 10.25 Q36.6 8.4 33.95 7.35 Q31.3 6.3 28.1 6.3 Q21.5 6.3 17.25 9.95 Q13 13.6 13 20 Z\"\n",
       "        /><glyph unicode=\"9\" horiz-adv-x=\"55.6\" d=\"M13.4 17.1 L4.9 17.1 Q5.7 7.9 11.6 3.4 Q17.5 -1.1 26.4 -1.1 Q39.3 -1.1 45.15 8.75 Q51 18.6 51 37 Q51 47.1 49.05 53.65 Q47.1 60.2 43.8 64 Q40.5 67.8 36.1 69.35 Q31.7 70.9 26.7 70.9 Q21.6 70.9 17.3 69.2 Q13 67.5 9.9 64.45 Q6.8 61.4 5.1 57.15 Q3.4 52.9 3.4 47.8 Q3.4 42.6 4.85 38.2 Q6.3 33.8 9.15 30.7 Q12 27.6 16.2 25.85 Q20.4 24.1 25.8 24.1 Q31 24.1 35.4 26.75 Q39.8 29.4 42.2 33.9 L42.4 33.7 Q42 19.8 38.1 13.05 Q34.2 6.3 26.4 6.3 Q21.3 6.3 17.6 9.1 Q13.9 11.9 13.4 17.1 ZM40.9 47.2 Q40.9 44.1 39.9 41.25 Q38.9 38.4 37 36.25 Q35.1 34.1 32.4 32.85 Q29.7 31.6 26.4 31.6 Q23.3 31.6 20.75 32.85 Q18.2 34.1 16.35 36.2 Q14.5 38.3 13.45 41 Q12.4 43.7 12.4 46.6 Q12.4 49.9 13.15 52.9 Q13.9 55.9 15.55 58.25 Q17.2 60.6 19.85 62 Q22.5 63.4 26.3 63.4 Q29.9 63.4 32.6 62.1 Q35.3 60.8 37.15 58.55 Q39 56.3 39.95 53.4 Q40.9 50.5 40.9 47.2 Z\"\n",
       "        /><glyph unicode=\"3\" horiz-adv-x=\"55.6\" d=\"M21.8 40.5 L21.8 33.3 Q24.2 33.6 26.9 33.6 Q30.1 33.6 32.85 32.75 Q35.6 31.9 37.6 30.15 Q39.6 28.4 40.8 25.85 Q42 23.3 42 20 Q42 16.8 40.75 14.25 Q39.5 11.7 37.4 9.95 Q35.3 8.2 32.5 7.25 Q29.7 6.3 26.6 6.3 Q19.3 6.3 15.5 10.65 Q11.7 15 11.5 21.9 L3 21.9 Q2.9 16.4 4.55 12.1 Q6.2 7.8 9.3 4.85 Q12.4 1.9 16.8 0.4 Q21.2 -1.1 26.6 -1.1 Q31.6 -1.1 36.05 0.25 Q40.5 1.6 43.8 4.3 Q47.1 7 49.05 11.05 Q51 15.1 51 20.4 Q51 26.8 47.85 31.5 Q44.7 36.2 38.2 37.6 L38.2 37.8 Q42.4 39.7 45.2 43.4 Q48 47.1 48 51.9 Q48 56.8 46.35 60.4 Q44.7 64 41.8 66.3 Q38.9 68.6 34.95 69.75 Q31 70.9 26.4 70.9 Q21.1 70.9 17.05 69.2 Q13 67.5 10.3 64.5 Q7.6 61.5 6.15 57.3 Q4.7 53.1 4.5 48 L13 48 Q13 51.1 13.8 53.9 Q14.6 56.7 16.25 58.8 Q17.9 60.9 20.45 62.15 Q23 63.4 26.4 63.4 Q31.8 63.4 35.4 60.55 Q39 57.7 39 52 Q39 49.2 37.9 47 Q36.8 44.8 34.95 43.35 Q33.1 41.9 30.65 41.15 Q28.2 40.4 25.5 40.4 L23.7 40.4 Q23.2 40.4 22.7 40.4 Q22.3 40.4 21.8 40.5 Z\"\n",
       "        /><glyph unicode=\"4\" horiz-adv-x=\"55.6\" d=\"M33.9 24.1 L10.1 24.1 L33.7 58.8 L33.9 58.8 ZM41.9 24.1 L41.9 70.9 L35.1 70.9 L2.8 24.8 L2.8 16.6 L33.9 16.6 L33.9 0 L41.9 0 L41.9 16.6 L51.5 16.6 L51.5 24.1 Z\"\n",
       "        /><glyph unicode=\"s\" horiz-adv-x=\"50.0\" d=\"M11.6 16.3 L3.1 16.3 Q3.3 11.5 5.1 8.15 Q6.9 4.8 9.9 2.75 Q12.9 0.7 16.8 -0.2 Q20.7 -1.1 25 -1.1 Q28.9 -1.1 32.85 -0.35 Q36.8 0.4 39.95 2.3 Q43.1 4.2 45.05 7.3 Q47 10.4 47 15.1 Q47 18.8 45.55 21.3 Q44.1 23.8 41.75 25.45 Q39.4 27.1 36.35 28.1 Q33.3 29.1 30.1 29.8 Q27.1 30.5 24.1 31.15 Q21.1 31.8 18.7 32.75 Q16.3 33.7 14.75 35.15 Q13.2 36.6 13.2 38.8 Q13.2 40.8 14.2 42.05 Q15.2 43.3 16.8 44.05 Q18.4 44.8 20.35 45.1 Q22.3 45.4 24.2 45.4 Q26.3 45.4 28.35 44.95 Q30.4 44.5 32.1 43.5 Q33.8 42.5 34.9 40.85 Q36 39.2 36.2 36.7 L44.7 36.7 Q44.4 41.4 42.7 44.55 Q41 47.7 38.15 49.55 Q35.3 51.4 31.6 52.15 Q27.9 52.9 23.5 52.9 Q20.1 52.9 16.65 52.05 Q13.2 51.2 10.45 49.45 Q7.7 47.7 5.95 44.9 Q4.2 42.1 4.2 38.2 Q4.2 33.2 6.7 30.4 Q9.2 27.6 12.95 26.05 Q16.7 24.5 21.1 23.65 Q25.5 22.8 29.25 21.75 Q33 20.7 35.5 19 Q38 17.3 38 14 Q38 11.6 36.8 10.05 Q35.6 8.5 33.75 7.7 Q31.9 6.9 29.7 6.6 Q27.5 6.3 25.5 6.3 Q22.9 6.3 20.45 6.8 Q18 7.3 16.05 8.45 Q14.1 9.6 12.9 11.55 Q11.7 13.5 11.6 16.3 Z\"\n",
       "        /><glyph unicode=\"h\" horiz-adv-x=\"55.6\" d=\"M6.4 71.4 L6.4 0 L14.9 0 L14.9 29.2 Q14.9 32.7 15.85 35.65 Q16.8 38.6 18.7 40.8 Q20.6 43 23.45 44.2 Q26.3 45.4 30.2 45.4 Q35.1 45.4 37.9 42.6 Q40.7 39.8 40.7 35 L40.7 0 L49.2 0 L49.2 34 Q49.2 38.2 48.35 41.65 Q47.5 45.1 45.4 47.6 Q43.3 50.1 39.9 51.5 Q36.5 52.9 31.4 52.9 Q29.1 52.9 26.65 52.4 Q24.2 51.9 21.95 50.85 Q19.7 49.8 17.9 48.15 Q16.1 46.5 15.1 44.1 L14.9 44.1 L14.9 71.4 Z\"\n",
       "        /><glyph unicode=\"P\" horiz-adv-x=\"64.8\" d=\"M17.3 37.2 L17.3 63.4 L35.9 63.4 Q44 63.4 47.75 60.05 Q51.5 56.7 51.5 50.3 Q51.5 43.9 47.75 40.5 Q44 37.1 35.9 37.2 ZM7.8 71.4 L7.8 0 L17.3 0 L17.3 29.2 L39.1 29.2 Q49.9 29.1 55.45 34.7 Q61 40.3 61 50.3 Q61 60.3 55.45 65.85 Q49.9 71.4 39.1 71.4 Z\"\n",
       "        /><glyph unicode=\"/\" horiz-adv-x=\"33.3\" d=\"M27.8 73.1 L-1.7 -1.6 L5.5 -1.6 L35.1 73.1 Z\"\n",
       "        /><glyph unicode=\"y\" horiz-adv-x=\"50.0\" d=\"M26.7 -6.9 Q25.2 -10.7 23.75 -13.3 Q22.3 -15.9 20.55 -17.55 Q18.8 -19.2 16.65 -19.95 Q14.5 -20.7 11.7 -20.7 Q10.2 -20.7 8.7 -20.5 Q7.2 -20.3 5.8 -19.8 L5.8 -12 Q6.9 -12.5 8.35 -12.85 Q9.8 -13.2 10.8 -13.2 Q13.4 -13.2 15.15 -11.95 Q16.9 -10.7 17.8 -8.4 L21.3 0.3 L0.8 51.7 L10.4 51.7 L25.5 9.4 L25.7 9.4 L40.2 51.7 L49.2 51.7 Z\"\n",
       "        /><glyph unicode=\"c\" horiz-adv-x=\"53.7\" d=\"M41.5 35.1 L50.3 35.1 Q49.8 39.7 47.9 43.05 Q46 46.4 43.05 48.6 Q40.1 50.8 36.25 51.85 Q32.4 52.9 28 52.9 Q21.9 52.9 17.3 50.75 Q12.7 48.6 9.65 44.85 Q6.6 41.1 5.1 36.05 Q3.6 31 3.6 25.2 Q3.6 19.4 5.15 14.55 Q6.7 9.7 9.75 6.2 Q12.8 2.7 17.35 0.8 Q21.9 -1.1 27.8 -1.1 Q37.7 -1.1 43.45 4.1 Q49.2 9.3 50.6 18.9 L41.9 18.9 Q41.1 12.9 37.55 9.6 Q34 6.3 27.7 6.3 Q23.7 6.3 20.8 7.9 Q17.9 9.5 16.1 12.15 Q14.3 14.8 13.45 18.2 Q12.6 21.6 12.6 25.2 Q12.6 29.1 13.4 32.75 Q14.2 36.4 16.05 39.2 Q17.9 42 21 43.7 Q24.1 45.4 28.7 45.4 Q34.1 45.4 37.3 42.7 Q40.5 40 41.5 35.1 Z\"\n",
       "        /><glyph unicode=\"q\" horiz-adv-x=\"59.3\" d=\"M12.6 25.4 Q12.6 29.2 13.4 32.8 Q14.2 36.4 16 39.2 Q17.8 42 20.8 43.7 Q23.8 45.4 28.1 45.4 Q32.5 45.4 35.6 43.75 Q38.7 42.1 40.65 39.4 Q42.6 36.7 43.5 33.15 Q44.4 29.6 44.4 25.8 Q44.4 22.2 43.55 18.7 Q42.7 15.2 40.8 12.45 Q38.9 9.7 35.9 8 Q32.9 6.3 28.6 6.3 Q24.5 6.3 21.45 7.9 Q18.4 9.5 16.45 12.2 Q14.5 14.9 13.55 18.35 Q12.6 21.8 12.6 25.4 ZM52.6 -19.7 L52.6 51.7 L44.1 51.7 L44.1 44.8 L43.9 44.8 Q42.5 47.1 40.45 48.65 Q38.4 50.2 36.1 51.15 Q33.8 52.1 31.5 52.5 Q29.2 52.9 27.2 52.9 Q21.3 52.9 16.85 50.75 Q12.4 48.6 9.45 44.95 Q6.5 41.3 5.05 36.4 Q3.6 31.5 3.6 26 Q3.6 20.5 5.1 15.6 Q6.6 10.7 9.55 7 Q12.5 3.3 16.95 1.1 Q21.4 -1.1 27.4 -1.1 Q32.8 -1.1 37.3 0.8 Q41.8 2.7 43.9 7 L44.1 7 L44.1 -19.7 Z\"\n",
       "        /><glyph unicode=\"r\" horiz-adv-x=\"33.3\" d=\"M6.1 51.7 L6.1 0 L14.6 0 L14.6 23 Q14.6 28 15.6 31.85 Q16.6 35.7 18.8 38.4 Q21 41.1 24.6 42.5 Q28.2 43.9 33.3 43.9 L33.3 52.9 Q26.4 53.1 21.9 50.1 Q17.4 47.1 14.3 40.8 L14.1 40.8 L14.1 51.7 Z\"\n",
       "        /><glyph unicode=\"F\" horiz-adv-x=\"57.4\" d=\"M7.8 71.4 L7.8 0 L17.3 0 L17.3 32.7 L50.1 32.7 L50.1 40.7 L17.3 40.7 L17.3 63.4 L54.7 63.4 L54.7 71.4 Z\"\n",
       "      /></font\n",
       "      ><font horiz-adv-x=\"50.0\" id=\"font2\"\n",
       "      ><font-face ascent=\"97.5\" descent=\"21.699999\" units-per-em=\"100\" style=\"font-style:normal; font-family:Helvetica Neue; font-weight:bold;\"\n",
       "        /><missing-glyph horiz-adv-x=\"50.0\" d=\"M39.1 60.7 L11.1 60.7 L11.1 9.5 L39.1 9.5 ZM48.2 69.8 L48.2 0.3 L1.7 0.3 L1.7 69.8 Z\"\n",
       "        /><glyph unicode=\"m\" horiz-adv-x=\"90.6\" d=\"M5.8 51.7 L5.8 0 L20 0 L20 30 Q20 33.8 21.1 36.15 Q22.2 38.5 23.75 39.75 Q25.3 41 26.95 41.45 Q28.6 41.9 29.6 41.9 Q33 41.9 34.75 40.75 Q36.5 39.6 37.25 37.7 Q38 35.8 38.1 33.55 Q38.2 31.3 38.2 29 L38.2 0 L52.4 0 L52.4 28.8 Q52.4 31.2 52.75 33.55 Q53.1 35.9 54.15 37.75 Q55.2 39.6 57.05 40.75 Q58.9 41.9 61.9 41.9 Q64.9 41.9 66.65 40.9 Q68.4 39.9 69.3 38.2 Q70.2 36.5 70.4 34.2 Q70.6 31.9 70.6 29.3 L70.6 0 L84.8 0 L84.8 34.6 Q84.8 39.6 83.4 43.15 Q82 46.7 79.5 48.9 Q77 51.1 73.5 52.1 Q70 53.1 65.9 53.1 Q60.5 53.1 56.55 50.5 Q52.6 47.9 50.3 44.5 Q48.2 49.3 44.15 51.2 Q40.1 53.1 35.2 53.1 Q30.1 53.1 26.15 50.9 Q22.2 48.7 19.4 44.7 L19.2 44.7 L19.2 51.7 Z\"\n",
       "        /><glyph unicode=\"r\" horiz-adv-x=\"38.9\" d=\"M5.4 51.7 L5.4 0 L19.6 0 L19.6 23.3 Q19.6 26.8 20.3 29.8 Q21 32.8 22.65 35.05 Q24.3 37.3 27 38.6 Q29.7 39.9 33.6 39.9 Q34.9 39.9 36.3 39.75 Q37.7 39.6 38.7 39.4 L38.7 52.6 Q37 53.1 35.6 53.1 Q32.9 53.1 30.4 52.3 Q27.9 51.5 25.7 50.05 Q23.5 48.6 21.8 46.55 Q20.1 44.5 19.1 42.1 L18.9 42.1 L18.9 51.7 Z\"\n",
       "        /><glyph unicode=\"g\" horiz-adv-x=\"61.1\" d=\"M29.5 12.2 Q26.2 12.2 24 13.6 Q21.8 15 20.45 17.2 Q19.1 19.4 18.55 22.15 Q18 24.9 18 27.7 Q18 30.6 18.65 33.25 Q19.3 35.9 20.75 37.95 Q22.2 40 24.35 41.2 Q26.5 42.4 29.5 42.4 Q33 42.4 35.3 41.1 Q37.6 39.8 39 37.6 Q40.4 35.4 41 32.55 Q41.6 29.7 41.6 26.5 Q41.6 23.7 40.85 21.15 Q40.1 18.6 38.6 16.6 Q37.1 14.6 34.8 13.4 Q32.5 12.2 29.5 12.2 ZM55.1 3.3 L55.1 51.7 L41.6 51.7 L41.6 44.8 L41.4 44.8 Q38.8 49.3 34.95 51.2 Q31.1 53.1 26 53.1 Q20.6 53.1 16.45 51 Q12.3 48.9 9.5 45.35 Q6.7 41.8 5.25 37.15 Q3.8 32.5 3.8 27.5 Q3.8 22.2 5.05 17.45 Q6.3 12.7 9 9.15 Q11.7 5.6 15.9 3.55 Q20.1 1.5 25.9 1.5 Q30.6 1.5 34.85 3.45 Q39.1 5.4 41.4 9.5 L41.6 9.5 L41.6 2.7 Q41.7 -2.8 38.95 -6.4 Q36.2 -10 30.2 -10 Q26.4 -10 23.5 -8.45 Q20.6 -6.9 19.6 -2.9 L5.5 -2.9 Q5.8 -7.3 7.95 -10.45 Q10.1 -13.6 13.35 -15.6 Q16.6 -17.6 20.55 -18.55 Q24.5 -19.5 28.3 -19.5 Q37.2 -19.5 42.5 -17.1 Q47.8 -14.7 50.6 -11.25 Q53.4 -7.8 54.25 -3.8 Q55.1 0.2 55.1 3.3 Z\"\n",
       "        /><glyph unicode=\"a\" horiz-adv-x=\"57.4\" d=\"M4.8 35.8 Q5.1 40.8 7.3 44.1 Q9.5 47.4 12.9 49.4 Q16.3 51.4 20.55 52.25 Q24.8 53.1 29.1 53.1 Q33 53.1 37 52.55 Q41 52 44.3 50.4 Q47.6 48.8 49.7 45.95 Q51.8 43.1 51.8 38.4 L51.8 11.5 Q51.8 8 52.2 4.8 Q52.6 1.6 53.6 0 L39.2 0 Q38.8 1.2 38.55 2.45 Q38.3 3.7 38.2 5 Q34.8 1.5 30.2 0.1 Q25.6 -1.3 20.8 -1.3 Q17.1 -1.3 13.9 -0.4 Q10.7 0.5 8.3 2.4 Q5.9 4.3 4.55 7.2 Q3.2 10.1 3.2 14.1 Q3.2 18.5 4.75 21.35 Q6.3 24.2 8.75 25.9 Q11.2 27.6 14.35 28.45 Q17.5 29.3 20.7 29.8 Q23.9 30.3 27 30.6 Q30.1 30.9 32.5 31.5 Q34.9 32.1 36.3 33.25 Q37.7 34.4 37.6 36.6 Q37.6 38.9 36.85 40.25 Q36.1 41.6 34.85 42.35 Q33.6 43.1 31.95 43.35 Q30.3 43.6 28.4 43.6 Q24.2 43.6 21.8 41.8 Q19.4 40 19 35.8 ZM37.6 25.3 Q36.7 24.5 35.35 24.05 Q34 23.6 32.45 23.3 Q30.9 23 29.2 22.8 Q27.5 22.6 25.8 22.3 Q24.2 22 22.65 21.5 Q21.1 21 19.95 20.15 Q18.8 19.3 18.1 18 Q17.4 16.7 17.4 14.7 Q17.4 12.8 18.1 11.5 Q18.8 10.2 20 9.45 Q21.2 8.7 22.8 8.4 Q24.4 8.1 26.1 8.1 Q30.3 8.1 32.6 9.5 Q34.9 10.9 36 12.85 Q37.1 14.8 37.35 16.8 Q37.6 18.8 37.6 20 Z\"\n",
       "        /><glyph unicode=\"i\" horiz-adv-x=\"25.8\" d=\"M20 59.7 L20 71.4 L5.8 71.4 L5.8 59.7 ZM5.8 51.7 L5.8 0 L20 0 L20 51.7 Z\"\n",
       "        /><glyph unicode=\"D\" horiz-adv-x=\"74.1\" d=\"M22.6 13.2 L22.6 58.2 L33.8 58.2 Q39.6 58.2 43.55 56.55 Q47.5 54.9 49.9 51.8 Q52.3 48.7 53.35 44.35 Q54.4 40 54.4 34.6 Q54.4 28.7 52.9 24.6 Q51.4 20.5 48.9 17.95 Q46.4 15.4 43.2 14.3 Q40 13.2 36.6 13.2 ZM6.9 71.4 L6.9 0 L37.7 0 Q45.9 0 51.95 2.75 Q58 5.5 62.05 10.3 Q66.1 15.1 68.1 21.7 Q70.1 28.3 70.1 36.1 Q70.1 45 67.65 51.6 Q65.2 58.2 60.85 62.6 Q56.5 67 50.55 69.2 Q44.6 71.4 37.7 71.4 Z\"\n",
       "        /><glyph unicode=\" \" horiz-adv-x=\"27.8\" d=\"\"\n",
       "        /><glyph unicode=\"e\" horiz-adv-x=\"57.4\" d=\"M40.2 31.4 L17.1 31.4 Q17.2 32.9 17.75 34.8 Q18.3 36.7 19.65 38.4 Q21 40.1 23.25 41.25 Q25.5 42.4 28.9 42.4 Q34.1 42.4 36.65 39.6 Q39.2 36.8 40.2 31.4 ZM17.1 22.4 L54.4 22.4 Q54.8 28.4 53.4 33.9 Q52 39.4 48.85 43.7 Q45.7 48 40.8 50.55 Q35.9 53.1 29.3 53.1 Q23.4 53.1 18.55 51 Q13.7 48.9 10.2 45.25 Q6.7 41.6 4.8 36.6 Q2.9 31.6 2.9 25.8 Q2.9 19.8 4.75 14.8 Q6.6 9.8 10 6.2 Q13.4 2.6 18.3 0.65 Q23.2 -1.3 29.3 -1.3 Q38.1 -1.3 44.3 2.7 Q50.5 6.7 53.5 16 L41 16 Q40.3 13.6 37.2 11.45 Q34.1 9.3 29.8 9.3 Q23.8 9.3 20.6 12.4 Q17.4 15.5 17.1 22.4 Z\"\n",
       "        /><glyph unicode=\"d\" horiz-adv-x=\"61.1\" d=\"M42.1 26 Q42.1 22.8 41.5 19.8 Q40.9 16.8 39.5 14.45 Q38.1 12.1 35.75 10.7 Q33.4 9.3 29.9 9.3 Q26.6 9.3 24.25 10.75 Q21.9 12.2 20.35 14.55 Q18.8 16.9 18.1 19.9 Q17.4 22.9 17.4 25.9 Q17.4 29.1 18.05 32.05 Q18.7 35 20.15 37.3 Q21.6 39.6 24 41 Q26.4 42.4 29.9 42.4 Q33.4 42.4 35.7 41 Q38 39.6 39.45 37.35 Q40.9 35.1 41.5 32.15 Q42.1 29.2 42.1 26 ZM42.3 6.6 L42.3 0 L55.8 0 L55.8 71.4 L41.6 71.4 L41.6 45.4 L41.4 45.4 Q39 49.2 34.85 51.15 Q30.7 53.1 26.1 53.1 Q20.4 53.1 16.1 50.85 Q11.8 48.6 8.95 44.9 Q6.1 41.2 4.65 36.35 Q3.2 31.5 3.2 26.3 Q3.2 20.9 4.65 15.9 Q6.1 10.9 8.95 7.05 Q11.8 3.2 16.2 0.95 Q20.6 -1.3 26.4 -1.3 Q31.5 -1.3 35.55 0.55 Q39.6 2.4 42.1 6.6 Z\"\n",
       "        /><glyph unicode=\"o\" horiz-adv-x=\"61.1\" d=\"M18 25.8 Q18 28.9 18.6 31.9 Q19.2 34.9 20.65 37.2 Q22.1 39.5 24.5 40.95 Q26.9 42.4 30.5 42.4 Q34.1 42.4 36.55 40.95 Q39 39.5 40.45 37.2 Q41.9 34.9 42.5 31.9 Q43.1 28.9 43.1 25.8 Q43.1 22.7 42.5 19.75 Q41.9 16.8 40.45 14.45 Q39 12.1 36.55 10.7 Q34.1 9.3 30.5 9.3 Q26.9 9.3 24.5 10.7 Q22.1 12.1 20.65 14.45 Q19.2 16.8 18.6 19.75 Q18 22.7 18 25.8 ZM3.8 25.8 Q3.8 19.6 5.7 14.6 Q7.6 9.6 11.1 6.05 Q14.6 2.5 19.5 0.6 Q24.4 -1.3 30.5 -1.3 Q36.6 -1.3 41.55 0.6 Q46.5 2.5 50 6.05 Q53.5 9.6 55.4 14.6 Q57.3 19.6 57.3 25.8 Q57.3 32 55.4 37.05 Q53.5 42.1 50 45.65 Q46.5 49.2 41.55 51.15 Q36.6 53.1 30.5 53.1 Q24.4 53.1 19.5 51.15 Q14.6 49.2 11.1 45.65 Q7.6 42.1 5.7 37.05 Q3.8 32 3.8 25.8 Z\"\n",
       "        /><glyph unicode=\"B\" horiz-adv-x=\"70.4\" d=\"M22.6 42.5 L22.6 59.2 L37.3 59.2 Q39.4 59.2 41.35 58.85 Q43.3 58.5 44.8 57.6 Q46.3 56.7 47.2 55.1 Q48.1 53.5 48.1 51 Q48.1 46.5 45.4 44.5 Q42.7 42.5 38.5 42.5 ZM6.9 71.4 L6.9 0 L41.5 0 Q46.3 0 50.85 1.2 Q55.4 2.4 58.95 4.9 Q62.5 7.4 64.6 11.35 Q66.7 15.3 66.7 20.7 Q66.7 27.4 63.45 32.15 Q60.2 36.9 53.6 38.8 Q58.4 41.1 60.85 44.7 Q63.3 48.3 63.3 53.7 Q63.3 58.7 61.65 62.1 Q60 65.5 57 67.55 Q54 69.6 49.8 70.5 Q45.6 71.4 40.5 71.4 ZM22.6 12.2 L22.6 31.8 L39.7 31.8 Q44.8 31.8 47.9 29.45 Q51 27.1 51 21.6 Q51 18.8 50.05 17 Q49.1 15.2 47.5 14.15 Q45.9 13.1 43.8 12.65 Q41.7 12.2 39.4 12.2 Z\"\n",
       "      /></font\n",
       "    ></defs\n",
       "    ><g style=\"fill:rgb(240,240,240); stroke:rgb(240,240,240);\"\n",
       "    ><rect x=\"0\" y=\"0\" width=\"560\" style=\"clip-path:url(#clipPath1); stroke:none;\" height=\"420\"\n",
       "    /></g\n",
       "    ><g style=\"fill:rgb(240,240,240); text-rendering:optimizeSpeed; color-rendering:optimizeSpeed; image-rendering:optimizeSpeed; shape-rendering:crispEdges; stroke:rgb(240,240,240); color-interpolation:sRGB;\"\n",
       "    ><rect x=\"0\" width=\"560\" height=\"420\" y=\"0\" style=\"stroke:none;\"\n",
       "      /><path d=\"M85 216 L507 216 L507 51.5 L85 51.5 Z\" style=\"fill:white; stroke:none;\"\n",
       "    /></g\n",
       "    ><g style=\"fill-opacity:0.251; color-rendering:optimizeQuality; color-interpolation:linearRGB; text-rendering:geometricPrecision; stroke:rgb(102,102,102); stroke-linecap:butt; stroke-miterlimit:1; stroke-opacity:0.251; fill:rgb(102,102,102); stroke-dasharray:1,3; stroke-width:0.5; stroke-linejoin:bevel; image-rendering:optimizeQuality;\"\n",
       "    ><line y2=\"51.5\" style=\"fill:none;\" x1=\"116.7587\" x2=\"116.7587\" y1=\"216\"\n",
       "      /><line y2=\"51.5\" style=\"fill:none;\" x1=\"135.3363\" x2=\"135.3363\" y1=\"216\"\n",
       "      /><line y2=\"51.5\" style=\"fill:none;\" x1=\"148.5173\" x2=\"148.5173\" y1=\"216\"\n",
       "      /><line y2=\"51.5\" style=\"fill:none;\" x1=\"158.7413\" x2=\"158.7413\" y1=\"216\"\n",
       "      /><line y2=\"51.5\" style=\"fill:none;\" x1=\"167.095\" x2=\"167.095\" y1=\"216\"\n",
       "      /><line y2=\"51.5\" style=\"fill:none;\" x1=\"174.1578\" x2=\"174.1578\" y1=\"216\"\n",
       "      /><line y2=\"51.5\" style=\"fill:none;\" x1=\"180.276\" x2=\"180.276\" y1=\"216\"\n",
       "      /><line y2=\"51.5\" style=\"fill:none;\" x1=\"185.6726\" x2=\"185.6726\" y1=\"216\"\n",
       "      /><line y2=\"51.5\" style=\"fill:none;\" x1=\"222.2587\" x2=\"222.2587\" y1=\"216\"\n",
       "      /><line y2=\"51.5\" style=\"fill:none;\" x1=\"240.8363\" x2=\"240.8363\" y1=\"216\"\n",
       "      /><line y2=\"51.5\" style=\"fill:none;\" x1=\"254.0173\" x2=\"254.0173\" y1=\"216\"\n",
       "      /><line y2=\"51.5\" style=\"fill:none;\" x1=\"264.2413\" x2=\"264.2413\" y1=\"216\"\n",
       "      /><line y2=\"51.5\" style=\"fill:none;\" x1=\"272.595\" x2=\"272.595\" y1=\"216\"\n",
       "      /><line y2=\"51.5\" style=\"fill:none;\" x1=\"279.6578\" x2=\"279.6578\" y1=\"216\"\n",
       "      /><line y2=\"51.5\" style=\"fill:none;\" x1=\"285.776\" x2=\"285.776\" y1=\"216\"\n",
       "      /><line y2=\"51.5\" style=\"fill:none;\" x1=\"291.1726\" x2=\"291.1726\" y1=\"216\"\n",
       "      /><line y2=\"51.5\" style=\"fill:none;\" x1=\"327.7587\" x2=\"327.7587\" y1=\"216\"\n",
       "      /><line y2=\"51.5\" style=\"fill:none;\" x1=\"346.3363\" x2=\"346.3363\" y1=\"216\"\n",
       "      /><line y2=\"51.5\" style=\"fill:none;\" x1=\"359.5173\" x2=\"359.5173\" y1=\"216\"\n",
       "      /><line y2=\"51.5\" style=\"fill:none;\" x1=\"369.7413\" x2=\"369.7413\" y1=\"216\"\n",
       "      /><line y2=\"51.5\" style=\"fill:none;\" x1=\"378.095\" x2=\"378.095\" y1=\"216\"\n",
       "      /><line y2=\"51.5\" style=\"fill:none;\" x1=\"385.1578\" x2=\"385.1578\" y1=\"216\"\n",
       "      /><line y2=\"51.5\" style=\"fill:none;\" x1=\"391.276\" x2=\"391.276\" y1=\"216\"\n",
       "      /><line y2=\"51.5\" style=\"fill:none;\" x1=\"396.6726\" x2=\"396.6726\" y1=\"216\"\n",
       "      /><line y2=\"51.5\" style=\"fill:none;\" x1=\"433.2587\" x2=\"433.2587\" y1=\"216\"\n",
       "      /><line y2=\"51.5\" style=\"fill:none;\" x1=\"451.8363\" x2=\"451.8363\" y1=\"216\"\n",
       "      /><line y2=\"51.5\" style=\"fill:none;\" x1=\"465.0173\" x2=\"465.0173\" y1=\"216\"\n",
       "      /><line y2=\"51.5\" style=\"fill:none;\" x1=\"475.2413\" x2=\"475.2413\" y1=\"216\"\n",
       "      /><line y2=\"51.5\" style=\"fill:none;\" x1=\"483.595\" x2=\"483.595\" y1=\"216\"\n",
       "      /><line y2=\"51.5\" style=\"fill:none;\" x1=\"490.6578\" x2=\"490.6578\" y1=\"216\"\n",
       "      /><line y2=\"51.5\" style=\"fill:none;\" x1=\"496.776\" x2=\"496.776\" y1=\"216\"\n",
       "      /><line y2=\"51.5\" style=\"fill:none;\" x1=\"502.1726\" x2=\"502.1726\" y1=\"216\"\n",
       "    /></g\n",
       "    ><g style=\"stroke-linecap:butt; fill-opacity:0.149; fill:rgb(38,38,38); text-rendering:geometricPrecision; image-rendering:optimizeQuality; color-rendering:optimizeQuality; stroke-linejoin:round; stroke:rgb(38,38,38); color-interpolation:linearRGB; stroke-width:0.5; stroke-opacity:0.149;\"\n",
       "    ><line y2=\"51.5\" style=\"fill:none;\" x1=\"85\" x2=\"85\" y1=\"216\"\n",
       "      /><line y2=\"51.5\" style=\"fill:none;\" x1=\"190.5\" x2=\"190.5\" y1=\"216\"\n",
       "      /><line y2=\"51.5\" style=\"fill:none;\" x1=\"296\" x2=\"296\" y1=\"216\"\n",
       "      /><line y2=\"51.5\" style=\"fill:none;\" x1=\"401.5\" x2=\"401.5\" y1=\"216\"\n",
       "      /><line y2=\"51.5\" style=\"fill:none;\" x1=\"507\" x2=\"507\" y1=\"216\"\n",
       "      /><line y2=\"209.641\" style=\"fill:none;\" x1=\"507\" x2=\"85\" y1=\"209.641\"\n",
       "      /><line y2=\"156.9274\" style=\"fill:none;\" x1=\"507\" x2=\"85\" y1=\"156.9274\"\n",
       "      /><line y2=\"104.2137\" style=\"fill:none;\" x1=\"507\" x2=\"85\" y1=\"104.2137\"\n",
       "      /><line y2=\"51.5\" style=\"fill:none;\" x1=\"507\" x2=\"85\" y1=\"51.5\"\n",
       "    /></g\n",
       "    ><g style=\"fill:rgb(102,102,102); text-rendering:geometricPrecision; image-rendering:optimizeQuality; color-rendering:optimizeQuality; stroke-linejoin:round; stroke:rgb(102,102,102); color-interpolation:linearRGB; stroke-width:0.5;\"\n",
       "    ><line y2=\"216\" style=\"fill:none;\" x1=\"85\" x2=\"507\" y1=\"216\"\n",
       "      /><line y2=\"51.5\" style=\"fill:none;\" x1=\"85\" x2=\"507\" y1=\"51.5\"\n",
       "      /><line y2=\"211.78\" style=\"fill:none;\" x1=\"85\" x2=\"85\" y1=\"216\"\n",
       "      /><line y2=\"211.78\" style=\"fill:none;\" x1=\"190.5\" x2=\"190.5\" y1=\"216\"\n",
       "      /><line y2=\"211.78\" style=\"fill:none;\" x1=\"296\" x2=\"296\" y1=\"216\"\n",
       "      /><line y2=\"211.78\" style=\"fill:none;\" x1=\"401.5\" x2=\"401.5\" y1=\"216\"\n",
       "      /><line y2=\"211.78\" style=\"fill:none;\" x1=\"507\" x2=\"507\" y1=\"216\"\n",
       "      /><line y2=\"55.72\" style=\"fill:none;\" x1=\"85\" x2=\"85\" y1=\"51.5\"\n",
       "      /><line y2=\"55.72\" style=\"fill:none;\" x1=\"190.5\" x2=\"190.5\" y1=\"51.5\"\n",
       "      /><line y2=\"55.72\" style=\"fill:none;\" x1=\"296\" x2=\"296\" y1=\"51.5\"\n",
       "      /><line y2=\"55.72\" style=\"fill:none;\" x1=\"401.5\" x2=\"401.5\" y1=\"51.5\"\n",
       "      /><line y2=\"55.72\" style=\"fill:none;\" x1=\"507\" x2=\"507\" y1=\"51.5\"\n",
       "      /><line y2=\"213.89\" style=\"fill:none;\" x1=\"85\" x2=\"85\" y1=\"216\"\n",
       "      /><line y2=\"213.89\" style=\"fill:none;\" x1=\"116.7587\" x2=\"116.7587\" y1=\"216\"\n",
       "      /><line y2=\"213.89\" style=\"fill:none;\" x1=\"135.3363\" x2=\"135.3363\" y1=\"216\"\n",
       "      /><line y2=\"213.89\" style=\"fill:none;\" x1=\"148.5173\" x2=\"148.5173\" y1=\"216\"\n",
       "      /><line y2=\"213.89\" style=\"fill:none;\" x1=\"158.7413\" x2=\"158.7413\" y1=\"216\"\n",
       "      /><line y2=\"213.89\" style=\"fill:none;\" x1=\"167.095\" x2=\"167.095\" y1=\"216\"\n",
       "      /><line y2=\"213.89\" style=\"fill:none;\" x1=\"174.1578\" x2=\"174.1578\" y1=\"216\"\n",
       "      /><line y2=\"213.89\" style=\"fill:none;\" x1=\"180.276\" x2=\"180.276\" y1=\"216\"\n",
       "      /><line y2=\"213.89\" style=\"fill:none;\" x1=\"185.6726\" x2=\"185.6726\" y1=\"216\"\n",
       "      /><line y2=\"213.89\" style=\"fill:none;\" x1=\"190.5\" x2=\"190.5\" y1=\"216\"\n",
       "      /><line y2=\"213.89\" style=\"fill:none;\" x1=\"222.2587\" x2=\"222.2587\" y1=\"216\"\n",
       "      /><line y2=\"213.89\" style=\"fill:none;\" x1=\"240.8363\" x2=\"240.8363\" y1=\"216\"\n",
       "      /><line y2=\"213.89\" style=\"fill:none;\" x1=\"254.0173\" x2=\"254.0173\" y1=\"216\"\n",
       "      /><line y2=\"213.89\" style=\"fill:none;\" x1=\"264.2413\" x2=\"264.2413\" y1=\"216\"\n",
       "      /><line y2=\"213.89\" style=\"fill:none;\" x1=\"272.595\" x2=\"272.595\" y1=\"216\"\n",
       "      /><line y2=\"213.89\" style=\"fill:none;\" x1=\"279.6578\" x2=\"279.6578\" y1=\"216\"\n",
       "      /><line y2=\"213.89\" style=\"fill:none;\" x1=\"285.776\" x2=\"285.776\" y1=\"216\"\n",
       "      /><line y2=\"213.89\" style=\"fill:none;\" x1=\"291.1726\" x2=\"291.1726\" y1=\"216\"\n",
       "      /><line y2=\"213.89\" style=\"fill:none;\" x1=\"296\" x2=\"296\" y1=\"216\"\n",
       "      /><line y2=\"213.89\" style=\"fill:none;\" x1=\"327.7587\" x2=\"327.7587\" y1=\"216\"\n",
       "      /><line y2=\"213.89\" style=\"fill:none;\" x1=\"346.3363\" x2=\"346.3363\" y1=\"216\"\n",
       "      /><line y2=\"213.89\" style=\"fill:none;\" x1=\"359.5173\" x2=\"359.5173\" y1=\"216\"\n",
       "      /><line y2=\"213.89\" style=\"fill:none;\" x1=\"369.7413\" x2=\"369.7413\" y1=\"216\"\n",
       "      /><line y2=\"213.89\" style=\"fill:none;\" x1=\"378.095\" x2=\"378.095\" y1=\"216\"\n",
       "      /><line y2=\"213.89\" style=\"fill:none;\" x1=\"385.1578\" x2=\"385.1578\" y1=\"216\"\n",
       "      /><line y2=\"213.89\" style=\"fill:none;\" x1=\"391.276\" x2=\"391.276\" y1=\"216\"\n",
       "      /><line y2=\"213.89\" style=\"fill:none;\" x1=\"396.6726\" x2=\"396.6726\" y1=\"216\"\n",
       "      /><line y2=\"213.89\" style=\"fill:none;\" x1=\"401.5\" x2=\"401.5\" y1=\"216\"\n",
       "      /><line y2=\"213.89\" style=\"fill:none;\" x1=\"433.2587\" x2=\"433.2587\" y1=\"216\"\n",
       "      /><line y2=\"213.89\" style=\"fill:none;\" x1=\"451.8363\" x2=\"451.8363\" y1=\"216\"\n",
       "      /><line y2=\"213.89\" style=\"fill:none;\" x1=\"465.0173\" x2=\"465.0173\" y1=\"216\"\n",
       "      /><line y2=\"213.89\" style=\"fill:none;\" x1=\"475.2413\" x2=\"475.2413\" y1=\"216\"\n",
       "      /><line y2=\"213.89\" style=\"fill:none;\" x1=\"483.595\" x2=\"483.595\" y1=\"216\"\n",
       "      /><line y2=\"213.89\" style=\"fill:none;\" x1=\"490.6578\" x2=\"490.6578\" y1=\"216\"\n",
       "      /><line y2=\"213.89\" style=\"fill:none;\" x1=\"496.776\" x2=\"496.776\" y1=\"216\"\n",
       "      /><line y2=\"213.89\" style=\"fill:none;\" x1=\"502.1726\" x2=\"502.1726\" y1=\"216\"\n",
       "      /><line y2=\"213.89\" style=\"fill:none;\" x1=\"507\" x2=\"507\" y1=\"216\"\n",
       "      /><line y2=\"53.61\" style=\"fill:none;\" x1=\"85\" x2=\"85\" y1=\"51.5\"\n",
       "      /><line y2=\"53.61\" style=\"fill:none;\" x1=\"116.7587\" x2=\"116.7587\" y1=\"51.5\"\n",
       "      /><line y2=\"53.61\" style=\"fill:none;\" x1=\"135.3363\" x2=\"135.3363\" y1=\"51.5\"\n",
       "      /><line y2=\"53.61\" style=\"fill:none;\" x1=\"148.5173\" x2=\"148.5173\" y1=\"51.5\"\n",
       "      /><line y2=\"53.61\" style=\"fill:none;\" x1=\"158.7413\" x2=\"158.7413\" y1=\"51.5\"\n",
       "      /><line y2=\"53.61\" style=\"fill:none;\" x1=\"167.095\" x2=\"167.095\" y1=\"51.5\"\n",
       "      /><line y2=\"53.61\" style=\"fill:none;\" x1=\"174.1578\" x2=\"174.1578\" y1=\"51.5\"\n",
       "      /><line y2=\"53.61\" style=\"fill:none;\" x1=\"180.276\" x2=\"180.276\" y1=\"51.5\"\n",
       "      /><line y2=\"53.61\" style=\"fill:none;\" x1=\"185.6726\" x2=\"185.6726\" y1=\"51.5\"\n",
       "      /><line y2=\"53.61\" style=\"fill:none;\" x1=\"190.5\" x2=\"190.5\" y1=\"51.5\"\n",
       "      /><line y2=\"53.61\" style=\"fill:none;\" x1=\"222.2587\" x2=\"222.2587\" y1=\"51.5\"\n",
       "      /><line y2=\"53.61\" style=\"fill:none;\" x1=\"240.8363\" x2=\"240.8363\" y1=\"51.5\"\n",
       "      /><line y2=\"53.61\" style=\"fill:none;\" x1=\"254.0173\" x2=\"254.0173\" y1=\"51.5\"\n",
       "      /><line y2=\"53.61\" style=\"fill:none;\" x1=\"264.2413\" x2=\"264.2413\" y1=\"51.5\"\n",
       "      /><line y2=\"53.61\" style=\"fill:none;\" x1=\"272.595\" x2=\"272.595\" y1=\"51.5\"\n",
       "      /><line y2=\"53.61\" style=\"fill:none;\" x1=\"279.6578\" x2=\"279.6578\" y1=\"51.5\"\n",
       "      /><line y2=\"53.61\" style=\"fill:none;\" x1=\"285.776\" x2=\"285.776\" y1=\"51.5\"\n",
       "      /><line y2=\"53.61\" style=\"fill:none;\" x1=\"291.1726\" x2=\"291.1726\" y1=\"51.5\"\n",
       "      /><line y2=\"53.61\" style=\"fill:none;\" x1=\"296\" x2=\"296\" y1=\"51.5\"\n",
       "      /><line y2=\"53.61\" style=\"fill:none;\" x1=\"327.7587\" x2=\"327.7587\" y1=\"51.5\"\n",
       "      /><line y2=\"53.61\" style=\"fill:none;\" x1=\"346.3363\" x2=\"346.3363\" y1=\"51.5\"\n",
       "      /><line y2=\"53.61\" style=\"fill:none;\" x1=\"359.5173\" x2=\"359.5173\" y1=\"51.5\"\n",
       "      /><line y2=\"53.61\" style=\"fill:none;\" x1=\"369.7413\" x2=\"369.7413\" y1=\"51.5\"\n",
       "      /><line y2=\"53.61\" style=\"fill:none;\" x1=\"378.095\" x2=\"378.095\" y1=\"51.5\"\n",
       "      /><line y2=\"53.61\" style=\"fill:none;\" x1=\"385.1578\" x2=\"385.1578\" y1=\"51.5\"\n",
       "      /><line y2=\"53.61\" style=\"fill:none;\" x1=\"391.276\" x2=\"391.276\" y1=\"51.5\"\n",
       "      /><line y2=\"53.61\" style=\"fill:none;\" x1=\"396.6726\" x2=\"396.6726\" y1=\"51.5\"\n",
       "      /><line y2=\"53.61\" style=\"fill:none;\" x1=\"401.5\" x2=\"401.5\" y1=\"51.5\"\n",
       "      /><line y2=\"53.61\" style=\"fill:none;\" x1=\"433.2587\" x2=\"433.2587\" y1=\"51.5\"\n",
       "      /><line y2=\"53.61\" style=\"fill:none;\" x1=\"451.8363\" x2=\"451.8363\" y1=\"51.5\"\n",
       "      /><line y2=\"53.61\" style=\"fill:none;\" x1=\"465.0173\" x2=\"465.0173\" y1=\"51.5\"\n",
       "      /><line y2=\"53.61\" style=\"fill:none;\" x1=\"475.2413\" x2=\"475.2413\" y1=\"51.5\"\n",
       "      /><line y2=\"53.61\" style=\"fill:none;\" x1=\"483.595\" x2=\"483.595\" y1=\"51.5\"\n",
       "      /><line y2=\"53.61\" style=\"fill:none;\" x1=\"490.6578\" x2=\"490.6578\" y1=\"51.5\"\n",
       "      /><line y2=\"53.61\" style=\"fill:none;\" x1=\"496.776\" x2=\"496.776\" y1=\"51.5\"\n",
       "      /><line y2=\"53.61\" style=\"fill:none;\" x1=\"502.1726\" x2=\"502.1726\" y1=\"51.5\"\n",
       "      /><line y2=\"53.61\" style=\"fill:none;\" x1=\"507\" x2=\"507\" y1=\"51.5\"\n",
       "      /><line y2=\"51.5\" style=\"fill:none;\" x1=\"85\" x2=\"85\" y1=\"216\"\n",
       "      /><line y2=\"51.5\" style=\"fill:none;\" x1=\"507\" x2=\"507\" y1=\"216\"\n",
       "      /><line y2=\"209.641\" style=\"fill:none;\" x1=\"85\" x2=\"89.22\" y1=\"209.641\"\n",
       "      /><line y2=\"156.9274\" style=\"fill:none;\" x1=\"85\" x2=\"89.22\" y1=\"156.9274\"\n",
       "      /><line y2=\"104.2137\" style=\"fill:none;\" x1=\"85\" x2=\"89.22\" y1=\"104.2137\"\n",
       "      /><line y2=\"51.5\" style=\"fill:none;\" x1=\"85\" x2=\"89.22\" y1=\"51.5\"\n",
       "      /><line y2=\"209.641\" style=\"fill:none;\" x1=\"507\" x2=\"502.78\" y1=\"209.641\"\n",
       "      /><line y2=\"156.9274\" style=\"fill:none;\" x1=\"507\" x2=\"502.78\" y1=\"156.9274\"\n",
       "      /><line y2=\"104.2137\" style=\"fill:none;\" x1=\"507\" x2=\"502.78\" y1=\"104.2137\"\n",
       "      /><line y2=\"51.5\" style=\"fill:none;\" x1=\"507\" x2=\"502.78\" y1=\"51.5\"\n",
       "    /></g\n",
       "    ><g transform=\"translate(81,209.641)\" style=\"font-size:10px; fill:rgb(102,102,102); text-rendering:geometricPrecision; image-rendering:optimizeQuality; color-rendering:optimizeQuality; font-family:'Helvetica Neue'; stroke:rgb(102,102,102); color-interpolation:linearRGB;\"\n",
       "    ><text x=\"-21\" xml:space=\"preserve\" y=\"3.5\" style=\"stroke:none;\"\n",
       "      >-150</text\n",
       "    ></g\n",
       "    ><g transform=\"translate(81,156.9274)\" style=\"font-size:10px; fill:rgb(102,102,102); text-rendering:geometricPrecision; image-rendering:optimizeQuality; color-rendering:optimizeQuality; font-family:'Helvetica Neue'; stroke:rgb(102,102,102); color-interpolation:linearRGB;\"\n",
       "    ><text x=\"-21\" xml:space=\"preserve\" y=\"3.5\" style=\"stroke:none;\"\n",
       "      >-100</text\n",
       "    ></g\n",
       "    ><g transform=\"translate(81,104.2137)\" style=\"font-size:10px; fill:rgb(102,102,102); text-rendering:geometricPrecision; image-rendering:optimizeQuality; color-rendering:optimizeQuality; font-family:'Helvetica Neue'; stroke:rgb(102,102,102); color-interpolation:linearRGB;\"\n",
       "    ><text x=\"-16\" xml:space=\"preserve\" y=\"3.5\" style=\"stroke:none;\"\n",
       "      >-50</text\n",
       "    ></g\n",
       "    ><g transform=\"translate(81,51.5)\" style=\"font-size:10px; fill:rgb(102,102,102); text-rendering:geometricPrecision; image-rendering:optimizeQuality; color-rendering:optimizeQuality; font-family:'Helvetica Neue'; stroke:rgb(102,102,102); color-interpolation:linearRGB;\"\n",
       "    ><text x=\"-6\" xml:space=\"preserve\" y=\"3.5\" style=\"stroke:none;\"\n",
       "      >0</text\n",
       "    ></g\n",
       "    ><g transform=\"translate(57,133.7499) rotate(-90)\" style=\"font-size:11px; text-rendering:geometricPrecision; color-rendering:optimizeQuality; image-rendering:optimizeQuality; font-family:'Helvetica Neue'; color-interpolation:linearRGB;\"\n",
       "    ><text x=\"-38\" xml:space=\"preserve\" y=\"-3\" style=\"stroke:none;\"\n",
       "      >Magnitude (dB)</text\n",
       "    ></g\n",
       "    ><g style=\"stroke-linecap:butt; fill:rgb(0,114,189); text-rendering:geometricPrecision; image-rendering:optimizeQuality; color-rendering:optimizeQuality; stroke-linejoin:round; stroke:rgb(0,114,189); color-interpolation:linearRGB; stroke-width:0.5;\"\n",
       "    ><path d=\"M85 53.0439 L92.1525 54.0591 L99.3051 55.5048 L106.4576 57.3783 L113.6102 59.6069 L120.7627 62.0888 L127.9153 64.7323 L135.0678 67.4716 L142.2203 70.2652 L149.3729 73.0889 L156.5254 75.9288 L163.678 78.7776 L170.8305 81.6311 L177.983 84.4872 L185.1356 87.3447 L192.2881 90.2029 L199.4407 93.0615 L206.5932 95.9203 L213.7458 98.7792 L220.8983 101.6382 L228.0509 104.4972 L235.2034 107.3562 L242.3559 110.2153 L249.5085 113.0743 L256.661 115.9334 L263.8136 118.7924 L270.9661 121.6515 L278.1187 124.5105 L285.2712 127.3695 L292.4237 130.2286 L299.5763 133.0876 L306.7288 135.9467 L313.8813 138.8057 L321.0339 141.6648 L328.1864 144.5238 L335.339 147.3829 L342.4915 150.2419 L349.6441 153.101 L356.7966 155.96 L363.9492 158.8191 L371.1017 161.6781 L378.2542 164.5372 L385.4068 167.3962 L392.5593 170.2552 L399.7119 173.1143 L406.8644 175.9733 L414.0169 178.8324 L421.1695 181.6914 L428.322 184.5505 L435.4746 187.4095 L442.6271 190.2686 L449.7797 193.1276 L456.9322 195.9867 L464.0847 198.8457 L471.2373 201.7048 L478.3898 204.5638 L485.5424 207.4229 L492.6949 210.2819 L499.8474 213.1409 L507 216\" style=\"fill:none; fill-rule:evenodd;\"\n",
       "    /></g\n",
       "    ><g style=\"fill:white; text-rendering:optimizeSpeed; color-rendering:optimizeSpeed; image-rendering:optimizeSpeed; shape-rendering:crispEdges; stroke:white; color-interpolation:sRGB;\"\n",
       "    ><path style=\"stroke:none;\" d=\"M85 374 L507 374 L507 228 L85 228 Z\"\n",
       "    /></g\n",
       "    ><g style=\"fill-opacity:0.251; color-rendering:optimizeQuality; color-interpolation:linearRGB; text-rendering:geometricPrecision; stroke:rgb(102,102,102); stroke-linecap:butt; stroke-miterlimit:1; stroke-opacity:0.251; fill:rgb(102,102,102); stroke-dasharray:1,3; stroke-width:0.5; stroke-linejoin:bevel; image-rendering:optimizeQuality;\"\n",
       "    ><line y2=\"228\" style=\"fill:none;\" x1=\"116.7587\" x2=\"116.7587\" y1=\"374\"\n",
       "      /><line y2=\"228\" style=\"fill:none;\" x1=\"135.3363\" x2=\"135.3363\" y1=\"374\"\n",
       "      /><line y2=\"228\" style=\"fill:none;\" x1=\"148.5173\" x2=\"148.5173\" y1=\"374\"\n",
       "      /><line y2=\"228\" style=\"fill:none;\" x1=\"158.7413\" x2=\"158.7413\" y1=\"374\"\n",
       "      /><line y2=\"228\" style=\"fill:none;\" x1=\"167.095\" x2=\"167.095\" y1=\"374\"\n",
       "      /><line y2=\"228\" style=\"fill:none;\" x1=\"174.1578\" x2=\"174.1578\" y1=\"374\"\n",
       "      /><line y2=\"228\" style=\"fill:none;\" x1=\"180.276\" x2=\"180.276\" y1=\"374\"\n",
       "      /><line y2=\"228\" style=\"fill:none;\" x1=\"185.6726\" x2=\"185.6726\" y1=\"374\"\n",
       "      /><line y2=\"228\" style=\"fill:none;\" x1=\"222.2587\" x2=\"222.2587\" y1=\"374\"\n",
       "      /><line y2=\"228\" style=\"fill:none;\" x1=\"240.8363\" x2=\"240.8363\" y1=\"374\"\n",
       "      /><line y2=\"228\" style=\"fill:none;\" x1=\"254.0173\" x2=\"254.0173\" y1=\"374\"\n",
       "      /><line y2=\"228\" style=\"fill:none;\" x1=\"264.2413\" x2=\"264.2413\" y1=\"374\"\n",
       "      /><line y2=\"228\" style=\"fill:none;\" x1=\"272.595\" x2=\"272.595\" y1=\"374\"\n",
       "      /><line y2=\"228\" style=\"fill:none;\" x1=\"279.6578\" x2=\"279.6578\" y1=\"374\"\n",
       "      /><line y2=\"228\" style=\"fill:none;\" x1=\"285.776\" x2=\"285.776\" y1=\"374\"\n",
       "      /><line y2=\"228\" style=\"fill:none;\" x1=\"291.1726\" x2=\"291.1726\" y1=\"374\"\n",
       "      /><line y2=\"228\" style=\"fill:none;\" x1=\"327.7587\" x2=\"327.7587\" y1=\"374\"\n",
       "      /><line y2=\"228\" style=\"fill:none;\" x1=\"346.3363\" x2=\"346.3363\" y1=\"374\"\n",
       "      /><line y2=\"228\" style=\"fill:none;\" x1=\"359.5173\" x2=\"359.5173\" y1=\"374\"\n",
       "      /><line y2=\"228\" style=\"fill:none;\" x1=\"369.7413\" x2=\"369.7413\" y1=\"374\"\n",
       "      /><line y2=\"228\" style=\"fill:none;\" x1=\"378.095\" x2=\"378.095\" y1=\"374\"\n",
       "      /><line y2=\"228\" style=\"fill:none;\" x1=\"385.1578\" x2=\"385.1578\" y1=\"374\"\n",
       "      /><line y2=\"228\" style=\"fill:none;\" x1=\"391.276\" x2=\"391.276\" y1=\"374\"\n",
       "      /><line y2=\"228\" style=\"fill:none;\" x1=\"396.6726\" x2=\"396.6726\" y1=\"374\"\n",
       "      /><line y2=\"228\" style=\"fill:none;\" x1=\"433.2587\" x2=\"433.2587\" y1=\"374\"\n",
       "      /><line y2=\"228\" style=\"fill:none;\" x1=\"451.8363\" x2=\"451.8363\" y1=\"374\"\n",
       "      /><line y2=\"228\" style=\"fill:none;\" x1=\"465.0173\" x2=\"465.0173\" y1=\"374\"\n",
       "      /><line y2=\"228\" style=\"fill:none;\" x1=\"475.2413\" x2=\"475.2413\" y1=\"374\"\n",
       "      /><line y2=\"228\" style=\"fill:none;\" x1=\"483.595\" x2=\"483.595\" y1=\"374\"\n",
       "      /><line y2=\"228\" style=\"fill:none;\" x1=\"490.6578\" x2=\"490.6578\" y1=\"374\"\n",
       "      /><line y2=\"228\" style=\"fill:none;\" x1=\"496.776\" x2=\"496.776\" y1=\"374\"\n",
       "      /><line y2=\"228\" style=\"fill:none;\" x1=\"502.1726\" x2=\"502.1726\" y1=\"374\"\n",
       "    /></g\n",
       "    ><g style=\"stroke-linecap:butt; fill-opacity:0.149; fill:rgb(38,38,38); text-rendering:geometricPrecision; image-rendering:optimizeQuality; color-rendering:optimizeQuality; stroke-linejoin:round; stroke:rgb(38,38,38); color-interpolation:linearRGB; stroke-width:0.5; stroke-opacity:0.149;\"\n",
       "    ><line y2=\"228\" style=\"fill:none;\" x1=\"85\" x2=\"85\" y1=\"374\"\n",
       "      /><line y2=\"228\" style=\"fill:none;\" x1=\"190.5\" x2=\"190.5\" y1=\"374\"\n",
       "      /><line y2=\"228\" style=\"fill:none;\" x1=\"296\" x2=\"296\" y1=\"374\"\n",
       "      /><line y2=\"228\" style=\"fill:none;\" x1=\"401.5\" x2=\"401.5\" y1=\"374\"\n",
       "      /><line y2=\"228\" style=\"fill:none;\" x1=\"507\" x2=\"507\" y1=\"374\"\n",
       "      /><line y2=\"372.5686\" style=\"fill:none;\" x1=\"507\" x2=\"85\" y1=\"372.5686\"\n",
       "      /><line y2=\"324.8562\" style=\"fill:none;\" x1=\"507\" x2=\"85\" y1=\"324.8562\"\n",
       "      /><line y2=\"277.1438\" style=\"fill:none;\" x1=\"507\" x2=\"85\" y1=\"277.1438\"\n",
       "      /><line y2=\"229.4314\" style=\"fill:none;\" x1=\"507\" x2=\"85\" y1=\"229.4314\"\n",
       "    /></g\n",
       "    ><g style=\"fill:rgb(102,102,102); text-rendering:geometricPrecision; image-rendering:optimizeQuality; color-rendering:optimizeQuality; stroke-linejoin:round; stroke:rgb(102,102,102); color-interpolation:linearRGB; stroke-width:0.5;\"\n",
       "    ><line y2=\"374\" style=\"fill:none;\" x1=\"85\" x2=\"507\" y1=\"374\"\n",
       "      /><line y2=\"228\" style=\"fill:none;\" x1=\"85\" x2=\"507\" y1=\"228\"\n",
       "      /><line y2=\"369.78\" style=\"fill:none;\" x1=\"85\" x2=\"85\" y1=\"374\"\n",
       "      /><line y2=\"369.78\" style=\"fill:none;\" x1=\"190.5\" x2=\"190.5\" y1=\"374\"\n",
       "      /><line y2=\"369.78\" style=\"fill:none;\" x1=\"296\" x2=\"296\" y1=\"374\"\n",
       "      /><line y2=\"369.78\" style=\"fill:none;\" x1=\"401.5\" x2=\"401.5\" y1=\"374\"\n",
       "      /><line y2=\"369.78\" style=\"fill:none;\" x1=\"507\" x2=\"507\" y1=\"374\"\n",
       "      /><line y2=\"232.22\" style=\"fill:none;\" x1=\"85\" x2=\"85\" y1=\"228\"\n",
       "      /><line y2=\"232.22\" style=\"fill:none;\" x1=\"190.5\" x2=\"190.5\" y1=\"228\"\n",
       "      /><line y2=\"232.22\" style=\"fill:none;\" x1=\"296\" x2=\"296\" y1=\"228\"\n",
       "      /><line y2=\"232.22\" style=\"fill:none;\" x1=\"401.5\" x2=\"401.5\" y1=\"228\"\n",
       "      /><line y2=\"232.22\" style=\"fill:none;\" x1=\"507\" x2=\"507\" y1=\"228\"\n",
       "      /><line y2=\"371.89\" style=\"fill:none;\" x1=\"85\" x2=\"85\" y1=\"374\"\n",
       "      /><line y2=\"371.89\" style=\"fill:none;\" x1=\"116.7587\" x2=\"116.7587\" y1=\"374\"\n",
       "      /><line y2=\"371.89\" style=\"fill:none;\" x1=\"135.3363\" x2=\"135.3363\" y1=\"374\"\n",
       "      /><line y2=\"371.89\" style=\"fill:none;\" x1=\"148.5173\" x2=\"148.5173\" y1=\"374\"\n",
       "      /><line y2=\"371.89\" style=\"fill:none;\" x1=\"158.7413\" x2=\"158.7413\" y1=\"374\"\n",
       "      /><line y2=\"371.89\" style=\"fill:none;\" x1=\"167.095\" x2=\"167.095\" y1=\"374\"\n",
       "      /><line y2=\"371.89\" style=\"fill:none;\" x1=\"174.1578\" x2=\"174.1578\" y1=\"374\"\n",
       "      /><line y2=\"371.89\" style=\"fill:none;\" x1=\"180.276\" x2=\"180.276\" y1=\"374\"\n",
       "      /><line y2=\"371.89\" style=\"fill:none;\" x1=\"185.6726\" x2=\"185.6726\" y1=\"374\"\n",
       "      /><line y2=\"371.89\" style=\"fill:none;\" x1=\"190.5\" x2=\"190.5\" y1=\"374\"\n",
       "      /><line y2=\"371.89\" style=\"fill:none;\" x1=\"222.2587\" x2=\"222.2587\" y1=\"374\"\n",
       "      /><line y2=\"371.89\" style=\"fill:none;\" x1=\"240.8363\" x2=\"240.8363\" y1=\"374\"\n",
       "      /><line y2=\"371.89\" style=\"fill:none;\" x1=\"254.0173\" x2=\"254.0173\" y1=\"374\"\n",
       "      /><line y2=\"371.89\" style=\"fill:none;\" x1=\"264.2413\" x2=\"264.2413\" y1=\"374\"\n",
       "      /><line y2=\"371.89\" style=\"fill:none;\" x1=\"272.595\" x2=\"272.595\" y1=\"374\"\n",
       "      /><line y2=\"371.89\" style=\"fill:none;\" x1=\"279.6578\" x2=\"279.6578\" y1=\"374\"\n",
       "      /><line y2=\"371.89\" style=\"fill:none;\" x1=\"285.776\" x2=\"285.776\" y1=\"374\"\n",
       "      /><line y2=\"371.89\" style=\"fill:none;\" x1=\"291.1726\" x2=\"291.1726\" y1=\"374\"\n",
       "      /><line y2=\"371.89\" style=\"fill:none;\" x1=\"296\" x2=\"296\" y1=\"374\"\n",
       "      /><line y2=\"371.89\" style=\"fill:none;\" x1=\"327.7587\" x2=\"327.7587\" y1=\"374\"\n",
       "      /><line y2=\"371.89\" style=\"fill:none;\" x1=\"346.3363\" x2=\"346.3363\" y1=\"374\"\n",
       "      /><line y2=\"371.89\" style=\"fill:none;\" x1=\"359.5173\" x2=\"359.5173\" y1=\"374\"\n",
       "      /><line y2=\"371.89\" style=\"fill:none;\" x1=\"369.7413\" x2=\"369.7413\" y1=\"374\"\n",
       "      /><line y2=\"371.89\" style=\"fill:none;\" x1=\"378.095\" x2=\"378.095\" y1=\"374\"\n",
       "      /><line y2=\"371.89\" style=\"fill:none;\" x1=\"385.1578\" x2=\"385.1578\" y1=\"374\"\n",
       "      /><line y2=\"371.89\" style=\"fill:none;\" x1=\"391.276\" x2=\"391.276\" y1=\"374\"\n",
       "      /><line y2=\"371.89\" style=\"fill:none;\" x1=\"396.6726\" x2=\"396.6726\" y1=\"374\"\n",
       "      /><line y2=\"371.89\" style=\"fill:none;\" x1=\"401.5\" x2=\"401.5\" y1=\"374\"\n",
       "      /><line y2=\"371.89\" style=\"fill:none;\" x1=\"433.2587\" x2=\"433.2587\" y1=\"374\"\n",
       "      /><line y2=\"371.89\" style=\"fill:none;\" x1=\"451.8363\" x2=\"451.8363\" y1=\"374\"\n",
       "      /><line y2=\"371.89\" style=\"fill:none;\" x1=\"465.0173\" x2=\"465.0173\" y1=\"374\"\n",
       "      /><line y2=\"371.89\" style=\"fill:none;\" x1=\"475.2413\" x2=\"475.2413\" y1=\"374\"\n",
       "      /><line y2=\"371.89\" style=\"fill:none;\" x1=\"483.595\" x2=\"483.595\" y1=\"374\"\n",
       "      /><line y2=\"371.89\" style=\"fill:none;\" x1=\"490.6578\" x2=\"490.6578\" y1=\"374\"\n",
       "      /><line y2=\"371.89\" style=\"fill:none;\" x1=\"496.776\" x2=\"496.776\" y1=\"374\"\n",
       "      /><line y2=\"371.89\" style=\"fill:none;\" x1=\"502.1726\" x2=\"502.1726\" y1=\"374\"\n",
       "      /><line y2=\"371.89\" style=\"fill:none;\" x1=\"507\" x2=\"507\" y1=\"374\"\n",
       "      /><line y2=\"230.11\" style=\"fill:none;\" x1=\"85\" x2=\"85\" y1=\"228\"\n",
       "      /><line y2=\"230.11\" style=\"fill:none;\" x1=\"116.7587\" x2=\"116.7587\" y1=\"228\"\n",
       "      /><line y2=\"230.11\" style=\"fill:none;\" x1=\"135.3363\" x2=\"135.3363\" y1=\"228\"\n",
       "      /><line y2=\"230.11\" style=\"fill:none;\" x1=\"148.5173\" x2=\"148.5173\" y1=\"228\"\n",
       "      /><line y2=\"230.11\" style=\"fill:none;\" x1=\"158.7413\" x2=\"158.7413\" y1=\"228\"\n",
       "      /><line y2=\"230.11\" style=\"fill:none;\" x1=\"167.095\" x2=\"167.095\" y1=\"228\"\n",
       "      /><line y2=\"230.11\" style=\"fill:none;\" x1=\"174.1578\" x2=\"174.1578\" y1=\"228\"\n",
       "      /><line y2=\"230.11\" style=\"fill:none;\" x1=\"180.276\" x2=\"180.276\" y1=\"228\"\n",
       "      /><line y2=\"230.11\" style=\"fill:none;\" x1=\"185.6726\" x2=\"185.6726\" y1=\"228\"\n",
       "      /><line y2=\"230.11\" style=\"fill:none;\" x1=\"190.5\" x2=\"190.5\" y1=\"228\"\n",
       "      /><line y2=\"230.11\" style=\"fill:none;\" x1=\"222.2587\" x2=\"222.2587\" y1=\"228\"\n",
       "      /><line y2=\"230.11\" style=\"fill:none;\" x1=\"240.8363\" x2=\"240.8363\" y1=\"228\"\n",
       "      /><line y2=\"230.11\" style=\"fill:none;\" x1=\"254.0173\" x2=\"254.0173\" y1=\"228\"\n",
       "      /><line y2=\"230.11\" style=\"fill:none;\" x1=\"264.2413\" x2=\"264.2413\" y1=\"228\"\n",
       "      /><line y2=\"230.11\" style=\"fill:none;\" x1=\"272.595\" x2=\"272.595\" y1=\"228\"\n",
       "      /><line y2=\"230.11\" style=\"fill:none;\" x1=\"279.6578\" x2=\"279.6578\" y1=\"228\"\n",
       "      /><line y2=\"230.11\" style=\"fill:none;\" x1=\"285.776\" x2=\"285.776\" y1=\"228\"\n",
       "      /><line y2=\"230.11\" style=\"fill:none;\" x1=\"291.1726\" x2=\"291.1726\" y1=\"228\"\n",
       "      /><line y2=\"230.11\" style=\"fill:none;\" x1=\"296\" x2=\"296\" y1=\"228\"\n",
       "      /><line y2=\"230.11\" style=\"fill:none;\" x1=\"327.7587\" x2=\"327.7587\" y1=\"228\"\n",
       "      /><line y2=\"230.11\" style=\"fill:none;\" x1=\"346.3363\" x2=\"346.3363\" y1=\"228\"\n",
       "      /><line y2=\"230.11\" style=\"fill:none;\" x1=\"359.5173\" x2=\"359.5173\" y1=\"228\"\n",
       "      /><line y2=\"230.11\" style=\"fill:none;\" x1=\"369.7413\" x2=\"369.7413\" y1=\"228\"\n",
       "      /><line y2=\"230.11\" style=\"fill:none;\" x1=\"378.095\" x2=\"378.095\" y1=\"228\"\n",
       "      /><line y2=\"230.11\" style=\"fill:none;\" x1=\"385.1578\" x2=\"385.1578\" y1=\"228\"\n",
       "      /><line y2=\"230.11\" style=\"fill:none;\" x1=\"391.276\" x2=\"391.276\" y1=\"228\"\n",
       "      /><line y2=\"230.11\" style=\"fill:none;\" x1=\"396.6726\" x2=\"396.6726\" y1=\"228\"\n",
       "      /><line y2=\"230.11\" style=\"fill:none;\" x1=\"401.5\" x2=\"401.5\" y1=\"228\"\n",
       "      /><line y2=\"230.11\" style=\"fill:none;\" x1=\"433.2587\" x2=\"433.2587\" y1=\"228\"\n",
       "      /><line y2=\"230.11\" style=\"fill:none;\" x1=\"451.8363\" x2=\"451.8363\" y1=\"228\"\n",
       "      /><line y2=\"230.11\" style=\"fill:none;\" x1=\"465.0173\" x2=\"465.0173\" y1=\"228\"\n",
       "      /><line y2=\"230.11\" style=\"fill:none;\" x1=\"475.2413\" x2=\"475.2413\" y1=\"228\"\n",
       "      /><line y2=\"230.11\" style=\"fill:none;\" x1=\"483.595\" x2=\"483.595\" y1=\"228\"\n",
       "      /><line y2=\"230.11\" style=\"fill:none;\" x1=\"490.6578\" x2=\"490.6578\" y1=\"228\"\n",
       "      /><line y2=\"230.11\" style=\"fill:none;\" x1=\"496.776\" x2=\"496.776\" y1=\"228\"\n",
       "      /><line y2=\"230.11\" style=\"fill:none;\" x1=\"502.1726\" x2=\"502.1726\" y1=\"228\"\n",
       "      /><line y2=\"230.11\" style=\"fill:none;\" x1=\"507\" x2=\"507\" y1=\"228\"\n",
       "    /></g\n",
       "    ><g transform=\"translate(76,391)\" style=\"font-size:10px; fill:rgb(102,102,102); text-rendering:geometricPrecision; image-rendering:optimizeQuality; color-rendering:optimizeQuality; font-family:'Helvetica Neue'; stroke:rgb(102,102,102); color-interpolation:linearRGB;\"\n",
       "    ><text x=\"0\" xml:space=\"preserve\" y=\"0\" style=\"stroke:none;\"\n",
       "      >10</text\n",
       "    ></g\n",
       "    ><g transform=\"translate(88,386)\" style=\"font-size:8px; fill:rgb(102,102,102); text-rendering:geometricPrecision; image-rendering:optimizeQuality; color-rendering:optimizeQuality; font-family:'Helvetica Neue'; stroke:rgb(102,102,102); color-interpolation:linearRGB;\"\n",
       "    ><text x=\"0\" xml:space=\"preserve\" y=\"0\" style=\"stroke:none;\"\n",
       "      >5</text\n",
       "    ></g\n",
       "    ><g transform=\"translate(182,391)\" style=\"font-size:10px; fill:rgb(102,102,102); text-rendering:geometricPrecision; image-rendering:optimizeQuality; color-rendering:optimizeQuality; font-family:'Helvetica Neue'; stroke:rgb(102,102,102); color-interpolation:linearRGB;\"\n",
       "    ><text x=\"0\" xml:space=\"preserve\" y=\"0\" style=\"stroke:none;\"\n",
       "      >10</text\n",
       "    ></g\n",
       "    ><g transform=\"translate(194,386)\" style=\"font-size:8px; fill:rgb(102,102,102); text-rendering:geometricPrecision; image-rendering:optimizeQuality; color-rendering:optimizeQuality; font-family:'Helvetica Neue'; stroke:rgb(102,102,102); color-interpolation:linearRGB;\"\n",
       "    ><text x=\"0\" xml:space=\"preserve\" y=\"0\" style=\"stroke:none;\"\n",
       "      >6</text\n",
       "    ></g\n",
       "    ><g transform=\"translate(287,391)\" style=\"font-size:10px; fill:rgb(102,102,102); text-rendering:geometricPrecision; image-rendering:optimizeQuality; color-rendering:optimizeQuality; font-family:'Helvetica Neue'; stroke:rgb(102,102,102); color-interpolation:linearRGB;\"\n",
       "    ><text x=\"0\" xml:space=\"preserve\" y=\"0\" style=\"stroke:none;\"\n",
       "      >10</text\n",
       "    ></g\n",
       "    ><g transform=\"translate(299,386)\" style=\"font-size:8px; fill:rgb(102,102,102); text-rendering:geometricPrecision; image-rendering:optimizeQuality; color-rendering:optimizeQuality; font-family:'Helvetica Neue'; stroke:rgb(102,102,102); color-interpolation:linearRGB;\"\n",
       "    ><text x=\"0\" xml:space=\"preserve\" y=\"0\" style=\"stroke:none;\"\n",
       "      >7</text\n",
       "    ></g\n",
       "    ><g transform=\"translate(393,391)\" style=\"font-size:10px; fill:rgb(102,102,102); text-rendering:geometricPrecision; image-rendering:optimizeQuality; color-rendering:optimizeQuality; font-family:'Helvetica Neue'; stroke:rgb(102,102,102); color-interpolation:linearRGB;\"\n",
       "    ><text x=\"0\" xml:space=\"preserve\" y=\"0\" style=\"stroke:none;\"\n",
       "      >10</text\n",
       "    ></g\n",
       "    ><g transform=\"translate(405,386)\" style=\"font-size:8px; fill:rgb(102,102,102); text-rendering:geometricPrecision; image-rendering:optimizeQuality; color-rendering:optimizeQuality; font-family:'Helvetica Neue'; stroke:rgb(102,102,102); color-interpolation:linearRGB;\"\n",
       "    ><text x=\"0\" xml:space=\"preserve\" y=\"0\" style=\"stroke:none;\"\n",
       "      >8</text\n",
       "    ></g\n",
       "    ><g transform=\"translate(498,391)\" style=\"font-size:10px; fill:rgb(102,102,102); text-rendering:geometricPrecision; image-rendering:optimizeQuality; color-rendering:optimizeQuality; font-family:'Helvetica Neue'; stroke:rgb(102,102,102); color-interpolation:linearRGB;\"\n",
       "    ><text x=\"0\" xml:space=\"preserve\" y=\"0\" style=\"stroke:none;\"\n",
       "      >10</text\n",
       "    ></g\n",
       "    ><g transform=\"translate(510,386)\" style=\"font-size:8px; fill:rgb(102,102,102); text-rendering:geometricPrecision; image-rendering:optimizeQuality; color-rendering:optimizeQuality; font-family:'Helvetica Neue'; stroke:rgb(102,102,102); color-interpolation:linearRGB;\"\n",
       "    ><text x=\"0\" xml:space=\"preserve\" y=\"0\" style=\"stroke:none;\"\n",
       "      >9</text\n",
       "    ></g\n",
       "    ><g style=\"fill:rgb(102,102,102); text-rendering:geometricPrecision; image-rendering:optimizeQuality; color-rendering:optimizeQuality; stroke-linejoin:round; stroke:rgb(102,102,102); color-interpolation:linearRGB; stroke-width:0.5;\"\n",
       "    ><line y2=\"228\" style=\"fill:none;\" x1=\"85\" x2=\"85\" y1=\"374\"\n",
       "      /><line y2=\"228\" style=\"fill:none;\" x1=\"507\" x2=\"507\" y1=\"374\"\n",
       "      /><line y2=\"372.5686\" style=\"fill:none;\" x1=\"85\" x2=\"89.22\" y1=\"372.5686\"\n",
       "      /><line y2=\"324.8562\" style=\"fill:none;\" x1=\"85\" x2=\"89.22\" y1=\"324.8562\"\n",
       "      /><line y2=\"277.1438\" style=\"fill:none;\" x1=\"85\" x2=\"89.22\" y1=\"277.1438\"\n",
       "      /><line y2=\"229.4314\" style=\"fill:none;\" x1=\"85\" x2=\"89.22\" y1=\"229.4314\"\n",
       "      /><line y2=\"372.5686\" style=\"fill:none;\" x1=\"507\" x2=\"502.78\" y1=\"372.5686\"\n",
       "      /><line y2=\"324.8562\" style=\"fill:none;\" x1=\"507\" x2=\"502.78\" y1=\"324.8562\"\n",
       "      /><line y2=\"277.1438\" style=\"fill:none;\" x1=\"507\" x2=\"502.78\" y1=\"277.1438\"\n",
       "      /><line y2=\"229.4314\" style=\"fill:none;\" x1=\"507\" x2=\"502.78\" y1=\"229.4314\"\n",
       "    /></g\n",
       "    ><g transform=\"translate(81,372.5686)\" style=\"font-size:10px; fill:rgb(102,102,102); text-rendering:geometricPrecision; image-rendering:optimizeQuality; color-rendering:optimizeQuality; font-family:'Helvetica Neue'; stroke:rgb(102,102,102); color-interpolation:linearRGB;\"\n",
       "    ><text x=\"-21\" xml:space=\"preserve\" y=\"3.5\" style=\"stroke:none;\"\n",
       "      >-180</text\n",
       "    ></g\n",
       "    ><g transform=\"translate(81,324.8562)\" style=\"font-size:10px; fill:rgb(102,102,102); text-rendering:geometricPrecision; image-rendering:optimizeQuality; color-rendering:optimizeQuality; font-family:'Helvetica Neue'; stroke:rgb(102,102,102); color-interpolation:linearRGB;\"\n",
       "    ><text x=\"-21\" xml:space=\"preserve\" y=\"3.5\" style=\"stroke:none;\"\n",
       "      >-135</text\n",
       "    ></g\n",
       "    ><g transform=\"translate(81,277.1438)\" style=\"font-size:10px; fill:rgb(102,102,102); text-rendering:geometricPrecision; image-rendering:optimizeQuality; color-rendering:optimizeQuality; font-family:'Helvetica Neue'; stroke:rgb(102,102,102); color-interpolation:linearRGB;\"\n",
       "    ><text x=\"-16\" xml:space=\"preserve\" y=\"3.5\" style=\"stroke:none;\"\n",
       "      >-90</text\n",
       "    ></g\n",
       "    ><g transform=\"translate(81,229.4314)\" style=\"font-size:10px; fill:rgb(102,102,102); text-rendering:geometricPrecision; image-rendering:optimizeQuality; color-rendering:optimizeQuality; font-family:'Helvetica Neue'; stroke:rgb(102,102,102); color-interpolation:linearRGB;\"\n",
       "    ><text x=\"-16\" xml:space=\"preserve\" y=\"3.5\" style=\"stroke:none;\"\n",
       "      >-45</text\n",
       "    ></g\n",
       "    ><g transform=\"translate(57,300.9999) rotate(-90)\" style=\"font-size:11px; text-rendering:geometricPrecision; color-rendering:optimizeQuality; image-rendering:optimizeQuality; font-family:'Helvetica Neue'; color-interpolation:linearRGB;\"\n",
       "    ><text x=\"-29.5\" xml:space=\"preserve\" y=\"-3\" style=\"stroke:none;\"\n",
       "      >Phase (deg)</text\n",
       "    ></g\n",
       "    ><g style=\"stroke-linecap:butt; fill:rgb(0,114,189); text-rendering:geometricPrecision; image-rendering:optimizeQuality; color-rendering:optimizeQuality; stroke-linejoin:round; stroke:rgb(0,114,189); color-interpolation:linearRGB; stroke-width:0.5;\"\n",
       "    ><path d=\"M85 258.0061 L92.1525 270.9458 L99.3051 284.3161 L106.4576 297.1902 L113.6102 308.8342 L120.7627 318.9059 L127.9153 327.3983 L135.0678 334.4807 L142.2203 340.3741 L149.3729 345.289 L156.5254 349.4039 L163.678 352.8633 L170.8305 355.7827 L177.983 358.2542 L185.1356 360.3518 L192.2881 362.1357 L199.4407 363.655 L206.5932 364.9505 L213.7458 366.0561 L220.8983 367.0002 L228.0509 367.8068 L235.2034 368.4961 L242.3559 369.0854 L249.5085 369.5893 L256.661 370.0202 L263.8136 370.3887 L270.9661 370.7039 L278.1187 370.9734 L285.2712 371.204 L292.4237 371.4013 L299.5763 371.57 L306.7288 371.7144 L313.8813 371.8379 L321.0339 371.9435 L328.1864 372.0338 L335.339 372.1111 L342.4915 372.1772 L349.6441 372.2338 L356.7966 372.2822 L363.9492 372.3236 L371.1017 372.359 L378.2542 372.3893 L385.4068 372.4152 L392.5593 372.4374 L399.7119 372.4564 L406.8644 372.4726 L414.0169 372.4865 L421.1695 372.4984 L428.322 372.5085 L435.4746 372.5172 L442.6271 372.5246 L449.7797 372.531 L456.9322 372.5364 L464.0847 372.5411 L471.2373 372.5451 L478.3898 372.5485 L485.5424 372.5514 L492.6949 372.5539 L499.8474 372.556 L507 372.5578\" style=\"fill:none; fill-rule:evenodd;\"\n",
       "    /></g\n",
       "    ><g transform=\"translate(295,44.45)\" style=\"font-size:11px; text-rendering:geometricPrecision; image-rendering:optimizeQuality; color-rendering:optimizeQuality; font-family:'Helvetica Neue'; color-interpolation:linearRGB; font-weight:bold;\"\n",
       "    ><text x=\"-38\" xml:space=\"preserve\" y=\"-3\" style=\"stroke:none;\"\n",
       "      >Bode Diagram</text\n",
       "    ></g\n",
       "    ><g transform=\"translate(295,392.5)\" style=\"font-size:11px; text-rendering:geometricPrecision; color-rendering:optimizeQuality; image-rendering:optimizeQuality; font-family:'Helvetica Neue'; color-interpolation:linearRGB;\"\n",
       "    ><text x=\"-45\" xml:space=\"preserve\" y=\"11\" style=\"stroke:none;\"\n",
       "      >Frequency  (rad/s)</text\n",
       "    ></g\n",
       "  ></g\n",
       "></svg\n",
       ">\n"
      ]
     },
     "metadata": {
      "filenames": {
       "image/svg+xml": "/Users/eechris/code/src/github.com/cpjobling/eg-247-textbook/_build/jupyter_execute/dt_systems/4/dt_models_92_0.svg"
      }
     },
     "output_type": "display_data"
    }
   ],
   "source": [
    "doc bode\n",
    "bode(Hs,{10e4,10e8})\n",
    "grid"
   ]
  },
  {
   "cell_type": "markdown",
   "id": "a335f2d4",
   "metadata": {
    "slideshow": {
     "slide_type": "subslide"
    }
   },
   "source": [
    "#### Sampling Frequency\n",
    "\n",
    "From the bode diagram, the frequency roll-off is -40 dB/decade for frequencies $\\omega \\gg \\omega_c$. So, $|H(j\\omega)| = -80$&nbsp;dB  is approximately 2 decades above $\\omega_c$."
   ]
  },
  {
   "cell_type": "code",
   "execution_count": 18,
   "id": "8f22cba6",
   "metadata": {
    "slideshow": {
     "slide_type": "fragment"
    }
   },
   "outputs": [
    {
     "name": "stdout",
     "output_type": "stream",
     "text": [
      "w_stop =\n",
      "   1.2566e+07\n"
     ]
    }
   ],
   "source": [
    "w_stop = 100*wc"
   ]
  },
  {
   "cell_type": "markdown",
   "id": "c07eb08b",
   "metadata": {
    "slideshow": {
     "slide_type": "subslide"
    }
   },
   "source": [
    "To avoid aliasing, we should choose a sampling frequency twice this = ?"
   ]
  },
  {
   "cell_type": "markdown",
   "id": "a3393c66",
   "metadata": {
    "slideshow": {
     "slide_type": "fragment"
    }
   },
   "source": [
    "$\\omega_s = 2\\times \\omega_\\mathrm{stop}$&nbsp;rad/s."
   ]
  },
  {
   "cell_type": "code",
   "execution_count": 19,
   "id": "79a237db",
   "metadata": {
    "slideshow": {
     "slide_type": "fragment"
    }
   },
   "outputs": [
    {
     "name": "stdout",
     "output_type": "stream",
     "text": [
      "ws =\n",
      "   2.5133e+07\n"
     ]
    }
   ],
   "source": [
    "ws = 2* w_stop"
   ]
  },
  {
   "cell_type": "markdown",
   "id": "0b1ff7a5",
   "metadata": {
    "slideshow": {
     "slide_type": "subslide"
    }
   },
   "source": [
    "Sampling frequency ($f_s$) in Hz  = ?"
   ]
  },
  {
   "cell_type": "markdown",
   "id": "3c6c3122",
   "metadata": {
    "slideshow": {
     "slide_type": "fragment"
    }
   },
   "source": [
    "$$f_s = \\omega_s/(2\\pi)\\;\\mathrm{Mhz}$$"
   ]
  },
  {
   "cell_type": "code",
   "execution_count": 20,
   "id": "3526ab16",
   "metadata": {
    "slideshow": {
     "slide_type": "fragment"
    }
   },
   "outputs": [
    {
     "name": "stdout",
     "output_type": "stream",
     "text": [
      "fs =\n",
      "     4000000\n"
     ]
    }
   ],
   "source": [
    "fs = ws/(2*pi)"
   ]
  },
  {
   "cell_type": "markdown",
   "id": "1be8b809",
   "metadata": {
    "slideshow": {
     "slide_type": "subslide"
    }
   },
   "source": [
    "$$f_s = 4\\;\\mathrm{Mhz}$$\n",
    "\n",
    "Sampling time $T_s = ?$"
   ]
  },
  {
   "cell_type": "markdown",
   "id": "f2d8584a",
   "metadata": {
    "slideshow": {
     "slide_type": "fragment"
    }
   },
   "source": [
    "$T_s = 1/fs\\;\\mathrm{s}$"
   ]
  },
  {
   "cell_type": "code",
   "execution_count": 21,
   "id": "7f79c2e4",
   "metadata": {
    "slideshow": {
     "slide_type": "fragment"
    }
   },
   "outputs": [
    {
     "name": "stdout",
     "output_type": "stream",
     "text": [
      "Ts =\n",
      "   2.5000e-07\n"
     ]
    }
   ],
   "source": [
    "Ts = 1/fs"
   ]
  },
  {
   "cell_type": "markdown",
   "id": "3c36d3c1",
   "metadata": {
    "slideshow": {
     "slide_type": "subslide"
    }
   },
   "source": [
    "$$T_s = 1/f_s = 0.25\\;\\mu\\mathrm{s}$$"
   ]
  },
  {
   "cell_type": "markdown",
   "id": "8ee70831",
   "metadata": {
    "slideshow": {
     "slide_type": "subslide"
    }
   },
   "source": [
    "#### Digital Butterworth\n",
    "\n",
    "zero-order-hold equivalent"
   ]
  },
  {
   "cell_type": "code",
   "execution_count": 22,
   "id": "312c1a6d",
   "metadata": {},
   "outputs": [
    {
     "name": "stdout",
     "output_type": "stream",
     "text": [
      "\n",
      "Hz =\n"
     ]
    },
    {
     "name": "stdout",
     "output_type": "stream",
     "text": [
      " \n"
     ]
    },
    {
     "name": "stdout",
     "output_type": "stream",
     "text": [
      "  0.0004862 z + 0.0004791\n"
     ]
    },
    {
     "name": "stdout",
     "output_type": "stream",
     "text": [
      "  -----------------------\n"
     ]
    },
    {
     "name": "stdout",
     "output_type": "stream",
     "text": [
      "  z^2 - 1.956 z + 0.9565\n"
     ]
    },
    {
     "name": "stdout",
     "output_type": "stream",
     "text": [
      " \n"
     ]
    },
    {
     "name": "stdout",
     "output_type": "stream",
     "text": [
      "Sample time: 2.5e-07 seconds\n"
     ]
    },
    {
     "name": "stdout",
     "output_type": "stream",
     "text": [
      "Discrete-time transfer function.\n",
      "\n"
     ]
    }
   ],
   "source": [
    "Hz = c2d(Hs, Ts)"
   ]
  },
  {
   "cell_type": "markdown",
   "id": "473b060d",
   "metadata": {
    "slideshow": {
     "slide_type": "subslide"
    }
   },
   "source": [
    "#### Step response"
   ]
  },
  {
   "cell_type": "code",
   "execution_count": 23,
   "id": "b74cdba4",
   "metadata": {
    "slideshow": {
     "slide_type": "fragment"
    }
   },
   "outputs": [
    {
     "data": {
      "image/svg+xml": [
       "<?xml version=\"1.0\"?>\n",
       "<!DOCTYPE svg PUBLIC '-//W3C//DTD SVG 1.0//EN'\n",
       "          'http://www.w3.org/TR/2001/REC-SVG-20010904/DTD/svg10.dtd'>\n",
       "<svg xmlns:xlink=\"http://www.w3.org/1999/xlink\" style=\"fill-opacity:1; color-rendering:auto; color-interpolation:auto; text-rendering:auto; stroke:black; stroke-linecap:square; stroke-miterlimit:10; shape-rendering:auto; stroke-opacity:1; fill:black; stroke-dasharray:none; font-weight:normal; stroke-width:1; font-family:'Dialog'; font-style:normal; stroke-linejoin:miter; font-size:12px; stroke-dashoffset:0; image-rendering:auto;\" width=\"560\" height=\"420\" xmlns=\"http://www.w3.org/2000/svg\"\n",
       "><!--Generated by the Batik Graphics2D SVG Generator--><defs id=\"genericDefs\"\n",
       "  /><g\n",
       "  ><defs id=\"defs1\"\n",
       "    ><clipPath clipPathUnits=\"userSpaceOnUse\" id=\"clipPath1\"\n",
       "      ><path d=\"M0 0 L560 0 L560 420 L0 420 L0 0 Z\"\n",
       "      /></clipPath\n",
       "      ><clipPath clipPathUnits=\"userSpaceOnUse\" id=\"clipPath2\"\n",
       "      ><path d=\"M0 0 L1119.9999 0 L1119.9999 839.9999 L0 839.9999 L0 0 Z\"\n",
       "      /></clipPath\n",
       "    ></defs\n",
       "    ><g style=\"fill:rgb(240,240,240); stroke:rgb(240,240,240);\"\n",
       "    ><rect x=\"0\" y=\"0\" width=\"560\" style=\"clip-path:url(#clipPath1); stroke:none;\" height=\"420\"\n",
       "    /></g\n",
       "    ><g transform=\"scale(0.5,0.5)\"\n",
       "    ><image x=\"0\" y=\"0\" width=\"1120\" xlink:href=\"data:image/png;base64,iVBORw0KGgoAAAANSUhEUgAABGAAAANICAIAAAAHNA4rAABP40lEQVR42uzdi3dV\n",
       "5YHw4aBV0NaO2mVFW512xrE4bbWXcZadpSOdcar1NtqFVduvTq0tCQmgDXJRUohA\n",
       "KF4oKZgIoyhOxIooAlEghhBRRGIuXEQUEhMgDBENyfwH872yZc/x5AomkOQ8z9rL\n",
       "lbznnHB4PZ6cn3vvd6f9DwAAAIekmQIAAACBBAAAIJAAAAAEEgAAgEACAAAQSAAA\n",
       "AAIJAABAIAEAAAgkAAAAgQQAACCQAAAABBIAAIBAAgAAEEgAAAACCQAAQCABAAAI\n",
       "JAAAAIEEAAAgkAAAAAQSAACAQAIAABBIAAAAAgkAAEAgAQAACCQAAACBBAAAIJAA\n",
       "AAAEEgAAgEACAAAQSAAAAAIJAABAIAEAAAgkAAAAgQQAACCQAAAABBIAAIBAAgAA\n",
       "QCABAAAIJAAAAIEEAAAgkAAAAAQSAACAQAIAABBIAAAAAgkAAEAgAQAACCQAAACB\n",
       "BAAAIJAAAAAEEgAAgEACAAAQSAAAAAIJAABAIAEAAAgkAAAAgQQAACCQAAAABBIA\n",
       "AIBAAgAAEEgAAAACCQAAQCABAAAIJAAAAIEEAAAgkAAAAAQSAACAQAJgwPjoo48q\n",
       "KiqWLFmydOnSTZs2NTU1mRMABBIAKaexsfG+++4788wz0xKccsopv/3tb7du3Rrf\n",
       "rbW1temwY/n07rrrriEdOOecc6666qrFixf7lwiAQAKgB4Ta+cd//Me0Dpx99tnb\n",
       "tm2L7vn+++/H4y+//PIxe4a/+tWv0rqSlZXlXyUAAgmAzysjIyPOjKFDh44YMeK6\n",
       "66778pe/HA9ecsklbQNp2bJlxyuQTj7kC1/4QlIjvfLKK/5tAiCQAPhc/u7v/i4K\n",
       "jGHDhu3fvz8a3Ldv3/e+9724PT744IM+Ekg7d+6MBg8ePFhSUvKv//qv8U2jR4/2\n",
       "bxMAgQTA0WtqaooD45Zbbkm8acGCBScd9vLLL995553XXnttfOfLL7/89ttvf+qp\n",
       "p+L7b9iw4be//e2ll1761a9+dfjw4RMmTHjnnXfiW0eOHHn7IRUVFY888siPf/zj\n",
       "s88++7LLLgtVk3i37gdSJDRSfNN1112XeFPnzydYtWrVL37xi4suuuiss8762te+\n",
       "Fu6Zk5NTW1t7dM85jGRmZl5xxRXhPn//93//85///Mknn0y6T+IPfOaZZ8ITHjp0\n",
       "6Ne//vUbbrjhrbfeOqLn1s2/IwACCYAjc+6550aBMWjQoN/85jevvvpqS0tL27uF\n",
       "W9ue+ZORkRHdmpube/LJJyfdGj7cl5aWRneIj9m7+OKL294t/KFHF0jr1q2Lb5o0\n",
       "aVI83uXzefTRR0844YS2f6Pzzz8/Pueq+885/LQvfvGLbX/a1Vdf3dDQEN8t/oHX\n",
       "XHNN0nwOGTJk/fr13X9u3fk7AiCQADhiIYqSPmSfccYZ119//cMPP7xly5b4bv/2\n",
       "b/92xRVXxPf5/ve/f9VVV82ZMyfc9F//9V/x+Ne//vVLLrkk/vbUU0+tq6tLbIMg\n",
       "fPr/7ne/+7d/+7fxyDnnnPPRRx8daSBt3779Zz/7WXzTypUro/Eun09ra+vpp58e\n",
       "jVx66aXTp0//9a9/HW6KRm6//faknun8Ob/22msnnnhi3DnhB4ab4rvFPy3pBwZf\n",
       "+tKXEr8dMWLE/xxaKrA7z607cw6AQALgiH344YeXXXZZu0vDhSr493//9/jIrnbP\n",
       "QTpw4MDQoUOjwd/97nfR3qfNmzfHn/InTJiQ2AYnn3zy8uXLo8fm5eXFPzA/P787\n",
       "gXT++ef/zSHnnXde4lP96U9/evDgwW4+n4qKiviB8VGCU6dO/dIh3/rWt5J6pvPn\n",
       "HDImDpV4D0/i0hdtd6OdcsopTz755Mcff/zmm2/Gf5FvfOMb4T7deW7dnHMABBIA\n",
       "RyN8wi4sLPzhD3/Y7nF0F110USeLNJSVlcVH6K1bt67isOuuuy7OhsQ2SDrTadiw\n",
       "YdH4TTfd1J1Aatd3vvOdxsbG7j+fnTt3xo8dPHjw7bffvmDBghAYSX9ud55zyMv4\n",
       "cLg//elP8X1Cw8S5EvIm6Qfedttt8T1/+ctfxtUUvu3Oc+vmnAMgkAD4XEIChY/j\n",
       "t9566xlnnJFYILm5uR0F0rx58zqvl5NOOimxDWbPnp34J/7ud7+Lxr/3ve91J5CG\n",
       "Dh36zUOSnuHll19+RM8nNE+7J/lMnjw5vgxud57z+vXr44dv2rQp8W4//vGPo/Ew\n",
       "n0k/8P7774/v9uCDD0aDJ554YjTS5XPr5t8RAIEEwJEJnTP1kOnTp3/88cfxePg6\n",
       "Jycn/sAdPut3FEgzZszo8iquu3fvjtugoKAg8QmMHTs2Gg/N051Ais9BamlpKSkp\n",
       "iXfmBOHb7j+f5ubm8Ewuu+yyttdTuvLKK1tbWxN7ppPnvGbNmviBVVVViXf76U9/\n",
       "Gh/+lxRIf/zjH+O7zZ07NymQunxu3fw7enkDCCQAjkziR+2ysrKkW//6r/86vkRS\n",
       "R4H0/PPPx4d7hXppaE/4TB+3QXZ2duIfccMNN8Qf/Y8okCKJ+1JmzpzZ/ecT/4TG\n",
       "xsa//OUvI0eO/Ku/+qv4R1VUVCT2TCfPedeuXfGjXnjhhcS7fetb34rG77nnniMK\n",
       "pC6f25H+HQEQSAB0y+rVq+NP3v/wD/+QuCZ1eXn5SSedlHjOTGIgFRYWRnd79913\n",
       "4zOXFi5cGD980aJF/3hItPBa3Abnnnvunj17ovts27Zt8ODB0XjIgKMIpN27d8c3\n",
       "jR07tpvPJz8//4uHfP/734/vkLgv6OWXX+7+cz7rrLPixbvjLFmxYkX80x5//PHu\n",
       "B1J3nls35xwAgQTAkTlw4EDiUWqnnnrqtdde+x//8R/Dhw+P6yh47rnnwp1DPsUj\n",
       "Z599dnwt1F/84hfxam8hEh588MGQNEOGDEk8gSdxhevwJ06fPn3q1Klf+9rX4uXy\n",
       "3n777aMIpOCUU06JbgpPOxrp8vkkrhSXmZkZmmfr1q0hKqKRL3zhC/v37+/+c37o\n",
       "oYcSL3w0Z86ce++9N74s0oUXXhivYN6dQOrmc+vOnAMgkAA4YuEjeLwPpF1ZWVnx\n",
       "neOD7hIvFPvBBx8kjSeunRAaLLEN2r0EaiiBTp5h54F00UUXJR2k153nc9NNN3X0\n",
       "901PT0/qmc6fc0tLS+jJdn9UyKTozKjuB1I3n1t3/o4ACCQAjkaojrvvvvu0005L\n",
       "+qj93e9+95lnnkk8m6WsrOziiy9OCqTgv//7v++66674eqbRVVDDrW1XhPvDH/5w\n",
       "8803x1dWPeOMM6ZPn97500u8lG3bS6DGe1cGDx4cHwjX5fNpbm4eP3782Wefnfj3\n",
       "Dd9OmjQp/vt2/zmHRgrN85WvfCVxHblrrrnmnXfeSbxbu4FUWFjYdpGGLp9bd/6O\n",
       "AAgkAI7egQMHqqqqli1bVlRU9Nprr3WyDNqHH34YmmrXrl3ho3xSJ9TU1Cxfvvyt\n",
       "t94K9+mkDcKH+9WrV4c/rlfXEujk+cQpUl1d/coh4clEl5r9PM85TEtxcXH44xKX\n",
       "BDw6nT+37v8dARBIAPQ57e488ZwBEEgACCTPGQCBBEAKO/PMM79wyKxZszxnAAQS\n",
       "AACAQAIAABBIAAAAAgkAAEAgAQAACCQAAACBBAAAIJAAAAAEEsdLbW3t6tWr9+/f\n",
       "3507NzU1VVdXl5aWVlVVha/NHgAACKQBpaCgYOTIkVu2bOn8bq2trcXFxZmZmSMP\n",
       "Gzt2bBgxgQAAIJAGggMHDixdujSqnS4Dac2aNeFuo0aNKioqKikpeeyxx9LT08PI\n",
       "+vXrzSQAAAikfmzTpk1TpkxJ3B3UeSC1tLRkZ2eHu5WXl8eDUVzNnDnTfAIAgEDq\n",
       "34GUc9ioUaO6DKS6urpwnwkTJrS2tsaDDQ0NYXD06NHmEwAABNIAkZ+f32Ug7dix\n",
       "I6TU448/njQYHjh+/HhzCAAAAimFAqldCxYsCA+cO3euOQQAAIGUuoHU2tq6ePHi\n",
       "aM2GXbt2dXLPRx55ZCQAAAPLrFmzfIoWSALpU6GI8vLywkOysrIqKio6v3O42//S\n",
       "+8yzqTbPmGrzjKk+xlPtU7RAEkifrGW3bNmyaO270Ei1tbVdPsT7lN8HphrzbKox\n",
       "z6ZaICGQBmAgNTc3z5s3L7o+bElJSeJydgLJ7wNTjXk21ZhnUy2QEEipFUjRSUdT\n",
       "pkzZs2dP93+49ym/D0w15tlUY55NtUBCIPX7QNqxY8fKQ6JvQxSNGjVq9OjRjY2N\n",
       "R/TDvU/5fWCqMc+mGvNsqgUSAqnfB9KKFSuiJUqib9etWxddE/bhNpIujiSQ/D4w\n",
       "1ZhnU415NtUCCYHUj0VnFrUbSBkZGdG3RUVFHS3yeN999wkkvw9MNebZVGOeTbVA\n",
       "QiDhELu+ori42CSYavOMqTbPmGqBJJAQSAAACCSBhEACAEAgCSQEEgAAAkkgIZAA\n",
       "ABBIAgmBBACAQBJICCQAAASSQEIgAQAgkAQSAgkAAIEkkBBIAAAIJIGEQAIAQCAJ\n",
       "JAQSAAACSSAhkAAAEEgCCYEEAIBAEkgIJAAABBICCYEEACCQEEgIJAAAgYRAQiAB\n",
       "AAgkBBICCQBAICGQEEgAAAIJgYRAAgAQSAgkBBIAgEBCICGQAAAQSAIJgQQAgEAS\n",
       "SAgkAAAEkkBCIAEAIJAEEgIJAACBJJAQSAAACCSBhEACAEAgCSQEEgAAAkkgIZAA\n",
       "ABBIAgmBBACAQBJICCQAAASSQEIgAQAgkAQSAgkAAIEkkBBIAAAIJIGEQAIAQCAJ\n",
       "JAQSAAACSSAhkAAAEEgCCYEEAIBAEkgIJAAABJJAQiABACCQBBICCQAAgSSQEEgA\n",
       "AAgkgYRAAgBAIAkkBBIAAAJJICGQAAAQSAIJgQQAgEASSAgkAAAEkkBCIAEAIJAE\n",
       "EgIJAACBJJBMgUACAEAgIZAQSAAAAgmBhEACABBICCQEEgCAQEIgIZAAAAQSAgmB\n",
       "BAAgkBBICCQAAIGEQEIgAQAIJAQSAgkAAIEkkBBIAAAIJIGEQAIAQCAJJAQSAAAC\n",
       "SSAhkAAAEEgCCYEEAIBAEkgIJAAABJJAQiABACCQBBICCQAAgSSQEEgAAAgkgYRA\n",
       "AgBAIAkkBBIAAAJJICGQAAAQSAIJgQQAgEASSAgkAAAEkkBCIAEAIJAEEgIJ4Lgr\n",
       "r2s5is28AQJJICGQAPpH6uSW1Efb8ILqpC0tuyxpa3uf7mxtf04nPzB+PmETWoBA\n",
       "EkgIJIAe07Z82pZJRzVybIKk7R+aGEgdhVYnNeVfOiCQBBICCUhpcVe0DYm25TOQ\n",
       "/srt1pSIAgSSQEIgASmdQ3EGOBTt80eU2QMEkkBCIAFySET9X0HZAQUIJIGEQAL6\n",
       "lqQzcORQX2inxB1Q2gkEEgIJgQT0ehQlfv52uFffz6fOD97TTiCQEEgCSSABR/Mh\n",
       "O/5UbTfRQPqXq51AICGQBJJAArrW9vA5c6KdtBMIJIGEQAJSsYscPod2AoEkkBBI\n",
       "QOpGkdOKOPbt5GUGAkkgIZCAPtpF/n8/x76d2l7rSTuBQBJICCTg+KRRdBydLqLv\n",
       "5FPSpbTatlO8mS4QSAIJgQT0wAdQ5xfRr9sp3jppJzugEEgIJAQS0PWHy7BF+4t0\n",
       "EQO7nZJ2QDnxCYGEQEIgAZ9hnW5SvKC6c+KTiEIgIZAGmtra2tWrV+/fv18gAXEX\n",
       "xR8BzQZ0lE+d74CKI8qeKASSQKKfKSgoCP9JbNmyRSBBikv8hGc2oKciqjt7okQU\n",
       "Akkg0SccOHBg6dKlIw8RSJDKn+Hik9d9MoO+HFFqCoEkkOgtmzZtmjJlSmZm5sjD\n",
       "BBKkLAswQH+JqM9ZU5bmRyAJJDoLpJzDRo0aJZAgBTnRCFKtphKv75y0tVtTbfdT\n",
       "6SuBhEBKCfn5+QIJUurDU3xAndkAkrKq3UBK2iX1OftKaAkkgYRAAvoQB9QBx7ev\n",
       "OgmttocItvsDpZdAEkj0oUBKO2RkG9F4Ox/FjBs33jfGOzmgzvwYN26874x/enHq\n",
       "r18StrbFlfaj/whbO6dg3fKnsHWeXl3GWNuf09Gf2/X44eeftB31eE/Nc3FxcdvP\n",
       "b/G3PhULJOxBghT637oOqAPo6B2yo63z/VedbB3tNDvqrZvJ93k2gSSQEEiQEhL/\n",
       "P6jZAKAjAkkgIZBggP9vUSsxACCQBBICCfiElRgAEEgCCYEEqS7xwHezAYBAEkgI\n",
       "JEhpadllVrkFQCAJJD6XefPmCSTo1zpZwhsABJJAohcJJOiDrMQAgEASSAgkSHV2\n",
       "HAEgkAQSAgn4lB1HAAgkgYRAglRnxxEAAkkgIZCAT9lxBIBAEkgIJEh1rnEEgEAS\n",
       "SAgk4FOucQSAQBJICCRIdXYcASCQBBICCfiUHUcACCSBhECCVBdHkSUZABBIAgmB\n",
       "BKkuPqwut6TebAAgkAQSAglSmh1HAAgkgYRAAl1U5iKwAAgkgYRAAj4570gXASCQ\n",
       "BBICCaRRS7yct9kAQCAJJAQSpHQdpWWXhUCyHgMAAkkgIZBAIDmyDgCBJJAQSJDy\n",
       "4iUZ7DsCQCAJJAQSpDQ7jgAQSAIJgQRYkgEAgSSQEEjA4TqyJAMAAkkgIZCATwPJ\n",
       "jiMABJJAQiBBqosPq7PvCACBJJAQSJDSoh1H4Z9hMxsACCSBhEACgeTIOgAEkkBC\n",
       "IEFqc7EjAASSQEIgAZ+w4wgAgSSQEEiAQAJAIAkkBBJwmCPrABBIAgmBBHzCjiMA\n",
       "BJJAQiABAgkAgSSQEEjAYY6sA0AgCSQEEvAJO44AEEgCCYEECCQABJJAQiABhzmy\n",
       "DgCBJJAQSMAn7DgCQCAJJAQSIJAAEEgIJIEEHJZbUh/SKGyOrANAIAkkBBKktGjH\n",
       "Ufhn2MwGAAJJICGQQCA5sg4AgSSQEEiQ8mkUH1xnNgAQSAIJgQQpXUfRct7OOwJA\n",
       "ICGQBJJAQiA5sg4AgYRAQiCBQAJAICGQEEgQScsuizYH1wEgkBBICCRSmh1HAAgk\n",
       "BBICCQQSAAIJgYRAgsPiFb0dWQeAQEIgIZBIadGOo/DPsJkNAAQSAgmBhEByZB0A\n",
       "AgmBhEACgQSAQEIgIZDgfy3qDYBAQiAhkCBixxEAAgmBhEACgQSAQEIgIZAgIY3C\n",
       "Fi3tbTYAEEgIJAQSKV1HadllrnoEgEBCICGQwJF1AAgkBBICCQQSAAIJgYRAgsQ0\n",
       "is47EkgACCQEEgKJVK+j6HpHzjsCQCAhkBBICCRH1gEgkBBICCQQSAAgkAQSAgki\n",
       "8XlHDq4DQCAhkBBIpLRox1F0ZVizAYBAQiAhkBBIjqwDAIEkkBBIIJAAQCAJJAQS\n",
       "/K9TjwBAIAkkBBJEnHoEAAJJICGQ4DOBZB4AQCAJJAQSCCQAEEgCCYEEh049is8+\n",
       "MhsAIJAEEgKJlK6jaFUGCzMAgEASSAgkBJI0AgCBJJAQSCCQAEAgCSQEEkSiFb0F\n",
       "EgAIJIGEQCLVxasyRNc+MiEAIJAEEgKJlA4kO44AQCAJJAQSCCQAEEgCCYEEAgkA\n",
       "BJJAQiBBrLyuJS27LNqcegQAAkkgIZBIaXYcAYBAEkgIJBBIACCQBBICCQQSAAgk\n",
       "gYRAgnbTaHhBtUACAIEkkBBIpHodRWmkjgBAIAkkBBICSRoBgEASSAgkEEgAIJAE\n",
       "EgIJBBIACCSBhECC/+OysAAgkAQSAgk+ZccRAAgkgYRAAoEEAAJJICGQQCABgEAS\n",
       "SAgkSFJe1xI2gQQAAkkgkaypqammpqa0tLSysnLfvn3decj+/fsrKipKSkrCPxsb\n",
       "GwUS/Ut0WdhoszYDAAgkgcT/Wbt27dixY0celpmZ+dJLL3X+kOLi4jFjxsQPGTVq\n",
       "1JIlSwQS/SuQ7DgCAIEkkEi2efPm9PT08MouKChYs2bNwoULo2/Ly8s7esibb74Z\n",
       "7pCRkRHuXFJSUlhYGJoqjJSWlgokBBIACCQEUj82e/bs8LJetGhRPLJ8+fIwkpOT\n",
       "09FDQkqFOyTuMnr66afDyKxZswQSAgkABBICqb9qbm6Odv7s3r07cTArKysMNjQ0\n",
       "tPuoEELh1o0bNybtU5oyZYpAor+k0fCCaoEEAAJJIPEZtbW14TU9bty4pPG8vLww\n",
       "XllZ2e6jli5dGm594okn4pH58+eHkaKiIoFE36+jKI3UEQAIJIFEOycghdf0tGnT\n",
       "ksbnzp3byWlIjY2NDzzwQLjDQw899Oyzz+bm5kaH5CXuhhJI9NlAkkYAIJAEEu2r\n",
       "rq4Or+m8vLyk8WiPUEeLLrS0tCxbtmzkZy1durS1tbXzQGpXcXGxdxYEEgD0ZeED\n",
       "28iO+VAtkAaOqqqqdgMpWoaho0B6/PHHw61ZWVnPPvvsa6+9FtIoWiV8zpw59iAh\n",
       "kAAgpQgkgTSgbNmyJbymp06dmjSen5/f0SF2Bw8eHDNmTHp6+ubNm+PBnTt3Rus6\n",
       "7N27VyDRB5XXtcSXhRVIACCQBBLtq6+vj/YFJR0dN3ny5DBeU1PT9iFhsN1FwOfM\n",
       "mRPG161bJ5Dog6IdRyGTwmY2AEAgCST+p6OzicaMGRNe1tu3b09cgyEjIyM9PT18\n",
       "0fYh4Z7h/vfff3/S+IMPPhjGN2zYIJDos4FkHgBAIAkkuvDoo49G13iNdyJFKzTM\n",
       "mDEj+nbHjh0rD4m+jS+dtGbNmvghb731Vvohe/bsEUgIJAAQSAik/qq2tjYKnnHj\n",
       "xhUWFk6aNCl8HVInPr5uxYoVSeuTrFq1KhoJD1m4cGF+fn64f/h2yZIlFmlAIAGA\n",
       "QEIg9W9bt26dMmVKvFDjxIkTN27cGN8aBVJGRkbiQ9auXRvuFj8kOzs7VFNLS4tA\n",
       "ok+xNgMACCSBRB8lkDj2rM0AAAJJICGQ4DOBZB4AQCAJJAQSCCQAEEgCCYEEAgkA\n",
       "BJJAQiBBUhpZmwEABJJAQiChjj5NI3UEAAJJICGQEEjSCAAEkkBCIIFAAgCBJJAQ\n",
       "SCCQAEAgCSQEErSTRtZmAACBJJAQSKgjazMAgEASSAgkOBxI0ggABJJAQiCBQAIA\n",
       "gSSQEEggkABAIAkkBBIIJAAQSAIJgQTJyuta0rLLoi18bUIAQCAJJAQSqcuOIwAQ\n",
       "SAIJgQQCCQAEkkBCIIFAAgCBJJAQSCCQAEAgCSQEErSjvK5leEF1tAkkABBIAgmB\n",
       "REqLdhyFTLJyHQAIJIGEQEIgObIOAASSQEIggUACAIEkkBBIIJAAQCAJJAQSCCQA\n",
       "EEgCCYEEbZTXtaRll0Wb5RkAQCAJJAQSKc2OIwAQSAIJgQQCCQAEkkBCIIFAAgCB\n",
       "JJAQSCCQAEAgCSQEEnSWRsMLqgUSAAgkgYRAItXrKEojdQQAAkkgIZAQSNIIAASS\n",
       "QEIggUACAIEkkBBIIJAAQCAJJAQSCCQAEEgCCYEEbZTXtQwvqI42gQQAAkkgIZBI\n",
       "adGOo5BJYTMbACCQBBICCYFkxxEACCSBhEACgQQAAkkgIZBAIAGAQBJICCQQSAAg\n",
       "kAQSAgk+y+J1ACCQBBICCT5l8ToAEEgCCYEEnwkk8wAAAkkgIZBAIAGAQBJICCQQ\n",
       "SAAgkAQSAgkEEgAIJIGEQILkLkrLLos2yzMAgEASSAgkUtrwgmpdBAACSSAhkEAg\n",
       "AYBAEkj0tI8//njJkiUzZsy4++67w7fr16/ft2+fQEIgAQACSSClnKlTp5511llp\n",
       "h4WRK6+8csiQIffff79AQiABAAJJIKWQrKysqIuGDh0aB9INN9wQfT158mSBhEAC\n",
       "AASSQEoJq1evDhV04oknzp07N3x79tlnR4H00Ucf5eTkhK9PO+20xsZGgUTflFtS\n",
       "H9IobBavAwCBJJDoAffff3+ooLFjx0bfxoEUueCCC8K3JSUlAom+KaRRaKSQRuoI\n",
       "AASSQKIHXHXVVSGBVq9e3W4g/epXvwrfLly4UCDRZwNJGgGAQBJI9JjbbrstJNDz\n",
       "zz/fbiBF+WQPEgIJABBIAiklzJo1KyRQCKG2gfTGG28MHjx40KBBx329b4GEQAIA\n",
       "gYRAOhbq6+vPOeecEEVXX331q6++esYZZ4Svd+zYMW/evGhRu1tuueW4P0mBhEAC\n",
       "AIGEQDpGXnnllS9+8Ytp7bnwwgv7wuViBRJJLF4HAAJJINGL3n///VtvvfX000+P\n",
       "0+i8887Ly8s7cOBAX3h6AokkFq8DAIEkkDgWdu7cuX79+vr6+j71rAQSbQNJGgGA\n",
       "QBJIpCiBhEACAIGEQOot11577UVH4r333hNICCQAQCAJpIFp2LBhaUdi27ZtAgmB\n",
       "BAAIJIE0ML3yyitLEvzzP/9zqKBTTjnlrrvueuKJJ1544YU///nPV1xxRVRHc+bM\n",
       "+fDDDwUSfURuSX3YLF4HAAJJINErysvLBw0adMYZZ1RWVibd9Mc//jEE0rBhw1pb\n",
       "WwUSfUG0tHe0fp3ZAACBJJDoeb/73e9CBYUWavfW733ve+HWLVu2CCT6SCBJIwAQ\n",
       "SAikXhQdX7dmzZp2b73jjjvCrUVFRQIJgQQACCSBNPDddNNNIYH+8z//s91bL7/8\n",
       "8nDrypUrBRICCQAQSAJp4Js2bVpIoB/84Af79+9Pumnp0qUnnnjioEGDGhsbBRIC\n",
       "CQAQSAJp4Kuqqjr11FNDI33nO9957LHHNm/eXFdXt379+tGjRw8ZMiSMX3/99cf9\n",
       "SQokBBIACCQE0jHyxBNPDBo0qN0rIF144YXHffeRQCJa1zvazAYACCQEUq97/fXX\n",
       "r7nmmsGDB8dpdO655z7wwANNTU194ekJpBRnxxEACCQE0nHQ0tKyffv2N998c9++\n",
       "fX3qiQkkgSSQAEAgIZCOhaampg+6EsJJICGQAACBJJAGvkmTJqV1Zdu2bQIJgQQA\n",
       "CCSBJJDSzjjjjJ07dwokBBIAIJAE0sD38ccf729j69atCxYsOO+8884888zXX3/d\n",
       "OUgcL7kl9dESdgIJAAQSAuk427Jly5e+9KWzzz67tbVVIHHsDS+oDlsIJHUEAAIJ\n",
       "gdQn3HjjjWlpaRUVFQKJ4xJI0ggABBICqQ/52c9+FgLpySefFEgIJABAIAmklNbQ\n",
       "0HDqqaeGQFq9erVAQiABAAJJIA18y5cvv6c9I0aMOOWUU0IdhX/u3r1bICGQAACB\n",
       "JJAGvs6X+T7hhBPmzZt33J+kQBJIAIBAQiAdC0uWLPlNezIzM2fMmFFTU9MXnqRA\n",
       "SinRut7RZjYAQCAhkBBIKc2OIwAQSAik42bFihXZ2dllZWXt3vqnP/0p3OocJAQS\n",
       "ACCQBFIKnYM0Z86cdm/94Q9/GG7dtm2bQEIgAQACSSANWGvWrFl5yO233x4SKDMz\n",
       "c2Ubzz777Je//OVw686dOwUSAgkAEEgCacA666yz0ronNFJzc3MnP6qpqammpqa0\n",
       "tLSysnLfvn3dfAL79+/fsGFDeXn5e++9J5AQSAAgkBBIx9MPfvCDbxxy+umnhwr6\n",
       "yle+8o02/uZv/uZHP/rRokWLOvk5a9euHTt27MjDMjMzX3rppS7TaObMmenp6fGj\n",
       "5syZ8/HHHwskQheFTSABgEBCIPXRc5A6t3nz5qhzCgoK1qxZs3Dhwujb8vLyjh5y\n",
       "4MCBadOmhfs88MADL774Yqive+65J3zbeYYJpFSQW1If0ihs4QuzAQACCYF0fOTn\n",
       "519yySVFRUVH8djZs2cntc3y5cvDSE5OTkcPWbFiRbjDrFmzWlpaopFNmzaFkd//\n",
       "/vetra0CKZXZcQQAAgmB1I81NzdnZmaGl3XiIuBhMCsrKww2NDS0+6jc3Nxw665d\n",
       "uxIHV69e/fLLL8fJJJAEEgAgkBBIx87EiRN//vOfT58+PXxdVFT0867U1dW1/SG1\n",
       "tbXhNT1u3Lik8by8vDBeWVnZ9iF79uwJN02aNCk61q6qqqqioqKxsdEiDQgkABBI\n",
       "CKTjZtiwYWlpaT/5yU/ic5A61+51kDZv3hxe09OmTUsanzt3bkenIb3zzjvhpvz8\n",
       "/GeeeSZxkYb58+eHXhJIAkkgAYBAQiAdB3PmzMnJyXnyySejw9tyurJ37962P6S6\n",
       "ujq8pvPy8pLGQ+2E8dLS0rYPeeutt8JNGRkZ4Z8PP/zwsmXLnn766eiQvMLCws4D\n",
       "qV3FxcXeWQQSANCXhQ9sIzvmk7lAGjiqqqraDaSCgoKOAmn9+vXRfwlPPfVUPLh9\n",
       "+/YomTq5HK09SANbbkl92NKyywQSAKQUgSSQBpQtW7aE1/TUqVOTxvPz8zs6xO7t\n",
       "t9+OAinperLRanhlZWUCKQXFS3urIwAQSAik4+Puu+/++ZFod5GG+vr68JrOyspK\n",
       "Wp578uTJYbympqbtQ959991w0+jRo5PGn3zyyTDeyRVmBdLADiRpBAACCYF0/Bdp\n",
       "6L52F2loaWkZM2ZMeFlv3749HmxsbMzIyEhPT293bbrwkNBm4SF79uxJHJ81a1YY\n",
       "fO211wSSQAIABBIC6Vh79NFHc45Eu4s0RD8nuuprvBMpWqFhxowZ0bc7duxYeUjS\n",
       "Eg7hgQcPHoxGNm7cGO2J6mS9b4EkkAAAgYRA6utqa2uja8WOGzeusLBw0qRJ4ev0\n",
       "9PT4+LoVK1YkrU8SWmvChAlh5A9/+MOiRYvmzZsXrff94osvdvIHCSSBBAAIJATS\n",
       "MbV///6VK1fOmTNn8uTJCxYsWLt2bdLJRe3aunXrlClT4oUaJ06cuHHjxvjWKJAy\n",
       "MjISH7Jr167Zs2dHh+dFD2l3yTuBJJAAAIGEQDoOWlpaZs6cedZZZyWdenTxxRcv\n",
       "X768LzxDgTTw5JbUR+vXWd0bAAQSAqlvufvuu6MiOumkky688MJLL730nHPOiUde\n",
       "ffVVgUSPi5f2VkcAIJAQSH3IqlWroha64447Ei/VWlpaeskll4Tx8847TyDRG4Ek\n",
       "jQBAIPk0LpD6nIkTJ4YKuvHGG9veVF9fHx13t3XrVoGEQAIABJJAGvh+8pOfhAT6\n",
       "y1/+0u6tN998c7i1qKhIICGQAACBJJAGviiBVqxY0e6tI0aMCLcuXrxYICGQAACB\n",
       "JJAGvtzc3JBAY8aMaXvT/v37hw4dGm597733BBICCQAQSAJp4Hv33XfPPffcQYMG\n",
       "zZkz5+DBg/F4bW1tdPTdiBEjLNJAT7G6NwAgkARSn/bcc8/90z/9U7SQ3fnnn3/L\n",
       "Lbfcdddd11xzzZAhQ6LBW2+99dcJli1bJpA4alb3BgAEkkDq0yZNmpR2JB544AGB\n",
       "xOcJJGkEAAgkgdR3rVixIvtIrFq1SiAhkAAAgSSQcA4SAgkAEEgCCYGEQAIABJJA\n",
       "ShG7d+9+6KGH7rrrrv/XgQ8++EAgIZAAAIEkkAa++vr6888/v/OFGbZt2yaQ+Dys\n",
       "7g0ACCSB1D/cd999IYFOPPHEa6+99p577hnfnj179ggkPg+rewMAAkkg9Q/XXXdd\n",
       "CKSpU6c6B4leDSRpBAAIJIHUD/zLv/xLCKTVq1cLJAQSACCQBFKqiy4Ue++99wok\n",
       "BBIAIJAEUqp74403Bg8e/LWvfa2yslIgIZAAAIEkkFLdU089Fa1Wd+mll6a3p6Gh\n",
       "QSAhkAAAgSSQBr7a2toLLrjAMt/0Bqt7AwACSSD1M9OnTw8JNGjQoCuvvDI9PT2r\n",
       "PfYgcXSs7g0ACCSB1M9cf/31IZBycnIs0kBvBJI0AgAEkkDqT2688cYQSKWlpQIJ\n",
       "gQQACCSBlOry8vJCIOXn5wskBBIAIJAEUqp79913hw4detZZZ1VXVwskBBIAIJAE\n",
       "UkorKyu7884709LSBg8ePGLEiHvas3v3boGEQAIABJJAGvgmTZqU1hXLfHOkckvq\n",
       "w2Z1bwBAIAmkfmbJkiW/6Up9fb1Aovuiax9FC3ybDQBAIAmkgaOysvLuu++ura0V\n",
       "SBxRIEkjAEAgCaSBo6mpaf78+T/60Y8cYodAAgAEkkBKXevXr7/rrru+/OUvxycg\n",
       "DRo06N133xVICCQAQCAJpFSxd+/eRx555OKLL05cm2HYsGG5ubnHvY4EkkACAAQS\n",
       "AukYWbVq1W233TZkyJDENLr22mtff/31vvMkBZJAAgAEEgKpF+3ateuBBx644IIL\n",
       "4igKjXTzzTdfcskl4es///nPferZCqT+InRR2AQSACCQBFJ/cuedd5500klRF51w\n",
       "wgnDhw8vLCzct29fuOmXv/ylQOLo5JbUxwt8mw0AQCAJpH5j2LBhoYJOPvnkadOm\n",
       "7dy5M/EmgcRRs+MIABBIAqkfB1IwdOjQMWPGvPnmmwIJgQQACCSBlKKqqqruvvvu\n",
       "r371q/EJSN/+9renT5/+/vvvCyQEEgAgkARSKmpubl68ePHVV1994oknxucjRcvZ\n",
       "5efnCyQEEgAgkARSKnrvvfdycnK+8Y1vxDuUTjvttDvuuGPNmjUCCYEEAAgkgZSK\n",
       "WltbV65cOWLEiMGDB8el9M1vfvP+++//8MMPBRICCQAQSAIpFTU0NMyaNevb3/52\n",
       "nEnbtm0TSHQkt6Q+Lbss2swGACCQBNKAtW7dul//+tennXba9u3bBRIdseMIABBI\n",
       "AimFHDhwwDlICCQAQCAJJPoKgSSQAACBhEBCIAkkAEAgIZAQSAIJABBICCQEkkAC\n",
       "AAQSAgmB1M/kltSHNApbWnaZQAIABJJAQiCltJBGoZFCGqkjAEAgCSQEkkByZB0A\n",
       "IJAEEgIJgQQACCSBhEBCIAEAAkkgIZAQSACAQBJICCQEEgAgkAQSAolORCvXCSQA\n",
       "QCAJJARSqosvfxS+MBsAgEASSAiklGbHEQAgkAQSAgmBBAAIJIGEQEIgAQACSSAh\n",
       "kBBIAIBAEkgIJAQSACCQBBICCYEEAAgkgYRAokvx6t5p2WUCCQAQSAIJgZTSoi6K\n",
       "NrMBAAgkgYRASvVAMgkAgEASSAgkBBIAIJAEEgIJgQQACCSBhEBCIAEAAkkgIZAQ\n",
       "SACAQBJICCQ6EK9cJ5AAAIEkkBBIqS669lHYckvqzQYAIJAEEgIppdlxBAAIJIGE\n",
       "QEIgAQACSSAhkBBIAIBAEkgIJAQSACCQBBICCYEEAAgkgYRAQiABAAJJICGQ6FJu\n",
       "SX28wLfZAAAEkkBCIKW0tOyy+BKxZgMAEEgCCYGU6oFkEgAAgSSQEEgIJABAIAkk\n",
       "BBICCQAQSAIJgYRAAgAEkkBCICGQAACBJJAQSAgkAEAgCSQEEp0bXlAd0ihsLn8E\n",
       "AAgkgYRASnV2HAEAAkkgIZAQSACAQBJICCQEEgAgkAQSAgmBBAAIJIFEr2hqaqqp\n",
       "qSktLa2srNy3b98RPXbv3r2rV6/evn27QBJIAIBAQiD1e2vXrh07duzIwzIzM196\n",
       "6aVuPra1tfXhhx8Oj1q6dKlAEkgAgEBCIPVvmzdvTk9PD6/sgoKCNWvWLFy4MPq2\n",
       "vLy8Ow8vLi6OskogHV/ldS25JfVhE0gAgEASSBy92bNnh5f1okWL4pHly5eHkZyc\n",
       "nC4fu3PnzszMzNGjRwuk4y50URRIoZTMBgAgkAQSR6O5uTkUTnhZ7969O3EwKysr\n",
       "DDY0NHT+2Nzc3N///verVq0SSH0hkEwCACCQBBKfS21tbXhNjxs3Lmk8Ly8vjFdW\n",
       "Vnby2GeffTbcZ8OGDevXrxdIAgkAEEgIpIFwAlJ4TU+bNi1pfO7cuZ2fhlRTU5Oe\n",
       "nj5//vzwtUASSACAQEIgDQTV1dXhNZ2Xl5c0HsonjJeWlrb7qA8//HDChAnjx49v\n",
       "amo6okBqV3FxsXcWgQQA9GXxulzt8qFaIA0cVVVV7QZSQUFBJ4EU5VNFRUX0rT1I\n",
       "AgkASFkCSSANKFu2bAmv6alTpyaN5+fnd3SI3RtvvBFuKiwsPHDYunXrwshzzz0X\n",
       "vj548KBAEkgAgEBCIPVL9fX14TWdlZXV2tqaOD558uQwXlNT0/YhRUVFnexgXbVq\n",
       "lUA6lnJL6ocXVEeb2QAABJJA4nNpaWkZM2ZMeFlv3749HmxsbMzIyEhPTw9ftH3I\n",
       "a6+9Nu+zpk6dGl03KXwdH3cnkI6NtOyy8rqWaDMbAIBAEkh8Xo8++mh4Wc+aNSve\n",
       "iRSdYjRjxozo2x07dqw8pKOf4Byk4xtIJgEAEEgCiR5TW1sbXSt23LhxhYWFkyZN\n",
       "Cl+np6fHx9etWLGi8/VJBJJAAgAEEgJp4Ni6deuUKVPi84gmTpy4cePG+NYokDIy\n",
       "Mjp6+IYNG8IdXnzxRYEkkAAAgYRAolsEkkACAAQSAgmBJJAAAIGEQEIgCSQAQCAh\n",
       "kBBIvW14QXVIo7C5/BEAIJAEEgIp1dlxBAAIJIGEQEIgAQACSSAhkBBIAIBAEkgI\n",
       "JAQSACCQBBICCYEEAAgkgYRAQiABAAJJICGQ6FJ5XUtuSX3YBBIAIJAEEgIp1YUu\n",
       "igIplJLZAAAEkkBCIKV6IJkEAEAgCSQEEgIJABBIAgmBhEACAASSQEIgIZAAAIEk\n",
       "kBBICCQAQCAJJAQSAgkAEEgCCYFE53JL6ocXVEeb2QAABJJAQiCltLTssvK6lmgz\n",
       "GwCAQBJICKRUDySTAAAIJIGEQEIgAQACSSAhkBBIAIBAEkgIJAQSACCQBBICCYEE\n",
       "AAgkgYRAQiABAAJJICGQ6NzwguqQRmFz+SMAQCAJJARSqrPjCAAQSAIJgYRAAgAE\n",
       "kkBCICGQAACBJJAQSAgkAEAgCSQEEgIJABBIAgmBhEACAASSQDIFAokulde1RJtA\n",
       "AgAEkkBCIKW64QXV0ZZbUm82AACBJJAQSCnNjiMAQCAJJAQSAgkAEEgCCYGEQAIA\n",
       "BJJAQiAhkAAAgSSQEEgIJABAICGQBBICCQAQSAgkBFKXckvq4wW+zQYAIJAEEgIp\n",
       "paVll8WXiDUbAIBAEkgIpFQPJJMAAAgkgYRAQiABAAJJICGQEEgAgEASSAgkBBIA\n",
       "IJAQSAIJgQQACCQEEgJJIAEAAgmBhEDq3PCC6pBGYXP5IwBAIAkkBFKqs+MIABBI\n",
       "AgmBhEACAASSQEIgIZAAAIGEQEIgCSQAQCAhkBBIAgkAEEgIJASSQAIABBICCYHU\n",
       "pfK6ltyS+rAJJABAIAkkBFKqC10UBVIoJbMBAAgkgYRASvVAMgkAgEASSAgkBBIA\n",
       "IJAQSAJJIAkkAEAgIZAQSAIJABBICCQEkkACAAQSAgmBJJAAAIGEQEIgdS63pH54\n",
       "QXW0mQ0AQCAJJARSSkvLLiuva4k2swEACCSBhEBK9UAyCQCAQEIgIZAEEgAgkBBI\n",
       "CCSBBAAIJAQSAkkgAQACCYGEQBJIAIBAQiAhkDoQr1wnkAAAgYRAItUDKb72UW5J\n",
       "vbdRAEAgIZBI6UCy4wgAEEgIJASSQAIABBICCYEkkAAAgYRAQiAJJABAICGQEEgC\n",
       "CQAQSAgkBJJAAgAEEgIJgdSl4QXVIY3CFr7w7gkACCQEEikdSHYcAQACCYGEQBJI\n",
       "AIBAQiAhkAQSACCQEEgIJIEEAAgkBBICSSABAAIJgYRAEkgAAAJJICGQulRe15Jb\n",
       "Uh82gQQACCQEEikdSKGOQhdFgRS+9qYJAAgkBBIpHUguCwsACCQEEgJJIAEAAgmB\n",
       "hEASSACAQEIgIZAEEgAgkHzQFUgDUFNTU01NTWlpaWVl5b59+7r5kOrq6vCQqqqq\n",
       "8LVAEkgAgEBCIA0Ea9euHTt27MjDMjMzX3rppU7u39raWlxcHO4WPyQ8PIykeCCF\n",
       "NIoW+BZIAIBAQiD1V5s3b05PTw+v7IKCgjVr1ixcuDD6try8vKOHhLuFO4waNaqo\n",
       "qKikpOSxxx6LHrJ+/fqUDaRode+QRmELjeS9EgAQSAikfmn27NnhZb1o0aJ4ZPny\n",
       "5WEkJyen3fu3tLRkZ2cnFdTSpUvDyMyZM1M5kOw4AgAEEgKpf2tubo6OlNu9e3fi\n",
       "YFZWVhhsaGho+5C6urpw04QJE1pbW+PBcM8wOHr0aIEEACCQEEj9VW1tbXhNjxs3\n",
       "Lmk8Ly8vjFdWVrZ9yI4dO3Jych5//PGkwXD/8ePHCyQAAIGEQOrHJyCF1/S0adOS\n",
       "xufOndv5aUhJFixYEO4fHiWQAAAEEgKpv6qurg6v6by8vKTx+fPnh/HS0tIuf0Jr\n",
       "a+vixYujNRt27drVeSC1q7i4WCABAPRl4QPbyI75UC2QBo6qqqp2A6mgoKA7gRSK\n",
       "KDoYLysrq6KiovM724MEADDwCCSBNKBs2bIlvKanTp2aNJ6fn9/5IXYtLS3Lli2L\n",
       "FngIjVRbW9vlnzVQAyktuyzarO4NAAgkBFL/Vl9fH+3/SVySLpg8eXIYr6mpafdR\n",
       "zc3N8+bNi64PW1JSkvTYlAokO44AAIHkQ7VAGjhaWlrGjBkTXtbbt2+PBxsbGzMy\n",
       "MtLT08MX7T4qOuloypQpe/bs6f6fJZAAAAQSAqmve/TRR8PLetasWfGOoGiFhhkz\n",
       "ZkTf7tixY+Uh0bchikaNGjV69OiO8kkgAQAIJARSf1VbWxudSjRu3LjCwsJJkyaF\n",
       "r9PT0+Pj61asWJG4Psm6deuia8I+3EbSxZEEEgCAQEIg9T9bt26dMmVKvFDjxIkT\n",
       "N27cGN8aBVJGRkb0bVFRUUcrPN53330CCQBAICGQcIgdAIBAQiCRqoFkdW8AAIEk\n",
       "kBBIn7DjCABAIAkkBJJAAgAQSAIJgSSQAAAEkkBCIAkkAACBJJAQSAIJAEAgCSQE\n",
       "kkACABBIAgmB1B1W9wYAEEgCCYH0CTuOAAAEkkBCIAkkAACBJJAQSAIJAEAgCSQE\n",
       "kkACABBIAgmBJJAAAASSQEIgdZVGYcstqRdIAAACSSCR0oEU0igtuyykUdis7g0A\n",
       "IJAEEqkeSHYcAQAIJIGEQBJIAAACSSAhkAQSAIBAEkgIJIEEACCQBBICSSABAAgk\n",
       "gYRA6jSNoqW9BRIAgEASSKR0IEWre4dAsrQ3AIBAEkgIJEfWAQAIJIGEQBJIAAAC\n",
       "SSAhkAQSAIBAEkgIJIEEACCQBBICqYM0itev864HACCQBBKpG0jR4nXR0t7WrwMA\n",
       "EEgCiVQPJDuOAAAEkkBCIAkkAACBJJAQSAIJAEAgCSQEkkACABBIAgmBJJAAAASS\n",
       "QEIgdSxa19vidQAAAkkgkeqBFO04iq6A5J0OAEAgCSQEkiPrAAAEkkBCIAkkAACB\n",
       "JJAQSAIJAEAgCSQEkkACABBIAgmB1IbF6wAABJJAQiB9wuJ1AAACSSAhkD4TSN7a\n",
       "AAAEkkBCIAkkAACBJJAQSAIJAEAgCSQEkkACABBIAgmBlMzidQAAAkkgIZA+YfE6\n",
       "AACBJJAQSJ8JJO9oAAACSSAhkAQSAIBAEkgIJIEEACCQBBICSSABAAgkgYRASpaW\n",
       "XRZtFq8DABBIAomUDiQ7jgAABJJAQiAJJAAAgSSQEEgCCQBAIAkkBJJAAgAQSAIJ\n",
       "gdRhGuWW1Ic6EkgAAAJJIJHSgRTqKFq2zsp1AAACSSAhkBxZBwAgkAQSAkkgAQAI\n",
       "JIGEQBJIAAACSSAhkJLTKF6ewfsXAIBAEkikbiBFazNEK9dZngEAQCAJJFI9kOw4\n",
       "AgAQSAIJgSSQAAAEkkBCIAkkAACBJJAQSElpZG0GAACBJJAQSNZmAAAQSAIJgZQQ\n",
       "SHYcAQAIJIGEQBJIAAACSSAhkAQSAIBAEkgIpETRqgxOPQIAEEgCiVQPpGjHUbR+\n",
       "nbcqAACBJJAQSI6sAwAQSAIJgSSQAAAEkkBCIP2vy8ICAAgkgYRAiuvIZWEBAASS\n",
       "QEIgfRpIdhwBAAgkgYRAEkgAAAJJICGQDqeRU48AAASSQEIgOfUIAEAgCSQEUkIg\n",
       "2XEEACCQBBICSSABAAgkgYRAOiS3pD4670ggAQAIJIFESgdSlEZRI3k/AgAQSAKJ\n",
       "VA8kaQQAIJAEEqkeSPGi3gIJAEAgCSRSOpDik47CFjLJOxEAgEASSKR0INlxBAAg\n",
       "kAQSqR5IjqwDABBIAgmB9AlH1h2F4uJik2CqzTOm2jxjqgWSQGJgBpIdR0fxJmUS\n",
       "TLV5xlSbZ0y1QBJIHFNNTU01NTWlpaWVlZX79u3r2UAqr2uJdxwJJL8PTLV5Ngmm\n",
       "2jxjqgWSQKJPW7t27dixY0celpmZ+dJLL/VgIEU7jqKzj7zp+H1gqs2zSTDV5hlT\n",
       "LZAEEn3X5s2b09PTw38JBQUFa9asWbhwYfRteXn55w+kKI3sOPL7wFRjnk21ecZU\n",
       "CySBRP8we/bs8J/BokWL4pHly5eHkZycnM8ZSHEaqSO/D0w15tlUm2dMtUASSPQD\n",
       "zc3NmZmZ4T+D3bt3Jw5mZWWFwYaGhqMIJGcc+X1gqjHPpto8Y6oFkkCiX6qtrQ3/\n",
       "DYwbNy5pPC8vL4xXVlYeUSAlHlDnjCO/D0w15tlUm2dMtUASSPS/E5DCfwPTpk1L\n",
       "Gp87d26XpyH9cPTcuIgSdxnZa+T3ganGPJtq84ypFkgCiX6puro6/DeQl5eXND5/\n",
       "/vwwXlpa2sljb/nTy6GRwnbDqJxoGwkAQD83a9YsH5IFUuqqqqpqN5AKCgq6DCQA\n",
       "AEAgDShbtmwJITR16tSk8fz8/O6s9A0AAAikgaO+vj6EUFZWVmtra+L45MmTw3hN\n",
       "TY0pAgAAgZQqWlpaxowZE1po+/bt8WBjY2NGRkZ6enr4whQBAIBASiGPPvpodDZe\n",
       "vBMpWqFhxowZJgcAAARSaqmtrY2uFTtu3LjCwsJJkyaFr9PT0x1fBwAAAikVbd26\n",
       "dcqUKfHajhMnTty4caNpAQAAgQQAACCQAAAABBIAAIBAAgAAEEgAAAACic+vqamp\n",
       "pqamtLS0srJy3759JqS31dbWrl69ev/+/aai917S1dXV4SVdVVUVvjYhvWfv3r2b\n",
       "Nm2KpvrAgQMm5BhMeHj3SLwOOD2ooaFhZxt+LfaS8Etww4YN5eXl7733ntnoca2t\n",
       "rTs75u1aINGFtWvXjh07Nl4QPDMz86WXXjItvaqgoCBM9ZYtW0xFb/xKKC4ujq4D\n",
       "Fgkv7zBiZnpcS0vLkiVLMjIy4qm+5557QimZmV59eT/88MNhqpcuXWo2ekNOTs7I\n",
       "NsLr3Mz0eBrNnDkzPT09nuQ5c+Z8/PHHZqYH7dmzZ2TH3nrrLVMkkOjQ5s2bo3eo\n",
       "8JF9zZo1CxcujL4tLy83Ob3hwIED4ZNN9PYkkHpDeBmHuR01alRRUVFJScljjz0W\n",
       "vaTXr19vcnrWqlWrwsSOHj36ueeeCwn64IMPhm9DL23dutXk9JIwz9G7h0DqDc3N\n",
       "zeEFPH78+KLP2rRpk8np2d+D06ZNCy/jBx544MUXX1y0aNE999wTvg1fmJyerdCC\n",
       "NubNmxemOvxafPfdd02RQKJDs2fPTnpXWr58eRjJyckxOT0r/IqdMmVK4p4NgdTj\n",
       "WlpasrOzkwo/KtKZM2ean541bty4MLFVVVXxSF5eXhhZvHixyekNO3fuDG8goUgF\n",
       "Ui8JHxnD3D7++OOmoletWLEizPOsWbPCO3b8+zGM/P73v29tbTU/vSq8P4epfv75\n",
       "502FQKJDzc3N0ef13bt3Jw5mZWWFwYaGBlPUs4GUc9ioUaMEUm+oq6sLEzthwoTE\n",
       "37LhlRzt6DA/PWjv3r1hVidPnpw4GO3fmDt3rvnpjbfr3Nzc8Aky2nEnkHpDWVlZ\n",
       "mFtH5Pa28EoO87xr167EwdWrV7/88stxMtEb1q1bF2Y+Pz9fiAokOlNbWxv+Uxk3\n",
       "blzSePS/gSsrK01RLwlvTwKpN+zYsSP0Z9L/AA6DYbbHjx9vfnrQvn37SkpKko5i\n",
       "jw7eeOWVV8xPj3v22WfD3G7YsGH9+vUCqZcUFRVFkxxe24sXLw6ltG3bNtPSs6IT\n",
       "YyZNmvQ/h461q6qqqqioaGxsNDO9be/evaNHjx4zZoxFRwQSXdi8eXN4n5o2bVrS\n",
       "+Ny5c52GJJAGjAULFtit0avCK7m0tDQ6Xjc3N9fyjD2upqYmPT19/vz54WuB1Hui\n",
       "BTCiPfyxxx57rLm52eT0lHfeeSfaifHMM88kLtIQXt7WVTsGvwq9dQgkulZdXR3+\n",
       "a8nLy0saD+9TYdxqVAKpv2ttbY2Otw6feJIO56AHzZo1K/6Us2HDBhPSsz788MMJ\n",
       "EyaMHz8+WrBeIPWe6AzG8Dtx3bp1IUqXLFkSxZJV7HrQW2+9Fa3mEv4ZinTZsmVP\n",
       "P/10dGB/YWGh+em9Lg05Gl7hH330kdkQSHShqqqq3UCKFqEWSAKpXwtFFB0sGn71\n",
       "VlRUmJDes3Xr1jfeeCN8iIwuGFBUVGROelD0f6zi17BA6iUtLS0rV64sLi5O3F/0\n",
       "2muvRVe/cG5MT4lewMFTTz0VD27fvj1Kpp07d5qi3hAd//zCCy+YCoFE18IH9PAf\n",
       "zNSpU9v9+O4QO4HUfz/oLFu2LFqAJDRSbW2tOTlmpZSenj569GiHJPWUUJ7R/1k/\n",
       "cFh0mvVzzz0Xvj548KAp6m333ntv2xUFOGpvv/12FEhJZ8JEx+iWlZWZoh7X1NQU\n",
       "/UKsq6szGwKJrtXX10f/fz1pPZPJkyeH8ZqaGlMkkPqd8NE8+l9lY8eOLSkpsVZP\n",
       "L9m4cePjjz/e9oC6KVOmePfoQdGyAR1ZtWqVKeop4b0iNGfbto+WXLNqUU+J1lJv\n",
       "u6zok08++f/bu/enqOo/juNfU4kKKa3pOiZ2Ia+Tk87YVc2mixYE1lhMI6mUi6Ay\n",
       "IyUWCA2XkWDowsVUhiCt0AiNwoQRkcQQNCBEuWgiCEpyWfwTvu/xPZ057cqyFgTI\n",
       "8/HT7ns/u+ecD4flvDjnfD5SZ576gaDTA8bExNAVBCQ4xWq1rl27Vn5tTp48aRRb\n",
       "W1sDAwMtFgujyhCQhiO96UgO01taWuiNgVNUVKRDMtjUw8LCpF5XV0cX9YuSkpKU\n",
       "v4uKitKp6uQx1472Iz1Zl5qaai5KXtKJp5j3oh8PPEJCQqRLbb6i9VZG2eHpon6n\n",
       "Z+fy8vLoCgISnCV/DHS+NuMf7Xq9e2xsLJ1DQBp25C/u6tWr5YCGeD/QGhoa7Oc7\n",
       "1nmQpP+59GvgcA/SANEJ0+QLpLq6WivyZ/Grr77Sf7jQP/1IDzPk8MP4oigrK9Pr\n",
       "WfjqHgh6mah5Um8QkNCHM2fO6JWpoaGhW7Zs2bhxozy2WCxcIUNAGo709gw5QE+0\n",
       "YzM5Ev69jIwMPaBMS0vbuXOnDonBXQQEpOErKytLB1hLTk6WXTo6Olr38JqaGjqn\n",
       "H50/f37Dhg3St5s2bZI+T0lJ0fG+c3Nz6Zx+197ert/MXFVBQMK1ka9+vW1AhYWF\n",
       "lZWV0S0DSm+SISD1Owc3bHzwwQf0T//q6uras2ePjlynIiIiSktL6ZkBdeTIEQ4l\n",
       "B0h3d7fs0noBmCYlif319fX0TL87ffp0UlKSXuSvBx4MnDtAdOIp2avpCgIS/uH/\n",
       "GOrq6phfGcA16enpaWlpkW8PnaUHuA526XPnzjU0NDAY40CzWq3Sz0wtDQISAAAA\n",
       "ABCQAAAAAICABAAAAAAEJAAAAAAgIAEAAAAAAQkAAAAACEgAAAya/Pz8b775ZmRu\n",
       "e319fWZmZmVlJbsBABCQAAAD4uzZs65O8Pb2lsYBAQHyeBDn4S0tLR0zZsyzzz57\n",
       "Pf0IkpKSpFeXLl3aZ8umpqZx48bNmDGju7ubXRcACEgAgP73xx9//M8JCxYskMbL\n",
       "li2Tx++9996grKqkglmzZo0aNerw4cPX048gISFBevWll15yprGkU2n8ySefsOsC\n",
       "AAEJAND/enp62v5u8uTJcgi+fv16c/HPP/+UxpmZme++++73338/KKuakZEhK+bl\n",
       "5XWd/QiuKSDJz8LNze3OO++8dOkSey8AEJAAAAPuoYcekuP1QbyOrjdz586VFdu1\n",
       "a9dIDkjCz89P2n/xxRfsq8AI19jYmPh3+/bto1sISACA/y4gpaamytH5jh079Onm\n",
       "zZvlaXl5eX5+vr+//9SpU+fMmbNmzZq2tjZ5ddu2bb6+vh4eHrNmzbJYLPX19eaP\n",
       "OnTo0DvvvDN79mx5V0BAwM6dOx2v1a+//iprNWHChM7OTqOYl5e3ZMkS+YRJkybJ\n",
       "ooOCguwHMHBmQT/++KO2mTx58rx586KiolpbW23aHDx4MDAw8IknnpA2ixcvDg8P\n",
       "b2lpMV41uuLnn39euXLltGnTHnzwQR8fn9LSUpvPyc7OXrZs2fTp0x944AFvb29Z\n",
       "tH1Acrxde/fulfbSq+yrwAh34MCBVatWpZkUFBTQLQQkAMB/F5Bs7kF67rnn5Onr\n",
       "r78+ZswY8w1LixYtkphkcxeT5AENTiIuLm7s2LE2DYKDgx2sVUxMjLRZuHChUYmN\n",
       "jbW/V8rd3b2srMxo0+eCenp6NmzYMGrUKJs29913X0NDg9EsMjLSZhvFxIkTJTWZ\n",
       "u0JSlouLi7mNPJUjGG3T3d0thzL26yw9Yw5IfW7XxYsXtdjY2MjuCoxkO3fulG8w\n",
       "+oGABAAYWgFJzJ07t6CgQI7XJZAYx/Tz58/PyMior69PTEzUytdff335yukaeTx6\n",
       "9Gj5u15dXV1TUxMREaG5IiEhobe1evHFF6XBihUr9GlHR8dNN92klRMnTrS2tubl\n",
       "5Xl4eEjF19dX2zizoB07dui6+fn5SZKRZvLShAkTpPL8889rm927d2sbqRQXF8tm\n",
       "ZmZm3nXXXVK599579e4soytmzpwpy5Wt3rp1q7wqlcWLF+vnpKWlaRt/f/+SkpLa\n",
       "2trt27fffvvtWtSA5Mx2iTvuuEMq27ZtY3cFRjL5dk1KSqIfCEgAgKEVkCZNmmQe\n",
       "MGDq1Kl6xkOTg5ozZ44Uo6KijAY2nx8fHy9FWXRva3X33XdLg48++kifVlRUaK74\n",
       "5ZdfjDY5OTnjx49/9NFHzWviYEE9PT1TpkyRp6+99pq5zccffyzFsWPH6oV2np6e\n",
       "Oo6ftDfaSJS68cYbjY3SrpC0c/78eaONrK0UJd7IY6vVev/998tTm+G8ZUP03JQG\n",
       "JGe2Szz22GPSxmKxsLsCI9n69evj4uJiYmJCQkKio6ON89UgIAEABjMgffjhh+Y2\n",
       "ixYtkuLbb79tLkoCkWJ4eLgxqnhDQ8MlE4kiem6npKTEfrmSTDRFfPnll1qRvKHn\n",
       "cCR1JCcn219s5syC5F3a5tChQ+b3dnZ25ubm7tmzRx4YbeyPPFasWCF1nZRJuyIw\n",
       "MNDcoLS0VIpubm7yuLa21j75KB8fHyMg9bldytfXV9rIG9ldgRHrwoULq1atkq+d\n",
       "lJSUrKys0NBQefrTTz/RMwQkAMAgB6RPP/3U3OaVV16RYlxcnLn4xhtvaEDat2+f\n",
       "4wmX9DI8G83NzfpqUVGRUdy6daurq6vxRg8PD39///z8fH3VmQXt379fr8FzMO+q\n",
       "fKC0ueGGG+yH1f7888/1TiSjK+Lj480Njh49KsVbbrnl8pVxF3pbVnR0tPkeJMfb\n",
       "pUJCQuSlp556it0VGCGampp+MKmpqWlpacnMzCwvL9cGFy9efP/999etW2c+1w0C\n",
       "EgBgqAck436e+3uRkZFhv9zW1lZ9V2FhobleXV0t6zl79mzzCApvvfWWHB84s6Bv\n",
       "v/3WCDC9ycnJkTby+fbHHDov0/jx43vrCnNA0vVxcXGxX4Teo2Uexc7BdmkD+RFI\n",
       "5fHHH2d3BYadM2fO7N+/X/KM/Uvt7e1VVVUHDhw4fvy4MaqN8X2yykS+Uuzf/t13\n",
       "38lLZ8+epZMJSACAYROQ5NBfT8iYR+t2hp5U2b59+1VflUMNSTsSGDRL5OfnO7Og\n",
       "I0eOaPvm5mZz3Wq1ykYlJSU1NDQcO3ZM25w6dcrm7bI5UpcY40xAMj7H/qq54ODg\n",
       "3uZBst8urS9dulSevvzyy+yuwLCTlpYmMeb333+3qRcVFa1bt86IQEFBQXv37jVe\n",
       "7e7uvmjS1dV1+vTpw4cPy/eV0Ubayxvtv6xAQAIADN2AJH/L3dzc5LExmZKqra2V\n",
       "5Xp4eNhMl2SYOHGifoI+3b17t6en56uvvmpu09bWNm7cOGm2efNmZxbU3t4+evRo\n",
       "aZOYmGhuk5mZqeGqqalJ8pUOK2czlm5HR4cOzy194kxAkvY333yzPI2IiLD5HL3p\n",
       "SANSn9ulFY1My5cvZ3cFhpFLly7l5ORo/rEJSNXV1RaLRSc1KigoyMjI0Kc2d0ia\n",
       "FRYWSoOKigqjEh8fHxgYeK3/fgIBCQAwmAFJHoeFhcnje+65x7ihSIKKDu0g2aC3\n",
       "tfL29jbSiCgrK9NberKzs402x44d05Hl8vLynFyQv7+/XiZnjMFw/Pjx6dOnS/HJ\n",
       "J5/UikQjeerq6moMESGf8+abb+qld9LemYB0+cp4U/JUYtKuXbuMoyXJQuZhvp3Z\n",
       "rst/jelnszgAQ1Z5eXlkZGRQUJBxgsgmICUlJUkxKyvLqPzwww9SsfmXillLS8u6\n",
       "devki0W+viQmpaenS/s+J90GAQkAMOQCUltb2yOPPKIxYNq0aZJD9OhfwkZubm5v\n",
       "ayVLkTbz5s3Tpz09PQsXLtRoIXnGy8vr6aef1s+ZMmWKjjDuzIIaGxs1bEibmTNn\n",
       "6sjgGoeMW58vXLgwY8YMrcsHLliwQCdKMo/g50xAam5u1lHFxcMPP/zMM8/oeSE9\n",
       "Q6UByZntklilM9tKcGJ3BYZLQIr4y+rVq20CUldXl2Yn8+W+UgwODpbiuXPnevvY\n",
       "qqqqTZs2aeJas2ZNdna2vIveJiABAPqZHsRfNSCtXLnS/JKmgpSUlGsKSJevnIFZ\n",
       "vny5u7u7MQKBhAEH6UicOnVKMoy8xRhNTvJPQECAXrdmpJolS5acOXPGeJczCzp7\n",
       "9qyPj4+mFGPeW5vLWmShcvhiTOoq+UQSjvkkz1W7Qu87uvXWW42KZC0/Pz9jfWSF\n",
       "5anOrmvcg9Tndungezp6HoBBlJ6e3tHRYV+vqKhwMCXRZ599ZhOQ5LdbKqGhoTYt\n",
       "5ctB6nqa2gH50pAQxeB1BCQAwPXgxIkTBw8eNEcaB7y8vOzvKZLoUllZWVhYKGlE\n",
       "4tA/XpDVapWjkJKSEp0ctjd1dXXFxcWSc/7NVstxjKzt0aNHHfyv18F2SeQzJqgF\n",
       "MIjktzg+Pt4mI0k6si86DkjV1dVSiY6OtmmZnJzs+DYkEJAAACNaQUFBb6O9jRwS\n",
       "lm677TZXV9empiZ2CWCoZaQ+09FVA1JlZaVUbE68X74yK5rUHZyMAgEJADDSvfDC\n",
       "C5KRiouLR2wPREZG2g+pB2AQGaFIHiQkJDhOR1cNSL/99ttVA5IOCE5AIiABANAr\n",
       "OYxwcXGZP3/+yNz8pqYmd3d3T09P40YsAEMkI0VHRzuTjq4akOSxVOyvm9WWXGJH\n",
       "QAIAwJHCwsKsrKzu7u6RGZBk2yUlshsAQ0p5ebkEpMTExH8WkORXWyrBwcE2Ay2E\n",
       "h4dLvaqqih4mIAEAAADDg3EbUkVFhTMZyT4gWa3WtWvXSvHkyZNGsbW1NTAw0GKx\n",
       "OB45BgQkAAAAYKgoKyszX1n3zwZpEKmpqVKU9xonkXSEhtjYWDqZgAQAAAAMj3TU\n",
       "L8N8X74yFZLOFRsaGrply5aNGzfKY4vFwvV1BCQAAABgeEhPT+/s7LSvO54oNiUl\n",
       "xT4giZqamsjIyFV/CQsLkwBGJxOQAAAAgJGrvb29rq6ura2NriAgAQAAAAABCQAA\n",
       "AAAISAAAAABAQAIAAAAAAhIAAAAAEJAAAAAAgIAEAAAAAAQkAAAAACAgAQAAAAAB\n",
       "CQAAAAAISAAAAABAQAIAAAAAAhIAAAAAEJAAAAAAgIAEAAAAAAQkAAAAACAgAQAA\n",
       "AAABCQAAAAAISAAAAABAQAIAAAAAEJAAAAAAgIAEAAAAAAQkAAAAACAgAQAAAAAB\n",
       "CQAAAAAISAAAAABAQAIAAAAAAhIAAAAAEJAAAAAAgIAEAAAAAP3o/zIpTxVV6Z/i\n",
       "AAAAAElFTkSuQmCC\" style=\"clip-path:url(#clipPath2);\" height=\"840\" preserveAspectRatio=\"none\"\n",
       "    /></g\n",
       "  ></g\n",
       "></svg\n",
       ">\n"
      ]
     },
     "metadata": {
      "filenames": {
       "image/svg+xml": "/Users/eechris/code/src/github.com/cpjobling/eg-247-textbook/_build/jupyter_execute/dt_systems/4/dt_models_108_0.svg"
      }
     },
     "output_type": "display_data"
    }
   ],
   "source": [
    "step(Hz)"
   ]
  },
  {
   "cell_type": "markdown",
   "id": "41ca9181",
   "metadata": {
    "slideshow": {
     "slide_type": "subslide"
    }
   },
   "source": [
    "#### Algorithm\n",
    "\n",
    "From previous result:\n",
    "\n",
    "$$H(z) = \\frac{Y(z)}{U(z)} = \\frac{486.2\\times 10^{-6}z +  479.1\\times 10^{-6}}{z^2 - 1.956z + 0.9665}$$\n",
    "\n",
    "Dividing top and bottom by $z^2$ ..."
   ]
  },
  {
   "cell_type": "markdown",
   "id": "40a91d02",
   "metadata": {
    "slideshow": {
     "slide_type": "fragment"
    }
   },
   "source": [
    "$$H(z) = \\frac{Y(z)}{U(z)} = \\frac{486.2\\times 10^{-6}z^{-1} +  479.1\\times 10^{-6}z^{-2}}{1 - 1.956z^{-1} + 0.9665z^{-2}}$$"
   ]
  },
  {
   "cell_type": "markdown",
   "id": "8d4e8eea",
   "metadata": {
    "slideshow": {
     "slide_type": "subslide"
    }
   },
   "source": [
    "expanding out ...\n",
    "\n",
    "$$\\begin{array}{l}\n",
    "Y(z) - 1.956{z^{ - 1}}Y(z) + 0.9665{z^{ - 2}}Y(z) = \\\\\n",
    "\\quad 486.2 \\times {10^{ - 6}}{z^{ - 1}}U(z) + 479.1 \\times {10^{ - 6}}{z^{ - 2}}U(z)\n",
    "\\end{array}$$"
   ]
  },
  {
   "cell_type": "markdown",
   "id": "918932dc",
   "metadata": {
    "slideshow": {
     "slide_type": "subslide"
    }
   },
   "source": [
    "Inverse z-transform gives ...\n",
    "\n",
    "$$\\begin{array}{l}\n",
    "y[n] - 1.956y[n - 1] + 0.9665y[n - 2] = \\\\\n",
    "\\quad 486.2 \\times {10^{ - 6}}u[n - 1] + 479.1 \\times {10^{ - 6}}u[n - 2]\n",
    "\\end{array}$$"
   ]
  },
  {
   "cell_type": "markdown",
   "id": "54948e05",
   "metadata": {
    "slideshow": {
     "slide_type": "fragment"
    }
   },
   "source": [
    "in algorithmic form (compute $y[n]$ from past values of $u$ and $y$) ...\n",
    "\n",
    "$$\\begin{array}{l}\n",
    "y[n] = 1.956[n - 1] - 0.9665y[n - 2] + 486.2 \\times {10^{ - 6}}u[n - 1] + ...\\\\\n",
    "\\quad 479.1 \\times {10^{ - 6}}u[n - 2]\n",
    "\\end{array}$$"
   ]
  },
  {
   "cell_type": "markdown",
   "id": "a4c3ac36",
   "metadata": {
    "slideshow": {
     "slide_type": "subslide"
    }
   },
   "source": [
    "#### Block Diagram of the digital BW filter\n",
    "\n",
    "\n",
    "![digital filter](pictures/digifilter-bd.png)"
   ]
  },
  {
   "cell_type": "markdown",
   "id": "cd894dd2",
   "metadata": {
    "slideshow": {
     "slide_type": "subslide"
    }
   },
   "source": [
    "#### As Simulink Model\n",
    "\n",
    "[digifilter.slx](https://cpjobling.github.io/eg-247-textbook/dt_systems/4/matlab/digifilter.slx)"
   ]
  },
  {
   "cell_type": "code",
   "execution_count": 24,
   "id": "f91659c6",
   "metadata": {
    "slideshow": {
     "slide_type": "fragment"
    }
   },
   "outputs": [],
   "source": [
    "open digifilter"
   ]
  },
  {
   "cell_type": "markdown",
   "id": "0ef6e2df",
   "metadata": {
    "slideshow": {
     "slide_type": "subslide"
    }
   },
   "source": [
    "#### Convert to code\n",
    "\n",
    "To implement:\n",
    "\n",
    "\n",
    "$$y[n] = y[n] = 1.956[n - 1] - 0.9665y[n - 2] + 486.2 \\times {10^{ - 6}}u[n - 1] + 479.1 \\times {10^{ - 6}}u[n - 2]$$"
   ]
  },
  {
   "cell_type": "markdown",
   "id": "1d168d3d",
   "metadata": {
    "slideshow": {
     "slide_type": "subslide"
    }
   },
   "source": [
    "    /* Initialize */\n",
    "    Ts = 0.25e-06; /* more probably some fraction of clock speed */\n",
    "    ynm1 = 0; ynm2 = 0; unm1 = 0; unm2 = 0;\n",
    "    while (true) {\n",
    "        un = read_adc;\n",
    "        yn = 1.956*ynm1 - 0.9665*ynm2 + 486.2e-6*unm1 + 479.1e-6*unm2;\n",
    "        write_dac(yn);\n",
    "        /* store past values */\n",
    "        ynm2 = ynm1; ynm1 = yn;\n",
    "        unm2 = unm1; unm1 = un;\n",
    "        wait(Ts);\n",
    "    }"
   ]
  },
  {
   "cell_type": "markdown",
   "id": "d5d4d3ff",
   "metadata": {
    "slideshow": {
     "slide_type": "notes"
    }
   },
   "source": [
    "#### Comments\n",
    "\n",
    "PC soundcards can sample audio at 44.1 kHz so this implies that the anti-aliasing filter is much sharper than this one as $f_s/2 = 22.05$ kHz.\n",
    "\n",
    "You might wish to find out what order butterworth filter would be needed to have $f_c = 20$ kHz and $f_{\\mathrm{stop}}$ of 22.05 kHz."
   ]
  },
  {
   "cell_type": "markdown",
   "id": "4d05f1d8",
   "metadata": {
    "slideshow": {
     "slide_type": "slide"
    }
   },
   "source": [
    "## Summary\n",
    "\n",
    "* Discrete Time Systems\n",
    "* Transfer Functions in the Z-Domain\n",
    "* Modelling digital systems in MATLAB/Simulink\n",
    "* Continuous System Equivalents\n",
    "* In-class demonstration: Digital Butterworth Filter"
   ]
  },
  {
   "cell_type": "markdown",
   "id": "ec452e3c",
   "metadata": {},
   "source": [
    "## Reference\n",
    "\n",
    "```{bibliography}\n",
    ":filter: docname in docnames\n",
    "```"
   ]
  },
  {
   "cell_type": "markdown",
   "id": "e892ed87",
   "metadata": {
    "slideshow": {
     "slide_type": "notes"
    }
   },
   "source": [
    "## Solutions to Example 5"
   ]
  },
  {
   "cell_type": "markdown",
   "id": "523c6db1",
   "metadata": {
    "slideshow": {
     "slide_type": "notes"
    }
   },
   "source": [
    "### Solution to 5.1.\n",
    "\n",
    "The transfer function is\n",
    "\n",
    "$$H(z) = \\frac{Y(z)}{X(z)} = \\frac{z^2 + z}{z^2 - 0.5z + 0.125}$$"
   ]
  },
  {
   "cell_type": "markdown",
   "id": "0a680fd1",
   "metadata": {
    "slideshow": {
     "slide_type": "notes"
    }
   },
   "source": [
    "### Solution to 5.2.\n",
    "\n",
    "The DT impulse response:\n",
    "\n",
    "$$h[n] = \\left( \\frac{\\sqrt 2}{4} \\right)^n{\\left( \\cos \\left( \\frac{n\\pi}{4} \\right) + 5\\sin \\left( \\frac{n\\pi}{4} \\right) \\right)}$$"
   ]
  },
  {
   "cell_type": "markdown",
   "id": "8731079f",
   "metadata": {
    "slideshow": {
     "slide_type": "notes"
    }
   },
   "source": [
    "### Solution to 5.3.\n",
    "\n",
    "Step response:\n",
    "\n",
    "$$y[n] = \\left(3.2 - \\left( \\frac{\\sqrt 2}{4} \\right)^n\\left( 2.2 \\cos \\left( \\frac{n\\pi}{4} \\right) + 0.6\\sin \\left(\\frac{n\\pi}{4} \\right) \\right)\\right) u_0[n]$$"
   ]
  }
 ],
 "metadata": {
  "jupytext": {
   "formats": "ipynb,md:myst",
   "text_representation": {
    "extension": ".md",
    "format_name": "myst",
    "format_version": 0.13,
    "jupytext_version": "1.11.5"
   }
  },
  "kernelspec": {
   "display_name": "MATLAB",
   "language": "matlab",
   "name": "imatlab"
  },
  "language_info": {
   "codemirror_mode": "octave",
   "file_extension": ".m",
   "mimetype": "text/x-matlab",
   "name": "matlab",
   "nbconvert_exporter": "imatlab._exporter.MatlabExporter",
   "pygments_lexer": "matlab",
   "version": "9.12.0.1884302 (R2022a)"
  },
  "source_map": [
   15,
   19,
   31,
   39,
   43,
   47,
   51,
   55,
   59,
   63,
   74,
   80,
   84,
   88,
   92,
   98,
   102,
   108,
   114,
   118,
   130,
   140,
   144,
   148,
   159,
   164,
   170,
   175,
   181,
   187,
   197,
   203,
   209,
   219,
   227,
   233,
   257,
   265,
   289,
   293,
   305,
   309,
   315,
   321,
   325,
   329,
   333,
   337,
   341,
   345,
   350,
   354,
   366,
   370,
   378,
   384,
   388,
   394,
   401,
   405,
   409,
   433,
   439,
   443,
   449,
   454,
   458,
   464,
   473,
   481,
   494,
   502,
   510,
   516,
   523,
   527,
   531,
   535,
   539,
   548,
   554,
   562,
   570,
   579,
   585,
   591,
   599,
   603,
   609,
   613,
   621,
   625,
   631,
   641,
   647,
   655,
   659,
   663,
   671,
   675,
   679,
   687,
   693,
   697,
   705,
   709,
   715,
   719,
   723,
   731,
   741,
   745,
   754,
   763,
   772,
   779,
   785,
   793,
   802,
   817,
   825,
   835,
   843,
   847,
   855,
   863
  ]
 },
 "nbformat": 4,
 "nbformat_minor": 5
}