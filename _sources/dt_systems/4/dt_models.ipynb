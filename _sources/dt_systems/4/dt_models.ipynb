{
 "cells": [
  {
   "cell_type": "markdown",
   "metadata": {
    "slideshow": {
     "slide_type": "slide"
    }
   },
   "source": [
    "# Models of Discrete-Time Systems"
   ]
  },
  {
   "cell_type": "markdown",
   "metadata": {},
   "source": [
    "## Colophon\n",
    "\n",
    "An annotatable worksheet for this presentation is available as [**Worksheet 17**](worksheet17).\n",
    "\n",
    "* The source code for this page is [dt_systems/4/dt_models.ipynb](https://github.com/cpjobling/eg-247-textbook/blob/master/dt_systems/4/dt_models.ipynb).\n",
    "\n",
    "* You can view the notes for this presentation as a webpage ([HTML](https://cpjobling.github.io/eg-247-textbook/dt_systems/4/dt_models.html)). \n",
    "\n",
    "* This page is downloadable as a [PDF](https://cpjobling.github.io/eg-247-textbook/dt_systems/4/dt_models.pdf) file."
   ]
  },
  {
   "cell_type": "markdown",
   "metadata": {
    "slideshow": {
     "slide_type": "slide"
    }
   },
   "source": [
    "## Scope and Background Reading\n",
    "\n",
    "In this section we will explore digital systems and learn more about the z-transfer function model.\n",
    "\n",
    "The material in this presentation and notes is based on Chapter 9 (Starting at [Section 9.7](https://ebookcentral.proquest.com/lib/swansea-ebooks/reader.action?docID=3384197&ppg=363)) of {cite}`karris`. I have skipped the section on digital state-space models."
   ]
  },
  {
   "cell_type": "markdown",
   "metadata": {
    "slideshow": {
     "slide_type": "slide"
    }
   },
   "source": [
    "## Agenda"
   ]
  },
  {
   "cell_type": "markdown",
   "metadata": {
    "slideshow": {
     "slide_type": "fragment"
    }
   },
   "source": [
    "* Discrete Time Systems"
   ]
  },
  {
   "cell_type": "markdown",
   "metadata": {
    "slideshow": {
     "slide_type": "fragment"
    }
   },
   "source": [
    "* Transfer Functions in the Z-Domain"
   ]
  },
  {
   "cell_type": "markdown",
   "metadata": {
    "slideshow": {
     "slide_type": "fragment"
    }
   },
   "source": [
    "* Modelling digital systems in Matlab/Simulink"
   ]
  },
  {
   "cell_type": "markdown",
   "metadata": {
    "slideshow": {
     "slide_type": "fragment"
    }
   },
   "source": [
    "* Continuous System Equivalents"
   ]
  },
  {
   "cell_type": "markdown",
   "metadata": {
    "slideshow": {
     "slide_type": "fragment"
    }
   },
   "source": [
    "* In-class demonstration: Digital Butterworth Filter"
   ]
  },
  {
   "cell_type": "markdown",
   "metadata": {
    "slideshow": {
     "slide_type": "slide"
    }
   },
   "source": [
    "## Discrete Time Systems\n",
    "\n",
    "In the lecture that introduced the z-transform we talked about the representation of a discrete-time (DT) system by the model shown below:\n",
    "\n",
    "![DT System](./pictures/ct-to-dt.png)\n",
    "\n",
    "In this session, we want to explore the contents of the central block."
   ]
  },
  {
   "cell_type": "markdown",
   "metadata": {
    "slideshow": {
     "slide_type": "subslide"
    }
   },
   "source": [
    "### DT System as a Sequence Processor\n",
    "\n",
    "* As noted in the previous slide, the discrete time system (DTS) `takes as an input the sequence $x_d[n]$<sup>1</sup> which in a physical signal would be obtained by sampling the continuous time signal $x(t)$ using an analogue to digital converter (ADC)."
   ]
  },
  {
   "cell_type": "markdown",
   "metadata": {
    "slideshow": {
     "slide_type": "fragment"
    }
   },
   "source": [
    "* It produces another sequence $y_d[n]$ by *processing* the input sequence in some way."
   ]
  },
  {
   "cell_type": "markdown",
   "metadata": {
    "slideshow": {
     "slide_type": "fragment"
    }
   },
   "source": [
    "* The output sequence is converted into an analogue signal $y(t)$ by a digital to analogue converter (DAC)."
   ]
  },
  {
   "cell_type": "markdown",
   "metadata": {
    "slideshow": {
     "slide_type": "fragment"
    }
   },
   "source": [
    "![DT System as a Sequence Processor](./pictures/sigs.png)"
   ]
  },
  {
   "cell_type": "markdown",
   "metadata": {
    "slideshow": {
     "slide_type": "subslide"
    }
   },
   "source": [
    "### What is the nature of the DTS?\n",
    "\n",
    "* The discrete time system (DTS) is a block that converts a sequence $x_d[n]$ into another sequence $y_d[n]$"
   ]
  },
  {
   "cell_type": "markdown",
   "metadata": {
    "slideshow": {
     "slide_type": "fragment"
    }
   },
   "source": [
    "* The transformation will be a *difference equation* $h[n]$"
   ]
  },
  {
   "cell_type": "markdown",
   "metadata": {
    "slideshow": {
     "slide_type": "fragment"
    }
   },
   "source": [
    "* By analogy with CT systems, $h[n]$ is the impulse response of the DTS, and $y[n]$ can be obtained by *convolving* $h[n]$ with $x_d[n]$ so:\n",
    "\n",
    "$$y_d[n] = h[n] * x_d[n]$$"
   ]
  },
  {
   "cell_type": "markdown",
   "metadata": {
    "slideshow": {
     "slide_type": "subslide"
    }
   },
   "source": [
    "* Taking the z-transform of $h[n]$ we get $H(z)$, and from the transform properties, convolution of the signal $x_d[n]$ by system $h[n]$ will be *multiplication* of the z-transforms:\n",
    "\n",
    "$$Y_d(z) = H(z) X_d(z)$$"
   ]
  },
  {
   "cell_type": "markdown",
   "metadata": {
    "slideshow": {
     "slide_type": "fragment"
    }
   },
   "source": [
    "* So, what does $h[n]$ and therefore $H(z)$ look like?"
   ]
  },
  {
   "cell_type": "markdown",
   "metadata": {
    "slideshow": {
     "slide_type": "slide"
    }
   },
   "source": [
    "## Transfer Functions in the Z-Domain\n",
    "\n",
    "Let us assume that the sequence transformation is a *difference equation* of the form<sup>2</sup>:\n",
    "\n",
    "$$\\begin{array}{l}\n",
    "y[n] + {a_1}y[n - 1] + {a_2}y[n - 2] +  \\cdots  + {a_k}y[n - k]\\\\\n",
    "\\quad  = {b_0}x[n] + {b_1}u[n - 1] + {b_2}u[n - 2] +  \\cdots  + {b_k}u[n - k]\n",
    "\\end{array}$$"
   ]
  },
  {
   "cell_type": "markdown",
   "metadata": {
    "slideshow": {
     "slide_type": "subslide"
    }
   },
   "source": [
    "### Take Z-Transform of both sides\n",
    "\n",
    "From the z-transform properties\n",
    "\n",
    "$$f[n-m] \\Leftrightarrow z^{-m}F(z)$$\n",
    "\n",
    "so...."
   ]
  },
  {
   "cell_type": "markdown",
   "metadata": {
    "slideshow": {
     "slide_type": "fragment"
    }
   },
   "source": [
    "$$Y(z) + a_1z^{-1}Y(z) + a_2z^{-2}Y(z) + \\cdots + a_kz^{-k}Y(z) = ...$$"
   ]
  },
  {
   "cell_type": "markdown",
   "metadata": {
    "slideshow": {
     "slide_type": "fragment"
    }
   },
   "source": [
    "$$b_0 U(z) + b_1z^{-1}U(z) + b_2z^{-2}U(z) + \\cdots + b_kz^{-k}U(z)$$"
   ]
  },
  {
   "cell_type": "markdown",
   "metadata": {
    "slideshow": {
     "slide_type": "subslide"
    }
   },
   "source": [
    "### Gather terms\n",
    "\n",
    "$$\\begin{array}{l}\n",
    "\\left( 1 + {a_1} z^{-1} + {a_2} z^{-2} +  \\cdots {a_k} z^{-k} \\right)Y(z) = \\\\\n",
    "\\quad \\left( b_0 + b_1 z^{-1} + b_2 z^{- 2} +  \\cdots b_k z^{- k} \\right)U(z)\n",
    "\\end{array}$$\n",
    "\n",
    "from which ..."
   ]
  },
  {
   "cell_type": "markdown",
   "metadata": {
    "slideshow": {
     "slide_type": "fragment"
    }
   },
   "source": [
    "$$Y(z) = \\left(\\frac{b_0 + b_{1}z^{-1} + b_{2}z^{-2} + \\cdots b_{k}z^{-k}}{1 + a_{1}z^{-1} + a_{2}z^{-2} + \\cdots a_{k}z^{-k}\n",
    "}\\right) U(z)$$"
   ]
  },
  {
   "cell_type": "markdown",
   "metadata": {
    "slideshow": {
     "slide_type": "subslide"
    }
   },
   "source": [
    "### Define transfer function\n",
    "\n",
    "We define the *discrete time transfer function* $H(z) := Y(z)/U(z)$ so..."
   ]
  },
  {
   "cell_type": "markdown",
   "metadata": {
    "slideshow": {
     "slide_type": "fragment"
    }
   },
   "source": [
    "$$H(z) = \\frac{Y(z)}{U(z)} = \\frac{b_0 + b_{1}z^{-1} + b_{2}z^{-2} + \\cdots b_{k}z^{-k}}{1 + a_{1}z^{-1} + a_{2}z^{-2} + \\cdots a_{k}z^{-k}\n",
    "}$$"
   ]
  },
  {
   "cell_type": "markdown",
   "metadata": {
    "slideshow": {
     "slide_type": "fragment"
    }
   },
   "source": [
    "... or more conventionally<sup>3</sup>:\n",
    "\n",
    "$$H(z) = \\frac{b_0z^k + b_{1}z^{k-1} + b_{2}z^{k-2} + \\cdots b_{k-1}z + b_{k}}{z^k + a_{1}z^{k-1} + a_{2}z^{k-2} + \\cdots a_{k-1} z + a_{k}}$$"
   ]
  },
  {
   "cell_type": "markdown",
   "metadata": {
    "slideshow": {
     "slide_type": "subslide"
    }
   },
   "source": [
    "### DT impulse response\n",
    "\n",
    "The *discrete-time impulse reponse* $h[n]$ is the response of the DT system to the input $x[n] = \\delta[n]$"
   ]
  },
  {
   "cell_type": "markdown",
   "metadata": {
    "slideshow": {
     "slide_type": "fragment"
    }
   },
   "source": [
    "Last week we showed that $$\\mathcal{Z}\\left\\{\\delta[n]\\right\\}$$ was defined by the transform pair \n",
    "\n",
    "$$\\delta[n] \\Leftrightarrow 1$$"
   ]
  },
  {
   "cell_type": "markdown",
   "metadata": {
    "slideshow": {
     "slide_type": "subslide"
    }
   },
   "source": [
    "so \n",
    "\n",
    "$$h[n] = \\mathcal{Z}^{-1}\\left\\{H(z).1\\right\\} = \\mathcal{Z}^{-1}\\left\\{H(z)\\right\\}$$"
   ]
  },
  {
   "cell_type": "markdown",
   "metadata": {
    "slideshow": {
     "slide_type": "subslide"
    }
   },
   "source": [
    "We will work through an example in class.\n",
    "\n",
    "[Skip next slide in Pre-Lecture]"
   ]
  },
  {
   "cell_type": "markdown",
   "metadata": {
    "slideshow": {
     "slide_type": "subslide"
    }
   },
   "source": [
    "### Example 5\n",
    "\n",
    "Karris Example 9.10:\n",
    "\n",
    "The difference equation describing the input-output relationship of a DT system with zero initial conditions, is:\n",
    "\n",
    "$$y[n] - 0.5 y[n-1] + 0.125 y[n-2] = x[n] + x[n -1]$$"
   ]
  },
  {
   "cell_type": "markdown",
   "metadata": {
    "slideshow": {
     "slide_type": "subslide"
    }
   },
   "source": [
    "Compute:\n",
    "\n",
    "1. The transfer function $H(z)$\n",
    "2. The DT impulse response $h[n]$\n",
    "3. The response $y[n]$ when the input $x[n]$ is the DT unit step $u_0[n]$"
   ]
  },
  {
   "cell_type": "markdown",
   "metadata": {
    "slideshow": {
     "slide_type": "subslide"
    }
   },
   "source": [
    "### 5.1. The transfer function\n",
    "\n",
    "$$H(z) = \\frac{Y(z)}{U(z)} = ...?$$"
   ]
  },
  {
   "cell_type": "markdown",
   "metadata": {
    "slideshow": {
     "slide_type": "notes"
    }
   },
   "source": [
    "<pre style=\"border: 2px solid blue\">\n",
    "\n",
    "\n",
    "\n",
    "\n",
    "\n",
    "\n",
    "\n",
    "\n",
    "\n",
    "\n",
    "\n",
    "\n",
    "\n",
    "\n",
    "\n",
    "\n",
    "\n",
    "\n",
    "\n",
    "</pre>"
   ]
  },
  {
   "cell_type": "markdown",
   "metadata": {
    "slideshow": {
     "slide_type": "subslide"
    }
   },
   "source": [
    "### 5.2. The DT impulse response\n",
    "\n",
    "Start with:\n",
    "\n",
    "$$\\frac{H(z)}{z} = \\frac{z - 1}{z^2 + 0.5 z + 0.125}$$"
   ]
  },
  {
   "cell_type": "markdown",
   "metadata": {
    "slideshow": {
     "slide_type": "notes"
    }
   },
   "source": [
    "<pre style=\"border: 2px solid blue\">\n",
    "\n",
    "\n",
    "\n",
    "\n",
    "\n",
    "\n",
    "\n",
    "\n",
    "\n",
    "\n",
    "\n",
    "\n",
    "\n",
    "\n",
    "\n",
    "\n",
    "\n",
    "\n",
    "\n",
    "</pre>"
   ]
  },
  {
   "cell_type": "markdown",
   "metadata": {
    "slideshow": {
     "slide_type": "subslide"
    }
   },
   "source": [
    "### Matlab Solution"
   ]
  },
  {
   "cell_type": "code",
   "execution_count": 1,
   "metadata": {
    "slideshow": {
     "slide_type": "fragment"
    }
   },
   "outputs": [
    {
     "name": "stdout",
     "output_type": "stream",
     "text": [
      "ans =\n",
      "    '/Users/eechris/code/src/github.com/cpjobling/eg-247-textbook/dt_systems/4/matlab'\n"
     ]
    }
   ],
   "source": [
    "clear all\n",
    "imatlab_export_fig('print-svg')  % Static svg figures.\n",
    "cd matlab\n",
    "pwd\n",
    "format compact"
   ]
  },
  {
   "cell_type": "markdown",
   "metadata": {
    "slideshow": {
     "slide_type": "fragment"
    }
   },
   "source": [
    "See [dtm_ex1_2.mlx](https://cpjobling.github.io/eg-247-textbook/dt_systems/4/matlab/dtm_ex1_2.mlx). (Also available as [dtm_ex1_2.m](https://cpjobling.github.io/eg-247-textbook/dt_systems/4/matlab/dtm_ex1_2.m).)"
   ]
  },
  {
   "cell_type": "markdown",
   "metadata": {
    "slideshow": {
     "slide_type": "subslide"
    }
   },
   "source": [
    "The difference equation describing the input-output relationship of the DT system with zero initial conditions, is:\n",
    "\n",
    "$$y[n] - 0.5 y[n-1] + 0.125 y[n-2] = x[n] + x[n -1]$$"
   ]
  },
  {
   "cell_type": "markdown",
   "metadata": {
    "slideshow": {
     "slide_type": "subslide"
    }
   },
   "source": [
    "#### Transfer function\n",
    "\n",
    "Numerator $z^2 + z$"
   ]
  },
  {
   "cell_type": "code",
   "execution_count": 2,
   "metadata": {},
   "outputs": [],
   "source": [
    "Nz = [1 1 0];"
   ]
  },
  {
   "cell_type": "markdown",
   "metadata": {
    "slideshow": {
     "slide_type": "fragment"
    }
   },
   "source": [
    "Denominator $z^2 - 0.5 z + 0.125$"
   ]
  },
  {
   "cell_type": "code",
   "execution_count": 3,
   "metadata": {},
   "outputs": [],
   "source": [
    "Dz = [1 -0.5 0.125];"
   ]
  },
  {
   "cell_type": "markdown",
   "metadata": {
    "slideshow": {
     "slide_type": "subslide"
    }
   },
   "source": [
    "#### Poles and residues"
   ]
  },
  {
   "cell_type": "code",
   "execution_count": 4,
   "metadata": {},
   "outputs": [
    {
     "name": "stdout",
     "output_type": "stream",
     "text": [
      "r =\n",
      "   0.7500 - 0.5000i\n",
      "   0.7500 + 0.5000i\n"
     ]
    },
    {
     "name": "stdout",
     "output_type": "stream",
     "text": [
      "p =\n",
      "   0.2500 + 0.2500i\n",
      "   0.2500 - 0.2500i\n"
     ]
    },
    {
     "name": "stdout",
     "output_type": "stream",
     "text": [
      "k =\n",
      "     1\n"
     ]
    }
   ],
   "source": [
    "[r,p,k] = residue(Nz,Dz)"
   ]
  },
  {
   "cell_type": "markdown",
   "metadata": {
    "slideshow": {
     "slide_type": "subslide"
    }
   },
   "source": [
    "#### Impulse Response"
   ]
  },
  {
   "cell_type": "code",
   "execution_count": 5,
   "metadata": {},
   "outputs": [
    {
     "name": "stdout",
     "output_type": "stream",
     "text": [
      "\n",
      "Hz =\n"
     ]
    },
    {
     "name": "stdout",
     "output_type": "stream",
     "text": [
      " \n"
     ]
    },
    {
     "name": "stdout",
     "output_type": "stream",
     "text": [
      "        z^2 + z\n"
     ]
    },
    {
     "name": "stdout",
     "output_type": "stream",
     "text": [
      "  -------------------\n"
     ]
    },
    {
     "name": "stdout",
     "output_type": "stream",
     "text": [
      "  z^2 - 0.5 z + 0.125\n"
     ]
    },
    {
     "name": "stdout",
     "output_type": "stream",
     "text": [
      " \n"
     ]
    },
    {
     "name": "stdout",
     "output_type": "stream",
     "text": [
      "Sample time: 1 seconds\n"
     ]
    },
    {
     "name": "stdout",
     "output_type": "stream",
     "text": [
      "Discrete-time transfer function.\n",
      "\n"
     ]
    }
   ],
   "source": [
    "Hz = tf(Nz,Dz,1)\n",
    "hn = impulse(Hz, 15);"
   ]
  },
  {
   "cell_type": "markdown",
   "metadata": {
    "slideshow": {
     "slide_type": "subslide"
    }
   },
   "source": [
    "#### Plot the response"
   ]
  },
  {
   "cell_type": "code",
   "execution_count": 6,
   "metadata": {
    "slideshow": {
     "slide_type": "-"
    }
   },
   "outputs": [
    {
     "data": {
      "image/svg+xml": [
       "<?xml version=\"1.0\"?>\n",
       "<!DOCTYPE svg PUBLIC '-//W3C//DTD SVG 1.0//EN'\n",
       "          'http://www.w3.org/TR/2001/REC-SVG-20010904/DTD/svg10.dtd'>\n",
       "<svg xmlns:xlink=\"http://www.w3.org/1999/xlink\" style=\"fill-opacity:1; color-rendering:auto; color-interpolation:auto; text-rendering:auto; stroke:black; stroke-linecap:square; stroke-miterlimit:10; shape-rendering:auto; stroke-opacity:1; fill:black; stroke-dasharray:none; font-weight:normal; stroke-width:1; font-family:'Dialog'; font-style:normal; stroke-linejoin:miter; font-size:12px; stroke-dashoffset:0; image-rendering:auto;\" width=\"560\" height=\"420\" xmlns=\"http://www.w3.org/2000/svg\"\n",
       "><!--Generated by the Batik Graphics2D SVG Generator--><defs id=\"genericDefs\"\n",
       "  /><g\n",
       "  ><defs id=\"defs1\"\n",
       "    ><clipPath clipPathUnits=\"userSpaceOnUse\" id=\"clipPath1\"\n",
       "      ><path d=\"M0 0 L560 0 L560 420 L0 420 L0 0 Z\"\n",
       "      /></clipPath\n",
       "      ><font horiz-adv-x=\"50.0\" id=\"font1\"\n",
       "      ><font-face ascent=\"95.200005\" descent=\"21.3\" units-per-em=\"100\" style=\"font-style:normal; font-family:Helvetica Neue; font-weight:normal;\"\n",
       "        /><missing-glyph horiz-adv-x=\"50.0\" d=\"M40.9 66.6 L10.2 66.6 L10.2 4.7 L40.9 4.7 ZM46 71.2 L46 0.1 L5.1 0.1 L5.1 71.2 Z\"\n",
       "        /><glyph unicode=\"2\" horiz-adv-x=\"55.6\" d=\"M4.4 45.8 L12.9 45.8 Q12.8 49 13.55 52.15 Q14.3 55.3 16 57.8 Q17.7 60.3 20.35 61.85 Q23 63.4 26.7 63.4 Q29.5 63.4 32 62.5 Q34.5 61.6 36.35 59.9 Q38.2 58.2 39.3 55.85 Q40.4 53.5 40.4 50.6 Q40.4 46.9 39.25 44.1 Q38.1 41.3 35.85 38.9 Q33.6 36.5 30.2 34.15 Q26.8 31.8 22.3 29 Q18.6 26.8 15.2 24.3 Q11.8 21.8 9.1 18.5 Q6.4 15.2 4.65 10.75 Q2.9 6.3 2.4 0 L48.7 0 L48.7 7.5 L12.3 7.5 Q12.9 10.8 14.85 13.35 Q16.8 15.9 19.55 18.1 Q22.3 20.3 25.6 22.25 Q28.9 24.2 32.2 26.2 Q35.5 28.3 38.6 30.6 Q41.7 32.9 44.1 35.75 Q46.5 38.6 47.95 42.2 Q49.4 45.8 49.4 50.5 Q49.4 55.5 47.65 59.3 Q45.9 63.1 42.9 65.65 Q39.9 68.2 35.85 69.55 Q31.8 70.9 27.2 70.9 Q21.6 70.9 17.2 69 Q12.8 67.1 9.85 63.75 Q6.9 60.4 5.5 55.8 Q4.1 51.2 4.4 45.8 Z\"\n",
       "        /><glyph unicode=\".\" horiz-adv-x=\"27.8\" d=\"M8.3 11.1 L8.3 0 L19.4 0 L19.4 11.1 Z\"\n",
       "        /><glyph unicode=\"0\" horiz-adv-x=\"55.6\" d=\"M13.2 34.9 Q13.2 37.5 13.25 40.65 Q13.3 43.8 13.75 46.95 Q14.2 50.1 15.05 53.1 Q15.9 56.1 17.55 58.35 Q19.2 60.6 21.7 62 Q24.2 63.4 27.8 63.4 Q31.4 63.4 33.9 62 Q36.4 60.6 38.05 58.35 Q39.7 56.1 40.55 53.1 Q41.4 50.1 41.85 46.95 Q42.3 43.8 42.35 40.65 Q42.4 37.5 42.4 34.9 Q42.4 30.9 42.15 25.95 Q41.9 21 40.55 16.65 Q39.2 12.3 36.2 9.3 Q33.2 6.3 27.8 6.3 Q22.4 6.3 19.4 9.3 Q16.4 12.3 15.05 16.65 Q13.7 21 13.45 25.95 Q13.2 30.9 13.2 34.9 ZM4.2 34.8 Q4.2 30.9 4.4 26.7 Q4.6 22.5 5.4 18.5 Q6.2 14.5 7.7 10.95 Q9.2 7.4 11.8 4.7 Q14.4 2 18.35 0.45 Q22.3 -1.1 27.8 -1.1 Q33.4 -1.1 37.3 0.45 Q41.2 2 43.8 4.7 Q46.4 7.4 47.9 10.95 Q49.4 14.5 50.2 18.5 Q51 22.5 51.2 26.7 Q51.4 30.9 51.4 34.8 Q51.4 38.7 51.2 42.9 Q51 47.1 50.2 51.1 Q49.4 55.1 47.9 58.7 Q46.4 62.3 43.8 65 Q41.2 67.7 37.25 69.3 Q33.3 70.9 27.8 70.9 Q22.3 70.9 18.35 69.3 Q14.4 67.7 11.8 65 Q9.2 62.3 7.7 58.7 Q6.2 55.1 5.4 51.1 Q4.6 47.1 4.4 42.9 Q4.2 38.7 4.2 34.8 Z\"\n",
       "        /><glyph unicode=\"-\" horiz-adv-x=\"38.9\" d=\"M5 31.8 L5 23.8 L33.9 23.8 L33.9 31.8 Z\"\n",
       "        /><glyph unicode=\"4\" horiz-adv-x=\"55.6\" d=\"M33.9 24.1 L10.1 24.1 L33.7 58.8 L33.9 58.8 ZM41.9 24.1 L41.9 70.9 L35.1 70.9 L2.8 24.8 L2.8 16.6 L33.9 16.6 L33.9 0 L41.9 0 L41.9 16.6 L51.5 16.6 L51.5 24.1 Z\"\n",
       "        /><glyph unicode=\"6\" horiz-adv-x=\"55.6\" d=\"M41.4 52.8 L49.9 52.8 Q49.1 61.6 43.9 66.25 Q38.7 70.9 29.9 70.9 Q22.3 70.9 17.3 67.7 Q12.3 64.5 9.3 59.2 Q6.3 53.9 5.05 47.05 Q3.8 40.2 3.8 32.9 Q3.8 27.3 4.65 21.3 Q5.5 15.3 8.1 10.3 Q10.7 5.3 15.5 2.1 Q20.3 -1.1 28.2 -1.1 Q34.9 -1.1 39.45 1.15 Q44 3.4 46.75 6.85 Q49.5 10.3 50.7 14.5 Q51.9 18.7 51.9 22.6 Q51.9 27.5 50.4 31.7 Q48.9 35.9 46.15 39 Q43.4 42.1 39.35 43.85 Q35.3 45.6 30.2 45.6 Q24.4 45.6 19.95 43.4 Q15.5 41.2 12.5 36.3 L12.3 36.5 Q12.4 40.6 13.1 45.3 Q13.8 50 15.65 54.05 Q17.5 58.1 20.8 60.75 Q24.1 63.4 29.5 63.4 Q34.6 63.4 37.7 60.5 Q40.8 57.6 41.4 52.8 ZM28.6 38.1 Q32.2 38.1 34.9 36.8 Q37.6 35.5 39.4 33.35 Q41.2 31.2 42.05 28.25 Q42.9 25.3 42.9 22 Q42.9 18.9 41.95 16.05 Q41 13.2 39.2 11 Q37.4 8.8 34.75 7.55 Q32.1 6.3 28.6 6.3 Q25.1 6.3 22.35 7.55 Q19.6 8.8 17.75 10.9 Q15.9 13 14.9 15.9 Q13.9 18.8 13.9 22.1 Q13.9 25.4 14.85 28.35 Q15.8 31.3 17.7 33.45 Q19.6 35.6 22.3 36.85 Q25 38.1 28.6 38.1 Z\"\n",
       "        /><glyph unicode=\"8\" horiz-adv-x=\"55.6\" d=\"M15.5 52.5 Q15.5 55.2 16.5 57.2 Q17.5 59.2 19.15 60.6 Q20.8 62 23.1 62.7 Q25.4 63.4 27.9 63.4 Q33.1 63.4 36.45 60.65 Q39.8 57.9 39.8 52.5 Q39.8 47.1 36.5 44.1 Q33.2 41.1 28.1 41.1 Q25.5 41.1 23.2 41.8 Q20.9 42.5 19.2 43.9 Q17.5 45.3 16.5 47.45 Q15.5 49.6 15.5 52.5 ZM6.5 52.8 Q6.5 48 9.2 43.95 Q11.9 39.9 16.4 38.1 Q10.4 36 7.2 31.35 Q4 26.7 4 20.4 Q4 15 5.85 10.95 Q7.7 6.9 10.95 4.2 Q14.2 1.5 18.6 0.2 Q23 -1.1 28.1 -1.1 Q33 -1.1 37.3 0.3 Q41.6 1.7 44.75 4.45 Q47.9 7.2 49.75 11.2 Q51.6 15.2 51.6 20.4 Q51.6 27 48.5 31.55 Q45.4 36.1 39 38.1 Q43.5 40.1 46.15 44.05 Q48.8 48 48.8 52.8 Q48.8 56.2 47.6 59.45 Q46.4 62.7 43.85 65.25 Q41.3 67.8 37.2 69.35 Q33.1 70.9 27.3 70.9 Q23.2 70.9 19.45 69.7 Q15.7 68.5 12.8 66.2 Q9.9 63.9 8.2 60.55 Q6.5 57.2 6.5 52.8 ZM13 20 Q13 23.1 14.15 25.6 Q15.3 28.1 17.35 29.9 Q19.4 31.7 22.15 32.65 Q24.9 33.6 28 33.6 Q31 33.6 33.65 32.55 Q36.3 31.5 38.3 29.7 Q40.3 27.9 41.45 25.45 Q42.6 23 42.6 20.1 Q42.6 17.1 41.55 14.6 Q40.5 12.1 38.55 10.25 Q36.6 8.4 33.95 7.35 Q31.3 6.3 28.1 6.3 Q21.5 6.3 17.25 9.95 Q13 13.6 13 20 Z\"\n",
       "        /><glyph unicode=\"1\" horiz-adv-x=\"55.6\" d=\"M35.6 0 L35.6 70.9 L29.1 70.9 Q28.4 66.9 26.5 64.3 Q24.6 61.7 21.85 60.2 Q19.1 58.7 15.7 58.15 Q12.3 57.6 8.7 57.6 L8.7 50.8 L27.1 50.8 L27.1 0 Z\"\n",
       "        /><glyph unicode=\"]\" horiz-adv-x=\"25.9\" d=\"M0 -12.9 L0 -19.7 L18.7 -19.7 L18.7 73.1 L0 73.1 L0 66.3 L10.7 66.3 L10.7 -12.9 Z\"\n",
       "        /><glyph unicode=\"[\" horiz-adv-x=\"25.9\" d=\"M25.9 66.3 L25.9 73.1 L7.2 73.1 L7.2 -19.7 L25.9 -19.7 L25.9 -12.9 L15.2 -12.9 L15.2 66.3 Z\"\n",
       "        /><glyph unicode=\"h\" horiz-adv-x=\"55.6\" d=\"M6.4 71.4 L6.4 0 L14.9 0 L14.9 29.2 Q14.9 32.7 15.85 35.65 Q16.8 38.6 18.7 40.8 Q20.6 43 23.45 44.2 Q26.3 45.4 30.2 45.4 Q35.1 45.4 37.9 42.6 Q40.7 39.8 40.7 35 L40.7 0 L49.2 0 L49.2 34 Q49.2 38.2 48.35 41.65 Q47.5 45.1 45.4 47.6 Q43.3 50.1 39.9 51.5 Q36.5 52.9 31.4 52.9 Q29.1 52.9 26.65 52.4 Q24.2 51.9 21.95 50.85 Q19.7 49.8 17.9 48.15 Q16.1 46.5 15.1 44.1 L14.9 44.1 L14.9 71.4 Z\"\n",
       "        /><glyph unicode=\"n\" horiz-adv-x=\"55.6\" d=\"M6.4 51.7 L6.4 0 L14.9 0 L14.9 29.2 Q14.9 32.7 15.85 35.65 Q16.8 38.6 18.7 40.8 Q20.6 43 23.45 44.2 Q26.3 45.4 30.2 45.4 Q35.1 45.4 37.9 42.6 Q40.7 39.8 40.7 35 L40.7 0 L49.2 0 L49.2 34 Q49.2 38.2 48.35 41.65 Q47.5 45.1 45.4 47.6 Q43.3 50.1 39.9 51.5 Q36.5 52.9 31.4 52.9 Q19.9 52.9 14.6 43.5 L14.4 43.5 L14.4 51.7 Z\"\n",
       "        /><glyph unicode=\"o\" horiz-adv-x=\"57.4\" d=\"M12.6 25.8 Q12.6 30.5 13.85 34.15 Q15.1 37.8 17.3 40.3 Q19.5 42.8 22.45 44.1 Q25.4 45.4 28.7 45.4 Q32 45.4 34.95 44.1 Q37.9 42.8 40.1 40.3 Q42.3 37.8 43.55 34.15 Q44.8 30.5 44.8 25.8 Q44.8 21.1 43.55 17.45 Q42.3 13.8 40.1 11.35 Q37.9 8.9 34.95 7.6 Q32 6.3 28.7 6.3 Q25.4 6.3 22.45 7.6 Q19.5 8.9 17.3 11.35 Q15.1 13.8 13.85 17.45 Q12.6 21.1 12.6 25.8 ZM3.6 25.8 Q3.6 20.1 5.2 15.2 Q6.8 10.3 10 6.65 Q13.2 3 17.9 0.95 Q22.6 -1.1 28.7 -1.1 Q34.9 -1.1 39.55 0.95 Q44.2 3 47.4 6.65 Q50.6 10.3 52.2 15.2 Q53.8 20.1 53.8 25.8 Q53.8 31.5 52.2 36.45 Q50.6 41.4 47.4 45.05 Q44.2 48.7 39.55 50.8 Q34.9 52.9 28.7 52.9 Q22.6 52.9 17.9 50.8 Q13.2 48.7 10 45.05 Q6.8 41.4 5.2 36.45 Q3.6 31.5 3.6 25.8 Z\"\n",
       "        /><glyph unicode=\"r\" horiz-adv-x=\"33.3\" d=\"M6.1 51.7 L6.1 0 L14.6 0 L14.6 23 Q14.6 28 15.6 31.85 Q16.6 35.7 18.8 38.4 Q21 41.1 24.6 42.5 Q28.2 43.9 33.3 43.9 L33.3 52.9 Q26.4 53.1 21.9 50.1 Q17.4 47.1 14.3 40.8 L14.1 40.8 L14.1 51.7 Z\"\n",
       "        /><glyph unicode=\" \" horiz-adv-x=\"27.8\" d=\"\"\n",
       "        /><glyph unicode=\"e\" horiz-adv-x=\"53.7\" d=\"M42.3 30.8 L12.6 30.8 Q12.8 33.8 13.9 36.45 Q15 39.1 16.9 41.1 Q18.8 43.1 21.45 44.25 Q24.1 45.4 27.4 45.4 Q30.6 45.4 33.25 44.25 Q35.9 43.1 37.85 41.15 Q39.8 39.2 40.95 36.5 Q42.1 33.8 42.3 30.8 ZM50.5 16.4 L42.1 16.4 Q41 11.3 37.55 8.8 Q34.1 6.3 28.7 6.3 Q24.5 6.3 21.4 7.7 Q18.3 9.1 16.3 11.45 Q14.3 13.8 13.4 16.85 Q12.5 19.9 12.6 23.3 L51.3 23.3 Q51.5 28 50.45 33.2 Q49.4 38.4 46.65 42.8 Q43.9 47.2 39.35 50.05 Q34.8 52.9 27.9 52.9 Q22.6 52.9 18.15 50.9 Q13.7 48.9 10.45 45.3 Q7.2 41.7 5.4 36.8 Q3.6 31.9 3.6 26 Q3.8 20.1 5.35 15.1 Q6.9 10.1 10 6.5 Q13.1 2.9 17.65 0.9 Q22.2 -1.1 28.4 -1.1 Q37.2 -1.1 43 3.3 Q48.8 7.7 50.5 16.4 Z\"\n",
       "        /><glyph unicode=\"s\" horiz-adv-x=\"50.0\" d=\"M11.6 16.3 L3.1 16.3 Q3.3 11.5 5.1 8.15 Q6.9 4.8 9.9 2.75 Q12.9 0.7 16.8 -0.2 Q20.7 -1.1 25 -1.1 Q28.9 -1.1 32.85 -0.35 Q36.8 0.4 39.95 2.3 Q43.1 4.2 45.05 7.3 Q47 10.4 47 15.1 Q47 18.8 45.55 21.3 Q44.1 23.8 41.75 25.45 Q39.4 27.1 36.35 28.1 Q33.3 29.1 30.1 29.8 Q27.1 30.5 24.1 31.15 Q21.1 31.8 18.7 32.75 Q16.3 33.7 14.75 35.15 Q13.2 36.6 13.2 38.8 Q13.2 40.8 14.2 42.05 Q15.2 43.3 16.8 44.05 Q18.4 44.8 20.35 45.1 Q22.3 45.4 24.2 45.4 Q26.3 45.4 28.35 44.95 Q30.4 44.5 32.1 43.5 Q33.8 42.5 34.9 40.85 Q36 39.2 36.2 36.7 L44.7 36.7 Q44.4 41.4 42.7 44.55 Q41 47.7 38.15 49.55 Q35.3 51.4 31.6 52.15 Q27.9 52.9 23.5 52.9 Q20.1 52.9 16.65 52.05 Q13.2 51.2 10.45 49.45 Q7.7 47.7 5.95 44.9 Q4.2 42.1 4.2 38.2 Q4.2 33.2 6.7 30.4 Q9.2 27.6 12.95 26.05 Q16.7 24.5 21.1 23.65 Q25.5 22.8 29.25 21.75 Q33 20.7 35.5 19 Q38 17.3 38 14 Q38 11.6 36.8 10.05 Q35.6 8.5 33.75 7.7 Q31.9 6.9 29.7 6.6 Q27.5 6.3 25.5 6.3 Q22.9 6.3 20.45 6.8 Q18 7.3 16.05 8.45 Q14.1 9.6 12.9 11.55 Q11.7 13.5 11.6 16.3 Z\"\n",
       "        /><glyph unicode=\"l\" horiz-adv-x=\"22.2\" d=\"M6.9 71.4 L6.9 0 L15.4 0 L15.4 71.4 Z\"\n",
       "        /><glyph unicode=\"u\" horiz-adv-x=\"55.6\" d=\"M49.2 0 L49.2 51.7 L40.7 51.7 L40.7 22.5 Q40.7 19 39.75 16.05 Q38.8 13.1 36.9 10.9 Q35 8.7 32.15 7.5 Q29.3 6.3 25.4 6.3 Q20.5 6.3 17.7 9.1 Q14.9 11.9 14.9 16.7 L14.9 51.7 L6.4 51.7 L6.4 17.7 Q6.4 13.5 7.25 10.05 Q8.1 6.6 10.2 4.1 Q12.3 1.6 15.7 0.25 Q19.1 -1.1 24.2 -1.1 Q29.9 -1.1 34.1 1.15 Q38.3 3.4 41 8.2 L41.2 8.2 L41.2 0 Z\"\n",
       "        /><glyph unicode=\"p\" horiz-adv-x=\"59.3\" d=\"M6.7 51.7 L6.7 -19.7 L15.2 -19.7 L15.2 6.9 L15.4 6.9 Q16.8 4.6 18.85 3.05 Q20.9 1.5 23.2 0.6 Q25.5 -0.3 27.85 -0.7 Q30.2 -1.1 32.1 -1.1 Q38 -1.1 42.45 1 Q46.9 3.1 49.85 6.75 Q52.8 10.4 54.25 15.3 Q55.7 20.2 55.7 25.7 Q55.7 31.2 54.2 36.1 Q52.7 41 49.75 44.75 Q46.8 48.5 42.35 50.7 Q37.9 52.9 31.9 52.9 Q26.5 52.9 22 50.95 Q17.5 49 15.4 44.7 L15.2 44.7 L15.2 51.7 ZM46.7 26.3 Q46.7 22.5 45.9 18.9 Q45.1 15.3 43.3 12.5 Q41.5 9.7 38.55 8 Q35.6 6.3 31.2 6.3 Q26.8 6.3 23.7 7.95 Q20.6 9.6 18.65 12.3 Q16.7 15 15.8 18.55 Q14.9 22.1 14.9 25.9 Q14.9 29.5 15.75 33 Q16.6 36.5 18.5 39.25 Q20.4 42 23.4 43.7 Q26.4 45.4 30.7 45.4 Q34.8 45.4 37.85 43.8 Q40.9 42.2 42.85 39.5 Q44.8 36.8 45.75 33.35 Q46.7 29.9 46.7 26.3 Z\"\n",
       "        /><glyph unicode=\"m\" horiz-adv-x=\"85.3\" d=\"M6.4 51.7 L6.4 0 L14.9 0 L14.9 32.2 Q14.9 33.7 15.65 35.95 Q16.4 38.2 18.05 40.3 Q19.7 42.4 22.35 43.9 Q25 45.4 28.7 45.4 Q31.6 45.4 33.45 44.55 Q35.3 43.7 36.4 42.15 Q37.5 40.6 37.95 38.5 Q38.4 36.4 38.4 33.9 L38.4 0 L46.9 0 L46.9 32.2 Q46.9 38.2 50.5 41.8 Q54.1 45.4 60.4 45.4 Q63.5 45.4 65.45 44.5 Q67.4 43.6 68.5 42.05 Q69.6 40.5 70 38.4 Q70.4 36.3 70.4 33.9 L70.4 0 L78.9 0 L78.9 37.9 Q78.9 41.9 77.65 44.75 Q76.4 47.6 74.15 49.4 Q71.9 51.2 68.75 52.05 Q65.6 52.9 61.7 52.9 Q56.6 52.9 52.35 50.6 Q48.1 48.3 45.5 44.1 Q43.9 48.9 40 50.9 Q36.1 52.9 31.3 52.9 Q20.4 52.9 14.6 44.1 L14.4 44.1 L14.4 51.7 Z\"\n",
       "        /><glyph unicode=\"I\" horiz-adv-x=\"25.9\" d=\"M8.2 71.4 L8.2 0 L17.7 0 L17.7 71.4 Z\"\n",
       "        /><glyph unicode=\"5\" horiz-adv-x=\"55.6\" d=\"M47 62.2 L47 69.7 L12 69.7 L5.4 32.9 L12.7 32.5 Q15.2 35.5 18.45 37.35 Q21.7 39.2 25.9 39.2 Q29.5 39.2 32.45 38 Q35.4 36.8 37.5 34.65 Q39.6 32.5 40.75 29.55 Q41.9 26.6 41.9 23.1 Q41.9 18.9 40.7 15.75 Q39.5 12.6 37.45 10.5 Q35.4 8.4 32.65 7.35 Q29.9 6.3 26.9 6.3 Q23.7 6.3 21.05 7.25 Q18.4 8.2 16.45 9.95 Q14.5 11.7 13.35 14.05 Q12.2 16.4 12 19.1 L3.5 19.1 Q3.6 14.3 5.4 10.5 Q7.2 6.7 10.3 4.15 Q13.4 1.6 17.45 0.25 Q21.5 -1.1 26.1 -1.1 Q32.3 -1.1 36.95 0.85 Q41.6 2.8 44.7 6.1 Q47.8 9.4 49.35 13.65 Q50.9 17.9 50.9 22.4 Q50.9 28.5 49.1 33.05 Q47.3 37.6 44.2 40.65 Q41.1 43.7 36.9 45.2 Q32.7 46.7 28 46.7 Q24.4 46.7 20.75 45.45 Q17.1 44.2 14.8 41.6 L14.6 41.8 L18.4 62.2 Z\"\n",
       "      /></font\n",
       "      ><font horiz-adv-x=\"50.0\" id=\"font2\"\n",
       "      ><font-face ascent=\"97.5\" descent=\"21.699999\" units-per-em=\"100\" style=\"font-style:normal; font-family:Helvetica Neue; font-weight:bold;\"\n",
       "        /><missing-glyph horiz-adv-x=\"50.0\" d=\"M39.1 60.7 L11.1 60.7 L11.1 9.5 L39.1 9.5 ZM48.2 69.8 L48.2 0.3 L1.7 0.3 L1.7 69.8 Z\"\n",
       "        /><glyph unicode=\"2\" horiz-adv-x=\"55.6\" d=\"M3.7 43.1 L17.3 43.1 Q17.3 45.9 17.85 48.75 Q18.4 51.6 19.7 53.95 Q21 56.3 23.15 57.75 Q25.3 59.2 28.4 59.2 Q33 59.2 35.95 56.35 Q38.9 53.5 38.9 48.4 Q38.9 45.2 37.45 42.7 Q36 40.2 33.85 38.2 Q31.7 36.2 29.1 34.55 Q26.5 32.9 24.2 31.3 Q19.7 28.2 15.65 25.2 Q11.6 22.2 8.6 18.65 Q5.6 15.1 3.85 10.6 Q2.1 6.1 2.1 0 L53.5 0 L53.5 12.2 L20.4 12.2 Q23 15.8 26.4 18.5 Q29.8 21.2 33.4 23.55 Q37 25.9 40.55 28.3 Q44.1 30.7 46.9 33.65 Q49.7 36.6 51.4 40.4 Q53.1 44.2 53.1 49.5 Q53.1 54.6 51.15 58.7 Q49.2 62.8 45.9 65.6 Q42.6 68.4 38.25 69.9 Q33.9 71.4 29.1 71.4 Q22.8 71.4 17.95 69.25 Q13.1 67.1 9.9 63.25 Q6.7 59.4 5.1 54.25 Q3.5 49.1 3.7 43.1 Z\"\n",
       "        /><glyph unicode=\"t\" horiz-adv-x=\"35.2\" d=\"M23.4 51.7 L23.4 67.2 L9.2 67.2 L9.2 51.7 L0.6 51.7 L0.6 42.2 L9.2 42.2 L9.2 11.7 Q9.2 7.8 10.5 5.4 Q11.8 3 14.05 1.7 Q16.3 0.4 19.25 -0.05 Q22.2 -0.5 25.5 -0.5 Q27.6 -0.5 29.8 -0.4 Q32 -0.3 33.8 0 L33.8 11 Q32.8 10.8 31.7 10.7 Q30.6 10.6 29.4 10.6 Q25.8 10.6 24.6 11.8 Q23.4 13 23.4 16.6 L23.4 42.2 L33.8 42.2 L33.8 51.7 Z\"\n",
       "        /><glyph unicode=\"r\" horiz-adv-x=\"38.9\" d=\"M5.4 51.7 L5.4 0 L19.6 0 L19.6 23.3 Q19.6 26.8 20.3 29.8 Q21 32.8 22.65 35.05 Q24.3 37.3 27 38.6 Q29.7 39.9 33.6 39.9 Q34.9 39.9 36.3 39.75 Q37.7 39.6 38.7 39.4 L38.7 52.6 Q37 53.1 35.6 53.1 Q32.9 53.1 30.4 52.3 Q27.9 51.5 25.7 50.05 Q23.5 48.6 21.8 46.55 Q20.1 44.5 19.1 42.1 L18.9 42.1 L18.9 51.7 Z\"\n",
       "        /><glyph unicode=\"P\" horiz-adv-x=\"66.7\" d=\"M22.6 37.8 L22.6 59.2 L34.8 59.2 Q37.5 59.2 40 58.8 Q42.5 58.4 44.4 57.25 Q46.3 56.1 47.45 54 Q48.6 51.9 48.6 48.5 Q48.6 45.1 47.45 43 Q46.3 40.9 44.4 39.75 Q42.5 38.6 40 38.2 Q37.5 37.8 34.8 37.8 ZM6.9 71.4 L6.9 0 L22.6 0 L22.6 25.6 L39.1 25.6 Q45.8 25.6 50.5 27.55 Q55.2 29.5 58.15 32.7 Q61.1 35.9 62.45 40.05 Q63.8 44.2 63.8 48.5 Q63.8 52.9 62.45 57 Q61.1 61.1 58.15 64.3 Q55.2 67.5 50.5 69.45 Q45.8 71.4 39.1 71.4 Z\"\n",
       "        /><glyph unicode=\"-\" horiz-adv-x=\"40.7\" d=\"M5.3 33.4 L5.3 21.2 L35.4 21.2 L35.4 33.4 Z\"\n",
       "        /><glyph unicode=\"5\" horiz-adv-x=\"55.6\" d=\"M50 58.3 L50 70 L10.9 70 L4 31.3 L16.8 31.3 Q18.9 34.2 21.3 35.55 Q23.7 36.9 27.5 36.9 Q30.4 36.9 32.6 35.9 Q34.8 34.9 36.4 33.1 Q38 31.3 38.8 28.9 Q39.6 26.5 39.6 23.8 Q39.6 21.2 38.75 18.75 Q37.9 16.3 36.35 14.45 Q34.8 12.6 32.55 11.45 Q30.3 10.3 27.5 10.3 Q22.7 10.3 19.6 13.15 Q16.5 16 16 20.8 L1.8 20.8 Q1.9 15.3 4.05 11.15 Q6.2 7 9.8 4.2 Q13.4 1.4 18.05 0.05 Q22.7 -1.3 27.8 -1.3 Q33.1 -1.4 37.8 0.45 Q42.5 2.3 46.05 5.7 Q49.6 9.1 51.7 13.75 Q53.8 18.4 53.8 23.8 Q53.8 28.7 52.35 33.05 Q50.9 37.4 48.15 40.6 Q45.4 43.8 41.4 45.7 Q37.4 47.6 32.2 47.6 Q28 47.6 24.7 46.35 Q21.4 45.1 18.5 42.2 L18.3 42.4 L21.1 58.3 Z\"\n",
       "        /><glyph unicode=\" \" horiz-adv-x=\"27.8\" d=\"\"\n",
       "        /><glyph unicode=\"e\" horiz-adv-x=\"57.4\" d=\"M40.2 31.4 L17.1 31.4 Q17.2 32.9 17.75 34.8 Q18.3 36.7 19.65 38.4 Q21 40.1 23.25 41.25 Q25.5 42.4 28.9 42.4 Q34.1 42.4 36.65 39.6 Q39.2 36.8 40.2 31.4 ZM17.1 22.4 L54.4 22.4 Q54.8 28.4 53.4 33.9 Q52 39.4 48.85 43.7 Q45.7 48 40.8 50.55 Q35.9 53.1 29.3 53.1 Q23.4 53.1 18.55 51 Q13.7 48.9 10.2 45.25 Q6.7 41.6 4.8 36.6 Q2.9 31.6 2.9 25.8 Q2.9 19.8 4.75 14.8 Q6.6 9.8 10 6.2 Q13.4 2.6 18.3 0.65 Q23.2 -1.3 29.3 -1.3 Q38.1 -1.3 44.3 2.7 Q50.5 6.7 53.5 16 L41 16 Q40.3 13.6 37.2 11.45 Q34.1 9.3 29.8 9.3 Q23.8 9.3 20.6 12.4 Q17.4 15.5 17.1 22.4 Z\"\n",
       "        /><glyph unicode=\"l\" horiz-adv-x=\"25.8\" d=\"M5.8 71.4 L5.8 0 L20 0 L20 71.4 Z\"\n",
       "        /><glyph unicode=\"p\" horiz-adv-x=\"61.1\" d=\"M31.5 9.3 Q28.1 9.3 25.7 10.7 Q23.3 12.1 21.85 14.35 Q20.4 16.6 19.75 19.6 Q19.1 22.6 19.1 25.7 Q19.1 28.9 19.7 31.9 Q20.3 34.9 21.75 37.2 Q23.2 39.5 25.55 40.95 Q27.9 42.4 31.4 42.4 Q34.8 42.4 37.15 40.95 Q39.5 39.5 41 37.15 Q42.5 34.8 43.15 31.8 Q43.8 28.8 43.8 25.7 Q43.8 22.6 43.2 19.6 Q42.6 16.6 41.15 14.35 Q39.7 12.1 37.35 10.7 Q35 9.3 31.5 9.3 ZM5.4 51.7 L5.4 -18.1 L19.6 -18.1 L19.6 6.4 L19.8 6.4 Q22.4 2.6 26.45 0.65 Q30.5 -1.3 35.3 -1.3 Q41 -1.3 45.25 0.9 Q49.5 3.1 52.35 6.8 Q55.2 10.5 56.6 15.3 Q58 20.1 58 25.3 Q58 30.8 56.6 35.85 Q55.2 40.9 52.3 44.7 Q49.4 48.5 45 50.8 Q40.6 53.1 34.5 53.1 Q29.7 53.1 25.7 51.2 Q21.7 49.3 19.1 45.1 L18.9 45.1 L18.9 51.7 Z\"\n",
       "        /><glyph unicode=\"m\" horiz-adv-x=\"90.6\" d=\"M5.8 51.7 L5.8 0 L20 0 L20 30 Q20 33.8 21.1 36.15 Q22.2 38.5 23.75 39.75 Q25.3 41 26.95 41.45 Q28.6 41.9 29.6 41.9 Q33 41.9 34.75 40.75 Q36.5 39.6 37.25 37.7 Q38 35.8 38.1 33.55 Q38.2 31.3 38.2 29 L38.2 0 L52.4 0 L52.4 28.8 Q52.4 31.2 52.75 33.55 Q53.1 35.9 54.15 37.75 Q55.2 39.6 57.05 40.75 Q58.9 41.9 61.9 41.9 Q64.9 41.9 66.65 40.9 Q68.4 39.9 69.3 38.2 Q70.2 36.5 70.4 34.2 Q70.6 31.9 70.6 29.3 L70.6 0 L84.8 0 L84.8 34.6 Q84.8 39.6 83.4 43.15 Q82 46.7 79.5 48.9 Q77 51.1 73.5 52.1 Q70 53.1 65.9 53.1 Q60.5 53.1 56.55 50.5 Q52.6 47.9 50.3 44.5 Q48.2 49.3 44.15 51.2 Q40.1 53.1 35.2 53.1 Q30.1 53.1 26.15 50.9 Q22.2 48.7 19.4 44.7 L19.2 44.7 L19.2 51.7 Z\"\n",
       "        /><glyph unicode=\"a\" horiz-adv-x=\"57.4\" d=\"M4.8 35.8 Q5.1 40.8 7.3 44.1 Q9.5 47.4 12.9 49.4 Q16.3 51.4 20.55 52.25 Q24.8 53.1 29.1 53.1 Q33 53.1 37 52.55 Q41 52 44.3 50.4 Q47.6 48.8 49.7 45.95 Q51.8 43.1 51.8 38.4 L51.8 11.5 Q51.8 8 52.2 4.8 Q52.6 1.6 53.6 0 L39.2 0 Q38.8 1.2 38.55 2.45 Q38.3 3.7 38.2 5 Q34.8 1.5 30.2 0.1 Q25.6 -1.3 20.8 -1.3 Q17.1 -1.3 13.9 -0.4 Q10.7 0.5 8.3 2.4 Q5.9 4.3 4.55 7.2 Q3.2 10.1 3.2 14.1 Q3.2 18.5 4.75 21.35 Q6.3 24.2 8.75 25.9 Q11.2 27.6 14.35 28.45 Q17.5 29.3 20.7 29.8 Q23.9 30.3 27 30.6 Q30.1 30.9 32.5 31.5 Q34.9 32.1 36.3 33.25 Q37.7 34.4 37.6 36.6 Q37.6 38.9 36.85 40.25 Q36.1 41.6 34.85 42.35 Q33.6 43.1 31.95 43.35 Q30.3 43.6 28.4 43.6 Q24.2 43.6 21.8 41.8 Q19.4 40 19 35.8 ZM37.6 25.3 Q36.7 24.5 35.35 24.05 Q34 23.6 32.45 23.3 Q30.9 23 29.2 22.8 Q27.5 22.6 25.8 22.3 Q24.2 22 22.65 21.5 Q21.1 21 19.95 20.15 Q18.8 19.3 18.1 18 Q17.4 16.7 17.4 14.7 Q17.4 12.8 18.1 11.5 Q18.8 10.2 20 9.45 Q21.2 8.7 22.8 8.4 Q24.4 8.1 26.1 8.1 Q30.3 8.1 32.6 9.5 Q34.9 10.9 36 12.85 Q37.1 14.8 37.35 16.8 Q37.6 18.8 37.6 20 Z\"\n",
       "        /><glyph unicode=\"x\" horiz-adv-x=\"53.7\" d=\"M18.6 27.2 L0 0 L15.9 0 L26.7 16.3 L37.5 0 L53.7 0 L34.6 27.5 L51.6 51.7 L35.9 51.7 L26.9 38.2 L17.8 51.7 L1.6 51.7 Z\"\n",
       "        /><glyph unicode=\"E\" horiz-adv-x=\"64.8\" d=\"M6.9 71.4 L6.9 0 L61.1 0 L61.1 13.2 L22.6 13.2 L22.6 30.7 L57.2 30.7 L57.2 42.9 L22.6 42.9 L22.6 58.2 L60.3 58.2 L60.3 71.4 Z\"\n",
       "      /></font\n",
       "    ></defs\n",
       "    ><g style=\"fill:white; stroke:white;\"\n",
       "    ><rect x=\"0\" y=\"0\" width=\"560\" style=\"clip-path:url(#clipPath1); stroke:none;\" height=\"420\"\n",
       "    /></g\n",
       "    ><g style=\"fill:white; text-rendering:optimizeSpeed; color-rendering:optimizeSpeed; image-rendering:optimizeSpeed; shape-rendering:crispEdges; stroke:white; color-interpolation:sRGB;\"\n",
       "    ><rect x=\"0\" width=\"560\" height=\"420\" y=\"0\" style=\"stroke:none;\"\n",
       "      /><path style=\"stroke:none;\" d=\"M73 374 L507 374 L507 31 L73 31 Z\"\n",
       "    /></g\n",
       "    ><g style=\"stroke-linecap:butt; fill-opacity:0.149; fill:rgb(38,38,38); text-rendering:geometricPrecision; image-rendering:optimizeQuality; color-rendering:optimizeQuality; stroke-linejoin:round; stroke:rgb(38,38,38); color-interpolation:linearRGB; stroke-width:0.5; stroke-opacity:0.149;\"\n",
       "    ><line y2=\"31\" style=\"fill:none;\" x1=\"73\" x2=\"73\" y1=\"374\"\n",
       "      /><line y2=\"31\" style=\"fill:none;\" x1=\"217.6667\" x2=\"217.6667\" y1=\"374\"\n",
       "      /><line y2=\"31\" style=\"fill:none;\" x1=\"362.3333\" x2=\"362.3333\" y1=\"374\"\n",
       "      /><line y2=\"31\" style=\"fill:none;\" x1=\"507\" x2=\"507\" y1=\"374\"\n",
       "      /><line y2=\"374\" style=\"fill:none;\" x1=\"507\" x2=\"73\" y1=\"374\"\n",
       "      /><line y2=\"335.8889\" style=\"fill:none;\" x1=\"507\" x2=\"73\" y1=\"335.8889\"\n",
       "      /><line y2=\"297.7778\" style=\"fill:none;\" x1=\"507\" x2=\"73\" y1=\"297.7778\"\n",
       "      /><line y2=\"259.6667\" style=\"fill:none;\" x1=\"507\" x2=\"73\" y1=\"259.6667\"\n",
       "      /><line y2=\"221.5556\" style=\"fill:none;\" x1=\"507\" x2=\"73\" y1=\"221.5556\"\n",
       "      /><line y2=\"183.4444\" style=\"fill:none;\" x1=\"507\" x2=\"73\" y1=\"183.4444\"\n",
       "      /><line y2=\"145.3333\" style=\"fill:none;\" x1=\"507\" x2=\"73\" y1=\"145.3333\"\n",
       "      /><line y2=\"107.2222\" style=\"fill:none;\" x1=\"507\" x2=\"73\" y1=\"107.2222\"\n",
       "      /><line y2=\"69.1111\" style=\"fill:none;\" x1=\"507\" x2=\"73\" y1=\"69.1111\"\n",
       "      /><line y2=\"31\" style=\"fill:none;\" x1=\"507\" x2=\"73\" y1=\"31\"\n",
       "      /><line x1=\"73\" x2=\"73\" y1=\"374\" style=\"stroke-linecap:square; fill-opacity:1; fill:none; stroke-opacity:1;\" y2=\"31\"\n",
       "      /><line x1=\"507\" x2=\"507\" y1=\"374\" style=\"stroke-linecap:square; fill-opacity:1; fill:none; stroke-opacity:1;\" y2=\"31\"\n",
       "      /><line x1=\"73\" x2=\"77.34\" y1=\"374\" style=\"stroke-linecap:square; fill-opacity:1; fill:none; stroke-opacity:1;\" y2=\"374\"\n",
       "      /><line x1=\"73\" x2=\"77.34\" y1=\"335.8889\" style=\"stroke-linecap:square; fill-opacity:1; fill:none; stroke-opacity:1;\" y2=\"335.8889\"\n",
       "      /><line x1=\"73\" x2=\"77.34\" y1=\"297.7778\" style=\"stroke-linecap:square; fill-opacity:1; fill:none; stroke-opacity:1;\" y2=\"297.7778\"\n",
       "      /><line x1=\"73\" x2=\"77.34\" y1=\"259.6667\" style=\"stroke-linecap:square; fill-opacity:1; fill:none; stroke-opacity:1;\" y2=\"259.6667\"\n",
       "      /><line x1=\"73\" x2=\"77.34\" y1=\"221.5556\" style=\"stroke-linecap:square; fill-opacity:1; fill:none; stroke-opacity:1;\" y2=\"221.5556\"\n",
       "      /><line x1=\"73\" x2=\"77.34\" y1=\"183.4444\" style=\"stroke-linecap:square; fill-opacity:1; fill:none; stroke-opacity:1;\" y2=\"183.4444\"\n",
       "      /><line x1=\"73\" x2=\"77.34\" y1=\"145.3333\" style=\"stroke-linecap:square; fill-opacity:1; fill:none; stroke-opacity:1;\" y2=\"145.3333\"\n",
       "      /><line x1=\"73\" x2=\"77.34\" y1=\"107.2222\" style=\"stroke-linecap:square; fill-opacity:1; fill:none; stroke-opacity:1;\" y2=\"107.2222\"\n",
       "      /><line x1=\"73\" x2=\"77.34\" y1=\"69.1111\" style=\"stroke-linecap:square; fill-opacity:1; fill:none; stroke-opacity:1;\" y2=\"69.1111\"\n",
       "      /><line x1=\"73\" x2=\"77.34\" y1=\"31\" style=\"stroke-linecap:square; fill-opacity:1; fill:none; stroke-opacity:1;\" y2=\"31\"\n",
       "      /><line x1=\"507\" x2=\"502.66\" y1=\"374\" style=\"stroke-linecap:square; fill-opacity:1; fill:none; stroke-opacity:1;\" y2=\"374\"\n",
       "      /><line x1=\"507\" x2=\"502.66\" y1=\"335.8889\" style=\"stroke-linecap:square; fill-opacity:1; fill:none; stroke-opacity:1;\" y2=\"335.8889\"\n",
       "      /><line x1=\"507\" x2=\"502.66\" y1=\"297.7778\" style=\"stroke-linecap:square; fill-opacity:1; fill:none; stroke-opacity:1;\" y2=\"297.7778\"\n",
       "      /><line x1=\"507\" x2=\"502.66\" y1=\"259.6667\" style=\"stroke-linecap:square; fill-opacity:1; fill:none; stroke-opacity:1;\" y2=\"259.6667\"\n",
       "      /><line x1=\"507\" x2=\"502.66\" y1=\"221.5556\" style=\"stroke-linecap:square; fill-opacity:1; fill:none; stroke-opacity:1;\" y2=\"221.5556\"\n",
       "      /><line x1=\"507\" x2=\"502.66\" y1=\"183.4444\" style=\"stroke-linecap:square; fill-opacity:1; fill:none; stroke-opacity:1;\" y2=\"183.4444\"\n",
       "      /><line x1=\"507\" x2=\"502.66\" y1=\"145.3333\" style=\"stroke-linecap:square; fill-opacity:1; fill:none; stroke-opacity:1;\" y2=\"145.3333\"\n",
       "      /><line x1=\"507\" x2=\"502.66\" y1=\"107.2222\" style=\"stroke-linecap:square; fill-opacity:1; fill:none; stroke-opacity:1;\" y2=\"107.2222\"\n",
       "      /><line x1=\"507\" x2=\"502.66\" y1=\"69.1111\" style=\"stroke-linecap:square; fill-opacity:1; fill:none; stroke-opacity:1;\" y2=\"69.1111\"\n",
       "      /><line x1=\"507\" x2=\"502.66\" y1=\"31\" style=\"stroke-linecap:square; fill-opacity:1; fill:none; stroke-opacity:1;\" y2=\"31\"\n",
       "    /></g\n",
       "    ><g transform=\"translate(69,374)\" style=\"font-size:10px; fill:rgb(38,38,38); text-rendering:geometricPrecision; image-rendering:optimizeQuality; color-rendering:optimizeQuality; font-family:'Helvetica Neue'; stroke:rgb(38,38,38); color-interpolation:linearRGB;\"\n",
       "    ><text x=\"-18\" xml:space=\"preserve\" y=\"3.5\" style=\"stroke:none;\"\n",
       "      >-0.2</text\n",
       "    ></g\n",
       "    ><g transform=\"translate(69,335.8889)\" style=\"font-size:10px; fill:rgb(38,38,38); text-rendering:geometricPrecision; image-rendering:optimizeQuality; color-rendering:optimizeQuality; font-family:'Helvetica Neue'; stroke:rgb(38,38,38); color-interpolation:linearRGB;\"\n",
       "    ><text x=\"-6\" xml:space=\"preserve\" y=\"3.5\" style=\"stroke:none;\"\n",
       "      >0</text\n",
       "    ></g\n",
       "    ><g transform=\"translate(69,297.7778)\" style=\"font-size:10px; fill:rgb(38,38,38); text-rendering:geometricPrecision; image-rendering:optimizeQuality; color-rendering:optimizeQuality; font-family:'Helvetica Neue'; stroke:rgb(38,38,38); color-interpolation:linearRGB;\"\n",
       "    ><text x=\"-14\" xml:space=\"preserve\" y=\"3.5\" style=\"stroke:none;\"\n",
       "      >0.2</text\n",
       "    ></g\n",
       "    ><g transform=\"translate(69,259.6667)\" style=\"font-size:10px; fill:rgb(38,38,38); text-rendering:geometricPrecision; image-rendering:optimizeQuality; color-rendering:optimizeQuality; font-family:'Helvetica Neue'; stroke:rgb(38,38,38); color-interpolation:linearRGB;\"\n",
       "    ><text x=\"-14\" xml:space=\"preserve\" y=\"3.5\" style=\"stroke:none;\"\n",
       "      >0.4</text\n",
       "    ></g\n",
       "    ><g transform=\"translate(69,221.5556)\" style=\"font-size:10px; fill:rgb(38,38,38); text-rendering:geometricPrecision; image-rendering:optimizeQuality; color-rendering:optimizeQuality; font-family:'Helvetica Neue'; stroke:rgb(38,38,38); color-interpolation:linearRGB;\"\n",
       "    ><text x=\"-14\" xml:space=\"preserve\" y=\"3.5\" style=\"stroke:none;\"\n",
       "      >0.6</text\n",
       "    ></g\n",
       "    ><g transform=\"translate(69,183.4444)\" style=\"font-size:10px; fill:rgb(38,38,38); text-rendering:geometricPrecision; image-rendering:optimizeQuality; color-rendering:optimizeQuality; font-family:'Helvetica Neue'; stroke:rgb(38,38,38); color-interpolation:linearRGB;\"\n",
       "    ><text x=\"-14\" xml:space=\"preserve\" y=\"3.5\" style=\"stroke:none;\"\n",
       "      >0.8</text\n",
       "    ></g\n",
       "    ><g transform=\"translate(69,145.3333)\" style=\"font-size:10px; fill:rgb(38,38,38); text-rendering:geometricPrecision; image-rendering:optimizeQuality; color-rendering:optimizeQuality; font-family:'Helvetica Neue'; stroke:rgb(38,38,38); color-interpolation:linearRGB;\"\n",
       "    ><text x=\"-6\" xml:space=\"preserve\" y=\"3.5\" style=\"stroke:none;\"\n",
       "      >1</text\n",
       "    ></g\n",
       "    ><g transform=\"translate(69,107.2222)\" style=\"font-size:10px; fill:rgb(38,38,38); text-rendering:geometricPrecision; image-rendering:optimizeQuality; color-rendering:optimizeQuality; font-family:'Helvetica Neue'; stroke:rgb(38,38,38); color-interpolation:linearRGB;\"\n",
       "    ><text x=\"-14\" xml:space=\"preserve\" y=\"3.5\" style=\"stroke:none;\"\n",
       "      >1.2</text\n",
       "    ></g\n",
       "    ><g transform=\"translate(69,69.1111)\" style=\"font-size:10px; fill:rgb(38,38,38); text-rendering:geometricPrecision; image-rendering:optimizeQuality; color-rendering:optimizeQuality; font-family:'Helvetica Neue'; stroke:rgb(38,38,38); color-interpolation:linearRGB;\"\n",
       "    ><text x=\"-14\" xml:space=\"preserve\" y=\"3.5\" style=\"stroke:none;\"\n",
       "      >1.4</text\n",
       "    ></g\n",
       "    ><g transform=\"translate(69,31)\" style=\"font-size:10px; fill:rgb(38,38,38); text-rendering:geometricPrecision; image-rendering:optimizeQuality; color-rendering:optimizeQuality; font-family:'Helvetica Neue'; stroke:rgb(38,38,38); color-interpolation:linearRGB;\"\n",
       "    ><text x=\"-14\" xml:space=\"preserve\" y=\"3.5\" style=\"stroke:none;\"\n",
       "      >1.6</text\n",
       "    ></g\n",
       "    ><g transform=\"translate(48,202.4998) rotate(-90)\" style=\"font-size:11px; fill:rgb(38,38,38); text-rendering:geometricPrecision; image-rendering:optimizeQuality; color-rendering:optimizeQuality; font-family:'Helvetica Neue'; stroke:rgb(38,38,38); color-interpolation:linearRGB;\"\n",
       "    ><text x=\"-54.5\" xml:space=\"preserve\" y=\"-3\" style=\"stroke:none;\"\n",
       "      >Impulse response h[n]</text\n",
       "    ></g\n",
       "    ><g transform=\"translate(290.0003,28.25)\" style=\"font-size:11px; text-rendering:geometricPrecision; image-rendering:optimizeQuality; color-rendering:optimizeQuality; font-family:'Helvetica Neue'; color-interpolation:linearRGB; font-weight:bold;\"\n",
       "    ><text x=\"-48\" xml:space=\"preserve\" y=\"-3\" style=\"stroke:none;\"\n",
       "      >Example 5 - Part 2</text\n",
       "    ></g\n",
       "    ><g style=\"stroke-linecap:butt; fill:rgb(38,38,38); text-rendering:geometricPrecision; image-rendering:optimizeQuality; color-rendering:optimizeQuality; stroke-linejoin:round; stroke:rgb(38,38,38); color-interpolation:linearRGB; stroke-width:0.5;\"\n",
       "    ><line y2=\"335.8889\" style=\"fill:none;\" x1=\"73\" x2=\"507\" y1=\"335.8889\"\n",
       "      /><path d=\"M0 -2.75 C1.5188 -2.75 2.75 -1.5188 2.75 0 L2.75 0 C2.75 1.5188 1.5188 2.75 -0 2.75 C-1.5188 2.75 -2.75 1.5188 -2.75 -0 C-2.75 -1.5188 -1.5188 -2.75 0 -2.75 ZM0 -3.25 C-1.7949 -3.25 -3.25 -1.7949 -3.25 -0 C-3.25 1.7949 -1.7949 3.25 -0 3.25 C1.7949 3.25 3.25 1.7949 3.25 0 L3.25 0 C3.25 -1.7949 1.7949 -3.25 0 -3.25 Z\" style=\"fill:rgb(0,114,189); stroke:none;\" transform=\"translate(73,145.3333)\"\n",
       "      /><path d=\"M0 -2.75 C1.5188 -2.75 2.75 -1.5188 2.75 0 L2.75 0 C2.75 1.5188 1.5188 2.75 -0 2.75 C-1.5188 2.75 -2.75 1.5188 -2.75 -0 C-2.75 -1.5188 -1.5188 -2.75 0 -2.75 ZM0 -3.25 C-1.7949 -3.25 -3.25 -1.7949 -3.25 -0 C-3.25 1.7949 -1.7949 3.25 -0 3.25 C1.7949 3.25 3.25 1.7949 3.25 0 L3.25 0 C3.25 -1.7949 1.7949 -3.25 0 -3.25 Z\" style=\"fill:rgb(0,114,189); stroke:none;\" transform=\"translate(101.9333,50.0556)\"\n",
       "      /><path d=\"M0 -2.75 C1.5188 -2.75 2.75 -1.5188 2.75 0 L2.75 0 C2.75 1.5188 1.5188 2.75 -0 2.75 C-1.5188 2.75 -2.75 1.5188 -2.75 -0 C-2.75 -1.5188 -1.5188 -2.75 0 -2.75 ZM0 -3.25 C-1.7949 -3.25 -3.25 -1.7949 -3.25 -0 C-3.25 1.7949 -1.7949 3.25 -0 3.25 C1.7949 3.25 3.25 1.7949 3.25 0 L3.25 0 C3.25 -1.7949 1.7949 -3.25 0 -3.25 Z\" style=\"fill:rgb(0,114,189); stroke:none;\" transform=\"translate(130.8667,216.7917)\"\n",
       "      /><path d=\"M0 -2.75 C1.5188 -2.75 2.75 -1.5188 2.75 0 L2.75 0 C2.75 1.5188 1.5188 2.75 -0 2.75 C-1.5188 2.75 -2.75 1.5188 -2.75 -0 C-2.75 -1.5188 -1.5188 -2.75 0 -2.75 ZM0 -3.25 C-1.7949 -3.25 -3.25 -1.7949 -3.25 -0 C-3.25 1.7949 -1.7949 3.25 -0 3.25 C1.7949 3.25 3.25 1.7949 3.25 0 L3.25 0 C3.25 -1.7949 1.7949 -3.25 0 -3.25 Z\" style=\"fill:rgb(0,114,189); stroke:none;\" transform=\"translate(159.8,312.0695)\"\n",
       "      /><path d=\"M0 -2.75 C1.5188 -2.75 2.75 -1.5188 2.75 0 L2.75 0 C2.75 1.5188 1.5188 2.75 -0 2.75 C-1.5188 2.75 -2.75 1.5188 -2.75 -0 C-2.75 -1.5188 -1.5188 -2.75 0 -2.75 ZM0 -3.25 C-1.7949 -3.25 -3.25 -1.7949 -3.25 -0 C-3.25 1.7949 -1.7949 3.25 -0 3.25 C1.7949 3.25 3.25 1.7949 3.25 0 L3.25 0 C3.25 -1.7949 1.7949 -3.25 0 -3.25 Z\" style=\"fill:rgb(0,114,189); stroke:none;\" transform=\"translate(188.7333,338.8663)\"\n",
       "      /><path d=\"M0 -2.75 C1.5188 -2.75 2.75 -1.5188 2.75 0 L2.75 0 C2.75 1.5188 1.5188 2.75 -0 2.75 C-1.5188 2.75 -2.75 1.5188 -2.75 -0 C-2.75 -1.5188 -1.5188 -2.75 0 -2.75 ZM0 -3.25 C-1.7949 -3.25 -3.25 -1.7949 -3.25 -0 C-3.25 1.7949 -1.7949 3.25 -0 3.25 C1.7949 3.25 3.25 1.7949 3.25 0 L3.25 0 C3.25 -1.7949 1.7949 -3.25 0 -3.25 Z\" style=\"fill:rgb(0,114,189); stroke:none;\" transform=\"translate(217.6667,340.355)\"\n",
       "      /><path d=\"M0 -2.75 C1.5188 -2.75 2.75 -1.5188 2.75 0 L2.75 0 C2.75 1.5188 1.5188 2.75 -0 2.75 C-1.5188 2.75 -2.75 1.5188 -2.75 -0 C-2.75 -1.5188 -1.5188 -2.75 0 -2.75 ZM0 -3.25 C-1.7949 -3.25 -3.25 -1.7949 -3.25 -0 C-3.25 1.7949 -1.7949 3.25 -0 3.25 C1.7949 3.25 3.25 1.7949 3.25 0 L3.25 0 C3.25 -1.7949 1.7949 -3.25 0 -3.25 Z\" style=\"fill:rgb(0,114,189); stroke:none;\" transform=\"translate(246.6,337.7498)\"\n",
       "      /><path d=\"M0 -2.75 C1.5188 -2.75 2.75 -1.5188 2.75 0 L2.75 0 C2.75 1.5188 1.5188 2.75 -0 2.75 C-1.5188 2.75 -2.75 1.5188 -2.75 -0 C-2.75 -1.5188 -1.5188 -2.75 0 -2.75 ZM0 -3.25 C-1.7949 -3.25 -3.25 -1.7949 -3.25 -0 C-3.25 1.7949 -1.7949 3.25 -0 3.25 C1.7949 3.25 3.25 1.7949 3.25 0 L3.25 0 C3.25 -1.7949 1.7949 -3.25 0 -3.25 Z\" style=\"fill:rgb(0,114,189); stroke:none;\" transform=\"translate(275.5333,336.2611)\"\n",
       "      /><path d=\"M0 -2.75 C1.5188 -2.75 2.75 -1.5188 2.75 0 L2.75 0 C2.75 1.5188 1.5188 2.75 -0 2.75 C-1.5188 2.75 -2.75 1.5188 -2.75 -0 C-2.75 -1.5188 -1.5188 -2.75 0 -2.75 ZM0 -3.25 C-1.7949 -3.25 -3.25 -1.7949 -3.25 -0 C-3.25 1.7949 -1.7949 3.25 -0 3.25 C1.7949 3.25 3.25 1.7949 3.25 0 L3.25 0 C3.25 -1.7949 1.7949 -3.25 0 -3.25 Z\" style=\"fill:rgb(0,114,189); stroke:none;\" transform=\"translate(304.4667,335.8424)\"\n",
       "      /><path d=\"M0 -2.75 C1.5188 -2.75 2.75 -1.5188 2.75 0 L2.75 0 C2.75 1.5188 1.5188 2.75 -0 2.75 C-1.5188 2.75 -2.75 1.5188 -2.75 -0 C-2.75 -1.5188 -1.5188 -2.75 0 -2.75 ZM0 -3.25 C-1.7949 -3.25 -3.25 -1.7949 -3.25 -0 C-3.25 1.7949 -1.7949 3.25 -0 3.25 C1.7949 3.25 3.25 1.7949 3.25 0 L3.25 0 C3.25 -1.7949 1.7949 -3.25 0 -3.25 Z\" style=\"fill:rgb(0,114,189); stroke:none;\" transform=\"translate(333.4,335.8191)\"\n",
       "      /><path d=\"M0 -2.75 C1.5188 -2.75 2.75 -1.5188 2.75 0 L2.75 0 C2.75 1.5188 1.5188 2.75 -0 2.75 C-1.5188 2.75 -2.75 1.5188 -2.75 -0 C-2.75 -1.5188 -1.5188 -2.75 0 -2.75 ZM0 -3.25 C-1.7949 -3.25 -3.25 -1.7949 -3.25 -0 C-3.25 1.7949 -1.7949 3.25 -0 3.25 C1.7949 3.25 3.25 1.7949 3.25 0 L3.25 0 C3.25 -1.7949 1.7949 -3.25 0 -3.25 Z\" style=\"fill:rgb(0,114,189); stroke:none;\" transform=\"translate(362.3333,335.8598)\"\n",
       "      /><path d=\"M0 -2.75 C1.5188 -2.75 2.75 -1.5188 2.75 0 L2.75 0 C2.75 1.5188 1.5188 2.75 -0 2.75 C-1.5188 2.75 -2.75 1.5188 -2.75 -0 C-2.75 -1.5188 -1.5188 -2.75 0 -2.75 ZM0 -3.25 C-1.7949 -3.25 -3.25 -1.7949 -3.25 -0 C-3.25 1.7949 -1.7949 3.25 -0 3.25 C1.7949 3.25 3.25 1.7949 3.25 0 L3.25 0 C3.25 -1.7949 1.7949 -3.25 0 -3.25 Z\" style=\"fill:rgb(0,114,189); stroke:none;\" transform=\"translate(391.2667,335.8831)\"\n",
       "      /><path d=\"M0 -2.75 C1.5188 -2.75 2.75 -1.5188 2.75 0 L2.75 0 C2.75 1.5188 1.5188 2.75 -0 2.75 C-1.5188 2.75 -2.75 1.5188 -2.75 -0 C-2.75 -1.5188 -1.5188 -2.75 0 -2.75 ZM0 -3.25 C-1.7949 -3.25 -3.25 -1.7949 -3.25 -0 C-3.25 1.7949 -1.7949 3.25 -0 3.25 C1.7949 3.25 3.25 1.7949 3.25 0 L3.25 0 C3.25 -1.7949 1.7949 -3.25 0 -3.25 Z\" style=\"fill:rgb(0,114,189); stroke:none;\" transform=\"translate(420.2,335.8896)\"\n",
       "      /><path d=\"M0 -2.75 C1.5188 -2.75 2.75 -1.5188 2.75 0 L2.75 0 C2.75 1.5188 1.5188 2.75 -0 2.75 C-1.5188 2.75 -2.75 1.5188 -2.75 -0 C-2.75 -1.5188 -1.5188 -2.75 0 -2.75 ZM0 -3.25 C-1.7949 -3.25 -3.25 -1.7949 -3.25 -0 C-3.25 1.7949 -1.7949 3.25 -0 3.25 C1.7949 3.25 3.25 1.7949 3.25 0 L3.25 0 C3.25 -1.7949 1.7949 -3.25 0 -3.25 Z\" style=\"fill:rgb(0,114,189); stroke:none;\" transform=\"translate(449.1333,335.89)\"\n",
       "      /><path d=\"M0 -2.75 C1.5188 -2.75 2.75 -1.5188 2.75 0 L2.75 0 C2.75 1.5188 1.5188 2.75 -0 2.75 C-1.5188 2.75 -2.75 1.5188 -2.75 -0 C-2.75 -1.5188 -1.5188 -2.75 0 -2.75 ZM0 -3.25 C-1.7949 -3.25 -3.25 -1.7949 -3.25 -0 C-3.25 1.7949 -1.7949 3.25 -0 3.25 C1.7949 3.25 3.25 1.7949 3.25 0 L3.25 0 C3.25 -1.7949 1.7949 -3.25 0 -3.25 Z\" style=\"fill:rgb(0,114,189); stroke:none;\" transform=\"translate(478.0667,335.8893)\"\n",
       "      /><path d=\"M0 -2.75 C1.5188 -2.75 2.75 -1.5188 2.75 0 L2.75 0 C2.75 1.5188 1.5188 2.75 -0 2.75 C-1.5188 2.75 -2.75 1.5188 -2.75 -0 C-2.75 -1.5188 -1.5188 -2.75 0 -2.75 ZM0 -3.25 C-1.7949 -3.25 -3.25 -1.7949 -3.25 -0 C-3.25 1.7949 -1.7949 3.25 -0 3.25 C1.7949 3.25 3.25 1.7949 3.25 0 L3.25 0 C3.25 -1.7949 1.7949 -3.25 0 -3.25 Z\" style=\"fill:rgb(0,114,189); stroke:none;\" transform=\"translate(507,335.889)\"\n",
       "      /><line x1=\"73\" x2=\"73\" y1=\"335.8889\" style=\"fill:none; stroke:rgb(0,114,189);\" y2=\"145.3333\"\n",
       "      /><line x1=\"101.9333\" x2=\"101.9333\" y1=\"335.8889\" style=\"fill:none; stroke:rgb(0,114,189);\" y2=\"50.0556\"\n",
       "      /><line x1=\"130.8667\" x2=\"130.8667\" y1=\"335.8889\" style=\"fill:none; stroke:rgb(0,114,189);\" y2=\"216.7917\"\n",
       "      /><line x1=\"159.8\" x2=\"159.8\" y1=\"335.8889\" style=\"fill:none; stroke:rgb(0,114,189);\" y2=\"312.0695\"\n",
       "      /><line x1=\"188.7333\" x2=\"188.7333\" y1=\"335.8889\" style=\"fill:none; stroke:rgb(0,114,189);\" y2=\"338.8663\"\n",
       "      /><line x1=\"217.6667\" x2=\"217.6667\" y1=\"335.8889\" style=\"fill:none; stroke:rgb(0,114,189);\" y2=\"340.355\"\n",
       "      /><line x1=\"246.6\" x2=\"246.6\" y1=\"335.8889\" style=\"fill:none; stroke:rgb(0,114,189);\" y2=\"337.7498\"\n",
       "      /><line x1=\"275.5333\" x2=\"275.5333\" y1=\"335.8889\" style=\"fill:none; stroke:rgb(0,114,189);\" y2=\"336.2611\"\n",
       "      /><line x1=\"304.4667\" x2=\"304.4667\" y1=\"335.8889\" style=\"fill:none; stroke:rgb(0,114,189);\" y2=\"335.8424\"\n",
       "      /><line x1=\"333.4\" x2=\"333.4\" y1=\"335.8889\" style=\"fill:none; stroke:rgb(0,114,189);\" y2=\"335.8191\"\n",
       "      /><line x1=\"362.3333\" x2=\"362.3333\" y1=\"335.8889\" style=\"fill:none; stroke:rgb(0,114,189);\" y2=\"335.8598\"\n",
       "      /><line x1=\"391.2667\" x2=\"391.2667\" y1=\"335.8889\" style=\"fill:none; stroke:rgb(0,114,189);\" y2=\"335.8831\"\n",
       "      /><line x1=\"420.2\" x2=\"420.2\" y1=\"335.8889\" style=\"fill:none; stroke:rgb(0,114,189);\" y2=\"335.8896\"\n",
       "      /><line x1=\"449.1333\" x2=\"449.1333\" y1=\"335.8889\" style=\"fill:none; stroke:rgb(0,114,189);\" y2=\"335.89\"\n",
       "      /><line x1=\"478.0667\" x2=\"478.0667\" y1=\"335.8889\" style=\"fill:none; stroke:rgb(0,114,189);\" y2=\"335.8893\"\n",
       "      /><line x1=\"507\" x2=\"507\" y1=\"335.8889\" style=\"fill:none; stroke:rgb(0,114,189);\" y2=\"335.889\"\n",
       "      /><line x1=\"73\" x2=\"507\" y1=\"374\" style=\"fill:none; stroke-linecap:square;\" y2=\"374\"\n",
       "      /><line x1=\"73\" x2=\"507\" y1=\"31\" style=\"fill:none; stroke-linecap:square;\" y2=\"31\"\n",
       "      /><line x1=\"73\" x2=\"73\" y1=\"374\" style=\"fill:none; stroke-linecap:square;\" y2=\"369.66\"\n",
       "      /><line x1=\"217.6667\" x2=\"217.6667\" y1=\"374\" style=\"fill:none; stroke-linecap:square;\" y2=\"369.66\"\n",
       "      /><line x1=\"362.3333\" x2=\"362.3333\" y1=\"374\" style=\"fill:none; stroke-linecap:square;\" y2=\"369.66\"\n",
       "      /><line x1=\"507\" x2=\"507\" y1=\"374\" style=\"fill:none; stroke-linecap:square;\" y2=\"369.66\"\n",
       "      /><line x1=\"73\" x2=\"73\" y1=\"31\" style=\"fill:none; stroke-linecap:square;\" y2=\"35.34\"\n",
       "      /><line x1=\"217.6667\" x2=\"217.6667\" y1=\"31\" style=\"fill:none; stroke-linecap:square;\" y2=\"35.34\"\n",
       "      /><line x1=\"362.3333\" x2=\"362.3333\" y1=\"31\" style=\"fill:none; stroke-linecap:square;\" y2=\"35.34\"\n",
       "      /><line x1=\"507\" x2=\"507\" y1=\"31\" style=\"fill:none; stroke-linecap:square;\" y2=\"35.34\"\n",
       "    /></g\n",
       "    ><g transform=\"translate(73,378)\" style=\"font-size:10px; fill:rgb(38,38,38); text-rendering:geometricPrecision; image-rendering:optimizeQuality; color-rendering:optimizeQuality; font-family:'Helvetica Neue'; stroke:rgb(38,38,38); color-interpolation:linearRGB;\"\n",
       "    ><text x=\"-3\" xml:space=\"preserve\" y=\"10\" style=\"stroke:none;\"\n",
       "      >0</text\n",
       "    ></g\n",
       "    ><g transform=\"translate(217.6667,378)\" style=\"font-size:10px; fill:rgb(38,38,38); text-rendering:geometricPrecision; image-rendering:optimizeQuality; color-rendering:optimizeQuality; font-family:'Helvetica Neue'; stroke:rgb(38,38,38); color-interpolation:linearRGB;\"\n",
       "    ><text x=\"-3\" xml:space=\"preserve\" y=\"10\" style=\"stroke:none;\"\n",
       "      >5</text\n",
       "    ></g\n",
       "    ><g transform=\"translate(362.3333,378)\" style=\"font-size:10px; fill:rgb(38,38,38); text-rendering:geometricPrecision; image-rendering:optimizeQuality; color-rendering:optimizeQuality; font-family:'Helvetica Neue'; stroke:rgb(38,38,38); color-interpolation:linearRGB;\"\n",
       "    ><text x=\"-6\" xml:space=\"preserve\" y=\"10\" style=\"stroke:none;\"\n",
       "      >10</text\n",
       "    ></g\n",
       "    ><g transform=\"translate(507,378)\" style=\"font-size:10px; fill:rgb(38,38,38); text-rendering:geometricPrecision; image-rendering:optimizeQuality; color-rendering:optimizeQuality; font-family:'Helvetica Neue'; stroke:rgb(38,38,38); color-interpolation:linearRGB;\"\n",
       "    ><text x=\"-6\" xml:space=\"preserve\" y=\"10\" style=\"stroke:none;\"\n",
       "      >15</text\n",
       "    ></g\n",
       "    ><g transform=\"translate(290.0002,392)\" style=\"font-size:11px; fill:rgb(38,38,38); text-rendering:geometricPrecision; image-rendering:optimizeQuality; color-rendering:optimizeQuality; font-family:'Helvetica Neue'; stroke:rgb(38,38,38); color-interpolation:linearRGB;\"\n",
       "    ><text x=\"-3.5\" xml:space=\"preserve\" y=\"11\" style=\"stroke:none;\"\n",
       "      >n</text\n",
       "    ></g\n",
       "  ></g\n",
       "></svg\n",
       ">\n"
      ]
     },
     "metadata": {
      "filenames": {
       "image/svg+xml": "/Users/eechris/code/src/github.com/cpjobling/eg-247-textbook/_build/jupyter_execute/dt_systems/4/dt_models_51_0.svg"
      }
     },
     "output_type": "display_data"
    }
   ],
   "source": [
    "stem([0:15], hn)\n",
    "grid\n",
    "title('Example 5 - Part 2')\n",
    "xlabel('n')\n",
    "ylabel('Impulse response h[n]')"
   ]
  },
  {
   "cell_type": "markdown",
   "metadata": {
    "slideshow": {
     "slide_type": "subslide"
    }
   },
   "source": [
    "#### Response as stepwise continuous y(t)"
   ]
  },
  {
   "cell_type": "code",
   "execution_count": 7,
   "metadata": {},
   "outputs": [
    {
     "data": {
      "image/svg+xml": [
       "<?xml version=\"1.0\"?>\n",
       "<!DOCTYPE svg PUBLIC '-//W3C//DTD SVG 1.0//EN'\n",
       "          'http://www.w3.org/TR/2001/REC-SVG-20010904/DTD/svg10.dtd'>\n",
       "<svg xmlns:xlink=\"http://www.w3.org/1999/xlink\" style=\"fill-opacity:1; color-rendering:auto; color-interpolation:auto; text-rendering:auto; stroke:black; stroke-linecap:square; stroke-miterlimit:10; shape-rendering:auto; stroke-opacity:1; fill:black; stroke-dasharray:none; font-weight:normal; stroke-width:1; font-family:'Dialog'; font-style:normal; stroke-linejoin:miter; font-size:12px; stroke-dashoffset:0; image-rendering:auto;\" width=\"560\" height=\"420\" xmlns=\"http://www.w3.org/2000/svg\"\n",
       "><!--Generated by the Batik Graphics2D SVG Generator--><defs id=\"genericDefs\"\n",
       "  /><g\n",
       "  ><defs id=\"defs1\"\n",
       "    ><clipPath clipPathUnits=\"userSpaceOnUse\" id=\"clipPath1\"\n",
       "      ><path d=\"M0 0 L560 0 L560 420 L0 420 L0 0 Z\"\n",
       "      /></clipPath\n",
       "    ></defs\n",
       "    ><g style=\"fill:white; stroke:white;\"\n",
       "    ><rect x=\"0\" y=\"0\" width=\"560\" style=\"clip-path:url(#clipPath1); stroke:none;\" height=\"420\"\n",
       "    /></g\n",
       "    ><g\n",
       "    ><image x=\"0\" y=\"0\" width=\"560\" xlink:href=\"data:image/png;base64,iVBORw0KGgoAAAANSUhEUgAAAjAAAAGkCAIAAACgjIjwAAAoSklEQVR42u2dDVRU\n",
       "df6Hqey/GuJLimGl6Wq+pLhppJiZtm3bsSx7sSy0NcvEQglDHSWQWYHUgENSGoYS\n",
       "iNCCWWLKqhUq4EsUb2uKIkVSUr4AIzjizAD9v4d7mDPNIBHBzBDPczieH3fuzL3c\n",
       "j/N57m9muDj8AgAAYAc4cAgAAAAhAQAAICQAAEBIAAAACAkAABASAAAAQgIAAIQE\n",
       "AACAkAAAACEBAAAgJAAAQEgAAAAICQAAEBIAAABCAgAAhAQAAICQAAAAIQEAACAk\n",
       "AABASAAAAAgJAAAQEgAAAEICAACEBAAAgJAAAAAhAQAAICQAAEBIAAAACAkAABAS\n",
       "AAAAQgIAAIQEANA6aDSa48ePl5eXcygAIYH1SElJcfg1jz32WBttKzIyUh7/888/\n",
       "b3o1Nze3oQ2EhIT8rh+hc+fO99xzT15e3m/e68qVK0uXLk1OTjZbHhoaettttzk6\n",
       "Ospx+Omnn5r5oyUmJsrWb7rpJoPB0Bbr/64D+EeoqamZN2/eddddJxu65pprnnrq\n",
       "qcuXL//x7VphzwEhwZ9ESKNHj17YwIYNG2wopDNnzsg6U6ZMea2eTz75pJk/woQJ\n",
       "E1avXj1//vxrr712yJAhv3mvyspKudesWbNMF3766afKQ3l4eMhg+vTpzfzR/vnP\n",
       "fypGlEdoi/WtVuvx8fGyiSeffFKO/BNPPCFjOSf45ptv1q9fL9EgJEBI0OZC8vX1\n",
       "NV0oJpDZyRdffCETCBmEh4dXV1fPnTu3Z8+e119//ciRIzMzM6W55CYRQO/evWVK\n",
       "ERMTc9ddd3Xp0kVaTK/XR0dHy62zZ8/u3r374MGD//Of/5i10ttvvz1w4EC59emn\n",
       "n66oqDBu+r///a+ss3nz5i1bthw9erQFP8LYsWPl23PnzpntsNyk7JW/v78sv/nm\n",
       "m2U1JyenGTNmGB/Ky8tLFp49e1bGt9xyi+xhc3bghx9+EAvefffdRof9+OOP999/\n",
       "v0zX5PFnzpwpk4ym1zfum5wQ3HjjjXJIExISLI+56QGU9eXAygEfP378l19+KUtq\n",
       "a2vlIMjdBwwYIEKVR5Pd2LhxowyUKeMrr7wybNiwJg6+IPqRTSxYsODChQtyDN96\n",
       "661du3YpWR86dMhyEzKhNNtteZCm9xwQEkBTbd6tW7cBDWzfvl0as0ePHv3795eK\n",
       "kdmGVqt97733ZLWlS5empqZKmT788MNKxUj7S4XJEhlL0T/wwAPKWf+qVatk4Obm\n",
       "Jr0pjyDFVFJSYmyljz76SAbz5s1bs2aN3PTcc88Z90eWyE3ygNddd90111zzwQcf\n",
       "NPNHmDZtmuy5VK1owMXFxXKHZU1lrzp16iRbVKvVMp44caJ41/hQJ0+ePHjwoAz2\n",
       "7t0rO/DUU0815xgGBwfLQ8mUQo7G//3f/5WVlS1btkyWyM7LTY6OjlLoTa9v3LdR\n",
       "o0bJYZQfoV+/flc75nIA09LSZPDggw++//77EpOzs7NGoxHrK6+4ymxG4pNxcXGx\n",
       "8rCHDx+WTTz66KNySJs4+EJhYaGIRIlAzjDk7jqdzrhdy03I7pnttjxIE3vOMw4h\n",
       "AfxGm48YMWJuA0eOHJHlMkdR3kXIysqSb2XSs3v3bqkw6S9Zfu+99yoVI3eXW2WG\n",
       "9Ne//lUGUrKyUCSk9KDS9cr7JXFxccZWevbZZ2Ug25Ja7NWrlxSZcX+2bdsmRXb6\n",
       "9OkzZ86IDmUSYLxJHnZUPePGjbP8EYzIqfrOnTstd9hY+lKXV3vJTjAYDNKtYqM7\n",
       "7rhDxPybWxduv/128cpXX30lEwt5zHXr1ik/aZ8+fWR6JJOGmpqaptc37pvynpZo\n",
       "UnbgasdcDuCiRYtkUFRUJCu/++67MpY1PT09ZSDil4Xe3t5XE1ITB19BJogy75Fz\n",
       "C9GVrPnyyy8bt2u5CUVIprvdxP8WhISQAH73S3ZCeHi40u9bt26Vb8PCwmQ8derU\n",
       "iIiILl26mFXMoEGDRo4c+UvDezBGISmzDWUTGzZsMN7l8ccfl4GPj8/yBozv7W/Z\n",
       "skXurozHjx8vp+HGXfr4449n1PPCCy9Y/gizZ88+evSodHRtbW2jO2wsfWWvGhXS\n",
       "5cuX//GPfyivWZm9zna1rWdkZJh9KuTuu++W5Xv27JEHkemLLJEp0W+ub2mOJo65\n",
       "8tKi4stNmzYpZwbKwoKCAlkoFlGEtHr1auOZgbu7uzxsEwdfENX9/e9/l/mWjOW0\n",
       "QHR1yy23mG3XdBOKkEx3+zf/twBCAmhKSHfeeeerDbz11lvHjx+XJhozZoxMfeQk\n",
       "urS0dPr06bJaYWHhZ599przt3xwhSUNlZmZOnjxZxvn5+ca7rF27VgZLliyRorzn\n",
       "nns8PDyM+/P000/LTW+88YacpEu7PfHEEy1zquUOm5X+pUuXZOzq6rp//37jvQID\n",
       "A2Xh0KFDV9UjVv7Nrb/00ktyl/Xr1++vR+ZPyota3bp1++abb5S3xGQy0fT6x44d\n",
       "sxRSE8dcZiTK3EUO7+jRo2+44YaffvrJNErlRVQRkmQhg2eeeWbjxo0yLZOHbeLg\n",
       "C+InufWRRx756KOPxKOyvhjauF3LTTQqpKb/twBCAmicHTt2mJ2wy3m0m5ublJf0\n",
       "6d69e5V6+uSTT+RUV8aiKOWVtHfeecd46i3fmgpJuk+pV6VtO3XqJEUvtxrvotfr\n",
       "ZUIjjSb9NWrUKOlN4/7IWb9yL+WlnuZ8skv5ERYvXmy60HKHzYQkPPTQQ8pOGu8l\n",
       "1Wl6KEQqTW9aZlFOTk59+/ZVpmXCunXrlBfEbr/9duVBZCDV3PT6y5YtM9038Zkc\n",
       "maaPufy8yktqcpPIQ3k06X1xjOQlBpKbZIpz7tw5OV2QsZxYyBmGPGwTB/+X+s8j\n",
       "yKxR+di3cnBk0mm6XbNNqFQqs91u9OCbPgIgJIA/ikwpfvzxx7q6uuasbKzXsrIy\n",
       "s9e+TNv8woULjd4ky8+fP2+FHZb+1el0bXG4ZLul9TTziLXgR5A9N701NTVV5i5h\n",
       "YWEFBQV/+9vfevToofxoIj8xk9n7WE0cfGW7J0+etPzF2Ktt4g/+bwGEBNCGrF69\n",
       "Ws7Blc9HgHWoqqp6+OGHlZmNi4uL8nmTdrcJQEgA8CdB5j3K71G1600AQgIAAEBI\n",
       "AACAkAAAABASAAAgJHslKysrMTHRbGF6enpgYGBISEh+fj6RAwAgpLaloqIiOjra\n",
       "y8srNjbWdPnp06dVKlV5eXlhYeGKFSuIHAAAIbUt1dXVMgFKTk42E9L27dt37dol\n",
       "Njpx4sQf/31JAABASM0iKyvLTEgbN25ctmxZUlJSVFTUmjVrjJddUZgHANBhQEg2\n",
       "FlJMTIxyzWnB399fufq9qZA4K7FzyIiYoINk9GcWkk6nE/3s27dP5kbyrVar9fX1\n",
       "NbsGF88inkVATGSEkNpcSEVFRZ6engaDYd26dYGBgSqVavfu3TyLeBYBMZERQiIh\n",
       "aAlmf+MAiAkQEgkBTQfERN0hJIRE0wExAUIiIaDpgJioO4REQkDTERMgJBICmg6I\n",
       "ibpDSCQENB0xAUIiIaDpgJioO4REQkDTERMgJBICmg6IibpDSCQENB0xAUIiIaDp\n",
       "gJioO4REQkDTERNQdwiprRJS7/6u1b9oOiAmQEgk9Lt54cPjrf6Yk9fl0HRATICQ\n",
       "SAgh0XRATNQdQkJICImmIyZASCSEkGg6ICbqDiEhJIRE0xETICQSQkg0HRATdYeQ\n",
       "EBJCoumICRASCSEkmg6IibpDSAgJIdF0xAQIiYQQEk0HxETdISSEhJBoOmIChISQ\n",
       "EBJNB8RE3SEkhISQaDpiAoSEkBASTQfERN0hJISEkGg6YgKE1BGElJWVlZiYaLlc\n",
       "r9cHBQWdOnUKIdF0QEwICSG1LRUVFdHR0V5eXrGxsZa3JiQkeHt7nzx5EiHRdEBM\n",
       "CAkhtS3V1dX5+fnJycmWQsrLy9uwYUNUVFSjQjJS3EpMj84qbm3cww8Vd1QyMjKK\n",
       "gZigpZi2HEKy9kt2ZkLSaDTBwcFarfZqQmKGxKk3EBMzJIRkDSHJ3CguLu7gwYNv\n",
       "vvnmxx9/XFVVhZBoOiAmhISQrCoknU5XUlKSm5u7v56goKDk5OTKykqERNMBMSEk\n",
       "hGRVIRUVFXl6eppOlQoLC62QEEKi6YgJEBJCsouEEBJNR0yAkBASQqLpgJgAIZEQ\n",
       "QqLpEBIgJISEkGg6ICZASCSEkGg6ICaEhJAQEk0HxAQIiYQQEk0HxISQEBJCoumA\n",
       "mAAhkRBCoumAmKg7hISQaDogJkBIJISQaDogJuoOISEkhATEBAiJhBASTQfERN0h\n",
       "JISEkGg6YgKEREIIiaYDYqLuEBJCQkg0HTEBQiIhhETTATFRdwgJISEkmo6YACGR\n",
       "EEKi6YCYqDuEhJAQEk1HTICQSAgh0XRATNQdQkJICImmIyZASAgJIdF0QEzUHUJC\n",
       "SAiJpiMmQEgICSHRdEBM1B1CQkgIiaYjJkBICAkh0XRATNQdQkJICImmIyZASAgJ\n",
       "IdF0QEyAkKxOVlZWYmKi6RK9Xh8XF6dSqYKCggoLCxESTQfEhJAQUttSUVERHR3t\n",
       "5eUVGxtrunz//v1hYWEGg+HIkSP+/v4IiaYDYkJICKltqa6uzs/PT05ONhPS3r17\n",
       "ZbkMNBrNwoULLRMyUtxKTI/OKm5t3MMPFXdUMjIyioGYoKWYthxCsvZLdmZCUqis\n",
       "rFy7dq3oihkSp95ATMyQEJLNhJSZmRkQEJCenm6dhBASTUdMgJAQ0q+EpNPpSkpK\n",
       "Dh8+HBYWptVqrZYQQqLpiAkQEkL6lZCKioo8PT0jIiIWLVrkV09ISAhCoumAmBAS\n",
       "QuooCSEkmo6YACEhJIRE0wExAUIiIYRE0yEkQEgICSHRdEBMgJBICCHRdEBMCAkh\n",
       "ISSaDogJEBIJISSaDogJISEkhETTATEBQiIhhETTATFRdwgJIdF0QEyAkEgIIdF0\n",
       "QEzUHUJCSAgJiAkQEgkhJJoOiIm6Q0gICSHRdMQECImEEBJNB8RE3SEkhISQaDpi\n",
       "AoREQgiJpgNiou4QEkJCSDQdMQFCIiGERNMBMVF3CAkhISSajpgAIZEQQqLpgJio\n",
       "O4SEkBASTUdMgJAQEkKi6YCYqDuEhJAQEk1HTICQEBJCoumAmKg7hISQEBJNR0yA\n",
       "kBASQqLpgJioO4SEkBASTUdMgJAQEkKi6YCYACHZDVlZWYmJiQiJpgNiQkgIyWZU\n",
       "VFRER0d7eXnFxsYiJJoOiAkhISSbUV1dnZ+fn5yc3KiQnHx2GL9uVR9ola/p0VnF\n",
       "rY17+KHijkpGRkYxEBO0lHkmICR7ecnOajOktoAZEhATMENCSAiJpgNiQkgI6Zdf\n",
       "qqqqUlNT169fHxUVlZ6eXlZWhpBoOiAmQEhW5fvvv3/ppZe6du06YMCA+++//6GH\n",
       "Hho6dOgNN9zg4eFRVFSEkGg6ICZASNbg/Pnzw4cPDwsL02g0psuvXLkSExMzevTo\n",
       "/Pz8DpIQQqLpiAkQki2pra2tqamRQXZ2dmVlpXF5ZmamwWCQgXIrQqLpgJgAIbU5\n",
       "Mjf67rvvxo0bl5KS8l09p06d6tmz58WLFztUQgiJpiMmQEg25p133hH9dOrUycnJ\n",
       "qWcDEydOrKurQ0g0HRATICTrUVtbK/8++eSTjb5dpNyKkGg6ICZASG3L+fPnR44c\n",
       "+e6772q1WtPlOp0uNjZ29OjRubm5CImmA2IChGQNfvzxx5dfftnJyWn48OFTpkx5\n",
       "5JFHRowY0bVr18ceeywnJ6fjJISQaDpiAoRkF5SXl6enp0dFRYWHhyclJf38888d\n",
       "LSGERNMREyAkexFSRETE0qVLlzRQXV2NkGg6ICZASNZm+vTpo0aNUqlUfg0gJJoO\n",
       "iAkQkg0YPHjw0aNHO3JCCImmIyZASHbBjBkzoqOjERJCAmIChGQzHnnkkQkTJri6\n",
       "ujo4OIwcOXJCA1VVVQiJpgNiAoRkPT777LOdjaFcyw4h0XRATICQSAgh0XRATNQd\n",
       "QkJINB0QEyAkEkJINB0QE3XXoYWUmJg4bdq0TZs2RUZGtu7fnkBINB0QE0JCSM0l\n",
       "PDx86NChU6dODQwM9PX1dXNzQ0g0HRATICQbMGbMmOzs7LCwMBGSfDto0KAzZ84g\n",
       "JJoOiAkQkrWZMGHCvn37FCFVVVX17t27rKwMIdF0QEyAkKzNjh07nJ2d3dzc3N3d\n",
       "XV1dn3/++Y6WEEKi6YgJEJK9kJOTExAQ8PLLL//73/++fPkyQqLpgJgAIdmAlJSU\n",
       "bt26lZWV9e3bt3v37pMmTUJINB0QEyAkGzB27NgtW7Zs27ZtzJgxBoNh4MCBJSUl\n",
       "CImmA2IChGRtBg8eLAby8vJSPmXn6up64sQJhETTATEBQrI2s2bNcnd3d3R0zM3N\n",
       "DQ4OdnFx0ev1CImmA2IChGRtNBrNmjVrdu7cKeOAgIC8vLyOlhBCoumICRCSXVBe\n",
       "Xh4REbF06dIlDfAnzGk6ICZASDZg+vTpo0aNUqlUfg1cTUh1dXUJCQmyplqtLigo\n",
       "MC6vra3dvHmzKC0wMPDYsWMIiaYDYkJICKklDB069OjRo81ZMycnR5QjusrOzl6+\n",
       "fLlxeV5e3sqVK/V6/aFDhwICAhASTQfEhJAQUkuYO3dudHR0c9ZMSkpKTU1Vxr6+\n",
       "vsYrDB0/fnzVqlUGg0FEFRQUZJmQkWI7xj38UHFHJSMjoxiICVqKacshpD/Ea6+9\n",
       "5uDgMHLkyAkNVFVVNbpmTExMZmamMlar1cZfV9JqtStWrFi8ePH8+fPT0tKYIXHq\n",
       "DcTEDAkhtYTDhw/v/DUy12l0zfj4eKNv/Pz8SktLlXFKSkpcXFxdXd2FCxd8fHwq\n",
       "KysREk0HxISQEFLLuZqHjIiNIiMjZSAq8vb21uv1Op1O5klJSUmbN2+W5ZcvX379\n",
       "9dfNLhaOkGg6ICaEhJCaRVVV1b/+9a+uXbt26tTJ3d29id9DEv2EhoaqVCqZBimv\n",
       "3RUVFXl6epaXl69cuVLmTEuWLPn000/bXUIIiaYjJkBIdsGCBQsmT5789ddff/vt\n",
       "tyKV2267ra6urkMlhJBoOmIChGQXjBgxwvSXioYOHSpmQkg0HRATICRrc999923d\n",
       "ulUZX7hwoWfPnhUVFQiJpgNiAoRkbbZv3965c+eZM2e++uqr/fr1e/HFFztaQgiJ\n",
       "piMmQEj2wldffTV//nwPD4/Y2NjWfQMJIdF0QEwICSE1l6KiouHDhzs6Ojo7O3ft\n",
       "2jUuLg4h0XRATICQbMC0adMWLlyo0+lkvGfPHicnJ672TdMBMQFCsgHDhg07deqU\n",
       "8VuzD90hJJoOiAkQkpWYM2eO8YqoWVlZ/fr1U2ZLCImmA2IChGRVZs2a5eDg0L9/\n",
       "f1dX12uvvbZPnz531dNafzoWIdF0QEwICSE1i+zs7M8bQ6PRICSaDogJEJJVqamp\n",
       "kX/Pnj174MCB1v1EA0Ki6YCYEBJCai4pKSndunUrKyvr27dv9+7dJ02ahJBoOiAm\n",
       "QEg2YOzYsVu2bNm2bduYMWMMBsPAgQONf3kPIdF0QEyAkKzH4MGDxUBeXl6BgYHy\n",
       "raur64kTJxASTQfEBAjJ2syaNcvd3d3R0TE3Nzc4ONjFxUWv1yMkmg6ICRCStdFo\n",
       "NGvWrNm5c6eMAwICWuvT3giJpgNiQkgI6XeTmJg4bdq0TZs2RUZGXrx4ESHRdEBM\n",
       "gJBsQHh4+NChQ6dOnRoYGOjr6+vm5oaQaDogJkBINmDMmDHZ2dlhYWHKhxoGDRp0\n",
       "5swZhETTATEBQrI2EyZM2LdvnyKkqqqq3r17l5WVISSaDogJEJK12bFjh7Ozs5ub\n",
       "m7u7u6ur6/PPP9/REkJINB0xAUKyC2bOnPnBBx8EBAR4e3tv3bqVvxhL0wExAUKy\n",
       "Df7+/h4eHsrl7DpmQgiJpiMmQEj2IqTOnTvffPPNkydP/kc9VVVVCImmA2IChGRt\n",
       "9u/fv/XXcKUGmg6ICRASCdmMAcEH1bu/a90vmg6IibpDSCRkL5Kj6YCYqDuE1PrU\n",
       "1dUlJCSoVCq1Wl1QUGB6U3p6emBgYEhISH5+PkJCSEBMCAkhtZBmXssuJydHrFNd\n",
       "XZ2dnb18+XLj8tOnT4ulysvLCwsLV6xYgZAQEhATQkJILaH517JLSkpKTU1VxrKm\n",
       "8YIO27dv37Vrl9joxIkT58+fR0gICYgJISGkltD8a9nFxMRkZmYqY7VabfzDshs3\n",
       "bly2bJnoKioqas2aNbW1tWYJGSnuYNyqPtAu9jMjI6MYiAlaimnLIaQ/RPOvZRcf\n",
       "H5+WlqaM/fz8SktLjaLaunWrMvb39zf7C+jMkDj1BmJihoSQmkXzr2UnNoqMjJSB\n",
       "qMjb21uv1+t0OtGP+EzmRrJcq9X6+vpeuHABISEkICaEhJBaQl5eXnOuZSf6CQ0N\n",
       "ValUPj4+ymt3RUVFnp6eBoNh3bp1MsGSm3bv3t3uEkJINB0xAUKyF5QL2Z09e/bA\n",
       "gQPV1dUdLSGERNMREyAkuyAlJaVbt25lZWV9+/bt3r37pEmTEBJCAmIChGQDxo4d\n",
       "u2XLlm3bto0ZM8ZgMAwcONDsUwkICSEBMQFCsgaDBw8WA3l5eSkf+3Z1dT1x4gRC\n",
       "QkhATICQrM2sWbPc3d0dHR1zc3ODg4NdXFw65tW+ERIQEyAkG6PRaNasWbNz504Z\n",
       "BwQE5OXldbSEEBJNR0yAkGzMfffd59oYlZWVCAkhATEBQrIeR44cSW8Mg8GAkBAS\n",
       "EBMgJGsTFRW15Ne07q8iISSaDogJISGkZhEdHe1Xz+LFi++8884JEybodDqEhJCA\n",
       "mAAh2RKZG/Xv31+r1SIkhATEBAjJlhgMBhcXl8LCQoSEkICYACFZmwULFkxoQGx0\n",
       "xx138KEGhATEBAjJBhw+fHhnA/v27bt8+XJHSwgh0XTEBAjJXqitrT127NiXX355\n",
       "8eLFDpgQQqLpiAkQkl1QVFQ0fPhwR0dHZ2fnrl27xsXFISSEBMQECMkGTJs2beHC\n",
       "hcpHvffs2ePk5MTvISEkICZASDZg2LBhp06dMn47YsSIgoIChISQgJgAIVmbOXPm\n",
       "BAUFKeOsrKx+/frxi7EICYgJEJINmDVrloODQ//+/V1dXa+99to+ffrcVU9rXfYb\n",
       "IdF0QEwICSE1i+zs7M8bQ6PRICSEBMQECMl6pKWlTZo0abQJ/PkJhATEBAjJBri5\n",
       "uS1duvSLL75Ia4ArNSAkICZASDZApkS5ubkdOSGERNMREyAkuyA2Nvbee+9NSkpK\n",
       "bYAZEkICYgKEZJsj2LNnz3Hjxo1voKqqCiEhJCAmQEjWZvjw4f/73/86ckIIiaYj\n",
       "JkBIdsGLL764efNmhISQgJgAIdmYBQsWODg4uLm5Gf8qEi/ZISQgJkBINsD07yEp\n",
       "XO1DDXV1dQkJCSqVSq1WW17vTq/XBwUFmV4WDyEhJCAmhISQmkV5efmFxhDxNLp+\n",
       "Tk5OYGBgdXV1dnb28uXLzW4VV3l7e588eRIhISQgJoSEkH4fzs7ODo1RUVHR6PrK\n",
       "R8OVsa+vb1lZmfGmvLy8DRs2REVFISSEBMSEkBDS7+bcuXOljXG1GVJMTExmZqYy\n",
       "VqvVJSUlylij0QQHB2u12qsJyUhxB+NW9YF2sZ8ZGRnFQEzQUkxbDiFZifj4+LS0\n",
       "NGXs5+cn6lLGMjeKi4s7ePDgm2+++fHHH5t9JoIZEqfeQEzMkBBSKyM2ioyMlIGo\n",
       "yNvbW6/X63Q6mSfl5uburycoKCg5Odns2qwIiaYDYkJICKmVEf2EhoaqVCofHx/l\n",
       "tbuioiJPT0/jCjJVKiwsbHcJISSajpgAIZEQQqLpgJioO4REQgiJpkNIgJBICCHR\n",
       "dEBM1B1CIiGERNMhJEBIJISQaDogJuoOIZEQQqLpEBIgJBJCSDQdEBN1h5BICCHR\n",
       "dAgJqDuEhJBoOiAm6g4hkRBCoukQElB3CAkhISQgJuoOIZEQQqLpEBJQdwgJISEk\n",
       "ICbqDiGREEKi6RASUHcICSEhJCAmQEgkhJBoOoQE1B1CQkgICYgJEBIJISSaDiEB\n",
       "dYeQEBJCAmIChERCCImmQ0hA3SEkhISQgJgAIZEQQqLpEBJQdwgJISEkICZASCSE\n",
       "kGg6ICbqDiEhJIQExAQIiYQQEk0HxETdISSEhJCAmAAhkRBCoumAmKg7hISQEBIQ\n",
       "EyAk+6euri4hIUGlUqnV6oKCAuNyvV4fFxcny4OCggoLCxESQgJiQkgIqW3JyckJ\n",
       "DAysrq7Ozs5evny5cfn+/fvDwsIMBsORI0f8/f0REkICYkJICKltSUpKSk1NVca+\n",
       "vr5lZWXKeO/evfn5+TLQaDQLFy5ESAgJiAkhIaS2JSYmJjMzUxmr1eqSkhLTWysr\n",
       "K9euXZucnGyZkJHiDsat6gPtYj8zMjKKgZigpZi2HEKyEvHx8WlpacrYz8+vtLTU\n",
       "eJOIKiAgID09vT2eMjBD4tSbmIAZUjtDbBQZGSkDUZG3t7der9fpdDJPOnz4cFhY\n",
       "mFarbacJISSajpgAIbUzRD+hoaEqlcrHx0d57a6oqMjT0zMiImLRokV+9YSEhCAk\n",
       "hATEhJAQEgkhJJoOIQF1h5AQEkICYqLuEBIJISSaDiEBdYeQEBJCAmIChERCCImm\n",
       "Q0hA3SEkhISQgJgAIZEQQqLpEBJQdwgJISEkICZASCSEkGg6hATUHUJCSC0RUqt/\n",
       "Obz+BU2HkIC6Q0gIyQ7+PyEkhATUHUJCSAgJEBIgJBIChISQiIm6Q0gICSEBQgKE\n",
       "REKAkICYqDuEhJAQEiAkQEgkBAgJiIm6Q0gICSEBQgKEREKAkICYqDuEhJAQEiAk\n",
       "QEgkBAgJiIm6Q0gICSHRdAgJEBIJAUICYqLuEBIJISSaDiEBQiIhQEhATNQdQiIh\n",
       "hETTISRASCQECAmIibpDSCSEkGg6hAQIiYQAIQExUXcIqa2pq6tLSEhQqVRqtbqg\n",
       "oAAhISRASAgJIdmGnJycwMDA6urq7Ozs5cuXIySEBAgJISEk25CUlJSamqqMfX19\n",
       "y8rKEBJCAmJCSAjJBsTExGRmZipjtVpdUlJieuuQIUPmNTB9+vTiBhi3bCxCavXH\n",
       "nDJlSnv52dvi61b1genRWa375fOfHOVreviO1hpPeXtfq+8nX63yNWThRuMXQrIx\n",
       "8fHxaWlpytjPz6+0tJQZEjMk4YUPj7fu14Dgg8yQgBkSQmoKsVFkZKQMREXe3t56\n",
       "vR4htR2t3vLyJad4rb6fk9flEBZCQkgIydrodLrQ0FCVSuXj42N87Q4htSNuVR9A\n",
       "SAgJEBIJgV0IaUDwwdb9QkgIibpDSCQENB0xAXWHkBASTQfERN0hJBICmo6YgLpD\n",
       "SAiJpgNiAoREQkDTERNQdwgJIdF0QEyAkEgIaDpiAuoOISEkmg6ICRASCQFNR0xA\n",
       "3SEkhETTATEBQiIhoOmICag7hISQaDogJkBIJAQ0HRATdYeQEBJNB8QECImEgKYD\n",
       "YqLuEBJCoumAmAAhkRDQdEBM1B1CQkg0HRATICQSApoOiIm6Q0gIiaYDYgKEREJA\n",
       "0wExUXcIiYSApiMmQEgkBDQdEBN1h5BICGg6YgKEREJA0wExUXcIiYSApiMmQEgk\n",
       "BDQdEBN1h5BICMiImICM/kRCqqurS0hIUKlUarW6oKDAuFyv18fFxcnyoKCgwsJC\n",
       "nkU8i4CYyAghtS05OTmBgYHV1dXZ2dnLly83Lt+/f39YWJjBYDhy5Ii/vz/PIp5F\n",
       "QExkhJDalqSkpNTUVGXs6+tbVlamjPfu3Zufny8DjUazcOFCy4QAADoICKkN0el0\n",
       "l+rR6/UxMTGZmZnKcrVaXVJSYrpmZWXl2rVrk5OTOUsCAEBIrU9aWlpoPV9//XV8\n",
       "fLx8qyz38/MrLS01riaiCggISE9PJ28AAIRkDTlFRkbKQFTk7e0tA2WSdPjw4bCw\n",
       "MK1WS9gAAAjJGuh0OpkqqVQqHx8fmRIVFRV5enrK8oiIiEWLFvnVExISQuQAAAgJ\n",
       "AAAAIQEAAEICAABASI1ztcs6gL2xevVqdT0xMTEcDXsjKysrMTGR51Q7isnOn1Md\n",
       "VEhXu6wD2BUajWblypVX6tHr9RwQ+6GioiI6OtrLyys2NpbnVDuKyc6fUx1USFe7\n",
       "rAPYFd98883atWszMzOl7Gpqajgg9oOIJz8/Pzk52dh0PKfaRUx2/pzqoEJq+rIO\n",
       "YCekpaWFhITIv+vXr4+IiOCA2BtZWVnGpuM51S5isvPnVAcVUhOXdQA7pLa29rXX\n",
       "Xrt48SKHwm6bjudUu4jJzp9THVRIZpd14P0J+yQpKUnpuPPnz0tMOp2OY2LPp948\n",
       "p+w/Jjt/TnVQIZld1oH/svbJzz//HBAQEBQUJEnJk4oDYs9Nx3OqXcRk58+pDv17\n",
       "SFqtlrfK7Z9Lly7V1dVxHHhOwZ/+OcUvxgIAAEICAABASAAAgJAA2jeVlZV5eXnH\n",
       "jx83W15TU5NXj+X7KDa8ms6VK1e+/fZbUgOEBNA+0Gq1DhZs2bKl0ZX37t3bq1ev\n",
       "2bNnmy2/dOnStGnTOnfufPr0adPlOTk5EydOtMJP8eWXXw4bNsxsoV6vHzJkyA8/\n",
       "/EDKgJAA2gd19URGRk6aNEkZX21NEdIDDzxwtVtvvfVWMyE99NBD27dvt46QxD2W\n",
       "y1evXj1//nwiBoQEYI+kpKR4eHiIe/7yl7/I9KW8vFxZ/s4770yePFkZf/vtt+PG\n",
       "jZMZjzgmISHBUkiNrmAmpMLCQhcXF9Gb5cqhoaG33HKL3PrGG28oK69cufLmm2/u\n",
       "2rXrs88+e/nyZcUl/fr169Gjx4wZM2QnLXdbHlnuftNNN8k6Tz75pCIks21duHDh\n",
       "hhtuuHLlCrkDQgKwO+Lj46+//voDBw5IWY8cOfL999+3FNKSJUsef/zxmpqaTz75\n",
       "xNXV1VJIja5gJqRt27Ypr9eZrbxr167Bgwd///33JSUld9xxR1JSksyiRE5Hjx4t\n",
       "LS2VFcLCwkQ/vXr1ys3NFfE8+OCDc+bMsdzt5OTkvn37Hj9+/Pz587LnipAsd0we\n",
       "R+5F7oCQAOxRSPfff78yfuWVV958801LIYkPunTp8txzz0nviwAshdToCmZCCg4O\n",
       "fv755y1Xlo26ubktrmf8+PGyjiyRsXKvi/XMnz//9ddfV5akp6eLrix3e968eaIf\n",
       "ZcmePXsUIVnumGzram+JASAkABsLaerUqU0LSTh16tTbb7993333OTs7G1/WM30P\n",
       "yXIFMyGtWLFCxGC5shhoypQp7zawc+fOF154QVZW1vzhhx+Kiormzp27bNkyZUlW\n",
       "VtaNN95oudsvvfSSn5+fskTmQMb3kMx27O677/7oo4/IHRASQLsUkixXq9W/1H/O\n",
       "+/rrrz969KiZkBpdwUxImzZtkgmQ5cqyxdGjR8s0qLa29qmnntq4ceN77703fPhw\n",
       "WaLVasUfH374YWxs7IABA86ePSvriMAef/xxy92WdQYNGiTToLq6umeffVYRkuWO\n",
       "iZYsP6cOgJAA7EJIjz76qDJ+9dVXV61apYxlsmIUUnZ2dr9+/UQJvXr18vDwECuY\n",
       "CanRFcyE9N133/Xu3bumpsZsZb1eP2fOnB49etx0002PPfaYfKvT6Z555pnu3bv3\n",
       "6dNn5syZNfXMmzdPWTJ27Njvv//ecrcNBsPs2bOdnJxknYkTJypCMtvWuXPnunTp\n",
       "ImuSOyAkgPaKOOann36qqqoyXWj6kp3lCpYf+37wwQeTkpIaXbm6utrswWV6pHy+\n",
       "zsiVK1cqKiqa3k+5l9njmG5LJlK+vr6kCQgJ4M+G8ouxMvMwW37p0qWHH37Y8hdj\n",
       "jxw5orxqZxNk4jVs2DDTD2UAICSAPwkinmPHjp08edJyOnWsHss/T3fq1Clb7a3B\n",
       "YDATJABCAgAAQEgAAICQAAAAEBIAACAkAAAAhAQAAAgJAAAAIQEAAEICAABASAAA\n",
       "gJAAAAAQEgAAICQAAACEBAAACAkAAAAhAQDAn5P/B8dE3FKitc/pAAAAAElFTkSu\n",
       "QmCC\" style=\"clip-path:url(#clipPath1);\" height=\"420\" preserveAspectRatio=\"none\"\n",
       "    /></g\n",
       "  ></g\n",
       "></svg\n",
       ">\n"
      ]
     },
     "metadata": {
      "filenames": {
       "image/svg+xml": "/Users/eechris/code/src/github.com/cpjobling/eg-247-textbook/_build/jupyter_execute/dt_systems/4/dt_models_53_0.svg"
      }
     },
     "output_type": "display_data"
    }
   ],
   "source": [
    "impulse(Hz,15)\n",
    "grid\n",
    "title('Example 5 - Part 2 - As Analogue Signal')\n",
    "xlabel('nTs [s]')\n",
    "ylabel('Impulse response h(t)')"
   ]
  },
  {
   "cell_type": "markdown",
   "metadata": {
    "slideshow": {
     "slide_type": "slide"
    }
   },
   "source": [
    "### 5.3. The DT step response\n",
    "\n",
    "$$Y(z) = H(z)X(z)$$"
   ]
  },
  {
   "cell_type": "markdown",
   "metadata": {
    "slideshow": {
     "slide_type": "fragment"
    }
   },
   "source": [
    "$$u_0[n] \\Leftrightarrow \\frac{z}{z - 1}$$"
   ]
  },
  {
   "cell_type": "markdown",
   "metadata": {
    "slideshow": {
     "slide_type": "subslide"
    }
   },
   "source": [
    "We will work through this example in class.\n",
    "\n",
    "[Skip next slide in Pre-Lecture]"
   ]
  },
  {
   "cell_type": "markdown",
   "metadata": {
    "slideshow": {
     "slide_type": "subslide"
    }
   },
   "source": [
    "$$\\begin{array}{lcl}\n",
    "Y(z) = H(z){U_0}(z) &=& \\frac{z^2 + z}{z^2 + 0.5z + 0.125}.\\frac{z}{z - 1}\\\\\n",
    " & = & \\frac{z(z^2 + z)}{(z^2 + 0.5z + 0.125)(z - 1)}\n",
    "\\end{array}$$"
   ]
  },
  {
   "cell_type": "markdown",
   "metadata": {
    "slideshow": {
     "slide_type": "subslide"
    }
   },
   "source": [
    "$$\\frac{Y(z)}{z} = \\frac{z^2 + z}{(z^2 + 0.5 z + 0.125)(z - 1)}$$"
   ]
  },
  {
   "cell_type": "markdown",
   "metadata": {
    "slideshow": {
     "slide_type": "fragment"
    }
   },
   "source": [
    "Solved by inverse Z-transform."
   ]
  },
  {
   "cell_type": "markdown",
   "metadata": {
    "slideshow": {
     "slide_type": "notes"
    }
   },
   "source": [
    "<pre style=\"border: 2px solid blue\">\n",
    "\n",
    "\n",
    "\n",
    "\n",
    "\n",
    "\n",
    "\n",
    "\n",
    "\n",
    "\n",
    "\n",
    "\n",
    "\n",
    "\n",
    "\n",
    "\n",
    "\n",
    "\n",
    "\n",
    "</pre>"
   ]
  },
  {
   "cell_type": "markdown",
   "metadata": {
    "slideshow": {
     "slide_type": "subslide"
    }
   },
   "source": [
    "### Matlab Solution\n",
    "\n",
    "See [dtm_ex1_3.mlx](https://cpjobling.github.io/eg-247-textbook/dt_systems/4/matlab/dtm_ex1_3.mlx). (Also available as [dtm_ex1_3.m](https://cpjobling.github.io/eg-247-textbook/dt_systems/4/matlab/dtm_ex1_3.m).)"
   ]
  },
  {
   "cell_type": "code",
   "execution_count": 8,
   "metadata": {},
   "outputs": [],
   "source": [
    "open dtm_ex1_3"
   ]
  },
  {
   "cell_type": "markdown",
   "metadata": {
    "slideshow": {
     "slide_type": "notes"
    }
   },
   "source": [
    "### Results\n",
    "\n",
    "![Results](./pictures/dtm_ex1_3_1.png)"
   ]
  },
  {
   "cell_type": "markdown",
   "metadata": {
    "slideshow": {
     "slide_type": "slide"
    }
   },
   "source": [
    "## Modelling DT systems in MATLAB and Simulink"
   ]
  },
  {
   "cell_type": "markdown",
   "metadata": {
    "slideshow": {
     "slide_type": "fragment"
    }
   },
   "source": [
    "We will consider some examples in class"
   ]
  },
  {
   "cell_type": "markdown",
   "metadata": {
    "slideshow": {
     "slide_type": "subslide"
    }
   },
   "source": [
    "### MATLAB\n",
    "\n",
    "Code extracted from [dtm_ex1_3.m](https://cpjobling.github.io/eg-247-textbook/dt_systems/4/matlab/dtm_ex1_3.m):"
   ]
  },
  {
   "cell_type": "code",
   "execution_count": 9,
   "metadata": {
    "slideshow": {
     "slide_type": "fragment"
    }
   },
   "outputs": [],
   "source": [
    "Ts = 1;\n",
    "z = tf('z', Ts);"
   ]
  },
  {
   "cell_type": "code",
   "execution_count": 10,
   "metadata": {
    "slideshow": {
     "slide_type": "fragment"
    }
   },
   "outputs": [
    {
     "name": "stdout",
     "output_type": "stream",
     "text": [
      "\n",
      "Hz =\n"
     ]
    },
    {
     "name": "stdout",
     "output_type": "stream",
     "text": [
      " \n"
     ]
    },
    {
     "name": "stdout",
     "output_type": "stream",
     "text": [
      "        z^2 + z\n"
     ]
    },
    {
     "name": "stdout",
     "output_type": "stream",
     "text": [
      "  -------------------\n"
     ]
    },
    {
     "name": "stdout",
     "output_type": "stream",
     "text": [
      "  z^2 - 0.5 z + 0.125\n"
     ]
    },
    {
     "name": "stdout",
     "output_type": "stream",
     "text": [
      " \n"
     ]
    },
    {
     "name": "stdout",
     "output_type": "stream",
     "text": [
      "Sample time: 1 seconds\n"
     ]
    },
    {
     "name": "stdout",
     "output_type": "stream",
     "text": [
      "Discrete-time transfer function.\n",
      "\n"
     ]
    }
   ],
   "source": [
    "Hz = (z^2 + z)/(z^2 - 0.5 * z + 0.125)"
   ]
  },
  {
   "cell_type": "code",
   "execution_count": 11,
   "metadata": {
    "slideshow": {
     "slide_type": "subslide"
    }
   },
   "outputs": [
    {
     "data": {
      "image/svg+xml": [
       "<?xml version=\"1.0\"?>\n",
       "<!DOCTYPE svg PUBLIC '-//W3C//DTD SVG 1.0//EN'\n",
       "          'http://www.w3.org/TR/2001/REC-SVG-20010904/DTD/svg10.dtd'>\n",
       "<svg xmlns:xlink=\"http://www.w3.org/1999/xlink\" style=\"fill-opacity:1; color-rendering:auto; color-interpolation:auto; text-rendering:auto; stroke:black; stroke-linecap:square; stroke-miterlimit:10; shape-rendering:auto; stroke-opacity:1; fill:black; stroke-dasharray:none; font-weight:normal; stroke-width:1; font-family:'Dialog'; font-style:normal; stroke-linejoin:miter; font-size:12px; stroke-dashoffset:0; image-rendering:auto;\" width=\"560\" height=\"420\" xmlns=\"http://www.w3.org/2000/svg\"\n",
       "><!--Generated by the Batik Graphics2D SVG Generator--><defs id=\"genericDefs\"\n",
       "  /><g\n",
       "  ><defs id=\"defs1\"\n",
       "    ><clipPath clipPathUnits=\"userSpaceOnUse\" id=\"clipPath1\"\n",
       "      ><path d=\"M0 0 L560 0 L560 420 L0 420 L0 0 Z\"\n",
       "      /></clipPath\n",
       "    ></defs\n",
       "    ><g style=\"fill:white; stroke:white;\"\n",
       "    ><rect x=\"0\" y=\"0\" width=\"560\" style=\"clip-path:url(#clipPath1); stroke:none;\" height=\"420\"\n",
       "    /></g\n",
       "    ><g\n",
       "    ><image x=\"0\" y=\"0\" width=\"560\" xlink:href=\"data:image/png;base64,iVBORw0KGgoAAAANSUhEUgAAAjAAAAGkCAIAAACgjIjwAAAlJklEQVR42u2dC1hU\n",
       "dd7HzXS9gZe8a3hJC1jFXQmVdEnd1tzMxDUr87Lmat4BzRRjYeERKUwQwaIMZGVV\n",
       "DNQCU3a1wguUOrsgrHgFvKASiMggIjAMvO/v4TzOO++M4g2GAT+fh8fnP2fOzDlz\n",
       "vs73c/7DMNPkfwAAAMyAJhwCAABASAAAAAgJAAAQEgAAAEICAACEBAAAgJAAAAAh\n",
       "AQAAICQAAEBIAAAACAkAABASAAAAQgIAAIQEAACAkAAAACEBAAAgJAAAQEgAAAAI\n",
       "CQAAEBIAAABCAgAAhAQAAICQAAAAIQEAACAkAABASAAAAAgJAAAQEgAAAEICAACE\n",
       "BAAAgJAAAAAhAQDUDmq1+tSpUzdu3OBQAEIC0xEXF9fk/zNhwoQ62lZISIjc/w8/\n",
       "/HDfNbOysqytrb/55puHfQgtW7YcPnx4amrqfW9VVla2YsWKmJgY/YVVVVWysEuX\n",
       "Lu3atZs5c2ZJSckDPrSoqCjZeteuXSsqKupi/Yc9gI+MVqudO3fu008/LRt66qmn\n",
       "3nzzzdu3bz/+dk2w54CQoJEIafDgwS532LhxYz0K6dq1a6Ghoba2trLm3//+9wd/\n",
       "CCNGjPD3958/f37Tpk1feOGF+97q5s2bcqvp06frL5QtysJx48bNmDFDBh4eHg/4\n",
       "0F599VXFiN99911drG+yWt+yZYtsYtKkSd9+++2f/vQnGfv5+aWnp0soV69eRUiA\n",
       "kKDOhbRs2TL9hW5ubjJB+fHHH2UCIYPAwMDS0tI5c+Z06NChefPmAwcOTEpKkuaS\n",
       "q0QAnTp16t27d0RExIsvvtiqVStpMY1GExYWJtfKJEOmGv379//6668NWmn9+vV9\n",
       "+/aVa996663CwkLdphMTE2UTIpWHFZLuIQwdOlQuitgMdliuUvbK09NTlvfo0UNW\n",
       "s7S0fOedd3R3JeUrEyyZGBUVFck+zJo160F24PLly7LykCFD5A4nT54sS65cuTJ6\n",
       "9GiZrsn9T5s2TSYZNa+v2zc5IXjmmWfkkG7bts34mOsfQFlfDqwc8JdeeunYsWOy\n",
       "pLKyUg6C3LxPnz5Tp06Ve5PdCA8Pl4EyZVywYIGNjU0NB185ArKJxYsXX79+XY7h\n",
       "p59+unfvXiXrn3/+2XgTa9euNdhtuZOa9xwQEkBNbd62bds+d4iNjZXGbN++fa9e\n",
       "vaRiZLYhBf3FF1/IaitWrIiPj5cylTmEUjHS/lJhij+k6F955RXlrP+TTz6RgYOD\n",
       "g/Sm3IMUU3Z2tq6Vdu7cKYO5c+euWbNGrnr33XcN9kpOzx9WSM7OzrLnUrWigW7d\n",
       "uhnvsKyp7FWzZs1kiz4+PjJ2cnIS7xrcocwRraysWrdurRT9fVm9erXcleyzHI1f\n",
       "/epXBQUFK1euVPZfrmrTpo0Ues3r6/Zt0KBBchjlIcgO3OuYywFMSEiQwZgxY776\n",
       "6iuJqXPnzmq1WqyvvOIqsxmJT8YXLlxQ7vbIkSOyiTfeeOOpp56q+eCfO3dORCIr\n",
       "yBblDENuXl5ertuu8SZk9wx2W+6khj3nGYeQAO7T5gMGDJhzh6NHj8ryf/zjH8pv\n",
       "EVQqlVyUSc+//vUvqTDpL1n+u9/9TqkYublcKzOk5557TicSkZDSg0rXK78viYyM\n",
       "1LXSlClTZCDbklrs2LGjFNmDCEnudlA1w4YNM34IOuRUfc+ePcY7rCt9qct7vWSn\n",
       "IDdUbiXzv/tuXXj++efFK//+979lYiG3+vzzz5VH2qVLF5keyaRBq9XWvL5u35Tf\n",
       "aYkmn3766XsdczmAS5culUFmZqas/Nlnn8lY1pw3b54MRPyy0NXV9V5Cuu/Bz8vL\n",
       "k3mPnFuIrmTN999/X7dd400oQtLf7Rr+tyAkhATw0C/ZCYGBgUq/79ixQy4GBATI\n",
       "ePz48UFBQa1atTKomH79+g0cOFAGMjfSF9JPP/2k24RMO3Q3mThxogyWLFny0R0M\n",
       "frd/VyF9880371Tz3nvvGT+EmTNnnjhxQjq6srLyrjusK31lr+4qpHerUcYyWRS3\n",
       "3XfriYmJBu8KGTJkiCzft2+f+EamL7JEpkT3Xd/YHDUc80WLFslAJrKy8qZNm5Qz\n",
       "A2Xh6dOnZaFYRBGSv7+/7szA0dFR7rbmgy+q+/3vfy/zLRlfunRJdNWzZ0+D7epv\n",
       "QhGS/m7f938LICSAmoT029/+duEdPv3001OnTkkT2dvby9RHTqJzcnImT54sq507\n",
       "d+77779X3kHwIEKShkpKSho1apSM09LSdDcJDg6WwfLly6Uohw8fPnXq1Md/yc7A\n",
       "qcY7bFD6t27dkrGdnd3Bgwd1txKryUIp8Y8//lg3r6qZ2bNny5qhoaEHq5H5k/Ki\n",
       "Vtu2bdPT0//5z3/KRZlM1Lz+yZMnjYVUwzGXGYkyd5HDO3jw4NatW//yyy/6USov\n",
       "ooqQJAsZvP322+Hh4TItk7ut+eCLn+Ta119/fefOneJRWf8Pf/iDbrvGm7irkGr+\n",
       "3wIICeDu7N692+CEXc6jHRwcpLykT/fv36/UkxhCTnVlLIrq1KlT//79N2zYoDv1\n",
       "lov6QpLuU+pVadtmzZp5e3vLtbqbaDQaqX5pNOmvQYMGSW8a7FVsbOyDC0l5CB9+\n",
       "+KGB0gx22EBIwtixY5Wd1N1K1Ovk5KQcB6ldZSpQA7dv37a0tOzevbsyLRM+//xz\n",
       "5QWx559/XrkfGUg117z+ypUr9fdNfCZHpuZjLo9XeUlNrhJ5KPcmvS+OkbzEQHKV\n",
       "THGuXbsmpwsylhMLOcOQu6354JeWlsqsUXnbt3JwZNKpv12DTbi7uxvs9l0Pvv49\n",
       "AEICeFxkSnHlypWqqqoHWVlXrwUFBQbvMdNv8+vXr9fvDkv/lpeXGywsLCyUHn/M\n",
       "rct2c6p5wCP2CA9B9lz/2vj4eJFoQECAePQ3v/lN+/btlYcm8hMzGfweq+aDL9s9\n",
       "e/as8R/G3msTj/m/BRASQB3i7+8v5+DK+yPANBQXF48bN06Z2XTr1k15v0mD2wQg\n",
       "JABoJMi8Jy8vr6FvAhASAAAAQgIAAIQEAACAkAAAACGZHxqNJjw8fMWKFb6+vllZ\n",
       "WfpX+fv7+1QTERFB5AAACKluOXToUEhIiFar3bt3b0BAgG65Wq1etWpVWTUiLSIH\n",
       "AEBIdUtKSooyMVKpVOvWrdMtT09PDw4OTkpKkhUM/r4PAAAQUl2xcePGhQsX6n/y\n",
       "f0JCgp+fn/wbGhoaFBRksP5cAIAnBoRkIvLz85VPIsnLy3NzcysrKzNYobKyUpYX\n",
       "FRUZCImzEjOHjIgJnpCMGo+QwsLClG90FuW4uLiUlJSIn7Kzs6Ojo2V6pBjL1dXV\n",
       "4OOzeBbxLAJiIiOEVMvk5OR4VqN8Nr4syczMnDdvXm5urpeXl6+vr7u7u/J9cTyL\n",
       "eBYBMZERQiIheGiMv2ACiAkQEgkBTQfERN0hJIRE0wExAUIiIaDpgJioO4SEkGg6\n",
       "mo6YACGRENB0QEzUHUIiIaDpiAkQEgkBTQfERN0hJBICmo6YACGRENB0QEzUHUIi\n",
       "IaDpiAkQEgkBTQfERN0hJBICmo6YgLpDSAiJpgNiou4QEgkBTUdMQN0hJIRE0wEx\n",
       "UXcIiYSApiMmoO4QEkKi6YCYqDuEREJA0xETUHcICSHdLfsPfnxv+6na/ZH7pOkQ\n",
       "ElB3CAkhPRx9Vv9UF5Kr9Z9nfQ5RJQgJEBIJIaT6ByEhJEBIJISQzEVIsqu1+zPq\n",
       "8xTqCSFRdwjJvLC0tPy/gu7T58ka6wnJnPfz2WefrYvHXhc/4jnlp8/yb560cV2c\n",
       "N/BTuz+WS3YjJE4ZmCFx6s0MCag7hISQEBIQEyAkEkJINB1CAuoOISEkhATEBAiJ\n",
       "hBASTYeQgLpDSAgJIQExAUIiobqVR1380HRATNQdQiKhh+NJ/kNOmo6YACGREEKi\n",
       "6YCYqDuEREIIiaYjJkBIJISQaDogJuoOIZEQQqLpiAkQEgkhJJoOiIm6Q0gkhJBo\n",
       "OmIChERCCImmA2Ki7hBS3aPRaMLDw1esWOHr65uVlYWQaDogJoSEkOqHQ4cOhYSE\n",
       "aLXavXv3BgQEICSaDogJISGk+iElJUWZGKlUqnXr1iEkmg6ICSEhpPpk48aNCxcu\n",
       "PHbsmHFCOi6YMY6BP194UklMTLwAxASPin7LIaR6Jj8/v7y8XAZ5eXlubm5lZWXM\n",
       "kDj1BmJihoSQ6oGwsLDvvvtOBkVFRS4uLiUlJQiJpgNiQkgIqR7IycnxrGb58uU/\n",
       "/vhjg0sIIdF0xAQIiYQQEk0HxETdISQSQkg0HTEBQiIhhETTATFRdwiJhBASTUdM\n",
       "gJBICCHRdEBM1B1CIiGERNMREyAkEkJINB0QE3WHkEgIIdF0xATUHUJCSDQdEBN1\n",
       "h5BICCHRdMQE1B1CQkg0HRATdYeQSAgh0XTEBNQdQkJINB0QE3WHkEgIIdF0xATU\n",
       "HUJCSDQdEBMgJBJCSDQdMQF1h5AQEk0HxAQIiYQQEk1HTEDdISSERNMBMQFCIiGE\n",
       "RNMRE1B3CAkh0XRATICQSAgh0XQICag7hISQaDogJkBIJISQaDogJuoOISEkmg6I\n",
       "CRASCSEkmg6IibpDSAiJpgNiAoREQgiJpgNiou4QEkKi6YCYACGREEKi6YCYqDuE\n",
       "hJAQEhATICQSQkg0HRATdYeQSAgh0XTEBAiJhBASTQfERN0hJBJCSDQdMQFCIiGE\n",
       "RNMBMVF3CImEEBJNR0yAkEgIIdF0QEzUHUIiIYRE0xETUHeNR0gajSYyMtLd3d3X\n",
       "1/fcuXP6V/n7+/tUExERgZBoOiAmhISQ6paDBw8GBARUVFQcPXrU09NTt1ytVq9a\n",
       "taqsGpEWQqLpgJgQEkKqW/bv35+WlqYYyMXFRbc8PT09ODg4KSkpJSVFq9UiJJoO\n",
       "iAkhISRTcPPmTdFPTEyMbklCQoKfn5/8GxoaGhQUZJyQjgu1xLM+hxwDf671nwtP\n",
       "KomJiReAmOBR0W85hGQ6ZBrk5eV1+PDhu15bWVnp5uZWVFRU16cM720/xbkYp97E\n",
       "BMyQnlwhHTlyJCAgoKSkRLekvLw8Ozs7OjpapkdyMT8/39XVVRYiJJoOiAkhIaQ6\n",
       "JCgoaOnSpR7V+Pn5yZLMzMx58+bl5ubKtMnX19fd3V2lUpkgIYRE0xETIKQnWkjm\n",
       "kxBCoumICRASQkJINB0QEyAkEkJINB0xAUJCSAiJpgNiAoREQgiJpgNiQkgICSHR\n",
       "dEBMgJBICCHRdEBMCAkhISSaDogJEBIJISSaDoiJukNICImmA2IChERCCImmA2Ki\n",
       "7hASQqLpgJgAIZEQQqLpgJioO4SEkICmIyZASCSEkGg6ICbqDiEhJKDpiAkQEgkh\n",
       "JJoOiIm6Q0gICWg6YgKEREIIiaYDYqLuEBJCApqOmAAhkRBCoumAmKg7hISQgKYj\n",
       "JkBICAkh0XRATNQdQnokiouL4+PjQ0NDv/zyy8OHDxcUFCAkmg6ICRCSSbl48eLs\n",
       "2bMtLCz69OkzevTosWPHWltbt27deurUqZmZmQiJpgNiAoRkCvLz821tbQMCAg4d\n",
       "OnTz5k3d8gMHDoSHhw8ePDgtLQ0h0XRATICQ6pzKysqCgoLz588PGzYsLi7ufDUZ\n",
       "GRkdOnQoKiqSFbRaLUKi6YCYACGZgg0bNoh+mjVrZmlp2eEOTk5OVVVVZpgQQqLp\n",
       "iAkQUqMVkkyS5N9Jkybd9dU55VqERNMBMQFCqlvy8/MHDhz42WeflZSU6C8vLy/f\n",
       "vHnz4MGDjx8/jpBoOiAmQEim4MqVK++//76lpaWtre1rr732+uuvDxgwwMLCYsKE\n",
       "CSkpKeaWEEKi6YgJEFKjFZJCZGTkjh07vvzyy8DAwOjo6NzcXPNMCCHRdMQECKmR\n",
       "C2nlypUyK3r11Ve//vrrsrIys00IIdF0xAQIqZELSbh161ZUVNSECRO6d+/u4uLy\n",
       "OL89Qkg0HRATQkJIj0Vubm5wcLCtre1zzz1nZWU1duxYsRRCoumAmAAhmY64uLg/\n",
       "/vGPrVq1euutt77//vuqqqqKigonJ6fY2FiERNMBMQFCMh1z5sxZs2ZNXl6e/sID\n",
       "Bw5cvXoVIdF0QEyAkEgIIdF0QEwICSEhJJoOiAkQUkNBo9FERka6u7v7+vqeO3cO\n",
       "IdF0QEwICSHVAlFRUc7Ozps2bQoJCVE+6vu+HDx4MCAgoKKi4ujRo56engiJpgNi\n",
       "QkgI6XEJDAy0trYeP368t7f3smXLHBwcHuRW+/fvVz6SVa1Wu7i4ICSaDogJISGk\n",
       "x8Xe3j45OVmmOyIkudivX78Hf3/dzZs3g4ODY2JijBPScaGWmBymugC1R2JiIgeB\n",
       "mOCR0W85hFRrjBgx4sCBA4qQiouLO3XqVFBQ8CA3TEpK8vLyOnz4sGlOGZghcepN\n",
       "TMAMqZELaffu3Z07d3ZwcHB0dLSzs5sxY8aD3OrIkSPiMIOvrkBINB0QE0JCSI9F\n",
       "amqqzHVcXV137NjxgF8XGxQUtHTpUo9q/Pz8EBJNB8SEkBBSLaDVauXfvLy8Q4cO\n",
       "lZaWmmdCCImmIyZASI1cSHFxcW3bti0oKOjevXu7du1GjhyJkGg6ICZASPXA0KFD\n",
       "t27dumvXLnt7+4qKir59+2ZnZyMkmg6ICRCSqenfv78YaNGiRcrbvu3s7M6cOYOQ\n",
       "aDogJkBIpmb69OmOjo5t2rQ5fvz46tWru3XrptFoEBJNB8QECMnUqNXqNWvW7Nmz\n",
       "R8ZeXl6pqanmmRBCoumICRBSIxfSjRs3goKCVqxYsfwOj/9GO4RE0wExISSE9NBM\n",
       "njx50KBB7u7uHndASDQdEBMgpHrA2tr6xIkT5p8QQqLpiAkQUiMX0pw5c8LCwhAS\n",
       "TQfEBAipnnFzc2vSpMnAgQNH3KG4uBgh0XRATICQTM2RI0f2VBMXF6cMKioqEBJN\n",
       "B8QECMnUyHzoz3/+s4WFRbNmzRwdHXnbN00HxAQIqX5YvHjxqFGj/vOf/2RlZXl4\n",
       "ePTu3fsBP/AbIdF0QEyAkGqTAQMGnD59WnfR2tpazISQaDogJkBIpubll1/esWOH\n",
       "Mr5+/XqHDh0KCwsREk0HxAQIydTExsa2bNly2rRpCxcutLKy+stf/mKeCSEkmo6Y\n",
       "ACE1ciEJycnJnp6eH3zwQXR09OP/Agkh0XRATAgJIT0ilZWVJ0+ePHbsWFFRkdkm\n",
       "hJBoOmIChNTIhZSZmWlra9umTZvOnTtbWFhERkYiJJoOiAkQUj3g7Ozs4uJSXl4u\n",
       "43379llaWvLhqjQdEBMgpHrAxsYmIyNDd9HgXeAIiaYDYgKEZCJmzZrl6+urjFUq\n",
       "lZWVlTJbQkg0HRATICSTMn369CZNmvTq1cvOzq5p06ZdunR5sZrH+QwhhETTATEh\n",
       "JIT00CQnJ+/fv/+HH37YuXPnunXr4uPjf6hGrVYjJJoOiAkQkumIi4tr27ZtQUFB\n",
       "9+7d27VrN3LkSPNMCCHRdMQECKmRC2no0KFbt27dtWuXvb19RUVF3759s7OzERJN\n",
       "B8QECMnU9O/fXwy0aNEib29vuWhnZ3fmzBmERNMBMQFCMjXTp093dHRs06bN8ePH\n",
       "V69e3a1bN41Gg5BoOiAmQEimRq1Wr1mzZs+ePTL28vLiC/poOiAmQEj1RlRUlLOz\n",
       "86ZNm0JCQmrl4+wQEk0HxISQENJDExgYaG1tPX78eG9v72XLljk4OCAkmg6ICRBS\n",
       "PWBvb5+cnBwQEKC8qaFfv35Xr15FSDQdEBMgJFMzYsSIAwcOKEIqLi7u1KlTQUEB\n",
       "QqLpgJgAIZma3bt3d+7c2cHBwdHR0c7ObsaMGeaZEEKi6YgJEFIjF5KQmprq5eXl\n",
       "6uq6Y8cOvjGWpgNiAoRUP0ybNi0xMdH8E0JINB0xAUJq5ELy9PScOnWqVqtFSDQd\n",
       "EBMgpHoWUsuWLXv06DFq1Kg/VFNcXIyQaDogJkBIpubgwYM7/j98dBBNB8QECMlM\n",
       "UalUUVFRBgv9/f19qomIiEBINB0QE0JCSHVLYWFhWFjYokWLNm/erL9crVavWrWq\n",
       "rBrjGRVCoumAmBASQqplSktL09LSYmJiDISUnp4eHByclJSUkpJi/IaIuXpcqCUm\n",
       "h6kuQO2RmJjIQSAmeGT0Ww4h1SaVlZUnT548duzYvT5ZVaVSGQgpISHBz89P/g0N\n",
       "DQ0KCmKGxKk3EBMzJIT0uGRmZtra2rZp06Zz584WFhaRkZEPIiR9mbm5uRmYDCHR\n",
       "dEBMCAkhPTTOzs4uLi7l5eUy3rdvn6WlZWlpaQ1CkjWzs7Ojo6NleiQX8/PzXV1d\n",
       "lZsjJJoOiAkhIaRHx8bGJiMjQ3dxwIABp0+frkFIMqOaN29ebm6ul5eXr6+vu7u7\n",
       "XGuChBASTUdMgJAauZBmzZolXtGJx8rKymC6YyYJISSajpgAITVyIU2fPr1Jkya9\n",
       "evWys7Nr2rRply5dXqzmcb7LHCHRdEBMCAkhPTTJyckeHh7Dhw//8MMPFy9evHv3\n",
       "7h+qUavVCImmA2IChGQ6+Apzmg6ICRCSWcBXmNN0QEyAkMwCvsKcpgNiAoRkFvAV\n",
       "5jQdEBMgJHOBrzCn6YCYACHVP8nJyTdv3tRdTEpKqqioQEg0HRATICTToVarz58/\n",
       "P2zYsLi4uPPVZGRkdOjQ4V4fsYqQaDogJkBIdcKGDRtEP82aNbO0tOxwBycnp8d/\n",
       "1Q4h0XRATAgJIT00kyZNSktLM/+EEBJNR0yAkBqzkGJjYw8ePCiD7du3Ozo6Tpgw\n",
       "4ezZswiJpgNiAoRkUpYvX968efPIyMhLly7JwNPTc/78+TY2NrxkR9MBMQFCMh1a\n",
       "rbZFixaJiYkyXr9+/ahRo5TlvXv3PnPmDEKi6YCYACGZiPz8/NatWyuToUmTJq1e\n",
       "vVpZbm9vb/z9RgiJpgNiAoRUV4iKOnTokJqaKmZq27btTz/9JAsvXrwoluKjg2g6\n",
       "ICZASCYlKCioRYsWYqPhw4fLxYiIiJ49ey5YsMA8E0JINB0xAUJqtEIS/vvf/+7d\n",
       "u/fWrVsy3rp167Zt2/joIJoOiAkQEgkhJJoOiIm6Q0gIiaYDYgKEREIIiaYDYqLu\n",
       "EBJCoumAmAAhkRBCoumAmKg7hISQaDoOAjEBQiIhhETTATFRdwgJIQFNR0yAkEgI\n",
       "IdF0QEzUHUJCSEDTERMgJBJCSDQdEBN1h5AQEtB0xAQIiYQQEk0HxETdISSEBDQd\n",
       "MQFCQkgIiaYDYqLuEBJCApqOmAAhISSERNMBMVF3CAkhAU1HTICQEBJCoumAmKg7\n",
       "hISQgKYjJkBICEmlUkVFRSEkmg6ICSEhpHqjsLAwLCxs0aJFmzdvRkg0HRATQkJI\n",
       "9UZpaWlaWlpMTMxdhdTDbbvuxzHw51r5mRymugC1R2JiIgeBmOCRmasHQjKXl+xM\n",
       "NkMCTr2JCZghISSERNMBMQFCQkhA0xETICSEhJBoOiAmQEgkBDQdEBN1h5AQEk0H\n",
       "xAQIiYSApgNiou4QEkKi6YCYACGRENB0QEzUHUJCSDQdEBMgJBICmg6IibpDSAiJ\n",
       "pgNiAoREQkDTATFRdwiJhICmIyZASCQENB0QE3WHkEgIaDpiAoREQkDTATFRdwiJ\n",
       "hICmIyZASCQENB0QE3WHkEgIaDpiAoREQkDTATFRdwiJhICmIyag7hASQqLpgJio\n",
       "O4REQkDTERNQdwgJIdF0QEzUHUIiIaDpiAmoO4SEkGg6ICbqDiGRENB0xATUHUJC\n",
       "SDQdEBMgJBICmo6YgLpDSAiJpgNiAoREQkDTERNQdwgJIdF0QEyAkEgIaDpiAuoO\n",
       "ISEkmg6ICRASCQFNR0xA3SEkhETTATEBQiIhoOmAmKg7hISQaDogJkBIJAQ0HRAT\n",
       "dYeQEBJNB8QECImEgKYDYqLuEBJCoumAmAAhNQCqqqq2bdvm7u7u4+Nz+vRp/av8\n",
       "/f19qomIiEBINB0QE0JCSHVLSkqKt7d3aWlpcnLyRx99pFuuVqtXrVpVVo1Go0FI\n",
       "NB0QE0JCSHVLdHR0fHy8Ml62bFlBQYEyTk9PDw4OTkpKEmNptVrjhHRcALMkMTGR\n",
       "g0BM8MjotxxCMhERERFiHWXs4+OTnZ2tjBMSEvz8/OTf0NDQoKAgZkicegMxMUNC\n",
       "SHXLli1bxDrK2MPDIycnx2CFyspKNze3oqIihETTATEhJIRUh4iNQkJCZCAqcnV1\n",
       "1Wg05eXlMk+Kjo5WRJWfny/LZSFCoumAmBASQqpDxDRr1651d3dfsmSJ8tpdZmbm\n",
       "vHnzcnNzvby8fH195SqVStXgEgKajpgAIZEQ0HRATNQdQiIhoOmICRASCQFNB8RE\n",
       "3SEkEgKajpgAIZEQ0HRATNQdQiIhoOmICRASCQFNB8RE3SEkEgKajpiAukNICImm\n",
       "A2Ki7hASCQFNR0xA3SEkhETTATFRdwiJhICmIyag7hASQqLpgJioO4REQkDTERNQ\n",
       "dwgJIdF0QEyAkEgIaDpiAuoOISEkmg6ICRASCQFNR0xA3SEkhETTATEBQiIhoOmI\n",
       "Cag7hISQaDogJkBIJAQ0HTEBdYeQEBJNB8QECImEgKYDYqLuEBJCoumAmAAhkRDQ\n",
       "dEBM1B1CQkg0HRATICQSApoOiIm6Q0gIiaYDYgKEREJA0wExUXcICSHRdEBMgJBI\n",
       "CGg6ICbqDiGRENB0xAQIiYSApgNiou4QEgkBTUdMgJBICGg6ICbqDiGRENB0xAQI\n",
       "iYSApgNiou4QEgkBGRETkFHjF1JVVdW2bdvc3d19fHxOnz7Ns4hnERATGSGk+iEl\n",
       "JcXb27u0tDQ5Ofmjjz7iWcSzCIiJjBBS/RAdHR0fH6+Mly1bVlBQYJAQAMATAkKq\n",
       "ZyIiIpKSkpSxj49PdnY2J0oAAAipHtiyZUtCQoIy9vDwyMnJIXUAAIRUD4iNQkJC\n",
       "ZCAqcnV11Wg0pA4AgJDqgfLy8rVr17q7uy9ZskT32h0AACAkAAAAhAQAAAgJAAAA\n",
       "IRlS88c3gPng7+/vU01ERARHw9xQqVRRUVE8pxpQTGb+nHpChVTzxzeAmaBWq1et\n",
       "WlVWDW+PNCsKCwvDwsIWLVq0efNmnlMNKCYzf049oUKq+eMbwExIT08PDg5OSkqS\n",
       "stNqtRwQ80HEk5aWFhMTo2s6nlMNIiYzf049oULi4xsaBAkJCX5+fvJvaGhoUFAQ\n",
       "B8TcUKlUuqbjOdUgYjLz59QTKiQ+vqFhUVlZ6ebmVlRUxKEw26bjOdUgYjLz59QT\n",
       "KiQ+vqFBEB0drXRcfn6+xFReXs4xMedTb55T5h+TmT+nnlAh8fENDYLc3FwvLy9f\n",
       "X19JSp5UHBBzbjqeUw0iJjN/Tj3Rf4dUUlLCr8rNn1u3blVVVXEceE5Bo39O8Yex\n",
       "AACAkAAAABASAAAgJICGzc2bN1NTU0+dOmWwXKvVplZj/HuUevw0nbKysqysLFID\n",
       "hATQMCgpKWlixNatW++68v79+zt27Dhz5kyD5bdu3XJ2dm7ZsuWlS5f0l6ekpDg5\n",
       "OZngURw7dszGxsZgoUajeeGFFy5fvkzKgJAAGgZV1YSEhIwcOVIZ32tNEdIrr7xy\n",
       "r2ufffZZAyGNHTs2NjbWNEIS9xgv9/f3nz9/PhEDQgIwR+Li4qZOnSruadGihUxf\n",
       "bty4oSzfsGHDqFGjlHFWVtawYcNkxiOO2bZtm7GQ7rqCgZDOnTvXrVs30ZvxymvX\n",
       "ru3Zs6dc+9e//lVZedWqVT169LCwsJgyZcrt27cVl1hZWbVv3/6dd96RnTTebbln\n",
       "uXnXrl1lnUmTJilCMtjW9evXW7duXVZWRu6AkADMji1btjRv3vzQoUNS1gMHDvzq\n",
       "q6+MhbR8+fKJEydqtdpvv/3Wzs7OWEh3XcFASLt27VJerzNYee/evf3797948WJ2\n",
       "dvavf/3r6OhomUWJnE6cOJGTkyMrBAQEiH46dux4/PhxEc+YMWNmzZplvNsxMTHd\n",
       "u3c/depUfn6+7LkiJOMdk/uRW5E7ICQAcxTS6NGjlfGCBQs+/vhjYyGJD1q1avXu\n",
       "u+9K74sAjIV01xUMhLR69eoZM2YYrywbdXBw+LCal156SdaRJTJWblVUzfz58z/4\n",
       "4ANlyeHDh0VXxrs9d+5c0Y+yZN++fYqQjHdMtnWvX4kBICSAehbS+PHjaxaSkJGR\n",
       "sX79+pdffrlz5866l/X0f4dkvIKBkP72t7+JGIxXFgO99tprn91hz5497733nqys\n",
       "rHn58uXMzMw5c+asXLlSWaJSqZ555hnj3Z49e7aHh4eyROZAut8hGezYkCFDdu7c\n",
       "Se6AkAAapJBkuY+Pz/9Uv8+7efPmJ06cMBDSXVcwENKmTZtkAmS8smxx8ODBMg2q\n",
       "rKx88803w8PDv/jiC1tbW1lSUlIi/ti+ffvmzZv79OmTl5cn64jAJk6caLzbsk6/\n",
       "fv1kGlRVVTVlyhRFSMY7Jloyfp86AEICMAshvfHGG8p44cKFn3zyiTKWyYpOSMnJ\n",
       "yVZWVqKEjh07Tp06VaxgIKS7rmAgpPPnz3fq1Emr1RqsrNFoZs2a1b59+65du06Y\n",
       "MEEulpeXv/322+3atevSpcu0adO01cydO1dZMnTo0IsXLxrvdkVFxcyZMy0tLWUd\n",
       "JycnRUgG27p27VqrVq1kTXIHhATQUBHH/PLLL8XFxfoL9V+yM17B+G3fY8aMiY6O\n",
       "vuvKpaWlBncu0yPl/XU6ysrKCgsLa95PuZXB/ehvSyZSy5YtI01ASACNDeUPY2Xm\n",
       "YbD81q1b48aNM/7D2KNHjyqv2tULMvGysbHRf1MGAEICaCSIeE6ePHn27Fnj6dTJ\n",
       "aoy/ni4jI6O+9raiosJAkAAICQAAACEBAABCAgAAQEgAAICQAAAAEBIAACAkAAAA\n",
       "hAQAAAgJAAAAIQEAAEICAABASAAAgJAAAAAQEgAAICQAAACEBAAAjZP/Bc2TmoOY\n",
       "xTmdAAAAAElFTkSuQmCC\" style=\"clip-path:url(#clipPath1);\" height=\"420\" preserveAspectRatio=\"none\"\n",
       "    /></g\n",
       "  ></g\n",
       "></svg\n",
       ">\n"
      ]
     },
     "metadata": {
      "filenames": {
       "image/svg+xml": "/Users/eechris/code/src/github.com/cpjobling/eg-247-textbook/_build/jupyter_execute/dt_systems/4/dt_models_69_0.svg"
      }
     },
     "output_type": "display_data"
    }
   ],
   "source": [
    "step(Hz)\n",
    "grid\n",
    "title('Example 1 - Part 3 - As Analogue Signal')\n",
    "xlabel('nTs [s]')\n",
    "ylabel('Step response y(t)')\n",
    "axis([0,15,0,3.5])"
   ]
  },
  {
   "cell_type": "markdown",
   "metadata": {
    "slideshow": {
     "slide_type": "subslide"
    }
   },
   "source": [
    "### Simulink Model\n",
    "\n",
    "See [dtm.slx](https://cpjobling.github.io/eg-247-textbook/dt_systems/4/matlab/dtm.slx):\n",
    "\n",
    "![Simulink model](./pictures/simulink_model.png)"
   ]
  },
  {
   "cell_type": "code",
   "execution_count": 12,
   "metadata": {
    "slideshow": {
     "slide_type": "fragment"
    }
   },
   "outputs": [],
   "source": [
    "dtm"
   ]
  },
  {
   "cell_type": "markdown",
   "metadata": {
    "slideshow": {
     "slide_type": "notes"
    }
   },
   "source": [
    "#### Results\n",
    "\n",
    "![Simulink results](./pictures/scope.png)"
   ]
  },
  {
   "cell_type": "markdown",
   "metadata": {
    "slideshow": {
     "slide_type": "slide"
    }
   },
   "source": [
    "## Converting Continuous Time Systems to Discrete Time Systems\n",
    "\n",
    "In analogue electronics, to implement a filter we would need to resort to op-amp circuits with resistors, capacitors and inductors acting as energy dissipation, storage and release devices."
   ]
  },
  {
   "cell_type": "markdown",
   "metadata": {
    "slideshow": {
     "slide_type": "subslide"
    }
   },
   "source": [
    "* In modern digital electronics, it is often more convenient to take the original transfer function $H(s)$ and produce an equivalent $H(z)$."
   ]
  },
  {
   "cell_type": "markdown",
   "metadata": {
    "slideshow": {
     "slide_type": "fragment"
    }
   },
   "source": [
    "* We can then determine a *difference equation* that will respresent $h[n]$ and implement this as *computer algorithm*."
   ]
  },
  {
   "cell_type": "markdown",
   "metadata": {
    "slideshow": {
     "slide_type": "fragment"
    }
   },
   "source": [
    "* Simple storage of past values in memory becomes the repository of past state rather than the integrators and derivative circuits that are needed in the analogue world."
   ]
  },
  {
   "cell_type": "markdown",
   "metadata": {
    "slideshow": {
     "slide_type": "subslide"
    }
   },
   "source": [
    "To achieve this, all we need is to be able to do is to *sample* and *process* the signals quickly enough to avoid violating Nyquist-Shannon's sampling theorem."
   ]
  },
  {
   "cell_type": "markdown",
   "metadata": {
    "slideshow": {
     "slide_type": "subslide"
    }
   },
   "source": [
    "### Continuous System Equivalents\n",
    "\n",
    "* There is no digital system that uniquely represents a continuous system\n",
    "* This is because as we are sampling, we only have knowledge of signals being processed at the sampling instants, and need to *reconstruct* the inter-sample behaviour.\n",
    "* In practice, only a small number of transformations are used.\n",
    "* The derivation of these is beyond the scope of this module, but **in class** we'll demonstrate the ones that MATLAB provides in a function called `c2d`"
   ]
  },
  {
   "cell_type": "markdown",
   "metadata": {
    "slideshow": {
     "slide_type": "subslide"
    }
   },
   "source": [
    "### MATLAB c2d function\n",
    "\n",
    "Let's see what the help function says:"
   ]
  },
  {
   "cell_type": "code",
   "execution_count": 13,
   "metadata": {
    "slideshow": {
     "slide_type": "notes"
    }
   },
   "outputs": [
    {
     "name": "stdout",
     "output_type": "stream",
     "text": [
      " C2D  Converts continuous-time dynamic system to discrete time.\n",
      " \n",
      "    SYSD = C2D(SYSC,TS,METHOD) computes a discrete-time model SYSD with\n",
      "    sample time TS that approximates the continuous-time model SYSC.\n",
      "    The string METHOD selects the discretization method among the following:\n",
      "       'zoh'           Zero-order hold on the inputs\n",
      "       'foh'           Linear interpolation of inputs\n",
      "       'impulse'       Impulse-invariant discretization\n",
      "       'tustin'        Bilinear (Tustin) approximation.\n",
      "       'matched'       Matched pole-zero method (for SISO systems only).\n",
      "       'least-squares' Least-squares minimization of the error between\n",
      "                       frequency responses of the continuous and discrete\n",
      "                       systems (for SISO systems only).\n",
      "       'damped'        Damped Tustin approximation based on TRBDF2 formula\n",
      "                       (sparse models only).\n",
      "    The default is 'zoh' when METHOD is omitted. The sample time TS should\n",
      "    be specified in the time units of SYSC (see \"TimeUnit\" property).\n",
      " \n",
      "    C2D(SYSC,TS,OPTIONS) gives access to additional discretization options. \n",
      "    Use C2DOPTIONS to create and configure the option set OPTIONS. For \n",
      "    example, you can specify a prewarping frequency for the Tustin method by:\n",
      "       opt = c2dOptions('Method','tustin','PrewarpFrequency',.5);\n",
      "       sysd = c2d(sysc,.1,opt);\n",
      " \n",
      "    For state-space models,\n",
      "       [SYSD,G] = C2D(SYSC,Ts,METHOD)\n",
      "    also returns the matrix G mapping the states xc(t) of SYSC to the states \n",
      "    xd[k] of SYSD:\n",
      "       xd[k] = G * [xc(k*Ts) ; u[k]]\n",
      "    Given an initial condition x0 for SYSC and an initial input value u0=u(0), \n",
      "    the equivalent initial condition for SYSD is (assuming u(t)=0 for t<0):\n",
      "       xd[0] = G * [x0;u0] .\n",
      " \n",
      "    See also C2DOPTIONS, D2C, D2D, DYNAMICSYSTEM.\n",
      "\n",
      "    Documentation for c2d\n",
      "       doc c2d\n",
      "\n",
      "    Other functions named c2d\n",
      "\n",
      "       DynamicSystem/c2d    ltipack.tfdata/c2d\n",
      "\n"
     ]
    }
   ],
   "source": [
    "help c2d"
   ]
  },
  {
   "cell_type": "code",
   "execution_count": 14,
   "metadata": {
    "slideshow": {
     "slide_type": "fragment"
    }
   },
   "outputs": [],
   "source": [
    "doc c2d"
   ]
  },
  {
   "cell_type": "markdown",
   "metadata": {
    "slideshow": {
     "slide_type": "subslide"
    }
   },
   "source": [
    "### Example 6\n",
    "\n",
    "* Design a 2nd-order butterworth low-pass anti-aliasing filter with transfer function $H(s)$ for use in sampling music. \n",
    "* The cut-off frequency $\\omega_c = 20$&nbsp;kHz and the filter should have an attenuation of at least $-80$&nbsp;dB in the stop band. \n",
    "* Choose a suitable sampling frequency for the audio signal and give the transfer function $H(z)$ and an algorithm to implement $h[n]$"
   ]
  },
  {
   "cell_type": "markdown",
   "metadata": {
    "slideshow": {
     "slide_type": "subslide"
    }
   },
   "source": [
    "### Solution\n",
    "\n",
    "See [digi_butter.mlx](https://cpjobling.github.io/eg-247-textbook/dt_systems/4/matlab/digi_butter.mlx)."
   ]
  },
  {
   "cell_type": "markdown",
   "metadata": {
    "slideshow": {
     "slide_type": "subslide"
    }
   },
   "source": [
    "First determine the cut-off frequency $\\omega_c$\n",
    "\n",
    "$$\\omega_c = 2\\pi f_c = 2\\times \\pi \\times 20\\times 10^3\\;\\mathrm{rad/s}$$"
   ]
  },
  {
   "cell_type": "code",
   "execution_count": 15,
   "metadata": {
    "slideshow": {
     "slide_type": "fragment"
    }
   },
   "outputs": [
    {
     "name": "stdout",
     "output_type": "stream",
     "text": [
      "wc =\n",
      "   1.2566e+05\n"
     ]
    }
   ],
   "source": [
    "wc = 2*pi*20e3"
   ]
  },
  {
   "cell_type": "markdown",
   "metadata": {
    "slideshow": {
     "slide_type": "fragment"
    }
   },
   "source": [
    "$$\\omega_c = 125.66\\times 10^3\\;\\mathrm{rad/s}$$"
   ]
  },
  {
   "cell_type": "markdown",
   "metadata": {
    "slideshow": {
     "slide_type": "subslide"
    }
   },
   "source": [
    "From the lecture on filters, we know the 2nd-order butterworth filter has transfer function:\n",
    "\n",
    "$$H(s) = \\frac{Y(s)}{U(s)} = \\frac{\\omega _c^2}{s^2 + \\omega _c\\sqrt 2 \\,s + \\omega _c^2}$$"
   ]
  },
  {
   "cell_type": "markdown",
   "metadata": {
    "slideshow": {
     "slide_type": "fragment"
    }
   },
   "source": [
    "Substituting for $\\omega_c = 125.6637\\times 10^3 $ this is ...?"
   ]
  },
  {
   "cell_type": "code",
   "execution_count": 16,
   "metadata": {
    "slideshow": {
     "slide_type": "fragment"
    }
   },
   "outputs": [
    {
     "name": "stdout",
     "output_type": "stream",
     "text": [
      "\n",
      "Hs =\n"
     ]
    },
    {
     "name": "stdout",
     "output_type": "stream",
     "text": [
      " \n"
     ]
    },
    {
     "name": "stdout",
     "output_type": "stream",
     "text": [
      "           1.579e10\n"
     ]
    },
    {
     "name": "stdout",
     "output_type": "stream",
     "text": [
      "  ---------------------------\n"
     ]
    },
    {
     "name": "stdout",
     "output_type": "stream",
     "text": [
      "  s^2 + 1.777e05 s + 1.579e10\n"
     ]
    },
    {
     "name": "stdout",
     "output_type": "stream",
     "text": [
      " \n"
     ]
    },
    {
     "name": "stdout",
     "output_type": "stream",
     "text": [
      "Continuous-time transfer function.\n",
      "\n"
     ]
    }
   ],
   "source": [
    "Hs = tf(wc^2,[1 wc*sqrt(2), wc^2])"
   ]
  },
  {
   "cell_type": "markdown",
   "metadata": {
    "slideshow": {
     "slide_type": "subslide"
    }
   },
   "source": [
    "$$H(s) = \\frac{15.79 \\times 10^9}{s^2 + 177.7 \\times 10^3 s + 15.79 \\times 10^9}$$"
   ]
  },
  {
   "cell_type": "markdown",
   "metadata": {
    "slideshow": {
     "slide_type": "subslide"
    }
   },
   "source": [
    "### Bode plot\n",
    "\n",
    "MATLAB:"
   ]
  },
  {
   "cell_type": "code",
   "execution_count": 17,
   "metadata": {
    "slideshow": {
     "slide_type": "subslide"
    }
   },
   "outputs": [
    {
     "data": {
      "image/svg+xml": [
       "<?xml version=\"1.0\"?>\n",
       "<!DOCTYPE svg PUBLIC '-//W3C//DTD SVG 1.0//EN'\n",
       "          'http://www.w3.org/TR/2001/REC-SVG-20010904/DTD/svg10.dtd'>\n",
       "<svg xmlns:xlink=\"http://www.w3.org/1999/xlink\" style=\"fill-opacity:1; color-rendering:auto; color-interpolation:auto; text-rendering:auto; stroke:black; stroke-linecap:square; stroke-miterlimit:10; shape-rendering:auto; stroke-opacity:1; fill:black; stroke-dasharray:none; font-weight:normal; stroke-width:1; font-family:'Dialog'; font-style:normal; stroke-linejoin:miter; font-size:12px; stroke-dashoffset:0; image-rendering:auto;\" width=\"560\" height=\"420\" xmlns=\"http://www.w3.org/2000/svg\"\n",
       "><!--Generated by the Batik Graphics2D SVG Generator--><defs id=\"genericDefs\"\n",
       "  /><g\n",
       "  ><defs id=\"defs1\"\n",
       "    ><clipPath clipPathUnits=\"userSpaceOnUse\" id=\"clipPath1\"\n",
       "      ><path d=\"M0 0 L560 0 L560 420 L0 420 L0 0 Z\"\n",
       "      /></clipPath\n",
       "      ><font horiz-adv-x=\"50.0\" id=\"font1\"\n",
       "      ><font-face ascent=\"95.200005\" descent=\"21.3\" units-per-em=\"100\" style=\"font-style:normal; font-family:Helvetica Neue; font-weight:normal;\"\n",
       "        /><missing-glyph horiz-adv-x=\"50.0\" d=\"M40.9 66.6 L10.2 66.6 L10.2 4.7 L40.9 4.7 ZM46 71.2 L46 0.1 L5.1 0.1 L5.1 71.2 Z\"\n",
       "        /><glyph unicode=\"0\" horiz-adv-x=\"55.6\" d=\"M13.2 34.9 Q13.2 37.5 13.25 40.65 Q13.3 43.8 13.75 46.95 Q14.2 50.1 15.05 53.1 Q15.9 56.1 17.55 58.35 Q19.2 60.6 21.7 62 Q24.2 63.4 27.8 63.4 Q31.4 63.4 33.9 62 Q36.4 60.6 38.05 58.35 Q39.7 56.1 40.55 53.1 Q41.4 50.1 41.85 46.95 Q42.3 43.8 42.35 40.65 Q42.4 37.5 42.4 34.9 Q42.4 30.9 42.15 25.95 Q41.9 21 40.55 16.65 Q39.2 12.3 36.2 9.3 Q33.2 6.3 27.8 6.3 Q22.4 6.3 19.4 9.3 Q16.4 12.3 15.05 16.65 Q13.7 21 13.45 25.95 Q13.2 30.9 13.2 34.9 ZM4.2 34.8 Q4.2 30.9 4.4 26.7 Q4.6 22.5 5.4 18.5 Q6.2 14.5 7.7 10.95 Q9.2 7.4 11.8 4.7 Q14.4 2 18.35 0.45 Q22.3 -1.1 27.8 -1.1 Q33.4 -1.1 37.3 0.45 Q41.2 2 43.8 4.7 Q46.4 7.4 47.9 10.95 Q49.4 14.5 50.2 18.5 Q51 22.5 51.2 26.7 Q51.4 30.9 51.4 34.8 Q51.4 38.7 51.2 42.9 Q51 47.1 50.2 51.1 Q49.4 55.1 47.9 58.7 Q46.4 62.3 43.8 65 Q41.2 67.7 37.25 69.3 Q33.3 70.9 27.8 70.9 Q22.3 70.9 18.35 69.3 Q14.4 67.7 11.8 65 Q9.2 62.3 7.7 58.7 Q6.2 55.1 5.4 51.1 Q4.6 47.1 4.4 42.9 Q4.2 38.7 4.2 34.8 Z\"\n",
       "        /><glyph unicode=\"2\" horiz-adv-x=\"55.6\" d=\"M4.4 45.8 L12.9 45.8 Q12.8 49 13.55 52.15 Q14.3 55.3 16 57.8 Q17.7 60.3 20.35 61.85 Q23 63.4 26.7 63.4 Q29.5 63.4 32 62.5 Q34.5 61.6 36.35 59.9 Q38.2 58.2 39.3 55.85 Q40.4 53.5 40.4 50.6 Q40.4 46.9 39.25 44.1 Q38.1 41.3 35.85 38.9 Q33.6 36.5 30.2 34.15 Q26.8 31.8 22.3 29 Q18.6 26.8 15.2 24.3 Q11.8 21.8 9.1 18.5 Q6.4 15.2 4.65 10.75 Q2.9 6.3 2.4 0 L48.7 0 L48.7 7.5 L12.3 7.5 Q12.9 10.8 14.85 13.35 Q16.8 15.9 19.55 18.1 Q22.3 20.3 25.6 22.25 Q28.9 24.2 32.2 26.2 Q35.5 28.3 38.6 30.6 Q41.7 32.9 44.1 35.75 Q46.5 38.6 47.95 42.2 Q49.4 45.8 49.4 50.5 Q49.4 55.5 47.65 59.3 Q45.9 63.1 42.9 65.65 Q39.9 68.2 35.85 69.55 Q31.8 70.9 27.2 70.9 Q21.6 70.9 17.2 69 Q12.8 67.1 9.85 63.75 Q6.9 60.4 5.5 55.8 Q4.1 51.2 4.4 45.8 Z\"\n",
       "        /><glyph unicode=\"1\" horiz-adv-x=\"55.6\" d=\"M35.6 0 L35.6 70.9 L29.1 70.9 Q28.4 66.9 26.5 64.3 Q24.6 61.7 21.85 60.2 Q19.1 58.7 15.7 58.15 Q12.3 57.6 8.7 57.6 L8.7 50.8 L27.1 50.8 L27.1 0 Z\"\n",
       "        /><glyph unicode=\"-\" horiz-adv-x=\"38.9\" d=\"M5 31.8 L5 23.8 L33.9 23.8 L33.9 31.8 Z\"\n",
       "        /><glyph unicode=\"8\" horiz-adv-x=\"55.6\" d=\"M15.5 52.5 Q15.5 55.2 16.5 57.2 Q17.5 59.2 19.15 60.6 Q20.8 62 23.1 62.7 Q25.4 63.4 27.9 63.4 Q33.1 63.4 36.45 60.65 Q39.8 57.9 39.8 52.5 Q39.8 47.1 36.5 44.1 Q33.2 41.1 28.1 41.1 Q25.5 41.1 23.2 41.8 Q20.9 42.5 19.2 43.9 Q17.5 45.3 16.5 47.45 Q15.5 49.6 15.5 52.5 ZM6.5 52.8 Q6.5 48 9.2 43.95 Q11.9 39.9 16.4 38.1 Q10.4 36 7.2 31.35 Q4 26.7 4 20.4 Q4 15 5.85 10.95 Q7.7 6.9 10.95 4.2 Q14.2 1.5 18.6 0.2 Q23 -1.1 28.1 -1.1 Q33 -1.1 37.3 0.3 Q41.6 1.7 44.75 4.45 Q47.9 7.2 49.75 11.2 Q51.6 15.2 51.6 20.4 Q51.6 27 48.5 31.55 Q45.4 36.1 39 38.1 Q43.5 40.1 46.15 44.05 Q48.8 48 48.8 52.8 Q48.8 56.2 47.6 59.45 Q46.4 62.7 43.85 65.25 Q41.3 67.8 37.2 69.35 Q33.1 70.9 27.3 70.9 Q23.2 70.9 19.45 69.7 Q15.7 68.5 12.8 66.2 Q9.9 63.9 8.2 60.55 Q6.5 57.2 6.5 52.8 ZM13 20 Q13 23.1 14.15 25.6 Q15.3 28.1 17.35 29.9 Q19.4 31.7 22.15 32.65 Q24.9 33.6 28 33.6 Q31 33.6 33.65 32.55 Q36.3 31.5 38.3 29.7 Q40.3 27.9 41.45 25.45 Q42.6 23 42.6 20.1 Q42.6 17.1 41.55 14.6 Q40.5 12.1 38.55 10.25 Q36.6 8.4 33.95 7.35 Q31.3 6.3 28.1 6.3 Q21.5 6.3 17.25 9.95 Q13 13.6 13 20 Z\"\n",
       "        /><glyph unicode=\"6\" horiz-adv-x=\"55.6\" d=\"M41.4 52.8 L49.9 52.8 Q49.1 61.6 43.9 66.25 Q38.7 70.9 29.9 70.9 Q22.3 70.9 17.3 67.7 Q12.3 64.5 9.3 59.2 Q6.3 53.9 5.05 47.05 Q3.8 40.2 3.8 32.9 Q3.8 27.3 4.65 21.3 Q5.5 15.3 8.1 10.3 Q10.7 5.3 15.5 2.1 Q20.3 -1.1 28.2 -1.1 Q34.9 -1.1 39.45 1.15 Q44 3.4 46.75 6.85 Q49.5 10.3 50.7 14.5 Q51.9 18.7 51.9 22.6 Q51.9 27.5 50.4 31.7 Q48.9 35.9 46.15 39 Q43.4 42.1 39.35 43.85 Q35.3 45.6 30.2 45.6 Q24.4 45.6 19.95 43.4 Q15.5 41.2 12.5 36.3 L12.3 36.5 Q12.4 40.6 13.1 45.3 Q13.8 50 15.65 54.05 Q17.5 58.1 20.8 60.75 Q24.1 63.4 29.5 63.4 Q34.6 63.4 37.7 60.5 Q40.8 57.6 41.4 52.8 ZM28.6 38.1 Q32.2 38.1 34.9 36.8 Q37.6 35.5 39.4 33.35 Q41.2 31.2 42.05 28.25 Q42.9 25.3 42.9 22 Q42.9 18.9 41.95 16.05 Q41 13.2 39.2 11 Q37.4 8.8 34.75 7.55 Q32.1 6.3 28.6 6.3 Q25.1 6.3 22.35 7.55 Q19.6 8.8 17.75 10.9 Q15.9 13 14.9 15.9 Q13.9 18.8 13.9 22.1 Q13.9 25.4 14.85 28.35 Q15.8 31.3 17.7 33.45 Q19.6 35.6 22.3 36.85 Q25 38.1 28.6 38.1 Z\"\n",
       "        /><glyph unicode=\"4\" horiz-adv-x=\"55.6\" d=\"M33.9 24.1 L10.1 24.1 L33.7 58.8 L33.9 58.8 ZM41.9 24.1 L41.9 70.9 L35.1 70.9 L2.8 24.8 L2.8 16.6 L33.9 16.6 L33.9 0 L41.9 0 L41.9 16.6 L51.5 16.6 L51.5 24.1 Z\"\n",
       "        /><glyph unicode=\")\" horiz-adv-x=\"25.9\" d=\"M-0.9 -19.7 L5.5 -19.7 Q13.3 -9.4 17.25 2.55 Q21.2 14.5 21.2 26.3 Q21.2 32.9 20.1 38.9 Q19 44.9 16.95 50.65 Q14.9 56.4 12 61.95 Q9.1 67.5 5.5 73.1 L-0.9 73.1 Q6.1 61.6 9.15 50.25 Q12.2 38.9 12.2 26.3 Q12.2 14.1 9.2 2.85 Q6.2 -8.4 -0.9 -19.7 Z\"\n",
       "        /><glyph unicode=\"B\" horiz-adv-x=\"68.5\" d=\"M17.3 40.7 L17.3 63.4 L36.3 63.4 Q39.4 63.4 42.15 63.05 Q44.9 62.7 47 61.5 Q49.1 60.3 50.3 58.1 Q51.5 55.9 51.5 52.1 Q51.5 46.4 47.95 43.55 Q44.4 40.7 36.3 40.7 ZM7.8 71.4 L7.8 0 L42.3 0 Q47.6 0 51.65 1.75 Q55.7 3.5 58.45 6.35 Q61.2 9.2 62.6 12.9 Q64 16.6 64 20.5 Q64 27.1 60.5 31.7 Q57 36.3 50.4 37.7 L50.4 37.9 Q55.5 39.9 58.25 44.05 Q61 48.2 61 53.9 Q61 59.3 58.55 63 Q56.1 66.7 52.6 68.8 Q51 69.8 48.75 70.3 Q46.5 70.8 43.9 71.05 Q41.3 71.3 38.65 71.35 Q36 71.4 33.7 71.4 ZM17.3 8 L17.3 32.7 L39 32.7 Q42 32.7 44.8 32.15 Q47.6 31.6 49.75 30.25 Q51.9 28.9 53.2 26.6 Q54.5 24.3 54.5 20.8 Q54.5 14.8 50.95 11.4 Q47.4 8 41.1 8 Z\"\n",
       "        /><glyph unicode=\"(\" horiz-adv-x=\"25.9\" d=\"M20.4 -19.7 L26.9 -19.7 Q19.8 -8.2 16.75 3.1 Q13.7 14.4 13.7 27 Q13.7 39.3 16.7 50.5 Q19.7 61.7 26.9 73.1 L20.4 73.1 Q12.6 62.8 8.65 50.8 Q4.7 38.8 4.7 27 Q4.7 20.4 5.8 14.4 Q6.9 8.4 8.95 2.7 Q11 -3 13.9 -8.55 Q16.8 -14.1 20.4 -19.7 Z\"\n",
       "        /><glyph unicode=\" \" horiz-adv-x=\"27.8\" d=\"\"\n",
       "        /><glyph unicode=\"e\" horiz-adv-x=\"53.7\" d=\"M42.3 30.8 L12.6 30.8 Q12.8 33.8 13.9 36.45 Q15 39.1 16.9 41.1 Q18.8 43.1 21.45 44.25 Q24.1 45.4 27.4 45.4 Q30.6 45.4 33.25 44.25 Q35.9 43.1 37.85 41.15 Q39.8 39.2 40.95 36.5 Q42.1 33.8 42.3 30.8 ZM50.5 16.4 L42.1 16.4 Q41 11.3 37.55 8.8 Q34.1 6.3 28.7 6.3 Q24.5 6.3 21.4 7.7 Q18.3 9.1 16.3 11.45 Q14.3 13.8 13.4 16.85 Q12.5 19.9 12.6 23.3 L51.3 23.3 Q51.5 28 50.45 33.2 Q49.4 38.4 46.65 42.8 Q43.9 47.2 39.35 50.05 Q34.8 52.9 27.9 52.9 Q22.6 52.9 18.15 50.9 Q13.7 48.9 10.45 45.3 Q7.2 41.7 5.4 36.8 Q3.6 31.9 3.6 26 Q3.8 20.1 5.35 15.1 Q6.9 10.1 10 6.5 Q13.1 2.9 17.65 0.9 Q22.2 -1.1 28.4 -1.1 Q37.2 -1.1 43 3.3 Q48.8 7.7 50.5 16.4 Z\"\n",
       "        /><glyph unicode=\"d\" horiz-adv-x=\"59.3\" d=\"M12.6 25.4 Q12.6 29.2 13.4 32.8 Q14.2 36.4 16 39.2 Q17.8 42 20.8 43.7 Q23.8 45.4 28.1 45.4 Q32.5 45.4 35.6 43.75 Q38.7 42.1 40.65 39.4 Q42.6 36.7 43.5 33.15 Q44.4 29.6 44.4 25.8 Q44.4 22.2 43.55 18.7 Q42.7 15.2 40.8 12.45 Q38.9 9.7 35.9 8 Q32.9 6.3 28.6 6.3 Q24.5 6.3 21.45 7.9 Q18.4 9.5 16.45 12.2 Q14.5 14.9 13.55 18.35 Q12.6 21.8 12.6 25.4 ZM52.6 0 L52.6 71.4 L44.1 71.4 L44.1 44.8 L43.9 44.8 Q42.5 47.1 40.45 48.65 Q38.4 50.2 36.1 51.15 Q33.8 52.1 31.5 52.5 Q29.2 52.9 27.2 52.9 Q21.3 52.9 16.85 50.75 Q12.4 48.6 9.45 44.95 Q6.5 41.3 5.05 36.4 Q3.6 31.5 3.6 26 Q3.6 20.5 5.1 15.6 Q6.6 10.7 9.55 7 Q12.5 3.3 16.95 1.1 Q21.4 -1.1 27.4 -1.1 Q32.8 -1.1 37.3 0.8 Q41.8 2.7 43.9 7 L44.1 7 L44.1 0 Z\"\n",
       "        /><glyph unicode=\"u\" horiz-adv-x=\"55.6\" d=\"M49.2 0 L49.2 51.7 L40.7 51.7 L40.7 22.5 Q40.7 19 39.75 16.05 Q38.8 13.1 36.9 10.9 Q35 8.7 32.15 7.5 Q29.3 6.3 25.4 6.3 Q20.5 6.3 17.7 9.1 Q14.9 11.9 14.9 16.7 L14.9 51.7 L6.4 51.7 L6.4 17.7 Q6.4 13.5 7.25 10.05 Q8.1 6.6 10.2 4.1 Q12.3 1.6 15.7 0.25 Q19.1 -1.1 24.2 -1.1 Q29.9 -1.1 34.1 1.15 Q38.3 3.4 41 8.2 L41.2 8.2 L41.2 0 Z\"\n",
       "        /><glyph unicode=\"t\" horiz-adv-x=\"31.5\" d=\"M18.2 51.7 L18.2 67.2 L9.7 67.2 L9.7 51.7 L0.9 51.7 L0.9 44.2 L9.7 44.2 L9.7 11.3 Q9.7 7.7 10.4 5.5 Q11.1 3.3 12.55 2.1 Q14 0.9 16.35 0.45 Q18.7 0 22 0 L28.5 0 L28.5 7.5 L24.6 7.5 Q22.6 7.5 21.35 7.65 Q20.1 7.8 19.4 8.3 Q18.7 8.8 18.45 9.7 Q18.2 10.6 18.2 12.1 L18.2 44.2 L28.5 44.2 L28.5 51.7 Z\"\n",
       "        /><glyph unicode=\"i\" horiz-adv-x=\"22.2\" d=\"M15.4 61 L15.4 71.4 L6.9 71.4 L6.9 61 ZM6.9 51.7 L6.9 0 L15.4 0 L15.4 51.7 Z\"\n",
       "        /><glyph unicode=\"n\" horiz-adv-x=\"55.6\" d=\"M6.4 51.7 L6.4 0 L14.9 0 L14.9 29.2 Q14.9 32.7 15.85 35.65 Q16.8 38.6 18.7 40.8 Q20.6 43 23.45 44.2 Q26.3 45.4 30.2 45.4 Q35.1 45.4 37.9 42.6 Q40.7 39.8 40.7 35 L40.7 0 L49.2 0 L49.2 34 Q49.2 38.2 48.35 41.65 Q47.5 45.1 45.4 47.6 Q43.3 50.1 39.9 51.5 Q36.5 52.9 31.4 52.9 Q19.9 52.9 14.6 43.5 L14.4 43.5 L14.4 51.7 Z\"\n",
       "        /><glyph unicode=\"g\" horiz-adv-x=\"57.4\" d=\"M51 4.4 L51 51.7 L43 51.7 L43 44.3 L42.9 44.3 Q40.6 48.6 36.5 50.75 Q32.4 52.9 27.5 52.9 Q20.8 52.9 16.2 50.35 Q11.6 47.8 8.8 43.85 Q6 39.9 4.8 35.05 Q3.6 30.2 3.6 25.6 Q3.6 20.3 5.05 15.55 Q6.5 10.8 9.4 7.25 Q12.3 3.7 16.6 1.6 Q20.9 -0.5 26.7 -0.5 Q31.7 -0.5 36.15 1.75 Q40.6 4 42.8 8.8 L43 8.8 L43 5.4 Q43 1.1 42.15 -2.5 Q41.3 -6.1 39.4 -8.65 Q37.5 -11.2 34.6 -12.65 Q31.7 -14.1 27.5 -14.1 Q25.4 -14.1 23.1 -13.65 Q20.8 -13.2 18.85 -12.2 Q16.9 -11.2 15.55 -9.6 Q14.2 -8 14.1 -5.7 L5.6 -5.7 Q5.8 -9.9 7.8 -12.8 Q9.8 -15.7 12.85 -17.5 Q15.9 -19.3 19.65 -20.1 Q23.4 -20.9 27 -20.9 Q39.4 -20.9 45.2 -14.6 Q51 -8.3 51 4.4 ZM27.2 6.9 Q23 6.9 20.2 8.65 Q17.4 10.4 15.7 13.25 Q14 16.1 13.3 19.6 Q12.6 23.1 12.6 26.6 Q12.6 30.3 13.45 33.7 Q14.3 37.1 16.15 39.7 Q18 42.3 20.9 43.85 Q23.8 45.4 27.9 45.4 Q31.9 45.4 34.7 43.8 Q37.5 42.2 39.25 39.55 Q41 36.9 41.8 33.6 Q42.6 30.3 42.6 26.9 Q42.6 23.3 41.75 19.7 Q40.9 16.1 39.1 13.25 Q37.3 10.4 34.35 8.65 Q31.4 6.9 27.2 6.9 Z\"\n",
       "        /><glyph unicode=\"a\" horiz-adv-x=\"53.7\" d=\"M52.2 0.2 Q50 -1.1 46.1 -1.1 Q42.8 -1.1 40.85 0.75 Q38.9 2.6 38.9 6.8 Q35.4 2.6 30.75 0.75 Q26.1 -1.1 20.7 -1.1 Q17.2 -1.1 14.05 -0.3 Q10.9 0.5 8.6 2.2 Q6.3 3.9 4.95 6.65 Q3.6 9.4 3.6 13.3 Q3.6 17.7 5.1 20.5 Q6.6 23.3 9.05 25.05 Q11.5 26.8 14.65 27.7 Q17.8 28.6 21.1 29.2 Q24.6 29.9 27.75 30.25 Q30.9 30.6 33.3 31.25 Q35.7 31.9 37.1 33.15 Q38.5 34.4 38.5 36.8 Q38.5 39.6 37.45 41.3 Q36.4 43 34.75 43.9 Q33.1 44.8 31.05 45.1 Q29 45.4 27 45.4 Q21.6 45.4 18 43.35 Q14.4 41.3 14.1 35.6 L5.6 35.6 Q5.8 40.4 7.6 43.7 Q9.4 47 12.4 49.05 Q15.4 51.1 19.25 52 Q23.1 52.9 27.5 52.9 Q31 52.9 34.45 52.4 Q37.9 51.9 40.7 50.35 Q43.5 48.8 45.2 46 Q46.9 43.2 46.9 38.7 L46.9 12.1 Q46.9 9.1 47.25 7.7 Q47.6 6.3 49.6 6.3 Q50.7 6.3 52.2 6.8 ZM38.4 26.7 Q36.8 25.5 34.2 24.95 Q31.6 24.4 28.75 24.05 Q25.9 23.7 23 23.25 Q20.1 22.8 17.8 21.8 Q15.5 20.8 14.05 18.95 Q12.6 17.1 12.6 13.9 Q12.6 11.8 13.45 10.35 Q14.3 8.9 15.65 8 Q17 7.1 18.8 6.7 Q20.6 6.3 22.6 6.3 Q26.8 6.3 29.8 7.45 Q32.8 8.6 34.7 10.35 Q36.6 12.1 37.5 14.15 Q38.4 16.2 38.4 18 Z\"\n",
       "        /><glyph unicode=\"M\" horiz-adv-x=\"87.1\" d=\"M8 71.4 L8 0 L17 0 L17 59.4 L17.2 59.4 L39.5 0 L47.6 0 L69.9 59.4 L70.1 59.4 L70.1 0 L79.1 0 L79.1 71.4 L66.1 71.4 L43.5 11.4 L21 71.4 Z\"\n",
       "        /><glyph unicode=\"5\" horiz-adv-x=\"55.6\" d=\"M47 62.2 L47 69.7 L12 69.7 L5.4 32.9 L12.7 32.5 Q15.2 35.5 18.45 37.35 Q21.7 39.2 25.9 39.2 Q29.5 39.2 32.45 38 Q35.4 36.8 37.5 34.65 Q39.6 32.5 40.75 29.55 Q41.9 26.6 41.9 23.1 Q41.9 18.9 40.7 15.75 Q39.5 12.6 37.45 10.5 Q35.4 8.4 32.65 7.35 Q29.9 6.3 26.9 6.3 Q23.7 6.3 21.05 7.25 Q18.4 8.2 16.45 9.95 Q14.5 11.7 13.35 14.05 Q12.2 16.4 12 19.1 L3.5 19.1 Q3.6 14.3 5.4 10.5 Q7.2 6.7 10.3 4.15 Q13.4 1.6 17.45 0.25 Q21.5 -1.1 26.1 -1.1 Q32.3 -1.1 36.95 0.85 Q41.6 2.8 44.7 6.1 Q47.8 9.4 49.35 13.65 Q50.9 17.9 50.9 22.4 Q50.9 28.5 49.1 33.05 Q47.3 37.6 44.2 40.65 Q41.1 43.7 36.9 45.2 Q32.7 46.7 28 46.7 Q24.4 46.7 20.75 45.45 Q17.1 44.2 14.8 41.6 L14.6 41.8 L18.4 62.2 Z\"\n",
       "        /><glyph unicode=\"7\" horiz-adv-x=\"55.6\" d=\"M50.9 62.4 L50.9 69.7 L5 69.7 L5 61.7 L42.2 61.7 Q36.6 55.8 31.75 48.8 Q26.9 41.8 23.2 33.95 Q19.5 26.1 17.15 17.55 Q14.8 9 14.2 0 L23.7 0 Q24.2 8.3 26.5 17.1 Q28.8 25.9 32.45 34.2 Q36.1 42.5 40.8 49.8 Q45.5 57.1 50.9 62.4 Z\"\n",
       "        /><glyph unicode=\"3\" horiz-adv-x=\"55.6\" d=\"M21.8 40.5 L21.8 33.3 Q24.2 33.6 26.9 33.6 Q30.1 33.6 32.85 32.75 Q35.6 31.9 37.6 30.15 Q39.6 28.4 40.8 25.85 Q42 23.3 42 20 Q42 16.8 40.75 14.25 Q39.5 11.7 37.4 9.95 Q35.3 8.2 32.5 7.25 Q29.7 6.3 26.6 6.3 Q19.3 6.3 15.5 10.65 Q11.7 15 11.5 21.9 L3 21.9 Q2.9 16.4 4.55 12.1 Q6.2 7.8 9.3 4.85 Q12.4 1.9 16.8 0.4 Q21.2 -1.1 26.6 -1.1 Q31.6 -1.1 36.05 0.25 Q40.5 1.6 43.8 4.3 Q47.1 7 49.05 11.05 Q51 15.1 51 20.4 Q51 26.8 47.85 31.5 Q44.7 36.2 38.2 37.6 L38.2 37.8 Q42.4 39.7 45.2 43.4 Q48 47.1 48 51.9 Q48 56.8 46.35 60.4 Q44.7 64 41.8 66.3 Q38.9 68.6 34.95 69.75 Q31 70.9 26.4 70.9 Q21.1 70.9 17.05 69.2 Q13 67.5 10.3 64.5 Q7.6 61.5 6.15 57.3 Q4.7 53.1 4.5 48 L13 48 Q13 51.1 13.8 53.9 Q14.6 56.7 16.25 58.8 Q17.9 60.9 20.45 62.15 Q23 63.4 26.4 63.4 Q31.8 63.4 35.4 60.55 Q39 57.7 39 52 Q39 49.2 37.9 47 Q36.8 44.8 34.95 43.35 Q33.1 41.9 30.65 41.15 Q28.2 40.4 25.5 40.4 L23.7 40.4 Q23.2 40.4 22.7 40.4 Q22.3 40.4 21.8 40.5 Z\"\n",
       "        /><glyph unicode=\"9\" horiz-adv-x=\"55.6\" d=\"M13.4 17.1 L4.9 17.1 Q5.7 7.9 11.6 3.4 Q17.5 -1.1 26.4 -1.1 Q39.3 -1.1 45.15 8.75 Q51 18.6 51 37 Q51 47.1 49.05 53.65 Q47.1 60.2 43.8 64 Q40.5 67.8 36.1 69.35 Q31.7 70.9 26.7 70.9 Q21.6 70.9 17.3 69.2 Q13 67.5 9.9 64.45 Q6.8 61.4 5.1 57.15 Q3.4 52.9 3.4 47.8 Q3.4 42.6 4.85 38.2 Q6.3 33.8 9.15 30.7 Q12 27.6 16.2 25.85 Q20.4 24.1 25.8 24.1 Q31 24.1 35.4 26.75 Q39.8 29.4 42.2 33.9 L42.4 33.7 Q42 19.8 38.1 13.05 Q34.2 6.3 26.4 6.3 Q21.3 6.3 17.6 9.1 Q13.9 11.9 13.4 17.1 ZM40.9 47.2 Q40.9 44.1 39.9 41.25 Q38.9 38.4 37 36.25 Q35.1 34.1 32.4 32.85 Q29.7 31.6 26.4 31.6 Q23.3 31.6 20.75 32.85 Q18.2 34.1 16.35 36.2 Q14.5 38.3 13.45 41 Q12.4 43.7 12.4 46.6 Q12.4 49.9 13.15 52.9 Q13.9 55.9 15.55 58.25 Q17.2 60.6 19.85 62 Q22.5 63.4 26.3 63.4 Q29.9 63.4 32.6 62.1 Q35.3 60.8 37.15 58.55 Q39 56.3 39.95 53.4 Q40.9 50.5 40.9 47.2 Z\"\n",
       "        /><glyph unicode=\"s\" horiz-adv-x=\"50.0\" d=\"M11.6 16.3 L3.1 16.3 Q3.3 11.5 5.1 8.15 Q6.9 4.8 9.9 2.75 Q12.9 0.7 16.8 -0.2 Q20.7 -1.1 25 -1.1 Q28.9 -1.1 32.85 -0.35 Q36.8 0.4 39.95 2.3 Q43.1 4.2 45.05 7.3 Q47 10.4 47 15.1 Q47 18.8 45.55 21.3 Q44.1 23.8 41.75 25.45 Q39.4 27.1 36.35 28.1 Q33.3 29.1 30.1 29.8 Q27.1 30.5 24.1 31.15 Q21.1 31.8 18.7 32.75 Q16.3 33.7 14.75 35.15 Q13.2 36.6 13.2 38.8 Q13.2 40.8 14.2 42.05 Q15.2 43.3 16.8 44.05 Q18.4 44.8 20.35 45.1 Q22.3 45.4 24.2 45.4 Q26.3 45.4 28.35 44.95 Q30.4 44.5 32.1 43.5 Q33.8 42.5 34.9 40.85 Q36 39.2 36.2 36.7 L44.7 36.7 Q44.4 41.4 42.7 44.55 Q41 47.7 38.15 49.55 Q35.3 51.4 31.6 52.15 Q27.9 52.9 23.5 52.9 Q20.1 52.9 16.65 52.05 Q13.2 51.2 10.45 49.45 Q7.7 47.7 5.95 44.9 Q4.2 42.1 4.2 38.2 Q4.2 33.2 6.7 30.4 Q9.2 27.6 12.95 26.05 Q16.7 24.5 21.1 23.65 Q25.5 22.8 29.25 21.75 Q33 20.7 35.5 19 Q38 17.3 38 14 Q38 11.6 36.8 10.05 Q35.6 8.5 33.75 7.7 Q31.9 6.9 29.7 6.6 Q27.5 6.3 25.5 6.3 Q22.9 6.3 20.45 6.8 Q18 7.3 16.05 8.45 Q14.1 9.6 12.9 11.55 Q11.7 13.5 11.6 16.3 Z\"\n",
       "        /><glyph unicode=\"h\" horiz-adv-x=\"55.6\" d=\"M6.4 71.4 L6.4 0 L14.9 0 L14.9 29.2 Q14.9 32.7 15.85 35.65 Q16.8 38.6 18.7 40.8 Q20.6 43 23.45 44.2 Q26.3 45.4 30.2 45.4 Q35.1 45.4 37.9 42.6 Q40.7 39.8 40.7 35 L40.7 0 L49.2 0 L49.2 34 Q49.2 38.2 48.35 41.65 Q47.5 45.1 45.4 47.6 Q43.3 50.1 39.9 51.5 Q36.5 52.9 31.4 52.9 Q29.1 52.9 26.65 52.4 Q24.2 51.9 21.95 50.85 Q19.7 49.8 17.9 48.15 Q16.1 46.5 15.1 44.1 L14.9 44.1 L14.9 71.4 Z\"\n",
       "        /><glyph unicode=\"P\" horiz-adv-x=\"64.8\" d=\"M17.3 37.2 L17.3 63.4 L35.9 63.4 Q44 63.4 47.75 60.05 Q51.5 56.7 51.5 50.3 Q51.5 43.9 47.75 40.5 Q44 37.1 35.9 37.2 ZM7.8 71.4 L7.8 0 L17.3 0 L17.3 29.2 L39.1 29.2 Q49.9 29.1 55.45 34.7 Q61 40.3 61 50.3 Q61 60.3 55.45 65.85 Q49.9 71.4 39.1 71.4 Z\"\n",
       "        /><glyph unicode=\"/\" horiz-adv-x=\"33.3\" d=\"M27.8 73.1 L-1.7 -1.6 L5.5 -1.6 L35.1 73.1 Z\"\n",
       "        /><glyph unicode=\"y\" horiz-adv-x=\"50.0\" d=\"M26.7 -6.9 Q25.2 -10.7 23.75 -13.3 Q22.3 -15.9 20.55 -17.55 Q18.8 -19.2 16.65 -19.95 Q14.5 -20.7 11.7 -20.7 Q10.2 -20.7 8.7 -20.5 Q7.2 -20.3 5.8 -19.8 L5.8 -12 Q6.9 -12.5 8.35 -12.85 Q9.8 -13.2 10.8 -13.2 Q13.4 -13.2 15.15 -11.95 Q16.9 -10.7 17.8 -8.4 L21.3 0.3 L0.8 51.7 L10.4 51.7 L25.5 9.4 L25.7 9.4 L40.2 51.7 L49.2 51.7 Z\"\n",
       "        /><glyph unicode=\"c\" horiz-adv-x=\"53.7\" d=\"M41.5 35.1 L50.3 35.1 Q49.8 39.7 47.9 43.05 Q46 46.4 43.05 48.6 Q40.1 50.8 36.25 51.85 Q32.4 52.9 28 52.9 Q21.9 52.9 17.3 50.75 Q12.7 48.6 9.65 44.85 Q6.6 41.1 5.1 36.05 Q3.6 31 3.6 25.2 Q3.6 19.4 5.15 14.55 Q6.7 9.7 9.75 6.2 Q12.8 2.7 17.35 0.8 Q21.9 -1.1 27.8 -1.1 Q37.7 -1.1 43.45 4.1 Q49.2 9.3 50.6 18.9 L41.9 18.9 Q41.1 12.9 37.55 9.6 Q34 6.3 27.7 6.3 Q23.7 6.3 20.8 7.9 Q17.9 9.5 16.1 12.15 Q14.3 14.8 13.45 18.2 Q12.6 21.6 12.6 25.2 Q12.6 29.1 13.4 32.75 Q14.2 36.4 16.05 39.2 Q17.9 42 21 43.7 Q24.1 45.4 28.7 45.4 Q34.1 45.4 37.3 42.7 Q40.5 40 41.5 35.1 Z\"\n",
       "        /><glyph unicode=\"q\" horiz-adv-x=\"59.3\" d=\"M12.6 25.4 Q12.6 29.2 13.4 32.8 Q14.2 36.4 16 39.2 Q17.8 42 20.8 43.7 Q23.8 45.4 28.1 45.4 Q32.5 45.4 35.6 43.75 Q38.7 42.1 40.65 39.4 Q42.6 36.7 43.5 33.15 Q44.4 29.6 44.4 25.8 Q44.4 22.2 43.55 18.7 Q42.7 15.2 40.8 12.45 Q38.9 9.7 35.9 8 Q32.9 6.3 28.6 6.3 Q24.5 6.3 21.45 7.9 Q18.4 9.5 16.45 12.2 Q14.5 14.9 13.55 18.35 Q12.6 21.8 12.6 25.4 ZM52.6 -19.7 L52.6 51.7 L44.1 51.7 L44.1 44.8 L43.9 44.8 Q42.5 47.1 40.45 48.65 Q38.4 50.2 36.1 51.15 Q33.8 52.1 31.5 52.5 Q29.2 52.9 27.2 52.9 Q21.3 52.9 16.85 50.75 Q12.4 48.6 9.45 44.95 Q6.5 41.3 5.05 36.4 Q3.6 31.5 3.6 26 Q3.6 20.5 5.1 15.6 Q6.6 10.7 9.55 7 Q12.5 3.3 16.95 1.1 Q21.4 -1.1 27.4 -1.1 Q32.8 -1.1 37.3 0.8 Q41.8 2.7 43.9 7 L44.1 7 L44.1 -19.7 Z\"\n",
       "        /><glyph unicode=\"r\" horiz-adv-x=\"33.3\" d=\"M6.1 51.7 L6.1 0 L14.6 0 L14.6 23 Q14.6 28 15.6 31.85 Q16.6 35.7 18.8 38.4 Q21 41.1 24.6 42.5 Q28.2 43.9 33.3 43.9 L33.3 52.9 Q26.4 53.1 21.9 50.1 Q17.4 47.1 14.3 40.8 L14.1 40.8 L14.1 51.7 Z\"\n",
       "        /><glyph unicode=\"F\" horiz-adv-x=\"57.4\" d=\"M7.8 71.4 L7.8 0 L17.3 0 L17.3 32.7 L50.1 32.7 L50.1 40.7 L17.3 40.7 L17.3 63.4 L54.7 63.4 L54.7 71.4 Z\"\n",
       "      /></font\n",
       "      ><font horiz-adv-x=\"50.0\" id=\"font2\"\n",
       "      ><font-face ascent=\"97.5\" descent=\"21.699999\" units-per-em=\"100\" style=\"font-style:normal; font-family:Helvetica Neue; font-weight:bold;\"\n",
       "        /><missing-glyph horiz-adv-x=\"50.0\" d=\"M39.1 60.7 L11.1 60.7 L11.1 9.5 L39.1 9.5 ZM48.2 69.8 L48.2 0.3 L1.7 0.3 L1.7 69.8 Z\"\n",
       "        /><glyph unicode=\"m\" horiz-adv-x=\"90.6\" d=\"M5.8 51.7 L5.8 0 L20 0 L20 30 Q20 33.8 21.1 36.15 Q22.2 38.5 23.75 39.75 Q25.3 41 26.95 41.45 Q28.6 41.9 29.6 41.9 Q33 41.9 34.75 40.75 Q36.5 39.6 37.25 37.7 Q38 35.8 38.1 33.55 Q38.2 31.3 38.2 29 L38.2 0 L52.4 0 L52.4 28.8 Q52.4 31.2 52.75 33.55 Q53.1 35.9 54.15 37.75 Q55.2 39.6 57.05 40.75 Q58.9 41.9 61.9 41.9 Q64.9 41.9 66.65 40.9 Q68.4 39.9 69.3 38.2 Q70.2 36.5 70.4 34.2 Q70.6 31.9 70.6 29.3 L70.6 0 L84.8 0 L84.8 34.6 Q84.8 39.6 83.4 43.15 Q82 46.7 79.5 48.9 Q77 51.1 73.5 52.1 Q70 53.1 65.9 53.1 Q60.5 53.1 56.55 50.5 Q52.6 47.9 50.3 44.5 Q48.2 49.3 44.15 51.2 Q40.1 53.1 35.2 53.1 Q30.1 53.1 26.15 50.9 Q22.2 48.7 19.4 44.7 L19.2 44.7 L19.2 51.7 Z\"\n",
       "        /><glyph unicode=\"r\" horiz-adv-x=\"38.9\" d=\"M5.4 51.7 L5.4 0 L19.6 0 L19.6 23.3 Q19.6 26.8 20.3 29.8 Q21 32.8 22.65 35.05 Q24.3 37.3 27 38.6 Q29.7 39.9 33.6 39.9 Q34.9 39.9 36.3 39.75 Q37.7 39.6 38.7 39.4 L38.7 52.6 Q37 53.1 35.6 53.1 Q32.9 53.1 30.4 52.3 Q27.9 51.5 25.7 50.05 Q23.5 48.6 21.8 46.55 Q20.1 44.5 19.1 42.1 L18.9 42.1 L18.9 51.7 Z\"\n",
       "        /><glyph unicode=\"g\" horiz-adv-x=\"61.1\" d=\"M29.5 12.2 Q26.2 12.2 24 13.6 Q21.8 15 20.45 17.2 Q19.1 19.4 18.55 22.15 Q18 24.9 18 27.7 Q18 30.6 18.65 33.25 Q19.3 35.9 20.75 37.95 Q22.2 40 24.35 41.2 Q26.5 42.4 29.5 42.4 Q33 42.4 35.3 41.1 Q37.6 39.8 39 37.6 Q40.4 35.4 41 32.55 Q41.6 29.7 41.6 26.5 Q41.6 23.7 40.85 21.15 Q40.1 18.6 38.6 16.6 Q37.1 14.6 34.8 13.4 Q32.5 12.2 29.5 12.2 ZM55.1 3.3 L55.1 51.7 L41.6 51.7 L41.6 44.8 L41.4 44.8 Q38.8 49.3 34.95 51.2 Q31.1 53.1 26 53.1 Q20.6 53.1 16.45 51 Q12.3 48.9 9.5 45.35 Q6.7 41.8 5.25 37.15 Q3.8 32.5 3.8 27.5 Q3.8 22.2 5.05 17.45 Q6.3 12.7 9 9.15 Q11.7 5.6 15.9 3.55 Q20.1 1.5 25.9 1.5 Q30.6 1.5 34.85 3.45 Q39.1 5.4 41.4 9.5 L41.6 9.5 L41.6 2.7 Q41.7 -2.8 38.95 -6.4 Q36.2 -10 30.2 -10 Q26.4 -10 23.5 -8.45 Q20.6 -6.9 19.6 -2.9 L5.5 -2.9 Q5.8 -7.3 7.95 -10.45 Q10.1 -13.6 13.35 -15.6 Q16.6 -17.6 20.55 -18.55 Q24.5 -19.5 28.3 -19.5 Q37.2 -19.5 42.5 -17.1 Q47.8 -14.7 50.6 -11.25 Q53.4 -7.8 54.25 -3.8 Q55.1 0.2 55.1 3.3 Z\"\n",
       "        /><glyph unicode=\"a\" horiz-adv-x=\"57.4\" d=\"M4.8 35.8 Q5.1 40.8 7.3 44.1 Q9.5 47.4 12.9 49.4 Q16.3 51.4 20.55 52.25 Q24.8 53.1 29.1 53.1 Q33 53.1 37 52.55 Q41 52 44.3 50.4 Q47.6 48.8 49.7 45.95 Q51.8 43.1 51.8 38.4 L51.8 11.5 Q51.8 8 52.2 4.8 Q52.6 1.6 53.6 0 L39.2 0 Q38.8 1.2 38.55 2.45 Q38.3 3.7 38.2 5 Q34.8 1.5 30.2 0.1 Q25.6 -1.3 20.8 -1.3 Q17.1 -1.3 13.9 -0.4 Q10.7 0.5 8.3 2.4 Q5.9 4.3 4.55 7.2 Q3.2 10.1 3.2 14.1 Q3.2 18.5 4.75 21.35 Q6.3 24.2 8.75 25.9 Q11.2 27.6 14.35 28.45 Q17.5 29.3 20.7 29.8 Q23.9 30.3 27 30.6 Q30.1 30.9 32.5 31.5 Q34.9 32.1 36.3 33.25 Q37.7 34.4 37.6 36.6 Q37.6 38.9 36.85 40.25 Q36.1 41.6 34.85 42.35 Q33.6 43.1 31.95 43.35 Q30.3 43.6 28.4 43.6 Q24.2 43.6 21.8 41.8 Q19.4 40 19 35.8 ZM37.6 25.3 Q36.7 24.5 35.35 24.05 Q34 23.6 32.45 23.3 Q30.9 23 29.2 22.8 Q27.5 22.6 25.8 22.3 Q24.2 22 22.65 21.5 Q21.1 21 19.95 20.15 Q18.8 19.3 18.1 18 Q17.4 16.7 17.4 14.7 Q17.4 12.8 18.1 11.5 Q18.8 10.2 20 9.45 Q21.2 8.7 22.8 8.4 Q24.4 8.1 26.1 8.1 Q30.3 8.1 32.6 9.5 Q34.9 10.9 36 12.85 Q37.1 14.8 37.35 16.8 Q37.6 18.8 37.6 20 Z\"\n",
       "        /><glyph unicode=\"i\" horiz-adv-x=\"25.8\" d=\"M20 59.7 L20 71.4 L5.8 71.4 L5.8 59.7 ZM5.8 51.7 L5.8 0 L20 0 L20 51.7 Z\"\n",
       "        /><glyph unicode=\"D\" horiz-adv-x=\"74.1\" d=\"M22.6 13.2 L22.6 58.2 L33.8 58.2 Q39.6 58.2 43.55 56.55 Q47.5 54.9 49.9 51.8 Q52.3 48.7 53.35 44.35 Q54.4 40 54.4 34.6 Q54.4 28.7 52.9 24.6 Q51.4 20.5 48.9 17.95 Q46.4 15.4 43.2 14.3 Q40 13.2 36.6 13.2 ZM6.9 71.4 L6.9 0 L37.7 0 Q45.9 0 51.95 2.75 Q58 5.5 62.05 10.3 Q66.1 15.1 68.1 21.7 Q70.1 28.3 70.1 36.1 Q70.1 45 67.65 51.6 Q65.2 58.2 60.85 62.6 Q56.5 67 50.55 69.2 Q44.6 71.4 37.7 71.4 Z\"\n",
       "        /><glyph unicode=\" \" horiz-adv-x=\"27.8\" d=\"\"\n",
       "        /><glyph unicode=\"e\" horiz-adv-x=\"57.4\" d=\"M40.2 31.4 L17.1 31.4 Q17.2 32.9 17.75 34.8 Q18.3 36.7 19.65 38.4 Q21 40.1 23.25 41.25 Q25.5 42.4 28.9 42.4 Q34.1 42.4 36.65 39.6 Q39.2 36.8 40.2 31.4 ZM17.1 22.4 L54.4 22.4 Q54.8 28.4 53.4 33.9 Q52 39.4 48.85 43.7 Q45.7 48 40.8 50.55 Q35.9 53.1 29.3 53.1 Q23.4 53.1 18.55 51 Q13.7 48.9 10.2 45.25 Q6.7 41.6 4.8 36.6 Q2.9 31.6 2.9 25.8 Q2.9 19.8 4.75 14.8 Q6.6 9.8 10 6.2 Q13.4 2.6 18.3 0.65 Q23.2 -1.3 29.3 -1.3 Q38.1 -1.3 44.3 2.7 Q50.5 6.7 53.5 16 L41 16 Q40.3 13.6 37.2 11.45 Q34.1 9.3 29.8 9.3 Q23.8 9.3 20.6 12.4 Q17.4 15.5 17.1 22.4 Z\"\n",
       "        /><glyph unicode=\"d\" horiz-adv-x=\"61.1\" d=\"M42.1 26 Q42.1 22.8 41.5 19.8 Q40.9 16.8 39.5 14.45 Q38.1 12.1 35.75 10.7 Q33.4 9.3 29.9 9.3 Q26.6 9.3 24.25 10.75 Q21.9 12.2 20.35 14.55 Q18.8 16.9 18.1 19.9 Q17.4 22.9 17.4 25.9 Q17.4 29.1 18.05 32.05 Q18.7 35 20.15 37.3 Q21.6 39.6 24 41 Q26.4 42.4 29.9 42.4 Q33.4 42.4 35.7 41 Q38 39.6 39.45 37.35 Q40.9 35.1 41.5 32.15 Q42.1 29.2 42.1 26 ZM42.3 6.6 L42.3 0 L55.8 0 L55.8 71.4 L41.6 71.4 L41.6 45.4 L41.4 45.4 Q39 49.2 34.85 51.15 Q30.7 53.1 26.1 53.1 Q20.4 53.1 16.1 50.85 Q11.8 48.6 8.95 44.9 Q6.1 41.2 4.65 36.35 Q3.2 31.5 3.2 26.3 Q3.2 20.9 4.65 15.9 Q6.1 10.9 8.95 7.05 Q11.8 3.2 16.2 0.95 Q20.6 -1.3 26.4 -1.3 Q31.5 -1.3 35.55 0.55 Q39.6 2.4 42.1 6.6 Z\"\n",
       "        /><glyph unicode=\"o\" horiz-adv-x=\"61.1\" d=\"M18 25.8 Q18 28.9 18.6 31.9 Q19.2 34.9 20.65 37.2 Q22.1 39.5 24.5 40.95 Q26.9 42.4 30.5 42.4 Q34.1 42.4 36.55 40.95 Q39 39.5 40.45 37.2 Q41.9 34.9 42.5 31.9 Q43.1 28.9 43.1 25.8 Q43.1 22.7 42.5 19.75 Q41.9 16.8 40.45 14.45 Q39 12.1 36.55 10.7 Q34.1 9.3 30.5 9.3 Q26.9 9.3 24.5 10.7 Q22.1 12.1 20.65 14.45 Q19.2 16.8 18.6 19.75 Q18 22.7 18 25.8 ZM3.8 25.8 Q3.8 19.6 5.7 14.6 Q7.6 9.6 11.1 6.05 Q14.6 2.5 19.5 0.6 Q24.4 -1.3 30.5 -1.3 Q36.6 -1.3 41.55 0.6 Q46.5 2.5 50 6.05 Q53.5 9.6 55.4 14.6 Q57.3 19.6 57.3 25.8 Q57.3 32 55.4 37.05 Q53.5 42.1 50 45.65 Q46.5 49.2 41.55 51.15 Q36.6 53.1 30.5 53.1 Q24.4 53.1 19.5 51.15 Q14.6 49.2 11.1 45.65 Q7.6 42.1 5.7 37.05 Q3.8 32 3.8 25.8 Z\"\n",
       "        /><glyph unicode=\"B\" horiz-adv-x=\"70.4\" d=\"M22.6 42.5 L22.6 59.2 L37.3 59.2 Q39.4 59.2 41.35 58.85 Q43.3 58.5 44.8 57.6 Q46.3 56.7 47.2 55.1 Q48.1 53.5 48.1 51 Q48.1 46.5 45.4 44.5 Q42.7 42.5 38.5 42.5 ZM6.9 71.4 L6.9 0 L41.5 0 Q46.3 0 50.85 1.2 Q55.4 2.4 58.95 4.9 Q62.5 7.4 64.6 11.35 Q66.7 15.3 66.7 20.7 Q66.7 27.4 63.45 32.15 Q60.2 36.9 53.6 38.8 Q58.4 41.1 60.85 44.7 Q63.3 48.3 63.3 53.7 Q63.3 58.7 61.65 62.1 Q60 65.5 57 67.55 Q54 69.6 49.8 70.5 Q45.6 71.4 40.5 71.4 ZM22.6 12.2 L22.6 31.8 L39.7 31.8 Q44.8 31.8 47.9 29.45 Q51 27.1 51 21.6 Q51 18.8 50.05 17 Q49.1 15.2 47.5 14.15 Q45.9 13.1 43.8 12.65 Q41.7 12.2 39.4 12.2 Z\"\n",
       "      /></font\n",
       "    ></defs\n",
       "    ><g style=\"fill:white; stroke:white;\"\n",
       "    ><rect x=\"0\" y=\"0\" width=\"560\" style=\"clip-path:url(#clipPath1); stroke:none;\" height=\"420\"\n",
       "    /></g\n",
       "    ><g style=\"fill:white; text-rendering:optimizeSpeed; color-rendering:optimizeSpeed; image-rendering:optimizeSpeed; shape-rendering:crispEdges; stroke:white; color-interpolation:sRGB;\"\n",
       "    ><rect x=\"0\" width=\"560\" height=\"420\" y=\"0\" style=\"stroke:none;\"\n",
       "      /><path style=\"stroke:none;\" d=\"M85 216 L507 216 L507 51 L85 51 Z\"\n",
       "    /></g\n",
       "    ><g style=\"fill-opacity:0.251; color-rendering:optimizeQuality; color-interpolation:linearRGB; text-rendering:geometricPrecision; stroke:rgb(102,102,102); stroke-linecap:butt; stroke-miterlimit:1; stroke-opacity:0.251; fill:rgb(102,102,102); stroke-dasharray:1,3; stroke-width:0.5; stroke-linejoin:bevel; image-rendering:optimizeQuality;\"\n",
       "    ><line y2=\"51\" style=\"fill:none;\" x1=\"116.7587\" x2=\"116.7587\" y1=\"216\"\n",
       "      /><line y2=\"51\" style=\"fill:none;\" x1=\"135.3363\" x2=\"135.3363\" y1=\"216\"\n",
       "      /><line y2=\"51\" style=\"fill:none;\" x1=\"148.5173\" x2=\"148.5173\" y1=\"216\"\n",
       "      /><line y2=\"51\" style=\"fill:none;\" x1=\"158.7413\" x2=\"158.7413\" y1=\"216\"\n",
       "      /><line y2=\"51\" style=\"fill:none;\" x1=\"167.095\" x2=\"167.095\" y1=\"216\"\n",
       "      /><line y2=\"51\" style=\"fill:none;\" x1=\"174.1578\" x2=\"174.1578\" y1=\"216\"\n",
       "      /><line y2=\"51\" style=\"fill:none;\" x1=\"180.276\" x2=\"180.276\" y1=\"216\"\n",
       "      /><line y2=\"51\" style=\"fill:none;\" x1=\"185.6726\" x2=\"185.6726\" y1=\"216\"\n",
       "      /><line y2=\"51\" style=\"fill:none;\" x1=\"222.2587\" x2=\"222.2587\" y1=\"216\"\n",
       "      /><line y2=\"51\" style=\"fill:none;\" x1=\"240.8363\" x2=\"240.8363\" y1=\"216\"\n",
       "      /><line y2=\"51\" style=\"fill:none;\" x1=\"254.0173\" x2=\"254.0173\" y1=\"216\"\n",
       "      /><line y2=\"51\" style=\"fill:none;\" x1=\"264.2413\" x2=\"264.2413\" y1=\"216\"\n",
       "      /><line y2=\"51\" style=\"fill:none;\" x1=\"272.595\" x2=\"272.595\" y1=\"216\"\n",
       "      /><line y2=\"51\" style=\"fill:none;\" x1=\"279.6578\" x2=\"279.6578\" y1=\"216\"\n",
       "      /><line y2=\"51\" style=\"fill:none;\" x1=\"285.776\" x2=\"285.776\" y1=\"216\"\n",
       "      /><line y2=\"51\" style=\"fill:none;\" x1=\"291.1726\" x2=\"291.1726\" y1=\"216\"\n",
       "      /><line y2=\"51\" style=\"fill:none;\" x1=\"327.7587\" x2=\"327.7587\" y1=\"216\"\n",
       "      /><line y2=\"51\" style=\"fill:none;\" x1=\"346.3363\" x2=\"346.3363\" y1=\"216\"\n",
       "      /><line y2=\"51\" style=\"fill:none;\" x1=\"359.5173\" x2=\"359.5173\" y1=\"216\"\n",
       "      /><line y2=\"51\" style=\"fill:none;\" x1=\"369.7413\" x2=\"369.7413\" y1=\"216\"\n",
       "      /><line y2=\"51\" style=\"fill:none;\" x1=\"378.095\" x2=\"378.095\" y1=\"216\"\n",
       "      /><line y2=\"51\" style=\"fill:none;\" x1=\"385.1578\" x2=\"385.1578\" y1=\"216\"\n",
       "      /><line y2=\"51\" style=\"fill:none;\" x1=\"391.276\" x2=\"391.276\" y1=\"216\"\n",
       "      /><line y2=\"51\" style=\"fill:none;\" x1=\"396.6726\" x2=\"396.6726\" y1=\"216\"\n",
       "      /><line y2=\"51\" style=\"fill:none;\" x1=\"433.2587\" x2=\"433.2587\" y1=\"216\"\n",
       "      /><line y2=\"51\" style=\"fill:none;\" x1=\"451.8363\" x2=\"451.8363\" y1=\"216\"\n",
       "      /><line y2=\"51\" style=\"fill:none;\" x1=\"465.0173\" x2=\"465.0173\" y1=\"216\"\n",
       "      /><line y2=\"51\" style=\"fill:none;\" x1=\"475.2413\" x2=\"475.2413\" y1=\"216\"\n",
       "      /><line y2=\"51\" style=\"fill:none;\" x1=\"483.595\" x2=\"483.595\" y1=\"216\"\n",
       "      /><line y2=\"51\" style=\"fill:none;\" x1=\"490.6578\" x2=\"490.6578\" y1=\"216\"\n",
       "      /><line y2=\"51\" style=\"fill:none;\" x1=\"496.776\" x2=\"496.776\" y1=\"216\"\n",
       "      /><line y2=\"51\" style=\"fill:none;\" x1=\"502.1726\" x2=\"502.1726\" y1=\"216\"\n",
       "    /></g\n",
       "    ><g style=\"stroke-linecap:butt; fill-opacity:0.149; fill:rgb(38,38,38); text-rendering:geometricPrecision; image-rendering:optimizeQuality; color-rendering:optimizeQuality; stroke-linejoin:round; stroke:rgb(38,38,38); color-interpolation:linearRGB; stroke-width:0.5; stroke-opacity:0.149;\"\n",
       "    ><line y2=\"51\" style=\"fill:none;\" x1=\"85\" x2=\"85\" y1=\"216\"\n",
       "      /><line y2=\"51\" style=\"fill:none;\" x1=\"190.5\" x2=\"190.5\" y1=\"216\"\n",
       "      /><line y2=\"51\" style=\"fill:none;\" x1=\"296\" x2=\"296\" y1=\"216\"\n",
       "      /><line y2=\"51\" style=\"fill:none;\" x1=\"401.5\" x2=\"401.5\" y1=\"216\"\n",
       "      /><line y2=\"51\" style=\"fill:none;\" x1=\"507\" x2=\"507\" y1=\"216\"\n",
       "      /><line y2=\"216\" style=\"fill:none;\" x1=\"507\" x2=\"85\" y1=\"216\"\n",
       "      /><line y2=\"188.5\" style=\"fill:none;\" x1=\"507\" x2=\"85\" y1=\"188.5\"\n",
       "      /><line y2=\"161\" style=\"fill:none;\" x1=\"507\" x2=\"85\" y1=\"161\"\n",
       "      /><line y2=\"133.5\" style=\"fill:none;\" x1=\"507\" x2=\"85\" y1=\"133.5\"\n",
       "      /><line y2=\"106\" style=\"fill:none;\" x1=\"507\" x2=\"85\" y1=\"106\"\n",
       "      /><line y2=\"78.5\" style=\"fill:none;\" x1=\"507\" x2=\"85\" y1=\"78.5\"\n",
       "      /><line y2=\"51\" style=\"fill:none;\" x1=\"507\" x2=\"85\" y1=\"51\"\n",
       "    /></g\n",
       "    ><g style=\"fill:rgb(102,102,102); text-rendering:geometricPrecision; image-rendering:optimizeQuality; color-rendering:optimizeQuality; stroke-linejoin:round; stroke:rgb(102,102,102); color-interpolation:linearRGB; stroke-width:0.5;\"\n",
       "    ><line y2=\"216\" style=\"fill:none;\" x1=\"85\" x2=\"507\" y1=\"216\"\n",
       "      /><line y2=\"51\" style=\"fill:none;\" x1=\"85\" x2=\"507\" y1=\"51\"\n",
       "      /><line y2=\"211.78\" style=\"fill:none;\" x1=\"85\" x2=\"85\" y1=\"216\"\n",
       "      /><line y2=\"211.78\" style=\"fill:none;\" x1=\"190.5\" x2=\"190.5\" y1=\"216\"\n",
       "      /><line y2=\"211.78\" style=\"fill:none;\" x1=\"296\" x2=\"296\" y1=\"216\"\n",
       "      /><line y2=\"211.78\" style=\"fill:none;\" x1=\"401.5\" x2=\"401.5\" y1=\"216\"\n",
       "      /><line y2=\"211.78\" style=\"fill:none;\" x1=\"507\" x2=\"507\" y1=\"216\"\n",
       "      /><line y2=\"55.22\" style=\"fill:none;\" x1=\"85\" x2=\"85\" y1=\"51\"\n",
       "      /><line y2=\"55.22\" style=\"fill:none;\" x1=\"190.5\" x2=\"190.5\" y1=\"51\"\n",
       "      /><line y2=\"55.22\" style=\"fill:none;\" x1=\"296\" x2=\"296\" y1=\"51\"\n",
       "      /><line y2=\"55.22\" style=\"fill:none;\" x1=\"401.5\" x2=\"401.5\" y1=\"51\"\n",
       "      /><line y2=\"55.22\" style=\"fill:none;\" x1=\"507\" x2=\"507\" y1=\"51\"\n",
       "      /><line y2=\"213.89\" style=\"fill:none;\" x1=\"85\" x2=\"85\" y1=\"216\"\n",
       "      /><line y2=\"213.89\" style=\"fill:none;\" x1=\"116.7587\" x2=\"116.7587\" y1=\"216\"\n",
       "      /><line y2=\"213.89\" style=\"fill:none;\" x1=\"135.3363\" x2=\"135.3363\" y1=\"216\"\n",
       "      /><line y2=\"213.89\" style=\"fill:none;\" x1=\"148.5173\" x2=\"148.5173\" y1=\"216\"\n",
       "      /><line y2=\"213.89\" style=\"fill:none;\" x1=\"158.7413\" x2=\"158.7413\" y1=\"216\"\n",
       "      /><line y2=\"213.89\" style=\"fill:none;\" x1=\"167.095\" x2=\"167.095\" y1=\"216\"\n",
       "      /><line y2=\"213.89\" style=\"fill:none;\" x1=\"174.1578\" x2=\"174.1578\" y1=\"216\"\n",
       "      /><line y2=\"213.89\" style=\"fill:none;\" x1=\"180.276\" x2=\"180.276\" y1=\"216\"\n",
       "      /><line y2=\"213.89\" style=\"fill:none;\" x1=\"185.6726\" x2=\"185.6726\" y1=\"216\"\n",
       "      /><line y2=\"213.89\" style=\"fill:none;\" x1=\"190.5\" x2=\"190.5\" y1=\"216\"\n",
       "      /><line y2=\"213.89\" style=\"fill:none;\" x1=\"222.2587\" x2=\"222.2587\" y1=\"216\"\n",
       "      /><line y2=\"213.89\" style=\"fill:none;\" x1=\"240.8363\" x2=\"240.8363\" y1=\"216\"\n",
       "      /><line y2=\"213.89\" style=\"fill:none;\" x1=\"254.0173\" x2=\"254.0173\" y1=\"216\"\n",
       "      /><line y2=\"213.89\" style=\"fill:none;\" x1=\"264.2413\" x2=\"264.2413\" y1=\"216\"\n",
       "      /><line y2=\"213.89\" style=\"fill:none;\" x1=\"272.595\" x2=\"272.595\" y1=\"216\"\n",
       "      /><line y2=\"213.89\" style=\"fill:none;\" x1=\"279.6578\" x2=\"279.6578\" y1=\"216\"\n",
       "      /><line y2=\"213.89\" style=\"fill:none;\" x1=\"285.776\" x2=\"285.776\" y1=\"216\"\n",
       "      /><line y2=\"213.89\" style=\"fill:none;\" x1=\"291.1726\" x2=\"291.1726\" y1=\"216\"\n",
       "      /><line y2=\"213.89\" style=\"fill:none;\" x1=\"296\" x2=\"296\" y1=\"216\"\n",
       "      /><line y2=\"213.89\" style=\"fill:none;\" x1=\"327.7587\" x2=\"327.7587\" y1=\"216\"\n",
       "      /><line y2=\"213.89\" style=\"fill:none;\" x1=\"346.3363\" x2=\"346.3363\" y1=\"216\"\n",
       "      /><line y2=\"213.89\" style=\"fill:none;\" x1=\"359.5173\" x2=\"359.5173\" y1=\"216\"\n",
       "      /><line y2=\"213.89\" style=\"fill:none;\" x1=\"369.7413\" x2=\"369.7413\" y1=\"216\"\n",
       "      /><line y2=\"213.89\" style=\"fill:none;\" x1=\"378.095\" x2=\"378.095\" y1=\"216\"\n",
       "      /><line y2=\"213.89\" style=\"fill:none;\" x1=\"385.1578\" x2=\"385.1578\" y1=\"216\"\n",
       "      /><line y2=\"213.89\" style=\"fill:none;\" x1=\"391.276\" x2=\"391.276\" y1=\"216\"\n",
       "      /><line y2=\"213.89\" style=\"fill:none;\" x1=\"396.6726\" x2=\"396.6726\" y1=\"216\"\n",
       "      /><line y2=\"213.89\" style=\"fill:none;\" x1=\"401.5\" x2=\"401.5\" y1=\"216\"\n",
       "      /><line y2=\"213.89\" style=\"fill:none;\" x1=\"433.2587\" x2=\"433.2587\" y1=\"216\"\n",
       "      /><line y2=\"213.89\" style=\"fill:none;\" x1=\"451.8363\" x2=\"451.8363\" y1=\"216\"\n",
       "      /><line y2=\"213.89\" style=\"fill:none;\" x1=\"465.0173\" x2=\"465.0173\" y1=\"216\"\n",
       "      /><line y2=\"213.89\" style=\"fill:none;\" x1=\"475.2413\" x2=\"475.2413\" y1=\"216\"\n",
       "      /><line y2=\"213.89\" style=\"fill:none;\" x1=\"483.595\" x2=\"483.595\" y1=\"216\"\n",
       "      /><line y2=\"213.89\" style=\"fill:none;\" x1=\"490.6578\" x2=\"490.6578\" y1=\"216\"\n",
       "      /><line y2=\"213.89\" style=\"fill:none;\" x1=\"496.776\" x2=\"496.776\" y1=\"216\"\n",
       "      /><line y2=\"213.89\" style=\"fill:none;\" x1=\"502.1726\" x2=\"502.1726\" y1=\"216\"\n",
       "      /><line y2=\"213.89\" style=\"fill:none;\" x1=\"507\" x2=\"507\" y1=\"216\"\n",
       "      /><line y2=\"53.11\" style=\"fill:none;\" x1=\"85\" x2=\"85\" y1=\"51\"\n",
       "      /><line y2=\"53.11\" style=\"fill:none;\" x1=\"116.7587\" x2=\"116.7587\" y1=\"51\"\n",
       "      /><line y2=\"53.11\" style=\"fill:none;\" x1=\"135.3363\" x2=\"135.3363\" y1=\"51\"\n",
       "      /><line y2=\"53.11\" style=\"fill:none;\" x1=\"148.5173\" x2=\"148.5173\" y1=\"51\"\n",
       "      /><line y2=\"53.11\" style=\"fill:none;\" x1=\"158.7413\" x2=\"158.7413\" y1=\"51\"\n",
       "      /><line y2=\"53.11\" style=\"fill:none;\" x1=\"167.095\" x2=\"167.095\" y1=\"51\"\n",
       "      /><line y2=\"53.11\" style=\"fill:none;\" x1=\"174.1578\" x2=\"174.1578\" y1=\"51\"\n",
       "      /><line y2=\"53.11\" style=\"fill:none;\" x1=\"180.276\" x2=\"180.276\" y1=\"51\"\n",
       "      /><line y2=\"53.11\" style=\"fill:none;\" x1=\"185.6726\" x2=\"185.6726\" y1=\"51\"\n",
       "      /><line y2=\"53.11\" style=\"fill:none;\" x1=\"190.5\" x2=\"190.5\" y1=\"51\"\n",
       "      /><line y2=\"53.11\" style=\"fill:none;\" x1=\"222.2587\" x2=\"222.2587\" y1=\"51\"\n",
       "      /><line y2=\"53.11\" style=\"fill:none;\" x1=\"240.8363\" x2=\"240.8363\" y1=\"51\"\n",
       "      /><line y2=\"53.11\" style=\"fill:none;\" x1=\"254.0173\" x2=\"254.0173\" y1=\"51\"\n",
       "      /><line y2=\"53.11\" style=\"fill:none;\" x1=\"264.2413\" x2=\"264.2413\" y1=\"51\"\n",
       "      /><line y2=\"53.11\" style=\"fill:none;\" x1=\"272.595\" x2=\"272.595\" y1=\"51\"\n",
       "      /><line y2=\"53.11\" style=\"fill:none;\" x1=\"279.6578\" x2=\"279.6578\" y1=\"51\"\n",
       "      /><line y2=\"53.11\" style=\"fill:none;\" x1=\"285.776\" x2=\"285.776\" y1=\"51\"\n",
       "      /><line y2=\"53.11\" style=\"fill:none;\" x1=\"291.1726\" x2=\"291.1726\" y1=\"51\"\n",
       "      /><line y2=\"53.11\" style=\"fill:none;\" x1=\"296\" x2=\"296\" y1=\"51\"\n",
       "      /><line y2=\"53.11\" style=\"fill:none;\" x1=\"327.7587\" x2=\"327.7587\" y1=\"51\"\n",
       "      /><line y2=\"53.11\" style=\"fill:none;\" x1=\"346.3363\" x2=\"346.3363\" y1=\"51\"\n",
       "      /><line y2=\"53.11\" style=\"fill:none;\" x1=\"359.5173\" x2=\"359.5173\" y1=\"51\"\n",
       "      /><line y2=\"53.11\" style=\"fill:none;\" x1=\"369.7413\" x2=\"369.7413\" y1=\"51\"\n",
       "      /><line y2=\"53.11\" style=\"fill:none;\" x1=\"378.095\" x2=\"378.095\" y1=\"51\"\n",
       "      /><line y2=\"53.11\" style=\"fill:none;\" x1=\"385.1578\" x2=\"385.1578\" y1=\"51\"\n",
       "      /><line y2=\"53.11\" style=\"fill:none;\" x1=\"391.276\" x2=\"391.276\" y1=\"51\"\n",
       "      /><line y2=\"53.11\" style=\"fill:none;\" x1=\"396.6726\" x2=\"396.6726\" y1=\"51\"\n",
       "      /><line y2=\"53.11\" style=\"fill:none;\" x1=\"401.5\" x2=\"401.5\" y1=\"51\"\n",
       "      /><line y2=\"53.11\" style=\"fill:none;\" x1=\"433.2587\" x2=\"433.2587\" y1=\"51\"\n",
       "      /><line y2=\"53.11\" style=\"fill:none;\" x1=\"451.8363\" x2=\"451.8363\" y1=\"51\"\n",
       "      /><line y2=\"53.11\" style=\"fill:none;\" x1=\"465.0173\" x2=\"465.0173\" y1=\"51\"\n",
       "      /><line y2=\"53.11\" style=\"fill:none;\" x1=\"475.2413\" x2=\"475.2413\" y1=\"51\"\n",
       "      /><line y2=\"53.11\" style=\"fill:none;\" x1=\"483.595\" x2=\"483.595\" y1=\"51\"\n",
       "      /><line y2=\"53.11\" style=\"fill:none;\" x1=\"490.6578\" x2=\"490.6578\" y1=\"51\"\n",
       "      /><line y2=\"53.11\" style=\"fill:none;\" x1=\"496.776\" x2=\"496.776\" y1=\"51\"\n",
       "      /><line y2=\"53.11\" style=\"fill:none;\" x1=\"502.1726\" x2=\"502.1726\" y1=\"51\"\n",
       "      /><line y2=\"53.11\" style=\"fill:none;\" x1=\"507\" x2=\"507\" y1=\"51\"\n",
       "      /><line y2=\"51\" style=\"fill:none;\" x1=\"85\" x2=\"85\" y1=\"216\"\n",
       "      /><line y2=\"51\" style=\"fill:none;\" x1=\"507\" x2=\"507\" y1=\"216\"\n",
       "      /><line y2=\"216\" style=\"fill:none;\" x1=\"85\" x2=\"89.22\" y1=\"216\"\n",
       "      /><line y2=\"188.5\" style=\"fill:none;\" x1=\"85\" x2=\"89.22\" y1=\"188.5\"\n",
       "      /><line y2=\"161\" style=\"fill:none;\" x1=\"85\" x2=\"89.22\" y1=\"161\"\n",
       "      /><line y2=\"133.5\" style=\"fill:none;\" x1=\"85\" x2=\"89.22\" y1=\"133.5\"\n",
       "      /><line y2=\"106\" style=\"fill:none;\" x1=\"85\" x2=\"89.22\" y1=\"106\"\n",
       "      /><line y2=\"78.5\" style=\"fill:none;\" x1=\"85\" x2=\"89.22\" y1=\"78.5\"\n",
       "      /><line y2=\"51\" style=\"fill:none;\" x1=\"85\" x2=\"89.22\" y1=\"51\"\n",
       "      /><line y2=\"216\" style=\"fill:none;\" x1=\"507\" x2=\"502.78\" y1=\"216\"\n",
       "      /><line y2=\"188.5\" style=\"fill:none;\" x1=\"507\" x2=\"502.78\" y1=\"188.5\"\n",
       "      /><line y2=\"161\" style=\"fill:none;\" x1=\"507\" x2=\"502.78\" y1=\"161\"\n",
       "      /><line y2=\"133.5\" style=\"fill:none;\" x1=\"507\" x2=\"502.78\" y1=\"133.5\"\n",
       "      /><line y2=\"106\" style=\"fill:none;\" x1=\"507\" x2=\"502.78\" y1=\"106\"\n",
       "      /><line y2=\"78.5\" style=\"fill:none;\" x1=\"507\" x2=\"502.78\" y1=\"78.5\"\n",
       "      /><line y2=\"51\" style=\"fill:none;\" x1=\"507\" x2=\"502.78\" y1=\"51\"\n",
       "    /></g\n",
       "    ><g transform=\"translate(81,216)\" style=\"font-size:10px; fill:rgb(102,102,102); text-rendering:geometricPrecision; image-rendering:optimizeQuality; color-rendering:optimizeQuality; font-family:'Helvetica Neue'; stroke:rgb(102,102,102); color-interpolation:linearRGB;\"\n",
       "    ><text x=\"-21\" xml:space=\"preserve\" y=\"3.5\" style=\"stroke:none;\"\n",
       "      >-120</text\n",
       "    ></g\n",
       "    ><g transform=\"translate(81,188.5)\" style=\"font-size:10px; fill:rgb(102,102,102); text-rendering:geometricPrecision; image-rendering:optimizeQuality; color-rendering:optimizeQuality; font-family:'Helvetica Neue'; stroke:rgb(102,102,102); color-interpolation:linearRGB;\"\n",
       "    ><text x=\"-21\" xml:space=\"preserve\" y=\"3.5\" style=\"stroke:none;\"\n",
       "      >-100</text\n",
       "    ></g\n",
       "    ><g transform=\"translate(81,161)\" style=\"font-size:10px; fill:rgb(102,102,102); text-rendering:geometricPrecision; image-rendering:optimizeQuality; color-rendering:optimizeQuality; font-family:'Helvetica Neue'; stroke:rgb(102,102,102); color-interpolation:linearRGB;\"\n",
       "    ><text x=\"-16\" xml:space=\"preserve\" y=\"3.5\" style=\"stroke:none;\"\n",
       "      >-80</text\n",
       "    ></g\n",
       "    ><g transform=\"translate(81,133.5)\" style=\"font-size:10px; fill:rgb(102,102,102); text-rendering:geometricPrecision; image-rendering:optimizeQuality; color-rendering:optimizeQuality; font-family:'Helvetica Neue'; stroke:rgb(102,102,102); color-interpolation:linearRGB;\"\n",
       "    ><text x=\"-16\" xml:space=\"preserve\" y=\"3.5\" style=\"stroke:none;\"\n",
       "      >-60</text\n",
       "    ></g\n",
       "    ><g transform=\"translate(81,106)\" style=\"font-size:10px; fill:rgb(102,102,102); text-rendering:geometricPrecision; image-rendering:optimizeQuality; color-rendering:optimizeQuality; font-family:'Helvetica Neue'; stroke:rgb(102,102,102); color-interpolation:linearRGB;\"\n",
       "    ><text x=\"-16\" xml:space=\"preserve\" y=\"3.5\" style=\"stroke:none;\"\n",
       "      >-40</text\n",
       "    ></g\n",
       "    ><g transform=\"translate(81,78.5)\" style=\"font-size:10px; fill:rgb(102,102,102); text-rendering:geometricPrecision; image-rendering:optimizeQuality; color-rendering:optimizeQuality; font-family:'Helvetica Neue'; stroke:rgb(102,102,102); color-interpolation:linearRGB;\"\n",
       "    ><text x=\"-16\" xml:space=\"preserve\" y=\"3.5\" style=\"stroke:none;\"\n",
       "      >-20</text\n",
       "    ></g\n",
       "    ><g transform=\"translate(81,51)\" style=\"font-size:10px; fill:rgb(102,102,102); text-rendering:geometricPrecision; image-rendering:optimizeQuality; color-rendering:optimizeQuality; font-family:'Helvetica Neue'; stroke:rgb(102,102,102); color-interpolation:linearRGB;\"\n",
       "    ><text x=\"-6\" xml:space=\"preserve\" y=\"3.5\" style=\"stroke:none;\"\n",
       "      >0</text\n",
       "    ></g\n",
       "    ><g transform=\"translate(57,133.4999) rotate(-90)\" style=\"font-size:11px; text-rendering:geometricPrecision; color-rendering:optimizeQuality; image-rendering:optimizeQuality; font-family:'Helvetica Neue'; color-interpolation:linearRGB;\"\n",
       "    ><text x=\"-38\" xml:space=\"preserve\" y=\"-3\" style=\"stroke:none;\"\n",
       "      >Magnitude (dB)</text\n",
       "    ></g\n",
       "    ><g style=\"stroke-linecap:butt; fill:rgb(0,114,189); text-rendering:geometricPrecision; image-rendering:optimizeQuality; color-rendering:optimizeQuality; stroke-linejoin:round; stroke:rgb(0,114,189); color-interpolation:linearRGB; stroke-width:0.5;\"\n",
       "    ><path d=\"M85 51.0002 L92.1525 51.0004 L99.3051 51.0008 L106.4576 51.0016 L113.6102 51.0029 L120.7627 51.0054 L127.9153 51.0101 L135.0678 51.0189 L142.2203 51.0353 L149.3729 51.0657 L156.5254 51.1221 L163.678 51.226 L170.8305 51.4152 L177.983 51.7533 L185.1356 52.3376 L192.2881 53.2956 L199.4407 54.7546 L206.5932 56.7841 L213.7458 59.3548 L220.8983 62.3565 L228.0509 65.6562 L235.2034 69.1418 L242.3559 72.7362 L249.5085 76.3918 L256.661 80.081 L263.8136 83.7885 L270.9661 87.5058 L278.1187 91.2285 L285.2712 94.954 L292.4237 98.6811 L299.5763 102.409 L306.7288 106.1373 L313.8813 109.8658 L321.0339 113.5945 L328.1864 117.3232 L335.339 121.052 L342.4915 124.7808 L349.6441 128.5096 L356.7966 132.2384 L363.9492 135.9672 L371.1017 139.696 L378.2542 143.4248 L385.4068 147.1536 L392.5593 150.8824 L399.7119 154.6113 L406.8644 158.3401 L414.0169 162.0689 L421.1695 165.7977 L428.322 169.5265 L435.4746 173.2553 L442.6271 176.9841 L449.7797 180.713 L456.9322 184.4418 L464.0847 188.1706 L471.2373 191.8994 L478.3898 195.6282 L485.5424 199.357 L492.6949 203.0858 L499.8474 206.8147 L507 210.5435\" style=\"fill:none; fill-rule:evenodd;\"\n",
       "    /></g\n",
       "    ><g style=\"fill:white; text-rendering:optimizeSpeed; color-rendering:optimizeSpeed; image-rendering:optimizeSpeed; shape-rendering:crispEdges; stroke:white; color-interpolation:sRGB;\"\n",
       "    ><path style=\"stroke:none;\" d=\"M85 374 L507 374 L507 228 L85 228 Z\"\n",
       "    /></g\n",
       "    ><g style=\"fill-opacity:0.251; color-rendering:optimizeQuality; color-interpolation:linearRGB; text-rendering:geometricPrecision; stroke:rgb(102,102,102); stroke-linecap:butt; stroke-miterlimit:1; stroke-opacity:0.251; fill:rgb(102,102,102); stroke-dasharray:1,3; stroke-width:0.5; stroke-linejoin:bevel; image-rendering:optimizeQuality;\"\n",
       "    ><line y2=\"228\" style=\"fill:none;\" x1=\"116.7587\" x2=\"116.7587\" y1=\"374\"\n",
       "      /><line y2=\"228\" style=\"fill:none;\" x1=\"135.3363\" x2=\"135.3363\" y1=\"374\"\n",
       "      /><line y2=\"228\" style=\"fill:none;\" x1=\"148.5173\" x2=\"148.5173\" y1=\"374\"\n",
       "      /><line y2=\"228\" style=\"fill:none;\" x1=\"158.7413\" x2=\"158.7413\" y1=\"374\"\n",
       "      /><line y2=\"228\" style=\"fill:none;\" x1=\"167.095\" x2=\"167.095\" y1=\"374\"\n",
       "      /><line y2=\"228\" style=\"fill:none;\" x1=\"174.1578\" x2=\"174.1578\" y1=\"374\"\n",
       "      /><line y2=\"228\" style=\"fill:none;\" x1=\"180.276\" x2=\"180.276\" y1=\"374\"\n",
       "      /><line y2=\"228\" style=\"fill:none;\" x1=\"185.6726\" x2=\"185.6726\" y1=\"374\"\n",
       "      /><line y2=\"228\" style=\"fill:none;\" x1=\"222.2587\" x2=\"222.2587\" y1=\"374\"\n",
       "      /><line y2=\"228\" style=\"fill:none;\" x1=\"240.8363\" x2=\"240.8363\" y1=\"374\"\n",
       "      /><line y2=\"228\" style=\"fill:none;\" x1=\"254.0173\" x2=\"254.0173\" y1=\"374\"\n",
       "      /><line y2=\"228\" style=\"fill:none;\" x1=\"264.2413\" x2=\"264.2413\" y1=\"374\"\n",
       "      /><line y2=\"228\" style=\"fill:none;\" x1=\"272.595\" x2=\"272.595\" y1=\"374\"\n",
       "      /><line y2=\"228\" style=\"fill:none;\" x1=\"279.6578\" x2=\"279.6578\" y1=\"374\"\n",
       "      /><line y2=\"228\" style=\"fill:none;\" x1=\"285.776\" x2=\"285.776\" y1=\"374\"\n",
       "      /><line y2=\"228\" style=\"fill:none;\" x1=\"291.1726\" x2=\"291.1726\" y1=\"374\"\n",
       "      /><line y2=\"228\" style=\"fill:none;\" x1=\"327.7587\" x2=\"327.7587\" y1=\"374\"\n",
       "      /><line y2=\"228\" style=\"fill:none;\" x1=\"346.3363\" x2=\"346.3363\" y1=\"374\"\n",
       "      /><line y2=\"228\" style=\"fill:none;\" x1=\"359.5173\" x2=\"359.5173\" y1=\"374\"\n",
       "      /><line y2=\"228\" style=\"fill:none;\" x1=\"369.7413\" x2=\"369.7413\" y1=\"374\"\n",
       "      /><line y2=\"228\" style=\"fill:none;\" x1=\"378.095\" x2=\"378.095\" y1=\"374\"\n",
       "      /><line y2=\"228\" style=\"fill:none;\" x1=\"385.1578\" x2=\"385.1578\" y1=\"374\"\n",
       "      /><line y2=\"228\" style=\"fill:none;\" x1=\"391.276\" x2=\"391.276\" y1=\"374\"\n",
       "      /><line y2=\"228\" style=\"fill:none;\" x1=\"396.6726\" x2=\"396.6726\" y1=\"374\"\n",
       "      /><line y2=\"228\" style=\"fill:none;\" x1=\"433.2587\" x2=\"433.2587\" y1=\"374\"\n",
       "      /><line y2=\"228\" style=\"fill:none;\" x1=\"451.8363\" x2=\"451.8363\" y1=\"374\"\n",
       "      /><line y2=\"228\" style=\"fill:none;\" x1=\"465.0173\" x2=\"465.0173\" y1=\"374\"\n",
       "      /><line y2=\"228\" style=\"fill:none;\" x1=\"475.2413\" x2=\"475.2413\" y1=\"374\"\n",
       "      /><line y2=\"228\" style=\"fill:none;\" x1=\"483.595\" x2=\"483.595\" y1=\"374\"\n",
       "      /><line y2=\"228\" style=\"fill:none;\" x1=\"490.6578\" x2=\"490.6578\" y1=\"374\"\n",
       "      /><line y2=\"228\" style=\"fill:none;\" x1=\"496.776\" x2=\"496.776\" y1=\"374\"\n",
       "      /><line y2=\"228\" style=\"fill:none;\" x1=\"502.1726\" x2=\"502.1726\" y1=\"374\"\n",
       "    /></g\n",
       "    ><g style=\"stroke-linecap:butt; fill-opacity:0.149; fill:rgb(38,38,38); text-rendering:geometricPrecision; image-rendering:optimizeQuality; color-rendering:optimizeQuality; stroke-linejoin:round; stroke:rgb(38,38,38); color-interpolation:linearRGB; stroke-width:0.5; stroke-opacity:0.149;\"\n",
       "    ><line y2=\"228\" style=\"fill:none;\" x1=\"85\" x2=\"85\" y1=\"374\"\n",
       "      /><line y2=\"228\" style=\"fill:none;\" x1=\"190.5\" x2=\"190.5\" y1=\"374\"\n",
       "      /><line y2=\"228\" style=\"fill:none;\" x1=\"296\" x2=\"296\" y1=\"374\"\n",
       "      /><line y2=\"228\" style=\"fill:none;\" x1=\"401.5\" x2=\"401.5\" y1=\"374\"\n",
       "      /><line y2=\"228\" style=\"fill:none;\" x1=\"507\" x2=\"507\" y1=\"374\"\n",
       "      /><line y2=\"372.5686\" style=\"fill:none;\" x1=\"507\" x2=\"85\" y1=\"372.5686\"\n",
       "      /><line y2=\"336.7843\" style=\"fill:none;\" x1=\"507\" x2=\"85\" y1=\"336.7843\"\n",
       "      /><line y2=\"301\" style=\"fill:none;\" x1=\"507\" x2=\"85\" y1=\"301\"\n",
       "      /><line y2=\"265.2157\" style=\"fill:none;\" x1=\"507\" x2=\"85\" y1=\"265.2157\"\n",
       "      /><line y2=\"229.4314\" style=\"fill:none;\" x1=\"507\" x2=\"85\" y1=\"229.4314\"\n",
       "    /></g\n",
       "    ><g style=\"fill:rgb(102,102,102); text-rendering:geometricPrecision; image-rendering:optimizeQuality; color-rendering:optimizeQuality; stroke-linejoin:round; stroke:rgb(102,102,102); color-interpolation:linearRGB; stroke-width:0.5;\"\n",
       "    ><line y2=\"374\" style=\"fill:none;\" x1=\"85\" x2=\"507\" y1=\"374\"\n",
       "      /><line y2=\"228\" style=\"fill:none;\" x1=\"85\" x2=\"507\" y1=\"228\"\n",
       "      /><line y2=\"369.78\" style=\"fill:none;\" x1=\"85\" x2=\"85\" y1=\"374\"\n",
       "      /><line y2=\"369.78\" style=\"fill:none;\" x1=\"190.5\" x2=\"190.5\" y1=\"374\"\n",
       "      /><line y2=\"369.78\" style=\"fill:none;\" x1=\"296\" x2=\"296\" y1=\"374\"\n",
       "      /><line y2=\"369.78\" style=\"fill:none;\" x1=\"401.5\" x2=\"401.5\" y1=\"374\"\n",
       "      /><line y2=\"369.78\" style=\"fill:none;\" x1=\"507\" x2=\"507\" y1=\"374\"\n",
       "      /><line y2=\"232.22\" style=\"fill:none;\" x1=\"85\" x2=\"85\" y1=\"228\"\n",
       "      /><line y2=\"232.22\" style=\"fill:none;\" x1=\"190.5\" x2=\"190.5\" y1=\"228\"\n",
       "      /><line y2=\"232.22\" style=\"fill:none;\" x1=\"296\" x2=\"296\" y1=\"228\"\n",
       "      /><line y2=\"232.22\" style=\"fill:none;\" x1=\"401.5\" x2=\"401.5\" y1=\"228\"\n",
       "      /><line y2=\"232.22\" style=\"fill:none;\" x1=\"507\" x2=\"507\" y1=\"228\"\n",
       "      /><line y2=\"371.89\" style=\"fill:none;\" x1=\"85\" x2=\"85\" y1=\"374\"\n",
       "      /><line y2=\"371.89\" style=\"fill:none;\" x1=\"116.7587\" x2=\"116.7587\" y1=\"374\"\n",
       "      /><line y2=\"371.89\" style=\"fill:none;\" x1=\"135.3363\" x2=\"135.3363\" y1=\"374\"\n",
       "      /><line y2=\"371.89\" style=\"fill:none;\" x1=\"148.5173\" x2=\"148.5173\" y1=\"374\"\n",
       "      /><line y2=\"371.89\" style=\"fill:none;\" x1=\"158.7413\" x2=\"158.7413\" y1=\"374\"\n",
       "      /><line y2=\"371.89\" style=\"fill:none;\" x1=\"167.095\" x2=\"167.095\" y1=\"374\"\n",
       "      /><line y2=\"371.89\" style=\"fill:none;\" x1=\"174.1578\" x2=\"174.1578\" y1=\"374\"\n",
       "      /><line y2=\"371.89\" style=\"fill:none;\" x1=\"180.276\" x2=\"180.276\" y1=\"374\"\n",
       "      /><line y2=\"371.89\" style=\"fill:none;\" x1=\"185.6726\" x2=\"185.6726\" y1=\"374\"\n",
       "      /><line y2=\"371.89\" style=\"fill:none;\" x1=\"190.5\" x2=\"190.5\" y1=\"374\"\n",
       "      /><line y2=\"371.89\" style=\"fill:none;\" x1=\"222.2587\" x2=\"222.2587\" y1=\"374\"\n",
       "      /><line y2=\"371.89\" style=\"fill:none;\" x1=\"240.8363\" x2=\"240.8363\" y1=\"374\"\n",
       "      /><line y2=\"371.89\" style=\"fill:none;\" x1=\"254.0173\" x2=\"254.0173\" y1=\"374\"\n",
       "      /><line y2=\"371.89\" style=\"fill:none;\" x1=\"264.2413\" x2=\"264.2413\" y1=\"374\"\n",
       "      /><line y2=\"371.89\" style=\"fill:none;\" x1=\"272.595\" x2=\"272.595\" y1=\"374\"\n",
       "      /><line y2=\"371.89\" style=\"fill:none;\" x1=\"279.6578\" x2=\"279.6578\" y1=\"374\"\n",
       "      /><line y2=\"371.89\" style=\"fill:none;\" x1=\"285.776\" x2=\"285.776\" y1=\"374\"\n",
       "      /><line y2=\"371.89\" style=\"fill:none;\" x1=\"291.1726\" x2=\"291.1726\" y1=\"374\"\n",
       "      /><line y2=\"371.89\" style=\"fill:none;\" x1=\"296\" x2=\"296\" y1=\"374\"\n",
       "      /><line y2=\"371.89\" style=\"fill:none;\" x1=\"327.7587\" x2=\"327.7587\" y1=\"374\"\n",
       "      /><line y2=\"371.89\" style=\"fill:none;\" x1=\"346.3363\" x2=\"346.3363\" y1=\"374\"\n",
       "      /><line y2=\"371.89\" style=\"fill:none;\" x1=\"359.5173\" x2=\"359.5173\" y1=\"374\"\n",
       "      /><line y2=\"371.89\" style=\"fill:none;\" x1=\"369.7413\" x2=\"369.7413\" y1=\"374\"\n",
       "      /><line y2=\"371.89\" style=\"fill:none;\" x1=\"378.095\" x2=\"378.095\" y1=\"374\"\n",
       "      /><line y2=\"371.89\" style=\"fill:none;\" x1=\"385.1578\" x2=\"385.1578\" y1=\"374\"\n",
       "      /><line y2=\"371.89\" style=\"fill:none;\" x1=\"391.276\" x2=\"391.276\" y1=\"374\"\n",
       "      /><line y2=\"371.89\" style=\"fill:none;\" x1=\"396.6726\" x2=\"396.6726\" y1=\"374\"\n",
       "      /><line y2=\"371.89\" style=\"fill:none;\" x1=\"401.5\" x2=\"401.5\" y1=\"374\"\n",
       "      /><line y2=\"371.89\" style=\"fill:none;\" x1=\"433.2587\" x2=\"433.2587\" y1=\"374\"\n",
       "      /><line y2=\"371.89\" style=\"fill:none;\" x1=\"451.8363\" x2=\"451.8363\" y1=\"374\"\n",
       "      /><line y2=\"371.89\" style=\"fill:none;\" x1=\"465.0173\" x2=\"465.0173\" y1=\"374\"\n",
       "      /><line y2=\"371.89\" style=\"fill:none;\" x1=\"475.2413\" x2=\"475.2413\" y1=\"374\"\n",
       "      /><line y2=\"371.89\" style=\"fill:none;\" x1=\"483.595\" x2=\"483.595\" y1=\"374\"\n",
       "      /><line y2=\"371.89\" style=\"fill:none;\" x1=\"490.6578\" x2=\"490.6578\" y1=\"374\"\n",
       "      /><line y2=\"371.89\" style=\"fill:none;\" x1=\"496.776\" x2=\"496.776\" y1=\"374\"\n",
       "      /><line y2=\"371.89\" style=\"fill:none;\" x1=\"502.1726\" x2=\"502.1726\" y1=\"374\"\n",
       "      /><line y2=\"371.89\" style=\"fill:none;\" x1=\"507\" x2=\"507\" y1=\"374\"\n",
       "      /><line y2=\"230.11\" style=\"fill:none;\" x1=\"85\" x2=\"85\" y1=\"228\"\n",
       "      /><line y2=\"230.11\" style=\"fill:none;\" x1=\"116.7587\" x2=\"116.7587\" y1=\"228\"\n",
       "      /><line y2=\"230.11\" style=\"fill:none;\" x1=\"135.3363\" x2=\"135.3363\" y1=\"228\"\n",
       "      /><line y2=\"230.11\" style=\"fill:none;\" x1=\"148.5173\" x2=\"148.5173\" y1=\"228\"\n",
       "      /><line y2=\"230.11\" style=\"fill:none;\" x1=\"158.7413\" x2=\"158.7413\" y1=\"228\"\n",
       "      /><line y2=\"230.11\" style=\"fill:none;\" x1=\"167.095\" x2=\"167.095\" y1=\"228\"\n",
       "      /><line y2=\"230.11\" style=\"fill:none;\" x1=\"174.1578\" x2=\"174.1578\" y1=\"228\"\n",
       "      /><line y2=\"230.11\" style=\"fill:none;\" x1=\"180.276\" x2=\"180.276\" y1=\"228\"\n",
       "      /><line y2=\"230.11\" style=\"fill:none;\" x1=\"185.6726\" x2=\"185.6726\" y1=\"228\"\n",
       "      /><line y2=\"230.11\" style=\"fill:none;\" x1=\"190.5\" x2=\"190.5\" y1=\"228\"\n",
       "      /><line y2=\"230.11\" style=\"fill:none;\" x1=\"222.2587\" x2=\"222.2587\" y1=\"228\"\n",
       "      /><line y2=\"230.11\" style=\"fill:none;\" x1=\"240.8363\" x2=\"240.8363\" y1=\"228\"\n",
       "      /><line y2=\"230.11\" style=\"fill:none;\" x1=\"254.0173\" x2=\"254.0173\" y1=\"228\"\n",
       "      /><line y2=\"230.11\" style=\"fill:none;\" x1=\"264.2413\" x2=\"264.2413\" y1=\"228\"\n",
       "      /><line y2=\"230.11\" style=\"fill:none;\" x1=\"272.595\" x2=\"272.595\" y1=\"228\"\n",
       "      /><line y2=\"230.11\" style=\"fill:none;\" x1=\"279.6578\" x2=\"279.6578\" y1=\"228\"\n",
       "      /><line y2=\"230.11\" style=\"fill:none;\" x1=\"285.776\" x2=\"285.776\" y1=\"228\"\n",
       "      /><line y2=\"230.11\" style=\"fill:none;\" x1=\"291.1726\" x2=\"291.1726\" y1=\"228\"\n",
       "      /><line y2=\"230.11\" style=\"fill:none;\" x1=\"296\" x2=\"296\" y1=\"228\"\n",
       "      /><line y2=\"230.11\" style=\"fill:none;\" x1=\"327.7587\" x2=\"327.7587\" y1=\"228\"\n",
       "      /><line y2=\"230.11\" style=\"fill:none;\" x1=\"346.3363\" x2=\"346.3363\" y1=\"228\"\n",
       "      /><line y2=\"230.11\" style=\"fill:none;\" x1=\"359.5173\" x2=\"359.5173\" y1=\"228\"\n",
       "      /><line y2=\"230.11\" style=\"fill:none;\" x1=\"369.7413\" x2=\"369.7413\" y1=\"228\"\n",
       "      /><line y2=\"230.11\" style=\"fill:none;\" x1=\"378.095\" x2=\"378.095\" y1=\"228\"\n",
       "      /><line y2=\"230.11\" style=\"fill:none;\" x1=\"385.1578\" x2=\"385.1578\" y1=\"228\"\n",
       "      /><line y2=\"230.11\" style=\"fill:none;\" x1=\"391.276\" x2=\"391.276\" y1=\"228\"\n",
       "      /><line y2=\"230.11\" style=\"fill:none;\" x1=\"396.6726\" x2=\"396.6726\" y1=\"228\"\n",
       "      /><line y2=\"230.11\" style=\"fill:none;\" x1=\"401.5\" x2=\"401.5\" y1=\"228\"\n",
       "      /><line y2=\"230.11\" style=\"fill:none;\" x1=\"433.2587\" x2=\"433.2587\" y1=\"228\"\n",
       "      /><line y2=\"230.11\" style=\"fill:none;\" x1=\"451.8363\" x2=\"451.8363\" y1=\"228\"\n",
       "      /><line y2=\"230.11\" style=\"fill:none;\" x1=\"465.0173\" x2=\"465.0173\" y1=\"228\"\n",
       "      /><line y2=\"230.11\" style=\"fill:none;\" x1=\"475.2413\" x2=\"475.2413\" y1=\"228\"\n",
       "      /><line y2=\"230.11\" style=\"fill:none;\" x1=\"483.595\" x2=\"483.595\" y1=\"228\"\n",
       "      /><line y2=\"230.11\" style=\"fill:none;\" x1=\"490.6578\" x2=\"490.6578\" y1=\"228\"\n",
       "      /><line y2=\"230.11\" style=\"fill:none;\" x1=\"496.776\" x2=\"496.776\" y1=\"228\"\n",
       "      /><line y2=\"230.11\" style=\"fill:none;\" x1=\"502.1726\" x2=\"502.1726\" y1=\"228\"\n",
       "      /><line y2=\"230.11\" style=\"fill:none;\" x1=\"507\" x2=\"507\" y1=\"228\"\n",
       "    /></g\n",
       "    ><g transform=\"translate(76,391)\" style=\"font-size:10px; fill:rgb(102,102,102); text-rendering:geometricPrecision; image-rendering:optimizeQuality; color-rendering:optimizeQuality; font-family:'Helvetica Neue'; stroke:rgb(102,102,102); color-interpolation:linearRGB;\"\n",
       "    ><text x=\"0\" xml:space=\"preserve\" y=\"0\" style=\"stroke:none;\"\n",
       "      >10</text\n",
       "    ></g\n",
       "    ><g transform=\"translate(88,386)\" style=\"font-size:8px; fill:rgb(102,102,102); text-rendering:geometricPrecision; image-rendering:optimizeQuality; color-rendering:optimizeQuality; font-family:'Helvetica Neue'; stroke:rgb(102,102,102); color-interpolation:linearRGB;\"\n",
       "    ><text x=\"0\" xml:space=\"preserve\" y=\"0\" style=\"stroke:none;\"\n",
       "      >4</text\n",
       "    ></g\n",
       "    ><g transform=\"translate(182,391)\" style=\"font-size:10px; fill:rgb(102,102,102); text-rendering:geometricPrecision; image-rendering:optimizeQuality; color-rendering:optimizeQuality; font-family:'Helvetica Neue'; stroke:rgb(102,102,102); color-interpolation:linearRGB;\"\n",
       "    ><text x=\"0\" xml:space=\"preserve\" y=\"0\" style=\"stroke:none;\"\n",
       "      >10</text\n",
       "    ></g\n",
       "    ><g transform=\"translate(194,386)\" style=\"font-size:8px; fill:rgb(102,102,102); text-rendering:geometricPrecision; image-rendering:optimizeQuality; color-rendering:optimizeQuality; font-family:'Helvetica Neue'; stroke:rgb(102,102,102); color-interpolation:linearRGB;\"\n",
       "    ><text x=\"0\" xml:space=\"preserve\" y=\"0\" style=\"stroke:none;\"\n",
       "      >5</text\n",
       "    ></g\n",
       "    ><g transform=\"translate(287,391)\" style=\"font-size:10px; fill:rgb(102,102,102); text-rendering:geometricPrecision; image-rendering:optimizeQuality; color-rendering:optimizeQuality; font-family:'Helvetica Neue'; stroke:rgb(102,102,102); color-interpolation:linearRGB;\"\n",
       "    ><text x=\"0\" xml:space=\"preserve\" y=\"0\" style=\"stroke:none;\"\n",
       "      >10</text\n",
       "    ></g\n",
       "    ><g transform=\"translate(299,386)\" style=\"font-size:8px; fill:rgb(102,102,102); text-rendering:geometricPrecision; image-rendering:optimizeQuality; color-rendering:optimizeQuality; font-family:'Helvetica Neue'; stroke:rgb(102,102,102); color-interpolation:linearRGB;\"\n",
       "    ><text x=\"0\" xml:space=\"preserve\" y=\"0\" style=\"stroke:none;\"\n",
       "      >6</text\n",
       "    ></g\n",
       "    ><g transform=\"translate(393,391)\" style=\"font-size:10px; fill:rgb(102,102,102); text-rendering:geometricPrecision; image-rendering:optimizeQuality; color-rendering:optimizeQuality; font-family:'Helvetica Neue'; stroke:rgb(102,102,102); color-interpolation:linearRGB;\"\n",
       "    ><text x=\"0\" xml:space=\"preserve\" y=\"0\" style=\"stroke:none;\"\n",
       "      >10</text\n",
       "    ></g\n",
       "    ><g transform=\"translate(405,386)\" style=\"font-size:8px; fill:rgb(102,102,102); text-rendering:geometricPrecision; image-rendering:optimizeQuality; color-rendering:optimizeQuality; font-family:'Helvetica Neue'; stroke:rgb(102,102,102); color-interpolation:linearRGB;\"\n",
       "    ><text x=\"0\" xml:space=\"preserve\" y=\"0\" style=\"stroke:none;\"\n",
       "      >7</text\n",
       "    ></g\n",
       "    ><g transform=\"translate(498,391)\" style=\"font-size:10px; fill:rgb(102,102,102); text-rendering:geometricPrecision; image-rendering:optimizeQuality; color-rendering:optimizeQuality; font-family:'Helvetica Neue'; stroke:rgb(102,102,102); color-interpolation:linearRGB;\"\n",
       "    ><text x=\"0\" xml:space=\"preserve\" y=\"0\" style=\"stroke:none;\"\n",
       "      >10</text\n",
       "    ></g\n",
       "    ><g transform=\"translate(510,386)\" style=\"font-size:8px; fill:rgb(102,102,102); text-rendering:geometricPrecision; image-rendering:optimizeQuality; color-rendering:optimizeQuality; font-family:'Helvetica Neue'; stroke:rgb(102,102,102); color-interpolation:linearRGB;\"\n",
       "    ><text x=\"0\" xml:space=\"preserve\" y=\"0\" style=\"stroke:none;\"\n",
       "      >8</text\n",
       "    ></g\n",
       "    ><g style=\"fill:rgb(102,102,102); text-rendering:geometricPrecision; image-rendering:optimizeQuality; color-rendering:optimizeQuality; stroke-linejoin:round; stroke:rgb(102,102,102); color-interpolation:linearRGB; stroke-width:0.5;\"\n",
       "    ><line y2=\"228\" style=\"fill:none;\" x1=\"85\" x2=\"85\" y1=\"374\"\n",
       "      /><line y2=\"228\" style=\"fill:none;\" x1=\"507\" x2=\"507\" y1=\"374\"\n",
       "      /><line y2=\"372.5686\" style=\"fill:none;\" x1=\"85\" x2=\"89.22\" y1=\"372.5686\"\n",
       "      /><line y2=\"336.7843\" style=\"fill:none;\" x1=\"85\" x2=\"89.22\" y1=\"336.7843\"\n",
       "      /><line y2=\"301\" style=\"fill:none;\" x1=\"85\" x2=\"89.22\" y1=\"301\"\n",
       "      /><line y2=\"265.2157\" style=\"fill:none;\" x1=\"85\" x2=\"89.22\" y1=\"265.2157\"\n",
       "      /><line y2=\"229.4314\" style=\"fill:none;\" x1=\"85\" x2=\"89.22\" y1=\"229.4314\"\n",
       "      /><line y2=\"372.5686\" style=\"fill:none;\" x1=\"507\" x2=\"502.78\" y1=\"372.5686\"\n",
       "      /><line y2=\"336.7843\" style=\"fill:none;\" x1=\"507\" x2=\"502.78\" y1=\"336.7843\"\n",
       "      /><line y2=\"301\" style=\"fill:none;\" x1=\"507\" x2=\"502.78\" y1=\"301\"\n",
       "      /><line y2=\"265.2157\" style=\"fill:none;\" x1=\"507\" x2=\"502.78\" y1=\"265.2157\"\n",
       "      /><line y2=\"229.4314\" style=\"fill:none;\" x1=\"507\" x2=\"502.78\" y1=\"229.4314\"\n",
       "    /></g\n",
       "    ><g transform=\"translate(81,372.5686)\" style=\"font-size:10px; fill:rgb(102,102,102); text-rendering:geometricPrecision; image-rendering:optimizeQuality; color-rendering:optimizeQuality; font-family:'Helvetica Neue'; stroke:rgb(102,102,102); color-interpolation:linearRGB;\"\n",
       "    ><text x=\"-21\" xml:space=\"preserve\" y=\"3.5\" style=\"stroke:none;\"\n",
       "      >-180</text\n",
       "    ></g\n",
       "    ><g transform=\"translate(81,336.7843)\" style=\"font-size:10px; fill:rgb(102,102,102); text-rendering:geometricPrecision; image-rendering:optimizeQuality; color-rendering:optimizeQuality; font-family:'Helvetica Neue'; stroke:rgb(102,102,102); color-interpolation:linearRGB;\"\n",
       "    ><text x=\"-21\" xml:space=\"preserve\" y=\"3.5\" style=\"stroke:none;\"\n",
       "      >-135</text\n",
       "    ></g\n",
       "    ><g transform=\"translate(81,301)\" style=\"font-size:10px; fill:rgb(102,102,102); text-rendering:geometricPrecision; image-rendering:optimizeQuality; color-rendering:optimizeQuality; font-family:'Helvetica Neue'; stroke:rgb(102,102,102); color-interpolation:linearRGB;\"\n",
       "    ><text x=\"-16\" xml:space=\"preserve\" y=\"3.5\" style=\"stroke:none;\"\n",
       "      >-90</text\n",
       "    ></g\n",
       "    ><g transform=\"translate(81,265.2157)\" style=\"font-size:10px; fill:rgb(102,102,102); text-rendering:geometricPrecision; image-rendering:optimizeQuality; color-rendering:optimizeQuality; font-family:'Helvetica Neue'; stroke:rgb(102,102,102); color-interpolation:linearRGB;\"\n",
       "    ><text x=\"-16\" xml:space=\"preserve\" y=\"3.5\" style=\"stroke:none;\"\n",
       "      >-45</text\n",
       "    ></g\n",
       "    ><g transform=\"translate(81,229.4314)\" style=\"font-size:10px; fill:rgb(102,102,102); text-rendering:geometricPrecision; image-rendering:optimizeQuality; color-rendering:optimizeQuality; font-family:'Helvetica Neue'; stroke:rgb(102,102,102); color-interpolation:linearRGB;\"\n",
       "    ><text x=\"-6\" xml:space=\"preserve\" y=\"3.5\" style=\"stroke:none;\"\n",
       "      >0</text\n",
       "    ></g\n",
       "    ><g transform=\"translate(57,300.9999) rotate(-90)\" style=\"font-size:11px; text-rendering:geometricPrecision; color-rendering:optimizeQuality; image-rendering:optimizeQuality; font-family:'Helvetica Neue'; color-interpolation:linearRGB;\"\n",
       "    ><text x=\"-29.5\" xml:space=\"preserve\" y=\"-3\" style=\"stroke:none;\"\n",
       "      >Phase (deg)</text\n",
       "    ></g\n",
       "    ><g style=\"stroke-linecap:butt; fill:rgb(0,114,189); text-rendering:geometricPrecision; image-rendering:optimizeQuality; color-rendering:optimizeQuality; stroke-linejoin:round; stroke:rgb(0,114,189); color-interpolation:linearRGB; stroke-width:0.5;\"\n",
       "    ><path d=\"M85 234.5697 L92.1525 235.4424 L99.3051 236.4653 L106.4576 237.6653 L113.6102 239.0749 L120.7627 240.7334 L127.9153 242.689 L135.0678 245.0011 L142.2203 247.7442 L149.3729 251.0113 L156.5254 254.9188 L163.678 259.609 L170.8305 265.2451 L177.983 271.9875 L185.1356 279.9329 L192.2881 289.0071 L199.4407 298.8552 L206.5932 308.8539 L213.7458 318.3198 L220.8983 326.7704 L228.0509 334.0214 L235.2034 340.1117 L242.3559 345.1848 L249.5085 349.4074 L256.661 352.9321 L263.8136 355.8861 L270.9661 358.372 L278.1187 360.4717 L285.2712 362.2505 L292.4237 363.761 L299.5763 365.0461 L306.7288 366.141 L313.8813 367.0748 L321.0339 367.8718 L328.1864 368.5526 L335.339 369.1342 L342.4915 369.6313 L349.6441 370.0563 L356.7966 370.4197 L363.9492 370.7305 L371.1017 370.9963 L378.2542 371.2236 L385.4068 371.4181 L392.5593 371.5844 L399.7119 371.7267 L406.8644 371.8484 L414.0169 371.9525 L421.1695 372.0415 L428.322 372.1177 L435.4746 372.1829 L442.6271 372.2386 L449.7797 372.2863 L456.9322 372.3271 L464.0847 372.362 L471.2373 372.3919 L478.3898 372.4174 L485.5424 372.4393 L492.6949 372.458 L499.8474 372.474 L507 372.4877\" style=\"fill:none; fill-rule:evenodd;\"\n",
       "    /></g\n",
       "    ><g transform=\"translate(295,44.2)\" style=\"font-size:11px; text-rendering:geometricPrecision; image-rendering:optimizeQuality; color-rendering:optimizeQuality; font-family:'Helvetica Neue'; color-interpolation:linearRGB; font-weight:bold;\"\n",
       "    ><text x=\"-38\" xml:space=\"preserve\" y=\"-3\" style=\"stroke:none;\"\n",
       "      >Bode Diagram</text\n",
       "    ></g\n",
       "    ><g transform=\"translate(295,393)\" style=\"font-size:11px; text-rendering:geometricPrecision; color-rendering:optimizeQuality; image-rendering:optimizeQuality; font-family:'Helvetica Neue'; color-interpolation:linearRGB;\"\n",
       "    ><text x=\"-45\" xml:space=\"preserve\" y=\"11\" style=\"stroke:none;\"\n",
       "      >Frequency  (rad/s)</text\n",
       "    ></g\n",
       "  ></g\n",
       "></svg\n",
       ">\n"
      ]
     },
     "metadata": {
      "filenames": {
       "image/svg+xml": "/Users/eechris/code/src/github.com/cpjobling/eg-247-textbook/_build/jupyter_execute/dt_systems/4/dt_models_92_0.svg"
      }
     },
     "output_type": "display_data"
    }
   ],
   "source": [
    "bode(Hs,{1e4,1e8})\n",
    "grid"
   ]
  },
  {
   "cell_type": "markdown",
   "metadata": {
    "slideshow": {
     "slide_type": "subslide"
    }
   },
   "source": [
    "### Sampling Frequency\n",
    "\n",
    "From the bode diagram, the frequency at which $|H(j\\omega)|$ is $-80$&nbsp;dB is approx $12.6\\times 10^6$&nbsp;rad/s.\n",
    "\n",
    "To avoid aliasing, we should choose a sampling frequency twice this = ?"
   ]
  },
  {
   "cell_type": "markdown",
   "metadata": {
    "slideshow": {
     "slide_type": "fragment"
    }
   },
   "source": [
    "$\\omega_s = 2\\times 12.6\\times 10^6$&nbsp;rad/s."
   ]
  },
  {
   "cell_type": "code",
   "execution_count": 18,
   "metadata": {
    "slideshow": {
     "slide_type": "fragment"
    }
   },
   "outputs": [
    {
     "name": "stdout",
     "output_type": "stream",
     "text": [
      "ws =\n",
      "    25200000\n"
     ]
    }
   ],
   "source": [
    "ws = 2* 12.6e6"
   ]
  },
  {
   "cell_type": "markdown",
   "metadata": {
    "slideshow": {
     "slide_type": "subslide"
    }
   },
   "source": [
    "So\n",
    "\n",
    "$\\omega_s = 25.2\\times 10^6$&nbsp;rad/s."
   ]
  },
  {
   "cell_type": "markdown",
   "metadata": {
    "slideshow": {
     "slide_type": "fragment"
    }
   },
   "source": [
    "Sampling frequency ($f_s$) in Hz  = ?"
   ]
  },
  {
   "cell_type": "markdown",
   "metadata": {
    "slideshow": {
     "slide_type": "fragment"
    }
   },
   "source": [
    "$$f_s = \\omega_s/(2\\pi)\\;\\mathrm{Mhz}$$"
   ]
  },
  {
   "cell_type": "code",
   "execution_count": 19,
   "metadata": {
    "slideshow": {
     "slide_type": "fragment"
    }
   },
   "outputs": [
    {
     "name": "stdout",
     "output_type": "stream",
     "text": [
      "fs =\n",
      "   4.0107e+06\n"
     ]
    }
   ],
   "source": [
    "fs = ws/(2*pi)"
   ]
  },
  {
   "cell_type": "markdown",
   "metadata": {
    "slideshow": {
     "slide_type": "subslide"
    }
   },
   "source": [
    "$$f_s = 40.11\\;\\mathrm{Mhz}$$\n",
    "\n",
    "Sampling time $T_s = ?$"
   ]
  },
  {
   "cell_type": "markdown",
   "metadata": {
    "slideshow": {
     "slide_type": "fragment"
    }
   },
   "source": [
    "$T_s = 1/fs\\;\\mathrm{s}$"
   ]
  },
  {
   "cell_type": "code",
   "execution_count": 20,
   "metadata": {
    "slideshow": {
     "slide_type": "fragment"
    }
   },
   "outputs": [
    {
     "name": "stdout",
     "output_type": "stream",
     "text": [
      "Ts =\n",
      "   2.4933e-07\n"
     ]
    }
   ],
   "source": [
    "Ts = 1/fs"
   ]
  },
  {
   "cell_type": "markdown",
   "metadata": {
    "slideshow": {
     "slide_type": "subslide"
    }
   },
   "source": [
    "$$T_s = 1/f_s \\approx 0.25\\;\\mu\\mathrm{s}$$"
   ]
  },
  {
   "cell_type": "markdown",
   "metadata": {
    "slideshow": {
     "slide_type": "subslide"
    }
   },
   "source": [
    "### Digital Butterworth\n",
    "\n",
    "zero-order-hold equivalent"
   ]
  },
  {
   "cell_type": "code",
   "execution_count": 21,
   "metadata": {},
   "outputs": [
    {
     "name": "stdout",
     "output_type": "stream",
     "text": [
      "\n",
      "Hz =\n"
     ]
    },
    {
     "name": "stdout",
     "output_type": "stream",
     "text": [
      " \n"
     ]
    },
    {
     "name": "stdout",
     "output_type": "stream",
     "text": [
      "  0.0004836 z + 0.0004765\n"
     ]
    },
    {
     "name": "stdout",
     "output_type": "stream",
     "text": [
      "  -----------------------\n"
     ]
    },
    {
     "name": "stdout",
     "output_type": "stream",
     "text": [
      "  z^2 - 1.956 z + 0.9567\n"
     ]
    },
    {
     "name": "stdout",
     "output_type": "stream",
     "text": [
      " \n"
     ]
    },
    {
     "name": "stdout",
     "output_type": "stream",
     "text": [
      "Sample time: 2.4933e-07 seconds\n"
     ]
    },
    {
     "name": "stdout",
     "output_type": "stream",
     "text": [
      "Discrete-time transfer function.\n",
      "\n"
     ]
    }
   ],
   "source": [
    "Hz = c2d(Hs, Ts)"
   ]
  },
  {
   "cell_type": "markdown",
   "metadata": {
    "slideshow": {
     "slide_type": "subslide"
    }
   },
   "source": [
    "### Step response"
   ]
  },
  {
   "cell_type": "code",
   "execution_count": 22,
   "metadata": {},
   "outputs": [
    {
     "data": {
      "image/svg+xml": [
       "<?xml version=\"1.0\"?>\n",
       "<!DOCTYPE svg PUBLIC '-//W3C//DTD SVG 1.0//EN'\n",
       "          'http://www.w3.org/TR/2001/REC-SVG-20010904/DTD/svg10.dtd'>\n",
       "<svg xmlns:xlink=\"http://www.w3.org/1999/xlink\" style=\"fill-opacity:1; color-rendering:auto; color-interpolation:auto; text-rendering:auto; stroke:black; stroke-linecap:square; stroke-miterlimit:10; shape-rendering:auto; stroke-opacity:1; fill:black; stroke-dasharray:none; font-weight:normal; stroke-width:1; font-family:'Dialog'; font-style:normal; stroke-linejoin:miter; font-size:12px; stroke-dashoffset:0; image-rendering:auto;\" width=\"560\" height=\"420\" xmlns=\"http://www.w3.org/2000/svg\"\n",
       "><!--Generated by the Batik Graphics2D SVG Generator--><defs id=\"genericDefs\"\n",
       "  /><g\n",
       "  ><defs id=\"defs1\"\n",
       "    ><clipPath clipPathUnits=\"userSpaceOnUse\" id=\"clipPath1\"\n",
       "      ><path d=\"M0 0 L560 0 L560 420 L0 420 L0 0 Z\"\n",
       "      /></clipPath\n",
       "    ></defs\n",
       "    ><g style=\"fill:white; stroke:white;\"\n",
       "    ><rect x=\"0\" y=\"0\" width=\"560\" style=\"clip-path:url(#clipPath1); stroke:none;\" height=\"420\"\n",
       "    /></g\n",
       "    ><g\n",
       "    ><image x=\"0\" y=\"0\" width=\"560\" xlink:href=\"data:image/png;base64,iVBORw0KGgoAAAANSUhEUgAAAjAAAAGkCAIAAACgjIjwAAAgvElEQVR42u3dD3TV\n",
       "df34cfzD8R+UCKhlmB0NRcWTRqEZghXHU/kvzX+oB/wTmMAaDBgsYDsMBGOJTCkQ\n",
       "JP4ENjAVDARODOQMQWwDkkDGxEDDVEAEYWyD9Xu3z9f7WxuQ8e/euz0eZ8fz4TLu\n",
       "rve1vZ/3fe/dvQ3+BQAJoIGrAABBAgBBAkCQAECQABAkABAkAAQJAAQJAEECAEEC\n",
       "QJAAQJAAECQAECQABAkABAkAQQIAQQJAkABAkAAQJAAQJAAECQAECQBBAgBBAkCQ\n",
       "AECQABAkABAkAAQJ6q8dO3asXbt2+/btrgoQJIiPffv2de3a9aSTTmrQoMEJJ5xw\n",
       "++2379mzZ+/evf369ZsxY8ZhnOGsWbMaVNOsWbPs7GzXMwgS/BdTp04N2bjtttte\n",
       "fPHFn/zkJ+F42LBhO3fuDAf33XffYQfp2muvHTFiRHp6etOmTcMf33jjDVc1CBIc\n",
       "SshPCEaPHj22bt364Ycf/upXv5ozZ07Lli3DiY0bN77rrrvC5zz55JNf+9rXvvjF\n",
       "L95xxx0ff/zx+PHjL7744s6dO4dTLrrooj/84Q+1g5SWlhb98aGHHgp/DOdZ+3ze\n",
       "e++966+//tRTTw1f6N577w07s4Odczg9/PG000675pprXn/99eiU8Jk9e/Y866yz\n",
       "wiZs2rRptc+t9lc0bgQJEldxcXGTJk1CM0488cRvfvObw4cPLysrmzx5cjilXbt2\n",
       "CxcufP7558Nx165dH3/88YYNG95zzz3hc8Ipbdq0CVUI6Qonbt68uUaQ2rdvn5OT\n",
       "k5GREWrRvHnzEIPa59O/f/9wyu9+97uhQ4eeccYZYa92wHPOz88PJ3bs2PGZZ545\n",
       "//zzw7nt2LEj+swrrrhi4MCBIUItWrSofW61v6JxI0iQ0D744IORI0d+//vfD6t2\n",
       "WMF/9rOfVb/L7u677w7HDz/8cFjZmzZtGlb/KAahVeFvp0+fHo5DwGoE6ZRTTgnl\n",
       "iM7wzjvvPOD55ObmhlPOPvvssKEJW5x9+/Yd8Jx79eoVDkpKSsKJTz/9dDieN29e\n",
       "9JnRo1whnCeddFLtc6v9Fc0aQYLEFZb7733ve2HPEY43bdoUVu3zzjuvepBuvfXW\n",
       "cJyamjrgM9G9fEuXLo3lZ9y4cTWCFN1lF87nqquuCn9cs2ZN7fOpqKiYP39+jx49\n",
       "wr4n/FXY2USZqXHO3bt3DwfvvvtuOPHZZ58Nx+Gvos9ctmxZOPGmm2464YQTwkGN\n",
       "czvgVzRxBAkSVFimw6r94x//+Pnnnw+LeFjZf/CDH3z66afhxNatWy9evHj06NHh\n",
       "uG/fvmHj8p3vfKdTp05RDEIGCgoKOnToEI5Xr159wCAFgwcPDn+cO3du7fO5//77\n",
       "v/CFL4RWvfLKK+GvUlJSDnjOYRsU7dvCiVdeeeXpp5/+/vvv1w5S7XOr/RWNG0GC\n",
       "xFVaWhp2QtHTvoO2bdtGd47dcMMN0R/Ly8s7d+584oknhkX/iiuueOedd6IYhL8K\n",
       "/z355JMzMzOrn+Hs2bPD6X369In+OGXKlPDHJ554ovb5hHh8/etfj75uOCguLj7Y\n",
       "OYdzi+79a9asWQhnOKV6kG6++eZwnrXPrfZXNG4ECRJd2BKtX7++xi/GhlaVlZVF\n",
       "x3v27Nm6dWt0HIvBtm3boiezfX7VzyeorKzcUiUcHPqcwyV57733ok87mBrndsCv\n",
       "CIIEdceIESPCtmP58uVJdM4gSAAgSAAIEgAIEgCCBACCFLNixYrp06dXP6W8vHzy\n",
       "5Mnp6enZ2dnFxcVGDiBIx1b0Sszdu3efNGlS9dMXL16ck5NTUVGxfPnygQMHGjmA\n",
       "IB1bpaWl0Uut1AjSggULohd32bFjR8+ePY0cQJCOhxUrVtQIUmTnzp2jR4+u/Tag\n",
       "XQHqDUGKf5AKCgoGDRq0ZMmS2p+f+BNymV1mV7XLXE8uc10OUllZ2ebNm5ctW5aT\n",
       "k7N7927fVS6zILnMLrMgxSdIJSUl3bp1GzVqVK9evTKqDBs2zHeVyyxILrPLLEgm\n",
       "BGC5EyRBAix3gmRCAJY7QRIkAEEyIQDLnSAJEoAgmRCA5U6QBAlAkEwIwHInSIIE\n",
       "IEgmBGC5EyRBAhAkEwKw3AmSIAEIkgkBWO4ESZAABMmEACx3giRIAIJkQgCWO0ES\n",
       "JABBMiEAy50gmRCAIJkQgOVOkEwIQJBMCMByJ0gmBCBIJgRguRMkEwKw3AmSIAGW\n",
       "O0EyIQDLnSAJEmC5EyQTArDcCZIgAZY7QTIhAMudIAkSIEiCZEIAljtBEiQAQTIh\n",
       "AMudIAkScZE1b2OX59aGjw5jii4YurRB74XhIxxEH+HEz/kR+yfROURnEvvb6Eu4\n",
       "thEkE4J/hyd8hDaEVIQ2hFoc/0gcIn6ihSCZEHVZWN+j/EQBSJZwxrZcsWJFrYqa\n",
       "aqyWO0EyIZKmQFGE6uRuI7bBqnGvoFZZ7gTJhEgI0X4iibZBWoUgmRB1SnSnVvSA\n",
       "kGvjMFrlUSvLnSAJEkdhP6RDRzFXsWcJhlzFWuXqtdwJkiBx0HXT/XLHWfS0wChR\n",
       "1Z8Nb2tluRMkQaqnYnc0uSoSMFc1NlixaEXdci0JUh2xYsWK6dOnC1I93xVFjxK5\n",
       "KpI3WrFt1sF+cTj2pHZXlyAloo8//nj8+PHdu3efNGmSINXbXZEO1ed61fhlrNov\n",
       "nxFlrM7/epYgxV9paenq1atnzJhxwCC1bNmy62e6dOny/29NO64Txxd0+0207rhO\n",
       "HH/+49j9hw1u6BfrWYOHp9XYltW4U7H6yztVf72M6h//Pudx+bHmHZ//r2h9i9Y6\n",
       "QUoIK1assEOqbzeQbYxI8A1cbBt3sI/P//qHB3wtxBofjVNnC5IgcVx57hwckB2S\n",
       "IKFGIEiCJEj1iWcGgyCZEPFPUeyZC4AgmRA2RmC5EyRBqq+i5xS5HkCQTIi4iV52\n",
       "wfUAgmRCxFP0RqiuBxAkEyKepAgEyYRIgO9XL74AgmRCxFfstcJcFSBIJkQ8ayRF\n",
       "IEgmRJx5CgMIkgkRf1IEgmRCxJ976kCQTIiE2BupEQiSCRH/GrkSQJBMiHh/U/Ze\n",
       "KEggSCZEnDdG7qkDQTIhEiJIrgQQJBMiIbZHrgcQJBMinro8t1aNQJBMiPjvjVwJ\n",
       "YLkTJEGK97eg59SB5U6QBMn2CCx3gmRCeBYDWO4ESZASQNa8jRcMXep6AMudIAlS\n",
       "/LdHrgSw3AmSIMW/RoIEljtBEiR7I7DcCZIJ1Xve4ggsd4IkSLZHYLkTJBOi6hdg\n",
       "/Q4sWO4ESZDsjUCQBMmE8PpAYLkTJEGyPQIEyYT4v72R7RFY7gRJkOyNAEEyIfzW\n",
       "EVjuBEmQbI8AQTIh/m9vZHsEljtBEiR7I0CQTIh//avLc2sb9F7oegDLnSAJku0R\n",
       "IEgmhCCB5U6QBCkRUtTlubWuB7DcCZIg2RsBgmRC9Z7neYPlTpAEyfYIECQToipF\n",
       "0YerAix3gvSvysrKadOmpaenZ2VlrVu3Lnb6/v37p0yZ0q9fv8zMzL/97W+CZG8E\n",
       "giRIx1ZRUVFITmlpaWFh4YABA2Knr1q1asiQIeXl5a+99tqgQYMESZBAkATp2MrL\n",
       "y5s7d250nJaWtm3btuh47dq1w4cPr6ioCKHKzs6uPaEY36+H+T3Ue6GnekMidyhZ\n",
       "Vrm6E6SJEycWFBREx1lZWZs3b46Od+/ePXjw4D59+jzyyCP5+fl2SLZHYIckSMfW\n",
       "1KlTY73JyMjYsmVLdDxr1qzJkydXVlZu3bo1NTV1586dgnQU90beDRYESZBqCjXK\n",
       "zc0NByFFKSkp5eXlZWVlYZ+Ul5c3ZcqUcPqePXt69+4duytPkOyNQJAE6ZgI+Rk5\n",
       "cmR6enrYBkX33ZWUlHTr1m379u1DhgwJe6a+ffu+/PLLSTchQQIEyYQ4lAuGLs2a\n",
       "t9H1AJY7QRIk2yNAkEyo3u+NvGwdWO4ESZDsjQBBMiEECSx3giRIifId4xePwHIn\n",
       "SIJkewQIkgnxb12eWytIYLkTJEGyNwIEyYQQJLDcCZIgJQK/eASWO0ESJNsjQJBM\n",
       "CEECy50gmVCC8EJBYLkTJBOyNwIEyYQQJLDcCZIJJdD3hxcKAsudIJmQ7REgSCaE\n",
       "IIHlTpBMKGFS1OW5ta4HsNwJkgnZGwGCZEIIEljuBMmEEsEFQ5dmzdvoegDLnSCZ\n",
       "kO0RIEgmhCCB5U6QTCgRUuTOOrDcCdJ/N3369FtuueXZZ5/Nzc395JNPBMneCBCk\n",
       "OPj1r3998cUX33jjjZmZmWlpaW3atBEkQQIEKQ6uuuqqwsLCnJycEKTwxwsvvPAf\n",
       "//iHIB3dGrm/DgRJkP67a6+9dtGiRVGQdu3a1axZs23btgnSUeSlGUCQBOlzmT17\n",
       "dvPmzdu0aXP11Ve3bt36/vvvrw8TEiRAkBLRqlWrBg0alJKSMnPmzMrKSkE6Wi4Y\n",
       "ulSNQJAEyYQSIkiuBLDcCdJ/16pVq7MP5Mif+S1IggSCJEj/g7fffnv9+vWpqant\n",
       "2rUrKChYs2ZNnz59rrzyyv379wvSUamRIIEgCdL/4LLLLgspiv2xZcuWmzdvFqQj\n",
       "59EjECRB+t9cffXVL7/8cnS8bdu2Jk2afPTRR4IkSIAgHW9Tpkxp1KhR586de/bs\n",
       "+dWvfrVTp071YULHdvy9F4YPQQJBEqT/2WuvvTZgwIBevXrl5eUd+QNIguShIxAk\n",
       "QTocY8eO7fufSktLBUmQAEE63saPH59RpU+fPt/4xjeuvfbasrIyQTpsHcYUCRII\n",
       "kiAdqbA3Ov/883fv3i1Ih81DRyBIgnQUVFRUnHvuucXFxYIkSIAgHW89evS49jOh\n",
       "RpdeemnIkiAdnqx5GwUJBEmQDtOkSZNmzpz5pyqLFi1auHChIB0eDx2BIAnSYdqx\n",
       "Y8fGjRvbtm07a9asjVU2bNjQpEkTr2UnSIAgHVdPPfVUyM/JJ5/cuHHjJp9p165d\n",
       "9XegCMfTpk1LT0/Pyspat25d9X++ZMmSzMzMYcOGrV69WpAECQRJkI7UbbfdVrso\n",
       "MUVFRaE6paWlhYWFAwYMiJ2+adOmUKnt27cXFxcPHjxYkLyUKgiSIB1beXl5c+fO\n",
       "jY7T0tJi727+0ksvzZkzJ9Torbfeqv3ad/UwSJ7LAIIkSIfv+uuvD1F58MEHW/+n\n",
       "nTt3xj5n4sSJBQUF0XFWVlbshcAnTJjQv3//kKuxY8c+/vjjNV5wqGs1ggTUyQ4l\n",
       "yyqXHEFatmzZhx9+uHr16iX/qfqz7KZOnZqfnx8dZ2RkbNmyJRaqmTNnRscDBw6s\n",
       "8Y4V9WqH1GFMUfgQJLBDEqTDd91117U+kOo7pFCj3NzccBBSlJKSUl5eXlZWFvKz\n",
       "aNGisDcKp+/evTstLW3r1q31NkgeOgJBEqQjtXz58mhLtHjx4ilTpowbN+6VV16p\n",
       "sUMK+Rk5cmR6enpqamp0311JSUm3bt3C54wZMyYzMzP81bx585JuQoIECFLCCYFp\n",
       "1arVGWec0bx580aNGk2ePLk+TEiQAEFKOLfcckvPnj2jV/ieP39+48aNvf3E/1Qj\n",
       "jx6BIAnS0XHJJZds2LAh9sfLLrusxi/ACtIhqBEIkiAdNQ888EB2dnZ0vGLFihYt\n",
       "Wng/JEECBCkO7rvvvgYNGpx//vmtW7c+8cQTzz777G9WWbVqlSAdQvTSDIIEgiRI\n",
       "R01hYeGfD2THjh2CdOgg+VEEBMmEBAmw3NW5IOXn57dv3/7Kaqr/YqwgCRIgSMdJ\n",
       "mzZt+vXrt3DhwvzPeIO+z1Mjjx4BgnSUhS3RypUr69uEjpAaAYJ09E2aNOm73/1u\n",
       "9DYTETskQQIEKT7XZpMmTdq2bXvNZ3bt2iVIB+PZ3oAgHSutWrX661//Wt8mdCRB\n",
       "8hMICNIx8eCDD06ZMkWQBAkQpDjr0aNHgwYN2rRpc+1n3GUnSIAgxcGyZcv+VM2Y\n",
       "MWP27NkjSAerkSABgnRshV3R+PHj27ZtG3ZLR/KiQXU7SJ7LAAjSsd0hPfTQQ40a\n",
       "NWratOngwYOLi4vrw4QECRCkBDJmzJjLL7+8SZMm4QrNyMi48cYb68+EDiNF0Ycf\n",
       "P0CQjr7mzZtfeumlb7zxRjieNWvWTTfdJEgH46EjQJCOoTVr1qSmpjZt2vSKK674\n",
       "6U9/KkiCBAhSPJWVleXl5XXs2LFhw4Y/+tGPwvH+/fsFSZAAQYqbd955Z/DgwS1a\n",
       "tPAsu5rj7L1QkABBOt6OfHtU94LkuQyAIJmQIAGWO0ESJEECBMmEEidFagQIkgnF\n",
       "n+cyAIJkQoIEWO4ESZCqdHlubYPeC/28AYJkQvEPkh82QJBMSJAAy50gCZIgAYJk\n",
       "QokgemdYQQIEyYTiHyQ/ZoAgmZAgAZY7QRIkQQIEyYQSp0aCBAiSCcWf5zIAgmRC\n",
       "ggRY7gRJkAQJECQTSpwUqREgSCYUf57LAAiSCQkSYLkTJEGqkjVvoyABgmRC8efR\n",
       "I0CQTEiQAMudIP03lZWV06ZNS09Pz8rKWrduXY2/LS8vz87O3rBhgyABgiRIx1ZR\n",
       "UVFmZmZpaWlhYeGAAQNq/G1oVUpKyvr165M6SB3GFIUPQQIEKaHl5eXNnTs3Ok5L\n",
       "S9u2bVvsr1atWjVu3LixY8cme5A8lwEQpCQwceLEgoKC6DgrK2vz5s3R8Y4dO4YO\n",
       "Hbp79+6DBSlGkIA62aFkWeXqTpCmTp2an58fHWdkZGzZsiU6DnujyZMnL1269LHH\n",
       "HnvhhRd27dplhwTYIQnSMRRqlJubGw5CilJSUsrLy8vKysI+aeXKlYurZGdnz5gx\n",
       "Y+fOnUkaJG82AQhScgj5GTlyZHp6empqanTfXUlJSbdu3WKfELZKxcXFSTehGM9l\n",
       "AATJhAQJsNwJkiAJEiBIJpQgokePBAkQJBOKf5D8LAGCZEKCBFjuBMmEBAkQJBNK\n",
       "nBoJEiBIJhR/nssACJIJCRJguRMkExIkQJBMKHFSpEaAIJlQ/HkuAyBIJiRIgOVO\n",
       "kEyoSta8jYIECJIJxZ9HjwBBMiFBAix3gmRCggQIkgkliA5jisKHIAGCZEJx5rkM\n",
       "gCCZkCABljtBMiFBAgTJhBKqRoIECJIJxZ/nMgCCZEKCBFjuBMmEBAkQJBNKlEn0\n",
       "Xhg+BAkQJBOKM89lAATJhAQJsNwJkgkJEiBIgpQ4E/LrR4AgCVJCTMhzGQBBEiRB\n",
       "Aix3gmRCggQIkiAlyIQuGLo0a95GPyqAIAlS/IPk5wQQJEESJMByJ0gmVPVu5YIE\n",
       "CJIgxX9CnssACJIgCRJguRMkExIkQJAEKUEm5M0mAEESpISYkOcyAIIkSIIEWO4E\n",
       "yYQECRAkQUqcCXmzCUCQBCkhJuS5DIAgCZIgAZY7QTrGKisrp02blp6enpWVtW7d\n",
       "utjp5eXlkydPDqdnZ2cXFxfHd0IdxhSFD0ECBKkuB6moqCgzM7O0tLSwsHDAgAGx\n",
       "0xcvXpyTk1NRUbF8+fKBAwfGd0IeOgIEqe4HKS8vb+7cudFxWlratm3bouMFCxas\n",
       "Xr06HOzYsaNnz56CBAiSIB1bEydOLCgoiI6zsrI2b95c/W937tw5evToGTNm1J5Q\n",
       "jCABdbJDx3OVE6R/mzp1an5+fnSckZGxZcuW2F+FUA0aNGjJkiXxvcng2d6AHVK9\n",
       "CFKoUW5ubjgIKUpJSSkvLy8rKwv7pGXLluXk5OzevTvuE/JcBkCQ6kWQQn5GjhyZ\n",
       "np6empoa3XdXUlLSrVu3UaNG9erVK6PKsGHDBAkQJEGqvxMKKYo+/EgAgiRI8ZyQ\n",
       "h44AQRIkQQIQJBMSJECQBClxJuTZ3oAgCVJCTMhzGQBBEiRBAhAkE/La3oAgCVKC\n",
       "TMhDR4AgCZIgAQiSCQkSIEiClDgT6jCmKGveRj8DgCAJUpwnpEaAIAmSIAEIkgl9\n",
       "9mxv3/2AIAlSnCfUoPdC3/qAIAmSIAEIkglV1UiQAEESpPhPyHMZAEESJEECECQT\n",
       "+uzOOkECBEmQ4h8k3/GAIAmSIAEIkgl5ch0gSIKUIBPy0BEgSIIkSACCZEJVb3rk\n",
       "fY8AQRKk+E/IQ0eAIAmSIAEIkglV8bawgCAJUkJMSI0AQRKkOE8oei6DIAGCJEhx\n",
       "npCHjgBBEiRBAhAkE6pywdClggQIkiDFf0IeOgIESZDiPCEvogoIkiAlSpB8WwOC\n",
       "JEhxnpCHjgBBEqSEmJCHjgBBEqQ4T8ivwQKCJEgJMSH31AGCJEjxn5Bn1gGCJEgJ\n",
       "MSH31AGCJEhxnlCX59aGD9/HgCAJUjwn5EnegCAJUpwnFG2MEvaeusT/rnKZXWyX\n",
       "2WUWpAOorKycNm1aenp6VlbWunXrPs+EEnxj5CfBZXZVu8yClJSKiooyMzNLS0sL\n",
       "CwsHDBhwiAlFG6PEf1dyPwkus6vaZRakpJSXlzd37tzoOC0tbdu2bTUm1LLnhPAR\n",
       "Pbe7K0DdJUhxNnHixIKCgug4Kytr8+bN1f/WU7oBBOk4mTp1an5+fnSckZGxZcsW\n",
       "UwcQpDgINcrNzQ0HIUUpKSnl5eWmDiBIcVBWVjZy5Mj09PTU1NTYfXcACBIACBIA\n",
       "ggQAglTToV++IZGtWLFi+vTpSXSBy8vLJ0+eHK7q7Ozs4uLiZLnMEyZM6NevX7jM\n",
       "b7/9dnJd2+Eyb9iwIVku8IgRI7KqTJw4MYmu5yVLlmRmZg4bNmz16tVJcYHnz5+f\n",
       "VU2NX8cUpDg79Ms3JKaPP/54/Pjx3bt3nzRpUhJd1YsXL87JyamoqFi+fPnAgQOT\n",
       "4jK/+uqrubm5+/btmzNnTrjwSXRth5tZKSkp69evT4pLu2PHjiFDhuytkkRPf920\n",
       "aVO4gbV9+/ZwA2vw4MFJcZnDWvdxlXCLdvjw4fv37xekBHLol29I2G+pcHNsxowZ\n",
       "yRWkBQsWRLciw+rTs2fPZLm9Em2Mwk/vE088kSxX9apVq8aNGzd27NhkCdKaNWtG\n",
       "jx5dUFAQrvCQ/2S5nl966aVwSyXU6K233vroo4+S6Idxz549gwYN2rp1a8Jewnoa\n",
       "pEO/fEMiC0tkcgUpsnPnzrD0hJom0WUOi/ujjz76+uuvJ8tuY+jQobt3706iIOXn\n",
       "5w8bNiz89ze/+c2oUaOS5RtjwoQJ/fv3Dzdqw1X9+OOPJ+xuo7bp06f/6U9/SuRL\n",
       "WE+DlLwv35CMQQrtD7fLlixZkiwXONzsLSsrCwcffPDBL37xi7179yZFPidPnrx0\n",
       "6dLHHnvshRde2LVrVxJ9h4Q1PVzPn3zySbLcnJ05c2Z0PHDgwGS5ORu+JVJSUsJN\n",
       "FkFKxJtmSfryDUkXpGXLluXk5CT4j0EN48ePf/nll8NBWCJ79uyZFBd+5cqVi6tk\n",
       "Z2eHnWjYkib+ZQ6bjOh2YbgFEH4MoxsBiW/RokVhbxQOwjdGWlpaIt8DVuN24dNP\n",
       "P53gF7KeBil5X74h6YI0atSoXr16ZVQZNmxYUlzmcDNlYJW+ffsuXJhk7xoctkrJ\n",
       "8mzGf/7zn2HrHAoafhLDN3ayXMMVFRVjxozJzMwMF3vevHnJcrFD/l966SVBSlzh\n",
       "Bk4SPZTKcfbpp58m0cMDSX09V1ZWJt3F3rt3r28PQQJAkABAkAAQJOBwxPFVqfbu\n",
       "3ZtcL3oEggT/fm5Lg1p69+7drl27IznboqKiIzyHz+n111+/5JJLapxYXl7esmXL\n",
       "d99913wRJEgmlVVyc3Pbt28fHW/durWwsPBIzvOGG244Ps+yDUEK7al9+ogRIx55\n",
       "5BHDrec++eSTsVX++Mc/ChIkjaeeeqpDhw7R8Z///Oe77rpr1qxZd9xxR9joNGrU\n",
       "qHPnzv3792/SpMmXv/zlV155Jfq0kSNHnnfeeeeee+4vf/nL6mdVXFwcTiwpKWnb\n",
       "tu2pp576la98Zdq0aQf7J0OGDAnnGb7E3XffvWfPnqglLVq0OPPMM8Nl2L59e7gY\n",
       "nTp1CrE85ZRTwoUJp4Rkhn9+zjnnhM+57bbboiC9/fbb1b9caOrpp5+eFC8zwbGz\n",
       "Zs2aefPmJcvL1woSHCBIoQFh6Z86dWpY05cvX/7+++9Hwdi2bVtGRsaNN94YPmfO\n",
       "nDkXXXTR3//+982bN1966aV5eXmxswq3RsM/79u376233rpv374XX3yxdevWB/wn\n",
       "YRcV4vTmm29u2bIlfE5OTk740k2bNl25cmUIT8eOHR944IFwMRo2bPjqq6+Gxlx+\n",
       "+eXPPPPMjBkzvvSlL61du/ajjz4KlzkKUu0vF84n/CuTrc8WLFgwZcqU2bNnJ8UL\n",
       "pAkSHCpIN9xwQ3TKJZdcEr3OTYjN9ddfHw5+/vOft2nTpk+Va6655v7774+d1dCh\n",
       "Q8Mfw5mcdtpp99xzT0hI9AIztf9JOCUcx+5dCR555JHevXtHpyxZsiTkKlyM6CtG\n",
       "5/DYY4917do15Cc6Zf78+VGQan+58LV+//vfm2w9tHr16vCNsWLFisLCwnD8zjvv\n",
       "ZGZmJv5v8goSHCpI0WYoCtJrr70WDl544YUoDw8//PAPf/jDpz9T/XWUBw8eHMIQ\n",
       "DjZs2PDkk09ed911zZs3Dzue2v+kS5cusffUeffdd0tKSsLn9O/fPzolLChnnXVW\n",
       "9YsRBemhhx4KG7XolLAHij2GVOPLfetb33r++edNtk6q/l6dtd9xNGydw0Y87OwL\n",
       "CgpKS0vDKcOHD0/8V2UUJDjMIE2ZMuXKK68Me5pww/P222+fMGFC7KyeffbZsAEK\n",
       "8QgLxL+q3n2jYcOGb775Zu1/8tvf/rZVq1bhlLBYhH4899xzkyZNuuCCCz744IPw\n",
       "OWELdeutt9YOUvicCy+8MGyDwkp09913R0Gq/eVCltauXWuydUzt9+o8xDuOhlNG\n",
       "jBgRvrc9qQGSSdiyxII0e/bs9u3bhxLcdNNNBwvSvn37HnjggTPPPPOcc865+eab\n",
       "qz9ovHHjxmbNmr3xxhstWrQIdWnatGmnTp1CYGr/k7KysjvvvPOLX/zi2Weffe+9\n",
       "9+6r0rVr1+iUb3/72+F2bvWL8eijj4abuhUVFZ07d27cuHH4nBDOKEhh6an+5T78\n",
       "8MPTTjstfKbJJq/i4uLwvRSrTvR+gLXfq/PQ7zgavqOS5Q0NBAmOSFgdDvjmQx07\n",
       "dgzLRIjQ+++/X+MTav+TsD2Knl8Xs3fv3nBD+NBfOvyrGudT/cuFjVRYmwwo2f3l\n",
       "L38JTQo1ipUpUv2F/5P3HUcFCY6H5cuXX3PNNfH66mHjFbZ0yfJWPRzaiy++WPvZ\n",
       "ktWDlLzvOCpIcJxs2LAhXl+6oqJi06ZNRlBndkgrV648xA4ped9xVJAAkkNJSUms\n",
       "Q6FJ0WNItYOUvO84KkgAdVAdeMdRQQJAkABAkAAQJAAQJAAECQAECQBBAgBBAkCQ\n",
       "AECQABAkABAkAAQJAA7X/wMe5f86SrnDcQAAAABJRU5ErkJggg==\" style=\"clip-path:url(#clipPath1);\" height=\"420\" preserveAspectRatio=\"none\"\n",
       "    /></g\n",
       "  ></g\n",
       "></svg\n",
       ">\n"
      ]
     },
     "metadata": {
      "filenames": {
       "image/svg+xml": "/Users/eechris/code/src/github.com/cpjobling/eg-247-textbook/_build/jupyter_execute/dt_systems/4/dt_models_107_0.svg"
      }
     },
     "output_type": "display_data"
    }
   ],
   "source": [
    "step(Hz)"
   ]
  },
  {
   "cell_type": "markdown",
   "metadata": {
    "slideshow": {
     "slide_type": "subslide"
    }
   },
   "source": [
    "### Algorithm\n",
    "\n",
    "From previous result:\n",
    "\n",
    "$$H(z) = \\frac{Y(z)}{U(z)} = \\frac{486.6\\times 10^{-6}z +  476.5\\times 10^{-6}}{z^2 - 1.956z + 0.9567}$$\n",
    "\n",
    "Dividing top and bottom by $z^2$ ..."
   ]
  },
  {
   "cell_type": "markdown",
   "metadata": {
    "slideshow": {
     "slide_type": "fragment"
    }
   },
   "source": [
    "$$H(z) = \\frac{Y(z)}{U(z)} = \\frac{486.6\\times 10^{-6}z^{-1} +  476.5\\times 10^{-6}z^{-2}}{1 - 1.956z^{-1} + 0.9567z^{-2}}$$"
   ]
  },
  {
   "cell_type": "markdown",
   "metadata": {
    "slideshow": {
     "slide_type": "subslide"
    }
   },
   "source": [
    "expanding out ...\n",
    "\n",
    "$$\\begin{array}{l}\n",
    "Y(z) - 1.956{z^{ - 1}}Y(z) + 0.9567{z^{ - 2}}Y(z) = \\\\\n",
    "\\quad 486.6 \\times {10^{ - 6}}{z^{ - 1}}U(z) + 476.5 \\times {10^{ - 6}}{z^{ - 2}}U(z)\n",
    "\\end{array}$$"
   ]
  },
  {
   "cell_type": "markdown",
   "metadata": {
    "slideshow": {
     "slide_type": "subslide"
    }
   },
   "source": [
    "Inverse z-transform gives ...\n",
    "\n",
    "$$\\begin{array}{l}\n",
    "y[n] - 1.956y[n - 1] + 0.9567y[n - 2] = \\\\\n",
    "\\quad 486.6 \\times {10^{ - 6}}u[n - 1] + 476.5 \\times {10^{ - 6}}u[n - 2]\n",
    "\\end{array}$$"
   ]
  },
  {
   "cell_type": "markdown",
   "metadata": {
    "slideshow": {
     "slide_type": "fragment"
    }
   },
   "source": [
    "in algorithmic form (compute $y[n]$ from past values of $u$ and $y$) ...\n",
    "\n",
    "$$\\begin{array}{l}\n",
    "y[n] = 1.956y[n - 1] - 0.9567y[n - 2] + 486.6 \\times {10^{ - 6}}u[n - 1] + ...\\\\\n",
    "\\quad 476.5 \\times {10^{ - 6}}u[n - 2]\n",
    "\\end{array}$$"
   ]
  },
  {
   "cell_type": "markdown",
   "metadata": {
    "slideshow": {
     "slide_type": "subslide"
    }
   },
   "source": [
    "### Block Diagram of the digital BW filter\n",
    "\n",
    "![digital filter](pictures/digifilter-bd.png)"
   ]
  },
  {
   "cell_type": "markdown",
   "metadata": {
    "slideshow": {
     "slide_type": "subslide"
    }
   },
   "source": [
    "### As Simulink Model\n",
    "\n",
    "[digifilter.slx](https://cpjobling.github.io/eg-247-textbook/dt_systems/4/matlab/digifilter.slx)"
   ]
  },
  {
   "cell_type": "code",
   "execution_count": 23,
   "metadata": {
    "slideshow": {
     "slide_type": "fragment"
    }
   },
   "outputs": [],
   "source": [
    "open digifilter"
   ]
  },
  {
   "cell_type": "markdown",
   "metadata": {
    "slideshow": {
     "slide_type": "subslide"
    }
   },
   "source": [
    "### Convert to code\n",
    "\n",
    "To implement:\n",
    "$$y[n] = 1.956 y[n-1] - 0.9567 y[n - 2] + 486.6\\times 10^{-6} u[n-1] + 476.5\\times 10^{-6} u[n-2]$$"
   ]
  },
  {
   "cell_type": "markdown",
   "metadata": {
    "slideshow": {
     "slide_type": "subslide"
    }
   },
   "source": [
    "    /* Initialize */\n",
    "    Ts = 2.4933e-07; /* more probably some fraction of clock speed */\n",
    "    ynm1 = 0; ynm2 = 0; unm1 = 0; unm2 = 0;\n",
    "    while (true) {\n",
    "        un = read_adc;\n",
    "        yn = 1.956*ynm1 - 0.9567*ynm2 + 486.6e-6*unm1 + 476.5e-6*unm2;\n",
    "        write_dac(yn);\n",
    "        /* store past values */\n",
    "        ynm2 = ynm1; ynm1 = yn;\n",
    "        unm2 = unm1; unm1 = un;\n",
    "        wait(Ts);\n",
    "    }"
   ]
  },
  {
   "cell_type": "markdown",
   "metadata": {
    "slideshow": {
     "slide_type": "notes"
    }
   },
   "source": [
    "### Comments\n",
    "\n",
    "PC soundcards can sample audio at 44.1 kHz so this implies that the anti-aliasing filter is much sharper than this one as $f_s/2 = 22.05$ kHz.\n",
    "\n",
    "You might wish to find out what order butterworth filter would be needed to have $f_c = 20$ kHz and $f_{\\mathrm{stop}}$ of 22.05 kHz."
   ]
  },
  {
   "cell_type": "markdown",
   "metadata": {
    "slideshow": {
     "slide_type": "slide"
    }
   },
   "source": [
    "## Summary\n",
    "\n",
    "* Discrete Time Systems\n",
    "* Transfer Functions in the Z-Domain\n",
    "* Modelling digital systems in MATLAB/Simulink\n",
    "* Continuous System Equivalents\n",
    "* In-class demonstration: Digital Butterworth Filter"
   ]
  },
  {
   "cell_type": "markdown",
   "metadata": {},
   "source": [
    "## Reference\n",
    "\n",
    "{% bibliography --cited %}"
   ]
  },
  {
   "cell_type": "markdown",
   "metadata": {
    "slideshow": {
     "slide_type": "notes"
    }
   },
   "source": [
    "## Solutions to Example 5"
   ]
  },
  {
   "cell_type": "markdown",
   "metadata": {
    "slideshow": {
     "slide_type": "notes"
    }
   },
   "source": [
    "### Solution to 5.1.\n",
    "\n",
    "The transfer function is\n",
    "\n",
    "$$H(z) = \\frac{Y(z)}{X(z)} = \\frac{z^2 + z}{z^2 - 0.5z + 0.125}$$"
   ]
  },
  {
   "cell_type": "markdown",
   "metadata": {
    "slideshow": {
     "slide_type": "notes"
    }
   },
   "source": [
    "### Solution to 5.2.\n",
    "\n",
    "The DT impulse response:\n",
    "\n",
    "$$h[n] = \\left( \\frac{\\sqrt 2}{4} \\right)^n{\\left( \\cos \\left( \\frac{n\\pi}{4} \\right) + 5\\sin \\left( \\frac{n\\pi}{4} \\right) \\right)}$$"
   ]
  },
  {
   "cell_type": "markdown",
   "metadata": {
    "slideshow": {
     "slide_type": "notes"
    }
   },
   "source": [
    "### Solution to 5.3.\n",
    "\n",
    "Step response:\n",
    "\n",
    "$$y[n] = \\left(3.2 - \\left( \\frac{\\sqrt 2}{4} \\right)^n\\left( 2.2 \\cos \\left( \\frac{n\\pi}{4} \\right) + 0.6\\sin \\left(\\frac{n\\pi}{4} \\right) \\right)\\right) u_0[n]$$"
   ]
  }
 ],
 "metadata": {
  "jupytext": {
   "formats": "ipynb,md:myst",
   "text_representation": {
    "extension": ".md",
    "format_name": "myst",
    "format_version": 0.12,
    "jupytext_version": "1.9.1"
   }
  },
  "kernelspec": {
   "display_name": "MATLAB",
   "language": "matlab",
   "name": "imatlab"
  },
  "language_info": {
   "codemirror_mode": "octave",
   "file_extension": ".m",
   "mimetype": "text/x-matlab",
   "name": "matlab",
   "nbconvert_exporter": "imatlab._exporter.MatlabExporter",
   "pygments_lexer": "matlab",
   "version": "9.9.0.1467703 (R2020b)"
  },
  "source_map": [
   15,
   19,
   31,
   39,
   43,
   47,
   51,
   55,
   59,
   63,
   73,
   79,
   83,
   87,
   91,
   97,
   101,
   107,
   113,
   117,
   128,
   138,
   142,
   146,
   157,
   162,
   168,
   173,
   179,
   185,
   191,
   197,
   203,
   213,
   221,
   227,
   251,
   259,
   283,
   287,
   299,
   303,
   309,
   315,
   319,
   323,
   327,
   331,
   335,
   339,
   344,
   348,
   360,
   364,
   372,
   378,
   382,
   388,
   395,
   399,
   403,
   427,
   433,
   437,
   443,
   447,
   451,
   457,
   466,
   474,
   487,
   495,
   503,
   509,
   515,
   519,
   523,
   527,
   531,
   540,
   546,
   554,
   562,
   570,
   576,
   582,
   590,
   594,
   600,
   604,
   612,
   616,
   622,
   631,
   639,
   643,
   651,
   657,
   661,
   665,
   673,
   679,
   683,
   691,
   695,
   701,
   705,
   709,
   713,
   723,
   727,
   736,
   745,
   754,
   760,
   766,
   774,
   781,
   796,
   804,
   814,
   820,
   824,
   832,
   840
  ]
 },
 "nbformat": 4,
 "nbformat_minor": 4
}