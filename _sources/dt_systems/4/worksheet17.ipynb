{
 "cells": [
  {
   "cell_type": "markdown",
   "id": "dc5234c6",
   "metadata": {
    "slideshow": {
     "slide_type": "slide"
    }
   },
   "source": [
    "# Worksheet 17 \n",
    "\n",
    "## To accompany [Models of Discrete-Time Systems](https://cpjobling.github.io/eg-247-textbook/dt_systems/4/dt_models.html)"
   ]
  },
  {
   "cell_type": "markdown",
   "id": "cd887e02",
   "metadata": {
    "slideshow": {
     "slide_type": "notes"
    }
   },
   "source": [
    "## Colophon\n",
    "\n",
    "This worksheet can be downloaded as a [PDF file](https://cpjobling.github.io/eg-247-textbook/worksheets/worksheet17.pdf). We will step through this worksheet in class. \n",
    "\n",
    "An annotatable copy of the notes for this presentation will be distributed before the second class meeting as **Worksheet 17** in the **Week 9: Classroom Activities** section of the Canvas site. I will also distribute a copy to your personal **Worksheets** section of the **OneNote Class Notebook** so that you can add your own notes using OneNote. \n",
    "\n",
    "You are expected to have at least watched the video presentation of [Models of Discrete-Time Systems](https://cpjobling.github.io/eg-247-textbook/dt_systems/4/dt_models) of the [notes](https://cpjobling.github.io/eg-247-textbook) before coming to class. If you haven't watch it afterwards!\n",
    "\n",
    "After class, the lecture recording and the annotated version of the worksheets will be made available through Canvas."
   ]
  },
  {
   "cell_type": "markdown",
   "id": "b8cb64f5",
   "metadata": {
    "slideshow": {
     "slide_type": "slide"
    }
   },
   "source": [
    "## Agenda"
   ]
  },
  {
   "cell_type": "markdown",
   "id": "3258cecb",
   "metadata": {
    "slideshow": {
     "slide_type": "fragment"
    }
   },
   "source": [
    "* Discrete Time Systems ([Notes](dt_models.html#dts))"
   ]
  },
  {
   "cell_type": "markdown",
   "id": "946dc0b8",
   "metadata": {
    "slideshow": {
     "slide_type": "fragment"
    }
   },
   "source": [
    "* Transfer Functions in the Z-Domain ([Notes](dt_models.html#tf))"
   ]
  },
  {
   "cell_type": "markdown",
   "id": "e9f48d20",
   "metadata": {
    "slideshow": {
     "slide_type": "fragment"
    }
   },
   "source": [
    "* [Modelling digital systems in MATLAB/Simulink](simulink)"
   ]
  },
  {
   "cell_type": "markdown",
   "id": "a95546cc",
   "metadata": {
    "slideshow": {
     "slide_type": "fragment"
    }
   },
   "source": [
    "* [Converting Continuous Time Systems to Discrete Time Systems](cse)"
   ]
  },
  {
   "cell_type": "markdown",
   "id": "6b07428f",
   "metadata": {
    "slideshow": {
     "slide_type": "fragment"
    }
   },
   "source": [
    "* [Example: Digital Butterworth Filter](demo)"
   ]
  },
  {
   "cell_type": "markdown",
   "id": "819938e8",
   "metadata": {
    "slideshow": {
     "slide_type": "slide"
    }
   },
   "source": [
    "## Discrete Time Systems\n",
    "\n",
    "In the lecture that introduced the z-transform we talked about the representation of a discrete-time (DT) system by the model shown below:\n",
    "\n",
    "![Model of a DT system](./pictures/ct-to-dt.png)\n",
    "\n",
    "In this session, we want to explore the contents of the central block."
   ]
  },
  {
   "cell_type": "markdown",
   "id": "42048b21",
   "metadata": {
    "slideshow": {
     "slide_type": "subslide"
    }
   },
   "source": [
    "### Example 5\n",
    "\n",
    "Karris Example 9.10:\n",
    "\n",
    "The difference equation describing the input-output relationship of a DT system with zero initial conditions, is:\n",
    "\n",
    "$$y[n] - 0.5 y[n-1] + 0.125 y[n-2] = x[n] + x[n -1]$$"
   ]
  },
  {
   "cell_type": "markdown",
   "id": "60419adc",
   "metadata": {
    "slideshow": {
     "slide_type": "subslide"
    }
   },
   "source": [
    "Compute:\n",
    "\n",
    "1. The transfer function $H(z)$\n",
    "2. The DT impulse response $h[n]$\n",
    "3. The response $y[n]$ when the input $x[n]$ is the DT unit step $u_0[n]$"
   ]
  },
  {
   "cell_type": "markdown",
   "id": "57e9c5c2",
   "metadata": {
    "slideshow": {
     "slide_type": "subslide"
    }
   },
   "source": [
    "#### 5.1. The transfer function\n",
    "\n",
    "$$H(z) = \\frac{Y(z)}{U(z)} = ...?$$"
   ]
  },
  {
   "cell_type": "markdown",
   "id": "8caec383",
   "metadata": {
    "slideshow": {
     "slide_type": "notes"
    }
   },
   "source": [
    "<pre style=\"border: 2px solid blue\">\n",
    "\n",
    "\n",
    "\n",
    "\n",
    "\n",
    "\n",
    "\n",
    "\n",
    "\n",
    "\n",
    "\n",
    "\n",
    "\n",
    "\n",
    "\n",
    "\n",
    "\n",
    "\n",
    "\n",
    "</pre>"
   ]
  },
  {
   "cell_type": "markdown",
   "id": "5d54e7c3",
   "metadata": {
    "slideshow": {
     "slide_type": "subslide"
    }
   },
   "source": [
    "#### 5.2. The DT impulse response\n",
    "\n",
    "Start with:\n",
    "\n",
    "$$\\frac{H(z)}{z} = \\frac{z + 1}{z^2 + 0.5 z + 0.125}$$"
   ]
  },
  {
   "cell_type": "markdown",
   "id": "c589d2d8",
   "metadata": {
    "slideshow": {
     "slide_type": "notes"
    }
   },
   "source": [
    "<pre style=\"border: 2px solid blue\">\n",
    "\n",
    "\n",
    "\n",
    "\n",
    "\n",
    "\n",
    "\n",
    "\n",
    "\n",
    "\n",
    "\n",
    "\n",
    "\n",
    "\n",
    "\n",
    "\n",
    "\n",
    "\n",
    "\n",
    "</pre>"
   ]
  },
  {
   "cell_type": "markdown",
   "id": "5a48562c",
   "metadata": {
    "slideshow": {
     "slide_type": "subslide"
    }
   },
   "source": [
    "##### MATLAB Solution"
   ]
  },
  {
   "cell_type": "code",
   "execution_count": null,
   "id": "dc7c3fc9",
   "metadata": {
    "slideshow": {
     "slide_type": "fragment"
    }
   },
   "outputs": [],
   "source": [
    "clear all\n",
    "imatlab_export_fig('print-svg')  % Static svg figures.\n",
    "cd matlab\n",
    "pwd\n",
    "format compact"
   ]
  },
  {
   "cell_type": "markdown",
   "id": "23536240",
   "metadata": {
    "slideshow": {
     "slide_type": "fragment"
    }
   },
   "source": [
    "See [dtm_ex1_2.mlx](https://cpjobling.github.io/eg-247-textbook/dt_systems/4/matlab/dtm_ex1_2.mlx). (Also available as [dtm_ex1_2.m](https://cpjobling.github.io/eg-247-textbook/dt_systems/4/matlab/dtm_ex1_2.m).)"
   ]
  },
  {
   "cell_type": "markdown",
   "id": "9abc8fb2",
   "metadata": {
    "slideshow": {
     "slide_type": "subslide"
    }
   },
   "source": [
    "The difference equation describing the input-output relationship of the DT system with zero initial conditions, is:\n",
    "\n",
    "$$y[n] - 0.5 y[n-1] + 0.125 y[n-2] = x[n] + x[n -1]$$"
   ]
  },
  {
   "cell_type": "markdown",
   "id": "db22e512",
   "metadata": {
    "slideshow": {
     "slide_type": "subslide"
    }
   },
   "source": [
    "###### Transfer function\n",
    "\n",
    "Numerator $z^2 + z$"
   ]
  },
  {
   "cell_type": "code",
   "execution_count": null,
   "id": "cff3405b",
   "metadata": {},
   "outputs": [],
   "source": [
    "Nz = [1 1 0];"
   ]
  },
  {
   "cell_type": "markdown",
   "id": "f85bf578",
   "metadata": {
    "slideshow": {
     "slide_type": "fragment"
    }
   },
   "source": [
    "Denominator $z^2 - 0.5 z + 0.125$"
   ]
  },
  {
   "cell_type": "code",
   "execution_count": null,
   "id": "7184e03e",
   "metadata": {},
   "outputs": [],
   "source": [
    "Dz = [1 -0.5 0.125];"
   ]
  },
  {
   "cell_type": "markdown",
   "id": "66452487",
   "metadata": {
    "slideshow": {
     "slide_type": "subslide"
    }
   },
   "source": [
    "###### Poles and residues"
   ]
  },
  {
   "cell_type": "code",
   "execution_count": null,
   "id": "1cb0a22e",
   "metadata": {},
   "outputs": [],
   "source": [
    "[r,p,k] = residue(Nz,Dz)"
   ]
  },
  {
   "cell_type": "markdown",
   "id": "306fac03",
   "metadata": {
    "slideshow": {
     "slide_type": "subslide"
    }
   },
   "source": [
    "###### Impulse Response"
   ]
  },
  {
   "cell_type": "code",
   "execution_count": null,
   "id": "0f238820",
   "metadata": {},
   "outputs": [],
   "source": [
    "Hz = tf(Nz,Dz,-1)\n",
    "hn = impulse(Hz, 15);"
   ]
  },
  {
   "cell_type": "markdown",
   "id": "ef04a699",
   "metadata": {
    "slideshow": {
     "slide_type": "subslide"
    }
   },
   "source": [
    "###### Plot the response"
   ]
  },
  {
   "cell_type": "code",
   "execution_count": null,
   "id": "41cd29a7",
   "metadata": {
    "slideshow": {
     "slide_type": "-"
    }
   },
   "outputs": [],
   "source": [
    "stem([0:15], hn)\n",
    "grid\n",
    "title('Example 5 - Part 2')\n",
    "xlabel('n')\n",
    "ylabel('Impulse response h[n]')"
   ]
  },
  {
   "cell_type": "markdown",
   "id": "1411436e",
   "metadata": {
    "slideshow": {
     "slide_type": "subslide"
    }
   },
   "source": [
    "###### Response as stepwise continuous y(t)"
   ]
  },
  {
   "cell_type": "code",
   "execution_count": null,
   "id": "8b46f1db",
   "metadata": {},
   "outputs": [],
   "source": [
    "impulse(Hz,15)\n",
    "grid\n",
    "title('Example 5 - Part 2 - As Analogue Signal')\n",
    "xlabel('nTs [s]')\n",
    "ylabel('Impulse response h(t)')"
   ]
  },
  {
   "cell_type": "markdown",
   "id": "95d3df66",
   "metadata": {
    "slideshow": {
     "slide_type": "slide"
    }
   },
   "source": [
    "#### 5.3. The DT step response\n",
    "\n",
    "$$Y(z) = H(z)X(z)$$"
   ]
  },
  {
   "cell_type": "markdown",
   "id": "8d85d168",
   "metadata": {
    "slideshow": {
     "slide_type": "fragment"
    }
   },
   "source": [
    "$$u_0[n] \\Leftrightarrow \\frac{z}{z - 1}$$"
   ]
  },
  {
   "cell_type": "markdown",
   "id": "c7093e7c",
   "metadata": {
    "slideshow": {
     "slide_type": "subslide"
    }
   },
   "source": [
    "$$\\begin{array}{lcl}\n",
    "Y(z) = H(z){U_0}(z) &=& \\frac{z^2 + z}{z^2 + 0.5z + 0.125}.\\frac{z}{z - 1}\\\\\n",
    " & = & \\frac{z(z^2 + z)}{(z^2 + 0.5z + 0.125)(z - 1)}\n",
    "\\end{array}$$"
   ]
  },
  {
   "cell_type": "markdown",
   "id": "a5927cd5",
   "metadata": {
    "slideshow": {
     "slide_type": "subslide"
    }
   },
   "source": [
    "$$\\frac{Y(z)}{z} = \\frac{z^2 + z}{(z^2 + 0.5 z + 0.125)(z - 1)}$$"
   ]
  },
  {
   "cell_type": "markdown",
   "id": "1485e152",
   "metadata": {
    "slideshow": {
     "slide_type": "fragment"
    }
   },
   "source": [
    "Solved by inverse Z-transform."
   ]
  },
  {
   "cell_type": "markdown",
   "id": "97e6175c",
   "metadata": {
    "slideshow": {
     "slide_type": "notes"
    }
   },
   "source": [
    "<pre style=\"border: 2px solid blue\">\n",
    "\n",
    "\n",
    "\n",
    "\n",
    "\n",
    "\n",
    "\n",
    "\n",
    "\n",
    "\n",
    "\n",
    "\n",
    "\n",
    "\n",
    "\n",
    "\n",
    "\n",
    "\n",
    "\n",
    "</pre>"
   ]
  },
  {
   "cell_type": "markdown",
   "id": "290943d2",
   "metadata": {
    "slideshow": {
     "slide_type": "subslide"
    }
   },
   "source": [
    "#### MATLAB Solution\n",
    "\n",
    "See [dtm_ex1_3.mlx](https://cpjobling.github.io/eg-247-textbook/dt_systems/4/matlab/dtm_ex1_3.mlx). (Also available as [dtm_ex1_3.m](https://cpjobling.github.io/eg-247-textbook/dt_systems/4/matlab/dtm_ex1_3.m).)"
   ]
  },
  {
   "cell_type": "code",
   "execution_count": null,
   "id": "3c444b86",
   "metadata": {},
   "outputs": [],
   "source": [
    "open dtm_ex1_3"
   ]
  },
  {
   "cell_type": "markdown",
   "id": "adf514b2",
   "metadata": {
    "slideshow": {
     "slide_type": "notes"
    }
   },
   "source": [
    "##### Results\n",
    "\n",
    "![Results](./pictures/dtm_ex1_3_1.png)"
   ]
  },
  {
   "cell_type": "markdown",
   "id": "6f87ec4b",
   "metadata": {
    "slideshow": {
     "slide_type": "slide"
    }
   },
   "source": [
    "(simulink)=\n",
    "## Modelling DT systems in MATLAB and Simulink"
   ]
  },
  {
   "cell_type": "markdown",
   "id": "2ec93ac2",
   "metadata": {
    "slideshow": {
     "slide_type": "fragment"
    }
   },
   "source": [
    "We will consider some examples in class"
   ]
  },
  {
   "cell_type": "markdown",
   "id": "4b42e77d",
   "metadata": {
    "slideshow": {
     "slide_type": "subslide"
    }
   },
   "source": [
    "### MATLAB\n",
    "\n",
    "Code extracted from [dtm_ex1_3.m](https://cpjobling.github.io/eg-247-textbook/dt_systems/4/matlab/dtm_ex1_3.m):"
   ]
  },
  {
   "cell_type": "code",
   "execution_count": null,
   "id": "67c2c7ca",
   "metadata": {
    "slideshow": {
     "slide_type": "fragment"
    }
   },
   "outputs": [],
   "source": [
    "Ts = 1;\n",
    "z = tf('z', Ts);"
   ]
  },
  {
   "cell_type": "code",
   "execution_count": null,
   "id": "7c16d201",
   "metadata": {
    "slideshow": {
     "slide_type": "fragment"
    }
   },
   "outputs": [],
   "source": [
    "Hz = (z^2 + z)/(z^2 - 0.5 * z + 0.125)"
   ]
  },
  {
   "cell_type": "code",
   "execution_count": null,
   "id": "8b63eea6",
   "metadata": {
    "slideshow": {
     "slide_type": "subslide"
    }
   },
   "outputs": [],
   "source": [
    "step(Hz)\n",
    "grid\n",
    "title('Example 1 - Part 3 - As Analogue Signal')\n",
    "xlabel('nTs [s]')\n",
    "ylabel('Step response y(t)')\n",
    "axis([0,15,0,3.5])"
   ]
  },
  {
   "cell_type": "markdown",
   "id": "b8a0d934",
   "metadata": {
    "slideshow": {
     "slide_type": "subslide"
    }
   },
   "source": [
    "### Simulink Model\n",
    "\n",
    "See [dtm.slx](https://cpjobling.github.io/eg-247-textbook/dt_systems/4/matlab/dtm.slx):\n",
    "\n",
    "![Simulink model](./pictures/simulink_model.png)"
   ]
  },
  {
   "cell_type": "code",
   "execution_count": null,
   "id": "b9a5af2f",
   "metadata": {
    "slideshow": {
     "slide_type": "fragment"
    }
   },
   "outputs": [],
   "source": [
    "dtm"
   ]
  },
  {
   "cell_type": "markdown",
   "id": "27c8d73e",
   "metadata": {
    "slideshow": {
     "slide_type": "notes"
    }
   },
   "source": [
    "#### Results\n",
    "\n",
    "![Simulink results](./pictures/scope.png)"
   ]
  },
  {
   "cell_type": "markdown",
   "id": "bba90e4c",
   "metadata": {
    "slideshow": {
     "slide_type": "slide"
    }
   },
   "source": [
    "(cse)=\n",
    "## Converting Continuous Time Systems to Discrete Time Systems"
   ]
  },
  {
   "cell_type": "markdown",
   "id": "d1c0b780",
   "metadata": {
    "slideshow": {
     "slide_type": "subslide"
    }
   },
   "source": [
    "### Continuous System Equivalents\n",
    "\n",
    "* There is no digital system that uniquely represents a continuous system\n",
    "* This is because as we are sampling, we only have knowledge of signals being processed at the sampling instants, and need to *reconstruct* the inter-sample behaviour.\n",
    "* In practice, only a small number of transformations are used.\n",
    "* The derivation of these is beyond the scope of this module, but here we'll demonstrate the ones that MATLAB provides in a function called `c2d`"
   ]
  },
  {
   "cell_type": "markdown",
   "id": "92c61d08",
   "metadata": {
    "slideshow": {
     "slide_type": "subslide"
    }
   },
   "source": [
    "### MATLAB c2d function\n",
    "\n",
    "Let's see what the help function says:"
   ]
  },
  {
   "cell_type": "code",
   "execution_count": null,
   "id": "4cb25fa2",
   "metadata": {
    "slideshow": {
     "slide_type": "notes"
    }
   },
   "outputs": [],
   "source": [
    "help c2d"
   ]
  },
  {
   "cell_type": "markdown",
   "id": "1a7b6f0d",
   "metadata": {
    "slideshow": {
     "slide_type": "subslide"
    }
   },
   "source": [
    "(demo)=\n",
    "## Example: Digital Butterworth Filter\n",
    "\n",
    "* Design a 2nd-order butterworth low-pass anti-aliasing filter with transfer function $H(s)$ for use in sampling music. \n",
    "* The cut-off frequency $\\omega_c = 20$&nbsp;kHz and the filter should have an attenuation of at least $-80$&nbsp;dB in the stop band. \n",
    "* Choose a suitable sampling frequency for the audio signal and give the transfer function $H(z)$ and an algorithm to implement $h[n]$"
   ]
  },
  {
   "cell_type": "markdown",
   "id": "b765b176",
   "metadata": {
    "slideshow": {
     "slide_type": "subslide"
    }
   },
   "source": [
    "### Solution\n",
    "\n",
    "See [digi_butter.mlx](https://cpjobling.github.io/eg-247-textbook/dt_systems/4/matlab/digi_butter.mlx)."
   ]
  },
  {
   "cell_type": "markdown",
   "id": "4a288726",
   "metadata": {
    "slideshow": {
     "slide_type": "subslide"
    }
   },
   "source": [
    "First determine the cut-off frequency $\\omega_c$\n",
    "\n",
    "$$\\omega_c = 2\\pi f_c = 2\\times \\pi \\times 20\\times 10^3\\;\\mathrm{rad/s}$$"
   ]
  },
  {
   "cell_type": "code",
   "execution_count": null,
   "id": "6b991eca",
   "metadata": {
    "slideshow": {
     "slide_type": "fragment"
    }
   },
   "outputs": [],
   "source": [
    "wc = 2*pi*20e3"
   ]
  },
  {
   "cell_type": "markdown",
   "id": "506c0211",
   "metadata": {
    "slideshow": {
     "slide_type": "fragment"
    }
   },
   "source": [
    "$$\\omega_c = 125.66\\times 10^3\\;\\mathrm{rad/s}$$"
   ]
  },
  {
   "cell_type": "markdown",
   "id": "06420fe3",
   "metadata": {
    "slideshow": {
     "slide_type": "subslide"
    }
   },
   "source": [
    "From the lecture on filters, we know the 2nd-order butterworth filter has transfer function:\n",
    "\n",
    "$$H(s) = \\frac{Y(s)}{U(s)} = \\frac{\\omega _c^2}{s^2 + \\omega _c\\sqrt 2 \\,s + \\omega _c^2}$$"
   ]
  },
  {
   "cell_type": "markdown",
   "id": "8a243d7c",
   "metadata": {
    "slideshow": {
     "slide_type": "fragment"
    }
   },
   "source": [
    "Substituting for $\\omega_c = 125.6637\\times 10^3 $ this is ...?"
   ]
  },
  {
   "cell_type": "code",
   "execution_count": null,
   "id": "680c54ac",
   "metadata": {
    "slideshow": {
     "slide_type": "fragment"
    }
   },
   "outputs": [],
   "source": [
    "Hs = tf(wc^2,[1 wc*sqrt(2), wc^2])"
   ]
  },
  {
   "cell_type": "markdown",
   "id": "813815ef",
   "metadata": {
    "slideshow": {
     "slide_type": "subslide"
    }
   },
   "source": [
    "$$H(s) = \\frac{15.79 \\times 10^9}{s^2 + 177.7 \\times 10^3 s + 15.79 \\times 10^9}$$"
   ]
  },
  {
   "cell_type": "markdown",
   "id": "125627d6",
   "metadata": {
    "slideshow": {
     "slide_type": "subslide"
    }
   },
   "source": [
    "#### Bode plot\n",
    "\n",
    "MATLAB:"
   ]
  },
  {
   "cell_type": "code",
   "execution_count": null,
   "id": "687c8566",
   "metadata": {
    "slideshow": {
     "slide_type": "subslide"
    }
   },
   "outputs": [],
   "source": [
    "bode(Hs,{1e4,1e8})\n",
    "grid"
   ]
  },
  {
   "cell_type": "markdown",
   "id": "bbb3a364",
   "metadata": {
    "slideshow": {
     "slide_type": "subslide"
    }
   },
   "source": [
    "#### Sampling Frequency\n",
    "\n",
    "From the bode diagram, the frequency at which $|H(j\\omega)|$ is $-80$&nbsp;dB is approx $12.6\\times 10^6$&nbsp;rad/s.\n",
    "\n",
    "To avoid aliasing, we should choose a sampling frequency twice this = ?"
   ]
  },
  {
   "cell_type": "markdown",
   "id": "81e2504a",
   "metadata": {
    "slideshow": {
     "slide_type": "fragment"
    }
   },
   "source": [
    "$\\omega_s = 2\\times 12.6\\times 10^6$&nbsp;rad/s."
   ]
  },
  {
   "cell_type": "code",
   "execution_count": null,
   "id": "f9756f8b",
   "metadata": {
    "slideshow": {
     "slide_type": "fragment"
    }
   },
   "outputs": [],
   "source": [
    "ws = 2* 12.6e6"
   ]
  },
  {
   "cell_type": "markdown",
   "id": "f9dac1a5",
   "metadata": {
    "slideshow": {
     "slide_type": "subslide"
    }
   },
   "source": [
    "So\n",
    "\n",
    "$\\omega_s = 25.2\\times 10^6$&nbsp;rad/s."
   ]
  },
  {
   "cell_type": "markdown",
   "id": "175ef55a",
   "metadata": {
    "slideshow": {
     "slide_type": "fragment"
    }
   },
   "source": [
    "Sampling frequency ($f_s$) in Hz  = ?"
   ]
  },
  {
   "cell_type": "markdown",
   "id": "1f7c61b3",
   "metadata": {
    "slideshow": {
     "slide_type": "fragment"
    }
   },
   "source": [
    "$$f_s = \\omega_s/(2\\pi)\\;\\mathrm{Mhz}$$"
   ]
  },
  {
   "cell_type": "code",
   "execution_count": null,
   "id": "cbd4ab2c",
   "metadata": {
    "slideshow": {
     "slide_type": "fragment"
    }
   },
   "outputs": [],
   "source": [
    "fs = ws/(2*pi)"
   ]
  },
  {
   "cell_type": "markdown",
   "id": "62ee64d3",
   "metadata": {
    "slideshow": {
     "slide_type": "subslide"
    }
   },
   "source": [
    "$$f_s = 40.11\\;\\mathrm{Mhz}$$\n",
    "\n",
    "Sampling time $T_s = ?$"
   ]
  },
  {
   "cell_type": "markdown",
   "id": "c7dd6b05",
   "metadata": {
    "slideshow": {
     "slide_type": "fragment"
    }
   },
   "source": [
    "$T_s = 1/fs\\;\\mathrm{s}$"
   ]
  },
  {
   "cell_type": "code",
   "execution_count": null,
   "id": "9bcb02b8",
   "metadata": {
    "slideshow": {
     "slide_type": "fragment"
    }
   },
   "outputs": [],
   "source": [
    "Ts = 1/fs"
   ]
  },
  {
   "cell_type": "markdown",
   "id": "9aa0d32c",
   "metadata": {
    "slideshow": {
     "slide_type": "subslide"
    }
   },
   "source": [
    "$$T_s = 1/f_s \\approx 0.25\\;\\mu\\mathrm{s}$$"
   ]
  },
  {
   "cell_type": "markdown",
   "id": "a40c67bc",
   "metadata": {
    "slideshow": {
     "slide_type": "subslide"
    }
   },
   "source": [
    "#### Digital Butterworth\n",
    "\n",
    "zero-order-hold equivalent"
   ]
  },
  {
   "cell_type": "code",
   "execution_count": null,
   "id": "f7d24ada",
   "metadata": {},
   "outputs": [],
   "source": [
    "Hz = c2d(Hs, Ts)"
   ]
  },
  {
   "cell_type": "markdown",
   "id": "66fea0c3",
   "metadata": {
    "slideshow": {
     "slide_type": "subslide"
    }
   },
   "source": [
    "#### Step response"
   ]
  },
  {
   "cell_type": "code",
   "execution_count": null,
   "id": "13f9343a",
   "metadata": {},
   "outputs": [],
   "source": [
    "step(Hz)"
   ]
  },
  {
   "cell_type": "markdown",
   "id": "0b33dbbd",
   "metadata": {
    "slideshow": {
     "slide_type": "subslide"
    }
   },
   "source": [
    "#### Algorithm\n",
    "\n",
    "From previous result:\n",
    "\n",
    "$$H(z) = \\frac{Y(z)}{U(z)} = \\frac{486.6\\times 10^{-6}z +  476.5\\times 10^{-6}}{z^2 - 1.956z + 0.9567}$$\n",
    "\n",
    "Dividing top and bottom by $z^2$ ..."
   ]
  },
  {
   "cell_type": "markdown",
   "id": "1756459e",
   "metadata": {
    "slideshow": {
     "slide_type": "fragment"
    }
   },
   "source": [
    "$$H(z) = \\frac{Y(z)}{U(z)} = \\frac{486.6\\times 10^{-6}z^{-1} +  476.5\\times 10^{-6}z^{-2}}{1 - 1.956z^{-1} + 0.9567z^{-2}}$$"
   ]
  },
  {
   "cell_type": "markdown",
   "id": "8980987f",
   "metadata": {
    "slideshow": {
     "slide_type": "subslide"
    }
   },
   "source": [
    "expanding out ...\n",
    "\n",
    "$$\\begin{array}{l}\n",
    "Y(z) - 1.956{z^{ - 1}}Y(z) + 0.9567{z^{ - 2}}Y(z) = \\\\\n",
    "\\quad 486.6 \\times {10^{ - 6}}{z^{ - 1}}U(z) + 476.5 \\times {10^{ - 6}}{z^{ - 2}}U(z)\n",
    "\\end{array}$$"
   ]
  },
  {
   "cell_type": "markdown",
   "id": "ae859812",
   "metadata": {
    "slideshow": {
     "slide_type": "subslide"
    }
   },
   "source": [
    "Inverse z-transform gives ...\n",
    "\n",
    "$$\\begin{array}{l}\n",
    "y[n] - 1.956y[n - 1] + 0.9567y[n - 2] = \\\\\n",
    "\\quad 486.6 \\times {10^{ - 6}}u[n - 1] + 476.5 \\times {10^{ - 6}}u[n - 2]\n",
    "\\end{array}$$"
   ]
  },
  {
   "cell_type": "markdown",
   "id": "57c4051f",
   "metadata": {
    "slideshow": {
     "slide_type": "fragment"
    }
   },
   "source": [
    "in algorithmic form (compute $y[n]$ from past values of $u$ and $y$) ...\n",
    "\n",
    "$$\\begin{array}{l}\n",
    "y[n] = 1.956y[n - 1] - 0.9567y[n - 2] + 486.6 \\times {10^{ - 6}}u[n - 1] + ...\\\\\n",
    "\\quad 476.5 \\times {10^{ - 6}}u[n - 2]\n",
    "\\end{array}$$"
   ]
  },
  {
   "cell_type": "markdown",
   "id": "64f5a780",
   "metadata": {
    "slideshow": {
     "slide_type": "subslide"
    }
   },
   "source": [
    "#### Block Diagram of the digital BW filter\n",
    "\n",
    "![digital filter](pictures/digifilter-bd.png)"
   ]
  },
  {
   "cell_type": "markdown",
   "id": "f1bdf466",
   "metadata": {
    "slideshow": {
     "slide_type": "subslide"
    }
   },
   "source": [
    "#### As Simulink Model\n",
    "\n",
    "[digifilter.slx](https://cpjobling.github.io/eg-247-textbook/dt_systems/4/matlab/digifilter.slx)"
   ]
  },
  {
   "cell_type": "code",
   "execution_count": null,
   "id": "8c3f0a22",
   "metadata": {
    "slideshow": {
     "slide_type": "fragment"
    }
   },
   "outputs": [],
   "source": [
    "open digifilter"
   ]
  },
  {
   "cell_type": "markdown",
   "id": "9e3aeb3b",
   "metadata": {
    "slideshow": {
     "slide_type": "subslide"
    }
   },
   "source": [
    "#### Convert to code\n",
    "\n",
    "To implement:\n",
    "\n",
    "$$y[n] = 1.956 y[n-1] - 0.9567 y[n - 2] + 486.6\\times 10^{-6} u[n-1] + 476.5\\times 10^{-6} u[n-2]$$"
   ]
  },
  {
   "cell_type": "markdown",
   "id": "fcfbd6a1",
   "metadata": {
    "slideshow": {
     "slide_type": "subslide"
    }
   },
   "source": [
    "    /* Initialize */\n",
    "    Ts = 2.4933e-07; /* more probably some fraction of clock speed */\n",
    "    ynm1 = 0; ynm2 = 0; unm1 = 0; unm2 = 0;\n",
    "    while (true) {\n",
    "        un = read_adc;\n",
    "        yn = 1.956*ynm1 - 0.9567*ynm2 + 486.6e-6*unm1 + 476.5e-6*unm2;\n",
    "        write_dac(yn);\n",
    "        /* store past values */\n",
    "        ynm2 = ynm1; ynm1 = yn;\n",
    "        unm2 = unm1; unm1 = un;\n",
    "        wait(Ts);\n",
    "    }"
   ]
  }
 ],
 "metadata": {
  "jupytext": {
   "formats": "ipynb,md:myst",
   "text_representation": {
    "extension": ".md",
    "format_name": "myst",
    "format_version": 0.13,
    "jupytext_version": "1.11.5"
   }
  },
  "kernelspec": {
   "display_name": "MATLAB",
   "language": "matlab",
   "name": "imatlab"
  },
  "source_map": [
   15,
   21,
   33,
   37,
   41,
   45,
   49,
   53,
   57,
   67,
   77,
   85,
   91,
   115,
   123,
   147,
   151,
   163,
   167,
   173,
   179,
   183,
   187,
   191,
   195,
   199,
   203,
   208,
   212,
   224,
   228,
   236,
   242,
   246,
   253,
   257,
   261,
   285,
   291,
   295,
   301,
   306,
   310,
   316,
   325,
   333,
   346,
   354,
   362,
   368,
   373,
   382,
   388,
   396,
   405,
   411,
   417,
   425,
   429,
   435,
   439,
   447,
   451,
   457,
   466,
   474,
   478,
   486,
   492,
   496,
   500,
   508,
   514,
   518,
   526,
   530,
   536,
   540,
   544,
   548,
   558,
   562,
   571,
   580,
   589,
   595,
   601,
   609,
   617
  ]
 },
 "nbformat": 4,
 "nbformat_minor": 5
}