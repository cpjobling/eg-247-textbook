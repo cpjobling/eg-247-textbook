{
 "cells": [
  {
   "cell_type": "markdown",
   "id": "a5063e85",
   "metadata": {
    "slideshow": {
     "slide_type": "slide"
    }
   },
   "source": [
    "# Worksheet 17 \n",
    "\n",
    "## To accompany [Models of Discrete-Time Systems](https://cpjobling.github.io/eg-247-textbook/dt_systems/4/dt_models.html)"
   ]
  },
  {
   "cell_type": "markdown",
   "id": "92492ab0",
   "metadata": {
    "slideshow": {
     "slide_type": "notes"
    }
   },
   "source": [
    "## Colophon\n",
    "\n",
    "This worksheet can be downloaded as a [PDF file](https://cpjobling.github.io/eg-247-textbook/worksheets/worksheet17.pdf). We will step through this worksheet in class. \n",
    "\n",
    "An annotatable copy of the notes for this presentation will be distributed before the second class meeting as **Worksheet 17** in the **Week 9: Classroom Activities** section of the Canvas site. I will also distribute a copy to your personal **Worksheets** section of the **OneNote Class Notebook** so that you can add your own notes using OneNote. \n",
    "\n",
    "You are expected to have at least watched the video presentation of [Models of Discrete-Time Systems](https://cpjobling.github.io/eg-247-textbook/dt_systems/4/dt_models) of the [notes](https://cpjobling.github.io/eg-247-textbook) before coming to class. If you haven't watch it afterwards!\n",
    "\n",
    "After class, the lecture recording and the annotated version of the worksheets will be made available through Canvas."
   ]
  },
  {
   "cell_type": "markdown",
   "id": "c30a5d03",
   "metadata": {
    "slideshow": {
     "slide_type": "slide"
    }
   },
   "source": [
    "## Agenda"
   ]
  },
  {
   "cell_type": "markdown",
   "id": "1908b59d",
   "metadata": {
    "slideshow": {
     "slide_type": "fragment"
    }
   },
   "source": [
    "* Discrete Time Systems ([Notes](dt_models.html#dts))"
   ]
  },
  {
   "cell_type": "markdown",
   "id": "d9bd69d4",
   "metadata": {
    "slideshow": {
     "slide_type": "fragment"
    }
   },
   "source": [
    "* Transfer Functions in the Z-Domain ([Notes](dt_models.html#tf))"
   ]
  },
  {
   "cell_type": "markdown",
   "id": "44109501",
   "metadata": {
    "slideshow": {
     "slide_type": "fragment"
    }
   },
   "source": [
    "* [Modelling digital systems in MATLAB/Simulink](simulink)"
   ]
  },
  {
   "cell_type": "markdown",
   "id": "f5154863",
   "metadata": {
    "slideshow": {
     "slide_type": "fragment"
    }
   },
   "source": [
    "* [Converting Continuous Time Systems to Discrete Time Systems](cse)"
   ]
  },
  {
   "cell_type": "markdown",
   "id": "45b37acd",
   "metadata": {
    "slideshow": {
     "slide_type": "fragment"
    }
   },
   "source": [
    "* [Example: Digital Butterworth Filter](demo)"
   ]
  },
  {
   "cell_type": "markdown",
   "id": "24cc8ab3",
   "metadata": {
    "slideshow": {
     "slide_type": "slide"
    }
   },
   "source": [
    "## Discrete Time Systems\n",
    "\n",
    "In the lecture that introduced the z-transform we talked about the representation of a discrete-time (DT) system by the model shown below:\n",
    "\n",
    "![Model of a DT system](./pictures/ct-to-dt.png)\n",
    "\n",
    "In this session, we want to explore the contents of the central block."
   ]
  },
  {
   "cell_type": "markdown",
   "id": "cf013e6e",
   "metadata": {
    "slideshow": {
     "slide_type": "subslide"
    }
   },
   "source": [
    "### Example 5\n",
    "\n",
    "Karris Example 9.10:\n",
    "\n",
    "The difference equation describing the input-output relationship of a DT system with zero initial conditions, is:\n",
    "\n",
    "$$y[n] - 0.5 y[n-1] + 0.125 y[n-2] = x[n] + x[n -1]$$"
   ]
  },
  {
   "cell_type": "markdown",
   "id": "2faf53fb",
   "metadata": {
    "slideshow": {
     "slide_type": "subslide"
    }
   },
   "source": [
    "Compute:\n",
    "\n",
    "1. The transfer function $H(z)$\n",
    "2. The DT impulse response $h[n]$\n",
    "3. The response $y[n]$ when the input $x[n]$ is the DT unit step $u_0[n]$"
   ]
  },
  {
   "cell_type": "markdown",
   "id": "61980f49",
   "metadata": {
    "slideshow": {
     "slide_type": "subslide"
    }
   },
   "source": [
    "#### 5.1. The transfer function\n",
    "\n",
    "$$H(z) = \\frac{Y(z)}{U(z)} = ...?$$"
   ]
  },
  {
   "cell_type": "markdown",
   "id": "3003fe43",
   "metadata": {
    "slideshow": {
     "slide_type": "notes"
    }
   },
   "source": [
    "<pre style=\"border: 2px solid blue\">\n",
    "\n",
    "\n",
    "\n",
    "\n",
    "\n",
    "\n",
    "\n",
    "\n",
    "\n",
    "\n",
    "\n",
    "\n",
    "\n",
    "\n",
    "\n",
    "\n",
    "\n",
    "\n",
    "\n",
    "</pre>"
   ]
  },
  {
   "cell_type": "markdown",
   "id": "e6ceaf18",
   "metadata": {
    "slideshow": {
     "slide_type": "subslide"
    }
   },
   "source": [
    "#### 5.2. The DT impulse response\n",
    "\n",
    "Start with:\n",
    "\n",
    "$$\\frac{H(z)}{z} = \\frac{z + 1}{z^2 + 0.5 z + 0.125}$$"
   ]
  },
  {
   "cell_type": "markdown",
   "id": "56df9bff",
   "metadata": {
    "slideshow": {
     "slide_type": "notes"
    }
   },
   "source": [
    "<pre style=\"border: 2px solid blue\">\n",
    "\n",
    "\n",
    "\n",
    "\n",
    "\n",
    "\n",
    "\n",
    "\n",
    "\n",
    "\n",
    "\n",
    "\n",
    "\n",
    "\n",
    "\n",
    "\n",
    "\n",
    "\n",
    "\n",
    "</pre>"
   ]
  },
  {
   "cell_type": "markdown",
   "id": "d1f89f52",
   "metadata": {
    "slideshow": {
     "slide_type": "subslide"
    }
   },
   "source": [
    "##### MATLAB Solution"
   ]
  },
  {
   "cell_type": "code",
   "execution_count": null,
   "id": "e2fc7410",
   "metadata": {
    "slideshow": {
     "slide_type": "fragment"
    }
   },
   "outputs": [],
   "source": [
    "clear all\n",
    "imatlab_export_fig('print-svg')  % Static svg figures.\n",
    "cd matlab\n",
    "pwd\n",
    "format compact"
   ]
  },
  {
   "cell_type": "markdown",
   "id": "0413c076",
   "metadata": {
    "slideshow": {
     "slide_type": "fragment"
    }
   },
   "source": [
    "See [dtm_ex1_2.mlx](https://cpjobling.github.io/eg-247-textbook/dt_systems/4/matlab/dtm_ex1_2.mlx). (Also available as [dtm_ex1_2.m](https://cpjobling.github.io/eg-247-textbook/dt_systems/4/matlab/dtm_ex1_2.m).)"
   ]
  },
  {
   "cell_type": "markdown",
   "id": "0a849164",
   "metadata": {
    "slideshow": {
     "slide_type": "subslide"
    }
   },
   "source": [
    "The difference equation describing the input-output relationship of the DT system with zero initial conditions, is:\n",
    "\n",
    "$$y[n] - 0.5 y[n-1] + 0.125 y[n-2] = x[n] + x[n -1]$$"
   ]
  },
  {
   "cell_type": "markdown",
   "id": "4f6487b7",
   "metadata": {
    "slideshow": {
     "slide_type": "subslide"
    }
   },
   "source": [
    "###### Transfer function\n",
    "\n",
    "Numerator $z^2 + z$"
   ]
  },
  {
   "cell_type": "code",
   "execution_count": null,
   "id": "9ffcc324",
   "metadata": {},
   "outputs": [],
   "source": [
    "Nz = [1 1 0];"
   ]
  },
  {
   "cell_type": "markdown",
   "id": "de3a452d",
   "metadata": {
    "slideshow": {
     "slide_type": "fragment"
    }
   },
   "source": [
    "Denominator $z^2 - 0.5 z + 0.125$"
   ]
  },
  {
   "cell_type": "code",
   "execution_count": null,
   "id": "1b4b8965",
   "metadata": {},
   "outputs": [],
   "source": [
    "Dz = [1 -0.5 0.125];"
   ]
  },
  {
   "cell_type": "markdown",
   "id": "00534eeb",
   "metadata": {
    "slideshow": {
     "slide_type": "subslide"
    }
   },
   "source": [
    "###### Poles and residues"
   ]
  },
  {
   "cell_type": "code",
   "execution_count": null,
   "id": "03881ac0",
   "metadata": {},
   "outputs": [],
   "source": [
    "[r,p,k] = residue(Nz,Dz)"
   ]
  },
  {
   "cell_type": "markdown",
   "id": "ebfd1078",
   "metadata": {
    "slideshow": {
     "slide_type": "subslide"
    }
   },
   "source": [
    "###### Impulse Response"
   ]
  },
  {
   "cell_type": "code",
   "execution_count": null,
   "id": "726fe477",
   "metadata": {},
   "outputs": [],
   "source": [
    "Hz = tf(Nz,Dz,-1)\n",
    "hn = impulse(Hz, 15);"
   ]
  },
  {
   "cell_type": "markdown",
   "id": "03dcd5c0",
   "metadata": {
    "slideshow": {
     "slide_type": "subslide"
    }
   },
   "source": [
    "###### Plot the response"
   ]
  },
  {
   "cell_type": "code",
   "execution_count": null,
   "id": "f0cc72fe",
   "metadata": {
    "slideshow": {
     "slide_type": "-"
    }
   },
   "outputs": [],
   "source": [
    "stem([0:15], hn)\n",
    "grid\n",
    "title('Example 5 - Part 2')\n",
    "xlabel('n')\n",
    "ylabel('Impulse response h[n]')"
   ]
  },
  {
   "cell_type": "markdown",
   "id": "31a5524e",
   "metadata": {
    "slideshow": {
     "slide_type": "subslide"
    }
   },
   "source": [
    "###### Response as stepwise continuous y(t)"
   ]
  },
  {
   "cell_type": "code",
   "execution_count": null,
   "id": "ad673f8e",
   "metadata": {},
   "outputs": [],
   "source": [
    "impulse(Hz,15)\n",
    "grid\n",
    "title('Example 5 - Part 2 - As Analogue Signal')\n",
    "xlabel('nTs [s]')\n",
    "ylabel('Impulse response h(t)')"
   ]
  },
  {
   "cell_type": "markdown",
   "id": "83ac3554",
   "metadata": {
    "slideshow": {
     "slide_type": "slide"
    }
   },
   "source": [
    "#### 5.3. The DT step response\n",
    "\n",
    "$$Y(z) = H(z)X(z)$$"
   ]
  },
  {
   "cell_type": "markdown",
   "id": "54872ca5",
   "metadata": {
    "slideshow": {
     "slide_type": "fragment"
    }
   },
   "source": [
    "$$u_0[n] \\Leftrightarrow \\frac{z}{z - 1}$$"
   ]
  },
  {
   "cell_type": "markdown",
   "id": "7e9059d4",
   "metadata": {
    "slideshow": {
     "slide_type": "subslide"
    }
   },
   "source": [
    "$$\\begin{array}{lcl}\n",
    "Y(z) = H(z){U_0}(z) &=& \\frac{z^2 + z}{z^2 + 0.5z + 0.125}.\\frac{z}{z - 1}\\\\\n",
    " & = & \\frac{z(z^2 + z)}{(z^2 + 0.5z + 0.125)(z - 1)}\n",
    "\\end{array}$$"
   ]
  },
  {
   "cell_type": "markdown",
   "id": "ab3fd349",
   "metadata": {
    "slideshow": {
     "slide_type": "subslide"
    }
   },
   "source": [
    "$$\\frac{Y(z)}{z} = \\frac{z^2 + z}{(z^2 + 0.5 z + 0.125)(z - 1)}$$"
   ]
  },
  {
   "cell_type": "markdown",
   "id": "7c286426",
   "metadata": {
    "slideshow": {
     "slide_type": "fragment"
    }
   },
   "source": [
    "Solved by inverse Z-transform."
   ]
  },
  {
   "cell_type": "markdown",
   "id": "f1f83d47",
   "metadata": {
    "slideshow": {
     "slide_type": "notes"
    }
   },
   "source": [
    "<pre style=\"border: 2px solid blue\">\n",
    "\n",
    "\n",
    "\n",
    "\n",
    "\n",
    "\n",
    "\n",
    "\n",
    "\n",
    "\n",
    "\n",
    "\n",
    "\n",
    "\n",
    "\n",
    "\n",
    "\n",
    "\n",
    "\n",
    "</pre>"
   ]
  },
  {
   "cell_type": "markdown",
   "id": "4dca7dd2",
   "metadata": {
    "slideshow": {
     "slide_type": "subslide"
    }
   },
   "source": [
    "#### MATLAB Solution\n",
    "\n",
    "See [dtm_ex1_3.mlx](https://cpjobling.github.io/eg-247-textbook/dt_systems/4/matlab/dtm_ex1_3.mlx). (Also available as [dtm_ex1_3.m](https://cpjobling.github.io/eg-247-textbook/dt_systems/4/matlab/dtm_ex1_3.m).)"
   ]
  },
  {
   "cell_type": "code",
   "execution_count": null,
   "id": "3cbb8a3e",
   "metadata": {},
   "outputs": [],
   "source": [
    "open dtm_ex1_3"
   ]
  },
  {
   "cell_type": "markdown",
   "id": "59474ceb",
   "metadata": {
    "slideshow": {
     "slide_type": "notes"
    }
   },
   "source": [
    "##### Results\n",
    "\n",
    "![Results](./pictures/dtm_ex1_3_1.png)"
   ]
  },
  {
   "cell_type": "markdown",
   "id": "fc6cb88c",
   "metadata": {
    "slideshow": {
     "slide_type": "slide"
    }
   },
   "source": [
    "(simulink)=\n",
    "## Modelling DT systems in MATLAB and Simulink"
   ]
  },
  {
   "cell_type": "markdown",
   "id": "fc278e67",
   "metadata": {
    "slideshow": {
     "slide_type": "fragment"
    }
   },
   "source": [
    "We will consider some examples in class"
   ]
  },
  {
   "cell_type": "markdown",
   "id": "2e21558d",
   "metadata": {
    "slideshow": {
     "slide_type": "subslide"
    }
   },
   "source": [
    "### MATLAB\n",
    "\n",
    "Code extracted from [dtm_ex1_3.m](https://cpjobling.github.io/eg-247-textbook/dt_systems/4/matlab/dtm_ex1_3.m):"
   ]
  },
  {
   "cell_type": "code",
   "execution_count": null,
   "id": "4fa85656",
   "metadata": {
    "slideshow": {
     "slide_type": "fragment"
    }
   },
   "outputs": [],
   "source": [
    "Ts = 1;\n",
    "z = tf('z', Ts);"
   ]
  },
  {
   "cell_type": "code",
   "execution_count": null,
   "id": "066d9667",
   "metadata": {
    "slideshow": {
     "slide_type": "fragment"
    }
   },
   "outputs": [],
   "source": [
    "Hz = (z^2 + z)/(z^2 - 0.5 * z + 0.125)"
   ]
  },
  {
   "cell_type": "code",
   "execution_count": null,
   "id": "a21fb6bd",
   "metadata": {
    "slideshow": {
     "slide_type": "subslide"
    }
   },
   "outputs": [],
   "source": [
    "step(Hz)\n",
    "grid\n",
    "title('Example 1 - Part 3 - As Analogue Signal')\n",
    "xlabel('nTs [s]')\n",
    "ylabel('Step response y(t)')\n",
    "axis([0,15,0,3.5])"
   ]
  },
  {
   "cell_type": "markdown",
   "id": "ad0da68f",
   "metadata": {
    "slideshow": {
     "slide_type": "subslide"
    }
   },
   "source": [
    "### Simulink Model\n",
    "\n",
    "See [dtm.slx](https://cpjobling.github.io/eg-247-textbook/dt_systems/4/matlab/dtm.slx):\n",
    "\n",
    "![Simulink model](./pictures/simulink_model.png)"
   ]
  },
  {
   "cell_type": "code",
   "execution_count": null,
   "id": "5c1fc54d",
   "metadata": {
    "slideshow": {
     "slide_type": "fragment"
    }
   },
   "outputs": [],
   "source": [
    "dtm"
   ]
  },
  {
   "cell_type": "markdown",
   "id": "7f1b401d",
   "metadata": {
    "slideshow": {
     "slide_type": "notes"
    }
   },
   "source": [
    "#### Results\n",
    "\n",
    "![Simulink results](./pictures/scope.png)"
   ]
  },
  {
   "cell_type": "markdown",
   "id": "adbc163a",
   "metadata": {
    "slideshow": {
     "slide_type": "slide"
    }
   },
   "source": [
    "(cse)=\n",
    "## Converting Continuous Time Systems to Discrete Time Systems"
   ]
  },
  {
   "cell_type": "markdown",
   "id": "ae5780cf",
   "metadata": {
    "slideshow": {
     "slide_type": "subslide"
    }
   },
   "source": [
    "### Continuous System Equivalents\n",
    "\n",
    "* There is no digital system that uniquely represents a continuous system\n",
    "* This is because as we are sampling, we only have knowledge of signals being processed at the sampling instants, and need to *reconstruct* the inter-sample behaviour.\n",
    "* In practice, only a small number of transformations are used.\n",
    "* The derivation of these is beyond the scope of this module, but here we'll demonstrate the ones that MATLAB provides in a function called `c2d`"
   ]
  },
  {
   "cell_type": "markdown",
   "id": "4b08aa62",
   "metadata": {
    "slideshow": {
     "slide_type": "subslide"
    }
   },
   "source": [
    "### MATLAB c2d function\n",
    "\n",
    "Let's see what the help function says:"
   ]
  },
  {
   "cell_type": "code",
   "execution_count": null,
   "id": "1e9bf538",
   "metadata": {
    "slideshow": {
     "slide_type": "notes"
    }
   },
   "outputs": [],
   "source": [
    "help c2d"
   ]
  },
  {
   "cell_type": "markdown",
   "id": "085408af",
   "metadata": {
    "slideshow": {
     "slide_type": "subslide"
    }
   },
   "source": [
    "(demo)=\n",
    "## Example: Digital Butterworth Filter\n",
    "\n",
    "* Design a 2nd-order butterworth low-pass anti-aliasing filter with transfer function $H(s)$ for use in sampling music. \n",
    "* The cut-off frequency $\\omega_c = 20$&nbsp;kHz and the filter should have an attenuation of at least $-80$&nbsp;dB in the stop band. \n",
    "* Choose a suitable sampling frequency for the audio signal and give the transfer function $H(z)$ and an algorithm to implement $h[n]$"
   ]
  },
  {
   "cell_type": "markdown",
   "id": "ee854263",
   "metadata": {
    "slideshow": {
     "slide_type": "subslide"
    }
   },
   "source": [
    "### Solution\n",
    "\n",
    "See [digi_butter.mlx](https://cpjobling.github.io/eg-247-textbook/dt_systems/4/matlab/digi_butter.mlx)."
   ]
  },
  {
   "cell_type": "markdown",
   "id": "a710091e",
   "metadata": {
    "slideshow": {
     "slide_type": "subslide"
    }
   },
   "source": [
    "First determine the cut-off frequency $\\omega_c$\n",
    "\n",
    "$$\\omega_c = 2\\pi f_c = 2\\times \\pi \\times 20\\times 10^3\\;\\mathrm{rad/s}$$"
   ]
  },
  {
   "cell_type": "code",
   "execution_count": null,
   "id": "c173ea15",
   "metadata": {
    "slideshow": {
     "slide_type": "fragment"
    }
   },
   "outputs": [],
   "source": [
    "wc = 2*pi*20e3"
   ]
  },
  {
   "cell_type": "markdown",
   "id": "b0932623",
   "metadata": {
    "slideshow": {
     "slide_type": "fragment"
    }
   },
   "source": [
    "$$\\omega_c = 125.66\\times 10^3\\;\\mathrm{rad/s}$$"
   ]
  },
  {
   "cell_type": "markdown",
   "id": "6a7e470e",
   "metadata": {
    "slideshow": {
     "slide_type": "subslide"
    }
   },
   "source": [
    "From the lecture on filters, we know the 2nd-order butterworth filter has transfer function:\n",
    "\n",
    "$$H(s) = \\frac{Y(s)}{U(s)} = \\frac{\\omega _c^2}{s^2 + \\omega _c\\sqrt 2 \\,s + \\omega _c^2}$$"
   ]
  },
  {
   "cell_type": "markdown",
   "id": "6c60d99a",
   "metadata": {
    "slideshow": {
     "slide_type": "fragment"
    }
   },
   "source": [
    "Substituting for $\\omega_c = 125.6637\\times 10^3 $ this is ...?"
   ]
  },
  {
   "cell_type": "code",
   "execution_count": null,
   "id": "c0c0c340",
   "metadata": {
    "slideshow": {
     "slide_type": "fragment"
    }
   },
   "outputs": [],
   "source": [
    "Hs = tf(wc^2,[1 wc*sqrt(2), wc^2])"
   ]
  },
  {
   "cell_type": "markdown",
   "id": "64190c89",
   "metadata": {
    "slideshow": {
     "slide_type": "subslide"
    }
   },
   "source": [
    "$$H(s) = \\frac{15.79 \\times 10^9}{s^2 + 177.7 \\times 10^3 s + 15.79 \\times 10^9}$$"
   ]
  },
  {
   "cell_type": "markdown",
   "id": "7f9cbea8",
   "metadata": {
    "slideshow": {
     "slide_type": "subslide"
    }
   },
   "source": [
    "#### Bode plot\n",
    "\n",
    "MATLAB:"
   ]
  },
  {
   "cell_type": "code",
   "execution_count": null,
   "id": "7130e5b4",
   "metadata": {
    "slideshow": {
     "slide_type": "subslide"
    }
   },
   "outputs": [],
   "source": [
    "bode(Hs,{1e4,1e8})\n",
    "grid"
   ]
  },
  {
   "cell_type": "markdown",
   "id": "07812ebc",
   "metadata": {
    "slideshow": {
     "slide_type": "subslide"
    }
   },
   "source": [
    "#### Sampling Frequency\n",
    "\n",
    "From the bode diagram, the frequency at which $|H(j\\omega)|$ is $-80$&nbsp;dB is approx $12.6\\times 10^6$&nbsp;rad/s.\n",
    "\n",
    "To avoid aliasing, we should choose a sampling frequency twice this = ?"
   ]
  },
  {
   "cell_type": "markdown",
   "id": "9f2e22f6",
   "metadata": {
    "slideshow": {
     "slide_type": "fragment"
    }
   },
   "source": [
    "$\\omega_s = 2\\times 12.6\\times 10^6$&nbsp;rad/s."
   ]
  },
  {
   "cell_type": "code",
   "execution_count": null,
   "id": "8a01211c",
   "metadata": {
    "slideshow": {
     "slide_type": "fragment"
    }
   },
   "outputs": [],
   "source": [
    "ws = 2* 12.6e6"
   ]
  },
  {
   "cell_type": "markdown",
   "id": "2b2cd3c4",
   "metadata": {
    "slideshow": {
     "slide_type": "subslide"
    }
   },
   "source": [
    "So\n",
    "\n",
    "$\\omega_s = 25.2\\times 10^6$&nbsp;rad/s."
   ]
  },
  {
   "cell_type": "markdown",
   "id": "fe698de9",
   "metadata": {
    "slideshow": {
     "slide_type": "fragment"
    }
   },
   "source": [
    "Sampling frequency ($f_s$) in Hz  = ?"
   ]
  },
  {
   "cell_type": "markdown",
   "id": "b301417e",
   "metadata": {
    "slideshow": {
     "slide_type": "fragment"
    }
   },
   "source": [
    "$$f_s = \\omega_s/(2\\pi)\\;\\mathrm{Mhz}$$"
   ]
  },
  {
   "cell_type": "code",
   "execution_count": null,
   "id": "544e1207",
   "metadata": {
    "slideshow": {
     "slide_type": "fragment"
    }
   },
   "outputs": [],
   "source": [
    "fs = ws/(2*pi)"
   ]
  },
  {
   "cell_type": "markdown",
   "id": "f7b92e5e",
   "metadata": {
    "slideshow": {
     "slide_type": "subslide"
    }
   },
   "source": [
    "$$f_s = 40.11\\;\\mathrm{Mhz}$$\n",
    "\n",
    "Sampling time $T_s = ?$"
   ]
  },
  {
   "cell_type": "markdown",
   "id": "60c988ab",
   "metadata": {
    "slideshow": {
     "slide_type": "fragment"
    }
   },
   "source": [
    "$T_s = 1/fs\\;\\mathrm{s}$"
   ]
  },
  {
   "cell_type": "code",
   "execution_count": null,
   "id": "3c8f28ec",
   "metadata": {
    "slideshow": {
     "slide_type": "fragment"
    }
   },
   "outputs": [],
   "source": [
    "Ts = 1/fs"
   ]
  },
  {
   "cell_type": "markdown",
   "id": "0405f5ed",
   "metadata": {
    "slideshow": {
     "slide_type": "subslide"
    }
   },
   "source": [
    "$$T_s = 1/f_s \\approx 0.25\\;\\mu\\mathrm{s}$$"
   ]
  },
  {
   "cell_type": "markdown",
   "id": "c40120ba",
   "metadata": {
    "slideshow": {
     "slide_type": "subslide"
    }
   },
   "source": [
    "#### Digital Butterworth\n",
    "\n",
    "zero-order-hold equivalent"
   ]
  },
  {
   "cell_type": "code",
   "execution_count": null,
   "id": "772489a5",
   "metadata": {},
   "outputs": [],
   "source": [
    "Hz = c2d(Hs, Ts)"
   ]
  },
  {
   "cell_type": "markdown",
   "id": "2bf1dc24",
   "metadata": {
    "slideshow": {
     "slide_type": "subslide"
    }
   },
   "source": [
    "#### Step response"
   ]
  },
  {
   "cell_type": "code",
   "execution_count": null,
   "id": "5c9022c2",
   "metadata": {},
   "outputs": [],
   "source": [
    "step(Hz)"
   ]
  },
  {
   "cell_type": "markdown",
   "id": "e0e3a8f1",
   "metadata": {
    "slideshow": {
     "slide_type": "subslide"
    }
   },
   "source": [
    "#### Algorithm\n",
    "\n",
    "From previous result:\n",
    "\n",
    "$$H(z) = \\frac{Y(z)}{U(z)} = \\frac{486.6\\times 10^{-6}z +  476.5\\times 10^{-6}}{z^2 - 1.956z + 0.9567}$$\n",
    "\n",
    "Dividing top and bottom by $z^2$ ..."
   ]
  },
  {
   "cell_type": "markdown",
   "id": "5c819856",
   "metadata": {
    "slideshow": {
     "slide_type": "fragment"
    }
   },
   "source": [
    "$$H(z) = \\frac{Y(z)}{U(z)} = \\frac{486.6\\times 10^{-6}z^{-1} +  476.5\\times 10^{-6}z^{-2}}{1 - 1.956z^{-1} + 0.9567z^{-2}}$$"
   ]
  },
  {
   "cell_type": "markdown",
   "id": "9c91ee30",
   "metadata": {
    "slideshow": {
     "slide_type": "subslide"
    }
   },
   "source": [
    "expanding out ...\n",
    "\n",
    "$$\\begin{array}{l}\n",
    "Y(z) - 1.956{z^{ - 1}}Y(z) + 0.9567{z^{ - 2}}Y(z) = \\\\\n",
    "\\quad 486.6 \\times {10^{ - 6}}{z^{ - 1}}U(z) + 476.5 \\times {10^{ - 6}}{z^{ - 2}}U(z)\n",
    "\\end{array}$$"
   ]
  },
  {
   "cell_type": "markdown",
   "id": "f5827445",
   "metadata": {
    "slideshow": {
     "slide_type": "subslide"
    }
   },
   "source": [
    "Inverse z-transform gives ...\n",
    "\n",
    "$$\\begin{array}{l}\n",
    "y[n] - 1.956y[n - 1] + 0.9567y[n - 2] = \\\\\n",
    "\\quad 486.6 \\times {10^{ - 6}}u[n - 1] + 476.5 \\times {10^{ - 6}}u[n - 2]\n",
    "\\end{array}$$"
   ]
  },
  {
   "cell_type": "markdown",
   "id": "ba74be0d",
   "metadata": {
    "slideshow": {
     "slide_type": "fragment"
    }
   },
   "source": [
    "in algorithmic form (compute $y[n]$ from past values of $u$ and $y$) ...\n",
    "\n",
    "$$\\begin{array}{l}\n",
    "y[n] = 1.956y[n - 1] - 0.9567y[n - 2] + 486.6 \\times {10^{ - 6}}u[n - 1] + ...\\\\\n",
    "\\quad 476.5 \\times {10^{ - 6}}u[n - 2]\n",
    "\\end{array}$$"
   ]
  },
  {
   "cell_type": "markdown",
   "id": "b7f5868d",
   "metadata": {
    "slideshow": {
     "slide_type": "subslide"
    }
   },
   "source": [
    "#### Block Diagram of the digital BW filter\n",
    "\n",
    "![digital filter](pictures/digifilter-bd.png)"
   ]
  },
  {
   "cell_type": "markdown",
   "id": "62e160eb",
   "metadata": {
    "slideshow": {
     "slide_type": "subslide"
    }
   },
   "source": [
    "#### As Simulink Model\n",
    "\n",
    "[digifilter.slx](https://cpjobling.github.io/eg-247-textbook/dt_systems/4/matlab/digifilter.slx)"
   ]
  },
  {
   "cell_type": "code",
   "execution_count": null,
   "id": "da500123",
   "metadata": {
    "slideshow": {
     "slide_type": "fragment"
    }
   },
   "outputs": [],
   "source": [
    "open digifilter"
   ]
  },
  {
   "cell_type": "markdown",
   "id": "a7b4e2a4",
   "metadata": {
    "slideshow": {
     "slide_type": "subslide"
    }
   },
   "source": [
    "#### Convert to code\n",
    "\n",
    "To implement:\n",
    "\n",
    "$$y[n] = 1.956 y[n-1] - 0.9567 y[n - 2] + 486.6\\times 10^{-6} u[n-1] + 476.5\\times 10^{-6} u[n-2]$$"
   ]
  },
  {
   "cell_type": "markdown",
   "id": "1ca3ab00",
   "metadata": {
    "slideshow": {
     "slide_type": "subslide"
    }
   },
   "source": [
    "    /* Initialize */\n",
    "    Ts = 2.4933e-07; /* more probably some fraction of clock speed */\n",
    "    ynm1 = 0; ynm2 = 0; unm1 = 0; unm2 = 0;\n",
    "    while (true) {\n",
    "        un = read_adc;\n",
    "        yn = 1.956*ynm1 - 0.9567*ynm2 + 486.6e-6*unm1 + 476.5e-6*unm2;\n",
    "        write_dac(yn);\n",
    "        /* store past values */\n",
    "        ynm2 = ynm1; ynm1 = yn;\n",
    "        unm2 = unm1; unm1 = un;\n",
    "        wait(Ts);\n",
    "    }"
   ]
  }
 ],
 "metadata": {
  "jupytext": {
   "formats": "ipynb,md:myst",
   "text_representation": {
    "extension": ".md",
    "format_name": "myst",
    "format_version": 0.13,
    "jupytext_version": "1.11.5"
   }
  },
  "kernelspec": {
   "display_name": "MATLAB",
   "language": "matlab",
   "name": "imatlab"
  },
  "source_map": [
   15,
   21,
   33,
   37,
   41,
   45,
   49,
   53,
   57,
   67,
   77,
   85,
   91,
   115,
   123,
   147,
   151,
   163,
   167,
   173,
   179,
   183,
   187,
   191,
   195,
   199,
   203,
   208,
   212,
   224,
   228,
   236,
   242,
   246,
   253,
   257,
   261,
   285,
   291,
   295,
   301,
   306,
   310,
   316,
   325,
   333,
   346,
   354,
   362,
   368,
   373,
   382,
   388,
   396,
   405,
   411,
   417,
   425,
   429,
   435,
   439,
   447,
   451,
   457,
   466,
   474,
   478,
   486,
   492,
   496,
   500,
   508,
   514,
   518,
   526,
   530,
   536,
   540,
   544,
   548,
   558,
   562,
   571,
   580,
   589,
   595,
   601,
   609,
   617
  ]
 },
 "nbformat": 4,
 "nbformat_minor": 5
}