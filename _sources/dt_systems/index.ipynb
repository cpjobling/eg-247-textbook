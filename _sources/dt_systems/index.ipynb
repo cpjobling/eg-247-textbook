{
 "cells": [
  {
   "cell_type": "markdown",
   "metadata": {},
   "source": [
    "# Sampled Data Systems\n",
    "\n",
    "We set the scene for this chapter with a useful definition from Wikipedia\n",
    "\n",
    "## Sampling (Signal Processing)\n",
    "\n",
    "> In signal processing, sampling is the reduction of a continuous-time signal to a discrete-time signal. A common example is the conversion of a sound wave (a continuous signal) to a sequence of samples (a discrete-time signal).\n",
    ">\n",
    "> A sample is a value or set of values at a point in time and/or space.\n",
    ">\n",
    "> A sampler is a subsystem or operation that extracts samples from a continuous signal.\n",
    ">\n",
    "> A theoretical ideal sampler produces samples equivalent to the instantaneous value of the continuous signal at the desired points.\n",
    "\n",
    "-- <a href=\"https://en.wikipedia.org/wiki/Sampling_(signal_processing)\">Sampling (Signal Processing)</a>, Wikipedia.\n",
    "\n",
    "In this chapter we will cover Sampling Theory, the Z-Transform, the inverse Z-Transform and Models of Digital Systems.\n",
    "\n"
   ]
  }
 ],
 "metadata": {
  "kernelspec": {
   "display_name": "Matlab",
   "language": "matlab",
   "name": "matlab"
  },
  "language_info": {
   "codemirror_mode": "octave",
   "file_extension": ".m",
   "help_links": [
    {
     "text": "MetaKernel Magics",
     "url": "https://metakernel.readthedocs.io/en/latest/source/README.html"
    }
   ],
   "mimetype": "text/x-octave",
   "name": "matlab",
   "version": "0.16.9"
  }
 },
 "nbformat": 4,
 "nbformat_minor": 4
}
