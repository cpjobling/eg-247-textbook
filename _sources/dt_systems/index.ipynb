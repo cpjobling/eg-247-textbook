{
 "cells": [
  {
   "cell_type": "markdown",
   "id": "f8a31c56",
   "metadata": {},
   "source": [
    "(unit4)=\n",
    "# Unit 5: Sampled Data Systems\n",
    "\n",
    "We set the scene for this chapter with a useful definition from Wikipedia\n",
    "\n",
    "## Sampling (Signal Processing)\n",
    "\n",
    "> In signal processing, sampling is the reduction of a continuous-time signal to a discrete-time signal. A common example is the conversion of a sound wave (a continuous signal) to a sequence of samples (a discrete-time signal).\n",
    ">\n",
    "> A sample is a value or set of values at a point in time and/or space.\n",
    ">\n",
    "> A sampler is a subsystem or operation that extracts samples from a continuous signal.\n",
    ">\n",
    "> A theoretical ideal sampler produces samples equivalent to the instantaneous value of the continuous signal at the desired points.\n",
    "\n",
    "-- <a href=\"https://en.wikipedia.org/wiki/Sampling_(signal_processing)\">Sampling (Signal Processing)</a>, Wikipedia.\n",
    "\n",
    "In this chapter we will cover Sampling Theory, the Z-Transform, the inverse Z-Transform and Models of Digital Systems.\n",
    "\n",
    "## Contents\n",
    "\n",
    "In this section of the course we will cover:\n",
    "\n",
    "* {ref}`unit5.1`\n",
    "* {ref}`unit5.2`\n",
    "* {ref}`unit5.3`\n",
    "* {ref}`unit5.4`\n"
   ]
  }
 ],
 "metadata": {
  "kernelspec": {
   "display_name": "Python 3 (ipykernel)",
   "language": "python",
   "name": "python3"
  },
  "language_info": {
   "codemirror_mode": {
    "name": "ipython",
    "version": 3
   },
   "file_extension": ".py",
   "mimetype": "text/x-python",
   "name": "python",
   "nbconvert_exporter": "python",
   "pygments_lexer": "ipython3",
   "version": "3.11.6"
  }
 },
 "nbformat": 4,
 "nbformat_minor": 5
}
