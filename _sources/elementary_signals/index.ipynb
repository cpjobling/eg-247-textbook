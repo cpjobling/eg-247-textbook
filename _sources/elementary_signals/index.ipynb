{
 "cells": [
  {
   "cell_type": "markdown",
   "id": "5d2644b6",
   "metadata": {
    "slideshow": {
     "slide_type": "slide"
    }
   },
   "source": [
    "# Elementary Signals\n",
    "\n",
    "The preparatory reading for this section is [Chapter 1](https://ebookcentral.proquest.com/lib/swansea-ebooks/reader.action?docID=3384197&ppg=75#ppg=17) of {cite}`karris` which\n",
    "\n",
    "* begins with a discussion of the elementary signals that may be applied to electrical circuits\n",
    "* introduces the unit step, unit ramp and dirac delta functions\n",
    "* presents the sampling and sifting properties of the delta function and\n",
    "* concludes with examples of how other useful signals can be synthesised from these elementary signals."
   ]
  },
  {
   "cell_type": "markdown",
   "id": "0d21ae1e",
   "metadata": {
    "slideshow": {
     "slide_type": "notes"
    }
   },
   "source": [
    "## Colophon\n",
    "\n",
    "An annotatable worksheet for this presentation is available as [**Worksheet 3**](/elementary_signals/worksheet3).\n",
    "\n",
    "* The source code for this page is [elementary_signals/index.md](https://github.com/cpjobling/eg-247-textbook/blob/master/elementary_signals/index.md).\n",
    "\n",
    "* You can view the notes for this presentation as a webpage ([HTML](https://cpjobling.github.io/eg-247-textbook/elementary_signals/index.html)). \n",
    "\n",
    "* This page is downloadable as a [PDF](https://cpjobling.github.io/eg-247-textbook/elementary_signals/elementary_signals.pdf) file."
   ]
  },
  {
   "cell_type": "markdown",
   "id": "e4a0c93f",
   "metadata": {
    "slideshow": {
     "slide_type": "subslide"
    }
   },
   "source": [
    "Consider the network shown in below where the switch is closed at time $t=T$ and all components are ideal. \n",
    "\n",
    "![Network with a switch which is closed at t = T.](./pictures/circuit2.png)\n",
    "\n",
    "Express the output voltage $V_{\\mathrm{out}}$ as a function of the unit step function, and sketch the appropriate waveform."
   ]
  },
  {
   "cell_type": "markdown",
   "id": "e92bf6f9",
   "metadata": {
    "slideshow": {
     "slide_type": "subslide"
    }
   },
   "source": [
    "**Solution**\n",
    "\n",
    "Before the switch is closed at $t < T$:\n",
    "\\begin{equation}\n",
    "    V_{\\mathrm{out}} = 0.\n",
    "\\end{equation}\n",
    "\n",
    "After the switch is closed for $t > T$: \n",
    "\\begin{equation}\n",
    "    V_{\\mathrm{out}} = V_s.\n",
    "\\end{equation}"
   ]
  },
  {
   "cell_type": "markdown",
   "id": "3c9a4e8a",
   "metadata": {
    "slideshow": {
     "slide_type": "subslide"
    }
   },
   "source": [
    "We imagine that the voltage jumps instantaneously from 0 to $V_s$ volts at $t = T$ seconds as shown below.\n",
    "\n",
    "<img src=\"./pictures/step.png\" width = \"30%\"  alt=\"The step function\" />\n",
    "\n",
    "We call this type of signal a step function."
   ]
  },
  {
   "cell_type": "markdown",
   "id": "eb9e964d",
   "metadata": {
    "slideshow": {
     "slide_type": "slide"
    }
   },
   "source": [
    "## The Unit Step Function\n",
    "\n",
    "$${u_0}(t) = \\left\\{ {\\begin{array}{*{20}{c}}\n",
    "{0\\quad t < 0}\\\\\n",
    "{1\\quad t > 0}\n",
    "\\end{array}} \\right.$$\n",
    "\n",
    "![The unit step function](./pictures/unitstep.png)"
   ]
  },
  {
   "cell_type": "markdown",
   "id": "35be3fb1",
   "metadata": {
    "slideshow": {
     "slide_type": "subslide"
    }
   },
   "source": [
    "### In Matlab\n",
    "\n",
    "In Matlab, we use the `heaviside` function (named after [Oliver Heaviside](https://en.wikipedia.org/wiki/Oliver_Heaviside))."
   ]
  },
  {
   "cell_type": "markdown",
   "id": "76176295",
   "metadata": {
    "slideshow": {
     "slide_type": "fragment"
    }
   },
   "source": [
    "File `plot_heaviside.m`\n",
    "```matlab\n",
    "syms t\n",
    "ezplot(heaviside(t),[-1,1])\n",
    "heaviside(0)\n",
    "```"
   ]
  },
  {
   "cell_type": "code",
   "execution_count": null,
   "id": "8073f0b3",
   "metadata": {
    "slideshow": {
     "slide_type": "skip"
    }
   },
   "outputs": [],
   "source": [
    "imatlab_export_fig('print-svg')  % Static svg figures."
   ]
  },
  {
   "cell_type": "code",
   "execution_count": null,
   "id": "ca78381e",
   "metadata": {
    "slideshow": {
     "slide_type": "subslide"
    }
   },
   "outputs": [],
   "source": [
    "plot_heaviside"
   ]
  },
  {
   "cell_type": "markdown",
   "id": "4f53706e",
   "metadata": {
    "slideshow": {
     "slide_type": "notes"
    }
   },
   "source": [
    "Note that, so that it can be plotted, Matlab defines the *heaviside function* slightly differently from the mathematically ideal unit step:\n",
    "\n",
    "$$\\mathrm{heaviside}(t) = \\left\\{ {\\begin{array}{*{20}{c}}\n",
    "{0\\quad t < 0}\\\\\n",
    "{1/2\\quad t = 0}\\\\\n",
    "{1\\quad t > 0}\n",
    "\\end{array}} \\right.$$"
   ]
  },
  {
   "cell_type": "markdown",
   "id": "b9f56c19",
   "metadata": {
    "slideshow": {
     "slide_type": "slide"
    }
   },
   "source": [
    "## Simple Signal Operations"
   ]
  },
  {
   "cell_type": "markdown",
   "id": "f0bfb87c",
   "metadata": {
    "slideshow": {
     "slide_type": "subslide"
    }
   },
   "source": [
    "### Amplitude Scaling\n",
    "\n",
    "Sketch $Au_0(t)$ and $-Au_0(t)$"
   ]
  },
  {
   "cell_type": "code",
   "execution_count": null,
   "id": "3eff7779",
   "metadata": {
    "slideshow": {
     "slide_type": "subslide"
    }
   },
   "outputs": [],
   "source": [
    "syms t;\n",
    "u0(t) = heaviside(t); % rename heaviside function for ease of use\n",
    "A = 2; % so signal can be plotted\n",
    "ezplot(A*u0(t),[-1,1]),grid,title('Amplitude scaling $$Au_0(t)$$','interpreter','latex')"
   ]
  },
  {
   "cell_type": "markdown",
   "id": "86e17296",
   "metadata": {
    "slideshow": {
     "slide_type": "notes"
    }
   },
   "source": [
    "Note that the signal is scaled in the $y$ direction."
   ]
  },
  {
   "cell_type": "code",
   "execution_count": null,
   "id": "e8da960b",
   "metadata": {
    "slideshow": {
     "slide_type": "subslide"
    }
   },
   "outputs": [],
   "source": [
    "ezplot(-A*u0(t),[-1,1]),grid,title('Amplitude scaling and mirroring $$-Au_0(t)$$','interpreter','latex')"
   ]
  },
  {
   "cell_type": "markdown",
   "id": "bdb5a7ce",
   "metadata": {
    "slideshow": {
     "slide_type": "notes"
    }
   },
   "source": [
    "Note that, because of the sign, the signal is mirrored about the $x$ axis as well as being scaled by 2."
   ]
  },
  {
   "cell_type": "markdown",
   "id": "9d301f90",
   "metadata": {
    "slideshow": {
     "slide_type": "subslide"
    }
   },
   "source": [
    "### Time Reversal\n",
    "\n",
    "Sketch $u_0(-t)$"
   ]
  },
  {
   "cell_type": "code",
   "execution_count": null,
   "id": "51b37353",
   "metadata": {
    "slideshow": {
     "slide_type": "subslide"
    }
   },
   "outputs": [],
   "source": [
    "ezplot(A*u0(-t),[-1,1]),grid,title('Time reversal $$Au_0(-t)$$','interpreter','latex')"
   ]
  },
  {
   "cell_type": "markdown",
   "id": "5a7b1478",
   "metadata": {
    "slideshow": {
     "slide_type": "notes"
    }
   },
   "source": [
    "The sign on the function argument $-t$ causes the whole signal to be reversed in time. Note that another way of looking at this is that the signal is mirrored about the $y$ axis."
   ]
  },
  {
   "cell_type": "markdown",
   "id": "69c97b5b",
   "metadata": {
    "slideshow": {
     "slide_type": "subslide"
    }
   },
   "source": [
    "### Time Delay and Advance\n",
    "\n",
    "Sketch $u_0(t-T)$ and $u_0(t+T)$"
   ]
  },
  {
   "cell_type": "code",
   "execution_count": null,
   "id": "bb56b295",
   "metadata": {
    "slideshow": {
     "slide_type": "subslide"
    }
   },
   "outputs": [],
   "source": [
    "T = 1; % again to make the signal plottable.\n",
    "ezplot(u0(t - T),[-1,2]),grid,title('Time delay $$u_0(t - T)$$','interpreter','latex')"
   ]
  },
  {
   "cell_type": "markdown",
   "id": "fe0e9a6e",
   "metadata": {
    "slideshow": {
     "slide_type": "notes"
    }
   },
   "source": [
    "This is a *time delay* ... note for $u_0(t - T)$ the step change occurs T seconds **later** than it does for $u_o(t)$."
   ]
  },
  {
   "cell_type": "code",
   "execution_count": null,
   "id": "2ced1eed",
   "metadata": {
    "slideshow": {
     "slide_type": "subslide"
    }
   },
   "outputs": [],
   "source": [
    "ezplot(u0(t + T),[-2,1]),grid,title('Time advance $$u_0(t + T)$$','interpreter','latex')"
   ]
  },
  {
   "cell_type": "markdown",
   "id": "a5880d29",
   "metadata": {
    "slideshow": {
     "slide_type": "notes"
    }
   },
   "source": [
    "This is a *time advance* ... note for $u_0(t + T)$ the step change occurs T seconds **earlier** than it does for $u_o(t)$."
   ]
  },
  {
   "cell_type": "markdown",
   "id": "9d874f7c",
   "metadata": {
    "slideshow": {
     "slide_type": "subslide"
    }
   },
   "source": [
    "### Examples\n",
    "\n",
    "We will work through some examples in class. See [Worksheet 3](worksheet3)."
   ]
  },
  {
   "cell_type": "markdown",
   "id": "7166bde5",
   "metadata": {
    "slideshow": {
     "slide_type": "slide"
    }
   },
   "source": [
    "## Synthesis of Signals from the Unit Step\n",
    "\n",
    "Unit step functions can be used to represent other time-varying functions such as rectangular pulses, square waves and triangular pulses. See [Worksheet 3](worksheet3) for the examples that we will look at in class."
   ]
  },
  {
   "cell_type": "markdown",
   "id": "c982cb12",
   "metadata": {
    "slideshow": {
     "slide_type": "slide"
    }
   },
   "source": [
    "## The Ramp Function\n",
    "\n",
    "![Integrator (RC) circuit](./pictures/rc.png)\n",
    "\n",
    "In the circuit shown above $i_s$ is a constant current source and the switch is closed at time $t=0$."
   ]
  },
  {
   "cell_type": "markdown",
   "id": "ba9cc7ac",
   "metadata": {
    "slideshow": {
     "slide_type": "subslide"
    }
   },
   "source": [
    "When the current through the capacitor $i_c(t) = i_s$ is a constant and the voltage across the capacitor is\n",
    "\n",
    "$$v_c(t) = \\frac{1}{C}\\int_{-\\infty}^{t} i_c(\\tau)\\;d\\tau$$ \n",
    "\n",
    "where $\\tau$ is a dummy variable."
   ]
  },
  {
   "cell_type": "markdown",
   "id": "1ee4d6dd",
   "metadata": {
    "slideshow": {
     "slide_type": "subslide"
    }
   },
   "source": [
    "Since the switch closes at $t=0$, we can express the current $i_c(t)$ as\n",
    "\n",
    "$$i_c(t) = i_s u_0(t)$$\n",
    "\n",
    "and if $v_c(t) = 0$ for $t < 0$ we have\n",
    "\n",
    "$$v_c(t) = \\frac{i_s}{C}\\int_{-\\infty}^{t} u_0(\\tau)\\;d\\tau = \\underbrace { \\frac{i_s}{C}\\int_{ - \\infty }^0 0\\;{\\kern 1pt} d\\tau }_0 + \\frac{i_s}{C}\\int_{0}^{t} 1\\;d\\tau$$"
   ]
  },
  {
   "cell_type": "markdown",
   "id": "3b4b74e5",
   "metadata": {
    "slideshow": {
     "slide_type": "subslide"
    }
   },
   "source": [
    "So, the voltage across the capacitor can be represented as\n",
    "\n",
    "$$v_C(t)=\\frac{i_s}{C}t u_0(t)$$"
   ]
  },
  {
   "cell_type": "markdown",
   "id": "1afe9390",
   "metadata": {
    "slideshow": {
     "slide_type": "notes"
    }
   },
   "source": [
    "**Note** that in this as in other examples throughout these notes, and in published tables of transforms, the inclusion of $u_0(t)$ in $v_c(t)$ acts as a \"gating function\" that limits the definition of the signal to the causal range $0 \\le t \\lt \\infty$."
   ]
  },
  {
   "cell_type": "markdown",
   "id": "3a9f48ef",
   "metadata": {
    "slideshow": {
     "slide_type": "subslide"
    }
   },
   "source": [
    "To sketch the wave form, let's arbitrarily let $C$ and $i_s$ be one and then plot with MATLAB."
   ]
  },
  {
   "cell_type": "code",
   "execution_count": null,
   "id": "12359c78",
   "metadata": {
    "slideshow": {
     "slide_type": "subslide"
    }
   },
   "outputs": [],
   "source": [
    "C = 1; is = 1;\n",
    "vc(t)=(is/C)*t*u0(t);\n",
    "ezplot(vc(t),[-1,4]),grid,title('A ramp function')"
   ]
  },
  {
   "cell_type": "markdown",
   "id": "cea89d3d",
   "metadata": {
    "slideshow": {
     "slide_type": "notes"
    }
   },
   "source": [
    "This type of signal is called a **ramp function**. Note that it is the *integral* of the step function (the resistor-capacitor circuit implements a simple integrator circuit)."
   ]
  },
  {
   "cell_type": "markdown",
   "id": "481f37ef",
   "metadata": {
    "slideshow": {
     "slide_type": "subslide"
    }
   },
   "source": [
    "The unit ramp function is defined as\n",
    "\n",
    "$$u_1(t) = \\int_{-\\infty}^{t}u_0(\\tau)d\\tau$$\n",
    "\n",
    "so\n",
    "\n",
    "$${u_1}(t) = \\left\\{ {\\begin{array}{*{20}{c}}\n",
    "{0\\quad t < 0}\\\\\n",
    "{t\\quad t \\ge 0}\n",
    "\\end{array}} \\right.$$\n",
    "\n",
    "and \n",
    "\n",
    "$$u_0(t) = \\frac{d }{dt}u_1(t)$$"
   ]
  },
  {
   "cell_type": "markdown",
   "id": "2b7ed854",
   "metadata": {
    "slideshow": {
     "slide_type": "notes"
    }
   },
   "source": [
    "**Note**\n",
    "\n",
    "Higher order functions of $t$ can be generated by the repeated integration of the unit step function. \n",
    "\n",
    "For future reference, you should determine $u_2(t)$, $u_3(t)$ and $u_n(t)$ for yourself and make a note of the general rule:\n",
    "\n",
    "$$u_{n-1} = \\frac{1}{n}\\frac{d}{dt}u_n(t)$$\n",
    "\n",
    "Details are given in equations 1.26&mdash;1.29 in Karris."
   ]
  },
  {
   "cell_type": "markdown",
   "id": "c991804d",
   "metadata": {
    "slideshow": {
     "slide_type": "slide"
    }
   },
   "source": [
    "## The Dirac Delta Function\n",
    "\n",
    "![A differentiating function (RL network)](./pictures/lr.png)\n",
    "\n",
    "In the circuit shown above, the switch is closed at time $t=0$ and $i_L(t)=0$ for $t<0$. Express the inductor current $i_L(t)$ in terms of the unit step function and hence derive an expression for $v_L(t)$."
   ]
  },
  {
   "cell_type": "markdown",
   "id": "bb76df4b",
   "metadata": {
    "slideshow": {
     "slide_type": "subslide"
    }
   },
   "source": [
    "**Solution** \n",
    "\n",
    "$$v_L(t) = L\\frac{di_L}{dt}$$\n",
    "\n",
    "Because the switch closes instantaneously at $t=0$\n",
    "\n",
    "$$i_L(t) = i_s u_0(t)$$\n",
    "\n",
    "Thus \n",
    "\n",
    "$$v_L(t) = i_s L\\frac{d}{dt} u_0(t).$$"
   ]
  },
  {
   "cell_type": "markdown",
   "id": "4bebff2c",
   "metadata": {
    "slideshow": {
     "slide_type": "notes"
    }
   },
   "source": [
    "To solve this problem we need to invent a function that represents the derivative of the unit step function. This function is called $\\delta(t)$ or the *dirac delta* function (named after [Paul Dirac](https://en.wikipedia.org/wiki/Paul_Dirac))."
   ]
  },
  {
   "cell_type": "markdown",
   "id": "153612b0",
   "metadata": {
    "slideshow": {
     "slide_type": "subslide"
    }
   },
   "source": [
    "### The delta function\n",
    "\n",
    "The unit impulse or the delta function, denoted as $\\delta(t)$, is the derivative of the unit step.\n",
    "\n",
    "This function is tricky because $u_0(t)$ is discontinuous at $t=0$ but it must have the properties\n",
    "\n",
    "$$\\int_{-\\infty}^{t}\\delta(\\tau)d\\tau = u_0(t)$$\n",
    "\n",
    "and\n",
    "\n",
    "$$\\delta(t) = 0\\;\\forall\\;\n",
    "t\\ne 0.$$"
   ]
  },
  {
   "cell_type": "markdown",
   "id": "7ae3e8cb",
   "metadata": {
    "slideshow": {
     "slide_type": "subslide"
    }
   },
   "source": [
    "### Sketch of the delta function\n",
    "\n",
    "![The delta function](pictures/impulse.png)"
   ]
  },
  {
   "cell_type": "markdown",
   "id": "bfcf9dbc",
   "metadata": {
    "slideshow": {
     "slide_type": "subslide"
    }
   },
   "source": [
    "### MATLAB Confirmation"
   ]
  },
  {
   "cell_type": "code",
   "execution_count": null,
   "id": "5dab79e7",
   "metadata": {
    "slideshow": {
     "slide_type": "-"
    }
   },
   "outputs": [],
   "source": [
    "syms is L;\n",
    "vL(t) = is * L * diff(u0(t))"
   ]
  },
  {
   "cell_type": "markdown",
   "id": "d4652496",
   "metadata": {
    "slideshow": {
     "slide_type": "notes"
    }
   },
   "source": [
    "Note that we can't plot dirac(t) in MATLAB with `ezplot`."
   ]
  },
  {
   "cell_type": "markdown",
   "id": "bdc95e86",
   "metadata": {
    "slideshow": {
     "slide_type": "slide"
    }
   },
   "source": [
    "## Important properties of the delta function"
   ]
  },
  {
   "cell_type": "markdown",
   "id": "1e4cc253",
   "metadata": {
    "slideshow": {
     "slide_type": "subslide"
    }
   },
   "source": [
    "### Sampling Property\n",
    "\n",
    "The *sampling property* of the delta function states that\n",
    "\n",
    "$$f(t)\\delta(t-a) = f(a)\\delta(t-a)$$\n",
    "\n",
    "or, when $a = 0$,\n",
    "\n",
    "$$f(t)\\delta(t) = f(0)\\delta(t)$$"
   ]
  },
  {
   "cell_type": "markdown",
   "id": "89cb5da6",
   "metadata": {
    "slideshow": {
     "slide_type": "notes"
    }
   },
   "source": [
    "Multiplication of any function $f(t)$ by the delta function $\\delta(t)$ results in sampling the function at the time instants for which the delta function is not zero.\n",
    "\n",
    "The study of descrete-time (sampled) systems is based on this property.\n",
    "\n",
    "*You should work through the proof* for youself."
   ]
  },
  {
   "cell_type": "markdown",
   "id": "3861e22a",
   "metadata": {
    "slideshow": {
     "slide_type": "subslide"
    }
   },
   "source": [
    "### Sifting Property\n",
    "\n",
    "The *sifting property* of the delta function states that\n",
    "\n",
    "$$\\int_{-\\infty}^{\\infty}f(t)\\delta(t-\\alpha)dt=f(\\alpha)$$"
   ]
  },
  {
   "cell_type": "markdown",
   "id": "0ae9f42e",
   "metadata": {
    "slideshow": {
     "slide_type": "notes"
    }
   },
   "source": [
    "That is, if multiply any function $f(t)$ by $\\delta(t-\\alpha)$, and integrate from $-\\infty$ to $+\\infty$, we will get the value of $f(t)$ evaluated at $t=\\alpha.$\n",
    "\n",
    "*You should also work through the proof* for yourself."
   ]
  },
  {
   "cell_type": "markdown",
   "id": "3a880947",
   "metadata": {
    "slideshow": {
     "slide_type": "subslide"
    }
   },
   "source": [
    "### Higher Order Delta Fuctions\n",
    "\n",
    "the n*th*-order *delta function* is defined as the n*th* derivative of $u_0(t)$, that is\n",
    "\n",
    "$$\\delta^n(t)=\\frac{d^n}{dt^n}[u_0(t)]$$\n",
    "\n",
    "The function $\\delta'(t)$ is called the *doublet*, $\\delta''(t)$ is called the *triplet* and so on."
   ]
  },
  {
   "cell_type": "markdown",
   "id": "f5039bff",
   "metadata": {
    "slideshow": {
     "slide_type": "subslide"
    }
   },
   "source": [
    "By a procedure similar to the derivation of the sampling property we can show that\n",
    "\n",
    "$$f(t)\\delta'(t-a)=f(a)\\delta'(t-a)-f'(t)\\delta(t-a)$$"
   ]
  },
  {
   "cell_type": "markdown",
   "id": "c6ec5c75",
   "metadata": {
    "slideshow": {
     "slide_type": "subslide"
    }
   },
   "source": [
    "Also, derivation of the sifting property can be extended to show that\n",
    "\n",
    "$$\\int_{-\\infty}^{\\infty}f(t)\\delta^n(t-\\alpha)dt = \\left. ( - 1)^n\\frac{d^n}{dt^n}[f(t)] \\right|_{t = \\alpha }$$"
   ]
  },
  {
   "cell_type": "markdown",
   "id": "d51da07e",
   "metadata": {
    "slideshow": {
     "slide_type": "slide"
    }
   },
   "source": [
    "## Summary\n",
    "\n",
    "In this chapter we have looked at some elementary signals and the theoretical circuits that can be used to generate them.\n",
    "\n",
    "### Takeaways\n",
    "\n",
    "* You should note that the unit step is the *heaviside function* $u_0(t)$.\n",
    "* Many useful signals can be synthesized by use of the unit step as a \"gating function\" in combination with other signals\n",
    "* That unit ramp function $u_1(t)$ is the integral of the step function.\n",
    "* The *Dirac delta* function $\\delta(t)$ is the derivative of the unit step function. We sometimes refer to it as the *unit impulse function*.\n",
    "* The delta function has sampling and sifting properties that will be useful in the development of *time convolution* and *sampling theory*."
   ]
  },
  {
   "cell_type": "markdown",
   "id": "6f93201b",
   "metadata": {
    "slideshow": {
     "slide_type": "notes"
    }
   },
   "source": [
    "### Examples\n",
    "\n",
    "We will do some of these in class. See [Worksheet 3](worksheet3).\n",
    "\n",
    "### Homework\n",
    "\n",
    "These are for you to do later for further practice. See [Homework 1](../homework/hw1).\n",
    "\n",
    "## References\n",
    "\n",
    "See [Bibliography](/zbib)"
   ]
  }
 ],
 "metadata": {
  "jupytext": {
   "formats": "ipynb,md:myst",
   "text_representation": {
    "extension": ".md",
    "format_name": "myst",
    "format_version": 0.13,
    "jupytext_version": "1.11.5"
   }
  },
  "kernelspec": {
   "display_name": "MATLAB",
   "language": "matlab",
   "name": "imatlab"
  },
  "source_map": [
   15,
   26,
   38,
   46,
   60,
   68,
   79,
   85,
   94,
   102,
   110,
   120,
   124,
   130,
   141,
   145,
   153,
   157,
   163,
   171,
   175,
   181,
   190,
   194,
   202,
   206,
   212,
   218,
   226,
   234,
   244,
   250,
   254,
   258,
   268,
   272,
   289,
   301,
   309,
   323,
   327,
   342,
   348,
   352,
   361,
   365,
   369,
   381,
   389,
   397,
   403,
   413,
   419,
   425,
   439
  ]
 },
 "nbformat": 4,
 "nbformat_minor": 5
}