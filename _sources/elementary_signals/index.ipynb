{
 "cells": [
  {
   "cell_type": "markdown",
   "id": "d2760d32",
   "metadata": {
    "slideshow": {
     "slide_type": "slide"
    }
   },
   "source": [
    "# Elementary Signals\n",
    "\n",
    "The preparatory reading for this section is [Chapter 1](https://ebookcentral.proquest.com/lib/swansea-ebooks/reader.action?docID=3384197&ppg=75#ppg=17) of {cite}`karris` which\n",
    "\n",
    "* begins with a discussion of the elementary signals that may be applied to electrical circuits\n",
    "* introduces the unit step, unit ramp and dirac delta functions\n",
    "* presents the sampling and sifting properties of the delta function and\n",
    "* concludes with examples of how other useful signals can be synthesised from these elementary signals."
   ]
  },
  {
   "cell_type": "markdown",
   "id": "53c59e98",
   "metadata": {
    "slideshow": {
     "slide_type": "notes"
    }
   },
   "source": [
    "## Colophon\n",
    "\n",
    "An annotatable worksheet for this presentation is available as [**Worksheet 3**](/elementary_signals/worksheet3).\n",
    "\n",
    "* The source code for this page is [elementary_signals/index.md](https://github.com/cpjobling/eg-247-textbook/blob/master/elementary_signals/index.md).\n",
    "\n",
    "* You can view the notes for this presentation as a webpage ([HTML](https://cpjobling.github.io/eg-247-textbook/elementary_signals/index.html)). \n",
    "\n",
    "* This page is downloadable as a [PDF](https://cpjobling.github.io/eg-247-textbook/elementary_signals/elementary_signals.pdf) file."
   ]
  },
  {
   "cell_type": "markdown",
   "id": "7c1db264",
   "metadata": {
    "slideshow": {
     "slide_type": "subslide"
    }
   },
   "source": [
    "Consider the network shown in below where the switch is closed at time $t=T$ and all components are ideal. \n",
    "\n",
    "![Network with a switch which is closed at t = T.](./pictures/circuit2.png)\n",
    "\n",
    "Express the output voltage $V_{\\mathrm{out}}$ as a function of the unit step function, and sketch the appropriate waveform."
   ]
  },
  {
   "cell_type": "markdown",
   "id": "99172051",
   "metadata": {
    "slideshow": {
     "slide_type": "subslide"
    }
   },
   "source": [
    "**Solution**\n",
    "\n",
    "Before the switch is closed at $t < T$:\n",
    "\\begin{equation}\n",
    "    V_{\\mathrm{out}} = 0.\n",
    "\\end{equation}\n",
    "\n",
    "After the switch is closed for $t > T$: \n",
    "\\begin{equation}\n",
    "    V_{\\mathrm{out}} = V_s.\n",
    "\\end{equation}"
   ]
  },
  {
   "cell_type": "markdown",
   "id": "2cdc3c58",
   "metadata": {
    "slideshow": {
     "slide_type": "subslide"
    }
   },
   "source": [
    "We imagine that the voltage jumps instantaneously from 0 to $V_s$ volts at $t = T$ seconds as shown below.\n",
    "\n",
    "<img src=\"./pictures/step.png\" width = \"30%\"  alt=\"The step function\" />\n",
    "\n",
    "We call this type of signal a step function."
   ]
  },
  {
   "cell_type": "markdown",
   "id": "98373879",
   "metadata": {
    "slideshow": {
     "slide_type": "slide"
    }
   },
   "source": [
    "## The Unit Step Function\n",
    "\n",
    "$${u_0}(t) = \\left\\{ {\\begin{array}{*{20}{c}}\n",
    "{0\\quad t < 0}\\\\\n",
    "{1\\quad t > 0}\n",
    "\\end{array}} \\right.$$\n",
    "\n",
    "![The unit step function](./pictures/unitstep.png)"
   ]
  },
  {
   "cell_type": "markdown",
   "id": "03469e9e",
   "metadata": {
    "slideshow": {
     "slide_type": "subslide"
    }
   },
   "source": [
    "### In Matlab\n",
    "\n",
    "In Matlab, we use the `heaviside` function (named after [Oliver Heaviside](https://en.wikipedia.org/wiki/Oliver_Heaviside))."
   ]
  },
  {
   "cell_type": "markdown",
   "id": "68efcea6",
   "metadata": {
    "slideshow": {
     "slide_type": "fragment"
    }
   },
   "source": [
    "File `plot_heaviside.m`\n",
    "```matlab\n",
    "syms t\n",
    "ezplot(heaviside(t),[-1,1])\n",
    "heaviside(0)\n",
    "```"
   ]
  },
  {
   "cell_type": "code",
   "execution_count": 1,
   "id": "8776c580",
   "metadata": {
    "slideshow": {
     "slide_type": "skip"
    }
   },
   "outputs": [],
   "source": [
    "imatlab_export_fig('print-svg')  % Static svg figures."
   ]
  },
  {
   "cell_type": "code",
   "execution_count": 2,
   "id": "0010a1b0",
   "metadata": {
    "slideshow": {
     "slide_type": "subslide"
    }
   },
   "outputs": [
    {
     "name": "stdout",
     "output_type": "stream",
     "text": [
      "ans =\n",
      "    0.5000\n"
     ]
    },
    {
     "data": {
      "image/svg+xml": [
       "<?xml version=\"1.0\"?>\n",
       "<!DOCTYPE svg PUBLIC '-//W3C//DTD SVG 1.0//EN'\n",
       "          'http://www.w3.org/TR/2001/REC-SVG-20010904/DTD/svg10.dtd'>\n",
       "<svg xmlns:xlink=\"http://www.w3.org/1999/xlink\" style=\"fill-opacity:1; color-rendering:auto; color-interpolation:auto; text-rendering:auto; stroke:black; stroke-linecap:square; stroke-miterlimit:10; shape-rendering:auto; stroke-opacity:1; fill:black; stroke-dasharray:none; font-weight:normal; stroke-width:1; font-family:'Dialog'; font-style:normal; stroke-linejoin:miter; font-size:12px; stroke-dashoffset:0; image-rendering:auto;\" width=\"560\" height=\"420\" xmlns=\"http://www.w3.org/2000/svg\"\n",
       "><!--Generated by the Batik Graphics2D SVG Generator--><defs id=\"genericDefs\"\n",
       "  /><g\n",
       "  ><defs id=\"defs1\"\n",
       "    ><clipPath clipPathUnits=\"userSpaceOnUse\" id=\"clipPath1\"\n",
       "      ><path d=\"M0 0 L560 0 L560 420 L0 420 L0 0 Z\"\n",
       "      /></clipPath\n",
       "      ><font horiz-adv-x=\"50.0\" id=\"font1\"\n",
       "      ><font-face ascent=\"95.200005\" descent=\"21.3\" units-per-em=\"100\" style=\"font-style:normal; font-family:Helvetica Neue; font-weight:normal;\"\n",
       "        /><missing-glyph horiz-adv-x=\"50.0\" d=\"M40.9 66.6 L10.2 66.6 L10.2 4.7 L40.9 4.7 ZM46 71.2 L46 0.1 L5.1 0.1 L5.1 71.2 Z\"\n",
       "        /><glyph unicode=\"1\" horiz-adv-x=\"55.6\" d=\"M35.6 0 L35.6 70.9 L29.1 70.9 Q28.4 66.9 26.5 64.3 Q24.6 61.7 21.85 60.2 Q19.1 58.7 15.7 58.15 Q12.3 57.6 8.7 57.6 L8.7 50.8 L27.1 50.8 L27.1 0 Z\"\n",
       "        /><glyph unicode=\"-\" horiz-adv-x=\"38.9\" d=\"M5 31.8 L5 23.8 L33.9 23.8 L33.9 31.8 Z\"\n",
       "        /><glyph unicode=\"8\" horiz-adv-x=\"55.6\" d=\"M15.5 52.5 Q15.5 55.2 16.5 57.2 Q17.5 59.2 19.15 60.6 Q20.8 62 23.1 62.7 Q25.4 63.4 27.9 63.4 Q33.1 63.4 36.45 60.65 Q39.8 57.9 39.8 52.5 Q39.8 47.1 36.5 44.1 Q33.2 41.1 28.1 41.1 Q25.5 41.1 23.2 41.8 Q20.9 42.5 19.2 43.9 Q17.5 45.3 16.5 47.45 Q15.5 49.6 15.5 52.5 ZM6.5 52.8 Q6.5 48 9.2 43.95 Q11.9 39.9 16.4 38.1 Q10.4 36 7.2 31.35 Q4 26.7 4 20.4 Q4 15 5.85 10.95 Q7.7 6.9 10.95 4.2 Q14.2 1.5 18.6 0.2 Q23 -1.1 28.1 -1.1 Q33 -1.1 37.3 0.3 Q41.6 1.7 44.75 4.45 Q47.9 7.2 49.75 11.2 Q51.6 15.2 51.6 20.4 Q51.6 27 48.5 31.55 Q45.4 36.1 39 38.1 Q43.5 40.1 46.15 44.05 Q48.8 48 48.8 52.8 Q48.8 56.2 47.6 59.45 Q46.4 62.7 43.85 65.25 Q41.3 67.8 37.2 69.35 Q33.1 70.9 27.3 70.9 Q23.2 70.9 19.45 69.7 Q15.7 68.5 12.8 66.2 Q9.9 63.9 8.2 60.55 Q6.5 57.2 6.5 52.8 ZM13 20 Q13 23.1 14.15 25.6 Q15.3 28.1 17.35 29.9 Q19.4 31.7 22.15 32.65 Q24.9 33.6 28 33.6 Q31 33.6 33.65 32.55 Q36.3 31.5 38.3 29.7 Q40.3 27.9 41.45 25.45 Q42.6 23 42.6 20.1 Q42.6 17.1 41.55 14.6 Q40.5 12.1 38.55 10.25 Q36.6 8.4 33.95 7.35 Q31.3 6.3 28.1 6.3 Q21.5 6.3 17.25 9.95 Q13 13.6 13 20 Z\"\n",
       "        /><glyph unicode=\".\" horiz-adv-x=\"27.8\" d=\"M8.3 11.1 L8.3 0 L19.4 0 L19.4 11.1 Z\"\n",
       "        /><glyph unicode=\"0\" horiz-adv-x=\"55.6\" d=\"M13.2 34.9 Q13.2 37.5 13.25 40.65 Q13.3 43.8 13.75 46.95 Q14.2 50.1 15.05 53.1 Q15.9 56.1 17.55 58.35 Q19.2 60.6 21.7 62 Q24.2 63.4 27.8 63.4 Q31.4 63.4 33.9 62 Q36.4 60.6 38.05 58.35 Q39.7 56.1 40.55 53.1 Q41.4 50.1 41.85 46.95 Q42.3 43.8 42.35 40.65 Q42.4 37.5 42.4 34.9 Q42.4 30.9 42.15 25.95 Q41.9 21 40.55 16.65 Q39.2 12.3 36.2 9.3 Q33.2 6.3 27.8 6.3 Q22.4 6.3 19.4 9.3 Q16.4 12.3 15.05 16.65 Q13.7 21 13.45 25.95 Q13.2 30.9 13.2 34.9 ZM4.2 34.8 Q4.2 30.9 4.4 26.7 Q4.6 22.5 5.4 18.5 Q6.2 14.5 7.7 10.95 Q9.2 7.4 11.8 4.7 Q14.4 2 18.35 0.45 Q22.3 -1.1 27.8 -1.1 Q33.4 -1.1 37.3 0.45 Q41.2 2 43.8 4.7 Q46.4 7.4 47.9 10.95 Q49.4 14.5 50.2 18.5 Q51 22.5 51.2 26.7 Q51.4 30.9 51.4 34.8 Q51.4 38.7 51.2 42.9 Q51 47.1 50.2 51.1 Q49.4 55.1 47.9 58.7 Q46.4 62.3 43.8 65 Q41.2 67.7 37.25 69.3 Q33.3 70.9 27.8 70.9 Q22.3 70.9 18.35 69.3 Q14.4 67.7 11.8 65 Q9.2 62.3 7.7 58.7 Q6.2 55.1 5.4 51.1 Q4.6 47.1 4.4 42.9 Q4.2 38.7 4.2 34.8 Z\"\n",
       "        /><glyph unicode=\"6\" horiz-adv-x=\"55.6\" d=\"M41.4 52.8 L49.9 52.8 Q49.1 61.6 43.9 66.25 Q38.7 70.9 29.9 70.9 Q22.3 70.9 17.3 67.7 Q12.3 64.5 9.3 59.2 Q6.3 53.9 5.05 47.05 Q3.8 40.2 3.8 32.9 Q3.8 27.3 4.65 21.3 Q5.5 15.3 8.1 10.3 Q10.7 5.3 15.5 2.1 Q20.3 -1.1 28.2 -1.1 Q34.9 -1.1 39.45 1.15 Q44 3.4 46.75 6.85 Q49.5 10.3 50.7 14.5 Q51.9 18.7 51.9 22.6 Q51.9 27.5 50.4 31.7 Q48.9 35.9 46.15 39 Q43.4 42.1 39.35 43.85 Q35.3 45.6 30.2 45.6 Q24.4 45.6 19.95 43.4 Q15.5 41.2 12.5 36.3 L12.3 36.5 Q12.4 40.6 13.1 45.3 Q13.8 50 15.65 54.05 Q17.5 58.1 20.8 60.75 Q24.1 63.4 29.5 63.4 Q34.6 63.4 37.7 60.5 Q40.8 57.6 41.4 52.8 ZM28.6 38.1 Q32.2 38.1 34.9 36.8 Q37.6 35.5 39.4 33.35 Q41.2 31.2 42.05 28.25 Q42.9 25.3 42.9 22 Q42.9 18.9 41.95 16.05 Q41 13.2 39.2 11 Q37.4 8.8 34.75 7.55 Q32.1 6.3 28.6 6.3 Q25.1 6.3 22.35 7.55 Q19.6 8.8 17.75 10.9 Q15.9 13 14.9 15.9 Q13.9 18.8 13.9 22.1 Q13.9 25.4 14.85 28.35 Q15.8 31.3 17.7 33.45 Q19.6 35.6 22.3 36.85 Q25 38.1 28.6 38.1 Z\"\n",
       "        /><glyph unicode=\"4\" horiz-adv-x=\"55.6\" d=\"M33.9 24.1 L10.1 24.1 L33.7 58.8 L33.9 58.8 ZM41.9 24.1 L41.9 70.9 L35.1 70.9 L2.8 24.8 L2.8 16.6 L33.9 16.6 L33.9 0 L41.9 0 L41.9 16.6 L51.5 16.6 L51.5 24.1 Z\"\n",
       "        /><glyph unicode=\"2\" horiz-adv-x=\"55.6\" d=\"M4.4 45.8 L12.9 45.8 Q12.8 49 13.55 52.15 Q14.3 55.3 16 57.8 Q17.7 60.3 20.35 61.85 Q23 63.4 26.7 63.4 Q29.5 63.4 32 62.5 Q34.5 61.6 36.35 59.9 Q38.2 58.2 39.3 55.85 Q40.4 53.5 40.4 50.6 Q40.4 46.9 39.25 44.1 Q38.1 41.3 35.85 38.9 Q33.6 36.5 30.2 34.15 Q26.8 31.8 22.3 29 Q18.6 26.8 15.2 24.3 Q11.8 21.8 9.1 18.5 Q6.4 15.2 4.65 10.75 Q2.9 6.3 2.4 0 L48.7 0 L48.7 7.5 L12.3 7.5 Q12.9 10.8 14.85 13.35 Q16.8 15.9 19.55 18.1 Q22.3 20.3 25.6 22.25 Q28.9 24.2 32.2 26.2 Q35.5 28.3 38.6 30.6 Q41.7 32.9 44.1 35.75 Q46.5 38.6 47.95 42.2 Q49.4 45.8 49.4 50.5 Q49.4 55.5 47.65 59.3 Q45.9 63.1 42.9 65.65 Q39.9 68.2 35.85 69.55 Q31.8 70.9 27.2 70.9 Q21.6 70.9 17.2 69 Q12.8 67.1 9.85 63.75 Q6.9 60.4 5.5 55.8 Q4.1 51.2 4.4 45.8 Z\"\n",
       "        /><glyph unicode=\"t\" horiz-adv-x=\"31.5\" d=\"M18.2 51.7 L18.2 67.2 L9.7 67.2 L9.7 51.7 L0.9 51.7 L0.9 44.2 L9.7 44.2 L9.7 11.3 Q9.7 7.7 10.4 5.5 Q11.1 3.3 12.55 2.1 Q14 0.9 16.35 0.45 Q18.7 0 22 0 L28.5 0 L28.5 7.5 L24.6 7.5 Q22.6 7.5 21.35 7.65 Q20.1 7.8 19.4 8.3 Q18.7 8.8 18.45 9.7 Q18.2 10.6 18.2 12.1 L18.2 44.2 L28.5 44.2 L28.5 51.7 Z\"\n",
       "      /></font\n",
       "      ><font horiz-adv-x=\"50.0\" id=\"font2\"\n",
       "      ><font-face ascent=\"97.5\" descent=\"21.699999\" units-per-em=\"100\" style=\"font-style:normal; font-family:Helvetica Neue; font-weight:bold;\"\n",
       "        /><missing-glyph horiz-adv-x=\"50.0\" d=\"M39.1 60.7 L11.1 60.7 L11.1 9.5 L39.1 9.5 ZM48.2 69.8 L48.2 0.3 L1.7 0.3 L1.7 69.8 Z\"\n",
       "        /><glyph unicode=\"d\" horiz-adv-x=\"61.1\" d=\"M42.1 26 Q42.1 22.8 41.5 19.8 Q40.9 16.8 39.5 14.45 Q38.1 12.1 35.75 10.7 Q33.4 9.3 29.9 9.3 Q26.6 9.3 24.25 10.75 Q21.9 12.2 20.35 14.55 Q18.8 16.9 18.1 19.9 Q17.4 22.9 17.4 25.9 Q17.4 29.1 18.05 32.05 Q18.7 35 20.15 37.3 Q21.6 39.6 24 41 Q26.4 42.4 29.9 42.4 Q33.4 42.4 35.7 41 Q38 39.6 39.45 37.35 Q40.9 35.1 41.5 32.15 Q42.1 29.2 42.1 26 ZM42.3 6.6 L42.3 0 L55.8 0 L55.8 71.4 L41.6 71.4 L41.6 45.4 L41.4 45.4 Q39 49.2 34.85 51.15 Q30.7 53.1 26.1 53.1 Q20.4 53.1 16.1 50.85 Q11.8 48.6 8.95 44.9 Q6.1 41.2 4.65 36.35 Q3.2 31.5 3.2 26.3 Q3.2 20.9 4.65 15.9 Q6.1 10.9 8.95 7.05 Q11.8 3.2 16.2 0.95 Q20.6 -1.3 26.4 -1.3 Q31.5 -1.3 35.55 0.55 Q39.6 2.4 42.1 6.6 Z\"\n",
       "        /><glyph unicode=\"s\" horiz-adv-x=\"53.7\" d=\"M16.4 16.8 L2.9 16.8 Q3.1 11.6 5.25 8.15 Q7.4 4.7 10.75 2.6 Q14.1 0.5 18.4 -0.4 Q22.7 -1.3 27.2 -1.3 Q31.6 -1.3 35.85 -0.45 Q40.1 0.4 43.4 2.5 Q46.7 4.6 48.75 8.05 Q50.8 11.5 50.8 16.6 Q50.8 20.2 49.4 22.65 Q48 25.1 45.7 26.75 Q43.4 28.4 40.45 29.4 Q37.5 30.4 34.4 31.1 Q31.4 31.8 28.5 32.4 Q25.6 33 23.35 33.75 Q21.1 34.5 19.7 35.7 Q18.3 36.9 18.3 38.8 Q18.3 40.4 19.1 41.35 Q19.9 42.3 21.05 42.8 Q22.2 43.3 23.6 43.45 Q25 43.6 26.2 43.6 Q30 43.6 32.8 42.15 Q35.6 40.7 35.9 36.6 L49.4 36.6 Q49 41.4 46.95 44.55 Q44.9 47.7 41.8 49.6 Q38.7 51.5 34.75 52.3 Q30.8 53.1 26.6 53.1 Q22.4 53.1 18.4 52.35 Q14.4 51.6 11.2 49.75 Q8 47.9 6.05 44.7 Q4.1 41.5 4.1 36.5 Q4.1 33.1 5.5 30.75 Q6.9 28.4 9.2 26.85 Q11.5 25.3 14.45 24.35 Q17.4 23.4 20.5 22.7 Q28.1 21.1 32.35 19.5 Q36.6 17.9 36.6 14.7 Q36.6 12.8 35.7 11.55 Q34.8 10.3 33.45 9.55 Q32.1 8.8 30.45 8.45 Q28.8 8.1 27.3 8.1 Q25.2 8.1 23.25 8.6 Q21.3 9.1 19.8 10.15 Q18.3 11.2 17.35 12.85 Q16.4 14.5 16.4 16.8 Z\"\n",
       "        /><glyph unicode=\"i\" horiz-adv-x=\"25.8\" d=\"M20 59.7 L20 71.4 L5.8 71.4 L5.8 59.7 ZM5.8 51.7 L5.8 0 L20 0 L20 51.7 Z\"\n",
       "        /><glyph unicode=\"v\" horiz-adv-x=\"52.0\" d=\"M34 0 L51.5 51.7 L37.4 51.7 L26.5 16.4 L26.3 16.4 L15.4 51.7 L0.5 51.7 L18.2 0 Z\"\n",
       "        /><glyph unicode=\"a\" horiz-adv-x=\"57.4\" d=\"M4.8 35.8 Q5.1 40.8 7.3 44.1 Q9.5 47.4 12.9 49.4 Q16.3 51.4 20.55 52.25 Q24.8 53.1 29.1 53.1 Q33 53.1 37 52.55 Q41 52 44.3 50.4 Q47.6 48.8 49.7 45.95 Q51.8 43.1 51.8 38.4 L51.8 11.5 Q51.8 8 52.2 4.8 Q52.6 1.6 53.6 0 L39.2 0 Q38.8 1.2 38.55 2.45 Q38.3 3.7 38.2 5 Q34.8 1.5 30.2 0.1 Q25.6 -1.3 20.8 -1.3 Q17.1 -1.3 13.9 -0.4 Q10.7 0.5 8.3 2.4 Q5.9 4.3 4.55 7.2 Q3.2 10.1 3.2 14.1 Q3.2 18.5 4.75 21.35 Q6.3 24.2 8.75 25.9 Q11.2 27.6 14.35 28.45 Q17.5 29.3 20.7 29.8 Q23.9 30.3 27 30.6 Q30.1 30.9 32.5 31.5 Q34.9 32.1 36.3 33.25 Q37.7 34.4 37.6 36.6 Q37.6 38.9 36.85 40.25 Q36.1 41.6 34.85 42.35 Q33.6 43.1 31.95 43.35 Q30.3 43.6 28.4 43.6 Q24.2 43.6 21.8 41.8 Q19.4 40 19 35.8 ZM37.6 25.3 Q36.7 24.5 35.35 24.05 Q34 23.6 32.45 23.3 Q30.9 23 29.2 22.8 Q27.5 22.6 25.8 22.3 Q24.2 22 22.65 21.5 Q21.1 21 19.95 20.15 Q18.8 19.3 18.1 18 Q17.4 16.7 17.4 14.7 Q17.4 12.8 18.1 11.5 Q18.8 10.2 20 9.45 Q21.2 8.7 22.8 8.4 Q24.4 8.1 26.1 8.1 Q30.3 8.1 32.6 9.5 Q34.9 10.9 36 12.85 Q37.1 14.8 37.35 16.8 Q37.6 18.8 37.6 20 Z\"\n",
       "        /><glyph unicode=\"e\" horiz-adv-x=\"57.4\" d=\"M40.2 31.4 L17.1 31.4 Q17.2 32.9 17.75 34.8 Q18.3 36.7 19.65 38.4 Q21 40.1 23.25 41.25 Q25.5 42.4 28.9 42.4 Q34.1 42.4 36.65 39.6 Q39.2 36.8 40.2 31.4 ZM17.1 22.4 L54.4 22.4 Q54.8 28.4 53.4 33.9 Q52 39.4 48.85 43.7 Q45.7 48 40.8 50.55 Q35.9 53.1 29.3 53.1 Q23.4 53.1 18.55 51 Q13.7 48.9 10.2 45.25 Q6.7 41.6 4.8 36.6 Q2.9 31.6 2.9 25.8 Q2.9 19.8 4.75 14.8 Q6.6 9.8 10 6.2 Q13.4 2.6 18.3 0.65 Q23.2 -1.3 29.3 -1.3 Q38.1 -1.3 44.3 2.7 Q50.5 6.7 53.5 16 L41 16 Q40.3 13.6 37.2 11.45 Q34.1 9.3 29.8 9.3 Q23.8 9.3 20.6 12.4 Q17.4 15.5 17.1 22.4 Z\"\n",
       "        /><glyph unicode=\"h\" horiz-adv-x=\"59.3\" d=\"M5.4 71.4 L5.4 0 L19.6 0 L19.6 27.1 Q19.6 35 22.2 38.45 Q24.8 41.9 30.6 41.9 Q35.7 41.9 37.7 38.75 Q39.7 35.6 39.7 29.2 L39.7 0 L53.9 0 L53.9 31.8 Q53.9 36.6 53.05 40.55 Q52.2 44.5 50.1 47.25 Q48 50 44.35 51.55 Q40.7 53.1 35 53.1 Q31 53.1 26.8 51.05 Q22.6 49 19.9 44.5 L19.6 44.5 L19.6 71.4 Z\"\n",
       "        /><glyph unicode=\"(\" horiz-adv-x=\"29.6\" d=\"M30.3 73.1 L18.4 73.1 Q15.1 68.3 12.65 62.6 Q10.2 56.9 8.55 50.8 Q6.9 44.7 6.05 38.55 Q5.2 32.4 5.2 26.8 Q5.2 15 8.65 3.6 Q12.1 -7.8 18.4 -18.1 L30.2 -18.1 Q24.5 -7.2 21.95 4.3 Q19.4 15.8 19.4 27.8 Q19.4 39.6 22 51.05 Q24.6 62.5 30.3 73.1 Z\"\n",
       "        /><glyph unicode=\"t\" horiz-adv-x=\"35.2\" d=\"M23.4 51.7 L23.4 67.2 L9.2 67.2 L9.2 51.7 L0.6 51.7 L0.6 42.2 L9.2 42.2 L9.2 11.7 Q9.2 7.8 10.5 5.4 Q11.8 3 14.05 1.7 Q16.3 0.4 19.25 -0.05 Q22.2 -0.5 25.5 -0.5 Q27.6 -0.5 29.8 -0.4 Q32 -0.3 33.8 0 L33.8 11 Q32.8 10.8 31.7 10.7 Q30.6 10.6 29.4 10.6 Q25.8 10.6 24.6 11.8 Q23.4 13 23.4 16.6 L23.4 42.2 L33.8 42.2 L33.8 51.7 Z\"\n",
       "        /><glyph unicode=\")\" horiz-adv-x=\"29.6\" d=\"M-0.6 -18.1 L11.2 -18.1 Q14.5 -13.4 17 -7.7 Q19.5 -2 21.15 4.05 Q22.8 10.1 23.6 16.25 Q24.4 22.4 24.4 28 Q24.4 39.8 20.95 51.3 Q17.5 62.8 11.2 73.1 L-0.5 73.1 Q5 62.2 7.6 50.6 Q10.2 39 10.2 27 Q10.2 15.2 7.55 3.85 Q4.9 -7.5 -0.6 -18.1 Z\"\n",
       "      /></font\n",
       "    ></defs\n",
       "    ><g style=\"fill:white; stroke:white;\"\n",
       "    ><rect x=\"0\" y=\"0\" width=\"560\" style=\"clip-path:url(#clipPath1); stroke:none;\" height=\"420\"\n",
       "    /></g\n",
       "    ><g style=\"fill:white; text-rendering:optimizeSpeed; color-rendering:optimizeSpeed; image-rendering:optimizeSpeed; shape-rendering:crispEdges; stroke:white; color-interpolation:sRGB;\"\n",
       "    ><rect x=\"0\" width=\"560\" height=\"420\" y=\"0\" style=\"stroke:none;\"\n",
       "      /><path style=\"stroke:none;\" d=\"M73 374 L507 374 L507 31.5 L73 31.5 Z\"\n",
       "    /></g\n",
       "    ><g style=\"fill:rgb(38,38,38); text-rendering:geometricPrecision; image-rendering:optimizeQuality; color-rendering:optimizeQuality; stroke-linejoin:round; stroke:rgb(38,38,38); color-interpolation:linearRGB; stroke-width:0.5;\"\n",
       "    ><line y2=\"374\" style=\"fill:none;\" x1=\"73\" x2=\"507\" y1=\"374\"\n",
       "      /><line y2=\"31.5\" style=\"fill:none;\" x1=\"73\" x2=\"507\" y1=\"31.5\"\n",
       "      /><line y2=\"369.66\" style=\"fill:none;\" x1=\"73\" x2=\"73\" y1=\"374\"\n",
       "      /><line y2=\"369.66\" style=\"fill:none;\" x1=\"116.4\" x2=\"116.4\" y1=\"374\"\n",
       "      /><line y2=\"369.66\" style=\"fill:none;\" x1=\"159.8\" x2=\"159.8\" y1=\"374\"\n",
       "      /><line y2=\"369.66\" style=\"fill:none;\" x1=\"203.2\" x2=\"203.2\" y1=\"374\"\n",
       "      /><line y2=\"369.66\" style=\"fill:none;\" x1=\"246.6\" x2=\"246.6\" y1=\"374\"\n",
       "      /><line y2=\"369.66\" style=\"fill:none;\" x1=\"290\" x2=\"290\" y1=\"374\"\n",
       "      /><line y2=\"369.66\" style=\"fill:none;\" x1=\"333.4\" x2=\"333.4\" y1=\"374\"\n",
       "      /><line y2=\"369.66\" style=\"fill:none;\" x1=\"376.8\" x2=\"376.8\" y1=\"374\"\n",
       "      /><line y2=\"369.66\" style=\"fill:none;\" x1=\"420.2\" x2=\"420.2\" y1=\"374\"\n",
       "      /><line y2=\"369.66\" style=\"fill:none;\" x1=\"463.6\" x2=\"463.6\" y1=\"374\"\n",
       "      /><line y2=\"369.66\" style=\"fill:none;\" x1=\"507\" x2=\"507\" y1=\"374\"\n",
       "      /><line y2=\"35.84\" style=\"fill:none;\" x1=\"73\" x2=\"73\" y1=\"31.5\"\n",
       "      /><line y2=\"35.84\" style=\"fill:none;\" x1=\"116.4\" x2=\"116.4\" y1=\"31.5\"\n",
       "      /><line y2=\"35.84\" style=\"fill:none;\" x1=\"159.8\" x2=\"159.8\" y1=\"31.5\"\n",
       "      /><line y2=\"35.84\" style=\"fill:none;\" x1=\"203.2\" x2=\"203.2\" y1=\"31.5\"\n",
       "      /><line y2=\"35.84\" style=\"fill:none;\" x1=\"246.6\" x2=\"246.6\" y1=\"31.5\"\n",
       "      /><line y2=\"35.84\" style=\"fill:none;\" x1=\"290\" x2=\"290\" y1=\"31.5\"\n",
       "      /><line y2=\"35.84\" style=\"fill:none;\" x1=\"333.4\" x2=\"333.4\" y1=\"31.5\"\n",
       "      /><line y2=\"35.84\" style=\"fill:none;\" x1=\"376.8\" x2=\"376.8\" y1=\"31.5\"\n",
       "      /><line y2=\"35.84\" style=\"fill:none;\" x1=\"420.2\" x2=\"420.2\" y1=\"31.5\"\n",
       "      /><line y2=\"35.84\" style=\"fill:none;\" x1=\"463.6\" x2=\"463.6\" y1=\"31.5\"\n",
       "      /><line y2=\"35.84\" style=\"fill:none;\" x1=\"507\" x2=\"507\" y1=\"31.5\"\n",
       "    /></g\n",
       "    ><g transform=\"translate(73,378)\" style=\"font-size:10px; fill:rgb(38,38,38); text-rendering:geometricPrecision; image-rendering:optimizeQuality; color-rendering:optimizeQuality; font-family:'Helvetica Neue'; stroke:rgb(38,38,38); color-interpolation:linearRGB;\"\n",
       "    ><text x=\"-5\" xml:space=\"preserve\" y=\"10\" style=\"stroke:none;\"\n",
       "      >-1</text\n",
       "    ></g\n",
       "    ><g transform=\"translate(116.4,378)\" style=\"font-size:10px; fill:rgb(38,38,38); text-rendering:geometricPrecision; image-rendering:optimizeQuality; color-rendering:optimizeQuality; font-family:'Helvetica Neue'; stroke:rgb(38,38,38); color-interpolation:linearRGB;\"\n",
       "    ><text x=\"-9\" xml:space=\"preserve\" y=\"10\" style=\"stroke:none;\"\n",
       "      >-0.8</text\n",
       "    ></g\n",
       "    ><g transform=\"translate(159.8,378)\" style=\"font-size:10px; fill:rgb(38,38,38); text-rendering:geometricPrecision; image-rendering:optimizeQuality; color-rendering:optimizeQuality; font-family:'Helvetica Neue'; stroke:rgb(38,38,38); color-interpolation:linearRGB;\"\n",
       "    ><text x=\"-9\" xml:space=\"preserve\" y=\"10\" style=\"stroke:none;\"\n",
       "      >-0.6</text\n",
       "    ></g\n",
       "    ><g transform=\"translate(203.2,378)\" style=\"font-size:10px; fill:rgb(38,38,38); text-rendering:geometricPrecision; image-rendering:optimizeQuality; color-rendering:optimizeQuality; font-family:'Helvetica Neue'; stroke:rgb(38,38,38); color-interpolation:linearRGB;\"\n",
       "    ><text x=\"-9\" xml:space=\"preserve\" y=\"10\" style=\"stroke:none;\"\n",
       "      >-0.4</text\n",
       "    ></g\n",
       "    ><g transform=\"translate(246.6,378)\" style=\"font-size:10px; fill:rgb(38,38,38); text-rendering:geometricPrecision; image-rendering:optimizeQuality; color-rendering:optimizeQuality; font-family:'Helvetica Neue'; stroke:rgb(38,38,38); color-interpolation:linearRGB;\"\n",
       "    ><text x=\"-9\" xml:space=\"preserve\" y=\"10\" style=\"stroke:none;\"\n",
       "      >-0.2</text\n",
       "    ></g\n",
       "    ><g transform=\"translate(290,378)\" style=\"font-size:10px; fill:rgb(38,38,38); text-rendering:geometricPrecision; image-rendering:optimizeQuality; color-rendering:optimizeQuality; font-family:'Helvetica Neue'; stroke:rgb(38,38,38); color-interpolation:linearRGB;\"\n",
       "    ><text x=\"-3\" xml:space=\"preserve\" y=\"10\" style=\"stroke:none;\"\n",
       "      >0</text\n",
       "    ></g\n",
       "    ><g transform=\"translate(333.4,378)\" style=\"font-size:10px; fill:rgb(38,38,38); text-rendering:geometricPrecision; image-rendering:optimizeQuality; color-rendering:optimizeQuality; font-family:'Helvetica Neue'; stroke:rgb(38,38,38); color-interpolation:linearRGB;\"\n",
       "    ><text x=\"-7\" xml:space=\"preserve\" y=\"10\" style=\"stroke:none;\"\n",
       "      >0.2</text\n",
       "    ></g\n",
       "    ><g transform=\"translate(376.8,378)\" style=\"font-size:10px; fill:rgb(38,38,38); text-rendering:geometricPrecision; image-rendering:optimizeQuality; color-rendering:optimizeQuality; font-family:'Helvetica Neue'; stroke:rgb(38,38,38); color-interpolation:linearRGB;\"\n",
       "    ><text x=\"-7\" xml:space=\"preserve\" y=\"10\" style=\"stroke:none;\"\n",
       "      >0.4</text\n",
       "    ></g\n",
       "    ><g transform=\"translate(420.2,378)\" style=\"font-size:10px; fill:rgb(38,38,38); text-rendering:geometricPrecision; image-rendering:optimizeQuality; color-rendering:optimizeQuality; font-family:'Helvetica Neue'; stroke:rgb(38,38,38); color-interpolation:linearRGB;\"\n",
       "    ><text x=\"-7\" xml:space=\"preserve\" y=\"10\" style=\"stroke:none;\"\n",
       "      >0.6</text\n",
       "    ></g\n",
       "    ><g transform=\"translate(463.6,378)\" style=\"font-size:10px; fill:rgb(38,38,38); text-rendering:geometricPrecision; image-rendering:optimizeQuality; color-rendering:optimizeQuality; font-family:'Helvetica Neue'; stroke:rgb(38,38,38); color-interpolation:linearRGB;\"\n",
       "    ><text x=\"-7\" xml:space=\"preserve\" y=\"10\" style=\"stroke:none;\"\n",
       "      >0.8</text\n",
       "    ></g\n",
       "    ><g transform=\"translate(507,378)\" style=\"font-size:10px; fill:rgb(38,38,38); text-rendering:geometricPrecision; image-rendering:optimizeQuality; color-rendering:optimizeQuality; font-family:'Helvetica Neue'; stroke:rgb(38,38,38); color-interpolation:linearRGB;\"\n",
       "    ><text x=\"-3\" xml:space=\"preserve\" y=\"10\" style=\"stroke:none;\"\n",
       "      >1</text\n",
       "    ></g\n",
       "    ><g transform=\"translate(288,403)\" style=\"font-size:11px; fill:rgb(38,38,38); text-rendering:geometricPrecision; image-rendering:optimizeQuality; color-rendering:optimizeQuality; font-family:'Helvetica Neue'; stroke:rgb(38,38,38); color-interpolation:linearRGB;\"\n",
       "    ><text x=\"0\" xml:space=\"preserve\" y=\"0\" style=\"stroke:none;\"\n",
       "      >t</text\n",
       "    ></g\n",
       "    ><g style=\"fill:rgb(38,38,38); text-rendering:geometricPrecision; image-rendering:optimizeQuality; color-rendering:optimizeQuality; stroke-linejoin:round; stroke:rgb(38,38,38); color-interpolation:linearRGB; stroke-width:0.5;\"\n",
       "    ><line y2=\"31.5\" style=\"fill:none;\" x1=\"73\" x2=\"73\" y1=\"374\"\n",
       "      /><line y2=\"31.5\" style=\"fill:none;\" x1=\"507\" x2=\"507\" y1=\"374\"\n",
       "      /><line y2=\"339.75\" style=\"fill:none;\" x1=\"73\" x2=\"77.34\" y1=\"339.75\"\n",
       "      /><line y2=\"284.95\" style=\"fill:none;\" x1=\"73\" x2=\"77.34\" y1=\"284.95\"\n",
       "      /><line y2=\"230.15\" style=\"fill:none;\" x1=\"73\" x2=\"77.34\" y1=\"230.15\"\n",
       "      /><line y2=\"175.35\" style=\"fill:none;\" x1=\"73\" x2=\"77.34\" y1=\"175.35\"\n",
       "      /><line y2=\"120.55\" style=\"fill:none;\" x1=\"73\" x2=\"77.34\" y1=\"120.55\"\n",
       "      /><line y2=\"65.75\" style=\"fill:none;\" x1=\"73\" x2=\"77.34\" y1=\"65.75\"\n",
       "      /><line y2=\"339.75\" style=\"fill:none;\" x1=\"507\" x2=\"502.66\" y1=\"339.75\"\n",
       "      /><line y2=\"284.95\" style=\"fill:none;\" x1=\"507\" x2=\"502.66\" y1=\"284.95\"\n",
       "      /><line y2=\"230.15\" style=\"fill:none;\" x1=\"507\" x2=\"502.66\" y1=\"230.15\"\n",
       "      /><line y2=\"175.35\" style=\"fill:none;\" x1=\"507\" x2=\"502.66\" y1=\"175.35\"\n",
       "      /><line y2=\"120.55\" style=\"fill:none;\" x1=\"507\" x2=\"502.66\" y1=\"120.55\"\n",
       "      /><line y2=\"65.75\" style=\"fill:none;\" x1=\"507\" x2=\"502.66\" y1=\"65.75\"\n",
       "    /></g\n",
       "    ><g transform=\"translate(69,339.75)\" style=\"font-size:10px; fill:rgb(38,38,38); text-rendering:geometricPrecision; image-rendering:optimizeQuality; color-rendering:optimizeQuality; font-family:'Helvetica Neue'; stroke:rgb(38,38,38); color-interpolation:linearRGB;\"\n",
       "    ><text x=\"-6\" xml:space=\"preserve\" y=\"3.5\" style=\"stroke:none;\"\n",
       "      >0</text\n",
       "    ></g\n",
       "    ><g transform=\"translate(69,284.95)\" style=\"font-size:10px; fill:rgb(38,38,38); text-rendering:geometricPrecision; image-rendering:optimizeQuality; color-rendering:optimizeQuality; font-family:'Helvetica Neue'; stroke:rgb(38,38,38); color-interpolation:linearRGB;\"\n",
       "    ><text x=\"-14\" xml:space=\"preserve\" y=\"3.5\" style=\"stroke:none;\"\n",
       "      >0.2</text\n",
       "    ></g\n",
       "    ><g transform=\"translate(69,230.15)\" style=\"font-size:10px; fill:rgb(38,38,38); text-rendering:geometricPrecision; image-rendering:optimizeQuality; color-rendering:optimizeQuality; font-family:'Helvetica Neue'; stroke:rgb(38,38,38); color-interpolation:linearRGB;\"\n",
       "    ><text x=\"-14\" xml:space=\"preserve\" y=\"3.5\" style=\"stroke:none;\"\n",
       "      >0.4</text\n",
       "    ></g\n",
       "    ><g transform=\"translate(69,175.35)\" style=\"font-size:10px; fill:rgb(38,38,38); text-rendering:geometricPrecision; image-rendering:optimizeQuality; color-rendering:optimizeQuality; font-family:'Helvetica Neue'; stroke:rgb(38,38,38); color-interpolation:linearRGB;\"\n",
       "    ><text x=\"-14\" xml:space=\"preserve\" y=\"3.5\" style=\"stroke:none;\"\n",
       "      >0.6</text\n",
       "    ></g\n",
       "    ><g transform=\"translate(69,120.55)\" style=\"font-size:10px; fill:rgb(38,38,38); text-rendering:geometricPrecision; image-rendering:optimizeQuality; color-rendering:optimizeQuality; font-family:'Helvetica Neue'; stroke:rgb(38,38,38); color-interpolation:linearRGB;\"\n",
       "    ><text x=\"-14\" xml:space=\"preserve\" y=\"3.5\" style=\"stroke:none;\"\n",
       "      >0.8</text\n",
       "    ></g\n",
       "    ><g transform=\"translate(69,65.75)\" style=\"font-size:10px; fill:rgb(38,38,38); text-rendering:geometricPrecision; image-rendering:optimizeQuality; color-rendering:optimizeQuality; font-family:'Helvetica Neue'; stroke:rgb(38,38,38); color-interpolation:linearRGB;\"\n",
       "    ><text x=\"-6\" xml:space=\"preserve\" y=\"3.5\" style=\"stroke:none;\"\n",
       "      >1</text\n",
       "    ></g\n",
       "    ><g transform=\"translate(259,27)\" style=\"font-size:11px; text-rendering:geometricPrecision; image-rendering:optimizeQuality; color-rendering:optimizeQuality; font-family:'Helvetica Neue'; color-interpolation:linearRGB; font-weight:bold;\"\n",
       "    ><text x=\"0\" xml:space=\"preserve\" y=\"0\" style=\"stroke:none;\"\n",
       "      >heaviside</text\n",
       "    ></g\n",
       "    ><g transform=\"translate(309,27)\" style=\"font-size:11px; text-rendering:geometricPrecision; image-rendering:optimizeQuality; color-rendering:optimizeQuality; font-family:'Helvetica Neue'; color-interpolation:linearRGB; font-weight:bold;\"\n",
       "    ><text x=\"0\" xml:space=\"preserve\" y=\"0\" style=\"stroke:none;\"\n",
       "      >(</text\n",
       "    ></g\n",
       "    ><g transform=\"translate(313,27)\" style=\"font-size:11px; text-rendering:geometricPrecision; image-rendering:optimizeQuality; color-rendering:optimizeQuality; font-family:'Helvetica Neue'; color-interpolation:linearRGB; font-weight:bold;\"\n",
       "    ><text x=\"0\" xml:space=\"preserve\" y=\"0\" style=\"stroke:none;\"\n",
       "      >t</text\n",
       "    ></g\n",
       "    ><g transform=\"translate(317,27)\" style=\"font-size:11px; text-rendering:geometricPrecision; image-rendering:optimizeQuality; color-rendering:optimizeQuality; font-family:'Helvetica Neue'; color-interpolation:linearRGB; font-weight:bold;\"\n",
       "    ><text x=\"0\" xml:space=\"preserve\" y=\"0\" style=\"stroke:none;\"\n",
       "      >)</text\n",
       "    ></g\n",
       "    ><g style=\"stroke-linecap:butt; fill:rgb(0,114,189); text-rendering:geometricPrecision; image-rendering:optimizeQuality; color-rendering:optimizeQuality; stroke-linejoin:round; stroke:rgb(0,114,189); color-interpolation:linearRGB; stroke-width:0.5;\"\n",
       "    ><path d=\"M73 339.75 L74.0023 339.75 L75.0046 339.75 L76.0069 339.75 L77.0092 339.75 L78.0116 339.75 L79.0138 339.75 L80.0162 339.75 L81.0185 339.75 L82.0208 339.75 L83.0231 339.75 L84.0254 339.75 L85.0277 339.75 L86.03 339.75 L87.0323 339.75 L88.0346 339.75 L89.037 339.75 L90.0393 339.75 L91.0416 339.75 L92.0439 339.75 L93.0462 339.75 L94.0485 339.75 L95.0508 339.75 L96.0531 339.75 L97.0554 339.75 L98.0577 339.75 L99.0601 339.75 L100.0624 339.75 L101.0647 339.75 L102.067 339.75 L103.0693 339.75 L104.0716 339.75 L105.0739 339.75 L106.0762 339.75 L107.0785 339.75 L108.0808 339.75 L109.0831 339.75 L110.0854 339.75 L111.0878 339.75 L112.0901 339.75 L113.0924 339.75 L114.0947 339.75 L115.097 339.75 L116.0993 339.75 L117.1016 339.75 L118.1039 339.75 L119.1062 339.75 L120.1085 339.75 L121.1109 339.75 L122.1132 339.75 L123.1155 339.75 L124.1178 339.75 L125.1201 339.75 L126.1224 339.75 L127.1247 339.75 L128.127 339.75 L129.1293 339.75 L130.1316 339.75 L131.1339 339.75 L132.1363 339.75 L133.1386 339.75 L134.1409 339.75 L135.1432 339.75 L136.1455 339.75 L137.1478 339.75 L138.1501 339.75 L139.1524 339.75 L140.1547 339.75 L141.157 339.75 L142.1593 339.75 L143.1617 339.75 L144.164 339.75 L145.1663 339.75 L146.1686 339.75 L147.1709 339.75 L148.1732 339.75 L149.1755 339.75 L150.1778 339.75 L151.1801 339.75 L152.1824 339.75 L153.1848 339.75 L154.1871 339.75 L155.1894 339.75 L156.1917 339.75 L157.194 339.75 L158.1963 339.75 L159.1986 339.75 L160.2009 339.75 L161.2032 339.75 L162.2055 339.75 L163.2079 339.75 L164.2102 339.75 L165.2125 339.75 L166.2148 339.75 L167.2171 339.75 L168.2194 339.75 L169.2217 339.75 L170.224 339.75 L171.2263 339.75 L172.2286 339.75 L173.2309 339.75 L174.2332 339.75 L175.2356 339.75 L176.2379 339.75 L177.2402 339.75 L178.2425 339.75 L179.2448 339.75 L180.2471 339.75 L181.2494 339.75 L182.2517 339.75 L183.254 339.75 L184.2563 339.75 L185.2587 339.75 L186.261 339.75 L187.2633 339.75 L188.2656 339.75 L189.2679 339.75 L190.2702 339.75 L191.2725 339.75 L192.2748 339.75 L193.2771 339.75 L194.2794 339.75 L195.2818 339.75 L196.2841 339.75 L197.2864 339.75 L198.2887 339.75 L199.291 339.75 L200.2933 339.75 L201.2956 339.75 L202.2979 339.75 L203.3002 339.75 L204.3025 339.75 L205.3048 339.75 L206.3072 339.75 L207.3095 339.75 L208.3118 339.75 L209.3141 339.75 L210.3164 339.75 L211.3187 339.75 L212.321 339.75 L213.3233 339.75 L214.3256 339.75 L215.3279 339.75 L216.3303 339.75 L217.3326 339.75 L218.3349 339.75 L219.3372 339.75 L220.3395 339.75 L221.3418 339.75 L222.3441 339.75 L223.3464 339.75 L224.3487 339.75 L225.351 339.75 L226.3533 339.75 L227.3557 339.75 L228.358 339.75 L229.3603 339.75 L230.3626 339.75 L231.3649 339.75 L232.3672 339.75 L233.3695 339.75 L234.3718 339.75 L235.3741 339.75 L236.3764 339.75 L237.3788 339.75 L238.3811 339.75 L239.3834 339.75 L240.3857 339.75 L241.388 339.75 L242.3903 339.75 L243.3926 339.75 L244.3949 339.75 L245.3972 339.75 L246.3995 339.75 L247.4019 339.75 L248.4042 339.75 L249.4065 339.75 L250.4088 339.75 L251.4111 339.75 L252.4134 339.75 L253.4157 339.75 L254.418 339.75 L255.4203 339.75 L256.4226 339.75 L257.4249 339.75 L258.4272 339.75 L259.4296 339.75 L260.4319 339.75 L261.4342 339.75 L262.4365 339.75 L263.4388 339.75 L264.4411 339.75 L265.4434 339.75 L266.4457 339.75 L267.448 339.75 L268.4503 339.75 L269.4527 339.75 L270.455 339.75 L271.4573 339.75 L272.4596 339.75 L273.4619 339.75 L274.4642 339.75 L275.4665 339.75 L276.4688 339.75 L277.4711 339.75 L278.4734 339.75 L279.4757 339.75 L280.4781 339.75 L281.4804 339.75 L282.4827 339.75 L283.485 339.75 L284.4873 339.75 L285.4896 339.75 L286.4919 339.75 L287.4942 339.75 L288.4965 339.75 L289.4988 339.75 L290.5012 65.75 L291.5035 65.75 L292.5058 65.75 L293.5081 65.75 L294.5104 65.75 L295.5127 65.75 L296.515 65.75 L297.5173 65.75 L298.5196 65.75 L299.5219 65.75 L300.5243 65.75 L301.5266 65.75 L302.5289 65.75 L303.5312 65.75 L304.5335 65.75 L305.5358 65.75 L306.5381 65.75 L307.5404 65.75 L308.5427 65.75 L309.545 65.75 L310.5473 65.75 L311.5497 65.75 L312.552 65.75 L313.5543 65.75 L314.5566 65.75 L315.5589 65.75 L316.5612 65.75 L317.5635 65.75 L318.5658 65.75 L319.5681 65.75 L320.5704 65.75 L321.5728 65.75 L322.5751 65.75 L323.5774 65.75 L324.5797 65.75 L325.582 65.75 L326.5843 65.75 L327.5866 65.75 L328.5889 65.75 L329.5912 65.75 L330.5935 65.75 L331.5959 65.75 L332.5981 65.75 L333.6005 65.75 L334.6028 65.75 L335.6051 65.75 L336.6074 65.75 L337.6097 65.75 L338.612 65.75 L339.6143 65.75 L340.6166 65.75 L341.6189 65.75 L342.6212 65.75 L343.6236 65.75 L344.6259 65.75 L345.6282 65.75 L346.6305 65.75 L347.6328 65.75 L348.6351 65.75 L349.6374 65.75 L350.6397 65.75 L351.642 65.75 L352.6443 65.75 L353.6466 65.75 L354.649 65.75 L355.6513 65.75 L356.6536 65.75 L357.6559 65.75 L358.6582 65.75 L359.6605 65.75 L360.6628 65.75 L361.6651 65.75 L362.6674 65.75 L363.6697 65.75 L364.6721 65.75 L365.6744 65.75 L366.6767 65.75 L367.679 65.75 L368.6813 65.75 L369.6836 65.75 L370.6859 65.75 L371.6882 65.75 L372.6905 65.75 L373.6928 65.75 L374.6952 65.75 L375.6974 65.75 L376.6998 65.75 L377.7021 65.75 L378.7044 65.75 L379.7067 65.75 L380.709 65.75 L381.7113 65.75 L382.7136 65.75 L383.7159 65.75 L384.7182 65.75 L385.7206 65.75 L386.7229 65.75 L387.7252 65.75 L388.7275 65.75 L389.7298 65.75 L390.7321 65.75 L391.7344 65.75 L392.7367 65.75 L393.739 65.75 L394.7413 65.75 L395.7437 65.75 L396.746 65.75 L397.7483 65.75 L398.7506 65.75 L399.7529 65.75 L400.7552 65.75 L401.7575 65.75 L402.7598 65.75 L403.7621 65.75 L404.7644 65.75 L405.7668 65.75 L406.7691 65.75 L407.7714 65.75 L408.7737 65.75 L409.776 65.75 L410.7783 65.75 L411.7806 65.75 L412.7829 65.75 L413.7852 65.75 L414.7875 65.75 L415.7899 65.75 L416.7921 65.75 L417.7945 65.75 L418.7968 65.75 L419.7991 65.75 L420.8014 65.75 L421.8037 65.75 L422.806 65.75 L423.8083 65.75 L424.8106 65.75 L425.8129 65.75 L426.8152 65.75 L427.8176 65.75 L428.8199 65.75 L429.8222 65.75 L430.8245 65.75 L431.8268 65.75 L432.8291 65.75 L433.8314 65.75 L434.8337 65.75 L435.836 65.75 L436.8383 65.75 L437.8406 65.75 L438.843 65.75 L439.8453 65.75 L440.8476 65.75 L441.8499 65.75 L442.8522 65.75 L443.8545 65.75 L444.8568 65.75 L445.8591 65.75 L446.8614 65.75 L447.8637 65.75 L448.8661 65.75 L449.8683 65.75 L450.8707 65.75 L451.873 65.75 L452.8753 65.75 L453.8776 65.75 L454.8799 65.75 L455.8822 65.75 L456.8845 65.75 L457.8868 65.75 L458.8891 65.75 L459.8914 65.75 L460.8938 65.75 L461.8961 65.75 L462.8984 65.75 L463.9007 65.75 L464.903 65.75 L465.9053 65.75 L466.9076 65.75 L467.9099 65.75 L468.9122 65.75 L469.9146 65.75 L470.9169 65.75 L471.9192 65.75 L472.9215 65.75 L473.9238 65.75 L474.9261 65.75 L475.9284 65.75 L476.9307 65.75 L477.933 65.75 L478.9353 65.75 L479.9377 65.75 L480.9399 65.75 L481.9423 65.75 L482.9446 65.75 L483.9469 65.75 L484.9492 65.75 L485.9515 65.75 L486.9538 65.75 L487.9561 65.75 L488.9584 65.75 L489.9607 65.75 L490.963 65.75 L491.9654 65.75 L492.9677 65.75 L493.97 65.75 L494.9723 65.75 L495.9746 65.75 L496.9769 65.75 L497.9792 65.75 L498.9815 65.75 L499.9838 65.75 L500.9861 65.75 L501.9884 65.75 L502.9908 65.75 L503.9931 65.75 L504.9954 65.75 L505.9977 65.75 L507 65.75\" style=\"fill:none; fill-rule:evenodd;\"\n",
       "    /></g\n",
       "  ></g\n",
       "></svg\n",
       ">\n"
      ]
     },
     "metadata": {
      "filenames": {
       "image/svg+xml": "/Users/eechris/code/src/github.com/cpjobling/eg-247-textbook/_build/jupyter_execute/elementary_signals/index_9_1.svg"
      }
     },
     "output_type": "display_data"
    }
   ],
   "source": [
    "plot_heaviside"
   ]
  },
  {
   "cell_type": "markdown",
   "id": "a61a906b",
   "metadata": {
    "slideshow": {
     "slide_type": "notes"
    }
   },
   "source": [
    "Note that, so that it can be plotted, Matlab defines the *heaviside function* slightly differently from the mathematically ideal unit step:\n",
    "\n",
    "$$\\mathrm{heaviside}(t) = \\left\\{ {\\begin{array}{*{20}{c}}\n",
    "{0\\quad t < 0}\\\\\n",
    "{1/2\\quad t = 0}\\\\\n",
    "{1\\quad t > 0}\n",
    "\\end{array}} \\right.$$"
   ]
  },
  {
   "cell_type": "markdown",
   "id": "49e41da7",
   "metadata": {
    "slideshow": {
     "slide_type": "slide"
    }
   },
   "source": [
    "## Simple Signal Operations"
   ]
  },
  {
   "cell_type": "markdown",
   "id": "077f0d75",
   "metadata": {
    "slideshow": {
     "slide_type": "subslide"
    }
   },
   "source": [
    "### Amplitude Scaling\n",
    "\n",
    "Sketch $Au_0(t)$ and $-Au_0(t)$"
   ]
  },
  {
   "cell_type": "code",
   "execution_count": 3,
   "id": "00649bb5",
   "metadata": {
    "slideshow": {
     "slide_type": "subslide"
    }
   },
   "outputs": [
    {
     "data": {
      "image/svg+xml": [
       "<?xml version=\"1.0\"?>\n",
       "<!DOCTYPE svg PUBLIC '-//W3C//DTD SVG 1.0//EN'\n",
       "          'http://www.w3.org/TR/2001/REC-SVG-20010904/DTD/svg10.dtd'>\n",
       "<svg xmlns:xlink=\"http://www.w3.org/1999/xlink\" style=\"fill-opacity:1; color-rendering:auto; color-interpolation:auto; text-rendering:auto; stroke:black; stroke-linecap:square; stroke-miterlimit:10; shape-rendering:auto; stroke-opacity:1; fill:black; stroke-dasharray:none; font-weight:normal; stroke-width:1; font-family:'Dialog'; font-style:normal; stroke-linejoin:miter; font-size:12px; stroke-dashoffset:0; image-rendering:auto;\" width=\"560\" height=\"420\" xmlns=\"http://www.w3.org/2000/svg\"\n",
       "><!--Generated by the Batik Graphics2D SVG Generator--><defs id=\"genericDefs\"\n",
       "  /><g\n",
       "  ><defs id=\"defs1\"\n",
       "    ><clipPath clipPathUnits=\"userSpaceOnUse\" id=\"clipPath1\"\n",
       "      ><path d=\"M0 0 L560 0 L560 420 L0 420 L0 0 Z\"\n",
       "      /></clipPath\n",
       "    ></defs\n",
       "    ><g style=\"fill:white; stroke:white;\"\n",
       "    ><rect x=\"0\" y=\"0\" width=\"560\" style=\"clip-path:url(#clipPath1); stroke:none;\" height=\"420\"\n",
       "    /></g\n",
       "    ><g style=\"fill:white; text-rendering:optimizeSpeed; color-rendering:optimizeSpeed; image-rendering:optimizeSpeed; shape-rendering:crispEdges; stroke:white; color-interpolation:sRGB;\"\n",
       "    ><rect x=\"0\" width=\"560\" height=\"420\" y=\"0\" style=\"stroke:none;\"\n",
       "      /><path style=\"stroke:none;\" d=\"M73 374 L507 374 L507 31.5 L73 31.5 Z\"\n",
       "    /></g\n",
       "    ><g style=\"stroke-linecap:butt; fill-opacity:0.149; fill:rgb(38,38,38); text-rendering:geometricPrecision; image-rendering:optimizeQuality; color-rendering:optimizeQuality; stroke-linejoin:round; stroke:rgb(38,38,38); color-interpolation:linearRGB; stroke-width:0.5; stroke-opacity:0.149;\"\n",
       "    ><line y2=\"31.5\" style=\"fill:none;\" x1=\"73\" x2=\"73\" y1=\"374\"\n",
       "      /><line y2=\"31.5\" style=\"fill:none;\" x1=\"116.4\" x2=\"116.4\" y1=\"374\"\n",
       "      /><line y2=\"31.5\" style=\"fill:none;\" x1=\"159.8\" x2=\"159.8\" y1=\"374\"\n",
       "      /><line y2=\"31.5\" style=\"fill:none;\" x1=\"203.2\" x2=\"203.2\" y1=\"374\"\n",
       "      /><line y2=\"31.5\" style=\"fill:none;\" x1=\"246.6\" x2=\"246.6\" y1=\"374\"\n",
       "      /><line y2=\"31.5\" style=\"fill:none;\" x1=\"290\" x2=\"290\" y1=\"374\"\n",
       "      /><line y2=\"31.5\" style=\"fill:none;\" x1=\"333.4\" x2=\"333.4\" y1=\"374\"\n",
       "      /><line y2=\"31.5\" style=\"fill:none;\" x1=\"376.8\" x2=\"376.8\" y1=\"374\"\n",
       "      /><line y2=\"31.5\" style=\"fill:none;\" x1=\"420.2\" x2=\"420.2\" y1=\"374\"\n",
       "      /><line y2=\"31.5\" style=\"fill:none;\" x1=\"463.6\" x2=\"463.6\" y1=\"374\"\n",
       "      /><line y2=\"31.5\" style=\"fill:none;\" x1=\"507\" x2=\"507\" y1=\"374\"\n",
       "      /><line y2=\"339.75\" style=\"fill:none;\" x1=\"507\" x2=\"73\" y1=\"339.75\"\n",
       "      /><line y2=\"271.25\" style=\"fill:none;\" x1=\"507\" x2=\"73\" y1=\"271.25\"\n",
       "      /><line y2=\"202.75\" style=\"fill:none;\" x1=\"507\" x2=\"73\" y1=\"202.75\"\n",
       "      /><line y2=\"134.25\" style=\"fill:none;\" x1=\"507\" x2=\"73\" y1=\"134.25\"\n",
       "      /><line y2=\"65.75\" style=\"fill:none;\" x1=\"507\" x2=\"73\" y1=\"65.75\"\n",
       "      /><line x1=\"73\" x2=\"507\" y1=\"374\" style=\"stroke-linecap:square; fill-opacity:1; fill:none; stroke-opacity:1;\" y2=\"374\"\n",
       "      /><line x1=\"73\" x2=\"507\" y1=\"31.5\" style=\"stroke-linecap:square; fill-opacity:1; fill:none; stroke-opacity:1;\" y2=\"31.5\"\n",
       "      /><line x1=\"73\" x2=\"73\" y1=\"374\" style=\"stroke-linecap:square; fill-opacity:1; fill:none; stroke-opacity:1;\" y2=\"369.66\"\n",
       "      /><line x1=\"116.4\" x2=\"116.4\" y1=\"374\" style=\"stroke-linecap:square; fill-opacity:1; fill:none; stroke-opacity:1;\" y2=\"369.66\"\n",
       "      /><line x1=\"159.8\" x2=\"159.8\" y1=\"374\" style=\"stroke-linecap:square; fill-opacity:1; fill:none; stroke-opacity:1;\" y2=\"369.66\"\n",
       "      /><line x1=\"203.2\" x2=\"203.2\" y1=\"374\" style=\"stroke-linecap:square; fill-opacity:1; fill:none; stroke-opacity:1;\" y2=\"369.66\"\n",
       "      /><line x1=\"246.6\" x2=\"246.6\" y1=\"374\" style=\"stroke-linecap:square; fill-opacity:1; fill:none; stroke-opacity:1;\" y2=\"369.66\"\n",
       "      /><line x1=\"290\" x2=\"290\" y1=\"374\" style=\"stroke-linecap:square; fill-opacity:1; fill:none; stroke-opacity:1;\" y2=\"369.66\"\n",
       "      /><line x1=\"333.4\" x2=\"333.4\" y1=\"374\" style=\"stroke-linecap:square; fill-opacity:1; fill:none; stroke-opacity:1;\" y2=\"369.66\"\n",
       "      /><line x1=\"376.8\" x2=\"376.8\" y1=\"374\" style=\"stroke-linecap:square; fill-opacity:1; fill:none; stroke-opacity:1;\" y2=\"369.66\"\n",
       "      /><line x1=\"420.2\" x2=\"420.2\" y1=\"374\" style=\"stroke-linecap:square; fill-opacity:1; fill:none; stroke-opacity:1;\" y2=\"369.66\"\n",
       "      /><line x1=\"463.6\" x2=\"463.6\" y1=\"374\" style=\"stroke-linecap:square; fill-opacity:1; fill:none; stroke-opacity:1;\" y2=\"369.66\"\n",
       "      /><line x1=\"507\" x2=\"507\" y1=\"374\" style=\"stroke-linecap:square; fill-opacity:1; fill:none; stroke-opacity:1;\" y2=\"369.66\"\n",
       "      /><line x1=\"73\" x2=\"73\" y1=\"31.5\" style=\"stroke-linecap:square; fill-opacity:1; fill:none; stroke-opacity:1;\" y2=\"35.84\"\n",
       "      /><line x1=\"116.4\" x2=\"116.4\" y1=\"31.5\" style=\"stroke-linecap:square; fill-opacity:1; fill:none; stroke-opacity:1;\" y2=\"35.84\"\n",
       "      /><line x1=\"159.8\" x2=\"159.8\" y1=\"31.5\" style=\"stroke-linecap:square; fill-opacity:1; fill:none; stroke-opacity:1;\" y2=\"35.84\"\n",
       "      /><line x1=\"203.2\" x2=\"203.2\" y1=\"31.5\" style=\"stroke-linecap:square; fill-opacity:1; fill:none; stroke-opacity:1;\" y2=\"35.84\"\n",
       "      /><line x1=\"246.6\" x2=\"246.6\" y1=\"31.5\" style=\"stroke-linecap:square; fill-opacity:1; fill:none; stroke-opacity:1;\" y2=\"35.84\"\n",
       "      /><line x1=\"290\" x2=\"290\" y1=\"31.5\" style=\"stroke-linecap:square; fill-opacity:1; fill:none; stroke-opacity:1;\" y2=\"35.84\"\n",
       "      /><line x1=\"333.4\" x2=\"333.4\" y1=\"31.5\" style=\"stroke-linecap:square; fill-opacity:1; fill:none; stroke-opacity:1;\" y2=\"35.84\"\n",
       "      /><line x1=\"376.8\" x2=\"376.8\" y1=\"31.5\" style=\"stroke-linecap:square; fill-opacity:1; fill:none; stroke-opacity:1;\" y2=\"35.84\"\n",
       "      /><line x1=\"420.2\" x2=\"420.2\" y1=\"31.5\" style=\"stroke-linecap:square; fill-opacity:1; fill:none; stroke-opacity:1;\" y2=\"35.84\"\n",
       "      /><line x1=\"463.6\" x2=\"463.6\" y1=\"31.5\" style=\"stroke-linecap:square; fill-opacity:1; fill:none; stroke-opacity:1;\" y2=\"35.84\"\n",
       "      /><line x1=\"507\" x2=\"507\" y1=\"31.5\" style=\"stroke-linecap:square; fill-opacity:1; fill:none; stroke-opacity:1;\" y2=\"35.84\"\n",
       "    /></g\n",
       "    ><g transform=\"translate(73,378)\" style=\"font-size:10px; fill:rgb(38,38,38); text-rendering:geometricPrecision; image-rendering:optimizeQuality; color-rendering:optimizeQuality; font-family:'Helvetica Neue'; stroke:rgb(38,38,38); color-interpolation:linearRGB;\"\n",
       "    ><path style=\"stroke:none;\" d=\"M-4.5 6.82 L-4.5 7.62 L-1.61 7.62 L-1.61 6.82 ZM2.45 10 L2.45 2.91 L1.8 2.91 Q1.73 3.31 1.54 3.57 Q1.35 3.83 1.075 3.98 Q0.8 4.13 0.46 4.185 Q0.12 4.24 -0.24 4.24 L-0.24 4.92 L1.6 4.92 L1.6 10 Z\"\n",
       "    /></g\n",
       "    ><g transform=\"translate(116.4,378)\" style=\"font-size:10px; fill:rgb(38,38,38); text-rendering:geometricPrecision; image-rendering:optimizeQuality; color-rendering:optimizeQuality; font-family:'Helvetica Neue'; stroke:rgb(38,38,38); color-interpolation:linearRGB;\"\n",
       "    ><path style=\"stroke:none;\" d=\"M-8.5 6.82 L-8.5 7.62 L-5.61 7.62 L-5.61 6.82 ZM-3.79 6.51 Q-3.79 6.25 -3.785 5.935 Q-3.78 5.62 -3.735 5.305 Q-3.69 4.99 -3.605 4.69 Q-3.52 4.39 -3.355 4.165 Q-3.19 3.94 -2.94 3.8 Q-2.69 3.66 -2.33 3.66 Q-1.97 3.66 -1.72 3.8 Q-1.47 3.94 -1.305 4.165 Q-1.14 4.39 -1.055 4.69 Q-0.97 4.99 -0.925 5.305 Q-0.88 5.62 -0.875 5.935 Q-0.87 6.25 -0.87 6.51 Q-0.87 6.91 -0.895 7.405 Q-0.92 7.9 -1.055 8.335 Q-1.19 8.77 -1.49 9.07 Q-1.79 9.37 -2.33 9.37 Q-2.87 9.37 -3.17 9.07 Q-3.47 8.77 -3.605 8.335 Q-3.74 7.9 -3.765 7.405 Q-3.79 6.91 -3.79 6.51 ZM-4.69 6.52 Q-4.69 6.91 -4.67 7.33 Q-4.65 7.75 -4.57 8.15 Q-4.49 8.55 -4.34 8.905 Q-4.19 9.26 -3.93 9.53 Q-3.67 9.8 -3.275 9.955 Q-2.88 10.11 -2.33 10.11 Q-1.77 10.11 -1.38 9.955 Q-0.99 9.8 -0.73 9.53 Q-0.47 9.26 -0.32 8.905 Q-0.17 8.55 -0.09 8.15 Q-0.01 7.75 0.01 7.33 Q0.03 6.91 0.03 6.52 Q0.03 6.13 0.01 5.71 Q-0.01 5.29 -0.09 4.89 Q-0.17 4.49 -0.32 4.13 Q-0.47 3.77 -0.73 3.5 Q-0.99 3.23 -1.385 3.07 Q-1.78 2.91 -2.33 2.91 Q-2.88 2.91 -3.275 3.07 Q-3.67 3.23 -3.93 3.5 Q-4.19 3.77 -4.34 4.13 Q-4.49 4.49 -4.57 4.89 Q-4.65 5.29 -4.67 5.71 Q-4.69 6.13 -4.69 6.52 ZM1.28 8.89 L1.28 10 L2.39 10 L2.39 8.89 ZM4.78 4.75 Q4.78 4.48 4.88 4.28 Q4.98 4.08 5.145 3.94 Q5.31 3.8 5.54 3.73 Q5.77 3.66 6.02 3.66 Q6.54 3.66 6.875 3.935 Q7.21 4.21 7.21 4.75 Q7.21 5.29 6.88 5.59 Q6.55 5.89 6.04 5.89 Q5.78 5.89 5.55 5.82 Q5.32 5.75 5.15 5.61 Q4.98 5.47 4.88 5.255 Q4.78 5.04 4.78 4.75 ZM3.88 4.72 Q3.88 5.2 4.15 5.605 Q4.42 6.01 4.87 6.19 Q4.27 6.4 3.95 6.865 Q3.63 7.33 3.63 7.96 Q3.63 8.5 3.815 8.905 Q4 9.31 4.325 9.58 Q4.65 9.85 5.09 9.98 Q5.53 10.11 6.04 10.11 Q6.53 10.11 6.96 9.97 Q7.39 9.83 7.705 9.555 Q8.02 9.28 8.205 8.88 Q8.39 8.48 8.39 7.96 Q8.39 7.3 8.08 6.845 Q7.77 6.39 7.13 6.19 Q7.58 5.99 7.845 5.595 Q8.11 5.2 8.11 4.72 Q8.11 4.38 7.99 4.055 Q7.87 3.73 7.615 3.475 Q7.36 3.22 6.95 3.065 Q6.54 2.91 5.96 2.91 Q5.55 2.91 5.175 3.03 Q4.8 3.15 4.51 3.38 Q4.22 3.61 4.05 3.945 Q3.88 4.28 3.88 4.72 ZM4.53 8 Q4.53 7.69 4.645 7.44 Q4.76 7.19 4.965 7.01 Q5.17 6.83 5.445 6.735 Q5.72 6.64 6.03 6.64 Q6.33 6.64 6.595 6.745 Q6.86 6.85 7.06 7.03 Q7.26 7.21 7.375 7.455 Q7.49 7.7 7.49 7.99 Q7.49 8.29 7.385 8.54 Q7.28 8.79 7.085 8.975 Q6.89 9.16 6.625 9.265 Q6.36 9.37 6.04 9.37 Q5.38 9.37 4.955 9.005 Q4.53 8.64 4.53 8 Z\"\n",
       "    /></g\n",
       "    ><g transform=\"translate(159.8,378)\" style=\"font-size:10px; fill:rgb(38,38,38); text-rendering:geometricPrecision; image-rendering:optimizeQuality; color-rendering:optimizeQuality; font-family:'Helvetica Neue'; stroke:rgb(38,38,38); color-interpolation:linearRGB;\"\n",
       "    ><path style=\"stroke:none;\" d=\"M-8.5 6.82 L-8.5 7.62 L-5.61 7.62 L-5.61 6.82 ZM-3.79 6.51 Q-3.79 6.25 -3.785 5.935 Q-3.78 5.62 -3.735 5.305 Q-3.69 4.99 -3.605 4.69 Q-3.52 4.39 -3.355 4.165 Q-3.19 3.94 -2.94 3.8 Q-2.69 3.66 -2.33 3.66 Q-1.97 3.66 -1.72 3.8 Q-1.47 3.94 -1.305 4.165 Q-1.14 4.39 -1.055 4.69 Q-0.97 4.99 -0.925 5.305 Q-0.88 5.62 -0.875 5.935 Q-0.87 6.25 -0.87 6.51 Q-0.87 6.91 -0.895 7.405 Q-0.92 7.9 -1.055 8.335 Q-1.19 8.77 -1.49 9.07 Q-1.79 9.37 -2.33 9.37 Q-2.87 9.37 -3.17 9.07 Q-3.47 8.77 -3.605 8.335 Q-3.74 7.9 -3.765 7.405 Q-3.79 6.91 -3.79 6.51 ZM-4.69 6.52 Q-4.69 6.91 -4.67 7.33 Q-4.65 7.75 -4.57 8.15 Q-4.49 8.55 -4.34 8.905 Q-4.19 9.26 -3.93 9.53 Q-3.67 9.8 -3.275 9.955 Q-2.88 10.11 -2.33 10.11 Q-1.77 10.11 -1.38 9.955 Q-0.99 9.8 -0.73 9.53 Q-0.47 9.26 -0.32 8.905 Q-0.17 8.55 -0.09 8.15 Q-0.01 7.75 0.01 7.33 Q0.03 6.91 0.03 6.52 Q0.03 6.13 0.01 5.71 Q-0.01 5.29 -0.09 4.89 Q-0.17 4.49 -0.32 4.13 Q-0.47 3.77 -0.73 3.5 Q-0.99 3.23 -1.385 3.07 Q-1.78 2.91 -2.33 2.91 Q-2.88 2.91 -3.275 3.07 Q-3.67 3.23 -3.93 3.5 Q-4.19 3.77 -4.34 4.13 Q-4.49 4.49 -4.57 4.89 Q-4.65 5.29 -4.67 5.71 Q-4.69 6.13 -4.69 6.52 ZM1.28 8.89 L1.28 10 L2.39 10 L2.39 8.89 ZM7.37 4.72 L8.22 4.72 Q8.14 3.84 7.62 3.375 Q7.1 2.91 6.22 2.91 Q5.46 2.91 4.96 3.23 Q4.46 3.55 4.16 4.08 Q3.86 4.61 3.735 5.295 Q3.61 5.98 3.61 6.71 Q3.61 7.27 3.695 7.87 Q3.78 8.47 4.04 8.97 Q4.3 9.47 4.78 9.79 Q5.26 10.11 6.05 10.11 Q6.72 10.11 7.175 9.885 Q7.63 9.66 7.905 9.315 Q8.18 8.97 8.3 8.55 Q8.42 8.13 8.42 7.74 Q8.42 7.25 8.27 6.83 Q8.12 6.41 7.845 6.1 Q7.57 5.79 7.165 5.615 Q6.76 5.44 6.25 5.44 Q5.67 5.44 5.225 5.66 Q4.78 5.88 4.48 6.37 L4.46 6.35 Q4.47 5.94 4.54 5.47 Q4.61 5 4.795 4.595 Q4.98 4.19 5.31 3.925 Q5.64 3.66 6.18 3.66 Q6.69 3.66 7 3.95 Q7.31 4.24 7.37 4.72 ZM6.09 6.19 Q6.45 6.19 6.72 6.32 Q6.99 6.45 7.17 6.665 Q7.35 6.88 7.435 7.175 Q7.52 7.47 7.52 7.8 Q7.52 8.11 7.425 8.395 Q7.33 8.68 7.15 8.9 Q6.97 9.12 6.705 9.245 Q6.44 9.37 6.09 9.37 Q5.74 9.37 5.465 9.245 Q5.19 9.12 5.005 8.91 Q4.82 8.7 4.72 8.41 Q4.62 8.12 4.62 7.79 Q4.62 7.46 4.715 7.165 Q4.81 6.87 5 6.655 Q5.19 6.44 5.46 6.315 Q5.73 6.19 6.09 6.19 Z\"\n",
       "    /></g\n",
       "    ><g transform=\"translate(203.2,378)\" style=\"font-size:10px; fill:rgb(38,38,38); text-rendering:geometricPrecision; image-rendering:optimizeQuality; color-rendering:optimizeQuality; font-family:'Helvetica Neue'; stroke:rgb(38,38,38); color-interpolation:linearRGB;\"\n",
       "    ><path style=\"stroke:none;\" d=\"M-8.5 6.82 L-8.5 7.62 L-5.61 7.62 L-5.61 6.82 ZM-3.79 6.51 Q-3.79 6.25 -3.785 5.935 Q-3.78 5.62 -3.735 5.305 Q-3.69 4.99 -3.605 4.69 Q-3.52 4.39 -3.355 4.165 Q-3.19 3.94 -2.94 3.8 Q-2.69 3.66 -2.33 3.66 Q-1.97 3.66 -1.72 3.8 Q-1.47 3.94 -1.305 4.165 Q-1.14 4.39 -1.055 4.69 Q-0.97 4.99 -0.925 5.305 Q-0.88 5.62 -0.875 5.935 Q-0.87 6.25 -0.87 6.51 Q-0.87 6.91 -0.895 7.405 Q-0.92 7.9 -1.055 8.335 Q-1.19 8.77 -1.49 9.07 Q-1.79 9.37 -2.33 9.37 Q-2.87 9.37 -3.17 9.07 Q-3.47 8.77 -3.605 8.335 Q-3.74 7.9 -3.765 7.405 Q-3.79 6.91 -3.79 6.51 ZM-4.69 6.52 Q-4.69 6.91 -4.67 7.33 Q-4.65 7.75 -4.57 8.15 Q-4.49 8.55 -4.34 8.905 Q-4.19 9.26 -3.93 9.53 Q-3.67 9.8 -3.275 9.955 Q-2.88 10.11 -2.33 10.11 Q-1.77 10.11 -1.38 9.955 Q-0.99 9.8 -0.73 9.53 Q-0.47 9.26 -0.32 8.905 Q-0.17 8.55 -0.09 8.15 Q-0.01 7.75 0.01 7.33 Q0.03 6.91 0.03 6.52 Q0.03 6.13 0.01 5.71 Q-0.01 5.29 -0.09 4.89 Q-0.17 4.49 -0.32 4.13 Q-0.47 3.77 -0.73 3.5 Q-0.99 3.23 -1.385 3.07 Q-1.78 2.91 -2.33 2.91 Q-2.88 2.91 -3.275 3.07 Q-3.67 3.23 -3.93 3.5 Q-4.19 3.77 -4.34 4.13 Q-4.49 4.49 -4.57 4.89 Q-4.65 5.29 -4.67 5.71 Q-4.69 6.13 -4.69 6.52 ZM1.28 8.89 L1.28 10 L2.39 10 L2.39 8.89 ZM6.62 7.59 L4.24 7.59 L6.6 4.12 L6.62 4.12 ZM7.42 7.59 L7.42 2.91 L6.74 2.91 L3.51 7.52 L3.51 8.34 L6.62 8.34 L6.62 10 L7.42 10 L7.42 8.34 L8.38 8.34 L8.38 7.59 Z\"\n",
       "    /></g\n",
       "    ><g transform=\"translate(246.6,378)\" style=\"font-size:10px; fill:rgb(38,38,38); text-rendering:geometricPrecision; image-rendering:optimizeQuality; color-rendering:optimizeQuality; font-family:'Helvetica Neue'; stroke:rgb(38,38,38); color-interpolation:linearRGB;\"\n",
       "    ><path style=\"stroke:none;\" d=\"M-8.5 6.82 L-8.5 7.62 L-5.61 7.62 L-5.61 6.82 ZM-3.79 6.51 Q-3.79 6.25 -3.785 5.935 Q-3.78 5.62 -3.735 5.305 Q-3.69 4.99 -3.605 4.69 Q-3.52 4.39 -3.355 4.165 Q-3.19 3.94 -2.94 3.8 Q-2.69 3.66 -2.33 3.66 Q-1.97 3.66 -1.72 3.8 Q-1.47 3.94 -1.305 4.165 Q-1.14 4.39 -1.055 4.69 Q-0.97 4.99 -0.925 5.305 Q-0.88 5.62 -0.875 5.935 Q-0.87 6.25 -0.87 6.51 Q-0.87 6.91 -0.895 7.405 Q-0.92 7.9 -1.055 8.335 Q-1.19 8.77 -1.49 9.07 Q-1.79 9.37 -2.33 9.37 Q-2.87 9.37 -3.17 9.07 Q-3.47 8.77 -3.605 8.335 Q-3.74 7.9 -3.765 7.405 Q-3.79 6.91 -3.79 6.51 ZM-4.69 6.52 Q-4.69 6.91 -4.67 7.33 Q-4.65 7.75 -4.57 8.15 Q-4.49 8.55 -4.34 8.905 Q-4.19 9.26 -3.93 9.53 Q-3.67 9.8 -3.275 9.955 Q-2.88 10.11 -2.33 10.11 Q-1.77 10.11 -1.38 9.955 Q-0.99 9.8 -0.73 9.53 Q-0.47 9.26 -0.32 8.905 Q-0.17 8.55 -0.09 8.15 Q-0.01 7.75 0.01 7.33 Q0.03 6.91 0.03 6.52 Q0.03 6.13 0.01 5.71 Q-0.01 5.29 -0.09 4.89 Q-0.17 4.49 -0.32 4.13 Q-0.47 3.77 -0.73 3.5 Q-0.99 3.23 -1.385 3.07 Q-1.78 2.91 -2.33 2.91 Q-2.88 2.91 -3.275 3.07 Q-3.67 3.23 -3.93 3.5 Q-4.19 3.77 -4.34 4.13 Q-4.49 4.49 -4.57 4.89 Q-4.65 5.29 -4.67 5.71 Q-4.69 6.13 -4.69 6.52 ZM1.28 8.89 L1.28 10 L2.39 10 L2.39 8.89 ZM3.67 5.42 L4.52 5.42 Q4.51 5.1 4.585 4.785 Q4.66 4.47 4.83 4.22 Q5 3.97 5.265 3.815 Q5.53 3.66 5.9 3.66 Q6.18 3.66 6.43 3.75 Q6.68 3.84 6.865 4.01 Q7.05 4.18 7.16 4.415 Q7.27 4.65 7.27 4.94 Q7.27 5.31 7.155 5.59 Q7.04 5.87 6.815 6.11 Q6.59 6.35 6.25 6.585 Q5.91 6.82 5.46 7.1 Q5.09 7.32 4.75 7.57 Q4.41 7.82 4.14 8.15 Q3.87 8.48 3.695 8.925 Q3.52 9.37 3.47 10 L8.1 10 L8.1 9.25 L4.46 9.25 Q4.52 8.92 4.715 8.665 Q4.91 8.41 5.185 8.19 Q5.46 7.97 5.79 7.775 Q6.12 7.58 6.45 7.38 Q6.78 7.17 7.09 6.94 Q7.4 6.71 7.64 6.425 Q7.88 6.14 8.025 5.78 Q8.17 5.42 8.17 4.95 Q8.17 4.45 7.995 4.07 Q7.82 3.69 7.52 3.435 Q7.22 3.18 6.815 3.045 Q6.41 2.91 5.95 2.91 Q5.39 2.91 4.95 3.1 Q4.51 3.29 4.215 3.625 Q3.92 3.96 3.78 4.42 Q3.64 4.88 3.67 5.42 Z\"\n",
       "    /></g\n",
       "    ><g transform=\"translate(290,378)\" style=\"font-size:10px; fill:rgb(38,38,38); text-rendering:geometricPrecision; image-rendering:optimizeQuality; color-rendering:optimizeQuality; font-family:'Helvetica Neue'; stroke:rgb(38,38,38); color-interpolation:linearRGB;\"\n",
       "    ><path style=\"stroke:none;\" d=\"M-1.68 6.51 Q-1.68 6.25 -1.675 5.935 Q-1.67 5.62 -1.625 5.305 Q-1.58 4.99 -1.495 4.69 Q-1.41 4.39 -1.245 4.165 Q-1.08 3.94 -0.83 3.8 Q-0.58 3.66 -0.22 3.66 Q0.14 3.66 0.39 3.8 Q0.64 3.94 0.805 4.165 Q0.97 4.39 1.055 4.69 Q1.14 4.99 1.185 5.305 Q1.23 5.62 1.235 5.935 Q1.24 6.25 1.24 6.51 Q1.24 6.91 1.215 7.405 Q1.19 7.9 1.055 8.335 Q0.92 8.77 0.62 9.07 Q0.32 9.37 -0.22 9.37 Q-0.76 9.37 -1.06 9.07 Q-1.36 8.77 -1.495 8.335 Q-1.63 7.9 -1.655 7.405 Q-1.68 6.91 -1.68 6.51 ZM-2.58 6.52 Q-2.58 6.91 -2.56 7.33 Q-2.54 7.75 -2.46 8.15 Q-2.38 8.55 -2.23 8.905 Q-2.08 9.26 -1.82 9.53 Q-1.56 9.8 -1.165 9.955 Q-0.77 10.11 -0.22 10.11 Q0.34 10.11 0.73 9.955 Q1.12 9.8 1.38 9.53 Q1.64 9.26 1.79 8.905 Q1.94 8.55 2.02 8.15 Q2.1 7.75 2.12 7.33 Q2.14 6.91 2.14 6.52 Q2.14 6.13 2.12 5.71 Q2.1 5.29 2.02 4.89 Q1.94 4.49 1.79 4.13 Q1.64 3.77 1.38 3.5 Q1.12 3.23 0.725 3.07 Q0.33 2.91 -0.22 2.91 Q-0.77 2.91 -1.165 3.07 Q-1.56 3.23 -1.82 3.5 Q-2.08 3.77 -2.23 4.13 Q-2.38 4.49 -2.46 4.89 Q-2.54 5.29 -2.56 5.71 Q-2.58 6.13 -2.58 6.52 Z\"\n",
       "    /></g\n",
       "    ><g transform=\"translate(333.4,378)\" style=\"font-size:10px; fill:rgb(38,38,38); text-rendering:geometricPrecision; image-rendering:optimizeQuality; color-rendering:optimizeQuality; font-family:'Helvetica Neue'; stroke:rgb(38,38,38); color-interpolation:linearRGB;\"\n",
       "    ><path style=\"stroke:none;\" d=\"M-5.68 6.51 Q-5.68 6.25 -5.675 5.935 Q-5.67 5.62 -5.625 5.305 Q-5.58 4.99 -5.495 4.69 Q-5.41 4.39 -5.245 4.165 Q-5.08 3.94 -4.83 3.8 Q-4.58 3.66 -4.22 3.66 Q-3.86 3.66 -3.61 3.8 Q-3.36 3.94 -3.195 4.165 Q-3.03 4.39 -2.945 4.69 Q-2.86 4.99 -2.815 5.305 Q-2.77 5.62 -2.765 5.935 Q-2.76 6.25 -2.76 6.51 Q-2.76 6.91 -2.785 7.405 Q-2.81 7.9 -2.945 8.335 Q-3.08 8.77 -3.38 9.07 Q-3.68 9.37 -4.22 9.37 Q-4.76 9.37 -5.06 9.07 Q-5.36 8.77 -5.495 8.335 Q-5.63 7.9 -5.655 7.405 Q-5.68 6.91 -5.68 6.51 ZM-6.58 6.52 Q-6.58 6.91 -6.56 7.33 Q-6.54 7.75 -6.46 8.15 Q-6.38 8.55 -6.23 8.905 Q-6.08 9.26 -5.82 9.53 Q-5.56 9.8 -5.165 9.955 Q-4.77 10.11 -4.22 10.11 Q-3.66 10.11 -3.27 9.955 Q-2.88 9.8 -2.62 9.53 Q-2.36 9.26 -2.21 8.905 Q-2.06 8.55 -1.98 8.15 Q-1.9 7.75 -1.88 7.33 Q-1.86 6.91 -1.86 6.52 Q-1.86 6.13 -1.88 5.71 Q-1.9 5.29 -1.98 4.89 Q-2.06 4.49 -2.21 4.13 Q-2.36 3.77 -2.62 3.5 Q-2.88 3.23 -3.275 3.07 Q-3.67 2.91 -4.22 2.91 Q-4.77 2.91 -5.165 3.07 Q-5.56 3.23 -5.82 3.5 Q-6.08 3.77 -6.23 4.13 Q-6.38 4.49 -6.46 4.89 Q-6.54 5.29 -6.56 5.71 Q-6.58 6.13 -6.58 6.52 ZM-0.61 8.89 L-0.61 10 L0.5 10 L0.5 8.89 ZM1.78 5.42 L2.63 5.42 Q2.62 5.1 2.695 4.785 Q2.77 4.47 2.94 4.22 Q3.11 3.97 3.375 3.815 Q3.64 3.66 4.01 3.66 Q4.29 3.66 4.54 3.75 Q4.79 3.84 4.975 4.01 Q5.16 4.18 5.27 4.415 Q5.38 4.65 5.38 4.94 Q5.38 5.31 5.265 5.59 Q5.15 5.87 4.925 6.11 Q4.7 6.35 4.36 6.585 Q4.02 6.82 3.57 7.1 Q3.2 7.32 2.86 7.57 Q2.52 7.82 2.25 8.15 Q1.98 8.48 1.805 8.925 Q1.63 9.37 1.58 10 L6.21 10 L6.21 9.25 L2.57 9.25 Q2.63 8.92 2.825 8.665 Q3.02 8.41 3.295 8.19 Q3.57 7.97 3.9 7.775 Q4.23 7.58 4.56 7.38 Q4.89 7.17 5.2 6.94 Q5.51 6.71 5.75 6.425 Q5.99 6.14 6.135 5.78 Q6.28 5.42 6.28 4.95 Q6.28 4.45 6.105 4.07 Q5.93 3.69 5.63 3.435 Q5.33 3.18 4.925 3.045 Q4.52 2.91 4.06 2.91 Q3.5 2.91 3.06 3.1 Q2.62 3.29 2.325 3.625 Q2.03 3.96 1.89 4.42 Q1.75 4.88 1.78 5.42 Z\"\n",
       "    /></g\n",
       "    ><g transform=\"translate(376.8,378)\" style=\"font-size:10px; fill:rgb(38,38,38); text-rendering:geometricPrecision; image-rendering:optimizeQuality; color-rendering:optimizeQuality; font-family:'Helvetica Neue'; stroke:rgb(38,38,38); color-interpolation:linearRGB;\"\n",
       "    ><path style=\"stroke:none;\" d=\"M-5.68 6.51 Q-5.68 6.25 -5.675 5.935 Q-5.67 5.62 -5.625 5.305 Q-5.58 4.99 -5.495 4.69 Q-5.41 4.39 -5.245 4.165 Q-5.08 3.94 -4.83 3.8 Q-4.58 3.66 -4.22 3.66 Q-3.86 3.66 -3.61 3.8 Q-3.36 3.94 -3.195 4.165 Q-3.03 4.39 -2.945 4.69 Q-2.86 4.99 -2.815 5.305 Q-2.77 5.62 -2.765 5.935 Q-2.76 6.25 -2.76 6.51 Q-2.76 6.91 -2.785 7.405 Q-2.81 7.9 -2.945 8.335 Q-3.08 8.77 -3.38 9.07 Q-3.68 9.37 -4.22 9.37 Q-4.76 9.37 -5.06 9.07 Q-5.36 8.77 -5.495 8.335 Q-5.63 7.9 -5.655 7.405 Q-5.68 6.91 -5.68 6.51 ZM-6.58 6.52 Q-6.58 6.91 -6.56 7.33 Q-6.54 7.75 -6.46 8.15 Q-6.38 8.55 -6.23 8.905 Q-6.08 9.26 -5.82 9.53 Q-5.56 9.8 -5.165 9.955 Q-4.77 10.11 -4.22 10.11 Q-3.66 10.11 -3.27 9.955 Q-2.88 9.8 -2.62 9.53 Q-2.36 9.26 -2.21 8.905 Q-2.06 8.55 -1.98 8.15 Q-1.9 7.75 -1.88 7.33 Q-1.86 6.91 -1.86 6.52 Q-1.86 6.13 -1.88 5.71 Q-1.9 5.29 -1.98 4.89 Q-2.06 4.49 -2.21 4.13 Q-2.36 3.77 -2.62 3.5 Q-2.88 3.23 -3.275 3.07 Q-3.67 2.91 -4.22 2.91 Q-4.77 2.91 -5.165 3.07 Q-5.56 3.23 -5.82 3.5 Q-6.08 3.77 -6.23 4.13 Q-6.38 4.49 -6.46 4.89 Q-6.54 5.29 -6.56 5.71 Q-6.58 6.13 -6.58 6.52 ZM-0.61 8.89 L-0.61 10 L0.5 10 L0.5 8.89 ZM4.73 7.59 L2.35 7.59 L4.71 4.12 L4.73 4.12 ZM5.53 7.59 L5.53 2.91 L4.85 2.91 L1.62 7.52 L1.62 8.34 L4.73 8.34 L4.73 10 L5.53 10 L5.53 8.34 L6.49 8.34 L6.49 7.59 Z\"\n",
       "    /></g\n",
       "    ><g transform=\"translate(420.2,378)\" style=\"font-size:10px; fill:rgb(38,38,38); text-rendering:geometricPrecision; image-rendering:optimizeQuality; color-rendering:optimizeQuality; font-family:'Helvetica Neue'; stroke:rgb(38,38,38); color-interpolation:linearRGB;\"\n",
       "    ><path style=\"stroke:none;\" d=\"M-5.68 6.51 Q-5.68 6.25 -5.675 5.935 Q-5.67 5.62 -5.625 5.305 Q-5.58 4.99 -5.495 4.69 Q-5.41 4.39 -5.245 4.165 Q-5.08 3.94 -4.83 3.8 Q-4.58 3.66 -4.22 3.66 Q-3.86 3.66 -3.61 3.8 Q-3.36 3.94 -3.195 4.165 Q-3.03 4.39 -2.945 4.69 Q-2.86 4.99 -2.815 5.305 Q-2.77 5.62 -2.765 5.935 Q-2.76 6.25 -2.76 6.51 Q-2.76 6.91 -2.785 7.405 Q-2.81 7.9 -2.945 8.335 Q-3.08 8.77 -3.38 9.07 Q-3.68 9.37 -4.22 9.37 Q-4.76 9.37 -5.06 9.07 Q-5.36 8.77 -5.495 8.335 Q-5.63 7.9 -5.655 7.405 Q-5.68 6.91 -5.68 6.51 ZM-6.58 6.52 Q-6.58 6.91 -6.56 7.33 Q-6.54 7.75 -6.46 8.15 Q-6.38 8.55 -6.23 8.905 Q-6.08 9.26 -5.82 9.53 Q-5.56 9.8 -5.165 9.955 Q-4.77 10.11 -4.22 10.11 Q-3.66 10.11 -3.27 9.955 Q-2.88 9.8 -2.62 9.53 Q-2.36 9.26 -2.21 8.905 Q-2.06 8.55 -1.98 8.15 Q-1.9 7.75 -1.88 7.33 Q-1.86 6.91 -1.86 6.52 Q-1.86 6.13 -1.88 5.71 Q-1.9 5.29 -1.98 4.89 Q-2.06 4.49 -2.21 4.13 Q-2.36 3.77 -2.62 3.5 Q-2.88 3.23 -3.275 3.07 Q-3.67 2.91 -4.22 2.91 Q-4.77 2.91 -5.165 3.07 Q-5.56 3.23 -5.82 3.5 Q-6.08 3.77 -6.23 4.13 Q-6.38 4.49 -6.46 4.89 Q-6.54 5.29 -6.56 5.71 Q-6.58 6.13 -6.58 6.52 ZM-0.61 8.89 L-0.61 10 L0.5 10 L0.5 8.89 ZM5.48 4.72 L6.33 4.72 Q6.25 3.84 5.73 3.375 Q5.21 2.91 4.33 2.91 Q3.57 2.91 3.07 3.23 Q2.57 3.55 2.27 4.08 Q1.97 4.61 1.845 5.295 Q1.72 5.98 1.72 6.71 Q1.72 7.27 1.805 7.87 Q1.89 8.47 2.15 8.97 Q2.41 9.47 2.89 9.79 Q3.37 10.11 4.16 10.11 Q4.83 10.11 5.285 9.885 Q5.74 9.66 6.015 9.315 Q6.29 8.97 6.41 8.55 Q6.53 8.13 6.53 7.74 Q6.53 7.25 6.38 6.83 Q6.23 6.41 5.955 6.1 Q5.68 5.79 5.275 5.615 Q4.87 5.44 4.36 5.44 Q3.78 5.44 3.335 5.66 Q2.89 5.88 2.59 6.37 L2.57 6.35 Q2.58 5.94 2.65 5.47 Q2.72 5 2.905 4.595 Q3.09 4.19 3.42 3.925 Q3.75 3.66 4.29 3.66 Q4.8 3.66 5.11 3.95 Q5.42 4.24 5.48 4.72 ZM4.2 6.19 Q4.56 6.19 4.83 6.32 Q5.1 6.45 5.28 6.665 Q5.46 6.88 5.545 7.175 Q5.63 7.47 5.63 7.8 Q5.63 8.11 5.535 8.395 Q5.44 8.68 5.26 8.9 Q5.08 9.12 4.815 9.245 Q4.55 9.37 4.2 9.37 Q3.85 9.37 3.575 9.245 Q3.3 9.12 3.115 8.91 Q2.93 8.7 2.83 8.41 Q2.73 8.12 2.73 7.79 Q2.73 7.46 2.825 7.165 Q2.92 6.87 3.11 6.655 Q3.3 6.44 3.57 6.315 Q3.84 6.19 4.2 6.19 Z\"\n",
       "    /></g\n",
       "    ><g transform=\"translate(463.6,378)\" style=\"font-size:10px; fill:rgb(38,38,38); text-rendering:geometricPrecision; image-rendering:optimizeQuality; color-rendering:optimizeQuality; font-family:'Helvetica Neue'; stroke:rgb(38,38,38); color-interpolation:linearRGB;\"\n",
       "    ><path style=\"stroke:none;\" d=\"M-5.68 6.51 Q-5.68 6.25 -5.675 5.935 Q-5.67 5.62 -5.625 5.305 Q-5.58 4.99 -5.495 4.69 Q-5.41 4.39 -5.245 4.165 Q-5.08 3.94 -4.83 3.8 Q-4.58 3.66 -4.22 3.66 Q-3.86 3.66 -3.61 3.8 Q-3.36 3.94 -3.195 4.165 Q-3.03 4.39 -2.945 4.69 Q-2.86 4.99 -2.815 5.305 Q-2.77 5.62 -2.765 5.935 Q-2.76 6.25 -2.76 6.51 Q-2.76 6.91 -2.785 7.405 Q-2.81 7.9 -2.945 8.335 Q-3.08 8.77 -3.38 9.07 Q-3.68 9.37 -4.22 9.37 Q-4.76 9.37 -5.06 9.07 Q-5.36 8.77 -5.495 8.335 Q-5.63 7.9 -5.655 7.405 Q-5.68 6.91 -5.68 6.51 ZM-6.58 6.52 Q-6.58 6.91 -6.56 7.33 Q-6.54 7.75 -6.46 8.15 Q-6.38 8.55 -6.23 8.905 Q-6.08 9.26 -5.82 9.53 Q-5.56 9.8 -5.165 9.955 Q-4.77 10.11 -4.22 10.11 Q-3.66 10.11 -3.27 9.955 Q-2.88 9.8 -2.62 9.53 Q-2.36 9.26 -2.21 8.905 Q-2.06 8.55 -1.98 8.15 Q-1.9 7.75 -1.88 7.33 Q-1.86 6.91 -1.86 6.52 Q-1.86 6.13 -1.88 5.71 Q-1.9 5.29 -1.98 4.89 Q-2.06 4.49 -2.21 4.13 Q-2.36 3.77 -2.62 3.5 Q-2.88 3.23 -3.275 3.07 Q-3.67 2.91 -4.22 2.91 Q-4.77 2.91 -5.165 3.07 Q-5.56 3.23 -5.82 3.5 Q-6.08 3.77 -6.23 4.13 Q-6.38 4.49 -6.46 4.89 Q-6.54 5.29 -6.56 5.71 Q-6.58 6.13 -6.58 6.52 ZM-0.61 8.89 L-0.61 10 L0.5 10 L0.5 8.89 ZM2.89 4.75 Q2.89 4.48 2.99 4.28 Q3.09 4.08 3.255 3.94 Q3.42 3.8 3.65 3.73 Q3.88 3.66 4.13 3.66 Q4.65 3.66 4.985 3.935 Q5.32 4.21 5.32 4.75 Q5.32 5.29 4.99 5.59 Q4.66 5.89 4.15 5.89 Q3.89 5.89 3.66 5.82 Q3.43 5.75 3.26 5.61 Q3.09 5.47 2.99 5.255 Q2.89 5.04 2.89 4.75 ZM1.99 4.72 Q1.99 5.2 2.26 5.605 Q2.53 6.01 2.98 6.19 Q2.38 6.4 2.06 6.865 Q1.74 7.33 1.74 7.96 Q1.74 8.5 1.925 8.905 Q2.11 9.31 2.435 9.58 Q2.76 9.85 3.2 9.98 Q3.64 10.11 4.15 10.11 Q4.64 10.11 5.07 9.97 Q5.5 9.83 5.815 9.555 Q6.13 9.28 6.315 8.88 Q6.5 8.48 6.5 7.96 Q6.5 7.3 6.19 6.845 Q5.88 6.39 5.24 6.19 Q5.69 5.99 5.955 5.595 Q6.22 5.2 6.22 4.72 Q6.22 4.38 6.1 4.055 Q5.98 3.73 5.725 3.475 Q5.47 3.22 5.06 3.065 Q4.65 2.91 4.07 2.91 Q3.66 2.91 3.285 3.03 Q2.91 3.15 2.62 3.38 Q2.33 3.61 2.16 3.945 Q1.99 4.28 1.99 4.72 ZM2.64 8 Q2.64 7.69 2.755 7.44 Q2.87 7.19 3.075 7.01 Q3.28 6.83 3.555 6.735 Q3.83 6.64 4.14 6.64 Q4.44 6.64 4.705 6.745 Q4.97 6.85 5.17 7.03 Q5.37 7.21 5.485 7.455 Q5.6 7.7 5.6 7.99 Q5.6 8.29 5.495 8.54 Q5.39 8.79 5.195 8.975 Q5 9.16 4.735 9.265 Q4.47 9.37 4.15 9.37 Q3.49 9.37 3.065 9.005 Q2.64 8.64 2.64 8 Z\"\n",
       "    /></g\n",
       "    ><g transform=\"translate(507,378)\" style=\"font-size:10px; fill:rgb(38,38,38); text-rendering:geometricPrecision; image-rendering:optimizeQuality; color-rendering:optimizeQuality; font-family:'Helvetica Neue'; stroke:rgb(38,38,38); color-interpolation:linearRGB;\"\n",
       "    ><path style=\"stroke:none;\" d=\"M0.56 10 L0.56 2.91 L-0.09 2.91 Q-0.16 3.31 -0.35 3.57 Q-0.54 3.83 -0.815 3.98 Q-1.09 4.13 -1.43 4.185 Q-1.77 4.24 -2.13 4.24 L-2.13 4.92 L-0.29 4.92 L-0.29 10 Z\"\n",
       "    /></g\n",
       "    ><g transform=\"translate(288,403)\" style=\"font-size:11px; fill:rgb(38,38,38); text-rendering:geometricPrecision; image-rendering:optimizeQuality; color-rendering:optimizeQuality; font-family:'Helvetica Neue'; stroke:rgb(38,38,38); color-interpolation:linearRGB;\"\n",
       "    ><path style=\"stroke:none;\" d=\"M2.002 -5.687 L2.002 -7.392 L1.067 -7.392 L1.067 -5.687 L0.099 -5.687 L0.099 -4.862 L1.067 -4.862 L1.067 -1.243 Q1.067 -0.847 1.144 -0.605 Q1.221 -0.363 1.3805 -0.231 Q1.54 -0.099 1.7985 -0.0495 Q2.057 0 2.42 0 L3.135 0 L3.135 -0.825 L2.706 -0.825 Q2.486 -0.825 2.3485 -0.8415 Q2.211 -0.858 2.134 -0.913 Q2.057 -0.968 2.0295 -1.067 Q2.002 -1.166 2.002 -1.331 L2.002 -4.862 L3.135 -4.862 L3.135 -5.687 Z\"\n",
       "    /></g\n",
       "    ><g style=\"fill:rgb(38,38,38); text-rendering:geometricPrecision; image-rendering:optimizeQuality; color-rendering:optimizeQuality; stroke-linejoin:round; stroke:rgb(38,38,38); color-interpolation:linearRGB; stroke-width:0.5;\"\n",
       "    ><line y2=\"31.5\" style=\"fill:none;\" x1=\"73\" x2=\"73\" y1=\"374\"\n",
       "      /><line y2=\"31.5\" style=\"fill:none;\" x1=\"507\" x2=\"507\" y1=\"374\"\n",
       "      /><line y2=\"339.75\" style=\"fill:none;\" x1=\"73\" x2=\"77.34\" y1=\"339.75\"\n",
       "      /><line y2=\"271.25\" style=\"fill:none;\" x1=\"73\" x2=\"77.34\" y1=\"271.25\"\n",
       "      /><line y2=\"202.75\" style=\"fill:none;\" x1=\"73\" x2=\"77.34\" y1=\"202.75\"\n",
       "      /><line y2=\"134.25\" style=\"fill:none;\" x1=\"73\" x2=\"77.34\" y1=\"134.25\"\n",
       "      /><line y2=\"65.75\" style=\"fill:none;\" x1=\"73\" x2=\"77.34\" y1=\"65.75\"\n",
       "      /><line y2=\"339.75\" style=\"fill:none;\" x1=\"507\" x2=\"502.66\" y1=\"339.75\"\n",
       "      /><line y2=\"271.25\" style=\"fill:none;\" x1=\"507\" x2=\"502.66\" y1=\"271.25\"\n",
       "      /><line y2=\"202.75\" style=\"fill:none;\" x1=\"507\" x2=\"502.66\" y1=\"202.75\"\n",
       "      /><line y2=\"134.25\" style=\"fill:none;\" x1=\"507\" x2=\"502.66\" y1=\"134.25\"\n",
       "      /><line y2=\"65.75\" style=\"fill:none;\" x1=\"507\" x2=\"502.66\" y1=\"65.75\"\n",
       "    /></g\n",
       "    ><g transform=\"translate(69,339.75)\" style=\"font-size:10px; fill:rgb(38,38,38); text-rendering:geometricPrecision; image-rendering:optimizeQuality; color-rendering:optimizeQuality; font-family:'Helvetica Neue'; stroke:rgb(38,38,38); color-interpolation:linearRGB;\"\n",
       "    ><path style=\"stroke:none;\" d=\"M-4.68 0.01 Q-4.68 -0.25 -4.675 -0.565 Q-4.67 -0.88 -4.625 -1.195 Q-4.58 -1.51 -4.495 -1.81 Q-4.41 -2.11 -4.245 -2.335 Q-4.08 -2.56 -3.83 -2.7 Q-3.58 -2.84 -3.22 -2.84 Q-2.86 -2.84 -2.61 -2.7 Q-2.36 -2.56 -2.195 -2.335 Q-2.03 -2.11 -1.945 -1.81 Q-1.86 -1.51 -1.815 -1.195 Q-1.77 -0.88 -1.765 -0.565 Q-1.76 -0.25 -1.76 0.01 Q-1.76 0.41 -1.785 0.905 Q-1.81 1.4 -1.945 1.835 Q-2.08 2.27 -2.38 2.57 Q-2.68 2.87 -3.22 2.87 Q-3.76 2.87 -4.06 2.57 Q-4.36 2.27 -4.495 1.835 Q-4.63 1.4 -4.655 0.905 Q-4.68 0.41 -4.68 0.01 ZM-5.58 0.02 Q-5.58 0.41 -5.56 0.83 Q-5.54 1.25 -5.46 1.65 Q-5.38 2.05 -5.23 2.405 Q-5.08 2.76 -4.82 3.03 Q-4.56 3.3 -4.165 3.455 Q-3.77 3.61 -3.22 3.61 Q-2.66 3.61 -2.27 3.455 Q-1.88 3.3 -1.62 3.03 Q-1.36 2.76 -1.21 2.405 Q-1.06 2.05 -0.98 1.65 Q-0.9 1.25 -0.88 0.83 Q-0.86 0.41 -0.86 0.02 Q-0.86 -0.37 -0.88 -0.79 Q-0.9 -1.21 -0.98 -1.61 Q-1.06 -2.01 -1.21 -2.37 Q-1.36 -2.73 -1.62 -3 Q-1.88 -3.27 -2.275 -3.43 Q-2.67 -3.59 -3.22 -3.59 Q-3.77 -3.59 -4.165 -3.43 Q-4.56 -3.27 -4.82 -3 Q-5.08 -2.73 -5.23 -2.37 Q-5.38 -2.01 -5.46 -1.61 Q-5.54 -1.21 -5.56 -0.79 Q-5.58 -0.37 -5.58 0.02 Z\"\n",
       "    /></g\n",
       "    ><g transform=\"translate(69,271.25)\" style=\"font-size:10px; fill:rgb(38,38,38); text-rendering:geometricPrecision; image-rendering:optimizeQuality; color-rendering:optimizeQuality; font-family:'Helvetica Neue'; stroke:rgb(38,38,38); color-interpolation:linearRGB;\"\n",
       "    ><path style=\"stroke:none;\" d=\"M-12.68 0.01 Q-12.68 -0.25 -12.675 -0.565 Q-12.67 -0.88 -12.625 -1.195 Q-12.58 -1.51 -12.495 -1.81 Q-12.41 -2.11 -12.245 -2.335 Q-12.08 -2.56 -11.83 -2.7 Q-11.58 -2.84 -11.22 -2.84 Q-10.86 -2.84 -10.61 -2.7 Q-10.36 -2.56 -10.195 -2.335 Q-10.03 -2.11 -9.945 -1.81 Q-9.86 -1.51 -9.815 -1.195 Q-9.77 -0.88 -9.765 -0.565 Q-9.76 -0.25 -9.76 0.01 Q-9.76 0.41 -9.785 0.905 Q-9.81 1.4 -9.945 1.835 Q-10.08 2.27 -10.38 2.57 Q-10.68 2.87 -11.22 2.87 Q-11.76 2.87 -12.06 2.57 Q-12.36 2.27 -12.495 1.835 Q-12.63 1.4 -12.655 0.905 Q-12.68 0.41 -12.68 0.01 ZM-13.58 0.02 Q-13.58 0.41 -13.56 0.83 Q-13.54 1.25 -13.46 1.65 Q-13.38 2.05 -13.23 2.405 Q-13.08 2.76 -12.82 3.03 Q-12.56 3.3 -12.165 3.455 Q-11.77 3.61 -11.22 3.61 Q-10.66 3.61 -10.27 3.455 Q-9.88 3.3 -9.62 3.03 Q-9.36 2.76 -9.21 2.405 Q-9.06 2.05 -8.98 1.65 Q-8.9 1.25 -8.88 0.83 Q-8.86 0.41 -8.86 0.02 Q-8.86 -0.37 -8.88 -0.79 Q-8.9 -1.21 -8.98 -1.61 Q-9.06 -2.01 -9.21 -2.37 Q-9.36 -2.73 -9.62 -3 Q-9.88 -3.27 -10.275 -3.43 Q-10.67 -3.59 -11.22 -3.59 Q-11.77 -3.59 -12.165 -3.43 Q-12.56 -3.27 -12.82 -3 Q-13.08 -2.73 -13.23 -2.37 Q-13.38 -2.01 -13.46 -1.61 Q-13.54 -1.21 -13.56 -0.79 Q-13.58 -0.37 -13.58 0.02 ZM-7.61 2.39 L-7.61 3.5 L-6.5 3.5 L-6.5 2.39 ZM-0.96 -2.72 L-0.96 -3.47 L-4.46 -3.47 L-5.12 0.21 L-4.39 0.25 Q-4.14 -0.05 -3.815 -0.235 Q-3.49 -0.42 -3.07 -0.42 Q-2.71 -0.42 -2.415 -0.3 Q-2.12 -0.18 -1.91 0.035 Q-1.7 0.25 -1.585 0.545 Q-1.47 0.84 -1.47 1.19 Q-1.47 1.61 -1.59 1.925 Q-1.71 2.24 -1.915 2.45 Q-2.12 2.66 -2.395 2.765 Q-2.67 2.87 -2.97 2.87 Q-3.29 2.87 -3.555 2.775 Q-3.82 2.68 -4.015 2.505 Q-4.21 2.33 -4.325 2.095 Q-4.44 1.86 -4.46 1.59 L-5.31 1.59 Q-5.3 2.07 -5.12 2.45 Q-4.94 2.83 -4.63 3.085 Q-4.32 3.34 -3.915 3.475 Q-3.51 3.61 -3.05 3.61 Q-2.43 3.61 -1.965 3.415 Q-1.5 3.22 -1.19 2.89 Q-0.88 2.56 -0.725 2.135 Q-0.57 1.71 -0.57 1.26 Q-0.57 0.65 -0.75 0.195 Q-0.93 -0.26 -1.24 -0.565 Q-1.55 -0.87 -1.97 -1.02 Q-2.39 -1.17 -2.86 -1.17 Q-3.22 -1.17 -3.585 -1.045 Q-3.95 -0.92 -4.18 -0.66 L-4.2 -0.68 L-3.82 -2.72 Z\"\n",
       "    /></g\n",
       "    ><g transform=\"translate(69,202.75)\" style=\"font-size:10px; fill:rgb(38,38,38); text-rendering:geometricPrecision; image-rendering:optimizeQuality; color-rendering:optimizeQuality; font-family:'Helvetica Neue'; stroke:rgb(38,38,38); color-interpolation:linearRGB;\"\n",
       "    ><path style=\"stroke:none;\" d=\"M-2.44 3.5 L-2.44 -3.59 L-3.09 -3.59 Q-3.16 -3.19 -3.35 -2.93 Q-3.54 -2.67 -3.815 -2.52 Q-4.09 -2.37 -4.43 -2.315 Q-4.77 -2.26 -5.13 -2.26 L-5.13 -1.58 L-3.29 -1.58 L-3.29 3.5 Z\"\n",
       "    /></g\n",
       "    ><g transform=\"translate(69,134.25)\" style=\"font-size:10px; fill:rgb(38,38,38); text-rendering:geometricPrecision; image-rendering:optimizeQuality; color-rendering:optimizeQuality; font-family:'Helvetica Neue'; stroke:rgb(38,38,38); color-interpolation:linearRGB;\"\n",
       "    ><path style=\"stroke:none;\" d=\"M-10.44 3.5 L-10.44 -3.59 L-11.09 -3.59 Q-11.16 -3.19 -11.35 -2.93 Q-11.54 -2.67 -11.815 -2.52 Q-12.09 -2.37 -12.43 -2.315 Q-12.77 -2.26 -13.13 -2.26 L-13.13 -1.58 L-11.29 -1.58 L-11.29 3.5 ZM-7.61 2.39 L-7.61 3.5 L-6.5 3.5 L-6.5 2.39 ZM-0.96 -2.72 L-0.96 -3.47 L-4.46 -3.47 L-5.12 0.21 L-4.39 0.25 Q-4.14 -0.05 -3.815 -0.235 Q-3.49 -0.42 -3.07 -0.42 Q-2.71 -0.42 -2.415 -0.3 Q-2.12 -0.18 -1.91 0.035 Q-1.7 0.25 -1.585 0.545 Q-1.47 0.84 -1.47 1.19 Q-1.47 1.61 -1.59 1.925 Q-1.71 2.24 -1.915 2.45 Q-2.12 2.66 -2.395 2.765 Q-2.67 2.87 -2.97 2.87 Q-3.29 2.87 -3.555 2.775 Q-3.82 2.68 -4.015 2.505 Q-4.21 2.33 -4.325 2.095 Q-4.44 1.86 -4.46 1.59 L-5.31 1.59 Q-5.3 2.07 -5.12 2.45 Q-4.94 2.83 -4.63 3.085 Q-4.32 3.34 -3.915 3.475 Q-3.51 3.61 -3.05 3.61 Q-2.43 3.61 -1.965 3.415 Q-1.5 3.22 -1.19 2.89 Q-0.88 2.56 -0.725 2.135 Q-0.57 1.71 -0.57 1.26 Q-0.57 0.65 -0.75 0.195 Q-0.93 -0.26 -1.24 -0.565 Q-1.55 -0.87 -1.97 -1.02 Q-2.39 -1.17 -2.86 -1.17 Q-3.22 -1.17 -3.585 -1.045 Q-3.95 -0.92 -4.18 -0.66 L-4.2 -0.68 L-3.82 -2.72 Z\"\n",
       "    /></g\n",
       "    ><g transform=\"translate(69,65.75)\" style=\"font-size:10px; fill:rgb(38,38,38); text-rendering:geometricPrecision; image-rendering:optimizeQuality; color-rendering:optimizeQuality; font-family:'Helvetica Neue'; stroke:rgb(38,38,38); color-interpolation:linearRGB;\"\n",
       "    ><path style=\"stroke:none;\" d=\"M-5.56 -1.08 L-4.71 -1.08 Q-4.72 -1.4 -4.645 -1.715 Q-4.57 -2.03 -4.4 -2.28 Q-4.23 -2.53 -3.965 -2.685 Q-3.7 -2.84 -3.33 -2.84 Q-3.05 -2.84 -2.8 -2.75 Q-2.55 -2.66 -2.365 -2.49 Q-2.18 -2.32 -2.07 -2.085 Q-1.96 -1.85 -1.96 -1.56 Q-1.96 -1.19 -2.075 -0.91 Q-2.19 -0.63 -2.415 -0.39 Q-2.64 -0.15 -2.98 0.085 Q-3.32 0.32 -3.77 0.6 Q-4.14 0.82 -4.48 1.07 Q-4.82 1.32 -5.09 1.65 Q-5.36 1.98 -5.535 2.425 Q-5.71 2.87 -5.76 3.5 L-1.13 3.5 L-1.13 2.75 L-4.77 2.75 Q-4.71 2.42 -4.515 2.165 Q-4.32 1.91 -4.045 1.69 Q-3.77 1.47 -3.44 1.275 Q-3.11 1.08 -2.78 0.88 Q-2.45 0.67 -2.14 0.44 Q-1.83 0.21 -1.59 -0.075 Q-1.35 -0.36 -1.205 -0.72 Q-1.06 -1.08 -1.06 -1.55 Q-1.06 -2.05 -1.235 -2.43 Q-1.41 -2.81 -1.71 -3.065 Q-2.01 -3.32 -2.415 -3.455 Q-2.82 -3.59 -3.28 -3.59 Q-3.84 -3.59 -4.28 -3.4 Q-4.72 -3.21 -5.015 -2.875 Q-5.31 -2.54 -5.45 -2.08 Q-5.59 -1.62 -5.56 -1.08 Z\"\n",
       "    /></g\n",
       "    ><g transform=\"translate(290.0003,30.125)\" style=\"font-size:11px; text-rendering:geometricPrecision; color-rendering:optimizeQuality; image-rendering:optimizeQuality; font-family:'mwa_cmr10'; color-interpolation:linearRGB;\"\n",
       "    ><path style=\"stroke:none;\" d=\"M-60.7837 -3.96 L-60.7837 -4.3507 Q-59.7993 -4.3507 -59.5806 -4.9913 L-57.2681 -11.71 Q-57.2368 -11.835 -57.0962 -11.835 L-56.9556 -11.835 Q-56.8149 -11.835 -56.7837 -11.71 L-54.3618 -4.6944 Q-54.2681 -4.46 -53.979 -4.4054 Q-53.6899 -4.3507 -53.2524 -4.3507 L-53.2524 -3.96 L-56.3306 -3.96 L-56.3306 -4.3507 Q-55.4087 -4.3507 -55.4087 -4.6475 L-55.4087 -4.6944 L-56.0024 -6.4132 L-58.6743 -6.4132 L-59.1743 -4.9913 Q-59.1899 -4.96 -59.1899 -4.8819 Q-59.1899 -4.6163 -58.9243 -4.4835 Q-58.6587 -4.3507 -58.3618 -4.3507 L-58.3618 -3.96 L-60.7837 -3.96 ZM-58.5493 -6.8038 L-56.1431 -6.8038 L-57.3462 -10.3038 L-58.5493 -6.8038 Z\"\n",
       "      /><path style=\"stroke:none;\" d=\"M-52.5649 -3.96 L-52.5649 -4.3507 Q-52.1899 -4.3507 -51.9477 -4.4054 Q-51.7056 -4.46 -51.7056 -4.6944 L-51.7056 -7.6944 Q-51.7056 -7.9913 -51.7915 -8.1241 Q-51.8774 -8.2569 -52.0493 -8.2882 Q-52.2212 -8.3194 -52.5649 -8.3194 L-52.5649 -8.71 L-50.9712 -8.8194 L-50.9712 -7.7413 Q-50.7524 -8.2257 -50.3149 -8.5225 Q-49.8774 -8.8194 -49.3774 -8.8194 Q-48.1118 -8.8194 -47.8931 -7.7882 Q-47.6743 -8.2569 -47.2446 -8.5382 Q-46.8149 -8.8194 -46.3149 -8.8194 Q-45.8149 -8.8194 -45.4712 -8.6554 Q-45.1274 -8.4913 -44.9556 -8.1632 Q-44.7837 -7.835 -44.7837 -7.335 L-44.7837 -4.6944 Q-44.7837 -4.46 -44.5415 -4.4054 Q-44.2993 -4.3507 -43.9243 -4.3507 L-43.9243 -3.96 L-46.4399 -3.96 L-46.4399 -4.3507 Q-46.0649 -4.3507 -45.8227 -4.4054 Q-45.5806 -4.46 -45.5806 -4.6944 L-45.5806 -7.3038 Q-45.5806 -7.8663 -45.7368 -8.2022 Q-45.8931 -8.5382 -46.3774 -8.5382 Q-47.0181 -8.5382 -47.4321 -8.0304 Q-47.8462 -7.5225 -47.8462 -6.8663 L-47.8462 -4.6944 Q-47.8462 -4.46 -47.604 -4.4054 Q-47.3618 -4.3507 -46.9868 -4.3507 L-46.9868 -3.96 L-49.5024 -3.96 L-49.5024 -4.3507 Q-49.1274 -4.3507 -48.8852 -4.4054 Q-48.6431 -4.46 -48.6431 -4.6944 L-48.6431 -7.3038 Q-48.6431 -7.8507 -48.7993 -8.1944 Q-48.9556 -8.5382 -49.4399 -8.5382 Q-50.0806 -8.5382 -50.4868 -8.0304 Q-50.8931 -7.5225 -50.8931 -6.8663 L-50.8931 -4.6944 Q-50.8931 -4.46 -50.6587 -4.4054 Q-50.4243 -4.3507 -50.0493 -4.3507 L-50.0493 -3.96 L-52.5649 -3.96 Z\"\n",
       "      /><path style=\"stroke:none;\" d=\"M-43.4451 -1.835 L-43.4451 -2.21 Q-43.0701 -2.21 -42.8279 -2.2725 Q-42.5857 -2.335 -42.5857 -2.5694 L-42.5857 -7.8663 Q-42.5857 -8.1632 -42.7967 -8.2413 Q-43.0076 -8.3194 -43.4451 -8.3194 L-43.4451 -8.71 L-41.8201 -8.8194 L-41.8201 -8.1319 Q-41.5076 -8.4757 -41.1092 -8.6475 Q-40.7107 -8.8194 -40.2576 -8.8194 Q-39.617 -8.8194 -39.0935 -8.4679 Q-38.5701 -8.1163 -38.281 -7.546 Q-37.992 -6.9757 -37.992 -6.335 Q-37.992 -5.6632 -38.3123 -5.0929 Q-38.6326 -4.5225 -39.1951 -4.1788 Q-39.7576 -3.835 -40.4295 -3.835 Q-41.2264 -3.835 -41.7889 -4.4913 L-41.7889 -2.5694 Q-41.7889 -2.335 -41.5389 -2.2725 Q-41.2889 -2.21 -40.9295 -2.21 L-40.9295 -1.835 L-43.4451 -1.835 ZM-41.7889 -5.0225 Q-41.5857 -4.6319 -41.242 -4.3819 Q-40.8982 -4.1319 -40.492 -4.1319 Q-40.117 -4.1319 -39.8201 -4.335 Q-39.5232 -4.5382 -39.3279 -4.8819 Q-39.1326 -5.2257 -39.0389 -5.6007 Q-38.9451 -5.9757 -38.9451 -6.335 Q-38.9451 -6.7725 -39.1014 -7.2882 Q-39.2576 -7.8038 -39.5857 -8.1554 Q-39.9139 -8.5069 -40.367 -8.5069 Q-40.8201 -8.5069 -41.1873 -8.2804 Q-41.5545 -8.0538 -41.7889 -7.6632 L-41.7889 -5.0225 Z\"\n",
       "      /><path style=\"stroke:none;\" d=\"M-37.2715 -3.96 L-37.2715 -4.3507 Q-36.8965 -4.3507 -36.6543 -4.4054 Q-36.4121 -4.46 -36.4121 -4.6944 L-36.4121 -10.4757 Q-36.4121 -10.7725 -36.5059 -10.8975 Q-36.5996 -11.0225 -36.7637 -11.0538 Q-36.9277 -11.085 -37.2715 -11.085 L-37.2715 -11.4757 L-35.6465 -11.585 L-35.6465 -4.6944 Q-35.6465 -4.46 -35.4043 -4.4054 Q-35.1621 -4.3507 -34.7871 -4.3507 L-34.7871 -3.96 L-37.2715 -3.96 Z\"\n",
       "      /><path style=\"stroke:none;\" d=\"M-34.2159 -3.96 L-34.2159 -4.3507 Q-33.8409 -4.3507 -33.5987 -4.4054 Q-33.3565 -4.46 -33.3565 -4.6944 L-33.3565 -7.6944 Q-33.3565 -8.1163 -33.5206 -8.2179 Q-33.6847 -8.3194 -34.169 -8.3194 L-34.169 -8.71 L-32.5909 -8.8194 L-32.5909 -4.6944 Q-32.5909 -4.46 -32.38 -4.4054 Q-32.169 -4.3507 -31.8253 -4.3507 L-31.8253 -3.96 L-34.2159 -3.96 ZM-33.7472 -10.71 Q-33.7472 -10.96 -33.5675 -11.1397 Q-33.3878 -11.3194 -33.1534 -11.3194 Q-32.9972 -11.3194 -32.8487 -11.2413 Q-32.7003 -11.1632 -32.6222 -11.0147 Q-32.544 -10.8663 -32.544 -10.71 Q-32.544 -10.4757 -32.7237 -10.296 Q-32.9034 -10.1163 -33.1534 -10.1163 Q-33.3878 -10.1163 -33.5675 -10.296 Q-33.7472 -10.4757 -33.7472 -10.71 Z\"\n",
       "      /><path style=\"stroke:none;\" d=\"M-30.3791 -5.2882 L-30.3791 -8.3194 L-31.301 -8.3194 L-31.301 -8.6007 Q-30.5822 -8.6007 -30.2385 -9.2725 Q-29.8947 -9.9444 -29.8947 -10.7257 L-29.5822 -10.7257 L-29.5822 -8.71 L-28.0354 -8.71 L-28.0354 -8.3194 L-29.5822 -8.3194 L-29.5822 -5.3038 Q-29.5822 -4.8507 -29.426 -4.5069 Q-29.2697 -4.1632 -28.8791 -4.1632 Q-28.5041 -4.1632 -28.34 -4.5225 Q-28.176 -4.8819 -28.176 -5.3038 L-28.176 -5.96 L-27.8479 -5.96 L-27.8479 -5.2882 Q-27.8479 -4.9444 -27.9729 -4.6085 Q-28.0979 -4.2725 -28.3479 -4.0538 Q-28.5979 -3.835 -28.9572 -3.835 Q-29.6135 -3.835 -29.9963 -4.2335 Q-30.3791 -4.6319 -30.3791 -5.2882 Z\"\n",
       "      /><path style=\"stroke:none;\" d=\"M-26.0388 -5.2725 L-26.0388 -7.6944 Q-26.0388 -7.9913 -26.1247 -8.1241 Q-26.2107 -8.2569 -26.3826 -8.2882 Q-26.5544 -8.3194 -26.8982 -8.3194 L-26.8982 -8.71 L-25.2263 -8.8194 L-25.2263 -5.2725 Q-25.2263 -4.835 -25.1716 -4.6007 Q-25.1169 -4.3663 -24.9138 -4.2491 Q-24.7107 -4.1319 -24.2732 -4.1319 Q-23.6794 -4.1319 -23.3279 -4.6241 Q-22.9763 -5.1163 -22.9763 -5.7413 L-22.9763 -7.6944 Q-22.9763 -7.9913 -23.0701 -8.1241 Q-23.1638 -8.2569 -23.3279 -8.2882 Q-23.4919 -8.3194 -23.8357 -8.3194 L-23.8357 -8.71 L-22.1794 -8.8194 L-22.1794 -4.96 Q-22.1794 -4.6632 -22.0935 -4.5382 Q-22.0076 -4.4132 -21.8357 -4.3819 Q-21.6638 -4.3507 -21.3201 -4.3507 L-21.3201 -3.96 L-22.9451 -3.835 L-22.9451 -4.7725 Q-23.1482 -4.3507 -23.5154 -4.0929 Q-23.8826 -3.835 -24.3201 -3.835 Q-25.1169 -3.835 -25.5779 -4.171 Q-26.0388 -4.5069 -26.0388 -5.2725 Z\"\n",
       "      /><path style=\"stroke:none;\" d=\"M-18.4277 -3.835 Q-19.0839 -3.835 -19.6152 -4.1866 Q-20.1464 -4.5382 -20.4511 -5.1163 Q-20.7558 -5.6944 -20.7558 -6.335 Q-20.7558 -7.0069 -20.4277 -7.5772 Q-20.0996 -8.1475 -19.5449 -8.4835 Q-18.9902 -8.8194 -18.3183 -8.8194 Q-17.9121 -8.8194 -17.5527 -8.6475 Q-17.1933 -8.4757 -16.9277 -8.1788 L-16.9277 -10.4757 Q-16.9277 -10.7725 -17.0136 -10.8975 Q-17.0996 -11.0225 -17.2636 -11.0538 Q-17.4277 -11.085 -17.7871 -11.085 L-17.7871 -11.4757 L-16.1464 -11.585 L-16.1464 -4.96 Q-16.1464 -4.6632 -16.0605 -4.5382 Q-15.9746 -4.4132 -15.8105 -4.3819 Q-15.6464 -4.3507 -15.3027 -4.3507 L-15.3027 -3.96 L-16.9589 -3.835 L-16.9589 -4.5225 Q-17.2402 -4.1944 -17.6308 -4.0147 Q-18.0214 -3.835 -18.4277 -3.835 ZM-19.5527 -4.9132 Q-19.3652 -4.5538 -19.0527 -4.3429 Q-18.7402 -4.1319 -18.3652 -4.1319 Q-17.9121 -4.1319 -17.5292 -4.3897 Q-17.1464 -4.6475 -16.9589 -5.0694 L-16.9589 -7.71 Q-17.0839 -7.9444 -17.2792 -8.1397 Q-17.4746 -8.335 -17.7246 -8.4366 Q-17.9746 -8.5382 -18.2402 -8.5382 Q-18.8183 -8.5382 -19.1699 -8.21 Q-19.5214 -7.8819 -19.6542 -7.3819 Q-19.7871 -6.8819 -19.7871 -6.3194 Q-19.7871 -5.8819 -19.748 -5.5538 Q-19.7089 -5.2257 -19.5527 -4.9132 Z\"\n",
       "      /><path style=\"stroke:none;\" d=\"M-12.2697 -3.835 Q-12.9416 -3.835 -13.4962 -4.1866 Q-14.0509 -4.5382 -14.3712 -5.1241 Q-14.6916 -5.71 -14.6916 -6.3663 Q-14.6916 -7.0225 -14.4025 -7.6007 Q-14.1134 -8.1788 -13.59 -8.5382 Q-13.0666 -8.8975 -12.4259 -8.8975 Q-11.9103 -8.8975 -11.5431 -8.7257 Q-11.1759 -8.5538 -10.9337 -8.2491 Q-10.6916 -7.9444 -10.5666 -7.5382 Q-10.4416 -7.1319 -10.4416 -6.6475 Q-10.4416 -6.5069 -10.5509 -6.5069 L-13.7384 -6.5069 L-13.7384 -6.3819 Q-13.7384 -5.4757 -13.3712 -4.8194 Q-13.0041 -4.1632 -12.1603 -4.1632 Q-11.8322 -4.1632 -11.5431 -4.3116 Q-11.2541 -4.46 -11.0431 -4.7257 Q-10.8322 -4.9913 -10.7541 -5.3038 Q-10.7384 -5.335 -10.715 -5.3663 Q-10.6916 -5.3975 -10.6447 -5.3975 L-10.5509 -5.3975 Q-10.4416 -5.3975 -10.4416 -5.2569 Q-10.5978 -4.6319 -11.1134 -4.2335 Q-11.6291 -3.835 -12.2697 -3.835 ZM-13.7228 -6.7725 L-11.2228 -6.7725 Q-11.2228 -7.1944 -11.3322 -7.6163 Q-11.4416 -8.0382 -11.715 -8.3194 Q-11.9884 -8.6007 -12.4259 -8.6007 Q-13.0509 -8.6007 -13.3869 -8.0147 Q-13.7228 -7.4288 -13.7228 -6.7725 Z\"\n",
       "      /><path style=\"stroke:none;\" d=\"M-6.0891 -3.9288 L-6.0891 -5.7257 Q-6.0891 -5.8038 -5.9798 -5.8038 L-5.8548 -5.8038 Q-5.7923 -5.8038 -5.761 -5.7257 Q-5.4641 -4.1319 -4.2766 -4.1319 Q-3.761 -4.1319 -3.4094 -4.3663 Q-3.0579 -4.6007 -3.0579 -5.1007 Q-3.0579 -5.4444 -3.3313 -5.6944 Q-3.6048 -5.9444 -3.9798 -6.0382 L-4.7141 -6.1788 Q-5.0891 -6.2569 -5.3938 -6.4288 Q-5.6985 -6.6007 -5.8938 -6.8741 Q-6.0891 -7.1475 -6.0891 -7.5225 Q-6.0891 -8.0069 -5.8313 -8.3116 Q-5.5735 -8.6163 -5.1673 -8.7569 Q-4.761 -8.8975 -4.2766 -8.8975 Q-3.7141 -8.8975 -3.3079 -8.585 L-2.9798 -8.8663 Q-2.9798 -8.8975 -2.9329 -8.8975 L-2.8548 -8.8975 Q-2.8235 -8.8975 -2.7923 -8.8663 Q-2.761 -8.835 -2.761 -8.8038 L-2.761 -7.3663 Q-2.761 -7.2569 -2.8548 -7.2569 L-2.9798 -7.2569 Q-3.0735 -7.2569 -3.0735 -7.3663 Q-3.0735 -7.9288 -3.3938 -8.2804 Q-3.7141 -8.6319 -4.2923 -8.6319 Q-4.7923 -8.6319 -5.1516 -8.4522 Q-5.511 -8.2725 -5.511 -7.8194 Q-5.511 -7.5225 -5.2532 -7.3194 Q-4.9954 -7.1163 -4.636 -7.0382 L-3.9016 -6.8975 Q-3.5266 -6.8194 -3.1985 -6.6085 Q-2.8704 -6.3975 -2.6829 -6.0929 Q-2.4954 -5.7882 -2.4954 -5.3819 Q-2.4954 -4.9913 -2.6282 -4.7022 Q-2.761 -4.4132 -3.0032 -4.2179 Q-3.2454 -4.0225 -3.5813 -3.9288 Q-3.9173 -3.835 -4.2766 -3.835 Q-4.9641 -3.835 -5.4641 -4.3038 L-5.8704 -3.8663 Q-5.8704 -3.835 -5.9173 -3.835 L-5.9798 -3.835 Q-6.0891 -3.835 -6.0891 -3.9288 Z\"\n",
       "      /><path style=\"stroke:none;\" d=\"M0.6248 -3.835 Q-0.0315 -3.835 -0.5784 -4.1788 Q-1.1252 -4.5225 -1.4377 -5.1007 Q-1.7502 -5.6788 -1.7502 -6.335 Q-1.7502 -6.9913 -1.4377 -7.585 Q-1.1252 -8.1788 -0.5784 -8.5382 Q-0.0315 -8.8975 0.6248 -8.8975 Q1.281 -8.8975 1.8044 -8.6397 Q2.3279 -8.3819 2.3279 -7.8038 Q2.3279 -7.6007 2.1794 -7.4366 Q2.031 -7.2725 1.8123 -7.2725 Q1.5935 -7.2725 1.4373 -7.4366 Q1.281 -7.6007 1.281 -7.8038 Q1.281 -8.0069 1.406 -8.1475 Q1.531 -8.2882 1.7029 -8.3194 Q1.3279 -8.5694 0.6404 -8.5694 Q0.1091 -8.5694 -0.2112 -8.2179 Q-0.5315 -7.8663 -0.6565 -7.3507 Q-0.7815 -6.835 -0.7815 -6.335 Q-0.7815 -5.8038 -0.6252 -5.3038 Q-0.469 -4.8038 -0.1174 -4.4835 Q0.2341 -4.1632 0.7654 -4.1632 Q1.281 -4.1632 1.6482 -4.4835 Q2.0154 -4.8038 2.156 -5.3194 Q2.156 -5.3819 2.2341 -5.3819 L2.3748 -5.3819 Q2.406 -5.3819 2.4294 -5.3507 Q2.4529 -5.3194 2.4529 -5.2882 L2.4529 -5.2569 Q2.2966 -4.6007 1.7966 -4.2179 Q1.2966 -3.835 0.6248 -3.835 Z\"\n",
       "      /><path style=\"stroke:none;\" d=\"M3.2168 -5.0382 Q3.2168 -5.6944 3.7324 -6.1085 Q4.248 -6.5225 4.9746 -6.6866 Q5.7011 -6.8507 6.3418 -6.8507 L6.3418 -7.3038 Q6.3418 -7.6163 6.2011 -7.921 Q6.0605 -8.2257 5.8027 -8.4132 Q5.5449 -8.6007 5.2168 -8.6007 Q4.498 -8.6007 4.1074 -8.2725 Q4.3261 -8.2725 4.459 -8.1163 Q4.5918 -7.96 4.5918 -7.7413 Q4.5918 -7.5225 4.4355 -7.3663 Q4.2793 -7.21 4.0761 -7.21 Q3.8418 -7.21 3.6855 -7.3663 Q3.5293 -7.5225 3.5293 -7.7413 Q3.5293 -8.3194 4.0605 -8.6085 Q4.5918 -8.8975 5.2168 -8.8975 Q5.6699 -8.8975 6.123 -8.7022 Q6.5761 -8.5069 6.8574 -8.1554 Q7.1386 -7.8038 7.1386 -7.335 L7.1386 -4.8507 Q7.1386 -4.6319 7.2324 -4.4522 Q7.3261 -4.2725 7.5293 -4.2725 Q7.7011 -4.2725 7.7949 -4.46 Q7.8886 -4.6475 7.8886 -4.8507 L7.8886 -5.5538 L8.2011 -5.5538 L8.2011 -4.8507 Q8.2011 -4.6007 8.0761 -4.3819 Q7.9511 -4.1632 7.7324 -4.0304 Q7.5136 -3.8975 7.2636 -3.8975 Q6.9355 -3.8975 6.7011 -4.1475 Q6.4668 -4.3975 6.4355 -4.7413 Q6.2324 -4.3194 5.8418 -4.0772 Q5.4511 -3.835 4.998 -3.835 Q4.5761 -3.835 4.1699 -3.96 Q3.7636 -4.085 3.4902 -4.3507 Q3.2168 -4.6163 3.2168 -5.0382 ZM4.1074 -5.0382 Q4.1074 -4.6475 4.3965 -4.3897 Q4.6855 -4.1319 5.0605 -4.1319 Q5.4199 -4.1319 5.709 -4.3038 Q5.998 -4.4757 6.1699 -4.7882 Q6.3418 -5.1007 6.3418 -5.4288 L6.3418 -6.5694 Q5.8418 -6.5694 5.3183 -6.4054 Q4.7949 -6.2413 4.4511 -5.8975 Q4.1074 -5.5538 4.1074 -5.0382 Z\"\n",
       "      /><path style=\"stroke:none;\" d=\"M8.623 -3.96 L8.623 -4.3507 Q8.998 -4.3507 9.2402 -4.4054 Q9.4824 -4.46 9.4824 -4.6944 L9.4824 -10.4757 Q9.4824 -10.7725 9.3887 -10.8975 Q9.2949 -11.0225 9.1309 -11.0538 Q8.9668 -11.085 8.623 -11.085 L8.623 -11.4757 L10.248 -11.585 L10.248 -4.6944 Q10.248 -4.46 10.4902 -4.4054 Q10.7324 -4.3507 11.1074 -4.3507 L11.1074 -3.96 L8.623 -3.96 Z\"\n",
       "      /><path style=\"stroke:none;\" d=\"M11.6786 -3.96 L11.6786 -4.3507 Q12.0536 -4.3507 12.2958 -4.4054 Q12.538 -4.46 12.538 -4.6944 L12.538 -7.6944 Q12.538 -8.1163 12.3739 -8.2179 Q12.2099 -8.3194 11.7255 -8.3194 L11.7255 -8.71 L13.3036 -8.8194 L13.3036 -4.6944 Q13.3036 -4.46 13.5145 -4.4054 Q13.7255 -4.3507 14.0692 -4.3507 L14.0692 -3.96 L11.6786 -3.96 ZM12.1474 -10.71 Q12.1474 -10.96 12.327 -11.1397 Q12.5067 -11.3194 12.7411 -11.3194 Q12.8974 -11.3194 13.0458 -11.2413 Q13.1942 -11.1632 13.2724 -11.0147 Q13.3505 -10.8663 13.3505 -10.71 Q13.3505 -10.4757 13.1708 -10.296 Q12.9911 -10.1163 12.7411 -10.1163 Q12.5067 -10.1163 12.327 -10.296 Q12.1474 -10.4757 12.1474 -10.71 Z\"\n",
       "      /><path style=\"stroke:none;\" d=\"M14.7185 -3.96 L14.7185 -4.3507 Q15.0935 -4.3507 15.3357 -4.4054 Q15.5779 -4.46 15.5779 -4.6944 L15.5779 -7.6944 Q15.5779 -7.9913 15.492 -8.1241 Q15.406 -8.2569 15.2342 -8.2882 Q15.0623 -8.3194 14.7185 -8.3194 L14.7185 -8.71 L16.3123 -8.8194 L16.3123 -7.7413 Q16.531 -8.2257 16.9685 -8.5225 Q17.406 -8.8194 17.906 -8.8194 Q18.6717 -8.8194 19.0545 -8.4522 Q19.4373 -8.085 19.4373 -7.335 L19.4373 -4.6944 Q19.4373 -4.46 19.6795 -4.4054 Q19.9217 -4.3507 20.2967 -4.3507 L20.2967 -3.96 L17.781 -3.96 L17.781 -4.3507 Q18.156 -4.3507 18.3982 -4.4054 Q18.6404 -4.46 18.6404 -4.6944 L18.6404 -7.3038 Q18.6404 -7.8507 18.4842 -8.1944 Q18.3279 -8.5382 17.8435 -8.5382 Q17.2029 -8.5382 16.7967 -8.0304 Q16.3904 -7.5225 16.3904 -6.8663 L16.3904 -4.6944 Q16.3904 -4.46 16.6248 -4.4054 Q16.8592 -4.3507 17.2342 -4.3507 L17.2342 -3.96 L14.7185 -3.96 Z\"\n",
       "      /><path style=\"stroke:none;\" d=\"M20.814 -3.1007 Q20.814 -3.4913 21.0953 -3.7882 Q21.3765 -4.085 21.7672 -4.1944 Q21.5484 -4.3663 21.4312 -4.6163 Q21.314 -4.8663 21.314 -5.1632 Q21.314 -5.6788 21.6422 -6.0694 Q21.1422 -6.5694 21.1422 -7.21 Q21.1422 -7.5538 21.2906 -7.8507 Q21.439 -8.1475 21.7047 -8.3663 Q21.9703 -8.585 22.2906 -8.7022 Q22.6109 -8.8194 22.939 -8.8194 Q23.5953 -8.8194 24.1265 -8.4444 Q24.3453 -8.6788 24.6578 -8.8116 Q24.9703 -8.9444 25.2984 -8.9444 Q25.5328 -8.9444 25.6812 -8.7725 Q25.8297 -8.6007 25.8297 -8.3663 Q25.8297 -8.2413 25.7281 -8.1397 Q25.6265 -8.0382 25.5015 -8.0382 Q25.3609 -8.0382 25.2594 -8.1397 Q25.1578 -8.2413 25.1578 -8.3663 Q25.1578 -8.5694 25.2828 -8.6475 Q24.7203 -8.6475 24.314 -8.2569 Q24.5015 -8.0694 24.6265 -7.7804 Q24.7515 -7.4913 24.7515 -7.21 Q24.7515 -6.7413 24.4937 -6.3663 Q24.2359 -5.9913 23.814 -5.7804 Q23.3922 -5.5694 22.939 -5.5694 Q22.3453 -5.5694 21.8453 -5.8975 Q21.689 -5.6944 21.689 -5.4288 Q21.689 -5.1319 21.8765 -4.9132 Q22.064 -4.6944 22.3609 -4.6944 L23.2672 -4.6944 Q23.9234 -4.6944 24.4469 -4.5772 Q24.9703 -4.46 25.3297 -4.1085 Q25.689 -3.7569 25.689 -3.1007 Q25.689 -2.6163 25.275 -2.296 Q24.8609 -1.9757 24.2984 -1.835 Q23.7359 -1.6944 23.2515 -1.6944 Q22.7672 -1.6944 22.1969 -1.835 Q21.6265 -1.9757 21.2203 -2.296 Q20.814 -2.6163 20.814 -3.1007 ZM21.4234 -3.1007 Q21.4234 -2.7257 21.7281 -2.4757 Q22.0328 -2.2257 22.4547 -2.1085 Q22.8765 -1.9913 23.2515 -1.9913 Q23.6265 -1.9913 24.0484 -2.1085 Q24.4703 -2.2257 24.7672 -2.4757 Q25.064 -2.7257 25.064 -3.1007 Q25.064 -3.6788 24.5406 -3.8429 Q24.0172 -4.0069 23.2672 -4.0069 L22.3609 -4.0069 Q22.1109 -4.0069 21.9 -3.8897 Q21.689 -3.7725 21.5562 -3.5538 Q21.4234 -3.335 21.4234 -3.1007 ZM22.939 -5.8663 Q23.8765 -5.8663 23.8765 -7.21 Q23.8765 -7.7725 23.6812 -8.1475 Q23.4859 -8.5225 22.939 -8.5225 Q22.4078 -8.5225 22.2125 -8.1475 Q22.0172 -7.7725 22.0172 -7.21 Q22.0172 -6.835 22.0875 -6.5382 Q22.1578 -6.2413 22.3609 -6.0538 Q22.564 -5.8663 22.939 -5.8663 Z\"\n",
       "      /><path style=\"stroke:none;\" d=\"M30.1682 -3.96 Q30.0589 -3.96 30.0589 -4.1007 Q30.1057 -4.3507 30.1995 -4.3507 Q30.637 -4.3507 30.9651 -4.5225 Q31.2932 -4.6944 31.5276 -5.0694 Q31.5432 -5.1007 31.5432 -5.1007 L35.4807 -11.71 Q35.5589 -11.835 35.6839 -11.835 L35.8245 -11.835 Q35.8557 -11.835 35.887 -11.8194 Q35.9182 -11.8038 35.9495 -11.7725 Q35.9807 -11.7413 35.9807 -11.71 L36.637 -4.6163 Q36.637 -4.5694 36.6839 -4.46 Q36.7932 -4.3507 37.512 -4.3507 Q37.6214 -4.3507 37.6214 -4.1944 Q37.5901 -4.0538 37.5667 -4.0069 Q37.5432 -3.96 37.4339 -3.96 L34.6839 -3.96 Q34.5901 -3.96 34.5901 -4.1007 Q34.637 -4.3507 34.7307 -4.3507 Q35.6057 -4.3507 35.6526 -4.6475 L35.4807 -6.46 L32.7776 -6.46 L31.887 -4.9757 Q31.8089 -4.8663 31.8089 -4.71 Q31.8089 -4.5069 31.9964 -4.4288 Q32.1839 -4.3507 32.4026 -4.3507 Q32.512 -4.3507 32.512 -4.1944 Q32.4807 -4.0538 32.4573 -4.0069 Q32.4339 -3.96 32.3401 -3.96 L30.1682 -3.96 ZM32.9807 -6.8507 L35.4495 -6.8507 L35.1214 -10.4132 L32.9807 -6.8507 Z\"\n",
       "      /><path style=\"stroke:none;\" d=\"M39.0901 -5.1632 Q39.0901 -5.5225 39.1839 -5.8975 Q39.2776 -6.2725 39.4495 -6.7413 Q39.6214 -7.21 39.762 -7.5538 Q39.9026 -7.9444 39.9026 -8.21 Q39.9026 -8.5382 39.6526 -8.5382 Q39.2307 -8.5382 38.9417 -8.085 Q38.6526 -7.6319 38.5276 -7.085 Q38.4964 -7.0225 38.4339 -7.0225 L38.3089 -7.0225 Q38.2151 -7.0225 38.2151 -7.1163 L38.2151 -7.1475 Q38.387 -7.8038 38.7542 -8.3116 Q39.1214 -8.8194 39.6839 -8.8194 Q40.0745 -8.8194 40.3479 -8.5616 Q40.6214 -8.3038 40.6214 -7.9132 Q40.6214 -7.71 40.5276 -7.4757 Q40.4807 -7.3507 40.3089 -6.8975 Q40.137 -6.4444 40.0432 -6.1475 Q39.9495 -5.8507 39.887 -5.5694 Q39.8245 -5.2882 39.8245 -4.9913 Q39.8245 -4.6319 39.9807 -4.3819 Q40.137 -4.1319 40.4964 -4.1319 Q41.1995 -4.1319 41.7307 -4.9913 Q41.7307 -5.0382 41.7386 -5.0772 Q41.7464 -5.1163 41.762 -5.1632 L42.5432 -8.3507 Q42.5901 -8.4913 42.7229 -8.6007 Q42.8557 -8.71 43.012 -8.71 Q43.137 -8.71 43.2386 -8.6241 Q43.3401 -8.5382 43.3401 -8.3975 Q43.3401 -8.3194 43.3401 -8.3038 L42.5432 -5.1319 Q42.4651 -4.8038 42.4651 -4.6007 Q42.4651 -4.1319 42.7776 -4.1319 Q43.137 -4.1319 43.3089 -4.5694 Q43.4807 -5.0069 43.6057 -5.5694 Q43.6214 -5.6475 43.6995 -5.6475 L43.8245 -5.6475 Q43.8714 -5.6475 43.8948 -5.6085 Q43.9182 -5.5694 43.9182 -5.5382 Q43.8089 -5.0538 43.6995 -4.7179 Q43.5901 -4.3819 43.3479 -4.1085 Q43.1057 -3.835 42.762 -3.835 Q42.4026 -3.835 42.1292 -4.0304 Q41.8557 -4.2257 41.762 -4.5382 Q41.512 -4.2257 41.1761 -4.0304 Q40.8401 -3.835 40.4651 -3.835 Q39.8401 -3.835 39.4651 -4.1788 Q39.0901 -4.5225 39.0901 -5.1632 Z\"\n",
       "      /><path style=\"stroke:none;\" d=\"M46.2153 -2.1382 Q45.2309 -2.1382 44.8793 -2.9429 Q44.5278 -3.7476 44.5278 -4.8569 Q44.5278 -5.5601 44.6528 -6.1694 Q44.7778 -6.7788 45.1606 -7.2085 Q45.5434 -7.6382 46.2153 -7.6382 Q46.7465 -7.6382 47.0825 -7.3804 Q47.4184 -7.1226 47.5903 -6.7163 Q47.7622 -6.3101 47.8325 -5.8413 Q47.9028 -5.3726 47.9028 -4.8569 Q47.9028 -4.1694 47.77 -3.5757 Q47.6372 -2.9819 47.27 -2.5601 Q46.9028 -2.1382 46.2153 -2.1382 ZM46.2153 -2.3413 Q46.6684 -2.3413 46.8872 -2.8022 Q47.1059 -3.2632 47.1528 -3.8179 Q47.1997 -4.3726 47.1997 -4.9976 Q47.1997 -5.5913 47.1528 -6.0991 Q47.1059 -6.6069 46.8872 -7.021 Q46.6684 -7.4351 46.2153 -7.4351 Q45.7622 -7.4351 45.5434 -7.021 Q45.3247 -6.6069 45.2778 -6.0991 Q45.2309 -5.5913 45.2309 -4.9976 Q45.2309 -4.5444 45.2465 -4.1538 Q45.2622 -3.7632 45.3559 -3.3413 Q45.4497 -2.9194 45.6606 -2.6304 Q45.8715 -2.3413 46.2153 -2.3413 Z\"\n",
       "      /><path style=\"stroke:none;\" d=\"M52.0215 -1.2257 Q51.4122 -1.71 50.9668 -2.335 Q50.5215 -2.96 50.2403 -3.671 Q49.959 -4.3819 49.8184 -5.1554 Q49.6778 -5.9288 49.6778 -6.71 Q49.6778 -7.5069 49.8184 -8.2804 Q49.959 -9.0538 50.2481 -9.7647 Q50.5372 -10.4757 50.9825 -11.1007 Q51.4278 -11.7257 52.0215 -12.1944 Q52.0215 -12.21 52.084 -12.21 L52.1778 -12.21 Q52.209 -12.21 52.2403 -12.1788 Q52.2715 -12.1475 52.2715 -12.1163 Q52.2715 -12.0694 52.2403 -12.0382 Q51.709 -11.5225 51.3497 -10.921 Q50.9903 -10.3194 50.7715 -9.6397 Q50.5528 -8.96 50.459 -8.2335 Q50.3653 -7.5069 50.3653 -6.71 Q50.3653 -3.21 52.2403 -1.3975 Q52.2715 -1.3663 52.2715 -1.3038 Q52.2715 -1.2725 52.2403 -1.2413 Q52.209 -1.21 52.1778 -1.21 L52.084 -1.21 Q52.0215 -1.21 52.0215 -1.2257 Z\"\n",
       "      /><path style=\"stroke:none;\" d=\"M53.5806 -4.8507 Q53.5806 -5.0069 53.6118 -5.1632 L54.4087 -8.3194 L53.2524 -8.3194 Q53.1274 -8.3194 53.1274 -8.46 Q53.1743 -8.71 53.2837 -8.71 L54.5024 -8.71 L54.9399 -10.4913 Q54.9868 -10.6475 55.1118 -10.7491 Q55.2368 -10.8507 55.4087 -10.8507 Q55.5337 -10.8507 55.6353 -10.7647 Q55.7368 -10.6788 55.7368 -10.5382 Q55.7368 -10.5069 55.729 -10.4913 Q55.7212 -10.4757 55.7212 -10.4444 L55.2837 -8.71 L56.4087 -8.71 Q56.5181 -8.71 56.5181 -8.5538 Q56.5181 -8.5382 56.5024 -8.4679 Q56.4868 -8.3975 56.4634 -8.3585 Q56.4399 -8.3194 56.3774 -8.3194 L55.1743 -8.3194 L54.3931 -5.1319 Q54.3149 -4.8194 54.3149 -4.6007 Q54.3149 -4.1319 54.6274 -4.1319 Q55.1118 -4.1319 55.4868 -4.585 Q55.8618 -5.0382 56.0649 -5.5694 Q56.1118 -5.6475 56.1431 -5.6475 L56.2837 -5.6475 Q56.3306 -5.6475 56.354 -5.6163 Q56.3774 -5.585 56.3774 -5.5382 Q56.3774 -5.5225 56.3618 -5.5069 Q56.1274 -4.8507 55.6665 -4.3429 Q55.2056 -3.835 54.6118 -3.835 Q54.1743 -3.835 53.8774 -4.1241 Q53.5806 -4.4132 53.5806 -4.8507 Z\"\n",
       "      /><path style=\"stroke:none;\" d=\"M57.584 -1.21 Q57.4903 -1.21 57.4903 -1.3038 Q57.4903 -1.3507 57.5059 -1.3819 Q59.3809 -3.21 59.3809 -6.71 Q59.3809 -10.21 57.5215 -12.0225 Q57.4903 -12.0538 57.4903 -12.1163 Q57.4903 -12.1475 57.5137 -12.1788 Q57.5372 -12.21 57.584 -12.21 L57.6778 -12.21 Q57.709 -12.21 57.7403 -12.1944 Q58.5215 -11.5694 59.0528 -10.6788 Q59.584 -9.7882 59.8262 -8.7725 Q60.0684 -7.7569 60.0684 -6.71 Q60.0684 -5.9288 59.9356 -5.1788 Q59.8028 -4.4288 59.5137 -3.6944 Q59.2247 -2.96 58.7872 -2.335 Q58.3497 -1.71 57.7403 -1.2257 Q57.709 -1.21 57.6778 -1.21 L57.584 -1.21 Z\"\n",
       "    /></g\n",
       "    ><g style=\"stroke-linecap:butt; fill:rgb(0,114,189); text-rendering:geometricPrecision; image-rendering:optimizeQuality; color-rendering:optimizeQuality; stroke-linejoin:round; stroke:rgb(0,114,189); color-interpolation:linearRGB; stroke-width:0.5;\"\n",
       "    ><path d=\"M73 339.75 L74.0023 339.75 L75.0046 339.75 L76.0069 339.75 L77.0092 339.75 L78.0116 339.75 L79.0138 339.75 L80.0162 339.75 L81.0185 339.75 L82.0208 339.75 L83.0231 339.75 L84.0254 339.75 L85.0277 339.75 L86.03 339.75 L87.0323 339.75 L88.0346 339.75 L89.037 339.75 L90.0393 339.75 L91.0416 339.75 L92.0439 339.75 L93.0462 339.75 L94.0485 339.75 L95.0508 339.75 L96.0531 339.75 L97.0554 339.75 L98.0577 339.75 L99.0601 339.75 L100.0624 339.75 L101.0647 339.75 L102.067 339.75 L103.0693 339.75 L104.0716 339.75 L105.0739 339.75 L106.0762 339.75 L107.0785 339.75 L108.0808 339.75 L109.0831 339.75 L110.0854 339.75 L111.0878 339.75 L112.0901 339.75 L113.0924 339.75 L114.0947 339.75 L115.097 339.75 L116.0993 339.75 L117.1016 339.75 L118.1039 339.75 L119.1062 339.75 L120.1085 339.75 L121.1109 339.75 L122.1132 339.75 L123.1155 339.75 L124.1178 339.75 L125.1201 339.75 L126.1224 339.75 L127.1247 339.75 L128.127 339.75 L129.1293 339.75 L130.1316 339.75 L131.1339 339.75 L132.1363 339.75 L133.1386 339.75 L134.1409 339.75 L135.1432 339.75 L136.1455 339.75 L137.1478 339.75 L138.1501 339.75 L139.1524 339.75 L140.1547 339.75 L141.157 339.75 L142.1593 339.75 L143.1617 339.75 L144.164 339.75 L145.1663 339.75 L146.1686 339.75 L147.1709 339.75 L148.1732 339.75 L149.1755 339.75 L150.1778 339.75 L151.1801 339.75 L152.1824 339.75 L153.1848 339.75 L154.1871 339.75 L155.1894 339.75 L156.1917 339.75 L157.194 339.75 L158.1963 339.75 L159.1986 339.75 L160.2009 339.75 L161.2032 339.75 L162.2055 339.75 L163.2079 339.75 L164.2102 339.75 L165.2125 339.75 L166.2148 339.75 L167.2171 339.75 L168.2194 339.75 L169.2217 339.75 L170.224 339.75 L171.2263 339.75 L172.2286 339.75 L173.2309 339.75 L174.2332 339.75 L175.2356 339.75 L176.2379 339.75 L177.2402 339.75 L178.2425 339.75 L179.2448 339.75 L180.2471 339.75 L181.2494 339.75 L182.2517 339.75 L183.254 339.75 L184.2563 339.75 L185.2587 339.75 L186.261 339.75 L187.2633 339.75 L188.2656 339.75 L189.2679 339.75 L190.2702 339.75 L191.2725 339.75 L192.2748 339.75 L193.2771 339.75 L194.2794 339.75 L195.2818 339.75 L196.2841 339.75 L197.2864 339.75 L198.2887 339.75 L199.291 339.75 L200.2933 339.75 L201.2956 339.75 L202.2979 339.75 L203.3002 339.75 L204.3025 339.75 L205.3048 339.75 L206.3072 339.75 L207.3095 339.75 L208.3118 339.75 L209.3141 339.75 L210.3164 339.75 L211.3187 339.75 L212.321 339.75 L213.3233 339.75 L214.3256 339.75 L215.3279 339.75 L216.3303 339.75 L217.3326 339.75 L218.3349 339.75 L219.3372 339.75 L220.3395 339.75 L221.3418 339.75 L222.3441 339.75 L223.3464 339.75 L224.3487 339.75 L225.351 339.75 L226.3533 339.75 L227.3557 339.75 L228.358 339.75 L229.3603 339.75 L230.3626 339.75 L231.3649 339.75 L232.3672 339.75 L233.3695 339.75 L234.3718 339.75 L235.3741 339.75 L236.3764 339.75 L237.3788 339.75 L238.3811 339.75 L239.3834 339.75 L240.3857 339.75 L241.388 339.75 L242.3903 339.75 L243.3926 339.75 L244.3949 339.75 L245.3972 339.75 L246.3995 339.75 L247.4019 339.75 L248.4042 339.75 L249.4065 339.75 L250.4088 339.75 L251.4111 339.75 L252.4134 339.75 L253.4157 339.75 L254.418 339.75 L255.4203 339.75 L256.4226 339.75 L257.4249 339.75 L258.4272 339.75 L259.4296 339.75 L260.4319 339.75 L261.4342 339.75 L262.4365 339.75 L263.4388 339.75 L264.4411 339.75 L265.4434 339.75 L266.4457 339.75 L267.448 339.75 L268.4503 339.75 L269.4527 339.75 L270.455 339.75 L271.4573 339.75 L272.4596 339.75 L273.4619 339.75 L274.4642 339.75 L275.4665 339.75 L276.4688 339.75 L277.4711 339.75 L278.4734 339.75 L279.4757 339.75 L280.4781 339.75 L281.4804 339.75 L282.4827 339.75 L283.485 339.75 L284.4873 339.75 L285.4896 339.75 L286.4919 339.75 L287.4942 339.75 L288.4965 339.75 L289.4988 339.75 L290.5012 65.75 L291.5035 65.75 L292.5058 65.75 L293.5081 65.75 L294.5104 65.75 L295.5127 65.75 L296.515 65.75 L297.5173 65.75 L298.5196 65.75 L299.5219 65.75 L300.5243 65.75 L301.5266 65.75 L302.5289 65.75 L303.5312 65.75 L304.5335 65.75 L305.5358 65.75 L306.5381 65.75 L307.5404 65.75 L308.5427 65.75 L309.545 65.75 L310.5473 65.75 L311.5497 65.75 L312.552 65.75 L313.5543 65.75 L314.5566 65.75 L315.5589 65.75 L316.5612 65.75 L317.5635 65.75 L318.5658 65.75 L319.5681 65.75 L320.5704 65.75 L321.5728 65.75 L322.5751 65.75 L323.5774 65.75 L324.5797 65.75 L325.582 65.75 L326.5843 65.75 L327.5866 65.75 L328.5889 65.75 L329.5912 65.75 L330.5935 65.75 L331.5959 65.75 L332.5981 65.75 L333.6005 65.75 L334.6028 65.75 L335.6051 65.75 L336.6074 65.75 L337.6097 65.75 L338.612 65.75 L339.6143 65.75 L340.6166 65.75 L341.6189 65.75 L342.6212 65.75 L343.6236 65.75 L344.6259 65.75 L345.6282 65.75 L346.6305 65.75 L347.6328 65.75 L348.6351 65.75 L349.6374 65.75 L350.6397 65.75 L351.642 65.75 L352.6443 65.75 L353.6466 65.75 L354.649 65.75 L355.6513 65.75 L356.6536 65.75 L357.6559 65.75 L358.6582 65.75 L359.6605 65.75 L360.6628 65.75 L361.6651 65.75 L362.6674 65.75 L363.6697 65.75 L364.6721 65.75 L365.6744 65.75 L366.6767 65.75 L367.679 65.75 L368.6813 65.75 L369.6836 65.75 L370.6859 65.75 L371.6882 65.75 L372.6905 65.75 L373.6928 65.75 L374.6952 65.75 L375.6974 65.75 L376.6998 65.75 L377.7021 65.75 L378.7044 65.75 L379.7067 65.75 L380.709 65.75 L381.7113 65.75 L382.7136 65.75 L383.7159 65.75 L384.7182 65.75 L385.7206 65.75 L386.7229 65.75 L387.7252 65.75 L388.7275 65.75 L389.7298 65.75 L390.7321 65.75 L391.7344 65.75 L392.7367 65.75 L393.739 65.75 L394.7413 65.75 L395.7437 65.75 L396.746 65.75 L397.7483 65.75 L398.7506 65.75 L399.7529 65.75 L400.7552 65.75 L401.7575 65.75 L402.7598 65.75 L403.7621 65.75 L404.7644 65.75 L405.7668 65.75 L406.7691 65.75 L407.7714 65.75 L408.7737 65.75 L409.776 65.75 L410.7783 65.75 L411.7806 65.75 L412.7829 65.75 L413.7852 65.75 L414.7875 65.75 L415.7899 65.75 L416.7921 65.75 L417.7945 65.75 L418.7968 65.75 L419.7991 65.75 L420.8014 65.75 L421.8037 65.75 L422.806 65.75 L423.8083 65.75 L424.8106 65.75 L425.8129 65.75 L426.8152 65.75 L427.8176 65.75 L428.8199 65.75 L429.8222 65.75 L430.8245 65.75 L431.8268 65.75 L432.8291 65.75 L433.8314 65.75 L434.8337 65.75 L435.836 65.75 L436.8383 65.75 L437.8406 65.75 L438.843 65.75 L439.8453 65.75 L440.8476 65.75 L441.8499 65.75 L442.8522 65.75 L443.8545 65.75 L444.8568 65.75 L445.8591 65.75 L446.8614 65.75 L447.8637 65.75 L448.8661 65.75 L449.8683 65.75 L450.8707 65.75 L451.873 65.75 L452.8753 65.75 L453.8776 65.75 L454.8799 65.75 L455.8822 65.75 L456.8845 65.75 L457.8868 65.75 L458.8891 65.75 L459.8914 65.75 L460.8938 65.75 L461.8961 65.75 L462.8984 65.75 L463.9007 65.75 L464.903 65.75 L465.9053 65.75 L466.9076 65.75 L467.9099 65.75 L468.9122 65.75 L469.9146 65.75 L470.9169 65.75 L471.9192 65.75 L472.9215 65.75 L473.9238 65.75 L474.9261 65.75 L475.9284 65.75 L476.9307 65.75 L477.933 65.75 L478.9353 65.75 L479.9377 65.75 L480.9399 65.75 L481.9423 65.75 L482.9446 65.75 L483.9469 65.75 L484.9492 65.75 L485.9515 65.75 L486.9538 65.75 L487.9561 65.75 L488.9584 65.75 L489.9607 65.75 L490.963 65.75 L491.9654 65.75 L492.9677 65.75 L493.97 65.75 L494.9723 65.75 L495.9746 65.75 L496.9769 65.75 L497.9792 65.75 L498.9815 65.75 L499.9838 65.75 L500.9861 65.75 L501.9884 65.75 L502.9908 65.75 L503.9931 65.75 L504.9954 65.75 L505.9977 65.75 L507 65.75\" style=\"fill:none; fill-rule:evenodd;\"\n",
       "    /></g\n",
       "  ></g\n",
       "></svg\n",
       ">\n"
      ]
     },
     "metadata": {
      "filenames": {
       "image/svg+xml": "/Users/eechris/code/src/github.com/cpjobling/eg-247-textbook/_build/jupyter_execute/elementary_signals/index_13_0.svg"
      }
     },
     "output_type": "display_data"
    }
   ],
   "source": [
    "syms t;\n",
    "u0(t) = heaviside(t); % rename heaviside function for ease of use\n",
    "A = 2; % so signal can be plotted\n",
    "ezplot(A*u0(t),[-1,1]),grid,title('Amplitude scaling $$Au_0(t)$$','interpreter','latex')"
   ]
  },
  {
   "cell_type": "markdown",
   "id": "80aa9f3a",
   "metadata": {
    "slideshow": {
     "slide_type": "notes"
    }
   },
   "source": [
    "Note that the signal is scaled in the $y$ direction."
   ]
  },
  {
   "cell_type": "code",
   "execution_count": 4,
   "id": "4a9534d0",
   "metadata": {
    "slideshow": {
     "slide_type": "subslide"
    }
   },
   "outputs": [
    {
     "data": {
      "image/svg+xml": [
       "<?xml version=\"1.0\"?>\n",
       "<!DOCTYPE svg PUBLIC '-//W3C//DTD SVG 1.0//EN'\n",
       "          'http://www.w3.org/TR/2001/REC-SVG-20010904/DTD/svg10.dtd'>\n",
       "<svg xmlns:xlink=\"http://www.w3.org/1999/xlink\" style=\"fill-opacity:1; color-rendering:auto; color-interpolation:auto; text-rendering:auto; stroke:black; stroke-linecap:square; stroke-miterlimit:10; shape-rendering:auto; stroke-opacity:1; fill:black; stroke-dasharray:none; font-weight:normal; stroke-width:1; font-family:'Dialog'; font-style:normal; stroke-linejoin:miter; font-size:12px; stroke-dashoffset:0; image-rendering:auto;\" width=\"560\" height=\"420\" xmlns=\"http://www.w3.org/2000/svg\"\n",
       "><!--Generated by the Batik Graphics2D SVG Generator--><defs id=\"genericDefs\"\n",
       "  /><g\n",
       "  ><defs id=\"defs1\"\n",
       "    ><clipPath clipPathUnits=\"userSpaceOnUse\" id=\"clipPath1\"\n",
       "      ><path d=\"M0 0 L560 0 L560 420 L0 420 L0 0 Z\"\n",
       "      /></clipPath\n",
       "    ></defs\n",
       "    ><g style=\"fill:white; stroke:white;\"\n",
       "    ><rect x=\"0\" y=\"0\" width=\"560\" style=\"clip-path:url(#clipPath1); stroke:none;\" height=\"420\"\n",
       "    /></g\n",
       "    ><g style=\"fill:white; text-rendering:optimizeSpeed; color-rendering:optimizeSpeed; image-rendering:optimizeSpeed; shape-rendering:crispEdges; stroke:white; color-interpolation:sRGB;\"\n",
       "    ><rect x=\"0\" width=\"560\" height=\"420\" y=\"0\" style=\"stroke:none;\"\n",
       "      /><path style=\"stroke:none;\" d=\"M73 374 L507 374 L507 31.5 L73 31.5 Z\"\n",
       "    /></g\n",
       "    ><g style=\"stroke-linecap:butt; fill-opacity:0.149; fill:rgb(38,38,38); text-rendering:geometricPrecision; image-rendering:optimizeQuality; color-rendering:optimizeQuality; stroke-linejoin:round; stroke:rgb(38,38,38); color-interpolation:linearRGB; stroke-width:0.5; stroke-opacity:0.149;\"\n",
       "    ><line y2=\"31.5\" style=\"fill:none;\" x1=\"73\" x2=\"73\" y1=\"374\"\n",
       "      /><line y2=\"31.5\" style=\"fill:none;\" x1=\"116.4\" x2=\"116.4\" y1=\"374\"\n",
       "      /><line y2=\"31.5\" style=\"fill:none;\" x1=\"159.8\" x2=\"159.8\" y1=\"374\"\n",
       "      /><line y2=\"31.5\" style=\"fill:none;\" x1=\"203.2\" x2=\"203.2\" y1=\"374\"\n",
       "      /><line y2=\"31.5\" style=\"fill:none;\" x1=\"246.6\" x2=\"246.6\" y1=\"374\"\n",
       "      /><line y2=\"31.5\" style=\"fill:none;\" x1=\"290\" x2=\"290\" y1=\"374\"\n",
       "      /><line y2=\"31.5\" style=\"fill:none;\" x1=\"333.4\" x2=\"333.4\" y1=\"374\"\n",
       "      /><line y2=\"31.5\" style=\"fill:none;\" x1=\"376.8\" x2=\"376.8\" y1=\"374\"\n",
       "      /><line y2=\"31.5\" style=\"fill:none;\" x1=\"420.2\" x2=\"420.2\" y1=\"374\"\n",
       "      /><line y2=\"31.5\" style=\"fill:none;\" x1=\"463.6\" x2=\"463.6\" y1=\"374\"\n",
       "      /><line y2=\"31.5\" style=\"fill:none;\" x1=\"507\" x2=\"507\" y1=\"374\"\n",
       "      /><line y2=\"339.75\" style=\"fill:none;\" x1=\"507\" x2=\"73\" y1=\"339.75\"\n",
       "      /><line y2=\"271.25\" style=\"fill:none;\" x1=\"507\" x2=\"73\" y1=\"271.25\"\n",
       "      /><line y2=\"202.75\" style=\"fill:none;\" x1=\"507\" x2=\"73\" y1=\"202.75\"\n",
       "      /><line y2=\"134.25\" style=\"fill:none;\" x1=\"507\" x2=\"73\" y1=\"134.25\"\n",
       "      /><line y2=\"65.75\" style=\"fill:none;\" x1=\"507\" x2=\"73\" y1=\"65.75\"\n",
       "      /><line x1=\"73\" x2=\"507\" y1=\"374\" style=\"stroke-linecap:square; fill-opacity:1; fill:none; stroke-opacity:1;\" y2=\"374\"\n",
       "      /><line x1=\"73\" x2=\"507\" y1=\"31.5\" style=\"stroke-linecap:square; fill-opacity:1; fill:none; stroke-opacity:1;\" y2=\"31.5\"\n",
       "      /><line x1=\"73\" x2=\"73\" y1=\"374\" style=\"stroke-linecap:square; fill-opacity:1; fill:none; stroke-opacity:1;\" y2=\"369.66\"\n",
       "      /><line x1=\"116.4\" x2=\"116.4\" y1=\"374\" style=\"stroke-linecap:square; fill-opacity:1; fill:none; stroke-opacity:1;\" y2=\"369.66\"\n",
       "      /><line x1=\"159.8\" x2=\"159.8\" y1=\"374\" style=\"stroke-linecap:square; fill-opacity:1; fill:none; stroke-opacity:1;\" y2=\"369.66\"\n",
       "      /><line x1=\"203.2\" x2=\"203.2\" y1=\"374\" style=\"stroke-linecap:square; fill-opacity:1; fill:none; stroke-opacity:1;\" y2=\"369.66\"\n",
       "      /><line x1=\"246.6\" x2=\"246.6\" y1=\"374\" style=\"stroke-linecap:square; fill-opacity:1; fill:none; stroke-opacity:1;\" y2=\"369.66\"\n",
       "      /><line x1=\"290\" x2=\"290\" y1=\"374\" style=\"stroke-linecap:square; fill-opacity:1; fill:none; stroke-opacity:1;\" y2=\"369.66\"\n",
       "      /><line x1=\"333.4\" x2=\"333.4\" y1=\"374\" style=\"stroke-linecap:square; fill-opacity:1; fill:none; stroke-opacity:1;\" y2=\"369.66\"\n",
       "      /><line x1=\"376.8\" x2=\"376.8\" y1=\"374\" style=\"stroke-linecap:square; fill-opacity:1; fill:none; stroke-opacity:1;\" y2=\"369.66\"\n",
       "      /><line x1=\"420.2\" x2=\"420.2\" y1=\"374\" style=\"stroke-linecap:square; fill-opacity:1; fill:none; stroke-opacity:1;\" y2=\"369.66\"\n",
       "      /><line x1=\"463.6\" x2=\"463.6\" y1=\"374\" style=\"stroke-linecap:square; fill-opacity:1; fill:none; stroke-opacity:1;\" y2=\"369.66\"\n",
       "      /><line x1=\"507\" x2=\"507\" y1=\"374\" style=\"stroke-linecap:square; fill-opacity:1; fill:none; stroke-opacity:1;\" y2=\"369.66\"\n",
       "      /><line x1=\"73\" x2=\"73\" y1=\"31.5\" style=\"stroke-linecap:square; fill-opacity:1; fill:none; stroke-opacity:1;\" y2=\"35.84\"\n",
       "      /><line x1=\"116.4\" x2=\"116.4\" y1=\"31.5\" style=\"stroke-linecap:square; fill-opacity:1; fill:none; stroke-opacity:1;\" y2=\"35.84\"\n",
       "      /><line x1=\"159.8\" x2=\"159.8\" y1=\"31.5\" style=\"stroke-linecap:square; fill-opacity:1; fill:none; stroke-opacity:1;\" y2=\"35.84\"\n",
       "      /><line x1=\"203.2\" x2=\"203.2\" y1=\"31.5\" style=\"stroke-linecap:square; fill-opacity:1; fill:none; stroke-opacity:1;\" y2=\"35.84\"\n",
       "      /><line x1=\"246.6\" x2=\"246.6\" y1=\"31.5\" style=\"stroke-linecap:square; fill-opacity:1; fill:none; stroke-opacity:1;\" y2=\"35.84\"\n",
       "      /><line x1=\"290\" x2=\"290\" y1=\"31.5\" style=\"stroke-linecap:square; fill-opacity:1; fill:none; stroke-opacity:1;\" y2=\"35.84\"\n",
       "      /><line x1=\"333.4\" x2=\"333.4\" y1=\"31.5\" style=\"stroke-linecap:square; fill-opacity:1; fill:none; stroke-opacity:1;\" y2=\"35.84\"\n",
       "      /><line x1=\"376.8\" x2=\"376.8\" y1=\"31.5\" style=\"stroke-linecap:square; fill-opacity:1; fill:none; stroke-opacity:1;\" y2=\"35.84\"\n",
       "      /><line x1=\"420.2\" x2=\"420.2\" y1=\"31.5\" style=\"stroke-linecap:square; fill-opacity:1; fill:none; stroke-opacity:1;\" y2=\"35.84\"\n",
       "      /><line x1=\"463.6\" x2=\"463.6\" y1=\"31.5\" style=\"stroke-linecap:square; fill-opacity:1; fill:none; stroke-opacity:1;\" y2=\"35.84\"\n",
       "      /><line x1=\"507\" x2=\"507\" y1=\"31.5\" style=\"stroke-linecap:square; fill-opacity:1; fill:none; stroke-opacity:1;\" y2=\"35.84\"\n",
       "    /></g\n",
       "    ><g transform=\"translate(73,378)\" style=\"font-size:10px; fill:rgb(38,38,38); text-rendering:geometricPrecision; image-rendering:optimizeQuality; color-rendering:optimizeQuality; font-family:'Helvetica Neue'; stroke:rgb(38,38,38); color-interpolation:linearRGB;\"\n",
       "    ><path style=\"stroke:none;\" d=\"M-4.5 6.82 L-4.5 7.62 L-1.61 7.62 L-1.61 6.82 ZM2.45 10 L2.45 2.91 L1.8 2.91 Q1.73 3.31 1.54 3.57 Q1.35 3.83 1.075 3.98 Q0.8 4.13 0.46 4.185 Q0.12 4.24 -0.24 4.24 L-0.24 4.92 L1.6 4.92 L1.6 10 Z\"\n",
       "    /></g\n",
       "    ><g transform=\"translate(116.4,378)\" style=\"font-size:10px; fill:rgb(38,38,38); text-rendering:geometricPrecision; image-rendering:optimizeQuality; color-rendering:optimizeQuality; font-family:'Helvetica Neue'; stroke:rgb(38,38,38); color-interpolation:linearRGB;\"\n",
       "    ><path style=\"stroke:none;\" d=\"M-8.5 6.82 L-8.5 7.62 L-5.61 7.62 L-5.61 6.82 ZM-3.79 6.51 Q-3.79 6.25 -3.785 5.935 Q-3.78 5.62 -3.735 5.305 Q-3.69 4.99 -3.605 4.69 Q-3.52 4.39 -3.355 4.165 Q-3.19 3.94 -2.94 3.8 Q-2.69 3.66 -2.33 3.66 Q-1.97 3.66 -1.72 3.8 Q-1.47 3.94 -1.305 4.165 Q-1.14 4.39 -1.055 4.69 Q-0.97 4.99 -0.925 5.305 Q-0.88 5.62 -0.875 5.935 Q-0.87 6.25 -0.87 6.51 Q-0.87 6.91 -0.895 7.405 Q-0.92 7.9 -1.055 8.335 Q-1.19 8.77 -1.49 9.07 Q-1.79 9.37 -2.33 9.37 Q-2.87 9.37 -3.17 9.07 Q-3.47 8.77 -3.605 8.335 Q-3.74 7.9 -3.765 7.405 Q-3.79 6.91 -3.79 6.51 ZM-4.69 6.52 Q-4.69 6.91 -4.67 7.33 Q-4.65 7.75 -4.57 8.15 Q-4.49 8.55 -4.34 8.905 Q-4.19 9.26 -3.93 9.53 Q-3.67 9.8 -3.275 9.955 Q-2.88 10.11 -2.33 10.11 Q-1.77 10.11 -1.38 9.955 Q-0.99 9.8 -0.73 9.53 Q-0.47 9.26 -0.32 8.905 Q-0.17 8.55 -0.09 8.15 Q-0.01 7.75 0.01 7.33 Q0.03 6.91 0.03 6.52 Q0.03 6.13 0.01 5.71 Q-0.01 5.29 -0.09 4.89 Q-0.17 4.49 -0.32 4.13 Q-0.47 3.77 -0.73 3.5 Q-0.99 3.23 -1.385 3.07 Q-1.78 2.91 -2.33 2.91 Q-2.88 2.91 -3.275 3.07 Q-3.67 3.23 -3.93 3.5 Q-4.19 3.77 -4.34 4.13 Q-4.49 4.49 -4.57 4.89 Q-4.65 5.29 -4.67 5.71 Q-4.69 6.13 -4.69 6.52 ZM1.28 8.89 L1.28 10 L2.39 10 L2.39 8.89 ZM4.78 4.75 Q4.78 4.48 4.88 4.28 Q4.98 4.08 5.145 3.94 Q5.31 3.8 5.54 3.73 Q5.77 3.66 6.02 3.66 Q6.54 3.66 6.875 3.935 Q7.21 4.21 7.21 4.75 Q7.21 5.29 6.88 5.59 Q6.55 5.89 6.04 5.89 Q5.78 5.89 5.55 5.82 Q5.32 5.75 5.15 5.61 Q4.98 5.47 4.88 5.255 Q4.78 5.04 4.78 4.75 ZM3.88 4.72 Q3.88 5.2 4.15 5.605 Q4.42 6.01 4.87 6.19 Q4.27 6.4 3.95 6.865 Q3.63 7.33 3.63 7.96 Q3.63 8.5 3.815 8.905 Q4 9.31 4.325 9.58 Q4.65 9.85 5.09 9.98 Q5.53 10.11 6.04 10.11 Q6.53 10.11 6.96 9.97 Q7.39 9.83 7.705 9.555 Q8.02 9.28 8.205 8.88 Q8.39 8.48 8.39 7.96 Q8.39 7.3 8.08 6.845 Q7.77 6.39 7.13 6.19 Q7.58 5.99 7.845 5.595 Q8.11 5.2 8.11 4.72 Q8.11 4.38 7.99 4.055 Q7.87 3.73 7.615 3.475 Q7.36 3.22 6.95 3.065 Q6.54 2.91 5.96 2.91 Q5.55 2.91 5.175 3.03 Q4.8 3.15 4.51 3.38 Q4.22 3.61 4.05 3.945 Q3.88 4.28 3.88 4.72 ZM4.53 8 Q4.53 7.69 4.645 7.44 Q4.76 7.19 4.965 7.01 Q5.17 6.83 5.445 6.735 Q5.72 6.64 6.03 6.64 Q6.33 6.64 6.595 6.745 Q6.86 6.85 7.06 7.03 Q7.26 7.21 7.375 7.455 Q7.49 7.7 7.49 7.99 Q7.49 8.29 7.385 8.54 Q7.28 8.79 7.085 8.975 Q6.89 9.16 6.625 9.265 Q6.36 9.37 6.04 9.37 Q5.38 9.37 4.955 9.005 Q4.53 8.64 4.53 8 Z\"\n",
       "    /></g\n",
       "    ><g transform=\"translate(159.8,378)\" style=\"font-size:10px; fill:rgb(38,38,38); text-rendering:geometricPrecision; image-rendering:optimizeQuality; color-rendering:optimizeQuality; font-family:'Helvetica Neue'; stroke:rgb(38,38,38); color-interpolation:linearRGB;\"\n",
       "    ><path style=\"stroke:none;\" d=\"M-8.5 6.82 L-8.5 7.62 L-5.61 7.62 L-5.61 6.82 ZM-3.79 6.51 Q-3.79 6.25 -3.785 5.935 Q-3.78 5.62 -3.735 5.305 Q-3.69 4.99 -3.605 4.69 Q-3.52 4.39 -3.355 4.165 Q-3.19 3.94 -2.94 3.8 Q-2.69 3.66 -2.33 3.66 Q-1.97 3.66 -1.72 3.8 Q-1.47 3.94 -1.305 4.165 Q-1.14 4.39 -1.055 4.69 Q-0.97 4.99 -0.925 5.305 Q-0.88 5.62 -0.875 5.935 Q-0.87 6.25 -0.87 6.51 Q-0.87 6.91 -0.895 7.405 Q-0.92 7.9 -1.055 8.335 Q-1.19 8.77 -1.49 9.07 Q-1.79 9.37 -2.33 9.37 Q-2.87 9.37 -3.17 9.07 Q-3.47 8.77 -3.605 8.335 Q-3.74 7.9 -3.765 7.405 Q-3.79 6.91 -3.79 6.51 ZM-4.69 6.52 Q-4.69 6.91 -4.67 7.33 Q-4.65 7.75 -4.57 8.15 Q-4.49 8.55 -4.34 8.905 Q-4.19 9.26 -3.93 9.53 Q-3.67 9.8 -3.275 9.955 Q-2.88 10.11 -2.33 10.11 Q-1.77 10.11 -1.38 9.955 Q-0.99 9.8 -0.73 9.53 Q-0.47 9.26 -0.32 8.905 Q-0.17 8.55 -0.09 8.15 Q-0.01 7.75 0.01 7.33 Q0.03 6.91 0.03 6.52 Q0.03 6.13 0.01 5.71 Q-0.01 5.29 -0.09 4.89 Q-0.17 4.49 -0.32 4.13 Q-0.47 3.77 -0.73 3.5 Q-0.99 3.23 -1.385 3.07 Q-1.78 2.91 -2.33 2.91 Q-2.88 2.91 -3.275 3.07 Q-3.67 3.23 -3.93 3.5 Q-4.19 3.77 -4.34 4.13 Q-4.49 4.49 -4.57 4.89 Q-4.65 5.29 -4.67 5.71 Q-4.69 6.13 -4.69 6.52 ZM1.28 8.89 L1.28 10 L2.39 10 L2.39 8.89 ZM7.37 4.72 L8.22 4.72 Q8.14 3.84 7.62 3.375 Q7.1 2.91 6.22 2.91 Q5.46 2.91 4.96 3.23 Q4.46 3.55 4.16 4.08 Q3.86 4.61 3.735 5.295 Q3.61 5.98 3.61 6.71 Q3.61 7.27 3.695 7.87 Q3.78 8.47 4.04 8.97 Q4.3 9.47 4.78 9.79 Q5.26 10.11 6.05 10.11 Q6.72 10.11 7.175 9.885 Q7.63 9.66 7.905 9.315 Q8.18 8.97 8.3 8.55 Q8.42 8.13 8.42 7.74 Q8.42 7.25 8.27 6.83 Q8.12 6.41 7.845 6.1 Q7.57 5.79 7.165 5.615 Q6.76 5.44 6.25 5.44 Q5.67 5.44 5.225 5.66 Q4.78 5.88 4.48 6.37 L4.46 6.35 Q4.47 5.94 4.54 5.47 Q4.61 5 4.795 4.595 Q4.98 4.19 5.31 3.925 Q5.64 3.66 6.18 3.66 Q6.69 3.66 7 3.95 Q7.31 4.24 7.37 4.72 ZM6.09 6.19 Q6.45 6.19 6.72 6.32 Q6.99 6.45 7.17 6.665 Q7.35 6.88 7.435 7.175 Q7.52 7.47 7.52 7.8 Q7.52 8.11 7.425 8.395 Q7.33 8.68 7.15 8.9 Q6.97 9.12 6.705 9.245 Q6.44 9.37 6.09 9.37 Q5.74 9.37 5.465 9.245 Q5.19 9.12 5.005 8.91 Q4.82 8.7 4.72 8.41 Q4.62 8.12 4.62 7.79 Q4.62 7.46 4.715 7.165 Q4.81 6.87 5 6.655 Q5.19 6.44 5.46 6.315 Q5.73 6.19 6.09 6.19 Z\"\n",
       "    /></g\n",
       "    ><g transform=\"translate(203.2,378)\" style=\"font-size:10px; fill:rgb(38,38,38); text-rendering:geometricPrecision; image-rendering:optimizeQuality; color-rendering:optimizeQuality; font-family:'Helvetica Neue'; stroke:rgb(38,38,38); color-interpolation:linearRGB;\"\n",
       "    ><path style=\"stroke:none;\" d=\"M-8.5 6.82 L-8.5 7.62 L-5.61 7.62 L-5.61 6.82 ZM-3.79 6.51 Q-3.79 6.25 -3.785 5.935 Q-3.78 5.62 -3.735 5.305 Q-3.69 4.99 -3.605 4.69 Q-3.52 4.39 -3.355 4.165 Q-3.19 3.94 -2.94 3.8 Q-2.69 3.66 -2.33 3.66 Q-1.97 3.66 -1.72 3.8 Q-1.47 3.94 -1.305 4.165 Q-1.14 4.39 -1.055 4.69 Q-0.97 4.99 -0.925 5.305 Q-0.88 5.62 -0.875 5.935 Q-0.87 6.25 -0.87 6.51 Q-0.87 6.91 -0.895 7.405 Q-0.92 7.9 -1.055 8.335 Q-1.19 8.77 -1.49 9.07 Q-1.79 9.37 -2.33 9.37 Q-2.87 9.37 -3.17 9.07 Q-3.47 8.77 -3.605 8.335 Q-3.74 7.9 -3.765 7.405 Q-3.79 6.91 -3.79 6.51 ZM-4.69 6.52 Q-4.69 6.91 -4.67 7.33 Q-4.65 7.75 -4.57 8.15 Q-4.49 8.55 -4.34 8.905 Q-4.19 9.26 -3.93 9.53 Q-3.67 9.8 -3.275 9.955 Q-2.88 10.11 -2.33 10.11 Q-1.77 10.11 -1.38 9.955 Q-0.99 9.8 -0.73 9.53 Q-0.47 9.26 -0.32 8.905 Q-0.17 8.55 -0.09 8.15 Q-0.01 7.75 0.01 7.33 Q0.03 6.91 0.03 6.52 Q0.03 6.13 0.01 5.71 Q-0.01 5.29 -0.09 4.89 Q-0.17 4.49 -0.32 4.13 Q-0.47 3.77 -0.73 3.5 Q-0.99 3.23 -1.385 3.07 Q-1.78 2.91 -2.33 2.91 Q-2.88 2.91 -3.275 3.07 Q-3.67 3.23 -3.93 3.5 Q-4.19 3.77 -4.34 4.13 Q-4.49 4.49 -4.57 4.89 Q-4.65 5.29 -4.67 5.71 Q-4.69 6.13 -4.69 6.52 ZM1.28 8.89 L1.28 10 L2.39 10 L2.39 8.89 ZM6.62 7.59 L4.24 7.59 L6.6 4.12 L6.62 4.12 ZM7.42 7.59 L7.42 2.91 L6.74 2.91 L3.51 7.52 L3.51 8.34 L6.62 8.34 L6.62 10 L7.42 10 L7.42 8.34 L8.38 8.34 L8.38 7.59 Z\"\n",
       "    /></g\n",
       "    ><g transform=\"translate(246.6,378)\" style=\"font-size:10px; fill:rgb(38,38,38); text-rendering:geometricPrecision; image-rendering:optimizeQuality; color-rendering:optimizeQuality; font-family:'Helvetica Neue'; stroke:rgb(38,38,38); color-interpolation:linearRGB;\"\n",
       "    ><path style=\"stroke:none;\" d=\"M-8.5 6.82 L-8.5 7.62 L-5.61 7.62 L-5.61 6.82 ZM-3.79 6.51 Q-3.79 6.25 -3.785 5.935 Q-3.78 5.62 -3.735 5.305 Q-3.69 4.99 -3.605 4.69 Q-3.52 4.39 -3.355 4.165 Q-3.19 3.94 -2.94 3.8 Q-2.69 3.66 -2.33 3.66 Q-1.97 3.66 -1.72 3.8 Q-1.47 3.94 -1.305 4.165 Q-1.14 4.39 -1.055 4.69 Q-0.97 4.99 -0.925 5.305 Q-0.88 5.62 -0.875 5.935 Q-0.87 6.25 -0.87 6.51 Q-0.87 6.91 -0.895 7.405 Q-0.92 7.9 -1.055 8.335 Q-1.19 8.77 -1.49 9.07 Q-1.79 9.37 -2.33 9.37 Q-2.87 9.37 -3.17 9.07 Q-3.47 8.77 -3.605 8.335 Q-3.74 7.9 -3.765 7.405 Q-3.79 6.91 -3.79 6.51 ZM-4.69 6.52 Q-4.69 6.91 -4.67 7.33 Q-4.65 7.75 -4.57 8.15 Q-4.49 8.55 -4.34 8.905 Q-4.19 9.26 -3.93 9.53 Q-3.67 9.8 -3.275 9.955 Q-2.88 10.11 -2.33 10.11 Q-1.77 10.11 -1.38 9.955 Q-0.99 9.8 -0.73 9.53 Q-0.47 9.26 -0.32 8.905 Q-0.17 8.55 -0.09 8.15 Q-0.01 7.75 0.01 7.33 Q0.03 6.91 0.03 6.52 Q0.03 6.13 0.01 5.71 Q-0.01 5.29 -0.09 4.89 Q-0.17 4.49 -0.32 4.13 Q-0.47 3.77 -0.73 3.5 Q-0.99 3.23 -1.385 3.07 Q-1.78 2.91 -2.33 2.91 Q-2.88 2.91 -3.275 3.07 Q-3.67 3.23 -3.93 3.5 Q-4.19 3.77 -4.34 4.13 Q-4.49 4.49 -4.57 4.89 Q-4.65 5.29 -4.67 5.71 Q-4.69 6.13 -4.69 6.52 ZM1.28 8.89 L1.28 10 L2.39 10 L2.39 8.89 ZM3.67 5.42 L4.52 5.42 Q4.51 5.1 4.585 4.785 Q4.66 4.47 4.83 4.22 Q5 3.97 5.265 3.815 Q5.53 3.66 5.9 3.66 Q6.18 3.66 6.43 3.75 Q6.68 3.84 6.865 4.01 Q7.05 4.18 7.16 4.415 Q7.27 4.65 7.27 4.94 Q7.27 5.31 7.155 5.59 Q7.04 5.87 6.815 6.11 Q6.59 6.35 6.25 6.585 Q5.91 6.82 5.46 7.1 Q5.09 7.32 4.75 7.57 Q4.41 7.82 4.14 8.15 Q3.87 8.48 3.695 8.925 Q3.52 9.37 3.47 10 L8.1 10 L8.1 9.25 L4.46 9.25 Q4.52 8.92 4.715 8.665 Q4.91 8.41 5.185 8.19 Q5.46 7.97 5.79 7.775 Q6.12 7.58 6.45 7.38 Q6.78 7.17 7.09 6.94 Q7.4 6.71 7.64 6.425 Q7.88 6.14 8.025 5.78 Q8.17 5.42 8.17 4.95 Q8.17 4.45 7.995 4.07 Q7.82 3.69 7.52 3.435 Q7.22 3.18 6.815 3.045 Q6.41 2.91 5.95 2.91 Q5.39 2.91 4.95 3.1 Q4.51 3.29 4.215 3.625 Q3.92 3.96 3.78 4.42 Q3.64 4.88 3.67 5.42 Z\"\n",
       "    /></g\n",
       "    ><g transform=\"translate(290,378)\" style=\"font-size:10px; fill:rgb(38,38,38); text-rendering:geometricPrecision; image-rendering:optimizeQuality; color-rendering:optimizeQuality; font-family:'Helvetica Neue'; stroke:rgb(38,38,38); color-interpolation:linearRGB;\"\n",
       "    ><path style=\"stroke:none;\" d=\"M-1.68 6.51 Q-1.68 6.25 -1.675 5.935 Q-1.67 5.62 -1.625 5.305 Q-1.58 4.99 -1.495 4.69 Q-1.41 4.39 -1.245 4.165 Q-1.08 3.94 -0.83 3.8 Q-0.58 3.66 -0.22 3.66 Q0.14 3.66 0.39 3.8 Q0.64 3.94 0.805 4.165 Q0.97 4.39 1.055 4.69 Q1.14 4.99 1.185 5.305 Q1.23 5.62 1.235 5.935 Q1.24 6.25 1.24 6.51 Q1.24 6.91 1.215 7.405 Q1.19 7.9 1.055 8.335 Q0.92 8.77 0.62 9.07 Q0.32 9.37 -0.22 9.37 Q-0.76 9.37 -1.06 9.07 Q-1.36 8.77 -1.495 8.335 Q-1.63 7.9 -1.655 7.405 Q-1.68 6.91 -1.68 6.51 ZM-2.58 6.52 Q-2.58 6.91 -2.56 7.33 Q-2.54 7.75 -2.46 8.15 Q-2.38 8.55 -2.23 8.905 Q-2.08 9.26 -1.82 9.53 Q-1.56 9.8 -1.165 9.955 Q-0.77 10.11 -0.22 10.11 Q0.34 10.11 0.73 9.955 Q1.12 9.8 1.38 9.53 Q1.64 9.26 1.79 8.905 Q1.94 8.55 2.02 8.15 Q2.1 7.75 2.12 7.33 Q2.14 6.91 2.14 6.52 Q2.14 6.13 2.12 5.71 Q2.1 5.29 2.02 4.89 Q1.94 4.49 1.79 4.13 Q1.64 3.77 1.38 3.5 Q1.12 3.23 0.725 3.07 Q0.33 2.91 -0.22 2.91 Q-0.77 2.91 -1.165 3.07 Q-1.56 3.23 -1.82 3.5 Q-2.08 3.77 -2.23 4.13 Q-2.38 4.49 -2.46 4.89 Q-2.54 5.29 -2.56 5.71 Q-2.58 6.13 -2.58 6.52 Z\"\n",
       "    /></g\n",
       "    ><g transform=\"translate(333.4,378)\" style=\"font-size:10px; fill:rgb(38,38,38); text-rendering:geometricPrecision; image-rendering:optimizeQuality; color-rendering:optimizeQuality; font-family:'Helvetica Neue'; stroke:rgb(38,38,38); color-interpolation:linearRGB;\"\n",
       "    ><path style=\"stroke:none;\" d=\"M-5.68 6.51 Q-5.68 6.25 -5.675 5.935 Q-5.67 5.62 -5.625 5.305 Q-5.58 4.99 -5.495 4.69 Q-5.41 4.39 -5.245 4.165 Q-5.08 3.94 -4.83 3.8 Q-4.58 3.66 -4.22 3.66 Q-3.86 3.66 -3.61 3.8 Q-3.36 3.94 -3.195 4.165 Q-3.03 4.39 -2.945 4.69 Q-2.86 4.99 -2.815 5.305 Q-2.77 5.62 -2.765 5.935 Q-2.76 6.25 -2.76 6.51 Q-2.76 6.91 -2.785 7.405 Q-2.81 7.9 -2.945 8.335 Q-3.08 8.77 -3.38 9.07 Q-3.68 9.37 -4.22 9.37 Q-4.76 9.37 -5.06 9.07 Q-5.36 8.77 -5.495 8.335 Q-5.63 7.9 -5.655 7.405 Q-5.68 6.91 -5.68 6.51 ZM-6.58 6.52 Q-6.58 6.91 -6.56 7.33 Q-6.54 7.75 -6.46 8.15 Q-6.38 8.55 -6.23 8.905 Q-6.08 9.26 -5.82 9.53 Q-5.56 9.8 -5.165 9.955 Q-4.77 10.11 -4.22 10.11 Q-3.66 10.11 -3.27 9.955 Q-2.88 9.8 -2.62 9.53 Q-2.36 9.26 -2.21 8.905 Q-2.06 8.55 -1.98 8.15 Q-1.9 7.75 -1.88 7.33 Q-1.86 6.91 -1.86 6.52 Q-1.86 6.13 -1.88 5.71 Q-1.9 5.29 -1.98 4.89 Q-2.06 4.49 -2.21 4.13 Q-2.36 3.77 -2.62 3.5 Q-2.88 3.23 -3.275 3.07 Q-3.67 2.91 -4.22 2.91 Q-4.77 2.91 -5.165 3.07 Q-5.56 3.23 -5.82 3.5 Q-6.08 3.77 -6.23 4.13 Q-6.38 4.49 -6.46 4.89 Q-6.54 5.29 -6.56 5.71 Q-6.58 6.13 -6.58 6.52 ZM-0.61 8.89 L-0.61 10 L0.5 10 L0.5 8.89 ZM1.78 5.42 L2.63 5.42 Q2.62 5.1 2.695 4.785 Q2.77 4.47 2.94 4.22 Q3.11 3.97 3.375 3.815 Q3.64 3.66 4.01 3.66 Q4.29 3.66 4.54 3.75 Q4.79 3.84 4.975 4.01 Q5.16 4.18 5.27 4.415 Q5.38 4.65 5.38 4.94 Q5.38 5.31 5.265 5.59 Q5.15 5.87 4.925 6.11 Q4.7 6.35 4.36 6.585 Q4.02 6.82 3.57 7.1 Q3.2 7.32 2.86 7.57 Q2.52 7.82 2.25 8.15 Q1.98 8.48 1.805 8.925 Q1.63 9.37 1.58 10 L6.21 10 L6.21 9.25 L2.57 9.25 Q2.63 8.92 2.825 8.665 Q3.02 8.41 3.295 8.19 Q3.57 7.97 3.9 7.775 Q4.23 7.58 4.56 7.38 Q4.89 7.17 5.2 6.94 Q5.51 6.71 5.75 6.425 Q5.99 6.14 6.135 5.78 Q6.28 5.42 6.28 4.95 Q6.28 4.45 6.105 4.07 Q5.93 3.69 5.63 3.435 Q5.33 3.18 4.925 3.045 Q4.52 2.91 4.06 2.91 Q3.5 2.91 3.06 3.1 Q2.62 3.29 2.325 3.625 Q2.03 3.96 1.89 4.42 Q1.75 4.88 1.78 5.42 Z\"\n",
       "    /></g\n",
       "    ><g transform=\"translate(376.8,378)\" style=\"font-size:10px; fill:rgb(38,38,38); text-rendering:geometricPrecision; image-rendering:optimizeQuality; color-rendering:optimizeQuality; font-family:'Helvetica Neue'; stroke:rgb(38,38,38); color-interpolation:linearRGB;\"\n",
       "    ><path style=\"stroke:none;\" d=\"M-5.68 6.51 Q-5.68 6.25 -5.675 5.935 Q-5.67 5.62 -5.625 5.305 Q-5.58 4.99 -5.495 4.69 Q-5.41 4.39 -5.245 4.165 Q-5.08 3.94 -4.83 3.8 Q-4.58 3.66 -4.22 3.66 Q-3.86 3.66 -3.61 3.8 Q-3.36 3.94 -3.195 4.165 Q-3.03 4.39 -2.945 4.69 Q-2.86 4.99 -2.815 5.305 Q-2.77 5.62 -2.765 5.935 Q-2.76 6.25 -2.76 6.51 Q-2.76 6.91 -2.785 7.405 Q-2.81 7.9 -2.945 8.335 Q-3.08 8.77 -3.38 9.07 Q-3.68 9.37 -4.22 9.37 Q-4.76 9.37 -5.06 9.07 Q-5.36 8.77 -5.495 8.335 Q-5.63 7.9 -5.655 7.405 Q-5.68 6.91 -5.68 6.51 ZM-6.58 6.52 Q-6.58 6.91 -6.56 7.33 Q-6.54 7.75 -6.46 8.15 Q-6.38 8.55 -6.23 8.905 Q-6.08 9.26 -5.82 9.53 Q-5.56 9.8 -5.165 9.955 Q-4.77 10.11 -4.22 10.11 Q-3.66 10.11 -3.27 9.955 Q-2.88 9.8 -2.62 9.53 Q-2.36 9.26 -2.21 8.905 Q-2.06 8.55 -1.98 8.15 Q-1.9 7.75 -1.88 7.33 Q-1.86 6.91 -1.86 6.52 Q-1.86 6.13 -1.88 5.71 Q-1.9 5.29 -1.98 4.89 Q-2.06 4.49 -2.21 4.13 Q-2.36 3.77 -2.62 3.5 Q-2.88 3.23 -3.275 3.07 Q-3.67 2.91 -4.22 2.91 Q-4.77 2.91 -5.165 3.07 Q-5.56 3.23 -5.82 3.5 Q-6.08 3.77 -6.23 4.13 Q-6.38 4.49 -6.46 4.89 Q-6.54 5.29 -6.56 5.71 Q-6.58 6.13 -6.58 6.52 ZM-0.61 8.89 L-0.61 10 L0.5 10 L0.5 8.89 ZM4.73 7.59 L2.35 7.59 L4.71 4.12 L4.73 4.12 ZM5.53 7.59 L5.53 2.91 L4.85 2.91 L1.62 7.52 L1.62 8.34 L4.73 8.34 L4.73 10 L5.53 10 L5.53 8.34 L6.49 8.34 L6.49 7.59 Z\"\n",
       "    /></g\n",
       "    ><g transform=\"translate(420.2,378)\" style=\"font-size:10px; fill:rgb(38,38,38); text-rendering:geometricPrecision; image-rendering:optimizeQuality; color-rendering:optimizeQuality; font-family:'Helvetica Neue'; stroke:rgb(38,38,38); color-interpolation:linearRGB;\"\n",
       "    ><path style=\"stroke:none;\" d=\"M-5.68 6.51 Q-5.68 6.25 -5.675 5.935 Q-5.67 5.62 -5.625 5.305 Q-5.58 4.99 -5.495 4.69 Q-5.41 4.39 -5.245 4.165 Q-5.08 3.94 -4.83 3.8 Q-4.58 3.66 -4.22 3.66 Q-3.86 3.66 -3.61 3.8 Q-3.36 3.94 -3.195 4.165 Q-3.03 4.39 -2.945 4.69 Q-2.86 4.99 -2.815 5.305 Q-2.77 5.62 -2.765 5.935 Q-2.76 6.25 -2.76 6.51 Q-2.76 6.91 -2.785 7.405 Q-2.81 7.9 -2.945 8.335 Q-3.08 8.77 -3.38 9.07 Q-3.68 9.37 -4.22 9.37 Q-4.76 9.37 -5.06 9.07 Q-5.36 8.77 -5.495 8.335 Q-5.63 7.9 -5.655 7.405 Q-5.68 6.91 -5.68 6.51 ZM-6.58 6.52 Q-6.58 6.91 -6.56 7.33 Q-6.54 7.75 -6.46 8.15 Q-6.38 8.55 -6.23 8.905 Q-6.08 9.26 -5.82 9.53 Q-5.56 9.8 -5.165 9.955 Q-4.77 10.11 -4.22 10.11 Q-3.66 10.11 -3.27 9.955 Q-2.88 9.8 -2.62 9.53 Q-2.36 9.26 -2.21 8.905 Q-2.06 8.55 -1.98 8.15 Q-1.9 7.75 -1.88 7.33 Q-1.86 6.91 -1.86 6.52 Q-1.86 6.13 -1.88 5.71 Q-1.9 5.29 -1.98 4.89 Q-2.06 4.49 -2.21 4.13 Q-2.36 3.77 -2.62 3.5 Q-2.88 3.23 -3.275 3.07 Q-3.67 2.91 -4.22 2.91 Q-4.77 2.91 -5.165 3.07 Q-5.56 3.23 -5.82 3.5 Q-6.08 3.77 -6.23 4.13 Q-6.38 4.49 -6.46 4.89 Q-6.54 5.29 -6.56 5.71 Q-6.58 6.13 -6.58 6.52 ZM-0.61 8.89 L-0.61 10 L0.5 10 L0.5 8.89 ZM5.48 4.72 L6.33 4.72 Q6.25 3.84 5.73 3.375 Q5.21 2.91 4.33 2.91 Q3.57 2.91 3.07 3.23 Q2.57 3.55 2.27 4.08 Q1.97 4.61 1.845 5.295 Q1.72 5.98 1.72 6.71 Q1.72 7.27 1.805 7.87 Q1.89 8.47 2.15 8.97 Q2.41 9.47 2.89 9.79 Q3.37 10.11 4.16 10.11 Q4.83 10.11 5.285 9.885 Q5.74 9.66 6.015 9.315 Q6.29 8.97 6.41 8.55 Q6.53 8.13 6.53 7.74 Q6.53 7.25 6.38 6.83 Q6.23 6.41 5.955 6.1 Q5.68 5.79 5.275 5.615 Q4.87 5.44 4.36 5.44 Q3.78 5.44 3.335 5.66 Q2.89 5.88 2.59 6.37 L2.57 6.35 Q2.58 5.94 2.65 5.47 Q2.72 5 2.905 4.595 Q3.09 4.19 3.42 3.925 Q3.75 3.66 4.29 3.66 Q4.8 3.66 5.11 3.95 Q5.42 4.24 5.48 4.72 ZM4.2 6.19 Q4.56 6.19 4.83 6.32 Q5.1 6.45 5.28 6.665 Q5.46 6.88 5.545 7.175 Q5.63 7.47 5.63 7.8 Q5.63 8.11 5.535 8.395 Q5.44 8.68 5.26 8.9 Q5.08 9.12 4.815 9.245 Q4.55 9.37 4.2 9.37 Q3.85 9.37 3.575 9.245 Q3.3 9.12 3.115 8.91 Q2.93 8.7 2.83 8.41 Q2.73 8.12 2.73 7.79 Q2.73 7.46 2.825 7.165 Q2.92 6.87 3.11 6.655 Q3.3 6.44 3.57 6.315 Q3.84 6.19 4.2 6.19 Z\"\n",
       "    /></g\n",
       "    ><g transform=\"translate(463.6,378)\" style=\"font-size:10px; fill:rgb(38,38,38); text-rendering:geometricPrecision; image-rendering:optimizeQuality; color-rendering:optimizeQuality; font-family:'Helvetica Neue'; stroke:rgb(38,38,38); color-interpolation:linearRGB;\"\n",
       "    ><path style=\"stroke:none;\" d=\"M-5.68 6.51 Q-5.68 6.25 -5.675 5.935 Q-5.67 5.62 -5.625 5.305 Q-5.58 4.99 -5.495 4.69 Q-5.41 4.39 -5.245 4.165 Q-5.08 3.94 -4.83 3.8 Q-4.58 3.66 -4.22 3.66 Q-3.86 3.66 -3.61 3.8 Q-3.36 3.94 -3.195 4.165 Q-3.03 4.39 -2.945 4.69 Q-2.86 4.99 -2.815 5.305 Q-2.77 5.62 -2.765 5.935 Q-2.76 6.25 -2.76 6.51 Q-2.76 6.91 -2.785 7.405 Q-2.81 7.9 -2.945 8.335 Q-3.08 8.77 -3.38 9.07 Q-3.68 9.37 -4.22 9.37 Q-4.76 9.37 -5.06 9.07 Q-5.36 8.77 -5.495 8.335 Q-5.63 7.9 -5.655 7.405 Q-5.68 6.91 -5.68 6.51 ZM-6.58 6.52 Q-6.58 6.91 -6.56 7.33 Q-6.54 7.75 -6.46 8.15 Q-6.38 8.55 -6.23 8.905 Q-6.08 9.26 -5.82 9.53 Q-5.56 9.8 -5.165 9.955 Q-4.77 10.11 -4.22 10.11 Q-3.66 10.11 -3.27 9.955 Q-2.88 9.8 -2.62 9.53 Q-2.36 9.26 -2.21 8.905 Q-2.06 8.55 -1.98 8.15 Q-1.9 7.75 -1.88 7.33 Q-1.86 6.91 -1.86 6.52 Q-1.86 6.13 -1.88 5.71 Q-1.9 5.29 -1.98 4.89 Q-2.06 4.49 -2.21 4.13 Q-2.36 3.77 -2.62 3.5 Q-2.88 3.23 -3.275 3.07 Q-3.67 2.91 -4.22 2.91 Q-4.77 2.91 -5.165 3.07 Q-5.56 3.23 -5.82 3.5 Q-6.08 3.77 -6.23 4.13 Q-6.38 4.49 -6.46 4.89 Q-6.54 5.29 -6.56 5.71 Q-6.58 6.13 -6.58 6.52 ZM-0.61 8.89 L-0.61 10 L0.5 10 L0.5 8.89 ZM2.89 4.75 Q2.89 4.48 2.99 4.28 Q3.09 4.08 3.255 3.94 Q3.42 3.8 3.65 3.73 Q3.88 3.66 4.13 3.66 Q4.65 3.66 4.985 3.935 Q5.32 4.21 5.32 4.75 Q5.32 5.29 4.99 5.59 Q4.66 5.89 4.15 5.89 Q3.89 5.89 3.66 5.82 Q3.43 5.75 3.26 5.61 Q3.09 5.47 2.99 5.255 Q2.89 5.04 2.89 4.75 ZM1.99 4.72 Q1.99 5.2 2.26 5.605 Q2.53 6.01 2.98 6.19 Q2.38 6.4 2.06 6.865 Q1.74 7.33 1.74 7.96 Q1.74 8.5 1.925 8.905 Q2.11 9.31 2.435 9.58 Q2.76 9.85 3.2 9.98 Q3.64 10.11 4.15 10.11 Q4.64 10.11 5.07 9.97 Q5.5 9.83 5.815 9.555 Q6.13 9.28 6.315 8.88 Q6.5 8.48 6.5 7.96 Q6.5 7.3 6.19 6.845 Q5.88 6.39 5.24 6.19 Q5.69 5.99 5.955 5.595 Q6.22 5.2 6.22 4.72 Q6.22 4.38 6.1 4.055 Q5.98 3.73 5.725 3.475 Q5.47 3.22 5.06 3.065 Q4.65 2.91 4.07 2.91 Q3.66 2.91 3.285 3.03 Q2.91 3.15 2.62 3.38 Q2.33 3.61 2.16 3.945 Q1.99 4.28 1.99 4.72 ZM2.64 8 Q2.64 7.69 2.755 7.44 Q2.87 7.19 3.075 7.01 Q3.28 6.83 3.555 6.735 Q3.83 6.64 4.14 6.64 Q4.44 6.64 4.705 6.745 Q4.97 6.85 5.17 7.03 Q5.37 7.21 5.485 7.455 Q5.6 7.7 5.6 7.99 Q5.6 8.29 5.495 8.54 Q5.39 8.79 5.195 8.975 Q5 9.16 4.735 9.265 Q4.47 9.37 4.15 9.37 Q3.49 9.37 3.065 9.005 Q2.64 8.64 2.64 8 Z\"\n",
       "    /></g\n",
       "    ><g transform=\"translate(507,378)\" style=\"font-size:10px; fill:rgb(38,38,38); text-rendering:geometricPrecision; image-rendering:optimizeQuality; color-rendering:optimizeQuality; font-family:'Helvetica Neue'; stroke:rgb(38,38,38); color-interpolation:linearRGB;\"\n",
       "    ><path style=\"stroke:none;\" d=\"M0.56 10 L0.56 2.91 L-0.09 2.91 Q-0.16 3.31 -0.35 3.57 Q-0.54 3.83 -0.815 3.98 Q-1.09 4.13 -1.43 4.185 Q-1.77 4.24 -2.13 4.24 L-2.13 4.92 L-0.29 4.92 L-0.29 10 Z\"\n",
       "    /></g\n",
       "    ><g transform=\"translate(288,403)\" style=\"font-size:11px; fill:rgb(38,38,38); text-rendering:geometricPrecision; image-rendering:optimizeQuality; color-rendering:optimizeQuality; font-family:'Helvetica Neue'; stroke:rgb(38,38,38); color-interpolation:linearRGB;\"\n",
       "    ><path style=\"stroke:none;\" d=\"M2.002 -5.687 L2.002 -7.392 L1.067 -7.392 L1.067 -5.687 L0.099 -5.687 L0.099 -4.862 L1.067 -4.862 L1.067 -1.243 Q1.067 -0.847 1.144 -0.605 Q1.221 -0.363 1.3805 -0.231 Q1.54 -0.099 1.7985 -0.0495 Q2.057 0 2.42 0 L3.135 0 L3.135 -0.825 L2.706 -0.825 Q2.486 -0.825 2.3485 -0.8415 Q2.211 -0.858 2.134 -0.913 Q2.057 -0.968 2.0295 -1.067 Q2.002 -1.166 2.002 -1.331 L2.002 -4.862 L3.135 -4.862 L3.135 -5.687 Z\"\n",
       "    /></g\n",
       "    ><g style=\"fill:rgb(38,38,38); text-rendering:geometricPrecision; image-rendering:optimizeQuality; color-rendering:optimizeQuality; stroke-linejoin:round; stroke:rgb(38,38,38); color-interpolation:linearRGB; stroke-width:0.5;\"\n",
       "    ><line y2=\"31.5\" style=\"fill:none;\" x1=\"73\" x2=\"73\" y1=\"374\"\n",
       "      /><line y2=\"31.5\" style=\"fill:none;\" x1=\"507\" x2=\"507\" y1=\"374\"\n",
       "      /><line y2=\"339.75\" style=\"fill:none;\" x1=\"73\" x2=\"77.34\" y1=\"339.75\"\n",
       "      /><line y2=\"271.25\" style=\"fill:none;\" x1=\"73\" x2=\"77.34\" y1=\"271.25\"\n",
       "      /><line y2=\"202.75\" style=\"fill:none;\" x1=\"73\" x2=\"77.34\" y1=\"202.75\"\n",
       "      /><line y2=\"134.25\" style=\"fill:none;\" x1=\"73\" x2=\"77.34\" y1=\"134.25\"\n",
       "      /><line y2=\"65.75\" style=\"fill:none;\" x1=\"73\" x2=\"77.34\" y1=\"65.75\"\n",
       "      /><line y2=\"339.75\" style=\"fill:none;\" x1=\"507\" x2=\"502.66\" y1=\"339.75\"\n",
       "      /><line y2=\"271.25\" style=\"fill:none;\" x1=\"507\" x2=\"502.66\" y1=\"271.25\"\n",
       "      /><line y2=\"202.75\" style=\"fill:none;\" x1=\"507\" x2=\"502.66\" y1=\"202.75\"\n",
       "      /><line y2=\"134.25\" style=\"fill:none;\" x1=\"507\" x2=\"502.66\" y1=\"134.25\"\n",
       "      /><line y2=\"65.75\" style=\"fill:none;\" x1=\"507\" x2=\"502.66\" y1=\"65.75\"\n",
       "    /></g\n",
       "    ><g transform=\"translate(69,339.75)\" style=\"font-size:10px; fill:rgb(38,38,38); text-rendering:geometricPrecision; image-rendering:optimizeQuality; color-rendering:optimizeQuality; font-family:'Helvetica Neue'; stroke:rgb(38,38,38); color-interpolation:linearRGB;\"\n",
       "    ><path style=\"stroke:none;\" d=\"M-9.5 0.32 L-9.5 1.12 L-6.61 1.12 L-6.61 0.32 ZM-5.67 -1.08 L-4.82 -1.08 Q-4.83 -1.4 -4.755 -1.715 Q-4.68 -2.03 -4.51 -2.28 Q-4.34 -2.53 -4.075 -2.685 Q-3.81 -2.84 -3.44 -2.84 Q-3.16 -2.84 -2.91 -2.75 Q-2.66 -2.66 -2.475 -2.49 Q-2.29 -2.32 -2.18 -2.085 Q-2.07 -1.85 -2.07 -1.56 Q-2.07 -1.19 -2.185 -0.91 Q-2.3 -0.63 -2.525 -0.39 Q-2.75 -0.15 -3.09 0.085 Q-3.43 0.32 -3.88 0.6 Q-4.25 0.82 -4.59 1.07 Q-4.93 1.32 -5.2 1.65 Q-5.47 1.98 -5.645 2.425 Q-5.82 2.87 -5.87 3.5 L-1.24 3.5 L-1.24 2.75 L-4.88 2.75 Q-4.82 2.42 -4.625 2.165 Q-4.43 1.91 -4.155 1.69 Q-3.88 1.47 -3.55 1.275 Q-3.22 1.08 -2.89 0.88 Q-2.56 0.67 -2.25 0.44 Q-1.94 0.21 -1.7 -0.075 Q-1.46 -0.36 -1.315 -0.72 Q-1.17 -1.08 -1.17 -1.55 Q-1.17 -2.05 -1.345 -2.43 Q-1.52 -2.81 -1.82 -3.065 Q-2.12 -3.32 -2.525 -3.455 Q-2.93 -3.59 -3.39 -3.59 Q-3.95 -3.59 -4.39 -3.4 Q-4.83 -3.21 -5.125 -2.875 Q-5.42 -2.54 -5.56 -2.08 Q-5.7 -1.62 -5.67 -1.08 Z\"\n",
       "    /></g\n",
       "    ><g transform=\"translate(69,271.25)\" style=\"font-size:10px; fill:rgb(38,38,38); text-rendering:geometricPrecision; image-rendering:optimizeQuality; color-rendering:optimizeQuality; font-family:'Helvetica Neue'; stroke:rgb(38,38,38); color-interpolation:linearRGB;\"\n",
       "    ><path style=\"stroke:none;\" d=\"M-17.5 0.32 L-17.5 1.12 L-14.61 1.12 L-14.61 0.32 ZM-10.55 3.5 L-10.55 -3.59 L-11.2 -3.59 Q-11.27 -3.19 -11.46 -2.93 Q-11.65 -2.67 -11.925 -2.52 Q-12.2 -2.37 -12.54 -2.315 Q-12.88 -2.26 -13.24 -2.26 L-13.24 -1.58 L-11.4 -1.58 L-11.4 3.5 ZM-7.72 2.39 L-7.72 3.5 L-6.61 3.5 L-6.61 2.39 ZM-1.07 -2.72 L-1.07 -3.47 L-4.57 -3.47 L-5.23 0.21 L-4.5 0.25 Q-4.25 -0.05 -3.925 -0.235 Q-3.6 -0.42 -3.18 -0.42 Q-2.82 -0.42 -2.525 -0.3 Q-2.23 -0.18 -2.02 0.035 Q-1.81 0.25 -1.695 0.545 Q-1.58 0.84 -1.58 1.19 Q-1.58 1.61 -1.7 1.925 Q-1.82 2.24 -2.025 2.45 Q-2.23 2.66 -2.505 2.765 Q-2.78 2.87 -3.08 2.87 Q-3.4 2.87 -3.665 2.775 Q-3.93 2.68 -4.125 2.505 Q-4.32 2.33 -4.435 2.095 Q-4.55 1.86 -4.57 1.59 L-5.42 1.59 Q-5.41 2.07 -5.23 2.45 Q-5.05 2.83 -4.74 3.085 Q-4.43 3.34 -4.025 3.475 Q-3.62 3.61 -3.16 3.61 Q-2.54 3.61 -2.075 3.415 Q-1.61 3.22 -1.3 2.89 Q-0.99 2.56 -0.835 2.135 Q-0.68 1.71 -0.68 1.26 Q-0.68 0.65 -0.86 0.195 Q-1.04 -0.26 -1.35 -0.565 Q-1.66 -0.87 -2.08 -1.02 Q-2.5 -1.17 -2.97 -1.17 Q-3.33 -1.17 -3.695 -1.045 Q-4.06 -0.92 -4.29 -0.66 L-4.31 -0.68 L-3.93 -2.72 Z\"\n",
       "    /></g\n",
       "    ><g transform=\"translate(69,202.75)\" style=\"font-size:10px; fill:rgb(38,38,38); text-rendering:geometricPrecision; image-rendering:optimizeQuality; color-rendering:optimizeQuality; font-family:'Helvetica Neue'; stroke:rgb(38,38,38); color-interpolation:linearRGB;\"\n",
       "    ><path style=\"stroke:none;\" d=\"M-9.5 0.32 L-9.5 1.12 L-6.61 1.12 L-6.61 0.32 ZM-2.55 3.5 L-2.55 -3.59 L-3.2 -3.59 Q-3.27 -3.19 -3.46 -2.93 Q-3.65 -2.67 -3.925 -2.52 Q-4.2 -2.37 -4.54 -2.315 Q-4.88 -2.26 -5.24 -2.26 L-5.24 -1.58 L-3.4 -1.58 L-3.4 3.5 Z\"\n",
       "    /></g\n",
       "    ><g transform=\"translate(69,134.25)\" style=\"font-size:10px; fill:rgb(38,38,38); text-rendering:geometricPrecision; image-rendering:optimizeQuality; color-rendering:optimizeQuality; font-family:'Helvetica Neue'; stroke:rgb(38,38,38); color-interpolation:linearRGB;\"\n",
       "    ><path style=\"stroke:none;\" d=\"M-17.5 0.32 L-17.5 1.12 L-14.61 1.12 L-14.61 0.32 ZM-12.79 0.01 Q-12.79 -0.25 -12.785 -0.565 Q-12.78 -0.88 -12.735 -1.195 Q-12.69 -1.51 -12.605 -1.81 Q-12.52 -2.11 -12.355 -2.335 Q-12.19 -2.56 -11.94 -2.7 Q-11.69 -2.84 -11.33 -2.84 Q-10.97 -2.84 -10.72 -2.7 Q-10.47 -2.56 -10.305 -2.335 Q-10.14 -2.11 -10.055 -1.81 Q-9.97 -1.51 -9.925 -1.195 Q-9.88 -0.88 -9.875 -0.565 Q-9.87 -0.25 -9.87 0.01 Q-9.87 0.41 -9.895 0.905 Q-9.92 1.4 -10.055 1.835 Q-10.19 2.27 -10.49 2.57 Q-10.79 2.87 -11.33 2.87 Q-11.87 2.87 -12.17 2.57 Q-12.47 2.27 -12.605 1.835 Q-12.74 1.4 -12.765 0.905 Q-12.79 0.41 -12.79 0.01 ZM-13.69 0.02 Q-13.69 0.41 -13.67 0.83 Q-13.65 1.25 -13.57 1.65 Q-13.49 2.05 -13.34 2.405 Q-13.19 2.76 -12.93 3.03 Q-12.67 3.3 -12.275 3.455 Q-11.88 3.61 -11.33 3.61 Q-10.77 3.61 -10.38 3.455 Q-9.99 3.3 -9.73 3.03 Q-9.47 2.76 -9.32 2.405 Q-9.17 2.05 -9.09 1.65 Q-9.01 1.25 -8.99 0.83 Q-8.97 0.41 -8.97 0.02 Q-8.97 -0.37 -8.99 -0.79 Q-9.01 -1.21 -9.09 -1.61 Q-9.17 -2.01 -9.32 -2.37 Q-9.47 -2.73 -9.73 -3 Q-9.99 -3.27 -10.385 -3.43 Q-10.78 -3.59 -11.33 -3.59 Q-11.88 -3.59 -12.275 -3.43 Q-12.67 -3.27 -12.93 -3 Q-13.19 -2.73 -13.34 -2.37 Q-13.49 -2.01 -13.57 -1.61 Q-13.65 -1.21 -13.67 -0.79 Q-13.69 -0.37 -13.69 0.02 ZM-7.72 2.39 L-7.72 3.5 L-6.61 3.5 L-6.61 2.39 ZM-1.07 -2.72 L-1.07 -3.47 L-4.57 -3.47 L-5.23 0.21 L-4.5 0.25 Q-4.25 -0.05 -3.925 -0.235 Q-3.6 -0.42 -3.18 -0.42 Q-2.82 -0.42 -2.525 -0.3 Q-2.23 -0.18 -2.02 0.035 Q-1.81 0.25 -1.695 0.545 Q-1.58 0.84 -1.58 1.19 Q-1.58 1.61 -1.7 1.925 Q-1.82 2.24 -2.025 2.45 Q-2.23 2.66 -2.505 2.765 Q-2.78 2.87 -3.08 2.87 Q-3.4 2.87 -3.665 2.775 Q-3.93 2.68 -4.125 2.505 Q-4.32 2.33 -4.435 2.095 Q-4.55 1.86 -4.57 1.59 L-5.42 1.59 Q-5.41 2.07 -5.23 2.45 Q-5.05 2.83 -4.74 3.085 Q-4.43 3.34 -4.025 3.475 Q-3.62 3.61 -3.16 3.61 Q-2.54 3.61 -2.075 3.415 Q-1.61 3.22 -1.3 2.89 Q-0.99 2.56 -0.835 2.135 Q-0.68 1.71 -0.68 1.26 Q-0.68 0.65 -0.86 0.195 Q-1.04 -0.26 -1.35 -0.565 Q-1.66 -0.87 -2.08 -1.02 Q-2.5 -1.17 -2.97 -1.17 Q-3.33 -1.17 -3.695 -1.045 Q-4.06 -0.92 -4.29 -0.66 L-4.31 -0.68 L-3.93 -2.72 Z\"\n",
       "    /></g\n",
       "    ><g transform=\"translate(69,65.75)\" style=\"font-size:10px; fill:rgb(38,38,38); text-rendering:geometricPrecision; image-rendering:optimizeQuality; color-rendering:optimizeQuality; font-family:'Helvetica Neue'; stroke:rgb(38,38,38); color-interpolation:linearRGB;\"\n",
       "    ><path style=\"stroke:none;\" d=\"M-4.68 0.01 Q-4.68 -0.25 -4.675 -0.565 Q-4.67 -0.88 -4.625 -1.195 Q-4.58 -1.51 -4.495 -1.81 Q-4.41 -2.11 -4.245 -2.335 Q-4.08 -2.56 -3.83 -2.7 Q-3.58 -2.84 -3.22 -2.84 Q-2.86 -2.84 -2.61 -2.7 Q-2.36 -2.56 -2.195 -2.335 Q-2.03 -2.11 -1.945 -1.81 Q-1.86 -1.51 -1.815 -1.195 Q-1.77 -0.88 -1.765 -0.565 Q-1.76 -0.25 -1.76 0.01 Q-1.76 0.41 -1.785 0.905 Q-1.81 1.4 -1.945 1.835 Q-2.08 2.27 -2.38 2.57 Q-2.68 2.87 -3.22 2.87 Q-3.76 2.87 -4.06 2.57 Q-4.36 2.27 -4.495 1.835 Q-4.63 1.4 -4.655 0.905 Q-4.68 0.41 -4.68 0.01 ZM-5.58 0.02 Q-5.58 0.41 -5.56 0.83 Q-5.54 1.25 -5.46 1.65 Q-5.38 2.05 -5.23 2.405 Q-5.08 2.76 -4.82 3.03 Q-4.56 3.3 -4.165 3.455 Q-3.77 3.61 -3.22 3.61 Q-2.66 3.61 -2.27 3.455 Q-1.88 3.3 -1.62 3.03 Q-1.36 2.76 -1.21 2.405 Q-1.06 2.05 -0.98 1.65 Q-0.9 1.25 -0.88 0.83 Q-0.86 0.41 -0.86 0.02 Q-0.86 -0.37 -0.88 -0.79 Q-0.9 -1.21 -0.98 -1.61 Q-1.06 -2.01 -1.21 -2.37 Q-1.36 -2.73 -1.62 -3 Q-1.88 -3.27 -2.275 -3.43 Q-2.67 -3.59 -3.22 -3.59 Q-3.77 -3.59 -4.165 -3.43 Q-4.56 -3.27 -4.82 -3 Q-5.08 -2.73 -5.23 -2.37 Q-5.38 -2.01 -5.46 -1.61 Q-5.54 -1.21 -5.56 -0.79 Q-5.58 -0.37 -5.58 0.02 Z\"\n",
       "    /></g\n",
       "    ><g transform=\"translate(290.0003,30.125)\" style=\"font-size:11px; text-rendering:geometricPrecision; color-rendering:optimizeQuality; image-rendering:optimizeQuality; font-family:'mwa_cmr10'; color-interpolation:linearRGB;\"\n",
       "    ><path style=\"stroke:none;\" d=\"M-100.2463 -3.96 L-100.2463 -4.3507 Q-99.2619 -4.3507 -99.0432 -4.9913 L-96.7307 -11.71 Q-96.6994 -11.835 -96.5588 -11.835 L-96.4182 -11.835 Q-96.2775 -11.835 -96.2463 -11.71 L-93.8244 -4.6944 Q-93.7307 -4.46 -93.4416 -4.4054 Q-93.1525 -4.3507 -92.715 -4.3507 L-92.715 -3.96 L-95.7932 -3.96 L-95.7932 -4.3507 Q-94.8713 -4.3507 -94.8713 -4.6475 L-94.8713 -4.6944 L-95.465 -6.4132 L-98.1369 -6.4132 L-98.6369 -4.9913 Q-98.6525 -4.96 -98.6525 -4.8819 Q-98.6525 -4.6163 -98.3869 -4.4835 Q-98.1213 -4.3507 -97.8244 -4.3507 L-97.8244 -3.96 L-100.2463 -3.96 ZM-98.0119 -6.8038 L-95.6057 -6.8038 L-96.8088 -10.3038 L-98.0119 -6.8038 Z\"\n",
       "      /><path style=\"stroke:none;\" d=\"M-92.0275 -3.96 L-92.0275 -4.3507 Q-91.6525 -4.3507 -91.4103 -4.4054 Q-91.1682 -4.46 -91.1682 -4.6944 L-91.1682 -7.6944 Q-91.1682 -7.9913 -91.2541 -8.1241 Q-91.34 -8.2569 -91.5119 -8.2882 Q-91.6838 -8.3194 -92.0275 -8.3194 L-92.0275 -8.71 L-90.4338 -8.8194 L-90.4338 -7.7413 Q-90.215 -8.2257 -89.7775 -8.5225 Q-89.34 -8.8194 -88.84 -8.8194 Q-87.5744 -8.8194 -87.3557 -7.7882 Q-87.1369 -8.2569 -86.7072 -8.5382 Q-86.2775 -8.8194 -85.7775 -8.8194 Q-85.2775 -8.8194 -84.9338 -8.6554 Q-84.59 -8.4913 -84.4182 -8.1632 Q-84.2463 -7.835 -84.2463 -7.335 L-84.2463 -4.6944 Q-84.2463 -4.46 -84.0041 -4.4054 Q-83.7619 -4.3507 -83.3869 -4.3507 L-83.3869 -3.96 L-85.9025 -3.96 L-85.9025 -4.3507 Q-85.5275 -4.3507 -85.2853 -4.4054 Q-85.0432 -4.46 -85.0432 -4.6944 L-85.0432 -7.3038 Q-85.0432 -7.8663 -85.1994 -8.2022 Q-85.3557 -8.5382 -85.84 -8.5382 Q-86.4807 -8.5382 -86.8947 -8.0304 Q-87.3088 -7.5225 -87.3088 -6.8663 L-87.3088 -4.6944 Q-87.3088 -4.46 -87.0666 -4.4054 Q-86.8244 -4.3507 -86.4494 -4.3507 L-86.4494 -3.96 L-88.965 -3.96 L-88.965 -4.3507 Q-88.59 -4.3507 -88.3478 -4.4054 Q-88.1057 -4.46 -88.1057 -4.6944 L-88.1057 -7.3038 Q-88.1057 -7.8507 -88.2619 -8.1944 Q-88.4182 -8.5382 -88.9025 -8.5382 Q-89.5432 -8.5382 -89.9494 -8.0304 Q-90.3557 -7.5225 -90.3557 -6.8663 L-90.3557 -4.6944 Q-90.3557 -4.46 -90.1213 -4.4054 Q-89.8869 -4.3507 -89.5119 -4.3507 L-89.5119 -3.96 L-92.0275 -3.96 Z\"\n",
       "      /><path style=\"stroke:none;\" d=\"M-82.9077 -1.835 L-82.9077 -2.21 Q-82.5327 -2.21 -82.2905 -2.2725 Q-82.0483 -2.335 -82.0483 -2.5694 L-82.0483 -7.8663 Q-82.0483 -8.1632 -82.2593 -8.2413 Q-82.4702 -8.3194 -82.9077 -8.3194 L-82.9077 -8.71 L-81.2827 -8.8194 L-81.2827 -8.1319 Q-80.9702 -8.4757 -80.5718 -8.6475 Q-80.1733 -8.8194 -79.7202 -8.8194 Q-79.0796 -8.8194 -78.5562 -8.4679 Q-78.0327 -8.1163 -77.7437 -7.546 Q-77.4546 -6.9757 -77.4546 -6.335 Q-77.4546 -5.6632 -77.7749 -5.0929 Q-78.0952 -4.5225 -78.6577 -4.1788 Q-79.2202 -3.835 -79.8921 -3.835 Q-80.689 -3.835 -81.2515 -4.4913 L-81.2515 -2.5694 Q-81.2515 -2.335 -81.0015 -2.2725 Q-80.7515 -2.21 -80.3921 -2.21 L-80.3921 -1.835 L-82.9077 -1.835 ZM-81.2515 -5.0225 Q-81.0483 -4.6319 -80.7046 -4.3819 Q-80.3608 -4.1319 -79.9546 -4.1319 Q-79.5796 -4.1319 -79.2827 -4.335 Q-78.9858 -4.5382 -78.7905 -4.8819 Q-78.5952 -5.2257 -78.5015 -5.6007 Q-78.4077 -5.9757 -78.4077 -6.335 Q-78.4077 -6.7725 -78.564 -7.2882 Q-78.7202 -7.8038 -79.0483 -8.1554 Q-79.3765 -8.5069 -79.8296 -8.5069 Q-80.2827 -8.5069 -80.6499 -8.2804 Q-81.0171 -8.0538 -81.2515 -7.6632 L-81.2515 -5.0225 Z\"\n",
       "      /><path style=\"stroke:none;\" d=\"M-76.7341 -3.96 L-76.7341 -4.3507 Q-76.3591 -4.3507 -76.1169 -4.4054 Q-75.8747 -4.46 -75.8747 -4.6944 L-75.8747 -10.4757 Q-75.8747 -10.7725 -75.9685 -10.8975 Q-76.0622 -11.0225 -76.2263 -11.0538 Q-76.3903 -11.085 -76.7341 -11.085 L-76.7341 -11.4757 L-75.1091 -11.585 L-75.1091 -4.6944 Q-75.1091 -4.46 -74.8669 -4.4054 Q-74.6247 -4.3507 -74.2497 -4.3507 L-74.2497 -3.96 L-76.7341 -3.96 Z\"\n",
       "      /><path style=\"stroke:none;\" d=\"M-73.6785 -3.96 L-73.6785 -4.3507 Q-73.3035 -4.3507 -73.0613 -4.4054 Q-72.8191 -4.46 -72.8191 -4.6944 L-72.8191 -7.6944 Q-72.8191 -8.1163 -72.9832 -8.2179 Q-73.1473 -8.3194 -73.6316 -8.3194 L-73.6316 -8.71 L-72.0535 -8.8194 L-72.0535 -4.6944 Q-72.0535 -4.46 -71.8426 -4.4054 Q-71.6316 -4.3507 -71.2879 -4.3507 L-71.2879 -3.96 L-73.6785 -3.96 ZM-73.2098 -10.71 Q-73.2098 -10.96 -73.0301 -11.1397 Q-72.8504 -11.3194 -72.616 -11.3194 Q-72.4598 -11.3194 -72.3113 -11.2413 Q-72.1629 -11.1632 -72.0848 -11.0147 Q-72.0066 -10.8663 -72.0066 -10.71 Q-72.0066 -10.4757 -72.1863 -10.296 Q-72.366 -10.1163 -72.616 -10.1163 Q-72.8504 -10.1163 -73.0301 -10.296 Q-73.2098 -10.4757 -73.2098 -10.71 Z\"\n",
       "      /><path style=\"stroke:none;\" d=\"M-69.8417 -5.2882 L-69.8417 -8.3194 L-70.7636 -8.3194 L-70.7636 -8.6007 Q-70.0448 -8.6007 -69.7011 -9.2725 Q-69.3573 -9.9444 -69.3573 -10.7257 L-69.0448 -10.7257 L-69.0448 -8.71 L-67.498 -8.71 L-67.498 -8.3194 L-69.0448 -8.3194 L-69.0448 -5.3038 Q-69.0448 -4.8507 -68.8886 -4.5069 Q-68.7323 -4.1632 -68.3417 -4.1632 Q-67.9667 -4.1632 -67.8026 -4.5225 Q-67.6386 -4.8819 -67.6386 -5.3038 L-67.6386 -5.96 L-67.3105 -5.96 L-67.3105 -5.2882 Q-67.3105 -4.9444 -67.4355 -4.6085 Q-67.5605 -4.2725 -67.8105 -4.0538 Q-68.0605 -3.835 -68.4198 -3.835 Q-69.0761 -3.835 -69.4589 -4.2335 Q-69.8417 -4.6319 -69.8417 -5.2882 Z\"\n",
       "      /><path style=\"stroke:none;\" d=\"M-65.5014 -5.2725 L-65.5014 -7.6944 Q-65.5014 -7.9913 -65.5873 -8.1241 Q-65.6733 -8.2569 -65.8452 -8.2882 Q-66.017 -8.3194 -66.3608 -8.3194 L-66.3608 -8.71 L-64.6889 -8.8194 L-64.6889 -5.2725 Q-64.6889 -4.835 -64.6342 -4.6007 Q-64.5795 -4.3663 -64.3764 -4.2491 Q-64.1733 -4.1319 -63.7358 -4.1319 Q-63.142 -4.1319 -62.7905 -4.6241 Q-62.4389 -5.1163 -62.4389 -5.7413 L-62.4389 -7.6944 Q-62.4389 -7.9913 -62.5327 -8.1241 Q-62.6264 -8.2569 -62.7905 -8.2882 Q-62.9545 -8.3194 -63.2983 -8.3194 L-63.2983 -8.71 L-61.642 -8.8194 L-61.642 -4.96 Q-61.642 -4.6632 -61.5561 -4.5382 Q-61.4702 -4.4132 -61.2983 -4.3819 Q-61.1264 -4.3507 -60.7827 -4.3507 L-60.7827 -3.96 L-62.4077 -3.835 L-62.4077 -4.7725 Q-62.6108 -4.3507 -62.978 -4.0929 Q-63.3452 -3.835 -63.7827 -3.835 Q-64.5795 -3.835 -65.0405 -4.171 Q-65.5014 -4.5069 -65.5014 -5.2725 Z\"\n",
       "      /><path style=\"stroke:none;\" d=\"M-57.8903 -3.835 Q-58.5465 -3.835 -59.0778 -4.1866 Q-59.609 -4.5382 -59.9137 -5.1163 Q-60.2184 -5.6944 -60.2184 -6.335 Q-60.2184 -7.0069 -59.8903 -7.5772 Q-59.5622 -8.1475 -59.0075 -8.4835 Q-58.4528 -8.8194 -57.7809 -8.8194 Q-57.3747 -8.8194 -57.0153 -8.6475 Q-56.6559 -8.4757 -56.3903 -8.1788 L-56.3903 -10.4757 Q-56.3903 -10.7725 -56.4762 -10.8975 Q-56.5622 -11.0225 -56.7262 -11.0538 Q-56.8903 -11.085 -57.2497 -11.085 L-57.2497 -11.4757 L-55.609 -11.585 L-55.609 -4.96 Q-55.609 -4.6632 -55.5231 -4.5382 Q-55.4372 -4.4132 -55.2731 -4.3819 Q-55.109 -4.3507 -54.7653 -4.3507 L-54.7653 -3.96 L-56.4215 -3.835 L-56.4215 -4.5225 Q-56.7028 -4.1944 -57.0934 -4.0147 Q-57.484 -3.835 -57.8903 -3.835 ZM-59.0153 -4.9132 Q-58.8278 -4.5538 -58.5153 -4.3429 Q-58.2028 -4.1319 -57.8278 -4.1319 Q-57.3747 -4.1319 -56.9918 -4.3897 Q-56.609 -4.6475 -56.4215 -5.0694 L-56.4215 -7.71 Q-56.5465 -7.9444 -56.7418 -8.1397 Q-56.9372 -8.335 -57.1872 -8.4366 Q-57.4372 -8.5382 -57.7028 -8.5382 Q-58.2809 -8.5382 -58.6325 -8.21 Q-58.984 -7.8819 -59.1168 -7.3819 Q-59.2497 -6.8819 -59.2497 -6.3194 Q-59.2497 -5.8819 -59.2106 -5.5538 Q-59.1715 -5.2257 -59.0153 -4.9132 Z\"\n",
       "      /><path style=\"stroke:none;\" d=\"M-51.7323 -3.835 Q-52.4042 -3.835 -52.9588 -4.1866 Q-53.5135 -4.5382 -53.8338 -5.1241 Q-54.1542 -5.71 -54.1542 -6.3663 Q-54.1542 -7.0225 -53.8651 -7.6007 Q-53.576 -8.1788 -53.0526 -8.5382 Q-52.5292 -8.8975 -51.8885 -8.8975 Q-51.3729 -8.8975 -51.0057 -8.7257 Q-50.6385 -8.5538 -50.3963 -8.2491 Q-50.1542 -7.9444 -50.0292 -7.5382 Q-49.9042 -7.1319 -49.9042 -6.6475 Q-49.9042 -6.5069 -50.0135 -6.5069 L-53.201 -6.5069 L-53.201 -6.3819 Q-53.201 -5.4757 -52.8338 -4.8194 Q-52.4667 -4.1632 -51.6229 -4.1632 Q-51.2948 -4.1632 -51.0057 -4.3116 Q-50.7167 -4.46 -50.5057 -4.7257 Q-50.2948 -4.9913 -50.2167 -5.3038 Q-50.201 -5.335 -50.1776 -5.3663 Q-50.1542 -5.3975 -50.1073 -5.3975 L-50.0135 -5.3975 Q-49.9042 -5.3975 -49.9042 -5.2569 Q-50.0604 -4.6319 -50.576 -4.2335 Q-51.0917 -3.835 -51.7323 -3.835 ZM-53.1854 -6.7725 L-50.6854 -6.7725 Q-50.6854 -7.1944 -50.7948 -7.6163 Q-50.9042 -8.0382 -51.1776 -8.3194 Q-51.451 -8.6007 -51.8885 -8.6007 Q-52.5135 -8.6007 -52.8495 -8.0147 Q-53.1854 -7.4288 -53.1854 -6.7725 Z\"\n",
       "      /><path style=\"stroke:none;\" d=\"M-45.5517 -3.9288 L-45.5517 -5.7257 Q-45.5517 -5.8038 -45.4424 -5.8038 L-45.3174 -5.8038 Q-45.2549 -5.8038 -45.2236 -5.7257 Q-44.9267 -4.1319 -43.7392 -4.1319 Q-43.2236 -4.1319 -42.872 -4.3663 Q-42.5205 -4.6007 -42.5205 -5.1007 Q-42.5205 -5.4444 -42.7939 -5.6944 Q-43.0674 -5.9444 -43.4424 -6.0382 L-44.1767 -6.1788 Q-44.5517 -6.2569 -44.8564 -6.4288 Q-45.1611 -6.6007 -45.3564 -6.8741 Q-45.5517 -7.1475 -45.5517 -7.5225 Q-45.5517 -8.0069 -45.2939 -8.3116 Q-45.0361 -8.6163 -44.6299 -8.7569 Q-44.2236 -8.8975 -43.7392 -8.8975 Q-43.1767 -8.8975 -42.7705 -8.585 L-42.4424 -8.8663 Q-42.4424 -8.8975 -42.3955 -8.8975 L-42.3174 -8.8975 Q-42.2861 -8.8975 -42.2549 -8.8663 Q-42.2236 -8.835 -42.2236 -8.8038 L-42.2236 -7.3663 Q-42.2236 -7.2569 -42.3174 -7.2569 L-42.4424 -7.2569 Q-42.5361 -7.2569 -42.5361 -7.3663 Q-42.5361 -7.9288 -42.8564 -8.2804 Q-43.1767 -8.6319 -43.7549 -8.6319 Q-44.2549 -8.6319 -44.6142 -8.4522 Q-44.9736 -8.2725 -44.9736 -7.8194 Q-44.9736 -7.5225 -44.7158 -7.3194 Q-44.458 -7.1163 -44.0986 -7.0382 L-43.3642 -6.8975 Q-42.9892 -6.8194 -42.6611 -6.6085 Q-42.333 -6.3975 -42.1455 -6.0929 Q-41.958 -5.7882 -41.958 -5.3819 Q-41.958 -4.9913 -42.0908 -4.7022 Q-42.2236 -4.4132 -42.4658 -4.2179 Q-42.708 -4.0225 -43.0439 -3.9288 Q-43.3799 -3.835 -43.7392 -3.835 Q-44.4267 -3.835 -44.9267 -4.3038 L-45.333 -3.8663 Q-45.333 -3.835 -45.3799 -3.835 L-45.4424 -3.835 Q-45.5517 -3.835 -45.5517 -3.9288 Z\"\n",
       "      /><path style=\"stroke:none;\" d=\"M-38.8378 -3.835 Q-39.4941 -3.835 -40.041 -4.1788 Q-40.5878 -4.5225 -40.9003 -5.1007 Q-41.2128 -5.6788 -41.2128 -6.335 Q-41.2128 -6.9913 -40.9003 -7.585 Q-40.5878 -8.1788 -40.041 -8.5382 Q-39.4941 -8.8975 -38.8378 -8.8975 Q-38.1816 -8.8975 -37.6582 -8.6397 Q-37.1347 -8.3819 -37.1347 -7.8038 Q-37.1347 -7.6007 -37.2832 -7.4366 Q-37.4316 -7.2725 -37.6503 -7.2725 Q-37.8691 -7.2725 -38.0253 -7.4366 Q-38.1816 -7.6007 -38.1816 -7.8038 Q-38.1816 -8.0069 -38.0566 -8.1475 Q-37.9316 -8.2882 -37.7597 -8.3194 Q-38.1347 -8.5694 -38.8222 -8.5694 Q-39.3535 -8.5694 -39.6738 -8.2179 Q-39.9941 -7.8663 -40.1191 -7.3507 Q-40.2441 -6.835 -40.2441 -6.335 Q-40.2441 -5.8038 -40.0878 -5.3038 Q-39.9316 -4.8038 -39.58 -4.4835 Q-39.2285 -4.1632 -38.6972 -4.1632 Q-38.1816 -4.1632 -37.8144 -4.4835 Q-37.4472 -4.8038 -37.3066 -5.3194 Q-37.3066 -5.3819 -37.2285 -5.3819 L-37.0878 -5.3819 Q-37.0566 -5.3819 -37.0332 -5.3507 Q-37.0097 -5.3194 -37.0097 -5.2882 L-37.0097 -5.2569 Q-37.166 -4.6007 -37.666 -4.2179 Q-38.166 -3.835 -38.8378 -3.835 Z\"\n",
       "      /><path style=\"stroke:none;\" d=\"M-36.2458 -5.0382 Q-36.2458 -5.6944 -35.7302 -6.1085 Q-35.2146 -6.5225 -34.488 -6.6866 Q-33.7615 -6.8507 -33.1208 -6.8507 L-33.1208 -7.3038 Q-33.1208 -7.6163 -33.2615 -7.921 Q-33.4021 -8.2257 -33.6599 -8.4132 Q-33.9177 -8.6007 -34.2458 -8.6007 Q-34.9646 -8.6007 -35.3552 -8.2725 Q-35.1365 -8.2725 -35.0036 -8.1163 Q-34.8708 -7.96 -34.8708 -7.7413 Q-34.8708 -7.5225 -35.0271 -7.3663 Q-35.1833 -7.21 -35.3865 -7.21 Q-35.6208 -7.21 -35.7771 -7.3663 Q-35.9333 -7.5225 -35.9333 -7.7413 Q-35.9333 -8.3194 -35.4021 -8.6085 Q-34.8708 -8.8975 -34.2458 -8.8975 Q-33.7927 -8.8975 -33.3396 -8.7022 Q-32.8865 -8.5069 -32.6052 -8.1554 Q-32.324 -7.8038 -32.324 -7.335 L-32.324 -4.8507 Q-32.324 -4.6319 -32.2302 -4.4522 Q-32.1365 -4.2725 -31.9333 -4.2725 Q-31.7615 -4.2725 -31.6677 -4.46 Q-31.574 -4.6475 -31.574 -4.8507 L-31.574 -5.5538 L-31.2615 -5.5538 L-31.2615 -4.8507 Q-31.2615 -4.6007 -31.3865 -4.3819 Q-31.5115 -4.1632 -31.7302 -4.0304 Q-31.949 -3.8975 -32.199 -3.8975 Q-32.5271 -3.8975 -32.7615 -4.1475 Q-32.9958 -4.3975 -33.0271 -4.7413 Q-33.2302 -4.3194 -33.6208 -4.0772 Q-34.0115 -3.835 -34.4646 -3.835 Q-34.8865 -3.835 -35.2927 -3.96 Q-35.699 -4.085 -35.9724 -4.3507 Q-36.2458 -4.6163 -36.2458 -5.0382 ZM-35.3552 -5.0382 Q-35.3552 -4.6475 -35.0661 -4.3897 Q-34.7771 -4.1319 -34.4021 -4.1319 Q-34.0427 -4.1319 -33.7536 -4.3038 Q-33.4646 -4.4757 -33.2927 -4.7882 Q-33.1208 -5.1007 -33.1208 -5.4288 L-33.1208 -6.5694 Q-33.6208 -6.5694 -34.1443 -6.4054 Q-34.6677 -6.2413 -35.0115 -5.8975 Q-35.3552 -5.5538 -35.3552 -5.0382 Z\"\n",
       "      /><path style=\"stroke:none;\" d=\"M-30.8396 -3.96 L-30.8396 -4.3507 Q-30.4646 -4.3507 -30.2224 -4.4054 Q-29.9802 -4.46 -29.9802 -4.6944 L-29.9802 -10.4757 Q-29.9802 -10.7725 -30.0739 -10.8975 Q-30.1677 -11.0225 -30.3317 -11.0538 Q-30.4958 -11.085 -30.8396 -11.085 L-30.8396 -11.4757 L-29.2146 -11.585 L-29.2146 -4.6944 Q-29.2146 -4.46 -28.9724 -4.4054 Q-28.7302 -4.3507 -28.3552 -4.3507 L-28.3552 -3.96 L-30.8396 -3.96 Z\"\n",
       "      /><path style=\"stroke:none;\" d=\"M-27.784 -3.96 L-27.784 -4.3507 Q-27.409 -4.3507 -27.1668 -4.4054 Q-26.9246 -4.46 -26.9246 -4.6944 L-26.9246 -7.6944 Q-26.9246 -8.1163 -27.0887 -8.2179 Q-27.2527 -8.3194 -27.7371 -8.3194 L-27.7371 -8.71 L-26.159 -8.8194 L-26.159 -4.6944 Q-26.159 -4.46 -25.9481 -4.4054 Q-25.7371 -4.3507 -25.3934 -4.3507 L-25.3934 -3.96 L-27.784 -3.96 ZM-27.3152 -10.71 Q-27.3152 -10.96 -27.1356 -11.1397 Q-26.9559 -11.3194 -26.7215 -11.3194 Q-26.5652 -11.3194 -26.4168 -11.2413 Q-26.2684 -11.1632 -26.1902 -11.0147 Q-26.1121 -10.8663 -26.1121 -10.71 Q-26.1121 -10.4757 -26.2918 -10.296 Q-26.4715 -10.1163 -26.7215 -10.1163 Q-26.9559 -10.1163 -27.1356 -10.296 Q-27.3152 -10.4757 -27.3152 -10.71 Z\"\n",
       "      /><path style=\"stroke:none;\" d=\"M-24.7441 -3.96 L-24.7441 -4.3507 Q-24.3691 -4.3507 -24.1269 -4.4054 Q-23.8847 -4.46 -23.8847 -4.6944 L-23.8847 -7.6944 Q-23.8847 -7.9913 -23.9706 -8.1241 Q-24.0566 -8.2569 -24.2284 -8.2882 Q-24.4003 -8.3194 -24.7441 -8.3194 L-24.7441 -8.71 L-23.1503 -8.8194 L-23.1503 -7.7413 Q-22.9316 -8.2257 -22.4941 -8.5225 Q-22.0566 -8.8194 -21.5566 -8.8194 Q-20.7909 -8.8194 -20.4081 -8.4522 Q-20.0253 -8.085 -20.0253 -7.335 L-20.0253 -4.6944 Q-20.0253 -4.46 -19.7831 -4.4054 Q-19.5409 -4.3507 -19.1659 -4.3507 L-19.1659 -3.96 L-21.6816 -3.96 L-21.6816 -4.3507 Q-21.3066 -4.3507 -21.0644 -4.4054 Q-20.8222 -4.46 -20.8222 -4.6944 L-20.8222 -7.3038 Q-20.8222 -7.8507 -20.9784 -8.1944 Q-21.1347 -8.5382 -21.6191 -8.5382 Q-22.2597 -8.5382 -22.6659 -8.0304 Q-23.0722 -7.5225 -23.0722 -6.8663 L-23.0722 -4.6944 Q-23.0722 -4.46 -22.8378 -4.4054 Q-22.6034 -4.3507 -22.2284 -4.3507 L-22.2284 -3.96 L-24.7441 -3.96 Z\"\n",
       "      /><path style=\"stroke:none;\" d=\"M-18.6486 -3.1007 Q-18.6486 -3.4913 -18.3673 -3.7882 Q-18.0861 -4.085 -17.6954 -4.1944 Q-17.9142 -4.3663 -18.0314 -4.6163 Q-18.1486 -4.8663 -18.1486 -5.1632 Q-18.1486 -5.6788 -17.8204 -6.0694 Q-18.3204 -6.5694 -18.3204 -7.21 Q-18.3204 -7.5538 -18.172 -7.8507 Q-18.0236 -8.1475 -17.7579 -8.3663 Q-17.4923 -8.585 -17.172 -8.7022 Q-16.8517 -8.8194 -16.5236 -8.8194 Q-15.8673 -8.8194 -15.3361 -8.4444 Q-15.1173 -8.6788 -14.8048 -8.8116 Q-14.4923 -8.9444 -14.1642 -8.9444 Q-13.9298 -8.9444 -13.7814 -8.7725 Q-13.6329 -8.6007 -13.6329 -8.3663 Q-13.6329 -8.2413 -13.7345 -8.1397 Q-13.8361 -8.0382 -13.9611 -8.0382 Q-14.1017 -8.0382 -14.2032 -8.1397 Q-14.3048 -8.2413 -14.3048 -8.3663 Q-14.3048 -8.5694 -14.1798 -8.6475 Q-14.7423 -8.6475 -15.1486 -8.2569 Q-14.9611 -8.0694 -14.8361 -7.7804 Q-14.7111 -7.4913 -14.7111 -7.21 Q-14.7111 -6.7413 -14.9689 -6.3663 Q-15.2267 -5.9913 -15.6486 -5.7804 Q-16.0704 -5.5694 -16.5236 -5.5694 Q-17.1173 -5.5694 -17.6173 -5.8975 Q-17.7736 -5.6944 -17.7736 -5.4288 Q-17.7736 -5.1319 -17.5861 -4.9132 Q-17.3986 -4.6944 -17.1017 -4.6944 L-16.1954 -4.6944 Q-15.5392 -4.6944 -15.0157 -4.5772 Q-14.4923 -4.46 -14.1329 -4.1085 Q-13.7736 -3.7569 -13.7736 -3.1007 Q-13.7736 -2.6163 -14.1876 -2.296 Q-14.6017 -1.9757 -15.1642 -1.835 Q-15.7267 -1.6944 -16.2111 -1.6944 Q-16.6954 -1.6944 -17.2657 -1.835 Q-17.8361 -1.9757 -18.2423 -2.296 Q-18.6486 -2.6163 -18.6486 -3.1007 ZM-18.0392 -3.1007 Q-18.0392 -2.7257 -17.7345 -2.4757 Q-17.4298 -2.2257 -17.0079 -2.1085 Q-16.5861 -1.9913 -16.2111 -1.9913 Q-15.8361 -1.9913 -15.4142 -2.1085 Q-14.9923 -2.2257 -14.6954 -2.4757 Q-14.3986 -2.7257 -14.3986 -3.1007 Q-14.3986 -3.6788 -14.922 -3.8429 Q-15.4454 -4.0069 -16.1954 -4.0069 L-17.1017 -4.0069 Q-17.3517 -4.0069 -17.5626 -3.8897 Q-17.7736 -3.7725 -17.9064 -3.5538 Q-18.0392 -3.335 -18.0392 -3.1007 ZM-16.5236 -5.8663 Q-15.5861 -5.8663 -15.5861 -7.21 Q-15.5861 -7.7725 -15.7814 -8.1475 Q-15.9767 -8.5225 -16.5236 -8.5225 Q-17.0548 -8.5225 -17.2501 -8.1475 Q-17.4454 -7.7725 -17.4454 -7.21 Q-17.4454 -6.835 -17.3751 -6.5382 Q-17.3048 -6.2413 -17.1017 -6.0538 Q-16.8986 -5.8663 -16.5236 -5.8663 Z\"\n",
       "      /><path style=\"stroke:none;\" d=\"M-9.3569 -5.0382 Q-9.3569 -5.6944 -8.8412 -6.1085 Q-8.3256 -6.5225 -7.5991 -6.6866 Q-6.8725 -6.8507 -6.2319 -6.8507 L-6.2319 -7.3038 Q-6.2319 -7.6163 -6.3725 -7.921 Q-6.5131 -8.2257 -6.7709 -8.4132 Q-7.0287 -8.6007 -7.3569 -8.6007 Q-8.0756 -8.6007 -8.4662 -8.2725 Q-8.2475 -8.2725 -8.1147 -8.1163 Q-7.9819 -7.96 -7.9819 -7.7413 Q-7.9819 -7.5225 -8.1381 -7.3663 Q-8.2944 -7.21 -8.4975 -7.21 Q-8.7319 -7.21 -8.8881 -7.3663 Q-9.0444 -7.5225 -9.0444 -7.7413 Q-9.0444 -8.3194 -8.5131 -8.6085 Q-7.9819 -8.8975 -7.3569 -8.8975 Q-6.9037 -8.8975 -6.4506 -8.7022 Q-5.9975 -8.5069 -5.7162 -8.1554 Q-5.435 -7.8038 -5.435 -7.335 L-5.435 -4.8507 Q-5.435 -4.6319 -5.3412 -4.4522 Q-5.2475 -4.2725 -5.0444 -4.2725 Q-4.8725 -4.2725 -4.7787 -4.46 Q-4.685 -4.6475 -4.685 -4.8507 L-4.685 -5.5538 L-4.3725 -5.5538 L-4.3725 -4.8507 Q-4.3725 -4.6007 -4.4975 -4.3819 Q-4.6225 -4.1632 -4.8412 -4.0304 Q-5.06 -3.8975 -5.31 -3.8975 Q-5.6381 -3.8975 -5.8725 -4.1475 Q-6.1069 -4.3975 -6.1381 -4.7413 Q-6.3412 -4.3194 -6.7319 -4.0772 Q-7.1225 -3.835 -7.5756 -3.835 Q-7.9975 -3.835 -8.4037 -3.96 Q-8.81 -4.085 -9.0834 -4.3507 Q-9.3569 -4.6163 -9.3569 -5.0382 ZM-8.4662 -5.0382 Q-8.4662 -4.6475 -8.1772 -4.3897 Q-7.8881 -4.1319 -7.5131 -4.1319 Q-7.1537 -4.1319 -6.8647 -4.3038 Q-6.5756 -4.4757 -6.4037 -4.7882 Q-6.2319 -5.1007 -6.2319 -5.4288 L-6.2319 -6.5694 Q-6.7319 -6.5694 -7.2553 -6.4054 Q-7.7787 -6.2413 -8.1225 -5.8975 Q-8.4662 -5.5538 -8.4662 -5.0382 Z\"\n",
       "      /><path style=\"stroke:none;\" d=\"M-3.9662 -3.96 L-3.9662 -4.3507 Q-3.5912 -4.3507 -3.349 -4.4054 Q-3.1069 -4.46 -3.1069 -4.6944 L-3.1069 -7.6944 Q-3.1069 -7.9913 -3.1928 -8.1241 Q-3.2787 -8.2569 -3.4506 -8.2882 Q-3.6225 -8.3194 -3.9662 -8.3194 L-3.9662 -8.71 L-2.3725 -8.8194 L-2.3725 -7.7413 Q-2.1537 -8.2257 -1.7162 -8.5225 Q-1.2787 -8.8194 -0.7787 -8.8194 Q-0.0131 -8.8194 0.3697 -8.4522 Q0.7525 -8.085 0.7525 -7.335 L0.7525 -4.6944 Q0.7525 -4.46 0.9947 -4.4054 Q1.2369 -4.3507 1.6119 -4.3507 L1.6119 -3.96 L-0.9037 -3.96 L-0.9037 -4.3507 Q-0.5287 -4.3507 -0.2865 -4.4054 Q-0.0444 -4.46 -0.0444 -4.6944 L-0.0444 -7.3038 Q-0.0444 -7.8507 -0.2006 -8.1944 Q-0.3569 -8.5382 -0.8412 -8.5382 Q-1.4819 -8.5382 -1.8881 -8.0304 Q-2.2944 -7.5225 -2.2944 -6.8663 L-2.2944 -4.6944 Q-2.2944 -4.46 -2.06 -4.4054 Q-1.8256 -4.3507 -1.4506 -4.3507 L-1.4506 -3.96 L-3.9662 -3.96 Z\"\n",
       "      /><path style=\"stroke:none;\" d=\"M4.5043 -3.835 Q3.848 -3.835 3.3168 -4.1866 Q2.7855 -4.5382 2.4808 -5.1163 Q2.1761 -5.6944 2.1761 -6.335 Q2.1761 -7.0069 2.5043 -7.5772 Q2.8324 -8.1475 3.3871 -8.4835 Q3.9418 -8.8194 4.6136 -8.8194 Q5.0199 -8.8194 5.3793 -8.6475 Q5.7386 -8.4757 6.0043 -8.1788 L6.0043 -10.4757 Q6.0043 -10.7725 5.9183 -10.8975 Q5.8324 -11.0225 5.6683 -11.0538 Q5.5043 -11.085 5.1449 -11.085 L5.1449 -11.4757 L6.7855 -11.585 L6.7855 -4.96 Q6.7855 -4.6632 6.8715 -4.5382 Q6.9574 -4.4132 7.1215 -4.3819 Q7.2855 -4.3507 7.6293 -4.3507 L7.6293 -3.96 L5.973 -3.835 L5.973 -4.5225 Q5.6918 -4.1944 5.3011 -4.0147 Q4.9105 -3.835 4.5043 -3.835 ZM3.3793 -4.9132 Q3.5668 -4.5538 3.8793 -4.3429 Q4.1918 -4.1319 4.5668 -4.1319 Q5.0199 -4.1319 5.4027 -4.3897 Q5.7855 -4.6475 5.973 -5.0694 L5.973 -7.71 Q5.848 -7.9444 5.6527 -8.1397 Q5.4574 -8.335 5.2074 -8.4366 Q4.9574 -8.5382 4.6918 -8.5382 Q4.1136 -8.5382 3.7621 -8.21 Q3.4105 -7.8819 3.2777 -7.3819 Q3.1449 -6.8819 3.1449 -6.3194 Q3.1449 -5.8819 3.184 -5.5538 Q3.223 -5.2257 3.3793 -4.9132 Z\"\n",
       "      /><path style=\"stroke:none;\" d=\"M11.9227 -3.96 L11.9227 -4.3507 Q12.2977 -4.3507 12.5399 -4.4054 Q12.7821 -4.46 12.7821 -4.6944 L12.7821 -7.6944 Q12.7821 -7.9913 12.6961 -8.1241 Q12.6102 -8.2569 12.4383 -8.2882 Q12.2664 -8.3194 11.9227 -8.3194 L11.9227 -8.71 L13.5164 -8.8194 L13.5164 -7.7413 Q13.7352 -8.2257 14.1727 -8.5225 Q14.6102 -8.8194 15.1102 -8.8194 Q16.3758 -8.8194 16.5946 -7.7882 Q16.8133 -8.2569 17.243 -8.5382 Q17.6727 -8.8194 18.1727 -8.8194 Q18.6727 -8.8194 19.0164 -8.6554 Q19.3602 -8.4913 19.5321 -8.1632 Q19.7039 -7.835 19.7039 -7.335 L19.7039 -4.6944 Q19.7039 -4.46 19.9461 -4.4054 Q20.1883 -4.3507 20.5633 -4.3507 L20.5633 -3.96 L18.0477 -3.96 L18.0477 -4.3507 Q18.4227 -4.3507 18.6649 -4.4054 Q18.9071 -4.46 18.9071 -4.6944 L18.9071 -7.3038 Q18.9071 -7.8663 18.7508 -8.2022 Q18.5946 -8.5382 18.1102 -8.5382 Q17.4696 -8.5382 17.0555 -8.0304 Q16.6414 -7.5225 16.6414 -6.8663 L16.6414 -4.6944 Q16.6414 -4.46 16.8836 -4.4054 Q17.1258 -4.3507 17.5008 -4.3507 L17.5008 -3.96 L14.9852 -3.96 L14.9852 -4.3507 Q15.3602 -4.3507 15.6024 -4.4054 Q15.8446 -4.46 15.8446 -4.6944 L15.8446 -7.3038 Q15.8446 -7.8507 15.6883 -8.1944 Q15.5321 -8.5382 15.0477 -8.5382 Q14.4071 -8.5382 14.0008 -8.0304 Q13.5946 -7.5225 13.5946 -6.8663 L13.5946 -4.6944 Q13.5946 -4.46 13.8289 -4.4054 Q14.0633 -4.3507 14.4383 -4.3507 L14.4383 -3.96 L11.9227 -3.96 Z\"\n",
       "      /><path style=\"stroke:none;\" d=\"M21.105 -3.96 L21.105 -4.3507 Q21.48 -4.3507 21.7222 -4.4054 Q21.9644 -4.46 21.9644 -4.6944 L21.9644 -7.6944 Q21.9644 -8.1163 21.8003 -8.2179 Q21.6363 -8.3194 21.1519 -8.3194 L21.1519 -8.71 L22.73 -8.8194 L22.73 -4.6944 Q22.73 -4.46 22.9409 -4.4054 Q23.1519 -4.3507 23.4956 -4.3507 L23.4956 -3.96 L21.105 -3.96 ZM21.5738 -10.71 Q21.5738 -10.96 21.7534 -11.1397 Q21.9331 -11.3194 22.1675 -11.3194 Q22.3238 -11.3194 22.4722 -11.2413 Q22.6206 -11.1632 22.6988 -11.0147 Q22.7769 -10.8663 22.7769 -10.71 Q22.7769 -10.4757 22.5972 -10.296 Q22.4175 -10.1163 22.1675 -10.1163 Q21.9331 -10.1163 21.7534 -10.296 Q21.5738 -10.4757 21.5738 -10.71 Z\"\n",
       "      /><path style=\"stroke:none;\" d=\"M24.0981 -3.96 L24.0981 -4.3507 Q24.4731 -4.3507 24.7153 -4.4054 Q24.9574 -4.46 24.9574 -4.6944 L24.9574 -7.6944 Q24.9574 -7.9913 24.8715 -8.1241 Q24.7856 -8.2569 24.6215 -8.2882 Q24.4574 -8.3194 24.0981 -8.3194 L24.0981 -8.71 L25.6762 -8.8194 L25.6762 -7.7413 Q25.8481 -8.2257 26.1762 -8.5225 Q26.5043 -8.8194 26.9731 -8.8194 Q27.3012 -8.8194 27.559 -8.6241 Q27.8168 -8.4288 27.8168 -8.1163 Q27.8168 -7.9132 27.6762 -7.7647 Q27.5356 -7.6163 27.3168 -7.6163 Q27.1137 -7.6163 26.9731 -7.7647 Q26.8324 -7.9132 26.8324 -8.1163 Q26.8324 -8.4132 27.0356 -8.5382 L26.9731 -8.5382 Q26.5356 -8.5382 26.2543 -8.2179 Q25.9731 -7.8975 25.8481 -7.4132 Q25.7231 -6.9288 25.7231 -6.5069 L25.7231 -4.6944 Q25.7231 -4.3507 26.8012 -4.3507 L26.8012 -3.96 L24.0981 -3.96 Z\"\n",
       "      /><path style=\"stroke:none;\" d=\"M28.4064 -3.96 L28.4064 -4.3507 Q28.7814 -4.3507 29.0236 -4.4054 Q29.2658 -4.46 29.2658 -4.6944 L29.2658 -7.6944 Q29.2658 -7.9913 29.1798 -8.1241 Q29.0939 -8.2569 28.9298 -8.2882 Q28.7658 -8.3194 28.4064 -8.3194 L28.4064 -8.71 L29.9845 -8.8194 L29.9845 -7.7413 Q30.1564 -8.2257 30.4845 -8.5225 Q30.8127 -8.8194 31.2814 -8.8194 Q31.6095 -8.8194 31.8673 -8.6241 Q32.1252 -8.4288 32.1252 -8.1163 Q32.1252 -7.9132 31.9845 -7.7647 Q31.8439 -7.6163 31.6252 -7.6163 Q31.422 -7.6163 31.2814 -7.7647 Q31.1408 -7.9132 31.1408 -8.1163 Q31.1408 -8.4132 31.3439 -8.5382 L31.2814 -8.5382 Q30.8439 -8.5382 30.5627 -8.2179 Q30.2814 -7.8975 30.1564 -7.4132 Q30.0314 -6.9288 30.0314 -6.5069 L30.0314 -4.6944 Q30.0314 -4.3507 31.1095 -4.3507 L31.1095 -3.96 L28.4064 -3.96 Z\"\n",
       "      /><path style=\"stroke:none;\" d=\"M35.1835 -3.835 Q34.5273 -3.835 33.9648 -4.171 Q33.4023 -4.5069 33.0741 -5.0694 Q32.746 -5.6319 32.746 -6.3038 Q32.746 -6.8038 32.9257 -7.2725 Q33.1054 -7.7413 33.4413 -8.1085 Q33.7773 -8.4757 34.2226 -8.6866 Q34.6679 -8.8975 35.1835 -8.8975 Q35.8554 -8.8975 36.4101 -8.5382 Q36.9648 -8.1788 37.2929 -7.5772 Q37.621 -6.9757 37.621 -6.3038 Q37.621 -5.6475 37.2929 -5.0772 Q36.9648 -4.5069 36.4023 -4.171 Q35.8398 -3.835 35.1835 -3.835 ZM35.1835 -4.1632 Q36.0585 -4.1632 36.3554 -4.8038 Q36.6523 -5.4444 36.6523 -6.4288 Q36.6523 -6.9757 36.5976 -7.3429 Q36.5429 -7.71 36.3398 -8.0069 Q36.2148 -8.1788 36.0273 -8.3194 Q35.8398 -8.46 35.621 -8.5304 Q35.4023 -8.6007 35.1835 -8.6007 Q34.8398 -8.6007 34.5273 -8.4444 Q34.2148 -8.2882 34.0116 -8.0069 Q33.8085 -7.6944 33.7538 -7.3194 Q33.6991 -6.9444 33.6991 -6.4288 Q33.6991 -5.8038 33.8085 -5.3116 Q33.9179 -4.8194 34.2382 -4.4913 Q34.5585 -4.1632 35.1835 -4.1632 Z\"\n",
       "      /><path style=\"stroke:none;\" d=\"M38.2148 -3.96 L38.2148 -4.3507 Q38.5898 -4.3507 38.832 -4.4054 Q39.0741 -4.46 39.0741 -4.6944 L39.0741 -7.6944 Q39.0741 -7.9913 38.9882 -8.1241 Q38.9023 -8.2569 38.7382 -8.2882 Q38.5741 -8.3194 38.2148 -8.3194 L38.2148 -8.71 L39.7929 -8.8194 L39.7929 -7.7413 Q39.9648 -8.2257 40.2929 -8.5225 Q40.621 -8.8194 41.0898 -8.8194 Q41.4179 -8.8194 41.6757 -8.6241 Q41.9335 -8.4288 41.9335 -8.1163 Q41.9335 -7.9132 41.7929 -7.7647 Q41.6523 -7.6163 41.4335 -7.6163 Q41.2304 -7.6163 41.0898 -7.7647 Q40.9491 -7.9132 40.9491 -8.1163 Q40.9491 -8.4132 41.1523 -8.5382 L41.0898 -8.5382 Q40.6523 -8.5382 40.371 -8.2179 Q40.0898 -7.8975 39.9648 -7.4132 Q39.8398 -6.9288 39.8398 -6.5069 L39.8398 -4.6944 Q39.8398 -4.3507 40.9179 -4.3507 L40.9179 -3.96 L38.2148 -3.96 Z\"\n",
       "      /><path style=\"stroke:none;\" d=\"M42.5856 -3.96 L42.5856 -4.3507 Q42.9606 -4.3507 43.2028 -4.4054 Q43.445 -4.46 43.445 -4.6944 L43.445 -7.6944 Q43.445 -8.1163 43.2809 -8.2179 Q43.1169 -8.3194 42.6325 -8.3194 L42.6325 -8.71 L44.2106 -8.8194 L44.2106 -4.6944 Q44.2106 -4.46 44.4215 -4.4054 Q44.6325 -4.3507 44.9762 -4.3507 L44.9762 -3.96 L42.5856 -3.96 ZM43.0544 -10.71 Q43.0544 -10.96 43.234 -11.1397 Q43.4137 -11.3194 43.6481 -11.3194 Q43.8044 -11.3194 43.9528 -11.2413 Q44.1012 -11.1632 44.1794 -11.0147 Q44.2575 -10.8663 44.2575 -10.71 Q44.2575 -10.4757 44.0778 -10.296 Q43.8981 -10.1163 43.6481 -10.1163 Q43.4137 -10.1163 43.234 -10.296 Q43.0544 -10.4757 43.0544 -10.71 Z\"\n",
       "      /><path style=\"stroke:none;\" d=\"M45.6255 -3.96 L45.6255 -4.3507 Q46.0005 -4.3507 46.2427 -4.4054 Q46.4849 -4.46 46.4849 -4.6944 L46.4849 -7.6944 Q46.4849 -7.9913 46.399 -8.1241 Q46.313 -8.2569 46.1412 -8.2882 Q45.9693 -8.3194 45.6255 -8.3194 L45.6255 -8.71 L47.2193 -8.8194 L47.2193 -7.7413 Q47.438 -8.2257 47.8755 -8.5225 Q48.313 -8.8194 48.813 -8.8194 Q49.5787 -8.8194 49.9615 -8.4522 Q50.3443 -8.085 50.3443 -7.335 L50.3443 -4.6944 Q50.3443 -4.46 50.5865 -4.4054 Q50.8287 -4.3507 51.2037 -4.3507 L51.2037 -3.96 L48.688 -3.96 L48.688 -4.3507 Q49.063 -4.3507 49.3052 -4.4054 Q49.5474 -4.46 49.5474 -4.6944 L49.5474 -7.3038 Q49.5474 -7.8507 49.3912 -8.1944 Q49.2349 -8.5382 48.7505 -8.5382 Q48.1099 -8.5382 47.7037 -8.0304 Q47.2974 -7.5225 47.2974 -6.8663 L47.2974 -4.6944 Q47.2974 -4.46 47.5318 -4.4054 Q47.7662 -4.3507 48.1412 -4.3507 L48.1412 -3.96 L45.6255 -3.96 Z\"\n",
       "      /><path style=\"stroke:none;\" d=\"M51.7211 -3.1007 Q51.7211 -3.4913 52.0023 -3.7882 Q52.2836 -4.085 52.6742 -4.1944 Q52.4554 -4.3663 52.3382 -4.6163 Q52.2211 -4.8663 52.2211 -5.1632 Q52.2211 -5.6788 52.5492 -6.0694 Q52.0492 -6.5694 52.0492 -7.21 Q52.0492 -7.5538 52.1976 -7.8507 Q52.3461 -8.1475 52.6117 -8.3663 Q52.8773 -8.585 53.1976 -8.7022 Q53.5179 -8.8194 53.8461 -8.8194 Q54.5023 -8.8194 55.0336 -8.4444 Q55.2523 -8.6788 55.5648 -8.8116 Q55.8773 -8.9444 56.2054 -8.9444 Q56.4398 -8.9444 56.5882 -8.7725 Q56.7367 -8.6007 56.7367 -8.3663 Q56.7367 -8.2413 56.6351 -8.1397 Q56.5336 -8.0382 56.4086 -8.0382 Q56.2679 -8.0382 56.1664 -8.1397 Q56.0648 -8.2413 56.0648 -8.3663 Q56.0648 -8.5694 56.1898 -8.6475 Q55.6273 -8.6475 55.2211 -8.2569 Q55.4086 -8.0694 55.5336 -7.7804 Q55.6586 -7.4913 55.6586 -7.21 Q55.6586 -6.7413 55.4007 -6.3663 Q55.1429 -5.9913 54.7211 -5.7804 Q54.2992 -5.5694 53.8461 -5.5694 Q53.2523 -5.5694 52.7523 -5.8975 Q52.5961 -5.6944 52.5961 -5.4288 Q52.5961 -5.1319 52.7836 -4.9132 Q52.9711 -4.6944 53.2679 -4.6944 L54.1742 -4.6944 Q54.8304 -4.6944 55.3539 -4.5772 Q55.8773 -4.46 56.2367 -4.1085 Q56.5961 -3.7569 56.5961 -3.1007 Q56.5961 -2.6163 56.182 -2.296 Q55.7679 -1.9757 55.2054 -1.835 Q54.6429 -1.6944 54.1586 -1.6944 Q53.6742 -1.6944 53.1039 -1.835 Q52.5336 -1.9757 52.1273 -2.296 Q51.7211 -2.6163 51.7211 -3.1007 ZM52.3304 -3.1007 Q52.3304 -2.7257 52.6351 -2.4757 Q52.9398 -2.2257 53.3617 -2.1085 Q53.7836 -1.9913 54.1586 -1.9913 Q54.5336 -1.9913 54.9554 -2.1085 Q55.3773 -2.2257 55.6742 -2.4757 Q55.9711 -2.7257 55.9711 -3.1007 Q55.9711 -3.6788 55.4476 -3.8429 Q54.9242 -4.0069 54.1742 -4.0069 L53.2679 -4.0069 Q53.0179 -4.0069 52.807 -3.8897 Q52.5961 -3.7725 52.4632 -3.5538 Q52.3304 -3.335 52.3304 -3.1007 ZM53.8461 -5.8663 Q54.7836 -5.8663 54.7836 -7.21 Q54.7836 -7.7725 54.5882 -8.1475 Q54.3929 -8.5225 53.8461 -8.5225 Q53.3148 -8.5225 53.1195 -8.1475 Q52.9242 -7.7725 52.9242 -7.21 Q52.9242 -6.835 52.9945 -6.5382 Q53.0648 -6.2413 53.2679 -6.0538 Q53.4711 -5.8663 53.8461 -5.8663 Z\"\n",
       "      /><path style=\"stroke:none;\" d=\"M61.7002 -6.4913 Q61.6065 -6.4913 61.544 -6.5616 Q61.4815 -6.6319 61.4815 -6.71 Q61.4815 -6.7882 61.544 -6.8585 Q61.6065 -6.9288 61.7002 -6.9288 L68.0127 -6.9288 Q68.0909 -6.9288 68.1455 -6.8585 Q68.2002 -6.7882 68.2002 -6.71 Q68.2002 -6.6319 68.1455 -6.5616 Q68.0909 -6.4913 68.0127 -6.4913 L61.7002 -6.4913 Z\"\n",
       "      /><path style=\"stroke:none;\" d=\"M69.6308 -3.96 Q69.5214 -3.96 69.5214 -4.1007 Q69.5683 -4.3507 69.6621 -4.3507 Q70.0996 -4.3507 70.4277 -4.5225 Q70.7558 -4.6944 70.9902 -5.0694 Q71.0058 -5.1007 71.0058 -5.1007 L74.9433 -11.71 Q75.0214 -11.835 75.1464 -11.835 L75.2871 -11.835 Q75.3183 -11.835 75.3496 -11.8194 Q75.3808 -11.8038 75.4121 -11.7725 Q75.4433 -11.7413 75.4433 -11.71 L76.0996 -4.6163 Q76.0996 -4.5694 76.1464 -4.46 Q76.2558 -4.3507 76.9746 -4.3507 Q77.0839 -4.3507 77.0839 -4.1944 Q77.0527 -4.0538 77.0293 -4.0069 Q77.0058 -3.96 76.8964 -3.96 L74.1464 -3.96 Q74.0527 -3.96 74.0527 -4.1007 Q74.0996 -4.3507 74.1933 -4.3507 Q75.0683 -4.3507 75.1152 -4.6475 L74.9433 -6.46 L72.2402 -6.46 L71.3496 -4.9757 Q71.2714 -4.8663 71.2714 -4.71 Q71.2714 -4.5069 71.4589 -4.4288 Q71.6464 -4.3507 71.8652 -4.3507 Q71.9746 -4.3507 71.9746 -4.1944 Q71.9433 -4.0538 71.9199 -4.0069 Q71.8964 -3.96 71.8027 -3.96 L69.6308 -3.96 ZM72.4433 -6.8507 L74.9121 -6.8507 L74.5839 -10.4132 L72.4433 -6.8507 Z\"\n",
       "      /><path style=\"stroke:none;\" d=\"M78.5527 -5.1632 Q78.5527 -5.5225 78.6465 -5.8975 Q78.7402 -6.2725 78.9121 -6.7413 Q79.084 -7.21 79.2246 -7.5538 Q79.3652 -7.9444 79.3652 -8.21 Q79.3652 -8.5382 79.1152 -8.5382 Q78.6933 -8.5382 78.4043 -8.085 Q78.1152 -7.6319 77.9902 -7.085 Q77.959 -7.0225 77.8965 -7.0225 L77.7715 -7.0225 Q77.6777 -7.0225 77.6777 -7.1163 L77.6777 -7.1475 Q77.8496 -7.8038 78.2168 -8.3116 Q78.584 -8.8194 79.1465 -8.8194 Q79.5371 -8.8194 79.8105 -8.5616 Q80.084 -8.3038 80.084 -7.9132 Q80.084 -7.71 79.9902 -7.4757 Q79.9433 -7.3507 79.7715 -6.8975 Q79.5996 -6.4444 79.5058 -6.1475 Q79.4121 -5.8507 79.3496 -5.5694 Q79.2871 -5.2882 79.2871 -4.9913 Q79.2871 -4.6319 79.4433 -4.3819 Q79.5996 -4.1319 79.959 -4.1319 Q80.6621 -4.1319 81.1933 -4.9913 Q81.1933 -5.0382 81.2011 -5.0772 Q81.209 -5.1163 81.2246 -5.1632 L82.0058 -8.3507 Q82.0527 -8.4913 82.1855 -8.6007 Q82.3183 -8.71 82.4746 -8.71 Q82.5996 -8.71 82.7011 -8.6241 Q82.8027 -8.5382 82.8027 -8.3975 Q82.8027 -8.3194 82.8027 -8.3038 L82.0058 -5.1319 Q81.9277 -4.8038 81.9277 -4.6007 Q81.9277 -4.1319 82.2402 -4.1319 Q82.5996 -4.1319 82.7715 -4.5694 Q82.9433 -5.0069 83.0683 -5.5694 Q83.084 -5.6475 83.1621 -5.6475 L83.2871 -5.6475 Q83.334 -5.6475 83.3574 -5.6085 Q83.3808 -5.5694 83.3808 -5.5382 Q83.2715 -5.0538 83.1621 -4.7179 Q83.0527 -4.3819 82.8105 -4.1085 Q82.5683 -3.835 82.2246 -3.835 Q81.8652 -3.835 81.5918 -4.0304 Q81.3183 -4.2257 81.2246 -4.5382 Q80.9746 -4.2257 80.6386 -4.0304 Q80.3027 -3.835 79.9277 -3.835 Q79.3027 -3.835 78.9277 -4.1788 Q78.5527 -4.5225 78.5527 -5.1632 Z\"\n",
       "      /><path style=\"stroke:none;\" d=\"M85.6779 -2.1382 Q84.6935 -2.1382 84.3419 -2.9429 Q83.9904 -3.7476 83.9904 -4.8569 Q83.9904 -5.5601 84.1154 -6.1694 Q84.2404 -6.7788 84.6232 -7.2085 Q85.006 -7.6382 85.6779 -7.6382 Q86.2091 -7.6382 86.5451 -7.3804 Q86.881 -7.1226 87.0529 -6.7163 Q87.2247 -6.3101 87.2951 -5.8413 Q87.3654 -5.3726 87.3654 -4.8569 Q87.3654 -4.1694 87.2326 -3.5757 Q87.0997 -2.9819 86.7326 -2.5601 Q86.3654 -2.1382 85.6779 -2.1382 ZM85.6779 -2.3413 Q86.131 -2.3413 86.3497 -2.8022 Q86.5685 -3.2632 86.6154 -3.8179 Q86.6622 -4.3726 86.6622 -4.9976 Q86.6622 -5.5913 86.6154 -6.0991 Q86.5685 -6.6069 86.3497 -7.021 Q86.131 -7.4351 85.6779 -7.4351 Q85.2247 -7.4351 85.006 -7.021 Q84.7872 -6.6069 84.7404 -6.0991 Q84.6935 -5.5913 84.6935 -4.9976 Q84.6935 -4.5444 84.7091 -4.1538 Q84.7247 -3.7632 84.8185 -3.3413 Q84.9122 -2.9194 85.1232 -2.6304 Q85.3341 -2.3413 85.6779 -2.3413 Z\"\n",
       "      /><path style=\"stroke:none;\" d=\"M91.4841 -1.2257 Q90.8747 -1.71 90.4294 -2.335 Q89.9841 -2.96 89.7029 -3.671 Q89.4216 -4.3819 89.281 -5.1554 Q89.1404 -5.9288 89.1404 -6.71 Q89.1404 -7.5069 89.281 -8.2804 Q89.4216 -9.0538 89.7107 -9.7647 Q89.9997 -10.4757 90.4451 -11.1007 Q90.8904 -11.7257 91.4841 -12.1944 Q91.4841 -12.21 91.5466 -12.21 L91.6404 -12.21 Q91.6716 -12.21 91.7029 -12.1788 Q91.7341 -12.1475 91.7341 -12.1163 Q91.7341 -12.0694 91.7029 -12.0382 Q91.1716 -11.5225 90.8122 -10.921 Q90.4529 -10.3194 90.2341 -9.6397 Q90.0154 -8.96 89.9216 -8.2335 Q89.8279 -7.5069 89.8279 -6.71 Q89.8279 -3.21 91.7029 -1.3975 Q91.7341 -1.3663 91.7341 -1.3038 Q91.7341 -1.2725 91.7029 -1.2413 Q91.6716 -1.21 91.6404 -1.21 L91.5466 -1.21 Q91.4841 -1.21 91.4841 -1.2257 Z\"\n",
       "      /><path style=\"stroke:none;\" d=\"M93.0432 -4.8507 Q93.0432 -5.0069 93.0744 -5.1632 L93.8713 -8.3194 L92.715 -8.3194 Q92.59 -8.3194 92.59 -8.46 Q92.6369 -8.71 92.7463 -8.71 L93.965 -8.71 L94.4025 -10.4913 Q94.4494 -10.6475 94.5744 -10.7491 Q94.6994 -10.8507 94.8713 -10.8507 Q94.9963 -10.8507 95.0978 -10.7647 Q95.1994 -10.6788 95.1994 -10.5382 Q95.1994 -10.5069 95.1916 -10.4913 Q95.1838 -10.4757 95.1838 -10.4444 L94.7463 -8.71 L95.8713 -8.71 Q95.9807 -8.71 95.9807 -8.5538 Q95.9807 -8.5382 95.965 -8.4679 Q95.9494 -8.3975 95.926 -8.3585 Q95.9025 -8.3194 95.84 -8.3194 L94.6369 -8.3194 L93.8557 -5.1319 Q93.7775 -4.8194 93.7775 -4.6007 Q93.7775 -4.1319 94.09 -4.1319 Q94.5744 -4.1319 94.9494 -4.585 Q95.3244 -5.0382 95.5275 -5.5694 Q95.5744 -5.6475 95.6057 -5.6475 L95.7463 -5.6475 Q95.7932 -5.6475 95.8166 -5.6163 Q95.84 -5.585 95.84 -5.5382 Q95.84 -5.5225 95.8244 -5.5069 Q95.59 -4.8507 95.1291 -4.3429 Q94.6682 -3.835 94.0744 -3.835 Q93.6369 -3.835 93.34 -4.1241 Q93.0432 -4.4132 93.0432 -4.8507 Z\"\n",
       "      /><path style=\"stroke:none;\" d=\"M97.0466 -1.21 Q96.9529 -1.21 96.9529 -1.3038 Q96.9529 -1.3507 96.9685 -1.3819 Q98.8435 -3.21 98.8435 -6.71 Q98.8435 -10.21 96.9841 -12.0225 Q96.9529 -12.0538 96.9529 -12.1163 Q96.9529 -12.1475 96.9763 -12.1788 Q96.9998 -12.21 97.0466 -12.21 L97.1404 -12.21 Q97.1716 -12.21 97.2029 -12.1944 Q97.9841 -11.5694 98.5154 -10.6788 Q99.0466 -9.7882 99.2888 -8.7725 Q99.531 -7.7569 99.531 -6.71 Q99.531 -5.9288 99.3982 -5.1788 Q99.2654 -4.4288 98.9763 -3.6944 Q98.6873 -2.96 98.2498 -2.335 Q97.8123 -1.71 97.2029 -1.2257 Q97.1716 -1.21 97.1404 -1.21 L97.0466 -1.21 Z\"\n",
       "    /></g\n",
       "    ><g style=\"stroke-linecap:butt; fill:rgb(0,114,189); text-rendering:geometricPrecision; image-rendering:optimizeQuality; color-rendering:optimizeQuality; stroke-linejoin:round; stroke:rgb(0,114,189); color-interpolation:linearRGB; stroke-width:0.5;\"\n",
       "    ><path d=\"M73 65.75 L74.0023 65.75 L75.0046 65.75 L76.0069 65.75 L77.0092 65.75 L78.0116 65.75 L79.0138 65.75 L80.0162 65.75 L81.0185 65.75 L82.0208 65.75 L83.0231 65.75 L84.0254 65.75 L85.0277 65.75 L86.03 65.75 L87.0323 65.75 L88.0346 65.75 L89.037 65.75 L90.0393 65.75 L91.0416 65.75 L92.0439 65.75 L93.0462 65.75 L94.0485 65.75 L95.0508 65.75 L96.0531 65.75 L97.0554 65.75 L98.0577 65.75 L99.0601 65.75 L100.0624 65.75 L101.0647 65.75 L102.067 65.75 L103.0693 65.75 L104.0716 65.75 L105.0739 65.75 L106.0762 65.75 L107.0785 65.75 L108.0808 65.75 L109.0831 65.75 L110.0854 65.75 L111.0878 65.75 L112.0901 65.75 L113.0924 65.75 L114.0947 65.75 L115.097 65.75 L116.0993 65.75 L117.1016 65.75 L118.1039 65.75 L119.1062 65.75 L120.1085 65.75 L121.1109 65.75 L122.1132 65.75 L123.1155 65.75 L124.1178 65.75 L125.1201 65.75 L126.1224 65.75 L127.1247 65.75 L128.127 65.75 L129.1293 65.75 L130.1316 65.75 L131.1339 65.75 L132.1363 65.75 L133.1386 65.75 L134.1409 65.75 L135.1432 65.75 L136.1455 65.75 L137.1478 65.75 L138.1501 65.75 L139.1524 65.75 L140.1547 65.75 L141.157 65.75 L142.1593 65.75 L143.1617 65.75 L144.164 65.75 L145.1663 65.75 L146.1686 65.75 L147.1709 65.75 L148.1732 65.75 L149.1755 65.75 L150.1778 65.75 L151.1801 65.75 L152.1824 65.75 L153.1848 65.75 L154.1871 65.75 L155.1894 65.75 L156.1917 65.75 L157.194 65.75 L158.1963 65.75 L159.1986 65.75 L160.2009 65.75 L161.2032 65.75 L162.2055 65.75 L163.2079 65.75 L164.2102 65.75 L165.2125 65.75 L166.2148 65.75 L167.2171 65.75 L168.2194 65.75 L169.2217 65.75 L170.224 65.75 L171.2263 65.75 L172.2286 65.75 L173.2309 65.75 L174.2332 65.75 L175.2356 65.75 L176.2379 65.75 L177.2402 65.75 L178.2425 65.75 L179.2448 65.75 L180.2471 65.75 L181.2494 65.75 L182.2517 65.75 L183.254 65.75 L184.2563 65.75 L185.2587 65.75 L186.261 65.75 L187.2633 65.75 L188.2656 65.75 L189.2679 65.75 L190.2702 65.75 L191.2725 65.75 L192.2748 65.75 L193.2771 65.75 L194.2794 65.75 L195.2818 65.75 L196.2841 65.75 L197.2864 65.75 L198.2887 65.75 L199.291 65.75 L200.2933 65.75 L201.2956 65.75 L202.2979 65.75 L203.3002 65.75 L204.3025 65.75 L205.3048 65.75 L206.3072 65.75 L207.3095 65.75 L208.3118 65.75 L209.3141 65.75 L210.3164 65.75 L211.3187 65.75 L212.321 65.75 L213.3233 65.75 L214.3256 65.75 L215.3279 65.75 L216.3303 65.75 L217.3326 65.75 L218.3349 65.75 L219.3372 65.75 L220.3395 65.75 L221.3418 65.75 L222.3441 65.75 L223.3464 65.75 L224.3487 65.75 L225.351 65.75 L226.3533 65.75 L227.3557 65.75 L228.358 65.75 L229.3603 65.75 L230.3626 65.75 L231.3649 65.75 L232.3672 65.75 L233.3695 65.75 L234.3718 65.75 L235.3741 65.75 L236.3764 65.75 L237.3788 65.75 L238.3811 65.75 L239.3834 65.75 L240.3857 65.75 L241.388 65.75 L242.3903 65.75 L243.3926 65.75 L244.3949 65.75 L245.3972 65.75 L246.3995 65.75 L247.4019 65.75 L248.4042 65.75 L249.4065 65.75 L250.4088 65.75 L251.4111 65.75 L252.4134 65.75 L253.4157 65.75 L254.418 65.75 L255.4203 65.75 L256.4226 65.75 L257.4249 65.75 L258.4272 65.75 L259.4296 65.75 L260.4319 65.75 L261.4342 65.75 L262.4365 65.75 L263.4388 65.75 L264.4411 65.75 L265.4434 65.75 L266.4457 65.75 L267.448 65.75 L268.4503 65.75 L269.4527 65.75 L270.455 65.75 L271.4573 65.75 L272.4596 65.75 L273.4619 65.75 L274.4642 65.75 L275.4665 65.75 L276.4688 65.75 L277.4711 65.75 L278.4734 65.75 L279.4757 65.75 L280.4781 65.75 L281.4804 65.75 L282.4827 65.75 L283.485 65.75 L284.4873 65.75 L285.4896 65.75 L286.4919 65.75 L287.4942 65.75 L288.4965 65.75 L289.4988 65.75 L290.5012 339.75 L291.5035 339.75 L292.5058 339.75 L293.5081 339.75 L294.5104 339.75 L295.5127 339.75 L296.515 339.75 L297.5173 339.75 L298.5196 339.75 L299.5219 339.75 L300.5243 339.75 L301.5266 339.75 L302.5289 339.75 L303.5312 339.75 L304.5335 339.75 L305.5358 339.75 L306.5381 339.75 L307.5404 339.75 L308.5427 339.75 L309.545 339.75 L310.5473 339.75 L311.5497 339.75 L312.552 339.75 L313.5543 339.75 L314.5566 339.75 L315.5589 339.75 L316.5612 339.75 L317.5635 339.75 L318.5658 339.75 L319.5681 339.75 L320.5704 339.75 L321.5728 339.75 L322.5751 339.75 L323.5774 339.75 L324.5797 339.75 L325.582 339.75 L326.5843 339.75 L327.5866 339.75 L328.5889 339.75 L329.5912 339.75 L330.5935 339.75 L331.5959 339.75 L332.5981 339.75 L333.6005 339.75 L334.6028 339.75 L335.6051 339.75 L336.6074 339.75 L337.6097 339.75 L338.612 339.75 L339.6143 339.75 L340.6166 339.75 L341.6189 339.75 L342.6212 339.75 L343.6236 339.75 L344.6259 339.75 L345.6282 339.75 L346.6305 339.75 L347.6328 339.75 L348.6351 339.75 L349.6374 339.75 L350.6397 339.75 L351.642 339.75 L352.6443 339.75 L353.6466 339.75 L354.649 339.75 L355.6513 339.75 L356.6536 339.75 L357.6559 339.75 L358.6582 339.75 L359.6605 339.75 L360.6628 339.75 L361.6651 339.75 L362.6674 339.75 L363.6697 339.75 L364.6721 339.75 L365.6744 339.75 L366.6767 339.75 L367.679 339.75 L368.6813 339.75 L369.6836 339.75 L370.6859 339.75 L371.6882 339.75 L372.6905 339.75 L373.6928 339.75 L374.6952 339.75 L375.6974 339.75 L376.6998 339.75 L377.7021 339.75 L378.7044 339.75 L379.7067 339.75 L380.709 339.75 L381.7113 339.75 L382.7136 339.75 L383.7159 339.75 L384.7182 339.75 L385.7206 339.75 L386.7229 339.75 L387.7252 339.75 L388.7275 339.75 L389.7298 339.75 L390.7321 339.75 L391.7344 339.75 L392.7367 339.75 L393.739 339.75 L394.7413 339.75 L395.7437 339.75 L396.746 339.75 L397.7483 339.75 L398.7506 339.75 L399.7529 339.75 L400.7552 339.75 L401.7575 339.75 L402.7598 339.75 L403.7621 339.75 L404.7644 339.75 L405.7668 339.75 L406.7691 339.75 L407.7714 339.75 L408.7737 339.75 L409.776 339.75 L410.7783 339.75 L411.7806 339.75 L412.7829 339.75 L413.7852 339.75 L414.7875 339.75 L415.7899 339.75 L416.7921 339.75 L417.7945 339.75 L418.7968 339.75 L419.7991 339.75 L420.8014 339.75 L421.8037 339.75 L422.806 339.75 L423.8083 339.75 L424.8106 339.75 L425.8129 339.75 L426.8152 339.75 L427.8176 339.75 L428.8199 339.75 L429.8222 339.75 L430.8245 339.75 L431.8268 339.75 L432.8291 339.75 L433.8314 339.75 L434.8337 339.75 L435.836 339.75 L436.8383 339.75 L437.8406 339.75 L438.843 339.75 L439.8453 339.75 L440.8476 339.75 L441.8499 339.75 L442.8522 339.75 L443.8545 339.75 L444.8568 339.75 L445.8591 339.75 L446.8614 339.75 L447.8637 339.75 L448.8661 339.75 L449.8683 339.75 L450.8707 339.75 L451.873 339.75 L452.8753 339.75 L453.8776 339.75 L454.8799 339.75 L455.8822 339.75 L456.8845 339.75 L457.8868 339.75 L458.8891 339.75 L459.8914 339.75 L460.8938 339.75 L461.8961 339.75 L462.8984 339.75 L463.9007 339.75 L464.903 339.75 L465.9053 339.75 L466.9076 339.75 L467.9099 339.75 L468.9122 339.75 L469.9146 339.75 L470.9169 339.75 L471.9192 339.75 L472.9215 339.75 L473.9238 339.75 L474.9261 339.75 L475.9284 339.75 L476.9307 339.75 L477.933 339.75 L478.9353 339.75 L479.9377 339.75 L480.9399 339.75 L481.9423 339.75 L482.9446 339.75 L483.9469 339.75 L484.9492 339.75 L485.9515 339.75 L486.9538 339.75 L487.9561 339.75 L488.9584 339.75 L489.9607 339.75 L490.963 339.75 L491.9654 339.75 L492.9677 339.75 L493.97 339.75 L494.9723 339.75 L495.9746 339.75 L496.9769 339.75 L497.9792 339.75 L498.9815 339.75 L499.9838 339.75 L500.9861 339.75 L501.9884 339.75 L502.9908 339.75 L503.9931 339.75 L504.9954 339.75 L505.9977 339.75 L507 339.75\" style=\"fill:none; fill-rule:evenodd;\"\n",
       "    /></g\n",
       "  ></g\n",
       "></svg\n",
       ">\n"
      ]
     },
     "metadata": {
      "filenames": {
       "image/svg+xml": "/Users/eechris/code/src/github.com/cpjobling/eg-247-textbook/_build/jupyter_execute/elementary_signals/index_15_0.svg"
      }
     },
     "output_type": "display_data"
    }
   ],
   "source": [
    "ezplot(-A*u0(t),[-1,1]),grid,title('Amplitude scaling and mirroring $$-Au_0(t)$$','interpreter','latex')"
   ]
  },
  {
   "cell_type": "markdown",
   "id": "b35f6f01",
   "metadata": {
    "slideshow": {
     "slide_type": "notes"
    }
   },
   "source": [
    "Note that, because of the sign, the signal is mirrored about the $x$ axis as well as being scaled by 2."
   ]
  },
  {
   "cell_type": "markdown",
   "id": "2b3acaf3",
   "metadata": {
    "slideshow": {
     "slide_type": "subslide"
    }
   },
   "source": [
    "### Time Reversal\n",
    "\n",
    "Sketch $u_0(-t)$"
   ]
  },
  {
   "cell_type": "code",
   "execution_count": 5,
   "id": "2fdedaa1",
   "metadata": {
    "slideshow": {
     "slide_type": "subslide"
    }
   },
   "outputs": [
    {
     "data": {
      "image/svg+xml": [
       "<?xml version=\"1.0\"?>\n",
       "<!DOCTYPE svg PUBLIC '-//W3C//DTD SVG 1.0//EN'\n",
       "          'http://www.w3.org/TR/2001/REC-SVG-20010904/DTD/svg10.dtd'>\n",
       "<svg xmlns:xlink=\"http://www.w3.org/1999/xlink\" style=\"fill-opacity:1; color-rendering:auto; color-interpolation:auto; text-rendering:auto; stroke:black; stroke-linecap:square; stroke-miterlimit:10; shape-rendering:auto; stroke-opacity:1; fill:black; stroke-dasharray:none; font-weight:normal; stroke-width:1; font-family:'Dialog'; font-style:normal; stroke-linejoin:miter; font-size:12px; stroke-dashoffset:0; image-rendering:auto;\" width=\"560\" height=\"420\" xmlns=\"http://www.w3.org/2000/svg\"\n",
       "><!--Generated by the Batik Graphics2D SVG Generator--><defs id=\"genericDefs\"\n",
       "  /><g\n",
       "  ><defs id=\"defs1\"\n",
       "    ><clipPath clipPathUnits=\"userSpaceOnUse\" id=\"clipPath1\"\n",
       "      ><path d=\"M0 0 L560 0 L560 420 L0 420 L0 0 Z\"\n",
       "      /></clipPath\n",
       "    ></defs\n",
       "    ><g style=\"fill:white; stroke:white;\"\n",
       "    ><rect x=\"0\" y=\"0\" width=\"560\" style=\"clip-path:url(#clipPath1); stroke:none;\" height=\"420\"\n",
       "    /></g\n",
       "    ><g style=\"fill:white; text-rendering:optimizeSpeed; color-rendering:optimizeSpeed; image-rendering:optimizeSpeed; shape-rendering:crispEdges; stroke:white; color-interpolation:sRGB;\"\n",
       "    ><rect x=\"0\" width=\"560\" height=\"420\" y=\"0\" style=\"stroke:none;\"\n",
       "      /><path style=\"stroke:none;\" d=\"M73 374 L507 374 L507 31.5 L73 31.5 Z\"\n",
       "    /></g\n",
       "    ><g style=\"stroke-linecap:butt; fill-opacity:0.149; fill:rgb(38,38,38); text-rendering:geometricPrecision; image-rendering:optimizeQuality; color-rendering:optimizeQuality; stroke-linejoin:round; stroke:rgb(38,38,38); color-interpolation:linearRGB; stroke-width:0.5; stroke-opacity:0.149;\"\n",
       "    ><line y2=\"31.5\" style=\"fill:none;\" x1=\"73\" x2=\"73\" y1=\"374\"\n",
       "      /><line y2=\"31.5\" style=\"fill:none;\" x1=\"116.4\" x2=\"116.4\" y1=\"374\"\n",
       "      /><line y2=\"31.5\" style=\"fill:none;\" x1=\"159.8\" x2=\"159.8\" y1=\"374\"\n",
       "      /><line y2=\"31.5\" style=\"fill:none;\" x1=\"203.2\" x2=\"203.2\" y1=\"374\"\n",
       "      /><line y2=\"31.5\" style=\"fill:none;\" x1=\"246.6\" x2=\"246.6\" y1=\"374\"\n",
       "      /><line y2=\"31.5\" style=\"fill:none;\" x1=\"290\" x2=\"290\" y1=\"374\"\n",
       "      /><line y2=\"31.5\" style=\"fill:none;\" x1=\"333.4\" x2=\"333.4\" y1=\"374\"\n",
       "      /><line y2=\"31.5\" style=\"fill:none;\" x1=\"376.8\" x2=\"376.8\" y1=\"374\"\n",
       "      /><line y2=\"31.5\" style=\"fill:none;\" x1=\"420.2\" x2=\"420.2\" y1=\"374\"\n",
       "      /><line y2=\"31.5\" style=\"fill:none;\" x1=\"463.6\" x2=\"463.6\" y1=\"374\"\n",
       "      /><line y2=\"31.5\" style=\"fill:none;\" x1=\"507\" x2=\"507\" y1=\"374\"\n",
       "      /><line y2=\"339.75\" style=\"fill:none;\" x1=\"507\" x2=\"73\" y1=\"339.75\"\n",
       "      /><line y2=\"271.25\" style=\"fill:none;\" x1=\"507\" x2=\"73\" y1=\"271.25\"\n",
       "      /><line y2=\"202.75\" style=\"fill:none;\" x1=\"507\" x2=\"73\" y1=\"202.75\"\n",
       "      /><line y2=\"134.25\" style=\"fill:none;\" x1=\"507\" x2=\"73\" y1=\"134.25\"\n",
       "      /><line y2=\"65.75\" style=\"fill:none;\" x1=\"507\" x2=\"73\" y1=\"65.75\"\n",
       "      /><line x1=\"73\" x2=\"507\" y1=\"374\" style=\"stroke-linecap:square; fill-opacity:1; fill:none; stroke-opacity:1;\" y2=\"374\"\n",
       "      /><line x1=\"73\" x2=\"507\" y1=\"31.5\" style=\"stroke-linecap:square; fill-opacity:1; fill:none; stroke-opacity:1;\" y2=\"31.5\"\n",
       "      /><line x1=\"73\" x2=\"73\" y1=\"374\" style=\"stroke-linecap:square; fill-opacity:1; fill:none; stroke-opacity:1;\" y2=\"369.66\"\n",
       "      /><line x1=\"116.4\" x2=\"116.4\" y1=\"374\" style=\"stroke-linecap:square; fill-opacity:1; fill:none; stroke-opacity:1;\" y2=\"369.66\"\n",
       "      /><line x1=\"159.8\" x2=\"159.8\" y1=\"374\" style=\"stroke-linecap:square; fill-opacity:1; fill:none; stroke-opacity:1;\" y2=\"369.66\"\n",
       "      /><line x1=\"203.2\" x2=\"203.2\" y1=\"374\" style=\"stroke-linecap:square; fill-opacity:1; fill:none; stroke-opacity:1;\" y2=\"369.66\"\n",
       "      /><line x1=\"246.6\" x2=\"246.6\" y1=\"374\" style=\"stroke-linecap:square; fill-opacity:1; fill:none; stroke-opacity:1;\" y2=\"369.66\"\n",
       "      /><line x1=\"290\" x2=\"290\" y1=\"374\" style=\"stroke-linecap:square; fill-opacity:1; fill:none; stroke-opacity:1;\" y2=\"369.66\"\n",
       "      /><line x1=\"333.4\" x2=\"333.4\" y1=\"374\" style=\"stroke-linecap:square; fill-opacity:1; fill:none; stroke-opacity:1;\" y2=\"369.66\"\n",
       "      /><line x1=\"376.8\" x2=\"376.8\" y1=\"374\" style=\"stroke-linecap:square; fill-opacity:1; fill:none; stroke-opacity:1;\" y2=\"369.66\"\n",
       "      /><line x1=\"420.2\" x2=\"420.2\" y1=\"374\" style=\"stroke-linecap:square; fill-opacity:1; fill:none; stroke-opacity:1;\" y2=\"369.66\"\n",
       "      /><line x1=\"463.6\" x2=\"463.6\" y1=\"374\" style=\"stroke-linecap:square; fill-opacity:1; fill:none; stroke-opacity:1;\" y2=\"369.66\"\n",
       "      /><line x1=\"507\" x2=\"507\" y1=\"374\" style=\"stroke-linecap:square; fill-opacity:1; fill:none; stroke-opacity:1;\" y2=\"369.66\"\n",
       "      /><line x1=\"73\" x2=\"73\" y1=\"31.5\" style=\"stroke-linecap:square; fill-opacity:1; fill:none; stroke-opacity:1;\" y2=\"35.84\"\n",
       "      /><line x1=\"116.4\" x2=\"116.4\" y1=\"31.5\" style=\"stroke-linecap:square; fill-opacity:1; fill:none; stroke-opacity:1;\" y2=\"35.84\"\n",
       "      /><line x1=\"159.8\" x2=\"159.8\" y1=\"31.5\" style=\"stroke-linecap:square; fill-opacity:1; fill:none; stroke-opacity:1;\" y2=\"35.84\"\n",
       "      /><line x1=\"203.2\" x2=\"203.2\" y1=\"31.5\" style=\"stroke-linecap:square; fill-opacity:1; fill:none; stroke-opacity:1;\" y2=\"35.84\"\n",
       "      /><line x1=\"246.6\" x2=\"246.6\" y1=\"31.5\" style=\"stroke-linecap:square; fill-opacity:1; fill:none; stroke-opacity:1;\" y2=\"35.84\"\n",
       "      /><line x1=\"290\" x2=\"290\" y1=\"31.5\" style=\"stroke-linecap:square; fill-opacity:1; fill:none; stroke-opacity:1;\" y2=\"35.84\"\n",
       "      /><line x1=\"333.4\" x2=\"333.4\" y1=\"31.5\" style=\"stroke-linecap:square; fill-opacity:1; fill:none; stroke-opacity:1;\" y2=\"35.84\"\n",
       "      /><line x1=\"376.8\" x2=\"376.8\" y1=\"31.5\" style=\"stroke-linecap:square; fill-opacity:1; fill:none; stroke-opacity:1;\" y2=\"35.84\"\n",
       "      /><line x1=\"420.2\" x2=\"420.2\" y1=\"31.5\" style=\"stroke-linecap:square; fill-opacity:1; fill:none; stroke-opacity:1;\" y2=\"35.84\"\n",
       "      /><line x1=\"463.6\" x2=\"463.6\" y1=\"31.5\" style=\"stroke-linecap:square; fill-opacity:1; fill:none; stroke-opacity:1;\" y2=\"35.84\"\n",
       "      /><line x1=\"507\" x2=\"507\" y1=\"31.5\" style=\"stroke-linecap:square; fill-opacity:1; fill:none; stroke-opacity:1;\" y2=\"35.84\"\n",
       "    /></g\n",
       "    ><g transform=\"translate(73,378)\" style=\"font-size:10px; fill:rgb(38,38,38); text-rendering:geometricPrecision; image-rendering:optimizeQuality; color-rendering:optimizeQuality; font-family:'Helvetica Neue'; stroke:rgb(38,38,38); color-interpolation:linearRGB;\"\n",
       "    ><path style=\"stroke:none;\" d=\"M-4.5 6.82 L-4.5 7.62 L-1.61 7.62 L-1.61 6.82 ZM2.45 10 L2.45 2.91 L1.8 2.91 Q1.73 3.31 1.54 3.57 Q1.35 3.83 1.075 3.98 Q0.8 4.13 0.46 4.185 Q0.12 4.24 -0.24 4.24 L-0.24 4.92 L1.6 4.92 L1.6 10 Z\"\n",
       "    /></g\n",
       "    ><g transform=\"translate(116.4,378)\" style=\"font-size:10px; fill:rgb(38,38,38); text-rendering:geometricPrecision; image-rendering:optimizeQuality; color-rendering:optimizeQuality; font-family:'Helvetica Neue'; stroke:rgb(38,38,38); color-interpolation:linearRGB;\"\n",
       "    ><path style=\"stroke:none;\" d=\"M-8.5 6.82 L-8.5 7.62 L-5.61 7.62 L-5.61 6.82 ZM-3.79 6.51 Q-3.79 6.25 -3.785 5.935 Q-3.78 5.62 -3.735 5.305 Q-3.69 4.99 -3.605 4.69 Q-3.52 4.39 -3.355 4.165 Q-3.19 3.94 -2.94 3.8 Q-2.69 3.66 -2.33 3.66 Q-1.97 3.66 -1.72 3.8 Q-1.47 3.94 -1.305 4.165 Q-1.14 4.39 -1.055 4.69 Q-0.97 4.99 -0.925 5.305 Q-0.88 5.62 -0.875 5.935 Q-0.87 6.25 -0.87 6.51 Q-0.87 6.91 -0.895 7.405 Q-0.92 7.9 -1.055 8.335 Q-1.19 8.77 -1.49 9.07 Q-1.79 9.37 -2.33 9.37 Q-2.87 9.37 -3.17 9.07 Q-3.47 8.77 -3.605 8.335 Q-3.74 7.9 -3.765 7.405 Q-3.79 6.91 -3.79 6.51 ZM-4.69 6.52 Q-4.69 6.91 -4.67 7.33 Q-4.65 7.75 -4.57 8.15 Q-4.49 8.55 -4.34 8.905 Q-4.19 9.26 -3.93 9.53 Q-3.67 9.8 -3.275 9.955 Q-2.88 10.11 -2.33 10.11 Q-1.77 10.11 -1.38 9.955 Q-0.99 9.8 -0.73 9.53 Q-0.47 9.26 -0.32 8.905 Q-0.17 8.55 -0.09 8.15 Q-0.01 7.75 0.01 7.33 Q0.03 6.91 0.03 6.52 Q0.03 6.13 0.01 5.71 Q-0.01 5.29 -0.09 4.89 Q-0.17 4.49 -0.32 4.13 Q-0.47 3.77 -0.73 3.5 Q-0.99 3.23 -1.385 3.07 Q-1.78 2.91 -2.33 2.91 Q-2.88 2.91 -3.275 3.07 Q-3.67 3.23 -3.93 3.5 Q-4.19 3.77 -4.34 4.13 Q-4.49 4.49 -4.57 4.89 Q-4.65 5.29 -4.67 5.71 Q-4.69 6.13 -4.69 6.52 ZM1.28 8.89 L1.28 10 L2.39 10 L2.39 8.89 ZM4.78 4.75 Q4.78 4.48 4.88 4.28 Q4.98 4.08 5.145 3.94 Q5.31 3.8 5.54 3.73 Q5.77 3.66 6.02 3.66 Q6.54 3.66 6.875 3.935 Q7.21 4.21 7.21 4.75 Q7.21 5.29 6.88 5.59 Q6.55 5.89 6.04 5.89 Q5.78 5.89 5.55 5.82 Q5.32 5.75 5.15 5.61 Q4.98 5.47 4.88 5.255 Q4.78 5.04 4.78 4.75 ZM3.88 4.72 Q3.88 5.2 4.15 5.605 Q4.42 6.01 4.87 6.19 Q4.27 6.4 3.95 6.865 Q3.63 7.33 3.63 7.96 Q3.63 8.5 3.815 8.905 Q4 9.31 4.325 9.58 Q4.65 9.85 5.09 9.98 Q5.53 10.11 6.04 10.11 Q6.53 10.11 6.96 9.97 Q7.39 9.83 7.705 9.555 Q8.02 9.28 8.205 8.88 Q8.39 8.48 8.39 7.96 Q8.39 7.3 8.08 6.845 Q7.77 6.39 7.13 6.19 Q7.58 5.99 7.845 5.595 Q8.11 5.2 8.11 4.72 Q8.11 4.38 7.99 4.055 Q7.87 3.73 7.615 3.475 Q7.36 3.22 6.95 3.065 Q6.54 2.91 5.96 2.91 Q5.55 2.91 5.175 3.03 Q4.8 3.15 4.51 3.38 Q4.22 3.61 4.05 3.945 Q3.88 4.28 3.88 4.72 ZM4.53 8 Q4.53 7.69 4.645 7.44 Q4.76 7.19 4.965 7.01 Q5.17 6.83 5.445 6.735 Q5.72 6.64 6.03 6.64 Q6.33 6.64 6.595 6.745 Q6.86 6.85 7.06 7.03 Q7.26 7.21 7.375 7.455 Q7.49 7.7 7.49 7.99 Q7.49 8.29 7.385 8.54 Q7.28 8.79 7.085 8.975 Q6.89 9.16 6.625 9.265 Q6.36 9.37 6.04 9.37 Q5.38 9.37 4.955 9.005 Q4.53 8.64 4.53 8 Z\"\n",
       "    /></g\n",
       "    ><g transform=\"translate(159.8,378)\" style=\"font-size:10px; fill:rgb(38,38,38); text-rendering:geometricPrecision; image-rendering:optimizeQuality; color-rendering:optimizeQuality; font-family:'Helvetica Neue'; stroke:rgb(38,38,38); color-interpolation:linearRGB;\"\n",
       "    ><path style=\"stroke:none;\" d=\"M-8.5 6.82 L-8.5 7.62 L-5.61 7.62 L-5.61 6.82 ZM-3.79 6.51 Q-3.79 6.25 -3.785 5.935 Q-3.78 5.62 -3.735 5.305 Q-3.69 4.99 -3.605 4.69 Q-3.52 4.39 -3.355 4.165 Q-3.19 3.94 -2.94 3.8 Q-2.69 3.66 -2.33 3.66 Q-1.97 3.66 -1.72 3.8 Q-1.47 3.94 -1.305 4.165 Q-1.14 4.39 -1.055 4.69 Q-0.97 4.99 -0.925 5.305 Q-0.88 5.62 -0.875 5.935 Q-0.87 6.25 -0.87 6.51 Q-0.87 6.91 -0.895 7.405 Q-0.92 7.9 -1.055 8.335 Q-1.19 8.77 -1.49 9.07 Q-1.79 9.37 -2.33 9.37 Q-2.87 9.37 -3.17 9.07 Q-3.47 8.77 -3.605 8.335 Q-3.74 7.9 -3.765 7.405 Q-3.79 6.91 -3.79 6.51 ZM-4.69 6.52 Q-4.69 6.91 -4.67 7.33 Q-4.65 7.75 -4.57 8.15 Q-4.49 8.55 -4.34 8.905 Q-4.19 9.26 -3.93 9.53 Q-3.67 9.8 -3.275 9.955 Q-2.88 10.11 -2.33 10.11 Q-1.77 10.11 -1.38 9.955 Q-0.99 9.8 -0.73 9.53 Q-0.47 9.26 -0.32 8.905 Q-0.17 8.55 -0.09 8.15 Q-0.01 7.75 0.01 7.33 Q0.03 6.91 0.03 6.52 Q0.03 6.13 0.01 5.71 Q-0.01 5.29 -0.09 4.89 Q-0.17 4.49 -0.32 4.13 Q-0.47 3.77 -0.73 3.5 Q-0.99 3.23 -1.385 3.07 Q-1.78 2.91 -2.33 2.91 Q-2.88 2.91 -3.275 3.07 Q-3.67 3.23 -3.93 3.5 Q-4.19 3.77 -4.34 4.13 Q-4.49 4.49 -4.57 4.89 Q-4.65 5.29 -4.67 5.71 Q-4.69 6.13 -4.69 6.52 ZM1.28 8.89 L1.28 10 L2.39 10 L2.39 8.89 ZM7.37 4.72 L8.22 4.72 Q8.14 3.84 7.62 3.375 Q7.1 2.91 6.22 2.91 Q5.46 2.91 4.96 3.23 Q4.46 3.55 4.16 4.08 Q3.86 4.61 3.735 5.295 Q3.61 5.98 3.61 6.71 Q3.61 7.27 3.695 7.87 Q3.78 8.47 4.04 8.97 Q4.3 9.47 4.78 9.79 Q5.26 10.11 6.05 10.11 Q6.72 10.11 7.175 9.885 Q7.63 9.66 7.905 9.315 Q8.18 8.97 8.3 8.55 Q8.42 8.13 8.42 7.74 Q8.42 7.25 8.27 6.83 Q8.12 6.41 7.845 6.1 Q7.57 5.79 7.165 5.615 Q6.76 5.44 6.25 5.44 Q5.67 5.44 5.225 5.66 Q4.78 5.88 4.48 6.37 L4.46 6.35 Q4.47 5.94 4.54 5.47 Q4.61 5 4.795 4.595 Q4.98 4.19 5.31 3.925 Q5.64 3.66 6.18 3.66 Q6.69 3.66 7 3.95 Q7.31 4.24 7.37 4.72 ZM6.09 6.19 Q6.45 6.19 6.72 6.32 Q6.99 6.45 7.17 6.665 Q7.35 6.88 7.435 7.175 Q7.52 7.47 7.52 7.8 Q7.52 8.11 7.425 8.395 Q7.33 8.68 7.15 8.9 Q6.97 9.12 6.705 9.245 Q6.44 9.37 6.09 9.37 Q5.74 9.37 5.465 9.245 Q5.19 9.12 5.005 8.91 Q4.82 8.7 4.72 8.41 Q4.62 8.12 4.62 7.79 Q4.62 7.46 4.715 7.165 Q4.81 6.87 5 6.655 Q5.19 6.44 5.46 6.315 Q5.73 6.19 6.09 6.19 Z\"\n",
       "    /></g\n",
       "    ><g transform=\"translate(203.2,378)\" style=\"font-size:10px; fill:rgb(38,38,38); text-rendering:geometricPrecision; image-rendering:optimizeQuality; color-rendering:optimizeQuality; font-family:'Helvetica Neue'; stroke:rgb(38,38,38); color-interpolation:linearRGB;\"\n",
       "    ><path style=\"stroke:none;\" d=\"M-8.5 6.82 L-8.5 7.62 L-5.61 7.62 L-5.61 6.82 ZM-3.79 6.51 Q-3.79 6.25 -3.785 5.935 Q-3.78 5.62 -3.735 5.305 Q-3.69 4.99 -3.605 4.69 Q-3.52 4.39 -3.355 4.165 Q-3.19 3.94 -2.94 3.8 Q-2.69 3.66 -2.33 3.66 Q-1.97 3.66 -1.72 3.8 Q-1.47 3.94 -1.305 4.165 Q-1.14 4.39 -1.055 4.69 Q-0.97 4.99 -0.925 5.305 Q-0.88 5.62 -0.875 5.935 Q-0.87 6.25 -0.87 6.51 Q-0.87 6.91 -0.895 7.405 Q-0.92 7.9 -1.055 8.335 Q-1.19 8.77 -1.49 9.07 Q-1.79 9.37 -2.33 9.37 Q-2.87 9.37 -3.17 9.07 Q-3.47 8.77 -3.605 8.335 Q-3.74 7.9 -3.765 7.405 Q-3.79 6.91 -3.79 6.51 ZM-4.69 6.52 Q-4.69 6.91 -4.67 7.33 Q-4.65 7.75 -4.57 8.15 Q-4.49 8.55 -4.34 8.905 Q-4.19 9.26 -3.93 9.53 Q-3.67 9.8 -3.275 9.955 Q-2.88 10.11 -2.33 10.11 Q-1.77 10.11 -1.38 9.955 Q-0.99 9.8 -0.73 9.53 Q-0.47 9.26 -0.32 8.905 Q-0.17 8.55 -0.09 8.15 Q-0.01 7.75 0.01 7.33 Q0.03 6.91 0.03 6.52 Q0.03 6.13 0.01 5.71 Q-0.01 5.29 -0.09 4.89 Q-0.17 4.49 -0.32 4.13 Q-0.47 3.77 -0.73 3.5 Q-0.99 3.23 -1.385 3.07 Q-1.78 2.91 -2.33 2.91 Q-2.88 2.91 -3.275 3.07 Q-3.67 3.23 -3.93 3.5 Q-4.19 3.77 -4.34 4.13 Q-4.49 4.49 -4.57 4.89 Q-4.65 5.29 -4.67 5.71 Q-4.69 6.13 -4.69 6.52 ZM1.28 8.89 L1.28 10 L2.39 10 L2.39 8.89 ZM6.62 7.59 L4.24 7.59 L6.6 4.12 L6.62 4.12 ZM7.42 7.59 L7.42 2.91 L6.74 2.91 L3.51 7.52 L3.51 8.34 L6.62 8.34 L6.62 10 L7.42 10 L7.42 8.34 L8.38 8.34 L8.38 7.59 Z\"\n",
       "    /></g\n",
       "    ><g transform=\"translate(246.6,378)\" style=\"font-size:10px; fill:rgb(38,38,38); text-rendering:geometricPrecision; image-rendering:optimizeQuality; color-rendering:optimizeQuality; font-family:'Helvetica Neue'; stroke:rgb(38,38,38); color-interpolation:linearRGB;\"\n",
       "    ><path style=\"stroke:none;\" d=\"M-8.5 6.82 L-8.5 7.62 L-5.61 7.62 L-5.61 6.82 ZM-3.79 6.51 Q-3.79 6.25 -3.785 5.935 Q-3.78 5.62 -3.735 5.305 Q-3.69 4.99 -3.605 4.69 Q-3.52 4.39 -3.355 4.165 Q-3.19 3.94 -2.94 3.8 Q-2.69 3.66 -2.33 3.66 Q-1.97 3.66 -1.72 3.8 Q-1.47 3.94 -1.305 4.165 Q-1.14 4.39 -1.055 4.69 Q-0.97 4.99 -0.925 5.305 Q-0.88 5.62 -0.875 5.935 Q-0.87 6.25 -0.87 6.51 Q-0.87 6.91 -0.895 7.405 Q-0.92 7.9 -1.055 8.335 Q-1.19 8.77 -1.49 9.07 Q-1.79 9.37 -2.33 9.37 Q-2.87 9.37 -3.17 9.07 Q-3.47 8.77 -3.605 8.335 Q-3.74 7.9 -3.765 7.405 Q-3.79 6.91 -3.79 6.51 ZM-4.69 6.52 Q-4.69 6.91 -4.67 7.33 Q-4.65 7.75 -4.57 8.15 Q-4.49 8.55 -4.34 8.905 Q-4.19 9.26 -3.93 9.53 Q-3.67 9.8 -3.275 9.955 Q-2.88 10.11 -2.33 10.11 Q-1.77 10.11 -1.38 9.955 Q-0.99 9.8 -0.73 9.53 Q-0.47 9.26 -0.32 8.905 Q-0.17 8.55 -0.09 8.15 Q-0.01 7.75 0.01 7.33 Q0.03 6.91 0.03 6.52 Q0.03 6.13 0.01 5.71 Q-0.01 5.29 -0.09 4.89 Q-0.17 4.49 -0.32 4.13 Q-0.47 3.77 -0.73 3.5 Q-0.99 3.23 -1.385 3.07 Q-1.78 2.91 -2.33 2.91 Q-2.88 2.91 -3.275 3.07 Q-3.67 3.23 -3.93 3.5 Q-4.19 3.77 -4.34 4.13 Q-4.49 4.49 -4.57 4.89 Q-4.65 5.29 -4.67 5.71 Q-4.69 6.13 -4.69 6.52 ZM1.28 8.89 L1.28 10 L2.39 10 L2.39 8.89 ZM3.67 5.42 L4.52 5.42 Q4.51 5.1 4.585 4.785 Q4.66 4.47 4.83 4.22 Q5 3.97 5.265 3.815 Q5.53 3.66 5.9 3.66 Q6.18 3.66 6.43 3.75 Q6.68 3.84 6.865 4.01 Q7.05 4.18 7.16 4.415 Q7.27 4.65 7.27 4.94 Q7.27 5.31 7.155 5.59 Q7.04 5.87 6.815 6.11 Q6.59 6.35 6.25 6.585 Q5.91 6.82 5.46 7.1 Q5.09 7.32 4.75 7.57 Q4.41 7.82 4.14 8.15 Q3.87 8.48 3.695 8.925 Q3.52 9.37 3.47 10 L8.1 10 L8.1 9.25 L4.46 9.25 Q4.52 8.92 4.715 8.665 Q4.91 8.41 5.185 8.19 Q5.46 7.97 5.79 7.775 Q6.12 7.58 6.45 7.38 Q6.78 7.17 7.09 6.94 Q7.4 6.71 7.64 6.425 Q7.88 6.14 8.025 5.78 Q8.17 5.42 8.17 4.95 Q8.17 4.45 7.995 4.07 Q7.82 3.69 7.52 3.435 Q7.22 3.18 6.815 3.045 Q6.41 2.91 5.95 2.91 Q5.39 2.91 4.95 3.1 Q4.51 3.29 4.215 3.625 Q3.92 3.96 3.78 4.42 Q3.64 4.88 3.67 5.42 Z\"\n",
       "    /></g\n",
       "    ><g transform=\"translate(290,378)\" style=\"font-size:10px; fill:rgb(38,38,38); text-rendering:geometricPrecision; image-rendering:optimizeQuality; color-rendering:optimizeQuality; font-family:'Helvetica Neue'; stroke:rgb(38,38,38); color-interpolation:linearRGB;\"\n",
       "    ><path style=\"stroke:none;\" d=\"M-1.68 6.51 Q-1.68 6.25 -1.675 5.935 Q-1.67 5.62 -1.625 5.305 Q-1.58 4.99 -1.495 4.69 Q-1.41 4.39 -1.245 4.165 Q-1.08 3.94 -0.83 3.8 Q-0.58 3.66 -0.22 3.66 Q0.14 3.66 0.39 3.8 Q0.64 3.94 0.805 4.165 Q0.97 4.39 1.055 4.69 Q1.14 4.99 1.185 5.305 Q1.23 5.62 1.235 5.935 Q1.24 6.25 1.24 6.51 Q1.24 6.91 1.215 7.405 Q1.19 7.9 1.055 8.335 Q0.92 8.77 0.62 9.07 Q0.32 9.37 -0.22 9.37 Q-0.76 9.37 -1.06 9.07 Q-1.36 8.77 -1.495 8.335 Q-1.63 7.9 -1.655 7.405 Q-1.68 6.91 -1.68 6.51 ZM-2.58 6.52 Q-2.58 6.91 -2.56 7.33 Q-2.54 7.75 -2.46 8.15 Q-2.38 8.55 -2.23 8.905 Q-2.08 9.26 -1.82 9.53 Q-1.56 9.8 -1.165 9.955 Q-0.77 10.11 -0.22 10.11 Q0.34 10.11 0.73 9.955 Q1.12 9.8 1.38 9.53 Q1.64 9.26 1.79 8.905 Q1.94 8.55 2.02 8.15 Q2.1 7.75 2.12 7.33 Q2.14 6.91 2.14 6.52 Q2.14 6.13 2.12 5.71 Q2.1 5.29 2.02 4.89 Q1.94 4.49 1.79 4.13 Q1.64 3.77 1.38 3.5 Q1.12 3.23 0.725 3.07 Q0.33 2.91 -0.22 2.91 Q-0.77 2.91 -1.165 3.07 Q-1.56 3.23 -1.82 3.5 Q-2.08 3.77 -2.23 4.13 Q-2.38 4.49 -2.46 4.89 Q-2.54 5.29 -2.56 5.71 Q-2.58 6.13 -2.58 6.52 Z\"\n",
       "    /></g\n",
       "    ><g transform=\"translate(333.4,378)\" style=\"font-size:10px; fill:rgb(38,38,38); text-rendering:geometricPrecision; image-rendering:optimizeQuality; color-rendering:optimizeQuality; font-family:'Helvetica Neue'; stroke:rgb(38,38,38); color-interpolation:linearRGB;\"\n",
       "    ><path style=\"stroke:none;\" d=\"M-5.68 6.51 Q-5.68 6.25 -5.675 5.935 Q-5.67 5.62 -5.625 5.305 Q-5.58 4.99 -5.495 4.69 Q-5.41 4.39 -5.245 4.165 Q-5.08 3.94 -4.83 3.8 Q-4.58 3.66 -4.22 3.66 Q-3.86 3.66 -3.61 3.8 Q-3.36 3.94 -3.195 4.165 Q-3.03 4.39 -2.945 4.69 Q-2.86 4.99 -2.815 5.305 Q-2.77 5.62 -2.765 5.935 Q-2.76 6.25 -2.76 6.51 Q-2.76 6.91 -2.785 7.405 Q-2.81 7.9 -2.945 8.335 Q-3.08 8.77 -3.38 9.07 Q-3.68 9.37 -4.22 9.37 Q-4.76 9.37 -5.06 9.07 Q-5.36 8.77 -5.495 8.335 Q-5.63 7.9 -5.655 7.405 Q-5.68 6.91 -5.68 6.51 ZM-6.58 6.52 Q-6.58 6.91 -6.56 7.33 Q-6.54 7.75 -6.46 8.15 Q-6.38 8.55 -6.23 8.905 Q-6.08 9.26 -5.82 9.53 Q-5.56 9.8 -5.165 9.955 Q-4.77 10.11 -4.22 10.11 Q-3.66 10.11 -3.27 9.955 Q-2.88 9.8 -2.62 9.53 Q-2.36 9.26 -2.21 8.905 Q-2.06 8.55 -1.98 8.15 Q-1.9 7.75 -1.88 7.33 Q-1.86 6.91 -1.86 6.52 Q-1.86 6.13 -1.88 5.71 Q-1.9 5.29 -1.98 4.89 Q-2.06 4.49 -2.21 4.13 Q-2.36 3.77 -2.62 3.5 Q-2.88 3.23 -3.275 3.07 Q-3.67 2.91 -4.22 2.91 Q-4.77 2.91 -5.165 3.07 Q-5.56 3.23 -5.82 3.5 Q-6.08 3.77 -6.23 4.13 Q-6.38 4.49 -6.46 4.89 Q-6.54 5.29 -6.56 5.71 Q-6.58 6.13 -6.58 6.52 ZM-0.61 8.89 L-0.61 10 L0.5 10 L0.5 8.89 ZM1.78 5.42 L2.63 5.42 Q2.62 5.1 2.695 4.785 Q2.77 4.47 2.94 4.22 Q3.11 3.97 3.375 3.815 Q3.64 3.66 4.01 3.66 Q4.29 3.66 4.54 3.75 Q4.79 3.84 4.975 4.01 Q5.16 4.18 5.27 4.415 Q5.38 4.65 5.38 4.94 Q5.38 5.31 5.265 5.59 Q5.15 5.87 4.925 6.11 Q4.7 6.35 4.36 6.585 Q4.02 6.82 3.57 7.1 Q3.2 7.32 2.86 7.57 Q2.52 7.82 2.25 8.15 Q1.98 8.48 1.805 8.925 Q1.63 9.37 1.58 10 L6.21 10 L6.21 9.25 L2.57 9.25 Q2.63 8.92 2.825 8.665 Q3.02 8.41 3.295 8.19 Q3.57 7.97 3.9 7.775 Q4.23 7.58 4.56 7.38 Q4.89 7.17 5.2 6.94 Q5.51 6.71 5.75 6.425 Q5.99 6.14 6.135 5.78 Q6.28 5.42 6.28 4.95 Q6.28 4.45 6.105 4.07 Q5.93 3.69 5.63 3.435 Q5.33 3.18 4.925 3.045 Q4.52 2.91 4.06 2.91 Q3.5 2.91 3.06 3.1 Q2.62 3.29 2.325 3.625 Q2.03 3.96 1.89 4.42 Q1.75 4.88 1.78 5.42 Z\"\n",
       "    /></g\n",
       "    ><g transform=\"translate(376.8,378)\" style=\"font-size:10px; fill:rgb(38,38,38); text-rendering:geometricPrecision; image-rendering:optimizeQuality; color-rendering:optimizeQuality; font-family:'Helvetica Neue'; stroke:rgb(38,38,38); color-interpolation:linearRGB;\"\n",
       "    ><path style=\"stroke:none;\" d=\"M-5.68 6.51 Q-5.68 6.25 -5.675 5.935 Q-5.67 5.62 -5.625 5.305 Q-5.58 4.99 -5.495 4.69 Q-5.41 4.39 -5.245 4.165 Q-5.08 3.94 -4.83 3.8 Q-4.58 3.66 -4.22 3.66 Q-3.86 3.66 -3.61 3.8 Q-3.36 3.94 -3.195 4.165 Q-3.03 4.39 -2.945 4.69 Q-2.86 4.99 -2.815 5.305 Q-2.77 5.62 -2.765 5.935 Q-2.76 6.25 -2.76 6.51 Q-2.76 6.91 -2.785 7.405 Q-2.81 7.9 -2.945 8.335 Q-3.08 8.77 -3.38 9.07 Q-3.68 9.37 -4.22 9.37 Q-4.76 9.37 -5.06 9.07 Q-5.36 8.77 -5.495 8.335 Q-5.63 7.9 -5.655 7.405 Q-5.68 6.91 -5.68 6.51 ZM-6.58 6.52 Q-6.58 6.91 -6.56 7.33 Q-6.54 7.75 -6.46 8.15 Q-6.38 8.55 -6.23 8.905 Q-6.08 9.26 -5.82 9.53 Q-5.56 9.8 -5.165 9.955 Q-4.77 10.11 -4.22 10.11 Q-3.66 10.11 -3.27 9.955 Q-2.88 9.8 -2.62 9.53 Q-2.36 9.26 -2.21 8.905 Q-2.06 8.55 -1.98 8.15 Q-1.9 7.75 -1.88 7.33 Q-1.86 6.91 -1.86 6.52 Q-1.86 6.13 -1.88 5.71 Q-1.9 5.29 -1.98 4.89 Q-2.06 4.49 -2.21 4.13 Q-2.36 3.77 -2.62 3.5 Q-2.88 3.23 -3.275 3.07 Q-3.67 2.91 -4.22 2.91 Q-4.77 2.91 -5.165 3.07 Q-5.56 3.23 -5.82 3.5 Q-6.08 3.77 -6.23 4.13 Q-6.38 4.49 -6.46 4.89 Q-6.54 5.29 -6.56 5.71 Q-6.58 6.13 -6.58 6.52 ZM-0.61 8.89 L-0.61 10 L0.5 10 L0.5 8.89 ZM4.73 7.59 L2.35 7.59 L4.71 4.12 L4.73 4.12 ZM5.53 7.59 L5.53 2.91 L4.85 2.91 L1.62 7.52 L1.62 8.34 L4.73 8.34 L4.73 10 L5.53 10 L5.53 8.34 L6.49 8.34 L6.49 7.59 Z\"\n",
       "    /></g\n",
       "    ><g transform=\"translate(420.2,378)\" style=\"font-size:10px; fill:rgb(38,38,38); text-rendering:geometricPrecision; image-rendering:optimizeQuality; color-rendering:optimizeQuality; font-family:'Helvetica Neue'; stroke:rgb(38,38,38); color-interpolation:linearRGB;\"\n",
       "    ><path style=\"stroke:none;\" d=\"M-5.68 6.51 Q-5.68 6.25 -5.675 5.935 Q-5.67 5.62 -5.625 5.305 Q-5.58 4.99 -5.495 4.69 Q-5.41 4.39 -5.245 4.165 Q-5.08 3.94 -4.83 3.8 Q-4.58 3.66 -4.22 3.66 Q-3.86 3.66 -3.61 3.8 Q-3.36 3.94 -3.195 4.165 Q-3.03 4.39 -2.945 4.69 Q-2.86 4.99 -2.815 5.305 Q-2.77 5.62 -2.765 5.935 Q-2.76 6.25 -2.76 6.51 Q-2.76 6.91 -2.785 7.405 Q-2.81 7.9 -2.945 8.335 Q-3.08 8.77 -3.38 9.07 Q-3.68 9.37 -4.22 9.37 Q-4.76 9.37 -5.06 9.07 Q-5.36 8.77 -5.495 8.335 Q-5.63 7.9 -5.655 7.405 Q-5.68 6.91 -5.68 6.51 ZM-6.58 6.52 Q-6.58 6.91 -6.56 7.33 Q-6.54 7.75 -6.46 8.15 Q-6.38 8.55 -6.23 8.905 Q-6.08 9.26 -5.82 9.53 Q-5.56 9.8 -5.165 9.955 Q-4.77 10.11 -4.22 10.11 Q-3.66 10.11 -3.27 9.955 Q-2.88 9.8 -2.62 9.53 Q-2.36 9.26 -2.21 8.905 Q-2.06 8.55 -1.98 8.15 Q-1.9 7.75 -1.88 7.33 Q-1.86 6.91 -1.86 6.52 Q-1.86 6.13 -1.88 5.71 Q-1.9 5.29 -1.98 4.89 Q-2.06 4.49 -2.21 4.13 Q-2.36 3.77 -2.62 3.5 Q-2.88 3.23 -3.275 3.07 Q-3.67 2.91 -4.22 2.91 Q-4.77 2.91 -5.165 3.07 Q-5.56 3.23 -5.82 3.5 Q-6.08 3.77 -6.23 4.13 Q-6.38 4.49 -6.46 4.89 Q-6.54 5.29 -6.56 5.71 Q-6.58 6.13 -6.58 6.52 ZM-0.61 8.89 L-0.61 10 L0.5 10 L0.5 8.89 ZM5.48 4.72 L6.33 4.72 Q6.25 3.84 5.73 3.375 Q5.21 2.91 4.33 2.91 Q3.57 2.91 3.07 3.23 Q2.57 3.55 2.27 4.08 Q1.97 4.61 1.845 5.295 Q1.72 5.98 1.72 6.71 Q1.72 7.27 1.805 7.87 Q1.89 8.47 2.15 8.97 Q2.41 9.47 2.89 9.79 Q3.37 10.11 4.16 10.11 Q4.83 10.11 5.285 9.885 Q5.74 9.66 6.015 9.315 Q6.29 8.97 6.41 8.55 Q6.53 8.13 6.53 7.74 Q6.53 7.25 6.38 6.83 Q6.23 6.41 5.955 6.1 Q5.68 5.79 5.275 5.615 Q4.87 5.44 4.36 5.44 Q3.78 5.44 3.335 5.66 Q2.89 5.88 2.59 6.37 L2.57 6.35 Q2.58 5.94 2.65 5.47 Q2.72 5 2.905 4.595 Q3.09 4.19 3.42 3.925 Q3.75 3.66 4.29 3.66 Q4.8 3.66 5.11 3.95 Q5.42 4.24 5.48 4.72 ZM4.2 6.19 Q4.56 6.19 4.83 6.32 Q5.1 6.45 5.28 6.665 Q5.46 6.88 5.545 7.175 Q5.63 7.47 5.63 7.8 Q5.63 8.11 5.535 8.395 Q5.44 8.68 5.26 8.9 Q5.08 9.12 4.815 9.245 Q4.55 9.37 4.2 9.37 Q3.85 9.37 3.575 9.245 Q3.3 9.12 3.115 8.91 Q2.93 8.7 2.83 8.41 Q2.73 8.12 2.73 7.79 Q2.73 7.46 2.825 7.165 Q2.92 6.87 3.11 6.655 Q3.3 6.44 3.57 6.315 Q3.84 6.19 4.2 6.19 Z\"\n",
       "    /></g\n",
       "    ><g transform=\"translate(463.6,378)\" style=\"font-size:10px; fill:rgb(38,38,38); text-rendering:geometricPrecision; image-rendering:optimizeQuality; color-rendering:optimizeQuality; font-family:'Helvetica Neue'; stroke:rgb(38,38,38); color-interpolation:linearRGB;\"\n",
       "    ><path style=\"stroke:none;\" d=\"M-5.68 6.51 Q-5.68 6.25 -5.675 5.935 Q-5.67 5.62 -5.625 5.305 Q-5.58 4.99 -5.495 4.69 Q-5.41 4.39 -5.245 4.165 Q-5.08 3.94 -4.83 3.8 Q-4.58 3.66 -4.22 3.66 Q-3.86 3.66 -3.61 3.8 Q-3.36 3.94 -3.195 4.165 Q-3.03 4.39 -2.945 4.69 Q-2.86 4.99 -2.815 5.305 Q-2.77 5.62 -2.765 5.935 Q-2.76 6.25 -2.76 6.51 Q-2.76 6.91 -2.785 7.405 Q-2.81 7.9 -2.945 8.335 Q-3.08 8.77 -3.38 9.07 Q-3.68 9.37 -4.22 9.37 Q-4.76 9.37 -5.06 9.07 Q-5.36 8.77 -5.495 8.335 Q-5.63 7.9 -5.655 7.405 Q-5.68 6.91 -5.68 6.51 ZM-6.58 6.52 Q-6.58 6.91 -6.56 7.33 Q-6.54 7.75 -6.46 8.15 Q-6.38 8.55 -6.23 8.905 Q-6.08 9.26 -5.82 9.53 Q-5.56 9.8 -5.165 9.955 Q-4.77 10.11 -4.22 10.11 Q-3.66 10.11 -3.27 9.955 Q-2.88 9.8 -2.62 9.53 Q-2.36 9.26 -2.21 8.905 Q-2.06 8.55 -1.98 8.15 Q-1.9 7.75 -1.88 7.33 Q-1.86 6.91 -1.86 6.52 Q-1.86 6.13 -1.88 5.71 Q-1.9 5.29 -1.98 4.89 Q-2.06 4.49 -2.21 4.13 Q-2.36 3.77 -2.62 3.5 Q-2.88 3.23 -3.275 3.07 Q-3.67 2.91 -4.22 2.91 Q-4.77 2.91 -5.165 3.07 Q-5.56 3.23 -5.82 3.5 Q-6.08 3.77 -6.23 4.13 Q-6.38 4.49 -6.46 4.89 Q-6.54 5.29 -6.56 5.71 Q-6.58 6.13 -6.58 6.52 ZM-0.61 8.89 L-0.61 10 L0.5 10 L0.5 8.89 ZM2.89 4.75 Q2.89 4.48 2.99 4.28 Q3.09 4.08 3.255 3.94 Q3.42 3.8 3.65 3.73 Q3.88 3.66 4.13 3.66 Q4.65 3.66 4.985 3.935 Q5.32 4.21 5.32 4.75 Q5.32 5.29 4.99 5.59 Q4.66 5.89 4.15 5.89 Q3.89 5.89 3.66 5.82 Q3.43 5.75 3.26 5.61 Q3.09 5.47 2.99 5.255 Q2.89 5.04 2.89 4.75 ZM1.99 4.72 Q1.99 5.2 2.26 5.605 Q2.53 6.01 2.98 6.19 Q2.38 6.4 2.06 6.865 Q1.74 7.33 1.74 7.96 Q1.74 8.5 1.925 8.905 Q2.11 9.31 2.435 9.58 Q2.76 9.85 3.2 9.98 Q3.64 10.11 4.15 10.11 Q4.64 10.11 5.07 9.97 Q5.5 9.83 5.815 9.555 Q6.13 9.28 6.315 8.88 Q6.5 8.48 6.5 7.96 Q6.5 7.3 6.19 6.845 Q5.88 6.39 5.24 6.19 Q5.69 5.99 5.955 5.595 Q6.22 5.2 6.22 4.72 Q6.22 4.38 6.1 4.055 Q5.98 3.73 5.725 3.475 Q5.47 3.22 5.06 3.065 Q4.65 2.91 4.07 2.91 Q3.66 2.91 3.285 3.03 Q2.91 3.15 2.62 3.38 Q2.33 3.61 2.16 3.945 Q1.99 4.28 1.99 4.72 ZM2.64 8 Q2.64 7.69 2.755 7.44 Q2.87 7.19 3.075 7.01 Q3.28 6.83 3.555 6.735 Q3.83 6.64 4.14 6.64 Q4.44 6.64 4.705 6.745 Q4.97 6.85 5.17 7.03 Q5.37 7.21 5.485 7.455 Q5.6 7.7 5.6 7.99 Q5.6 8.29 5.495 8.54 Q5.39 8.79 5.195 8.975 Q5 9.16 4.735 9.265 Q4.47 9.37 4.15 9.37 Q3.49 9.37 3.065 9.005 Q2.64 8.64 2.64 8 Z\"\n",
       "    /></g\n",
       "    ><g transform=\"translate(507,378)\" style=\"font-size:10px; fill:rgb(38,38,38); text-rendering:geometricPrecision; image-rendering:optimizeQuality; color-rendering:optimizeQuality; font-family:'Helvetica Neue'; stroke:rgb(38,38,38); color-interpolation:linearRGB;\"\n",
       "    ><path style=\"stroke:none;\" d=\"M0.56 10 L0.56 2.91 L-0.09 2.91 Q-0.16 3.31 -0.35 3.57 Q-0.54 3.83 -0.815 3.98 Q-1.09 4.13 -1.43 4.185 Q-1.77 4.24 -2.13 4.24 L-2.13 4.92 L-0.29 4.92 L-0.29 10 Z\"\n",
       "    /></g\n",
       "    ><g transform=\"translate(288,403)\" style=\"font-size:11px; fill:rgb(38,38,38); text-rendering:geometricPrecision; image-rendering:optimizeQuality; color-rendering:optimizeQuality; font-family:'Helvetica Neue'; stroke:rgb(38,38,38); color-interpolation:linearRGB;\"\n",
       "    ><path style=\"stroke:none;\" d=\"M2.002 -5.687 L2.002 -7.392 L1.067 -7.392 L1.067 -5.687 L0.099 -5.687 L0.099 -4.862 L1.067 -4.862 L1.067 -1.243 Q1.067 -0.847 1.144 -0.605 Q1.221 -0.363 1.3805 -0.231 Q1.54 -0.099 1.7985 -0.0495 Q2.057 0 2.42 0 L3.135 0 L3.135 -0.825 L2.706 -0.825 Q2.486 -0.825 2.3485 -0.8415 Q2.211 -0.858 2.134 -0.913 Q2.057 -0.968 2.0295 -1.067 Q2.002 -1.166 2.002 -1.331 L2.002 -4.862 L3.135 -4.862 L3.135 -5.687 Z\"\n",
       "    /></g\n",
       "    ><g style=\"fill:rgb(38,38,38); text-rendering:geometricPrecision; image-rendering:optimizeQuality; color-rendering:optimizeQuality; stroke-linejoin:round; stroke:rgb(38,38,38); color-interpolation:linearRGB; stroke-width:0.5;\"\n",
       "    ><line y2=\"31.5\" style=\"fill:none;\" x1=\"73\" x2=\"73\" y1=\"374\"\n",
       "      /><line y2=\"31.5\" style=\"fill:none;\" x1=\"507\" x2=\"507\" y1=\"374\"\n",
       "      /><line y2=\"339.75\" style=\"fill:none;\" x1=\"73\" x2=\"77.34\" y1=\"339.75\"\n",
       "      /><line y2=\"271.25\" style=\"fill:none;\" x1=\"73\" x2=\"77.34\" y1=\"271.25\"\n",
       "      /><line y2=\"202.75\" style=\"fill:none;\" x1=\"73\" x2=\"77.34\" y1=\"202.75\"\n",
       "      /><line y2=\"134.25\" style=\"fill:none;\" x1=\"73\" x2=\"77.34\" y1=\"134.25\"\n",
       "      /><line y2=\"65.75\" style=\"fill:none;\" x1=\"73\" x2=\"77.34\" y1=\"65.75\"\n",
       "      /><line y2=\"339.75\" style=\"fill:none;\" x1=\"507\" x2=\"502.66\" y1=\"339.75\"\n",
       "      /><line y2=\"271.25\" style=\"fill:none;\" x1=\"507\" x2=\"502.66\" y1=\"271.25\"\n",
       "      /><line y2=\"202.75\" style=\"fill:none;\" x1=\"507\" x2=\"502.66\" y1=\"202.75\"\n",
       "      /><line y2=\"134.25\" style=\"fill:none;\" x1=\"507\" x2=\"502.66\" y1=\"134.25\"\n",
       "      /><line y2=\"65.75\" style=\"fill:none;\" x1=\"507\" x2=\"502.66\" y1=\"65.75\"\n",
       "    /></g\n",
       "    ><g transform=\"translate(69,339.75)\" style=\"font-size:10px; fill:rgb(38,38,38); text-rendering:geometricPrecision; image-rendering:optimizeQuality; color-rendering:optimizeQuality; font-family:'Helvetica Neue'; stroke:rgb(38,38,38); color-interpolation:linearRGB;\"\n",
       "    ><path style=\"stroke:none;\" d=\"M-4.68 0.01 Q-4.68 -0.25 -4.675 -0.565 Q-4.67 -0.88 -4.625 -1.195 Q-4.58 -1.51 -4.495 -1.81 Q-4.41 -2.11 -4.245 -2.335 Q-4.08 -2.56 -3.83 -2.7 Q-3.58 -2.84 -3.22 -2.84 Q-2.86 -2.84 -2.61 -2.7 Q-2.36 -2.56 -2.195 -2.335 Q-2.03 -2.11 -1.945 -1.81 Q-1.86 -1.51 -1.815 -1.195 Q-1.77 -0.88 -1.765 -0.565 Q-1.76 -0.25 -1.76 0.01 Q-1.76 0.41 -1.785 0.905 Q-1.81 1.4 -1.945 1.835 Q-2.08 2.27 -2.38 2.57 Q-2.68 2.87 -3.22 2.87 Q-3.76 2.87 -4.06 2.57 Q-4.36 2.27 -4.495 1.835 Q-4.63 1.4 -4.655 0.905 Q-4.68 0.41 -4.68 0.01 ZM-5.58 0.02 Q-5.58 0.41 -5.56 0.83 Q-5.54 1.25 -5.46 1.65 Q-5.38 2.05 -5.23 2.405 Q-5.08 2.76 -4.82 3.03 Q-4.56 3.3 -4.165 3.455 Q-3.77 3.61 -3.22 3.61 Q-2.66 3.61 -2.27 3.455 Q-1.88 3.3 -1.62 3.03 Q-1.36 2.76 -1.21 2.405 Q-1.06 2.05 -0.98 1.65 Q-0.9 1.25 -0.88 0.83 Q-0.86 0.41 -0.86 0.02 Q-0.86 -0.37 -0.88 -0.79 Q-0.9 -1.21 -0.98 -1.61 Q-1.06 -2.01 -1.21 -2.37 Q-1.36 -2.73 -1.62 -3 Q-1.88 -3.27 -2.275 -3.43 Q-2.67 -3.59 -3.22 -3.59 Q-3.77 -3.59 -4.165 -3.43 Q-4.56 -3.27 -4.82 -3 Q-5.08 -2.73 -5.23 -2.37 Q-5.38 -2.01 -5.46 -1.61 Q-5.54 -1.21 -5.56 -0.79 Q-5.58 -0.37 -5.58 0.02 Z\"\n",
       "    /></g\n",
       "    ><g transform=\"translate(69,271.25)\" style=\"font-size:10px; fill:rgb(38,38,38); text-rendering:geometricPrecision; image-rendering:optimizeQuality; color-rendering:optimizeQuality; font-family:'Helvetica Neue'; stroke:rgb(38,38,38); color-interpolation:linearRGB;\"\n",
       "    ><path style=\"stroke:none;\" d=\"M-12.68 0.01 Q-12.68 -0.25 -12.675 -0.565 Q-12.67 -0.88 -12.625 -1.195 Q-12.58 -1.51 -12.495 -1.81 Q-12.41 -2.11 -12.245 -2.335 Q-12.08 -2.56 -11.83 -2.7 Q-11.58 -2.84 -11.22 -2.84 Q-10.86 -2.84 -10.61 -2.7 Q-10.36 -2.56 -10.195 -2.335 Q-10.03 -2.11 -9.945 -1.81 Q-9.86 -1.51 -9.815 -1.195 Q-9.77 -0.88 -9.765 -0.565 Q-9.76 -0.25 -9.76 0.01 Q-9.76 0.41 -9.785 0.905 Q-9.81 1.4 -9.945 1.835 Q-10.08 2.27 -10.38 2.57 Q-10.68 2.87 -11.22 2.87 Q-11.76 2.87 -12.06 2.57 Q-12.36 2.27 -12.495 1.835 Q-12.63 1.4 -12.655 0.905 Q-12.68 0.41 -12.68 0.01 ZM-13.58 0.02 Q-13.58 0.41 -13.56 0.83 Q-13.54 1.25 -13.46 1.65 Q-13.38 2.05 -13.23 2.405 Q-13.08 2.76 -12.82 3.03 Q-12.56 3.3 -12.165 3.455 Q-11.77 3.61 -11.22 3.61 Q-10.66 3.61 -10.27 3.455 Q-9.88 3.3 -9.62 3.03 Q-9.36 2.76 -9.21 2.405 Q-9.06 2.05 -8.98 1.65 Q-8.9 1.25 -8.88 0.83 Q-8.86 0.41 -8.86 0.02 Q-8.86 -0.37 -8.88 -0.79 Q-8.9 -1.21 -8.98 -1.61 Q-9.06 -2.01 -9.21 -2.37 Q-9.36 -2.73 -9.62 -3 Q-9.88 -3.27 -10.275 -3.43 Q-10.67 -3.59 -11.22 -3.59 Q-11.77 -3.59 -12.165 -3.43 Q-12.56 -3.27 -12.82 -3 Q-13.08 -2.73 -13.23 -2.37 Q-13.38 -2.01 -13.46 -1.61 Q-13.54 -1.21 -13.56 -0.79 Q-13.58 -0.37 -13.58 0.02 ZM-7.61 2.39 L-7.61 3.5 L-6.5 3.5 L-6.5 2.39 ZM-0.96 -2.72 L-0.96 -3.47 L-4.46 -3.47 L-5.12 0.21 L-4.39 0.25 Q-4.14 -0.05 -3.815 -0.235 Q-3.49 -0.42 -3.07 -0.42 Q-2.71 -0.42 -2.415 -0.3 Q-2.12 -0.18 -1.91 0.035 Q-1.7 0.25 -1.585 0.545 Q-1.47 0.84 -1.47 1.19 Q-1.47 1.61 -1.59 1.925 Q-1.71 2.24 -1.915 2.45 Q-2.12 2.66 -2.395 2.765 Q-2.67 2.87 -2.97 2.87 Q-3.29 2.87 -3.555 2.775 Q-3.82 2.68 -4.015 2.505 Q-4.21 2.33 -4.325 2.095 Q-4.44 1.86 -4.46 1.59 L-5.31 1.59 Q-5.3 2.07 -5.12 2.45 Q-4.94 2.83 -4.63 3.085 Q-4.32 3.34 -3.915 3.475 Q-3.51 3.61 -3.05 3.61 Q-2.43 3.61 -1.965 3.415 Q-1.5 3.22 -1.19 2.89 Q-0.88 2.56 -0.725 2.135 Q-0.57 1.71 -0.57 1.26 Q-0.57 0.65 -0.75 0.195 Q-0.93 -0.26 -1.24 -0.565 Q-1.55 -0.87 -1.97 -1.02 Q-2.39 -1.17 -2.86 -1.17 Q-3.22 -1.17 -3.585 -1.045 Q-3.95 -0.92 -4.18 -0.66 L-4.2 -0.68 L-3.82 -2.72 Z\"\n",
       "    /></g\n",
       "    ><g transform=\"translate(69,202.75)\" style=\"font-size:10px; fill:rgb(38,38,38); text-rendering:geometricPrecision; image-rendering:optimizeQuality; color-rendering:optimizeQuality; font-family:'Helvetica Neue'; stroke:rgb(38,38,38); color-interpolation:linearRGB;\"\n",
       "    ><path style=\"stroke:none;\" d=\"M-2.44 3.5 L-2.44 -3.59 L-3.09 -3.59 Q-3.16 -3.19 -3.35 -2.93 Q-3.54 -2.67 -3.815 -2.52 Q-4.09 -2.37 -4.43 -2.315 Q-4.77 -2.26 -5.13 -2.26 L-5.13 -1.58 L-3.29 -1.58 L-3.29 3.5 Z\"\n",
       "    /></g\n",
       "    ><g transform=\"translate(69,134.25)\" style=\"font-size:10px; fill:rgb(38,38,38); text-rendering:geometricPrecision; image-rendering:optimizeQuality; color-rendering:optimizeQuality; font-family:'Helvetica Neue'; stroke:rgb(38,38,38); color-interpolation:linearRGB;\"\n",
       "    ><path style=\"stroke:none;\" d=\"M-10.44 3.5 L-10.44 -3.59 L-11.09 -3.59 Q-11.16 -3.19 -11.35 -2.93 Q-11.54 -2.67 -11.815 -2.52 Q-12.09 -2.37 -12.43 -2.315 Q-12.77 -2.26 -13.13 -2.26 L-13.13 -1.58 L-11.29 -1.58 L-11.29 3.5 ZM-7.61 2.39 L-7.61 3.5 L-6.5 3.5 L-6.5 2.39 ZM-0.96 -2.72 L-0.96 -3.47 L-4.46 -3.47 L-5.12 0.21 L-4.39 0.25 Q-4.14 -0.05 -3.815 -0.235 Q-3.49 -0.42 -3.07 -0.42 Q-2.71 -0.42 -2.415 -0.3 Q-2.12 -0.18 -1.91 0.035 Q-1.7 0.25 -1.585 0.545 Q-1.47 0.84 -1.47 1.19 Q-1.47 1.61 -1.59 1.925 Q-1.71 2.24 -1.915 2.45 Q-2.12 2.66 -2.395 2.765 Q-2.67 2.87 -2.97 2.87 Q-3.29 2.87 -3.555 2.775 Q-3.82 2.68 -4.015 2.505 Q-4.21 2.33 -4.325 2.095 Q-4.44 1.86 -4.46 1.59 L-5.31 1.59 Q-5.3 2.07 -5.12 2.45 Q-4.94 2.83 -4.63 3.085 Q-4.32 3.34 -3.915 3.475 Q-3.51 3.61 -3.05 3.61 Q-2.43 3.61 -1.965 3.415 Q-1.5 3.22 -1.19 2.89 Q-0.88 2.56 -0.725 2.135 Q-0.57 1.71 -0.57 1.26 Q-0.57 0.65 -0.75 0.195 Q-0.93 -0.26 -1.24 -0.565 Q-1.55 -0.87 -1.97 -1.02 Q-2.39 -1.17 -2.86 -1.17 Q-3.22 -1.17 -3.585 -1.045 Q-3.95 -0.92 -4.18 -0.66 L-4.2 -0.68 L-3.82 -2.72 Z\"\n",
       "    /></g\n",
       "    ><g transform=\"translate(69,65.75)\" style=\"font-size:10px; fill:rgb(38,38,38); text-rendering:geometricPrecision; image-rendering:optimizeQuality; color-rendering:optimizeQuality; font-family:'Helvetica Neue'; stroke:rgb(38,38,38); color-interpolation:linearRGB;\"\n",
       "    ><path style=\"stroke:none;\" d=\"M-5.56 -1.08 L-4.71 -1.08 Q-4.72 -1.4 -4.645 -1.715 Q-4.57 -2.03 -4.4 -2.28 Q-4.23 -2.53 -3.965 -2.685 Q-3.7 -2.84 -3.33 -2.84 Q-3.05 -2.84 -2.8 -2.75 Q-2.55 -2.66 -2.365 -2.49 Q-2.18 -2.32 -2.07 -2.085 Q-1.96 -1.85 -1.96 -1.56 Q-1.96 -1.19 -2.075 -0.91 Q-2.19 -0.63 -2.415 -0.39 Q-2.64 -0.15 -2.98 0.085 Q-3.32 0.32 -3.77 0.6 Q-4.14 0.82 -4.48 1.07 Q-4.82 1.32 -5.09 1.65 Q-5.36 1.98 -5.535 2.425 Q-5.71 2.87 -5.76 3.5 L-1.13 3.5 L-1.13 2.75 L-4.77 2.75 Q-4.71 2.42 -4.515 2.165 Q-4.32 1.91 -4.045 1.69 Q-3.77 1.47 -3.44 1.275 Q-3.11 1.08 -2.78 0.88 Q-2.45 0.67 -2.14 0.44 Q-1.83 0.21 -1.59 -0.075 Q-1.35 -0.36 -1.205 -0.72 Q-1.06 -1.08 -1.06 -1.55 Q-1.06 -2.05 -1.235 -2.43 Q-1.41 -2.81 -1.71 -3.065 Q-2.01 -3.32 -2.415 -3.455 Q-2.82 -3.59 -3.28 -3.59 Q-3.84 -3.59 -4.28 -3.4 Q-4.72 -3.21 -5.015 -2.875 Q-5.31 -2.54 -5.45 -2.08 Q-5.59 -1.62 -5.56 -1.08 Z\"\n",
       "    /></g\n",
       "    ><g transform=\"translate(290.0003,30.125)\" style=\"font-size:11px; text-rendering:geometricPrecision; color-rendering:optimizeQuality; image-rendering:optimizeQuality; font-family:'mwa_cmr10'; color-interpolation:linearRGB;\"\n",
       "    ><path style=\"stroke:none;\" d=\"M-52.7448 -3.96 L-52.7448 -4.3507 Q-52.1979 -4.3507 -51.6745 -4.4132 Q-51.151 -4.4757 -51.151 -4.6944 L-51.151 -10.7413 Q-51.151 -10.9757 -51.2838 -11.0304 Q-51.4167 -11.085 -51.7135 -11.085 L-52.1667 -11.085 Q-53.0729 -11.085 -53.4635 -10.6944 Q-53.651 -10.4913 -53.737 -10.0538 Q-53.8229 -9.6163 -53.8854 -8.96 L-54.2135 -8.96 L-53.9948 -11.4757 L-47.276 -11.4757 L-47.0729 -8.96 L-47.3854 -8.96 Q-47.4479 -9.6632 -47.526 -10.0772 Q-47.6042 -10.4913 -47.8073 -10.6944 Q-48.1979 -11.085 -49.1042 -11.085 L-49.5729 -11.085 Q-49.7604 -11.085 -49.8698 -11.0694 Q-49.9792 -11.0538 -50.0495 -10.9757 Q-50.1198 -10.8975 -50.1198 -10.7413 L-50.1198 -4.6944 Q-50.1198 -4.4757 -49.6042 -4.4132 Q-49.0885 -4.3507 -48.5417 -4.3507 L-48.5417 -3.96 L-52.7448 -3.96 Z\"\n",
       "      /><path style=\"stroke:none;\" d=\"M-46.3159 -3.96 L-46.3159 -4.3507 Q-45.9409 -4.3507 -45.6988 -4.4054 Q-45.4566 -4.46 -45.4566 -4.6944 L-45.4566 -7.6944 Q-45.4566 -8.1163 -45.6206 -8.2179 Q-45.7847 -8.3194 -46.2691 -8.3194 L-46.2691 -8.71 L-44.6909 -8.8194 L-44.6909 -4.6944 Q-44.6909 -4.46 -44.48 -4.4054 Q-44.2691 -4.3507 -43.9253 -4.3507 L-43.9253 -3.96 L-46.3159 -3.96 ZM-45.8472 -10.71 Q-45.8472 -10.96 -45.6675 -11.1397 Q-45.4878 -11.3194 -45.2534 -11.3194 Q-45.0972 -11.3194 -44.9488 -11.2413 Q-44.8003 -11.1632 -44.7222 -11.0147 Q-44.6441 -10.8663 -44.6441 -10.71 Q-44.6441 -10.4757 -44.8238 -10.296 Q-45.0034 -10.1163 -45.2534 -10.1163 Q-45.4878 -10.1163 -45.6675 -10.296 Q-45.8472 -10.4757 -45.8472 -10.71 Z\"\n",
       "      /><path style=\"stroke:none;\" d=\"M-43.276 -3.96 L-43.276 -4.3507 Q-42.901 -4.3507 -42.6588 -4.4054 Q-42.4166 -4.46 -42.4166 -4.6944 L-42.4166 -7.6944 Q-42.4166 -7.9913 -42.5026 -8.1241 Q-42.5885 -8.2569 -42.7604 -8.2882 Q-42.9323 -8.3194 -43.276 -8.3194 L-43.276 -8.71 L-41.6823 -8.8194 L-41.6823 -7.7413 Q-41.4635 -8.2257 -41.026 -8.5225 Q-40.5885 -8.8194 -40.0885 -8.8194 Q-38.8229 -8.8194 -38.6041 -7.7882 Q-38.3854 -8.2569 -37.9557 -8.5382 Q-37.526 -8.8194 -37.026 -8.8194 Q-36.526 -8.8194 -36.1823 -8.6554 Q-35.8385 -8.4913 -35.6666 -8.1632 Q-35.4948 -7.835 -35.4948 -7.335 L-35.4948 -4.6944 Q-35.4948 -4.46 -35.2526 -4.4054 Q-35.0104 -4.3507 -34.6354 -4.3507 L-34.6354 -3.96 L-37.151 -3.96 L-37.151 -4.3507 Q-36.776 -4.3507 -36.5338 -4.4054 Q-36.2916 -4.46 -36.2916 -4.6944 L-36.2916 -7.3038 Q-36.2916 -7.8663 -36.4479 -8.2022 Q-36.6041 -8.5382 -37.0885 -8.5382 Q-37.7291 -8.5382 -38.1432 -8.0304 Q-38.5573 -7.5225 -38.5573 -6.8663 L-38.5573 -4.6944 Q-38.5573 -4.46 -38.3151 -4.4054 Q-38.0729 -4.3507 -37.6979 -4.3507 L-37.6979 -3.96 L-40.2135 -3.96 L-40.2135 -4.3507 Q-39.8385 -4.3507 -39.5963 -4.4054 Q-39.3541 -4.46 -39.3541 -4.6944 L-39.3541 -7.3038 Q-39.3541 -7.8507 -39.5104 -8.1944 Q-39.6666 -8.5382 -40.151 -8.5382 Q-40.7916 -8.5382 -41.1979 -8.0304 Q-41.6041 -7.5225 -41.6041 -6.8663 L-41.6041 -4.6944 Q-41.6041 -4.46 -41.3698 -4.4054 Q-41.1354 -4.3507 -40.7604 -4.3507 L-40.7604 -3.96 L-43.276 -3.96 Z\"\n",
       "      /><path style=\"stroke:none;\" d=\"M-31.7031 -3.835 Q-32.3749 -3.835 -32.9296 -4.1866 Q-33.4843 -4.5382 -33.8046 -5.1241 Q-34.1249 -5.71 -34.1249 -6.3663 Q-34.1249 -7.0225 -33.8359 -7.6007 Q-33.5468 -8.1788 -33.0234 -8.5382 Q-32.4999 -8.8975 -31.8593 -8.8975 Q-31.3437 -8.8975 -30.9765 -8.7257 Q-30.6093 -8.5538 -30.3671 -8.2491 Q-30.1249 -7.9444 -29.9999 -7.5382 Q-29.8749 -7.1319 -29.8749 -6.6475 Q-29.8749 -6.5069 -29.9843 -6.5069 L-33.1718 -6.5069 L-33.1718 -6.3819 Q-33.1718 -5.4757 -32.8046 -4.8194 Q-32.4374 -4.1632 -31.5937 -4.1632 Q-31.2656 -4.1632 -30.9765 -4.3116 Q-30.6874 -4.46 -30.4765 -4.7257 Q-30.2656 -4.9913 -30.1874 -5.3038 Q-30.1718 -5.335 -30.1484 -5.3663 Q-30.1249 -5.3975 -30.0781 -5.3975 L-29.9843 -5.3975 Q-29.8749 -5.3975 -29.8749 -5.2569 Q-30.0312 -4.6319 -30.5468 -4.2335 Q-31.0624 -3.835 -31.7031 -3.835 ZM-33.1562 -6.7725 L-30.6562 -6.7725 Q-30.6562 -7.1944 -30.7656 -7.6163 Q-30.8749 -8.0382 -31.1484 -8.3194 Q-31.4218 -8.6007 -31.8593 -8.6007 Q-32.4843 -8.6007 -32.8203 -8.0147 Q-33.1562 -7.4288 -33.1562 -6.7725 Z\"\n",
       "      /><path style=\"stroke:none;\" d=\"M-25.6006 -3.96 L-25.6006 -4.3507 Q-25.2256 -4.3507 -24.9835 -4.4054 Q-24.7413 -4.46 -24.7413 -4.6944 L-24.7413 -7.6944 Q-24.7413 -7.9913 -24.8272 -8.1241 Q-24.9131 -8.2569 -25.0772 -8.2882 Q-25.2413 -8.3194 -25.6006 -8.3194 L-25.6006 -8.71 L-24.0225 -8.8194 L-24.0225 -7.7413 Q-23.8506 -8.2257 -23.5225 -8.5225 Q-23.1944 -8.8194 -22.7256 -8.8194 Q-22.3975 -8.8194 -22.1397 -8.6241 Q-21.8819 -8.4288 -21.8819 -8.1163 Q-21.8819 -7.9132 -22.0225 -7.7647 Q-22.1631 -7.6163 -22.3819 -7.6163 Q-22.585 -7.6163 -22.7256 -7.7647 Q-22.8663 -7.9132 -22.8663 -8.1163 Q-22.8663 -8.4132 -22.6631 -8.5382 L-22.7256 -8.5382 Q-23.1631 -8.5382 -23.4444 -8.2179 Q-23.7256 -7.8975 -23.8506 -7.4132 Q-23.9756 -6.9288 -23.9756 -6.5069 L-23.9756 -4.6944 Q-23.9756 -4.3507 -22.8975 -4.3507 L-22.8975 -3.96 L-25.6006 -3.96 Z\"\n",
       "      /><path style=\"stroke:none;\" d=\"M-18.8392 -3.835 Q-19.5111 -3.835 -20.0657 -4.1866 Q-20.6204 -4.5382 -20.9407 -5.1241 Q-21.2611 -5.71 -21.2611 -6.3663 Q-21.2611 -7.0225 -20.972 -7.6007 Q-20.6829 -8.1788 -20.1595 -8.5382 Q-19.6361 -8.8975 -18.9954 -8.8975 Q-18.4798 -8.8975 -18.1126 -8.7257 Q-17.7454 -8.5538 -17.5032 -8.2491 Q-17.2611 -7.9444 -17.1361 -7.5382 Q-17.0111 -7.1319 -17.0111 -6.6475 Q-17.0111 -6.5069 -17.1204 -6.5069 L-20.3079 -6.5069 L-20.3079 -6.3819 Q-20.3079 -5.4757 -19.9407 -4.8194 Q-19.5736 -4.1632 -18.7298 -4.1632 Q-18.4017 -4.1632 -18.1126 -4.3116 Q-17.8236 -4.46 -17.6126 -4.7257 Q-17.4017 -4.9913 -17.3236 -5.3038 Q-17.3079 -5.335 -17.2845 -5.3663 Q-17.2611 -5.3975 -17.2142 -5.3975 L-17.1204 -5.3975 Q-17.0111 -5.3975 -17.0111 -5.2569 Q-17.1673 -4.6319 -17.6829 -4.2335 Q-18.1986 -3.835 -18.8392 -3.835 ZM-20.2923 -6.7725 L-17.7923 -6.7725 Q-17.7923 -7.1944 -17.9017 -7.6163 Q-18.0111 -8.0382 -18.2845 -8.3194 Q-18.5579 -8.6007 -18.9954 -8.6007 Q-19.6204 -8.6007 -19.9564 -8.0147 Q-20.2923 -7.4288 -20.2923 -6.7725 Z\"\n",
       "      /><path style=\"stroke:none;\" d=\"M-13.9972 -3.96 L-15.6065 -8.0069 Q-15.7003 -8.21 -15.919 -8.2647 Q-16.1378 -8.3194 -16.4815 -8.3194 L-16.4815 -8.71 L-14.169 -8.71 L-14.169 -8.3194 Q-14.7784 -8.3194 -14.7784 -8.0538 Q-14.7784 -8.0069 -14.7784 -7.9913 L-13.544 -4.8819 L-12.419 -7.6944 Q-12.3878 -7.7725 -12.3878 -7.8663 Q-12.3878 -8.0694 -12.5519 -8.1944 Q-12.7159 -8.3194 -12.919 -8.3194 L-12.919 -8.71 L-11.0909 -8.71 L-11.0909 -8.3194 Q-11.4347 -8.3194 -11.6925 -8.1632 Q-11.9503 -8.0069 -12.0909 -7.6944 L-13.5753 -3.96 Q-13.6065 -3.835 -13.7472 -3.835 L-13.8253 -3.835 Q-13.9659 -3.835 -13.9972 -3.96 Z\"\n",
       "      /><path style=\"stroke:none;\" d=\"M-8.4503 -3.835 Q-9.1221 -3.835 -9.6768 -4.1866 Q-10.2315 -4.5382 -10.5518 -5.1241 Q-10.8721 -5.71 -10.8721 -6.3663 Q-10.8721 -7.0225 -10.5831 -7.6007 Q-10.294 -8.1788 -9.7706 -8.5382 Q-9.2471 -8.8975 -8.6065 -8.8975 Q-8.0909 -8.8975 -7.7237 -8.7257 Q-7.3565 -8.5538 -7.1143 -8.2491 Q-6.8721 -7.9444 -6.7471 -7.5382 Q-6.6221 -7.1319 -6.6221 -6.6475 Q-6.6221 -6.5069 -6.7315 -6.5069 L-9.919 -6.5069 L-9.919 -6.3819 Q-9.919 -5.4757 -9.5518 -4.8194 Q-9.1846 -4.1632 -8.3409 -4.1632 Q-8.0128 -4.1632 -7.7237 -4.3116 Q-7.4346 -4.46 -7.2237 -4.7257 Q-7.0128 -4.9913 -6.9346 -5.3038 Q-6.919 -5.335 -6.8956 -5.3663 Q-6.8721 -5.3975 -6.8253 -5.3975 L-6.7315 -5.3975 Q-6.6221 -5.3975 -6.6221 -5.2569 Q-6.7784 -4.6319 -7.294 -4.2335 Q-7.8096 -3.835 -8.4503 -3.835 ZM-9.9034 -6.7725 L-7.4034 -6.7725 Q-7.4034 -7.1944 -7.5128 -7.6163 Q-7.6221 -8.0382 -7.8956 -8.3194 Q-8.169 -8.6007 -8.6065 -8.6007 Q-9.2315 -8.6007 -9.5675 -8.0147 Q-9.9034 -7.4288 -9.9034 -6.7725 Z\"\n",
       "      /><path style=\"stroke:none;\" d=\"M-6.0145 -3.96 L-6.0145 -4.3507 Q-5.6395 -4.3507 -5.3973 -4.4054 Q-5.1551 -4.46 -5.1551 -4.6944 L-5.1551 -7.6944 Q-5.1551 -7.9913 -5.2411 -8.1241 Q-5.327 -8.2569 -5.4911 -8.2882 Q-5.6551 -8.3194 -6.0145 -8.3194 L-6.0145 -8.71 L-4.4364 -8.8194 L-4.4364 -7.7413 Q-4.2645 -8.2257 -3.9364 -8.5225 Q-3.6083 -8.8194 -3.1395 -8.8194 Q-2.8114 -8.8194 -2.5536 -8.6241 Q-2.2958 -8.4288 -2.2958 -8.1163 Q-2.2958 -7.9132 -2.4364 -7.7647 Q-2.577 -7.6163 -2.7958 -7.6163 Q-2.9989 -7.6163 -3.1395 -7.7647 Q-3.2801 -7.9132 -3.2801 -8.1163 Q-3.2801 -8.4132 -3.077 -8.5382 L-3.1395 -8.5382 Q-3.577 -8.5382 -3.8583 -8.2179 Q-4.1395 -7.8975 -4.2645 -7.4132 Q-4.3895 -6.9288 -4.3895 -6.5069 L-4.3895 -4.6944 Q-4.3895 -4.3507 -3.3114 -4.3507 L-3.3114 -3.96 L-6.0145 -3.96 Z\"\n",
       "      /><path style=\"stroke:none;\" d=\"M-1.628 -3.9288 L-1.628 -5.7257 Q-1.628 -5.8038 -1.5187 -5.8038 L-1.3937 -5.8038 Q-1.3312 -5.8038 -1.2999 -5.7257 Q-1.003 -4.1319 0.1845 -4.1319 Q0.7001 -4.1319 1.0516 -4.3663 Q1.4032 -4.6007 1.4032 -5.1007 Q1.4032 -5.4444 1.1298 -5.6944 Q0.8563 -5.9444 0.4813 -6.0382 L-0.253 -6.1788 Q-0.628 -6.2569 -0.9327 -6.4288 Q-1.2374 -6.6007 -1.4327 -6.8741 Q-1.628 -7.1475 -1.628 -7.5225 Q-1.628 -8.0069 -1.3702 -8.3116 Q-1.1124 -8.6163 -0.7062 -8.7569 Q-0.2999 -8.8975 0.1845 -8.8975 Q0.747 -8.8975 1.1532 -8.585 L1.4813 -8.8663 Q1.4813 -8.8975 1.5282 -8.8975 L1.6063 -8.8975 Q1.6376 -8.8975 1.6688 -8.8663 Q1.7001 -8.835 1.7001 -8.8038 L1.7001 -7.3663 Q1.7001 -7.2569 1.6063 -7.2569 L1.4813 -7.2569 Q1.3876 -7.2569 1.3876 -7.3663 Q1.3876 -7.9288 1.0673 -8.2804 Q0.747 -8.6319 0.1688 -8.6319 Q-0.3312 -8.6319 -0.6905 -8.4522 Q-1.0499 -8.2725 -1.0499 -7.8194 Q-1.0499 -7.5225 -0.7921 -7.3194 Q-0.5343 -7.1163 -0.1749 -7.0382 L0.5595 -6.8975 Q0.9345 -6.8194 1.2626 -6.6085 Q1.5907 -6.3975 1.7782 -6.0929 Q1.9657 -5.7882 1.9657 -5.3819 Q1.9657 -4.9913 1.8329 -4.7022 Q1.7001 -4.4132 1.4579 -4.2179 Q1.2157 -4.0225 0.8798 -3.9288 Q0.5438 -3.835 0.1845 -3.835 Q-0.503 -3.835 -1.003 -4.3038 L-1.4093 -3.8663 Q-1.4093 -3.835 -1.4562 -3.835 L-1.5187 -3.835 Q-1.628 -3.835 -1.628 -3.9288 Z\"\n",
       "      /><path style=\"stroke:none;\" d=\"M2.789 -5.0382 Q2.789 -5.6944 3.3046 -6.1085 Q3.8202 -6.5225 4.5468 -6.6866 Q5.2733 -6.8507 5.914 -6.8507 L5.914 -7.3038 Q5.914 -7.6163 5.7733 -7.921 Q5.6327 -8.2257 5.3749 -8.4132 Q5.1171 -8.6007 4.789 -8.6007 Q4.0702 -8.6007 3.6796 -8.2725 Q3.8983 -8.2725 4.0312 -8.1163 Q4.164 -7.96 4.164 -7.7413 Q4.164 -7.5225 4.0077 -7.3663 Q3.8515 -7.21 3.6483 -7.21 Q3.414 -7.21 3.2577 -7.3663 Q3.1015 -7.5225 3.1015 -7.7413 Q3.1015 -8.3194 3.6327 -8.6085 Q4.164 -8.8975 4.789 -8.8975 Q5.2421 -8.8975 5.6952 -8.7022 Q6.1483 -8.5069 6.4296 -8.1554 Q6.7108 -7.8038 6.7108 -7.335 L6.7108 -4.8507 Q6.7108 -4.6319 6.8046 -4.4522 Q6.8983 -4.2725 7.1015 -4.2725 Q7.2733 -4.2725 7.3671 -4.46 Q7.4608 -4.6475 7.4608 -4.8507 L7.4608 -5.5538 L7.7733 -5.5538 L7.7733 -4.8507 Q7.7733 -4.6007 7.6483 -4.3819 Q7.5233 -4.1632 7.3046 -4.0304 Q7.0858 -3.8975 6.8358 -3.8975 Q6.5077 -3.8975 6.2733 -4.1475 Q6.039 -4.3975 6.0077 -4.7413 Q5.8046 -4.3194 5.414 -4.0772 Q5.0233 -3.835 4.5702 -3.835 Q4.1483 -3.835 3.7421 -3.96 Q3.3358 -4.085 3.0624 -4.3507 Q2.789 -4.6163 2.789 -5.0382 ZM3.6796 -5.0382 Q3.6796 -4.6475 3.9687 -4.3897 Q4.2577 -4.1319 4.6327 -4.1319 Q4.9921 -4.1319 5.2812 -4.3038 Q5.5702 -4.4757 5.7421 -4.7882 Q5.914 -5.1007 5.914 -5.4288 L5.914 -6.5694 Q5.414 -6.5694 4.8905 -6.4054 Q4.3671 -6.2413 4.0233 -5.8975 Q3.6796 -5.5538 3.6796 -5.0382 Z\"\n",
       "      /><path style=\"stroke:none;\" d=\"M8.1952 -3.96 L8.1952 -4.3507 Q8.5702 -4.3507 8.8124 -4.4054 Q9.0546 -4.46 9.0546 -4.6944 L9.0546 -10.4757 Q9.0546 -10.7725 8.9609 -10.8975 Q8.8671 -11.0225 8.703 -11.0538 Q8.539 -11.085 8.1952 -11.085 L8.1952 -11.4757 L9.8202 -11.585 L9.8202 -4.6944 Q9.8202 -4.46 10.0624 -4.4054 Q10.3046 -4.3507 10.6796 -4.3507 L10.6796 -3.96 L8.1952 -3.96 Z\"\n",
       "      /><path style=\"stroke:none;\" d=\"M15.0737 -3.96 Q14.9643 -3.96 14.9643 -4.1007 Q15.0112 -4.3507 15.105 -4.3507 Q15.5425 -4.3507 15.8706 -4.5225 Q16.1987 -4.6944 16.4331 -5.0694 Q16.4487 -5.1007 16.4487 -5.1007 L20.3862 -11.71 Q20.4643 -11.835 20.5893 -11.835 L20.73 -11.835 Q20.7612 -11.835 20.7925 -11.8194 Q20.8237 -11.8038 20.855 -11.7725 Q20.8862 -11.7413 20.8862 -11.71 L21.5425 -4.6163 Q21.5425 -4.5694 21.5893 -4.46 Q21.6987 -4.3507 22.4175 -4.3507 Q22.5268 -4.3507 22.5268 -4.1944 Q22.4956 -4.0538 22.4721 -4.0069 Q22.4487 -3.96 22.3393 -3.96 L19.5893 -3.96 Q19.4956 -3.96 19.4956 -4.1007 Q19.5425 -4.3507 19.6362 -4.3507 Q20.5112 -4.3507 20.5581 -4.6475 L20.3862 -6.46 L17.6831 -6.46 L16.7925 -4.9757 Q16.7143 -4.8663 16.7143 -4.71 Q16.7143 -4.5069 16.9018 -4.4288 Q17.0893 -4.3507 17.3081 -4.3507 Q17.4175 -4.3507 17.4175 -4.1944 Q17.3862 -4.0538 17.3628 -4.0069 Q17.3393 -3.96 17.2456 -3.96 L15.0737 -3.96 ZM17.8862 -6.8507 L20.355 -6.8507 L20.0268 -10.4132 L17.8862 -6.8507 Z\"\n",
       "      /><path style=\"stroke:none;\" d=\"M23.9956 -5.1632 Q23.9956 -5.5225 24.0893 -5.8975 Q24.1831 -6.2725 24.355 -6.7413 Q24.5268 -7.21 24.6675 -7.5538 Q24.8081 -7.9444 24.8081 -8.21 Q24.8081 -8.5382 24.5581 -8.5382 Q24.1362 -8.5382 23.8472 -8.085 Q23.5581 -7.6319 23.4331 -7.085 Q23.4018 -7.0225 23.3393 -7.0225 L23.2143 -7.0225 Q23.1206 -7.0225 23.1206 -7.1163 L23.1206 -7.1475 Q23.2925 -7.8038 23.6597 -8.3116 Q24.0268 -8.8194 24.5893 -8.8194 Q24.98 -8.8194 25.2534 -8.5616 Q25.5268 -8.3038 25.5268 -7.9132 Q25.5268 -7.71 25.4331 -7.4757 Q25.3862 -7.3507 25.2143 -6.8975 Q25.0425 -6.4444 24.9487 -6.1475 Q24.855 -5.8507 24.7925 -5.5694 Q24.73 -5.2882 24.73 -4.9913 Q24.73 -4.6319 24.8862 -4.3819 Q25.0425 -4.1319 25.4018 -4.1319 Q26.105 -4.1319 26.6362 -4.9913 Q26.6362 -5.0382 26.644 -5.0772 Q26.6518 -5.1163 26.6675 -5.1632 L27.4487 -8.3507 Q27.4956 -8.4913 27.6284 -8.6007 Q27.7612 -8.71 27.9175 -8.71 Q28.0425 -8.71 28.144 -8.6241 Q28.2456 -8.5382 28.2456 -8.3975 Q28.2456 -8.3194 28.2456 -8.3038 L27.4487 -5.1319 Q27.3706 -4.8038 27.3706 -4.6007 Q27.3706 -4.1319 27.6831 -4.1319 Q28.0425 -4.1319 28.2143 -4.5694 Q28.3862 -5.0069 28.5112 -5.5694 Q28.5268 -5.6475 28.605 -5.6475 L28.73 -5.6475 Q28.7768 -5.6475 28.8003 -5.6085 Q28.8237 -5.5694 28.8237 -5.5382 Q28.7143 -5.0538 28.605 -4.7179 Q28.4956 -4.3819 28.2534 -4.1085 Q28.0112 -3.835 27.6675 -3.835 Q27.3081 -3.835 27.0347 -4.0304 Q26.7612 -4.2257 26.6675 -4.5382 Q26.4175 -4.2257 26.0815 -4.0304 Q25.7456 -3.835 25.3706 -3.835 Q24.7456 -3.835 24.3706 -4.1788 Q23.9956 -4.5225 23.9956 -5.1632 Z\"\n",
       "      /><path style=\"stroke:none;\" d=\"M31.1208 -2.1382 Q30.1364 -2.1382 29.7848 -2.9429 Q29.4333 -3.7476 29.4333 -4.8569 Q29.4333 -5.5601 29.5583 -6.1694 Q29.6833 -6.7788 30.0661 -7.2085 Q30.4489 -7.6382 31.1208 -7.6382 Q31.652 -7.6382 31.9879 -7.3804 Q32.3239 -7.1226 32.4958 -6.7163 Q32.6676 -6.3101 32.7379 -5.8413 Q32.8083 -5.3726 32.8083 -4.8569 Q32.8083 -4.1694 32.6754 -3.5757 Q32.5426 -2.9819 32.1754 -2.5601 Q31.8083 -2.1382 31.1208 -2.1382 ZM31.1208 -2.3413 Q31.5739 -2.3413 31.7926 -2.8022 Q32.0114 -3.2632 32.0583 -3.8179 Q32.1051 -4.3726 32.1051 -4.9976 Q32.1051 -5.5913 32.0583 -6.0991 Q32.0114 -6.6069 31.7926 -7.021 Q31.5739 -7.4351 31.1208 -7.4351 Q30.6676 -7.4351 30.4489 -7.021 Q30.2301 -6.6069 30.1833 -6.0991 Q30.1364 -5.5913 30.1364 -4.9976 Q30.1364 -4.5444 30.152 -4.1538 Q30.1676 -3.7632 30.2614 -3.3413 Q30.3551 -2.9194 30.5661 -2.6304 Q30.777 -2.3413 31.1208 -2.3413 Z\"\n",
       "      /><path style=\"stroke:none;\" d=\"M36.927 -1.2257 Q36.3176 -1.71 35.8723 -2.335 Q35.427 -2.96 35.1458 -3.671 Q34.8645 -4.3819 34.7239 -5.1554 Q34.5833 -5.9288 34.5833 -6.71 Q34.5833 -7.5069 34.7239 -8.2804 Q34.8645 -9.0538 35.1536 -9.7647 Q35.4426 -10.4757 35.888 -11.1007 Q36.3333 -11.7257 36.927 -12.1944 Q36.927 -12.21 36.9895 -12.21 L37.0833 -12.21 Q37.1145 -12.21 37.1458 -12.1788 Q37.177 -12.1475 37.177 -12.1163 Q37.177 -12.0694 37.1458 -12.0382 Q36.6145 -11.5225 36.2551 -10.921 Q35.8958 -10.3194 35.677 -9.6397 Q35.4583 -8.96 35.3645 -8.2335 Q35.2708 -7.5069 35.2708 -6.71 Q35.2708 -3.21 37.1458 -1.3975 Q37.177 -1.3663 37.177 -1.3038 Q37.177 -1.2725 37.1458 -1.2413 Q37.1145 -1.21 37.0833 -1.21 L36.9895 -1.21 Q36.927 -1.21 36.927 -1.2257 Z\"\n",
       "      /><path style=\"stroke:none;\" d=\"M38.9236 -6.4913 Q38.8298 -6.4913 38.7673 -6.5616 Q38.7048 -6.6319 38.7048 -6.71 Q38.7048 -6.7882 38.7673 -6.8585 Q38.8298 -6.9288 38.9236 -6.9288 L45.2361 -6.9288 Q45.3142 -6.9288 45.3689 -6.8585 Q45.4236 -6.7882 45.4236 -6.71 Q45.4236 -6.6319 45.3689 -6.5616 Q45.3142 -6.4913 45.2361 -6.4913 L38.9236 -6.4913 Z\"\n",
       "      /><path style=\"stroke:none;\" d=\"M47.0416 -4.8507 Q47.0416 -5.0069 47.0729 -5.1632 L47.8698 -8.3194 L46.7135 -8.3194 Q46.5885 -8.3194 46.5885 -8.46 Q46.6354 -8.71 46.7448 -8.71 L47.9635 -8.71 L48.401 -10.4913 Q48.4479 -10.6475 48.5729 -10.7491 Q48.6979 -10.8507 48.8698 -10.8507 Q48.9948 -10.8507 49.0963 -10.7647 Q49.1979 -10.6788 49.1979 -10.5382 Q49.1979 -10.5069 49.1901 -10.4913 Q49.1823 -10.4757 49.1823 -10.4444 L48.7448 -8.71 L49.8698 -8.71 Q49.9791 -8.71 49.9791 -8.5538 Q49.9791 -8.5382 49.9635 -8.4679 Q49.9479 -8.3975 49.9244 -8.3585 Q49.901 -8.3194 49.8385 -8.3194 L48.6354 -8.3194 L47.8541 -5.1319 Q47.776 -4.8194 47.776 -4.6007 Q47.776 -4.1319 48.0885 -4.1319 Q48.5729 -4.1319 48.9479 -4.585 Q49.3229 -5.0382 49.526 -5.5694 Q49.5729 -5.6475 49.6041 -5.6475 L49.7448 -5.6475 Q49.7916 -5.6475 49.8151 -5.6163 Q49.8385 -5.585 49.8385 -5.5382 Q49.8385 -5.5225 49.8229 -5.5069 Q49.5885 -4.8507 49.1276 -4.3429 Q48.6666 -3.835 48.0729 -3.835 Q47.6354 -3.835 47.3385 -4.1241 Q47.0416 -4.4132 47.0416 -4.8507 Z\"\n",
       "      /><path style=\"stroke:none;\" d=\"M51.0451 -1.21 Q50.9514 -1.21 50.9514 -1.3038 Q50.9514 -1.3507 50.967 -1.3819 Q52.842 -3.21 52.842 -6.71 Q52.842 -10.21 50.9826 -12.0225 Q50.9514 -12.0538 50.9514 -12.1163 Q50.9514 -12.1475 50.9748 -12.1788 Q50.9982 -12.21 51.0451 -12.21 L51.1389 -12.21 Q51.1701 -12.21 51.2014 -12.1944 Q51.9826 -11.5694 52.5139 -10.6788 Q53.0451 -9.7882 53.2873 -8.7725 Q53.5295 -7.7569 53.5295 -6.71 Q53.5295 -5.9288 53.3967 -5.1788 Q53.2639 -4.4288 52.9748 -3.6944 Q52.6857 -2.96 52.2482 -2.335 Q51.8107 -1.71 51.2014 -1.2257 Q51.1701 -1.21 51.1389 -1.21 L51.0451 -1.21 Z\"\n",
       "    /></g\n",
       "    ><g style=\"stroke-linecap:butt; fill:rgb(0,114,189); text-rendering:geometricPrecision; image-rendering:optimizeQuality; color-rendering:optimizeQuality; stroke-linejoin:round; stroke:rgb(0,114,189); color-interpolation:linearRGB; stroke-width:0.5;\"\n",
       "    ><path d=\"M73 65.75 L74.0023 65.75 L75.0046 65.75 L76.0069 65.75 L77.0092 65.75 L78.0116 65.75 L79.0138 65.75 L80.0162 65.75 L81.0185 65.75 L82.0208 65.75 L83.0231 65.75 L84.0254 65.75 L85.0277 65.75 L86.03 65.75 L87.0323 65.75 L88.0346 65.75 L89.037 65.75 L90.0393 65.75 L91.0416 65.75 L92.0439 65.75 L93.0462 65.75 L94.0485 65.75 L95.0508 65.75 L96.0531 65.75 L97.0554 65.75 L98.0577 65.75 L99.0601 65.75 L100.0624 65.75 L101.0647 65.75 L102.067 65.75 L103.0693 65.75 L104.0716 65.75 L105.0739 65.75 L106.0762 65.75 L107.0785 65.75 L108.0808 65.75 L109.0831 65.75 L110.0854 65.75 L111.0878 65.75 L112.0901 65.75 L113.0924 65.75 L114.0947 65.75 L115.097 65.75 L116.0993 65.75 L117.1016 65.75 L118.1039 65.75 L119.1062 65.75 L120.1085 65.75 L121.1109 65.75 L122.1132 65.75 L123.1155 65.75 L124.1178 65.75 L125.1201 65.75 L126.1224 65.75 L127.1247 65.75 L128.127 65.75 L129.1293 65.75 L130.1316 65.75 L131.1339 65.75 L132.1363 65.75 L133.1386 65.75 L134.1409 65.75 L135.1432 65.75 L136.1455 65.75 L137.1478 65.75 L138.1501 65.75 L139.1524 65.75 L140.1547 65.75 L141.157 65.75 L142.1593 65.75 L143.1617 65.75 L144.164 65.75 L145.1663 65.75 L146.1686 65.75 L147.1709 65.75 L148.1732 65.75 L149.1755 65.75 L150.1778 65.75 L151.1801 65.75 L152.1824 65.75 L153.1848 65.75 L154.1871 65.75 L155.1894 65.75 L156.1917 65.75 L157.194 65.75 L158.1963 65.75 L159.1986 65.75 L160.2009 65.75 L161.2032 65.75 L162.2055 65.75 L163.2079 65.75 L164.2102 65.75 L165.2125 65.75 L166.2148 65.75 L167.2171 65.75 L168.2194 65.75 L169.2217 65.75 L170.224 65.75 L171.2263 65.75 L172.2286 65.75 L173.2309 65.75 L174.2332 65.75 L175.2356 65.75 L176.2379 65.75 L177.2402 65.75 L178.2425 65.75 L179.2448 65.75 L180.2471 65.75 L181.2494 65.75 L182.2517 65.75 L183.254 65.75 L184.2563 65.75 L185.2587 65.75 L186.261 65.75 L187.2633 65.75 L188.2656 65.75 L189.2679 65.75 L190.2702 65.75 L191.2725 65.75 L192.2748 65.75 L193.2771 65.75 L194.2794 65.75 L195.2818 65.75 L196.2841 65.75 L197.2864 65.75 L198.2887 65.75 L199.291 65.75 L200.2933 65.75 L201.2956 65.75 L202.2979 65.75 L203.3002 65.75 L204.3025 65.75 L205.3048 65.75 L206.3072 65.75 L207.3095 65.75 L208.3118 65.75 L209.3141 65.75 L210.3164 65.75 L211.3187 65.75 L212.321 65.75 L213.3233 65.75 L214.3256 65.75 L215.3279 65.75 L216.3303 65.75 L217.3326 65.75 L218.3349 65.75 L219.3372 65.75 L220.3395 65.75 L221.3418 65.75 L222.3441 65.75 L223.3464 65.75 L224.3487 65.75 L225.351 65.75 L226.3533 65.75 L227.3557 65.75 L228.358 65.75 L229.3603 65.75 L230.3626 65.75 L231.3649 65.75 L232.3672 65.75 L233.3695 65.75 L234.3718 65.75 L235.3741 65.75 L236.3764 65.75 L237.3788 65.75 L238.3811 65.75 L239.3834 65.75 L240.3857 65.75 L241.388 65.75 L242.3903 65.75 L243.3926 65.75 L244.3949 65.75 L245.3972 65.75 L246.3995 65.75 L247.4019 65.75 L248.4042 65.75 L249.4065 65.75 L250.4088 65.75 L251.4111 65.75 L252.4134 65.75 L253.4157 65.75 L254.418 65.75 L255.4203 65.75 L256.4226 65.75 L257.4249 65.75 L258.4272 65.75 L259.4296 65.75 L260.4319 65.75 L261.4342 65.75 L262.4365 65.75 L263.4388 65.75 L264.4411 65.75 L265.4434 65.75 L266.4457 65.75 L267.448 65.75 L268.4503 65.75 L269.4527 65.75 L270.455 65.75 L271.4573 65.75 L272.4596 65.75 L273.4619 65.75 L274.4642 65.75 L275.4665 65.75 L276.4688 65.75 L277.4711 65.75 L278.4734 65.75 L279.4757 65.75 L280.4781 65.75 L281.4804 65.75 L282.4827 65.75 L283.485 65.75 L284.4873 65.75 L285.4896 65.75 L286.4919 65.75 L287.4942 65.75 L288.4965 65.75 L289.4988 65.75 L290.5012 339.75 L291.5035 339.75 L292.5058 339.75 L293.5081 339.75 L294.5104 339.75 L295.5127 339.75 L296.515 339.75 L297.5173 339.75 L298.5196 339.75 L299.5219 339.75 L300.5243 339.75 L301.5266 339.75 L302.5289 339.75 L303.5312 339.75 L304.5335 339.75 L305.5358 339.75 L306.5381 339.75 L307.5404 339.75 L308.5427 339.75 L309.545 339.75 L310.5473 339.75 L311.5497 339.75 L312.552 339.75 L313.5543 339.75 L314.5566 339.75 L315.5589 339.75 L316.5612 339.75 L317.5635 339.75 L318.5658 339.75 L319.5681 339.75 L320.5704 339.75 L321.5728 339.75 L322.5751 339.75 L323.5774 339.75 L324.5797 339.75 L325.582 339.75 L326.5843 339.75 L327.5866 339.75 L328.5889 339.75 L329.5912 339.75 L330.5935 339.75 L331.5959 339.75 L332.5981 339.75 L333.6005 339.75 L334.6028 339.75 L335.6051 339.75 L336.6074 339.75 L337.6097 339.75 L338.612 339.75 L339.6143 339.75 L340.6166 339.75 L341.6189 339.75 L342.6212 339.75 L343.6236 339.75 L344.6259 339.75 L345.6282 339.75 L346.6305 339.75 L347.6328 339.75 L348.6351 339.75 L349.6374 339.75 L350.6397 339.75 L351.642 339.75 L352.6443 339.75 L353.6466 339.75 L354.649 339.75 L355.6513 339.75 L356.6536 339.75 L357.6559 339.75 L358.6582 339.75 L359.6605 339.75 L360.6628 339.75 L361.6651 339.75 L362.6674 339.75 L363.6697 339.75 L364.6721 339.75 L365.6744 339.75 L366.6767 339.75 L367.679 339.75 L368.6813 339.75 L369.6836 339.75 L370.6859 339.75 L371.6882 339.75 L372.6905 339.75 L373.6928 339.75 L374.6952 339.75 L375.6974 339.75 L376.6998 339.75 L377.7021 339.75 L378.7044 339.75 L379.7067 339.75 L380.709 339.75 L381.7113 339.75 L382.7136 339.75 L383.7159 339.75 L384.7182 339.75 L385.7206 339.75 L386.7229 339.75 L387.7252 339.75 L388.7275 339.75 L389.7298 339.75 L390.7321 339.75 L391.7344 339.75 L392.7367 339.75 L393.739 339.75 L394.7413 339.75 L395.7437 339.75 L396.746 339.75 L397.7483 339.75 L398.7506 339.75 L399.7529 339.75 L400.7552 339.75 L401.7575 339.75 L402.7598 339.75 L403.7621 339.75 L404.7644 339.75 L405.7668 339.75 L406.7691 339.75 L407.7714 339.75 L408.7737 339.75 L409.776 339.75 L410.7783 339.75 L411.7806 339.75 L412.7829 339.75 L413.7852 339.75 L414.7875 339.75 L415.7899 339.75 L416.7921 339.75 L417.7945 339.75 L418.7968 339.75 L419.7991 339.75 L420.8014 339.75 L421.8037 339.75 L422.806 339.75 L423.8083 339.75 L424.8106 339.75 L425.8129 339.75 L426.8152 339.75 L427.8176 339.75 L428.8199 339.75 L429.8222 339.75 L430.8245 339.75 L431.8268 339.75 L432.8291 339.75 L433.8314 339.75 L434.8337 339.75 L435.836 339.75 L436.8383 339.75 L437.8406 339.75 L438.843 339.75 L439.8453 339.75 L440.8476 339.75 L441.8499 339.75 L442.8522 339.75 L443.8545 339.75 L444.8568 339.75 L445.8591 339.75 L446.8614 339.75 L447.8637 339.75 L448.8661 339.75 L449.8683 339.75 L450.8707 339.75 L451.873 339.75 L452.8753 339.75 L453.8776 339.75 L454.8799 339.75 L455.8822 339.75 L456.8845 339.75 L457.8868 339.75 L458.8891 339.75 L459.8914 339.75 L460.8938 339.75 L461.8961 339.75 L462.8984 339.75 L463.9007 339.75 L464.903 339.75 L465.9053 339.75 L466.9076 339.75 L467.9099 339.75 L468.9122 339.75 L469.9146 339.75 L470.9169 339.75 L471.9192 339.75 L472.9215 339.75 L473.9238 339.75 L474.9261 339.75 L475.9284 339.75 L476.9307 339.75 L477.933 339.75 L478.9353 339.75 L479.9377 339.75 L480.9399 339.75 L481.9423 339.75 L482.9446 339.75 L483.9469 339.75 L484.9492 339.75 L485.9515 339.75 L486.9538 339.75 L487.9561 339.75 L488.9584 339.75 L489.9607 339.75 L490.963 339.75 L491.9654 339.75 L492.9677 339.75 L493.97 339.75 L494.9723 339.75 L495.9746 339.75 L496.9769 339.75 L497.9792 339.75 L498.9815 339.75 L499.9838 339.75 L500.9861 339.75 L501.9884 339.75 L502.9908 339.75 L503.9931 339.75 L504.9954 339.75 L505.9977 339.75 L507 339.75\" style=\"fill:none; fill-rule:evenodd;\"\n",
       "    /></g\n",
       "  ></g\n",
       "></svg\n",
       ">\n"
      ]
     },
     "metadata": {
      "filenames": {
       "image/svg+xml": "/Users/eechris/code/src/github.com/cpjobling/eg-247-textbook/_build/jupyter_execute/elementary_signals/index_18_0.svg"
      }
     },
     "output_type": "display_data"
    }
   ],
   "source": [
    "ezplot(A*u0(-t),[-1,1]),grid,title('Time reversal $$Au_0(-t)$$','interpreter','latex')"
   ]
  },
  {
   "cell_type": "markdown",
   "id": "469c622d",
   "metadata": {
    "slideshow": {
     "slide_type": "notes"
    }
   },
   "source": [
    "The sign on the function argument $-t$ causes the whole signal to be reversed in time. Note that another way of looking at this is that the signal is mirrored about the $y$ axis."
   ]
  },
  {
   "cell_type": "markdown",
   "id": "f42accf3",
   "metadata": {
    "slideshow": {
     "slide_type": "subslide"
    }
   },
   "source": [
    "### Time Delay and Advance\n",
    "\n",
    "Sketch $u_0(t-T)$ and $u_0(t+T)$"
   ]
  },
  {
   "cell_type": "code",
   "execution_count": 6,
   "id": "5dd345a5",
   "metadata": {
    "slideshow": {
     "slide_type": "subslide"
    }
   },
   "outputs": [
    {
     "data": {
      "image/svg+xml": [
       "<?xml version=\"1.0\"?>\n",
       "<!DOCTYPE svg PUBLIC '-//W3C//DTD SVG 1.0//EN'\n",
       "          'http://www.w3.org/TR/2001/REC-SVG-20010904/DTD/svg10.dtd'>\n",
       "<svg xmlns:xlink=\"http://www.w3.org/1999/xlink\" style=\"fill-opacity:1; color-rendering:auto; color-interpolation:auto; text-rendering:auto; stroke:black; stroke-linecap:square; stroke-miterlimit:10; shape-rendering:auto; stroke-opacity:1; fill:black; stroke-dasharray:none; font-weight:normal; stroke-width:1; font-family:'Dialog'; font-style:normal; stroke-linejoin:miter; font-size:12px; stroke-dashoffset:0; image-rendering:auto;\" width=\"560\" height=\"420\" xmlns=\"http://www.w3.org/2000/svg\"\n",
       "><!--Generated by the Batik Graphics2D SVG Generator--><defs id=\"genericDefs\"\n",
       "  /><g\n",
       "  ><defs id=\"defs1\"\n",
       "    ><clipPath clipPathUnits=\"userSpaceOnUse\" id=\"clipPath1\"\n",
       "      ><path d=\"M0 0 L560 0 L560 420 L0 420 L0 0 Z\"\n",
       "      /></clipPath\n",
       "    ></defs\n",
       "    ><g style=\"fill:white; stroke:white;\"\n",
       "    ><rect x=\"0\" y=\"0\" width=\"560\" style=\"clip-path:url(#clipPath1); stroke:none;\" height=\"420\"\n",
       "    /></g\n",
       "    ><g style=\"fill:white; text-rendering:optimizeSpeed; color-rendering:optimizeSpeed; image-rendering:optimizeSpeed; shape-rendering:crispEdges; stroke:white; color-interpolation:sRGB;\"\n",
       "    ><rect x=\"0\" width=\"560\" height=\"420\" y=\"0\" style=\"stroke:none;\"\n",
       "      /><path style=\"stroke:none;\" d=\"M73 374 L507 374 L507 31.5 L73 31.5 Z\"\n",
       "    /></g\n",
       "    ><g style=\"stroke-linecap:butt; fill-opacity:0.149; fill:rgb(38,38,38); text-rendering:geometricPrecision; image-rendering:optimizeQuality; color-rendering:optimizeQuality; stroke-linejoin:round; stroke:rgb(38,38,38); color-interpolation:linearRGB; stroke-width:0.5; stroke-opacity:0.149;\"\n",
       "    ><line y2=\"31.5\" style=\"fill:none;\" x1=\"73\" x2=\"73\" y1=\"374\"\n",
       "      /><line y2=\"31.5\" style=\"fill:none;\" x1=\"145.3333\" x2=\"145.3333\" y1=\"374\"\n",
       "      /><line y2=\"31.5\" style=\"fill:none;\" x1=\"217.6667\" x2=\"217.6667\" y1=\"374\"\n",
       "      /><line y2=\"31.5\" style=\"fill:none;\" x1=\"290\" x2=\"290\" y1=\"374\"\n",
       "      /><line y2=\"31.5\" style=\"fill:none;\" x1=\"362.3333\" x2=\"362.3333\" y1=\"374\"\n",
       "      /><line y2=\"31.5\" style=\"fill:none;\" x1=\"434.6667\" x2=\"434.6667\" y1=\"374\"\n",
       "      /><line y2=\"31.5\" style=\"fill:none;\" x1=\"507\" x2=\"507\" y1=\"374\"\n",
       "      /><line y2=\"339.75\" style=\"fill:none;\" x1=\"507\" x2=\"73\" y1=\"339.75\"\n",
       "      /><line y2=\"284.95\" style=\"fill:none;\" x1=\"507\" x2=\"73\" y1=\"284.95\"\n",
       "      /><line y2=\"230.15\" style=\"fill:none;\" x1=\"507\" x2=\"73\" y1=\"230.15\"\n",
       "      /><line y2=\"175.35\" style=\"fill:none;\" x1=\"507\" x2=\"73\" y1=\"175.35\"\n",
       "      /><line y2=\"120.55\" style=\"fill:none;\" x1=\"507\" x2=\"73\" y1=\"120.55\"\n",
       "      /><line y2=\"65.75\" style=\"fill:none;\" x1=\"507\" x2=\"73\" y1=\"65.75\"\n",
       "      /><line x1=\"73\" x2=\"507\" y1=\"374\" style=\"stroke-linecap:square; fill-opacity:1; fill:none; stroke-opacity:1;\" y2=\"374\"\n",
       "      /><line x1=\"73\" x2=\"507\" y1=\"31.5\" style=\"stroke-linecap:square; fill-opacity:1; fill:none; stroke-opacity:1;\" y2=\"31.5\"\n",
       "      /><line x1=\"73\" x2=\"73\" y1=\"374\" style=\"stroke-linecap:square; fill-opacity:1; fill:none; stroke-opacity:1;\" y2=\"369.66\"\n",
       "      /><line x1=\"145.3333\" x2=\"145.3333\" y1=\"374\" style=\"stroke-linecap:square; fill-opacity:1; fill:none; stroke-opacity:1;\" y2=\"369.66\"\n",
       "      /><line x1=\"217.6667\" x2=\"217.6667\" y1=\"374\" style=\"stroke-linecap:square; fill-opacity:1; fill:none; stroke-opacity:1;\" y2=\"369.66\"\n",
       "      /><line x1=\"290\" x2=\"290\" y1=\"374\" style=\"stroke-linecap:square; fill-opacity:1; fill:none; stroke-opacity:1;\" y2=\"369.66\"\n",
       "      /><line x1=\"362.3333\" x2=\"362.3333\" y1=\"374\" style=\"stroke-linecap:square; fill-opacity:1; fill:none; stroke-opacity:1;\" y2=\"369.66\"\n",
       "      /><line x1=\"434.6667\" x2=\"434.6667\" y1=\"374\" style=\"stroke-linecap:square; fill-opacity:1; fill:none; stroke-opacity:1;\" y2=\"369.66\"\n",
       "      /><line x1=\"507\" x2=\"507\" y1=\"374\" style=\"stroke-linecap:square; fill-opacity:1; fill:none; stroke-opacity:1;\" y2=\"369.66\"\n",
       "      /><line x1=\"73\" x2=\"73\" y1=\"31.5\" style=\"stroke-linecap:square; fill-opacity:1; fill:none; stroke-opacity:1;\" y2=\"35.84\"\n",
       "      /><line x1=\"145.3333\" x2=\"145.3333\" y1=\"31.5\" style=\"stroke-linecap:square; fill-opacity:1; fill:none; stroke-opacity:1;\" y2=\"35.84\"\n",
       "      /><line x1=\"217.6667\" x2=\"217.6667\" y1=\"31.5\" style=\"stroke-linecap:square; fill-opacity:1; fill:none; stroke-opacity:1;\" y2=\"35.84\"\n",
       "      /><line x1=\"290\" x2=\"290\" y1=\"31.5\" style=\"stroke-linecap:square; fill-opacity:1; fill:none; stroke-opacity:1;\" y2=\"35.84\"\n",
       "      /><line x1=\"362.3333\" x2=\"362.3333\" y1=\"31.5\" style=\"stroke-linecap:square; fill-opacity:1; fill:none; stroke-opacity:1;\" y2=\"35.84\"\n",
       "      /><line x1=\"434.6667\" x2=\"434.6667\" y1=\"31.5\" style=\"stroke-linecap:square; fill-opacity:1; fill:none; stroke-opacity:1;\" y2=\"35.84\"\n",
       "      /><line x1=\"507\" x2=\"507\" y1=\"31.5\" style=\"stroke-linecap:square; fill-opacity:1; fill:none; stroke-opacity:1;\" y2=\"35.84\"\n",
       "    /></g\n",
       "    ><g transform=\"translate(73,378)\" style=\"font-size:10px; fill:rgb(38,38,38); text-rendering:geometricPrecision; image-rendering:optimizeQuality; color-rendering:optimizeQuality; font-family:'Helvetica Neue'; stroke:rgb(38,38,38); color-interpolation:linearRGB;\"\n",
       "    ><path style=\"stroke:none;\" d=\"M-4.5 6.82 L-4.5 7.62 L-1.61 7.62 L-1.61 6.82 ZM2.45 10 L2.45 2.91 L1.8 2.91 Q1.73 3.31 1.54 3.57 Q1.35 3.83 1.075 3.98 Q0.8 4.13 0.46 4.185 Q0.12 4.24 -0.24 4.24 L-0.24 4.92 L1.6 4.92 L1.6 10 Z\"\n",
       "    /></g\n",
       "    ><g transform=\"translate(145.3333,378)\" style=\"font-size:10px; fill:rgb(38,38,38); text-rendering:geometricPrecision; image-rendering:optimizeQuality; color-rendering:optimizeQuality; font-family:'Helvetica Neue'; stroke:rgb(38,38,38); color-interpolation:linearRGB;\"\n",
       "    ><path style=\"stroke:none;\" d=\"M-8.5 6.82 L-8.5 7.62 L-5.61 7.62 L-5.61 6.82 ZM-3.79 6.51 Q-3.79 6.25 -3.785 5.935 Q-3.78 5.62 -3.735 5.305 Q-3.69 4.99 -3.605 4.69 Q-3.52 4.39 -3.355 4.165 Q-3.19 3.94 -2.94 3.8 Q-2.69 3.66 -2.33 3.66 Q-1.97 3.66 -1.72 3.8 Q-1.47 3.94 -1.305 4.165 Q-1.14 4.39 -1.055 4.69 Q-0.97 4.99 -0.925 5.305 Q-0.88 5.62 -0.875 5.935 Q-0.87 6.25 -0.87 6.51 Q-0.87 6.91 -0.895 7.405 Q-0.92 7.9 -1.055 8.335 Q-1.19 8.77 -1.49 9.07 Q-1.79 9.37 -2.33 9.37 Q-2.87 9.37 -3.17 9.07 Q-3.47 8.77 -3.605 8.335 Q-3.74 7.9 -3.765 7.405 Q-3.79 6.91 -3.79 6.51 ZM-4.69 6.52 Q-4.69 6.91 -4.67 7.33 Q-4.65 7.75 -4.57 8.15 Q-4.49 8.55 -4.34 8.905 Q-4.19 9.26 -3.93 9.53 Q-3.67 9.8 -3.275 9.955 Q-2.88 10.11 -2.33 10.11 Q-1.77 10.11 -1.38 9.955 Q-0.99 9.8 -0.73 9.53 Q-0.47 9.26 -0.32 8.905 Q-0.17 8.55 -0.09 8.15 Q-0.01 7.75 0.01 7.33 Q0.03 6.91 0.03 6.52 Q0.03 6.13 0.01 5.71 Q-0.01 5.29 -0.09 4.89 Q-0.17 4.49 -0.32 4.13 Q-0.47 3.77 -0.73 3.5 Q-0.99 3.23 -1.385 3.07 Q-1.78 2.91 -2.33 2.91 Q-2.88 2.91 -3.275 3.07 Q-3.67 3.23 -3.93 3.5 Q-4.19 3.77 -4.34 4.13 Q-4.49 4.49 -4.57 4.89 Q-4.65 5.29 -4.67 5.71 Q-4.69 6.13 -4.69 6.52 ZM1.28 8.89 L1.28 10 L2.39 10 L2.39 8.89 ZM7.93 3.78 L7.93 3.03 L4.43 3.03 L3.77 6.71 L4.5 6.75 Q4.75 6.45 5.075 6.265 Q5.4 6.08 5.82 6.08 Q6.18 6.08 6.475 6.2 Q6.77 6.32 6.98 6.535 Q7.19 6.75 7.305 7.045 Q7.42 7.34 7.42 7.69 Q7.42 8.11 7.3 8.425 Q7.18 8.74 6.975 8.95 Q6.77 9.16 6.495 9.265 Q6.22 9.37 5.92 9.37 Q5.6 9.37 5.335 9.275 Q5.07 9.18 4.875 9.005 Q4.68 8.83 4.565 8.595 Q4.45 8.36 4.43 8.09 L3.58 8.09 Q3.59 8.57 3.77 8.95 Q3.95 9.33 4.26 9.585 Q4.57 9.84 4.975 9.975 Q5.38 10.11 5.84 10.11 Q6.46 10.11 6.925 9.915 Q7.39 9.72 7.7 9.39 Q8.01 9.06 8.165 8.635 Q8.32 8.21 8.32 7.76 Q8.32 7.15 8.14 6.695 Q7.96 6.24 7.65 5.935 Q7.34 5.63 6.92 5.48 Q6.5 5.33 6.03 5.33 Q5.67 5.33 5.305 5.455 Q4.94 5.58 4.71 5.84 L4.69 5.82 L5.07 3.78 Z\"\n",
       "    /></g\n",
       "    ><g transform=\"translate(217.6667,378)\" style=\"font-size:10px; fill:rgb(38,38,38); text-rendering:geometricPrecision; image-rendering:optimizeQuality; color-rendering:optimizeQuality; font-family:'Helvetica Neue'; stroke:rgb(38,38,38); color-interpolation:linearRGB;\"\n",
       "    ><path style=\"stroke:none;\" d=\"M-1.68 6.51 Q-1.68 6.25 -1.675 5.935 Q-1.67 5.62 -1.625 5.305 Q-1.58 4.99 -1.495 4.69 Q-1.41 4.39 -1.245 4.165 Q-1.08 3.94 -0.83 3.8 Q-0.58 3.66 -0.22 3.66 Q0.14 3.66 0.39 3.8 Q0.64 3.94 0.805 4.165 Q0.97 4.39 1.055 4.69 Q1.14 4.99 1.185 5.305 Q1.23 5.62 1.235 5.935 Q1.24 6.25 1.24 6.51 Q1.24 6.91 1.215 7.405 Q1.19 7.9 1.055 8.335 Q0.92 8.77 0.62 9.07 Q0.32 9.37 -0.22 9.37 Q-0.76 9.37 -1.06 9.07 Q-1.36 8.77 -1.495 8.335 Q-1.63 7.9 -1.655 7.405 Q-1.68 6.91 -1.68 6.51 ZM-2.58 6.52 Q-2.58 6.91 -2.56 7.33 Q-2.54 7.75 -2.46 8.15 Q-2.38 8.55 -2.23 8.905 Q-2.08 9.26 -1.82 9.53 Q-1.56 9.8 -1.165 9.955 Q-0.77 10.11 -0.22 10.11 Q0.34 10.11 0.73 9.955 Q1.12 9.8 1.38 9.53 Q1.64 9.26 1.79 8.905 Q1.94 8.55 2.02 8.15 Q2.1 7.75 2.12 7.33 Q2.14 6.91 2.14 6.52 Q2.14 6.13 2.12 5.71 Q2.1 5.29 2.02 4.89 Q1.94 4.49 1.79 4.13 Q1.64 3.77 1.38 3.5 Q1.12 3.23 0.725 3.07 Q0.33 2.91 -0.22 2.91 Q-0.77 2.91 -1.165 3.07 Q-1.56 3.23 -1.82 3.5 Q-2.08 3.77 -2.23 4.13 Q-2.38 4.49 -2.46 4.89 Q-2.54 5.29 -2.56 5.71 Q-2.58 6.13 -2.58 6.52 Z\"\n",
       "    /></g\n",
       "    ><g transform=\"translate(290,378)\" style=\"font-size:10px; fill:rgb(38,38,38); text-rendering:geometricPrecision; image-rendering:optimizeQuality; color-rendering:optimizeQuality; font-family:'Helvetica Neue'; stroke:rgb(38,38,38); color-interpolation:linearRGB;\"\n",
       "    ><path style=\"stroke:none;\" d=\"M-5.68 6.51 Q-5.68 6.25 -5.675 5.935 Q-5.67 5.62 -5.625 5.305 Q-5.58 4.99 -5.495 4.69 Q-5.41 4.39 -5.245 4.165 Q-5.08 3.94 -4.83 3.8 Q-4.58 3.66 -4.22 3.66 Q-3.86 3.66 -3.61 3.8 Q-3.36 3.94 -3.195 4.165 Q-3.03 4.39 -2.945 4.69 Q-2.86 4.99 -2.815 5.305 Q-2.77 5.62 -2.765 5.935 Q-2.76 6.25 -2.76 6.51 Q-2.76 6.91 -2.785 7.405 Q-2.81 7.9 -2.945 8.335 Q-3.08 8.77 -3.38 9.07 Q-3.68 9.37 -4.22 9.37 Q-4.76 9.37 -5.06 9.07 Q-5.36 8.77 -5.495 8.335 Q-5.63 7.9 -5.655 7.405 Q-5.68 6.91 -5.68 6.51 ZM-6.58 6.52 Q-6.58 6.91 -6.56 7.33 Q-6.54 7.75 -6.46 8.15 Q-6.38 8.55 -6.23 8.905 Q-6.08 9.26 -5.82 9.53 Q-5.56 9.8 -5.165 9.955 Q-4.77 10.11 -4.22 10.11 Q-3.66 10.11 -3.27 9.955 Q-2.88 9.8 -2.62 9.53 Q-2.36 9.26 -2.21 8.905 Q-2.06 8.55 -1.98 8.15 Q-1.9 7.75 -1.88 7.33 Q-1.86 6.91 -1.86 6.52 Q-1.86 6.13 -1.88 5.71 Q-1.9 5.29 -1.98 4.89 Q-2.06 4.49 -2.21 4.13 Q-2.36 3.77 -2.62 3.5 Q-2.88 3.23 -3.275 3.07 Q-3.67 2.91 -4.22 2.91 Q-4.77 2.91 -5.165 3.07 Q-5.56 3.23 -5.82 3.5 Q-6.08 3.77 -6.23 4.13 Q-6.38 4.49 -6.46 4.89 Q-6.54 5.29 -6.56 5.71 Q-6.58 6.13 -6.58 6.52 ZM-0.61 8.89 L-0.61 10 L0.5 10 L0.5 8.89 ZM6.04 3.78 L6.04 3.03 L2.54 3.03 L1.88 6.71 L2.61 6.75 Q2.86 6.45 3.185 6.265 Q3.51 6.08 3.93 6.08 Q4.29 6.08 4.585 6.2 Q4.88 6.32 5.09 6.535 Q5.3 6.75 5.415 7.045 Q5.53 7.34 5.53 7.69 Q5.53 8.11 5.41 8.425 Q5.29 8.74 5.085 8.95 Q4.88 9.16 4.605 9.265 Q4.33 9.37 4.03 9.37 Q3.71 9.37 3.445 9.275 Q3.18 9.18 2.985 9.005 Q2.79 8.83 2.675 8.595 Q2.56 8.36 2.54 8.09 L1.69 8.09 Q1.7 8.57 1.88 8.95 Q2.06 9.33 2.37 9.585 Q2.68 9.84 3.085 9.975 Q3.49 10.11 3.95 10.11 Q4.57 10.11 5.035 9.915 Q5.5 9.72 5.81 9.39 Q6.12 9.06 6.275 8.635 Q6.43 8.21 6.43 7.76 Q6.43 7.15 6.25 6.695 Q6.07 6.24 5.76 5.935 Q5.45 5.63 5.03 5.48 Q4.61 5.33 4.14 5.33 Q3.78 5.33 3.415 5.455 Q3.05 5.58 2.82 5.84 L2.8 5.82 L3.18 3.78 Z\"\n",
       "    /></g\n",
       "    ><g transform=\"translate(362.3333,378)\" style=\"font-size:10px; fill:rgb(38,38,38); text-rendering:geometricPrecision; image-rendering:optimizeQuality; color-rendering:optimizeQuality; font-family:'Helvetica Neue'; stroke:rgb(38,38,38); color-interpolation:linearRGB;\"\n",
       "    ><path style=\"stroke:none;\" d=\"M0.56 10 L0.56 2.91 L-0.09 2.91 Q-0.16 3.31 -0.35 3.57 Q-0.54 3.83 -0.815 3.98 Q-1.09 4.13 -1.43 4.185 Q-1.77 4.24 -2.13 4.24 L-2.13 4.92 L-0.29 4.92 L-0.29 10 Z\"\n",
       "    /></g\n",
       "    ><g transform=\"translate(434.6667,378)\" style=\"font-size:10px; fill:rgb(38,38,38); text-rendering:geometricPrecision; image-rendering:optimizeQuality; color-rendering:optimizeQuality; font-family:'Helvetica Neue'; stroke:rgb(38,38,38); color-interpolation:linearRGB;\"\n",
       "    ><path style=\"stroke:none;\" d=\"M-3.44 10 L-3.44 2.91 L-4.09 2.91 Q-4.16 3.31 -4.35 3.57 Q-4.54 3.83 -4.815 3.98 Q-5.09 4.13 -5.43 4.185 Q-5.77 4.24 -6.13 4.24 L-6.13 4.92 L-4.29 4.92 L-4.29 10 ZM-0.61 8.89 L-0.61 10 L0.5 10 L0.5 8.89 ZM6.04 3.78 L6.04 3.03 L2.54 3.03 L1.88 6.71 L2.61 6.75 Q2.86 6.45 3.185 6.265 Q3.51 6.08 3.93 6.08 Q4.29 6.08 4.585 6.2 Q4.88 6.32 5.09 6.535 Q5.3 6.75 5.415 7.045 Q5.53 7.34 5.53 7.69 Q5.53 8.11 5.41 8.425 Q5.29 8.74 5.085 8.95 Q4.88 9.16 4.605 9.265 Q4.33 9.37 4.03 9.37 Q3.71 9.37 3.445 9.275 Q3.18 9.18 2.985 9.005 Q2.79 8.83 2.675 8.595 Q2.56 8.36 2.54 8.09 L1.69 8.09 Q1.7 8.57 1.88 8.95 Q2.06 9.33 2.37 9.585 Q2.68 9.84 3.085 9.975 Q3.49 10.11 3.95 10.11 Q4.57 10.11 5.035 9.915 Q5.5 9.72 5.81 9.39 Q6.12 9.06 6.275 8.635 Q6.43 8.21 6.43 7.76 Q6.43 7.15 6.25 6.695 Q6.07 6.24 5.76 5.935 Q5.45 5.63 5.03 5.48 Q4.61 5.33 4.14 5.33 Q3.78 5.33 3.415 5.455 Q3.05 5.58 2.82 5.84 L2.8 5.82 L3.18 3.78 Z\"\n",
       "    /></g\n",
       "    ><g transform=\"translate(507,378)\" style=\"font-size:10px; fill:rgb(38,38,38); text-rendering:geometricPrecision; image-rendering:optimizeQuality; color-rendering:optimizeQuality; font-family:'Helvetica Neue'; stroke:rgb(38,38,38); color-interpolation:linearRGB;\"\n",
       "    ><path style=\"stroke:none;\" d=\"M-2.56 5.42 L-1.71 5.42 Q-1.72 5.1 -1.645 4.785 Q-1.57 4.47 -1.4 4.22 Q-1.23 3.97 -0.965 3.815 Q-0.7 3.66 -0.33 3.66 Q-0.05 3.66 0.2 3.75 Q0.45 3.84 0.635 4.01 Q0.82 4.18 0.93 4.415 Q1.04 4.65 1.04 4.94 Q1.04 5.31 0.925 5.59 Q0.81 5.87 0.585 6.11 Q0.36 6.35 0.02 6.585 Q-0.32 6.82 -0.77 7.1 Q-1.14 7.32 -1.48 7.57 Q-1.82 7.82 -2.09 8.15 Q-2.36 8.48 -2.535 8.925 Q-2.71 9.37 -2.76 10 L1.87 10 L1.87 9.25 L-1.77 9.25 Q-1.71 8.92 -1.515 8.665 Q-1.32 8.41 -1.045 8.19 Q-0.77 7.97 -0.44 7.775 Q-0.11 7.58 0.22 7.38 Q0.55 7.17 0.86 6.94 Q1.17 6.71 1.41 6.425 Q1.65 6.14 1.795 5.78 Q1.94 5.42 1.94 4.95 Q1.94 4.45 1.765 4.07 Q1.59 3.69 1.29 3.435 Q0.99 3.18 0.585 3.045 Q0.18 2.91 -0.28 2.91 Q-0.84 2.91 -1.28 3.1 Q-1.72 3.29 -2.015 3.625 Q-2.31 3.96 -2.45 4.42 Q-2.59 4.88 -2.56 5.42 Z\"\n",
       "    /></g\n",
       "    ><g transform=\"translate(288,403)\" style=\"font-size:11px; fill:rgb(38,38,38); text-rendering:geometricPrecision; image-rendering:optimizeQuality; color-rendering:optimizeQuality; font-family:'Helvetica Neue'; stroke:rgb(38,38,38); color-interpolation:linearRGB;\"\n",
       "    ><path style=\"stroke:none;\" d=\"M2.002 -5.687 L2.002 -7.392 L1.067 -7.392 L1.067 -5.687 L0.099 -5.687 L0.099 -4.862 L1.067 -4.862 L1.067 -1.243 Q1.067 -0.847 1.144 -0.605 Q1.221 -0.363 1.3805 -0.231 Q1.54 -0.099 1.7985 -0.0495 Q2.057 0 2.42 0 L3.135 0 L3.135 -0.825 L2.706 -0.825 Q2.486 -0.825 2.3485 -0.8415 Q2.211 -0.858 2.134 -0.913 Q2.057 -0.968 2.0295 -1.067 Q2.002 -1.166 2.002 -1.331 L2.002 -4.862 L3.135 -4.862 L3.135 -5.687 Z\"\n",
       "    /></g\n",
       "    ><g style=\"fill:rgb(38,38,38); text-rendering:geometricPrecision; image-rendering:optimizeQuality; color-rendering:optimizeQuality; stroke-linejoin:round; stroke:rgb(38,38,38); color-interpolation:linearRGB; stroke-width:0.5;\"\n",
       "    ><line y2=\"31.5\" style=\"fill:none;\" x1=\"73\" x2=\"73\" y1=\"374\"\n",
       "      /><line y2=\"31.5\" style=\"fill:none;\" x1=\"507\" x2=\"507\" y1=\"374\"\n",
       "      /><line y2=\"339.75\" style=\"fill:none;\" x1=\"73\" x2=\"77.34\" y1=\"339.75\"\n",
       "      /><line y2=\"284.95\" style=\"fill:none;\" x1=\"73\" x2=\"77.34\" y1=\"284.95\"\n",
       "      /><line y2=\"230.15\" style=\"fill:none;\" x1=\"73\" x2=\"77.34\" y1=\"230.15\"\n",
       "      /><line y2=\"175.35\" style=\"fill:none;\" x1=\"73\" x2=\"77.34\" y1=\"175.35\"\n",
       "      /><line y2=\"120.55\" style=\"fill:none;\" x1=\"73\" x2=\"77.34\" y1=\"120.55\"\n",
       "      /><line y2=\"65.75\" style=\"fill:none;\" x1=\"73\" x2=\"77.34\" y1=\"65.75\"\n",
       "      /><line y2=\"339.75\" style=\"fill:none;\" x1=\"507\" x2=\"502.66\" y1=\"339.75\"\n",
       "      /><line y2=\"284.95\" style=\"fill:none;\" x1=\"507\" x2=\"502.66\" y1=\"284.95\"\n",
       "      /><line y2=\"230.15\" style=\"fill:none;\" x1=\"507\" x2=\"502.66\" y1=\"230.15\"\n",
       "      /><line y2=\"175.35\" style=\"fill:none;\" x1=\"507\" x2=\"502.66\" y1=\"175.35\"\n",
       "      /><line y2=\"120.55\" style=\"fill:none;\" x1=\"507\" x2=\"502.66\" y1=\"120.55\"\n",
       "      /><line y2=\"65.75\" style=\"fill:none;\" x1=\"507\" x2=\"502.66\" y1=\"65.75\"\n",
       "    /></g\n",
       "    ><g transform=\"translate(69,339.75)\" style=\"font-size:10px; fill:rgb(38,38,38); text-rendering:geometricPrecision; image-rendering:optimizeQuality; color-rendering:optimizeQuality; font-family:'Helvetica Neue'; stroke:rgb(38,38,38); color-interpolation:linearRGB;\"\n",
       "    ><path style=\"stroke:none;\" d=\"M-4.68 0.01 Q-4.68 -0.25 -4.675 -0.565 Q-4.67 -0.88 -4.625 -1.195 Q-4.58 -1.51 -4.495 -1.81 Q-4.41 -2.11 -4.245 -2.335 Q-4.08 -2.56 -3.83 -2.7 Q-3.58 -2.84 -3.22 -2.84 Q-2.86 -2.84 -2.61 -2.7 Q-2.36 -2.56 -2.195 -2.335 Q-2.03 -2.11 -1.945 -1.81 Q-1.86 -1.51 -1.815 -1.195 Q-1.77 -0.88 -1.765 -0.565 Q-1.76 -0.25 -1.76 0.01 Q-1.76 0.41 -1.785 0.905 Q-1.81 1.4 -1.945 1.835 Q-2.08 2.27 -2.38 2.57 Q-2.68 2.87 -3.22 2.87 Q-3.76 2.87 -4.06 2.57 Q-4.36 2.27 -4.495 1.835 Q-4.63 1.4 -4.655 0.905 Q-4.68 0.41 -4.68 0.01 ZM-5.58 0.02 Q-5.58 0.41 -5.56 0.83 Q-5.54 1.25 -5.46 1.65 Q-5.38 2.05 -5.23 2.405 Q-5.08 2.76 -4.82 3.03 Q-4.56 3.3 -4.165 3.455 Q-3.77 3.61 -3.22 3.61 Q-2.66 3.61 -2.27 3.455 Q-1.88 3.3 -1.62 3.03 Q-1.36 2.76 -1.21 2.405 Q-1.06 2.05 -0.98 1.65 Q-0.9 1.25 -0.88 0.83 Q-0.86 0.41 -0.86 0.02 Q-0.86 -0.37 -0.88 -0.79 Q-0.9 -1.21 -0.98 -1.61 Q-1.06 -2.01 -1.21 -2.37 Q-1.36 -2.73 -1.62 -3 Q-1.88 -3.27 -2.275 -3.43 Q-2.67 -3.59 -3.22 -3.59 Q-3.77 -3.59 -4.165 -3.43 Q-4.56 -3.27 -4.82 -3 Q-5.08 -2.73 -5.23 -2.37 Q-5.38 -2.01 -5.46 -1.61 Q-5.54 -1.21 -5.56 -0.79 Q-5.58 -0.37 -5.58 0.02 Z\"\n",
       "    /></g\n",
       "    ><g transform=\"translate(69,284.95)\" style=\"font-size:10px; fill:rgb(38,38,38); text-rendering:geometricPrecision; image-rendering:optimizeQuality; color-rendering:optimizeQuality; font-family:'Helvetica Neue'; stroke:rgb(38,38,38); color-interpolation:linearRGB;\"\n",
       "    ><path style=\"stroke:none;\" d=\"M-12.68 0.01 Q-12.68 -0.25 -12.675 -0.565 Q-12.67 -0.88 -12.625 -1.195 Q-12.58 -1.51 -12.495 -1.81 Q-12.41 -2.11 -12.245 -2.335 Q-12.08 -2.56 -11.83 -2.7 Q-11.58 -2.84 -11.22 -2.84 Q-10.86 -2.84 -10.61 -2.7 Q-10.36 -2.56 -10.195 -2.335 Q-10.03 -2.11 -9.945 -1.81 Q-9.86 -1.51 -9.815 -1.195 Q-9.77 -0.88 -9.765 -0.565 Q-9.76 -0.25 -9.76 0.01 Q-9.76 0.41 -9.785 0.905 Q-9.81 1.4 -9.945 1.835 Q-10.08 2.27 -10.38 2.57 Q-10.68 2.87 -11.22 2.87 Q-11.76 2.87 -12.06 2.57 Q-12.36 2.27 -12.495 1.835 Q-12.63 1.4 -12.655 0.905 Q-12.68 0.41 -12.68 0.01 ZM-13.58 0.02 Q-13.58 0.41 -13.56 0.83 Q-13.54 1.25 -13.46 1.65 Q-13.38 2.05 -13.23 2.405 Q-13.08 2.76 -12.82 3.03 Q-12.56 3.3 -12.165 3.455 Q-11.77 3.61 -11.22 3.61 Q-10.66 3.61 -10.27 3.455 Q-9.88 3.3 -9.62 3.03 Q-9.36 2.76 -9.21 2.405 Q-9.06 2.05 -8.98 1.65 Q-8.9 1.25 -8.88 0.83 Q-8.86 0.41 -8.86 0.02 Q-8.86 -0.37 -8.88 -0.79 Q-8.9 -1.21 -8.98 -1.61 Q-9.06 -2.01 -9.21 -2.37 Q-9.36 -2.73 -9.62 -3 Q-9.88 -3.27 -10.275 -3.43 Q-10.67 -3.59 -11.22 -3.59 Q-11.77 -3.59 -12.165 -3.43 Q-12.56 -3.27 -12.82 -3 Q-13.08 -2.73 -13.23 -2.37 Q-13.38 -2.01 -13.46 -1.61 Q-13.54 -1.21 -13.56 -0.79 Q-13.58 -0.37 -13.58 0.02 ZM-7.61 2.39 L-7.61 3.5 L-6.5 3.5 L-6.5 2.39 ZM-5.22 -1.08 L-4.37 -1.08 Q-4.38 -1.4 -4.305 -1.715 Q-4.23 -2.03 -4.06 -2.28 Q-3.89 -2.53 -3.625 -2.685 Q-3.36 -2.84 -2.99 -2.84 Q-2.71 -2.84 -2.46 -2.75 Q-2.21 -2.66 -2.025 -2.49 Q-1.84 -2.32 -1.73 -2.085 Q-1.62 -1.85 -1.62 -1.56 Q-1.62 -1.19 -1.735 -0.91 Q-1.85 -0.63 -2.075 -0.39 Q-2.3 -0.15 -2.64 0.085 Q-2.98 0.32 -3.43 0.6 Q-3.8 0.82 -4.14 1.07 Q-4.48 1.32 -4.75 1.65 Q-5.02 1.98 -5.195 2.425 Q-5.37 2.87 -5.42 3.5 L-0.79 3.5 L-0.79 2.75 L-4.43 2.75 Q-4.37 2.42 -4.175 2.165 Q-3.98 1.91 -3.705 1.69 Q-3.43 1.47 -3.1 1.275 Q-2.77 1.08 -2.44 0.88 Q-2.11 0.67 -1.8 0.44 Q-1.49 0.21 -1.25 -0.075 Q-1.01 -0.36 -0.865 -0.72 Q-0.72 -1.08 -0.72 -1.55 Q-0.72 -2.05 -0.895 -2.43 Q-1.07 -2.81 -1.37 -3.065 Q-1.67 -3.32 -2.075 -3.455 Q-2.48 -3.59 -2.94 -3.59 Q-3.5 -3.59 -3.94 -3.4 Q-4.38 -3.21 -4.675 -2.875 Q-4.97 -2.54 -5.11 -2.08 Q-5.25 -1.62 -5.22 -1.08 Z\"\n",
       "    /></g\n",
       "    ><g transform=\"translate(69,230.15)\" style=\"font-size:10px; fill:rgb(38,38,38); text-rendering:geometricPrecision; image-rendering:optimizeQuality; color-rendering:optimizeQuality; font-family:'Helvetica Neue'; stroke:rgb(38,38,38); color-interpolation:linearRGB;\"\n",
       "    ><path style=\"stroke:none;\" d=\"M-12.68 0.01 Q-12.68 -0.25 -12.675 -0.565 Q-12.67 -0.88 -12.625 -1.195 Q-12.58 -1.51 -12.495 -1.81 Q-12.41 -2.11 -12.245 -2.335 Q-12.08 -2.56 -11.83 -2.7 Q-11.58 -2.84 -11.22 -2.84 Q-10.86 -2.84 -10.61 -2.7 Q-10.36 -2.56 -10.195 -2.335 Q-10.03 -2.11 -9.945 -1.81 Q-9.86 -1.51 -9.815 -1.195 Q-9.77 -0.88 -9.765 -0.565 Q-9.76 -0.25 -9.76 0.01 Q-9.76 0.41 -9.785 0.905 Q-9.81 1.4 -9.945 1.835 Q-10.08 2.27 -10.38 2.57 Q-10.68 2.87 -11.22 2.87 Q-11.76 2.87 -12.06 2.57 Q-12.36 2.27 -12.495 1.835 Q-12.63 1.4 -12.655 0.905 Q-12.68 0.41 -12.68 0.01 ZM-13.58 0.02 Q-13.58 0.41 -13.56 0.83 Q-13.54 1.25 -13.46 1.65 Q-13.38 2.05 -13.23 2.405 Q-13.08 2.76 -12.82 3.03 Q-12.56 3.3 -12.165 3.455 Q-11.77 3.61 -11.22 3.61 Q-10.66 3.61 -10.27 3.455 Q-9.88 3.3 -9.62 3.03 Q-9.36 2.76 -9.21 2.405 Q-9.06 2.05 -8.98 1.65 Q-8.9 1.25 -8.88 0.83 Q-8.86 0.41 -8.86 0.02 Q-8.86 -0.37 -8.88 -0.79 Q-8.9 -1.21 -8.98 -1.61 Q-9.06 -2.01 -9.21 -2.37 Q-9.36 -2.73 -9.62 -3 Q-9.88 -3.27 -10.275 -3.43 Q-10.67 -3.59 -11.22 -3.59 Q-11.77 -3.59 -12.165 -3.43 Q-12.56 -3.27 -12.82 -3 Q-13.08 -2.73 -13.23 -2.37 Q-13.38 -2.01 -13.46 -1.61 Q-13.54 -1.21 -13.56 -0.79 Q-13.58 -0.37 -13.58 0.02 ZM-7.61 2.39 L-7.61 3.5 L-6.5 3.5 L-6.5 2.39 ZM-2.27 1.09 L-4.65 1.09 L-2.29 -2.38 L-2.27 -2.38 ZM-1.47 1.09 L-1.47 -3.59 L-2.15 -3.59 L-5.38 1.02 L-5.38 1.84 L-2.27 1.84 L-2.27 3.5 L-1.47 3.5 L-1.47 1.84 L-0.51 1.84 L-0.51 1.09 Z\"\n",
       "    /></g\n",
       "    ><g transform=\"translate(69,175.35)\" style=\"font-size:10px; fill:rgb(38,38,38); text-rendering:geometricPrecision; image-rendering:optimizeQuality; color-rendering:optimizeQuality; font-family:'Helvetica Neue'; stroke:rgb(38,38,38); color-interpolation:linearRGB;\"\n",
       "    ><path style=\"stroke:none;\" d=\"M-12.68 0.01 Q-12.68 -0.25 -12.675 -0.565 Q-12.67 -0.88 -12.625 -1.195 Q-12.58 -1.51 -12.495 -1.81 Q-12.41 -2.11 -12.245 -2.335 Q-12.08 -2.56 -11.83 -2.7 Q-11.58 -2.84 -11.22 -2.84 Q-10.86 -2.84 -10.61 -2.7 Q-10.36 -2.56 -10.195 -2.335 Q-10.03 -2.11 -9.945 -1.81 Q-9.86 -1.51 -9.815 -1.195 Q-9.77 -0.88 -9.765 -0.565 Q-9.76 -0.25 -9.76 0.01 Q-9.76 0.41 -9.785 0.905 Q-9.81 1.4 -9.945 1.835 Q-10.08 2.27 -10.38 2.57 Q-10.68 2.87 -11.22 2.87 Q-11.76 2.87 -12.06 2.57 Q-12.36 2.27 -12.495 1.835 Q-12.63 1.4 -12.655 0.905 Q-12.68 0.41 -12.68 0.01 ZM-13.58 0.02 Q-13.58 0.41 -13.56 0.83 Q-13.54 1.25 -13.46 1.65 Q-13.38 2.05 -13.23 2.405 Q-13.08 2.76 -12.82 3.03 Q-12.56 3.3 -12.165 3.455 Q-11.77 3.61 -11.22 3.61 Q-10.66 3.61 -10.27 3.455 Q-9.88 3.3 -9.62 3.03 Q-9.36 2.76 -9.21 2.405 Q-9.06 2.05 -8.98 1.65 Q-8.9 1.25 -8.88 0.83 Q-8.86 0.41 -8.86 0.02 Q-8.86 -0.37 -8.88 -0.79 Q-8.9 -1.21 -8.98 -1.61 Q-9.06 -2.01 -9.21 -2.37 Q-9.36 -2.73 -9.62 -3 Q-9.88 -3.27 -10.275 -3.43 Q-10.67 -3.59 -11.22 -3.59 Q-11.77 -3.59 -12.165 -3.43 Q-12.56 -3.27 -12.82 -3 Q-13.08 -2.73 -13.23 -2.37 Q-13.38 -2.01 -13.46 -1.61 Q-13.54 -1.21 -13.56 -0.79 Q-13.58 -0.37 -13.58 0.02 ZM-7.61 2.39 L-7.61 3.5 L-6.5 3.5 L-6.5 2.39 ZM-1.52 -1.78 L-0.67 -1.78 Q-0.75 -2.66 -1.27 -3.125 Q-1.79 -3.59 -2.67 -3.59 Q-3.43 -3.59 -3.93 -3.27 Q-4.43 -2.95 -4.73 -2.42 Q-5.03 -1.89 -5.155 -1.205 Q-5.28 -0.52 -5.28 0.21 Q-5.28 0.77 -5.195 1.37 Q-5.11 1.97 -4.85 2.47 Q-4.59 2.97 -4.11 3.29 Q-3.63 3.61 -2.84 3.61 Q-2.17 3.61 -1.715 3.385 Q-1.26 3.16 -0.985 2.815 Q-0.71 2.47 -0.59 2.05 Q-0.47 1.63 -0.47 1.24 Q-0.47 0.75 -0.62 0.33 Q-0.77 -0.09 -1.045 -0.4 Q-1.32 -0.71 -1.725 -0.885 Q-2.13 -1.06 -2.64 -1.06 Q-3.22 -1.06 -3.665 -0.84 Q-4.11 -0.62 -4.41 -0.13 L-4.43 -0.15 Q-4.42 -0.56 -4.35 -1.03 Q-4.28 -1.5 -4.095 -1.905 Q-3.91 -2.31 -3.58 -2.575 Q-3.25 -2.84 -2.71 -2.84 Q-2.2 -2.84 -1.89 -2.55 Q-1.58 -2.26 -1.52 -1.78 ZM-2.8 -0.31 Q-2.44 -0.31 -2.17 -0.18 Q-1.9 -0.05 -1.72 0.165 Q-1.54 0.38 -1.455 0.675 Q-1.37 0.97 -1.37 1.3 Q-1.37 1.61 -1.465 1.895 Q-1.56 2.18 -1.74 2.4 Q-1.92 2.62 -2.185 2.745 Q-2.45 2.87 -2.8 2.87 Q-3.15 2.87 -3.425 2.745 Q-3.7 2.62 -3.885 2.41 Q-4.07 2.2 -4.17 1.91 Q-4.27 1.62 -4.27 1.29 Q-4.27 0.96 -4.175 0.665 Q-4.08 0.37 -3.89 0.155 Q-3.7 -0.06 -3.43 -0.185 Q-3.16 -0.31 -2.8 -0.31 Z\"\n",
       "    /></g\n",
       "    ><g transform=\"translate(69,120.55)\" style=\"font-size:10px; fill:rgb(38,38,38); text-rendering:geometricPrecision; image-rendering:optimizeQuality; color-rendering:optimizeQuality; font-family:'Helvetica Neue'; stroke:rgb(38,38,38); color-interpolation:linearRGB;\"\n",
       "    ><path style=\"stroke:none;\" d=\"M-12.68 0.01 Q-12.68 -0.25 -12.675 -0.565 Q-12.67 -0.88 -12.625 -1.195 Q-12.58 -1.51 -12.495 -1.81 Q-12.41 -2.11 -12.245 -2.335 Q-12.08 -2.56 -11.83 -2.7 Q-11.58 -2.84 -11.22 -2.84 Q-10.86 -2.84 -10.61 -2.7 Q-10.36 -2.56 -10.195 -2.335 Q-10.03 -2.11 -9.945 -1.81 Q-9.86 -1.51 -9.815 -1.195 Q-9.77 -0.88 -9.765 -0.565 Q-9.76 -0.25 -9.76 0.01 Q-9.76 0.41 -9.785 0.905 Q-9.81 1.4 -9.945 1.835 Q-10.08 2.27 -10.38 2.57 Q-10.68 2.87 -11.22 2.87 Q-11.76 2.87 -12.06 2.57 Q-12.36 2.27 -12.495 1.835 Q-12.63 1.4 -12.655 0.905 Q-12.68 0.41 -12.68 0.01 ZM-13.58 0.02 Q-13.58 0.41 -13.56 0.83 Q-13.54 1.25 -13.46 1.65 Q-13.38 2.05 -13.23 2.405 Q-13.08 2.76 -12.82 3.03 Q-12.56 3.3 -12.165 3.455 Q-11.77 3.61 -11.22 3.61 Q-10.66 3.61 -10.27 3.455 Q-9.88 3.3 -9.62 3.03 Q-9.36 2.76 -9.21 2.405 Q-9.06 2.05 -8.98 1.65 Q-8.9 1.25 -8.88 0.83 Q-8.86 0.41 -8.86 0.02 Q-8.86 -0.37 -8.88 -0.79 Q-8.9 -1.21 -8.98 -1.61 Q-9.06 -2.01 -9.21 -2.37 Q-9.36 -2.73 -9.62 -3 Q-9.88 -3.27 -10.275 -3.43 Q-10.67 -3.59 -11.22 -3.59 Q-11.77 -3.59 -12.165 -3.43 Q-12.56 -3.27 -12.82 -3 Q-13.08 -2.73 -13.23 -2.37 Q-13.38 -2.01 -13.46 -1.61 Q-13.54 -1.21 -13.56 -0.79 Q-13.58 -0.37 -13.58 0.02 ZM-7.61 2.39 L-7.61 3.5 L-6.5 3.5 L-6.5 2.39 ZM-4.11 -1.75 Q-4.11 -2.02 -4.01 -2.22 Q-3.91 -2.42 -3.745 -2.56 Q-3.58 -2.7 -3.35 -2.77 Q-3.12 -2.84 -2.87 -2.84 Q-2.35 -2.84 -2.015 -2.565 Q-1.68 -2.29 -1.68 -1.75 Q-1.68 -1.21 -2.01 -0.91 Q-2.34 -0.61 -2.85 -0.61 Q-3.11 -0.61 -3.34 -0.68 Q-3.57 -0.75 -3.74 -0.89 Q-3.91 -1.03 -4.01 -1.245 Q-4.11 -1.46 -4.11 -1.75 ZM-5.01 -1.78 Q-5.01 -1.3 -4.74 -0.895 Q-4.47 -0.49 -4.02 -0.31 Q-4.62 -0.1 -4.94 0.365 Q-5.26 0.83 -5.26 1.46 Q-5.26 2 -5.075 2.405 Q-4.89 2.81 -4.565 3.08 Q-4.24 3.35 -3.8 3.48 Q-3.36 3.61 -2.85 3.61 Q-2.36 3.61 -1.93 3.47 Q-1.5 3.33 -1.185 3.055 Q-0.87 2.78 -0.685 2.38 Q-0.5 1.98 -0.5 1.46 Q-0.5 0.8 -0.81 0.345 Q-1.12 -0.11 -1.76 -0.31 Q-1.31 -0.51 -1.045 -0.905 Q-0.78 -1.3 -0.78 -1.78 Q-0.78 -2.12 -0.9 -2.445 Q-1.02 -2.77 -1.275 -3.025 Q-1.53 -3.28 -1.94 -3.435 Q-2.35 -3.59 -2.93 -3.59 Q-3.34 -3.59 -3.715 -3.47 Q-4.09 -3.35 -4.38 -3.12 Q-4.67 -2.89 -4.84 -2.555 Q-5.01 -2.22 -5.01 -1.78 ZM-4.36 1.5 Q-4.36 1.19 -4.245 0.94 Q-4.13 0.69 -3.925 0.51 Q-3.72 0.33 -3.445 0.235 Q-3.17 0.14 -2.86 0.14 Q-2.56 0.14 -2.295 0.245 Q-2.03 0.35 -1.83 0.53 Q-1.63 0.71 -1.515 0.955 Q-1.4 1.2 -1.4 1.49 Q-1.4 1.79 -1.505 2.04 Q-1.61 2.29 -1.805 2.475 Q-2 2.66 -2.265 2.765 Q-2.53 2.87 -2.85 2.87 Q-3.51 2.87 -3.935 2.505 Q-4.36 2.14 -4.36 1.5 Z\"\n",
       "    /></g\n",
       "    ><g transform=\"translate(69,65.75)\" style=\"font-size:10px; fill:rgb(38,38,38); text-rendering:geometricPrecision; image-rendering:optimizeQuality; color-rendering:optimizeQuality; font-family:'Helvetica Neue'; stroke:rgb(38,38,38); color-interpolation:linearRGB;\"\n",
       "    ><path style=\"stroke:none;\" d=\"M-2.44 3.5 L-2.44 -3.59 L-3.09 -3.59 Q-3.16 -3.19 -3.35 -2.93 Q-3.54 -2.67 -3.815 -2.52 Q-4.09 -2.37 -4.43 -2.315 Q-4.77 -2.26 -5.13 -2.26 L-5.13 -1.58 L-3.29 -1.58 L-3.29 3.5 Z\"\n",
       "    /></g\n",
       "    ><g transform=\"translate(290.0003,30.125)\" style=\"font-size:11px; text-rendering:geometricPrecision; color-rendering:optimizeQuality; image-rendering:optimizeQuality; font-family:'mwa_cmr10'; color-interpolation:linearRGB;\"\n",
       "    ><path style=\"stroke:none;\" d=\"M-49.1754 -3.96 L-49.1754 -4.3507 Q-48.6286 -4.3507 -48.1051 -4.4132 Q-47.5817 -4.4757 -47.5817 -4.6944 L-47.5817 -10.7413 Q-47.5817 -10.9757 -47.7145 -11.0304 Q-47.8473 -11.085 -48.1442 -11.085 L-48.5973 -11.085 Q-49.5036 -11.085 -49.8942 -10.6944 Q-50.0817 -10.4913 -50.1676 -10.0538 Q-50.2536 -9.6163 -50.3161 -8.96 L-50.6442 -8.96 L-50.4254 -11.4757 L-43.7067 -11.4757 L-43.5036 -8.96 L-43.8161 -8.96 Q-43.8786 -9.6632 -43.9567 -10.0772 Q-44.0348 -10.4913 -44.2379 -10.6944 Q-44.6286 -11.085 -45.5348 -11.085 L-46.0036 -11.085 Q-46.1911 -11.085 -46.3004 -11.0694 Q-46.4098 -11.0538 -46.4801 -10.9757 Q-46.5504 -10.8975 -46.5504 -10.7413 L-46.5504 -4.6944 Q-46.5504 -4.4757 -46.0348 -4.4132 Q-45.5192 -4.3507 -44.9723 -4.3507 L-44.9723 -3.96 L-49.1754 -3.96 Z\"\n",
       "      /><path style=\"stroke:none;\" d=\"M-42.7466 -3.96 L-42.7466 -4.3507 Q-42.3716 -4.3507 -42.1294 -4.4054 Q-41.8872 -4.46 -41.8872 -4.6944 L-41.8872 -7.6944 Q-41.8872 -8.1163 -42.0513 -8.2179 Q-42.2154 -8.3194 -42.6997 -8.3194 L-42.6997 -8.71 L-41.1216 -8.8194 L-41.1216 -4.6944 Q-41.1216 -4.46 -40.9107 -4.4054 Q-40.6997 -4.3507 -40.356 -4.3507 L-40.356 -3.96 L-42.7466 -3.96 ZM-42.2779 -10.71 Q-42.2779 -10.96 -42.0982 -11.1397 Q-41.9185 -11.3194 -41.6841 -11.3194 Q-41.5279 -11.3194 -41.3794 -11.2413 Q-41.231 -11.1632 -41.1529 -11.0147 Q-41.0747 -10.8663 -41.0747 -10.71 Q-41.0747 -10.4757 -41.2544 -10.296 Q-41.4341 -10.1163 -41.6841 -10.1163 Q-41.9185 -10.1163 -42.0982 -10.296 Q-42.2779 -10.4757 -42.2779 -10.71 Z\"\n",
       "      /><path style=\"stroke:none;\" d=\"M-39.7067 -3.96 L-39.7067 -4.3507 Q-39.3317 -4.3507 -39.0895 -4.4054 Q-38.8473 -4.46 -38.8473 -4.6944 L-38.8473 -7.6944 Q-38.8473 -7.9913 -38.9332 -8.1241 Q-39.0192 -8.2569 -39.1911 -8.2882 Q-39.3629 -8.3194 -39.7067 -8.3194 L-39.7067 -8.71 L-38.1129 -8.8194 L-38.1129 -7.7413 Q-37.8942 -8.2257 -37.4567 -8.5225 Q-37.0192 -8.8194 -36.5192 -8.8194 Q-35.2536 -8.8194 -35.0348 -7.7882 Q-34.8161 -8.2569 -34.3864 -8.5382 Q-33.9567 -8.8194 -33.4567 -8.8194 Q-32.9567 -8.8194 -32.6129 -8.6554 Q-32.2692 -8.4913 -32.0973 -8.1632 Q-31.9254 -7.835 -31.9254 -7.335 L-31.9254 -4.6944 Q-31.9254 -4.46 -31.6832 -4.4054 Q-31.4411 -4.3507 -31.0661 -4.3507 L-31.0661 -3.96 L-33.5817 -3.96 L-33.5817 -4.3507 Q-33.2067 -4.3507 -32.9645 -4.4054 Q-32.7223 -4.46 -32.7223 -4.6944 L-32.7223 -7.3038 Q-32.7223 -7.8663 -32.8786 -8.2022 Q-33.0348 -8.5382 -33.5192 -8.5382 Q-34.1598 -8.5382 -34.5739 -8.0304 Q-34.9879 -7.5225 -34.9879 -6.8663 L-34.9879 -4.6944 Q-34.9879 -4.46 -34.7457 -4.4054 Q-34.5036 -4.3507 -34.1286 -4.3507 L-34.1286 -3.96 L-36.6442 -3.96 L-36.6442 -4.3507 Q-36.2692 -4.3507 -36.027 -4.4054 Q-35.7848 -4.46 -35.7848 -4.6944 L-35.7848 -7.3038 Q-35.7848 -7.8507 -35.9411 -8.1944 Q-36.0973 -8.5382 -36.5817 -8.5382 Q-37.2223 -8.5382 -37.6286 -8.0304 Q-38.0348 -7.5225 -38.0348 -6.8663 L-38.0348 -4.6944 Q-38.0348 -4.46 -37.8004 -4.4054 Q-37.5661 -4.3507 -37.1911 -4.3507 L-37.1911 -3.96 L-39.7067 -3.96 Z\"\n",
       "      /><path style=\"stroke:none;\" d=\"M-28.1337 -3.835 Q-28.8056 -3.835 -29.3603 -4.1866 Q-29.915 -4.5382 -30.2353 -5.1241 Q-30.5556 -5.71 -30.5556 -6.3663 Q-30.5556 -7.0225 -30.2666 -7.6007 Q-29.9775 -8.1788 -29.4541 -8.5382 Q-28.9306 -8.8975 -28.29 -8.8975 Q-27.7744 -8.8975 -27.4072 -8.7257 Q-27.04 -8.5538 -26.7978 -8.2491 Q-26.5556 -7.9444 -26.4306 -7.5382 Q-26.3056 -7.1319 -26.3056 -6.6475 Q-26.3056 -6.5069 -26.415 -6.5069 L-29.6025 -6.5069 L-29.6025 -6.3819 Q-29.6025 -5.4757 -29.2353 -4.8194 Q-28.8681 -4.1632 -28.0244 -4.1632 Q-27.6962 -4.1632 -27.4072 -4.3116 Q-27.1181 -4.46 -26.9072 -4.7257 Q-26.6962 -4.9913 -26.6181 -5.3038 Q-26.6025 -5.335 -26.5791 -5.3663 Q-26.5556 -5.3975 -26.5087 -5.3975 L-26.415 -5.3975 Q-26.3056 -5.3975 -26.3056 -5.2569 Q-26.4619 -4.6319 -26.9775 -4.2335 Q-27.4931 -3.835 -28.1337 -3.835 ZM-29.5869 -6.7725 L-27.0869 -6.7725 Q-27.0869 -7.1944 -27.1962 -7.6163 Q-27.3056 -8.0382 -27.5791 -8.3194 Q-27.8525 -8.6007 -28.29 -8.6007 Q-28.915 -8.6007 -29.2509 -8.0147 Q-29.5869 -7.4288 -29.5869 -6.7725 Z\"\n",
       "      /><path style=\"stroke:none;\" d=\"M-19.6251 -3.835 Q-20.2813 -3.835 -20.8126 -4.1866 Q-21.3438 -4.5382 -21.6485 -5.1163 Q-21.9532 -5.6944 -21.9532 -6.335 Q-21.9532 -7.0069 -21.6251 -7.5772 Q-21.2969 -8.1475 -20.7423 -8.4835 Q-20.1876 -8.8194 -19.5157 -8.8194 Q-19.1094 -8.8194 -18.7501 -8.6475 Q-18.3907 -8.4757 -18.1251 -8.1788 L-18.1251 -10.4757 Q-18.1251 -10.7725 -18.211 -10.8975 Q-18.2969 -11.0225 -18.461 -11.0538 Q-18.6251 -11.085 -18.9844 -11.085 L-18.9844 -11.4757 L-17.3438 -11.585 L-17.3438 -4.96 Q-17.3438 -4.6632 -17.2579 -4.5382 Q-17.1719 -4.4132 -17.0079 -4.3819 Q-16.8438 -4.3507 -16.5001 -4.3507 L-16.5001 -3.96 L-18.1563 -3.835 L-18.1563 -4.5225 Q-18.4376 -4.1944 -18.8282 -4.0147 Q-19.2188 -3.835 -19.6251 -3.835 ZM-20.7501 -4.9132 Q-20.5626 -4.5538 -20.2501 -4.3429 Q-19.9376 -4.1319 -19.5626 -4.1319 Q-19.1094 -4.1319 -18.7266 -4.3897 Q-18.3438 -4.6475 -18.1563 -5.0694 L-18.1563 -7.71 Q-18.2813 -7.9444 -18.4766 -8.1397 Q-18.6719 -8.335 -18.9219 -8.4366 Q-19.1719 -8.5382 -19.4376 -8.5382 Q-20.0157 -8.5382 -20.3673 -8.21 Q-20.7188 -7.8819 -20.8516 -7.3819 Q-20.9844 -6.8819 -20.9844 -6.3194 Q-20.9844 -5.8819 -20.9454 -5.5538 Q-20.9063 -5.2257 -20.7501 -4.9132 Z\"\n",
       "      /><path style=\"stroke:none;\" d=\"M-13.4671 -3.835 Q-14.1389 -3.835 -14.6936 -4.1866 Q-15.2483 -4.5382 -15.5686 -5.1241 Q-15.8889 -5.71 -15.8889 -6.3663 Q-15.8889 -7.0225 -15.5999 -7.6007 Q-15.3108 -8.1788 -14.7874 -8.5382 Q-14.2639 -8.8975 -13.6233 -8.8975 Q-13.1077 -8.8975 -12.7405 -8.7257 Q-12.3733 -8.5538 -12.1311 -8.2491 Q-11.8889 -7.9444 -11.7639 -7.5382 Q-11.6389 -7.1319 -11.6389 -6.6475 Q-11.6389 -6.5069 -11.7483 -6.5069 L-14.9358 -6.5069 L-14.9358 -6.3819 Q-14.9358 -5.4757 -14.5686 -4.8194 Q-14.2014 -4.1632 -13.3577 -4.1632 Q-13.0296 -4.1632 -12.7405 -4.3116 Q-12.4514 -4.46 -12.2405 -4.7257 Q-12.0296 -4.9913 -11.9514 -5.3038 Q-11.9358 -5.335 -11.9124 -5.3663 Q-11.8889 -5.3975 -11.8421 -5.3975 L-11.7483 -5.3975 Q-11.6389 -5.3975 -11.6389 -5.2569 Q-11.7952 -4.6319 -12.3108 -4.2335 Q-12.8264 -3.835 -13.4671 -3.835 ZM-14.9202 -6.7725 L-12.4202 -6.7725 Q-12.4202 -7.1944 -12.5296 -7.6163 Q-12.6389 -8.0382 -12.9124 -8.3194 Q-13.1858 -8.6007 -13.6233 -8.6007 Q-14.2483 -8.6007 -14.5842 -8.0147 Q-14.9202 -7.4288 -14.9202 -6.7725 Z\"\n",
       "      /><path style=\"stroke:none;\" d=\"M-10.9688 -3.96 L-10.9688 -4.3507 Q-10.5938 -4.3507 -10.3516 -4.4054 Q-10.1094 -4.46 -10.1094 -4.6944 L-10.1094 -10.4757 Q-10.1094 -10.7725 -10.2032 -10.8975 Q-10.2969 -11.0225 -10.461 -11.0538 Q-10.625 -11.085 -10.9688 -11.085 L-10.9688 -11.4757 L-9.3438 -11.585 L-9.3438 -4.6944 Q-9.3438 -4.46 -9.1016 -4.4054 Q-8.8594 -4.3507 -8.4844 -4.3507 L-8.4844 -3.96 L-10.9688 -3.96 Z\"\n",
       "      /><path style=\"stroke:none;\" d=\"M-7.8195 -5.0382 Q-7.8195 -5.6944 -7.3039 -6.1085 Q-6.7882 -6.5225 -6.0617 -6.6866 Q-5.3351 -6.8507 -4.6945 -6.8507 L-4.6945 -7.3038 Q-4.6945 -7.6163 -4.8351 -7.921 Q-4.9757 -8.2257 -5.2335 -8.4132 Q-5.4914 -8.6007 -5.8195 -8.6007 Q-6.5382 -8.6007 -6.9289 -8.2725 Q-6.7101 -8.2725 -6.5773 -8.1163 Q-6.4445 -7.96 -6.4445 -7.7413 Q-6.4445 -7.5225 -6.6007 -7.3663 Q-6.757 -7.21 -6.9601 -7.21 Q-7.1945 -7.21 -7.3507 -7.3663 Q-7.507 -7.5225 -7.507 -7.7413 Q-7.507 -8.3194 -6.9757 -8.6085 Q-6.4445 -8.8975 -5.8195 -8.8975 Q-5.3664 -8.8975 -4.9132 -8.7022 Q-4.4601 -8.5069 -4.1789 -8.1554 Q-3.8976 -7.8038 -3.8976 -7.335 L-3.8976 -4.8507 Q-3.8976 -4.6319 -3.8039 -4.4522 Q-3.7101 -4.2725 -3.507 -4.2725 Q-3.3351 -4.2725 -3.2414 -4.46 Q-3.1476 -4.6475 -3.1476 -4.8507 L-3.1476 -5.5538 L-2.8351 -5.5538 L-2.8351 -4.8507 Q-2.8351 -4.6007 -2.9601 -4.3819 Q-3.0851 -4.1632 -3.3039 -4.0304 Q-3.5226 -3.8975 -3.7726 -3.8975 Q-4.1007 -3.8975 -4.3351 -4.1475 Q-4.5695 -4.3975 -4.6007 -4.7413 Q-4.8039 -4.3194 -5.1945 -4.0772 Q-5.5851 -3.835 -6.0382 -3.835 Q-6.4601 -3.835 -6.8664 -3.96 Q-7.2726 -4.085 -7.546 -4.3507 Q-7.8195 -4.6163 -7.8195 -5.0382 ZM-6.9289 -5.0382 Q-6.9289 -4.6475 -6.6398 -4.3897 Q-6.3507 -4.1319 -5.9757 -4.1319 Q-5.6164 -4.1319 -5.3273 -4.3038 Q-5.0382 -4.4757 -4.8664 -4.7882 Q-4.6945 -5.1007 -4.6945 -5.4288 L-4.6945 -6.5694 Q-5.1945 -6.5694 -5.7179 -6.4054 Q-6.2414 -6.2413 -6.5851 -5.8975 Q-6.9289 -5.5538 -6.9289 -5.0382 Z\"\n",
       "      /><path style=\"stroke:none;\" d=\"M-2.3125 -2.1475 Q-2.0938 -1.9913 -1.8438 -1.9913 Q-1.1563 -1.9913 -0.7032 -3.0382 L-0.3282 -3.96 L-1.9844 -8.0069 Q-2.0782 -8.21 -2.2891 -8.2647 Q-2.5 -8.3194 -2.8594 -8.3194 L-2.8594 -8.71 L-0.5469 -8.71 L-0.5469 -8.3194 Q-1.1563 -8.3194 -1.1563 -8.0538 Q-1.1563 -8.0069 -1.1407 -7.9913 L0.0781 -4.9757 L1.1875 -7.6944 Q1.2187 -7.7725 1.2187 -7.8819 Q1.2187 -8.0069 1.1484 -8.1085 Q1.0781 -8.21 0.9609 -8.2647 Q0.8437 -8.3194 0.7031 -8.3194 L0.7031 -8.71 L2.5312 -8.71 L2.5312 -8.3194 Q2.1875 -8.3194 1.9297 -8.1632 Q1.6718 -8.0069 1.5312 -7.6944 L-0.3594 -3.0382 Q-0.5157 -2.6788 -0.7188 -2.3819 Q-0.9219 -2.085 -1.211 -1.8975 Q-1.5 -1.71 -1.8438 -1.71 Q-2.25 -1.71 -2.5547 -1.9757 Q-2.8594 -2.2413 -2.8594 -2.6319 Q-2.8594 -2.835 -2.7188 -2.9757 Q-2.5782 -3.1163 -2.375 -3.1163 Q-2.2344 -3.1163 -2.125 -3.0538 Q-2.0157 -2.9913 -1.9532 -2.8819 Q-1.8907 -2.7725 -1.8907 -2.6319 Q-1.8907 -2.4444 -2.0078 -2.3116 Q-2.125 -2.1788 -2.3125 -2.1475 Z\"\n",
       "      /><path style=\"stroke:none;\" d=\"M7.5816 -5.1632 Q7.5816 -5.5225 7.6753 -5.8975 Q7.7691 -6.2725 7.941 -6.7413 Q8.1128 -7.21 8.2535 -7.5538 Q8.3941 -7.9444 8.3941 -8.21 Q8.3941 -8.5382 8.1441 -8.5382 Q7.7222 -8.5382 7.4331 -8.085 Q7.1441 -7.6319 7.0191 -7.085 Q6.9878 -7.0225 6.9253 -7.0225 L6.8003 -7.0225 Q6.7066 -7.0225 6.7066 -7.1163 L6.7066 -7.1475 Q6.8785 -7.8038 7.2456 -8.3116 Q7.6128 -8.8194 8.1753 -8.8194 Q8.566 -8.8194 8.8394 -8.5616 Q9.1128 -8.3038 9.1128 -7.9132 Q9.1128 -7.71 9.0191 -7.4757 Q8.9722 -7.3507 8.8003 -6.8975 Q8.6285 -6.4444 8.5347 -6.1475 Q8.441 -5.8507 8.3785 -5.5694 Q8.316 -5.2882 8.316 -4.9913 Q8.316 -4.6319 8.4722 -4.3819 Q8.6285 -4.1319 8.9878 -4.1319 Q9.691 -4.1319 10.2222 -4.9913 Q10.2222 -5.0382 10.23 -5.0772 Q10.2378 -5.1163 10.2535 -5.1632 L11.0347 -8.3507 Q11.0816 -8.4913 11.2144 -8.6007 Q11.3472 -8.71 11.5035 -8.71 Q11.6285 -8.71 11.73 -8.6241 Q11.8316 -8.5382 11.8316 -8.3975 Q11.8316 -8.3194 11.8316 -8.3038 L11.0347 -5.1319 Q10.9566 -4.8038 10.9566 -4.6007 Q10.9566 -4.1319 11.2691 -4.1319 Q11.6285 -4.1319 11.8003 -4.5694 Q11.9722 -5.0069 12.0972 -5.5694 Q12.1128 -5.6475 12.191 -5.6475 L12.316 -5.6475 Q12.3628 -5.6475 12.3863 -5.6085 Q12.4097 -5.5694 12.4097 -5.5382 Q12.3003 -5.0538 12.191 -4.7179 Q12.0816 -4.3819 11.8394 -4.1085 Q11.5972 -3.835 11.2535 -3.835 Q10.8941 -3.835 10.6206 -4.0304 Q10.3472 -4.2257 10.2535 -4.5382 Q10.0035 -4.2257 9.6675 -4.0304 Q9.3316 -3.835 8.9566 -3.835 Q8.3316 -3.835 7.9566 -4.1788 Q7.5816 -4.5225 7.5816 -5.1632 Z\"\n",
       "      /><path style=\"stroke:none;\" d=\"M14.7067 -2.1382 Q13.7224 -2.1382 13.3708 -2.9429 Q13.0192 -3.7476 13.0192 -4.8569 Q13.0192 -5.5601 13.1442 -6.1694 Q13.2692 -6.7788 13.6521 -7.2085 Q14.0349 -7.6382 14.7067 -7.6382 Q15.238 -7.6382 15.5739 -7.3804 Q15.9099 -7.1226 16.0817 -6.7163 Q16.2536 -6.3101 16.3239 -5.8413 Q16.3942 -5.3726 16.3942 -4.8569 Q16.3942 -4.1694 16.2614 -3.5757 Q16.1286 -2.9819 15.7614 -2.5601 Q15.3942 -2.1382 14.7067 -2.1382 ZM14.7067 -2.3413 Q15.1599 -2.3413 15.3786 -2.8022 Q15.5974 -3.2632 15.6442 -3.8179 Q15.6911 -4.3726 15.6911 -4.9976 Q15.6911 -5.5913 15.6442 -6.0991 Q15.5974 -6.6069 15.3786 -7.021 Q15.1599 -7.4351 14.7067 -7.4351 Q14.2536 -7.4351 14.0349 -7.021 Q13.8161 -6.6069 13.7692 -6.0991 Q13.7224 -5.5913 13.7224 -4.9976 Q13.7224 -4.5444 13.738 -4.1538 Q13.7536 -3.7632 13.8474 -3.3413 Q13.9411 -2.9194 14.1521 -2.6304 Q14.363 -2.3413 14.7067 -2.3413 Z\"\n",
       "      /><path style=\"stroke:none;\" d=\"M20.513 -1.2257 Q19.9036 -1.71 19.4583 -2.335 Q19.013 -2.96 18.7317 -3.671 Q18.4505 -4.3819 18.3099 -5.1554 Q18.1692 -5.9288 18.1692 -6.71 Q18.1692 -7.5069 18.3099 -8.2804 Q18.4505 -9.0538 18.7396 -9.7647 Q19.0286 -10.4757 19.4739 -11.1007 Q19.9192 -11.7257 20.513 -12.1944 Q20.513 -12.21 20.5755 -12.21 L20.6692 -12.21 Q20.7005 -12.21 20.7317 -12.1788 Q20.763 -12.1475 20.763 -12.1163 Q20.763 -12.0694 20.7317 -12.0382 Q20.2005 -11.5225 19.8411 -10.921 Q19.4817 -10.3194 19.263 -9.6397 Q19.0442 -8.96 18.9505 -8.2335 Q18.8567 -7.5069 18.8567 -6.71 Q18.8567 -3.21 20.7317 -1.3975 Q20.763 -1.3663 20.763 -1.3038 Q20.763 -1.2725 20.7317 -1.2413 Q20.7005 -1.21 20.6692 -1.21 L20.5755 -1.21 Q20.513 -1.21 20.513 -1.2257 Z\"\n",
       "      /><path style=\"stroke:none;\" d=\"M22.072 -4.8507 Q22.072 -5.0069 22.1033 -5.1632 L22.9002 -8.3194 L21.7439 -8.3194 Q21.6189 -8.3194 21.6189 -8.46 Q21.6658 -8.71 21.7752 -8.71 L22.9939 -8.71 L23.4314 -10.4913 Q23.4783 -10.6475 23.6033 -10.7491 Q23.7283 -10.8507 23.9002 -10.8507 Q24.0252 -10.8507 24.1267 -10.7647 Q24.2283 -10.6788 24.2283 -10.5382 Q24.2283 -10.5069 24.2205 -10.4913 Q24.2127 -10.4757 24.2127 -10.4444 L23.7752 -8.71 L24.9002 -8.71 Q25.0095 -8.71 25.0095 -8.5538 Q25.0095 -8.5382 24.9939 -8.4679 Q24.9783 -8.3975 24.9549 -8.3585 Q24.9314 -8.3194 24.8689 -8.3194 L23.6658 -8.3194 L22.8845 -5.1319 Q22.8064 -4.8194 22.8064 -4.6007 Q22.8064 -4.1319 23.1189 -4.1319 Q23.6033 -4.1319 23.9783 -4.585 Q24.3533 -5.0382 24.5564 -5.5694 Q24.6033 -5.6475 24.6345 -5.6475 L24.7752 -5.6475 Q24.822 -5.6475 24.8455 -5.6163 Q24.8689 -5.585 24.8689 -5.5382 Q24.8689 -5.5225 24.8533 -5.5069 Q24.6189 -4.8507 24.158 -4.3429 Q23.697 -3.835 23.1033 -3.835 Q22.6658 -3.835 22.3689 -4.1241 Q22.072 -4.4132 22.072 -4.8507 Z\"\n",
       "      /><path style=\"stroke:none;\" d=\"M28.9262 -6.4913 Q28.8324 -6.4913 28.7699 -6.5616 Q28.7074 -6.6319 28.7074 -6.71 Q28.7074 -6.7882 28.7699 -6.8585 Q28.8324 -6.9288 28.9262 -6.9288 L35.2387 -6.9288 Q35.3168 -6.9288 35.3715 -6.8585 Q35.4262 -6.7882 35.4262 -6.71 Q35.4262 -6.6319 35.3715 -6.5616 Q35.3168 -6.4913 35.2387 -6.4913 L28.9262 -6.4913 Z\"\n",
       "      /><path style=\"stroke:none;\" d=\"M39.3011 -4.1007 Q39.3167 -4.1319 39.3324 -4.2022 Q39.348 -4.2725 39.3792 -4.3116 Q39.4105 -4.3507 39.4574 -4.3507 Q40.4105 -4.3507 40.7074 -4.3975 Q41.0042 -4.4757 41.0667 -4.71 L42.5667 -10.7569 Q42.6136 -10.8975 42.6136 -11.0069 Q42.6136 -11.085 42.2386 -11.085 L41.598 -11.085 Q40.8636 -11.085 40.4574 -10.8585 Q40.0511 -10.6319 39.8636 -10.2647 Q39.6761 -9.8975 39.3792 -9.0538 Q39.348 -8.96 39.2699 -8.96 L39.1761 -8.96 Q39.0667 -8.96 39.0667 -9.1007 L39.848 -11.3663 Q39.8636 -11.4757 39.9574 -11.4757 L46.4574 -11.4757 Q46.5667 -11.4757 46.5667 -11.335 L46.2074 -9.0538 Q46.2074 -9.0225 46.1683 -8.9913 Q46.1292 -8.96 46.098 -8.96 L45.9886 -8.96 Q45.8792 -8.96 45.8792 -9.1007 Q46.0042 -9.8663 46.0042 -10.1944 Q46.0042 -10.585 45.8402 -10.7804 Q45.6761 -10.9757 45.4183 -11.0304 Q45.1605 -11.085 44.7542 -11.085 L44.098 -11.085 Q43.8011 -11.085 43.6996 -11.0304 Q43.598 -10.9757 43.5355 -10.71 L42.0199 -4.6788 Q42.0199 -4.6475 42.0199 -4.6319 Q42.0199 -4.6163 42.0042 -4.585 Q42.0042 -4.4444 42.1761 -4.3975 Q42.4574 -4.3507 43.3949 -4.3507 Q43.4886 -4.3507 43.4886 -4.1944 Q43.4574 -4.0538 43.4339 -4.0069 Q43.4105 -3.96 43.3167 -3.96 L39.4261 -3.96 Q39.3011 -3.96 39.3011 -4.1007 Z\"\n",
       "      /><path style=\"stroke:none;\" d=\"M47.4758 -1.21 Q47.382 -1.21 47.382 -1.3038 Q47.382 -1.3507 47.3977 -1.3819 Q49.2727 -3.21 49.2727 -6.71 Q49.2727 -10.21 47.4133 -12.0225 Q47.382 -12.0538 47.382 -12.1163 Q47.382 -12.1475 47.4055 -12.1788 Q47.4289 -12.21 47.4758 -12.21 L47.5695 -12.21 Q47.6008 -12.21 47.632 -12.1944 Q48.4133 -11.5694 48.9445 -10.6788 Q49.4758 -9.7882 49.718 -8.7725 Q49.9602 -7.7569 49.9602 -6.71 Q49.9602 -5.9288 49.8273 -5.1788 Q49.6945 -4.4288 49.4055 -3.6944 Q49.1164 -2.96 48.6789 -2.335 Q48.2414 -1.71 47.632 -1.2257 Q47.6008 -1.21 47.5695 -1.21 L47.4758 -1.21 Z\"\n",
       "    /></g\n",
       "    ><g style=\"stroke-linecap:butt; fill:rgb(0,114,189); text-rendering:geometricPrecision; image-rendering:optimizeQuality; color-rendering:optimizeQuality; stroke-linejoin:round; stroke:rgb(0,114,189); color-interpolation:linearRGB; stroke-width:0.5;\"\n",
       "    ><path d=\"M73 339.75 L74.0023 339.75 L75.0046 339.75 L76.0069 339.75 L77.0092 339.75 L78.0116 339.75 L79.0139 339.75 L80.0162 339.75 L81.0185 339.75 L82.0208 339.75 L83.0231 339.75 L84.0254 339.75 L85.0277 339.75 L86.03 339.75 L87.0323 339.75 L88.0346 339.75 L89.0369 339.75 L90.0393 339.75 L91.0416 339.75 L92.0439 339.75 L93.0462 339.75 L94.0485 339.75 L95.0508 339.75 L96.0531 339.75 L97.0554 339.75 L98.0577 339.75 L99.0601 339.75 L100.0624 339.75 L101.0647 339.75 L102.067 339.75 L103.0693 339.75 L104.0716 339.75 L105.0739 339.75 L106.0762 339.75 L107.0785 339.75 L108.0808 339.75 L109.0831 339.75 L110.0854 339.75 L111.0878 339.75 L112.0901 339.75 L113.0924 339.75 L114.0947 339.75 L115.097 339.75 L116.0993 339.75 L117.1016 339.75 L118.1039 339.75 L119.1062 339.75 L120.1085 339.75 L121.1109 339.75 L122.1132 339.75 L123.1155 339.75 L124.1178 339.75 L125.1201 339.75 L126.1224 339.75 L127.1247 339.75 L128.127 339.75 L129.1293 339.75 L130.1316 339.75 L131.134 339.75 L132.1363 339.75 L133.1386 339.75 L134.1409 339.75 L135.1432 339.75 L136.1455 339.75 L137.1478 339.75 L138.1501 339.75 L139.1524 339.75 L140.1547 339.75 L141.157 339.75 L142.1594 339.75 L143.1617 339.75 L144.164 339.75 L145.1663 339.75 L146.1686 339.75 L147.1709 339.75 L148.1732 339.75 L149.1755 339.75 L150.1778 339.75 L151.1801 339.75 L152.1824 339.75 L153.1848 339.75 L154.1871 339.75 L155.1894 339.75 L156.1917 339.75 L157.194 339.75 L158.1963 339.75 L159.1986 339.75 L160.2009 339.75 L161.2032 339.75 L162.2055 339.75 L163.2079 339.75 L164.2102 339.75 L165.2125 339.75 L166.2148 339.75 L167.2171 339.75 L168.2194 339.75 L169.2217 339.75 L170.224 339.75 L171.2263 339.75 L172.2286 339.75 L173.2309 339.75 L174.2333 339.75 L175.2356 339.75 L176.2379 339.75 L177.2402 339.75 L178.2425 339.75 L179.2448 339.75 L180.2471 339.75 L181.2494 339.75 L182.2517 339.75 L183.254 339.75 L184.2563 339.75 L185.2587 339.75 L186.261 339.75 L187.2633 339.75 L188.2656 339.75 L189.2679 339.75 L190.2702 339.75 L191.2725 339.75 L192.2748 339.75 L193.2771 339.75 L194.2794 339.75 L195.2818 339.75 L196.2841 339.75 L197.2864 339.75 L198.2887 339.75 L199.291 339.75 L200.2933 339.75 L201.2956 339.75 L202.2979 339.75 L203.3002 339.75 L204.3025 339.75 L205.3049 339.75 L206.3072 339.75 L207.3095 339.75 L208.3118 339.75 L209.3141 339.75 L210.3164 339.75 L211.3187 339.75 L212.321 339.75 L213.3233 339.75 L214.3256 339.75 L215.3279 339.75 L216.3303 339.75 L217.3326 339.75 L218.3349 339.75 L219.3372 339.75 L220.3395 339.75 L221.3418 339.75 L222.3441 339.75 L223.3464 339.75 L224.3487 339.75 L225.351 339.75 L226.3533 339.75 L227.3557 339.75 L228.358 339.75 L229.3603 339.75 L230.3626 339.75 L231.3649 339.75 L232.3672 339.75 L233.3695 339.75 L234.3718 339.75 L235.3741 339.75 L236.3764 339.75 L237.3788 339.75 L238.3811 339.75 L239.3834 339.75 L240.3857 339.75 L241.388 339.75 L242.3903 339.75 L243.3926 339.75 L244.3949 339.75 L245.3972 339.75 L246.3995 339.75 L247.4019 339.75 L248.4042 339.75 L249.4065 339.75 L250.4088 339.75 L251.4111 339.75 L252.4134 339.75 L253.4157 339.75 L254.418 339.75 L255.4203 339.75 L256.4226 339.75 L257.425 339.75 L258.4272 339.75 L259.4296 339.75 L260.4319 339.75 L261.4342 339.75 L262.4365 339.75 L263.4388 339.75 L264.4411 339.75 L265.4434 339.75 L266.4457 339.75 L267.448 339.75 L268.4503 339.75 L269.4527 339.75 L270.455 339.75 L271.4573 339.75 L272.4596 339.75 L273.4619 339.75 L274.4642 339.75 L275.4665 339.75 L276.4688 339.75 L277.4711 339.75 L278.4734 339.75 L279.4757 339.75 L280.4781 339.75 L281.4804 339.75 L282.4827 339.75 L283.485 339.75 L284.4873 339.75 L285.4896 339.75 L286.4919 339.75 L287.4942 339.75 L288.4966 339.75 L289.4988 339.75 L290.5012 339.75 L291.5034 339.75 L292.5058 339.75 L293.5081 339.75 L294.5104 339.75 L295.5127 339.75 L296.515 339.75 L297.5173 339.75 L298.5196 339.75 L299.5219 339.75 L300.5242 339.75 L301.5266 339.75 L302.5289 339.75 L303.5312 339.75 L304.5335 339.75 L305.5358 339.75 L306.5381 339.75 L307.5404 339.75 L308.5427 339.75 L309.545 339.75 L310.5473 339.75 L311.5497 339.75 L312.552 339.75 L313.5543 339.75 L314.5566 339.75 L315.5589 339.75 L316.5612 339.75 L317.5635 339.75 L318.5658 339.75 L319.5681 339.75 L320.5704 339.75 L321.5728 339.75 L322.5751 339.75 L323.5774 339.75 L324.5797 339.75 L325.582 339.75 L326.5843 339.75 L327.5866 339.75 L328.5889 339.75 L329.5912 339.75 L330.5935 339.75 L331.5959 339.75 L332.5981 339.75 L333.6005 339.75 L334.6028 339.75 L335.6051 339.75 L336.6074 339.75 L337.6097 339.75 L338.612 339.75 L339.6143 339.75 L340.6166 339.75 L341.6189 339.75 L342.6212 339.75 L343.6236 339.75 L344.6259 339.75 L345.6282 339.75 L346.6305 339.75 L347.6328 339.75 L348.6351 339.75 L349.6374 339.75 L350.6397 339.75 L351.642 339.75 L352.6443 339.75 L353.6466 339.75 L354.649 339.75 L355.6513 339.75 L356.6536 339.75 L357.6559 339.75 L358.6582 339.75 L359.6605 339.75 L360.6628 339.75 L361.6651 339.75 L362.6674 65.75 L363.6697 65.75 L364.6721 65.75 L365.6743 65.75 L366.6767 65.75 L367.679 65.75 L368.6813 65.75 L369.6836 65.75 L370.6859 65.75 L371.6882 65.75 L372.6905 65.75 L373.6928 65.75 L374.6951 65.75 L375.6974 65.75 L376.6998 65.75 L377.7021 65.75 L378.7044 65.75 L379.7067 65.75 L380.709 65.75 L381.7113 65.75 L382.7136 65.75 L383.7159 65.75 L384.7182 65.75 L385.7206 65.75 L386.7229 65.75 L387.7252 65.75 L388.7275 65.75 L389.7298 65.75 L390.7321 65.75 L391.7344 65.75 L392.7367 65.75 L393.739 65.75 L394.7413 65.75 L395.7437 65.75 L396.746 65.75 L397.7483 65.75 L398.7506 65.75 L399.7529 65.75 L400.7552 65.75 L401.7575 65.75 L402.7598 65.75 L403.7621 65.75 L404.7644 65.75 L405.7668 65.75 L406.769 65.75 L407.7714 65.75 L408.7737 65.75 L409.776 65.75 L410.7783 65.75 L411.7806 65.75 L412.7829 65.75 L413.7852 65.75 L414.7875 65.75 L415.7899 65.75 L416.7921 65.75 L417.7945 65.75 L418.7968 65.75 L419.7991 65.75 L420.8014 65.75 L421.8037 65.75 L422.806 65.75 L423.8083 65.75 L424.8106 65.75 L425.8129 65.75 L426.8152 65.75 L427.8176 65.75 L428.8199 65.75 L429.8222 65.75 L430.8245 65.75 L431.8268 65.75 L432.8291 65.75 L433.8314 65.75 L434.8337 65.75 L435.836 65.75 L436.8383 65.75 L437.8406 65.75 L438.843 65.75 L439.8453 65.75 L440.8476 65.75 L441.8499 65.75 L442.8522 65.75 L443.8545 65.75 L444.8568 65.75 L445.8591 65.75 L446.8614 65.75 L447.8637 65.75 L448.8661 65.75 L449.8683 65.75 L450.8707 65.75 L451.873 65.75 L452.8753 65.75 L453.8776 65.75 L454.8799 65.75 L455.8822 65.75 L456.8845 65.75 L457.8868 65.75 L458.8891 65.75 L459.8914 65.75 L460.8938 65.75 L461.8961 65.75 L462.8984 65.75 L463.9007 65.75 L464.903 65.75 L465.9053 65.75 L466.9076 65.75 L467.9099 65.75 L468.9122 65.75 L469.9146 65.75 L470.9168 65.75 L471.9192 65.75 L472.9215 65.75 L473.9238 65.75 L474.9261 65.75 L475.9284 65.75 L476.9307 65.75 L477.933 65.75 L478.9353 65.75 L479.9376 65.75 L480.9399 65.75 L481.9423 65.75 L482.9446 65.75 L483.9469 65.75 L484.9492 65.75 L485.9515 65.75 L486.9538 65.75 L487.9561 65.75 L488.9584 65.75 L489.9607 65.75 L490.963 65.75 L491.9654 65.75 L492.9677 65.75 L493.97 65.75 L494.9723 65.75 L495.9746 65.75 L496.9769 65.75 L497.9792 65.75 L498.9815 65.75 L499.9838 65.75 L500.9861 65.75 L501.9885 65.75 L502.9908 65.75 L503.9931 65.75 L504.9954 65.75 L505.9977 65.75 L507 65.75\" style=\"fill:none; fill-rule:evenodd;\"\n",
       "    /></g\n",
       "  ></g\n",
       "></svg\n",
       ">\n"
      ]
     },
     "metadata": {
      "filenames": {
       "image/svg+xml": "/Users/eechris/code/src/github.com/cpjobling/eg-247-textbook/_build/jupyter_execute/elementary_signals/index_21_0.svg"
      }
     },
     "output_type": "display_data"
    }
   ],
   "source": [
    "T = 1; % again to make the signal plottable.\n",
    "ezplot(u0(t - T),[-1,2]),grid,title('Time delay $$u_0(t - T)$$','interpreter','latex')"
   ]
  },
  {
   "cell_type": "markdown",
   "id": "20e90623",
   "metadata": {
    "slideshow": {
     "slide_type": "notes"
    }
   },
   "source": [
    "This is a *time delay* ... note for $u_0(t - T)$ the step change occurs T seconds **later** than it does for $u_o(t)$."
   ]
  },
  {
   "cell_type": "code",
   "execution_count": 7,
   "id": "d263b298",
   "metadata": {
    "slideshow": {
     "slide_type": "subslide"
    }
   },
   "outputs": [
    {
     "data": {
      "image/svg+xml": [
       "<?xml version=\"1.0\"?>\n",
       "<!DOCTYPE svg PUBLIC '-//W3C//DTD SVG 1.0//EN'\n",
       "          'http://www.w3.org/TR/2001/REC-SVG-20010904/DTD/svg10.dtd'>\n",
       "<svg xmlns:xlink=\"http://www.w3.org/1999/xlink\" style=\"fill-opacity:1; color-rendering:auto; color-interpolation:auto; text-rendering:auto; stroke:black; stroke-linecap:square; stroke-miterlimit:10; shape-rendering:auto; stroke-opacity:1; fill:black; stroke-dasharray:none; font-weight:normal; stroke-width:1; font-family:'Dialog'; font-style:normal; stroke-linejoin:miter; font-size:12px; stroke-dashoffset:0; image-rendering:auto;\" width=\"560\" height=\"420\" xmlns=\"http://www.w3.org/2000/svg\"\n",
       "><!--Generated by the Batik Graphics2D SVG Generator--><defs id=\"genericDefs\"\n",
       "  /><g\n",
       "  ><defs id=\"defs1\"\n",
       "    ><clipPath clipPathUnits=\"userSpaceOnUse\" id=\"clipPath1\"\n",
       "      ><path d=\"M0 0 L560 0 L560 420 L0 420 L0 0 Z\"\n",
       "      /></clipPath\n",
       "    ></defs\n",
       "    ><g style=\"fill:white; stroke:white;\"\n",
       "    ><rect x=\"0\" y=\"0\" width=\"560\" style=\"clip-path:url(#clipPath1); stroke:none;\" height=\"420\"\n",
       "    /></g\n",
       "    ><g style=\"fill:white; text-rendering:optimizeSpeed; color-rendering:optimizeSpeed; image-rendering:optimizeSpeed; shape-rendering:crispEdges; stroke:white; color-interpolation:sRGB;\"\n",
       "    ><rect x=\"0\" width=\"560\" height=\"420\" y=\"0\" style=\"stroke:none;\"\n",
       "      /><path style=\"stroke:none;\" d=\"M73 374 L507 374 L507 31.5 L73 31.5 Z\"\n",
       "    /></g\n",
       "    ><g style=\"stroke-linecap:butt; fill-opacity:0.149; fill:rgb(38,38,38); text-rendering:geometricPrecision; image-rendering:optimizeQuality; color-rendering:optimizeQuality; stroke-linejoin:round; stroke:rgb(38,38,38); color-interpolation:linearRGB; stroke-width:0.5; stroke-opacity:0.149;\"\n",
       "    ><line y2=\"31.5\" style=\"fill:none;\" x1=\"73\" x2=\"73\" y1=\"374\"\n",
       "      /><line y2=\"31.5\" style=\"fill:none;\" x1=\"145.3333\" x2=\"145.3333\" y1=\"374\"\n",
       "      /><line y2=\"31.5\" style=\"fill:none;\" x1=\"217.6667\" x2=\"217.6667\" y1=\"374\"\n",
       "      /><line y2=\"31.5\" style=\"fill:none;\" x1=\"290\" x2=\"290\" y1=\"374\"\n",
       "      /><line y2=\"31.5\" style=\"fill:none;\" x1=\"362.3333\" x2=\"362.3333\" y1=\"374\"\n",
       "      /><line y2=\"31.5\" style=\"fill:none;\" x1=\"434.6667\" x2=\"434.6667\" y1=\"374\"\n",
       "      /><line y2=\"31.5\" style=\"fill:none;\" x1=\"507\" x2=\"507\" y1=\"374\"\n",
       "      /><line y2=\"339.75\" style=\"fill:none;\" x1=\"507\" x2=\"73\" y1=\"339.75\"\n",
       "      /><line y2=\"284.95\" style=\"fill:none;\" x1=\"507\" x2=\"73\" y1=\"284.95\"\n",
       "      /><line y2=\"230.15\" style=\"fill:none;\" x1=\"507\" x2=\"73\" y1=\"230.15\"\n",
       "      /><line y2=\"175.35\" style=\"fill:none;\" x1=\"507\" x2=\"73\" y1=\"175.35\"\n",
       "      /><line y2=\"120.55\" style=\"fill:none;\" x1=\"507\" x2=\"73\" y1=\"120.55\"\n",
       "      /><line y2=\"65.75\" style=\"fill:none;\" x1=\"507\" x2=\"73\" y1=\"65.75\"\n",
       "      /><line x1=\"73\" x2=\"507\" y1=\"374\" style=\"stroke-linecap:square; fill-opacity:1; fill:none; stroke-opacity:1;\" y2=\"374\"\n",
       "      /><line x1=\"73\" x2=\"507\" y1=\"31.5\" style=\"stroke-linecap:square; fill-opacity:1; fill:none; stroke-opacity:1;\" y2=\"31.5\"\n",
       "      /><line x1=\"73\" x2=\"73\" y1=\"374\" style=\"stroke-linecap:square; fill-opacity:1; fill:none; stroke-opacity:1;\" y2=\"369.66\"\n",
       "      /><line x1=\"145.3333\" x2=\"145.3333\" y1=\"374\" style=\"stroke-linecap:square; fill-opacity:1; fill:none; stroke-opacity:1;\" y2=\"369.66\"\n",
       "      /><line x1=\"217.6667\" x2=\"217.6667\" y1=\"374\" style=\"stroke-linecap:square; fill-opacity:1; fill:none; stroke-opacity:1;\" y2=\"369.66\"\n",
       "      /><line x1=\"290\" x2=\"290\" y1=\"374\" style=\"stroke-linecap:square; fill-opacity:1; fill:none; stroke-opacity:1;\" y2=\"369.66\"\n",
       "      /><line x1=\"362.3333\" x2=\"362.3333\" y1=\"374\" style=\"stroke-linecap:square; fill-opacity:1; fill:none; stroke-opacity:1;\" y2=\"369.66\"\n",
       "      /><line x1=\"434.6667\" x2=\"434.6667\" y1=\"374\" style=\"stroke-linecap:square; fill-opacity:1; fill:none; stroke-opacity:1;\" y2=\"369.66\"\n",
       "      /><line x1=\"507\" x2=\"507\" y1=\"374\" style=\"stroke-linecap:square; fill-opacity:1; fill:none; stroke-opacity:1;\" y2=\"369.66\"\n",
       "      /><line x1=\"73\" x2=\"73\" y1=\"31.5\" style=\"stroke-linecap:square; fill-opacity:1; fill:none; stroke-opacity:1;\" y2=\"35.84\"\n",
       "      /><line x1=\"145.3333\" x2=\"145.3333\" y1=\"31.5\" style=\"stroke-linecap:square; fill-opacity:1; fill:none; stroke-opacity:1;\" y2=\"35.84\"\n",
       "      /><line x1=\"217.6667\" x2=\"217.6667\" y1=\"31.5\" style=\"stroke-linecap:square; fill-opacity:1; fill:none; stroke-opacity:1;\" y2=\"35.84\"\n",
       "      /><line x1=\"290\" x2=\"290\" y1=\"31.5\" style=\"stroke-linecap:square; fill-opacity:1; fill:none; stroke-opacity:1;\" y2=\"35.84\"\n",
       "      /><line x1=\"362.3333\" x2=\"362.3333\" y1=\"31.5\" style=\"stroke-linecap:square; fill-opacity:1; fill:none; stroke-opacity:1;\" y2=\"35.84\"\n",
       "      /><line x1=\"434.6667\" x2=\"434.6667\" y1=\"31.5\" style=\"stroke-linecap:square; fill-opacity:1; fill:none; stroke-opacity:1;\" y2=\"35.84\"\n",
       "      /><line x1=\"507\" x2=\"507\" y1=\"31.5\" style=\"stroke-linecap:square; fill-opacity:1; fill:none; stroke-opacity:1;\" y2=\"35.84\"\n",
       "    /></g\n",
       "    ><g transform=\"translate(73,378)\" style=\"font-size:10px; fill:rgb(38,38,38); text-rendering:geometricPrecision; image-rendering:optimizeQuality; color-rendering:optimizeQuality; font-family:'Helvetica Neue'; stroke:rgb(38,38,38); color-interpolation:linearRGB;\"\n",
       "    ><path style=\"stroke:none;\" d=\"M-4.5 6.82 L-4.5 7.62 L-1.61 7.62 L-1.61 6.82 ZM-0.67 5.42 L0.18 5.42 Q0.17 5.1 0.245 4.785 Q0.32 4.47 0.49 4.22 Q0.66 3.97 0.925 3.815 Q1.19 3.66 1.56 3.66 Q1.84 3.66 2.09 3.75 Q2.34 3.84 2.525 4.01 Q2.71 4.18 2.82 4.415 Q2.93 4.65 2.93 4.94 Q2.93 5.31 2.815 5.59 Q2.7 5.87 2.475 6.11 Q2.25 6.35 1.91 6.585 Q1.57 6.82 1.12 7.1 Q0.75 7.32 0.41 7.57 Q0.07 7.82 -0.2 8.15 Q-0.47 8.48 -0.645 8.925 Q-0.82 9.37 -0.87 10 L3.76 10 L3.76 9.25 L0.12 9.25 Q0.18 8.92 0.375 8.665 Q0.57 8.41 0.845 8.19 Q1.12 7.97 1.45 7.775 Q1.78 7.58 2.11 7.38 Q2.44 7.17 2.75 6.94 Q3.06 6.71 3.3 6.425 Q3.54 6.14 3.685 5.78 Q3.83 5.42 3.83 4.95 Q3.83 4.45 3.655 4.07 Q3.48 3.69 3.18 3.435 Q2.88 3.18 2.475 3.045 Q2.07 2.91 1.61 2.91 Q1.05 2.91 0.61 3.1 Q0.17 3.29 -0.125 3.625 Q-0.42 3.96 -0.56 4.42 Q-0.7 4.88 -0.67 5.42 Z\"\n",
       "    /></g\n",
       "    ><g transform=\"translate(145.3333,378)\" style=\"font-size:10px; fill:rgb(38,38,38); text-rendering:geometricPrecision; image-rendering:optimizeQuality; color-rendering:optimizeQuality; font-family:'Helvetica Neue'; stroke:rgb(38,38,38); color-interpolation:linearRGB;\"\n",
       "    ><path style=\"stroke:none;\" d=\"M-8.5 6.82 L-8.5 7.62 L-5.61 7.62 L-5.61 6.82 ZM-1.55 10 L-1.55 2.91 L-2.2 2.91 Q-2.27 3.31 -2.46 3.57 Q-2.65 3.83 -2.925 3.98 Q-3.2 4.13 -3.54 4.185 Q-3.88 4.24 -4.24 4.24 L-4.24 4.92 L-2.4 4.92 L-2.4 10 ZM1.28 8.89 L1.28 10 L2.39 10 L2.39 8.89 ZM7.93 3.78 L7.93 3.03 L4.43 3.03 L3.77 6.71 L4.5 6.75 Q4.75 6.45 5.075 6.265 Q5.4 6.08 5.82 6.08 Q6.18 6.08 6.475 6.2 Q6.77 6.32 6.98 6.535 Q7.19 6.75 7.305 7.045 Q7.42 7.34 7.42 7.69 Q7.42 8.11 7.3 8.425 Q7.18 8.74 6.975 8.95 Q6.77 9.16 6.495 9.265 Q6.22 9.37 5.92 9.37 Q5.6 9.37 5.335 9.275 Q5.07 9.18 4.875 9.005 Q4.68 8.83 4.565 8.595 Q4.45 8.36 4.43 8.09 L3.58 8.09 Q3.59 8.57 3.77 8.95 Q3.95 9.33 4.26 9.585 Q4.57 9.84 4.975 9.975 Q5.38 10.11 5.84 10.11 Q6.46 10.11 6.925 9.915 Q7.39 9.72 7.7 9.39 Q8.01 9.06 8.165 8.635 Q8.32 8.21 8.32 7.76 Q8.32 7.15 8.14 6.695 Q7.96 6.24 7.65 5.935 Q7.34 5.63 6.92 5.48 Q6.5 5.33 6.03 5.33 Q5.67 5.33 5.305 5.455 Q4.94 5.58 4.71 5.84 L4.69 5.82 L5.07 3.78 Z\"\n",
       "    /></g\n",
       "    ><g transform=\"translate(217.6667,378)\" style=\"font-size:10px; fill:rgb(38,38,38); text-rendering:geometricPrecision; image-rendering:optimizeQuality; color-rendering:optimizeQuality; font-family:'Helvetica Neue'; stroke:rgb(38,38,38); color-interpolation:linearRGB;\"\n",
       "    ><path style=\"stroke:none;\" d=\"M-4.5 6.82 L-4.5 7.62 L-1.61 7.62 L-1.61 6.82 ZM2.45 10 L2.45 2.91 L1.8 2.91 Q1.73 3.31 1.54 3.57 Q1.35 3.83 1.075 3.98 Q0.8 4.13 0.46 4.185 Q0.12 4.24 -0.24 4.24 L-0.24 4.92 L1.6 4.92 L1.6 10 Z\"\n",
       "    /></g\n",
       "    ><g transform=\"translate(290,378)\" style=\"font-size:10px; fill:rgb(38,38,38); text-rendering:geometricPrecision; image-rendering:optimizeQuality; color-rendering:optimizeQuality; font-family:'Helvetica Neue'; stroke:rgb(38,38,38); color-interpolation:linearRGB;\"\n",
       "    ><path style=\"stroke:none;\" d=\"M-8.5 6.82 L-8.5 7.62 L-5.61 7.62 L-5.61 6.82 ZM-3.79 6.51 Q-3.79 6.25 -3.785 5.935 Q-3.78 5.62 -3.735 5.305 Q-3.69 4.99 -3.605 4.69 Q-3.52 4.39 -3.355 4.165 Q-3.19 3.94 -2.94 3.8 Q-2.69 3.66 -2.33 3.66 Q-1.97 3.66 -1.72 3.8 Q-1.47 3.94 -1.305 4.165 Q-1.14 4.39 -1.055 4.69 Q-0.97 4.99 -0.925 5.305 Q-0.88 5.62 -0.875 5.935 Q-0.87 6.25 -0.87 6.51 Q-0.87 6.91 -0.895 7.405 Q-0.92 7.9 -1.055 8.335 Q-1.19 8.77 -1.49 9.07 Q-1.79 9.37 -2.33 9.37 Q-2.87 9.37 -3.17 9.07 Q-3.47 8.77 -3.605 8.335 Q-3.74 7.9 -3.765 7.405 Q-3.79 6.91 -3.79 6.51 ZM-4.69 6.52 Q-4.69 6.91 -4.67 7.33 Q-4.65 7.75 -4.57 8.15 Q-4.49 8.55 -4.34 8.905 Q-4.19 9.26 -3.93 9.53 Q-3.67 9.8 -3.275 9.955 Q-2.88 10.11 -2.33 10.11 Q-1.77 10.11 -1.38 9.955 Q-0.99 9.8 -0.73 9.53 Q-0.47 9.26 -0.32 8.905 Q-0.17 8.55 -0.09 8.15 Q-0.01 7.75 0.01 7.33 Q0.03 6.91 0.03 6.52 Q0.03 6.13 0.01 5.71 Q-0.01 5.29 -0.09 4.89 Q-0.17 4.49 -0.32 4.13 Q-0.47 3.77 -0.73 3.5 Q-0.99 3.23 -1.385 3.07 Q-1.78 2.91 -2.33 2.91 Q-2.88 2.91 -3.275 3.07 Q-3.67 3.23 -3.93 3.5 Q-4.19 3.77 -4.34 4.13 Q-4.49 4.49 -4.57 4.89 Q-4.65 5.29 -4.67 5.71 Q-4.69 6.13 -4.69 6.52 ZM1.28 8.89 L1.28 10 L2.39 10 L2.39 8.89 ZM7.93 3.78 L7.93 3.03 L4.43 3.03 L3.77 6.71 L4.5 6.75 Q4.75 6.45 5.075 6.265 Q5.4 6.08 5.82 6.08 Q6.18 6.08 6.475 6.2 Q6.77 6.32 6.98 6.535 Q7.19 6.75 7.305 7.045 Q7.42 7.34 7.42 7.69 Q7.42 8.11 7.3 8.425 Q7.18 8.74 6.975 8.95 Q6.77 9.16 6.495 9.265 Q6.22 9.37 5.92 9.37 Q5.6 9.37 5.335 9.275 Q5.07 9.18 4.875 9.005 Q4.68 8.83 4.565 8.595 Q4.45 8.36 4.43 8.09 L3.58 8.09 Q3.59 8.57 3.77 8.95 Q3.95 9.33 4.26 9.585 Q4.57 9.84 4.975 9.975 Q5.38 10.11 5.84 10.11 Q6.46 10.11 6.925 9.915 Q7.39 9.72 7.7 9.39 Q8.01 9.06 8.165 8.635 Q8.32 8.21 8.32 7.76 Q8.32 7.15 8.14 6.695 Q7.96 6.24 7.65 5.935 Q7.34 5.63 6.92 5.48 Q6.5 5.33 6.03 5.33 Q5.67 5.33 5.305 5.455 Q4.94 5.58 4.71 5.84 L4.69 5.82 L5.07 3.78 Z\"\n",
       "    /></g\n",
       "    ><g transform=\"translate(362.3333,378)\" style=\"font-size:10px; fill:rgb(38,38,38); text-rendering:geometricPrecision; image-rendering:optimizeQuality; color-rendering:optimizeQuality; font-family:'Helvetica Neue'; stroke:rgb(38,38,38); color-interpolation:linearRGB;\"\n",
       "    ><path style=\"stroke:none;\" d=\"M-1.68 6.51 Q-1.68 6.25 -1.675 5.935 Q-1.67 5.62 -1.625 5.305 Q-1.58 4.99 -1.495 4.69 Q-1.41 4.39 -1.245 4.165 Q-1.08 3.94 -0.83 3.8 Q-0.58 3.66 -0.22 3.66 Q0.14 3.66 0.39 3.8 Q0.64 3.94 0.805 4.165 Q0.97 4.39 1.055 4.69 Q1.14 4.99 1.185 5.305 Q1.23 5.62 1.235 5.935 Q1.24 6.25 1.24 6.51 Q1.24 6.91 1.215 7.405 Q1.19 7.9 1.055 8.335 Q0.92 8.77 0.62 9.07 Q0.32 9.37 -0.22 9.37 Q-0.76 9.37 -1.06 9.07 Q-1.36 8.77 -1.495 8.335 Q-1.63 7.9 -1.655 7.405 Q-1.68 6.91 -1.68 6.51 ZM-2.58 6.52 Q-2.58 6.91 -2.56 7.33 Q-2.54 7.75 -2.46 8.15 Q-2.38 8.55 -2.23 8.905 Q-2.08 9.26 -1.82 9.53 Q-1.56 9.8 -1.165 9.955 Q-0.77 10.11 -0.22 10.11 Q0.34 10.11 0.73 9.955 Q1.12 9.8 1.38 9.53 Q1.64 9.26 1.79 8.905 Q1.94 8.55 2.02 8.15 Q2.1 7.75 2.12 7.33 Q2.14 6.91 2.14 6.52 Q2.14 6.13 2.12 5.71 Q2.1 5.29 2.02 4.89 Q1.94 4.49 1.79 4.13 Q1.64 3.77 1.38 3.5 Q1.12 3.23 0.725 3.07 Q0.33 2.91 -0.22 2.91 Q-0.77 2.91 -1.165 3.07 Q-1.56 3.23 -1.82 3.5 Q-2.08 3.77 -2.23 4.13 Q-2.38 4.49 -2.46 4.89 Q-2.54 5.29 -2.56 5.71 Q-2.58 6.13 -2.58 6.52 Z\"\n",
       "    /></g\n",
       "    ><g transform=\"translate(434.6667,378)\" style=\"font-size:10px; fill:rgb(38,38,38); text-rendering:geometricPrecision; image-rendering:optimizeQuality; color-rendering:optimizeQuality; font-family:'Helvetica Neue'; stroke:rgb(38,38,38); color-interpolation:linearRGB;\"\n",
       "    ><path style=\"stroke:none;\" d=\"M-5.68 6.51 Q-5.68 6.25 -5.675 5.935 Q-5.67 5.62 -5.625 5.305 Q-5.58 4.99 -5.495 4.69 Q-5.41 4.39 -5.245 4.165 Q-5.08 3.94 -4.83 3.8 Q-4.58 3.66 -4.22 3.66 Q-3.86 3.66 -3.61 3.8 Q-3.36 3.94 -3.195 4.165 Q-3.03 4.39 -2.945 4.69 Q-2.86 4.99 -2.815 5.305 Q-2.77 5.62 -2.765 5.935 Q-2.76 6.25 -2.76 6.51 Q-2.76 6.91 -2.785 7.405 Q-2.81 7.9 -2.945 8.335 Q-3.08 8.77 -3.38 9.07 Q-3.68 9.37 -4.22 9.37 Q-4.76 9.37 -5.06 9.07 Q-5.36 8.77 -5.495 8.335 Q-5.63 7.9 -5.655 7.405 Q-5.68 6.91 -5.68 6.51 ZM-6.58 6.52 Q-6.58 6.91 -6.56 7.33 Q-6.54 7.75 -6.46 8.15 Q-6.38 8.55 -6.23 8.905 Q-6.08 9.26 -5.82 9.53 Q-5.56 9.8 -5.165 9.955 Q-4.77 10.11 -4.22 10.11 Q-3.66 10.11 -3.27 9.955 Q-2.88 9.8 -2.62 9.53 Q-2.36 9.26 -2.21 8.905 Q-2.06 8.55 -1.98 8.15 Q-1.9 7.75 -1.88 7.33 Q-1.86 6.91 -1.86 6.52 Q-1.86 6.13 -1.88 5.71 Q-1.9 5.29 -1.98 4.89 Q-2.06 4.49 -2.21 4.13 Q-2.36 3.77 -2.62 3.5 Q-2.88 3.23 -3.275 3.07 Q-3.67 2.91 -4.22 2.91 Q-4.77 2.91 -5.165 3.07 Q-5.56 3.23 -5.82 3.5 Q-6.08 3.77 -6.23 4.13 Q-6.38 4.49 -6.46 4.89 Q-6.54 5.29 -6.56 5.71 Q-6.58 6.13 -6.58 6.52 ZM-0.61 8.89 L-0.61 10 L0.5 10 L0.5 8.89 ZM6.04 3.78 L6.04 3.03 L2.54 3.03 L1.88 6.71 L2.61 6.75 Q2.86 6.45 3.185 6.265 Q3.51 6.08 3.93 6.08 Q4.29 6.08 4.585 6.2 Q4.88 6.32 5.09 6.535 Q5.3 6.75 5.415 7.045 Q5.53 7.34 5.53 7.69 Q5.53 8.11 5.41 8.425 Q5.29 8.74 5.085 8.95 Q4.88 9.16 4.605 9.265 Q4.33 9.37 4.03 9.37 Q3.71 9.37 3.445 9.275 Q3.18 9.18 2.985 9.005 Q2.79 8.83 2.675 8.595 Q2.56 8.36 2.54 8.09 L1.69 8.09 Q1.7 8.57 1.88 8.95 Q2.06 9.33 2.37 9.585 Q2.68 9.84 3.085 9.975 Q3.49 10.11 3.95 10.11 Q4.57 10.11 5.035 9.915 Q5.5 9.72 5.81 9.39 Q6.12 9.06 6.275 8.635 Q6.43 8.21 6.43 7.76 Q6.43 7.15 6.25 6.695 Q6.07 6.24 5.76 5.935 Q5.45 5.63 5.03 5.48 Q4.61 5.33 4.14 5.33 Q3.78 5.33 3.415 5.455 Q3.05 5.58 2.82 5.84 L2.8 5.82 L3.18 3.78 Z\"\n",
       "    /></g\n",
       "    ><g transform=\"translate(507,378)\" style=\"font-size:10px; fill:rgb(38,38,38); text-rendering:geometricPrecision; image-rendering:optimizeQuality; color-rendering:optimizeQuality; font-family:'Helvetica Neue'; stroke:rgb(38,38,38); color-interpolation:linearRGB;\"\n",
       "    ><path style=\"stroke:none;\" d=\"M0.56 10 L0.56 2.91 L-0.09 2.91 Q-0.16 3.31 -0.35 3.57 Q-0.54 3.83 -0.815 3.98 Q-1.09 4.13 -1.43 4.185 Q-1.77 4.24 -2.13 4.24 L-2.13 4.92 L-0.29 4.92 L-0.29 10 Z\"\n",
       "    /></g\n",
       "    ><g transform=\"translate(288,403)\" style=\"font-size:11px; fill:rgb(38,38,38); text-rendering:geometricPrecision; image-rendering:optimizeQuality; color-rendering:optimizeQuality; font-family:'Helvetica Neue'; stroke:rgb(38,38,38); color-interpolation:linearRGB;\"\n",
       "    ><path style=\"stroke:none;\" d=\"M2.002 -5.687 L2.002 -7.392 L1.067 -7.392 L1.067 -5.687 L0.099 -5.687 L0.099 -4.862 L1.067 -4.862 L1.067 -1.243 Q1.067 -0.847 1.144 -0.605 Q1.221 -0.363 1.3805 -0.231 Q1.54 -0.099 1.7985 -0.0495 Q2.057 0 2.42 0 L3.135 0 L3.135 -0.825 L2.706 -0.825 Q2.486 -0.825 2.3485 -0.8415 Q2.211 -0.858 2.134 -0.913 Q2.057 -0.968 2.0295 -1.067 Q2.002 -1.166 2.002 -1.331 L2.002 -4.862 L3.135 -4.862 L3.135 -5.687 Z\"\n",
       "    /></g\n",
       "    ><g style=\"fill:rgb(38,38,38); text-rendering:geometricPrecision; image-rendering:optimizeQuality; color-rendering:optimizeQuality; stroke-linejoin:round; stroke:rgb(38,38,38); color-interpolation:linearRGB; stroke-width:0.5;\"\n",
       "    ><line y2=\"31.5\" style=\"fill:none;\" x1=\"73\" x2=\"73\" y1=\"374\"\n",
       "      /><line y2=\"31.5\" style=\"fill:none;\" x1=\"507\" x2=\"507\" y1=\"374\"\n",
       "      /><line y2=\"339.75\" style=\"fill:none;\" x1=\"73\" x2=\"77.34\" y1=\"339.75\"\n",
       "      /><line y2=\"284.95\" style=\"fill:none;\" x1=\"73\" x2=\"77.34\" y1=\"284.95\"\n",
       "      /><line y2=\"230.15\" style=\"fill:none;\" x1=\"73\" x2=\"77.34\" y1=\"230.15\"\n",
       "      /><line y2=\"175.35\" style=\"fill:none;\" x1=\"73\" x2=\"77.34\" y1=\"175.35\"\n",
       "      /><line y2=\"120.55\" style=\"fill:none;\" x1=\"73\" x2=\"77.34\" y1=\"120.55\"\n",
       "      /><line y2=\"65.75\" style=\"fill:none;\" x1=\"73\" x2=\"77.34\" y1=\"65.75\"\n",
       "      /><line y2=\"339.75\" style=\"fill:none;\" x1=\"507\" x2=\"502.66\" y1=\"339.75\"\n",
       "      /><line y2=\"284.95\" style=\"fill:none;\" x1=\"507\" x2=\"502.66\" y1=\"284.95\"\n",
       "      /><line y2=\"230.15\" style=\"fill:none;\" x1=\"507\" x2=\"502.66\" y1=\"230.15\"\n",
       "      /><line y2=\"175.35\" style=\"fill:none;\" x1=\"507\" x2=\"502.66\" y1=\"175.35\"\n",
       "      /><line y2=\"120.55\" style=\"fill:none;\" x1=\"507\" x2=\"502.66\" y1=\"120.55\"\n",
       "      /><line y2=\"65.75\" style=\"fill:none;\" x1=\"507\" x2=\"502.66\" y1=\"65.75\"\n",
       "    /></g\n",
       "    ><g transform=\"translate(69,339.75)\" style=\"font-size:10px; fill:rgb(38,38,38); text-rendering:geometricPrecision; image-rendering:optimizeQuality; color-rendering:optimizeQuality; font-family:'Helvetica Neue'; stroke:rgb(38,38,38); color-interpolation:linearRGB;\"\n",
       "    ><path style=\"stroke:none;\" d=\"M-4.68 0.01 Q-4.68 -0.25 -4.675 -0.565 Q-4.67 -0.88 -4.625 -1.195 Q-4.58 -1.51 -4.495 -1.81 Q-4.41 -2.11 -4.245 -2.335 Q-4.08 -2.56 -3.83 -2.7 Q-3.58 -2.84 -3.22 -2.84 Q-2.86 -2.84 -2.61 -2.7 Q-2.36 -2.56 -2.195 -2.335 Q-2.03 -2.11 -1.945 -1.81 Q-1.86 -1.51 -1.815 -1.195 Q-1.77 -0.88 -1.765 -0.565 Q-1.76 -0.25 -1.76 0.01 Q-1.76 0.41 -1.785 0.905 Q-1.81 1.4 -1.945 1.835 Q-2.08 2.27 -2.38 2.57 Q-2.68 2.87 -3.22 2.87 Q-3.76 2.87 -4.06 2.57 Q-4.36 2.27 -4.495 1.835 Q-4.63 1.4 -4.655 0.905 Q-4.68 0.41 -4.68 0.01 ZM-5.58 0.02 Q-5.58 0.41 -5.56 0.83 Q-5.54 1.25 -5.46 1.65 Q-5.38 2.05 -5.23 2.405 Q-5.08 2.76 -4.82 3.03 Q-4.56 3.3 -4.165 3.455 Q-3.77 3.61 -3.22 3.61 Q-2.66 3.61 -2.27 3.455 Q-1.88 3.3 -1.62 3.03 Q-1.36 2.76 -1.21 2.405 Q-1.06 2.05 -0.98 1.65 Q-0.9 1.25 -0.88 0.83 Q-0.86 0.41 -0.86 0.02 Q-0.86 -0.37 -0.88 -0.79 Q-0.9 -1.21 -0.98 -1.61 Q-1.06 -2.01 -1.21 -2.37 Q-1.36 -2.73 -1.62 -3 Q-1.88 -3.27 -2.275 -3.43 Q-2.67 -3.59 -3.22 -3.59 Q-3.77 -3.59 -4.165 -3.43 Q-4.56 -3.27 -4.82 -3 Q-5.08 -2.73 -5.23 -2.37 Q-5.38 -2.01 -5.46 -1.61 Q-5.54 -1.21 -5.56 -0.79 Q-5.58 -0.37 -5.58 0.02 Z\"\n",
       "    /></g\n",
       "    ><g transform=\"translate(69,284.95)\" style=\"font-size:10px; fill:rgb(38,38,38); text-rendering:geometricPrecision; image-rendering:optimizeQuality; color-rendering:optimizeQuality; font-family:'Helvetica Neue'; stroke:rgb(38,38,38); color-interpolation:linearRGB;\"\n",
       "    ><path style=\"stroke:none;\" d=\"M-12.68 0.01 Q-12.68 -0.25 -12.675 -0.565 Q-12.67 -0.88 -12.625 -1.195 Q-12.58 -1.51 -12.495 -1.81 Q-12.41 -2.11 -12.245 -2.335 Q-12.08 -2.56 -11.83 -2.7 Q-11.58 -2.84 -11.22 -2.84 Q-10.86 -2.84 -10.61 -2.7 Q-10.36 -2.56 -10.195 -2.335 Q-10.03 -2.11 -9.945 -1.81 Q-9.86 -1.51 -9.815 -1.195 Q-9.77 -0.88 -9.765 -0.565 Q-9.76 -0.25 -9.76 0.01 Q-9.76 0.41 -9.785 0.905 Q-9.81 1.4 -9.945 1.835 Q-10.08 2.27 -10.38 2.57 Q-10.68 2.87 -11.22 2.87 Q-11.76 2.87 -12.06 2.57 Q-12.36 2.27 -12.495 1.835 Q-12.63 1.4 -12.655 0.905 Q-12.68 0.41 -12.68 0.01 ZM-13.58 0.02 Q-13.58 0.41 -13.56 0.83 Q-13.54 1.25 -13.46 1.65 Q-13.38 2.05 -13.23 2.405 Q-13.08 2.76 -12.82 3.03 Q-12.56 3.3 -12.165 3.455 Q-11.77 3.61 -11.22 3.61 Q-10.66 3.61 -10.27 3.455 Q-9.88 3.3 -9.62 3.03 Q-9.36 2.76 -9.21 2.405 Q-9.06 2.05 -8.98 1.65 Q-8.9 1.25 -8.88 0.83 Q-8.86 0.41 -8.86 0.02 Q-8.86 -0.37 -8.88 -0.79 Q-8.9 -1.21 -8.98 -1.61 Q-9.06 -2.01 -9.21 -2.37 Q-9.36 -2.73 -9.62 -3 Q-9.88 -3.27 -10.275 -3.43 Q-10.67 -3.59 -11.22 -3.59 Q-11.77 -3.59 -12.165 -3.43 Q-12.56 -3.27 -12.82 -3 Q-13.08 -2.73 -13.23 -2.37 Q-13.38 -2.01 -13.46 -1.61 Q-13.54 -1.21 -13.56 -0.79 Q-13.58 -0.37 -13.58 0.02 ZM-7.61 2.39 L-7.61 3.5 L-6.5 3.5 L-6.5 2.39 ZM-5.22 -1.08 L-4.37 -1.08 Q-4.38 -1.4 -4.305 -1.715 Q-4.23 -2.03 -4.06 -2.28 Q-3.89 -2.53 -3.625 -2.685 Q-3.36 -2.84 -2.99 -2.84 Q-2.71 -2.84 -2.46 -2.75 Q-2.21 -2.66 -2.025 -2.49 Q-1.84 -2.32 -1.73 -2.085 Q-1.62 -1.85 -1.62 -1.56 Q-1.62 -1.19 -1.735 -0.91 Q-1.85 -0.63 -2.075 -0.39 Q-2.3 -0.15 -2.64 0.085 Q-2.98 0.32 -3.43 0.6 Q-3.8 0.82 -4.14 1.07 Q-4.48 1.32 -4.75 1.65 Q-5.02 1.98 -5.195 2.425 Q-5.37 2.87 -5.42 3.5 L-0.79 3.5 L-0.79 2.75 L-4.43 2.75 Q-4.37 2.42 -4.175 2.165 Q-3.98 1.91 -3.705 1.69 Q-3.43 1.47 -3.1 1.275 Q-2.77 1.08 -2.44 0.88 Q-2.11 0.67 -1.8 0.44 Q-1.49 0.21 -1.25 -0.075 Q-1.01 -0.36 -0.865 -0.72 Q-0.72 -1.08 -0.72 -1.55 Q-0.72 -2.05 -0.895 -2.43 Q-1.07 -2.81 -1.37 -3.065 Q-1.67 -3.32 -2.075 -3.455 Q-2.48 -3.59 -2.94 -3.59 Q-3.5 -3.59 -3.94 -3.4 Q-4.38 -3.21 -4.675 -2.875 Q-4.97 -2.54 -5.11 -2.08 Q-5.25 -1.62 -5.22 -1.08 Z\"\n",
       "    /></g\n",
       "    ><g transform=\"translate(69,230.15)\" style=\"font-size:10px; fill:rgb(38,38,38); text-rendering:geometricPrecision; image-rendering:optimizeQuality; color-rendering:optimizeQuality; font-family:'Helvetica Neue'; stroke:rgb(38,38,38); color-interpolation:linearRGB;\"\n",
       "    ><path style=\"stroke:none;\" d=\"M-12.68 0.01 Q-12.68 -0.25 -12.675 -0.565 Q-12.67 -0.88 -12.625 -1.195 Q-12.58 -1.51 -12.495 -1.81 Q-12.41 -2.11 -12.245 -2.335 Q-12.08 -2.56 -11.83 -2.7 Q-11.58 -2.84 -11.22 -2.84 Q-10.86 -2.84 -10.61 -2.7 Q-10.36 -2.56 -10.195 -2.335 Q-10.03 -2.11 -9.945 -1.81 Q-9.86 -1.51 -9.815 -1.195 Q-9.77 -0.88 -9.765 -0.565 Q-9.76 -0.25 -9.76 0.01 Q-9.76 0.41 -9.785 0.905 Q-9.81 1.4 -9.945 1.835 Q-10.08 2.27 -10.38 2.57 Q-10.68 2.87 -11.22 2.87 Q-11.76 2.87 -12.06 2.57 Q-12.36 2.27 -12.495 1.835 Q-12.63 1.4 -12.655 0.905 Q-12.68 0.41 -12.68 0.01 ZM-13.58 0.02 Q-13.58 0.41 -13.56 0.83 Q-13.54 1.25 -13.46 1.65 Q-13.38 2.05 -13.23 2.405 Q-13.08 2.76 -12.82 3.03 Q-12.56 3.3 -12.165 3.455 Q-11.77 3.61 -11.22 3.61 Q-10.66 3.61 -10.27 3.455 Q-9.88 3.3 -9.62 3.03 Q-9.36 2.76 -9.21 2.405 Q-9.06 2.05 -8.98 1.65 Q-8.9 1.25 -8.88 0.83 Q-8.86 0.41 -8.86 0.02 Q-8.86 -0.37 -8.88 -0.79 Q-8.9 -1.21 -8.98 -1.61 Q-9.06 -2.01 -9.21 -2.37 Q-9.36 -2.73 -9.62 -3 Q-9.88 -3.27 -10.275 -3.43 Q-10.67 -3.59 -11.22 -3.59 Q-11.77 -3.59 -12.165 -3.43 Q-12.56 -3.27 -12.82 -3 Q-13.08 -2.73 -13.23 -2.37 Q-13.38 -2.01 -13.46 -1.61 Q-13.54 -1.21 -13.56 -0.79 Q-13.58 -0.37 -13.58 0.02 ZM-7.61 2.39 L-7.61 3.5 L-6.5 3.5 L-6.5 2.39 ZM-2.27 1.09 L-4.65 1.09 L-2.29 -2.38 L-2.27 -2.38 ZM-1.47 1.09 L-1.47 -3.59 L-2.15 -3.59 L-5.38 1.02 L-5.38 1.84 L-2.27 1.84 L-2.27 3.5 L-1.47 3.5 L-1.47 1.84 L-0.51 1.84 L-0.51 1.09 Z\"\n",
       "    /></g\n",
       "    ><g transform=\"translate(69,175.35)\" style=\"font-size:10px; fill:rgb(38,38,38); text-rendering:geometricPrecision; image-rendering:optimizeQuality; color-rendering:optimizeQuality; font-family:'Helvetica Neue'; stroke:rgb(38,38,38); color-interpolation:linearRGB;\"\n",
       "    ><path style=\"stroke:none;\" d=\"M-12.68 0.01 Q-12.68 -0.25 -12.675 -0.565 Q-12.67 -0.88 -12.625 -1.195 Q-12.58 -1.51 -12.495 -1.81 Q-12.41 -2.11 -12.245 -2.335 Q-12.08 -2.56 -11.83 -2.7 Q-11.58 -2.84 -11.22 -2.84 Q-10.86 -2.84 -10.61 -2.7 Q-10.36 -2.56 -10.195 -2.335 Q-10.03 -2.11 -9.945 -1.81 Q-9.86 -1.51 -9.815 -1.195 Q-9.77 -0.88 -9.765 -0.565 Q-9.76 -0.25 -9.76 0.01 Q-9.76 0.41 -9.785 0.905 Q-9.81 1.4 -9.945 1.835 Q-10.08 2.27 -10.38 2.57 Q-10.68 2.87 -11.22 2.87 Q-11.76 2.87 -12.06 2.57 Q-12.36 2.27 -12.495 1.835 Q-12.63 1.4 -12.655 0.905 Q-12.68 0.41 -12.68 0.01 ZM-13.58 0.02 Q-13.58 0.41 -13.56 0.83 Q-13.54 1.25 -13.46 1.65 Q-13.38 2.05 -13.23 2.405 Q-13.08 2.76 -12.82 3.03 Q-12.56 3.3 -12.165 3.455 Q-11.77 3.61 -11.22 3.61 Q-10.66 3.61 -10.27 3.455 Q-9.88 3.3 -9.62 3.03 Q-9.36 2.76 -9.21 2.405 Q-9.06 2.05 -8.98 1.65 Q-8.9 1.25 -8.88 0.83 Q-8.86 0.41 -8.86 0.02 Q-8.86 -0.37 -8.88 -0.79 Q-8.9 -1.21 -8.98 -1.61 Q-9.06 -2.01 -9.21 -2.37 Q-9.36 -2.73 -9.62 -3 Q-9.88 -3.27 -10.275 -3.43 Q-10.67 -3.59 -11.22 -3.59 Q-11.77 -3.59 -12.165 -3.43 Q-12.56 -3.27 -12.82 -3 Q-13.08 -2.73 -13.23 -2.37 Q-13.38 -2.01 -13.46 -1.61 Q-13.54 -1.21 -13.56 -0.79 Q-13.58 -0.37 -13.58 0.02 ZM-7.61 2.39 L-7.61 3.5 L-6.5 3.5 L-6.5 2.39 ZM-1.52 -1.78 L-0.67 -1.78 Q-0.75 -2.66 -1.27 -3.125 Q-1.79 -3.59 -2.67 -3.59 Q-3.43 -3.59 -3.93 -3.27 Q-4.43 -2.95 -4.73 -2.42 Q-5.03 -1.89 -5.155 -1.205 Q-5.28 -0.52 -5.28 0.21 Q-5.28 0.77 -5.195 1.37 Q-5.11 1.97 -4.85 2.47 Q-4.59 2.97 -4.11 3.29 Q-3.63 3.61 -2.84 3.61 Q-2.17 3.61 -1.715 3.385 Q-1.26 3.16 -0.985 2.815 Q-0.71 2.47 -0.59 2.05 Q-0.47 1.63 -0.47 1.24 Q-0.47 0.75 -0.62 0.33 Q-0.77 -0.09 -1.045 -0.4 Q-1.32 -0.71 -1.725 -0.885 Q-2.13 -1.06 -2.64 -1.06 Q-3.22 -1.06 -3.665 -0.84 Q-4.11 -0.62 -4.41 -0.13 L-4.43 -0.15 Q-4.42 -0.56 -4.35 -1.03 Q-4.28 -1.5 -4.095 -1.905 Q-3.91 -2.31 -3.58 -2.575 Q-3.25 -2.84 -2.71 -2.84 Q-2.2 -2.84 -1.89 -2.55 Q-1.58 -2.26 -1.52 -1.78 ZM-2.8 -0.31 Q-2.44 -0.31 -2.17 -0.18 Q-1.9 -0.05 -1.72 0.165 Q-1.54 0.38 -1.455 0.675 Q-1.37 0.97 -1.37 1.3 Q-1.37 1.61 -1.465 1.895 Q-1.56 2.18 -1.74 2.4 Q-1.92 2.62 -2.185 2.745 Q-2.45 2.87 -2.8 2.87 Q-3.15 2.87 -3.425 2.745 Q-3.7 2.62 -3.885 2.41 Q-4.07 2.2 -4.17 1.91 Q-4.27 1.62 -4.27 1.29 Q-4.27 0.96 -4.175 0.665 Q-4.08 0.37 -3.89 0.155 Q-3.7 -0.06 -3.43 -0.185 Q-3.16 -0.31 -2.8 -0.31 Z\"\n",
       "    /></g\n",
       "    ><g transform=\"translate(69,120.55)\" style=\"font-size:10px; fill:rgb(38,38,38); text-rendering:geometricPrecision; image-rendering:optimizeQuality; color-rendering:optimizeQuality; font-family:'Helvetica Neue'; stroke:rgb(38,38,38); color-interpolation:linearRGB;\"\n",
       "    ><path style=\"stroke:none;\" d=\"M-12.68 0.01 Q-12.68 -0.25 -12.675 -0.565 Q-12.67 -0.88 -12.625 -1.195 Q-12.58 -1.51 -12.495 -1.81 Q-12.41 -2.11 -12.245 -2.335 Q-12.08 -2.56 -11.83 -2.7 Q-11.58 -2.84 -11.22 -2.84 Q-10.86 -2.84 -10.61 -2.7 Q-10.36 -2.56 -10.195 -2.335 Q-10.03 -2.11 -9.945 -1.81 Q-9.86 -1.51 -9.815 -1.195 Q-9.77 -0.88 -9.765 -0.565 Q-9.76 -0.25 -9.76 0.01 Q-9.76 0.41 -9.785 0.905 Q-9.81 1.4 -9.945 1.835 Q-10.08 2.27 -10.38 2.57 Q-10.68 2.87 -11.22 2.87 Q-11.76 2.87 -12.06 2.57 Q-12.36 2.27 -12.495 1.835 Q-12.63 1.4 -12.655 0.905 Q-12.68 0.41 -12.68 0.01 ZM-13.58 0.02 Q-13.58 0.41 -13.56 0.83 Q-13.54 1.25 -13.46 1.65 Q-13.38 2.05 -13.23 2.405 Q-13.08 2.76 -12.82 3.03 Q-12.56 3.3 -12.165 3.455 Q-11.77 3.61 -11.22 3.61 Q-10.66 3.61 -10.27 3.455 Q-9.88 3.3 -9.62 3.03 Q-9.36 2.76 -9.21 2.405 Q-9.06 2.05 -8.98 1.65 Q-8.9 1.25 -8.88 0.83 Q-8.86 0.41 -8.86 0.02 Q-8.86 -0.37 -8.88 -0.79 Q-8.9 -1.21 -8.98 -1.61 Q-9.06 -2.01 -9.21 -2.37 Q-9.36 -2.73 -9.62 -3 Q-9.88 -3.27 -10.275 -3.43 Q-10.67 -3.59 -11.22 -3.59 Q-11.77 -3.59 -12.165 -3.43 Q-12.56 -3.27 -12.82 -3 Q-13.08 -2.73 -13.23 -2.37 Q-13.38 -2.01 -13.46 -1.61 Q-13.54 -1.21 -13.56 -0.79 Q-13.58 -0.37 -13.58 0.02 ZM-7.61 2.39 L-7.61 3.5 L-6.5 3.5 L-6.5 2.39 ZM-4.11 -1.75 Q-4.11 -2.02 -4.01 -2.22 Q-3.91 -2.42 -3.745 -2.56 Q-3.58 -2.7 -3.35 -2.77 Q-3.12 -2.84 -2.87 -2.84 Q-2.35 -2.84 -2.015 -2.565 Q-1.68 -2.29 -1.68 -1.75 Q-1.68 -1.21 -2.01 -0.91 Q-2.34 -0.61 -2.85 -0.61 Q-3.11 -0.61 -3.34 -0.68 Q-3.57 -0.75 -3.74 -0.89 Q-3.91 -1.03 -4.01 -1.245 Q-4.11 -1.46 -4.11 -1.75 ZM-5.01 -1.78 Q-5.01 -1.3 -4.74 -0.895 Q-4.47 -0.49 -4.02 -0.31 Q-4.62 -0.1 -4.94 0.365 Q-5.26 0.83 -5.26 1.46 Q-5.26 2 -5.075 2.405 Q-4.89 2.81 -4.565 3.08 Q-4.24 3.35 -3.8 3.48 Q-3.36 3.61 -2.85 3.61 Q-2.36 3.61 -1.93 3.47 Q-1.5 3.33 -1.185 3.055 Q-0.87 2.78 -0.685 2.38 Q-0.5 1.98 -0.5 1.46 Q-0.5 0.8 -0.81 0.345 Q-1.12 -0.11 -1.76 -0.31 Q-1.31 -0.51 -1.045 -0.905 Q-0.78 -1.3 -0.78 -1.78 Q-0.78 -2.12 -0.9 -2.445 Q-1.02 -2.77 -1.275 -3.025 Q-1.53 -3.28 -1.94 -3.435 Q-2.35 -3.59 -2.93 -3.59 Q-3.34 -3.59 -3.715 -3.47 Q-4.09 -3.35 -4.38 -3.12 Q-4.67 -2.89 -4.84 -2.555 Q-5.01 -2.22 -5.01 -1.78 ZM-4.36 1.5 Q-4.36 1.19 -4.245 0.94 Q-4.13 0.69 -3.925 0.51 Q-3.72 0.33 -3.445 0.235 Q-3.17 0.14 -2.86 0.14 Q-2.56 0.14 -2.295 0.245 Q-2.03 0.35 -1.83 0.53 Q-1.63 0.71 -1.515 0.955 Q-1.4 1.2 -1.4 1.49 Q-1.4 1.79 -1.505 2.04 Q-1.61 2.29 -1.805 2.475 Q-2 2.66 -2.265 2.765 Q-2.53 2.87 -2.85 2.87 Q-3.51 2.87 -3.935 2.505 Q-4.36 2.14 -4.36 1.5 Z\"\n",
       "    /></g\n",
       "    ><g transform=\"translate(69,65.75)\" style=\"font-size:10px; fill:rgb(38,38,38); text-rendering:geometricPrecision; image-rendering:optimizeQuality; color-rendering:optimizeQuality; font-family:'Helvetica Neue'; stroke:rgb(38,38,38); color-interpolation:linearRGB;\"\n",
       "    ><path style=\"stroke:none;\" d=\"M-2.44 3.5 L-2.44 -3.59 L-3.09 -3.59 Q-3.16 -3.19 -3.35 -2.93 Q-3.54 -2.67 -3.815 -2.52 Q-4.09 -2.37 -4.43 -2.315 Q-4.77 -2.26 -5.13 -2.26 L-5.13 -1.58 L-3.29 -1.58 L-3.29 3.5 Z\"\n",
       "    /></g\n",
       "    ><g transform=\"translate(290.0003,30.125)\" style=\"font-size:11px; text-rendering:geometricPrecision; color-rendering:optimizeQuality; image-rendering:optimizeQuality; font-family:'mwa_cmr10'; color-interpolation:linearRGB;\"\n",
       "    ><path style=\"stroke:none;\" d=\"M-55.7449 -3.96 L-55.7449 -4.3507 Q-55.198 -4.3507 -54.6746 -4.4132 Q-54.1512 -4.4757 -54.1512 -4.6944 L-54.1512 -10.7413 Q-54.1512 -10.9757 -54.284 -11.0304 Q-54.4168 -11.085 -54.7137 -11.085 L-55.1668 -11.085 Q-56.073 -11.085 -56.4637 -10.6944 Q-56.6512 -10.4913 -56.7371 -10.0538 Q-56.823 -9.6163 -56.8855 -8.96 L-57.2137 -8.96 L-56.9949 -11.4757 L-50.2762 -11.4757 L-50.073 -8.96 L-50.3855 -8.96 Q-50.448 -9.6632 -50.5262 -10.0772 Q-50.6043 -10.4913 -50.8074 -10.6944 Q-51.198 -11.085 -52.1043 -11.085 L-52.573 -11.085 Q-52.7605 -11.085 -52.8699 -11.0694 Q-52.9793 -11.0538 -53.0496 -10.9757 Q-53.1199 -10.8975 -53.1199 -10.7413 L-53.1199 -4.6944 Q-53.1199 -4.4757 -52.6043 -4.4132 Q-52.0887 -4.3507 -51.5418 -4.3507 L-51.5418 -3.96 L-55.7449 -3.96 Z\"\n",
       "      /><path style=\"stroke:none;\" d=\"M-49.3161 -3.96 L-49.3161 -4.3507 Q-48.9411 -4.3507 -48.6989 -4.4054 Q-48.4567 -4.46 -48.4567 -4.6944 L-48.4567 -7.6944 Q-48.4567 -8.1163 -48.6208 -8.2179 Q-48.7848 -8.3194 -49.2692 -8.3194 L-49.2692 -8.71 L-47.6911 -8.8194 L-47.6911 -4.6944 Q-47.6911 -4.46 -47.4801 -4.4054 Q-47.2692 -4.3507 -46.9254 -4.3507 L-46.9254 -3.96 L-49.3161 -3.96 ZM-48.8473 -10.71 Q-48.8473 -10.96 -48.6676 -11.1397 Q-48.4879 -11.3194 -48.2536 -11.3194 Q-48.0973 -11.3194 -47.9489 -11.2413 Q-47.8004 -11.1632 -47.7223 -11.0147 Q-47.6442 -10.8663 -47.6442 -10.71 Q-47.6442 -10.4757 -47.8239 -10.296 Q-48.0036 -10.1163 -48.2536 -10.1163 Q-48.4879 -10.1163 -48.6676 -10.296 Q-48.8473 -10.4757 -48.8473 -10.71 Z\"\n",
       "      /><path style=\"stroke:none;\" d=\"M-46.2761 -3.96 L-46.2761 -4.3507 Q-45.9011 -4.3507 -45.6589 -4.4054 Q-45.4168 -4.46 -45.4168 -4.6944 L-45.4168 -7.6944 Q-45.4168 -7.9913 -45.5027 -8.1241 Q-45.5886 -8.2569 -45.7605 -8.2882 Q-45.9324 -8.3194 -46.2761 -8.3194 L-46.2761 -8.71 L-44.6824 -8.8194 L-44.6824 -7.7413 Q-44.4636 -8.2257 -44.0261 -8.5225 Q-43.5886 -8.8194 -43.0886 -8.8194 Q-41.823 -8.8194 -41.6043 -7.7882 Q-41.3855 -8.2569 -40.9558 -8.5382 Q-40.5261 -8.8194 -40.0261 -8.8194 Q-39.5261 -8.8194 -39.1824 -8.6554 Q-38.8386 -8.4913 -38.6668 -8.1632 Q-38.4949 -7.835 -38.4949 -7.335 L-38.4949 -4.6944 Q-38.4949 -4.46 -38.2527 -4.4054 Q-38.0105 -4.3507 -37.6355 -4.3507 L-37.6355 -3.96 L-40.1511 -3.96 L-40.1511 -4.3507 Q-39.7761 -4.3507 -39.5339 -4.4054 Q-39.2918 -4.46 -39.2918 -4.6944 L-39.2918 -7.3038 Q-39.2918 -7.8663 -39.448 -8.2022 Q-39.6043 -8.5382 -40.0886 -8.5382 Q-40.7293 -8.5382 -41.1433 -8.0304 Q-41.5574 -7.5225 -41.5574 -6.8663 L-41.5574 -4.6944 Q-41.5574 -4.46 -41.3152 -4.4054 Q-41.073 -4.3507 -40.698 -4.3507 L-40.698 -3.96 L-43.2136 -3.96 L-43.2136 -4.3507 Q-42.8386 -4.3507 -42.5964 -4.4054 Q-42.3543 -4.46 -42.3543 -4.6944 L-42.3543 -7.3038 Q-42.3543 -7.8507 -42.5105 -8.1944 Q-42.6668 -8.5382 -43.1511 -8.5382 Q-43.7918 -8.5382 -44.198 -8.0304 Q-44.6043 -7.5225 -44.6043 -6.8663 L-44.6043 -4.6944 Q-44.6043 -4.46 -44.3699 -4.4054 Q-44.1355 -4.3507 -43.7605 -4.3507 L-43.7605 -3.96 L-46.2761 -3.96 Z\"\n",
       "      /><path style=\"stroke:none;\" d=\"M-34.7032 -3.835 Q-35.3751 -3.835 -35.9298 -4.1866 Q-36.4844 -4.5382 -36.8048 -5.1241 Q-37.1251 -5.71 -37.1251 -6.3663 Q-37.1251 -7.0225 -36.836 -7.6007 Q-36.5469 -8.1788 -36.0235 -8.5382 Q-35.5001 -8.8975 -34.8594 -8.8975 Q-34.3438 -8.8975 -33.9766 -8.7257 Q-33.6094 -8.5538 -33.3673 -8.2491 Q-33.1251 -7.9444 -33.0001 -7.5382 Q-32.8751 -7.1319 -32.8751 -6.6475 Q-32.8751 -6.5069 -32.9844 -6.5069 L-36.1719 -6.5069 L-36.1719 -6.3819 Q-36.1719 -5.4757 -35.8048 -4.8194 Q-35.4376 -4.1632 -34.5938 -4.1632 Q-34.2657 -4.1632 -33.9766 -4.3116 Q-33.6876 -4.46 -33.4766 -4.7257 Q-33.2657 -4.9913 -33.1876 -5.3038 Q-33.1719 -5.335 -33.1485 -5.3663 Q-33.1251 -5.3975 -33.0782 -5.3975 L-32.9844 -5.3975 Q-32.8751 -5.3975 -32.8751 -5.2569 Q-33.0313 -4.6319 -33.5469 -4.2335 Q-34.0626 -3.835 -34.7032 -3.835 ZM-36.1563 -6.7725 L-33.6563 -6.7725 Q-33.6563 -7.1944 -33.7657 -7.6163 Q-33.8751 -8.0382 -34.1485 -8.3194 Q-34.4219 -8.6007 -34.8594 -8.6007 Q-35.4844 -8.6007 -35.8204 -8.0147 Q-36.1563 -7.4288 -36.1563 -6.7725 Z\"\n",
       "      /><path style=\"stroke:none;\" d=\"M-28.4445 -5.0382 Q-28.4445 -5.6944 -27.9289 -6.1085 Q-27.4133 -6.5225 -26.6867 -6.6866 Q-25.9601 -6.8507 -25.3195 -6.8507 L-25.3195 -7.3038 Q-25.3195 -7.6163 -25.4601 -7.921 Q-25.6008 -8.2257 -25.8586 -8.4132 Q-26.1164 -8.6007 -26.4445 -8.6007 Q-27.1633 -8.6007 -27.5539 -8.2725 Q-27.3351 -8.2725 -27.2023 -8.1163 Q-27.0695 -7.96 -27.0695 -7.7413 Q-27.0695 -7.5225 -27.2258 -7.3663 Q-27.382 -7.21 -27.5851 -7.21 Q-27.8195 -7.21 -27.9758 -7.3663 Q-28.132 -7.5225 -28.132 -7.7413 Q-28.132 -8.3194 -27.6008 -8.6085 Q-27.0695 -8.8975 -26.4445 -8.8975 Q-25.9914 -8.8975 -25.5383 -8.7022 Q-25.0851 -8.5069 -24.8039 -8.1554 Q-24.5226 -7.8038 -24.5226 -7.335 L-24.5226 -4.8507 Q-24.5226 -4.6319 -24.4289 -4.4522 Q-24.3351 -4.2725 -24.132 -4.2725 Q-23.9601 -4.2725 -23.8664 -4.46 Q-23.7726 -4.6475 -23.7726 -4.8507 L-23.7726 -5.5538 L-23.4601 -5.5538 L-23.4601 -4.8507 Q-23.4601 -4.6007 -23.5851 -4.3819 Q-23.7101 -4.1632 -23.9289 -4.0304 Q-24.1476 -3.8975 -24.3976 -3.8975 Q-24.7258 -3.8975 -24.9601 -4.1475 Q-25.1945 -4.3975 -25.2258 -4.7413 Q-25.4289 -4.3194 -25.8195 -4.0772 Q-26.2101 -3.835 -26.6633 -3.835 Q-27.0851 -3.835 -27.4914 -3.96 Q-27.8976 -4.085 -28.1711 -4.3507 Q-28.4445 -4.6163 -28.4445 -5.0382 ZM-27.5539 -5.0382 Q-27.5539 -4.6475 -27.2648 -4.3897 Q-26.9758 -4.1319 -26.6008 -4.1319 Q-26.2414 -4.1319 -25.9523 -4.3038 Q-25.6633 -4.4757 -25.4914 -4.7882 Q-25.3195 -5.1007 -25.3195 -5.4288 L-25.3195 -6.5694 Q-25.8195 -6.5694 -26.343 -6.4054 Q-26.8664 -6.2413 -27.2101 -5.8975 Q-27.5539 -5.5538 -27.5539 -5.0382 Z\"\n",
       "      /><path style=\"stroke:none;\" d=\"M-20.6945 -3.835 Q-21.3507 -3.835 -21.882 -4.1866 Q-22.4132 -4.5382 -22.7179 -5.1163 Q-23.0226 -5.6944 -23.0226 -6.335 Q-23.0226 -7.0069 -22.6945 -7.5772 Q-22.3664 -8.1475 -21.8117 -8.4835 Q-21.257 -8.8194 -20.5851 -8.8194 Q-20.1789 -8.8194 -19.8195 -8.6475 Q-19.4601 -8.4757 -19.1945 -8.1788 L-19.1945 -10.4757 Q-19.1945 -10.7725 -19.2804 -10.8975 Q-19.3664 -11.0225 -19.5304 -11.0538 Q-19.6945 -11.085 -20.0539 -11.085 L-20.0539 -11.4757 L-18.4132 -11.585 L-18.4132 -4.96 Q-18.4132 -4.6632 -18.3273 -4.5382 Q-18.2414 -4.4132 -18.0773 -4.3819 Q-17.9132 -4.3507 -17.5695 -4.3507 L-17.5695 -3.96 L-19.2257 -3.835 L-19.2257 -4.5225 Q-19.507 -4.1944 -19.8976 -4.0147 Q-20.2882 -3.835 -20.6945 -3.835 ZM-21.8195 -4.9132 Q-21.632 -4.5538 -21.3195 -4.3429 Q-21.007 -4.1319 -20.632 -4.1319 Q-20.1789 -4.1319 -19.7961 -4.3897 Q-19.4132 -4.6475 -19.2257 -5.0694 L-19.2257 -7.71 Q-19.3507 -7.9444 -19.5461 -8.1397 Q-19.7414 -8.335 -19.9914 -8.4366 Q-20.2414 -8.5382 -20.507 -8.5382 Q-21.0851 -8.5382 -21.4367 -8.21 Q-21.7882 -7.8819 -21.9211 -7.3819 Q-22.0539 -6.8819 -22.0539 -6.3194 Q-22.0539 -5.8819 -22.0148 -5.5538 Q-21.9757 -5.2257 -21.8195 -4.9132 Z\"\n",
       "      /><path style=\"stroke:none;\" d=\"M-14.5834 -3.96 L-16.1927 -8.0069 Q-16.2865 -8.21 -16.5052 -8.2647 Q-16.724 -8.3194 -17.0677 -8.3194 L-17.0677 -8.71 L-14.7552 -8.71 L-14.7552 -8.3194 Q-15.3646 -8.3194 -15.3646 -8.0538 Q-15.3646 -8.0069 -15.3646 -7.9913 L-14.1302 -4.8819 L-13.0052 -7.6944 Q-12.974 -7.7725 -12.974 -7.8663 Q-12.974 -8.0694 -13.1381 -8.1944 Q-13.3021 -8.3194 -13.5052 -8.3194 L-13.5052 -8.71 L-11.6771 -8.71 L-11.6771 -8.3194 Q-12.0209 -8.3194 -12.2787 -8.1632 Q-12.5365 -8.0069 -12.6771 -7.6944 L-14.1615 -3.96 Q-14.1927 -3.835 -14.3334 -3.835 L-14.4115 -3.835 Q-14.5521 -3.835 -14.5834 -3.96 Z\"\n",
       "      /><path style=\"stroke:none;\" d=\"M-11.6389 -5.0382 Q-11.6389 -5.6944 -11.1233 -6.1085 Q-10.6077 -6.5225 -9.8811 -6.6866 Q-9.1545 -6.8507 -8.5139 -6.8507 L-8.5139 -7.3038 Q-8.5139 -7.6163 -8.6545 -7.921 Q-8.7952 -8.2257 -9.053 -8.4132 Q-9.3108 -8.6007 -9.6389 -8.6007 Q-10.3577 -8.6007 -10.7483 -8.2725 Q-10.5295 -8.2725 -10.3967 -8.1163 Q-10.2639 -7.96 -10.2639 -7.7413 Q-10.2639 -7.5225 -10.4202 -7.3663 Q-10.5764 -7.21 -10.7795 -7.21 Q-11.0139 -7.21 -11.1702 -7.3663 Q-11.3264 -7.5225 -11.3264 -7.7413 Q-11.3264 -8.3194 -10.7952 -8.6085 Q-10.2639 -8.8975 -9.6389 -8.8975 Q-9.1858 -8.8975 -8.7327 -8.7022 Q-8.2795 -8.5069 -7.9983 -8.1554 Q-7.717 -7.8038 -7.717 -7.335 L-7.717 -4.8507 Q-7.717 -4.6319 -7.6233 -4.4522 Q-7.5295 -4.2725 -7.3264 -4.2725 Q-7.1545 -4.2725 -7.0608 -4.46 Q-6.967 -4.6475 -6.967 -4.8507 L-6.967 -5.5538 L-6.6545 -5.5538 L-6.6545 -4.8507 Q-6.6545 -4.6007 -6.7795 -4.3819 Q-6.9045 -4.1632 -7.1233 -4.0304 Q-7.342 -3.8975 -7.592 -3.8975 Q-7.9202 -3.8975 -8.1545 -4.1475 Q-8.3889 -4.3975 -8.4202 -4.7413 Q-8.6233 -4.3194 -9.0139 -4.0772 Q-9.4045 -3.835 -9.8577 -3.835 Q-10.2795 -3.835 -10.6858 -3.96 Q-11.092 -4.085 -11.3655 -4.3507 Q-11.6389 -4.6163 -11.6389 -5.0382 ZM-10.7483 -5.0382 Q-10.7483 -4.6475 -10.4592 -4.3897 Q-10.1702 -4.1319 -9.7952 -4.1319 Q-9.4358 -4.1319 -9.1467 -4.3038 Q-8.8577 -4.4757 -8.6858 -4.7882 Q-8.5139 -5.1007 -8.5139 -5.4288 L-8.5139 -6.5694 Q-9.0139 -6.5694 -9.5373 -6.4054 Q-10.0608 -6.2413 -10.4045 -5.8975 Q-10.7483 -5.5538 -10.7483 -5.0382 Z\"\n",
       "      /><path style=\"stroke:none;\" d=\"M-6.2483 -3.96 L-6.2483 -4.3507 Q-5.8733 -4.3507 -5.6311 -4.4054 Q-5.3889 -4.46 -5.3889 -4.6944 L-5.3889 -7.6944 Q-5.3889 -7.9913 -5.4748 -8.1241 Q-5.5608 -8.2569 -5.7326 -8.2882 Q-5.9045 -8.3194 -6.2483 -8.3194 L-6.2483 -8.71 L-4.6545 -8.8194 L-4.6545 -7.7413 Q-4.4358 -8.2257 -3.9983 -8.5225 Q-3.5608 -8.8194 -3.0608 -8.8194 Q-2.2951 -8.8194 -1.9123 -8.4522 Q-1.5295 -8.085 -1.5295 -7.335 L-1.5295 -4.6944 Q-1.5295 -4.46 -1.2873 -4.4054 Q-1.0451 -4.3507 -0.6701 -4.3507 L-0.6701 -3.96 L-3.1858 -3.96 L-3.1858 -4.3507 Q-2.8108 -4.3507 -2.5686 -4.4054 Q-2.3264 -4.46 -2.3264 -4.6944 L-2.3264 -7.3038 Q-2.3264 -7.8507 -2.4826 -8.1944 Q-2.6389 -8.5382 -3.1233 -8.5382 Q-3.7639 -8.5382 -4.1701 -8.0304 Q-4.5764 -7.5225 -4.5764 -6.8663 L-4.5764 -4.6944 Q-4.5764 -4.46 -4.342 -4.4054 Q-4.1076 -4.3507 -3.7326 -4.3507 L-3.7326 -3.96 L-6.2483 -3.96 Z\"\n",
       "      /><path style=\"stroke:none;\" d=\"M2.2691 -3.835 Q1.6129 -3.835 1.066 -4.1788 Q0.5191 -4.5225 0.2066 -5.1007 Q-0.1059 -5.6788 -0.1059 -6.335 Q-0.1059 -6.9913 0.2066 -7.585 Q0.5191 -8.1788 1.066 -8.5382 Q1.6129 -8.8975 2.2691 -8.8975 Q2.9254 -8.8975 3.4488 -8.6397 Q3.9722 -8.3819 3.9722 -7.8038 Q3.9722 -7.6007 3.8238 -7.4366 Q3.6754 -7.2725 3.4566 -7.2725 Q3.2379 -7.2725 3.0816 -7.4366 Q2.9254 -7.6007 2.9254 -7.8038 Q2.9254 -8.0069 3.0504 -8.1475 Q3.1754 -8.2882 3.3472 -8.3194 Q2.9722 -8.5694 2.2847 -8.5694 Q1.7535 -8.5694 1.4332 -8.2179 Q1.1129 -7.8663 0.9879 -7.3507 Q0.8629 -6.835 0.8629 -6.335 Q0.8629 -5.8038 1.0191 -5.3038 Q1.1754 -4.8038 1.5269 -4.4835 Q1.8785 -4.1632 2.4097 -4.1632 Q2.9254 -4.1632 3.2926 -4.4835 Q3.6597 -4.8038 3.8004 -5.3194 Q3.8004 -5.3819 3.8785 -5.3819 L4.0191 -5.3819 Q4.0504 -5.3819 4.0738 -5.3507 Q4.0972 -5.3194 4.0972 -5.2882 L4.0972 -5.2569 Q3.941 -4.6007 3.441 -4.2179 Q2.941 -3.835 2.2691 -3.835 Z\"\n",
       "      /><path style=\"stroke:none;\" d=\"M7.158 -3.835 Q6.4861 -3.835 5.9314 -4.1866 Q5.3768 -4.5382 5.0564 -5.1241 Q4.7361 -5.71 4.7361 -6.3663 Q4.7361 -7.0225 5.0252 -7.6007 Q5.3143 -8.1788 5.8377 -8.5382 Q6.3611 -8.8975 7.0018 -8.8975 Q7.5174 -8.8975 7.8846 -8.7257 Q8.2518 -8.5538 8.4939 -8.2491 Q8.7361 -7.9444 8.8611 -7.5382 Q8.9861 -7.1319 8.9861 -6.6475 Q8.9861 -6.5069 8.8768 -6.5069 L5.6893 -6.5069 L5.6893 -6.3819 Q5.6893 -5.4757 6.0564 -4.8194 Q6.4236 -4.1632 7.2674 -4.1632 Q7.5955 -4.1632 7.8846 -4.3116 Q8.1736 -4.46 8.3846 -4.7257 Q8.5955 -4.9913 8.6736 -5.3038 Q8.6893 -5.335 8.7127 -5.3663 Q8.7361 -5.3975 8.783 -5.3975 L8.8768 -5.3975 Q8.9861 -5.3975 8.9861 -5.2569 Q8.8299 -4.6319 8.3143 -4.2335 Q7.7986 -3.835 7.158 -3.835 ZM5.7049 -6.7725 L8.2049 -6.7725 Q8.2049 -7.1944 8.0955 -7.6163 Q7.9861 -8.0382 7.7127 -8.3194 Q7.4393 -8.6007 7.0018 -8.6007 Q6.3768 -8.6007 6.0408 -8.0147 Q5.7049 -7.4288 5.7049 -6.7725 Z\"\n",
       "      /><path style=\"stroke:none;\" d=\"M14.1511 -5.1632 Q14.1511 -5.5225 14.2448 -5.8975 Q14.3386 -6.2725 14.5104 -6.7413 Q14.6823 -7.21 14.8229 -7.5538 Q14.9636 -7.9444 14.9636 -8.21 Q14.9636 -8.5382 14.7136 -8.5382 Q14.2917 -8.5382 14.0026 -8.085 Q13.7136 -7.6319 13.5886 -7.085 Q13.5573 -7.0225 13.4948 -7.0225 L13.3698 -7.0225 Q13.2761 -7.0225 13.2761 -7.1163 L13.2761 -7.1475 Q13.4479 -7.8038 13.8151 -8.3116 Q14.1823 -8.8194 14.7448 -8.8194 Q15.1354 -8.8194 15.4089 -8.5616 Q15.6823 -8.3038 15.6823 -7.9132 Q15.6823 -7.71 15.5886 -7.4757 Q15.5417 -7.3507 15.3698 -6.8975 Q15.1979 -6.4444 15.1042 -6.1475 Q15.0104 -5.8507 14.9479 -5.5694 Q14.8854 -5.2882 14.8854 -4.9913 Q14.8854 -4.6319 15.0417 -4.3819 Q15.1979 -4.1319 15.5573 -4.1319 Q16.2604 -4.1319 16.7917 -4.9913 Q16.7917 -5.0382 16.7995 -5.0772 Q16.8073 -5.1163 16.8229 -5.1632 L17.6042 -8.3507 Q17.6511 -8.4913 17.7839 -8.6007 Q17.9167 -8.71 18.0729 -8.71 Q18.1979 -8.71 18.2995 -8.6241 Q18.4011 -8.5382 18.4011 -8.3975 Q18.4011 -8.3194 18.4011 -8.3038 L17.6042 -5.1319 Q17.5261 -4.8038 17.5261 -4.6007 Q17.5261 -4.1319 17.8386 -4.1319 Q18.1979 -4.1319 18.3698 -4.5694 Q18.5417 -5.0069 18.6667 -5.5694 Q18.6823 -5.6475 18.7604 -5.6475 L18.8854 -5.6475 Q18.9323 -5.6475 18.9557 -5.6085 Q18.9792 -5.5694 18.9792 -5.5382 Q18.8698 -5.0538 18.7604 -4.7179 Q18.6511 -4.3819 18.4089 -4.1085 Q18.1667 -3.835 17.8229 -3.835 Q17.4636 -3.835 17.1901 -4.0304 Q16.9167 -4.2257 16.8229 -4.5382 Q16.5729 -4.2257 16.237 -4.0304 Q15.9011 -3.835 15.5261 -3.835 Q14.9011 -3.835 14.5261 -4.1788 Q14.1511 -4.5225 14.1511 -5.1632 Z\"\n",
       "      /><path style=\"stroke:none;\" d=\"M21.2762 -2.1382 Q20.2918 -2.1382 19.9403 -2.9429 Q19.5887 -3.7476 19.5887 -4.8569 Q19.5887 -5.5601 19.7137 -6.1694 Q19.8387 -6.7788 20.2215 -7.2085 Q20.6043 -7.6382 21.2762 -7.6382 Q21.8075 -7.6382 22.1434 -7.3804 Q22.4793 -7.1226 22.6512 -6.7163 Q22.8231 -6.3101 22.8934 -5.8413 Q22.9637 -5.3726 22.9637 -4.8569 Q22.9637 -4.1694 22.8309 -3.5757 Q22.6981 -2.9819 22.3309 -2.5601 Q21.9637 -2.1382 21.2762 -2.1382 ZM21.2762 -2.3413 Q21.7293 -2.3413 21.9481 -2.8022 Q22.1668 -3.2632 22.2137 -3.8179 Q22.2606 -4.3726 22.2606 -4.9976 Q22.2606 -5.5913 22.2137 -6.0991 Q22.1668 -6.6069 21.9481 -7.021 Q21.7293 -7.4351 21.2762 -7.4351 Q20.8231 -7.4351 20.6043 -7.021 Q20.3856 -6.6069 20.3387 -6.0991 Q20.2918 -5.5913 20.2918 -4.9976 Q20.2918 -4.5444 20.3075 -4.1538 Q20.3231 -3.7632 20.4168 -3.3413 Q20.5106 -2.9194 20.7215 -2.6304 Q20.9325 -2.3413 21.2762 -2.3413 Z\"\n",
       "      /><path style=\"stroke:none;\" d=\"M27.0825 -1.2257 Q26.4731 -1.71 26.0278 -2.335 Q25.5825 -2.96 25.3012 -3.671 Q25.02 -4.3819 24.8793 -5.1554 Q24.7387 -5.9288 24.7387 -6.71 Q24.7387 -7.5069 24.8793 -8.2804 Q25.02 -9.0538 25.309 -9.7647 Q25.5981 -10.4757 26.0434 -11.1007 Q26.4887 -11.7257 27.0825 -12.1944 Q27.0825 -12.21 27.145 -12.21 L27.2387 -12.21 Q27.27 -12.21 27.3012 -12.1788 Q27.3325 -12.1475 27.3325 -12.1163 Q27.3325 -12.0694 27.3012 -12.0382 Q26.77 -11.5225 26.4106 -10.921 Q26.0512 -10.3194 25.8325 -9.6397 Q25.6137 -8.96 25.52 -8.2335 Q25.4262 -7.5069 25.4262 -6.71 Q25.4262 -3.21 27.3012 -1.3975 Q27.3325 -1.3663 27.3325 -1.3038 Q27.3325 -1.2725 27.3012 -1.2413 Q27.27 -1.21 27.2387 -1.21 L27.145 -1.21 Q27.0825 -1.21 27.0825 -1.2257 Z\"\n",
       "      /><path style=\"stroke:none;\" d=\"M28.6415 -4.8507 Q28.6415 -5.0069 28.6728 -5.1632 L29.4696 -8.3194 L28.3134 -8.3194 Q28.1884 -8.3194 28.1884 -8.46 Q28.2353 -8.71 28.3446 -8.71 L29.5634 -8.71 L30.0009 -10.4913 Q30.0478 -10.6475 30.1728 -10.7491 Q30.2978 -10.8507 30.4696 -10.8507 Q30.5946 -10.8507 30.6962 -10.7647 Q30.7978 -10.6788 30.7978 -10.5382 Q30.7978 -10.5069 30.7899 -10.4913 Q30.7821 -10.4757 30.7821 -10.4444 L30.3446 -8.71 L31.4696 -8.71 Q31.579 -8.71 31.579 -8.5538 Q31.579 -8.5382 31.5634 -8.4679 Q31.5478 -8.3975 31.5243 -8.3585 Q31.5009 -8.3194 31.4384 -8.3194 L30.2353 -8.3194 L29.454 -5.1319 Q29.3759 -4.8194 29.3759 -4.6007 Q29.3759 -4.1319 29.6884 -4.1319 Q30.1728 -4.1319 30.5478 -4.585 Q30.9228 -5.0382 31.1259 -5.5694 Q31.1728 -5.6475 31.204 -5.6475 L31.3446 -5.6475 Q31.3915 -5.6475 31.4149 -5.6163 Q31.4384 -5.585 31.4384 -5.5382 Q31.4384 -5.5225 31.4228 -5.5069 Q31.1884 -4.8507 30.7274 -4.3429 Q30.2665 -3.835 29.6728 -3.835 Q29.2353 -3.835 28.9384 -4.1241 Q28.6415 -4.4132 28.6415 -4.8507 Z\"\n",
       "      /><path style=\"stroke:none;\" d=\"M35.1987 -6.4913 Q35.105 -6.4913 35.0503 -6.5616 Q34.9956 -6.6319 34.9956 -6.71 Q34.9956 -6.7882 35.0503 -6.8585 Q35.105 -6.9288 35.1987 -6.9288 L38.4331 -6.9288 L38.4331 -10.1788 Q38.4331 -10.2569 38.4956 -10.3116 Q38.5581 -10.3663 38.6519 -10.3663 Q38.73 -10.3663 38.8003 -10.3116 Q38.8706 -10.2569 38.8706 -10.1788 L38.8706 -6.9288 L42.105 -6.9288 Q42.1831 -6.9288 42.2456 -6.8585 Q42.3081 -6.7882 42.3081 -6.71 Q42.3081 -6.6319 42.2456 -6.5616 Q42.1831 -6.4913 42.105 -6.4913 L38.8706 -6.4913 L38.8706 -3.2413 Q38.8706 -3.1632 38.8003 -3.1085 Q38.73 -3.0538 38.6519 -3.0538 Q38.5581 -3.0538 38.4956 -3.1085 Q38.4331 -3.1632 38.4331 -3.2413 L38.4331 -6.4913 L35.1987 -6.4913 Z\"\n",
       "      /><path style=\"stroke:none;\" d=\"M45.8706 -4.1007 Q45.8862 -4.1319 45.9018 -4.2022 Q45.9175 -4.2725 45.9487 -4.3116 Q45.98 -4.3507 46.0268 -4.3507 Q46.98 -4.3507 47.2768 -4.3975 Q47.5737 -4.4757 47.6362 -4.71 L49.1362 -10.7569 Q49.1831 -10.8975 49.1831 -11.0069 Q49.1831 -11.085 48.8081 -11.085 L48.1675 -11.085 Q47.4331 -11.085 47.0268 -10.8585 Q46.6206 -10.6319 46.4331 -10.2647 Q46.2456 -9.8975 45.9487 -9.0538 Q45.9175 -8.96 45.8393 -8.96 L45.7456 -8.96 Q45.6362 -8.96 45.6362 -9.1007 L46.4175 -11.3663 Q46.4331 -11.4757 46.5268 -11.4757 L53.0268 -11.4757 Q53.1362 -11.4757 53.1362 -11.335 L52.7768 -9.0538 Q52.7768 -9.0225 52.7378 -8.9913 Q52.6987 -8.96 52.6675 -8.96 L52.5581 -8.96 Q52.4487 -8.96 52.4487 -9.1007 Q52.5737 -9.8663 52.5737 -10.1944 Q52.5737 -10.585 52.4096 -10.7804 Q52.2456 -10.9757 51.9878 -11.0304 Q51.73 -11.085 51.3237 -11.085 L50.6675 -11.085 Q50.3706 -11.085 50.269 -11.0304 Q50.1675 -10.9757 50.105 -10.71 L48.5893 -4.6788 Q48.5893 -4.6475 48.5893 -4.6319 Q48.5893 -4.6163 48.5737 -4.585 Q48.5737 -4.4444 48.7456 -4.3975 Q49.0268 -4.3507 49.9643 -4.3507 Q50.0581 -4.3507 50.0581 -4.1944 Q50.0268 -4.0538 50.0034 -4.0069 Q49.98 -3.96 49.8862 -3.96 L45.9956 -3.96 Q45.8706 -3.96 45.8706 -4.1007 Z\"\n",
       "      /><path style=\"stroke:none;\" d=\"M54.0453 -1.21 Q53.9515 -1.21 53.9515 -1.3038 Q53.9515 -1.3507 53.9671 -1.3819 Q55.8421 -3.21 55.8421 -6.71 Q55.8421 -10.21 53.9828 -12.0225 Q53.9515 -12.0538 53.9515 -12.1163 Q53.9515 -12.1475 53.9749 -12.1788 Q53.9984 -12.21 54.0453 -12.21 L54.139 -12.21 Q54.1703 -12.21 54.2015 -12.1944 Q54.9828 -11.5694 55.514 -10.6788 Q56.0453 -9.7882 56.2874 -8.7725 Q56.5296 -7.7569 56.5296 -6.71 Q56.5296 -5.9288 56.3968 -5.1788 Q56.264 -4.4288 55.9749 -3.6944 Q55.6859 -2.96 55.2484 -2.335 Q54.8109 -1.71 54.2015 -1.2257 Q54.1703 -1.21 54.139 -1.21 L54.0453 -1.21 Z\"\n",
       "    /></g\n",
       "    ><g style=\"stroke-linecap:butt; fill:rgb(0,114,189); text-rendering:geometricPrecision; image-rendering:optimizeQuality; color-rendering:optimizeQuality; stroke-linejoin:round; stroke:rgb(0,114,189); color-interpolation:linearRGB; stroke-width:0.5;\"\n",
       "    ><path d=\"M73 339.75 L74.0023 339.75 L75.0046 339.75 L76.0069 339.75 L77.0092 339.75 L78.0115 339.75 L79.0139 339.75 L80.0162 339.75 L81.0185 339.75 L82.0208 339.75 L83.0231 339.75 L84.0254 339.75 L85.0277 339.75 L86.03 339.75 L87.0323 339.75 L88.0346 339.75 L89.0369 339.75 L90.0393 339.75 L91.0416 339.75 L92.0439 339.75 L93.0462 339.75 L94.0485 339.75 L95.0508 339.75 L96.0531 339.75 L97.0554 339.75 L98.0577 339.75 L99.0601 339.75 L100.0624 339.75 L101.0647 339.75 L102.067 339.75 L103.0693 339.75 L104.0716 339.75 L105.0739 339.75 L106.0762 339.75 L107.0785 339.75 L108.0808 339.75 L109.0831 339.75 L110.0854 339.75 L111.0878 339.75 L112.0901 339.75 L113.0924 339.75 L114.0947 339.75 L115.097 339.75 L116.0993 339.75 L117.1016 339.75 L118.1039 339.75 L119.1062 339.75 L120.1085 339.75 L121.1109 339.75 L122.1132 339.75 L123.1155 339.75 L124.1178 339.75 L125.1201 339.75 L126.1224 339.75 L127.1247 339.75 L128.127 339.75 L129.1293 339.75 L130.1316 339.75 L131.134 339.75 L132.1362 339.75 L133.1386 339.75 L134.1409 339.75 L135.1432 339.75 L136.1455 339.75 L137.1478 339.75 L138.1501 339.75 L139.1524 339.75 L140.1547 339.75 L141.157 339.75 L142.1593 339.75 L143.1617 339.75 L144.164 339.75 L145.1663 339.75 L146.1686 339.75 L147.1709 339.75 L148.1732 339.75 L149.1755 339.75 L150.1778 339.75 L151.1801 339.75 L152.1824 339.75 L153.1848 339.75 L154.1871 339.75 L155.1894 339.75 L156.1917 339.75 L157.194 339.75 L158.1963 339.75 L159.1986 339.75 L160.2009 339.75 L161.2032 339.75 L162.2055 339.75 L163.2079 339.75 L164.2102 339.75 L165.2125 339.75 L166.2148 339.75 L167.2171 339.75 L168.2194 339.75 L169.2217 339.75 L170.224 339.75 L171.2263 339.75 L172.2286 339.75 L173.231 339.75 L174.2332 339.75 L175.2356 339.75 L176.2379 339.75 L177.2402 339.75 L178.2425 339.75 L179.2448 339.75 L180.2471 339.75 L181.2494 339.75 L182.2517 339.75 L183.254 339.75 L184.2563 339.75 L185.2587 339.75 L186.261 339.75 L187.2633 339.75 L188.2656 339.75 L189.2679 339.75 L190.2702 339.75 L191.2725 339.75 L192.2748 339.75 L193.2771 339.75 L194.2794 339.75 L195.2818 339.75 L196.2841 339.75 L197.2864 339.75 L198.2887 339.75 L199.291 339.75 L200.2933 339.75 L201.2956 339.75 L202.2979 339.75 L203.3002 339.75 L204.3025 339.75 L205.3049 339.75 L206.3072 339.75 L207.3095 339.75 L208.3118 339.75 L209.3141 339.75 L210.3164 339.75 L211.3187 339.75 L212.321 339.75 L213.3233 339.75 L214.3256 339.75 L215.3279 339.75 L216.3302 339.75 L217.3326 339.75 L218.3349 65.75 L219.3372 65.75 L220.3395 65.75 L221.3418 65.75 L222.3441 65.75 L223.3464 65.75 L224.3487 65.75 L225.351 65.75 L226.3533 65.75 L227.3557 65.75 L228.358 65.75 L229.3603 65.75 L230.3626 65.75 L231.3649 65.75 L232.3672 65.75 L233.3695 65.75 L234.3718 65.75 L235.3741 65.75 L236.3764 65.75 L237.3788 65.75 L238.3811 65.75 L239.3834 65.75 L240.3857 65.75 L241.388 65.75 L242.3903 65.75 L243.3926 65.75 L244.3949 65.75 L245.3972 65.75 L246.3995 65.75 L247.4019 65.75 L248.4042 65.75 L249.4065 65.75 L250.4088 65.75 L251.4111 65.75 L252.4134 65.75 L253.4157 65.75 L254.418 65.75 L255.4203 65.75 L256.4226 65.75 L257.4249 65.75 L258.4272 65.75 L259.4296 65.75 L260.4319 65.75 L261.4342 65.75 L262.4365 65.75 L263.4388 65.75 L264.4411 65.75 L265.4434 65.75 L266.4457 65.75 L267.448 65.75 L268.4503 65.75 L269.4527 65.75 L270.455 65.75 L271.4573 65.75 L272.4596 65.75 L273.4619 65.75 L274.4642 65.75 L275.4665 65.75 L276.4688 65.75 L277.4711 65.75 L278.4734 65.75 L279.4758 65.75 L280.4781 65.75 L281.4804 65.75 L282.4827 65.75 L283.485 65.75 L284.4873 65.75 L285.4896 65.75 L286.4919 65.75 L287.4942 65.75 L288.4966 65.75 L289.4988 65.75 L290.5012 65.75 L291.5034 65.75 L292.5058 65.75 L293.5081 65.75 L294.5104 65.75 L295.5127 65.75 L296.515 65.75 L297.5173 65.75 L298.5196 65.75 L299.5219 65.75 L300.5243 65.75 L301.5266 65.75 L302.5289 65.75 L303.5312 65.75 L304.5335 65.75 L305.5358 65.75 L306.5381 65.75 L307.5404 65.75 L308.5427 65.75 L309.545 65.75 L310.5473 65.75 L311.5497 65.75 L312.552 65.75 L313.5543 65.75 L314.5566 65.75 L315.5589 65.75 L316.5612 65.75 L317.5635 65.75 L318.5658 65.75 L319.5681 65.75 L320.5704 65.75 L321.5728 65.75 L322.575 65.75 L323.5774 65.75 L324.5797 65.75 L325.582 65.75 L326.5843 65.75 L327.5866 65.75 L328.5889 65.75 L329.5912 65.75 L330.5935 65.75 L331.5959 65.75 L332.5981 65.75 L333.6005 65.75 L334.6028 65.75 L335.6051 65.75 L336.6074 65.75 L337.6097 65.75 L338.612 65.75 L339.6143 65.75 L340.6166 65.75 L341.6189 65.75 L342.6212 65.75 L343.6236 65.75 L344.6259 65.75 L345.6282 65.75 L346.6305 65.75 L347.6328 65.75 L348.6351 65.75 L349.6374 65.75 L350.6397 65.75 L351.642 65.75 L352.6443 65.75 L353.6466 65.75 L354.649 65.75 L355.6513 65.75 L356.6536 65.75 L357.6559 65.75 L358.6582 65.75 L359.6605 65.75 L360.6628 65.75 L361.6651 65.75 L362.6674 65.75 L363.6697 65.75 L364.6721 65.75 L365.6744 65.75 L366.6767 65.75 L367.679 65.75 L368.6813 65.75 L369.6836 65.75 L370.6859 65.75 L371.6882 65.75 L372.6905 65.75 L373.6928 65.75 L374.6952 65.75 L375.6974 65.75 L376.6998 65.75 L377.7021 65.75 L378.7044 65.75 L379.7067 65.75 L380.709 65.75 L381.7113 65.75 L382.7136 65.75 L383.7159 65.75 L384.7182 65.75 L385.7206 65.75 L386.7229 65.75 L387.7252 65.75 L388.7275 65.75 L389.7298 65.75 L390.7321 65.75 L391.7344 65.75 L392.7367 65.75 L393.739 65.75 L394.7413 65.75 L395.7437 65.75 L396.746 65.75 L397.7483 65.75 L398.7506 65.75 L399.7529 65.75 L400.7552 65.75 L401.7575 65.75 L402.7598 65.75 L403.7621 65.75 L404.7644 65.75 L405.7668 65.75 L406.769 65.75 L407.7714 65.75 L408.7737 65.75 L409.776 65.75 L410.7783 65.75 L411.7806 65.75 L412.7829 65.75 L413.7852 65.75 L414.7875 65.75 L415.7898 65.75 L416.7921 65.75 L417.7945 65.75 L418.7968 65.75 L419.7991 65.75 L420.8014 65.75 L421.8037 65.75 L422.806 65.75 L423.8083 65.75 L424.8106 65.75 L425.8129 65.75 L426.8152 65.75 L427.8176 65.75 L428.8199 65.75 L429.8222 65.75 L430.8245 65.75 L431.8268 65.75 L432.8291 65.75 L433.8314 65.75 L434.8337 65.75 L435.836 65.75 L436.8383 65.75 L437.8406 65.75 L438.843 65.75 L439.8453 65.75 L440.8476 65.75 L441.8499 65.75 L442.8522 65.75 L443.8545 65.75 L444.8568 65.75 L445.8591 65.75 L446.8614 65.75 L447.8637 65.75 L448.8661 65.75 L449.8683 65.75 L450.8707 65.75 L451.873 65.75 L452.8753 65.75 L453.8776 65.75 L454.8799 65.75 L455.8822 65.75 L456.8845 65.75 L457.8868 65.75 L458.8891 65.75 L459.8914 65.75 L460.8938 65.75 L461.8961 65.75 L462.8984 65.75 L463.9007 65.75 L464.903 65.75 L465.9053 65.75 L466.9076 65.75 L467.9099 65.75 L468.9122 65.75 L469.9146 65.75 L470.9169 65.75 L471.9192 65.75 L472.9215 65.75 L473.9238 65.75 L474.9261 65.75 L475.9284 65.75 L476.9307 65.75 L477.933 65.75 L478.9353 65.75 L479.9377 65.75 L480.9399 65.75 L481.9423 65.75 L482.9446 65.75 L483.9469 65.75 L484.9492 65.75 L485.9515 65.75 L486.9538 65.75 L487.9561 65.75 L488.9584 65.75 L489.9608 65.75 L490.963 65.75 L491.9654 65.75 L492.9677 65.75 L493.97 65.75 L494.9723 65.75 L495.9746 65.75 L496.9769 65.75 L497.9792 65.75 L498.9815 65.75 L499.9838 65.75 L500.9861 65.75 L501.9885 65.75 L502.9908 65.75 L503.9931 65.75 L504.9954 65.75 L505.9977 65.75 L507 65.75\" style=\"fill:none; fill-rule:evenodd;\"\n",
       "    /></g\n",
       "  ></g\n",
       "></svg\n",
       ">\n"
      ]
     },
     "metadata": {
      "filenames": {
       "image/svg+xml": "/Users/eechris/code/src/github.com/cpjobling/eg-247-textbook/_build/jupyter_execute/elementary_signals/index_23_0.svg"
      }
     },
     "output_type": "display_data"
    }
   ],
   "source": [
    "ezplot(u0(t + T),[-2,1]),grid,title('Time advance $$u_0(t + T)$$','interpreter','latex')"
   ]
  },
  {
   "cell_type": "markdown",
   "id": "7fde14a6",
   "metadata": {
    "slideshow": {
     "slide_type": "notes"
    }
   },
   "source": [
    "This is a *time advance* ... note for $u_0(t + T)$ the step change occurs T seconds **earlier** than it does for $u_o(t)$."
   ]
  },
  {
   "cell_type": "markdown",
   "id": "2c8786eb",
   "metadata": {
    "slideshow": {
     "slide_type": "subslide"
    }
   },
   "source": [
    "### Examples\n",
    "\n",
    "We will work through some examples in class. See [Worksheet 3](worksheet3)."
   ]
  },
  {
   "cell_type": "markdown",
   "id": "c48e2787",
   "metadata": {
    "slideshow": {
     "slide_type": "slide"
    }
   },
   "source": [
    "## Synthesis of Signals from the Unit Step\n",
    "\n",
    "Unit step functions can be used to represent other time-varying functions such as rectangular pulses, square waves and triangular pulses. See [Worksheet 3](worksheet3) for the examples that we will look at in class."
   ]
  },
  {
   "cell_type": "markdown",
   "id": "d554a477",
   "metadata": {
    "slideshow": {
     "slide_type": "slide"
    }
   },
   "source": [
    "## The Ramp Function\n",
    "\n",
    "![Integrator (RC) circuit](./pictures/rc.png)\n",
    "\n",
    "In the circuit shown above $i_s$ is a constant current source and the switch is closed at time $t=0$."
   ]
  },
  {
   "cell_type": "markdown",
   "id": "90e8563e",
   "metadata": {
    "slideshow": {
     "slide_type": "subslide"
    }
   },
   "source": [
    "When the current through the capacitor $i_c(t) = i_s$ is a constant and the voltage across the capacitor is\n",
    "\n",
    "$$v_c(t) = \\frac{1}{C}\\int_{-\\infty}^{t} i_c(\\tau)\\;d\\tau$$ \n",
    "\n",
    "where $\\tau$ is a dummy variable."
   ]
  },
  {
   "cell_type": "markdown",
   "id": "7b3e1d1d",
   "metadata": {
    "slideshow": {
     "slide_type": "subslide"
    }
   },
   "source": [
    "Since the switch closes at $t=0$, we can express the current $i_c(t)$ as\n",
    "\n",
    "$$i_c(t) = i_s u_0(t)$$\n",
    "\n",
    "and if $v_c(t) = 0$ for $t < 0$ we have\n",
    "\n",
    "$$v_c(t) = \\frac{i_s}{C}\\int_{-\\infty}^{t} u_0(\\tau)\\;d\\tau = \\underbrace { \\frac{i_s}{C}\\int_{ - \\infty }^0 0\\;{\\kern 1pt} d\\tau }_0 + \\frac{i_s}{C}\\int_{0}^{t} 1\\;d\\tau$$"
   ]
  },
  {
   "cell_type": "markdown",
   "id": "90b8b44b",
   "metadata": {
    "slideshow": {
     "slide_type": "subslide"
    }
   },
   "source": [
    "So, the voltage across the capacitor can be represented as\n",
    "\n",
    "$$v_C(t)=\\frac{i_s}{C}t u_0(t)$$"
   ]
  },
  {
   "cell_type": "markdown",
   "id": "40f0d21f",
   "metadata": {
    "slideshow": {
     "slide_type": "notes"
    }
   },
   "source": [
    "**Note** that in this as in other examples throughout these notes, and in published tables of transforms, the inclusion of $u_0(t)$ in $v_c(t)$ acts as a \"gating function\" that limits the definition of the signal to the causal range $0 \\le t \\lt \\infty$."
   ]
  },
  {
   "cell_type": "markdown",
   "id": "fdb8b5ca",
   "metadata": {
    "slideshow": {
     "slide_type": "subslide"
    }
   },
   "source": [
    "To sketch the wave form, let's arbitrarily let $C$ and $i_s$ be one and then plot with MATLAB."
   ]
  },
  {
   "cell_type": "code",
   "execution_count": 8,
   "id": "f1c259d3",
   "metadata": {
    "slideshow": {
     "slide_type": "subslide"
    }
   },
   "outputs": [
    {
     "data": {
      "image/svg+xml": [
       "<?xml version=\"1.0\"?>\n",
       "<!DOCTYPE svg PUBLIC '-//W3C//DTD SVG 1.0//EN'\n",
       "          'http://www.w3.org/TR/2001/REC-SVG-20010904/DTD/svg10.dtd'>\n",
       "<svg xmlns:xlink=\"http://www.w3.org/1999/xlink\" style=\"fill-opacity:1; color-rendering:auto; color-interpolation:auto; text-rendering:auto; stroke:black; stroke-linecap:square; stroke-miterlimit:10; shape-rendering:auto; stroke-opacity:1; fill:black; stroke-dasharray:none; font-weight:normal; stroke-width:1; font-family:'Dialog'; font-style:normal; stroke-linejoin:miter; font-size:12px; stroke-dashoffset:0; image-rendering:auto;\" width=\"560\" height=\"420\" xmlns=\"http://www.w3.org/2000/svg\"\n",
       "><!--Generated by the Batik Graphics2D SVG Generator--><defs id=\"genericDefs\"\n",
       "  /><g\n",
       "  ><defs id=\"defs1\"\n",
       "    ><clipPath clipPathUnits=\"userSpaceOnUse\" id=\"clipPath1\"\n",
       "      ><path d=\"M0 0 L560 0 L560 420 L0 420 L0 0 Z\"\n",
       "      /></clipPath\n",
       "      ><font horiz-adv-x=\"50.0\" id=\"font1\"\n",
       "      ><font-face ascent=\"95.200005\" descent=\"21.3\" units-per-em=\"100\" style=\"font-style:normal; font-family:Helvetica Neue; font-weight:normal;\"\n",
       "        /><missing-glyph horiz-adv-x=\"50.0\" d=\"M40.9 66.6 L10.2 66.6 L10.2 4.7 L40.9 4.7 ZM46 71.2 L46 0.1 L5.1 0.1 L5.1 71.2 Z\"\n",
       "        /><glyph unicode=\"1\" horiz-adv-x=\"55.6\" d=\"M35.6 0 L35.6 70.9 L29.1 70.9 Q28.4 66.9 26.5 64.3 Q24.6 61.7 21.85 60.2 Q19.1 58.7 15.7 58.15 Q12.3 57.6 8.7 57.6 L8.7 50.8 L27.1 50.8 L27.1 0 Z\"\n",
       "        /><glyph unicode=\"-\" horiz-adv-x=\"38.9\" d=\"M5 31.8 L5 23.8 L33.9 23.8 L33.9 31.8 Z\"\n",
       "        /><glyph unicode=\"5\" horiz-adv-x=\"55.6\" d=\"M47 62.2 L47 69.7 L12 69.7 L5.4 32.9 L12.7 32.5 Q15.2 35.5 18.45 37.35 Q21.7 39.2 25.9 39.2 Q29.5 39.2 32.45 38 Q35.4 36.8 37.5 34.65 Q39.6 32.5 40.75 29.55 Q41.9 26.6 41.9 23.1 Q41.9 18.9 40.7 15.75 Q39.5 12.6 37.45 10.5 Q35.4 8.4 32.65 7.35 Q29.9 6.3 26.9 6.3 Q23.7 6.3 21.05 7.25 Q18.4 8.2 16.45 9.95 Q14.5 11.7 13.35 14.05 Q12.2 16.4 12 19.1 L3.5 19.1 Q3.6 14.3 5.4 10.5 Q7.2 6.7 10.3 4.15 Q13.4 1.6 17.45 0.25 Q21.5 -1.1 26.1 -1.1 Q32.3 -1.1 36.95 0.85 Q41.6 2.8 44.7 6.1 Q47.8 9.4 49.35 13.65 Q50.9 17.9 50.9 22.4 Q50.9 28.5 49.1 33.05 Q47.3 37.6 44.2 40.65 Q41.1 43.7 36.9 45.2 Q32.7 46.7 28 46.7 Q24.4 46.7 20.75 45.45 Q17.1 44.2 14.8 41.6 L14.6 41.8 L18.4 62.2 Z\"\n",
       "        /><glyph unicode=\".\" horiz-adv-x=\"27.8\" d=\"M8.3 11.1 L8.3 0 L19.4 0 L19.4 11.1 Z\"\n",
       "        /><glyph unicode=\"0\" horiz-adv-x=\"55.6\" d=\"M13.2 34.9 Q13.2 37.5 13.25 40.65 Q13.3 43.8 13.75 46.95 Q14.2 50.1 15.05 53.1 Q15.9 56.1 17.55 58.35 Q19.2 60.6 21.7 62 Q24.2 63.4 27.8 63.4 Q31.4 63.4 33.9 62 Q36.4 60.6 38.05 58.35 Q39.7 56.1 40.55 53.1 Q41.4 50.1 41.85 46.95 Q42.3 43.8 42.35 40.65 Q42.4 37.5 42.4 34.9 Q42.4 30.9 42.15 25.95 Q41.9 21 40.55 16.65 Q39.2 12.3 36.2 9.3 Q33.2 6.3 27.8 6.3 Q22.4 6.3 19.4 9.3 Q16.4 12.3 15.05 16.65 Q13.7 21 13.45 25.95 Q13.2 30.9 13.2 34.9 ZM4.2 34.8 Q4.2 30.9 4.4 26.7 Q4.6 22.5 5.4 18.5 Q6.2 14.5 7.7 10.95 Q9.2 7.4 11.8 4.7 Q14.4 2 18.35 0.45 Q22.3 -1.1 27.8 -1.1 Q33.4 -1.1 37.3 0.45 Q41.2 2 43.8 4.7 Q46.4 7.4 47.9 10.95 Q49.4 14.5 50.2 18.5 Q51 22.5 51.2 26.7 Q51.4 30.9 51.4 34.8 Q51.4 38.7 51.2 42.9 Q51 47.1 50.2 51.1 Q49.4 55.1 47.9 58.7 Q46.4 62.3 43.8 65 Q41.2 67.7 37.25 69.3 Q33.3 70.9 27.8 70.9 Q22.3 70.9 18.35 69.3 Q14.4 67.7 11.8 65 Q9.2 62.3 7.7 58.7 Q6.2 55.1 5.4 51.1 Q4.6 47.1 4.4 42.9 Q4.2 38.7 4.2 34.8 Z\"\n",
       "        /><glyph unicode=\"2\" horiz-adv-x=\"55.6\" d=\"M4.4 45.8 L12.9 45.8 Q12.8 49 13.55 52.15 Q14.3 55.3 16 57.8 Q17.7 60.3 20.35 61.85 Q23 63.4 26.7 63.4 Q29.5 63.4 32 62.5 Q34.5 61.6 36.35 59.9 Q38.2 58.2 39.3 55.85 Q40.4 53.5 40.4 50.6 Q40.4 46.9 39.25 44.1 Q38.1 41.3 35.85 38.9 Q33.6 36.5 30.2 34.15 Q26.8 31.8 22.3 29 Q18.6 26.8 15.2 24.3 Q11.8 21.8 9.1 18.5 Q6.4 15.2 4.65 10.75 Q2.9 6.3 2.4 0 L48.7 0 L48.7 7.5 L12.3 7.5 Q12.9 10.8 14.85 13.35 Q16.8 15.9 19.55 18.1 Q22.3 20.3 25.6 22.25 Q28.9 24.2 32.2 26.2 Q35.5 28.3 38.6 30.6 Q41.7 32.9 44.1 35.75 Q46.5 38.6 47.95 42.2 Q49.4 45.8 49.4 50.5 Q49.4 55.5 47.65 59.3 Q45.9 63.1 42.9 65.65 Q39.9 68.2 35.85 69.55 Q31.8 70.9 27.2 70.9 Q21.6 70.9 17.2 69 Q12.8 67.1 9.85 63.75 Q6.9 60.4 5.5 55.8 Q4.1 51.2 4.4 45.8 Z\"\n",
       "        /><glyph unicode=\"3\" horiz-adv-x=\"55.6\" d=\"M21.8 40.5 L21.8 33.3 Q24.2 33.6 26.9 33.6 Q30.1 33.6 32.85 32.75 Q35.6 31.9 37.6 30.15 Q39.6 28.4 40.8 25.85 Q42 23.3 42 20 Q42 16.8 40.75 14.25 Q39.5 11.7 37.4 9.95 Q35.3 8.2 32.5 7.25 Q29.7 6.3 26.6 6.3 Q19.3 6.3 15.5 10.65 Q11.7 15 11.5 21.9 L3 21.9 Q2.9 16.4 4.55 12.1 Q6.2 7.8 9.3 4.85 Q12.4 1.9 16.8 0.4 Q21.2 -1.1 26.6 -1.1 Q31.6 -1.1 36.05 0.25 Q40.5 1.6 43.8 4.3 Q47.1 7 49.05 11.05 Q51 15.1 51 20.4 Q51 26.8 47.85 31.5 Q44.7 36.2 38.2 37.6 L38.2 37.8 Q42.4 39.7 45.2 43.4 Q48 47.1 48 51.9 Q48 56.8 46.35 60.4 Q44.7 64 41.8 66.3 Q38.9 68.6 34.95 69.75 Q31 70.9 26.4 70.9 Q21.1 70.9 17.05 69.2 Q13 67.5 10.3 64.5 Q7.6 61.5 6.15 57.3 Q4.7 53.1 4.5 48 L13 48 Q13 51.1 13.8 53.9 Q14.6 56.7 16.25 58.8 Q17.9 60.9 20.45 62.15 Q23 63.4 26.4 63.4 Q31.8 63.4 35.4 60.55 Q39 57.7 39 52 Q39 49.2 37.9 47 Q36.8 44.8 34.95 43.35 Q33.1 41.9 30.65 41.15 Q28.2 40.4 25.5 40.4 L23.7 40.4 Q23.2 40.4 22.7 40.4 Q22.3 40.4 21.8 40.5 Z\"\n",
       "        /><glyph unicode=\"4\" horiz-adv-x=\"55.6\" d=\"M33.9 24.1 L10.1 24.1 L33.7 58.8 L33.9 58.8 ZM41.9 24.1 L41.9 70.9 L35.1 70.9 L2.8 24.8 L2.8 16.6 L33.9 16.6 L33.9 0 L41.9 0 L41.9 16.6 L51.5 16.6 L51.5 24.1 Z\"\n",
       "        /><glyph unicode=\"t\" horiz-adv-x=\"31.5\" d=\"M18.2 51.7 L18.2 67.2 L9.7 67.2 L9.7 51.7 L0.9 51.7 L0.9 44.2 L9.7 44.2 L9.7 11.3 Q9.7 7.7 10.4 5.5 Q11.1 3.3 12.55 2.1 Q14 0.9 16.35 0.45 Q18.7 0 22 0 L28.5 0 L28.5 7.5 L24.6 7.5 Q22.6 7.5 21.35 7.65 Q20.1 7.8 19.4 8.3 Q18.7 8.8 18.45 9.7 Q18.2 10.6 18.2 12.1 L18.2 44.2 L28.5 44.2 L28.5 51.7 Z\"\n",
       "      /></font\n",
       "      ><font horiz-adv-x=\"50.0\" id=\"font2\"\n",
       "      ><font-face ascent=\"97.5\" descent=\"21.699999\" units-per-em=\"100\" style=\"font-style:normal; font-family:Helvetica Neue; font-weight:bold;\"\n",
       "        /><missing-glyph horiz-adv-x=\"50.0\" d=\"M39.1 60.7 L11.1 60.7 L11.1 9.5 L39.1 9.5 ZM48.2 69.8 L48.2 0.3 L1.7 0.3 L1.7 69.8 Z\"\n",
       "        /><glyph unicode=\"o\" horiz-adv-x=\"61.1\" d=\"M18 25.8 Q18 28.9 18.6 31.9 Q19.2 34.9 20.65 37.2 Q22.1 39.5 24.5 40.95 Q26.9 42.4 30.5 42.4 Q34.1 42.4 36.55 40.95 Q39 39.5 40.45 37.2 Q41.9 34.9 42.5 31.9 Q43.1 28.9 43.1 25.8 Q43.1 22.7 42.5 19.75 Q41.9 16.8 40.45 14.45 Q39 12.1 36.55 10.7 Q34.1 9.3 30.5 9.3 Q26.9 9.3 24.5 10.7 Q22.1 12.1 20.65 14.45 Q19.2 16.8 18.6 19.75 Q18 22.7 18 25.8 ZM3.8 25.8 Q3.8 19.6 5.7 14.6 Q7.6 9.6 11.1 6.05 Q14.6 2.5 19.5 0.6 Q24.4 -1.3 30.5 -1.3 Q36.6 -1.3 41.55 0.6 Q46.5 2.5 50 6.05 Q53.5 9.6 55.4 14.6 Q57.3 19.6 57.3 25.8 Q57.3 32 55.4 37.05 Q53.5 42.1 50 45.65 Q46.5 49.2 41.55 51.15 Q36.6 53.1 30.5 53.1 Q24.4 53.1 19.5 51.15 Q14.6 49.2 11.1 45.65 Q7.6 42.1 5.7 37.05 Q3.8 32 3.8 25.8 Z\"\n",
       "        /><glyph unicode=\"i\" horiz-adv-x=\"25.8\" d=\"M20 59.7 L20 71.4 L5.8 71.4 L5.8 59.7 ZM5.8 51.7 L5.8 0 L20 0 L20 51.7 Z\"\n",
       "        /><glyph unicode=\"t\" horiz-adv-x=\"35.2\" d=\"M23.4 51.7 L23.4 67.2 L9.2 67.2 L9.2 51.7 L0.6 51.7 L0.6 42.2 L9.2 42.2 L9.2 11.7 Q9.2 7.8 10.5 5.4 Q11.8 3 14.05 1.7 Q16.3 0.4 19.25 -0.05 Q22.2 -0.5 25.5 -0.5 Q27.6 -0.5 29.8 -0.4 Q32 -0.3 33.8 0 L33.8 11 Q32.8 10.8 31.7 10.7 Q30.6 10.6 29.4 10.6 Q25.8 10.6 24.6 11.8 Q23.4 13 23.4 16.6 L23.4 42.2 L33.8 42.2 L33.8 51.7 Z\"\n",
       "        /><glyph unicode=\"c\" horiz-adv-x=\"57.4\" d=\"M40.6 33.5 L54.5 33.5 Q54.2 38.5 52.1 42.15 Q50 45.8 46.65 48.25 Q43.3 50.7 39.05 51.9 Q34.8 53.1 30.2 53.1 Q23.9 53.1 19 51 Q14.1 48.9 10.7 45.15 Q7.3 41.4 5.55 36.25 Q3.8 31.1 3.8 25.1 Q3.8 19.3 5.7 14.45 Q7.6 9.6 11 6.1 Q14.4 2.6 19.25 0.65 Q24.1 -1.3 29.9 -1.3 Q40.2 -1.3 46.8 4.1 Q53.4 9.5 54.8 19.8 L41.1 19.8 Q40.4 15 37.65 12.15 Q34.9 9.3 29.8 9.3 Q26.5 9.3 24.2 10.8 Q21.9 12.3 20.55 14.65 Q19.2 17 18.6 19.9 Q18 22.8 18 25.6 Q18 28.5 18.6 31.45 Q19.2 34.4 20.65 36.85 Q22.1 39.3 24.4 40.85 Q26.7 42.4 30.1 42.4 Q39.2 42.4 40.6 33.5 Z\"\n",
       "        /><glyph unicode=\"n\" horiz-adv-x=\"59.3\" d=\"M5.4 51.7 L5.4 0 L19.6 0 L19.6 27.1 Q19.6 35 22.2 38.45 Q24.8 41.9 30.6 41.9 Q35.7 41.9 37.7 38.75 Q39.7 35.6 39.7 29.2 L39.7 0 L53.9 0 L53.9 31.8 Q53.9 36.6 53.05 40.55 Q52.2 44.5 50.1 47.25 Q48 50 44.35 51.55 Q40.7 53.1 35 53.1 Q30.5 53.1 26.2 51.05 Q21.9 49 19.2 44.5 L18.9 44.5 L18.9 51.7 Z\"\n",
       "        /><glyph unicode=\"u\" horiz-adv-x=\"59.3\" d=\"M53.9 0 L53.9 51.7 L39.7 51.7 L39.7 24.6 Q39.7 16.7 37.1 13.25 Q34.5 9.8 28.7 9.8 Q23.6 9.8 21.6 12.95 Q19.6 16.1 19.6 22.5 L19.6 51.7 L5.4 51.7 L5.4 19.9 Q5.4 15.1 6.25 11.15 Q7.1 7.2 9.2 4.45 Q11.3 1.7 14.95 0.2 Q18.6 -1.3 24.3 -1.3 Q28.8 -1.3 33.1 0.7 Q37.4 2.7 40.1 7.2 L40.4 7.2 L40.4 0 Z\"\n",
       "        /><glyph unicode=\"f\" horiz-adv-x=\"33.3\" d=\"M8.5 42.2 L8.5 0 L22.7 0 L22.7 42.2 L32.5 42.2 L32.5 51.7 L22.7 51.7 L22.7 54.8 Q22.7 58 23.95 59.35 Q25.2 60.7 28.1 60.7 Q30.8 60.7 33.3 60.4 L33.3 71 Q31.5 71.1 29.6 71.25 Q27.7 71.4 25.8 71.4 Q17.1 71.4 12.8 67 Q8.5 62.6 8.5 55.7 L8.5 51.7 L0 51.7 L0 42.2 Z\"\n",
       "        /><glyph unicode=\"p\" horiz-adv-x=\"61.1\" d=\"M31.5 9.3 Q28.1 9.3 25.7 10.7 Q23.3 12.1 21.85 14.35 Q20.4 16.6 19.75 19.6 Q19.1 22.6 19.1 25.7 Q19.1 28.9 19.7 31.9 Q20.3 34.9 21.75 37.2 Q23.2 39.5 25.55 40.95 Q27.9 42.4 31.4 42.4 Q34.8 42.4 37.15 40.95 Q39.5 39.5 41 37.15 Q42.5 34.8 43.15 31.8 Q43.8 28.8 43.8 25.7 Q43.8 22.6 43.2 19.6 Q42.6 16.6 41.15 14.35 Q39.7 12.1 37.35 10.7 Q35 9.3 31.5 9.3 ZM5.4 51.7 L5.4 -18.1 L19.6 -18.1 L19.6 6.4 L19.8 6.4 Q22.4 2.6 26.45 0.65 Q30.5 -1.3 35.3 -1.3 Q41 -1.3 45.25 0.9 Q49.5 3.1 52.35 6.8 Q55.2 10.5 56.6 15.3 Q58 20.1 58 25.3 Q58 30.8 56.6 35.85 Q55.2 40.9 52.3 44.7 Q49.4 48.5 45 50.8 Q40.6 53.1 34.5 53.1 Q29.7 53.1 25.7 51.2 Q21.7 49.3 19.1 45.1 L18.9 45.1 L18.9 51.7 Z\"\n",
       "        /><glyph unicode=\"m\" horiz-adv-x=\"90.6\" d=\"M5.8 51.7 L5.8 0 L20 0 L20 30 Q20 33.8 21.1 36.15 Q22.2 38.5 23.75 39.75 Q25.3 41 26.95 41.45 Q28.6 41.9 29.6 41.9 Q33 41.9 34.75 40.75 Q36.5 39.6 37.25 37.7 Q38 35.8 38.1 33.55 Q38.2 31.3 38.2 29 L38.2 0 L52.4 0 L52.4 28.8 Q52.4 31.2 52.75 33.55 Q53.1 35.9 54.15 37.75 Q55.2 39.6 57.05 40.75 Q58.9 41.9 61.9 41.9 Q64.9 41.9 66.65 40.9 Q68.4 39.9 69.3 38.2 Q70.2 36.5 70.4 34.2 Q70.6 31.9 70.6 29.3 L70.6 0 L84.8 0 L84.8 34.6 Q84.8 39.6 83.4 43.15 Q82 46.7 79.5 48.9 Q77 51.1 73.5 52.1 Q70 53.1 65.9 53.1 Q60.5 53.1 56.55 50.5 Q52.6 47.9 50.3 44.5 Q48.2 49.3 44.15 51.2 Q40.1 53.1 35.2 53.1 Q30.1 53.1 26.15 50.9 Q22.2 48.7 19.4 44.7 L19.2 44.7 L19.2 51.7 Z\"\n",
       "        /><glyph unicode=\"a\" horiz-adv-x=\"57.4\" d=\"M4.8 35.8 Q5.1 40.8 7.3 44.1 Q9.5 47.4 12.9 49.4 Q16.3 51.4 20.55 52.25 Q24.8 53.1 29.1 53.1 Q33 53.1 37 52.55 Q41 52 44.3 50.4 Q47.6 48.8 49.7 45.95 Q51.8 43.1 51.8 38.4 L51.8 11.5 Q51.8 8 52.2 4.8 Q52.6 1.6 53.6 0 L39.2 0 Q38.8 1.2 38.55 2.45 Q38.3 3.7 38.2 5 Q34.8 1.5 30.2 0.1 Q25.6 -1.3 20.8 -1.3 Q17.1 -1.3 13.9 -0.4 Q10.7 0.5 8.3 2.4 Q5.9 4.3 4.55 7.2 Q3.2 10.1 3.2 14.1 Q3.2 18.5 4.75 21.35 Q6.3 24.2 8.75 25.9 Q11.2 27.6 14.35 28.45 Q17.5 29.3 20.7 29.8 Q23.9 30.3 27 30.6 Q30.1 30.9 32.5 31.5 Q34.9 32.1 36.3 33.25 Q37.7 34.4 37.6 36.6 Q37.6 38.9 36.85 40.25 Q36.1 41.6 34.85 42.35 Q33.6 43.1 31.95 43.35 Q30.3 43.6 28.4 43.6 Q24.2 43.6 21.8 41.8 Q19.4 40 19 35.8 ZM37.6 25.3 Q36.7 24.5 35.35 24.05 Q34 23.6 32.45 23.3 Q30.9 23 29.2 22.8 Q27.5 22.6 25.8 22.3 Q24.2 22 22.65 21.5 Q21.1 21 19.95 20.15 Q18.8 19.3 18.1 18 Q17.4 16.7 17.4 14.7 Q17.4 12.8 18.1 11.5 Q18.8 10.2 20 9.45 Q21.2 8.7 22.8 8.4 Q24.4 8.1 26.1 8.1 Q30.3 8.1 32.6 9.5 Q34.9 10.9 36 12.85 Q37.1 14.8 37.35 16.8 Q37.6 18.8 37.6 20 Z\"\n",
       "        /><glyph unicode=\"r\" horiz-adv-x=\"38.9\" d=\"M5.4 51.7 L5.4 0 L19.6 0 L19.6 23.3 Q19.6 26.8 20.3 29.8 Q21 32.8 22.65 35.05 Q24.3 37.3 27 38.6 Q29.7 39.9 33.6 39.9 Q34.9 39.9 36.3 39.75 Q37.7 39.6 38.7 39.4 L38.7 52.6 Q37 53.1 35.6 53.1 Q32.9 53.1 30.4 52.3 Q27.9 51.5 25.7 50.05 Q23.5 48.6 21.8 46.55 Q20.1 44.5 19.1 42.1 L18.9 42.1 L18.9 51.7 Z\"\n",
       "        /><glyph unicode=\" \" horiz-adv-x=\"27.8\" d=\"\"\n",
       "        /><glyph unicode=\"A\" horiz-adv-x=\"68.5\" d=\"M24.9 27.6 L34.2 53.8 L34.4 53.8 L43.4 27.6 ZM26.4 71.4 L-0.6 0 L15.2 0 L20.8 15.9 L47.5 15.9 L52.9 0 L69.2 0 L42.5 71.4 Z\"\n",
       "      /></font\n",
       "    ></defs\n",
       "    ><g style=\"fill:white; stroke:white;\"\n",
       "    ><rect x=\"0\" y=\"0\" width=\"560\" style=\"clip-path:url(#clipPath1); stroke:none;\" height=\"420\"\n",
       "    /></g\n",
       "    ><g style=\"fill:white; text-rendering:optimizeSpeed; color-rendering:optimizeSpeed; image-rendering:optimizeSpeed; shape-rendering:crispEdges; stroke:white; color-interpolation:sRGB;\"\n",
       "    ><rect x=\"0\" width=\"560\" height=\"420\" y=\"0\" style=\"stroke:none;\"\n",
       "      /><path style=\"stroke:none;\" d=\"M73 374 L507 374 L507 31.5 L73 31.5 Z\"\n",
       "    /></g\n",
       "    ><g style=\"stroke-linecap:butt; fill-opacity:0.149; fill:rgb(38,38,38); text-rendering:geometricPrecision; image-rendering:optimizeQuality; color-rendering:optimizeQuality; stroke-linejoin:round; stroke:rgb(38,38,38); color-interpolation:linearRGB; stroke-width:0.5; stroke-opacity:0.149;\"\n",
       "    ><line y2=\"31.5\" style=\"fill:none;\" x1=\"73\" x2=\"73\" y1=\"374\"\n",
       "      /><line y2=\"31.5\" style=\"fill:none;\" x1=\"116.4\" x2=\"116.4\" y1=\"374\"\n",
       "      /><line y2=\"31.5\" style=\"fill:none;\" x1=\"159.8\" x2=\"159.8\" y1=\"374\"\n",
       "      /><line y2=\"31.5\" style=\"fill:none;\" x1=\"203.2\" x2=\"203.2\" y1=\"374\"\n",
       "      /><line y2=\"31.5\" style=\"fill:none;\" x1=\"246.6\" x2=\"246.6\" y1=\"374\"\n",
       "      /><line y2=\"31.5\" style=\"fill:none;\" x1=\"290\" x2=\"290\" y1=\"374\"\n",
       "      /><line y2=\"31.5\" style=\"fill:none;\" x1=\"333.4\" x2=\"333.4\" y1=\"374\"\n",
       "      /><line y2=\"31.5\" style=\"fill:none;\" x1=\"376.8\" x2=\"376.8\" y1=\"374\"\n",
       "      /><line y2=\"31.5\" style=\"fill:none;\" x1=\"420.2\" x2=\"420.2\" y1=\"374\"\n",
       "      /><line y2=\"31.5\" style=\"fill:none;\" x1=\"463.6\" x2=\"463.6\" y1=\"374\"\n",
       "      /><line y2=\"31.5\" style=\"fill:none;\" x1=\"507\" x2=\"507\" y1=\"374\"\n",
       "      /><line y2=\"344.2431\" style=\"fill:none;\" x1=\"507\" x2=\"73\" y1=\"344.2431\"\n",
       "      /><line y2=\"308.8698\" style=\"fill:none;\" x1=\"507\" x2=\"73\" y1=\"308.8698\"\n",
       "      /><line y2=\"273.4966\" style=\"fill:none;\" x1=\"507\" x2=\"73\" y1=\"273.4966\"\n",
       "      /><line y2=\"238.1233\" style=\"fill:none;\" x1=\"507\" x2=\"73\" y1=\"238.1233\"\n",
       "      /><line y2=\"202.75\" style=\"fill:none;\" x1=\"507\" x2=\"73\" y1=\"202.75\"\n",
       "      /><line y2=\"167.3767\" style=\"fill:none;\" x1=\"507\" x2=\"73\" y1=\"167.3767\"\n",
       "      /><line y2=\"132.0034\" style=\"fill:none;\" x1=\"507\" x2=\"73\" y1=\"132.0034\"\n",
       "      /><line y2=\"96.6301\" style=\"fill:none;\" x1=\"507\" x2=\"73\" y1=\"96.6301\"\n",
       "      /><line y2=\"61.2569\" style=\"fill:none;\" x1=\"507\" x2=\"73\" y1=\"61.2569\"\n",
       "      /><line x1=\"73\" x2=\"507\" y1=\"374\" style=\"stroke-linecap:square; fill-opacity:1; fill:none; stroke-opacity:1;\" y2=\"374\"\n",
       "      /><line x1=\"73\" x2=\"507\" y1=\"31.5\" style=\"stroke-linecap:square; fill-opacity:1; fill:none; stroke-opacity:1;\" y2=\"31.5\"\n",
       "      /><line x1=\"73\" x2=\"73\" y1=\"374\" style=\"stroke-linecap:square; fill-opacity:1; fill:none; stroke-opacity:1;\" y2=\"369.66\"\n",
       "      /><line x1=\"116.4\" x2=\"116.4\" y1=\"374\" style=\"stroke-linecap:square; fill-opacity:1; fill:none; stroke-opacity:1;\" y2=\"369.66\"\n",
       "      /><line x1=\"159.8\" x2=\"159.8\" y1=\"374\" style=\"stroke-linecap:square; fill-opacity:1; fill:none; stroke-opacity:1;\" y2=\"369.66\"\n",
       "      /><line x1=\"203.2\" x2=\"203.2\" y1=\"374\" style=\"stroke-linecap:square; fill-opacity:1; fill:none; stroke-opacity:1;\" y2=\"369.66\"\n",
       "      /><line x1=\"246.6\" x2=\"246.6\" y1=\"374\" style=\"stroke-linecap:square; fill-opacity:1; fill:none; stroke-opacity:1;\" y2=\"369.66\"\n",
       "      /><line x1=\"290\" x2=\"290\" y1=\"374\" style=\"stroke-linecap:square; fill-opacity:1; fill:none; stroke-opacity:1;\" y2=\"369.66\"\n",
       "      /><line x1=\"333.4\" x2=\"333.4\" y1=\"374\" style=\"stroke-linecap:square; fill-opacity:1; fill:none; stroke-opacity:1;\" y2=\"369.66\"\n",
       "      /><line x1=\"376.8\" x2=\"376.8\" y1=\"374\" style=\"stroke-linecap:square; fill-opacity:1; fill:none; stroke-opacity:1;\" y2=\"369.66\"\n",
       "      /><line x1=\"420.2\" x2=\"420.2\" y1=\"374\" style=\"stroke-linecap:square; fill-opacity:1; fill:none; stroke-opacity:1;\" y2=\"369.66\"\n",
       "      /><line x1=\"463.6\" x2=\"463.6\" y1=\"374\" style=\"stroke-linecap:square; fill-opacity:1; fill:none; stroke-opacity:1;\" y2=\"369.66\"\n",
       "      /><line x1=\"507\" x2=\"507\" y1=\"374\" style=\"stroke-linecap:square; fill-opacity:1; fill:none; stroke-opacity:1;\" y2=\"369.66\"\n",
       "      /><line x1=\"73\" x2=\"73\" y1=\"31.5\" style=\"stroke-linecap:square; fill-opacity:1; fill:none; stroke-opacity:1;\" y2=\"35.84\"\n",
       "      /><line x1=\"116.4\" x2=\"116.4\" y1=\"31.5\" style=\"stroke-linecap:square; fill-opacity:1; fill:none; stroke-opacity:1;\" y2=\"35.84\"\n",
       "      /><line x1=\"159.8\" x2=\"159.8\" y1=\"31.5\" style=\"stroke-linecap:square; fill-opacity:1; fill:none; stroke-opacity:1;\" y2=\"35.84\"\n",
       "      /><line x1=\"203.2\" x2=\"203.2\" y1=\"31.5\" style=\"stroke-linecap:square; fill-opacity:1; fill:none; stroke-opacity:1;\" y2=\"35.84\"\n",
       "      /><line x1=\"246.6\" x2=\"246.6\" y1=\"31.5\" style=\"stroke-linecap:square; fill-opacity:1; fill:none; stroke-opacity:1;\" y2=\"35.84\"\n",
       "      /><line x1=\"290\" x2=\"290\" y1=\"31.5\" style=\"stroke-linecap:square; fill-opacity:1; fill:none; stroke-opacity:1;\" y2=\"35.84\"\n",
       "      /><line x1=\"333.4\" x2=\"333.4\" y1=\"31.5\" style=\"stroke-linecap:square; fill-opacity:1; fill:none; stroke-opacity:1;\" y2=\"35.84\"\n",
       "      /><line x1=\"376.8\" x2=\"376.8\" y1=\"31.5\" style=\"stroke-linecap:square; fill-opacity:1; fill:none; stroke-opacity:1;\" y2=\"35.84\"\n",
       "      /><line x1=\"420.2\" x2=\"420.2\" y1=\"31.5\" style=\"stroke-linecap:square; fill-opacity:1; fill:none; stroke-opacity:1;\" y2=\"35.84\"\n",
       "      /><line x1=\"463.6\" x2=\"463.6\" y1=\"31.5\" style=\"stroke-linecap:square; fill-opacity:1; fill:none; stroke-opacity:1;\" y2=\"35.84\"\n",
       "      /><line x1=\"507\" x2=\"507\" y1=\"31.5\" style=\"stroke-linecap:square; fill-opacity:1; fill:none; stroke-opacity:1;\" y2=\"35.84\"\n",
       "    /></g\n",
       "    ><g transform=\"translate(73,378)\" style=\"font-size:10px; fill:rgb(38,38,38); text-rendering:geometricPrecision; image-rendering:optimizeQuality; color-rendering:optimizeQuality; font-family:'Helvetica Neue'; stroke:rgb(38,38,38); color-interpolation:linearRGB;\"\n",
       "    ><text x=\"-5\" xml:space=\"preserve\" y=\"10\" style=\"stroke:none;\"\n",
       "      >-1</text\n",
       "    ></g\n",
       "    ><g transform=\"translate(116.4,378)\" style=\"font-size:10px; fill:rgb(38,38,38); text-rendering:geometricPrecision; image-rendering:optimizeQuality; color-rendering:optimizeQuality; font-family:'Helvetica Neue'; stroke:rgb(38,38,38); color-interpolation:linearRGB;\"\n",
       "    ><text x=\"-9\" xml:space=\"preserve\" y=\"10\" style=\"stroke:none;\"\n",
       "      >-0.5</text\n",
       "    ></g\n",
       "    ><g transform=\"translate(159.8,378)\" style=\"font-size:10px; fill:rgb(38,38,38); text-rendering:geometricPrecision; image-rendering:optimizeQuality; color-rendering:optimizeQuality; font-family:'Helvetica Neue'; stroke:rgb(38,38,38); color-interpolation:linearRGB;\"\n",
       "    ><text x=\"-3\" xml:space=\"preserve\" y=\"10\" style=\"stroke:none;\"\n",
       "      >0</text\n",
       "    ></g\n",
       "    ><g transform=\"translate(203.2,378)\" style=\"font-size:10px; fill:rgb(38,38,38); text-rendering:geometricPrecision; image-rendering:optimizeQuality; color-rendering:optimizeQuality; font-family:'Helvetica Neue'; stroke:rgb(38,38,38); color-interpolation:linearRGB;\"\n",
       "    ><text x=\"-7\" xml:space=\"preserve\" y=\"10\" style=\"stroke:none;\"\n",
       "      >0.5</text\n",
       "    ></g\n",
       "    ><g transform=\"translate(246.6,378)\" style=\"font-size:10px; fill:rgb(38,38,38); text-rendering:geometricPrecision; image-rendering:optimizeQuality; color-rendering:optimizeQuality; font-family:'Helvetica Neue'; stroke:rgb(38,38,38); color-interpolation:linearRGB;\"\n",
       "    ><text x=\"-3\" xml:space=\"preserve\" y=\"10\" style=\"stroke:none;\"\n",
       "      >1</text\n",
       "    ></g\n",
       "    ><g transform=\"translate(290,378)\" style=\"font-size:10px; fill:rgb(38,38,38); text-rendering:geometricPrecision; image-rendering:optimizeQuality; color-rendering:optimizeQuality; font-family:'Helvetica Neue'; stroke:rgb(38,38,38); color-interpolation:linearRGB;\"\n",
       "    ><text x=\"-7\" xml:space=\"preserve\" y=\"10\" style=\"stroke:none;\"\n",
       "      >1.5</text\n",
       "    ></g\n",
       "    ><g transform=\"translate(333.4,378)\" style=\"font-size:10px; fill:rgb(38,38,38); text-rendering:geometricPrecision; image-rendering:optimizeQuality; color-rendering:optimizeQuality; font-family:'Helvetica Neue'; stroke:rgb(38,38,38); color-interpolation:linearRGB;\"\n",
       "    ><text x=\"-3\" xml:space=\"preserve\" y=\"10\" style=\"stroke:none;\"\n",
       "      >2</text\n",
       "    ></g\n",
       "    ><g transform=\"translate(376.8,378)\" style=\"font-size:10px; fill:rgb(38,38,38); text-rendering:geometricPrecision; image-rendering:optimizeQuality; color-rendering:optimizeQuality; font-family:'Helvetica Neue'; stroke:rgb(38,38,38); color-interpolation:linearRGB;\"\n",
       "    ><text x=\"-7\" xml:space=\"preserve\" y=\"10\" style=\"stroke:none;\"\n",
       "      >2.5</text\n",
       "    ></g\n",
       "    ><g transform=\"translate(420.2,378)\" style=\"font-size:10px; fill:rgb(38,38,38); text-rendering:geometricPrecision; image-rendering:optimizeQuality; color-rendering:optimizeQuality; font-family:'Helvetica Neue'; stroke:rgb(38,38,38); color-interpolation:linearRGB;\"\n",
       "    ><text x=\"-3\" xml:space=\"preserve\" y=\"10\" style=\"stroke:none;\"\n",
       "      >3</text\n",
       "    ></g\n",
       "    ><g transform=\"translate(463.6,378)\" style=\"font-size:10px; fill:rgb(38,38,38); text-rendering:geometricPrecision; image-rendering:optimizeQuality; color-rendering:optimizeQuality; font-family:'Helvetica Neue'; stroke:rgb(38,38,38); color-interpolation:linearRGB;\"\n",
       "    ><text x=\"-7\" xml:space=\"preserve\" y=\"10\" style=\"stroke:none;\"\n",
       "      >3.5</text\n",
       "    ></g\n",
       "    ><g transform=\"translate(507,378)\" style=\"font-size:10px; fill:rgb(38,38,38); text-rendering:geometricPrecision; image-rendering:optimizeQuality; color-rendering:optimizeQuality; font-family:'Helvetica Neue'; stroke:rgb(38,38,38); color-interpolation:linearRGB;\"\n",
       "    ><text x=\"-3\" xml:space=\"preserve\" y=\"10\" style=\"stroke:none;\"\n",
       "      >4</text\n",
       "    ></g\n",
       "    ><g transform=\"translate(288,403)\" style=\"font-size:11px; fill:rgb(38,38,38); text-rendering:geometricPrecision; image-rendering:optimizeQuality; color-rendering:optimizeQuality; font-family:'Helvetica Neue'; stroke:rgb(38,38,38); color-interpolation:linearRGB;\"\n",
       "    ><text x=\"0\" xml:space=\"preserve\" y=\"0\" style=\"stroke:none;\"\n",
       "      >t</text\n",
       "    ></g\n",
       "    ><g style=\"fill:rgb(38,38,38); text-rendering:geometricPrecision; image-rendering:optimizeQuality; color-rendering:optimizeQuality; stroke-linejoin:round; stroke:rgb(38,38,38); color-interpolation:linearRGB; stroke-width:0.5;\"\n",
       "    ><line y2=\"31.5\" style=\"fill:none;\" x1=\"73\" x2=\"73\" y1=\"374\"\n",
       "      /><line y2=\"31.5\" style=\"fill:none;\" x1=\"507\" x2=\"507\" y1=\"374\"\n",
       "      /><line y2=\"344.2431\" style=\"fill:none;\" x1=\"73\" x2=\"77.34\" y1=\"344.2431\"\n",
       "      /><line y2=\"308.8698\" style=\"fill:none;\" x1=\"73\" x2=\"77.34\" y1=\"308.8698\"\n",
       "      /><line y2=\"273.4966\" style=\"fill:none;\" x1=\"73\" x2=\"77.34\" y1=\"273.4966\"\n",
       "      /><line y2=\"238.1233\" style=\"fill:none;\" x1=\"73\" x2=\"77.34\" y1=\"238.1233\"\n",
       "      /><line y2=\"202.75\" style=\"fill:none;\" x1=\"73\" x2=\"77.34\" y1=\"202.75\"\n",
       "      /><line y2=\"167.3767\" style=\"fill:none;\" x1=\"73\" x2=\"77.34\" y1=\"167.3767\"\n",
       "      /><line y2=\"132.0034\" style=\"fill:none;\" x1=\"73\" x2=\"77.34\" y1=\"132.0034\"\n",
       "      /><line y2=\"96.6301\" style=\"fill:none;\" x1=\"73\" x2=\"77.34\" y1=\"96.6301\"\n",
       "      /><line y2=\"61.2569\" style=\"fill:none;\" x1=\"73\" x2=\"77.34\" y1=\"61.2569\"\n",
       "      /><line y2=\"344.2431\" style=\"fill:none;\" x1=\"507\" x2=\"502.66\" y1=\"344.2431\"\n",
       "      /><line y2=\"308.8698\" style=\"fill:none;\" x1=\"507\" x2=\"502.66\" y1=\"308.8698\"\n",
       "      /><line y2=\"273.4966\" style=\"fill:none;\" x1=\"507\" x2=\"502.66\" y1=\"273.4966\"\n",
       "      /><line y2=\"238.1233\" style=\"fill:none;\" x1=\"507\" x2=\"502.66\" y1=\"238.1233\"\n",
       "      /><line y2=\"202.75\" style=\"fill:none;\" x1=\"507\" x2=\"502.66\" y1=\"202.75\"\n",
       "      /><line y2=\"167.3767\" style=\"fill:none;\" x1=\"507\" x2=\"502.66\" y1=\"167.3767\"\n",
       "      /><line y2=\"132.0034\" style=\"fill:none;\" x1=\"507\" x2=\"502.66\" y1=\"132.0034\"\n",
       "      /><line y2=\"96.6301\" style=\"fill:none;\" x1=\"507\" x2=\"502.66\" y1=\"96.6301\"\n",
       "      /><line y2=\"61.2569\" style=\"fill:none;\" x1=\"507\" x2=\"502.66\" y1=\"61.2569\"\n",
       "    /></g\n",
       "    ><g transform=\"translate(69,344.2431)\" style=\"font-size:10px; fill:rgb(38,38,38); text-rendering:geometricPrecision; image-rendering:optimizeQuality; color-rendering:optimizeQuality; font-family:'Helvetica Neue'; stroke:rgb(38,38,38); color-interpolation:linearRGB;\"\n",
       "    ><text x=\"-6\" xml:space=\"preserve\" y=\"3.5\" style=\"stroke:none;\"\n",
       "      >0</text\n",
       "    ></g\n",
       "    ><g transform=\"translate(69,308.8698)\" style=\"font-size:10px; fill:rgb(38,38,38); text-rendering:geometricPrecision; image-rendering:optimizeQuality; color-rendering:optimizeQuality; font-family:'Helvetica Neue'; stroke:rgb(38,38,38); color-interpolation:linearRGB;\"\n",
       "    ><text x=\"-14\" xml:space=\"preserve\" y=\"3.5\" style=\"stroke:none;\"\n",
       "      >0.5</text\n",
       "    ></g\n",
       "    ><g transform=\"translate(69,273.4966)\" style=\"font-size:10px; fill:rgb(38,38,38); text-rendering:geometricPrecision; image-rendering:optimizeQuality; color-rendering:optimizeQuality; font-family:'Helvetica Neue'; stroke:rgb(38,38,38); color-interpolation:linearRGB;\"\n",
       "    ><text x=\"-6\" xml:space=\"preserve\" y=\"3.5\" style=\"stroke:none;\"\n",
       "      >1</text\n",
       "    ></g\n",
       "    ><g transform=\"translate(69,238.1233)\" style=\"font-size:10px; fill:rgb(38,38,38); text-rendering:geometricPrecision; image-rendering:optimizeQuality; color-rendering:optimizeQuality; font-family:'Helvetica Neue'; stroke:rgb(38,38,38); color-interpolation:linearRGB;\"\n",
       "    ><text x=\"-14\" xml:space=\"preserve\" y=\"3.5\" style=\"stroke:none;\"\n",
       "      >1.5</text\n",
       "    ></g\n",
       "    ><g transform=\"translate(69,202.75)\" style=\"font-size:10px; fill:rgb(38,38,38); text-rendering:geometricPrecision; image-rendering:optimizeQuality; color-rendering:optimizeQuality; font-family:'Helvetica Neue'; stroke:rgb(38,38,38); color-interpolation:linearRGB;\"\n",
       "    ><text x=\"-6\" xml:space=\"preserve\" y=\"3.5\" style=\"stroke:none;\"\n",
       "      >2</text\n",
       "    ></g\n",
       "    ><g transform=\"translate(69,167.3767)\" style=\"font-size:10px; fill:rgb(38,38,38); text-rendering:geometricPrecision; image-rendering:optimizeQuality; color-rendering:optimizeQuality; font-family:'Helvetica Neue'; stroke:rgb(38,38,38); color-interpolation:linearRGB;\"\n",
       "    ><text x=\"-14\" xml:space=\"preserve\" y=\"3.5\" style=\"stroke:none;\"\n",
       "      >2.5</text\n",
       "    ></g\n",
       "    ><g transform=\"translate(69,132.0034)\" style=\"font-size:10px; fill:rgb(38,38,38); text-rendering:geometricPrecision; image-rendering:optimizeQuality; color-rendering:optimizeQuality; font-family:'Helvetica Neue'; stroke:rgb(38,38,38); color-interpolation:linearRGB;\"\n",
       "    ><text x=\"-6\" xml:space=\"preserve\" y=\"3.5\" style=\"stroke:none;\"\n",
       "      >3</text\n",
       "    ></g\n",
       "    ><g transform=\"translate(69,96.6301)\" style=\"font-size:10px; fill:rgb(38,38,38); text-rendering:geometricPrecision; image-rendering:optimizeQuality; color-rendering:optimizeQuality; font-family:'Helvetica Neue'; stroke:rgb(38,38,38); color-interpolation:linearRGB;\"\n",
       "    ><text x=\"-14\" xml:space=\"preserve\" y=\"3.5\" style=\"stroke:none;\"\n",
       "      >3.5</text\n",
       "    ></g\n",
       "    ><g transform=\"translate(69,61.2569)\" style=\"font-size:10px; fill:rgb(38,38,38); text-rendering:geometricPrecision; image-rendering:optimizeQuality; color-rendering:optimizeQuality; font-family:'Helvetica Neue'; stroke:rgb(38,38,38); color-interpolation:linearRGB;\"\n",
       "    ><text x=\"-6\" xml:space=\"preserve\" y=\"3.5\" style=\"stroke:none;\"\n",
       "      >4</text\n",
       "    ></g\n",
       "    ><g transform=\"translate(290.0003,30.125)\" style=\"font-size:11px; text-rendering:geometricPrecision; image-rendering:optimizeQuality; color-rendering:optimizeQuality; font-family:'Helvetica Neue'; color-interpolation:linearRGB; font-weight:bold;\"\n",
       "    ><text x=\"-42\" xml:space=\"preserve\" y=\"-3\" style=\"stroke:none;\"\n",
       "      >A ramp function</text\n",
       "    ></g\n",
       "    ><g style=\"stroke-linecap:butt; fill:rgb(0,114,189); text-rendering:geometricPrecision; image-rendering:optimizeQuality; color-rendering:optimizeQuality; stroke-linejoin:round; stroke:rgb(0,114,189); color-interpolation:linearRGB; stroke-width:0.5;\"\n",
       "    ><path d=\"M73 344.2431 L74.0023 344.2431 L75.0046 344.2431 L76.0069 344.2431 L77.0092 344.2431 L78.0115 344.2431 L79.0139 344.2431 L80.0162 344.2431 L81.0185 344.2431 L82.0208 344.2431 L83.0231 344.2431 L84.0254 344.2431 L85.0277 344.2431 L86.03 344.2431 L87.0323 344.2431 L88.0346 344.2431 L89.037 344.2431 L90.0393 344.2431 L91.0416 344.2431 L92.0439 344.2431 L93.0462 344.2431 L94.0485 344.2431 L95.0508 344.2431 L96.0531 344.2431 L97.0554 344.2431 L98.0577 344.2431 L99.06 344.2431 L100.0624 344.2431 L101.0647 344.2431 L102.067 344.2431 L103.0693 344.2431 L104.0716 344.2431 L105.0739 344.2431 L106.0762 344.2431 L107.0785 344.2431 L108.0808 344.2431 L109.0831 344.2431 L110.0854 344.2431 L111.0878 344.2431 L112.0901 344.2431 L113.0924 344.2431 L114.0947 344.2431 L115.097 344.2431 L116.0993 344.2431 L117.1016 344.2431 L118.1039 344.2431 L119.1062 344.2431 L120.1085 344.2431 L121.1109 344.2431 L122.1132 344.2431 L123.1155 344.2431 L124.1178 344.2431 L125.1201 344.2431 L126.1224 344.2431 L127.1247 344.2431 L128.127 344.2431 L129.1293 344.2431 L130.1316 344.2431 L131.1339 344.2431 L132.1363 344.2431 L133.1386 344.2431 L134.1409 344.2431 L135.1432 344.2431 L136.1455 344.2431 L137.1478 344.2431 L138.1501 344.2431 L139.1524 344.2431 L140.1547 344.2431 L141.157 344.2431 L142.1593 344.2431 L143.1617 344.2431 L144.164 344.2431 L145.1663 344.2431 L146.1686 344.2431 L147.1709 344.2431 L148.1732 344.2431 L149.1755 344.2431 L150.1778 344.2431 L151.1801 344.2431 L152.1824 344.2431 L153.1848 344.2431 L154.1871 344.2431 L155.1894 344.2431 L156.1917 344.2431 L157.194 344.2431 L158.1963 344.2431 L159.1986 344.2431 L160.2009 343.9164 L161.2032 343.0994 L162.2055 342.2825 L163.2079 341.4656 L164.2102 340.6486 L165.2125 339.8317 L166.2148 339.0148 L167.2171 338.1978 L168.2194 337.3809 L169.2217 336.564 L170.224 335.747 L171.2263 334.9301 L172.2286 334.1132 L173.2309 333.2962 L174.2333 332.4793 L175.2356 331.6624 L176.2379 330.8454 L177.2402 330.0285 L178.2425 329.2115 L179.2448 328.3946 L180.2471 327.5777 L181.2494 326.7607 L182.2517 325.9438 L183.254 325.1269 L184.2563 324.3099 L185.2587 323.493 L186.261 322.6761 L187.2633 321.8591 L188.2656 321.0422 L189.2679 320.2253 L190.2702 319.4083 L191.2725 318.5914 L192.2748 317.7744 L193.2771 316.9575 L194.2794 316.1406 L195.2818 315.3236 L196.2841 314.5067 L197.2864 313.6898 L198.2887 312.8728 L199.291 312.0559 L200.2933 311.239 L201.2956 310.422 L202.2979 309.6051 L203.3002 308.7882 L204.3025 307.9712 L205.3049 307.1543 L206.3072 306.3374 L207.3095 305.5204 L208.3118 304.7035 L209.3141 303.8866 L210.3164 303.0696 L211.3187 302.2527 L212.321 301.4358 L213.3233 300.6188 L214.3256 299.8019 L215.3279 298.985 L216.3303 298.168 L217.3326 297.3511 L218.3349 296.5341 L219.3372 295.7172 L220.3395 294.9003 L221.3418 294.0833 L222.3441 293.2664 L223.3464 292.4495 L224.3487 291.6325 L225.351 290.8156 L226.3533 289.9987 L227.3557 289.1817 L228.358 288.3648 L229.3603 287.5479 L230.3626 286.7309 L231.3649 285.914 L232.3672 285.097 L233.3695 284.2801 L234.3718 283.4632 L235.3741 282.6462 L236.3764 281.8293 L237.3788 281.0124 L238.3811 280.1954 L239.3834 279.3785 L240.3857 278.5616 L241.388 277.7446 L242.3903 276.9277 L243.3926 276.1107 L244.3949 275.2938 L245.3972 274.4769 L246.3995 273.6599 L247.4019 272.843 L248.4042 272.0261 L249.4065 271.2092 L250.4088 270.3922 L251.4111 269.5753 L252.4134 268.7583 L253.4157 267.9414 L254.418 267.1245 L255.4203 266.3076 L256.4226 265.4906 L257.4249 264.6737 L258.4272 263.8568 L259.4296 263.0398 L260.4319 262.2229 L261.4342 261.4059 L262.4365 260.589 L263.4388 259.7721 L264.4411 258.9551 L265.4434 258.1382 L266.4457 257.3213 L267.448 256.5043 L268.4503 255.6874 L269.4527 254.8705 L270.455 254.0535 L271.4573 253.2366 L272.4596 252.4196 L273.4619 251.6027 L274.4642 250.7858 L275.4665 249.9688 L276.4688 249.1519 L277.4711 248.335 L278.4734 247.518 L279.4757 246.7011 L280.4781 245.8842 L281.4804 245.0672 L282.4827 244.2503 L283.485 243.4334 L284.4873 242.6164 L285.4896 241.7995 L286.4919 240.9826 L287.4942 240.1656 L288.4966 239.3487 L289.4988 238.5318 L290.5012 237.7148 L291.5034 236.8979 L292.5058 236.0809 L293.5081 235.264 L294.5104 234.4471 L295.5127 233.6301 L296.515 232.8132 L297.5173 231.9963 L298.5196 231.1793 L299.5219 230.3624 L300.5243 229.5455 L301.5266 228.7285 L302.5289 227.9116 L303.5312 227.0947 L304.5335 226.2777 L305.5358 225.4608 L306.5381 224.6439 L307.5404 223.8269 L308.5427 223.01 L309.545 222.1931 L310.5473 221.3761 L311.5497 220.5592 L312.552 219.7422 L313.5543 218.9253 L314.5566 218.1084 L315.5589 217.2914 L316.5612 216.4745 L317.5635 215.6576 L318.5658 214.8406 L319.5681 214.0237 L320.5704 213.2068 L321.5728 212.3898 L322.5751 211.5729 L323.5774 210.756 L324.5797 209.939 L325.582 209.1221 L326.5843 208.3052 L327.5866 207.4882 L328.5889 206.6713 L329.5912 205.8544 L330.5935 205.0374 L331.5959 204.2205 L332.5981 203.4035 L333.6005 202.5866 L334.6028 201.7697 L335.6051 200.9527 L336.6074 200.1358 L337.6097 199.3189 L338.612 198.5019 L339.6143 197.685 L340.6166 196.8681 L341.6189 196.0511 L342.6212 195.2342 L343.6235 194.4173 L344.6259 193.6003 L345.6282 192.7834 L346.6305 191.9664 L347.6328 191.1495 L348.6351 190.3326 L349.6374 189.5157 L350.6397 188.6987 L351.642 187.8818 L352.6443 187.0648 L353.6466 186.2479 L354.649 185.431 L355.6513 184.614 L356.6536 183.7971 L357.6559 182.9802 L358.6582 182.1632 L359.6605 181.3463 L360.6628 180.5294 L361.6651 179.7124 L362.6674 178.8955 L363.6697 178.0786 L364.6721 177.2616 L365.6744 176.4447 L366.6767 175.6278 L367.679 174.8108 L368.6813 173.9939 L369.6836 173.177 L370.6859 172.36 L371.6882 171.5431 L372.6905 170.7262 L373.6928 169.9092 L374.6952 169.0923 L375.6975 168.2753 L376.6998 167.4584 L377.7021 166.6415 L378.7044 165.8245 L379.7067 165.0076 L380.709 164.1907 L381.7113 163.3737 L382.7136 162.5568 L383.7159 161.7399 L384.7182 160.9229 L385.7206 160.106 L386.7229 159.2891 L387.7252 158.4721 L388.7275 157.6552 L389.7298 156.8382 L390.7321 156.0213 L391.7344 155.2044 L392.7367 154.3875 L393.739 153.5705 L394.7413 152.7536 L395.7437 151.9366 L396.7459 151.1197 L397.7483 150.3028 L398.7506 149.4858 L399.7529 148.6689 L400.7552 147.852 L401.7575 147.035 L402.7598 146.2181 L403.7621 145.4012 L404.7644 144.5842 L405.7668 143.7673 L406.769 142.9503 L407.7714 142.1334 L408.7737 141.3165 L409.776 140.4996 L410.7783 139.6826 L411.7806 138.8657 L412.7829 138.0488 L413.7852 137.2318 L414.7875 136.4149 L415.7898 135.5979 L416.7921 134.781 L417.7945 133.9641 L418.7968 133.1471 L419.7991 132.3302 L420.8014 131.5133 L421.8037 130.6963 L422.806 129.8794 L423.8083 129.0625 L424.8106 128.2455 L425.8129 127.4286 L426.8152 126.6117 L427.8175 125.7947 L428.8199 124.9778 L429.8222 124.1609 L430.8245 123.3439 L431.8268 122.527 L432.8291 121.71 L433.8314 120.8931 L434.8337 120.0762 L435.836 119.2592 L436.8383 118.4423 L437.8406 117.6254 L438.843 116.8084 L439.8453 115.9915 L440.8476 115.1746 L441.8499 114.3576 L442.8522 113.5407 L443.8545 112.7238 L444.8568 111.9068 L445.8591 111.0899 L446.8615 110.2729 L447.8637 109.456 L448.8661 108.6391 L449.8683 107.8222 L450.8707 107.0052 L451.873 106.1883 L452.8753 105.3714 L453.8776 104.5544 L454.8799 103.7375 L455.8822 102.9205 L456.8845 102.1036 L457.8868 101.2867 L458.8892 100.4697 L459.8914 99.6528 L460.8938 98.8359 L461.8961 98.0189 L462.8984 97.202 L463.9007 96.3851 L464.903 95.5681 L465.9053 94.7512 L466.9076 93.9343 L467.9099 93.1173 L468.9122 92.3004 L469.9146 91.4835 L470.9168 90.6665 L471.9192 89.8496 L472.9215 89.0326 L473.9238 88.2157 L474.9261 87.3988 L475.9284 86.5818 L476.9307 85.7649 L477.933 84.948 L478.9353 84.131 L479.9377 83.3141 L480.9399 82.4972 L481.9423 81.6802 L482.9446 80.8633 L483.9469 80.0464 L484.9492 79.2294 L485.9515 78.4125 L486.9538 77.5956 L487.9561 76.7786 L488.9584 75.9617 L489.9608 75.1448 L490.963 74.3278 L491.9654 73.5109 L492.9677 72.6939 L493.97 71.877 L494.9723 71.0601 L495.9746 70.2431 L496.9769 69.4262 L497.9792 68.6093 L498.9815 67.7923 L499.9838 66.9754 L500.9861 66.1585 L501.9885 65.3415 L502.9908 64.5246 L503.9931 63.7077 L504.9954 62.8907 L505.9977 62.0738 L507 61.2569\" style=\"fill:none; fill-rule:evenodd;\"\n",
       "    /></g\n",
       "  ></g\n",
       "></svg\n",
       ">\n"
      ]
     },
     "metadata": {
      "filenames": {
       "image/svg+xml": "/Users/eechris/code/src/github.com/cpjobling/eg-247-textbook/_build/jupyter_execute/elementary_signals/index_33_0.svg"
      }
     },
     "output_type": "display_data"
    }
   ],
   "source": [
    "C = 1; is = 1;\n",
    "vc(t)=(is/C)*t*u0(t);\n",
    "ezplot(vc(t),[-1,4]),grid,title('A ramp function')"
   ]
  },
  {
   "cell_type": "markdown",
   "id": "29561cf1",
   "metadata": {
    "slideshow": {
     "slide_type": "notes"
    }
   },
   "source": [
    "This type of signal is called a **ramp function**. Note that it is the *integral* of the step function (the resistor-capacitor circuit implements a simple integrator circuit)."
   ]
  },
  {
   "cell_type": "markdown",
   "id": "7072b091",
   "metadata": {
    "slideshow": {
     "slide_type": "subslide"
    }
   },
   "source": [
    "The unit ramp function is defined as\n",
    "\n",
    "$$u_1(t) = \\int_{-\\infty}^{t}u_0(\\tau)d\\tau$$\n",
    "\n",
    "so\n",
    "\n",
    "$${u_1}(t) = \\left\\{ {\\begin{array}{*{20}{c}}\n",
    "{0\\quad t < 0}\\\\\n",
    "{t\\quad t \\ge 0}\n",
    "\\end{array}} \\right.$$\n",
    "\n",
    "and \n",
    "\n",
    "$$u_0(t) = \\frac{d }{dt}u_1(t)$$"
   ]
  },
  {
   "cell_type": "markdown",
   "id": "fbd677a3",
   "metadata": {
    "slideshow": {
     "slide_type": "notes"
    }
   },
   "source": [
    "**Note**\n",
    "\n",
    "Higher order functions of $t$ can be generated by the repeated integration of the unit step function. \n",
    "\n",
    "For future reference, you should determine $u_2(t)$, $u_3(t)$ and $u_n(t)$ for yourself and make a note of the general rule:\n",
    "\n",
    "$$u_{n-1} = \\frac{1}{n}\\frac{d}{dt}u_n(t)$$\n",
    "\n",
    "Details are given in equations 1.26&mdash;1.29 in Karris."
   ]
  },
  {
   "cell_type": "markdown",
   "id": "2c9e1a0e",
   "metadata": {
    "slideshow": {
     "slide_type": "slide"
    }
   },
   "source": [
    "## The Dirac Delta Function\n",
    "\n",
    "![A differentiating function (RL network)](./pictures/lr.png)\n",
    "\n",
    "In the circuit shown above, the switch is closed at time $t=0$ and $i_L(t)=0$ for $t<0$. Express the inductor current $i_L(t)$ in terms of the unit step function and hence derive an expression for $v_L(t)$."
   ]
  },
  {
   "cell_type": "markdown",
   "id": "84dec2cf",
   "metadata": {
    "slideshow": {
     "slide_type": "subslide"
    }
   },
   "source": [
    "**Solution** \n",
    "\n",
    "$$v_L(t) = L\\frac{di_L}{dt}$$\n",
    "\n",
    "Because the switch closes instantaneously at $t=0$\n",
    "\n",
    "$$i_L(t) = i_s u_0(t)$$\n",
    "\n",
    "Thus \n",
    "\n",
    "$$v_L(t) = i_s L\\frac{d}{dt} u_0(t).$$"
   ]
  },
  {
   "cell_type": "markdown",
   "id": "df198160",
   "metadata": {
    "slideshow": {
     "slide_type": "notes"
    }
   },
   "source": [
    "To solve this problem we need to invent a function that represents the derivative of the unit step function. This function is called $\\delta(t)$ or the *dirac delta* function (named after [Paul Dirac](https://en.wikipedia.org/wiki/Paul_Dirac))."
   ]
  },
  {
   "cell_type": "markdown",
   "id": "206d84cf",
   "metadata": {
    "slideshow": {
     "slide_type": "subslide"
    }
   },
   "source": [
    "### The delta function\n",
    "\n",
    "The unit impulse or the delta function, denoted as $\\delta(t)$, is the derivative of the unit step.\n",
    "\n",
    "This function is tricky because $u_0(t)$ is discontinuous at $t=0$ but it must have the properties\n",
    "\n",
    "$$\\int_{-\\infty}^{t}\\delta(\\tau)d\\tau = u_0(t)$$\n",
    "\n",
    "and\n",
    "\n",
    "$$\\delta(t) = 0\\;\\forall\\;\n",
    "t\\ne 0.$$"
   ]
  },
  {
   "cell_type": "markdown",
   "id": "77524bdb",
   "metadata": {
    "slideshow": {
     "slide_type": "subslide"
    }
   },
   "source": [
    "### Sketch of the delta function\n",
    "\n",
    "![The delta function](pictures/impulse.png)"
   ]
  },
  {
   "cell_type": "markdown",
   "id": "bb9475ce",
   "metadata": {
    "slideshow": {
     "slide_type": "subslide"
    }
   },
   "source": [
    "### MATLAB Confirmation"
   ]
  },
  {
   "cell_type": "code",
   "execution_count": 9,
   "id": "6074d0ee",
   "metadata": {
    "slideshow": {
     "slide_type": "-"
    }
   },
   "outputs": [
    {
     "name": "stdout",
     "output_type": "stream",
     "text": [
      "vL(t) =\n"
     ]
    },
    {
     "name": "stdout",
     "output_type": "stream",
     "text": [
      "L*is*dirac(t)\n"
     ]
    }
   ],
   "source": [
    "syms is L;\n",
    "vL(t) = is * L * diff(u0(t))"
   ]
  },
  {
   "cell_type": "markdown",
   "id": "e65a8777",
   "metadata": {
    "slideshow": {
     "slide_type": "notes"
    }
   },
   "source": [
    "Note that we can't plot dirac(t) in MATLAB with `ezplot`."
   ]
  },
  {
   "cell_type": "markdown",
   "id": "315d13bb",
   "metadata": {
    "slideshow": {
     "slide_type": "slide"
    }
   },
   "source": [
    "## Important properties of the delta function"
   ]
  },
  {
   "cell_type": "markdown",
   "id": "594ea512",
   "metadata": {
    "slideshow": {
     "slide_type": "subslide"
    }
   },
   "source": [
    "### Sampling Property\n",
    "\n",
    "The *sampling property* of the delta function states that\n",
    "\n",
    "$$f(t)\\delta(t-a) = f(a)\\delta(t-a)$$\n",
    "\n",
    "or, when $a = 0$,\n",
    "\n",
    "$$f(t)\\delta(t) = f(0)\\delta(t)$$"
   ]
  },
  {
   "cell_type": "markdown",
   "id": "5d3cb36c",
   "metadata": {
    "slideshow": {
     "slide_type": "notes"
    }
   },
   "source": [
    "Multiplication of any function $f(t)$ by the delta function $\\delta(t)$ results in sampling the function at the time instants for which the delta function is not zero.\n",
    "\n",
    "The study of descrete-time (sampled) systems is based on this property.\n",
    "\n",
    "*You should work through the proof* for youself."
   ]
  },
  {
   "cell_type": "markdown",
   "id": "2e73a605",
   "metadata": {
    "slideshow": {
     "slide_type": "subslide"
    }
   },
   "source": [
    "### Sifting Property\n",
    "\n",
    "The *sifting property* of the delta function states that\n",
    "\n",
    "$$\\int_{-\\infty}^{\\infty}f(t)\\delta(t-\\alpha)dt=f(\\alpha)$$"
   ]
  },
  {
   "cell_type": "markdown",
   "id": "8267a602",
   "metadata": {
    "slideshow": {
     "slide_type": "notes"
    }
   },
   "source": [
    "That is, if multiply any function $f(t)$ by $\\delta(t-\\alpha)$, and integrate from $-\\infty$ to $+\\infty$, we will get the value of $f(t)$ evaluated at $t=\\alpha.$\n",
    "\n",
    "*You should also work through the proof* for yourself."
   ]
  },
  {
   "cell_type": "markdown",
   "id": "a546df4a",
   "metadata": {
    "slideshow": {
     "slide_type": "subslide"
    }
   },
   "source": [
    "### Higher Order Delta Fuctions\n",
    "\n",
    "the n*th*-order *delta function* is defined as the n*th* derivative of $u_0(t)$, that is\n",
    "\n",
    "$$\\delta^n(t)=\\frac{d^n}{dt^n}[u_0(t)]$$\n",
    "\n",
    "The function $\\delta'(t)$ is called the *doublet*, $\\delta''(t)$ is called the *triplet* and so on."
   ]
  },
  {
   "cell_type": "markdown",
   "id": "ac09b219",
   "metadata": {
    "slideshow": {
     "slide_type": "subslide"
    }
   },
   "source": [
    "By a procedure similar to the derivation of the sampling property we can show that\n",
    "\n",
    "$$f(t)\\delta'(t-a)=f(a)\\delta'(t-a)-f'(t)\\delta(t-a)$$"
   ]
  },
  {
   "cell_type": "markdown",
   "id": "fe582345",
   "metadata": {
    "slideshow": {
     "slide_type": "subslide"
    }
   },
   "source": [
    "Also, derivation of the sifting property can be extended to show that\n",
    "\n",
    "$$\\int_{-\\infty}^{\\infty}f(t)\\delta^n(t-\\alpha)dt = \\left. ( - 1)^n\\frac{d^n}{dt^n}[f(t)] \\right|_{t = \\alpha }$$"
   ]
  },
  {
   "cell_type": "markdown",
   "id": "35cbf277",
   "metadata": {
    "slideshow": {
     "slide_type": "slide"
    }
   },
   "source": [
    "## Summary\n",
    "\n",
    "In this chapter we have looked at some elementary signals and the theoretical circuits that can be used to generate them.\n",
    "\n",
    "### Takeaways\n",
    "\n",
    "* You should note that the unit step is the *heaviside function* $u_0(t)$.\n",
    "* Many useful signals can be synthesized by use of the unit step as a \"gating function\" in combination with other signals\n",
    "* That unit ramp function $u_1(t)$ is the integral of the step function.\n",
    "* The *Dirac delta* function $\\delta(t)$ is the derivative of the unit step function. We sometimes refer to it as the *unit impulse function*.\n",
    "* The delta function has sampling and sifting properties that will be useful in the development of *time convolution* and *sampling theory*."
   ]
  },
  {
   "cell_type": "markdown",
   "id": "50a733d7",
   "metadata": {
    "slideshow": {
     "slide_type": "notes"
    }
   },
   "source": [
    "### Examples\n",
    "\n",
    "We will do some of these in class. See [Worksheet 3](worksheet3).\n",
    "\n",
    "### Homework\n",
    "\n",
    "These are for you to do later for further practice. See [Homework 1](../homework/hw1).\n",
    "\n",
    "## References\n",
    "\n",
    "See [Bibliography](/zbib)"
   ]
  }
 ],
 "metadata": {
  "jupytext": {
   "formats": "ipynb,md:myst",
   "text_representation": {
    "extension": ".md",
    "format_name": "myst",
    "format_version": 0.12,
    "jupytext_version": "1.9.1"
   }
  },
  "kernelspec": {
   "display_name": "MATLAB",
   "language": "matlab",
   "name": "imatlab"
  },
  "language_info": {
   "codemirror_mode": "octave",
   "file_extension": ".m",
   "mimetype": "text/x-matlab",
   "name": "matlab",
   "nbconvert_exporter": "imatlab._exporter.MatlabExporter",
   "pygments_lexer": "matlab",
   "version": "9.11.0.1769968 (R2021b)"
  },
  "source_map": [
   15,
   26,
   38,
   46,
   60,
   68,
   79,
   85,
   94,
   102,
   110,
   120,
   124,
   130,
   141,
   145,
   153,
   157,
   163,
   171,
   175,
   181,
   190,
   194,
   202,
   206,
   212,
   218,
   226,
   234,
   244,
   250,
   254,
   258,
   268,
   272,
   289,
   301,
   309,
   323,
   327,
   342,
   348,
   352,
   361,
   365,
   369,
   381,
   389,
   397,
   403,
   413,
   419,
   425,
   439
  ]
 },
 "nbformat": 4,
 "nbformat_minor": 5
}