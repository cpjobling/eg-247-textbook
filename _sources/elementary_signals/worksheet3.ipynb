{
 "cells": [
  {
   "cell_type": "markdown",
   "id": "5b76ef18",
   "metadata": {
    "slideshow": {
     "slide_type": "skip"
    }
   },
   "source": [
    "Lecturer: Set up MATLAB"
   ]
  },
  {
   "cell_type": "code",
   "execution_count": null,
   "id": "bc1c34cc",
   "metadata": {
    "slideshow": {
     "slide_type": "skip"
    }
   },
   "outputs": [],
   "source": [
    "clear all\n",
    "format compact\n",
    "imatlab_export_fig('print-svg')  % Static svg figures."
   ]
  },
  {
   "cell_type": "markdown",
   "id": "cd4d9dda",
   "metadata": {
    "slideshow": {
     "slide_type": "slide"
    }
   },
   "source": [
    "# Worksheet 3\n",
    "\n",
    "## To accompany Chapter 2 Elementary Signals"
   ]
  },
  {
   "cell_type": "markdown",
   "id": "fe9b3f85",
   "metadata": {
    "slideshow": {
     "slide_type": "notes"
    }
   },
   "source": [
    "## Colophon\n",
    "\n",
    "This worksheet can be downloaded as a [PDF file](https://cpjobling.github.io/eg-247-textbook/worksheets/worksheet3.pdf).\n",
    "\n",
    "A printout of this worksheet will be distributed before the first class meeting in the **Week 1: Classroom Activities** section of the Canvas site. I will also distribute a copy to your personal **Worksheets** section of the **OneNote Class Notebook** so that you can add your own notes using OneNote. \n",
    "\n",
    "You are expected to have at least watched the video presentation of [Chapter 2](https://cpjobling.github.io/eg-247-textbook/elementary_signals/index) of the [notes](https://cpjobling.github.io/eg-247-textbook) before coming to the first class. If you haven't watch it afterwards!\n",
    "\n",
    "After class, the lecture recording and the annotated version of this worksheet will be made available to you via OneNote and through Canvas."
   ]
  },
  {
   "cell_type": "markdown",
   "id": "6b4a2ef4",
   "metadata": {
    "slideshow": {
     "slide_type": "slide"
    }
   },
   "source": [
    "## Elementary Signals\n",
    "\n",
    "Consider the network shown in below where the switch is closed at time $t=T$ and all components are ideal. \n",
    "\n",
    "![Network with a switch which is closed at t = T.](./pictures/circuit2.png)\n",
    "\n",
    "Express the output voltage $V_{\\mathrm{out}}$ as a function of the unit step function, and sketch the appropriate waveform."
   ]
  },
  {
   "cell_type": "markdown",
   "id": "bbf5b221",
   "metadata": {
    "slideshow": {
     "slide_type": "subslide"
    }
   },
   "source": [
    "Q1: What happens **before** $t=T$?\n",
    "\n",
    "1. $v_{\\mathrm{out}} = \\mathrm{undefined}$\n",
    "2. $v_{\\mathrm{out}} = 0$\n",
    "3. $v_{\\mathrm{out}} = V_s$\n",
    "4. $v_{\\mathrm{out}} = V_s/2$\n",
    "5. $v_{\\mathrm{out}} = \\infty$"
   ]
  },
  {
   "cell_type": "markdown",
   "id": "2701eeb9",
   "metadata": {
    "slideshow": {
     "slide_type": "fragment"
    }
   },
   "source": [
    "**-> Open Poll: 1.2.1**"
   ]
  },
  {
   "cell_type": "markdown",
   "id": "a5d559b0",
   "metadata": {
    "slideshow": {
     "slide_type": "subslide"
    }
   },
   "source": [
    "Q2: What happens **after** $t=T$?\n",
    "\n",
    "1. $v_{\\mathrm{out}} = \\mathrm{undefined}$\n",
    "2. $v_{\\mathrm{out}} = 0$\n",
    "3. $v_{\\mathrm{out}} = V_s$\n",
    "4. $v_{\\mathrm{out}} = V_s/2$\n",
    "5. $v_{\\mathrm{out}} = \\infty$"
   ]
  },
  {
   "cell_type": "markdown",
   "id": "718b7618",
   "metadata": {
    "slideshow": {
     "slide_type": "fragment"
    }
   },
   "source": [
    "**-> Open Poll: 1.2.2**"
   ]
  },
  {
   "cell_type": "markdown",
   "id": "44ded260",
   "metadata": {
    "slideshow": {
     "slide_type": "subslide"
    }
   },
   "source": [
    "Q3: What happens **at** $t=T$?\n",
    "\n",
    "1. $v_{\\mathrm{out}} = \\mathrm{undefined}$\n",
    "2. $v_{\\mathrm{out}} = 0$\n",
    "3. $v_{\\mathrm{out}} = V_s$\n",
    "4. $v_{\\mathrm{out}} = V_s/2$\n",
    "5. $v_{\\mathrm{out}} = \\infty$"
   ]
  },
  {
   "cell_type": "markdown",
   "id": "4074bc65",
   "metadata": {
    "slideshow": {
     "slide_type": "fragment"
    }
   },
   "source": [
    "**-> Open Poll: 1.2.3**"
   ]
  },
  {
   "cell_type": "markdown",
   "id": "1817b347",
   "metadata": {
    "slideshow": {
     "slide_type": "subslide"
    }
   },
   "source": [
    "Q4: What does the response of $V_{\\mathrm{out}}$ look like? \n",
    "\n",
    "Circle the picture you think is correct on your handout.\n",
    "\n",
    "<table>\n",
    "    <tr><td>A</td><td><img src=\"https://cpjobling.github.io/eg-247-textbook/elementary_signals/pictures/impulse.png\" alt=\"Signal A\"></td><td>B</td><td><img src=\"https://cpjobling.github.io/eg-247-textbook/elementary_signals/pictures/step1.png\" alt=\"Signal B\"></td></tr>\n",
    "    <tr><td>C</td><td><img src=\"https://cpjobling.github.io/eg-247-textbook/elementary_signals/pictures/curve.png\" alt=\"Signal C\"></td><td>D</td><td><img src=\"https://cpjobling.github.io/eg-247-textbook/elementary_signals/pictures/ramp.png\" alt=\"Signal D\"></td></tr>\n",
    "</table>"
   ]
  },
  {
   "cell_type": "markdown",
   "id": "a6053fc4",
   "metadata": {
    "slideshow": {
     "slide_type": "fragment"
    }
   },
   "source": [
    "**-> Open Poll: 1.2.4**"
   ]
  },
  {
   "cell_type": "markdown",
   "id": "e583c35c",
   "metadata": {
    "slideshow": {
     "slide_type": "slide"
    }
   },
   "source": [
    "## The Unit Step Function\n",
    "\n",
    "$${u_0}(t) = \\left\\{ {\\begin{array}{*{20}{c}}\n",
    "{0\\quad t < 0}\\\\\n",
    "{1\\quad t > 0}\n",
    "\\end{array}} \\right.$$\n",
    "\n",
    "<img src=\"pictures/unitstep.png\">"
   ]
  },
  {
   "cell_type": "markdown",
   "id": "64c03cec",
   "metadata": {
    "slideshow": {
     "slide_type": "subslide"
    }
   },
   "source": [
    "### In Matlab\n",
    "\n",
    "In Matlab, we use the `heaviside` function (Named after [Oliver Heaviside](https://en.wikipedia.org/wiki/Oliver_Heaviside))."
   ]
  },
  {
   "cell_type": "code",
   "execution_count": null,
   "id": "c1d623b7",
   "metadata": {
    "slideshow": {
     "slide_type": "fragment"
    },
    "tags": [
     "remove-outlook"
    ]
   },
   "outputs": [],
   "source": [
    "syms t\n",
    "ezplot(heaviside(t),[-1,1])\n",
    "heaviside(0)"
   ]
  },
  {
   "cell_type": "markdown",
   "id": "030bae0c",
   "metadata": {
    "slideshow": {
     "slide_type": "notes"
    }
   },
   "source": [
    "See: [show_heaviside.m](https://cpjobling.github.io/eg-247-textbook/elementary_signals/show_heaviside.m).\n",
    "\n",
    "Note that, so it can be plotted, Matlab defines the *heaviside function* slightly differently from the mathematically ideal unit step:\n",
    "\n",
    "$$\\mathrm{heaviside}(t) = \\left\\{ {\\begin{array}{*{20}{c}}\n",
    "{0\\quad t < 0}\\\\\n",
    "{1/2\\quad t = 0}\\\\\n",
    "{1\\quad t > 0}\n",
    "\\end{array}} \\right.$$"
   ]
  },
  {
   "cell_type": "markdown",
   "id": "c8fb982b",
   "metadata": {
    "slideshow": {
     "slide_type": "subslide"
    }
   },
   "source": [
    "### Circuit Revisited\n",
    "\n",
    "Consider the network shown below, where the switch is closed at time $t=T$. \n",
    "\n",
    "<img src=\"pictures/circuit2.png\">\n",
    "\n",
    "Express the output voltage $v_{\\mathrm{out}}$ as a function of the unit step function, and sketch the appropriate waveform."
   ]
  },
  {
   "cell_type": "markdown",
   "id": "6459714d",
   "metadata": {
    "slideshow": {
     "slide_type": "notes"
    }
   },
   "source": [
    "<pre style=\"border: 2px solid blue\">\n",
    "\n",
    "\n",
    "\n",
    "\n",
    "\n",
    "\n",
    "\n",
    "\n",
    "\n",
    "\n",
    "\n",
    "\n",
    "\n",
    "\n",
    "\n",
    "</pre>"
   ]
  },
  {
   "cell_type": "markdown",
   "id": "0e89b31a",
   "metadata": {
    "slideshow": {
     "slide_type": "slide"
    }
   },
   "source": [
    "## Simple Signal Operations"
   ]
  },
  {
   "cell_type": "markdown",
   "id": "d71edbfd",
   "metadata": {
    "slideshow": {
     "slide_type": "subslide"
    }
   },
   "source": [
    "### Amplitude Scaling\n",
    "\n",
    "Sketch $Au_0(t)$ and $-Au_0(t)$"
   ]
  },
  {
   "cell_type": "markdown",
   "id": "0b8ab814",
   "metadata": {
    "slideshow": {
     "slide_type": "notes"
    }
   },
   "source": [
    "<pre style=\"border: 2px solid blue\">\n",
    "\n",
    "\n",
    "\n",
    "\n",
    "\n",
    "\n",
    "\n",
    "\n",
    "\n",
    "\n",
    "\n",
    "\n",
    "\n",
    "\n",
    "\n",
    "</pre>"
   ]
  },
  {
   "cell_type": "markdown",
   "id": "28ebaaa2",
   "metadata": {
    "slideshow": {
     "slide_type": "subslide"
    }
   },
   "source": [
    "### Time Reversal\n",
    "\n",
    "Sketch $u_0(-t)$"
   ]
  },
  {
   "cell_type": "markdown",
   "id": "4058e44c",
   "metadata": {
    "slideshow": {
     "slide_type": "notes"
    }
   },
   "source": [
    "<pre style=\"border: 2px solid blue\">\n",
    "\n",
    "\n",
    "\n",
    "\n",
    "\n",
    "\n",
    "\n",
    "\n",
    "\n",
    "\n",
    "\n",
    "\n",
    "\n",
    "\n",
    "\n",
    "</pre>"
   ]
  },
  {
   "cell_type": "markdown",
   "id": "d697d856",
   "metadata": {
    "slideshow": {
     "slide_type": "subslide"
    }
   },
   "source": [
    "### Time Delay and Advance\n",
    "\n",
    "Sketch $u_0(t-T)$ and $u_0(t+T)$"
   ]
  },
  {
   "cell_type": "markdown",
   "id": "eac09d9e",
   "metadata": {
    "slideshow": {
     "slide_type": "notes"
    }
   },
   "source": [
    "<pre style=\"border: 2px solid blue\">\n",
    "\n",
    "\n",
    "\n",
    "\n",
    "\n",
    "\n",
    "\n",
    "\n",
    "\n",
    "\n",
    "\n",
    "\n",
    "\n",
    "\n",
    "\n",
    "</pre>"
   ]
  },
  {
   "cell_type": "markdown",
   "id": "f9ff64ba",
   "metadata": {
    "slideshow": {
     "slide_type": "slide"
    }
   },
   "source": [
    "### Examples"
   ]
  },
  {
   "cell_type": "markdown",
   "id": "2430bdee",
   "metadata": {
    "slideshow": {
     "slide_type": "subslide"
    }
   },
   "source": [
    "#### Example 1\n",
    "\n",
    "Which of these signals represents $-Au_0(t+T)$?\n",
    "\n",
    "<img src=\"pictures/stepf1.png\" width=\"50%\">"
   ]
  },
  {
   "cell_type": "markdown",
   "id": "07b46ece",
   "metadata": {
    "slideshow": {
     "slide_type": "fragment"
    }
   },
   "source": [
    "**-> Open Poll: 1.2.5**"
   ]
  },
  {
   "cell_type": "markdown",
   "id": "5d7d1420",
   "metadata": {
    "slideshow": {
     "slide_type": "subslide"
    }
   },
   "source": [
    "#### Example 2\n",
    "\n",
    "What is represented by\n",
    "\n",
    "<img src=\"pictures/stepf2.png\" width=\"50%\">"
   ]
  },
  {
   "cell_type": "markdown",
   "id": "b06487d9",
   "metadata": {
    "slideshow": {
     "slide_type": "notes"
    }
   },
   "source": [
    "1. $-Au_0(t + T)$ \n",
    "2. $-Au_0(-t + T)$\n",
    "3. $-Au_0(-t - T)$\n",
    "4. $-Au_0(t-T)$"
   ]
  },
  {
   "cell_type": "markdown",
   "id": "80c46581",
   "metadata": {
    "slideshow": {
     "slide_type": "fragment"
    }
   },
   "source": [
    "**-> Open Poll: 1.2.6**"
   ]
  },
  {
   "cell_type": "markdown",
   "id": "fdc4a791",
   "metadata": {
    "slideshow": {
     "slide_type": "slide"
    }
   },
   "source": [
    "## Synthesis of Signals from Unit Step\n",
    "\n",
    "Unit step functions can be used to represent other time-varying functions such as rectangular pulses, square waves and triangular pulses."
   ]
  },
  {
   "cell_type": "markdown",
   "id": "ada1be2a",
   "metadata": {
    "slideshow": {
     "slide_type": "subslide"
    }
   },
   "source": [
    "### Synthesize Rectangular Pulse\n",
    "\n",
    "<img src=\"pictures/rect.png\">"
   ]
  },
  {
   "cell_type": "markdown",
   "id": "a0fa2165",
   "metadata": {
    "slideshow": {
     "slide_type": "notes"
    }
   },
   "source": [
    "<pre style=\"border: 2px solid blue\">\n",
    "\n",
    "\n",
    "\n",
    "\n",
    "\n",
    "</pre>"
   ]
  },
  {
   "cell_type": "markdown",
   "id": "5fae773d",
   "metadata": {
    "slideshow": {
     "slide_type": "subslide"
    }
   },
   "source": [
    "### Synthesize Square Wave\n",
    "\n",
    "<img src=\"pictures/square_wave.png\">"
   ]
  },
  {
   "cell_type": "markdown",
   "id": "1d98961f",
   "metadata": {
    "slideshow": {
     "slide_type": "notes"
    }
   },
   "source": [
    "<pre style=\"border: 2px solid blue\">\n",
    "\n",
    "\n",
    "\n",
    "\n",
    "\n",
    "\n",
    "\n",
    "\n",
    "\n",
    "\n",
    "\n",
    "\n",
    "\n",
    "</pre>"
   ]
  },
  {
   "cell_type": "markdown",
   "id": "ba75373b",
   "metadata": {
    "slideshow": {
     "slide_type": "subslide"
    }
   },
   "source": [
    "### Synthesize Symmetric Rectangular Pulse\n",
    "\n",
    "<img src=\"pictures/symm_rect.png\">"
   ]
  },
  {
   "cell_type": "markdown",
   "id": "42d6be7f",
   "metadata": {
    "slideshow": {
     "slide_type": "notes"
    }
   },
   "source": [
    "<pre style=\"border: 2px solid blue\">\n",
    "\n",
    "\n",
    "\n",
    "\n",
    "\n",
    "\n",
    "\n",
    "\n",
    "\n",
    "\n",
    "\n",
    "\n",
    "\n",
    "</pre>"
   ]
  },
  {
   "cell_type": "markdown",
   "id": "2598ee4e",
   "metadata": {
    "slideshow": {
     "slide_type": "subslide"
    }
   },
   "source": [
    "### Synthesize Symmetric Triangular Pulse\n",
    "\n",
    "<img src=\"pictures/symm_tri.png\">"
   ]
  },
  {
   "cell_type": "markdown",
   "id": "cae4f1f2",
   "metadata": {
    "slideshow": {
     "slide_type": "notes"
    }
   },
   "source": [
    "<pre style=\"border: 2px solid blue\">\n",
    "\n",
    "\n",
    "\n",
    "\n",
    "\n",
    "\n",
    "\n",
    "\n",
    "\n",
    "\n",
    "\n",
    "\n",
    "\n",
    "</pre>"
   ]
  },
  {
   "cell_type": "markdown",
   "id": "4fbaa112",
   "metadata": {
    "slideshow": {
     "slide_type": "slide"
    }
   },
   "source": [
    "## The Ramp Function\n",
    "\n",
    "<img src=\"pictures/rc.png\">\n",
    "\n",
    "In the circuit shown above $i_s$ is a constant current source and the switch is closed at time $t=0$."
   ]
  },
  {
   "cell_type": "markdown",
   "id": "55fd8119",
   "metadata": {
    "slideshow": {
     "slide_type": "subslide"
    }
   },
   "source": [
    "Show that the voltage across the capacitor can be represented as\n",
    "\n",
    "$$v_C(t)=\\frac{i_s}{C}t u_0(t)$$ \n",
    "\n",
    "and sketch the wave form."
   ]
  },
  {
   "cell_type": "markdown",
   "id": "d48fe55c",
   "metadata": {
    "slideshow": {
     "slide_type": "notes"
    }
   },
   "source": [
    "<pre style=\"border: 2px solid blue\">\n",
    "\n",
    "\n",
    "\n",
    "\n",
    "\n",
    "\n",
    "\n",
    "\n",
    "\n",
    "\n",
    "\n",
    "\n",
    "\n",
    "\n",
    "\n",
    "\n",
    "\n",
    "\n",
    "\n",
    "\n",
    "\n",
    "\n",
    "\n",
    "\n",
    "\n",
    "</pre>"
   ]
  },
  {
   "cell_type": "markdown",
   "id": "2cf462e5",
   "metadata": {
    "slideshow": {
     "slide_type": "subslide"
    }
   },
   "source": [
    "The unit ramp function is defined as\n",
    "\n",
    "$$u_1(t) = \\int_{-\\infty}^{t}u_0(\\tau)d\\tau$$\n",
    "\n",
    "so\n",
    "\n",
    "$${u_1}(t) = \\left\\{ {\\begin{array}{*{20}{c}}\n",
    "{0\\quad t < 0}\\\\\n",
    "{t\\quad t \\ge 0}\n",
    "\\end{array}} \\right.$$\n",
    "\n",
    "and \n",
    "\n",
    "$$u_0(t) = \\frac{d }{dt}u_1(t)$$"
   ]
  },
  {
   "cell_type": "markdown",
   "id": "dc63eb68",
   "metadata": {
    "slideshow": {
     "slide_type": "notes"
    }
   },
   "source": [
    "**Note**\n",
    "\n",
    "Higher order functions of $t$ can be generated by the repeated integration of the unit step function. \n",
    "\n",
    "For future reference, you should determine $u_2(t)$, $u_3(t)$ and $u_n(t)$ for yourself and make a note of the general rule:\n",
    "\n",
    "$$u_{n-1} = \\frac{1}{n}\\frac{d}{dt}u_n(t)$$\n",
    "\n",
    "Details are given in equations 1.26&mdash;1.29 in the textbook."
   ]
  },
  {
   "cell_type": "markdown",
   "id": "27acd2d0",
   "metadata": {
    "slideshow": {
     "slide_type": "slide"
    }
   },
   "source": [
    "## The Dirac Delta Function\n",
    "\n",
    "<img src=\"pictures/lr.png\">\n",
    "\n",
    "In the circuit shown above, the switch is closed at time $t=0$ and $i_L(t)=0$ for $t<0$. Express the inductor current $i_L(t)$ in terms of the unit step function and hence derive an expression for $v_L(t)$."
   ]
  },
  {
   "cell_type": "markdown",
   "id": "a0eec8ef",
   "metadata": {
    "slideshow": {
     "slide_type": "notes"
    }
   },
   "source": [
    "<pre style=\"border: 2px solid blue\">\n",
    "\n",
    "\n",
    "\n",
    "\n",
    "\n",
    "\n",
    "\n",
    "\n",
    "\n",
    "\n",
    "\n",
    "\n",
    "\n",
    "</pre>"
   ]
  },
  {
   "cell_type": "markdown",
   "id": "88f6bf4f",
   "metadata": {
    "slideshow": {
     "slide_type": "notes"
    }
   },
   "source": [
    "**Notes**\n",
    "\n",
    "To solve this problem we need to invent a function that represents the derivative of the unit step function. This function is called $\\delta(t)$ or the *dirac delta* function (named after [Paul Dirac](https://en.wikipedia.org/wiki/Paul_Dirac))."
   ]
  },
  {
   "cell_type": "markdown",
   "id": "6dfafcc3",
   "metadata": {
    "slideshow": {
     "slide_type": "subslide"
    }
   },
   "source": [
    "### The delta function\n",
    "\n",
    "The unit impulse or the delta function, denoted as $\\delta(t)$, is the derivative of the unit step.\n",
    "\n",
    "This function is tricky because $u_0(t)$ is discontinuous at $t=0$ but it must have the properties\n",
    "\n",
    "$$\\int_{-\\infty}^{t}\\delta(\\tau)d\\tau = u_0(t)$$\n",
    "\n",
    "and\n",
    "\n",
    "$\\delta(t) = 0$ for all $t\\ne 0$."
   ]
  },
  {
   "cell_type": "markdown",
   "id": "92d38179",
   "metadata": {
    "slideshow": {
     "slide_type": "subslide"
    }
   },
   "source": [
    "### Sketch of the delta function\n",
    "\n",
    "![The delta function](pictures/impulse.png)"
   ]
  },
  {
   "cell_type": "markdown",
   "id": "78bd694c",
   "metadata": {
    "slideshow": {
     "slide_type": "slide"
    }
   },
   "source": [
    "## Important properties of the delta function\n",
    "\n",
    "See the accompanying [notes](index)."
   ]
  },
  {
   "cell_type": "markdown",
   "id": "77015758",
   "metadata": {
    "slideshow": {
     "slide_type": "slide"
    }
   },
   "source": [
    "### Examples"
   ]
  },
  {
   "cell_type": "markdown",
   "id": "aeecf2b4",
   "metadata": {
    "slideshow": {
     "slide_type": "subslide"
    }
   },
   "source": [
    "#### Example 3\n",
    "\n",
    "Evaluate the following expressions"
   ]
  },
  {
   "cell_type": "markdown",
   "id": "d7ff6e11",
   "metadata": {
    "slideshow": {
     "slide_type": "fragment"
    }
   },
   "source": [
    "$$3t^4\\delta(t-1) $$"
   ]
  },
  {
   "cell_type": "markdown",
   "id": "91c2b00a",
   "metadata": {
    "slideshow": {
     "slide_type": "notes"
    }
   },
   "source": [
    "<pre style=\"border: 2px solid blue\">\n",
    "\n",
    "\n",
    "\n",
    "\n",
    "\n",
    "\n",
    "\n",
    "\n",
    "\n",
    "\n",
    "\n",
    "\n",
    "\n",
    "</pre>"
   ]
  },
  {
   "cell_type": "markdown",
   "id": "b047d58f",
   "metadata": {
    "slideshow": {
     "slide_type": "fragment"
    }
   },
   "source": [
    "$$\\int_{-\\infty}^{\\infty}t\\delta(t-2)dt$$"
   ]
  },
  {
   "cell_type": "markdown",
   "id": "918b0c7b",
   "metadata": {
    "slideshow": {
     "slide_type": "notes"
    }
   },
   "source": [
    "<pre style=\"border: 2px solid blue\">\n",
    "\n",
    "\n",
    "\n",
    "\n",
    "\n",
    "\n",
    "\n",
    "\n",
    "\n",
    "\n",
    "\n",
    "\n",
    "\n",
    "</pre>"
   ]
  },
  {
   "cell_type": "markdown",
   "id": "88bdbe6a",
   "metadata": {
    "slideshow": {
     "slide_type": "fragment"
    }
   },
   "source": [
    "$$t^2\\delta'(t-3)$$"
   ]
  },
  {
   "cell_type": "markdown",
   "id": "4788b4f4",
   "metadata": {
    "slideshow": {
     "slide_type": "notes"
    }
   },
   "source": [
    "<pre style=\"border: 2px solid blue\">\n",
    "\n",
    "\n",
    "\n",
    "\n",
    "\n",
    "\n",
    "\n",
    "\n",
    "\n",
    "\n",
    "\n",
    "\n",
    "\n",
    "</pre>"
   ]
  },
  {
   "cell_type": "markdown",
   "id": "2a014d9e",
   "metadata": {
    "slideshow": {
     "slide_type": "subslide"
    }
   },
   "source": [
    "#### Example 4\n",
    "\n",
    "<img src=\"pictures/example2.png\">"
   ]
  },
  {
   "cell_type": "markdown",
   "id": "4bfa8c48",
   "metadata": {
    "slideshow": {
     "slide_type": "subslide"
    }
   },
   "source": [
    "(1) Express the voltage waveform $v(t)$ shown above as a sum of unit step functions for the time interval $-1 < t < 7$ s"
   ]
  },
  {
   "cell_type": "markdown",
   "id": "38fbe8b2",
   "metadata": {
    "slideshow": {
     "slide_type": "notes"
    }
   },
   "source": [
    "<pre style=\"border: 2px solid blue\">\n",
    "\n",
    "\n",
    "\n",
    "\n",
    "\n",
    "\n",
    "\n",
    "\n",
    "\n",
    "\n",
    "\n",
    "\n",
    "\n",
    "</pre>"
   ]
  },
  {
   "cell_type": "markdown",
   "id": "422aeb1b",
   "metadata": {
    "slideshow": {
     "slide_type": "subslide"
    }
   },
   "source": [
    "Using the result of part (1), compute the derivative of $v(t)$ and sketch its waveform."
   ]
  },
  {
   "cell_type": "markdown",
   "id": "b7561c31",
   "metadata": {
    "slideshow": {
     "slide_type": "notes"
    }
   },
   "source": [
    "<pre style=\"border: 2px solid blue\">\n",
    "\n",
    "\n",
    "\n",
    "\n",
    "\n",
    "\n",
    "\n",
    "\n",
    "\n",
    "\n",
    "\n",
    "\n",
    "\n",
    "</pre>"
   ]
  },
  {
   "cell_type": "markdown",
   "id": "f35ec046",
   "metadata": {
    "slideshow": {
     "slide_type": "slide"
    }
   },
   "source": [
    "## Lab Work\n",
    "\n",
    "In the first lab, next Tuesday, we will solve further elemetary signals problems using MATLAB and Simulink\n",
    "following the procedure given between pages 1-17 and 1-22 of the Karris. We will also explore the\n",
    "`heaviside` and `dirac` functions."
   ]
  },
  {
   "cell_type": "markdown",
   "id": "2e92b767",
   "metadata": {
    "slideshow": {
     "slide_type": "notes"
    }
   },
   "source": [
    "## Answers to in-class questions\n",
    "\n",
    "Mathematically\n",
    "\n",
    "Q1. $v_{\\mathrm{out}} = 0$ when $-\\infty < t < 0$ (answer 2)\n",
    "\n",
    "Q2. $v_{\\mathrm{out}} = V_s$ when $0 < t < \\infty$ (answer 3)\n",
    "\n",
    "Q3. $v_{\\mathrm{out}} = \\mathrm{undefined}$ when $t=0$ (answer 1)\n",
    "\n",
    "$V_{\\mathrm{out}}$ jumps from $0$ to $V_s$ instantanously when the switch is closed. We call this a discontinuous signal!\n",
    "\n",
    "Q4: The correct image is:\n",
    "\n",
    "<img src=\"pictures/step2.png\">\n",
    "\n",
    "Example 1: Answer 3.\n",
    "\n",
    "Example 2: Answer 2."
   ]
  }
 ],
 "metadata": {
  "jupytext": {
   "formats": "ipynb,md:myst",
   "text_representation": {
    "extension": ".md",
    "format_name": "myst",
    "format_version": 0.13,
    "jupytext_version": "1.11.5"
   }
  },
  "kernelspec": {
   "display_name": "MATLAB",
   "language": "matlab",
   "name": "imatlab"
  },
  "source_map": [
   15,
   19,
   29,
   35,
   47,
   57,
   67,
   71,
   81,
   85,
   95,
   99,
   110,
   114,
   125,
   131,
   142,
   154,
   164,
   184,
   188,
   194,
   214,
   220,
   240,
   246,
   266,
   270,
   278,
   282,
   290,
   297,
   301,
   307,
   313,
   323,
   329,
   347,
   353,
   371,
   377,
   395,
   403,
   411,
   441,
   458,
   470,
   478,
   496,
   502,
   516,
   522,
   528,
   532,
   538,
   542,
   560,
   564,
   582,
   586,
   604,
   610,
   614,
   632,
   636,
   654,
   662
  ]
 },
 "nbformat": 4,
 "nbformat_minor": 5
}