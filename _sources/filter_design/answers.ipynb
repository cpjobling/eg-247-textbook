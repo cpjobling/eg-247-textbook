{
 "cells": [
  {
   "cell_type": "markdown",
   "id": "874a8674",
   "metadata": {},
   "source": [
    "# Worked Solutions to Exercises 7.2\n",
    "\n",
    "(sol:ex7.2.1)=\n",
    "## Solution to Exercise 7.2.1\n",
    "\n",
    "See: {ref}`u72:ex:1`"
   ]
  },
  {
   "cell_type": "markdown",
   "id": "c9689750",
   "metadata": {},
   "source": [
    "We first write down the difference equations by tracing through the signals in the block diagram of {numref}`fig:u72:1`.\n",
    "\n",
    "$$\n",
    "y[n] = b_0 w[n] + b_1w[n-1] + b_2w[n-2] + b_3w[n-2] \n",
    "$$ (eq:sol:7.2.1:1)\n",
    "\n",
    "$$\n",
    "w[n] = x[n] - a_1 w[n-1] - a_1 w[n-2] - a_3w[n-2] \n",
    "$$ (eq:sol:7.2.1:2)"
   ]
  },
  {
   "cell_type": "markdown",
   "id": "c5a00c96",
   "metadata": {},
   "source": [
    "We take Z-transforms of equations {eq}`eq:sol:7.2.1:1` and {eq}`eq:sol:7.2.1:2`:\n",
    "\n",
    "$$\n",
    "Y(z) = b_0 W(z) + b_1 z^{-1} W(z)  + b_2 z^{-2} W(z) + b_3 z^{-3} W(z) \n",
    "$$ (eq:sol:7.2.1:3)\n",
    "\n",
    "$$\n",
    "W(z) = X(z) + a_1 z^{-1} W(z) + a_1 z^{-2} W(z) + a_3 z^{-3} W(z) \n",
    "$$ (eq:sol:7.2.1:4)"
   ]
  },
  {
   "cell_type": "markdown",
   "id": "33a9d3a2",
   "metadata": {},
   "source": [
    "Gather terms in {eq}`eq:sol:7.2.1:3` and {eq}`eq:sol:7.2.1:4`:\n",
    "\n",
    "$$\n",
    "Y(z) = \\left(b_0 + b_1 z^{-1} + b_2 z^{-2} + b_3 z^{-3}\\right) W(z) \n",
    "$$ (eq:sol:7.2.1:5)\n",
    "\n",
    "$$\n",
    "\\left(1 + a_1 z^{-1}- a_1 z^{-2} - a_3 z^{-3} \\right) W(z) = X(z) \n",
    "$$ (eq:sol:7.2.1:6)"
   ]
  },
  {
   "cell_type": "markdown",
   "id": "266bf5d9",
   "metadata": {},
   "source": [
    "From {eq}`eq:sol:7.2.1:6` we obtain\n",
    "\n",
    "$$W(z) = \\frac{1}{1 + a_1 z^{-1}- a_1 z^{-2} - a_3 z^{-3}}  X(z)$$ (eq:sol:7.2.1:7)\n",
    "\n",
    "We then use {eq}`eq:sol:7.2.1:7` to eliminate $W(z)$ from {eq}`eq:sol:7.2.1:5`, giving\n",
    "\n",
    "$$Y(z) = \\frac{b_0 W(z) + b_1 z^{-1} W(z)  + b_2 z^{-2} W(z) + b_3 z^{-3}}{1 + a_1 z^{-1}- a_1 z^{-2} - a_3 z^{-3}} X(z)$$\n",
    "\n",
    "and the transfer function follows:\n",
    "\n",
    "$$H(z) = \\frac{Y(z)}{X(z)} = \\frac{b_0 W(z) + b_1 z^{-1} W(z)  + b_2 z^{-2} W(z) + b_3 z^{-3}}{1 + a_1 z^{-1}- a_1 z^{-2} - a_3 z^{-3}}$$ (eq:sol:7.2.1:8)\n",
    "\n"
   ]
  },
  {
   "cell_type": "markdown",
   "id": "d2d3f225",
   "metadata": {},
   "source": [
    "(sol:ex7.2.2)=\n",
    "## Solution to Exercise 7.2.2\n",
    "\n",
    "> Use the block diagram shown in {numref}`fig:u72:4` to validate {eq}`eq:7.2:18`. Write down the equivalent difference equation.\n",
    "\n",
    "See: {ref}`u72:ex:2`\n",
    "\n",
    "----\n",
    "\n",
    "The same procedure used for {ref}`sol:ex7.2.1` is used.\n",
    "\n",
    "\n"
   ]
  },
  {
   "cell_type": "markdown",
   "id": "4294533a",
   "metadata": {},
   "source": [
    "(sol:ex7.2.3)=\n",
    "# Solution to Exercise 7.2.3\n",
    "\n",
    "> Design a 2nd-order Butterworth filter with $\\omega_c = 20$ kHz. Use the Bilinear transformation to convert the analogue filter to a digital filter with sampling frequency of 44.1 kHz. Use pre-warping to ensure that the cutoff frequency is correct at the equivalent digital frequency.\n",
    "\n",
    "See: {ref}`u72:ex:3`"
   ]
  },
  {
   "cell_type": "markdown",
   "id": "fb26976c",
   "metadata": {},
   "source": [
    "---- "
   ]
  },
  {
   "cell_type": "markdown",
   "id": "d358a366",
   "metadata": {},
   "source": [
    "The magnitude squared function of a $k$-th order Butterworth low-pass filter is\n",
    "\n",
    "$$A^2(\\omega) = \\frac{1}{\\left(\\omega/\\omega_c)^2k + 1\\right)}$$\n",
    "\n",
    "We need to design a filter that has $k=2$ and $\\omega_c = 2\\times\\pi\\times 20\\times 10^3 = 125,66371\\times 10^3$ rad/s. It will be easier to design the filter for $\\omega_c = 1$ then complete the design by subsitution of the actual cut-off frequency afterwards.\n",
    "\n",
    "We follow the procedure outlined in the notes (see {ref}`unit7.1:butter`).\n",
    "\n",
    "$$A^2(\\omega) = \\frac{1}{\\omega^4 + 1}$$\n",
    "\n",
    "which on subsitution of $\\omega^2 = -s^2$ gives\n",
    "\n",
    "$$G(s)G(-s) = \\frac{1}{s^4 + 1}$$\n",
    "\n",
    "The poles of this equation are given by $s = \\sqrt[4]{-1}$, that is $s = \\sqrt[4]{1\\angle 180^\\circ}$ which, by De Moivre's theorem, with $n = 4$,\n",
    "\n",
    "$$\\sqrt[4]{1e^{j\\pi}} = 1e^{j\\left(\\frac{\\pi + 2k\\pi}{4}\\right)}$$"
   ]
  },
  {
   "cell_type": "markdown",
   "id": "d4b0ae5e",
   "metadata": {},
   "source": [
    "Thus $$\n",
    "\\begin{array}{ll}\n",
    "s_1 = e^{j 3\\pi/4} = -\\frac{1}{\\sqrt{2}} + j\\frac{1}{\\sqrt{2}} & s_2 = e^{j5\\pi/4} = -\\frac{1}{\\sqrt{2}} - j\\frac{1}{\\sqrt{2}}\\\\\n",
    "s_3 = e^{j 7\\pi/4} = +\\frac{1}{\\sqrt{2}} - j\\frac{1}{\\sqrt{2}} & s_4 = e^{j9\\pi/4} =  +\\frac{1}{\\sqrt{2}} + j\\frac{1}{\\sqrt{2}}\n",
    "\\end{array}\n",
    "$$"
   ]
  },
  {
   "cell_type": "markdown",
   "id": "9acea5d5",
   "metadata": {},
   "source": [
    "We take the left-half plane poles $s_1$ and $s_2$ and\n",
    "\n",
    "$$H(s) = \\frac{K}{\\left(s +\\frac{1}{\\sqrt{2}} + j\\frac{1}{\\sqrt{2}}\\right)\\left(s + \\frac{1}{\\sqrt{2}} + j\\frac{1}{\\sqrt{2}}\\right)} $$\n",
    "\n",
    "$$H(s) = \\frac{K}{s^2 + \\sqrt{2}s + 1} $$"
   ]
  },
  {
   "cell_type": "markdown",
   "id": "3007ed47",
   "metadata": {},
   "source": [
    "The gain $K$ is found from $A^2(0) = 1$, and $H(0) = 1$, so $K=1$ and the prototype Butterworth low-pass filter is \n",
    "\n",
    "$$H(s) = \\frac{1}{s^2 + \\sqrt{2}s + 1}$$"
   ]
  },
  {
   "cell_type": "markdown",
   "id": "59c07516",
   "metadata": {},
   "source": [
    "We now convert this to the filter we need by substitution $s = s/\\omega_c$\n",
    "\n",
    "$$H(s) = \\frac{1}{\\left(\\frac{s}{\\omega_c}\\right)^2 + \\sqrt{2}\\left(\\frac{s}{\\omega_c}\\right) + 1}$$\n",
    "\n",
    "from which\n",
    "\n",
    "$$\\frac{\\omega_c^2}{s^2 + \\sqrt{2}\\omega_c s + \\omega_c^2} $$"
   ]
  },
  {
   "cell_type": "markdown",
   "id": "7f1017fa",
   "metadata": {},
   "source": [
    "and\n",
    "\n",
    "$$\\frac{15.79\\times 10^3}{s^2 + 177.7s + 15.79\\times 10^3}$$\n",
    "\n",
    "We will complete the problem by switching to MATLAB. We first need to determine the pre-warping correction\n",
    "\n",
    "$$\\omega_a = \\frac{2}{T_s} \\tan\\left(\\frac{ \\omega_c T_s}{2}\\right)$$"
   ]
  },
  {
   "cell_type": "code",
   "execution_count": 1,
   "id": "5f92b7f9",
   "metadata": {},
   "outputs": [
    {
     "name": "stdout",
     "output_type": "stream",
     "text": [
      "\n",
      "wc =\n",
      "\n",
      "   1.2566e+05\n",
      "\n"
     ]
    }
   ],
   "source": [
    "fs = 44.1e2; % sampling frequency\n",
    "Ts = 1/fs;\n",
    "wc = 2*pi*20e3"
   ]
  },
  {
   "cell_type": "code",
   "execution_count": 2,
   "id": "7cae2021",
   "metadata": {},
   "outputs": [
    {
     "name": "stdout",
     "output_type": "stream",
     "text": [
      "\n",
      "wa =\n",
      "\n",
      "  -7.9553e+04\n",
      "\n"
     ]
    }
   ],
   "source": [
    "wa = (2/Ts)*tan(wc*Ts/2)"
   ]
  },
  {
   "cell_type": "markdown",
   "id": "2b65ba35",
   "metadata": {},
   "source": [
    "Re calculate Butterworth filter with pre-warped frequency"
   ]
  },
  {
   "cell_type": "code",
   "execution_count": 4,
   "id": "e2279c42",
   "metadata": {},
   "outputs": [
    {
     "name": "stdout",
     "output_type": "stream",
     "text": [
      "\n",
      "Hs =\n",
      " \n",
      "           6.329e09\n",
      "  ---------------------------\n",
      "  s^2 - 1.125e05 s + 6.329e09\n",
      " \n",
      "Continuous-time transfer function.\n"
     ]
    }
   ],
   "source": [
    "Hs = tf(wa^2,[1 sqrt(2)*wa wa^2])"
   ]
  },
  {
   "cell_type": "markdown",
   "id": "ce92ee2b",
   "metadata": {},
   "source": [
    "Now find $H(z)$ using the bilinear transformation by substituting\n",
    "\n",
    "$$s = \\frac{2}{Ts} \\left(\\frac{z-1}{z+1} \\right)$$\n",
    "\n",
    "You should try this algebraicly, but we will cheat"
   ]
  },
  {
   "cell_type": "code",
   "execution_count": 5,
   "id": "306244fb",
   "metadata": {},
   "outputs": [
    {
     "name": "stdout",
     "output_type": "stream",
     "text": [
      "\n",
      "Hz =\n",
      " \n",
      "  1.169 z^2 + 2.338 z + 1.169\n",
      "  ---------------------------\n",
      "     z^2 + 2.309 z + 1.367\n",
      " \n",
      "Sample time: 0.00022676 seconds\n",
      "Discrete-time transfer function.\n"
     ]
    }
   ],
   "source": [
    "Hz = c2d(Hs,Ts,'tustin')"
   ]
  },
  {
   "cell_type": "markdown",
   "id": "1392c971",
   "metadata": {},
   "source": [
    "From which\n",
    "\n",
    "$$H(z) = \\frac{1.169z^{2} + 2.338 z + 1.169}{z^2 + 2.309z + 1.367}$$"
   ]
  },
  {
   "cell_type": "markdown",
   "id": "c201126f",
   "metadata": {},
   "source": [
    "To implement this, we simply convert to negative powers of $z$\n",
    "\n",
    "$$H(z) = \\frac{1.169 + 2.338 z^{-1} + 1.169z^{-2}}{1 + 2.309z^{-1} + 1.367z^{-2}}$$"
   ]
  },
  {
   "cell_type": "markdown",
   "id": "b3ba3e99",
   "metadata": {},
   "source": [
    "(sol:ex7.2.4)=\n",
    "## Solution to Exercise 7.2.4\n",
    "\n",
    "> A digital filter with cutoff frequency of 100 Hz for a signal sampled at 1 kHz has transfer function \n",
    ">\n",
    "> $$H(z) = \\frac{0.6401   -1.1518z^{-1}   + 0.6401z^{-2}}{1\t-1.0130 z^{-1}    + 0.4190z^{-2}} $$\n",
    ">\n",
    "> The frequency response for this filter (plotted against $f/(f_s/2)$) is shown in {numref}`fig:u72:ex7.2.2`.\n",
    ">\n",
    "> a) What type of filter is this?\n",
    ">\n",
    "> b) Estimate the band-pass ripple, and stop-band ripple of the filter.\n",
    ">\n",
    "> c) Implement the filter as Direct Form Type II digital filter and sketch its block diagram.\n",
    ">\n",
    "> d) Use the example of {ref}`u454:code` to give a code implementation of the filter.\n",
    ">\n",
    "> e) If the input to this filter is a step function $x[n] = \\left\\{1,1,1,1,\\ldots\\right\\}$, calculate the first 5 outputs $y[n]$ of the filter.\n",
    "\n",
    "See: {ref}`u72:ex:4`\n",
    "\n",
    "----\n",
    "\n"
   ]
  },
  {
   "cell_type": "markdown",
   "id": "84ad72eb",
   "metadata": {},
   "source": [
    "This is a 2nd-order filter designed to have a cut-off frequency of $100$ Hz. Beacuse it is low-order, the ripple is rather non-typical!\n",
    "\n",
    "a) The gain at high frequency is 0 dB so the filter is high-pass. There is ripple in the stop-band so it is Chebyshev Type II.\n",
    "\n",
    "b) The stop-band ripple is 10 dB, there is no ripple in the pass-band. Note that it is not clear that the cut-off frequency is 100 Hz! Any value near the -3dB cut-off frequency will be taken as correct.\n",
    "\n",
    "c) For the sketch, refer to {numref}`fig:u72:4` and note that the coefficients will be: $b_0 = 0.6401$, $b_1 = -1.1518$, $b_3 = 0.6401$, $a_1 = 1.0130$, $a_2 = 0.4190$. Note in particular the signs of the $a$ coefficients. They are negative in the block diagram but positive in the transfer function.\n",
    "\n",
    "d) To write the code, we need to express the transfer function as a difference equation.\n",
    "\n",
    "$$H(z) = \\frac{Y(z)}{X(z)} = \\frac{0.6401   -1.1518z^{-1}   + 0.6401z^{-2}}{1\t-1.0130 z^{-1}    + 0.4190z^{-2}} $$\n",
    "\n",
    "So\n",
    "\n",
    "$$\n",
    "\\begin{align*}\n",
    "\\left(1\t- 1.0130 z^{-1}    + 0.4190z^{-2}\\right)Y(z) &= \\left(0.6401   -1.1518z^{-1}   + 0.6401z^{-2}\\right)X(z) \\\\\n",
    "Y(z)\t- 1.0130 z^{-1}Y(z)    + 0.4190z^{-2}Y(z) &= 0.6401 X(z)   -1.1518z^{-1}X(z)   + 0.6401z^{-2}X(z) \\\\\n",
    "Y(z) &= 0.6401 X(z)   -1.1518z^{-1}X(z)   + 0.6401z^{-2}X(z) + 1.0130 z^{-1}Y(z)    - 0.4190z^{-2}Y(z)\n",
    "\\end{align*}\n",
    "$$\n",
    "\n",
    "\n",
    "Taking inverse Z-transform:\n",
    "\n",
    "$$y[n] = 0.6401 x[n]   -1.1518 x[n-1]   + 0.6401 x[n-2] + 1.0130 y[n-1]    - 0.4190 y[n-2]$$"
   ]
  },
  {
   "cell_type": "markdown",
   "id": "6202fe31",
   "metadata": {},
   "source": [
    "Using the example in {ref}`u454:code` with $T_s = 1/1000 = 0.001$\n",
    "\n",
    "```c\n",
    "/* Initialize */\n",
    "Ts = 0.001; /* more probably some fraction of clock speed */\n",
    "ynm1 = 0; ynm2 = 0; unm1 = 0; unm2 = 0;\n",
    "while (true) {\n",
    "    un = read_adc();\n",
    "    yn = 0.6401*un + −1.1518*unm1 + 0.6401*unm2 + 1.0130*ynm1 - 0.4190*ynm2;\n",
    "    write_dac(yn);\n",
    "    /* store past values */\n",
    "    ynm2 = ynm1; ynm1 = yn;\n",
    "    unm2 = unm1; unm1 = un;\n",
    "    wait(Ts);\n",
    "}\n",
    "\n",
    "```"
   ]
  },
  {
   "cell_type": "markdown",
   "id": "48a07abb",
   "metadata": {},
   "source": [
    "e) The easiest way to complete the problem is to tabulate the data \n",
    "\n",
    "| $n$ | $x[n]$ | $0.6401 x[n]$ | $-1.1518 x[n-1]$ | $0.6401 x[n-2]$ | $1.0130 y[n-1] $ | $- 0.4190 y[n-2]$ | $y[n]$ |\n",
    "|-----|--------|---------------|------------------|-----------------|------------------|-------------------|-------|\n",
    "| $0$ | $1$    | $0.6401$      | $0$              | $0$             | $0$              | $0$               | $0.6401$ |\n",
    "| $1$ | $1$    | $0.6401$      | $-1.1518$        | $0$             | $0.6486$         | $0$               | $0.1369$ |\n",
    "| $2$ | $1$    | $0.6401$      | $-1.1518$        | $0.6401$        | $0.1387$         | $-0.2682$         | $-0.011$ |\n",
    "| $3$ | $1$    | $0.6401$      | $-1.1518$        | $0.6401$        | $-0.0011$        | $-0.0574$         | $0.0700$ |\n",
    "| $4$ | $1$    | $0.6401$      | $-1.1518$        | $0.6401$        | $0.0709$         | $0.0004$          | $0.1997$ |\n",
    "\n",
    "from which $y[n] = \\left\\{0.6401,0.1369,-0.011,0.0700,0.1997,\\dots\\right\\}$"
   ]
  },
  {
   "cell_type": "markdown",
   "id": "4ea85fff",
   "metadata": {},
   "source": [
    "I find the use of Excel to be a useful tool for confirming such results and the sheet for this one can be downloaded [sol_ex_7_2_3.xlsx](matlab/sol_ex_7_2_3.xlsx).\n",
    "\n",
    "You can also use MATLAB of course. Here we set up the transfer function:"
   ]
  },
  {
   "cell_type": "code",
   "execution_count": 23,
   "id": "051231a6",
   "metadata": {},
   "outputs": [
    {
     "name": "stdout",
     "output_type": "stream",
     "text": [
      "\n",
      "Ts =\n",
      "\n",
      "   1.0000e-03\n",
      "\n",
      "\n",
      "Hz =\n",
      " \n",
      "  0.6401 z^2 - 1.152 z + 0.6401\n",
      "  -----------------------------\n",
      "      z^2 - 1.013 z + 0.419\n",
      " \n",
      "Sample time: 0.001 seconds\n",
      "Discrete-time transfer function.\n"
     ]
    }
   ],
   "source": [
    "fs = 1000;\n",
    "Ts = 1/fs\n",
    "Hz = tf([0.6401,-1.1518,0.6401],[1,-1.0130,0.4190],Ts)"
   ]
  },
  {
   "cell_type": "markdown",
   "id": "6842d996",
   "metadata": {},
   "source": [
    "Then compute the step response"
   ]
  },
  {
   "cell_type": "code",
   "execution_count": 32,
   "id": "6b8e28d1",
   "metadata": {},
   "outputs": [
    {
     "data": {
      "image/png": "[encoded data removed]",
      "text/plain": [
       "<IPython.core.display.Image object>"
      ]
     },
     "metadata": {},
     "output_type": "display_data"
    }
   ],
   "source": [
    "[yn,nTs] = step(Hz);\n",
    "stem(nTs*1000,yn),grid,title('Step response of filter in Exercise 7.2.3'),xlabel('Time [ms]')\n",
    "ylabel('y[n]')"
   ]
  },
  {
   "cell_type": "markdown",
   "id": "067816c1",
   "metadata": {},
   "source": [
    "Confirm the tabulated results"
   ]
  },
  {
   "cell_type": "code",
   "execution_count": 33,
   "id": "d18ccfa0",
   "metadata": {},
   "outputs": [
    {
     "name": "stdout",
     "output_type": "stream",
     "text": [
      "\n",
      "ans =\n",
      "\n",
      "    0.6401\n",
      "    0.1367\n",
      "   -0.0013\n",
      "    0.0698\n",
      "    0.1996\n",
      "\n"
     ]
    }
   ],
   "source": [
    "yn(1:5)"
   ]
  }
 ],
 "metadata": {
  "jupytext": {
   "formats": "md,ipynb"
  },
  "kernelspec": {
   "display_name": "Matlab (Connection)",
   "language": "matlab",
   "name": "matlab_connect"
  },
  "language_info": {
   "codemirror_mode": "octave",
   "file_extension": ".m",
   "help_links": [
    {
     "text": "MetaKernel Magics",
     "url": "https://metakernel.readthedocs.io/en/latest/source/README.html"
    }
   ],
   "mimetype": "text/x-octave",
   "name": "matlab",
   "version": "0.17.1"
  }
 },
 "nbformat": 4,
 "nbformat_minor": 5
}
