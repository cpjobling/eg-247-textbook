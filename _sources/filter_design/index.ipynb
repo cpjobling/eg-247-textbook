{
 "cells": [
  {
   "cell_type": "markdown",
   "id": "ac41c6e4",
   "metadata": {},
   "source": [
    "(unit7)=\n",
    "# Unit 7: Analogue and Digital Filters\n",
    "\n",
    "In this final section we will present a brief overview of filters and filter design. \n",
    "\n",
    "In {ref}`unit7.1` the aim is for you to be able to recognise the frequency response of the commonly used filter types; to be able to discuss the approach taken for analogue model filter design. We will demonstrate the magitude-squared representation used to design the poles and zeros of a low-pass filter and we will examine the Butterworth, Chebyshev and Elliptical filters. We will also demonstrate the analogue low-pass filter design tools, and filter transformation tools provided by MATLAB.\n",
    "\n",
    "In {ref}`unit7.2` we will discuss the architecture of finite-impulse response (FIR) and infinite-impulse response (IIR) digital filters. We will demonstrate the bilinear transform which is used to convert a continuous-time (analogue) filter to a discete-time filter; and we will demonstrate how such a filter can be represented in Simulink.\n",
    "\n",
    "We will also demonstrate the filter design tool and filter comparison tools provided by the Signal Processing Toolbox ({cite}`matlab_spt`. We will also look at the options that MATLAB provides for simulating digital signal processing applications in Simulink and using code generation for the implementation of filter designs.\n",
    "\n",
    "## Scope and Background Reading\n",
    "\n",
    "This is a very large topic and we will give a fairly high-level overview. Much more detail is available in the references for this Unit which are Chapter 11 of {cite}`karris` and {cite}`matlab_filter_design`.\n",
    "\n",
    "## Contents\n",
    "\n",
    "* {ref}`unit7.1`\n",
    "* {ref}`unit7.2`\n"
   ]
  },
  {
   "cell_type": "code",
   "execution_count": null,
   "id": "4f42ec44",
   "metadata": {},
   "outputs": [],
   "source": []
  }
 ],
 "metadata": {
  "kernelspec": {
   "display_name": "Python 3 (ipykernel)",
   "language": "python",
   "name": "python3"
  },
  "language_info": {
   "codemirror_mode": {
    "name": "ipython",
    "version": 3
   },
   "file_extension": ".py",
   "mimetype": "text/x-python",
   "name": "python",
   "nbconvert_exporter": "python",
   "pygments_lexer": "ipython3",
   "version": "3.11.6"
  }
 },
 "nbformat": 4,
 "nbformat_minor": 5
}
