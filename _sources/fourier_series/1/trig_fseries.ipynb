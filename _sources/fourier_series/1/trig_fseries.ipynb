{
 "cells": [
  {
   "cell_type": "markdown",
   "id": "1b313a4a",
   "metadata": {
    "slideshow": {
     "slide_type": "slide"
    }
   },
   "source": [
    "# Unit 4.1: Trigonometric Fourier Series\n",
    "\n",
    "\n",
    "\n",
    "Any periodic waveform can be approximated by a DC component (which may be 0) and the sum of the fundamental and harmomic sinusoidal waveforms. This has important applications in many applications of electronics but is particularly crucial for signal processing and communications."
   ]
  },
  {
   "cell_type": "markdown",
   "id": "33b966dd",
   "metadata": {
    "slideshow": {
     "slide_type": "skip"
    }
   },
   "source": [
    "## Colophon\n",
    "\n",
    "An annotatable worksheet for this presentation is available as [**Worksheet 9**](https://cpjobling.github.io/eg-247-textbook/fourier_series/1/worksheet9.html).\n",
    "\n",
    "* The source code for this page is [fourier_series/1/trig_fseries.md](https://github.com/cpjobling/eg-247-textbook/blob/master/fourier_series/1/trig_fseries.md).\n",
    "\n",
    "* You can view the notes for this presentation as a webpage ([HTML](https://cpjobling.github.io/eg-247-textbook/fourier_series/1/trig_fseries.html)). \n",
    "\n",
    "* This page is downloadable as a [PDF](https://cpjobling.github.io/eg-247-textbook/fourier_series/1/trig_fseries.pdf) file."
   ]
  },
  {
   "cell_type": "markdown",
   "id": "a2c92e7c",
   "metadata": {
    "slideshow": {
     "slide_type": "notes"
    }
   },
   "source": [
    "## Revision?\n",
    "\n",
    "I believe that this subject has been covered in EG-150 Signals and Systems and so we present the notes as background for the Fourier transform."
   ]
  },
  {
   "cell_type": "markdown",
   "id": "cd4d275b",
   "metadata": {
    "slideshow": {
     "slide_type": "slide"
    }
   },
   "source": [
    "## Agenda"
   ]
  },
  {
   "cell_type": "markdown",
   "id": "7faaf39f",
   "metadata": {
    "slideshow": {
     "slide_type": "fragment"
    }
   },
   "source": [
    "* Motivating examples"
   ]
  },
  {
   "cell_type": "markdown",
   "id": "ae8a182d",
   "metadata": {
    "slideshow": {
     "slide_type": "fragment"
    }
   },
   "source": [
    "* Wave analysis and the Trig. Fourier Series"
   ]
  },
  {
   "cell_type": "markdown",
   "id": "5aa8438a",
   "metadata": {
    "slideshow": {
     "slide_type": "fragment"
    }
   },
   "source": [
    "* Symmetry in Trigonometric Fourier Series"
   ]
  },
  {
   "cell_type": "markdown",
   "id": "fb458cc2",
   "metadata": {
    "slideshow": {
     "slide_type": "fragment"
    }
   },
   "source": [
    "* Computing coefficients of Trig. Fourier Series in MATLAB"
   ]
  },
  {
   "cell_type": "markdown",
   "id": "8dbb01ba",
   "metadata": {
    "slideshow": {
     "slide_type": "fragment"
    }
   },
   "source": [
    "* Gibbs Phenomenon"
   ]
  },
  {
   "cell_type": "markdown",
   "id": "edfe7ff1",
   "metadata": {
    "slideshow": {
     "slide_type": "notes"
    }
   },
   "source": [
    "## Motivating Examples\n",
    "\n",
    "This [Fourier Series demo](http://dspfirst.gatech.edu/matlab/#fseriesdemo), developed by Members of the Center for Signal and Image Processing (CSIP) at the [School of Electrical and Computer Engineering](https://www.ece.gatech.edu/) at the [Georgia Institute of Technology](https://www.gatech.edu/), shows how periodic signals can be synthesised by a sum of sinusoidal signals.\n",
    "\n",
    "It is here used as a motivational example in our introduction to [Fourier Series](https://en.wikipedia.org/wiki/Fourier_series). (See also [Fourier Series](https://mathworld.wolfram.com/FourierSeries.html) from Wolfram MathWorld referenced in the **Quick Reference** on Blackboard.)\n",
    "\n",
    "To install this example, download the [zip file](http://dspfirst.gatech.edu/matlab/ZipFiles/fseriesdemo-v144.zip) and unpack it somewhere on your MATLAB path."
   ]
  },
  {
   "cell_type": "markdown",
   "id": "41ff6827",
   "metadata": {
    "slideshow": {
     "slide_type": "slide"
    }
   },
   "source": [
    "## Wave Analysis\n",
    "\n",
    "* [Jean Baptiste Joseph Fourier](https://en.wikipedia.org/wiki/Joseph_Fourier) (21 March 1768 – 16 May 1830) discovered that any _**periodic**_ signal could be represented as a series of *harmonically related* sinusoids.\n",
    "\n",
    "* An *harmonic* is a frequency whose value is an integer multiple of some *fundamental frequency*\n",
    "\n",
    "* For example, the frequencies 2 MHz, 3 Mhz, 4 MHz are the second, third and fourth harmonics of a sinusoid with fundamental frequency 1 Mhz."
   ]
  },
  {
   "cell_type": "markdown",
   "id": "e218868e",
   "metadata": {
    "slideshow": {
     "slide_type": "subslide"
    }
   },
   "source": [
    "### The Trigonometric Fourier Series\n",
    "\n",
    "Any periodic waveform $f(t)$ can be represented as\n",
    "\n",
    "$$\n",
    "\\begin{eqnarray*}\n",
    "  f(t) &=& \\frac{1}{2}{a_0} + {a_1}\\cos \\Omega_0 t + {a_2}\\cos 2\\Omega_0 t + {a_3}\\cos 3\\Omega_0 t +  \\cdots  + {a_n}\\cos n\\Omega_0 t +  \\cdots  \\\\ \n",
    "   &+& {b_1}\\sin \\Omega_0 t + {b_2}\\sin 2\\Omega_0 t + {b_3}\\sin 3\\Omega_0 t +  \\cdots  + {b_n}\\sin n\\Omega_0 t +  \\cdots  \\\\ \n",
    "\\end{eqnarray*}\n",
    "$$\n",
    "\n",
    "or equivalently (if more confusingly)\n",
    "\n",
    "$$\n",
    "f(t) = \\frac{1}{2}{a_0} + \\sum\\limits_{n = 1}^\\infty  {({a_n}\\cos n\\Omega_0 t + {b_n}\\sin n\\Omega_0 t)}\n",
    "$$\n",
    "\n",
    "where $\\Omega_0$ rad/s is the *fundamental frequency*."
   ]
  },
  {
   "cell_type": "markdown",
   "id": "54d1ca3b",
   "metadata": {
    "slideshow": {
     "slide_type": "subslide"
    }
   },
   "source": [
    "### Notation\n",
    "\n",
    "* The first term $a_o/2$ is a constant and represents the DC (average) component of the signal $f(t)$\n",
    "* The terms with coefficients $a_1$ and $b_1$ together represent the fundamental frequency component of $f(t)$ at frequency $\\Omega_0$.\n",
    "* The terms with coefficients $a_2$ and $b_2$ together represent the second harmonic frequency component of $f(t)$ at frequency $2\\Omega_0$.\n",
    "\n",
    "And so on."
   ]
  },
  {
   "cell_type": "markdown",
   "id": "b1bf59ee",
   "metadata": {
    "slideshow": {
     "slide_type": "subslide"
    }
   },
   "source": [
    "Since any periodic function $f(t)$ can be expressed as a Fourier series, it follows that the sum of the DC, fundamental, second harmonic and so on must produce the waveform $f(t)$."
   ]
  },
  {
   "cell_type": "markdown",
   "id": "4b7494a0",
   "metadata": {
    "slideshow": {
     "slide_type": "subslide"
    }
   },
   "source": [
    "### Sums of sinusoids\n",
    "\n",
    "In general, the sum of two or more sinusoids does not produce a sinusoid as shown below.\n",
    "\n",
    "<img src=\"pictures/7_1.png\">\n",
    "\n",
    "To generate this picture use [fourier_series1.m](https://cpjobling.github.io/eg-247-textbook/fourier_series/matlab/fourier_series1.m)."
   ]
  },
  {
   "cell_type": "markdown",
   "id": "3841ace7",
   "metadata": {
    "slideshow": {
     "slide_type": "subslide"
    }
   },
   "source": [
    "### Evaluation of the Fourier series coefficients\n",
    "\n",
    "The coefficients are obtained from the following expressions (valid for any periodic waveform with fundamental frequency $\\Omega_0$ so long as we integrate over one period $0\\to T_0$ where $T_0 = 2\\pi/\\Omega_0$), and $\\theta = \\Omega_0 t$:\n",
    "\n",
    "$$\\frac{1}{2}a_0 = \\frac{1}{T_0}\\int_{0}^{T_0}f(t)d t = \\frac{1}{\\pi}\\int_{0}^{2\\pi}f(\\theta )d \\theta$$\n",
    "\n",
    "$$a_n = \\frac{1}{T_0}\\int_{0}^{T_0}f(t)\\cos n\\Omega_0 t\\,dt = \\frac{1}{2\\pi}\\int_{0}^{2\\pi}f(\\theta)\\cos n\\theta\\,d\\theta$$\n",
    "\n",
    "$$b_n = \\frac{1}{T_0}\\int_{0}^{T_0}f(t)\\sin n\\Omega_0 t\\,dt = \\frac{1}{2\\pi}\\int_{0}^{2\\pi}f(\\theta)\\sin n\\theta \\,d\\theta$$"
   ]
  },
  {
   "cell_type": "markdown",
   "id": "43638421",
   "metadata": {
    "slideshow": {
     "slide_type": "slide"
    }
   },
   "source": [
    "## Odd, Even and Half-wave Symmetry\n",
    "\n",
    "### Odd and even symmetry\n",
    "\n",
    "* An *odd* function is one for which $f(t) = -f(-t)$. The function $\\sin t$ is an *odd* function.\n",
    "* An *even* function is one for which $f(t) = f(-t)$. The function $\\cos t$ is an *even* function."
   ]
  },
  {
   "cell_type": "markdown",
   "id": "ff300e79",
   "metadata": {
    "slideshow": {
     "slide_type": "fragment"
    }
   },
   "source": [
    "### Half-wave symmetry\n",
    "\n",
    "* A periodic function with period $T$ is a function for which $f(t) = f(t + T)$\n",
    "* A periodic function with period $T$, has *half-wave symmetry* if $f(t) = -f(t + T/2)$"
   ]
  },
  {
   "cell_type": "markdown",
   "id": "b656761c",
   "metadata": {
    "slideshow": {
     "slide_type": "subslide"
    }
   },
   "source": [
    "## Symmetry in Trigonometric Fourier Series\n",
    "\n",
    "There are simplifications we can make if the original periodic properties has certain properties:\n",
    "\n",
    "* If $f(t)$ is odd, $a_0=0$ and there will be no cosine terms so ${a_n} = 0\\; \\forall n > 0$\n",
    "* If $f(t)$ is even, there will be no sine terms and ${b_n} = 0\\; \\forall n > 0$. The DC may or may not be zero.\n",
    "* If $f(t)$ has *half-wave symmetry* only the odd harmonics will be present. That is $a_n$ and $b_n$ is zero for all even values of $n$ (0, 2, 4, ...)"
   ]
  },
  {
   "cell_type": "markdown",
   "id": "9bb2bfdb",
   "metadata": {
    "slideshow": {
     "slide_type": "notes"
    }
   },
   "source": [
    "### Symmetry in Common Waveforms\n",
    "\n",
    "To reproduce the following waveforms (without annotation) publish the script [waves.m](https://cpjobling.github.io/eg-247-textbook/fourier_series/matlab/waves.m)."
   ]
  },
  {
   "cell_type": "markdown",
   "id": "4785d4df",
   "metadata": {
    "slideshow": {
     "slide_type": "notes"
    }
   },
   "source": [
    "#### Squarewave\n",
    "\n",
    "<img src=\"pictures/square.png\">\n",
    "\n",
    "* Average value over period $T$ is ...?\n",
    "* It is an **odd**/**even**function?\n",
    "* It **has/has not** half-wave symmetry $f(t)=-f(t+T/2)$?"
   ]
  },
  {
   "cell_type": "markdown",
   "id": "51b7ad84",
   "metadata": {
    "slideshow": {
     "slide_type": "notes"
    }
   },
   "source": [
    "#### Shifted Squarewave\n",
    "\n",
    "<img src=\"pictures/shifted_sq.png\">\n",
    "\n",
    "* Average value over period $T$ is ...?\n",
    "* It is an **odd**/**even** function?\n",
    "* It **has/has not** half-wave symmetry $f(t)=-f(t+T/2)$?"
   ]
  },
  {
   "cell_type": "markdown",
   "id": "bca8af19",
   "metadata": {
    "slideshow": {
     "slide_type": "notes"
    }
   },
   "source": [
    "#### Sawtooth\n",
    "\n",
    "<img src=\"pictures/sawtooth.png\">\n",
    "\n",
    "* Average value over period $T$ is ...?\n",
    "* It is an **odd**/**even** function?\n",
    "* It **has/has not** half-wave symmetry $f(t)=-f(t+T/2)$?"
   ]
  },
  {
   "cell_type": "markdown",
   "id": "4b466600",
   "metadata": {
    "slideshow": {
     "slide_type": "notes"
    }
   },
   "source": [
    "#### Triangle\n",
    "\n",
    "<img src=\"pictures/triangle.png\">\n",
    "\n",
    "* Average value over period $T$ is ...?\n",
    "* It is an **odd**/**even**function?\n",
    "* It **has/has not** half-wave symmetry $f(t)=-f(t+T/2)$?"
   ]
  },
  {
   "cell_type": "markdown",
   "id": "c38a5888",
   "metadata": {
    "slideshow": {
     "slide_type": "notes"
    }
   },
   "source": [
    "### Symmetry in fundamental, Second and Third Harmonics\n",
    "\n",
    "In the following, $T/2$ is taken to be the half-period of the fundamental sinewave."
   ]
  },
  {
   "cell_type": "markdown",
   "id": "2b491d41",
   "metadata": {
    "slideshow": {
     "slide_type": "notes"
    }
   },
   "source": [
    "#### Fundamental\n",
    "\n",
    "<img src=\"pictures/fundamental.png\">\n",
    "\n",
    "\n",
    "* Average value over period $T$ is ...?\n",
    "* It is an **odd**/**even**function?\n",
    "* It **has/has not** half-wave symmetry $f(t)=-f(t+T/2)$?"
   ]
  },
  {
   "cell_type": "markdown",
   "id": "bc74586f",
   "metadata": {
    "slideshow": {
     "slide_type": "notes"
    }
   },
   "source": [
    "#### Second Harmonic\n",
    "\n",
    "<img src=\"pictures/2nd_harm.png\">\n",
    "\n",
    "\n",
    "* Average value over period $T$ is ...?\n",
    "* It is an **odd**/**even** function?\n",
    "* It **has/has not** half-wave symmetry $f(t)=-f(t+T/2)$?"
   ]
  },
  {
   "cell_type": "markdown",
   "id": "66f90bf2",
   "metadata": {
    "slideshow": {
     "slide_type": "notes"
    }
   },
   "source": [
    "#### Third Harmonic\n",
    "\n",
    "<img src=\"pictures/3rd_harm.png\">\n",
    "\n",
    "* Average value over period $T$ is ...?\n",
    "* It is an **odd**/**even** function?\n",
    "* It **has/has not** half-wave symmetry $f(t)=-f(t+T/2)$?"
   ]
  },
  {
   "cell_type": "markdown",
   "id": "2209f062",
   "metadata": {
    "slideshow": {
     "slide_type": "subslide"
    }
   },
   "source": [
    "### Some simplifications that result from symmetry\n",
    "\n",
    "* The limits of the integrals used to compute the coefficents $a_n$ and $b_n$ of the Fourier series are given as $0\\to 2\\pi$ which is one period $T$\n",
    "* We could also choose to integrate from $-\\pi \\to \\pi$\n",
    "* If the function is *odd*, or *even* or has *half-wave symmetry* we can compute $a_n$ and $b_n$ by integrating from $0\\to \\pi$ and multiplying by 2.\n",
    "* If we have *half-wave symmetry* we can compute $a_n$ and $b_n$ by integrating from $0\\to \\pi/2$ and multiplying by 4."
   ]
  },
  {
   "cell_type": "markdown",
   "id": "78086ac8",
   "metadata": {
    "slideshow": {
     "slide_type": "notes"
    }
   },
   "source": [
    "(For more details see page 7-10 of Karris)"
   ]
  },
  {
   "cell_type": "markdown",
   "id": "cda5f44b",
   "metadata": {
    "slideshow": {
     "slide_type": "subslide"
    }
   },
   "source": [
    "## Computing coefficients of Trig. Fourier Series in MATLAB \n",
    "\n",
    "As an example let's take a square wave with amplitude $\\pm A$ and period $T$.\n",
    "\n",
    "<img src=\"pictures/square_wave.png\">"
   ]
  },
  {
   "cell_type": "markdown",
   "id": "778d2d53",
   "metadata": {
    "slideshow": {
     "slide_type": "subslide"
    }
   },
   "source": [
    "### Solution"
   ]
  },
  {
   "cell_type": "code",
   "execution_count": 1,
   "id": "7d49b70b",
   "metadata": {
    "slideshow": {
     "slide_type": "fragment"
    }
   },
   "outputs": [],
   "source": [
    "clear all\n",
    "cd ../matlab\n",
    "format compact"
   ]
  },
  {
   "cell_type": "code",
   "execution_count": 2,
   "id": "72f1c6dd",
   "metadata": {
    "slideshow": {
     "slide_type": "fragment"
    }
   },
   "outputs": [],
   "source": [
    "syms t n A pi\n",
    "n = [1:11];"
   ]
  },
  {
   "cell_type": "markdown",
   "id": "38999f88",
   "metadata": {
    "slideshow": {
     "slide_type": "subslide"
    }
   },
   "source": [
    "DC component"
   ]
  },
  {
   "cell_type": "code",
   "execution_count": 3,
   "id": "13ca4d48",
   "metadata": {
    "slideshow": {
     "slide_type": "fragment"
    }
   },
   "outputs": [
    {
     "name": "stdout",
     "output_type": "stream",
     "text": [
      "half_a0 =\n"
     ]
    },
    {
     "name": "stdout",
     "output_type": "stream",
     "text": [
      "0\n"
     ]
    }
   ],
   "source": [
    "half_a0 = 1/(2*pi)*(int(A,t,0,pi)+int(-A,t,pi,2*pi))"
   ]
  },
  {
   "cell_type": "markdown",
   "id": "c4faba7a",
   "metadata": {
    "slideshow": {
     "slide_type": "subslide"
    }
   },
   "source": [
    "Compute harmonics"
   ]
  },
  {
   "cell_type": "code",
   "execution_count": 4,
   "id": "af24b3c8",
   "metadata": {
    "slideshow": {
     "slide_type": "fragment"
    }
   },
   "outputs": [],
   "source": [
    "ai = 1/pi*(int(A*cos(n*t),t,0,pi)+int(-A*cos(n*t),t,pi,2*pi));\n",
    "bi = 1/pi*(int(A*sin(n*t),t,0,pi)+int(-A*sin(n*t),t,pi,2*pi));"
   ]
  },
  {
   "cell_type": "markdown",
   "id": "710604b2",
   "metadata": {
    "slideshow": {
     "slide_type": "subslide"
    }
   },
   "source": [
    "Reconstruct $f(t)$ from harmonic sine functions"
   ]
  },
  {
   "cell_type": "code",
   "execution_count": 5,
   "id": "b27f746d",
   "metadata": {
    "slideshow": {
     "slide_type": "fragment"
    }
   },
   "outputs": [],
   "source": [
    "ft = half_a0;\n",
    "for k=1:length(n)\n",
    "    ft = ft + ai(k)*cos(k*t) + bi(k)*sin(k*t);\n",
    "end;"
   ]
  },
  {
   "cell_type": "markdown",
   "id": "8796be5a",
   "metadata": {
    "slideshow": {
     "slide_type": "subslide"
    }
   },
   "source": [
    "Make numeric"
   ]
  },
  {
   "cell_type": "code",
   "execution_count": 6,
   "id": "a9a77f17",
   "metadata": {
    "slideshow": {
     "slide_type": "fragment"
    }
   },
   "outputs": [],
   "source": [
    "ft_num = subs(ft,A,1.0);"
   ]
  },
  {
   "cell_type": "markdown",
   "id": "5bdd062a",
   "metadata": {
    "slideshow": {
     "slide_type": "fragment"
    }
   },
   "source": [
    "Print using 4 sig digits"
   ]
  },
  {
   "cell_type": "code",
   "execution_count": 7,
   "id": "d2f2182f",
   "metadata": {
    "slideshow": {
     "slide_type": "fragment"
    }
   },
   "outputs": [
    {
     "name": "stdout",
     "output_type": "stream",
     "text": [
      "ft_num =\n"
     ]
    },
    {
     "name": "stdout",
     "output_type": "stream",
     "text": [
      "(sin(t)*((2.0*cos(pi) + 1.0)*(cos(pi) - 1.0) - 1.0*cos(pi) + 1.0))/pi + (cos(4.0*t)*(0.5*sin(4.0*pi) - 0.25*sin(8.0*pi)))/pi + (cos(8.0*t)*(0.25*sin(8.0*pi) - 0.125*sin(16.0*pi)))/pi + (sin(5.0*t)*(0.2*cos(10.0*pi) - 0.2*cos(5.0*pi) + 0.4*sin(2.5*pi)^2))/pi + (sin(10.0*t)*(0.1*cos(20.0*pi) - 0.1*cos(10.0*pi) + 0.2*sin(5.0*pi)^2))/pi + (sin(9.0*t)*(0.1111*cos(18.0*pi) - 0.1111*cos(9.0*pi) + 0.2222*sin(4.5*pi)^2))/pi + (sin(11.0*t)*(0.09091*cos(22.0*pi) - 0.09091*cos(11.0*pi) + 0.1818*sin(5.5*pi)^2))/pi + (sin(3.0*t)*(0.3333*cos(6.0*pi) - 0.3333*cos(3.0*pi) + 0.6667*sin(1.5*pi)^2))/pi + (sin(6.0*t)*(0.1667*cos(12.0*pi) - 0.1667*cos(6.0*pi) + 0.3333*sin(3.0*pi)^2))/pi + (sin(7.0*t)*(0.1429*cos(14.0*pi) - 0.1429*cos(7.0*pi) + 0.2857*sin(3.5*pi)^2))/pi + (sin(2.0*t)*(sin(pi)^2 + sin(pi)^2*(4.0*sin(pi)^2 - 3.0)))/pi + (sin(4.0*t)*(0.25*cos(8.0*pi) - 0.25*cos(4.0*pi) + 0.5*sin(2.0*pi)^2))/pi + (sin(8.0*t)*(0.125*cos(16.0*pi) - 0.125*cos(8.0*pi) + 0.25*sin(4.0*pi)^2))/pi + (cos(9.0*t)*(0.2222*sin(9.0*pi) - 0.1111*sin"
     ]
    },
    {
     "name": "stdout",
     "output_type": "stream",
     "text": [
      "(18.0*pi)))/pi + (cos(5.0*t)*(0.4*sin(5.0*pi) - 0.2*sin(10.0*pi)))/pi + (cos(10.0*t)*(0.2*sin(10.0*pi) - 0.1*sin(20.0*pi)))/pi + (cos(2.0*t)*(0.5*sin(2.0*pi) + 0.5*sin(2.0*pi)*(4.0*sin(pi)^2 - 1.0)))/pi + (cos(11.0*t)*(0.1818*sin(11.0*pi) - 0.09091*sin(22.0*pi)))/pi + (cos(3.0*t)*(0.6667*sin(3.0*pi) - 0.3333*sin(6.0*pi)))/pi + (cos(6.0*t)*(0.3333*sin(6.0*pi) - 0.1667*sin(12.0*pi)))/pi + (cos(t)*(sin(pi) - 1.0*sin(pi)*(2.0*cos(pi) - 1.0)))/pi + (cos(7.0*t)*(0.2857*sin(7.0*pi) - 0.1429*sin(14.0*pi)))/pi\n"
     ]
    }
   ],
   "source": [
    "ft_num = vpa(ft_num, 4)"
   ]
  },
  {
   "cell_type": "markdown",
   "id": "cdfc5b67",
   "metadata": {
    "slideshow": {
     "slide_type": "subslide"
    }
   },
   "source": [
    "Plot result"
   ]
  },
  {
   "cell_type": "code",
   "execution_count": 8,
   "id": "44f702ee",
   "metadata": {
    "slideshow": {
     "slide_type": "subslide"
    }
   },
   "outputs": [
    {
     "data": {
      "image/png": "[encoded data removed]",
      "text/plain": [
       "<IPython.core.display.Image object>"
      ]
     },
     "metadata": {
      "filenames": {
       "image/png": "/Users/eechris/code/src/github.com/cpjobling/eg-247-textbook/_build/jupyter_execute/fourier_series/1/trig_fseries_45_0.png"
      }
     },
     "output_type": "display_data"
    }
   ],
   "source": [
    "ezplot(ft_num),grid"
   ]
  },
  {
   "cell_type": "markdown",
   "id": "27169534",
   "metadata": {
    "slideshow": {
     "slide_type": "subslide"
    }
   },
   "source": [
    "Plot original signal (we could use `heaviside` for this as well)"
   ]
  },
  {
   "cell_type": "code",
   "execution_count": 9,
   "id": "0d46b563",
   "metadata": {
    "slideshow": {
     "slide_type": "fragment"
    }
   },
   "outputs": [
    {
     "data": {
      "image/png": "[encoded data removed]",
      "text/plain": [
       "<IPython.core.display.Image object>"
      ]
     },
     "metadata": {
      "filenames": {
       "image/png": "/Users/eechris/code/src/github.com/cpjobling/eg-247-textbook/_build/jupyter_execute/fourier_series/1/trig_fseries_47_0.png"
      }
     },
     "output_type": "display_data"
    }
   ],
   "source": [
    "ezplot(ft_num)\n",
    "hold on\n",
    "clear pi\n",
    "t = [-3,-2,-2,-2,-1,-1,-1,0,0,0,1,1,1,2,2,2,3]*pi;\n",
    "f = [-1,-1,0,1,1,0,-1,-1,0,1,1,0,-1,-1,0,1,1];\n",
    "plot(t,f,'r-')\n",
    "grid\n",
    "title('Square Wave Reconstructed from Sinewaves')\n",
    "hold off"
   ]
  },
  {
   "cell_type": "markdown",
   "id": "aa0b8b3c",
   "metadata": {
    "slideshow": {
     "slide_type": "notes"
    }
   },
   "source": [
    "To run the full solution yourself download and run [square_ftrig.mlx](https://cpjobling.github.io/eg-247-textbook/fourier_series/matlab/square_ftrig.mlx)."
   ]
  },
  {
   "cell_type": "markdown",
   "id": "f7eb22e9",
   "metadata": {
    "slideshow": {
     "slide_type": "subslide"
    }
   },
   "source": [
    "The Result confirms that:\n",
    "\n",
    "* $a_0 = 0$\n",
    "* $a_i = 0$: function is odd\n",
    "* $b_i = 0$: for $i$ even - half-wave symmetry\n",
    "\n",
    "```\n",
    "ft =\n",
    " \n",
    "(4*A*sin(t))/pi + (4*A*sin(3*t))/(3*pi) + (4*A*sin(5*t))/(5*pi) + (4*A*sin(7*t))/(7*pi) + (4*A*sin(9*t))/(9*pi) + (4*A*sin(11*t))/(11*pi)\n",
    "```"
   ]
  },
  {
   "cell_type": "markdown",
   "id": "35a53ba9",
   "metadata": {
    "slideshow": {
     "slide_type": "notes"
    }
   },
   "source": [
    "Note that the coefficients match those given in the textbook (Section 7.4.1).\n",
    "\n",
    "$$f(t) = \\frac{4A}{\\pi}\\left(\\sin \\Omega_0 t + \\frac{1}{3}\\sin 3\\Omega_0 t + \\frac{1}{5}\\sin 5\\Omega_0 t + \\cdots\\right) = \\frac{4A}{\\pi}\\sum_{n=\\mathrm{odd}}\\frac{1}{n}\\sin n\\Omega_0 t$$"
   ]
  },
  {
   "cell_type": "markdown",
   "id": "b5b5d3a2",
   "metadata": {
    "slideshow": {
     "slide_type": "subslide"
    }
   },
   "source": [
    "### Using symmetry - computing the Fourier series coefficients of the shifted square wave\n",
    "\n",
    "<img src=\"pictures/shifted_square_wave.png\">"
   ]
  },
  {
   "cell_type": "markdown",
   "id": "430b7600",
   "metadata": {
    "slideshow": {
     "slide_type": "notes"
    }
   },
   "source": [
    "Calculation of Fourier coefficients for Shifted Square Wave Exploiting half-wave symmetry. This is almost the same procedure as before. You can confirm the results by downloading and executing this file: [shifted_sq_ftrig.mlx](https://cpjobling.github.io/eg-247-textbook/fourier_series/matlab/shifted_sq_ftrig.mlx)."
   ]
  },
  {
   "cell_type": "code",
   "execution_count": 10,
   "id": "0a7eafe7",
   "metadata": {
    "slideshow": {
     "slide_type": "notes"
    }
   },
   "outputs": [],
   "source": [
    "clear all\n",
    "syms t n A pi"
   ]
  },
  {
   "cell_type": "markdown",
   "id": "766f16a6",
   "metadata": {
    "slideshow": {
     "slide_type": "notes"
    }
   },
   "source": [
    "Define harmonics"
   ]
  },
  {
   "cell_type": "code",
   "execution_count": 11,
   "id": "47406c3d",
   "metadata": {
    "slideshow": {
     "slide_type": "notes"
    }
   },
   "outputs": [],
   "source": [
    "n = [1:11];"
   ]
  },
  {
   "cell_type": "markdown",
   "id": "e6d1bdf2",
   "metadata": {
    "slideshow": {
     "slide_type": "notes"
    }
   },
   "source": [
    "DC component"
   ]
  },
  {
   "cell_type": "code",
   "execution_count": 12,
   "id": "5373d149",
   "metadata": {
    "slideshow": {
     "slide_type": "notes"
    }
   },
   "outputs": [
    {
     "name": "stdout",
     "output_type": "stream",
     "text": [
      "half_a0 =\n",
      "     0\n"
     ]
    }
   ],
   "source": [
    "half_a0 = 0"
   ]
  },
  {
   "cell_type": "markdown",
   "id": "941d4af2",
   "metadata": {
    "slideshow": {
     "slide_type": "notes"
    }
   },
   "source": [
    "Compute harmonics - use half-wave symmetry"
   ]
  },
  {
   "cell_type": "code",
   "execution_count": 13,
   "id": "75c6cca8",
   "metadata": {
    "slideshow": {
     "slide_type": "notes"
    }
   },
   "outputs": [],
   "source": [
    "ai = 4/pi*int(A*cos(n*t),t,0,(sym(pi)/2));"
   ]
  },
  {
   "cell_type": "code",
   "execution_count": 14,
   "id": "56cdd861",
   "metadata": {
    "slideshow": {
     "slide_type": "notes"
    }
   },
   "outputs": [],
   "source": [
    "bi = zeros(size(n));"
   ]
  },
  {
   "cell_type": "markdown",
   "id": "01b2a4f1",
   "metadata": {
    "slideshow": {
     "slide_type": "notes"
    }
   },
   "source": [
    "Reconstruct f(t) from harmonic sine functions"
   ]
  },
  {
   "cell_type": "code",
   "execution_count": 15,
   "id": "aee1801b",
   "metadata": {
    "slideshow": {
     "slide_type": "notes"
    }
   },
   "outputs": [],
   "source": [
    "ft = half_a0;\n",
    "for k=1:length(n)\n",
    "    ft = ft + ai(k)*cos(k*t) + bi(k)*sin(k*t);\n",
    "end"
   ]
  },
  {
   "cell_type": "markdown",
   "id": "0222c12a",
   "metadata": {
    "slideshow": {
     "slide_type": "notes"
    }
   },
   "source": [
    "Make numeric and print to 4 sig. figs."
   ]
  },
  {
   "cell_type": "code",
   "execution_count": 16,
   "id": "a8019a63",
   "metadata": {
    "slideshow": {
     "slide_type": "notes"
    }
   },
   "outputs": [
    {
     "name": "stdout",
     "output_type": "stream",
     "text": [
      "ft_num =\n"
     ]
    },
    {
     "name": "stdout",
     "output_type": "stream",
     "text": [
      "(cos(4.0*t)*sin(2.0*pi))/pi + (0.5*cos(8.0*t)*sin(4.0*pi))/pi + (0.4444*cos(9.0*t)*sin(4.5*pi))/pi + (0.8*cos(5.0*t)*sin(2.5*pi))/pi + (0.4*cos(10.0*t)*sin(5.0*pi))/pi + (0.3636*cos(11.0*t)*sin(5.5*pi))/pi + (1.333*cos(3.0*t)*sin(1.5*pi))/pi + (0.6667*cos(6.0*t)*sin(3.0*pi))/pi + (0.5714*cos(7.0*t)*sin(3.5*pi))/pi + (4.0*sin(0.5*pi)*cos(t))/pi + (2.0*cos(2.0*t)*sin(pi))/pi\n"
     ]
    }
   ],
   "source": [
    "ft_num = subs(ft,A,1.0);\n",
    "ft_num = vpa(ft_num, 4)"
   ]
  },
  {
   "cell_type": "markdown",
   "id": "b0895de2",
   "metadata": {
    "slideshow": {
     "slide_type": "notes"
    }
   },
   "source": [
    "plot result and overlay original signal (we could use `heaviside` for this as well."
   ]
  },
  {
   "cell_type": "code",
   "execution_count": 17,
   "id": "8980e101",
   "metadata": {
    "slideshow": {
     "slide_type": "notes"
    }
   },
   "outputs": [
    {
     "data": {
      "image/png": "[encoded data removed]",
      "text/plain": [
       "<IPython.core.display.Image object>"
      ]
     },
     "metadata": {
      "filenames": {
       "image/png": "/Users/eechris/code/src/github.com/cpjobling/eg-247-textbook/_build/jupyter_execute/fourier_series/1/trig_fseries_66_0.png"
      }
     },
     "output_type": "display_data"
    }
   ],
   "source": [
    "clear pi\n",
    "ezplot(ft_num)\n",
    "hold on\n",
    "t = [-3,-2,-2,-2,-1,-1,-1,0,0,0,1,1,1,2,2,2,3]*pi;\n",
    "f = [-1,-1,0,1,1,0,-1,-1,0,1,1,0,-1,-1,0,1,1];\n",
    "plot(t-pi/2,f,'r-')\n",
    "axis([-10,10,-1.5,1.5])\n",
    "grid\n",
    "title('Shifted Square Waveform Reconstructed from Cosines')\n",
    "hold off"
   ]
  },
  {
   "cell_type": "markdown",
   "id": "d5701490",
   "metadata": {
    "slideshow": {
     "slide_type": "subslide"
    }
   },
   "source": [
    "* As before $a_0=0$\n",
    "* We observe that this function is even, so all $b_k$ coefficents will be zero\n",
    "* The waveform has half-wave symmetry, so only odd indexed coefficents will be present.\n",
    "* Further more, because it has half-wave symmetry we can just integrate from $0 \\to \\pi/2$ and multiply the result by 4."
   ]
  },
  {
   "cell_type": "markdown",
   "id": "57697955",
   "metadata": {
    "slideshow": {
     "slide_type": "notes"
    }
   },
   "source": [
    "Note that the coefficients match those given in the textbook (Section 7.4.2).\n",
    "\n",
    "$$f(t) = \\frac{4A}{\\pi}\\left(\\cos \\Omega_0 t - \\frac{1}{3}\\cos 3\\Omega_0 t + \\frac{1}{5}\\cos 5\\Omega_0 t - \\cdots\\right) = \\frac{4A}{\\pi}\\sum_{n=\\mathrm{odd}}(-1)^{\\frac{n-1}{2}} \\frac{1}{n}\\cos n\\Omega_0 t$$"
   ]
  },
  {
   "cell_type": "markdown",
   "id": "557f4b7f",
   "metadata": {
    "slideshow": {
     "slide_type": "slide"
    }
   },
   "source": [
    "## Gibbs Phenomenon\n",
    "\n",
    "In an earlier slide we found that the trigonometric for of the Fourier series of the square waveform is\n",
    "\n",
    "$$f(t) = \\frac{4A}{\\pi}\\left(\\sin \\Omega_0 t + \\frac{1}{3}\\sin 3\\Omega_0 t + \\frac{1}{5}\\sin 5\\Omega_0 t + \\cdots\\right) = \\frac{4A}{\\pi}\\sum_{n=\\mathrm{odd}}\\frac{1}{n}\\sin n\\Omega_0 t$$"
   ]
  },
  {
   "cell_type": "markdown",
   "id": "a14ebdf8",
   "metadata": {
    "slideshow": {
     "slide_type": "slide"
    }
   },
   "source": [
    "This figure shows the approximation for the first 11 harmonics:\n",
    "\n",
    "<img src=\"pictures/fsq_trig.png\">\n",
    "\n",
    "As we add more harmonics, the sum looks more and more like a square wave. However the crests do not become flattened; this is known as *Gibbs Phenomenon* and it occurs because of the discontinuity of the perfect sqare waveform as it changes from \n",
    "$+A$ to $-A$ and *vice versa*."
   ]
  }
 ],
 "metadata": {
  "jupytext": {
   "formats": "ipynb,md:myst",
   "text_representation": {
    "extension": ".md",
    "format_name": "myst",
    "format_version": 0.13,
    "jupytext_version": "1.14.4"
   }
  },
  "kernelspec": {
   "display_name": "Matlab",
   "language": "matlab",
   "name": "matlab"
  },
  "language_info": {
   "codemirror_mode": "octave",
   "file_extension": ".m",
   "help_links": [
    {
     "text": "MetaKernel Magics",
     "url": "https://metakernel.readthedocs.io/en/latest/source/README.html"
    }
   ],
   "mimetype": "text/x-octave",
   "name": "matlab",
   "version": "0.17.1"
  },
  "source_map": [
   15,
   23,
   35,
   41,
   45,
   49,
   53,
   57,
   61,
   65,
   75,
   85,
   106,
   116,
   120,
   130,
   142,
   151,
   158,
   168,
   174,
   184,
   194,
   204,
   214,
   220,
   231,
   242,
   252,
   261,
   265,
   273,
   277,
   287,
   296,
   300,
   308,
   312,
   321,
   325,
   336,
   340,
   348,
   352,
   360,
   364,
   372,
   376,
   392,
   396,
   410,
   416,
   422,
   426,
   435,
   439,
   447,
   451,
   459,
   463,
   471,
   479,
   483,
   494,
   498,
   507,
   511,
   528,
   535,
   541,
   549
  ]
 },
 "nbformat": 4,
 "nbformat_minor": 5
}