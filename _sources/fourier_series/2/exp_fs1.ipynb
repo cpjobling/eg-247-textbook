{
 "cells": [
  {
   "cell_type": "markdown",
   "id": "9fdf2aa1",
   "metadata": {
    "slideshow": {
     "slide_type": "slide"
    }
   },
   "source": [
    "(exp_fs1)=\n",
    "\n",
    "# Unit 3.2: Exponential Fourier Series"
   ]
  },
  {
   "cell_type": "markdown",
   "id": "b9b914e9",
   "metadata": {
    "slideshow": {
     "slide_type": "notes"
    }
   },
   "source": [
    "## Colophon\n",
    "\n",
    "An annotatable worksheet for this presentation is available as {ref}`ws3`.\n",
    "\n",
    "- The source code for this page is [fourier_series/2/exp_fs1.md](https://github.com/cpjobling/eg-247-textbook/blob/master/fourier_series/2/exp_fs1.md).\n",
    "\n",
    "- You can view the notes for this presentation as a webpage ({ref}`exp_fs1`).\n",
    "\n",
    "- This page is downloadable as a [PDF](https://cpjobling.github.io/eg-247-textbook/fourier_series/2/exp_fs1.pdf) file."
   ]
  },
  {
   "cell_type": "markdown",
   "id": "d15eddbe",
   "metadata": {
    "slideshow": {
     "slide_type": "notes"
    }
   },
   "source": [
    "This section builds on our study of {ref}`trig_fseries`.\n",
    "\n",
    "Trigonometric Fourier series uses integration of a periodic signal multiplied by sines and cosines at the fundamental and harmonic frequencies. If performed by hand, this can a painstaking process. Even with the simplifications made possible by exploiting waveform symmetries, there is still a need to integrate cosine and sine terms, be aware of and able to exploit the trigonometrc identities, and the properties of _orthogonal functions_ before we can arrive at the simplified solutions. This is why I concentrated on the properties and left the computation to a computer.\n",
    "\n",
    "However, by exploiting the exponential function $e^{at}$, we can derive a method for calculating the coefficients of the harmonics that is much easier to calculate by hand and converted into an algorithm that can be executed by computer.\n",
    "\n",
    "The result is called the _Exponential Fourier Series_."
   ]
  },
  {
   "cell_type": "markdown",
   "id": "337247c6",
   "metadata": {
    "slideshow": {
     "slide_type": "slide"
    }
   },
   "source": [
    "## Agenda\n",
    "\n",
    "- Exponents and Euler's Equation\n",
    "- The Exponential Fourier series\n",
    "- Symmetry in Exponential Fourier Series\n",
    "- Example"
   ]
  },
  {
   "cell_type": "markdown",
   "id": "2ef0209e",
   "metadata": {
    "slideshow": {
     "slide_type": "slide"
    }
   },
   "source": [
    "## The Exponential Function $e^{at}$\n",
    "\n",
    "- You should already be familiar with $e^{at}$ because it appears in the solution of differential equations.\n",
    "- It is also a function that appears in the definition of the Laplace and Inverse Laplace Transform.\n",
    "- It pops up again and again in tables and properies of the Laplace Transform."
   ]
  },
  {
   "cell_type": "markdown",
   "id": "49a1cd13",
   "metadata": {
    "slideshow": {
     "slide_type": "subslide"
    }
   },
   "source": [
    "### Case when a is real.\n",
    "\n",
    "When $a$ is real the function $e^{at}$ will take one of the two forms illustrated below:"
   ]
  },
  {
   "cell_type": "code",
   "execution_count": 1,
   "id": "b006a5a4",
   "metadata": {
    "slideshow": {
     "slide_type": "subslide"
    }
   },
   "outputs": [],
   "source": [
    "clear all\n",
    "setappdata(0, \"MKernel_plot_format\", 'svg')"
   ]
  },
  {
   "cell_type": "code",
   "execution_count": null,
   "id": "4aa846fe",
   "metadata": {
    "slideshow": {
     "slide_type": "subslide"
    }
   },
   "outputs": [],
   "source": [
    "%% The decaying exponential\n",
    "t=linspace(-1,2,1000);\n",
    "figure\n",
    "plot(t,exp(t),t,exp(0.*t),t,exp(-t))\n",
    "axis([-1,2,-1,8])\n",
    "title('exp(at) -- a real')\n",
    "xlabel('t (s)')\n",
    "ylabel('exp(t) and exp(-t)')\n",
    "legend('exp(t)','exp(0)','exp(-t)')\n",
    "grid\n",
    "hold off"
   ]
  },
  {
   "cell_type": "markdown",
   "id": "6a9ace64",
   "metadata": {
    "slideshow": {
     "slide_type": "notes"
    }
   },
   "source": [
    "You can regenerate this image generated with this Matlab script: [expon.m](https://cpjobling.github.io/eg-247-textbook/fourier_series/matlab/expon.m)."
   ]
  },
  {
   "cell_type": "markdown",
   "id": "d58d0e97",
   "metadata": {
    "slideshow": {
     "slide_type": "subslide"
    }
   },
   "source": [
    "- When $a < 0$ the response is a decaying exponential (red line in plot)\n",
    "- When $a = 0$ $e^{at} = 1$ -- essentially a model of DC\n",
    "- When $a > 0$ the response is an _unbounded_ increasing exponential (blue line in plot)"
   ]
  },
  {
   "cell_type": "markdown",
   "id": "1c299ebc",
   "metadata": {
    "slideshow": {
     "slide_type": "subslide"
    }
   },
   "source": [
    "### Case when a is imaginary\n",
    "\n",
    "<img src=\"pictures/euler.png\" title=\"exp(j*omega*t) = cos(omega*t) + j*sin(omega*t)\">"
   ]
  },
  {
   "cell_type": "markdown",
   "id": "bc7e86c8",
   "metadata": {
    "slideshow": {
     "slide_type": "notes"
    }
   },
   "source": [
    "This is the case that helps us to simplify the computation of sinusoidal Fourier series.\n",
    "\n",
    "It was [Leonhard Euler](https://en.wikipedia.org/wiki/Leonhard_Euler) who discovered the [formula](https://en.wikipedia.org/wiki/Euler%27s_formula) visualized above."
   ]
  },
  {
   "cell_type": "markdown",
   "id": "bad2b03f",
   "metadata": {
    "slideshow": {
     "slide_type": "subslide"
    }
   },
   "source": [
    "#### Some important values of $\\omega t$\n",
    "\n",
    "These are useful when simplifying expressions that result from integrating functions that involve the imaginary exponential\n",
    "\n",
    "Give the following:\n",
    "\n",
    "- $e^{j\\omega t}$ when $\\omega t = 0$\n",
    "- $e^{j\\omega t}$ when $\\omega t = \\pi/2$\n",
    "- $e^{j\\omega t}$ when $\\omega t = \\pi$\n",
    "- $e^{j\\omega t}$ when $\\omega t = 3\\pi/2$\n",
    "- $e^{j\\omega t}$ when $\\omega t = 2\\pi$"
   ]
  },
  {
   "cell_type": "markdown",
   "id": "b54ed708",
   "metadata": {
    "slideshow": {
     "slide_type": "subslide"
    }
   },
   "source": [
    "### Case where $a$ is complex\n",
    "\n",
    "We shall not say much about this case except to note that the Laplace transform equation includes such a number. The variable $s$ in the Laplace Transform\n",
    "\n",
    "$$\\int_{0}^{\\infty} f(t)e^{-st} dt$$\n",
    "\n",
    "is a _complex exponential_."
   ]
  },
  {
   "cell_type": "markdown",
   "id": "e4357a40",
   "metadata": {
    "slideshow": {
     "slide_type": "notes"
    }
   },
   "source": [
    "The consequences of a complex $s$ have particular significance in the development of system stability theories and in control systems analysis and design. Look out for them in EG-243."
   ]
  },
  {
   "cell_type": "markdown",
   "id": "1a3e2696",
   "metadata": {
    "slideshow": {
     "slide_type": "subslide"
    }
   },
   "source": [
    "### Two Other Important Properties\n",
    "\n",
    "By use of trig. identities, it is relatively straight forward to show that:"
   ]
  },
  {
   "cell_type": "markdown",
   "id": "dd0e2c42",
   "metadata": {
    "slideshow": {
     "slide_type": "fragment"
    }
   },
   "source": [
    "$$\\cos \\omega t = \\frac{e^{j\\omega t} + e^{-j\\omega t}}{2}$$"
   ]
  },
  {
   "cell_type": "markdown",
   "id": "08668608",
   "metadata": {
    "slideshow": {
     "slide_type": "fragment"
    }
   },
   "source": [
    "and\n",
    "\n",
    "$$\\sin \\omega t = \\frac{e^{j\\omega t} - e^{-j\\omega t}}{j2}$$"
   ]
  },
  {
   "cell_type": "markdown",
   "id": "d7b5ad86",
   "metadata": {
    "slideshow": {
     "slide_type": "notes"
    }
   },
   "source": [
    "We can use this result to convert the _Trigonometric Fourier Series_ into an _Exponential Fourier Series_ which has only one integral term to solve per harmonic."
   ]
  },
  {
   "cell_type": "markdown",
   "id": "2c5b10d0",
   "metadata": {
    "slideshow": {
     "slide_type": "slide"
    }
   },
   "source": [
    "## The Exponential Fourier Series\n",
    "\n",
    "As [as stated in the notes on the Trigonometric Fourier Series](../1/trig_fseries) any periodic waveform $f(t)$ can be represented as\n",
    "\n",
    "$$\n",
    "\\begin{gathered}\n",
    "  f(t) = \\frac{1}{2}{a_0} + {a_1}\\cos \\Omega_0 t + {a_2}\\cos 2\\Omega_0 t +  \\cdots  \\\\\n",
    "   + {b_1}\\sin \\Omega_0 t + {b_2}\\sin 2\\Omega_0 t +  \\cdots  \\\\\n",
    "\\end{gathered}\n",
    "$$"
   ]
  },
  {
   "cell_type": "markdown",
   "id": "da5b5a60",
   "metadata": {
    "slideshow": {
     "slide_type": "subslide"
    }
   },
   "source": [
    "Let us replace the $\\cos$ and $\\sin$ terms with their imaginary exponential equivalents:\n",
    "\n",
    "$$\n",
    "\\begin{gathered}\n",
    "  f(t) = \\frac{1}{2}{a_0} + {a_1}\\left(\\frac{e^{j\\Omega_0 t} + e^{-j\\Omega_0 t}}{2}\\right) + {a_2}\\left(\\frac{e^{j2\\Omega_0 t} + e^{-j2\\Omega_0 t}}{2}\\right) +  \\cdots  \\\\\n",
    "   + {b_1}\\left(\\frac{e^{j\\Omega_0 t} - e^{-j\\Omega_0 t}}{j2}\\right) + {b_2}\\left(\\frac{e^{j2\\Omega_0 t} - e^{-j2\\Omega_0 t}}{j2}\\right) +  \\cdots  \\\\\n",
    "\\end{gathered}\n",
    "$$"
   ]
  },
  {
   "cell_type": "markdown",
   "id": "43230839",
   "metadata": {
    "slideshow": {
     "slide_type": "subslide"
    }
   },
   "source": [
    "### Grouping terms with same exponents\n",
    "\n",
    "$$f(t) = \\cdots + \\left(\\frac{a_2}{2}-\\frac{b_2}{j2}\\right)e^{-j2\\Omega_0 t} + \\left(\\frac{a_1}{2}-\\frac{b_1}{j2}\\right)e^{-j\\Omega_0 t} + \\frac{1}{2}{a_0} + \\left(\\frac{a_1}{2}+\\frac{b_1}{j2}\\right)e^{j\\Omega_0 t} + \\left(\\frac{a_2}{2}+\\frac{b_2}{j2}\\right)e^{j2\\Omega_0 t} +\\cdots $$"
   ]
  },
  {
   "cell_type": "markdown",
   "id": "fd42ee7b",
   "metadata": {
    "slideshow": {
     "slide_type": "subslide"
    }
   },
   "source": [
    "### New coefficients\n",
    "\n",
    "The terms in parentheses are usually denoted as\n",
    "\n",
    "$$C_{-k} = \\frac{1}{2}\\left(a_k-\\frac{b_k}{j}\\right) = \\frac{1}{2}\\left(a_k+j b_k\\right)$$\n",
    "\n",
    "$$C_{k} = \\frac{1}{2}\\left(a_k+\\frac{b_k}{j}\\right) = \\frac{1}{2}\\left(a_k-j b_k\\right)$$\n",
    "\n",
    "$$C_0 = \\frac{1}{2}a_0$$"
   ]
  },
  {
   "cell_type": "markdown",
   "id": "49bc1a0a",
   "metadata": {
    "slideshow": {
     "slide_type": "subslide"
    }
   },
   "source": [
    "The Exponential Fourier Series is\n",
    "\n",
    "$$f(t) = \\cdots + C_{-2}e^{-j2\\Omega_0 t} + C_{-1}e^{-j\\Omega_0 t} + C_0 + C_{1}e^{j\\Omega_0 t} + C_{2}e^{j2\\Omega_0 t} +\\cdots $$\n",
    "\n",
    "or more compactly\n",
    "\n",
    "$$f(t) = \\sum_{k=-n}^{n}C_{k}e^{jk \\Omega_0  t}$$"
   ]
  },
  {
   "cell_type": "markdown",
   "id": "0b2b7200",
   "metadata": {
    "slideshow": {
     "slide_type": "notes"
    }
   },
   "source": [
    "**Important**\n",
    "\n",
    "The $C_k$ coefficents, except for $C_0$ are _complex_ and appear in conjugate pairs so\n",
    "\n",
    "$$C_{-k} = C_k^*$$"
   ]
  },
  {
   "cell_type": "markdown",
   "id": "36d07900",
   "metadata": {
    "slideshow": {
     "slide_type": "subslide"
    }
   },
   "source": [
    "### Evaluation of the complex coefficients\n",
    "\n",
    "The coefficients are obtained from the following expressions:\n",
    "\n",
    "$$C_k = \\frac{1}{2\\pi}\\int_{0}^{2\\pi}f(\\Omega_0 t)e^{-jk(\\Omega_0 t)}\\,d(\\Omega_0 t) = \\frac{1}{2\\pi}\\int_{0}^{2\\pi}f(\\theta)e^{-jk\\theta}\\,d\\theta$$\n",
    "\n",
    "or\n",
    "\n",
    "$$C_k = \\frac{1}{T}\\int_{0}^{T}f(t)e^{-jk\\Omega_0 t}\\,dt$$"
   ]
  },
  {
   "cell_type": "markdown",
   "id": "bc93c4c2",
   "metadata": {
    "slideshow": {
     "slide_type": "notes"
    }
   },
   "source": [
    "These are much easier to derive and compute than the equivalent Trigonemetric Fourier Series coefficients[^footnt].\n",
    "\n",
    "[^footnt]: The analysis that leads to this result is provided between pages [7-31 and 7-32](https://ebookcentral.proquest.com/lib/swansea-ebooks/reader.action?ppg=243&docID=44853&tm=1518704101461) of the text book {cite}`karris`. It is not a difficult proof, but we are more interested in the result."
   ]
  },
  {
   "cell_type": "markdown",
   "id": "ea14f030",
   "metadata": {
    "slideshow": {
     "slide_type": "subslide"
    }
   },
   "source": [
    "### Trigonometric Fourier Series from Exponential Fourier Series\n",
    "\n",
    "By substituting $C_{-k}$ and $C_{k}$ back into the original expansion\n",
    "\n",
    "$$C_k+C_{-k} = \\frac{1}{2}\\left(a_k-jb_k + a_k+jb_k\\right)$$\n",
    "\n",
    "so\n",
    "\n",
    "$$a_k = C_k + C_{-k}$$"
   ]
  },
  {
   "cell_type": "markdown",
   "id": "60daaa19",
   "metadata": {
    "slideshow": {
     "slide_type": "subslide"
    }
   },
   "source": [
    "Similarly\n",
    "\n",
    "$$C_k-C_{-k} = \\frac{1}{2}\\left(a_k-jb_k - a_k-jb_k\\right)$$\n",
    "\n",
    "so\n",
    "\n",
    "$$b_k = j\\left(C_k - C_{-k}\\right)$$\n",
    "\n",
    "Thus, we can easily go back to the trigonometric Fourier series if we need to."
   ]
  },
  {
   "cell_type": "markdown",
   "id": "39f184d0",
   "metadata": {
    "slideshow": {
     "slide_type": "slide"
    }
   },
   "source": [
    "## Symmetry in exponential Fourier series\n",
    "\n",
    "Since the coefficients of the exponential Fourier series are complex numbers, we can use symmetry to determine the form of the coefficients and thereby simplify the computation of series for wave forms that have symmetry."
   ]
  },
  {
   "cell_type": "markdown",
   "id": "71622264",
   "metadata": {
    "slideshow": {
     "slide_type": "subslide"
    }
   },
   "source": [
    "### Even Functions\n",
    "\n",
    "For even functions, all the coefficients $C_k$ are real."
   ]
  },
  {
   "cell_type": "markdown",
   "id": "d1684574",
   "metadata": {
    "slideshow": {
     "slide_type": "notes"
    }
   },
   "source": [
    "**Proof**\n",
    "\n",
    "Recall\n",
    "\n",
    "$$C_{-k} = \\frac{1}{2}\\left(a_k-\\frac{b_k}{j}\\right) = \\frac{1}{2}\\left(a_k+jb_k\\right)$$\n",
    "\n",
    "and\n",
    "\n",
    "$$C_k = \\frac{1}{2}\\left(a_k+\\frac{b_k}{j}\\right) = \\frac{1}{2}\\left(a_k-jb_k\\right)$$\n",
    "\n",
    "From knowledge of the trig. fourier series, even functions have no sine terms so the $b_k$ coefficients are 0. Therefore both $C_{-k}$ and $C_k$ are real."
   ]
  },
  {
   "cell_type": "markdown",
   "id": "f6804199",
   "metadata": {
    "slideshow": {
     "slide_type": "subslide"
    }
   },
   "source": [
    "### Odd Functions\n",
    "\n",
    "For odd functions, all coefficients $C_k$ are imaginary."
   ]
  },
  {
   "cell_type": "markdown",
   "id": "8ac130d7",
   "metadata": {
    "slideshow": {
     "slide_type": "subslide"
    }
   },
   "source": [
    "By a similar argument, all odd functions have no cosine terms so the $a_k$ coefficients are 0. Therefore both $C_{-k}$ and $C_k$ are imaginary."
   ]
  },
  {
   "cell_type": "markdown",
   "id": "9056deab",
   "metadata": {
    "slideshow": {
     "slide_type": "subslide"
    }
   },
   "source": [
    "### Half-wave symmetry\n",
    "\n",
    "If there is _half-wave symmetry_, $C_k = 0$ for $k$ even."
   ]
  },
  {
   "cell_type": "markdown",
   "id": "e6e372ce",
   "metadata": {
    "slideshow": {
     "slide_type": "notes"
    }
   },
   "source": [
    "**Proof**\n",
    "\n",
    "From trigonometric Fourier series, if there is half-wave symmetry, all even harnonics are zero, thus both $a_k$ and $b_k$ are zero for $k$ even. Hence $C_{-k}$ and $C_k$ are also zero when $k$ is even."
   ]
  },
  {
   "cell_type": "markdown",
   "id": "86bba716",
   "metadata": {
    "slideshow": {
     "slide_type": "subslide"
    }
   },
   "source": [
    "### No symmetry\n",
    "\n",
    "If there is no symmetry the exponential Fourier series of $f(t)$ is complex."
   ]
  },
  {
   "cell_type": "markdown",
   "id": "d63bbd25",
   "metadata": {
    "slideshow": {
     "slide_type": "subslide"
    }
   },
   "source": [
    "### Relation of $C_{-k}$ to $C_{k}$\n",
    "\n",
    "$C_{-k} = C_{k}^*$ **always**"
   ]
  },
  {
   "cell_type": "markdown",
   "id": "f3279539",
   "metadata": {
    "slideshow": {
     "slide_type": "subslide"
    }
   },
   "source": [
    "## Example 1\n",
    "\n",
    "Compute the Exponential Fourier Series for the square wave shown below assuming that $\\omega = 1$\n",
    "\n",
    "<img src=\"pictures/sqw.png\">"
   ]
  },
  {
   "cell_type": "markdown",
   "id": "13a2cec7",
   "metadata": {
    "slideshow": {
     "slide_type": "subslide"
    }
   },
   "source": [
    "### Will be solved by hand in Class"
   ]
  },
  {
   "cell_type": "markdown",
   "id": "0e1227c9",
   "metadata": {
    "slideshow": {
     "slide_type": "notes"
    }
   },
   "source": [
    "#### Some questions for you\n",
    "\n",
    "- Square wave is an [**odd/even/neither**] function?\n",
    "- DC component is [**zero/non-zero**]?\n",
    "- Square wave [**has/does not have**] half-wave symmetry?"
   ]
  },
  {
   "cell_type": "markdown",
   "id": "e2e804d3",
   "metadata": {
    "slideshow": {
     "slide_type": "notes"
    }
   },
   "source": [
    "Hence\n",
    "\n",
    "- $C_0 = $[**?**]\n",
    "- Coefficients $C_k$ are [**real/imaginary/complex**]?\n",
    "- Subscripts $k$ are [**odd only/even only/both odd and even**]?\n",
    "- What is the integral that needs to be solved for $C_k$?"
   ]
  },
  {
   "cell_type": "markdown",
   "id": "38aff37d",
   "metadata": {
    "slideshow": {
     "slide_type": "notes"
    }
   },
   "source": [
    "#### Solution to example 1\n",
    "\n",
    "The integral is\n",
    "\n",
    "$$C_k = \\frac{1}{2\\pi}\\int_{0}^{2\\pi} f(\\Omega_0 t)e^{-jk(\\Omega_0 t)}\\, d(\\Omega_0 t) = \\frac{1}{2\\pi}\\left[\\int_{0}^{\\pi} Ae^{-jk(\\Omega_0 t)}\\, d(\\Omega_0 t) + \\int_{\\pi}^{2\\pi} (-A)e^{-jk(\\Omega_0 t)}\\, d(\\Omega_0 t)\\right]$$\n",
    "\n",
    "For simplicity let $\\theta = \\Omega_0t$.\n",
    "\n",
    "$$\\frac{1}{2\\pi}\\left[\\int_{0}^{\\pi} Ae^{-jk\\theta}\\, d\\theta + \\int_{\\pi}^{2\\pi} (-A)e^{-jk\\theta}\\, d\\theta\\right] = \\frac{1}{2\\pi}\\left[\\left.\\frac{A}{-jk}e^{-jk\\theta}\\right|_0^\\pi+\\left.\\frac{-A}{-jk}e^{-jk\\theta}\\right|_\\pi^{2\\pi}\\right]$$\n",
    "\n",
    "$$\n",
    "= \\frac{1}{2\\pi}\\left[\\frac{A}{-jk}\\left(e^{-jk\\pi} - 1\\right)+\\frac{A}{jk}\\left(e^{-j2k \\pi}-e^{-jk\\pi}\\right)\\right] =\n",
    "\\frac{A}{2j\\pi k}\\left(1 - e^{-jk\\pi}+ e^{-j2k \\pi}-e^{-jk\\pi}\\right)\n",
    "$$\n",
    "\n",
    "$$\\frac{A}{2j\\pi k}\\left(e^{-j2k \\pi} - 2e^{-jk\\pi} -1 \\right) = \\frac{A}{2j\\pi k}\\left(e^{-jk\\pi}-1\\right)^2$$\n",
    "\n",
    "For $n$ odd[^fn2], $e^{-jk\\pi} = -1$. Therefore\n",
    "\n",
    "$${C_k \\atop {k=\\mathrm{odd}}} = \\frac{A}{2j\\pi k}\\left(e^{-jk\\pi}-1\\right)^2 = \\frac{A}{2j\\pi k}\\left(-1-1\\right)^2 = \\frac{A}{2j\\pi k}\\left(-2\\right)^2 = \\frac{2A}{j\\pi k}$$"
   ]
  },
  {
   "cell_type": "markdown",
   "id": "e3ce208c",
   "metadata": {
    "slideshow": {
     "slide_type": "notes"
    }
   },
   "source": [
    "[^fn2]: You may wish to verify that $C_0 = 0$ and\n",
    "\n",
    "$${C_k \\atop {k=\\mathrm{even}}} = 0.$$"
   ]
  },
  {
   "cell_type": "markdown",
   "id": "053c7d84",
   "metadata": {
    "slideshow": {
     "slide_type": "notes"
    }
   },
   "source": [
    "## Exponential Fourier series for the square wave with odd symmetry\n",
    "\n",
    "From the definition of the exponential Fourier series\n",
    "\n",
    "$$f(t) = \\cdots + C_{-2}e^{-j2\\Omega_0 t} + C_{-1}e^{-j\\Omega_0 t} + C_{0} + C_{1}e^{j\\Omega_0 t} + C_{2}e^{j2\\Omega_0 t} + \\cdots$$\n",
    "\n",
    "the _exponential Fourier series for the square wave with odd symmetry_ is\n",
    "\n",
    "$$f(t) = \\frac{2A}{j\\pi}\\left(\\cdots - \\frac{1}{3}e^{-j3\\Omega_0 t} - e^{-j\\Omega_0 t} + e^{j\\Omega_0 t} + \\frac{1}{3}e^{j3\\Omega_0 t} + \\cdots\\right) = \\frac{2A}{j\\pi}\\sum_{k = \\mathrm{odd}} \\frac{1}{k}e^{jk\\Omega_0 t}$$"
   ]
  },
  {
   "cell_type": "markdown",
   "id": "98803e56",
   "metadata": {
    "slideshow": {
     "slide_type": "notes"
    }
   },
   "source": [
    "Note the sign change in first two terms. This is due to the fact that $C_{-k} = C_k^*$.\n",
    "\n",
    "E.g. since $C_3 = 2A/j3\\pi$, $C_{-3} = C_3^* = -2A/j3\\pi$"
   ]
  },
  {
   "cell_type": "markdown",
   "id": "303968b7",
   "metadata": {
    "slideshow": {
     "slide_type": "notes"
    }
   },
   "source": [
    "## Trig. Fourier series from exponential Fourier series\n",
    "\n",
    "Since\n",
    "\n",
    "$$f(t) = \\frac{2A}{j\\pi}\\left(\\cdots - \\frac{1}{3}e^{-j3\\Omega_0 t} - e^{-j\\Omega_0 t} + e^{j\\Omega_0 t} + \\frac{1}{3}e^{j3\\Omega_0 t} + \\cdots\\right) $$\n",
    "\n",
    "gathering terms at each harmonic frequency gives\n",
    "\n",
    "$$\n",
    "\\begin{eqnarray*}\n",
    "f(t) &=& \\frac{4A}{\\pi}\\left(\\cdots + \\left(\\frac{e^{j\\Omega_0 t} - e^{-j\\Omega_0 t}}{2j}\\right)  + \\frac{1}{3}\\left(\\frac{e^{j3\\Omega_0 t} - e^{-j3\\Omega_0 t}}{2j}\\right)  +  \\cdots\\right) \\\\\n",
    "&=& \\frac{4A}{\\pi}\\left(\\sin \\Omega_0 t + \\frac{1}{3}\\sin 3\\Omega_0 t + \\cdots\\right)\\\\\n",
    "&=& \\frac{4A}{\\pi} \\sum_{k=\\mathrm{odd}} \\frac{1}{k}\\sin k\\Omega_0 t.\\end{eqnarray*}\n",
    "$$"
   ]
  },
  {
   "cell_type": "markdown",
   "id": "06859ec4",
   "metadata": {
    "slideshow": {
     "slide_type": "subslide"
    }
   },
   "source": [
    "(fs2:matlab)=\n",
    "\n",
    "## Computing coefficients of Exponential Fourier Series in MATLAB"
   ]
  },
  {
   "cell_type": "markdown",
   "id": "eec0eac7",
   "metadata": {
    "slideshow": {
     "slide_type": "subslide"
    }
   },
   "source": [
    "### Example 2\n",
    "\n",
    "Verify the result of Example 1 using MATLAB."
   ]
  },
  {
   "cell_type": "markdown",
   "id": "10a44a94",
   "metadata": {
    "slideshow": {
     "slide_type": "notes"
    }
   },
   "source": [
    "### Solution to example 2\n",
    "\n",
    "Solution: See [efs_sqw.m](https://cpjobling.github.io/eg-247-textbook/fourier_series/matlab/efs_sqw.m)."
   ]
  },
  {
   "cell_type": "markdown",
   "id": "34546ea5",
   "metadata": {
    "slideshow": {
     "slide_type": "subslide"
    }
   },
   "source": [
    "### EFS_SQW\n",
    "\n",
    "Calculates the Exponential Fourier for a Square Wave with Odd Symmetry."
   ]
  },
  {
   "cell_type": "code",
   "execution_count": null,
   "id": "952dcdb1",
   "metadata": {
    "slideshow": {
     "slide_type": "subslide"
    }
   },
   "outputs": [],
   "source": [
    "cd ../matlab\n",
    "format compact; \n",
    "setappdata(0, \"MKernel_plot_format\", 'svg')"
   ]
  },
  {
   "cell_type": "markdown",
   "id": "135986ff",
   "metadata": {
    "slideshow": {
     "slide_type": "subslide"
    }
   },
   "source": [
    "Set up parameters"
   ]
  },
  {
   "cell_type": "code",
   "execution_count": null,
   "id": "e02608ca",
   "metadata": {
    "slideshow": {
     "slide_type": "subslide"
    }
   },
   "outputs": [],
   "source": [
    "syms t A;\n",
    "\n",
    "tau = 1;\n",
    "T0 = 2*pi; % w = 2*pi*f -> t = 2*pi/omega\n",
    "k_vec = [-5:5];"
   ]
  },
  {
   "cell_type": "markdown",
   "id": "fb5cf9d6",
   "metadata": {
    "slideshow": {
     "slide_type": "subslide"
    }
   },
   "source": [
    "Define f(t)\n",
    "\n",
    "**IMPORTANT**: the signal definition must cover [0 to T0]"
   ]
  },
  {
   "cell_type": "code",
   "execution_count": null,
   "id": "9e56bf8b",
   "metadata": {
    "slideshow": {
     "slide_type": "subslide"
    }
   },
   "outputs": [],
   "source": [
    "xt = A*(heaviside(t)-heaviside(t-T0/2)) - A*(heaviside(t-T0/2)-heaviside(t-T0));"
   ]
  },
  {
   "cell_type": "markdown",
   "id": "057057be",
   "metadata": {
    "slideshow": {
     "slide_type": "subslide"
    }
   },
   "source": [
    "Compute EFS"
   ]
  },
  {
   "cell_type": "code",
   "execution_count": null,
   "id": "68874c91",
   "metadata": {
    "slideshow": {
     "slide_type": "subslide"
    }
   },
   "outputs": [],
   "source": [
    "[X, w] = FourierSeries(xt, T0, k_vec)"
   ]
  },
  {
   "cell_type": "markdown",
   "id": "6fd8126a",
   "metadata": {
    "slideshow": {
     "slide_type": "subslide"
    }
   },
   "source": [
    "Plot the numerical results from MATLAB calculation.\n",
    "\n",
    "Convert symbolic to numeric result"
   ]
  },
  {
   "cell_type": "code",
   "execution_count": null,
   "id": "690e402f",
   "metadata": {
    "slideshow": {
     "slide_type": "subslide"
    }
   },
   "outputs": [],
   "source": [
    "Xw = subs(X,A,1);"
   ]
  },
  {
   "cell_type": "markdown",
   "id": "f3b8e710",
   "metadata": {
    "slideshow": {
     "slide_type": "subslide"
    }
   },
   "source": [
    "Plot"
   ]
  },
  {
   "cell_type": "code",
   "execution_count": null,
   "id": "6eb3dc4e",
   "metadata": {
    "slideshow": {
     "slide_type": "subslide"
    }
   },
   "outputs": [],
   "source": [
    "subplot(211)\n",
    "stem(w,abs(Xw), 'o-');\n",
    "title('Exponential Fourier Series for Square Waveform with Odd Symmetry')\n",
    "xlabel('Hamonic frequencies: k\\Omega_0 (rad/sec)');\n",
    "ylabel('|c_k|');\n",
    "subplot(212)\n",
    "stem(w,angle(Xw), 'o-');\n",
    "xlabel('Hamonic frequencies: k\\Omega_0 (rad/sec)');\n",
    "ylabel('\\angle c_k [radians]');"
   ]
  },
  {
   "cell_type": "markdown",
   "id": "c1db0e8d",
   "metadata": {
    "slideshow": {
     "slide_type": "slide"
    }
   },
   "source": [
    "## Summary\n",
    "\n",
    "- Exponents and Euler's Equation\n",
    "- The exponential Fourier series\n",
    "- Symmetry in Exponential Fourier Series\n",
    "- Example"
   ]
  },
  {
   "cell_type": "markdown",
   "id": "ae74e88e",
   "metadata": {
    "slideshow": {
     "slide_type": "notes"
    }
   },
   "source": [
    "## Answers to in-class problems"
   ]
  },
  {
   "cell_type": "markdown",
   "id": "2a80e840",
   "metadata": {
    "slideshow": {
     "slide_type": "notes"
    }
   },
   "source": [
    "### Some important values of $\\omega t$ - Solution\n",
    "\n",
    "- When $\\omega t = 0$: $e^{j\\omega t} = e^{j0} = 1$\n",
    "- When $\\omega t = \\pi/2$: $e^{j\\omega t} = e^{j\\pi/2} = j$\n",
    "- When $\\omega t = \\pi$: $e^{j\\omega t} = e^{j\\pi} = -1$\n",
    "- When $\\omega t = 3\\pi/2$: $e^{j\\omega t} = e^{j3\\pi/2} = -j$\n",
    "- When $\\omega t = 2\\pi$: $e^{j\\omega t} = e^{j2\\pi} = e^{j0}= 1$\n",
    "\n",
    "It is also worth being aware that $n\\omega t$, when $n$ is an integer, produces rotations that map back to the simpler cases given above. For example see $e^{j2\\pi}$ above."
   ]
  },
  {
   "cell_type": "markdown",
   "id": "4c22a992",
   "metadata": {
    "slideshow": {
     "slide_type": "notes"
    }
   },
   "source": [
    "### Some answers for you\n",
    "\n",
    "- Square wave is an **odd** function!\n",
    "- DC component is **zero**!\n",
    "- Square wave **has** half-wave symmetry!\n",
    "\n",
    "Hence\n",
    "\n",
    "- $C_0 = 0$\n",
    "- Coefficients $C_k$ are **imaginary**!\n",
    "- Subscripts $k$ are **odd only**!\n",
    "- What is the integral that needs to be solved for $C_k$?\n",
    "\n",
    "$$C_k = \\frac{1}{2\\pi}\\int_{0}^{2\\pi} f(\\Omega_0 t)e^{-jk(\\Omega_0 t)}\\, d(\\Omega_0 t) = \\frac{1}{2\\pi}\\left[\\int_{0}^{\\pi} Ae^{-jk(\\Omega_0 t)}\\, d(\\Omega_0 t) + \\int_{\\pi}^{2\\pi} (-A)e^{-jk(\\Omega_0 t)}\\, d(\\Omega_0 t)\\right]$$"
   ]
  }
 ],
 "metadata": {
  "celltoolbar": "Slideshow",
  "jupytext": {
   "formats": "ipynb,md:myst"
  },
  "kernelspec": {
   "display_name": "MKernel",
   "language": "matlab",
   "name": "mkernel"
  },
  "language_info": {
   "file_extension": ".m",
   "mimetype": "text/x-matlab",
   "name": "matlab"
  }
 },
 "nbformat": 4,
 "nbformat_minor": 5
}
