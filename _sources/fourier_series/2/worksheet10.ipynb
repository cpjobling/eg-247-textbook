{
 "cells": [
  {
   "cell_type": "markdown",
   "id": "895a9740",
   "metadata": {
    "slideshow": {
     "slide_type": "slide"
    }
   },
   "source": [
    "# Worksheet 10\n",
    "\n",
    "## To accompany Chapter 4.2 Exponential Fourier Series"
   ]
  },
  {
   "cell_type": "markdown",
   "id": "c57f3efb",
   "metadata": {
    "slideshow": {
     "slide_type": "subslide"
    }
   },
   "source": [
    "## Colophon\n",
    "\n",
    "This worksheet can be downloaded as a [PDF file](https://cpjobling.github.io/eg-247-textbook/worksheets/worksheet10.pdf). We will step through this worksheet in class. \n",
    "\n",
    "An annotatable copy of the notes for this presentation will be distributed before the second class meeting as **Worksheet 10** in the **Week 5: Classroom Activities** section of the Canvas site. I will also distribute a copy to your personal **Worksheets** section of the **OneNote Class Notebook** so that you can add your own notes using OneNote. \n",
    "\n",
    "\n",
    "You are expected to have at least watched the video presentation of [Chapter 4.2](https://cpjobling.github.io/eg-247-textbook/fourier_series/2/exp_fs1) of the [notes](https://cpjobling.github.io/eg-247-textbook) before coming to class. If you haven't watch it afterwards!\n",
    "\n",
    "\n",
    "After class, the lecture recording and the annotated version of the worksheets will be made available through Canvas."
   ]
  },
  {
   "cell_type": "markdown",
   "id": "1d0257e4",
   "metadata": {
    "slideshow": {
     "slide_type": "slide"
    }
   },
   "source": [
    "## Agenda\n",
    "\n",
    "* Exponents and Euler's Equation\n",
    "* The Exponential Fourier series\n",
    "* Symmetry in Exponential Fourier Series\n",
    "* Example"
   ]
  },
  {
   "cell_type": "markdown",
   "id": "4f38dec9",
   "metadata": {
    "slideshow": {
     "slide_type": "slide"
    }
   },
   "source": [
    "## The Exponential Function $e^{at}$\n",
    "\n",
    "* You should already be familiar with $e^{at}$ because it appears in the solution of differential equations. \n",
    "* It is also a function that appears in the definition of the Laplace and Inverse Laplace Transform.\n",
    "* It pops up again and again in tables and properies of the Laplace Transform."
   ]
  },
  {
   "cell_type": "markdown",
   "id": "3366d9cb",
   "metadata": {
    "slideshow": {
     "slide_type": "subslide"
    }
   },
   "source": [
    "### Case when a is real.\n",
    "\n",
    "When $a$ is real the function $e^{at}$ will take one of the two forms illustrated below:"
   ]
  },
  {
   "cell_type": "code",
   "execution_count": null,
   "id": "12d73d1e",
   "metadata": {
    "slideshow": {
     "slide_type": "notes"
    }
   },
   "outputs": [],
   "source": [
    "clear all\n",
    "cd ../matlab\n",
    "format compact"
   ]
  },
  {
   "cell_type": "markdown",
   "id": "63d9b9ef",
   "metadata": {
    "slideshow": {
     "slide_type": "notes"
    }
   },
   "source": [
    "You can regenerate this image generated with this Matlab script: [expon.m](https://cpjobling.github.io/eg-247-textbook/fourier_series/matlab/expon.m)."
   ]
  },
  {
   "cell_type": "code",
   "execution_count": null,
   "id": "4c390f39",
   "metadata": {
    "slideshow": {
     "slide_type": "subslide"
    }
   },
   "outputs": [],
   "source": [
    "expon"
   ]
  },
  {
   "cell_type": "markdown",
   "id": "7da852d2",
   "metadata": {
    "slideshow": {
     "slide_type": "subslide"
    }
   },
   "source": [
    "* When $a < 0$ the response is a decaying exponential (red line in plot)\n",
    "* When $a = 0$ $e^{at} = 1$ -- essentially a model of DC\n",
    "* When $a > 0$ the response is an *unbounded* increasing exponential (blue line in plot)"
   ]
  },
  {
   "cell_type": "markdown",
   "id": "9d6d762a",
   "metadata": {
    "slideshow": {
     "slide_type": "subslide"
    }
   },
   "source": [
    "### Case when a is imaginary\n",
    "\n",
    "\n",
    "<img src=\"pictures/euler.png\" title=\"exp(j*omega*t) = cos(omega*t) + j*sin(omega*t)\">"
   ]
  },
  {
   "cell_type": "markdown",
   "id": "5f7ca188",
   "metadata": {
    "slideshow": {
     "slide_type": "notes"
    }
   },
   "source": [
    "This is the case that helps us simplify the computation of sinusoidal Fourier series.\n",
    "\n",
    "It was [Leonhard Euler](https://en.wikipedia.org/wiki/Leonhard_Euler) who discovered the [formula](https://en.wikipedia.org/wiki/Euler%27s_formula) visualized above."
   ]
  },
  {
   "cell_type": "markdown",
   "id": "e681c8df",
   "metadata": {
    "slideshow": {
     "slide_type": "subslide"
    }
   },
   "source": [
    "#### Some important values of $\\omega t$\n",
    "\n",
    "These are useful when simplifying expressions that result from integrating functions that involve the imaginary exponential\n",
    "\n",
    "Give the following:\n",
    "* $e^{j\\omega t}$ when $\\omega t = 0$\n",
    "* $e^{j\\omega t}$ when $\\omega t = \\pi/2$\n",
    "* $e^{j\\omega t}$ when $\\omega t = \\pi$\n",
    "* $e^{j\\omega t}$ when $\\omega t = 3\\pi/2$\n",
    "* $e^{j\\omega t}$ when $\\omega t = 2\\pi$"
   ]
  },
  {
   "cell_type": "markdown",
   "id": "8ac9e6fa",
   "metadata": {
    "slideshow": {
     "slide_type": "notes"
    }
   },
   "source": [
    "<pre style=\"border: 2px solid blue\">\n",
    "\n",
    "\n",
    "\n",
    "\n",
    "\n",
    "\n",
    "\n",
    "\n",
    "\n",
    "\n",
    "\n",
    "\n",
    "\n",
    "\n",
    "\n",
    "</pre>"
   ]
  },
  {
   "cell_type": "markdown",
   "id": "5b2d1a35",
   "metadata": {
    "slideshow": {
     "slide_type": "subslide"
    }
   },
   "source": [
    "### Case where $a$ is complex\n",
    "\n",
    "We shall not say much about this case except to note that the Laplace transform equation includes such a number. The variable $s$ in the Laplace Transform \n",
    "\n",
    "$$\\int_{0}^{\\infty} f(t)e^{-st} dt$$\n",
    "\n",
    "is a *complex exponential*.\n",
    "\n",
    "The consequences of a complex $s$ have particular significance in the development of system stability theories and in control systems analysis and design. Look out for them in EG-243."
   ]
  },
  {
   "cell_type": "markdown",
   "id": "163883b1",
   "metadata": {
    "slideshow": {
     "slide_type": "subslide"
    }
   },
   "source": [
    "### Two Other Important Properties\n",
    "\n",
    "By use of trig. identities, it is relatively straight forward to show that:\n",
    "\n",
    "$$\\cos \\omega t = \\frac{e^{j\\omega t} + e^{-j\\omega t}}{2}$$\n",
    "\n",
    "and \n",
    "\n",
    "$$\\sin \\omega t = \\frac{e^{j\\omega t} - e^{-j\\omega t}}{j2}$$"
   ]
  },
  {
   "cell_type": "markdown",
   "id": "0b8a6dba",
   "metadata": {
    "slideshow": {
     "slide_type": "notes"
    }
   },
   "source": [
    "We can use this result to convert the *Trigonometric Fourier Series* into an *Exponential Fourier Series* which has only one integral term to solve per harmonic."
   ]
  },
  {
   "cell_type": "markdown",
   "id": "70a656e9",
   "metadata": {
    "slideshow": {
     "slide_type": "subslide"
    }
   },
   "source": [
    "## The Exponential Fourier Series\n",
    "\n",
    "$$f(t) = \\cdots + C_{-2}e^{-j2\\Omega_0 t} + C_{-1}e^{-j\\Omega_0 t} + C_0 + C_{1}e^{j\\Omega_0 t} + C_{2}e^{j2\\Omega_0 t} +\\cdots $$\n",
    "\n",
    "or more compactly\n",
    "\n",
    "$$f(t) = \\sum_{k=-n}^{n}C_{k}e^{jk \\Omega_0  t}$$"
   ]
  },
  {
   "cell_type": "markdown",
   "id": "5a52770a",
   "metadata": {
    "slideshow": {
     "slide_type": "notes"
    }
   },
   "source": [
    "**Important**\n",
    "\n",
    "The $C_k$ coefficents, except for $C_0$ are *complex* and appear in conjugate pairs so\n",
    "\n",
    "$$C_{-k} = C_k^*$$"
   ]
  },
  {
   "cell_type": "markdown",
   "id": "ef07ce65",
   "metadata": {
    "slideshow": {
     "slide_type": "subslide"
    }
   },
   "source": [
    "### Evaluation of the complex coefficients\n",
    "\n",
    "The coefficients are obtained from the following expressions<sup>*</sup>:\n",
    "\n",
    "$$C_k = \\frac{1}{2\\pi}\\int_{0}^{2\\pi}f(\\Omega_0 t)e^{-jk(\\Omega_0 t)}\\,d(\\Omega_0 t)$$\n",
    "\n",
    "or\n",
    "\n",
    "$$C_k = \\frac{1}{T}\\int_{0}^{T}f(t)e^{-jk\\Omega_0 t}\\,dt$$"
   ]
  },
  {
   "cell_type": "markdown",
   "id": "3000c889",
   "metadata": {
    "slideshow": {
     "slide_type": "slide"
    }
   },
   "source": [
    "## Symmetry in Exponential Fourier Series\n",
    "\n",
    "Since the coefficients of the Exponential Fourier Series are complex numbers, we can use symmetry to determine the form of the coefficients and thereby simplify the computation of series for wave forms that have symmetry."
   ]
  },
  {
   "cell_type": "markdown",
   "id": "ad63c89e",
   "metadata": {
    "slideshow": {
     "slide_type": "subslide"
    }
   },
   "source": [
    "### Even Functions\n",
    "\n",
    "For even functions, all coefficients $C_k$ are real."
   ]
  },
  {
   "cell_type": "markdown",
   "id": "ce21aece",
   "metadata": {
    "slideshow": {
     "slide_type": "subslide"
    }
   },
   "source": [
    "### Odd Functions\n",
    "\n",
    "For odd functions, all coefficients $C_k$ are imaginary.\n",
    "\n",
    "By a similar argument, all odd functions have no cosine terms so the $a_k$ coefficients are 0. Therefore both $C_{-k}$ and $C_k$ are imaginary."
   ]
  },
  {
   "cell_type": "markdown",
   "id": "380e044e",
   "metadata": {
    "slideshow": {
     "slide_type": "subslide"
    }
   },
   "source": [
    "### Half-wave symmetry\n",
    "\n",
    "If there is *half-wave symmetry*, $C_k = 0$ for $k$ even."
   ]
  },
  {
   "cell_type": "markdown",
   "id": "87f46a73",
   "metadata": {
    "slideshow": {
     "slide_type": "subslide"
    }
   },
   "source": [
    "### No symmetry\n",
    "\n",
    "If there is no symmetry the Exponential Fourier Series of $f(t)$ is complex."
   ]
  },
  {
   "cell_type": "markdown",
   "id": "fd3d5ae3",
   "metadata": {
    "slideshow": {
     "slide_type": "subslide"
    }
   },
   "source": [
    "### Relation of $C_{-k}$ to $C_{k}$\n",
    "\n",
    "$C_{-k} = C_{k}^*$ **always**"
   ]
  },
  {
   "cell_type": "markdown",
   "id": "0b397f45",
   "metadata": {
    "slideshow": {
     "slide_type": "slide"
    }
   },
   "source": [
    "## Example 1\n",
    "\n",
    "Compute the Exponential Fourier Series for the square wave shown below assuming that $\\omega = 1$\n",
    "\n",
    "<img src=\"pictures/sqw.png\">"
   ]
  },
  {
   "cell_type": "markdown",
   "id": "52cd3bde",
   "metadata": {
    "slideshow": {
     "slide_type": "subslide"
    }
   },
   "source": [
    "### Some questions for you\n",
    "\n",
    "* Square wave is an [**odd/even/neither**] function?\n",
    "* DC component is [**zero/non-zero**]?\n",
    "* Square wave [**has/does not have**] half-wave symmetry?"
   ]
  },
  {
   "cell_type": "markdown",
   "id": "0948143e",
   "metadata": {
    "slideshow": {
     "slide_type": "subslide"
    }
   },
   "source": [
    "Hence\n",
    "\n",
    "* $C_0 = $[**?**]\n",
    "* Coefficients $C_k$ are [**real/imaginary/complex**]?\n",
    "* Subscripts $k$ are [**odd only/even only/both odd and even**]?\n",
    "* What is the integral that needs to be solved for $C_k$?"
   ]
  },
  {
   "cell_type": "markdown",
   "id": "2faa1eba",
   "metadata": {
    "slideshow": {
     "slide_type": "notes"
    }
   },
   "source": [
    "<pre style=\"border: 2px solid blue\">\n",
    "\n",
    "\n",
    "\n",
    "\n",
    "\n",
    "\n",
    "\n",
    "\n",
    "\n",
    "\n",
    "\n",
    "\n",
    "\n",
    "\n",
    "\n",
    "</pre>"
   ]
  },
  {
   "cell_type": "markdown",
   "id": "bac7250f",
   "metadata": {
    "slideshow": {
     "slide_type": "notes"
    }
   },
   "source": [
    "### Solution\n",
    "\n",
    "$$\\frac{1}{2\\pi}\\left[\\int_{0}^{\\pi} Ae^{-jk(\\Omega_0 t)}\\, d(\\Omega_0 t) + \\int_{\\pi}^{2\\pi} (-A)e^{-jk(\\Omega_0 t)}\\, d(\\Omega_0 t)\\right] = \\frac{1}{2\\pi}\\left[\\left.\\frac{A}{-jk}e^{-jk(\\Omega_0 t)}\\right|_0^\\pi+\\left.\\frac{-A}{-jk}e^{-jk(\\Omega_0 t)}\\right|_\\pi^{2\\pi}\\right]$$\n",
    "\n",
    "$$ = \\frac{1}{2\\pi}\\left[\\frac{A}{-jk}\\left(e^{-jk\\pi} - 1\\right)+\\frac{A}{jk}\\left(e^{-j2k \\pi}-e^{-jk\\pi}\\right)\\right] =\n",
    "\\frac{A}{2j\\pi k}\\left(1 - e^{-jk\\pi}+ e^{-j2k \\pi}-e^{-jk\\pi}\\right)$$\n",
    "\n",
    "$$\\frac{A}{2j\\pi k}\\left(e^{-j2k \\pi} - 2e^{-jk\\pi} -1 \\right) = \\frac{A}{2j\\pi k}\\left(e^{-jk\\pi}-1\\right)^2$$\n",
    "\n",
    "For $n$ odd*, $e^{-jk\\pi} = -1$. Therefore\n",
    "\n",
    "$${C_n \\atop {k=\\mathrm{odd}}} = \\frac{A}{2j\\pi k}\\left(e^{-jk\\pi}-1\\right)^2 = \\frac{A}{2j\\pi k}\\left(-1-1\\right)^2 = \\frac{A}{2j\\pi k}\\left(-2\\right)^2 = \\frac{2A}{j\\pi k}$$"
   ]
  },
  {
   "cell_type": "markdown",
   "id": "86c13d0f",
   "metadata": {
    "slideshow": {
     "slide_type": "notes"
    }
   },
   "source": [
    "<sup>*</sup> You may want to verify that $C_0 = 0$ and \n",
    "\n",
    "$${C_k \\atop {k=\\mathrm{even}}} = 0.$$"
   ]
  },
  {
   "cell_type": "markdown",
   "id": "6f0e1522",
   "metadata": {
    "slideshow": {
     "slide_type": "subslide"
    }
   },
   "source": [
    "## Computing coefficients of Exponential Fourier Series in MATLAB"
   ]
  },
  {
   "cell_type": "markdown",
   "id": "e0551b1c",
   "metadata": {
    "slideshow": {
     "slide_type": "subslide"
    }
   },
   "source": [
    "### Example 2\n",
    "\n",
    "Verify the result of Example 1 using MATLAB."
   ]
  },
  {
   "cell_type": "markdown",
   "id": "340ffe79",
   "metadata": {
    "slideshow": {
     "slide_type": "fragment"
    }
   },
   "source": [
    "### Solution\n",
    "\n",
    "Solution: See [efs_sqw.m](https://cpjobling.github.io/eg-247-textbook/fourier_series/matlab/efs_sqw.m)."
   ]
  },
  {
   "cell_type": "code",
   "execution_count": null,
   "id": "113d9eeb",
   "metadata": {
    "slideshow": {
     "slide_type": "fragment"
    }
   },
   "outputs": [],
   "source": [
    "open efs_sqw"
   ]
  },
  {
   "cell_type": "markdown",
   "id": "f0e28554",
   "metadata": {
    "slideshow": {
     "slide_type": "subslide"
    }
   },
   "source": [
    "### EFS_SQW\n",
    "Calculates the Exponential Fourier for a Square Wave with Odd Symmetry."
   ]
  },
  {
   "cell_type": "markdown",
   "id": "db20993c",
   "metadata": {
    "slideshow": {
     "slide_type": "subslide"
    }
   },
   "source": [
    "Set up parameters"
   ]
  },
  {
   "cell_type": "code",
   "execution_count": null,
   "id": "c05af7c9",
   "metadata": {
    "slideshow": {
     "slide_type": "subslide"
    }
   },
   "outputs": [],
   "source": [
    "syms t A;\n",
    "\n",
    "tau = 1;\n",
    "T0 = 2*pi; % w = 2*pi*f -> t = 2*pi/omega\n",
    "k_vec = [-5:5];"
   ]
  },
  {
   "cell_type": "markdown",
   "id": "784ff6bd",
   "metadata": {
    "slideshow": {
     "slide_type": "subslide"
    }
   },
   "source": [
    "Define f(t)\n",
    "\n",
    "**IMPORTANT**: the signal definition must cover [0 to T0]"
   ]
  },
  {
   "cell_type": "code",
   "execution_count": null,
   "id": "01b6da0a",
   "metadata": {
    "slideshow": {
     "slide_type": "subslide"
    }
   },
   "outputs": [],
   "source": [
    "xt = A*(heaviside(t)-heaviside(t-T0/2)) - A*(heaviside(t-T0/2)-heaviside(t-T0));"
   ]
  },
  {
   "cell_type": "markdown",
   "id": "054a4c7d",
   "metadata": {
    "slideshow": {
     "slide_type": "subslide"
    }
   },
   "source": [
    "Compute EFS"
   ]
  },
  {
   "cell_type": "code",
   "execution_count": null,
   "id": "f19d40d3",
   "metadata": {
    "slideshow": {
     "slide_type": "subslide"
    }
   },
   "outputs": [],
   "source": [
    "[X, w] = FourierSeries(xt, T0, k_vec)"
   ]
  },
  {
   "cell_type": "markdown",
   "id": "e9b0b0c6",
   "metadata": {
    "slideshow": {
     "slide_type": "subslide"
    }
   },
   "source": [
    "Plot the numerical results from the MATLAB calculation.\n",
    "\n",
    "Convert symbolic to numeric result"
   ]
  },
  {
   "cell_type": "code",
   "execution_count": null,
   "id": "93d7a565",
   "metadata": {
    "slideshow": {
     "slide_type": "subslide"
    }
   },
   "outputs": [],
   "source": [
    "Xw = subs(X,A,1);"
   ]
  },
  {
   "cell_type": "markdown",
   "id": "178e6f5a",
   "metadata": {
    "slideshow": {
     "slide_type": "subslide"
    }
   },
   "source": [
    "Plot"
   ]
  },
  {
   "cell_type": "code",
   "execution_count": null,
   "id": "1dbe423a",
   "metadata": {
    "slideshow": {
     "slide_type": "subslide"
    }
   },
   "outputs": [],
   "source": [
    "subplot(211)\n",
    "stem(w,abs(Xw), 'o-');\n",
    "title('Exponential Fourier Series for Square Waveform with Odd Symmetry')\n",
    "xlabel('Hamonic frequencies: k\\Omega_0 (rad/sec)');\n",
    "ylabel('|c_k|');\n",
    "subplot(212)\n",
    "stem(w,angle(Xw), 'o-');\n",
    "xlabel('Hamonic frequencies: k\\Omega_0 (rad/sec)'); \n",
    "ylabel('\\angle c_k [radians]');"
   ]
  },
  {
   "cell_type": "markdown",
   "id": "6b8aa998",
   "metadata": {
    "slideshow": {
     "slide_type": "slide"
    }
   },
   "source": [
    "## Computing Trig. Fourier Series from Exp. Fourier Series\n",
    "\n",
    "Refer to the [notes](exp_fs1)."
   ]
  },
  {
   "cell_type": "markdown",
   "id": "e2165866",
   "metadata": {
    "slideshow": {
     "slide_type": "slide"
    }
   },
   "source": [
    "## Summary\n",
    "\n",
    "* Exponents and Euler's Equation\n",
    "* The exponential Fourier series\n",
    "* Symmetry in Exponential Fourier Series\n",
    "* Example"
   ]
  },
  {
   "cell_type": "markdown",
   "id": "1f6967f4",
   "metadata": {
    "slideshow": {
     "slide_type": "notes"
    }
   },
   "source": [
    "## Answers to in-class problems"
   ]
  },
  {
   "cell_type": "markdown",
   "id": "f0cdbb36",
   "metadata": {
    "slideshow": {
     "slide_type": "notes"
    }
   },
   "source": [
    "### Some important values of $\\omega t$ - Solution\n",
    "\n",
    "* When $\\omega t = 0$: $e^{j\\omega t} = e^{j0} = 1$\n",
    "* When $\\omega t = \\pi/2$: $e^{j\\omega t} = e^{j\\pi/2} = j$\n",
    "* When $\\omega t = \\pi$: $e^{j\\omega t} = e^{j\\pi} = -1$\n",
    "* When $\\omega t = 3\\pi/2$: $e^{j\\omega t} = e^{j3\\pi/2} = -j$\n",
    "* When $\\omega t = 2\\pi$: $e^{j\\omega t} = e^{j2\\pi} = e^{j0}= 1$\n",
    "\n",
    "It is also worth being aware that $n\\omega t$, when $n$ is an integer, produces rotations that often map back to the simpler cases given above. For example see $e^{j2\\pi}$ above."
   ]
  },
  {
   "cell_type": "markdown",
   "id": "44e9959d",
   "metadata": {
    "slideshow": {
     "slide_type": "notes"
    }
   },
   "source": [
    "### Some answers for you\n",
    "\n",
    "* Square wave is an **odd** function!\n",
    "* DC component is **zero**!\n",
    "* Square wave **has** half-wave symmetry!\n",
    "\n",
    "Hence\n",
    "\n",
    "* $C_0 = 0$\n",
    "* Coefficients $C_k$ are **imaginary**!\n",
    "* Subscripts $k$ are **odd only**!\n",
    "* What is the integral that needs to be solved for $C_k$?\n",
    "\n",
    "$$C_k = \\frac{1}{2\\pi}\\int_{0}^{2\\pi} f(\\Omega_0 t)e^{-jk(\\Omega_0 t)}\\, d(\\Omega_0 t) = \\frac{1}{2\\pi}\\left[\\int_{0}^{\\pi} Ae^{-jk(\\Omega_0 t)}\\, d(\\Omega_0 t) + \\int_{\\pi}^{2\\pi} (-A)e^{-jk(\\Omega_0 t)}\\, d(\\Omega_0 t)\\right]$$"
   ]
  }
 ],
 "metadata": {
  "jupytext": {
   "formats": "ipynb,md:myst",
   "text_representation": {
    "extension": ".md",
    "format_name": "myst",
    "format_version": 0.13,
    "jupytext_version": "1.14.4"
   }
  },
  "kernelspec": {
   "display_name": "Matlab",
   "language": "matlab",
   "name": "matlab"
  },
  "source_map": [
   15,
   21,
   35,
   44,
   52,
   58,
   68,
   72,
   80,
   86,
   93,
   99,
   112,
   132,
   144,
   156,
   160,
   170,
   178,
   190,
   196,
   202,
   210,
   216,
   222,
   228,
   236,
   244,
   253,
   273,
   288,
   294,
   298,
   304,
   310,
   318,
   323,
   327,
   339,
   345,
   353,
   357,
   365,
   371,
   379,
   383,
   399,
   405,
   414,
   418,
   430
  ]
 },
 "nbformat": 4,
 "nbformat_minor": 5
}