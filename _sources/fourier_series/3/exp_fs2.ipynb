{
 "cells": [
  {
   "cell_type": "markdown",
   "id": "363a84ff",
   "metadata": {
    "slideshow": {
     "slide_type": "slide"
    }
   },
   "source": [
    "# Unit 4.3: Line Spectra and their Applications"
   ]
  },
  {
   "cell_type": "markdown",
   "id": "87a05623",
   "metadata": {
    "slideshow": {
     "slide_type": "notes"
    }
   },
   "source": [
    "## Colophon\n",
    "\n",
    "An annotatable worksheet for this presentation is available as [**Worksheet 11**](https://cpjobling.github.io/eg-247-textbook/fourier_series/3/worksheet11.html).\n",
    "\n",
    "* The source code for this page is [fourier_series/3/exp_fs2.ipynb](https://github.com/cpjobling/eg-247-textbook/blob/master/fourier_series/3/exp_fs2.ipynb).\n",
    "\n",
    "* You can view the notes for this presentation as a webpage ([HTML](https://cpjobling.github.io/eg-247-textbook/fourier_series/3/exp_fs2.html)). \n",
    "\n",
    "* This page is downloadable as a [PDF](https://cpjobling.github.io/eg-247-textbook/fourier_series/3/exp_fs2.pdf) file."
   ]
  },
  {
   "cell_type": "markdown",
   "id": "1f10e12b",
   "metadata": {
    "slideshow": {
     "slide_type": "notes"
    }
   },
   "source": [
    "This section concludes our introduction to Fourier Series.\n",
    "\n",
    "In the [last section](../2/exp_fs1) we saw that we could exploit the complex exponential $e^{j\\omega t}$ to redefine trigonometric Fourier Series into the Exponential Fourier Series and in so doing we eliminate one integration and at the same time simplify the calculation of the coefficients of the Fourier series.\n",
    "\n",
    "In this section we show how the Exponential form of the Fourier Series leads us to the ability to present waveforms as line spectra which simplifies the calculation of power for systems with harmonics and leads in the limit as 𝑇 approaches infinity to the Fourier Transform."
   ]
  },
  {
   "cell_type": "markdown",
   "id": "1b23874f",
   "metadata": {
    "slideshow": {
     "slide_type": "slide"
    }
   },
   "source": [
    "## Agenda\n",
    "\n",
    "* Line spectra\n",
    "* Power in periodic signals\n",
    "* Steady-state response of an LTI system to a periodic signal"
   ]
  },
  {
   "cell_type": "markdown",
   "id": "319f7c1f",
   "metadata": {},
   "source": [
    "## Harmonic frequencies\n",
    "\n",
    "In response to a Student query, I have given a little more information on [Harmonic Frequencies](/FAQS/faq.html#Harmonic-frequencies) in the FAQs."
   ]
  },
  {
   "cell_type": "markdown",
   "id": "18d78ab4",
   "metadata": {
    "slideshow": {
     "slide_type": "slide"
    }
   },
   "source": [
    "## Line Spectra\n",
    "\n",
    "The use of line spectra diagrams is a useful way to visualize the harmonic frequency components of a peiodic signal. \n",
    "\n",
    "In MATLAB, the easiest way to plot this is using a *stem plot* of the lines, representing the FS coefficients, plotted against $k$.\n",
    "\n",
    "### Line Spectra for Exp. FS\n",
    "\n",
    "When the Exponential Fourier series are known it is useful to plot the amplitude and phase of the harmonics on a frequency scale."
   ]
  },
  {
   "cell_type": "markdown",
   "id": "3b9df3e9",
   "metadata": {
    "slideshow": {
     "slide_type": "slide"
    }
   },
   "source": [
    "This is the spectrum of the Exponential Fourier Series calculated last time\n",
    "\n",
    "<img src=\"pictures/efs_sqw.png\">"
   ]
  },
  {
   "cell_type": "markdown",
   "id": "489e0b1f",
   "metadata": {
    "slideshow": {
     "slide_type": "subslide"
    }
   },
   "source": [
    "### Line Spectra for Trig. FS\n",
    "\n",
    "If we take the results for the Exponential Fourier Series and gather terms, the amplitudes for the Trig. Fourier Series are given by:\n",
    "\n",
    "$$a_0 = 2C_0$$\n",
    "\n",
    "$$a_k = (C_k + C_{-k})$$\n",
    "\n",
    "$$b_k = j(C_k - C_{-k})$$"
   ]
  },
  {
   "cell_type": "markdown",
   "id": "e2efe47f",
   "metadata": {
    "slideshow": {
     "slide_type": "subslide"
    }
   },
   "source": [
    "Applying this to the previous result we get\n",
    "\n",
    "<img src=\"pictures/line-spec.png\">"
   ]
  },
  {
   "cell_type": "markdown",
   "id": "f01246be",
   "metadata": {
    "slideshow": {
     "slide_type": "slide"
    }
   },
   "source": [
    "### Example 3\n",
    "\n",
    "Compute the exponential Fourier series for the waveform shown below and plot its line spectra.\n",
    "\n",
    "<img src=\"pictures/pulse_train.png\">"
   ]
  },
  {
   "cell_type": "markdown",
   "id": "96cb57d4",
   "metadata": {
    "slideshow": {
     "slide_type": "notes"
    }
   },
   "source": [
    "### Solution\n",
    "\n",
    "The recurrent rectangular pulse is used extensively in digital communication systems. To determine how faithfully such pulses will be transmitted, it is necessary to know the frequency components."
   ]
  },
  {
   "cell_type": "markdown",
   "id": "c8afbbcc",
   "metadata": {
    "slideshow": {
     "slide_type": "notes"
    }
   },
   "source": [
    "**What do we know?**\n",
    "\n",
    "* The pulse duration is $T/w$.\n",
    "* The recurrence interval $T$ is $w$ times the pulse duration.\n",
    "* $w$ is the ratio of pulse repetition time to the pulse duration &ndash; normally called the *duty cycle*."
   ]
  },
  {
   "cell_type": "markdown",
   "id": "83e142bb",
   "metadata": {
    "slideshow": {
     "slide_type": "notes"
    }
   },
   "source": [
    "#### Coefficients of the Exponential Fourier Series?\n",
    "\n",
    "Given\n",
    "\n",
    "$$C_k = \\frac{1}{2\\pi}\\int_{-\\pi}^{\\pi} f(\\Omega_0 t)e^{-jk(\\Omega_0 t)}\\,d(\\Omega_0 t)$$\n",
    "\n",
    "* Is the function **even** or **odd**?\n",
    "* Does the signal have **half-wave symmetry**?\n",
    "* What are the cosequencies of symmetry on the form of the coefficients $C_k$?\n",
    "* What function do we actually need to integrate to compute $C_k$?"
   ]
  },
  {
   "cell_type": "markdown",
   "id": "a501403e",
   "metadata": {
    "slideshow": {
     "slide_type": "notes"
    }
   },
   "source": [
    "Practice here. Solutions at bottom of section."
   ]
  },
  {
   "cell_type": "markdown",
   "id": "5a66d0c4",
   "metadata": {
    "slideshow": {
     "slide_type": "notes"
    }
   },
   "source": [
    "<pre style=\"border: 2px solid blue\">\n",
    "\n",
    "\n",
    "\n",
    "\n",
    "\n",
    "\n",
    "\n",
    "\n",
    "\n",
    "\n",
    "\n",
    "\n",
    "\n",
    "\n",
    "\n",
    "</pre>"
   ]
  },
  {
   "cell_type": "markdown",
   "id": "f5dfc199",
   "metadata": {
    "slideshow": {
     "slide_type": "notes"
    }
   },
   "source": [
    "#### DC Component?\n",
    "\n",
    "Let $k = 0$ then perform the integral"
   ]
  },
  {
   "cell_type": "markdown",
   "id": "6a1c9de3",
   "metadata": {
    "slideshow": {
     "slide_type": "notes"
    }
   },
   "source": [
    "<pre style=\"border: 2px solid blue\">\n",
    "\n",
    "\n",
    "\n",
    "\n",
    "\n",
    "\n",
    "\n",
    "\n",
    "\n",
    "\n",
    "\n",
    "\n",
    "\n",
    "\n",
    "\n",
    "</pre>"
   ]
  },
  {
   "cell_type": "markdown",
   "id": "83e73025",
   "metadata": {
    "slideshow": {
     "slide_type": "notes"
    }
   },
   "source": [
    "#### Harmonic coefficients?\n",
    "\n",
    "Integrate for $k\\ne 0$"
   ]
  },
  {
   "cell_type": "markdown",
   "id": "4e101e90",
   "metadata": {
    "slideshow": {
     "slide_type": "notes"
    }
   },
   "source": [
    "<pre style=\"border: 2px solid blue\">\n",
    "\n",
    "\n",
    "\n",
    "\n",
    "\n",
    "\n",
    "\n",
    "\n",
    "\n",
    "\n",
    "\n",
    "\n",
    "\n",
    "\n",
    "\n",
    "</pre>"
   ]
  },
  {
   "cell_type": "markdown",
   "id": "fdd507a7",
   "metadata": {
    "slideshow": {
     "slide_type": "notes"
    }
   },
   "source": [
    "#### Exponential Fourier Series?"
   ]
  },
  {
   "cell_type": "markdown",
   "id": "e32014d6",
   "metadata": {
    "slideshow": {
     "slide_type": "notes"
    }
   },
   "source": [
    "<pre style=\"border: 2px solid blue\">\n",
    "\n",
    "\n",
    "\n",
    "\n",
    "\n",
    "\n",
    "\n",
    "\n",
    "\n",
    "\n",
    "\n",
    "\n",
    "\n",
    "\n",
    "\n",
    "</pre>"
   ]
  },
  {
   "cell_type": "markdown",
   "id": "eb740869",
   "metadata": {
    "slideshow": {
     "slide_type": "subslide"
    }
   },
   "source": [
    "### Effect of pulse width on frequency spectra\n",
    "\n",
    "let's see what effect the duty cycle $w$ has on the spectra.\n",
    "\n",
    "Recall pulse width = $T/w$ and plot the complex line spectra for pulse with width $w$ which repeats every $T$ seconds. We will write a MATLAB function `pulse_fs` to simplify the computation."
   ]
  },
  {
   "cell_type": "code",
   "execution_count": 1,
   "id": "44803a2a",
   "metadata": {
    "slideshow": {
     "slide_type": "fragment"
    }
   },
   "outputs": [],
   "source": [
    "clear all\n",
    "cd ../matlab\n",
    "format compact"
   ]
  },
  {
   "cell_type": "code",
   "execution_count": 2,
   "id": "4f0597b3",
   "metadata": {
    "slideshow": {
     "slide_type": "notes"
    }
   },
   "outputs": [
    {
     "name": "stdout",
     "output_type": "stream",
     "text": [
      "Created file '/Users/eechris/code/src/github.com/cpjobling/eg-247-textbook/fourier_series/matlab/pulse_fs.m'.\n"
     ]
    }
   ],
   "source": [
    "%%file ../matlab/pulse_fs.m\n",
    "function [f,omega] = pulse_fs(A,w,range)\n",
    "% PULSE_FS compute fourier series spectrum in range\n",
    "% -range:range for pulse with \n",
    "% height A, period T and width duty cycle w.\n",
    "omega = -range:range;\n",
    "for mm = 1:length(omega)\n",
    "    x = omega(mm)*pi/w;\n",
    "    if omega(mm) == 0\n",
    "        f(mm) = A/w;\n",
    "    else\n",
    "        f(mm) = (A/w)*sin(x)/(x);\n",
    "    end\n",
    "end\n",
    "return"
   ]
  },
  {
   "cell_type": "markdown",
   "id": "72bc1bcc",
   "metadata": {
    "slideshow": {
     "slide_type": "subslide"
    }
   },
   "source": [
    "#### w = 2\n",
    "\n",
    "$\\Omega_0 = 1$ rad/s; $w = 2$; $T = 2\\pi$ s; $T/w = \\pi$ s."
   ]
  },
  {
   "cell_type": "markdown",
   "id": "9e7f1a2e",
   "metadata": {
    "slideshow": {
     "slide_type": "fragment"
    }
   },
   "source": [
    "Compute Fourier Series"
   ]
  },
  {
   "cell_type": "code",
   "execution_count": 3,
   "id": "4ad12aa1",
   "metadata": {
    "slideshow": {
     "slide_type": "fragment"
    }
   },
   "outputs": [],
   "source": [
    "A = 1; w = 2;\n",
    "[f,omega] = pulse_fs(A,w,15);"
   ]
  },
  {
   "cell_type": "markdown",
   "id": "aac55319",
   "metadata": {
    "slideshow": {
     "slide_type": "subslide"
    }
   },
   "source": [
    "Plot line Spectrum and add add continuous $\\mathrm{sinc}(x)$ envelope."
   ]
  },
  {
   "cell_type": "code",
   "execution_count": 4,
   "id": "a6ea5079",
   "metadata": {
    "slideshow": {
     "slide_type": "fragment"
    }
   },
   "outputs": [
    {
     "data": {
      "image/png": "[encoded data removed]",
      "text/plain": [
       "<IPython.core.display.Image object>"
      ]
     },
     "metadata": {
      "filenames": {
       "image/png": "/Users/eechris/code/src/github.com/cpjobling/eg-247-textbook/_build/jupyter_execute/fourier_series/3/exp_fs2_28_0.png"
      }
     },
     "output_type": "display_data"
    }
   ],
   "source": [
    "stem(omega,f)\n",
    "title('Line Spectra for pulse with w=2')\n",
    "hold on\n",
    "om = linspace(-15,15,1000);\n",
    "xlabel('\\Omega_0 [rad/s]')\n",
    "xc = om.*pi./w;\n",
    "\n",
    "plot(om,(A/w)*sin(xc)./(xc),'r:')\n",
    "hold off"
   ]
  },
  {
   "cell_type": "markdown",
   "id": "376d957d",
   "metadata": {
    "slideshow": {
     "slide_type": "subslide"
    }
   },
   "source": [
    "#### w = 5\n",
    "\n",
    "$\\Omega_0 = 1$ rad/s; $w = 5$; $T = 2\\pi$ s; $T/w = \\pi$ s."
   ]
  },
  {
   "cell_type": "code",
   "execution_count": 5,
   "id": "743317e0",
   "metadata": {},
   "outputs": [
    {
     "data": {
      "image/png": "[encoded data removed]",
      "text/plain": [
       "<IPython.core.display.Image object>"
      ]
     },
     "metadata": {
      "filenames": {
       "image/png": "/Users/eechris/code/src/github.com/cpjobling/eg-247-textbook/_build/jupyter_execute/fourier_series/3/exp_fs2_30_0.png"
      }
     },
     "output_type": "display_data"
    }
   ],
   "source": [
    "A = 1; w = 5; [f,omega] = pulse_fs(A,w,15);\n",
    "stem(omega,f)\n",
    "title('Line Spectra for pulse with w=2')\n",
    "hold on\n",
    "om = linspace(-15,15,1000);\n",
    "xlabel('\\Omega_0 [rad/s]')\n",
    "xc = om.*pi./w;\n",
    "plot(om,(A/w)*sin(xc)./(xc),'r:')\n",
    "hold off"
   ]
  },
  {
   "cell_type": "markdown",
   "id": "1906ac9d",
   "metadata": {
    "slideshow": {
     "slide_type": "subslide"
    }
   },
   "source": [
    "#### w = 10\n",
    "\n",
    "$\\Omega_0 = 1$ rad/s; $w = 10$; $T = 2\\pi$ s; $T/w = \\pi$ s."
   ]
  },
  {
   "cell_type": "code",
   "execution_count": 6,
   "id": "772cbc0a",
   "metadata": {
    "slideshow": {
     "slide_type": "subslide"
    }
   },
   "outputs": [
    {
     "data": {
      "image/png": "[encoded data removed]",
      "text/plain": [
       "<IPython.core.display.Image object>"
      ]
     },
     "metadata": {
      "filenames": {
       "image/png": "/Users/eechris/code/src/github.com/cpjobling/eg-247-textbook/_build/jupyter_execute/fourier_series/3/exp_fs2_32_0.png"
      }
     },
     "output_type": "display_data"
    }
   ],
   "source": [
    "A = 1; w = 10; [f,omega] = pulse_fs(A,w,15);\n",
    "stem(omega,f)\n",
    "title('Line Spectra for pulse with w=10')\n",
    "hold on\n",
    "om = linspace(-15,15,1000);\n",
    "xlabel('\\Omega_0 [rad/s]')\n",
    "xc = om.*pi./w;\n",
    "plot(om,(A/w)*sin(xc)./(xc),'r:')\n",
    "hold off"
   ]
  },
  {
   "cell_type": "markdown",
   "id": "baac4d11",
   "metadata": {
    "slideshow": {
     "slide_type": "subslide"
    }
   },
   "source": [
    "#### Implications\n",
    "\n",
    "* As the width of the pulse **reduces** the width of the freqency spectra needed to fully describe the signal **increases** \n",
    "* more bandwidth is needed to transmit the pulse."
   ]
  },
  {
   "cell_type": "markdown",
   "id": "556ac3ff",
   "metadata": {
    "slideshow": {
     "slide_type": "notes"
    }
   },
   "source": [
    "**Note**\n",
    "\n",
    "Text book seems to get the wrong results. Karris plots $\\sin(wx)/(wx)$ rather than $\\sin(x/w)/(x/w)$ in producing the diagrams shown in Figs. 7.36&mdash;7-38.\n",
    "\n",
    "However, if you view $\\sin(wx)/wx$ as in indication of the bandwidth needed to transmit a pulse of width $T/w$ the plots Karris gives make more sense."
   ]
  },
  {
   "cell_type": "markdown",
   "id": "8ab6dd6a",
   "metadata": {
    "slideshow": {
     "slide_type": "slide"
    }
   },
   "source": [
    "### Example 4\n",
    "\n",
    "Use the result of Example 1 to compute the exponential Fourier series of the impulse train $\\delta(t\\pm 2\\pi k)$ shown below \n",
    "\n",
    "<img src=\"pictures/impulse_train.png\">"
   ]
  },
  {
   "cell_type": "markdown",
   "id": "b18ea966",
   "metadata": {
    "slideshow": {
     "slide_type": "notes"
    }
   },
   "source": [
    "### Solution\n",
    "\n",
    "To solve this we take the previous result and choose amplitude (height) $A$ so that area of pulse is unity. Then we let width go to zero while maintaining the area of unity. This creates a train of impulses $\\delta(t\\pm 2\\pi k)$.\n",
    "\n",
    "$$C_k  = \\frac{1}{2\\pi}$$\n",
    "\n",
    "and, therefore\n",
    "\n",
    "$$f(t) = \\frac{1}{2\\pi}\\sum_{k=-\\infty}^{\\infty} e^{jk\\Omega_0 t}$$\n",
    "\n",
    "Try it!"
   ]
  },
  {
   "cell_type": "markdown",
   "id": "b87b209e",
   "metadata": {
    "slideshow": {
     "slide_type": "notes"
    }
   },
   "source": [
    "#### Proof!\n",
    "\n",
    "From the previous result, \n",
    "\n",
    "$$C_n = \\frac{A}{w}.\\frac{\\sin(k\\pi/w)}{k\\pi/w}$$\n",
    "\n",
    "and the pulse width was defined as $T/w$, that is\n",
    "\n",
    "$$\\frac{T}{w}=\\frac{2\\pi}{w}$$"
   ]
  },
  {
   "cell_type": "markdown",
   "id": "251384a8",
   "metadata": {
    "slideshow": {
     "slide_type": "notes"
    }
   },
   "source": [
    "Let us take the previous impulse train as a recurrent pulse with amplitude\n",
    "\n",
    "$$A = \\frac{1}{T/w} = \\frac{1}{2\\pi/w} = \\frac{w}{2\\pi}.$$"
   ]
  },
  {
   "cell_type": "markdown",
   "id": "9afcbbe2",
   "metadata": {
    "slideshow": {
     "slide_type": "notes"
    }
   },
   "source": [
    "#### Pulse with unit area\n",
    "\n",
    "The area of each pulse is then \n",
    "\n",
    "$$\\frac{2\\pi}{w}\\times\\frac{w}{2\\pi} = 1$$"
   ]
  },
  {
   "cell_type": "markdown",
   "id": "dafb6fca",
   "metadata": {
    "slideshow": {
     "slide_type": "notes"
    }
   },
   "source": [
    "and the pulse train is as shown below:\n",
    "\n",
    "<img src=\"pictures/unit_area_pulses.png\">"
   ]
  },
  {
   "cell_type": "markdown",
   "id": "93a9ea9d",
   "metadata": {
    "slideshow": {
     "slide_type": "notes"
    }
   },
   "source": [
    "#### New coefficents\n",
    "\n",
    "The coefficients of the Exponential Fourier Series are now:\n",
    "    \n",
    "$$C_k = \\frac{w/2\\pi}{w}\\frac{\\sin(k\\pi/w)}{k\\pi/w} = \\frac{1}{2\\pi}\\frac{\\sin(k\\pi/w)}{k\\pi/w}$$\n",
    "\n",
    "and as $\\pi/w \\to 0$ each recurrent pulse becomes a unit impulse, and the pulse train reduces to a unit impulse train."
   ]
  },
  {
   "cell_type": "markdown",
   "id": "e8a663c2",
   "metadata": {
    "slideshow": {
     "slide_type": "notes"
    }
   },
   "source": [
    "Also, recalling that\n",
    "\n",
    "$$\\lim_{x\\to 0} \\frac{\\sin \\pi x}{\\pi x} = 1$$\n",
    "\n",
    "the coefficents reduce to\n",
    "\n",
    "$$C_k = \\frac{1}{2\\pi}$$\n",
    "\n",
    "That is all coefficients have the same amplitude and thus\n",
    "\n",
    "$$f(t) = \\frac{1}{2\\pi}\\sum_{n=-\\infty}^{\\infty} e^{jk\\Omega_0 t}$$"
   ]
  },
  {
   "cell_type": "markdown",
   "id": "7f0dacb4",
   "metadata": {
    "slideshow": {
     "slide_type": "notes"
    }
   },
   "source": [
    "#### Spectrum of Unit Impulse Train\n",
    "\n",
    "The line spectrum of a sequence of unit impulses $\\delta(t \\pm kT)$ is shown below:\n",
    "                                                         \n",
    "<img src=\"pictures/impulse_spectrum.png\">"
   ]
  },
  {
   "cell_type": "markdown",
   "id": "0936d069",
   "metadata": {
    "slideshow": {
     "slide_type": "subslide"
    }
   },
   "source": [
    "#### Another Interesting Result\n",
    "\n",
    "Consider the pulse train agin:\n",
    "\n",
    "<img src=\"pictures/pulse_train.png\">\n",
    "\n",
    "What happens when the pulses to the left and right of the centre pulse become less and less frequent? That is what happens when $T \\to \\infty$?"
   ]
  },
  {
   "cell_type": "markdown",
   "id": "451bce4d",
   "metadata": {
    "slideshow": {
     "slide_type": "notes"
    }
   },
   "source": [
    "#### Well?\n",
    "\n",
    "* As $T\\to \\infty$ the fundamental frequency $\\Omega_0 \\to 0$\n",
    "* We are then left with just one pulse centred around $t=0$.\n",
    "* The frequency difference between harmonics also becomes smaller.\n",
    "* Line spectrum becomes a continous function.\n",
    "\n",
    "This result is the basis of the *Fourier Transform* which is coming next."
   ]
  },
  {
   "cell_type": "markdown",
   "id": "e62d3b71",
   "metadata": {
    "slideshow": {
     "slide_type": "slide"
    }
   },
   "source": [
    "## Power in Periodic Signals"
   ]
  },
  {
   "cell_type": "markdown",
   "id": "3a5374fa",
   "metadata": {
    "slideshow": {
     "slide_type": "subslide"
    }
   },
   "source": [
    "In your previous courses you may have come across the definitions of Signal Energy, Average Signal Power and Root Mean Square Power:\n",
    "\n",
    "$$E = \\int_0^T |f(t)|^2 dt$$\n",
    "\n",
    "$$P_{\\mathrm{av}} = \\frac{1}{T}\\int_0^T |f(t)|^2 dt$$\n",
    "\n",
    "$$P_{\\mathrm{RMS}} = \\sqrt{\\frac{1}{T}\\int_0^T |f(t)|^2 dt}$$"
   ]
  },
  {
   "cell_type": "markdown",
   "id": "5f748100",
   "metadata": {
    "slideshow": {
     "slide_type": "subslide"
    }
   },
   "source": [
    "### Parseval's Theorem\n",
    "\n",
    "[Parseval's Theorem](https://en.wikipedia.org/wiki/Parseval's_theorem) states that the total average power of a periodic signal $f(t)$ is equal to the sum of the average powers of all its harmonic components.\n",
    "\n",
    "The power in the $k$th harmonic $C_ke^{jk\\Omega_0 t}$ is given by\n",
    "\n",
    "$$P_k = \\frac{1}{T}\\int_0^T\\left|C_ke^{jk\\Omega_0 t}\\right|^2\\,dt = \\frac{1}{T}\\int_0^T\\left|C_k\\right|^2\\,dt=\\left|C_k\\right|^2$$\n",
    "\n",
    "Since $P_k = P_{-k}$, the total power of the $k$th harmomic is $2P_k$."
   ]
  },
  {
   "cell_type": "markdown",
   "id": "79dce77e",
   "metadata": {
    "slideshow": {
     "slide_type": "notes"
    }
   },
   "source": [
    "You should note that $|C_k| = \\sqrt{C_k C_k^*}$ so $|C_k|^2 = C_k C_k^*$."
   ]
  },
  {
   "cell_type": "markdown",
   "id": "d7993933",
   "metadata": {
    "slideshow": {
     "slide_type": "subslide"
    }
   },
   "source": [
    "Parseval's theorem states that\n",
    "\n",
    "$$P = \\frac{1}{T}\\int_0^T \\left|f(t)\\right|^2\\,dt = \\sum_{k=-\\infty}^{\\infty}\\left|C_k\\right|^2.$$"
   ]
  },
  {
   "cell_type": "markdown",
   "id": "77560bc0",
   "metadata": {
    "slideshow": {
     "slide_type": "subslide"
    }
   },
   "source": [
    "### RMS Power\n",
    "\n",
    "By a similar argument:\n",
    "\n",
    "$$P_{\\mathrm{RMS}} = \\sqrt{\\frac{1}{T}\\int_0^T \\left|f(t)\\right|^2\\,dt} = \\sqrt{\\sum_{k=-\\infty}^{\\infty}\\left|C_k\\right|^2}.$$"
   ]
  },
  {
   "cell_type": "markdown",
   "id": "8d5bd312",
   "metadata": {
    "slideshow": {
     "slide_type": "slide"
    }
   },
   "source": [
    "### Example 5\n",
    "\n",
    "Compute the average power of a pulse train for which the pulse width is $T/2$ (duty cycle 50%). Use the previous result: \n",
    "\n",
    "$$C_n = \\frac{A}{w}.\\frac{\\sin(k\\pi/w)}{k\\pi/w}$$\n",
    "\n",
    "as your starting point."
   ]
  },
  {
   "cell_type": "markdown",
   "id": "3d2c0b39",
   "metadata": {
    "slideshow": {
     "slide_type": "notes"
    }
   },
   "source": [
    "<pre style=\"border: 2px solid blue\">\n",
    "\n",
    "\n",
    "\n",
    "\n",
    "\n",
    "\n",
    "\n",
    "\n",
    "\n",
    "\n",
    "\n",
    "\n",
    "\n",
    "\n",
    "\n",
    "</pre>"
   ]
  },
  {
   "cell_type": "markdown",
   "id": "accbb986",
   "metadata": {
    "slideshow": {
     "slide_type": "slide"
    }
   },
   "source": [
    "### Power Spectrum\n",
    "\n",
    "The *power spectrum* of signal is the sequence of average powers in each complex harmonic: \n",
    "\n",
    "$$|C_k|^2.$$ \n",
    "\n",
    "For real periodic signals the power spectrum is a real even sequence as \n",
    "\n",
    "$$|C_{-k}|^2 = |C_k^*|^2 = |C_k|^2.$$"
   ]
  },
  {
   "cell_type": "code",
   "execution_count": 7,
   "id": "b96f6f6e",
   "metadata": {
    "slideshow": {
     "slide_type": "notes"
    }
   },
   "outputs": [],
   "source": [
    "A = 1; w = 8; [f,omega] = pulse_fs(A,w,15);"
   ]
  },
  {
   "cell_type": "markdown",
   "id": "5b6d0413",
   "metadata": {
    "slideshow": {
     "slide_type": "notes"
    }
   },
   "source": [
    "Power spectrum"
   ]
  },
  {
   "cell_type": "code",
   "execution_count": 8,
   "id": "9f179206",
   "metadata": {
    "slideshow": {
     "slide_type": "notes"
    }
   },
   "outputs": [
    {
     "data": {
      "image/png": "[encoded data removed]",
      "text/plain": [
       "<IPython.core.display.Image object>"
      ]
     },
     "metadata": {
      "filenames": {
       "image/png": "/Users/eechris/code/src/github.com/cpjobling/eg-247-textbook/_build/jupyter_execute/fourier_series/3/exp_fs2_57_0.png"
      }
     },
     "output_type": "display_data"
    }
   ],
   "source": [
    "stem(omega,abs(f).^2)\n",
    "title('Power Spectrum for pulse width T/8')\n",
    "ylabel('|C_k|^2')\n",
    "xlabel('\\Omega_0 [rad/s]')"
   ]
  },
  {
   "cell_type": "markdown",
   "id": "e7d0b1a9",
   "metadata": {
    "slideshow": {
     "slide_type": "notes"
    }
   },
   "source": [
    "Note that most of the power is concentrated at DC and in the first seven harmonic components. That is in the frequency range $[-14\\pi/T,+14\\pi/T]$ rad/s."
   ]
  },
  {
   "cell_type": "markdown",
   "id": "6a07634a",
   "metadata": {
    "slideshow": {
     "slide_type": "slide"
    }
   },
   "source": [
    "### Total Harmonic Distortion\n",
    "\n",
    "Suppose that a signal that is supposed to be a pure sine wave of amplitude A is distorted as shown below\n",
    "\n",
    "<img src=\"pictures/thd.png\">"
   ]
  },
  {
   "cell_type": "markdown",
   "id": "f45cbace",
   "metadata": {
    "slideshow": {
     "slide_type": "notes"
    }
   },
   "source": [
    "This can occur in the line voltages of an industrial plant that makes heavy use of nonlineear loads such as electric arc furnaces, solid state relays, motor drives, etc (E.g. Tata Steel!)"
   ]
  },
  {
   "cell_type": "markdown",
   "id": "873c1315",
   "metadata": {
    "slideshow": {
     "slide_type": "subslide"
    }
   },
   "source": [
    "#### THD Defined\n",
    "\n",
    "Clearly, some of the harmonics for $k\\ne \\pm 1$ are nonzero. One way to characterize the distortion is to compute the ratio of average power in all the harmonics that \"should not be present\", that is for $k > 1$, to the total average power of the distorted sine wave. The square-root of this ratio is called the *total harmonic distortion* (THD) of the signal."
   ]
  },
  {
   "cell_type": "markdown",
   "id": "a12e7fd7",
   "metadata": {
    "slideshow": {
     "slide_type": "subslide"
    }
   },
   "source": [
    "If the signal is real and based on a sine wave (that is *odd*), then $C_k=0$ and\n",
    "\n",
    "$$f_{\\mathrm{RMS}}=\\sqrt{\\sum_{k=1}^{\\infty}2|C_k|^2}$$"
   ]
  },
  {
   "cell_type": "markdown",
   "id": "24061a9e",
   "metadata": {
    "slideshow": {
     "slide_type": "subslide"
    }
   },
   "source": [
    "and we can define the THD as the ratio of the RMS value for all the harmonics for $K>1$ (the distortion) to the RMS of the fundamental which is $$\\sqrt{2\\left|C_1\\right|^2}:$$\n",
    "\n",
    "$${\\rm{THD}} = 100\\sqrt {\\frac{\\sum\\limits_{k = 2}^\\infty  {\\left| C_k \\right|^2}} {\\left| C_1 \\right|^2}} \\% $$"
   ]
  },
  {
   "cell_type": "markdown",
   "id": "c0544180",
   "metadata": {
    "slideshow": {
     "slide_type": "subslide"
    }
   },
   "source": [
    "#### Computation of THD\n",
    "\n",
    "<img src=\"pictures/thd_ps.png\">"
   ]
  },
  {
   "cell_type": "markdown",
   "id": "9d173618",
   "metadata": {
    "slideshow": {
     "slide_type": "slide"
    }
   },
   "source": [
    "## Steady-State Response of an LTI System to a Periodic Signal\n",
    "\n",
    "The response of an LTI system with impulse response $h(t)$ to a complex exponential signal $e^{st}$ is the same complex exponential multiplied by a complex gain: $y(t) = H(s)e^{st}$, where:\n",
    "\n",
    "$$H(s)=\\int_{-\\infty}^{\\infty}h(\\tau)e^{-s\\tau}\\,d\\tau.$$"
   ]
  },
  {
   "cell_type": "markdown",
   "id": "f1fcd9aa",
   "metadata": {
    "slideshow": {
     "slide_type": "subslide"
    }
   },
   "source": [
    "In particular, for $s = j\\omega$, the output is simply $y(t)=H(j\\omega)e^{j\\omega t}$.\n",
    "\n",
    "The complex functions $H(s)$ and $H(j\\omega)$ are called the system's *transfer function* and *frequency response*, respectively."
   ]
  },
  {
   "cell_type": "markdown",
   "id": "2d9e89fd",
   "metadata": {
    "slideshow": {
     "slide_type": "subslide"
    }
   },
   "source": [
    "### By superposition\n",
    "\n",
    "The output of an LTI system to a periodic function with period $T$ represented by a Fourier series is given by:\n",
    "\n",
    "$$y(t)=\\sum_{k=-\\infty}^{\\infty} C_kH(jk\\Omega_0)e^{jk\\Omega_0 t}$$\n",
    "\n",
    "where $\\Omega_0 = T/2\\pi$ is the fundamental frequency."
   ]
  },
  {
   "cell_type": "markdown",
   "id": "be0a44e9",
   "metadata": {
    "slideshow": {
     "slide_type": "subslide"
    }
   },
   "source": [
    "Thus $y(t)$ is a Fourier series itself with coefficients $D_k$:\n",
    "\n",
    "$$D_k = C_kH(jk\\Omega_0)$$"
   ]
  },
  {
   "cell_type": "markdown",
   "id": "c1e5147a",
   "metadata": {
    "slideshow": {
     "slide_type": "subslide"
    }
   },
   "source": [
    "### Implications of this important result\n",
    "\n",
    "The effect of an LTI system on a periodic input signal is to modify its Fourier series through a multiplication by its frequency response evaluated at the harmonic frequencies."
   ]
  },
  {
   "cell_type": "markdown",
   "id": "45f75d59",
   "metadata": {
    "slideshow": {
     "slide_type": "subslide"
    }
   },
   "source": [
    "### Illustration\n",
    "\n",
    "This picture below shows the effect of an LTI system on a periodic input in the frequency domain.\n",
    "\n",
    "<img src=\"pictures/filter.png\">"
   ]
  },
  {
   "cell_type": "markdown",
   "id": "93a0020c",
   "metadata": {},
   "source": [
    "### Further explanation\n",
    "\n",
    "I have added some additional notes on [Filter Attenuation](/FAQS/faq.html#Filter-attenuation) in the [FAQs](/FAQS/faq)."
   ]
  },
  {
   "cell_type": "markdown",
   "id": "44baad4b",
   "metadata": {
    "slideshow": {
     "slide_type": "subslide"
    }
   },
   "source": [
    "### Filtering\n",
    "\n",
    "A consequence of the previous result is that we can design a system that has a desirable frequency spectrum $H(jk\\Omega_0)$ that retains certain frequencies and cuts off others.\n",
    "\n",
    "We will return to this idea later."
   ]
  },
  {
   "cell_type": "markdown",
   "id": "493c48aa",
   "metadata": {
    "slideshow": {
     "slide_type": "slide"
    }
   },
   "source": [
    "## Summary\n",
    "\n",
    "*Summary*\n",
    "\n",
    "* Line spectra\n",
    "* Power in periodic signals\n",
    "* Steady-state response of an LTI system to a periodic signal"
   ]
  },
  {
   "cell_type": "markdown",
   "id": "291eb64b",
   "metadata": {
    "slideshow": {
     "slide_type": "notes"
    }
   },
   "source": [
    "### Answers\n",
    "\n",
    "Given\n",
    "\n",
    "$$C_k = \\frac{1}{2\\pi}\\int_{-\\pi}^{\\pi} f(t)e^{-jk(\\Omega_0 t)}\\,d(\\Omega_0 t)$$\n",
    "\n",
    "* Is the function **even** or **odd**? **even** $f(t) = f(-t)$!\n",
    "* Does the signal have **half-wave symmetry**? No!\n",
    "* What are the cosequencies of symmetry on the form of the coefficients $C_k$? $C_k$ will be real values. Trig. equivalent no sine terms.\n",
    "* What function do we actually need to integrate to compute $C_k$? We only need to integrate between the limits $-\\pi/w \\to \\pi/w$\n",
    "\n",
    "$$C_k = \\frac{1}{2\\pi}\\int_{-\\pi/w}^{\\pi/w} Ae^{-jk(\\Omega_0 t)}\\,d(\\Omega_0 t) = \\frac{A}{2\\pi}\\int_{-\\pi/w}^{\\pi/w} e^{-jk(\\Omega_0 t)}\\,d(\\Omega_0 t) $$"
   ]
  },
  {
   "cell_type": "markdown",
   "id": "ab991123",
   "metadata": {
    "slideshow": {
     "slide_type": "notes"
    }
   },
   "source": [
    "### Solution: DC component!\n",
    "\n",
    "$$C_0 = \\left.\\frac{A}{2\\pi}\\,\\Omega_0 t\\,\\right|_{-\\pi/w}^{\\pi/w} = \\frac{A}{2\\pi}\\left(\\frac{\\pi}{w}+\\frac{\\pi}{w}\\right)$$\n",
    "\n",
    "or\n",
    "\n",
    "$$C_0 = \\frac{A}{w}$$"
   ]
  },
  {
   "cell_type": "markdown",
   "id": "da21eb56",
   "metadata": {
    "slideshow": {
     "slide_type": "notes"
    }
   },
   "source": [
    "### Harmonic coefficients!\n",
    "\n",
    "$$C_k = \\left.\\frac{A}{-jk2\\pi}\\,e^{-jk(\\omega t)}\\,\\right|_{-\\pi/w}^{\\pi/w} = \\frac{A}{k\\pi}\\left(\\frac{e^{jk\\pi/w}-e^{-jk\\pi/w}}{j2}\\right) = \\frac{A}{k\\pi}\\sin\\left(\\frac{k\\pi}{w}\\right)$$\n",
    "\n",
    "$$C_k = \\frac{A}{w}\\frac{sin\\left(k\\pi/w\\right)}{k\\pi/w}$$"
   ]
  },
  {
   "cell_type": "markdown",
   "id": "48b6938f",
   "metadata": {
    "slideshow": {
     "slide_type": "notes"
    }
   },
   "source": [
    "### Exponential Fourier Series!\n",
    "\n",
    "$$f(t)=\\sum_{k=-\\infty}^{\\infty}\\;\\frac{A}{w}\\,\\frac{\\sin\\left(k\\pi/w\\right)}{k\\pi/w} e^{-k\\Omega_0 t}$$"
   ]
  },
  {
   "cell_type": "markdown",
   "id": "5437d5b7",
   "metadata": {
    "slideshow": {
     "slide_type": "notes"
    }
   },
   "source": [
    "### Solution 5\n",
    "\n",
    "$w = 2$ so:\n",
    "\n",
    "$$C_n = \\frac{A}{2}.\\frac{\\sin(k\\pi/2)}{k\\pi/2}$$\n",
    "\n",
    "Write down an expression for $P$ using Parseval's Theorem"
   ]
  },
  {
   "cell_type": "markdown",
   "id": "f7371b4c",
   "metadata": {
    "slideshow": {
     "slide_type": "notes"
    }
   },
   "source": [
    "### P\n",
    "\n",
    "$$P = \\sum\\limits_{k =  - \\infty }^\\infty  \\left| C_k \\right|^2  = \\sum\\limits_{k =  - \\infty }^\\infty  \\left| \\frac{A}{2}{\\mathop{\\rm sinc}\\nolimits} \\frac{k\\pi }{2} \\right|^2  = {A^2}\\left( \\frac{1}{4} + 2\\sum\\limits_{k = 1}^\\infty  \\left| \\frac{1}{4}\\mathop{\\rm sinc}\\nolimits \\frac{k\\pi }{2} \\right|^2  \\right)$$\n",
    "\n",
    "sinc$(k\\pi/2) = 0$ for $k$ even ($k=0,2,4,6,\\ldots$) so...?"
   ]
  },
  {
   "cell_type": "markdown",
   "id": "8380f433",
   "metadata": {
    "slideshow": {
     "slide_type": "notes"
    }
   },
   "source": [
    "### P for k odd\n",
    "\n",
    "$$P = A^2\\left( \\frac{1}{4} + \\frac{1}{2}\\sum\\limits_{k = 1,3,5, \\ldots }^\\infty  \\left| \\rm{sinc}\\frac{k\\pi }{2} \\right| ^2 \\right) = A^2\\left( \\frac{1}{4} + \\frac{1}{2}\\sum\\limits_{k = 1,3,5, \\ldots }^\\infty  \\left| \\frac{\\sin \\left( \\frac{k\\pi }{2} \\right)}{\\frac{k\\pi }{2}} \\right|^2  \\right)$$\n",
    "\n",
    "$\\sin(k\\pi/2) = 1$ for $k$ odd ($k=1,3,5,7,\\ldots$) so...?"
   ]
  },
  {
   "cell_type": "markdown",
   "id": "b422c024",
   "metadata": {
    "slideshow": {
     "slide_type": "notes"
    }
   },
   "source": [
    "### P after eliminating sine\n",
    "\n",
    "$$P = {A^2}\\left( \\frac{1}{4} + \\frac{2}{\\pi ^2}\\left[ 1 + \\frac{1}{9} + \\frac{1}{25} +  \\ldots  \\right]  \\right) = {A^2}\\left( \\frac{1}{4} + \\frac{2}{\\pi ^2}\\left[ \\frac{\\pi ^2}{8} \\right] \\right)$$\n",
    "\n",
    "$$P = \\frac{A^2}{2}$$"
   ]
  },
  {
   "cell_type": "markdown",
   "id": "cdb17ee6",
   "metadata": {
    "slideshow": {
     "slide_type": "notes"
    }
   },
   "source": [
    "### Check P from f(t)\n",
    "\n",
    "$$P = \\frac{1}{2\\pi}\\int_{-\\pi/2}^{\\pi/2}|f(t)|^2\\,d\\omega t = \\frac{1}{2\\pi}\\int_{-\\pi/2}^{\\pi/2}|A|^2\\,d\\omega t = \\frac{A^2}{2\\pi}\\left(\\frac{\\pi}{2}+\\frac{\\pi}{2}\\right) = \\frac{A^2}{2}.$$"
   ]
  }
 ],
 "metadata": {
  "jupytext": {
   "formats": "ipynb,md:myst",
   "text_representation": {
    "extension": ".md",
    "format_name": "myst",
    "format_version": 0.13,
    "jupytext_version": "1.14.4"
   }
  },
  "kernelspec": {
   "display_name": "Matlab",
   "language": "matlab",
   "name": "matlab"
  },
  "language_info": {
   "codemirror_mode": "octave",
   "file_extension": ".m",
   "help_links": [
    {
     "text": "MetaKernel Magics",
     "url": "https://metakernel.readthedocs.io/en/latest/source/README.html"
    }
   ],
   "mimetype": "text/x-octave",
   "name": "matlab",
   "version": "0.17.1"
  },
  "source_map": [
   15,
   19,
   31,
   39,
   47,
   53,
   65,
   71,
   83,
   89,
   97,
   103,
   111,
   124,
   128,
   148,
   154,
   174,
   180,
   200,
   204,
   224,
   232,
   242,
   264,
   270,
   274,
   283,
   287,
   303,
   309,
   321,
   327,
   343,
   350,
   358,
   366,
   380,
   392,
   398,
   406,
   412,
   422,
   436,
   444,
   454,
   465,
   469,
   479,
   491,
   495,
   501,
   509,
   519,
   539,
   551,
   559,
   563,
   574,
   578,
   586,
   590,
   596,
   602,
   608,
   614,
   622,
   628,
   638,
   644,
   650,
   658,
   664,
   672,
   682,
   697,
   707,
   715,
   721,
   731,
   739,
   747,
   755
  ]
 },
 "nbformat": 4,
 "nbformat_minor": 5
}