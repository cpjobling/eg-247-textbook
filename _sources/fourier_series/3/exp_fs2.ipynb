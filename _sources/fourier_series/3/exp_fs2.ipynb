{
 "cells": [
  {
   "cell_type": "markdown",
   "id": "2190bb1e",
   "metadata": {
    "slideshow": {
     "slide_type": "slide"
    }
   },
   "source": [
    "(exp_fs2)=\n",
    "\n",
    "# Unit 3.3: Computing Line Spectra"
   ]
  },
  {
   "cell_type": "markdown",
   "id": "5210e6af",
   "metadata": {
    "slideshow": {
     "slide_type": "notes"
    }
   },
   "source": [
    "In {ref}`exp_fs1` we saw that we could exploit the complex exponential $e^{j\\omega t}$ to redefine trigonometric Fourier series into the exponential Fourier series and in so doing we eliminate one integration and at the same time simplify the calculation of the coefficients of the Fourier series.\n",
    "\n",
    "In this section we show how the exponential form of the Fourier series leads us to the ability to present waveforms as line spectra which simplifies the calculation of power for systems with harmonics and leads in the limit as 𝑇 approaches infinity to the Fourier Transform."
   ]
  },
  {
   "cell_type": "markdown",
   "id": "c35855a8",
   "metadata": {
    "slideshow": {
     "slide_type": "notes"
    }
   },
   "source": [
    "## Colophon\n",
    "\n",
    "An annotatable worksheet for this presentation is available as {ref}`ws4`.\n",
    "\n",
    "- The source code for this page is [fourier_series/3/exp_fs2.md](https://github.com/cpjobling/eg-247-textbook/blob/master/fourier_series/3/exp_fs2.md).\n",
    "\n",
    "- You can view the notes for this presentation as a webpage ({ref}`exp_fs2`).\n",
    "\n",
    "- This page is downloadable as a [PDF](https://cpjobling.github.io/eg-247-textbook/fourier_series/3/exp_fs2.pdf) file."
   ]
  },
  {
   "cell_type": "markdown",
   "id": "d09faef1",
   "metadata": {
    "slideshow": {
     "slide_type": "slide"
    }
   },
   "source": [
    "## Agenda\n",
    "\n",
    "- {ref}`fs3:fundamental`\n",
    "- {ref}`fs3:harmonics`\n",
    "- {ref}`fs3:line-spectra`\n",
    "- {ref}`examples18`"
   ]
  },
  {
   "cell_type": "markdown",
   "id": "297d7b90",
   "metadata": {
    "slideshow": {
     "slide_type": "slide"
    }
   },
   "source": [
    "(fs3:fundamental)=\n",
    "\n",
    "## Fundamental frequency\n",
    "\n",
    "_Fundamental frequency_ -- A periodic signal $f(t) = f(t + nT),\\; n\\in \\mathbb{Z}$ has period $T$ s and a fundamental frequency $f_0 = 1/T$ Hz."
   ]
  },
  {
   "cell_type": "markdown",
   "id": "00781b6e",
   "metadata": {
    "slideshow": {
     "slide_type": "fragment"
    }
   },
   "source": [
    "When used in Fourier series and Fourier transforms, frequencies are expressed as $\\omega$ in radians/second."
   ]
  },
  {
   "cell_type": "markdown",
   "id": "7a191c98",
   "metadata": {
    "slideshow": {
     "slide_type": "fragment"
    }
   },
   "source": [
    "The **fundamental frequency** is $\\omega = \\Omega_0 = 2 \\pi f_0$ or, equivalently, $\\Omega_0 = 2 \\pi /T$ rad/s."
   ]
  },
  {
   "cell_type": "markdown",
   "id": "082b8acc",
   "metadata": {
    "slideshow": {
     "slide_type": "slide"
    }
   },
   "source": [
    "(fs3:harmonics)=\n",
    "\n",
    "## Harmonic frequencies\n",
    "\n",
    "_Harmonic frequencies_ (or _harmonics_) are simply integer multiples of the fundamental frequency $\\Omega_0$."
   ]
  },
  {
   "cell_type": "markdown",
   "id": "706dd9f2",
   "metadata": {
    "slideshow": {
     "slide_type": "fragment"
    }
   },
   "source": [
    "- The zero-th harmonic is $\\Omega_0 = 0$ rad/s or DC."
   ]
  },
  {
   "cell_type": "markdown",
   "id": "a4073aff",
   "metadata": {
    "slideshow": {
     "slide_type": "fragment"
    }
   },
   "source": [
    "- The first harmonic is $1.\\Omega_0 = \\Omega_0$, is the fundamental frequency,"
   ]
  },
  {
   "cell_type": "markdown",
   "id": "dae0a659",
   "metadata": {
    "slideshow": {
     "slide_type": "fragment"
    }
   },
   "source": [
    "- The second harmonic is $2 \\Omega_0$,"
   ]
  },
  {
   "cell_type": "markdown",
   "id": "87ac0b8c",
   "metadata": {
    "slideshow": {
     "slide_type": "fragment"
    }
   },
   "source": [
    "- The third harmonic is $3 \\Omega_0$, etc."
   ]
  },
  {
   "cell_type": "markdown",
   "id": "733b4043",
   "metadata": {
    "slideshow": {
     "slide_type": "fragment"
    }
   },
   "source": [
    "In general, we can express the $k$-th harmonic as $k\\Omega_0,\\; k\\in \\mathbb{Z}$."
   ]
  },
  {
   "cell_type": "markdown",
   "id": "594549bd",
   "metadata": {
    "slideshow": {
     "slide_type": "slide"
    }
   },
   "source": [
    "(fs3:line-spectra)=\n",
    "\n",
    "## Line Spectra\n",
    "\n",
    "The use of line spectra diagrams is a useful way to visualize the harmonic frequency components of a peiodic signal.\n",
    "\n",
    "In MATLAB, the easiest way to plot this is using a _stem plot_ of the lines, representing the Fourier series (FS) coefficients, plotted against $k$."
   ]
  },
  {
   "cell_type": "markdown",
   "id": "93ba6b86",
   "metadata": {
    "slideshow": {
     "slide_type": "slide"
    }
   },
   "source": [
    "### Line Spectra for Exp. FS\n",
    "\n",
    "When the exponential Fourier series are known it is useful to plot the amplitude and phase of the harmonics on a frequency scale."
   ]
  },
  {
   "cell_type": "markdown",
   "id": "8ba1a150",
   "metadata": {
    "slideshow": {
     "slide_type": "notes"
    }
   },
   "source": [
    "This is the spectrum of the Exponential Fourier Series calculated in {ref}`fs2:matlab` is reproduced in {numref}`fig:5.3.1`"
   ]
  },
  {
   "cell_type": "markdown",
   "id": "a3cc93e7",
   "metadata": {
    "slideshow": {
     "slide_type": "subslide"
    }
   },
   "source": [
    ":::{figure-md} fig:5.3.1.\n",
    "<img src=\"pictures/efs_sqw.png\" alt=\"Exponential Fourier Series spectrum for a square wave.\" width=\"80%\">\n",
    "\n",
    "Exponential Fourier Series spectrum for the square wave calculated in {numref}`fs2:eg`.\n",
    ":::"
   ]
  },
  {
   "cell_type": "markdown",
   "id": "8f77cbda",
   "metadata": {
    "slideshow": {
     "slide_type": "subslide"
    }
   },
   "source": [
    "### Line Spectra for Trig. FS\n",
    "\n",
    "If we take the results for the Exponential Fourier Series and gather terms, the amplitudes for the Trig. Fourier Series are given by:\n",
    "\n",
    "$$a_0 = 2C_0$$\n",
    "\n",
    "$$a_k = (C_k + C_{-k})$$\n",
    "\n",
    "$$b_k = j(C_k - C_{-k})$$"
   ]
  },
  {
   "cell_type": "markdown",
   "id": "85affda8",
   "metadata": {
    "slideshow": {
     "slide_type": "subslide"
    }
   },
   "source": [
    "Applying this to the previous result we get the spectrum shown in {numref}`fig:tfs`\n",
    "\n",
    ":::{figure-md} fig:tfs\n",
    "<img src=\"pictures/line-spec.png\" alt=\"Trigonometric Fourier series for a square wave\" width=\"80%\">\n",
    "\n",
    "Trigonometric Fourier series for a square wave\n",
    ":::"
   ]
  },
  {
   "cell_type": "markdown",
   "id": "58bd5b02",
   "metadata": {
    "slideshow": {
     "slide_type": "slide"
    }
   },
   "source": [
    "(examples18)=\n",
    "\n",
    "## Examples"
   ]
  },
  {
   "cell_type": "markdown",
   "id": "5a723d8f",
   "metadata": {
    "slideshow": {
     "slide_type": "slide"
    }
   },
   "source": [
    "### Example 3\n",
    "\n",
    "(ex:18.1)=\n",
    "\n",
    "Compute the exponential Fourier series for the waveform shown below and plot its line spectra.\n",
    "\n",
    ":::{figure-md} fig:ex:18.1\n",
    "<img src=\"pictures/pulse_train.png\" alt=\"\" width=\"80%\">\n",
    "\n",
    "A pulse train\n",
    ":::"
   ]
  },
  {
   "cell_type": "markdown",
   "id": "a2aae2d8",
   "metadata": {
    "slideshow": {
     "slide_type": "notes"
    }
   },
   "source": [
    "### Solution\n",
    "\n",
    "The recurrent rectangular pulse is used extensively in digital communication systems. To determine how faithfully such pulses will be transmitted, it is necessary to know the frequency components."
   ]
  },
  {
   "cell_type": "markdown",
   "id": "251ad917",
   "metadata": {
    "slideshow": {
     "slide_type": "notes"
    }
   },
   "source": [
    "**What do we know?**\n",
    "\n",
    "- The pulse duration is $T/w$.\n",
    "- The recurrence interval $T$ is $w$ times the pulse duration.\n",
    "- $w$ is the ratio of pulse repetition time to the pulse duration &ndash; normally called the _duty cycle_."
   ]
  },
  {
   "cell_type": "markdown",
   "id": "457c7d28",
   "metadata": {
    "slideshow": {
     "slide_type": "notes"
    }
   },
   "source": [
    "#### Coefficients of the Exponential Fourier Series?\n",
    "\n",
    "Given\n",
    "\n",
    "$$C_k = \\frac{1}{2\\pi}\\int_{-\\pi}^{\\pi} f(\\theta)e^{-jk\\theta}\\,d\\theta$$\n",
    "\n",
    "- Is the function **even** or **odd**?\n",
    "- Does the signal have **half-wave symmetry**?\n",
    "- What are the consequencies of symmetry on the form of the coefficients $C_k$?\n",
    "- What function do we actually need to integrate to compute $C_k$?"
   ]
  },
  {
   "cell_type": "markdown",
   "id": "43c1f121",
   "metadata": {
    "slideshow": {
     "slide_type": "notes"
    }
   },
   "source": [
    "Practice here. Solutions at bottom of section."
   ]
  },
  {
   "cell_type": "markdown",
   "id": "3137f043",
   "metadata": {
    "slideshow": {
     "slide_type": "notes"
    }
   },
   "source": [
    "<pre style=\"border: 2px solid blue\">\n",
    "\n",
    "\n",
    "\n",
    "\n",
    "\n",
    "\n",
    "\n",
    "\n",
    "\n",
    "\n",
    "\n",
    "\n",
    "\n",
    "\n",
    "\n",
    "</pre>"
   ]
  },
  {
   "cell_type": "markdown",
   "id": "4e10c385",
   "metadata": {
    "slideshow": {
     "slide_type": "notes"
    }
   },
   "source": [
    "#### DC Component?\n",
    "\n",
    "Let $k = 0$ then perform the integral"
   ]
  },
  {
   "cell_type": "markdown",
   "id": "fab32be7",
   "metadata": {
    "slideshow": {
     "slide_type": "notes"
    }
   },
   "source": [
    "<pre style=\"border: 2px solid blue\">\n",
    "\n",
    "\n",
    "\n",
    "\n",
    "\n",
    "\n",
    "\n",
    "\n",
    "\n",
    "\n",
    "\n",
    "\n",
    "\n",
    "\n",
    "\n",
    "</pre>"
   ]
  },
  {
   "cell_type": "markdown",
   "id": "3aa4b7e8",
   "metadata": {
    "slideshow": {
     "slide_type": "notes"
    }
   },
   "source": [
    "#### Harmonic coefficients?\n",
    "\n",
    "Integrate for $k\\ne 0$"
   ]
  },
  {
   "cell_type": "markdown",
   "id": "67925e1a",
   "metadata": {
    "slideshow": {
     "slide_type": "notes"
    }
   },
   "source": [
    "<pre style=\"border: 2px solid blue\">\n",
    "\n",
    "\n",
    "\n",
    "\n",
    "\n",
    "\n",
    "\n",
    "\n",
    "\n",
    "\n",
    "\n",
    "\n",
    "\n",
    "\n",
    "\n",
    "</pre>"
   ]
  },
  {
   "cell_type": "markdown",
   "id": "8a8eb84f",
   "metadata": {
    "slideshow": {
     "slide_type": "notes"
    }
   },
   "source": [
    "#### Exponential Fourier Series?"
   ]
  },
  {
   "cell_type": "markdown",
   "id": "9ed56737",
   "metadata": {
    "slideshow": {
     "slide_type": "notes"
    }
   },
   "source": [
    "<pre style=\"border: 2px solid blue\">\n",
    "\n",
    "\n",
    "\n",
    "\n",
    "\n",
    "\n",
    "\n",
    "\n",
    "\n",
    "\n",
    "\n",
    "\n",
    "\n",
    "\n",
    "\n",
    "</pre>"
   ]
  },
  {
   "cell_type": "markdown",
   "id": "b194f339",
   "metadata": {
    "slideshow": {
     "slide_type": "subslide"
    }
   },
   "source": [
    "(ex:18.2)=\n",
    "\n",
    "### Example 4: Effect of pulse width on frequency spectra\n",
    "\n",
    "let's see what effect the duty cycle $w$ has on the spectra.\n",
    "\n",
    "Recall pulse width = $T/w$ and plot the complex line spectra for pulse with width $w$ which repeats every $T$ seconds. We will write a MATLAB function `pulse_fs` to simplify the computation."
   ]
  },
  {
   "cell_type": "code",
   "execution_count": 11,
   "id": "28ce4c0c",
   "metadata": {
    "slideshow": {
     "slide_type": "fragment"
    }
   },
   "outputs": [],
   "source": [
    "clear all\n",
    "cd ../matlab\n",
    "format compact; \n",
    "setappdata(0, \"MKernel_plot_format\", 'svg')"
   ]
  },
  {
   "cell_type": "markdown",
   "id": "0fd54056",
   "metadata": {
    "slideshow": {
     "slide_type": "notes"
    }
   },
   "source": [
    "Copy the following text and save it in an m-file called [pulse_fs.m](pulse_fs.m)\n",
    "```matlab\n",
    "function [f,omega] = pulse_fs(A,w,range)\n",
    "% PULSE_FS compute fourier series spectrum in range\n",
    "% -range:range for pulse with\n",
    "% height A, period T and width duty cycle w.\n",
    "omega = -range:range;\n",
    "for mm = 1:length(omega)\n",
    "    x = omega(mm)*pi/w;\n",
    "    if omega(mm) == 0\n",
    "        f(mm) = A/w;\n",
    "    else\n",
    "        f(mm) = (A/w)*sin(x)/(x);\n",
    "    end\n",
    "end\n",
    "return\n",
    "```"
   ]
  },
  {
   "cell_type": "code",
   "execution_count": 12,
   "id": "60ef7fe8",
   "metadata": {},
   "outputs": [],
   "source": [
    "edit pulse_fs"
   ]
  },
  {
   "cell_type": "markdown",
   "id": "d96d3606",
   "metadata": {
    "slideshow": {
     "slide_type": "subslide"
    }
   },
   "source": [
    "#### w = 2\n",
    "\n",
    "$\\Omega_0 = 1$ rad/s; $w = 2$; $T = 2\\pi$ s; $T/w = \\pi$ s."
   ]
  },
  {
   "cell_type": "markdown",
   "id": "2c10790f",
   "metadata": {
    "slideshow": {
     "slide_type": "fragment"
    }
   },
   "source": [
    "Compute Fourier series"
   ]
  },
  {
   "cell_type": "code",
   "execution_count": 13,
   "id": "82a24ba3",
   "metadata": {
    "slideshow": {
     "slide_type": "fragment"
    }
   },
   "outputs": [],
   "source": [
    "A = 1; w = 2;\n",
    "[f,omega] = pulse_fs(A,w,15);"
   ]
  },
  {
   "cell_type": "markdown",
   "id": "bc9ff267",
   "metadata": {
    "slideshow": {
     "slide_type": "subslide"
    }
   },
   "source": [
    "Plot line Spectrum and add add continuous $\\mathrm{sinc}(x)$ envelope."
   ]
  },
  {
   "cell_type": "code",
   "execution_count": 14,
   "id": "ee2a8121",
   "metadata": {
    "slideshow": {
     "slide_type": "fragment"
    }
   },
   "outputs": [
    {
     "data": {
      "image/svg+xml": [
       "<?xml version=\"1.0\" encoding=\"UTF-8\" standalone=\"no\"?>\n",
       "<svg width=\"294.217mm\" height=\"177.094mm\"\n",
       " viewBox=\"0 0 834 502\"\n",
       " xmlns=\"http://www.w3.org/2000/svg\" xmlns:xlink=\"http://www.w3.org/1999/xlink\"  version=\"1.2\" baseProfile=\"tiny\">\n",
       "<title>Qt SVG Document</title>\n",
       "<desc>MATLAB, The MathWorks, Inc. Version 25.1.0.2833191 R2025a Prerelease Update 2</desc>\n",
       "<defs>\n",
       "</defs>\n",
       "<g fill=\"none\" stroke=\"black\" stroke-width=\"1\" fill-rule=\"evenodd\" stroke-linecap=\"square\" stroke-linejoin=\"bevel\" >\n",
       "\n",
       "<g fill=\"#ffffff\" fill-opacity=\"1\" stroke=\"none\" transform=\"matrix(0.49985,0,0,0.499751,0,0)\"\n",
       "font-family=\".AppleSystemUIFont\" font-size=\"13\" font-weight=\"400\" font-style=\"normal\" \n",
       ">\n",
       "<path vector-effect=\"none\" fill-rule=\"evenodd\" d=\"M0,0 L1668,0 L1668,1005 L0,1005 L0,0\"/>\n",
       "</g>\n",
       "\n",
       "<g fill=\"#ffffff\" fill-opacity=\"1\" stroke=\"none\" transform=\"matrix(4.9985e-05,0,0,4.99751e-05,0,0)\"\n",
       "font-family=\".AppleSystemUIFont\" font-size=\"13\" font-weight=\"400\" font-style=\"normal\" \n",
       ">\n",
       "<path vector-effect=\"none\" fill-rule=\"evenodd\" d=\"M2.17e+06,750000 L2.17e+06,8.93e+06 L1.508e+07,8.93e+06 L1.508e+07,750000 L2.17e+06,750000\"/>\n",
       "</g>\n",
       "\n",
       "<g fill=\"#212121\" fill-opacity=\"1\" stroke=\"#212121\" stroke-opacity=\"1\" stroke-width=\"1\" stroke-linecap=\"butt\" stroke-linejoin=\"round\" transform=\"matrix(0.49985,0,0,0.499751,0,0)\"\n",
       "font-family=\".AppleSystemUIFont\" font-size=\"13\" font-weight=\"400\" font-style=\"normal\" \n",
       ">\n",
       "<polyline fill=\"none\" vector-effect=\"none\" points=\"217,893 217,75 \" />\n",
       "<polyline fill=\"none\" vector-effect=\"none\" points=\"1508,893 1508,75 \" />\n",
       "<polyline fill=\"none\" vector-effect=\"none\" points=\"217,893 229.91,893 \" />\n",
       "<polyline fill=\"none\" vector-effect=\"none\" points=\"1495.09,893 1508,893 \" />\n",
       "<polyline fill=\"none\" vector-effect=\"none\" points=\"217,776.143 229.91,776.143 \" />\n",
       "<polyline fill=\"none\" vector-effect=\"none\" points=\"1495.09,776.143 1508,776.143 \" />\n",
       "<polyline fill=\"none\" vector-effect=\"none\" points=\"217,659.286 229.91,659.286 \" />\n",
       "<polyline fill=\"none\" vector-effect=\"none\" points=\"1495.09,659.286 1508,659.286 \" />\n",
       "<polyline fill=\"none\" vector-effect=\"none\" points=\"217,542.429 229.91,542.429 \" />\n",
       "<polyline fill=\"none\" vector-effect=\"none\" points=\"1495.09,542.429 1508,542.429 \" />\n",
       "<polyline fill=\"none\" vector-effect=\"none\" points=\"217,425.571 229.91,425.571 \" />\n",
       "<polyline fill=\"none\" vector-effect=\"none\" points=\"1495.09,425.571 1508,425.571 \" />\n",
       "<polyline fill=\"none\" vector-effect=\"none\" points=\"217,308.714 229.91,308.714 \" />\n",
       "<polyline fill=\"none\" vector-effect=\"none\" points=\"1495.09,308.714 1508,308.714 \" />\n",
       "<polyline fill=\"none\" vector-effect=\"none\" points=\"217,191.857 229.91,191.857 \" />\n",
       "<polyline fill=\"none\" vector-effect=\"none\" points=\"1495.09,191.857 1508,191.857 \" />\n",
       "<polyline fill=\"none\" vector-effect=\"none\" points=\"217,75 229.91,75 \" />\n",
       "<polyline fill=\"none\" vector-effect=\"none\" points=\"1495.09,75 1508,75 \" />\n",
       "</g>\n",
       "\n",
       "<g fill=\"#212121\" fill-opacity=\"1\" stroke=\"#212121\" stroke-opacity=\"1\" stroke-width=\"1\" stroke-linecap=\"square\" stroke-linejoin=\"bevel\" transform=\"matrix(0.49985,0,0,0.499751,87.4737,448.776)\"\n",
       "font-family=\"Helvetica\" font-size=\"20\" font-weight=\"400\" font-style=\"normal\" \n",
       ">\n",
       "<text fill=\"#212121\" fill-opacity=\"1\" stroke=\"none\" xml:space=\"preserve\" x=\"0\" y=\"0.390625\" font-family=\"Helvetica\" font-size=\"20\" font-weight=\"400\" font-style=\"normal\" \n",
       " >-0.2</text>\n",
       "</g>\n",
       "\n",
       "<g fill=\"#212121\" fill-opacity=\"1\" stroke=\"#212121\" stroke-opacity=\"1\" stroke-width=\"1\" stroke-linecap=\"square\" stroke-linejoin=\"bevel\" transform=\"matrix(0.49985,0,0,0.499751,87.4737,390.377)\"\n",
       "font-family=\"Helvetica\" font-size=\"20\" font-weight=\"400\" font-style=\"normal\" \n",
       ">\n",
       "<text fill=\"#212121\" fill-opacity=\"1\" stroke=\"none\" xml:space=\"preserve\" x=\"0\" y=\"0.390625\" font-family=\"Helvetica\" font-size=\"20\" font-weight=\"400\" font-style=\"normal\" \n",
       " >-0.1</text>\n",
       "</g>\n",
       "\n",
       "<g fill=\"#212121\" fill-opacity=\"1\" stroke=\"#212121\" stroke-opacity=\"1\" stroke-width=\"1\" stroke-linecap=\"square\" stroke-linejoin=\"bevel\" transform=\"matrix(0.49985,0,0,0.499751,98.9703,331.977)\"\n",
       "font-family=\"Helvetica\" font-size=\"20\" font-weight=\"400\" font-style=\"normal\" \n",
       ">\n",
       "<text fill=\"#212121\" fill-opacity=\"1\" stroke=\"none\" xml:space=\"preserve\" x=\"0\" y=\"0.390625\" font-family=\"Helvetica\" font-size=\"20\" font-weight=\"400\" font-style=\"normal\" \n",
       " >0</text>\n",
       "</g>\n",
       "\n",
       "<g fill=\"#212121\" fill-opacity=\"1\" stroke=\"#212121\" stroke-opacity=\"1\" stroke-width=\"1\" stroke-linecap=\"square\" stroke-linejoin=\"bevel\" transform=\"matrix(0.49985,0,0,0.499751,90.4728,273.578)\"\n",
       "font-family=\"Helvetica\" font-size=\"20\" font-weight=\"400\" font-style=\"normal\" \n",
       ">\n",
       "<text fill=\"#212121\" fill-opacity=\"1\" stroke=\"none\" xml:space=\"preserve\" x=\"0\" y=\"0.390625\" font-family=\"Helvetica\" font-size=\"20\" font-weight=\"400\" font-style=\"normal\" \n",
       " >0.1</text>\n",
       "</g>\n",
       "\n",
       "<g fill=\"#212121\" fill-opacity=\"1\" stroke=\"#212121\" stroke-opacity=\"1\" stroke-width=\"1\" stroke-linecap=\"square\" stroke-linejoin=\"bevel\" transform=\"matrix(0.49985,0,0,0.499751,90.4728,215.178)\"\n",
       "font-family=\"Helvetica\" font-size=\"20\" font-weight=\"400\" font-style=\"normal\" \n",
       ">\n",
       "<text fill=\"#212121\" fill-opacity=\"1\" stroke=\"none\" xml:space=\"preserve\" x=\"0\" y=\"0.390625\" font-family=\"Helvetica\" font-size=\"20\" font-weight=\"400\" font-style=\"normal\" \n",
       " >0.2</text>\n",
       "</g>\n",
       "\n",
       "<g fill=\"#212121\" fill-opacity=\"1\" stroke=\"#212121\" stroke-opacity=\"1\" stroke-width=\"1\" stroke-linecap=\"square\" stroke-linejoin=\"bevel\" transform=\"matrix(0.49985,0,0,0.499751,90.4728,156.779)\"\n",
       "font-family=\"Helvetica\" font-size=\"20\" font-weight=\"400\" font-style=\"normal\" \n",
       ">\n",
       "<text fill=\"#212121\" fill-opacity=\"1\" stroke=\"none\" xml:space=\"preserve\" x=\"0\" y=\"0.390625\" font-family=\"Helvetica\" font-size=\"20\" font-weight=\"400\" font-style=\"normal\" \n",
       " >0.3</text>\n",
       "</g>\n",
       "\n",
       "<g fill=\"#212121\" fill-opacity=\"1\" stroke=\"#212121\" stroke-opacity=\"1\" stroke-width=\"1\" stroke-linecap=\"square\" stroke-linejoin=\"bevel\" transform=\"matrix(0.49985,0,0,0.499751,90.4728,98.3795)\"\n",
       "font-family=\"Helvetica\" font-size=\"20\" font-weight=\"400\" font-style=\"normal\" \n",
       ">\n",
       "<text fill=\"#212121\" fill-opacity=\"1\" stroke=\"none\" xml:space=\"preserve\" x=\"0\" y=\"0.390625\" font-family=\"Helvetica\" font-size=\"20\" font-weight=\"400\" font-style=\"normal\" \n",
       " >0.4</text>\n",
       "</g>\n",
       "\n",
       "<g fill=\"#212121\" fill-opacity=\"1\" stroke=\"#212121\" stroke-opacity=\"1\" stroke-width=\"1\" stroke-linecap=\"square\" stroke-linejoin=\"bevel\" transform=\"matrix(0.49985,0,0,0.499751,90.4728,39.9801)\"\n",
       "font-family=\"Helvetica\" font-size=\"20\" font-weight=\"400\" font-style=\"normal\" \n",
       ">\n",
       "<text fill=\"#212121\" fill-opacity=\"1\" stroke=\"none\" xml:space=\"preserve\" x=\"0\" y=\"0.390625\" font-family=\"Helvetica\" font-size=\"20\" font-weight=\"400\" font-style=\"normal\" \n",
       " >0.5</text>\n",
       "</g>\n",
       "\n",
       "<g fill=\"#212121\" fill-opacity=\"1\" stroke=\"#212121\" stroke-opacity=\"1\" stroke-width=\"1\" stroke-linecap=\"square\" stroke-linejoin=\"bevel\" transform=\"matrix(0.49985,0,0,0.499751,348.896,33.6082)\"\n",
       "font-family=\"Helvetica\" font-size=\"22\" font-weight=\"700\" font-style=\"normal\" \n",
       ">\n",
       "<text fill=\"#212121\" fill-opacity=\"1\" stroke=\"none\" xml:space=\"preserve\" x=\"0\" y=\"-0.0625\" font-family=\"Helvetica\" font-size=\"22\" font-weight=\"700\" font-style=\"normal\" \n",
       " >Line Spectra for pulse with w=2</text>\n",
       "</g>\n",
       "\n",
       "<g fill=\"#212121\" fill-opacity=\"1\" stroke=\"#212121\" stroke-opacity=\"1\" stroke-width=\"1\" stroke-linecap=\"butt\" stroke-linejoin=\"round\" transform=\"matrix(0.49985,0,0,0.499751,0,0)\"\n",
       "font-family=\"Helvetica\" font-size=\"22\" font-weight=\"700\" font-style=\"normal\" \n",
       ">\n",
       "<polyline fill=\"none\" vector-effect=\"none\" points=\"217,659.286 1508,659.286 \" />\n",
       "</g>\n",
       "\n",
       "<g fill=\"#1171be\" fill-opacity=\"1\" stroke=\"#1171be\" stroke-opacity=\"1\" stroke-width=\"1\" stroke-linecap=\"butt\" stroke-linejoin=\"round\" transform=\"matrix(0.49985,0,0,0.499751,0,0)\"\n",
       "font-family=\"Helvetica\" font-size=\"22\" font-weight=\"700\" font-style=\"normal\" \n",
       ">\n",
       "<polyline fill=\"none\" vector-effect=\"none\" points=\"248.681,659.286 248.681,684.084 \" />\n",
       "<polyline fill=\"none\" vector-effect=\"none\" points=\"330.524,659.286 330.524,630.673 \" />\n",
       "<polyline fill=\"none\" vector-effect=\"none\" points=\"412.366,659.286 412.366,693.101 \" />\n",
       "<polyline fill=\"none\" vector-effect=\"none\" points=\"494.209,659.286 494.209,617.956 \" />\n",
       "<polyline fill=\"none\" vector-effect=\"none\" points=\"576.051,659.286 576.051,712.424 \" />\n",
       "<polyline fill=\"none\" vector-effect=\"none\" points=\"657.894,659.286 657.894,584.892 \" />\n",
       "<polyline fill=\"none\" vector-effect=\"none\" points=\"739.736,659.286 739.736,783.275 \" />\n",
       "<polyline fill=\"none\" vector-effect=\"none\" points=\"821.579,659.286 821.579,287.318 \" />\n",
       "<polyline fill=\"none\" vector-effect=\"none\" points=\"862.5,659.286 862.5,75 \" />\n",
       "<polyline fill=\"none\" vector-effect=\"none\" points=\"903.421,659.286 903.421,287.318 \" />\n",
       "<polyline fill=\"none\" vector-effect=\"none\" points=\"985.264,659.286 985.264,783.275 \" />\n",
       "<polyline fill=\"none\" vector-effect=\"none\" points=\"1067.11,659.286 1067.11,584.892 \" />\n",
       "<polyline fill=\"none\" vector-effect=\"none\" points=\"1148.95,659.286 1148.95,712.424 \" />\n",
       "<polyline fill=\"none\" vector-effect=\"none\" points=\"1230.79,659.286 1230.79,617.956 \" />\n",
       "<polyline fill=\"none\" vector-effect=\"none\" points=\"1312.63,659.286 1312.63,693.101 \" />\n",
       "<polyline fill=\"none\" vector-effect=\"none\" points=\"1394.48,659.286 1394.48,630.673 \" />\n",
       "<polyline fill=\"none\" vector-effect=\"none\" points=\"1476.32,659.286 1476.32,684.084 \" />\n",
       "</g>\n",
       "\n",
       "<g fill=\"none\" stroke=\"#1171be\" stroke-opacity=\"1\" stroke-width=\"1\" stroke-linecap=\"butt\" stroke-linejoin=\"miter\" stroke-miterlimit=\"2\" transform=\"matrix(0.49985,0,0,0.499751,0,0)\"\n",
       "font-family=\"Helvetica\" font-size=\"22\" font-weight=\"700\" font-style=\"normal\" \n",
       ">\n",
       "<path vector-effect=\"none\" fill-rule=\"evenodd\" d=\"M254.681,684.084 C254.681,680.77 251.995,678.084 248.681,678.084 C245.367,678.084 242.681,680.77 242.681,684.084 C242.681,687.397 245.367,690.084 248.681,690.084 C251.995,690.084 254.681,687.397 254.681,684.084 \"/>\n",
       "</g>\n",
       "\n",
       "<g fill=\"none\" stroke=\"#1171be\" stroke-opacity=\"1\" stroke-width=\"1\" stroke-linecap=\"butt\" stroke-linejoin=\"miter\" stroke-miterlimit=\"2\" transform=\"matrix(0.49985,0,0,0.499751,0,0)\"\n",
       "font-family=\"Helvetica\" font-size=\"22\" font-weight=\"700\" font-style=\"normal\" \n",
       ">\n",
       "<path vector-effect=\"none\" fill-rule=\"evenodd\" d=\"M295.602,659.286 C295.602,655.972 292.916,653.286 289.602,653.286 C286.289,653.286 283.602,655.972 283.602,659.286 C283.602,662.599 286.289,665.286 289.602,665.286 C292.916,665.286 295.602,662.599 295.602,659.286 \"/>\n",
       "</g>\n",
       "\n",
       "<g fill=\"none\" stroke=\"#1171be\" stroke-opacity=\"1\" stroke-width=\"1\" stroke-linecap=\"butt\" stroke-linejoin=\"miter\" stroke-miterlimit=\"2\" transform=\"matrix(0.49985,0,0,0.499751,0,0)\"\n",
       "font-family=\"Helvetica\" font-size=\"22\" font-weight=\"700\" font-style=\"normal\" \n",
       ">\n",
       "<path vector-effect=\"none\" fill-rule=\"evenodd\" d=\"M336.524,630.673 C336.524,627.359 333.837,624.673 330.524,624.673 C327.21,624.673 324.524,627.359 324.524,630.673 C324.524,633.986 327.21,636.673 330.524,636.673 C333.837,636.673 336.524,633.986 336.524,630.673 \"/>\n",
       "</g>\n",
       "\n",
       "<g fill=\"none\" stroke=\"#1171be\" stroke-opacity=\"1\" stroke-width=\"1\" stroke-linecap=\"butt\" stroke-linejoin=\"miter\" stroke-miterlimit=\"2\" transform=\"matrix(0.49985,0,0,0.499751,0,0)\"\n",
       "font-family=\"Helvetica\" font-size=\"22\" font-weight=\"700\" font-style=\"normal\" \n",
       ">\n",
       "<path vector-effect=\"none\" fill-rule=\"evenodd\" d=\"M377.445,659.286 C377.445,655.972 374.759,653.286 371.445,653.286 C368.131,653.286 365.445,655.972 365.445,659.286 C365.445,662.599 368.131,665.286 371.445,665.286 C374.759,665.286 377.445,662.599 377.445,659.286 \"/>\n",
       "</g>\n",
       "\n",
       "<g fill=\"none\" stroke=\"#1171be\" stroke-opacity=\"1\" stroke-width=\"1\" stroke-linecap=\"butt\" stroke-linejoin=\"miter\" stroke-miterlimit=\"2\" transform=\"matrix(0.49985,0,0,0.499751,0,0)\"\n",
       "font-family=\"Helvetica\" font-size=\"22\" font-weight=\"700\" font-style=\"normal\" \n",
       ">\n",
       "<path vector-effect=\"none\" fill-rule=\"evenodd\" d=\"M418.366,693.101 C418.366,689.787 415.68,687.101 412.366,687.101 C409.052,687.101 406.366,689.787 406.366,693.101 C406.366,696.415 409.052,699.101 412.366,699.101 C415.68,699.101 418.366,696.415 418.366,693.101 \"/>\n",
       "</g>\n",
       "\n",
       "<g fill=\"none\" stroke=\"#1171be\" stroke-opacity=\"1\" stroke-width=\"1\" stroke-linecap=\"butt\" stroke-linejoin=\"miter\" stroke-miterlimit=\"2\" transform=\"matrix(0.49985,0,0,0.499751,0,0)\"\n",
       "font-family=\"Helvetica\" font-size=\"22\" font-weight=\"700\" font-style=\"normal\" \n",
       ">\n",
       "<path vector-effect=\"none\" fill-rule=\"evenodd\" d=\"M459.287,659.286 C459.287,655.972 456.601,653.286 453.287,653.286 C449.974,653.286 447.287,655.972 447.287,659.286 C447.287,662.599 449.974,665.286 453.287,665.286 C456.601,665.286 459.287,662.599 459.287,659.286 \"/>\n",
       "</g>\n",
       "\n",
       "<g fill=\"none\" stroke=\"#1171be\" stroke-opacity=\"1\" stroke-width=\"1\" stroke-linecap=\"butt\" stroke-linejoin=\"miter\" stroke-miterlimit=\"2\" transform=\"matrix(0.49985,0,0,0.499751,0,0)\"\n",
       "font-family=\"Helvetica\" font-size=\"22\" font-weight=\"700\" font-style=\"normal\" \n",
       ">\n",
       "<path vector-effect=\"none\" fill-rule=\"evenodd\" d=\"M500.209,617.956 C500.209,614.642 497.522,611.956 494.209,611.956 C490.895,611.956 488.209,614.642 488.209,617.956 C488.209,621.27 490.895,623.956 494.209,623.956 C497.522,623.956 500.209,621.27 500.209,617.956 \"/>\n",
       "</g>\n",
       "\n",
       "<g fill=\"none\" stroke=\"#1171be\" stroke-opacity=\"1\" stroke-width=\"1\" stroke-linecap=\"butt\" stroke-linejoin=\"miter\" stroke-miterlimit=\"2\" transform=\"matrix(0.49985,0,0,0.499751,0,0)\"\n",
       "font-family=\"Helvetica\" font-size=\"22\" font-weight=\"700\" font-style=\"normal\" \n",
       ">\n",
       "<path vector-effect=\"none\" fill-rule=\"evenodd\" d=\"M541.13,659.286 C541.13,655.972 538.444,653.286 535.13,653.286 C531.816,653.286 529.13,655.972 529.13,659.286 C529.13,662.599 531.816,665.286 535.13,665.286 C538.444,665.286 541.13,662.599 541.13,659.286 \"/>\n",
       "</g>\n",
       "\n",
       "<g fill=\"none\" stroke=\"#1171be\" stroke-opacity=\"1\" stroke-width=\"1\" stroke-linecap=\"butt\" stroke-linejoin=\"miter\" stroke-miterlimit=\"2\" transform=\"matrix(0.49985,0,0,0.499751,0,0)\"\n",
       "font-family=\"Helvetica\" font-size=\"22\" font-weight=\"700\" font-style=\"normal\" \n",
       ">\n",
       "<path vector-effect=\"none\" fill-rule=\"evenodd\" d=\"M582.051,712.424 C582.051,709.11 579.365,706.424 576.051,706.424 C572.737,706.424 570.051,709.11 570.051,712.424 C570.051,715.738 572.737,718.424 576.051,718.424 C579.365,718.424 582.051,715.738 582.051,712.424 \"/>\n",
       "</g>\n",
       "\n",
       "<g fill=\"none\" stroke=\"#1171be\" stroke-opacity=\"1\" stroke-width=\"1\" stroke-linecap=\"butt\" stroke-linejoin=\"miter\" stroke-miterlimit=\"2\" transform=\"matrix(0.49985,0,0,0.499751,0,0)\"\n",
       "font-family=\"Helvetica\" font-size=\"22\" font-weight=\"700\" font-style=\"normal\" \n",
       ">\n",
       "<path vector-effect=\"none\" fill-rule=\"evenodd\" d=\"M622.972,659.286 C622.972,655.972 620.286,653.286 616.972,653.286 C613.659,653.286 610.972,655.972 610.972,659.286 C610.972,662.599 613.659,665.286 616.972,665.286 C620.286,665.286 622.972,662.599 622.972,659.286 \"/>\n",
       "</g>\n",
       "\n",
       "<g fill=\"none\" stroke=\"#1171be\" stroke-opacity=\"1\" stroke-width=\"1\" stroke-linecap=\"butt\" stroke-linejoin=\"miter\" stroke-miterlimit=\"2\" transform=\"matrix(0.49985,0,0,0.499751,0,0)\"\n",
       "font-family=\"Helvetica\" font-size=\"22\" font-weight=\"700\" font-style=\"normal\" \n",
       ">\n",
       "<path vector-effect=\"none\" fill-rule=\"evenodd\" d=\"M663.894,584.892 C663.894,581.578 661.207,578.892 657.894,578.892 C654.58,578.892 651.894,581.578 651.894,584.892 C651.894,588.206 654.58,590.892 657.894,590.892 C661.207,590.892 663.894,588.206 663.894,584.892 \"/>\n",
       "</g>\n",
       "\n",
       "<g fill=\"none\" stroke=\"#1171be\" stroke-opacity=\"1\" stroke-width=\"1\" stroke-linecap=\"butt\" stroke-linejoin=\"miter\" stroke-miterlimit=\"2\" transform=\"matrix(0.49985,0,0,0.499751,0,0)\"\n",
       "font-family=\"Helvetica\" font-size=\"22\" font-weight=\"700\" font-style=\"normal\" \n",
       ">\n",
       "<path vector-effect=\"none\" fill-rule=\"evenodd\" d=\"M704.815,659.286 C704.815,655.972 702.129,653.286 698.815,653.286 C695.501,653.286 692.815,655.972 692.815,659.286 C692.815,662.599 695.501,665.286 698.815,665.286 C702.129,665.286 704.815,662.599 704.815,659.286 \"/>\n",
       "</g>\n",
       "\n",
       "<g fill=\"none\" stroke=\"#1171be\" stroke-opacity=\"1\" stroke-width=\"1\" stroke-linecap=\"butt\" stroke-linejoin=\"miter\" stroke-miterlimit=\"2\" transform=\"matrix(0.49985,0,0,0.499751,0,0)\"\n",
       "font-family=\"Helvetica\" font-size=\"22\" font-weight=\"700\" font-style=\"normal\" \n",
       ">\n",
       "<path vector-effect=\"none\" fill-rule=\"evenodd\" d=\"M745.736,783.275 C745.736,779.961 743.05,777.275 739.736,777.275 C736.422,777.275 733.736,779.961 733.736,783.275 C733.736,786.589 736.422,789.275 739.736,789.275 C743.05,789.275 745.736,786.589 745.736,783.275 \"/>\n",
       "</g>\n",
       "\n",
       "<g fill=\"none\" stroke=\"#1171be\" stroke-opacity=\"1\" stroke-width=\"1\" stroke-linecap=\"butt\" stroke-linejoin=\"miter\" stroke-miterlimit=\"2\" transform=\"matrix(0.49985,0,0,0.499751,0,0)\"\n",
       "font-family=\"Helvetica\" font-size=\"22\" font-weight=\"700\" font-style=\"normal\" \n",
       ">\n",
       "<path vector-effect=\"none\" fill-rule=\"evenodd\" d=\"M786.657,659.286 C786.657,655.972 783.971,653.286 780.657,653.286 C777.344,653.286 774.657,655.972 774.657,659.286 C774.657,662.599 777.344,665.286 780.657,665.286 C783.971,665.286 786.657,662.599 786.657,659.286 \"/>\n",
       "</g>\n",
       "\n",
       "<g fill=\"none\" stroke=\"#1171be\" stroke-opacity=\"1\" stroke-width=\"1\" stroke-linecap=\"butt\" stroke-linejoin=\"miter\" stroke-miterlimit=\"2\" transform=\"matrix(0.49985,0,0,0.499751,0,0)\"\n",
       "font-family=\"Helvetica\" font-size=\"22\" font-weight=\"700\" font-style=\"normal\" \n",
       ">\n",
       "<path vector-effect=\"none\" fill-rule=\"evenodd\" d=\"M827.579,287.318 C827.579,284.004 824.892,281.318 821.579,281.318 C818.265,281.318 815.579,284.004 815.579,287.318 C815.579,290.632 818.265,293.318 821.579,293.318 C824.892,293.318 827.579,290.632 827.579,287.318 \"/>\n",
       "</g>\n",
       "\n",
       "<g fill=\"none\" stroke=\"#1171be\" stroke-opacity=\"1\" stroke-width=\"1\" stroke-linecap=\"butt\" stroke-linejoin=\"miter\" stroke-miterlimit=\"2\" transform=\"matrix(0.49985,0,0,0.499751,0,0)\"\n",
       "font-family=\"Helvetica\" font-size=\"22\" font-weight=\"700\" font-style=\"normal\" \n",
       ">\n",
       "<path vector-effect=\"none\" fill-rule=\"evenodd\" d=\"M868.5,75 C868.5,71.6863 865.814,69 862.5,69 C859.186,69 856.5,71.6863 856.5,75 C856.5,78.3137 859.186,81 862.5,81 C865.814,81 868.5,78.3137 868.5,75 \"/>\n",
       "</g>\n",
       "\n",
       "<g fill=\"none\" stroke=\"#1171be\" stroke-opacity=\"1\" stroke-width=\"1\" stroke-linecap=\"butt\" stroke-linejoin=\"miter\" stroke-miterlimit=\"2\" transform=\"matrix(0.49985,0,0,0.499751,0,0)\"\n",
       "font-family=\"Helvetica\" font-size=\"22\" font-weight=\"700\" font-style=\"normal\" \n",
       ">\n",
       "<path vector-effect=\"none\" fill-rule=\"evenodd\" d=\"M909.421,287.318 C909.421,284.004 906.735,281.318 903.421,281.318 C900.108,281.318 897.421,284.004 897.421,287.318 C897.421,290.632 900.108,293.318 903.421,293.318 C906.735,293.318 909.421,290.632 909.421,287.318 \"/>\n",
       "</g>\n",
       "\n",
       "<g fill=\"none\" stroke=\"#1171be\" stroke-opacity=\"1\" stroke-width=\"1\" stroke-linecap=\"butt\" stroke-linejoin=\"miter\" stroke-miterlimit=\"2\" transform=\"matrix(0.49985,0,0,0.499751,0,0)\"\n",
       "font-family=\"Helvetica\" font-size=\"22\" font-weight=\"700\" font-style=\"normal\" \n",
       ">\n",
       "<path vector-effect=\"none\" fill-rule=\"evenodd\" d=\"M950.343,659.286 C950.343,655.972 947.656,653.286 944.343,653.286 C941.029,653.286 938.343,655.972 938.343,659.286 C938.343,662.599 941.029,665.286 944.343,665.286 C947.656,665.286 950.343,662.599 950.343,659.286 \"/>\n",
       "</g>\n",
       "\n",
       "<g fill=\"none\" stroke=\"#1171be\" stroke-opacity=\"1\" stroke-width=\"1\" stroke-linecap=\"butt\" stroke-linejoin=\"miter\" stroke-miterlimit=\"2\" transform=\"matrix(0.49985,0,0,0.499751,0,0)\"\n",
       "font-family=\"Helvetica\" font-size=\"22\" font-weight=\"700\" font-style=\"normal\" \n",
       ">\n",
       "<path vector-effect=\"none\" fill-rule=\"evenodd\" d=\"M991.264,783.275 C991.264,779.961 988.578,777.275 985.264,777.275 C981.95,777.275 979.264,779.961 979.264,783.275 C979.264,786.589 981.95,789.275 985.264,789.275 C988.578,789.275 991.264,786.589 991.264,783.275 \"/>\n",
       "</g>\n",
       "\n",
       "<g fill=\"none\" stroke=\"#1171be\" stroke-opacity=\"1\" stroke-width=\"1\" stroke-linecap=\"butt\" stroke-linejoin=\"miter\" stroke-miterlimit=\"2\" transform=\"matrix(0.49985,0,0,0.499751,0,0)\"\n",
       "font-family=\"Helvetica\" font-size=\"22\" font-weight=\"700\" font-style=\"normal\" \n",
       ">\n",
       "<path vector-effect=\"none\" fill-rule=\"evenodd\" d=\"M1032.19,659.286 C1032.19,655.972 1029.5,653.286 1026.19,653.286 C1022.87,653.286 1020.19,655.972 1020.19,659.286 C1020.19,662.599 1022.87,665.286 1026.19,665.286 C1029.5,665.286 1032.19,662.599 1032.19,659.286 \"/>\n",
       "</g>\n",
       "\n",
       "<g fill=\"none\" stroke=\"#1171be\" stroke-opacity=\"1\" stroke-width=\"1\" stroke-linecap=\"butt\" stroke-linejoin=\"miter\" stroke-miterlimit=\"2\" transform=\"matrix(0.49985,0,0,0.499751,0,0)\"\n",
       "font-family=\"Helvetica\" font-size=\"22\" font-weight=\"700\" font-style=\"normal\" \n",
       ">\n",
       "<path vector-effect=\"none\" fill-rule=\"evenodd\" d=\"M1073.11,584.892 C1073.11,581.578 1070.42,578.892 1067.11,578.892 C1063.79,578.892 1061.11,581.578 1061.11,584.892 C1061.11,588.206 1063.79,590.892 1067.11,590.892 C1070.42,590.892 1073.11,588.206 1073.11,584.892 \"/>\n",
       "</g>\n",
       "\n",
       "<g fill=\"none\" stroke=\"#1171be\" stroke-opacity=\"1\" stroke-width=\"1\" stroke-linecap=\"butt\" stroke-linejoin=\"miter\" stroke-miterlimit=\"2\" transform=\"matrix(0.49985,0,0,0.499751,0,0)\"\n",
       "font-family=\"Helvetica\" font-size=\"22\" font-weight=\"700\" font-style=\"normal\" \n",
       ">\n",
       "<path vector-effect=\"none\" fill-rule=\"evenodd\" d=\"M1114.03,659.286 C1114.03,655.972 1111.34,653.286 1108.03,653.286 C1104.71,653.286 1102.03,655.972 1102.03,659.286 C1102.03,662.599 1104.71,665.286 1108.03,665.286 C1111.34,665.286 1114.03,662.599 1114.03,659.286 \"/>\n",
       "</g>\n",
       "\n",
       "<g fill=\"none\" stroke=\"#1171be\" stroke-opacity=\"1\" stroke-width=\"1\" stroke-linecap=\"butt\" stroke-linejoin=\"miter\" stroke-miterlimit=\"2\" transform=\"matrix(0.49985,0,0,0.499751,0,0)\"\n",
       "font-family=\"Helvetica\" font-size=\"22\" font-weight=\"700\" font-style=\"normal\" \n",
       ">\n",
       "<path vector-effect=\"none\" fill-rule=\"evenodd\" d=\"M1154.95,712.424 C1154.95,709.11 1152.26,706.424 1148.95,706.424 C1145.64,706.424 1142.95,709.11 1142.95,712.424 C1142.95,715.738 1145.64,718.424 1148.95,718.424 C1152.26,718.424 1154.95,715.738 1154.95,712.424 \"/>\n",
       "</g>\n",
       "\n",
       "<g fill=\"none\" stroke=\"#1171be\" stroke-opacity=\"1\" stroke-width=\"1\" stroke-linecap=\"butt\" stroke-linejoin=\"miter\" stroke-miterlimit=\"2\" transform=\"matrix(0.49985,0,0,0.499751,0,0)\"\n",
       "font-family=\"Helvetica\" font-size=\"22\" font-weight=\"700\" font-style=\"normal\" \n",
       ">\n",
       "<path vector-effect=\"none\" fill-rule=\"evenodd\" d=\"M1195.87,659.286 C1195.87,655.972 1193.18,653.286 1189.87,653.286 C1186.56,653.286 1183.87,655.972 1183.87,659.286 C1183.87,662.599 1186.56,665.286 1189.87,665.286 C1193.18,665.286 1195.87,662.599 1195.87,659.286 \"/>\n",
       "</g>\n",
       "\n",
       "<g fill=\"none\" stroke=\"#1171be\" stroke-opacity=\"1\" stroke-width=\"1\" stroke-linecap=\"butt\" stroke-linejoin=\"miter\" stroke-miterlimit=\"2\" transform=\"matrix(0.49985,0,0,0.499751,0,0)\"\n",
       "font-family=\"Helvetica\" font-size=\"22\" font-weight=\"700\" font-style=\"normal\" \n",
       ">\n",
       "<path vector-effect=\"none\" fill-rule=\"evenodd\" d=\"M1236.79,617.956 C1236.79,614.642 1234.11,611.956 1230.79,611.956 C1227.48,611.956 1224.79,614.642 1224.79,617.956 C1224.79,621.27 1227.48,623.956 1230.79,623.956 C1234.11,623.956 1236.79,621.27 1236.79,617.956 \"/>\n",
       "</g>\n",
       "\n",
       "<g fill=\"none\" stroke=\"#1171be\" stroke-opacity=\"1\" stroke-width=\"1\" stroke-linecap=\"butt\" stroke-linejoin=\"miter\" stroke-miterlimit=\"2\" transform=\"matrix(0.49985,0,0,0.499751,0,0)\"\n",
       "font-family=\"Helvetica\" font-size=\"22\" font-weight=\"700\" font-style=\"normal\" \n",
       ">\n",
       "<path vector-effect=\"none\" fill-rule=\"evenodd\" d=\"M1277.71,659.286 C1277.71,655.972 1275.03,653.286 1271.71,653.286 C1268.4,653.286 1265.71,655.972 1265.71,659.286 C1265.71,662.599 1268.4,665.286 1271.71,665.286 C1275.03,665.286 1277.71,662.599 1277.71,659.286 \"/>\n",
       "</g>\n",
       "\n",
       "<g fill=\"none\" stroke=\"#1171be\" stroke-opacity=\"1\" stroke-width=\"1\" stroke-linecap=\"butt\" stroke-linejoin=\"miter\" stroke-miterlimit=\"2\" transform=\"matrix(0.49985,0,0,0.499751,0,0)\"\n",
       "font-family=\"Helvetica\" font-size=\"22\" font-weight=\"700\" font-style=\"normal\" \n",
       ">\n",
       "<path vector-effect=\"none\" fill-rule=\"evenodd\" d=\"M1318.63,693.101 C1318.63,689.787 1315.95,687.101 1312.63,687.101 C1309.32,687.101 1306.63,689.787 1306.63,693.101 C1306.63,696.415 1309.32,699.101 1312.63,699.101 C1315.95,699.101 1318.63,696.415 1318.63,693.101 \"/>\n",
       "</g>\n",
       "\n",
       "<g fill=\"none\" stroke=\"#1171be\" stroke-opacity=\"1\" stroke-width=\"1\" stroke-linecap=\"butt\" stroke-linejoin=\"miter\" stroke-miterlimit=\"2\" transform=\"matrix(0.49985,0,0,0.499751,0,0)\"\n",
       "font-family=\"Helvetica\" font-size=\"22\" font-weight=\"700\" font-style=\"normal\" \n",
       ">\n",
       "<path vector-effect=\"none\" fill-rule=\"evenodd\" d=\"M1359.56,659.286 C1359.56,655.972 1356.87,653.286 1353.56,653.286 C1350.24,653.286 1347.56,655.972 1347.56,659.286 C1347.56,662.599 1350.24,665.286 1353.56,665.286 C1356.87,665.286 1359.56,662.599 1359.56,659.286 \"/>\n",
       "</g>\n",
       "\n",
       "<g fill=\"none\" stroke=\"#1171be\" stroke-opacity=\"1\" stroke-width=\"1\" stroke-linecap=\"butt\" stroke-linejoin=\"miter\" stroke-miterlimit=\"2\" transform=\"matrix(0.49985,0,0,0.499751,0,0)\"\n",
       "font-family=\"Helvetica\" font-size=\"22\" font-weight=\"700\" font-style=\"normal\" \n",
       ">\n",
       "<path vector-effect=\"none\" fill-rule=\"evenodd\" d=\"M1400.48,630.673 C1400.48,627.359 1397.79,624.673 1394.48,624.673 C1391.16,624.673 1388.48,627.359 1388.48,630.673 C1388.48,633.986 1391.16,636.673 1394.48,636.673 C1397.79,636.673 1400.48,633.986 1400.48,630.673 \"/>\n",
       "</g>\n",
       "\n",
       "<g fill=\"none\" stroke=\"#1171be\" stroke-opacity=\"1\" stroke-width=\"1\" stroke-linecap=\"butt\" stroke-linejoin=\"miter\" stroke-miterlimit=\"2\" transform=\"matrix(0.49985,0,0,0.499751,0,0)\"\n",
       "font-family=\"Helvetica\" font-size=\"22\" font-weight=\"700\" font-style=\"normal\" \n",
       ">\n",
       "<path vector-effect=\"none\" fill-rule=\"evenodd\" d=\"M1441.4,659.286 C1441.4,655.972 1438.71,653.286 1435.4,653.286 C1432.08,653.286 1429.4,655.972 1429.4,659.286 C1429.4,662.599 1432.08,665.286 1435.4,665.286 C1438.71,665.286 1441.4,662.599 1441.4,659.286 \"/>\n",
       "</g>\n",
       "\n",
       "<g fill=\"none\" stroke=\"#1171be\" stroke-opacity=\"1\" stroke-width=\"1\" stroke-linecap=\"butt\" stroke-linejoin=\"miter\" stroke-miterlimit=\"2\" transform=\"matrix(0.49985,0,0,0.499751,0,0)\"\n",
       "font-family=\"Helvetica\" font-size=\"22\" font-weight=\"700\" font-style=\"normal\" \n",
       ">\n",
       "<path vector-effect=\"none\" fill-rule=\"evenodd\" d=\"M1482.32,684.084 C1482.32,680.77 1479.63,678.084 1476.32,678.084 C1473.01,678.084 1470.32,680.77 1470.32,684.084 C1470.32,687.397 1473.01,690.084 1476.32,690.084 C1479.63,690.084 1482.32,687.397 1482.32,684.084 \"/>\n",
       "</g>\n",
       "\n",
       "<g fill=\"none\" stroke=\"#ff0000\" stroke-opacity=\"1\" stroke-dasharray=\"1,3\" stroke-dashoffset=\"0\" stroke-width=\"1\" stroke-linecap=\"butt\" stroke-linejoin=\"round\" transform=\"matrix(0.49985,0,0,0.499751,0,0)\"\n",
       "font-family=\"Helvetica\" font-size=\"22\" font-weight=\"700\" font-style=\"normal\" \n",
       ">\n",
       "<polyline fill=\"none\" vector-effect=\"none\" points=\"248.681,684.084 249.91,684.106 251.139,684.073 252.368,683.984 253.596,683.84 254.825,683.641 256.054,683.386 257.283,683.077 258.512,682.714 259.741,682.297 260.97,681.827 262.198,681.304 263.427,680.731 264.656,680.107 265.885,679.435 267.114,678.714 268.343,677.948 269.572,677.136 270.801,676.281 272.029,675.385 273.258,674.45 274.487,673.476 275.716,672.467 276.945,671.425 278.174,670.35 279.403,669.247 280.632,668.117 281.86,666.962 283.089,665.785 284.318,664.589 285.547,663.376 286.776,662.148 288.005,660.909 289.234,659.661 290.462,658.407 291.691,657.15 292.92,655.891 294.149,654.635 295.378,653.384 296.607,652.14 297.836,650.907 299.065,649.688 300.293,648.484 301.522,647.299 302.751,646.136 303.98,644.997 305.209,643.884 306.438,642.802 307.667,641.751 308.895,640.734 310.124,639.755 311.353,638.814 312.582,637.915 313.811,637.06 315.04,636.25 316.269,635.488 317.498,634.776 318.726,634.115 319.955,633.507 321.184,632.954 322.413,632.457 323.642,632.018 324.871,631.638 326.1,631.317 327.328,631.057 328.557,630.859 329.786,630.724 331.015,630.651 332.244,630.643 333.473,630.697 334.702,630.816 335.931,630.999 337.159,631.246 338.388,631.557 339.617,631.931 340.846,632.367 342.075,632.866 343.304,633.426 344.533,634.047 345.761,634.726 346.99,635.464 348.219,636.258 349.448,637.107 350.677,638.01 351.906,638.965 353.135,639.969 354.364,641.022 355.592,642.12 356.821,643.262 358.05,644.446 359.279,645.668 360.508,646.927 361.737,648.219 362.966,649.542 364.194,650.894 365.423,652.271 366.652,653.67 367.881,655.089 369.11,656.524 370.339,657.973 371.568,659.432 372.797,660.898 374.025,662.367 375.254,663.838 376.483,665.305 377.712,666.767 378.941,668.219 380.17,669.658 381.399,671.082 382.627,672.487 383.856,673.87 385.085,675.227 386.314,676.556 387.543,677.853 388.772,679.115 390.001,680.34 391.23,681.524 392.458,682.665 393.687,683.759 394.916,684.805 396.145,685.799 397.374,686.74 398.603,687.624 399.832,688.45 401.06,689.215 402.289,689.917 403.518,690.555 404.747,691.126 405.976,691.63 407.205,692.064 408.434,692.427 409.663,692.718 410.891,692.937 412.12,693.081 413.349,693.151 414.578,693.146 415.807,693.065 417.036,692.908 418.265,692.675 419.493,692.367 420.722,691.983 421.951,691.524 423.18,690.991 424.409,690.384 425.638,689.704 426.867,688.952 428.096,688.13 429.324,687.239 430.553,686.28 431.782,685.256 433.011,684.168 434.24,683.018 435.469,681.809 436.698,680.542 437.926,679.221 439.155,677.848 440.384,676.425 441.613,674.955 442.842,673.442 444.071,671.889 445.3,670.298 446.529,668.673 447.757,667.018 448.986,665.335 450.215,663.629 451.444,661.904 452.673,660.162 453.902,658.407 455.131,656.644 456.359,654.876 457.588,653.107 458.817,651.342 460.046,649.583 461.275,647.835 462.504,646.102 463.733,644.388 464.962,642.696 466.19,641.031 467.419,639.396 468.648,637.795 469.877,636.233 471.106,634.712 472.335,633.236 473.564,631.809 474.792,630.434 476.021,629.115 477.25,627.855 478.479,626.657 479.708,625.524 480.937,624.459 482.166,623.465 483.395,622.545 484.623,621.7 485.852,620.934 487.081,620.249 488.31,619.646 489.539,619.127 490.768,618.695 491.997,618.351 493.225,618.095 494.454,617.93 495.683,617.856 496.912,617.874 498.141,617.985 499.37,618.188 500.599,618.485 501.828,618.875 503.056,619.358 504.285,619.933 505.514,620.6 506.743,621.357 507.972,622.205 509.201,623.142 510.43,624.165 511.659,625.275 512.887,626.468 514.116,627.742 515.345,629.097 516.574,630.528 517.803,632.033 519.032,633.61 520.261,635.256 521.489,636.968 522.718,638.741 523.947,640.573 525.176,642.461 526.405,644.4 527.634,646.386 528.863,648.416 530.091,650.485 531.32,652.589 532.549,654.723 533.778,656.884 535.007,659.066 536.236,661.266 537.465,663.477 538.694,665.696 539.922,667.918 541.151,670.137 542.38,672.349 543.609,674.549 544.838,676.732 546.067,678.892 547.296,681.026 548.524,683.128 549.753,685.194 550.982,687.217 552.211,689.195 553.44,691.121 554.669,692.992 555.898,694.802 557.127,696.547 558.355,698.224 559.584,699.827 560.813,701.352 562.042,702.796 563.271,704.155 564.5,705.425 565.729,706.602 566.958,707.683 568.186,708.665 569.415,709.545 570.644,710.32 571.873,710.988 573.102,711.546 574.331,711.992 575.56,712.323 576.788,712.54 578.017,712.639 579.246,712.62 580.475,712.481 581.704,712.223 582.933,711.843 584.162,711.343 585.391,710.723 586.619,709.982 587.848,709.12 589.077,708.14 590.306,707.042 591.535,705.827 592.764,704.497 593.993,703.054 595.221,701.499 596.45,699.836 597.679,698.067 598.908,696.195 600.137,694.223 601.366,692.154 602.595,689.992 603.823,687.741 605.052,685.404 606.281,682.987 607.51,680.494 608.739,677.929 609.968,675.298 611.197,672.605 612.426,669.855 613.654,667.055 614.883,664.21 616.112,661.325 617.341,658.407 618.57,655.462 619.799,652.495 621.028,649.513 622.257,646.522 623.485,643.53 624.714,640.541 625.943,637.564 627.172,634.604 628.401,631.668 629.63,628.763 630.859,625.895 632.087,623.071 633.316,620.298 634.545,617.583 635.774,614.931 637.003,612.349 638.232,609.845 639.461,607.423 640.69,605.09 641.918,602.853 643.147,600.717 644.376,598.688 645.605,596.771 646.834,594.973 648.063,593.297 649.292,591.75 650.52,590.337 651.749,589.061 652.978,587.927 654.207,586.939 655.436,586.102 656.665,585.419 657.894,584.892 659.123,584.526 660.351,584.323 661.58,584.284 662.809,584.414 664.038,584.712 665.267,585.182 666.496,585.822 667.725,586.636 668.953,587.622 670.182,588.782 671.411,590.114 672.64,591.619 673.869,593.294 675.098,595.14 676.327,597.153 677.556,599.332 678.784,601.675 680.013,604.178 681.242,606.839 682.471,609.653 683.7,612.617 684.929,615.727 686.158,618.978 687.386,622.365 688.615,625.882 689.844,629.524 691.073,633.285 692.302,637.159 693.531,641.139 694.76,645.217 695.989,649.387 697.217,653.642 698.446,657.973 699.675,662.372 700.904,666.831 702.133,671.342 703.362,675.895 704.591,680.482 705.819,685.093 707.048,689.719 708.277,694.351 709.506,698.979 710.735,703.592 711.964,708.182 713.193,712.737 714.422,717.248 715.65,721.705 716.879,726.096 718.108,730.413 719.337,734.644 720.566,738.779 721.795,742.808 723.024,746.721 724.253,750.507 725.481,754.156 726.71,757.658 727.939,761.003 729.168,764.182 730.397,767.184 731.626,770 732.855,772.621 734.083,775.038 735.312,777.241 736.541,779.222 737.77,780.973 738.999,782.485 740.228,783.751 741.457,784.763 742.685,785.514 743.914,785.996 745.143,786.204 746.372,786.131 747.601,785.771 748.83,785.118 750.059,784.169 751.288,782.918 752.516,781.36 753.745,779.493 754.974,777.312 756.203,774.816 757.432,772.001 758.661,768.866 759.89,765.409 761.118,761.629 762.347,757.526 763.576,753.1 764.805,748.351 766.034,743.28 767.263,737.889 768.492,732.181 769.721,726.156 770.949,719.819 772.178,713.174 773.407,706.223 774.636,698.972 775.865,691.426 777.094,683.59 778.323,675.471 779.551,667.074 780.78,658.407 782.009,649.478 783.238,640.294 784.467,630.863 785.696,621.195 786.925,611.299 788.154,601.184 789.382,590.86 790.611,580.339 791.84,569.63 793.069,558.745 794.298,547.695 795.527,536.493 796.756,525.15 797.984,513.68 799.213,502.094 800.442,490.406 801.671,478.629 802.9,466.776 804.129,454.862 805.358,442.899 806.587,430.903 807.815,418.888 809.044,406.867 810.273,394.855 811.502,382.866 812.731,370.916 813.96,359.018 815.189,347.188 816.417,335.44 817.646,323.788 818.875,312.247 820.104,300.831 821.333,289.555 822.562,278.433 823.791,267.479 825.02,256.707 826.248,246.131 827.477,235.764 828.706,225.619 829.935,215.71 831.164,206.049 832.393,196.649 833.622,187.523 834.85,178.681 836.079,170.135 837.308,161.897 838.537,153.978 839.766,146.387 840.995,139.135 842.224,132.231 843.453,125.684 844.681,119.504 845.91,113.697 847.139,108.273 848.368,103.238 849.597,98.598 850.826,94.3602 852.055,90.53 853.284,87.1124 854.512,84.1119 855.741,81.5327 856.97,79.378 858.199,77.6508 859.428,76.3533 860.657,75.4874 861.886,75.0542 863.114,75.0542 864.343,75.4874 865.572,76.3533 866.801,77.6508 868.03,79.378 869.259,81.5327 870.488,84.1119 871.716,87.1124 872.945,90.53 874.174,94.3602 875.403,98.598 876.632,103.238 877.861,108.273 879.09,113.697 880.319,119.504 881.547,125.684 882.776,132.231 884.005,139.135 885.234,146.387 886.463,153.978 887.692,161.897 888.921,170.135 890.15,178.681 891.378,187.523 892.607,196.649 893.836,206.049 895.065,215.71 896.294,225.619 897.523,235.764 898.752,246.131 899.98,256.707 901.209,267.479 902.438,278.433 903.667,289.555 904.896,300.831 906.125,312.247 907.354,323.788 908.583,335.44 909.811,347.188 911.04,359.018 912.269,370.916 913.498,382.866 914.727,394.855 915.956,406.867 917.185,418.888 918.413,430.903 919.642,442.899 920.871,454.862 922.1,466.776 923.329,478.629 924.558,490.406 925.787,502.094 927.016,513.68 928.244,525.15 929.473,536.493 930.702,547.695 931.931,558.745 933.16,569.63 934.389,580.339 935.618,590.86 936.846,601.184 938.075,611.299 939.304,621.195 940.533,630.863 941.762,640.294 942.991,649.478 944.22,658.407 945.449,667.074 946.677,675.471 947.906,683.59 949.135,691.426 950.364,698.972 951.593,706.223 952.822,713.174 954.051,719.819 955.279,726.156 956.508,732.181 957.737,737.889 958.966,743.28 960.195,748.351 961.424,753.1 962.653,757.526 963.882,761.629 965.11,765.409 966.339,768.866 967.568,772.001 968.797,774.816 970.026,777.312 971.255,779.493 972.484,781.36 973.712,782.918 974.941,784.169 976.17,785.118 977.399,785.771 978.628,786.131 979.857,786.204 981.086,785.996 982.315,785.514 983.543,784.763 984.772,783.751 986.001,782.485 987.23,780.973 988.459,779.222 989.688,777.241 990.917,775.038 992.145,772.621 993.374,770 994.603,767.184 995.832,764.182 997.061,761.003 998.29,757.658 999.519,754.156 1000.75,750.507 1001.98,746.721 1003.21,742.808 1004.43,738.779 1005.66,734.644 1006.89,730.413 1008.12,726.096 1009.35,721.705 1010.58,717.248 1011.81,712.737 1013.04,708.182 1014.27,703.592 1015.49,698.979 1016.72,694.351 1017.95,689.719 1019.18,685.093 1020.41,680.482 1021.64,675.895 1022.87,671.342 1024.1,666.831 1025.32,662.372 1026.55,657.973 1027.78,653.642 1029.01,649.387 1030.24,645.217 1031.47,641.139 1032.7,637.159 1033.93,633.285 1035.16,629.524 1036.38,625.882 1037.61,622.365 1038.84,618.978 1040.07,615.727 1041.3,612.617 1042.53,609.653 1043.76,606.839 1044.99,604.178 1046.22,601.675 1047.44,599.332 1048.67,597.153 1049.9,595.14 1051.13,593.294 1052.36,591.619 1053.59,590.114 1054.82,588.782 1056.05,587.622 1057.28,586.636 1058.5,585.822 1059.73,585.182 1060.96,584.712 1062.19,584.414 1063.42,584.284 1064.65,584.323 1065.88,584.526 1067.11,584.892 1068.34,585.419 1069.56,586.102 1070.79,586.939 1072.02,587.927 1073.25,589.061 1074.48,590.337 1075.71,591.75 1076.94,593.297 1078.17,594.973 1079.4,596.771 1080.62,598.688 1081.85,600.717 1083.08,602.853 1084.31,605.09 1085.54,607.423 1086.77,609.845 1088,612.349 1089.23,614.931 1090.45,617.583 1091.68,620.298 1092.91,623.071 1094.14,625.895 1095.37,628.763 1096.6,631.668 1097.83,634.604 1099.06,637.564 1100.29,640.541 1101.51,643.53 1102.74,646.522 1103.97,649.513 1105.2,652.495 1106.43,655.462 1107.66,658.407 1108.89,661.325 1110.12,664.21 1111.35,667.055 1112.57,669.855 1113.8,672.605 1115.03,675.298 1116.26,677.929 1117.49,680.494 1118.72,682.987 1119.95,685.404 1121.18,687.741 1122.41,689.992 1123.63,692.154 1124.86,694.223 1126.09,696.195 1127.32,698.067 1128.55,699.836 1129.78,701.499 1131.01,703.054 1132.24,704.497 1133.47,705.827 1134.69,707.042 1135.92,708.14 1137.15,709.12 1138.38,709.982 1139.61,710.723 1140.84,711.343 1142.07,711.843 1143.3,712.223 1144.52,712.481 1145.75,712.62 1146.98,712.639 1148.21,712.54 1149.44,712.323 1150.67,711.992 1151.9,711.546 1153.13,710.988 1154.36,710.32 1155.58,709.545 1156.81,708.665 1158.04,707.683 1159.27,706.602 1160.5,705.425 1161.73,704.155 1162.96,702.796 1164.19,701.352 1165.42,699.827 1166.64,698.224 1167.87,696.547 1169.1,694.802 1170.33,692.992 1171.56,691.121 1172.79,689.195 1174.02,687.217 1175.25,685.194 1176.48,683.128 1177.7,681.026 1178.93,678.892 1180.16,676.732 1181.39,674.549 1182.62,672.349 1183.85,670.137 1185.08,667.918 1186.31,665.696 1187.54,663.477 1188.76,661.266 1189.99,659.066 1191.22,656.884 1192.45,654.723 1193.68,652.589 1194.91,650.485 1196.14,648.416 1197.37,646.386 1198.6,644.4 1199.82,642.461 1201.05,640.573 1202.28,638.741 1203.51,636.968 1204.74,635.256 1205.97,633.61 1207.2,632.033 1208.43,630.528 1209.65,629.097 1210.88,627.742 1212.11,626.468 1213.34,625.275 1214.57,624.165 1215.8,623.142 1217.03,622.205 1218.26,621.357 1219.49,620.6 1220.71,619.933 1221.94,619.358 1223.17,618.875 1224.4,618.485 1225.63,618.188 1226.86,617.985 1228.09,617.874 1229.32,617.856 1230.55,617.93 1231.77,618.095 1233,618.351 1234.23,618.695 1235.46,619.127 1236.69,619.646 1237.92,620.249 1239.15,620.934 1240.38,621.7 1241.61,622.545 1242.83,623.465 1244.06,624.459 1245.29,625.524 1246.52,626.657 1247.75,627.855 1248.98,629.115 1250.21,630.434 1251.44,631.809 1252.67,633.236 1253.89,634.712 1255.12,636.233 1256.35,637.795 1257.58,639.396 1258.81,641.031 1260.04,642.696 1261.27,644.388 1262.5,646.102 1263.73,647.835 1264.95,649.583 1266.18,651.342 1267.41,653.107 1268.64,654.876 1269.87,656.644 1271.1,658.407 1272.33,660.162 1273.56,661.904 1274.78,663.629 1276.01,665.335 1277.24,667.018 1278.47,668.673 1279.7,670.298 1280.93,671.889 1282.16,673.442 1283.39,674.955 1284.62,676.425 1285.84,677.848 1287.07,679.221 1288.3,680.542 1289.53,681.809 1290.76,683.018 1291.99,684.168 1293.22,685.256 1294.45,686.28 1295.68,687.239 1296.9,688.13 1298.13,688.952 1299.36,689.704 1300.59,690.384 1301.82,690.991 1303.05,691.524 1304.28,691.983 1305.51,692.367 1306.74,692.675 1307.96,692.908 1309.19,693.065 1310.42,693.146 1311.65,693.151 1312.88,693.081 1314.11,692.937 1315.34,692.718 1316.57,692.427 1317.8,692.064 1319.02,691.63 1320.25,691.126 1321.48,690.555 1322.71,689.917 1323.94,689.215 1325.17,688.45 1326.4,687.624 1327.63,686.74 1328.85,685.799 1330.08,684.805 1331.31,683.759 1332.54,682.665 1333.77,681.524 1335,680.34 1336.23,679.115 1337.46,677.853 1338.69,676.556 1339.91,675.227 1341.14,673.87 1342.37,672.487 1343.6,671.082 1344.83,669.658 1346.06,668.219 1347.29,666.767 1348.52,665.305 1349.75,663.838 1350.97,662.367 1352.2,660.898 1353.43,659.432 1354.66,657.973 1355.89,656.524 1357.12,655.089 1358.35,653.67 1359.58,652.271 1360.81,650.894 1362.03,649.542 1363.26,648.219 1364.49,646.927 1365.72,645.668 1366.95,644.446 1368.18,643.262 1369.41,642.12 1370.64,641.022 1371.87,639.969 1373.09,638.965 1374.32,638.01 1375.55,637.107 1376.78,636.258 1378.01,635.464 1379.24,634.726 1380.47,634.047 1381.7,633.426 1382.93,632.866 1384.15,632.367 1385.38,631.931 1386.61,631.557 1387.84,631.246 1389.07,630.999 1390.3,630.816 1391.53,630.697 1392.76,630.643 1393.98,630.651 1395.21,630.724 1396.44,630.859 1397.67,631.057 1398.9,631.317 1400.13,631.638 1401.36,632.018 1402.59,632.457 1403.82,632.954 1405.04,633.507 1406.27,634.115 1407.5,634.776 1408.73,635.488 1409.96,636.25 1411.19,637.06 1412.42,637.915 1413.65,638.814 1414.88,639.755 1416.1,640.734 1417.33,641.751 1418.56,642.802 1419.79,643.884 1421.02,644.997 1422.25,646.136 1423.48,647.299 1424.71,648.484 1425.94,649.688 1427.16,650.907 1428.39,652.14 1429.62,653.384 1430.85,654.635 1432.08,655.891 1433.31,657.15 1434.54,658.407 1435.77,659.661 1437,660.909 1438.22,662.148 1439.45,663.376 1440.68,664.589 1441.91,665.785 1443.14,666.962 1444.37,668.117 1445.6,669.247 1446.83,670.35 1448.06,671.425 1449.28,672.467 1450.51,673.476 1451.74,674.45 1452.97,675.385 1454.2,676.281 1455.43,677.136 1456.66,677.948 1457.89,678.714 1459.11,679.435 1460.34,680.107 1461.57,680.731 1462.8,681.304 1464.03,681.827 1465.26,682.297 1466.49,682.714 1467.72,683.077 1468.95,683.386 1470.17,683.641 1471.4,683.84 1472.63,683.984 1473.86,684.073 1475.09,684.106 1476.32,684.084 \" />\n",
       "</g>\n",
       "\n",
       "<g fill=\"#212121\" fill-opacity=\"1\" stroke=\"#212121\" stroke-opacity=\"1\" stroke-width=\"1\" stroke-linecap=\"square\" stroke-linejoin=\"bevel\" transform=\"matrix(0.49985,0,0,0.499751,389.883,471.265)\"\n",
       "font-family=\"Helvetica\" font-size=\"22\" font-weight=\"400\" font-style=\"normal\" \n",
       ">\n",
       "<text fill=\"#212121\" fill-opacity=\"1\" stroke=\"none\" xml:space=\"preserve\" x=\"0\" y=\"-0.0625\" font-family=\"Helvetica\" font-size=\"22\" font-weight=\"400\" font-style=\"normal\" \n",
       " >k Omega</text>\n",
       "</g>\n",
       "\n",
       "<g fill=\"#212121\" fill-opacity=\"1\" stroke=\"#212121\" stroke-opacity=\"1\" stroke-width=\"1\" stroke-linecap=\"square\" stroke-linejoin=\"bevel\" transform=\"matrix(0.49985,0,0,0.499751,434.37,476.762)\"\n",
       "font-family=\"Helvetica\" font-size=\"17\" font-weight=\"400\" font-style=\"normal\" \n",
       ">\n",
       "<text fill=\"#212121\" fill-opacity=\"1\" stroke=\"none\" xml:space=\"preserve\" x=\"0\" y=\"0.078125\" font-family=\"Helvetica\" font-size=\"17\" font-weight=\"400\" font-style=\"normal\" \n",
       " >0</text>\n",
       "</g>\n",
       "\n",
       "<g fill=\"#212121\" fill-opacity=\"1\" stroke=\"#212121\" stroke-opacity=\"1\" stroke-width=\"1\" stroke-linecap=\"square\" stroke-linejoin=\"bevel\" transform=\"matrix(0.49985,0,0,0.499751,438.868,471.265)\"\n",
       "font-family=\"Helvetica\" font-size=\"22\" font-weight=\"400\" font-style=\"normal\" \n",
       ">\n",
       "<text fill=\"#212121\" fill-opacity=\"1\" stroke=\"none\" xml:space=\"preserve\" x=\"0\" y=\"-0.0625\" font-family=\"Helvetica\" font-size=\"22\" font-weight=\"400\" font-style=\"normal\" \n",
       " > [rad/s]</text>\n",
       "</g>\n",
       "\n",
       "<g fill=\"#212121\" fill-opacity=\"1\" stroke=\"#212121\" stroke-opacity=\"1\" stroke-width=\"1\" stroke-linecap=\"butt\" stroke-linejoin=\"round\" transform=\"matrix(0.49985,0,0,0.499751,0,0)\"\n",
       "font-family=\"Helvetica\" font-size=\"22\" font-weight=\"400\" font-style=\"normal\" \n",
       ">\n",
       "<polyline fill=\"none\" vector-effect=\"none\" points=\"217,893 1508,893 \" />\n",
       "<polyline fill=\"none\" vector-effect=\"none\" points=\"217,75 1508,75 \" />\n",
       "<polyline fill=\"none\" vector-effect=\"none\" points=\"248.681,893 248.681,880.09 \" />\n",
       "<polyline fill=\"none\" vector-effect=\"none\" points=\"248.681,87.91 248.681,75 \" />\n",
       "<polyline fill=\"none\" vector-effect=\"none\" points=\"453.287,893 453.287,880.09 \" />\n",
       "<polyline fill=\"none\" vector-effect=\"none\" points=\"453.287,87.91 453.287,75 \" />\n",
       "<polyline fill=\"none\" vector-effect=\"none\" points=\"657.894,893 657.894,880.09 \" />\n",
       "<polyline fill=\"none\" vector-effect=\"none\" points=\"657.894,87.91 657.894,75 \" />\n",
       "<polyline fill=\"none\" vector-effect=\"none\" points=\"862.5,893 862.5,880.09 \" />\n",
       "<polyline fill=\"none\" vector-effect=\"none\" points=\"862.5,87.91 862.5,75 \" />\n",
       "<polyline fill=\"none\" vector-effect=\"none\" points=\"1067.11,893 1067.11,880.09 \" />\n",
       "<polyline fill=\"none\" vector-effect=\"none\" points=\"1067.11,87.91 1067.11,75 \" />\n",
       "<polyline fill=\"none\" vector-effect=\"none\" points=\"1271.71,893 1271.71,880.09 \" />\n",
       "<polyline fill=\"none\" vector-effect=\"none\" points=\"1271.71,87.91 1271.71,75 \" />\n",
       "<polyline fill=\"none\" vector-effect=\"none\" points=\"1476.32,893 1476.32,880.09 \" />\n",
       "<polyline fill=\"none\" vector-effect=\"none\" points=\"1476.32,87.91 1476.32,75 \" />\n",
       "</g>\n",
       "\n",
       "<g fill=\"#212121\" fill-opacity=\"1\" stroke=\"#212121\" stroke-opacity=\"1\" stroke-width=\"1\" stroke-linecap=\"square\" stroke-linejoin=\"bevel\" transform=\"matrix(0.49985,0,0,0.499751,117.055,457.772)\"\n",
       "font-family=\"Helvetica\" font-size=\"20\" font-weight=\"400\" font-style=\"normal\" \n",
       ">\n",
       "<text fill=\"#212121\" fill-opacity=\"1\" stroke=\"none\" xml:space=\"preserve\" x=\"0\" y=\"0.390625\" font-family=\"Helvetica\" font-size=\"20\" font-weight=\"400\" font-style=\"normal\" \n",
       " >-15</text>\n",
       "</g>\n",
       "\n",
       "<g fill=\"#212121\" fill-opacity=\"1\" stroke=\"#212121\" stroke-opacity=\"1\" stroke-width=\"1\" stroke-linecap=\"square\" stroke-linejoin=\"bevel\" transform=\"matrix(0.49985,0,0,0.499751,219.328,457.772)\"\n",
       "font-family=\"Helvetica\" font-size=\"20\" font-weight=\"400\" font-style=\"normal\" \n",
       ">\n",
       "<text fill=\"#212121\" fill-opacity=\"1\" stroke=\"none\" xml:space=\"preserve\" x=\"0\" y=\"0.390625\" font-family=\"Helvetica\" font-size=\"20\" font-weight=\"400\" font-style=\"normal\" \n",
       " >-10</text>\n",
       "</g>\n",
       "\n",
       "<g fill=\"#212121\" fill-opacity=\"1\" stroke=\"#212121\" stroke-opacity=\"1\" stroke-width=\"1\" stroke-linecap=\"square\" stroke-linejoin=\"bevel\" transform=\"matrix(0.49985,0,0,0.499751,324.35,457.772)\"\n",
       "font-family=\"Helvetica\" font-size=\"20\" font-weight=\"400\" font-style=\"normal\" \n",
       ">\n",
       "<text fill=\"#212121\" fill-opacity=\"1\" stroke=\"none\" xml:space=\"preserve\" x=\"0\" y=\"0.390625\" font-family=\"Helvetica\" font-size=\"20\" font-weight=\"400\" font-style=\"normal\" \n",
       " >-5</text>\n",
       "</g>\n",
       "\n",
       "<g fill=\"#212121\" fill-opacity=\"1\" stroke=\"#212121\" stroke-opacity=\"1\" stroke-width=\"1\" stroke-linecap=\"square\" stroke-linejoin=\"bevel\" transform=\"matrix(0.49985,0,0,0.499751,428.371,457.772)\"\n",
       "font-family=\"Helvetica\" font-size=\"20\" font-weight=\"400\" font-style=\"normal\" \n",
       ">\n",
       "<text fill=\"#212121\" fill-opacity=\"1\" stroke=\"none\" xml:space=\"preserve\" x=\"0\" y=\"0.390625\" font-family=\"Helvetica\" font-size=\"20\" font-weight=\"400\" font-style=\"normal\" \n",
       " >0</text>\n",
       "</g>\n",
       "\n",
       "<g fill=\"#212121\" fill-opacity=\"1\" stroke=\"#212121\" stroke-opacity=\"1\" stroke-width=\"1\" stroke-linecap=\"square\" stroke-linejoin=\"bevel\" transform=\"matrix(0.49985,0,0,0.499751,530.644,457.772)\"\n",
       "font-family=\"Helvetica\" font-size=\"20\" font-weight=\"400\" font-style=\"normal\" \n",
       ">\n",
       "<text fill=\"#212121\" fill-opacity=\"1\" stroke=\"none\" xml:space=\"preserve\" x=\"0\" y=\"0.390625\" font-family=\"Helvetica\" font-size=\"20\" font-weight=\"400\" font-style=\"normal\" \n",
       " >5</text>\n",
       "</g>\n",
       "\n",
       "<g fill=\"#212121\" fill-opacity=\"1\" stroke=\"#212121\" stroke-opacity=\"1\" stroke-width=\"1\" stroke-linecap=\"square\" stroke-linejoin=\"bevel\" transform=\"matrix(0.49985,0,0,0.499751,630.167,457.772)\"\n",
       "font-family=\"Helvetica\" font-size=\"20\" font-weight=\"400\" font-style=\"normal\" \n",
       ">\n",
       "<text fill=\"#212121\" fill-opacity=\"1\" stroke=\"none\" xml:space=\"preserve\" x=\"0\" y=\"0.390625\" font-family=\"Helvetica\" font-size=\"20\" font-weight=\"400\" font-style=\"normal\" \n",
       " >10</text>\n",
       "</g>\n",
       "\n",
       "<g fill=\"#212121\" fill-opacity=\"1\" stroke=\"#212121\" stroke-opacity=\"1\" stroke-width=\"1\" stroke-linecap=\"square\" stroke-linejoin=\"bevel\" transform=\"matrix(0.49985,0,0,0.499751,732.44,457.772)\"\n",
       "font-family=\"Helvetica\" font-size=\"20\" font-weight=\"400\" font-style=\"normal\" \n",
       ">\n",
       "<text fill=\"#212121\" fill-opacity=\"1\" stroke=\"none\" xml:space=\"preserve\" x=\"0\" y=\"0.390625\" font-family=\"Helvetica\" font-size=\"20\" font-weight=\"400\" font-style=\"normal\" \n",
       " >15</text>\n",
       "</g>\n",
       "</g>\n",
       "</svg>\n"
      ]
     },
     "metadata": {},
     "output_type": "display_data"
    }
   ],
   "source": [
    "stem(omega,f)\n",
    "title('Line Spectra for pulse with w=2')\n",
    "hold on\n",
    "om = linspace(-15,15,1000);\n",
    "xlabel('k Omega_0 [rad/s]')\n",
    "xc = om.*pi./w;\n",
    "\n",
    "plot(om,(A/w)*sin(xc)./(xc),'r:')\n",
    "hold off"
   ]
  },
  {
   "cell_type": "markdown",
   "id": "e7ae2101",
   "metadata": {
    "slideshow": {
     "slide_type": "subslide"
    }
   },
   "source": [
    "#### w = 5\n",
    "\n",
    "$\\Omega_0 = 1$ rad/s; $w = 5$; $T = 2\\pi$ s; $T/w = \\pi$ s."
   ]
  },
  {
   "cell_type": "code",
   "execution_count": 15,
   "id": "c0ff44ae",
   "metadata": {},
   "outputs": [
    {
     "data": {
      "image/svg+xml": [
       "<?xml version=\"1.0\" encoding=\"UTF-8\" standalone=\"no\"?>\n",
       "<svg width=\"294.217mm\" height=\"177.094mm\"\n",
       " viewBox=\"0 0 834 502\"\n",
       " xmlns=\"http://www.w3.org/2000/svg\" xmlns:xlink=\"http://www.w3.org/1999/xlink\"  version=\"1.2\" baseProfile=\"tiny\">\n",
       "<title>Qt SVG Document</title>\n",
       "<desc>MATLAB, The MathWorks, Inc. Version 25.1.0.2833191 R2025a Prerelease Update 2</desc>\n",
       "<defs>\n",
       "</defs>\n",
       "<g fill=\"none\" stroke=\"black\" stroke-width=\"1\" fill-rule=\"evenodd\" stroke-linecap=\"square\" stroke-linejoin=\"bevel\" >\n",
       "\n",
       "<g fill=\"#ffffff\" fill-opacity=\"1\" stroke=\"none\" transform=\"matrix(0.49985,0,0,0.499751,0,0)\"\n",
       "font-family=\".AppleSystemUIFont\" font-size=\"13\" font-weight=\"400\" font-style=\"normal\" \n",
       ">\n",
       "<path vector-effect=\"none\" fill-rule=\"evenodd\" d=\"M0,0 L1668,0 L1668,1005 L0,1005 L0,0\"/>\n",
       "</g>\n",
       "\n",
       "<g fill=\"#ffffff\" fill-opacity=\"1\" stroke=\"none\" transform=\"matrix(4.9985e-05,0,0,4.99751e-05,0,0)\"\n",
       "font-family=\".AppleSystemUIFont\" font-size=\"13\" font-weight=\"400\" font-style=\"normal\" \n",
       ">\n",
       "<path vector-effect=\"none\" fill-rule=\"evenodd\" d=\"M2.17e+06,750000 L2.17e+06,8.93e+06 L1.508e+07,8.93e+06 L1.508e+07,750000 L2.17e+06,750000\"/>\n",
       "</g>\n",
       "\n",
       "<g fill=\"#212121\" fill-opacity=\"1\" stroke=\"#212121\" stroke-opacity=\"1\" stroke-width=\"1\" stroke-linecap=\"butt\" stroke-linejoin=\"round\" transform=\"matrix(0.49985,0,0,0.499751,0,0)\"\n",
       "font-family=\".AppleSystemUIFont\" font-size=\"13\" font-weight=\"400\" font-style=\"normal\" \n",
       ">\n",
       "<polyline fill=\"none\" vector-effect=\"none\" points=\"217,893 217,75 \" />\n",
       "<polyline fill=\"none\" vector-effect=\"none\" points=\"1508,893 1508,75 \" />\n",
       "<polyline fill=\"none\" vector-effect=\"none\" points=\"217,893 229.91,893 \" />\n",
       "<polyline fill=\"none\" vector-effect=\"none\" points=\"1495.09,893 1508,893 \" />\n",
       "<polyline fill=\"none\" vector-effect=\"none\" points=\"217,729.4 229.91,729.4 \" />\n",
       "<polyline fill=\"none\" vector-effect=\"none\" points=\"1495.09,729.4 1508,729.4 \" />\n",
       "<polyline fill=\"none\" vector-effect=\"none\" points=\"217,565.8 229.91,565.8 \" />\n",
       "<polyline fill=\"none\" vector-effect=\"none\" points=\"1495.09,565.8 1508,565.8 \" />\n",
       "<polyline fill=\"none\" vector-effect=\"none\" points=\"217,402.2 229.91,402.2 \" />\n",
       "<polyline fill=\"none\" vector-effect=\"none\" points=\"1495.09,402.2 1508,402.2 \" />\n",
       "<polyline fill=\"none\" vector-effect=\"none\" points=\"217,238.6 229.91,238.6 \" />\n",
       "<polyline fill=\"none\" vector-effect=\"none\" points=\"1495.09,238.6 1508,238.6 \" />\n",
       "<polyline fill=\"none\" vector-effect=\"none\" points=\"217,75 229.91,75 \" />\n",
       "<polyline fill=\"none\" vector-effect=\"none\" points=\"1495.09,75 1508,75 \" />\n",
       "</g>\n",
       "\n",
       "<g fill=\"#212121\" fill-opacity=\"1\" stroke=\"#212121\" stroke-opacity=\"1\" stroke-width=\"1\" stroke-linecap=\"square\" stroke-linejoin=\"bevel\" transform=\"matrix(0.49985,0,0,0.499751,81.4755,448.776)\"\n",
       "font-family=\"Helvetica\" font-size=\"20\" font-weight=\"400\" font-style=\"normal\" \n",
       ">\n",
       "<text fill=\"#212121\" fill-opacity=\"1\" stroke=\"none\" xml:space=\"preserve\" x=\"0\" y=\"0.390625\" font-family=\"Helvetica\" font-size=\"20\" font-weight=\"400\" font-style=\"normal\" \n",
       " >-0.05</text>\n",
       "</g>\n",
       "\n",
       "<g fill=\"#212121\" fill-opacity=\"1\" stroke=\"#212121\" stroke-opacity=\"1\" stroke-width=\"1\" stroke-linecap=\"square\" stroke-linejoin=\"bevel\" transform=\"matrix(0.49985,0,0,0.499751,98.9703,367.017)\"\n",
       "font-family=\"Helvetica\" font-size=\"20\" font-weight=\"400\" font-style=\"normal\" \n",
       ">\n",
       "<text fill=\"#212121\" fill-opacity=\"1\" stroke=\"none\" xml:space=\"preserve\" x=\"0\" y=\"0.390625\" font-family=\"Helvetica\" font-size=\"20\" font-weight=\"400\" font-style=\"normal\" \n",
       " >0</text>\n",
       "</g>\n",
       "\n",
       "<g fill=\"#212121\" fill-opacity=\"1\" stroke=\"#212121\" stroke-opacity=\"1\" stroke-width=\"1\" stroke-linecap=\"square\" stroke-linejoin=\"bevel\" transform=\"matrix(0.49985,0,0,0.499751,84.9745,285.258)\"\n",
       "font-family=\"Helvetica\" font-size=\"20\" font-weight=\"400\" font-style=\"normal\" \n",
       ">\n",
       "<text fill=\"#212121\" fill-opacity=\"1\" stroke=\"none\" xml:space=\"preserve\" x=\"0\" y=\"0.390625\" font-family=\"Helvetica\" font-size=\"20\" font-weight=\"400\" font-style=\"normal\" \n",
       " >0.05</text>\n",
       "</g>\n",
       "\n",
       "<g fill=\"#212121\" fill-opacity=\"1\" stroke=\"#212121\" stroke-opacity=\"1\" stroke-width=\"1\" stroke-linecap=\"square\" stroke-linejoin=\"bevel\" transform=\"matrix(0.49985,0,0,0.499751,90.4728,203.499)\"\n",
       "font-family=\"Helvetica\" font-size=\"20\" font-weight=\"400\" font-style=\"normal\" \n",
       ">\n",
       "<text fill=\"#212121\" fill-opacity=\"1\" stroke=\"none\" xml:space=\"preserve\" x=\"0\" y=\"0.390625\" font-family=\"Helvetica\" font-size=\"20\" font-weight=\"400\" font-style=\"normal\" \n",
       " >0.1</text>\n",
       "</g>\n",
       "\n",
       "<g fill=\"#212121\" fill-opacity=\"1\" stroke=\"#212121\" stroke-opacity=\"1\" stroke-width=\"1\" stroke-linecap=\"square\" stroke-linejoin=\"bevel\" transform=\"matrix(0.49985,0,0,0.499751,84.9745,121.739)\"\n",
       "font-family=\"Helvetica\" font-size=\"20\" font-weight=\"400\" font-style=\"normal\" \n",
       ">\n",
       "<text fill=\"#212121\" fill-opacity=\"1\" stroke=\"none\" xml:space=\"preserve\" x=\"0\" y=\"0.390625\" font-family=\"Helvetica\" font-size=\"20\" font-weight=\"400\" font-style=\"normal\" \n",
       " >0.15</text>\n",
       "</g>\n",
       "\n",
       "<g fill=\"#212121\" fill-opacity=\"1\" stroke=\"#212121\" stroke-opacity=\"1\" stroke-width=\"1\" stroke-linecap=\"square\" stroke-linejoin=\"bevel\" transform=\"matrix(0.49985,0,0,0.499751,90.4728,39.9801)\"\n",
       "font-family=\"Helvetica\" font-size=\"20\" font-weight=\"400\" font-style=\"normal\" \n",
       ">\n",
       "<text fill=\"#212121\" fill-opacity=\"1\" stroke=\"none\" xml:space=\"preserve\" x=\"0\" y=\"0.390625\" font-family=\"Helvetica\" font-size=\"20\" font-weight=\"400\" font-style=\"normal\" \n",
       " >0.2</text>\n",
       "</g>\n",
       "\n",
       "<g fill=\"#212121\" fill-opacity=\"1\" stroke=\"#212121\" stroke-opacity=\"1\" stroke-width=\"1\" stroke-linecap=\"square\" stroke-linejoin=\"bevel\" transform=\"matrix(0.49985,0,0,0.499751,348.896,33.6082)\"\n",
       "font-family=\"Helvetica\" font-size=\"22\" font-weight=\"700\" font-style=\"normal\" \n",
       ">\n",
       "<text fill=\"#212121\" fill-opacity=\"1\" stroke=\"none\" xml:space=\"preserve\" x=\"0\" y=\"-0.0625\" font-family=\"Helvetica\" font-size=\"22\" font-weight=\"700\" font-style=\"normal\" \n",
       " >Line Spectra for pulse with w=5</text>\n",
       "</g>\n",
       "\n",
       "<g fill=\"#212121\" fill-opacity=\"1\" stroke=\"#212121\" stroke-opacity=\"1\" stroke-width=\"1\" stroke-linecap=\"butt\" stroke-linejoin=\"round\" transform=\"matrix(0.49985,0,0,0.499751,0,0)\"\n",
       "font-family=\"Helvetica\" font-size=\"22\" font-weight=\"700\" font-style=\"normal\" \n",
       ">\n",
       "<polyline fill=\"none\" vector-effect=\"none\" points=\"217,729.4 1508,729.4 \" />\n",
       "</g>\n",
       "\n",
       "<g fill=\"#1171be\" fill-opacity=\"1\" stroke=\"#1171be\" stroke-opacity=\"1\" stroke-width=\"1\" stroke-linecap=\"butt\" stroke-linejoin=\"round\" transform=\"matrix(0.49985,0,0,0.499751,0,0)\"\n",
       "font-family=\"Helvetica\" font-size=\"22\" font-weight=\"700\" font-style=\"normal\" \n",
       ">\n",
       "<polyline fill=\"none\" vector-effect=\"none\" points=\"289.602,729.4 289.602,685.673 \" />\n",
       "<polyline fill=\"none\" vector-effect=\"none\" points=\"330.524,729.4 330.524,653.205 \" />\n",
       "<polyline fill=\"none\" vector-effect=\"none\" points=\"371.445,729.4 371.445,646.855 \" />\n",
       "<polyline fill=\"none\" vector-effect=\"none\" points=\"412.366,729.4 412.366,673.747 \" />\n",
       "<polyline fill=\"none\" vector-effect=\"none\" points=\"494.209,729.4 494.209,797.42 \" />\n",
       "<polyline fill=\"none\" vector-effect=\"none\" points=\"535.13,729.4 535.13,853.217 \" />\n",
       "<polyline fill=\"none\" vector-effect=\"none\" points=\"576.051,729.4 576.051,870.905 \" />\n",
       "<polyline fill=\"none\" vector-effect=\"none\" points=\"616.972,729.4 616.972,831.431 \" />\n",
       "<polyline fill=\"none\" vector-effect=\"none\" points=\"698.815,729.4 698.815,576.354 \" />\n",
       "<polyline fill=\"none\" vector-effect=\"none\" points=\"739.736,729.4 739.736,399.222 \" />\n",
       "<polyline fill=\"none\" vector-effect=\"none\" points=\"780.657,729.4 780.657,234.133 \" />\n",
       "<polyline fill=\"none\" vector-effect=\"none\" points=\"821.579,729.4 821.579,117.216 \" />\n",
       "<polyline fill=\"none\" vector-effect=\"none\" points=\"862.5,729.4 862.5,75 \" />\n",
       "<polyline fill=\"none\" vector-effect=\"none\" points=\"903.421,729.4 903.421,117.216 \" />\n",
       "<polyline fill=\"none\" vector-effect=\"none\" points=\"944.343,729.4 944.343,234.133 \" />\n",
       "<polyline fill=\"none\" vector-effect=\"none\" points=\"985.264,729.4 985.264,399.222 \" />\n",
       "<polyline fill=\"none\" vector-effect=\"none\" points=\"1026.19,729.4 1026.19,576.354 \" />\n",
       "<polyline fill=\"none\" vector-effect=\"none\" points=\"1108.03,729.4 1108.03,831.431 \" />\n",
       "<polyline fill=\"none\" vector-effect=\"none\" points=\"1148.95,729.4 1148.95,870.905 \" />\n",
       "<polyline fill=\"none\" vector-effect=\"none\" points=\"1189.87,729.4 1189.87,853.217 \" />\n",
       "<polyline fill=\"none\" vector-effect=\"none\" points=\"1230.79,729.4 1230.79,797.42 \" />\n",
       "<polyline fill=\"none\" vector-effect=\"none\" points=\"1312.63,729.4 1312.63,673.747 \" />\n",
       "<polyline fill=\"none\" vector-effect=\"none\" points=\"1353.56,729.4 1353.56,646.855 \" />\n",
       "<polyline fill=\"none\" vector-effect=\"none\" points=\"1394.48,729.4 1394.48,653.205 \" />\n",
       "<polyline fill=\"none\" vector-effect=\"none\" points=\"1435.4,729.4 1435.4,685.673 \" />\n",
       "</g>\n",
       "\n",
       "<g fill=\"none\" stroke=\"#1171be\" stroke-opacity=\"1\" stroke-width=\"1\" stroke-linecap=\"butt\" stroke-linejoin=\"miter\" stroke-miterlimit=\"2\" transform=\"matrix(0.49985,0,0,0.499751,0,0)\"\n",
       "font-family=\"Helvetica\" font-size=\"22\" font-weight=\"700\" font-style=\"normal\" \n",
       ">\n",
       "<path vector-effect=\"none\" fill-rule=\"evenodd\" d=\"M254.681,729.4 C254.681,726.086 251.995,723.4 248.681,723.4 C245.367,723.4 242.681,726.086 242.681,729.4 C242.681,732.714 245.367,735.4 248.681,735.4 C251.995,735.4 254.681,732.714 254.681,729.4 \"/>\n",
       "</g>\n",
       "\n",
       "<g fill=\"none\" stroke=\"#1171be\" stroke-opacity=\"1\" stroke-width=\"1\" stroke-linecap=\"butt\" stroke-linejoin=\"miter\" stroke-miterlimit=\"2\" transform=\"matrix(0.49985,0,0,0.499751,0,0)\"\n",
       "font-family=\"Helvetica\" font-size=\"22\" font-weight=\"700\" font-style=\"normal\" \n",
       ">\n",
       "<path vector-effect=\"none\" fill-rule=\"evenodd\" d=\"M295.602,685.673 C295.602,682.359 292.916,679.673 289.602,679.673 C286.289,679.673 283.602,682.359 283.602,685.673 C283.602,688.986 286.289,691.673 289.602,691.673 C292.916,691.673 295.602,688.986 295.602,685.673 \"/>\n",
       "</g>\n",
       "\n",
       "<g fill=\"none\" stroke=\"#1171be\" stroke-opacity=\"1\" stroke-width=\"1\" stroke-linecap=\"butt\" stroke-linejoin=\"miter\" stroke-miterlimit=\"2\" transform=\"matrix(0.49985,0,0,0.499751,0,0)\"\n",
       "font-family=\"Helvetica\" font-size=\"22\" font-weight=\"700\" font-style=\"normal\" \n",
       ">\n",
       "<path vector-effect=\"none\" fill-rule=\"evenodd\" d=\"M336.524,653.205 C336.524,649.891 333.837,647.205 330.524,647.205 C327.21,647.205 324.524,649.891 324.524,653.205 C324.524,656.519 327.21,659.205 330.524,659.205 C333.837,659.205 336.524,656.519 336.524,653.205 \"/>\n",
       "</g>\n",
       "\n",
       "<g fill=\"none\" stroke=\"#1171be\" stroke-opacity=\"1\" stroke-width=\"1\" stroke-linecap=\"butt\" stroke-linejoin=\"miter\" stroke-miterlimit=\"2\" transform=\"matrix(0.49985,0,0,0.499751,0,0)\"\n",
       "font-family=\"Helvetica\" font-size=\"22\" font-weight=\"700\" font-style=\"normal\" \n",
       ">\n",
       "<path vector-effect=\"none\" fill-rule=\"evenodd\" d=\"M377.445,646.855 C377.445,643.542 374.759,640.855 371.445,640.855 C368.131,640.855 365.445,643.542 365.445,646.855 C365.445,650.169 368.131,652.855 371.445,652.855 C374.759,652.855 377.445,650.169 377.445,646.855 \"/>\n",
       "</g>\n",
       "\n",
       "<g fill=\"none\" stroke=\"#1171be\" stroke-opacity=\"1\" stroke-width=\"1\" stroke-linecap=\"butt\" stroke-linejoin=\"miter\" stroke-miterlimit=\"2\" transform=\"matrix(0.49985,0,0,0.499751,0,0)\"\n",
       "font-family=\"Helvetica\" font-size=\"22\" font-weight=\"700\" font-style=\"normal\" \n",
       ">\n",
       "<path vector-effect=\"none\" fill-rule=\"evenodd\" d=\"M418.366,673.747 C418.366,670.433 415.68,667.747 412.366,667.747 C409.052,667.747 406.366,670.433 406.366,673.747 C406.366,677.061 409.052,679.747 412.366,679.747 C415.68,679.747 418.366,677.061 418.366,673.747 \"/>\n",
       "</g>\n",
       "\n",
       "<g fill=\"none\" stroke=\"#1171be\" stroke-opacity=\"1\" stroke-width=\"1\" stroke-linecap=\"butt\" stroke-linejoin=\"miter\" stroke-miterlimit=\"2\" transform=\"matrix(0.49985,0,0,0.499751,0,0)\"\n",
       "font-family=\"Helvetica\" font-size=\"22\" font-weight=\"700\" font-style=\"normal\" \n",
       ">\n",
       "<path vector-effect=\"none\" fill-rule=\"evenodd\" d=\"M459.287,729.4 C459.287,726.086 456.601,723.4 453.287,723.4 C449.974,723.4 447.287,726.086 447.287,729.4 C447.287,732.714 449.974,735.4 453.287,735.4 C456.601,735.4 459.287,732.714 459.287,729.4 \"/>\n",
       "</g>\n",
       "\n",
       "<g fill=\"none\" stroke=\"#1171be\" stroke-opacity=\"1\" stroke-width=\"1\" stroke-linecap=\"butt\" stroke-linejoin=\"miter\" stroke-miterlimit=\"2\" transform=\"matrix(0.49985,0,0,0.499751,0,0)\"\n",
       "font-family=\"Helvetica\" font-size=\"22\" font-weight=\"700\" font-style=\"normal\" \n",
       ">\n",
       "<path vector-effect=\"none\" fill-rule=\"evenodd\" d=\"M500.209,797.42 C500.209,794.107 497.522,791.42 494.209,791.42 C490.895,791.42 488.209,794.107 488.209,797.42 C488.209,800.734 490.895,803.42 494.209,803.42 C497.522,803.42 500.209,800.734 500.209,797.42 \"/>\n",
       "</g>\n",
       "\n",
       "<g fill=\"none\" stroke=\"#1171be\" stroke-opacity=\"1\" stroke-width=\"1\" stroke-linecap=\"butt\" stroke-linejoin=\"miter\" stroke-miterlimit=\"2\" transform=\"matrix(0.49985,0,0,0.499751,0,0)\"\n",
       "font-family=\"Helvetica\" font-size=\"22\" font-weight=\"700\" font-style=\"normal\" \n",
       ">\n",
       "<path vector-effect=\"none\" fill-rule=\"evenodd\" d=\"M541.13,853.217 C541.13,849.903 538.444,847.217 535.13,847.217 C531.816,847.217 529.13,849.903 529.13,853.217 C529.13,856.531 531.816,859.217 535.13,859.217 C538.444,859.217 541.13,856.531 541.13,853.217 \"/>\n",
       "</g>\n",
       "\n",
       "<g fill=\"none\" stroke=\"#1171be\" stroke-opacity=\"1\" stroke-width=\"1\" stroke-linecap=\"butt\" stroke-linejoin=\"miter\" stroke-miterlimit=\"2\" transform=\"matrix(0.49985,0,0,0.499751,0,0)\"\n",
       "font-family=\"Helvetica\" font-size=\"22\" font-weight=\"700\" font-style=\"normal\" \n",
       ">\n",
       "<path vector-effect=\"none\" fill-rule=\"evenodd\" d=\"M582.051,870.905 C582.051,867.591 579.365,864.905 576.051,864.905 C572.737,864.905 570.051,867.591 570.051,870.905 C570.051,874.219 572.737,876.905 576.051,876.905 C579.365,876.905 582.051,874.219 582.051,870.905 \"/>\n",
       "</g>\n",
       "\n",
       "<g fill=\"none\" stroke=\"#1171be\" stroke-opacity=\"1\" stroke-width=\"1\" stroke-linecap=\"butt\" stroke-linejoin=\"miter\" stroke-miterlimit=\"2\" transform=\"matrix(0.49985,0,0,0.499751,0,0)\"\n",
       "font-family=\"Helvetica\" font-size=\"22\" font-weight=\"700\" font-style=\"normal\" \n",
       ">\n",
       "<path vector-effect=\"none\" fill-rule=\"evenodd\" d=\"M622.972,831.431 C622.972,828.117 620.286,825.431 616.972,825.431 C613.659,825.431 610.972,828.117 610.972,831.431 C610.972,834.744 613.659,837.431 616.972,837.431 C620.286,837.431 622.972,834.744 622.972,831.431 \"/>\n",
       "</g>\n",
       "\n",
       "<g fill=\"none\" stroke=\"#1171be\" stroke-opacity=\"1\" stroke-width=\"1\" stroke-linecap=\"butt\" stroke-linejoin=\"miter\" stroke-miterlimit=\"2\" transform=\"matrix(0.49985,0,0,0.499751,0,0)\"\n",
       "font-family=\"Helvetica\" font-size=\"22\" font-weight=\"700\" font-style=\"normal\" \n",
       ">\n",
       "<path vector-effect=\"none\" fill-rule=\"evenodd\" d=\"M663.894,729.4 C663.894,726.086 661.207,723.4 657.894,723.4 C654.58,723.4 651.894,726.086 651.894,729.4 C651.894,732.714 654.58,735.4 657.894,735.4 C661.207,735.4 663.894,732.714 663.894,729.4 \"/>\n",
       "</g>\n",
       "\n",
       "<g fill=\"none\" stroke=\"#1171be\" stroke-opacity=\"1\" stroke-width=\"1\" stroke-linecap=\"butt\" stroke-linejoin=\"miter\" stroke-miterlimit=\"2\" transform=\"matrix(0.49985,0,0,0.499751,0,0)\"\n",
       "font-family=\"Helvetica\" font-size=\"22\" font-weight=\"700\" font-style=\"normal\" \n",
       ">\n",
       "<path vector-effect=\"none\" fill-rule=\"evenodd\" d=\"M704.815,576.354 C704.815,573.04 702.129,570.354 698.815,570.354 C695.501,570.354 692.815,573.04 692.815,576.354 C692.815,579.668 695.501,582.354 698.815,582.354 C702.129,582.354 704.815,579.668 704.815,576.354 \"/>\n",
       "</g>\n",
       "\n",
       "<g fill=\"none\" stroke=\"#1171be\" stroke-opacity=\"1\" stroke-width=\"1\" stroke-linecap=\"butt\" stroke-linejoin=\"miter\" stroke-miterlimit=\"2\" transform=\"matrix(0.49985,0,0,0.499751,0,0)\"\n",
       "font-family=\"Helvetica\" font-size=\"22\" font-weight=\"700\" font-style=\"normal\" \n",
       ">\n",
       "<path vector-effect=\"none\" fill-rule=\"evenodd\" d=\"M745.736,399.222 C745.736,395.908 743.05,393.222 739.736,393.222 C736.422,393.222 733.736,395.908 733.736,399.222 C733.736,402.535 736.422,405.222 739.736,405.222 C743.05,405.222 745.736,402.535 745.736,399.222 \"/>\n",
       "</g>\n",
       "\n",
       "<g fill=\"none\" stroke=\"#1171be\" stroke-opacity=\"1\" stroke-width=\"1\" stroke-linecap=\"butt\" stroke-linejoin=\"miter\" stroke-miterlimit=\"2\" transform=\"matrix(0.49985,0,0,0.499751,0,0)\"\n",
       "font-family=\"Helvetica\" font-size=\"22\" font-weight=\"700\" font-style=\"normal\" \n",
       ">\n",
       "<path vector-effect=\"none\" fill-rule=\"evenodd\" d=\"M786.657,234.133 C786.657,230.819 783.971,228.133 780.657,228.133 C777.344,228.133 774.657,230.819 774.657,234.133 C774.657,237.446 777.344,240.133 780.657,240.133 C783.971,240.133 786.657,237.446 786.657,234.133 \"/>\n",
       "</g>\n",
       "\n",
       "<g fill=\"none\" stroke=\"#1171be\" stroke-opacity=\"1\" stroke-width=\"1\" stroke-linecap=\"butt\" stroke-linejoin=\"miter\" stroke-miterlimit=\"2\" transform=\"matrix(0.49985,0,0,0.499751,0,0)\"\n",
       "font-family=\"Helvetica\" font-size=\"22\" font-weight=\"700\" font-style=\"normal\" \n",
       ">\n",
       "<path vector-effect=\"none\" fill-rule=\"evenodd\" d=\"M827.579,117.216 C827.579,113.902 824.892,111.216 821.579,111.216 C818.265,111.216 815.579,113.902 815.579,117.216 C815.579,120.53 818.265,123.216 821.579,123.216 C824.892,123.216 827.579,120.53 827.579,117.216 \"/>\n",
       "</g>\n",
       "\n",
       "<g fill=\"none\" stroke=\"#1171be\" stroke-opacity=\"1\" stroke-width=\"1\" stroke-linecap=\"butt\" stroke-linejoin=\"miter\" stroke-miterlimit=\"2\" transform=\"matrix(0.49985,0,0,0.499751,0,0)\"\n",
       "font-family=\"Helvetica\" font-size=\"22\" font-weight=\"700\" font-style=\"normal\" \n",
       ">\n",
       "<path vector-effect=\"none\" fill-rule=\"evenodd\" d=\"M868.5,75 C868.5,71.6863 865.814,69 862.5,69 C859.186,69 856.5,71.6863 856.5,75 C856.5,78.3137 859.186,81 862.5,81 C865.814,81 868.5,78.3137 868.5,75 \"/>\n",
       "</g>\n",
       "\n",
       "<g fill=\"none\" stroke=\"#1171be\" stroke-opacity=\"1\" stroke-width=\"1\" stroke-linecap=\"butt\" stroke-linejoin=\"miter\" stroke-miterlimit=\"2\" transform=\"matrix(0.49985,0,0,0.499751,0,0)\"\n",
       "font-family=\"Helvetica\" font-size=\"22\" font-weight=\"700\" font-style=\"normal\" \n",
       ">\n",
       "<path vector-effect=\"none\" fill-rule=\"evenodd\" d=\"M909.421,117.216 C909.421,113.902 906.735,111.216 903.421,111.216 C900.108,111.216 897.421,113.902 897.421,117.216 C897.421,120.53 900.108,123.216 903.421,123.216 C906.735,123.216 909.421,120.53 909.421,117.216 \"/>\n",
       "</g>\n",
       "\n",
       "<g fill=\"none\" stroke=\"#1171be\" stroke-opacity=\"1\" stroke-width=\"1\" stroke-linecap=\"butt\" stroke-linejoin=\"miter\" stroke-miterlimit=\"2\" transform=\"matrix(0.49985,0,0,0.499751,0,0)\"\n",
       "font-family=\"Helvetica\" font-size=\"22\" font-weight=\"700\" font-style=\"normal\" \n",
       ">\n",
       "<path vector-effect=\"none\" fill-rule=\"evenodd\" d=\"M950.343,234.133 C950.343,230.819 947.656,228.133 944.343,228.133 C941.029,228.133 938.343,230.819 938.343,234.133 C938.343,237.446 941.029,240.133 944.343,240.133 C947.656,240.133 950.343,237.446 950.343,234.133 \"/>\n",
       "</g>\n",
       "\n",
       "<g fill=\"none\" stroke=\"#1171be\" stroke-opacity=\"1\" stroke-width=\"1\" stroke-linecap=\"butt\" stroke-linejoin=\"miter\" stroke-miterlimit=\"2\" transform=\"matrix(0.49985,0,0,0.499751,0,0)\"\n",
       "font-family=\"Helvetica\" font-size=\"22\" font-weight=\"700\" font-style=\"normal\" \n",
       ">\n",
       "<path vector-effect=\"none\" fill-rule=\"evenodd\" d=\"M991.264,399.222 C991.264,395.908 988.578,393.222 985.264,393.222 C981.95,393.222 979.264,395.908 979.264,399.222 C979.264,402.535 981.95,405.222 985.264,405.222 C988.578,405.222 991.264,402.535 991.264,399.222 \"/>\n",
       "</g>\n",
       "\n",
       "<g fill=\"none\" stroke=\"#1171be\" stroke-opacity=\"1\" stroke-width=\"1\" stroke-linecap=\"butt\" stroke-linejoin=\"miter\" stroke-miterlimit=\"2\" transform=\"matrix(0.49985,0,0,0.499751,0,0)\"\n",
       "font-family=\"Helvetica\" font-size=\"22\" font-weight=\"700\" font-style=\"normal\" \n",
       ">\n",
       "<path vector-effect=\"none\" fill-rule=\"evenodd\" d=\"M1032.19,576.354 C1032.19,573.04 1029.5,570.354 1026.19,570.354 C1022.87,570.354 1020.19,573.04 1020.19,576.354 C1020.19,579.668 1022.87,582.354 1026.19,582.354 C1029.5,582.354 1032.19,579.668 1032.19,576.354 \"/>\n",
       "</g>\n",
       "\n",
       "<g fill=\"none\" stroke=\"#1171be\" stroke-opacity=\"1\" stroke-width=\"1\" stroke-linecap=\"butt\" stroke-linejoin=\"miter\" stroke-miterlimit=\"2\" transform=\"matrix(0.49985,0,0,0.499751,0,0)\"\n",
       "font-family=\"Helvetica\" font-size=\"22\" font-weight=\"700\" font-style=\"normal\" \n",
       ">\n",
       "<path vector-effect=\"none\" fill-rule=\"evenodd\" d=\"M1073.11,729.4 C1073.11,726.086 1070.42,723.4 1067.11,723.4 C1063.79,723.4 1061.11,726.086 1061.11,729.4 C1061.11,732.714 1063.79,735.4 1067.11,735.4 C1070.42,735.4 1073.11,732.714 1073.11,729.4 \"/>\n",
       "</g>\n",
       "\n",
       "<g fill=\"none\" stroke=\"#1171be\" stroke-opacity=\"1\" stroke-width=\"1\" stroke-linecap=\"butt\" stroke-linejoin=\"miter\" stroke-miterlimit=\"2\" transform=\"matrix(0.49985,0,0,0.499751,0,0)\"\n",
       "font-family=\"Helvetica\" font-size=\"22\" font-weight=\"700\" font-style=\"normal\" \n",
       ">\n",
       "<path vector-effect=\"none\" fill-rule=\"evenodd\" d=\"M1114.03,831.431 C1114.03,828.117 1111.34,825.431 1108.03,825.431 C1104.71,825.431 1102.03,828.117 1102.03,831.431 C1102.03,834.744 1104.71,837.431 1108.03,837.431 C1111.34,837.431 1114.03,834.744 1114.03,831.431 \"/>\n",
       "</g>\n",
       "\n",
       "<g fill=\"none\" stroke=\"#1171be\" stroke-opacity=\"1\" stroke-width=\"1\" stroke-linecap=\"butt\" stroke-linejoin=\"miter\" stroke-miterlimit=\"2\" transform=\"matrix(0.49985,0,0,0.499751,0,0)\"\n",
       "font-family=\"Helvetica\" font-size=\"22\" font-weight=\"700\" font-style=\"normal\" \n",
       ">\n",
       "<path vector-effect=\"none\" fill-rule=\"evenodd\" d=\"M1154.95,870.905 C1154.95,867.591 1152.26,864.905 1148.95,864.905 C1145.64,864.905 1142.95,867.591 1142.95,870.905 C1142.95,874.219 1145.64,876.905 1148.95,876.905 C1152.26,876.905 1154.95,874.219 1154.95,870.905 \"/>\n",
       "</g>\n",
       "\n",
       "<g fill=\"none\" stroke=\"#1171be\" stroke-opacity=\"1\" stroke-width=\"1\" stroke-linecap=\"butt\" stroke-linejoin=\"miter\" stroke-miterlimit=\"2\" transform=\"matrix(0.49985,0,0,0.499751,0,0)\"\n",
       "font-family=\"Helvetica\" font-size=\"22\" font-weight=\"700\" font-style=\"normal\" \n",
       ">\n",
       "<path vector-effect=\"none\" fill-rule=\"evenodd\" d=\"M1195.87,853.217 C1195.87,849.903 1193.18,847.217 1189.87,847.217 C1186.56,847.217 1183.87,849.903 1183.87,853.217 C1183.87,856.531 1186.56,859.217 1189.87,859.217 C1193.18,859.217 1195.87,856.531 1195.87,853.217 \"/>\n",
       "</g>\n",
       "\n",
       "<g fill=\"none\" stroke=\"#1171be\" stroke-opacity=\"1\" stroke-width=\"1\" stroke-linecap=\"butt\" stroke-linejoin=\"miter\" stroke-miterlimit=\"2\" transform=\"matrix(0.49985,0,0,0.499751,0,0)\"\n",
       "font-family=\"Helvetica\" font-size=\"22\" font-weight=\"700\" font-style=\"normal\" \n",
       ">\n",
       "<path vector-effect=\"none\" fill-rule=\"evenodd\" d=\"M1236.79,797.42 C1236.79,794.107 1234.11,791.42 1230.79,791.42 C1227.48,791.42 1224.79,794.107 1224.79,797.42 C1224.79,800.734 1227.48,803.42 1230.79,803.42 C1234.11,803.42 1236.79,800.734 1236.79,797.42 \"/>\n",
       "</g>\n",
       "\n",
       "<g fill=\"none\" stroke=\"#1171be\" stroke-opacity=\"1\" stroke-width=\"1\" stroke-linecap=\"butt\" stroke-linejoin=\"miter\" stroke-miterlimit=\"2\" transform=\"matrix(0.49985,0,0,0.499751,0,0)\"\n",
       "font-family=\"Helvetica\" font-size=\"22\" font-weight=\"700\" font-style=\"normal\" \n",
       ">\n",
       "<path vector-effect=\"none\" fill-rule=\"evenodd\" d=\"M1277.71,729.4 C1277.71,726.086 1275.03,723.4 1271.71,723.4 C1268.4,723.4 1265.71,726.086 1265.71,729.4 C1265.71,732.714 1268.4,735.4 1271.71,735.4 C1275.03,735.4 1277.71,732.714 1277.71,729.4 \"/>\n",
       "</g>\n",
       "\n",
       "<g fill=\"none\" stroke=\"#1171be\" stroke-opacity=\"1\" stroke-width=\"1\" stroke-linecap=\"butt\" stroke-linejoin=\"miter\" stroke-miterlimit=\"2\" transform=\"matrix(0.49985,0,0,0.499751,0,0)\"\n",
       "font-family=\"Helvetica\" font-size=\"22\" font-weight=\"700\" font-style=\"normal\" \n",
       ">\n",
       "<path vector-effect=\"none\" fill-rule=\"evenodd\" d=\"M1318.63,673.747 C1318.63,670.433 1315.95,667.747 1312.63,667.747 C1309.32,667.747 1306.63,670.433 1306.63,673.747 C1306.63,677.061 1309.32,679.747 1312.63,679.747 C1315.95,679.747 1318.63,677.061 1318.63,673.747 \"/>\n",
       "</g>\n",
       "\n",
       "<g fill=\"none\" stroke=\"#1171be\" stroke-opacity=\"1\" stroke-width=\"1\" stroke-linecap=\"butt\" stroke-linejoin=\"miter\" stroke-miterlimit=\"2\" transform=\"matrix(0.49985,0,0,0.499751,0,0)\"\n",
       "font-family=\"Helvetica\" font-size=\"22\" font-weight=\"700\" font-style=\"normal\" \n",
       ">\n",
       "<path vector-effect=\"none\" fill-rule=\"evenodd\" d=\"M1359.56,646.855 C1359.56,643.542 1356.87,640.855 1353.56,640.855 C1350.24,640.855 1347.56,643.542 1347.56,646.855 C1347.56,650.169 1350.24,652.855 1353.56,652.855 C1356.87,652.855 1359.56,650.169 1359.56,646.855 \"/>\n",
       "</g>\n",
       "\n",
       "<g fill=\"none\" stroke=\"#1171be\" stroke-opacity=\"1\" stroke-width=\"1\" stroke-linecap=\"butt\" stroke-linejoin=\"miter\" stroke-miterlimit=\"2\" transform=\"matrix(0.49985,0,0,0.499751,0,0)\"\n",
       "font-family=\"Helvetica\" font-size=\"22\" font-weight=\"700\" font-style=\"normal\" \n",
       ">\n",
       "<path vector-effect=\"none\" fill-rule=\"evenodd\" d=\"M1400.48,653.205 C1400.48,649.891 1397.79,647.205 1394.48,647.205 C1391.16,647.205 1388.48,649.891 1388.48,653.205 C1388.48,656.519 1391.16,659.205 1394.48,659.205 C1397.79,659.205 1400.48,656.519 1400.48,653.205 \"/>\n",
       "</g>\n",
       "\n",
       "<g fill=\"none\" stroke=\"#1171be\" stroke-opacity=\"1\" stroke-width=\"1\" stroke-linecap=\"butt\" stroke-linejoin=\"miter\" stroke-miterlimit=\"2\" transform=\"matrix(0.49985,0,0,0.499751,0,0)\"\n",
       "font-family=\"Helvetica\" font-size=\"22\" font-weight=\"700\" font-style=\"normal\" \n",
       ">\n",
       "<path vector-effect=\"none\" fill-rule=\"evenodd\" d=\"M1441.4,685.673 C1441.4,682.359 1438.71,679.673 1435.4,679.673 C1432.08,679.673 1429.4,682.359 1429.4,685.673 C1429.4,688.986 1432.08,691.673 1435.4,691.673 C1438.71,691.673 1441.4,688.986 1441.4,685.673 \"/>\n",
       "</g>\n",
       "\n",
       "<g fill=\"none\" stroke=\"#1171be\" stroke-opacity=\"1\" stroke-width=\"1\" stroke-linecap=\"butt\" stroke-linejoin=\"miter\" stroke-miterlimit=\"2\" transform=\"matrix(0.49985,0,0,0.499751,0,0)\"\n",
       "font-family=\"Helvetica\" font-size=\"22\" font-weight=\"700\" font-style=\"normal\" \n",
       ">\n",
       "<path vector-effect=\"none\" fill-rule=\"evenodd\" d=\"M1482.32,729.4 C1482.32,726.086 1479.63,723.4 1476.32,723.4 C1473.01,723.4 1470.32,726.086 1470.32,729.4 C1470.32,732.714 1473.01,735.4 1476.32,735.4 C1479.63,735.4 1482.32,732.714 1482.32,729.4 \"/>\n",
       "</g>\n",
       "\n",
       "<g fill=\"none\" stroke=\"#ff0000\" stroke-opacity=\"1\" stroke-dasharray=\"1,3\" stroke-dashoffset=\"0\" stroke-width=\"1\" stroke-linecap=\"butt\" stroke-linejoin=\"round\" transform=\"matrix(0.49985,0,0,0.499751,0,0)\"\n",
       "font-family=\"Helvetica\" font-size=\"22\" font-weight=\"700\" font-style=\"normal\" \n",
       ">\n",
       "<polyline fill=\"none\" vector-effect=\"none\" points=\"248.681,729.4 249.91,728.087 251.139,726.77 252.368,725.448 253.596,724.122 254.825,722.793 256.054,721.461 257.283,720.126 258.512,718.789 259.741,717.45 260.97,716.11 262.198,714.77 263.427,713.429 264.656,712.088 265.885,710.748 267.114,709.409 268.343,708.072 269.572,706.737 270.801,705.404 272.029,704.074 273.258,702.748 274.487,701.426 275.716,700.108 276.945,698.795 278.174,697.488 279.403,696.186 280.632,694.891 281.86,693.602 283.089,692.321 284.318,691.048 285.547,689.783 286.776,688.526 288.005,687.279 289.234,686.042 290.462,684.815 291.691,683.598 292.92,682.392 294.149,681.198 295.378,680.016 296.607,678.847 297.836,677.69 299.065,676.547 300.293,675.418 301.522,674.302 302.751,673.202 303.98,672.117 305.209,671.048 306.438,669.995 307.667,668.958 308.895,667.938 310.124,666.936 311.353,665.951 312.582,664.985 313.811,664.037 315.04,663.108 316.269,662.199 317.498,661.31 318.726,660.441 319.955,659.592 321.184,658.765 322.413,657.959 323.642,657.175 324.871,656.414 326.1,655.674 327.328,654.958 328.557,654.265 329.786,653.595 331.015,652.95 332.244,652.328 333.473,651.732 334.702,651.16 335.931,650.614 337.159,650.093 338.388,649.598 339.617,649.129 340.846,648.686 342.075,648.271 343.304,647.882 344.533,647.52 345.761,647.186 346.99,646.88 348.219,646.602 349.448,646.352 350.677,646.13 351.906,645.937 353.135,645.773 354.364,645.638 355.592,645.532 356.821,645.456 358.05,645.409 359.279,645.392 360.508,645.405 361.737,645.447 362.966,645.52 364.194,645.624 365.423,645.757 366.652,645.922 367.881,646.117 369.11,646.342 370.339,646.598 371.568,646.886 372.797,647.204 374.025,647.553 375.254,647.932 376.483,648.343 377.712,648.785 378.941,649.258 380.17,649.762 381.399,650.297 382.627,650.863 383.856,651.46 385.085,652.088 386.314,652.747 387.543,653.436 388.772,654.156 390.001,654.907 391.23,655.688 392.458,656.499 393.687,657.341 394.916,658.213 396.145,659.115 397.374,660.047 398.603,661.009 399.832,662 401.06,663.02 402.289,664.07 403.518,665.148 404.747,666.255 405.976,667.391 407.205,668.555 408.434,669.747 409.663,670.967 410.891,672.214 412.12,673.489 413.349,674.79 414.578,676.118 415.807,677.473 417.036,678.853 418.265,680.259 419.493,681.691 420.722,683.147 421.951,684.628 423.18,686.133 424.409,687.663 425.638,689.215 426.867,690.791 428.096,692.39 429.324,694.01 430.553,695.653 431.782,697.317 433.011,699.002 434.24,700.708 435.469,702.433 436.698,704.179 437.926,705.943 439.155,707.726 440.384,709.527 441.613,711.346 442.842,713.182 444.071,715.034 445.3,716.902 446.529,718.786 447.757,720.685 448.986,722.598 450.215,724.526 451.444,726.466 452.673,728.419 453.902,730.384 455.131,732.361 456.359,734.348 457.588,736.346 458.817,738.354 460.046,740.37 461.275,742.395 462.504,744.428 463.733,746.468 464.962,748.515 466.19,750.567 467.419,752.625 468.648,754.687 469.877,756.753 471.106,758.822 472.335,760.894 473.564,762.967 474.792,765.042 476.021,767.117 477.25,769.192 478.479,771.266 479.708,773.339 480.937,775.409 482.166,777.476 483.395,779.539 484.623,781.598 485.852,783.651 487.081,785.699 488.31,787.74 489.539,789.773 490.768,791.799 491.997,793.815 493.225,795.822 494.454,797.819 495.683,799.805 496.912,801.778 498.141,803.74 499.37,805.688 500.599,807.622 501.828,809.541 503.056,811.445 504.285,813.332 505.514,815.202 506.743,817.055 507.972,818.889 509.201,820.704 510.43,822.5 511.659,824.274 512.887,826.027 514.116,827.758 515.345,829.466 516.574,831.15 517.803,832.81 519.032,834.445 520.261,836.054 521.489,837.637 522.718,839.192 523.947,840.72 525.176,842.219 526.405,843.688 527.634,845.128 528.863,846.536 530.091,847.913 531.32,849.259 532.549,850.571 533.778,851.85 535.007,853.094 536.236,854.304 537.465,855.478 538.694,856.617 539.922,857.718 541.151,858.782 542.38,859.808 543.609,860.795 544.838,861.743 546.067,862.651 547.296,863.518 548.524,864.345 549.753,865.129 550.982,865.871 552.211,866.571 553.44,867.227 554.669,867.838 555.898,868.406 557.127,868.928 558.355,869.404 559.584,869.834 560.813,870.218 562.042,870.554 563.271,870.843 564.5,871.084 565.729,871.275 566.958,871.418 568.186,871.511 569.415,871.555 570.644,871.547 571.873,871.489 573.102,871.379 574.331,871.218 575.56,871.005 576.788,870.739 578.017,870.421 579.246,870.049 580.475,869.624 581.704,869.144 582.933,868.611 584.162,868.023 585.391,867.381 586.619,866.683 587.848,865.93 589.077,865.121 590.306,864.257 591.535,863.336 592.764,862.36 593.993,861.326 595.221,860.236 596.45,859.089 597.679,857.886 598.908,856.625 600.137,855.306 601.366,853.93 602.595,852.497 603.823,851.006 605.052,849.457 606.281,847.851 607.51,846.186 608.739,844.464 609.968,842.684 611.197,840.846 612.426,838.95 613.654,836.996 614.883,834.984 616.112,832.914 617.341,830.786 618.57,828.601 619.799,826.358 621.028,824.058 622.257,821.7 623.485,819.285 624.714,816.813 625.943,814.284 627.172,811.698 628.401,809.055 629.63,806.356 630.859,803.601 632.087,800.79 633.316,797.923 634.545,795.001 635.774,792.024 637.003,788.991 638.232,785.905 639.461,782.763 640.69,779.569 641.918,776.32 643.147,773.018 644.376,769.664 645.605,766.257 646.834,762.798 648.063,759.287 649.292,755.726 650.52,752.113 651.749,748.45 652.978,744.738 654.207,740.976 655.436,737.166 656.665,733.307 657.894,729.4 659.123,725.446 660.351,721.446 661.58,717.399 662.809,713.307 664.038,709.17 665.267,704.989 666.496,700.764 667.725,696.496 668.953,692.185 670.182,687.833 671.411,683.44 672.64,679.006 673.869,674.533 675.098,670.02 676.327,665.469 677.556,660.881 678.784,656.256 680.013,651.595 681.242,646.898 682.471,642.167 683.7,637.403 684.929,632.605 686.158,627.775 687.386,622.914 688.615,618.022 689.844,613.1 691.073,608.15 692.302,603.172 693.531,598.166 694.76,593.134 695.989,588.077 697.217,582.995 698.446,577.89 699.675,572.762 700.904,567.612 702.133,562.441 703.362,557.251 704.591,552.041 705.819,546.813 707.048,541.568 708.277,536.307 709.506,531.031 710.735,525.74 711.964,520.436 713.193,515.12 714.422,509.792 715.65,504.455 716.879,499.107 718.108,493.752 719.337,488.389 720.566,483.02 721.795,477.645 723.024,472.267 724.253,466.885 725.481,461.5 726.71,456.115 727.939,450.729 729.168,445.344 730.397,439.962 731.626,434.582 732.855,429.206 734.083,423.834 735.312,418.469 736.541,413.112 737.77,407.762 738.999,402.421 740.228,397.091 741.457,391.772 742.685,386.465 743.914,381.172 745.143,375.893 746.372,370.629 747.601,365.382 748.83,360.153 750.059,354.942 751.288,349.75 752.516,344.58 753.745,339.431 754.974,334.305 756.203,329.202 757.432,324.125 758.661,319.073 759.89,314.048 761.118,309.051 762.347,304.082 763.576,299.144 764.805,294.236 766.034,289.361 767.263,284.518 768.492,279.709 769.721,274.935 770.949,270.196 772.178,265.495 773.407,260.831 774.636,256.206 775.865,251.62 777.094,247.075 778.323,242.572 779.551,238.11 780.78,233.693 782.009,229.319 783.238,224.991 784.467,220.709 785.696,216.474 786.925,212.287 788.154,208.148 789.382,204.059 790.611,200.02 791.84,196.033 793.069,192.098 794.298,188.216 795.527,184.387 796.756,180.613 797.984,176.894 799.213,173.232 800.442,169.626 801.671,166.078 802.9,162.588 804.129,159.157 805.358,155.786 806.587,152.476 807.815,149.227 809.044,146.04 810.273,142.915 811.502,139.854 812.731,136.856 813.96,133.923 815.189,131.056 816.417,128.253 817.646,125.518 818.875,122.849 820.104,120.248 821.333,117.714 822.562,115.25 823.791,112.854 825.02,110.528 826.248,108.272 827.477,106.086 828.706,103.972 829.935,101.929 831.164,99.9583 832.393,98.0597 833.622,96.2338 834.85,94.4811 836.079,92.8019 837.308,91.1965 838.537,89.6653 839.766,88.2087 840.995,86.8269 842.224,85.5202 843.453,84.289 844.681,83.1334 845.91,82.0538 847.139,81.0503 848.368,80.1231 849.597,79.2726 850.826,78.4988 852.055,77.8018 853.284,77.182 854.512,76.6393 855.741,76.174 856.97,75.786 858.199,75.4756 859.428,75.2427 860.657,75.0874 861.886,75.0097 863.114,75.0097 864.343,75.0874 865.572,75.2427 866.801,75.4756 868.03,75.786 869.259,76.174 870.488,76.6393 871.716,77.182 872.945,77.8018 874.174,78.4988 875.403,79.2726 876.632,80.1231 877.861,81.0503 879.09,82.0538 880.319,83.1334 881.547,84.289 882.776,85.5202 884.005,86.8269 885.234,88.2087 886.463,89.6653 887.692,91.1965 888.921,92.8019 890.15,94.4811 891.378,96.2338 892.607,98.0597 893.836,99.9583 895.065,101.929 896.294,103.972 897.523,106.086 898.752,108.272 899.98,110.528 901.209,112.854 902.438,115.25 903.667,117.714 904.896,120.248 906.125,122.849 907.354,125.518 908.583,128.253 909.811,131.056 911.04,133.923 912.269,136.856 913.498,139.854 914.727,142.915 915.956,146.04 917.185,149.227 918.413,152.476 919.642,155.786 920.871,159.157 922.1,162.588 923.329,166.078 924.558,169.626 925.787,173.232 927.016,176.894 928.244,180.613 929.473,184.387 930.702,188.216 931.931,192.098 933.16,196.033 934.389,200.02 935.618,204.059 936.846,208.148 938.075,212.287 939.304,216.474 940.533,220.709 941.762,224.991 942.991,229.319 944.22,233.693 945.449,238.11 946.677,242.572 947.906,247.075 949.135,251.62 950.364,256.206 951.593,260.831 952.822,265.495 954.051,270.196 955.279,274.935 956.508,279.709 957.737,284.518 958.966,289.361 960.195,294.236 961.424,299.144 962.653,304.082 963.882,309.051 965.11,314.048 966.339,319.073 967.568,324.125 968.797,329.202 970.026,334.305 971.255,339.431 972.484,344.58 973.712,349.75 974.941,354.942 976.17,360.153 977.399,365.382 978.628,370.629 979.857,375.893 981.086,381.172 982.315,386.465 983.543,391.772 984.772,397.091 986.001,402.421 987.23,407.762 988.459,413.112 989.688,418.469 990.917,423.834 992.145,429.206 993.374,434.582 994.603,439.962 995.832,445.344 997.061,450.729 998.29,456.115 999.519,461.5 1000.75,466.885 1001.98,472.267 1003.21,477.645 1004.43,483.02 1005.66,488.389 1006.89,493.752 1008.12,499.107 1009.35,504.455 1010.58,509.792 1011.81,515.12 1013.04,520.436 1014.27,525.74 1015.49,531.031 1016.72,536.307 1017.95,541.568 1019.18,546.813 1020.41,552.041 1021.64,557.251 1022.87,562.441 1024.1,567.612 1025.32,572.762 1026.55,577.89 1027.78,582.995 1029.01,588.077 1030.24,593.134 1031.47,598.166 1032.7,603.172 1033.93,608.15 1035.16,613.1 1036.38,618.022 1037.61,622.914 1038.84,627.775 1040.07,632.605 1041.3,637.403 1042.53,642.167 1043.76,646.898 1044.99,651.595 1046.22,656.256 1047.44,660.881 1048.67,665.469 1049.9,670.02 1051.13,674.533 1052.36,679.006 1053.59,683.44 1054.82,687.833 1056.05,692.185 1057.28,696.496 1058.5,700.764 1059.73,704.989 1060.96,709.17 1062.19,713.307 1063.42,717.399 1064.65,721.446 1065.88,725.446 1067.11,729.4 1068.34,733.307 1069.56,737.166 1070.79,740.976 1072.02,744.738 1073.25,748.45 1074.48,752.113 1075.71,755.726 1076.94,759.287 1078.17,762.798 1079.4,766.257 1080.62,769.664 1081.85,773.018 1083.08,776.32 1084.31,779.569 1085.54,782.763 1086.77,785.905 1088,788.991 1089.23,792.024 1090.45,795.001 1091.68,797.923 1092.91,800.79 1094.14,803.601 1095.37,806.356 1096.6,809.055 1097.83,811.698 1099.06,814.284 1100.29,816.813 1101.51,819.285 1102.74,821.7 1103.97,824.058 1105.2,826.358 1106.43,828.601 1107.66,830.786 1108.89,832.914 1110.12,834.984 1111.35,836.996 1112.57,838.95 1113.8,840.846 1115.03,842.684 1116.26,844.464 1117.49,846.186 1118.72,847.851 1119.95,849.457 1121.18,851.006 1122.41,852.497 1123.63,853.93 1124.86,855.306 1126.09,856.625 1127.32,857.886 1128.55,859.089 1129.78,860.236 1131.01,861.326 1132.24,862.36 1133.47,863.336 1134.69,864.257 1135.92,865.121 1137.15,865.93 1138.38,866.683 1139.61,867.381 1140.84,868.023 1142.07,868.611 1143.3,869.144 1144.52,869.624 1145.75,870.049 1146.98,870.421 1148.21,870.739 1149.44,871.005 1150.67,871.218 1151.9,871.379 1153.13,871.489 1154.36,871.547 1155.58,871.555 1156.81,871.511 1158.04,871.418 1159.27,871.275 1160.5,871.084 1161.73,870.843 1162.96,870.554 1164.19,870.218 1165.42,869.834 1166.64,869.404 1167.87,868.928 1169.1,868.406 1170.33,867.838 1171.56,867.227 1172.79,866.571 1174.02,865.871 1175.25,865.129 1176.48,864.345 1177.7,863.518 1178.93,862.651 1180.16,861.743 1181.39,860.795 1182.62,859.808 1183.85,858.782 1185.08,857.718 1186.31,856.617 1187.54,855.478 1188.76,854.304 1189.99,853.094 1191.22,851.85 1192.45,850.571 1193.68,849.259 1194.91,847.913 1196.14,846.536 1197.37,845.128 1198.6,843.688 1199.82,842.219 1201.05,840.72 1202.28,839.192 1203.51,837.637 1204.74,836.054 1205.97,834.445 1207.2,832.81 1208.43,831.15 1209.65,829.466 1210.88,827.758 1212.11,826.027 1213.34,824.274 1214.57,822.5 1215.8,820.704 1217.03,818.889 1218.26,817.055 1219.49,815.202 1220.71,813.332 1221.94,811.445 1223.17,809.541 1224.4,807.622 1225.63,805.688 1226.86,803.74 1228.09,801.778 1229.32,799.805 1230.55,797.819 1231.77,795.822 1233,793.815 1234.23,791.799 1235.46,789.773 1236.69,787.74 1237.92,785.699 1239.15,783.651 1240.38,781.598 1241.61,779.539 1242.83,777.476 1244.06,775.409 1245.29,773.339 1246.52,771.266 1247.75,769.192 1248.98,767.117 1250.21,765.042 1251.44,762.967 1252.67,760.894 1253.89,758.822 1255.12,756.753 1256.35,754.687 1257.58,752.625 1258.81,750.567 1260.04,748.515 1261.27,746.468 1262.5,744.428 1263.73,742.395 1264.95,740.37 1266.18,738.354 1267.41,736.346 1268.64,734.348 1269.87,732.361 1271.1,730.384 1272.33,728.419 1273.56,726.466 1274.78,724.526 1276.01,722.598 1277.24,720.685 1278.47,718.786 1279.7,716.902 1280.93,715.034 1282.16,713.182 1283.39,711.346 1284.62,709.527 1285.84,707.726 1287.07,705.943 1288.3,704.179 1289.53,702.433 1290.76,700.708 1291.99,699.002 1293.22,697.317 1294.45,695.653 1295.68,694.01 1296.9,692.39 1298.13,690.791 1299.36,689.215 1300.59,687.663 1301.82,686.133 1303.05,684.628 1304.28,683.147 1305.51,681.691 1306.74,680.259 1307.96,678.853 1309.19,677.473 1310.42,676.118 1311.65,674.79 1312.88,673.489 1314.11,672.214 1315.34,670.967 1316.57,669.747 1317.8,668.555 1319.02,667.391 1320.25,666.255 1321.48,665.148 1322.71,664.07 1323.94,663.02 1325.17,662 1326.4,661.009 1327.63,660.047 1328.85,659.115 1330.08,658.213 1331.31,657.341 1332.54,656.499 1333.77,655.688 1335,654.907 1336.23,654.156 1337.46,653.436 1338.69,652.747 1339.91,652.088 1341.14,651.46 1342.37,650.863 1343.6,650.297 1344.83,649.762 1346.06,649.258 1347.29,648.785 1348.52,648.343 1349.75,647.932 1350.97,647.553 1352.2,647.204 1353.43,646.886 1354.66,646.598 1355.89,646.342 1357.12,646.117 1358.35,645.922 1359.58,645.757 1360.81,645.624 1362.03,645.52 1363.26,645.447 1364.49,645.405 1365.72,645.392 1366.95,645.409 1368.18,645.456 1369.41,645.532 1370.64,645.638 1371.87,645.773 1373.09,645.937 1374.32,646.13 1375.55,646.352 1376.78,646.602 1378.01,646.88 1379.24,647.186 1380.47,647.52 1381.7,647.882 1382.93,648.271 1384.15,648.686 1385.38,649.129 1386.61,649.598 1387.84,650.093 1389.07,650.614 1390.3,651.16 1391.53,651.732 1392.76,652.328 1393.98,652.95 1395.21,653.595 1396.44,654.265 1397.67,654.958 1398.9,655.674 1400.13,656.414 1401.36,657.175 1402.59,657.959 1403.82,658.765 1405.04,659.592 1406.27,660.441 1407.5,661.31 1408.73,662.199 1409.96,663.108 1411.19,664.037 1412.42,664.985 1413.65,665.951 1414.88,666.936 1416.1,667.938 1417.33,668.958 1418.56,669.995 1419.79,671.048 1421.02,672.117 1422.25,673.202 1423.48,674.302 1424.71,675.418 1425.94,676.547 1427.16,677.69 1428.39,678.847 1429.62,680.016 1430.85,681.198 1432.08,682.392 1433.31,683.598 1434.54,684.815 1435.77,686.042 1437,687.279 1438.22,688.526 1439.45,689.783 1440.68,691.048 1441.91,692.321 1443.14,693.602 1444.37,694.891 1445.6,696.186 1446.83,697.488 1448.06,698.795 1449.28,700.108 1450.51,701.426 1451.74,702.748 1452.97,704.074 1454.2,705.404 1455.43,706.737 1456.66,708.072 1457.89,709.409 1459.11,710.748 1460.34,712.088 1461.57,713.429 1462.8,714.77 1464.03,716.11 1465.26,717.45 1466.49,718.789 1467.72,720.126 1468.95,721.461 1470.17,722.793 1471.4,724.122 1472.63,725.448 1473.86,726.77 1475.09,728.087 1476.32,729.4 \" />\n",
       "</g>\n",
       "\n",
       "<g fill=\"#212121\" fill-opacity=\"1\" stroke=\"#212121\" stroke-opacity=\"1\" stroke-width=\"1\" stroke-linecap=\"square\" stroke-linejoin=\"bevel\" transform=\"matrix(0.49985,0,0,0.499751,389.883,471.265)\"\n",
       "font-family=\"Helvetica\" font-size=\"22\" font-weight=\"400\" font-style=\"normal\" \n",
       ">\n",
       "<text fill=\"#212121\" fill-opacity=\"1\" stroke=\"none\" xml:space=\"preserve\" x=\"0\" y=\"-0.0625\" font-family=\"Helvetica\" font-size=\"22\" font-weight=\"400\" font-style=\"normal\" \n",
       " >k Omega</text>\n",
       "</g>\n",
       "\n",
       "<g fill=\"#212121\" fill-opacity=\"1\" stroke=\"#212121\" stroke-opacity=\"1\" stroke-width=\"1\" stroke-linecap=\"square\" stroke-linejoin=\"bevel\" transform=\"matrix(0.49985,0,0,0.499751,434.37,476.762)\"\n",
       "font-family=\"Helvetica\" font-size=\"17\" font-weight=\"400\" font-style=\"normal\" \n",
       ">\n",
       "<text fill=\"#212121\" fill-opacity=\"1\" stroke=\"none\" xml:space=\"preserve\" x=\"0\" y=\"0.078125\" font-family=\"Helvetica\" font-size=\"17\" font-weight=\"400\" font-style=\"normal\" \n",
       " >0</text>\n",
       "</g>\n",
       "\n",
       "<g fill=\"#212121\" fill-opacity=\"1\" stroke=\"#212121\" stroke-opacity=\"1\" stroke-width=\"1\" stroke-linecap=\"square\" stroke-linejoin=\"bevel\" transform=\"matrix(0.49985,0,0,0.499751,438.868,471.265)\"\n",
       "font-family=\"Helvetica\" font-size=\"22\" font-weight=\"400\" font-style=\"normal\" \n",
       ">\n",
       "<text fill=\"#212121\" fill-opacity=\"1\" stroke=\"none\" xml:space=\"preserve\" x=\"0\" y=\"-0.0625\" font-family=\"Helvetica\" font-size=\"22\" font-weight=\"400\" font-style=\"normal\" \n",
       " > [rad/s]</text>\n",
       "</g>\n",
       "\n",
       "<g fill=\"#212121\" fill-opacity=\"1\" stroke=\"#212121\" stroke-opacity=\"1\" stroke-width=\"1\" stroke-linecap=\"butt\" stroke-linejoin=\"round\" transform=\"matrix(0.49985,0,0,0.499751,0,0)\"\n",
       "font-family=\"Helvetica\" font-size=\"22\" font-weight=\"400\" font-style=\"normal\" \n",
       ">\n",
       "<polyline fill=\"none\" vector-effect=\"none\" points=\"217,893 1508,893 \" />\n",
       "<polyline fill=\"none\" vector-effect=\"none\" points=\"217,75 1508,75 \" />\n",
       "<polyline fill=\"none\" vector-effect=\"none\" points=\"248.681,893 248.681,880.09 \" />\n",
       "<polyline fill=\"none\" vector-effect=\"none\" points=\"248.681,87.91 248.681,75 \" />\n",
       "<polyline fill=\"none\" vector-effect=\"none\" points=\"453.287,893 453.287,880.09 \" />\n",
       "<polyline fill=\"none\" vector-effect=\"none\" points=\"453.287,87.91 453.287,75 \" />\n",
       "<polyline fill=\"none\" vector-effect=\"none\" points=\"657.894,893 657.894,880.09 \" />\n",
       "<polyline fill=\"none\" vector-effect=\"none\" points=\"657.894,87.91 657.894,75 \" />\n",
       "<polyline fill=\"none\" vector-effect=\"none\" points=\"862.5,893 862.5,880.09 \" />\n",
       "<polyline fill=\"none\" vector-effect=\"none\" points=\"862.5,87.91 862.5,75 \" />\n",
       "<polyline fill=\"none\" vector-effect=\"none\" points=\"1067.11,893 1067.11,880.09 \" />\n",
       "<polyline fill=\"none\" vector-effect=\"none\" points=\"1067.11,87.91 1067.11,75 \" />\n",
       "<polyline fill=\"none\" vector-effect=\"none\" points=\"1271.71,893 1271.71,880.09 \" />\n",
       "<polyline fill=\"none\" vector-effect=\"none\" points=\"1271.71,87.91 1271.71,75 \" />\n",
       "<polyline fill=\"none\" vector-effect=\"none\" points=\"1476.32,893 1476.32,880.09 \" />\n",
       "<polyline fill=\"none\" vector-effect=\"none\" points=\"1476.32,87.91 1476.32,75 \" />\n",
       "</g>\n",
       "\n",
       "<g fill=\"#212121\" fill-opacity=\"1\" stroke=\"#212121\" stroke-opacity=\"1\" stroke-width=\"1\" stroke-linecap=\"square\" stroke-linejoin=\"bevel\" transform=\"matrix(0.49985,0,0,0.499751,117.055,457.772)\"\n",
       "font-family=\"Helvetica\" font-size=\"20\" font-weight=\"400\" font-style=\"normal\" \n",
       ">\n",
       "<text fill=\"#212121\" fill-opacity=\"1\" stroke=\"none\" xml:space=\"preserve\" x=\"0\" y=\"0.390625\" font-family=\"Helvetica\" font-size=\"20\" font-weight=\"400\" font-style=\"normal\" \n",
       " >-15</text>\n",
       "</g>\n",
       "\n",
       "<g fill=\"#212121\" fill-opacity=\"1\" stroke=\"#212121\" stroke-opacity=\"1\" stroke-width=\"1\" stroke-linecap=\"square\" stroke-linejoin=\"bevel\" transform=\"matrix(0.49985,0,0,0.499751,219.328,457.772)\"\n",
       "font-family=\"Helvetica\" font-size=\"20\" font-weight=\"400\" font-style=\"normal\" \n",
       ">\n",
       "<text fill=\"#212121\" fill-opacity=\"1\" stroke=\"none\" xml:space=\"preserve\" x=\"0\" y=\"0.390625\" font-family=\"Helvetica\" font-size=\"20\" font-weight=\"400\" font-style=\"normal\" \n",
       " >-10</text>\n",
       "</g>\n",
       "\n",
       "<g fill=\"#212121\" fill-opacity=\"1\" stroke=\"#212121\" stroke-opacity=\"1\" stroke-width=\"1\" stroke-linecap=\"square\" stroke-linejoin=\"bevel\" transform=\"matrix(0.49985,0,0,0.499751,324.35,457.772)\"\n",
       "font-family=\"Helvetica\" font-size=\"20\" font-weight=\"400\" font-style=\"normal\" \n",
       ">\n",
       "<text fill=\"#212121\" fill-opacity=\"1\" stroke=\"none\" xml:space=\"preserve\" x=\"0\" y=\"0.390625\" font-family=\"Helvetica\" font-size=\"20\" font-weight=\"400\" font-style=\"normal\" \n",
       " >-5</text>\n",
       "</g>\n",
       "\n",
       "<g fill=\"#212121\" fill-opacity=\"1\" stroke=\"#212121\" stroke-opacity=\"1\" stroke-width=\"1\" stroke-linecap=\"square\" stroke-linejoin=\"bevel\" transform=\"matrix(0.49985,0,0,0.499751,428.371,457.772)\"\n",
       "font-family=\"Helvetica\" font-size=\"20\" font-weight=\"400\" font-style=\"normal\" \n",
       ">\n",
       "<text fill=\"#212121\" fill-opacity=\"1\" stroke=\"none\" xml:space=\"preserve\" x=\"0\" y=\"0.390625\" font-family=\"Helvetica\" font-size=\"20\" font-weight=\"400\" font-style=\"normal\" \n",
       " >0</text>\n",
       "</g>\n",
       "\n",
       "<g fill=\"#212121\" fill-opacity=\"1\" stroke=\"#212121\" stroke-opacity=\"1\" stroke-width=\"1\" stroke-linecap=\"square\" stroke-linejoin=\"bevel\" transform=\"matrix(0.49985,0,0,0.499751,530.644,457.772)\"\n",
       "font-family=\"Helvetica\" font-size=\"20\" font-weight=\"400\" font-style=\"normal\" \n",
       ">\n",
       "<text fill=\"#212121\" fill-opacity=\"1\" stroke=\"none\" xml:space=\"preserve\" x=\"0\" y=\"0.390625\" font-family=\"Helvetica\" font-size=\"20\" font-weight=\"400\" font-style=\"normal\" \n",
       " >5</text>\n",
       "</g>\n",
       "\n",
       "<g fill=\"#212121\" fill-opacity=\"1\" stroke=\"#212121\" stroke-opacity=\"1\" stroke-width=\"1\" stroke-linecap=\"square\" stroke-linejoin=\"bevel\" transform=\"matrix(0.49985,0,0,0.499751,630.167,457.772)\"\n",
       "font-family=\"Helvetica\" font-size=\"20\" font-weight=\"400\" font-style=\"normal\" \n",
       ">\n",
       "<text fill=\"#212121\" fill-opacity=\"1\" stroke=\"none\" xml:space=\"preserve\" x=\"0\" y=\"0.390625\" font-family=\"Helvetica\" font-size=\"20\" font-weight=\"400\" font-style=\"normal\" \n",
       " >10</text>\n",
       "</g>\n",
       "\n",
       "<g fill=\"#212121\" fill-opacity=\"1\" stroke=\"#212121\" stroke-opacity=\"1\" stroke-width=\"1\" stroke-linecap=\"square\" stroke-linejoin=\"bevel\" transform=\"matrix(0.49985,0,0,0.499751,732.44,457.772)\"\n",
       "font-family=\"Helvetica\" font-size=\"20\" font-weight=\"400\" font-style=\"normal\" \n",
       ">\n",
       "<text fill=\"#212121\" fill-opacity=\"1\" stroke=\"none\" xml:space=\"preserve\" x=\"0\" y=\"0.390625\" font-family=\"Helvetica\" font-size=\"20\" font-weight=\"400\" font-style=\"normal\" \n",
       " >15</text>\n",
       "</g>\n",
       "</g>\n",
       "</svg>\n"
      ]
     },
     "metadata": {},
     "output_type": "display_data"
    }
   ],
   "source": [
    "A = 1; w = 5; [f,omega] = pulse_fs(A,w,15);\n",
    "stem(omega,f)\n",
    "title('Line Spectra for pulse with w=5')\n",
    "hold on\n",
    "om = linspace(-15,15,1000);\n",
    "xlabel('k Omega_0 [rad/s]')\n",
    "xc = om.*pi./w;\n",
    "plot(om,(A/w)*sin(xc)./(xc),'r:')\n",
    "hold off"
   ]
  },
  {
   "cell_type": "markdown",
   "id": "8bf70d19",
   "metadata": {
    "slideshow": {
     "slide_type": "subslide"
    }
   },
   "source": [
    "#### w = 10\n",
    "\n",
    "$\\Omega_0 = 1$ rad/s; $w = 10$; $T = 2\\pi$ s; $T/w = \\pi$ s."
   ]
  },
  {
   "cell_type": "code",
   "execution_count": 16,
   "id": "8e27f0bd",
   "metadata": {
    "slideshow": {
     "slide_type": "subslide"
    }
   },
   "outputs": [
    {
     "data": {
      "image/svg+xml": [
       "<?xml version=\"1.0\" encoding=\"UTF-8\" standalone=\"no\"?>\n",
       "<svg width=\"294.217mm\" height=\"177.094mm\"\n",
       " viewBox=\"0 0 834 502\"\n",
       " xmlns=\"http://www.w3.org/2000/svg\" xmlns:xlink=\"http://www.w3.org/1999/xlink\"  version=\"1.2\" baseProfile=\"tiny\">\n",
       "<title>Qt SVG Document</title>\n",
       "<desc>MATLAB, The MathWorks, Inc. Version 25.1.0.2833191 R2025a Prerelease Update 2</desc>\n",
       "<defs>\n",
       "</defs>\n",
       "<g fill=\"none\" stroke=\"black\" stroke-width=\"1\" fill-rule=\"evenodd\" stroke-linecap=\"square\" stroke-linejoin=\"bevel\" >\n",
       "\n",
       "<g fill=\"#ffffff\" fill-opacity=\"1\" stroke=\"none\" transform=\"matrix(0.49985,0,0,0.499751,0,0)\"\n",
       "font-family=\".AppleSystemUIFont\" font-size=\"13\" font-weight=\"400\" font-style=\"normal\" \n",
       ">\n",
       "<path vector-effect=\"none\" fill-rule=\"evenodd\" d=\"M0,0 L1668,0 L1668,1005 L0,1005 L0,0\"/>\n",
       "</g>\n",
       "\n",
       "<g fill=\"#ffffff\" fill-opacity=\"1\" stroke=\"none\" transform=\"matrix(4.9985e-05,0,0,4.99751e-05,0,0)\"\n",
       "font-family=\".AppleSystemUIFont\" font-size=\"13\" font-weight=\"400\" font-style=\"normal\" \n",
       ">\n",
       "<path vector-effect=\"none\" fill-rule=\"evenodd\" d=\"M2.17e+06,750000 L2.17e+06,8.93e+06 L1.508e+07,8.93e+06 L1.508e+07,750000 L2.17e+06,750000\"/>\n",
       "</g>\n",
       "\n",
       "<g fill=\"#212121\" fill-opacity=\"1\" stroke=\"#212121\" stroke-opacity=\"1\" stroke-width=\"1\" stroke-linecap=\"butt\" stroke-linejoin=\"round\" transform=\"matrix(0.49985,0,0,0.499751,0,0)\"\n",
       "font-family=\".AppleSystemUIFont\" font-size=\"13\" font-weight=\"400\" font-style=\"normal\" \n",
       ">\n",
       "<polyline fill=\"none\" vector-effect=\"none\" points=\"217,893 217,75 \" />\n",
       "<polyline fill=\"none\" vector-effect=\"none\" points=\"1508,893 1508,75 \" />\n",
       "<polyline fill=\"none\" vector-effect=\"none\" points=\"217,893 229.91,893 \" />\n",
       "<polyline fill=\"none\" vector-effect=\"none\" points=\"1495.09,893 1508,893 \" />\n",
       "<polyline fill=\"none\" vector-effect=\"none\" points=\"217,776.143 229.91,776.143 \" />\n",
       "<polyline fill=\"none\" vector-effect=\"none\" points=\"1495.09,776.143 1508,776.143 \" />\n",
       "<polyline fill=\"none\" vector-effect=\"none\" points=\"217,659.286 229.91,659.286 \" />\n",
       "<polyline fill=\"none\" vector-effect=\"none\" points=\"1495.09,659.286 1508,659.286 \" />\n",
       "<polyline fill=\"none\" vector-effect=\"none\" points=\"217,542.429 229.91,542.429 \" />\n",
       "<polyline fill=\"none\" vector-effect=\"none\" points=\"1495.09,542.429 1508,542.429 \" />\n",
       "<polyline fill=\"none\" vector-effect=\"none\" points=\"217,425.571 229.91,425.571 \" />\n",
       "<polyline fill=\"none\" vector-effect=\"none\" points=\"1495.09,425.571 1508,425.571 \" />\n",
       "<polyline fill=\"none\" vector-effect=\"none\" points=\"217,308.714 229.91,308.714 \" />\n",
       "<polyline fill=\"none\" vector-effect=\"none\" points=\"1495.09,308.714 1508,308.714 \" />\n",
       "<polyline fill=\"none\" vector-effect=\"none\" points=\"217,191.857 229.91,191.857 \" />\n",
       "<polyline fill=\"none\" vector-effect=\"none\" points=\"1495.09,191.857 1508,191.857 \" />\n",
       "<polyline fill=\"none\" vector-effect=\"none\" points=\"217,75 229.91,75 \" />\n",
       "<polyline fill=\"none\" vector-effect=\"none\" points=\"1495.09,75 1508,75 \" />\n",
       "</g>\n",
       "\n",
       "<g fill=\"#212121\" fill-opacity=\"1\" stroke=\"#212121\" stroke-opacity=\"1\" stroke-width=\"1\" stroke-linecap=\"square\" stroke-linejoin=\"bevel\" transform=\"matrix(0.49985,0,0,0.499751,81.4755,448.776)\"\n",
       "font-family=\"Helvetica\" font-size=\"20\" font-weight=\"400\" font-style=\"normal\" \n",
       ">\n",
       "<text fill=\"#212121\" fill-opacity=\"1\" stroke=\"none\" xml:space=\"preserve\" x=\"0\" y=\"0.390625\" font-family=\"Helvetica\" font-size=\"20\" font-weight=\"400\" font-style=\"normal\" \n",
       " >-0.04</text>\n",
       "</g>\n",
       "\n",
       "<g fill=\"#212121\" fill-opacity=\"1\" stroke=\"#212121\" stroke-opacity=\"1\" stroke-width=\"1\" stroke-linecap=\"square\" stroke-linejoin=\"bevel\" transform=\"matrix(0.49985,0,0,0.499751,81.4755,390.377)\"\n",
       "font-family=\"Helvetica\" font-size=\"20\" font-weight=\"400\" font-style=\"normal\" \n",
       ">\n",
       "<text fill=\"#212121\" fill-opacity=\"1\" stroke=\"none\" xml:space=\"preserve\" x=\"0\" y=\"0.390625\" font-family=\"Helvetica\" font-size=\"20\" font-weight=\"400\" font-style=\"normal\" \n",
       " >-0.02</text>\n",
       "</g>\n",
       "\n",
       "<g fill=\"#212121\" fill-opacity=\"1\" stroke=\"#212121\" stroke-opacity=\"1\" stroke-width=\"1\" stroke-linecap=\"square\" stroke-linejoin=\"bevel\" transform=\"matrix(0.49985,0,0,0.499751,98.9703,331.977)\"\n",
       "font-family=\"Helvetica\" font-size=\"20\" font-weight=\"400\" font-style=\"normal\" \n",
       ">\n",
       "<text fill=\"#212121\" fill-opacity=\"1\" stroke=\"none\" xml:space=\"preserve\" x=\"0\" y=\"0.390625\" font-family=\"Helvetica\" font-size=\"20\" font-weight=\"400\" font-style=\"normal\" \n",
       " >0</text>\n",
       "</g>\n",
       "\n",
       "<g fill=\"#212121\" fill-opacity=\"1\" stroke=\"#212121\" stroke-opacity=\"1\" stroke-width=\"1\" stroke-linecap=\"square\" stroke-linejoin=\"bevel\" transform=\"matrix(0.49985,0,0,0.499751,84.9745,273.578)\"\n",
       "font-family=\"Helvetica\" font-size=\"20\" font-weight=\"400\" font-style=\"normal\" \n",
       ">\n",
       "<text fill=\"#212121\" fill-opacity=\"1\" stroke=\"none\" xml:space=\"preserve\" x=\"0\" y=\"0.390625\" font-family=\"Helvetica\" font-size=\"20\" font-weight=\"400\" font-style=\"normal\" \n",
       " >0.02</text>\n",
       "</g>\n",
       "\n",
       "<g fill=\"#212121\" fill-opacity=\"1\" stroke=\"#212121\" stroke-opacity=\"1\" stroke-width=\"1\" stroke-linecap=\"square\" stroke-linejoin=\"bevel\" transform=\"matrix(0.49985,0,0,0.499751,84.9745,215.179)\"\n",
       "font-family=\"Helvetica\" font-size=\"20\" font-weight=\"400\" font-style=\"normal\" \n",
       ">\n",
       "<text fill=\"#212121\" fill-opacity=\"1\" stroke=\"none\" xml:space=\"preserve\" x=\"0\" y=\"0.390625\" font-family=\"Helvetica\" font-size=\"20\" font-weight=\"400\" font-style=\"normal\" \n",
       " >0.04</text>\n",
       "</g>\n",
       "\n",
       "<g fill=\"#212121\" fill-opacity=\"1\" stroke=\"#212121\" stroke-opacity=\"1\" stroke-width=\"1\" stroke-linecap=\"square\" stroke-linejoin=\"bevel\" transform=\"matrix(0.49985,0,0,0.499751,84.9745,156.779)\"\n",
       "font-family=\"Helvetica\" font-size=\"20\" font-weight=\"400\" font-style=\"normal\" \n",
       ">\n",
       "<text fill=\"#212121\" fill-opacity=\"1\" stroke=\"none\" xml:space=\"preserve\" x=\"0\" y=\"0.390625\" font-family=\"Helvetica\" font-size=\"20\" font-weight=\"400\" font-style=\"normal\" \n",
       " >0.06</text>\n",
       "</g>\n",
       "\n",
       "<g fill=\"#212121\" fill-opacity=\"1\" stroke=\"#212121\" stroke-opacity=\"1\" stroke-width=\"1\" stroke-linecap=\"square\" stroke-linejoin=\"bevel\" transform=\"matrix(0.49985,0,0,0.499751,84.9745,98.3796)\"\n",
       "font-family=\"Helvetica\" font-size=\"20\" font-weight=\"400\" font-style=\"normal\" \n",
       ">\n",
       "<text fill=\"#212121\" fill-opacity=\"1\" stroke=\"none\" xml:space=\"preserve\" x=\"0\" y=\"0.390625\" font-family=\"Helvetica\" font-size=\"20\" font-weight=\"400\" font-style=\"normal\" \n",
       " >0.08</text>\n",
       "</g>\n",
       "\n",
       "<g fill=\"#212121\" fill-opacity=\"1\" stroke=\"#212121\" stroke-opacity=\"1\" stroke-width=\"1\" stroke-linecap=\"square\" stroke-linejoin=\"bevel\" transform=\"matrix(0.49985,0,0,0.499751,90.4728,39.9801)\"\n",
       "font-family=\"Helvetica\" font-size=\"20\" font-weight=\"400\" font-style=\"normal\" \n",
       ">\n",
       "<text fill=\"#212121\" fill-opacity=\"1\" stroke=\"none\" xml:space=\"preserve\" x=\"0\" y=\"0.390625\" font-family=\"Helvetica\" font-size=\"20\" font-weight=\"400\" font-style=\"normal\" \n",
       " >0.1</text>\n",
       "</g>\n",
       "\n",
       "<g fill=\"#212121\" fill-opacity=\"1\" stroke=\"#212121\" stroke-opacity=\"1\" stroke-width=\"1\" stroke-linecap=\"square\" stroke-linejoin=\"bevel\" transform=\"matrix(0.49985,0,0,0.499751,345.647,33.6082)\"\n",
       "font-family=\"Helvetica\" font-size=\"22\" font-weight=\"700\" font-style=\"normal\" \n",
       ">\n",
       "<text fill=\"#212121\" fill-opacity=\"1\" stroke=\"none\" xml:space=\"preserve\" x=\"0\" y=\"-0.0625\" font-family=\"Helvetica\" font-size=\"22\" font-weight=\"700\" font-style=\"normal\" \n",
       " >Line Spectra for pulse with w=10</text>\n",
       "</g>\n",
       "\n",
       "<g fill=\"#212121\" fill-opacity=\"1\" stroke=\"#212121\" stroke-opacity=\"1\" stroke-width=\"1\" stroke-linecap=\"butt\" stroke-linejoin=\"round\" transform=\"matrix(0.49985,0,0,0.499751,0,0)\"\n",
       "font-family=\"Helvetica\" font-size=\"22\" font-weight=\"700\" font-style=\"normal\" \n",
       ">\n",
       "<polyline fill=\"none\" vector-effect=\"none\" points=\"217,659.286 1508,659.286 \" />\n",
       "</g>\n",
       "\n",
       "<g fill=\"#1171be\" fill-opacity=\"1\" stroke=\"#1171be\" stroke-opacity=\"1\" stroke-width=\"1\" stroke-linecap=\"butt\" stroke-linejoin=\"round\" transform=\"matrix(0.49985,0,0,0.499751,0,0)\"\n",
       "font-family=\"Helvetica\" font-size=\"22\" font-weight=\"700\" font-style=\"normal\" \n",
       ">\n",
       "<polyline fill=\"none\" vector-effect=\"none\" points=\"248.681,659.286 248.681,783.275 \" />\n",
       "<polyline fill=\"none\" vector-effect=\"none\" points=\"289.602,659.286 289.602,785.629 \" />\n",
       "<polyline fill=\"none\" vector-effect=\"none\" points=\"330.524,659.286 330.524,775.027 \" />\n",
       "<polyline fill=\"none\" vector-effect=\"none\" points=\"371.445,659.286 371.445,750.385 \" />\n",
       "<polyline fill=\"none\" vector-effect=\"none\" points=\"412.366,659.286 412.366,711.533 \" />\n",
       "<polyline fill=\"none\" vector-effect=\"none\" points=\"494.209,659.286 494.209,595.428 \" />\n",
       "<polyline fill=\"none\" vector-effect=\"none\" points=\"535.13,659.286 535.13,522.637 \" />\n",
       "<polyline fill=\"none\" vector-effect=\"none\" points=\"576.051,659.286 576.051,444.337 \" />\n",
       "<polyline fill=\"none\" vector-effect=\"none\" points=\"616.972,659.286 616.972,364.484 \" />\n",
       "<polyline fill=\"none\" vector-effect=\"none\" points=\"657.894,659.286 657.894,287.318 \" />\n",
       "<polyline fill=\"none\" vector-effect=\"none\" points=\"698.815,659.286 698.815,217.083 \" />\n",
       "<polyline fill=\"none\" vector-effect=\"none\" points=\"739.736,659.286 739.736,157.739 \" />\n",
       "<polyline fill=\"none\" vector-effect=\"none\" points=\"780.657,659.286 780.657,112.693 \" />\n",
       "<polyline fill=\"none\" vector-effect=\"none\" points=\"821.579,659.286 821.579,84.5638 \" />\n",
       "<polyline fill=\"none\" vector-effect=\"none\" points=\"862.5,659.286 862.5,75 \" />\n",
       "<polyline fill=\"none\" vector-effect=\"none\" points=\"903.421,659.286 903.421,84.5638 \" />\n",
       "<polyline fill=\"none\" vector-effect=\"none\" points=\"944.343,659.286 944.343,112.693 \" />\n",
       "<polyline fill=\"none\" vector-effect=\"none\" points=\"985.264,659.286 985.264,157.739 \" />\n",
       "<polyline fill=\"none\" vector-effect=\"none\" points=\"1026.19,659.286 1026.19,217.083 \" />\n",
       "<polyline fill=\"none\" vector-effect=\"none\" points=\"1067.11,659.286 1067.11,287.318 \" />\n",
       "<polyline fill=\"none\" vector-effect=\"none\" points=\"1108.03,659.286 1108.03,364.484 \" />\n",
       "<polyline fill=\"none\" vector-effect=\"none\" points=\"1148.95,659.286 1148.95,444.337 \" />\n",
       "<polyline fill=\"none\" vector-effect=\"none\" points=\"1189.87,659.286 1189.87,522.637 \" />\n",
       "<polyline fill=\"none\" vector-effect=\"none\" points=\"1230.79,659.286 1230.79,595.428 \" />\n",
       "<polyline fill=\"none\" vector-effect=\"none\" points=\"1312.63,659.286 1312.63,711.533 \" />\n",
       "<polyline fill=\"none\" vector-effect=\"none\" points=\"1353.56,659.286 1353.56,750.385 \" />\n",
       "<polyline fill=\"none\" vector-effect=\"none\" points=\"1394.48,659.286 1394.48,775.027 \" />\n",
       "<polyline fill=\"none\" vector-effect=\"none\" points=\"1435.4,659.286 1435.4,785.629 \" />\n",
       "<polyline fill=\"none\" vector-effect=\"none\" points=\"1476.32,659.286 1476.32,783.275 \" />\n",
       "</g>\n",
       "\n",
       "<g fill=\"none\" stroke=\"#1171be\" stroke-opacity=\"1\" stroke-width=\"1\" stroke-linecap=\"butt\" stroke-linejoin=\"miter\" stroke-miterlimit=\"2\" transform=\"matrix(0.49985,0,0,0.499751,0,0)\"\n",
       "font-family=\"Helvetica\" font-size=\"22\" font-weight=\"700\" font-style=\"normal\" \n",
       ">\n",
       "<path vector-effect=\"none\" fill-rule=\"evenodd\" d=\"M254.681,783.275 C254.681,779.961 251.995,777.275 248.681,777.275 C245.367,777.275 242.681,779.961 242.681,783.275 C242.681,786.589 245.367,789.275 248.681,789.275 C251.995,789.275 254.681,786.589 254.681,783.275 \"/>\n",
       "</g>\n",
       "\n",
       "<g fill=\"none\" stroke=\"#1171be\" stroke-opacity=\"1\" stroke-width=\"1\" stroke-linecap=\"butt\" stroke-linejoin=\"miter\" stroke-miterlimit=\"2\" transform=\"matrix(0.49985,0,0,0.499751,0,0)\"\n",
       "font-family=\"Helvetica\" font-size=\"22\" font-weight=\"700\" font-style=\"normal\" \n",
       ">\n",
       "<path vector-effect=\"none\" fill-rule=\"evenodd\" d=\"M295.602,785.629 C295.602,782.316 292.916,779.629 289.602,779.629 C286.289,779.629 283.602,782.316 283.602,785.629 C283.602,788.943 286.289,791.629 289.602,791.629 C292.916,791.629 295.602,788.943 295.602,785.629 \"/>\n",
       "</g>\n",
       "\n",
       "<g fill=\"none\" stroke=\"#1171be\" stroke-opacity=\"1\" stroke-width=\"1\" stroke-linecap=\"butt\" stroke-linejoin=\"miter\" stroke-miterlimit=\"2\" transform=\"matrix(0.49985,0,0,0.499751,0,0)\"\n",
       "font-family=\"Helvetica\" font-size=\"22\" font-weight=\"700\" font-style=\"normal\" \n",
       ">\n",
       "<path vector-effect=\"none\" fill-rule=\"evenodd\" d=\"M336.524,775.027 C336.524,771.714 333.837,769.027 330.524,769.027 C327.21,769.027 324.524,771.714 324.524,775.027 C324.524,778.341 327.21,781.027 330.524,781.027 C333.837,781.027 336.524,778.341 336.524,775.027 \"/>\n",
       "</g>\n",
       "\n",
       "<g fill=\"none\" stroke=\"#1171be\" stroke-opacity=\"1\" stroke-width=\"1\" stroke-linecap=\"butt\" stroke-linejoin=\"miter\" stroke-miterlimit=\"2\" transform=\"matrix(0.49985,0,0,0.499751,0,0)\"\n",
       "font-family=\"Helvetica\" font-size=\"22\" font-weight=\"700\" font-style=\"normal\" \n",
       ">\n",
       "<path vector-effect=\"none\" fill-rule=\"evenodd\" d=\"M377.445,750.385 C377.445,747.071 374.759,744.385 371.445,744.385 C368.131,744.385 365.445,747.071 365.445,750.385 C365.445,753.698 368.131,756.385 371.445,756.385 C374.759,756.385 377.445,753.698 377.445,750.385 \"/>\n",
       "</g>\n",
       "\n",
       "<g fill=\"none\" stroke=\"#1171be\" stroke-opacity=\"1\" stroke-width=\"1\" stroke-linecap=\"butt\" stroke-linejoin=\"miter\" stroke-miterlimit=\"2\" transform=\"matrix(0.49985,0,0,0.499751,0,0)\"\n",
       "font-family=\"Helvetica\" font-size=\"22\" font-weight=\"700\" font-style=\"normal\" \n",
       ">\n",
       "<path vector-effect=\"none\" fill-rule=\"evenodd\" d=\"M418.366,711.533 C418.366,708.219 415.68,705.533 412.366,705.533 C409.052,705.533 406.366,708.219 406.366,711.533 C406.366,714.847 409.052,717.533 412.366,717.533 C415.68,717.533 418.366,714.847 418.366,711.533 \"/>\n",
       "</g>\n",
       "\n",
       "<g fill=\"none\" stroke=\"#1171be\" stroke-opacity=\"1\" stroke-width=\"1\" stroke-linecap=\"butt\" stroke-linejoin=\"miter\" stroke-miterlimit=\"2\" transform=\"matrix(0.49985,0,0,0.499751,0,0)\"\n",
       "font-family=\"Helvetica\" font-size=\"22\" font-weight=\"700\" font-style=\"normal\" \n",
       ">\n",
       "<path vector-effect=\"none\" fill-rule=\"evenodd\" d=\"M459.287,659.286 C459.287,655.972 456.601,653.286 453.287,653.286 C449.974,653.286 447.287,655.972 447.287,659.286 C447.287,662.599 449.974,665.286 453.287,665.286 C456.601,665.286 459.287,662.599 459.287,659.286 \"/>\n",
       "</g>\n",
       "\n",
       "<g fill=\"none\" stroke=\"#1171be\" stroke-opacity=\"1\" stroke-width=\"1\" stroke-linecap=\"butt\" stroke-linejoin=\"miter\" stroke-miterlimit=\"2\" transform=\"matrix(0.49985,0,0,0.499751,0,0)\"\n",
       "font-family=\"Helvetica\" font-size=\"22\" font-weight=\"700\" font-style=\"normal\" \n",
       ">\n",
       "<path vector-effect=\"none\" fill-rule=\"evenodd\" d=\"M500.209,595.428 C500.209,592.114 497.522,589.428 494.209,589.428 C490.895,589.428 488.209,592.114 488.209,595.428 C488.209,598.741 490.895,601.428 494.209,601.428 C497.522,601.428 500.209,598.741 500.209,595.428 \"/>\n",
       "</g>\n",
       "\n",
       "<g fill=\"none\" stroke=\"#1171be\" stroke-opacity=\"1\" stroke-width=\"1\" stroke-linecap=\"butt\" stroke-linejoin=\"miter\" stroke-miterlimit=\"2\" transform=\"matrix(0.49985,0,0,0.499751,0,0)\"\n",
       "font-family=\"Helvetica\" font-size=\"22\" font-weight=\"700\" font-style=\"normal\" \n",
       ">\n",
       "<path vector-effect=\"none\" fill-rule=\"evenodd\" d=\"M541.13,522.637 C541.13,519.324 538.444,516.637 535.13,516.637 C531.816,516.637 529.13,519.324 529.13,522.637 C529.13,525.951 531.816,528.637 535.13,528.637 C538.444,528.637 541.13,525.951 541.13,522.637 \"/>\n",
       "</g>\n",
       "\n",
       "<g fill=\"none\" stroke=\"#1171be\" stroke-opacity=\"1\" stroke-width=\"1\" stroke-linecap=\"butt\" stroke-linejoin=\"miter\" stroke-miterlimit=\"2\" transform=\"matrix(0.49985,0,0,0.499751,0,0)\"\n",
       "font-family=\"Helvetica\" font-size=\"22\" font-weight=\"700\" font-style=\"normal\" \n",
       ">\n",
       "<path vector-effect=\"none\" fill-rule=\"evenodd\" d=\"M582.051,444.337 C582.051,441.023 579.365,438.337 576.051,438.337 C572.737,438.337 570.051,441.023 570.051,444.337 C570.051,447.651 572.737,450.337 576.051,450.337 C579.365,450.337 582.051,447.651 582.051,444.337 \"/>\n",
       "</g>\n",
       "\n",
       "<g fill=\"none\" stroke=\"#1171be\" stroke-opacity=\"1\" stroke-width=\"1\" stroke-linecap=\"butt\" stroke-linejoin=\"miter\" stroke-miterlimit=\"2\" transform=\"matrix(0.49985,0,0,0.499751,0,0)\"\n",
       "font-family=\"Helvetica\" font-size=\"22\" font-weight=\"700\" font-style=\"normal\" \n",
       ">\n",
       "<path vector-effect=\"none\" fill-rule=\"evenodd\" d=\"M622.972,364.484 C622.972,361.17 620.286,358.484 616.972,358.484 C613.659,358.484 610.972,361.17 610.972,364.484 C610.972,367.797 613.659,370.484 616.972,370.484 C620.286,370.484 622.972,367.797 622.972,364.484 \"/>\n",
       "</g>\n",
       "\n",
       "<g fill=\"none\" stroke=\"#1171be\" stroke-opacity=\"1\" stroke-width=\"1\" stroke-linecap=\"butt\" stroke-linejoin=\"miter\" stroke-miterlimit=\"2\" transform=\"matrix(0.49985,0,0,0.499751,0,0)\"\n",
       "font-family=\"Helvetica\" font-size=\"22\" font-weight=\"700\" font-style=\"normal\" \n",
       ">\n",
       "<path vector-effect=\"none\" fill-rule=\"evenodd\" d=\"M663.894,287.318 C663.894,284.004 661.207,281.318 657.894,281.318 C654.58,281.318 651.894,284.004 651.894,287.318 C651.894,290.632 654.58,293.318 657.894,293.318 C661.207,293.318 663.894,290.632 663.894,287.318 \"/>\n",
       "</g>\n",
       "\n",
       "<g fill=\"none\" stroke=\"#1171be\" stroke-opacity=\"1\" stroke-width=\"1\" stroke-linecap=\"butt\" stroke-linejoin=\"miter\" stroke-miterlimit=\"2\" transform=\"matrix(0.49985,0,0,0.499751,0,0)\"\n",
       "font-family=\"Helvetica\" font-size=\"22\" font-weight=\"700\" font-style=\"normal\" \n",
       ">\n",
       "<path vector-effect=\"none\" fill-rule=\"evenodd\" d=\"M704.815,217.083 C704.815,213.769 702.129,211.083 698.815,211.083 C695.501,211.083 692.815,213.769 692.815,217.083 C692.815,220.396 695.501,223.083 698.815,223.083 C702.129,223.083 704.815,220.396 704.815,217.083 \"/>\n",
       "</g>\n",
       "\n",
       "<g fill=\"none\" stroke=\"#1171be\" stroke-opacity=\"1\" stroke-width=\"1\" stroke-linecap=\"butt\" stroke-linejoin=\"miter\" stroke-miterlimit=\"2\" transform=\"matrix(0.49985,0,0,0.499751,0,0)\"\n",
       "font-family=\"Helvetica\" font-size=\"22\" font-weight=\"700\" font-style=\"normal\" \n",
       ">\n",
       "<path vector-effect=\"none\" fill-rule=\"evenodd\" d=\"M745.736,157.739 C745.736,154.425 743.05,151.739 739.736,151.739 C736.422,151.739 733.736,154.425 733.736,157.739 C733.736,161.052 736.422,163.739 739.736,163.739 C743.05,163.739 745.736,161.052 745.736,157.739 \"/>\n",
       "</g>\n",
       "\n",
       "<g fill=\"none\" stroke=\"#1171be\" stroke-opacity=\"1\" stroke-width=\"1\" stroke-linecap=\"butt\" stroke-linejoin=\"miter\" stroke-miterlimit=\"2\" transform=\"matrix(0.49985,0,0,0.499751,0,0)\"\n",
       "font-family=\"Helvetica\" font-size=\"22\" font-weight=\"700\" font-style=\"normal\" \n",
       ">\n",
       "<path vector-effect=\"none\" fill-rule=\"evenodd\" d=\"M786.657,112.693 C786.657,109.379 783.971,106.693 780.657,106.693 C777.344,106.693 774.657,109.379 774.657,112.693 C774.657,116.006 777.344,118.693 780.657,118.693 C783.971,118.693 786.657,116.006 786.657,112.693 \"/>\n",
       "</g>\n",
       "\n",
       "<g fill=\"none\" stroke=\"#1171be\" stroke-opacity=\"1\" stroke-width=\"1\" stroke-linecap=\"butt\" stroke-linejoin=\"miter\" stroke-miterlimit=\"2\" transform=\"matrix(0.49985,0,0,0.499751,0,0)\"\n",
       "font-family=\"Helvetica\" font-size=\"22\" font-weight=\"700\" font-style=\"normal\" \n",
       ">\n",
       "<path vector-effect=\"none\" fill-rule=\"evenodd\" d=\"M827.579,84.5638 C827.579,81.2501 824.892,78.5638 821.579,78.5638 C818.265,78.5638 815.579,81.2501 815.579,84.5638 C815.579,87.8775 818.265,90.5638 821.579,90.5638 C824.892,90.5638 827.579,87.8775 827.579,84.5638 \"/>\n",
       "</g>\n",
       "\n",
       "<g fill=\"none\" stroke=\"#1171be\" stroke-opacity=\"1\" stroke-width=\"1\" stroke-linecap=\"butt\" stroke-linejoin=\"miter\" stroke-miterlimit=\"2\" transform=\"matrix(0.49985,0,0,0.499751,0,0)\"\n",
       "font-family=\"Helvetica\" font-size=\"22\" font-weight=\"700\" font-style=\"normal\" \n",
       ">\n",
       "<path vector-effect=\"none\" fill-rule=\"evenodd\" d=\"M868.5,75 C868.5,71.6863 865.814,69 862.5,69 C859.186,69 856.5,71.6863 856.5,75 C856.5,78.3137 859.186,81 862.5,81 C865.814,81 868.5,78.3137 868.5,75 \"/>\n",
       "</g>\n",
       "\n",
       "<g fill=\"none\" stroke=\"#1171be\" stroke-opacity=\"1\" stroke-width=\"1\" stroke-linecap=\"butt\" stroke-linejoin=\"miter\" stroke-miterlimit=\"2\" transform=\"matrix(0.49985,0,0,0.499751,0,0)\"\n",
       "font-family=\"Helvetica\" font-size=\"22\" font-weight=\"700\" font-style=\"normal\" \n",
       ">\n",
       "<path vector-effect=\"none\" fill-rule=\"evenodd\" d=\"M909.421,84.5638 C909.421,81.2501 906.735,78.5638 903.421,78.5638 C900.108,78.5638 897.421,81.2501 897.421,84.5638 C897.421,87.8775 900.108,90.5638 903.421,90.5638 C906.735,90.5638 909.421,87.8775 909.421,84.5638 \"/>\n",
       "</g>\n",
       "\n",
       "<g fill=\"none\" stroke=\"#1171be\" stroke-opacity=\"1\" stroke-width=\"1\" stroke-linecap=\"butt\" stroke-linejoin=\"miter\" stroke-miterlimit=\"2\" transform=\"matrix(0.49985,0,0,0.499751,0,0)\"\n",
       "font-family=\"Helvetica\" font-size=\"22\" font-weight=\"700\" font-style=\"normal\" \n",
       ">\n",
       "<path vector-effect=\"none\" fill-rule=\"evenodd\" d=\"M950.343,112.693 C950.343,109.379 947.656,106.693 944.343,106.693 C941.029,106.693 938.343,109.379 938.343,112.693 C938.343,116.006 941.029,118.693 944.343,118.693 C947.656,118.693 950.343,116.006 950.343,112.693 \"/>\n",
       "</g>\n",
       "\n",
       "<g fill=\"none\" stroke=\"#1171be\" stroke-opacity=\"1\" stroke-width=\"1\" stroke-linecap=\"butt\" stroke-linejoin=\"miter\" stroke-miterlimit=\"2\" transform=\"matrix(0.49985,0,0,0.499751,0,0)\"\n",
       "font-family=\"Helvetica\" font-size=\"22\" font-weight=\"700\" font-style=\"normal\" \n",
       ">\n",
       "<path vector-effect=\"none\" fill-rule=\"evenodd\" d=\"M991.264,157.739 C991.264,154.425 988.578,151.739 985.264,151.739 C981.95,151.739 979.264,154.425 979.264,157.739 C979.264,161.052 981.95,163.739 985.264,163.739 C988.578,163.739 991.264,161.052 991.264,157.739 \"/>\n",
       "</g>\n",
       "\n",
       "<g fill=\"none\" stroke=\"#1171be\" stroke-opacity=\"1\" stroke-width=\"1\" stroke-linecap=\"butt\" stroke-linejoin=\"miter\" stroke-miterlimit=\"2\" transform=\"matrix(0.49985,0,0,0.499751,0,0)\"\n",
       "font-family=\"Helvetica\" font-size=\"22\" font-weight=\"700\" font-style=\"normal\" \n",
       ">\n",
       "<path vector-effect=\"none\" fill-rule=\"evenodd\" d=\"M1032.19,217.083 C1032.19,213.769 1029.5,211.083 1026.19,211.083 C1022.87,211.083 1020.19,213.769 1020.19,217.083 C1020.19,220.396 1022.87,223.083 1026.19,223.083 C1029.5,223.083 1032.19,220.396 1032.19,217.083 \"/>\n",
       "</g>\n",
       "\n",
       "<g fill=\"none\" stroke=\"#1171be\" stroke-opacity=\"1\" stroke-width=\"1\" stroke-linecap=\"butt\" stroke-linejoin=\"miter\" stroke-miterlimit=\"2\" transform=\"matrix(0.49985,0,0,0.499751,0,0)\"\n",
       "font-family=\"Helvetica\" font-size=\"22\" font-weight=\"700\" font-style=\"normal\" \n",
       ">\n",
       "<path vector-effect=\"none\" fill-rule=\"evenodd\" d=\"M1073.11,287.318 C1073.11,284.004 1070.42,281.318 1067.11,281.318 C1063.79,281.318 1061.11,284.004 1061.11,287.318 C1061.11,290.632 1063.79,293.318 1067.11,293.318 C1070.42,293.318 1073.11,290.632 1073.11,287.318 \"/>\n",
       "</g>\n",
       "\n",
       "<g fill=\"none\" stroke=\"#1171be\" stroke-opacity=\"1\" stroke-width=\"1\" stroke-linecap=\"butt\" stroke-linejoin=\"miter\" stroke-miterlimit=\"2\" transform=\"matrix(0.49985,0,0,0.499751,0,0)\"\n",
       "font-family=\"Helvetica\" font-size=\"22\" font-weight=\"700\" font-style=\"normal\" \n",
       ">\n",
       "<path vector-effect=\"none\" fill-rule=\"evenodd\" d=\"M1114.03,364.484 C1114.03,361.17 1111.34,358.484 1108.03,358.484 C1104.71,358.484 1102.03,361.17 1102.03,364.484 C1102.03,367.797 1104.71,370.484 1108.03,370.484 C1111.34,370.484 1114.03,367.797 1114.03,364.484 \"/>\n",
       "</g>\n",
       "\n",
       "<g fill=\"none\" stroke=\"#1171be\" stroke-opacity=\"1\" stroke-width=\"1\" stroke-linecap=\"butt\" stroke-linejoin=\"miter\" stroke-miterlimit=\"2\" transform=\"matrix(0.49985,0,0,0.499751,0,0)\"\n",
       "font-family=\"Helvetica\" font-size=\"22\" font-weight=\"700\" font-style=\"normal\" \n",
       ">\n",
       "<path vector-effect=\"none\" fill-rule=\"evenodd\" d=\"M1154.95,444.337 C1154.95,441.023 1152.26,438.337 1148.95,438.337 C1145.64,438.337 1142.95,441.023 1142.95,444.337 C1142.95,447.651 1145.64,450.337 1148.95,450.337 C1152.26,450.337 1154.95,447.651 1154.95,444.337 \"/>\n",
       "</g>\n",
       "\n",
       "<g fill=\"none\" stroke=\"#1171be\" stroke-opacity=\"1\" stroke-width=\"1\" stroke-linecap=\"butt\" stroke-linejoin=\"miter\" stroke-miterlimit=\"2\" transform=\"matrix(0.49985,0,0,0.499751,0,0)\"\n",
       "font-family=\"Helvetica\" font-size=\"22\" font-weight=\"700\" font-style=\"normal\" \n",
       ">\n",
       "<path vector-effect=\"none\" fill-rule=\"evenodd\" d=\"M1195.87,522.637 C1195.87,519.324 1193.18,516.637 1189.87,516.637 C1186.56,516.637 1183.87,519.324 1183.87,522.637 C1183.87,525.951 1186.56,528.637 1189.87,528.637 C1193.18,528.637 1195.87,525.951 1195.87,522.637 \"/>\n",
       "</g>\n",
       "\n",
       "<g fill=\"none\" stroke=\"#1171be\" stroke-opacity=\"1\" stroke-width=\"1\" stroke-linecap=\"butt\" stroke-linejoin=\"miter\" stroke-miterlimit=\"2\" transform=\"matrix(0.49985,0,0,0.499751,0,0)\"\n",
       "font-family=\"Helvetica\" font-size=\"22\" font-weight=\"700\" font-style=\"normal\" \n",
       ">\n",
       "<path vector-effect=\"none\" fill-rule=\"evenodd\" d=\"M1236.79,595.428 C1236.79,592.114 1234.11,589.428 1230.79,589.428 C1227.48,589.428 1224.79,592.114 1224.79,595.428 C1224.79,598.741 1227.48,601.428 1230.79,601.428 C1234.11,601.428 1236.79,598.741 1236.79,595.428 \"/>\n",
       "</g>\n",
       "\n",
       "<g fill=\"none\" stroke=\"#1171be\" stroke-opacity=\"1\" stroke-width=\"1\" stroke-linecap=\"butt\" stroke-linejoin=\"miter\" stroke-miterlimit=\"2\" transform=\"matrix(0.49985,0,0,0.499751,0,0)\"\n",
       "font-family=\"Helvetica\" font-size=\"22\" font-weight=\"700\" font-style=\"normal\" \n",
       ">\n",
       "<path vector-effect=\"none\" fill-rule=\"evenodd\" d=\"M1277.71,659.286 C1277.71,655.972 1275.03,653.286 1271.71,653.286 C1268.4,653.286 1265.71,655.972 1265.71,659.286 C1265.71,662.599 1268.4,665.286 1271.71,665.286 C1275.03,665.286 1277.71,662.599 1277.71,659.286 \"/>\n",
       "</g>\n",
       "\n",
       "<g fill=\"none\" stroke=\"#1171be\" stroke-opacity=\"1\" stroke-width=\"1\" stroke-linecap=\"butt\" stroke-linejoin=\"miter\" stroke-miterlimit=\"2\" transform=\"matrix(0.49985,0,0,0.499751,0,0)\"\n",
       "font-family=\"Helvetica\" font-size=\"22\" font-weight=\"700\" font-style=\"normal\" \n",
       ">\n",
       "<path vector-effect=\"none\" fill-rule=\"evenodd\" d=\"M1318.63,711.533 C1318.63,708.219 1315.95,705.533 1312.63,705.533 C1309.32,705.533 1306.63,708.219 1306.63,711.533 C1306.63,714.847 1309.32,717.533 1312.63,717.533 C1315.95,717.533 1318.63,714.847 1318.63,711.533 \"/>\n",
       "</g>\n",
       "\n",
       "<g fill=\"none\" stroke=\"#1171be\" stroke-opacity=\"1\" stroke-width=\"1\" stroke-linecap=\"butt\" stroke-linejoin=\"miter\" stroke-miterlimit=\"2\" transform=\"matrix(0.49985,0,0,0.499751,0,0)\"\n",
       "font-family=\"Helvetica\" font-size=\"22\" font-weight=\"700\" font-style=\"normal\" \n",
       ">\n",
       "<path vector-effect=\"none\" fill-rule=\"evenodd\" d=\"M1359.56,750.385 C1359.56,747.071 1356.87,744.385 1353.56,744.385 C1350.24,744.385 1347.56,747.071 1347.56,750.385 C1347.56,753.698 1350.24,756.385 1353.56,756.385 C1356.87,756.385 1359.56,753.698 1359.56,750.385 \"/>\n",
       "</g>\n",
       "\n",
       "<g fill=\"none\" stroke=\"#1171be\" stroke-opacity=\"1\" stroke-width=\"1\" stroke-linecap=\"butt\" stroke-linejoin=\"miter\" stroke-miterlimit=\"2\" transform=\"matrix(0.49985,0,0,0.499751,0,0)\"\n",
       "font-family=\"Helvetica\" font-size=\"22\" font-weight=\"700\" font-style=\"normal\" \n",
       ">\n",
       "<path vector-effect=\"none\" fill-rule=\"evenodd\" d=\"M1400.48,775.027 C1400.48,771.714 1397.79,769.027 1394.48,769.027 C1391.16,769.027 1388.48,771.714 1388.48,775.027 C1388.48,778.341 1391.16,781.027 1394.48,781.027 C1397.79,781.027 1400.48,778.341 1400.48,775.027 \"/>\n",
       "</g>\n",
       "\n",
       "<g fill=\"none\" stroke=\"#1171be\" stroke-opacity=\"1\" stroke-width=\"1\" stroke-linecap=\"butt\" stroke-linejoin=\"miter\" stroke-miterlimit=\"2\" transform=\"matrix(0.49985,0,0,0.499751,0,0)\"\n",
       "font-family=\"Helvetica\" font-size=\"22\" font-weight=\"700\" font-style=\"normal\" \n",
       ">\n",
       "<path vector-effect=\"none\" fill-rule=\"evenodd\" d=\"M1441.4,785.629 C1441.4,782.316 1438.71,779.629 1435.4,779.629 C1432.08,779.629 1429.4,782.316 1429.4,785.629 C1429.4,788.943 1432.08,791.629 1435.4,791.629 C1438.71,791.629 1441.4,788.943 1441.4,785.629 \"/>\n",
       "</g>\n",
       "\n",
       "<g fill=\"none\" stroke=\"#1171be\" stroke-opacity=\"1\" stroke-width=\"1\" stroke-linecap=\"butt\" stroke-linejoin=\"miter\" stroke-miterlimit=\"2\" transform=\"matrix(0.49985,0,0,0.499751,0,0)\"\n",
       "font-family=\"Helvetica\" font-size=\"22\" font-weight=\"700\" font-style=\"normal\" \n",
       ">\n",
       "<path vector-effect=\"none\" fill-rule=\"evenodd\" d=\"M1482.32,783.275 C1482.32,779.961 1479.63,777.275 1476.32,777.275 C1473.01,777.275 1470.32,779.961 1470.32,783.275 C1470.32,786.589 1473.01,789.275 1476.32,789.275 C1479.63,789.275 1482.32,786.589 1482.32,783.275 \"/>\n",
       "</g>\n",
       "\n",
       "<g fill=\"none\" stroke=\"#ff0000\" stroke-opacity=\"1\" stroke-dasharray=\"1,3\" stroke-dashoffset=\"0\" stroke-width=\"1\" stroke-linecap=\"butt\" stroke-linejoin=\"round\" transform=\"matrix(0.49985,0,0,0.499751,0,0)\"\n",
       "font-family=\"Helvetica\" font-size=\"22\" font-weight=\"700\" font-style=\"normal\" \n",
       ">\n",
       "<polyline fill=\"none\" vector-effect=\"none\" points=\"248.681,783.275 249.91,783.518 251.139,783.751 252.368,783.974 253.596,784.187 254.825,784.389 256.054,784.581 257.283,784.763 258.512,784.934 259.741,785.095 260.97,785.245 262.198,785.385 263.427,785.514 264.656,785.632 265.885,785.739 267.114,785.836 268.343,785.922 269.572,785.996 270.801,786.06 272.029,786.113 273.258,786.154 274.487,786.185 275.716,786.204 276.945,786.212 278.174,786.209 279.403,786.194 280.632,786.168 281.86,786.131 283.089,786.082 284.318,786.021 285.547,785.949 286.776,785.866 288.005,785.771 289.234,785.664 290.462,785.545 291.691,785.415 292.92,785.273 294.149,785.118 295.378,784.953 296.607,784.775 297.836,784.585 299.065,784.383 300.293,784.169 301.522,783.943 302.751,783.705 303.98,783.455 305.209,783.192 306.438,782.918 307.667,782.631 308.895,782.332 310.124,782.02 311.353,781.696 312.582,781.36 313.811,781.012 315.04,780.651 316.269,780.277 317.498,779.891 318.726,779.493 319.955,779.082 321.184,778.658 322.413,778.222 323.642,777.774 324.871,777.312 326.1,776.839 327.328,776.352 328.557,775.853 329.786,775.341 331.015,774.816 332.244,774.279 333.473,773.728 334.702,773.165 335.931,772.59 337.159,772.001 338.388,771.4 339.617,770.786 340.846,770.158 342.075,769.519 343.304,768.866 344.533,768.2 345.761,767.522 346.99,766.83 348.219,766.126 349.448,765.409 350.677,764.679 351.906,763.936 353.135,763.18 354.364,762.411 355.592,761.629 356.821,760.834 358.05,760.027 359.279,759.206 360.508,758.372 361.737,757.526 362.966,756.667 364.194,755.794 365.423,754.909 366.652,754.011 367.881,753.1 369.11,752.176 370.339,751.239 371.568,750.289 372.797,749.326 374.025,748.351 375.254,747.362 376.483,746.361 377.712,745.347 378.941,744.32 380.17,743.28 381.399,742.228 382.627,741.162 383.856,740.084 385.085,738.993 386.314,737.889 387.543,736.773 388.772,735.644 390.001,734.502 391.23,733.348 392.458,732.181 393.687,731.001 394.916,729.809 396.145,728.604 397.374,727.386 398.603,726.156 399.832,724.914 401.06,723.659 402.289,722.391 403.518,721.112 404.747,719.819 405.976,718.515 407.205,717.198 408.434,715.869 409.663,714.527 410.891,713.174 412.12,711.808 413.349,710.43 414.578,709.04 415.807,707.637 417.036,706.223 418.265,704.797 419.493,703.358 420.722,701.908 421.951,700.446 423.18,698.972 424.409,697.486 425.638,695.989 426.867,694.479 428.096,692.958 429.324,691.426 430.553,689.882 431.782,688.326 433.011,686.759 434.24,685.18 435.469,683.59 436.698,681.989 437.926,680.376 439.155,678.752 440.384,677.117 441.613,675.471 442.842,673.813 444.071,672.145 445.3,670.465 446.529,668.775 447.757,667.074 448.986,665.362 450.215,663.639 451.444,661.906 452.673,660.162 453.902,658.407 455.131,656.642 456.359,654.866 457.588,653.08 458.817,651.284 460.046,649.478 461.275,647.661 462.504,645.834 463.733,643.997 464.962,642.15 466.19,640.294 467.419,638.427 468.648,636.55 469.877,634.664 471.106,632.768 472.335,630.863 473.564,628.948 474.792,627.024 476.021,625.09 477.25,623.147 478.479,621.195 479.708,619.234 480.937,617.263 482.166,615.284 483.395,613.296 484.623,611.299 485.852,609.293 487.081,607.279 488.31,605.255 489.539,603.224 490.768,601.184 491.997,599.135 493.225,597.079 494.454,595.014 495.683,592.941 496.912,590.86 498.141,588.772 499.37,586.675 500.599,584.57 501.828,582.458 503.056,580.339 504.285,578.212 505.514,576.077 506.743,573.935 507.972,571.786 509.201,569.63 510.43,567.467 511.659,565.296 512.887,563.119 514.116,560.935 515.345,558.745 516.574,556.548 517.803,554.344 519.032,552.134 520.261,549.918 521.489,547.695 522.718,545.467 523.947,543.232 525.176,540.992 526.405,538.745 527.634,536.493 528.863,534.235 530.091,531.972 531.32,529.704 532.549,527.43 533.778,525.15 535.007,522.866 536.236,520.577 537.465,518.283 538.694,515.984 539.922,513.68 541.151,511.371 542.38,509.059 543.609,506.741 544.838,504.42 546.067,502.094 547.296,499.764 548.524,497.43 549.753,495.092 550.982,492.751 552.211,490.406 553.44,488.057 554.669,485.705 555.898,483.349 557.127,480.99 558.355,478.629 559.584,476.264 560.813,473.896 562.042,471.525 563.271,469.152 564.5,466.776 565.729,464.398 566.958,462.017 568.186,459.634 569.415,457.249 570.644,454.862 571.873,452.473 573.102,450.082 574.331,447.689 575.56,445.295 576.788,442.899 578.017,440.502 579.246,438.104 580.475,435.705 581.704,433.305 582.933,430.903 584.162,428.501 585.391,426.099 586.619,423.695 587.848,421.292 589.077,418.888 590.306,416.483 591.535,414.079 592.764,411.675 593.993,409.271 595.221,406.867 596.45,404.463 597.679,402.06 598.908,399.657 600.137,397.256 601.366,394.855 602.595,392.455 603.823,390.056 605.052,387.658 606.281,385.261 607.51,382.866 608.739,380.473 609.968,378.081 611.197,375.69 612.426,373.302 613.654,370.916 614.883,368.532 616.112,366.15 617.341,363.77 618.57,361.393 619.799,359.018 621.028,356.646 622.257,354.277 623.485,351.911 624.714,349.548 625.943,347.188 627.172,344.831 628.401,342.478 629.63,340.128 630.859,337.782 632.087,335.44 633.316,333.101 634.545,330.766 635.774,328.436 637.003,326.11 638.232,323.788 639.461,321.47 640.69,319.157 641.918,316.849 643.147,314.545 644.376,312.247 645.605,309.953 646.834,307.664 648.063,305.381 649.292,303.103 650.52,300.831 651.749,298.564 652.978,296.303 654.207,294.048 655.436,291.798 656.665,289.555 657.894,287.318 659.123,285.087 660.351,282.862 661.58,280.645 662.809,278.433 664.038,276.228 665.267,274.031 666.496,271.84 667.725,269.656 668.953,267.479 670.182,265.31 671.411,263.148 672.64,260.993 673.869,258.846 675.098,256.707 676.327,254.576 677.556,252.452 678.784,250.337 680.013,248.23 681.242,246.131 682.471,244.04 683.7,241.958 684.929,239.885 686.158,237.82 687.386,235.764 688.615,233.717 689.844,231.678 691.073,229.649 692.302,227.63 693.531,225.619 694.76,223.618 695.989,221.626 697.217,219.645 698.446,217.672 699.675,215.71 700.904,213.758 702.133,211.815 703.362,209.883 704.591,207.961 705.819,206.049 707.048,204.148 708.277,202.257 709.506,200.377 710.735,198.508 711.964,196.649 713.193,194.802 714.422,192.965 715.65,191.14 716.879,189.326 718.108,187.523 719.337,185.731 720.566,183.951 721.795,182.182 723.024,180.426 724.253,178.681 725.481,176.947 726.71,175.226 727.939,173.517 729.168,171.82 730.397,170.135 731.626,168.463 732.855,166.802 734.083,165.155 735.312,163.52 736.541,161.897 737.77,160.287 738.999,158.69 740.228,157.106 741.457,155.535 742.685,153.978 743.914,152.433 745.143,150.901 746.372,149.383 747.601,147.878 748.83,146.387 750.059,144.909 751.288,143.445 752.516,141.994 753.745,140.557 754.974,139.135 756.203,137.726 757.432,136.331 758.661,134.95 759.89,133.583 761.118,132.231 762.347,130.893 763.576,129.569 764.805,128.259 766.034,126.965 767.263,125.684 768.492,124.419 769.721,123.168 770.949,121.932 772.178,120.71 773.407,119.504 774.636,118.312 775.865,117.136 777.094,115.975 778.323,114.828 779.551,113.697 780.78,112.582 782.009,111.481 783.238,110.397 784.467,109.327 785.696,108.273 786.925,107.235 788.154,106.212 789.382,105.205 790.611,104.213 791.84,103.238 793.069,102.278 794.298,101.334 795.527,100.406 796.756,99.494 797.984,98.598 799.213,97.7181 800.442,96.8544 801.671,96.0067 802.9,95.1754 804.129,94.3602 805.358,93.5614 806.587,92.779 807.815,92.0129 809.044,91.2632 810.273,90.53 811.502,89.8133 812.731,89.1132 813.96,88.4296 815.189,87.7627 816.417,87.1124 817.646,86.4788 818.875,85.8619 820.104,85.2618 821.333,84.6784 822.562,84.1119 823.791,83.5623 825.02,83.0295 826.248,82.5136 827.477,82.0146 828.706,81.5326 829.935,81.0676 831.164,80.6196 832.393,80.1887 833.622,79.7748 834.85,79.3779 836.079,78.9983 837.308,78.6356 838.537,78.2902 839.766,77.9619 840.995,77.6507 842.224,77.3568 843.453,77.0801 844.681,76.8206 845.91,76.5784 847.139,76.3533 848.368,76.1456 849.597,75.9551 850.826,75.7819 852.055,75.626 853.284,75.4874 854.512,75.3661 855.741,75.2621 856.97,75.1755 858.199,75.1062 859.428,75.0542 860.657,75.0195 861.886,75.0022 863.114,75.0022 864.343,75.0195 865.572,75.0542 866.801,75.1062 868.03,75.1755 869.259,75.2621 870.488,75.3661 871.716,75.4874 872.945,75.626 874.174,75.7819 875.403,75.9551 876.632,76.1456 877.861,76.3533 879.09,76.5784 880.319,76.8206 881.547,77.0801 882.776,77.3568 884.005,77.6507 885.234,77.9619 886.463,78.2902 887.692,78.6356 888.921,78.9983 890.15,79.3779 891.378,79.7748 892.607,80.1887 893.836,80.6196 895.065,81.0676 896.294,81.5326 897.523,82.0146 898.752,82.5136 899.98,83.0295 901.209,83.5623 902.438,84.1119 903.667,84.6784 904.896,85.2618 906.125,85.8619 907.354,86.4788 908.583,87.1124 909.811,87.7627 911.04,88.4296 912.269,89.1132 913.498,89.8133 914.727,90.53 915.956,91.2632 917.185,92.0129 918.413,92.779 919.642,93.5614 920.871,94.3602 922.1,95.1754 923.329,96.0067 924.558,96.8544 925.787,97.7181 927.016,98.598 928.244,99.494 929.473,100.406 930.702,101.334 931.931,102.278 933.16,103.238 934.389,104.213 935.618,105.205 936.846,106.212 938.075,107.235 939.304,108.273 940.533,109.327 941.762,110.397 942.991,111.481 944.22,112.582 945.449,113.697 946.677,114.828 947.906,115.975 949.135,117.136 950.364,118.312 951.593,119.504 952.822,120.71 954.051,121.932 955.279,123.168 956.508,124.419 957.737,125.684 958.966,126.965 960.195,128.259 961.424,129.569 962.653,130.893 963.882,132.231 965.11,133.583 966.339,134.95 967.568,136.331 968.797,137.726 970.026,139.135 971.255,140.557 972.484,141.994 973.712,143.445 974.941,144.909 976.17,146.387 977.399,147.878 978.628,149.383 979.857,150.901 981.086,152.433 982.315,153.978 983.543,155.535 984.772,157.106 986.001,158.69 987.23,160.287 988.459,161.897 989.688,163.52 990.917,165.155 992.145,166.802 993.374,168.463 994.603,170.135 995.832,171.82 997.061,173.517 998.29,175.226 999.519,176.947 1000.75,178.681 1001.98,180.426 1003.21,182.182 1004.43,183.951 1005.66,185.731 1006.89,187.523 1008.12,189.326 1009.35,191.14 1010.58,192.965 1011.81,194.802 1013.04,196.649 1014.27,198.508 1015.49,200.377 1016.72,202.257 1017.95,204.148 1019.18,206.049 1020.41,207.961 1021.64,209.883 1022.87,211.815 1024.1,213.758 1025.32,215.71 1026.55,217.672 1027.78,219.645 1029.01,221.626 1030.24,223.618 1031.47,225.619 1032.7,227.63 1033.93,229.649 1035.16,231.678 1036.38,233.717 1037.61,235.764 1038.84,237.82 1040.07,239.885 1041.3,241.958 1042.53,244.04 1043.76,246.131 1044.99,248.23 1046.22,250.337 1047.44,252.452 1048.67,254.576 1049.9,256.707 1051.13,258.846 1052.36,260.993 1053.59,263.148 1054.82,265.31 1056.05,267.479 1057.28,269.656 1058.5,271.84 1059.73,274.031 1060.96,276.228 1062.19,278.433 1063.42,280.645 1064.65,282.862 1065.88,285.087 1067.11,287.318 1068.34,289.555 1069.56,291.798 1070.79,294.048 1072.02,296.303 1073.25,298.564 1074.48,300.831 1075.71,303.103 1076.94,305.381 1078.17,307.664 1079.4,309.953 1080.62,312.247 1081.85,314.545 1083.08,316.849 1084.31,319.157 1085.54,321.47 1086.77,323.788 1088,326.11 1089.23,328.436 1090.45,330.766 1091.68,333.101 1092.91,335.44 1094.14,337.782 1095.37,340.128 1096.6,342.478 1097.83,344.831 1099.06,347.188 1100.29,349.548 1101.51,351.911 1102.74,354.277 1103.97,356.646 1105.2,359.018 1106.43,361.393 1107.66,363.77 1108.89,366.15 1110.12,368.532 1111.35,370.916 1112.57,373.302 1113.8,375.69 1115.03,378.081 1116.26,380.473 1117.49,382.866 1118.72,385.261 1119.95,387.658 1121.18,390.056 1122.41,392.455 1123.63,394.855 1124.86,397.256 1126.09,399.657 1127.32,402.06 1128.55,404.463 1129.78,406.867 1131.01,409.271 1132.24,411.675 1133.47,414.079 1134.69,416.483 1135.92,418.888 1137.15,421.292 1138.38,423.695 1139.61,426.099 1140.84,428.501 1142.07,430.903 1143.3,433.305 1144.52,435.705 1145.75,438.104 1146.98,440.502 1148.21,442.899 1149.44,445.295 1150.67,447.689 1151.9,450.082 1153.13,452.473 1154.36,454.862 1155.58,457.249 1156.81,459.634 1158.04,462.017 1159.27,464.398 1160.5,466.776 1161.73,469.152 1162.96,471.525 1164.19,473.896 1165.42,476.264 1166.64,478.629 1167.87,480.99 1169.1,483.349 1170.33,485.705 1171.56,488.057 1172.79,490.406 1174.02,492.751 1175.25,495.092 1176.48,497.43 1177.7,499.764 1178.93,502.094 1180.16,504.42 1181.39,506.741 1182.62,509.059 1183.85,511.371 1185.08,513.68 1186.31,515.984 1187.54,518.283 1188.76,520.577 1189.99,522.866 1191.22,525.15 1192.45,527.43 1193.68,529.704 1194.91,531.972 1196.14,534.235 1197.37,536.493 1198.6,538.745 1199.82,540.992 1201.05,543.232 1202.28,545.467 1203.51,547.695 1204.74,549.918 1205.97,552.134 1207.2,554.344 1208.43,556.548 1209.65,558.745 1210.88,560.935 1212.11,563.119 1213.34,565.296 1214.57,567.467 1215.8,569.63 1217.03,571.786 1218.26,573.935 1219.49,576.077 1220.71,578.212 1221.94,580.339 1223.17,582.458 1224.4,584.57 1225.63,586.675 1226.86,588.772 1228.09,590.86 1229.32,592.941 1230.55,595.014 1231.77,597.079 1233,599.135 1234.23,601.184 1235.46,603.224 1236.69,605.255 1237.92,607.279 1239.15,609.293 1240.38,611.299 1241.61,613.296 1242.83,615.284 1244.06,617.263 1245.29,619.234 1246.52,621.195 1247.75,623.147 1248.98,625.09 1250.21,627.024 1251.44,628.948 1252.67,630.863 1253.89,632.768 1255.12,634.664 1256.35,636.55 1257.58,638.427 1258.81,640.294 1260.04,642.15 1261.27,643.997 1262.5,645.834 1263.73,647.661 1264.95,649.478 1266.18,651.284 1267.41,653.08 1268.64,654.866 1269.87,656.642 1271.1,658.407 1272.33,660.162 1273.56,661.906 1274.78,663.639 1276.01,665.362 1277.24,667.074 1278.47,668.775 1279.7,670.465 1280.93,672.145 1282.16,673.813 1283.39,675.471 1284.62,677.117 1285.84,678.752 1287.07,680.376 1288.3,681.989 1289.53,683.59 1290.76,685.18 1291.99,686.759 1293.22,688.326 1294.45,689.882 1295.68,691.426 1296.9,692.958 1298.13,694.479 1299.36,695.989 1300.59,697.486 1301.82,698.972 1303.05,700.446 1304.28,701.908 1305.51,703.358 1306.74,704.797 1307.96,706.223 1309.19,707.637 1310.42,709.04 1311.65,710.43 1312.88,711.808 1314.11,713.174 1315.34,714.527 1316.57,715.869 1317.8,717.198 1319.02,718.515 1320.25,719.819 1321.48,721.112 1322.71,722.391 1323.94,723.659 1325.17,724.914 1326.4,726.156 1327.63,727.386 1328.85,728.604 1330.08,729.809 1331.31,731.001 1332.54,732.181 1333.77,733.348 1335,734.502 1336.23,735.644 1337.46,736.773 1338.69,737.889 1339.91,738.993 1341.14,740.084 1342.37,741.162 1343.6,742.228 1344.83,743.28 1346.06,744.32 1347.29,745.347 1348.52,746.361 1349.75,747.362 1350.97,748.351 1352.2,749.326 1353.43,750.289 1354.66,751.239 1355.89,752.176 1357.12,753.1 1358.35,754.011 1359.58,754.909 1360.81,755.794 1362.03,756.667 1363.26,757.526 1364.49,758.372 1365.72,759.206 1366.95,760.027 1368.18,760.834 1369.41,761.629 1370.64,762.411 1371.87,763.18 1373.09,763.936 1374.32,764.679 1375.55,765.409 1376.78,766.126 1378.01,766.83 1379.24,767.522 1380.47,768.2 1381.7,768.866 1382.93,769.519 1384.15,770.158 1385.38,770.786 1386.61,771.4 1387.84,772.001 1389.07,772.59 1390.3,773.165 1391.53,773.728 1392.76,774.279 1393.98,774.816 1395.21,775.341 1396.44,775.853 1397.67,776.352 1398.9,776.839 1400.13,777.312 1401.36,777.774 1402.59,778.222 1403.82,778.658 1405.04,779.082 1406.27,779.493 1407.5,779.891 1408.73,780.277 1409.96,780.651 1411.19,781.012 1412.42,781.36 1413.65,781.696 1414.88,782.02 1416.1,782.332 1417.33,782.631 1418.56,782.918 1419.79,783.192 1421.02,783.455 1422.25,783.705 1423.48,783.943 1424.71,784.169 1425.94,784.383 1427.16,784.585 1428.39,784.775 1429.62,784.953 1430.85,785.118 1432.08,785.273 1433.31,785.415 1434.54,785.545 1435.77,785.664 1437,785.771 1438.22,785.866 1439.45,785.949 1440.68,786.021 1441.91,786.082 1443.14,786.131 1444.37,786.168 1445.6,786.194 1446.83,786.209 1448.06,786.212 1449.28,786.204 1450.51,786.185 1451.74,786.154 1452.97,786.113 1454.2,786.06 1455.43,785.996 1456.66,785.922 1457.89,785.836 1459.11,785.739 1460.34,785.632 1461.57,785.514 1462.8,785.385 1464.03,785.245 1465.26,785.095 1466.49,784.934 1467.72,784.763 1468.95,784.581 1470.17,784.389 1471.4,784.187 1472.63,783.974 1473.86,783.751 1475.09,783.518 1476.32,783.275 \" />\n",
       "</g>\n",
       "\n",
       "<g fill=\"#212121\" fill-opacity=\"1\" stroke=\"#212121\" stroke-opacity=\"1\" stroke-width=\"1\" stroke-linecap=\"square\" stroke-linejoin=\"bevel\" transform=\"matrix(0.49985,0,0,0.499751,389.883,471.265)\"\n",
       "font-family=\"Helvetica\" font-size=\"22\" font-weight=\"400\" font-style=\"normal\" \n",
       ">\n",
       "<text fill=\"#212121\" fill-opacity=\"1\" stroke=\"none\" xml:space=\"preserve\" x=\"0\" y=\"-0.0625\" font-family=\"Helvetica\" font-size=\"22\" font-weight=\"400\" font-style=\"normal\" \n",
       " >k Omega</text>\n",
       "</g>\n",
       "\n",
       "<g fill=\"#212121\" fill-opacity=\"1\" stroke=\"#212121\" stroke-opacity=\"1\" stroke-width=\"1\" stroke-linecap=\"square\" stroke-linejoin=\"bevel\" transform=\"matrix(0.49985,0,0,0.499751,434.37,476.762)\"\n",
       "font-family=\"Helvetica\" font-size=\"17\" font-weight=\"400\" font-style=\"normal\" \n",
       ">\n",
       "<text fill=\"#212121\" fill-opacity=\"1\" stroke=\"none\" xml:space=\"preserve\" x=\"0\" y=\"0.078125\" font-family=\"Helvetica\" font-size=\"17\" font-weight=\"400\" font-style=\"normal\" \n",
       " >0</text>\n",
       "</g>\n",
       "\n",
       "<g fill=\"#212121\" fill-opacity=\"1\" stroke=\"#212121\" stroke-opacity=\"1\" stroke-width=\"1\" stroke-linecap=\"square\" stroke-linejoin=\"bevel\" transform=\"matrix(0.49985,0,0,0.499751,438.868,471.265)\"\n",
       "font-family=\"Helvetica\" font-size=\"22\" font-weight=\"400\" font-style=\"normal\" \n",
       ">\n",
       "<text fill=\"#212121\" fill-opacity=\"1\" stroke=\"none\" xml:space=\"preserve\" x=\"0\" y=\"-0.0625\" font-family=\"Helvetica\" font-size=\"22\" font-weight=\"400\" font-style=\"normal\" \n",
       " > [rad/s]</text>\n",
       "</g>\n",
       "\n",
       "<g fill=\"#212121\" fill-opacity=\"1\" stroke=\"#212121\" stroke-opacity=\"1\" stroke-width=\"1\" stroke-linecap=\"butt\" stroke-linejoin=\"round\" transform=\"matrix(0.49985,0,0,0.499751,0,0)\"\n",
       "font-family=\"Helvetica\" font-size=\"22\" font-weight=\"400\" font-style=\"normal\" \n",
       ">\n",
       "<polyline fill=\"none\" vector-effect=\"none\" points=\"217,893 1508,893 \" />\n",
       "<polyline fill=\"none\" vector-effect=\"none\" points=\"217,75 1508,75 \" />\n",
       "<polyline fill=\"none\" vector-effect=\"none\" points=\"248.681,893 248.681,880.09 \" />\n",
       "<polyline fill=\"none\" vector-effect=\"none\" points=\"248.681,87.91 248.681,75 \" />\n",
       "<polyline fill=\"none\" vector-effect=\"none\" points=\"453.287,893 453.287,880.09 \" />\n",
       "<polyline fill=\"none\" vector-effect=\"none\" points=\"453.287,87.91 453.287,75 \" />\n",
       "<polyline fill=\"none\" vector-effect=\"none\" points=\"657.894,893 657.894,880.09 \" />\n",
       "<polyline fill=\"none\" vector-effect=\"none\" points=\"657.894,87.91 657.894,75 \" />\n",
       "<polyline fill=\"none\" vector-effect=\"none\" points=\"862.5,893 862.5,880.09 \" />\n",
       "<polyline fill=\"none\" vector-effect=\"none\" points=\"862.5,87.91 862.5,75 \" />\n",
       "<polyline fill=\"none\" vector-effect=\"none\" points=\"1067.11,893 1067.11,880.09 \" />\n",
       "<polyline fill=\"none\" vector-effect=\"none\" points=\"1067.11,87.91 1067.11,75 \" />\n",
       "<polyline fill=\"none\" vector-effect=\"none\" points=\"1271.71,893 1271.71,880.09 \" />\n",
       "<polyline fill=\"none\" vector-effect=\"none\" points=\"1271.71,87.91 1271.71,75 \" />\n",
       "<polyline fill=\"none\" vector-effect=\"none\" points=\"1476.32,893 1476.32,880.09 \" />\n",
       "<polyline fill=\"none\" vector-effect=\"none\" points=\"1476.32,87.91 1476.32,75 \" />\n",
       "</g>\n",
       "\n",
       "<g fill=\"#212121\" fill-opacity=\"1\" stroke=\"#212121\" stroke-opacity=\"1\" stroke-width=\"1\" stroke-linecap=\"square\" stroke-linejoin=\"bevel\" transform=\"matrix(0.49985,0,0,0.499751,117.055,457.772)\"\n",
       "font-family=\"Helvetica\" font-size=\"20\" font-weight=\"400\" font-style=\"normal\" \n",
       ">\n",
       "<text fill=\"#212121\" fill-opacity=\"1\" stroke=\"none\" xml:space=\"preserve\" x=\"0\" y=\"0.390625\" font-family=\"Helvetica\" font-size=\"20\" font-weight=\"400\" font-style=\"normal\" \n",
       " >-15</text>\n",
       "</g>\n",
       "\n",
       "<g fill=\"#212121\" fill-opacity=\"1\" stroke=\"#212121\" stroke-opacity=\"1\" stroke-width=\"1\" stroke-linecap=\"square\" stroke-linejoin=\"bevel\" transform=\"matrix(0.49985,0,0,0.499751,219.328,457.772)\"\n",
       "font-family=\"Helvetica\" font-size=\"20\" font-weight=\"400\" font-style=\"normal\" \n",
       ">\n",
       "<text fill=\"#212121\" fill-opacity=\"1\" stroke=\"none\" xml:space=\"preserve\" x=\"0\" y=\"0.390625\" font-family=\"Helvetica\" font-size=\"20\" font-weight=\"400\" font-style=\"normal\" \n",
       " >-10</text>\n",
       "</g>\n",
       "\n",
       "<g fill=\"#212121\" fill-opacity=\"1\" stroke=\"#212121\" stroke-opacity=\"1\" stroke-width=\"1\" stroke-linecap=\"square\" stroke-linejoin=\"bevel\" transform=\"matrix(0.49985,0,0,0.499751,324.35,457.772)\"\n",
       "font-family=\"Helvetica\" font-size=\"20\" font-weight=\"400\" font-style=\"normal\" \n",
       ">\n",
       "<text fill=\"#212121\" fill-opacity=\"1\" stroke=\"none\" xml:space=\"preserve\" x=\"0\" y=\"0.390625\" font-family=\"Helvetica\" font-size=\"20\" font-weight=\"400\" font-style=\"normal\" \n",
       " >-5</text>\n",
       "</g>\n",
       "\n",
       "<g fill=\"#212121\" fill-opacity=\"1\" stroke=\"#212121\" stroke-opacity=\"1\" stroke-width=\"1\" stroke-linecap=\"square\" stroke-linejoin=\"bevel\" transform=\"matrix(0.49985,0,0,0.499751,428.371,457.772)\"\n",
       "font-family=\"Helvetica\" font-size=\"20\" font-weight=\"400\" font-style=\"normal\" \n",
       ">\n",
       "<text fill=\"#212121\" fill-opacity=\"1\" stroke=\"none\" xml:space=\"preserve\" x=\"0\" y=\"0.390625\" font-family=\"Helvetica\" font-size=\"20\" font-weight=\"400\" font-style=\"normal\" \n",
       " >0</text>\n",
       "</g>\n",
       "\n",
       "<g fill=\"#212121\" fill-opacity=\"1\" stroke=\"#212121\" stroke-opacity=\"1\" stroke-width=\"1\" stroke-linecap=\"square\" stroke-linejoin=\"bevel\" transform=\"matrix(0.49985,0,0,0.499751,530.644,457.772)\"\n",
       "font-family=\"Helvetica\" font-size=\"20\" font-weight=\"400\" font-style=\"normal\" \n",
       ">\n",
       "<text fill=\"#212121\" fill-opacity=\"1\" stroke=\"none\" xml:space=\"preserve\" x=\"0\" y=\"0.390625\" font-family=\"Helvetica\" font-size=\"20\" font-weight=\"400\" font-style=\"normal\" \n",
       " >5</text>\n",
       "</g>\n",
       "\n",
       "<g fill=\"#212121\" fill-opacity=\"1\" stroke=\"#212121\" stroke-opacity=\"1\" stroke-width=\"1\" stroke-linecap=\"square\" stroke-linejoin=\"bevel\" transform=\"matrix(0.49985,0,0,0.499751,630.167,457.772)\"\n",
       "font-family=\"Helvetica\" font-size=\"20\" font-weight=\"400\" font-style=\"normal\" \n",
       ">\n",
       "<text fill=\"#212121\" fill-opacity=\"1\" stroke=\"none\" xml:space=\"preserve\" x=\"0\" y=\"0.390625\" font-family=\"Helvetica\" font-size=\"20\" font-weight=\"400\" font-style=\"normal\" \n",
       " >10</text>\n",
       "</g>\n",
       "\n",
       "<g fill=\"#212121\" fill-opacity=\"1\" stroke=\"#212121\" stroke-opacity=\"1\" stroke-width=\"1\" stroke-linecap=\"square\" stroke-linejoin=\"bevel\" transform=\"matrix(0.49985,0,0,0.499751,732.44,457.772)\"\n",
       "font-family=\"Helvetica\" font-size=\"20\" font-weight=\"400\" font-style=\"normal\" \n",
       ">\n",
       "<text fill=\"#212121\" fill-opacity=\"1\" stroke=\"none\" xml:space=\"preserve\" x=\"0\" y=\"0.390625\" font-family=\"Helvetica\" font-size=\"20\" font-weight=\"400\" font-style=\"normal\" \n",
       " >15</text>\n",
       "</g>\n",
       "</g>\n",
       "</svg>\n"
      ]
     },
     "metadata": {},
     "output_type": "display_data"
    }
   ],
   "source": [
    "A = 1; w = 10; [f,omega] = pulse_fs(A,w,15);\n",
    "stem(omega,f)\n",
    "title('Line Spectra for pulse with w=10')\n",
    "hold on\n",
    "om = linspace(-15,15,1000);\n",
    "xlabel('k Omega_0 [rad/s]')\n",
    "xc = om.*pi./w;\n",
    "plot(om,(A/w)*sin(xc)./(xc),'r:')\n",
    "hold off"
   ]
  },
  {
   "cell_type": "markdown",
   "id": "322c634e",
   "metadata": {
    "slideshow": {
     "slide_type": "subslide"
    }
   },
   "source": [
    "#### Implications\n",
    "\n",
    "- As the width of the pulse **reduces** the width of the freqency spectra needed to fully describe the signal **increases**\n",
    "- more bandwidth is needed to transmit the pulse."
   ]
  },
  {
   "cell_type": "markdown",
   "id": "0e3ff8b6",
   "metadata": {
    "slideshow": {
     "slide_type": "notes"
    }
   },
   "source": [
    "**Note**\n",
    "\n",
    "Text book seems to get the wrong results. Karris plots $\\sin(wx)/(wx)$ rather than $\\sin(x/w)/(x/w)$ in producing the diagrams shown in Figs. 7.36&mdash;7-38.\n",
    "\n",
    "However, if you view $\\sin(wx)/wx$ as in indication of the bandwidth needed to transmit a pulse of width $T/w$ the plots Karris gives make more sense."
   ]
  },
  {
   "cell_type": "markdown",
   "id": "a1cf5641",
   "metadata": {
    "slideshow": {
     "slide_type": "slide"
    }
   },
   "source": [
    "### Example 5\n",
    "\n",
    "Use the result of {ref}`ex:18.1` to compute the exponential Fourier series of the impulse train $\\delta(t\\pm 2\\pi k)$ shown in {numref}`\n",
    "\n",
    ":::{figure-md} fig:ex:18.3\n",
    "<img src=\"pictures/impulse_train.png\" alt=\"An impulse train\" width=\"80%\">\n",
    "\n",
    "An impulse train\n",
    ":::"
   ]
  },
  {
   "cell_type": "markdown",
   "id": "1695599c",
   "metadata": {
    "slideshow": {
     "slide_type": "notes"
    }
   },
   "source": [
    "### Solution\n",
    "\n",
    "To solve this we take the previous result and choose amplitude (height) $A$ so that area of pulse is unity. Then we let width go to zero while maintaining the area of unity. This creates a train of impulses $\\delta(t\\pm 2\\pi k)$.\n",
    "\n",
    "$$C_k  = \\frac{1}{2\\pi}$$\n",
    "\n",
    "and, therefore\n",
    "\n",
    "$$f(t) = \\frac{1}{2\\pi}\\sum_{k=-\\infty}^{\\infty} e^{jk\\Omega_0 t}$$\n",
    "\n",
    "Try it!"
   ]
  },
  {
   "cell_type": "markdown",
   "id": "fa97bfe9",
   "metadata": {
    "slideshow": {
     "slide_type": "notes"
    }
   },
   "source": [
    "#### Proof!\n",
    "\n",
    "From the previous result,\n",
    "\n",
    "$$C_n = \\frac{A}{w}.\\frac{\\sin(k\\pi/w)}{k\\pi/w}$$\n",
    "\n",
    "and the pulse width was defined as $T/w$, that is\n",
    "\n",
    "$$\\frac{T}{w}=\\frac{2\\pi}{w}$$"
   ]
  },
  {
   "cell_type": "markdown",
   "id": "c0b041de",
   "metadata": {
    "slideshow": {
     "slide_type": "notes"
    }
   },
   "source": [
    "Let us take the previous impulse train as a recurrent pulse with amplitude\n",
    "\n",
    "$$A = \\frac{1}{T/w} = \\frac{1}{2\\pi/w} = \\frac{w}{2\\pi}.$$"
   ]
  },
  {
   "cell_type": "markdown",
   "id": "1a36ab62",
   "metadata": {
    "slideshow": {
     "slide_type": "notes"
    }
   },
   "source": [
    "#### Pulse with unit area\n",
    "\n",
    "The area of each pulse is then\n",
    "\n",
    "$$\\frac{2\\pi}{w}\\times\\frac{w}{2\\pi} = 1$$"
   ]
  },
  {
   "cell_type": "markdown",
   "id": "5baaed35",
   "metadata": {
    "slideshow": {
     "slide_type": "notes"
    }
   },
   "source": [
    "and the pulse train is as shown in {numref}`fig:ex:18.3.1` below:\n",
    "\n",
    ":::{figure-md} fig:ex:18.3.1\n",
    "<img src=\"pictures/unit_area_pulses.png\" alt=\"\" width=\"80%\">\n",
    "\n",
    "Pulse train with unit-area pulses\n",
    ":::"
   ]
  },
  {
   "cell_type": "markdown",
   "id": "86af4079",
   "metadata": {
    "slideshow": {
     "slide_type": "notes"
    }
   },
   "source": [
    "#### New coefficents\n",
    "\n",
    "The coefficients of the Exponential Fourier Series are now:\n",
    "\n",
    "$$C_k = \\frac{w/2\\pi}{w}\\frac{\\sin(k\\pi/w)}{k\\pi/w} = \\frac{1}{2\\pi}\\frac{\\sin(k\\pi/w)}{k\\pi/w}$$\n",
    "\n",
    "and as $\\pi/w \\to 0$ each recurrent pulse becomes a unit impulse, and the pulse train reduces to a unit impulse train."
   ]
  },
  {
   "cell_type": "markdown",
   "id": "e417b7c5",
   "metadata": {
    "slideshow": {
     "slide_type": "notes"
    }
   },
   "source": [
    "Also, recalling that\n",
    "\n",
    "$$\\lim_{x\\to 0} \\frac{\\sin \\pi x}{\\pi x} = 1$$\n",
    "\n",
    "the coefficents reduce to\n",
    "\n",
    "$$C_k = \\frac{1}{2\\pi}$$\n",
    "\n",
    "That is all coefficients have the same amplitude and thus\n",
    "\n",
    "$$f(t) = \\frac{1}{2\\pi}\\sum_{n=-\\infty}^{\\infty} e^{jk\\Omega_0 t}$$"
   ]
  },
  {
   "cell_type": "markdown",
   "id": "5ee4f764",
   "metadata": {
    "slideshow": {
     "slide_type": "notes"
    }
   },
   "source": [
    "#### Spectrum of Unit Impulse Train\n",
    "\n",
    "The line spectrum of a sequence of unit impulses $\\delta(t \\pm kT)$ is shown below:\n",
    "\n",
    "<img src=\"pictures/impulse_spectrum.png\">"
   ]
  },
  {
   "cell_type": "markdown",
   "id": "71c1875e",
   "metadata": {
    "slideshow": {
     "slide_type": "subslide"
    }
   },
   "source": [
    "#### Another Interesting Result\n",
    "\n",
    "Consider the pulse train again:\n",
    "\n",
    ":::{figure-md} fig:ex:18.3.3\n",
    "<img src=\"pictures/pulse_train.png\" alt=\"Pulse train signal\" width=\"80%\">\n",
    "\n",
    "Pulse train signal\n",
    ":::\n",
    "\n",
    "What happens when the pulses to the left and right of the centre pulse become less and less frequent? That is what happens when $T \\to \\infty$?"
   ]
  },
  {
   "cell_type": "markdown",
   "id": "fbaec54b",
   "metadata": {
    "slideshow": {
     "slide_type": "notes"
    }
   },
   "source": [
    "#### Well?\n",
    "\n",
    "- As $T\\to \\infty$ the fundamental frequency $\\Omega_0 \\to 0$\n",
    "- We are then left with just one pulse centred around $t=0$.\n",
    "- The frequency difference between harmonics also becomes smaller.\n",
    "- Line spectrum becomes a continous function.\n",
    "\n",
    "This result is the basis of the _Fourier Transform_ which is coming soon."
   ]
  },
  {
   "cell_type": "markdown",
   "id": "ded1adef",
   "metadata": {},
   "source": [
    "## Summary\n",
    "\n",
    "- {ref}`fs3:fundamental`\n",
    "- {ref}`fs3:harmonics`\n",
    "- {ref}`fs3:line-spectra`\n",
    "- {ref}`examples18`\n",
    "\n",
    "(unit3.3:takeaways)=\n",
    "\n",
    "### Unit 3.3: Takeways\n",
    "\n",
    "The exponential and trigonometric Fourier series coefficients can be plotted as lines on the frequency axis.\n",
    "\n",
    "These line-spectra are useful for reasoning about the frequency components that are present in a periodic signal.\n",
    "\n",
    "This is useful for e.g. computing the bandwidth needed on a medium that is to transmit a signal without loss.\n",
    "\n",
    "We will see next, that we can also use these line spectra to compute power in a signal, the total harmonic distortion present in a signal, and in the design of filters."
   ]
  },
  {
   "cell_type": "markdown",
   "id": "573cd4da",
   "metadata": {},
   "source": [
    "## Next Time\n",
    "\n",
    "We move on to consider\n",
    "\n",
    "- {ref}`unit3.4`\n",
    "\n",
    "## References\n",
    "\n",
    "```{bibliography}\n",
    ":filter: docname in docnames\n",
    "```"
   ]
  },
  {
   "cell_type": "markdown",
   "id": "5e44a0d1",
   "metadata": {
    "slideshow": {
     "slide_type": "notes"
    }
   },
   "source": [
    "(answer_ex6)=\n",
    "\n",
    "### Answer to example 3\n",
    "\n",
    "Given\n",
    "\n",
    "$$C_k = \\frac{1}{2\\pi}\\int_{-\\pi}^{\\pi} f(t)e^{-jk\\theta}\\,d\\theta$$\n",
    "\n",
    "- Is the function **even** or **odd**? **even** $f(t) = f(-t)$!\n",
    "- Does the signal have **half-wave symmetry**? No!\n",
    "- What are the cosequencies of symmetry on the form of the coefficients $C_k$? $C_k$ will be real values. Trig. equivalent no sine terms.\n",
    "- What function do we actually need to integrate to compute $C_k$? We only need to integrate between the limits $-\\pi/w \\to \\pi/w$\n",
    "\n",
    "$$C_k = \\frac{1}{2\\pi}\\int_{-\\pi/w}^{\\pi/w} Ae^{-jk\\theta}\\,d\\theta = \\frac{A}{2\\pi}\\int_{-\\pi/w}^{\\pi/w} e^{-jk\\theta}\\,d\\theta $$"
   ]
  },
  {
   "cell_type": "markdown",
   "id": "2c6e2ca0",
   "metadata": {
    "slideshow": {
     "slide_type": "notes"
    }
   },
   "source": [
    "### Solution: DC component!\n",
    "\n",
    "$$C_0 = \\left.\\frac{A}{2\\pi}\\,\\theta\\,\\right|_{-\\pi/w}^{\\pi/w} = \\frac{A}{2\\pi}\\left(\\frac{\\pi}{w}+\\frac{\\pi}{w}\\right)$$\n",
    "\n",
    "or\n",
    "\n",
    "$$C_0 = \\frac{A}{w}$$"
   ]
  },
  {
   "cell_type": "markdown",
   "id": "c6b4d1f2",
   "metadata": {
    "slideshow": {
     "slide_type": "notes"
    }
   },
   "source": [
    "### Harmonic coefficients!\n",
    "\n",
    "$$C_k = \\left.\\frac{A}{-jk2\\pi}\\,e^{-jk(\\omega t)}\\,\\right|_{-\\pi/w}^{\\pi/w} = \\frac{A}{k\\pi}\\left(\\frac{e^{jk\\pi/w}-e^{-jk\\pi/w}}{j2}\\right) = \\frac{A}{k\\pi}\\sin\\left(\\frac{k\\pi}{w}\\right)$$\n",
    "\n",
    "$$C_k = \\frac{A}{w}\\frac{sin\\left(k\\pi/w\\right)}{k\\pi/w}$$"
   ]
  },
  {
   "cell_type": "markdown",
   "id": "25166244",
   "metadata": {
    "slideshow": {
     "slide_type": "notes"
    }
   },
   "source": [
    "### Exponential Fourier Series!\n",
    "\n",
    "$$f(t)=\\sum_{k=-\\infty}^{\\infty}\\;\\frac{A}{w}\\,\\frac{\\sin\\left(k\\pi/w\\right)}{k\\pi/w} e^{-k\\Omega_0 t}$$"
   ]
  }
 ],
 "metadata": {
  "celltoolbar": "Slideshow",
  "jupytext": {
   "formats": "ipynb,md:myst"
  },
  "kernelspec": {
   "display_name": "MKernel",
   "language": "matlab",
   "name": "mkernel"
  },
  "language_info": {
   "file_extension": ".m",
   "mimetype": "text/x-matlab",
   "name": "matlab"
  }
 },
 "nbformat": 4,
 "nbformat_minor": 5
}
