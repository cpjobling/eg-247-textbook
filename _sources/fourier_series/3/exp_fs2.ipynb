{
 "cells": [
  {
   "cell_type": "markdown",
   "id": "2190bb1e",
   "metadata": {
    "slideshow": {
     "slide_type": "slide"
    }
   },
   "source": [
    "(exp_fs2)=\n",
    "# Unit 3.3: Computing Line Spectra"
   ]
  },
  {
   "cell_type": "markdown",
   "id": "5210e6af",
   "metadata": {
    "slideshow": {
     "slide_type": "notes"
    }
   },
   "source": [
    "In {ref}`exp_fs1` we saw that we could exploit the complex exponential $e^{j\\omega t}$ to redefine trigonometric Fourier series into the exponential Fourier series and in so doing we eliminate one integration and at the same time simplify the calculation of the coefficients of the Fourier series.\n",
    "\n",
    "In this section we show how the exponential form of the Fourier series leads us to the ability to present waveforms as line spectra which simplifies the calculation of power for systems with harmonics and leads in the limit as 𝑇 approaches infinity to the Fourier Transform."
   ]
  },
  {
   "cell_type": "markdown",
   "id": "c35855a8",
   "metadata": {
    "slideshow": {
     "slide_type": "notes"
    }
   },
   "source": [
    "## Colophon\n",
    "\n",
    "An annotatable worksheet for this presentation is available as {ref}`ws4`.\n",
    "\n",
    "* The source code for this page is [fourier_series/3/exp_fs2.md](https://github.com/cpjobling/eg-247-textbook/blob/master/fourier_series/3/exp_fs2.md).\n",
    "\n",
    "* You can view the notes for this presentation as a webpage ({ref}`exp_fs2`). \n",
    "\n",
    "* This page is downloadable as a [PDF](https://cpjobling.github.io/eg-247-textbook/fourier_series/3/exp_fs2.pdf) file."
   ]
  },
  {
   "cell_type": "markdown",
   "id": "d09faef1",
   "metadata": {
    "slideshow": {
     "slide_type": "slide"
    }
   },
   "source": [
    "## Agenda\n",
    "\n",
    "* {ref}`fs3:fundamental`\n",
    "* {ref}`fs3:harmonics`\n",
    "* {ref}`fs3:line-spectra`\n",
    "* {ref}`examples18`"
   ]
  },
  {
   "cell_type": "markdown",
   "id": "297d7b90",
   "metadata": {
    "slideshow": {
     "slide_type": "slide"
    }
   },
   "source": [
    "(fs3:fundamental)=\n",
    "## Fundamental frequency\n",
    "\n",
    "*Fundamental frequency* -- A periodic signal $f(t) = f(t + nT),\\; n\\in \\mathbb{Z}$ has period $T$ s and a fundamental frequency $f_0 = 1/T$ Hz."
   ]
  },
  {
   "cell_type": "markdown",
   "id": "00781b6e",
   "metadata": {
    "slideshow": {
     "slide_type": "fragment"
    }
   },
   "source": [
    "When used in Fourier series and Fourier transforms, frequencies are expressed as $\\omega$ in radians/second."
   ]
  },
  {
   "cell_type": "markdown",
   "id": "7a191c98",
   "metadata": {
    "slideshow": {
     "slide_type": "fragment"
    }
   },
   "source": [
    "The **fundamental frequency** is $\\omega = \\Omega_0 = 2 \\pi f_0$ or, equivalently, $\\Omega_0 = 2 \\pi /T$ rad/s."
   ]
  },
  {
   "cell_type": "markdown",
   "id": "082b8acc",
   "metadata": {
    "slideshow": {
     "slide_type": "slide"
    }
   },
   "source": [
    "(fs3:harmonics)=\n",
    "## Harmonic frequencies\n",
    "\n",
    "*Harmonic frequencies* (or *harmonics*) are simply integer multiples of the fundamental frequency $\\Omega_0$."
   ]
  },
  {
   "cell_type": "markdown",
   "id": "706dd9f2",
   "metadata": {
    "slideshow": {
     "slide_type": "fragment"
    }
   },
   "source": [
    "* The zero-th harmonic is $\\Omega_0 = 0$ rad/s or DC."
   ]
  },
  {
   "cell_type": "markdown",
   "id": "a4073aff",
   "metadata": {
    "slideshow": {
     "slide_type": "fragment"
    }
   },
   "source": [
    "* The first harmonic is $1.\\Omega_0 = \\Omega_0$, is the fundamental frequency,"
   ]
  },
  {
   "cell_type": "markdown",
   "id": "dae0a659",
   "metadata": {
    "slideshow": {
     "slide_type": "fragment"
    }
   },
   "source": [
    "* The second harmonic is $2 \\Omega_0$,"
   ]
  },
  {
   "cell_type": "markdown",
   "id": "87ac0b8c",
   "metadata": {
    "slideshow": {
     "slide_type": "fragment"
    }
   },
   "source": [
    "* The third harmonic is $3 \\Omega_0$, etc."
   ]
  },
  {
   "cell_type": "markdown",
   "id": "733b4043",
   "metadata": {
    "slideshow": {
     "slide_type": "fragment"
    }
   },
   "source": [
    "In general, we can express the $k$-th harmonic as $k\\Omega_0,\\; k\\in \\mathbb{Z}$."
   ]
  },
  {
   "cell_type": "markdown",
   "id": "594549bd",
   "metadata": {
    "slideshow": {
     "slide_type": "slide"
    }
   },
   "source": [
    "(fs3:line-spectra)=\n",
    "## Line Spectra\n",
    "\n",
    "The use of line spectra diagrams is a useful way to visualize the harmonic frequency components of a peiodic signal. \n",
    "\n",
    "In MATLAB, the easiest way to plot this is using a *stem plot* of the lines, representing the Fourier series (FS) coefficients, plotted against $k$."
   ]
  },
  {
   "cell_type": "markdown",
   "id": "93ba6b86",
   "metadata": {
    "slideshow": {
     "slide_type": "slide"
    }
   },
   "source": [
    "### Line Spectra for Exp. FS\n",
    "\n",
    "When the exponential Fourier series are known it is useful to plot the amplitude and phase of the harmonics on a frequency scale."
   ]
  },
  {
   "cell_type": "markdown",
   "id": "8ba1a150",
   "metadata": {
    "slideshow": {
     "slide_type": "notes"
    }
   },
   "source": [
    "This is the spectrum of the Exponential Fourier Series calculated in {ref}`fs2:matlab` is reproduced in {numref}`fig:5.3.1`"
   ]
  },
  {
   "cell_type": "markdown",
   "id": "a3cc93e7",
   "metadata": {
    "slideshow": {
     "slide_type": "subslide"
    }
   },
   "source": [
    ":::{figure-md} fig:5.3.1.\n",
    "<img src=\"pictures/efs_sqw.png\" alt=\"Exponential Fourier Series spectrum for a square wave.\" width=\"80%\">\n",
    "\n",
    "Exponential Fourier Series spectrum for the square wave calculated in {numref}`fs2:eg`.\n",
    ":::"
   ]
  },
  {
   "cell_type": "markdown",
   "id": "8f77cbda",
   "metadata": {
    "slideshow": {
     "slide_type": "subslide"
    }
   },
   "source": [
    "### Line Spectra for Trig. FS\n",
    "\n",
    "If we take the results for the Exponential Fourier Series and gather terms, the amplitudes for the Trig. Fourier Series are given by:\n",
    "\n",
    "$$a_0 = 2C_0$$\n",
    "\n",
    "$$a_k = (C_k + C_{-k})$$\n",
    "\n",
    "$$b_k = j(C_k - C_{-k})$$"
   ]
  },
  {
   "cell_type": "markdown",
   "id": "85affda8",
   "metadata": {
    "slideshow": {
     "slide_type": "subslide"
    }
   },
   "source": [
    "Applying this to the previous result we get the spectrum shown in {numref}`fig:tfs`\n",
    "\n",
    ":::{figure-md} fig:tfs\n",
    "<img src=\"pictures/line-spec.png\" alt=\"Trigonometric Fourier series for a square wave\" width=\"80%\">\n",
    "\n",
    "Trigonometric Fourier series for a square wave\n",
    ":::"
   ]
  },
  {
   "cell_type": "markdown",
   "id": "58bd5b02",
   "metadata": {
    "slideshow": {
     "slide_type": "slide"
    }
   },
   "source": [
    "(examples18)=\n",
    "\n",
    "## Examples"
   ]
  },
  {
   "cell_type": "markdown",
   "id": "5a723d8f",
   "metadata": {
    "slideshow": {
     "slide_type": "slide"
    }
   },
   "source": [
    "### Example 3\n",
    "\n",
    "(ex:18.1)=\n",
    "\n",
    "Compute the exponential Fourier series for the waveform shown below and plot its line spectra.\n",
    "\n",
    ":::{figure-md} fig:ex:18.1\n",
    "<img src=\"pictures/pulse_train.png\" alt=\"\" width=\"80%\">\n",
    "\n",
    "\n",
    "A pulse train\n",
    ":::"
   ]
  },
  {
   "cell_type": "markdown",
   "id": "a2aae2d8",
   "metadata": {
    "slideshow": {
     "slide_type": "notes"
    }
   },
   "source": [
    "### Solution\n",
    "\n",
    "The recurrent rectangular pulse is used extensively in digital communication systems. To determine how faithfully such pulses will be transmitted, it is necessary to know the frequency components."
   ]
  },
  {
   "cell_type": "markdown",
   "id": "251ad917",
   "metadata": {
    "slideshow": {
     "slide_type": "notes"
    }
   },
   "source": [
    "**What do we know?**\n",
    "\n",
    "* The pulse duration is $T/w$.\n",
    "* The recurrence interval $T$ is $w$ times the pulse duration.\n",
    "* $w$ is the ratio of pulse repetition time to the pulse duration &ndash; normally called the *duty cycle*."
   ]
  },
  {
   "cell_type": "markdown",
   "id": "457c7d28",
   "metadata": {
    "slideshow": {
     "slide_type": "notes"
    }
   },
   "source": [
    "#### Coefficients of the Exponential Fourier Series?\n",
    "\n",
    "Given\n",
    "\n",
    "$$C_k = \\frac{1}{2\\pi}\\int_{-\\pi}^{\\pi} f(\\theta)e^{-jk\\theta}\\,d\\theta$$\n",
    "\n",
    "* Is the function **even** or **odd**?\n",
    "* Does the signal have **half-wave symmetry**?\n",
    "* What are the consequencies of symmetry on the form of the coefficients $C_k$?\n",
    "* What function do we actually need to integrate to compute $C_k$?"
   ]
  },
  {
   "cell_type": "markdown",
   "id": "43c1f121",
   "metadata": {
    "slideshow": {
     "slide_type": "notes"
    }
   },
   "source": [
    "Practice here. Solutions at bottom of section."
   ]
  },
  {
   "cell_type": "markdown",
   "id": "3137f043",
   "metadata": {
    "slideshow": {
     "slide_type": "notes"
    }
   },
   "source": [
    "<pre style=\"border: 2px solid blue\">\n",
    "\n",
    "\n",
    "\n",
    "\n",
    "\n",
    "\n",
    "\n",
    "\n",
    "\n",
    "\n",
    "\n",
    "\n",
    "\n",
    "\n",
    "\n",
    "</pre>"
   ]
  },
  {
   "cell_type": "markdown",
   "id": "4e10c385",
   "metadata": {
    "slideshow": {
     "slide_type": "notes"
    }
   },
   "source": [
    "#### DC Component?\n",
    "\n",
    "Let $k = 0$ then perform the integral"
   ]
  },
  {
   "cell_type": "markdown",
   "id": "fab32be7",
   "metadata": {
    "slideshow": {
     "slide_type": "notes"
    }
   },
   "source": [
    "<pre style=\"border: 2px solid blue\">\n",
    "\n",
    "\n",
    "\n",
    "\n",
    "\n",
    "\n",
    "\n",
    "\n",
    "\n",
    "\n",
    "\n",
    "\n",
    "\n",
    "\n",
    "\n",
    "</pre>"
   ]
  },
  {
   "cell_type": "markdown",
   "id": "3aa4b7e8",
   "metadata": {
    "slideshow": {
     "slide_type": "notes"
    }
   },
   "source": [
    "#### Harmonic coefficients?\n",
    "\n",
    "Integrate for $k\\ne 0$"
   ]
  },
  {
   "cell_type": "markdown",
   "id": "67925e1a",
   "metadata": {
    "slideshow": {
     "slide_type": "notes"
    }
   },
   "source": [
    "<pre style=\"border: 2px solid blue\">\n",
    "\n",
    "\n",
    "\n",
    "\n",
    "\n",
    "\n",
    "\n",
    "\n",
    "\n",
    "\n",
    "\n",
    "\n",
    "\n",
    "\n",
    "\n",
    "</pre>"
   ]
  },
  {
   "cell_type": "markdown",
   "id": "8a8eb84f",
   "metadata": {
    "slideshow": {
     "slide_type": "notes"
    }
   },
   "source": [
    "#### Exponential Fourier Series?"
   ]
  },
  {
   "cell_type": "markdown",
   "id": "9ed56737",
   "metadata": {
    "slideshow": {
     "slide_type": "notes"
    }
   },
   "source": [
    "<pre style=\"border: 2px solid blue\">\n",
    "\n",
    "\n",
    "\n",
    "\n",
    "\n",
    "\n",
    "\n",
    "\n",
    "\n",
    "\n",
    "\n",
    "\n",
    "\n",
    "\n",
    "\n",
    "</pre>"
   ]
  },
  {
   "cell_type": "markdown",
   "id": "b194f339",
   "metadata": {
    "slideshow": {
     "slide_type": "subslide"
    }
   },
   "source": [
    "(ex:18.2)=\n",
    "### Example 4: Effect of pulse width on frequency spectra\n",
    "\n",
    "let's see what effect the duty cycle $w$ has on the spectra.\n",
    "\n",
    "Recall pulse width = $T/w$ and plot the complex line spectra for pulse with width $w$ which repeats every $T$ seconds. We will write a MATLAB function `pulse_fs` to simplify the computation."
   ]
  },
  {
   "cell_type": "code",
   "execution_count": 1,
   "id": "28ce4c0c",
   "metadata": {
    "slideshow": {
     "slide_type": "fragment"
    }
   },
   "outputs": [],
   "source": [
    "clear all\n",
    "cd ../matlab\n",
    "format compact"
   ]
  },
  {
   "cell_type": "code",
   "execution_count": 2,
   "id": "04e1d862",
   "metadata": {
    "slideshow": {
     "slide_type": "notes"
    }
   },
   "outputs": [
    {
     "name": "stdout",
     "output_type": "stream",
     "text": [
      "Created file '/Users/eechris/code/src/github.com/cpjobling/eg-247-textbook/fourier_series/matlab/pulse_fs.m'.\n"
     ]
    }
   ],
   "source": [
    "%%file ../matlab/pulse_fs.m\n",
    "function [f,omega] = pulse_fs(A,w,range)\n",
    "% PULSE_FS compute fourier series spectrum in range\n",
    "% -range:range for pulse with \n",
    "% height A, period T and width duty cycle w.\n",
    "omega = -range:range;\n",
    "for mm = 1:length(omega)\n",
    "    x = omega(mm)*pi/w;\n",
    "    if omega(mm) == 0\n",
    "        f(mm) = A/w;\n",
    "    else\n",
    "        f(mm) = (A/w)*sin(x)/(x);\n",
    "    end\n",
    "end\n",
    "return"
   ]
  },
  {
   "cell_type": "markdown",
   "id": "d96d3606",
   "metadata": {
    "slideshow": {
     "slide_type": "subslide"
    }
   },
   "source": [
    "#### w = 2\n",
    "\n",
    "$\\Omega_0 = 1$ rad/s; $w = 2$; $T = 2\\pi$ s; $T/w = \\pi$ s."
   ]
  },
  {
   "cell_type": "markdown",
   "id": "2c10790f",
   "metadata": {
    "slideshow": {
     "slide_type": "fragment"
    }
   },
   "source": [
    "Compute Fourier series"
   ]
  },
  {
   "cell_type": "code",
   "execution_count": 3,
   "id": "82a24ba3",
   "metadata": {
    "slideshow": {
     "slide_type": "fragment"
    }
   },
   "outputs": [],
   "source": [
    "A = 1; w = 2;\n",
    "[f,omega] = pulse_fs(A,w,15);"
   ]
  },
  {
   "cell_type": "markdown",
   "id": "bc9ff267",
   "metadata": {
    "slideshow": {
     "slide_type": "subslide"
    }
   },
   "source": [
    "Plot line Spectrum and add add continuous $\\mathrm{sinc}(x)$ envelope."
   ]
  },
  {
   "cell_type": "code",
   "execution_count": 4,
   "id": "ee2a8121",
   "metadata": {
    "slideshow": {
     "slide_type": "fragment"
    }
   },
   "outputs": [
    {
     "data": {
      "image/png": "[encoded data removed]",
      "text/plain": [
       "<IPython.core.display.Image object>"
      ]
     },
     "metadata": {},
     "output_type": "display_data"
    }
   ],
   "source": [
    "stem(omega,f)\n",
    "title('Line Spectra for pulse with w=2')\n",
    "hold on\n",
    "om = linspace(-15,15,1000);\n",
    "xlabel('\\Omega_0 [rad/s]')\n",
    "xc = om.*pi./w;\n",
    "\n",
    "plot(om,(A/w)*sin(xc)./(xc),'r:')\n",
    "hold off"
   ]
  },
  {
   "cell_type": "markdown",
   "id": "e7ae2101",
   "metadata": {
    "slideshow": {
     "slide_type": "subslide"
    }
   },
   "source": [
    "#### w = 5\n",
    "\n",
    "$\\Omega_0 = 1$ rad/s; $w = 5$; $T = 2\\pi$ s; $T/w = \\pi$ s."
   ]
  },
  {
   "cell_type": "code",
   "execution_count": 5,
   "id": "c0ff44ae",
   "metadata": {},
   "outputs": [
    {
     "data": {
      "image/png": "[encoded data removed]",
      "text/plain": [
       "<IPython.core.display.Image object>"
      ]
     },
     "metadata": {},
     "output_type": "display_data"
    }
   ],
   "source": [
    "A = 1; w = 5; [f,omega] = pulse_fs(A,w,15);\n",
    "stem(omega,f)\n",
    "title('Line Spectra for pulse with w=5')\n",
    "hold on\n",
    "om = linspace(-15,15,1000);\n",
    "xlabel('\\Omega_0 [rad/s]')\n",
    "xc = om.*pi./w;\n",
    "plot(om,(A/w)*sin(xc)./(xc),'r:')\n",
    "hold off"
   ]
  },
  {
   "cell_type": "markdown",
   "id": "8bf70d19",
   "metadata": {
    "slideshow": {
     "slide_type": "subslide"
    }
   },
   "source": [
    "#### w = 10\n",
    "\n",
    "$\\Omega_0 = 1$ rad/s; $w = 10$; $T = 2\\pi$ s; $T/w = \\pi$ s."
   ]
  },
  {
   "cell_type": "code",
   "execution_count": 7,
   "id": "8e27f0bd",
   "metadata": {
    "slideshow": {
     "slide_type": "subslide"
    }
   },
   "outputs": [
    {
     "data": {
      "image/png": "[encoded data removed]",
      "text/plain": [
       "<IPython.core.display.Image object>"
      ]
     },
     "metadata": {},
     "output_type": "display_data"
    }
   ],
   "source": [
    "A = 1; w = 10; [f,omega] = pulse_fs(A,w,15);\n",
    "stem(omega,f)\n",
    "title('Line Spectra for pulse with w=10')\n",
    "hold on\n",
    "om = linspace(-15,15,1000);\n",
    "xlabel('\\Omega_0 [rad/s]')\n",
    "xc = om.*pi./w;\n",
    "plot(om,(A/w)*sin(xc)./(xc),'r:')\n",
    "hold off"
   ]
  },
  {
   "cell_type": "markdown",
   "id": "322c634e",
   "metadata": {
    "slideshow": {
     "slide_type": "subslide"
    }
   },
   "source": [
    "#### Implications\n",
    "\n",
    "* As the width of the pulse **reduces** the width of the freqency spectra needed to fully describe the signal **increases** \n",
    "* more bandwidth is needed to transmit the pulse."
   ]
  },
  {
   "cell_type": "markdown",
   "id": "0e3ff8b6",
   "metadata": {
    "slideshow": {
     "slide_type": "notes"
    }
   },
   "source": [
    "**Note**\n",
    "\n",
    "Text book seems to get the wrong results. Karris plots $\\sin(wx)/(wx)$ rather than $\\sin(x/w)/(x/w)$ in producing the diagrams shown in Figs. 7.36&mdash;7-38.\n",
    "\n",
    "However, if you view $\\sin(wx)/wx$ as in indication of the bandwidth needed to transmit a pulse of width $T/w$ the plots Karris gives make more sense."
   ]
  },
  {
   "cell_type": "markdown",
   "id": "a1cf5641",
   "metadata": {
    "slideshow": {
     "slide_type": "slide"
    }
   },
   "source": [
    "### Example 5\n",
    "\n",
    "Use the result of {ref}`ex:18.1` to compute the exponential Fourier series of the impulse train $\\delta(t\\pm 2\\pi k)$ shown in {numref}`\n",
    "\n",
    ":::{figure-md} fig:ex:18.3\n",
    "<img src=\"pictures/impulse_train.png\" alt=\"An impulse train\" width=\"80%\">\n",
    "\n",
    "An impulse train\n",
    ":::"
   ]
  },
  {
   "cell_type": "markdown",
   "id": "1695599c",
   "metadata": {
    "slideshow": {
     "slide_type": "notes"
    }
   },
   "source": [
    "### Solution\n",
    "\n",
    "To solve this we take the previous result and choose amplitude (height) $A$ so that area of pulse is unity. Then we let width go to zero while maintaining the area of unity. This creates a train of impulses $\\delta(t\\pm 2\\pi k)$.\n",
    "\n",
    "$$C_k  = \\frac{1}{2\\pi}$$\n",
    "\n",
    "and, therefore\n",
    "\n",
    "$$f(t) = \\frac{1}{2\\pi}\\sum_{k=-\\infty}^{\\infty} e^{jk\\Omega_0 t}$$\n",
    "\n",
    "Try it!"
   ]
  },
  {
   "cell_type": "markdown",
   "id": "fa97bfe9",
   "metadata": {
    "slideshow": {
     "slide_type": "notes"
    }
   },
   "source": [
    "#### Proof!\n",
    "\n",
    "From the previous result, \n",
    "\n",
    "$$C_n = \\frac{A}{w}.\\frac{\\sin(k\\pi/w)}{k\\pi/w}$$\n",
    "\n",
    "and the pulse width was defined as $T/w$, that is\n",
    "\n",
    "$$\\frac{T}{w}=\\frac{2\\pi}{w}$$"
   ]
  },
  {
   "cell_type": "markdown",
   "id": "c0b041de",
   "metadata": {
    "slideshow": {
     "slide_type": "notes"
    }
   },
   "source": [
    "Let us take the previous impulse train as a recurrent pulse with amplitude\n",
    "\n",
    "$$A = \\frac{1}{T/w} = \\frac{1}{2\\pi/w} = \\frac{w}{2\\pi}.$$"
   ]
  },
  {
   "cell_type": "markdown",
   "id": "1a36ab62",
   "metadata": {
    "slideshow": {
     "slide_type": "notes"
    }
   },
   "source": [
    "#### Pulse with unit area\n",
    "\n",
    "The area of each pulse is then \n",
    "\n",
    "$$\\frac{2\\pi}{w}\\times\\frac{w}{2\\pi} = 1$$"
   ]
  },
  {
   "cell_type": "markdown",
   "id": "5baaed35",
   "metadata": {
    "slideshow": {
     "slide_type": "notes"
    }
   },
   "source": [
    "and the pulse train is as shown in {numref}`fig:ex:18.3.1` below:\n",
    "\n",
    ":::{figure-md} fig:ex:18.3.1\n",
    "<img src=\"pictures/unit_area_pulses.png\" alt=\"\" width=\"80%\">\n",
    "\n",
    "Pulse train with unit-area pulses\n",
    ":::"
   ]
  },
  {
   "cell_type": "markdown",
   "id": "86af4079",
   "metadata": {
    "slideshow": {
     "slide_type": "notes"
    }
   },
   "source": [
    "#### New coefficents\n",
    "\n",
    "The coefficients of the Exponential Fourier Series are now:\n",
    "    \n",
    "$$C_k = \\frac{w/2\\pi}{w}\\frac{\\sin(k\\pi/w)}{k\\pi/w} = \\frac{1}{2\\pi}\\frac{\\sin(k\\pi/w)}{k\\pi/w}$$\n",
    "\n",
    "and as $\\pi/w \\to 0$ each recurrent pulse becomes a unit impulse, and the pulse train reduces to a unit impulse train."
   ]
  },
  {
   "cell_type": "markdown",
   "id": "e417b7c5",
   "metadata": {
    "slideshow": {
     "slide_type": "notes"
    }
   },
   "source": [
    "Also, recalling that\n",
    "\n",
    "$$\\lim_{x\\to 0} \\frac{\\sin \\pi x}{\\pi x} = 1$$\n",
    "\n",
    "the coefficents reduce to\n",
    "\n",
    "$$C_k = \\frac{1}{2\\pi}$$\n",
    "\n",
    "That is all coefficients have the same amplitude and thus\n",
    "\n",
    "$$f(t) = \\frac{1}{2\\pi}\\sum_{n=-\\infty}^{\\infty} e^{jk\\Omega_0 t}$$"
   ]
  },
  {
   "cell_type": "markdown",
   "id": "5ee4f764",
   "metadata": {
    "slideshow": {
     "slide_type": "notes"
    }
   },
   "source": [
    "#### Spectrum of Unit Impulse Train\n",
    "\n",
    "The line spectrum of a sequence of unit impulses $\\delta(t \\pm kT)$ is shown below:\n",
    "                                                         \n",
    "<img src=\"pictures/impulse_spectrum.png\">"
   ]
  },
  {
   "cell_type": "markdown",
   "id": "71c1875e",
   "metadata": {
    "slideshow": {
     "slide_type": "subslide"
    }
   },
   "source": [
    "#### Another Interesting Result\n",
    "\n",
    "Consider the pulse train again:\n",
    "\n",
    ":::{figure-md} fig:ex:18.3.3\n",
    "<img src=\"pictures/pulse_train.png\" alt=\"Pulse train signal\" width=\"80%\">\n",
    "\n",
    "Pulse train signal\n",
    ":::\n",
    "\n",
    "What happens when the pulses to the left and right of the centre pulse become less and less frequent? That is what happens when $T \\to \\infty$?"
   ]
  },
  {
   "cell_type": "markdown",
   "id": "fbaec54b",
   "metadata": {
    "slideshow": {
     "slide_type": "notes"
    }
   },
   "source": [
    "#### Well?\n",
    "\n",
    "* As $T\\to \\infty$ the fundamental frequency $\\Omega_0 \\to 0$\n",
    "* We are then left with just one pulse centred around $t=0$.\n",
    "* The frequency difference between harmonics also becomes smaller.\n",
    "* Line spectrum becomes a continous function.\n",
    "\n",
    "This result is the basis of the *Fourier Transform* which is coming soon."
   ]
  },
  {
   "cell_type": "markdown",
   "id": "ded1adef",
   "metadata": {},
   "source": [
    "## Summary\n",
    "\n",
    "* {ref}`fs3:fundamental`\n",
    "* {ref}`fs3:harmonics`\n",
    "* {ref}`fs3:line-spectra`\n",
    "* {ref}`examples18`\n",
    "\n",
    "(unit3.3:takeaways)=\n",
    "### Unit 3.3: Takeways\n",
    "\n",
    "The exponential and trigonometric Fourier series coefficients can be plotted as lines on the frequency axis.\n",
    "\n",
    "These line-spectra are useful for reasoning about the frequency components that are present in a periodic signal.\n",
    "\n",
    "This is useful for e.g. computing the bandwidth needed on a medium that is to transmit a signal without loss.\n",
    "\n",
    "We will see next, that we can also use these line spectra to compute power in a signal, the total harmonic distortion present in a signal, and in the design of filters."
   ]
  },
  {
   "cell_type": "markdown",
   "id": "573cd4da",
   "metadata": {},
   "source": [
    "## Next Time\n",
    "\n",
    "We move on to consider \n",
    "\n",
    "* {ref}`unit3.4`\n",
    "\n",
    "## References\n",
    "\n",
    "```{bibliography}\n",
    ":filter: docname in docnames\n",
    "```"
   ]
  },
  {
   "cell_type": "markdown",
   "id": "5e44a0d1",
   "metadata": {
    "slideshow": {
     "slide_type": "notes"
    }
   },
   "source": [
    "(answer_ex6)=\n",
    "### Answer to example 3\n",
    "\n",
    "Given\n",
    "\n",
    "$$C_k = \\frac{1}{2\\pi}\\int_{-\\pi}^{\\pi} f(t)e^{-jk\\theta}\\,d\\theta$$\n",
    "\n",
    "* Is the function **even** or **odd**? **even** $f(t) = f(-t)$!\n",
    "* Does the signal have **half-wave symmetry**? No!\n",
    "* What are the cosequencies of symmetry on the form of the coefficients $C_k$? $C_k$ will be real values. Trig. equivalent no sine terms.\n",
    "* What function do we actually need to integrate to compute $C_k$? We only need to integrate between the limits $-\\pi/w \\to \\pi/w$\n",
    "\n",
    "$$C_k = \\frac{1}{2\\pi}\\int_{-\\pi/w}^{\\pi/w} Ae^{-jk\\theta}\\,d\\theta = \\frac{A}{2\\pi}\\int_{-\\pi/w}^{\\pi/w} e^{-jk\\theta}\\,d\\theta $$"
   ]
  },
  {
   "cell_type": "markdown",
   "id": "2c6e2ca0",
   "metadata": {
    "slideshow": {
     "slide_type": "notes"
    }
   },
   "source": [
    "### Solution: DC component!\n",
    "\n",
    "$$C_0 = \\left.\\frac{A}{2\\pi}\\,\\theta\\,\\right|_{-\\pi/w}^{\\pi/w} = \\frac{A}{2\\pi}\\left(\\frac{\\pi}{w}+\\frac{\\pi}{w}\\right)$$\n",
    "\n",
    "or\n",
    "\n",
    "$$C_0 = \\frac{A}{w}$$"
   ]
  },
  {
   "cell_type": "markdown",
   "id": "c6b4d1f2",
   "metadata": {
    "slideshow": {
     "slide_type": "notes"
    }
   },
   "source": [
    "### Harmonic coefficients!\n",
    "\n",
    "$$C_k = \\left.\\frac{A}{-jk2\\pi}\\,e^{-jk(\\omega t)}\\,\\right|_{-\\pi/w}^{\\pi/w} = \\frac{A}{k\\pi}\\left(\\frac{e^{jk\\pi/w}-e^{-jk\\pi/w}}{j2}\\right) = \\frac{A}{k\\pi}\\sin\\left(\\frac{k\\pi}{w}\\right)$$\n",
    "\n",
    "$$C_k = \\frac{A}{w}\\frac{sin\\left(k\\pi/w\\right)}{k\\pi/w}$$"
   ]
  },
  {
   "cell_type": "markdown",
   "id": "25166244",
   "metadata": {
    "slideshow": {
     "slide_type": "notes"
    }
   },
   "source": [
    "### Exponential Fourier Series!\n",
    "\n",
    "$$f(t)=\\sum_{k=-\\infty}^{\\infty}\\;\\frac{A}{w}\\,\\frac{\\sin\\left(k\\pi/w\\right)}{k\\pi/w} e^{-k\\Omega_0 t}$$"
   ]
  }
 ],
 "metadata": {
  "celltoolbar": "Slideshow",
  "jupytext": {
   "formats": "ipynb,md:myst"
  },
  "kernelspec": {
   "display_name": "Matlab",
   "language": "matlab",
   "name": "matlab"
  },
  "language_info": {
   "codemirror_mode": "octave",
   "file_extension": ".m",
   "help_links": [
    {
     "text": "MetaKernel Magics",
     "url": "https://metakernel.readthedocs.io/en/latest/source/README.html"
    }
   ],
   "mimetype": "text/x-octave",
   "name": "matlab",
   "version": "0.17.1"
  }
 },
 "nbformat": 4,
 "nbformat_minor": 5
}
