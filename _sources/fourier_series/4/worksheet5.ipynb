{
 "cells": [
  {
   "cell_type": "markdown",
   "id": "cbc2bf37",
   "metadata": {
    "slideshow": {
     "slide_type": "slide"
    }
   },
   "source": [
    "(ws5)=\n",
    "\n",
    "# Worksheet 5\n",
    "\n",
    "## To accompany Unit 3.4 Applications of Line Spectra"
   ]
  },
  {
   "cell_type": "markdown",
   "id": "ac682495",
   "metadata": {
    "slideshow": {
     "slide_type": "notes"
    }
   },
   "source": [
    "## Colophon\n",
    "\n",
    "This worksheet can be downloaded as a [PDF file](https://cpjobling.github.io/eg-247-textbook/worksheets/worksheet5.pdf). We will step through this worksheet in class.\n",
    "\n",
    "An annotatable copy of the notes for this presentation will be distributed before the second class meeting as **Worksheet 5** in the **Week 4: Classroom Activities** section of the Canvas site. I will also distribute a copy to your personal **Worksheets** section of the **OneNote Class Notebook** so that you can add your own notes using OneNote.\n",
    "\n",
    "You are expected to have at least watched the video presentation of {ref}`unit3.4` of the [notes](https://cpjobling.github.io/eg-247-textbook/) before coming to class. If you haven't watch it afterwards!\n",
    "\n",
    "After class, the lecture recording and the annotated version of the worksheets will be made available through Canvas."
   ]
  },
  {
   "cell_type": "markdown",
   "id": "6e5a3446",
   "metadata": {
    "slideshow": {
     "slide_type": "slide"
    }
   },
   "source": [
    "## Power in Periodic Signals"
   ]
  },
  {
   "cell_type": "markdown",
   "id": "aff8935f",
   "metadata": {
    "slideshow": {
     "slide_type": "subslide"
    }
   },
   "source": [
    "In your previous courses you may have come across the definitions of Signal Energy, Average Signal Power and Root Mean Square Power:\n",
    "\n",
    "$$E = \\int_0^T |f(t)|^2 dt$$\n",
    "\n",
    "$$P_{\\mathrm{av}} = \\frac{1}{T}\\int_0^T |f(t)|^2 dt$$\n",
    "\n",
    "$$P_{\\mathrm{RMS}} = \\sqrt{\\frac{1}{T}\\int_0^T |f(t)|^2 dt}$$"
   ]
  },
  {
   "cell_type": "markdown",
   "id": "6ef6e1da",
   "metadata": {
    "slideshow": {
     "slide_type": "subslide"
    }
   },
   "source": [
    "### Parseval's Theorem\n",
    "\n",
    "[Parseval's Theorem](https://en.wikipedia.org/wiki/Parseval's_theorem) states that the total average power of a periodic signal $f(t)$ is equal to the sum of the average powers of all its harmonic components.\n",
    "\n",
    "The power in the $k$th harmonic $C_ke^{jk\\Omega_0 t}$ is given by\n",
    "\n",
    "$$P_k = \\frac{1}{T}\\int_0^T\\left|C_ke^{jk\\Omega_0 t}\\right|^2\\,dt = \\frac{1}{T}\\int_0^T\\left|C_k\\right|^2\\,dt=\\left|C_k\\right|^2$$\n",
    "\n",
    "Since $P_k = P_{-k}$, the total power of the $k$th harmomic is $2P_k$."
   ]
  },
  {
   "cell_type": "markdown",
   "id": "bd9d6e4a",
   "metadata": {
    "slideshow": {
     "slide_type": "notes"
    }
   },
   "source": [
    "You should note that $|C_k| = \\sqrt{C_k C_k^*}$ so $|C_k|^2 = C_k C_k^*$."
   ]
  },
  {
   "cell_type": "markdown",
   "id": "63ef19c0",
   "metadata": {
    "slideshow": {
     "slide_type": "subslide"
    }
   },
   "source": [
    "Parseval's theorem states that\n",
    "\n",
    "$$P = \\frac{1}{T}\\int_0^T \\left|f(t)\\right|^2\\,dt = \\sum_{k=-\\infty}^{\\infty}\\left|C_k\\right|^2.$$"
   ]
  },
  {
   "cell_type": "markdown",
   "id": "e4f18583",
   "metadata": {
    "slideshow": {
     "slide_type": "subslide"
    }
   },
   "source": [
    "### RMS Power\n",
    "\n",
    "By a similar argument:\n",
    "\n",
    "$$P_{\\mathrm{RMS}} = \\sqrt{\\frac{1}{T}\\int_0^T \\left|f(t)\\right|^2\\,dt} = \\sqrt{\\sum_{k=-\\infty}^{\\infty}\\left|C_k\\right|^2}.$$"
   ]
  },
  {
   "cell_type": "markdown",
   "id": "d910f61c",
   "metadata": {
    "slideshow": {
     "slide_type": "subslide"
    }
   },
   "source": [
    "(ex:ws:19.1)=\n",
    "\n",
    "### Example 6\n",
    "\n",
    "Compute the average power of a pulse train for which the pulse width is $T/2$ (duty cycle 50%). Use the result:\n",
    "\n",
    "$$C_k = \\frac{A}{w}.\\frac{\\sin(k\\pi/w)}{k\\pi/w} = \\frac{A}{2}\\mathop{\\rm sinc}\\left(\\frac{k}{w}\\right)$$\n",
    "\n",
    "as your starting point."
   ]
  },
  {
   "cell_type": "markdown",
   "id": "849b8a43",
   "metadata": {
    "slideshow": {
     "slide_type": "notes"
    }
   },
   "source": [
    "### Solution\n",
    "\n",
    "<pre style=\"border: 2px solid blue\">\n",
    "\n",
    "\n",
    "\n",
    "\n",
    "\n",
    "\n",
    "\n",
    "\n",
    "\n",
    "\n",
    "\n",
    "\n",
    "\n",
    "\n",
    "\n",
    "</pre>"
   ]
  },
  {
   "cell_type": "markdown",
   "id": "e4b3a42e",
   "metadata": {
    "slideshow": {
     "slide_type": "slide"
    }
   },
   "source": [
    "(ex:ws:19.2)=\n",
    "\n",
    "### Example 7: Power Spectrum\n",
    "\n",
    "Compute and display the power spectrum for the signal of {ref}`ex:ws:19.1`."
   ]
  },
  {
   "cell_type": "code",
   "execution_count": 4,
   "id": "a544ee29",
   "metadata": {},
   "outputs": [],
   "source": [
    "clear all\n",
    "cd ../matlab\n",
    "format compact; \n",
    "setappdata(0, \"MKernel_plot_format\", 'svg')"
   ]
  },
  {
   "cell_type": "code",
   "execution_count": 7,
   "id": "82e51bfe",
   "metadata": {
    "slideshow": {
     "slide_type": "subslide"
    }
   },
   "outputs": [],
   "source": [
    "A = 1; w = 10;\n",
    "[f,omega] = pulse_fs(A,w,15);"
   ]
  },
  {
   "cell_type": "markdown",
   "id": "bd94c1fb",
   "metadata": {
    "slideshow": {
     "slide_type": "subslide"
    }
   },
   "source": [
    "Power spectrum"
   ]
  },
  {
   "cell_type": "code",
   "execution_count": 8,
   "id": "265e4c57",
   "metadata": {
    "slideshow": {
     "slide_type": "subslide"
    }
   },
   "outputs": [
    {
     "data": {
      "image/svg+xml": [
       "<?xml version=\"1.0\" encoding=\"UTF-8\" standalone=\"no\"?>\n",
       "<svg width=\"294.217mm\" height=\"177.094mm\"\n",
       " viewBox=\"0 0 834 502\"\n",
       " xmlns=\"http://www.w3.org/2000/svg\" xmlns:xlink=\"http://www.w3.org/1999/xlink\"  version=\"1.2\" baseProfile=\"tiny\">\n",
       "<title>Qt SVG Document</title>\n",
       "<desc>MATLAB, The MathWorks, Inc. Version 25.1.0.2833191 R2025a Prerelease Update 2</desc>\n",
       "<defs>\n",
       "</defs>\n",
       "<g fill=\"none\" stroke=\"black\" stroke-width=\"1\" fill-rule=\"evenodd\" stroke-linecap=\"square\" stroke-linejoin=\"bevel\" >\n",
       "\n",
       "<g fill=\"#ffffff\" fill-opacity=\"1\" stroke=\"none\" transform=\"matrix(0.49985,0,0,0.499751,0,0)\"\n",
       "font-family=\".AppleSystemUIFont\" font-size=\"13\" font-weight=\"400\" font-style=\"normal\" \n",
       ">\n",
       "<path vector-effect=\"none\" fill-rule=\"evenodd\" d=\"M0,0 L1668,0 L1668,1005 L0,1005 L0,0\"/>\n",
       "</g>\n",
       "\n",
       "<g fill=\"#ffffff\" fill-opacity=\"1\" stroke=\"none\" transform=\"matrix(4.9985e-05,0,0,4.99751e-05,0,0)\"\n",
       "font-family=\".AppleSystemUIFont\" font-size=\"13\" font-weight=\"400\" font-style=\"normal\" \n",
       ">\n",
       "<path vector-effect=\"none\" fill-rule=\"evenodd\" d=\"M2.17e+06,750000 L2.17e+06,8.93e+06 L1.508e+07,8.93e+06 L1.508e+07,750000 L2.17e+06,750000\"/>\n",
       "</g>\n",
       "\n",
       "<g fill=\"#212121\" fill-opacity=\"1\" stroke=\"#212121\" stroke-opacity=\"1\" stroke-width=\"1\" stroke-linecap=\"square\" stroke-linejoin=\"bevel\" transform=\"matrix(0,-0.499751,0.49985,0,68.4795,253.374)\"\n",
       "font-family=\"Helvetica\" font-size=\"22\" font-weight=\"400\" font-style=\"normal\" \n",
       ">\n",
       "<text fill=\"#212121\" fill-opacity=\"1\" stroke=\"none\" xml:space=\"preserve\" x=\"0\" y=\"-0.0625\" font-family=\"Helvetica\" font-size=\"22\" font-weight=\"400\" font-style=\"normal\" \n",
       " >|C</text>\n",
       "</g>\n",
       "\n",
       "<g fill=\"#212121\" fill-opacity=\"1\" stroke=\"#212121\" stroke-opacity=\"1\" stroke-width=\"1\" stroke-linecap=\"square\" stroke-linejoin=\"bevel\" transform=\"matrix(0,-0.499751,0.49985,0,73.9778,242.379)\"\n",
       "font-family=\"Helvetica\" font-size=\"17\" font-weight=\"400\" font-style=\"normal\" \n",
       ">\n",
       "<text fill=\"#212121\" fill-opacity=\"1\" stroke=\"none\" xml:space=\"preserve\" x=\"0\" y=\"0.078125\" font-family=\"Helvetica\" font-size=\"17\" font-weight=\"400\" font-style=\"normal\" \n",
       " >k</text>\n",
       "</g>\n",
       "\n",
       "<g fill=\"#212121\" fill-opacity=\"1\" stroke=\"#212121\" stroke-opacity=\"1\" stroke-width=\"1\" stroke-linecap=\"square\" stroke-linejoin=\"bevel\" transform=\"matrix(0,-0.499751,0.49985,0,68.4795,237.881)\"\n",
       "font-family=\"Helvetica\" font-size=\"22\" font-weight=\"400\" font-style=\"normal\" \n",
       ">\n",
       "<text fill=\"#212121\" fill-opacity=\"1\" stroke=\"none\" xml:space=\"preserve\" x=\"0\" y=\"-0.0625\" font-family=\"Helvetica\" font-size=\"22\" font-weight=\"400\" font-style=\"normal\" \n",
       " >|</text>\n",
       "</g>\n",
       "\n",
       "<g fill=\"#212121\" fill-opacity=\"1\" stroke=\"#212121\" stroke-opacity=\"1\" stroke-width=\"1\" stroke-linecap=\"square\" stroke-linejoin=\"bevel\" transform=\"matrix(0,-0.499751,0.49985,0,62.9811,234.883)\"\n",
       "font-family=\"Helvetica\" font-size=\"17\" font-weight=\"400\" font-style=\"normal\" \n",
       ">\n",
       "<text fill=\"#212121\" fill-opacity=\"1\" stroke=\"none\" xml:space=\"preserve\" x=\"0\" y=\"0.078125\" font-family=\"Helvetica\" font-size=\"17\" font-weight=\"400\" font-style=\"normal\" \n",
       " >2</text>\n",
       "</g>\n",
       "\n",
       "<g fill=\"#212121\" fill-opacity=\"1\" stroke=\"#212121\" stroke-opacity=\"1\" stroke-width=\"1\" stroke-linecap=\"butt\" stroke-linejoin=\"round\" transform=\"matrix(0.49985,0,0,0.499751,0,0)\"\n",
       "font-family=\"Helvetica\" font-size=\"17\" font-weight=\"400\" font-style=\"normal\" \n",
       ">\n",
       "<polyline fill=\"none\" vector-effect=\"none\" points=\"217,893 217,75 \" />\n",
       "<polyline fill=\"none\" vector-effect=\"none\" points=\"1508,893 1508,75 \" />\n",
       "<polyline fill=\"none\" vector-effect=\"none\" points=\"217,893 229.91,893 \" />\n",
       "<polyline fill=\"none\" vector-effect=\"none\" points=\"1495.09,893 1508,893 \" />\n",
       "<polyline fill=\"none\" vector-effect=\"none\" points=\"217,756.667 229.91,756.667 \" />\n",
       "<polyline fill=\"none\" vector-effect=\"none\" points=\"1495.09,756.667 1508,756.667 \" />\n",
       "<polyline fill=\"none\" vector-effect=\"none\" points=\"217,620.333 229.91,620.333 \" />\n",
       "<polyline fill=\"none\" vector-effect=\"none\" points=\"1495.09,620.333 1508,620.333 \" />\n",
       "<polyline fill=\"none\" vector-effect=\"none\" points=\"217,484 229.91,484 \" />\n",
       "<polyline fill=\"none\" vector-effect=\"none\" points=\"1495.09,484 1508,484 \" />\n",
       "<polyline fill=\"none\" vector-effect=\"none\" points=\"217,347.667 229.91,347.667 \" />\n",
       "<polyline fill=\"none\" vector-effect=\"none\" points=\"1495.09,347.667 1508,347.667 \" />\n",
       "<polyline fill=\"none\" vector-effect=\"none\" points=\"217,211.333 229.91,211.333 \" />\n",
       "<polyline fill=\"none\" vector-effect=\"none\" points=\"1495.09,211.333 1508,211.333 \" />\n",
       "<polyline fill=\"none\" vector-effect=\"none\" points=\"217,75 229.91,75 \" />\n",
       "<polyline fill=\"none\" vector-effect=\"none\" points=\"1495.09,75 1508,75 \" />\n",
       "</g>\n",
       "\n",
       "<g fill=\"#212121\" fill-opacity=\"1\" stroke=\"#212121\" stroke-opacity=\"1\" stroke-width=\"1\" stroke-linecap=\"square\" stroke-linejoin=\"bevel\" transform=\"matrix(0.49985,0,0,0.499751,98.9703,448.776)\"\n",
       "font-family=\"Helvetica\" font-size=\"20\" font-weight=\"400\" font-style=\"normal\" \n",
       ">\n",
       "<text fill=\"#212121\" fill-opacity=\"1\" stroke=\"none\" xml:space=\"preserve\" x=\"0\" y=\"0.390625\" font-family=\"Helvetica\" font-size=\"20\" font-weight=\"400\" font-style=\"normal\" \n",
       " >0</text>\n",
       "</g>\n",
       "\n",
       "<g fill=\"#212121\" fill-opacity=\"1\" stroke=\"#212121\" stroke-opacity=\"1\" stroke-width=\"1\" stroke-linecap=\"square\" stroke-linejoin=\"bevel\" transform=\"matrix(0.49985,0,0,0.499751,79.4761,380.644)\"\n",
       "font-family=\"Helvetica\" font-size=\"20\" font-weight=\"400\" font-style=\"normal\" \n",
       ">\n",
       "<text fill=\"#212121\" fill-opacity=\"1\" stroke=\"none\" xml:space=\"preserve\" x=\"0\" y=\"0.390625\" font-family=\"Helvetica\" font-size=\"20\" font-weight=\"400\" font-style=\"normal\" \n",
       " >0.002</text>\n",
       "</g>\n",
       "\n",
       "<g fill=\"#212121\" fill-opacity=\"1\" stroke=\"#212121\" stroke-opacity=\"1\" stroke-width=\"1\" stroke-linecap=\"square\" stroke-linejoin=\"bevel\" transform=\"matrix(0.49985,0,0,0.499751,79.4761,312.511)\"\n",
       "font-family=\"Helvetica\" font-size=\"20\" font-weight=\"400\" font-style=\"normal\" \n",
       ">\n",
       "<text fill=\"#212121\" fill-opacity=\"1\" stroke=\"none\" xml:space=\"preserve\" x=\"0\" y=\"0.390625\" font-family=\"Helvetica\" font-size=\"20\" font-weight=\"400\" font-style=\"normal\" \n",
       " >0.004</text>\n",
       "</g>\n",
       "\n",
       "<g fill=\"#212121\" fill-opacity=\"1\" stroke=\"#212121\" stroke-opacity=\"1\" stroke-width=\"1\" stroke-linecap=\"square\" stroke-linejoin=\"bevel\" transform=\"matrix(0.49985,0,0,0.499751,79.4761,244.378)\"\n",
       "font-family=\"Helvetica\" font-size=\"20\" font-weight=\"400\" font-style=\"normal\" \n",
       ">\n",
       "<text fill=\"#212121\" fill-opacity=\"1\" stroke=\"none\" xml:space=\"preserve\" x=\"0\" y=\"0.390625\" font-family=\"Helvetica\" font-size=\"20\" font-weight=\"400\" font-style=\"normal\" \n",
       " >0.006</text>\n",
       "</g>\n",
       "\n",
       "<g fill=\"#212121\" fill-opacity=\"1\" stroke=\"#212121\" stroke-opacity=\"1\" stroke-width=\"1\" stroke-linecap=\"square\" stroke-linejoin=\"bevel\" transform=\"matrix(0.49985,0,0,0.499751,79.4761,176.245)\"\n",
       "font-family=\"Helvetica\" font-size=\"20\" font-weight=\"400\" font-style=\"normal\" \n",
       ">\n",
       "<text fill=\"#212121\" fill-opacity=\"1\" stroke=\"none\" xml:space=\"preserve\" x=\"0\" y=\"0.390625\" font-family=\"Helvetica\" font-size=\"20\" font-weight=\"400\" font-style=\"normal\" \n",
       " >0.008</text>\n",
       "</g>\n",
       "\n",
       "<g fill=\"#212121\" fill-opacity=\"1\" stroke=\"#212121\" stroke-opacity=\"1\" stroke-width=\"1\" stroke-linecap=\"square\" stroke-linejoin=\"bevel\" transform=\"matrix(0.49985,0,0,0.499751,84.9745,108.113)\"\n",
       "font-family=\"Helvetica\" font-size=\"20\" font-weight=\"400\" font-style=\"normal\" \n",
       ">\n",
       "<text fill=\"#212121\" fill-opacity=\"1\" stroke=\"none\" xml:space=\"preserve\" x=\"0\" y=\"0.390625\" font-family=\"Helvetica\" font-size=\"20\" font-weight=\"400\" font-style=\"normal\" \n",
       " >0.01</text>\n",
       "</g>\n",
       "\n",
       "<g fill=\"#212121\" fill-opacity=\"1\" stroke=\"#212121\" stroke-opacity=\"1\" stroke-width=\"1\" stroke-linecap=\"square\" stroke-linejoin=\"bevel\" transform=\"matrix(0.49985,0,0,0.499751,79.4761,39.9801)\"\n",
       "font-family=\"Helvetica\" font-size=\"20\" font-weight=\"400\" font-style=\"normal\" \n",
       ">\n",
       "<text fill=\"#212121\" fill-opacity=\"1\" stroke=\"none\" xml:space=\"preserve\" x=\"0\" y=\"0.390625\" font-family=\"Helvetica\" font-size=\"20\" font-weight=\"400\" font-style=\"normal\" \n",
       " >0.012</text>\n",
       "</g>\n",
       "\n",
       "<g fill=\"#212121\" fill-opacity=\"1\" stroke=\"#212121\" stroke-opacity=\"1\" stroke-width=\"1\" stroke-linecap=\"square\" stroke-linejoin=\"bevel\" transform=\"matrix(0.49985,0,0,0.499751,337.649,33.6083)\"\n",
       "font-family=\"Helvetica\" font-size=\"22\" font-weight=\"700\" font-style=\"normal\" \n",
       ">\n",
       "<text fill=\"#212121\" fill-opacity=\"1\" stroke=\"none\" xml:space=\"preserve\" x=\"0\" y=\"-0.0625\" font-family=\"Helvetica\" font-size=\"22\" font-weight=\"700\" font-style=\"normal\" \n",
       " >Power Spectrum for pulse width T/2</text>\n",
       "</g>\n",
       "\n",
       "<g fill=\"#212121\" fill-opacity=\"1\" stroke=\"#212121\" stroke-opacity=\"1\" stroke-width=\"1\" stroke-linecap=\"butt\" stroke-linejoin=\"round\" transform=\"matrix(0.49985,0,0,0.499751,0,0)\"\n",
       "font-family=\"Helvetica\" font-size=\"22\" font-weight=\"700\" font-style=\"normal\" \n",
       ">\n",
       "<polyline fill=\"none\" vector-effect=\"none\" points=\"217,893 1508,893 \" />\n",
       "</g>\n",
       "\n",
       "<g fill=\"#1171be\" fill-opacity=\"1\" stroke=\"#1171be\" stroke-opacity=\"1\" stroke-width=\"1\" stroke-linecap=\"butt\" stroke-linejoin=\"round\" transform=\"matrix(0.49985,0,0,0.499751,0,0)\"\n",
       "font-family=\"Helvetica\" font-size=\"22\" font-weight=\"700\" font-style=\"normal\" \n",
       ">\n",
       "<polyline fill=\"none\" vector-effect=\"none\" points=\"248.681,893 248.681,862.303 \" />\n",
       "<polyline fill=\"none\" vector-effect=\"none\" points=\"289.602,893 289.602,861.127 \" />\n",
       "<polyline fill=\"none\" vector-effect=\"none\" points=\"330.524,893 330.524,866.251 \" />\n",
       "<polyline fill=\"none\" vector-effect=\"none\" points=\"371.445,893 371.445,876.429 \" />\n",
       "<polyline fill=\"none\" vector-effect=\"none\" points=\"412.366,893 412.366,887.549 \" />\n",
       "<polyline fill=\"none\" vector-effect=\"none\" points=\"494.209,893 494.209,884.858 \" />\n",
       "<polyline fill=\"none\" vector-effect=\"none\" points=\"535.13,893 535.13,855.715 \" />\n",
       "<polyline fill=\"none\" vector-effect=\"none\" points=\"576.051,893 576.051,800.745 \" />\n",
       "<polyline fill=\"none\" vector-effect=\"none\" points=\"616.972,893 616.972,719.467 \" />\n",
       "<polyline fill=\"none\" vector-effect=\"none\" points=\"657.894,893 657.894,616.731 \" />\n",
       "<polyline fill=\"none\" vector-effect=\"none\" points=\"698.815,893 698.815,502.55 \" />\n",
       "<polyline fill=\"none\" vector-effect=\"none\" points=\"739.736,893 739.736,390.721 \" />\n",
       "<polyline fill=\"none\" vector-effect=\"none\" points=\"780.657,893 780.657,296.446 \" />\n",
       "<polyline fill=\"none\" vector-effect=\"none\" points=\"821.579,893 821.579,233.466 \" />\n",
       "<polyline fill=\"none\" vector-effect=\"none\" points=\"862.5,893 862.5,211.333 \" />\n",
       "<polyline fill=\"none\" vector-effect=\"none\" points=\"903.421,893 903.421,233.466 \" />\n",
       "<polyline fill=\"none\" vector-effect=\"none\" points=\"944.343,893 944.343,296.446 \" />\n",
       "<polyline fill=\"none\" vector-effect=\"none\" points=\"985.264,893 985.264,390.721 \" />\n",
       "<polyline fill=\"none\" vector-effect=\"none\" points=\"1026.19,893 1026.19,502.55 \" />\n",
       "<polyline fill=\"none\" vector-effect=\"none\" points=\"1067.11,893 1067.11,616.731 \" />\n",
       "<polyline fill=\"none\" vector-effect=\"none\" points=\"1108.03,893 1108.03,719.467 \" />\n",
       "<polyline fill=\"none\" vector-effect=\"none\" points=\"1148.95,893 1148.95,800.745 \" />\n",
       "<polyline fill=\"none\" vector-effect=\"none\" points=\"1189.87,893 1189.87,855.715 \" />\n",
       "<polyline fill=\"none\" vector-effect=\"none\" points=\"1230.79,893 1230.79,884.858 \" />\n",
       "<polyline fill=\"none\" vector-effect=\"none\" points=\"1312.63,893 1312.63,887.549 \" />\n",
       "<polyline fill=\"none\" vector-effect=\"none\" points=\"1353.56,893 1353.56,876.429 \" />\n",
       "<polyline fill=\"none\" vector-effect=\"none\" points=\"1394.48,893 1394.48,866.251 \" />\n",
       "<polyline fill=\"none\" vector-effect=\"none\" points=\"1435.4,893 1435.4,861.127 \" />\n",
       "<polyline fill=\"none\" vector-effect=\"none\" points=\"1476.32,893 1476.32,862.303 \" />\n",
       "</g>\n",
       "\n",
       "<g fill=\"none\" stroke=\"#1171be\" stroke-opacity=\"1\" stroke-width=\"1\" stroke-linecap=\"butt\" stroke-linejoin=\"miter\" stroke-miterlimit=\"2\" transform=\"matrix(0.49985,0,0,0.499751,0,0)\"\n",
       "font-family=\"Helvetica\" font-size=\"22\" font-weight=\"700\" font-style=\"normal\" \n",
       ">\n",
       "<path vector-effect=\"none\" fill-rule=\"evenodd\" d=\"M254.681,862.303 C254.681,858.99 251.995,856.303 248.681,856.303 C245.367,856.303 242.681,858.99 242.681,862.303 C242.681,865.617 245.367,868.303 248.681,868.303 C251.995,868.303 254.681,865.617 254.681,862.303 \"/>\n",
       "</g>\n",
       "\n",
       "<g fill=\"none\" stroke=\"#1171be\" stroke-opacity=\"1\" stroke-width=\"1\" stroke-linecap=\"butt\" stroke-linejoin=\"miter\" stroke-miterlimit=\"2\" transform=\"matrix(0.49985,0,0,0.499751,0,0)\"\n",
       "font-family=\"Helvetica\" font-size=\"22\" font-weight=\"700\" font-style=\"normal\" \n",
       ">\n",
       "<path vector-effect=\"none\" fill-rule=\"evenodd\" d=\"M295.602,861.127 C295.602,857.813 292.916,855.127 289.602,855.127 C286.289,855.127 283.602,857.813 283.602,861.127 C283.602,864.44 286.289,867.127 289.602,867.127 C292.916,867.127 295.602,864.44 295.602,861.127 \"/>\n",
       "</g>\n",
       "\n",
       "<g fill=\"none\" stroke=\"#1171be\" stroke-opacity=\"1\" stroke-width=\"1\" stroke-linecap=\"butt\" stroke-linejoin=\"miter\" stroke-miterlimit=\"2\" transform=\"matrix(0.49985,0,0,0.499751,0,0)\"\n",
       "font-family=\"Helvetica\" font-size=\"22\" font-weight=\"700\" font-style=\"normal\" \n",
       ">\n",
       "<path vector-effect=\"none\" fill-rule=\"evenodd\" d=\"M336.524,866.251 C336.524,862.938 333.837,860.251 330.524,860.251 C327.21,860.251 324.524,862.938 324.524,866.251 C324.524,869.565 327.21,872.251 330.524,872.251 C333.837,872.251 336.524,869.565 336.524,866.251 \"/>\n",
       "</g>\n",
       "\n",
       "<g fill=\"none\" stroke=\"#1171be\" stroke-opacity=\"1\" stroke-width=\"1\" stroke-linecap=\"butt\" stroke-linejoin=\"miter\" stroke-miterlimit=\"2\" transform=\"matrix(0.49985,0,0,0.499751,0,0)\"\n",
       "font-family=\"Helvetica\" font-size=\"22\" font-weight=\"700\" font-style=\"normal\" \n",
       ">\n",
       "<path vector-effect=\"none\" fill-rule=\"evenodd\" d=\"M377.445,876.429 C377.445,873.115 374.759,870.429 371.445,870.429 C368.131,870.429 365.445,873.115 365.445,876.429 C365.445,879.743 368.131,882.429 371.445,882.429 C374.759,882.429 377.445,879.743 377.445,876.429 \"/>\n",
       "</g>\n",
       "\n",
       "<g fill=\"none\" stroke=\"#1171be\" stroke-opacity=\"1\" stroke-width=\"1\" stroke-linecap=\"butt\" stroke-linejoin=\"miter\" stroke-miterlimit=\"2\" transform=\"matrix(0.49985,0,0,0.499751,0,0)\"\n",
       "font-family=\"Helvetica\" font-size=\"22\" font-weight=\"700\" font-style=\"normal\" \n",
       ">\n",
       "<path vector-effect=\"none\" fill-rule=\"evenodd\" d=\"M418.366,887.549 C418.366,884.236 415.68,881.549 412.366,881.549 C409.052,881.549 406.366,884.236 406.366,887.549 C406.366,890.863 409.052,893.549 412.366,893.549 C415.68,893.549 418.366,890.863 418.366,887.549 \"/>\n",
       "</g>\n",
       "\n",
       "<g fill=\"none\" stroke=\"#1171be\" stroke-opacity=\"1\" stroke-width=\"1\" stroke-linecap=\"butt\" stroke-linejoin=\"miter\" stroke-miterlimit=\"2\" transform=\"matrix(0.49985,0,0,0.499751,0,0)\"\n",
       "font-family=\"Helvetica\" font-size=\"22\" font-weight=\"700\" font-style=\"normal\" \n",
       ">\n",
       "<path vector-effect=\"none\" fill-rule=\"evenodd\" d=\"M459.287,893 C459.287,889.686 456.601,887 453.287,887 C449.974,887 447.287,889.686 447.287,893 C447.287,896.314 449.974,899 453.287,899 C456.601,899 459.287,896.314 459.287,893 \"/>\n",
       "</g>\n",
       "\n",
       "<g fill=\"none\" stroke=\"#1171be\" stroke-opacity=\"1\" stroke-width=\"1\" stroke-linecap=\"butt\" stroke-linejoin=\"miter\" stroke-miterlimit=\"2\" transform=\"matrix(0.49985,0,0,0.499751,0,0)\"\n",
       "font-family=\"Helvetica\" font-size=\"22\" font-weight=\"700\" font-style=\"normal\" \n",
       ">\n",
       "<path vector-effect=\"none\" fill-rule=\"evenodd\" d=\"M500.209,884.858 C500.209,881.544 497.522,878.858 494.209,878.858 C490.895,878.858 488.209,881.544 488.209,884.858 C488.209,888.171 490.895,890.858 494.209,890.858 C497.522,890.858 500.209,888.171 500.209,884.858 \"/>\n",
       "</g>\n",
       "\n",
       "<g fill=\"none\" stroke=\"#1171be\" stroke-opacity=\"1\" stroke-width=\"1\" stroke-linecap=\"butt\" stroke-linejoin=\"miter\" stroke-miterlimit=\"2\" transform=\"matrix(0.49985,0,0,0.499751,0,0)\"\n",
       "font-family=\"Helvetica\" font-size=\"22\" font-weight=\"700\" font-style=\"normal\" \n",
       ">\n",
       "<path vector-effect=\"none\" fill-rule=\"evenodd\" d=\"M541.13,855.715 C541.13,852.402 538.444,849.715 535.13,849.715 C531.816,849.715 529.13,852.402 529.13,855.715 C529.13,859.029 531.816,861.715 535.13,861.715 C538.444,861.715 541.13,859.029 541.13,855.715 \"/>\n",
       "</g>\n",
       "\n",
       "<g fill=\"none\" stroke=\"#1171be\" stroke-opacity=\"1\" stroke-width=\"1\" stroke-linecap=\"butt\" stroke-linejoin=\"miter\" stroke-miterlimit=\"2\" transform=\"matrix(0.49985,0,0,0.499751,0,0)\"\n",
       "font-family=\"Helvetica\" font-size=\"22\" font-weight=\"700\" font-style=\"normal\" \n",
       ">\n",
       "<path vector-effect=\"none\" fill-rule=\"evenodd\" d=\"M582.051,800.745 C582.051,797.431 579.365,794.745 576.051,794.745 C572.737,794.745 570.051,797.431 570.051,800.745 C570.051,804.058 572.737,806.745 576.051,806.745 C579.365,806.745 582.051,804.058 582.051,800.745 \"/>\n",
       "</g>\n",
       "\n",
       "<g fill=\"none\" stroke=\"#1171be\" stroke-opacity=\"1\" stroke-width=\"1\" stroke-linecap=\"butt\" stroke-linejoin=\"miter\" stroke-miterlimit=\"2\" transform=\"matrix(0.49985,0,0,0.499751,0,0)\"\n",
       "font-family=\"Helvetica\" font-size=\"22\" font-weight=\"700\" font-style=\"normal\" \n",
       ">\n",
       "<path vector-effect=\"none\" fill-rule=\"evenodd\" d=\"M622.972,719.467 C622.972,716.153 620.286,713.467 616.972,713.467 C613.659,713.467 610.972,716.153 610.972,719.467 C610.972,722.781 613.659,725.467 616.972,725.467 C620.286,725.467 622.972,722.781 622.972,719.467 \"/>\n",
       "</g>\n",
       "\n",
       "<g fill=\"none\" stroke=\"#1171be\" stroke-opacity=\"1\" stroke-width=\"1\" stroke-linecap=\"butt\" stroke-linejoin=\"miter\" stroke-miterlimit=\"2\" transform=\"matrix(0.49985,0,0,0.499751,0,0)\"\n",
       "font-family=\"Helvetica\" font-size=\"22\" font-weight=\"700\" font-style=\"normal\" \n",
       ">\n",
       "<path vector-effect=\"none\" fill-rule=\"evenodd\" d=\"M663.894,616.731 C663.894,613.417 661.207,610.731 657.894,610.731 C654.58,610.731 651.894,613.417 651.894,616.731 C651.894,620.045 654.58,622.731 657.894,622.731 C661.207,622.731 663.894,620.045 663.894,616.731 \"/>\n",
       "</g>\n",
       "\n",
       "<g fill=\"none\" stroke=\"#1171be\" stroke-opacity=\"1\" stroke-width=\"1\" stroke-linecap=\"butt\" stroke-linejoin=\"miter\" stroke-miterlimit=\"2\" transform=\"matrix(0.49985,0,0,0.499751,0,0)\"\n",
       "font-family=\"Helvetica\" font-size=\"22\" font-weight=\"700\" font-style=\"normal\" \n",
       ">\n",
       "<path vector-effect=\"none\" fill-rule=\"evenodd\" d=\"M704.815,502.55 C704.815,499.237 702.129,496.55 698.815,496.55 C695.501,496.55 692.815,499.237 692.815,502.55 C692.815,505.864 695.501,508.55 698.815,508.55 C702.129,508.55 704.815,505.864 704.815,502.55 \"/>\n",
       "</g>\n",
       "\n",
       "<g fill=\"none\" stroke=\"#1171be\" stroke-opacity=\"1\" stroke-width=\"1\" stroke-linecap=\"butt\" stroke-linejoin=\"miter\" stroke-miterlimit=\"2\" transform=\"matrix(0.49985,0,0,0.499751,0,0)\"\n",
       "font-family=\"Helvetica\" font-size=\"22\" font-weight=\"700\" font-style=\"normal\" \n",
       ">\n",
       "<path vector-effect=\"none\" fill-rule=\"evenodd\" d=\"M745.736,390.721 C745.736,387.407 743.05,384.721 739.736,384.721 C736.422,384.721 733.736,387.407 733.736,390.721 C733.736,394.035 736.422,396.721 739.736,396.721 C743.05,396.721 745.736,394.035 745.736,390.721 \"/>\n",
       "</g>\n",
       "\n",
       "<g fill=\"none\" stroke=\"#1171be\" stroke-opacity=\"1\" stroke-width=\"1\" stroke-linecap=\"butt\" stroke-linejoin=\"miter\" stroke-miterlimit=\"2\" transform=\"matrix(0.49985,0,0,0.499751,0,0)\"\n",
       "font-family=\"Helvetica\" font-size=\"22\" font-weight=\"700\" font-style=\"normal\" \n",
       ">\n",
       "<path vector-effect=\"none\" fill-rule=\"evenodd\" d=\"M786.657,296.446 C786.657,293.132 783.971,290.446 780.657,290.446 C777.344,290.446 774.657,293.132 774.657,296.446 C774.657,299.76 777.344,302.446 780.657,302.446 C783.971,302.446 786.657,299.76 786.657,296.446 \"/>\n",
       "</g>\n",
       "\n",
       "<g fill=\"none\" stroke=\"#1171be\" stroke-opacity=\"1\" stroke-width=\"1\" stroke-linecap=\"butt\" stroke-linejoin=\"miter\" stroke-miterlimit=\"2\" transform=\"matrix(0.49985,0,0,0.499751,0,0)\"\n",
       "font-family=\"Helvetica\" font-size=\"22\" font-weight=\"700\" font-style=\"normal\" \n",
       ">\n",
       "<path vector-effect=\"none\" fill-rule=\"evenodd\" d=\"M827.579,233.466 C827.579,230.153 824.892,227.466 821.579,227.466 C818.265,227.466 815.579,230.153 815.579,233.466 C815.579,236.78 818.265,239.466 821.579,239.466 C824.892,239.466 827.579,236.78 827.579,233.466 \"/>\n",
       "</g>\n",
       "\n",
       "<g fill=\"none\" stroke=\"#1171be\" stroke-opacity=\"1\" stroke-width=\"1\" stroke-linecap=\"butt\" stroke-linejoin=\"miter\" stroke-miterlimit=\"2\" transform=\"matrix(0.49985,0,0,0.499751,0,0)\"\n",
       "font-family=\"Helvetica\" font-size=\"22\" font-weight=\"700\" font-style=\"normal\" \n",
       ">\n",
       "<path vector-effect=\"none\" fill-rule=\"evenodd\" d=\"M868.5,211.333 C868.5,208.02 865.814,205.333 862.5,205.333 C859.186,205.333 856.5,208.02 856.5,211.333 C856.5,214.647 859.186,217.333 862.5,217.333 C865.814,217.333 868.5,214.647 868.5,211.333 \"/>\n",
       "</g>\n",
       "\n",
       "<g fill=\"none\" stroke=\"#1171be\" stroke-opacity=\"1\" stroke-width=\"1\" stroke-linecap=\"butt\" stroke-linejoin=\"miter\" stroke-miterlimit=\"2\" transform=\"matrix(0.49985,0,0,0.499751,0,0)\"\n",
       "font-family=\"Helvetica\" font-size=\"22\" font-weight=\"700\" font-style=\"normal\" \n",
       ">\n",
       "<path vector-effect=\"none\" fill-rule=\"evenodd\" d=\"M909.421,233.466 C909.421,230.153 906.735,227.466 903.421,227.466 C900.108,227.466 897.421,230.153 897.421,233.466 C897.421,236.78 900.108,239.466 903.421,239.466 C906.735,239.466 909.421,236.78 909.421,233.466 \"/>\n",
       "</g>\n",
       "\n",
       "<g fill=\"none\" stroke=\"#1171be\" stroke-opacity=\"1\" stroke-width=\"1\" stroke-linecap=\"butt\" stroke-linejoin=\"miter\" stroke-miterlimit=\"2\" transform=\"matrix(0.49985,0,0,0.499751,0,0)\"\n",
       "font-family=\"Helvetica\" font-size=\"22\" font-weight=\"700\" font-style=\"normal\" \n",
       ">\n",
       "<path vector-effect=\"none\" fill-rule=\"evenodd\" d=\"M950.343,296.446 C950.343,293.132 947.656,290.446 944.343,290.446 C941.029,290.446 938.343,293.132 938.343,296.446 C938.343,299.76 941.029,302.446 944.343,302.446 C947.656,302.446 950.343,299.76 950.343,296.446 \"/>\n",
       "</g>\n",
       "\n",
       "<g fill=\"none\" stroke=\"#1171be\" stroke-opacity=\"1\" stroke-width=\"1\" stroke-linecap=\"butt\" stroke-linejoin=\"miter\" stroke-miterlimit=\"2\" transform=\"matrix(0.49985,0,0,0.499751,0,0)\"\n",
       "font-family=\"Helvetica\" font-size=\"22\" font-weight=\"700\" font-style=\"normal\" \n",
       ">\n",
       "<path vector-effect=\"none\" fill-rule=\"evenodd\" d=\"M991.264,390.721 C991.264,387.407 988.578,384.721 985.264,384.721 C981.95,384.721 979.264,387.407 979.264,390.721 C979.264,394.035 981.95,396.721 985.264,396.721 C988.578,396.721 991.264,394.035 991.264,390.721 \"/>\n",
       "</g>\n",
       "\n",
       "<g fill=\"none\" stroke=\"#1171be\" stroke-opacity=\"1\" stroke-width=\"1\" stroke-linecap=\"butt\" stroke-linejoin=\"miter\" stroke-miterlimit=\"2\" transform=\"matrix(0.49985,0,0,0.499751,0,0)\"\n",
       "font-family=\"Helvetica\" font-size=\"22\" font-weight=\"700\" font-style=\"normal\" \n",
       ">\n",
       "<path vector-effect=\"none\" fill-rule=\"evenodd\" d=\"M1032.19,502.55 C1032.19,499.237 1029.5,496.55 1026.19,496.55 C1022.87,496.55 1020.19,499.237 1020.19,502.55 C1020.19,505.864 1022.87,508.55 1026.19,508.55 C1029.5,508.55 1032.19,505.864 1032.19,502.55 \"/>\n",
       "</g>\n",
       "\n",
       "<g fill=\"none\" stroke=\"#1171be\" stroke-opacity=\"1\" stroke-width=\"1\" stroke-linecap=\"butt\" stroke-linejoin=\"miter\" stroke-miterlimit=\"2\" transform=\"matrix(0.49985,0,0,0.499751,0,0)\"\n",
       "font-family=\"Helvetica\" font-size=\"22\" font-weight=\"700\" font-style=\"normal\" \n",
       ">\n",
       "<path vector-effect=\"none\" fill-rule=\"evenodd\" d=\"M1073.11,616.731 C1073.11,613.417 1070.42,610.731 1067.11,610.731 C1063.79,610.731 1061.11,613.417 1061.11,616.731 C1061.11,620.045 1063.79,622.731 1067.11,622.731 C1070.42,622.731 1073.11,620.045 1073.11,616.731 \"/>\n",
       "</g>\n",
       "\n",
       "<g fill=\"none\" stroke=\"#1171be\" stroke-opacity=\"1\" stroke-width=\"1\" stroke-linecap=\"butt\" stroke-linejoin=\"miter\" stroke-miterlimit=\"2\" transform=\"matrix(0.49985,0,0,0.499751,0,0)\"\n",
       "font-family=\"Helvetica\" font-size=\"22\" font-weight=\"700\" font-style=\"normal\" \n",
       ">\n",
       "<path vector-effect=\"none\" fill-rule=\"evenodd\" d=\"M1114.03,719.467 C1114.03,716.153 1111.34,713.467 1108.03,713.467 C1104.71,713.467 1102.03,716.153 1102.03,719.467 C1102.03,722.781 1104.71,725.467 1108.03,725.467 C1111.34,725.467 1114.03,722.781 1114.03,719.467 \"/>\n",
       "</g>\n",
       "\n",
       "<g fill=\"none\" stroke=\"#1171be\" stroke-opacity=\"1\" stroke-width=\"1\" stroke-linecap=\"butt\" stroke-linejoin=\"miter\" stroke-miterlimit=\"2\" transform=\"matrix(0.49985,0,0,0.499751,0,0)\"\n",
       "font-family=\"Helvetica\" font-size=\"22\" font-weight=\"700\" font-style=\"normal\" \n",
       ">\n",
       "<path vector-effect=\"none\" fill-rule=\"evenodd\" d=\"M1154.95,800.745 C1154.95,797.431 1152.26,794.745 1148.95,794.745 C1145.64,794.745 1142.95,797.431 1142.95,800.745 C1142.95,804.058 1145.64,806.745 1148.95,806.745 C1152.26,806.745 1154.95,804.058 1154.95,800.745 \"/>\n",
       "</g>\n",
       "\n",
       "<g fill=\"none\" stroke=\"#1171be\" stroke-opacity=\"1\" stroke-width=\"1\" stroke-linecap=\"butt\" stroke-linejoin=\"miter\" stroke-miterlimit=\"2\" transform=\"matrix(0.49985,0,0,0.499751,0,0)\"\n",
       "font-family=\"Helvetica\" font-size=\"22\" font-weight=\"700\" font-style=\"normal\" \n",
       ">\n",
       "<path vector-effect=\"none\" fill-rule=\"evenodd\" d=\"M1195.87,855.715 C1195.87,852.402 1193.18,849.715 1189.87,849.715 C1186.56,849.715 1183.87,852.402 1183.87,855.715 C1183.87,859.029 1186.56,861.715 1189.87,861.715 C1193.18,861.715 1195.87,859.029 1195.87,855.715 \"/>\n",
       "</g>\n",
       "\n",
       "<g fill=\"none\" stroke=\"#1171be\" stroke-opacity=\"1\" stroke-width=\"1\" stroke-linecap=\"butt\" stroke-linejoin=\"miter\" stroke-miterlimit=\"2\" transform=\"matrix(0.49985,0,0,0.499751,0,0)\"\n",
       "font-family=\"Helvetica\" font-size=\"22\" font-weight=\"700\" font-style=\"normal\" \n",
       ">\n",
       "<path vector-effect=\"none\" fill-rule=\"evenodd\" d=\"M1236.79,884.858 C1236.79,881.544 1234.11,878.858 1230.79,878.858 C1227.48,878.858 1224.79,881.544 1224.79,884.858 C1224.79,888.171 1227.48,890.858 1230.79,890.858 C1234.11,890.858 1236.79,888.171 1236.79,884.858 \"/>\n",
       "</g>\n",
       "\n",
       "<g fill=\"none\" stroke=\"#1171be\" stroke-opacity=\"1\" stroke-width=\"1\" stroke-linecap=\"butt\" stroke-linejoin=\"miter\" stroke-miterlimit=\"2\" transform=\"matrix(0.49985,0,0,0.499751,0,0)\"\n",
       "font-family=\"Helvetica\" font-size=\"22\" font-weight=\"700\" font-style=\"normal\" \n",
       ">\n",
       "<path vector-effect=\"none\" fill-rule=\"evenodd\" d=\"M1277.71,893 C1277.71,889.686 1275.03,887 1271.71,887 C1268.4,887 1265.71,889.686 1265.71,893 C1265.71,896.314 1268.4,899 1271.71,899 C1275.03,899 1277.71,896.314 1277.71,893 \"/>\n",
       "</g>\n",
       "\n",
       "<g fill=\"none\" stroke=\"#1171be\" stroke-opacity=\"1\" stroke-width=\"1\" stroke-linecap=\"butt\" stroke-linejoin=\"miter\" stroke-miterlimit=\"2\" transform=\"matrix(0.49985,0,0,0.499751,0,0)\"\n",
       "font-family=\"Helvetica\" font-size=\"22\" font-weight=\"700\" font-style=\"normal\" \n",
       ">\n",
       "<path vector-effect=\"none\" fill-rule=\"evenodd\" d=\"M1318.63,887.549 C1318.63,884.236 1315.95,881.549 1312.63,881.549 C1309.32,881.549 1306.63,884.236 1306.63,887.549 C1306.63,890.863 1309.32,893.549 1312.63,893.549 C1315.95,893.549 1318.63,890.863 1318.63,887.549 \"/>\n",
       "</g>\n",
       "\n",
       "<g fill=\"none\" stroke=\"#1171be\" stroke-opacity=\"1\" stroke-width=\"1\" stroke-linecap=\"butt\" stroke-linejoin=\"miter\" stroke-miterlimit=\"2\" transform=\"matrix(0.49985,0,0,0.499751,0,0)\"\n",
       "font-family=\"Helvetica\" font-size=\"22\" font-weight=\"700\" font-style=\"normal\" \n",
       ">\n",
       "<path vector-effect=\"none\" fill-rule=\"evenodd\" d=\"M1359.56,876.429 C1359.56,873.115 1356.87,870.429 1353.56,870.429 C1350.24,870.429 1347.56,873.115 1347.56,876.429 C1347.56,879.743 1350.24,882.429 1353.56,882.429 C1356.87,882.429 1359.56,879.743 1359.56,876.429 \"/>\n",
       "</g>\n",
       "\n",
       "<g fill=\"none\" stroke=\"#1171be\" stroke-opacity=\"1\" stroke-width=\"1\" stroke-linecap=\"butt\" stroke-linejoin=\"miter\" stroke-miterlimit=\"2\" transform=\"matrix(0.49985,0,0,0.499751,0,0)\"\n",
       "font-family=\"Helvetica\" font-size=\"22\" font-weight=\"700\" font-style=\"normal\" \n",
       ">\n",
       "<path vector-effect=\"none\" fill-rule=\"evenodd\" d=\"M1400.48,866.251 C1400.48,862.938 1397.79,860.251 1394.48,860.251 C1391.16,860.251 1388.48,862.938 1388.48,866.251 C1388.48,869.565 1391.16,872.251 1394.48,872.251 C1397.79,872.251 1400.48,869.565 1400.48,866.251 \"/>\n",
       "</g>\n",
       "\n",
       "<g fill=\"none\" stroke=\"#1171be\" stroke-opacity=\"1\" stroke-width=\"1\" stroke-linecap=\"butt\" stroke-linejoin=\"miter\" stroke-miterlimit=\"2\" transform=\"matrix(0.49985,0,0,0.499751,0,0)\"\n",
       "font-family=\"Helvetica\" font-size=\"22\" font-weight=\"700\" font-style=\"normal\" \n",
       ">\n",
       "<path vector-effect=\"none\" fill-rule=\"evenodd\" d=\"M1441.4,861.127 C1441.4,857.813 1438.71,855.127 1435.4,855.127 C1432.08,855.127 1429.4,857.813 1429.4,861.127 C1429.4,864.44 1432.08,867.127 1435.4,867.127 C1438.71,867.127 1441.4,864.44 1441.4,861.127 \"/>\n",
       "</g>\n",
       "\n",
       "<g fill=\"none\" stroke=\"#1171be\" stroke-opacity=\"1\" stroke-width=\"1\" stroke-linecap=\"butt\" stroke-linejoin=\"miter\" stroke-miterlimit=\"2\" transform=\"matrix(0.49985,0,0,0.499751,0,0)\"\n",
       "font-family=\"Helvetica\" font-size=\"22\" font-weight=\"700\" font-style=\"normal\" \n",
       ">\n",
       "<path vector-effect=\"none\" fill-rule=\"evenodd\" d=\"M1482.32,862.303 C1482.32,858.99 1479.63,856.303 1476.32,856.303 C1473.01,856.303 1470.32,858.99 1470.32,862.303 C1470.32,865.617 1473.01,868.303 1476.32,868.303 C1479.63,868.303 1482.32,865.617 1482.32,862.303 \"/>\n",
       "</g>\n",
       "\n",
       "<g fill=\"#212121\" fill-opacity=\"1\" stroke=\"#212121\" stroke-opacity=\"1\" stroke-width=\"1\" stroke-linecap=\"square\" stroke-linejoin=\"bevel\" transform=\"matrix(0.49985,0,0,0.499751,408.377,471.265)\"\n",
       "font-family=\"mwb_cmr10\" font-size=\"22\" font-weight=\"400\" font-style=\"normal\" \n",
       ">\n",
       "<text fill=\"#212121\" fill-opacity=\"1\" stroke=\"none\" xml:space=\"preserve\" x=\"0\" y=\"-0.5\" font-family=\"mwb_cmr10\" font-size=\"22\" font-weight=\"400\" font-style=\"normal\" \n",
       " >+</text>\n",
       "</g>\n",
       "\n",
       "<g fill=\"#212121\" fill-opacity=\"1\" stroke=\"#212121\" stroke-opacity=\"1\" stroke-width=\"1\" stroke-linecap=\"square\" stroke-linejoin=\"bevel\" transform=\"matrix(0.49985,0,0,0.499751,416.375,476.762)\"\n",
       "font-family=\"Helvetica\" font-size=\"17\" font-weight=\"400\" font-style=\"normal\" \n",
       ">\n",
       "<text fill=\"#212121\" fill-opacity=\"1\" stroke=\"none\" xml:space=\"preserve\" x=\"0\" y=\"0.078125\" font-family=\"Helvetica\" font-size=\"17\" font-weight=\"400\" font-style=\"normal\" \n",
       " >0</text>\n",
       "</g>\n",
       "\n",
       "<g fill=\"#212121\" fill-opacity=\"1\" stroke=\"#212121\" stroke-opacity=\"1\" stroke-width=\"1\" stroke-linecap=\"square\" stroke-linejoin=\"bevel\" transform=\"matrix(0.49985,0,0,0.499751,420.874,471.265)\"\n",
       "font-family=\"Helvetica\" font-size=\"22\" font-weight=\"400\" font-style=\"normal\" \n",
       ">\n",
       "<text fill=\"#212121\" fill-opacity=\"1\" stroke=\"none\" xml:space=\"preserve\" x=\"0\" y=\"-0.0625\" font-family=\"Helvetica\" font-size=\"22\" font-weight=\"400\" font-style=\"normal\" \n",
       " > [rad/s]</text>\n",
       "</g>\n",
       "\n",
       "<g fill=\"#212121\" fill-opacity=\"1\" stroke=\"#212121\" stroke-opacity=\"1\" stroke-width=\"1\" stroke-linecap=\"butt\" stroke-linejoin=\"round\" transform=\"matrix(0.49985,0,0,0.499751,0,0)\"\n",
       "font-family=\"Helvetica\" font-size=\"22\" font-weight=\"400\" font-style=\"normal\" \n",
       ">\n",
       "<polyline fill=\"none\" vector-effect=\"none\" points=\"217,893 1508,893 \" />\n",
       "<polyline fill=\"none\" vector-effect=\"none\" points=\"217,75 1508,75 \" />\n",
       "<polyline fill=\"none\" vector-effect=\"none\" points=\"248.681,893 248.681,880.09 \" />\n",
       "<polyline fill=\"none\" vector-effect=\"none\" points=\"248.681,87.91 248.681,75 \" />\n",
       "<polyline fill=\"none\" vector-effect=\"none\" points=\"453.287,893 453.287,880.09 \" />\n",
       "<polyline fill=\"none\" vector-effect=\"none\" points=\"453.287,87.91 453.287,75 \" />\n",
       "<polyline fill=\"none\" vector-effect=\"none\" points=\"657.894,893 657.894,880.09 \" />\n",
       "<polyline fill=\"none\" vector-effect=\"none\" points=\"657.894,87.91 657.894,75 \" />\n",
       "<polyline fill=\"none\" vector-effect=\"none\" points=\"862.5,893 862.5,880.09 \" />\n",
       "<polyline fill=\"none\" vector-effect=\"none\" points=\"862.5,87.91 862.5,75 \" />\n",
       "<polyline fill=\"none\" vector-effect=\"none\" points=\"1067.11,893 1067.11,880.09 \" />\n",
       "<polyline fill=\"none\" vector-effect=\"none\" points=\"1067.11,87.91 1067.11,75 \" />\n",
       "<polyline fill=\"none\" vector-effect=\"none\" points=\"1271.71,893 1271.71,880.09 \" />\n",
       "<polyline fill=\"none\" vector-effect=\"none\" points=\"1271.71,87.91 1271.71,75 \" />\n",
       "<polyline fill=\"none\" vector-effect=\"none\" points=\"1476.32,893 1476.32,880.09 \" />\n",
       "<polyline fill=\"none\" vector-effect=\"none\" points=\"1476.32,87.91 1476.32,75 \" />\n",
       "</g>\n",
       "\n",
       "<g fill=\"#212121\" fill-opacity=\"1\" stroke=\"#212121\" stroke-opacity=\"1\" stroke-width=\"1\" stroke-linecap=\"square\" stroke-linejoin=\"bevel\" transform=\"matrix(0.49985,0,0,0.499751,117.055,457.772)\"\n",
       "font-family=\"Helvetica\" font-size=\"20\" font-weight=\"400\" font-style=\"normal\" \n",
       ">\n",
       "<text fill=\"#212121\" fill-opacity=\"1\" stroke=\"none\" xml:space=\"preserve\" x=\"0\" y=\"0.390625\" font-family=\"Helvetica\" font-size=\"20\" font-weight=\"400\" font-style=\"normal\" \n",
       " >-15</text>\n",
       "</g>\n",
       "\n",
       "<g fill=\"#212121\" fill-opacity=\"1\" stroke=\"#212121\" stroke-opacity=\"1\" stroke-width=\"1\" stroke-linecap=\"square\" stroke-linejoin=\"bevel\" transform=\"matrix(0.49985,0,0,0.499751,219.328,457.772)\"\n",
       "font-family=\"Helvetica\" font-size=\"20\" font-weight=\"400\" font-style=\"normal\" \n",
       ">\n",
       "<text fill=\"#212121\" fill-opacity=\"1\" stroke=\"none\" xml:space=\"preserve\" x=\"0\" y=\"0.390625\" font-family=\"Helvetica\" font-size=\"20\" font-weight=\"400\" font-style=\"normal\" \n",
       " >-10</text>\n",
       "</g>\n",
       "\n",
       "<g fill=\"#212121\" fill-opacity=\"1\" stroke=\"#212121\" stroke-opacity=\"1\" stroke-width=\"1\" stroke-linecap=\"square\" stroke-linejoin=\"bevel\" transform=\"matrix(0.49985,0,0,0.499751,324.35,457.772)\"\n",
       "font-family=\"Helvetica\" font-size=\"20\" font-weight=\"400\" font-style=\"normal\" \n",
       ">\n",
       "<text fill=\"#212121\" fill-opacity=\"1\" stroke=\"none\" xml:space=\"preserve\" x=\"0\" y=\"0.390625\" font-family=\"Helvetica\" font-size=\"20\" font-weight=\"400\" font-style=\"normal\" \n",
       " >-5</text>\n",
       "</g>\n",
       "\n",
       "<g fill=\"#212121\" fill-opacity=\"1\" stroke=\"#212121\" stroke-opacity=\"1\" stroke-width=\"1\" stroke-linecap=\"square\" stroke-linejoin=\"bevel\" transform=\"matrix(0.49985,0,0,0.499751,428.371,457.772)\"\n",
       "font-family=\"Helvetica\" font-size=\"20\" font-weight=\"400\" font-style=\"normal\" \n",
       ">\n",
       "<text fill=\"#212121\" fill-opacity=\"1\" stroke=\"none\" xml:space=\"preserve\" x=\"0\" y=\"0.390625\" font-family=\"Helvetica\" font-size=\"20\" font-weight=\"400\" font-style=\"normal\" \n",
       " >0</text>\n",
       "</g>\n",
       "\n",
       "<g fill=\"#212121\" fill-opacity=\"1\" stroke=\"#212121\" stroke-opacity=\"1\" stroke-width=\"1\" stroke-linecap=\"square\" stroke-linejoin=\"bevel\" transform=\"matrix(0.49985,0,0,0.499751,530.644,457.772)\"\n",
       "font-family=\"Helvetica\" font-size=\"20\" font-weight=\"400\" font-style=\"normal\" \n",
       ">\n",
       "<text fill=\"#212121\" fill-opacity=\"1\" stroke=\"none\" xml:space=\"preserve\" x=\"0\" y=\"0.390625\" font-family=\"Helvetica\" font-size=\"20\" font-weight=\"400\" font-style=\"normal\" \n",
       " >5</text>\n",
       "</g>\n",
       "\n",
       "<g fill=\"#212121\" fill-opacity=\"1\" stroke=\"#212121\" stroke-opacity=\"1\" stroke-width=\"1\" stroke-linecap=\"square\" stroke-linejoin=\"bevel\" transform=\"matrix(0.49985,0,0,0.499751,630.167,457.772)\"\n",
       "font-family=\"Helvetica\" font-size=\"20\" font-weight=\"400\" font-style=\"normal\" \n",
       ">\n",
       "<text fill=\"#212121\" fill-opacity=\"1\" stroke=\"none\" xml:space=\"preserve\" x=\"0\" y=\"0.390625\" font-family=\"Helvetica\" font-size=\"20\" font-weight=\"400\" font-style=\"normal\" \n",
       " >10</text>\n",
       "</g>\n",
       "\n",
       "<g fill=\"#212121\" fill-opacity=\"1\" stroke=\"#212121\" stroke-opacity=\"1\" stroke-width=\"1\" stroke-linecap=\"square\" stroke-linejoin=\"bevel\" transform=\"matrix(0.49985,0,0,0.499751,732.44,457.772)\"\n",
       "font-family=\"Helvetica\" font-size=\"20\" font-weight=\"400\" font-style=\"normal\" \n",
       ">\n",
       "<text fill=\"#212121\" fill-opacity=\"1\" stroke=\"none\" xml:space=\"preserve\" x=\"0\" y=\"0.390625\" font-family=\"Helvetica\" font-size=\"20\" font-weight=\"400\" font-style=\"normal\" \n",
       " >15</text>\n",
       "</g>\n",
       "</g>\n",
       "</svg>\n"
      ]
     },
     "metadata": {},
     "output_type": "display_data"
    }
   ],
   "source": [
    "stem(omega,abs(f).^2)\n",
    "title('Power Spectrum for pulse width T/2')\n",
    "ylabel('|C_k|^2')\n",
    "xlabel('\\Omega_0 [rad/s]')"
   ]
  },
  {
   "cell_type": "markdown",
   "id": "783558fc",
   "metadata": {
    "slideshow": {
     "slide_type": "notes"
    }
   },
   "source": [
    "Note that most of the power is concentrated at DC and in the first five harmonic components. That is in the frequency range $[-14\\pi/T,+14\\pi/T]$ rad/s."
   ]
  },
  {
   "cell_type": "markdown",
   "id": "4f8eea32",
   "metadata": {
    "slideshow": {
     "slide_type": "slide"
    }
   },
   "source": [
    "### Total Harmonic Distortion\n",
    "\n",
    "Suppose that a signal that is supposed to be a pure sine wave of amplitude A is distorted as shown below\n",
    "\n",
    "<img src=\"pictures/thd.png\">"
   ]
  },
  {
   "cell_type": "markdown",
   "id": "76dc3e3a",
   "metadata": {
    "slideshow": {
     "slide_type": "notes"
    }
   },
   "source": [
    "This can occur in the line voltages of an industrial plant that makes heavy use of nonlineear loads such as electric arc furnaces, solid state relays, motor drives, etc (E.g. Tata Steel!)"
   ]
  },
  {
   "cell_type": "markdown",
   "id": "797b43a2",
   "metadata": {
    "slideshow": {
     "slide_type": "subslide"
    }
   },
   "source": [
    "#### THD Defined\n",
    "\n",
    "Clearly, some of the harmonics for $k\\ne \\pm 1$ are nonzero. One way to characterize the distortion is to compute the ratio of average power in all the harmonics that \"should not be present\", that is for $k > 1$, to the total average power of the distorted sine wave. The square-root of this ratio is called the _total harmonic distortion_ (THD) of the signal."
   ]
  },
  {
   "cell_type": "markdown",
   "id": "9503d559",
   "metadata": {
    "slideshow": {
     "slide_type": "subslide"
    }
   },
   "source": [
    "If the signal is real and based on a sine wave (that is _odd_), then $C_k=0$ and\n",
    "\n",
    "$$f_{\\mathrm{RMS}}=\\sqrt{\\sum_{k=1}^{\\infty}2|C_k|^2}$$\n",
    "\n",
    "and we can define the THD as the ratio of the RMS value for all the harmonics for $K>1$ (the distortion) to the RMS of the fundamental which is $$\\sqrt{2\\left|C_1\\right|^2}:$$\n",
    "\n",
    "$${\\rm{THD}} = 100\\sqrt {\\frac{\\sum\\limits_{k = 2}^\\infty  {\\left| C_k \\right|^2}} {\\left| C_1 \\right|^2}} \\% $$"
   ]
  },
  {
   "cell_type": "markdown",
   "id": "56f3bb04",
   "metadata": {
    "slideshow": {
     "slide_type": "subslide"
    }
   },
   "source": [
    "#### Computation of THD\n",
    "\n",
    "<img src=\"pictures/thd_ps.png\">"
   ]
  },
  {
   "cell_type": "markdown",
   "id": "ab105249",
   "metadata": {
    "slideshow": {
     "slide_type": "subslide"
    }
   },
   "source": [
    "(ex:ws:19.3)=\n",
    "\n",
    "### Example 8: THD in a square-wave\n",
    "\n",
    "Given that the exponential fourier series coefficients for a square wave are\n",
    "\n",
    "$$C_0 = 0$$\n",
    "\n",
    "$$C_k = 0\\quad k\\,\\mathrm{even}$$\n",
    "\n",
    "$$C_k = \\frac{2A}{jk\\pi}\\quad k\\,\\mathrm{odd}$$\n",
    "\n",
    "compute the total harmonic distortion represented by the first 7 harmonics of the square-wave."
   ]
  },
  {
   "cell_type": "markdown",
   "id": "95ae36d4",
   "metadata": {
    "slideshow": {
     "slide_type": "notes"
    }
   },
   "source": [
    "### Solution\n",
    "\n",
    "<pre style=\"border: 2px solid blue\">\n",
    "\n",
    "\n",
    "\n",
    "\n",
    "\n",
    "\n",
    "\n",
    "\n",
    "\n",
    "\n",
    "\n",
    "\n",
    "\n",
    "\n",
    "\n",
    "</pre>"
   ]
  },
  {
   "cell_type": "markdown",
   "id": "524ae7e0",
   "metadata": {
    "slideshow": {
     "slide_type": "subslide"
    }
   },
   "source": [
    "(ex:ws:19.4)=\n",
    "\n",
    "### Example 9: THD in a triangle wave\n",
    "\n",
    "Given that the exponential fourier series coefficients for a triangle wave with even symmetry is\n",
    "\n",
    "$$C_0 = 0$$\n",
    "\n",
    "$$C_k = 0\\quad k\\,\\mathrm{even}$$\n",
    "\n",
    "$$C_k = -\\frac{4A}{jk^2\\pi^2}\\quad k\\,\\mathrm{odd}$$\n",
    "\n",
    "compute the total harmonic distortion represented by the first 7 harmonics of the triangle-wave."
   ]
  },
  {
   "cell_type": "markdown",
   "id": "f2e1ea8d",
   "metadata": {
    "slideshow": {
     "slide_type": "slide"
    }
   },
   "source": [
    "## Steady-State Response of an LTI System to a Periodic Signal\n",
    "\n",
    "As shown in [Eigenfunctions of Continuous-Time LTI Systems](https://cpjobling.github.io/eg-150-textbook/lti_systems/lti2.html#eigenfunctions-of-continuous-time-lti-systems), the response of a continuous-time LTI system with impulse response $h(t)$ to a complex exponential signal $e^{st}$ is the same complex exponential multiplied by a complex gain: $y(t) = H(s)e^{st}$, where:\n",
    "\n",
    "$$H(s)=\\int_{-\\infty}^{\\infty}h(\\tau)e^{-s\\tau}\\,d\\tau.$$"
   ]
  },
  {
   "cell_type": "markdown",
   "id": "bcd3f116",
   "metadata": {
    "slideshow": {
     "slide_type": "subslide"
    }
   },
   "source": [
    "In particular, for $s = j\\omega$, the output is simply $y(t)=H(j\\omega)e^{j\\omega t}$.\n",
    "\n",
    "The complex functions $H(s)$ and $H(j\\omega)$ are called the system's _transfer function_ and _frequency response_, respectively."
   ]
  },
  {
   "cell_type": "markdown",
   "id": "050e012a",
   "metadata": {
    "slideshow": {
     "slide_type": "subslide"
    }
   },
   "source": [
    "### By superposition\n",
    "\n",
    "The output of an LTI system to a periodic function with period $T$ represented by a Fourier series is given by:\n",
    "\n",
    "$$y(t)=\\sum_{k=-\\infty}^{\\infty} C_kH(jk\\Omega_0)e^{jk\\Omega_0 t}$$\n",
    "\n",
    "where $\\Omega_0 = T/2\\pi$ is the fundamental frequency."
   ]
  },
  {
   "cell_type": "markdown",
   "id": "b5344a0a",
   "metadata": {
    "slideshow": {
     "slide_type": "subslide"
    }
   },
   "source": [
    "Thus $y(t)$ is a Fourier series itself with coefficients $D_k$:\n",
    "\n",
    "$$D_k = C_kH(jk\\Omega_0)$$ (fs4:d_k:ws)"
   ]
  },
  {
   "cell_type": "markdown",
   "id": "e033ce03",
   "metadata": {
    "slideshow": {
     "slide_type": "subslide"
    }
   },
   "source": [
    "### Illustration\n",
    "\n",
    "This picture below shows the effect of an LTI system on a periodic input in the frequency domain.\n",
    "\n",
    "<img src=\"pictures/filter.png\">"
   ]
  },
  {
   "cell_type": "markdown",
   "id": "8f1242ff",
   "metadata": {
    "slideshow": {
     "slide_type": "subslide"
    }
   },
   "source": [
    "### Application to signal processing\n",
    "\n",
    "A consequence of the previous result is that we can design a system that has a desirable frequency spectrum $H(jk\\Omega_0)$ that retains certain frequencies and cuts off others."
   ]
  },
  {
   "cell_type": "markdown",
   "id": "e215e288",
   "metadata": {
    "slideshow": {
     "slide_type": "notes"
    }
   },
   "source": [
    "### Filter attenuation\n",
    "\n",
    "The effect of an LTI system on a periodic input signal is to modify its Fourier series through a multiplication by its frequency response evaluated at the harmonic frequencies.\n",
    "\n",
    "So what does $H(jk\\Omega_0)$ looks like.\n",
    "\n",
    "[change this to an RC circuit filter]\n",
    "\n",
    "As an example, consider the simple first-order Butterworth low-pass (LP) filter with cut-off frequency $\\omega_c$:\n",
    "\n",
    "$$H(s) = \\frac{\\omega_c}{s + \\omega_c}$$\n",
    "\n",
    "For this filter\n",
    "\n",
    "$$H(j\\omega) = \\frac{\\omega_c}{j\\omega + \\omega_c}.$$\n",
    "\n",
    "Let us say that we wish to compute the attenuation and phase of this filter at $\\omega = \\Omega_0$.\n",
    "\n",
    "To compute the _magnitude_:\n",
    "\n",
    "$$\n",
    "\\begin{eqnarray*}\n",
    "\\left|H(j\\Omega_0)\\right| &=& \\left|\\frac{\\omega_c}{j\\Omega_0 + \\omega_c}\\right| \\\\\n",
    "& = & \\frac{\\omega_c}{\\sqrt{\\Omega_0^2 + \\omega_c^2}}\n",
    "\\end{eqnarray*}\n",
    "$$\n",
    "\n",
    "We note that is $\\left|H(j\\Omega_0\\right| \\lt 1$ so the filter will _attenuate_ the incoming harmonic frequency. This will be true for all harmonics, so in general, for a LP filter:\n",
    "\n",
    "$$D_k = C_k\\left|H(jk\\Omega_0)\\right|   < C_k.$$\n",
    "\n",
    "The phase will be given by\n",
    "\n",
    "$$\\phi = \\angle H(j\\omega) = \\tan^{-1}\\left(\\frac{\\Im \\left( H(j\\omega)\\right)}{\\Re \\left(H(j(\\omega)\\right)}\\right)$$\n",
    "\n",
    "where\n",
    "\n",
    "$$\n",
    "\\begin{eqnarray*}\n",
    "H(jk\\Omega_0) &=& \\frac{\\omega_c^2}{(k\\Omega_0)^2 + \\omega_c^2} - j\\frac{k\\Omega_0\\omega_c}{(k\\Omega_0)^2 + \\omega_c^2}\\\\\n",
    "\\phi_k &=& \\tan^{-1}\\left(-\\frac{K\\Omega_0\\omega_c}{\\omega_c^2}\\right) \\\\\n",
    "&=& \\tan^{-1}\\left(-\\frac{k\\Omega_0}{\\omega_c}\\right)\n",
    "\\end{eqnarray*}\n",
    "$$\n",
    "\n",
    "Phases are additive so\n",
    "\n",
    "$$\\angle D_k = \\angle C_k + \\phi_k.$$\n",
    "\n",
    "By doing such analysis, we can examine the effect of a filter on a periodic signal, just by considering how the coefficients of the harmonic terms are changed (attenuated in magnitude and shifted in phase) by the filter."
   ]
  },
  {
   "cell_type": "markdown",
   "id": "93d59aca",
   "metadata": {
    "slideshow": {
     "slide_type": "subslide"
    }
   },
   "source": [
    "(ex:ws:19.5)=\n",
    "\n",
    "### Example 10: Low-pass filter\n",
    "\n",
    "**This is an examination level question.**\n",
    "\n",
    "This example represents the low-pass filter used in the signal generator project for **EG-152: Analogue Design**.\n",
    "\n",
    ":::{note}\n",
    "Use MATLAB to complete this example.\n",
    ":::\n",
    "\n",
    "a) A triangle waveform $x(t)$ with frequency $\\Omega_0 = 2\\pi/T$ is shown in {numref}`fig_ex19.1a`.\n",
    "\n",
    ":::{figure-md} fig_ex19.1a\n",
    "<img src=\"pictures/ex19_5.png\" alt=\"A triangle waveform\" width=\"60%\">\n",
    "\n",
    "A triangle waveform\n",
    ":::\n",
    "\n",
    "Determine the exponential Fourier series coefficients $C_k$ for this waveform and use this result to show that the trigonomentric Fourier series for a triangle waveform is"
   ]
  },
  {
   "cell_type": "markdown",
   "id": "8e91ebef",
   "metadata": {
    "slideshow": {
     "slide_type": "subslide"
    }
   },
   "source": [
    "$$x(t) = \\frac{8A}{\\pi^2}\\left(\\sum_{k\\ \\mathrm{odd}}(-1)^{\\left(\\frac{k-1}{2}\\right)}\\frac{1}{k^2}\\sin k \\Omega_0 t \\right)$$ (fse4:ws:fs4tri)"
   ]
  },
  {
   "cell_type": "markdown",
   "id": "9661036a",
   "metadata": {
    "slideshow": {
     "slide_type": "fragment"
    }
   },
   "source": [
    "which, for the first seven harmonic frequencies, is given as"
   ]
  },
  {
   "cell_type": "markdown",
   "id": "83f1baa5",
   "metadata": {
    "slideshow": {
     "slide_type": "fragment"
    }
   },
   "source": [
    "$$x(t) \\approx \\frac{8A}{\\pi^2}\\left(\\sin \\Omega_0 t - \\frac{1}{9} \\sin 3\\Omega_0 t + \\frac{1}{25} \\sin 5\\Omega_0 t - \\frac{1}{49} \\sin 7\\Omega_0 t \\cdots \\right) $$"
   ]
  },
  {
   "cell_type": "markdown",
   "id": "415de4cc",
   "metadata": {
    "slideshow": {
     "slide_type": "notes"
    }
   },
   "source": [
    "### Solution\n",
    "\n",
    "<pre style=\"border: 2px solid blue\">\n",
    "\n",
    "\n",
    "\n",
    "\n",
    "\n",
    "\n",
    "\n",
    "\n",
    "\n",
    "\n",
    "\n",
    "\n",
    "\n",
    "\n",
    "\n",
    "\n",
    "\n",
    "\n",
    "\n",
    "\n",
    "\n",
    "\n",
    "\n",
    "\n",
    "\n",
    "\n",
    "\n",
    "\n",
    "\n",
    "\n",
    "</pre>"
   ]
  },
  {
   "cell_type": "markdown",
   "id": "6d393d16",
   "metadata": {
    "slideshow": {
     "slide_type": "subslide"
    }
   },
   "source": [
    "b) In the signal generator, the block diagram for which is given in {numref}`fig19_5a_bd_ws`, a triangle wavefom with $A = 10$ and frequency $f = 1/T = 2.5$ kHz, is filtered by the low-pass filter with transfer function\n",
    "\n",
    "$$H(s) = \\frac{a^2}{s^2 + 3as + a^2}$$\n",
    "\n",
    "where $a = 1/(RC)$ and $RC$ is the time constant of an RC circuit with $R = 8.2$ k&Omega; and $C  = 10$ nF.\n",
    "\n",
    ":::{figure-md} fig19_5a_bd_ws\n",
    "<img src=\"pictures/ex19_5_bd.png\" alt=\"A signal generator\" width=\"60%\">\n",
    "\n",
    "A signal generator\n",
    ":::"
   ]
  },
  {
   "cell_type": "markdown",
   "id": "14e4599b",
   "metadata": {
    "slideshow": {
     "slide_type": "subslide"
    }
   },
   "source": [
    "i) Determine the frequency response $H(j\\omega)$ of the filter."
   ]
  },
  {
   "cell_type": "markdown",
   "id": "7ae2f008",
   "metadata": {
    "slideshow": {
     "slide_type": "notes"
    }
   },
   "source": [
    "### Solution\n",
    "\n",
    "<pre style=\"border: 2px solid blue\">\n",
    "\n",
    "\n",
    "\n",
    "\n",
    "\n",
    "\n",
    "\n",
    "\n",
    "\n",
    "\n",
    "\n",
    "\n",
    "\n",
    "\n",
    "\n",
    "</pre>"
   ]
  },
  {
   "cell_type": "markdown",
   "id": "0de442f8",
   "metadata": {
    "slideshow": {
     "slide_type": "subslide"
    }
   },
   "source": [
    "ii) Compute the cut-off frequency $\\omega_c$ of the filter. Note the value of the cut-off frequency this is the frequency for which the filter transmits half-the power or\n",
    "\n",
    "$$|H(j\\omega_c)| = \\frac{1}{\\sqrt{2}}$$"
   ]
  },
  {
   "cell_type": "markdown",
   "id": "1e30a9c4",
   "metadata": {
    "slideshow": {
     "slide_type": "notes"
    }
   },
   "source": [
    "### Solution\n",
    "\n",
    "<pre style=\"border: 2px solid blue\">\n",
    "\n",
    "\n",
    "\n",
    "\n",
    "\n",
    "\n",
    "\n",
    "\n",
    "\n",
    "\n",
    "\n",
    "\n",
    "\n",
    "\n",
    "\n",
    "</pre>"
   ]
  },
  {
   "cell_type": "markdown",
   "id": "bacf061b",
   "metadata": {
    "slideshow": {
     "slide_type": "subslide"
    }
   },
   "source": [
    "iii) Use equation {eq}`fs4:d_k:ws` and the result of a) to determine the attenuation in the first 7 harmonics of the triangle waveform."
   ]
  },
  {
   "cell_type": "markdown",
   "id": "424b6d36",
   "metadata": {
    "slideshow": {
     "slide_type": "notes"
    }
   },
   "source": [
    "### Solution\n",
    "\n",
    "<pre style=\"border: 2px solid blue\">\n",
    "\n",
    "\n",
    "\n",
    "\n",
    "\n",
    "\n",
    "\n",
    "\n",
    "\n",
    "\n",
    "\n",
    "\n",
    "\n",
    "\n",
    "\n",
    "</pre>"
   ]
  },
  {
   "cell_type": "markdown",
   "id": "1130fa66",
   "metadata": {
    "slideshow": {
     "slide_type": "subslide"
    }
   },
   "source": [
    "iv) The filter is intended to generate a sinewave from the triangle wave. Determine the value of the recovery gain $K$ to ensure that the attenuation is 0 dB at 2.5 kHz. Recompute the harmonic attenuation given the presence of $K$."
   ]
  },
  {
   "cell_type": "markdown",
   "id": "41b207fd",
   "metadata": {
    "slideshow": {
     "slide_type": "notes"
    }
   },
   "source": [
    "### Solution\n",
    "\n",
    "<pre style=\"border: 2px solid blue\">\n",
    "\n",
    "\n",
    "\n",
    "\n",
    "\n",
    "\n",
    "\n",
    "\n",
    "\n",
    "\n",
    "\n",
    "\n",
    "\n",
    "\n",
    "\n",
    "</pre>"
   ]
  },
  {
   "cell_type": "markdown",
   "id": "3849fef3",
   "metadata": {
    "slideshow": {
     "slide_type": "notes"
    }
   },
   "source": [
    "### Solution\n",
    "\n",
    "<pre style=\"border: 2px solid blue\">\n",
    "\n",
    "\n",
    "\n",
    "\n",
    "\n",
    "\n",
    "\n",
    "\n",
    "\n",
    "\n",
    "\n",
    "\n",
    "\n",
    "\n",
    "\n",
    "</pre>"
   ]
  },
  {
   "cell_type": "markdown",
   "id": "8016aaf3",
   "metadata": {
    "slideshow": {
     "slide_type": "subslide"
    }
   },
   "source": [
    "v) Use these results to determine the THD (in dB) of the filtered waveform."
   ]
  },
  {
   "cell_type": "markdown",
   "id": "d3906f51",
   "metadata": {
    "slideshow": {
     "slide_type": "notes"
    }
   },
   "source": [
    "### Solution\n",
    "\n",
    "<pre style=\"border: 2px solid blue\">\n",
    "\n",
    "\n",
    "\n",
    "\n",
    "\n",
    "\n",
    "\n",
    "\n",
    "\n",
    "\n",
    "\n",
    "\n",
    "\n",
    "\n",
    "\n",
    "</pre>"
   ]
  },
  {
   "cell_type": "markdown",
   "id": "0b3db862",
   "metadata": {
    "slideshow": {
     "slide_type": "subslide"
    }
   },
   "source": [
    "vi) Use the attached Simulink model ([ex19_5.slx](../matlab/ex19_5.slx)) of the the filter to validate the results. Comment on the quality of the design."
   ]
  },
  {
   "cell_type": "code",
   "execution_count": 9,
   "id": "e04e6017",
   "metadata": {
    "slideshow": {
     "slide_type": "notes"
    }
   },
   "outputs": [
    {
     "name": "stdout",
     "output_type": "stream",
     "text": [
      "K =\n",
      "     1\n",
      "\n",
      "Hs =\n",
      " \n",
      "           1.487e08\n",
      "  ---------------------------\n",
      "  s^2 + 3.659e04 s + 1.487e08\n",
      " \n",
      "Continuous-time transfer function.\n"
     ]
    },
    {
     "data": {
      "image/svg+xml": [
       "<?xml version=\"1.0\" encoding=\"UTF-8\" standalone=\"no\"?>\n",
       "<svg width=\"294.217mm\" height=\"177.094mm\"\n",
       " viewBox=\"0 0 834 502\"\n",
       " xmlns=\"http://www.w3.org/2000/svg\" xmlns:xlink=\"http://www.w3.org/1999/xlink\"  version=\"1.2\" baseProfile=\"tiny\">\n",
       "<title>Qt SVG Document</title>\n",
       "<desc>MATLAB, The MathWorks, Inc. Version 25.1.0.2833191 R2025a Prerelease Update 2</desc>\n",
       "<defs>\n",
       "</defs>\n",
       "<g fill=\"none\" stroke=\"black\" stroke-width=\"1\" fill-rule=\"evenodd\" stroke-linecap=\"square\" stroke-linejoin=\"bevel\" >\n",
       "\n",
       "<g fill=\"#ffffff\" fill-opacity=\"1\" stroke=\"none\" transform=\"matrix(0.49985,0,0,0.499751,0,0)\"\n",
       "font-family=\".AppleSystemUIFont\" font-size=\"13\" font-weight=\"400\" font-style=\"normal\" \n",
       ">\n",
       "<path vector-effect=\"none\" fill-rule=\"evenodd\" d=\"M0,0 L1668,0 L1668,1005 L0,1005 L0,0\"/>\n",
       "</g>\n",
       "\n",
       "<g fill=\"#212121\" fill-opacity=\"1\" stroke=\"#212121\" stroke-opacity=\"1\" stroke-width=\"1\" stroke-linecap=\"square\" stroke-linejoin=\"bevel\" transform=\"matrix(0.49985,0,0,0.499751,389.566,17.991)\"\n",
       "font-family=\"Helvetica\" font-size=\"22\" font-weight=\"700\" font-style=\"normal\" \n",
       ">\n",
       "<text fill=\"#212121\" fill-opacity=\"1\" stroke=\"none\" xml:space=\"preserve\" x=\"0\" y=\"-0.0625\" font-family=\"Helvetica\" font-size=\"22\" font-weight=\"700\" font-style=\"normal\" \n",
       " >Bode Diagram</text>\n",
       "</g>\n",
       "\n",
       "<g fill=\"#212121\" fill-opacity=\"1\" stroke=\"#212121\" stroke-opacity=\"1\" stroke-width=\"1\" stroke-linecap=\"square\" stroke-linejoin=\"bevel\" transform=\"matrix(0.49985,0,0,0.499751,383.317,476.598)\"\n",
       "font-family=\"Helvetica\" font-size=\"22\" font-weight=\"400\" font-style=\"normal\" \n",
       ">\n",
       "<text fill=\"#212121\" fill-opacity=\"1\" stroke=\"none\" xml:space=\"preserve\" x=\"0\" y=\"-0.0625\" font-family=\"Helvetica\" font-size=\"22\" font-weight=\"400\" font-style=\"normal\" \n",
       " >Frequency (rad/s)</text>\n",
       "</g>\n",
       "\n",
       "<g fill=\"#ffffff\" fill-opacity=\"1\" stroke=\"none\" transform=\"matrix(4.9985e-05,0,0,4.99751e-05,0,0)\"\n",
       "font-family=\"Helvetica\" font-size=\"22\" font-weight=\"400\" font-style=\"normal\" \n",
       ">\n",
       "<path vector-effect=\"none\" fill-rule=\"evenodd\" d=\"M2e+06,880000 L2e+06,4.55e+06 L1.508e+07,4.55e+06 L1.508e+07,880000 L2e+06,880000\"/>\n",
       "</g>\n",
       "\n",
       "<g fill=\"#212121\" fill-opacity=\"0.14902\" stroke=\"#212121\" stroke-opacity=\"0.14902\" stroke-width=\"1\" stroke-linecap=\"butt\" stroke-linejoin=\"round\" transform=\"matrix(0.49985,0,0,0.499751,0,0)\"\n",
       "font-family=\"Helvetica\" font-size=\"22\" font-weight=\"400\" font-style=\"normal\" \n",
       ">\n",
       "<polyline fill=\"none\" vector-effect=\"none\" points=\"200,455 200,88 \" />\n",
       "<polyline fill=\"none\" vector-effect=\"none\" points=\"527,455 527,88 \" />\n",
       "<polyline fill=\"none\" vector-effect=\"none\" points=\"854,455 854,88 \" />\n",
       "<polyline fill=\"none\" vector-effect=\"none\" points=\"1181,455 1181,88 \" />\n",
       "<polyline fill=\"none\" vector-effect=\"none\" points=\"1508,455 1508,88 \" />\n",
       "<polyline fill=\"none\" vector-effect=\"none\" points=\"1508,455 200,455 \" />\n",
       "<polyline fill=\"none\" vector-effect=\"none\" points=\"1508,409.125 200,409.125 \" />\n",
       "<polyline fill=\"none\" vector-effect=\"none\" points=\"1508,363.25 200,363.25 \" />\n",
       "<polyline fill=\"none\" vector-effect=\"none\" points=\"1508,317.375 200,317.375 \" />\n",
       "<polyline fill=\"none\" vector-effect=\"none\" points=\"1508,271.5 200,271.5 \" />\n",
       "<polyline fill=\"none\" vector-effect=\"none\" points=\"1508,225.625 200,225.625 \" />\n",
       "<polyline fill=\"none\" vector-effect=\"none\" points=\"1508,179.75 200,179.75 \" />\n",
       "<polyline fill=\"none\" vector-effect=\"none\" points=\"1508,133.875 200,133.875 \" />\n",
       "<polyline fill=\"none\" vector-effect=\"none\" points=\"1508,88 200,88 \" />\n",
       "</g>\n",
       "\n",
       "<g fill=\"#616161\" fill-opacity=\"1\" stroke=\"#616161\" stroke-opacity=\"1\" stroke-width=\"1\" stroke-linecap=\"square\" stroke-linejoin=\"round\" transform=\"matrix(0.49985,0,0,0.499751,0,0)\"\n",
       "font-family=\"Helvetica\" font-size=\"22\" font-weight=\"400\" font-style=\"normal\" \n",
       ">\n",
       "<polyline fill=\"none\" vector-effect=\"none\" points=\"200,455 1508,455 \" />\n",
       "<polyline fill=\"none\" vector-effect=\"none\" points=\"200,88 1508,88 \" />\n",
       "<polyline fill=\"none\" vector-effect=\"none\" points=\"200,455 200,441.92 \" />\n",
       "<polyline fill=\"none\" vector-effect=\"none\" points=\"527,455 527,441.92 \" />\n",
       "<polyline fill=\"none\" vector-effect=\"none\" points=\"854,455 854,441.92 \" />\n",
       "<polyline fill=\"none\" vector-effect=\"none\" points=\"1181,455 1181,441.92 \" />\n",
       "<polyline fill=\"none\" vector-effect=\"none\" points=\"1508,455 1508,441.92 \" />\n",
       "<polyline fill=\"none\" vector-effect=\"none\" points=\"200,88 200,101.08 \" />\n",
       "<polyline fill=\"none\" vector-effect=\"none\" points=\"527,88 527,101.08 \" />\n",
       "<polyline fill=\"none\" vector-effect=\"none\" points=\"854,88 854,101.08 \" />\n",
       "<polyline fill=\"none\" vector-effect=\"none\" points=\"1181,88 1181,101.08 \" />\n",
       "<polyline fill=\"none\" vector-effect=\"none\" points=\"1508,88 1508,101.08 \" />\n",
       "<polyline fill=\"none\" vector-effect=\"none\" points=\"200,455 200,448.46 \" />\n",
       "<polyline fill=\"none\" vector-effect=\"none\" points=\"298.437,455 298.437,448.46 \" />\n",
       "<polyline fill=\"none\" vector-effect=\"none\" points=\"356.019,455 356.019,448.46 \" />\n",
       "<polyline fill=\"none\" vector-effect=\"none\" points=\"396.874,455 396.874,448.46 \" />\n",
       "<polyline fill=\"none\" vector-effect=\"none\" points=\"428.563,455 428.563,448.46 \" />\n",
       "<polyline fill=\"none\" vector-effect=\"none\" points=\"454.455,455 454.455,448.46 \" />\n",
       "<polyline fill=\"none\" vector-effect=\"none\" points=\"476.347,455 476.347,448.46 \" />\n",
       "<polyline fill=\"none\" vector-effect=\"none\" points=\"495.31,455 495.31,448.46 \" />\n",
       "<polyline fill=\"none\" vector-effect=\"none\" points=\"512.037,455 512.037,448.46 \" />\n",
       "<polyline fill=\"none\" vector-effect=\"none\" points=\"527,455 527,448.46 \" />\n",
       "<polyline fill=\"none\" vector-effect=\"none\" points=\"625.437,455 625.437,448.46 \" />\n",
       "<polyline fill=\"none\" vector-effect=\"none\" points=\"683.019,455 683.019,448.46 \" />\n",
       "<polyline fill=\"none\" vector-effect=\"none\" points=\"723.874,455 723.874,448.46 \" />\n",
       "<polyline fill=\"none\" vector-effect=\"none\" points=\"755.563,455 755.563,448.46 \" />\n",
       "<polyline fill=\"none\" vector-effect=\"none\" points=\"781.455,455 781.455,448.46 \" />\n",
       "<polyline fill=\"none\" vector-effect=\"none\" points=\"803.347,455 803.347,448.46 \" />\n",
       "<polyline fill=\"none\" vector-effect=\"none\" points=\"822.31,455 822.31,448.46 \" />\n",
       "<polyline fill=\"none\" vector-effect=\"none\" points=\"839.037,455 839.037,448.46 \" />\n",
       "<polyline fill=\"none\" vector-effect=\"none\" points=\"854,455 854,448.46 \" />\n",
       "<polyline fill=\"none\" vector-effect=\"none\" points=\"952.437,455 952.437,448.46 \" />\n",
       "<polyline fill=\"none\" vector-effect=\"none\" points=\"1010.02,455 1010.02,448.46 \" />\n",
       "<polyline fill=\"none\" vector-effect=\"none\" points=\"1050.87,455 1050.87,448.46 \" />\n",
       "<polyline fill=\"none\" vector-effect=\"none\" points=\"1082.56,455 1082.56,448.46 \" />\n",
       "<polyline fill=\"none\" vector-effect=\"none\" points=\"1108.46,455 1108.46,448.46 \" />\n",
       "<polyline fill=\"none\" vector-effect=\"none\" points=\"1130.35,455 1130.35,448.46 \" />\n",
       "<polyline fill=\"none\" vector-effect=\"none\" points=\"1149.31,455 1149.31,448.46 \" />\n",
       "<polyline fill=\"none\" vector-effect=\"none\" points=\"1166.04,455 1166.04,448.46 \" />\n",
       "<polyline fill=\"none\" vector-effect=\"none\" points=\"1181,455 1181,448.46 \" />\n",
       "<polyline fill=\"none\" vector-effect=\"none\" points=\"1279.44,455 1279.44,448.46 \" />\n",
       "<polyline fill=\"none\" vector-effect=\"none\" points=\"1337.02,455 1337.02,448.46 \" />\n",
       "<polyline fill=\"none\" vector-effect=\"none\" points=\"1377.87,455 1377.87,448.46 \" />\n",
       "<polyline fill=\"none\" vector-effect=\"none\" points=\"1409.56,455 1409.56,448.46 \" />\n",
       "<polyline fill=\"none\" vector-effect=\"none\" points=\"1435.46,455 1435.46,448.46 \" />\n",
       "<polyline fill=\"none\" vector-effect=\"none\" points=\"1457.35,455 1457.35,448.46 \" />\n",
       "<polyline fill=\"none\" vector-effect=\"none\" points=\"1476.31,455 1476.31,448.46 \" />\n",
       "<polyline fill=\"none\" vector-effect=\"none\" points=\"1493.04,455 1493.04,448.46 \" />\n",
       "<polyline fill=\"none\" vector-effect=\"none\" points=\"1508,455 1508,448.46 \" />\n",
       "<polyline fill=\"none\" vector-effect=\"none\" points=\"200,88 200,94.54 \" />\n",
       "<polyline fill=\"none\" vector-effect=\"none\" points=\"298.437,88 298.437,94.54 \" />\n",
       "<polyline fill=\"none\" vector-effect=\"none\" points=\"356.019,88 356.019,94.54 \" />\n",
       "<polyline fill=\"none\" vector-effect=\"none\" points=\"396.874,88 396.874,94.54 \" />\n",
       "<polyline fill=\"none\" vector-effect=\"none\" points=\"428.563,88 428.563,94.54 \" />\n",
       "<polyline fill=\"none\" vector-effect=\"none\" points=\"454.455,88 454.455,94.54 \" />\n",
       "<polyline fill=\"none\" vector-effect=\"none\" points=\"476.347,88 476.347,94.54 \" />\n",
       "<polyline fill=\"none\" vector-effect=\"none\" points=\"495.31,88 495.31,94.54 \" />\n",
       "<polyline fill=\"none\" vector-effect=\"none\" points=\"512.037,88 512.037,94.54 \" />\n",
       "<polyline fill=\"none\" vector-effect=\"none\" points=\"527,88 527,94.54 \" />\n",
       "<polyline fill=\"none\" vector-effect=\"none\" points=\"625.437,88 625.437,94.54 \" />\n",
       "<polyline fill=\"none\" vector-effect=\"none\" points=\"683.019,88 683.019,94.54 \" />\n",
       "<polyline fill=\"none\" vector-effect=\"none\" points=\"723.874,88 723.874,94.54 \" />\n",
       "<polyline fill=\"none\" vector-effect=\"none\" points=\"755.563,88 755.563,94.54 \" />\n",
       "<polyline fill=\"none\" vector-effect=\"none\" points=\"781.455,88 781.455,94.54 \" />\n",
       "<polyline fill=\"none\" vector-effect=\"none\" points=\"803.347,88 803.347,94.54 \" />\n",
       "<polyline fill=\"none\" vector-effect=\"none\" points=\"822.31,88 822.31,94.54 \" />\n",
       "<polyline fill=\"none\" vector-effect=\"none\" points=\"839.037,88 839.037,94.54 \" />\n",
       "<polyline fill=\"none\" vector-effect=\"none\" points=\"854,88 854,94.54 \" />\n",
       "<polyline fill=\"none\" vector-effect=\"none\" points=\"952.437,88 952.437,94.54 \" />\n",
       "<polyline fill=\"none\" vector-effect=\"none\" points=\"1010.02,88 1010.02,94.54 \" />\n",
       "<polyline fill=\"none\" vector-effect=\"none\" points=\"1050.87,88 1050.87,94.54 \" />\n",
       "<polyline fill=\"none\" vector-effect=\"none\" points=\"1082.56,88 1082.56,94.54 \" />\n",
       "<polyline fill=\"none\" vector-effect=\"none\" points=\"1108.46,88 1108.46,94.54 \" />\n",
       "<polyline fill=\"none\" vector-effect=\"none\" points=\"1130.35,88 1130.35,94.54 \" />\n",
       "<polyline fill=\"none\" vector-effect=\"none\" points=\"1149.31,88 1149.31,94.54 \" />\n",
       "<polyline fill=\"none\" vector-effect=\"none\" points=\"1166.04,88 1166.04,94.54 \" />\n",
       "<polyline fill=\"none\" vector-effect=\"none\" points=\"1181,88 1181,94.54 \" />\n",
       "<polyline fill=\"none\" vector-effect=\"none\" points=\"1279.44,88 1279.44,94.54 \" />\n",
       "<polyline fill=\"none\" vector-effect=\"none\" points=\"1337.02,88 1337.02,94.54 \" />\n",
       "<polyline fill=\"none\" vector-effect=\"none\" points=\"1377.87,88 1377.87,94.54 \" />\n",
       "<polyline fill=\"none\" vector-effect=\"none\" points=\"1409.56,88 1409.56,94.54 \" />\n",
       "<polyline fill=\"none\" vector-effect=\"none\" points=\"1435.46,88 1435.46,94.54 \" />\n",
       "<polyline fill=\"none\" vector-effect=\"none\" points=\"1457.35,88 1457.35,94.54 \" />\n",
       "<polyline fill=\"none\" vector-effect=\"none\" points=\"1476.31,88 1476.31,94.54 \" />\n",
       "<polyline fill=\"none\" vector-effect=\"none\" points=\"1493.04,88 1493.04,94.54 \" />\n",
       "<polyline fill=\"none\" vector-effect=\"none\" points=\"1508,88 1508,94.54 \" />\n",
       "<polyline fill=\"none\" vector-effect=\"none\" points=\"200,455 200,88 \" />\n",
       "<polyline fill=\"none\" vector-effect=\"none\" points=\"1508,455 1508,88 \" />\n",
       "<polyline fill=\"none\" vector-effect=\"none\" points=\"200,455 213.08,455 \" />\n",
       "<polyline fill=\"none\" vector-effect=\"none\" points=\"200,409.125 213.08,409.125 \" />\n",
       "<polyline fill=\"none\" vector-effect=\"none\" points=\"200,363.25 213.08,363.25 \" />\n",
       "<polyline fill=\"none\" vector-effect=\"none\" points=\"200,317.375 213.08,317.375 \" />\n",
       "<polyline fill=\"none\" vector-effect=\"none\" points=\"200,271.5 213.08,271.5 \" />\n",
       "<polyline fill=\"none\" vector-effect=\"none\" points=\"200,225.625 213.08,225.625 \" />\n",
       "<polyline fill=\"none\" vector-effect=\"none\" points=\"200,179.75 213.08,179.75 \" />\n",
       "<polyline fill=\"none\" vector-effect=\"none\" points=\"200,133.875 213.08,133.875 \" />\n",
       "<polyline fill=\"none\" vector-effect=\"none\" points=\"200,88 213.08,88 \" />\n",
       "<polyline fill=\"none\" vector-effect=\"none\" points=\"1508,455 1494.92,455 \" />\n",
       "<polyline fill=\"none\" vector-effect=\"none\" points=\"1508,409.125 1494.92,409.125 \" />\n",
       "<polyline fill=\"none\" vector-effect=\"none\" points=\"1508,363.25 1494.92,363.25 \" />\n",
       "<polyline fill=\"none\" vector-effect=\"none\" points=\"1508,317.375 1494.92,317.375 \" />\n",
       "<polyline fill=\"none\" vector-effect=\"none\" points=\"1508,271.5 1494.92,271.5 \" />\n",
       "<polyline fill=\"none\" vector-effect=\"none\" points=\"1508,225.625 1494.92,225.625 \" />\n",
       "<polyline fill=\"none\" vector-effect=\"none\" points=\"1508,179.75 1494.92,179.75 \" />\n",
       "<polyline fill=\"none\" vector-effect=\"none\" points=\"1508,133.875 1494.92,133.875 \" />\n",
       "<polyline fill=\"none\" vector-effect=\"none\" points=\"1508,88 1494.92,88 \" />\n",
       "</g>\n",
       "\n",
       "<g fill=\"#616161\" fill-opacity=\"1\" stroke=\"#616161\" stroke-opacity=\"1\" stroke-width=\"1\" stroke-linecap=\"square\" stroke-linejoin=\"bevel\" transform=\"matrix(0.49985,0,0,0.499751,81.4756,229.885)\"\n",
       "font-family=\"Helvetica\" font-size=\"20\" font-weight=\"400\" font-style=\"normal\" \n",
       ">\n",
       "<text fill=\"#616161\" fill-opacity=\"1\" stroke=\"none\" xml:space=\"preserve\" x=\"0\" y=\"0.390625\" font-family=\"Helvetica\" font-size=\"20\" font-weight=\"400\" font-style=\"normal\" \n",
       " >-80</text>\n",
       "</g>\n",
       "\n",
       "<g fill=\"#616161\" fill-opacity=\"1\" stroke=\"#616161\" stroke-opacity=\"1\" stroke-width=\"1\" stroke-linecap=\"square\" stroke-linejoin=\"bevel\" transform=\"matrix(0.49985,0,0,0.499751,81.4756,206.959)\"\n",
       "font-family=\"Helvetica\" font-size=\"20\" font-weight=\"400\" font-style=\"normal\" \n",
       ">\n",
       "<text fill=\"#616161\" fill-opacity=\"1\" stroke=\"none\" xml:space=\"preserve\" x=\"0\" y=\"0.390625\" font-family=\"Helvetica\" font-size=\"20\" font-weight=\"400\" font-style=\"normal\" \n",
       " >-70</text>\n",
       "</g>\n",
       "\n",
       "<g fill=\"#616161\" fill-opacity=\"1\" stroke=\"#616161\" stroke-opacity=\"1\" stroke-width=\"1\" stroke-linecap=\"square\" stroke-linejoin=\"bevel\" transform=\"matrix(0.49985,0,0,0.499751,81.4756,184.033)\"\n",
       "font-family=\"Helvetica\" font-size=\"20\" font-weight=\"400\" font-style=\"normal\" \n",
       ">\n",
       "<text fill=\"#616161\" fill-opacity=\"1\" stroke=\"none\" xml:space=\"preserve\" x=\"0\" y=\"0.390625\" font-family=\"Helvetica\" font-size=\"20\" font-weight=\"400\" font-style=\"normal\" \n",
       " >-60</text>\n",
       "</g>\n",
       "\n",
       "<g fill=\"#616161\" fill-opacity=\"1\" stroke=\"#616161\" stroke-opacity=\"1\" stroke-width=\"1\" stroke-linecap=\"square\" stroke-linejoin=\"bevel\" transform=\"matrix(0.49985,0,0,0.499751,81.4756,161.107)\"\n",
       "font-family=\"Helvetica\" font-size=\"20\" font-weight=\"400\" font-style=\"normal\" \n",
       ">\n",
       "<text fill=\"#616161\" fill-opacity=\"1\" stroke=\"none\" xml:space=\"preserve\" x=\"0\" y=\"0.390625\" font-family=\"Helvetica\" font-size=\"20\" font-weight=\"400\" font-style=\"normal\" \n",
       " >-50</text>\n",
       "</g>\n",
       "\n",
       "<g fill=\"#616161\" fill-opacity=\"1\" stroke=\"#616161\" stroke-opacity=\"1\" stroke-width=\"1\" stroke-linecap=\"square\" stroke-linejoin=\"bevel\" transform=\"matrix(0.49985,0,0,0.499751,81.4756,138.181)\"\n",
       "font-family=\"Helvetica\" font-size=\"20\" font-weight=\"400\" font-style=\"normal\" \n",
       ">\n",
       "<text fill=\"#616161\" fill-opacity=\"1\" stroke=\"none\" xml:space=\"preserve\" x=\"0\" y=\"0.390625\" font-family=\"Helvetica\" font-size=\"20\" font-weight=\"400\" font-style=\"normal\" \n",
       " >-40</text>\n",
       "</g>\n",
       "\n",
       "<g fill=\"#616161\" fill-opacity=\"1\" stroke=\"#616161\" stroke-opacity=\"1\" stroke-width=\"1\" stroke-linecap=\"square\" stroke-linejoin=\"bevel\" transform=\"matrix(0.49985,0,0,0.499751,81.4756,115.255)\"\n",
       "font-family=\"Helvetica\" font-size=\"20\" font-weight=\"400\" font-style=\"normal\" \n",
       ">\n",
       "<text fill=\"#616161\" fill-opacity=\"1\" stroke=\"none\" xml:space=\"preserve\" x=\"0\" y=\"0.390625\" font-family=\"Helvetica\" font-size=\"20\" font-weight=\"400\" font-style=\"normal\" \n",
       " >-30</text>\n",
       "</g>\n",
       "\n",
       "<g fill=\"#616161\" fill-opacity=\"1\" stroke=\"#616161\" stroke-opacity=\"1\" stroke-width=\"1\" stroke-linecap=\"square\" stroke-linejoin=\"bevel\" transform=\"matrix(0.49985,0,0,0.499751,81.4756,92.329)\"\n",
       "font-family=\"Helvetica\" font-size=\"20\" font-weight=\"400\" font-style=\"normal\" \n",
       ">\n",
       "<text fill=\"#616161\" fill-opacity=\"1\" stroke=\"none\" xml:space=\"preserve\" x=\"0\" y=\"0.390625\" font-family=\"Helvetica\" font-size=\"20\" font-weight=\"400\" font-style=\"normal\" \n",
       " >-20</text>\n",
       "</g>\n",
       "\n",
       "<g fill=\"#616161\" fill-opacity=\"1\" stroke=\"#616161\" stroke-opacity=\"1\" stroke-width=\"1\" stroke-linecap=\"square\" stroke-linejoin=\"bevel\" transform=\"matrix(0.49985,0,0,0.499751,81.4756,69.4029)\"\n",
       "font-family=\"Helvetica\" font-size=\"20\" font-weight=\"400\" font-style=\"normal\" \n",
       ">\n",
       "<text fill=\"#616161\" fill-opacity=\"1\" stroke=\"none\" xml:space=\"preserve\" x=\"0\" y=\"0.390625\" font-family=\"Helvetica\" font-size=\"20\" font-weight=\"400\" font-style=\"normal\" \n",
       " >-10</text>\n",
       "</g>\n",
       "\n",
       "<g fill=\"#616161\" fill-opacity=\"1\" stroke=\"#616161\" stroke-opacity=\"1\" stroke-width=\"1\" stroke-linecap=\"square\" stroke-linejoin=\"bevel\" transform=\"matrix(0.49985,0,0,0.499751,90.4729,46.4768)\"\n",
       "font-family=\"Helvetica\" font-size=\"20\" font-weight=\"400\" font-style=\"normal\" \n",
       ">\n",
       "<text fill=\"#616161\" fill-opacity=\"1\" stroke=\"none\" xml:space=\"preserve\" x=\"0\" y=\"0.390625\" font-family=\"Helvetica\" font-size=\"20\" font-weight=\"400\" font-style=\"normal\" \n",
       " >0</text>\n",
       "</g>\n",
       "\n",
       "<g fill=\"#212121\" fill-opacity=\"1\" stroke=\"#212121\" stroke-opacity=\"1\" stroke-width=\"1\" stroke-linecap=\"square\" stroke-linejoin=\"bevel\" transform=\"matrix(0,-0.499751,0.49985,0,75.9772,173.164)\"\n",
       "font-family=\"Helvetica\" font-size=\"22\" font-weight=\"400\" font-style=\"normal\" \n",
       ">\n",
       "<text fill=\"#212121\" fill-opacity=\"1\" stroke=\"none\" xml:space=\"preserve\" x=\"0\" y=\"-0.0625\" font-family=\"Helvetica\" font-size=\"22\" font-weight=\"400\" font-style=\"normal\" \n",
       " >Magnitude (dB)</text>\n",
       "</g>\n",
       "\n",
       "<g fill=\"none\" stroke=\"#1171be\" stroke-opacity=\"1\" stroke-width=\"1\" stroke-linecap=\"butt\" stroke-linejoin=\"round\" transform=\"matrix(0.49985,0,0,0.499751,0,0)\"\n",
       "font-family=\"Helvetica\" font-size=\"22\" font-weight=\"400\" font-style=\"normal\" \n",
       ">\n",
       "<polyline fill=\"none\" vector-effect=\"none\" points=\"200,88.0095 211.918,88.0111 233.894,88.0151 255.869,88.0206 277.845,88.028 299.821,88.0382 321.797,88.0521 343.773,88.0709 365.749,88.0966 387.725,88.1315 409.701,88.179 431.677,88.2435 453.653,88.3311 475.629,88.45 497.604,88.6108 519.58,88.828 541.556,89.1204 563.532,89.5123 585.508,90.0348 607.484,90.7264 629.46,91.6334 651.436,92.8094 673.412,94.3127 695.388,96.2028 717.364,98.5337 739.339,101.349 761.315,104.674 783.291,108.517 805.267,112.869 827.243,117.707 849.219,123.007 871.195,128.746 893.171,134.912 915.147,141.505 937.123,148.537 959.099,156.031 981.074,164.011 1003.05,172.5 1025.03,181.507 1047,191.024 1068.98,201.025 1090.95,211.467 1112.93,222.296 1134.91,233.452 1156.88,244.877 1178.86,256.517 1200.83,268.327 1222.81,280.267 1244.79,292.307 1266.76,304.422 1288.74,316.593 1310.71,328.806 1332.69,341.05 1354.66,353.318 1376.64,365.603 1398.62,377.9 1420.59,390.206 1442.57,402.519 1464.54,414.837 1486.52,427.159 1508,439.206 \" />\n",
       "</g>\n",
       "\n",
       "<g fill=\"#ffffff\" fill-opacity=\"1\" stroke=\"none\" transform=\"matrix(4.9985e-05,0,0,4.99751e-05,0,0)\"\n",
       "font-family=\"Helvetica\" font-size=\"22\" font-weight=\"400\" font-style=\"normal\" \n",
       ">\n",
       "<path vector-effect=\"none\" fill-rule=\"evenodd\" d=\"M2e+06,5.26e+06 L2e+06,8.93e+06 L1.508e+07,8.93e+06 L1.508e+07,5.26e+06 L2e+06,5.26e+06\"/>\n",
       "</g>\n",
       "\n",
       "<g fill=\"#212121\" fill-opacity=\"0.14902\" stroke=\"#212121\" stroke-opacity=\"0.14902\" stroke-width=\"1\" stroke-linecap=\"butt\" stroke-linejoin=\"round\" transform=\"matrix(0.49985,0,0,0.499751,0,0)\"\n",
       "font-family=\"Helvetica\" font-size=\"22\" font-weight=\"400\" font-style=\"normal\" \n",
       ">\n",
       "<polyline fill=\"none\" vector-effect=\"none\" points=\"200,893 200,526 \" />\n",
       "<polyline fill=\"none\" vector-effect=\"none\" points=\"527,893 527,526 \" />\n",
       "<polyline fill=\"none\" vector-effect=\"none\" points=\"854,893 854,526 \" />\n",
       "<polyline fill=\"none\" vector-effect=\"none\" points=\"1181,893 1181,526 \" />\n",
       "<polyline fill=\"none\" vector-effect=\"none\" points=\"1508,893 1508,526 \" />\n",
       "<polyline fill=\"none\" vector-effect=\"none\" points=\"1508,893 200,893 \" />\n",
       "<polyline fill=\"none\" vector-effect=\"none\" points=\"1508,801.25 200,801.25 \" />\n",
       "<polyline fill=\"none\" vector-effect=\"none\" points=\"1508,709.5 200,709.5 \" />\n",
       "<polyline fill=\"none\" vector-effect=\"none\" points=\"1508,617.75 200,617.75 \" />\n",
       "<polyline fill=\"none\" vector-effect=\"none\" points=\"1508,526 200,526 \" />\n",
       "</g>\n",
       "\n",
       "<g fill=\"#616161\" fill-opacity=\"1\" stroke=\"#616161\" stroke-opacity=\"1\" stroke-width=\"1\" stroke-linecap=\"square\" stroke-linejoin=\"round\" transform=\"matrix(0.49985,0,0,0.499751,0,0)\"\n",
       "font-family=\"Helvetica\" font-size=\"22\" font-weight=\"400\" font-style=\"normal\" \n",
       ">\n",
       "<polyline fill=\"none\" vector-effect=\"none\" points=\"200,893 1508,893 \" />\n",
       "<polyline fill=\"none\" vector-effect=\"none\" points=\"200,526 1508,526 \" />\n",
       "<polyline fill=\"none\" vector-effect=\"none\" points=\"200,893 200,879.92 \" />\n",
       "<polyline fill=\"none\" vector-effect=\"none\" points=\"527,893 527,879.92 \" />\n",
       "<polyline fill=\"none\" vector-effect=\"none\" points=\"854,893 854,879.92 \" />\n",
       "<polyline fill=\"none\" vector-effect=\"none\" points=\"1181,893 1181,879.92 \" />\n",
       "<polyline fill=\"none\" vector-effect=\"none\" points=\"1508,893 1508,879.92 \" />\n",
       "<polyline fill=\"none\" vector-effect=\"none\" points=\"200,526 200,539.08 \" />\n",
       "<polyline fill=\"none\" vector-effect=\"none\" points=\"527,526 527,539.08 \" />\n",
       "<polyline fill=\"none\" vector-effect=\"none\" points=\"854,526 854,539.08 \" />\n",
       "<polyline fill=\"none\" vector-effect=\"none\" points=\"1181,526 1181,539.08 \" />\n",
       "<polyline fill=\"none\" vector-effect=\"none\" points=\"1508,526 1508,539.08 \" />\n",
       "<polyline fill=\"none\" vector-effect=\"none\" points=\"200,893 200,886.46 \" />\n",
       "<polyline fill=\"none\" vector-effect=\"none\" points=\"298.437,893 298.437,886.46 \" />\n",
       "<polyline fill=\"none\" vector-effect=\"none\" points=\"356.019,893 356.019,886.46 \" />\n",
       "<polyline fill=\"none\" vector-effect=\"none\" points=\"396.874,893 396.874,886.46 \" />\n",
       "<polyline fill=\"none\" vector-effect=\"none\" points=\"428.563,893 428.563,886.46 \" />\n",
       "<polyline fill=\"none\" vector-effect=\"none\" points=\"454.455,893 454.455,886.46 \" />\n",
       "<polyline fill=\"none\" vector-effect=\"none\" points=\"476.347,893 476.347,886.46 \" />\n",
       "<polyline fill=\"none\" vector-effect=\"none\" points=\"495.31,893 495.31,886.46 \" />\n",
       "<polyline fill=\"none\" vector-effect=\"none\" points=\"512.037,893 512.037,886.46 \" />\n",
       "<polyline fill=\"none\" vector-effect=\"none\" points=\"527,893 527,886.46 \" />\n",
       "<polyline fill=\"none\" vector-effect=\"none\" points=\"625.437,893 625.437,886.46 \" />\n",
       "<polyline fill=\"none\" vector-effect=\"none\" points=\"683.019,893 683.019,886.46 \" />\n",
       "<polyline fill=\"none\" vector-effect=\"none\" points=\"723.874,893 723.874,886.46 \" />\n",
       "<polyline fill=\"none\" vector-effect=\"none\" points=\"755.563,893 755.563,886.46 \" />\n",
       "<polyline fill=\"none\" vector-effect=\"none\" points=\"781.455,893 781.455,886.46 \" />\n",
       "<polyline fill=\"none\" vector-effect=\"none\" points=\"803.347,893 803.347,886.46 \" />\n",
       "<polyline fill=\"none\" vector-effect=\"none\" points=\"822.31,893 822.31,886.46 \" />\n",
       "<polyline fill=\"none\" vector-effect=\"none\" points=\"839.037,893 839.037,886.46 \" />\n",
       "<polyline fill=\"none\" vector-effect=\"none\" points=\"854,893 854,886.46 \" />\n",
       "<polyline fill=\"none\" vector-effect=\"none\" points=\"952.437,893 952.437,886.46 \" />\n",
       "<polyline fill=\"none\" vector-effect=\"none\" points=\"1010.02,893 1010.02,886.46 \" />\n",
       "<polyline fill=\"none\" vector-effect=\"none\" points=\"1050.87,893 1050.87,886.46 \" />\n",
       "<polyline fill=\"none\" vector-effect=\"none\" points=\"1082.56,893 1082.56,886.46 \" />\n",
       "<polyline fill=\"none\" vector-effect=\"none\" points=\"1108.46,893 1108.46,886.46 \" />\n",
       "<polyline fill=\"none\" vector-effect=\"none\" points=\"1130.35,893 1130.35,886.46 \" />\n",
       "<polyline fill=\"none\" vector-effect=\"none\" points=\"1149.31,893 1149.31,886.46 \" />\n",
       "<polyline fill=\"none\" vector-effect=\"none\" points=\"1166.04,893 1166.04,886.46 \" />\n",
       "<polyline fill=\"none\" vector-effect=\"none\" points=\"1181,893 1181,886.46 \" />\n",
       "<polyline fill=\"none\" vector-effect=\"none\" points=\"1279.44,893 1279.44,886.46 \" />\n",
       "<polyline fill=\"none\" vector-effect=\"none\" points=\"1337.02,893 1337.02,886.46 \" />\n",
       "<polyline fill=\"none\" vector-effect=\"none\" points=\"1377.87,893 1377.87,886.46 \" />\n",
       "<polyline fill=\"none\" vector-effect=\"none\" points=\"1409.56,893 1409.56,886.46 \" />\n",
       "<polyline fill=\"none\" vector-effect=\"none\" points=\"1435.46,893 1435.46,886.46 \" />\n",
       "<polyline fill=\"none\" vector-effect=\"none\" points=\"1457.35,893 1457.35,886.46 \" />\n",
       "<polyline fill=\"none\" vector-effect=\"none\" points=\"1476.31,893 1476.31,886.46 \" />\n",
       "<polyline fill=\"none\" vector-effect=\"none\" points=\"1493.04,893 1493.04,886.46 \" />\n",
       "<polyline fill=\"none\" vector-effect=\"none\" points=\"1508,893 1508,886.46 \" />\n",
       "<polyline fill=\"none\" vector-effect=\"none\" points=\"200,526 200,532.54 \" />\n",
       "<polyline fill=\"none\" vector-effect=\"none\" points=\"298.437,526 298.437,532.54 \" />\n",
       "<polyline fill=\"none\" vector-effect=\"none\" points=\"356.019,526 356.019,532.54 \" />\n",
       "<polyline fill=\"none\" vector-effect=\"none\" points=\"396.874,526 396.874,532.54 \" />\n",
       "<polyline fill=\"none\" vector-effect=\"none\" points=\"428.563,526 428.563,532.54 \" />\n",
       "<polyline fill=\"none\" vector-effect=\"none\" points=\"454.455,526 454.455,532.54 \" />\n",
       "<polyline fill=\"none\" vector-effect=\"none\" points=\"476.347,526 476.347,532.54 \" />\n",
       "<polyline fill=\"none\" vector-effect=\"none\" points=\"495.31,526 495.31,532.54 \" />\n",
       "<polyline fill=\"none\" vector-effect=\"none\" points=\"512.037,526 512.037,532.54 \" />\n",
       "<polyline fill=\"none\" vector-effect=\"none\" points=\"527,526 527,532.54 \" />\n",
       "<polyline fill=\"none\" vector-effect=\"none\" points=\"625.437,526 625.437,532.54 \" />\n",
       "<polyline fill=\"none\" vector-effect=\"none\" points=\"683.019,526 683.019,532.54 \" />\n",
       "<polyline fill=\"none\" vector-effect=\"none\" points=\"723.874,526 723.874,532.54 \" />\n",
       "<polyline fill=\"none\" vector-effect=\"none\" points=\"755.563,526 755.563,532.54 \" />\n",
       "<polyline fill=\"none\" vector-effect=\"none\" points=\"781.455,526 781.455,532.54 \" />\n",
       "<polyline fill=\"none\" vector-effect=\"none\" points=\"803.347,526 803.347,532.54 \" />\n",
       "<polyline fill=\"none\" vector-effect=\"none\" points=\"822.31,526 822.31,532.54 \" />\n",
       "<polyline fill=\"none\" vector-effect=\"none\" points=\"839.037,526 839.037,532.54 \" />\n",
       "<polyline fill=\"none\" vector-effect=\"none\" points=\"854,526 854,532.54 \" />\n",
       "<polyline fill=\"none\" vector-effect=\"none\" points=\"952.437,526 952.437,532.54 \" />\n",
       "<polyline fill=\"none\" vector-effect=\"none\" points=\"1010.02,526 1010.02,532.54 \" />\n",
       "<polyline fill=\"none\" vector-effect=\"none\" points=\"1050.87,526 1050.87,532.54 \" />\n",
       "<polyline fill=\"none\" vector-effect=\"none\" points=\"1082.56,526 1082.56,532.54 \" />\n",
       "<polyline fill=\"none\" vector-effect=\"none\" points=\"1108.46,526 1108.46,532.54 \" />\n",
       "<polyline fill=\"none\" vector-effect=\"none\" points=\"1130.35,526 1130.35,532.54 \" />\n",
       "<polyline fill=\"none\" vector-effect=\"none\" points=\"1149.31,526 1149.31,532.54 \" />\n",
       "<polyline fill=\"none\" vector-effect=\"none\" points=\"1166.04,526 1166.04,532.54 \" />\n",
       "<polyline fill=\"none\" vector-effect=\"none\" points=\"1181,526 1181,532.54 \" />\n",
       "<polyline fill=\"none\" vector-effect=\"none\" points=\"1279.44,526 1279.44,532.54 \" />\n",
       "<polyline fill=\"none\" vector-effect=\"none\" points=\"1337.02,526 1337.02,532.54 \" />\n",
       "<polyline fill=\"none\" vector-effect=\"none\" points=\"1377.87,526 1377.87,532.54 \" />\n",
       "<polyline fill=\"none\" vector-effect=\"none\" points=\"1409.56,526 1409.56,532.54 \" />\n",
       "<polyline fill=\"none\" vector-effect=\"none\" points=\"1435.46,526 1435.46,532.54 \" />\n",
       "<polyline fill=\"none\" vector-effect=\"none\" points=\"1457.35,526 1457.35,532.54 \" />\n",
       "<polyline fill=\"none\" vector-effect=\"none\" points=\"1476.31,526 1476.31,532.54 \" />\n",
       "<polyline fill=\"none\" vector-effect=\"none\" points=\"1493.04,526 1493.04,532.54 \" />\n",
       "<polyline fill=\"none\" vector-effect=\"none\" points=\"1508,526 1508,532.54 \" />\n",
       "</g>\n",
       "\n",
       "<g fill=\"#616161\" fill-opacity=\"1\" stroke=\"#616161\" stroke-opacity=\"1\" stroke-width=\"1\" stroke-linecap=\"square\" stroke-linejoin=\"bevel\" transform=\"matrix(0.49985,0,0,0.499751,91.9724,461.27)\"\n",
       "font-family=\"Helvetica\" font-size=\"20\" font-weight=\"400\" font-style=\"normal\" \n",
       ">\n",
       "<text fill=\"#616161\" fill-opacity=\"1\" stroke=\"none\" xml:space=\"preserve\" x=\"0\" y=\"0.390625\" font-family=\"Helvetica\" font-size=\"20\" font-weight=\"400\" font-style=\"normal\" \n",
       " >10</text>\n",
       "</g>\n",
       "\n",
       "<g fill=\"#616161\" fill-opacity=\"1\" stroke=\"#616161\" stroke-opacity=\"1\" stroke-width=\"1\" stroke-linecap=\"square\" stroke-linejoin=\"bevel\" transform=\"matrix(0.49985,0,0,0.499751,102.969,456.273)\"\n",
       "font-family=\"Helvetica\" font-size=\"16\" font-weight=\"400\" font-style=\"normal\" \n",
       ">\n",
       "<text fill=\"#616161\" fill-opacity=\"1\" stroke=\"none\" xml:space=\"preserve\" x=\"0\" y=\"0.3125\" font-family=\"Helvetica\" font-size=\"16\" font-weight=\"400\" font-style=\"normal\" \n",
       " >2</text>\n",
       "</g>\n",
       "\n",
       "<g fill=\"#616161\" fill-opacity=\"1\" stroke=\"#616161\" stroke-opacity=\"1\" stroke-width=\"1\" stroke-linecap=\"square\" stroke-linejoin=\"bevel\" transform=\"matrix(0.49985,0,0,0.499751,255.423,461.27)\"\n",
       "font-family=\"Helvetica\" font-size=\"20\" font-weight=\"400\" font-style=\"normal\" \n",
       ">\n",
       "<text fill=\"#616161\" fill-opacity=\"1\" stroke=\"none\" xml:space=\"preserve\" x=\"0\" y=\"0.390625\" font-family=\"Helvetica\" font-size=\"20\" font-weight=\"400\" font-style=\"normal\" \n",
       " >10</text>\n",
       "</g>\n",
       "\n",
       "<g fill=\"#616161\" fill-opacity=\"1\" stroke=\"#616161\" stroke-opacity=\"1\" stroke-width=\"1\" stroke-linecap=\"square\" stroke-linejoin=\"bevel\" transform=\"matrix(0.49985,0,0,0.499751,266.42,456.273)\"\n",
       "font-family=\"Helvetica\" font-size=\"16\" font-weight=\"400\" font-style=\"normal\" \n",
       ">\n",
       "<text fill=\"#616161\" fill-opacity=\"1\" stroke=\"none\" xml:space=\"preserve\" x=\"0\" y=\"0.3125\" font-family=\"Helvetica\" font-size=\"16\" font-weight=\"400\" font-style=\"normal\" \n",
       " >3</text>\n",
       "</g>\n",
       "\n",
       "<g fill=\"#616161\" fill-opacity=\"1\" stroke=\"#616161\" stroke-opacity=\"1\" stroke-width=\"1\" stroke-linecap=\"square\" stroke-linejoin=\"bevel\" transform=\"matrix(0.49985,0,0,0.499751,418.874,461.27)\"\n",
       "font-family=\"Helvetica\" font-size=\"20\" font-weight=\"400\" font-style=\"normal\" \n",
       ">\n",
       "<text fill=\"#616161\" fill-opacity=\"1\" stroke=\"none\" xml:space=\"preserve\" x=\"0\" y=\"0.390625\" font-family=\"Helvetica\" font-size=\"20\" font-weight=\"400\" font-style=\"normal\" \n",
       " >10</text>\n",
       "</g>\n",
       "\n",
       "<g fill=\"#616161\" fill-opacity=\"1\" stroke=\"#616161\" stroke-opacity=\"1\" stroke-width=\"1\" stroke-linecap=\"square\" stroke-linejoin=\"bevel\" transform=\"matrix(0.49985,0,0,0.499751,429.871,456.273)\"\n",
       "font-family=\"Helvetica\" font-size=\"16\" font-weight=\"400\" font-style=\"normal\" \n",
       ">\n",
       "<text fill=\"#616161\" fill-opacity=\"1\" stroke=\"none\" xml:space=\"preserve\" x=\"0\" y=\"0.3125\" font-family=\"Helvetica\" font-size=\"16\" font-weight=\"400\" font-style=\"normal\" \n",
       " >4</text>\n",
       "</g>\n",
       "\n",
       "<g fill=\"#616161\" fill-opacity=\"1\" stroke=\"#616161\" stroke-opacity=\"1\" stroke-width=\"1\" stroke-linecap=\"square\" stroke-linejoin=\"bevel\" transform=\"matrix(0.49985,0,0,0.499751,582.325,461.27)\"\n",
       "font-family=\"Helvetica\" font-size=\"20\" font-weight=\"400\" font-style=\"normal\" \n",
       ">\n",
       "<text fill=\"#616161\" fill-opacity=\"1\" stroke=\"none\" xml:space=\"preserve\" x=\"0\" y=\"0.390625\" font-family=\"Helvetica\" font-size=\"20\" font-weight=\"400\" font-style=\"normal\" \n",
       " >10</text>\n",
       "</g>\n",
       "\n",
       "<g fill=\"#616161\" fill-opacity=\"1\" stroke=\"#616161\" stroke-opacity=\"1\" stroke-width=\"1\" stroke-linecap=\"square\" stroke-linejoin=\"bevel\" transform=\"matrix(0.49985,0,0,0.499751,593.322,456.273)\"\n",
       "font-family=\"Helvetica\" font-size=\"16\" font-weight=\"400\" font-style=\"normal\" \n",
       ">\n",
       "<text fill=\"#616161\" fill-opacity=\"1\" stroke=\"none\" xml:space=\"preserve\" x=\"0\" y=\"0.3125\" font-family=\"Helvetica\" font-size=\"16\" font-weight=\"400\" font-style=\"normal\" \n",
       " >5</text>\n",
       "</g>\n",
       "\n",
       "<g fill=\"#616161\" fill-opacity=\"1\" stroke=\"#616161\" stroke-opacity=\"1\" stroke-width=\"1\" stroke-linecap=\"square\" stroke-linejoin=\"bevel\" transform=\"matrix(0.49985,0,0,0.499751,745.776,461.27)\"\n",
       "font-family=\"Helvetica\" font-size=\"20\" font-weight=\"400\" font-style=\"normal\" \n",
       ">\n",
       "<text fill=\"#616161\" fill-opacity=\"1\" stroke=\"none\" xml:space=\"preserve\" x=\"0\" y=\"0.390625\" font-family=\"Helvetica\" font-size=\"20\" font-weight=\"400\" font-style=\"normal\" \n",
       " >10</text>\n",
       "</g>\n",
       "\n",
       "<g fill=\"#616161\" fill-opacity=\"1\" stroke=\"#616161\" stroke-opacity=\"1\" stroke-width=\"1\" stroke-linecap=\"square\" stroke-linejoin=\"bevel\" transform=\"matrix(0.49985,0,0,0.499751,756.773,456.273)\"\n",
       "font-family=\"Helvetica\" font-size=\"16\" font-weight=\"400\" font-style=\"normal\" \n",
       ">\n",
       "<text fill=\"#616161\" fill-opacity=\"1\" stroke=\"none\" xml:space=\"preserve\" x=\"0\" y=\"0.3125\" font-family=\"Helvetica\" font-size=\"16\" font-weight=\"400\" font-style=\"normal\" \n",
       " >6</text>\n",
       "</g>\n",
       "\n",
       "<g fill=\"#616161\" fill-opacity=\"1\" stroke=\"#616161\" stroke-opacity=\"1\" stroke-width=\"1\" stroke-linecap=\"square\" stroke-linejoin=\"round\" transform=\"matrix(0.49985,0,0,0.499751,0,0)\"\n",
       "font-family=\"Helvetica\" font-size=\"16\" font-weight=\"400\" font-style=\"normal\" \n",
       ">\n",
       "<polyline fill=\"none\" vector-effect=\"none\" points=\"200,893 200,526 \" />\n",
       "<polyline fill=\"none\" vector-effect=\"none\" points=\"1508,893 1508,526 \" />\n",
       "<polyline fill=\"none\" vector-effect=\"none\" points=\"200,893 213.08,893 \" />\n",
       "<polyline fill=\"none\" vector-effect=\"none\" points=\"200,801.25 213.08,801.25 \" />\n",
       "<polyline fill=\"none\" vector-effect=\"none\" points=\"200,709.5 213.08,709.5 \" />\n",
       "<polyline fill=\"none\" vector-effect=\"none\" points=\"200,617.75 213.08,617.75 \" />\n",
       "<polyline fill=\"none\" vector-effect=\"none\" points=\"200,526 213.08,526 \" />\n",
       "<polyline fill=\"none\" vector-effect=\"none\" points=\"1508,893 1494.92,893 \" />\n",
       "<polyline fill=\"none\" vector-effect=\"none\" points=\"1508,801.25 1494.92,801.25 \" />\n",
       "<polyline fill=\"none\" vector-effect=\"none\" points=\"1508,709.5 1494.92,709.5 \" />\n",
       "<polyline fill=\"none\" vector-effect=\"none\" points=\"1508,617.75 1494.92,617.75 \" />\n",
       "<polyline fill=\"none\" vector-effect=\"none\" points=\"1508,526 1494.92,526 \" />\n",
       "</g>\n",
       "\n",
       "<g fill=\"#616161\" fill-opacity=\"1\" stroke=\"#616161\" stroke-opacity=\"1\" stroke-width=\"1\" stroke-linecap=\"square\" stroke-linejoin=\"bevel\" transform=\"matrix(0.49985,0,0,0.499751,75.9772,448.776)\"\n",
       "font-family=\"Helvetica\" font-size=\"20\" font-weight=\"400\" font-style=\"normal\" \n",
       ">\n",
       "<text fill=\"#616161\" fill-opacity=\"1\" stroke=\"none\" xml:space=\"preserve\" x=\"0\" y=\"0.390625\" font-family=\"Helvetica\" font-size=\"20\" font-weight=\"400\" font-style=\"normal\" \n",
       " >-180</text>\n",
       "</g>\n",
       "\n",
       "<g fill=\"#616161\" fill-opacity=\"1\" stroke=\"#616161\" stroke-opacity=\"1\" stroke-width=\"1\" stroke-linecap=\"square\" stroke-linejoin=\"bevel\" transform=\"matrix(0.49985,0,0,0.499751,75.9772,402.924)\"\n",
       "font-family=\"Helvetica\" font-size=\"20\" font-weight=\"400\" font-style=\"normal\" \n",
       ">\n",
       "<text fill=\"#616161\" fill-opacity=\"1\" stroke=\"none\" xml:space=\"preserve\" x=\"0\" y=\"0.390625\" font-family=\"Helvetica\" font-size=\"20\" font-weight=\"400\" font-style=\"normal\" \n",
       " >-135</text>\n",
       "</g>\n",
       "\n",
       "<g fill=\"#616161\" fill-opacity=\"1\" stroke=\"#616161\" stroke-opacity=\"1\" stroke-width=\"1\" stroke-linecap=\"square\" stroke-linejoin=\"bevel\" transform=\"matrix(0.49985,0,0,0.499751,81.4756,357.072)\"\n",
       "font-family=\"Helvetica\" font-size=\"20\" font-weight=\"400\" font-style=\"normal\" \n",
       ">\n",
       "<text fill=\"#616161\" fill-opacity=\"1\" stroke=\"none\" xml:space=\"preserve\" x=\"0\" y=\"0.390625\" font-family=\"Helvetica\" font-size=\"20\" font-weight=\"400\" font-style=\"normal\" \n",
       " >-90</text>\n",
       "</g>\n",
       "\n",
       "<g fill=\"#616161\" fill-opacity=\"1\" stroke=\"#616161\" stroke-opacity=\"1\" stroke-width=\"1\" stroke-linecap=\"square\" stroke-linejoin=\"bevel\" transform=\"matrix(0.49985,0,0,0.499751,81.4756,311.22)\"\n",
       "font-family=\"Helvetica\" font-size=\"20\" font-weight=\"400\" font-style=\"normal\" \n",
       ">\n",
       "<text fill=\"#616161\" fill-opacity=\"1\" stroke=\"none\" xml:space=\"preserve\" x=\"0\" y=\"0.390625\" font-family=\"Helvetica\" font-size=\"20\" font-weight=\"400\" font-style=\"normal\" \n",
       " >-45</text>\n",
       "</g>\n",
       "\n",
       "<g fill=\"#616161\" fill-opacity=\"1\" stroke=\"#616161\" stroke-opacity=\"1\" stroke-width=\"1\" stroke-linecap=\"square\" stroke-linejoin=\"bevel\" transform=\"matrix(0.49985,0,0,0.499751,90.4729,265.368)\"\n",
       "font-family=\"Helvetica\" font-size=\"20\" font-weight=\"400\" font-style=\"normal\" \n",
       ">\n",
       "<text fill=\"#616161\" fill-opacity=\"1\" stroke=\"none\" xml:space=\"preserve\" x=\"0\" y=\"0.390625\" font-family=\"Helvetica\" font-size=\"20\" font-weight=\"400\" font-style=\"normal\" \n",
       " >0</text>\n",
       "</g>\n",
       "\n",
       "<g fill=\"#212121\" fill-opacity=\"1\" stroke=\"#212121\" stroke-opacity=\"1\" stroke-width=\"1\" stroke-linecap=\"square\" stroke-linejoin=\"bevel\" transform=\"matrix(0,-0.499751,0.49985,0,69.979,384.558)\"\n",
       "font-family=\"Helvetica\" font-size=\"22\" font-weight=\"400\" font-style=\"normal\" \n",
       ">\n",
       "<text fill=\"#212121\" fill-opacity=\"1\" stroke=\"none\" xml:space=\"preserve\" x=\"0\" y=\"-0.0625\" font-family=\"Helvetica\" font-size=\"22\" font-weight=\"400\" font-style=\"normal\" \n",
       " >Phase (deg)</text>\n",
       "</g>\n",
       "\n",
       "<g fill=\"none\" stroke=\"#1171be\" stroke-opacity=\"1\" stroke-width=\"1\" stroke-linecap=\"butt\" stroke-linejoin=\"round\" transform=\"matrix(0.49985,0,0,0.499751,0,0)\"\n",
       "font-family=\"Helvetica\" font-size=\"22\" font-weight=\"400\" font-style=\"normal\" \n",
       ">\n",
       "<polyline fill=\"none\" vector-effect=\"none\" points=\"200,528.882 211.918,529.125 233.894,529.648 255.869,530.258 277.845,530.97 299.821,531.801 321.797,532.77 343.773,533.901 365.749,535.22 387.725,536.758 409.701,538.549 431.677,540.636 453.653,543.064 475.629,545.886 497.604,549.161 519.58,552.952 541.556,557.331 563.532,562.369 585.508,568.136 607.484,574.699 629.46,582.106 651.436,590.385 673.412,599.528 695.388,609.486 717.364,620.164 739.339,631.43 761.315,643.124 783.291,655.087 805.267,667.181 827.243,679.305 849.219,691.406 871.195,703.474 893.171,715.526 915.147,727.594 937.123,739.695 959.099,751.819 981.074,763.913 1003.05,775.876 1025.03,787.57 1047,798.836 1068.98,809.514 1090.95,819.472 1112.93,828.615 1134.91,836.894 1156.88,844.301 1178.86,850.864 1200.83,856.631 1222.81,861.669 1244.79,866.048 1266.76,869.839 1288.74,873.114 1310.71,875.936 1332.69,878.364 1354.66,880.451 1376.64,882.242 1398.62,883.78 1420.59,885.099 1442.57,886.23 1464.54,887.199 1486.52,888.03 1508,888.726 \" />\n",
       "</g>\n",
       "</g>\n",
       "</svg>\n"
      ]
     },
     "metadata": {},
     "output_type": "display_data"
    }
   ],
   "source": [
    "cd ../matlab\n",
    "% For Simulink model\n",
    "R = 8.2e3; % 8.2 kOhm\n",
    "C = 10e-9; % 10 nF\n",
    "a = (1/(R*C)); % filter coefficient\n",
    "K =  1 % replace wthis value with the value computed in Exercise 10(b)(iv)\n",
    "Hs = tf(a^2,[1 3*a a^2])\n",
    "bode(Hs),grid"
   ]
  },
  {
   "cell_type": "code",
   "execution_count": 11,
   "id": "20d0acc7",
   "metadata": {
    "slideshow": {
     "slide_type": "notes"
    }
   },
   "outputs": [],
   "source": [
    "ex19_5"
   ]
  }
 ],
 "metadata": {
  "celltoolbar": "Slideshow",
  "jupytext": {
   "formats": "ipynb,md:myst"
  },
  "kernelspec": {
   "display_name": "MKernel",
   "language": "matlab",
   "name": "mkernel"
  },
  "language_info": {
   "file_extension": ".m",
   "mimetype": "text/x-matlab",
   "name": "matlab"
  }
 },
 "nbformat": 4,
 "nbformat_minor": 5
}
