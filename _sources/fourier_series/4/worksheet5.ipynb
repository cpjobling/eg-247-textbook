{
 "cells": [
  {
   "cell_type": "markdown",
   "id": "cbc2bf37",
   "metadata": {
    "slideshow": {
     "slide_type": "slide"
    }
   },
   "source": [
    "(ws5)=\n",
    "# Worksheet 5\n",
    "\n",
    "## To accompany Unit 3.4 Applications of Line Spectra"
   ]
  },
  {
   "cell_type": "markdown",
   "id": "ac682495",
   "metadata": {
    "slideshow": {
     "slide_type": "notes"
    }
   },
   "source": [
    "## Colophon\n",
    "\n",
    "This worksheet can be downloaded as a [PDF file](https://cpjobling.github.io/eg-247-textbook/worksheets/worksheet5.pdf). We will step through this worksheet in class. \n",
    "\n",
    "An annotatable copy of the notes for this presentation will be distributed before the second class meeting as **Worksheet 5** in the **Week 4: Classroom Activities** section of the Canvas site. I will also distribute a copy to your personal **Worksheets** section of the **OneNote Class Notebook** so that you can add your own notes using OneNote. \n",
    "\n",
    "You are expected to have at least watched the video presentation of {ref}`unit3.4` of the [notes](https://cpjobling.github.io/eg-247-textbook/) before coming to class. If you haven't watch it afterwards!\n",
    "\n",
    "After class, the lecture recording and the annotated version of the worksheets will be made available through Canvas."
   ]
  },
  {
   "cell_type": "markdown",
   "id": "6e5a3446",
   "metadata": {
    "slideshow": {
     "slide_type": "slide"
    }
   },
   "source": [
    "## Power in Periodic Signals"
   ]
  },
  {
   "cell_type": "markdown",
   "id": "aff8935f",
   "metadata": {
    "slideshow": {
     "slide_type": "subslide"
    }
   },
   "source": [
    "In your previous courses you may have come across the definitions of Signal Energy, Average Signal Power and Root Mean Square Power:\n",
    "\n",
    "$$E = \\int_0^T |f(t)|^2 dt$$\n",
    "\n",
    "$$P_{\\mathrm{av}} = \\frac{1}{T}\\int_0^T |f(t)|^2 dt$$\n",
    "\n",
    "$$P_{\\mathrm{RMS}} = \\sqrt{\\frac{1}{T}\\int_0^T |f(t)|^2 dt}$$"
   ]
  },
  {
   "cell_type": "markdown",
   "id": "6ef6e1da",
   "metadata": {
    "slideshow": {
     "slide_type": "subslide"
    }
   },
   "source": [
    "### Parseval's Theorem\n",
    "\n",
    "[Parseval's Theorem](https://en.wikipedia.org/wiki/Parseval's_theorem) states that the total average power of a periodic signal $f(t)$ is equal to the sum of the average powers of all its harmonic components.\n",
    "\n",
    "The power in the $k$th harmonic $C_ke^{jk\\Omega_0 t}$ is given by\n",
    "\n",
    "$$P_k = \\frac{1}{T}\\int_0^T\\left|C_ke^{jk\\Omega_0 t}\\right|^2\\,dt = \\frac{1}{T}\\int_0^T\\left|C_k\\right|^2\\,dt=\\left|C_k\\right|^2$$\n",
    "\n",
    "Since $P_k = P_{-k}$, the total power of the $k$th harmomic is $2P_k$."
   ]
  },
  {
   "cell_type": "markdown",
   "id": "bd9d6e4a",
   "metadata": {
    "slideshow": {
     "slide_type": "notes"
    }
   },
   "source": [
    "You should note that $|C_k| = \\sqrt{C_k C_k^*}$ so $|C_k|^2 = C_k C_k^*$."
   ]
  },
  {
   "cell_type": "markdown",
   "id": "63ef19c0",
   "metadata": {
    "slideshow": {
     "slide_type": "subslide"
    }
   },
   "source": [
    "Parseval's theorem states that\n",
    "\n",
    "$$P = \\frac{1}{T}\\int_0^T \\left|f(t)\\right|^2\\,dt = \\sum_{k=-\\infty}^{\\infty}\\left|C_k\\right|^2.$$"
   ]
  },
  {
   "cell_type": "markdown",
   "id": "e4f18583",
   "metadata": {
    "slideshow": {
     "slide_type": "subslide"
    }
   },
   "source": [
    "### RMS Power\n",
    "\n",
    "By a similar argument:\n",
    "\n",
    "$$P_{\\mathrm{RMS}} = \\sqrt{\\frac{1}{T}\\int_0^T \\left|f(t)\\right|^2\\,dt} = \\sqrt{\\sum_{k=-\\infty}^{\\infty}\\left|C_k\\right|^2}.$$"
   ]
  },
  {
   "cell_type": "markdown",
   "id": "d910f61c",
   "metadata": {
    "slideshow": {
     "slide_type": "subslide"
    }
   },
   "source": [
    "(ex:ws:19.1)=\n",
    "\n",
    "### Example 6\n",
    "\n",
    "Compute the average power of a pulse train for which the pulse width is $T/2$ (duty cycle 50%). Use the result: \n",
    "\n",
    "$$C_k = \\frac{A}{w}.\\frac{\\sin(k\\pi/w)}{k\\pi/w}$$\n",
    "\n",
    "as your starting point."
   ]
  },
  {
   "cell_type": "markdown",
   "id": "849b8a43",
   "metadata": {
    "slideshow": {
     "slide_type": "notes"
    }
   },
   "source": [
    "### Solution\n",
    "\n",
    "<pre style=\"border: 2px solid blue\">\n",
    "\n",
    "\n",
    "\n",
    "\n",
    "\n",
    "\n",
    "\n",
    "\n",
    "\n",
    "\n",
    "\n",
    "\n",
    "\n",
    "\n",
    "\n",
    "</pre>"
   ]
  },
  {
   "cell_type": "markdown",
   "id": "e4b3a42e",
   "metadata": {
    "slideshow": {
     "slide_type": "slide"
    }
   },
   "source": [
    "(ex:ws:19.2)=\n",
    "### Example 7: Power Spectrum\n",
    "\n",
    "Compute and display the power spectrum for the signal of {ref}`ex:ws:19.1`."
   ]
  },
  {
   "cell_type": "code",
   "execution_count": null,
   "id": "a544ee29",
   "metadata": {},
   "outputs": [],
   "source": [
    "clear all\n",
    "cd ../matlab\n",
    "format compact"
   ]
  },
  {
   "cell_type": "code",
   "execution_count": null,
   "id": "82e51bfe",
   "metadata": {
    "slideshow": {
     "slide_type": "subslide"
    }
   },
   "outputs": [],
   "source": [
    "A = 1; w = 2; \n",
    "[f,omega] = pulse_fs(A,w,15);"
   ]
  },
  {
   "cell_type": "markdown",
   "id": "bd94c1fb",
   "metadata": {},
   "source": [
    "Power spectrum"
   ]
  },
  {
   "cell_type": "code",
   "execution_count": null,
   "id": "265e4c57",
   "metadata": {},
   "outputs": [],
   "source": [
    "stem(omega,abs(f).^2)\n",
    "title('Power Spectrum for pulse width T/2')\n",
    "ylabel('|C_k|^2')\n",
    "xlabel('\\Omega_0 [rad/s]')"
   ]
  },
  {
   "cell_type": "markdown",
   "id": "783558fc",
   "metadata": {
    "slideshow": {
     "slide_type": "notes"
    }
   },
   "source": [
    "Note that most of the power is concentrated at DC and in the first five harmonic components. That is in the frequency range $[-14\\pi/T,+14\\pi/T]$ rad/s."
   ]
  },
  {
   "cell_type": "markdown",
   "id": "4f8eea32",
   "metadata": {
    "slideshow": {
     "slide_type": "slide"
    }
   },
   "source": [
    "### Total Harmonic Distortion\n",
    "\n",
    "Suppose that a signal that is supposed to be a pure sine wave of amplitude A is distorted as shown below\n",
    "\n",
    "<img src=\"pictures/thd.png\">"
   ]
  },
  {
   "cell_type": "markdown",
   "id": "76dc3e3a",
   "metadata": {
    "slideshow": {
     "slide_type": "notes"
    }
   },
   "source": [
    "This can occur in the line voltages of an industrial plant that makes heavy use of nonlineear loads such as electric arc furnaces, solid state relays, motor drives, etc (E.g. Tata Steel!)"
   ]
  },
  {
   "cell_type": "markdown",
   "id": "797b43a2",
   "metadata": {
    "slideshow": {
     "slide_type": "subslide"
    }
   },
   "source": [
    "#### THD Defined\n",
    "\n",
    "Clearly, some of the harmonics for $k\\ne \\pm 1$ are nonzero. One way to characterize the distortion is to compute the ratio of average power in all the harmonics that \"should not be present\", that is for $k > 1$, to the total average power of the distorted sine wave. The square-root of this ratio is called the *total harmonic distortion* (THD) of the signal."
   ]
  },
  {
   "cell_type": "markdown",
   "id": "9503d559",
   "metadata": {
    "slideshow": {
     "slide_type": "subslide"
    }
   },
   "source": [
    "If the signal is real and based on a sine wave (that is *odd*), then $C_k=0$ and\n",
    "\n",
    "$$f_{\\mathrm{RMS}}=\\sqrt{\\sum_{k=1}^{\\infty}2|C_k|^2}$$\n",
    "\n",
    "and we can define the THD as the ratio of the RMS value for all the harmonics for $K>1$ (the distortion) to the RMS of the fundamental which is $$\\sqrt{2\\left|C_1\\right|^2}:$$\n",
    "\n",
    "$${\\rm{THD}} = 100\\sqrt {\\frac{\\sum\\limits_{k = 2}^\\infty  {\\left| C_k \\right|^2}} {\\left| C_1 \\right|^2}} \\% $$"
   ]
  },
  {
   "cell_type": "markdown",
   "id": "56f3bb04",
   "metadata": {
    "slideshow": {
     "slide_type": "subslide"
    }
   },
   "source": [
    "#### Computation of THD\n",
    "\n",
    "<img src=\"pictures/thd_ps.png\">"
   ]
  },
  {
   "cell_type": "markdown",
   "id": "ab105249",
   "metadata": {
    "slideshow": {
     "slide_type": "subslide"
    }
   },
   "source": [
    "(ex:ws:19.3)=\n",
    "### Example 8: THD in a square-wave\n",
    "Given that the exponential fourier series coefficients for a square wave are \n",
    "\n",
    "$$C_0 = 0$$\n",
    "\n",
    "$$C_k = 0\\quad k\\,\\mathrm{even}$$\n",
    "\n",
    "$$C_k = \\frac{2A}{jk\\pi}\\quad k\\,\\mathrm{odd}$$\n",
    "\n",
    "compute the total harmonic distortion represented by the first 7 harmonics of the square-wave."
   ]
  },
  {
   "cell_type": "markdown",
   "id": "95ae36d4",
   "metadata": {
    "slideshow": {
     "slide_type": "notes"
    }
   },
   "source": [
    "### Solution\n",
    "\n",
    "<pre style=\"border: 2px solid blue\">\n",
    "\n",
    "\n",
    "\n",
    "\n",
    "\n",
    "\n",
    "\n",
    "\n",
    "\n",
    "\n",
    "\n",
    "\n",
    "\n",
    "\n",
    "\n",
    "</pre>"
   ]
  },
  {
   "cell_type": "markdown",
   "id": "524ae7e0",
   "metadata": {
    "slideshow": {
     "slide_type": "subslide"
    }
   },
   "source": [
    "(ex:ws:19.4)=\n",
    "### Example 9: THD in a triangle wave\n",
    "Given that the exponential fourier series coefficients for a triangle wave with even symmetry is\n",
    "\n",
    "$$C_0 = 0$$\n",
    "\n",
    "$$C_k = 0\\quad k\\,\\mathrm{even}$$\n",
    "\n",
    "$$C_k = -\\frac{4A}{jk^2\\pi^2}\\quad k\\,\\mathrm{odd}$$\n",
    "\n",
    "compute the total harmonic distortion represented by the first 7 harmonics of the triangle-wave."
   ]
  },
  {
   "cell_type": "markdown",
   "id": "f2e1ea8d",
   "metadata": {
    "slideshow": {
     "slide_type": "slide"
    }
   },
   "source": [
    "## Steady-State Response of an LTI System to a Periodic Signal\n",
    "\n",
    "As shown in [Eigenfunctions of Continuous-Time LTI Systems](https://cpjobling.github.io/eg-150-textbook/lti_systems/lti2.html#eigenfunctions-of-continuous-time-lti-systems), the response of a continuous-time LTI system with impulse response $h(t)$ to a complex exponential signal $e^{st}$ is the same complex exponential multiplied by a complex gain: $y(t) = H(s)e^{st}$, where:\n",
    "\n",
    "$$H(s)=\\int_{-\\infty}^{\\infty}h(\\tau)e^{-s\\tau}\\,d\\tau.$$"
   ]
  },
  {
   "cell_type": "markdown",
   "id": "bcd3f116",
   "metadata": {
    "slideshow": {
     "slide_type": "subslide"
    }
   },
   "source": [
    "In particular, for $s = j\\omega$, the output is simply $y(t)=H(j\\omega)e^{j\\omega t}$.\n",
    "\n",
    "The complex functions $H(s)$ and $H(j\\omega)$ are called the system's *transfer function* and *frequency response*, respectively."
   ]
  },
  {
   "cell_type": "markdown",
   "id": "050e012a",
   "metadata": {
    "slideshow": {
     "slide_type": "subslide"
    }
   },
   "source": [
    "### By superposition\n",
    "\n",
    "The output of an LTI system to a periodic function with period $T$ represented by a Fourier series is given by:\n",
    "\n",
    "$$y(t)=\\sum_{k=-\\infty}^{\\infty} C_kH(jk\\Omega_0)e^{jk\\Omega_0 t}$$\n",
    "\n",
    "where $\\Omega_0 = T/2\\pi$ is the fundamental frequency."
   ]
  },
  {
   "cell_type": "markdown",
   "id": "b5344a0a",
   "metadata": {
    "slideshow": {
     "slide_type": "subslide"
    }
   },
   "source": [
    "Thus $y(t)$ is a Fourier series itself with coefficients $D_k$:\n",
    "\n",
    "$$D_k = C_kH(jk\\Omega_0)$$ (fs4:d_k:ws)"
   ]
  },
  {
   "cell_type": "markdown",
   "id": "e033ce03",
   "metadata": {
    "slideshow": {
     "slide_type": "subslide"
    }
   },
   "source": [
    "### Illustration\n",
    "\n",
    "This picture below shows the effect of an LTI system on a periodic input in the frequency domain.\n",
    "\n",
    "<img src=\"pictures/filter.png\">"
   ]
  },
  {
   "cell_type": "markdown",
   "id": "8f1242ff",
   "metadata": {
    "slideshow": {
     "slide_type": "subslide"
    }
   },
   "source": [
    "### Application to signal processing\n",
    "\n",
    "A consequence of the previous result is that we can design a system that has a desirable frequency spectrum $H(jk\\Omega_0)$ that retains certain frequencies and cuts off others."
   ]
  },
  {
   "cell_type": "markdown",
   "id": "e215e288",
   "metadata": {
    "slideshow": {
     "slide_type": "notes"
    }
   },
   "source": [
    "### Filter attenuation\n",
    "\n",
    "The effect of an LTI system on a periodic input signal is to modify its Fourier series through a multiplication by its frequency response evaluated at the harmonic frequencies.\n",
    "\n",
    "So what does $H(jk\\Omega_0)$ looks like.\n",
    "\n",
    "[change this to an RC circuit filter]\n",
    "\n",
    "As an example, consider the simple first-order Butterworth low-pass (LP) filter with cut-off frequency $\\omega_c$:\n",
    "\n",
    "$$H(s) = \\frac{\\omega_c}{s + \\omega_c}$$\n",
    "\n",
    "For this filter\n",
    "\n",
    "$$H(j\\omega) = \\frac{\\omega_c}{j\\omega + \\omega_c}.$$\n",
    "\n",
    "Let us say that we wish to compute the attenuation and phase of this filter at $\\omega = \\Omega_0$.\n",
    "\n",
    "To compute the *magnitude*:\n",
    "$$\\begin{eqnarray*}\n",
    "\\left|H(j\\Omega_0)\\right| &=& \\left|\\frac{\\omega_c}{j\\Omega_0 + \\omega_c}\\right| \\\\\n",
    "& = & \\frac{\\omega_c}{\\sqrt{\\Omega_0^2 + \\omega_c^2}}\n",
    "\\end{eqnarray*}$$\n",
    "\n",
    "We note that is $\\left|H(j\\Omega_0\\right| \\lt 1$ so the filter will *attenuate* the incoming harmonic frequency. This will be true for all harmonics, so in general, for a LP filter:\n",
    "\n",
    "$$D_k = C_k\\left|H(jk\\Omega_0)\\right|   < C_k.$$\n",
    "\n",
    "The phase will be given by \n",
    "$$\\phi = \\angle H(j\\omega) = \\tan^{-1}\\left(\\frac{\\Im \\left( H(j\\omega)\\right)}{\\Re \\left(H(j(\\omega)\\right)}\\right)$$\n",
    "where\n",
    "$$\\begin{eqnarray*}\n",
    "H(jk\\Omega_0) &=& \\frac{\\omega_c^2}{(k\\Omega_0)^2 + \\omega_c^2} - j\\frac{k\\Omega_0\\omega_c}{(k\\Omega_0)^2 + \\omega_c^2}\\\\\n",
    "\\phi_k &=& \\tan^{-1}\\left(-\\frac{K\\Omega_0\\omega_c}{\\omega_c^2}\\right) \\\\\n",
    "&=& \\tan^{-1}\\left(-\\frac{k\\Omega_0}{\\omega_c}\\right) \n",
    "\\end{eqnarray*}\n",
    "$$\n",
    "\n",
    "Phases are additive so\n",
    "$$\\angle D_k = \\angle C_k + \\phi_k.$$\n",
    "\n",
    "By doing such analysis, we can examine the effect of a filter on a periodic signal, just by considering how the coefficients of the harmonic terms are changed (attenuated in magnitude and shifted in phase) by the filter."
   ]
  },
  {
   "cell_type": "markdown",
   "id": "93d59aca",
   "metadata": {
    "slideshow": {
     "slide_type": "subslide"
    }
   },
   "source": [
    "(ex:ws:19.5)=\n",
    "### Example 10: Low-pass filter\n",
    "\n",
    "**This is an examination level question.**\n",
    "\n",
    "This example represents the low-pass filter used in the signal generator project for **EG-152: Analogue Design**.\n",
    "\n",
    ":::{note}\n",
    "Use MATLAB to complete this example.\n",
    ":::\n",
    "\n",
    "\n",
    "\n",
    "a) A triangle waveform $x(t)$ with frequency $\\Omega_0 = 2\\pi/T$ is shown in {numref}`fig_ex19.1a`. \n",
    "\n",
    ":::{figure-md} fig_ex19.1a\n",
    "<img src=\"pictures/ex19_5.png\" alt=\"A triangle waveform\" width=\"60%\">\n",
    "\n",
    "A triangle waveform\n",
    ":::\n",
    "\n",
    "Determine the exponential Fourier series coefficients $C_k$ for this waveform and use this result to show that the trigonomentric Fourier series for a triangle waveform is"
   ]
  },
  {
   "cell_type": "markdown",
   "id": "8e91ebef",
   "metadata": {
    "slideshow": {
     "slide_type": "subslide"
    }
   },
   "source": [
    "$$x(t) = \\frac{8A}{\\pi^2}\\left(\\sum_{k\\ \\mathrm{odd}}(-1)^{\\left(\\frac{k-1}{2}\\right)}\\frac{1}{k^2}\\sin k \\Omega_0 t \\right)$$ (fse4:ws:fs4tri)"
   ]
  },
  {
   "cell_type": "markdown",
   "id": "9661036a",
   "metadata": {
    "slideshow": {
     "slide_type": "fragment"
    }
   },
   "source": [
    "which, for the first seven harmonic frequencies, is given as"
   ]
  },
  {
   "cell_type": "markdown",
   "id": "83f1baa5",
   "metadata": {
    "slideshow": {
     "slide_type": "fragment"
    }
   },
   "source": [
    "$$x(t) \\approx \\frac{8A}{\\pi^2}\\left(\\sin \\Omega_0 t - \\frac{1}{9} \\sin 3\\Omega_0 t + \\frac{1}{25} \\sin 5\\Omega_0 t - \\frac{1}{49} \\sin 7\\Omega_0 t \\cdots \\right) $$"
   ]
  },
  {
   "cell_type": "markdown",
   "id": "415de4cc",
   "metadata": {
    "slideshow": {
     "slide_type": "notes"
    }
   },
   "source": [
    "### Solution\n",
    "\n",
    "<pre style=\"border: 2px solid blue\">\n",
    "\n",
    "\n",
    "\n",
    "\n",
    "\n",
    "\n",
    "\n",
    "\n",
    "\n",
    "\n",
    "\n",
    "\n",
    "\n",
    "\n",
    "\n",
    "\n",
    "\n",
    "\n",
    "\n",
    "\n",
    "\n",
    "\n",
    "\n",
    "\n",
    "\n",
    "\n",
    "\n",
    "\n",
    "\n",
    "\n",
    "</pre>"
   ]
  },
  {
   "cell_type": "markdown",
   "id": "6d393d16",
   "metadata": {
    "slideshow": {
     "slide_type": "subslide"
    }
   },
   "source": [
    "b) In the signal generator, the block diagram for which is given in {numref}`fig19_5a_bd_ws`, a triangle wavefom with $A = 10$ and frequency $f = 1/T = 2.5$ kHz, is filtered by the low-pass filter with transfer function\n",
    "\n",
    "$$H(s) = \\frac{a^2}{s^2 + 3as + a^2}$$\n",
    "\n",
    "where $a = 1/(RC)$ and $RC$ is the time constant of an RC circuit with $R = 8.2$ k&Omega; and $C  = 10$ nF.\n",
    "\n",
    ":::{figure-md} fig19_5a_bd_ws\n",
    "<img src=\"pictures/ex19_5_bd.png\" alt=\"A signal generator\" width=\"60%\">\n",
    "\n",
    "A signal generator\n",
    ":::"
   ]
  },
  {
   "cell_type": "markdown",
   "id": "14e4599b",
   "metadata": {
    "slideshow": {
     "slide_type": "subslide"
    }
   },
   "source": [
    "i) Determine the frequency response $H(j\\omega)$ of the filter."
   ]
  },
  {
   "cell_type": "markdown",
   "id": "7ae2f008",
   "metadata": {
    "slideshow": {
     "slide_type": "notes"
    }
   },
   "source": [
    "### Solution\n",
    "\n",
    "<pre style=\"border: 2px solid blue\">\n",
    "\n",
    "\n",
    "\n",
    "\n",
    "\n",
    "\n",
    "\n",
    "\n",
    "\n",
    "\n",
    "\n",
    "\n",
    "\n",
    "\n",
    "\n",
    "</pre>"
   ]
  },
  {
   "cell_type": "markdown",
   "id": "0de442f8",
   "metadata": {
    "slideshow": {
     "slide_type": "subslide"
    }
   },
   "source": [
    "ii) Compute the cut-off frequency $\\omega_c$ of the filter. Note the value of the cut-off frequency this is the frequency for which the filter transmits half-the power or \n",
    "\n",
    "$$|H(j\\omega_c)| = \\frac{1}{\\sqrt{2}}$$"
   ]
  },
  {
   "cell_type": "markdown",
   "id": "1e30a9c4",
   "metadata": {
    "slideshow": {
     "slide_type": "notes"
    }
   },
   "source": [
    "### Solution\n",
    "\n",
    "<pre style=\"border: 2px solid blue\">\n",
    "\n",
    "\n",
    "\n",
    "\n",
    "\n",
    "\n",
    "\n",
    "\n",
    "\n",
    "\n",
    "\n",
    "\n",
    "\n",
    "\n",
    "\n",
    "</pre>"
   ]
  },
  {
   "cell_type": "markdown",
   "id": "bacf061b",
   "metadata": {
    "slideshow": {
     "slide_type": "subslide"
    }
   },
   "source": [
    "iii) Use equation {eq}`fs4:d_k:ws` and the result of a) to determine the attenuation in the first 7 harmonics of the triangle waveform."
   ]
  },
  {
   "cell_type": "markdown",
   "id": "424b6d36",
   "metadata": {
    "slideshow": {
     "slide_type": "notes"
    }
   },
   "source": [
    "### Solution\n",
    "\n",
    "<pre style=\"border: 2px solid blue\">\n",
    "\n",
    "\n",
    "\n",
    "\n",
    "\n",
    "\n",
    "\n",
    "\n",
    "\n",
    "\n",
    "\n",
    "\n",
    "\n",
    "\n",
    "\n",
    "</pre>"
   ]
  },
  {
   "cell_type": "markdown",
   "id": "1130fa66",
   "metadata": {
    "slideshow": {
     "slide_type": "subslide"
    }
   },
   "source": [
    "iv) The filter is intended to generate a sinewave from the triangle wave. Determine the value of the recovery gain $K$ to ensure that the attenuation is 0 dB at 2.5 kHz. Recompute the harmonic attenuation given the presence of $K$."
   ]
  },
  {
   "cell_type": "markdown",
   "id": "41b207fd",
   "metadata": {
    "slideshow": {
     "slide_type": "notes"
    }
   },
   "source": [
    "### Solution\n",
    "\n",
    "<pre style=\"border: 2px solid blue\">\n",
    "\n",
    "\n",
    "\n",
    "\n",
    "\n",
    "\n",
    "\n",
    "\n",
    "\n",
    "\n",
    "\n",
    "\n",
    "\n",
    "\n",
    "\n",
    "</pre>"
   ]
  },
  {
   "cell_type": "markdown",
   "id": "3849fef3",
   "metadata": {
    "slideshow": {
     "slide_type": "notes"
    }
   },
   "source": [
    "### Solution\n",
    "\n",
    "<pre style=\"border: 2px solid blue\">\n",
    "\n",
    "\n",
    "\n",
    "\n",
    "\n",
    "\n",
    "\n",
    "\n",
    "\n",
    "\n",
    "\n",
    "\n",
    "\n",
    "\n",
    "\n",
    "</pre>"
   ]
  },
  {
   "cell_type": "markdown",
   "id": "8016aaf3",
   "metadata": {
    "slideshow": {
     "slide_type": "subslide"
    }
   },
   "source": [
    "v) Use these results to determine the THD (in dB) of the filtered waveform."
   ]
  },
  {
   "cell_type": "markdown",
   "id": "d3906f51",
   "metadata": {
    "slideshow": {
     "slide_type": "notes"
    }
   },
   "source": [
    "### Solution\n",
    "\n",
    "<pre style=\"border: 2px solid blue\">\n",
    "\n",
    "\n",
    "\n",
    "\n",
    "\n",
    "\n",
    "\n",
    "\n",
    "\n",
    "\n",
    "\n",
    "\n",
    "\n",
    "\n",
    "\n",
    "</pre>"
   ]
  },
  {
   "cell_type": "markdown",
   "id": "0b3db862",
   "metadata": {
    "slideshow": {
     "slide_type": "subslide"
    }
   },
   "source": [
    "vi) Use the attached Simulink model ([ex19_5.slx](../matlab/ex19_5.slx)) of the the filter to validate the results. Comment on the quality of the design."
   ]
  },
  {
   "cell_type": "code",
   "execution_count": null,
   "id": "20d0acc7",
   "metadata": {},
   "outputs": [],
   "source": [
    "cd ../matlab\n",
    "% For Simulink model\n",
    "R = 8.2e3; % 8.2 kOhm\n",
    "C = 10e-9; % 10 nF\n",
    "a = (1/(R*C)); % filter coefficient\n",
    "K = 1 % replace wthis value with the value computed in Exercise 10(b)(iv)\n",
    "Hs = tf(a^2,[1 3*a a^2])\n",
    "bode(Hs),grid\n",
    "ex19_5"
   ]
  }
 ],
 "metadata": {
  "celltoolbar": "Slideshow",
  "jupytext": {
   "formats": "ipynb,md:myst"
  },
  "kernelspec": {
   "display_name": "Matlab",
   "language": "matlab",
   "name": "matlab"
  },
  "language_info": {
   "codemirror_mode": "octave",
   "file_extension": ".m",
   "help_links": [
    {
     "text": "MetaKernel Magics",
     "url": "https://metakernel.readthedocs.io/en/latest/source/README.html"
    }
   ],
   "mimetype": "text/x-octave",
   "name": "matlab",
   "version": "0.17.1"
  }
 },
 "nbformat": 4,
 "nbformat_minor": 5
}
