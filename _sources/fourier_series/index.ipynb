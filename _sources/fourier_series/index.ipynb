{
 "cells": [
  {
   "cell_type": "markdown",
   "metadata": {},
   "source": [
    "# Fourier Series\n",
    "\n",
    "This chapter launches our Introduction to Fourier Transforms with a look at Wave Analysis and Trigonometric Fourier Series. We will then go on to consider the Exponential Fourier Series and its Applications.\n",
    "\n",
    "The material in this chapter is based on Chapter 7 (Starting at [Section 7.8](http://site.ebrary.com/lib/swansea/docDetail.action?docID=10547416)) of {cite}`karris` from the Required Reading List. Some clarificattion was needed and I used [Chapter 4](https://ebookcentral.proquest.com/lib/swansea-ebooks/reader.action?ppg=150&docID=3135971&tm=1518703383001) of {cite}`boulet` from the Recommended Reading List for this.\n",
    "\n",
    "## References\n",
    "\n",
    "See [Bibliography](/zbib).\n",
    "\n"
   ]
  }
 ],
 "metadata": {
  "kernelspec": {
   "display_name": "Matlab",
   "language": "matlab",
   "name": "matlab"
  },
  "language_info": {
   "codemirror_mode": "octave",
   "file_extension": ".m",
   "help_links": [
    {
     "text": "MetaKernel Magics",
     "url": "https://metakernel.readthedocs.io/en/latest/source/README.html"
    }
   ],
   "mimetype": "text/x-octave",
   "name": "matlab",
   "version": "0.16.9"
  }
 },
 "nbformat": 4,
 "nbformat_minor": 4
}