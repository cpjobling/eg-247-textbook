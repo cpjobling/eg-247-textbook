{
 "cells": [
  {
   "cell_type": "markdown",
   "metadata": {
    "slideshow": {
     "slide_type": "slide"
    }
   },
   "source": [
    "# Defining the Fourier Transform"
   ]
  },
  {
   "cell_type": "markdown",
   "metadata": {},
   "source": [
    "## Colophon\n",
    "\n",
    "An annotatable worksheet for this presentation is available as [**Worksheet 12**](https://cpjobling.github.io/eg-247-textbook/fourier_transform/1/worksheet12.html).\n",
    "\n",
    "* The source code for this page is [fourier_transform/1/ft1.ipynb](https://github.com/cpjobling/eg-247-textbook/blob/master/fourier_transform/1/ft1.ipynb).\n",
    "\n",
    "* You can view the notes for this presentation as a webpage ([HTML](https://cpjobling.github.io/eg-247-textbook/fourier_transform/1/ft1.html)). \n",
    "\n",
    "* This page is downloadable as a [PDF](https://cpjobling.github.io/eg-247-textbook/fourier_transform/1/ft1.pdf) file."
   ]
  },
  {
   "cell_type": "markdown",
   "metadata": {
    "slideshow": {
     "slide_type": "slide"
    }
   },
   "source": [
    "## Agenda"
   ]
  },
  {
   "cell_type": "markdown",
   "metadata": {
    "slideshow": {
     "slide_type": "fragment"
    }
   },
   "source": [
    "* Fourier Transform as the Limit of a Fourier Series"
   ]
  },
  {
   "cell_type": "markdown",
   "metadata": {
    "slideshow": {
     "slide_type": "fragment"
    }
   },
   "source": [
    "* Doing the Maths"
   ]
  },
  {
   "cell_type": "markdown",
   "metadata": {
    "slideshow": {
     "slide_type": "fragment"
    }
   },
   "source": [
    "* Special forms of the Fourier Transform"
   ]
  },
  {
   "cell_type": "markdown",
   "metadata": {
    "slideshow": {
     "slide_type": "fragment"
    }
   },
   "source": [
    "* Properties of the Fourier Transform"
   ]
  },
  {
   "cell_type": "markdown",
   "metadata": {
    "slideshow": {
     "slide_type": "fragment"
    }
   },
   "source": [
    "* Computing Fourier Transforms in Matlab"
   ]
  },
  {
   "cell_type": "markdown",
   "metadata": {
    "slideshow": {
     "slide_type": "slide"
    }
   },
   "source": [
    "##  Fourier Transform as the Limit of a Fourier Series\n",
    "\n",
    "We start by considering the pulse train that we used in the last lecture and demonstrate that the discrete line spectra for the Fourier Series becomes a continuous spectrum as the signal becomes aperiodic."
   ]
  },
  {
   "cell_type": "markdown",
   "metadata": {
    "slideshow": {
     "slide_type": "notes"
    }
   },
   "source": [
    "This analysis is from {cite}`boulet` pp 142&mdash;144 and 176&mdash;180."
   ]
  },
  {
   "cell_type": "markdown",
   "metadata": {
    "slideshow": {
     "slide_type": "subslide"
    }
   },
   "source": [
    "Let $\\tilde x(t)$ be the Fourier series of the rectangular pulse train shown below:\n",
    "\n",
    "![A pulse train](./pictures/pulse_train.png)"
   ]
  },
  {
   "cell_type": "markdown",
   "metadata": {
    "slideshow": {
     "slide_type": "subslide"
    }
   },
   "source": [
    "### Fourier Series\n",
    "\n",
    "In the [previous section](../../fourier_series/3/exp_fs2) we used\n",
    "\n",
    "$$C_k = \\frac{1}{2\\pi}\\int_{-\\pi/w}^{\\pi/w} Ae^{-jk(\\Omega_0 t)}\\,d(\\Omega_0 t) = \\frac{A}{2\\pi}\\int_{-\\pi/w}^{\\pi/w} e^{-jk(\\Omega_0 t)}\\,d(\\Omega_0 t) $$\n",
    "\n",
    "to compute the line spectra."
   ]
  },
  {
   "cell_type": "markdown",
   "metadata": {
    "slideshow": {
     "slide_type": "subslide"
    }
   },
   "source": [
    "#### From the Time Point of View\n",
    "\n",
    "If we instead take a time point-of-view and let $A = 1$\n",
    "\n",
    "$$C_k = \\frac{1}{T}\\int_{-t_0}^{t_0} e^{-jk\\Omega_0 t}\\,dt.$$\n",
    "\n",
    "We'll complete the analysis on the whiteboard in class."
   ]
  },
  {
   "cell_type": "markdown",
   "metadata": {
    "slideshow": {
     "slide_type": "subslide"
    }
   },
   "source": [
    "#### The Sinc Function\n",
    "\n",
    "The function, $\\sin(\\pi x)/\\pi x$ crops up again and again in Fourier analysis. The Fourier coefficients $C_k$ are scaled *samples* of the real continuous *normalized sinc* function defined as follows:\n",
    "\n",
    "$$\\operatorname{sinc} u: = \\frac{\\sin \\pi u}{\\pi u},\\;u \\in \\mathbb{R}.$$"
   ]
  },
  {
   "cell_type": "markdown",
   "metadata": {
    "slideshow": {
     "slide_type": "subslide"
    }
   },
   "source": [
    "The function is equal to 1 at $u=0$<sup>1</sup> and has zero crossings at $u=\\pm n,\\; n=1,2,3,\\ldots$ as shown below.\n",
    "\n",
    "#### Plot the sinc function\n",
    " \n",
    "Plots: \n",
    " \n",
    "$$sinc(u) = \\frac{\\sin \\pi u}{\\pi u},\\; u \\in \\mathbb{R}$$"
   ]
  },
  {
   "cell_type": "code",
   "execution_count": 1,
   "metadata": {
    "slideshow": {
     "slide_type": "subslide"
    }
   },
   "outputs": [],
   "source": [
    "cd ../matlab\n",
    "format compact\n",
    "clear all"
   ]
  },
  {
   "cell_type": "code",
   "execution_count": 2,
   "metadata": {
    "slideshow": {
     "slide_type": "subslide"
    }
   },
   "outputs": [
    {
     "data": {
      "image/png": "[encoded data removed]",
      "text/plain": [
       "<IPython.core.display.Image object>"
      ]
     },
     "metadata": {},
     "output_type": "display_data"
    }
   ],
   "source": [
    "x = linspace(-5,5,1000);\n",
    "plot(x,sin(pi.*x)./(pi.*x))\n",
    "grid\n",
    "title('Graph of sinc function')\n",
    "ylabel('sinc(u)')\n",
    "xlabel('u')"
   ]
  },
  {
   "cell_type": "markdown",
   "metadata": {
    "slideshow": {
     "slide_type": "notes"
    }
   },
   "source": [
    "Matlab code to reproduce this plot: [plot_sinc.m](https://cpjobling.github.io/eg-247-textbook/fourier_transform/matlab/plot_sinc.m).\n",
    "\n",
    "1. **Note** $sin(\\pi u)/(\\pi u)$ is undefined at $u = 0$. To compute its value we need to take the limit\n",
    "\n",
    "$$\\lim_{u\\to 0} \\frac{\\sin(\\pi u)}{\\pi u}$$ \n",
    "\n",
    "which can be shown to be 1. I leave the discovery of the proof to you and the internet."
   ]
  },
  {
   "cell_type": "markdown",
   "metadata": {
    "slideshow": {
     "slide_type": "subslide"
    }
   },
   "source": [
    "#### Duty cycle\n",
    "\n",
    "* We define the duty cycle $\\eta = 2t_0/T$ of the rectangular pulse train as the fraction of the time the signal is \"on\" (equal to 1) over one period.\n",
    "* The duty cycle is often given as a percentage."
   ]
  },
  {
   "cell_type": "markdown",
   "metadata": {
    "slideshow": {
     "slide_type": "subslide"
    }
   },
   "source": [
    "The spectral coefficients expressed using the normalized sinc function and the duty cycle can be written as\n",
    "\n",
    "$$C_k = \\frac{2t_0}{T}\\frac{\\sin\\left(\\frac{\\pi k2t_0}{T}\\right)}{\\frac{\\pi k2t_0}{T}}=\\frac{2t_0}{T}\\operatorname{sinc}\\left(\\frac{k2t_0}{T}\\right)$$\n",
    "\n",
    "$$C_k = \\eta \\operatorname{sinc}\\left(k\\eta\\right)$$"
   ]
  },
  {
   "cell_type": "markdown",
   "metadata": {
    "slideshow": {
     "slide_type": "subslide"
    }
   },
   "source": [
    "#### Normalize the spectral coefficients\n",
    "\n",
    "Let us normalize the spectral coefficients of $\\tilde x(t)$ by mutiplying them by $T$, and assume $t_0$ is fixed so that the duty cycle $\\eta = 2t_0/T$ will decrease as we increase $T$:\n",
    "\n",
    "$$T C_k = T\\eta \\operatorname{sinc}\\left(k\\eta\\right)=2t_0\\operatorname{sinc}\\left(k\\frac{2t_0}{T}\\right)$$"
   ]
  },
  {
   "cell_type": "markdown",
   "metadata": {
    "slideshow": {
     "slide_type": "subslide"
    }
   },
   "source": [
    "Then the normalized coefficents $T C_k$ of the rectangular wave is a sinc envelope with constant amplitude at the origin equal to $2t_0$, and a zero crossing at fixed frequency $\\pi/t_0$ rad/s, both independent of $T$.\n",
    "\n",
    "Plots follow (use [duty_cycle.mlx](https://cpjobling.github.io/eg-247-textbook/fourier_transform/matlab/duty_cycle.mlx) to reproduce)."
   ]
  },
  {
   "cell_type": "markdown",
   "metadata": {
    "slideshow": {
     "slide_type": "subslide"
    }
   },
   "source": [
    "#### Durty cycle 50%\n",
    "\n",
    "![Duty cycle 50%](./pictures/dc_point5.png)"
   ]
  },
  {
   "cell_type": "markdown",
   "metadata": {
    "slideshow": {
     "slide_type": "subslide"
    }
   },
   "source": [
    "#### Duty cycle 12.5%\n",
    "\n",
    "![Duty cycle 12.5%](./pictures/dc_12point5.png)"
   ]
  },
  {
   "cell_type": "markdown",
   "metadata": {
    "slideshow": {
     "slide_type": "notes"
    }
   },
   "source": [
    "#### Comments\n",
    "\n",
    "* As the fundamental period increases, we get more spectral lines packed into the lobes of the sinc envelope.\n",
    "* These normalized spectral coefficients turn out to be samples of the continuous sinc function on the spectrum of $\\tilde{x}(t)$\n",
    "\n",
    "* The two spectra are plotted against the frequency variable $k\\omega_0$ with units of rad/s rather than index of harmonic component\n",
    "* The first zeros of each side of the main lobe are at frequencies $\\omega = \\pm \\pi/t_0$ rad/s\n",
    "* The zero-crossing points of sinc envelope are independent of the period T. They only depend on $t_0$."
   ]
  },
  {
   "cell_type": "markdown",
   "metadata": {
    "slideshow": {
     "slide_type": "subslide"
    }
   },
   "source": [
    "#### Intuition leading to the Fourier Transform\n",
    "\n",
    "* An aperiodic signal that has been made periodic by \"repeating\" its graph every $T$ seconds will have a line spectrum that becomes more and more dense as the fundamental period is made longer and longer.\n",
    "* The line spectrum has the same continuous envelope.\n",
    "* As $T$ goes to infinity, the line spectrum will become a continuous function of $\\omega$.\n",
    "* The *envelope* is this function."
   ]
  },
  {
   "cell_type": "markdown",
   "metadata": {
    "slideshow": {
     "slide_type": "slide"
    }
   },
   "source": [
    "### Doing the Maths\n",
    "\n",
    "Fourier series coefficients for the rectangular wave are computed using:\n",
    "\n",
    "$$C_k = \\frac{1}{T}\\int_{-t_0}^{t_0} \\tilde{x}(t) e^{-jk(\\Omega_0 t)}\\,dt $$\n",
    "\n",
    "where $\\Omega_0 = 2\\pi/T$ as usual."
   ]
  },
  {
   "cell_type": "markdown",
   "metadata": {
    "slideshow": {
     "slide_type": "subslide"
    }
   },
   "source": [
    "Now define a signal $x(t)$ as a signal equal to $\\tilde{x}(t)$ over one period and zero elsewhere.\n",
    "\n",
    "![A pulse](./pictures/pulse.png)"
   ]
  },
  {
   "cell_type": "markdown",
   "metadata": {
    "slideshow": {
     "slide_type": "subslide"
    }
   },
   "source": [
    "#### A rectangular pulse\n",
    "\n",
    "The aperiodic signal, a single rectangular pulse, can be thought of as being periodic with an infinite fundamental period (we will let $T\\to +\\infty$ later).\n",
    "\n",
    "Since $\\tilde{x}(t)=x(t)$ over $t \\in [-T/2,T/2]$, the spectral coefficients $C_k$ of the periodic signal $\\tilde{x}(t)$ can be written in terms of the aperiodic signal $x(t)$ as follows:\n",
    "\n",
    "$$C_k = \\frac{1}{T}\\int_{-\\infty}^{+\\infty}x(t)e^{-jk\\omega t} dt.$$"
   ]
  },
  {
   "cell_type": "markdown",
   "metadata": {
    "slideshow": {
     "slide_type": "subslide"
    }
   },
   "source": [
    "Let us define the envelope $X(j\\omega)$ of $T C_k$ (we already know this to be the sinc function):\n",
    "\n",
    "$$X(j\\omega):= \\int_{-\\infty}^{+\\infty}x(t)e^{-j\\omega t} dt = \\int_{-t_0}^{+t_0}e^{-j\\omega t} dt = 2t_0\\operatorname{sinc}\\left(\\frac{t_0}{\\pi}\\omega\\right).$$\n",
    "\n",
    "The coefficients $C_k$ are therefore samples of the continuous envelope $X(j\\omega)$:\n",
    "\n",
    "$$C_k = \\frac{1}{T}X(jk\\Omega_0).$$"
   ]
  },
  {
   "cell_type": "markdown",
   "metadata": {
    "slideshow": {
     "slide_type": "subslide"
    }
   },
   "source": [
    "#### Back to the periodic signal\n",
    "\n",
    "$\\tilde{x}(t)$ has the Fourier series representation\n",
    "\n",
    "$$\\tilde{x}(t) = \\sum_{k=-\\infty}^{\\infty}\\frac{1}{T}X(jk\\Omega_0)e^{jk\\Omega_0 t}.$$\n",
    "\n",
    "or equivalently, since $\\Omega_0 = 2\\pi/T$:\n",
    "\n",
    "$$\\tilde{x}(t) = \\frac{1}{2\\pi} \\sum_{k=-\\infty}^{\\infty}X(jk\\Omega_0)e^{jk\\Omega_0 t}\\Omega_0.$$\n"
   ]
  },
  {
   "cell_type": "markdown",
   "metadata": {
    "slideshow": {
     "slide_type": "subslide"
    }
   },
   "source": [
    "#### Now take the limits\n",
    "\n",
    "At the limit, as $T\\to \\infty$:\n",
    "\n",
    "$$\\tilde{x}(t) = \\frac{1}{2\\pi} \\sum_{k=-\\infty}^{\\infty} X(jk\\Omega_0)e^{jk\\Omega_0 t}\\Omega_0.$$"
   ]
  },
  {
   "cell_type": "markdown",
   "metadata": {
    "slideshow": {
     "slide_type": "subslide"
    }
   },
   "source": [
    "We get\n",
    "\n",
    "* $\\Omega_0 \\to d\\omega$ &ndash; the fundamental frequency becomes infinitesimally small.\n",
    "* $k\\Omega_0 \\to \\omega$ &ndash; harmonic frequencies get so close together they become a continuum.\n",
    "* The summation becomes an integral.\n",
    "* $\\tilde{x}(t) \\to x(t)$ &ndash; the periodic signal tends to the aperiodic signal."
   ]
  },
  {
   "cell_type": "markdown",
   "metadata": {
    "slideshow": {
     "slide_type": "subslide"
    }
   },
   "source": [
    "#### Define the Inverse Fourier and Fourier Transform\n",
    "\n",
    "Putting these elements together we have an expression for the aperiodic signal in terms of its Fourier transform:"
   ]
  },
  {
   "cell_type": "markdown",
   "metadata": {
    "slideshow": {
     "slide_type": "subslide"
    }
   },
   "source": [
    "**Inverse Fourier Transform**:\n",
    "\n",
    "$$x(t) = \\frac{1}{2\\pi} \\int_{-\\infty}^{\\infty} X(j\\omega)e^{j\\omega t}\\,d\\omega := \\mathcal{F}^{-1} \\left\\{X(j\\omega)\\right\\}$$\n",
    "\n",
    "Similarly, given the expression we have already seen for an arbitrary $x(t)$:"
   ]
  },
  {
   "cell_type": "markdown",
   "metadata": {
    "slideshow": {
     "slide_type": "subslide"
    }
   },
   "source": [
    "**Fourier Transform**:\n",
    "\n",
    "$$X(j\\omega) = \\int_{-\\infty}^{\\infty}x(t)e^{-j\\omega t}\\,dt := \\mathcal{F}\\left\\{x(t)\\right\\}.$$"
   ]
  },
  {
   "cell_type": "markdown",
   "metadata": {
    "slideshow": {
     "slide_type": "subslide"
    }
   },
   "source": [
    "#### Fourier Transform Pair\n",
    "\n",
    "* The two equations on the previous slide are called the *Fourier transform pair*."
   ]
  },
  {
   "cell_type": "markdown",
   "metadata": {
    "slideshow": {
     "slide_type": "notes"
    }
   },
   "source": [
    "* They are analogous to the *Laplace transform pair* we have already seen and we can develop tables of properties and transform pairs in the same way.\n",
    "* Equation $X(j\\omega) = \\int_{-\\infty}^{\\infty}x(t)e^{-j\\omega t}\\,dt.$ gives the *Fourier transform* or the *frequency spectrum* of the signal $x(t)$.\n",
    "* Equation $x(t) = \\frac{1}{2\\pi} \\int_{-\\infty}^{\\infty} X(j\\omega)e^{j\\omega t}\\,d\\omega.$ is the *inverse Fourier transform*. It gives the function of time that has a given spectrum in the frequency domain."
   ]
  },
  {
   "cell_type": "markdown",
   "metadata": {
    "slideshow": {
     "slide_type": "notes"
    }
   },
   "source": [
    "## Special Forms of the Fourier Transform\n",
    "\n",
    "The table on the next slide is developed in Section 8.2 of Karris by assuming that in general both $f(t)$ and $F(j\\omega)$ are complex. So that:\n",
    "\n",
    "$$f(t) = \\Re\\left\\{f(t)\\right\\} + j\\Im\\left\\{f(t)\\right\\} = f_{\\mathrm{Re}}(t) + j\\, f_{\\mathrm{Im}}(t)$$\n",
    "\n",
    "The Fourier transform can therefore be rewritten\n",
    "\n",
    "$$F(j\\omega) = \\int_{-\\infty}^{\\infty}f_{\\mathrm{Re}}(t)e^{j\\omega t}\\,dt + j\\int_{-\\infty}^{\\infty}\\, f_{\\mathrm{Im}}(t)e^{j\\omega t}\\,dt$$\n",
    "\n",
    "which by Euler's identity becomes\n",
    "\n",
    "$$F(j\\omega) = \\int_{-\\infty}^{\\infty}\\left[f_{\\mathrm{Re}}(t)\\cos\\omega t + f_{\\mathrm{Im}}(t)\\sin\\omega t\\right]\\,dt - j\\int_{-\\infty}^{\\infty}\\left[f_{\\mathrm{Re}}(t)\\sin\\omega t - f_{\\mathrm{Im}}(t)\\cos\\omega t\\right]\\,dt$$\n",
    "\n",
    "So the Real and Imaginary parts of $F(j\\omega)$ are\n",
    "\n",
    "$$F_\\mathrm{Re}(j\\omega) = \\int_{-\\infty}^{\\infty}\\left[f_{\\mathrm{Re}}(t)\\cos\\omega t + f_{\\mathrm{Im}}(t)\\sin\\omega t\\right]\\,dt$$\n",
    "\n",
    "$$F_\\mathrm{Im}(j\\omega) = - \\int_{-\\infty}^{\\infty}\\left[f_{\\mathrm{Re}}(t)\\sin\\omega t - f_{\\mathrm{Im}}(t)\\cos\\omega t\\right]\\,dt$$\n",
    "\n",
    "We can do a similar analysis for the inverse Fourier transform."
   ]
  },
  {
   "cell_type": "markdown",
   "metadata": {
    "slideshow": {
     "slide_type": "notes"
    }
   },
   "source": [
    "### Time Domain and Frequecy Domain Correspondence\n",
    "\n",
    "\n",
    "By consideration of the Real and Imaginary parts of $f(t)$ and $F(j\\omega)$ we can construct the following table. See Sections **8.2.1 Real-Time Functions** and **8.2.2 Imaginary Time Functions** which shows the summarizes the *nature* of the Fourier transform for particular types of the signal. \n",
    "\n",
    "<html>\n",
    "<table>\n",
    "<thead>\n",
    "    <tr><td rowspan=\"2\" style=\"text-align: center;\">$f(t)$</td><td colspan=\"5\" style=\"text-align: center;\">$F(j\\omega)$</td></tr>\n",
    "    <tr><td>Real</td><td>Imaginary</td><td>Complex</td><td>Even</td><td>Odd</td></tr>\n",
    "</thead>\n",
    "<tbody>\n",
    "<tr><td>Real</td><td>&nbsp;</td><td>&nbsp;</td><td>√</td><td>&nbsp;</td><td>&nbsp;</td></tr>\n",
    "<tr><td>Real and Even</td><td>√</td><td>&nbsp;</td><td>&nbsp;</td><td>√</td><td>&nbsp;</td></tr>\n",
    "<tr><td>Real and Odd</td><td>&nbsp;</td><td>√</td><td>&nbsp;</td><td>&nbsp;</td><td>√</td></tr>\n",
    "<tr><td>Imaginary</td><td>&nbsp;</td><td>&nbsp;</td><td>√</td><td>&nbsp;</td><td>&nbsp;</td></tr>\n",
    "<tr><td>Imaginary and Even</td><td>&nbsp;</td><td>√</td><td>&nbsp;</td><td>√</td><td>&nbsp;</td></tr>\n",
    "<tr><td>Imaginary and Odd</td><td>√</td><td>&nbsp;</td><td>&nbsp;</td><td>&nbsp;</td><td>√</td></tr>\n",
    "</tbody>\n",
    "</table>\n",
    "</html>"
   ]
  },
  {
   "cell_type": "markdown",
   "metadata": {
    "slideshow": {
     "slide_type": "notes"
    }
   },
   "source": [
    "### A useful consequence for $f(t)$ real\n",
    "\n",
    "If $f(t)$ is real (even or odd), the real part of $F(j\\omega)$ is even, and the imaginary part is odd.\n",
    "\n",
    "Then, for $f(t)$ real:\n",
    "\n",
    "$$F_\\mathrm{Re}(-j\\omega)=F_\\mathrm{Re}(j\\omega)$$\n",
    "\n",
    "and\n",
    "\n",
    "$$F_\\mathrm{Im}(-j\\omega)=-F_\\mathrm{Im}(j\\omega)$$\n",
    "\n",
    "Since\n",
    "\n",
    "$$F(j\\omega) = F_\\mathrm{Re}(j\\omega)+jF_\\mathrm{Im}(j\\omega)$$ \n",
    "\n",
    "it follows that\n",
    "\n",
    "$$F(-j\\omega) = F_\\mathrm{Re}(-j\\omega)+jF_\\mathrm{Im}(-j\\omega) = F_\\mathrm{Re}(j\\omega)-jF_\\mathrm{Im}(j\\omega)$$ \n",
    "\n",
    "or\n",
    "\n",
    "$$F(-j\\omega) = F^*(j\\omega)$$"
   ]
  },
  {
   "cell_type": "markdown",
   "metadata": {
    "slideshow": {
     "slide_type": "slide"
    }
   },
   "source": [
    "## Properties of the Fourier Transform\n",
    "\n",
    "Again, we will provide any properties that you might need in the examination.\n",
    "    \n",
    "You will find a number of these in the accompanying notes."
   ]
  },
  {
   "cell_type": "markdown",
   "metadata": {
    "slideshow": {
     "slide_type": "notes"
    }
   },
   "source": [
    "For fun, you may like to read and even complete the proofs for these properties guided by the text books {cite}`karris` (Section 8.3) or {cite}`boulet` pp 180&mdash;185.\n",
    "\n",
    "We are more interested in your ability to exploit the properties in problem solving.\n",
    "\n",
    "A little more detail is given in the notes available on Blackboard."
   ]
  },
  {
   "cell_type": "markdown",
   "metadata": {
    "slideshow": {
     "slide_type": "notes"
    }
   },
   "source": [
    "### Linearity\n",
    "\n",
    "The Fourier transform is a linear operation:\n",
    "\n",
    "$$a_1f_1(t)+a_2f_2(t)+\\cdots+a_nf_n(t)\\Leftrightarrow a_1F_1(j\\omega)+a_2F_2(j\\omega)+\\cdots+a_nF_n(j\\omega)$$"
   ]
  },
  {
   "cell_type": "markdown",
   "metadata": {
    "slideshow": {
     "slide_type": "notes"
    }
   },
   "source": [
    "### Symmetry\n",
    "\n",
    "If $F(j\\omega)$ is the Fourier transform of $f(t)$, the *symmetry property of the Fourier transform* states that\n",
    "\n",
    "$$F(t)\\Leftrightarrow2\\pi f(-j\\omega)$$\n",
    "\n",
    "That is if in $F(j\\omega)$ we replace $j\\omega$ with $t$, we obtain this pair."
   ]
  },
  {
   "cell_type": "markdown",
   "metadata": {
    "slideshow": {
     "slide_type": "notes"
    }
   },
   "source": [
    "### Time/Frequency Scaling\n",
    "\n",
    "Scaling the time variable with $\\alpha  \\in \\mathbb{R}$ either expands or compresses the Fourier transform:\n",
    "\n",
    "$$f(\\alpha t)\\Leftrightarrow \\frac{1}{|\\alpha|}F\\left(j\\frac{\\omega}{\\alpha}\\right)$$\n",
    "\n",
    "* For $\\alpha > 0$, the signal $f(\\alpha t)$ is sped up (or compressed in time), so its frequency components will be expanded to higher frequencies.\n",
    "* For $\\alpha < 0$, the signal $f(\\alpha t)$ is slowed down (or expanded in time), so its frequency components will be compressed to lower frequencies."
   ]
  },
  {
   "cell_type": "markdown",
   "metadata": {
    "slideshow": {
     "slide_type": "notes"
    }
   },
   "source": [
    "### Time Shifting\n",
    "\n",
    "A time shift results in a phase shift in the Fourier transform\n",
    "\n",
    "$$f(t-t_0) \\Leftrightarrow e^{-j\\omega_0}F(j\\omega)$$\n",
    "\n",
    "where $\\omega_0 = 2\\pi/t_0$"
   ]
  },
  {
   "cell_type": "markdown",
   "metadata": {
    "slideshow": {
     "slide_type": "notes"
    }
   },
   "source": [
    "### Frequency Shifting\n",
    "\n",
    "Multiplying a time function by a complex exponential resuls in a frequency shift\n",
    "\n",
    "$$e^{j\\omega 0}f(t) \\Leftrightarrow X(j\\omega-j\\omega_0)$$\n",
    "\n"
   ]
  },
  {
   "cell_type": "markdown",
   "metadata": {
    "slideshow": {
     "slide_type": "notes"
    }
   },
   "source": [
    "### Time Differentiation\n",
    "\n",
    "If $F(j\\omega)$ is the Fourier transform of $f(t)$\n",
    "\n",
    "$$\\frac{d^n}{dt^n}\\,f(t)\\Leftrightarrow (j\\omega)^nF(j\\omega)$$"
   ]
  },
  {
   "cell_type": "markdown",
   "metadata": {
    "slideshow": {
     "slide_type": "notes"
    }
   },
   "source": [
    "### Frequency Differentiation\n",
    "\n",
    "If $F(j\\omega)$ is the Fourier transform of $f(t)$\n",
    "\n",
    "$$(-jt)^n f(t)\\Leftrightarrow \\frac{d^n}{d\\omega^n}F(j\\omega)$$"
   ]
  },
  {
   "cell_type": "markdown",
   "metadata": {
    "slideshow": {
     "slide_type": "notes"
    }
   },
   "source": [
    "### Time Integration\n",
    "\n",
    "If $F(j\\omega)$ is the Fourier transform of $f(t)$\n",
    "\n",
    "$$\\int_{-\\infty}^{t}f(\\tau)d\\tau \\Leftrightarrow \\frac{F(j\\omega)}{j\\omega}+\\pi F(0)\\delta(\\omega)$$"
   ]
  },
  {
   "cell_type": "markdown",
   "metadata": {
    "slideshow": {
     "slide_type": "notes"
    }
   },
   "source": [
    "### Conjugate Time and Frequency Functions\n",
    "\n",
    "If $F(j\\omega)$ is the Fourier transform of the complex function $f(t)$\n",
    "\n",
    "$$f^*(t)\\Leftrightarrow F^*(-j\\omega)$$"
   ]
  },
  {
   "cell_type": "markdown",
   "metadata": {
    "slideshow": {
     "slide_type": "notes"
    }
   },
   "source": [
    "### Time Convolution\n",
    "\n",
    "$$f_1(t)*f_2(t) \\Leftrightarrow F_1(j\\omega) F_2(j\\omega)$$\n",
    "\n",
    "That is convolution in the time domain corresponds to multiplication in the frequency domain.\n",
    "\n",
    "(Compare with Laplace Transform)"
   ]
  },
  {
   "cell_type": "markdown",
   "metadata": {
    "slideshow": {
     "slide_type": "notes"
    }
   },
   "source": [
    "### Frequency Convolution\n",
    "\n",
    "$$f_1(t)f_2(t) \\Leftrightarrow \\frac{1}{2\\pi} F_1(j\\omega)*F_2(j\\omega)$$\n",
    "\n",
    "That is, multiplication in the time domain corresponds to convolution in the frequency domain.\n",
    "\n",
    "This also has application to amplitude modulation as shown in {cite}`boulet` pp 182&mdash;183.\n"
   ]
  },
  {
   "cell_type": "markdown",
   "metadata": {
    "slideshow": {
     "slide_type": "notes"
    }
   },
   "source": [
    "### Area under $f(t)$\n",
    "\n",
    "$$\\int_{-\\infty}^{\\infty} f(t)\\,dt = F(0)$$\n",
    "\n",
    "That is, the area under a time function $f(t)$ is equal to the value of the Fourier transform of $f(t)$ evaluated at $\\omega = 0$ rad/s."
   ]
  },
  {
   "cell_type": "markdown",
   "metadata": {
    "slideshow": {
     "slide_type": "notes"
    }
   },
   "source": [
    "### Area under $F(j\\omega)$\n",
    "\n",
    "$$f(0) = \\frac{1}{2\\pi}\\int_{-\\infty}^{\\infty} F(j\\omega)\\,d\\omega$$\n",
    "\n",
    "That is, the value of a time function, $f(t)$, evaluated at $t=0$ is equal to the area under its Fourier transform $F(j\\omega)$ times $1/2\\pi$."
   ]
  },
  {
   "cell_type": "markdown",
   "metadata": {
    "slideshow": {
     "slide_type": "notes"
    }
   },
   "source": [
    "### Energy-Density Spectrum\n",
    "\n",
    "Recalling that the power spectrum of a periodic signal is defined as the squared magnitudes of its Fourier series coefficients. A plot of the power spectrum of a signal gives us an idea of the power at different frequencies (harmonics).\n",
    "\n",
    "By analogy, the *energy-density spectrum* of an aperiodic signal is defined as the magnitude squared of its spectrum; that is \n",
    "\n",
    "$$|F(j\\omega)|^2$$\n",
    "\n",
    "is the energy-density spectrum of $f(t)$.\n",
    "\n",
    "For example\n",
    "\n",
    "$$E_{[\\omega_1,\\omega_2]}:=\\frac{1}{2\\pi}\\int_{\\omega_1}^{\\omega_2}|F(j\\omega)|^2\\,d\\omega.$$\n",
    "\n",
    "Note that for real signals, it is customary to include the negative frequency band as well."
   ]
  },
  {
   "cell_type": "markdown",
   "metadata": {
    "slideshow": {
     "slide_type": "notes"
    }
   },
   "source": [
    "### Parseval's Theorem\n",
    "\n",
    "Just like the total average power of a periodic signal is equal to the sume of the powers of all the harmonics, the total energy in an aperidic signal is equal to the total energy in its sepctrum.\n",
    "\n",
    "This is the Parseval equality for Fourier transforms:\n",
    "\n",
    "$$\\int_{-\\infty}^{\\infty}|f(t)|^2\\,dt=\\frac{1}{2\\pi}\\int_{-\\infty}^{\\infty}|F(j\\omega)|^2\\,d\\omega.$$"
   ]
  },
  {
   "cell_type": "markdown",
   "metadata": {
    "slideshow": {
     "slide_type": "notes"
    }
   },
   "source": [
    "## Table of Properites of the Fourier Transform\n",
    "\n",
    "As was the case of the Laplace Transform, properties of Fourier transforms are usually summarized in Tables of Fourier Transform properties. For example this one: [Properties of the Fourier Transform (Wikpedia)](https://en.wikipedia.org/wiki/Fourier_transform#Properties_of_the_Fourier_transform) and Table 8.8 in {cite}`karris` (page 8-17).\n",
    "\n",
    "More detail and some commentry is given in the printable version of these notes.\n",
    "\n",
    "<table>\n",
    "<thead> \n",
    "    <tr><td></td><td><b>Name</b></td><td>$f(t)$</td><td>$F(j\\omega)$</td><td><b>Remarks</b></td></tr>\n",
    "</thead>\n",
    "<tbody>\n",
    "<tr><td>1</td><td>Linearity</td><td>$a_1f_1(t)+a_2f_2(t)+\\cdots+a_nf_n(t)$</td><td>$a_1F_1(j\\omega)+a_2F_2(j\\omega)+\\cdots+a_nF_n(j\\omega)$</td><td>Fourier transform is a linear operator.</td></tr>\n",
    "<tr><td>2</td><td>Symmetry</td><td>$2\\pi f(-j\\omega)$</td><td>$F(t)$</td><td></td></tr>\n",
    "<tr><td>3.</td><td>Time and frequency scaling</td><td>$f(\\alpha t)$</td><td>$$\\frac{1}{|\\alpha|}F\\left(j\\frac{\\omega}{\\alpha}\\right)$$</td><td>time compression is frequency expansion and *vice versa*</td></tr>\n",
    "<tr><td>4.</td><td>Time shifting</td><td>$$f(t-t_0)$$</td><td>$$e^{-j\\omega t_0}F(j\\omega)$$</td><td>A time shift corresponds to a phase shift in frequency domain</td></tr>\n",
    "<tr><td>5.</td><td>Frequency shifting</td><td>$$e^{j\\omega_0 t}f(t)$$</td><td>$$F(j\\omega-j\\omega_0)$$</td><td>Multiplying a signal by a complex exponential results in a frequency shift.</td></tr>\n",
    "<tr><td>6.</td><td>Time differentiation</td><td>$$\\frac{d^n}{dt^n}\\,f(t)$$</td><td>$$(j\\omega)^nF(j\\omega)$$</td><td></td></tr>\n",
    "<tr><td>7.</td><td>Frequency differentiation</td><td>$$(-jt)^n f(t)$$</td><td>$$\\frac{d^n}{d\\omega^n}F(j\\omega)$$</td><td></td></tr>\n",
    "<tr><td>8.</td><td>Time integration</td><td>$$\\int_{-\\infty}^{t}f(\\tau)d\\tau$$</td><td>$$\\frac{F(j\\omega)}{j\\omega}+\\pi F(0)\\delta(\\omega)$$</td><td></td></tr>\n",
    "<tr><td>9.</td><td>Conjugation</td><td>$$f^*(t)$$</td><td>$$F^*(-j\\omega)$$</td><td></td></tr>\n",
    "<tr><td>10.</td><td>Time convolution</td><td>$$f_1(t)*f_2(t)$$</td><td>$$F_1(j\\omega) F_2(j\\omega)$$</td><td>Compare with Laplace Transform</td></tr>\n",
    "<tr><td>11.</td><td>Frequency convolution</td><td>$$f_1(t)f_2(t)$$</td><td>$$\\frac{1}{2\\pi} F_1(j\\omega)*F_2(j\\omega)$$</td><td>This has application to amplitude modulation as shown in Boulet pp 182&mdash;183.</td></tr>\n",
    "<tr><td>12.</td><td>Area under $f(t)$</td><td>$$\\int_{-\\infty}^{\\infty} f(t)\\,dt = F(0)$$</td><td></td><td>Way to calculate DC (or average) value of a signal</td></tr>\n",
    "<tr><td>13.</td><td>Area under $F(j\\omega)$</td><td>$$f(0) = \\frac{1}{2\\pi}\\int_{-\\infty}^{\\infty} F(j\\omega)\\,d\\omega$$</td><td></td><td></td></tr>\n",
    "<tr><td>14.</td><td>Energy-Density Spectrum</td><td>$$E_{[\\omega_1,\\omega_2]}:=\\frac{1}{2\\pi}\\int_{\\omega_1}^{\\omega_2}|F(j\\omega)|^2\\,d\\omega.$$</td><td></td><td></td></tr>\n",
    "<tr><td>15.</td><td>Parseval's theorem</td><td>$$\\int_{-\\infty}^{\\infty}|f(t)|^2\\,dt=\\frac{1}{2\\pi}\\int_{-\\infty}^{\\infty}|F(j\\omega)|^2\\,d\\omega.$$</td><td></td><td>Definition RMS follows from this</td></tr>\n",
    "</tbody>\n",
    "</table>\n",
    "\n",
    "See also: [Wikibooks: Engineering Tables/Fourier Transform Properties](https://en.wikibooks.org/wiki/Engineering_Tables/Fourier_Transform_Properties) and [Fourier Transfom&mdash;WolframMathworld](https://mathworld.wolfram.com/FourierTransform.html) for more complete references.\n"
   ]
  },
  {
   "cell_type": "markdown",
   "metadata": {
    "slideshow": {
     "slide_type": "slide"
    }
   },
   "source": [
    "## Examples\n",
    "\n",
    "1. Amplitude Modulation\n",
    "2. Impulse response\n",
    "3. Energy computation"
   ]
  },
  {
   "cell_type": "markdown",
   "metadata": {
    "slideshow": {
     "slide_type": "subslide"
    }
   },
   "source": [
    "### Example 1: Amplitude Modulation\n",
    "\n",
    "Compute the result of multiplying a signal $f(t)$ by a carrier waveform $\\cos \\omega_c t$.\n",
    "\n",
    "*Hint* use Euler's identity and the frequency shift property"
   ]
  },
  {
   "cell_type": "markdown",
   "metadata": {
    "slideshow": {
     "slide_type": "subslide"
    }
   },
   "source": [
    "### Example 2: Impulse response\n",
    "\n",
    "A system has impulse response $f(t) = e^{-t}u_0(t)$. Compute the frequency sprectrum of this system."
   ]
  },
  {
   "cell_type": "markdown",
   "metadata": {
    "slideshow": {
     "slide_type": "subslide"
    }
   },
   "source": [
    "### Example 3: Energy computation\n",
    "\n",
    "An aperiodic real signal $f(t)$ has Fourier transform $F(j\\omega)$. Compute the energy contained the signal between 5kHz and 10kHz."
   ]
  },
  {
   "cell_type": "markdown",
   "metadata": {
    "slideshow": {
     "slide_type": "slide"
    }
   },
   "source": [
    "## Computing Fourier Transforms in MATLAB\n",
    "\n",
    "MATLAB has the built-in **fourier** and **ifourier** functions that can be used to compute the Fourier transform and its inverse. \n",
    "\n",
    "For now, here's an example:"
   ]
  },
  {
   "cell_type": "markdown",
   "metadata": {
    "slideshow": {
     "slide_type": "subslide"
    }
   },
   "source": [
    "### Example\n",
    "\n",
    "Use MATLAB to confirm the Fourier transform pair:\n",
    "    \n",
    "$$e^{-\\frac{1}{2}t^2}\\Leftrightarrow \\sqrt{2\\pi}e^{-\\frac{1}{2}\\omega^2}$$"
   ]
  },
  {
   "cell_type": "code",
   "execution_count": 3,
   "metadata": {
    "slideshow": {
     "slide_type": "fragment"
    }
   },
   "outputs": [
    {
     "name": "stdout",
     "output_type": "stream",
     "text": [
      "Fw =\n",
      "2^(1/2)*pi^(1/2)*exp(-omega^2/2)\n"
     ]
    }
   ],
   "source": [
    "syms t v omega x;\n",
    "ft = exp(-t^2/2);\n",
    "Fw = fourier(ft,omega)"
   ]
  },
  {
   "cell_type": "code",
   "execution_count": 4,
   "metadata": {
    "slideshow": {
     "slide_type": "subslide"
    }
   },
   "outputs": [
    {
     "name": "stdout",
     "output_type": "stream",
     "text": [
      "                    /        2 \\\n",
      "                    |   omega  |\n",
      "sqrt(2) sqrt(pi) exp| - ------ |\n",
      "                    \\      2   /\n",
      "\n"
     ]
    }
   ],
   "source": [
    "pretty(Fw)"
   ]
  },
  {
   "cell_type": "markdown",
   "metadata": {
    "slideshow": {
     "slide_type": "subslide"
    }
   },
   "source": [
    "Check by computing the inverse using ifourier"
   ]
  },
  {
   "cell_type": "code",
   "execution_count": 5,
   "metadata": {
    "slideshow": {
     "slide_type": "subslide"
    }
   },
   "outputs": [
    {
     "name": "stdout",
     "output_type": "stream",
     "text": [
      "ft =\n",
      "exp(-t^2/2)\n"
     ]
    }
   ],
   "source": [
    "ft = ifourier(Fw,t)"
   ]
  },
  {
   "cell_type": "markdown",
   "metadata": {
    "slideshow": {
     "slide_type": "notes"
    }
   },
   "source": [
    "See script: [ftex1.m](https://cpjobling.github.io/eg-247-textbook/fourier_transform/matlab/ftex1.m)."
   ]
  },
  {
   "cell_type": "markdown",
   "metadata": {
    "slideshow": {
     "slide_type": "slide"
    }
   },
   "source": [
    "## Summary\n",
    "\n",
    "* Fourier Transform as the Limit of a Fourier Series\n",
    "* Doing the Maths\n",
    "* Special forms of the Fourier Transform\n",
    "* Properties of the Fourier Transform\n",
    "* Computing Fourier Transforms in Matlab"
   ]
  },
  {
   "cell_type": "markdown",
   "metadata": {
    "slideshow": {
     "slide_type": "subslide"
    }
   },
   "source": [
    "*Next Section*\n",
    "\n",
    "* [Fourier transform of commonly occuring signals](../2/ft2)"
   ]
  },
  {
   "cell_type": "markdown",
   "metadata": {},
   "source": [
    "## References\n",
    "\n",
    "See [Bibliography](/zbib)."
   ]
  },
  {
   "cell_type": "markdown",
   "metadata": {
    "slideshow": {
     "slide_type": "notes"
    }
   },
   "source": [
    "## Worked Solutions"
   ]
  },
  {
   "cell_type": "markdown",
   "metadata": {
    "slideshow": {
     "slide_type": "notes"
    }
   },
   "source": [
    "### Let's complete the analysis in the notebook\n",
    "\n",
    "$$C_k = \\frac{1}{T}\\int_{-t_0}^{t_0} e^{-jk\\Omega_0 t}\\,dt = -\\frac{1}{jk\\Omega_0 T}\\left[e^{-jk\\Omega_0 t}\\right]_{-t_0}^{t_0} = -\\frac{1}{jk\\Omega_0 T}\\left(e^{-jk\\Omega_0 t_0}-e^{jk\\Omega_0 t_0}\\right)$$\n",
    "\n",
    "$$C_k = \\frac{2}{k\\Omega_0 T}\\left(\\frac{e^{jk\\Omega_0 t_0}-e^{-jk\\Omega_0 t_0}}{2j}\\right) = 2\\frac{\\sin(k\\Omega_0 t_0)}{k\\Omega_0 T}$$\n",
    "\n",
    "and since $\\Omega = 2\\pi/T$\n",
    "\n",
    "$$C_k = \\frac{\\sin\\left(\\pi k\\frac{2t_0}{T}\\right)}{k\\pi } = \\frac{2t_0}{T}{\\mathop{\\rm sinc}}\\left( k\\frac{2t_0}{T}\\right)$$\n"
   ]
  },
  {
   "cell_type": "markdown",
   "metadata": {
    "slideshow": {
     "slide_type": "notes"
    }
   },
   "source": [
    "### Solution 1\n",
    "\n",
    "$$\\cos\\omega_c t = \\frac{e^{j\\omega_c t}+e^{-j\\omega_c t}}{2}$$\n",
    "\n",
    "it follows from the *frequency shifting* property that\n",
    "\n",
    "$$f(t)\\cos\\omega_c t \\Leftrightarrow \\frac{F(j\\omega-j\\omega_c)+F(j\\omega + j\\omega_c)}{2}.$$\n",
    "\n",
    "Similarly\n",
    "\n",
    "$$f(t)\\sin\\omega_c t \\Leftrightarrow \\frac{F(j\\omega-j\\omega_c)-F(j\\omega + j\\omega_c)}{j2}.$$\n",
    "\n",
    "### Remarks\n",
    "\n",
    "We can also tackle this using the Frequency Convolution property. See {cite}`boulet` pp 182&mdash;183."
   ]
  },
  {
   "cell_type": "markdown",
   "metadata": {
    "slideshow": {
     "slide_type": "notes"
    }
   },
   "source": [
    "### Solution 2\n",
    "\n",
    "\\begin{eqnarray*}\n",
    "  \\mathcal{F}\\left\\{ e^{-t}u_0(t) \\right\\} &=& \\int_0^\\infty  e^{-t}u_0(t) e^{ - j\\omega t}\\;dt \\\\ \n",
    "   &=& \\int_0^\\infty  e^{-(1 + j\\omega )t} \\;dt \\\\ \n",
    "   &=&  - \\frac{1}{j\\omega  + 1}\\left[ e^{ - (1 + j\\omega )t} \\right]_0^\\infty  =  - \\frac{1}{j\\omega  + 1}\\left[ {0 - 1} \\right] \\\\ \n",
    "  F(j\\omega ) &=& \\frac{1}{j\\omega  + 1} \\\\ \n",
    "\\end{eqnarray*}\n",
    "\n",
    "Thus\n",
    "\n",
    "$$e^{ - t}{u_0}(t)\\Leftrightarrow \\frac{1}{j\\omega  + 1}$$"
   ]
  },
  {
   "cell_type": "markdown",
   "metadata": {
    "slideshow": {
     "slide_type": "skip"
    }
   },
   "source": [
    "### Solution 3\n",
    "\n",
    "Use the Energy-Density function.\n",
    "\n",
    "$$E_{[10,000\\pi,20,000\\pi]}^r=\\frac{1}{2\\pi}\\left[\\int_{10,000\\pi}^{20,000\\pi}|X(j\\omega)|^2\\,d\\omega + \\frac{1}{2\\pi}\\int_{-20,000\\pi}^{-10,000\\pi}|X(j\\omega)|^2\\,d\\omega\\right] = \\frac{1}{\\pi}\\int_{10,000\\pi}^{20,000\\pi}|X(j\\omega)|^2\\,d\\omega.$$"
   ]
  }
 ],
 "metadata": {
  "anaconda-cloud": {},
  "celltoolbar": "Slideshow",
  "kernelspec": {
   "display_name": "Matlab",
   "language": "matlab",
   "name": "matlab"
  },
  "language_info": {
   "codemirror_mode": "octave",
   "file_extension": ".m",
   "help_links": [
    {
     "text": "MetaKernel Magics",
     "url": "https://metakernel.readthedocs.io/en/latest/source/README.html"
    }
   ],
   "mimetype": "text/x-octave",
   "name": "matlab",
   "version": "0.16.9"
  }
 },
 "nbformat": 4,
 "nbformat_minor": 1
}
