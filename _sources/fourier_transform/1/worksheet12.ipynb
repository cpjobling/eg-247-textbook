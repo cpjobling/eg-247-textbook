{
 "cells": [
  {
   "cell_type": "markdown",
   "id": "10a10e19",
   "metadata": {
    "slideshow": {
     "slide_type": "slide"
    }
   },
   "source": [
    "# Worksheet 12\n",
    "\n",
    "## To accompany Chapter 5.1 Defining the Fourier Transform"
   ]
  },
  {
   "cell_type": "markdown",
   "id": "752297e5",
   "metadata": {
    "slideshow": {
     "slide_type": "skip"
    }
   },
   "source": [
    "## Colophon\n",
    "\n",
    "This worksheet can be downloaded as a [PDF file](https://cpjobling.github.io/eg-247-textbook/worksheets/worksheet12.pdf). We will step through this worksheet in class. \n",
    "\n",
    "An annotatable copy of the notes for this presentation will be distributed before the second class meeting as **Worksheet 12** in the **Week 6: Classroom Activities** section of the Canvas site. I will also distribute a copy to your personal **Worksheets** section of the **OneNote Class Notebook** so that you can add your own notes using OneNote. \n",
    "\n",
    "You are expected to have at least watched the video presentation of [Chapter 5.1](https://cpjobling.github.io/eg-247-textbook/fourier_transform/1/ft1) of the [notes](https://cpjobling.github.io/eg-247-textbook) before coming to class. If you haven't watch it afterwards!\n",
    "\n",
    "After class, the lecture recording and the annotated version of the worksheets will be made available through Canvas."
   ]
  },
  {
   "cell_type": "markdown",
   "id": "49228794",
   "metadata": {
    "slideshow": {
     "slide_type": "slide"
    }
   },
   "source": [
    "##  Fourier Transform as the Limit of a Fourier Series\n",
    "\n",
    "We start by considering the pulse train that we used in the last lecture and demonstrate that the discrete line spectra for the Fourier Series becomes a continuous spectrum as the signal becomes aperiodic."
   ]
  },
  {
   "cell_type": "markdown",
   "id": "dfce0908",
   "metadata": {
    "slideshow": {
     "slide_type": "notes"
    }
   },
   "source": [
    "This analysis is from Boulet pp 142&mdash;144 and 176&mdash;180."
   ]
  },
  {
   "cell_type": "markdown",
   "id": "0e0f8f1e",
   "metadata": {
    "slideshow": {
     "slide_type": "subslide"
    }
   },
   "source": [
    "Let $\\tilde x(t)$ be the Fourier series of the rectangular pulse train shown below:\n",
    "\n",
    "![A rectangular pulse train](./pictures/pulse_train.png)"
   ]
  },
  {
   "cell_type": "markdown",
   "id": "5987a985",
   "metadata": {
    "slideshow": {
     "slide_type": "subslide"
    }
   },
   "source": [
    "### Fourier Series\n",
    "\n",
    "In the [previous section](../../fourier_series/3/exp_fs2) we used\n",
    "\n",
    "$$C_k = \\frac{1}{2\\pi}\\int_{-\\pi/w}^{\\pi/w} Ae^{-jk(\\Omega_0 t)}\\,d(\\Omega_0 t) = \\frac{A}{2\\pi}\\int_{-\\pi/w}^{\\pi/w} e^{-jk(\\Omega_0 t)}\\,d(\\Omega_0 t) $$\n",
    "\n",
    "to compute the line spectra."
   ]
  },
  {
   "cell_type": "markdown",
   "id": "51b32df4",
   "metadata": {
    "slideshow": {
     "slide_type": "subslide"
    }
   },
   "source": [
    "#### From the Time Point of View\n",
    "\n",
    "If we instead take a time point-of-view and let $A = 1$\n",
    "\n",
    "$$C_k = \\frac{1}{T}\\int_{-t_0}^{t_0} e^{-jk\\Omega_0 t}\\,dt.$$\n",
    "\n",
    "Let's complete the analysis in the whiteboard."
   ]
  },
  {
   "cell_type": "markdown",
   "id": "c6d09b66",
   "metadata": {
    "slideshow": {
     "slide_type": "notes"
    }
   },
   "source": [
    "<pre style=\"border: 2px solid blue\">\n",
    "\n",
    "\n",
    "\n",
    "\n",
    "\n",
    "\n",
    "\n",
    "\n",
    "\n",
    "\n",
    "\n",
    "\n",
    "\n",
    "\n",
    "\n",
    "\n",
    "\n",
    "\n",
    "\n",
    "\n",
    "\n",
    "\n",
    "\n",
    "\n",
    "\n",
    "\n",
    "\n",
    "\n",
    "\n",
    "\n",
    "</pre>"
   ]
  },
  {
   "cell_type": "markdown",
   "id": "80c2e90c",
   "metadata": {
    "slideshow": {
     "slide_type": "subslide"
    }
   },
   "source": [
    "#### The Sinc Function\n",
    "\n",
    "The function, $\\sin(\\pi x)/\\pi x$ crops up again and again in Fourier analysis. The Fourier coefficients $C_k$ are scaled *samples* of the real continuous *normalized sinc* function defined as follows:\n",
    "\n",
    "$$\\operatorname{sinc} u: = \\frac{\\sin \\pi u}{\\pi u},\\;u \\in \\mathbb{R}.$$"
   ]
  },
  {
   "cell_type": "markdown",
   "id": "01f87f71",
   "metadata": {
    "slideshow": {
     "slide_type": "subslide"
    }
   },
   "source": [
    "The function is equal to 1 at $u=0$<sup>1</sup> and has zero crossings at $u=\\pm n,\\; n=1,2,3,\\ldots$ as shown below.\n",
    "\n",
    "#### Plot the sinc function\n",
    " \n",
    "Plots: \n",
    " \n",
    "$$sinc(u) = \\frac{\\sin \\pi u}{\\pi u},\\; u \\in \\mathbb{R}$$"
   ]
  },
  {
   "cell_type": "code",
   "execution_count": null,
   "id": "616aea72",
   "metadata": {
    "slideshow": {
     "slide_type": "subslide"
    }
   },
   "outputs": [],
   "source": [
    "clear all\n",
    "imatlab_export_fig('print-svg')  % Static svg figures.\n",
    "cd ../matlab\n",
    "format compact"
   ]
  },
  {
   "cell_type": "code",
   "execution_count": null,
   "id": "0d851d7a",
   "metadata": {
    "slideshow": {
     "slide_type": "subslide"
    }
   },
   "outputs": [],
   "source": [
    "x = linspace(-5,5,1000);\n",
    "plot(x,sin(pi.*x)./(pi.*x))\n",
    "grid\n",
    "title('Graph of sinc function')\n",
    "ylabel('sinc(u)')\n",
    "xlabel('u')"
   ]
  },
  {
   "cell_type": "markdown",
   "id": "4e7af73a",
   "metadata": {
    "slideshow": {
     "slide_type": "subslide"
    }
   },
   "source": [
    "#### Duty cycle\n",
    "\n",
    "* We define the duty cycle $\\eta = 2t_0/T$ of the rectangular pulse train as the fraction of the time the signal is \"on\" (equal to 1) over one period.\n",
    "* The duty cycle is often given as a percentage."
   ]
  },
  {
   "cell_type": "markdown",
   "id": "d5db79d5",
   "metadata": {
    "slideshow": {
     "slide_type": "subslide"
    }
   },
   "source": [
    "The spectral coefficients expressed using the normalized sinc function and the duty cycle can be written as\n",
    "\n",
    "$$C_k = \\frac{2t_0}{T}\\frac{\\sin\\left(\\frac{\\pi k2t_0}{T}\\right)}{\\frac{\\pi k2t_0}{T}}=\\frac{2t_0}{T}\\operatorname{sinc}\\left(\\frac{k2t_0}{T}\\right)$$\n",
    "\n",
    "$$C_k = \\eta \\operatorname{sinc}\\left(k\\eta\\right)$$"
   ]
  },
  {
   "cell_type": "markdown",
   "id": "1fffbafb",
   "metadata": {
    "slideshow": {
     "slide_type": "subslide"
    }
   },
   "source": [
    "#### Normalize the spectral coefficients\n",
    "\n",
    "Let us normalize the spectral coefficients of $\\tilde x(t)$ by mutiplying them by $T$, and assume $t_0$ is fixed so that the duty cycle $\\eta = 2t_0/T$ will decrease as we increase $T$:\n",
    "\n",
    "$$T C_k = T\\eta \\operatorname{sinc}\\left(k\\eta\\right)=2t_0\\operatorname{sinc}\\left(k\\frac{2t_0}{T}\\right)$$"
   ]
  },
  {
   "cell_type": "markdown",
   "id": "634b5533",
   "metadata": {
    "slideshow": {
     "slide_type": "subslide"
    }
   },
   "source": [
    "Then the normalized coefficents $T C_k$ of the rectangular wave is a sinc envelope with constant amplitude at the origin equal to $2t_0$, and a zero crossing at fixed frequency $\\pi/t_0$ rad/s, both independent of $T$."
   ]
  },
  {
   "cell_type": "code",
   "execution_count": null,
   "id": "4c33e453",
   "metadata": {
    "slideshow": {
     "slide_type": "subslide"
    }
   },
   "outputs": [],
   "source": [
    "open duty_cycle"
   ]
  },
  {
   "cell_type": "markdown",
   "id": "3146e3ad",
   "metadata": {
    "slideshow": {
     "slide_type": "fragment"
    }
   },
   "source": [
    "**Demo**\n",
    "\n",
    "Run duty_cycle with values of:\n",
    "\n",
    "* 50% ($\\eta = 1/2$)"
   ]
  },
  {
   "cell_type": "markdown",
   "id": "99dec90f",
   "metadata": {
    "slideshow": {
     "slide_type": "fragment"
    }
   },
   "source": [
    "* 25% ($\\eta = ?$)"
   ]
  },
  {
   "cell_type": "markdown",
   "id": "82a87362",
   "metadata": {
    "slideshow": {
     "slide_type": "fragment"
    }
   },
   "source": [
    "* 12.5% ($\\eta = ?$)"
   ]
  },
  {
   "cell_type": "markdown",
   "id": "bd3defa8",
   "metadata": {
    "slideshow": {
     "slide_type": "fragment"
    }
   },
   "source": [
    "* 5% ($\\eta = ?$)"
   ]
  },
  {
   "cell_type": "markdown",
   "id": "e52ff8ae",
   "metadata": {
    "slideshow": {
     "slide_type": "notes"
    }
   },
   "source": [
    "#### Comments\n",
    "\n",
    "* As the fundamental period increases, we get more spectral lines packed into the lobes of the sinc envelope.\n",
    "* These normalized spectral coefficients turn out to be samples of the continuous sinc function on the spectrum of $\\tilde{x}(t)$\n",
    "\n",
    "* The two spectra are plotted against the frequency variable $k\\omega_0$ with units of rad/s rather than index of harmonic component\n",
    "* The first zeros of each side of the main lobe are at frequencies $\\omega = \\pm \\pi/t_0$ rad/s\n",
    "* The zero-crossing points of sinc envelope are independent of the period T. They only depend on $t_0$."
   ]
  },
  {
   "cell_type": "markdown",
   "id": "5d13f1e2",
   "metadata": {
    "slideshow": {
     "slide_type": "subslide"
    }
   },
   "source": [
    "#### Intuition leading to the Fourier Transform\n",
    "\n",
    "* An aperiodic signal that has been made periodic by \"repeating\" its graph every $T$ seconds will have a line spectrum that becomes more and more dense as the fundamental period is made longer and longer.\n",
    "* The line spectrum has the same continuous envelope.\n",
    "* As $T$ goes to infinity, the line spectrum will become a continuous function of $\\omega$.\n",
    "* The *envelope* is this function."
   ]
  },
  {
   "cell_type": "markdown",
   "id": "2b6fdc2f",
   "metadata": {
    "slideshow": {
     "slide_type": "slide"
    }
   },
   "source": [
    "### Doing the Maths\n",
    "\n",
    "See the [notes](ft1)."
   ]
  },
  {
   "cell_type": "markdown",
   "id": "e435b7b1",
   "metadata": {
    "slideshow": {
     "slide_type": "subslide"
    }
   },
   "source": [
    "**Inverse Fourier Transform**:\n",
    "\n",
    "$$x(t) = \\frac{1}{2\\pi} \\int_{-\\infty}^{\\infty} X(j\\omega)e^{j\\omega t}\\,d\\omega := \\mathcal{F}^{-1} \\left\\{X(j\\omega)\\right\\}$$\n",
    "\n",
    "Similarly, given the expression we have already seen for an arbitrary $x(t)$:"
   ]
  },
  {
   "cell_type": "markdown",
   "id": "1ba49bcb",
   "metadata": {
    "slideshow": {
     "slide_type": "subslide"
    }
   },
   "source": [
    "**Fourier Transform**:\n",
    "\n",
    "$$X(j\\omega) = \\int_{-\\infty}^{\\infty}x(t)e^{-j\\omega t}\\,dt := \\mathcal{F}\\left\\{x(t)\\right\\}.$$"
   ]
  },
  {
   "cell_type": "markdown",
   "id": "42b99d7a",
   "metadata": {
    "slideshow": {
     "slide_type": "subslide"
    }
   },
   "source": [
    "#### Fourier Transform Pair\n",
    "\n",
    "* The two equations on the previous slide are called the *Fourier transform pair*."
   ]
  },
  {
   "cell_type": "markdown",
   "id": "ce587400",
   "metadata": {
    "slideshow": {
     "slide_type": "slide"
    }
   },
   "source": [
    "## Properties of the Fourier Transform\n",
    "\n",
    "Again, we will provide any properties that you might need in the examination.\n",
    "    \n",
    "You will find a number of these in the accompanying notes."
   ]
  },
  {
   "cell_type": "markdown",
   "id": "e01f3c13",
   "metadata": {
    "slideshow": {
     "slide_type": "notes"
    }
   },
   "source": [
    "## Table of Properites of the Fourier Transform\n",
    "\n",
    "As was the case of the Laplace Transform, properties of Fourier transforms are usually summarized in Tables of Fourier Transform properties. For example this one: [Properties of the Fourier Transform (Wikpedia)](https://en.wikipedia.org/wiki/Fourier_transform#Properties_of_the_Fourier_transform) and Table 8.8 in Karris (page 8-17).\n",
    "\n",
    "More detail and some commentry is given in the printable version of these notes.\n",
    "\n",
    "| No. | **Name** | $f(t)$ | $F(j\\omega)$ | **Remarks** |\n",
    "|----:|----------|--------|--------------|-------------|\n",
    "| 1.   | Linearity | $a_1f_1(t)+a_2f_2(t)+\\cdots+a_nf_n(t)$ | $a_1F_1(j\\omega)+a_2F_2(j\\omega)+\\cdots+a_nF_n(j\\omega)$ | Fourier transform is a linear operator. |\n",
    "| 2.   | Symmetry | $2\\pi f(-j\\omega)$ | $F(t)$ | |\n",
    "| 3.  | Time and frequency scaling | $f(\\alpha t)$ | $\\displaystyle{\\frac{1}{\\lvert \\alpha\\rvert}F\\left(j\\frac{\\omega}{\\alpha}\\right)}$ | time compression is frequency expansion and *vice versa* |\n",
    "| 4.  | Time shifting | $\\displaystyle{f(t-t_0)}$ | $\\displaystyle{e^{-j\\omega t_0}F(j\\omega)}$ | A time shift corresponds to a phase shift in frequency domain |\n",
    "| 5.  | Frequency shifting | $\\displaystyle{e^{j\\omega_0 t}f(t)}$ | $\\displaystyle{F(j\\omega-j\\omega_0)}$ | Multiplying a signal by a complex exponential results in a frequency shift. |\n",
    "| 6.  | Time differentiation | $\\displaystyle{\\frac{d^n}{dt^n}\\,f(t)}$ | $\\displaystyle{(j\\omega)^nF(j\\omega)}$ | |\n",
    "| 7.  | Frequency differentiation | $\\displaystyle{(-jt)^n f(t)}$ | $\\displaystyle{\\frac{d^n}{d\\omega^n}F(j\\omega)}$ | |\n",
    "| 8.  | Time integration | $\\displaystyle{\\int_{-\\infty}^{t}f(\\tau)d\\tau}$ | $\\displaystyle{\\frac{F(j\\omega)}{j\\omega}+\\pi F(0)\\delta(\\omega)}$ | |\n",
    "| 9.  | Conjugation | $\\displaystyle{f^*(t)}$ | $\\displaystyle{F^*(-j\\omega)}$ | |\n",
    "| 10. | Time convolution | $\\displaystyle{f_1(t)*f_2(t)}$ | $\\displaystyle{F_1(j\\omega) F_2(j\\omega)}$ | Compare with Laplace Transform | |\n",
    "| 11. | Frequency convolution | $\\displaystyle{f_1(t)f_2(t)}$ | $\\displaystyle{\\frac{1}{2\\pi}F_1(j\\omega)*F_2(j\\omega)}$ | This has application to amplitude modulation as shown in Boulet pp 182&mdash;183. |\n",
    "| 12. | Area under $f(t)$ | $\\displaystyle{\\int_{-\\infty}^{\\infty} f(t)\\,dt = F(0)}$ | | Way to calculate DC (or average) value of a signal |\n",
    "| 13. | Area under $F(j\\omega)$ | $\\displaystyle{f(0) = \\frac{1}{2\\pi}\\int_{-\\infty}^{\\infty}F(j\\omega)\\,d\\omega}$ |  |\n",
    "| 14. | Energy-Density Spectrum | $\\displaystyle{E_{[\\omega_1,\\omega_2]}}:=\\displaystyle{\\frac{1}{2\\pi}\\int_{\\omega_1}^{\\omega_2}\\lvert F(j\\omega)\\rvert^2\\,d\\omega.}$ | |\n",
    "| 15. | Parseval's theorem | $\\displaystyle{\\int_{-\\infty}^{\\infty}\\lvert f(t)\\rvert^2\\,dt}=\\displaystyle{\\frac{1}{2\\pi}\\int_{-\\infty}^{\\infty}\\lvert F(j\\omega)\\rvert^2\\,d\\omega.}$ | | Definition of RMS follows from this |\n",
    "\n",
    "See also: [Wikibooks: Engineering Tables/Fourier Transform Properties](https://en.wikibooks.org/wiki/Engineering_Tables/Fourier_Transform_Properties) and [Fourier Transfom&mdash;WolframMathworld](https://mathworld.wolfram.com/FourierTransform.html) for more complete references."
   ]
  },
  {
   "cell_type": "markdown",
   "id": "de303c49",
   "metadata": {
    "slideshow": {
     "slide_type": "slide"
    }
   },
   "source": [
    "## Examples\n",
    "\n",
    "1. Amplitude Modulation\n",
    "2. Impulse response\n",
    "3. Energy computation"
   ]
  },
  {
   "cell_type": "markdown",
   "id": "c50cc94d",
   "metadata": {
    "slideshow": {
     "slide_type": "subslide"
    }
   },
   "source": [
    "### Example 1: Amplitude Modulation\n",
    "\n",
    "Compute the result of multiplying a signal $f(t)$ by a carrier waveform $\\cos \\omega_c t$.\n",
    "\n",
    "*Hint* use Euler's identity and the frequency shift property"
   ]
  },
  {
   "cell_type": "markdown",
   "id": "31825de7",
   "metadata": {
    "slideshow": {
     "slide_type": "notes"
    }
   },
   "source": [
    "<pre style=\"border: 2px solid blue\">\n",
    "\n",
    "\n",
    "\n",
    "\n",
    "\n",
    "\n",
    "\n",
    "\n",
    "\n",
    "\n",
    "\n",
    "\n",
    "\n",
    "\n",
    "\n",
    "</pre>"
   ]
  },
  {
   "cell_type": "markdown",
   "id": "ca07938a",
   "metadata": {
    "slideshow": {
     "slide_type": "subslide"
    }
   },
   "source": [
    "### Example 2: Impulse response\n",
    "\n",
    "A system has impulse response $f(t) = e^{-t}u_0(t)$. Compute the frequency sprectrum of this system."
   ]
  },
  {
   "cell_type": "markdown",
   "id": "439ca24b",
   "metadata": {
    "slideshow": {
     "slide_type": "notes"
    }
   },
   "source": [
    "<pre style=\"border: 2px solid blue\">\n",
    "\n",
    "\n",
    "\n",
    "\n",
    "\n",
    "\n",
    "\n",
    "\n",
    "\n",
    "\n",
    "\n",
    "\n",
    "\n",
    "\n",
    "\n",
    "</pre>"
   ]
  },
  {
   "cell_type": "markdown",
   "id": "24540b50",
   "metadata": {
    "slideshow": {
     "slide_type": "subslide"
    }
   },
   "source": [
    "### Example 3: Energy computation\n",
    "\n",
    "An aperiodic real signal $f(t)$ has Fourier transform $F(j\\omega)$. Compute the energy contained the signal between 5kHz and 10kHz."
   ]
  },
  {
   "cell_type": "markdown",
   "id": "c2d64e1f",
   "metadata": {
    "slideshow": {
     "slide_type": "notes"
    }
   },
   "source": [
    "<pre style=\"border: 2px solid blue\">\n",
    "\n",
    "\n",
    "\n",
    "\n",
    "\n",
    "\n",
    "\n",
    "\n",
    "\n",
    "\n",
    "\n",
    "\n",
    "\n",
    "\n",
    "\n",
    "</pre>"
   ]
  },
  {
   "cell_type": "markdown",
   "id": "dfe57408",
   "metadata": {
    "slideshow": {
     "slide_type": "slide"
    }
   },
   "source": [
    "## Computing Fourier Transforms in Matlab\n",
    "\n",
    "MATLAB has the built-in **fourier** and **ifourier** functions that can be used to compute the Fourier transform and its inverse. We will explore some of thes in the next lab.\n",
    "\n",
    "For now, here's an example:"
   ]
  },
  {
   "cell_type": "markdown",
   "id": "b997edd7",
   "metadata": {
    "slideshow": {
     "slide_type": "subslide"
    }
   },
   "source": [
    "### Example\n",
    "\n",
    "Use Matlab to confirm the Fourier transform pair:\n",
    "    \n",
    "$$e^{-\\frac{1}{2}t^2}\\Leftrightarrow \\sqrt{2\\pi}e^{-\\frac{1}{2}\\omega^2}$$"
   ]
  },
  {
   "cell_type": "code",
   "execution_count": null,
   "id": "6afdd92d",
   "metadata": {
    "slideshow": {
     "slide_type": "subslide"
    }
   },
   "outputs": [],
   "source": [
    "syms t v omega x;\n",
    "ft = exp(-t^2/2);\n",
    "Fw = fourier(ft,omega)"
   ]
  },
  {
   "cell_type": "code",
   "execution_count": null,
   "id": "a2a5186a",
   "metadata": {
    "slideshow": {
     "slide_type": "subslide"
    }
   },
   "outputs": [],
   "source": [
    "pretty(Fw)"
   ]
  },
  {
   "cell_type": "markdown",
   "id": "20952c54",
   "metadata": {
    "slideshow": {
     "slide_type": "subslide"
    }
   },
   "source": [
    "Check by computing the inverse using ifourier"
   ]
  },
  {
   "cell_type": "code",
   "execution_count": null,
   "id": "abb03203",
   "metadata": {
    "slideshow": {
     "slide_type": "subslide"
    }
   },
   "outputs": [],
   "source": [
    "ft = ifourier(Fw)"
   ]
  }
 ],
 "metadata": {
  "jupytext": {
   "formats": "ipynb,md:myst",
   "text_representation": {
    "extension": ".md",
    "format_name": "myst",
    "format_version": 0.12,
    "jupytext_version": "1.9.1"
   }
  },
  "kernelspec": {
   "display_name": "MATLAB",
   "language": "matlab",
   "name": "imatlab"
  },
  "source_map": [
   15,
   21,
   33,
   39,
   43,
   49,
   59,
   69,
   104,
   112,
   122,
   133,
   146,
   153,
   161,
   169,
   173,
   181,
   189,
   193,
   197,
   201,
   212,
   221,
   227,
   235,
   241,
   247,
   255,
   283,
   291,
   299,
   319,
   325,
   345,
   351,
   371,
   379,
   387,
   397,
   405,
   409
  ]
 },
 "nbformat": 4,
 "nbformat_minor": 5
}