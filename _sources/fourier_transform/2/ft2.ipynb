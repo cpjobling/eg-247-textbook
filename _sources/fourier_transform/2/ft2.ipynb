{
 "cells": [
  {
   "cell_type": "markdown",
   "id": "f42fa594",
   "metadata": {
    "slideshow": {
     "slide_type": "slide"
    }
   },
   "source": [
    "# Fourier transforms of commonly occurring signals"
   ]
  },
  {
   "cell_type": "markdown",
   "id": "42a1d8b2",
   "metadata": {
    "slideshow": {
     "slide_type": "notes"
    }
   },
   "source": [
    "## Colophon\n",
    "\n",
    "An annotatable worksheet for this presentation is available as [**Worksheet 13**](https://cpjobling.github.io/eg-247-textbook/fourier_transform/2/worksheet13.html).\n",
    "\n",
    "* The source code for this page is [fourier_transform/2/ft2.ipynb](https://github.com/cpjobling/eg-247-textbook/blob/master/fourier_transform/2/ft2.ipynb).\n",
    "\n",
    "* You can view the notes for this presentation as a webpage ([HTML](https://cpjobling.github.io/eg-247-textbook/fourier_transform/2/ft2.html)). \n",
    "\n",
    "* This page is downloadable as a [PDF](https://cpjobling.github.io/eg-247-textbook/fourier_transform/2/ft2.pdf) file."
   ]
  },
  {
   "cell_type": "markdown",
   "id": "a46b81a4",
   "metadata": {
    "slideshow": {
     "slide_type": "notes"
    }
   },
   "source": [
    "## Note on Notation\n",
    "\n",
    "If you have been reading both Karris and Boulet you may have noticed a difference in the notation used in the definition of Fourier Transform:\n",
    "\n",
    "* Karris uses $F(\\omega)$\n",
    "* Boulet uses $F(j\\omega)$\n",
    "\n",
    "I checked other sources and [Hsu (Schaum's Signals and Systems)](https://www.dawsonera.com/?li=true&dest=https%3a%2f%2fwww.dawsonera.com%2fabstract%2f9780071634731){cite}`schaum` and Morrell (The [Fourier Analysis Video Series on YouTube](https://www.youtube.com/watch?v=bqYxhYGA2qU&list=PL51707156C4956932)) both use the $F(\\omega)$ notation.\n",
    "\n",
    "According to Wikipedia [Fourier Transform: Other Notations](https://en.wikipedia.org/wiki/Fourier_transform#Other_notations) both are used only by electronic engineers anyway and either would be acceptible.\n",
    "\n",
    "There is some advantage in using Boulet's notation $F(j\\omega)$ in that it helps to reinforce the idea that Fourier Transform is a special case of the Laplace Transform and it was the notation that I used in the [last section](../1/ft1).\n",
    "\n",
    "In these notes, I've used the other convention on the basis that its the more likely to be seen in your support materials. \n",
    "\n",
    "However, I am happy to change back if you find the addition of $j$ useful.\n",
    "\n",
    "You should be aware that Fourier Transforms are in general complex so whatever the notation used to *represent* the transform, we are still dealing with real and imaginary parts or magnitudes and phases when we use the *actual transforms* in analysis."
   ]
  },
  {
   "cell_type": "markdown",
   "id": "0df4a51c",
   "metadata": {
    "slideshow": {
     "slide_type": "slide"
    }
   },
   "source": [
    "## Agenda\n",
    "\n",
    "* Tables of Transform Pairs\n",
    "* Examples of Selected Transforms\n",
    "* Relationship between Laplace and Fourier\n",
    "* Fourier Transforms of Common Signals"
   ]
  },
  {
   "cell_type": "markdown",
   "id": "33249b14",
   "metadata": {
    "slideshow": {
     "slide_type": "slide"
    }
   },
   "source": [
    "## Reminder of the Definitions\n",
    "\n",
    "Last time we derived the Fourier Transform by evaluating what would happen when a periodic signal was made periodic. Let us restate the definitions."
   ]
  },
  {
   "cell_type": "markdown",
   "id": "323a5876",
   "metadata": {
    "slideshow": {
     "slide_type": "subslide"
    }
   },
   "source": [
    "### The Fourier Transform\n",
    "\n",
    "In the signals and systems context, the Fourier Transform is used to convert a function of time $f(t)$ to a function of radian frequency $F(\\omega)$:\n",
    "\n",
    "$$\\mathcal{F}\\left\\{f(t)\\right\\} = \\int_{-\\infty}^{\\infty} f(t)e^{-j\\omega t}\\,dt = F(\\omega).$$"
   ]
  },
  {
   "cell_type": "markdown",
   "id": "eaa70f5b",
   "metadata": {
    "slideshow": {
     "slide_type": "subslide"
    }
   },
   "source": [
    "### The Inverse Fourier Transform\n",
    "\n",
    "In the signals and systems context, the *Inverse Fourier Transform* is used to convert a function of frequency $F(\\omega)$ to a function of time $f(t)$:\n",
    "\n",
    "$$\\mathcal{F}^{-1}\\left\\{F(\\omega)\\right\\} = \\frac{1}{2\\pi}\\int_{-\\infty}^{\\infty} F(\\omega)e^{j\\omega t}\\,d\\omega = f(t) .$$"
   ]
  },
  {
   "cell_type": "markdown",
   "id": "688f5a28",
   "metadata": {
    "slideshow": {
     "slide_type": "notes"
    }
   },
   "source": [
    "Note, the factor $2\\pi$ is introduced because we are changing units from radians/second to seconds."
   ]
  },
  {
   "cell_type": "markdown",
   "id": "645479b3",
   "metadata": {
    "slideshow": {
     "slide_type": "subslide"
    }
   },
   "source": [
    "### Duality of the transform\n",
    "\n",
    "Note the similarity of the Fourier and its Inverse. \n",
    "\n",
    "This has important consequences in filter design and later when we consider sampled data systems."
   ]
  },
  {
   "cell_type": "markdown",
   "id": "757f949b",
   "metadata": {
    "slideshow": {
     "slide_type": "slide"
    }
   },
   "source": [
    "## Table of Common Fourier Transform Pairs\n",
    "\n",
    "This table is adapted from Table 8.9 of Karris. See also: [Wikibooks: Engineering Tables/Fourier Transform Table](https://en.wikibooks.org/wiki/Engineering_Tables/Fourier_Transform_Table) and [Fourier Transform&mdash;WolframMathworld](https://mathworld.wolfram.com/FourierTransform.html) for more complete references."
   ]
  },
  {
   "cell_type": "markdown",
   "id": "c8a39107",
   "metadata": {
    "slideshow": {
     "slide_type": "subslide"
    }
   },
   "source": [
    "|     | **Name**                         | $f(t)$                            | $F(\\omega)$ | **Remarks**                           |\n",
    "|-----| ---------------------------------|-----------------------------------|-------------|---------------------------------------|\n",
    "| 1.  | Dirac delta                      | $\\delta(t)$                       | $1$         | Constant energy at *all* frequencies. |\n",
    "| 2.  | Time sample                      | $\\delta(t-t_0)$                   |  $e^{-j\\omega t_0}$ |  \n",
    "| 3.  | Phase shift                      | $e^{j\\omega_0 t}$                 |  $2\\pi\\delta(\\omega - \\omega_0)$ |  \n",
    "| 4.  | *Signum*                         | $\\operatorname{sgn} t$          |  $\\displaystyle{\\frac{2}{j\\omega}}$ |  also known as sign function\n",
    "| 5.  |  Unit step                       | $u_0(t)$                          |  $\\displaystyle{\\frac{1}{j\\omega}+\\pi\\delta(\\omega)}$ |  \n",
    "| 6.  |  Cosine                          | $\\cos \\omega_0 t$                 |  $\\pi\\left[\\delta(\\omega-\\omega_0)+\\delta(\\omega+\\omega_0)\\right]$ |  \n",
    "| 7.  |  Sine                            | $\\sin \\omega_0 t$                 |  $-j\\pi\\left[\\delta(\\omega-\\omega_0)-\\delta(\\omega+\\omega_0)\\right]$ |  \n",
    "| 8.  |  Single pole                     | $e^{-at}u_0(t)$                   |  $\\displaystyle{\\frac{1}{j\\omega + a}}$ |  $a \\gt 0$ |\n",
    "| 9.  |  Double pole                     | $te^{-at}u_0(t)$                  |  $\\displaystyle{\\frac{1}{(j\\omega + a)^2}}$ |  $a \\gt 0$ |\n",
    "| 10. |  Complex pole (cosine component) | $e^{-at}\\cos \\omega_0 t\\;u_0(t)$  |  $\\displaystyle{\\frac{j\\omega + a}{(j\\omega + a)^2+\\omega_0^2}}$ |  $a\\gt 0$\n",
    "| 11. |  Complex pole (sine component)   | $e^{-a t}\\sin \\omega_0 t\\;u_0(t)$ |  $\\displaystyle{\\frac{\\omega_0}{(j\\omega + a)^2+\\omega_0^2}}$ |  $a\\gt 0$ |"
   ]
  },
  {
   "cell_type": "markdown",
   "id": "2c21abf5",
   "metadata": {
    "slideshow": {
     "slide_type": "slide"
    }
   },
   "source": [
    "## Some Selected Fourier Transforms"
   ]
  },
  {
   "cell_type": "markdown",
   "id": "d36c0ec4",
   "metadata": {
    "slideshow": {
     "slide_type": "notes"
    }
   },
   "source": [
    "### Relationship between $f(t)$ and $F(\\omega)$\n",
    "\n",
    "In most of the work we will do in this course, and in practice, the *signals* that we use with the Fourier transform will be a real continuous aperiodic functions of time that are zero when $t = 0$.\n",
    "\n",
    "The Fourier transforms of such signals will be complex continous functions of frequency which have real and imaginary parts and will exist at both positive and negative values of $\\omega$.\n",
    "\n",
    "It is often most convenient to deal with the transformed \"spectrum\" by considering the magnitude and phase and we will therefore often plot $F(\\omega)$ on two separate graphs as *magnitude* $|F(\\omega)|$ and *phase* $\\angle F(\\omega)$ (where phase is measured in radians) plotted against frequency $\\omega \\in [-\\infty,\\infty]$ (in radians/second).\n",
    "\n",
    "We most often represent the *system* by its so-called *frequency response* and we will be interested on what effect the system has on the signal $f(t)$. \n",
    "\n",
    "As for the Laplace transform, this is more conveniently determined by exploiting the *time convolution property*. That is by performing a Fourier transform of the signal, multiplying it by the system's frequency response and then inverse Fourier transforming the result.\n",
    "\n",
    "Have these ideas in mind as we go through the examples in the rest of this section."
   ]
  },
  {
   "cell_type": "markdown",
   "id": "58524b71",
   "metadata": {
    "slideshow": {
     "slide_type": "subslide"
    }
   },
   "source": [
    "### The Dirac Delta\n",
    "\n",
    "$$\\delta(t) \\Leftrightarrow 1$$\n",
    "\n",
    "![Fourier transform of the Dirac delta](./pictures/ft_delta.png)\n",
    "\n",
    "*Proof*: uses sampling and sifting properties of $\\delta(t)$."
   ]
  },
  {
   "cell_type": "markdown",
   "id": "13a51514",
   "metadata": {
    "slideshow": {
     "slide_type": "subslide"
    }
   },
   "source": [
    "*Matlab*:"
   ]
  },
  {
   "cell_type": "code",
   "execution_count": 1,
   "id": "4d22c62f",
   "metadata": {
    "slideshow": {
     "slide_type": "subslide"
    }
   },
   "outputs": [
    {
     "name": "stdout",
     "output_type": "stream",
     "text": [
      " \n"
     ]
    },
    {
     "name": "stdout",
     "output_type": "stream",
     "text": [
      "ans =\n",
      " \n"
     ]
    },
    {
     "name": "stdout",
     "output_type": "stream",
     "text": [
      "1\n"
     ]
    },
    {
     "name": "stdout",
     "output_type": "stream",
     "text": [
      " \n"
     ]
    }
   ],
   "source": [
    "syms t;\n",
    "fourier(dirac(t))"
   ]
  },
  {
   "cell_type": "markdown",
   "id": "fc7c5751",
   "metadata": {
    "slideshow": {
     "slide_type": "subslide"
    }
   },
   "source": [
    "Related:\n",
    "\n",
    "$$\\delta(t-t_0) \\Leftrightarrow e^{-j\\omega t_0}$$"
   ]
  },
  {
   "cell_type": "markdown",
   "id": "34f88646",
   "metadata": {
    "slideshow": {
     "slide_type": "subslide"
    }
   },
   "source": [
    "### DC\n",
    "\n",
    "$$1 \\Leftrightarrow 2\\pi\\delta(\\omega)$$\n",
    "\n",
    "![Fourier transform of a constant (model of DC)](./pictures/ft_dc.png)"
   ]
  },
  {
   "cell_type": "markdown",
   "id": "49b374cd",
   "metadata": {
    "slideshow": {
     "slide_type": "subslide"
    }
   },
   "source": [
    "*Matlab*:"
   ]
  },
  {
   "cell_type": "code",
   "execution_count": 2,
   "id": "d06d1905",
   "metadata": {
    "slideshow": {
     "slide_type": "subslide"
    }
   },
   "outputs": [
    {
     "name": "stdout",
     "output_type": "stream",
     "text": [
      " \n"
     ]
    },
    {
     "name": "stdout",
     "output_type": "stream",
     "text": [
      "ans =\n",
      " \n"
     ]
    },
    {
     "name": "stdout",
     "output_type": "stream",
     "text": [
      "2*pi*dirac(omega)\n"
     ]
    },
    {
     "name": "stdout",
     "output_type": "stream",
     "text": [
      " \n"
     ]
    }
   ],
   "source": [
    "syms t omega;\n",
    "A = sym(1);\n",
    "fourier(A,omega)"
   ]
  },
  {
   "cell_type": "markdown",
   "id": "db0edb46",
   "metadata": {
    "slideshow": {
     "slide_type": "subslide"
    }
   },
   "source": [
    "Related by frequency shifting property:\n",
    "\n",
    "$$e^{j\\omega_0 t} \\Leftrightarrow 2\\pi\\delta(\\omega-\\omega_0)$$"
   ]
  },
  {
   "cell_type": "markdown",
   "id": "2603af24",
   "metadata": {
    "slideshow": {
     "slide_type": "subslide"
    }
   },
   "source": [
    "### Cosine (Sinewave with even symmetry)\n",
    "\n",
    "$$\\cos(t) = \\frac{1}{2}\\left(e^{j\\omega_0 t}+e^{-j\\omega_0 t}\\right) \\Leftrightarrow \\pi\\delta(\\omega - \\omega_0) + \\pi\\delta(\\omega + \\omega_0)$$\n",
    "\n",
    "![Fourier transform of a cosine signal](./pictures/ft_cos.png)\n",
    "\n",
    "Note: $f(t)$ is real and even. $F(\\omega)$ is also real and even."
   ]
  },
  {
   "cell_type": "markdown",
   "id": "9e444ee5",
   "metadata": {
    "slideshow": {
     "slide_type": "subslide"
    }
   },
   "source": [
    "### Sinewave\n",
    "\n",
    "$$\\sin(t) = \\frac{1}{j2}\\left(e^{j\\omega_0 t}-e^{-j\\omega_0 t}\\right) \\Leftrightarrow -j\\pi\\delta(\\omega - \\omega_0) + j\\pi\\delta(\\omega + \\omega_0)$$\n",
    "\n",
    "![Fourier transform of a sinewave signal](./pictures/ft_sin.png)\n",
    "\n",
    "Note: $f(t)$ is real and odd. $F(\\omega)$ is imaginary and odd."
   ]
  },
  {
   "cell_type": "markdown",
   "id": "a8f57762",
   "metadata": {
    "slideshow": {
     "slide_type": "subslide"
    }
   },
   "source": [
    "### Signum (Sign)\n",
    "\n",
    "The signum function is a function whose value is equal to\n",
    "\n",
    "$$\\operatorname{sgn} t = \\left\\{ {\\begin{array}{*{20}{c}}\n",
    "  { - 1\\;t < 0} \\\\ \n",
    "  {0\\;x = 0} \\\\ \n",
    "  { + 1\\;t > 0} \n",
    "\\end{array}} \\right.$$"
   ]
  },
  {
   "cell_type": "markdown",
   "id": "b84284be",
   "metadata": {
    "slideshow": {
     "slide_type": "subslide"
    }
   },
   "source": [
    "The transform is:\n",
    "\n",
    "$$\\operatorname{sgn} t = u_0(t) - u_0(-t) = \\frac{2}{j\\omega}$$\n",
    "\n",
    "![Fourier transform of sgn(t)](./pictures/ft_sgn.png)\n",
    "\n",
    "This function is often used to model a *voltage comparitor* in circuits."
   ]
  },
  {
   "cell_type": "markdown",
   "id": "286c474d",
   "metadata": {
    "slideshow": {
     "slide_type": "subslide"
    }
   },
   "source": [
    "### Example 4: Unit Step\n",
    "\n",
    "Use the signum function to show that\n",
    "\n",
    "$$\n",
    "\\mathcal{F}\\left\\{u_0(t))\\right\\} = \\pi\\delta(\\omega)+\\frac{1}{j\\omega}\n",
    "$$"
   ]
  },
  {
   "cell_type": "markdown",
   "id": "10c116fe",
   "metadata": {
    "slideshow": {
     "slide_type": "subslide"
    }
   },
   "source": [
    "#### Clue\n",
    "\n",
    "Define\n",
    "\n",
    "$$\\operatorname{sgn} t = 2 u_0(t) - 1$$\n",
    "\n",
    "![sgn(t) = 2 u_0(t) - 1](./pictures/u_as_sign.png)\n",
    "\n",
    "*Does that help?*"
   ]
  },
  {
   "cell_type": "markdown",
   "id": "f58dcd95",
   "metadata": {
    "slideshow": {
     "slide_type": "notes"
    }
   },
   "source": [
    "#### Proof\n",
    "\n",
    "$$\\operatorname{sgn} t = 2u_0(t) - 1$$\n",
    "\n",
    "so\n",
    "\n",
    "$$u_0(t) = \\frac{1}{2} + \\frac{\\operatorname{sgn} t}{2}$$\n",
    "\n",
    "From previous results $1\\Leftrightarrow 2\\pi\\delta(\\omega)$ and $\\operatorname{sgn} x = 2/(j\\omega)$ so by linearity\n",
    "\n",
    "$$u_0(t) \\Leftrightarrow \\pi\\delta(\\omega)+\\frac{1}{j\\omega}$$\n",
    "\n",
    "*QED*"
   ]
  },
  {
   "cell_type": "markdown",
   "id": "30bb3c13",
   "metadata": {
    "slideshow": {
     "slide_type": "subslide"
    }
   },
   "source": [
    "#### Graph of unit step\n",
    "\n",
    "$$u_0(t) \\Leftrightarrow \\pi\\delta(\\omega)+\\frac{1}{j\\omega}$$\n",
    "\n",
    "![Fourier transform of the unit step function](./pictures/ft_step.png)"
   ]
  },
  {
   "cell_type": "markdown",
   "id": "b547bc6d",
   "metadata": {
    "slideshow": {
     "slide_type": "notes"
    }
   },
   "source": [
    "The unit step is neither even nor odd so the Fourier transform is complex with real part $F_\\mathrm{Re}(\\omega) = \\pi\\delta(\\omega)$ and imaginary part $F_\\mathrm{Im}(\\omega) = 1/(j\\omega)$. The real part is even, and the imaginary part is odd."
   ]
  },
  {
   "cell_type": "markdown",
   "id": "a09be2ac",
   "metadata": {
    "slideshow": {
     "slide_type": "subslide"
    }
   },
   "source": [
    "### Example 5\n",
    "\n",
    "Use the results derived so far to show that \n",
    "\n",
    "$$e^{j\\omega_0 t}u_0(t)\\Leftrightarrow \\pi\\delta(\\omega - \\omega_0) + \\frac{1}{j(\\omega-\\omega_0)}$$\n",
    "\n",
    "Hint: linearity plus frequency shift property."
   ]
  },
  {
   "cell_type": "markdown",
   "id": "a9965ccd",
   "metadata": {
    "slideshow": {
     "slide_type": "subslide"
    }
   },
   "source": [
    "### Example 6\n",
    "\n",
    "Use the results derived so far to show that \n",
    "\n",
    "$$\\sin \\omega_0 t\\; u_0(t)\\Leftrightarrow \\frac{\\pi}{j2}\\left[\\delta(\\omega-\\omega_0)-\\delta(\\omega+\\omega_0)\\right] + \\frac{\\omega_0}{\\omega_0^2 - \\omega^2}$$\n",
    "\n",
    "Hint: Euler's formula plus solution to example 2."
   ]
  },
  {
   "cell_type": "markdown",
   "id": "13a6486f",
   "metadata": {
    "slideshow": {
     "slide_type": "notes"
    }
   },
   "source": [
    "**Important note**: the equivalent example in Karris (Section 8.4.9 Eq. 8.75 pp 8-23&mdash;8-24) is wrong! \n",
    "\n",
    "See [worked solution](https://cpjobling.github.io/eg-247-textbook/fourier_transform/solutions/ft2-ex3.pdf) for the corrected proof."
   ]
  },
  {
   "cell_type": "markdown",
   "id": "0cfb009e",
   "metadata": {
    "slideshow": {
     "slide_type": "subslide"
    }
   },
   "source": [
    "### Example 7\n",
    "\n",
    "Use the result of Example 6 to determine the Fourier transform of $\\cos\\omega_0 t\\; u_0(t)$."
   ]
  },
  {
   "cell_type": "markdown",
   "id": "979a8e04",
   "metadata": {
    "slideshow": {
     "slide_type": "subslide"
    }
   },
   "source": [
    "#### Solution to example 7\n",
    "\n",
    "$$\\cos\\omega_0 t\\; u_0(t)\\Leftrightarrow \\frac{\\pi}{2}\\left[\\delta(\\omega-\\omega_0)+\\delta(\\omega+\\omega_0)\\right] + \\frac{j\\omega}{\\omega_0^2 - \\omega^2}$$"
   ]
  },
  {
   "cell_type": "markdown",
   "id": "381b5ff4",
   "metadata": {
    "slideshow": {
     "slide_type": "slide"
    }
   },
   "source": [
    "## Derivation of the Fourier Transform from the Laplace Transform\n",
    "\n",
    "If a signal is a function of time $f(t)$ which is zero for $t\\le 0$, we can obtain the Fourier transform from the Laplace transform by substituting $s$ by $j\\omega$."
   ]
  },
  {
   "cell_type": "markdown",
   "id": "7277ec9d",
   "metadata": {
    "slideshow": {
     "slide_type": "subslide"
    }
   },
   "source": [
    "### Example 8: Single Pole Filter\n",
    "\n",
    "Given that \n",
    "\n",
    "$$\\mathcal{L}\\left\\{e^{-at}u_0(t)\\right\\} = \\frac{1}{s + a}$$\n",
    "\n",
    "Compute \n",
    "\n",
    "$$\\mathcal{F}\\left\\{e^{-at}u_0(t)\\right\\}$$"
   ]
  },
  {
   "cell_type": "markdown",
   "id": "5bfc7da2",
   "metadata": {
    "slideshow": {
     "slide_type": "subslide"
    }
   },
   "source": [
    "#### Solution to example 8\n",
    "\n",
    "$$\\frac{1}{j\\omega+a}$$"
   ]
  },
  {
   "cell_type": "markdown",
   "id": "1a433033",
   "metadata": {
    "slideshow": {
     "slide_type": "notes"
    }
   },
   "source": [
    "Boulet gives the graph of this function."
   ]
  },
  {
   "cell_type": "markdown",
   "id": "8d65ed9f",
   "metadata": {
    "slideshow": {
     "slide_type": "subslide"
    }
   },
   "source": [
    "### Example 9: Complex Pole Pair  cos term\n",
    "\n",
    "Given that \n",
    "\n",
    "$$\\mathcal{L}\\left\\{e^{-at}\\cos\\omega_0 t\\;u_0(t)\\right\\} = \\frac{s+a}{(s + a)^2+\\omega_0^2}$$\n",
    "\n",
    "Compute \n",
    "\n",
    "$$\\mathcal{F}\\left\\{e^{-at}\\cos\\omega_0 t\\;u_0(t)\\right\\}$$"
   ]
  },
  {
   "cell_type": "markdown",
   "id": "fe511fb9",
   "metadata": {
    "slideshow": {
     "slide_type": "subslide"
    }
   },
   "source": [
    "#### Solution to example 9\n",
    "\n",
    "$$\\frac{j\\omega + a}{(j\\omega+a)^2 + \\omega_0^2}$$"
   ]
  },
  {
   "cell_type": "markdown",
   "id": "ff7e6f86",
   "metadata": {
    "slideshow": {
     "slide_type": "notes"
    }
   },
   "source": [
    "Boulet gives the graph of this function."
   ]
  },
  {
   "cell_type": "markdown",
   "id": "7855e148",
   "metadata": {
    "slideshow": {
     "slide_type": "subslide"
    }
   },
   "source": [
    "## Fourier Transforms of Common Signals\n",
    "\n",
    "We shall conclude this session by computing as many of the the Fourier transform of some common signals as we have time for.\n",
    "\n",
    "* rectangular pulse\n",
    "* triangular pulse\n",
    "* periodic time function\n",
    "* unit impulse train (model of regular sampling)"
   ]
  },
  {
   "cell_type": "markdown",
   "id": "d2ee0ecf",
   "metadata": {
    "slideshow": {
     "slide_type": "notes"
    }
   },
   "source": [
    "I will not provide notes for these, but you will find more details in Chapter 8 of Karris and Chapter 5 of Boulet and \n",
    "\n",
    "I have created some worked examples (see Blackboard and the OneNote notebook) to help with revision."
   ]
  },
  {
   "cell_type": "markdown",
   "id": "634760f3",
   "metadata": {
    "slideshow": {
     "slide_type": "slide"
    }
   },
   "source": [
    "## Suggestions for Further Reading\n",
    "\n",
    "Boulet has several interesting amplifications of the material presented by {cite}`karris`. You would be well advised to read these. Particular highlights which we will not have time to cover:\n",
    "\n",
    "* Time multiplication and its relation to amplitude modulation (pp 182&mdash;183).\n",
    "* Fourier transform of the complex exponential signal $e^{(\\alpha +j\\beta)t}$ with graphs (pp 184&mdash;187).\n",
    "* Use of inverse Fourier series to determine $f(t)$ from a given $F(j\\omega)$ and the \"ideal\" low-pass filter (pp 188&mdash;191).\n",
    "* The Duality of the Fourier transform (pp 191&mdash;192)."
   ]
  },
  {
   "cell_type": "markdown",
   "id": "e19cf69f",
   "metadata": {
    "slideshow": {
     "slide_type": "slide"
    }
   },
   "source": [
    "## Summary\n",
    "\n",
    "* Tables of Transform Pairs\n",
    "* Examples of Selected Transforms\n",
    "* Relationship between Laplace and Fourier\n",
    "* Fourier Transforms of Common Signals"
   ]
  },
  {
   "cell_type": "markdown",
   "id": "b1331f24",
   "metadata": {
    "slideshow": {
     "slide_type": "notes"
    }
   },
   "source": [
    "## References\n",
    "\n",
    "See [Bibliography](/zbib)."
   ]
  },
  {
   "cell_type": "markdown",
   "id": "6564f2e4",
   "metadata": {
    "slideshow": {
     "slide_type": "subslide"
    }
   },
   "source": [
    "*Next Section*\n",
    "\n",
    "* [The Fourier Transform for Systems and Circuit Analysis](../3/ft3)"
   ]
  }
 ],
 "metadata": {
  "jupytext": {
   "formats": "ipynb,md:myst",
   "text_representation": {
    "extension": ".md",
    "format_name": "myst",
    "format_version": 0.13,
    "jupytext_version": "1.14.4"
   }
  },
  "kernelspec": {
   "display_name": "Matlab",
   "language": "matlab",
   "name": "matlab"
  },
  "language_info": {
   "codemirror_mode": "octave",
   "file_extension": ".m",
   "help_links": [
    {
     "text": "MetaKernel Magics",
     "url": "https://metakernel.readthedocs.io/en/latest/source/README.html"
    }
   ],
   "mimetype": "text/x-octave",
   "name": "matlab",
   "version": "0.17.1"
  },
  "source_map": [
   15,
   19,
   31,
   52,
   61,
   67,
   75,
   83,
   87,
   95,
   101,
   117,
   121,
   137,
   147,
   151,
   160,
   166,
   174,
   178,
   188,
   194,
   204,
   214,
   226,
   236,
   246,
   258,
   274,
   282,
   286,
   296,
   306,
   312,
   318,
   324,
   330,
   342,
   348,
   352,
   364,
   370,
   374,
   385,
   391,
   402,
   411,
   417
  ]
 },
 "nbformat": 4,
 "nbformat_minor": 5
}