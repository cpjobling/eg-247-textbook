{
 "cells": [
  {
   "cell_type": "markdown",
   "id": "462bd62b",
   "metadata": {
    "slideshow": {
     "slide_type": "slide"
    }
   },
   "source": [
    "# Fourier transforms of commonly occurring signals"
   ]
  },
  {
   "cell_type": "markdown",
   "id": "5295913d",
   "metadata": {
    "slideshow": {
     "slide_type": "notes"
    }
   },
   "source": [
    "## Colophon\n",
    "\n",
    "An annotatable worksheet for this presentation is available as [**Worksheet 13**](https://cpjobling.github.io/eg-247-textbook/fourier_transform/2/worksheet13.html).\n",
    "\n",
    "* The source code for this page is [fourier_transform/2/ft2.ipynb](https://github.com/cpjobling/eg-247-textbook/blob/master/fourier_transform/2/ft2.ipynb).\n",
    "\n",
    "* You can view the notes for this presentation as a webpage ([HTML](https://cpjobling.github.io/eg-247-textbook/fourier_transform/2/ft2.html)). \n",
    "\n",
    "* This page is downloadable as a [PDF](https://cpjobling.github.io/eg-247-textbook/fourier_transform/2/ft2.pdf) file."
   ]
  },
  {
   "cell_type": "markdown",
   "id": "3cdd7e08",
   "metadata": {
    "slideshow": {
     "slide_type": "notes"
    }
   },
   "source": [
    "## Note on Notation\n",
    "\n",
    "If you have been reading both Karris and Boulet you may have noticed a difference in the notation used in the definition of Fourier Transform:\n",
    "\n",
    "* Karris uses $F(\\omega)$\n",
    "* Boulet uses $F(j\\omega)$\n",
    "\n",
    "I checked other sources and [Hsu (Schaum's Signals and Systems)](https://www.dawsonera.com/?li=true&dest=https%3a%2f%2fwww.dawsonera.com%2fabstract%2f9780071634731){cite}`schaum` and Morrell (The [Fourier Analysis Video Series on YouTube](https://www.youtube.com/watch?v=bqYxhYGA2qU&list=PL51707156C4956932)) both use the $F(\\omega)$ notation.\n",
    "\n",
    "According to Wikipedia [Fourier Transform: Other Notations](https://en.wikipedia.org/wiki/Fourier_transform#Other_notations) both are used only by electronic engineers anyway and either would be acceptible.\n",
    "\n",
    "There is some advantage in using Boulet's notation $F(j\\omega)$ in that it helps to reinforce the idea that Fourier Transform is a special case of the Laplace Transform and it was the notation that I used in the [last section](../1/ft1).\n",
    "\n",
    "In these notes, I've used the other convention on the basis that its the more likely to be seen in your support materials. \n",
    "\n",
    "However, I am happy to change back if you find the addition of $j$ useful.\n",
    "\n",
    "You should be aware that Fourier Transforms are in general complex so whatever the notation used to *represent* the transform, we are still dealing with real and imaginary parts or magnitudes and phases when we use the *actual transforms* in analysis."
   ]
  },
  {
   "cell_type": "markdown",
   "id": "97af2a87",
   "metadata": {
    "slideshow": {
     "slide_type": "slide"
    }
   },
   "source": [
    "## Agenda\n",
    "\n",
    "* Tables of Transform Pairs\n",
    "* Examples of Selected Transforms\n",
    "* Relationship between Laplace and Fourier\n",
    "* Fourier Transforms of Common Signals"
   ]
  },
  {
   "cell_type": "markdown",
   "id": "9da17d1c",
   "metadata": {
    "slideshow": {
     "slide_type": "slide"
    }
   },
   "source": [
    "## Reminder of the Definitions\n",
    "\n",
    "Last time we derived the Fourier Transform by evaluating what would happen when a periodic signal was made periodic. Let us restate the definitions."
   ]
  },
  {
   "cell_type": "markdown",
   "id": "a358c40c",
   "metadata": {
    "slideshow": {
     "slide_type": "subslide"
    }
   },
   "source": [
    "### The Fourier Transform\n",
    "\n",
    "In the signals and systems context, the Fourier Transform is used to convert a function of time $f(t)$ to a function of radian frequency $F(\\omega)$:\n",
    "\n",
    "$$\\mathcal{F}\\left\\{f(t)\\right\\} = \\int_{-\\infty}^{\\infty} f(t)e^{-j\\omega t}\\,dt = F(\\omega).$$"
   ]
  },
  {
   "cell_type": "markdown",
   "id": "1d58c834",
   "metadata": {
    "slideshow": {
     "slide_type": "subslide"
    }
   },
   "source": [
    "### The Inverse Fourier Transform\n",
    "\n",
    "In the signals and systems context, the *Inverse Fourier Transform* is used to convert a function of frequency $F(\\omega)$ to a function of time $f(t)$:\n",
    "\n",
    "$$\\mathcal{F}^{-1}\\left\\{F(\\omega)\\right\\} = \\frac{1}{2\\pi}\\int_{-\\infty}^{\\infty} F(\\omega)e^{j\\omega t}\\,d\\omega = f(t) .$$"
   ]
  },
  {
   "cell_type": "markdown",
   "id": "b076ee1b",
   "metadata": {
    "slideshow": {
     "slide_type": "notes"
    }
   },
   "source": [
    "Note, the factor $2\\pi$ is introduced because we are changing units from radians/second to seconds."
   ]
  },
  {
   "cell_type": "markdown",
   "id": "fb232742",
   "metadata": {
    "slideshow": {
     "slide_type": "subslide"
    }
   },
   "source": [
    "### Duality of the transform\n",
    "\n",
    "Note the similarity of the Fourier and its Inverse. \n",
    "\n",
    "This has important consequences in filter design and later when we consider sampled data systems."
   ]
  },
  {
   "cell_type": "markdown",
   "id": "9014dac7",
   "metadata": {
    "slideshow": {
     "slide_type": "slide"
    }
   },
   "source": [
    "## Table of Common Fourier Transform Pairs\n",
    "\n",
    "This table is adapted from Table 8.9 of Karris. See also: [Wikibooks: Engineering Tables/Fourier Transform Table](https://en.wikibooks.org/wiki/Engineering_Tables/Fourier_Transform_Table) and [Fourier Transform&mdash;WolframMathworld](https://mathworld.wolfram.com/FourierTransform.html) for more complete references."
   ]
  },
  {
   "cell_type": "markdown",
   "id": "0ffd3bf6",
   "metadata": {
    "slideshow": {
     "slide_type": "subslide"
    }
   },
   "source": [
    "|     | **Name**                         | $f(t)$                            | $F(\\omega)$ | **Remarks**                           |\n",
    "|-----| ---------------------------------|-----------------------------------|-------------|---------------------------------------|\n",
    "| 1.  | Dirac delta                      | $\\delta(t)$                       | $1$         | Constant energy at *all* frequencies. |\n",
    "| 2.  | Time sample                      | $\\delta(t-t_0)$                   |  $e^{-j\\omega t_0}$ |  \n",
    "| 3.  | Phase shift                      | $e^{j\\omega_0 t}$                 |  $2\\pi\\delta(\\omega - \\omega_0)$ |  \n",
    "| 4.  | *Signum*                         | $\\operatorname{sgn} t$          |  $\\displaystyle{\\frac{2}{j\\omega}}$ |  also known as sign function\n",
    "| 5.  |  Unit step                       | $u_0(t)$                          |  $\\displaystyle{\\frac{1}{j\\omega}+\\pi\\delta(\\omega)}$ |  \n",
    "| 6.  |  Cosine                          | $\\cos \\omega_0 t$                 |  $\\pi\\left[\\delta(\\omega-\\omega_0)+\\delta(\\omega+\\omega_0)\\right]$ |  \n",
    "| 7.  |  Sine                            | $\\sin \\omega_0 t$                 |  $-j\\pi\\left[\\delta(\\omega-\\omega_0)-\\delta(\\omega+\\omega_0)\\right]$ |  \n",
    "| 8.  |  Single pole                     | $e^{-at}u_0(t)$                   |  $\\displaystyle{\\frac{1}{j\\omega + a}}$ |  $a \\gt 0$ |\n",
    "| 9.  |  Double pole                     | $te^{-at}u_0(t)$                  |  $\\displaystyle{\\frac{1}{(j\\omega + a)^2}}$ |  $a \\gt 0$ |\n",
    "| 10. |  Complex pole (cosine component) | $e^{-at}\\cos \\omega_0 t\\;u_0(t)$  |  $\\displaystyle{\\frac{j\\omega + a}{(j\\omega + a)^2+\\omega_0^2}}$ |  $a\\gt 0$\n",
    "| 11. |  Complex pole (sine component)   | $e^{-a t}\\sin \\omega_0 t\\;u_0(t)$ |  $\\displaystyle{\\frac{\\omega_0}{(j\\omega + a)^2+\\omega_0^2}}$ |  $a\\gt 0$ |"
   ]
  },
  {
   "cell_type": "markdown",
   "id": "0cf470a3",
   "metadata": {
    "slideshow": {
     "slide_type": "slide"
    }
   },
   "source": [
    "## Some Selected Fourier Transforms"
   ]
  },
  {
   "cell_type": "markdown",
   "id": "7a36ba5c",
   "metadata": {
    "slideshow": {
     "slide_type": "notes"
    }
   },
   "source": [
    "### Relationship between $f(t)$ and $F(\\omega)$\n",
    "\n",
    "In most of the work we will do in this course, and in practice, the *signals* that we use with the Fourier transform will be a real continuous aperiodic functions of time that are zero when $t = 0$.\n",
    "\n",
    "The Fourier transforms of such signals will be complex continous functions of frequency which have real and imaginary parts and will exist at both positive and negative values of $\\omega$.\n",
    "\n",
    "It is often most convenient to deal with the transformed \"spectrum\" by considering the magnitude and phase and we will therefore often plot $F(\\omega)$ on two separate graphs as *magnitude* $|F(\\omega)|$ and *phase* $\\angle F(\\omega)$ (where phase is measured in radians) plotted against frequency $\\omega \\in [-\\infty,\\infty]$ (in radians/second).\n",
    "\n",
    "We most often represent the *system* by its so-called *frequency response* and we will be interested on what effect the system has on the signal $f(t)$. \n",
    "\n",
    "As for the Laplace transform, this is more conveniently determined by exploiting the *time convolution property*. That is by performing a Fourier transform of the signal, multiplying it by the system's frequency response and then inverse Fourier transforming the result.\n",
    "\n",
    "Have these ideas in mind as we go through the examples in the rest of this section."
   ]
  },
  {
   "cell_type": "markdown",
   "id": "987ee18b",
   "metadata": {
    "slideshow": {
     "slide_type": "subslide"
    }
   },
   "source": [
    "### The Dirac Delta\n",
    "\n",
    "$$\\delta(t) \\Leftrightarrow 1$$\n",
    "\n",
    "![Fourier transform of the Dirac delta](./pictures/ft_delta.png)\n",
    "\n",
    "*Proof*: uses sampling and sifting properties of $\\delta(t)$."
   ]
  },
  {
   "cell_type": "markdown",
   "id": "dab10946",
   "metadata": {
    "slideshow": {
     "slide_type": "subslide"
    }
   },
   "source": [
    "*Matlab*:"
   ]
  },
  {
   "cell_type": "code",
   "execution_count": 1,
   "id": "df6d4971",
   "metadata": {
    "slideshow": {
     "slide_type": "subslide"
    }
   },
   "outputs": [],
   "source": [
    "imatlab_export_fig('print-svg')  % Static svg figures."
   ]
  },
  {
   "cell_type": "code",
   "execution_count": 2,
   "id": "8630bd7b",
   "metadata": {
    "slideshow": {
     "slide_type": "subslide"
    }
   },
   "outputs": [
    {
     "name": "stdout",
     "output_type": "stream",
     "text": [
      "ans =\n"
     ]
    },
    {
     "name": "stdout",
     "output_type": "stream",
     "text": [
      "1\n"
     ]
    }
   ],
   "source": [
    "syms t;\n",
    "fourier(dirac(t))"
   ]
  },
  {
   "cell_type": "markdown",
   "id": "2d2ff850",
   "metadata": {
    "slideshow": {
     "slide_type": "subslide"
    }
   },
   "source": [
    "Related:\n",
    "\n",
    "$$\\delta(t-t_0) \\Leftrightarrow e^{-j\\omega t_0}$$"
   ]
  },
  {
   "cell_type": "markdown",
   "id": "4cd6957c",
   "metadata": {
    "slideshow": {
     "slide_type": "subslide"
    }
   },
   "source": [
    "### DC\n",
    "\n",
    "$$1 \\Leftrightarrow 2\\pi\\delta(\\omega)$$\n",
    "\n",
    "![Fourier transform of a constant (model of DC)](./pictures/ft_dc.png)"
   ]
  },
  {
   "cell_type": "markdown",
   "id": "873c1bbf",
   "metadata": {
    "slideshow": {
     "slide_type": "subslide"
    }
   },
   "source": [
    "*Matlab*:"
   ]
  },
  {
   "cell_type": "code",
   "execution_count": 3,
   "id": "d7823e7f",
   "metadata": {
    "slideshow": {
     "slide_type": "subslide"
    }
   },
   "outputs": [
    {
     "name": "stdout",
     "output_type": "stream",
     "text": [
      "ans =\n"
     ]
    },
    {
     "name": "stdout",
     "output_type": "stream",
     "text": [
      "2*pi*dirac(omega)\n"
     ]
    }
   ],
   "source": [
    "syms t omega;\n",
    "A = sym(1);\n",
    "fourier(A,omega)"
   ]
  },
  {
   "cell_type": "markdown",
   "id": "0cf243b0",
   "metadata": {
    "slideshow": {
     "slide_type": "subslide"
    }
   },
   "source": [
    "Related by frequency shifting property:\n",
    "\n",
    "$$e^{j\\omega_0 t} \\Leftrightarrow 2\\pi\\delta(\\omega-\\omega_0)$$"
   ]
  },
  {
   "cell_type": "markdown",
   "id": "abeac8d8",
   "metadata": {
    "slideshow": {
     "slide_type": "subslide"
    }
   },
   "source": [
    "### Cosine (Sinewave with even symmetry)\n",
    "\n",
    "$$\\cos(t) = \\frac{1}{2}\\left(e^{j\\omega_0 t}+e^{-j\\omega_0 t}\\right) \\Leftrightarrow \\pi\\delta(\\omega - \\omega_0) + \\pi\\delta(\\omega + \\omega_0)$$\n",
    "\n",
    "![Fourier transform of a cosine signal](./pictures/ft_cos.png)\n",
    "\n",
    "Note: $f(t)$ is real and even. $F(\\omega)$ is also real and even."
   ]
  },
  {
   "cell_type": "markdown",
   "id": "63840d44",
   "metadata": {
    "slideshow": {
     "slide_type": "subslide"
    }
   },
   "source": [
    "### Sinewave\n",
    "\n",
    "$$\\sin(t) = \\frac{1}{j2}\\left(e^{j\\omega_0 t}-e^{-j\\omega_0 t}\\right) \\Leftrightarrow -j\\pi\\delta(\\omega - \\omega_0) + j\\pi\\delta(\\omega + \\omega_0)$$\n",
    "\n",
    "![Fourier transform of a sinewave signal](./pictures/ft_sin.png)\n",
    "\n",
    "Note: $f(t)$ is real and odd. $F(\\omega)$ is imaginary and odd."
   ]
  },
  {
   "cell_type": "markdown",
   "id": "62468bcf",
   "metadata": {
    "slideshow": {
     "slide_type": "subslide"
    }
   },
   "source": [
    "### Signum (Sign)\n",
    "\n",
    "The signum function is a function whose value is equal to\n",
    "\n",
    "$$\\operatorname{sgn} t = \\left\\{ {\\begin{array}{*{20}{c}}\n",
    "  { - 1\\;t < 0} \\\\ \n",
    "  {0\\;x = 0} \\\\ \n",
    "  { + 1\\;t > 0} \n",
    "\\end{array}} \\right.$$"
   ]
  },
  {
   "cell_type": "markdown",
   "id": "fca5c12e",
   "metadata": {
    "slideshow": {
     "slide_type": "subslide"
    }
   },
   "source": [
    "The transform is:\n",
    "\n",
    "$$\\operatorname{sgn} t = u_0(t) - u_0(-t) = \\frac{2}{j\\omega}$$\n",
    "\n",
    "![Fourier transform of sgn(t)](./pictures/ft_sgn.png)\n",
    "\n",
    "This function is often used to model a *voltage comparitor* in circuits."
   ]
  },
  {
   "cell_type": "markdown",
   "id": "ccfbbe71",
   "metadata": {
    "slideshow": {
     "slide_type": "subslide"
    }
   },
   "source": [
    "### Example 4: Unit Step\n",
    "\n",
    "Use the signum function to show that\n",
    "\n",
    "$$\n",
    "\\mathcal{F}\\left\\{u_0(t))\\right\\} = \\pi\\delta(\\omega)+\\frac{1}{j\\omega}\n",
    "$$"
   ]
  },
  {
   "cell_type": "markdown",
   "id": "58b6c6e1",
   "metadata": {
    "slideshow": {
     "slide_type": "subslide"
    }
   },
   "source": [
    "#### Clue\n",
    "\n",
    "Define\n",
    "\n",
    "$$\\operatorname{sgn} t = 2 u_0(t) - 1$$\n",
    "\n",
    "![sgn(t) = 2 u_0(t) - 1](./pictures/u_as_sign.png)\n",
    "\n",
    "*Does that help?*"
   ]
  },
  {
   "cell_type": "markdown",
   "id": "942393ef",
   "metadata": {
    "slideshow": {
     "slide_type": "notes"
    }
   },
   "source": [
    "#### Proof\n",
    "\n",
    "$$\\operatorname{sgn} t = 2u_0(t) - 1$$\n",
    "\n",
    "so\n",
    "\n",
    "$$u_0(t) = \\frac{1}{2} + \\frac{\\operatorname{sgn} t}{2}$$\n",
    "\n",
    "From previous results $1\\Leftrightarrow 2\\pi\\delta(\\omega)$ and $\\operatorname{sgn} x = 2/(j\\omega)$ so by linearity\n",
    "\n",
    "$$u_0(t) \\Leftrightarrow \\pi\\delta(\\omega)+\\frac{1}{j\\omega}$$\n",
    "\n",
    "*QED*"
   ]
  },
  {
   "cell_type": "markdown",
   "id": "2e632377",
   "metadata": {
    "slideshow": {
     "slide_type": "subslide"
    }
   },
   "source": [
    "#### Graph of unit step\n",
    "\n",
    "$$u_0(t) \\Leftrightarrow \\pi\\delta(\\omega)+\\frac{1}{j\\omega}$$\n",
    "\n",
    "![Fourier transform of the unit step function](./pictures/ft_step.png)"
   ]
  },
  {
   "cell_type": "markdown",
   "id": "179165f3",
   "metadata": {
    "slideshow": {
     "slide_type": "notes"
    }
   },
   "source": [
    "The unit step is neither even nor odd so the Fourier transform is complex with real part $F_\\mathrm{Re}(\\omega) = \\pi\\delta(\\omega)$ and imaginary part $F_\\mathrm{Im}(\\omega) = 1/(j\\omega)$. The real part is even, and the imaginary part is odd."
   ]
  },
  {
   "cell_type": "markdown",
   "id": "b6066c0a",
   "metadata": {
    "slideshow": {
     "slide_type": "subslide"
    }
   },
   "source": [
    "### Example 5\n",
    "\n",
    "Use the results derived so far to show that \n",
    "\n",
    "$$e^{j\\omega_0 t}u_0(t)\\Leftrightarrow \\pi\\delta(\\omega - \\omega_0) + \\frac{1}{j(\\omega-\\omega_0)}$$\n",
    "\n",
    "Hint: linearity plus frequency shift property."
   ]
  },
  {
   "cell_type": "markdown",
   "id": "304b8af2",
   "metadata": {
    "slideshow": {
     "slide_type": "subslide"
    }
   },
   "source": [
    "### Example 6\n",
    "\n",
    "Use the results derived so far to show that \n",
    "\n",
    "$$\\sin \\omega_0 t\\; u_0(t)\\Leftrightarrow \\frac{\\pi}{j2}\\left[\\delta(\\omega-\\omega_0)-\\delta(\\omega+\\omega_0)\\right] + \\frac{\\omega_0}{\\omega_0^2 - \\omega^2}$$\n",
    "\n",
    "Hint: Euler's formula plus solution to example 2."
   ]
  },
  {
   "cell_type": "markdown",
   "id": "23794313",
   "metadata": {
    "slideshow": {
     "slide_type": "notes"
    }
   },
   "source": [
    "**Important note**: the equivalent example in Karris (Section 8.4.9 Eq. 8.75 pp 8-23&mdash;8-24) is wrong! \n",
    "\n",
    "See [worked solution](https://cpjobling.github.io/eg-247-textbook/fourier_transform/solutions/ft2-ex3.pdf) for the corrected proof."
   ]
  },
  {
   "cell_type": "markdown",
   "id": "63ee8427",
   "metadata": {
    "slideshow": {
     "slide_type": "subslide"
    }
   },
   "source": [
    "### Example 7\n",
    "\n",
    "Use the result of Example 6 to determine the Fourier transform of $\\cos\\omega_0 t\\; u_0(t)$."
   ]
  },
  {
   "cell_type": "markdown",
   "id": "708dc0e8",
   "metadata": {
    "slideshow": {
     "slide_type": "subslide"
    }
   },
   "source": [
    "#### Solution to example 7\n",
    "\n",
    "$$\\cos\\omega_0 t\\; u_0(t)\\Leftrightarrow \\frac{\\pi}{2}\\left[\\delta(\\omega-\\omega_0)+\\delta(\\omega+\\omega_0)\\right] + \\frac{j\\omega}{\\omega_0^2 - \\omega^2}$$"
   ]
  },
  {
   "cell_type": "markdown",
   "id": "c070b270",
   "metadata": {
    "slideshow": {
     "slide_type": "slide"
    }
   },
   "source": [
    "## Derivation of the Fourier Transform from the Laplace Transform\n",
    "\n",
    "If a signal is a function of time $f(t)$ which is zero for $t\\le 0$, we can obtain the Fourier transform from the Laplace transform by substituting $s$ by $j\\omega$."
   ]
  },
  {
   "cell_type": "markdown",
   "id": "3f8ac1d6",
   "metadata": {
    "slideshow": {
     "slide_type": "subslide"
    }
   },
   "source": [
    "### Example 8: Single Pole Filter\n",
    "\n",
    "Given that \n",
    "\n",
    "$$\\mathcal{L}\\left\\{e^{-at}u_0(t)\\right\\} = \\frac{1}{s + a}$$\n",
    "\n",
    "Compute \n",
    "\n",
    "$$\\mathcal{F}\\left\\{e^{-at}u_0(t)\\right\\}$$"
   ]
  },
  {
   "cell_type": "markdown",
   "id": "0b4f811d",
   "metadata": {
    "slideshow": {
     "slide_type": "subslide"
    }
   },
   "source": [
    "#### Solution to example 8\n",
    "\n",
    "$$\\frac{1}{j\\omega+a}$$"
   ]
  },
  {
   "cell_type": "markdown",
   "id": "3c7ee676",
   "metadata": {
    "slideshow": {
     "slide_type": "notes"
    }
   },
   "source": [
    "Boulet gives the graph of this function."
   ]
  },
  {
   "cell_type": "markdown",
   "id": "5ae51c73",
   "metadata": {
    "slideshow": {
     "slide_type": "subslide"
    }
   },
   "source": [
    "### Example 9: Complex Pole Pair  cos term\n",
    "\n",
    "Given that \n",
    "\n",
    "$$\\mathcal{L}\\left\\{e^{-at}\\cos\\omega_0 t\\;u_0(t)\\right\\} = \\frac{s+a}{(s + a)^2+\\omega_0^2}$$\n",
    "\n",
    "Compute \n",
    "\n",
    "$$\\mathcal{F}\\left\\{e^{-at}\\cos\\omega_0 t\\;u_0(t)\\right\\}$$"
   ]
  },
  {
   "cell_type": "markdown",
   "id": "b93facdf",
   "metadata": {
    "slideshow": {
     "slide_type": "subslide"
    }
   },
   "source": [
    "#### Solution to example 9\n",
    "\n",
    "$$\\frac{j\\omega + a}{(j\\omega+a)^2 + \\omega_0^2}$$"
   ]
  },
  {
   "cell_type": "markdown",
   "id": "2fb1323f",
   "metadata": {
    "slideshow": {
     "slide_type": "notes"
    }
   },
   "source": [
    "Boulet gives the graph of this function."
   ]
  },
  {
   "cell_type": "markdown",
   "id": "753865b5",
   "metadata": {
    "slideshow": {
     "slide_type": "subslide"
    }
   },
   "source": [
    "## Fourier Transforms of Common Signals\n",
    "\n",
    "We shall conclude this session by computing as many of the the Fourier transform of some common signals as we have time for.\n",
    "\n",
    "* rectangular pulse\n",
    "* triangular pulse\n",
    "* periodic time function\n",
    "* unit impulse train (model of regular sampling)"
   ]
  },
  {
   "cell_type": "markdown",
   "id": "af74460f",
   "metadata": {
    "slideshow": {
     "slide_type": "notes"
    }
   },
   "source": [
    "I will not provide notes for these, but you will find more details in Chapter 8 of Karris and Chapter 5 of Boulet and \n",
    "\n",
    "I have created some worked examples (see Blackboard and the OneNote notebook) to help with revision."
   ]
  },
  {
   "cell_type": "markdown",
   "id": "1d090545",
   "metadata": {
    "slideshow": {
     "slide_type": "slide"
    }
   },
   "source": [
    "## Suggestions for Further Reading\n",
    "\n",
    "Boulet has several interesting amplifications of the material presented by {cite}`karris`. You would be well advised to read these. Particular highlights which we will not have time to cover:\n",
    "\n",
    "* Time multiplication and its relation to amplitude modulation (pp 182&mdash;183).\n",
    "* Fourier transform of the complex exponential signal $e^{(\\alpha +j\\beta)t}$ with graphs (pp 184&mdash;187).\n",
    "* Use of inverse Fourier series to determine $f(t)$ from a given $F(j\\omega)$ and the \"ideal\" low-pass filter (pp 188&mdash;191).\n",
    "* The Duality of the Fourier transform (pp 191&mdash;192)."
   ]
  },
  {
   "cell_type": "markdown",
   "id": "33d0dc78",
   "metadata": {
    "slideshow": {
     "slide_type": "slide"
    }
   },
   "source": [
    "## Summary\n",
    "\n",
    "* Tables of Transform Pairs\n",
    "* Examples of Selected Transforms\n",
    "* Relationship between Laplace and Fourier\n",
    "* Fourier Transforms of Common Signals"
   ]
  },
  {
   "cell_type": "markdown",
   "id": "ca85afbd",
   "metadata": {
    "slideshow": {
     "slide_type": "notes"
    }
   },
   "source": [
    "## References\n",
    "\n",
    "See [Bibliography](/zbib)."
   ]
  },
  {
   "cell_type": "markdown",
   "id": "045ac70b",
   "metadata": {
    "slideshow": {
     "slide_type": "subslide"
    }
   },
   "source": [
    "*Next Section*\n",
    "\n",
    "* [The Fourier Transform for Systems and Circuit Analysis](../3/ft3)"
   ]
  }
 ],
 "metadata": {
  "jupytext": {
   "formats": "ipynb,md:myst",
   "text_representation": {
    "extension": ".md",
    "format_name": "myst",
    "format_version": 0.13,
    "jupytext_version": "1.11.5"
   }
  },
  "kernelspec": {
   "display_name": "MATLAB",
   "language": "matlab",
   "name": "imatlab"
  },
  "language_info": {
   "codemirror_mode": "octave",
   "file_extension": ".m",
   "mimetype": "text/x-matlab",
   "name": "matlab",
   "nbconvert_exporter": "imatlab._exporter.MatlabExporter",
   "pygments_lexer": "matlab",
   "version": "9.11.0.1769968 (R2021b)"
  },
  "source_map": [
   15,
   19,
   31,
   52,
   61,
   67,
   75,
   83,
   87,
   95,
   101,
   117,
   121,
   137,
   147,
   151,
   159,
   168,
   174,
   182,
   186,
   196,
   202,
   212,
   222,
   234,
   244,
   254,
   266,
   282,
   290,
   294,
   304,
   314,
   320,
   326,
   332,
   338,
   350,
   356,
   360,
   372,
   378,
   382,
   393,
   399,
   410,
   419,
   425
  ]
 },
 "nbformat": 4,
 "nbformat_minor": 5
}