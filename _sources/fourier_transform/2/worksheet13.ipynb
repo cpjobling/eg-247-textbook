{
 "cells": [
  {
   "cell_type": "markdown",
   "id": "e090db2e",
   "metadata": {
    "slideshow": {
     "slide_type": "slide"
    }
   },
   "source": [
    "# Worksheet 13\n",
    "\n",
    "## To accompany Chapter 5.2 Fourier transforms of commonly occurring signals"
   ]
  },
  {
   "cell_type": "markdown",
   "id": "63df3734",
   "metadata": {
    "slideshow": {
     "slide_type": "notes"
    }
   },
   "source": [
    "This worksheet can be downloaded as a [PDF file](https://cpjobling.github.io/eg-247-textbook/worksheets/worksheet13.pdf). We will step through this worksheet in class. \n",
    "\n",
    "An annotatable copy of the notes for this presentation will be distributed before the second class meeting as **Worksheet 13** in the **Week 6: Classroom Activities** section of the Canvas site. I will also distribute a copy to your personal **Worksheets** section of the **OneNote Class Notebook** so that you can add your own notes using OneNote. \n",
    "\n",
    "You are expected to have at least watched the video presentation of [Chapter 5.2](https://cpjobling.github.io/eg-247-textbook/fourier_transform/2/ft2) of the [notes](https://cpjobling.github.io/eg-247-textbook) before coming to class. If you haven't watch it afterwards!\n",
    "\n",
    "After class, the lecture recording and the annotated version of the worksheets will be made available through Canvas."
   ]
  },
  {
   "cell_type": "markdown",
   "id": "a9988b25",
   "metadata": {
    "slideshow": {
     "slide_type": "slide"
    }
   },
   "source": [
    "## Reminder of the Definitions\n",
    "\n",
    "Last time we derived the Fourier Transform by evaluating what would happen when a periodic signal was made periodic. Let us restate the definitions."
   ]
  },
  {
   "cell_type": "markdown",
   "id": "39fd972f",
   "metadata": {
    "slideshow": {
     "slide_type": "subslide"
    }
   },
   "source": [
    "### The Fourier Transform\n",
    "\n",
    "Used to convert a function of time $f(t)$ to a function of radian frequency $F(\\omega)$:\n",
    "\n",
    "$$\\mathcal{F}\\left\\{f(t)\\right\\} = \\int_{-\\infty}^{\\infty} f(t)e^{-j\\omega t}\\,dt = F(\\omega).$$"
   ]
  },
  {
   "cell_type": "markdown",
   "id": "8cfeb92a",
   "metadata": {
    "slideshow": {
     "slide_type": "subslide"
    }
   },
   "source": [
    "### The Inverse Fourier Transform\n",
    "\n",
    "Used to convert a function of frequency $F(\\omega)$ to a function of time $f(t)$:\n",
    "\n",
    "$$\\mathcal{F}^{-1}\\left\\{F(\\omega)\\right\\} = \\frac{1}{2\\pi}\\int_{-\\infty}^{\\infty} F(\\omega)e^{j\\omega t}\\,d\\omega = f(t) .$$"
   ]
  },
  {
   "cell_type": "markdown",
   "id": "2b480320",
   "metadata": {
    "slideshow": {
     "slide_type": "notes"
    }
   },
   "source": [
    "Note, the factor $2\\pi$ is introduced because we are changing units from radians/second to seconds."
   ]
  },
  {
   "cell_type": "markdown",
   "id": "f5876d67",
   "metadata": {
    "slideshow": {
     "slide_type": "subslide"
    }
   },
   "source": [
    "### Duality of the transform\n",
    "\n",
    "Note the similarity of the Fourier and its Inverse. \n",
    "\n",
    "This has important consequences in filter design and later when we consider sampled data systems."
   ]
  },
  {
   "cell_type": "markdown",
   "id": "2a808c30",
   "metadata": {
    "slideshow": {
     "slide_type": "slide"
    }
   },
   "source": [
    "## Table of Common Fourier Transform Pairs\n",
    "\n",
    "This table is adapted from Table 8.9 of Karris. See also: [Wikibooks: Engineering Tables/Fourier Transform Table](https://en.wikibooks.org/wiki/Engineering_Tables/Fourier_Transform_Table) and [Fourier Transform&mdash;WolframMathworld](https://mathworld.wolfram.com/FourierTransform.html) for more complete references."
   ]
  },
  {
   "cell_type": "markdown",
   "id": "62d3d44e",
   "metadata": {
    "slideshow": {
     "slide_type": "subslide"
    }
   },
   "source": [
    "|     | **Name**                         | $f(t)$                            | $F(\\omega)$ | **Remarks**                           |\n",
    "|-----| ---------------------------------|-----------------------------------|-------------|---------------------------------------|\n",
    "| 1.  | Dirac delta                      | $\\delta(t)$                       | $1$         | Constant energy at *all* frequencies. |\n",
    "| 2.  | Time sample                      | $\\delta(t-t_0)$                   |  $e^{-j\\omega t_0}$ |  \n",
    "| 3.  | Phase shift                      | $e^{j\\omega_0 t}$                 |  $2\\pi\\delta(\\omega - \\omega_0)$ |  \n",
    "| 4.  | *Signum*                         | $\\operatorname{sgn} t$          |  $\\displaystyle{\\frac{2}{j\\omega}}$ |  also known as sign function\n",
    "| 5.  |  Unit step                       | $u_0(t)$                          |  $\\displaystyle{\\frac{1}{j\\omega}+\\pi\\delta(\\omega)}$ |  \n",
    "| 6.  |  Cosine                          | $\\cos \\omega_0 t$                 |  $\\pi\\left[\\delta(\\omega-\\omega_0)+\\delta(\\omega+\\omega_0)\\right]$ |  \n",
    "| 7.  |  Sine                            | $\\sin \\omega_0 t$                 |  $-j\\pi\\left[\\delta(\\omega-\\omega_0)-\\delta(\\omega+\\omega_0)\\right]$ |  \n",
    "| 8.  |  Single pole                     | $e^{-at}u_0(t)$                   |  $\\displaystyle{\\frac{1}{j\\omega + a}}$ |  $a \\gt 0$ |\n",
    "| 9.  |  Double pole                     | $te^{-at}u_0(t)$                  |  $\\displaystyle{\\frac{1}{(j\\omega + a)^2}}$ |  $a \\gt 0$ |\n",
    "| 10. |  Complex pole (cosine component) | $e^{-at}\\cos \\omega_0 t\\;u_0(t)$  |  $\\displaystyle{\\frac{j\\omega + a}{(j\\omega + a)^2+\\omega_0^2}}$ |  $a\\gt 0$\n",
    "| 11. |  Complex pole (sine component)   | $e^{-a t}\\sin \\omega_0 t\\;u_0(t)$ |  $\\displaystyle{\\frac{\\omega_0}{(j\\omega + a)^2+\\omega_0^2}}$ |  $a\\gt 0$ |"
   ]
  },
  {
   "cell_type": "markdown",
   "id": "de631acd",
   "metadata": {
    "slideshow": {
     "slide_type": "slide"
    }
   },
   "source": [
    "## Some Selected Fourier Transforms"
   ]
  },
  {
   "cell_type": "markdown",
   "id": "e98808c5",
   "metadata": {
    "slideshow": {
     "slide_type": "subslide"
    }
   },
   "source": [
    "### The Dirac Delta\n",
    "\n",
    "$$\\delta(t) \\Leftrightarrow 1$$\n",
    "\n",
    "![Fourier transform of the Dirac delta](./pictures/ft_delta.png)\n",
    "\n",
    "\n",
    "\n",
    "*Proof*: uses sampling and sifting properties of $\\delta(t)$."
   ]
  },
  {
   "cell_type": "markdown",
   "id": "90bff9e9",
   "metadata": {
    "slideshow": {
     "slide_type": "subslide"
    }
   },
   "source": [
    "*Matlab*:"
   ]
  },
  {
   "cell_type": "code",
   "execution_count": null,
   "id": "410d445f",
   "metadata": {
    "slideshow": {
     "slide_type": "fragment"
    }
   },
   "outputs": [],
   "source": [
    "syms t omega omega_0 t0;\n",
    "u0(t) = heaviside(t); % useful utility function\n",
    "fourier(dirac(t))"
   ]
  },
  {
   "cell_type": "markdown",
   "id": "76e92e11",
   "metadata": {
    "slideshow": {
     "slide_type": "subslide"
    }
   },
   "source": [
    "Related:\n",
    "\n",
    "$$\\delta(t-t_0) \\Leftrightarrow e^{-j\\omega t_0}$$"
   ]
  },
  {
   "cell_type": "code",
   "execution_count": null,
   "id": "d1d88f16",
   "metadata": {
    "slideshow": {
     "slide_type": "fragment"
    }
   },
   "outputs": [],
   "source": [
    "fourier(dirac(t - t0),omega)"
   ]
  },
  {
   "cell_type": "markdown",
   "id": "00f3b973",
   "metadata": {
    "slideshow": {
     "slide_type": "subslide"
    }
   },
   "source": [
    "### DC\n",
    "\n",
    "$$1 \\Leftrightarrow 2\\pi\\delta(\\omega)$$\n",
    "\n",
    "![Fourier transform of a constant (model of DC)](./pictures/ft_dc.png)"
   ]
  },
  {
   "cell_type": "markdown",
   "id": "1f326649",
   "metadata": {
    "slideshow": {
     "slide_type": "subslide"
    }
   },
   "source": [
    "*Matlab*:"
   ]
  },
  {
   "cell_type": "code",
   "execution_count": null,
   "id": "b7cc03e1",
   "metadata": {
    "slideshow": {
     "slide_type": "fragment"
    }
   },
   "outputs": [],
   "source": [
    "A = sym(1); % take one to be a symbol\n",
    "fourier(A,omega)"
   ]
  },
  {
   "cell_type": "markdown",
   "id": "63166a9f",
   "metadata": {
    "slideshow": {
     "slide_type": "subslide"
    }
   },
   "source": [
    "Related by frequency shifting property:\n",
    "\n",
    "$$e^{j\\omega_0 t} \\Leftrightarrow 2\\pi\\delta(\\omega-\\omega_0)$$"
   ]
  },
  {
   "cell_type": "markdown",
   "id": "e14984b2",
   "metadata": {
    "slideshow": {
     "slide_type": "subslide"
    }
   },
   "source": [
    "### Cosine (Sinewave with even symmetry)\n",
    "\n",
    "$$\\cos(t) = \\frac{1}{2}\\left(e^{j\\omega_0 t}+e^{-j\\omega_0 t}\\right) \\Leftrightarrow \\pi\\delta(\\omega - \\omega_0) + \\pi\\delta(\\omega + \\omega_0)$$\n",
    "\n",
    "![Fourier transform of a cosine signal](./pictures/ft_cos.png)\n",
    "\n",
    "Note: $f(t)$ is real and even. $F(\\omega)$ is also real and even."
   ]
  },
  {
   "cell_type": "markdown",
   "id": "6bc3c83f",
   "metadata": {
    "slideshow": {
     "slide_type": "subslide"
    }
   },
   "source": [
    "*Matlab*:"
   ]
  },
  {
   "cell_type": "code",
   "execution_count": null,
   "id": "fc2c20a7",
   "metadata": {
    "slideshow": {
     "slide_type": "fragment"
    }
   },
   "outputs": [],
   "source": [
    "fourier(cos(omega_0*t),omega)"
   ]
  },
  {
   "cell_type": "markdown",
   "id": "2cdce3d5",
   "metadata": {
    "slideshow": {
     "slide_type": "subslide"
    }
   },
   "source": [
    "### Sinewave\n",
    "\n",
    "$$\\sin(t) = \\frac{1}{j2}\\left(e^{j\\omega_0 t}-e^{-j\\omega_0 t}\\right) \\Leftrightarrow -j\\pi\\delta(\\omega - \\omega_0) + j\\pi\\delta(\\omega + \\omega_0)$$\n",
    "\n",
    "![Fourier transform of a sinewave signal](./pictures/ft_sin.png)\n",
    "\n",
    "\n",
    "\n",
    "Note: $f(t)$ is real and odd. $F(\\omega)$ is imaginary and odd."
   ]
  },
  {
   "cell_type": "markdown",
   "id": "f41eaf23",
   "metadata": {
    "slideshow": {
     "slide_type": "subslide"
    }
   },
   "source": [
    "*Matlab*:"
   ]
  },
  {
   "cell_type": "code",
   "execution_count": null,
   "id": "f6e7c047",
   "metadata": {
    "slideshow": {
     "slide_type": "fragment"
    }
   },
   "outputs": [],
   "source": [
    "fourier(sin(omega_0*t),omega)"
   ]
  },
  {
   "cell_type": "markdown",
   "id": "cb2a51d0",
   "metadata": {
    "slideshow": {
     "slide_type": "subslide"
    }
   },
   "source": [
    "### Signum (Sign)\n",
    "\n",
    "The signum function is a function whose value is equal to\n",
    "\n",
    "$$\\operatorname{sgn} t = \\left\\{ {\\begin{array}{*{20}{c}}\n",
    "  { - 1\\;t < 1} \\\\ \n",
    "  {0\\;x = 0} \\\\ \n",
    "  { + 1\\;t > 0} \n",
    "\\end{array}} \\right.$$"
   ]
  },
  {
   "cell_type": "markdown",
   "id": "7ff3fdf8",
   "metadata": {
    "slideshow": {
     "slide_type": "subslide"
    }
   },
   "source": [
    "*Matlab*:"
   ]
  },
  {
   "cell_type": "code",
   "execution_count": null,
   "id": "9f1faa71",
   "metadata": {
    "slideshow": {
     "slide_type": "fragment"
    }
   },
   "outputs": [],
   "source": [
    "fourier(sign(t),omega)"
   ]
  },
  {
   "cell_type": "markdown",
   "id": "136d7738",
   "metadata": {
    "slideshow": {
     "slide_type": "subslide"
    }
   },
   "source": [
    "The transform is:\n",
    "\n",
    "$$\\operatorname{sgn} t = u_0(t) - u_0(-t) = \\frac{2}{j\\omega}$$\n",
    "\n",
    "![Fourier transform of sgn(t)](./pictures/ft_sgn.png)\n",
    "\n",
    "This function is often used to model a *voltage comparitor* in circuits."
   ]
  },
  {
   "cell_type": "markdown",
   "id": "403a9254",
   "metadata": {
    "slideshow": {
     "slide_type": "subslide"
    }
   },
   "source": [
    "### Example 4: Unit Step\n",
    "\n",
    "Use the signum function to show that\n",
    "\n",
    "$$\n",
    "\\mathcal{F}\\left\\{u_0(t))\\right\\} = \\pi\\delta(\\omega)+\\frac{1}{j\\omega}\n",
    "$$"
   ]
  },
  {
   "cell_type": "markdown",
   "id": "8a9675d6",
   "metadata": {
    "slideshow": {
     "slide_type": "subslide"
    }
   },
   "source": [
    "#### Clue\n",
    "\n",
    "Define\n",
    "\n",
    "$$\\operatorname{sgn} t = 2 u_0(t) - 1$$\n",
    "\n",
    "![sgn(t) = 2 u_0(t) - 1](./pictures/u_as_sign.png)\n",
    "\n",
    "\n",
    "*Does that help?*"
   ]
  },
  {
   "cell_type": "markdown",
   "id": "93753683",
   "metadata": {
    "slideshow": {
     "slide_type": "notes"
    }
   },
   "source": [
    "<pre style=\"border: 2px solid blue\">\n",
    "\n",
    "\n",
    "\n",
    "\n",
    "\n",
    "\n",
    "\n",
    "\n",
    "\n",
    "\n",
    "\n",
    "\n",
    "\n",
    "\n",
    "\n",
    "</pre>"
   ]
  },
  {
   "cell_type": "markdown",
   "id": "764a0629",
   "metadata": {
    "slideshow": {
     "slide_type": "notes"
    }
   },
   "source": [
    "#### Proof\n",
    "\n",
    "$$\\operatorname{sgn} t = 2u_0(t) - 1$$\n",
    "\n",
    "so\n",
    "\n",
    "$$u_0(t) = \\frac{1}{2} + \\frac{ \\operatorname{sgn} t}{2}$$\n",
    "\n",
    "From previous results $1\\Leftrightarrow 2\\pi\\delta(\\omega)$ and $\\operatorname{sgn} x = 2/(j\\omega)$ so by linearity\n",
    "\n",
    "$$u_0(t) \\Leftrightarrow \\pi\\delta(\\omega)+\\frac{1}{j\\omega}$$\n",
    "\n",
    "*QED*"
   ]
  },
  {
   "cell_type": "markdown",
   "id": "b90d3c02",
   "metadata": {
    "slideshow": {
     "slide_type": "subslide"
    }
   },
   "source": [
    "*Matlab*:"
   ]
  },
  {
   "cell_type": "code",
   "execution_count": null,
   "id": "ba7b936e",
   "metadata": {
    "slideshow": {
     "slide_type": "fragment"
    }
   },
   "outputs": [],
   "source": [
    "fourier(u0(t),omega)"
   ]
  },
  {
   "cell_type": "markdown",
   "id": "fc562486",
   "metadata": {
    "slideshow": {
     "slide_type": "subslide"
    }
   },
   "source": [
    "### Example 5\n",
    "\n",
    "Use the results derived so far to show that \n",
    "\n",
    "$$e^{j\\omega_0 t}u_0(t)\\Leftrightarrow \\pi\\delta(\\omega - \\omega_0) + \\frac{1}{j(\\omega-\\omega_0)}$$\n",
    "\n",
    "Hint: linearity plus frequency shift property."
   ]
  },
  {
   "cell_type": "markdown",
   "id": "73cd02bb",
   "metadata": {
    "slideshow": {
     "slide_type": "notes"
    }
   },
   "source": [
    "<pre style=\"border: 2px solid blue\">\n",
    "\n",
    "\n",
    "\n",
    "\n",
    "\n",
    "\n",
    "\n",
    "\n",
    "\n",
    "\n",
    "\n",
    "\n",
    "\n",
    "\n",
    "\n",
    "</pre>"
   ]
  },
  {
   "cell_type": "markdown",
   "id": "ded0af0c",
   "metadata": {
    "slideshow": {
     "slide_type": "subslide"
    }
   },
   "source": [
    "### Example 6\n",
    "\n",
    "Use the results derived so far to show that \n",
    "\n",
    "$$\\sin \\omega_0 t\\; u_0(t)\\Leftrightarrow \\frac{\\pi}{j2}\\left[\\delta(\\omega-\\omega_0)-\\delta(\\omega+\\omega_0)\\right] + \\frac{\\omega_0}{\\omega_0^2 - \\omega^2}$$\n",
    "\n",
    "Hint: Euler's formula plus solution to example 2."
   ]
  },
  {
   "cell_type": "markdown",
   "id": "b3c215d1",
   "metadata": {
    "slideshow": {
     "slide_type": "notes"
    }
   },
   "source": [
    "**Important note**: the equivalent example in Karris (Section 8.4.9 Eq. 8.75 pp 8-23&mdash;8-24) is wrong! \n",
    "\n",
    "See worked solution in OneNote for corrected proof."
   ]
  },
  {
   "cell_type": "markdown",
   "id": "2c9d29af",
   "metadata": {
    "slideshow": {
     "slide_type": "notes"
    }
   },
   "source": [
    "<pre style=\"border: 2px solid blue\">\n",
    "\n",
    "\n",
    "\n",
    "\n",
    "\n",
    "\n",
    "\n",
    "\n",
    "\n",
    "\n",
    "\n",
    "\n",
    "\n",
    "\n",
    "\n",
    "</pre>"
   ]
  },
  {
   "cell_type": "markdown",
   "id": "5d004f2e",
   "metadata": {
    "slideshow": {
     "slide_type": "subslide"
    }
   },
   "source": [
    "### Example 7\n",
    "\n",
    "Use the result of Example 3 to determine the Fourier transform of $\\cos\\omega_0 t\\; u_0(t)$."
   ]
  },
  {
   "cell_type": "markdown",
   "id": "ce8ef8a4",
   "metadata": {
    "slideshow": {
     "slide_type": "notes"
    }
   },
   "source": [
    "<pre style=\"border: 2px solid blue\">\n",
    "\n",
    "\n",
    "\n",
    "\n",
    "\n",
    "\n",
    "\n",
    "\n",
    "\n",
    "\n",
    "\n",
    "\n",
    "\n",
    "\n",
    "\n",
    "</pre>"
   ]
  },
  {
   "cell_type": "markdown",
   "id": "f7a2ff2a",
   "metadata": {
    "slideshow": {
     "slide_type": "subslide"
    }
   },
   "source": [
    "#### Answer\n",
    "\n",
    "$$\\cos\\omega_0 t\\; u_0(t)\\Leftrightarrow \\frac{\\pi}{2}\\left[\\delta(\\omega-\\omega_0)+\\delta(\\omega+\\omega_0)\\right] + \\frac{j\\omega}{\\omega_0^2 - \\omega^2}$$"
   ]
  },
  {
   "cell_type": "markdown",
   "id": "74a30a94",
   "metadata": {
    "slideshow": {
     "slide_type": "slide"
    }
   },
   "source": [
    "## Derivation of the Fourier Transform from the Laplace Transform\n",
    "\n",
    "If a signal is a function of time $f(t)$ which is zero for $t\\le 0$, we can obtain the Fourier transform from the Laplace transform by substituting $s$ by $j\\omega$."
   ]
  },
  {
   "cell_type": "markdown",
   "id": "3cb38069",
   "metadata": {
    "slideshow": {
     "slide_type": "subslide"
    }
   },
   "source": [
    "### Example 8: Single Pole Filter\n",
    "\n",
    "Given that \n",
    "\n",
    "$$\\mathcal{L}\\left\\{e^{-at}u_0(t)\\right\\} = \\frac{1}{s + a}$$\n",
    "\n",
    "Compute \n",
    "\n",
    "$$\\mathcal{F}\\left\\{e^{-at}u_0(t)\\right\\}$$"
   ]
  },
  {
   "cell_type": "markdown",
   "id": "e504c1b4",
   "metadata": {
    "slideshow": {
     "slide_type": "notes"
    }
   },
   "source": [
    "<pre style=\"border: 2px solid blue\">\n",
    "\n",
    "\n",
    "\n",
    "\n",
    "\n",
    "\n",
    "\n",
    "\n",
    "\n",
    "\n",
    "\n",
    "\n",
    "\n",
    "\n",
    "\n",
    "</pre>"
   ]
  },
  {
   "cell_type": "markdown",
   "id": "ba2f2add",
   "metadata": {
    "slideshow": {
     "slide_type": "subslide"
    }
   },
   "source": [
    "### Example 9: Complex Pole Pair  cos term\n",
    "\n",
    "Given that \n",
    "\n",
    "$$\\mathcal{L}\\left\\{e^{-at}\\cos\\omega_0 t\\;u_0(t)\\right\\} = \\frac{s+a}{(s + a)^2+\\omega_0^2}$$\n",
    "\n",
    "Compute \n",
    "\n",
    "$$\\mathcal{F}\\left\\{e^{-at}\\cos\\omega_0 t\\;u_0(t)\\right\\}$$"
   ]
  },
  {
   "cell_type": "markdown",
   "id": "a70311fc",
   "metadata": {
    "slideshow": {
     "slide_type": "notes"
    }
   },
   "source": [
    "<pre style=\"border: 2px solid blue\">\n",
    "\n",
    "\n",
    "\n",
    "\n",
    "\n",
    "\n",
    "\n",
    "\n",
    "\n",
    "\n",
    "\n",
    "\n",
    "\n",
    "\n",
    "\n",
    "</pre>"
   ]
  },
  {
   "cell_type": "markdown",
   "id": "01c46611",
   "metadata": {
    "slideshow": {
     "slide_type": "subslide"
    }
   },
   "source": [
    "## Fourier Transforms of Common Signals\n",
    "\n",
    "We shall conclude this session by computing as many of the the Fourier transform of some common signals as we have time for.\n",
    "\n",
    "* rectangular pulse\n",
    "* triangular pulse\n",
    "* periodic time function\n",
    "* unit impulse train (model of regular sampling)"
   ]
  }
 ],
 "metadata": {
  "jupytext": {
   "formats": "ipynb,md:myst",
   "text_representation": {
    "extension": ".md",
    "format_name": "myst",
    "format_version": 0.13,
    "jupytext_version": "1.14.4"
   }
  },
  "kernelspec": {
   "display_name": "Matlab",
   "language": "matlab",
   "name": "matlab"
  },
  "source_map": [
   15,
   21,
   31,
   37,
   45,
   53,
   57,
   65,
   71,
   87,
   91,
   103,
   107,
   117,
   123,
   131,
   139,
   143,
   152,
   158,
   168,
   172,
   180,
   192,
   196,
   204,
   216,
   220,
   228,
   238,
   248,
   261,
   281,
   297,
   301,
   309,
   319,
   339,
   349,
   355,
   375,
   381,
   401,
   407,
   413,
   425,
   445,
   457,
   477
  ]
 },
 "nbformat": 4,
 "nbformat_minor": 5
}