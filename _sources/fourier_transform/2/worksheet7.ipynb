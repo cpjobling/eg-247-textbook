{
 "cells": [
  {
   "cell_type": "markdown",
   "id": "ba8e8a18",
   "metadata": {
    "slideshow": {
     "slide_type": "slide"
    }
   },
   "source": [
    "(ws7)=\n",
    "# Worksheet 7\n",
    "\n",
    "## To accompany Chapter 4.2 Fourier transforms of commonly occurring signals"
   ]
  },
  {
   "cell_type": "markdown",
   "id": "d265e35f",
   "metadata": {
    "slideshow": {
     "slide_type": "notes"
    }
   },
   "source": [
    "This worksheet can be downloaded as a [PDF file](https://cpjobling.github.io/eg-247-textbook/worksheets/worksheet7.pdf). We will step through this worksheet in class. \n",
    "\n",
    "An annotatable copy of the notes for this presentation will be distributed before the second class meeting as **Worksheet 7** in the **Week 5: Classroom Activities** section of the Canvas site. I will also distribute a copy to your personal **Worksheets** section of the **OneNote Class Notebook** so that you can add your own notes using OneNote. \n",
    "\n",
    "You are expected to have at least watched the video presentation of {ref}`ft2` of the [notes](https://cpjobling.github.io/eg-247-textbook) before coming to class. If you haven't watch it afterwards!\n",
    "\n",
    "After class, the lecture recording and the annotated version of the worksheets will be made available through Canvas."
   ]
  },
  {
   "cell_type": "markdown",
   "id": "d3f8958c",
   "metadata": {
    "slideshow": {
     "slide_type": "slide"
    }
   },
   "source": [
    "## Reminder of the Definitions\n",
    "\n",
    "Last time we derived the Fourier Transform by evaluating what would happen when a periodic signal was made periodic. Let us restate the definitions."
   ]
  },
  {
   "cell_type": "markdown",
   "id": "95876b5b",
   "metadata": {
    "slideshow": {
     "slide_type": "subslide"
    }
   },
   "source": [
    "### The Fourier Transform\n",
    "\n",
    "Used to convert a function of time $f(t)$ to a function of radian frequency $F(\\omega)$:\n",
    "\n",
    "$$\\mathcal{F}\\left\\{f(t)\\right\\} = \\int_{-\\infty}^{\\infty} f(t)e^{-j\\omega t}\\,dt = F(\\omega).$$"
   ]
  },
  {
   "cell_type": "markdown",
   "id": "b33061f9",
   "metadata": {
    "slideshow": {
     "slide_type": "subslide"
    }
   },
   "source": [
    "### The Inverse Fourier Transform\n",
    "\n",
    "Used to convert a function of frequency $F(\\omega)$ to a function of time $f(t)$:\n",
    "\n",
    "$$\\mathcal{F}^{-1}\\left\\{F(\\omega)\\right\\} = \\frac{1}{2\\pi}\\int_{-\\infty}^{\\infty} F(\\omega)e^{j\\omega t}\\,d\\omega = f(t) .$$"
   ]
  },
  {
   "cell_type": "markdown",
   "id": "3b78fd76",
   "metadata": {
    "slideshow": {
     "slide_type": "notes"
    }
   },
   "source": [
    "Note, the factor $2\\pi$ is introduced because we are changing units from radians/second to seconds."
   ]
  },
  {
   "cell_type": "markdown",
   "id": "972c2a4b",
   "metadata": {
    "slideshow": {
     "slide_type": "subslide"
    }
   },
   "source": [
    "### Duality of the transform\n",
    "\n",
    "Note the similarity of the Fourier and its Inverse. \n",
    "\n",
    "This has important consequences in filter design and later when we consider sampled data systems."
   ]
  },
  {
   "cell_type": "markdown",
   "id": "a6d83428",
   "metadata": {
    "slideshow": {
     "slide_type": "slide"
    }
   },
   "source": [
    "## Table of Common Fourier Transform Pairs\n",
    "\n",
    "This table is adapted from Table 8.9 of Karris. See also: [Wikibooks: Engineering Tables/Fourier Transform Table](https://en.wikibooks.org/wiki/Engineering_Tables/Fourier_Transform_Table) and [Fourier Transform&mdash;WolframMathworld](https://mathworld.wolfram.com/FourierTransform.html) for more complete references."
   ]
  },
  {
   "cell_type": "markdown",
   "id": "90647186",
   "metadata": {
    "slideshow": {
     "slide_type": "subslide"
    }
   },
   "source": [
    "|     | **Name**                         | $f(t)$                            | $F(\\omega)$ | **Remarks**                           |\n",
    "|-----| ---------------------------------|-----------------------------------|-------------|---------------------------------------|\n",
    "| 1.  | Dirac delta                      | $\\delta(t)$                       | $1$         | Constant energy at *all* frequencies. |\n",
    "| 2.  | Time sample                      | $\\delta(t-t_0)$                   |  $e^{-j\\omega t_0}$ |  \n",
    "| 3.  | Phase shift                      | $e^{j\\omega_0 t}$                 |  $2\\pi\\delta(\\omega - \\omega_0)$ |  \n",
    "| 4.  | *Signum*                         | $\\operatorname{sgn} t$          |  $\\displaystyle{\\frac{2}{j\\omega}}$ |  also known as sign function\n",
    "| 5.  |  Unit step                       | $u_0(t)$                          |  $\\displaystyle{\\frac{1}{j\\omega}+\\pi\\delta(\\omega)}$ |  \n",
    "| 6.  |  Cosine                          | $\\cos \\omega_0 t$                 |  $\\pi\\left[\\delta(\\omega-\\omega_0)+\\delta(\\omega+\\omega_0)\\right]$ |  \n",
    "| 7.  |  Sine                            | $\\sin \\omega_0 t$                 |  $-j\\pi\\left[\\delta(\\omega-\\omega_0)-\\delta(\\omega+\\omega_0)\\right]$ |  \n",
    "| 8.  |  Single pole                     | $e^{-at}u_0(t)$                   |  $\\displaystyle{\\frac{1}{j\\omega + a}}$ |  $a \\gt 0$ |\n",
    "| 9.  |  Double pole                     | $te^{-at}u_0(t)$                  |  $\\displaystyle{\\frac{1}{(j\\omega + a)^2}}$ |  $a \\gt 0$ |\n",
    "| 10. |  Complex pole (cosine component) | $e^{-at}\\cos \\omega_0 t\\;u_0(t)$  |  $\\displaystyle{\\frac{j\\omega + a}{(j\\omega + a)^2+\\omega_0^2}}$ |  $a\\gt 0$\n",
    "| 11. |  Complex pole (sine component)   | $e^{-a t}\\sin \\omega_0 t\\;u_0(t)$ |  $\\displaystyle{\\frac{\\omega_0}{(j\\omega + a)^2+\\omega_0^2}}$ |  $a\\gt 0$ |"
   ]
  },
  {
   "cell_type": "markdown",
   "id": "4ee516c5",
   "metadata": {
    "slideshow": {
     "slide_type": "slide"
    }
   },
   "source": [
    "## Some Selected Fourier Transforms"
   ]
  },
  {
   "cell_type": "markdown",
   "id": "21501d22",
   "metadata": {
    "slideshow": {
     "slide_type": "subslide"
    }
   },
   "source": [
    "### The Dirac Delta\n",
    "\n",
    "$$\\delta(t) \\Leftrightarrow 1$$\n",
    "\n",
    "![Fourier transform of the Dirac delta](./pictures/ft_delta.png)\n",
    "\n",
    "\n",
    "\n",
    "*Proof*: uses sampling and sifting properties of $\\delta(t)$."
   ]
  },
  {
   "cell_type": "markdown",
   "id": "2e5df404",
   "metadata": {
    "slideshow": {
     "slide_type": "subslide"
    }
   },
   "source": [
    "*MATLAB*:"
   ]
  },
  {
   "cell_type": "code",
   "execution_count": 1,
   "id": "0043dd11",
   "metadata": {
    "slideshow": {
     "slide_type": "fragment"
    }
   },
   "outputs": [
    {
     "name": "stdout",
     "output_type": "stream",
     "text": [
      "ans =\n",
      "1\n"
     ]
    }
   ],
   "source": [
    "format compact \n",
    "syms t omega omega_0 t0;\n",
    "u0(t) = heaviside(t); % useful utility function\n",
    "fourier(dirac(t))"
   ]
  },
  {
   "cell_type": "markdown",
   "id": "ecb9fa9e",
   "metadata": {
    "slideshow": {
     "slide_type": "subslide"
    }
   },
   "source": [
    "Related:\n",
    "\n",
    "$$\\delta(t-t_0) \\Leftrightarrow e^{-j\\omega t_0}$$"
   ]
  },
  {
   "cell_type": "code",
   "execution_count": 2,
   "id": "0020d368",
   "metadata": {
    "slideshow": {
     "slide_type": "fragment"
    }
   },
   "outputs": [
    {
     "name": "stdout",
     "output_type": "stream",
     "text": [
      "ans =\n",
      "exp(-omega*t0*1i)\n"
     ]
    }
   ],
   "source": [
    "fourier(dirac(t - t0),omega)"
   ]
  },
  {
   "cell_type": "markdown",
   "id": "7a6dcd87",
   "metadata": {
    "slideshow": {
     "slide_type": "subslide"
    }
   },
   "source": [
    "### DC\n",
    "\n",
    "$$1 \\Leftrightarrow 2\\pi\\delta(\\omega)$$\n",
    "\n",
    "![Fourier transform of a constant (model of DC)](./pictures/ft_dc.png)"
   ]
  },
  {
   "cell_type": "markdown",
   "id": "2abf86f2",
   "metadata": {
    "slideshow": {
     "slide_type": "subslide"
    }
   },
   "source": [
    "*MATLAB*:"
   ]
  },
  {
   "cell_type": "code",
   "execution_count": 5,
   "id": "a1a27674",
   "metadata": {
    "slideshow": {
     "slide_type": "fragment"
    }
   },
   "outputs": [
    {
     "name": "stdout",
     "output_type": "stream",
     "text": [
      "ans =\n",
      "2*pi*dirac(omega)\n"
     ]
    }
   ],
   "source": [
    "A = sym(1); % take one to be a symbol\n",
    "fourier(A,omega)"
   ]
  },
  {
   "cell_type": "markdown",
   "id": "6af2bd9a",
   "metadata": {
    "slideshow": {
     "slide_type": "subslide"
    }
   },
   "source": [
    "Related by frequency shifting property:\n",
    "\n",
    "$$e^{j\\omega_0 t} \\Leftrightarrow 2\\pi\\delta(\\omega-\\omega_0)$$"
   ]
  },
  {
   "cell_type": "markdown",
   "id": "3e9319d1",
   "metadata": {
    "slideshow": {
     "slide_type": "subslide"
    }
   },
   "source": [
    "### Cosine (Sinewave with even symmetry)\n",
    "\n",
    "$$\\cos(t) = \\frac{1}{2}\\left(e^{j\\omega_0 t}+e^{-j\\omega_0 t}\\right) \\Leftrightarrow \\pi\\delta(\\omega - \\omega_0) + \\pi\\delta(\\omega + \\omega_0)$$\n",
    "\n",
    "![Fourier transform of a cosine signal](./pictures/ft_cos.png)\n",
    "\n",
    "Note: $f(t)$ is real and even. $F(\\omega)$ is also real and even."
   ]
  },
  {
   "cell_type": "markdown",
   "id": "20742917",
   "metadata": {
    "slideshow": {
     "slide_type": "subslide"
    }
   },
   "source": [
    "*MATLAB*:"
   ]
  },
  {
   "cell_type": "code",
   "execution_count": 6,
   "id": "1e7f37d5",
   "metadata": {
    "slideshow": {
     "slide_type": "fragment"
    }
   },
   "outputs": [
    {
     "name": "stdout",
     "output_type": "stream",
     "text": [
      "ans =\n",
      "pi*(dirac(omega - omega_0) + dirac(omega + omega_0))\n"
     ]
    }
   ],
   "source": [
    "fourier(cos(omega_0*t),omega)"
   ]
  },
  {
   "cell_type": "markdown",
   "id": "b2f5e53b",
   "metadata": {
    "slideshow": {
     "slide_type": "subslide"
    }
   },
   "source": [
    "### Sinewave\n",
    "\n",
    "$$\\sin(t) = \\frac{1}{j2}\\left(e^{j\\omega_0 t}-e^{-j\\omega_0 t}\\right) \\Leftrightarrow -j\\pi\\delta(\\omega - \\omega_0) + j\\pi\\delta(\\omega + \\omega_0)$$\n",
    "\n",
    "![Fourier transform of a sinewave signal](./pictures/ft_sin.png)\n",
    "\n",
    "\n",
    "\n",
    "Note: $f(t)$ is real and odd. $F(\\omega)$ is imaginary and odd."
   ]
  },
  {
   "cell_type": "markdown",
   "id": "ed84d118",
   "metadata": {
    "slideshow": {
     "slide_type": "subslide"
    }
   },
   "source": [
    "*MATLAB*:"
   ]
  },
  {
   "cell_type": "code",
   "execution_count": 7,
   "id": "a458d281",
   "metadata": {
    "slideshow": {
     "slide_type": "fragment"
    }
   },
   "outputs": [
    {
     "name": "stdout",
     "output_type": "stream",
     "text": [
      "ans =\n",
      "-pi*(dirac(omega - omega_0) - dirac(omega + omega_0))*1i\n"
     ]
    }
   ],
   "source": [
    "fourier(sin(omega_0*t),omega)"
   ]
  },
  {
   "cell_type": "markdown",
   "id": "3dec15b8",
   "metadata": {
    "slideshow": {
     "slide_type": "subslide"
    }
   },
   "source": [
    "### Signum (Sign)\n",
    "\n",
    "The signum function is a function whose value is equal to\n",
    "\n",
    "$$\\operatorname{sgn} t = \\left\\{ {\\begin{array}{*{20}{c}}\n",
    "  { - 1\\;t < 0} \\\\ \n",
    "  {0\\;x = 0} \\\\ \n",
    "  { + 1\\;t > 0} \n",
    "\\end{array}} \\right.$$"
   ]
  },
  {
   "cell_type": "markdown",
   "id": "6a4285fa",
   "metadata": {
    "slideshow": {
     "slide_type": "subslide"
    }
   },
   "source": [
    "*MATLAB*:"
   ]
  },
  {
   "cell_type": "code",
   "execution_count": 8,
   "id": "eeaa8437",
   "metadata": {
    "slideshow": {
     "slide_type": "fragment"
    }
   },
   "outputs": [
    {
     "name": "stdout",
     "output_type": "stream",
     "text": [
      "ans =\n",
      "-2i/omega\n"
     ]
    }
   ],
   "source": [
    "fourier(sign(t),omega)"
   ]
  },
  {
   "cell_type": "markdown",
   "id": "086ff8b8",
   "metadata": {
    "slideshow": {
     "slide_type": "subslide"
    }
   },
   "source": [
    "The transform is:\n",
    "\n",
    "$$\\operatorname{sgn} t = u_0(t) - u_0(-t) = \\frac{2}{j\\omega}$$\n",
    "\n",
    "![Fourier transform of sgn(t)](./pictures/ft_sgn.png)\n",
    "\n",
    "This function is often used to model a *voltage comparitor* in circuits."
   ]
  },
  {
   "cell_type": "markdown",
   "id": "2b0009f8",
   "metadata": {
    "slideshow": {
     "slide_type": "subslide"
    }
   },
   "source": [
    "### Example 4: Unit Step\n",
    "\n",
    "Use the signum function to show that\n",
    "\n",
    "$$\n",
    "\\mathcal{F}\\left\\{u_0(t))\\right\\} = \\pi\\delta(\\omega)+\\frac{1}{j\\omega}\n",
    "$$"
   ]
  },
  {
   "cell_type": "markdown",
   "id": "604d36c7",
   "metadata": {
    "slideshow": {
     "slide_type": "subslide"
    }
   },
   "source": [
    "#### Clue\n",
    "\n",
    "Define\n",
    "\n",
    "$$\\operatorname{sgn} t = 2 u_0(t) - 1$$\n",
    "\n",
    "![sgn(t) = 2 u_0(t) - 1](./pictures/u_as_sign.png)\n",
    "\n",
    "\n",
    "*Does that help?*"
   ]
  },
  {
   "cell_type": "markdown",
   "id": "4c6a5476",
   "metadata": {
    "slideshow": {
     "slide_type": "notes"
    }
   },
   "source": [
    "<pre style=\"border: 2px solid blue\">\n",
    "\n",
    "\n",
    "\n",
    "\n",
    "\n",
    "\n",
    "\n",
    "\n",
    "\n",
    "\n",
    "\n",
    "\n",
    "\n",
    "\n",
    "\n",
    "</pre>"
   ]
  },
  {
   "cell_type": "markdown",
   "id": "50596372",
   "metadata": {
    "slideshow": {
     "slide_type": "subslide"
    }
   },
   "source": [
    "*MATLAB*:"
   ]
  },
  {
   "cell_type": "code",
   "execution_count": 9,
   "id": "160bbc68",
   "metadata": {
    "slideshow": {
     "slide_type": "fragment"
    }
   },
   "outputs": [
    {
     "name": "stdout",
     "output_type": "stream",
     "text": [
      "ans =\n",
      "pi*dirac(omega) - 1i/omega\n"
     ]
    }
   ],
   "source": [
    "fourier(u0(t),omega)"
   ]
  },
  {
   "cell_type": "markdown",
   "id": "9d8efda8",
   "metadata": {
    "slideshow": {
     "slide_type": "subslide"
    }
   },
   "source": [
    "### Example 5\n",
    "\n",
    "Use the results derived so far to show that \n",
    "\n",
    "$$e^{j\\omega_0 t}u_0(t)\\Leftrightarrow \\pi\\delta(\\omega - \\omega_0) + \\frac{1}{j(\\omega-\\omega_0)}$$\n",
    "\n",
    "Hint: linearity plus frequency shift property."
   ]
  },
  {
   "cell_type": "markdown",
   "id": "576323ac",
   "metadata": {
    "slideshow": {
     "slide_type": "notes"
    }
   },
   "source": [
    "<pre style=\"border: 2px solid blue\">\n",
    "\n",
    "\n",
    "\n",
    "\n",
    "\n",
    "\n",
    "\n",
    "\n",
    "\n",
    "\n",
    "\n",
    "\n",
    "\n",
    "\n",
    "\n",
    "</pre>"
   ]
  },
  {
   "cell_type": "markdown",
   "id": "9216814e",
   "metadata": {
    "slideshow": {
     "slide_type": "subslide"
    }
   },
   "source": [
    "### Example 6\n",
    "\n",
    "Use the results derived so far to show that \n",
    "\n",
    "$$\\sin \\omega_0 t\\; u_0(t)\\Leftrightarrow \\frac{\\pi}{j2}\\left[\\delta(\\omega-\\omega_0)-\\delta(\\omega+\\omega_0)\\right] + \\frac{\\omega_0}{\\omega_0^2 - \\omega^2}$$\n",
    "\n",
    "Hint: Euler's formula plus solution to example 5."
   ]
  },
  {
   "cell_type": "markdown",
   "id": "6d1750ff",
   "metadata": {
    "slideshow": {
     "slide_type": "notes"
    }
   },
   "source": [
    "**Important note**: the equivalent example in Karris (Section 8.4.9 Eq. 8.75 pp 8-23&mdash;8-24) is wrong! \n",
    "\n",
    "See worked solution in OneNote for corrected proof."
   ]
  },
  {
   "cell_type": "markdown",
   "id": "5e40fdee",
   "metadata": {
    "slideshow": {
     "slide_type": "notes"
    }
   },
   "source": [
    "<pre style=\"border: 2px solid blue\">\n",
    "\n",
    "\n",
    "\n",
    "\n",
    "\n",
    "\n",
    "\n",
    "\n",
    "\n",
    "\n",
    "\n",
    "\n",
    "\n",
    "\n",
    "\n",
    "</pre>"
   ]
  },
  {
   "cell_type": "markdown",
   "id": "ad4d7cb1",
   "metadata": {
    "slideshow": {
     "slide_type": "subslide"
    }
   },
   "source": [
    "### Example 7\n",
    "\n",
    "Use the result of Example 3 to determine the Fourier transform of $\\cos\\omega_0 t\\; u_0(t)$."
   ]
  },
  {
   "cell_type": "markdown",
   "id": "7aca0ba6",
   "metadata": {
    "slideshow": {
     "slide_type": "notes"
    }
   },
   "source": [
    "<pre style=\"border: 2px solid blue\">\n",
    "\n",
    "\n",
    "\n",
    "\n",
    "\n",
    "\n",
    "\n",
    "\n",
    "\n",
    "\n",
    "\n",
    "\n",
    "\n",
    "\n",
    "\n",
    "</pre>"
   ]
  },
  {
   "cell_type": "markdown",
   "id": "79b8a1b7",
   "metadata": {
    "slideshow": {
     "slide_type": "subslide"
    }
   },
   "source": [
    "#### Answer\n",
    "\n",
    "$$\\cos\\omega_0 t\\; u_0(t)\\Leftrightarrow \\frac{\\pi}{2}\\left[\\delta(\\omega-\\omega_0)+\\delta(\\omega+\\omega_0)\\right] + \\frac{j\\omega}{\\omega_0^2 - \\omega^2}$$"
   ]
  },
  {
   "cell_type": "markdown",
   "id": "221efb65",
   "metadata": {
    "slideshow": {
     "slide_type": "slide"
    }
   },
   "source": [
    "## Derivation of the Fourier Transform from the Laplace Transform\n",
    "\n",
    "If a signal is a function of time $f(t)$ which is zero for $t\\le 0$, we can obtain the Fourier transform from the Laplace transform by substituting $s$ by $j\\omega$."
   ]
  },
  {
   "cell_type": "markdown",
   "id": "28aa3dff",
   "metadata": {
    "slideshow": {
     "slide_type": "subslide"
    }
   },
   "source": [
    "### Example 8: Single Pole Filter\n",
    "\n",
    "Given that \n",
    "\n",
    "$$\\mathcal{L}\\left\\{e^{-at}u_0(t)\\right\\} = \\frac{1}{s + a}$$\n",
    "\n",
    "Compute \n",
    "\n",
    "$$\\mathcal{F}\\left\\{e^{-at}u_0(t)\\right\\}$$"
   ]
  },
  {
   "cell_type": "markdown",
   "id": "08621952",
   "metadata": {
    "slideshow": {
     "slide_type": "notes"
    }
   },
   "source": [
    "<pre style=\"border: 2px solid blue\">\n",
    "\n",
    "\n",
    "\n",
    "\n",
    "\n",
    "\n",
    "\n",
    "\n",
    "\n",
    "\n",
    "\n",
    "\n",
    "\n",
    "\n",
    "\n",
    "</pre>"
   ]
  },
  {
   "cell_type": "markdown",
   "id": "84e3730a",
   "metadata": {
    "slideshow": {
     "slide_type": "subslide"
    }
   },
   "source": [
    "### Example 9: Complex Pole Pair  cos term\n",
    "\n",
    "Given that \n",
    "\n",
    "$$\\mathcal{L}\\left\\{e^{-at}\\cos\\omega_0 t\\;u_0(t)\\right\\} = \\frac{s+a}{(s + a)^2+\\omega_0^2}$$\n",
    "\n",
    "Compute \n",
    "\n",
    "$$\\mathcal{F}\\left\\{e^{-at}\\cos\\omega_0 t\\;u_0(t)\\right\\}$$"
   ]
  },
  {
   "cell_type": "markdown",
   "id": "37ff5ddb",
   "metadata": {
    "slideshow": {
     "slide_type": "notes"
    }
   },
   "source": [
    "<pre style=\"border: 2px solid blue\">\n",
    "\n",
    "\n",
    "\n",
    "\n",
    "\n",
    "\n",
    "\n",
    "\n",
    "\n",
    "\n",
    "\n",
    "\n",
    "\n",
    "\n",
    "\n",
    "</pre>"
   ]
  },
  {
   "cell_type": "markdown",
   "id": "1f81fc71",
   "metadata": {
    "slideshow": {
     "slide_type": "subslide"
    }
   },
   "source": [
    "## Fourier Transforms of Common Signals\n",
    "\n",
    "We shall conclude this session by computing as many of the the Fourier transform of some common signals as we have time for.\n",
    "\n",
    "* rectangular pulse\n",
    "* triangular pulse\n",
    "* periodic time function\n",
    "* unit impulse train (model of regular sampling)"
   ]
  }
 ],
 "metadata": {
  "celltoolbar": "Slideshow",
  "jupytext": {
   "formats": "ipynb,md:myst"
  },
  "kernelspec": {
   "display_name": "Matlab",
   "language": "matlab",
   "name": "matlab"
  },
  "language_info": {
   "codemirror_mode": "octave",
   "file_extension": ".m",
   "help_links": [
    {
     "text": "MetaKernel Magics",
     "url": "https://metakernel.readthedocs.io/en/latest/source/README.html"
    }
   ],
   "mimetype": "text/x-octave",
   "name": "matlab",
   "version": "0.17.1"
  }
 },
 "nbformat": 4,
 "nbformat_minor": 5
}
