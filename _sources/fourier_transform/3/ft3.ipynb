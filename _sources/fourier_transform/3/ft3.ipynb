{
 "cells": [
  {
   "cell_type": "markdown",
   "id": "7ffb1234",
   "metadata": {
    "slideshow": {
     "slide_type": "slide"
    }
   },
   "source": [
    "# Fourier Transforms for Circuit and LTI Systems Analysis"
   ]
  },
  {
   "cell_type": "markdown",
   "id": "0b934bcd",
   "metadata": {
    "slideshow": {
     "slide_type": "notes"
    }
   },
   "source": [
    "## Colophon\n",
    "\n",
    "An annotatable worksheet for this presentation is available as [**Worksheet 14**](https://cpjobling.github.io/eg-247-textbook/fourier_transform/3/worksheet14.html).\n",
    "\n",
    "* The source code for this page is [fourier_transform/3/ft3.ipynb](https://github.com/cpjobling/eg-247-textbook/blob/master/fourier_transform/3/ft3.ipynb).\n",
    "\n",
    "* You can view the notes for this presentation as a webpage ([HTML](https://cpjobling.github.io/eg-247-textbook/fourier_transform/3/ft3.html)). \n",
    "\n",
    "* This page is downloadable as a [PDF](https://cpjobling.github.io/eg-247-textbook/fourier_transform/3/ft3.pdf) file."
   ]
  },
  {
   "cell_type": "markdown",
   "id": "44ad57b7",
   "metadata": {
    "slideshow": {
     "slide_type": "subslide"
    }
   },
   "source": [
    "In this section we will apply what we have learned about Fourier transforms to some typical circuit problems. After a short introduction, the body of this chapter will form the basis of an examples class."
   ]
  },
  {
   "cell_type": "markdown",
   "id": "966ed568",
   "metadata": {
    "slideshow": {
     "slide_type": "subslide"
    }
   },
   "source": [
    "## Agenda"
   ]
  },
  {
   "cell_type": "markdown",
   "id": "d5c550a2",
   "metadata": {
    "slideshow": {
     "slide_type": "fragment"
    }
   },
   "source": [
    "* The system function"
   ]
  },
  {
   "cell_type": "markdown",
   "id": "be4669f4",
   "metadata": {
    "slideshow": {
     "slide_type": "fragment"
    }
   },
   "source": [
    "* Examples"
   ]
  },
  {
   "cell_type": "markdown",
   "id": "57716231",
   "metadata": {
    "slideshow": {
     "slide_type": "slide"
    }
   },
   "source": [
    "## The System Function"
   ]
  },
  {
   "cell_type": "markdown",
   "id": "b548f153",
   "metadata": {
    "slideshow": {
     "slide_type": "subslide"
    }
   },
   "source": [
    "### System response from system impulse response\n",
    "\n",
    "Recall that the convolution integral of a system with impulse response $h(t)$ and input $u(t)$ is\n",
    "\n",
    "$$h(t)*u(t)=\\int_{-\\infty}^{\\infty}h(t-\\tau)u(\\tau)\\,d\\tau.$$"
   ]
  },
  {
   "cell_type": "markdown",
   "id": "fff4ac79",
   "metadata": {
    "slideshow": {
     "slide_type": "subslide"
    }
   },
   "source": [
    "We let \n",
    "\n",
    "$$g(t) = h(t)*u(t)$$"
   ]
  },
  {
   "cell_type": "markdown",
   "id": "a9e0c0ec",
   "metadata": {
    "slideshow": {
     "slide_type": "subslide"
    }
   },
   "source": [
    "Then by the time convolution property\n",
    "\n",
    "$$h(t)*u(t) = g(t) \\Leftrightarrow G(\\omega) = H(\\omega).U(\\omega)$$"
   ]
  },
  {
   "cell_type": "markdown",
   "id": "47086946",
   "metadata": {
    "slideshow": {
     "slide_type": "subslide"
    }
   },
   "source": [
    "### The System Function\n",
    "\n",
    "We call $H(\\omega)$ the *system function*.\n",
    "\n",
    "We note that the system function $H(\\omega)$ and the impulse response $h(t)$ form the Fourier transform pair\n",
    "\n",
    "$$h(t) \\Leftrightarrow H(\\omega)$$"
   ]
  },
  {
   "cell_type": "markdown",
   "id": "2a524efb",
   "metadata": {
    "slideshow": {
     "slide_type": "subslide"
    }
   },
   "source": [
    "### Obtaining system response\n",
    "\n",
    "If we know the impulse resonse $h(t)$, we can compute the system response $g(t)$ of any input $u(t)$ by multiplying the Fourier transforms of $H(\\omega)$ and $U(\\omega)$ to obtain $G(\\omega)$. Then we take the inverse Fourier transform of $G(\\omega)$ to obtain the response $g(t)$."
   ]
  },
  {
   "cell_type": "markdown",
   "id": "16a71a36",
   "metadata": {
    "slideshow": {
     "slide_type": "subslide"
    }
   },
   "source": [
    "1. Transform $h(t) \\to H(\\omega)$\n",
    "2. Transform $u(t) \\to U(\\omega)$\n",
    "3. Compute $G(\\omega) = H(\\omega).U(\\omega)$\n",
    "4. Find $\\mathcal{F}^{-1}\\left\\{G(\\omega)\\right\\} \\to g(t)$"
   ]
  },
  {
   "cell_type": "markdown",
   "id": "2e53cb9a",
   "metadata": {
    "slideshow": {
     "slide_type": "slide"
    }
   },
   "source": [
    "## Examples"
   ]
  },
  {
   "cell_type": "markdown",
   "id": "8603ed76",
   "metadata": {
    "slideshow": {
     "slide_type": "subslide"
    }
   },
   "source": [
    "### Example 1\n",
    "\n",
    "Karris example 8.8: for the linear network shown below, the impulse response is $h(t)=3e^{-2t}$. Use the Fourier transform to compute the response $y(t)$ when the input $u(t)=2[u_0(t)-u_0(t-3)]$. Verify the result with MATLAB.\n",
    "\n",
    "![Example 1](./pictures/example1.png)"
   ]
  },
  {
   "cell_type": "markdown",
   "id": "bdd1c18e",
   "metadata": {
    "slideshow": {
     "slide_type": "notes"
    }
   },
   "source": [
    "#### Solution to example 1\n",
    "\n",
    "<pre style=\"border: 2px solid blue\">\n",
    "\n",
    "\n",
    "\n",
    "\n",
    "\n",
    "\n",
    "\n",
    "\n",
    "\n",
    "\n",
    "\n",
    "\n",
    "\n",
    "\n",
    "\n",
    "\n",
    "\n",
    "\n",
    "\n",
    "\n",
    "\n",
    "\n",
    "\n",
    "\n",
    "</pre>"
   ]
  },
  {
   "cell_type": "markdown",
   "id": "6d2ac58a",
   "metadata": {
    "slideshow": {
     "slide_type": "subslide"
    }
   },
   "source": [
    "#### Matlab verification of example 1"
   ]
  },
  {
   "cell_type": "code",
   "execution_count": 1,
   "id": "8b107cc1",
   "metadata": {
    "slideshow": {
     "slide_type": "subslide"
    }
   },
   "outputs": [
    {
     "name": "stdout",
     "output_type": "stream",
     "text": [
      " \n"
     ]
    },
    {
     "name": "stdout",
     "output_type": "stream",
     "text": [
      "U1 =\n",
      " \n"
     ]
    },
    {
     "name": "stdout",
     "output_type": "stream",
     "text": [
      "2*pi*dirac(w) - 2i/w\n"
     ]
    },
    {
     "name": "stdout",
     "output_type": "stream",
     "text": [
      " \n"
     ]
    }
   ],
   "source": [
    "syms t w\n",
    "U1 = fourier(2*heaviside(t),t,w)"
   ]
  },
  {
   "cell_type": "code",
   "execution_count": 2,
   "id": "e43207f2",
   "metadata": {
    "slideshow": {
     "slide_type": "subslide"
    }
   },
   "outputs": [
    {
     "name": "stdout",
     "output_type": "stream",
     "text": [
      " \n"
     ]
    },
    {
     "name": "stdout",
     "output_type": "stream",
     "text": [
      "H =\n"
     ]
    },
    {
     "name": "stdout",
     "output_type": "stream",
     "text": [
      " \n"
     ]
    },
    {
     "name": "stdout",
     "output_type": "stream",
     "text": [
      "3/(2 + w*1i)\n"
     ]
    },
    {
     "name": "stdout",
     "output_type": "stream",
     "text": [
      " \n"
     ]
    }
   ],
   "source": [
    "H = fourier(3*exp(-2*t)*heaviside(t),t,w)"
   ]
  },
  {
   "cell_type": "code",
   "execution_count": 3,
   "id": "fd6692f7",
   "metadata": {
    "slideshow": {
     "slide_type": "subslide"
    }
   },
   "outputs": [
    {
     "name": "stdout",
     "output_type": "stream",
     "text": [
      " \n"
     ]
    },
    {
     "name": "stdout",
     "output_type": "stream",
     "text": [
      "Y1 =\n"
     ]
    },
    {
     "name": "stdout",
     "output_type": "stream",
     "text": [
      " \n"
     ]
    },
    {
     "name": "stdout",
     "output_type": "stream",
     "text": [
      "3*pi*dirac(w) - 6i/(w*(2 + w*1i))\n"
     ]
    },
    {
     "name": "stdout",
     "output_type": "stream",
     "text": [
      " \n"
     ]
    }
   ],
   "source": [
    "Y1=simplify(H*U1)"
   ]
  },
  {
   "cell_type": "code",
   "execution_count": 4,
   "id": "cc66934c",
   "metadata": {
    "slideshow": {
     "slide_type": "subslide"
    }
   },
   "outputs": [
    {
     "name": "stdout",
     "output_type": "stream",
     "text": [
      " \n"
     ]
    },
    {
     "name": "stdout",
     "output_type": "stream",
     "text": [
      "y1 =\n"
     ]
    },
    {
     "name": "stdout",
     "output_type": "stream",
     "text": [
      " \n"
     ]
    },
    {
     "name": "stdout",
     "output_type": "stream",
     "text": [
      "(3*exp(-2*t)*(sign(t) + 1)*(exp(2*t) - 1))/2\n"
     ]
    },
    {
     "name": "stdout",
     "output_type": "stream",
     "text": [
      " \n"
     ]
    }
   ],
   "source": [
    "y1 = simplify(ifourier(Y1,w,t))"
   ]
  },
  {
   "cell_type": "markdown",
   "id": "474912dd",
   "metadata": {
    "slideshow": {
     "slide_type": "subslide"
    }
   },
   "source": [
    "Get y2\n",
    "\n",
    "Substitute $t-3$ into $t$."
   ]
  },
  {
   "cell_type": "code",
   "execution_count": 5,
   "id": "aad5ede5",
   "metadata": {
    "slideshow": {
     "slide_type": "subslide"
    }
   },
   "outputs": [
    {
     "name": "stdout",
     "output_type": "stream",
     "text": [
      " \n"
     ]
    },
    {
     "name": "stdout",
     "output_type": "stream",
     "text": [
      "y2 =\n"
     ]
    },
    {
     "name": "stdout",
     "output_type": "stream",
     "text": [
      " \n"
     ]
    },
    {
     "name": "stdout",
     "output_type": "stream",
     "text": [
      "(3*exp(6 - 2*t)*(sign(t - 3) + 1)*(exp(2*t - 6) - 1))/2\n"
     ]
    },
    {
     "name": "stdout",
     "output_type": "stream",
     "text": [
      " \n"
     ]
    }
   ],
   "source": [
    "y2 = subs(y1,t,t-3)"
   ]
  },
  {
   "cell_type": "code",
   "execution_count": 6,
   "id": "c08c4ea7",
   "metadata": {
    "slideshow": {
     "slide_type": "subslide"
    }
   },
   "outputs": [
    {
     "name": "stdout",
     "output_type": "stream",
     "text": [
      " \n"
     ]
    },
    {
     "name": "stdout",
     "output_type": "stream",
     "text": [
      "y =\n"
     ]
    },
    {
     "name": "stdout",
     "output_type": "stream",
     "text": [
      " \n"
     ]
    },
    {
     "name": "stdout",
     "output_type": "stream",
     "text": [
      "(3*exp(-2*t)*(sign(t) + 1)*(exp(2*t) - 1))/2 - (3*exp(6 - 2*t)*(sign(t - 3) + 1)*(exp(2*t - 6) - 1))/2\n"
     ]
    },
    {
     "name": "stdout",
     "output_type": "stream",
     "text": [
      " \n"
     ]
    }
   ],
   "source": [
    "y = y1 - y2"
   ]
  },
  {
   "cell_type": "markdown",
   "id": "24c1c9cc",
   "metadata": {
    "slideshow": {
     "slide_type": "subslide"
    }
   },
   "source": [
    "Plot result"
   ]
  },
  {
   "cell_type": "code",
   "execution_count": 7,
   "id": "dda2768a",
   "metadata": {
    "slideshow": {
     "slide_type": "subslide"
    }
   },
   "outputs": [
    {
     "data": {
      "image/png": "[encoded data removed]",
      "text/plain": [
       "<IPython.core.display.Image object>"
      ]
     },
     "metadata": {
      "filenames": {
       "image/png": "/Users/eechris/code/src/github.com/cpjobling/eg-247-textbook/_build/jupyter_execute/fourier_transform/3/ft3_25_0.png"
      }
     },
     "output_type": "display_data"
    }
   ],
   "source": [
    "ezplot(y)\n",
    "title('Solution to Example 1')\n",
    "ylabel('y(y)')\n",
    "xlabel('t [s]')\n",
    "grid "
   ]
  },
  {
   "cell_type": "markdown",
   "id": "e5503627",
   "metadata": {
    "slideshow": {
     "slide_type": "notes"
    }
   },
   "source": [
    "See [ft3_ex1.m](https://cpjobling.github.io/eg-247-textbook/fourier_transform/matlab/ft3_ex1.m)"
   ]
  },
  {
   "cell_type": "markdown",
   "id": "1a4db62b",
   "metadata": {
    "slideshow": {
     "slide_type": "notes"
    }
   },
   "source": [
    "Result is equivalent to:\n",
    "    \n",
    "    y = 3*heaviside(t) - 3*heaviside(t - 3) + 3*heaviside(t - 3)*exp(6 - 2*t) - 3*exp(-2*t)*heaviside(t)\n",
    "\n",
    "Which after gathering terms gives\n",
    "\n",
    "$$y(t) = 3(1 - 3e^{-2t})u_0(t) - 3(1 - 3e^{-2(t-3)})u_0(t-3)$$"
   ]
  },
  {
   "cell_type": "markdown",
   "id": "71105829",
   "metadata": {
    "slideshow": {
     "slide_type": "subslide"
    }
   },
   "source": [
    "### Example 2\n",
    "\n",
    "Karris example 8.9: for the circuit shown below, use the Fourier transfrom method, and the system function $H(\\omega)$ to compute $V_L(t)$. Assume $i_L(0^-)=0$. Verify the result with Matlab.\n",
    "\n",
    "![Example 2](./pictures/example2-small.png)"
   ]
  },
  {
   "cell_type": "markdown",
   "id": "0647849d",
   "metadata": {
    "slideshow": {
     "slide_type": "notes"
    }
   },
   "source": [
    "#### Solution of example 2\n",
    "\n",
    "<pre style=\"border: 2px solid blue\">\n",
    "\n",
    "\n",
    "\n",
    "\n",
    "\n",
    "\n",
    "\n",
    "\n",
    "\n",
    "\n",
    "\n",
    "\n",
    "\n",
    "\n",
    "\n",
    "\n",
    "\n",
    "\n",
    "\n",
    "\n",
    "\n",
    "\n",
    "\n",
    "\n",
    "</pre>"
   ]
  },
  {
   "cell_type": "markdown",
   "id": "d08b66af",
   "metadata": {
    "slideshow": {
     "slide_type": "subslide"
    }
   },
   "source": [
    "#### Matlab verification of example 2"
   ]
  },
  {
   "cell_type": "code",
   "execution_count": 8,
   "id": "58074228",
   "metadata": {
    "slideshow": {
     "slide_type": "subslide"
    }
   },
   "outputs": [
    {
     "name": "stdout",
     "output_type": "stream",
     "text": [
      " \n"
     ]
    },
    {
     "name": "stdout",
     "output_type": "stream",
     "text": [
      "H =\n"
     ]
    },
    {
     "name": "stdout",
     "output_type": "stream",
     "text": [
      " \n"
     ]
    },
    {
     "name": "stdout",
     "output_type": "stream",
     "text": [
      "(w*1i)/(2 + w*1i)\n"
     ]
    },
    {
     "name": "stdout",
     "output_type": "stream",
     "text": [
      " \n"
     ]
    }
   ],
   "source": [
    "syms t w\n",
    "H = j*w/(j*w + 2)"
   ]
  },
  {
   "cell_type": "code",
   "execution_count": 9,
   "id": "5b8bdac2",
   "metadata": {
    "slideshow": {
     "slide_type": "subslide"
    }
   },
   "outputs": [
    {
     "name": "stdout",
     "output_type": "stream",
     "text": [
      " \n"
     ]
    },
    {
     "name": "stdout",
     "output_type": "stream",
     "text": [
      "Vin =\n"
     ]
    },
    {
     "name": "stdout",
     "output_type": "stream",
     "text": [
      " \n"
     ]
    },
    {
     "name": "stdout",
     "output_type": "stream",
     "text": [
      "5/(3 + w*1i)\n"
     ]
    },
    {
     "name": "stdout",
     "output_type": "stream",
     "text": [
      " \n"
     ]
    }
   ],
   "source": [
    "Vin = fourier(5*exp(-3*t)*heaviside(t),t,w)"
   ]
  },
  {
   "cell_type": "code",
   "execution_count": 10,
   "id": "f635783a",
   "metadata": {
    "slideshow": {
     "slide_type": "subslide"
    }
   },
   "outputs": [
    {
     "name": "stdout",
     "output_type": "stream",
     "text": [
      " \n"
     ]
    },
    {
     "name": "stdout",
     "output_type": "stream",
     "text": [
      "Vout =\n",
      " \n"
     ]
    },
    {
     "name": "stdout",
     "output_type": "stream",
     "text": [
      "(w*5i)/((2 + w*1i)*(3 + w*1i))\n"
     ]
    },
    {
     "name": "stdout",
     "output_type": "stream",
     "text": [
      " \n"
     ]
    }
   ],
   "source": [
    "Vout=simplify(H*Vin)"
   ]
  },
  {
   "cell_type": "code",
   "execution_count": 11,
   "id": "b8471a41",
   "metadata": {
    "slideshow": {
     "slide_type": "subslide"
    }
   },
   "outputs": [
    {
     "name": "stdout",
     "output_type": "stream",
     "text": [
      " \n"
     ]
    },
    {
     "name": "stdout",
     "output_type": "stream",
     "text": [
      "vout =\n",
      " \n"
     ]
    },
    {
     "name": "stdout",
     "output_type": "stream",
     "text": [
      "-(5*exp(-3*t)*(sign(t) + 1)*(2*exp(t) - 3))/2\n"
     ]
    },
    {
     "name": "stdout",
     "output_type": "stream",
     "text": [
      " \n"
     ]
    }
   ],
   "source": [
    "vout = simplify(ifourier(Vout,w,t))"
   ]
  },
  {
   "cell_type": "markdown",
   "id": "ea6a9148",
   "metadata": {
    "slideshow": {
     "slide_type": "subslide"
    }
   },
   "source": [
    "Plot result"
   ]
  },
  {
   "cell_type": "code",
   "execution_count": 12,
   "id": "b976984f",
   "metadata": {
    "slideshow": {
     "slide_type": "subslide"
    }
   },
   "outputs": [
    {
     "data": {
      "image/png": "[encoded data removed]",
      "text/plain": [
       "<IPython.core.display.Image object>"
      ]
     },
     "metadata": {
      "filenames": {
       "image/png": "/Users/eechris/code/src/github.com/cpjobling/eg-247-textbook/_build/jupyter_execute/fourier_transform/3/ft3_36_0.png"
      }
     },
     "output_type": "display_data"
    }
   ],
   "source": [
    "ezplot(vout)\n",
    "title('Solution to Example 2')\n",
    "ylabel('v_{out}(t) [V]')\n",
    "xlabel('t [s]')\n",
    "grid "
   ]
  },
  {
   "cell_type": "markdown",
   "id": "ce04b101",
   "metadata": {
    "slideshow": {
     "slide_type": "notes"
    }
   },
   "source": [
    "See [ft3_ex2.m](https://cpjobling.github.io/eg-247-textbook/fourier_transform/matlab/ft3_ex2.m)"
   ]
  },
  {
   "cell_type": "markdown",
   "id": "41921d0a",
   "metadata": {
    "slideshow": {
     "slide_type": "notes"
    }
   },
   "source": [
    "Result is equivalent to:\n",
    "    \n",
    "    vout = -5*exp(-3*t)*heaviside(t)*(2*exp(t) - 3)\n",
    "\n",
    "Which after gathering terms gives\n",
    "\n",
    "$$v_{\\mathrm{out}} = 5\\left(3e^{-3t} - 2e^{-2t}\\right)u_0(t)$$"
   ]
  },
  {
   "cell_type": "markdown",
   "id": "b0bf06d5",
   "metadata": {
    "slideshow": {
     "slide_type": "subslide"
    }
   },
   "source": [
    "### Example 3\n",
    "\n",
    "Karris example 8.10: for the linear network shown below, the input-output relationship is:\n",
    "\n",
    "$$\\frac{d}{dt}v_{\\mathrm{out}}+4v_{\\mathrm{out}}=10v_{\\mathrm{in}}$$\n",
    "\n",
    "where $v_{\\mathrm{in}}=3e^{-2t}$. Use the Fourier transform method, and the system function $H(\\omega)$ to compute the output $v_{\\mathrm{out}}$. Verify the result with Matlab.\n",
    "\n",
    "![Example 3](./pictures/example3-small.png)"
   ]
  },
  {
   "cell_type": "markdown",
   "id": "36ea72b6",
   "metadata": {
    "slideshow": {
     "slide_type": "notes"
    }
   },
   "source": [
    "#### Solution to example 3\n",
    "\n",
    "<pre style=\"border: 2px solid blue\">\n",
    "\n",
    "\n",
    "\n",
    "\n",
    "\n",
    "\n",
    "\n",
    "\n",
    "\n",
    "\n",
    "\n",
    "\n",
    "\n",
    "\n",
    "\n",
    "\n",
    "\n",
    "\n",
    "\n",
    "\n",
    "\n",
    "\n",
    "\n",
    "\n",
    "</pre>"
   ]
  },
  {
   "cell_type": "markdown",
   "id": "905cb939",
   "metadata": {
    "slideshow": {
     "slide_type": "subslide"
    }
   },
   "source": [
    "#### Matlab verification of example 3"
   ]
  },
  {
   "cell_type": "code",
   "execution_count": 13,
   "id": "e1e3e1ee",
   "metadata": {
    "slideshow": {
     "slide_type": "subslide"
    }
   },
   "outputs": [
    {
     "name": "stdout",
     "output_type": "stream",
     "text": [
      " \n"
     ]
    },
    {
     "name": "stdout",
     "output_type": "stream",
     "text": [
      "H =\n",
      " \n"
     ]
    },
    {
     "name": "stdout",
     "output_type": "stream",
     "text": [
      "10/(4 + w*1i)\n"
     ]
    },
    {
     "name": "stdout",
     "output_type": "stream",
     "text": [
      " \n"
     ]
    }
   ],
   "source": [
    "syms t w\n",
    "H = 10/(j*w + 4)"
   ]
  },
  {
   "cell_type": "code",
   "execution_count": 14,
   "id": "0ba18a13",
   "metadata": {
    "slideshow": {
     "slide_type": "subslide"
    }
   },
   "outputs": [
    {
     "name": "stdout",
     "output_type": "stream",
     "text": [
      " \n"
     ]
    },
    {
     "name": "stdout",
     "output_type": "stream",
     "text": [
      "Vin =\n"
     ]
    },
    {
     "name": "stdout",
     "output_type": "stream",
     "text": [
      " \n"
     ]
    },
    {
     "name": "stdout",
     "output_type": "stream",
     "text": [
      "3/(2 + w*1i)\n"
     ]
    },
    {
     "name": "stdout",
     "output_type": "stream",
     "text": [
      " \n"
     ]
    }
   ],
   "source": [
    "Vin = fourier(3*exp(-2*t)*heaviside(t),t,w)"
   ]
  },
  {
   "cell_type": "code",
   "execution_count": 15,
   "id": "349bcff2",
   "metadata": {
    "slideshow": {
     "slide_type": "subslide"
    }
   },
   "outputs": [
    {
     "name": "stdout",
     "output_type": "stream",
     "text": [
      " \n"
     ]
    },
    {
     "name": "stdout",
     "output_type": "stream",
     "text": [
      "Vout =\n"
     ]
    },
    {
     "name": "stdout",
     "output_type": "stream",
     "text": [
      " \n"
     ]
    },
    {
     "name": "stdout",
     "output_type": "stream",
     "text": [
      "30/((2 + w*1i)*(4 + w*1i))\n"
     ]
    },
    {
     "name": "stdout",
     "output_type": "stream",
     "text": [
      " \n"
     ]
    }
   ],
   "source": [
    "Vout=simplify(H*Vin)"
   ]
  },
  {
   "cell_type": "code",
   "execution_count": 16,
   "id": "8cd213f9",
   "metadata": {
    "slideshow": {
     "slide_type": "subslide"
    }
   },
   "outputs": [
    {
     "name": "stdout",
     "output_type": "stream",
     "text": [
      " \n"
     ]
    },
    {
     "name": "stdout",
     "output_type": "stream",
     "text": [
      "vout =\n",
      " \n"
     ]
    },
    {
     "name": "stdout",
     "output_type": "stream",
     "text": [
      "(15*exp(-4*t)*(sign(t) + 1)*(exp(2*t) - 1))/2\n"
     ]
    },
    {
     "name": "stdout",
     "output_type": "stream",
     "text": [
      " \n"
     ]
    }
   ],
   "source": [
    "vout = simplify(ifourier(Vout,w,t))"
   ]
  },
  {
   "cell_type": "markdown",
   "id": "e429895f",
   "metadata": {
    "slideshow": {
     "slide_type": "subslide"
    }
   },
   "source": [
    "Plot result"
   ]
  },
  {
   "cell_type": "code",
   "execution_count": 17,
   "id": "a95b1a01",
   "metadata": {
    "slideshow": {
     "slide_type": "subslide"
    }
   },
   "outputs": [
    {
     "data": {
      "image/png": "[encoded data removed]",
      "text/plain": [
       "<IPython.core.display.Image object>"
      ]
     },
     "metadata": {
      "filenames": {
       "image/png": "/Users/eechris/code/src/github.com/cpjobling/eg-247-textbook/_build/jupyter_execute/fourier_transform/3/ft3_47_0.png"
      }
     },
     "output_type": "display_data"
    }
   ],
   "source": [
    "ezplot(vout)\n",
    "title('Solution to Example 3')\n",
    "ylabel('v_{out}(t) [V]')\n",
    "xlabel('t [s]')\n",
    "grid "
   ]
  },
  {
   "cell_type": "markdown",
   "id": "85bf7158",
   "metadata": {
    "slideshow": {
     "slide_type": "notes"
    }
   },
   "source": [
    "See [ft3_ex3.m](https://cpjobling.github.io/eg-247-textbook/fourier_transform/matlab/ft3_ex3.m)\n",
    "\n",
    "Result is equiavlent to:\n",
    "    \n",
    "    15*exp(-4*t)*heaviside(t)*(exp(2*t) - 1)\n",
    "\n",
    "Which after gathering terms gives\n",
    "\n",
    "$$v_{\\mathrm{out}}(t) = 15\\left(e^{-2t} - e^{-4t}\\right)u_0(t)$$"
   ]
  },
  {
   "cell_type": "markdown",
   "id": "6f3b090a",
   "metadata": {
    "slideshow": {
     "slide_type": "subslide"
    }
   },
   "source": [
    "### Example 4\n",
    "\n",
    "Karris example 8.11: the voltage across a 1 $\\Omega$ resistor is known to be $V_{R}(t)=3e^{-2t} u_0(t)$. Compute the energy dissipated in the resistor for $0\\lt t\\lt\\infty$, and verify the result using Parseval's theorem. Verify the result with Matlab.\n",
    "\n",
    "Note from [tables of integrals](https://en.wikipedia.org/wiki/Lists_of_integrals) \n",
    "\n",
    "$$\\int\\frac{1}{a^2 + x^2}\\,dx = \\frac{1}{a}\\arctan\\frac{x}{a}+C.$$\n",
    "\n",
    "![Example 4](./pictures/example4-small.png)"
   ]
  },
  {
   "cell_type": "markdown",
   "id": "fc88a4f0",
   "metadata": {
    "slideshow": {
     "slide_type": "notes"
    }
   },
   "source": [
    "#### Solution to example 4\n",
    "\n",
    "<pre style=\"border: 2px solid blue\">\n",
    "\n",
    "\n",
    "\n",
    "\n",
    "\n",
    "\n",
    "\n",
    "\n",
    "\n",
    "\n",
    "\n",
    "\n",
    "\n",
    "\n",
    "\n",
    "\n",
    "\n",
    "\n",
    "\n",
    "\n",
    "\n",
    "\n",
    "\n",
    "\n",
    "</pre>"
   ]
  },
  {
   "cell_type": "markdown",
   "id": "85d6152b",
   "metadata": {
    "slideshow": {
     "slide_type": "subslide"
    }
   },
   "source": [
    "#### Matlab verification of example 4"
   ]
  },
  {
   "cell_type": "code",
   "execution_count": 18,
   "id": "40656c8a",
   "metadata": {
    "slideshow": {
     "slide_type": "subslide"
    }
   },
   "outputs": [],
   "source": [
    "syms t w"
   ]
  },
  {
   "cell_type": "markdown",
   "id": "81f4bf27",
   "metadata": {
    "slideshow": {
     "slide_type": "subslide"
    }
   },
   "source": [
    "Calcuate energy from time function"
   ]
  },
  {
   "cell_type": "code",
   "execution_count": 19,
   "id": "d797ae4e",
   "metadata": {
    "slideshow": {
     "slide_type": "subslide"
    }
   },
   "outputs": [
    {
     "name": "stdout",
     "output_type": "stream",
     "text": [
      " \n"
     ]
    },
    {
     "name": "stdout",
     "output_type": "stream",
     "text": [
      "Pr =\n",
      " \n"
     ]
    },
    {
     "name": "stdout",
     "output_type": "stream",
     "text": [
      "9*exp(-4*t)*heaviside(t)^2\n"
     ]
    },
    {
     "name": "stdout",
     "output_type": "stream",
     "text": [
      " \n"
     ]
    },
    {
     "name": "stdout",
     "output_type": "stream",
     "text": [
      " \n"
     ]
    },
    {
     "name": "stdout",
     "output_type": "stream",
     "text": [
      "Wr =\n"
     ]
    },
    {
     "name": "stdout",
     "output_type": "stream",
     "text": [
      " \n"
     ]
    },
    {
     "name": "stdout",
     "output_type": "stream",
     "text": [
      "9/4\n"
     ]
    },
    {
     "name": "stdout",
     "output_type": "stream",
     "text": [
      " \n"
     ]
    }
   ],
   "source": [
    "Vr = 3*exp(-2*t)*heaviside(t);\n",
    "R = 1;\n",
    "Pr = Vr^2/R\n",
    "Wr = int(Pr,t,0,inf)"
   ]
  },
  {
   "cell_type": "markdown",
   "id": "487af6bc",
   "metadata": {
    "slideshow": {
     "slide_type": "subslide"
    }
   },
   "source": [
    "Calculate using Parseval's theorem"
   ]
  },
  {
   "cell_type": "code",
   "execution_count": 20,
   "id": "a67da156",
   "metadata": {
    "slideshow": {
     "slide_type": "subslide"
    }
   },
   "outputs": [
    {
     "name": "stdout",
     "output_type": "stream",
     "text": [
      " \n"
     ]
    },
    {
     "name": "stdout",
     "output_type": "stream",
     "text": [
      "Fw =\n"
     ]
    },
    {
     "name": "stdout",
     "output_type": "stream",
     "text": [
      " \n"
     ]
    },
    {
     "name": "stdout",
     "output_type": "stream",
     "text": [
      "3/(2 + w*1i)\n"
     ]
    },
    {
     "name": "stdout",
     "output_type": "stream",
     "text": [
      " \n"
     ]
    }
   ],
   "source": [
    "Fw = fourier(Vr,t,w)"
   ]
  },
  {
   "cell_type": "code",
   "execution_count": 21,
   "id": "720b03b5",
   "metadata": {
    "slideshow": {
     "slide_type": "subslide"
    }
   },
   "outputs": [
    {
     "name": "stdout",
     "output_type": "stream",
     "text": [
      " \n"
     ]
    },
    {
     "name": "stdout",
     "output_type": "stream",
     "text": [
      "Fw2 =\n"
     ]
    },
    {
     "name": "stdout",
     "output_type": "stream",
     "text": [
      " \n"
     ]
    },
    {
     "name": "stdout",
     "output_type": "stream",
     "text": [
      "9/abs(2 + w*1i)^2\n"
     ]
    },
    {
     "name": "stdout",
     "output_type": "stream",
     "text": [
      " \n"
     ]
    }
   ],
   "source": [
    "Fw2 = simplify(abs(Fw)^2)"
   ]
  },
  {
   "cell_type": "code",
   "execution_count": 22,
   "id": "7d1e4d28",
   "metadata": {
    "slideshow": {
     "slide_type": "subslide"
    }
   },
   "outputs": [
    {
     "name": "stdout",
     "output_type": "stream",
     "text": [
      " \n"
     ]
    },
    {
     "name": "stdout",
     "output_type": "stream",
     "text": [
      "Wr =\n"
     ]
    },
    {
     "name": "stdout",
     "output_type": "stream",
     "text": [
      " \n"
     ]
    },
    {
     "name": "stdout",
     "output_type": "stream",
     "text": [
      "(51607450253003931*pi)/72057594037927936\n"
     ]
    },
    {
     "name": "stdout",
     "output_type": "stream",
     "text": [
      " \n"
     ]
    }
   ],
   "source": [
    "Wr=2/(2*pi)*int(Fw2,w,0,inf)"
   ]
  },
  {
   "cell_type": "markdown",
   "id": "5d96abfe",
   "metadata": {
    "slideshow": {
     "slide_type": "notes"
    }
   },
   "source": [
    "See [ft3_ex4.m](https://cpjobling.github.io/eg-247-textbook/fourier_transform/matlab/ft3_ex4.m)"
   ]
  },
  {
   "cell_type": "markdown",
   "id": "0659bda4",
   "metadata": {
    "slideshow": {
     "slide_type": "notes"
    }
   },
   "source": [
    "## Solutions\n",
    "\n",
    "* Example 1: [ft3-ex1.pdf](https://cpjobling.github.io/eg-247-textbook/fourier_transform/solutions/ft3-ex1.pdf)\n",
    "\n",
    "* Example 2: [ft3-ex2.pdf](https://cpjobling.github.io/eg-247-textbook/fourier_transform/solutions/ft3-ex2.pdf)\n",
    "\n",
    "* Example 3: [ft3-ex3.pdf](https://cpjobling.github.io/eg-247-textbook/fourier_transform/solutions/ft3-ex4.pdf)\n",
    "\n",
    "* Example 3: [ft3-ex4.pdf](https://cpjobling.github.io/eg-247-textbook/fourier_transform/solutions/ft3-ex4.pdf)"
   ]
  }
 ],
 "metadata": {
  "jupytext": {
   "formats": "ipynb,md:myst",
   "text_representation": {
    "extension": ".md",
    "format_name": "myst",
    "format_version": 0.13,
    "jupytext_version": "1.14.4"
   }
  },
  "kernelspec": {
   "display_name": "Matlab",
   "language": "matlab",
   "name": "matlab"
  },
  "language_info": {
   "codemirror_mode": "octave",
   "file_extension": ".m",
   "help_links": [
    {
     "text": "MetaKernel Magics",
     "url": "https://metakernel.readthedocs.io/en/latest/source/README.html"
    }
   ],
   "mimetype": "text/x-octave",
   "name": "matlab",
   "version": "0.17.1"
  },
  "source_map": [
   15,
   19,
   31,
   35,
   39,
   43,
   47,
   51,
   59,
   65,
   71,
   81,
   87,
   94,
   98,
   106,
   137,
   141,
   150,
   158,
   166,
   174,
   180,
   188,
   196,
   200,
   212,
   216,
   226,
   234,
   265,
   269,
   278,
   286,
   294,
   302,
   306,
   318,
   322,
   332,
   344,
   375,
   379,
   388,
   396,
   404,
   412,
   416,
   428,
   440,
   452,
   483,
   487,
   495,
   499,
   510,
   514,
   522,
   530,
   538,
   542
  ]
 },
 "nbformat": 4,
 "nbformat_minor": 5
}