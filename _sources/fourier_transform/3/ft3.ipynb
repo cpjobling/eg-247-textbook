{
 "cells": [
  {
   "cell_type": "markdown",
   "id": "d068e3fc",
   "metadata": {
    "slideshow": {
     "slide_type": "slide"
    }
   },
   "source": [
    "# Fourier Transforms for Circuit and LTI Systems Analysis"
   ]
  },
  {
   "cell_type": "markdown",
   "id": "90083ba8",
   "metadata": {
    "slideshow": {
     "slide_type": "notes"
    }
   },
   "source": [
    "## Colophon\n",
    "\n",
    "An annotatable worksheet for this presentation is available as [**Worksheet 14**](https://cpjobling.github.io/eg-247-textbook/fourier_transform/3/worksheet14.html).\n",
    "\n",
    "* The source code for this page is [fourier_transform/3/ft3.ipynb](https://github.com/cpjobling/eg-247-textbook/blob/master/fourier_transform/3/ft3.ipynb).\n",
    "\n",
    "* You can view the notes for this presentation as a webpage ([HTML](https://cpjobling.github.io/eg-247-textbook/fourier_transform/3/ft3.html)). \n",
    "\n",
    "* This page is downloadable as a [PDF](https://cpjobling.github.io/eg-247-textbook/fourier_transform/3/ft3.pdf) file."
   ]
  },
  {
   "cell_type": "markdown",
   "id": "6794d04e",
   "metadata": {
    "slideshow": {
     "slide_type": "subslide"
    }
   },
   "source": [
    "In this section we will apply what we have learned about Fourier transforms to some typical circuit problems. After a short introduction, the body of this chapter will form the basis of an examples class."
   ]
  },
  {
   "cell_type": "markdown",
   "id": "ddcb027c",
   "metadata": {
    "slideshow": {
     "slide_type": "subslide"
    }
   },
   "source": [
    "## Agenda"
   ]
  },
  {
   "cell_type": "markdown",
   "id": "4940d964",
   "metadata": {
    "slideshow": {
     "slide_type": "fragment"
    }
   },
   "source": [
    "* The system function"
   ]
  },
  {
   "cell_type": "markdown",
   "id": "2ce28e6f",
   "metadata": {
    "slideshow": {
     "slide_type": "fragment"
    }
   },
   "source": [
    "* Examples"
   ]
  },
  {
   "cell_type": "markdown",
   "id": "f6d7a1f3",
   "metadata": {
    "slideshow": {
     "slide_type": "slide"
    }
   },
   "source": [
    "## The System Function"
   ]
  },
  {
   "cell_type": "markdown",
   "id": "645906d9",
   "metadata": {
    "slideshow": {
     "slide_type": "subslide"
    }
   },
   "source": [
    "### System response from system impulse response\n",
    "\n",
    "Recall that the convolution integral of a system with impulse response $h(t)$ and input $u(t)$ is\n",
    "\n",
    "$$h(t)*u(t)=\\int_{-\\infty}^{\\infty}h(t-\\tau)u(\\tau)\\,d\\tau.$$"
   ]
  },
  {
   "cell_type": "markdown",
   "id": "0791c63f",
   "metadata": {
    "slideshow": {
     "slide_type": "subslide"
    }
   },
   "source": [
    "We let \n",
    "\n",
    "$$g(t) = h(t)*u(t)$$"
   ]
  },
  {
   "cell_type": "markdown",
   "id": "6fd54611",
   "metadata": {
    "slideshow": {
     "slide_type": "subslide"
    }
   },
   "source": [
    "Then by the time convolution property\n",
    "\n",
    "$$h(t)*u(t) = g(t) \\Leftrightarrow G(\\omega) = H(\\omega).U(\\omega)$$"
   ]
  },
  {
   "cell_type": "markdown",
   "id": "d8d74641",
   "metadata": {
    "slideshow": {
     "slide_type": "subslide"
    }
   },
   "source": [
    "### The System Function\n",
    "\n",
    "We call $H(\\omega)$ the *system function*.\n",
    "\n",
    "We note that the system function $H(\\omega)$ and the impulse response $h(t)$ form the Fourier transform pair\n",
    "\n",
    "$$h(t) \\Leftrightarrow H(\\omega)$$"
   ]
  },
  {
   "cell_type": "markdown",
   "id": "06627f8f",
   "metadata": {
    "slideshow": {
     "slide_type": "subslide"
    }
   },
   "source": [
    "### Obtaining system response\n",
    "\n",
    "If we know the impulse resonse $h(t)$, we can compute the system response $g(t)$ of any input $u(t)$ by multiplying the Fourier transforms of $H(\\omega)$ and $U(\\omega)$ to obtain $G(\\omega)$. Then we take the inverse Fourier transform of $G(\\omega)$ to obtain the response $g(t)$."
   ]
  },
  {
   "cell_type": "markdown",
   "id": "e46fc98c",
   "metadata": {
    "slideshow": {
     "slide_type": "subslide"
    }
   },
   "source": [
    "1. Transform $h(t) \\to H(\\omega)$\n",
    "2. Transform $u(t) \\to U(\\omega)$\n",
    "3. Compute $G(\\omega) = H(\\omega).U(\\omega)$\n",
    "4. Find $\\mathcal{F}^{-1}\\left\\{G(\\omega)\\right\\} \\to g(t)$"
   ]
  },
  {
   "cell_type": "markdown",
   "id": "758d0c19",
   "metadata": {
    "slideshow": {
     "slide_type": "slide"
    }
   },
   "source": [
    "## Examples"
   ]
  },
  {
   "cell_type": "markdown",
   "id": "1f581924",
   "metadata": {
    "slideshow": {
     "slide_type": "subslide"
    }
   },
   "source": [
    "### Example 1\n",
    "\n",
    "Karris example 8.8: for the linear network shown below, the impulse response is $h(t)=3e^{-2t}$. Use the Fourier transform to compute the response $y(t)$ when the input $u(t)=2[u_0(t)-u_0(t-3)]$. Verify the result with MATLAB.\n",
    "\n",
    "![Example 1](./pictures/example1.png)"
   ]
  },
  {
   "cell_type": "markdown",
   "id": "62bdf2fa",
   "metadata": {
    "slideshow": {
     "slide_type": "notes"
    }
   },
   "source": [
    "#### Solution to example 1\n",
    "\n",
    "<pre style=\"border: 2px solid blue\">\n",
    "\n",
    "\n",
    "\n",
    "\n",
    "\n",
    "\n",
    "\n",
    "\n",
    "\n",
    "\n",
    "\n",
    "\n",
    "\n",
    "\n",
    "\n",
    "\n",
    "\n",
    "\n",
    "\n",
    "\n",
    "\n",
    "\n",
    "\n",
    "\n",
    "</pre>"
   ]
  },
  {
   "cell_type": "markdown",
   "id": "9e92bfed",
   "metadata": {
    "slideshow": {
     "slide_type": "subslide"
    }
   },
   "source": [
    "#### Matlab verification of example 1"
   ]
  },
  {
   "cell_type": "code",
   "execution_count": 1,
   "id": "a0f751ce",
   "metadata": {},
   "outputs": [],
   "source": [
    "imatlab_export_fig('print-svg')  % Static svg figures."
   ]
  },
  {
   "cell_type": "code",
   "execution_count": 2,
   "id": "7dbc6763",
   "metadata": {
    "slideshow": {
     "slide_type": "subslide"
    }
   },
   "outputs": [
    {
     "name": "stdout",
     "output_type": "stream",
     "text": [
      "U1 =\n"
     ]
    },
    {
     "name": "stdout",
     "output_type": "stream",
     "text": [
      "2*pi*dirac(w) - 2i/w\n"
     ]
    }
   ],
   "source": [
    "syms t w\n",
    "U1 = fourier(2*heaviside(t),t,w)"
   ]
  },
  {
   "cell_type": "code",
   "execution_count": 3,
   "id": "4971befb",
   "metadata": {
    "slideshow": {
     "slide_type": "subslide"
    }
   },
   "outputs": [
    {
     "name": "stdout",
     "output_type": "stream",
     "text": [
      "H =\n"
     ]
    },
    {
     "name": "stdout",
     "output_type": "stream",
     "text": [
      "3/(2 + w*1i)\n"
     ]
    }
   ],
   "source": [
    "H = fourier(3*exp(-2*t)*heaviside(t),t,w)"
   ]
  },
  {
   "cell_type": "code",
   "execution_count": 4,
   "id": "0d600427",
   "metadata": {
    "slideshow": {
     "slide_type": "subslide"
    }
   },
   "outputs": [
    {
     "name": "stdout",
     "output_type": "stream",
     "text": [
      "Y1 =\n"
     ]
    },
    {
     "name": "stdout",
     "output_type": "stream",
     "text": [
      "3*pi*dirac(w) - 6i/(w*(2 + w*1i))\n"
     ]
    }
   ],
   "source": [
    "Y1=simplify(H*U1)"
   ]
  },
  {
   "cell_type": "code",
   "execution_count": 5,
   "id": "cede0eb4",
   "metadata": {
    "slideshow": {
     "slide_type": "subslide"
    }
   },
   "outputs": [
    {
     "name": "stdout",
     "output_type": "stream",
     "text": [
      "y1 =\n"
     ]
    },
    {
     "name": "stdout",
     "output_type": "stream",
     "text": [
      "(3*exp(-2*t)*(sign(t) + 1)*(exp(2*t) - 1))/2\n"
     ]
    }
   ],
   "source": [
    "y1 = simplify(ifourier(Y1,w,t))"
   ]
  },
  {
   "cell_type": "markdown",
   "id": "d6f134d6",
   "metadata": {
    "slideshow": {
     "slide_type": "subslide"
    }
   },
   "source": [
    "Get y2\n",
    "\n",
    "Substitute $t-3$ into $t$."
   ]
  },
  {
   "cell_type": "code",
   "execution_count": 6,
   "id": "dd2ba0cd",
   "metadata": {
    "slideshow": {
     "slide_type": "subslide"
    }
   },
   "outputs": [
    {
     "name": "stdout",
     "output_type": "stream",
     "text": [
      "y2 =\n"
     ]
    },
    {
     "name": "stdout",
     "output_type": "stream",
     "text": [
      "(3*exp(6 - 2*t)*(sign(t - 3) + 1)*(exp(2*t - 6) - 1))/2\n"
     ]
    }
   ],
   "source": [
    "y2 = subs(y1,t,t-3)"
   ]
  },
  {
   "cell_type": "code",
   "execution_count": 7,
   "id": "1a31c0c0",
   "metadata": {
    "slideshow": {
     "slide_type": "subslide"
    }
   },
   "outputs": [
    {
     "name": "stdout",
     "output_type": "stream",
     "text": [
      "y =\n"
     ]
    },
    {
     "name": "stdout",
     "output_type": "stream",
     "text": [
      "(3*exp(-2*t)*(sign(t) + 1)*(exp(2*t) - 1))/2 - (3*exp(6 - 2*t)*(sign(t - 3) + 1)*(exp(2*t - 6) - 1))/2\n"
     ]
    }
   ],
   "source": [
    "y = y1 - y2"
   ]
  },
  {
   "cell_type": "markdown",
   "id": "794288f6",
   "metadata": {
    "slideshow": {
     "slide_type": "subslide"
    }
   },
   "source": [
    "Plot result"
   ]
  },
  {
   "cell_type": "code",
   "execution_count": 8,
   "id": "f365c36a",
   "metadata": {
    "slideshow": {
     "slide_type": "subslide"
    }
   },
   "outputs": [
    {
     "data": {
      "image/svg+xml": [
       "<?xml version=\"1.0\"?>\n",
       "<!DOCTYPE svg PUBLIC '-//W3C//DTD SVG 1.0//EN'\n",
       "          'http://www.w3.org/TR/2001/REC-SVG-20010904/DTD/svg10.dtd'>\n",
       "<svg xmlns:xlink=\"http://www.w3.org/1999/xlink\" style=\"fill-opacity:1; color-rendering:auto; color-interpolation:auto; text-rendering:auto; stroke:black; stroke-linecap:square; stroke-miterlimit:10; shape-rendering:auto; stroke-opacity:1; fill:black; stroke-dasharray:none; font-weight:normal; stroke-width:1; font-family:'Dialog'; font-style:normal; stroke-linejoin:miter; font-size:12px; stroke-dashoffset:0; image-rendering:auto;\" width=\"560\" height=\"420\" xmlns=\"http://www.w3.org/2000/svg\"\n",
       "><!--Generated by the Batik Graphics2D SVG Generator--><defs id=\"genericDefs\"\n",
       "  /><g\n",
       "  ><defs id=\"defs1\"\n",
       "    ><clipPath clipPathUnits=\"userSpaceOnUse\" id=\"clipPath1\"\n",
       "      ><path d=\"M0 0 L560 0 L560 420 L0 420 L0 0 Z\"\n",
       "      /></clipPath\n",
       "      ><font horiz-adv-x=\"50.0\" id=\"font1\"\n",
       "      ><font-face ascent=\"95.200005\" descent=\"21.3\" units-per-em=\"100\" style=\"font-style:normal; font-family:Helvetica Neue; font-weight:normal;\"\n",
       "        /><missing-glyph horiz-adv-x=\"50.0\" d=\"M40.9 66.6 L10.2 66.6 L10.2 4.7 L40.9 4.7 ZM46 71.2 L46 0.1 L5.1 0.1 L5.1 71.2 Z\"\n",
       "        /><glyph unicode=\"0\" horiz-adv-x=\"55.6\" d=\"M13.2 34.9 Q13.2 37.5 13.25 40.65 Q13.3 43.8 13.75 46.95 Q14.2 50.1 15.05 53.1 Q15.9 56.1 17.55 58.35 Q19.2 60.6 21.7 62 Q24.2 63.4 27.8 63.4 Q31.4 63.4 33.9 62 Q36.4 60.6 38.05 58.35 Q39.7 56.1 40.55 53.1 Q41.4 50.1 41.85 46.95 Q42.3 43.8 42.35 40.65 Q42.4 37.5 42.4 34.9 Q42.4 30.9 42.15 25.95 Q41.9 21 40.55 16.65 Q39.2 12.3 36.2 9.3 Q33.2 6.3 27.8 6.3 Q22.4 6.3 19.4 9.3 Q16.4 12.3 15.05 16.65 Q13.7 21 13.45 25.95 Q13.2 30.9 13.2 34.9 ZM4.2 34.8 Q4.2 30.9 4.4 26.7 Q4.6 22.5 5.4 18.5 Q6.2 14.5 7.7 10.95 Q9.2 7.4 11.8 4.7 Q14.4 2 18.35 0.45 Q22.3 -1.1 27.8 -1.1 Q33.4 -1.1 37.3 0.45 Q41.2 2 43.8 4.7 Q46.4 7.4 47.9 10.95 Q49.4 14.5 50.2 18.5 Q51 22.5 51.2 26.7 Q51.4 30.9 51.4 34.8 Q51.4 38.7 51.2 42.9 Q51 47.1 50.2 51.1 Q49.4 55.1 47.9 58.7 Q46.4 62.3 43.8 65 Q41.2 67.7 37.25 69.3 Q33.3 70.9 27.8 70.9 Q22.3 70.9 18.35 69.3 Q14.4 67.7 11.8 65 Q9.2 62.3 7.7 58.7 Q6.2 55.1 5.4 51.1 Q4.6 47.1 4.4 42.9 Q4.2 38.7 4.2 34.8 Z\"\n",
       "        /><glyph unicode=\"1\" horiz-adv-x=\"55.6\" d=\"M35.6 0 L35.6 70.9 L29.1 70.9 Q28.4 66.9 26.5 64.3 Q24.6 61.7 21.85 60.2 Q19.1 58.7 15.7 58.15 Q12.3 57.6 8.7 57.6 L8.7 50.8 L27.1 50.8 L27.1 0 Z\"\n",
       "        /><glyph unicode=\"2\" horiz-adv-x=\"55.6\" d=\"M4.4 45.8 L12.9 45.8 Q12.8 49 13.55 52.15 Q14.3 55.3 16 57.8 Q17.7 60.3 20.35 61.85 Q23 63.4 26.7 63.4 Q29.5 63.4 32 62.5 Q34.5 61.6 36.35 59.9 Q38.2 58.2 39.3 55.85 Q40.4 53.5 40.4 50.6 Q40.4 46.9 39.25 44.1 Q38.1 41.3 35.85 38.9 Q33.6 36.5 30.2 34.15 Q26.8 31.8 22.3 29 Q18.6 26.8 15.2 24.3 Q11.8 21.8 9.1 18.5 Q6.4 15.2 4.65 10.75 Q2.9 6.3 2.4 0 L48.7 0 L48.7 7.5 L12.3 7.5 Q12.9 10.8 14.85 13.35 Q16.8 15.9 19.55 18.1 Q22.3 20.3 25.6 22.25 Q28.9 24.2 32.2 26.2 Q35.5 28.3 38.6 30.6 Q41.7 32.9 44.1 35.75 Q46.5 38.6 47.95 42.2 Q49.4 45.8 49.4 50.5 Q49.4 55.5 47.65 59.3 Q45.9 63.1 42.9 65.65 Q39.9 68.2 35.85 69.55 Q31.8 70.9 27.2 70.9 Q21.6 70.9 17.2 69 Q12.8 67.1 9.85 63.75 Q6.9 60.4 5.5 55.8 Q4.1 51.2 4.4 45.8 Z\"\n",
       "        /><glyph unicode=\"3\" horiz-adv-x=\"55.6\" d=\"M21.8 40.5 L21.8 33.3 Q24.2 33.6 26.9 33.6 Q30.1 33.6 32.85 32.75 Q35.6 31.9 37.6 30.15 Q39.6 28.4 40.8 25.85 Q42 23.3 42 20 Q42 16.8 40.75 14.25 Q39.5 11.7 37.4 9.95 Q35.3 8.2 32.5 7.25 Q29.7 6.3 26.6 6.3 Q19.3 6.3 15.5 10.65 Q11.7 15 11.5 21.9 L3 21.9 Q2.9 16.4 4.55 12.1 Q6.2 7.8 9.3 4.85 Q12.4 1.9 16.8 0.4 Q21.2 -1.1 26.6 -1.1 Q31.6 -1.1 36.05 0.25 Q40.5 1.6 43.8 4.3 Q47.1 7 49.05 11.05 Q51 15.1 51 20.4 Q51 26.8 47.85 31.5 Q44.7 36.2 38.2 37.6 L38.2 37.8 Q42.4 39.7 45.2 43.4 Q48 47.1 48 51.9 Q48 56.8 46.35 60.4 Q44.7 64 41.8 66.3 Q38.9 68.6 34.95 69.75 Q31 70.9 26.4 70.9 Q21.1 70.9 17.05 69.2 Q13 67.5 10.3 64.5 Q7.6 61.5 6.15 57.3 Q4.7 53.1 4.5 48 L13 48 Q13 51.1 13.8 53.9 Q14.6 56.7 16.25 58.8 Q17.9 60.9 20.45 62.15 Q23 63.4 26.4 63.4 Q31.8 63.4 35.4 60.55 Q39 57.7 39 52 Q39 49.2 37.9 47 Q36.8 44.8 34.95 43.35 Q33.1 41.9 30.65 41.15 Q28.2 40.4 25.5 40.4 L23.7 40.4 Q23.2 40.4 22.7 40.4 Q22.3 40.4 21.8 40.5 Z\"\n",
       "        /><glyph unicode=\"4\" horiz-adv-x=\"55.6\" d=\"M33.9 24.1 L10.1 24.1 L33.7 58.8 L33.9 58.8 ZM41.9 24.1 L41.9 70.9 L35.1 70.9 L2.8 24.8 L2.8 16.6 L33.9 16.6 L33.9 0 L41.9 0 L41.9 16.6 L51.5 16.6 L51.5 24.1 Z\"\n",
       "        /><glyph unicode=\"5\" horiz-adv-x=\"55.6\" d=\"M47 62.2 L47 69.7 L12 69.7 L5.4 32.9 L12.7 32.5 Q15.2 35.5 18.45 37.35 Q21.7 39.2 25.9 39.2 Q29.5 39.2 32.45 38 Q35.4 36.8 37.5 34.65 Q39.6 32.5 40.75 29.55 Q41.9 26.6 41.9 23.1 Q41.9 18.9 40.7 15.75 Q39.5 12.6 37.45 10.5 Q35.4 8.4 32.65 7.35 Q29.9 6.3 26.9 6.3 Q23.7 6.3 21.05 7.25 Q18.4 8.2 16.45 9.95 Q14.5 11.7 13.35 14.05 Q12.2 16.4 12 19.1 L3.5 19.1 Q3.6 14.3 5.4 10.5 Q7.2 6.7 10.3 4.15 Q13.4 1.6 17.45 0.25 Q21.5 -1.1 26.1 -1.1 Q32.3 -1.1 36.95 0.85 Q41.6 2.8 44.7 6.1 Q47.8 9.4 49.35 13.65 Q50.9 17.9 50.9 22.4 Q50.9 28.5 49.1 33.05 Q47.3 37.6 44.2 40.65 Q41.1 43.7 36.9 45.2 Q32.7 46.7 28 46.7 Q24.4 46.7 20.75 45.45 Q17.1 44.2 14.8 41.6 L14.6 41.8 L18.4 62.2 Z\"\n",
       "        /><glyph unicode=\"6\" horiz-adv-x=\"55.6\" d=\"M41.4 52.8 L49.9 52.8 Q49.1 61.6 43.9 66.25 Q38.7 70.9 29.9 70.9 Q22.3 70.9 17.3 67.7 Q12.3 64.5 9.3 59.2 Q6.3 53.9 5.05 47.05 Q3.8 40.2 3.8 32.9 Q3.8 27.3 4.65 21.3 Q5.5 15.3 8.1 10.3 Q10.7 5.3 15.5 2.1 Q20.3 -1.1 28.2 -1.1 Q34.9 -1.1 39.45 1.15 Q44 3.4 46.75 6.85 Q49.5 10.3 50.7 14.5 Q51.9 18.7 51.9 22.6 Q51.9 27.5 50.4 31.7 Q48.9 35.9 46.15 39 Q43.4 42.1 39.35 43.85 Q35.3 45.6 30.2 45.6 Q24.4 45.6 19.95 43.4 Q15.5 41.2 12.5 36.3 L12.3 36.5 Q12.4 40.6 13.1 45.3 Q13.8 50 15.65 54.05 Q17.5 58.1 20.8 60.75 Q24.1 63.4 29.5 63.4 Q34.6 63.4 37.7 60.5 Q40.8 57.6 41.4 52.8 ZM28.6 38.1 Q32.2 38.1 34.9 36.8 Q37.6 35.5 39.4 33.35 Q41.2 31.2 42.05 28.25 Q42.9 25.3 42.9 22 Q42.9 18.9 41.95 16.05 Q41 13.2 39.2 11 Q37.4 8.8 34.75 7.55 Q32.1 6.3 28.6 6.3 Q25.1 6.3 22.35 7.55 Q19.6 8.8 17.75 10.9 Q15.9 13 14.9 15.9 Q13.9 18.8 13.9 22.1 Q13.9 25.4 14.85 28.35 Q15.8 31.3 17.7 33.45 Q19.6 35.6 22.3 36.85 Q25 38.1 28.6 38.1 Z\"\n",
       "        /><glyph unicode=\"]\" horiz-adv-x=\"25.9\" d=\"M0 -12.9 L0 -19.7 L18.7 -19.7 L18.7 73.1 L0 73.1 L0 66.3 L10.7 66.3 L10.7 -12.9 Z\"\n",
       "        /><glyph unicode=\"s\" horiz-adv-x=\"50.0\" d=\"M11.6 16.3 L3.1 16.3 Q3.3 11.5 5.1 8.15 Q6.9 4.8 9.9 2.75 Q12.9 0.7 16.8 -0.2 Q20.7 -1.1 25 -1.1 Q28.9 -1.1 32.85 -0.35 Q36.8 0.4 39.95 2.3 Q43.1 4.2 45.05 7.3 Q47 10.4 47 15.1 Q47 18.8 45.55 21.3 Q44.1 23.8 41.75 25.45 Q39.4 27.1 36.35 28.1 Q33.3 29.1 30.1 29.8 Q27.1 30.5 24.1 31.15 Q21.1 31.8 18.7 32.75 Q16.3 33.7 14.75 35.15 Q13.2 36.6 13.2 38.8 Q13.2 40.8 14.2 42.05 Q15.2 43.3 16.8 44.05 Q18.4 44.8 20.35 45.1 Q22.3 45.4 24.2 45.4 Q26.3 45.4 28.35 44.95 Q30.4 44.5 32.1 43.5 Q33.8 42.5 34.9 40.85 Q36 39.2 36.2 36.7 L44.7 36.7 Q44.4 41.4 42.7 44.55 Q41 47.7 38.15 49.55 Q35.3 51.4 31.6 52.15 Q27.9 52.9 23.5 52.9 Q20.1 52.9 16.65 52.05 Q13.2 51.2 10.45 49.45 Q7.7 47.7 5.95 44.9 Q4.2 42.1 4.2 38.2 Q4.2 33.2 6.7 30.4 Q9.2 27.6 12.95 26.05 Q16.7 24.5 21.1 23.65 Q25.5 22.8 29.25 21.75 Q33 20.7 35.5 19 Q38 17.3 38 14 Q38 11.6 36.8 10.05 Q35.6 8.5 33.75 7.7 Q31.9 6.9 29.7 6.6 Q27.5 6.3 25.5 6.3 Q22.9 6.3 20.45 6.8 Q18 7.3 16.05 8.45 Q14.1 9.6 12.9 11.55 Q11.7 13.5 11.6 16.3 Z\"\n",
       "        /><glyph unicode=\"[\" horiz-adv-x=\"25.9\" d=\"M25.9 66.3 L25.9 73.1 L7.2 73.1 L7.2 -19.7 L25.9 -19.7 L25.9 -12.9 L15.2 -12.9 L15.2 66.3 Z\"\n",
       "        /><glyph unicode=\" \" horiz-adv-x=\"27.8\" d=\"\"\n",
       "        /><glyph unicode=\"t\" horiz-adv-x=\"31.5\" d=\"M18.2 51.7 L18.2 67.2 L9.7 67.2 L9.7 51.7 L0.9 51.7 L0.9 44.2 L9.7 44.2 L9.7 11.3 Q9.7 7.7 10.4 5.5 Q11.1 3.3 12.55 2.1 Q14 0.9 16.35 0.45 Q18.7 0 22 0 L28.5 0 L28.5 7.5 L24.6 7.5 Q22.6 7.5 21.35 7.65 Q20.1 7.8 19.4 8.3 Q18.7 8.8 18.45 9.7 Q18.2 10.6 18.2 12.1 L18.2 44.2 L28.5 44.2 L28.5 51.7 Z\"\n",
       "        /><glyph unicode=\".\" horiz-adv-x=\"27.8\" d=\"M8.3 11.1 L8.3 0 L19.4 0 L19.4 11.1 Z\"\n",
       "        /><glyph unicode=\")\" horiz-adv-x=\"25.9\" d=\"M-0.9 -19.7 L5.5 -19.7 Q13.3 -9.4 17.25 2.55 Q21.2 14.5 21.2 26.3 Q21.2 32.9 20.1 38.9 Q19 44.9 16.95 50.65 Q14.9 56.4 12 61.95 Q9.1 67.5 5.5 73.1 L-0.9 73.1 Q6.1 61.6 9.15 50.25 Q12.2 38.9 12.2 26.3 Q12.2 14.1 9.2 2.85 Q6.2 -8.4 -0.9 -19.7 Z\"\n",
       "        /><glyph unicode=\"(\" horiz-adv-x=\"25.9\" d=\"M20.4 -19.7 L26.9 -19.7 Q19.8 -8.2 16.75 3.1 Q13.7 14.4 13.7 27 Q13.7 39.3 16.7 50.5 Q19.7 61.7 26.9 73.1 L20.4 73.1 Q12.6 62.8 8.65 50.8 Q4.7 38.8 4.7 27 Q4.7 20.4 5.8 14.4 Q6.9 8.4 8.95 2.7 Q11 -3 13.9 -8.55 Q16.8 -14.1 20.4 -19.7 Z\"\n",
       "        /><glyph unicode=\"y\" horiz-adv-x=\"50.0\" d=\"M26.7 -6.9 Q25.2 -10.7 23.75 -13.3 Q22.3 -15.9 20.55 -17.55 Q18.8 -19.2 16.65 -19.95 Q14.5 -20.7 11.7 -20.7 Q10.2 -20.7 8.7 -20.5 Q7.2 -20.3 5.8 -19.8 L5.8 -12 Q6.9 -12.5 8.35 -12.85 Q9.8 -13.2 10.8 -13.2 Q13.4 -13.2 15.15 -11.95 Q16.9 -10.7 17.8 -8.4 L21.3 0.3 L0.8 51.7 L10.4 51.7 L25.5 9.4 L25.7 9.4 L40.2 51.7 L49.2 51.7 Z\"\n",
       "      /></font\n",
       "      ><font horiz-adv-x=\"50.0\" id=\"font2\"\n",
       "      ><font-face ascent=\"97.5\" descent=\"21.699999\" units-per-em=\"100\" style=\"font-style:normal; font-family:Helvetica Neue; font-weight:bold;\"\n",
       "        /><missing-glyph horiz-adv-x=\"50.0\" d=\"M39.1 60.7 L11.1 60.7 L11.1 9.5 L39.1 9.5 ZM48.2 69.8 L48.2 0.3 L1.7 0.3 L1.7 69.8 Z\"\n",
       "        /><glyph unicode=\"1\" horiz-adv-x=\"55.6\" d=\"M39.2 0 L39.2 70 L27.9 70 Q27.3 66 25.4 63.3 Q23.5 60.6 20.75 58.95 Q18 57.3 14.55 56.65 Q11.1 56 7.4 56.1 L7.4 45.4 L25 45.4 L25 0 Z\"\n",
       "        /><glyph unicode=\"e\" horiz-adv-x=\"57.4\" d=\"M40.2 31.4 L17.1 31.4 Q17.2 32.9 17.75 34.8 Q18.3 36.7 19.65 38.4 Q21 40.1 23.25 41.25 Q25.5 42.4 28.9 42.4 Q34.1 42.4 36.65 39.6 Q39.2 36.8 40.2 31.4 ZM17.1 22.4 L54.4 22.4 Q54.8 28.4 53.4 33.9 Q52 39.4 48.85 43.7 Q45.7 48 40.8 50.55 Q35.9 53.1 29.3 53.1 Q23.4 53.1 18.55 51 Q13.7 48.9 10.2 45.25 Q6.7 41.6 4.8 36.6 Q2.9 31.6 2.9 25.8 Q2.9 19.8 4.75 14.8 Q6.6 9.8 10 6.2 Q13.4 2.6 18.3 0.65 Q23.2 -1.3 29.3 -1.3 Q38.1 -1.3 44.3 2.7 Q50.5 6.7 53.5 16 L41 16 Q40.3 13.6 37.2 11.45 Q34.1 9.3 29.8 9.3 Q23.8 9.3 20.6 12.4 Q17.4 15.5 17.1 22.4 Z\"\n",
       "        /><glyph unicode=\"p\" horiz-adv-x=\"61.1\" d=\"M31.5 9.3 Q28.1 9.3 25.7 10.7 Q23.3 12.1 21.85 14.35 Q20.4 16.6 19.75 19.6 Q19.1 22.6 19.1 25.7 Q19.1 28.9 19.7 31.9 Q20.3 34.9 21.75 37.2 Q23.2 39.5 25.55 40.95 Q27.9 42.4 31.4 42.4 Q34.8 42.4 37.15 40.95 Q39.5 39.5 41 37.15 Q42.5 34.8 43.15 31.8 Q43.8 28.8 43.8 25.7 Q43.8 22.6 43.2 19.6 Q42.6 16.6 41.15 14.35 Q39.7 12.1 37.35 10.7 Q35 9.3 31.5 9.3 ZM5.4 51.7 L5.4 -18.1 L19.6 -18.1 L19.6 6.4 L19.8 6.4 Q22.4 2.6 26.45 0.65 Q30.5 -1.3 35.3 -1.3 Q41 -1.3 45.25 0.9 Q49.5 3.1 52.35 6.8 Q55.2 10.5 56.6 15.3 Q58 20.1 58 25.3 Q58 30.8 56.6 35.85 Q55.2 40.9 52.3 44.7 Q49.4 48.5 45 50.8 Q40.6 53.1 34.5 53.1 Q29.7 53.1 25.7 51.2 Q21.7 49.3 19.1 45.1 L18.9 45.1 L18.9 51.7 Z\"\n",
       "        /><glyph unicode=\"m\" horiz-adv-x=\"90.6\" d=\"M5.8 51.7 L5.8 0 L20 0 L20 30 Q20 33.8 21.1 36.15 Q22.2 38.5 23.75 39.75 Q25.3 41 26.95 41.45 Q28.6 41.9 29.6 41.9 Q33 41.9 34.75 40.75 Q36.5 39.6 37.25 37.7 Q38 35.8 38.1 33.55 Q38.2 31.3 38.2 29 L38.2 0 L52.4 0 L52.4 28.8 Q52.4 31.2 52.75 33.55 Q53.1 35.9 54.15 37.75 Q55.2 39.6 57.05 40.75 Q58.9 41.9 61.9 41.9 Q64.9 41.9 66.65 40.9 Q68.4 39.9 69.3 38.2 Q70.2 36.5 70.4 34.2 Q70.6 31.9 70.6 29.3 L70.6 0 L84.8 0 L84.8 34.6 Q84.8 39.6 83.4 43.15 Q82 46.7 79.5 48.9 Q77 51.1 73.5 52.1 Q70 53.1 65.9 53.1 Q60.5 53.1 56.55 50.5 Q52.6 47.9 50.3 44.5 Q48.2 49.3 44.15 51.2 Q40.1 53.1 35.2 53.1 Q30.1 53.1 26.15 50.9 Q22.2 48.7 19.4 44.7 L19.2 44.7 L19.2 51.7 Z\"\n",
       "        /><glyph unicode=\"a\" horiz-adv-x=\"57.4\" d=\"M4.8 35.8 Q5.1 40.8 7.3 44.1 Q9.5 47.4 12.9 49.4 Q16.3 51.4 20.55 52.25 Q24.8 53.1 29.1 53.1 Q33 53.1 37 52.55 Q41 52 44.3 50.4 Q47.6 48.8 49.7 45.95 Q51.8 43.1 51.8 38.4 L51.8 11.5 Q51.8 8 52.2 4.8 Q52.6 1.6 53.6 0 L39.2 0 Q38.8 1.2 38.55 2.45 Q38.3 3.7 38.2 5 Q34.8 1.5 30.2 0.1 Q25.6 -1.3 20.8 -1.3 Q17.1 -1.3 13.9 -0.4 Q10.7 0.5 8.3 2.4 Q5.9 4.3 4.55 7.2 Q3.2 10.1 3.2 14.1 Q3.2 18.5 4.75 21.35 Q6.3 24.2 8.75 25.9 Q11.2 27.6 14.35 28.45 Q17.5 29.3 20.7 29.8 Q23.9 30.3 27 30.6 Q30.1 30.9 32.5 31.5 Q34.9 32.1 36.3 33.25 Q37.7 34.4 37.6 36.6 Q37.6 38.9 36.85 40.25 Q36.1 41.6 34.85 42.35 Q33.6 43.1 31.95 43.35 Q30.3 43.6 28.4 43.6 Q24.2 43.6 21.8 41.8 Q19.4 40 19 35.8 ZM37.6 25.3 Q36.7 24.5 35.35 24.05 Q34 23.6 32.45 23.3 Q30.9 23 29.2 22.8 Q27.5 22.6 25.8 22.3 Q24.2 22 22.65 21.5 Q21.1 21 19.95 20.15 Q18.8 19.3 18.1 18 Q17.4 16.7 17.4 14.7 Q17.4 12.8 18.1 11.5 Q18.8 10.2 20 9.45 Q21.2 8.7 22.8 8.4 Q24.4 8.1 26.1 8.1 Q30.3 8.1 32.6 9.5 Q34.9 10.9 36 12.85 Q37.1 14.8 37.35 16.8 Q37.6 18.8 37.6 20 Z\"\n",
       "        /><glyph unicode=\"x\" horiz-adv-x=\"53.7\" d=\"M18.6 27.2 L0 0 L15.9 0 L26.7 16.3 L37.5 0 L53.7 0 L34.6 27.5 L51.6 51.7 L35.9 51.7 L26.9 38.2 L17.8 51.7 L1.6 51.7 Z\"\n",
       "        /><glyph unicode=\"E\" horiz-adv-x=\"64.8\" d=\"M6.9 71.4 L6.9 0 L61.1 0 L61.1 13.2 L22.6 13.2 L22.6 30.7 L57.2 30.7 L57.2 42.9 L22.6 42.9 L22.6 58.2 L60.3 58.2 L60.3 71.4 Z\"\n",
       "        /><glyph unicode=\" \" horiz-adv-x=\"27.8\" d=\"\"\n",
       "        /><glyph unicode=\"n\" horiz-adv-x=\"59.3\" d=\"M5.4 51.7 L5.4 0 L19.6 0 L19.6 27.1 Q19.6 35 22.2 38.45 Q24.8 41.9 30.6 41.9 Q35.7 41.9 37.7 38.75 Q39.7 35.6 39.7 29.2 L39.7 0 L53.9 0 L53.9 31.8 Q53.9 36.6 53.05 40.55 Q52.2 44.5 50.1 47.25 Q48 50 44.35 51.55 Q40.7 53.1 35 53.1 Q30.5 53.1 26.2 51.05 Q21.9 49 19.2 44.5 L18.9 44.5 L18.9 51.7 Z\"\n",
       "        /><glyph unicode=\"i\" horiz-adv-x=\"25.8\" d=\"M20 59.7 L20 71.4 L5.8 71.4 L5.8 59.7 ZM5.8 51.7 L5.8 0 L20 0 L20 51.7 Z\"\n",
       "        /><glyph unicode=\"t\" horiz-adv-x=\"35.2\" d=\"M23.4 51.7 L23.4 67.2 L9.2 67.2 L9.2 51.7 L0.6 51.7 L0.6 42.2 L9.2 42.2 L9.2 11.7 Q9.2 7.8 10.5 5.4 Q11.8 3 14.05 1.7 Q16.3 0.4 19.25 -0.05 Q22.2 -0.5 25.5 -0.5 Q27.6 -0.5 29.8 -0.4 Q32 -0.3 33.8 0 L33.8 11 Q32.8 10.8 31.7 10.7 Q30.6 10.6 29.4 10.6 Q25.8 10.6 24.6 11.8 Q23.4 13 23.4 16.6 L23.4 42.2 L33.8 42.2 L33.8 51.7 Z\"\n",
       "        /><glyph unicode=\"u\" horiz-adv-x=\"59.3\" d=\"M53.9 0 L53.9 51.7 L39.7 51.7 L39.7 24.6 Q39.7 16.7 37.1 13.25 Q34.5 9.8 28.7 9.8 Q23.6 9.8 21.6 12.95 Q19.6 16.1 19.6 22.5 L19.6 51.7 L5.4 51.7 L5.4 19.9 Q5.4 15.1 6.25 11.15 Q7.1 7.2 9.2 4.45 Q11.3 1.7 14.95 0.2 Q18.6 -1.3 24.3 -1.3 Q28.8 -1.3 33.1 0.7 Q37.4 2.7 40.1 7.2 L40.4 7.2 L40.4 0 Z\"\n",
       "        /><glyph unicode=\"l\" horiz-adv-x=\"25.8\" d=\"M5.8 71.4 L5.8 0 L20 0 L20 71.4 Z\"\n",
       "        /><glyph unicode=\"o\" horiz-adv-x=\"61.1\" d=\"M18 25.8 Q18 28.9 18.6 31.9 Q19.2 34.9 20.65 37.2 Q22.1 39.5 24.5 40.95 Q26.9 42.4 30.5 42.4 Q34.1 42.4 36.55 40.95 Q39 39.5 40.45 37.2 Q41.9 34.9 42.5 31.9 Q43.1 28.9 43.1 25.8 Q43.1 22.7 42.5 19.75 Q41.9 16.8 40.45 14.45 Q39 12.1 36.55 10.7 Q34.1 9.3 30.5 9.3 Q26.9 9.3 24.5 10.7 Q22.1 12.1 20.65 14.45 Q19.2 16.8 18.6 19.75 Q18 22.7 18 25.8 ZM3.8 25.8 Q3.8 19.6 5.7 14.6 Q7.6 9.6 11.1 6.05 Q14.6 2.5 19.5 0.6 Q24.4 -1.3 30.5 -1.3 Q36.6 -1.3 41.55 0.6 Q46.5 2.5 50 6.05 Q53.5 9.6 55.4 14.6 Q57.3 19.6 57.3 25.8 Q57.3 32 55.4 37.05 Q53.5 42.1 50 45.65 Q46.5 49.2 41.55 51.15 Q36.6 53.1 30.5 53.1 Q24.4 53.1 19.5 51.15 Q14.6 49.2 11.1 45.65 Q7.6 42.1 5.7 37.05 Q3.8 32 3.8 25.8 Z\"\n",
       "        /><glyph unicode=\"S\" horiz-adv-x=\"64.9\" d=\"M17.6 23.7 L2.4 23.7 Q2.3 17.1 4.8 12.3 Q7.3 7.5 11.55 4.4 Q15.8 1.3 21.35 -0.15 Q26.9 -1.6 32.8 -1.6 Q40.1 -1.6 45.65 0.1 Q51.2 1.8 54.95 4.85 Q58.7 7.9 60.6 12.1 Q62.5 16.3 62.5 21.2 Q62.5 27.2 59.95 31.05 Q57.4 34.9 53.9 37.2 Q50.4 39.5 46.85 40.55 Q43.3 41.6 41.3 42 Q34.6 43.7 30.45 44.8 Q26.3 45.9 23.95 47 Q21.6 48.1 20.8 49.4 Q20 50.7 20 52.8 Q20 55.1 21 56.6 Q22 58.1 23.55 59.1 Q25.1 60.1 27 60.5 Q28.9 60.9 30.8 60.9 Q33.7 60.9 36.15 60.4 Q38.6 59.9 40.5 58.7 Q42.4 57.5 43.55 55.4 Q44.7 53.3 44.9 50.1 L60.1 50.1 Q60.1 56.3 57.75 60.65 Q55.4 65 51.4 67.8 Q47.4 70.6 42.25 71.85 Q37.1 73.1 31.5 73.1 Q26.7 73.1 21.9 71.8 Q17.1 70.5 13.3 67.8 Q9.5 65.1 7.15 61.05 Q4.8 57 4.8 51.5 Q4.8 46.6 6.65 43.15 Q8.5 39.7 11.5 37.4 Q14.5 35.1 18.3 33.65 Q22.1 32.2 26.1 31.2 Q30 30.1 33.8 29.2 Q37.6 28.3 40.6 27.1 Q43.6 25.9 45.45 24.1 Q47.3 22.3 47.3 19.4 Q47.3 16.7 45.9 14.95 Q44.5 13.2 42.4 12.2 Q40.3 11.2 37.9 10.85 Q35.5 10.5 33.4 10.5 Q30.3 10.5 27.4 11.25 Q24.5 12 22.35 13.55 Q20.2 15.1 18.9 17.6 Q17.6 20.1 17.6 23.7 Z\"\n",
       "      /></font\n",
       "    ></defs\n",
       "    ><g style=\"fill:white; stroke:white;\"\n",
       "    ><rect x=\"0\" y=\"0\" width=\"560\" style=\"clip-path:url(#clipPath1); stroke:none;\" height=\"420\"\n",
       "    /></g\n",
       "    ><g style=\"fill:white; text-rendering:optimizeSpeed; color-rendering:optimizeSpeed; image-rendering:optimizeSpeed; shape-rendering:crispEdges; stroke:white; color-interpolation:sRGB;\"\n",
       "    ><rect x=\"0\" width=\"560\" height=\"420\" y=\"0\" style=\"stroke:none;\"\n",
       "      /><path style=\"stroke:none;\" d=\"M73 374 L507 374 L507 31 L73 31 Z\"\n",
       "    /></g\n",
       "    ><g style=\"stroke-linecap:butt; fill-opacity:0.149; fill:rgb(38,38,38); text-rendering:geometricPrecision; image-rendering:optimizeQuality; color-rendering:optimizeQuality; stroke-linejoin:round; stroke:rgb(38,38,38); color-interpolation:linearRGB; stroke-width:0.5; stroke-opacity:0.149;\"\n",
       "    ><line y2=\"31\" style=\"fill:none;\" x1=\"74.0188\" x2=\"74.0188\" y1=\"374\"\n",
       "      /><line y2=\"31\" style=\"fill:none;\" x1=\"144.227\" x2=\"144.227\" y1=\"374\"\n",
       "      /><line y2=\"31\" style=\"fill:none;\" x1=\"214.4353\" x2=\"214.4353\" y1=\"374\"\n",
       "      /><line y2=\"31\" style=\"fill:none;\" x1=\"284.6435\" x2=\"284.6435\" y1=\"374\"\n",
       "      /><line y2=\"31\" style=\"fill:none;\" x1=\"354.8518\" x2=\"354.8518\" y1=\"374\"\n",
       "      /><line y2=\"31\" style=\"fill:none;\" x1=\"425.06\" x2=\"425.06\" y1=\"374\"\n",
       "      /><line y2=\"31\" style=\"fill:none;\" x1=\"495.2683\" x2=\"495.2683\" y1=\"374\"\n",
       "      /><line y2=\"340.1713\" style=\"fill:none;\" x1=\"507\" x2=\"73\" y1=\"340.1713\"\n",
       "      /><line y2=\"294.1664\" style=\"fill:none;\" x1=\"507\" x2=\"73\" y1=\"294.1664\"\n",
       "      /><line y2=\"248.1614\" style=\"fill:none;\" x1=\"507\" x2=\"73\" y1=\"248.1614\"\n",
       "      /><line y2=\"202.1564\" style=\"fill:none;\" x1=\"507\" x2=\"73\" y1=\"202.1564\"\n",
       "      /><line y2=\"156.1514\" style=\"fill:none;\" x1=\"507\" x2=\"73\" y1=\"156.1514\"\n",
       "      /><line y2=\"110.1464\" style=\"fill:none;\" x1=\"507\" x2=\"73\" y1=\"110.1464\"\n",
       "      /><line y2=\"64.1414\" style=\"fill:none;\" x1=\"507\" x2=\"73\" y1=\"64.1414\"\n",
       "      /><line x1=\"73\" x2=\"507\" y1=\"374\" style=\"stroke-linecap:square; fill-opacity:1; fill:none; stroke-opacity:1;\" y2=\"374\"\n",
       "      /><line x1=\"73\" x2=\"507\" y1=\"31\" style=\"stroke-linecap:square; fill-opacity:1; fill:none; stroke-opacity:1;\" y2=\"31\"\n",
       "      /><line x1=\"74.0188\" x2=\"74.0188\" y1=\"374\" style=\"stroke-linecap:square; fill-opacity:1; fill:none; stroke-opacity:1;\" y2=\"369.66\"\n",
       "      /><line x1=\"144.227\" x2=\"144.227\" y1=\"374\" style=\"stroke-linecap:square; fill-opacity:1; fill:none; stroke-opacity:1;\" y2=\"369.66\"\n",
       "      /><line x1=\"214.4353\" x2=\"214.4353\" y1=\"374\" style=\"stroke-linecap:square; fill-opacity:1; fill:none; stroke-opacity:1;\" y2=\"369.66\"\n",
       "      /><line x1=\"284.6435\" x2=\"284.6435\" y1=\"374\" style=\"stroke-linecap:square; fill-opacity:1; fill:none; stroke-opacity:1;\" y2=\"369.66\"\n",
       "      /><line x1=\"354.8518\" x2=\"354.8518\" y1=\"374\" style=\"stroke-linecap:square; fill-opacity:1; fill:none; stroke-opacity:1;\" y2=\"369.66\"\n",
       "      /><line x1=\"425.06\" x2=\"425.06\" y1=\"374\" style=\"stroke-linecap:square; fill-opacity:1; fill:none; stroke-opacity:1;\" y2=\"369.66\"\n",
       "      /><line x1=\"495.2683\" x2=\"495.2683\" y1=\"374\" style=\"stroke-linecap:square; fill-opacity:1; fill:none; stroke-opacity:1;\" y2=\"369.66\"\n",
       "      /><line x1=\"74.0188\" x2=\"74.0188\" y1=\"31\" style=\"stroke-linecap:square; fill-opacity:1; fill:none; stroke-opacity:1;\" y2=\"35.34\"\n",
       "      /><line x1=\"144.227\" x2=\"144.227\" y1=\"31\" style=\"stroke-linecap:square; fill-opacity:1; fill:none; stroke-opacity:1;\" y2=\"35.34\"\n",
       "      /><line x1=\"214.4353\" x2=\"214.4353\" y1=\"31\" style=\"stroke-linecap:square; fill-opacity:1; fill:none; stroke-opacity:1;\" y2=\"35.34\"\n",
       "      /><line x1=\"284.6435\" x2=\"284.6435\" y1=\"31\" style=\"stroke-linecap:square; fill-opacity:1; fill:none; stroke-opacity:1;\" y2=\"35.34\"\n",
       "      /><line x1=\"354.8518\" x2=\"354.8518\" y1=\"31\" style=\"stroke-linecap:square; fill-opacity:1; fill:none; stroke-opacity:1;\" y2=\"35.34\"\n",
       "      /><line x1=\"425.06\" x2=\"425.06\" y1=\"31\" style=\"stroke-linecap:square; fill-opacity:1; fill:none; stroke-opacity:1;\" y2=\"35.34\"\n",
       "      /><line x1=\"495.2683\" x2=\"495.2683\" y1=\"31\" style=\"stroke-linecap:square; fill-opacity:1; fill:none; stroke-opacity:1;\" y2=\"35.34\"\n",
       "    /></g\n",
       "    ><g transform=\"translate(74.0188,378)\" style=\"font-size:10px; fill:rgb(38,38,38); text-rendering:geometricPrecision; image-rendering:optimizeQuality; color-rendering:optimizeQuality; font-family:'Helvetica Neue'; stroke:rgb(38,38,38); color-interpolation:linearRGB;\"\n",
       "    ><text x=\"-3\" xml:space=\"preserve\" y=\"10\" style=\"stroke:none;\"\n",
       "      >0</text\n",
       "    ></g\n",
       "    ><g transform=\"translate(144.227,378)\" style=\"font-size:10px; fill:rgb(38,38,38); text-rendering:geometricPrecision; image-rendering:optimizeQuality; color-rendering:optimizeQuality; font-family:'Helvetica Neue'; stroke:rgb(38,38,38); color-interpolation:linearRGB;\"\n",
       "    ><text x=\"-3\" xml:space=\"preserve\" y=\"10\" style=\"stroke:none;\"\n",
       "      >1</text\n",
       "    ></g\n",
       "    ><g transform=\"translate(214.4353,378)\" style=\"font-size:10px; fill:rgb(38,38,38); text-rendering:geometricPrecision; image-rendering:optimizeQuality; color-rendering:optimizeQuality; font-family:'Helvetica Neue'; stroke:rgb(38,38,38); color-interpolation:linearRGB;\"\n",
       "    ><text x=\"-3\" xml:space=\"preserve\" y=\"10\" style=\"stroke:none;\"\n",
       "      >2</text\n",
       "    ></g\n",
       "    ><g transform=\"translate(284.6435,378)\" style=\"font-size:10px; fill:rgb(38,38,38); text-rendering:geometricPrecision; image-rendering:optimizeQuality; color-rendering:optimizeQuality; font-family:'Helvetica Neue'; stroke:rgb(38,38,38); color-interpolation:linearRGB;\"\n",
       "    ><text x=\"-3\" xml:space=\"preserve\" y=\"10\" style=\"stroke:none;\"\n",
       "      >3</text\n",
       "    ></g\n",
       "    ><g transform=\"translate(354.8518,378)\" style=\"font-size:10px; fill:rgb(38,38,38); text-rendering:geometricPrecision; image-rendering:optimizeQuality; color-rendering:optimizeQuality; font-family:'Helvetica Neue'; stroke:rgb(38,38,38); color-interpolation:linearRGB;\"\n",
       "    ><text x=\"-3\" xml:space=\"preserve\" y=\"10\" style=\"stroke:none;\"\n",
       "      >4</text\n",
       "    ></g\n",
       "    ><g transform=\"translate(425.06,378)\" style=\"font-size:10px; fill:rgb(38,38,38); text-rendering:geometricPrecision; image-rendering:optimizeQuality; color-rendering:optimizeQuality; font-family:'Helvetica Neue'; stroke:rgb(38,38,38); color-interpolation:linearRGB;\"\n",
       "    ><text x=\"-3\" xml:space=\"preserve\" y=\"10\" style=\"stroke:none;\"\n",
       "      >5</text\n",
       "    ></g\n",
       "    ><g transform=\"translate(495.2683,378)\" style=\"font-size:10px; fill:rgb(38,38,38); text-rendering:geometricPrecision; image-rendering:optimizeQuality; color-rendering:optimizeQuality; font-family:'Helvetica Neue'; stroke:rgb(38,38,38); color-interpolation:linearRGB;\"\n",
       "    ><text x=\"-3\" xml:space=\"preserve\" y=\"10\" style=\"stroke:none;\"\n",
       "      >6</text\n",
       "    ></g\n",
       "    ><g transform=\"translate(290.0002,392)\" style=\"font-size:11px; fill:rgb(38,38,38); text-rendering:geometricPrecision; image-rendering:optimizeQuality; color-rendering:optimizeQuality; font-family:'Helvetica Neue'; stroke:rgb(38,38,38); color-interpolation:linearRGB;\"\n",
       "    ><text x=\"-9\" xml:space=\"preserve\" y=\"11\" style=\"stroke:none;\"\n",
       "      >t [s]</text\n",
       "    ></g\n",
       "    ><g style=\"fill:rgb(38,38,38); text-rendering:geometricPrecision; image-rendering:optimizeQuality; color-rendering:optimizeQuality; stroke-linejoin:round; stroke:rgb(38,38,38); color-interpolation:linearRGB; stroke-width:0.5;\"\n",
       "    ><line y2=\"31\" style=\"fill:none;\" x1=\"73\" x2=\"73\" y1=\"374\"\n",
       "      /><line y2=\"31\" style=\"fill:none;\" x1=\"507\" x2=\"507\" y1=\"374\"\n",
       "      /><line y2=\"340.1713\" style=\"fill:none;\" x1=\"73\" x2=\"77.34\" y1=\"340.1713\"\n",
       "      /><line y2=\"294.1664\" style=\"fill:none;\" x1=\"73\" x2=\"77.34\" y1=\"294.1664\"\n",
       "      /><line y2=\"248.1614\" style=\"fill:none;\" x1=\"73\" x2=\"77.34\" y1=\"248.1614\"\n",
       "      /><line y2=\"202.1564\" style=\"fill:none;\" x1=\"73\" x2=\"77.34\" y1=\"202.1564\"\n",
       "      /><line y2=\"156.1514\" style=\"fill:none;\" x1=\"73\" x2=\"77.34\" y1=\"156.1514\"\n",
       "      /><line y2=\"110.1464\" style=\"fill:none;\" x1=\"73\" x2=\"77.34\" y1=\"110.1464\"\n",
       "      /><line y2=\"64.1414\" style=\"fill:none;\" x1=\"73\" x2=\"77.34\" y1=\"64.1414\"\n",
       "      /><line y2=\"340.1713\" style=\"fill:none;\" x1=\"507\" x2=\"502.66\" y1=\"340.1713\"\n",
       "      /><line y2=\"294.1664\" style=\"fill:none;\" x1=\"507\" x2=\"502.66\" y1=\"294.1664\"\n",
       "      /><line y2=\"248.1614\" style=\"fill:none;\" x1=\"507\" x2=\"502.66\" y1=\"248.1614\"\n",
       "      /><line y2=\"202.1564\" style=\"fill:none;\" x1=\"507\" x2=\"502.66\" y1=\"202.1564\"\n",
       "      /><line y2=\"156.1514\" style=\"fill:none;\" x1=\"507\" x2=\"502.66\" y1=\"156.1514\"\n",
       "      /><line y2=\"110.1464\" style=\"fill:none;\" x1=\"507\" x2=\"502.66\" y1=\"110.1464\"\n",
       "      /><line y2=\"64.1414\" style=\"fill:none;\" x1=\"507\" x2=\"502.66\" y1=\"64.1414\"\n",
       "    /></g\n",
       "    ><g transform=\"translate(69,340.1713)\" style=\"font-size:10px; fill:rgb(38,38,38); text-rendering:geometricPrecision; image-rendering:optimizeQuality; color-rendering:optimizeQuality; font-family:'Helvetica Neue'; stroke:rgb(38,38,38); color-interpolation:linearRGB;\"\n",
       "    ><text x=\"-6\" xml:space=\"preserve\" y=\"3.5\" style=\"stroke:none;\"\n",
       "      >0</text\n",
       "    ></g\n",
       "    ><g transform=\"translate(69,294.1664)\" style=\"font-size:10px; fill:rgb(38,38,38); text-rendering:geometricPrecision; image-rendering:optimizeQuality; color-rendering:optimizeQuality; font-family:'Helvetica Neue'; stroke:rgb(38,38,38); color-interpolation:linearRGB;\"\n",
       "    ><text x=\"-14\" xml:space=\"preserve\" y=\"3.5\" style=\"stroke:none;\"\n",
       "      >0.5</text\n",
       "    ></g\n",
       "    ><g transform=\"translate(69,248.1614)\" style=\"font-size:10px; fill:rgb(38,38,38); text-rendering:geometricPrecision; image-rendering:optimizeQuality; color-rendering:optimizeQuality; font-family:'Helvetica Neue'; stroke:rgb(38,38,38); color-interpolation:linearRGB;\"\n",
       "    ><text x=\"-6\" xml:space=\"preserve\" y=\"3.5\" style=\"stroke:none;\"\n",
       "      >1</text\n",
       "    ></g\n",
       "    ><g transform=\"translate(69,202.1564)\" style=\"font-size:10px; fill:rgb(38,38,38); text-rendering:geometricPrecision; image-rendering:optimizeQuality; color-rendering:optimizeQuality; font-family:'Helvetica Neue'; stroke:rgb(38,38,38); color-interpolation:linearRGB;\"\n",
       "    ><text x=\"-14\" xml:space=\"preserve\" y=\"3.5\" style=\"stroke:none;\"\n",
       "      >1.5</text\n",
       "    ></g\n",
       "    ><g transform=\"translate(69,156.1514)\" style=\"font-size:10px; fill:rgb(38,38,38); text-rendering:geometricPrecision; image-rendering:optimizeQuality; color-rendering:optimizeQuality; font-family:'Helvetica Neue'; stroke:rgb(38,38,38); color-interpolation:linearRGB;\"\n",
       "    ><text x=\"-6\" xml:space=\"preserve\" y=\"3.5\" style=\"stroke:none;\"\n",
       "      >2</text\n",
       "    ></g\n",
       "    ><g transform=\"translate(69,110.1464)\" style=\"font-size:10px; fill:rgb(38,38,38); text-rendering:geometricPrecision; image-rendering:optimizeQuality; color-rendering:optimizeQuality; font-family:'Helvetica Neue'; stroke:rgb(38,38,38); color-interpolation:linearRGB;\"\n",
       "    ><text x=\"-14\" xml:space=\"preserve\" y=\"3.5\" style=\"stroke:none;\"\n",
       "      >2.5</text\n",
       "    ></g\n",
       "    ><g transform=\"translate(69,64.1414)\" style=\"font-size:10px; fill:rgb(38,38,38); text-rendering:geometricPrecision; image-rendering:optimizeQuality; color-rendering:optimizeQuality; font-family:'Helvetica Neue'; stroke:rgb(38,38,38); color-interpolation:linearRGB;\"\n",
       "    ><text x=\"-6\" xml:space=\"preserve\" y=\"3.5\" style=\"stroke:none;\"\n",
       "      >3</text\n",
       "    ></g\n",
       "    ><g transform=\"translate(52,202.4998) rotate(-90)\" style=\"font-size:11px; fill:rgb(38,38,38); text-rendering:geometricPrecision; image-rendering:optimizeQuality; color-rendering:optimizeQuality; font-family:'Helvetica Neue'; stroke:rgb(38,38,38); color-interpolation:linearRGB;\"\n",
       "    ><text x=\"-8.5\" xml:space=\"preserve\" y=\"-3\" style=\"stroke:none;\"\n",
       "      >y(y)</text\n",
       "    ></g\n",
       "    ><g transform=\"translate(290.0003,28.25)\" style=\"font-size:11px; text-rendering:geometricPrecision; image-rendering:optimizeQuality; color-rendering:optimizeQuality; font-family:'Helvetica Neue'; color-interpolation:linearRGB; font-weight:bold;\"\n",
       "    ><text x=\"-57.5\" xml:space=\"preserve\" y=\"-3\" style=\"stroke:none;\"\n",
       "      >Solution to Example 1</text\n",
       "    ></g\n",
       "    ><g style=\"stroke-linecap:butt; fill:rgb(0,114,189); text-rendering:geometricPrecision; image-rendering:optimizeQuality; color-rendering:optimizeQuality; stroke-linejoin:round; stroke:rgb(0,114,189); color-interpolation:linearRGB; stroke-width:0.5;\"\n",
       "    ><path d=\"M73 340.1713 L74.0023 340.1713 L75.0046 332.5273 L76.0069 324.9726 L77.0092 317.6306 L78.0116 310.4952 L79.0139 303.5606 L80.0162 296.8213 L81.0185 290.2717 L82.0208 283.9064 L83.0231 277.7203 L84.0254 271.7083 L85.0277 265.8656 L86.03 260.1873 L87.0323 254.6689 L88.0346 249.3058 L89.0369 244.0936 L90.0393 239.0282 L91.0416 234.1054 L92.0439 229.3211 L93.0462 224.6715 L94.0485 220.1528 L95.0508 215.7613 L96.0531 211.4934 L97.0554 207.3456 L98.0577 203.3146 L99.06 199.3971 L100.0624 195.5898 L101.0647 191.8897 L102.067 188.2937 L103.0693 184.799 L104.0716 181.4027 L105.0739 178.1019 L106.0762 174.8941 L107.0785 171.7765 L108.0808 168.7467 L109.0831 165.8022 L110.0854 162.9406 L111.0878 160.1595 L112.0901 157.4568 L113.0924 154.83 L114.0947 152.2773 L115.097 149.7964 L116.0993 147.3853 L117.1016 145.0421 L118.1039 142.7648 L119.1062 140.5517 L120.1085 138.4008 L121.1109 136.3105 L122.1132 134.2791 L123.1155 132.3048 L124.1178 130.3861 L125.1201 128.5214 L126.1224 126.7092 L127.1247 124.948 L128.127 123.2363 L129.1293 121.5729 L130.1316 119.9563 L131.1339 118.3851 L132.1363 116.8583 L133.1386 115.3743 L134.1409 113.9322 L135.1432 112.5307 L136.1455 111.1686 L137.1478 109.8448 L138.1501 108.5583 L139.1524 107.308 L140.1547 106.093 L141.157 104.9121 L142.1593 103.7644 L143.1617 102.6491 L144.164 101.5652 L145.1663 100.5117 L146.1686 99.488 L147.1709 98.493 L148.1732 97.526 L149.1755 96.5863 L150.1778 95.673 L151.1801 94.7855 L152.1824 93.9229 L153.1848 93.0845 L154.1871 92.2698 L155.1894 91.4781 L156.1917 90.7086 L157.194 89.9607 L158.1963 89.234 L159.1986 88.5276 L160.2009 87.8412 L161.2032 87.1741 L162.2056 86.5257 L163.2079 85.8956 L164.2102 85.2833 L165.2125 84.6882 L166.2148 84.1098 L167.2171 83.5477 L168.2194 83.0015 L169.2217 82.4706 L170.224 81.9546 L171.2263 81.4532 L172.2286 80.9659 L173.2309 80.4923 L174.2333 80.0321 L175.2356 79.5847 L176.2379 79.15 L177.2402 78.7276 L178.2425 78.317 L179.2448 77.918 L180.2471 77.5302 L181.2494 77.1533 L182.2517 76.787 L183.254 76.4311 L184.2563 76.0851 L185.2587 75.7489 L186.261 75.4222 L187.2633 75.1047 L188.2656 74.7961 L189.2679 74.4961 L190.2702 74.2047 L191.2725 73.9214 L192.2748 73.6461 L193.2771 73.3786 L194.2794 73.1185 L195.2818 72.8659 L196.2841 72.6203 L197.2864 72.3816 L198.2887 72.1497 L199.291 71.9242 L200.2933 71.7052 L201.2956 71.4922 L202.2979 71.2853 L203.3002 71.0842 L204.3025 70.8888 L205.3048 70.6989 L206.3072 70.5143 L207.3095 70.3349 L208.3118 70.1606 L209.3141 69.9911 L210.3164 69.8265 L211.3187 69.6664 L212.321 69.5109 L213.3233 69.3598 L214.3256 69.2129 L215.3279 69.0701 L216.3302 68.9314 L217.3326 68.7966 L218.3349 68.6655 L219.3372 68.5382 L220.3395 68.4144 L221.3418 68.2941 L222.3441 68.1772 L223.3464 68.0636 L224.3487 67.9532 L225.351 67.8459 L226.3533 67.7417 L227.3557 67.6403 L228.358 67.5418 L229.3603 67.4461 L230.3626 67.3531 L231.3649 67.2627 L232.3672 67.1748 L233.3695 67.0894 L234.3718 67.0064 L235.3741 66.9258 L236.3764 66.8474 L237.3788 66.7712 L238.3811 66.6972 L239.3834 66.6253 L240.3857 66.5554 L241.388 66.4874 L242.3903 66.4214 L243.3926 66.3572 L244.3949 66.2948 L245.3972 66.2342 L246.3995 66.1753 L247.4018 66.118 L248.4042 66.0624 L249.4065 66.0083 L250.4088 65.9558 L251.4111 65.9047 L252.4134 65.8551 L253.4157 65.8068 L254.418 65.7599 L255.4203 65.7144 L256.4226 65.6701 L257.425 65.6271 L258.4272 65.5853 L259.4296 65.5446 L260.4319 65.5051 L261.4342 65.4667 L262.4365 65.4294 L263.4388 65.3932 L264.4411 65.3579 L265.4434 65.3237 L266.4457 65.2904 L267.4481 65.2581 L268.4503 65.2266 L269.4526 65.1961 L270.455 65.1664 L271.4573 65.1376 L272.4596 65.1095 L273.4619 65.0823 L274.4642 65.0558 L275.4665 65.03 L276.4688 65.005 L277.4711 64.9807 L278.4734 64.9571 L279.4757 64.9341 L280.4781 64.9118 L281.4804 64.8901 L282.4827 64.869 L283.485 64.8486 L284.4873 64.8287 L285.4896 71.3826 L286.4919 78.9487 L287.4942 86.3017 L288.4966 93.4478 L289.4988 100.3928 L290.5012 107.1422 L291.5034 113.7017 L292.5058 120.0765 L293.5081 126.2719 L294.5104 132.2929 L295.5127 138.1444 L296.515 143.8312 L297.5173 149.3579 L298.5196 154.7291 L299.5219 159.949 L300.5243 165.022 L301.5266 169.9523 L302.5289 174.7437 L303.5312 179.4003 L304.5335 183.9258 L305.5358 188.3239 L306.5381 192.5982 L307.5404 196.7522 L308.5427 200.7893 L309.545 204.7127 L310.5473 208.5257 L311.5497 212.2313 L312.552 215.8327 L313.5543 219.3326 L314.5566 222.7341 L315.5589 226.0398 L316.5612 229.2525 L317.5635 232.3747 L318.5658 235.409 L319.5681 238.3579 L320.5704 241.2238 L321.5728 244.0091 L322.575 246.7159 L323.5774 249.3466 L324.5797 251.9032 L325.582 254.3878 L326.5843 256.8025 L327.5866 259.1492 L328.5889 261.4299 L329.5912 263.6464 L330.5935 265.8004 L331.5959 267.8939 L332.5981 269.9284 L333.6005 271.9057 L334.6028 273.8272 L335.6051 275.6948 L336.6074 277.5097 L337.6097 279.2735 L338.612 280.9877 L339.6143 282.6537 L340.6166 284.2727 L341.6189 285.8462 L342.6212 287.3754 L343.6235 288.8615 L344.6259 290.3058 L345.6282 291.7094 L346.6305 293.0736 L347.6328 294.3993 L348.6351 295.6877 L349.6374 296.9399 L350.6397 298.1568 L351.642 299.3395 L352.6443 300.4888 L353.6466 301.6058 L354.649 302.6914 L355.6513 303.7464 L356.6536 304.7717 L357.6559 305.7682 L358.6582 306.7366 L359.6605 307.6777 L360.6628 308.5924 L361.6651 309.4813 L362.6674 310.3452 L363.6697 311.1848 L364.6721 312.0007 L365.6743 312.7937 L366.6767 313.5643 L367.679 314.3133 L368.6813 315.0411 L369.6836 315.7485 L370.6859 316.436 L371.6882 317.1041 L372.6905 317.7534 L373.6928 318.3845 L374.6951 318.9977 L375.6975 319.5937 L376.6998 320.173 L377.7021 320.7359 L378.7044 321.283 L379.7067 321.8147 L380.709 322.3314 L381.7113 322.8336 L382.7136 323.3216 L383.7159 323.7959 L384.7183 324.2568 L385.7206 324.7048 L386.7228 325.1402 L387.7252 325.5633 L388.7275 325.9745 L389.7298 326.3741 L390.7321 326.7625 L391.7344 327.1399 L392.7367 327.5067 L393.739 327.8632 L394.7413 328.2097 L395.7437 328.5464 L396.746 328.8736 L397.7483 329.1916 L398.7506 329.5007 L399.7529 329.8011 L400.7552 330.093 L401.7575 330.3766 L402.7598 330.6524 L403.7621 330.9203 L404.7644 331.1807 L405.7668 331.4338 L406.769 331.6797 L407.7714 331.9188 L408.7737 332.1511 L409.776 332.3768 L410.7783 332.5962 L411.7806 332.8095 L412.7829 333.0167 L413.7852 333.2181 L414.7875 333.4138 L415.7898 333.604 L416.7921 333.7889 L417.7945 333.9685 L418.7968 334.1432 L419.7991 334.3128 L420.8014 334.4778 L421.8037 334.638 L422.806 334.7938 L423.8083 334.9451 L424.8106 335.0923 L425.8129 335.2352 L426.8152 335.3742 L427.8175 335.5092 L428.8199 335.6404 L429.8222 335.768 L430.8245 335.8919 L431.8268 336.0124 L432.8291 336.1295 L433.8314 336.2432 L434.8337 336.3538 L435.836 336.4612 L436.8383 336.5657 L437.8407 336.6672 L438.843 336.7658 L439.8452 336.8617 L440.8476 336.9548 L441.8499 337.0454 L442.8522 337.1334 L443.8545 337.2189 L444.8568 337.302 L445.8591 337.3828 L446.8614 337.4613 L447.8637 337.5375 L448.866 337.6117 L449.8684 337.6837 L450.8707 337.7538 L451.873 337.8218 L452.8753 337.8879 L453.8776 337.9522 L454.8799 338.0147 L455.8822 338.0754 L456.8845 338.1344 L457.8868 338.1917 L458.8892 338.2474 L459.8914 338.3016 L460.8938 338.3542 L461.8961 338.4054 L462.8984 338.4551 L463.9007 338.5034 L464.903 338.5504 L465.9053 338.596 L466.9076 338.6403 L467.9099 338.6834 L468.9122 338.7253 L469.9146 338.766 L470.9169 338.8056 L471.9192 338.844 L472.9215 338.8814 L473.9238 338.9177 L474.9261 338.953 L475.9284 338.9873 L476.9307 339.0206 L477.933 339.053 L478.9353 339.0845 L479.9377 339.1151 L480.9399 339.1448 L481.9423 339.1737 L482.9446 339.2018 L483.9469 339.2291 L484.9492 339.2556 L485.9515 339.2814 L486.9538 339.3064 L487.9561 339.3308 L488.9584 339.3544 L489.9607 339.3774 L490.9631 339.3998 L491.9654 339.4215 L492.9677 339.4426 L493.97 339.4631 L494.9723 339.483 L495.9746 339.5024 L496.9769 339.5212 L497.9792 339.5396 L498.9815 339.5573 L499.9838 339.5746 L500.9861 339.5914 L501.9884 339.6077 L502.9908 339.6236 L503.9931 339.639 L504.9954 339.654 L505.9977 339.6686 L507 339.6827\" style=\"fill:none; fill-rule:evenodd;\"\n",
       "    /></g\n",
       "  ></g\n",
       "></svg\n",
       ">\n"
      ]
     },
     "metadata": {
      "filenames": {
       "image/svg+xml": "/Users/eechris/code/src/github.com/cpjobling/eg-247-textbook/_build/jupyter_execute/fourier_transform/3/ft3_26_0.svg"
      }
     },
     "output_type": "display_data"
    }
   ],
   "source": [
    "ezplot(y)\n",
    "title('Solution to Example 1')\n",
    "ylabel('y(y)')\n",
    "xlabel('t [s]')\n",
    "grid "
   ]
  },
  {
   "cell_type": "markdown",
   "id": "46e459de",
   "metadata": {
    "slideshow": {
     "slide_type": "notes"
    }
   },
   "source": [
    "See [ft3_ex1.m](https://cpjobling.github.io/eg-247-textbook/fourier_transform/matlab/ft3_ex1.m)"
   ]
  },
  {
   "cell_type": "markdown",
   "id": "75d09a7a",
   "metadata": {
    "slideshow": {
     "slide_type": "notes"
    }
   },
   "source": [
    "Result is equivalent to:\n",
    "    \n",
    "    y = 3*heaviside(t) - 3*heaviside(t - 3) + 3*heaviside(t - 3)*exp(6 - 2*t) - 3*exp(-2*t)*heaviside(t)\n",
    "\n",
    "Which after gathering terms gives\n",
    "\n",
    "$$y(t) = 3(1 - 3e^{-2t})u_0(t) - 3(1 - 3e^{-2(t-3)})u_0(t-3)$$"
   ]
  },
  {
   "cell_type": "markdown",
   "id": "6e566ebb",
   "metadata": {
    "slideshow": {
     "slide_type": "subslide"
    }
   },
   "source": [
    "### Example 2\n",
    "\n",
    "Karris example 8.9: for the circuit shown below, use the Fourier transfrom method, and the system function $H(\\omega)$ to compute $V_L(t)$. Assume $i_L(0^-)=0$. Verify the result with Matlab.\n",
    "\n",
    "![Example 2](./pictures/example2-small.png)"
   ]
  },
  {
   "cell_type": "markdown",
   "id": "182b4d7c",
   "metadata": {
    "slideshow": {
     "slide_type": "notes"
    }
   },
   "source": [
    "#### Solution of example 2\n",
    "\n",
    "<pre style=\"border: 2px solid blue\">\n",
    "\n",
    "\n",
    "\n",
    "\n",
    "\n",
    "\n",
    "\n",
    "\n",
    "\n",
    "\n",
    "\n",
    "\n",
    "\n",
    "\n",
    "\n",
    "\n",
    "\n",
    "\n",
    "\n",
    "\n",
    "\n",
    "\n",
    "\n",
    "\n",
    "</pre>"
   ]
  },
  {
   "cell_type": "markdown",
   "id": "ce5294ca",
   "metadata": {
    "slideshow": {
     "slide_type": "subslide"
    }
   },
   "source": [
    "#### Matlab verification of example 2"
   ]
  },
  {
   "cell_type": "code",
   "execution_count": 9,
   "id": "d40d60e1",
   "metadata": {
    "slideshow": {
     "slide_type": "subslide"
    }
   },
   "outputs": [
    {
     "name": "stdout",
     "output_type": "stream",
     "text": [
      "H =\n"
     ]
    },
    {
     "name": "stdout",
     "output_type": "stream",
     "text": [
      "(w*1i)/(2 + w*1i)\n"
     ]
    }
   ],
   "source": [
    "syms t w\n",
    "H = j*w/(j*w + 2)"
   ]
  },
  {
   "cell_type": "code",
   "execution_count": 10,
   "id": "e5005bf8",
   "metadata": {
    "slideshow": {
     "slide_type": "subslide"
    }
   },
   "outputs": [
    {
     "name": "stdout",
     "output_type": "stream",
     "text": [
      "Vin =\n"
     ]
    },
    {
     "name": "stdout",
     "output_type": "stream",
     "text": [
      "5/(3 + w*1i)\n"
     ]
    }
   ],
   "source": [
    "Vin = fourier(5*exp(-3*t)*heaviside(t),t,w)"
   ]
  },
  {
   "cell_type": "code",
   "execution_count": 11,
   "id": "5795b0b5",
   "metadata": {
    "slideshow": {
     "slide_type": "subslide"
    }
   },
   "outputs": [
    {
     "name": "stdout",
     "output_type": "stream",
     "text": [
      "Vout =\n"
     ]
    },
    {
     "name": "stdout",
     "output_type": "stream",
     "text": [
      "(w*5i)/((2 + w*1i)*(3 + w*1i))\n"
     ]
    }
   ],
   "source": [
    "Vout=simplify(H*Vin)"
   ]
  },
  {
   "cell_type": "code",
   "execution_count": 12,
   "id": "ba1436d2",
   "metadata": {
    "slideshow": {
     "slide_type": "subslide"
    }
   },
   "outputs": [
    {
     "name": "stdout",
     "output_type": "stream",
     "text": [
      "vout =\n"
     ]
    },
    {
     "name": "stdout",
     "output_type": "stream",
     "text": [
      "-(5*exp(-3*t)*(sign(t) + 1)*(2*exp(t) - 3))/2\n"
     ]
    }
   ],
   "source": [
    "vout = simplify(ifourier(Vout,w,t))"
   ]
  },
  {
   "cell_type": "markdown",
   "id": "38d6130c",
   "metadata": {
    "slideshow": {
     "slide_type": "subslide"
    }
   },
   "source": [
    "Plot result"
   ]
  },
  {
   "cell_type": "code",
   "execution_count": 13,
   "id": "d336d4ac",
   "metadata": {
    "slideshow": {
     "slide_type": "subslide"
    }
   },
   "outputs": [
    {
     "data": {
      "image/svg+xml": [
       "<?xml version=\"1.0\"?>\n",
       "<!DOCTYPE svg PUBLIC '-//W3C//DTD SVG 1.0//EN'\n",
       "          'http://www.w3.org/TR/2001/REC-SVG-20010904/DTD/svg10.dtd'>\n",
       "<svg xmlns:xlink=\"http://www.w3.org/1999/xlink\" style=\"fill-opacity:1; color-rendering:auto; color-interpolation:auto; text-rendering:auto; stroke:black; stroke-linecap:square; stroke-miterlimit:10; shape-rendering:auto; stroke-opacity:1; fill:black; stroke-dasharray:none; font-weight:normal; stroke-width:1; font-family:'Dialog'; font-style:normal; stroke-linejoin:miter; font-size:12px; stroke-dashoffset:0; image-rendering:auto;\" width=\"560\" height=\"420\" xmlns=\"http://www.w3.org/2000/svg\"\n",
       "><!--Generated by the Batik Graphics2D SVG Generator--><defs id=\"genericDefs\"\n",
       "  /><g\n",
       "  ><defs id=\"defs1\"\n",
       "    ><clipPath clipPathUnits=\"userSpaceOnUse\" id=\"clipPath1\"\n",
       "      ><path d=\"M0 0 L560 0 L560 420 L0 420 L0 0 Z\"\n",
       "      /></clipPath\n",
       "      ><font horiz-adv-x=\"50.0\" id=\"font1\"\n",
       "      ><font-face ascent=\"95.200005\" descent=\"21.3\" units-per-em=\"100\" style=\"font-style:normal; font-family:Helvetica Neue; font-weight:normal;\"\n",
       "        /><missing-glyph horiz-adv-x=\"50.0\" d=\"M40.9 66.6 L10.2 66.6 L10.2 4.7 L40.9 4.7 ZM46 71.2 L46 0.1 L5.1 0.1 L5.1 71.2 Z\"\n",
       "        /><glyph unicode=\"0\" horiz-adv-x=\"55.6\" d=\"M13.2 34.9 Q13.2 37.5 13.25 40.65 Q13.3 43.8 13.75 46.95 Q14.2 50.1 15.05 53.1 Q15.9 56.1 17.55 58.35 Q19.2 60.6 21.7 62 Q24.2 63.4 27.8 63.4 Q31.4 63.4 33.9 62 Q36.4 60.6 38.05 58.35 Q39.7 56.1 40.55 53.1 Q41.4 50.1 41.85 46.95 Q42.3 43.8 42.35 40.65 Q42.4 37.5 42.4 34.9 Q42.4 30.9 42.15 25.95 Q41.9 21 40.55 16.65 Q39.2 12.3 36.2 9.3 Q33.2 6.3 27.8 6.3 Q22.4 6.3 19.4 9.3 Q16.4 12.3 15.05 16.65 Q13.7 21 13.45 25.95 Q13.2 30.9 13.2 34.9 ZM4.2 34.8 Q4.2 30.9 4.4 26.7 Q4.6 22.5 5.4 18.5 Q6.2 14.5 7.7 10.95 Q9.2 7.4 11.8 4.7 Q14.4 2 18.35 0.45 Q22.3 -1.1 27.8 -1.1 Q33.4 -1.1 37.3 0.45 Q41.2 2 43.8 4.7 Q46.4 7.4 47.9 10.95 Q49.4 14.5 50.2 18.5 Q51 22.5 51.2 26.7 Q51.4 30.9 51.4 34.8 Q51.4 38.7 51.2 42.9 Q51 47.1 50.2 51.1 Q49.4 55.1 47.9 58.7 Q46.4 62.3 43.8 65 Q41.2 67.7 37.25 69.3 Q33.3 70.9 27.8 70.9 Q22.3 70.9 18.35 69.3 Q14.4 67.7 11.8 65 Q9.2 62.3 7.7 58.7 Q6.2 55.1 5.4 51.1 Q4.6 47.1 4.4 42.9 Q4.2 38.7 4.2 34.8 Z\"\n",
       "        /><glyph unicode=\"5\" horiz-adv-x=\"55.6\" d=\"M47 62.2 L47 69.7 L12 69.7 L5.4 32.9 L12.7 32.5 Q15.2 35.5 18.45 37.35 Q21.7 39.2 25.9 39.2 Q29.5 39.2 32.45 38 Q35.4 36.8 37.5 34.65 Q39.6 32.5 40.75 29.55 Q41.9 26.6 41.9 23.1 Q41.9 18.9 40.7 15.75 Q39.5 12.6 37.45 10.5 Q35.4 8.4 32.65 7.35 Q29.9 6.3 26.9 6.3 Q23.7 6.3 21.05 7.25 Q18.4 8.2 16.45 9.95 Q14.5 11.7 13.35 14.05 Q12.2 16.4 12 19.1 L3.5 19.1 Q3.6 14.3 5.4 10.5 Q7.2 6.7 10.3 4.15 Q13.4 1.6 17.45 0.25 Q21.5 -1.1 26.1 -1.1 Q32.3 -1.1 36.95 0.85 Q41.6 2.8 44.7 6.1 Q47.8 9.4 49.35 13.65 Q50.9 17.9 50.9 22.4 Q50.9 28.5 49.1 33.05 Q47.3 37.6 44.2 40.65 Q41.1 43.7 36.9 45.2 Q32.7 46.7 28 46.7 Q24.4 46.7 20.75 45.45 Q17.1 44.2 14.8 41.6 L14.6 41.8 L18.4 62.2 Z\"\n",
       "        /><glyph unicode=\".\" horiz-adv-x=\"27.8\" d=\"M8.3 11.1 L8.3 0 L19.4 0 L19.4 11.1 Z\"\n",
       "        /><glyph unicode=\"1\" horiz-adv-x=\"55.6\" d=\"M35.6 0 L35.6 70.9 L29.1 70.9 Q28.4 66.9 26.5 64.3 Q24.6 61.7 21.85 60.2 Q19.1 58.7 15.7 58.15 Q12.3 57.6 8.7 57.6 L8.7 50.8 L27.1 50.8 L27.1 0 Z\"\n",
       "        /><glyph unicode=\"2\" horiz-adv-x=\"55.6\" d=\"M4.4 45.8 L12.9 45.8 Q12.8 49 13.55 52.15 Q14.3 55.3 16 57.8 Q17.7 60.3 20.35 61.85 Q23 63.4 26.7 63.4 Q29.5 63.4 32 62.5 Q34.5 61.6 36.35 59.9 Q38.2 58.2 39.3 55.85 Q40.4 53.5 40.4 50.6 Q40.4 46.9 39.25 44.1 Q38.1 41.3 35.85 38.9 Q33.6 36.5 30.2 34.15 Q26.8 31.8 22.3 29 Q18.6 26.8 15.2 24.3 Q11.8 21.8 9.1 18.5 Q6.4 15.2 4.65 10.75 Q2.9 6.3 2.4 0 L48.7 0 L48.7 7.5 L12.3 7.5 Q12.9 10.8 14.85 13.35 Q16.8 15.9 19.55 18.1 Q22.3 20.3 25.6 22.25 Q28.9 24.2 32.2 26.2 Q35.5 28.3 38.6 30.6 Q41.7 32.9 44.1 35.75 Q46.5 38.6 47.95 42.2 Q49.4 45.8 49.4 50.5 Q49.4 55.5 47.65 59.3 Q45.9 63.1 42.9 65.65 Q39.9 68.2 35.85 69.55 Q31.8 70.9 27.2 70.9 Q21.6 70.9 17.2 69 Q12.8 67.1 9.85 63.75 Q6.9 60.4 5.5 55.8 Q4.1 51.2 4.4 45.8 Z\"\n",
       "        /><glyph unicode=\"3\" horiz-adv-x=\"55.6\" d=\"M21.8 40.5 L21.8 33.3 Q24.2 33.6 26.9 33.6 Q30.1 33.6 32.85 32.75 Q35.6 31.9 37.6 30.15 Q39.6 28.4 40.8 25.85 Q42 23.3 42 20 Q42 16.8 40.75 14.25 Q39.5 11.7 37.4 9.95 Q35.3 8.2 32.5 7.25 Q29.7 6.3 26.6 6.3 Q19.3 6.3 15.5 10.65 Q11.7 15 11.5 21.9 L3 21.9 Q2.9 16.4 4.55 12.1 Q6.2 7.8 9.3 4.85 Q12.4 1.9 16.8 0.4 Q21.2 -1.1 26.6 -1.1 Q31.6 -1.1 36.05 0.25 Q40.5 1.6 43.8 4.3 Q47.1 7 49.05 11.05 Q51 15.1 51 20.4 Q51 26.8 47.85 31.5 Q44.7 36.2 38.2 37.6 L38.2 37.8 Q42.4 39.7 45.2 43.4 Q48 47.1 48 51.9 Q48 56.8 46.35 60.4 Q44.7 64 41.8 66.3 Q38.9 68.6 34.95 69.75 Q31 70.9 26.4 70.9 Q21.1 70.9 17.05 69.2 Q13 67.5 10.3 64.5 Q7.6 61.5 6.15 57.3 Q4.7 53.1 4.5 48 L13 48 Q13 51.1 13.8 53.9 Q14.6 56.7 16.25 58.8 Q17.9 60.9 20.45 62.15 Q23 63.4 26.4 63.4 Q31.8 63.4 35.4 60.55 Q39 57.7 39 52 Q39 49.2 37.9 47 Q36.8 44.8 34.95 43.35 Q33.1 41.9 30.65 41.15 Q28.2 40.4 25.5 40.4 L23.7 40.4 Q23.2 40.4 22.7 40.4 Q22.3 40.4 21.8 40.5 Z\"\n",
       "        /><glyph unicode=\"]\" horiz-adv-x=\"25.9\" d=\"M0 -12.9 L0 -19.7 L18.7 -19.7 L18.7 73.1 L0 73.1 L0 66.3 L10.7 66.3 L10.7 -12.9 Z\"\n",
       "        /><glyph unicode=\"s\" horiz-adv-x=\"50.0\" d=\"M11.6 16.3 L3.1 16.3 Q3.3 11.5 5.1 8.15 Q6.9 4.8 9.9 2.75 Q12.9 0.7 16.8 -0.2 Q20.7 -1.1 25 -1.1 Q28.9 -1.1 32.85 -0.35 Q36.8 0.4 39.95 2.3 Q43.1 4.2 45.05 7.3 Q47 10.4 47 15.1 Q47 18.8 45.55 21.3 Q44.1 23.8 41.75 25.45 Q39.4 27.1 36.35 28.1 Q33.3 29.1 30.1 29.8 Q27.1 30.5 24.1 31.15 Q21.1 31.8 18.7 32.75 Q16.3 33.7 14.75 35.15 Q13.2 36.6 13.2 38.8 Q13.2 40.8 14.2 42.05 Q15.2 43.3 16.8 44.05 Q18.4 44.8 20.35 45.1 Q22.3 45.4 24.2 45.4 Q26.3 45.4 28.35 44.95 Q30.4 44.5 32.1 43.5 Q33.8 42.5 34.9 40.85 Q36 39.2 36.2 36.7 L44.7 36.7 Q44.4 41.4 42.7 44.55 Q41 47.7 38.15 49.55 Q35.3 51.4 31.6 52.15 Q27.9 52.9 23.5 52.9 Q20.1 52.9 16.65 52.05 Q13.2 51.2 10.45 49.45 Q7.7 47.7 5.95 44.9 Q4.2 42.1 4.2 38.2 Q4.2 33.2 6.7 30.4 Q9.2 27.6 12.95 26.05 Q16.7 24.5 21.1 23.65 Q25.5 22.8 29.25 21.75 Q33 20.7 35.5 19 Q38 17.3 38 14 Q38 11.6 36.8 10.05 Q35.6 8.5 33.75 7.7 Q31.9 6.9 29.7 6.6 Q27.5 6.3 25.5 6.3 Q22.9 6.3 20.45 6.8 Q18 7.3 16.05 8.45 Q14.1 9.6 12.9 11.55 Q11.7 13.5 11.6 16.3 Z\"\n",
       "        /><glyph unicode=\"[\" horiz-adv-x=\"25.9\" d=\"M25.9 66.3 L25.9 73.1 L7.2 73.1 L7.2 -19.7 L25.9 -19.7 L25.9 -12.9 L15.2 -12.9 L15.2 66.3 Z\"\n",
       "        /><glyph unicode=\" \" horiz-adv-x=\"27.8\" d=\"\"\n",
       "        /><glyph unicode=\"t\" horiz-adv-x=\"31.5\" d=\"M18.2 51.7 L18.2 67.2 L9.7 67.2 L9.7 51.7 L0.9 51.7 L0.9 44.2 L9.7 44.2 L9.7 11.3 Q9.7 7.7 10.4 5.5 Q11.1 3.3 12.55 2.1 Q14 0.9 16.35 0.45 Q18.7 0 22 0 L28.5 0 L28.5 7.5 L24.6 7.5 Q22.6 7.5 21.35 7.65 Q20.1 7.8 19.4 8.3 Q18.7 8.8 18.45 9.7 Q18.2 10.6 18.2 12.1 L18.2 44.2 L28.5 44.2 L28.5 51.7 Z\"\n",
       "        /><glyph unicode=\"6\" horiz-adv-x=\"55.6\" d=\"M41.4 52.8 L49.9 52.8 Q49.1 61.6 43.9 66.25 Q38.7 70.9 29.9 70.9 Q22.3 70.9 17.3 67.7 Q12.3 64.5 9.3 59.2 Q6.3 53.9 5.05 47.05 Q3.8 40.2 3.8 32.9 Q3.8 27.3 4.65 21.3 Q5.5 15.3 8.1 10.3 Q10.7 5.3 15.5 2.1 Q20.3 -1.1 28.2 -1.1 Q34.9 -1.1 39.45 1.15 Q44 3.4 46.75 6.85 Q49.5 10.3 50.7 14.5 Q51.9 18.7 51.9 22.6 Q51.9 27.5 50.4 31.7 Q48.9 35.9 46.15 39 Q43.4 42.1 39.35 43.85 Q35.3 45.6 30.2 45.6 Q24.4 45.6 19.95 43.4 Q15.5 41.2 12.5 36.3 L12.3 36.5 Q12.4 40.6 13.1 45.3 Q13.8 50 15.65 54.05 Q17.5 58.1 20.8 60.75 Q24.1 63.4 29.5 63.4 Q34.6 63.4 37.7 60.5 Q40.8 57.6 41.4 52.8 ZM28.6 38.1 Q32.2 38.1 34.9 36.8 Q37.6 35.5 39.4 33.35 Q41.2 31.2 42.05 28.25 Q42.9 25.3 42.9 22 Q42.9 18.9 41.95 16.05 Q41 13.2 39.2 11 Q37.4 8.8 34.75 7.55 Q32.1 6.3 28.6 6.3 Q25.1 6.3 22.35 7.55 Q19.6 8.8 17.75 10.9 Q15.9 13 14.9 15.9 Q13.9 18.8 13.9 22.1 Q13.9 25.4 14.85 28.35 Q15.8 31.3 17.7 33.45 Q19.6 35.6 22.3 36.85 Q25 38.1 28.6 38.1 Z\"\n",
       "        /><glyph unicode=\"-\" horiz-adv-x=\"38.9\" d=\"M5 31.8 L5 23.8 L33.9 23.8 L33.9 31.8 Z\"\n",
       "        /><glyph unicode=\"4\" horiz-adv-x=\"55.6\" d=\"M33.9 24.1 L10.1 24.1 L33.7 58.8 L33.9 58.8 ZM41.9 24.1 L41.9 70.9 L35.1 70.9 L2.8 24.8 L2.8 16.6 L33.9 16.6 L33.9 0 L41.9 0 L41.9 16.6 L51.5 16.6 L51.5 24.1 Z\"\n",
       "        /><glyph unicode=\"v\" horiz-adv-x=\"50.0\" d=\"M29.7 0 L48.6 51.7 L39.7 51.7 L25.6 8.6 L25.4 8.6 L10.9 51.7 L1.4 51.7 L20.6 0 Z\"\n",
       "        /><glyph unicode=\"u\" horiz-adv-x=\"55.6\" d=\"M49.2 0 L49.2 51.7 L40.7 51.7 L40.7 22.5 Q40.7 19 39.75 16.05 Q38.8 13.1 36.9 10.9 Q35 8.7 32.15 7.5 Q29.3 6.3 25.4 6.3 Q20.5 6.3 17.7 9.1 Q14.9 11.9 14.9 16.7 L14.9 51.7 L6.4 51.7 L6.4 17.7 Q6.4 13.5 7.25 10.05 Q8.1 6.6 10.2 4.1 Q12.3 1.6 15.7 0.25 Q19.1 -1.1 24.2 -1.1 Q29.9 -1.1 34.1 1.15 Q38.3 3.4 41 8.2 L41.2 8.2 L41.2 0 Z\"\n",
       "        /><glyph unicode=\"o\" horiz-adv-x=\"57.4\" d=\"M12.6 25.8 Q12.6 30.5 13.85 34.15 Q15.1 37.8 17.3 40.3 Q19.5 42.8 22.45 44.1 Q25.4 45.4 28.7 45.4 Q32 45.4 34.95 44.1 Q37.9 42.8 40.1 40.3 Q42.3 37.8 43.55 34.15 Q44.8 30.5 44.8 25.8 Q44.8 21.1 43.55 17.45 Q42.3 13.8 40.1 11.35 Q37.9 8.9 34.95 7.6 Q32 6.3 28.7 6.3 Q25.4 6.3 22.45 7.6 Q19.5 8.9 17.3 11.35 Q15.1 13.8 13.85 17.45 Q12.6 21.1 12.6 25.8 ZM3.6 25.8 Q3.6 20.1 5.2 15.2 Q6.8 10.3 10 6.65 Q13.2 3 17.9 0.95 Q22.6 -1.1 28.7 -1.1 Q34.9 -1.1 39.55 0.95 Q44.2 3 47.4 6.65 Q50.6 10.3 52.2 15.2 Q53.8 20.1 53.8 25.8 Q53.8 31.5 52.2 36.45 Q50.6 41.4 47.4 45.05 Q44.2 48.7 39.55 50.8 Q34.9 52.9 28.7 52.9 Q22.6 52.9 17.9 50.8 Q13.2 48.7 10 45.05 Q6.8 41.4 5.2 36.45 Q3.6 31.5 3.6 25.8 Z\"\n",
       "        /><glyph unicode=\"V\" horiz-adv-x=\"61.1\" d=\"M35.9 0 L61.3 71.4 L51.4 71.4 L30.8 9.5 L30.6 9.5 L10.2 71.4 L0 71.4 L25.1 0 Z\"\n",
       "        /><glyph unicode=\")\" horiz-adv-x=\"25.9\" d=\"M-0.9 -19.7 L5.5 -19.7 Q13.3 -9.4 17.25 2.55 Q21.2 14.5 21.2 26.3 Q21.2 32.9 20.1 38.9 Q19 44.9 16.95 50.65 Q14.9 56.4 12 61.95 Q9.1 67.5 5.5 73.1 L-0.9 73.1 Q6.1 61.6 9.15 50.25 Q12.2 38.9 12.2 26.3 Q12.2 14.1 9.2 2.85 Q6.2 -8.4 -0.9 -19.7 Z\"\n",
       "        /><glyph unicode=\"(\" horiz-adv-x=\"25.9\" d=\"M20.4 -19.7 L26.9 -19.7 Q19.8 -8.2 16.75 3.1 Q13.7 14.4 13.7 27 Q13.7 39.3 16.7 50.5 Q19.7 61.7 26.9 73.1 L20.4 73.1 Q12.6 62.8 8.65 50.8 Q4.7 38.8 4.7 27 Q4.7 20.4 5.8 14.4 Q6.9 8.4 8.95 2.7 Q11 -3 13.9 -8.55 Q16.8 -14.1 20.4 -19.7 Z\"\n",
       "      /></font\n",
       "      ><font horiz-adv-x=\"50.0\" id=\"font2\"\n",
       "      ><font-face ascent=\"97.5\" descent=\"21.699999\" units-per-em=\"100\" style=\"font-style:normal; font-family:Helvetica Neue; font-weight:bold;\"\n",
       "        /><missing-glyph horiz-adv-x=\"50.0\" d=\"M39.1 60.7 L11.1 60.7 L11.1 9.5 L39.1 9.5 ZM48.2 69.8 L48.2 0.3 L1.7 0.3 L1.7 69.8 Z\"\n",
       "        /><glyph unicode=\"2\" horiz-adv-x=\"55.6\" d=\"M3.7 43.1 L17.3 43.1 Q17.3 45.9 17.85 48.75 Q18.4 51.6 19.7 53.95 Q21 56.3 23.15 57.75 Q25.3 59.2 28.4 59.2 Q33 59.2 35.95 56.35 Q38.9 53.5 38.9 48.4 Q38.9 45.2 37.45 42.7 Q36 40.2 33.85 38.2 Q31.7 36.2 29.1 34.55 Q26.5 32.9 24.2 31.3 Q19.7 28.2 15.65 25.2 Q11.6 22.2 8.6 18.65 Q5.6 15.1 3.85 10.6 Q2.1 6.1 2.1 0 L53.5 0 L53.5 12.2 L20.4 12.2 Q23 15.8 26.4 18.5 Q29.8 21.2 33.4 23.55 Q37 25.9 40.55 28.3 Q44.1 30.7 46.9 33.65 Q49.7 36.6 51.4 40.4 Q53.1 44.2 53.1 49.5 Q53.1 54.6 51.15 58.7 Q49.2 62.8 45.9 65.6 Q42.6 68.4 38.25 69.9 Q33.9 71.4 29.1 71.4 Q22.8 71.4 17.95 69.25 Q13.1 67.1 9.9 63.25 Q6.7 59.4 5.1 54.25 Q3.5 49.1 3.7 43.1 Z\"\n",
       "        /><glyph unicode=\"e\" horiz-adv-x=\"57.4\" d=\"M40.2 31.4 L17.1 31.4 Q17.2 32.9 17.75 34.8 Q18.3 36.7 19.65 38.4 Q21 40.1 23.25 41.25 Q25.5 42.4 28.9 42.4 Q34.1 42.4 36.65 39.6 Q39.2 36.8 40.2 31.4 ZM17.1 22.4 L54.4 22.4 Q54.8 28.4 53.4 33.9 Q52 39.4 48.85 43.7 Q45.7 48 40.8 50.55 Q35.9 53.1 29.3 53.1 Q23.4 53.1 18.55 51 Q13.7 48.9 10.2 45.25 Q6.7 41.6 4.8 36.6 Q2.9 31.6 2.9 25.8 Q2.9 19.8 4.75 14.8 Q6.6 9.8 10 6.2 Q13.4 2.6 18.3 0.65 Q23.2 -1.3 29.3 -1.3 Q38.1 -1.3 44.3 2.7 Q50.5 6.7 53.5 16 L41 16 Q40.3 13.6 37.2 11.45 Q34.1 9.3 29.8 9.3 Q23.8 9.3 20.6 12.4 Q17.4 15.5 17.1 22.4 Z\"\n",
       "        /><glyph unicode=\"p\" horiz-adv-x=\"61.1\" d=\"M31.5 9.3 Q28.1 9.3 25.7 10.7 Q23.3 12.1 21.85 14.35 Q20.4 16.6 19.75 19.6 Q19.1 22.6 19.1 25.7 Q19.1 28.9 19.7 31.9 Q20.3 34.9 21.75 37.2 Q23.2 39.5 25.55 40.95 Q27.9 42.4 31.4 42.4 Q34.8 42.4 37.15 40.95 Q39.5 39.5 41 37.15 Q42.5 34.8 43.15 31.8 Q43.8 28.8 43.8 25.7 Q43.8 22.6 43.2 19.6 Q42.6 16.6 41.15 14.35 Q39.7 12.1 37.35 10.7 Q35 9.3 31.5 9.3 ZM5.4 51.7 L5.4 -18.1 L19.6 -18.1 L19.6 6.4 L19.8 6.4 Q22.4 2.6 26.45 0.65 Q30.5 -1.3 35.3 -1.3 Q41 -1.3 45.25 0.9 Q49.5 3.1 52.35 6.8 Q55.2 10.5 56.6 15.3 Q58 20.1 58 25.3 Q58 30.8 56.6 35.85 Q55.2 40.9 52.3 44.7 Q49.4 48.5 45 50.8 Q40.6 53.1 34.5 53.1 Q29.7 53.1 25.7 51.2 Q21.7 49.3 19.1 45.1 L18.9 45.1 L18.9 51.7 Z\"\n",
       "        /><glyph unicode=\"m\" horiz-adv-x=\"90.6\" d=\"M5.8 51.7 L5.8 0 L20 0 L20 30 Q20 33.8 21.1 36.15 Q22.2 38.5 23.75 39.75 Q25.3 41 26.95 41.45 Q28.6 41.9 29.6 41.9 Q33 41.9 34.75 40.75 Q36.5 39.6 37.25 37.7 Q38 35.8 38.1 33.55 Q38.2 31.3 38.2 29 L38.2 0 L52.4 0 L52.4 28.8 Q52.4 31.2 52.75 33.55 Q53.1 35.9 54.15 37.75 Q55.2 39.6 57.05 40.75 Q58.9 41.9 61.9 41.9 Q64.9 41.9 66.65 40.9 Q68.4 39.9 69.3 38.2 Q70.2 36.5 70.4 34.2 Q70.6 31.9 70.6 29.3 L70.6 0 L84.8 0 L84.8 34.6 Q84.8 39.6 83.4 43.15 Q82 46.7 79.5 48.9 Q77 51.1 73.5 52.1 Q70 53.1 65.9 53.1 Q60.5 53.1 56.55 50.5 Q52.6 47.9 50.3 44.5 Q48.2 49.3 44.15 51.2 Q40.1 53.1 35.2 53.1 Q30.1 53.1 26.15 50.9 Q22.2 48.7 19.4 44.7 L19.2 44.7 L19.2 51.7 Z\"\n",
       "        /><glyph unicode=\"a\" horiz-adv-x=\"57.4\" d=\"M4.8 35.8 Q5.1 40.8 7.3 44.1 Q9.5 47.4 12.9 49.4 Q16.3 51.4 20.55 52.25 Q24.8 53.1 29.1 53.1 Q33 53.1 37 52.55 Q41 52 44.3 50.4 Q47.6 48.8 49.7 45.95 Q51.8 43.1 51.8 38.4 L51.8 11.5 Q51.8 8 52.2 4.8 Q52.6 1.6 53.6 0 L39.2 0 Q38.8 1.2 38.55 2.45 Q38.3 3.7 38.2 5 Q34.8 1.5 30.2 0.1 Q25.6 -1.3 20.8 -1.3 Q17.1 -1.3 13.9 -0.4 Q10.7 0.5 8.3 2.4 Q5.9 4.3 4.55 7.2 Q3.2 10.1 3.2 14.1 Q3.2 18.5 4.75 21.35 Q6.3 24.2 8.75 25.9 Q11.2 27.6 14.35 28.45 Q17.5 29.3 20.7 29.8 Q23.9 30.3 27 30.6 Q30.1 30.9 32.5 31.5 Q34.9 32.1 36.3 33.25 Q37.7 34.4 37.6 36.6 Q37.6 38.9 36.85 40.25 Q36.1 41.6 34.85 42.35 Q33.6 43.1 31.95 43.35 Q30.3 43.6 28.4 43.6 Q24.2 43.6 21.8 41.8 Q19.4 40 19 35.8 ZM37.6 25.3 Q36.7 24.5 35.35 24.05 Q34 23.6 32.45 23.3 Q30.9 23 29.2 22.8 Q27.5 22.6 25.8 22.3 Q24.2 22 22.65 21.5 Q21.1 21 19.95 20.15 Q18.8 19.3 18.1 18 Q17.4 16.7 17.4 14.7 Q17.4 12.8 18.1 11.5 Q18.8 10.2 20 9.45 Q21.2 8.7 22.8 8.4 Q24.4 8.1 26.1 8.1 Q30.3 8.1 32.6 9.5 Q34.9 10.9 36 12.85 Q37.1 14.8 37.35 16.8 Q37.6 18.8 37.6 20 Z\"\n",
       "        /><glyph unicode=\"x\" horiz-adv-x=\"53.7\" d=\"M18.6 27.2 L0 0 L15.9 0 L26.7 16.3 L37.5 0 L53.7 0 L34.6 27.5 L51.6 51.7 L35.9 51.7 L26.9 38.2 L17.8 51.7 L1.6 51.7 Z\"\n",
       "        /><glyph unicode=\"E\" horiz-adv-x=\"64.8\" d=\"M6.9 71.4 L6.9 0 L61.1 0 L61.1 13.2 L22.6 13.2 L22.6 30.7 L57.2 30.7 L57.2 42.9 L22.6 42.9 L22.6 58.2 L60.3 58.2 L60.3 71.4 Z\"\n",
       "        /><glyph unicode=\" \" horiz-adv-x=\"27.8\" d=\"\"\n",
       "        /><glyph unicode=\"n\" horiz-adv-x=\"59.3\" d=\"M5.4 51.7 L5.4 0 L19.6 0 L19.6 27.1 Q19.6 35 22.2 38.45 Q24.8 41.9 30.6 41.9 Q35.7 41.9 37.7 38.75 Q39.7 35.6 39.7 29.2 L39.7 0 L53.9 0 L53.9 31.8 Q53.9 36.6 53.05 40.55 Q52.2 44.5 50.1 47.25 Q48 50 44.35 51.55 Q40.7 53.1 35 53.1 Q30.5 53.1 26.2 51.05 Q21.9 49 19.2 44.5 L18.9 44.5 L18.9 51.7 Z\"\n",
       "        /><glyph unicode=\"i\" horiz-adv-x=\"25.8\" d=\"M20 59.7 L20 71.4 L5.8 71.4 L5.8 59.7 ZM5.8 51.7 L5.8 0 L20 0 L20 51.7 Z\"\n",
       "        /><glyph unicode=\"t\" horiz-adv-x=\"35.2\" d=\"M23.4 51.7 L23.4 67.2 L9.2 67.2 L9.2 51.7 L0.6 51.7 L0.6 42.2 L9.2 42.2 L9.2 11.7 Q9.2 7.8 10.5 5.4 Q11.8 3 14.05 1.7 Q16.3 0.4 19.25 -0.05 Q22.2 -0.5 25.5 -0.5 Q27.6 -0.5 29.8 -0.4 Q32 -0.3 33.8 0 L33.8 11 Q32.8 10.8 31.7 10.7 Q30.6 10.6 29.4 10.6 Q25.8 10.6 24.6 11.8 Q23.4 13 23.4 16.6 L23.4 42.2 L33.8 42.2 L33.8 51.7 Z\"\n",
       "        /><glyph unicode=\"u\" horiz-adv-x=\"59.3\" d=\"M53.9 0 L53.9 51.7 L39.7 51.7 L39.7 24.6 Q39.7 16.7 37.1 13.25 Q34.5 9.8 28.7 9.8 Q23.6 9.8 21.6 12.95 Q19.6 16.1 19.6 22.5 L19.6 51.7 L5.4 51.7 L5.4 19.9 Q5.4 15.1 6.25 11.15 Q7.1 7.2 9.2 4.45 Q11.3 1.7 14.95 0.2 Q18.6 -1.3 24.3 -1.3 Q28.8 -1.3 33.1 0.7 Q37.4 2.7 40.1 7.2 L40.4 7.2 L40.4 0 Z\"\n",
       "        /><glyph unicode=\"l\" horiz-adv-x=\"25.8\" d=\"M5.8 71.4 L5.8 0 L20 0 L20 71.4 Z\"\n",
       "        /><glyph unicode=\"o\" horiz-adv-x=\"61.1\" d=\"M18 25.8 Q18 28.9 18.6 31.9 Q19.2 34.9 20.65 37.2 Q22.1 39.5 24.5 40.95 Q26.9 42.4 30.5 42.4 Q34.1 42.4 36.55 40.95 Q39 39.5 40.45 37.2 Q41.9 34.9 42.5 31.9 Q43.1 28.9 43.1 25.8 Q43.1 22.7 42.5 19.75 Q41.9 16.8 40.45 14.45 Q39 12.1 36.55 10.7 Q34.1 9.3 30.5 9.3 Q26.9 9.3 24.5 10.7 Q22.1 12.1 20.65 14.45 Q19.2 16.8 18.6 19.75 Q18 22.7 18 25.8 ZM3.8 25.8 Q3.8 19.6 5.7 14.6 Q7.6 9.6 11.1 6.05 Q14.6 2.5 19.5 0.6 Q24.4 -1.3 30.5 -1.3 Q36.6 -1.3 41.55 0.6 Q46.5 2.5 50 6.05 Q53.5 9.6 55.4 14.6 Q57.3 19.6 57.3 25.8 Q57.3 32 55.4 37.05 Q53.5 42.1 50 45.65 Q46.5 49.2 41.55 51.15 Q36.6 53.1 30.5 53.1 Q24.4 53.1 19.5 51.15 Q14.6 49.2 11.1 45.65 Q7.6 42.1 5.7 37.05 Q3.8 32 3.8 25.8 Z\"\n",
       "        /><glyph unicode=\"S\" horiz-adv-x=\"64.9\" d=\"M17.6 23.7 L2.4 23.7 Q2.3 17.1 4.8 12.3 Q7.3 7.5 11.55 4.4 Q15.8 1.3 21.35 -0.15 Q26.9 -1.6 32.8 -1.6 Q40.1 -1.6 45.65 0.1 Q51.2 1.8 54.95 4.85 Q58.7 7.9 60.6 12.1 Q62.5 16.3 62.5 21.2 Q62.5 27.2 59.95 31.05 Q57.4 34.9 53.9 37.2 Q50.4 39.5 46.85 40.55 Q43.3 41.6 41.3 42 Q34.6 43.7 30.45 44.8 Q26.3 45.9 23.95 47 Q21.6 48.1 20.8 49.4 Q20 50.7 20 52.8 Q20 55.1 21 56.6 Q22 58.1 23.55 59.1 Q25.1 60.1 27 60.5 Q28.9 60.9 30.8 60.9 Q33.7 60.9 36.15 60.4 Q38.6 59.9 40.5 58.7 Q42.4 57.5 43.55 55.4 Q44.7 53.3 44.9 50.1 L60.1 50.1 Q60.1 56.3 57.75 60.65 Q55.4 65 51.4 67.8 Q47.4 70.6 42.25 71.85 Q37.1 73.1 31.5 73.1 Q26.7 73.1 21.9 71.8 Q17.1 70.5 13.3 67.8 Q9.5 65.1 7.15 61.05 Q4.8 57 4.8 51.5 Q4.8 46.6 6.65 43.15 Q8.5 39.7 11.5 37.4 Q14.5 35.1 18.3 33.65 Q22.1 32.2 26.1 31.2 Q30 30.1 33.8 29.2 Q37.6 28.3 40.6 27.1 Q43.6 25.9 45.45 24.1 Q47.3 22.3 47.3 19.4 Q47.3 16.7 45.9 14.95 Q44.5 13.2 42.4 12.2 Q40.3 11.2 37.9 10.85 Q35.5 10.5 33.4 10.5 Q30.3 10.5 27.4 11.25 Q24.5 12 22.35 13.55 Q20.2 15.1 18.9 17.6 Q17.6 20.1 17.6 23.7 Z\"\n",
       "      /></font\n",
       "    ></defs\n",
       "    ><g style=\"fill:white; stroke:white;\"\n",
       "    ><rect x=\"0\" y=\"0\" width=\"560\" style=\"clip-path:url(#clipPath1); stroke:none;\" height=\"420\"\n",
       "    /></g\n",
       "    ><g style=\"fill:white; text-rendering:optimizeSpeed; color-rendering:optimizeSpeed; image-rendering:optimizeSpeed; shape-rendering:crispEdges; stroke:white; color-interpolation:sRGB;\"\n",
       "    ><rect x=\"0\" width=\"560\" height=\"420\" y=\"0\" style=\"stroke:none;\"\n",
       "      /><path style=\"stroke:none;\" d=\"M73 374 L507 374 L507 31 L73 31 Z\"\n",
       "    /></g\n",
       "    ><g style=\"stroke-linecap:butt; fill-opacity:0.149; fill:rgb(38,38,38); text-rendering:geometricPrecision; image-rendering:optimizeQuality; color-rendering:optimizeQuality; stroke-linejoin:round; stroke:rgb(38,38,38); color-interpolation:linearRGB; stroke-width:0.5; stroke-opacity:0.149;\"\n",
       "    ><line y2=\"31\" style=\"fill:none;\" x1=\"74.6692\" x2=\"74.6692\" y1=\"374\"\n",
       "      /><line y2=\"31\" style=\"fill:none;\" x1=\"132.186\" x2=\"132.186\" y1=\"374\"\n",
       "      /><line y2=\"31\" style=\"fill:none;\" x1=\"189.7027\" x2=\"189.7027\" y1=\"374\"\n",
       "      /><line y2=\"31\" style=\"fill:none;\" x1=\"247.2195\" x2=\"247.2195\" y1=\"374\"\n",
       "      /><line y2=\"31\" style=\"fill:none;\" x1=\"304.7363\" x2=\"304.7363\" y1=\"374\"\n",
       "      /><line y2=\"31\" style=\"fill:none;\" x1=\"362.253\" x2=\"362.253\" y1=\"374\"\n",
       "      /><line y2=\"31\" style=\"fill:none;\" x1=\"419.7698\" x2=\"419.7698\" y1=\"374\"\n",
       "      /><line y2=\"31\" style=\"fill:none;\" x1=\"477.2866\" x2=\"477.2866\" y1=\"374\"\n",
       "      /><line y2=\"339.6732\" style=\"fill:none;\" x1=\"507\" x2=\"73\" y1=\"339.6732\"\n",
       "      /><line y2=\"285.9441\" style=\"fill:none;\" x1=\"507\" x2=\"73\" y1=\"285.9441\"\n",
       "      /><line y2=\"232.215\" style=\"fill:none;\" x1=\"507\" x2=\"73\" y1=\"232.215\"\n",
       "      /><line y2=\"178.4859\" style=\"fill:none;\" x1=\"507\" x2=\"73\" y1=\"178.4859\"\n",
       "      /><line y2=\"124.7568\" style=\"fill:none;\" x1=\"507\" x2=\"73\" y1=\"124.7568\"\n",
       "      /><line y2=\"71.0277\" style=\"fill:none;\" x1=\"507\" x2=\"73\" y1=\"71.0277\"\n",
       "      /><line x1=\"73\" x2=\"507\" y1=\"374\" style=\"stroke-linecap:square; fill-opacity:1; fill:none; stroke-opacity:1;\" y2=\"374\"\n",
       "      /><line x1=\"73\" x2=\"507\" y1=\"31\" style=\"stroke-linecap:square; fill-opacity:1; fill:none; stroke-opacity:1;\" y2=\"31\"\n",
       "      /><line x1=\"74.6692\" x2=\"74.6692\" y1=\"374\" style=\"stroke-linecap:square; fill-opacity:1; fill:none; stroke-opacity:1;\" y2=\"369.66\"\n",
       "      /><line x1=\"132.186\" x2=\"132.186\" y1=\"374\" style=\"stroke-linecap:square; fill-opacity:1; fill:none; stroke-opacity:1;\" y2=\"369.66\"\n",
       "      /><line x1=\"189.7027\" x2=\"189.7027\" y1=\"374\" style=\"stroke-linecap:square; fill-opacity:1; fill:none; stroke-opacity:1;\" y2=\"369.66\"\n",
       "      /><line x1=\"247.2195\" x2=\"247.2195\" y1=\"374\" style=\"stroke-linecap:square; fill-opacity:1; fill:none; stroke-opacity:1;\" y2=\"369.66\"\n",
       "      /><line x1=\"304.7363\" x2=\"304.7363\" y1=\"374\" style=\"stroke-linecap:square; fill-opacity:1; fill:none; stroke-opacity:1;\" y2=\"369.66\"\n",
       "      /><line x1=\"362.253\" x2=\"362.253\" y1=\"374\" style=\"stroke-linecap:square; fill-opacity:1; fill:none; stroke-opacity:1;\" y2=\"369.66\"\n",
       "      /><line x1=\"419.7698\" x2=\"419.7698\" y1=\"374\" style=\"stroke-linecap:square; fill-opacity:1; fill:none; stroke-opacity:1;\" y2=\"369.66\"\n",
       "      /><line x1=\"477.2866\" x2=\"477.2866\" y1=\"374\" style=\"stroke-linecap:square; fill-opacity:1; fill:none; stroke-opacity:1;\" y2=\"369.66\"\n",
       "      /><line x1=\"74.6692\" x2=\"74.6692\" y1=\"31\" style=\"stroke-linecap:square; fill-opacity:1; fill:none; stroke-opacity:1;\" y2=\"35.34\"\n",
       "      /><line x1=\"132.186\" x2=\"132.186\" y1=\"31\" style=\"stroke-linecap:square; fill-opacity:1; fill:none; stroke-opacity:1;\" y2=\"35.34\"\n",
       "      /><line x1=\"189.7027\" x2=\"189.7027\" y1=\"31\" style=\"stroke-linecap:square; fill-opacity:1; fill:none; stroke-opacity:1;\" y2=\"35.34\"\n",
       "      /><line x1=\"247.2195\" x2=\"247.2195\" y1=\"31\" style=\"stroke-linecap:square; fill-opacity:1; fill:none; stroke-opacity:1;\" y2=\"35.34\"\n",
       "      /><line x1=\"304.7363\" x2=\"304.7363\" y1=\"31\" style=\"stroke-linecap:square; fill-opacity:1; fill:none; stroke-opacity:1;\" y2=\"35.34\"\n",
       "      /><line x1=\"362.253\" x2=\"362.253\" y1=\"31\" style=\"stroke-linecap:square; fill-opacity:1; fill:none; stroke-opacity:1;\" y2=\"35.34\"\n",
       "      /><line x1=\"419.7698\" x2=\"419.7698\" y1=\"31\" style=\"stroke-linecap:square; fill-opacity:1; fill:none; stroke-opacity:1;\" y2=\"35.34\"\n",
       "      /><line x1=\"477.2866\" x2=\"477.2866\" y1=\"31\" style=\"stroke-linecap:square; fill-opacity:1; fill:none; stroke-opacity:1;\" y2=\"35.34\"\n",
       "    /></g\n",
       "    ><g transform=\"translate(74.6692,378)\" style=\"font-size:10px; fill:rgb(38,38,38); text-rendering:geometricPrecision; image-rendering:optimizeQuality; color-rendering:optimizeQuality; font-family:'Helvetica Neue'; stroke:rgb(38,38,38); color-interpolation:linearRGB;\"\n",
       "    ><text x=\"-3\" xml:space=\"preserve\" y=\"10\" style=\"stroke:none;\"\n",
       "      >0</text\n",
       "    ></g\n",
       "    ><g transform=\"translate(132.186,378)\" style=\"font-size:10px; fill:rgb(38,38,38); text-rendering:geometricPrecision; image-rendering:optimizeQuality; color-rendering:optimizeQuality; font-family:'Helvetica Neue'; stroke:rgb(38,38,38); color-interpolation:linearRGB;\"\n",
       "    ><text x=\"-7\" xml:space=\"preserve\" y=\"10\" style=\"stroke:none;\"\n",
       "      >0.5</text\n",
       "    ></g\n",
       "    ><g transform=\"translate(189.7027,378)\" style=\"font-size:10px; fill:rgb(38,38,38); text-rendering:geometricPrecision; image-rendering:optimizeQuality; color-rendering:optimizeQuality; font-family:'Helvetica Neue'; stroke:rgb(38,38,38); color-interpolation:linearRGB;\"\n",
       "    ><text x=\"-3\" xml:space=\"preserve\" y=\"10\" style=\"stroke:none;\"\n",
       "      >1</text\n",
       "    ></g\n",
       "    ><g transform=\"translate(247.2195,378)\" style=\"font-size:10px; fill:rgb(38,38,38); text-rendering:geometricPrecision; image-rendering:optimizeQuality; color-rendering:optimizeQuality; font-family:'Helvetica Neue'; stroke:rgb(38,38,38); color-interpolation:linearRGB;\"\n",
       "    ><text x=\"-7\" xml:space=\"preserve\" y=\"10\" style=\"stroke:none;\"\n",
       "      >1.5</text\n",
       "    ></g\n",
       "    ><g transform=\"translate(304.7363,378)\" style=\"font-size:10px; fill:rgb(38,38,38); text-rendering:geometricPrecision; image-rendering:optimizeQuality; color-rendering:optimizeQuality; font-family:'Helvetica Neue'; stroke:rgb(38,38,38); color-interpolation:linearRGB;\"\n",
       "    ><text x=\"-3\" xml:space=\"preserve\" y=\"10\" style=\"stroke:none;\"\n",
       "      >2</text\n",
       "    ></g\n",
       "    ><g transform=\"translate(362.253,378)\" style=\"font-size:10px; fill:rgb(38,38,38); text-rendering:geometricPrecision; image-rendering:optimizeQuality; color-rendering:optimizeQuality; font-family:'Helvetica Neue'; stroke:rgb(38,38,38); color-interpolation:linearRGB;\"\n",
       "    ><text x=\"-7\" xml:space=\"preserve\" y=\"10\" style=\"stroke:none;\"\n",
       "      >2.5</text\n",
       "    ></g\n",
       "    ><g transform=\"translate(419.7698,378)\" style=\"font-size:10px; fill:rgb(38,38,38); text-rendering:geometricPrecision; image-rendering:optimizeQuality; color-rendering:optimizeQuality; font-family:'Helvetica Neue'; stroke:rgb(38,38,38); color-interpolation:linearRGB;\"\n",
       "    ><text x=\"-3\" xml:space=\"preserve\" y=\"10\" style=\"stroke:none;\"\n",
       "      >3</text\n",
       "    ></g\n",
       "    ><g transform=\"translate(477.2866,378)\" style=\"font-size:10px; fill:rgb(38,38,38); text-rendering:geometricPrecision; image-rendering:optimizeQuality; color-rendering:optimizeQuality; font-family:'Helvetica Neue'; stroke:rgb(38,38,38); color-interpolation:linearRGB;\"\n",
       "    ><text x=\"-7\" xml:space=\"preserve\" y=\"10\" style=\"stroke:none;\"\n",
       "      >3.5</text\n",
       "    ></g\n",
       "    ><g transform=\"translate(290.0002,392)\" style=\"font-size:11px; fill:rgb(38,38,38); text-rendering:geometricPrecision; image-rendering:optimizeQuality; color-rendering:optimizeQuality; font-family:'Helvetica Neue'; stroke:rgb(38,38,38); color-interpolation:linearRGB;\"\n",
       "    ><text x=\"-9\" xml:space=\"preserve\" y=\"11\" style=\"stroke:none;\"\n",
       "      >t [s]</text\n",
       "    ></g\n",
       "    ><g style=\"fill:rgb(38,38,38); text-rendering:geometricPrecision; image-rendering:optimizeQuality; color-rendering:optimizeQuality; stroke-linejoin:round; stroke:rgb(38,38,38); color-interpolation:linearRGB; stroke-width:0.5;\"\n",
       "    ><line y2=\"31\" style=\"fill:none;\" x1=\"73\" x2=\"73\" y1=\"374\"\n",
       "      /><line y2=\"31\" style=\"fill:none;\" x1=\"507\" x2=\"507\" y1=\"374\"\n",
       "      /><line y2=\"339.6732\" style=\"fill:none;\" x1=\"73\" x2=\"77.34\" y1=\"339.6732\"\n",
       "      /><line y2=\"285.9441\" style=\"fill:none;\" x1=\"73\" x2=\"77.34\" y1=\"285.9441\"\n",
       "      /><line y2=\"232.215\" style=\"fill:none;\" x1=\"73\" x2=\"77.34\" y1=\"232.215\"\n",
       "      /><line y2=\"178.4859\" style=\"fill:none;\" x1=\"73\" x2=\"77.34\" y1=\"178.4859\"\n",
       "      /><line y2=\"124.7568\" style=\"fill:none;\" x1=\"73\" x2=\"77.34\" y1=\"124.7568\"\n",
       "      /><line y2=\"71.0277\" style=\"fill:none;\" x1=\"73\" x2=\"77.34\" y1=\"71.0277\"\n",
       "      /><line y2=\"339.6732\" style=\"fill:none;\" x1=\"507\" x2=\"502.66\" y1=\"339.6732\"\n",
       "      /><line y2=\"285.9441\" style=\"fill:none;\" x1=\"507\" x2=\"502.66\" y1=\"285.9441\"\n",
       "      /><line y2=\"232.215\" style=\"fill:none;\" x1=\"507\" x2=\"502.66\" y1=\"232.215\"\n",
       "      /><line y2=\"178.4859\" style=\"fill:none;\" x1=\"507\" x2=\"502.66\" y1=\"178.4859\"\n",
       "      /><line y2=\"124.7568\" style=\"fill:none;\" x1=\"507\" x2=\"502.66\" y1=\"124.7568\"\n",
       "      /><line y2=\"71.0277\" style=\"fill:none;\" x1=\"507\" x2=\"502.66\" y1=\"71.0277\"\n",
       "    /></g\n",
       "    ><g transform=\"translate(69,339.6732)\" style=\"font-size:10px; fill:rgb(38,38,38); text-rendering:geometricPrecision; image-rendering:optimizeQuality; color-rendering:optimizeQuality; font-family:'Helvetica Neue'; stroke:rgb(38,38,38); color-interpolation:linearRGB;\"\n",
       "    ><text x=\"-18\" xml:space=\"preserve\" y=\"3.5\" style=\"stroke:none;\"\n",
       "      >-0.6</text\n",
       "    ></g\n",
       "    ><g transform=\"translate(69,285.9441)\" style=\"font-size:10px; fill:rgb(38,38,38); text-rendering:geometricPrecision; image-rendering:optimizeQuality; color-rendering:optimizeQuality; font-family:'Helvetica Neue'; stroke:rgb(38,38,38); color-interpolation:linearRGB;\"\n",
       "    ><text x=\"-18\" xml:space=\"preserve\" y=\"3.5\" style=\"stroke:none;\"\n",
       "      >-0.4</text\n",
       "    ></g\n",
       "    ><g transform=\"translate(69,232.215)\" style=\"font-size:10px; fill:rgb(38,38,38); text-rendering:geometricPrecision; image-rendering:optimizeQuality; color-rendering:optimizeQuality; font-family:'Helvetica Neue'; stroke:rgb(38,38,38); color-interpolation:linearRGB;\"\n",
       "    ><text x=\"-18\" xml:space=\"preserve\" y=\"3.5\" style=\"stroke:none;\"\n",
       "      >-0.2</text\n",
       "    ></g\n",
       "    ><g transform=\"translate(69,178.4859)\" style=\"font-size:10px; fill:rgb(38,38,38); text-rendering:geometricPrecision; image-rendering:optimizeQuality; color-rendering:optimizeQuality; font-family:'Helvetica Neue'; stroke:rgb(38,38,38); color-interpolation:linearRGB;\"\n",
       "    ><text x=\"-6\" xml:space=\"preserve\" y=\"3.5\" style=\"stroke:none;\"\n",
       "      >0</text\n",
       "    ></g\n",
       "    ><g transform=\"translate(69,124.7568)\" style=\"font-size:10px; fill:rgb(38,38,38); text-rendering:geometricPrecision; image-rendering:optimizeQuality; color-rendering:optimizeQuality; font-family:'Helvetica Neue'; stroke:rgb(38,38,38); color-interpolation:linearRGB;\"\n",
       "    ><text x=\"-14\" xml:space=\"preserve\" y=\"3.5\" style=\"stroke:none;\"\n",
       "      >0.2</text\n",
       "    ></g\n",
       "    ><g transform=\"translate(69,71.0277)\" style=\"font-size:10px; fill:rgb(38,38,38); text-rendering:geometricPrecision; image-rendering:optimizeQuality; color-rendering:optimizeQuality; font-family:'Helvetica Neue'; stroke:rgb(38,38,38); color-interpolation:linearRGB;\"\n",
       "    ><text x=\"-14\" xml:space=\"preserve\" y=\"3.5\" style=\"stroke:none;\"\n",
       "      >0.4</text\n",
       "    ></g\n",
       "    ><g transform=\"translate(41,224) rotate(-90)\" style=\"font-size:11px; fill:rgb(38,38,38); text-rendering:geometricPrecision; image-rendering:optimizeQuality; color-rendering:optimizeQuality; font-family:'Helvetica Neue'; stroke:rgb(38,38,38); color-interpolation:linearRGB;\"\n",
       "    ><text x=\"0\" xml:space=\"preserve\" y=\"0\" style=\"stroke:none;\"\n",
       "      >v</text\n",
       "    ></g\n",
       "    ><g transform=\"translate(46,218) rotate(-90)\" style=\"font-size:8.8px; fill:rgb(38,38,38); text-rendering:geometricPrecision; image-rendering:optimizeQuality; color-rendering:optimizeQuality; font-family:'Helvetica Neue'; stroke:rgb(38,38,38); color-interpolation:linearRGB;\"\n",
       "    ><text x=\"0\" xml:space=\"preserve\" y=\"0\" style=\"stroke:none;\"\n",
       "      >out</text\n",
       "    ></g\n",
       "    ><g transform=\"translate(41,205) rotate(-90)\" style=\"font-size:11px; fill:rgb(38,38,38); text-rendering:geometricPrecision; image-rendering:optimizeQuality; color-rendering:optimizeQuality; font-family:'Helvetica Neue'; stroke:rgb(38,38,38); color-interpolation:linearRGB;\"\n",
       "    ><text x=\"0\" xml:space=\"preserve\" y=\"0\" style=\"stroke:none;\"\n",
       "      >(t) [V]</text\n",
       "    ></g\n",
       "    ><g transform=\"translate(290.0003,28.25)\" style=\"font-size:11px; text-rendering:geometricPrecision; image-rendering:optimizeQuality; color-rendering:optimizeQuality; font-family:'Helvetica Neue'; color-interpolation:linearRGB; font-weight:bold;\"\n",
       "    ><text x=\"-57.5\" xml:space=\"preserve\" y=\"-3\" style=\"stroke:none;\"\n",
       "      >Solution to Example 2</text\n",
       "    ></g\n",
       "    ><g style=\"stroke-linecap:butt; fill:rgb(0,114,189); text-rendering:geometricPrecision; image-rendering:optimizeQuality; color-rendering:optimizeQuality; stroke-linejoin:round; stroke:rgb(0,114,189); color-interpolation:linearRGB; stroke-width:0.5;\"\n",
       "    ><path d=\"M73 178.4859 L74.0023 178.4859 L74.114 30.9591\" style=\"fill:none; fill-rule:evenodd;\"\n",
       "      /><path d=\"M110.1624 30.9591 L111.0878 45.9262 L112.0901 61.5057 L113.0924 76.4732 L114.0947 90.8481 L115.097 104.6492 L116.0993 117.895 L117.1016 130.603 L118.1039 142.7906 L119.1062 154.4746 L120.1085 165.6712 L121.1109 176.3962 L122.1132 186.6649 L123.1155 196.4922 L124.1178 205.8925 L125.1201 214.8799 L126.1224 223.4679 L127.1247 231.6697 L128.127 239.4982 L129.1293 246.9658 L130.1316 254.0845 L131.1339 260.866 L132.1363 267.3217 L133.1386 273.4626 L134.1409 279.2993 L135.1432 284.8424 L136.1455 290.1017 L137.1478 295.087 L138.1501 299.8079 L139.1524 304.2734 L140.1547 308.4925 L141.157 312.4738 L142.1593 316.2256 L143.1617 319.7561 L144.164 323.0731 L145.1663 326.1843 L146.1686 329.097 L147.1709 331.8184 L148.1732 334.3554 L149.1755 336.7148 L150.1778 338.9032 L151.1801 340.9267 L152.1824 342.7915 L153.1848 344.5036 L154.1871 346.0688 L155.1894 347.4925 L156.1917 348.7802 L157.194 349.9371 L158.1963 350.9682 L159.1986 351.8785 L160.2009 352.6727 L161.2032 353.3555 L162.2055 353.9311 L163.2079 354.4041 L164.2102 354.7784 L165.2125 355.0583 L166.2148 355.2474 L167.2171 355.3498 L168.2194 355.3689 L169.2217 355.3084 L170.224 355.1717 L171.2263 354.962 L172.2286 354.6826 L173.2309 354.3366 L174.2333 353.927 L175.2356 353.4566 L176.2379 352.9283 L177.2402 352.3448 L178.2425 351.7086 L179.2448 351.0223 L180.2471 350.2885 L181.2494 349.5092 L182.2517 348.6871 L183.254 347.824 L184.2563 346.9224 L185.2587 345.984 L186.261 345.011 L187.2633 344.0053 L188.2656 342.9687 L189.2679 341.9029 L190.2702 340.8098 L191.2725 339.6908 L192.2748 338.5478 L193.2771 337.3821 L194.2794 336.1953 L195.2818 334.9888 L196.2841 333.764 L197.2864 332.5222 L198.2887 331.2646 L199.291 329.9926 L200.2933 328.7072 L201.2956 327.4098 L202.2979 326.1012 L203.3002 324.7826 L204.3025 323.455 L205.3048 322.1195 L206.3072 320.7768 L207.3095 319.4279 L208.3118 318.0738 L209.3141 316.7151 L210.3164 315.3528 L211.3187 313.9875 L212.321 312.62 L213.3233 311.251 L214.3256 309.8813 L215.3279 308.5113 L216.3303 307.1418 L217.3326 305.7733 L218.3349 304.4065 L219.3372 303.0418 L220.3395 301.6797 L221.3418 300.3208 L222.3441 298.9655 L223.3464 297.6143 L224.3487 296.2676 L225.351 294.9259 L226.3533 293.5894 L227.3557 292.2586 L228.358 290.9338 L229.3603 289.6154 L230.3626 288.3036 L231.3649 286.9988 L232.3672 285.7013 L233.3695 284.4113 L234.3718 283.1291 L235.3741 281.8549 L236.3764 280.5889 L237.3788 279.3314 L238.3811 278.0826 L239.3834 276.8426 L240.3857 275.6116 L241.388 274.3898 L242.3903 273.1774 L243.3926 271.9744 L244.3949 270.7811 L245.3972 269.5974 L246.3995 268.4237 L247.4019 267.2599 L248.4042 266.1061 L249.4065 264.9625 L250.4088 263.829 L251.4111 262.7059 L252.4134 261.5931 L253.4157 260.4907 L254.418 259.3987 L255.4203 258.3172 L256.4226 257.2462 L257.4249 256.1859 L258.4272 255.136 L259.4296 254.0968 L260.4319 253.0681 L261.4342 252.0501 L262.4365 251.0427 L263.4388 250.0459 L264.4411 249.0596 L265.4434 248.084 L266.4457 247.119 L267.448 246.1644 L268.4503 245.2205 L269.4527 244.287 L270.455 243.364 L271.4573 242.4514 L272.4596 241.5492 L273.4619 240.6573 L274.4642 239.7758 L275.4665 238.9045 L276.4688 238.0435 L277.4711 237.1926 L278.4734 236.3518 L279.4757 235.521 L280.4781 234.7003 L281.4804 233.8895 L282.4827 233.0885 L283.485 232.2974 L284.4873 231.516 L285.4896 230.7443 L286.4919 229.9822 L287.4942 229.2296 L288.4965 228.4865 L289.4988 227.7528 L290.5012 227.0284 L291.5035 226.3132 L292.5058 225.6072 L293.5081 224.9103 L294.5104 224.2225 L295.5127 223.5435 L296.515 222.8734 L297.5173 222.2122 L298.5196 221.5596 L299.5219 220.9156 L300.5243 220.2802 L301.5266 219.6532 L302.5289 219.0346 L303.5312 218.4243 L304.5335 217.8222 L305.5358 217.2283 L306.5381 216.6424 L307.5404 216.0645 L308.5427 215.4944 L309.545 214.9322 L310.5473 214.3777 L311.5497 213.8308 L312.5519 213.2915 L313.5543 212.7597 L314.5566 212.2353 L315.5589 211.7182 L316.5612 211.2083 L317.5635 210.7055 L318.5658 210.2099 L319.5681 209.7212 L320.5704 209.2394 L321.5728 208.7645 L322.575 208.2963 L323.5774 207.8348 L324.5797 207.3799 L325.582 206.9315 L326.5843 206.4895 L327.5866 206.0539 L328.5889 205.6246 L329.5912 205.2015 L330.5935 204.7845 L331.5958 204.3736 L332.5981 203.9686 L333.6005 203.5695 L334.6028 203.1763 L335.6051 202.7889 L336.6074 202.4071 L337.6097 202.0309 L338.612 201.6603 L339.6143 201.2952 L340.6166 200.9354 L341.6189 200.581 L342.6212 200.2319 L343.6236 199.8879 L344.6259 199.549 L345.6282 199.2153 L346.6305 198.8865 L347.6328 198.5626 L348.6351 198.2436 L349.6374 197.9294 L350.6397 197.6199 L351.642 197.315 L352.6443 197.0148 L353.6467 196.7191 L354.649 196.4279 L355.6512 196.1411 L356.6536 195.8587 L357.6559 195.5806 L358.6582 195.3067 L359.6605 195.037 L360.6628 194.7714 L361.6651 194.5098 L362.6674 194.2523 L363.6698 193.9987 L364.6721 193.7491 L365.6743 193.5032 L366.6767 193.2612 L367.679 193.0228 L368.6813 192.7882 L369.6836 192.5572 L370.6859 192.3298 L371.6882 192.1059 L372.6906 191.8854 L373.6928 191.6684 L374.6951 191.4548 L375.6974 191.2445 L376.6998 191.0374 L377.7021 190.8336 L378.7044 190.633 L379.7067 190.4355 L380.709 190.2412 L381.7113 190.0498 L382.7136 189.8615 L383.7159 189.6761 L384.7182 189.4937 L385.7206 189.3141 L386.7229 189.1373 L387.7252 188.9633 L388.7275 188.7921 L389.7298 188.6236 L390.7321 188.4577 L391.7344 188.2945 L392.7367 188.1339 L393.739 187.9758 L394.7413 187.8202 L395.7437 187.6671 L396.746 187.5164 L397.7483 187.3681 L398.7506 187.2222 L399.7529 187.0786 L400.7552 186.9373 L401.7575 186.7983 L402.7598 186.6615 L403.7621 186.5268 L404.7644 186.3944 L405.7668 186.264 L406.7691 186.1358 L407.7714 186.0096 L408.7737 185.8854 L409.776 185.7632 L410.7783 185.643 L411.7806 185.5247 L412.7829 185.4083 L413.7852 185.2938 L414.7875 185.1812 L415.7899 185.0703 L416.7921 184.9613 L417.7945 184.854 L418.7968 184.7484 L419.7991 184.6446 L420.8014 184.5424 L421.8037 184.4419 L422.806 184.3431 L423.8083 184.2458 L424.8106 184.1501 L425.813 184.056 L426.8152 183.9634 L427.8175 183.8723 L428.8199 183.7827 L429.8222 183.6945 L430.8245 183.6078 L431.8268 183.5225 L432.8291 183.4386 L433.8314 183.356 L434.8337 183.2748 L435.836 183.1949 L436.8383 183.1164 L437.8406 183.0391 L438.843 182.9631 L439.8453 182.8883 L440.8476 182.8148 L441.8499 182.7424 L442.8522 182.6713 L443.8545 182.6013 L444.8568 182.5325 L445.8591 182.4648 L446.8614 182.3982 L447.8637 182.3327 L448.8661 182.2683 L449.8683 182.2049 L450.8707 182.1426 L451.873 182.0813 L452.8753 182.021 L453.8776 181.9618 L454.8799 181.9034 L455.8822 181.8461 L456.8845 181.7897 L457.8868 181.7342 L458.8892 181.6797 L459.8914 181.6261 L460.8938 181.5733 L461.8961 181.5214 L462.8984 181.4704 L463.9007 181.4202 L464.903 181.3708 L465.9053 181.3223 L466.9076 181.2746 L467.9099 181.2276 L468.9122 181.1815 L469.9146 181.1361 L470.9169 181.0915 L471.9192 181.0476 L472.9215 181.0044 L473.9238 180.9619 L474.9261 180.9202 L475.9284 180.8792 L476.9307 180.8388 L477.933 180.7991 L478.9353 180.7601 L479.9377 180.7217 L480.94 180.6839 L481.9423 180.6468 L482.9445 180.6103 L483.9469 180.5744 L484.9492 180.5392 L485.9515 180.5045 L486.9538 180.4704 L487.9561 180.4368 L488.9584 180.4038 L489.9608 180.3714 L490.963 180.3395 L491.9654 180.3081 L492.9677 180.2773 L493.97 180.247 L494.9723 180.2172 L495.9746 180.1879 L496.9769 180.159 L497.9792 180.1307 L498.9815 180.1028 L499.9838 180.0754 L500.9861 180.0485 L501.9884 180.022 L502.9908 179.996 L503.9931 179.9704 L504.9954 179.9452 L505.9977 179.9204 L507 179.8961\" style=\"fill:none; fill-rule:evenodd;\"\n",
       "    /></g\n",
       "  ></g\n",
       "></svg\n",
       ">\n"
      ]
     },
     "metadata": {
      "filenames": {
       "image/svg+xml": "/Users/eechris/code/src/github.com/cpjobling/eg-247-textbook/_build/jupyter_execute/fourier_transform/3/ft3_37_0.svg"
      }
     },
     "output_type": "display_data"
    }
   ],
   "source": [
    "ezplot(vout)\n",
    "title('Solution to Example 2')\n",
    "ylabel('v_{out}(t) [V]')\n",
    "xlabel('t [s]')\n",
    "grid "
   ]
  },
  {
   "cell_type": "markdown",
   "id": "9e1b59ec",
   "metadata": {
    "slideshow": {
     "slide_type": "notes"
    }
   },
   "source": [
    "See [ft3_ex2.m](https://cpjobling.github.io/eg-247-textbook/fourier_transform/matlab/ft3_ex2.m)"
   ]
  },
  {
   "cell_type": "markdown",
   "id": "987e54d2",
   "metadata": {
    "slideshow": {
     "slide_type": "notes"
    }
   },
   "source": [
    "Result is equivalent to:\n",
    "    \n",
    "    vout = -5*exp(-3*t)*heaviside(t)*(2*exp(t) - 3)\n",
    "\n",
    "Which after gathering terms gives\n",
    "\n",
    "$$v_{\\mathrm{out}} = 5\\left(3e^{-3t} - 2e^{-2t}\\right)u_0(t)$$"
   ]
  },
  {
   "cell_type": "markdown",
   "id": "5120d4fa",
   "metadata": {
    "slideshow": {
     "slide_type": "subslide"
    }
   },
   "source": [
    "### Example 3\n",
    "\n",
    "Karris example 8.10: for the linear network shown below, the input-output relationship is:\n",
    "\n",
    "$$\\frac{d}{dt}v_{\\mathrm{out}}+4v_{\\mathrm{out}}=10v_{\\mathrm{in}}$$\n",
    "\n",
    "where $v_{\\mathrm{in}}=3e^{-2t}$. Use the Fourier transform method, and the system function $H(\\omega)$ to compute the output $v_{\\mathrm{out}}$. Verify the result with Matlab.\n",
    "\n",
    "![Example 3](./pictures/example3-small.png)"
   ]
  },
  {
   "cell_type": "markdown",
   "id": "9a6a0e99",
   "metadata": {
    "slideshow": {
     "slide_type": "notes"
    }
   },
   "source": [
    "#### Solution to example 3\n",
    "\n",
    "<pre style=\"border: 2px solid blue\">\n",
    "\n",
    "\n",
    "\n",
    "\n",
    "\n",
    "\n",
    "\n",
    "\n",
    "\n",
    "\n",
    "\n",
    "\n",
    "\n",
    "\n",
    "\n",
    "\n",
    "\n",
    "\n",
    "\n",
    "\n",
    "\n",
    "\n",
    "\n",
    "\n",
    "</pre>"
   ]
  },
  {
   "cell_type": "markdown",
   "id": "e6dd8ab4",
   "metadata": {
    "slideshow": {
     "slide_type": "subslide"
    }
   },
   "source": [
    "#### Matlab verification of example 3"
   ]
  },
  {
   "cell_type": "code",
   "execution_count": 14,
   "id": "281d33b6",
   "metadata": {
    "slideshow": {
     "slide_type": "subslide"
    }
   },
   "outputs": [
    {
     "name": "stdout",
     "output_type": "stream",
     "text": [
      "H =\n"
     ]
    },
    {
     "name": "stdout",
     "output_type": "stream",
     "text": [
      "10/(4 + w*1i)\n"
     ]
    }
   ],
   "source": [
    "syms t w\n",
    "H = 10/(j*w + 4)"
   ]
  },
  {
   "cell_type": "code",
   "execution_count": 15,
   "id": "0b4a353b",
   "metadata": {
    "slideshow": {
     "slide_type": "subslide"
    }
   },
   "outputs": [
    {
     "name": "stdout",
     "output_type": "stream",
     "text": [
      "Vin =\n"
     ]
    },
    {
     "name": "stdout",
     "output_type": "stream",
     "text": [
      "3/(2 + w*1i)\n"
     ]
    }
   ],
   "source": [
    "Vin = fourier(3*exp(-2*t)*heaviside(t),t,w)"
   ]
  },
  {
   "cell_type": "code",
   "execution_count": 16,
   "id": "1115877b",
   "metadata": {
    "slideshow": {
     "slide_type": "subslide"
    }
   },
   "outputs": [
    {
     "name": "stdout",
     "output_type": "stream",
     "text": [
      "Vout =\n"
     ]
    },
    {
     "name": "stdout",
     "output_type": "stream",
     "text": [
      "30/((2 + w*1i)*(4 + w*1i))\n"
     ]
    }
   ],
   "source": [
    "Vout=simplify(H*Vin)"
   ]
  },
  {
   "cell_type": "code",
   "execution_count": 17,
   "id": "e58c0435",
   "metadata": {
    "slideshow": {
     "slide_type": "subslide"
    }
   },
   "outputs": [
    {
     "name": "stdout",
     "output_type": "stream",
     "text": [
      "vout =\n"
     ]
    },
    {
     "name": "stdout",
     "output_type": "stream",
     "text": [
      "(15*exp(-4*t)*(sign(t) + 1)*(exp(2*t) - 1))/2\n"
     ]
    }
   ],
   "source": [
    "vout = simplify(ifourier(Vout,w,t))"
   ]
  },
  {
   "cell_type": "markdown",
   "id": "775e7513",
   "metadata": {
    "slideshow": {
     "slide_type": "subslide"
    }
   },
   "source": [
    "Plot result"
   ]
  },
  {
   "cell_type": "code",
   "execution_count": 18,
   "id": "0bd0cdbb",
   "metadata": {
    "slideshow": {
     "slide_type": "subslide"
    }
   },
   "outputs": [
    {
     "data": {
      "image/svg+xml": [
       "<?xml version=\"1.0\"?>\n",
       "<!DOCTYPE svg PUBLIC '-//W3C//DTD SVG 1.0//EN'\n",
       "          'http://www.w3.org/TR/2001/REC-SVG-20010904/DTD/svg10.dtd'>\n",
       "<svg xmlns:xlink=\"http://www.w3.org/1999/xlink\" style=\"fill-opacity:1; color-rendering:auto; color-interpolation:auto; text-rendering:auto; stroke:black; stroke-linecap:square; stroke-miterlimit:10; shape-rendering:auto; stroke-opacity:1; fill:black; stroke-dasharray:none; font-weight:normal; stroke-width:1; font-family:'Dialog'; font-style:normal; stroke-linejoin:miter; font-size:12px; stroke-dashoffset:0; image-rendering:auto;\" width=\"560\" height=\"420\" xmlns=\"http://www.w3.org/2000/svg\"\n",
       "><!--Generated by the Batik Graphics2D SVG Generator--><defs id=\"genericDefs\"\n",
       "  /><g\n",
       "  ><defs id=\"defs1\"\n",
       "    ><clipPath clipPathUnits=\"userSpaceOnUse\" id=\"clipPath1\"\n",
       "      ><path d=\"M0 0 L560 0 L560 420 L0 420 L0 0 Z\"\n",
       "      /></clipPath\n",
       "      ><font horiz-adv-x=\"50.0\" id=\"font1\"\n",
       "      ><font-face ascent=\"95.200005\" descent=\"21.3\" units-per-em=\"100\" style=\"font-style:normal; font-family:Helvetica Neue; font-weight:normal;\"\n",
       "        /><missing-glyph horiz-adv-x=\"50.0\" d=\"M40.9 66.6 L10.2 66.6 L10.2 4.7 L40.9 4.7 ZM46 71.2 L46 0.1 L5.1 0.1 L5.1 71.2 Z\"\n",
       "        /><glyph unicode=\"0\" horiz-adv-x=\"55.6\" d=\"M13.2 34.9 Q13.2 37.5 13.25 40.65 Q13.3 43.8 13.75 46.95 Q14.2 50.1 15.05 53.1 Q15.9 56.1 17.55 58.35 Q19.2 60.6 21.7 62 Q24.2 63.4 27.8 63.4 Q31.4 63.4 33.9 62 Q36.4 60.6 38.05 58.35 Q39.7 56.1 40.55 53.1 Q41.4 50.1 41.85 46.95 Q42.3 43.8 42.35 40.65 Q42.4 37.5 42.4 34.9 Q42.4 30.9 42.15 25.95 Q41.9 21 40.55 16.65 Q39.2 12.3 36.2 9.3 Q33.2 6.3 27.8 6.3 Q22.4 6.3 19.4 9.3 Q16.4 12.3 15.05 16.65 Q13.7 21 13.45 25.95 Q13.2 30.9 13.2 34.9 ZM4.2 34.8 Q4.2 30.9 4.4 26.7 Q4.6 22.5 5.4 18.5 Q6.2 14.5 7.7 10.95 Q9.2 7.4 11.8 4.7 Q14.4 2 18.35 0.45 Q22.3 -1.1 27.8 -1.1 Q33.4 -1.1 37.3 0.45 Q41.2 2 43.8 4.7 Q46.4 7.4 47.9 10.95 Q49.4 14.5 50.2 18.5 Q51 22.5 51.2 26.7 Q51.4 30.9 51.4 34.8 Q51.4 38.7 51.2 42.9 Q51 47.1 50.2 51.1 Q49.4 55.1 47.9 58.7 Q46.4 62.3 43.8 65 Q41.2 67.7 37.25 69.3 Q33.3 70.9 27.8 70.9 Q22.3 70.9 18.35 69.3 Q14.4 67.7 11.8 65 Q9.2 62.3 7.7 58.7 Q6.2 55.1 5.4 51.1 Q4.6 47.1 4.4 42.9 Q4.2 38.7 4.2 34.8 Z\"\n",
       "        /><glyph unicode=\"5\" horiz-adv-x=\"55.6\" d=\"M47 62.2 L47 69.7 L12 69.7 L5.4 32.9 L12.7 32.5 Q15.2 35.5 18.45 37.35 Q21.7 39.2 25.9 39.2 Q29.5 39.2 32.45 38 Q35.4 36.8 37.5 34.65 Q39.6 32.5 40.75 29.55 Q41.9 26.6 41.9 23.1 Q41.9 18.9 40.7 15.75 Q39.5 12.6 37.45 10.5 Q35.4 8.4 32.65 7.35 Q29.9 6.3 26.9 6.3 Q23.7 6.3 21.05 7.25 Q18.4 8.2 16.45 9.95 Q14.5 11.7 13.35 14.05 Q12.2 16.4 12 19.1 L3.5 19.1 Q3.6 14.3 5.4 10.5 Q7.2 6.7 10.3 4.15 Q13.4 1.6 17.45 0.25 Q21.5 -1.1 26.1 -1.1 Q32.3 -1.1 36.95 0.85 Q41.6 2.8 44.7 6.1 Q47.8 9.4 49.35 13.65 Q50.9 17.9 50.9 22.4 Q50.9 28.5 49.1 33.05 Q47.3 37.6 44.2 40.65 Q41.1 43.7 36.9 45.2 Q32.7 46.7 28 46.7 Q24.4 46.7 20.75 45.45 Q17.1 44.2 14.8 41.6 L14.6 41.8 L18.4 62.2 Z\"\n",
       "        /><glyph unicode=\".\" horiz-adv-x=\"27.8\" d=\"M8.3 11.1 L8.3 0 L19.4 0 L19.4 11.1 Z\"\n",
       "        /><glyph unicode=\"1\" horiz-adv-x=\"55.6\" d=\"M35.6 0 L35.6 70.9 L29.1 70.9 Q28.4 66.9 26.5 64.3 Q24.6 61.7 21.85 60.2 Q19.1 58.7 15.7 58.15 Q12.3 57.6 8.7 57.6 L8.7 50.8 L27.1 50.8 L27.1 0 Z\"\n",
       "        /><glyph unicode=\"2\" horiz-adv-x=\"55.6\" d=\"M4.4 45.8 L12.9 45.8 Q12.8 49 13.55 52.15 Q14.3 55.3 16 57.8 Q17.7 60.3 20.35 61.85 Q23 63.4 26.7 63.4 Q29.5 63.4 32 62.5 Q34.5 61.6 36.35 59.9 Q38.2 58.2 39.3 55.85 Q40.4 53.5 40.4 50.6 Q40.4 46.9 39.25 44.1 Q38.1 41.3 35.85 38.9 Q33.6 36.5 30.2 34.15 Q26.8 31.8 22.3 29 Q18.6 26.8 15.2 24.3 Q11.8 21.8 9.1 18.5 Q6.4 15.2 4.65 10.75 Q2.9 6.3 2.4 0 L48.7 0 L48.7 7.5 L12.3 7.5 Q12.9 10.8 14.85 13.35 Q16.8 15.9 19.55 18.1 Q22.3 20.3 25.6 22.25 Q28.9 24.2 32.2 26.2 Q35.5 28.3 38.6 30.6 Q41.7 32.9 44.1 35.75 Q46.5 38.6 47.95 42.2 Q49.4 45.8 49.4 50.5 Q49.4 55.5 47.65 59.3 Q45.9 63.1 42.9 65.65 Q39.9 68.2 35.85 69.55 Q31.8 70.9 27.2 70.9 Q21.6 70.9 17.2 69 Q12.8 67.1 9.85 63.75 Q6.9 60.4 5.5 55.8 Q4.1 51.2 4.4 45.8 Z\"\n",
       "        /><glyph unicode=\"3\" horiz-adv-x=\"55.6\" d=\"M21.8 40.5 L21.8 33.3 Q24.2 33.6 26.9 33.6 Q30.1 33.6 32.85 32.75 Q35.6 31.9 37.6 30.15 Q39.6 28.4 40.8 25.85 Q42 23.3 42 20 Q42 16.8 40.75 14.25 Q39.5 11.7 37.4 9.95 Q35.3 8.2 32.5 7.25 Q29.7 6.3 26.6 6.3 Q19.3 6.3 15.5 10.65 Q11.7 15 11.5 21.9 L3 21.9 Q2.9 16.4 4.55 12.1 Q6.2 7.8 9.3 4.85 Q12.4 1.9 16.8 0.4 Q21.2 -1.1 26.6 -1.1 Q31.6 -1.1 36.05 0.25 Q40.5 1.6 43.8 4.3 Q47.1 7 49.05 11.05 Q51 15.1 51 20.4 Q51 26.8 47.85 31.5 Q44.7 36.2 38.2 37.6 L38.2 37.8 Q42.4 39.7 45.2 43.4 Q48 47.1 48 51.9 Q48 56.8 46.35 60.4 Q44.7 64 41.8 66.3 Q38.9 68.6 34.95 69.75 Q31 70.9 26.4 70.9 Q21.1 70.9 17.05 69.2 Q13 67.5 10.3 64.5 Q7.6 61.5 6.15 57.3 Q4.7 53.1 4.5 48 L13 48 Q13 51.1 13.8 53.9 Q14.6 56.7 16.25 58.8 Q17.9 60.9 20.45 62.15 Q23 63.4 26.4 63.4 Q31.8 63.4 35.4 60.55 Q39 57.7 39 52 Q39 49.2 37.9 47 Q36.8 44.8 34.95 43.35 Q33.1 41.9 30.65 41.15 Q28.2 40.4 25.5 40.4 L23.7 40.4 Q23.2 40.4 22.7 40.4 Q22.3 40.4 21.8 40.5 Z\"\n",
       "        /><glyph unicode=\"]\" horiz-adv-x=\"25.9\" d=\"M0 -12.9 L0 -19.7 L18.7 -19.7 L18.7 73.1 L0 73.1 L0 66.3 L10.7 66.3 L10.7 -12.9 Z\"\n",
       "        /><glyph unicode=\"s\" horiz-adv-x=\"50.0\" d=\"M11.6 16.3 L3.1 16.3 Q3.3 11.5 5.1 8.15 Q6.9 4.8 9.9 2.75 Q12.9 0.7 16.8 -0.2 Q20.7 -1.1 25 -1.1 Q28.9 -1.1 32.85 -0.35 Q36.8 0.4 39.95 2.3 Q43.1 4.2 45.05 7.3 Q47 10.4 47 15.1 Q47 18.8 45.55 21.3 Q44.1 23.8 41.75 25.45 Q39.4 27.1 36.35 28.1 Q33.3 29.1 30.1 29.8 Q27.1 30.5 24.1 31.15 Q21.1 31.8 18.7 32.75 Q16.3 33.7 14.75 35.15 Q13.2 36.6 13.2 38.8 Q13.2 40.8 14.2 42.05 Q15.2 43.3 16.8 44.05 Q18.4 44.8 20.35 45.1 Q22.3 45.4 24.2 45.4 Q26.3 45.4 28.35 44.95 Q30.4 44.5 32.1 43.5 Q33.8 42.5 34.9 40.85 Q36 39.2 36.2 36.7 L44.7 36.7 Q44.4 41.4 42.7 44.55 Q41 47.7 38.15 49.55 Q35.3 51.4 31.6 52.15 Q27.9 52.9 23.5 52.9 Q20.1 52.9 16.65 52.05 Q13.2 51.2 10.45 49.45 Q7.7 47.7 5.95 44.9 Q4.2 42.1 4.2 38.2 Q4.2 33.2 6.7 30.4 Q9.2 27.6 12.95 26.05 Q16.7 24.5 21.1 23.65 Q25.5 22.8 29.25 21.75 Q33 20.7 35.5 19 Q38 17.3 38 14 Q38 11.6 36.8 10.05 Q35.6 8.5 33.75 7.7 Q31.9 6.9 29.7 6.6 Q27.5 6.3 25.5 6.3 Q22.9 6.3 20.45 6.8 Q18 7.3 16.05 8.45 Q14.1 9.6 12.9 11.55 Q11.7 13.5 11.6 16.3 Z\"\n",
       "        /><glyph unicode=\"[\" horiz-adv-x=\"25.9\" d=\"M25.9 66.3 L25.9 73.1 L7.2 73.1 L7.2 -19.7 L25.9 -19.7 L25.9 -12.9 L15.2 -12.9 L15.2 66.3 Z\"\n",
       "        /><glyph unicode=\" \" horiz-adv-x=\"27.8\" d=\"\"\n",
       "        /><glyph unicode=\"t\" horiz-adv-x=\"31.5\" d=\"M18.2 51.7 L18.2 67.2 L9.7 67.2 L9.7 51.7 L0.9 51.7 L0.9 44.2 L9.7 44.2 L9.7 11.3 Q9.7 7.7 10.4 5.5 Q11.1 3.3 12.55 2.1 Q14 0.9 16.35 0.45 Q18.7 0 22 0 L28.5 0 L28.5 7.5 L24.6 7.5 Q22.6 7.5 21.35 7.65 Q20.1 7.8 19.4 8.3 Q18.7 8.8 18.45 9.7 Q18.2 10.6 18.2 12.1 L18.2 44.2 L28.5 44.2 L28.5 51.7 Z\"\n",
       "        /><glyph unicode=\"4\" horiz-adv-x=\"55.6\" d=\"M33.9 24.1 L10.1 24.1 L33.7 58.8 L33.9 58.8 ZM41.9 24.1 L41.9 70.9 L35.1 70.9 L2.8 24.8 L2.8 16.6 L33.9 16.6 L33.9 0 L41.9 0 L41.9 16.6 L51.5 16.6 L51.5 24.1 Z\"\n",
       "        /><glyph unicode=\"v\" horiz-adv-x=\"50.0\" d=\"M29.7 0 L48.6 51.7 L39.7 51.7 L25.6 8.6 L25.4 8.6 L10.9 51.7 L1.4 51.7 L20.6 0 Z\"\n",
       "        /><glyph unicode=\"u\" horiz-adv-x=\"55.6\" d=\"M49.2 0 L49.2 51.7 L40.7 51.7 L40.7 22.5 Q40.7 19 39.75 16.05 Q38.8 13.1 36.9 10.9 Q35 8.7 32.15 7.5 Q29.3 6.3 25.4 6.3 Q20.5 6.3 17.7 9.1 Q14.9 11.9 14.9 16.7 L14.9 51.7 L6.4 51.7 L6.4 17.7 Q6.4 13.5 7.25 10.05 Q8.1 6.6 10.2 4.1 Q12.3 1.6 15.7 0.25 Q19.1 -1.1 24.2 -1.1 Q29.9 -1.1 34.1 1.15 Q38.3 3.4 41 8.2 L41.2 8.2 L41.2 0 Z\"\n",
       "        /><glyph unicode=\"o\" horiz-adv-x=\"57.4\" d=\"M12.6 25.8 Q12.6 30.5 13.85 34.15 Q15.1 37.8 17.3 40.3 Q19.5 42.8 22.45 44.1 Q25.4 45.4 28.7 45.4 Q32 45.4 34.95 44.1 Q37.9 42.8 40.1 40.3 Q42.3 37.8 43.55 34.15 Q44.8 30.5 44.8 25.8 Q44.8 21.1 43.55 17.45 Q42.3 13.8 40.1 11.35 Q37.9 8.9 34.95 7.6 Q32 6.3 28.7 6.3 Q25.4 6.3 22.45 7.6 Q19.5 8.9 17.3 11.35 Q15.1 13.8 13.85 17.45 Q12.6 21.1 12.6 25.8 ZM3.6 25.8 Q3.6 20.1 5.2 15.2 Q6.8 10.3 10 6.65 Q13.2 3 17.9 0.95 Q22.6 -1.1 28.7 -1.1 Q34.9 -1.1 39.55 0.95 Q44.2 3 47.4 6.65 Q50.6 10.3 52.2 15.2 Q53.8 20.1 53.8 25.8 Q53.8 31.5 52.2 36.45 Q50.6 41.4 47.4 45.05 Q44.2 48.7 39.55 50.8 Q34.9 52.9 28.7 52.9 Q22.6 52.9 17.9 50.8 Q13.2 48.7 10 45.05 Q6.8 41.4 5.2 36.45 Q3.6 31.5 3.6 25.8 Z\"\n",
       "        /><glyph unicode=\"V\" horiz-adv-x=\"61.1\" d=\"M35.9 0 L61.3 71.4 L51.4 71.4 L30.8 9.5 L30.6 9.5 L10.2 71.4 L0 71.4 L25.1 0 Z\"\n",
       "        /><glyph unicode=\")\" horiz-adv-x=\"25.9\" d=\"M-0.9 -19.7 L5.5 -19.7 Q13.3 -9.4 17.25 2.55 Q21.2 14.5 21.2 26.3 Q21.2 32.9 20.1 38.9 Q19 44.9 16.95 50.65 Q14.9 56.4 12 61.95 Q9.1 67.5 5.5 73.1 L-0.9 73.1 Q6.1 61.6 9.15 50.25 Q12.2 38.9 12.2 26.3 Q12.2 14.1 9.2 2.85 Q6.2 -8.4 -0.9 -19.7 Z\"\n",
       "        /><glyph unicode=\"(\" horiz-adv-x=\"25.9\" d=\"M20.4 -19.7 L26.9 -19.7 Q19.8 -8.2 16.75 3.1 Q13.7 14.4 13.7 27 Q13.7 39.3 16.7 50.5 Q19.7 61.7 26.9 73.1 L20.4 73.1 Q12.6 62.8 8.65 50.8 Q4.7 38.8 4.7 27 Q4.7 20.4 5.8 14.4 Q6.9 8.4 8.95 2.7 Q11 -3 13.9 -8.55 Q16.8 -14.1 20.4 -19.7 Z\"\n",
       "      /></font\n",
       "      ><font horiz-adv-x=\"50.0\" id=\"font2\"\n",
       "      ><font-face ascent=\"97.5\" descent=\"21.699999\" units-per-em=\"100\" style=\"font-style:normal; font-family:Helvetica Neue; font-weight:bold;\"\n",
       "        /><missing-glyph horiz-adv-x=\"50.0\" d=\"M39.1 60.7 L11.1 60.7 L11.1 9.5 L39.1 9.5 ZM48.2 69.8 L48.2 0.3 L1.7 0.3 L1.7 69.8 Z\"\n",
       "        /><glyph unicode=\"3\" horiz-adv-x=\"55.6\" d=\"M22.8 41.7 L22.8 31.7 Q25.4 31.7 28.25 31.55 Q31.1 31.4 33.5 30.45 Q35.9 29.5 37.45 27.4 Q39 25.3 39 21.3 Q39 16.2 35.7 13.25 Q32.4 10.3 27.6 10.3 Q24.5 10.3 22.25 11.4 Q20 12.5 18.5 14.35 Q17 16.2 16.2 18.75 Q15.4 21.3 15.3 24.1 L1.8 24.1 Q1.7 18 3.55 13.3 Q5.4 8.6 8.8 5.35 Q12.2 2.1 17.05 0.4 Q21.9 -1.3 27.8 -1.3 Q32.9 -1.3 37.6 0.2 Q42.3 1.7 45.9 4.6 Q49.5 7.5 51.65 11.8 Q53.8 16.1 53.8 21.6 Q53.8 27.6 50.5 31.9 Q47.2 36.2 41.4 37.5 L41.4 37.7 Q46.3 39.1 48.75 43 Q51.2 46.9 51.2 52 Q51.2 56.7 49.1 60.3 Q47 63.9 43.65 66.4 Q40.3 68.9 36.1 70.15 Q31.9 71.4 27.7 71.4 Q22.3 71.4 17.9 69.65 Q13.5 67.9 10.35 64.7 Q7.2 61.5 5.45 57.05 Q3.7 52.6 3.5 47.2 L17 47.2 Q16.9 52.6 19.65 56.15 Q22.4 59.7 27.8 59.7 Q31.7 59.7 34.7 57.3 Q37.7 54.9 37.7 50.4 Q37.7 47.4 36.25 45.6 Q34.8 43.8 32.55 42.85 Q30.3 41.9 27.7 41.7 Q25.1 41.5 22.8 41.7 Z\"\n",
       "        /><glyph unicode=\"e\" horiz-adv-x=\"57.4\" d=\"M40.2 31.4 L17.1 31.4 Q17.2 32.9 17.75 34.8 Q18.3 36.7 19.65 38.4 Q21 40.1 23.25 41.25 Q25.5 42.4 28.9 42.4 Q34.1 42.4 36.65 39.6 Q39.2 36.8 40.2 31.4 ZM17.1 22.4 L54.4 22.4 Q54.8 28.4 53.4 33.9 Q52 39.4 48.85 43.7 Q45.7 48 40.8 50.55 Q35.9 53.1 29.3 53.1 Q23.4 53.1 18.55 51 Q13.7 48.9 10.2 45.25 Q6.7 41.6 4.8 36.6 Q2.9 31.6 2.9 25.8 Q2.9 19.8 4.75 14.8 Q6.6 9.8 10 6.2 Q13.4 2.6 18.3 0.65 Q23.2 -1.3 29.3 -1.3 Q38.1 -1.3 44.3 2.7 Q50.5 6.7 53.5 16 L41 16 Q40.3 13.6 37.2 11.45 Q34.1 9.3 29.8 9.3 Q23.8 9.3 20.6 12.4 Q17.4 15.5 17.1 22.4 Z\"\n",
       "        /><glyph unicode=\"p\" horiz-adv-x=\"61.1\" d=\"M31.5 9.3 Q28.1 9.3 25.7 10.7 Q23.3 12.1 21.85 14.35 Q20.4 16.6 19.75 19.6 Q19.1 22.6 19.1 25.7 Q19.1 28.9 19.7 31.9 Q20.3 34.9 21.75 37.2 Q23.2 39.5 25.55 40.95 Q27.9 42.4 31.4 42.4 Q34.8 42.4 37.15 40.95 Q39.5 39.5 41 37.15 Q42.5 34.8 43.15 31.8 Q43.8 28.8 43.8 25.7 Q43.8 22.6 43.2 19.6 Q42.6 16.6 41.15 14.35 Q39.7 12.1 37.35 10.7 Q35 9.3 31.5 9.3 ZM5.4 51.7 L5.4 -18.1 L19.6 -18.1 L19.6 6.4 L19.8 6.4 Q22.4 2.6 26.45 0.65 Q30.5 -1.3 35.3 -1.3 Q41 -1.3 45.25 0.9 Q49.5 3.1 52.35 6.8 Q55.2 10.5 56.6 15.3 Q58 20.1 58 25.3 Q58 30.8 56.6 35.85 Q55.2 40.9 52.3 44.7 Q49.4 48.5 45 50.8 Q40.6 53.1 34.5 53.1 Q29.7 53.1 25.7 51.2 Q21.7 49.3 19.1 45.1 L18.9 45.1 L18.9 51.7 Z\"\n",
       "        /><glyph unicode=\"m\" horiz-adv-x=\"90.6\" d=\"M5.8 51.7 L5.8 0 L20 0 L20 30 Q20 33.8 21.1 36.15 Q22.2 38.5 23.75 39.75 Q25.3 41 26.95 41.45 Q28.6 41.9 29.6 41.9 Q33 41.9 34.75 40.75 Q36.5 39.6 37.25 37.7 Q38 35.8 38.1 33.55 Q38.2 31.3 38.2 29 L38.2 0 L52.4 0 L52.4 28.8 Q52.4 31.2 52.75 33.55 Q53.1 35.9 54.15 37.75 Q55.2 39.6 57.05 40.75 Q58.9 41.9 61.9 41.9 Q64.9 41.9 66.65 40.9 Q68.4 39.9 69.3 38.2 Q70.2 36.5 70.4 34.2 Q70.6 31.9 70.6 29.3 L70.6 0 L84.8 0 L84.8 34.6 Q84.8 39.6 83.4 43.15 Q82 46.7 79.5 48.9 Q77 51.1 73.5 52.1 Q70 53.1 65.9 53.1 Q60.5 53.1 56.55 50.5 Q52.6 47.9 50.3 44.5 Q48.2 49.3 44.15 51.2 Q40.1 53.1 35.2 53.1 Q30.1 53.1 26.15 50.9 Q22.2 48.7 19.4 44.7 L19.2 44.7 L19.2 51.7 Z\"\n",
       "        /><glyph unicode=\"a\" horiz-adv-x=\"57.4\" d=\"M4.8 35.8 Q5.1 40.8 7.3 44.1 Q9.5 47.4 12.9 49.4 Q16.3 51.4 20.55 52.25 Q24.8 53.1 29.1 53.1 Q33 53.1 37 52.55 Q41 52 44.3 50.4 Q47.6 48.8 49.7 45.95 Q51.8 43.1 51.8 38.4 L51.8 11.5 Q51.8 8 52.2 4.8 Q52.6 1.6 53.6 0 L39.2 0 Q38.8 1.2 38.55 2.45 Q38.3 3.7 38.2 5 Q34.8 1.5 30.2 0.1 Q25.6 -1.3 20.8 -1.3 Q17.1 -1.3 13.9 -0.4 Q10.7 0.5 8.3 2.4 Q5.9 4.3 4.55 7.2 Q3.2 10.1 3.2 14.1 Q3.2 18.5 4.75 21.35 Q6.3 24.2 8.75 25.9 Q11.2 27.6 14.35 28.45 Q17.5 29.3 20.7 29.8 Q23.9 30.3 27 30.6 Q30.1 30.9 32.5 31.5 Q34.9 32.1 36.3 33.25 Q37.7 34.4 37.6 36.6 Q37.6 38.9 36.85 40.25 Q36.1 41.6 34.85 42.35 Q33.6 43.1 31.95 43.35 Q30.3 43.6 28.4 43.6 Q24.2 43.6 21.8 41.8 Q19.4 40 19 35.8 ZM37.6 25.3 Q36.7 24.5 35.35 24.05 Q34 23.6 32.45 23.3 Q30.9 23 29.2 22.8 Q27.5 22.6 25.8 22.3 Q24.2 22 22.65 21.5 Q21.1 21 19.95 20.15 Q18.8 19.3 18.1 18 Q17.4 16.7 17.4 14.7 Q17.4 12.8 18.1 11.5 Q18.8 10.2 20 9.45 Q21.2 8.7 22.8 8.4 Q24.4 8.1 26.1 8.1 Q30.3 8.1 32.6 9.5 Q34.9 10.9 36 12.85 Q37.1 14.8 37.35 16.8 Q37.6 18.8 37.6 20 Z\"\n",
       "        /><glyph unicode=\"x\" horiz-adv-x=\"53.7\" d=\"M18.6 27.2 L0 0 L15.9 0 L26.7 16.3 L37.5 0 L53.7 0 L34.6 27.5 L51.6 51.7 L35.9 51.7 L26.9 38.2 L17.8 51.7 L1.6 51.7 Z\"\n",
       "        /><glyph unicode=\"E\" horiz-adv-x=\"64.8\" d=\"M6.9 71.4 L6.9 0 L61.1 0 L61.1 13.2 L22.6 13.2 L22.6 30.7 L57.2 30.7 L57.2 42.9 L22.6 42.9 L22.6 58.2 L60.3 58.2 L60.3 71.4 Z\"\n",
       "        /><glyph unicode=\" \" horiz-adv-x=\"27.8\" d=\"\"\n",
       "        /><glyph unicode=\"n\" horiz-adv-x=\"59.3\" d=\"M5.4 51.7 L5.4 0 L19.6 0 L19.6 27.1 Q19.6 35 22.2 38.45 Q24.8 41.9 30.6 41.9 Q35.7 41.9 37.7 38.75 Q39.7 35.6 39.7 29.2 L39.7 0 L53.9 0 L53.9 31.8 Q53.9 36.6 53.05 40.55 Q52.2 44.5 50.1 47.25 Q48 50 44.35 51.55 Q40.7 53.1 35 53.1 Q30.5 53.1 26.2 51.05 Q21.9 49 19.2 44.5 L18.9 44.5 L18.9 51.7 Z\"\n",
       "        /><glyph unicode=\"i\" horiz-adv-x=\"25.8\" d=\"M20 59.7 L20 71.4 L5.8 71.4 L5.8 59.7 ZM5.8 51.7 L5.8 0 L20 0 L20 51.7 Z\"\n",
       "        /><glyph unicode=\"t\" horiz-adv-x=\"35.2\" d=\"M23.4 51.7 L23.4 67.2 L9.2 67.2 L9.2 51.7 L0.6 51.7 L0.6 42.2 L9.2 42.2 L9.2 11.7 Q9.2 7.8 10.5 5.4 Q11.8 3 14.05 1.7 Q16.3 0.4 19.25 -0.05 Q22.2 -0.5 25.5 -0.5 Q27.6 -0.5 29.8 -0.4 Q32 -0.3 33.8 0 L33.8 11 Q32.8 10.8 31.7 10.7 Q30.6 10.6 29.4 10.6 Q25.8 10.6 24.6 11.8 Q23.4 13 23.4 16.6 L23.4 42.2 L33.8 42.2 L33.8 51.7 Z\"\n",
       "        /><glyph unicode=\"u\" horiz-adv-x=\"59.3\" d=\"M53.9 0 L53.9 51.7 L39.7 51.7 L39.7 24.6 Q39.7 16.7 37.1 13.25 Q34.5 9.8 28.7 9.8 Q23.6 9.8 21.6 12.95 Q19.6 16.1 19.6 22.5 L19.6 51.7 L5.4 51.7 L5.4 19.9 Q5.4 15.1 6.25 11.15 Q7.1 7.2 9.2 4.45 Q11.3 1.7 14.95 0.2 Q18.6 -1.3 24.3 -1.3 Q28.8 -1.3 33.1 0.7 Q37.4 2.7 40.1 7.2 L40.4 7.2 L40.4 0 Z\"\n",
       "        /><glyph unicode=\"l\" horiz-adv-x=\"25.8\" d=\"M5.8 71.4 L5.8 0 L20 0 L20 71.4 Z\"\n",
       "        /><glyph unicode=\"o\" horiz-adv-x=\"61.1\" d=\"M18 25.8 Q18 28.9 18.6 31.9 Q19.2 34.9 20.65 37.2 Q22.1 39.5 24.5 40.95 Q26.9 42.4 30.5 42.4 Q34.1 42.4 36.55 40.95 Q39 39.5 40.45 37.2 Q41.9 34.9 42.5 31.9 Q43.1 28.9 43.1 25.8 Q43.1 22.7 42.5 19.75 Q41.9 16.8 40.45 14.45 Q39 12.1 36.55 10.7 Q34.1 9.3 30.5 9.3 Q26.9 9.3 24.5 10.7 Q22.1 12.1 20.65 14.45 Q19.2 16.8 18.6 19.75 Q18 22.7 18 25.8 ZM3.8 25.8 Q3.8 19.6 5.7 14.6 Q7.6 9.6 11.1 6.05 Q14.6 2.5 19.5 0.6 Q24.4 -1.3 30.5 -1.3 Q36.6 -1.3 41.55 0.6 Q46.5 2.5 50 6.05 Q53.5 9.6 55.4 14.6 Q57.3 19.6 57.3 25.8 Q57.3 32 55.4 37.05 Q53.5 42.1 50 45.65 Q46.5 49.2 41.55 51.15 Q36.6 53.1 30.5 53.1 Q24.4 53.1 19.5 51.15 Q14.6 49.2 11.1 45.65 Q7.6 42.1 5.7 37.05 Q3.8 32 3.8 25.8 Z\"\n",
       "        /><glyph unicode=\"S\" horiz-adv-x=\"64.9\" d=\"M17.6 23.7 L2.4 23.7 Q2.3 17.1 4.8 12.3 Q7.3 7.5 11.55 4.4 Q15.8 1.3 21.35 -0.15 Q26.9 -1.6 32.8 -1.6 Q40.1 -1.6 45.65 0.1 Q51.2 1.8 54.95 4.85 Q58.7 7.9 60.6 12.1 Q62.5 16.3 62.5 21.2 Q62.5 27.2 59.95 31.05 Q57.4 34.9 53.9 37.2 Q50.4 39.5 46.85 40.55 Q43.3 41.6 41.3 42 Q34.6 43.7 30.45 44.8 Q26.3 45.9 23.95 47 Q21.6 48.1 20.8 49.4 Q20 50.7 20 52.8 Q20 55.1 21 56.6 Q22 58.1 23.55 59.1 Q25.1 60.1 27 60.5 Q28.9 60.9 30.8 60.9 Q33.7 60.9 36.15 60.4 Q38.6 59.9 40.5 58.7 Q42.4 57.5 43.55 55.4 Q44.7 53.3 44.9 50.1 L60.1 50.1 Q60.1 56.3 57.75 60.65 Q55.4 65 51.4 67.8 Q47.4 70.6 42.25 71.85 Q37.1 73.1 31.5 73.1 Q26.7 73.1 21.9 71.8 Q17.1 70.5 13.3 67.8 Q9.5 65.1 7.15 61.05 Q4.8 57 4.8 51.5 Q4.8 46.6 6.65 43.15 Q8.5 39.7 11.5 37.4 Q14.5 35.1 18.3 33.65 Q22.1 32.2 26.1 31.2 Q30 30.1 33.8 29.2 Q37.6 28.3 40.6 27.1 Q43.6 25.9 45.45 24.1 Q47.3 22.3 47.3 19.4 Q47.3 16.7 45.9 14.95 Q44.5 13.2 42.4 12.2 Q40.3 11.2 37.9 10.85 Q35.5 10.5 33.4 10.5 Q30.3 10.5 27.4 11.25 Q24.5 12 22.35 13.55 Q20.2 15.1 18.9 17.6 Q17.6 20.1 17.6 23.7 Z\"\n",
       "      /></font\n",
       "    ></defs\n",
       "    ><g style=\"fill:white; stroke:white;\"\n",
       "    ><rect x=\"0\" y=\"0\" width=\"560\" style=\"clip-path:url(#clipPath1); stroke:none;\" height=\"420\"\n",
       "    /></g\n",
       "    ><g style=\"fill:white; text-rendering:optimizeSpeed; color-rendering:optimizeSpeed; image-rendering:optimizeSpeed; shape-rendering:crispEdges; stroke:white; color-interpolation:sRGB;\"\n",
       "    ><rect x=\"0\" width=\"560\" height=\"420\" y=\"0\" style=\"stroke:none;\"\n",
       "      /><path style=\"stroke:none;\" d=\"M73 374 L507 374 L507 31 L73 31 Z\"\n",
       "    /></g\n",
       "    ><g style=\"stroke-linecap:butt; fill-opacity:0.149; fill:rgb(38,38,38); text-rendering:geometricPrecision; image-rendering:optimizeQuality; color-rendering:optimizeQuality; stroke-linejoin:round; stroke:rgb(38,38,38); color-interpolation:linearRGB; stroke-width:0.5; stroke-opacity:0.149;\"\n",
       "    ><line y2=\"31\" style=\"fill:none;\" x1=\"74.5839\" x2=\"74.5839\" y1=\"374\"\n",
       "      /><line y2=\"31\" style=\"fill:none;\" x1=\"129.1619\" x2=\"129.1619\" y1=\"374\"\n",
       "      /><line y2=\"31\" style=\"fill:none;\" x1=\"183.7398\" x2=\"183.7398\" y1=\"374\"\n",
       "      /><line y2=\"31\" style=\"fill:none;\" x1=\"238.3178\" x2=\"238.3178\" y1=\"374\"\n",
       "      /><line y2=\"31\" style=\"fill:none;\" x1=\"292.8957\" x2=\"292.8957\" y1=\"374\"\n",
       "      /><line y2=\"31\" style=\"fill:none;\" x1=\"347.4737\" x2=\"347.4737\" y1=\"374\"\n",
       "      /><line y2=\"31\" style=\"fill:none;\" x1=\"402.0516\" x2=\"402.0516\" y1=\"374\"\n",
       "      /><line y2=\"31\" style=\"fill:none;\" x1=\"456.6296\" x2=\"456.6296\" y1=\"374\"\n",
       "      /><line y2=\"346.181\" style=\"fill:none;\" x1=\"507\" x2=\"73\" y1=\"346.181\"\n",
       "      /><line y2=\"307.8647\" style=\"fill:none;\" x1=\"507\" x2=\"73\" y1=\"307.8647\"\n",
       "      /><line y2=\"269.5484\" style=\"fill:none;\" x1=\"507\" x2=\"73\" y1=\"269.5484\"\n",
       "      /><line y2=\"231.2321\" style=\"fill:none;\" x1=\"507\" x2=\"73\" y1=\"231.2321\"\n",
       "      /><line y2=\"192.9158\" style=\"fill:none;\" x1=\"507\" x2=\"73\" y1=\"192.9158\"\n",
       "      /><line y2=\"154.5995\" style=\"fill:none;\" x1=\"507\" x2=\"73\" y1=\"154.5995\"\n",
       "      /><line y2=\"116.2832\" style=\"fill:none;\" x1=\"507\" x2=\"73\" y1=\"116.2832\"\n",
       "      /><line y2=\"77.9669\" style=\"fill:none;\" x1=\"507\" x2=\"73\" y1=\"77.9669\"\n",
       "      /><line y2=\"39.6506\" style=\"fill:none;\" x1=\"507\" x2=\"73\" y1=\"39.6506\"\n",
       "      /><line x1=\"73\" x2=\"507\" y1=\"374\" style=\"stroke-linecap:square; fill-opacity:1; fill:none; stroke-opacity:1;\" y2=\"374\"\n",
       "      /><line x1=\"73\" x2=\"507\" y1=\"31\" style=\"stroke-linecap:square; fill-opacity:1; fill:none; stroke-opacity:1;\" y2=\"31\"\n",
       "      /><line x1=\"74.5839\" x2=\"74.5839\" y1=\"374\" style=\"stroke-linecap:square; fill-opacity:1; fill:none; stroke-opacity:1;\" y2=\"369.66\"\n",
       "      /><line x1=\"129.1619\" x2=\"129.1619\" y1=\"374\" style=\"stroke-linecap:square; fill-opacity:1; fill:none; stroke-opacity:1;\" y2=\"369.66\"\n",
       "      /><line x1=\"183.7398\" x2=\"183.7398\" y1=\"374\" style=\"stroke-linecap:square; fill-opacity:1; fill:none; stroke-opacity:1;\" y2=\"369.66\"\n",
       "      /><line x1=\"238.3178\" x2=\"238.3178\" y1=\"374\" style=\"stroke-linecap:square; fill-opacity:1; fill:none; stroke-opacity:1;\" y2=\"369.66\"\n",
       "      /><line x1=\"292.8957\" x2=\"292.8957\" y1=\"374\" style=\"stroke-linecap:square; fill-opacity:1; fill:none; stroke-opacity:1;\" y2=\"369.66\"\n",
       "      /><line x1=\"347.4737\" x2=\"347.4737\" y1=\"374\" style=\"stroke-linecap:square; fill-opacity:1; fill:none; stroke-opacity:1;\" y2=\"369.66\"\n",
       "      /><line x1=\"402.0516\" x2=\"402.0516\" y1=\"374\" style=\"stroke-linecap:square; fill-opacity:1; fill:none; stroke-opacity:1;\" y2=\"369.66\"\n",
       "      /><line x1=\"456.6296\" x2=\"456.6296\" y1=\"374\" style=\"stroke-linecap:square; fill-opacity:1; fill:none; stroke-opacity:1;\" y2=\"369.66\"\n",
       "      /><line x1=\"74.5839\" x2=\"74.5839\" y1=\"31\" style=\"stroke-linecap:square; fill-opacity:1; fill:none; stroke-opacity:1;\" y2=\"35.34\"\n",
       "      /><line x1=\"129.1619\" x2=\"129.1619\" y1=\"31\" style=\"stroke-linecap:square; fill-opacity:1; fill:none; stroke-opacity:1;\" y2=\"35.34\"\n",
       "      /><line x1=\"183.7398\" x2=\"183.7398\" y1=\"31\" style=\"stroke-linecap:square; fill-opacity:1; fill:none; stroke-opacity:1;\" y2=\"35.34\"\n",
       "      /><line x1=\"238.3178\" x2=\"238.3178\" y1=\"31\" style=\"stroke-linecap:square; fill-opacity:1; fill:none; stroke-opacity:1;\" y2=\"35.34\"\n",
       "      /><line x1=\"292.8957\" x2=\"292.8957\" y1=\"31\" style=\"stroke-linecap:square; fill-opacity:1; fill:none; stroke-opacity:1;\" y2=\"35.34\"\n",
       "      /><line x1=\"347.4737\" x2=\"347.4737\" y1=\"31\" style=\"stroke-linecap:square; fill-opacity:1; fill:none; stroke-opacity:1;\" y2=\"35.34\"\n",
       "      /><line x1=\"402.0516\" x2=\"402.0516\" y1=\"31\" style=\"stroke-linecap:square; fill-opacity:1; fill:none; stroke-opacity:1;\" y2=\"35.34\"\n",
       "      /><line x1=\"456.6296\" x2=\"456.6296\" y1=\"31\" style=\"stroke-linecap:square; fill-opacity:1; fill:none; stroke-opacity:1;\" y2=\"35.34\"\n",
       "    /></g\n",
       "    ><g transform=\"translate(74.5839,378)\" style=\"font-size:10px; fill:rgb(38,38,38); text-rendering:geometricPrecision; image-rendering:optimizeQuality; color-rendering:optimizeQuality; font-family:'Helvetica Neue'; stroke:rgb(38,38,38); color-interpolation:linearRGB;\"\n",
       "    ><text x=\"-3\" xml:space=\"preserve\" y=\"10\" style=\"stroke:none;\"\n",
       "      >0</text\n",
       "    ></g\n",
       "    ><g transform=\"translate(129.1619,378)\" style=\"font-size:10px; fill:rgb(38,38,38); text-rendering:geometricPrecision; image-rendering:optimizeQuality; color-rendering:optimizeQuality; font-family:'Helvetica Neue'; stroke:rgb(38,38,38); color-interpolation:linearRGB;\"\n",
       "    ><text x=\"-7\" xml:space=\"preserve\" y=\"10\" style=\"stroke:none;\"\n",
       "      >0.5</text\n",
       "    ></g\n",
       "    ><g transform=\"translate(183.7398,378)\" style=\"font-size:10px; fill:rgb(38,38,38); text-rendering:geometricPrecision; image-rendering:optimizeQuality; color-rendering:optimizeQuality; font-family:'Helvetica Neue'; stroke:rgb(38,38,38); color-interpolation:linearRGB;\"\n",
       "    ><text x=\"-3\" xml:space=\"preserve\" y=\"10\" style=\"stroke:none;\"\n",
       "      >1</text\n",
       "    ></g\n",
       "    ><g transform=\"translate(238.3178,378)\" style=\"font-size:10px; fill:rgb(38,38,38); text-rendering:geometricPrecision; image-rendering:optimizeQuality; color-rendering:optimizeQuality; font-family:'Helvetica Neue'; stroke:rgb(38,38,38); color-interpolation:linearRGB;\"\n",
       "    ><text x=\"-7\" xml:space=\"preserve\" y=\"10\" style=\"stroke:none;\"\n",
       "      >1.5</text\n",
       "    ></g\n",
       "    ><g transform=\"translate(292.8957,378)\" style=\"font-size:10px; fill:rgb(38,38,38); text-rendering:geometricPrecision; image-rendering:optimizeQuality; color-rendering:optimizeQuality; font-family:'Helvetica Neue'; stroke:rgb(38,38,38); color-interpolation:linearRGB;\"\n",
       "    ><text x=\"-3\" xml:space=\"preserve\" y=\"10\" style=\"stroke:none;\"\n",
       "      >2</text\n",
       "    ></g\n",
       "    ><g transform=\"translate(347.4737,378)\" style=\"font-size:10px; fill:rgb(38,38,38); text-rendering:geometricPrecision; image-rendering:optimizeQuality; color-rendering:optimizeQuality; font-family:'Helvetica Neue'; stroke:rgb(38,38,38); color-interpolation:linearRGB;\"\n",
       "    ><text x=\"-7\" xml:space=\"preserve\" y=\"10\" style=\"stroke:none;\"\n",
       "      >2.5</text\n",
       "    ></g\n",
       "    ><g transform=\"translate(402.0516,378)\" style=\"font-size:10px; fill:rgb(38,38,38); text-rendering:geometricPrecision; image-rendering:optimizeQuality; color-rendering:optimizeQuality; font-family:'Helvetica Neue'; stroke:rgb(38,38,38); color-interpolation:linearRGB;\"\n",
       "    ><text x=\"-3\" xml:space=\"preserve\" y=\"10\" style=\"stroke:none;\"\n",
       "      >3</text\n",
       "    ></g\n",
       "    ><g transform=\"translate(456.6296,378)\" style=\"font-size:10px; fill:rgb(38,38,38); text-rendering:geometricPrecision; image-rendering:optimizeQuality; color-rendering:optimizeQuality; font-family:'Helvetica Neue'; stroke:rgb(38,38,38); color-interpolation:linearRGB;\"\n",
       "    ><text x=\"-7\" xml:space=\"preserve\" y=\"10\" style=\"stroke:none;\"\n",
       "      >3.5</text\n",
       "    ></g\n",
       "    ><g transform=\"translate(290.0002,392)\" style=\"font-size:11px; fill:rgb(38,38,38); text-rendering:geometricPrecision; image-rendering:optimizeQuality; color-rendering:optimizeQuality; font-family:'Helvetica Neue'; stroke:rgb(38,38,38); color-interpolation:linearRGB;\"\n",
       "    ><text x=\"-9\" xml:space=\"preserve\" y=\"11\" style=\"stroke:none;\"\n",
       "      >t [s]</text\n",
       "    ></g\n",
       "    ><g style=\"fill:rgb(38,38,38); text-rendering:geometricPrecision; image-rendering:optimizeQuality; color-rendering:optimizeQuality; stroke-linejoin:round; stroke:rgb(38,38,38); color-interpolation:linearRGB; stroke-width:0.5;\"\n",
       "    ><line y2=\"31\" style=\"fill:none;\" x1=\"73\" x2=\"73\" y1=\"374\"\n",
       "      /><line y2=\"31\" style=\"fill:none;\" x1=\"507\" x2=\"507\" y1=\"374\"\n",
       "      /><line y2=\"346.181\" style=\"fill:none;\" x1=\"73\" x2=\"77.34\" y1=\"346.181\"\n",
       "      /><line y2=\"307.8647\" style=\"fill:none;\" x1=\"73\" x2=\"77.34\" y1=\"307.8647\"\n",
       "      /><line y2=\"269.5484\" style=\"fill:none;\" x1=\"73\" x2=\"77.34\" y1=\"269.5484\"\n",
       "      /><line y2=\"231.2321\" style=\"fill:none;\" x1=\"73\" x2=\"77.34\" y1=\"231.2321\"\n",
       "      /><line y2=\"192.9158\" style=\"fill:none;\" x1=\"73\" x2=\"77.34\" y1=\"192.9158\"\n",
       "      /><line y2=\"154.5995\" style=\"fill:none;\" x1=\"73\" x2=\"77.34\" y1=\"154.5995\"\n",
       "      /><line y2=\"116.2832\" style=\"fill:none;\" x1=\"73\" x2=\"77.34\" y1=\"116.2832\"\n",
       "      /><line y2=\"77.9669\" style=\"fill:none;\" x1=\"73\" x2=\"77.34\" y1=\"77.9669\"\n",
       "      /><line y2=\"39.6506\" style=\"fill:none;\" x1=\"73\" x2=\"77.34\" y1=\"39.6506\"\n",
       "      /><line y2=\"346.181\" style=\"fill:none;\" x1=\"507\" x2=\"502.66\" y1=\"346.181\"\n",
       "      /><line y2=\"307.8647\" style=\"fill:none;\" x1=\"507\" x2=\"502.66\" y1=\"307.8647\"\n",
       "      /><line y2=\"269.5484\" style=\"fill:none;\" x1=\"507\" x2=\"502.66\" y1=\"269.5484\"\n",
       "      /><line y2=\"231.2321\" style=\"fill:none;\" x1=\"507\" x2=\"502.66\" y1=\"231.2321\"\n",
       "      /><line y2=\"192.9158\" style=\"fill:none;\" x1=\"507\" x2=\"502.66\" y1=\"192.9158\"\n",
       "      /><line y2=\"154.5995\" style=\"fill:none;\" x1=\"507\" x2=\"502.66\" y1=\"154.5995\"\n",
       "      /><line y2=\"116.2832\" style=\"fill:none;\" x1=\"507\" x2=\"502.66\" y1=\"116.2832\"\n",
       "      /><line y2=\"77.9669\" style=\"fill:none;\" x1=\"507\" x2=\"502.66\" y1=\"77.9669\"\n",
       "      /><line y2=\"39.6506\" style=\"fill:none;\" x1=\"507\" x2=\"502.66\" y1=\"39.6506\"\n",
       "    /></g\n",
       "    ><g transform=\"translate(69,346.181)\" style=\"font-size:10px; fill:rgb(38,38,38); text-rendering:geometricPrecision; image-rendering:optimizeQuality; color-rendering:optimizeQuality; font-family:'Helvetica Neue'; stroke:rgb(38,38,38); color-interpolation:linearRGB;\"\n",
       "    ><text x=\"-6\" xml:space=\"preserve\" y=\"3.5\" style=\"stroke:none;\"\n",
       "      >0</text\n",
       "    ></g\n",
       "    ><g transform=\"translate(69,307.8647)\" style=\"font-size:10px; fill:rgb(38,38,38); text-rendering:geometricPrecision; image-rendering:optimizeQuality; color-rendering:optimizeQuality; font-family:'Helvetica Neue'; stroke:rgb(38,38,38); color-interpolation:linearRGB;\"\n",
       "    ><text x=\"-14\" xml:space=\"preserve\" y=\"3.5\" style=\"stroke:none;\"\n",
       "      >0.5</text\n",
       "    ></g\n",
       "    ><g transform=\"translate(69,269.5484)\" style=\"font-size:10px; fill:rgb(38,38,38); text-rendering:geometricPrecision; image-rendering:optimizeQuality; color-rendering:optimizeQuality; font-family:'Helvetica Neue'; stroke:rgb(38,38,38); color-interpolation:linearRGB;\"\n",
       "    ><text x=\"-6\" xml:space=\"preserve\" y=\"3.5\" style=\"stroke:none;\"\n",
       "      >1</text\n",
       "    ></g\n",
       "    ><g transform=\"translate(69,231.2321)\" style=\"font-size:10px; fill:rgb(38,38,38); text-rendering:geometricPrecision; image-rendering:optimizeQuality; color-rendering:optimizeQuality; font-family:'Helvetica Neue'; stroke:rgb(38,38,38); color-interpolation:linearRGB;\"\n",
       "    ><text x=\"-14\" xml:space=\"preserve\" y=\"3.5\" style=\"stroke:none;\"\n",
       "      >1.5</text\n",
       "    ></g\n",
       "    ><g transform=\"translate(69,192.9158)\" style=\"font-size:10px; fill:rgb(38,38,38); text-rendering:geometricPrecision; image-rendering:optimizeQuality; color-rendering:optimizeQuality; font-family:'Helvetica Neue'; stroke:rgb(38,38,38); color-interpolation:linearRGB;\"\n",
       "    ><text x=\"-6\" xml:space=\"preserve\" y=\"3.5\" style=\"stroke:none;\"\n",
       "      >2</text\n",
       "    ></g\n",
       "    ><g transform=\"translate(69,154.5995)\" style=\"font-size:10px; fill:rgb(38,38,38); text-rendering:geometricPrecision; image-rendering:optimizeQuality; color-rendering:optimizeQuality; font-family:'Helvetica Neue'; stroke:rgb(38,38,38); color-interpolation:linearRGB;\"\n",
       "    ><text x=\"-14\" xml:space=\"preserve\" y=\"3.5\" style=\"stroke:none;\"\n",
       "      >2.5</text\n",
       "    ></g\n",
       "    ><g transform=\"translate(69,116.2832)\" style=\"font-size:10px; fill:rgb(38,38,38); text-rendering:geometricPrecision; image-rendering:optimizeQuality; color-rendering:optimizeQuality; font-family:'Helvetica Neue'; stroke:rgb(38,38,38); color-interpolation:linearRGB;\"\n",
       "    ><text x=\"-6\" xml:space=\"preserve\" y=\"3.5\" style=\"stroke:none;\"\n",
       "      >3</text\n",
       "    ></g\n",
       "    ><g transform=\"translate(69,77.9669)\" style=\"font-size:10px; fill:rgb(38,38,38); text-rendering:geometricPrecision; image-rendering:optimizeQuality; color-rendering:optimizeQuality; font-family:'Helvetica Neue'; stroke:rgb(38,38,38); color-interpolation:linearRGB;\"\n",
       "    ><text x=\"-14\" xml:space=\"preserve\" y=\"3.5\" style=\"stroke:none;\"\n",
       "      >3.5</text\n",
       "    ></g\n",
       "    ><g transform=\"translate(69,39.6506)\" style=\"font-size:10px; fill:rgb(38,38,38); text-rendering:geometricPrecision; image-rendering:optimizeQuality; color-rendering:optimizeQuality; font-family:'Helvetica Neue'; stroke:rgb(38,38,38); color-interpolation:linearRGB;\"\n",
       "    ><text x=\"-6\" xml:space=\"preserve\" y=\"3.5\" style=\"stroke:none;\"\n",
       "      >4</text\n",
       "    ></g\n",
       "    ><g transform=\"translate(45,224) rotate(-90)\" style=\"font-size:11px; fill:rgb(38,38,38); text-rendering:geometricPrecision; image-rendering:optimizeQuality; color-rendering:optimizeQuality; font-family:'Helvetica Neue'; stroke:rgb(38,38,38); color-interpolation:linearRGB;\"\n",
       "    ><text x=\"0\" xml:space=\"preserve\" y=\"0\" style=\"stroke:none;\"\n",
       "      >v</text\n",
       "    ></g\n",
       "    ><g transform=\"translate(50,218) rotate(-90)\" style=\"font-size:8.8px; fill:rgb(38,38,38); text-rendering:geometricPrecision; image-rendering:optimizeQuality; color-rendering:optimizeQuality; font-family:'Helvetica Neue'; stroke:rgb(38,38,38); color-interpolation:linearRGB;\"\n",
       "    ><text x=\"0\" xml:space=\"preserve\" y=\"0\" style=\"stroke:none;\"\n",
       "      >out</text\n",
       "    ></g\n",
       "    ><g transform=\"translate(45,205) rotate(-90)\" style=\"font-size:11px; fill:rgb(38,38,38); text-rendering:geometricPrecision; image-rendering:optimizeQuality; color-rendering:optimizeQuality; font-family:'Helvetica Neue'; stroke:rgb(38,38,38); color-interpolation:linearRGB;\"\n",
       "    ><text x=\"0\" xml:space=\"preserve\" y=\"0\" style=\"stroke:none;\"\n",
       "      >(t) [V]</text\n",
       "    ></g\n",
       "    ><g transform=\"translate(290.0003,28.25)\" style=\"font-size:11px; text-rendering:geometricPrecision; image-rendering:optimizeQuality; color-rendering:optimizeQuality; font-family:'Helvetica Neue'; color-interpolation:linearRGB; font-weight:bold;\"\n",
       "    ><text x=\"-57.5\" xml:space=\"preserve\" y=\"-3\" style=\"stroke:none;\"\n",
       "      >Solution to Example 3</text\n",
       "    ></g\n",
       "    ><g style=\"stroke-linecap:butt; fill:rgb(0,114,189); text-rendering:geometricPrecision; image-rendering:optimizeQuality; color-rendering:optimizeQuality; stroke-linejoin:round; stroke:rgb(0,114,189); color-interpolation:linearRGB; stroke-width:0.5;\"\n",
       "    ><path d=\"M73 346.181 L74.0023 346.181 L75.0046 337.4228 L76.0069 317.3596 L77.0092 298.3907 L78.0116 280.47 L79.0139 263.5531 L80.0162 247.5972 L81.0185 232.5613 L82.0208 218.4059 L83.0231 205.0932 L84.0254 192.5867 L85.0277 180.8514 L86.03 169.8536 L87.0323 159.5611 L88.0346 149.9428 L89.0369 140.9688 L90.0393 132.6105 L91.0416 124.8405 L92.0439 117.6322 L93.0462 110.9602 L94.0485 104.8003 L95.0508 99.129 L96.0531 93.9238 L97.0554 89.1631 L98.0577 84.8264 L99.06 80.8936 L100.0624 77.3457 L101.0647 74.1644 L102.067 71.3322 L103.0693 68.8321 L104.0716 66.6481 L105.0739 64.7645 L106.0762 63.1667 L107.0785 61.8402 L108.0808 60.7714 L109.0831 59.9472 L110.0854 59.355 L111.0878 58.9828 L112.0901 58.819 L113.0924 58.8526 L114.0947 59.0729 L115.097 59.4698 L116.0993 60.0336 L117.1016 60.755 L118.1039 61.625 L119.1062 62.6351 L120.1085 63.7772 L121.1109 65.0433 L122.1132 66.4261 L123.1155 67.9183 L124.1178 69.5132 L125.1201 71.2041 L126.1224 72.9849 L127.1247 74.8494 L128.127 76.7921 L129.1293 78.8074 L130.1316 80.8902 L131.134 83.0354 L132.1363 85.2383 L133.1386 87.4944 L134.1409 89.7993 L135.1432 92.1489 L136.1455 94.5392 L137.1478 96.9666 L138.1501 99.4274 L139.1524 101.9182 L140.1547 104.4358 L141.157 106.9771 L142.1593 109.5391 L143.1617 112.1191 L144.164 114.7144 L145.1663 117.3225 L146.1686 119.941 L147.1709 122.5675 L148.1732 125.2001 L149.1755 127.8365 L150.1778 130.4749 L151.1801 133.1134 L152.1824 135.7503 L153.1848 138.384 L154.1871 141.0128 L155.1894 143.6354 L156.1917 146.2503 L157.194 148.8562 L158.1963 151.452 L159.1986 154.0364 L160.2009 156.6083 L161.2032 159.1668 L162.2055 161.7109 L163.2079 164.2397 L164.2102 166.7523 L165.2125 169.2479 L166.2148 171.7259 L167.2171 174.1856 L168.2194 176.6263 L169.2217 179.0474 L170.224 181.4484 L171.2263 183.8288 L172.2286 186.1882 L173.2309 188.5261 L174.2333 190.8421 L175.2356 193.1359 L176.2379 195.4072 L177.2402 197.6557 L178.2425 199.8812 L179.2448 202.0833 L180.2471 204.262 L181.2494 206.417 L182.2517 208.5482 L183.254 210.6555 L184.2563 212.7388 L185.2587 214.798 L186.261 216.833 L187.2633 218.8438 L188.2656 220.8304 L189.2679 222.7927 L190.2702 224.7309 L191.2725 226.6448 L192.2748 228.5346 L193.2771 230.4003 L194.2794 232.242 L195.2818 234.0598 L196.2841 235.8536 L197.2864 237.6237 L198.2887 239.3702 L199.291 241.0931 L200.2933 242.7927 L201.2956 244.469 L202.2979 246.1222 L203.3002 247.7524 L204.3026 249.3598 L205.3049 250.9447 L206.3072 252.507 L207.3095 254.0471 L208.3118 255.5651 L209.3141 257.0612 L210.3164 258.5356 L211.3187 259.9884 L212.321 261.42 L213.3233 262.8304 L214.3256 264.2199 L215.328 265.5887 L216.3303 266.9371 L217.3326 268.2652 L218.3349 269.5732 L219.3372 270.8613 L220.3395 272.1299 L221.3418 273.379 L222.3441 274.609 L223.3464 275.82 L224.3487 277.0122 L225.351 278.186 L226.3533 279.3414 L227.3557 280.4788 L228.358 281.5983 L229.3603 282.7002 L230.3626 283.7847 L231.3649 284.852 L232.3672 285.9023 L233.3695 286.9359 L234.3718 287.953 L235.3741 288.9537 L236.3764 289.9384 L237.3788 290.9072 L238.3811 291.8604 L239.3834 292.798 L240.3857 293.7205 L241.388 294.6279 L242.3903 295.5206 L243.3926 296.3986 L244.3949 297.2622 L245.3972 298.1117 L246.3995 298.9471 L247.4018 299.7688 L248.4042 300.5768 L249.4065 301.3716 L250.4088 302.153 L251.4111 302.9215 L252.4134 303.6772 L253.4157 304.4203 L254.418 305.151 L255.4203 305.8694 L256.4226 306.5757 L257.4249 307.2702 L258.4272 307.953 L259.4296 308.6243 L260.4319 309.2842 L261.4342 309.933 L262.4365 310.5708 L263.4388 311.1978 L264.4411 311.8141 L265.4434 312.4199 L266.4457 313.0154 L267.448 313.6008 L268.4503 314.1761 L269.4526 314.7417 L270.455 315.2975 L271.4573 315.8438 L272.4596 316.3808 L273.4619 316.9085 L274.4642 317.4271 L275.4665 317.9368 L276.4688 318.4377 L277.4711 318.93 L278.4734 319.4138 L279.4757 319.8892 L280.4781 320.3563 L281.4804 320.8154 L282.4827 321.2665 L283.485 321.7098 L284.4873 322.1454 L285.4896 322.5734 L286.4919 322.9939 L287.4942 323.4072 L288.4966 323.8132 L289.4988 324.2121 L290.5012 324.6041 L291.5035 324.9892 L292.5058 325.3676 L293.5081 325.7393 L294.5104 326.1046 L295.5127 326.4634 L296.515 326.816 L297.5173 327.1623 L298.5196 327.5026 L299.5219 327.8369 L300.5243 328.1653 L301.5266 328.4879 L302.5289 328.8049 L303.5312 329.1162 L304.5335 329.4221 L305.5358 329.7225 L306.5381 330.0177 L307.5404 330.3076 L308.5427 330.5925 L309.545 330.8723 L310.5473 331.1471 L311.5497 331.4171 L312.552 331.6823 L313.5543 331.9427 L314.5566 332.1986 L315.5589 332.4499 L316.5612 332.6968 L317.5635 332.9393 L318.5658 333.1774 L319.5681 333.4114 L320.5704 333.6411 L321.5727 333.8669 L322.575 334.0885 L323.5774 334.3062 L324.5797 334.5201 L325.582 334.7301 L326.5843 334.9364 L327.5866 335.139 L328.5889 335.338 L329.5912 335.5335 L330.5935 335.7254 L331.5959 335.914 L332.5981 336.0992 L333.6005 336.281 L334.6028 336.4596 L335.6051 336.635 L336.6074 336.8073 L337.6097 336.9765 L338.612 337.1426 L339.6143 337.3058 L340.6166 337.4661 L341.6189 337.6234 L342.6212 337.778 L343.6235 337.9298 L344.6259 338.0789 L345.6282 338.2253 L346.6305 338.369 L347.6328 338.5103 L348.6351 338.6489 L349.6374 338.7851 L350.6397 338.9188 L351.6421 339.0501 L352.6443 339.1791 L353.6467 339.3057 L354.649 339.4301 L355.6513 339.5522 L356.6536 339.6722 L357.6559 339.7899 L358.6582 339.9056 L359.6605 340.0192 L360.6628 340.1307 L361.6651 340.2402 L362.6674 340.3478 L363.6697 340.4534 L364.6721 340.5571 L365.6743 340.6589 L366.6767 340.759 L367.679 340.8571 L368.6813 340.9536 L369.6836 341.0483 L370.6859 341.1413 L371.6882 341.2326 L372.6905 341.3223 L373.6928 341.4103 L374.6951 341.4968 L375.6974 341.5817 L376.6998 341.665 L377.7021 341.7469 L378.7044 341.8273 L379.7067 341.9062 L380.709 341.9837 L381.7113 342.0598 L382.7136 342.1345 L383.7159 342.2079 L384.7183 342.2799 L385.7206 342.3507 L386.7229 342.4202 L387.7252 342.4884 L388.7275 342.5554 L389.7298 342.6212 L390.7321 342.6857 L391.7344 342.7491 L392.7367 342.8114 L393.739 342.8725 L394.7413 342.9326 L395.7437 342.9915 L396.7459 343.0494 L397.7483 343.1062 L398.7506 343.162 L399.7529 343.2168 L400.7552 343.2706 L401.7575 343.3235 L402.7598 343.3753 L403.7621 343.4263 L404.7644 343.4763 L405.7668 343.5254 L406.7691 343.5736 L407.7714 343.6209 L408.7737 343.6674 L409.776 343.7131 L410.7783 343.7579 L411.7806 343.8019 L412.7829 343.8451 L413.7852 343.8875 L414.7875 343.9292 L415.7898 343.9701 L416.7921 344.0102 L417.7945 344.0497 L418.7968 344.0883 L419.7991 344.1264 L420.8014 344.1637 L421.8037 344.2003 L422.806 344.2363 L423.8083 344.2717 L424.8106 344.3063 L425.8129 344.3404 L426.8152 344.3738 L427.8176 344.4067 L428.8199 344.4389 L429.8222 344.4706 L430.8245 344.5016 L431.8268 344.5322 L432.8291 344.5621 L433.8314 344.5916 L434.8337 344.6204 L435.836 344.6488 L436.8383 344.6766 L437.8406 344.704 L438.843 344.7308 L439.8453 344.7572 L440.8476 344.7831 L441.8499 344.8085 L442.8522 344.8334 L443.8545 344.8579 L444.8568 344.882 L445.8591 344.9056 L446.8614 344.9287 L447.8637 344.9515 L448.866 344.9739 L449.8683 344.9958 L450.8707 345.0174 L451.873 345.0385 L452.8753 345.0593 L453.8776 345.0797 L454.8799 345.0997 L455.8822 345.1194 L456.8846 345.1386 L457.8868 345.1576 L458.8892 345.1762 L459.8914 345.1945 L460.8938 345.2124 L461.8961 345.23 L462.8984 345.2473 L463.9007 345.2643 L464.903 345.281 L465.9053 345.2973 L466.9076 345.3134 L467.9099 345.3292 L468.9122 345.3447 L469.9146 345.3599 L470.9168 345.3748 L471.9192 345.3895 L472.9215 345.4039 L473.9238 345.418 L474.9261 345.4319 L475.9284 345.4455 L476.9307 345.4589 L477.933 345.472 L478.9353 345.4849 L479.9377 345.4976 L480.94 345.51 L481.9423 345.5222 L482.9446 345.5342 L483.9469 345.5459 L484.9492 345.5575 L485.9515 345.5688 L486.9538 345.58 L487.9561 345.5909 L488.9584 345.6016 L489.9608 345.6122 L490.963 345.6225 L491.9654 345.6327 L492.9677 345.6426 L493.97 345.6524 L494.9723 345.662 L495.9746 345.6715 L496.9769 345.6808 L497.9792 345.6898 L498.9815 345.6988 L499.9838 345.7076 L500.9861 345.7162 L501.9884 345.7246 L502.9908 345.7329 L503.9931 345.7411 L504.9954 345.7491 L505.9977 345.757 L507 345.7646\" style=\"fill:none; fill-rule:evenodd;\"\n",
       "    /></g\n",
       "  ></g\n",
       "></svg\n",
       ">\n"
      ]
     },
     "metadata": {
      "filenames": {
       "image/svg+xml": "/Users/eechris/code/src/github.com/cpjobling/eg-247-textbook/_build/jupyter_execute/fourier_transform/3/ft3_48_0.svg"
      }
     },
     "output_type": "display_data"
    }
   ],
   "source": [
    "ezplot(vout)\n",
    "title('Solution to Example 3')\n",
    "ylabel('v_{out}(t) [V]')\n",
    "xlabel('t [s]')\n",
    "grid "
   ]
  },
  {
   "cell_type": "markdown",
   "id": "058c4c75",
   "metadata": {
    "slideshow": {
     "slide_type": "notes"
    }
   },
   "source": [
    "See [ft3_ex3.m](https://cpjobling.github.io/eg-247-textbook/fourier_transform/matlab/ft3_ex3.m)\n",
    "\n",
    "Result is equiavlent to:\n",
    "    \n",
    "    15*exp(-4*t)*heaviside(t)*(exp(2*t) - 1)\n",
    "\n",
    "Which after gathering terms gives\n",
    "\n",
    "$$v_{\\mathrm{out}}(t) = 15\\left(e^{-2t} - e^{-4t}\\right)u_0(t)$$"
   ]
  },
  {
   "cell_type": "markdown",
   "id": "7dc27d85",
   "metadata": {
    "slideshow": {
     "slide_type": "subslide"
    }
   },
   "source": [
    "### Example 4\n",
    "\n",
    "Karris example 8.11: the voltage across a 1 $\\Omega$ resistor is known to be $V_{R}(t)=3e^{-2t} u_0(t)$. Compute the energy dissipated in the resistor for $0\\lt t\\lt\\infty$, and verify the result using Parseval's theorem. Verify the result with Matlab.\n",
    "\n",
    "Note from [tables of integrals](https://en.wikipedia.org/wiki/Lists_of_integrals) \n",
    "\n",
    "$$\\int\\frac{1}{a^2 + x^2}\\,dx = \\frac{1}{a}\\arctan\\frac{x}{a}+C.$$\n",
    "\n",
    "![Example 4](./pictures/example4-small.png)"
   ]
  },
  {
   "cell_type": "markdown",
   "id": "610ad089",
   "metadata": {
    "slideshow": {
     "slide_type": "notes"
    }
   },
   "source": [
    "#### Solution to example 4\n",
    "\n",
    "<pre style=\"border: 2px solid blue\">\n",
    "\n",
    "\n",
    "\n",
    "\n",
    "\n",
    "\n",
    "\n",
    "\n",
    "\n",
    "\n",
    "\n",
    "\n",
    "\n",
    "\n",
    "\n",
    "\n",
    "\n",
    "\n",
    "\n",
    "\n",
    "\n",
    "\n",
    "\n",
    "\n",
    "</pre>"
   ]
  },
  {
   "cell_type": "markdown",
   "id": "f52b7eef",
   "metadata": {
    "slideshow": {
     "slide_type": "subslide"
    }
   },
   "source": [
    "#### Matlab verification of example 4"
   ]
  },
  {
   "cell_type": "code",
   "execution_count": 19,
   "id": "0b368422",
   "metadata": {
    "slideshow": {
     "slide_type": "subslide"
    }
   },
   "outputs": [],
   "source": [
    "syms t w"
   ]
  },
  {
   "cell_type": "markdown",
   "id": "e0f28f46",
   "metadata": {
    "slideshow": {
     "slide_type": "subslide"
    }
   },
   "source": [
    "Calcuate energy from time function"
   ]
  },
  {
   "cell_type": "code",
   "execution_count": 20,
   "id": "bb43d88b",
   "metadata": {
    "slideshow": {
     "slide_type": "subslide"
    }
   },
   "outputs": [
    {
     "name": "stdout",
     "output_type": "stream",
     "text": [
      "Pr =\n"
     ]
    },
    {
     "name": "stdout",
     "output_type": "stream",
     "text": [
      "9*exp(-4*t)*heaviside(t)^2\n"
     ]
    },
    {
     "name": "stdout",
     "output_type": "stream",
     "text": [
      "Wr =\n"
     ]
    },
    {
     "name": "stdout",
     "output_type": "stream",
     "text": [
      "9/4\n"
     ]
    }
   ],
   "source": [
    "Vr = 3*exp(-2*t)*heaviside(t);\n",
    "R = 1;\n",
    "Pr = Vr^2/R\n",
    "Wr = int(Pr,t,0,inf)"
   ]
  },
  {
   "cell_type": "markdown",
   "id": "c0debfd3",
   "metadata": {
    "slideshow": {
     "slide_type": "subslide"
    }
   },
   "source": [
    "Calculate using Parseval's theorem"
   ]
  },
  {
   "cell_type": "code",
   "execution_count": 21,
   "id": "ffed2ddf",
   "metadata": {
    "slideshow": {
     "slide_type": "subslide"
    }
   },
   "outputs": [
    {
     "name": "stdout",
     "output_type": "stream",
     "text": [
      "Fw =\n"
     ]
    },
    {
     "name": "stdout",
     "output_type": "stream",
     "text": [
      "3/(2 + w*1i)\n"
     ]
    }
   ],
   "source": [
    "Fw = fourier(Vr,t,w)"
   ]
  },
  {
   "cell_type": "code",
   "execution_count": 22,
   "id": "aa0e73af",
   "metadata": {
    "slideshow": {
     "slide_type": "subslide"
    }
   },
   "outputs": [
    {
     "name": "stdout",
     "output_type": "stream",
     "text": [
      "Fw2 =\n"
     ]
    },
    {
     "name": "stdout",
     "output_type": "stream",
     "text": [
      "9/abs(2 + w*1i)^2\n"
     ]
    }
   ],
   "source": [
    "Fw2 = simplify(abs(Fw)^2)"
   ]
  },
  {
   "cell_type": "code",
   "execution_count": 23,
   "id": "7b563a0f",
   "metadata": {
    "slideshow": {
     "slide_type": "subslide"
    }
   },
   "outputs": [
    {
     "name": "stdout",
     "output_type": "stream",
     "text": [
      "Wr =\n"
     ]
    },
    {
     "name": "stdout",
     "output_type": "stream",
     "text": [
      "(51607450253003931*pi)/72057594037927936\n"
     ]
    }
   ],
   "source": [
    "Wr=2/(2*pi)*int(Fw2,w,0,inf)"
   ]
  },
  {
   "cell_type": "markdown",
   "id": "3ef3e463",
   "metadata": {
    "slideshow": {
     "slide_type": "notes"
    }
   },
   "source": [
    "See [ft3_ex4.m](https://cpjobling.github.io/eg-247-textbook/fourier_transform/matlab/ft3_ex4.m)"
   ]
  },
  {
   "cell_type": "markdown",
   "id": "b2f4546d",
   "metadata": {
    "slideshow": {
     "slide_type": "notes"
    }
   },
   "source": [
    "## Solutions\n",
    "\n",
    "* Example 1: [ft3-ex1.pdf](https://cpjobling.github.io/eg-247-textbook/fourier_transform/solutions/ft3-ex1.pdf)\n",
    "\n",
    "* Example 2: [ft3-ex2.pdf](https://cpjobling.github.io/eg-247-textbook/fourier_transform/solutions/ft3-ex2.pdf)\n",
    "\n",
    "* Example 3: [ft3-ex3.pdf](https://cpjobling.github.io/eg-247-textbook/fourier_transform/solutions/ft3-ex4.pdf)\n",
    "\n",
    "* Example 3: [ft3-ex4.pdf](https://cpjobling.github.io/eg-247-textbook/fourier_transform/solutions/ft3-ex4.pdf)"
   ]
  }
 ],
 "metadata": {
  "jupytext": {
   "formats": "ipynb,md:myst",
   "text_representation": {
    "extension": ".md",
    "format_name": "myst",
    "format_version": 0.13,
    "jupytext_version": "1.11.5"
   }
  },
  "kernelspec": {
   "display_name": "MATLAB",
   "language": "matlab",
   "name": "imatlab"
  },
  "language_info": {
   "codemirror_mode": "octave",
   "file_extension": ".m",
   "mimetype": "text/x-matlab",
   "name": "matlab",
   "nbconvert_exporter": "imatlab._exporter.MatlabExporter",
   "pygments_lexer": "matlab",
   "version": "9.11.0.1769968 (R2021b)"
  },
  "source_map": [
   15,
   19,
   31,
   35,
   39,
   43,
   47,
   51,
   59,
   65,
   71,
   81,
   87,
   94,
   98,
   106,
   137,
   141,
   145,
   154,
   162,
   170,
   178,
   184,
   192,
   200,
   204,
   216,
   220,
   230,
   238,
   269,
   273,
   282,
   290,
   298,
   306,
   310,
   322,
   326,
   336,
   348,
   379,
   383,
   392,
   400,
   408,
   416,
   420,
   432,
   444,
   456,
   487,
   491,
   499,
   503,
   514,
   518,
   526,
   534,
   542,
   546
  ]
 },
 "nbformat": 4,
 "nbformat_minor": 5
}