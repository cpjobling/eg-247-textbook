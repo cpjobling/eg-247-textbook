{
 "cells": [
  {
   "cell_type": "markdown",
   "metadata": {
    "slideshow": {
     "slide_type": "slide"
    }
   },
   "source": [
    "# Fourier Transforms for Circuit and LTI Systems Analysis"
   ]
  },
  {
   "cell_type": "markdown",
   "metadata": {},
   "source": [
    "## Colophon\n",
    "\n",
    "An annotatable worksheet for this presentation is available as [**Worksheet 14**](https://cpjobling.github.io/eg-247-textbook/fourier_transform/3/worksheet14.html).\n",
    "\n",
    "* The source code for this page is [content/fourier_transform/3/ft3.ipynb](https://github.com/cpjobling/eg-247-textbook/blob/master/content/fourier_transform/3/ft3.ipynb).\n",
    "\n",
    "* You can view the notes for this presentation as a webpage ([HTML](https://cpjobling.github.io/eg-247-textbook/fourier_transform/3/ft3.html)). \n",
    "\n",
    "* This page is downloadable as a [PDF](https://cpjobling.github.io/eg-247-textbook/fourier_transform/3/ft3.pdf) file."
   ]
  },
  {
   "cell_type": "markdown",
   "metadata": {
    "slideshow": {
     "slide_type": "subslide"
    }
   },
   "source": [
    "In this section we will apply what we have learned about Fourier transforms to some typical circuit problems. After a short introduction, the body of this chapter will form the basis of an examples class."
   ]
  },
  {
   "cell_type": "markdown",
   "metadata": {
    "slideshow": {
     "slide_type": "subslide"
    }
   },
   "source": [
    "## Agenda"
   ]
  },
  {
   "cell_type": "markdown",
   "metadata": {
    "slideshow": {
     "slide_type": "fragment"
    }
   },
   "source": [
    "* The system function"
   ]
  },
  {
   "cell_type": "markdown",
   "metadata": {
    "slideshow": {
     "slide_type": "fragment"
    }
   },
   "source": [
    "* Examples"
   ]
  },
  {
   "cell_type": "markdown",
   "metadata": {
    "slideshow": {
     "slide_type": "slide"
    }
   },
   "source": [
    "## The System Function"
   ]
  },
  {
   "cell_type": "markdown",
   "metadata": {
    "slideshow": {
     "slide_type": "subslide"
    }
   },
   "source": [
    "### System response from system impulse response\n",
    "\n",
    "Recall that the convolution integral of a system with impulse response $h(t)$ and input $u(t)$ is\n",
    "\n",
    "$$h(t)*u(t)=\\int_{-\\infty}^{\\infty}h(t-\\tau)u(\\tau)\\,d\\tau.$$"
   ]
  },
  {
   "cell_type": "markdown",
   "metadata": {
    "slideshow": {
     "slide_type": "subslide"
    }
   },
   "source": [
    "We let \n",
    "\n",
    "$$g(t) = h(t)*u(t)$$"
   ]
  },
  {
   "cell_type": "markdown",
   "metadata": {
    "slideshow": {
     "slide_type": "subslide"
    }
   },
   "source": [
    "Then by the time convolution property\n",
    "\n",
    "$$h(t)*u(t) = g(t) \\Leftrightarrow G(\\omega) = H(\\omega).U(\\omega)$$"
   ]
  },
  {
   "cell_type": "markdown",
   "metadata": {
    "slideshow": {
     "slide_type": "subslide"
    }
   },
   "source": [
    "### The System Function\n",
    "\n",
    "We call $H(\\omega)$ the *system function*.\n",
    "\n",
    "We note that the system function $H(\\omega)$ and the impulse response $h(t)$ form the Fourier transform pair\n",
    "\n",
    "$$h(t) \\Leftrightarrow H(\\omega)$$\n"
   ]
  },
  {
   "cell_type": "markdown",
   "metadata": {
    "slideshow": {
     "slide_type": "subslide"
    }
   },
   "source": [
    "### Obtaining system response\n",
    "\n",
    "If we know the impulse resonse $h(t)$, we can compute the system response $g(t)$ of any input $u(t)$ by multiplying the Fourier transforms of $H(\\omega)$ and $U(\\omega)$ to obtain $G(\\omega)$. Then we take the inverse Fourier transform of $G(\\omega)$ to obtain the response $g(t)$."
   ]
  },
  {
   "cell_type": "markdown",
   "metadata": {
    "slideshow": {
     "slide_type": "subslide"
    }
   },
   "source": [
    "1. Transform $h(t) \\to H(\\omega)$\n",
    "2. Transform $u(t) \\to U(\\omega)$\n",
    "3. Compute $G(\\omega) = H(\\omega).U(\\omega)$\n",
    "4. Find $\\mathcal{F}^{-1}\\left\\{G(\\omega)\\right\\} \\to g(t)$"
   ]
  },
  {
   "cell_type": "markdown",
   "metadata": {
    "slideshow": {
     "slide_type": "slide"
    }
   },
   "source": [
    "## Examples"
   ]
  },
  {
   "cell_type": "markdown",
   "metadata": {
    "slideshow": {
     "slide_type": "subslide"
    }
   },
   "source": [
    "### Example 1\n",
    "\n",
    "Karris example 8.8: for the linear network shown below, the impulse response is $h(t)=3e^{-2t}$. Use the Fourier transform to compute the response $y(t)$ when the input $u(t)=2[u_0(t)-u_0(t-3)]$. Verify the result with MATLAB.\n",
    "\n",
    "<img src=\"pictures/example1.png\">"
   ]
  },
  {
   "cell_type": "markdown",
   "metadata": {
    "slideshow": {
     "slide_type": "notes"
    }
   },
   "source": [
    "#### Solution to example 1\n",
    "\n",
    "<pre style=\"border: 2px solid blue\">\n",
    "\n",
    "\n",
    "\n",
    "\n",
    "\n",
    "\n",
    "\n",
    "\n",
    "\n",
    "\n",
    "\n",
    "\n",
    "\n",
    "\n",
    "\n",
    "\n",
    "\n",
    "\n",
    "\n",
    "\n",
    "\n",
    "\n",
    "\n",
    "\n",
    "</pre>"
   ]
  },
  {
   "cell_type": "markdown",
   "metadata": {
    "slideshow": {
     "slide_type": "subslide"
    }
   },
   "source": [
    "#### Matlab verification of example 1"
   ]
  },
  {
   "cell_type": "code",
   "execution_count": 1,
   "metadata": {
    "slideshow": {
     "slide_type": "subslide"
    }
   },
   "outputs": [
    {
     "name": "stdout",
     "output_type": "stream",
     "text": [
      " \n",
      "U1 =\n",
      " \n",
      "2*pi*dirac(w) - 2i/w\n",
      " \n"
     ]
    }
   ],
   "source": [
    "syms t w\n",
    "U1 = fourier(2*heaviside(t),t,w)"
   ]
  },
  {
   "cell_type": "code",
   "execution_count": 2,
   "metadata": {
    "slideshow": {
     "slide_type": "subslide"
    }
   },
   "outputs": [
    {
     "name": "stdout",
     "output_type": "stream",
     "text": [
      " \n",
      "H =\n",
      " \n",
      "3/(2 + w*1i)\n",
      " \n"
     ]
    }
   ],
   "source": [
    "H = fourier(3*exp(-2*t)*heaviside(t),t,w)"
   ]
  },
  {
   "cell_type": "code",
   "execution_count": 3,
   "metadata": {
    "slideshow": {
     "slide_type": "subslide"
    }
   },
   "outputs": [
    {
     "name": "stdout",
     "output_type": "stream",
     "text": [
      " \n",
      "Y1 =\n",
      " \n",
      "3*pi*dirac(w) - 6i/(w*(2 + w*1i))\n",
      " \n"
     ]
    }
   ],
   "source": [
    "Y1=simplify(H*U1)"
   ]
  },
  {
   "cell_type": "code",
   "execution_count": 4,
   "metadata": {
    "slideshow": {
     "slide_type": "subslide"
    }
   },
   "outputs": [
    {
     "name": "stdout",
     "output_type": "stream",
     "text": [
      " \n",
      "y1 =\n",
      " \n",
      "(3*exp(-2*t)*(sign(t) + 1)*(exp(2*t) - 1))/2\n",
      " \n"
     ]
    }
   ],
   "source": [
    "y1 = simplify(ifourier(Y1,w,t))"
   ]
  },
  {
   "cell_type": "markdown",
   "metadata": {
    "slideshow": {
     "slide_type": "subslide"
    }
   },
   "source": [
    "Get y2\n",
    "\n",
    "Substitute $t-3$ into $t$."
   ]
  },
  {
   "cell_type": "code",
   "execution_count": 5,
   "metadata": {
    "slideshow": {
     "slide_type": "subslide"
    }
   },
   "outputs": [
    {
     "name": "stdout",
     "output_type": "stream",
     "text": [
      " \n",
      "y2 =\n",
      " \n",
      "(3*exp(6 - 2*t)*(sign(t - 3) + 1)*(exp(2*t - 6) - 1))/2\n",
      " \n"
     ]
    }
   ],
   "source": [
    "y2 = subs(y1,t,t-3)"
   ]
  },
  {
   "cell_type": "code",
   "execution_count": 6,
   "metadata": {
    "slideshow": {
     "slide_type": "subslide"
    }
   },
   "outputs": [
    {
     "name": "stdout",
     "output_type": "stream",
     "text": [
      " \n",
      "y =\n",
      " \n",
      "(3*exp(-2*t)*(sign(t) + 1)*(exp(2*t) - 1))/2 - (3*exp(6 - 2*t)*(sign(t - 3) + 1)*(exp(2*t - 6) - 1))/2\n",
      " \n"
     ]
    }
   ],
   "source": [
    "y = y1 - y2"
   ]
  },
  {
   "cell_type": "markdown",
   "metadata": {
    "slideshow": {
     "slide_type": "subslide"
    }
   },
   "source": [
    "Plot result"
   ]
  },
  {
   "cell_type": "code",
   "execution_count": 7,
   "metadata": {
    "slideshow": {
     "slide_type": "subslide"
    }
   },
   "outputs": [
    {
     "data": {
      "image/png": "[encoded data removed]",
      "text/plain": [
       "<IPython.core.display.Image object>"
      ]
     },
     "metadata": {},
     "output_type": "display_data"
    }
   ],
   "source": [
    "ezplot(y)\n",
    "title('Solution to Example 1')\n",
    "ylabel('y(y)')\n",
    "xlabel('t [s]')\n",
    "grid "
   ]
  },
  {
   "cell_type": "markdown",
   "metadata": {
    "slideshow": {
     "slide_type": "notes"
    }
   },
   "source": [
    "See [ft3_ex1.m](https://cpjobling.github.io/eg-247-textbook/fourier_transform/3/ft3_ex1.m)"
   ]
  },
  {
   "cell_type": "markdown",
   "metadata": {
    "slideshow": {
     "slide_type": "notes"
    }
   },
   "source": [
    "Result is equivalent to:\n",
    "    \n",
    "    y = 3*heaviside(t) - 3*heaviside(t - 3) + 3*heaviside(t - 3)*exp(6 - 2*t) - 3*exp(-2*t)*heaviside(t)\n",
    "\n",
    "Which after gathering terms gives\n",
    "\n",
    "$$y(t) = 3(1 - 3e^{-2t})u_0(t) - 3(1 - 3e^{-2(t-3)})u_0(t-3)$$"
   ]
  },
  {
   "cell_type": "markdown",
   "metadata": {
    "slideshow": {
     "slide_type": "subslide"
    }
   },
   "source": [
    "### Example 2\n",
    "\n",
    "Karris example 8.9: for the circuit shown below, use the Fourier transfrom method, and the system function $H(\\omega)$ to compute $V_L(t)$. Assume $i_L(0^-)=0$. Verify the result with Matlab.\n",
    "\n",
    "<img src=\"pictures/example2.png\" width=\"50%\">"
   ]
  },
  {
   "cell_type": "markdown",
   "metadata": {
    "slideshow": {
     "slide_type": "notes"
    }
   },
   "source": [
    "#### Solution of example 2\n",
    "\n",
    "<pre style=\"border: 2px solid blue\">\n",
    "\n",
    "\n",
    "\n",
    "\n",
    "\n",
    "\n",
    "\n",
    "\n",
    "\n",
    "\n",
    "\n",
    "\n",
    "\n",
    "\n",
    "\n",
    "\n",
    "\n",
    "\n",
    "\n",
    "\n",
    "\n",
    "\n",
    "\n",
    "\n",
    "</pre>"
   ]
  },
  {
   "cell_type": "markdown",
   "metadata": {
    "slideshow": {
     "slide_type": "subslide"
    }
   },
   "source": [
    "#### Matlab verification of example 2"
   ]
  },
  {
   "cell_type": "code",
   "execution_count": 8,
   "metadata": {
    "slideshow": {
     "slide_type": "subslide"
    }
   },
   "outputs": [
    {
     "name": "stdout",
     "output_type": "stream",
     "text": [
      " \n",
      "H =\n",
      " \n",
      "(w*1i)/(2 + w*1i)\n",
      " \n"
     ]
    }
   ],
   "source": [
    "syms t w\n",
    "H = j*w/(j*w + 2)"
   ]
  },
  {
   "cell_type": "code",
   "execution_count": 9,
   "metadata": {
    "slideshow": {
     "slide_type": "subslide"
    }
   },
   "outputs": [
    {
     "name": "stdout",
     "output_type": "stream",
     "text": [
      " \n",
      "Vin =\n",
      " \n",
      "5/(3 + w*1i)\n",
      " \n"
     ]
    }
   ],
   "source": [
    "Vin = fourier(5*exp(-3*t)*heaviside(t),t,w)"
   ]
  },
  {
   "cell_type": "code",
   "execution_count": 10,
   "metadata": {
    "slideshow": {
     "slide_type": "subslide"
    }
   },
   "outputs": [
    {
     "name": "stdout",
     "output_type": "stream",
     "text": [
      " \n",
      "Vout =\n",
      " \n",
      "(w*5i)/((2 + w*1i)*(3 + w*1i))\n",
      " \n"
     ]
    }
   ],
   "source": [
    "Vout=simplify(H*Vin)"
   ]
  },
  {
   "cell_type": "code",
   "execution_count": 11,
   "metadata": {
    "slideshow": {
     "slide_type": "subslide"
    }
   },
   "outputs": [
    {
     "name": "stdout",
     "output_type": "stream",
     "text": [
      " \n",
      "vout =\n",
      " \n",
      "-(5*exp(-3*t)*(sign(t) + 1)*(2*exp(t) - 3))/2\n",
      " \n"
     ]
    }
   ],
   "source": [
    "vout = simplify(ifourier(Vout,w,t))"
   ]
  },
  {
   "cell_type": "markdown",
   "metadata": {
    "slideshow": {
     "slide_type": "subslide"
    }
   },
   "source": [
    "Plot result"
   ]
  },
  {
   "cell_type": "code",
   "execution_count": 12,
   "metadata": {
    "slideshow": {
     "slide_type": "subslide"
    }
   },
   "outputs": [
    {
     "data": {
      "image/png": "[encoded data removed]",
      "text/plain": [
       "<IPython.core.display.Image object>"
      ]
     },
     "metadata": {},
     "output_type": "display_data"
    }
   ],
   "source": [
    "ezplot(vout)\n",
    "title('Solution to Example 2')\n",
    "ylabel('v_{out}(t) [V]')\n",
    "xlabel('t [s]')\n",
    "grid "
   ]
  },
  {
   "cell_type": "markdown",
   "metadata": {
    "slideshow": {
     "slide_type": "notes"
    }
   },
   "source": [
    "See [ft3_ex2.m](https://cpjobling.github.io/eg-247-textbook/fourier_transform/3/ft3_ex2.m)"
   ]
  },
  {
   "cell_type": "markdown",
   "metadata": {
    "slideshow": {
     "slide_type": "notes"
    }
   },
   "source": [
    "Result is equivalent to:\n",
    "    \n",
    "    vout = -5*exp(-3*t)*heaviside(t)*(2*exp(t) - 3)\n",
    "\n",
    "Which after gathering terms gives\n",
    "\n",
    "$$v_{\\mathrm{out}} = 5\\left(3e^{-3t} - 2e^{-2t}\\right)u_0(t)$$\n"
   ]
  },
  {
   "cell_type": "markdown",
   "metadata": {
    "slideshow": {
     "slide_type": "subslide"
    }
   },
   "source": [
    "### Example 3\n",
    "\n",
    "Karris example 8.10: for the linear network shown below, the input-output relationship is:\n",
    "\n",
    "$$\\frac{d}{dt}v_{\\mathrm{out}}+4v_{\\mathrm{out}}=10v_{\\mathrm{in}}$$\n",
    "\n",
    "where $v_{\\mathrm{in}}=3e^{-2t}$. Use the Fourier transform method, and the system function $H(\\omega)$ to compute the output $v_{\\mathrm{out}}$. Verify the result with Matlab.\n",
    "\n",
    "<img src=\"pictures/example3.jpg\" width=\"75%\">"
   ]
  },
  {
   "cell_type": "markdown",
   "metadata": {
    "slideshow": {
     "slide_type": "notes"
    }
   },
   "source": [
    "#### Solution to example 3\n",
    "\n",
    "<pre style=\"border: 2px solid blue\">\n",
    "\n",
    "\n",
    "\n",
    "\n",
    "\n",
    "\n",
    "\n",
    "\n",
    "\n",
    "\n",
    "\n",
    "\n",
    "\n",
    "\n",
    "\n",
    "\n",
    "\n",
    "\n",
    "\n",
    "\n",
    "\n",
    "\n",
    "\n",
    "\n",
    "</pre>"
   ]
  },
  {
   "cell_type": "markdown",
   "metadata": {
    "slideshow": {
     "slide_type": "subslide"
    }
   },
   "source": [
    "#### Matlab verification of example 3"
   ]
  },
  {
   "cell_type": "code",
   "execution_count": 13,
   "metadata": {
    "slideshow": {
     "slide_type": "subslide"
    }
   },
   "outputs": [
    {
     "name": "stdout",
     "output_type": "stream",
     "text": [
      " \n",
      "H =\n",
      " \n",
      "10/(4 + w*1i)\n",
      " \n"
     ]
    }
   ],
   "source": [
    "syms t w\n",
    "H = 10/(j*w + 4)"
   ]
  },
  {
   "cell_type": "code",
   "execution_count": 14,
   "metadata": {
    "slideshow": {
     "slide_type": "subslide"
    }
   },
   "outputs": [
    {
     "name": "stdout",
     "output_type": "stream",
     "text": [
      " \n",
      "Vin =\n",
      " \n",
      "3/(2 + w*1i)\n",
      " \n"
     ]
    }
   ],
   "source": [
    "Vin = fourier(3*exp(-2*t)*heaviside(t),t,w)"
   ]
  },
  {
   "cell_type": "code",
   "execution_count": 15,
   "metadata": {
    "slideshow": {
     "slide_type": "subslide"
    }
   },
   "outputs": [
    {
     "name": "stdout",
     "output_type": "stream",
     "text": [
      " \n",
      "Vout =\n",
      " \n",
      "30/((2 + w*1i)*(4 + w*1i))\n",
      " \n"
     ]
    }
   ],
   "source": [
    "Vout=simplify(H*Vin)"
   ]
  },
  {
   "cell_type": "code",
   "execution_count": 16,
   "metadata": {
    "slideshow": {
     "slide_type": "subslide"
    }
   },
   "outputs": [
    {
     "name": "stdout",
     "output_type": "stream",
     "text": [
      " \n",
      "vout =\n",
      " \n",
      "(15*exp(-4*t)*(sign(t) + 1)*(exp(2*t) - 1))/2\n",
      " \n"
     ]
    }
   ],
   "source": [
    "vout = simplify(ifourier(Vout,w,t))"
   ]
  },
  {
   "cell_type": "markdown",
   "metadata": {
    "slideshow": {
     "slide_type": "subslide"
    }
   },
   "source": [
    "Plot result"
   ]
  },
  {
   "cell_type": "code",
   "execution_count": 17,
   "metadata": {
    "slideshow": {
     "slide_type": "subslide"
    }
   },
   "outputs": [
    {
     "data": {
      "image/png": "[encoded data removed]",
      "text/plain": [
       "<IPython.core.display.Image object>"
      ]
     },
     "metadata": {},
     "output_type": "display_data"
    }
   ],
   "source": [
    "ezplot(vout)\n",
    "title('Solution to Example 3')\n",
    "ylabel('v_{out}(t) [V]')\n",
    "xlabel('t [s]')\n",
    "grid "
   ]
  },
  {
   "cell_type": "markdown",
   "metadata": {
    "slideshow": {
     "slide_type": "notes"
    }
   },
   "source": [
    "See [ft3_ex3.m](https://cpjobling.github.io/eg-247-textbook/fourier_transform/3/ft3_ex3.m)\n",
    "\n",
    "Result is equiavlent to:\n",
    "    \n",
    "    15*exp(-4*t)*heaviside(t)*(exp(2*t) - 1)\n",
    "\n",
    "Which after gathering terms gives\n",
    "\n",
    "$$v_{\\mathrm{out}}(t) = 15\\left(e^{-2t}) - e^{-4t}\\right)u_0(t)$$"
   ]
  },
  {
   "cell_type": "markdown",
   "metadata": {
    "slideshow": {
     "slide_type": "subslide"
    }
   },
   "source": [
    "### Example 4\n",
    "\n",
    "Karris example 8.11: the voltage across a 1 $\\Omega$ resistor is known to be $V_{R}(t)=3e^{-2t} u_0(t)$. Compute the energy dissipated in the resistor for $0\\lt t\\lt\\infty$, and verify the result using Parseval's theorem. Verify the result with Matlab.\n",
    "\n",
    "Note from [tables of integrals](https://en.wikipedia.org/wiki/Lists_of_integrals) \n",
    "\n",
    "$$\\int\\frac{1}{a^2 + x^2}\\,dx = \\frac{1}{a}\\arctan\\frac{x}{a}+C.$$\n",
    "\n",
    "<img src=\"pictures/example4.png\" width=\"25%\">"
   ]
  },
  {
   "cell_type": "markdown",
   "metadata": {
    "slideshow": {
     "slide_type": "notes"
    }
   },
   "source": [
    "#### Solution to example 4\n",
    "\n",
    "<pre style=\"border: 2px solid blue\">\n",
    "\n",
    "\n",
    "\n",
    "\n",
    "\n",
    "\n",
    "\n",
    "\n",
    "\n",
    "\n",
    "\n",
    "\n",
    "\n",
    "\n",
    "\n",
    "\n",
    "\n",
    "\n",
    "\n",
    "\n",
    "\n",
    "\n",
    "\n",
    "\n",
    "</pre>"
   ]
  },
  {
   "cell_type": "markdown",
   "metadata": {
    "slideshow": {
     "slide_type": "subslide"
    }
   },
   "source": [
    "#### Matlab verification of example 4"
   ]
  },
  {
   "cell_type": "code",
   "execution_count": 18,
   "metadata": {
    "slideshow": {
     "slide_type": "subslide"
    }
   },
   "outputs": [],
   "source": [
    "syms t w"
   ]
  },
  {
   "cell_type": "markdown",
   "metadata": {
    "slideshow": {
     "slide_type": "subslide"
    }
   },
   "source": [
    "Calcuate energy from time function"
   ]
  },
  {
   "cell_type": "code",
   "execution_count": 19,
   "metadata": {
    "slideshow": {
     "slide_type": "subslide"
    }
   },
   "outputs": [
    {
     "name": "stdout",
     "output_type": "stream",
     "text": [
      " \n",
      "Pr =\n",
      " \n",
      "9*exp(-4*t)*heaviside(t)^2\n",
      " \n",
      " \n",
      "Wr =\n",
      " \n",
      "9/4\n",
      " \n"
     ]
    }
   ],
   "source": [
    "Vr = 3*exp(-2*t)*heaviside(t);\n",
    "R = 1;\n",
    "Pr = Vr^2/R\n",
    "Wr = int(Pr,t,0,inf)"
   ]
  },
  {
   "cell_type": "markdown",
   "metadata": {
    "slideshow": {
     "slide_type": "subslide"
    }
   },
   "source": [
    "Calculate using Parseval's theorem"
   ]
  },
  {
   "cell_type": "code",
   "execution_count": 20,
   "metadata": {
    "slideshow": {
     "slide_type": "subslide"
    }
   },
   "outputs": [
    {
     "name": "stdout",
     "output_type": "stream",
     "text": [
      " \n",
      "Fw =\n",
      " \n",
      "3/(2 + w*1i)\n",
      " \n"
     ]
    }
   ],
   "source": [
    "Fw = fourier(Vr,t,w)"
   ]
  },
  {
   "cell_type": "code",
   "execution_count": 21,
   "metadata": {
    "slideshow": {
     "slide_type": "subslide"
    }
   },
   "outputs": [
    {
     "name": "stdout",
     "output_type": "stream",
     "text": [
      " \n",
      "Fw2 =\n",
      " \n",
      "9/abs(2 + w*1i)^2\n",
      " \n"
     ]
    }
   ],
   "source": [
    "Fw2 = simplify(abs(Fw)^2)"
   ]
  },
  {
   "cell_type": "code",
   "execution_count": 22,
   "metadata": {
    "slideshow": {
     "slide_type": "subslide"
    }
   },
   "outputs": [
    {
     "name": "stdout",
     "output_type": "stream",
     "text": [
      " \n",
      "Wr =\n",
      " \n",
      "(51607450253003931*pi)/72057594037927936\n",
      " \n"
     ]
    }
   ],
   "source": [
    "Wr=2/(2*pi)*int(Fw2,w,0,inf)"
   ]
  },
  {
   "cell_type": "markdown",
   "metadata": {
    "slideshow": {
     "slide_type": "notes"
    }
   },
   "source": [
    "See [ft3_ex4.m](https://cpjobling.github.io/eg-247-textbook/fourier_transform/3/ft3_ex4.m)"
   ]
  },
  {
   "cell_type": "markdown",
   "metadata": {
    "slideshow": {
     "slide_type": "notes"
    }
   },
   "source": [
    "## Solutions\n",
    "\n",
    "* Example 1: [ft3-ex1.pdf](https://cpjobling.github.io/eg-247-textbook/fourier_transform/solutions/ft3-ex1.pdf)\n",
    "\n",
    "* Example 2: [ft3-ex2.pdf](https://cpjobling.github.io/eg-247-textbook/fourier_transform/solutions/ft3-ex2.pdf)\n",
    "\n",
    "* Example 3: [ft3-ex3.pdf](https://cpjobling.github.io/eg-247-textbook/fourier_transform/solutions/ft3-ex4.pdf)\n",
    "\n",
    "* Example 3: [ft3-ex4.pdf](https://cpjobling.github.io/eg-247-textbook/fourier_transform/solutions/ft3-ex4.pdf)\n",
    "\n"
   ]
  }
 ],
 "metadata": {
  "anaconda-cloud": {},
  "celltoolbar": "Slideshow",
  "kernelspec": {
   "display_name": "Matlab",
   "language": "matlab",
   "name": "matlab"
  },
  "language_info": {
   "codemirror_mode": "octave",
   "file_extension": ".m",
   "help_links": [
    {
     "text": "MetaKernel Magics",
     "url": "https://metakernel.readthedocs.io/en/latest/source/README.html"
    }
   ],
   "mimetype": "text/x-octave",
   "name": "matlab",
   "version": "0.16.7"
  }
 },
 "nbformat": 4,
 "nbformat_minor": 1
}
