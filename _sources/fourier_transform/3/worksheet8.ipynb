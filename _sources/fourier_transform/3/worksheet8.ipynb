{
 "cells": [
  {
   "cell_type": "markdown",
   "id": "f63b0a49",
   "metadata": {
    "slideshow": {
     "slide_type": "slide"
    }
   },
   "source": [
    "(ws8)=\n",
    "# Worksheet 8\n",
    "\n",
    "## To accompany Unit 4.3 Fourier Transforms for Circuit and LTI Systems Analysis"
   ]
  },
  {
   "cell_type": "markdown",
   "id": "11cd6093",
   "metadata": {
    "slideshow": {
     "slide_type": "skip"
    }
   },
   "source": [
    "This worksheet can be downloaded as a [PDF file](https://cpjobling.github.io/eg-247-textbook/worksheets/worksheet8.pdf). We will step through this worksheet in class. \n",
    "\n",
    "An annotatable copy of the notes for this presentation will be distributed before the second class meeting as **Worksheet 8** in the **Week 6: Classroom Activities** section of the Canvas site. I will also distribute a copy to your personal **Worksheets** section of the **OneNote Class Notebook** so that you can add your own notes using OneNote. \n",
    "\n",
    "You are expected to have at least watched the video presentation of {ref}`ft3` of the [notes](https://cpjobling.github.io/eg-247-textbook/) before coming to class. If you haven't watch it afterwards!\n",
    "\n",
    "After class, the lecture recording and the annotated version of the worksheets will be made available through Canvas."
   ]
  },
  {
   "cell_type": "markdown",
   "id": "8a623178",
   "metadata": {
    "slideshow": {
     "slide_type": "slide"
    }
   },
   "source": [
    "## The System Function"
   ]
  },
  {
   "cell_type": "markdown",
   "id": "96b4d6e2",
   "metadata": {
    "slideshow": {
     "slide_type": "subslide"
    }
   },
   "source": [
    "### System response from system impulse response\n",
    "\n",
    "Recall that the convolution integral of a system with impulse response $h(t)$ and input $u(t)$ is\n",
    "\n",
    "$$h(t)*u(t)=\\int_{-\\infty}^{\\infty}h(t-\\tau)u(\\tau)\\,d\\tau.$$"
   ]
  },
  {
   "cell_type": "markdown",
   "id": "4f784fdf",
   "metadata": {
    "slideshow": {
     "slide_type": "subslide"
    }
   },
   "source": [
    "We let \n",
    "\n",
    "$$g(t) = h(t)*u(t)$$"
   ]
  },
  {
   "cell_type": "markdown",
   "id": "f9fd926f",
   "metadata": {
    "slideshow": {
     "slide_type": "subslide"
    }
   },
   "source": [
    "Then by the time convolution property\n",
    "\n",
    "$$h(t)*u(t) = g(t) \\Leftrightarrow G(\\omega) = H(\\omega).U(\\omega)$$"
   ]
  },
  {
   "cell_type": "markdown",
   "id": "808b9348",
   "metadata": {
    "slideshow": {
     "slide_type": "subslide"
    }
   },
   "source": [
    "We call $H(\\omega)$ the *system function*.\n",
    "\n",
    "We note that the system function $H(\\omega)$ and the impulse response $h(t)$ form the Fourier transform pair\n",
    "\n",
    "$$h(t) \\Leftrightarrow H(\\omega)$$\n"
   ]
  },
  {
   "cell_type": "markdown",
   "id": "39aac070",
   "metadata": {
    "slideshow": {
     "slide_type": "subslide"
    }
   },
   "source": [
    "### Obtaining system response\n",
    "\n",
    "If we know the impulse resonse $h(t)$, we can compute the system response $g(t)$ of any input $u(t)$ by multiplying the Fourier transforms of $H(\\omega)$ and $U(\\omega)$ to obtain $G(\\omega)$. Then we take the inverse Fourier transform of $G(\\omega)$ to obtain the response $g(t)$."
   ]
  },
  {
   "cell_type": "markdown",
   "id": "ecbb88ca",
   "metadata": {
    "slideshow": {
     "slide_type": "subslide"
    }
   },
   "source": [
    "1. Transform $h(t) \\to H(\\omega)$\n",
    "2. Transform $u(t) \\to U(\\omega)$\n",
    "3. Compute $G(\\omega) = H(\\omega).U(\\omega)$\n",
    "4. Find $\\mathcal{F}^{-1}\\left\\{G(\\omega)\\right\\} \\to g(t)$"
   ]
  },
  {
   "cell_type": "markdown",
   "id": "27ce24a6",
   "metadata": {
    "slideshow": {
     "slide_type": "slide"
    }
   },
   "source": [
    "## Examples"
   ]
  },
  {
   "cell_type": "markdown",
   "id": "a14fbade",
   "metadata": {
    "slideshow": {
     "slide_type": "subslide"
    }
   },
   "source": [
    "### Example 1\n",
    "\n",
    "Karris example 8.8: for the linear network shown below, the impulse response is $h(t)=3e^{-2t}u_0(t)$. Use the Fourier transform to compute the response $y(t)$ when the input $u(t)=2[u_0(t)-u_0(t-3)]$. Verify the result with MATLAB.\n",
    "\n",
    "![Example 1](./pictures/example1.png)\n",
    "\n",
    "Worked solution: [ft3-ex1.pdf](https://cpjobling.github.io/eg-247-textbook/fourier_transform/solutions/ft3-ex1.pdf).\n",
    "\n",
    "MATLAB solution: [ft3_ex1.mlx](https://cpjobling.github.io/eg-247-textbook/fourier_transform/solutions/ft3_ex1.mlx).\n"
   ]
  },
  {
   "cell_type": "markdown",
   "id": "f26f0ffc",
   "metadata": {
    "slideshow": {
     "slide_type": "notes"
    }
   },
   "source": [
    "#### Solution to example 1\n",
    "\n",
    "<pre style=\"border: 2px solid blue\">\n",
    "\n",
    "\n",
    "\n",
    "\n",
    "\n",
    "\n",
    "\n",
    "\n",
    "\n",
    "\n",
    "\n",
    "\n",
    "\n",
    "\n",
    "\n",
    "\n",
    "\n",
    "\n",
    "\n",
    "\n",
    "\n",
    "\n",
    "\n",
    "\n",
    "</pre>"
   ]
  },
  {
   "cell_type": "markdown",
   "id": "b24d0db9",
   "metadata": {
    "slideshow": {
     "slide_type": "subslide"
    }
   },
   "source": [
    "#### MATLAB verification of example 1"
   ]
  },
  {
   "cell_type": "code",
   "execution_count": 1,
   "id": "85d837ab",
   "metadata": {
    "slideshow": {
     "slide_type": "subslide"
    }
   },
   "outputs": [],
   "source": [
    "format compact\n",
    "cd ../matlab\n",
    "open ft3_ex1"
   ]
  },
  {
   "cell_type": "code",
   "execution_count": 2,
   "id": "b1cb9255",
   "metadata": {
    "slideshow": {
     "slide_type": "subslide"
    }
   },
   "outputs": [
    {
     "name": "stdout",
     "output_type": "stream",
     "text": [
      "U1 =\n",
      "2*pi*dirac(w) - 2i/w\n"
     ]
    }
   ],
   "source": [
    "syms t w\n",
    "U1 = fourier(2*heaviside(t),t,w)"
   ]
  },
  {
   "cell_type": "code",
   "execution_count": 3,
   "id": "6944fa7e",
   "metadata": {
    "slideshow": {
     "slide_type": "subslide"
    }
   },
   "outputs": [
    {
     "name": "stdout",
     "output_type": "stream",
     "text": [
      "H =\n",
      "3/(2 + w*1i)\n"
     ]
    }
   ],
   "source": [
    "H = fourier(3*exp(-2*t)*heaviside(t),t,w)"
   ]
  },
  {
   "cell_type": "code",
   "execution_count": 4,
   "id": "e50a0f82",
   "metadata": {
    "slideshow": {
     "slide_type": "subslide"
    }
   },
   "outputs": [
    {
     "name": "stdout",
     "output_type": "stream",
     "text": [
      "Y1 =\n",
      "3*pi*dirac(w) - 6i/(w*(2 + w*1i))\n"
     ]
    }
   ],
   "source": [
    "Y1=simplify(H*U1)"
   ]
  },
  {
   "cell_type": "code",
   "execution_count": 5,
   "id": "9328aca1",
   "metadata": {
    "slideshow": {
     "slide_type": "subslide"
    }
   },
   "outputs": [
    {
     "name": "stdout",
     "output_type": "stream",
     "text": [
      "y1 =\n",
      "(3*exp(-2*t)*(sign(t) + 1)*(exp(2*t) - 1))/2\n"
     ]
    }
   ],
   "source": [
    "y1 = simplify(ifourier(Y1,w,t))"
   ]
  },
  {
   "cell_type": "markdown",
   "id": "fea24427",
   "metadata": {
    "slideshow": {
     "slide_type": "subslide"
    }
   },
   "source": [
    "Get y2\n",
    "\n",
    "Substitute $t-3$ into $t$."
   ]
  },
  {
   "cell_type": "code",
   "execution_count": 6,
   "id": "9edcda75",
   "metadata": {
    "slideshow": {
     "slide_type": "subslide"
    }
   },
   "outputs": [
    {
     "name": "stdout",
     "output_type": "stream",
     "text": [
      "y2 =\n",
      "(3*exp(6 - 2*t)*(sign(t - 3) + 1)*(exp(2*t - 6) - 1))/2\n"
     ]
    }
   ],
   "source": [
    "y2 = subs(y1,t,t-3)"
   ]
  },
  {
   "cell_type": "code",
   "execution_count": 7,
   "id": "78dbea6d",
   "metadata": {
    "slideshow": {
     "slide_type": "subslide"
    }
   },
   "outputs": [
    {
     "name": "stdout",
     "output_type": "stream",
     "text": [
      "y =\n",
      "(3*exp(-2*t)*(sign(t) + 1)*(exp(2*t) - 1))/2 - (3*exp(6 - 2*t)*(sign(t - 3) + 1)*(exp(2*t - 6) - 1))/2\n"
     ]
    }
   ],
   "source": [
    "y = y1 - y2"
   ]
  },
  {
   "cell_type": "markdown",
   "id": "aae2dc10",
   "metadata": {
    "slideshow": {
     "slide_type": "notes"
    }
   },
   "source": [
    "The result is equivalent to:\n",
    "    \n",
    "    y = 3*heaviside(t) - 3*heaviside(t - 3) + 3*heaviside(t - 3)*exp(6 - 2*t) - 3*exp(-2*t)*heaviside(t)\n",
    "\n",
    "Which after gathering terms gives\n",
    "\n",
    "$$y(t) = 3(1 - 3e^{-2t})u_0(t) - 3(1 - 3e^{-2(t-3)})u_0(t-3)$$"
   ]
  },
  {
   "cell_type": "markdown",
   "id": "425b99d6",
   "metadata": {
    "slideshow": {
     "slide_type": "subslide"
    }
   },
   "source": [
    "Plot the result"
   ]
  },
  {
   "cell_type": "code",
   "execution_count": 8,
   "id": "f78b0ab5",
   "metadata": {
    "slideshow": {
     "slide_type": "subslide"
    }
   },
   "outputs": [
    {
     "data": {
      "image/png": "[encoded data removed]",
      "text/plain": [
       "<IPython.core.display.Image object>"
      ]
     },
     "metadata": {},
     "output_type": "display_data"
    }
   ],
   "source": [
    "fplot(y,[0,6])\n",
    "title('Solution to Example 1')\n",
    "ylabel('y(t)')\n",
    "xlabel('t [s]')\n",
    "grid "
   ]
  },
  {
   "cell_type": "markdown",
   "id": "591b7c68",
   "metadata": {
    "slideshow": {
     "slide_type": "notes"
    }
   },
   "source": [
    "See [ft3_ex1.mlx](https://cpjobling.github.io/eg-247-textbook/fourier_transform/matlab/ft3_ex1.mlx)"
   ]
  },
  {
   "cell_type": "markdown",
   "id": "ddfbad31",
   "metadata": {
    "slideshow": {
     "slide_type": "subslide"
    }
   },
   "source": [
    "### Example 2\n",
    "\n",
    "Karris example 8.9: for the circuit shown below, use the Fourier transfrom method, and the system function $H(\\omega)$ to compute $v_L(t)$. Assume $i_L(0^-)=0$. Verify the result with MATLAB.\n",
    "\n",
    "![Example 2](./pictures/example2-small.png)\n",
    "\n",
    "Worked solution: [ft3-ex2.pdf](https://cpjobling.github.io/eg-247-textbook/fourier_transform/solutions/ft3-ex2.pdf).\n",
    "\n",
    "MATLAB solution: [ft3_ex2.mlx](https://cpjobling.github.io/eg-247-textbook/fourier_transform/solutions/ft3_ex2.mlx).\n"
   ]
  },
  {
   "cell_type": "markdown",
   "id": "7d97be18",
   "metadata": {
    "slideshow": {
     "slide_type": "notes"
    }
   },
   "source": [
    "#### Solution to example 2\n",
    "\n",
    "<pre style=\"border: 2px solid blue\">\n",
    "\n",
    "\n",
    "\n",
    "\n",
    "\n",
    "\n",
    "\n",
    "\n",
    "\n",
    "\n",
    "\n",
    "\n",
    "\n",
    "\n",
    "\n",
    "\n",
    "\n",
    "\n",
    "\n",
    "\n",
    "\n",
    "\n",
    "\n",
    "\n",
    "</pre>"
   ]
  },
  {
   "cell_type": "markdown",
   "id": "35da688f",
   "metadata": {
    "slideshow": {
     "slide_type": "subslide"
    }
   },
   "source": [
    "#### MATLAB verification of example 2"
   ]
  },
  {
   "cell_type": "code",
   "execution_count": 9,
   "id": "688fb851",
   "metadata": {
    "slideshow": {
     "slide_type": "subslide"
    }
   },
   "outputs": [
    {
     "name": "stdout",
     "output_type": "stream",
     "text": [
      "H =\n",
      "(w*1i)/(2 + w*1i)\n"
     ]
    }
   ],
   "source": [
    "syms t w\n",
    "H = j*w/(j*w + 2)"
   ]
  },
  {
   "cell_type": "code",
   "execution_count": 10,
   "id": "a5f201e2",
   "metadata": {
    "slideshow": {
     "slide_type": "subslide"
    }
   },
   "outputs": [
    {
     "name": "stdout",
     "output_type": "stream",
     "text": [
      "Vin =\n",
      "5/(3 + w*1i)\n"
     ]
    }
   ],
   "source": [
    "Vin = fourier(5*exp(-3*t)*heaviside(t),t,w)"
   ]
  },
  {
   "cell_type": "code",
   "execution_count": 11,
   "id": "8b9d6a9c",
   "metadata": {
    "slideshow": {
     "slide_type": "subslide"
    }
   },
   "outputs": [
    {
     "name": "stdout",
     "output_type": "stream",
     "text": [
      "V_L =\n",
      "(w*5i)/((2 + w*1i)*(3 + w*1i))\n"
     ]
    }
   ],
   "source": [
    "V_L=simplify(H*Vin)"
   ]
  },
  {
   "cell_type": "code",
   "execution_count": 12,
   "id": "651c5d1c",
   "metadata": {
    "slideshow": {
     "slide_type": "subslide"
    }
   },
   "outputs": [
    {
     "name": "stdout",
     "output_type": "stream",
     "text": [
      "v_l =\n",
      "-(5*exp(-3*t)*(sign(t) + 1)*(2*exp(t) - 3))/2\n"
     ]
    }
   ],
   "source": [
    "v_L = simplify(ifourier(V_L,w,t))"
   ]
  },
  {
   "cell_type": "markdown",
   "id": "a9a08cd7",
   "metadata": {
    "slideshow": {
     "slide_type": "notes"
    }
   },
   "source": [
    "The result is equivalent to:\n",
    "    \n",
    "    v_L = -5*exp(-3*t)*heaviside(t)*(2*exp(t) - 3)\n",
    "\n",
    "Which after gathering terms gives\n",
    "\n",
    "$$v_{L} = 5\\left(3e^{-3t} - 2e^{-2t}\\right)u_0(t)$$\n"
   ]
  },
  {
   "cell_type": "markdown",
   "id": "298a909a",
   "metadata": {
    "slideshow": {
     "slide_type": "subslide"
    }
   },
   "source": [
    "Plot the result"
   ]
  },
  {
   "cell_type": "code",
   "execution_count": 13,
   "id": "db1495d8",
   "metadata": {
    "slideshow": {
     "slide_type": "subslide"
    }
   },
   "outputs": [
    {
     "data": {
      "image/png": "[encoded data removed]",
      "text/plain": [
       "<IPython.core.display.Image object>"
      ]
     },
     "metadata": {},
     "output_type": "display_data"
    }
   ],
   "source": [
    "fplot(v_l,[0,6])\n",
    "title('Solution to Example 2')\n",
    "ylabel('v_{L}(t) [V]')\n",
    "xlabel('t [s]')\n",
    "grid "
   ]
  },
  {
   "cell_type": "markdown",
   "id": "9677e0c5",
   "metadata": {
    "slideshow": {
     "slide_type": "subslide"
    }
   },
   "source": [
    "### Example 3\n",
    "\n",
    "Karris example 8.10: for the linear network shown below, the input-output relationship is:\n",
    "\n",
    "$$\\frac{d}{dt}v_{\\mathrm{out}}+4v_{\\mathrm{out}}=10v_{\\mathrm{in}}$$\n",
    "\n",
    "where $v_{\\mathrm{in}}=3e^{-2t}$. Use the Fourier transform method, and the system function $H(\\omega)$ to compute the output $v_{\\mathrm{out}}$. Verify the result with MATLAB.\n",
    "\n",
    "![Example 3](./pictures/example3-small.png)\n",
    "\n",
    "Worked solution: [ft3-ex3.pdf](https://cpjobling.github.io/eg-247-textbook/fourier_transform/solutions/ft3-ex3.pdf).\n",
    "\n",
    "MATLAB solution: [ft3_ex3.mlx](https://cpjobling.github.io/eg-247-textbook/fourier_transform/solutions/ft3_ex3.mlx).\n"
   ]
  },
  {
   "cell_type": "markdown",
   "id": "1d7e91c2",
   "metadata": {
    "slideshow": {
     "slide_type": "notes"
    }
   },
   "source": [
    "#### Solution to example 3\n",
    "\n",
    "<pre style=\"border: 2px solid blue\">\n",
    "\n",
    "\n",
    "\n",
    "\n",
    "\n",
    "\n",
    "\n",
    "\n",
    "\n",
    "\n",
    "\n",
    "\n",
    "\n",
    "\n",
    "\n",
    "\n",
    "\n",
    "\n",
    "\n",
    "\n",
    "\n",
    "\n",
    "\n",
    "\n",
    "</pre>"
   ]
  },
  {
   "cell_type": "markdown",
   "id": "7aa3fe6e",
   "metadata": {
    "slideshow": {
     "slide_type": "subslide"
    }
   },
   "source": [
    "#### MATLAB verification of example 3"
   ]
  },
  {
   "cell_type": "code",
   "execution_count": 14,
   "id": "2d90f7e0",
   "metadata": {
    "slideshow": {
     "slide_type": "subslide"
    }
   },
   "outputs": [
    {
     "name": "stdout",
     "output_type": "stream",
     "text": [
      "H =\n",
      "10/(4 + w*1i)\n"
     ]
    }
   ],
   "source": [
    "syms t w\n",
    "H = 10/(j*w + 4)"
   ]
  },
  {
   "cell_type": "code",
   "execution_count": 15,
   "id": "988b31e6",
   "metadata": {
    "slideshow": {
     "slide_type": "subslide"
    }
   },
   "outputs": [
    {
     "name": "stdout",
     "output_type": "stream",
     "text": [
      "Vin =\n",
      "3/(2 + w*1i)\n"
     ]
    }
   ],
   "source": [
    "Vin = fourier(3*exp(-2*t)*heaviside(t),t,w)"
   ]
  },
  {
   "cell_type": "code",
   "execution_count": 16,
   "id": "6501b88c",
   "metadata": {
    "slideshow": {
     "slide_type": "subslide"
    }
   },
   "outputs": [
    {
     "name": "stdout",
     "output_type": "stream",
     "text": [
      "Vout =\n",
      "30/((2 + w*1i)*(4 + w*1i))\n"
     ]
    }
   ],
   "source": [
    "Vout=simplify(H*Vin)"
   ]
  },
  {
   "cell_type": "code",
   "execution_count": 17,
   "id": "d9f1bf72",
   "metadata": {
    "slideshow": {
     "slide_type": "subslide"
    }
   },
   "outputs": [
    {
     "name": "stdout",
     "output_type": "stream",
     "text": [
      "vout =\n",
      "(15*exp(-4*t)*(sign(t) + 1)*(exp(2*t) - 1))/2\n"
     ]
    }
   ],
   "source": [
    "vout = simplify(ifourier(Vout,w,t))"
   ]
  },
  {
   "cell_type": "markdown",
   "id": "a7c65c77",
   "metadata": {
    "slideshow": {
     "slide_type": "notes"
    }
   },
   "source": [
    "The result is equiavlent to:\n",
    "    \n",
    "    15*exp(-4*t)*heaviside(t)*(exp(2*t) - 1)\n",
    "\n",
    "Which after gathering terms gives\n",
    "\n",
    "$$v_{\\mathrm{out}}(t) = 15\\left(e^{-2t} - e^{-4t}\\right)u_0(t)$$"
   ]
  },
  {
   "cell_type": "markdown",
   "id": "c296ed30",
   "metadata": {
    "slideshow": {
     "slide_type": "subslide"
    }
   },
   "source": [
    "Plot result"
   ]
  },
  {
   "cell_type": "code",
   "execution_count": 18,
   "id": "2fcb6e30",
   "metadata": {
    "slideshow": {
     "slide_type": "subslide"
    }
   },
   "outputs": [
    {
     "data": {
      "image/png": "[encoded data removed]",
      "text/plain": [
       "<IPython.core.display.Image object>"
      ]
     },
     "metadata": {},
     "output_type": "display_data"
    }
   ],
   "source": [
    "ezplot(vout)\n",
    "title('Solution to Example 3')\n",
    "ylabel('v_{out}(t) [V]')\n",
    "xlabel('t [s]')\n",
    "grid "
   ]
  },
  {
   "cell_type": "markdown",
   "id": "f5149d55",
   "metadata": {
    "slideshow": {
     "slide_type": "subslide"
    }
   },
   "source": [
    "### Example 4\n",
    "\n",
    "Karris example 8.11: the voltage across a 1 $\\Omega$ resistor is known to be $V_{R}(t)=3e^{-2t} u_0(t)$. Compute the energy dissipated in the resistor for $0\\lt t\\lt\\infty$, and verify the result using Parseval's theorem. Verify the result with MATLAB.\n",
    "\n",
    "Note from [tables of integrals](https://en.wikipedia.org/wiki/Lists_of_integrals) \n",
    "\n",
    "$$\\int\\frac{1}{a^2 + x^2}\\,dx = \\frac{1}{a}\\arctan\\frac{x}{a}+C.$$\n",
    "\n",
    "![Example 4](./pictures/example4-small.png)\n",
    "\n",
    "Worked solution: [ft3-ex4.pdf](https://cpjobling.github.io/eg-247-textbook/fourier_transform/solutions/ft3-ex4.pdf).\n",
    "\n",
    "MATLAB solution: [ft3_ex4.mlx](https://cpjobling.github.io/eg-247-textbook/fourier_transform/solutions/ft3_ex4.mlx).\n"
   ]
  },
  {
   "cell_type": "markdown",
   "id": "803ee560",
   "metadata": {
    "slideshow": {
     "slide_type": "notes"
    }
   },
   "source": [
    "#### Solution to example 4\n",
    "\n",
    "<pre style=\"border: 2px solid blue\">\n",
    "\n",
    "\n",
    "\n",
    "\n",
    "\n",
    "\n",
    "\n",
    "\n",
    "\n",
    "\n",
    "\n",
    "\n",
    "\n",
    "\n",
    "\n",
    "\n",
    "\n",
    "\n",
    "\n",
    "\n",
    "\n",
    "\n",
    "\n",
    "\n",
    "</pre>"
   ]
  },
  {
   "cell_type": "markdown",
   "id": "0adb2c5c",
   "metadata": {
    "slideshow": {
     "slide_type": "subslide"
    }
   },
   "source": [
    "#### MATLAB verification of example 4"
   ]
  },
  {
   "cell_type": "code",
   "execution_count": 19,
   "id": "0f09b080",
   "metadata": {
    "slideshow": {
     "slide_type": "subslide"
    }
   },
   "outputs": [],
   "source": [
    "syms t w"
   ]
  },
  {
   "cell_type": "markdown",
   "id": "e632c5a1",
   "metadata": {
    "slideshow": {
     "slide_type": "subslide"
    }
   },
   "source": [
    "Calcuate the energy from the time function"
   ]
  },
  {
   "cell_type": "code",
   "execution_count": 26,
   "id": "6c3f2026",
   "metadata": {
    "slideshow": {
     "slide_type": "subslide"
    }
   },
   "outputs": [
    {
     "name": "stdout",
     "output_type": "stream",
     "text": [
      "Pr =\n",
      "9*exp(-4*t)*heaviside(t)^2\n",
      "Wr =\n",
      "9/4\n",
      "ans =\n",
      "    2.2500\n"
     ]
    }
   ],
   "source": [
    "Vr = 3*exp(-2*t)*heaviside(t);\n",
    "R = 1;\n",
    "Pr = Vr^2/R\n",
    "Wr = int(Pr,t,0,inf)\n",
    "double(Wr)"
   ]
  },
  {
   "cell_type": "markdown",
   "id": "a47b73c1",
   "metadata": {
    "slideshow": {
     "slide_type": "subslide"
    }
   },
   "source": [
    "Calculate using Parseval's theorem"
   ]
  },
  {
   "cell_type": "code",
   "execution_count": 21,
   "id": "099509d6",
   "metadata": {
    "slideshow": {
     "slide_type": "subslide"
    }
   },
   "outputs": [
    {
     "name": "stdout",
     "output_type": "stream",
     "text": [
      "Fw =\n",
      "3/(2 + w*1i)\n"
     ]
    }
   ],
   "source": [
    "Fw = fourier(Vr,t,w)"
   ]
  },
  {
   "cell_type": "code",
   "execution_count": 22,
   "id": "05ef48c7",
   "metadata": {
    "slideshow": {
     "slide_type": "subslide"
    }
   },
   "outputs": [
    {
     "name": "stdout",
     "output_type": "stream",
     "text": [
      "Fw2 =\n",
      "9/abs(2 + w*1i)^2\n"
     ]
    }
   ],
   "source": [
    "Fw2 = simplify(abs(Fw)^2)"
   ]
  },
  {
   "cell_type": "code",
   "execution_count": 27,
   "id": "a9e02115",
   "metadata": {
    "slideshow": {
     "slide_type": "subslide"
    }
   },
   "outputs": [
    {
     "name": "stdout",
     "output_type": "stream",
     "text": [
      "Wr =\n",
      "(51607450253003931*pi)/72057594037927936\n",
      "ans =\n",
      "    2.2500\n"
     ]
    }
   ],
   "source": [
    "Wr=2/(2*pi)*int(Fw2,w,0,inf)\n",
    "double(Wr)"
   ]
  }
 ],
 "metadata": {
  "celltoolbar": "Slideshow",
  "kernelspec": {
   "display_name": "Matlab",
   "language": "matlab",
   "name": "matlab"
  },
  "language_info": {
   "codemirror_mode": "octave",
   "file_extension": ".m",
   "help_links": [
    {
     "text": "MetaKernel Magics",
     "url": "https://metakernel.readthedocs.io/en/latest/source/README.html"
    }
   ],
   "mimetype": "text/x-octave",
   "name": "matlab",
   "version": "0.17.1"
  }
 },
 "nbformat": 4,
 "nbformat_minor": 5
}
