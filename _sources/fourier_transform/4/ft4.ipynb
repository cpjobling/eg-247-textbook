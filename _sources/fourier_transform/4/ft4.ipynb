{
 "cells": [
  {
   "cell_type": "markdown",
   "id": "e692959d",
   "metadata": {
    "slideshow": {
     "slide_type": "slide"
    }
   },
   "source": [
    "# Introduction to Filters"
   ]
  },
  {
   "cell_type": "markdown",
   "id": "d90217ca",
   "metadata": {
    "slideshow": {
     "slide_type": "skip"
    }
   },
   "source": [
    "## Colophon\n",
    "\n",
    "An annotatable worksheet for this presentation is available as [**Worksheet 15**](https://cpjobling.github.io/eg-247-textbook/fourier_transform/4/worksheet15.html).\n",
    "\n",
    "* The source code for this page is [fourier_transform/4/ft4.ipynb](https://github.com/cpjobling/eg-247-textbook/blob/master/fourier_transform/4/ft4.ipynb).\n",
    "\n",
    "* You can view the notes for this presentation as a webpage ([HTML](https://cpjobling.github.io/eg-247-textbook/fourier_transform/4/ft4.html)). \n",
    "\n",
    "* This page is downloadable as a [PDF](https://cpjobling.github.io/eg-247-textbook/fourier_transform/4/ft4.pdf) file."
   ]
  },
  {
   "cell_type": "markdown",
   "id": "36070a30",
   "metadata": {
    "slideshow": {
     "slide_type": "subslide"
    }
   },
   "source": [
    "## Scope and Background Reading\n",
    "\n",
    "This section is Based on the section **Filtering** from Chapter 5 of [Benoit Boulet, Fundamentals of Signals and Systems](https://ebookcentral.proquest.com/lib/swansea-ebooks/reader.action?ppg=221&docID=3135971&tm=1518715953782){cite}`boulet` from the **Recommended Reading List**.\n",
    "\n",
    "This material is an introduction to analogue filters. You will find much more in-depth coverage on [Pages 11-1&mdash;11-48](https://ebookcentral.proquest.com/lib/swansea-ebooks/reader.action?ppg=429&docID=3384197&tm=1518716026573) of {cite}`karris`."
   ]
  },
  {
   "cell_type": "markdown",
   "id": "e76a700a",
   "metadata": {
    "slideshow": {
     "slide_type": "subslide"
    }
   },
   "source": [
    "## Agenda"
   ]
  },
  {
   "cell_type": "markdown",
   "id": "3a6ecc8c",
   "metadata": {
    "slideshow": {
     "slide_type": "fragment"
    }
   },
   "source": [
    "* Frequency Selective Filters"
   ]
  },
  {
   "cell_type": "markdown",
   "id": "0634e863",
   "metadata": {
    "slideshow": {
     "slide_type": "fragment"
    }
   },
   "source": [
    "* Ideal low-pass filter"
   ]
  },
  {
   "cell_type": "markdown",
   "id": "22996bdb",
   "metadata": {
    "slideshow": {
     "slide_type": "fragment"
    }
   },
   "source": [
    "* Butterworth low-pass filter"
   ]
  },
  {
   "cell_type": "markdown",
   "id": "d7816521",
   "metadata": {
    "slideshow": {
     "slide_type": "subslide"
    }
   },
   "source": [
    "* High-pass filter"
   ]
  },
  {
   "cell_type": "markdown",
   "id": "e83243dd",
   "metadata": {
    "slideshow": {
     "slide_type": "fragment"
    }
   },
   "source": [
    "* Bandpass filter"
   ]
  },
  {
   "cell_type": "markdown",
   "id": "263770c1",
   "metadata": {
    "slideshow": {
     "slide_type": "slide"
    }
   },
   "source": [
    "## Introduction\n",
    "\n",
    "* Filter design is an important application of the Fourier transform\n",
    "* Filtering is a rich topic often taught in graduate courses so we give only an introduction.\n",
    "* Our introduction *will* illustrate the usefulness of the frequency domain viewpoint.\n",
    "* We will explore how filters can shape the spectrum of a signal.\n",
    "\n",
    "Other applications of the Fourier transform are sampling theory (introduced next week) and modulation."
   ]
  },
  {
   "cell_type": "markdown",
   "id": "a23b07e0",
   "metadata": {
    "slideshow": {
     "slide_type": "slide"
    }
   },
   "source": [
    "## Frequency Selective Filters\n",
    "\n",
    "An ideal frequency-selective filter is a system that let's the frequency components of a signal through undistorted while frequency components at other frequency are completely cut off."
   ]
  },
  {
   "cell_type": "markdown",
   "id": "689ced85",
   "metadata": {
    "slideshow": {
     "slide_type": "subslide"
    }
   },
   "source": [
    "* The range of frequencies which are let through belong to the **pass Band**\n",
    "* The range of frequencies which are cut-off by the filter are called the **stopband**\n",
    "* A typical scenario where filtering is needed is when noise $n(t)$ is added to a signal $x(t)$ but that signal has most of its energy outside the bandwidth of a signal."
   ]
  },
  {
   "cell_type": "markdown",
   "id": "dadf88a5",
   "metadata": {
    "slideshow": {
     "slide_type": "subslide"
    }
   },
   "source": [
    "### Typical filtering problem\n",
    "\n",
    "![Typical filtering problem](./pictures/filter1.png)"
   ]
  },
  {
   "cell_type": "markdown",
   "id": "f156735b",
   "metadata": {
    "slideshow": {
     "slide_type": "subslide"
    }
   },
   "source": [
    "### Signal\n",
    "\n",
    "![Signal](./pictures/filter2.png)"
   ]
  },
  {
   "cell_type": "markdown",
   "id": "6f3c7983",
   "metadata": {
    "slideshow": {
     "slide_type": "subslide"
    }
   },
   "source": [
    "### Out-of Bandwidth Noise \n",
    "\n",
    "![Out of bandwidth noise](./pictures/filter3.png)"
   ]
  },
  {
   "cell_type": "markdown",
   "id": "969b2a60",
   "metadata": {
    "slideshow": {
     "slide_type": "subslide"
    }
   },
   "source": [
    "### Signal plus Noise\n",
    "\n",
    "![Signal plus noise](./pictures/filter4.png)"
   ]
  },
  {
   "cell_type": "markdown",
   "id": "41c0dcb0",
   "metadata": {
    "slideshow": {
     "slide_type": "subslide"
    }
   },
   "source": [
    "### Results of filtering\n",
    "\n",
    "![Results of filtering](./pictures/filter5.png)"
   ]
  },
  {
   "cell_type": "markdown",
   "id": "a470edc1",
   "metadata": {
    "slideshow": {
     "slide_type": "subslide"
    }
   },
   "source": [
    "### Motivating example\n",
    "\n",
    "See the video and script on [*Canvas Week 7*](https://canvas.swansea.ac.uk/courses/25319/pages/motivating-example-filter-design-using-matlab?module_item_id=1418941)."
   ]
  },
  {
   "cell_type": "markdown",
   "id": "6e70c7ef",
   "metadata": {
    "slideshow": {
     "slide_type": "slide"
    }
   },
   "source": [
    "## Ideal Low-Pass Filter (LPF)\n",
    "\n",
    "An ideal low pass filter cuts-off frequencies higher than its *cut-off frequency*, $\\omega_c$.\n",
    "\n",
    "$$H_{\\rm{lp}}(\\omega ) = \\left\\{ {\\begin{array}{*{20}{c}}\n",
    "{1,}&{|\\omega |{\\kern 1pt} \\, < {\\omega _c}}\\\\\n",
    "{0,}&{|\\omega |{\\kern 1pt} \\, \\ge {\\omega _c}}\n",
    "\\end{array}} \\right.$$"
   ]
  },
  {
   "cell_type": "markdown",
   "id": "018a0afe",
   "metadata": {
    "slideshow": {
     "slide_type": "subslide"
    }
   },
   "source": [
    "### Frequency response of an ideal LPF\n",
    "\n",
    "![Frequency response of an ideal LPF](./pictures/ideal_lpf.png)"
   ]
  },
  {
   "cell_type": "markdown",
   "id": "70e70ce2",
   "metadata": {
    "slideshow": {
     "slide_type": "subslide"
    }
   },
   "source": [
    "### Impulse response of an ideal LPF\n",
    "\n",
    "$$h_{\\rm{lp}}(t) = \\frac{\\omega _c}{\\pi }{\\mathop{\\rm sinc}\\nolimits} \\left( \\frac{\\omega _c}{\\pi }t \\right)$$"
   ]
  },
  {
   "cell_type": "markdown",
   "id": "48490416",
   "metadata": {
    "slideshow": {
     "slide_type": "fragment"
    }
   },
   "source": [
    "![Impulse response of an ideal LPF](./pictures/sinc.png)"
   ]
  },
  {
   "cell_type": "markdown",
   "id": "e05cfb16",
   "metadata": {
    "slideshow": {
     "slide_type": "subslide"
    }
   },
   "source": [
    "### Filtering is Convolution\n",
    "\n",
    "The output of an LTI system with impulse response \n",
    "\n",
    "$$h(t) \\Leftrightarrow H(\\omega)$$\n",
    "\n",
    "subject to an input signal\n",
    "\n",
    "$$x(t) \\Leftrightarrow X(\\omega)$$\n",
    "\n",
    "is given by \n",
    "\n",
    "$$y(t) = h(t)*x(t) \\Leftrightarrow Y(\\omega) = H(\\omega)X(\\omega)$$"
   ]
  },
  {
   "cell_type": "markdown",
   "id": "54658b44",
   "metadata": {
    "slideshow": {
     "slide_type": "subslide"
    }
   },
   "source": [
    "### Issues with the \"ideal\" filter\n",
    "\n",
    "This is the step response:\n",
    "\n",
    "![Step response of ideal LPF](./pictures/step_r.png)\n",
    "\n",
    "(reproduced from {cite}`boulet` Fig. 5.23 p. 205)\n",
    "\n",
    "Ripples in the impulse resonse would be undesireable, and because the impulse response is non-causal it cannot actually be implemented."
   ]
  },
  {
   "cell_type": "markdown",
   "id": "b9c3a4fa",
   "metadata": {
    "slideshow": {
     "slide_type": "slide"
    }
   },
   "source": [
    "## Butterworth low-pass filter\n",
    "\n",
    "N-th Order Butterworth Filter\n",
    "\n",
    "$$\\left| H_B(\\omega ) \\right| = \\frac{1}{\\left(1 + \\left(\\frac{\\omega }{\\omega _c}\\right)^{2N}\\right)^{\\frac{1}{2}}}$$"
   ]
  },
  {
   "cell_type": "markdown",
   "id": "ec254419",
   "metadata": {
    "slideshow": {
     "slide_type": "subslide"
    }
   },
   "source": [
    "**Remarks**\n",
    "\n",
    "* DC gain is \n",
    "\n",
    "  $$|H_B(j0)|=1$$\n",
    "\n",
    "* Attenuation at the cut-off frequency is \n",
    "\n",
    "  $$|H_B(j\\omega_c)|=1/\\sqrt{2}$$ \n",
    "  \n",
    "  for any $N$\n",
    "\n",
    "More about the Butterworth filter: [Wikipedia Article](https://en.wikipedia.org/wiki/Butterworth_filter)"
   ]
  },
  {
   "cell_type": "markdown",
   "id": "634785fb",
   "metadata": {
    "slideshow": {
     "slide_type": "slide"
    }
   },
   "source": [
    "### Example 5: Second-order BW Filter\n",
    "\n",
    "The second-order butterworth Filter is defined by is Characteristic Equation (CE):\n",
    "\n",
    "$$p(s) = s^2 + \\omega_c\\sqrt{2}s+\\omega_c^2 = 0^*$$\n",
    "\n",
    "Calculate the roots of $p(s)$ (the poles of the filter transfer function) in both Cartesian and polar form."
   ]
  },
  {
   "cell_type": "markdown",
   "id": "cae95397",
   "metadata": {
    "slideshow": {
     "slide_type": "notes"
    }
   },
   "source": [
    "**Note**: This has the same characteristic as a control system with damping ratio $\\zeta = 1/\\sqrt{2}$ and $\\omega_n = \\omega_c$!"
   ]
  },
  {
   "cell_type": "markdown",
   "id": "ddfff39d",
   "metadata": {
    "slideshow": {
     "slide_type": "notes"
    }
   },
   "source": [
    "#### Solution to example 5\n",
    "\n",
    "<pre style=\"border: 2px solid blue\">\n",
    "\n",
    "\n",
    "\n",
    "\n",
    "\n",
    "\n",
    "\n",
    "\n",
    "\n",
    "\n",
    "\n",
    "\n",
    "\n",
    "\n",
    "\n",
    "\n",
    "\n",
    "\n",
    "\n",
    "\n",
    "\n",
    "\n",
    "\n",
    "\n",
    "</pre>"
   ]
  },
  {
   "cell_type": "markdown",
   "id": "358de741",
   "metadata": {
    "slideshow": {
     "slide_type": "slide"
    }
   },
   "source": [
    "### Example 6\n",
    "\n",
    "Derive the differential equation relating the input $x(t)$ to output $y(t)$ of the 2nd-Order Butterworth Low-Pass Filter with cutoff frequency $\\omega_c$."
   ]
  },
  {
   "cell_type": "markdown",
   "id": "102d5333",
   "metadata": {
    "slideshow": {
     "slide_type": "notes"
    }
   },
   "source": [
    "#### Solution to example 6\n",
    "\n",
    "<pre style=\"border: 2px solid blue\">\n",
    "\n",
    "\n",
    "\n",
    "\n",
    "\n",
    "\n",
    "\n",
    "\n",
    "\n",
    "\n",
    "\n",
    "\n",
    "\n",
    "\n",
    "\n",
    "\n",
    "\n",
    "\n",
    "\n",
    "\n",
    "\n",
    "\n",
    "\n",
    "\n",
    "</pre>"
   ]
  },
  {
   "cell_type": "markdown",
   "id": "32f44382",
   "metadata": {
    "slideshow": {
     "slide_type": "slide"
    }
   },
   "source": [
    "### Example 7\n",
    "\n",
    "Determine the frequency response $H_B(\\omega)=Y(\\omega)/X(\\omega)$"
   ]
  },
  {
   "cell_type": "markdown",
   "id": "38ccebd9",
   "metadata": {
    "slideshow": {
     "slide_type": "notes"
    }
   },
   "source": [
    "#### Solution to example 7\n",
    "\n",
    "<pre style=\"border: 2px solid blue\">\n",
    "\n",
    "\n",
    "\n",
    "\n",
    "\n",
    "\n",
    "\n",
    "\n",
    "\n",
    "\n",
    "\n",
    "\n",
    "\n",
    "\n",
    "\n",
    "\n",
    "\n",
    "\n",
    "\n",
    "\n",
    "\n",
    "\n",
    "\n",
    "\n",
    "</pre>"
   ]
  },
  {
   "cell_type": "markdown",
   "id": "38013fe0",
   "metadata": {
    "slideshow": {
     "slide_type": "subslide"
    }
   },
   "source": [
    "### Magnitude of frequency response of a 2nd-order Butterworth Filter"
   ]
  },
  {
   "cell_type": "code",
   "execution_count": 1,
   "id": "85a8de83",
   "metadata": {},
   "outputs": [],
   "source": [
    "imatlab_export_fig('print-svg')  % Static svg figures."
   ]
  },
  {
   "cell_type": "code",
   "execution_count": 2,
   "id": "d574a8f4",
   "metadata": {
    "slideshow": {
     "slide_type": "subslide"
    }
   },
   "outputs": [],
   "source": [
    "wc = 100;"
   ]
  },
  {
   "cell_type": "markdown",
   "id": "e17ea492",
   "metadata": {
    "slideshow": {
     "slide_type": "subslide"
    }
   },
   "source": [
    "Transfer function"
   ]
  },
  {
   "cell_type": "code",
   "execution_count": 3,
   "id": "67982de1",
   "metadata": {
    "slideshow": {
     "slide_type": "subslide"
    }
   },
   "outputs": [
    {
     "name": "stdout",
     "output_type": "stream",
     "text": [
      "\n",
      "H =\n"
     ]
    },
    {
     "name": "stdout",
     "output_type": "stream",
     "text": [
      " \n"
     ]
    },
    {
     "name": "stdout",
     "output_type": "stream",
     "text": [
      "          10000\n"
     ]
    },
    {
     "name": "stdout",
     "output_type": "stream",
     "text": [
      "  ---------------------\n"
     ]
    },
    {
     "name": "stdout",
     "output_type": "stream",
     "text": [
      "  s^2 + 141.4 s + 10000\n"
     ]
    },
    {
     "name": "stdout",
     "output_type": "stream",
     "text": [
      " \n"
     ]
    },
    {
     "name": "stdout",
     "output_type": "stream",
     "text": [
      "Continuous-time transfer function.\n",
      "\n"
     ]
    }
   ],
   "source": [
    "H = tf(wc^2,[1, wc*sqrt(2), wc^2])"
   ]
  },
  {
   "cell_type": "markdown",
   "id": "b0e70af6",
   "metadata": {
    "slideshow": {
     "slide_type": "subslide"
    }
   },
   "source": [
    "Magnitude frequency response"
   ]
  },
  {
   "cell_type": "code",
   "execution_count": 4,
   "id": "39beb28f",
   "metadata": {
    "slideshow": {
     "slide_type": "subslide"
    }
   },
   "outputs": [
    {
     "data": {
      "image/svg+xml": [
       "<?xml version=\"1.0\"?>\n",
       "<!DOCTYPE svg PUBLIC '-//W3C//DTD SVG 1.0//EN'\n",
       "          'http://www.w3.org/TR/2001/REC-SVG-20010904/DTD/svg10.dtd'>\n",
       "<svg xmlns:xlink=\"http://www.w3.org/1999/xlink\" style=\"fill-opacity:1; color-rendering:auto; color-interpolation:auto; text-rendering:auto; stroke:black; stroke-linecap:square; stroke-miterlimit:10; shape-rendering:auto; stroke-opacity:1; fill:black; stroke-dasharray:none; font-weight:normal; stroke-width:1; font-family:'Dialog'; font-style:normal; stroke-linejoin:miter; font-size:12px; stroke-dashoffset:0; image-rendering:auto;\" width=\"560\" height=\"420\" xmlns=\"http://www.w3.org/2000/svg\"\n",
       "><!--Generated by the Batik Graphics2D SVG Generator--><defs id=\"genericDefs\"\n",
       "  /><g\n",
       "  ><defs id=\"defs1\"\n",
       "    ><clipPath clipPathUnits=\"userSpaceOnUse\" id=\"clipPath1\"\n",
       "      ><path d=\"M0 0 L560 0 L560 420 L0 420 L0 0 Z\"\n",
       "      /></clipPath\n",
       "    ></defs\n",
       "    ><g style=\"fill:white; stroke:white;\"\n",
       "    ><rect x=\"0\" y=\"0\" width=\"560\" style=\"clip-path:url(#clipPath1); stroke:none;\" height=\"420\"\n",
       "    /></g\n",
       "    ><g style=\"fill:white; text-rendering:optimizeSpeed; color-rendering:optimizeSpeed; image-rendering:optimizeSpeed; shape-rendering:crispEdges; stroke:white; color-interpolation:sRGB;\"\n",
       "    ><rect x=\"0\" width=\"560\" height=\"420\" y=\"0\" style=\"stroke:none;\"\n",
       "      /><path style=\"stroke:none;\" d=\"M73 374 L507 374 L507 31 L73 31 Z\"\n",
       "    /></g\n",
       "    ><g style=\"stroke-linecap:butt; fill-opacity:0.149; fill:rgb(38,38,38); text-rendering:geometricPrecision; image-rendering:optimizeQuality; color-rendering:optimizeQuality; stroke-linejoin:round; stroke:rgb(38,38,38); color-interpolation:linearRGB; stroke-width:0.5; stroke-opacity:0.149;\"\n",
       "    ><line y2=\"31\" style=\"fill:none;\" x1=\"73\" x2=\"73\" y1=\"374\"\n",
       "      /><line y2=\"31\" style=\"fill:none;\" x1=\"127.25\" x2=\"127.25\" y1=\"374\"\n",
       "      /><line y2=\"31\" style=\"fill:none;\" x1=\"181.5\" x2=\"181.5\" y1=\"374\"\n",
       "      /><line y2=\"31\" style=\"fill:none;\" x1=\"235.75\" x2=\"235.75\" y1=\"374\"\n",
       "      /><line y2=\"31\" style=\"fill:none;\" x1=\"290\" x2=\"290\" y1=\"374\"\n",
       "      /><line y2=\"31\" style=\"fill:none;\" x1=\"344.25\" x2=\"344.25\" y1=\"374\"\n",
       "      /><line y2=\"31\" style=\"fill:none;\" x1=\"398.5\" x2=\"398.5\" y1=\"374\"\n",
       "      /><line y2=\"31\" style=\"fill:none;\" x1=\"452.75\" x2=\"452.75\" y1=\"374\"\n",
       "      /><line y2=\"31\" style=\"fill:none;\" x1=\"507\" x2=\"507\" y1=\"374\"\n",
       "      /><line y2=\"374\" style=\"fill:none;\" x1=\"507\" x2=\"73\" y1=\"374\"\n",
       "      /><line y2=\"339.7\" style=\"fill:none;\" x1=\"507\" x2=\"73\" y1=\"339.7\"\n",
       "      /><line y2=\"305.4\" style=\"fill:none;\" x1=\"507\" x2=\"73\" y1=\"305.4\"\n",
       "      /><line y2=\"271.1\" style=\"fill:none;\" x1=\"507\" x2=\"73\" y1=\"271.1\"\n",
       "      /><line y2=\"236.8\" style=\"fill:none;\" x1=\"507\" x2=\"73\" y1=\"236.8\"\n",
       "      /><line y2=\"202.5\" style=\"fill:none;\" x1=\"507\" x2=\"73\" y1=\"202.5\"\n",
       "      /><line y2=\"168.2\" style=\"fill:none;\" x1=\"507\" x2=\"73\" y1=\"168.2\"\n",
       "      /><line y2=\"133.9\" style=\"fill:none;\" x1=\"507\" x2=\"73\" y1=\"133.9\"\n",
       "      /><line y2=\"99.6\" style=\"fill:none;\" x1=\"507\" x2=\"73\" y1=\"99.6\"\n",
       "      /><line y2=\"65.3\" style=\"fill:none;\" x1=\"507\" x2=\"73\" y1=\"65.3\"\n",
       "      /><line y2=\"31\" style=\"fill:none;\" x1=\"507\" x2=\"73\" y1=\"31\"\n",
       "      /><line x1=\"73\" x2=\"507\" y1=\"374\" style=\"stroke-linecap:square; fill-opacity:1; fill:none; stroke-opacity:1;\" y2=\"374\"\n",
       "      /><line x1=\"73\" x2=\"507\" y1=\"31\" style=\"stroke-linecap:square; fill-opacity:1; fill:none; stroke-opacity:1;\" y2=\"31\"\n",
       "      /><line x1=\"73\" x2=\"73\" y1=\"374\" style=\"stroke-linecap:square; fill-opacity:1; fill:none; stroke-opacity:1;\" y2=\"369.66\"\n",
       "      /><line x1=\"127.25\" x2=\"127.25\" y1=\"374\" style=\"stroke-linecap:square; fill-opacity:1; fill:none; stroke-opacity:1;\" y2=\"369.66\"\n",
       "      /><line x1=\"181.5\" x2=\"181.5\" y1=\"374\" style=\"stroke-linecap:square; fill-opacity:1; fill:none; stroke-opacity:1;\" y2=\"369.66\"\n",
       "      /><line x1=\"235.75\" x2=\"235.75\" y1=\"374\" style=\"stroke-linecap:square; fill-opacity:1; fill:none; stroke-opacity:1;\" y2=\"369.66\"\n",
       "      /><line x1=\"290\" x2=\"290\" y1=\"374\" style=\"stroke-linecap:square; fill-opacity:1; fill:none; stroke-opacity:1;\" y2=\"369.66\"\n",
       "      /><line x1=\"344.25\" x2=\"344.25\" y1=\"374\" style=\"stroke-linecap:square; fill-opacity:1; fill:none; stroke-opacity:1;\" y2=\"369.66\"\n",
       "      /><line x1=\"398.5\" x2=\"398.5\" y1=\"374\" style=\"stroke-linecap:square; fill-opacity:1; fill:none; stroke-opacity:1;\" y2=\"369.66\"\n",
       "      /><line x1=\"452.75\" x2=\"452.75\" y1=\"374\" style=\"stroke-linecap:square; fill-opacity:1; fill:none; stroke-opacity:1;\" y2=\"369.66\"\n",
       "      /><line x1=\"507\" x2=\"507\" y1=\"374\" style=\"stroke-linecap:square; fill-opacity:1; fill:none; stroke-opacity:1;\" y2=\"369.66\"\n",
       "      /><line x1=\"73\" x2=\"73\" y1=\"31\" style=\"stroke-linecap:square; fill-opacity:1; fill:none; stroke-opacity:1;\" y2=\"35.34\"\n",
       "      /><line x1=\"127.25\" x2=\"127.25\" y1=\"31\" style=\"stroke-linecap:square; fill-opacity:1; fill:none; stroke-opacity:1;\" y2=\"35.34\"\n",
       "      /><line x1=\"181.5\" x2=\"181.5\" y1=\"31\" style=\"stroke-linecap:square; fill-opacity:1; fill:none; stroke-opacity:1;\" y2=\"35.34\"\n",
       "      /><line x1=\"235.75\" x2=\"235.75\" y1=\"31\" style=\"stroke-linecap:square; fill-opacity:1; fill:none; stroke-opacity:1;\" y2=\"35.34\"\n",
       "      /><line x1=\"290\" x2=\"290\" y1=\"31\" style=\"stroke-linecap:square; fill-opacity:1; fill:none; stroke-opacity:1;\" y2=\"35.34\"\n",
       "      /><line x1=\"344.25\" x2=\"344.25\" y1=\"31\" style=\"stroke-linecap:square; fill-opacity:1; fill:none; stroke-opacity:1;\" y2=\"35.34\"\n",
       "      /><line x1=\"398.5\" x2=\"398.5\" y1=\"31\" style=\"stroke-linecap:square; fill-opacity:1; fill:none; stroke-opacity:1;\" y2=\"35.34\"\n",
       "      /><line x1=\"452.75\" x2=\"452.75\" y1=\"31\" style=\"stroke-linecap:square; fill-opacity:1; fill:none; stroke-opacity:1;\" y2=\"35.34\"\n",
       "      /><line x1=\"507\" x2=\"507\" y1=\"31\" style=\"stroke-linecap:square; fill-opacity:1; fill:none; stroke-opacity:1;\" y2=\"35.34\"\n",
       "    /></g\n",
       "    ><g transform=\"translate(73,378)\" style=\"font-size:10px; fill:rgb(38,38,38); text-rendering:geometricPrecision; image-rendering:optimizeQuality; color-rendering:optimizeQuality; font-family:'Helvetica Neue'; stroke:rgb(38,38,38); color-interpolation:linearRGB;\"\n",
       "    ><path style=\"stroke:none;\" d=\"M-10 6.82 L-10 7.62 L-7.11 7.62 L-7.11 6.82 ZM-3.22 7.59 L-5.6 7.59 L-3.24 4.12 L-3.22 4.12 ZM-2.42 7.59 L-2.42 2.91 L-3.1 2.91 L-6.33 7.52 L-6.33 8.34 L-3.22 8.34 L-3.22 10 L-2.42 10 L-2.42 8.34 L-1.46 8.34 L-1.46 7.59 ZM0.27 6.51 Q0.27 6.25 0.275 5.935 Q0.28 5.62 0.325 5.305 Q0.37 4.99 0.455 4.69 Q0.54 4.39 0.705 4.165 Q0.87 3.94 1.12 3.8 Q1.37 3.66 1.73 3.66 Q2.09 3.66 2.34 3.8 Q2.59 3.94 2.755 4.165 Q2.92 4.39 3.005 4.69 Q3.09 4.99 3.135 5.305 Q3.18 5.62 3.185 5.935 Q3.19 6.25 3.19 6.51 Q3.19 6.91 3.165 7.405 Q3.14 7.9 3.005 8.335 Q2.87 8.77 2.57 9.07 Q2.27 9.37 1.73 9.37 Q1.19 9.37 0.89 9.07 Q0.59 8.77 0.455 8.335 Q0.32 7.9 0.295 7.405 Q0.27 6.91 0.27 6.51 ZM-0.63 6.52 Q-0.63 6.91 -0.61 7.33 Q-0.59 7.75 -0.51 8.15 Q-0.43 8.55 -0.28 8.905 Q-0.13 9.26 0.13 9.53 Q0.39 9.8 0.785 9.955 Q1.18 10.11 1.73 10.11 Q2.29 10.11 2.68 9.955 Q3.07 9.8 3.33 9.53 Q3.59 9.26 3.74 8.905 Q3.89 8.55 3.97 8.15 Q4.05 7.75 4.07 7.33 Q4.09 6.91 4.09 6.52 Q4.09 6.13 4.07 5.71 Q4.05 5.29 3.97 4.89 Q3.89 4.49 3.74 4.13 Q3.59 3.77 3.33 3.5 Q3.07 3.23 2.675 3.07 Q2.28 2.91 1.73 2.91 Q1.18 2.91 0.785 3.07 Q0.39 3.23 0.13 3.5 Q-0.13 3.77 -0.28 4.13 Q-0.43 4.49 -0.51 4.89 Q-0.59 5.29 -0.61 5.71 Q-0.63 6.13 -0.63 6.52 ZM5.83 6.51 Q5.83 6.25 5.835 5.935 Q5.84 5.62 5.885 5.305 Q5.93 4.99 6.015 4.69 Q6.1 4.39 6.265 4.165 Q6.43 3.94 6.68 3.8 Q6.93 3.66 7.29 3.66 Q7.65 3.66 7.9 3.8 Q8.15 3.94 8.315 4.165 Q8.48 4.39 8.565 4.69 Q8.65 4.99 8.695 5.305 Q8.74 5.62 8.745 5.935 Q8.75 6.25 8.75 6.51 Q8.75 6.91 8.725 7.405 Q8.7 7.9 8.565 8.335 Q8.43 8.77 8.13 9.07 Q7.83 9.37 7.29 9.37 Q6.75 9.37 6.45 9.07 Q6.15 8.77 6.015 8.335 Q5.88 7.9 5.855 7.405 Q5.83 6.91 5.83 6.51 ZM4.93 6.52 Q4.93 6.91 4.95 7.33 Q4.97 7.75 5.05 8.15 Q5.13 8.55 5.28 8.905 Q5.43 9.26 5.69 9.53 Q5.95 9.8 6.345 9.955 Q6.74 10.11 7.29 10.11 Q7.85 10.11 8.24 9.955 Q8.63 9.8 8.89 9.53 Q9.15 9.26 9.3 8.905 Q9.45 8.55 9.53 8.15 Q9.61 7.75 9.63 7.33 Q9.65 6.91 9.65 6.52 Q9.65 6.13 9.63 5.71 Q9.61 5.29 9.53 4.89 Q9.45 4.49 9.3 4.13 Q9.15 3.77 8.89 3.5 Q8.63 3.23 8.235 3.07 Q7.84 2.91 7.29 2.91 Q6.74 2.91 6.345 3.07 Q5.95 3.23 5.69 3.5 Q5.43 3.77 5.28 4.13 Q5.13 4.49 5.05 4.89 Q4.97 5.29 4.95 5.71 Q4.93 6.13 4.93 6.52 Z\"\n",
       "    /></g\n",
       "    ><g transform=\"translate(127.25,378)\" style=\"font-size:10px; fill:rgb(38,38,38); text-rendering:geometricPrecision; image-rendering:optimizeQuality; color-rendering:optimizeQuality; font-family:'Helvetica Neue'; stroke:rgb(38,38,38); color-interpolation:linearRGB;\"\n",
       "    ><path style=\"stroke:none;\" d=\"M-10 6.82 L-10 7.62 L-7.11 7.62 L-7.11 6.82 ZM-4.43 5.95 L-4.43 6.67 Q-4.19 6.64 -3.92 6.64 Q-3.6 6.64 -3.325 6.725 Q-3.05 6.81 -2.85 6.985 Q-2.65 7.16 -2.53 7.415 Q-2.41 7.67 -2.41 8 Q-2.41 8.32 -2.535 8.575 Q-2.66 8.83 -2.87 9.005 Q-3.08 9.18 -3.36 9.275 Q-3.64 9.37 -3.95 9.37 Q-4.68 9.37 -5.06 8.935 Q-5.44 8.5 -5.46 7.81 L-6.31 7.81 Q-6.32 8.36 -6.155 8.79 Q-5.99 9.22 -5.68 9.515 Q-5.37 9.81 -4.93 9.96 Q-4.49 10.11 -3.95 10.11 Q-3.45 10.11 -3.005 9.975 Q-2.56 9.84 -2.23 9.57 Q-1.9 9.3 -1.705 8.895 Q-1.51 8.49 -1.51 7.96 Q-1.51 7.32 -1.825 6.85 Q-2.14 6.38 -2.79 6.24 L-2.79 6.22 Q-2.37 6.03 -2.09 5.66 Q-1.81 5.29 -1.81 4.81 Q-1.81 4.32 -1.975 3.96 Q-2.14 3.6 -2.43 3.37 Q-2.72 3.14 -3.115 3.025 Q-3.51 2.91 -3.97 2.91 Q-4.5 2.91 -4.905 3.08 Q-5.31 3.25 -5.58 3.55 Q-5.85 3.85 -5.995 4.27 Q-6.14 4.69 -6.16 5.2 L-5.31 5.2 Q-5.31 4.89 -5.23 4.61 Q-5.15 4.33 -4.985 4.12 Q-4.82 3.91 -4.565 3.785 Q-4.31 3.66 -3.97 3.66 Q-3.43 3.66 -3.07 3.945 Q-2.71 4.23 -2.71 4.8 Q-2.71 5.08 -2.82 5.3 Q-2.93 5.52 -3.115 5.665 Q-3.3 5.81 -3.545 5.885 Q-3.79 5.96 -4.06 5.96 L-4.24 5.96 Q-4.29 5.96 -4.34 5.96 Q-4.38 5.96 -4.43 5.95 ZM0.27 6.51 Q0.27 6.25 0.275 5.935 Q0.28 5.62 0.325 5.305 Q0.37 4.99 0.455 4.69 Q0.54 4.39 0.705 4.165 Q0.87 3.94 1.12 3.8 Q1.37 3.66 1.73 3.66 Q2.09 3.66 2.34 3.8 Q2.59 3.94 2.755 4.165 Q2.92 4.39 3.005 4.69 Q3.09 4.99 3.135 5.305 Q3.18 5.62 3.185 5.935 Q3.19 6.25 3.19 6.51 Q3.19 6.91 3.165 7.405 Q3.14 7.9 3.005 8.335 Q2.87 8.77 2.57 9.07 Q2.27 9.37 1.73 9.37 Q1.19 9.37 0.89 9.07 Q0.59 8.77 0.455 8.335 Q0.32 7.9 0.295 7.405 Q0.27 6.91 0.27 6.51 ZM-0.63 6.52 Q-0.63 6.91 -0.61 7.33 Q-0.59 7.75 -0.51 8.15 Q-0.43 8.55 -0.28 8.905 Q-0.13 9.26 0.13 9.53 Q0.39 9.8 0.785 9.955 Q1.18 10.11 1.73 10.11 Q2.29 10.11 2.68 9.955 Q3.07 9.8 3.33 9.53 Q3.59 9.26 3.74 8.905 Q3.89 8.55 3.97 8.15 Q4.05 7.75 4.07 7.33 Q4.09 6.91 4.09 6.52 Q4.09 6.13 4.07 5.71 Q4.05 5.29 3.97 4.89 Q3.89 4.49 3.74 4.13 Q3.59 3.77 3.33 3.5 Q3.07 3.23 2.675 3.07 Q2.28 2.91 1.73 2.91 Q1.18 2.91 0.785 3.07 Q0.39 3.23 0.13 3.5 Q-0.13 3.77 -0.28 4.13 Q-0.43 4.49 -0.51 4.89 Q-0.59 5.29 -0.61 5.71 Q-0.63 6.13 -0.63 6.52 ZM5.83 6.51 Q5.83 6.25 5.835 5.935 Q5.84 5.62 5.885 5.305 Q5.93 4.99 6.015 4.69 Q6.1 4.39 6.265 4.165 Q6.43 3.94 6.68 3.8 Q6.93 3.66 7.29 3.66 Q7.65 3.66 7.9 3.8 Q8.15 3.94 8.315 4.165 Q8.48 4.39 8.565 4.69 Q8.65 4.99 8.695 5.305 Q8.74 5.62 8.745 5.935 Q8.75 6.25 8.75 6.51 Q8.75 6.91 8.725 7.405 Q8.7 7.9 8.565 8.335 Q8.43 8.77 8.13 9.07 Q7.83 9.37 7.29 9.37 Q6.75 9.37 6.45 9.07 Q6.15 8.77 6.015 8.335 Q5.88 7.9 5.855 7.405 Q5.83 6.91 5.83 6.51 ZM4.93 6.52 Q4.93 6.91 4.95 7.33 Q4.97 7.75 5.05 8.15 Q5.13 8.55 5.28 8.905 Q5.43 9.26 5.69 9.53 Q5.95 9.8 6.345 9.955 Q6.74 10.11 7.29 10.11 Q7.85 10.11 8.24 9.955 Q8.63 9.8 8.89 9.53 Q9.15 9.26 9.3 8.905 Q9.45 8.55 9.53 8.15 Q9.61 7.75 9.63 7.33 Q9.65 6.91 9.65 6.52 Q9.65 6.13 9.63 5.71 Q9.61 5.29 9.53 4.89 Q9.45 4.49 9.3 4.13 Q9.15 3.77 8.89 3.5 Q8.63 3.23 8.235 3.07 Q7.84 2.91 7.29 2.91 Q6.74 2.91 6.345 3.07 Q5.95 3.23 5.69 3.5 Q5.43 3.77 5.28 4.13 Q5.13 4.49 5.05 4.89 Q4.97 5.29 4.95 5.71 Q4.93 6.13 4.93 6.52 Z\"\n",
       "    /></g\n",
       "    ><g transform=\"translate(181.5,378)\" style=\"font-size:10px; fill:rgb(38,38,38); text-rendering:geometricPrecision; image-rendering:optimizeQuality; color-rendering:optimizeQuality; font-family:'Helvetica Neue'; stroke:rgb(38,38,38); color-interpolation:linearRGB;\"\n",
       "    ><path style=\"stroke:none;\" d=\"M-10 6.82 L-10 7.62 L-7.11 7.62 L-7.11 6.82 ZM-6.17 5.42 L-5.32 5.42 Q-5.33 5.1 -5.255 4.785 Q-5.18 4.47 -5.01 4.22 Q-4.84 3.97 -4.575 3.815 Q-4.31 3.66 -3.94 3.66 Q-3.66 3.66 -3.41 3.75 Q-3.16 3.84 -2.975 4.01 Q-2.79 4.18 -2.68 4.415 Q-2.57 4.65 -2.57 4.94 Q-2.57 5.31 -2.685 5.59 Q-2.8 5.87 -3.025 6.11 Q-3.25 6.35 -3.59 6.585 Q-3.93 6.82 -4.38 7.1 Q-4.75 7.32 -5.09 7.57 Q-5.43 7.82 -5.7 8.15 Q-5.97 8.48 -6.145 8.925 Q-6.32 9.37 -6.37 10 L-1.74 10 L-1.74 9.25 L-5.38 9.25 Q-5.32 8.92 -5.125 8.665 Q-4.93 8.41 -4.655 8.19 Q-4.38 7.97 -4.05 7.775 Q-3.72 7.58 -3.39 7.38 Q-3.06 7.17 -2.75 6.94 Q-2.44 6.71 -2.2 6.425 Q-1.96 6.14 -1.815 5.78 Q-1.67 5.42 -1.67 4.95 Q-1.67 4.45 -1.845 4.07 Q-2.02 3.69 -2.32 3.435 Q-2.62 3.18 -3.025 3.045 Q-3.43 2.91 -3.89 2.91 Q-4.45 2.91 -4.89 3.1 Q-5.33 3.29 -5.625 3.625 Q-5.92 3.96 -6.06 4.42 Q-6.2 4.88 -6.17 5.42 ZM0.27 6.51 Q0.27 6.25 0.275 5.935 Q0.28 5.62 0.325 5.305 Q0.37 4.99 0.455 4.69 Q0.54 4.39 0.705 4.165 Q0.87 3.94 1.12 3.8 Q1.37 3.66 1.73 3.66 Q2.09 3.66 2.34 3.8 Q2.59 3.94 2.755 4.165 Q2.92 4.39 3.005 4.69 Q3.09 4.99 3.135 5.305 Q3.18 5.62 3.185 5.935 Q3.19 6.25 3.19 6.51 Q3.19 6.91 3.165 7.405 Q3.14 7.9 3.005 8.335 Q2.87 8.77 2.57 9.07 Q2.27 9.37 1.73 9.37 Q1.19 9.37 0.89 9.07 Q0.59 8.77 0.455 8.335 Q0.32 7.9 0.295 7.405 Q0.27 6.91 0.27 6.51 ZM-0.63 6.52 Q-0.63 6.91 -0.61 7.33 Q-0.59 7.75 -0.51 8.15 Q-0.43 8.55 -0.28 8.905 Q-0.13 9.26 0.13 9.53 Q0.39 9.8 0.785 9.955 Q1.18 10.11 1.73 10.11 Q2.29 10.11 2.68 9.955 Q3.07 9.8 3.33 9.53 Q3.59 9.26 3.74 8.905 Q3.89 8.55 3.97 8.15 Q4.05 7.75 4.07 7.33 Q4.09 6.91 4.09 6.52 Q4.09 6.13 4.07 5.71 Q4.05 5.29 3.97 4.89 Q3.89 4.49 3.74 4.13 Q3.59 3.77 3.33 3.5 Q3.07 3.23 2.675 3.07 Q2.28 2.91 1.73 2.91 Q1.18 2.91 0.785 3.07 Q0.39 3.23 0.13 3.5 Q-0.13 3.77 -0.28 4.13 Q-0.43 4.49 -0.51 4.89 Q-0.59 5.29 -0.61 5.71 Q-0.63 6.13 -0.63 6.52 ZM5.83 6.51 Q5.83 6.25 5.835 5.935 Q5.84 5.62 5.885 5.305 Q5.93 4.99 6.015 4.69 Q6.1 4.39 6.265 4.165 Q6.43 3.94 6.68 3.8 Q6.93 3.66 7.29 3.66 Q7.65 3.66 7.9 3.8 Q8.15 3.94 8.315 4.165 Q8.48 4.39 8.565 4.69 Q8.65 4.99 8.695 5.305 Q8.74 5.62 8.745 5.935 Q8.75 6.25 8.75 6.51 Q8.75 6.91 8.725 7.405 Q8.7 7.9 8.565 8.335 Q8.43 8.77 8.13 9.07 Q7.83 9.37 7.29 9.37 Q6.75 9.37 6.45 9.07 Q6.15 8.77 6.015 8.335 Q5.88 7.9 5.855 7.405 Q5.83 6.91 5.83 6.51 ZM4.93 6.52 Q4.93 6.91 4.95 7.33 Q4.97 7.75 5.05 8.15 Q5.13 8.55 5.28 8.905 Q5.43 9.26 5.69 9.53 Q5.95 9.8 6.345 9.955 Q6.74 10.11 7.29 10.11 Q7.85 10.11 8.24 9.955 Q8.63 9.8 8.89 9.53 Q9.15 9.26 9.3 8.905 Q9.45 8.55 9.53 8.15 Q9.61 7.75 9.63 7.33 Q9.65 6.91 9.65 6.52 Q9.65 6.13 9.63 5.71 Q9.61 5.29 9.53 4.89 Q9.45 4.49 9.3 4.13 Q9.15 3.77 8.89 3.5 Q8.63 3.23 8.235 3.07 Q7.84 2.91 7.29 2.91 Q6.74 2.91 6.345 3.07 Q5.95 3.23 5.69 3.5 Q5.43 3.77 5.28 4.13 Q5.13 4.49 5.05 4.89 Q4.97 5.29 4.95 5.71 Q4.93 6.13 4.93 6.52 Z\"\n",
       "    /></g\n",
       "    ><g transform=\"translate(235.75,378)\" style=\"font-size:10px; fill:rgb(38,38,38); text-rendering:geometricPrecision; image-rendering:optimizeQuality; color-rendering:optimizeQuality; font-family:'Helvetica Neue'; stroke:rgb(38,38,38); color-interpolation:linearRGB;\"\n",
       "    ><path style=\"stroke:none;\" d=\"M-10 6.82 L-10 7.62 L-7.11 7.62 L-7.11 6.82 ZM-3.05 10 L-3.05 2.91 L-3.7 2.91 Q-3.77 3.31 -3.96 3.57 Q-4.15 3.83 -4.425 3.98 Q-4.7 4.13 -5.04 4.185 Q-5.38 4.24 -5.74 4.24 L-5.74 4.92 L-3.9 4.92 L-3.9 10 ZM0.27 6.51 Q0.27 6.25 0.275 5.935 Q0.28 5.62 0.325 5.305 Q0.37 4.99 0.455 4.69 Q0.54 4.39 0.705 4.165 Q0.87 3.94 1.12 3.8 Q1.37 3.66 1.73 3.66 Q2.09 3.66 2.34 3.8 Q2.59 3.94 2.755 4.165 Q2.92 4.39 3.005 4.69 Q3.09 4.99 3.135 5.305 Q3.18 5.62 3.185 5.935 Q3.19 6.25 3.19 6.51 Q3.19 6.91 3.165 7.405 Q3.14 7.9 3.005 8.335 Q2.87 8.77 2.57 9.07 Q2.27 9.37 1.73 9.37 Q1.19 9.37 0.89 9.07 Q0.59 8.77 0.455 8.335 Q0.32 7.9 0.295 7.405 Q0.27 6.91 0.27 6.51 ZM-0.63 6.52 Q-0.63 6.91 -0.61 7.33 Q-0.59 7.75 -0.51 8.15 Q-0.43 8.55 -0.28 8.905 Q-0.13 9.26 0.13 9.53 Q0.39 9.8 0.785 9.955 Q1.18 10.11 1.73 10.11 Q2.29 10.11 2.68 9.955 Q3.07 9.8 3.33 9.53 Q3.59 9.26 3.74 8.905 Q3.89 8.55 3.97 8.15 Q4.05 7.75 4.07 7.33 Q4.09 6.91 4.09 6.52 Q4.09 6.13 4.07 5.71 Q4.05 5.29 3.97 4.89 Q3.89 4.49 3.74 4.13 Q3.59 3.77 3.33 3.5 Q3.07 3.23 2.675 3.07 Q2.28 2.91 1.73 2.91 Q1.18 2.91 0.785 3.07 Q0.39 3.23 0.13 3.5 Q-0.13 3.77 -0.28 4.13 Q-0.43 4.49 -0.51 4.89 Q-0.59 5.29 -0.61 5.71 Q-0.63 6.13 -0.63 6.52 ZM5.83 6.51 Q5.83 6.25 5.835 5.935 Q5.84 5.62 5.885 5.305 Q5.93 4.99 6.015 4.69 Q6.1 4.39 6.265 4.165 Q6.43 3.94 6.68 3.8 Q6.93 3.66 7.29 3.66 Q7.65 3.66 7.9 3.8 Q8.15 3.94 8.315 4.165 Q8.48 4.39 8.565 4.69 Q8.65 4.99 8.695 5.305 Q8.74 5.62 8.745 5.935 Q8.75 6.25 8.75 6.51 Q8.75 6.91 8.725 7.405 Q8.7 7.9 8.565 8.335 Q8.43 8.77 8.13 9.07 Q7.83 9.37 7.29 9.37 Q6.75 9.37 6.45 9.07 Q6.15 8.77 6.015 8.335 Q5.88 7.9 5.855 7.405 Q5.83 6.91 5.83 6.51 ZM4.93 6.52 Q4.93 6.91 4.95 7.33 Q4.97 7.75 5.05 8.15 Q5.13 8.55 5.28 8.905 Q5.43 9.26 5.69 9.53 Q5.95 9.8 6.345 9.955 Q6.74 10.11 7.29 10.11 Q7.85 10.11 8.24 9.955 Q8.63 9.8 8.89 9.53 Q9.15 9.26 9.3 8.905 Q9.45 8.55 9.53 8.15 Q9.61 7.75 9.63 7.33 Q9.65 6.91 9.65 6.52 Q9.65 6.13 9.63 5.71 Q9.61 5.29 9.53 4.89 Q9.45 4.49 9.3 4.13 Q9.15 3.77 8.89 3.5 Q8.63 3.23 8.235 3.07 Q7.84 2.91 7.29 2.91 Q6.74 2.91 6.345 3.07 Q5.95 3.23 5.69 3.5 Q5.43 3.77 5.28 4.13 Q5.13 4.49 5.05 4.89 Q4.97 5.29 4.95 5.71 Q4.93 6.13 4.93 6.52 Z\"\n",
       "    /></g\n",
       "    ><g transform=\"translate(290,378)\" style=\"font-size:10px; fill:rgb(38,38,38); text-rendering:geometricPrecision; image-rendering:optimizeQuality; color-rendering:optimizeQuality; font-family:'Helvetica Neue'; stroke:rgb(38,38,38); color-interpolation:linearRGB;\"\n",
       "    ><path style=\"stroke:none;\" d=\"M-1.68 6.51 Q-1.68 6.25 -1.675 5.935 Q-1.67 5.62 -1.625 5.305 Q-1.58 4.99 -1.495 4.69 Q-1.41 4.39 -1.245 4.165 Q-1.08 3.94 -0.83 3.8 Q-0.58 3.66 -0.22 3.66 Q0.14 3.66 0.39 3.8 Q0.64 3.94 0.805 4.165 Q0.97 4.39 1.055 4.69 Q1.14 4.99 1.185 5.305 Q1.23 5.62 1.235 5.935 Q1.24 6.25 1.24 6.51 Q1.24 6.91 1.215 7.405 Q1.19 7.9 1.055 8.335 Q0.92 8.77 0.62 9.07 Q0.32 9.37 -0.22 9.37 Q-0.76 9.37 -1.06 9.07 Q-1.36 8.77 -1.495 8.335 Q-1.63 7.9 -1.655 7.405 Q-1.68 6.91 -1.68 6.51 ZM-2.58 6.52 Q-2.58 6.91 -2.56 7.33 Q-2.54 7.75 -2.46 8.15 Q-2.38 8.55 -2.23 8.905 Q-2.08 9.26 -1.82 9.53 Q-1.56 9.8 -1.165 9.955 Q-0.77 10.11 -0.22 10.11 Q0.34 10.11 0.73 9.955 Q1.12 9.8 1.38 9.53 Q1.64 9.26 1.79 8.905 Q1.94 8.55 2.02 8.15 Q2.1 7.75 2.12 7.33 Q2.14 6.91 2.14 6.52 Q2.14 6.13 2.12 5.71 Q2.1 5.29 2.02 4.89 Q1.94 4.49 1.79 4.13 Q1.64 3.77 1.38 3.5 Q1.12 3.23 0.725 3.07 Q0.33 2.91 -0.22 2.91 Q-0.77 2.91 -1.165 3.07 Q-1.56 3.23 -1.82 3.5 Q-2.08 3.77 -2.23 4.13 Q-2.38 4.49 -2.46 4.89 Q-2.54 5.29 -2.56 5.71 Q-2.58 6.13 -2.58 6.52 Z\"\n",
       "    /></g\n",
       "    ><g transform=\"translate(344.25,378)\" style=\"font-size:10px; fill:rgb(38,38,38); text-rendering:geometricPrecision; image-rendering:optimizeQuality; color-rendering:optimizeQuality; font-family:'Helvetica Neue'; stroke:rgb(38,38,38); color-interpolation:linearRGB;\"\n",
       "    ><path style=\"stroke:none;\" d=\"M-4.94 10 L-4.94 2.91 L-5.59 2.91 Q-5.66 3.31 -5.85 3.57 Q-6.04 3.83 -6.315 3.98 Q-6.59 4.13 -6.93 4.185 Q-7.27 4.24 -7.63 4.24 L-7.63 4.92 L-5.79 4.92 L-5.79 10 ZM-1.62 6.51 Q-1.62 6.25 -1.615 5.935 Q-1.61 5.62 -1.565 5.305 Q-1.52 4.99 -1.435 4.69 Q-1.35 4.39 -1.185 4.165 Q-1.02 3.94 -0.77 3.8 Q-0.52 3.66 -0.16 3.66 Q0.2 3.66 0.45 3.8 Q0.7 3.94 0.865 4.165 Q1.03 4.39 1.115 4.69 Q1.2 4.99 1.245 5.305 Q1.29 5.62 1.295 5.935 Q1.3 6.25 1.3 6.51 Q1.3 6.91 1.275 7.405 Q1.25 7.9 1.115 8.335 Q0.98 8.77 0.68 9.07 Q0.38 9.37 -0.16 9.37 Q-0.7 9.37 -1 9.07 Q-1.3 8.77 -1.435 8.335 Q-1.57 7.9 -1.595 7.405 Q-1.62 6.91 -1.62 6.51 ZM-2.52 6.52 Q-2.52 6.91 -2.5 7.33 Q-2.48 7.75 -2.4 8.15 Q-2.32 8.55 -2.17 8.905 Q-2.02 9.26 -1.76 9.53 Q-1.5 9.8 -1.105 9.955 Q-0.71 10.11 -0.16 10.11 Q0.4 10.11 0.79 9.955 Q1.18 9.8 1.44 9.53 Q1.7 9.26 1.85 8.905 Q2 8.55 2.08 8.15 Q2.16 7.75 2.18 7.33 Q2.2 6.91 2.2 6.52 Q2.2 6.13 2.18 5.71 Q2.16 5.29 2.08 4.89 Q2 4.49 1.85 4.13 Q1.7 3.77 1.44 3.5 Q1.18 3.23 0.785 3.07 Q0.39 2.91 -0.16 2.91 Q-0.71 2.91 -1.105 3.07 Q-1.5 3.23 -1.76 3.5 Q-2.02 3.77 -2.17 4.13 Q-2.32 4.49 -2.4 4.89 Q-2.48 5.29 -2.5 5.71 Q-2.52 6.13 -2.52 6.52 ZM3.94 6.51 Q3.94 6.25 3.945 5.935 Q3.95 5.62 3.995 5.305 Q4.04 4.99 4.125 4.69 Q4.21 4.39 4.375 4.165 Q4.54 3.94 4.79 3.8 Q5.04 3.66 5.4 3.66 Q5.76 3.66 6.01 3.8 Q6.26 3.94 6.425 4.165 Q6.59 4.39 6.675 4.69 Q6.76 4.99 6.805 5.305 Q6.85 5.62 6.855 5.935 Q6.86 6.25 6.86 6.51 Q6.86 6.91 6.835 7.405 Q6.81 7.9 6.675 8.335 Q6.54 8.77 6.24 9.07 Q5.94 9.37 5.4 9.37 Q4.86 9.37 4.56 9.07 Q4.26 8.77 4.125 8.335 Q3.99 7.9 3.965 7.405 Q3.94 6.91 3.94 6.51 ZM3.04 6.52 Q3.04 6.91 3.06 7.33 Q3.08 7.75 3.16 8.15 Q3.24 8.55 3.39 8.905 Q3.54 9.26 3.8 9.53 Q4.06 9.8 4.455 9.955 Q4.85 10.11 5.4 10.11 Q5.96 10.11 6.35 9.955 Q6.74 9.8 7 9.53 Q7.26 9.26 7.41 8.905 Q7.56 8.55 7.64 8.15 Q7.72 7.75 7.74 7.33 Q7.76 6.91 7.76 6.52 Q7.76 6.13 7.74 5.71 Q7.72 5.29 7.64 4.89 Q7.56 4.49 7.41 4.13 Q7.26 3.77 7 3.5 Q6.74 3.23 6.345 3.07 Q5.95 2.91 5.4 2.91 Q4.85 2.91 4.455 3.07 Q4.06 3.23 3.8 3.5 Q3.54 3.77 3.39 4.13 Q3.24 4.49 3.16 4.89 Q3.08 5.29 3.06 5.71 Q3.04 6.13 3.04 6.52 Z\"\n",
       "    /></g\n",
       "    ><g transform=\"translate(398.5,378)\" style=\"font-size:10px; fill:rgb(38,38,38); text-rendering:geometricPrecision; image-rendering:optimizeQuality; color-rendering:optimizeQuality; font-family:'Helvetica Neue'; stroke:rgb(38,38,38); color-interpolation:linearRGB;\"\n",
       "    ><path style=\"stroke:none;\" d=\"M-8.06 5.42 L-7.21 5.42 Q-7.22 5.1 -7.145 4.785 Q-7.07 4.47 -6.9 4.22 Q-6.73 3.97 -6.465 3.815 Q-6.2 3.66 -5.83 3.66 Q-5.55 3.66 -5.3 3.75 Q-5.05 3.84 -4.865 4.01 Q-4.68 4.18 -4.57 4.415 Q-4.46 4.65 -4.46 4.94 Q-4.46 5.31 -4.575 5.59 Q-4.69 5.87 -4.915 6.11 Q-5.14 6.35 -5.48 6.585 Q-5.82 6.82 -6.27 7.1 Q-6.64 7.32 -6.98 7.57 Q-7.32 7.82 -7.59 8.15 Q-7.86 8.48 -8.035 8.925 Q-8.21 9.37 -8.26 10 L-3.63 10 L-3.63 9.25 L-7.27 9.25 Q-7.21 8.92 -7.015 8.665 Q-6.82 8.41 -6.545 8.19 Q-6.27 7.97 -5.94 7.775 Q-5.61 7.58 -5.28 7.38 Q-4.95 7.17 -4.64 6.94 Q-4.33 6.71 -4.09 6.425 Q-3.85 6.14 -3.705 5.78 Q-3.56 5.42 -3.56 4.95 Q-3.56 4.45 -3.735 4.07 Q-3.91 3.69 -4.21 3.435 Q-4.51 3.18 -4.915 3.045 Q-5.32 2.91 -5.78 2.91 Q-6.34 2.91 -6.78 3.1 Q-7.22 3.29 -7.515 3.625 Q-7.81 3.96 -7.95 4.42 Q-8.09 4.88 -8.06 5.42 ZM-1.62 6.51 Q-1.62 6.25 -1.615 5.935 Q-1.61 5.62 -1.565 5.305 Q-1.52 4.99 -1.435 4.69 Q-1.35 4.39 -1.185 4.165 Q-1.02 3.94 -0.77 3.8 Q-0.52 3.66 -0.16 3.66 Q0.2 3.66 0.45 3.8 Q0.7 3.94 0.865 4.165 Q1.03 4.39 1.115 4.69 Q1.2 4.99 1.245 5.305 Q1.29 5.62 1.295 5.935 Q1.3 6.25 1.3 6.51 Q1.3 6.91 1.275 7.405 Q1.25 7.9 1.115 8.335 Q0.98 8.77 0.68 9.07 Q0.38 9.37 -0.16 9.37 Q-0.7 9.37 -1 9.07 Q-1.3 8.77 -1.435 8.335 Q-1.57 7.9 -1.595 7.405 Q-1.62 6.91 -1.62 6.51 ZM-2.52 6.52 Q-2.52 6.91 -2.5 7.33 Q-2.48 7.75 -2.4 8.15 Q-2.32 8.55 -2.17 8.905 Q-2.02 9.26 -1.76 9.53 Q-1.5 9.8 -1.105 9.955 Q-0.71 10.11 -0.16 10.11 Q0.4 10.11 0.79 9.955 Q1.18 9.8 1.44 9.53 Q1.7 9.26 1.85 8.905 Q2 8.55 2.08 8.15 Q2.16 7.75 2.18 7.33 Q2.2 6.91 2.2 6.52 Q2.2 6.13 2.18 5.71 Q2.16 5.29 2.08 4.89 Q2 4.49 1.85 4.13 Q1.7 3.77 1.44 3.5 Q1.18 3.23 0.785 3.07 Q0.39 2.91 -0.16 2.91 Q-0.71 2.91 -1.105 3.07 Q-1.5 3.23 -1.76 3.5 Q-2.02 3.77 -2.17 4.13 Q-2.32 4.49 -2.4 4.89 Q-2.48 5.29 -2.5 5.71 Q-2.52 6.13 -2.52 6.52 ZM3.94 6.51 Q3.94 6.25 3.945 5.935 Q3.95 5.62 3.995 5.305 Q4.04 4.99 4.125 4.69 Q4.21 4.39 4.375 4.165 Q4.54 3.94 4.79 3.8 Q5.04 3.66 5.4 3.66 Q5.76 3.66 6.01 3.8 Q6.26 3.94 6.425 4.165 Q6.59 4.39 6.675 4.69 Q6.76 4.99 6.805 5.305 Q6.85 5.62 6.855 5.935 Q6.86 6.25 6.86 6.51 Q6.86 6.91 6.835 7.405 Q6.81 7.9 6.675 8.335 Q6.54 8.77 6.24 9.07 Q5.94 9.37 5.4 9.37 Q4.86 9.37 4.56 9.07 Q4.26 8.77 4.125 8.335 Q3.99 7.9 3.965 7.405 Q3.94 6.91 3.94 6.51 ZM3.04 6.52 Q3.04 6.91 3.06 7.33 Q3.08 7.75 3.16 8.15 Q3.24 8.55 3.39 8.905 Q3.54 9.26 3.8 9.53 Q4.06 9.8 4.455 9.955 Q4.85 10.11 5.4 10.11 Q5.96 10.11 6.35 9.955 Q6.74 9.8 7 9.53 Q7.26 9.26 7.41 8.905 Q7.56 8.55 7.64 8.15 Q7.72 7.75 7.74 7.33 Q7.76 6.91 7.76 6.52 Q7.76 6.13 7.74 5.71 Q7.72 5.29 7.64 4.89 Q7.56 4.49 7.41 4.13 Q7.26 3.77 7 3.5 Q6.74 3.23 6.345 3.07 Q5.95 2.91 5.4 2.91 Q4.85 2.91 4.455 3.07 Q4.06 3.23 3.8 3.5 Q3.54 3.77 3.39 4.13 Q3.24 4.49 3.16 4.89 Q3.08 5.29 3.06 5.71 Q3.04 6.13 3.04 6.52 Z\"\n",
       "    /></g\n",
       "    ><g transform=\"translate(452.75,378)\" style=\"font-size:10px; fill:rgb(38,38,38); text-rendering:geometricPrecision; image-rendering:optimizeQuality; color-rendering:optimizeQuality; font-family:'Helvetica Neue'; stroke:rgb(38,38,38); color-interpolation:linearRGB;\"\n",
       "    ><path style=\"stroke:none;\" d=\"M-6.32 5.95 L-6.32 6.67 Q-6.08 6.64 -5.81 6.64 Q-5.49 6.64 -5.215 6.725 Q-4.94 6.81 -4.74 6.985 Q-4.54 7.16 -4.42 7.415 Q-4.3 7.67 -4.3 8 Q-4.3 8.32 -4.425 8.575 Q-4.55 8.83 -4.76 9.005 Q-4.97 9.18 -5.25 9.275 Q-5.53 9.37 -5.84 9.37 Q-6.57 9.37 -6.95 8.935 Q-7.33 8.5 -7.35 7.81 L-8.2 7.81 Q-8.21 8.36 -8.045 8.79 Q-7.88 9.22 -7.57 9.515 Q-7.26 9.81 -6.82 9.96 Q-6.38 10.11 -5.84 10.11 Q-5.34 10.11 -4.895 9.975 Q-4.45 9.84 -4.12 9.57 Q-3.79 9.3 -3.595 8.895 Q-3.4 8.49 -3.4 7.96 Q-3.4 7.32 -3.715 6.85 Q-4.03 6.38 -4.68 6.24 L-4.68 6.22 Q-4.26 6.03 -3.98 5.66 Q-3.7 5.29 -3.7 4.81 Q-3.7 4.32 -3.865 3.96 Q-4.03 3.6 -4.32 3.37 Q-4.61 3.14 -5.005 3.025 Q-5.4 2.91 -5.86 2.91 Q-6.39 2.91 -6.795 3.08 Q-7.2 3.25 -7.47 3.55 Q-7.74 3.85 -7.885 4.27 Q-8.03 4.69 -8.05 5.2 L-7.2 5.2 Q-7.2 4.89 -7.12 4.61 Q-7.04 4.33 -6.875 4.12 Q-6.71 3.91 -6.455 3.785 Q-6.2 3.66 -5.86 3.66 Q-5.32 3.66 -4.96 3.945 Q-4.6 4.23 -4.6 4.8 Q-4.6 5.08 -4.71 5.3 Q-4.82 5.52 -5.005 5.665 Q-5.19 5.81 -5.435 5.885 Q-5.68 5.96 -5.95 5.96 L-6.13 5.96 Q-6.18 5.96 -6.23 5.96 Q-6.27 5.96 -6.32 5.95 ZM-1.62 6.51 Q-1.62 6.25 -1.615 5.935 Q-1.61 5.62 -1.565 5.305 Q-1.52 4.99 -1.435 4.69 Q-1.35 4.39 -1.185 4.165 Q-1.02 3.94 -0.77 3.8 Q-0.52 3.66 -0.16 3.66 Q0.2 3.66 0.45 3.8 Q0.7 3.94 0.865 4.165 Q1.03 4.39 1.115 4.69 Q1.2 4.99 1.245 5.305 Q1.29 5.62 1.295 5.935 Q1.3 6.25 1.3 6.51 Q1.3 6.91 1.275 7.405 Q1.25 7.9 1.115 8.335 Q0.98 8.77 0.68 9.07 Q0.38 9.37 -0.16 9.37 Q-0.7 9.37 -1 9.07 Q-1.3 8.77 -1.435 8.335 Q-1.57 7.9 -1.595 7.405 Q-1.62 6.91 -1.62 6.51 ZM-2.52 6.52 Q-2.52 6.91 -2.5 7.33 Q-2.48 7.75 -2.4 8.15 Q-2.32 8.55 -2.17 8.905 Q-2.02 9.26 -1.76 9.53 Q-1.5 9.8 -1.105 9.955 Q-0.71 10.11 -0.16 10.11 Q0.4 10.11 0.79 9.955 Q1.18 9.8 1.44 9.53 Q1.7 9.26 1.85 8.905 Q2 8.55 2.08 8.15 Q2.16 7.75 2.18 7.33 Q2.2 6.91 2.2 6.52 Q2.2 6.13 2.18 5.71 Q2.16 5.29 2.08 4.89 Q2 4.49 1.85 4.13 Q1.7 3.77 1.44 3.5 Q1.18 3.23 0.785 3.07 Q0.39 2.91 -0.16 2.91 Q-0.71 2.91 -1.105 3.07 Q-1.5 3.23 -1.76 3.5 Q-2.02 3.77 -2.17 4.13 Q-2.32 4.49 -2.4 4.89 Q-2.48 5.29 -2.5 5.71 Q-2.52 6.13 -2.52 6.52 ZM3.94 6.51 Q3.94 6.25 3.945 5.935 Q3.95 5.62 3.995 5.305 Q4.04 4.99 4.125 4.69 Q4.21 4.39 4.375 4.165 Q4.54 3.94 4.79 3.8 Q5.04 3.66 5.4 3.66 Q5.76 3.66 6.01 3.8 Q6.26 3.94 6.425 4.165 Q6.59 4.39 6.675 4.69 Q6.76 4.99 6.805 5.305 Q6.85 5.62 6.855 5.935 Q6.86 6.25 6.86 6.51 Q6.86 6.91 6.835 7.405 Q6.81 7.9 6.675 8.335 Q6.54 8.77 6.24 9.07 Q5.94 9.37 5.4 9.37 Q4.86 9.37 4.56 9.07 Q4.26 8.77 4.125 8.335 Q3.99 7.9 3.965 7.405 Q3.94 6.91 3.94 6.51 ZM3.04 6.52 Q3.04 6.91 3.06 7.33 Q3.08 7.75 3.16 8.15 Q3.24 8.55 3.39 8.905 Q3.54 9.26 3.8 9.53 Q4.06 9.8 4.455 9.955 Q4.85 10.11 5.4 10.11 Q5.96 10.11 6.35 9.955 Q6.74 9.8 7 9.53 Q7.26 9.26 7.41 8.905 Q7.56 8.55 7.64 8.15 Q7.72 7.75 7.74 7.33 Q7.76 6.91 7.76 6.52 Q7.76 6.13 7.74 5.71 Q7.72 5.29 7.64 4.89 Q7.56 4.49 7.41 4.13 Q7.26 3.77 7 3.5 Q6.74 3.23 6.345 3.07 Q5.95 2.91 5.4 2.91 Q4.85 2.91 4.455 3.07 Q4.06 3.23 3.8 3.5 Q3.54 3.77 3.39 4.13 Q3.24 4.49 3.16 4.89 Q3.08 5.29 3.06 5.71 Q3.04 6.13 3.04 6.52 Z\"\n",
       "    /></g\n",
       "    ><g transform=\"translate(507,378)\" style=\"font-size:10px; fill:rgb(38,38,38); text-rendering:geometricPrecision; image-rendering:optimizeQuality; color-rendering:optimizeQuality; font-family:'Helvetica Neue'; stroke:rgb(38,38,38); color-interpolation:linearRGB;\"\n",
       "    ><path style=\"stroke:none;\" d=\"M-5.11 7.59 L-7.49 7.59 L-5.13 4.12 L-5.11 4.12 ZM-4.31 7.59 L-4.31 2.91 L-4.99 2.91 L-8.22 7.52 L-8.22 8.34 L-5.11 8.34 L-5.11 10 L-4.31 10 L-4.31 8.34 L-3.35 8.34 L-3.35 7.59 ZM-1.62 6.51 Q-1.62 6.25 -1.615 5.935 Q-1.61 5.62 -1.565 5.305 Q-1.52 4.99 -1.435 4.69 Q-1.35 4.39 -1.185 4.165 Q-1.02 3.94 -0.77 3.8 Q-0.52 3.66 -0.16 3.66 Q0.2 3.66 0.45 3.8 Q0.7 3.94 0.865 4.165 Q1.03 4.39 1.115 4.69 Q1.2 4.99 1.245 5.305 Q1.29 5.62 1.295 5.935 Q1.3 6.25 1.3 6.51 Q1.3 6.91 1.275 7.405 Q1.25 7.9 1.115 8.335 Q0.98 8.77 0.68 9.07 Q0.38 9.37 -0.16 9.37 Q-0.7 9.37 -1 9.07 Q-1.3 8.77 -1.435 8.335 Q-1.57 7.9 -1.595 7.405 Q-1.62 6.91 -1.62 6.51 ZM-2.52 6.52 Q-2.52 6.91 -2.5 7.33 Q-2.48 7.75 -2.4 8.15 Q-2.32 8.55 -2.17 8.905 Q-2.02 9.26 -1.76 9.53 Q-1.5 9.8 -1.105 9.955 Q-0.71 10.11 -0.16 10.11 Q0.4 10.11 0.79 9.955 Q1.18 9.8 1.44 9.53 Q1.7 9.26 1.85 8.905 Q2 8.55 2.08 8.15 Q2.16 7.75 2.18 7.33 Q2.2 6.91 2.2 6.52 Q2.2 6.13 2.18 5.71 Q2.16 5.29 2.08 4.89 Q2 4.49 1.85 4.13 Q1.7 3.77 1.44 3.5 Q1.18 3.23 0.785 3.07 Q0.39 2.91 -0.16 2.91 Q-0.71 2.91 -1.105 3.07 Q-1.5 3.23 -1.76 3.5 Q-2.02 3.77 -2.17 4.13 Q-2.32 4.49 -2.4 4.89 Q-2.48 5.29 -2.5 5.71 Q-2.52 6.13 -2.52 6.52 ZM3.94 6.51 Q3.94 6.25 3.945 5.935 Q3.95 5.62 3.995 5.305 Q4.04 4.99 4.125 4.69 Q4.21 4.39 4.375 4.165 Q4.54 3.94 4.79 3.8 Q5.04 3.66 5.4 3.66 Q5.76 3.66 6.01 3.8 Q6.26 3.94 6.425 4.165 Q6.59 4.39 6.675 4.69 Q6.76 4.99 6.805 5.305 Q6.85 5.62 6.855 5.935 Q6.86 6.25 6.86 6.51 Q6.86 6.91 6.835 7.405 Q6.81 7.9 6.675 8.335 Q6.54 8.77 6.24 9.07 Q5.94 9.37 5.4 9.37 Q4.86 9.37 4.56 9.07 Q4.26 8.77 4.125 8.335 Q3.99 7.9 3.965 7.405 Q3.94 6.91 3.94 6.51 ZM3.04 6.52 Q3.04 6.91 3.06 7.33 Q3.08 7.75 3.16 8.15 Q3.24 8.55 3.39 8.905 Q3.54 9.26 3.8 9.53 Q4.06 9.8 4.455 9.955 Q4.85 10.11 5.4 10.11 Q5.96 10.11 6.35 9.955 Q6.74 9.8 7 9.53 Q7.26 9.26 7.41 8.905 Q7.56 8.55 7.64 8.15 Q7.72 7.75 7.74 7.33 Q7.76 6.91 7.76 6.52 Q7.76 6.13 7.74 5.71 Q7.72 5.29 7.64 4.89 Q7.56 4.49 7.41 4.13 Q7.26 3.77 7 3.5 Q6.74 3.23 6.345 3.07 Q5.95 2.91 5.4 2.91 Q4.85 2.91 4.455 3.07 Q4.06 3.23 3.8 3.5 Q3.54 3.77 3.39 4.13 Q3.24 4.49 3.16 4.89 Q3.08 5.29 3.06 5.71 Q3.04 6.13 3.04 6.52 Z\"\n",
       "    /></g\n",
       "    ><g transform=\"translate(222,403)\" style=\"font-size:11px; fill:rgb(38,38,38); text-rendering:geometricPrecision; image-rendering:optimizeQuality; color-rendering:optimizeQuality; font-family:'Helvetica Neue'; stroke:rgb(38,38,38); color-interpolation:linearRGB;\"\n",
       "    ><path style=\"stroke:none;\" d=\"M0.858 -7.854 L0.858 0 L1.903 0 L1.903 -3.355 L4.455 -3.355 Q4.84 -3.355 5.071 -3.2395 Q5.302 -3.124 5.445 -2.9315 Q5.588 -2.739 5.654 -2.4805 Q5.72 -2.222 5.764 -1.936 Q5.819 -1.65 5.83 -1.353 Q5.841 -1.056 5.852 -0.7975 Q5.863 -0.539 5.9015 -0.33 Q5.94 -0.121 6.05 0 L7.216 0 Q7.051 -0.198 6.9685 -0.4565 Q6.886 -0.715 6.842 -1.001 Q6.798 -1.287 6.787 -1.584 Q6.776 -1.881 6.754 -2.167 Q6.721 -2.453 6.6605 -2.717 Q6.6 -2.981 6.4735 -3.1955 Q6.347 -3.41 6.1325 -3.564 Q5.918 -3.718 5.577 -3.784 L5.577 -3.806 Q6.292 -4.004 6.6165 -4.543 Q6.941 -5.082 6.941 -5.797 Q6.941 -6.754 6.3085 -7.304 Q5.676 -7.854 4.554 -7.854 ZM4.081 -4.235 L1.903 -4.235 L1.903 -6.974 L4.499 -6.974 Q5.236 -6.974 5.566 -6.6 Q5.896 -6.226 5.896 -5.632 Q5.896 -5.203 5.7475 -4.9335 Q5.599 -4.664 5.3515 -4.5045 Q5.104 -4.345 4.774 -4.29 Q4.444 -4.235 4.081 -4.235 ZM13.277 -0.022 Q13.035 0.121 12.606 0.121 Q12.243 0.121 12.0285 -0.0825 Q11.814 -0.286 11.814 -0.748 Q11.429 -0.286 10.9175 -0.0825 Q10.406 0.121 9.812 0.121 Q9.427 0.121 9.0805 0.033 Q8.734 -0.055 8.481 -0.242 Q8.228 -0.429 8.0795 -0.7315 Q7.931 -1.034 7.931 -1.463 Q7.931 -1.947 8.096 -2.255 Q8.261 -2.563 8.5305 -2.7555 Q8.8 -2.948 9.1465 -3.047 Q9.493 -3.146 9.856 -3.212 Q10.241 -3.289 10.5875 -3.3275 Q10.934 -3.366 11.198 -3.4375 Q11.462 -3.509 11.616 -3.6465 Q11.77 -3.784 11.77 -4.048 Q11.77 -4.356 11.6545 -4.543 Q11.539 -4.73 11.3575 -4.829 Q11.176 -4.928 10.9505 -4.961 Q10.725 -4.994 10.505 -4.994 Q9.911 -4.994 9.515 -4.7685 Q9.119 -4.543 9.086 -3.916 L8.151 -3.916 Q8.173 -4.444 8.371 -4.807 Q8.569 -5.17 8.899 -5.3955 Q9.229 -5.621 9.6525 -5.72 Q10.076 -5.819 10.56 -5.819 Q10.945 -5.819 11.3245 -5.764 Q11.704 -5.709 12.012 -5.5385 Q12.32 -5.368 12.507 -5.06 Q12.694 -4.752 12.694 -4.257 L12.694 -1.331 Q12.694 -1.001 12.7325 -0.847 Q12.771 -0.693 12.991 -0.693 Q13.112 -0.693 13.277 -0.748 ZM11.759 -2.937 Q11.583 -2.805 11.297 -2.7445 Q11.011 -2.684 10.6975 -2.6455 Q10.384 -2.607 10.065 -2.5575 Q9.746 -2.508 9.493 -2.398 Q9.24 -2.288 9.0805 -2.0845 Q8.921 -1.881 8.921 -1.529 Q8.921 -1.298 9.0145 -1.1385 Q9.108 -0.979 9.2565 -0.88 Q9.405 -0.781 9.603 -0.737 Q9.801 -0.693 10.021 -0.693 Q10.483 -0.693 10.813 -0.8195 Q11.143 -0.946 11.352 -1.1385 Q11.561 -1.331 11.66 -1.5565 Q11.759 -1.782 11.759 -1.98 ZM14.828 -2.794 Q14.828 -3.212 14.916 -3.608 Q15.004 -4.004 15.202 -4.312 Q15.4 -4.62 15.73 -4.807 Q16.06 -4.994 16.533 -4.994 Q17.017 -4.994 17.358 -4.8125 Q17.699 -4.631 17.9135 -4.334 Q18.128 -4.037 18.227 -3.6465 Q18.326 -3.256 18.326 -2.838 Q18.326 -2.442 18.2325 -2.057 Q18.139 -1.672 17.93 -1.3695 Q17.721 -1.067 17.391 -0.88 Q17.061 -0.693 16.588 -0.693 Q16.137 -0.693 15.8015 -0.869 Q15.466 -1.045 15.2515 -1.342 Q15.037 -1.639 14.9325 -2.0185 Q14.828 -2.398 14.828 -2.794 ZM19.228 0 L19.228 -7.854 L18.293 -7.854 L18.293 -4.928 L18.271 -4.928 Q18.117 -5.181 17.8915 -5.3515 Q17.666 -5.522 17.413 -5.6265 Q17.16 -5.731 16.907 -5.775 Q16.654 -5.819 16.434 -5.819 Q15.785 -5.819 15.2955 -5.5825 Q14.806 -5.346 14.4815 -4.9445 Q14.157 -4.543 13.9975 -4.004 Q13.838 -3.465 13.838 -2.86 Q13.838 -2.255 14.003 -1.716 Q14.168 -1.177 14.4925 -0.77 Q14.817 -0.363 15.3065 -0.121 Q15.796 0.121 16.456 0.121 Q17.05 0.121 17.545 -0.088 Q18.04 -0.297 18.271 -0.77 L18.293 -0.77 L18.293 0 ZM21.659 -6.71 L21.659 -7.854 L20.724 -7.854 L20.724 -6.71 ZM20.724 -5.687 L20.724 0 L21.659 0 L21.659 -5.687 ZM28.149 -0.022 Q27.907 0.121 27.478 0.121 Q27.115 0.121 26.9005 -0.0825 Q26.686 -0.286 26.686 -0.748 Q26.301 -0.286 25.7895 -0.0825 Q25.278 0.121 24.684 0.121 Q24.299 0.121 23.9525 0.033 Q23.606 -0.055 23.353 -0.242 Q23.1 -0.429 22.9515 -0.7315 Q22.803 -1.034 22.803 -1.463 Q22.803 -1.947 22.968 -2.255 Q23.133 -2.563 23.4025 -2.7555 Q23.672 -2.948 24.0185 -3.047 Q24.365 -3.146 24.728 -3.212 Q25.113 -3.289 25.4595 -3.3275 Q25.806 -3.366 26.07 -3.4375 Q26.334 -3.509 26.488 -3.6465 Q26.642 -3.784 26.642 -4.048 Q26.642 -4.356 26.5265 -4.543 Q26.411 -4.73 26.2295 -4.829 Q26.048 -4.928 25.8225 -4.961 Q25.597 -4.994 25.377 -4.994 Q24.783 -4.994 24.387 -4.7685 Q23.991 -4.543 23.958 -3.916 L23.023 -3.916 Q23.045 -4.444 23.243 -4.807 Q23.441 -5.17 23.771 -5.3955 Q24.101 -5.621 24.5245 -5.72 Q24.948 -5.819 25.432 -5.819 Q25.817 -5.819 26.1965 -5.764 Q26.576 -5.709 26.884 -5.5385 Q27.192 -5.368 27.379 -5.06 Q27.566 -4.752 27.566 -4.257 L27.566 -1.331 Q27.566 -1.001 27.6045 -0.847 Q27.643 -0.693 27.863 -0.693 Q27.984 -0.693 28.149 -0.748 ZM26.631 -2.937 Q26.455 -2.805 26.169 -2.7445 Q25.883 -2.684 25.5695 -2.6455 Q25.256 -2.607 24.937 -2.5575 Q24.618 -2.508 24.365 -2.398 Q24.112 -2.288 23.9525 -2.0845 Q23.793 -1.881 23.793 -1.529 Q23.793 -1.298 23.8865 -1.1385 Q23.98 -0.979 24.1285 -0.88 Q24.277 -0.781 24.475 -0.737 Q24.673 -0.693 24.893 -0.693 Q25.355 -0.693 25.685 -0.8195 Q26.015 -0.946 26.224 -1.1385 Q26.433 -1.331 26.532 -1.5565 Q26.631 -1.782 26.631 -1.98 ZM29.018 -5.687 L29.018 0 L29.953 0 L29.953 -3.212 Q29.953 -3.597 30.0575 -3.9215 Q30.162 -4.246 30.371 -4.488 Q30.58 -4.73 30.8935 -4.862 Q31.207 -4.994 31.636 -4.994 Q32.175 -4.994 32.483 -4.686 Q32.791 -4.378 32.791 -3.85 L32.791 0 L33.726 0 L33.726 -3.74 Q33.726 -4.202 33.6325 -4.5815 Q33.539 -4.961 33.308 -5.236 Q33.077 -5.511 32.703 -5.665 Q32.329 -5.819 31.768 -5.819 Q30.503 -5.819 29.92 -4.785 L29.898 -4.785 L29.898 -5.687 ZM38.346 -7.854 L38.346 0 L39.391 0 L39.391 -3.597 L42.999 -3.597 L42.999 -4.477 L39.391 -4.477 L39.391 -6.974 L43.505 -6.974 L43.505 -7.854 ZM44.473 -5.687 L44.473 0 L45.408 0 L45.408 -2.53 Q45.408 -3.08 45.518 -3.5035 Q45.628 -3.927 45.87 -4.224 Q46.112 -4.521 46.508 -4.675 Q46.904 -4.829 47.465 -4.829 L47.465 -5.819 Q46.706 -5.841 46.211 -5.511 Q45.716 -5.181 45.375 -4.488 L45.353 -4.488 L45.353 -5.687 ZM52.118 -3.388 L48.851 -3.388 Q48.873 -3.718 48.994 -4.0095 Q49.115 -4.301 49.324 -4.521 Q49.533 -4.741 49.8245 -4.8675 Q50.116 -4.994 50.479 -4.994 Q50.831 -4.994 51.1225 -4.8675 Q51.414 -4.741 51.6285 -4.5265 Q51.843 -4.312 51.9695 -4.015 Q52.096 -3.718 52.118 -3.388 ZM53.02 -1.804 L52.096 -1.804 Q51.975 -1.243 51.5955 -0.968 Q51.216 -0.693 50.622 -0.693 Q50.16 -0.693 49.819 -0.847 Q49.478 -1.001 49.258 -1.2595 Q49.038 -1.518 48.939 -1.8535 Q48.84 -2.189 48.851 -2.563 L53.108 -2.563 Q53.13 -3.08 53.0145 -3.652 Q52.899 -4.224 52.5965 -4.708 Q52.294 -5.192 51.7935 -5.5055 Q51.293 -5.819 50.534 -5.819 Q49.951 -5.819 49.4615 -5.599 Q48.972 -5.379 48.6145 -4.983 Q48.257 -4.587 48.059 -4.048 Q47.861 -3.509 47.861 -2.86 Q47.883 -2.211 48.0535 -1.661 Q48.224 -1.111 48.565 -0.715 Q48.906 -0.319 49.4065 -0.099 Q49.907 0.121 50.589 0.121 Q51.557 0.121 52.195 -0.363 Q52.833 -0.847 53.02 -1.804 ZM54.758 -2.794 Q54.758 -3.212 54.846 -3.608 Q54.934 -4.004 55.132 -4.312 Q55.33 -4.62 55.66 -4.807 Q55.99 -4.994 56.463 -4.994 Q56.947 -4.994 57.288 -4.8125 Q57.629 -4.631 57.8435 -4.334 Q58.058 -4.037 58.157 -3.6465 Q58.256 -3.256 58.256 -2.838 Q58.256 -2.442 58.1625 -2.057 Q58.069 -1.672 57.86 -1.3695 Q57.651 -1.067 57.321 -0.88 Q56.991 -0.693 56.518 -0.693 Q56.067 -0.693 55.7315 -0.869 Q55.396 -1.045 55.1815 -1.342 Q54.967 -1.639 54.8625 -2.0185 Q54.758 -2.398 54.758 -2.794 ZM59.158 2.167 L59.158 -5.687 L58.223 -5.687 L58.223 -4.928 L58.201 -4.928 Q58.047 -5.181 57.8215 -5.3515 Q57.596 -5.522 57.343 -5.6265 Q57.09 -5.731 56.837 -5.775 Q56.584 -5.819 56.364 -5.819 Q55.715 -5.819 55.2255 -5.5825 Q54.736 -5.346 54.4115 -4.9445 Q54.087 -4.543 53.9275 -4.004 Q53.768 -3.465 53.768 -2.86 Q53.768 -2.255 53.933 -1.716 Q54.098 -1.177 54.4225 -0.77 Q54.747 -0.363 55.2365 -0.121 Q55.726 0.121 56.386 0.121 Q56.98 0.121 57.475 -0.088 Q57.97 -0.297 58.201 -0.77 L58.223 -0.77 L58.223 2.167 ZM65.307 0 L65.307 -5.687 L64.372 -5.687 L64.372 -2.475 Q64.372 -2.09 64.2675 -1.7655 Q64.163 -1.441 63.954 -1.199 Q63.745 -0.957 63.4315 -0.825 Q63.118 -0.693 62.689 -0.693 Q62.15 -0.693 61.842 -1.001 Q61.534 -1.309 61.534 -1.837 L61.534 -5.687 L60.599 -5.687 L60.599 -1.947 Q60.599 -1.485 60.6925 -1.1055 Q60.786 -0.726 61.017 -0.451 Q61.248 -0.176 61.622 -0.0275 Q61.996 0.121 62.557 0.121 Q63.184 0.121 63.646 -0.1265 Q64.108 -0.374 64.405 -0.902 L64.427 -0.902 L64.427 0 ZM70.664 -3.388 L67.397 -3.388 Q67.419 -3.718 67.54 -4.0095 Q67.661 -4.301 67.87 -4.521 Q68.079 -4.741 68.3705 -4.8675 Q68.662 -4.994 69.025 -4.994 Q69.377 -4.994 69.6685 -4.8675 Q69.96 -4.741 70.1745 -4.5265 Q70.389 -4.312 70.5155 -4.015 Q70.642 -3.718 70.664 -3.388 ZM71.566 -1.804 L70.642 -1.804 Q70.521 -1.243 70.1415 -0.968 Q69.762 -0.693 69.168 -0.693 Q68.706 -0.693 68.365 -0.847 Q68.024 -1.001 67.804 -1.2595 Q67.584 -1.518 67.485 -1.8535 Q67.386 -2.189 67.397 -2.563 L71.654 -2.563 Q71.676 -3.08 71.5605 -3.652 Q71.445 -4.224 71.1425 -4.708 Q70.84 -5.192 70.3395 -5.5055 Q69.839 -5.819 69.08 -5.819 Q68.497 -5.819 68.0075 -5.599 Q67.518 -5.379 67.1605 -4.983 Q66.803 -4.587 66.605 -4.048 Q66.407 -3.509 66.407 -2.86 Q66.429 -2.211 66.5995 -1.661 Q66.77 -1.111 67.111 -0.715 Q67.452 -0.319 67.9525 -0.099 Q68.453 0.121 69.135 0.121 Q70.103 0.121 70.741 -0.363 Q71.379 -0.847 71.566 -1.804 ZM72.622 -5.687 L72.622 0 L73.557 0 L73.557 -3.212 Q73.557 -3.597 73.6615 -3.9215 Q73.766 -4.246 73.975 -4.488 Q74.184 -4.73 74.4975 -4.862 Q74.811 -4.994 75.24 -4.994 Q75.779 -4.994 76.087 -4.686 Q76.395 -4.378 76.395 -3.85 L76.395 0 L77.33 0 L77.33 -3.74 Q77.33 -4.202 77.2365 -4.5815 Q77.143 -4.961 76.912 -5.236 Q76.681 -5.511 76.307 -5.665 Q75.933 -5.819 75.372 -5.819 Q74.107 -5.819 73.524 -4.785 L73.502 -4.785 L73.502 -5.687 ZM82.599 -3.861 L83.567 -3.861 Q83.512 -4.367 83.303 -4.7355 Q83.094 -5.104 82.7695 -5.346 Q82.445 -5.588 82.0215 -5.7035 Q81.598 -5.819 81.114 -5.819 Q80.443 -5.819 79.937 -5.5825 Q79.431 -5.346 79.0955 -4.9335 Q78.76 -4.521 78.595 -3.9655 Q78.43 -3.41 78.43 -2.772 Q78.43 -2.134 78.6005 -1.6005 Q78.771 -1.067 79.1065 -0.682 Q79.442 -0.297 79.9425 -0.088 Q80.443 0.121 81.092 0.121 Q82.181 0.121 82.8135 -0.451 Q83.446 -1.023 83.6 -2.079 L82.643 -2.079 Q82.555 -1.419 82.1645 -1.056 Q81.774 -0.693 81.081 -0.693 Q80.641 -0.693 80.322 -0.869 Q80.003 -1.045 79.805 -1.3365 Q79.607 -1.628 79.5135 -2.002 Q79.42 -2.376 79.42 -2.772 Q79.42 -3.201 79.508 -3.6025 Q79.596 -4.004 79.7995 -4.312 Q80.003 -4.62 80.344 -4.807 Q80.685 -4.994 81.191 -4.994 Q81.785 -4.994 82.137 -4.697 Q82.489 -4.4 82.599 -3.861 ZM86.878 0.759 Q86.713 1.177 86.5535 1.463 Q86.394 1.749 86.2015 1.9305 Q86.009 2.112 85.7725 2.1945 Q85.536 2.277 85.228 2.277 Q85.063 2.277 84.898 2.255 Q84.733 2.233 84.579 2.178 L84.579 1.32 Q84.7 1.375 84.8595 1.4135 Q85.019 1.452 85.129 1.452 Q85.415 1.452 85.6075 1.3145 Q85.8 1.177 85.899 0.924 L86.284 -0.033 L84.029 -5.687 L85.085 -5.687 L86.746 -1.034 L86.768 -1.034 L88.363 -5.687 L89.353 -5.687 Z\"\n",
       "    /></g\n",
       "    ><g transform=\"translate(315,403)\" style=\"font-size:11px; fill:rgb(38,38,38); text-rendering:geometricPrecision; image-rendering:optimizeQuality; color-rendering:optimizeQuality; font-family:'mwa_cmmi10'; stroke:rgb(38,38,38); color-interpolation:linearRGB;\"\n",
       "    ><path style=\"stroke:none;\" d=\"M1.3281 0.125 Q0.7031 0.125 0.4297 -0.3359 Q0.1562 -0.7969 0.1562 -1.4531 Q0.1562 -1.8906 0.2344 -2.3047 Q0.3125 -2.7188 0.4688 -3.1484 Q0.625 -3.5781 0.8281 -3.9453 Q1.0312 -4.3125 1.2969 -4.6719 Q1.3438 -4.75 1.4219 -4.75 Q1.4844 -4.75 1.5312 -4.7031 Q1.5781 -4.6562 1.5781 -4.5938 Q1.5781 -4.5312 1.5469 -4.4844 Q0.5312 -3.1094 0.5312 -1.9375 Q0.5312 -1.4375 0.7656 -1.0781 Q1 -0.7188 1.4844 -0.7188 Q1.8906 -0.7188 2.2422 -0.9609 Q2.5938 -1.2031 2.8594 -1.5781 Q2.8594 -1.7656 2.9219 -2.1719 Q2.9844 -2.5781 3.1328 -2.8984 Q3.2812 -3.2188 3.4688 -3.2188 Q3.7344 -3.2188 3.7344 -2.9219 Q3.7344 -2.75 3.6562 -2.4922 Q3.5781 -2.2344 3.4922 -2.0078 Q3.4062 -1.7812 3.2812 -1.5 Q3.4062 -0.7188 4.0625 -0.7188 Q4.4375 -0.7188 4.8203 -0.9375 Q5.2031 -1.1562 5.5 -1.5156 Q5.7969 -1.875 5.9688 -2.2891 Q6.1406 -2.7031 6.1406 -3.0625 Q6.1406 -3.4062 6.0391 -3.5859 Q5.9375 -3.7656 5.7656 -3.9688 Q5.5938 -4.1719 5.5938 -4.2969 Q5.5938 -4.5156 5.7734 -4.6953 Q5.9531 -4.875 6.1562 -4.875 Q6.4219 -4.875 6.5391 -4.6328 Q6.6562 -4.3906 6.6562 -4.0781 Q6.6562 -3.5625 6.4531 -2.7969 Q6.25 -2.0312 6 -1.5156 Q5.6406 -0.8281 5.1094 -0.3516 Q4.5781 0.125 3.9062 0.125 Q3.4844 0.125 3.2188 -0.1328 Q2.9531 -0.3906 2.8906 -0.8281 Q2.5781 -0.3906 2.1875 -0.1328 Q1.7969 0.125 1.3281 0.125 Z\"\n",
       "    /></g\n",
       "    ><g transform=\"translate(322,403)\" style=\"font-size:11px; fill:rgb(38,38,38); text-rendering:geometricPrecision; image-rendering:optimizeQuality; color-rendering:optimizeQuality; font-family:'Helvetica Neue'; stroke:rgb(38,38,38); color-interpolation:linearRGB;\"\n",
       "    ><path style=\"stroke:none;\" d=\"M5.907 -7.293 L5.907 -8.041 L3.85 -8.041 L3.85 2.167 L5.907 2.167 L5.907 1.419 L4.73 1.419 L4.73 -7.293 ZM6.578 -5.687 L6.578 0 L7.513 0 L7.513 -2.53 Q7.513 -3.08 7.623 -3.5035 Q7.733 -3.927 7.975 -4.224 Q8.217 -4.521 8.613 -4.675 Q9.009 -4.829 9.57 -4.829 L9.57 -5.819 Q8.811 -5.841 8.316 -5.511 Q7.821 -5.181 7.48 -4.488 L7.458 -4.488 L7.458 -5.687 ZM15.312 -0.022 Q15.07 0.121 14.641 0.121 Q14.278 0.121 14.0635 -0.0825 Q13.849 -0.286 13.849 -0.748 Q13.464 -0.286 12.9525 -0.0825 Q12.441 0.121 11.847 0.121 Q11.462 0.121 11.1155 0.033 Q10.769 -0.055 10.516 -0.242 Q10.263 -0.429 10.1145 -0.7315 Q9.966 -1.034 9.966 -1.463 Q9.966 -1.947 10.131 -2.255 Q10.296 -2.563 10.5655 -2.7555 Q10.835 -2.948 11.1815 -3.047 Q11.528 -3.146 11.891 -3.212 Q12.276 -3.289 12.6225 -3.3275 Q12.969 -3.366 13.233 -3.4375 Q13.497 -3.509 13.651 -3.6465 Q13.805 -3.784 13.805 -4.048 Q13.805 -4.356 13.6895 -4.543 Q13.574 -4.73 13.3925 -4.829 Q13.211 -4.928 12.9855 -4.961 Q12.76 -4.994 12.54 -4.994 Q11.946 -4.994 11.55 -4.7685 Q11.154 -4.543 11.121 -3.916 L10.186 -3.916 Q10.208 -4.444 10.406 -4.807 Q10.604 -5.17 10.934 -5.3955 Q11.264 -5.621 11.6875 -5.72 Q12.111 -5.819 12.595 -5.819 Q12.98 -5.819 13.3595 -5.764 Q13.739 -5.709 14.047 -5.5385 Q14.355 -5.368 14.542 -5.06 Q14.729 -4.752 14.729 -4.257 L14.729 -1.331 Q14.729 -1.001 14.7675 -0.847 Q14.806 -0.693 15.026 -0.693 Q15.147 -0.693 15.312 -0.748 ZM13.794 -2.937 Q13.618 -2.805 13.332 -2.7445 Q13.046 -2.684 12.7325 -2.6455 Q12.419 -2.607 12.1 -2.5575 Q11.781 -2.508 11.528 -2.398 Q11.275 -2.288 11.1155 -2.0845 Q10.956 -1.881 10.956 -1.529 Q10.956 -1.298 11.0495 -1.1385 Q11.143 -0.979 11.2915 -0.88 Q11.44 -0.781 11.638 -0.737 Q11.836 -0.693 12.056 -0.693 Q12.518 -0.693 12.848 -0.8195 Q13.178 -0.946 13.387 -1.1385 Q13.596 -1.331 13.695 -1.5565 Q13.794 -1.782 13.794 -1.98 ZM16.863 -2.794 Q16.863 -3.212 16.951 -3.608 Q17.039 -4.004 17.237 -4.312 Q17.435 -4.62 17.765 -4.807 Q18.095 -4.994 18.568 -4.994 Q19.052 -4.994 19.393 -4.8125 Q19.734 -4.631 19.9485 -4.334 Q20.163 -4.037 20.262 -3.6465 Q20.361 -3.256 20.361 -2.838 Q20.361 -2.442 20.2675 -2.057 Q20.174 -1.672 19.965 -1.3695 Q19.756 -1.067 19.426 -0.88 Q19.096 -0.693 18.623 -0.693 Q18.172 -0.693 17.8365 -0.869 Q17.501 -1.045 17.2865 -1.342 Q17.072 -1.639 16.9675 -2.0185 Q16.863 -2.398 16.863 -2.794 ZM21.263 0 L21.263 -7.854 L20.328 -7.854 L20.328 -4.928 L20.306 -4.928 Q20.152 -5.181 19.9265 -5.3515 Q19.701 -5.522 19.448 -5.6265 Q19.195 -5.731 18.942 -5.775 Q18.689 -5.819 18.469 -5.819 Q17.82 -5.819 17.3305 -5.5825 Q16.841 -5.346 16.5165 -4.9445 Q16.192 -4.543 16.0325 -4.004 Q15.873 -3.465 15.873 -2.86 Q15.873 -2.255 16.038 -1.716 Q16.203 -1.177 16.5275 -0.77 Q16.852 -0.363 17.3415 -0.121 Q17.831 0.121 18.491 0.121 Q19.085 0.121 19.58 -0.088 Q20.075 -0.297 20.306 -0.77 L20.328 -0.77 L20.328 0 ZM25.058 -8.041 L21.813 0.176 L22.605 0.176 L25.861 -8.041 ZM26.939 -1.793 L26.004 -1.793 Q26.026 -1.265 26.224 -0.8965 Q26.422 -0.528 26.752 -0.3025 Q27.082 -0.077 27.511 0.022 Q27.94 0.121 28.413 0.121 Q28.842 0.121 29.2765 0.0385 Q29.711 -0.044 30.0575 -0.253 Q30.404 -0.462 30.6185 -0.803 Q30.833 -1.144 30.833 -1.661 Q30.833 -2.068 30.6735 -2.343 Q30.514 -2.618 30.2555 -2.7995 Q29.997 -2.981 29.6615 -3.091 Q29.326 -3.201 28.974 -3.278 Q28.644 -3.355 28.314 -3.4265 Q27.984 -3.498 27.72 -3.6025 Q27.456 -3.707 27.2855 -3.8665 Q27.115 -4.026 27.115 -4.268 Q27.115 -4.488 27.225 -4.6255 Q27.335 -4.763 27.511 -4.8455 Q27.687 -4.928 27.9015 -4.961 Q28.116 -4.994 28.325 -4.994 Q28.556 -4.994 28.7815 -4.9445 Q29.007 -4.895 29.194 -4.785 Q29.381 -4.675 29.502 -4.4935 Q29.623 -4.312 29.645 -4.037 L30.58 -4.037 Q30.547 -4.554 30.36 -4.9005 Q30.173 -5.247 29.8595 -5.4505 Q29.546 -5.654 29.139 -5.7365 Q28.732 -5.819 28.248 -5.819 Q27.874 -5.819 27.4945 -5.7255 Q27.115 -5.632 26.8125 -5.4395 Q26.51 -5.247 26.3175 -4.939 Q26.125 -4.631 26.125 -4.202 Q26.125 -3.652 26.4 -3.344 Q26.675 -3.036 27.0875 -2.8655 Q27.5 -2.695 27.984 -2.6015 Q28.468 -2.508 28.8805 -2.3925 Q29.293 -2.277 29.568 -2.09 Q29.843 -1.903 29.843 -1.54 Q29.843 -1.276 29.711 -1.1055 Q29.579 -0.935 29.3755 -0.847 Q29.172 -0.759 28.93 -0.726 Q28.688 -0.693 28.468 -0.693 Q28.182 -0.693 27.9125 -0.748 Q27.643 -0.803 27.4285 -0.9295 Q27.214 -1.056 27.082 -1.2705 Q26.95 -1.485 26.939 -1.793 ZM31.163 1.419 L31.163 2.167 L33.22 2.167 L33.22 -8.041 L31.163 -8.041 L31.163 -7.293 L32.34 -7.293 L32.34 1.419 Z\"\n",
       "    /></g\n",
       "    ><g style=\"fill:rgb(38,38,38); text-rendering:geometricPrecision; image-rendering:optimizeQuality; color-rendering:optimizeQuality; stroke-linejoin:round; stroke:rgb(38,38,38); color-interpolation:linearRGB; stroke-width:0.5;\"\n",
       "    ><line y2=\"31\" style=\"fill:none;\" x1=\"73\" x2=\"73\" y1=\"374\"\n",
       "      /><line y2=\"31\" style=\"fill:none;\" x1=\"507\" x2=\"507\" y1=\"374\"\n",
       "      /><line y2=\"374\" style=\"fill:none;\" x1=\"73\" x2=\"77.34\" y1=\"374\"\n",
       "      /><line y2=\"339.7\" style=\"fill:none;\" x1=\"73\" x2=\"77.34\" y1=\"339.7\"\n",
       "      /><line y2=\"305.4\" style=\"fill:none;\" x1=\"73\" x2=\"77.34\" y1=\"305.4\"\n",
       "      /><line y2=\"271.1\" style=\"fill:none;\" x1=\"73\" x2=\"77.34\" y1=\"271.1\"\n",
       "      /><line y2=\"236.8\" style=\"fill:none;\" x1=\"73\" x2=\"77.34\" y1=\"236.8\"\n",
       "      /><line y2=\"202.5\" style=\"fill:none;\" x1=\"73\" x2=\"77.34\" y1=\"202.5\"\n",
       "      /><line y2=\"168.2\" style=\"fill:none;\" x1=\"73\" x2=\"77.34\" y1=\"168.2\"\n",
       "      /><line y2=\"133.9\" style=\"fill:none;\" x1=\"73\" x2=\"77.34\" y1=\"133.9\"\n",
       "      /><line y2=\"99.6\" style=\"fill:none;\" x1=\"73\" x2=\"77.34\" y1=\"99.6\"\n",
       "      /><line y2=\"65.3\" style=\"fill:none;\" x1=\"73\" x2=\"77.34\" y1=\"65.3\"\n",
       "      /><line y2=\"31\" style=\"fill:none;\" x1=\"73\" x2=\"77.34\" y1=\"31\"\n",
       "      /><line y2=\"374\" style=\"fill:none;\" x1=\"507\" x2=\"502.66\" y1=\"374\"\n",
       "      /><line y2=\"339.7\" style=\"fill:none;\" x1=\"507\" x2=\"502.66\" y1=\"339.7\"\n",
       "      /><line y2=\"305.4\" style=\"fill:none;\" x1=\"507\" x2=\"502.66\" y1=\"305.4\"\n",
       "      /><line y2=\"271.1\" style=\"fill:none;\" x1=\"507\" x2=\"502.66\" y1=\"271.1\"\n",
       "      /><line y2=\"236.8\" style=\"fill:none;\" x1=\"507\" x2=\"502.66\" y1=\"236.8\"\n",
       "      /><line y2=\"202.5\" style=\"fill:none;\" x1=\"507\" x2=\"502.66\" y1=\"202.5\"\n",
       "      /><line y2=\"168.2\" style=\"fill:none;\" x1=\"507\" x2=\"502.66\" y1=\"168.2\"\n",
       "      /><line y2=\"133.9\" style=\"fill:none;\" x1=\"507\" x2=\"502.66\" y1=\"133.9\"\n",
       "      /><line y2=\"99.6\" style=\"fill:none;\" x1=\"507\" x2=\"502.66\" y1=\"99.6\"\n",
       "      /><line y2=\"65.3\" style=\"fill:none;\" x1=\"507\" x2=\"502.66\" y1=\"65.3\"\n",
       "      /><line y2=\"31\" style=\"fill:none;\" x1=\"507\" x2=\"502.66\" y1=\"31\"\n",
       "    /></g\n",
       "    ><g transform=\"translate(69,374)\" style=\"font-size:10px; fill:rgb(38,38,38); text-rendering:geometricPrecision; image-rendering:optimizeQuality; color-rendering:optimizeQuality; font-family:'Helvetica Neue'; stroke:rgb(38,38,38); color-interpolation:linearRGB;\"\n",
       "    ><path style=\"stroke:none;\" d=\"M-4.68 0.01 Q-4.68 -0.25 -4.675 -0.565 Q-4.67 -0.88 -4.625 -1.195 Q-4.58 -1.51 -4.495 -1.81 Q-4.41 -2.11 -4.245 -2.335 Q-4.08 -2.56 -3.83 -2.7 Q-3.58 -2.84 -3.22 -2.84 Q-2.86 -2.84 -2.61 -2.7 Q-2.36 -2.56 -2.195 -2.335 Q-2.03 -2.11 -1.945 -1.81 Q-1.86 -1.51 -1.815 -1.195 Q-1.77 -0.88 -1.765 -0.565 Q-1.76 -0.25 -1.76 0.01 Q-1.76 0.41 -1.785 0.905 Q-1.81 1.4 -1.945 1.835 Q-2.08 2.27 -2.38 2.57 Q-2.68 2.87 -3.22 2.87 Q-3.76 2.87 -4.06 2.57 Q-4.36 2.27 -4.495 1.835 Q-4.63 1.4 -4.655 0.905 Q-4.68 0.41 -4.68 0.01 ZM-5.58 0.02 Q-5.58 0.41 -5.56 0.83 Q-5.54 1.25 -5.46 1.65 Q-5.38 2.05 -5.23 2.405 Q-5.08 2.76 -4.82 3.03 Q-4.56 3.3 -4.165 3.455 Q-3.77 3.61 -3.22 3.61 Q-2.66 3.61 -2.27 3.455 Q-1.88 3.3 -1.62 3.03 Q-1.36 2.76 -1.21 2.405 Q-1.06 2.05 -0.98 1.65 Q-0.9 1.25 -0.88 0.83 Q-0.86 0.41 -0.86 0.02 Q-0.86 -0.37 -0.88 -0.79 Q-0.9 -1.21 -0.98 -1.61 Q-1.06 -2.01 -1.21 -2.37 Q-1.36 -2.73 -1.62 -3 Q-1.88 -3.27 -2.275 -3.43 Q-2.67 -3.59 -3.22 -3.59 Q-3.77 -3.59 -4.165 -3.43 Q-4.56 -3.27 -4.82 -3 Q-5.08 -2.73 -5.23 -2.37 Q-5.38 -2.01 -5.46 -1.61 Q-5.54 -1.21 -5.56 -0.79 Q-5.58 -0.37 -5.58 0.02 Z\"\n",
       "    /></g\n",
       "    ><g transform=\"translate(69,339.7)\" style=\"font-size:10px; fill:rgb(38,38,38); text-rendering:geometricPrecision; image-rendering:optimizeQuality; color-rendering:optimizeQuality; font-family:'Helvetica Neue'; stroke:rgb(38,38,38); color-interpolation:linearRGB;\"\n",
       "    ><path style=\"stroke:none;\" d=\"M-12.68 0.01 Q-12.68 -0.25 -12.675 -0.565 Q-12.67 -0.88 -12.625 -1.195 Q-12.58 -1.51 -12.495 -1.81 Q-12.41 -2.11 -12.245 -2.335 Q-12.08 -2.56 -11.83 -2.7 Q-11.58 -2.84 -11.22 -2.84 Q-10.86 -2.84 -10.61 -2.7 Q-10.36 -2.56 -10.195 -2.335 Q-10.03 -2.11 -9.945 -1.81 Q-9.86 -1.51 -9.815 -1.195 Q-9.77 -0.88 -9.765 -0.565 Q-9.76 -0.25 -9.76 0.01 Q-9.76 0.41 -9.785 0.905 Q-9.81 1.4 -9.945 1.835 Q-10.08 2.27 -10.38 2.57 Q-10.68 2.87 -11.22 2.87 Q-11.76 2.87 -12.06 2.57 Q-12.36 2.27 -12.495 1.835 Q-12.63 1.4 -12.655 0.905 Q-12.68 0.41 -12.68 0.01 ZM-13.58 0.02 Q-13.58 0.41 -13.56 0.83 Q-13.54 1.25 -13.46 1.65 Q-13.38 2.05 -13.23 2.405 Q-13.08 2.76 -12.82 3.03 Q-12.56 3.3 -12.165 3.455 Q-11.77 3.61 -11.22 3.61 Q-10.66 3.61 -10.27 3.455 Q-9.88 3.3 -9.62 3.03 Q-9.36 2.76 -9.21 2.405 Q-9.06 2.05 -8.98 1.65 Q-8.9 1.25 -8.88 0.83 Q-8.86 0.41 -8.86 0.02 Q-8.86 -0.37 -8.88 -0.79 Q-8.9 -1.21 -8.98 -1.61 Q-9.06 -2.01 -9.21 -2.37 Q-9.36 -2.73 -9.62 -3 Q-9.88 -3.27 -10.275 -3.43 Q-10.67 -3.59 -11.22 -3.59 Q-11.77 -3.59 -12.165 -3.43 Q-12.56 -3.27 -12.82 -3 Q-13.08 -2.73 -13.23 -2.37 Q-13.38 -2.01 -13.46 -1.61 Q-13.54 -1.21 -13.56 -0.79 Q-13.58 -0.37 -13.58 0.02 ZM-7.61 2.39 L-7.61 3.5 L-6.5 3.5 L-6.5 2.39 ZM-2.1 3.5 L-2.1 -3.59 L-2.75 -3.59 Q-2.82 -3.19 -3.01 -2.93 Q-3.2 -2.67 -3.475 -2.52 Q-3.75 -2.37 -4.09 -2.315 Q-4.43 -2.26 -4.79 -2.26 L-4.79 -1.58 L-2.95 -1.58 L-2.95 3.5 Z\"\n",
       "    /></g\n",
       "    ><g transform=\"translate(69,305.4)\" style=\"font-size:10px; fill:rgb(38,38,38); text-rendering:geometricPrecision; image-rendering:optimizeQuality; color-rendering:optimizeQuality; font-family:'Helvetica Neue'; stroke:rgb(38,38,38); color-interpolation:linearRGB;\"\n",
       "    ><path style=\"stroke:none;\" d=\"M-12.68 0.01 Q-12.68 -0.25 -12.675 -0.565 Q-12.67 -0.88 -12.625 -1.195 Q-12.58 -1.51 -12.495 -1.81 Q-12.41 -2.11 -12.245 -2.335 Q-12.08 -2.56 -11.83 -2.7 Q-11.58 -2.84 -11.22 -2.84 Q-10.86 -2.84 -10.61 -2.7 Q-10.36 -2.56 -10.195 -2.335 Q-10.03 -2.11 -9.945 -1.81 Q-9.86 -1.51 -9.815 -1.195 Q-9.77 -0.88 -9.765 -0.565 Q-9.76 -0.25 -9.76 0.01 Q-9.76 0.41 -9.785 0.905 Q-9.81 1.4 -9.945 1.835 Q-10.08 2.27 -10.38 2.57 Q-10.68 2.87 -11.22 2.87 Q-11.76 2.87 -12.06 2.57 Q-12.36 2.27 -12.495 1.835 Q-12.63 1.4 -12.655 0.905 Q-12.68 0.41 -12.68 0.01 ZM-13.58 0.02 Q-13.58 0.41 -13.56 0.83 Q-13.54 1.25 -13.46 1.65 Q-13.38 2.05 -13.23 2.405 Q-13.08 2.76 -12.82 3.03 Q-12.56 3.3 -12.165 3.455 Q-11.77 3.61 -11.22 3.61 Q-10.66 3.61 -10.27 3.455 Q-9.88 3.3 -9.62 3.03 Q-9.36 2.76 -9.21 2.405 Q-9.06 2.05 -8.98 1.65 Q-8.9 1.25 -8.88 0.83 Q-8.86 0.41 -8.86 0.02 Q-8.86 -0.37 -8.88 -0.79 Q-8.9 -1.21 -8.98 -1.61 Q-9.06 -2.01 -9.21 -2.37 Q-9.36 -2.73 -9.62 -3 Q-9.88 -3.27 -10.275 -3.43 Q-10.67 -3.59 -11.22 -3.59 Q-11.77 -3.59 -12.165 -3.43 Q-12.56 -3.27 -12.82 -3 Q-13.08 -2.73 -13.23 -2.37 Q-13.38 -2.01 -13.46 -1.61 Q-13.54 -1.21 -13.56 -0.79 Q-13.58 -0.37 -13.58 0.02 ZM-7.61 2.39 L-7.61 3.5 L-6.5 3.5 L-6.5 2.39 ZM-5.22 -1.08 L-4.37 -1.08 Q-4.38 -1.4 -4.305 -1.715 Q-4.23 -2.03 -4.06 -2.28 Q-3.89 -2.53 -3.625 -2.685 Q-3.36 -2.84 -2.99 -2.84 Q-2.71 -2.84 -2.46 -2.75 Q-2.21 -2.66 -2.025 -2.49 Q-1.84 -2.32 -1.73 -2.085 Q-1.62 -1.85 -1.62 -1.56 Q-1.62 -1.19 -1.735 -0.91 Q-1.85 -0.63 -2.075 -0.39 Q-2.3 -0.15 -2.64 0.085 Q-2.98 0.32 -3.43 0.6 Q-3.8 0.82 -4.14 1.07 Q-4.48 1.32 -4.75 1.65 Q-5.02 1.98 -5.195 2.425 Q-5.37 2.87 -5.42 3.5 L-0.79 3.5 L-0.79 2.75 L-4.43 2.75 Q-4.37 2.42 -4.175 2.165 Q-3.98 1.91 -3.705 1.69 Q-3.43 1.47 -3.1 1.275 Q-2.77 1.08 -2.44 0.88 Q-2.11 0.67 -1.8 0.44 Q-1.49 0.21 -1.25 -0.075 Q-1.01 -0.36 -0.865 -0.72 Q-0.72 -1.08 -0.72 -1.55 Q-0.72 -2.05 -0.895 -2.43 Q-1.07 -2.81 -1.37 -3.065 Q-1.67 -3.32 -2.075 -3.455 Q-2.48 -3.59 -2.94 -3.59 Q-3.5 -3.59 -3.94 -3.4 Q-4.38 -3.21 -4.675 -2.875 Q-4.97 -2.54 -5.11 -2.08 Q-5.25 -1.62 -5.22 -1.08 Z\"\n",
       "    /></g\n",
       "    ><g transform=\"translate(69,271.1)\" style=\"font-size:10px; fill:rgb(38,38,38); text-rendering:geometricPrecision; image-rendering:optimizeQuality; color-rendering:optimizeQuality; font-family:'Helvetica Neue'; stroke:rgb(38,38,38); color-interpolation:linearRGB;\"\n",
       "    ><path style=\"stroke:none;\" d=\"M-12.68 0.01 Q-12.68 -0.25 -12.675 -0.565 Q-12.67 -0.88 -12.625 -1.195 Q-12.58 -1.51 -12.495 -1.81 Q-12.41 -2.11 -12.245 -2.335 Q-12.08 -2.56 -11.83 -2.7 Q-11.58 -2.84 -11.22 -2.84 Q-10.86 -2.84 -10.61 -2.7 Q-10.36 -2.56 -10.195 -2.335 Q-10.03 -2.11 -9.945 -1.81 Q-9.86 -1.51 -9.815 -1.195 Q-9.77 -0.88 -9.765 -0.565 Q-9.76 -0.25 -9.76 0.01 Q-9.76 0.41 -9.785 0.905 Q-9.81 1.4 -9.945 1.835 Q-10.08 2.27 -10.38 2.57 Q-10.68 2.87 -11.22 2.87 Q-11.76 2.87 -12.06 2.57 Q-12.36 2.27 -12.495 1.835 Q-12.63 1.4 -12.655 0.905 Q-12.68 0.41 -12.68 0.01 ZM-13.58 0.02 Q-13.58 0.41 -13.56 0.83 Q-13.54 1.25 -13.46 1.65 Q-13.38 2.05 -13.23 2.405 Q-13.08 2.76 -12.82 3.03 Q-12.56 3.3 -12.165 3.455 Q-11.77 3.61 -11.22 3.61 Q-10.66 3.61 -10.27 3.455 Q-9.88 3.3 -9.62 3.03 Q-9.36 2.76 -9.21 2.405 Q-9.06 2.05 -8.98 1.65 Q-8.9 1.25 -8.88 0.83 Q-8.86 0.41 -8.86 0.02 Q-8.86 -0.37 -8.88 -0.79 Q-8.9 -1.21 -8.98 -1.61 Q-9.06 -2.01 -9.21 -2.37 Q-9.36 -2.73 -9.62 -3 Q-9.88 -3.27 -10.275 -3.43 Q-10.67 -3.59 -11.22 -3.59 Q-11.77 -3.59 -12.165 -3.43 Q-12.56 -3.27 -12.82 -3 Q-13.08 -2.73 -13.23 -2.37 Q-13.38 -2.01 -13.46 -1.61 Q-13.54 -1.21 -13.56 -0.79 Q-13.58 -0.37 -13.58 0.02 ZM-7.61 2.39 L-7.61 3.5 L-6.5 3.5 L-6.5 2.39 ZM-3.48 -0.55 L-3.48 0.17 Q-3.24 0.14 -2.97 0.14 Q-2.65 0.14 -2.375 0.225 Q-2.1 0.31 -1.9 0.485 Q-1.7 0.66 -1.58 0.915 Q-1.46 1.17 -1.46 1.5 Q-1.46 1.82 -1.585 2.075 Q-1.71 2.33 -1.92 2.505 Q-2.13 2.68 -2.41 2.775 Q-2.69 2.87 -3 2.87 Q-3.73 2.87 -4.11 2.435 Q-4.49 2 -4.51 1.31 L-5.36 1.31 Q-5.37 1.86 -5.205 2.29 Q-5.04 2.72 -4.73 3.015 Q-4.42 3.31 -3.98 3.46 Q-3.54 3.61 -3 3.61 Q-2.5 3.61 -2.055 3.475 Q-1.61 3.34 -1.28 3.07 Q-0.95 2.8 -0.755 2.395 Q-0.56 1.99 -0.56 1.46 Q-0.56 0.82 -0.875 0.35 Q-1.19 -0.12 -1.84 -0.26 L-1.84 -0.28 Q-1.42 -0.47 -1.14 -0.84 Q-0.86 -1.21 -0.86 -1.69 Q-0.86 -2.18 -1.025 -2.54 Q-1.19 -2.9 -1.48 -3.13 Q-1.77 -3.36 -2.165 -3.475 Q-2.56 -3.59 -3.02 -3.59 Q-3.55 -3.59 -3.955 -3.42 Q-4.36 -3.25 -4.63 -2.95 Q-4.9 -2.65 -5.045 -2.23 Q-5.19 -1.81 -5.21 -1.3 L-4.36 -1.3 Q-4.36 -1.61 -4.28 -1.89 Q-4.2 -2.17 -4.035 -2.38 Q-3.87 -2.59 -3.615 -2.715 Q-3.36 -2.84 -3.02 -2.84 Q-2.48 -2.84 -2.12 -2.555 Q-1.76 -2.27 -1.76 -1.7 Q-1.76 -1.42 -1.87 -1.2 Q-1.98 -0.98 -2.165 -0.835 Q-2.35 -0.69 -2.595 -0.615 Q-2.84 -0.54 -3.11 -0.54 L-3.29 -0.54 Q-3.34 -0.54 -3.39 -0.54 Q-3.43 -0.54 -3.48 -0.55 Z\"\n",
       "    /></g\n",
       "    ><g transform=\"translate(69,236.8)\" style=\"font-size:10px; fill:rgb(38,38,38); text-rendering:geometricPrecision; image-rendering:optimizeQuality; color-rendering:optimizeQuality; font-family:'Helvetica Neue'; stroke:rgb(38,38,38); color-interpolation:linearRGB;\"\n",
       "    ><path style=\"stroke:none;\" d=\"M-12.68 0.01 Q-12.68 -0.25 -12.675 -0.565 Q-12.67 -0.88 -12.625 -1.195 Q-12.58 -1.51 -12.495 -1.81 Q-12.41 -2.11 -12.245 -2.335 Q-12.08 -2.56 -11.83 -2.7 Q-11.58 -2.84 -11.22 -2.84 Q-10.86 -2.84 -10.61 -2.7 Q-10.36 -2.56 -10.195 -2.335 Q-10.03 -2.11 -9.945 -1.81 Q-9.86 -1.51 -9.815 -1.195 Q-9.77 -0.88 -9.765 -0.565 Q-9.76 -0.25 -9.76 0.01 Q-9.76 0.41 -9.785 0.905 Q-9.81 1.4 -9.945 1.835 Q-10.08 2.27 -10.38 2.57 Q-10.68 2.87 -11.22 2.87 Q-11.76 2.87 -12.06 2.57 Q-12.36 2.27 -12.495 1.835 Q-12.63 1.4 -12.655 0.905 Q-12.68 0.41 -12.68 0.01 ZM-13.58 0.02 Q-13.58 0.41 -13.56 0.83 Q-13.54 1.25 -13.46 1.65 Q-13.38 2.05 -13.23 2.405 Q-13.08 2.76 -12.82 3.03 Q-12.56 3.3 -12.165 3.455 Q-11.77 3.61 -11.22 3.61 Q-10.66 3.61 -10.27 3.455 Q-9.88 3.3 -9.62 3.03 Q-9.36 2.76 -9.21 2.405 Q-9.06 2.05 -8.98 1.65 Q-8.9 1.25 -8.88 0.83 Q-8.86 0.41 -8.86 0.02 Q-8.86 -0.37 -8.88 -0.79 Q-8.9 -1.21 -8.98 -1.61 Q-9.06 -2.01 -9.21 -2.37 Q-9.36 -2.73 -9.62 -3 Q-9.88 -3.27 -10.275 -3.43 Q-10.67 -3.59 -11.22 -3.59 Q-11.77 -3.59 -12.165 -3.43 Q-12.56 -3.27 -12.82 -3 Q-13.08 -2.73 -13.23 -2.37 Q-13.38 -2.01 -13.46 -1.61 Q-13.54 -1.21 -13.56 -0.79 Q-13.58 -0.37 -13.58 0.02 ZM-7.61 2.39 L-7.61 3.5 L-6.5 3.5 L-6.5 2.39 ZM-2.27 1.09 L-4.65 1.09 L-2.29 -2.38 L-2.27 -2.38 ZM-1.47 1.09 L-1.47 -3.59 L-2.15 -3.59 L-5.38 1.02 L-5.38 1.84 L-2.27 1.84 L-2.27 3.5 L-1.47 3.5 L-1.47 1.84 L-0.51 1.84 L-0.51 1.09 Z\"\n",
       "    /></g\n",
       "    ><g transform=\"translate(69,202.5)\" style=\"font-size:10px; fill:rgb(38,38,38); text-rendering:geometricPrecision; image-rendering:optimizeQuality; color-rendering:optimizeQuality; font-family:'Helvetica Neue'; stroke:rgb(38,38,38); color-interpolation:linearRGB;\"\n",
       "    ><path style=\"stroke:none;\" d=\"M-12.68 0.01 Q-12.68 -0.25 -12.675 -0.565 Q-12.67 -0.88 -12.625 -1.195 Q-12.58 -1.51 -12.495 -1.81 Q-12.41 -2.11 -12.245 -2.335 Q-12.08 -2.56 -11.83 -2.7 Q-11.58 -2.84 -11.22 -2.84 Q-10.86 -2.84 -10.61 -2.7 Q-10.36 -2.56 -10.195 -2.335 Q-10.03 -2.11 -9.945 -1.81 Q-9.86 -1.51 -9.815 -1.195 Q-9.77 -0.88 -9.765 -0.565 Q-9.76 -0.25 -9.76 0.01 Q-9.76 0.41 -9.785 0.905 Q-9.81 1.4 -9.945 1.835 Q-10.08 2.27 -10.38 2.57 Q-10.68 2.87 -11.22 2.87 Q-11.76 2.87 -12.06 2.57 Q-12.36 2.27 -12.495 1.835 Q-12.63 1.4 -12.655 0.905 Q-12.68 0.41 -12.68 0.01 ZM-13.58 0.02 Q-13.58 0.41 -13.56 0.83 Q-13.54 1.25 -13.46 1.65 Q-13.38 2.05 -13.23 2.405 Q-13.08 2.76 -12.82 3.03 Q-12.56 3.3 -12.165 3.455 Q-11.77 3.61 -11.22 3.61 Q-10.66 3.61 -10.27 3.455 Q-9.88 3.3 -9.62 3.03 Q-9.36 2.76 -9.21 2.405 Q-9.06 2.05 -8.98 1.65 Q-8.9 1.25 -8.88 0.83 Q-8.86 0.41 -8.86 0.02 Q-8.86 -0.37 -8.88 -0.79 Q-8.9 -1.21 -8.98 -1.61 Q-9.06 -2.01 -9.21 -2.37 Q-9.36 -2.73 -9.62 -3 Q-9.88 -3.27 -10.275 -3.43 Q-10.67 -3.59 -11.22 -3.59 Q-11.77 -3.59 -12.165 -3.43 Q-12.56 -3.27 -12.82 -3 Q-13.08 -2.73 -13.23 -2.37 Q-13.38 -2.01 -13.46 -1.61 Q-13.54 -1.21 -13.56 -0.79 Q-13.58 -0.37 -13.58 0.02 ZM-7.61 2.39 L-7.61 3.5 L-6.5 3.5 L-6.5 2.39 ZM-0.96 -2.72 L-0.96 -3.47 L-4.46 -3.47 L-5.12 0.21 L-4.39 0.25 Q-4.14 -0.05 -3.815 -0.235 Q-3.49 -0.42 -3.07 -0.42 Q-2.71 -0.42 -2.415 -0.3 Q-2.12 -0.18 -1.91 0.035 Q-1.7 0.25 -1.585 0.545 Q-1.47 0.84 -1.47 1.19 Q-1.47 1.61 -1.59 1.925 Q-1.71 2.24 -1.915 2.45 Q-2.12 2.66 -2.395 2.765 Q-2.67 2.87 -2.97 2.87 Q-3.29 2.87 -3.555 2.775 Q-3.82 2.68 -4.015 2.505 Q-4.21 2.33 -4.325 2.095 Q-4.44 1.86 -4.46 1.59 L-5.31 1.59 Q-5.3 2.07 -5.12 2.45 Q-4.94 2.83 -4.63 3.085 Q-4.32 3.34 -3.915 3.475 Q-3.51 3.61 -3.05 3.61 Q-2.43 3.61 -1.965 3.415 Q-1.5 3.22 -1.19 2.89 Q-0.88 2.56 -0.725 2.135 Q-0.57 1.71 -0.57 1.26 Q-0.57 0.65 -0.75 0.195 Q-0.93 -0.26 -1.24 -0.565 Q-1.55 -0.87 -1.97 -1.02 Q-2.39 -1.17 -2.86 -1.17 Q-3.22 -1.17 -3.585 -1.045 Q-3.95 -0.92 -4.18 -0.66 L-4.2 -0.68 L-3.82 -2.72 Z\"\n",
       "    /></g\n",
       "    ><g transform=\"translate(69,168.2)\" style=\"font-size:10px; fill:rgb(38,38,38); text-rendering:geometricPrecision; image-rendering:optimizeQuality; color-rendering:optimizeQuality; font-family:'Helvetica Neue'; stroke:rgb(38,38,38); color-interpolation:linearRGB;\"\n",
       "    ><path style=\"stroke:none;\" d=\"M-12.68 0.01 Q-12.68 -0.25 -12.675 -0.565 Q-12.67 -0.88 -12.625 -1.195 Q-12.58 -1.51 -12.495 -1.81 Q-12.41 -2.11 -12.245 -2.335 Q-12.08 -2.56 -11.83 -2.7 Q-11.58 -2.84 -11.22 -2.84 Q-10.86 -2.84 -10.61 -2.7 Q-10.36 -2.56 -10.195 -2.335 Q-10.03 -2.11 -9.945 -1.81 Q-9.86 -1.51 -9.815 -1.195 Q-9.77 -0.88 -9.765 -0.565 Q-9.76 -0.25 -9.76 0.01 Q-9.76 0.41 -9.785 0.905 Q-9.81 1.4 -9.945 1.835 Q-10.08 2.27 -10.38 2.57 Q-10.68 2.87 -11.22 2.87 Q-11.76 2.87 -12.06 2.57 Q-12.36 2.27 -12.495 1.835 Q-12.63 1.4 -12.655 0.905 Q-12.68 0.41 -12.68 0.01 ZM-13.58 0.02 Q-13.58 0.41 -13.56 0.83 Q-13.54 1.25 -13.46 1.65 Q-13.38 2.05 -13.23 2.405 Q-13.08 2.76 -12.82 3.03 Q-12.56 3.3 -12.165 3.455 Q-11.77 3.61 -11.22 3.61 Q-10.66 3.61 -10.27 3.455 Q-9.88 3.3 -9.62 3.03 Q-9.36 2.76 -9.21 2.405 Q-9.06 2.05 -8.98 1.65 Q-8.9 1.25 -8.88 0.83 Q-8.86 0.41 -8.86 0.02 Q-8.86 -0.37 -8.88 -0.79 Q-8.9 -1.21 -8.98 -1.61 Q-9.06 -2.01 -9.21 -2.37 Q-9.36 -2.73 -9.62 -3 Q-9.88 -3.27 -10.275 -3.43 Q-10.67 -3.59 -11.22 -3.59 Q-11.77 -3.59 -12.165 -3.43 Q-12.56 -3.27 -12.82 -3 Q-13.08 -2.73 -13.23 -2.37 Q-13.38 -2.01 -13.46 -1.61 Q-13.54 -1.21 -13.56 -0.79 Q-13.58 -0.37 -13.58 0.02 ZM-7.61 2.39 L-7.61 3.5 L-6.5 3.5 L-6.5 2.39 ZM-1.52 -1.78 L-0.67 -1.78 Q-0.75 -2.66 -1.27 -3.125 Q-1.79 -3.59 -2.67 -3.59 Q-3.43 -3.59 -3.93 -3.27 Q-4.43 -2.95 -4.73 -2.42 Q-5.03 -1.89 -5.155 -1.205 Q-5.28 -0.52 -5.28 0.21 Q-5.28 0.77 -5.195 1.37 Q-5.11 1.97 -4.85 2.47 Q-4.59 2.97 -4.11 3.29 Q-3.63 3.61 -2.84 3.61 Q-2.17 3.61 -1.715 3.385 Q-1.26 3.16 -0.985 2.815 Q-0.71 2.47 -0.59 2.05 Q-0.47 1.63 -0.47 1.24 Q-0.47 0.75 -0.62 0.33 Q-0.77 -0.09 -1.045 -0.4 Q-1.32 -0.71 -1.725 -0.885 Q-2.13 -1.06 -2.64 -1.06 Q-3.22 -1.06 -3.665 -0.84 Q-4.11 -0.62 -4.41 -0.13 L-4.43 -0.15 Q-4.42 -0.56 -4.35 -1.03 Q-4.28 -1.5 -4.095 -1.905 Q-3.91 -2.31 -3.58 -2.575 Q-3.25 -2.84 -2.71 -2.84 Q-2.2 -2.84 -1.89 -2.55 Q-1.58 -2.26 -1.52 -1.78 ZM-2.8 -0.31 Q-2.44 -0.31 -2.17 -0.18 Q-1.9 -0.05 -1.72 0.165 Q-1.54 0.38 -1.455 0.675 Q-1.37 0.97 -1.37 1.3 Q-1.37 1.61 -1.465 1.895 Q-1.56 2.18 -1.74 2.4 Q-1.92 2.62 -2.185 2.745 Q-2.45 2.87 -2.8 2.87 Q-3.15 2.87 -3.425 2.745 Q-3.7 2.62 -3.885 2.41 Q-4.07 2.2 -4.17 1.91 Q-4.27 1.62 -4.27 1.29 Q-4.27 0.96 -4.175 0.665 Q-4.08 0.37 -3.89 0.155 Q-3.7 -0.06 -3.43 -0.185 Q-3.16 -0.31 -2.8 -0.31 Z\"\n",
       "    /></g\n",
       "    ><g transform=\"translate(69,133.9)\" style=\"font-size:10px; fill:rgb(38,38,38); text-rendering:geometricPrecision; image-rendering:optimizeQuality; color-rendering:optimizeQuality; font-family:'Helvetica Neue'; stroke:rgb(38,38,38); color-interpolation:linearRGB;\"\n",
       "    ><path style=\"stroke:none;\" d=\"M-12.68 0.01 Q-12.68 -0.25 -12.675 -0.565 Q-12.67 -0.88 -12.625 -1.195 Q-12.58 -1.51 -12.495 -1.81 Q-12.41 -2.11 -12.245 -2.335 Q-12.08 -2.56 -11.83 -2.7 Q-11.58 -2.84 -11.22 -2.84 Q-10.86 -2.84 -10.61 -2.7 Q-10.36 -2.56 -10.195 -2.335 Q-10.03 -2.11 -9.945 -1.81 Q-9.86 -1.51 -9.815 -1.195 Q-9.77 -0.88 -9.765 -0.565 Q-9.76 -0.25 -9.76 0.01 Q-9.76 0.41 -9.785 0.905 Q-9.81 1.4 -9.945 1.835 Q-10.08 2.27 -10.38 2.57 Q-10.68 2.87 -11.22 2.87 Q-11.76 2.87 -12.06 2.57 Q-12.36 2.27 -12.495 1.835 Q-12.63 1.4 -12.655 0.905 Q-12.68 0.41 -12.68 0.01 ZM-13.58 0.02 Q-13.58 0.41 -13.56 0.83 Q-13.54 1.25 -13.46 1.65 Q-13.38 2.05 -13.23 2.405 Q-13.08 2.76 -12.82 3.03 Q-12.56 3.3 -12.165 3.455 Q-11.77 3.61 -11.22 3.61 Q-10.66 3.61 -10.27 3.455 Q-9.88 3.3 -9.62 3.03 Q-9.36 2.76 -9.21 2.405 Q-9.06 2.05 -8.98 1.65 Q-8.9 1.25 -8.88 0.83 Q-8.86 0.41 -8.86 0.02 Q-8.86 -0.37 -8.88 -0.79 Q-8.9 -1.21 -8.98 -1.61 Q-9.06 -2.01 -9.21 -2.37 Q-9.36 -2.73 -9.62 -3 Q-9.88 -3.27 -10.275 -3.43 Q-10.67 -3.59 -11.22 -3.59 Q-11.77 -3.59 -12.165 -3.43 Q-12.56 -3.27 -12.82 -3 Q-13.08 -2.73 -13.23 -2.37 Q-13.38 -2.01 -13.46 -1.61 Q-13.54 -1.21 -13.56 -0.79 Q-13.58 -0.37 -13.58 0.02 ZM-7.61 2.39 L-7.61 3.5 L-6.5 3.5 L-6.5 2.39 ZM-0.57 -2.74 L-0.57 -3.47 L-5.16 -3.47 L-5.16 -2.67 L-1.44 -2.67 Q-2 -2.08 -2.485 -1.38 Q-2.97 -0.68 -3.34 0.105 Q-3.71 0.89 -3.945 1.745 Q-4.18 2.6 -4.24 3.5 L-3.29 3.5 Q-3.24 2.67 -3.01 1.79 Q-2.78 0.91 -2.415 0.08 Q-2.05 -0.75 -1.58 -1.48 Q-1.11 -2.21 -0.57 -2.74 Z\"\n",
       "    /></g\n",
       "    ><g transform=\"translate(69,99.6)\" style=\"font-size:10px; fill:rgb(38,38,38); text-rendering:geometricPrecision; image-rendering:optimizeQuality; color-rendering:optimizeQuality; font-family:'Helvetica Neue'; stroke:rgb(38,38,38); color-interpolation:linearRGB;\"\n",
       "    ><path style=\"stroke:none;\" d=\"M-12.68 0.01 Q-12.68 -0.25 -12.675 -0.565 Q-12.67 -0.88 -12.625 -1.195 Q-12.58 -1.51 -12.495 -1.81 Q-12.41 -2.11 -12.245 -2.335 Q-12.08 -2.56 -11.83 -2.7 Q-11.58 -2.84 -11.22 -2.84 Q-10.86 -2.84 -10.61 -2.7 Q-10.36 -2.56 -10.195 -2.335 Q-10.03 -2.11 -9.945 -1.81 Q-9.86 -1.51 -9.815 -1.195 Q-9.77 -0.88 -9.765 -0.565 Q-9.76 -0.25 -9.76 0.01 Q-9.76 0.41 -9.785 0.905 Q-9.81 1.4 -9.945 1.835 Q-10.08 2.27 -10.38 2.57 Q-10.68 2.87 -11.22 2.87 Q-11.76 2.87 -12.06 2.57 Q-12.36 2.27 -12.495 1.835 Q-12.63 1.4 -12.655 0.905 Q-12.68 0.41 -12.68 0.01 ZM-13.58 0.02 Q-13.58 0.41 -13.56 0.83 Q-13.54 1.25 -13.46 1.65 Q-13.38 2.05 -13.23 2.405 Q-13.08 2.76 -12.82 3.03 Q-12.56 3.3 -12.165 3.455 Q-11.77 3.61 -11.22 3.61 Q-10.66 3.61 -10.27 3.455 Q-9.88 3.3 -9.62 3.03 Q-9.36 2.76 -9.21 2.405 Q-9.06 2.05 -8.98 1.65 Q-8.9 1.25 -8.88 0.83 Q-8.86 0.41 -8.86 0.02 Q-8.86 -0.37 -8.88 -0.79 Q-8.9 -1.21 -8.98 -1.61 Q-9.06 -2.01 -9.21 -2.37 Q-9.36 -2.73 -9.62 -3 Q-9.88 -3.27 -10.275 -3.43 Q-10.67 -3.59 -11.22 -3.59 Q-11.77 -3.59 -12.165 -3.43 Q-12.56 -3.27 -12.82 -3 Q-13.08 -2.73 -13.23 -2.37 Q-13.38 -2.01 -13.46 -1.61 Q-13.54 -1.21 -13.56 -0.79 Q-13.58 -0.37 -13.58 0.02 ZM-7.61 2.39 L-7.61 3.5 L-6.5 3.5 L-6.5 2.39 ZM-4.11 -1.75 Q-4.11 -2.02 -4.01 -2.22 Q-3.91 -2.42 -3.745 -2.56 Q-3.58 -2.7 -3.35 -2.77 Q-3.12 -2.84 -2.87 -2.84 Q-2.35 -2.84 -2.015 -2.565 Q-1.68 -2.29 -1.68 -1.75 Q-1.68 -1.21 -2.01 -0.91 Q-2.34 -0.61 -2.85 -0.61 Q-3.11 -0.61 -3.34 -0.68 Q-3.57 -0.75 -3.74 -0.89 Q-3.91 -1.03 -4.01 -1.245 Q-4.11 -1.46 -4.11 -1.75 ZM-5.01 -1.78 Q-5.01 -1.3 -4.74 -0.895 Q-4.47 -0.49 -4.02 -0.31 Q-4.62 -0.1 -4.94 0.365 Q-5.26 0.83 -5.26 1.46 Q-5.26 2 -5.075 2.405 Q-4.89 2.81 -4.565 3.08 Q-4.24 3.35 -3.8 3.48 Q-3.36 3.61 -2.85 3.61 Q-2.36 3.61 -1.93 3.47 Q-1.5 3.33 -1.185 3.055 Q-0.87 2.78 -0.685 2.38 Q-0.5 1.98 -0.5 1.46 Q-0.5 0.8 -0.81 0.345 Q-1.12 -0.11 -1.76 -0.31 Q-1.31 -0.51 -1.045 -0.905 Q-0.78 -1.3 -0.78 -1.78 Q-0.78 -2.12 -0.9 -2.445 Q-1.02 -2.77 -1.275 -3.025 Q-1.53 -3.28 -1.94 -3.435 Q-2.35 -3.59 -2.93 -3.59 Q-3.34 -3.59 -3.715 -3.47 Q-4.09 -3.35 -4.38 -3.12 Q-4.67 -2.89 -4.84 -2.555 Q-5.01 -2.22 -5.01 -1.78 ZM-4.36 1.5 Q-4.36 1.19 -4.245 0.94 Q-4.13 0.69 -3.925 0.51 Q-3.72 0.33 -3.445 0.235 Q-3.17 0.14 -2.86 0.14 Q-2.56 0.14 -2.295 0.245 Q-2.03 0.35 -1.83 0.53 Q-1.63 0.71 -1.515 0.955 Q-1.4 1.2 -1.4 1.49 Q-1.4 1.79 -1.505 2.04 Q-1.61 2.29 -1.805 2.475 Q-2 2.66 -2.265 2.765 Q-2.53 2.87 -2.85 2.87 Q-3.51 2.87 -3.935 2.505 Q-4.36 2.14 -4.36 1.5 Z\"\n",
       "    /></g\n",
       "    ><g transform=\"translate(69,65.3)\" style=\"font-size:10px; fill:rgb(38,38,38); text-rendering:geometricPrecision; image-rendering:optimizeQuality; color-rendering:optimizeQuality; font-family:'Helvetica Neue'; stroke:rgb(38,38,38); color-interpolation:linearRGB;\"\n",
       "    ><path style=\"stroke:none;\" d=\"M-12.68 0.01 Q-12.68 -0.25 -12.675 -0.565 Q-12.67 -0.88 -12.625 -1.195 Q-12.58 -1.51 -12.495 -1.81 Q-12.41 -2.11 -12.245 -2.335 Q-12.08 -2.56 -11.83 -2.7 Q-11.58 -2.84 -11.22 -2.84 Q-10.86 -2.84 -10.61 -2.7 Q-10.36 -2.56 -10.195 -2.335 Q-10.03 -2.11 -9.945 -1.81 Q-9.86 -1.51 -9.815 -1.195 Q-9.77 -0.88 -9.765 -0.565 Q-9.76 -0.25 -9.76 0.01 Q-9.76 0.41 -9.785 0.905 Q-9.81 1.4 -9.945 1.835 Q-10.08 2.27 -10.38 2.57 Q-10.68 2.87 -11.22 2.87 Q-11.76 2.87 -12.06 2.57 Q-12.36 2.27 -12.495 1.835 Q-12.63 1.4 -12.655 0.905 Q-12.68 0.41 -12.68 0.01 ZM-13.58 0.02 Q-13.58 0.41 -13.56 0.83 Q-13.54 1.25 -13.46 1.65 Q-13.38 2.05 -13.23 2.405 Q-13.08 2.76 -12.82 3.03 Q-12.56 3.3 -12.165 3.455 Q-11.77 3.61 -11.22 3.61 Q-10.66 3.61 -10.27 3.455 Q-9.88 3.3 -9.62 3.03 Q-9.36 2.76 -9.21 2.405 Q-9.06 2.05 -8.98 1.65 Q-8.9 1.25 -8.88 0.83 Q-8.86 0.41 -8.86 0.02 Q-8.86 -0.37 -8.88 -0.79 Q-8.9 -1.21 -8.98 -1.61 Q-9.06 -2.01 -9.21 -2.37 Q-9.36 -2.73 -9.62 -3 Q-9.88 -3.27 -10.275 -3.43 Q-10.67 -3.59 -11.22 -3.59 Q-11.77 -3.59 -12.165 -3.43 Q-12.56 -3.27 -12.82 -3 Q-13.08 -2.73 -13.23 -2.37 Q-13.38 -2.01 -13.46 -1.61 Q-13.54 -1.21 -13.56 -0.79 Q-13.58 -0.37 -13.58 0.02 ZM-7.61 2.39 L-7.61 3.5 L-6.5 3.5 L-6.5 2.39 ZM-4.32 1.79 L-5.17 1.79 Q-5.09 2.71 -4.5 3.16 Q-3.91 3.61 -3.02 3.61 Q-1.73 3.61 -1.145 2.625 Q-0.56 1.64 -0.56 -0.2 Q-0.56 -1.21 -0.755 -1.865 Q-0.95 -2.52 -1.28 -2.9 Q-1.61 -3.28 -2.05 -3.435 Q-2.49 -3.59 -2.99 -3.59 Q-3.5 -3.59 -3.93 -3.42 Q-4.36 -3.25 -4.67 -2.945 Q-4.98 -2.64 -5.15 -2.215 Q-5.32 -1.79 -5.32 -1.28 Q-5.32 -0.76 -5.175 -0.32 Q-5.03 0.12 -4.745 0.43 Q-4.46 0.74 -4.04 0.915 Q-3.62 1.09 -3.08 1.09 Q-2.56 1.09 -2.12 0.825 Q-1.68 0.56 -1.44 0.11 L-1.42 0.13 Q-1.46 1.52 -1.85 2.195 Q-2.24 2.87 -3.02 2.87 Q-3.53 2.87 -3.9 2.59 Q-4.27 2.31 -4.32 1.79 ZM-1.57 -1.22 Q-1.57 -0.91 -1.67 -0.625 Q-1.77 -0.34 -1.96 -0.125 Q-2.15 0.09 -2.42 0.215 Q-2.69 0.34 -3.02 0.34 Q-3.33 0.34 -3.585 0.215 Q-3.84 0.09 -4.025 -0.12 Q-4.21 -0.33 -4.315 -0.6 Q-4.42 -0.87 -4.42 -1.16 Q-4.42 -1.49 -4.345 -1.79 Q-4.27 -2.09 -4.105 -2.325 Q-3.94 -2.56 -3.675 -2.7 Q-3.41 -2.84 -3.03 -2.84 Q-2.67 -2.84 -2.4 -2.71 Q-2.13 -2.58 -1.945 -2.355 Q-1.76 -2.13 -1.665 -1.84 Q-1.57 -1.55 -1.57 -1.22 Z\"\n",
       "    /></g\n",
       "    ><g transform=\"translate(69,31)\" style=\"font-size:10px; fill:rgb(38,38,38); text-rendering:geometricPrecision; image-rendering:optimizeQuality; color-rendering:optimizeQuality; font-family:'Helvetica Neue'; stroke:rgb(38,38,38); color-interpolation:linearRGB;\"\n",
       "    ><path style=\"stroke:none;\" d=\"M-2.44 3.5 L-2.44 -3.59 L-3.09 -3.59 Q-3.16 -3.19 -3.35 -2.93 Q-3.54 -2.67 -3.815 -2.52 Q-4.09 -2.37 -4.43 -2.315 Q-4.77 -2.26 -5.13 -2.26 L-5.13 -1.58 L-3.29 -1.58 L-3.29 3.5 Z\"\n",
       "    /></g\n",
       "    ><g transform=\"translate(45,221) rotate(-90)\" style=\"font-size:11px; fill:rgb(38,38,38); text-rendering:geometricPrecision; image-rendering:optimizeQuality; color-rendering:optimizeQuality; font-family:'Helvetica Neue'; stroke:rgb(38,38,38); color-interpolation:linearRGB;\"\n",
       "    ><path style=\"stroke:none;\" d=\"M0.847 -8.646 L0.847 2.343 L1.595 2.343 L1.595 -8.646 ZM3.3 -7.854 L3.3 0 L4.345 0 L4.345 -3.597 L8.481 -3.597 L8.481 0 L9.526 0 L9.526 -7.854 L8.481 -7.854 L8.481 -4.477 L4.345 -4.477 L4.345 -7.854 Z\"\n",
       "    /></g\n",
       "    ><g transform=\"translate(50,210) rotate(-90)\" style=\"font-size:8.8px; fill:rgb(38,38,38); text-rendering:geometricPrecision; image-rendering:optimizeQuality; color-rendering:optimizeQuality; font-family:'Helvetica Neue'; stroke:rgb(38,38,38); color-interpolation:linearRGB;\"\n",
       "    ><path style=\"stroke:none;\" d=\"M1.5224 -3.5816 L1.5224 -5.5792 L3.1944 -5.5792 Q3.4672 -5.5792 3.7092 -5.5484 Q3.9512 -5.5176 4.136 -5.412 Q4.3208 -5.3064 4.4264 -5.1128 Q4.532 -4.9192 4.532 -4.5848 Q4.532 -4.0832 4.2196 -3.8324 Q3.9072 -3.5816 3.1944 -3.5816 ZM0.6864 -6.2832 L0.6864 0 L3.7224 0 Q4.1888 0 4.5452 -0.154 Q4.9016 -0.308 5.1436 -0.5588 Q5.3856 -0.8096 5.5088 -1.1352 Q5.632 -1.4608 5.632 -1.804 Q5.632 -2.3848 5.324 -2.7896 Q5.016 -3.1944 4.4352 -3.3176 L4.4352 -3.3352 Q4.884 -3.5112 5.126 -3.8764 Q5.368 -4.2416 5.368 -4.7432 Q5.368 -5.2184 5.1524 -5.544 Q4.9368 -5.8696 4.6288 -6.0544 Q4.488 -6.1424 4.29 -6.1864 Q4.092 -6.2304 3.8632 -6.2524 Q3.6344 -6.2744 3.4012 -6.2788 Q3.168 -6.2832 2.9656 -6.2832 ZM1.5224 -0.704 L1.5224 -2.8776 L3.432 -2.8776 Q3.696 -2.8776 3.9424 -2.8292 Q4.1888 -2.7808 4.378 -2.662 Q4.5672 -2.5432 4.6816 -2.3408 Q4.796 -2.1384 4.796 -1.8304 Q4.796 -1.3024 4.4836 -1.0032 Q4.1712 -0.704 3.6168 -0.704 Z\"\n",
       "    /></g\n",
       "    ><g transform=\"translate(45,203) rotate(-90)\" style=\"font-size:11px; fill:rgb(38,38,38); text-rendering:geometricPrecision; image-rendering:optimizeQuality; color-rendering:optimizeQuality; font-family:'Helvetica Neue'; stroke:rgb(38,38,38); color-interpolation:linearRGB;\"\n",
       "    ><path style=\"stroke:none;\" d=\"M2.244 2.167 L2.959 2.167 Q2.178 0.902 1.8425 -0.341 Q1.507 -1.584 1.507 -2.97 Q1.507 -4.323 1.837 -5.555 Q2.167 -6.787 2.959 -8.041 L2.244 -8.041 Q1.386 -6.908 0.9515 -5.588 Q0.517 -4.268 0.517 -2.97 Q0.517 -2.244 0.638 -1.584 Q0.759 -0.924 0.9845 -0.297 Q1.21 0.33 1.529 0.9405 Q1.848 1.551 2.244 2.167 ZM4.543 -6.71 L4.543 -7.854 L3.608 -7.854 L3.608 -6.71 ZM4.543 0.715 L4.543 -5.687 L3.608 -5.687 L3.608 0.561 Q3.608 1.001 3.498 1.1715 Q3.388 1.342 3.08 1.342 L2.882 1.342 Q2.838 1.342 2.7995 1.3365 Q2.761 1.331 2.706 1.32 L2.706 2.123 Q2.926 2.167 3.179 2.167 Q3.806 2.167 4.1745 1.8205 Q4.543 1.474 4.543 0.715 Z\"\n",
       "    /></g\n",
       "    ><g transform=\"translate(45,197) rotate(-90)\" style=\"font-size:11px; fill:rgb(38,38,38); text-rendering:geometricPrecision; image-rendering:optimizeQuality; color-rendering:optimizeQuality; font-family:'mwa_cmmi10'; stroke:rgb(38,38,38); color-interpolation:linearRGB;\"\n",
       "    ><path style=\"stroke:none;\" d=\"M1.3281 0.125 Q0.7031 0.125 0.4297 -0.3359 Q0.1562 -0.7969 0.1562 -1.4531 Q0.1562 -1.8906 0.2344 -2.3047 Q0.3125 -2.7188 0.4688 -3.1484 Q0.625 -3.5781 0.8281 -3.9453 Q1.0312 -4.3125 1.2969 -4.6719 Q1.3438 -4.75 1.4219 -4.75 Q1.4844 -4.75 1.5312 -4.7031 Q1.5781 -4.6562 1.5781 -4.5938 Q1.5781 -4.5312 1.5469 -4.4844 Q0.5312 -3.1094 0.5312 -1.9375 Q0.5312 -1.4375 0.7656 -1.0781 Q1 -0.7188 1.4844 -0.7188 Q1.8906 -0.7188 2.2422 -0.9609 Q2.5938 -1.2031 2.8594 -1.5781 Q2.8594 -1.7656 2.9219 -2.1719 Q2.9844 -2.5781 3.1328 -2.8984 Q3.2812 -3.2188 3.4688 -3.2188 Q3.7344 -3.2188 3.7344 -2.9219 Q3.7344 -2.75 3.6562 -2.4922 Q3.5781 -2.2344 3.4922 -2.0078 Q3.4062 -1.7812 3.2812 -1.5 Q3.4062 -0.7188 4.0625 -0.7188 Q4.4375 -0.7188 4.8203 -0.9375 Q5.2031 -1.1562 5.5 -1.5156 Q5.7969 -1.875 5.9688 -2.2891 Q6.1406 -2.7031 6.1406 -3.0625 Q6.1406 -3.4062 6.0391 -3.5859 Q5.9375 -3.7656 5.7656 -3.9688 Q5.5938 -4.1719 5.5938 -4.2969 Q5.5938 -4.5156 5.7734 -4.6953 Q5.9531 -4.875 6.1562 -4.875 Q6.4219 -4.875 6.5391 -4.6328 Q6.6562 -4.3906 6.6562 -4.0781 Q6.6562 -3.5625 6.4531 -2.7969 Q6.25 -2.0312 6 -1.5156 Q5.6406 -0.8281 5.1094 -0.3516 Q4.5781 0.125 3.9062 0.125 Q3.4844 0.125 3.2188 -0.1328 Q2.9531 -0.3906 2.8906 -0.8281 Q2.5781 -0.3906 2.1875 -0.1328 Q1.7969 0.125 1.3281 0.125 Z\"\n",
       "    /></g\n",
       "    ><g transform=\"translate(45,190) rotate(-90)\" style=\"font-size:11px; fill:rgb(38,38,38); text-rendering:geometricPrecision; image-rendering:optimizeQuality; color-rendering:optimizeQuality; font-family:'Helvetica Neue'; stroke:rgb(38,38,38); color-interpolation:linearRGB;\"\n",
       "    ><path style=\"stroke:none;\" d=\"M-0.099 2.167 L0.605 2.167 Q1.463 1.034 1.8975 -0.2805 Q2.332 -1.595 2.332 -2.893 Q2.332 -3.619 2.211 -4.279 Q2.09 -4.939 1.8645 -5.5715 Q1.639 -6.204 1.32 -6.8145 Q1.001 -7.425 0.605 -8.041 L-0.099 -8.041 Q0.671 -6.776 1.0065 -5.5275 Q1.342 -4.279 1.342 -2.893 Q1.342 -1.551 1.012 -0.3135 Q0.682 0.924 -0.099 2.167 ZM3.696 -8.646 L3.696 2.343 L4.444 2.343 L4.444 -8.646 Z\"\n",
       "    /></g\n",
       "    ><g transform=\"translate(68,21)\" style=\"font-size:11px; text-rendering:geometricPrecision; image-rendering:optimizeQuality; color-rendering:optimizeQuality; font-family:'Helvetica Neue'; color-interpolation:linearRGB; font-weight:bold;\"\n",
       "    ><path style=\"stroke:none;\" d=\"M0.759 -7.854 L0.759 0 L2.376 0 L2.376 -5.511 L2.398 -5.511 L4.323 0 L5.654 0 L7.579 -5.566 L7.601 -5.566 L7.601 0 L9.218 0 L9.218 -7.854 L6.787 -7.854 L5.049 -2.453 L5.027 -2.453 L3.19 -7.854 ZM10.505 -3.938 Q10.538 -4.488 10.78 -4.851 Q11.022 -5.214 11.396 -5.434 Q11.77 -5.654 12.2375 -5.7475 Q12.705 -5.841 13.178 -5.841 Q13.607 -5.841 14.047 -5.7805 Q14.487 -5.72 14.85 -5.544 Q15.213 -5.368 15.444 -5.0545 Q15.675 -4.741 15.675 -4.224 L15.675 -1.265 Q15.675 -0.88 15.719 -0.528 Q15.763 -0.176 15.873 0 L14.289 0 Q14.245 -0.132 14.2175 -0.2695 Q14.19 -0.407 14.179 -0.55 Q13.805 -0.165 13.299 -0.011 Q12.793 0.143 12.265 0.143 Q11.858 0.143 11.506 0.044 Q11.154 -0.055 10.89 -0.264 Q10.626 -0.473 10.4775 -0.792 Q10.329 -1.111 10.329 -1.551 Q10.329 -2.035 10.4995 -2.3485 Q10.67 -2.662 10.9395 -2.849 Q11.209 -3.036 11.5555 -3.1295 Q11.902 -3.223 12.254 -3.278 Q12.606 -3.333 12.947 -3.366 Q13.288 -3.399 13.552 -3.465 Q13.816 -3.531 13.97 -3.6575 Q14.124 -3.784 14.113 -4.026 Q14.113 -4.279 14.0305 -4.4275 Q13.948 -4.576 13.8105 -4.6585 Q13.673 -4.741 13.4915 -4.7685 Q13.31 -4.796 13.101 -4.796 Q12.639 -4.796 12.375 -4.598 Q12.111 -4.4 12.067 -3.938 ZM14.113 -2.783 Q14.014 -2.695 13.8655 -2.6455 Q13.717 -2.596 13.5465 -2.563 Q13.376 -2.53 13.189 -2.508 Q13.002 -2.486 12.815 -2.453 Q12.639 -2.42 12.4685 -2.365 Q12.298 -2.31 12.1715 -2.2165 Q12.045 -2.123 11.968 -1.98 Q11.891 -1.837 11.891 -1.617 Q11.891 -1.408 11.968 -1.265 Q12.045 -1.122 12.177 -1.0395 Q12.309 -0.957 12.485 -0.924 Q12.661 -0.891 12.848 -0.891 Q13.31 -0.891 13.563 -1.045 Q13.816 -1.199 13.937 -1.4135 Q14.058 -1.628 14.0855 -1.848 Q14.113 -2.068 14.113 -2.2 ZM19.536 -1.342 Q19.173 -1.342 18.931 -1.496 Q18.689 -1.65 18.5405 -1.892 Q18.392 -2.134 18.3315 -2.4365 Q18.271 -2.739 18.271 -3.047 Q18.271 -3.366 18.3425 -3.6575 Q18.414 -3.949 18.5735 -4.1745 Q18.733 -4.4 18.9695 -4.532 Q19.206 -4.664 19.536 -4.664 Q19.921 -4.664 20.174 -4.521 Q20.427 -4.378 20.581 -4.136 Q20.735 -3.894 20.801 -3.5805 Q20.867 -3.267 20.867 -2.915 Q20.867 -2.607 20.7845 -2.3265 Q20.702 -2.046 20.537 -1.826 Q20.372 -1.606 20.119 -1.474 Q19.866 -1.342 19.536 -1.342 ZM22.352 -0.363 L22.352 -5.687 L20.867 -5.687 L20.867 -4.928 L20.845 -4.928 Q20.559 -5.423 20.1355 -5.632 Q19.712 -5.841 19.151 -5.841 Q18.557 -5.841 18.1005 -5.61 Q17.644 -5.379 17.336 -4.9885 Q17.028 -4.598 16.8685 -4.0865 Q16.709 -3.575 16.709 -3.025 Q16.709 -2.442 16.8465 -1.9195 Q16.984 -1.397 17.281 -1.0065 Q17.578 -0.616 18.04 -0.3905 Q18.502 -0.165 19.14 -0.165 Q19.657 -0.165 20.1245 -0.3795 Q20.592 -0.594 20.845 -1.045 L20.867 -1.045 L20.867 -0.297 Q20.878 0.308 20.5755 0.704 Q20.273 1.1 19.613 1.1 Q19.195 1.1 18.876 0.9295 Q18.557 0.759 18.447 0.319 L16.896 0.319 Q16.929 0.803 17.1655 1.1495 Q17.402 1.496 17.7595 1.716 Q18.117 1.936 18.5515 2.0405 Q18.986 2.145 19.404 2.145 Q20.383 2.145 20.966 1.881 Q21.549 1.617 21.857 1.2375 Q22.165 0.858 22.2585 0.418 Q22.352 -0.022 22.352 -0.363 ZM23.606 -5.687 L23.606 0 L25.168 0 L25.168 -2.981 Q25.168 -3.85 25.454 -4.2295 Q25.74 -4.609 26.378 -4.609 Q26.939 -4.609 27.159 -4.2625 Q27.379 -3.916 27.379 -3.212 L27.379 0 L28.941 0 L28.941 -3.498 Q28.941 -4.026 28.8475 -4.4605 Q28.754 -4.895 28.523 -5.1975 Q28.292 -5.5 27.8905 -5.6705 Q27.489 -5.841 26.862 -5.841 Q26.367 -5.841 25.894 -5.6155 Q25.421 -5.39 25.124 -4.895 L25.091 -4.895 L25.091 -5.687 ZM31.735 -6.567 L31.735 -7.854 L30.173 -7.854 L30.173 -6.567 ZM30.173 -5.687 L30.173 0 L31.735 0 L31.735 -5.687 ZM34.947 -5.687 L34.947 -7.392 L33.385 -7.392 L33.385 -5.687 L32.439 -5.687 L32.439 -4.642 L33.385 -4.642 L33.385 -1.287 Q33.385 -0.858 33.528 -0.594 Q33.671 -0.33 33.9185 -0.187 Q34.166 -0.044 34.4905 0.0055 Q34.815 0.055 35.178 0.055 Q35.409 0.055 35.651 0.044 Q35.893 0.033 36.091 0 L36.091 -1.21 Q35.981 -1.188 35.86 -1.177 Q35.739 -1.166 35.607 -1.166 Q35.211 -1.166 35.079 -1.298 Q34.947 -1.43 34.947 -1.826 L34.947 -4.642 L36.091 -4.642 L36.091 -5.687 ZM42.174 0 L42.174 -5.687 L40.612 -5.687 L40.612 -2.706 Q40.612 -1.837 40.326 -1.4575 Q40.04 -1.078 39.402 -1.078 Q38.841 -1.078 38.621 -1.4245 Q38.401 -1.771 38.401 -2.475 L38.401 -5.687 L36.839 -5.687 L36.839 -2.189 Q36.839 -1.661 36.9325 -1.2265 Q37.026 -0.792 37.257 -0.4895 Q37.488 -0.187 37.8895 -0.022 Q38.291 0.143 38.918 0.143 Q39.413 0.143 39.886 -0.077 Q40.359 -0.297 40.656 -0.792 L40.689 -0.792 L40.689 0 ZM47.399 -2.86 Q47.399 -2.508 47.333 -2.178 Q47.267 -1.848 47.113 -1.5895 Q46.959 -1.331 46.7005 -1.177 Q46.442 -1.023 46.057 -1.023 Q45.694 -1.023 45.4355 -1.1825 Q45.177 -1.342 45.0065 -1.6005 Q44.836 -1.859 44.759 -2.189 Q44.682 -2.519 44.682 -2.849 Q44.682 -3.201 44.7535 -3.5255 Q44.825 -3.85 44.9845 -4.103 Q45.144 -4.356 45.408 -4.51 Q45.672 -4.664 46.057 -4.664 Q46.442 -4.664 46.695 -4.51 Q46.948 -4.356 47.1075 -4.1085 Q47.267 -3.861 47.333 -3.5365 Q47.399 -3.212 47.399 -2.86 ZM47.421 -0.726 L47.421 0 L48.906 0 L48.906 -7.854 L47.344 -7.854 L47.344 -4.994 L47.322 -4.994 Q47.058 -5.412 46.6015 -5.6265 Q46.145 -5.841 45.639 -5.841 Q45.012 -5.841 44.539 -5.5935 Q44.066 -5.346 43.7525 -4.939 Q43.439 -4.532 43.2795 -3.9985 Q43.12 -3.465 43.12 -2.893 Q43.12 -2.299 43.2795 -1.749 Q43.439 -1.199 43.7525 -0.7755 Q44.066 -0.352 44.55 -0.1045 Q45.034 0.143 45.672 0.143 Q46.233 0.143 46.6785 -0.0605 Q47.124 -0.264 47.399 -0.726 ZM53.911 -3.454 L51.37 -3.454 Q51.381 -3.619 51.4415 -3.828 Q51.502 -4.037 51.6505 -4.224 Q51.799 -4.411 52.0465 -4.5375 Q52.294 -4.664 52.668 -4.664 Q53.24 -4.664 53.5205 -4.356 Q53.801 -4.048 53.911 -3.454 ZM51.37 -2.464 L55.473 -2.464 Q55.517 -3.124 55.363 -3.729 Q55.209 -4.334 54.8625 -4.807 Q54.516 -5.28 53.977 -5.5605 Q53.438 -5.841 52.712 -5.841 Q52.063 -5.841 51.5295 -5.61 Q50.996 -5.379 50.611 -4.9775 Q50.226 -4.576 50.017 -4.026 Q49.808 -3.476 49.808 -2.838 Q49.808 -2.178 50.0115 -1.628 Q50.215 -1.078 50.589 -0.682 Q50.963 -0.286 51.502 -0.0715 Q52.041 0.143 52.712 0.143 Q53.68 0.143 54.362 -0.297 Q55.044 -0.737 55.374 -1.76 L53.999 -1.76 Q53.922 -1.496 53.581 -1.2595 Q53.24 -1.023 52.767 -1.023 Q52.107 -1.023 51.755 -1.364 Q51.403 -1.705 51.37 -2.464 ZM59.62 -7.854 L59.62 0 L61.347 0 L61.347 -3.245 L64.636 -3.245 L64.636 -4.587 L61.347 -4.587 L61.347 -6.402 L65.142 -6.402 L65.142 -7.854 ZM65.978 -5.687 L65.978 0 L67.54 0 L67.54 -2.563 Q67.54 -2.948 67.617 -3.278 Q67.694 -3.608 67.8755 -3.8555 Q68.057 -4.103 68.354 -4.246 Q68.651 -4.389 69.08 -4.389 Q69.223 -4.389 69.377 -4.3725 Q69.531 -4.356 69.641 -4.334 L69.641 -5.786 Q69.454 -5.841 69.3 -5.841 Q69.003 -5.841 68.728 -5.753 Q68.453 -5.665 68.211 -5.5055 Q67.969 -5.346 67.782 -5.1205 Q67.595 -4.895 67.485 -4.631 L67.463 -4.631 L67.463 -5.687 ZM74.085 -3.454 L71.544 -3.454 Q71.555 -3.619 71.6155 -3.828 Q71.676 -4.037 71.8245 -4.224 Q71.973 -4.411 72.2205 -4.5375 Q72.468 -4.664 72.842 -4.664 Q73.414 -4.664 73.6945 -4.356 Q73.975 -4.048 74.085 -3.454 ZM71.544 -2.464 L75.647 -2.464 Q75.691 -3.124 75.537 -3.729 Q75.383 -4.334 75.0365 -4.807 Q74.69 -5.28 74.151 -5.5605 Q73.612 -5.841 72.886 -5.841 Q72.237 -5.841 71.7035 -5.61 Q71.17 -5.379 70.785 -4.9775 Q70.4 -4.576 70.191 -4.026 Q69.982 -3.476 69.982 -2.838 Q69.982 -2.178 70.1855 -1.628 Q70.389 -1.078 70.763 -0.682 Q71.137 -0.286 71.676 -0.0715 Q72.215 0.143 72.886 0.143 Q73.854 0.143 74.536 -0.297 Q75.218 -0.737 75.548 -1.76 L74.173 -1.76 Q74.096 -1.496 73.755 -1.2595 Q73.414 -1.023 72.941 -1.023 Q72.281 -1.023 71.929 -1.364 Q71.577 -1.705 71.544 -2.464 ZM77.891 -2.838 Q77.891 -3.19 77.9625 -3.5145 Q78.034 -3.839 78.199 -4.0975 Q78.364 -4.356 78.628 -4.51 Q78.892 -4.664 79.277 -4.664 Q79.64 -4.664 79.8985 -4.499 Q80.157 -4.334 80.311 -4.07 Q80.465 -3.806 80.5365 -3.476 Q80.608 -3.146 80.608 -2.816 Q80.608 -2.464 80.5365 -2.1395 Q80.465 -1.815 80.3055 -1.5675 Q80.146 -1.32 79.8875 -1.1715 Q79.629 -1.023 79.244 -1.023 Q78.859 -1.023 78.6005 -1.177 Q78.342 -1.331 78.1825 -1.5895 Q78.023 -1.848 77.957 -2.1725 Q77.891 -2.497 77.891 -2.838 ZM82.115 1.991 L82.115 -5.687 L80.63 -5.687 L80.63 -4.961 L80.608 -4.961 Q80.344 -5.434 79.8765 -5.6375 Q79.409 -5.841 78.881 -5.841 Q78.232 -5.841 77.7535 -5.588 Q77.275 -5.335 76.956 -4.9115 Q76.637 -4.488 76.483 -3.938 Q76.329 -3.388 76.329 -2.805 Q76.329 -1.98 76.56 -1.4135 Q76.791 -0.847 77.143 -0.5005 Q77.495 -0.154 77.9185 -0.0055 Q78.342 0.143 78.738 0.143 Q79.266 0.143 79.761 -0.055 Q80.256 -0.253 80.531 -0.715 L80.553 -0.715 L80.553 1.991 ZM88.627 0 L88.627 -5.687 L87.065 -5.687 L87.065 -2.706 Q87.065 -1.837 86.779 -1.4575 Q86.493 -1.078 85.855 -1.078 Q85.294 -1.078 85.074 -1.4245 Q84.854 -1.771 84.854 -2.475 L84.854 -5.687 L83.292 -5.687 L83.292 -2.189 Q83.292 -1.661 83.3855 -1.2265 Q83.479 -0.792 83.71 -0.4895 Q83.941 -0.187 84.3425 -0.022 Q84.744 0.143 85.371 0.143 Q85.866 0.143 86.339 -0.077 Q86.812 -0.297 87.109 -0.792 L87.142 -0.792 L87.142 0 ZM93.643 -3.454 L91.102 -3.454 Q91.113 -3.619 91.1735 -3.828 Q91.234 -4.037 91.3825 -4.224 Q91.531 -4.411 91.7785 -4.5375 Q92.026 -4.664 92.4 -4.664 Q92.972 -4.664 93.2525 -4.356 Q93.533 -4.048 93.643 -3.454 ZM91.102 -2.464 L95.205 -2.464 Q95.249 -3.124 95.095 -3.729 Q94.941 -4.334 94.5945 -4.807 Q94.248 -5.28 93.709 -5.5605 Q93.17 -5.841 92.444 -5.841 Q91.795 -5.841 91.2615 -5.61 Q90.728 -5.379 90.343 -4.9775 Q89.958 -4.576 89.749 -4.026 Q89.54 -3.476 89.54 -2.838 Q89.54 -2.178 89.7435 -1.628 Q89.947 -1.078 90.321 -0.682 Q90.695 -0.286 91.234 -0.0715 Q91.773 0.143 92.444 0.143 Q93.412 0.143 94.094 -0.297 Q94.776 -0.737 95.106 -1.76 L93.731 -1.76 Q93.654 -1.496 93.313 -1.2595 Q92.972 -1.023 92.499 -1.023 Q91.839 -1.023 91.487 -1.364 Q91.135 -1.705 91.102 -2.464 ZM96.129 -5.687 L96.129 0 L97.691 0 L97.691 -2.981 Q97.691 -3.85 97.977 -4.2295 Q98.263 -4.609 98.901 -4.609 Q99.462 -4.609 99.682 -4.2625 Q99.902 -3.916 99.902 -3.212 L99.902 0 L101.464 0 L101.464 -3.498 Q101.464 -4.026 101.3705 -4.4605 Q101.277 -4.895 101.046 -5.1975 Q100.815 -5.5 100.4135 -5.6705 Q100.012 -5.841 99.385 -5.841 Q98.89 -5.841 98.417 -5.6155 Q97.944 -5.39 97.647 -4.895 L97.614 -4.895 L97.614 -5.687 ZM106.524 -3.685 L108.053 -3.685 Q108.02 -4.235 107.789 -4.6365 Q107.558 -5.038 107.1895 -5.3075 Q106.821 -5.577 106.3535 -5.709 Q105.886 -5.841 105.38 -5.841 Q104.687 -5.841 104.148 -5.61 Q103.609 -5.379 103.235 -4.9665 Q102.861 -4.554 102.6685 -3.9875 Q102.476 -3.421 102.476 -2.761 Q102.476 -2.123 102.685 -1.5895 Q102.894 -1.056 103.268 -0.671 Q103.642 -0.286 104.1755 -0.0715 Q104.709 0.143 105.347 0.143 Q106.48 0.143 107.206 -0.451 Q107.932 -1.045 108.086 -2.178 L106.579 -2.178 Q106.502 -1.65 106.1995 -1.3365 Q105.897 -1.023 105.336 -1.023 Q104.973 -1.023 104.72 -1.188 Q104.467 -1.353 104.3185 -1.6115 Q104.17 -1.87 104.104 -2.189 Q104.038 -2.508 104.038 -2.816 Q104.038 -3.135 104.104 -3.4595 Q104.17 -3.784 104.3295 -4.0535 Q104.489 -4.323 104.742 -4.4935 Q104.995 -4.664 105.369 -4.664 Q106.37 -4.664 106.524 -3.685 ZM111.771 0.704 L114.147 -5.687 L112.53 -5.687 L111.287 -1.793 L111.265 -1.793 L109.978 -5.687 L108.317 -5.687 L110.308 -0.352 Q110.374 -0.187 110.374 0 Q110.374 0.253 110.2255 0.462 Q110.077 0.671 109.769 0.704 Q109.538 0.715 109.307 0.693 Q109.076 0.671 108.856 0.649 L108.856 1.936 Q109.098 1.958 109.3345 1.9745 Q109.571 1.991 109.813 1.991 Q110.616 1.991 111.067 1.694 Q111.518 1.397 111.771 0.704 ZM119.625 -4.301 L119.625 -6.512 L121.517 -6.512 Q122.111 -6.512 122.408 -6.2535 Q122.705 -5.995 122.705 -5.423 Q122.705 -4.829 122.408 -4.565 Q122.111 -4.301 121.517 -4.301 ZM117.898 -7.854 L117.898 0 L119.625 0 L119.625 -3.069 L121.352 -3.069 Q122.001 -3.069 122.287 -2.783 Q122.573 -2.497 122.661 -1.881 Q122.727 -1.408 122.76 -0.891 Q122.793 -0.374 122.936 0 L124.663 0 Q124.542 -0.165 124.4815 -0.4015 Q124.421 -0.638 124.3935 -0.902 Q124.366 -1.166 124.355 -1.419 Q124.344 -1.672 124.333 -1.859 Q124.311 -2.156 124.2505 -2.453 Q124.19 -2.75 124.058 -2.9975 Q123.926 -3.245 123.717 -3.4265 Q123.508 -3.608 123.189 -3.696 L123.189 -3.718 Q123.849 -3.982 124.1405 -4.488 Q124.432 -4.994 124.432 -5.687 Q124.432 -6.138 124.2725 -6.5285 Q124.113 -6.919 123.8105 -7.216 Q123.508 -7.513 123.0845 -7.6835 Q122.661 -7.854 122.133 -7.854 ZM129.503 -3.454 L126.962 -3.454 Q126.973 -3.619 127.0335 -3.828 Q127.094 -4.037 127.2425 -4.224 Q127.391 -4.411 127.6385 -4.5375 Q127.886 -4.664 128.26 -4.664 Q128.832 -4.664 129.1125 -4.356 Q129.393 -4.048 129.503 -3.454 ZM126.962 -2.464 L131.065 -2.464 Q131.109 -3.124 130.955 -3.729 Q130.801 -4.334 130.4545 -4.807 Q130.108 -5.28 129.569 -5.5605 Q129.03 -5.841 128.304 -5.841 Q127.655 -5.841 127.1215 -5.61 Q126.588 -5.379 126.203 -4.9775 Q125.818 -4.576 125.609 -4.026 Q125.4 -3.476 125.4 -2.838 Q125.4 -2.178 125.6035 -1.628 Q125.807 -1.078 126.181 -0.682 Q126.555 -0.286 127.094 -0.0715 Q127.633 0.143 128.304 0.143 Q129.272 0.143 129.954 -0.297 Q130.636 -0.737 130.966 -1.76 L129.591 -1.76 Q129.514 -1.496 129.173 -1.2595 Q128.832 -1.023 128.359 -1.023 Q127.699 -1.023 127.347 -1.364 Q126.995 -1.705 126.962 -2.464 ZM133.199 -1.848 L131.714 -1.848 Q131.736 -1.276 131.9725 -0.8965 Q132.209 -0.517 132.5775 -0.286 Q132.946 -0.055 133.419 0.044 Q133.892 0.143 134.387 0.143 Q134.871 0.143 135.3385 0.0495 Q135.806 -0.044 136.169 -0.275 Q136.532 -0.506 136.7575 -0.8855 Q136.983 -1.265 136.983 -1.826 Q136.983 -2.222 136.829 -2.4915 Q136.675 -2.761 136.422 -2.9425 Q136.169 -3.124 135.8445 -3.234 Q135.52 -3.344 135.179 -3.421 Q134.849 -3.498 134.53 -3.564 Q134.211 -3.63 133.9635 -3.7125 Q133.716 -3.795 133.562 -3.927 Q133.408 -4.059 133.408 -4.268 Q133.408 -4.444 133.496 -4.5485 Q133.584 -4.653 133.7105 -4.708 Q133.837 -4.763 133.991 -4.7795 Q134.145 -4.796 134.277 -4.796 Q134.695 -4.796 135.003 -4.6365 Q135.311 -4.477 135.344 -4.026 L136.829 -4.026 Q136.785 -4.554 136.5595 -4.9005 Q136.334 -5.247 135.993 -5.456 Q135.652 -5.665 135.2175 -5.753 Q134.783 -5.841 134.321 -5.841 Q133.859 -5.841 133.419 -5.7585 Q132.979 -5.676 132.627 -5.4725 Q132.275 -5.269 132.0605 -4.917 Q131.846 -4.565 131.846 -4.015 Q131.846 -3.641 132 -3.3825 Q132.154 -3.124 132.407 -2.9535 Q132.66 -2.783 132.9845 -2.6785 Q133.309 -2.574 133.65 -2.497 Q134.486 -2.321 134.9535 -2.145 Q135.421 -1.969 135.421 -1.617 Q135.421 -1.408 135.322 -1.2705 Q135.223 -1.133 135.0745 -1.0505 Q134.926 -0.968 134.7445 -0.9295 Q134.563 -0.891 134.398 -0.891 Q134.167 -0.891 133.9525 -0.946 Q133.738 -1.001 133.573 -1.1165 Q133.408 -1.232 133.3035 -1.4135 Q133.199 -1.595 133.199 -1.848 ZM140.767 -1.023 Q140.393 -1.023 140.129 -1.177 Q139.865 -1.331 139.7055 -1.5785 Q139.546 -1.826 139.4745 -2.156 Q139.403 -2.486 139.403 -2.827 Q139.403 -3.179 139.469 -3.509 Q139.535 -3.839 139.6945 -4.092 Q139.854 -4.345 140.1125 -4.5045 Q140.371 -4.664 140.756 -4.664 Q141.13 -4.664 141.3885 -4.5045 Q141.647 -4.345 141.812 -4.0865 Q141.977 -3.828 142.0485 -3.498 Q142.12 -3.168 142.12 -2.827 Q142.12 -2.486 142.054 -2.156 Q141.988 -1.826 141.8285 -1.5785 Q141.669 -1.331 141.4105 -1.177 Q141.152 -1.023 140.767 -1.023 ZM137.896 -5.687 L137.896 1.991 L139.458 1.991 L139.458 -0.704 L139.48 -0.704 Q139.766 -0.286 140.2115 -0.0715 Q140.657 0.143 141.185 0.143 Q141.812 0.143 142.2795 -0.099 Q142.747 -0.341 143.0605 -0.748 Q143.374 -1.155 143.528 -1.683 Q143.682 -2.211 143.682 -2.783 Q143.682 -3.388 143.528 -3.9435 Q143.374 -4.499 143.055 -4.917 Q142.736 -5.335 142.252 -5.588 Q141.768 -5.841 141.097 -5.841 Q140.569 -5.841 140.129 -5.632 Q139.689 -5.423 139.403 -4.961 L139.381 -4.961 L139.381 -5.687 ZM146.003 -2.838 Q146.003 -3.179 146.069 -3.509 Q146.135 -3.839 146.2945 -4.092 Q146.454 -4.345 146.718 -4.5045 Q146.982 -4.664 147.378 -4.664 Q147.774 -4.664 148.0435 -4.5045 Q148.313 -4.345 148.4725 -4.092 Q148.632 -3.839 148.698 -3.509 Q148.764 -3.179 148.764 -2.838 Q148.764 -2.497 148.698 -2.1725 Q148.632 -1.848 148.4725 -1.5895 Q148.313 -1.331 148.0435 -1.177 Q147.774 -1.023 147.378 -1.023 Q146.982 -1.023 146.718 -1.177 Q146.454 -1.331 146.2945 -1.5895 Q146.135 -1.848 146.069 -2.1725 Q146.003 -2.497 146.003 -2.838 ZM144.441 -2.838 Q144.441 -2.156 144.65 -1.606 Q144.859 -1.056 145.244 -0.6655 Q145.629 -0.275 146.168 -0.066 Q146.707 0.143 147.378 0.143 Q148.049 0.143 148.5935 -0.066 Q149.138 -0.275 149.523 -0.6655 Q149.908 -1.056 150.117 -1.606 Q150.326 -2.156 150.326 -2.838 Q150.326 -3.52 150.117 -4.0755 Q149.908 -4.631 149.523 -5.0215 Q149.138 -5.412 148.5935 -5.6265 Q148.049 -5.841 147.378 -5.841 Q146.707 -5.841 146.168 -5.6265 Q145.629 -5.412 145.244 -5.0215 Q144.859 -4.631 144.65 -4.0755 Q144.441 -3.52 144.441 -2.838 ZM151.338 -5.687 L151.338 0 L152.9 0 L152.9 -2.981 Q152.9 -3.85 153.186 -4.2295 Q153.472 -4.609 154.11 -4.609 Q154.671 -4.609 154.891 -4.2625 Q155.111 -3.916 155.111 -3.212 L155.111 0 L156.673 0 L156.673 -3.498 Q156.673 -4.026 156.5795 -4.4605 Q156.486 -4.895 156.255 -5.1975 Q156.024 -5.5 155.6225 -5.6705 Q155.221 -5.841 154.594 -5.841 Q154.099 -5.841 153.626 -5.6155 Q153.153 -5.39 152.856 -4.895 L152.823 -4.895 L152.823 -5.687 ZM159.071 -1.848 L157.586 -1.848 Q157.608 -1.276 157.8445 -0.8965 Q158.081 -0.517 158.4495 -0.286 Q158.818 -0.055 159.291 0.044 Q159.764 0.143 160.259 0.143 Q160.743 0.143 161.2105 0.0495 Q161.678 -0.044 162.041 -0.275 Q162.404 -0.506 162.6295 -0.8855 Q162.855 -1.265 162.855 -1.826 Q162.855 -2.222 162.701 -2.4915 Q162.547 -2.761 162.294 -2.9425 Q162.041 -3.124 161.7165 -3.234 Q161.392 -3.344 161.051 -3.421 Q160.721 -3.498 160.402 -3.564 Q160.083 -3.63 159.8355 -3.7125 Q159.588 -3.795 159.434 -3.927 Q159.28 -4.059 159.28 -4.268 Q159.28 -4.444 159.368 -4.5485 Q159.456 -4.653 159.5825 -4.708 Q159.709 -4.763 159.863 -4.7795 Q160.017 -4.796 160.149 -4.796 Q160.567 -4.796 160.875 -4.6365 Q161.183 -4.477 161.216 -4.026 L162.701 -4.026 Q162.657 -4.554 162.4315 -4.9005 Q162.206 -5.247 161.865 -5.456 Q161.524 -5.665 161.0895 -5.753 Q160.655 -5.841 160.193 -5.841 Q159.731 -5.841 159.291 -5.7585 Q158.851 -5.676 158.499 -5.4725 Q158.147 -5.269 157.9325 -4.917 Q157.718 -4.565 157.718 -4.015 Q157.718 -3.641 157.872 -3.3825 Q158.026 -3.124 158.279 -2.9535 Q158.532 -2.783 158.8565 -2.6785 Q159.181 -2.574 159.522 -2.497 Q160.358 -2.321 160.8255 -2.145 Q161.293 -1.969 161.293 -1.617 Q161.293 -1.408 161.194 -1.2705 Q161.095 -1.133 160.9465 -1.0505 Q160.798 -0.968 160.6165 -0.9295 Q160.435 -0.891 160.27 -0.891 Q160.039 -0.891 159.8245 -0.946 Q159.61 -1.001 159.445 -1.1165 Q159.28 -1.232 159.1755 -1.4135 Q159.071 -1.595 159.071 -1.848 ZM167.596 -3.454 L165.055 -3.454 Q165.066 -3.619 165.1265 -3.828 Q165.187 -4.037 165.3355 -4.224 Q165.484 -4.411 165.7315 -4.5375 Q165.979 -4.664 166.353 -4.664 Q166.925 -4.664 167.2055 -4.356 Q167.486 -4.048 167.596 -3.454 ZM165.055 -2.464 L169.158 -2.464 Q169.202 -3.124 169.048 -3.729 Q168.894 -4.334 168.5475 -4.807 Q168.201 -5.28 167.662 -5.5605 Q167.123 -5.841 166.397 -5.841 Q165.748 -5.841 165.2145 -5.61 Q164.681 -5.379 164.296 -4.9775 Q163.911 -4.576 163.702 -4.026 Q163.493 -3.476 163.493 -2.838 Q163.493 -2.178 163.6965 -1.628 Q163.9 -1.078 164.274 -0.682 Q164.648 -0.286 165.187 -0.0715 Q165.726 0.143 166.397 0.143 Q167.365 0.143 168.047 -0.297 Q168.729 -0.737 169.059 -1.76 L167.684 -1.76 Q167.607 -1.496 167.266 -1.2595 Q166.925 -1.023 166.452 -1.023 Q165.792 -1.023 165.44 -1.364 Q165.088 -1.705 165.055 -2.464 ZM173.481 -4.642 L173.481 0 L175.043 0 L175.043 -4.642 L176.121 -4.642 L176.121 -5.687 L175.043 -5.687 L175.043 -6.028 Q175.043 -6.38 175.1805 -6.5285 Q175.318 -6.677 175.637 -6.677 Q175.934 -6.677 176.209 -6.644 L176.209 -7.81 Q176.011 -7.821 175.802 -7.8375 Q175.593 -7.854 175.384 -7.854 Q174.427 -7.854 173.954 -7.37 Q173.481 -6.886 173.481 -6.127 L173.481 -5.687 L172.546 -5.687 L172.546 -4.642 ZM178.189 -2.838 Q178.189 -3.179 178.255 -3.509 Q178.321 -3.839 178.4805 -4.092 Q178.64 -4.345 178.904 -4.5045 Q179.168 -4.664 179.564 -4.664 Q179.96 -4.664 180.2295 -4.5045 Q180.499 -4.345 180.6585 -4.092 Q180.818 -3.839 180.884 -3.509 Q180.95 -3.179 180.95 -2.838 Q180.95 -2.497 180.884 -2.1725 Q180.818 -1.848 180.6585 -1.5895 Q180.499 -1.331 180.2295 -1.177 Q179.96 -1.023 179.564 -1.023 Q179.168 -1.023 178.904 -1.177 Q178.64 -1.331 178.4805 -1.5895 Q178.321 -1.848 178.255 -2.1725 Q178.189 -2.497 178.189 -2.838 ZM176.627 -2.838 Q176.627 -2.156 176.836 -1.606 Q177.045 -1.056 177.43 -0.6655 Q177.815 -0.275 178.354 -0.066 Q178.893 0.143 179.564 0.143 Q180.235 0.143 180.7795 -0.066 Q181.324 -0.275 181.709 -0.6655 Q182.094 -1.056 182.303 -1.606 Q182.512 -2.156 182.512 -2.838 Q182.512 -3.52 182.303 -4.0755 Q182.094 -4.631 181.709 -5.0215 Q181.324 -5.412 180.7795 -5.6265 Q180.235 -5.841 179.564 -5.841 Q178.893 -5.841 178.354 -5.6265 Q177.815 -5.412 177.43 -5.0215 Q177.045 -4.631 176.836 -4.0755 Q176.627 -3.52 176.627 -2.838 ZM183.524 -5.687 L183.524 0 L185.086 0 L185.086 -2.563 Q185.086 -2.948 185.163 -3.278 Q185.24 -3.608 185.4215 -3.8555 Q185.603 -4.103 185.9 -4.246 Q186.197 -4.389 186.626 -4.389 Q186.769 -4.389 186.923 -4.3725 Q187.077 -4.356 187.187 -4.334 L187.187 -5.786 Q187 -5.841 186.846 -5.841 Q186.549 -5.841 186.274 -5.753 Q185.999 -5.665 185.757 -5.5055 Q185.515 -5.346 185.328 -5.1205 Q185.141 -4.895 185.031 -4.631 L185.009 -4.631 L185.009 -5.687 ZM190.674 -4.741 L192.17 -4.741 Q192.17 -5.049 192.2305 -5.3625 Q192.291 -5.676 192.434 -5.9345 Q192.577 -6.193 192.8135 -6.3525 Q193.05 -6.512 193.391 -6.512 Q193.897 -6.512 194.2215 -6.1985 Q194.546 -5.885 194.546 -5.324 Q194.546 -4.972 194.3865 -4.697 Q194.227 -4.422 193.9905 -4.202 Q193.754 -3.982 193.468 -3.8005 Q193.182 -3.619 192.929 -3.443 Q192.434 -3.102 191.9885 -2.772 Q191.543 -2.442 191.213 -2.0515 Q190.883 -1.661 190.6905 -1.166 Q190.498 -0.671 190.498 0 L196.152 0 L196.152 -1.342 L192.511 -1.342 Q192.797 -1.738 193.171 -2.035 Q193.545 -2.332 193.941 -2.5905 Q194.337 -2.849 194.7275 -3.113 Q195.118 -3.377 195.426 -3.7015 Q195.734 -4.026 195.921 -4.444 Q196.108 -4.862 196.108 -5.445 Q196.108 -6.006 195.8935 -6.457 Q195.679 -6.908 195.316 -7.216 Q194.953 -7.524 194.4745 -7.689 Q193.996 -7.854 193.468 -7.854 Q192.775 -7.854 192.2415 -7.6175 Q191.708 -7.381 191.356 -6.9575 Q191.004 -6.534 190.828 -5.9675 Q190.652 -5.401 190.674 -4.741 ZM196.977 -5.687 L196.977 0 L198.539 0 L198.539 -2.981 Q198.539 -3.85 198.825 -4.2295 Q199.111 -4.609 199.749 -4.609 Q200.31 -4.609 200.53 -4.2625 Q200.75 -3.916 200.75 -3.212 L200.75 0 L202.312 0 L202.312 -3.498 Q202.312 -4.026 202.2185 -4.4605 Q202.125 -4.895 201.894 -5.1975 Q201.663 -5.5 201.2615 -5.6705 Q200.86 -5.841 200.233 -5.841 Q199.738 -5.841 199.265 -5.6155 Q198.792 -5.39 198.495 -4.895 L198.462 -4.895 L198.462 -5.687 ZM207.537 -2.86 Q207.537 -2.508 207.471 -2.178 Q207.405 -1.848 207.251 -1.5895 Q207.097 -1.331 206.8385 -1.177 Q206.58 -1.023 206.195 -1.023 Q205.832 -1.023 205.5735 -1.1825 Q205.315 -1.342 205.1445 -1.6005 Q204.974 -1.859 204.897 -2.189 Q204.82 -2.519 204.82 -2.849 Q204.82 -3.201 204.8915 -3.5255 Q204.963 -3.85 205.1225 -4.103 Q205.282 -4.356 205.546 -4.51 Q205.81 -4.664 206.195 -4.664 Q206.58 -4.664 206.833 -4.51 Q207.086 -4.356 207.2455 -4.1085 Q207.405 -3.861 207.471 -3.5365 Q207.537 -3.212 207.537 -2.86 ZM207.559 -0.726 L207.559 0 L209.044 0 L209.044 -7.854 L207.482 -7.854 L207.482 -4.994 L207.46 -4.994 Q207.196 -5.412 206.7395 -5.6265 Q206.283 -5.841 205.777 -5.841 Q205.15 -5.841 204.677 -5.5935 Q204.204 -5.346 203.8905 -4.939 Q203.577 -4.532 203.4175 -3.9985 Q203.258 -3.465 203.258 -2.893 Q203.258 -2.299 203.4175 -1.749 Q203.577 -1.199 203.8905 -0.7755 Q204.204 -0.352 204.688 -0.1045 Q205.172 0.143 205.81 0.143 Q206.371 0.143 206.8165 -0.0605 Q207.262 -0.264 207.537 -0.726 ZM210.21 -3.674 L210.21 -2.332 L213.521 -2.332 L213.521 -3.674 ZM216.249 -3.894 Q216.249 -4.411 216.3645 -4.895 Q216.48 -5.379 216.733 -5.7585 Q216.986 -6.138 217.393 -6.3635 Q217.8 -6.589 218.383 -6.589 Q218.966 -6.589 219.373 -6.3635 Q219.78 -6.138 220.033 -5.7585 Q220.286 -5.379 220.4015 -4.895 Q220.517 -4.411 220.517 -3.894 Q220.517 -3.399 220.4015 -2.9315 Q220.286 -2.464 220.033 -2.09 Q219.78 -1.716 219.373 -1.4905 Q218.966 -1.265 218.383 -1.265 Q217.8 -1.265 217.393 -1.4905 Q216.986 -1.716 216.733 -2.09 Q216.48 -2.464 216.3645 -2.9315 Q216.249 -3.399 216.249 -3.894 ZM214.522 -3.894 Q214.522 -3.036 214.786 -2.2935 Q215.05 -1.551 215.545 -1.001 Q216.04 -0.451 216.7605 -0.1375 Q217.481 0.176 218.383 0.176 Q219.296 0.176 220.011 -0.1375 Q220.726 -0.451 221.221 -1.001 Q221.716 -1.551 221.98 -2.2935 Q222.244 -3.036 222.244 -3.894 Q222.244 -4.774 221.98 -5.5275 Q221.716 -6.281 221.221 -6.842 Q220.726 -7.403 220.011 -7.722 Q219.296 -8.041 218.383 -8.041 Q217.481 -8.041 216.7605 -7.722 Q216.04 -7.403 215.545 -6.842 Q215.05 -6.281 214.786 -5.5275 Q214.522 -4.774 214.522 -3.894 ZM223.256 -5.687 L223.256 0 L224.818 0 L224.818 -2.563 Q224.818 -2.948 224.895 -3.278 Q224.972 -3.608 225.1535 -3.8555 Q225.335 -4.103 225.632 -4.246 Q225.929 -4.389 226.358 -4.389 Q226.501 -4.389 226.655 -4.3725 Q226.809 -4.356 226.919 -4.334 L226.919 -5.786 Q226.732 -5.841 226.578 -5.841 Q226.281 -5.841 226.006 -5.753 Q225.731 -5.665 225.489 -5.5055 Q225.247 -5.346 225.06 -5.1205 Q224.873 -4.895 224.763 -4.631 L224.741 -4.631 L224.741 -5.687 ZM231.572 -2.86 Q231.572 -2.508 231.506 -2.178 Q231.44 -1.848 231.286 -1.5895 Q231.132 -1.331 230.8735 -1.177 Q230.615 -1.023 230.23 -1.023 Q229.867 -1.023 229.6085 -1.1825 Q229.35 -1.342 229.1795 -1.6005 Q229.009 -1.859 228.932 -2.189 Q228.855 -2.519 228.855 -2.849 Q228.855 -3.201 228.9265 -3.5255 Q228.998 -3.85 229.1575 -4.103 Q229.317 -4.356 229.581 -4.51 Q229.845 -4.664 230.23 -4.664 Q230.615 -4.664 230.868 -4.51 Q231.121 -4.356 231.2805 -4.1085 Q231.44 -3.861 231.506 -3.5365 Q231.572 -3.212 231.572 -2.86 ZM231.594 -0.726 L231.594 0 L233.079 0 L233.079 -7.854 L231.517 -7.854 L231.517 -4.994 L231.495 -4.994 Q231.231 -5.412 230.7745 -5.6265 Q230.318 -5.841 229.812 -5.841 Q229.185 -5.841 228.712 -5.5935 Q228.239 -5.346 227.9255 -4.939 Q227.612 -4.532 227.4525 -3.9985 Q227.293 -3.465 227.293 -2.893 Q227.293 -2.299 227.4525 -1.749 Q227.612 -1.199 227.9255 -0.7755 Q228.239 -0.352 228.723 -0.1045 Q229.207 0.143 229.845 0.143 Q230.406 0.143 230.8515 -0.0605 Q231.297 -0.264 231.572 -0.726 ZM238.084 -3.454 L235.543 -3.454 Q235.554 -3.619 235.6145 -3.828 Q235.675 -4.037 235.8235 -4.224 Q235.972 -4.411 236.2195 -4.5375 Q236.467 -4.664 236.841 -4.664 Q237.413 -4.664 237.6935 -4.356 Q237.974 -4.048 238.084 -3.454 ZM235.543 -2.464 L239.646 -2.464 Q239.69 -3.124 239.536 -3.729 Q239.382 -4.334 239.0355 -4.807 Q238.689 -5.28 238.15 -5.5605 Q237.611 -5.841 236.885 -5.841 Q236.236 -5.841 235.7025 -5.61 Q235.169 -5.379 234.784 -4.9775 Q234.399 -4.576 234.19 -4.026 Q233.981 -3.476 233.981 -2.838 Q233.981 -2.178 234.1845 -1.628 Q234.388 -1.078 234.762 -0.682 Q235.136 -0.286 235.675 -0.0715 Q236.214 0.143 236.885 0.143 Q237.853 0.143 238.535 -0.297 Q239.217 -0.737 239.547 -1.76 L238.172 -1.76 Q238.095 -1.496 237.754 -1.2595 Q237.413 -1.023 236.94 -1.023 Q236.28 -1.023 235.928 -1.364 Q235.576 -1.705 235.543 -2.464 ZM240.57 -5.687 L240.57 0 L242.132 0 L242.132 -2.563 Q242.132 -2.948 242.209 -3.278 Q242.286 -3.608 242.4675 -3.8555 Q242.649 -4.103 242.946 -4.246 Q243.243 -4.389 243.672 -4.389 Q243.815 -4.389 243.969 -4.3725 Q244.123 -4.356 244.233 -4.334 L244.233 -5.786 Q244.046 -5.841 243.892 -5.841 Q243.595 -5.841 243.32 -5.753 Q243.045 -5.665 242.803 -5.5055 Q242.561 -5.346 242.374 -5.1205 Q242.187 -4.895 242.077 -4.631 L242.055 -4.631 L242.055 -5.687 ZM248.072 -7.854 L248.072 0 L253.627 0 L253.627 -1.452 L249.799 -1.452 L249.799 -7.854 ZM256.322 -4.158 L256.322 -6.512 L257.664 -6.512 Q257.961 -6.512 258.236 -6.468 Q258.511 -6.424 258.72 -6.2975 Q258.929 -6.171 259.0555 -5.94 Q259.182 -5.709 259.182 -5.335 Q259.182 -4.961 259.0555 -4.73 Q258.929 -4.499 258.72 -4.3725 Q258.511 -4.246 258.236 -4.202 Q257.961 -4.158 257.664 -4.158 ZM254.595 -7.854 L254.595 0 L256.322 0 L256.322 -2.816 L258.137 -2.816 Q258.874 -2.816 259.391 -3.0305 Q259.908 -3.245 260.2325 -3.597 Q260.557 -3.949 260.7055 -4.4055 Q260.854 -4.862 260.854 -5.335 Q260.854 -5.819 260.7055 -6.27 Q260.557 -6.721 260.2325 -7.073 Q259.908 -7.425 259.391 -7.6395 Q258.874 -7.854 258.137 -7.854 ZM266.717 -4.675 L266.717 -6.512 L268.334 -6.512 Q268.565 -6.512 268.7795 -6.4735 Q268.994 -6.435 269.159 -6.336 Q269.324 -6.237 269.423 -6.061 Q269.522 -5.885 269.522 -5.61 Q269.522 -5.115 269.225 -4.895 Q268.928 -4.675 268.466 -4.675 ZM264.99 -7.854 L264.99 0 L268.796 0 Q269.324 0 269.8245 -0.132 Q270.325 -0.264 270.7155 -0.539 Q271.106 -0.814 271.337 -1.2485 Q271.568 -1.683 271.568 -2.277 Q271.568 -3.014 271.2105 -3.5365 Q270.853 -4.059 270.127 -4.268 Q270.655 -4.521 270.9245 -4.917 Q271.194 -5.313 271.194 -5.907 Q271.194 -6.457 271.0125 -6.831 Q270.831 -7.205 270.501 -7.4305 Q270.171 -7.656 269.709 -7.755 Q269.247 -7.854 268.686 -7.854 ZM266.717 -1.342 L266.717 -3.498 L268.598 -3.498 Q269.159 -3.498 269.5 -3.2395 Q269.841 -2.981 269.841 -2.376 Q269.841 -2.068 269.7365 -1.87 Q269.632 -1.672 269.456 -1.5565 Q269.28 -1.441 269.049 -1.3915 Q268.818 -1.342 268.565 -1.342 ZM277.904 0 L277.904 -5.687 L276.342 -5.687 L276.342 -2.706 Q276.342 -1.837 276.056 -1.4575 Q275.77 -1.078 275.132 -1.078 Q274.571 -1.078 274.351 -1.4245 Q274.131 -1.771 274.131 -2.475 L274.131 -5.687 L272.569 -5.687 L272.569 -2.189 Q272.569 -1.661 272.6625 -1.2265 Q272.756 -0.792 272.987 -0.4895 Q273.218 -0.187 273.6195 -0.022 Q274.021 0.143 274.648 0.143 Q275.143 0.143 275.616 -0.077 Q276.089 -0.297 276.386 -0.792 L276.419 -0.792 L276.419 0 ZM281.072 -5.687 L281.072 -7.392 L279.51 -7.392 L279.51 -5.687 L278.564 -5.687 L278.564 -4.642 L279.51 -4.642 L279.51 -1.287 Q279.51 -0.858 279.653 -0.594 Q279.796 -0.33 280.0435 -0.187 Q280.291 -0.044 280.6155 0.0055 Q280.94 0.055 281.303 0.055 Q281.534 0.055 281.776 0.044 Q282.018 0.033 282.216 0 L282.216 -1.21 Q282.106 -1.188 281.985 -1.177 Q281.864 -1.166 281.732 -1.166 Q281.336 -1.166 281.204 -1.298 Q281.072 -1.43 281.072 -1.826 L281.072 -4.642 L282.216 -4.642 L282.216 -5.687 ZM284.944 -5.687 L284.944 -7.392 L283.382 -7.392 L283.382 -5.687 L282.436 -5.687 L282.436 -4.642 L283.382 -4.642 L283.382 -1.287 Q283.382 -0.858 283.525 -0.594 Q283.668 -0.33 283.9155 -0.187 Q284.163 -0.044 284.4875 0.0055 Q284.812 0.055 285.175 0.055 Q285.406 0.055 285.648 0.044 Q285.89 0.033 286.088 0 L286.088 -1.21 Q285.978 -1.188 285.857 -1.177 Q285.736 -1.166 285.604 -1.166 Q285.208 -1.166 285.076 -1.298 Q284.944 -1.43 284.944 -1.826 L284.944 -4.642 L286.088 -4.642 L286.088 -5.687 ZM290.664 -3.454 L288.123 -3.454 Q288.134 -3.619 288.1945 -3.828 Q288.255 -4.037 288.4035 -4.224 Q288.552 -4.411 288.7995 -4.5375 Q289.047 -4.664 289.421 -4.664 Q289.993 -4.664 290.2735 -4.356 Q290.554 -4.048 290.664 -3.454 ZM288.123 -2.464 L292.226 -2.464 Q292.27 -3.124 292.116 -3.729 Q291.962 -4.334 291.6155 -4.807 Q291.269 -5.28 290.73 -5.5605 Q290.191 -5.841 289.465 -5.841 Q288.816 -5.841 288.2825 -5.61 Q287.749 -5.379 287.364 -4.9775 Q286.979 -4.576 286.77 -4.026 Q286.561 -3.476 286.561 -2.838 Q286.561 -2.178 286.7645 -1.628 Q286.968 -1.078 287.342 -0.682 Q287.716 -0.286 288.255 -0.0715 Q288.794 0.143 289.465 0.143 Q290.433 0.143 291.115 -0.297 Q291.797 -0.737 292.127 -1.76 L290.752 -1.76 Q290.675 -1.496 290.334 -1.2595 Q289.993 -1.023 289.52 -1.023 Q288.86 -1.023 288.508 -1.364 Q288.156 -1.705 288.123 -2.464 ZM293.15 -5.687 L293.15 0 L294.712 0 L294.712 -2.563 Q294.712 -2.948 294.789 -3.278 Q294.866 -3.608 295.0475 -3.8555 Q295.229 -4.103 295.526 -4.246 Q295.823 -4.389 296.252 -4.389 Q296.395 -4.389 296.549 -4.3725 Q296.703 -4.356 296.813 -4.334 L296.813 -5.786 Q296.626 -5.841 296.472 -5.841 Q296.175 -5.841 295.9 -5.753 Q295.625 -5.665 295.383 -5.5055 Q295.141 -5.346 294.954 -5.1205 Q294.767 -4.895 294.657 -4.631 L294.635 -4.631 L294.635 -5.687 ZM303.93 0 L305.723 -5.687 L304.117 -5.687 L303.072 -1.837 L303.05 -1.837 L302.082 -5.687 L300.564 -5.687 L299.618 -1.826 L299.596 -1.826 L298.551 -5.687 L296.901 -5.687 L298.705 0 L300.322 0 L301.29 -3.817 L301.312 -3.817 L302.324 0 ZM307.769 -2.838 Q307.769 -3.179 307.835 -3.509 Q307.901 -3.839 308.0605 -4.092 Q308.22 -4.345 308.484 -4.5045 Q308.748 -4.664 309.144 -4.664 Q309.54 -4.664 309.8095 -4.5045 Q310.079 -4.345 310.2385 -4.092 Q310.398 -3.839 310.464 -3.509 Q310.53 -3.179 310.53 -2.838 Q310.53 -2.497 310.464 -2.1725 Q310.398 -1.848 310.2385 -1.5895 Q310.079 -1.331 309.8095 -1.177 Q309.54 -1.023 309.144 -1.023 Q308.748 -1.023 308.484 -1.177 Q308.22 -1.331 308.0605 -1.5895 Q307.901 -1.848 307.835 -2.1725 Q307.769 -2.497 307.769 -2.838 ZM306.207 -2.838 Q306.207 -2.156 306.416 -1.606 Q306.625 -1.056 307.01 -0.6655 Q307.395 -0.275 307.934 -0.066 Q308.473 0.143 309.144 0.143 Q309.815 0.143 310.3595 -0.066 Q310.904 -0.275 311.289 -0.6655 Q311.674 -1.056 311.883 -1.606 Q312.092 -2.156 312.092 -2.838 Q312.092 -3.52 311.883 -4.0755 Q311.674 -4.631 311.289 -5.0215 Q310.904 -5.412 310.3595 -5.6265 Q309.815 -5.841 309.144 -5.841 Q308.473 -5.841 307.934 -5.6265 Q307.395 -5.412 307.01 -5.0215 Q306.625 -4.631 306.416 -4.0755 Q306.207 -3.52 306.207 -2.838 ZM313.104 -5.687 L313.104 0 L314.666 0 L314.666 -2.563 Q314.666 -2.948 314.743 -3.278 Q314.82 -3.608 315.0015 -3.8555 Q315.183 -4.103 315.48 -4.246 Q315.777 -4.389 316.206 -4.389 Q316.349 -4.389 316.503 -4.3725 Q316.657 -4.356 316.767 -4.334 L316.767 -5.786 Q316.58 -5.841 316.426 -5.841 Q316.129 -5.841 315.854 -5.753 Q315.579 -5.665 315.337 -5.5055 Q315.095 -5.346 314.908 -5.1205 Q314.721 -4.895 314.611 -4.631 L314.589 -4.631 L314.589 -5.687 ZM319.363 -5.687 L319.363 -7.392 L317.801 -7.392 L317.801 -5.687 L316.855 -5.687 L316.855 -4.642 L317.801 -4.642 L317.801 -1.287 Q317.801 -0.858 317.944 -0.594 Q318.087 -0.33 318.3345 -0.187 Q318.582 -0.044 318.9065 0.0055 Q319.231 0.055 319.594 0.055 Q319.825 0.055 320.067 0.044 Q320.309 0.033 320.507 0 L320.507 -1.21 Q320.397 -1.188 320.276 -1.177 Q320.155 -1.166 320.023 -1.166 Q319.627 -1.166 319.495 -1.298 Q319.363 -1.43 319.363 -1.826 L319.363 -4.642 L320.507 -4.642 L320.507 -5.687 ZM321.255 -7.854 L321.255 0 L322.817 0 L322.817 -2.981 Q322.817 -3.85 323.103 -4.2295 Q323.389 -4.609 324.027 -4.609 Q324.588 -4.609 324.808 -4.2625 Q325.028 -3.916 325.028 -3.212 L325.028 0 L326.59 0 L326.59 -3.498 Q326.59 -4.026 326.4965 -4.4605 Q326.403 -4.895 326.172 -5.1975 Q325.941 -5.5 325.5395 -5.6705 Q325.138 -5.841 324.511 -5.841 Q324.071 -5.841 323.609 -5.6155 Q323.147 -5.39 322.85 -4.895 L322.817 -4.895 L322.817 -7.854 ZM331.001 -7.854 L331.001 0 L332.728 0 L332.728 -3.245 L336.017 -3.245 L336.017 -4.587 L332.728 -4.587 L332.728 -6.402 L336.523 -6.402 L336.523 -7.854 ZM338.9651 -6.567 L338.9651 -7.854 L337.403 -7.854 L337.403 -6.567 ZM337.403 -5.687 L337.403 0 L338.9651 0 L338.9651 -5.687 ZM340.2411 -7.854 L340.2411 0 L341.8031 0 L341.8031 -7.854 ZM345.0151 -5.687 L345.0151 -7.392 L343.4531 -7.392 L343.4531 -5.687 L342.5071 -5.687 L342.5071 -4.642 L343.4531 -4.642 L343.4531 -1.287 Q343.4531 -0.858 343.5961 -0.594 Q343.7391 -0.33 343.9866 -0.187 Q344.2341 -0.044 344.5586 0.0055 Q344.8831 0.055 345.2461 0.055 Q345.4771 0.055 345.7191 0.044 Q345.9611 0.033 346.1591 0 L346.1591 -1.21 Q346.0491 -1.188 345.9281 -1.177 Q345.8071 -1.166 345.6751 -1.166 Q345.2791 -1.166 345.1471 -1.298 Q345.0151 -1.43 345.0151 -1.826 L345.0151 -4.642 L346.1591 -4.642 L346.1591 -5.687 ZM350.7351 -3.454 L348.1941 -3.454 Q348.2051 -3.619 348.2656 -3.828 Q348.3261 -4.037 348.4746 -4.224 Q348.6231 -4.411 348.8706 -4.5375 Q349.1181 -4.664 349.4921 -4.664 Q350.0641 -4.664 350.3446 -4.356 Q350.6251 -4.048 350.7351 -3.454 ZM348.1941 -2.464 L352.2971 -2.464 Q352.3411 -3.124 352.1871 -3.729 Q352.0331 -4.334 351.6866 -4.807 Q351.3401 -5.28 350.8011 -5.5605 Q350.2621 -5.841 349.5361 -5.841 Q348.8871 -5.841 348.3536 -5.61 Q347.8201 -5.379 347.4351 -4.9775 Q347.0501 -4.576 346.8411 -4.026 Q346.6321 -3.476 346.6321 -2.838 Q346.6321 -2.178 346.8356 -1.628 Q347.0391 -1.078 347.4131 -0.682 Q347.7871 -0.286 348.3261 -0.0715 Q348.8651 0.143 349.5361 0.143 Q350.5041 0.143 351.1861 -0.297 Q351.8681 -0.737 352.1981 -1.76 L350.8231 -1.76 Q350.7461 -1.496 350.4051 -1.2595 Q350.0641 -1.023 349.5911 -1.023 Q348.9311 -1.023 348.5791 -1.364 Q348.2271 -1.705 348.1941 -2.464 ZM353.2211 -5.687 L353.2211 0 L354.7831 0 L354.7831 -2.563 Q354.7831 -2.948 354.8601 -3.278 Q354.9371 -3.608 355.1186 -3.8555 Q355.3001 -4.103 355.5971 -4.246 Q355.8941 -4.389 356.3231 -4.389 Q356.4661 -4.389 356.6201 -4.3725 Q356.7741 -4.356 356.8841 -4.334 L356.8841 -5.786 Q356.6971 -5.841 356.5431 -5.841 Q356.2461 -5.841 355.9711 -5.753 Q355.6961 -5.665 355.4541 -5.5055 Q355.2121 -5.346 355.0251 -5.1205 Q354.8381 -4.895 354.7281 -4.631 L354.7061 -4.631 L354.7061 -5.687 ZM363.2971 -8.041 L361.9881 -8.041 Q361.6251 -7.513 361.3556 -6.886 Q361.0861 -6.259 360.9046 -5.588 Q360.7231 -4.917 360.6296 -4.2405 Q360.5361 -3.564 360.5361 -2.948 Q360.5361 -1.65 360.9156 -0.396 Q361.2951 0.858 361.9881 1.991 L363.2861 1.991 Q362.6591 0.792 362.3786 -0.473 Q362.0981 -1.738 362.0981 -3.058 Q362.0981 -4.356 362.3841 -5.6155 Q362.6701 -6.875 363.2971 -8.041 Z\"\n",
       "    /></g\n",
       "    ><g transform=\"translate(432,21)\" style=\"font-size:11px; text-rendering:geometricPrecision; image-rendering:optimizeQuality; color-rendering:optimizeQuality; font-family:'mwa_cmmi10'; color-interpolation:linearRGB; font-weight:bold;\"\n",
       "    ><path style=\"stroke:none;\" d=\"M1.3281 0.125 Q0.7031 0.125 0.4297 -0.3359 Q0.1562 -0.7969 0.1562 -1.4531 Q0.1562 -1.8906 0.2344 -2.3047 Q0.3125 -2.7188 0.4688 -3.1484 Q0.625 -3.5781 0.8281 -3.9453 Q1.0312 -4.3125 1.2969 -4.6719 Q1.3438 -4.75 1.4219 -4.75 Q2.4844 -4.75 2.5312 -4.7031 Q2.5781 -4.6562 2.5781 -4.5938 Q2.5781 -4.5312 2.5469 -4.4844 Q1.5312 -3.1094 1.5312 -1.9375 Q1.5312 -1.4375 1.7656 -1.0781 Q2 -0.7188 2 -0.7188 Q2 -0.7188 2.2969 -0.9609 Q2.5938 -1.2031 2.8594 -1.5781 Q2.8594 -1.7656 2.9219 -2.1719 Q2.9844 -2.5781 3.1328 -2.8984 Q3.2812 -3.2188 3.4688 -3.2188 Q4.7344 -3.2188 4.7344 -2.9219 Q4.7344 -2.75 4.6562 -2.4922 Q4.5781 -2.2344 4.4922 -2.0078 Q4.4062 -1.7812 4.2812 -1.5 Q4.4062 -0.7188 4.4062 -0.7188 Q4.4375 -0.7188 4.8203 -0.9375 Q5.2031 -1.1562 5.5 -1.5156 Q5.7969 -1.875 5.9688 -2.2891 Q6.1406 -2.7031 6.1406 -3.0625 Q6.1406 -3.4062 6.0391 -3.5859 Q5.9375 -3.7656 5.7656 -3.9688 Q5.5938 -4.1719 5.5938 -4.2969 Q5.5938 -4.5156 5.7734 -4.6953 Q5.9531 -4.875 6.1562 -4.875 Q7.4219 -4.875 7.5391 -4.6328 Q7.6562 -4.3906 7.6562 -4.0781 Q7.6562 -3.5625 7.4531 -2.7969 Q7.25 -2.0312 7 -1.5156 Q6.6406 -0.8281 6.1094 -0.3516 Q5.5781 0.125 3.9062 0.125 Q3.4844 0.125 3.2188 -0.1328 Q2.9531 -0.3906 2.9531 -0.3906 Q2.9531 -0.3906 2.875 -0.1328 Q2.7969 0.125 1.3281 0.125 Z\"\n",
       "    /></g\n",
       "    ><g transform=\"translate(440,26)\" style=\"font-size:8.8px; text-rendering:geometricPrecision; image-rendering:optimizeQuality; color-rendering:optimizeQuality; font-family:'Helvetica Neue'; color-interpolation:linearRGB; font-weight:bold;\"\n",
       "    ><path style=\"stroke:none;\" d=\"M3.5728 -2.948 L4.796 -2.948 Q4.7696 -3.388 4.5848 -3.7092 Q4.4 -4.0304 4.1052 -4.246 Q3.8104 -4.4616 3.4364 -4.5672 Q3.0624 -4.6728 2.6576 -4.6728 Q2.1032 -4.6728 1.672 -4.488 Q1.2408 -4.3032 0.9416 -3.9732 Q0.6424 -3.6432 0.4884 -3.19 Q0.3344 -2.7368 0.3344 -2.2088 Q0.3344 -1.6984 0.5016 -1.2716 Q0.6688 -0.8448 0.968 -0.5368 Q1.2672 -0.2288 1.694 -0.0572 Q2.1208 0.1144 2.6312 0.1144 Q3.5376 0.1144 4.1184 -0.3608 Q4.6992 -0.836 4.8224 -1.7424 L3.6168 -1.7424 Q3.5552 -1.32 3.3132 -1.0692 Q3.0712 -0.8184 2.6224 -0.8184 Q2.332 -0.8184 2.1296 -0.9504 Q1.9272 -1.0824 1.8084 -1.2892 Q1.6896 -1.496 1.6368 -1.7512 Q1.584 -2.0064 1.584 -2.2528 Q1.584 -2.508 1.6368 -2.7676 Q1.6896 -3.0272 1.8172 -3.2428 Q1.9448 -3.4584 2.1472 -3.5948 Q2.3496 -3.7312 2.6488 -3.7312 Q3.4496 -3.7312 3.5728 -2.948 Z\"\n",
       "    /></g\n",
       "    ><g transform=\"translate(446,21)\" style=\"font-size:11px; text-rendering:geometricPrecision; image-rendering:optimizeQuality; color-rendering:optimizeQuality; font-family:'Helvetica Neue'; color-interpolation:linearRGB; font-weight:bold;\"\n",
       "    ><path style=\"stroke:none;\" d=\"M9.141 -1.012 L9.141 -2.189 L3.586 -2.189 L3.586 -1.012 ZM9.141 -3.366 L9.141 -4.543 L3.586 -4.543 L3.586 -3.366 ZM17.028 0 L17.028 -7.7 L15.785 -7.7 Q15.719 -7.26 15.51 -6.963 Q15.301 -6.666 14.9985 -6.4845 Q14.696 -6.303 14.3165 -6.2315 Q13.937 -6.16 13.53 -6.171 L13.53 -4.994 L15.466 -4.994 L15.466 0 ZM20.625 -3.883 Q20.625 -4.081 20.6305 -4.3615 Q20.636 -4.642 20.669 -4.939 Q20.702 -5.236 20.779 -5.5275 Q20.856 -5.819 20.9935 -6.05 Q21.131 -6.281 21.3455 -6.424 Q21.56 -6.567 21.879 -6.567 Q22.198 -6.567 22.418 -6.424 Q22.638 -6.281 22.781 -6.05 Q22.924 -5.819 22.9955 -5.5275 Q23.067 -5.236 23.1055 -4.939 Q23.144 -4.642 23.1495 -4.3615 Q23.155 -4.081 23.155 -3.883 Q23.155 -3.553 23.133 -3.0855 Q23.111 -2.618 22.9955 -2.1835 Q22.88 -1.749 22.6215 -1.441 Q22.363 -1.133 21.879 -1.133 Q21.406 -1.133 21.153 -1.441 Q20.9 -1.749 20.7845 -2.1835 Q20.669 -2.618 20.647 -3.0855 Q20.625 -3.553 20.625 -3.883 ZM19.063 -3.883 Q19.063 -2.728 19.2885 -1.9525 Q19.514 -1.177 19.899 -0.715 Q20.284 -0.253 20.7955 -0.055 Q21.307 0.143 21.879 0.143 Q22.462 0.143 22.9735 -0.055 Q23.485 -0.253 23.8755 -0.715 Q24.266 -1.177 24.4915 -1.9525 Q24.717 -2.728 24.717 -3.883 Q24.717 -5.005 24.4915 -5.7695 Q24.266 -6.534 23.8755 -6.996 Q23.485 -7.458 22.9735 -7.656 Q22.462 -7.854 21.879 -7.854 Q21.307 -7.854 20.7955 -7.656 Q20.284 -7.458 19.899 -6.996 Q19.514 -6.534 19.2885 -5.7695 Q19.063 -5.005 19.063 -3.883 ZM26.741 -3.883 Q26.741 -4.081 26.7465 -4.3615 Q26.752 -4.642 26.785 -4.939 Q26.818 -5.236 26.895 -5.5275 Q26.972 -5.819 27.1095 -6.05 Q27.247 -6.281 27.4615 -6.424 Q27.676 -6.567 27.995 -6.567 Q28.314 -6.567 28.534 -6.424 Q28.754 -6.281 28.897 -6.05 Q29.04 -5.819 29.1115 -5.5275 Q29.183 -5.236 29.2215 -4.939 Q29.26 -4.642 29.2655 -4.3615 Q29.271 -4.081 29.271 -3.883 Q29.271 -3.553 29.249 -3.0855 Q29.227 -2.618 29.1115 -2.1835 Q28.996 -1.749 28.7375 -1.441 Q28.479 -1.133 27.995 -1.133 Q27.522 -1.133 27.269 -1.441 Q27.016 -1.749 26.9005 -2.1835 Q26.785 -2.618 26.763 -3.0855 Q26.741 -3.553 26.741 -3.883 ZM25.179 -3.883 Q25.179 -2.728 25.4045 -1.9525 Q25.63 -1.177 26.015 -0.715 Q26.4 -0.253 26.9115 -0.055 Q27.423 0.143 27.995 0.143 Q28.578 0.143 29.0895 -0.055 Q29.601 -0.253 29.9915 -0.715 Q30.382 -1.177 30.6075 -1.9525 Q30.833 -2.728 30.833 -3.883 Q30.833 -5.005 30.6075 -5.7695 Q30.382 -6.534 29.9915 -6.996 Q29.601 -7.458 29.0895 -7.656 Q28.578 -7.854 27.995 -7.854 Q27.423 -7.854 26.9115 -7.656 Q26.4 -7.458 26.015 -6.996 Q25.63 -6.534 25.4045 -5.7695 Q25.179 -5.005 25.179 -3.883 ZM34.716 -5.687 L34.716 0 L36.278 0 L36.278 -2.563 Q36.278 -2.948 36.355 -3.278 Q36.432 -3.608 36.6135 -3.8555 Q36.795 -4.103 37.092 -4.246 Q37.389 -4.389 37.818 -4.389 Q37.961 -4.389 38.115 -4.3725 Q38.269 -4.356 38.379 -4.334 L38.379 -5.786 Q38.192 -5.841 38.038 -5.841 Q37.741 -5.841 37.466 -5.753 Q37.191 -5.665 36.949 -5.5055 Q36.707 -5.346 36.52 -5.1205 Q36.333 -4.895 36.223 -4.631 L36.201 -4.631 L36.201 -5.687 ZM38.929 -3.938 Q38.962 -4.488 39.204 -4.851 Q39.446 -5.214 39.82 -5.434 Q40.194 -5.654 40.6615 -5.7475 Q41.129 -5.841 41.602 -5.841 Q42.031 -5.841 42.471 -5.7805 Q42.911 -5.72 43.274 -5.544 Q43.637 -5.368 43.868 -5.0545 Q44.099 -4.741 44.099 -4.224 L44.099 -1.265 Q44.099 -0.88 44.143 -0.528 Q44.187 -0.176 44.297 0 L42.713 0 Q42.669 -0.132 42.6415 -0.2695 Q42.614 -0.407 42.603 -0.55 Q42.229 -0.165 41.723 -0.011 Q41.217 0.143 40.689 0.143 Q40.282 0.143 39.93 0.044 Q39.578 -0.055 39.314 -0.264 Q39.05 -0.473 38.9015 -0.792 Q38.753 -1.111 38.753 -1.551 Q38.753 -2.035 38.9235 -2.3485 Q39.094 -2.662 39.3635 -2.849 Q39.633 -3.036 39.9795 -3.1295 Q40.326 -3.223 40.678 -3.278 Q41.03 -3.333 41.371 -3.366 Q41.712 -3.399 41.976 -3.465 Q42.24 -3.531 42.394 -3.6575 Q42.548 -3.784 42.537 -4.026 Q42.537 -4.279 42.4545 -4.4275 Q42.372 -4.576 42.2345 -4.6585 Q42.097 -4.741 41.9155 -4.7685 Q41.734 -4.796 41.525 -4.796 Q41.063 -4.796 40.799 -4.598 Q40.535 -4.4 40.491 -3.938 ZM42.537 -2.783 Q42.438 -2.695 42.2895 -2.6455 Q42.141 -2.596 41.9705 -2.563 Q41.8 -2.53 41.613 -2.508 Q41.426 -2.486 41.239 -2.453 Q41.063 -2.42 40.8925 -2.365 Q40.722 -2.31 40.5955 -2.2165 Q40.469 -2.123 40.392 -1.98 Q40.315 -1.837 40.315 -1.617 Q40.315 -1.408 40.392 -1.265 Q40.469 -1.122 40.601 -1.0395 Q40.733 -0.957 40.909 -0.924 Q41.085 -0.891 41.272 -0.891 Q41.734 -0.891 41.987 -1.045 Q42.24 -1.199 42.361 -1.4135 Q42.482 -1.628 42.5095 -1.848 Q42.537 -2.068 42.537 -2.2 ZM49.346 -2.86 Q49.346 -2.508 49.28 -2.178 Q49.214 -1.848 49.06 -1.5895 Q48.906 -1.331 48.6475 -1.177 Q48.389 -1.023 48.004 -1.023 Q47.641 -1.023 47.3825 -1.1825 Q47.124 -1.342 46.9535 -1.6005 Q46.783 -1.859 46.706 -2.189 Q46.629 -2.519 46.629 -2.849 Q46.629 -3.201 46.7005 -3.5255 Q46.772 -3.85 46.9315 -4.103 Q47.091 -4.356 47.355 -4.51 Q47.619 -4.664 48.004 -4.664 Q48.389 -4.664 48.642 -4.51 Q48.895 -4.356 49.0545 -4.1085 Q49.214 -3.861 49.28 -3.5365 Q49.346 -3.212 49.346 -2.86 ZM49.368 -0.726 L49.368 0 L50.853 0 L50.853 -7.854 L49.291 -7.854 L49.291 -4.994 L49.269 -4.994 Q49.005 -5.412 48.5485 -5.6265 Q48.092 -5.841 47.586 -5.841 Q46.959 -5.841 46.486 -5.5935 Q46.013 -5.346 45.6995 -4.939 Q45.386 -4.532 45.2265 -3.9985 Q45.067 -3.465 45.067 -2.893 Q45.067 -2.299 45.2265 -1.749 Q45.386 -1.199 45.6995 -0.7755 Q46.013 -0.352 46.497 -0.1045 Q46.981 0.143 47.619 0.143 Q48.18 0.143 48.6255 -0.0605 Q49.071 -0.264 49.346 -0.726 ZM54.384 -8.041 L51.326 0.176 L52.569 0.176 L55.638 -8.041 ZM57.321 -1.848 L55.836 -1.848 Q55.858 -1.276 56.0945 -0.8965 Q56.331 -0.517 56.6995 -0.286 Q57.068 -0.055 57.541 0.044 Q58.014 0.143 58.509 0.143 Q58.993 0.143 59.4605 0.0495 Q59.928 -0.044 60.291 -0.275 Q60.654 -0.506 60.8795 -0.8855 Q61.105 -1.265 61.105 -1.826 Q61.105 -2.222 60.951 -2.4915 Q60.797 -2.761 60.544 -2.9425 Q60.291 -3.124 59.9665 -3.234 Q59.642 -3.344 59.301 -3.421 Q58.971 -3.498 58.652 -3.564 Q58.333 -3.63 58.0855 -3.7125 Q57.838 -3.795 57.684 -3.927 Q57.53 -4.059 57.53 -4.268 Q57.53 -4.444 57.618 -4.5485 Q57.706 -4.653 57.8325 -4.708 Q57.959 -4.763 58.113 -4.7795 Q58.267 -4.796 58.399 -4.796 Q58.817 -4.796 59.125 -4.6365 Q59.433 -4.477 59.466 -4.026 L60.951 -4.026 Q60.907 -4.554 60.6815 -4.9005 Q60.456 -5.247 60.115 -5.456 Q59.774 -5.665 59.3395 -5.753 Q58.905 -5.841 58.443 -5.841 Q57.981 -5.841 57.541 -5.7585 Q57.101 -5.676 56.749 -5.4725 Q56.397 -5.269 56.1825 -4.917 Q55.968 -4.565 55.968 -4.015 Q55.968 -3.641 56.122 -3.3825 Q56.276 -3.124 56.529 -2.9535 Q56.782 -2.783 57.1065 -2.6785 Q57.431 -2.574 57.772 -2.497 Q58.608 -2.321 59.0755 -2.145 Q59.543 -1.969 59.543 -1.617 Q59.543 -1.408 59.444 -1.2705 Q59.345 -1.133 59.1965 -1.0505 Q59.048 -0.968 58.8665 -0.9295 Q58.685 -0.891 58.52 -0.891 Q58.289 -0.891 58.0745 -0.946 Q57.86 -1.001 57.695 -1.1165 Q57.53 -1.232 57.4255 -1.4135 Q57.321 -1.595 57.321 -1.848 ZM61.358 1.991 L62.656 1.991 Q63.019 1.474 63.294 0.847 Q63.569 0.22 63.7505 -0.4455 Q63.932 -1.111 64.02 -1.7875 Q64.108 -2.464 64.108 -3.08 Q64.108 -4.378 63.7285 -5.643 Q63.349 -6.908 62.656 -8.041 L61.369 -8.041 Q61.974 -6.842 62.26 -5.566 Q62.546 -4.29 62.546 -2.97 Q62.546 -1.672 62.2545 -0.4235 Q61.963 0.825 61.358 1.991 Z\"\n",
       "    /></g\n",
       "    ><g style=\"stroke-linecap:butt; fill:rgb(0,114,189); text-rendering:geometricPrecision; image-rendering:optimizeQuality; color-rendering:optimizeQuality; stroke-linejoin:round; stroke:rgb(0,114,189); color-interpolation:linearRGB; stroke-width:0.5;\"\n",
       "    ><path d=\"M73 352.6042 L73.5425 352.4973 L74.085 352.3895 L74.6275 352.2809 L75.17 352.1716 L75.7125 352.0614 L76.255 351.9503 L76.7975 351.8384 L77.34 351.7257 L77.8825 351.6121 L78.425 351.4976 L78.9675 351.3823 L79.51 351.2661 L80.0525 351.149 L80.595 351.0309 L81.1375 350.912 L81.68 350.7921 L82.2225 350.6714 L82.765 350.5496 L83.3075 350.4269 L83.85 350.3033 L84.3925 350.1787 L84.935 350.0531 L85.4775 349.9265 L86.02 349.7989 L86.5625 349.6703 L87.105 349.5407 L87.6475 349.4101 L88.19 349.2784 L88.7325 349.1456 L89.275 349.0118 L89.8175 348.8769 L90.36 348.7409 L90.9025 348.6038 L91.445 348.4656 L91.9875 348.3263 L92.53 348.1859 L93.0725 348.0443 L93.615 347.9015 L94.1575 347.7575 L94.7 347.6124 L95.2425 347.4661 L95.785 347.3185 L96.3275 347.1697 L96.87 347.0197 L97.4125 346.8685 L97.955 346.7159 L98.4975 346.5621 L99.04 346.407 L99.5825 346.2506 L100.125 346.0928 L100.6675 345.9337 L101.21 345.7733 L101.7525 345.6115 L102.295 345.4483 L102.8375 345.2837 L103.38 345.1177 L103.9225 344.9502 L104.465 344.7813 L105.0075 344.611 L105.55 344.4391 L106.0925 344.2658 L106.635 344.0909 L107.1775 343.9145 L107.72 343.7365 L108.2625 343.557 L108.805 343.3759 L109.3475 343.1932 L109.89 343.0088 L110.4325 342.8228 L110.975 342.6352 L111.5175 342.4458 L112.06 342.2548 L112.6025 342.062 L113.145 341.8675 L113.6875 341.6712 L114.23 341.4731 L114.7725 341.2732 L115.315 341.0715 L115.8575 340.868 L116.4 340.6625 L116.9425 340.4551 L117.485 340.2459 L118.0275 340.0347 L118.57 339.8215 L119.1125 339.6063 L119.655 339.3891 L120.1975 339.1699 L120.74 338.9486 L121.2825 338.7252 L121.825 338.4997 L122.3675 338.272 L122.91 338.0422 L123.4525 337.8102 L123.995 337.5759 L124.5375 337.3394 L125.08 337.1006 L125.6225 336.8595 L126.165 336.616 L126.7075 336.3702 L127.25 336.122 L127.7925 335.8713 L128.335 335.6182 L128.8775 335.3626 L129.42 335.1044 L129.9625 334.8437 L130.505 334.5804 L131.0475 334.3145 L131.59 334.0459 L132.1325 333.7746 L132.675 333.5005 L133.2175 333.2237 L133.76 332.9441 L134.3025 332.6617 L134.845 332.3763 L135.3875 332.0881 L135.93 331.7968 L136.4725 331.5026 L137.015 331.2054 L137.5575 330.9051 L138.1 330.6016 L138.6425 330.295 L139.185 329.9852 L139.7275 329.6721 L140.27 329.3557 L140.8125 329.036 L141.355 328.7129 L141.8975 328.3864 L142.44 328.0564 L142.9825 327.7229 L143.525 327.3858 L144.0675 327.045 L144.61 326.7006 L145.1525 326.3525 L145.695 326.0005 L146.2375 325.6448 L146.78 325.2852 L147.3225 324.9216 L147.865 324.554 L148.4075 324.1823 L148.95 323.8066 L149.4925 323.4266 L150.035 323.0425 L150.5775 322.654 L151.12 322.2612 L151.6625 321.864 L152.205 321.4622 L152.7475 321.056 L153.29 320.6451 L153.8325 320.2296 L154.375 319.8093 L154.9175 319.3841 L155.46 318.9541 L156.0025 318.5191 L156.545 318.0791 L157.0875 317.634 L157.63 317.1837 L158.1725 316.7281 L158.715 316.2672 L159.2575 315.8009 L159.8 315.329 L160.3425 314.8516 L160.885 314.3685 L161.4275 313.8796 L161.97 313.3849 L162.5125 312.8843 L163.055 312.3777 L163.5975 311.8649 L164.14 311.3459 L164.6825 310.8207 L165.225 310.289 L165.7675 309.7509 L166.31 309.2061 L166.8525 308.6547 L167.395 308.0964 L167.9375 307.5312 L168.48 306.9591 L169.0225 306.3798 L169.565 305.7933 L170.1075 305.1994 L170.65 304.5981 L171.1925 303.9892 L171.735 303.3726 L172.2775 302.7482 L172.82 302.1158 L173.3625 301.4754 L173.905 300.8268 L174.4475 300.1699 L174.99 299.5045 L175.5325 298.8306 L176.075 298.1479 L176.6175 297.4564 L177.16 296.7559 L177.7025 296.0462 L178.245 295.3273 L178.7875 294.5989 L179.33 293.8609 L179.8725 293.1133 L180.415 292.3557 L180.9575 291.5881 L181.5 290.8103 L182.0425 290.0221 L182.585 289.2234 L183.1275 288.414 L183.67 287.5938 L184.2125 286.7625 L184.755 285.92 L185.2975 285.0661 L185.84 284.2007 L186.3825 283.3235 L186.925 282.4343 L187.4675 281.5331 L188.01 280.6195 L188.5525 279.6934 L189.095 278.7547 L189.6375 277.803 L190.18 276.8383 L190.7225 275.8602 L191.265 274.8687 L191.8075 273.8634 L192.35 272.8443 L192.8925 271.811 L193.435 270.7633 L193.9775 269.7011 L194.52 268.6241 L195.0625 267.5322 L195.605 266.425 L196.1475 265.3024 L196.69 264.1641 L197.2325 263.0099 L197.775 261.8396 L198.3175 260.653 L198.86 259.4497 L199.4025 258.2297 L199.945 256.9926 L200.4875 255.7382 L201.03 254.4664 L201.5725 253.1768 L202.115 251.8692 L202.6575 250.5435 L203.2 249.1993 L203.7425 247.8364 L204.285 246.4547 L204.8275 245.0538 L205.37 243.6337 L205.9125 242.1939 L206.455 240.7344 L206.9975 239.2549 L207.54 237.7552 L208.0825 236.2352 L208.625 234.6945 L209.1675 233.1331 L209.71 231.5506 L210.2525 229.9471 L210.795 228.3221 L211.3375 226.6758 L211.88 225.0077 L212.4225 223.3179 L212.965 221.6063 L213.5075 219.8725 L214.05 218.1167 L214.5925 216.3386 L215.135 214.5382 L215.6775 212.7155 L216.22 210.8704 L216.7625 209.0028 L217.305 207.1128 L217.8475 205.2005 L218.39 203.2657 L218.9325 201.3086 L219.475 199.3293 L220.0175 197.3279 L220.56 195.3046 L221.1025 193.2594 L221.645 191.1927 L222.1875 189.1046 L222.73 186.9954 L223.2725 184.8654 L223.815 182.7149 L224.3575 180.5444 L224.9 178.3542 L225.4425 176.1449 L225.985 173.9167 L226.5275 171.6705 L227.07 169.4066 L227.6125 167.1258 L228.155 164.8288 L228.6975 162.5162 L229.24 160.1888 L229.7825 157.8475 L230.325 155.4932 L230.8675 153.1268 L231.41 150.7491 L231.9525 148.3615 L232.495 145.9647 L233.0375 143.5601 L233.58 141.1488 L234.1225 138.7321 L234.665 136.3112 L235.2075 133.8875 L235.75 131.4624 L236.2925 129.0372 L236.835 126.6136 L237.3775 124.1929 L237.92 121.7768 L238.4625 119.3669 L239.005 116.9647 L239.5475 114.5719 L240.09 112.1903 L240.6325 109.8214 L241.175 107.4671 L241.7175 105.129 L242.26 102.8089 L242.8025 100.5085 L243.345 98.2295 L243.8875 95.9737 L244.43 93.7427 L244.9725 91.5384 L245.515 89.3622 L246.0575 87.2158 L246.6 85.1009 L247.1425 83.0189 L247.685 80.9714 L248.2275 78.9598 L248.77 76.9854 L249.3125 75.0496 L249.855 73.1536 L250.3975 71.2985 L250.94 69.4854 L251.4825 67.7154 L252.025 65.9893 L252.5675 64.308 L253.11 62.6721 L253.6525 61.0822 L254.195 59.539 L254.7375 58.0429 L255.28 56.5941 L255.8225 55.1928 L256.365 53.8394 L256.9075 52.5336 L257.45 51.2756 L257.9925 50.0651 L258.535 48.9019 L259.0775 47.7857 L259.62 46.716 L260.1625 45.6923 L260.705 44.7141 L261.2475 43.7806 L261.79 42.8912 L262.3325 42.045 L262.875 41.2411 L263.4175 40.4787 L263.96 39.7568 L264.5025 39.0743 L265.045 38.4302 L265.5875 37.8234 L266.13 37.2528 L266.6725 36.7171 L267.215 36.2152 L267.7575 35.7458 L268.3 35.3079 L268.8425 34.9 L269.385 34.521 L269.9275 34.1697 L270.47 33.8448 L271.0125 33.545 L271.555 33.2691 L272.0975 33.0159 L272.64 32.7843 L273.1825 32.573 L273.725 32.3808 L274.2675 32.2066 L274.81 32.0493 L275.3525 31.9078 L275.895 31.781 L276.4375 31.668 L276.98 31.5676 L277.5225 31.4789 L278.065 31.401 L278.6075 31.333 L279.15 31.2741 L279.6925 31.2233 L280.235 31.1799 L280.7775 31.1432 L281.32 31.1123 L281.8625 31.0868 L282.405 31.0659 L282.9475 31.049 L283.49 31.0356 L284.0325 31.0251 L284.575 31.0172 L285.1175 31.0112 L285.66 31.007 L286.2025 31.0041 L286.745 31.0022 L287.2875 31.0011 L287.83 31.0004 L288.3725 31.0001 L288.915 31 L289.4575 31 L290 31 L290.5425 31 L291.085 31 L291.6275 31.0001 L292.17 31.0004 L292.7125 31.0011 L293.255 31.0022 L293.7975 31.0041 L294.34 31.007 L294.8825 31.0112 L295.425 31.0172 L295.9675 31.0251 L296.51 31.0356 L297.0525 31.049 L297.595 31.0659 L298.1375 31.0868 L298.68 31.1123 L299.2225 31.1432 L299.765 31.1799 L300.3075 31.2233 L300.85 31.2741 L301.3925 31.333 L301.935 31.401 L302.4775 31.4789 L303.02 31.5676 L303.5625 31.668 L304.105 31.781 L304.6475 31.9078 L305.19 32.0493 L305.7325 32.2066 L306.275 32.3808 L306.8175 32.573 L307.36 32.7843 L307.9025 33.0159 L308.445 33.2691 L308.9875 33.545 L309.53 33.8448 L310.0725 34.1697 L310.615 34.521 L311.1575 34.9 L311.7 35.3079 L312.2425 35.7458 L312.785 36.2152 L313.3275 36.7171 L313.87 37.2528 L314.4125 37.8234 L314.955 38.4302 L315.4975 39.0743 L316.04 39.7568 L316.5825 40.4787 L317.125 41.2411 L317.6675 42.045 L318.21 42.8912 L318.7525 43.7806 L319.295 44.7141 L319.8375 45.6923 L320.38 46.716 L320.9225 47.7857 L321.465 48.9019 L322.0075 50.0651 L322.55 51.2756 L323.0925 52.5336 L323.635 53.8394 L324.1775 55.1928 L324.72 56.5941 L325.2625 58.0429 L325.805 59.539 L326.3475 61.0822 L326.89 62.6721 L327.4325 64.308 L327.975 65.9893 L328.5175 67.7154 L329.06 69.4854 L329.6025 71.2985 L330.145 73.1536 L330.6875 75.0496 L331.23 76.9854 L331.7725 78.9598 L332.315 80.9714 L332.8575 83.0189 L333.4 85.1009 L333.9425 87.2158 L334.485 89.3622 L335.0275 91.5384 L335.57 93.7427 L336.1125 95.9737 L336.655 98.2295 L337.1975 100.5085 L337.74 102.8089 L338.2825 105.129 L338.825 107.4671 L339.3675 109.8214 L339.91 112.1903 L340.4525 114.5719 L340.995 116.9647 L341.5375 119.3669 L342.08 121.7768 L342.6225 124.1929 L343.165 126.6136 L343.7075 129.0372 L344.25 131.4624 L344.7925 133.8875 L345.335 136.3112 L345.8775 138.7321 L346.42 141.1488 L346.9625 143.5601 L347.505 145.9647 L348.0475 148.3615 L348.59 150.7491 L349.1325 153.1268 L349.675 155.4932 L350.2175 157.8475 L350.76 160.1888 L351.3025 162.5162 L351.845 164.8288 L352.3875 167.1258 L352.93 169.4066 L353.4725 171.6705 L354.015 173.9167 L354.5575 176.1449 L355.1 178.3542 L355.6425 180.5444 L356.185 182.7149 L356.7275 184.8654 L357.27 186.9954 L357.8125 189.1046 L358.355 191.1927 L358.8975 193.2594 L359.44 195.3046 L359.9825 197.3279 L360.525 199.3293 L361.0675 201.3086 L361.61 203.2657 L362.1525 205.2005 L362.695 207.1128 L363.2375 209.0028 L363.78 210.8704 L364.3225 212.7155 L364.865 214.5382 L365.4075 216.3386 L365.95 218.1167 L366.4925 219.8725 L367.035 221.6063 L367.5775 223.3179 L368.12 225.0077 L368.6625 226.6758 L369.205 228.3221 L369.7475 229.9471 L370.29 231.5506 L370.8325 233.1331 L371.375 234.6945 L371.9175 236.2352 L372.46 237.7552 L373.0025 239.2549 L373.545 240.7344 L374.0875 242.1939 L374.63 243.6337 L375.1725 245.0538 L375.715 246.4547 L376.2575 247.8364 L376.8 249.1993 L377.3425 250.5435 L377.885 251.8692 L378.4275 253.1768 L378.97 254.4664 L379.5125 255.7382 L380.055 256.9926 L380.5975 258.2297 L381.14 259.4497 L381.6825 260.653 L382.225 261.8396 L382.7675 263.0099 L383.31 264.1641 L383.8525 265.3024 L384.395 266.425 L384.9375 267.5322 L385.48 268.6241 L386.0225 269.7011 L386.565 270.7633 L387.1075 271.811 L387.65 272.8443 L388.1925 273.8634 L388.735 274.8687 L389.2775 275.8602 L389.82 276.8383 L390.3625 277.803 L390.905 278.7547 L391.4475 279.6934 L391.99 280.6195 L392.5325 281.5331 L393.075 282.4343 L393.6175 283.3235 L394.16 284.2007 L394.7025 285.0661 L395.245 285.92 L395.7875 286.7625 L396.33 287.5938 L396.8725 288.414 L397.415 289.2234 L397.9575 290.0221 L398.5 290.8103 L399.0425 291.5881 L399.585 292.3557 L400.1275 293.1133 L400.67 293.8609 L401.2125 294.5989 L401.755 295.3273 L402.2975 296.0462 L402.84 296.7559 L403.3825 297.4564 L403.925 298.1479 L404.4675 298.8306 L405.01 299.5045 L405.5525 300.1699 L406.095 300.8268 L406.6375 301.4754 L407.18 302.1158 L407.7225 302.7482 L408.265 303.3726 L408.8075 303.9892 L409.35 304.5981 L409.8925 305.1994 L410.435 305.7933 L410.9775 306.3798 L411.52 306.9591 L412.0625 307.5312 L412.605 308.0964 L413.1475 308.6547 L413.69 309.2061 L414.2325 309.7509 L414.775 310.289 L415.3175 310.8207 L415.86 311.3459 L416.4025 311.8649 L416.945 312.3777 L417.4875 312.8843 L418.03 313.3849 L418.5725 313.8796 L419.115 314.3685 L419.6575 314.8516 L420.2 315.329 L420.7425 315.8009 L421.285 316.2672 L421.8275 316.7281 L422.37 317.1837 L422.9125 317.634 L423.455 318.0791 L423.9975 318.5191 L424.54 318.9541 L425.0825 319.3841 L425.625 319.8093 L426.1675 320.2296 L426.71 320.6451 L427.2525 321.056 L427.795 321.4622 L428.3375 321.864 L428.88 322.2612 L429.4225 322.654 L429.965 323.0425 L430.5075 323.4266 L431.05 323.8066 L431.5925 324.1823 L432.135 324.554 L432.6775 324.9216 L433.22 325.2852 L433.7625 325.6448 L434.305 326.0005 L434.8475 326.3525 L435.39 326.7006 L435.9325 327.045 L436.475 327.3858 L437.0175 327.7229 L437.56 328.0564 L438.1025 328.3864 L438.645 328.7129 L439.1875 329.036 L439.73 329.3557 L440.2725 329.6721 L440.815 329.9852 L441.3575 330.295 L441.9 330.6016 L442.4425 330.9051 L442.985 331.2054 L443.5275 331.5026 L444.07 331.7968 L444.6125 332.0881 L445.155 332.3763 L445.6975 332.6617 L446.24 332.9441 L446.7825 333.2237 L447.325 333.5005 L447.8675 333.7746 L448.41 334.0459 L448.9525 334.3145 L449.495 334.5804 L450.0375 334.8437 L450.58 335.1044 L451.1225 335.3626 L451.665 335.6182 L452.2075 335.8713 L452.75 336.122 L453.2925 336.3702 L453.835 336.616 L454.3775 336.8595 L454.92 337.1006 L455.4625 337.3394 L456.005 337.5759 L456.5475 337.8102 L457.09 338.0422 L457.6325 338.272 L458.175 338.4997 L458.7175 338.7252 L459.26 338.9486 L459.8025 339.1699 L460.345 339.3891 L460.8875 339.6063 L461.43 339.8215 L461.9725 340.0347 L462.515 340.2459 L463.0575 340.4551 L463.6 340.6625 L464.1425 340.868 L464.685 341.0715 L465.2275 341.2732 L465.77 341.4731 L466.3125 341.6712 L466.855 341.8675 L467.3975 342.062 L467.94 342.2548 L468.4825 342.4458 L469.025 342.6352 L469.5675 342.8228 L470.11 343.0088 L470.6525 343.1932 L471.195 343.3759 L471.7375 343.557 L472.28 343.7365 L472.8225 343.9145 L473.365 344.0909 L473.9075 344.2658 L474.45 344.4391 L474.9925 344.611 L475.535 344.7813 L476.0775 344.9502 L476.62 345.1177 L477.1625 345.2837 L477.705 345.4483 L478.2475 345.6115 L478.79 345.7733 L479.3325 345.9337 L479.875 346.0928 L480.4175 346.2506 L480.96 346.407 L481.5025 346.5621 L482.045 346.7159 L482.5875 346.8685 L483.13 347.0197 L483.6725 347.1697 L484.215 347.3185 L484.7575 347.4661 L485.3 347.6124 L485.8425 347.7575 L486.385 347.9015 L486.9275 348.0443 L487.47 348.1859 L488.0125 348.3263 L488.555 348.4656 L489.0975 348.6038 L489.64 348.7409 L490.1825 348.8769 L490.725 349.0118 L491.2675 349.1456 L491.81 349.2784 L492.3525 349.4101 L492.895 349.5407 L493.4375 349.6703 L493.98 349.7989 L494.5225 349.9265 L495.065 350.0531 L495.6075 350.1787 L496.15 350.3033 L496.6925 350.4269 L497.235 350.5496 L497.7775 350.6714 L498.32 350.7921 L498.8625 350.912 L499.405 351.0309 L499.9475 351.149 L500.49 351.2661 L501.0325 351.3823 L501.575 351.4976 L502.1175 351.6121 L502.66 351.7257 L503.2025 351.8384 L503.745 351.9503 L504.2875 352.0614 L504.83 352.1716 L505.3725 352.2809 L505.915 352.3895 L506.4575 352.4973 L507 352.6042\" style=\"fill:none; fill-rule:evenodd;\"\n",
       "    /></g\n",
       "    ><g transform=\"translate(344,342)\" style=\"font-size:10px; text-rendering:geometricPrecision; color-rendering:optimizeQuality; image-rendering:optimizeQuality; font-family:'mwa_cmmi10'; color-interpolation:linearRGB;\"\n",
       "    ><path style=\"stroke:none;\" d=\"M1.2188 0.1094 Q0.6406 0.1094 0.3906 -0.3047 Q0.1406 -0.7188 0.1406 -1.3125 Q0.1406 -1.7188 0.2109 -2.0938 Q0.2812 -2.4688 0.4297 -2.8594 Q0.5781 -3.25 0.7578 -3.5859 Q0.9375 -3.9219 1.1719 -4.25 Q1.2188 -4.3125 1.2969 -4.3125 Q1.3594 -4.3125 1.3984 -4.2734 Q1.4375 -4.2344 1.4375 -4.1875 Q1.4375 -4.125 1.4062 -4.0781 Q0.4844 -2.8281 0.4844 -1.7656 Q0.4844 -1.3125 0.6953 -0.9844 Q0.9062 -0.6562 1.3438 -0.6562 Q1.7188 -0.6562 2.0391 -0.875 Q2.3594 -1.0938 2.5938 -1.4375 Q2.5938 -1.6094 2.6562 -1.9766 Q2.7188 -2.3438 2.8516 -2.6406 Q2.9844 -2.9375 3.1562 -2.9375 Q3.3906 -2.9375 3.3906 -2.6562 Q3.3906 -2.5 3.3203 -2.2656 Q3.25 -2.0312 3.1719 -1.8281 Q3.0938 -1.625 2.9844 -1.3594 Q3.0938 -0.6562 3.6875 -0.6562 Q4.0312 -0.6562 4.3828 -0.8516 Q4.7344 -1.0469 5.0078 -1.375 Q5.2812 -1.7031 5.4297 -2.0781 Q5.5781 -2.4531 5.5781 -2.7812 Q5.5781 -3.0938 5.4844 -3.2578 Q5.3906 -3.4219 5.2344 -3.6094 Q5.0781 -3.7969 5.0781 -3.9062 Q5.0781 -4.1094 5.2422 -4.2656 Q5.4062 -4.4219 5.5938 -4.4219 Q5.8438 -4.4219 5.9453 -4.2031 Q6.0469 -3.9844 6.0469 -3.7031 Q6.0469 -3.25 5.8672 -2.5469 Q5.6875 -1.8438 5.4531 -1.375 Q5.125 -0.75 4.6406 -0.3203 Q4.1562 0.1094 3.5469 0.1094 Q3.1719 0.1094 2.9297 -0.125 Q2.6875 -0.3594 2.625 -0.75 Q2.3438 -0.3594 1.9844 -0.125 Q1.625 0.1094 1.2188 0.1094 Z\"\n",
       "    /></g\n",
       "    ><g transform=\"translate(351,347)\" style=\"font-size:8px; text-rendering:geometricPrecision; color-rendering:optimizeQuality; image-rendering:optimizeQuality; font-family:'Helvetica Neue'; color-interpolation:linearRGB;\"\n",
       "    ><path style=\"stroke:none;\" d=\"M3.32 -2.808 L4.024 -2.808 Q3.984 -3.176 3.832 -3.444 Q3.68 -3.712 3.444 -3.888 Q3.208 -4.064 2.9 -4.148 Q2.592 -4.232 2.24 -4.232 Q1.752 -4.232 1.384 -4.06 Q1.016 -3.888 0.772 -3.588 Q0.528 -3.288 0.408 -2.884 Q0.288 -2.48 0.288 -2.016 Q0.288 -1.552 0.412 -1.164 Q0.536 -0.776 0.78 -0.496 Q1.024 -0.216 1.388 -0.064 Q1.752 0.088 2.224 0.088 Q3.016 0.088 3.476 -0.328 Q3.936 -0.744 4.048 -1.512 L3.352 -1.512 Q3.288 -1.032 3.004 -0.768 Q2.72 -0.504 2.216 -0.504 Q1.896 -0.504 1.664 -0.632 Q1.432 -0.76 1.288 -0.972 Q1.144 -1.184 1.076 -1.456 Q1.008 -1.728 1.008 -2.016 Q1.008 -2.328 1.072 -2.62 Q1.136 -2.912 1.284 -3.136 Q1.432 -3.36 1.68 -3.496 Q1.928 -3.632 2.296 -3.632 Q2.728 -3.632 2.984 -3.416 Q3.24 -3.2 3.32 -2.808 Z\"\n",
       "    /></g\n",
       "    ><g transform=\"translate(236,342)\" style=\"font-size:10px; text-rendering:geometricPrecision; color-rendering:optimizeQuality; image-rendering:optimizeQuality; font-family:'Helvetica Neue'; color-interpolation:linearRGB;\"\n",
       "    ><path style=\"stroke:none;\" d=\"M0.5 -3.18 L0.5 -2.38 L3.39 -2.38 L3.39 -3.18 Z\"\n",
       "    /></g\n",
       "    ><g transform=\"translate(240,342)\" style=\"font-size:10px; text-rendering:geometricPrecision; color-rendering:optimizeQuality; image-rendering:optimizeQuality; font-family:'mwa_cmmi10'; color-interpolation:linearRGB;\"\n",
       "    ><path style=\"stroke:none;\" d=\"M1.2188 0.1094 Q0.6406 0.1094 0.3906 -0.3047 Q0.1406 -0.7188 0.1406 -1.3125 Q0.1406 -1.7188 0.2109 -2.0938 Q0.2812 -2.4688 0.4297 -2.8594 Q0.5781 -3.25 0.7578 -3.5859 Q0.9375 -3.9219 1.1719 -4.25 Q1.2188 -4.3125 1.2969 -4.3125 Q1.3594 -4.3125 1.3984 -4.2734 Q1.4375 -4.2344 1.4375 -4.1875 Q1.4375 -4.125 1.4062 -4.0781 Q0.4844 -2.8281 0.4844 -1.7656 Q0.4844 -1.3125 0.6953 -0.9844 Q0.9062 -0.6562 1.3438 -0.6562 Q1.7188 -0.6562 2.0391 -0.875 Q2.3594 -1.0938 2.5938 -1.4375 Q2.5938 -1.6094 2.6562 -1.9766 Q2.7188 -2.3438 2.8516 -2.6406 Q2.9844 -2.9375 3.1562 -2.9375 Q3.3906 -2.9375 3.3906 -2.6562 Q3.3906 -2.5 3.3203 -2.2656 Q3.25 -2.0312 3.1719 -1.8281 Q3.0938 -1.625 2.9844 -1.3594 Q3.0938 -0.6562 3.6875 -0.6562 Q4.0312 -0.6562 4.3828 -0.8516 Q4.7344 -1.0469 5.0078 -1.375 Q5.2812 -1.7031 5.4297 -2.0781 Q5.5781 -2.4531 5.5781 -2.7812 Q5.5781 -3.0938 5.4844 -3.2578 Q5.3906 -3.4219 5.2344 -3.6094 Q5.0781 -3.7969 5.0781 -3.9062 Q5.0781 -4.1094 5.2422 -4.2656 Q5.4062 -4.4219 5.5938 -4.4219 Q5.8438 -4.4219 5.9453 -4.2031 Q6.0469 -3.9844 6.0469 -3.7031 Q6.0469 -3.25 5.8672 -2.5469 Q5.6875 -1.8438 5.4531 -1.375 Q5.125 -0.75 4.6406 -0.3203 Q4.1562 0.1094 3.5469 0.1094 Q3.1719 0.1094 2.9297 -0.125 Q2.6875 -0.3594 2.625 -0.75 Q2.3438 -0.3594 1.9844 -0.125 Q1.625 0.1094 1.2188 0.1094 Z\"\n",
       "    /></g\n",
       "    ><g transform=\"translate(247,347)\" style=\"font-size:8px; text-rendering:geometricPrecision; color-rendering:optimizeQuality; image-rendering:optimizeQuality; font-family:'Helvetica Neue'; color-interpolation:linearRGB;\"\n",
       "    ><path style=\"stroke:none;\" d=\"M3.32 -2.808 L4.024 -2.808 Q3.984 -3.176 3.832 -3.444 Q3.68 -3.712 3.444 -3.888 Q3.208 -4.064 2.9 -4.148 Q2.592 -4.232 2.24 -4.232 Q1.752 -4.232 1.384 -4.06 Q1.016 -3.888 0.772 -3.588 Q0.528 -3.288 0.408 -2.884 Q0.288 -2.48 0.288 -2.016 Q0.288 -1.552 0.412 -1.164 Q0.536 -0.776 0.78 -0.496 Q1.024 -0.216 1.388 -0.064 Q1.752 0.088 2.224 0.088 Q3.016 0.088 3.476 -0.328 Q3.936 -0.744 4.048 -1.512 L3.352 -1.512 Q3.288 -1.032 3.004 -0.768 Q2.72 -0.504 2.216 -0.504 Q1.896 -0.504 1.664 -0.632 Q1.432 -0.76 1.288 -0.972 Q1.144 -1.184 1.076 -1.456 Q1.008 -1.728 1.008 -2.016 Q1.008 -2.328 1.072 -2.62 Q1.136 -2.912 1.284 -3.136 Q1.432 -3.36 1.68 -3.496 Q1.928 -3.632 2.296 -3.632 Q2.728 -3.632 2.984 -3.416 Q3.24 -3.2 3.32 -2.808 Z\"\n",
       "    /></g\n",
       "    ><g style=\"stroke-linecap:butt; fill:red; text-rendering:geometricPrecision; image-rendering:optimizeQuality; color-rendering:optimizeQuality; stroke-linejoin:bevel; stroke-dasharray:1,3; stroke:red; color-interpolation:linearRGB; stroke-width:0.5; stroke-miterlimit:1;\"\n",
       "    ><path d=\"M73 374 L235.75 374 L235.75 31 L344.25 31 L344.25 374 L507 374\" style=\"fill:none; fill-rule:evenodd;\"\n",
       "    /></g\n",
       "  ></g\n",
       "></svg\n",
       ">\n"
      ]
     },
     "metadata": {
      "filenames": {
       "image/svg+xml": "/Users/eechris/code/src/github.com/cpjobling/eg-247-textbook/_build/jupyter_execute/fourier_transform/4/ft4_39_0.svg"
      }
     },
     "output_type": "display_data"
    }
   ],
   "source": [
    "w = -400:400;\n",
    "mHlp = 1./(sqrt(1 + (w./wc).^4));\n",
    "plot(w,mHlp)\n",
    "grid\n",
    "ylabel('|H_B(j\\omega)|')\n",
    "title('Magnitude Frequency Response for 2nd-Order LP Butterworth Filter (\\omega_c = 100 rad/s)')\n",
    "xlabel('Radian Frequency \\omega [rad/s]')\n",
    "text(100,0.1,'\\omega_c')\n",
    "text(-100,0.1,'-\\omega_c')\n",
    "hold on\n",
    "plot([-400,-100,-100,100,100,400],[0,0,1,1,0,0],'r:')\n",
    "hold off"
   ]
  },
  {
   "cell_type": "markdown",
   "id": "db98fb1b",
   "metadata": {
    "slideshow": {
     "slide_type": "subslide"
    }
   },
   "source": [
    "Bode plot"
   ]
  },
  {
   "cell_type": "code",
   "execution_count": 5,
   "id": "4f1674c2",
   "metadata": {
    "slideshow": {
     "slide_type": "subslide"
    }
   },
   "outputs": [
    {
     "data": {
      "image/svg+xml": [
       "<?xml version=\"1.0\"?>\n",
       "<!DOCTYPE svg PUBLIC '-//W3C//DTD SVG 1.0//EN'\n",
       "          'http://www.w3.org/TR/2001/REC-SVG-20010904/DTD/svg10.dtd'>\n",
       "<svg xmlns:xlink=\"http://www.w3.org/1999/xlink\" style=\"fill-opacity:1; color-rendering:auto; color-interpolation:auto; text-rendering:auto; stroke:black; stroke-linecap:square; stroke-miterlimit:10; shape-rendering:auto; stroke-opacity:1; fill:black; stroke-dasharray:none; font-weight:normal; stroke-width:1; font-family:'Dialog'; font-style:normal; stroke-linejoin:miter; font-size:12px; stroke-dashoffset:0; image-rendering:auto;\" width=\"560\" height=\"420\" xmlns=\"http://www.w3.org/2000/svg\"\n",
       "><!--Generated by the Batik Graphics2D SVG Generator--><defs id=\"genericDefs\"\n",
       "  /><g\n",
       "  ><defs id=\"defs1\"\n",
       "    ><clipPath clipPathUnits=\"userSpaceOnUse\" id=\"clipPath1\"\n",
       "      ><path d=\"M0 0 L560 0 L560 420 L0 420 L0 0 Z\"\n",
       "      /></clipPath\n",
       "      ><font horiz-adv-x=\"50.0\" id=\"font1\"\n",
       "      ><font-face ascent=\"95.200005\" descent=\"21.3\" units-per-em=\"100\" style=\"font-style:normal; font-family:Helvetica Neue; font-weight:normal;\"\n",
       "        /><missing-glyph horiz-adv-x=\"50.0\" d=\"M40.9 66.6 L10.2 66.6 L10.2 4.7 L40.9 4.7 ZM46 71.2 L46 0.1 L5.1 0.1 L5.1 71.2 Z\"\n",
       "        /><glyph unicode=\"0\" horiz-adv-x=\"55.6\" d=\"M13.2 34.9 Q13.2 37.5 13.25 40.65 Q13.3 43.8 13.75 46.95 Q14.2 50.1 15.05 53.1 Q15.9 56.1 17.55 58.35 Q19.2 60.6 21.7 62 Q24.2 63.4 27.8 63.4 Q31.4 63.4 33.9 62 Q36.4 60.6 38.05 58.35 Q39.7 56.1 40.55 53.1 Q41.4 50.1 41.85 46.95 Q42.3 43.8 42.35 40.65 Q42.4 37.5 42.4 34.9 Q42.4 30.9 42.15 25.95 Q41.9 21 40.55 16.65 Q39.2 12.3 36.2 9.3 Q33.2 6.3 27.8 6.3 Q22.4 6.3 19.4 9.3 Q16.4 12.3 15.05 16.65 Q13.7 21 13.45 25.95 Q13.2 30.9 13.2 34.9 ZM4.2 34.8 Q4.2 30.9 4.4 26.7 Q4.6 22.5 5.4 18.5 Q6.2 14.5 7.7 10.95 Q9.2 7.4 11.8 4.7 Q14.4 2 18.35 0.45 Q22.3 -1.1 27.8 -1.1 Q33.4 -1.1 37.3 0.45 Q41.2 2 43.8 4.7 Q46.4 7.4 47.9 10.95 Q49.4 14.5 50.2 18.5 Q51 22.5 51.2 26.7 Q51.4 30.9 51.4 34.8 Q51.4 38.7 51.2 42.9 Q51 47.1 50.2 51.1 Q49.4 55.1 47.9 58.7 Q46.4 62.3 43.8 65 Q41.2 67.7 37.25 69.3 Q33.3 70.9 27.8 70.9 Q22.3 70.9 18.35 69.3 Q14.4 67.7 11.8 65 Q9.2 62.3 7.7 58.7 Q6.2 55.1 5.4 51.1 Q4.6 47.1 4.4 42.9 Q4.2 38.7 4.2 34.8 Z\"\n",
       "        /><glyph unicode=\"8\" horiz-adv-x=\"55.6\" d=\"M15.5 52.5 Q15.5 55.2 16.5 57.2 Q17.5 59.2 19.15 60.6 Q20.8 62 23.1 62.7 Q25.4 63.4 27.9 63.4 Q33.1 63.4 36.45 60.65 Q39.8 57.9 39.8 52.5 Q39.8 47.1 36.5 44.1 Q33.2 41.1 28.1 41.1 Q25.5 41.1 23.2 41.8 Q20.9 42.5 19.2 43.9 Q17.5 45.3 16.5 47.45 Q15.5 49.6 15.5 52.5 ZM6.5 52.8 Q6.5 48 9.2 43.95 Q11.9 39.9 16.4 38.1 Q10.4 36 7.2 31.35 Q4 26.7 4 20.4 Q4 15 5.85 10.95 Q7.7 6.9 10.95 4.2 Q14.2 1.5 18.6 0.2 Q23 -1.1 28.1 -1.1 Q33 -1.1 37.3 0.3 Q41.6 1.7 44.75 4.45 Q47.9 7.2 49.75 11.2 Q51.6 15.2 51.6 20.4 Q51.6 27 48.5 31.55 Q45.4 36.1 39 38.1 Q43.5 40.1 46.15 44.05 Q48.8 48 48.8 52.8 Q48.8 56.2 47.6 59.45 Q46.4 62.7 43.85 65.25 Q41.3 67.8 37.2 69.35 Q33.1 70.9 27.3 70.9 Q23.2 70.9 19.45 69.7 Q15.7 68.5 12.8 66.2 Q9.9 63.9 8.2 60.55 Q6.5 57.2 6.5 52.8 ZM13 20 Q13 23.1 14.15 25.6 Q15.3 28.1 17.35 29.9 Q19.4 31.7 22.15 32.65 Q24.9 33.6 28 33.6 Q31 33.6 33.65 32.55 Q36.3 31.5 38.3 29.7 Q40.3 27.9 41.45 25.45 Q42.6 23 42.6 20.1 Q42.6 17.1 41.55 14.6 Q40.5 12.1 38.55 10.25 Q36.6 8.4 33.95 7.35 Q31.3 6.3 28.1 6.3 Q21.5 6.3 17.25 9.95 Q13 13.6 13 20 Z\"\n",
       "        /><glyph unicode=\"-\" horiz-adv-x=\"38.9\" d=\"M5 31.8 L5 23.8 L33.9 23.8 L33.9 31.8 Z\"\n",
       "        /><glyph unicode=\"6\" horiz-adv-x=\"55.6\" d=\"M41.4 52.8 L49.9 52.8 Q49.1 61.6 43.9 66.25 Q38.7 70.9 29.9 70.9 Q22.3 70.9 17.3 67.7 Q12.3 64.5 9.3 59.2 Q6.3 53.9 5.05 47.05 Q3.8 40.2 3.8 32.9 Q3.8 27.3 4.65 21.3 Q5.5 15.3 8.1 10.3 Q10.7 5.3 15.5 2.1 Q20.3 -1.1 28.2 -1.1 Q34.9 -1.1 39.45 1.15 Q44 3.4 46.75 6.85 Q49.5 10.3 50.7 14.5 Q51.9 18.7 51.9 22.6 Q51.9 27.5 50.4 31.7 Q48.9 35.9 46.15 39 Q43.4 42.1 39.35 43.85 Q35.3 45.6 30.2 45.6 Q24.4 45.6 19.95 43.4 Q15.5 41.2 12.5 36.3 L12.3 36.5 Q12.4 40.6 13.1 45.3 Q13.8 50 15.65 54.05 Q17.5 58.1 20.8 60.75 Q24.1 63.4 29.5 63.4 Q34.6 63.4 37.7 60.5 Q40.8 57.6 41.4 52.8 ZM28.6 38.1 Q32.2 38.1 34.9 36.8 Q37.6 35.5 39.4 33.35 Q41.2 31.2 42.05 28.25 Q42.9 25.3 42.9 22 Q42.9 18.9 41.95 16.05 Q41 13.2 39.2 11 Q37.4 8.8 34.75 7.55 Q32.1 6.3 28.6 6.3 Q25.1 6.3 22.35 7.55 Q19.6 8.8 17.75 10.9 Q15.9 13 14.9 15.9 Q13.9 18.8 13.9 22.1 Q13.9 25.4 14.85 28.35 Q15.8 31.3 17.7 33.45 Q19.6 35.6 22.3 36.85 Q25 38.1 28.6 38.1 Z\"\n",
       "        /><glyph unicode=\"4\" horiz-adv-x=\"55.6\" d=\"M33.9 24.1 L10.1 24.1 L33.7 58.8 L33.9 58.8 ZM41.9 24.1 L41.9 70.9 L35.1 70.9 L2.8 24.8 L2.8 16.6 L33.9 16.6 L33.9 0 L41.9 0 L41.9 16.6 L51.5 16.6 L51.5 24.1 Z\"\n",
       "        /><glyph unicode=\"2\" horiz-adv-x=\"55.6\" d=\"M4.4 45.8 L12.9 45.8 Q12.8 49 13.55 52.15 Q14.3 55.3 16 57.8 Q17.7 60.3 20.35 61.85 Q23 63.4 26.7 63.4 Q29.5 63.4 32 62.5 Q34.5 61.6 36.35 59.9 Q38.2 58.2 39.3 55.85 Q40.4 53.5 40.4 50.6 Q40.4 46.9 39.25 44.1 Q38.1 41.3 35.85 38.9 Q33.6 36.5 30.2 34.15 Q26.8 31.8 22.3 29 Q18.6 26.8 15.2 24.3 Q11.8 21.8 9.1 18.5 Q6.4 15.2 4.65 10.75 Q2.9 6.3 2.4 0 L48.7 0 L48.7 7.5 L12.3 7.5 Q12.9 10.8 14.85 13.35 Q16.8 15.9 19.55 18.1 Q22.3 20.3 25.6 22.25 Q28.9 24.2 32.2 26.2 Q35.5 28.3 38.6 30.6 Q41.7 32.9 44.1 35.75 Q46.5 38.6 47.95 42.2 Q49.4 45.8 49.4 50.5 Q49.4 55.5 47.65 59.3 Q45.9 63.1 42.9 65.65 Q39.9 68.2 35.85 69.55 Q31.8 70.9 27.2 70.9 Q21.6 70.9 17.2 69 Q12.8 67.1 9.85 63.75 Q6.9 60.4 5.5 55.8 Q4.1 51.2 4.4 45.8 Z\"\n",
       "        /><glyph unicode=\")\" horiz-adv-x=\"25.9\" d=\"M-0.9 -19.7 L5.5 -19.7 Q13.3 -9.4 17.25 2.55 Q21.2 14.5 21.2 26.3 Q21.2 32.9 20.1 38.9 Q19 44.9 16.95 50.65 Q14.9 56.4 12 61.95 Q9.1 67.5 5.5 73.1 L-0.9 73.1 Q6.1 61.6 9.15 50.25 Q12.2 38.9 12.2 26.3 Q12.2 14.1 9.2 2.85 Q6.2 -8.4 -0.9 -19.7 Z\"\n",
       "        /><glyph unicode=\"B\" horiz-adv-x=\"68.5\" d=\"M17.3 40.7 L17.3 63.4 L36.3 63.4 Q39.4 63.4 42.15 63.05 Q44.9 62.7 47 61.5 Q49.1 60.3 50.3 58.1 Q51.5 55.9 51.5 52.1 Q51.5 46.4 47.95 43.55 Q44.4 40.7 36.3 40.7 ZM7.8 71.4 L7.8 0 L42.3 0 Q47.6 0 51.65 1.75 Q55.7 3.5 58.45 6.35 Q61.2 9.2 62.6 12.9 Q64 16.6 64 20.5 Q64 27.1 60.5 31.7 Q57 36.3 50.4 37.7 L50.4 37.9 Q55.5 39.9 58.25 44.05 Q61 48.2 61 53.9 Q61 59.3 58.55 63 Q56.1 66.7 52.6 68.8 Q51 69.8 48.75 70.3 Q46.5 70.8 43.9 71.05 Q41.3 71.3 38.65 71.35 Q36 71.4 33.7 71.4 ZM17.3 8 L17.3 32.7 L39 32.7 Q42 32.7 44.8 32.15 Q47.6 31.6 49.75 30.25 Q51.9 28.9 53.2 26.6 Q54.5 24.3 54.5 20.8 Q54.5 14.8 50.95 11.4 Q47.4 8 41.1 8 Z\"\n",
       "        /><glyph unicode=\"(\" horiz-adv-x=\"25.9\" d=\"M20.4 -19.7 L26.9 -19.7 Q19.8 -8.2 16.75 3.1 Q13.7 14.4 13.7 27 Q13.7 39.3 16.7 50.5 Q19.7 61.7 26.9 73.1 L20.4 73.1 Q12.6 62.8 8.65 50.8 Q4.7 38.8 4.7 27 Q4.7 20.4 5.8 14.4 Q6.9 8.4 8.95 2.7 Q11 -3 13.9 -8.55 Q16.8 -14.1 20.4 -19.7 Z\"\n",
       "        /><glyph unicode=\" \" horiz-adv-x=\"27.8\" d=\"\"\n",
       "        /><glyph unicode=\"e\" horiz-adv-x=\"53.7\" d=\"M42.3 30.8 L12.6 30.8 Q12.8 33.8 13.9 36.45 Q15 39.1 16.9 41.1 Q18.8 43.1 21.45 44.25 Q24.1 45.4 27.4 45.4 Q30.6 45.4 33.25 44.25 Q35.9 43.1 37.85 41.15 Q39.8 39.2 40.95 36.5 Q42.1 33.8 42.3 30.8 ZM50.5 16.4 L42.1 16.4 Q41 11.3 37.55 8.8 Q34.1 6.3 28.7 6.3 Q24.5 6.3 21.4 7.7 Q18.3 9.1 16.3 11.45 Q14.3 13.8 13.4 16.85 Q12.5 19.9 12.6 23.3 L51.3 23.3 Q51.5 28 50.45 33.2 Q49.4 38.4 46.65 42.8 Q43.9 47.2 39.35 50.05 Q34.8 52.9 27.9 52.9 Q22.6 52.9 18.15 50.9 Q13.7 48.9 10.45 45.3 Q7.2 41.7 5.4 36.8 Q3.6 31.9 3.6 26 Q3.8 20.1 5.35 15.1 Q6.9 10.1 10 6.5 Q13.1 2.9 17.65 0.9 Q22.2 -1.1 28.4 -1.1 Q37.2 -1.1 43 3.3 Q48.8 7.7 50.5 16.4 Z\"\n",
       "        /><glyph unicode=\"d\" horiz-adv-x=\"59.3\" d=\"M12.6 25.4 Q12.6 29.2 13.4 32.8 Q14.2 36.4 16 39.2 Q17.8 42 20.8 43.7 Q23.8 45.4 28.1 45.4 Q32.5 45.4 35.6 43.75 Q38.7 42.1 40.65 39.4 Q42.6 36.7 43.5 33.15 Q44.4 29.6 44.4 25.8 Q44.4 22.2 43.55 18.7 Q42.7 15.2 40.8 12.45 Q38.9 9.7 35.9 8 Q32.9 6.3 28.6 6.3 Q24.5 6.3 21.45 7.9 Q18.4 9.5 16.45 12.2 Q14.5 14.9 13.55 18.35 Q12.6 21.8 12.6 25.4 ZM52.6 0 L52.6 71.4 L44.1 71.4 L44.1 44.8 L43.9 44.8 Q42.5 47.1 40.45 48.65 Q38.4 50.2 36.1 51.15 Q33.8 52.1 31.5 52.5 Q29.2 52.9 27.2 52.9 Q21.3 52.9 16.85 50.75 Q12.4 48.6 9.45 44.95 Q6.5 41.3 5.05 36.4 Q3.6 31.5 3.6 26 Q3.6 20.5 5.1 15.6 Q6.6 10.7 9.55 7 Q12.5 3.3 16.95 1.1 Q21.4 -1.1 27.4 -1.1 Q32.8 -1.1 37.3 0.8 Q41.8 2.7 43.9 7 L44.1 7 L44.1 0 Z\"\n",
       "        /><glyph unicode=\"u\" horiz-adv-x=\"55.6\" d=\"M49.2 0 L49.2 51.7 L40.7 51.7 L40.7 22.5 Q40.7 19 39.75 16.05 Q38.8 13.1 36.9 10.9 Q35 8.7 32.15 7.5 Q29.3 6.3 25.4 6.3 Q20.5 6.3 17.7 9.1 Q14.9 11.9 14.9 16.7 L14.9 51.7 L6.4 51.7 L6.4 17.7 Q6.4 13.5 7.25 10.05 Q8.1 6.6 10.2 4.1 Q12.3 1.6 15.7 0.25 Q19.1 -1.1 24.2 -1.1 Q29.9 -1.1 34.1 1.15 Q38.3 3.4 41 8.2 L41.2 8.2 L41.2 0 Z\"\n",
       "        /><glyph unicode=\"t\" horiz-adv-x=\"31.5\" d=\"M18.2 51.7 L18.2 67.2 L9.7 67.2 L9.7 51.7 L0.9 51.7 L0.9 44.2 L9.7 44.2 L9.7 11.3 Q9.7 7.7 10.4 5.5 Q11.1 3.3 12.55 2.1 Q14 0.9 16.35 0.45 Q18.7 0 22 0 L28.5 0 L28.5 7.5 L24.6 7.5 Q22.6 7.5 21.35 7.65 Q20.1 7.8 19.4 8.3 Q18.7 8.8 18.45 9.7 Q18.2 10.6 18.2 12.1 L18.2 44.2 L28.5 44.2 L28.5 51.7 Z\"\n",
       "        /><glyph unicode=\"i\" horiz-adv-x=\"22.2\" d=\"M15.4 61 L15.4 71.4 L6.9 71.4 L6.9 61 ZM6.9 51.7 L6.9 0 L15.4 0 L15.4 51.7 Z\"\n",
       "        /><glyph unicode=\"n\" horiz-adv-x=\"55.6\" d=\"M6.4 51.7 L6.4 0 L14.9 0 L14.9 29.2 Q14.9 32.7 15.85 35.65 Q16.8 38.6 18.7 40.8 Q20.6 43 23.45 44.2 Q26.3 45.4 30.2 45.4 Q35.1 45.4 37.9 42.6 Q40.7 39.8 40.7 35 L40.7 0 L49.2 0 L49.2 34 Q49.2 38.2 48.35 41.65 Q47.5 45.1 45.4 47.6 Q43.3 50.1 39.9 51.5 Q36.5 52.9 31.4 52.9 Q19.9 52.9 14.6 43.5 L14.4 43.5 L14.4 51.7 Z\"\n",
       "        /><glyph unicode=\"g\" horiz-adv-x=\"57.4\" d=\"M51 4.4 L51 51.7 L43 51.7 L43 44.3 L42.9 44.3 Q40.6 48.6 36.5 50.75 Q32.4 52.9 27.5 52.9 Q20.8 52.9 16.2 50.35 Q11.6 47.8 8.8 43.85 Q6 39.9 4.8 35.05 Q3.6 30.2 3.6 25.6 Q3.6 20.3 5.05 15.55 Q6.5 10.8 9.4 7.25 Q12.3 3.7 16.6 1.6 Q20.9 -0.5 26.7 -0.5 Q31.7 -0.5 36.15 1.75 Q40.6 4 42.8 8.8 L43 8.8 L43 5.4 Q43 1.1 42.15 -2.5 Q41.3 -6.1 39.4 -8.65 Q37.5 -11.2 34.6 -12.65 Q31.7 -14.1 27.5 -14.1 Q25.4 -14.1 23.1 -13.65 Q20.8 -13.2 18.85 -12.2 Q16.9 -11.2 15.55 -9.6 Q14.2 -8 14.1 -5.7 L5.6 -5.7 Q5.8 -9.9 7.8 -12.8 Q9.8 -15.7 12.85 -17.5 Q15.9 -19.3 19.65 -20.1 Q23.4 -20.9 27 -20.9 Q39.4 -20.9 45.2 -14.6 Q51 -8.3 51 4.4 ZM27.2 6.9 Q23 6.9 20.2 8.65 Q17.4 10.4 15.7 13.25 Q14 16.1 13.3 19.6 Q12.6 23.1 12.6 26.6 Q12.6 30.3 13.45 33.7 Q14.3 37.1 16.15 39.7 Q18 42.3 20.9 43.85 Q23.8 45.4 27.9 45.4 Q31.9 45.4 34.7 43.8 Q37.5 42.2 39.25 39.55 Q41 36.9 41.8 33.6 Q42.6 30.3 42.6 26.9 Q42.6 23.3 41.75 19.7 Q40.9 16.1 39.1 13.25 Q37.3 10.4 34.35 8.65 Q31.4 6.9 27.2 6.9 Z\"\n",
       "        /><glyph unicode=\"a\" horiz-adv-x=\"53.7\" d=\"M52.2 0.2 Q50 -1.1 46.1 -1.1 Q42.8 -1.1 40.85 0.75 Q38.9 2.6 38.9 6.8 Q35.4 2.6 30.75 0.75 Q26.1 -1.1 20.7 -1.1 Q17.2 -1.1 14.05 -0.3 Q10.9 0.5 8.6 2.2 Q6.3 3.9 4.95 6.65 Q3.6 9.4 3.6 13.3 Q3.6 17.7 5.1 20.5 Q6.6 23.3 9.05 25.05 Q11.5 26.8 14.65 27.7 Q17.8 28.6 21.1 29.2 Q24.6 29.9 27.75 30.25 Q30.9 30.6 33.3 31.25 Q35.7 31.9 37.1 33.15 Q38.5 34.4 38.5 36.8 Q38.5 39.6 37.45 41.3 Q36.4 43 34.75 43.9 Q33.1 44.8 31.05 45.1 Q29 45.4 27 45.4 Q21.6 45.4 18 43.35 Q14.4 41.3 14.1 35.6 L5.6 35.6 Q5.8 40.4 7.6 43.7 Q9.4 47 12.4 49.05 Q15.4 51.1 19.25 52 Q23.1 52.9 27.5 52.9 Q31 52.9 34.45 52.4 Q37.9 51.9 40.7 50.35 Q43.5 48.8 45.2 46 Q46.9 43.2 46.9 38.7 L46.9 12.1 Q46.9 9.1 47.25 7.7 Q47.6 6.3 49.6 6.3 Q50.7 6.3 52.2 6.8 ZM38.4 26.7 Q36.8 25.5 34.2 24.95 Q31.6 24.4 28.75 24.05 Q25.9 23.7 23 23.25 Q20.1 22.8 17.8 21.8 Q15.5 20.8 14.05 18.95 Q12.6 17.1 12.6 13.9 Q12.6 11.8 13.45 10.35 Q14.3 8.9 15.65 8 Q17 7.1 18.8 6.7 Q20.6 6.3 22.6 6.3 Q26.8 6.3 29.8 7.45 Q32.8 8.6 34.7 10.35 Q36.6 12.1 37.5 14.15 Q38.4 16.2 38.4 18 Z\"\n",
       "        /><glyph unicode=\"M\" horiz-adv-x=\"87.1\" d=\"M8 71.4 L8 0 L17 0 L17 59.4 L17.2 59.4 L39.5 0 L47.6 0 L69.9 59.4 L70.1 59.4 L70.1 0 L79.1 0 L79.1 71.4 L66.1 71.4 L43.5 11.4 L21 71.4 Z\"\n",
       "        /><glyph unicode=\"1\" horiz-adv-x=\"55.6\" d=\"M35.6 0 L35.6 70.9 L29.1 70.9 Q28.4 66.9 26.5 64.3 Q24.6 61.7 21.85 60.2 Q19.1 58.7 15.7 58.15 Q12.3 57.6 8.7 57.6 L8.7 50.8 L27.1 50.8 L27.1 0 Z\"\n",
       "        /><glyph unicode=\"3\" horiz-adv-x=\"55.6\" d=\"M21.8 40.5 L21.8 33.3 Q24.2 33.6 26.9 33.6 Q30.1 33.6 32.85 32.75 Q35.6 31.9 37.6 30.15 Q39.6 28.4 40.8 25.85 Q42 23.3 42 20 Q42 16.8 40.75 14.25 Q39.5 11.7 37.4 9.95 Q35.3 8.2 32.5 7.25 Q29.7 6.3 26.6 6.3 Q19.3 6.3 15.5 10.65 Q11.7 15 11.5 21.9 L3 21.9 Q2.9 16.4 4.55 12.1 Q6.2 7.8 9.3 4.85 Q12.4 1.9 16.8 0.4 Q21.2 -1.1 26.6 -1.1 Q31.6 -1.1 36.05 0.25 Q40.5 1.6 43.8 4.3 Q47.1 7 49.05 11.05 Q51 15.1 51 20.4 Q51 26.8 47.85 31.5 Q44.7 36.2 38.2 37.6 L38.2 37.8 Q42.4 39.7 45.2 43.4 Q48 47.1 48 51.9 Q48 56.8 46.35 60.4 Q44.7 64 41.8 66.3 Q38.9 68.6 34.95 69.75 Q31 70.9 26.4 70.9 Q21.1 70.9 17.05 69.2 Q13 67.5 10.3 64.5 Q7.6 61.5 6.15 57.3 Q4.7 53.1 4.5 48 L13 48 Q13 51.1 13.8 53.9 Q14.6 56.7 16.25 58.8 Q17.9 60.9 20.45 62.15 Q23 63.4 26.4 63.4 Q31.8 63.4 35.4 60.55 Q39 57.7 39 52 Q39 49.2 37.9 47 Q36.8 44.8 34.95 43.35 Q33.1 41.9 30.65 41.15 Q28.2 40.4 25.5 40.4 L23.7 40.4 Q23.2 40.4 22.7 40.4 Q22.3 40.4 21.8 40.5 Z\"\n",
       "        /><glyph unicode=\"5\" horiz-adv-x=\"55.6\" d=\"M47 62.2 L47 69.7 L12 69.7 L5.4 32.9 L12.7 32.5 Q15.2 35.5 18.45 37.35 Q21.7 39.2 25.9 39.2 Q29.5 39.2 32.45 38 Q35.4 36.8 37.5 34.65 Q39.6 32.5 40.75 29.55 Q41.9 26.6 41.9 23.1 Q41.9 18.9 40.7 15.75 Q39.5 12.6 37.45 10.5 Q35.4 8.4 32.65 7.35 Q29.9 6.3 26.9 6.3 Q23.7 6.3 21.05 7.25 Q18.4 8.2 16.45 9.95 Q14.5 11.7 13.35 14.05 Q12.2 16.4 12 19.1 L3.5 19.1 Q3.6 14.3 5.4 10.5 Q7.2 6.7 10.3 4.15 Q13.4 1.6 17.45 0.25 Q21.5 -1.1 26.1 -1.1 Q32.3 -1.1 36.95 0.85 Q41.6 2.8 44.7 6.1 Q47.8 9.4 49.35 13.65 Q50.9 17.9 50.9 22.4 Q50.9 28.5 49.1 33.05 Q47.3 37.6 44.2 40.65 Q41.1 43.7 36.9 45.2 Q32.7 46.7 28 46.7 Q24.4 46.7 20.75 45.45 Q17.1 44.2 14.8 41.6 L14.6 41.8 L18.4 62.2 Z\"\n",
       "        /><glyph unicode=\"9\" horiz-adv-x=\"55.6\" d=\"M13.4 17.1 L4.9 17.1 Q5.7 7.9 11.6 3.4 Q17.5 -1.1 26.4 -1.1 Q39.3 -1.1 45.15 8.75 Q51 18.6 51 37 Q51 47.1 49.05 53.65 Q47.1 60.2 43.8 64 Q40.5 67.8 36.1 69.35 Q31.7 70.9 26.7 70.9 Q21.6 70.9 17.3 69.2 Q13 67.5 9.9 64.45 Q6.8 61.4 5.1 57.15 Q3.4 52.9 3.4 47.8 Q3.4 42.6 4.85 38.2 Q6.3 33.8 9.15 30.7 Q12 27.6 16.2 25.85 Q20.4 24.1 25.8 24.1 Q31 24.1 35.4 26.75 Q39.8 29.4 42.2 33.9 L42.4 33.7 Q42 19.8 38.1 13.05 Q34.2 6.3 26.4 6.3 Q21.3 6.3 17.6 9.1 Q13.9 11.9 13.4 17.1 ZM40.9 47.2 Q40.9 44.1 39.9 41.25 Q38.9 38.4 37 36.25 Q35.1 34.1 32.4 32.85 Q29.7 31.6 26.4 31.6 Q23.3 31.6 20.75 32.85 Q18.2 34.1 16.35 36.2 Q14.5 38.3 13.45 41 Q12.4 43.7 12.4 46.6 Q12.4 49.9 13.15 52.9 Q13.9 55.9 15.55 58.25 Q17.2 60.6 19.85 62 Q22.5 63.4 26.3 63.4 Q29.9 63.4 32.6 62.1 Q35.3 60.8 37.15 58.55 Q39 56.3 39.95 53.4 Q40.9 50.5 40.9 47.2 Z\"\n",
       "        /><glyph unicode=\"s\" horiz-adv-x=\"50.0\" d=\"M11.6 16.3 L3.1 16.3 Q3.3 11.5 5.1 8.15 Q6.9 4.8 9.9 2.75 Q12.9 0.7 16.8 -0.2 Q20.7 -1.1 25 -1.1 Q28.9 -1.1 32.85 -0.35 Q36.8 0.4 39.95 2.3 Q43.1 4.2 45.05 7.3 Q47 10.4 47 15.1 Q47 18.8 45.55 21.3 Q44.1 23.8 41.75 25.45 Q39.4 27.1 36.35 28.1 Q33.3 29.1 30.1 29.8 Q27.1 30.5 24.1 31.15 Q21.1 31.8 18.7 32.75 Q16.3 33.7 14.75 35.15 Q13.2 36.6 13.2 38.8 Q13.2 40.8 14.2 42.05 Q15.2 43.3 16.8 44.05 Q18.4 44.8 20.35 45.1 Q22.3 45.4 24.2 45.4 Q26.3 45.4 28.35 44.95 Q30.4 44.5 32.1 43.5 Q33.8 42.5 34.9 40.85 Q36 39.2 36.2 36.7 L44.7 36.7 Q44.4 41.4 42.7 44.55 Q41 47.7 38.15 49.55 Q35.3 51.4 31.6 52.15 Q27.9 52.9 23.5 52.9 Q20.1 52.9 16.65 52.05 Q13.2 51.2 10.45 49.45 Q7.7 47.7 5.95 44.9 Q4.2 42.1 4.2 38.2 Q4.2 33.2 6.7 30.4 Q9.2 27.6 12.95 26.05 Q16.7 24.5 21.1 23.65 Q25.5 22.8 29.25 21.75 Q33 20.7 35.5 19 Q38 17.3 38 14 Q38 11.6 36.8 10.05 Q35.6 8.5 33.75 7.7 Q31.9 6.9 29.7 6.6 Q27.5 6.3 25.5 6.3 Q22.9 6.3 20.45 6.8 Q18 7.3 16.05 8.45 Q14.1 9.6 12.9 11.55 Q11.7 13.5 11.6 16.3 Z\"\n",
       "        /><glyph unicode=\"h\" horiz-adv-x=\"55.6\" d=\"M6.4 71.4 L6.4 0 L14.9 0 L14.9 29.2 Q14.9 32.7 15.85 35.65 Q16.8 38.6 18.7 40.8 Q20.6 43 23.45 44.2 Q26.3 45.4 30.2 45.4 Q35.1 45.4 37.9 42.6 Q40.7 39.8 40.7 35 L40.7 0 L49.2 0 L49.2 34 Q49.2 38.2 48.35 41.65 Q47.5 45.1 45.4 47.6 Q43.3 50.1 39.9 51.5 Q36.5 52.9 31.4 52.9 Q29.1 52.9 26.65 52.4 Q24.2 51.9 21.95 50.85 Q19.7 49.8 17.9 48.15 Q16.1 46.5 15.1 44.1 L14.9 44.1 L14.9 71.4 Z\"\n",
       "        /><glyph unicode=\"P\" horiz-adv-x=\"64.8\" d=\"M17.3 37.2 L17.3 63.4 L35.9 63.4 Q44 63.4 47.75 60.05 Q51.5 56.7 51.5 50.3 Q51.5 43.9 47.75 40.5 Q44 37.1 35.9 37.2 ZM7.8 71.4 L7.8 0 L17.3 0 L17.3 29.2 L39.1 29.2 Q49.9 29.1 55.45 34.7 Q61 40.3 61 50.3 Q61 60.3 55.45 65.85 Q49.9 71.4 39.1 71.4 Z\"\n",
       "        /><glyph unicode=\"/\" horiz-adv-x=\"33.3\" d=\"M27.8 73.1 L-1.7 -1.6 L5.5 -1.6 L35.1 73.1 Z\"\n",
       "        /><glyph unicode=\"y\" horiz-adv-x=\"50.0\" d=\"M26.7 -6.9 Q25.2 -10.7 23.75 -13.3 Q22.3 -15.9 20.55 -17.55 Q18.8 -19.2 16.65 -19.95 Q14.5 -20.7 11.7 -20.7 Q10.2 -20.7 8.7 -20.5 Q7.2 -20.3 5.8 -19.8 L5.8 -12 Q6.9 -12.5 8.35 -12.85 Q9.8 -13.2 10.8 -13.2 Q13.4 -13.2 15.15 -11.95 Q16.9 -10.7 17.8 -8.4 L21.3 0.3 L0.8 51.7 L10.4 51.7 L25.5 9.4 L25.7 9.4 L40.2 51.7 L49.2 51.7 Z\"\n",
       "        /><glyph unicode=\"c\" horiz-adv-x=\"53.7\" d=\"M41.5 35.1 L50.3 35.1 Q49.8 39.7 47.9 43.05 Q46 46.4 43.05 48.6 Q40.1 50.8 36.25 51.85 Q32.4 52.9 28 52.9 Q21.9 52.9 17.3 50.75 Q12.7 48.6 9.65 44.85 Q6.6 41.1 5.1 36.05 Q3.6 31 3.6 25.2 Q3.6 19.4 5.15 14.55 Q6.7 9.7 9.75 6.2 Q12.8 2.7 17.35 0.8 Q21.9 -1.1 27.8 -1.1 Q37.7 -1.1 43.45 4.1 Q49.2 9.3 50.6 18.9 L41.9 18.9 Q41.1 12.9 37.55 9.6 Q34 6.3 27.7 6.3 Q23.7 6.3 20.8 7.9 Q17.9 9.5 16.1 12.15 Q14.3 14.8 13.45 18.2 Q12.6 21.6 12.6 25.2 Q12.6 29.1 13.4 32.75 Q14.2 36.4 16.05 39.2 Q17.9 42 21 43.7 Q24.1 45.4 28.7 45.4 Q34.1 45.4 37.3 42.7 Q40.5 40 41.5 35.1 Z\"\n",
       "        /><glyph unicode=\"q\" horiz-adv-x=\"59.3\" d=\"M12.6 25.4 Q12.6 29.2 13.4 32.8 Q14.2 36.4 16 39.2 Q17.8 42 20.8 43.7 Q23.8 45.4 28.1 45.4 Q32.5 45.4 35.6 43.75 Q38.7 42.1 40.65 39.4 Q42.6 36.7 43.5 33.15 Q44.4 29.6 44.4 25.8 Q44.4 22.2 43.55 18.7 Q42.7 15.2 40.8 12.45 Q38.9 9.7 35.9 8 Q32.9 6.3 28.6 6.3 Q24.5 6.3 21.45 7.9 Q18.4 9.5 16.45 12.2 Q14.5 14.9 13.55 18.35 Q12.6 21.8 12.6 25.4 ZM52.6 -19.7 L52.6 51.7 L44.1 51.7 L44.1 44.8 L43.9 44.8 Q42.5 47.1 40.45 48.65 Q38.4 50.2 36.1 51.15 Q33.8 52.1 31.5 52.5 Q29.2 52.9 27.2 52.9 Q21.3 52.9 16.85 50.75 Q12.4 48.6 9.45 44.95 Q6.5 41.3 5.05 36.4 Q3.6 31.5 3.6 26 Q3.6 20.5 5.1 15.6 Q6.6 10.7 9.55 7 Q12.5 3.3 16.95 1.1 Q21.4 -1.1 27.4 -1.1 Q32.8 -1.1 37.3 0.8 Q41.8 2.7 43.9 7 L44.1 7 L44.1 -19.7 Z\"\n",
       "        /><glyph unicode=\"r\" horiz-adv-x=\"33.3\" d=\"M6.1 51.7 L6.1 0 L14.6 0 L14.6 23 Q14.6 28 15.6 31.85 Q16.6 35.7 18.8 38.4 Q21 41.1 24.6 42.5 Q28.2 43.9 33.3 43.9 L33.3 52.9 Q26.4 53.1 21.9 50.1 Q17.4 47.1 14.3 40.8 L14.1 40.8 L14.1 51.7 Z\"\n",
       "        /><glyph unicode=\"F\" horiz-adv-x=\"57.4\" d=\"M7.8 71.4 L7.8 0 L17.3 0 L17.3 32.7 L50.1 32.7 L50.1 40.7 L17.3 40.7 L17.3 63.4 L54.7 63.4 L54.7 71.4 Z\"\n",
       "      /></font\n",
       "      ><font horiz-adv-x=\"50.0\" id=\"font2\"\n",
       "      ><font-face ascent=\"97.5\" descent=\"21.699999\" units-per-em=\"100\" style=\"font-style:normal; font-family:Helvetica Neue; font-weight:bold;\"\n",
       "        /><missing-glyph horiz-adv-x=\"50.0\" d=\"M39.1 60.7 L11.1 60.7 L11.1 9.5 L39.1 9.5 ZM48.2 69.8 L48.2 0.3 L1.7 0.3 L1.7 69.8 Z\"\n",
       "        /><glyph unicode=\"i\" horiz-adv-x=\"25.8\" d=\"M20 59.7 L20 71.4 L5.8 71.4 L5.8 59.7 ZM5.8 51.7 L5.8 0 L20 0 L20 51.7 Z\"\n",
       "        /><glyph unicode=\"F\" horiz-adv-x=\"59.3\" d=\"M6.9 71.4 L6.9 0 L22.6 0 L22.6 29.5 L52.5 29.5 L52.5 41.7 L22.6 41.7 L22.6 58.2 L57.1 58.2 L57.1 71.4 Z\"\n",
       "        /><glyph unicode=\"s\" horiz-adv-x=\"53.7\" d=\"M16.4 16.8 L2.9 16.8 Q3.1 11.6 5.25 8.15 Q7.4 4.7 10.75 2.6 Q14.1 0.5 18.4 -0.4 Q22.7 -1.3 27.2 -1.3 Q31.6 -1.3 35.85 -0.45 Q40.1 0.4 43.4 2.5 Q46.7 4.6 48.75 8.05 Q50.8 11.5 50.8 16.6 Q50.8 20.2 49.4 22.65 Q48 25.1 45.7 26.75 Q43.4 28.4 40.45 29.4 Q37.5 30.4 34.4 31.1 Q31.4 31.8 28.5 32.4 Q25.6 33 23.35 33.75 Q21.1 34.5 19.7 35.7 Q18.3 36.9 18.3 38.8 Q18.3 40.4 19.1 41.35 Q19.9 42.3 21.05 42.8 Q22.2 43.3 23.6 43.45 Q25 43.6 26.2 43.6 Q30 43.6 32.8 42.15 Q35.6 40.7 35.9 36.6 L49.4 36.6 Q49 41.4 46.95 44.55 Q44.9 47.7 41.8 49.6 Q38.7 51.5 34.75 52.3 Q30.8 53.1 26.6 53.1 Q22.4 53.1 18.4 52.35 Q14.4 51.6 11.2 49.75 Q8 47.9 6.05 44.7 Q4.1 41.5 4.1 36.5 Q4.1 33.1 5.5 30.75 Q6.9 28.4 9.2 26.85 Q11.5 25.3 14.45 24.35 Q17.4 23.4 20.5 22.7 Q28.1 21.1 32.35 19.5 Q36.6 17.9 36.6 14.7 Q36.6 12.8 35.7 11.55 Q34.8 10.3 33.45 9.55 Q32.1 8.8 30.45 8.45 Q28.8 8.1 27.3 8.1 Q25.2 8.1 23.25 8.6 Q21.3 9.1 19.8 10.15 Q18.3 11.2 17.35 12.85 Q16.4 14.5 16.4 16.8 Z\"\n",
       "        /><glyph unicode=\"a\" horiz-adv-x=\"57.4\" d=\"M4.8 35.8 Q5.1 40.8 7.3 44.1 Q9.5 47.4 12.9 49.4 Q16.3 51.4 20.55 52.25 Q24.8 53.1 29.1 53.1 Q33 53.1 37 52.55 Q41 52 44.3 50.4 Q47.6 48.8 49.7 45.95 Q51.8 43.1 51.8 38.4 L51.8 11.5 Q51.8 8 52.2 4.8 Q52.6 1.6 53.6 0 L39.2 0 Q38.8 1.2 38.55 2.45 Q38.3 3.7 38.2 5 Q34.8 1.5 30.2 0.1 Q25.6 -1.3 20.8 -1.3 Q17.1 -1.3 13.9 -0.4 Q10.7 0.5 8.3 2.4 Q5.9 4.3 4.55 7.2 Q3.2 10.1 3.2 14.1 Q3.2 18.5 4.75 21.35 Q6.3 24.2 8.75 25.9 Q11.2 27.6 14.35 28.45 Q17.5 29.3 20.7 29.8 Q23.9 30.3 27 30.6 Q30.1 30.9 32.5 31.5 Q34.9 32.1 36.3 33.25 Q37.7 34.4 37.6 36.6 Q37.6 38.9 36.85 40.25 Q36.1 41.6 34.85 42.35 Q33.6 43.1 31.95 43.35 Q30.3 43.6 28.4 43.6 Q24.2 43.6 21.8 41.8 Q19.4 40 19 35.8 ZM37.6 25.3 Q36.7 24.5 35.35 24.05 Q34 23.6 32.45 23.3 Q30.9 23 29.2 22.8 Q27.5 22.6 25.8 22.3 Q24.2 22 22.65 21.5 Q21.1 21 19.95 20.15 Q18.8 19.3 18.1 18 Q17.4 16.7 17.4 14.7 Q17.4 12.8 18.1 11.5 Q18.8 10.2 20 9.45 Q21.2 8.7 22.8 8.4 Q24.4 8.1 26.1 8.1 Q30.3 8.1 32.6 9.5 Q34.9 10.9 36 12.85 Q37.1 14.8 37.35 16.8 Q37.6 18.8 37.6 20 Z\"\n",
       "        /><glyph unicode=\"P\" horiz-adv-x=\"66.7\" d=\"M22.6 37.8 L22.6 59.2 L34.8 59.2 Q37.5 59.2 40 58.8 Q42.5 58.4 44.4 57.25 Q46.3 56.1 47.45 54 Q48.6 51.9 48.6 48.5 Q48.6 45.1 47.45 43 Q46.3 40.9 44.4 39.75 Q42.5 38.6 40 38.2 Q37.5 37.8 34.8 37.8 ZM6.9 71.4 L6.9 0 L22.6 0 L22.6 25.6 L39.1 25.6 Q45.8 25.6 50.5 27.55 Q55.2 29.5 58.15 32.7 Q61.1 35.9 62.45 40.05 Q63.8 44.2 63.8 48.5 Q63.8 52.9 62.45 57 Q61.1 61.1 58.15 64.3 Q55.2 67.5 50.5 69.45 Q45.8 71.4 39.1 71.4 Z\"\n",
       "        /><glyph unicode=\"L\" horiz-adv-x=\"59.3\" d=\"M6.9 71.4 L6.9 0 L57.4 0 L57.4 13.2 L22.6 13.2 L22.6 71.4 Z\"\n",
       "        /><glyph unicode=\"O\" horiz-adv-x=\"77.8\" d=\"M19.5 35.4 Q19.5 40.1 20.55 44.5 Q21.6 48.9 23.9 52.35 Q26.2 55.8 29.9 57.85 Q33.6 59.9 38.9 59.9 Q44.2 59.9 47.9 57.85 Q51.6 55.8 53.9 52.35 Q56.2 48.9 57.25 44.5 Q58.3 40.1 58.3 35.4 Q58.3 30.9 57.25 26.65 Q56.2 22.4 53.9 19 Q51.6 15.6 47.9 13.55 Q44.2 11.5 38.9 11.5 Q33.6 11.5 29.9 13.55 Q26.2 15.6 23.9 19 Q21.6 22.4 20.55 26.65 Q19.5 30.9 19.5 35.4 ZM3.8 35.4 Q3.8 27.6 6.2 20.85 Q8.6 14.1 13.1 9.1 Q17.6 4.1 24.15 1.25 Q30.7 -1.6 38.9 -1.6 Q47.2 -1.6 53.7 1.25 Q60.2 4.1 64.7 9.1 Q69.2 14.1 71.6 20.85 Q74 27.6 74 35.4 Q74 43.4 71.6 50.25 Q69.2 57.1 64.7 62.2 Q60.2 67.3 53.7 70.2 Q47.2 73.1 38.9 73.1 Q30.7 73.1 24.15 70.2 Q17.6 67.3 13.1 62.2 Q8.6 57.1 6.2 50.25 Q3.8 43.4 3.8 35.4 Z\"\n",
       "        /><glyph unicode=\"n\" horiz-adv-x=\"59.3\" d=\"M5.4 51.7 L5.4 0 L19.6 0 L19.6 27.1 Q19.6 35 22.2 38.45 Q24.8 41.9 30.6 41.9 Q35.7 41.9 37.7 38.75 Q39.7 35.6 39.7 29.2 L39.7 0 L53.9 0 L53.9 31.8 Q53.9 36.6 53.05 40.55 Q52.2 44.5 50.1 47.25 Q48 50 44.35 51.55 Q40.7 53.1 35 53.1 Q30.5 53.1 26.2 51.05 Q21.9 49 19.2 44.5 L18.9 44.5 L18.9 51.7 Z\"\n",
       "        /><glyph unicode=\"2\" horiz-adv-x=\"55.6\" d=\"M3.7 43.1 L17.3 43.1 Q17.3 45.9 17.85 48.75 Q18.4 51.6 19.7 53.95 Q21 56.3 23.15 57.75 Q25.3 59.2 28.4 59.2 Q33 59.2 35.95 56.35 Q38.9 53.5 38.9 48.4 Q38.9 45.2 37.45 42.7 Q36 40.2 33.85 38.2 Q31.7 36.2 29.1 34.55 Q26.5 32.9 24.2 31.3 Q19.7 28.2 15.65 25.2 Q11.6 22.2 8.6 18.65 Q5.6 15.1 3.85 10.6 Q2.1 6.1 2.1 0 L53.5 0 L53.5 12.2 L20.4 12.2 Q23 15.8 26.4 18.5 Q29.8 21.2 33.4 23.55 Q37 25.9 40.55 28.3 Q44.1 30.7 46.9 33.65 Q49.7 36.6 51.4 40.4 Q53.1 44.2 53.1 49.5 Q53.1 54.6 51.15 58.7 Q49.2 62.8 45.9 65.6 Q42.6 68.4 38.25 69.9 Q33.9 71.4 29.1 71.4 Q22.8 71.4 17.95 69.25 Q13.1 67.1 9.9 63.25 Q6.7 59.4 5.1 54.25 Q3.5 49.1 3.7 43.1 Z\"\n",
       "        /><glyph unicode=\"h\" horiz-adv-x=\"59.3\" d=\"M5.4 71.4 L5.4 0 L19.6 0 L19.6 27.1 Q19.6 35 22.2 38.45 Q24.8 41.9 30.6 41.9 Q35.7 41.9 37.7 38.75 Q39.7 35.6 39.7 29.2 L39.7 0 L53.9 0 L53.9 31.8 Q53.9 36.6 53.05 40.55 Q52.2 44.5 50.1 47.25 Q48 50 44.35 51.55 Q40.7 53.1 35 53.1 Q31 53.1 26.8 51.05 Q22.6 49 19.9 44.5 L19.6 44.5 L19.6 71.4 Z\"\n",
       "        /><glyph unicode=\"w\" horiz-adv-x=\"81.4\" d=\"M64.5 0 L80.8 51.7 L66.2 51.7 L56.7 16.7 L56.5 16.7 L47.7 51.7 L33.9 51.7 L25.3 16.6 L25.1 16.6 L15.6 51.7 L0.6 51.7 L17 0 L31.7 0 L40.5 34.7 L40.7 34.7 L49.9 0 Z\"\n",
       "        /><glyph unicode=\"r\" horiz-adv-x=\"38.9\" d=\"M5.4 51.7 L5.4 0 L19.6 0 L19.6 23.3 Q19.6 26.8 20.3 29.8 Q21 32.8 22.65 35.05 Q24.3 37.3 27 38.6 Q29.7 39.9 33.6 39.9 Q34.9 39.9 36.3 39.75 Q37.7 39.6 38.7 39.4 L38.7 52.6 Q37 53.1 35.6 53.1 Q32.9 53.1 30.4 52.3 Q27.9 51.5 25.7 50.05 Q23.5 48.6 21.8 46.55 Q20.1 44.5 19.1 42.1 L18.9 42.1 L18.9 51.7 Z\"\n",
       "        /><glyph unicode=\"u\" horiz-adv-x=\"59.3\" d=\"M53.9 0 L53.9 51.7 L39.7 51.7 L39.7 24.6 Q39.7 16.7 37.1 13.25 Q34.5 9.8 28.7 9.8 Q23.6 9.8 21.6 12.95 Q19.6 16.1 19.6 22.5 L19.6 51.7 L5.4 51.7 L5.4 19.9 Q5.4 15.1 6.25 11.15 Q7.1 7.2 9.2 4.45 Q11.3 1.7 14.95 0.2 Q18.6 -1.3 24.3 -1.3 Q28.8 -1.3 33.1 0.7 Q37.4 2.7 40.1 7.2 L40.4 7.2 L40.4 0 Z\"\n",
       "        /><glyph unicode=\"f\" horiz-adv-x=\"33.3\" d=\"M8.5 42.2 L8.5 0 L22.7 0 L22.7 42.2 L32.5 42.2 L32.5 51.7 L22.7 51.7 L22.7 54.8 Q22.7 58 23.95 59.35 Q25.2 60.7 28.1 60.7 Q30.8 60.7 33.3 60.4 L33.3 71 Q31.5 71.1 29.6 71.25 Q27.7 71.4 25.8 71.4 Q17.1 71.4 12.8 67 Q8.5 62.6 8.5 55.7 L8.5 51.7 L0 51.7 L0 42.2 Z\"\n",
       "        /><glyph unicode=\" \" horiz-adv-x=\"27.8\" d=\"\"\n",
       "        /><glyph unicode=\"t\" horiz-adv-x=\"35.2\" d=\"M23.4 51.7 L23.4 67.2 L9.2 67.2 L9.2 51.7 L0.6 51.7 L0.6 42.2 L9.2 42.2 L9.2 11.7 Q9.2 7.8 10.5 5.4 Q11.8 3 14.05 1.7 Q16.3 0.4 19.25 -0.05 Q22.2 -0.5 25.5 -0.5 Q27.6 -0.5 29.8 -0.4 Q32 -0.3 33.8 0 L33.8 11 Q32.8 10.8 31.7 10.7 Q30.6 10.6 29.4 10.6 Q25.8 10.6 24.6 11.8 Q23.4 13 23.4 16.6 L23.4 42.2 L33.8 42.2 L33.8 51.7 Z\"\n",
       "        /><glyph unicode=\"l\" horiz-adv-x=\"25.8\" d=\"M5.8 71.4 L5.8 0 L20 0 L20 71.4 Z\"\n",
       "        /><glyph unicode=\"p\" horiz-adv-x=\"61.1\" d=\"M31.5 9.3 Q28.1 9.3 25.7 10.7 Q23.3 12.1 21.85 14.35 Q20.4 16.6 19.75 19.6 Q19.1 22.6 19.1 25.7 Q19.1 28.9 19.7 31.9 Q20.3 34.9 21.75 37.2 Q23.2 39.5 25.55 40.95 Q27.9 42.4 31.4 42.4 Q34.8 42.4 37.15 40.95 Q39.5 39.5 41 37.15 Q42.5 34.8 43.15 31.8 Q43.8 28.8 43.8 25.7 Q43.8 22.6 43.2 19.6 Q42.6 16.6 41.15 14.35 Q39.7 12.1 37.35 10.7 Q35 9.3 31.5 9.3 ZM5.4 51.7 L5.4 -18.1 L19.6 -18.1 L19.6 6.4 L19.8 6.4 Q22.4 2.6 26.45 0.65 Q30.5 -1.3 35.3 -1.3 Q41 -1.3 45.25 0.9 Q49.5 3.1 52.35 6.8 Q55.2 10.5 56.6 15.3 Q58 20.1 58 25.3 Q58 30.8 56.6 35.85 Q55.2 40.9 52.3 44.7 Q49.4 48.5 45 50.8 Q40.6 53.1 34.5 53.1 Q29.7 53.1 25.7 51.2 Q21.7 49.3 19.1 45.1 L18.9 45.1 L18.9 51.7 Z\"\n",
       "        /><glyph unicode=\"-\" horiz-adv-x=\"40.7\" d=\"M5.3 33.4 L5.3 21.2 L35.4 21.2 L35.4 33.4 Z\"\n",
       "        /><glyph unicode=\"e\" horiz-adv-x=\"57.4\" d=\"M40.2 31.4 L17.1 31.4 Q17.2 32.9 17.75 34.8 Q18.3 36.7 19.65 38.4 Q21 40.1 23.25 41.25 Q25.5 42.4 28.9 42.4 Q34.1 42.4 36.65 39.6 Q39.2 36.8 40.2 31.4 ZM17.1 22.4 L54.4 22.4 Q54.8 28.4 53.4 33.9 Q52 39.4 48.85 43.7 Q45.7 48 40.8 50.55 Q35.9 53.1 29.3 53.1 Q23.4 53.1 18.55 51 Q13.7 48.9 10.2 45.25 Q6.7 41.6 4.8 36.6 Q2.9 31.6 2.9 25.8 Q2.9 19.8 4.75 14.8 Q6.6 9.8 10 6.2 Q13.4 2.6 18.3 0.65 Q23.2 -1.3 29.3 -1.3 Q38.1 -1.3 44.3 2.7 Q50.5 6.7 53.5 16 L41 16 Q40.3 13.6 37.2 11.45 Q34.1 9.3 29.8 9.3 Q23.8 9.3 20.6 12.4 Q17.4 15.5 17.1 22.4 Z\"\n",
       "        /><glyph unicode=\"d\" horiz-adv-x=\"61.1\" d=\"M42.1 26 Q42.1 22.8 41.5 19.8 Q40.9 16.8 39.5 14.45 Q38.1 12.1 35.75 10.7 Q33.4 9.3 29.9 9.3 Q26.6 9.3 24.25 10.75 Q21.9 12.2 20.35 14.55 Q18.8 16.9 18.1 19.9 Q17.4 22.9 17.4 25.9 Q17.4 29.1 18.05 32.05 Q18.7 35 20.15 37.3 Q21.6 39.6 24 41 Q26.4 42.4 29.9 42.4 Q33.4 42.4 35.7 41 Q38 39.6 39.45 37.35 Q40.9 35.1 41.5 32.15 Q42.1 29.2 42.1 26 ZM42.3 6.6 L42.3 0 L55.8 0 L55.8 71.4 L41.6 71.4 L41.6 45.4 L41.4 45.4 Q39 49.2 34.85 51.15 Q30.7 53.1 26.1 53.1 Q20.4 53.1 16.1 50.85 Q11.8 48.6 8.95 44.9 Q6.1 41.2 4.65 36.35 Q3.2 31.5 3.2 26.3 Q3.2 20.9 4.65 15.9 Q6.1 10.9 8.95 7.05 Q11.8 3.2 16.2 0.95 Q20.6 -1.3 26.4 -1.3 Q31.5 -1.3 35.55 0.55 Q39.6 2.4 42.1 6.6 Z\"\n",
       "        /><glyph unicode=\"o\" horiz-adv-x=\"61.1\" d=\"M18 25.8 Q18 28.9 18.6 31.9 Q19.2 34.9 20.65 37.2 Q22.1 39.5 24.5 40.95 Q26.9 42.4 30.5 42.4 Q34.1 42.4 36.55 40.95 Q39 39.5 40.45 37.2 Q41.9 34.9 42.5 31.9 Q43.1 28.9 43.1 25.8 Q43.1 22.7 42.5 19.75 Q41.9 16.8 40.45 14.45 Q39 12.1 36.55 10.7 Q34.1 9.3 30.5 9.3 Q26.9 9.3 24.5 10.7 Q22.1 12.1 20.65 14.45 Q19.2 16.8 18.6 19.75 Q18 22.7 18 25.8 ZM3.8 25.8 Q3.8 19.6 5.7 14.6 Q7.6 9.6 11.1 6.05 Q14.6 2.5 19.5 0.6 Q24.4 -1.3 30.5 -1.3 Q36.6 -1.3 41.55 0.6 Q46.5 2.5 50 6.05 Q53.5 9.6 55.4 14.6 Q57.3 19.6 57.3 25.8 Q57.3 32 55.4 37.05 Q53.5 42.1 50 45.65 Q46.5 49.2 41.55 51.15 Q36.6 53.1 30.5 53.1 Q24.4 53.1 19.5 51.15 Q14.6 49.2 11.1 45.65 Q7.6 42.1 5.7 37.05 Q3.8 32 3.8 25.8 Z\"\n",
       "        /><glyph unicode=\"B\" horiz-adv-x=\"70.4\" d=\"M22.6 42.5 L22.6 59.2 L37.3 59.2 Q39.4 59.2 41.35 58.85 Q43.3 58.5 44.8 57.6 Q46.3 56.7 47.2 55.1 Q48.1 53.5 48.1 51 Q48.1 46.5 45.4 44.5 Q42.7 42.5 38.5 42.5 ZM6.9 71.4 L6.9 0 L41.5 0 Q46.3 0 50.85 1.2 Q55.4 2.4 58.95 4.9 Q62.5 7.4 64.6 11.35 Q66.7 15.3 66.7 20.7 Q66.7 27.4 63.45 32.15 Q60.2 36.9 53.6 38.8 Q58.4 41.1 60.85 44.7 Q63.3 48.3 63.3 53.7 Q63.3 58.7 61.65 62.1 Q60 65.5 57 67.55 Q54 69.6 49.8 70.5 Q45.6 71.4 40.5 71.4 ZM22.6 12.2 L22.6 31.8 L39.7 31.8 Q44.8 31.8 47.9 29.45 Q51 27.1 51 21.6 Q51 18.8 50.05 17 Q49.1 15.2 47.5 14.15 Q45.9 13.1 43.8 12.65 Q41.7 12.2 39.4 12.2 Z\"\n",
       "      /></font\n",
       "    ></defs\n",
       "    ><g style=\"fill:white; stroke:white;\"\n",
       "    ><rect x=\"0\" y=\"0\" width=\"560\" style=\"clip-path:url(#clipPath1); stroke:none;\" height=\"420\"\n",
       "    /></g\n",
       "    ><g style=\"fill:white; text-rendering:optimizeSpeed; color-rendering:optimizeSpeed; image-rendering:optimizeSpeed; shape-rendering:crispEdges; stroke:white; color-interpolation:sRGB;\"\n",
       "    ><rect x=\"0\" width=\"560\" height=\"420\" y=\"0\" style=\"stroke:none;\"\n",
       "      /><path style=\"stroke:none;\" d=\"M85 216 L507 216 L507 51 L85 51 Z\"\n",
       "    /></g\n",
       "    ><g style=\"fill-opacity:0.251; color-rendering:optimizeQuality; color-interpolation:linearRGB; text-rendering:geometricPrecision; stroke:rgb(102,102,102); stroke-linecap:butt; stroke-miterlimit:1; stroke-opacity:0.251; fill:rgb(102,102,102); stroke-dasharray:1,3; stroke-width:0.5; stroke-linejoin:bevel; image-rendering:optimizeQuality;\"\n",
       "    ><line y2=\"51\" style=\"fill:none;\" x1=\"116.7587\" x2=\"116.7587\" y1=\"216\"\n",
       "      /><line y2=\"51\" style=\"fill:none;\" x1=\"135.3363\" x2=\"135.3363\" y1=\"216\"\n",
       "      /><line y2=\"51\" style=\"fill:none;\" x1=\"148.5173\" x2=\"148.5173\" y1=\"216\"\n",
       "      /><line y2=\"51\" style=\"fill:none;\" x1=\"158.7413\" x2=\"158.7413\" y1=\"216\"\n",
       "      /><line y2=\"51\" style=\"fill:none;\" x1=\"167.095\" x2=\"167.095\" y1=\"216\"\n",
       "      /><line y2=\"51\" style=\"fill:none;\" x1=\"174.1578\" x2=\"174.1578\" y1=\"216\"\n",
       "      /><line y2=\"51\" style=\"fill:none;\" x1=\"180.276\" x2=\"180.276\" y1=\"216\"\n",
       "      /><line y2=\"51\" style=\"fill:none;\" x1=\"185.6726\" x2=\"185.6726\" y1=\"216\"\n",
       "      /><line y2=\"51\" style=\"fill:none;\" x1=\"222.2587\" x2=\"222.2587\" y1=\"216\"\n",
       "      /><line y2=\"51\" style=\"fill:none;\" x1=\"240.8363\" x2=\"240.8363\" y1=\"216\"\n",
       "      /><line y2=\"51\" style=\"fill:none;\" x1=\"254.0173\" x2=\"254.0173\" y1=\"216\"\n",
       "      /><line y2=\"51\" style=\"fill:none;\" x1=\"264.2413\" x2=\"264.2413\" y1=\"216\"\n",
       "      /><line y2=\"51\" style=\"fill:none;\" x1=\"272.595\" x2=\"272.595\" y1=\"216\"\n",
       "      /><line y2=\"51\" style=\"fill:none;\" x1=\"279.6578\" x2=\"279.6578\" y1=\"216\"\n",
       "      /><line y2=\"51\" style=\"fill:none;\" x1=\"285.776\" x2=\"285.776\" y1=\"216\"\n",
       "      /><line y2=\"51\" style=\"fill:none;\" x1=\"291.1726\" x2=\"291.1726\" y1=\"216\"\n",
       "      /><line y2=\"51\" style=\"fill:none;\" x1=\"327.7587\" x2=\"327.7587\" y1=\"216\"\n",
       "      /><line y2=\"51\" style=\"fill:none;\" x1=\"346.3363\" x2=\"346.3363\" y1=\"216\"\n",
       "      /><line y2=\"51\" style=\"fill:none;\" x1=\"359.5173\" x2=\"359.5173\" y1=\"216\"\n",
       "      /><line y2=\"51\" style=\"fill:none;\" x1=\"369.7413\" x2=\"369.7413\" y1=\"216\"\n",
       "      /><line y2=\"51\" style=\"fill:none;\" x1=\"378.095\" x2=\"378.095\" y1=\"216\"\n",
       "      /><line y2=\"51\" style=\"fill:none;\" x1=\"385.1578\" x2=\"385.1578\" y1=\"216\"\n",
       "      /><line y2=\"51\" style=\"fill:none;\" x1=\"391.276\" x2=\"391.276\" y1=\"216\"\n",
       "      /><line y2=\"51\" style=\"fill:none;\" x1=\"396.6726\" x2=\"396.6726\" y1=\"216\"\n",
       "      /><line y2=\"51\" style=\"fill:none;\" x1=\"433.2587\" x2=\"433.2587\" y1=\"216\"\n",
       "      /><line y2=\"51\" style=\"fill:none;\" x1=\"451.8363\" x2=\"451.8363\" y1=\"216\"\n",
       "      /><line y2=\"51\" style=\"fill:none;\" x1=\"465.0173\" x2=\"465.0173\" y1=\"216\"\n",
       "      /><line y2=\"51\" style=\"fill:none;\" x1=\"475.2413\" x2=\"475.2413\" y1=\"216\"\n",
       "      /><line y2=\"51\" style=\"fill:none;\" x1=\"483.595\" x2=\"483.595\" y1=\"216\"\n",
       "      /><line y2=\"51\" style=\"fill:none;\" x1=\"490.6578\" x2=\"490.6578\" y1=\"216\"\n",
       "      /><line y2=\"51\" style=\"fill:none;\" x1=\"496.776\" x2=\"496.776\" y1=\"216\"\n",
       "      /><line y2=\"51\" style=\"fill:none;\" x1=\"502.1726\" x2=\"502.1726\" y1=\"216\"\n",
       "    /></g\n",
       "    ><g style=\"stroke-linecap:butt; fill-opacity:0.149; fill:rgb(38,38,38); text-rendering:geometricPrecision; image-rendering:optimizeQuality; color-rendering:optimizeQuality; stroke-linejoin:round; stroke:rgb(38,38,38); color-interpolation:linearRGB; stroke-width:0.5; stroke-opacity:0.149;\"\n",
       "    ><line y2=\"51\" style=\"fill:none;\" x1=\"85\" x2=\"85\" y1=\"216\"\n",
       "      /><line y2=\"51\" style=\"fill:none;\" x1=\"190.5\" x2=\"190.5\" y1=\"216\"\n",
       "      /><line y2=\"51\" style=\"fill:none;\" x1=\"296\" x2=\"296\" y1=\"216\"\n",
       "      /><line y2=\"51\" style=\"fill:none;\" x1=\"401.5\" x2=\"401.5\" y1=\"216\"\n",
       "      /><line y2=\"51\" style=\"fill:none;\" x1=\"507\" x2=\"507\" y1=\"216\"\n",
       "      /><line y2=\"216\" style=\"fill:none;\" x1=\"507\" x2=\"85\" y1=\"216\"\n",
       "      /><line y2=\"174.75\" style=\"fill:none;\" x1=\"507\" x2=\"85\" y1=\"174.75\"\n",
       "      /><line y2=\"133.5\" style=\"fill:none;\" x1=\"507\" x2=\"85\" y1=\"133.5\"\n",
       "      /><line y2=\"92.25\" style=\"fill:none;\" x1=\"507\" x2=\"85\" y1=\"92.25\"\n",
       "      /><line y2=\"51\" style=\"fill:none;\" x1=\"507\" x2=\"85\" y1=\"51\"\n",
       "    /></g\n",
       "    ><g style=\"fill:rgb(102,102,102); text-rendering:geometricPrecision; image-rendering:optimizeQuality; color-rendering:optimizeQuality; stroke-linejoin:round; stroke:rgb(102,102,102); color-interpolation:linearRGB; stroke-width:0.5;\"\n",
       "    ><line y2=\"216\" style=\"fill:none;\" x1=\"85\" x2=\"507\" y1=\"216\"\n",
       "      /><line y2=\"51\" style=\"fill:none;\" x1=\"85\" x2=\"507\" y1=\"51\"\n",
       "      /><line y2=\"211.78\" style=\"fill:none;\" x1=\"85\" x2=\"85\" y1=\"216\"\n",
       "      /><line y2=\"211.78\" style=\"fill:none;\" x1=\"190.5\" x2=\"190.5\" y1=\"216\"\n",
       "      /><line y2=\"211.78\" style=\"fill:none;\" x1=\"296\" x2=\"296\" y1=\"216\"\n",
       "      /><line y2=\"211.78\" style=\"fill:none;\" x1=\"401.5\" x2=\"401.5\" y1=\"216\"\n",
       "      /><line y2=\"211.78\" style=\"fill:none;\" x1=\"507\" x2=\"507\" y1=\"216\"\n",
       "      /><line y2=\"55.22\" style=\"fill:none;\" x1=\"85\" x2=\"85\" y1=\"51\"\n",
       "      /><line y2=\"55.22\" style=\"fill:none;\" x1=\"190.5\" x2=\"190.5\" y1=\"51\"\n",
       "      /><line y2=\"55.22\" style=\"fill:none;\" x1=\"296\" x2=\"296\" y1=\"51\"\n",
       "      /><line y2=\"55.22\" style=\"fill:none;\" x1=\"401.5\" x2=\"401.5\" y1=\"51\"\n",
       "      /><line y2=\"55.22\" style=\"fill:none;\" x1=\"507\" x2=\"507\" y1=\"51\"\n",
       "      /><line y2=\"213.89\" style=\"fill:none;\" x1=\"85\" x2=\"85\" y1=\"216\"\n",
       "      /><line y2=\"213.89\" style=\"fill:none;\" x1=\"116.7587\" x2=\"116.7587\" y1=\"216\"\n",
       "      /><line y2=\"213.89\" style=\"fill:none;\" x1=\"135.3363\" x2=\"135.3363\" y1=\"216\"\n",
       "      /><line y2=\"213.89\" style=\"fill:none;\" x1=\"148.5173\" x2=\"148.5173\" y1=\"216\"\n",
       "      /><line y2=\"213.89\" style=\"fill:none;\" x1=\"158.7413\" x2=\"158.7413\" y1=\"216\"\n",
       "      /><line y2=\"213.89\" style=\"fill:none;\" x1=\"167.095\" x2=\"167.095\" y1=\"216\"\n",
       "      /><line y2=\"213.89\" style=\"fill:none;\" x1=\"174.1578\" x2=\"174.1578\" y1=\"216\"\n",
       "      /><line y2=\"213.89\" style=\"fill:none;\" x1=\"180.276\" x2=\"180.276\" y1=\"216\"\n",
       "      /><line y2=\"213.89\" style=\"fill:none;\" x1=\"185.6726\" x2=\"185.6726\" y1=\"216\"\n",
       "      /><line y2=\"213.89\" style=\"fill:none;\" x1=\"190.5\" x2=\"190.5\" y1=\"216\"\n",
       "      /><line y2=\"213.89\" style=\"fill:none;\" x1=\"222.2587\" x2=\"222.2587\" y1=\"216\"\n",
       "      /><line y2=\"213.89\" style=\"fill:none;\" x1=\"240.8363\" x2=\"240.8363\" y1=\"216\"\n",
       "      /><line y2=\"213.89\" style=\"fill:none;\" x1=\"254.0173\" x2=\"254.0173\" y1=\"216\"\n",
       "      /><line y2=\"213.89\" style=\"fill:none;\" x1=\"264.2413\" x2=\"264.2413\" y1=\"216\"\n",
       "      /><line y2=\"213.89\" style=\"fill:none;\" x1=\"272.595\" x2=\"272.595\" y1=\"216\"\n",
       "      /><line y2=\"213.89\" style=\"fill:none;\" x1=\"279.6578\" x2=\"279.6578\" y1=\"216\"\n",
       "      /><line y2=\"213.89\" style=\"fill:none;\" x1=\"285.776\" x2=\"285.776\" y1=\"216\"\n",
       "      /><line y2=\"213.89\" style=\"fill:none;\" x1=\"291.1726\" x2=\"291.1726\" y1=\"216\"\n",
       "      /><line y2=\"213.89\" style=\"fill:none;\" x1=\"296\" x2=\"296\" y1=\"216\"\n",
       "      /><line y2=\"213.89\" style=\"fill:none;\" x1=\"327.7587\" x2=\"327.7587\" y1=\"216\"\n",
       "      /><line y2=\"213.89\" style=\"fill:none;\" x1=\"346.3363\" x2=\"346.3363\" y1=\"216\"\n",
       "      /><line y2=\"213.89\" style=\"fill:none;\" x1=\"359.5173\" x2=\"359.5173\" y1=\"216\"\n",
       "      /><line y2=\"213.89\" style=\"fill:none;\" x1=\"369.7413\" x2=\"369.7413\" y1=\"216\"\n",
       "      /><line y2=\"213.89\" style=\"fill:none;\" x1=\"378.095\" x2=\"378.095\" y1=\"216\"\n",
       "      /><line y2=\"213.89\" style=\"fill:none;\" x1=\"385.1578\" x2=\"385.1578\" y1=\"216\"\n",
       "      /><line y2=\"213.89\" style=\"fill:none;\" x1=\"391.276\" x2=\"391.276\" y1=\"216\"\n",
       "      /><line y2=\"213.89\" style=\"fill:none;\" x1=\"396.6726\" x2=\"396.6726\" y1=\"216\"\n",
       "      /><line y2=\"213.89\" style=\"fill:none;\" x1=\"401.5\" x2=\"401.5\" y1=\"216\"\n",
       "      /><line y2=\"213.89\" style=\"fill:none;\" x1=\"433.2587\" x2=\"433.2587\" y1=\"216\"\n",
       "      /><line y2=\"213.89\" style=\"fill:none;\" x1=\"451.8363\" x2=\"451.8363\" y1=\"216\"\n",
       "      /><line y2=\"213.89\" style=\"fill:none;\" x1=\"465.0173\" x2=\"465.0173\" y1=\"216\"\n",
       "      /><line y2=\"213.89\" style=\"fill:none;\" x1=\"475.2413\" x2=\"475.2413\" y1=\"216\"\n",
       "      /><line y2=\"213.89\" style=\"fill:none;\" x1=\"483.595\" x2=\"483.595\" y1=\"216\"\n",
       "      /><line y2=\"213.89\" style=\"fill:none;\" x1=\"490.6578\" x2=\"490.6578\" y1=\"216\"\n",
       "      /><line y2=\"213.89\" style=\"fill:none;\" x1=\"496.776\" x2=\"496.776\" y1=\"216\"\n",
       "      /><line y2=\"213.89\" style=\"fill:none;\" x1=\"502.1726\" x2=\"502.1726\" y1=\"216\"\n",
       "      /><line y2=\"213.89\" style=\"fill:none;\" x1=\"507\" x2=\"507\" y1=\"216\"\n",
       "      /><line y2=\"53.11\" style=\"fill:none;\" x1=\"85\" x2=\"85\" y1=\"51\"\n",
       "      /><line y2=\"53.11\" style=\"fill:none;\" x1=\"116.7587\" x2=\"116.7587\" y1=\"51\"\n",
       "      /><line y2=\"53.11\" style=\"fill:none;\" x1=\"135.3363\" x2=\"135.3363\" y1=\"51\"\n",
       "      /><line y2=\"53.11\" style=\"fill:none;\" x1=\"148.5173\" x2=\"148.5173\" y1=\"51\"\n",
       "      /><line y2=\"53.11\" style=\"fill:none;\" x1=\"158.7413\" x2=\"158.7413\" y1=\"51\"\n",
       "      /><line y2=\"53.11\" style=\"fill:none;\" x1=\"167.095\" x2=\"167.095\" y1=\"51\"\n",
       "      /><line y2=\"53.11\" style=\"fill:none;\" x1=\"174.1578\" x2=\"174.1578\" y1=\"51\"\n",
       "      /><line y2=\"53.11\" style=\"fill:none;\" x1=\"180.276\" x2=\"180.276\" y1=\"51\"\n",
       "      /><line y2=\"53.11\" style=\"fill:none;\" x1=\"185.6726\" x2=\"185.6726\" y1=\"51\"\n",
       "      /><line y2=\"53.11\" style=\"fill:none;\" x1=\"190.5\" x2=\"190.5\" y1=\"51\"\n",
       "      /><line y2=\"53.11\" style=\"fill:none;\" x1=\"222.2587\" x2=\"222.2587\" y1=\"51\"\n",
       "      /><line y2=\"53.11\" style=\"fill:none;\" x1=\"240.8363\" x2=\"240.8363\" y1=\"51\"\n",
       "      /><line y2=\"53.11\" style=\"fill:none;\" x1=\"254.0173\" x2=\"254.0173\" y1=\"51\"\n",
       "      /><line y2=\"53.11\" style=\"fill:none;\" x1=\"264.2413\" x2=\"264.2413\" y1=\"51\"\n",
       "      /><line y2=\"53.11\" style=\"fill:none;\" x1=\"272.595\" x2=\"272.595\" y1=\"51\"\n",
       "      /><line y2=\"53.11\" style=\"fill:none;\" x1=\"279.6578\" x2=\"279.6578\" y1=\"51\"\n",
       "      /><line y2=\"53.11\" style=\"fill:none;\" x1=\"285.776\" x2=\"285.776\" y1=\"51\"\n",
       "      /><line y2=\"53.11\" style=\"fill:none;\" x1=\"291.1726\" x2=\"291.1726\" y1=\"51\"\n",
       "      /><line y2=\"53.11\" style=\"fill:none;\" x1=\"296\" x2=\"296\" y1=\"51\"\n",
       "      /><line y2=\"53.11\" style=\"fill:none;\" x1=\"327.7587\" x2=\"327.7587\" y1=\"51\"\n",
       "      /><line y2=\"53.11\" style=\"fill:none;\" x1=\"346.3363\" x2=\"346.3363\" y1=\"51\"\n",
       "      /><line y2=\"53.11\" style=\"fill:none;\" x1=\"359.5173\" x2=\"359.5173\" y1=\"51\"\n",
       "      /><line y2=\"53.11\" style=\"fill:none;\" x1=\"369.7413\" x2=\"369.7413\" y1=\"51\"\n",
       "      /><line y2=\"53.11\" style=\"fill:none;\" x1=\"378.095\" x2=\"378.095\" y1=\"51\"\n",
       "      /><line y2=\"53.11\" style=\"fill:none;\" x1=\"385.1578\" x2=\"385.1578\" y1=\"51\"\n",
       "      /><line y2=\"53.11\" style=\"fill:none;\" x1=\"391.276\" x2=\"391.276\" y1=\"51\"\n",
       "      /><line y2=\"53.11\" style=\"fill:none;\" x1=\"396.6726\" x2=\"396.6726\" y1=\"51\"\n",
       "      /><line y2=\"53.11\" style=\"fill:none;\" x1=\"401.5\" x2=\"401.5\" y1=\"51\"\n",
       "      /><line y2=\"53.11\" style=\"fill:none;\" x1=\"433.2587\" x2=\"433.2587\" y1=\"51\"\n",
       "      /><line y2=\"53.11\" style=\"fill:none;\" x1=\"451.8363\" x2=\"451.8363\" y1=\"51\"\n",
       "      /><line y2=\"53.11\" style=\"fill:none;\" x1=\"465.0173\" x2=\"465.0173\" y1=\"51\"\n",
       "      /><line y2=\"53.11\" style=\"fill:none;\" x1=\"475.2413\" x2=\"475.2413\" y1=\"51\"\n",
       "      /><line y2=\"53.11\" style=\"fill:none;\" x1=\"483.595\" x2=\"483.595\" y1=\"51\"\n",
       "      /><line y2=\"53.11\" style=\"fill:none;\" x1=\"490.6578\" x2=\"490.6578\" y1=\"51\"\n",
       "      /><line y2=\"53.11\" style=\"fill:none;\" x1=\"496.776\" x2=\"496.776\" y1=\"51\"\n",
       "      /><line y2=\"53.11\" style=\"fill:none;\" x1=\"502.1726\" x2=\"502.1726\" y1=\"51\"\n",
       "      /><line y2=\"53.11\" style=\"fill:none;\" x1=\"507\" x2=\"507\" y1=\"51\"\n",
       "      /><line y2=\"51\" style=\"fill:none;\" x1=\"85\" x2=\"85\" y1=\"216\"\n",
       "      /><line y2=\"51\" style=\"fill:none;\" x1=\"507\" x2=\"507\" y1=\"216\"\n",
       "      /><line y2=\"216\" style=\"fill:none;\" x1=\"85\" x2=\"89.22\" y1=\"216\"\n",
       "      /><line y2=\"174.75\" style=\"fill:none;\" x1=\"85\" x2=\"89.22\" y1=\"174.75\"\n",
       "      /><line y2=\"133.5\" style=\"fill:none;\" x1=\"85\" x2=\"89.22\" y1=\"133.5\"\n",
       "      /><line y2=\"92.25\" style=\"fill:none;\" x1=\"85\" x2=\"89.22\" y1=\"92.25\"\n",
       "      /><line y2=\"51\" style=\"fill:none;\" x1=\"85\" x2=\"89.22\" y1=\"51\"\n",
       "      /><line y2=\"216\" style=\"fill:none;\" x1=\"507\" x2=\"502.78\" y1=\"216\"\n",
       "      /><line y2=\"174.75\" style=\"fill:none;\" x1=\"507\" x2=\"502.78\" y1=\"174.75\"\n",
       "      /><line y2=\"133.5\" style=\"fill:none;\" x1=\"507\" x2=\"502.78\" y1=\"133.5\"\n",
       "      /><line y2=\"92.25\" style=\"fill:none;\" x1=\"507\" x2=\"502.78\" y1=\"92.25\"\n",
       "      /><line y2=\"51\" style=\"fill:none;\" x1=\"507\" x2=\"502.78\" y1=\"51\"\n",
       "    /></g\n",
       "    ><g transform=\"translate(81,216)\" style=\"font-size:10px; fill:rgb(102,102,102); text-rendering:geometricPrecision; image-rendering:optimizeQuality; color-rendering:optimizeQuality; font-family:'Helvetica Neue'; stroke:rgb(102,102,102); color-interpolation:linearRGB;\"\n",
       "    ><text x=\"-16\" xml:space=\"preserve\" y=\"3.5\" style=\"stroke:none;\"\n",
       "      >-80</text\n",
       "    ></g\n",
       "    ><g transform=\"translate(81,174.75)\" style=\"font-size:10px; fill:rgb(102,102,102); text-rendering:geometricPrecision; image-rendering:optimizeQuality; color-rendering:optimizeQuality; font-family:'Helvetica Neue'; stroke:rgb(102,102,102); color-interpolation:linearRGB;\"\n",
       "    ><text x=\"-16\" xml:space=\"preserve\" y=\"3.5\" style=\"stroke:none;\"\n",
       "      >-60</text\n",
       "    ></g\n",
       "    ><g transform=\"translate(81,133.5)\" style=\"font-size:10px; fill:rgb(102,102,102); text-rendering:geometricPrecision; image-rendering:optimizeQuality; color-rendering:optimizeQuality; font-family:'Helvetica Neue'; stroke:rgb(102,102,102); color-interpolation:linearRGB;\"\n",
       "    ><text x=\"-16\" xml:space=\"preserve\" y=\"3.5\" style=\"stroke:none;\"\n",
       "      >-40</text\n",
       "    ></g\n",
       "    ><g transform=\"translate(81,92.25)\" style=\"font-size:10px; fill:rgb(102,102,102); text-rendering:geometricPrecision; image-rendering:optimizeQuality; color-rendering:optimizeQuality; font-family:'Helvetica Neue'; stroke:rgb(102,102,102); color-interpolation:linearRGB;\"\n",
       "    ><text x=\"-16\" xml:space=\"preserve\" y=\"3.5\" style=\"stroke:none;\"\n",
       "      >-20</text\n",
       "    ></g\n",
       "    ><g transform=\"translate(81,51)\" style=\"font-size:10px; fill:rgb(102,102,102); text-rendering:geometricPrecision; image-rendering:optimizeQuality; color-rendering:optimizeQuality; font-family:'Helvetica Neue'; stroke:rgb(102,102,102); color-interpolation:linearRGB;\"\n",
       "    ><text x=\"-6\" xml:space=\"preserve\" y=\"3.5\" style=\"stroke:none;\"\n",
       "      >0</text\n",
       "    ></g\n",
       "    ><g transform=\"translate(62,133.4999) rotate(-90)\" style=\"font-size:11px; text-rendering:geometricPrecision; color-rendering:optimizeQuality; image-rendering:optimizeQuality; font-family:'Helvetica Neue'; color-interpolation:linearRGB;\"\n",
       "    ><text x=\"-38\" xml:space=\"preserve\" y=\"-3\" style=\"stroke:none;\"\n",
       "      >Magnitude (dB)</text\n",
       "    ></g\n",
       "    ><g style=\"stroke-linecap:butt; fill:rgb(0,114,189); text-rendering:geometricPrecision; image-rendering:optimizeQuality; color-rendering:optimizeQuality; stroke-linejoin:round; stroke:rgb(0,114,189); color-interpolation:linearRGB; stroke-width:0.5;\"\n",
       "    ><path d=\"M84.9497 51 L116.7587 51 L123.9283 51 L131.098 51 L138.2676 51 L145.4373 51 L152.6069 51 L159.7766 51.0001 L166.9462 51.0001 L174.1159 51.0002 L181.2855 51.0004 L188.4552 51.0007 L195.6249 51.0014 L202.7945 51.0026 L209.9642 51.0049 L217.1338 51.0092 L224.3035 51.0171 L231.4731 51.032 L238.6428 51.0597 L245.8124 51.1113 L252.9821 51.2071 L260.1517 51.3834 L267.3214 51.7041 L274.491 52.2747 L281.6607 53.2529 L288.8304 54.8371 L296 57.2087 L303.1696 60.4437 L310.3393 64.4661 L317.509 69.0945 L324.6786 74.1305 L331.8483 79.4164 L339.0179 84.8467 L346.1876 90.3575 L353.3572 95.9125 L360.5269 101.4914 L367.6965 107.0831 L374.8662 112.6818 L382.0358 118.2841 L389.2055 123.8884 L396.3752 129.4938 L403.5448 135.0998 L410.7144 140.706 L417.8841 146.3124 L425.0538 151.9189 L432.2234 157.5255 L439.3931 163.132 L446.5627 168.7386 L453.7324 174.3452 L460.902 179.9518 L468.0717 185.5584 L475.2413 191.165 L507.0251 216.0197\" style=\"fill:none; fill-rule:evenodd;\"\n",
       "    /></g\n",
       "    ><g style=\"fill:white; text-rendering:optimizeSpeed; color-rendering:optimizeSpeed; image-rendering:optimizeSpeed; shape-rendering:crispEdges; stroke:white; color-interpolation:sRGB;\"\n",
       "    ><path style=\"stroke:none;\" d=\"M85 374 L507 374 L507 228 L85 228 Z\"\n",
       "    /></g\n",
       "    ><g style=\"fill-opacity:0.251; color-rendering:optimizeQuality; color-interpolation:linearRGB; text-rendering:geometricPrecision; stroke:rgb(102,102,102); stroke-linecap:butt; stroke-miterlimit:1; stroke-opacity:0.251; fill:rgb(102,102,102); stroke-dasharray:1,3; stroke-width:0.5; stroke-linejoin:bevel; image-rendering:optimizeQuality;\"\n",
       "    ><line y2=\"228\" style=\"fill:none;\" x1=\"116.7587\" x2=\"116.7587\" y1=\"374\"\n",
       "      /><line y2=\"228\" style=\"fill:none;\" x1=\"135.3363\" x2=\"135.3363\" y1=\"374\"\n",
       "      /><line y2=\"228\" style=\"fill:none;\" x1=\"148.5173\" x2=\"148.5173\" y1=\"374\"\n",
       "      /><line y2=\"228\" style=\"fill:none;\" x1=\"158.7413\" x2=\"158.7413\" y1=\"374\"\n",
       "      /><line y2=\"228\" style=\"fill:none;\" x1=\"167.095\" x2=\"167.095\" y1=\"374\"\n",
       "      /><line y2=\"228\" style=\"fill:none;\" x1=\"174.1578\" x2=\"174.1578\" y1=\"374\"\n",
       "      /><line y2=\"228\" style=\"fill:none;\" x1=\"180.276\" x2=\"180.276\" y1=\"374\"\n",
       "      /><line y2=\"228\" style=\"fill:none;\" x1=\"185.6726\" x2=\"185.6726\" y1=\"374\"\n",
       "      /><line y2=\"228\" style=\"fill:none;\" x1=\"222.2587\" x2=\"222.2587\" y1=\"374\"\n",
       "      /><line y2=\"228\" style=\"fill:none;\" x1=\"240.8363\" x2=\"240.8363\" y1=\"374\"\n",
       "      /><line y2=\"228\" style=\"fill:none;\" x1=\"254.0173\" x2=\"254.0173\" y1=\"374\"\n",
       "      /><line y2=\"228\" style=\"fill:none;\" x1=\"264.2413\" x2=\"264.2413\" y1=\"374\"\n",
       "      /><line y2=\"228\" style=\"fill:none;\" x1=\"272.595\" x2=\"272.595\" y1=\"374\"\n",
       "      /><line y2=\"228\" style=\"fill:none;\" x1=\"279.6578\" x2=\"279.6578\" y1=\"374\"\n",
       "      /><line y2=\"228\" style=\"fill:none;\" x1=\"285.776\" x2=\"285.776\" y1=\"374\"\n",
       "      /><line y2=\"228\" style=\"fill:none;\" x1=\"291.1726\" x2=\"291.1726\" y1=\"374\"\n",
       "      /><line y2=\"228\" style=\"fill:none;\" x1=\"327.7587\" x2=\"327.7587\" y1=\"374\"\n",
       "      /><line y2=\"228\" style=\"fill:none;\" x1=\"346.3363\" x2=\"346.3363\" y1=\"374\"\n",
       "      /><line y2=\"228\" style=\"fill:none;\" x1=\"359.5173\" x2=\"359.5173\" y1=\"374\"\n",
       "      /><line y2=\"228\" style=\"fill:none;\" x1=\"369.7413\" x2=\"369.7413\" y1=\"374\"\n",
       "      /><line y2=\"228\" style=\"fill:none;\" x1=\"378.095\" x2=\"378.095\" y1=\"374\"\n",
       "      /><line y2=\"228\" style=\"fill:none;\" x1=\"385.1578\" x2=\"385.1578\" y1=\"374\"\n",
       "      /><line y2=\"228\" style=\"fill:none;\" x1=\"391.276\" x2=\"391.276\" y1=\"374\"\n",
       "      /><line y2=\"228\" style=\"fill:none;\" x1=\"396.6726\" x2=\"396.6726\" y1=\"374\"\n",
       "      /><line y2=\"228\" style=\"fill:none;\" x1=\"433.2587\" x2=\"433.2587\" y1=\"374\"\n",
       "      /><line y2=\"228\" style=\"fill:none;\" x1=\"451.8363\" x2=\"451.8363\" y1=\"374\"\n",
       "      /><line y2=\"228\" style=\"fill:none;\" x1=\"465.0173\" x2=\"465.0173\" y1=\"374\"\n",
       "      /><line y2=\"228\" style=\"fill:none;\" x1=\"475.2413\" x2=\"475.2413\" y1=\"374\"\n",
       "      /><line y2=\"228\" style=\"fill:none;\" x1=\"483.595\" x2=\"483.595\" y1=\"374\"\n",
       "      /><line y2=\"228\" style=\"fill:none;\" x1=\"490.6578\" x2=\"490.6578\" y1=\"374\"\n",
       "      /><line y2=\"228\" style=\"fill:none;\" x1=\"496.776\" x2=\"496.776\" y1=\"374\"\n",
       "      /><line y2=\"228\" style=\"fill:none;\" x1=\"502.1726\" x2=\"502.1726\" y1=\"374\"\n",
       "    /></g\n",
       "    ><g style=\"stroke-linecap:butt; fill-opacity:0.149; fill:rgb(38,38,38); text-rendering:geometricPrecision; image-rendering:optimizeQuality; color-rendering:optimizeQuality; stroke-linejoin:round; stroke:rgb(38,38,38); color-interpolation:linearRGB; stroke-width:0.5; stroke-opacity:0.149;\"\n",
       "    ><line y2=\"228\" style=\"fill:none;\" x1=\"85\" x2=\"85\" y1=\"374\"\n",
       "      /><line y2=\"228\" style=\"fill:none;\" x1=\"190.5\" x2=\"190.5\" y1=\"374\"\n",
       "      /><line y2=\"228\" style=\"fill:none;\" x1=\"296\" x2=\"296\" y1=\"374\"\n",
       "      /><line y2=\"228\" style=\"fill:none;\" x1=\"401.5\" x2=\"401.5\" y1=\"374\"\n",
       "      /><line y2=\"228\" style=\"fill:none;\" x1=\"507\" x2=\"507\" y1=\"374\"\n",
       "      /><line y2=\"372.5686\" style=\"fill:none;\" x1=\"507\" x2=\"85\" y1=\"372.5686\"\n",
       "      /><line y2=\"336.7843\" style=\"fill:none;\" x1=\"507\" x2=\"85\" y1=\"336.7843\"\n",
       "      /><line y2=\"301\" style=\"fill:none;\" x1=\"507\" x2=\"85\" y1=\"301\"\n",
       "      /><line y2=\"265.2157\" style=\"fill:none;\" x1=\"507\" x2=\"85\" y1=\"265.2157\"\n",
       "      /><line y2=\"229.4314\" style=\"fill:none;\" x1=\"507\" x2=\"85\" y1=\"229.4314\"\n",
       "    /></g\n",
       "    ><g style=\"fill:rgb(102,102,102); text-rendering:geometricPrecision; image-rendering:optimizeQuality; color-rendering:optimizeQuality; stroke-linejoin:round; stroke:rgb(102,102,102); color-interpolation:linearRGB; stroke-width:0.5;\"\n",
       "    ><line y2=\"374\" style=\"fill:none;\" x1=\"85\" x2=\"507\" y1=\"374\"\n",
       "      /><line y2=\"228\" style=\"fill:none;\" x1=\"85\" x2=\"507\" y1=\"228\"\n",
       "      /><line y2=\"369.78\" style=\"fill:none;\" x1=\"85\" x2=\"85\" y1=\"374\"\n",
       "      /><line y2=\"369.78\" style=\"fill:none;\" x1=\"190.5\" x2=\"190.5\" y1=\"374\"\n",
       "      /><line y2=\"369.78\" style=\"fill:none;\" x1=\"296\" x2=\"296\" y1=\"374\"\n",
       "      /><line y2=\"369.78\" style=\"fill:none;\" x1=\"401.5\" x2=\"401.5\" y1=\"374\"\n",
       "      /><line y2=\"369.78\" style=\"fill:none;\" x1=\"507\" x2=\"507\" y1=\"374\"\n",
       "      /><line y2=\"232.22\" style=\"fill:none;\" x1=\"85\" x2=\"85\" y1=\"228\"\n",
       "      /><line y2=\"232.22\" style=\"fill:none;\" x1=\"190.5\" x2=\"190.5\" y1=\"228\"\n",
       "      /><line y2=\"232.22\" style=\"fill:none;\" x1=\"296\" x2=\"296\" y1=\"228\"\n",
       "      /><line y2=\"232.22\" style=\"fill:none;\" x1=\"401.5\" x2=\"401.5\" y1=\"228\"\n",
       "      /><line y2=\"232.22\" style=\"fill:none;\" x1=\"507\" x2=\"507\" y1=\"228\"\n",
       "      /><line y2=\"371.89\" style=\"fill:none;\" x1=\"85\" x2=\"85\" y1=\"374\"\n",
       "      /><line y2=\"371.89\" style=\"fill:none;\" x1=\"116.7587\" x2=\"116.7587\" y1=\"374\"\n",
       "      /><line y2=\"371.89\" style=\"fill:none;\" x1=\"135.3363\" x2=\"135.3363\" y1=\"374\"\n",
       "      /><line y2=\"371.89\" style=\"fill:none;\" x1=\"148.5173\" x2=\"148.5173\" y1=\"374\"\n",
       "      /><line y2=\"371.89\" style=\"fill:none;\" x1=\"158.7413\" x2=\"158.7413\" y1=\"374\"\n",
       "      /><line y2=\"371.89\" style=\"fill:none;\" x1=\"167.095\" x2=\"167.095\" y1=\"374\"\n",
       "      /><line y2=\"371.89\" style=\"fill:none;\" x1=\"174.1578\" x2=\"174.1578\" y1=\"374\"\n",
       "      /><line y2=\"371.89\" style=\"fill:none;\" x1=\"180.276\" x2=\"180.276\" y1=\"374\"\n",
       "      /><line y2=\"371.89\" style=\"fill:none;\" x1=\"185.6726\" x2=\"185.6726\" y1=\"374\"\n",
       "      /><line y2=\"371.89\" style=\"fill:none;\" x1=\"190.5\" x2=\"190.5\" y1=\"374\"\n",
       "      /><line y2=\"371.89\" style=\"fill:none;\" x1=\"222.2587\" x2=\"222.2587\" y1=\"374\"\n",
       "      /><line y2=\"371.89\" style=\"fill:none;\" x1=\"240.8363\" x2=\"240.8363\" y1=\"374\"\n",
       "      /><line y2=\"371.89\" style=\"fill:none;\" x1=\"254.0173\" x2=\"254.0173\" y1=\"374\"\n",
       "      /><line y2=\"371.89\" style=\"fill:none;\" x1=\"264.2413\" x2=\"264.2413\" y1=\"374\"\n",
       "      /><line y2=\"371.89\" style=\"fill:none;\" x1=\"272.595\" x2=\"272.595\" y1=\"374\"\n",
       "      /><line y2=\"371.89\" style=\"fill:none;\" x1=\"279.6578\" x2=\"279.6578\" y1=\"374\"\n",
       "      /><line y2=\"371.89\" style=\"fill:none;\" x1=\"285.776\" x2=\"285.776\" y1=\"374\"\n",
       "      /><line y2=\"371.89\" style=\"fill:none;\" x1=\"291.1726\" x2=\"291.1726\" y1=\"374\"\n",
       "      /><line y2=\"371.89\" style=\"fill:none;\" x1=\"296\" x2=\"296\" y1=\"374\"\n",
       "      /><line y2=\"371.89\" style=\"fill:none;\" x1=\"327.7587\" x2=\"327.7587\" y1=\"374\"\n",
       "      /><line y2=\"371.89\" style=\"fill:none;\" x1=\"346.3363\" x2=\"346.3363\" y1=\"374\"\n",
       "      /><line y2=\"371.89\" style=\"fill:none;\" x1=\"359.5173\" x2=\"359.5173\" y1=\"374\"\n",
       "      /><line y2=\"371.89\" style=\"fill:none;\" x1=\"369.7413\" x2=\"369.7413\" y1=\"374\"\n",
       "      /><line y2=\"371.89\" style=\"fill:none;\" x1=\"378.095\" x2=\"378.095\" y1=\"374\"\n",
       "      /><line y2=\"371.89\" style=\"fill:none;\" x1=\"385.1578\" x2=\"385.1578\" y1=\"374\"\n",
       "      /><line y2=\"371.89\" style=\"fill:none;\" x1=\"391.276\" x2=\"391.276\" y1=\"374\"\n",
       "      /><line y2=\"371.89\" style=\"fill:none;\" x1=\"396.6726\" x2=\"396.6726\" y1=\"374\"\n",
       "      /><line y2=\"371.89\" style=\"fill:none;\" x1=\"401.5\" x2=\"401.5\" y1=\"374\"\n",
       "      /><line y2=\"371.89\" style=\"fill:none;\" x1=\"433.2587\" x2=\"433.2587\" y1=\"374\"\n",
       "      /><line y2=\"371.89\" style=\"fill:none;\" x1=\"451.8363\" x2=\"451.8363\" y1=\"374\"\n",
       "      /><line y2=\"371.89\" style=\"fill:none;\" x1=\"465.0173\" x2=\"465.0173\" y1=\"374\"\n",
       "      /><line y2=\"371.89\" style=\"fill:none;\" x1=\"475.2413\" x2=\"475.2413\" y1=\"374\"\n",
       "      /><line y2=\"371.89\" style=\"fill:none;\" x1=\"483.595\" x2=\"483.595\" y1=\"374\"\n",
       "      /><line y2=\"371.89\" style=\"fill:none;\" x1=\"490.6578\" x2=\"490.6578\" y1=\"374\"\n",
       "      /><line y2=\"371.89\" style=\"fill:none;\" x1=\"496.776\" x2=\"496.776\" y1=\"374\"\n",
       "      /><line y2=\"371.89\" style=\"fill:none;\" x1=\"502.1726\" x2=\"502.1726\" y1=\"374\"\n",
       "      /><line y2=\"371.89\" style=\"fill:none;\" x1=\"507\" x2=\"507\" y1=\"374\"\n",
       "      /><line y2=\"230.11\" style=\"fill:none;\" x1=\"85\" x2=\"85\" y1=\"228\"\n",
       "      /><line y2=\"230.11\" style=\"fill:none;\" x1=\"116.7587\" x2=\"116.7587\" y1=\"228\"\n",
       "      /><line y2=\"230.11\" style=\"fill:none;\" x1=\"135.3363\" x2=\"135.3363\" y1=\"228\"\n",
       "      /><line y2=\"230.11\" style=\"fill:none;\" x1=\"148.5173\" x2=\"148.5173\" y1=\"228\"\n",
       "      /><line y2=\"230.11\" style=\"fill:none;\" x1=\"158.7413\" x2=\"158.7413\" y1=\"228\"\n",
       "      /><line y2=\"230.11\" style=\"fill:none;\" x1=\"167.095\" x2=\"167.095\" y1=\"228\"\n",
       "      /><line y2=\"230.11\" style=\"fill:none;\" x1=\"174.1578\" x2=\"174.1578\" y1=\"228\"\n",
       "      /><line y2=\"230.11\" style=\"fill:none;\" x1=\"180.276\" x2=\"180.276\" y1=\"228\"\n",
       "      /><line y2=\"230.11\" style=\"fill:none;\" x1=\"185.6726\" x2=\"185.6726\" y1=\"228\"\n",
       "      /><line y2=\"230.11\" style=\"fill:none;\" x1=\"190.5\" x2=\"190.5\" y1=\"228\"\n",
       "      /><line y2=\"230.11\" style=\"fill:none;\" x1=\"222.2587\" x2=\"222.2587\" y1=\"228\"\n",
       "      /><line y2=\"230.11\" style=\"fill:none;\" x1=\"240.8363\" x2=\"240.8363\" y1=\"228\"\n",
       "      /><line y2=\"230.11\" style=\"fill:none;\" x1=\"254.0173\" x2=\"254.0173\" y1=\"228\"\n",
       "      /><line y2=\"230.11\" style=\"fill:none;\" x1=\"264.2413\" x2=\"264.2413\" y1=\"228\"\n",
       "      /><line y2=\"230.11\" style=\"fill:none;\" x1=\"272.595\" x2=\"272.595\" y1=\"228\"\n",
       "      /><line y2=\"230.11\" style=\"fill:none;\" x1=\"279.6578\" x2=\"279.6578\" y1=\"228\"\n",
       "      /><line y2=\"230.11\" style=\"fill:none;\" x1=\"285.776\" x2=\"285.776\" y1=\"228\"\n",
       "      /><line y2=\"230.11\" style=\"fill:none;\" x1=\"291.1726\" x2=\"291.1726\" y1=\"228\"\n",
       "      /><line y2=\"230.11\" style=\"fill:none;\" x1=\"296\" x2=\"296\" y1=\"228\"\n",
       "      /><line y2=\"230.11\" style=\"fill:none;\" x1=\"327.7587\" x2=\"327.7587\" y1=\"228\"\n",
       "      /><line y2=\"230.11\" style=\"fill:none;\" x1=\"346.3363\" x2=\"346.3363\" y1=\"228\"\n",
       "      /><line y2=\"230.11\" style=\"fill:none;\" x1=\"359.5173\" x2=\"359.5173\" y1=\"228\"\n",
       "      /><line y2=\"230.11\" style=\"fill:none;\" x1=\"369.7413\" x2=\"369.7413\" y1=\"228\"\n",
       "      /><line y2=\"230.11\" style=\"fill:none;\" x1=\"378.095\" x2=\"378.095\" y1=\"228\"\n",
       "      /><line y2=\"230.11\" style=\"fill:none;\" x1=\"385.1578\" x2=\"385.1578\" y1=\"228\"\n",
       "      /><line y2=\"230.11\" style=\"fill:none;\" x1=\"391.276\" x2=\"391.276\" y1=\"228\"\n",
       "      /><line y2=\"230.11\" style=\"fill:none;\" x1=\"396.6726\" x2=\"396.6726\" y1=\"228\"\n",
       "      /><line y2=\"230.11\" style=\"fill:none;\" x1=\"401.5\" x2=\"401.5\" y1=\"228\"\n",
       "      /><line y2=\"230.11\" style=\"fill:none;\" x1=\"433.2587\" x2=\"433.2587\" y1=\"228\"\n",
       "      /><line y2=\"230.11\" style=\"fill:none;\" x1=\"451.8363\" x2=\"451.8363\" y1=\"228\"\n",
       "      /><line y2=\"230.11\" style=\"fill:none;\" x1=\"465.0173\" x2=\"465.0173\" y1=\"228\"\n",
       "      /><line y2=\"230.11\" style=\"fill:none;\" x1=\"475.2413\" x2=\"475.2413\" y1=\"228\"\n",
       "      /><line y2=\"230.11\" style=\"fill:none;\" x1=\"483.595\" x2=\"483.595\" y1=\"228\"\n",
       "      /><line y2=\"230.11\" style=\"fill:none;\" x1=\"490.6578\" x2=\"490.6578\" y1=\"228\"\n",
       "      /><line y2=\"230.11\" style=\"fill:none;\" x1=\"496.776\" x2=\"496.776\" y1=\"228\"\n",
       "      /><line y2=\"230.11\" style=\"fill:none;\" x1=\"502.1726\" x2=\"502.1726\" y1=\"228\"\n",
       "      /><line y2=\"230.11\" style=\"fill:none;\" x1=\"507\" x2=\"507\" y1=\"228\"\n",
       "    /></g\n",
       "    ><g transform=\"translate(76,391)\" style=\"font-size:10px; fill:rgb(102,102,102); text-rendering:geometricPrecision; image-rendering:optimizeQuality; color-rendering:optimizeQuality; font-family:'Helvetica Neue'; stroke:rgb(102,102,102); color-interpolation:linearRGB;\"\n",
       "    ><text x=\"0\" xml:space=\"preserve\" y=\"0\" style=\"stroke:none;\"\n",
       "      >10</text\n",
       "    ></g\n",
       "    ><g transform=\"translate(88,386)\" style=\"font-size:8px; fill:rgb(102,102,102); text-rendering:geometricPrecision; image-rendering:optimizeQuality; color-rendering:optimizeQuality; font-family:'Helvetica Neue'; stroke:rgb(102,102,102); color-interpolation:linearRGB;\"\n",
       "    ><text x=\"0\" xml:space=\"preserve\" y=\"0\" style=\"stroke:none;\"\n",
       "      >0</text\n",
       "    ></g\n",
       "    ><g transform=\"translate(182,391)\" style=\"font-size:10px; fill:rgb(102,102,102); text-rendering:geometricPrecision; image-rendering:optimizeQuality; color-rendering:optimizeQuality; font-family:'Helvetica Neue'; stroke:rgb(102,102,102); color-interpolation:linearRGB;\"\n",
       "    ><text x=\"0\" xml:space=\"preserve\" y=\"0\" style=\"stroke:none;\"\n",
       "      >10</text\n",
       "    ></g\n",
       "    ><g transform=\"translate(194,386)\" style=\"font-size:8px; fill:rgb(102,102,102); text-rendering:geometricPrecision; image-rendering:optimizeQuality; color-rendering:optimizeQuality; font-family:'Helvetica Neue'; stroke:rgb(102,102,102); color-interpolation:linearRGB;\"\n",
       "    ><text x=\"0\" xml:space=\"preserve\" y=\"0\" style=\"stroke:none;\"\n",
       "      >1</text\n",
       "    ></g\n",
       "    ><g transform=\"translate(287,391)\" style=\"font-size:10px; fill:rgb(102,102,102); text-rendering:geometricPrecision; image-rendering:optimizeQuality; color-rendering:optimizeQuality; font-family:'Helvetica Neue'; stroke:rgb(102,102,102); color-interpolation:linearRGB;\"\n",
       "    ><text x=\"0\" xml:space=\"preserve\" y=\"0\" style=\"stroke:none;\"\n",
       "      >10</text\n",
       "    ></g\n",
       "    ><g transform=\"translate(299,386)\" style=\"font-size:8px; fill:rgb(102,102,102); text-rendering:geometricPrecision; image-rendering:optimizeQuality; color-rendering:optimizeQuality; font-family:'Helvetica Neue'; stroke:rgb(102,102,102); color-interpolation:linearRGB;\"\n",
       "    ><text x=\"0\" xml:space=\"preserve\" y=\"0\" style=\"stroke:none;\"\n",
       "      >2</text\n",
       "    ></g\n",
       "    ><g transform=\"translate(393,391)\" style=\"font-size:10px; fill:rgb(102,102,102); text-rendering:geometricPrecision; image-rendering:optimizeQuality; color-rendering:optimizeQuality; font-family:'Helvetica Neue'; stroke:rgb(102,102,102); color-interpolation:linearRGB;\"\n",
       "    ><text x=\"0\" xml:space=\"preserve\" y=\"0\" style=\"stroke:none;\"\n",
       "      >10</text\n",
       "    ></g\n",
       "    ><g transform=\"translate(405,386)\" style=\"font-size:8px; fill:rgb(102,102,102); text-rendering:geometricPrecision; image-rendering:optimizeQuality; color-rendering:optimizeQuality; font-family:'Helvetica Neue'; stroke:rgb(102,102,102); color-interpolation:linearRGB;\"\n",
       "    ><text x=\"0\" xml:space=\"preserve\" y=\"0\" style=\"stroke:none;\"\n",
       "      >3</text\n",
       "    ></g\n",
       "    ><g transform=\"translate(498,391)\" style=\"font-size:10px; fill:rgb(102,102,102); text-rendering:geometricPrecision; image-rendering:optimizeQuality; color-rendering:optimizeQuality; font-family:'Helvetica Neue'; stroke:rgb(102,102,102); color-interpolation:linearRGB;\"\n",
       "    ><text x=\"0\" xml:space=\"preserve\" y=\"0\" style=\"stroke:none;\"\n",
       "      >10</text\n",
       "    ></g\n",
       "    ><g transform=\"translate(510,386)\" style=\"font-size:8px; fill:rgb(102,102,102); text-rendering:geometricPrecision; image-rendering:optimizeQuality; color-rendering:optimizeQuality; font-family:'Helvetica Neue'; stroke:rgb(102,102,102); color-interpolation:linearRGB;\"\n",
       "    ><text x=\"0\" xml:space=\"preserve\" y=\"0\" style=\"stroke:none;\"\n",
       "      >4</text\n",
       "    ></g\n",
       "    ><g style=\"fill:rgb(102,102,102); text-rendering:geometricPrecision; image-rendering:optimizeQuality; color-rendering:optimizeQuality; stroke-linejoin:round; stroke:rgb(102,102,102); color-interpolation:linearRGB; stroke-width:0.5;\"\n",
       "    ><line y2=\"228\" style=\"fill:none;\" x1=\"85\" x2=\"85\" y1=\"374\"\n",
       "      /><line y2=\"228\" style=\"fill:none;\" x1=\"507\" x2=\"507\" y1=\"374\"\n",
       "      /><line y2=\"372.5686\" style=\"fill:none;\" x1=\"85\" x2=\"89.22\" y1=\"372.5686\"\n",
       "      /><line y2=\"336.7843\" style=\"fill:none;\" x1=\"85\" x2=\"89.22\" y1=\"336.7843\"\n",
       "      /><line y2=\"301\" style=\"fill:none;\" x1=\"85\" x2=\"89.22\" y1=\"301\"\n",
       "      /><line y2=\"265.2157\" style=\"fill:none;\" x1=\"85\" x2=\"89.22\" y1=\"265.2157\"\n",
       "      /><line y2=\"229.4314\" style=\"fill:none;\" x1=\"85\" x2=\"89.22\" y1=\"229.4314\"\n",
       "      /><line y2=\"372.5686\" style=\"fill:none;\" x1=\"507\" x2=\"502.78\" y1=\"372.5686\"\n",
       "      /><line y2=\"336.7843\" style=\"fill:none;\" x1=\"507\" x2=\"502.78\" y1=\"336.7843\"\n",
       "      /><line y2=\"301\" style=\"fill:none;\" x1=\"507\" x2=\"502.78\" y1=\"301\"\n",
       "      /><line y2=\"265.2157\" style=\"fill:none;\" x1=\"507\" x2=\"502.78\" y1=\"265.2157\"\n",
       "      /><line y2=\"229.4314\" style=\"fill:none;\" x1=\"507\" x2=\"502.78\" y1=\"229.4314\"\n",
       "    /></g\n",
       "    ><g transform=\"translate(81,372.5686)\" style=\"font-size:10px; fill:rgb(102,102,102); text-rendering:geometricPrecision; image-rendering:optimizeQuality; color-rendering:optimizeQuality; font-family:'Helvetica Neue'; stroke:rgb(102,102,102); color-interpolation:linearRGB;\"\n",
       "    ><text x=\"-21\" xml:space=\"preserve\" y=\"3.5\" style=\"stroke:none;\"\n",
       "      >-180</text\n",
       "    ></g\n",
       "    ><g transform=\"translate(81,336.7843)\" style=\"font-size:10px; fill:rgb(102,102,102); text-rendering:geometricPrecision; image-rendering:optimizeQuality; color-rendering:optimizeQuality; font-family:'Helvetica Neue'; stroke:rgb(102,102,102); color-interpolation:linearRGB;\"\n",
       "    ><text x=\"-21\" xml:space=\"preserve\" y=\"3.5\" style=\"stroke:none;\"\n",
       "      >-135</text\n",
       "    ></g\n",
       "    ><g transform=\"translate(81,301)\" style=\"font-size:10px; fill:rgb(102,102,102); text-rendering:geometricPrecision; image-rendering:optimizeQuality; color-rendering:optimizeQuality; font-family:'Helvetica Neue'; stroke:rgb(102,102,102); color-interpolation:linearRGB;\"\n",
       "    ><text x=\"-16\" xml:space=\"preserve\" y=\"3.5\" style=\"stroke:none;\"\n",
       "      >-90</text\n",
       "    ></g\n",
       "    ><g transform=\"translate(81,265.2157)\" style=\"font-size:10px; fill:rgb(102,102,102); text-rendering:geometricPrecision; image-rendering:optimizeQuality; color-rendering:optimizeQuality; font-family:'Helvetica Neue'; stroke:rgb(102,102,102); color-interpolation:linearRGB;\"\n",
       "    ><text x=\"-16\" xml:space=\"preserve\" y=\"3.5\" style=\"stroke:none;\"\n",
       "      >-45</text\n",
       "    ></g\n",
       "    ><g transform=\"translate(81,229.4314)\" style=\"font-size:10px; fill:rgb(102,102,102); text-rendering:geometricPrecision; image-rendering:optimizeQuality; color-rendering:optimizeQuality; font-family:'Helvetica Neue'; stroke:rgb(102,102,102); color-interpolation:linearRGB;\"\n",
       "    ><text x=\"-6\" xml:space=\"preserve\" y=\"3.5\" style=\"stroke:none;\"\n",
       "      >0</text\n",
       "    ></g\n",
       "    ><g transform=\"translate(57,300.9999) rotate(-90)\" style=\"font-size:11px; text-rendering:geometricPrecision; color-rendering:optimizeQuality; image-rendering:optimizeQuality; font-family:'Helvetica Neue'; color-interpolation:linearRGB;\"\n",
       "    ><text x=\"-29.5\" xml:space=\"preserve\" y=\"-3\" style=\"stroke:none;\"\n",
       "      >Phase (deg)</text\n",
       "    ></g\n",
       "    ><g style=\"stroke-linecap:butt; fill:rgb(0,114,189); text-rendering:geometricPrecision; image-rendering:optimizeQuality; color-rendering:optimizeQuality; stroke-linejoin:round; stroke:rgb(0,114,189); color-interpolation:linearRGB; stroke-width:0.5;\"\n",
       "    ><path d=\"M84.9497 230.3705 L116.7587 230.7202 L123.9283 230.9386 L131.098 231.194 L138.2676 231.4928 L145.4373 231.8423 L152.6069 232.2512 L159.7766 232.7296 L166.9462 233.2895 L174.1159 233.945 L181.2855 234.7127 L188.4552 235.6123 L195.6249 236.6672 L202.7945 237.9055 L209.9642 239.3611 L217.1338 241.075 L224.3035 243.0975 L231.4731 245.4913 L238.6428 248.3344 L245.8124 251.7248 L252.9821 255.7848 L260.1517 260.6625 L267.3214 266.5246 L274.491 273.5262 L281.6607 281.7394 L288.8304 291.0379 L296 301 L303.1696 310.9621 L310.3393 320.2606 L317.509 328.4738 L324.6786 335.4754 L331.8483 341.3375 L339.0179 346.2152 L346.1876 350.2752 L353.3572 353.6656 L360.5269 356.5087 L367.6965 358.9025 L374.8662 360.925 L382.0358 362.6389 L389.2055 364.0945 L396.3752 365.3328 L403.5448 366.3878 L410.7144 367.2873 L417.8841 368.055 L425.0538 368.7105 L432.2234 369.2704 L439.3931 369.7488 L446.5627 370.1577 L453.7324 370.5072 L460.902 370.8059 L468.0717 371.0614 L475.2413 371.2798 L507.0503 371.6295\" style=\"fill:none; fill-rule:evenodd;\"\n",
       "    /></g\n",
       "    ><g transform=\"translate(295,44.2)\" style=\"font-size:11px; text-rendering:geometricPrecision; image-rendering:optimizeQuality; color-rendering:optimizeQuality; font-family:'Helvetica Neue'; color-interpolation:linearRGB; font-weight:bold;\"\n",
       "    ><text x=\"-169.5\" xml:space=\"preserve\" y=\"-3\" style=\"stroke:none;\"\n",
       "      >Bode-plot of Butterworth 2nd-Order Butterworth Low Pass Filter</text\n",
       "    ></g\n",
       "    ><g transform=\"translate(295,393)\" style=\"font-size:11px; text-rendering:geometricPrecision; color-rendering:optimizeQuality; image-rendering:optimizeQuality; font-family:'Helvetica Neue'; color-interpolation:linearRGB;\"\n",
       "    ><text x=\"-45\" xml:space=\"preserve\" y=\"11\" style=\"stroke:none;\"\n",
       "      >Frequency  (rad/s)</text\n",
       "    ></g\n",
       "  ></g\n",
       "></svg\n",
       ">\n"
      ]
     },
     "metadata": {
      "filenames": {
       "image/svg+xml": "/Users/eechris/code/src/github.com/cpjobling/eg-247-textbook/_build/jupyter_execute/fourier_transform/4/ft4_41_0.svg"
      }
     },
     "output_type": "display_data"
    }
   ],
   "source": [
    "bode(H)\n",
    "grid\n",
    "title('Bode-plot of Butterworth 2nd-Order Butterworth Low Pass Filter')"
   ]
  },
  {
   "cell_type": "markdown",
   "id": "0ef5ef6d",
   "metadata": {
    "slideshow": {
     "slide_type": "notes"
    }
   },
   "source": [
    "Note that the attentuation of the filter is flat at 0 dB in the pass-band at frequencies below the cut-off frequency $\\omega < \\omega_c$; has a value of $-3$ dB at the cut-off frquency $\\omega = \\omega_c$; and has a \"roll-off\" (rate of decrease) of $N\\times 20$ dB/decade in the stop-band. \n",
    "\n",
    "In this case, $N=2$, and $\\omega_c = 100$ rad/s so the attenuation is -40 dB at $\\omega = 10\\omega_c = 1,000$ rad/s and $\\omega = -80$ dB at $\\omega = 100\\omega_c = 10,000$ rad/s.\n",
    "\n",
    "The phase is $0^\\circ$ at $\\omega = 0$; $N\\times 90^\\circ$ at $\\omega = \\infty$; and $N\\times 45^\\circ$ and $\\omega = \\omega_c$."
   ]
  },
  {
   "cell_type": "markdown",
   "id": "f1c6e571",
   "metadata": {
    "slideshow": {
     "slide_type": "slide"
    }
   },
   "source": [
    "### Example 8\n",
    "\n",
    "Determine the impulse and step response of a butterworth low-pass filter.\n",
    "\n",
    "You will find this Fourier transform pair useful:\n",
    "\n",
    "$$e^{-at}\\sin\\omega_0 t\\;u_0(t) \\Leftrightarrow \\frac{\\omega_0}{(j\\omega + a)^2+\\omega_0^2}$$"
   ]
  },
  {
   "cell_type": "markdown",
   "id": "bd7d130b",
   "metadata": {
    "slideshow": {
     "slide_type": "notes"
    }
   },
   "source": [
    "#### Solution to example 8\n",
    "\n",
    "<pre style=\"border: 2px solid blue\">\n",
    "\n",
    "\n",
    "\n",
    "\n",
    "\n",
    "\n",
    "\n",
    "\n",
    "\n",
    "\n",
    "\n",
    "\n",
    "\n",
    "\n",
    "\n",
    "\n",
    "\n",
    "\n",
    "\n",
    "\n",
    "\n",
    "\n",
    "\n",
    "\n",
    "</pre>"
   ]
  },
  {
   "cell_type": "markdown",
   "id": "6a20e18a",
   "metadata": {
    "slideshow": {
     "slide_type": "subslide"
    }
   },
   "source": [
    "Impulse response"
   ]
  },
  {
   "cell_type": "code",
   "execution_count": 6,
   "id": "b9525a33",
   "metadata": {
    "slideshow": {
     "slide_type": "subslide"
    }
   },
   "outputs": [
    {
     "data": {
      "image/svg+xml": [
       "<?xml version=\"1.0\"?>\n",
       "<!DOCTYPE svg PUBLIC '-//W3C//DTD SVG 1.0//EN'\n",
       "          'http://www.w3.org/TR/2001/REC-SVG-20010904/DTD/svg10.dtd'>\n",
       "<svg xmlns:xlink=\"http://www.w3.org/1999/xlink\" style=\"fill-opacity:1; color-rendering:auto; color-interpolation:auto; text-rendering:auto; stroke:black; stroke-linecap:square; stroke-miterlimit:10; shape-rendering:auto; stroke-opacity:1; fill:black; stroke-dasharray:none; font-weight:normal; stroke-width:1; font-family:'Dialog'; font-style:normal; stroke-linejoin:miter; font-size:12px; stroke-dashoffset:0; image-rendering:auto;\" width=\"560\" height=\"420\" xmlns=\"http://www.w3.org/2000/svg\"\n",
       "><!--Generated by the Batik Graphics2D SVG Generator--><defs id=\"genericDefs\"\n",
       "  /><g\n",
       "  ><defs id=\"defs1\"\n",
       "    ><clipPath clipPathUnits=\"userSpaceOnUse\" id=\"clipPath1\"\n",
       "      ><path d=\"M0 0 L560 0 L560 420 L0 420 L0 0 Z\"\n",
       "      /></clipPath\n",
       "    ></defs\n",
       "    ><g style=\"fill:white; stroke:white;\"\n",
       "    ><rect x=\"0\" y=\"0\" width=\"560\" style=\"clip-path:url(#clipPath1); stroke:none;\" height=\"420\"\n",
       "    /></g\n",
       "    ><g\n",
       "    ><image x=\"0\" y=\"0\" width=\"560\" xlink:href=\"data:image/png;base64,iVBORw0KGgoAAAANSUhEUgAAAjAAAAGkCAIAAACgjIjwAAAzAElEQVR42u2dC3gU\n",
       "1fn/0UoVhSoC3vFSLQKKj1gqIAL6b6nV4qWKN9QCaimihECAJSmQLQGEJohEQTEY\n",
       "gRgwYFVAoqgEkMglmgBKSSFcNGoQMVyFTRYS/29zHva37mw2e5nLzu7n++TJM3t2\n",
       "d75zLu/5zJk5c7bRTwghhFAUqBFFgBBCCCAhhBBCAAkhhBBAQgghhAASQgghgIQQ\n",
       "QggBJIQQQgAJIYQQAkgIIYQAEkIIIQSQEEIIASSEEEIIICGEEAJICCGEEEBCCCEE\n",
       "kBBCCCGAhBBCCCAhhBBCAAkhhBBAQgghhAASQgghgIQQQggBJIQQQgAJIYQQAkgI\n",
       "IYQAEkIIIQSQEEIIASSEEEIIICGEEAJICCGEEEBCCCEEkBBC4ejw4cM7duyoqamh\n",
       "KBACSLGsxYsXN2rUKCkpSZe9ZWZmyt4++uijMI7Bo5YtW6alpdmlAKdMmXLhhRfe\n",
       "fvvt3onp6emXXXbZWWedddddd+3Zs6fBnUh+JeOfffaZT/rOnTt79OhxyimnyLtN\n",
       "mzadMGFCYCzVt59gSv7UU0+9/PLLX3/9db+frKqqGjVq1MKFC322DZXHaPLkyXKE\n",
       "69evN7oNexfIGWeccdNNN23atEnf3Sr1799fRYonZEwrVQSQAFLDx9CtWzfpdxwO\n",
       "R4sWLeTlp59+Gv2ld+jQodNPP71Lly6ffPKJJ3Hp0qUqO3379pWNPn36hAckl8sl\n",
       "hFCd17PPPtu+fXvZliLSHUiq5KUNNG7c+JxzzqlvlCaffPTRR322jR4aKiPJvmys\n",
       "W7fOHCCpAhk0aJBAuk2bNnrttmPHjkNOSsAzc+bMb7/91hMyppUqAkg2AFJOTs7V\n",
       "V18tQSgDFDm7z87O/u1vf9ukSZO//OUvbrc7KytL3u3Xr9/ZZ5991VVXvfHGG7Nn\n",
       "z5YUdf741FNPtW3b1htI33zzza233irnmM2aNXvkkUeOHTsm7z7//PNXXHGF7OH+\n",
       "++8/cOBAfR3KE088IS+XLVum/Yp2t9oDUzuRdHkpx9+1a9cNGzaoFPmk9AXnnnuu\n",
       "5DE3Nzekg9TuU3qQX//613KozZs3HzlypOdjTz/9tCTu3btXti+++GLZm9Za3jpx\n",
       "4sTw4cOFvvKBP/zhD1qQyLckcfDgwerlDz/8IIMkObBXXnlF9jZmzBjxfeedd/zu\n",
       "R5sLdQyeb2lLXvYjQ70LLrhAtrWVK/2yfFIK6sEHH/Te1paYj1GPOsnH5s6dK+kq\n",
       "75Lyxz/+UVukPt/1GF133XWyMWDAgJZ1UjtpEEg+Ow98JH53deONN8pLqWg5OXjy\n",
       "ySflqITZ1157bWFhobbx+G1O9R2hCre1a9d6QiakUqXjAkgxDiQVGBKBEydOlBND\n",
       "2ZbW//vf/1425JRfnaJ26tRJAkMiR8Jy9OjRnpPWO++885RTTvEGknr3tddemzBh\n",
       "wllnnSXh9+abb0rKwIEDp0yZIl9/+OGHfY6hZ8+eGRkZKSkp0uO0atVKglD7Fe1u\n",
       "tQdWXl5eUFAgib169ZK++9JLL5W9HTx4UH1SujbJl/QarVu3Dukgtfvct2/fCy+8\n",
       "IIl33HGH93hu27ZtasD0wQcf/OIXv7jvvvu01vLunDlzJPHuu+9+6aWX1KDQB0gC\n",
       "MEl8//33PSm33XabpIwaNUr+n3baaXJ44qvdz7/+9S9tLtQxeL7lXfLyLelkpdhl\n",
       "W4rR82HvypVOXFK6d+++YsUK721tifkYPf744/KyrKzsgQcekA0ZNW7fvl02EhIS\n",
       "tEWamprq/V2PkcBAW4CBgaTduQw+6jsSn11JYUqnL0gQL0VoKVtV8vn5+RIdUuPa\n",
       "xqNN8dmtHMb/q5OQ1RMpno2QSpWOCyDFBZDkpSTKCEnO/WXj7bffVp2UigcJFUmc\n",
       "P3++bMuJWwAgqY3zzjtPThXlVFTOvh966CFJkZ5Fwkx6QAl1n2M4/fTTpdeQ8JNt\n",
       "6TIkXfsV7W61ByaBPWzYMNnYsWOHJL744ouqW1efVNfoJewFFSEdpN997tq1SzYS\n",
       "ExN9SvX48ePSdYpF+/btv/76a621bKgLejLuke3k5GR1BnBdnTp37iyJzzzzjA+Q\n",
       "/vSnP0mKjMbkv3SRKlG7Hznl1+ZCHYPnWz5XqNLS0iSDMoCTU/I9e/ZogVTfJTtt\n",
       "ifkYqQuYM2fOlJ79/PPPv+iii2bMmCEpAgxtkUpP7f1dn0t2PgUYGEjanf/zn/+s\n",
       "70jqu9kjBfLuu+9KutvtlooQPAgPJP3mm2/WNh5tis9uhaMKSP3799cCKaRSRQAp\n",
       "LoCkbv9ceeWVcsrs6U08QFIn/uor9957r4cEXbp08QGSbC9fvly6VDkrlBQ5Z7zn\n",
       "nntU3518UtJrazsUCcsbbrhBXm7ZssXvV3x2qz2wWbNmqYtmQgJJfPXVVxVotZ1s\n",
       "SAfpd59+gXTs2DF16Uz2rK7b+LVWnY7kV7adTqdsp6enP1gn6bAkUU7tJXHQoEFq\n",
       "tzIga9q06a9+9atJkyZ5sux3P7fccos2F94FVV9XrjrxN954Q00i8K7c+oCkLTEZ\n",
       "YXsbuVwuOexrrrlGEhUAZFs6ejkkbZH+9a9/9f6u33tIngIMDCTtzhctWlTfkfjs\n",
       "ql+/fl988YX3zEYZu0t67969p02b1qRJEwGStvH4TanvCAMDqcFSRQAJIDWSvqCw\n",
       "sFD1d+rqigxlZs+e/ctf/tIHSI899ph0nQKV9957T10VmT59ujq7l27upptukvP6\n",
       "+sJ13Lhx8jI/P1/7Fe1utQe2efNmOZWWjb/97W+S2LFjxzPPPNPvWX9IB+l3n36B\n",
       "pErm6quvfrZOU6dO9dufqtP2p556atWqVVdccYX2kp3ATIaqqpuW/qhdu3ayrfbp\n",
       "fYdfu58RI0Zoc+F3XoAqeele5d2xY8deeOGFajqJun3lXbk//vijpHTo0EFcvLe1\n",
       "JaY1UoNpOdOvrq4WJKgc+S3SlJQU7+96jGSg0CCQrr/++sEnJZ/0W1/1HUmDt6P6\n",
       "9Okj6du3b//www/VmFLbeLQpIQEp1FJFACkGtWTJEtWFqdsh6qT4qquu8gaS9Eoq\n",
       "Hjp37qwuZEuf+/333wu3VHjLmEb1EZ6dSFj+5je/Udc9ZEMi2e12y4nnqaeeKp+8\n",
       "7rrrdu/erT0G9XLevHny8rnnntN+Rbtb7YGpncje1NW/li1bvvnmmz498l133SX7\n",
       "DOkg/e5TPqAFkvRW3pd9pJPSWquhg5wIy7bYderUST5QXFzsUztykt6jRw91S69Z\n",
       "s2ZpaWmeq5Sevkm7nw0bNmhz4bdHUyXvmfYtPJOhg6T7rVx1B0tdTvRsa0tMa5Sb\n",
       "m6uG1LL95z//Wbbffvttv0Wq/a4yat26tbYA/eZCac6cOX7rK8CR+G2KHsnHZGAk\n",
       "b8kpguxNAkTbeLQpAXbriRTvuAupVBFAil954qGystIzfaimpuarr77yvlburdra\n",
       "2oo6yYb3Wb+62xG8fL7is1u/B6YkZ8HffPONt3vkBxnMPkPS/v375dQ48GeOHDki\n",
       "Q7HAptr9hFHU3vJbuQI/KQHtdiReDRapt5HuOw9eUrw+u9I2Hr/NKSTpVaoIIMWy\n",
       "Jk+eLOdr9T2ZyIEhhAASQgghBJAQQggBJIQQQgggIYQQAkgIIYQQQPLW5MmTnXXK\n",
       "zs7+qW66Z25ursPhkJTS0lKqHCGEAJIZOnjw4Pjx46vq5Ha7JaWkpCQ1NdXlchUX\n",
       "FycnJ1PlCCEEkMzQli1bpk+fXlhYKBxSTw7m5eXl5+erd5OSkiorK6l1hBACSIar\n",
       "oKBg4sSJ8n/mzJnTpk2TlOzsbOGTetfpdJaXl3t/fiBCCMWNAJI1qqmpGTp06KFD\n",
       "h3JycjyL2KekpFRUVPgAycKDxD0+3Sl83OOz2ccdkPLy8hR+9u3bl5CQUF1dLS8z\n",
       "MzMlRVAkKerGEu0Dd4CEO+4AyVh99913Y8eOTUtLczgcRUVFP9Wt4Zieni4vExMT\n",
       "PdfuaB+4AyTccQdI0SVra8jnNxRwjxN3Ch93gASQABLuAAl3gASQABKxgTvZxx0g\n",
       "ASSAhDtAwh13gASQiA3cyT7uAAkgASTcARLuuAMkgERs4E72cQdIAAkg4Q6QcMcd\n",
       "IAEkYgN3so87QAJIAAl3gIQ77gAJIBEbuJN93AESQAJIuAMk3HEHSACJ2MCd7OMO\n",
       "kAASQMIdIOGOO0ACSMQG7mQfd4AEkAAS7gAJd9wBEkAiNnAn+7gDJIAEkHAHSLjj\n",
       "DpAAErGBO9nHHSABpBgH0u5Kl/P9XbfMKOm/YOtrRRVEJkDCHXeABJDM1oLCUoHQ\n",
       "5RM+ESCt3HFAaCQvGw1foVKITICEO+4ACSCZIRkSXeJc7XdIJGMmE5hEv0D2cQdI\n",
       "AAkg/Y9G8hegdarreIIl2SAyARLuuAMkgGSI+i/YKjQKpnUqJhGZAAl33AESQDKQ\n",
       "RkG2TnX5buWOA0QmQMIdd4AEkHSTz4gnyNYpNDLi2h39AtnHHSABpPgFUqPhK7y5\n",
       "EnzrfK2oQvdrd/QLZB93gASQ4hRI/Rdslb+wW6eMrny+TmQCJNxxB0gAKfSGWOmS\n",
       "4VGErVOYpONccPoFso87QAJI8QikW2aUaFkSRuuU/eg1wYF+gezjDpAAUtwBSc1K\n",
       "0KV11rcrIhMg4Y47QAJIQQ1r/K/IEFbr7L9gqy4X7ugXyD7uAAkgxReQBEWeB490\n",
       "aZ27K126XLijXyD7uAMkgBRfQArwWGvYrVOXWeD0C2Qfd4AEkOIISGqdBSNaZ+QX\n",
       "7ugXyD7uAAkgxRGQAv/EUYStM8LlG+gXyD7uAAkgxRGQAjMjwtYZ4aOy9AtkH3eA\n",
       "BJDiBUjqB/eMa50Rzm6gXyD7uAMkgBQvQGrwJ8kjb50BpvARmQAJd9wBEkA6Wbia\n",
       "tYJ0b52RDJLoF8g+7gAJIMUFkBq8XqdX6wx7kES/QPZxB0gAKS6AFMzARa/WGd4g\n",
       "iX6B7OMOkABSXACpwet1+rbOMJ6TpV8g+7gDJIAU+0AK8ncidGydYQyS6BfIPu4A\n",
       "CSDFPpCCfGRVx9YZeEkIIhMg4Y47QIpHIAXPBn1bZ6iDJPoFso87QAJIMQ6kYObX\n",
       "GdE6hUYhTbejXyD7uAMkgGS43G53WlpaWVmZbNfW1ubm5jocDqfTWVpaakINNfg8\n",
       "rHGtM6RBEv0C2ccdIAEkwyUESkhI2LZtm2yXlJSkpqa6XK7i4uLk5GQTaiiY+XUG\n",
       "tc6QBkn0C2Qfd4AEkIzVpk2bZs2a9fLLLysg5eXl5efnq7eSkpIqKyt9asij3Xoo\n",
       "Pf/zPllFQX54zZo1u/VWl6lrFxSWWuUevOLZncLH3Ux593IAyVQdPHhwwoQJR48e\n",
       "9QApOzu7sLBQvet0OsvLyw09ZQj+ep1Bp0vBD5I4USX7uDNCAkgGSsZGc+fO/eST\n",
       "TyZNmvTWW28dOXIkJyenoKBAvZuSklJRUWFoDYX0G0UGtc4g7yTRL5B93AESQDJQ\n",
       "GzduXFWntLS0hQsXHj58WGiUmZkpbwmKEhIS3G63oTUU/A0k41pnkNP86BfIPu4A\n",
       "CSCZNFTavn27bFRXV6enpzscjsTERM+1O4NqKPgJ34a2ziAfhKJfIPu4AySAFEXS\n",
       "t4ZCuoFkaOsMZu0i+gWyjztAAkgxC6SQbiAZ2jqDGSTRL5B93AESQIpNIIW6UILR\n",
       "rbPBqQ30C2Qfd4AEkGITSKHeQDK6dTYISPoFso87QAJIsQmkKPwBiMCHRL9A9nEH\n",
       "SAApNoEU0oRvc1pn4EES/QLZxx0gAaQYBFIY1+tMaJ27K10ACSDhjjtAAkhR0ToD\n",
       "HBj9AtnHHSABpBgEUqhPIJnWOgPM/6ZfIPu4AySAFINACvUJJDNbZ31TG+gXyD7u\n",
       "AAkgxSCQwpjRYFrrrG9qA/0C2ccdIAGkWANSeDeQzGydfgdJ9AtkH3eABJBiDUjh\n",
       "3UAys3X6RSb9AtnHHSABJIBkduv0O7WBfoHs4w6QAFKsASm8G0gmt04tNekXyD7u\n",
       "AAkgxRSQgvzxIctbp/Y46RfIPu4ACSDFFJDCntFgfuv0mdpAv0D2cQdIACmmgBT2\n",
       "DSRLWqc3O+kXyD7uAAkgxRSQwnsk1qrW6X3Vjn6B7OMOkABSTAEp7BkNVo2QPOM5\n",
       "+gWyjztAAkixA6RIbiBZ0jq9pzbQL5B93AESQAJIVrZOz9QG+gWyjztAAkixA6RI\n",
       "ZjRY1To9EKVfIPu4AySAFDtAimRGg1Wt03PVjn6B7OMOkABS7AApkhkNFrZONbCj\n",
       "XyD7uAMkgBQ7QIrkBpKFrVP9IAX9AtnHHSABpBgBkvP9XfJn09YpQFpQWEq/QPZx\n",
       "B0gAKRaAFOGMBmtbpxx5n6wi+gWyjztAAkixAKQIZzRY3jovca6mXyD7uAMkgBQL\n",
       "QIpwRoPlrbPL1LXan5GlXyD7uAMkgGSzGorkVyeipHUuKCy9ZUYJ/QLZxx0gASR7\n",
       "AynCNRqiJDZ8fpCCfoHs4w6QAJL9aijyKXbREBu65IJ+gezjDpAAkpU1FPkUu2iI\n",
       "DV0uPNIvkH3cARJAsrKGIp9iFyWxYdVVO4CEO+4ACSDpU0ORT7GLkthQqzbQL5B9\n",
       "3AESQLIlkPS60hUNsWHVVTuAhDvuAAkg6VBDukyxi57Y0OV+GP0C2ccdIAEkC2pI\n",
       "r8lpURIblgySABLuuAMkgKRDDek1pIie2DB/agNAwh13gASQdKghXabYRVVs6HUR\n",
       "kn6B7OMOkACSqTWkyxS7qIoN86/aASTccQdIACnSGtJxnnRUxYbJV+0AEu64AySA\n",
       "FGkN6Xh1K6piw+QHkgAS7rgDJIAUaQ3puP5bVMWGyVftABLuuAMkgBRpDen41E60\n",
       "xYaZa60CJNxxB0gAKdIa0muKXRTGhpmDJICEO+4AKcaB5Ha7Z8+ePWrUqLS0tJ07\n",
       "d0pKbW1tbm6uw+FwOp2lpaWR15BeU+yiMzZMm9oAkHDHHSDFOJBWr16dmZl54sSJ\n",
       "ZcuWZWRkSEpJSUlqaqrL5SouLk5OTo6whvS98x+FsWHaA0kACXfcAVKMA0nwowZG\n",
       "RUVFzz33nGzk5eXl5+erd5OSkiorK31qyKPdQSg9//M+WUW7ddKaNWt2Wye/7ms2\n",
       "l13iXG2Vu7V5j58DwD2u3L17OYBkgWbNmjV48OANGzbIdnZ2dmFhoUp3Op3l5eWR\n",
       "nDLoe9s/Ok/WzLlqxwgJd9wZIcU4kPbt21ddXS0be/fuHTp0aFVVVU5OTkFBgXo3\n",
       "JSWloqIikhrS93JWdMaGOQ8kASTccQdIMQ6krKyspUuXysahQ4eGDBly9OhRoVFm\n",
       "ZqakCIoSEhLcbnckNaTvJLTojI3dlS7hrtGDJICEO+4AKcaBJNQZU6eRI0euWPG/\n",
       "6XAyYEpPT3c4HImJiZ5rd2HXkI5T7KI5Nkx4IAkg4Y47QIpxIBldQ3ECJBMeSAJI\n",
       "uOMOkABS+DWk+82VaI4No6c2ACTccQdIACn8GtL9GZ1ojg2jH0gCSLjjDpAAUvg1\n",
       "pPudlWiODaOv2gEk3HEHSAAp/BrScVlVW8SGoVftABLuuAMkgBR+Dem4rKotYsPQ\n",
       "B5IAEu64AySABJBCcDdukASQcMcdIAGk8GtI3znftogN4x5IAki44w6QAFKYNWTE\n",
       "9StbxIZBUxsAEu64AySAFGYNGTEN2haxYdBVO4CEO+4ACSCFWUNGXLyyRWwY9EAS\n",
       "QMIdd4AEkMKsId3nfNslNgx6IAkg4Y47QAJIYdaQEVeu7BIbcQtjukXcARJAisYa\n",
       "0n3Ot41iI24ndNAt4g6QAFI01pDuc77tFRu6DxABEu64AySAFE4NGbRmgY1iI64W\n",
       "lqVbxB0gAaTorSFmmuk+tQEg4Y47QAJIAClMd32v2gEk3HEHSAApnBoyYpqZ7WJD\n",
       "3+uWAAl33AESQAqnhlitQEnHq3YACXfcARJACqeGjJjzbcfY0HG5CoCEO+4ACSCF\n",
       "U0NGzPm2Y2zoOLUBIOGOO0ACSCHXkHE/5m3H2NDr6iVAwh13gASQQq4hg6bY2TQ2\n",
       "9CoNgIQ77gAJIAGkiNz1Gi8CJNxxB0gAKeQaMmjOt31jQ5cCAUi44w6Q7Aqk+fPn\n",
       "33333a+++mpmZuahQ4cAkoXuujyQBJBwxx0g2RJIU6dOvfrqq3v37p2ampqUlNSp\n",
       "Uycza8igOd+2jo3IpzYAJNxxB0i2BNINN9xQXFyckZEhQJKXV1555bfffmtaDRk0\n",
       "59vWsRH5fTWAhDvuAMmWQOrWrdvKlSsVkI4cOdKyZcvKykqAZK17hFMbABLuuAMk\n",
       "WwJpyZIlrVq16tSpU5cuXTp06PDYY4+ZVkMG/fBEDMRGhFftABLuuAMkWwJJtGnT\n",
       "prFjxyYkJCxatKi2tta0GjJuzrfdYyNCVAMk3HEHSHYFklU1BJDq/XqlS0om7EES\n",
       "QMIdd4BkMyC1a9fuPH/Sa+Z3gzWk43KisRcbkRQOQMIdd4BkMyDt3Llz27ZtiYmJ\n",
       "3bt3Lyws3LJly4gRIzp27FhTU2NODRn3EFIMxEYkqzYAJNxxB0g2A5LSNddcIyjy\n",
       "vGzTpk15ebk5NWTQLyHFTGyEXT4ACXfcAZItgdSlS5elS5eq7crKyubNm+/bt8+c\n",
       "GjLuqdjYiI2wpzYAJNxxB0i2BNK8efOaNm3ar1+/IUOGXHbZZX379jWthox7CCk2\n",
       "YkNoLUAKg9kACXfcAZItgSRau3ZtcnLysGHD8vLy9LqB1GANGfdLSLEUG+FNbQBI\n",
       "uOMOkGwJpJdffnnkz+VyuUyoIUOfio2Z2AgP2wAJd9wBki2BlJWVlVKnESNGXH/9\n",
       "9d26dauurjahhgx9CCmWYiOMqQ0ACXfcAZItgeQtGRtdeumlR48eNaGGDH0IKZZi\n",
       "I4yhJEDCHXeAZHsgHT9+/IILLti+fbsJNWToQ0ixFBthTG0ASLjjDpBsCaRnnnmm\n",
       "20kJjdq3by9YAkhR5R7qaBIg4Y47QLIlkObMmbNo0aJ367Ry5coVK1aYAyRDH0KK\n",
       "sdgIdWoDQMIdd4BkMyAdPHhw165dnTt3Xrx48a46lZWVNW/e3Jy17ABSSAppagNA\n",
       "wh13gGQzIL3wwguCn9NOO61Zs2bNT6p79+56/QJF4Boy9KnY2IuNkKY2ACTccQdI\n",
       "NgOS0r333rt58+ZgPul2u+fOnetwONLS0tTEB0FXbm6upDidztLS0uBryOinYmMy\n",
       "NoIfJAEk3HEHSLYEUvBatWpVRkbG8ePH169fP2bMGEkpKSlJTU11uVzFxcXJycnB\n",
       "15DRDyHFZGwEX2gACXfcAZLNgHTrrbcuW7bs8ccf7/BzHT582O/nP/jgAzWWOnjw\n",
       "4JAhQ2QjLy8vPz9fvZuUlFRZWelTQx7t/rnS8z/vk1W020itWbNmt3Uywn3N5rJL\n",
       "nKvjM+9xXvW4R627dy8HkCLSunXrvv/+e2HMxz9X4Fl2gqvp06cvXLhQtrOzswsL\n",
       "C1W60+n0+d2KADVk9FOxsXqyFuRtJEZIuOPOCMlmQOrRo0cHf6pvhCQS/IwdO1ag\n",
       "pV7m5OQUFBSo7ZSUlIqKiiBryOiHkGI1NoKc2gCQcMcdINkMSOvXr1dDolWrVs2b\n",
       "N2/WrFnvvfdegBGSjKgyMjK8FxYSGmVmZsqGoCghIcHtdgdZQ4b+NF9sx0YwRQeQ\n",
       "cMcdINkMSEo7duxo167dWWed1apVq6ZNm86dO7e+T06bNm3YsGFqJdaJEydKSnV1\n",
       "dXp6usPhSExM9Fy7C6aGjH4IKYZjI5ipDQAJd9wBki2BdPfddw8ZMkSt8L18+fJm\n",
       "zZqZ8PMTRj+EFMOxEcyMeYCEO+4AyZZAatu2bVlZmeflNddco32iCCBFlXuDU0IA\n",
       "Eu64AyRbAmnAgAFpaWlqu6ioqHXr1kb/HpLRP80X87HR4CAJIOGOO0CyJZAeffTR\n",
       "Ro0aXXrppR06dDj11FPPO++839Zp06ZNBtWQCU/FxnxsBJ7aAJBwxx0g2RJIxcXF\n",
       "H/nTwYMHAVLUugceZQIk3HEHSLYEkvk1ZMJDSPEQGwEGSQAJd9wBki2BVFBQ0LNn\n",
       "z45eCvBgLECKHvcAA02AhDvuAMmWQOrUqdOoUaNWrFhRcFJG/0CfCU/Fxkls1De1\n",
       "ASDhjjtAsiWQZEi0ceNGM2vIhKdi4yQ26htrAiTccQdItgTSnDlzbr75ZrVut5LR\n",
       "IyQTHkKKk9iob/43QMIdd4BkSyBJOTZv3rxz585dT+rIkSPG1ZAJP80XV7Hh9/on\n",
       "QMIdd4BkSyC1a9fu888/N62GzHkqNn5iw295AiTccQdItgTS448/Pm/ePNNqyJyH\n",
       "kOIqNrSDJICEO+4AyZZAeuaZZxo1atSpU6duJ2XoJTuAZMIgCSDhjjtAsiWQ1q1b\n",
       "966XZsyYcezYMeNqyITfio232Nhd6RLGew+SABLuuAMkWwJJSUZFWVlZnTt3ltFS\n",
       "5IsGBaghc56KjbfY8Bl3AiTccQdIdh0hPfHEE02bNm3RosW4ceO2b99uaA0BJIPk\n",
       "PXcRIOGOO0CyGZBmzJhx7bXXNm/eXIoyJSWld+/eJtSQOU/FxmFseJMeIOGOO0Cy\n",
       "GZBatWrVvn37Tz/9VLYXL1585513AiT7uns/4AWQcMcdINkMSFu2bElMTGzRosV1\n",
       "113Xp08fc4BkzjIN8RkbnkESQMIdd4BkMyApVVdX5+Xl9erVq3HjxnfccYds19TU\n",
       "ACQ7unsGSQAJd9wBki2B5F2d48aNa926tXGz7ExbpiFuY0M9JAuQcMcdINkbSEp6\n",
       "DY/81pBpT8XGbWwo5AMk3HEHSLEAJENrCCCZM0haUFgKkHDHHSABpEA1ZNoyDfEc\n",
       "GzJI6jJ1LUDCHXeABJAC1ZBpT8XGeWwIkEz4TV6AhDvuAAkgERsNKD3/c9MujQIk\n",
       "3HEHSLYEkt9fkyM2dNeazWU+y60CJNxxB0gA6WcybZkGItPM+SMACXfcAZL9gGTa\n",
       "U7FEpvY3KQAS7rgDJIAEkKxxt2qQBJBwB0gAKdqB5L36J7FhgrsU+P8ekjXrGilA\n",
       "wh0gASTbAMnMdYOITLVhySAJIOEOkABStAPJ5M6RyPQMkgAS7rgDJID0sxoyc5kG\n",
       "ItOq8wCAhDtAAkg2AJKZT8USmf+3bfqdJICEO0ACSACJ2PDvHlcXS6l63AESQGq4\n",
       "hsxcpoHI/NlLc59JAki4AySAFO1AMnOZBiLTJyV+fviDqscdIAGkhmvIzKdiiUzf\n",
       "FBMHSQAJd4AEkAASsRHI3bTnwAAS7gAJIEU1kExepoHI9Jtuzm08gIQ7QAJIUQ0k\n",
       "k5dpIDL9pr9WVGHCaQFAwh0gAaSoBlK8PZ4Zte5yWmD05HuAhDtAAkgAidho2F2G\n",
       "qkYPkgAS7gAJIEU1kExeN4jIDPCuDJIMrQuAhDtAAkgmqaioaP78+Wq7trY2NzfX\n",
       "4XA4nc7S0tIANWTyMg1EZqB3DZ5gApBwB0gAyXAdOHAgKyvr6aefnjNnjkopKSlJ\n",
       "TU11uVzFxcXJyckBasjkZRqIzMAfkPMD466gAiTcARJAMlwCns2bNy9cuNADpLy8\n",
       "vPz8fLWdlJRUWVlZXw2ZvEwDkdnAB+oGSQadIgAk3AESQDJJRUVFHiBlZ2cXFhaq\n",
       "bafTWV5e7lNDHl3iXL1mc9luE7VmzZrd1in63dPzP++TVRR7eafqcTdT3r0cQLIY\n",
       "SDk5OQUFBWo7JSWloqKivlMGk5dp4FQxmI8ZdB2VERLujJAAkgVAEhplZmbKhqAo\n",
       "ISHB7XYHuGRHbESbu0FTwAES7gAJIFkApOrq6vT0dIfDkZiY6Ll257eG4u2HtO3i\n",
       "bsRzsgAJd4AEkKJOnhoy/6lYIjPYT9bNbtB3vglAwh0gASSARGyE4+58f5e+tQOQ\n",
       "cAdIACl6gWT+Mg1EZggf1nsKOEDCHSABpOgFkvnLNBCZoX5Fx5t8AAl3gASQABKx\n",
       "ERGQ9BrFAiTcARJAil4gmb9uEJEZ8lf0m90AkHAHSAApeoFk/rpBRGYY35JRrC4X\n",
       "7gAS7gAJIAEkYiMid6kjXR5LAki4AySAFL1AMn/dICIzzC/q8csUAAl3gASQABKx\n",
       "oYN75I8lASTcARJAilIgGf1zcMSG7u4CpEgmoQAk3AESQIpSIEnXZv5CdkRmRF+P\n",
       "7BwCIOEOkABSlALJknWDiMwI9xDJhTuAhDtAAkgAidjQzV3NuAvvwh1Awh0gAaQo\n",
       "BZIlC9kRmTrsJNxHZQES7gAJIEUpkCxZN4jI1GU/4Y1uARLuAAkgASRiQ3/3MCak\n",
       "ACTcARJAilIgWbKQHZGp265Cv5kEkHAHSAApSoFkybpBRKaOexMahTQLHCDhDpAA\n",
       "EkAiNoxyD2kWOEDCHSABpCgFkiXrBhGZOu+w7sJdkLMlARLuAAkgASRiw0D34G8m\n",
       "ASTcARJAikYgWbWQHZFp0J6DuQALkHAHSAApGoFk1UJ2RKZBe3a+v6vBMwyAhDtA\n",
       "AkjRCCSr1g0iMo3beYMTHAAS7gAJIAEkYsMM9wYnOAAk3AESQIpGIFm1kB2Raez+\n",
       "A05wAEi4AySAFI1AsmrdICLTBJf6JjgAJNwBEkACSMSGqe5Ss36ZBJBwB0gAKRqB\n",
       "ZNVCdkSmOUaKSQAJd9wBkg2AZNW6QUSmaV7aieAACXeABJAAErFhjbvPRHCAhDtA\n",
       "AkjRCCSr1g0iMk129GYSQMIdIAEkgERsWOYu42APkwAS7gAJIEWdHh40zKqF7IhM\n",
       "C0xPMgkg4Q6QAFLU6c6nxli1kB2RaY1vHZP6ZBUBJNwBEkCKLt3y9LNWrRtEZFro\n",
       "nvhGiYX1TtXjDpAAEkDC/f/cg1kUnMLHHSABJPP022cyrVrIjsi03F0xiV+vxx0g\n",
       "AaSoUJshs61aN4jIjAZ3q5hE4eMOkAASQMLd1139ZLDJA2UKH3eABJB8ddHQBVYt\n",
       "ZEdkRo+7+Uyi8HEHSADJV80Sl1i1bhCRGVXuajq4ac8AUPi4AySABJBwr9ddMUmG\n",
       "SiYMmil83AESQNLk37p1g4jM6HQXGgX++XMKH3eABJCMGiERG7jXN1Si8HEHSADJ\n",
       "PF00dAGxgbtfKSYZNFSi8HEHSPEIpNra2tzcXIfD4XQ6S0tLfd5tM2Q2sYF7g0Ml\n",
       "3W80Uvi4A6R4BFJJSUlqaqrL5SouLk5OTgZIuIfq/lpRhe53lSh83AFSPAIpLy8v\n",
       "Pz9fbSclJVVWVgIk3EN19wyV9MIShR+37tKEtH/9F2wN8CfnQ7r8WXuHAiD9T9nZ\n",
       "2YWFhWrb6XSWl5f/DEht2gw8qT59+uw+KXO216xZY5qXdvv222+3xNe+eV+zuSzx\n",
       "jZJGT+ZGfgySfavyLtuq8K0qf1vkXSr6f3XdtV+frCL56zJ1baP7n5P/lzhXy5+0\n",
       "gUbDV3j+VKLnTz7m+VNf9/wNeGVVn6lL1M7lz5y8q/5N9XUAyWLl5OQUFBSo7ZSU\n",
       "lIqKiugZw3Kiakd3GS3JyaaMliJZdIrCN1ordxyQP6kj71GIVJxAQupO/hRL1Lb8\n",
       "qTGEGpF4j130XVqMS3bxDiShUWZmpmwIihISEtxuN0DCPXJ3wZL0XGFfxKPwIyl5\n",
       "b9J4rmj5MMYDGJ8K4h4SQLJS1dXV6enpDocjMTHRc+0OIOGuz3687i2FNBOPwm9Q\n",
       "PrzxgY1nHEOzB0ixI4CEu45YCv7HHuO58NdsLpMS8xniqPGNljfyMX1XcgJIAAkg\n",
       "ERtx4S69p7qOJ/8D33uIh8KvjzqXOFerIgpviEPDA0gAidjAPbSO2JtM2nP8mMm+\n",
       "uqNT31jHL3VoeAAJIAEk3K0ZIni6aW842S77nnkEfq+whTQhjYYHkAASQMLdYndv\n",
       "OHWZura+wZOF2Q/mvk7k06BpeAAJIAEk3KPFXbSgsNTDJ9Xpe/f4RoDKe6p0n6wi\n",
       "7VRpQ6cSUPUACSABJNyjFEj1HYBnFRntgzXej9fU9+f9yKffpz4Vb6h6gASQABKx\n",
       "gTvZxx0gASSAhDtAwh0gASSARGzgTvZxB0gACSDhDpBwxx0gASRiA3eyjztAAkgA\n",
       "CXeAhDvuAAkgERu4k33cARJAAki4AyTccQdIAInYwJ3s4w6QABJAwh0g4Y47QAJI\n",
       "xAbuZB93gASQABLuAAl33AESQCI2cCf7uAMkgASQcAdIuOMOkAASsYE72ccdIAEk\n",
       "gIQ7QMIdd4AEkIgN3Mk+7gAJIAEk3AES7rgDJIBEbOBO9nEHSAAJIOEOkHDHHSAB\n",
       "JGIDd7KPO0ACSAAJd4CEO+4ACSARG7iTfdwBEkACSLgDJNxxB0gAidjAnezjDpAA\n",
       "EkDCHSDhjjtAAkjEBu5kH3eABJAAEu4ACXfcARJAAki4k33cARJAAkhEJkDCHXeA\n",
       "BJAAEu4ACXeABJAAErEBkCh83AESQAJIuAMk3AESQAJIxAbuZB93gASQABLuAAl3\n",
       "gASQABKxgTvZxx0gASSAhDtAwh13gASQiA3cyT7uAAkgASTcARLuuAMkgIQ77mQf\n",
       "d9wB0kkVFRXNnz9fNmpra3Nzcx0Oh9PpLC0tpX3gDpBwxx0gmaQDBw5kZWU9/fTT\n",
       "c+bMkZclJSWpqakul6u4uDg5OZn2gTtAwh13gGSShD2bN29euHChAlJeXl5+fr56\n",
       "KykpqbKyUltDCCEUJwJIhqu6uvrHOrndbs8lOwWk7OzswsJCleh0OsvLy39CCCEE\n",
       "kAxSQUFBep0+++wzHyDl5OTIuyoxJSWloqKCKkcIIYBknjxAEhplZmbKhqAoISHB\n",
       "M4RCCCEEkEwFUnV1tYycHA5HYmKi59odQgghgIQQQggBJIQQQgAJIYQQAkh+1OAK\n",
       "DkYb1ZfuWWPCZHe32z137lxJSUtL2759uyUHMHv27FGjRskB7Ny505LCl2MQ97Ky\n",
       "MvPdJ0+e7KxTdna2+e4ff/xxamrqxIkTN2/ebLL78uXLnV7SPilo9AHU1NTMmzdP\n",
       "Gp6UwH/+8x+T3auqqqTZS4oU/ldffWVmL6dvVwOQIlKDKzgYbaRN91ljwmT3VatW\n",
       "ZWRkHD9+fP369WPGjDH/AFavXp2ZmXnixIlly5bJkZjsriTRm5CQsG3bNpPdDx48\n",
       "OH78+Ko66TURNHh36Qelz9q/f7+ciIwbN85kd9k+UCfpH5999lnBg8kHsGnTJil8\n",
       "Kfa1a9eOHTvWZPelS5fOnDlTci3tX05KzOl8jOhqAFJEanAFB6ONtOk+a0yY7P7B\n",
       "Bx+os2PpHIcMGWL+AUjwqIGRdEzPPfecye6qY5o1a9bLL7+sF5CCd9+yZcv06dML\n",
       "CwulEATJJru/8847chIgNPrvf/+7b98+80tedOzYMYHBDz/8YH7D27p1q4BQTsWk\n",
       "15bxscnuQiNp8PJSDmDgwIHV1dUmdD5GdDUAKSKZtoJDfUb1pXsmrFvifvjwYekZ\n",
       "paVadQCChMGDB2/YsMFkd8HwhAkTjh49qiOQgncvKCiYOHGi/Jfuadq0aSa7z549\n",
       "e/To0dJ5Sd6nTJmiyxgl1HqfP3/+u+++a0ncSaXLuHDEiBGDBg3yPERvmruMkCTi\n",
       "hMRyRihA0hHJDfZy+nY1ACkimbaCQ31G9aXr20pCcpe2K2epH3/8sSXZl3NzdXq4\n",
       "d+/eoUOHVlVVmekuIJw7d+4nn3wyadKkt95668iRI+ZX/U919zMk74cOHTLTXbqt\n",
       "RYsWqZQxY8bocnIWUt6ltBMSEgQMljS8xYsXS9XX1tYKDBITE+WczEx3GRgJiWfM\n",
       "mCGDVIGiHIZpvRxAiiKZtoKD1ki6XXVS7PcA9G0lwbuvW7cuIyND304hpAPIysqS\n",
       "s0VJke54yJAhuhxJ8O4bN25cVae0tDQZIOrSKwXvLqMT1XEIlSVFl+s2wbuvXLlS\n",
       "xkaSImWelJSky0l6SM1ezoRefPFFqxqeFP68efPUZcPhw4frcvU+pIb34YcfSkpx\n",
       "cbEMlcwpBIAUdTJtBQet0Y4dO/7+97/XdwD6tpLg3adNmzZs2LCUOk2cONH8A5CY\n",
       "GVOnkSNHrlixwpLCV9cM9ZpkGLz7d999J2NTYaEkqjsKZrrLSbqcoaempkri+++/\n",
       "b37JCxLeeecdq+Ju//7948ePl2YvDU+dEpnp7nK5pkyZIs1eTgXkM+YUAkCKUskp\n",
       "oV73kMMzMucArHUP6QB+/PFHveZZ2a7wJe/6XrEJyb2qqirGSj6kA5AUAbNV7oIl\n",
       "3ave/NIGSAghhGJHAAkhhBBAQgghhAASQkbL0FWpAquqqkqvFZgQAkgImaSjR482\n",
       "0mj48OHdu3ePZLclJSUR7iFIbdiwoW3btj6Jbre7TZs2X3/9NfWLABJCdlJtnTIz\n",
       "M3v27Km2f/jhh+Li4kj2edttt+k+m7k+IAl7tOmTJ08eNGgQlYsAEkL20wsvvHDL\n",
       "Lbeo7Y8++ujBBx9cvHjx/fffLwOdpk2b9uvXb/To0c2bN7/ooovee+899bH09PSL\n",
       "L774ggsu+Mc//uG9q+3bt0vijh07OnfufMYZZ1xyySW5ubn1fWX8+PGyT7F46KGH\n",
       "jh07pljSunXrc845R45h//79chh9+/YVWJ5++ulyMJIiyJSvn3/++fKZe++9VwFp\n",
       "586d3nbC1DPPPFOXNS8QAkgIWQYkYYB0/Tk5OdKnr1+/fs+ePQoYlZWVKSkpvXv3\n",
       "ls8sW7bsqquu+vLLL8vLy9u3b5+Xl+fZ1b///W/5+siRI++5554TJ068/fbbHTp0\n",
       "8PsVGUUJnL744ouKigr5TEZGhli3aNFi48aNAp5evXoNGDBADqNx48arV68Wxlx7\n",
       "7bWvvPLKwoULL7zwwq1bt+7bt0+OWQFJayf7kW9RswggIRQLQLrttttUStu2bdUC\n",
       "PwKbW2+9VTaeeuqpTp06jahT165dH3vsMc+uJkyYIC9lJ02aNHn44YcFIWpJHu1X\n",
       "JEW21bcO1WnQoEHDhw9XKR9//LHgSg5DOao9TJo0aeDAgYIflbJ8+XIFJK2deL3+\n",
       "+uvULAJICMUCkNRgSAFp7dq1svHWW28pPDz55JO33377iyflvV71uHHjBAyyUVZW\n",
       "9vzzz/fo0aNVq1Yy4tF+pX///p5fIfr666937Nghnxk9erRKKSoqOvfcc70PQwHp\n",
       "iSeekIGaSpExkOceko/d7373uzfffJOaRQAJoRgH0rx58zp27Chjmpqamvvuu2/2\n",
       "7NmeXb366qsyABJ4OJ3On+p+16Nx48ZffPGF9isvvfRSu3btJOXo0aPCjwULFsyZ\n",
       "M+fyyy/fu3evfEaGUPfcc48WSPKZK6+8UoZBtbW1Dz30kAKS1k6wtHXrVmoWASSE\n",
       "bCYZsniAtGTJkp49ewoJ7rzzzvqAdOLEiQEDBpxzzjnnn3/+XXfd5b1m/K5du1q2\n",
       "bPnpp5+2bt1a6NKiRYu+ffsKYLRfqa6ufuCBB84+++zzzjvvkUceOVGngQMHqpQb\n",
       "b7zxyy+/9D6MwYMHqx+U69evX7NmzeQzAk4FpOLiYm+777//vkmTJrov0YYQQEIo\n",
       "SuVyufz+flKvXr3y8vIEQnv27PH5gPYrMjxS8+s8qqqqOnDgQGBr+ZbPfrztZCCV\n",
       "lJREBSGAhFC8a/369V27drXKXQZeMqTT9xdIEQJICNlVZWVlVlkfP378q6++ogoQ\n",
       "QEIIIYQAEkIIIYCEEEIIASSEEEIACSGEEAJICCGEABJCCCEEkBBCCAEkhBBCCCAh\n",
       "hBACSAghhBBAQgghBJAQQgghgIQQQgggIYQQQgAJIYRQfOn/A/JNvx/GSlTxAAAA\n",
       "AElFTkSuQmCC\" style=\"clip-path:url(#clipPath1);\" height=\"420\" preserveAspectRatio=\"none\"\n",
       "    /></g\n",
       "  ></g\n",
       "></svg\n",
       ">\n"
      ]
     },
     "metadata": {
      "filenames": {
       "image/svg+xml": "/Users/eechris/code/src/github.com/cpjobling/eg-247-textbook/_build/jupyter_execute/fourier_transform/4/ft4_46_0.svg"
      }
     },
     "output_type": "display_data"
    }
   ],
   "source": [
    "impulse(H,0.1)\n",
    "grid\n",
    "title('Impulse Response of 2nd-Order Butterworth Low Pass Filter')"
   ]
  },
  {
   "cell_type": "markdown",
   "id": "51bf195f",
   "metadata": {
    "slideshow": {
     "slide_type": "subslide"
    }
   },
   "source": [
    "Step response"
   ]
  },
  {
   "cell_type": "code",
   "execution_count": 7,
   "id": "cc519280",
   "metadata": {
    "slideshow": {
     "slide_type": "subslide"
    }
   },
   "outputs": [
    {
     "data": {
      "image/svg+xml": [
       "<?xml version=\"1.0\"?>\n",
       "<!DOCTYPE svg PUBLIC '-//W3C//DTD SVG 1.0//EN'\n",
       "          'http://www.w3.org/TR/2001/REC-SVG-20010904/DTD/svg10.dtd'>\n",
       "<svg xmlns:xlink=\"http://www.w3.org/1999/xlink\" style=\"fill-opacity:1; color-rendering:auto; color-interpolation:auto; text-rendering:auto; stroke:black; stroke-linecap:square; stroke-miterlimit:10; shape-rendering:auto; stroke-opacity:1; fill:black; stroke-dasharray:none; font-weight:normal; stroke-width:1; font-family:'Dialog'; font-style:normal; stroke-linejoin:miter; font-size:12px; stroke-dashoffset:0; image-rendering:auto;\" width=\"560\" height=\"420\" xmlns=\"http://www.w3.org/2000/svg\"\n",
       "><!--Generated by the Batik Graphics2D SVG Generator--><defs id=\"genericDefs\"\n",
       "  /><g\n",
       "  ><defs id=\"defs1\"\n",
       "    ><clipPath clipPathUnits=\"userSpaceOnUse\" id=\"clipPath1\"\n",
       "      ><path d=\"M0 0 L560 0 L560 420 L0 420 L0 0 Z\"\n",
       "      /></clipPath\n",
       "    ></defs\n",
       "    ><g style=\"fill:white; stroke:white;\"\n",
       "    ><rect x=\"0\" y=\"0\" width=\"560\" style=\"clip-path:url(#clipPath1); stroke:none;\" height=\"420\"\n",
       "    /></g\n",
       "    ><g\n",
       "    ><image x=\"0\" y=\"0\" width=\"560\" xlink:href=\"data:image/png;base64,iVBORw0KGgoAAAANSUhEUgAAAjAAAAGkCAIAAACgjIjwAAA0yUlEQVR42u2dCVxU\n",
       "5f7/bfFnpt4yt8pcKq9b6s0yl8qlW15vpeZ1KbPMrVyTUFSUVEjQNDAT0zSXBFND\n",
       "y1yS1BJccKMLahkmoCYmlooghggI/r9/npo7zZnBWc6cYXl/Xrx4PRzOnM95lu/3\n",
       "fZ5nzpwpdx0hhBAqBipHEyCEEAJICCGEEEBCCCEEkBBCCCGAhBBCCCAhhBBCAAkh\n",
       "hBBAQgghhAASQgghgIQQQggBJIQQQgAJIYQQAkgIIYQAEkIIIQSQEEIIASSEEEII\n",
       "ICGEEAJICCGEEEBCCCEEkBBCCCGAhBBCCCAhhBBCAAkhhBBAQgghhAASQgghgIQQ\n",
       "QggBJIQQQgAJIYQQAkgIIYQAEkIIIQSQEEIIASSkszIyMhISEi5evEhTIHuUmZmZ\n",
       "nJycn59PUyCAhHTTtWvXhg4desstt5QrV+6mm27q1avXlStXrl69OmHChDVr1jhx\n",
       "wA0bNpQzU/Xq1QMDA0tKa8yaNeuee+559tlnrVbn5ptvrl+//qeffmr1teaN5koD\n",
       "OiST0cyZM+UM9+/fb2vP4ODgevXqVapUqXv37mfPnr3hkaXX5ID//e9/LbYfP368\n",
       "Q4cOMlTkv5UrVw4KCioaS7aOY8/4KbkNrmrh4+PjuqN5g9x2222PP/74oUOH9D2s\n",
       "0sCBA+X3t99+GxoaqgqGtSpAQn9oxYoVMvh69uz55Zdf/uc//5Hy9OnT5fpXCq++\n",
       "+qrTA/2JJ56QiPX19a1WrZr8+d133xX/prh06VKFChXatm27Z88eq9WR/FK+fPk7\n",
       "77zT1qTB1GiuNKCjMxVl9O6770ph3759VnfbtGmTqkW/fv2k0Lt3b+eAlJ2dLYRQ\n",
       "yUscmzZtKmVpGd2BVNIbXHcgqQYZPny4QLphw4Z6HbZly5aj/5SAZ8GCBWfOnDEB\n",
       "ybBWBUjoDwl+ZMy9+eabFy5cOHfu3Hvvvbd582YZ8bKxSpUqL730kuzzwQcf3H//\n",
       "/XfccUefPn3S09MXL17cqFGjAQMGyJYGDRp89tlnRYTikCFD5E85pvY4v/zyy1NP\n",
       "PSUXfWL0yiuvyMzM1pFlu/xZsWLFdu3aHThwQG2RPSWK7rrrLpmErVy5Uns0raNF\n",
       "3c0PGx0d/cADD8ipVq1adfz48VarI7NJmT/dfffdUl6yZImcgLpWHTFiROPGjc0b\n",
       "zZ4GnDx5snitX7++Q6Fkt7CwMNkudZGybPnXv/6lrbvFa01GLVq0kMKgQYOqF0od\n",
       "xKRRo0bJf3/77Tcp165dW05G24CqgmPHjpVrCNnhmWee0YJEXiUbR44cqf6UMSOT\n",
       "JKnXxx9/bH5WVo+j7QuLupSmBrcFJIuDF30mVg/VunVr+VNQIRcHr7/+upyVMLtZ\n",
       "s2YxMTHaELAaFLbOUK5N5Rz27t1rApJDrQqQkA5KTEyU8aSWRx599FG57svJyZHw\n",
       "kC3t27ffvn37559/LuWhQ4fOmjVLhv7LL7+srg1btWolI1KGrGxMSUmxGOgdO3YM\n",
       "CQnx8/OTWK1Ro4YMX+1xJk6cKFs++eSToKCgSpUqSTxYPXJUVJRs7Ny5s2S9unXr\n",
       "ytEyMjLUnpIUJB4k3urUqaM9mtbRvOLawwqMZctzzz1nPp9T1ZHcKjEvdZGynJts\n",
       "N79A7tat20033WTeaPY04K233ipl8Ro8eLD8mZSU9OKLL0pBJjHSKVLw8vLSnqS/\n",
       "v7/5a01GkpssGsS8sseOHVPTvm3btt1yyy29evXSNqD8d/ny5bLxhRde+Oijj9TU\n",
       "1gJIAjDZuGXLFtOWLl26yJYJEyaYn5X2OKptLfrCoh1KU4NbBZL24DL5sHUmFoeS\n",
       "xpSkL0gQL0VoaVvV8pGRkRK8Mm61IaDdYnFYOY1/FkrIauKQqeBQqwIkpI/kwjk4\n",
       "OPjpp5+WcSYj7I033jCfqvft21fKEn4yFiVNSDyogShjVP67atUqKcvAtRjoFSpU\n",
       "kHhTB5Rgs3ocNe5r1qwp125ybSiXw1aPPGbMGCkkJyfLxg8//FAlRLWnWt2WgJEk\n",
       "qz2a1tG81trDqjTq7e1tdcEkMDBQXiLzCblCPHv2rDY/2lpBstWAklDM19MWLFgg\n",
       "iaZWrVr33nvv/PnzZYvkL+1JSuIwf63FCpJ5g1j0cl5enqRO2d60adPTp09b3V8t\n",
       "6Mm8R8qTJk2SsrykRaHatGkjG2UmbQGkf//737JF5pTmZ6U9jlzya/vCoh1KU4Nb\n",
       "BZL24O+8846tM7H1Zo80yFdffSXbc3NzpSMED8ID2f7kk09qQ0C7xeKwwlEFpIED\n",
       "B2qB5FCrAiSkgyRIZDjKnEPKp06dknFWu3Zt84HYo0cPlaYn/Sm1yqeuuNWwXrRo\n",
       "kdVQlOM88sgj8ueRI0e0x5EUuXXrVslxcpkm/5KLODXELY6slpskh8rGpUuXSln+\n",
       "pU1PUrA4mlVHi1Us88PKdastIJkyi8opn332mXpPW7Gzbdu2ReTHohtQvTFTuXLl\n",
       "hx56SDaqfCRlyTtyttqTfO2118xfa/UtDVODmHTlyhW1dCbto9ZtrO6vko4cU8oB\n",
       "AQFSliuVlwolCUs2qiYaPny4Ouz58+flzP/2t7/NmDHD/Ky0x+nUqZO2L8y7u5Q1\n",
       "uFUgaQ++du1aW2dicagBAwb88MMP5nc2hoSEyPauXbvOmTOnYsWKAiRtCFjdYusM\n",
       "iwbSDVsVICEdpC5gn3/+eZmSy3iVuJLM9fvvv8vG5s2b79ixY+7cueoSWHLB448/\n",
       "Lhe/KhQlCGNiYlSiOXz4sK2BPnXqVPkzMjJSe5z+/ftLLhNWff3112qZwuqR5SJU\n",
       "zdtkY8uWLW+//Xar18vao2kdzSuuPeyBAwdsAUmiXRynTJlyzz33qHs01LspMvlb\n",
       "smTJ//3f/8kJmDeaPQ1o/n54nz591DpVTk6OZCiVB62epJ+fn/lrTUZy3VpEflTr\n",
       "To0aNXq3ULNnz7aaT9Vl+4gRI+S077//fu2SncCsXr166vQkHzVp0kTK6pjmZ6U9\n",
       "zrhx47R9YfW+gNLR4KoWDz/88Mg/JXtaHcm2zuSGb0f17t1bticmJn7zzTdqTqkN\n",
       "Ae0Wh4DkaKsCJOSq5GpRroDUbd+iNm3aqCUF9d6A/JmbmytXZzfffLOEXIsWLU6e\n",
       "PKkGovxLrSBLsjM/4MaNG1UCUn+Gh4fLn++//772OBInf//735WvFCS0bB1ZjqZW\n",
       "/6pXry7gtMhl3bt3l2Nqj6Z1tKi7xWFlBy2QVHVMdyFLepUrWdl+7ty5Bx98UKUS\n",
       "mQWqfGRqNHsa0DySV65cqe51lLJcHEj5yy+/tHqS2tcqozp16lg0iHktJFuZL/tI\n",
       "ktI2oBoMciEsZTnbVq1ayQ5xcXEWjSbDo0OHDrKDers7MDDQtNZqOivtcQT22r6w\n",
       "mtFKR4Ob10Jp+fLlVkdyEWdiNaBMkt1kYiT/kksEOVqDBg20IaDdUsRh582bp+ag\n",
       "poKjrQqQkD6SS6Fjx45ZfDBW0opctZkujdVbAuZ5JC0tzfy+HXtkfhxRQUFBaqGk\n",
       "UPSR5Ux++eUXtZstWRzNqqOF7DmsLeXn5586dcp8Xd6i0Ww1oKO64UmaG7kuGQYy\n",
       "Hore5/LlyydOnCi63bTHcaURSk2DuzLktGFrcShtCFgNCkevWXVpVYCE3KKZM2fK\n",
       "hVIRn8EshkdGCCGAhBBCCCAhhBBCAAkhhBBAQgghhAASQgghgFQSFRsbu2rVKvMt\n",
       "ubm5YWFhvr6+gYGB5p8bQAghBJDcIvW43FGjRqlPzJm0Y8eOkJCQvLy8/fv3T548\n",
       "mS5HCCGA5F5lZ2er5+JYAGnbtm3qSTwZGRmjR4+myxFCCCAZodjYWAsgKWVmZs6d\n",
       "O1f7XY1DEUKozAggeR5IMTExU6ZM2bVrl3Z/z/YQ7mXTncbHvWwO+zINpJycnJSU\n",
       "lH379oWEhGRlZTE+cAdIuOMOkDwDpOTk5GHDhs2ZM2fMmDF+hZo+fTrjA3eAhDvu\n",
       "AKk4yrM9pP0GB9zLgjuNjztAAkgACXeAhDtAAkgAidjAnerjDpAAEkDCHSDhjjtA\n",
       "AkjEBu5UH3eABJAAEu4ACXfcARJAIjZwp/q4AySABJBwB0i44w6QABKxgTvVxx0g\n",
       "ASSAhDtAwh13gASQiA3cqT7uAAkgASTcARLuuAMkgERs4E71cQdIAAkg4Q6QcMcd\n",
       "IAEkYgN3qo87QAJIAAl3gIQ77gAJIBEbuFN93AESQAJIuAMk3HEHSACJ2MCd6uMO\n",
       "kAASQMIdIOGOO0ACSMQG7lQfd4AEkAAS7gAJd9wBEkAiNnCn+rgDJIAEkHAHSLjj\n",
       "DpAAErGBO9XHHSABJICEO0DCHXeABJCIDdypPu4ACSABJNwBEu64AySABJBwp/q4\n",
       "AySABJCITICEO+4ACSABJNypPu4ACSABJGIDINH4uAMkgASQcAdIuAMkgASQiA3c\n",
       "qT7uAAkgASTcARLuAAkgASRiA3eqjztAAkgACXeAhDvuAAkgERu4U33cARJAAki4\n",
       "38j9ZFp2dHJ6wJYT8jNwdUKn+fH1g/aUG7tdfqSgfmTjDX/UntoXyjHlRw7+SWyq\n",
       "/ND4uAMkgASQcL9ujh+BxH0BOxU8BBuyxU2OikPKUQFPfpSvnICJWHQ97gAJIAGk\n",
       "0u8uEFJIMM1a1HzF40t2uw8nCR0VsUy4UtMs89kVXY87QAJIxEbJdhcOmSCkFs1k\n",
       "S/Gpe9EnoGZyJla5A1QMPIAEkAASseFed8Uhlbu1ECopQLIfVKYFQEdBxcADSAAJ\n",
       "IBEb7nI3zYfsfEOoNN1lZw+ouKUCd4AEkBwYndeuXUtOTlbl3Nzcn3/+Wbv/pUuX\n",
       "SmtkZmRkpKamOpGLJdvecD5UuoHkBKhMt1S474YOkACQAFIJBtKnn346ZcqUzMxM\n",
       "+Z2Xl9esWbO0tDTznZ955pnGjRsLqwyOjdWrV48aNUoK+fn5I0aMqFOnjpzb9u3b\n",
       "rW5xyP2VV15Zt26d+nPMmDEREREOHUFNiSyu/QGSPTLdUmG6393EKm6pAEgAqawD\n",
       "STJ7ixYtzpw589tvv9WrV0+2BAQEzJgxw7TnxYsX77rrLoNj45dffunbt+9tt902\n",
       "aNAg+fOLL75o2rSpIPPzzz9XJ6nd4pB7v379FJCuXLnSpEkTO1krmdSJKRFAssdd\n",
       "mtRiXmVxV4X281UgASABJIcVGxu7atUqT/VQTExM8+bNH3744UceecS0Lmc+Onfu\n",
       "3NmlSxcptGnTpnz58s8++6zsJjnatGeHDh1uueWWrl27ZmVl9e/fXzAg/33vvffk\n",
       "Xx9//LGXl5fMUcLCwkz7nzt3zlSOiopyLjaENBs3bhw7dqwCkre39/Tp09W/atSo\n",
       "cerUKe0WVTadUmhoaMeOHeVsH3jggeXLl18vXHXs1auXTPVUFRSQ5F9vv/22rVay\n",
       "QJEkRFdQBJBcd9d+vsric8EmaFnlFkACSGUXSOnp6YsXLx41apRKiB7pIcnOQ4YM\n",
       "kXnAmjVrtm3bph2dc+fOfeutt6RgmiHJnKlChQomrsgM6d5775VCUFBQnz595L9S\n",
       "r/vvv3/fvn2zZ8+uW7eu+UA/ePDghQsXTH/K/kXExoIFC54108KFCy12E5ArIL32\n",
       "2mtLlixRGwU28fHx2i2qbDqlzZs3h4SEXC9ckHz66afVzO/VV19VJ3nfffcpID3+\n",
       "+OMCM1utpK7c1bKS6ygCSIa5W/1csK1nYZgDzOm5Fy0PkIq7srOzDx8+LDnOKpAa\n",
       "Nmw49E/17t375J/St7x3794XX3yxSpUqcu3/2Wefmbbv3r1blSXjT5gwQcrdunWr\n",
       "Xbu2eu3tt98ukxtV7t69e61ataTw/PPPP/bYY2qjTDXkgDK3GDx4sLnvsmXLpCw5\n",
       "fenSpfJn+/btrZ6b4Ed+nzhx4vjx43Ko44WSPy3OX2ApSJOy8E9worZXqlRJjt+3\n",
       "b1/ZovavU6eObFFldUpS3rJlS+fOnQVFNWvWbNu2rfzrueeea926taq7TPjatWsn\n",
       "0JId1L+klWQuJZWSeZUy2n04qffsjfcF7Fwdc1THflF1d0df21mW6nvEV5XVwCuG\n",
       "dS/3UBfvz+Llp/fi2HJdJsjvtrP3yk+5Pu/LGFA/imfyY9oiP2o39SOvsvhRx/z/\n",
       "h529cdDHO8pav6v8pnIdQCouS3YenCHJLEEGoioIUbSXSzNmzBg5cqSaIUlmVzMk\n",
       "Sfo5OTkWMyQ1wygoKLh8+XKDBg127dol0xEBgLndokWL5PecOXNkn0uXLgkCi7hY\n",
       "mz9//r/MJH/amiHNmzdP8rgUEhIS/va3vwnptVtMMyR1Sv369Xv//ffVopwwRp2/\n",
       "zKukcOTIkfr168sMSbogMjLSaivJZbL9d3IzQ8LdltSsS/0IlkyzMe2PPY8u1D7G\n",
       "0P4fYWcR/3XU/YY/FrVrOHoJQAJI17du3SrzHpkNCGwkBQshnnzyyWeeeaZNmzaK\n",
       "Fvv27VP5Ojc3VyYiMgc6duzYP/7xD/OFRwUkAUyXLl3kYkcO6OvrK1sk40+ePNnc\n",
       "7q233pI5zeuvvy57Dhw4MC8vz5W8sHr1agWkrKysDh06SBWqVq2qVuq0W5RMpyRz\n",
       "tRo1arRq1apHjx6VK1c+cOBARkbGP//5Tzn/unXrSk2Fds2bNxf6WrTSwvDPVESV\n",
       "yowMkHBnyQ4gLfdgDwkVfv31V8UGmVjMnTtXCnv37m3UqJHaQfAjEDLtP378+KVL\n",
       "l9o6WmZmpmnyZMvO9NtcMrVyMTYEjRa3w2m3mOv3Ql3/64eoBEvqtoUrV66cOXPG\n",
       "opW+/el8ubHb3foRGYCEO0ACSGUXSOYSIL3zzjunT58W5Ki3+kWbN2/29vZWZUnT\n",
       "MoW6du2ajqaHDh0Sr65du6q1wWIbmWoZRK+bFwAS7rgDpBIjTwGpU6dOY8aM6dWr\n",
       "10svvWSMae/evb///vvrhR8eUktkxS0yBUJuescIIOGOO0ACSDaBpJbsZHQ++uij\n",
       "KSkpBph279796NGj1wvvYlBLecUqMj+JTS03dnt0cnpZyAskZdwBEkAqLj304Ycf\n",
       "NmzYsHPnzi1atHjjjTeMMd29e3fr1q179uw5ZcqU4haZ6nl0htEIIOEOkAASQPLw\n",
       "6MzPzzfdmV18ItOtd9MBJNxxB0gAidi4sbt6/kIZ/A5vuh53gASQAFIxct99OMnp\n",
       "Z3UDJNxxB0gAidjQR9HJ6UbewgCQcMcdIAEkYsMmjcpyXiAp4w6QABJA8ry7aW4E\n",
       "kHDHHSABJIDkMXfzlTqAhDvuAAkgASSPuZu/bwSQcMcdIAEkgOQB95Np2RZ3MQAk\n",
       "3HEHSAAJIBntrqURQCIp4w6QABJAMtpdffpVe4c3QMIdd4AEkACSoe5WaQSQSMq4\n",
       "AySABJAMdRca2fo6CYCEO+4ACSABJIPcB65OKOKpqQAJd9wBEkACSEa4fxKbWvQz\n",
       "vAES7rgDJIAEkNzuHp2cXj9oD3mB6uMOkAASQPKku9WbvMkLVB93gASQAJLR7rZu\n",
       "qyMvUH3cARJAAkjGuRdxWx15gerjDpAAEkAyyF0mRvZ/GTlAwh13gASQAJJb3NVb\n",
       "R/KbvED1cQdIAAkgedLdzreOyAtUH3eABJAAkhvd7X/riLxA9XEHSAAJILnL3aG3\n",
       "jsgLVB93gASQAJJb3O381BF5gerjDpAAEkByr7vMjT6JTSUvUH3cARJAAkiedL/h\n",
       "A+vIC1Qfd4AEkACS290dvc+bvED1cQdIAAkgucXd0fu8yQtUH3eABJAAkv7urizW\n",
       "kRdIyrgDJIAEkPRxd3GxjrxAUsYdIAEkgKSPu9N31pEXqD7uAAkgASTd3F1frCMv\n",
       "kJRxB0gACSDp4O7cx2DJC1Qfd4AEkACSnu5OPLOOvED1cQdIAAkg6e9eP2gPeYHq\n",
       "4w6QABJA8rC7ix88Ii9QfdwBEkACSDq463UvA3mB6uMOkAASQHLJ3fUPHpEXqD7u\n",
       "AAkgASRX3QeuTtDrXgbyAtXHHSABJIDkpHt0crqO9zKQF6g+7gAJIAEkJ931vZeB\n",
       "vED1cQdIAAkgOeOu+70M5AWqjztAAkgAyRn3+kF73DE9AkgkZdwBUmkGUkFBwcqV\n",
       "K319fQMCAo4ePWranp+fHx4ePmHCBH9//x9//BEg2e8u06OBqxPIC1Qfd4AEkBxT\n",
       "fHy8ICc7OzsuLm7SpEmm7YcOHZo2bVpubu7evXunTJkCkOx31/1Wb/IC1ccdIJUJ\n",
       "IEVERERGRqqyj49PWlqaKickJLz77rt5eXkCqsDAQG0PmXTScO3evfuk51S0e+/F\n",
       "sfJTNutexrse91Lmbp7lAJJBWrZsWUxMjCoHBASkpKSoclZW1tSpU8eNGzd8+PCo\n",
       "qChmSPa46/IVfFyoUn3cmSGVUSCtWLHCxBs/P7/U1D++QW7Dhg1hYWEFBQUXLlzw\n",
       "9vbOzMwESDd0d8cnYckLVB93gFRWgCQ0Cg0NlYKgyMvLKzc3NycnR+ZJERER4eHh\n",
       "sv3KlStjx441LeUBJFvu0cnpMj0iL1B93AESQHJSgp/g4GBfX1+ZBqm1u+Tk5GHD\n",
       "hl28eHHatGkyZxo/fvymTZuKVQ8Vz9jQ5RvKyQtUH3eAVHaBVBJ7qBjGhkyP3PRJ\n",
       "WPIC1ccdIAEkgOSAu5seFEReoPq4AySABJAccDdsegSQSMq4AySABJCKcjdsegSQ\n",
       "SMq4AySABJBsuhs5PQJIJGXcARJAAkg23Y2cHgEkkjLuAAkgASTr7gZPjwASSRl3\n",
       "gASQAJJ1d4OnRwCJpIw7QAJIAMmKu/HTI4BEUsYdIAEkgGTF3fjpEUAiKeMOkAAS\n",
       "QLJ098j0CCCRlHEHSAAJIFm6D1ydYMCT68gLVB93gASQAFJR7ifTsusH7SEvUH3c\n",
       "ARJAAkgejg1PTY8AEkkZd4AEkADSX9wN+N4j8gLVxx0gASSAdAP1XhzrqekRQCIp\n",
       "4w6QABJAMut7z02PABJJGXeABJAA0h+SuZHMkMgLVB93gASQAJKHR2f9oD27DyeR\n",
       "F6g+7gAJIAEkT45OmR4NXJ1AXqD6uAMkgASQPDw61bOCyAtUH3eABJAAkidHp5oe\n",
       "kRcAEu4ACSABJA+PTtOjVMkLVB93gASQAJLHRqf5o1TJC1Qfd4AEkACSx0an+bOC\n",
       "yAtUH3eABJAAksdGp/mHYckLVB93gASQnNeqVateeOGFpUuXhoaGXrp0CSA5pIAt\n",
       "J+SHyARIuAMkgOSqZs+e3ahRo65du/r7+/v4+LRq1QogOaT6QXtOpmUTmQAJd4AE\n",
       "kFzVI488EhcXFxISIkCSPx988MEzZ84AJDtlutubyARIuAMkgOSqnnjiiejoaAWk\n",
       "y5cvV69ePS0tDSDZKdPd3kQmQMIdIAEkV7Vx48YaNWq0atWqbdu2zZs379+/f0nv\n",
       "IcNGp/nd3kQmQMIdIAEkHXTo0KEpU6Z4eXmtXbu2oKAAINkpq98MS16g+rgDJIBU\n",
       "jFRGgGT1q4/IC1Qfd4AEkBxWkyZNalqT63d+lwUgaW9nIDIBEu4ACSA5qePHjx87\n",
       "dszb27t9+/YxMTFHjhwZN25cy5Yt8/PzAdINZXG3N5EJkHAHSADJVT300EOCItOf\n",
       "DRs2TElJAUjOTY/ICwAJd4AEkJxX27ZtN23apMppaWlVq1Y9f/48QCpa2pvriEyA\n",
       "hDtAAkiuKjw8vHLlygMGDBg9enS9evX69etX0nvI3aPzZFp2/aA9RCZAwh13gKS/\n",
       "9u7dO2nSpDFjxkRERLj+BlKpB5LVu72JTICEO0ACSK5q4cKF4/+q7OxsgFSEbN3O\n",
       "QGQCJNwBEkBySYsXL/Yr1Lhx4x5++OEnnngiJycHINlSEbczEJkACXeABJB0k8yN\n",
       "6tatm5WVBZBsSfvwOiITIOEOkACS/srLy7v77rsTExMBklVZfXgdkQmQcAdIAEkf\n",
       "vfnmm0/8KaFR06ZNBUsAyaqKvp2ByARIuAMkgOSSli9fvnbt2q8KFR0dvX37doBk\n",
       "s1+tPbyOyARIuAMkgOSqMjIyTpw40aZNmw0bNpwoVFJSUtWqVXmWnVXd8HYGIhMg\n",
       "4Q6QAJKTmjdvnuDn1ltvrVKlStU/1b59e/NvoJDyypUrfX19AwICjh49av7yXbt2\n",
       "+fv7T58+/fDhw2UBSDe8nYHIBEi4AySA5JJ69uypJYpJ8fHxQp3s7Oy4uLhJkyaZ\n",
       "tp86dUoodfHixcTExKlTp5Z6INlzOwORCZBwB0gAyY2KiIiIjIxUZR8fH9O3m69f\n",
       "v37z5s1Co59++kn77LvSByR7bmcgMgES7gAJIDmpp556SqAyePDg5n9VZmamaZ9l\n",
       "y5bFxMSockBAgOlB4EuWLJk4caLgauHChbNmzbJ44NBQM500XLt379b9mPcF7Nx9\n",
       "OMlT7p6te0lxp/FxN1LmWQ4g6aB9+/adO3fu8OHDu/4q87vsVqxYERUVpcp+fn6p\n",
       "qakmUK1du1aVJ0+ebPGNFaVshmTn7QxcKjJDwp0ZEkByUh06dGhuTeYzJKFRaGio\n",
       "FARFXl5eubm5OTk5gp/o6GiZG8n2rKwsHx+fCxculGIg2Xk7A5EJkHAHSADJSe3f\n",
       "v19NiXbs2BEeHr5o0aKvv/7aYoYk+AkODvb19fX29lZrd8nJycOGDZN95s+f7+/v\n",
       "L//asmVLseoh3UenPR8/IjIBEu4ACSC5KgFMkyZNKlWqVKNGjcqVK4eFhZX0HtJ3\n",
       "dDq0XkdeAEi4AySA5LxeeOGF0aNHqyd8b926tUqVKnz9hLmK/rIJIhMg4Q6QAJJu\n",
       "aty4cVJSkunPhx56yOIDsGUZSI5Oj8gLAAl3gASQnNegQYMCAwNVOTY2tk6dOnwf\n",
       "kkn2f/yIyARIuAMkgOSqXn311XLlytWtW7d58+Y333xzzZo1Hy3UoUOHAJJDtzMQ\n",
       "mQAJd4AEkFxSXFzct9aUkZFRxoHkxHodeQEg4Q6QAFLxUukAkkMfPyIyARLuAAkg\n",
       "uaqoqKiOHTu2NJP5B2PLLJBOpmXXD9pDZAIk3HEHSMapVatWEyZM2L59e9Sf4gv6\n",
       "rjt1OwORCZBwB0gAySXJlOjgwYOlqYd0GZ2OfvyIyARIuAMkgOSqli9f/uSTT6qv\n",
       "mVBihuTc7QxEJkDCHSABJFdbs2rVqm3atGn3py5fvlzGgeT0eh15ASDhDpAAkvNq\n",
       "0qTJ999/X5p6yPXR6cTHj4hMgIQ7QAJIrmrw4MHh4eEAySRX1uvICwAJd4AEkJzX\n",
       "m2++Wa5cuVatWj3xp8r4kp1zHz8iMgES7gAJILmqffv2fWWm+fPnX7lypSwDyZX1\n",
       "OvICQMIdIAEkVyWzosWLF7dp00ZmS648NKikA8mV2xmITICEO0ACSK7OkIYMGVK5\n",
       "cuVq1apNnTo1MTGxpPeQK6PT6Y8fEZkACXeABJCc1/z585s1a1a1alVpUD8/v65d\n",
       "u5aOHnJ6dLp4OwORCZBwB0gAyUnVqFGjadOm3333nZQ3bNjQrVu3Mg4k19fryAsA\n",
       "CXeABJCc0ZEjR7y9vatVq9aiRYvevXsDJNfX68gLAAl3gASQnFdOTk5ERETnzp3L\n",
       "ly//3HPPSTk/P78MAkmX9TryAkDCHSABJH06derUqXXq1Cmbd9npsl5HXgBIuAMk\n",
       "gKSbXJ8elVAgufjxIyITIOEOkABScVSJA5Je63XkBYCEO0ACSADJpdHp4uOCiEyA\n",
       "hDtAAkgASZ/Rqdd6HXkBIOEOkAASQHJ+dOq4XkdeAEi4AySABJCcH526fPyIyARI\n",
       "uAMkgASQXBqd0cnpnebHE5kACXfcARJA8vDo1OvjR0QmQMIdIAEkgOTS6NR3vY68\n",
       "AJBwB0gACSA5Mzr1vZ2ByARIuAMkgASQnByduq/XkRcAEu4ACSABJGdGp+7rdeQF\n",
       "gIQ7QAJIAMnh0emO9TryAkDCHSABJIDk8Oh0x3odeQEg4Q6QABJAcnh06vi4ICIT\n",
       "IOEOkAASQHJydLppvY68AJBwB0gACSA5Njr1fToDkQmQcAdIAAkgOTk63bReR14A\n",
       "SLgDJIAEkBwYne5bryMvACTcARJAAkgOjE4dv46PyARIuAMkgASQnB+d7luvIy8A\n",
       "JNwBEkACSPaOTreu15EXABLuAAkgASR7R6c7HhdEZAIk3AESQAJIDo9Ot67XkRcA\n",
       "Eu4ACSC5SwUFBStXrvT19Q0ICDh69KjFf3NzcwMDA5OSkkoKkNy9XkdeAEi4AySA\n",
       "5C7Fx8f7+/tnZ2fHxcVNmjTJ4r/CKi8vr2PHjpUUILl7vY68AJBwB0gAyV2KiIiI\n",
       "jIxUZR8fn7S0NNO/Dh06tGjRooULF5YUIEUnp7vvAQ1EJkDCHSABJPdq2bJlMTEx\n",
       "qhwQEJCSkqLKGRkZQUFBWVlZtoBk0knDtXv3bqvbey+ODY783lPunq17WXCn8XE3\n",
       "UuZZDiAZpBUrVkRFRamyn59fauof39cgc6OwsLA9e/bMmDFj3bp1ly9fLv4zJAPW\n",
       "67hQZYaEOzMkgOQuCY1CQ0OlICjy8vLKzc3NycmRedLBgwd3FCowMHDNmjWZmZnF\n",
       "HEgG3M5AZAIk3AESQHKjBD/BwcG+vr7e3t5q7S45OXnYsGGmHWSqlJiYWKx6yOro\n",
       "dNPX8RGZAAl3gASQirWKIZCMWa8jLwAk3AESQAJIRY1Ow9bryAsACXeABJAAUlGj\n",
       "07D1OvICQMIdIAEkgFTU6DRsvY68AJBwB0gACSDZHJ1GrteRFwAS7gAJIAEkm6PT\n",
       "yPU68gJAwh0gASSAZHN0uvvx3kQmQMIdIAEkgHTj0Wnweh15ASDhDpAAEkCyPjoN\n",
       "Xq8jLwAk3AESQAJI1kenwet15AWAhDtAAkgAycroNH69jrwAkHAHSAAJIFkZncav\n",
       "15EXABLuAAkgASQro9P49TryAkDCHSABJIBkOTo9sl5HXgBIuAMkgASQLEdnp/nx\n",
       "0cnpRCZAwh13gASQPDw6PbJeR14ASLgDJIAEkP4yOj21XkdeAEi4AySABJD+Mjo9\n",
       "tV5HXgBIuAMkgASQ/jI6PbVeR14ASLgDJIAEkP6n4MjvPbVeR14ASLgDJIAEkP6n\n",
       "+wJ2GvZ1fEQmQMIdIAEkgGS79T23XkdeAEi4AySABJD+0Cexqb0XxxKZAAl33AES\n",
       "QPJwD9UP2rP7cBKRCZBwxx0gASRP9lB0cnqn+fFEJkDCHXeABJA83EPq8d5EJkDC\n",
       "HXeABJA83EP1g/acTMsmMgES7rgDJIDkyR4yPS6IyARIuOMOkACSJ3vI9HV8RCZA\n",
       "wh13gASQPNlDar2OyARIuOMOkACSJ3vI/PHeRCZAwh13gASQPNZDpvU6IhMg4Y47\n",
       "QAJInuwh88cFEZkACXfcARJA8kwPWXwdH5EJkHDHHSABJM/0kMWXTRCZAAl33AES\n",
       "QPJMD1k83pvIBEi44w6QAJIHeshivY7IBEi44w6QAJJneqjT/Pjo5HRiA3caH3eA\n",
       "BJA83EPar+MjMgES7rgDJIBkdA9p1+uITICEO+4ACSB5oIdMjwsiNnCn8XEHSADJ\n",
       "Yz2kvo6P2MCd6uMOkACSh3vI/HFBxAbuND7uAAkgeayHrK7XEZkACXfcARJAMrSH\n",
       "rN7OQGwAJNxxB0gAyegesrVeR2QCJNxxB0gAydAe0n78iNgASDQ+7gCpNAOpoKBg\n",
       "5cqVvr6+AQEBR48eNW3Pzc0NCwuT7YGBgYmJiQb3UBHrdUQmQMIdd4BUOoEUHx/v\n",
       "7++fnZ0dFxc3adIk0/YdO3aEhITk5eXt379/8uTJBveQ9nFBxAbuND7uAKmUAyki\n",
       "IiIyMlKVfXx80tLSVHnbtm2HDx+WQkZGxujRow3uoSLW64hMgIQ77gCpdAJp2bJl\n",
       "MTExqhwQEJCSkmL+38zMzLlz565Zs0bbQyad1FvBkd/3XhxbxA67d+8+6TnhTvVx\n",
       "Lwvu5lkOIBmkFStWREVFqbKfn19q6v9ubBNQTZkyZdeuXQZfMtj6+BEXa8yQaHzc\n",
       "mSGVZiAJjUJDQ6UgKPLy8srNzc3JyZF50r59+0JCQrKysgzuIVuPCyI2cKfxcQdI\n",
       "pRxIgp/g4GBfX19vb2+1dpecnDxs2LA5c+aMGTPGr1DTp083rIeK+PgRsQGQaHzc\n",
       "AVJpBlJx66Gib2cgNgAS7rgDJIBkRA8V/fEjYgMg0fi4AySAZFAPFf3xI2IDINH4\n",
       "uAMkgGRQD9mzXkdkAiTccQdIAMm9PRSw5YT8EBu4U33cARJA8nAP3fDjR8QGQKLx\n",
       "cQdIAMntPWTn7QzEBkDCHXeABJDc20P2fPyI2ABIND7uAAkgub2H7LydgdgASLjj\n",
       "DpAAkht7yKH1OiITIOGOO0ACSO7qIftvZyA2ABLuuAMkgOSuHnJ0ekRkAiTccQdI\n",
       "AMktPeTQ7QzEBkDCHXeABJDc1UMO3c5AbAAk3HEHSADJLT3kxHodkQmQcMcdIAEk\n",
       "/XvI0dsZiA2AhDvuAAkg6d9Dzk2PiEyAhDvuAAkg6dxDdn7ZBLGBO9XHHSABJDf2\n",
       "kKBIgERs4E71cQdIAMnDPeTE3d7EBkCi8XEHSABJ/x5y4m5vYgMg0fi4AySApHMP\n",
       "2f9dfMQG7lQfd4AEkNzYQ87d7U1sACQaH3eABJB07iHn7vYmNgASjY87QAJIevaQ\n",
       "i9MjIhMg4Y47QAJIOvSQ0x+GJTZwp/FxB0gASc8ecvrDsMQG7jQ+7gAJIOnWQ7pM\n",
       "j4hMgIQ77gAJILnaQ7pMj4hMgIQ77gAJILnUQ3pNj4hMgIQ77gAJILnUQ3pNj4hM\n",
       "gIQ77gAJIDnfQ648SpXYwJ3q4w6QAJJuPaQjjYhMgIQ77gAJIDnZQ5/EpgIk3Kk+\n",
       "7gAJIHm+h8qN3e7ioxmIDdypPu4ACSC52kMDVyfodXMdsQGQaHzcARJAcrKHopPT\n",
       "XfneI2IDd6qPO0ACSPr0UKf58U5/LSyxgTvVxx0gASR9ekj3exmIDYBE4+MOkACS\n",
       "Mz1UP2iPXp+EJTZwp/q4AySA5GQPydzIlS8pJzZwp/q4AySApEMPuW+xjtgASLjj\n",
       "DpAAkr09FJ2cXj9oD7GBO9XHHSABJA/3kI4PUSU2cKf6uAMkgORkD7n1rSNiAyDR\n",
       "+LgDJIBkVw8Jjdz61hGxAZBofNwBEkC6QQ+dTMs2Zm5UHMYH7lQfd9wBkqEqKChY\n",
       "uXKlr69vQEDA0aNHi+ghoVG5sdvd8UQGRifuVB93hj1Auh4fH+/v75+dnR0XFzdp\n",
       "0iSrPSQoklmR0MjddzEwOnGn+rgDpLILpIiIiMjISFX28fFJS0sz/++jb4YKh6p4\n",
       "b5TCUIQQKtUCSB7WsmXLYmJiVDkgICAlJeU6QgghgGS8VqxYERUVpcp+fn6pqan0\n",
       "OkIIASQPSGgUGhoqBUGRl5dXbm4uvY4QQgDJA8rJyQkODvb19fX29jat3SGEEAJI\n",
       "CCGEEEBCCCEEkBBCCCGAZKmiH99ggJGt7bGxsatWrTLePTc3NywsTLYEBgYmJiZ6\n",
       "5ASWLFkyYcIEOYHjx497pPHlHMQ9KSnJePeZM2cGFGrZsmXGu+/atcvf33/69OmH\n",
       "Dx822H3r1q0BZrL4mKABJ5Cfnx8eHi4DT1rgxx9/NNj96tWrMuxlizT+qVOnjMxy\n",
       "+qYagOSSin58gwFG2u3p6emLFy8eNWrU8uXLjXffsWNHSEhIXl7e/v37J0+ebPwJ\n",
       "7Ny5MzQ09Nq1a5s3b5YzMdhdSaLXy8vr2LFjBrtnZGRMmzbtaqH0ugvUfnfJg5Kz\n",
       "Ll68KBciU6dONdhdyumFkvz47rvvCh4MPoFDhw5J40uz7927d8qUKQa7b9q0acGC\n",
       "BVJrGf9yUWJM8nFHqgFILqnoxzcYYKTdLuNGrk/XrFmj4yix333btm3q6liS4+jR\n",
       "o40/AQkeNTGSxPT+++8b7K4S06JFixYuXKgXkOx3P3LkyNy5c2NiYqQRBMkGu69f\n",
       "v14uAoRGP/300/nz541vedGVK1cEBhcuXDB+4CUkJAgI5VJMsrbMjw12FxrJgJc/\n",
       "5QSGDh2ak5NjQPJxR6oBSC7JsMc32DKytV1Gp46jxFH3zMxMyYwyUj11AoKEkSNH\n",
       "HjhwwGB3wXBQUFBWVpaOQLLfPSoqavr06fJb0tOcOXMMdl+yZMnEiRMleUndZ82a\n",
       "pcscxdF+X7Vq1VdffeWRuJNOl3nhuHHjhg8fbvoEvWHuMkOSiBMSyxWhAElHJN8w\n",
       "y+mbagCSSzLs8Q22jGxt13eUOOQuY1euUnft2uWR6su1ubo8/O233956662rV68a\n",
       "6S4gDAsL27Nnz4wZM9atW3f58mXju/564fsZUvdLly4Z6S5pa+3atWrL5MmTdbk4\n",
       "c6ju0tpeXl4CBo8MvA0bNkjXFxQUCAy8vb3lmsxId5kYCYnnz58vk1SBopyGYVkO\n",
       "IBUjGfb4Bq2RpF11UWz1BPQdJfa779u3LyQkRN+k4NAJLF68WK4WZYuk49GjR+ty\n",
       "Jva7Hzx4cEehAgMDZYKoS1ay311mJypxCJVliy7rNva7R0dHy9xItkib+/j46HKR\n",
       "7tCwlyuhDz/80FMDTxo/PDxcLRuOHTtWl9V7hwbeN998I1vi4uJkqmRMIwCkYifD\n",
       "Ht+gNUpOTh42bJitE9B3lNjvPmfOnDFjxvgVavr06cafgMTM5EKNHz9++/btHml8\n",
       "tWao102G9rv/+uuvMjcVFspG9Y6Cke5ykS5X6P7+/rJxy5Ytxre8IGH9+vWeiruL\n",
       "Fy9OmzZNhr0MPHVJZKR7dnb2rFmzZNjLpYDsY0wjAKRiKrkk1Os9ZOeMjDkBz7o7\n",
       "dAK///67XvdZlbjGl7rru2LjkPvVq1dLWcs7dAKyRcDsKXfBku5db3xrAySEEEKl\n",
       "RwAJIYQQQEIIIYQAEkLullufSlW0rl69qtcTmBACSAgZpKysrHIajR07tn379q4c\n",
       "Nj4+3sUj2KkDBw40btzYYmNubm7Dhg1Pnz5N/yKAhFBJUkGhQkNDO3bsqMoXLlyI\n",
       "i4tz5ZhdunTR/W5mW0AS9mi3z5w5c/jw4XQuAkgIlTzNmzevU6dOqvztt9++9NJL\n",
       "GzZs6NOnj0x0KleuPGDAgIkTJ1atWvXee+/9+uuv1W7BwcG1a9e+++673377bfND\n",
       "JSYmysbk5OQ2bdrcdttt991338qVK229ZNq0aXJMsejbt++VK1cUS+rUqXPnnXfK\n",
       "OVy8eFFOo1+/fgLLChUqyMnIFkGmvLxWrVqyT8+ePRWQjh8/bm4nTL399tt1eeYF\n",
       "QgAJIY8BSRggqX/FihWS0/fv33/27FkFjLS0ND8/v65du8o+mzdvbtCgwc8//5yS\n",
       "ktK0adOIiAjTob744gt5+fjx43v06HHt2rUvv/yyefPmVl8isyiB0w8//JCamir7\n",
       "hISEiHW1atUOHjwo4OncufOgQYPkNMqXL79z505hTLNmzT7++OM1a9bcc889CQkJ\n",
       "58+fl3NWQNLayXHkVfQsAkgIlQYgdenSRW1p3LixesCPwOapp56SwogRI1q1ajWu\n",
       "UO3atevfv7/pUEFBQfKnHKRixYovv/yyIEQ9kkf7EtkiZfWqS4UaPnz42LFj1ZZd\n",
       "u3YJruQ0lKM6wowZM4YOHSr4UVu2bt2qgKS1E69PP/2UnkUACaHSACQ1GVJA2rt3\n",
       "rxTWrVun8PD6668/++yzH/4p8+dVT506VcAghaSkpA8++KBDhw41atSQGY/2JQMH\n",
       "DjR9C9Hp06eTk5Nln4kTJ6otsbGxd911l/lpKCANGTJEJmpqi8yBTO8hWdg99thj\n",
       "n3/+OT2LABJCpRxI4eHhLVu2lDlNfn5+r169lixZYjrU0qVLZQIk8AgICLhe+L0e\n",
       "5cuX/+GHH7Qv+eijj5o0aSJbsrKyhB+rV69evnx5/fr1f/vtN9lHplA9evTQAkn2\n",
       "efDBB2UaVFBQ0LdvXwUkrZ1gKSEhgZ5FAAmhEiaZspiAtHHjxo4dOwoJunXrZgtI\n",
       "165dGzRo0J133lmrVq3u3bubPzP+xIkT1atX/+677+rUqSN0qVatWr9+/QQw2pfk\n",
       "5OS8+OKLd9xxR82aNV955ZVrhRo6dKja0rp1659//tn8NEaOHKm+UG7AgAFVqlSR\n",
       "fQScCkhxcXHmdufOnatYsaLuj2hDCCAhVEyVnZ1t9fuTOnfuHBERIRA6e/asxQ7a\n",
       "l8j0SN1fZ9LVq1fT09OLtpZXWRzH3E4mUj4+PnQQAkgIlXXt37+/Xbt2nnKXiZdM\n",
       "6fT9BlKEABJCJVVJSUmess7Lyzt16hRdgAASQgghBJAQQggBJIQQQgggIYQQAkgI\n",
       "IYQQQEIIIQSQEEIIIYCEEEIIICGEEEIACSGEEEBCCCGEABJCCCGAhBBCCAEkhBBC\n",
       "AAkhhBACSAghhMqW/h9l27BQxH8pqwAAAABJRU5ErkJggg==\" style=\"clip-path:url(#clipPath1);\" height=\"420\" preserveAspectRatio=\"none\"\n",
       "    /></g\n",
       "  ></g\n",
       "></svg\n",
       ">\n"
      ]
     },
     "metadata": {
      "filenames": {
       "image/svg+xml": "/Users/eechris/code/src/github.com/cpjobling/eg-247-textbook/_build/jupyter_execute/fourier_transform/4/ft4_48_0.svg"
      }
     },
     "output_type": "display_data"
    }
   ],
   "source": [
    "step(H,0.1)\n",
    "title('Step Response of Butterworth 2nd-Order Butterworth Low Pass Filter')\n",
    "grid\n",
    "text(0.008,1,'s_B(t) for \\omega_c = 100 rad/s')"
   ]
  },
  {
   "cell_type": "markdown",
   "id": "066ac4c1",
   "metadata": {
    "slideshow": {
     "slide_type": "slide"
    }
   },
   "source": [
    "## High-pass filter (HPF)\n",
    "\n",
    "An ideal highpass filter cuts-off frequencies lower than its *cutoff frequency*, $\\omega_c$.\n",
    "\n",
    "$$H_{\\rm{hp}}(\\omega ) = \\left\\{ {\\begin{array}{*{20}{c}}\n",
    "{0,}&{|\\omega |{\\kern 1pt} \\, \\le {\\omega _c}}\\\\\n",
    "{1,}&{|\\omega |{\\kern 1pt} \\, > {\\omega _c}}\n",
    "\\end{array}} \\right.$$"
   ]
  },
  {
   "cell_type": "markdown",
   "id": "c590ab6c",
   "metadata": {
    "slideshow": {
     "slide_type": "subslide"
    }
   },
   "source": [
    "### Frequency response of an ideal HPF\n",
    "\n",
    "![Frequency response of an ideal HPF](./pictures/ideal_hpf.png)"
   ]
  },
  {
   "cell_type": "markdown",
   "id": "8b3c2485",
   "metadata": {
    "slideshow": {
     "slide_type": "slide"
    }
   },
   "source": [
    "### Responses\n",
    "\n",
    "**Frequency response**\n",
    "\n",
    "$$H_{\\mathrm{hp}}(\\omega)=1-H_{\\mathrm{lp}}(\\omega)$$\n",
    "\n",
    "**Impulse response**\n",
    "\n",
    "$$h_{\\mathrm{hp}}(t)=\\delta(t)-h_{\\mathrm{lp}}(t)$$"
   ]
  },
  {
   "cell_type": "markdown",
   "id": "2e5b25f1",
   "metadata": {
    "slideshow": {
     "slide_type": "slide"
    }
   },
   "source": [
    "### Example 9\n",
    "\n",
    "Determine the frequency response of a 2nd-order butterworth highpass filter"
   ]
  },
  {
   "cell_type": "markdown",
   "id": "1e2df062",
   "metadata": {
    "slideshow": {
     "slide_type": "notes"
    }
   },
   "source": [
    "#### Solution to example 9\n",
    "\n",
    "<pre style=\"border: 2px solid blue\">\n",
    "\n",
    "\n",
    "\n",
    "\n",
    "\n",
    "\n",
    "\n",
    "\n",
    "\n",
    "\n",
    "\n",
    "\n",
    "\n",
    "\n",
    "\n",
    "\n",
    "\n",
    "\n",
    "\n",
    "\n",
    "\n",
    "\n",
    "\n",
    "\n",
    "</pre>"
   ]
  },
  {
   "cell_type": "markdown",
   "id": "1d1def6c",
   "metadata": {
    "slideshow": {
     "slide_type": "subslide"
    }
   },
   "source": [
    "Magnitude frequency response"
   ]
  },
  {
   "cell_type": "code",
   "execution_count": 8,
   "id": "2f40dd21",
   "metadata": {
    "slideshow": {
     "slide_type": "subslide"
    }
   },
   "outputs": [
    {
     "data": {
      "image/svg+xml": [
       "<?xml version=\"1.0\"?>\n",
       "<!DOCTYPE svg PUBLIC '-//W3C//DTD SVG 1.0//EN'\n",
       "          'http://www.w3.org/TR/2001/REC-SVG-20010904/DTD/svg10.dtd'>\n",
       "<svg xmlns:xlink=\"http://www.w3.org/1999/xlink\" style=\"fill-opacity:1; color-rendering:auto; color-interpolation:auto; text-rendering:auto; stroke:black; stroke-linecap:square; stroke-miterlimit:10; shape-rendering:auto; stroke-opacity:1; fill:black; stroke-dasharray:none; font-weight:normal; stroke-width:1; font-family:'Dialog'; font-style:normal; stroke-linejoin:miter; font-size:12px; stroke-dashoffset:0; image-rendering:auto;\" width=\"560\" height=\"420\" xmlns=\"http://www.w3.org/2000/svg\"\n",
       "><!--Generated by the Batik Graphics2D SVG Generator--><defs id=\"genericDefs\"\n",
       "  /><g\n",
       "  ><defs id=\"defs1\"\n",
       "    ><clipPath clipPathUnits=\"userSpaceOnUse\" id=\"clipPath1\"\n",
       "      ><path d=\"M0 0 L560 0 L560 420 L0 420 L0 0 Z\"\n",
       "      /></clipPath\n",
       "    ></defs\n",
       "    ><g style=\"fill:white; stroke:white;\"\n",
       "    ><rect x=\"0\" y=\"0\" width=\"560\" style=\"clip-path:url(#clipPath1); stroke:none;\" height=\"420\"\n",
       "    /></g\n",
       "    ><g style=\"fill:white; text-rendering:optimizeSpeed; color-rendering:optimizeSpeed; image-rendering:optimizeSpeed; shape-rendering:crispEdges; stroke:white; color-interpolation:sRGB;\"\n",
       "    ><rect x=\"0\" width=\"560\" height=\"420\" y=\"0\" style=\"stroke:none;\"\n",
       "      /><path style=\"stroke:none;\" d=\"M73 374 L507 374 L507 31 L73 31 Z\"\n",
       "    /></g\n",
       "    ><g style=\"stroke-linecap:butt; fill-opacity:0.149; fill:rgb(38,38,38); text-rendering:geometricPrecision; image-rendering:optimizeQuality; color-rendering:optimizeQuality; stroke-linejoin:round; stroke:rgb(38,38,38); color-interpolation:linearRGB; stroke-width:0.5; stroke-opacity:0.149;\"\n",
       "    ><line y2=\"31\" style=\"fill:none;\" x1=\"73\" x2=\"73\" y1=\"374\"\n",
       "      /><line y2=\"31\" style=\"fill:none;\" x1=\"127.25\" x2=\"127.25\" y1=\"374\"\n",
       "      /><line y2=\"31\" style=\"fill:none;\" x1=\"181.5\" x2=\"181.5\" y1=\"374\"\n",
       "      /><line y2=\"31\" style=\"fill:none;\" x1=\"235.75\" x2=\"235.75\" y1=\"374\"\n",
       "      /><line y2=\"31\" style=\"fill:none;\" x1=\"290\" x2=\"290\" y1=\"374\"\n",
       "      /><line y2=\"31\" style=\"fill:none;\" x1=\"344.25\" x2=\"344.25\" y1=\"374\"\n",
       "      /><line y2=\"31\" style=\"fill:none;\" x1=\"398.5\" x2=\"398.5\" y1=\"374\"\n",
       "      /><line y2=\"31\" style=\"fill:none;\" x1=\"452.75\" x2=\"452.75\" y1=\"374\"\n",
       "      /><line y2=\"31\" style=\"fill:none;\" x1=\"507\" x2=\"507\" y1=\"374\"\n",
       "      /><line y2=\"374\" style=\"fill:none;\" x1=\"507\" x2=\"73\" y1=\"374\"\n",
       "      /><line y2=\"339.7\" style=\"fill:none;\" x1=\"507\" x2=\"73\" y1=\"339.7\"\n",
       "      /><line y2=\"305.4\" style=\"fill:none;\" x1=\"507\" x2=\"73\" y1=\"305.4\"\n",
       "      /><line y2=\"271.1\" style=\"fill:none;\" x1=\"507\" x2=\"73\" y1=\"271.1\"\n",
       "      /><line y2=\"236.8\" style=\"fill:none;\" x1=\"507\" x2=\"73\" y1=\"236.8\"\n",
       "      /><line y2=\"202.5\" style=\"fill:none;\" x1=\"507\" x2=\"73\" y1=\"202.5\"\n",
       "      /><line y2=\"168.2\" style=\"fill:none;\" x1=\"507\" x2=\"73\" y1=\"168.2\"\n",
       "      /><line y2=\"133.9\" style=\"fill:none;\" x1=\"507\" x2=\"73\" y1=\"133.9\"\n",
       "      /><line y2=\"99.6\" style=\"fill:none;\" x1=\"507\" x2=\"73\" y1=\"99.6\"\n",
       "      /><line y2=\"65.3\" style=\"fill:none;\" x1=\"507\" x2=\"73\" y1=\"65.3\"\n",
       "      /><line y2=\"31\" style=\"fill:none;\" x1=\"507\" x2=\"73\" y1=\"31\"\n",
       "      /><line x1=\"73\" x2=\"507\" y1=\"374\" style=\"stroke-linecap:square; fill-opacity:1; fill:none; stroke-opacity:1;\" y2=\"374\"\n",
       "      /><line x1=\"73\" x2=\"507\" y1=\"31\" style=\"stroke-linecap:square; fill-opacity:1; fill:none; stroke-opacity:1;\" y2=\"31\"\n",
       "      /><line x1=\"73\" x2=\"73\" y1=\"374\" style=\"stroke-linecap:square; fill-opacity:1; fill:none; stroke-opacity:1;\" y2=\"369.66\"\n",
       "      /><line x1=\"127.25\" x2=\"127.25\" y1=\"374\" style=\"stroke-linecap:square; fill-opacity:1; fill:none; stroke-opacity:1;\" y2=\"369.66\"\n",
       "      /><line x1=\"181.5\" x2=\"181.5\" y1=\"374\" style=\"stroke-linecap:square; fill-opacity:1; fill:none; stroke-opacity:1;\" y2=\"369.66\"\n",
       "      /><line x1=\"235.75\" x2=\"235.75\" y1=\"374\" style=\"stroke-linecap:square; fill-opacity:1; fill:none; stroke-opacity:1;\" y2=\"369.66\"\n",
       "      /><line x1=\"290\" x2=\"290\" y1=\"374\" style=\"stroke-linecap:square; fill-opacity:1; fill:none; stroke-opacity:1;\" y2=\"369.66\"\n",
       "      /><line x1=\"344.25\" x2=\"344.25\" y1=\"374\" style=\"stroke-linecap:square; fill-opacity:1; fill:none; stroke-opacity:1;\" y2=\"369.66\"\n",
       "      /><line x1=\"398.5\" x2=\"398.5\" y1=\"374\" style=\"stroke-linecap:square; fill-opacity:1; fill:none; stroke-opacity:1;\" y2=\"369.66\"\n",
       "      /><line x1=\"452.75\" x2=\"452.75\" y1=\"374\" style=\"stroke-linecap:square; fill-opacity:1; fill:none; stroke-opacity:1;\" y2=\"369.66\"\n",
       "      /><line x1=\"507\" x2=\"507\" y1=\"374\" style=\"stroke-linecap:square; fill-opacity:1; fill:none; stroke-opacity:1;\" y2=\"369.66\"\n",
       "      /><line x1=\"73\" x2=\"73\" y1=\"31\" style=\"stroke-linecap:square; fill-opacity:1; fill:none; stroke-opacity:1;\" y2=\"35.34\"\n",
       "      /><line x1=\"127.25\" x2=\"127.25\" y1=\"31\" style=\"stroke-linecap:square; fill-opacity:1; fill:none; stroke-opacity:1;\" y2=\"35.34\"\n",
       "      /><line x1=\"181.5\" x2=\"181.5\" y1=\"31\" style=\"stroke-linecap:square; fill-opacity:1; fill:none; stroke-opacity:1;\" y2=\"35.34\"\n",
       "      /><line x1=\"235.75\" x2=\"235.75\" y1=\"31\" style=\"stroke-linecap:square; fill-opacity:1; fill:none; stroke-opacity:1;\" y2=\"35.34\"\n",
       "      /><line x1=\"290\" x2=\"290\" y1=\"31\" style=\"stroke-linecap:square; fill-opacity:1; fill:none; stroke-opacity:1;\" y2=\"35.34\"\n",
       "      /><line x1=\"344.25\" x2=\"344.25\" y1=\"31\" style=\"stroke-linecap:square; fill-opacity:1; fill:none; stroke-opacity:1;\" y2=\"35.34\"\n",
       "      /><line x1=\"398.5\" x2=\"398.5\" y1=\"31\" style=\"stroke-linecap:square; fill-opacity:1; fill:none; stroke-opacity:1;\" y2=\"35.34\"\n",
       "      /><line x1=\"452.75\" x2=\"452.75\" y1=\"31\" style=\"stroke-linecap:square; fill-opacity:1; fill:none; stroke-opacity:1;\" y2=\"35.34\"\n",
       "      /><line x1=\"507\" x2=\"507\" y1=\"31\" style=\"stroke-linecap:square; fill-opacity:1; fill:none; stroke-opacity:1;\" y2=\"35.34\"\n",
       "    /></g\n",
       "    ><g transform=\"translate(73,378)\" style=\"font-size:10px; fill:rgb(38,38,38); text-rendering:geometricPrecision; image-rendering:optimizeQuality; color-rendering:optimizeQuality; font-family:'Helvetica Neue'; stroke:rgb(38,38,38); color-interpolation:linearRGB;\"\n",
       "    ><path style=\"stroke:none;\" d=\"M-10 6.82 L-10 7.62 L-7.11 7.62 L-7.11 6.82 ZM-3.22 7.59 L-5.6 7.59 L-3.24 4.12 L-3.22 4.12 ZM-2.42 7.59 L-2.42 2.91 L-3.1 2.91 L-6.33 7.52 L-6.33 8.34 L-3.22 8.34 L-3.22 10 L-2.42 10 L-2.42 8.34 L-1.46 8.34 L-1.46 7.59 ZM0.27 6.51 Q0.27 6.25 0.275 5.935 Q0.28 5.62 0.325 5.305 Q0.37 4.99 0.455 4.69 Q0.54 4.39 0.705 4.165 Q0.87 3.94 1.12 3.8 Q1.37 3.66 1.73 3.66 Q2.09 3.66 2.34 3.8 Q2.59 3.94 2.755 4.165 Q2.92 4.39 3.005 4.69 Q3.09 4.99 3.135 5.305 Q3.18 5.62 3.185 5.935 Q3.19 6.25 3.19 6.51 Q3.19 6.91 3.165 7.405 Q3.14 7.9 3.005 8.335 Q2.87 8.77 2.57 9.07 Q2.27 9.37 1.73 9.37 Q1.19 9.37 0.89 9.07 Q0.59 8.77 0.455 8.335 Q0.32 7.9 0.295 7.405 Q0.27 6.91 0.27 6.51 ZM-0.63 6.52 Q-0.63 6.91 -0.61 7.33 Q-0.59 7.75 -0.51 8.15 Q-0.43 8.55 -0.28 8.905 Q-0.13 9.26 0.13 9.53 Q0.39 9.8 0.785 9.955 Q1.18 10.11 1.73 10.11 Q2.29 10.11 2.68 9.955 Q3.07 9.8 3.33 9.53 Q3.59 9.26 3.74 8.905 Q3.89 8.55 3.97 8.15 Q4.05 7.75 4.07 7.33 Q4.09 6.91 4.09 6.52 Q4.09 6.13 4.07 5.71 Q4.05 5.29 3.97 4.89 Q3.89 4.49 3.74 4.13 Q3.59 3.77 3.33 3.5 Q3.07 3.23 2.675 3.07 Q2.28 2.91 1.73 2.91 Q1.18 2.91 0.785 3.07 Q0.39 3.23 0.13 3.5 Q-0.13 3.77 -0.28 4.13 Q-0.43 4.49 -0.51 4.89 Q-0.59 5.29 -0.61 5.71 Q-0.63 6.13 -0.63 6.52 ZM5.83 6.51 Q5.83 6.25 5.835 5.935 Q5.84 5.62 5.885 5.305 Q5.93 4.99 6.015 4.69 Q6.1 4.39 6.265 4.165 Q6.43 3.94 6.68 3.8 Q6.93 3.66 7.29 3.66 Q7.65 3.66 7.9 3.8 Q8.15 3.94 8.315 4.165 Q8.48 4.39 8.565 4.69 Q8.65 4.99 8.695 5.305 Q8.74 5.62 8.745 5.935 Q8.75 6.25 8.75 6.51 Q8.75 6.91 8.725 7.405 Q8.7 7.9 8.565 8.335 Q8.43 8.77 8.13 9.07 Q7.83 9.37 7.29 9.37 Q6.75 9.37 6.45 9.07 Q6.15 8.77 6.015 8.335 Q5.88 7.9 5.855 7.405 Q5.83 6.91 5.83 6.51 ZM4.93 6.52 Q4.93 6.91 4.95 7.33 Q4.97 7.75 5.05 8.15 Q5.13 8.55 5.28 8.905 Q5.43 9.26 5.69 9.53 Q5.95 9.8 6.345 9.955 Q6.74 10.11 7.29 10.11 Q7.85 10.11 8.24 9.955 Q8.63 9.8 8.89 9.53 Q9.15 9.26 9.3 8.905 Q9.45 8.55 9.53 8.15 Q9.61 7.75 9.63 7.33 Q9.65 6.91 9.65 6.52 Q9.65 6.13 9.63 5.71 Q9.61 5.29 9.53 4.89 Q9.45 4.49 9.3 4.13 Q9.15 3.77 8.89 3.5 Q8.63 3.23 8.235 3.07 Q7.84 2.91 7.29 2.91 Q6.74 2.91 6.345 3.07 Q5.95 3.23 5.69 3.5 Q5.43 3.77 5.28 4.13 Q5.13 4.49 5.05 4.89 Q4.97 5.29 4.95 5.71 Q4.93 6.13 4.93 6.52 Z\"\n",
       "    /></g\n",
       "    ><g transform=\"translate(127.25,378)\" style=\"font-size:10px; fill:rgb(38,38,38); text-rendering:geometricPrecision; image-rendering:optimizeQuality; color-rendering:optimizeQuality; font-family:'Helvetica Neue'; stroke:rgb(38,38,38); color-interpolation:linearRGB;\"\n",
       "    ><path style=\"stroke:none;\" d=\"M-10 6.82 L-10 7.62 L-7.11 7.62 L-7.11 6.82 ZM-4.43 5.95 L-4.43 6.67 Q-4.19 6.64 -3.92 6.64 Q-3.6 6.64 -3.325 6.725 Q-3.05 6.81 -2.85 6.985 Q-2.65 7.16 -2.53 7.415 Q-2.41 7.67 -2.41 8 Q-2.41 8.32 -2.535 8.575 Q-2.66 8.83 -2.87 9.005 Q-3.08 9.18 -3.36 9.275 Q-3.64 9.37 -3.95 9.37 Q-4.68 9.37 -5.06 8.935 Q-5.44 8.5 -5.46 7.81 L-6.31 7.81 Q-6.32 8.36 -6.155 8.79 Q-5.99 9.22 -5.68 9.515 Q-5.37 9.81 -4.93 9.96 Q-4.49 10.11 -3.95 10.11 Q-3.45 10.11 -3.005 9.975 Q-2.56 9.84 -2.23 9.57 Q-1.9 9.3 -1.705 8.895 Q-1.51 8.49 -1.51 7.96 Q-1.51 7.32 -1.825 6.85 Q-2.14 6.38 -2.79 6.24 L-2.79 6.22 Q-2.37 6.03 -2.09 5.66 Q-1.81 5.29 -1.81 4.81 Q-1.81 4.32 -1.975 3.96 Q-2.14 3.6 -2.43 3.37 Q-2.72 3.14 -3.115 3.025 Q-3.51 2.91 -3.97 2.91 Q-4.5 2.91 -4.905 3.08 Q-5.31 3.25 -5.58 3.55 Q-5.85 3.85 -5.995 4.27 Q-6.14 4.69 -6.16 5.2 L-5.31 5.2 Q-5.31 4.89 -5.23 4.61 Q-5.15 4.33 -4.985 4.12 Q-4.82 3.91 -4.565 3.785 Q-4.31 3.66 -3.97 3.66 Q-3.43 3.66 -3.07 3.945 Q-2.71 4.23 -2.71 4.8 Q-2.71 5.08 -2.82 5.3 Q-2.93 5.52 -3.115 5.665 Q-3.3 5.81 -3.545 5.885 Q-3.79 5.96 -4.06 5.96 L-4.24 5.96 Q-4.29 5.96 -4.34 5.96 Q-4.38 5.96 -4.43 5.95 ZM0.27 6.51 Q0.27 6.25 0.275 5.935 Q0.28 5.62 0.325 5.305 Q0.37 4.99 0.455 4.69 Q0.54 4.39 0.705 4.165 Q0.87 3.94 1.12 3.8 Q1.37 3.66 1.73 3.66 Q2.09 3.66 2.34 3.8 Q2.59 3.94 2.755 4.165 Q2.92 4.39 3.005 4.69 Q3.09 4.99 3.135 5.305 Q3.18 5.62 3.185 5.935 Q3.19 6.25 3.19 6.51 Q3.19 6.91 3.165 7.405 Q3.14 7.9 3.005 8.335 Q2.87 8.77 2.57 9.07 Q2.27 9.37 1.73 9.37 Q1.19 9.37 0.89 9.07 Q0.59 8.77 0.455 8.335 Q0.32 7.9 0.295 7.405 Q0.27 6.91 0.27 6.51 ZM-0.63 6.52 Q-0.63 6.91 -0.61 7.33 Q-0.59 7.75 -0.51 8.15 Q-0.43 8.55 -0.28 8.905 Q-0.13 9.26 0.13 9.53 Q0.39 9.8 0.785 9.955 Q1.18 10.11 1.73 10.11 Q2.29 10.11 2.68 9.955 Q3.07 9.8 3.33 9.53 Q3.59 9.26 3.74 8.905 Q3.89 8.55 3.97 8.15 Q4.05 7.75 4.07 7.33 Q4.09 6.91 4.09 6.52 Q4.09 6.13 4.07 5.71 Q4.05 5.29 3.97 4.89 Q3.89 4.49 3.74 4.13 Q3.59 3.77 3.33 3.5 Q3.07 3.23 2.675 3.07 Q2.28 2.91 1.73 2.91 Q1.18 2.91 0.785 3.07 Q0.39 3.23 0.13 3.5 Q-0.13 3.77 -0.28 4.13 Q-0.43 4.49 -0.51 4.89 Q-0.59 5.29 -0.61 5.71 Q-0.63 6.13 -0.63 6.52 ZM5.83 6.51 Q5.83 6.25 5.835 5.935 Q5.84 5.62 5.885 5.305 Q5.93 4.99 6.015 4.69 Q6.1 4.39 6.265 4.165 Q6.43 3.94 6.68 3.8 Q6.93 3.66 7.29 3.66 Q7.65 3.66 7.9 3.8 Q8.15 3.94 8.315 4.165 Q8.48 4.39 8.565 4.69 Q8.65 4.99 8.695 5.305 Q8.74 5.62 8.745 5.935 Q8.75 6.25 8.75 6.51 Q8.75 6.91 8.725 7.405 Q8.7 7.9 8.565 8.335 Q8.43 8.77 8.13 9.07 Q7.83 9.37 7.29 9.37 Q6.75 9.37 6.45 9.07 Q6.15 8.77 6.015 8.335 Q5.88 7.9 5.855 7.405 Q5.83 6.91 5.83 6.51 ZM4.93 6.52 Q4.93 6.91 4.95 7.33 Q4.97 7.75 5.05 8.15 Q5.13 8.55 5.28 8.905 Q5.43 9.26 5.69 9.53 Q5.95 9.8 6.345 9.955 Q6.74 10.11 7.29 10.11 Q7.85 10.11 8.24 9.955 Q8.63 9.8 8.89 9.53 Q9.15 9.26 9.3 8.905 Q9.45 8.55 9.53 8.15 Q9.61 7.75 9.63 7.33 Q9.65 6.91 9.65 6.52 Q9.65 6.13 9.63 5.71 Q9.61 5.29 9.53 4.89 Q9.45 4.49 9.3 4.13 Q9.15 3.77 8.89 3.5 Q8.63 3.23 8.235 3.07 Q7.84 2.91 7.29 2.91 Q6.74 2.91 6.345 3.07 Q5.95 3.23 5.69 3.5 Q5.43 3.77 5.28 4.13 Q5.13 4.49 5.05 4.89 Q4.97 5.29 4.95 5.71 Q4.93 6.13 4.93 6.52 Z\"\n",
       "    /></g\n",
       "    ><g transform=\"translate(181.5,378)\" style=\"font-size:10px; fill:rgb(38,38,38); text-rendering:geometricPrecision; image-rendering:optimizeQuality; color-rendering:optimizeQuality; font-family:'Helvetica Neue'; stroke:rgb(38,38,38); color-interpolation:linearRGB;\"\n",
       "    ><path style=\"stroke:none;\" d=\"M-10 6.82 L-10 7.62 L-7.11 7.62 L-7.11 6.82 ZM-6.17 5.42 L-5.32 5.42 Q-5.33 5.1 -5.255 4.785 Q-5.18 4.47 -5.01 4.22 Q-4.84 3.97 -4.575 3.815 Q-4.31 3.66 -3.94 3.66 Q-3.66 3.66 -3.41 3.75 Q-3.16 3.84 -2.975 4.01 Q-2.79 4.18 -2.68 4.415 Q-2.57 4.65 -2.57 4.94 Q-2.57 5.31 -2.685 5.59 Q-2.8 5.87 -3.025 6.11 Q-3.25 6.35 -3.59 6.585 Q-3.93 6.82 -4.38 7.1 Q-4.75 7.32 -5.09 7.57 Q-5.43 7.82 -5.7 8.15 Q-5.97 8.48 -6.145 8.925 Q-6.32 9.37 -6.37 10 L-1.74 10 L-1.74 9.25 L-5.38 9.25 Q-5.32 8.92 -5.125 8.665 Q-4.93 8.41 -4.655 8.19 Q-4.38 7.97 -4.05 7.775 Q-3.72 7.58 -3.39 7.38 Q-3.06 7.17 -2.75 6.94 Q-2.44 6.71 -2.2 6.425 Q-1.96 6.14 -1.815 5.78 Q-1.67 5.42 -1.67 4.95 Q-1.67 4.45 -1.845 4.07 Q-2.02 3.69 -2.32 3.435 Q-2.62 3.18 -3.025 3.045 Q-3.43 2.91 -3.89 2.91 Q-4.45 2.91 -4.89 3.1 Q-5.33 3.29 -5.625 3.625 Q-5.92 3.96 -6.06 4.42 Q-6.2 4.88 -6.17 5.42 ZM0.27 6.51 Q0.27 6.25 0.275 5.935 Q0.28 5.62 0.325 5.305 Q0.37 4.99 0.455 4.69 Q0.54 4.39 0.705 4.165 Q0.87 3.94 1.12 3.8 Q1.37 3.66 1.73 3.66 Q2.09 3.66 2.34 3.8 Q2.59 3.94 2.755 4.165 Q2.92 4.39 3.005 4.69 Q3.09 4.99 3.135 5.305 Q3.18 5.62 3.185 5.935 Q3.19 6.25 3.19 6.51 Q3.19 6.91 3.165 7.405 Q3.14 7.9 3.005 8.335 Q2.87 8.77 2.57 9.07 Q2.27 9.37 1.73 9.37 Q1.19 9.37 0.89 9.07 Q0.59 8.77 0.455 8.335 Q0.32 7.9 0.295 7.405 Q0.27 6.91 0.27 6.51 ZM-0.63 6.52 Q-0.63 6.91 -0.61 7.33 Q-0.59 7.75 -0.51 8.15 Q-0.43 8.55 -0.28 8.905 Q-0.13 9.26 0.13 9.53 Q0.39 9.8 0.785 9.955 Q1.18 10.11 1.73 10.11 Q2.29 10.11 2.68 9.955 Q3.07 9.8 3.33 9.53 Q3.59 9.26 3.74 8.905 Q3.89 8.55 3.97 8.15 Q4.05 7.75 4.07 7.33 Q4.09 6.91 4.09 6.52 Q4.09 6.13 4.07 5.71 Q4.05 5.29 3.97 4.89 Q3.89 4.49 3.74 4.13 Q3.59 3.77 3.33 3.5 Q3.07 3.23 2.675 3.07 Q2.28 2.91 1.73 2.91 Q1.18 2.91 0.785 3.07 Q0.39 3.23 0.13 3.5 Q-0.13 3.77 -0.28 4.13 Q-0.43 4.49 -0.51 4.89 Q-0.59 5.29 -0.61 5.71 Q-0.63 6.13 -0.63 6.52 ZM5.83 6.51 Q5.83 6.25 5.835 5.935 Q5.84 5.62 5.885 5.305 Q5.93 4.99 6.015 4.69 Q6.1 4.39 6.265 4.165 Q6.43 3.94 6.68 3.8 Q6.93 3.66 7.29 3.66 Q7.65 3.66 7.9 3.8 Q8.15 3.94 8.315 4.165 Q8.48 4.39 8.565 4.69 Q8.65 4.99 8.695 5.305 Q8.74 5.62 8.745 5.935 Q8.75 6.25 8.75 6.51 Q8.75 6.91 8.725 7.405 Q8.7 7.9 8.565 8.335 Q8.43 8.77 8.13 9.07 Q7.83 9.37 7.29 9.37 Q6.75 9.37 6.45 9.07 Q6.15 8.77 6.015 8.335 Q5.88 7.9 5.855 7.405 Q5.83 6.91 5.83 6.51 ZM4.93 6.52 Q4.93 6.91 4.95 7.33 Q4.97 7.75 5.05 8.15 Q5.13 8.55 5.28 8.905 Q5.43 9.26 5.69 9.53 Q5.95 9.8 6.345 9.955 Q6.74 10.11 7.29 10.11 Q7.85 10.11 8.24 9.955 Q8.63 9.8 8.89 9.53 Q9.15 9.26 9.3 8.905 Q9.45 8.55 9.53 8.15 Q9.61 7.75 9.63 7.33 Q9.65 6.91 9.65 6.52 Q9.65 6.13 9.63 5.71 Q9.61 5.29 9.53 4.89 Q9.45 4.49 9.3 4.13 Q9.15 3.77 8.89 3.5 Q8.63 3.23 8.235 3.07 Q7.84 2.91 7.29 2.91 Q6.74 2.91 6.345 3.07 Q5.95 3.23 5.69 3.5 Q5.43 3.77 5.28 4.13 Q5.13 4.49 5.05 4.89 Q4.97 5.29 4.95 5.71 Q4.93 6.13 4.93 6.52 Z\"\n",
       "    /></g\n",
       "    ><g transform=\"translate(235.75,378)\" style=\"font-size:10px; fill:rgb(38,38,38); text-rendering:geometricPrecision; image-rendering:optimizeQuality; color-rendering:optimizeQuality; font-family:'Helvetica Neue'; stroke:rgb(38,38,38); color-interpolation:linearRGB;\"\n",
       "    ><path style=\"stroke:none;\" d=\"M-10 6.82 L-10 7.62 L-7.11 7.62 L-7.11 6.82 ZM-3.05 10 L-3.05 2.91 L-3.7 2.91 Q-3.77 3.31 -3.96 3.57 Q-4.15 3.83 -4.425 3.98 Q-4.7 4.13 -5.04 4.185 Q-5.38 4.24 -5.74 4.24 L-5.74 4.92 L-3.9 4.92 L-3.9 10 ZM0.27 6.51 Q0.27 6.25 0.275 5.935 Q0.28 5.62 0.325 5.305 Q0.37 4.99 0.455 4.69 Q0.54 4.39 0.705 4.165 Q0.87 3.94 1.12 3.8 Q1.37 3.66 1.73 3.66 Q2.09 3.66 2.34 3.8 Q2.59 3.94 2.755 4.165 Q2.92 4.39 3.005 4.69 Q3.09 4.99 3.135 5.305 Q3.18 5.62 3.185 5.935 Q3.19 6.25 3.19 6.51 Q3.19 6.91 3.165 7.405 Q3.14 7.9 3.005 8.335 Q2.87 8.77 2.57 9.07 Q2.27 9.37 1.73 9.37 Q1.19 9.37 0.89 9.07 Q0.59 8.77 0.455 8.335 Q0.32 7.9 0.295 7.405 Q0.27 6.91 0.27 6.51 ZM-0.63 6.52 Q-0.63 6.91 -0.61 7.33 Q-0.59 7.75 -0.51 8.15 Q-0.43 8.55 -0.28 8.905 Q-0.13 9.26 0.13 9.53 Q0.39 9.8 0.785 9.955 Q1.18 10.11 1.73 10.11 Q2.29 10.11 2.68 9.955 Q3.07 9.8 3.33 9.53 Q3.59 9.26 3.74 8.905 Q3.89 8.55 3.97 8.15 Q4.05 7.75 4.07 7.33 Q4.09 6.91 4.09 6.52 Q4.09 6.13 4.07 5.71 Q4.05 5.29 3.97 4.89 Q3.89 4.49 3.74 4.13 Q3.59 3.77 3.33 3.5 Q3.07 3.23 2.675 3.07 Q2.28 2.91 1.73 2.91 Q1.18 2.91 0.785 3.07 Q0.39 3.23 0.13 3.5 Q-0.13 3.77 -0.28 4.13 Q-0.43 4.49 -0.51 4.89 Q-0.59 5.29 -0.61 5.71 Q-0.63 6.13 -0.63 6.52 ZM5.83 6.51 Q5.83 6.25 5.835 5.935 Q5.84 5.62 5.885 5.305 Q5.93 4.99 6.015 4.69 Q6.1 4.39 6.265 4.165 Q6.43 3.94 6.68 3.8 Q6.93 3.66 7.29 3.66 Q7.65 3.66 7.9 3.8 Q8.15 3.94 8.315 4.165 Q8.48 4.39 8.565 4.69 Q8.65 4.99 8.695 5.305 Q8.74 5.62 8.745 5.935 Q8.75 6.25 8.75 6.51 Q8.75 6.91 8.725 7.405 Q8.7 7.9 8.565 8.335 Q8.43 8.77 8.13 9.07 Q7.83 9.37 7.29 9.37 Q6.75 9.37 6.45 9.07 Q6.15 8.77 6.015 8.335 Q5.88 7.9 5.855 7.405 Q5.83 6.91 5.83 6.51 ZM4.93 6.52 Q4.93 6.91 4.95 7.33 Q4.97 7.75 5.05 8.15 Q5.13 8.55 5.28 8.905 Q5.43 9.26 5.69 9.53 Q5.95 9.8 6.345 9.955 Q6.74 10.11 7.29 10.11 Q7.85 10.11 8.24 9.955 Q8.63 9.8 8.89 9.53 Q9.15 9.26 9.3 8.905 Q9.45 8.55 9.53 8.15 Q9.61 7.75 9.63 7.33 Q9.65 6.91 9.65 6.52 Q9.65 6.13 9.63 5.71 Q9.61 5.29 9.53 4.89 Q9.45 4.49 9.3 4.13 Q9.15 3.77 8.89 3.5 Q8.63 3.23 8.235 3.07 Q7.84 2.91 7.29 2.91 Q6.74 2.91 6.345 3.07 Q5.95 3.23 5.69 3.5 Q5.43 3.77 5.28 4.13 Q5.13 4.49 5.05 4.89 Q4.97 5.29 4.95 5.71 Q4.93 6.13 4.93 6.52 Z\"\n",
       "    /></g\n",
       "    ><g transform=\"translate(290,378)\" style=\"font-size:10px; fill:rgb(38,38,38); text-rendering:geometricPrecision; image-rendering:optimizeQuality; color-rendering:optimizeQuality; font-family:'Helvetica Neue'; stroke:rgb(38,38,38); color-interpolation:linearRGB;\"\n",
       "    ><path style=\"stroke:none;\" d=\"M-1.68 6.51 Q-1.68 6.25 -1.675 5.935 Q-1.67 5.62 -1.625 5.305 Q-1.58 4.99 -1.495 4.69 Q-1.41 4.39 -1.245 4.165 Q-1.08 3.94 -0.83 3.8 Q-0.58 3.66 -0.22 3.66 Q0.14 3.66 0.39 3.8 Q0.64 3.94 0.805 4.165 Q0.97 4.39 1.055 4.69 Q1.14 4.99 1.185 5.305 Q1.23 5.62 1.235 5.935 Q1.24 6.25 1.24 6.51 Q1.24 6.91 1.215 7.405 Q1.19 7.9 1.055 8.335 Q0.92 8.77 0.62 9.07 Q0.32 9.37 -0.22 9.37 Q-0.76 9.37 -1.06 9.07 Q-1.36 8.77 -1.495 8.335 Q-1.63 7.9 -1.655 7.405 Q-1.68 6.91 -1.68 6.51 ZM-2.58 6.52 Q-2.58 6.91 -2.56 7.33 Q-2.54 7.75 -2.46 8.15 Q-2.38 8.55 -2.23 8.905 Q-2.08 9.26 -1.82 9.53 Q-1.56 9.8 -1.165 9.955 Q-0.77 10.11 -0.22 10.11 Q0.34 10.11 0.73 9.955 Q1.12 9.8 1.38 9.53 Q1.64 9.26 1.79 8.905 Q1.94 8.55 2.02 8.15 Q2.1 7.75 2.12 7.33 Q2.14 6.91 2.14 6.52 Q2.14 6.13 2.12 5.71 Q2.1 5.29 2.02 4.89 Q1.94 4.49 1.79 4.13 Q1.64 3.77 1.38 3.5 Q1.12 3.23 0.725 3.07 Q0.33 2.91 -0.22 2.91 Q-0.77 2.91 -1.165 3.07 Q-1.56 3.23 -1.82 3.5 Q-2.08 3.77 -2.23 4.13 Q-2.38 4.49 -2.46 4.89 Q-2.54 5.29 -2.56 5.71 Q-2.58 6.13 -2.58 6.52 Z\"\n",
       "    /></g\n",
       "    ><g transform=\"translate(344.25,378)\" style=\"font-size:10px; fill:rgb(38,38,38); text-rendering:geometricPrecision; image-rendering:optimizeQuality; color-rendering:optimizeQuality; font-family:'Helvetica Neue'; stroke:rgb(38,38,38); color-interpolation:linearRGB;\"\n",
       "    ><path style=\"stroke:none;\" d=\"M-4.94 10 L-4.94 2.91 L-5.59 2.91 Q-5.66 3.31 -5.85 3.57 Q-6.04 3.83 -6.315 3.98 Q-6.59 4.13 -6.93 4.185 Q-7.27 4.24 -7.63 4.24 L-7.63 4.92 L-5.79 4.92 L-5.79 10 ZM-1.62 6.51 Q-1.62 6.25 -1.615 5.935 Q-1.61 5.62 -1.565 5.305 Q-1.52 4.99 -1.435 4.69 Q-1.35 4.39 -1.185 4.165 Q-1.02 3.94 -0.77 3.8 Q-0.52 3.66 -0.16 3.66 Q0.2 3.66 0.45 3.8 Q0.7 3.94 0.865 4.165 Q1.03 4.39 1.115 4.69 Q1.2 4.99 1.245 5.305 Q1.29 5.62 1.295 5.935 Q1.3 6.25 1.3 6.51 Q1.3 6.91 1.275 7.405 Q1.25 7.9 1.115 8.335 Q0.98 8.77 0.68 9.07 Q0.38 9.37 -0.16 9.37 Q-0.7 9.37 -1 9.07 Q-1.3 8.77 -1.435 8.335 Q-1.57 7.9 -1.595 7.405 Q-1.62 6.91 -1.62 6.51 ZM-2.52 6.52 Q-2.52 6.91 -2.5 7.33 Q-2.48 7.75 -2.4 8.15 Q-2.32 8.55 -2.17 8.905 Q-2.02 9.26 -1.76 9.53 Q-1.5 9.8 -1.105 9.955 Q-0.71 10.11 -0.16 10.11 Q0.4 10.11 0.79 9.955 Q1.18 9.8 1.44 9.53 Q1.7 9.26 1.85 8.905 Q2 8.55 2.08 8.15 Q2.16 7.75 2.18 7.33 Q2.2 6.91 2.2 6.52 Q2.2 6.13 2.18 5.71 Q2.16 5.29 2.08 4.89 Q2 4.49 1.85 4.13 Q1.7 3.77 1.44 3.5 Q1.18 3.23 0.785 3.07 Q0.39 2.91 -0.16 2.91 Q-0.71 2.91 -1.105 3.07 Q-1.5 3.23 -1.76 3.5 Q-2.02 3.77 -2.17 4.13 Q-2.32 4.49 -2.4 4.89 Q-2.48 5.29 -2.5 5.71 Q-2.52 6.13 -2.52 6.52 ZM3.94 6.51 Q3.94 6.25 3.945 5.935 Q3.95 5.62 3.995 5.305 Q4.04 4.99 4.125 4.69 Q4.21 4.39 4.375 4.165 Q4.54 3.94 4.79 3.8 Q5.04 3.66 5.4 3.66 Q5.76 3.66 6.01 3.8 Q6.26 3.94 6.425 4.165 Q6.59 4.39 6.675 4.69 Q6.76 4.99 6.805 5.305 Q6.85 5.62 6.855 5.935 Q6.86 6.25 6.86 6.51 Q6.86 6.91 6.835 7.405 Q6.81 7.9 6.675 8.335 Q6.54 8.77 6.24 9.07 Q5.94 9.37 5.4 9.37 Q4.86 9.37 4.56 9.07 Q4.26 8.77 4.125 8.335 Q3.99 7.9 3.965 7.405 Q3.94 6.91 3.94 6.51 ZM3.04 6.52 Q3.04 6.91 3.06 7.33 Q3.08 7.75 3.16 8.15 Q3.24 8.55 3.39 8.905 Q3.54 9.26 3.8 9.53 Q4.06 9.8 4.455 9.955 Q4.85 10.11 5.4 10.11 Q5.96 10.11 6.35 9.955 Q6.74 9.8 7 9.53 Q7.26 9.26 7.41 8.905 Q7.56 8.55 7.64 8.15 Q7.72 7.75 7.74 7.33 Q7.76 6.91 7.76 6.52 Q7.76 6.13 7.74 5.71 Q7.72 5.29 7.64 4.89 Q7.56 4.49 7.41 4.13 Q7.26 3.77 7 3.5 Q6.74 3.23 6.345 3.07 Q5.95 2.91 5.4 2.91 Q4.85 2.91 4.455 3.07 Q4.06 3.23 3.8 3.5 Q3.54 3.77 3.39 4.13 Q3.24 4.49 3.16 4.89 Q3.08 5.29 3.06 5.71 Q3.04 6.13 3.04 6.52 Z\"\n",
       "    /></g\n",
       "    ><g transform=\"translate(398.5,378)\" style=\"font-size:10px; fill:rgb(38,38,38); text-rendering:geometricPrecision; image-rendering:optimizeQuality; color-rendering:optimizeQuality; font-family:'Helvetica Neue'; stroke:rgb(38,38,38); color-interpolation:linearRGB;\"\n",
       "    ><path style=\"stroke:none;\" d=\"M-8.06 5.42 L-7.21 5.42 Q-7.22 5.1 -7.145 4.785 Q-7.07 4.47 -6.9 4.22 Q-6.73 3.97 -6.465 3.815 Q-6.2 3.66 -5.83 3.66 Q-5.55 3.66 -5.3 3.75 Q-5.05 3.84 -4.865 4.01 Q-4.68 4.18 -4.57 4.415 Q-4.46 4.65 -4.46 4.94 Q-4.46 5.31 -4.575 5.59 Q-4.69 5.87 -4.915 6.11 Q-5.14 6.35 -5.48 6.585 Q-5.82 6.82 -6.27 7.1 Q-6.64 7.32 -6.98 7.57 Q-7.32 7.82 -7.59 8.15 Q-7.86 8.48 -8.035 8.925 Q-8.21 9.37 -8.26 10 L-3.63 10 L-3.63 9.25 L-7.27 9.25 Q-7.21 8.92 -7.015 8.665 Q-6.82 8.41 -6.545 8.19 Q-6.27 7.97 -5.94 7.775 Q-5.61 7.58 -5.28 7.38 Q-4.95 7.17 -4.64 6.94 Q-4.33 6.71 -4.09 6.425 Q-3.85 6.14 -3.705 5.78 Q-3.56 5.42 -3.56 4.95 Q-3.56 4.45 -3.735 4.07 Q-3.91 3.69 -4.21 3.435 Q-4.51 3.18 -4.915 3.045 Q-5.32 2.91 -5.78 2.91 Q-6.34 2.91 -6.78 3.1 Q-7.22 3.29 -7.515 3.625 Q-7.81 3.96 -7.95 4.42 Q-8.09 4.88 -8.06 5.42 ZM-1.62 6.51 Q-1.62 6.25 -1.615 5.935 Q-1.61 5.62 -1.565 5.305 Q-1.52 4.99 -1.435 4.69 Q-1.35 4.39 -1.185 4.165 Q-1.02 3.94 -0.77 3.8 Q-0.52 3.66 -0.16 3.66 Q0.2 3.66 0.45 3.8 Q0.7 3.94 0.865 4.165 Q1.03 4.39 1.115 4.69 Q1.2 4.99 1.245 5.305 Q1.29 5.62 1.295 5.935 Q1.3 6.25 1.3 6.51 Q1.3 6.91 1.275 7.405 Q1.25 7.9 1.115 8.335 Q0.98 8.77 0.68 9.07 Q0.38 9.37 -0.16 9.37 Q-0.7 9.37 -1 9.07 Q-1.3 8.77 -1.435 8.335 Q-1.57 7.9 -1.595 7.405 Q-1.62 6.91 -1.62 6.51 ZM-2.52 6.52 Q-2.52 6.91 -2.5 7.33 Q-2.48 7.75 -2.4 8.15 Q-2.32 8.55 -2.17 8.905 Q-2.02 9.26 -1.76 9.53 Q-1.5 9.8 -1.105 9.955 Q-0.71 10.11 -0.16 10.11 Q0.4 10.11 0.79 9.955 Q1.18 9.8 1.44 9.53 Q1.7 9.26 1.85 8.905 Q2 8.55 2.08 8.15 Q2.16 7.75 2.18 7.33 Q2.2 6.91 2.2 6.52 Q2.2 6.13 2.18 5.71 Q2.16 5.29 2.08 4.89 Q2 4.49 1.85 4.13 Q1.7 3.77 1.44 3.5 Q1.18 3.23 0.785 3.07 Q0.39 2.91 -0.16 2.91 Q-0.71 2.91 -1.105 3.07 Q-1.5 3.23 -1.76 3.5 Q-2.02 3.77 -2.17 4.13 Q-2.32 4.49 -2.4 4.89 Q-2.48 5.29 -2.5 5.71 Q-2.52 6.13 -2.52 6.52 ZM3.94 6.51 Q3.94 6.25 3.945 5.935 Q3.95 5.62 3.995 5.305 Q4.04 4.99 4.125 4.69 Q4.21 4.39 4.375 4.165 Q4.54 3.94 4.79 3.8 Q5.04 3.66 5.4 3.66 Q5.76 3.66 6.01 3.8 Q6.26 3.94 6.425 4.165 Q6.59 4.39 6.675 4.69 Q6.76 4.99 6.805 5.305 Q6.85 5.62 6.855 5.935 Q6.86 6.25 6.86 6.51 Q6.86 6.91 6.835 7.405 Q6.81 7.9 6.675 8.335 Q6.54 8.77 6.24 9.07 Q5.94 9.37 5.4 9.37 Q4.86 9.37 4.56 9.07 Q4.26 8.77 4.125 8.335 Q3.99 7.9 3.965 7.405 Q3.94 6.91 3.94 6.51 ZM3.04 6.52 Q3.04 6.91 3.06 7.33 Q3.08 7.75 3.16 8.15 Q3.24 8.55 3.39 8.905 Q3.54 9.26 3.8 9.53 Q4.06 9.8 4.455 9.955 Q4.85 10.11 5.4 10.11 Q5.96 10.11 6.35 9.955 Q6.74 9.8 7 9.53 Q7.26 9.26 7.41 8.905 Q7.56 8.55 7.64 8.15 Q7.72 7.75 7.74 7.33 Q7.76 6.91 7.76 6.52 Q7.76 6.13 7.74 5.71 Q7.72 5.29 7.64 4.89 Q7.56 4.49 7.41 4.13 Q7.26 3.77 7 3.5 Q6.74 3.23 6.345 3.07 Q5.95 2.91 5.4 2.91 Q4.85 2.91 4.455 3.07 Q4.06 3.23 3.8 3.5 Q3.54 3.77 3.39 4.13 Q3.24 4.49 3.16 4.89 Q3.08 5.29 3.06 5.71 Q3.04 6.13 3.04 6.52 Z\"\n",
       "    /></g\n",
       "    ><g transform=\"translate(452.75,378)\" style=\"font-size:10px; fill:rgb(38,38,38); text-rendering:geometricPrecision; image-rendering:optimizeQuality; color-rendering:optimizeQuality; font-family:'Helvetica Neue'; stroke:rgb(38,38,38); color-interpolation:linearRGB;\"\n",
       "    ><path style=\"stroke:none;\" d=\"M-6.32 5.95 L-6.32 6.67 Q-6.08 6.64 -5.81 6.64 Q-5.49 6.64 -5.215 6.725 Q-4.94 6.81 -4.74 6.985 Q-4.54 7.16 -4.42 7.415 Q-4.3 7.67 -4.3 8 Q-4.3 8.32 -4.425 8.575 Q-4.55 8.83 -4.76 9.005 Q-4.97 9.18 -5.25 9.275 Q-5.53 9.37 -5.84 9.37 Q-6.57 9.37 -6.95 8.935 Q-7.33 8.5 -7.35 7.81 L-8.2 7.81 Q-8.21 8.36 -8.045 8.79 Q-7.88 9.22 -7.57 9.515 Q-7.26 9.81 -6.82 9.96 Q-6.38 10.11 -5.84 10.11 Q-5.34 10.11 -4.895 9.975 Q-4.45 9.84 -4.12 9.57 Q-3.79 9.3 -3.595 8.895 Q-3.4 8.49 -3.4 7.96 Q-3.4 7.32 -3.715 6.85 Q-4.03 6.38 -4.68 6.24 L-4.68 6.22 Q-4.26 6.03 -3.98 5.66 Q-3.7 5.29 -3.7 4.81 Q-3.7 4.32 -3.865 3.96 Q-4.03 3.6 -4.32 3.37 Q-4.61 3.14 -5.005 3.025 Q-5.4 2.91 -5.86 2.91 Q-6.39 2.91 -6.795 3.08 Q-7.2 3.25 -7.47 3.55 Q-7.74 3.85 -7.885 4.27 Q-8.03 4.69 -8.05 5.2 L-7.2 5.2 Q-7.2 4.89 -7.12 4.61 Q-7.04 4.33 -6.875 4.12 Q-6.71 3.91 -6.455 3.785 Q-6.2 3.66 -5.86 3.66 Q-5.32 3.66 -4.96 3.945 Q-4.6 4.23 -4.6 4.8 Q-4.6 5.08 -4.71 5.3 Q-4.82 5.52 -5.005 5.665 Q-5.19 5.81 -5.435 5.885 Q-5.68 5.96 -5.95 5.96 L-6.13 5.96 Q-6.18 5.96 -6.23 5.96 Q-6.27 5.96 -6.32 5.95 ZM-1.62 6.51 Q-1.62 6.25 -1.615 5.935 Q-1.61 5.62 -1.565 5.305 Q-1.52 4.99 -1.435 4.69 Q-1.35 4.39 -1.185 4.165 Q-1.02 3.94 -0.77 3.8 Q-0.52 3.66 -0.16 3.66 Q0.2 3.66 0.45 3.8 Q0.7 3.94 0.865 4.165 Q1.03 4.39 1.115 4.69 Q1.2 4.99 1.245 5.305 Q1.29 5.62 1.295 5.935 Q1.3 6.25 1.3 6.51 Q1.3 6.91 1.275 7.405 Q1.25 7.9 1.115 8.335 Q0.98 8.77 0.68 9.07 Q0.38 9.37 -0.16 9.37 Q-0.7 9.37 -1 9.07 Q-1.3 8.77 -1.435 8.335 Q-1.57 7.9 -1.595 7.405 Q-1.62 6.91 -1.62 6.51 ZM-2.52 6.52 Q-2.52 6.91 -2.5 7.33 Q-2.48 7.75 -2.4 8.15 Q-2.32 8.55 -2.17 8.905 Q-2.02 9.26 -1.76 9.53 Q-1.5 9.8 -1.105 9.955 Q-0.71 10.11 -0.16 10.11 Q0.4 10.11 0.79 9.955 Q1.18 9.8 1.44 9.53 Q1.7 9.26 1.85 8.905 Q2 8.55 2.08 8.15 Q2.16 7.75 2.18 7.33 Q2.2 6.91 2.2 6.52 Q2.2 6.13 2.18 5.71 Q2.16 5.29 2.08 4.89 Q2 4.49 1.85 4.13 Q1.7 3.77 1.44 3.5 Q1.18 3.23 0.785 3.07 Q0.39 2.91 -0.16 2.91 Q-0.71 2.91 -1.105 3.07 Q-1.5 3.23 -1.76 3.5 Q-2.02 3.77 -2.17 4.13 Q-2.32 4.49 -2.4 4.89 Q-2.48 5.29 -2.5 5.71 Q-2.52 6.13 -2.52 6.52 ZM3.94 6.51 Q3.94 6.25 3.945 5.935 Q3.95 5.62 3.995 5.305 Q4.04 4.99 4.125 4.69 Q4.21 4.39 4.375 4.165 Q4.54 3.94 4.79 3.8 Q5.04 3.66 5.4 3.66 Q5.76 3.66 6.01 3.8 Q6.26 3.94 6.425 4.165 Q6.59 4.39 6.675 4.69 Q6.76 4.99 6.805 5.305 Q6.85 5.62 6.855 5.935 Q6.86 6.25 6.86 6.51 Q6.86 6.91 6.835 7.405 Q6.81 7.9 6.675 8.335 Q6.54 8.77 6.24 9.07 Q5.94 9.37 5.4 9.37 Q4.86 9.37 4.56 9.07 Q4.26 8.77 4.125 8.335 Q3.99 7.9 3.965 7.405 Q3.94 6.91 3.94 6.51 ZM3.04 6.52 Q3.04 6.91 3.06 7.33 Q3.08 7.75 3.16 8.15 Q3.24 8.55 3.39 8.905 Q3.54 9.26 3.8 9.53 Q4.06 9.8 4.455 9.955 Q4.85 10.11 5.4 10.11 Q5.96 10.11 6.35 9.955 Q6.74 9.8 7 9.53 Q7.26 9.26 7.41 8.905 Q7.56 8.55 7.64 8.15 Q7.72 7.75 7.74 7.33 Q7.76 6.91 7.76 6.52 Q7.76 6.13 7.74 5.71 Q7.72 5.29 7.64 4.89 Q7.56 4.49 7.41 4.13 Q7.26 3.77 7 3.5 Q6.74 3.23 6.345 3.07 Q5.95 2.91 5.4 2.91 Q4.85 2.91 4.455 3.07 Q4.06 3.23 3.8 3.5 Q3.54 3.77 3.39 4.13 Q3.24 4.49 3.16 4.89 Q3.08 5.29 3.06 5.71 Q3.04 6.13 3.04 6.52 Z\"\n",
       "    /></g\n",
       "    ><g transform=\"translate(507,378)\" style=\"font-size:10px; fill:rgb(38,38,38); text-rendering:geometricPrecision; image-rendering:optimizeQuality; color-rendering:optimizeQuality; font-family:'Helvetica Neue'; stroke:rgb(38,38,38); color-interpolation:linearRGB;\"\n",
       "    ><path style=\"stroke:none;\" d=\"M-5.11 7.59 L-7.49 7.59 L-5.13 4.12 L-5.11 4.12 ZM-4.31 7.59 L-4.31 2.91 L-4.99 2.91 L-8.22 7.52 L-8.22 8.34 L-5.11 8.34 L-5.11 10 L-4.31 10 L-4.31 8.34 L-3.35 8.34 L-3.35 7.59 ZM-1.62 6.51 Q-1.62 6.25 -1.615 5.935 Q-1.61 5.62 -1.565 5.305 Q-1.52 4.99 -1.435 4.69 Q-1.35 4.39 -1.185 4.165 Q-1.02 3.94 -0.77 3.8 Q-0.52 3.66 -0.16 3.66 Q0.2 3.66 0.45 3.8 Q0.7 3.94 0.865 4.165 Q1.03 4.39 1.115 4.69 Q1.2 4.99 1.245 5.305 Q1.29 5.62 1.295 5.935 Q1.3 6.25 1.3 6.51 Q1.3 6.91 1.275 7.405 Q1.25 7.9 1.115 8.335 Q0.98 8.77 0.68 9.07 Q0.38 9.37 -0.16 9.37 Q-0.7 9.37 -1 9.07 Q-1.3 8.77 -1.435 8.335 Q-1.57 7.9 -1.595 7.405 Q-1.62 6.91 -1.62 6.51 ZM-2.52 6.52 Q-2.52 6.91 -2.5 7.33 Q-2.48 7.75 -2.4 8.15 Q-2.32 8.55 -2.17 8.905 Q-2.02 9.26 -1.76 9.53 Q-1.5 9.8 -1.105 9.955 Q-0.71 10.11 -0.16 10.11 Q0.4 10.11 0.79 9.955 Q1.18 9.8 1.44 9.53 Q1.7 9.26 1.85 8.905 Q2 8.55 2.08 8.15 Q2.16 7.75 2.18 7.33 Q2.2 6.91 2.2 6.52 Q2.2 6.13 2.18 5.71 Q2.16 5.29 2.08 4.89 Q2 4.49 1.85 4.13 Q1.7 3.77 1.44 3.5 Q1.18 3.23 0.785 3.07 Q0.39 2.91 -0.16 2.91 Q-0.71 2.91 -1.105 3.07 Q-1.5 3.23 -1.76 3.5 Q-2.02 3.77 -2.17 4.13 Q-2.32 4.49 -2.4 4.89 Q-2.48 5.29 -2.5 5.71 Q-2.52 6.13 -2.52 6.52 ZM3.94 6.51 Q3.94 6.25 3.945 5.935 Q3.95 5.62 3.995 5.305 Q4.04 4.99 4.125 4.69 Q4.21 4.39 4.375 4.165 Q4.54 3.94 4.79 3.8 Q5.04 3.66 5.4 3.66 Q5.76 3.66 6.01 3.8 Q6.26 3.94 6.425 4.165 Q6.59 4.39 6.675 4.69 Q6.76 4.99 6.805 5.305 Q6.85 5.62 6.855 5.935 Q6.86 6.25 6.86 6.51 Q6.86 6.91 6.835 7.405 Q6.81 7.9 6.675 8.335 Q6.54 8.77 6.24 9.07 Q5.94 9.37 5.4 9.37 Q4.86 9.37 4.56 9.07 Q4.26 8.77 4.125 8.335 Q3.99 7.9 3.965 7.405 Q3.94 6.91 3.94 6.51 ZM3.04 6.52 Q3.04 6.91 3.06 7.33 Q3.08 7.75 3.16 8.15 Q3.24 8.55 3.39 8.905 Q3.54 9.26 3.8 9.53 Q4.06 9.8 4.455 9.955 Q4.85 10.11 5.4 10.11 Q5.96 10.11 6.35 9.955 Q6.74 9.8 7 9.53 Q7.26 9.26 7.41 8.905 Q7.56 8.55 7.64 8.15 Q7.72 7.75 7.74 7.33 Q7.76 6.91 7.76 6.52 Q7.76 6.13 7.74 5.71 Q7.72 5.29 7.64 4.89 Q7.56 4.49 7.41 4.13 Q7.26 3.77 7 3.5 Q6.74 3.23 6.345 3.07 Q5.95 2.91 5.4 2.91 Q4.85 2.91 4.455 3.07 Q4.06 3.23 3.8 3.5 Q3.54 3.77 3.39 4.13 Q3.24 4.49 3.16 4.89 Q3.08 5.29 3.06 5.71 Q3.04 6.13 3.04 6.52 Z\"\n",
       "    /></g\n",
       "    ><g transform=\"translate(222,403)\" style=\"font-size:11px; fill:rgb(38,38,38); text-rendering:geometricPrecision; image-rendering:optimizeQuality; color-rendering:optimizeQuality; font-family:'Helvetica Neue'; stroke:rgb(38,38,38); color-interpolation:linearRGB;\"\n",
       "    ><path style=\"stroke:none;\" d=\"M0.858 -7.854 L0.858 0 L1.903 0 L1.903 -3.355 L4.455 -3.355 Q4.84 -3.355 5.071 -3.2395 Q5.302 -3.124 5.445 -2.9315 Q5.588 -2.739 5.654 -2.4805 Q5.72 -2.222 5.764 -1.936 Q5.819 -1.65 5.83 -1.353 Q5.841 -1.056 5.852 -0.7975 Q5.863 -0.539 5.9015 -0.33 Q5.94 -0.121 6.05 0 L7.216 0 Q7.051 -0.198 6.9685 -0.4565 Q6.886 -0.715 6.842 -1.001 Q6.798 -1.287 6.787 -1.584 Q6.776 -1.881 6.754 -2.167 Q6.721 -2.453 6.6605 -2.717 Q6.6 -2.981 6.4735 -3.1955 Q6.347 -3.41 6.1325 -3.564 Q5.918 -3.718 5.577 -3.784 L5.577 -3.806 Q6.292 -4.004 6.6165 -4.543 Q6.941 -5.082 6.941 -5.797 Q6.941 -6.754 6.3085 -7.304 Q5.676 -7.854 4.554 -7.854 ZM4.081 -4.235 L1.903 -4.235 L1.903 -6.974 L4.499 -6.974 Q5.236 -6.974 5.566 -6.6 Q5.896 -6.226 5.896 -5.632 Q5.896 -5.203 5.7475 -4.9335 Q5.599 -4.664 5.3515 -4.5045 Q5.104 -4.345 4.774 -4.29 Q4.444 -4.235 4.081 -4.235 ZM13.277 -0.022 Q13.035 0.121 12.606 0.121 Q12.243 0.121 12.0285 -0.0825 Q11.814 -0.286 11.814 -0.748 Q11.429 -0.286 10.9175 -0.0825 Q10.406 0.121 9.812 0.121 Q9.427 0.121 9.0805 0.033 Q8.734 -0.055 8.481 -0.242 Q8.228 -0.429 8.0795 -0.7315 Q7.931 -1.034 7.931 -1.463 Q7.931 -1.947 8.096 -2.255 Q8.261 -2.563 8.5305 -2.7555 Q8.8 -2.948 9.1465 -3.047 Q9.493 -3.146 9.856 -3.212 Q10.241 -3.289 10.5875 -3.3275 Q10.934 -3.366 11.198 -3.4375 Q11.462 -3.509 11.616 -3.6465 Q11.77 -3.784 11.77 -4.048 Q11.77 -4.356 11.6545 -4.543 Q11.539 -4.73 11.3575 -4.829 Q11.176 -4.928 10.9505 -4.961 Q10.725 -4.994 10.505 -4.994 Q9.911 -4.994 9.515 -4.7685 Q9.119 -4.543 9.086 -3.916 L8.151 -3.916 Q8.173 -4.444 8.371 -4.807 Q8.569 -5.17 8.899 -5.3955 Q9.229 -5.621 9.6525 -5.72 Q10.076 -5.819 10.56 -5.819 Q10.945 -5.819 11.3245 -5.764 Q11.704 -5.709 12.012 -5.5385 Q12.32 -5.368 12.507 -5.06 Q12.694 -4.752 12.694 -4.257 L12.694 -1.331 Q12.694 -1.001 12.7325 -0.847 Q12.771 -0.693 12.991 -0.693 Q13.112 -0.693 13.277 -0.748 ZM11.759 -2.937 Q11.583 -2.805 11.297 -2.7445 Q11.011 -2.684 10.6975 -2.6455 Q10.384 -2.607 10.065 -2.5575 Q9.746 -2.508 9.493 -2.398 Q9.24 -2.288 9.0805 -2.0845 Q8.921 -1.881 8.921 -1.529 Q8.921 -1.298 9.0145 -1.1385 Q9.108 -0.979 9.2565 -0.88 Q9.405 -0.781 9.603 -0.737 Q9.801 -0.693 10.021 -0.693 Q10.483 -0.693 10.813 -0.8195 Q11.143 -0.946 11.352 -1.1385 Q11.561 -1.331 11.66 -1.5565 Q11.759 -1.782 11.759 -1.98 ZM14.828 -2.794 Q14.828 -3.212 14.916 -3.608 Q15.004 -4.004 15.202 -4.312 Q15.4 -4.62 15.73 -4.807 Q16.06 -4.994 16.533 -4.994 Q17.017 -4.994 17.358 -4.8125 Q17.699 -4.631 17.9135 -4.334 Q18.128 -4.037 18.227 -3.6465 Q18.326 -3.256 18.326 -2.838 Q18.326 -2.442 18.2325 -2.057 Q18.139 -1.672 17.93 -1.3695 Q17.721 -1.067 17.391 -0.88 Q17.061 -0.693 16.588 -0.693 Q16.137 -0.693 15.8015 -0.869 Q15.466 -1.045 15.2515 -1.342 Q15.037 -1.639 14.9325 -2.0185 Q14.828 -2.398 14.828 -2.794 ZM19.228 0 L19.228 -7.854 L18.293 -7.854 L18.293 -4.928 L18.271 -4.928 Q18.117 -5.181 17.8915 -5.3515 Q17.666 -5.522 17.413 -5.6265 Q17.16 -5.731 16.907 -5.775 Q16.654 -5.819 16.434 -5.819 Q15.785 -5.819 15.2955 -5.5825 Q14.806 -5.346 14.4815 -4.9445 Q14.157 -4.543 13.9975 -4.004 Q13.838 -3.465 13.838 -2.86 Q13.838 -2.255 14.003 -1.716 Q14.168 -1.177 14.4925 -0.77 Q14.817 -0.363 15.3065 -0.121 Q15.796 0.121 16.456 0.121 Q17.05 0.121 17.545 -0.088 Q18.04 -0.297 18.271 -0.77 L18.293 -0.77 L18.293 0 ZM21.659 -6.71 L21.659 -7.854 L20.724 -7.854 L20.724 -6.71 ZM20.724 -5.687 L20.724 0 L21.659 0 L21.659 -5.687 ZM28.149 -0.022 Q27.907 0.121 27.478 0.121 Q27.115 0.121 26.9005 -0.0825 Q26.686 -0.286 26.686 -0.748 Q26.301 -0.286 25.7895 -0.0825 Q25.278 0.121 24.684 0.121 Q24.299 0.121 23.9525 0.033 Q23.606 -0.055 23.353 -0.242 Q23.1 -0.429 22.9515 -0.7315 Q22.803 -1.034 22.803 -1.463 Q22.803 -1.947 22.968 -2.255 Q23.133 -2.563 23.4025 -2.7555 Q23.672 -2.948 24.0185 -3.047 Q24.365 -3.146 24.728 -3.212 Q25.113 -3.289 25.4595 -3.3275 Q25.806 -3.366 26.07 -3.4375 Q26.334 -3.509 26.488 -3.6465 Q26.642 -3.784 26.642 -4.048 Q26.642 -4.356 26.5265 -4.543 Q26.411 -4.73 26.2295 -4.829 Q26.048 -4.928 25.8225 -4.961 Q25.597 -4.994 25.377 -4.994 Q24.783 -4.994 24.387 -4.7685 Q23.991 -4.543 23.958 -3.916 L23.023 -3.916 Q23.045 -4.444 23.243 -4.807 Q23.441 -5.17 23.771 -5.3955 Q24.101 -5.621 24.5245 -5.72 Q24.948 -5.819 25.432 -5.819 Q25.817 -5.819 26.1965 -5.764 Q26.576 -5.709 26.884 -5.5385 Q27.192 -5.368 27.379 -5.06 Q27.566 -4.752 27.566 -4.257 L27.566 -1.331 Q27.566 -1.001 27.6045 -0.847 Q27.643 -0.693 27.863 -0.693 Q27.984 -0.693 28.149 -0.748 ZM26.631 -2.937 Q26.455 -2.805 26.169 -2.7445 Q25.883 -2.684 25.5695 -2.6455 Q25.256 -2.607 24.937 -2.5575 Q24.618 -2.508 24.365 -2.398 Q24.112 -2.288 23.9525 -2.0845 Q23.793 -1.881 23.793 -1.529 Q23.793 -1.298 23.8865 -1.1385 Q23.98 -0.979 24.1285 -0.88 Q24.277 -0.781 24.475 -0.737 Q24.673 -0.693 24.893 -0.693 Q25.355 -0.693 25.685 -0.8195 Q26.015 -0.946 26.224 -1.1385 Q26.433 -1.331 26.532 -1.5565 Q26.631 -1.782 26.631 -1.98 ZM29.018 -5.687 L29.018 0 L29.953 0 L29.953 -3.212 Q29.953 -3.597 30.0575 -3.9215 Q30.162 -4.246 30.371 -4.488 Q30.58 -4.73 30.8935 -4.862 Q31.207 -4.994 31.636 -4.994 Q32.175 -4.994 32.483 -4.686 Q32.791 -4.378 32.791 -3.85 L32.791 0 L33.726 0 L33.726 -3.74 Q33.726 -4.202 33.6325 -4.5815 Q33.539 -4.961 33.308 -5.236 Q33.077 -5.511 32.703 -5.665 Q32.329 -5.819 31.768 -5.819 Q30.503 -5.819 29.92 -4.785 L29.898 -4.785 L29.898 -5.687 ZM38.346 -7.854 L38.346 0 L39.391 0 L39.391 -3.597 L42.999 -3.597 L42.999 -4.477 L39.391 -4.477 L39.391 -6.974 L43.505 -6.974 L43.505 -7.854 ZM44.473 -5.687 L44.473 0 L45.408 0 L45.408 -2.53 Q45.408 -3.08 45.518 -3.5035 Q45.628 -3.927 45.87 -4.224 Q46.112 -4.521 46.508 -4.675 Q46.904 -4.829 47.465 -4.829 L47.465 -5.819 Q46.706 -5.841 46.211 -5.511 Q45.716 -5.181 45.375 -4.488 L45.353 -4.488 L45.353 -5.687 ZM52.118 -3.388 L48.851 -3.388 Q48.873 -3.718 48.994 -4.0095 Q49.115 -4.301 49.324 -4.521 Q49.533 -4.741 49.8245 -4.8675 Q50.116 -4.994 50.479 -4.994 Q50.831 -4.994 51.1225 -4.8675 Q51.414 -4.741 51.6285 -4.5265 Q51.843 -4.312 51.9695 -4.015 Q52.096 -3.718 52.118 -3.388 ZM53.02 -1.804 L52.096 -1.804 Q51.975 -1.243 51.5955 -0.968 Q51.216 -0.693 50.622 -0.693 Q50.16 -0.693 49.819 -0.847 Q49.478 -1.001 49.258 -1.2595 Q49.038 -1.518 48.939 -1.8535 Q48.84 -2.189 48.851 -2.563 L53.108 -2.563 Q53.13 -3.08 53.0145 -3.652 Q52.899 -4.224 52.5965 -4.708 Q52.294 -5.192 51.7935 -5.5055 Q51.293 -5.819 50.534 -5.819 Q49.951 -5.819 49.4615 -5.599 Q48.972 -5.379 48.6145 -4.983 Q48.257 -4.587 48.059 -4.048 Q47.861 -3.509 47.861 -2.86 Q47.883 -2.211 48.0535 -1.661 Q48.224 -1.111 48.565 -0.715 Q48.906 -0.319 49.4065 -0.099 Q49.907 0.121 50.589 0.121 Q51.557 0.121 52.195 -0.363 Q52.833 -0.847 53.02 -1.804 ZM54.758 -2.794 Q54.758 -3.212 54.846 -3.608 Q54.934 -4.004 55.132 -4.312 Q55.33 -4.62 55.66 -4.807 Q55.99 -4.994 56.463 -4.994 Q56.947 -4.994 57.288 -4.8125 Q57.629 -4.631 57.8435 -4.334 Q58.058 -4.037 58.157 -3.6465 Q58.256 -3.256 58.256 -2.838 Q58.256 -2.442 58.1625 -2.057 Q58.069 -1.672 57.86 -1.3695 Q57.651 -1.067 57.321 -0.88 Q56.991 -0.693 56.518 -0.693 Q56.067 -0.693 55.7315 -0.869 Q55.396 -1.045 55.1815 -1.342 Q54.967 -1.639 54.8625 -2.0185 Q54.758 -2.398 54.758 -2.794 ZM59.158 2.167 L59.158 -5.687 L58.223 -5.687 L58.223 -4.928 L58.201 -4.928 Q58.047 -5.181 57.8215 -5.3515 Q57.596 -5.522 57.343 -5.6265 Q57.09 -5.731 56.837 -5.775 Q56.584 -5.819 56.364 -5.819 Q55.715 -5.819 55.2255 -5.5825 Q54.736 -5.346 54.4115 -4.9445 Q54.087 -4.543 53.9275 -4.004 Q53.768 -3.465 53.768 -2.86 Q53.768 -2.255 53.933 -1.716 Q54.098 -1.177 54.4225 -0.77 Q54.747 -0.363 55.2365 -0.121 Q55.726 0.121 56.386 0.121 Q56.98 0.121 57.475 -0.088 Q57.97 -0.297 58.201 -0.77 L58.223 -0.77 L58.223 2.167 ZM65.307 0 L65.307 -5.687 L64.372 -5.687 L64.372 -2.475 Q64.372 -2.09 64.2675 -1.7655 Q64.163 -1.441 63.954 -1.199 Q63.745 -0.957 63.4315 -0.825 Q63.118 -0.693 62.689 -0.693 Q62.15 -0.693 61.842 -1.001 Q61.534 -1.309 61.534 -1.837 L61.534 -5.687 L60.599 -5.687 L60.599 -1.947 Q60.599 -1.485 60.6925 -1.1055 Q60.786 -0.726 61.017 -0.451 Q61.248 -0.176 61.622 -0.0275 Q61.996 0.121 62.557 0.121 Q63.184 0.121 63.646 -0.1265 Q64.108 -0.374 64.405 -0.902 L64.427 -0.902 L64.427 0 ZM70.664 -3.388 L67.397 -3.388 Q67.419 -3.718 67.54 -4.0095 Q67.661 -4.301 67.87 -4.521 Q68.079 -4.741 68.3705 -4.8675 Q68.662 -4.994 69.025 -4.994 Q69.377 -4.994 69.6685 -4.8675 Q69.96 -4.741 70.1745 -4.5265 Q70.389 -4.312 70.5155 -4.015 Q70.642 -3.718 70.664 -3.388 ZM71.566 -1.804 L70.642 -1.804 Q70.521 -1.243 70.1415 -0.968 Q69.762 -0.693 69.168 -0.693 Q68.706 -0.693 68.365 -0.847 Q68.024 -1.001 67.804 -1.2595 Q67.584 -1.518 67.485 -1.8535 Q67.386 -2.189 67.397 -2.563 L71.654 -2.563 Q71.676 -3.08 71.5605 -3.652 Q71.445 -4.224 71.1425 -4.708 Q70.84 -5.192 70.3395 -5.5055 Q69.839 -5.819 69.08 -5.819 Q68.497 -5.819 68.0075 -5.599 Q67.518 -5.379 67.1605 -4.983 Q66.803 -4.587 66.605 -4.048 Q66.407 -3.509 66.407 -2.86 Q66.429 -2.211 66.5995 -1.661 Q66.77 -1.111 67.111 -0.715 Q67.452 -0.319 67.9525 -0.099 Q68.453 0.121 69.135 0.121 Q70.103 0.121 70.741 -0.363 Q71.379 -0.847 71.566 -1.804 ZM72.622 -5.687 L72.622 0 L73.557 0 L73.557 -3.212 Q73.557 -3.597 73.6615 -3.9215 Q73.766 -4.246 73.975 -4.488 Q74.184 -4.73 74.4975 -4.862 Q74.811 -4.994 75.24 -4.994 Q75.779 -4.994 76.087 -4.686 Q76.395 -4.378 76.395 -3.85 L76.395 0 L77.33 0 L77.33 -3.74 Q77.33 -4.202 77.2365 -4.5815 Q77.143 -4.961 76.912 -5.236 Q76.681 -5.511 76.307 -5.665 Q75.933 -5.819 75.372 -5.819 Q74.107 -5.819 73.524 -4.785 L73.502 -4.785 L73.502 -5.687 ZM82.599 -3.861 L83.567 -3.861 Q83.512 -4.367 83.303 -4.7355 Q83.094 -5.104 82.7695 -5.346 Q82.445 -5.588 82.0215 -5.7035 Q81.598 -5.819 81.114 -5.819 Q80.443 -5.819 79.937 -5.5825 Q79.431 -5.346 79.0955 -4.9335 Q78.76 -4.521 78.595 -3.9655 Q78.43 -3.41 78.43 -2.772 Q78.43 -2.134 78.6005 -1.6005 Q78.771 -1.067 79.1065 -0.682 Q79.442 -0.297 79.9425 -0.088 Q80.443 0.121 81.092 0.121 Q82.181 0.121 82.8135 -0.451 Q83.446 -1.023 83.6 -2.079 L82.643 -2.079 Q82.555 -1.419 82.1645 -1.056 Q81.774 -0.693 81.081 -0.693 Q80.641 -0.693 80.322 -0.869 Q80.003 -1.045 79.805 -1.3365 Q79.607 -1.628 79.5135 -2.002 Q79.42 -2.376 79.42 -2.772 Q79.42 -3.201 79.508 -3.6025 Q79.596 -4.004 79.7995 -4.312 Q80.003 -4.62 80.344 -4.807 Q80.685 -4.994 81.191 -4.994 Q81.785 -4.994 82.137 -4.697 Q82.489 -4.4 82.599 -3.861 ZM86.878 0.759 Q86.713 1.177 86.5535 1.463 Q86.394 1.749 86.2015 1.9305 Q86.009 2.112 85.7725 2.1945 Q85.536 2.277 85.228 2.277 Q85.063 2.277 84.898 2.255 Q84.733 2.233 84.579 2.178 L84.579 1.32 Q84.7 1.375 84.8595 1.4135 Q85.019 1.452 85.129 1.452 Q85.415 1.452 85.6075 1.3145 Q85.8 1.177 85.899 0.924 L86.284 -0.033 L84.029 -5.687 L85.085 -5.687 L86.746 -1.034 L86.768 -1.034 L88.363 -5.687 L89.353 -5.687 Z\"\n",
       "    /></g\n",
       "    ><g transform=\"translate(315,403)\" style=\"font-size:11px; fill:rgb(38,38,38); text-rendering:geometricPrecision; image-rendering:optimizeQuality; color-rendering:optimizeQuality; font-family:'mwa_cmmi10'; stroke:rgb(38,38,38); color-interpolation:linearRGB;\"\n",
       "    ><path style=\"stroke:none;\" d=\"M1.3281 0.125 Q0.7031 0.125 0.4297 -0.3359 Q0.1562 -0.7969 0.1562 -1.4531 Q0.1562 -1.8906 0.2344 -2.3047 Q0.3125 -2.7188 0.4688 -3.1484 Q0.625 -3.5781 0.8281 -3.9453 Q1.0312 -4.3125 1.2969 -4.6719 Q1.3438 -4.75 1.4219 -4.75 Q1.4844 -4.75 1.5312 -4.7031 Q1.5781 -4.6562 1.5781 -4.5938 Q1.5781 -4.5312 1.5469 -4.4844 Q0.5312 -3.1094 0.5312 -1.9375 Q0.5312 -1.4375 0.7656 -1.0781 Q1 -0.7188 1.4844 -0.7188 Q1.8906 -0.7188 2.2422 -0.9609 Q2.5938 -1.2031 2.8594 -1.5781 Q2.8594 -1.7656 2.9219 -2.1719 Q2.9844 -2.5781 3.1328 -2.8984 Q3.2812 -3.2188 3.4688 -3.2188 Q3.7344 -3.2188 3.7344 -2.9219 Q3.7344 -2.75 3.6562 -2.4922 Q3.5781 -2.2344 3.4922 -2.0078 Q3.4062 -1.7812 3.2812 -1.5 Q3.4062 -0.7188 4.0625 -0.7188 Q4.4375 -0.7188 4.8203 -0.9375 Q5.2031 -1.1562 5.5 -1.5156 Q5.7969 -1.875 5.9688 -2.2891 Q6.1406 -2.7031 6.1406 -3.0625 Q6.1406 -3.4062 6.0391 -3.5859 Q5.9375 -3.7656 5.7656 -3.9688 Q5.5938 -4.1719 5.5938 -4.2969 Q5.5938 -4.5156 5.7734 -4.6953 Q5.9531 -4.875 6.1562 -4.875 Q6.4219 -4.875 6.5391 -4.6328 Q6.6562 -4.3906 6.6562 -4.0781 Q6.6562 -3.5625 6.4531 -2.7969 Q6.25 -2.0312 6 -1.5156 Q5.6406 -0.8281 5.1094 -0.3516 Q4.5781 0.125 3.9062 0.125 Q3.4844 0.125 3.2188 -0.1328 Q2.9531 -0.3906 2.8906 -0.8281 Q2.5781 -0.3906 2.1875 -0.1328 Q1.7969 0.125 1.3281 0.125 Z\"\n",
       "    /></g\n",
       "    ><g transform=\"translate(322,403)\" style=\"font-size:11px; fill:rgb(38,38,38); text-rendering:geometricPrecision; image-rendering:optimizeQuality; color-rendering:optimizeQuality; font-family:'Helvetica Neue'; stroke:rgb(38,38,38); color-interpolation:linearRGB;\"\n",
       "    ><path style=\"stroke:none;\" d=\"M5.907 -7.293 L5.907 -8.041 L3.85 -8.041 L3.85 2.167 L5.907 2.167 L5.907 1.419 L4.73 1.419 L4.73 -7.293 ZM6.578 -5.687 L6.578 0 L7.513 0 L7.513 -2.53 Q7.513 -3.08 7.623 -3.5035 Q7.733 -3.927 7.975 -4.224 Q8.217 -4.521 8.613 -4.675 Q9.009 -4.829 9.57 -4.829 L9.57 -5.819 Q8.811 -5.841 8.316 -5.511 Q7.821 -5.181 7.48 -4.488 L7.458 -4.488 L7.458 -5.687 ZM15.312 -0.022 Q15.07 0.121 14.641 0.121 Q14.278 0.121 14.0635 -0.0825 Q13.849 -0.286 13.849 -0.748 Q13.464 -0.286 12.9525 -0.0825 Q12.441 0.121 11.847 0.121 Q11.462 0.121 11.1155 0.033 Q10.769 -0.055 10.516 -0.242 Q10.263 -0.429 10.1145 -0.7315 Q9.966 -1.034 9.966 -1.463 Q9.966 -1.947 10.131 -2.255 Q10.296 -2.563 10.5655 -2.7555 Q10.835 -2.948 11.1815 -3.047 Q11.528 -3.146 11.891 -3.212 Q12.276 -3.289 12.6225 -3.3275 Q12.969 -3.366 13.233 -3.4375 Q13.497 -3.509 13.651 -3.6465 Q13.805 -3.784 13.805 -4.048 Q13.805 -4.356 13.6895 -4.543 Q13.574 -4.73 13.3925 -4.829 Q13.211 -4.928 12.9855 -4.961 Q12.76 -4.994 12.54 -4.994 Q11.946 -4.994 11.55 -4.7685 Q11.154 -4.543 11.121 -3.916 L10.186 -3.916 Q10.208 -4.444 10.406 -4.807 Q10.604 -5.17 10.934 -5.3955 Q11.264 -5.621 11.6875 -5.72 Q12.111 -5.819 12.595 -5.819 Q12.98 -5.819 13.3595 -5.764 Q13.739 -5.709 14.047 -5.5385 Q14.355 -5.368 14.542 -5.06 Q14.729 -4.752 14.729 -4.257 L14.729 -1.331 Q14.729 -1.001 14.7675 -0.847 Q14.806 -0.693 15.026 -0.693 Q15.147 -0.693 15.312 -0.748 ZM13.794 -2.937 Q13.618 -2.805 13.332 -2.7445 Q13.046 -2.684 12.7325 -2.6455 Q12.419 -2.607 12.1 -2.5575 Q11.781 -2.508 11.528 -2.398 Q11.275 -2.288 11.1155 -2.0845 Q10.956 -1.881 10.956 -1.529 Q10.956 -1.298 11.0495 -1.1385 Q11.143 -0.979 11.2915 -0.88 Q11.44 -0.781 11.638 -0.737 Q11.836 -0.693 12.056 -0.693 Q12.518 -0.693 12.848 -0.8195 Q13.178 -0.946 13.387 -1.1385 Q13.596 -1.331 13.695 -1.5565 Q13.794 -1.782 13.794 -1.98 ZM16.863 -2.794 Q16.863 -3.212 16.951 -3.608 Q17.039 -4.004 17.237 -4.312 Q17.435 -4.62 17.765 -4.807 Q18.095 -4.994 18.568 -4.994 Q19.052 -4.994 19.393 -4.8125 Q19.734 -4.631 19.9485 -4.334 Q20.163 -4.037 20.262 -3.6465 Q20.361 -3.256 20.361 -2.838 Q20.361 -2.442 20.2675 -2.057 Q20.174 -1.672 19.965 -1.3695 Q19.756 -1.067 19.426 -0.88 Q19.096 -0.693 18.623 -0.693 Q18.172 -0.693 17.8365 -0.869 Q17.501 -1.045 17.2865 -1.342 Q17.072 -1.639 16.9675 -2.0185 Q16.863 -2.398 16.863 -2.794 ZM21.263 0 L21.263 -7.854 L20.328 -7.854 L20.328 -4.928 L20.306 -4.928 Q20.152 -5.181 19.9265 -5.3515 Q19.701 -5.522 19.448 -5.6265 Q19.195 -5.731 18.942 -5.775 Q18.689 -5.819 18.469 -5.819 Q17.82 -5.819 17.3305 -5.5825 Q16.841 -5.346 16.5165 -4.9445 Q16.192 -4.543 16.0325 -4.004 Q15.873 -3.465 15.873 -2.86 Q15.873 -2.255 16.038 -1.716 Q16.203 -1.177 16.5275 -0.77 Q16.852 -0.363 17.3415 -0.121 Q17.831 0.121 18.491 0.121 Q19.085 0.121 19.58 -0.088 Q20.075 -0.297 20.306 -0.77 L20.328 -0.77 L20.328 0 ZM25.058 -8.041 L21.813 0.176 L22.605 0.176 L25.861 -8.041 ZM26.939 -1.793 L26.004 -1.793 Q26.026 -1.265 26.224 -0.8965 Q26.422 -0.528 26.752 -0.3025 Q27.082 -0.077 27.511 0.022 Q27.94 0.121 28.413 0.121 Q28.842 0.121 29.2765 0.0385 Q29.711 -0.044 30.0575 -0.253 Q30.404 -0.462 30.6185 -0.803 Q30.833 -1.144 30.833 -1.661 Q30.833 -2.068 30.6735 -2.343 Q30.514 -2.618 30.2555 -2.7995 Q29.997 -2.981 29.6615 -3.091 Q29.326 -3.201 28.974 -3.278 Q28.644 -3.355 28.314 -3.4265 Q27.984 -3.498 27.72 -3.6025 Q27.456 -3.707 27.2855 -3.8665 Q27.115 -4.026 27.115 -4.268 Q27.115 -4.488 27.225 -4.6255 Q27.335 -4.763 27.511 -4.8455 Q27.687 -4.928 27.9015 -4.961 Q28.116 -4.994 28.325 -4.994 Q28.556 -4.994 28.7815 -4.9445 Q29.007 -4.895 29.194 -4.785 Q29.381 -4.675 29.502 -4.4935 Q29.623 -4.312 29.645 -4.037 L30.58 -4.037 Q30.547 -4.554 30.36 -4.9005 Q30.173 -5.247 29.8595 -5.4505 Q29.546 -5.654 29.139 -5.7365 Q28.732 -5.819 28.248 -5.819 Q27.874 -5.819 27.4945 -5.7255 Q27.115 -5.632 26.8125 -5.4395 Q26.51 -5.247 26.3175 -4.939 Q26.125 -4.631 26.125 -4.202 Q26.125 -3.652 26.4 -3.344 Q26.675 -3.036 27.0875 -2.8655 Q27.5 -2.695 27.984 -2.6015 Q28.468 -2.508 28.8805 -2.3925 Q29.293 -2.277 29.568 -2.09 Q29.843 -1.903 29.843 -1.54 Q29.843 -1.276 29.711 -1.1055 Q29.579 -0.935 29.3755 -0.847 Q29.172 -0.759 28.93 -0.726 Q28.688 -0.693 28.468 -0.693 Q28.182 -0.693 27.9125 -0.748 Q27.643 -0.803 27.4285 -0.9295 Q27.214 -1.056 27.082 -1.2705 Q26.95 -1.485 26.939 -1.793 ZM31.163 1.419 L31.163 2.167 L33.22 2.167 L33.22 -8.041 L31.163 -8.041 L31.163 -7.293 L32.34 -7.293 L32.34 1.419 Z\"\n",
       "    /></g\n",
       "    ><g style=\"fill:rgb(38,38,38); text-rendering:geometricPrecision; image-rendering:optimizeQuality; color-rendering:optimizeQuality; stroke-linejoin:round; stroke:rgb(38,38,38); color-interpolation:linearRGB; stroke-width:0.5;\"\n",
       "    ><line y2=\"31\" style=\"fill:none;\" x1=\"73\" x2=\"73\" y1=\"374\"\n",
       "      /><line y2=\"31\" style=\"fill:none;\" x1=\"507\" x2=\"507\" y1=\"374\"\n",
       "      /><line y2=\"374\" style=\"fill:none;\" x1=\"73\" x2=\"77.34\" y1=\"374\"\n",
       "      /><line y2=\"339.7\" style=\"fill:none;\" x1=\"73\" x2=\"77.34\" y1=\"339.7\"\n",
       "      /><line y2=\"305.4\" style=\"fill:none;\" x1=\"73\" x2=\"77.34\" y1=\"305.4\"\n",
       "      /><line y2=\"271.1\" style=\"fill:none;\" x1=\"73\" x2=\"77.34\" y1=\"271.1\"\n",
       "      /><line y2=\"236.8\" style=\"fill:none;\" x1=\"73\" x2=\"77.34\" y1=\"236.8\"\n",
       "      /><line y2=\"202.5\" style=\"fill:none;\" x1=\"73\" x2=\"77.34\" y1=\"202.5\"\n",
       "      /><line y2=\"168.2\" style=\"fill:none;\" x1=\"73\" x2=\"77.34\" y1=\"168.2\"\n",
       "      /><line y2=\"133.9\" style=\"fill:none;\" x1=\"73\" x2=\"77.34\" y1=\"133.9\"\n",
       "      /><line y2=\"99.6\" style=\"fill:none;\" x1=\"73\" x2=\"77.34\" y1=\"99.6\"\n",
       "      /><line y2=\"65.3\" style=\"fill:none;\" x1=\"73\" x2=\"77.34\" y1=\"65.3\"\n",
       "      /><line y2=\"31\" style=\"fill:none;\" x1=\"73\" x2=\"77.34\" y1=\"31\"\n",
       "      /><line y2=\"374\" style=\"fill:none;\" x1=\"507\" x2=\"502.66\" y1=\"374\"\n",
       "      /><line y2=\"339.7\" style=\"fill:none;\" x1=\"507\" x2=\"502.66\" y1=\"339.7\"\n",
       "      /><line y2=\"305.4\" style=\"fill:none;\" x1=\"507\" x2=\"502.66\" y1=\"305.4\"\n",
       "      /><line y2=\"271.1\" style=\"fill:none;\" x1=\"507\" x2=\"502.66\" y1=\"271.1\"\n",
       "      /><line y2=\"236.8\" style=\"fill:none;\" x1=\"507\" x2=\"502.66\" y1=\"236.8\"\n",
       "      /><line y2=\"202.5\" style=\"fill:none;\" x1=\"507\" x2=\"502.66\" y1=\"202.5\"\n",
       "      /><line y2=\"168.2\" style=\"fill:none;\" x1=\"507\" x2=\"502.66\" y1=\"168.2\"\n",
       "      /><line y2=\"133.9\" style=\"fill:none;\" x1=\"507\" x2=\"502.66\" y1=\"133.9\"\n",
       "      /><line y2=\"99.6\" style=\"fill:none;\" x1=\"507\" x2=\"502.66\" y1=\"99.6\"\n",
       "      /><line y2=\"65.3\" style=\"fill:none;\" x1=\"507\" x2=\"502.66\" y1=\"65.3\"\n",
       "      /><line y2=\"31\" style=\"fill:none;\" x1=\"507\" x2=\"502.66\" y1=\"31\"\n",
       "    /></g\n",
       "    ><g transform=\"translate(69,374)\" style=\"font-size:10px; fill:rgb(38,38,38); text-rendering:geometricPrecision; image-rendering:optimizeQuality; color-rendering:optimizeQuality; font-family:'Helvetica Neue'; stroke:rgb(38,38,38); color-interpolation:linearRGB;\"\n",
       "    ><path style=\"stroke:none;\" d=\"M-4.68 0.01 Q-4.68 -0.25 -4.675 -0.565 Q-4.67 -0.88 -4.625 -1.195 Q-4.58 -1.51 -4.495 -1.81 Q-4.41 -2.11 -4.245 -2.335 Q-4.08 -2.56 -3.83 -2.7 Q-3.58 -2.84 -3.22 -2.84 Q-2.86 -2.84 -2.61 -2.7 Q-2.36 -2.56 -2.195 -2.335 Q-2.03 -2.11 -1.945 -1.81 Q-1.86 -1.51 -1.815 -1.195 Q-1.77 -0.88 -1.765 -0.565 Q-1.76 -0.25 -1.76 0.01 Q-1.76 0.41 -1.785 0.905 Q-1.81 1.4 -1.945 1.835 Q-2.08 2.27 -2.38 2.57 Q-2.68 2.87 -3.22 2.87 Q-3.76 2.87 -4.06 2.57 Q-4.36 2.27 -4.495 1.835 Q-4.63 1.4 -4.655 0.905 Q-4.68 0.41 -4.68 0.01 ZM-5.58 0.02 Q-5.58 0.41 -5.56 0.83 Q-5.54 1.25 -5.46 1.65 Q-5.38 2.05 -5.23 2.405 Q-5.08 2.76 -4.82 3.03 Q-4.56 3.3 -4.165 3.455 Q-3.77 3.61 -3.22 3.61 Q-2.66 3.61 -2.27 3.455 Q-1.88 3.3 -1.62 3.03 Q-1.36 2.76 -1.21 2.405 Q-1.06 2.05 -0.98 1.65 Q-0.9 1.25 -0.88 0.83 Q-0.86 0.41 -0.86 0.02 Q-0.86 -0.37 -0.88 -0.79 Q-0.9 -1.21 -0.98 -1.61 Q-1.06 -2.01 -1.21 -2.37 Q-1.36 -2.73 -1.62 -3 Q-1.88 -3.27 -2.275 -3.43 Q-2.67 -3.59 -3.22 -3.59 Q-3.77 -3.59 -4.165 -3.43 Q-4.56 -3.27 -4.82 -3 Q-5.08 -2.73 -5.23 -2.37 Q-5.38 -2.01 -5.46 -1.61 Q-5.54 -1.21 -5.56 -0.79 Q-5.58 -0.37 -5.58 0.02 Z\"\n",
       "    /></g\n",
       "    ><g transform=\"translate(69,339.7)\" style=\"font-size:10px; fill:rgb(38,38,38); text-rendering:geometricPrecision; image-rendering:optimizeQuality; color-rendering:optimizeQuality; font-family:'Helvetica Neue'; stroke:rgb(38,38,38); color-interpolation:linearRGB;\"\n",
       "    ><path style=\"stroke:none;\" d=\"M-12.68 0.01 Q-12.68 -0.25 -12.675 -0.565 Q-12.67 -0.88 -12.625 -1.195 Q-12.58 -1.51 -12.495 -1.81 Q-12.41 -2.11 -12.245 -2.335 Q-12.08 -2.56 -11.83 -2.7 Q-11.58 -2.84 -11.22 -2.84 Q-10.86 -2.84 -10.61 -2.7 Q-10.36 -2.56 -10.195 -2.335 Q-10.03 -2.11 -9.945 -1.81 Q-9.86 -1.51 -9.815 -1.195 Q-9.77 -0.88 -9.765 -0.565 Q-9.76 -0.25 -9.76 0.01 Q-9.76 0.41 -9.785 0.905 Q-9.81 1.4 -9.945 1.835 Q-10.08 2.27 -10.38 2.57 Q-10.68 2.87 -11.22 2.87 Q-11.76 2.87 -12.06 2.57 Q-12.36 2.27 -12.495 1.835 Q-12.63 1.4 -12.655 0.905 Q-12.68 0.41 -12.68 0.01 ZM-13.58 0.02 Q-13.58 0.41 -13.56 0.83 Q-13.54 1.25 -13.46 1.65 Q-13.38 2.05 -13.23 2.405 Q-13.08 2.76 -12.82 3.03 Q-12.56 3.3 -12.165 3.455 Q-11.77 3.61 -11.22 3.61 Q-10.66 3.61 -10.27 3.455 Q-9.88 3.3 -9.62 3.03 Q-9.36 2.76 -9.21 2.405 Q-9.06 2.05 -8.98 1.65 Q-8.9 1.25 -8.88 0.83 Q-8.86 0.41 -8.86 0.02 Q-8.86 -0.37 -8.88 -0.79 Q-8.9 -1.21 -8.98 -1.61 Q-9.06 -2.01 -9.21 -2.37 Q-9.36 -2.73 -9.62 -3 Q-9.88 -3.27 -10.275 -3.43 Q-10.67 -3.59 -11.22 -3.59 Q-11.77 -3.59 -12.165 -3.43 Q-12.56 -3.27 -12.82 -3 Q-13.08 -2.73 -13.23 -2.37 Q-13.38 -2.01 -13.46 -1.61 Q-13.54 -1.21 -13.56 -0.79 Q-13.58 -0.37 -13.58 0.02 ZM-7.61 2.39 L-7.61 3.5 L-6.5 3.5 L-6.5 2.39 ZM-2.1 3.5 L-2.1 -3.59 L-2.75 -3.59 Q-2.82 -3.19 -3.01 -2.93 Q-3.2 -2.67 -3.475 -2.52 Q-3.75 -2.37 -4.09 -2.315 Q-4.43 -2.26 -4.79 -2.26 L-4.79 -1.58 L-2.95 -1.58 L-2.95 3.5 Z\"\n",
       "    /></g\n",
       "    ><g transform=\"translate(69,305.4)\" style=\"font-size:10px; fill:rgb(38,38,38); text-rendering:geometricPrecision; image-rendering:optimizeQuality; color-rendering:optimizeQuality; font-family:'Helvetica Neue'; stroke:rgb(38,38,38); color-interpolation:linearRGB;\"\n",
       "    ><path style=\"stroke:none;\" d=\"M-12.68 0.01 Q-12.68 -0.25 -12.675 -0.565 Q-12.67 -0.88 -12.625 -1.195 Q-12.58 -1.51 -12.495 -1.81 Q-12.41 -2.11 -12.245 -2.335 Q-12.08 -2.56 -11.83 -2.7 Q-11.58 -2.84 -11.22 -2.84 Q-10.86 -2.84 -10.61 -2.7 Q-10.36 -2.56 -10.195 -2.335 Q-10.03 -2.11 -9.945 -1.81 Q-9.86 -1.51 -9.815 -1.195 Q-9.77 -0.88 -9.765 -0.565 Q-9.76 -0.25 -9.76 0.01 Q-9.76 0.41 -9.785 0.905 Q-9.81 1.4 -9.945 1.835 Q-10.08 2.27 -10.38 2.57 Q-10.68 2.87 -11.22 2.87 Q-11.76 2.87 -12.06 2.57 Q-12.36 2.27 -12.495 1.835 Q-12.63 1.4 -12.655 0.905 Q-12.68 0.41 -12.68 0.01 ZM-13.58 0.02 Q-13.58 0.41 -13.56 0.83 Q-13.54 1.25 -13.46 1.65 Q-13.38 2.05 -13.23 2.405 Q-13.08 2.76 -12.82 3.03 Q-12.56 3.3 -12.165 3.455 Q-11.77 3.61 -11.22 3.61 Q-10.66 3.61 -10.27 3.455 Q-9.88 3.3 -9.62 3.03 Q-9.36 2.76 -9.21 2.405 Q-9.06 2.05 -8.98 1.65 Q-8.9 1.25 -8.88 0.83 Q-8.86 0.41 -8.86 0.02 Q-8.86 -0.37 -8.88 -0.79 Q-8.9 -1.21 -8.98 -1.61 Q-9.06 -2.01 -9.21 -2.37 Q-9.36 -2.73 -9.62 -3 Q-9.88 -3.27 -10.275 -3.43 Q-10.67 -3.59 -11.22 -3.59 Q-11.77 -3.59 -12.165 -3.43 Q-12.56 -3.27 -12.82 -3 Q-13.08 -2.73 -13.23 -2.37 Q-13.38 -2.01 -13.46 -1.61 Q-13.54 -1.21 -13.56 -0.79 Q-13.58 -0.37 -13.58 0.02 ZM-7.61 2.39 L-7.61 3.5 L-6.5 3.5 L-6.5 2.39 ZM-5.22 -1.08 L-4.37 -1.08 Q-4.38 -1.4 -4.305 -1.715 Q-4.23 -2.03 -4.06 -2.28 Q-3.89 -2.53 -3.625 -2.685 Q-3.36 -2.84 -2.99 -2.84 Q-2.71 -2.84 -2.46 -2.75 Q-2.21 -2.66 -2.025 -2.49 Q-1.84 -2.32 -1.73 -2.085 Q-1.62 -1.85 -1.62 -1.56 Q-1.62 -1.19 -1.735 -0.91 Q-1.85 -0.63 -2.075 -0.39 Q-2.3 -0.15 -2.64 0.085 Q-2.98 0.32 -3.43 0.6 Q-3.8 0.82 -4.14 1.07 Q-4.48 1.32 -4.75 1.65 Q-5.02 1.98 -5.195 2.425 Q-5.37 2.87 -5.42 3.5 L-0.79 3.5 L-0.79 2.75 L-4.43 2.75 Q-4.37 2.42 -4.175 2.165 Q-3.98 1.91 -3.705 1.69 Q-3.43 1.47 -3.1 1.275 Q-2.77 1.08 -2.44 0.88 Q-2.11 0.67 -1.8 0.44 Q-1.49 0.21 -1.25 -0.075 Q-1.01 -0.36 -0.865 -0.72 Q-0.72 -1.08 -0.72 -1.55 Q-0.72 -2.05 -0.895 -2.43 Q-1.07 -2.81 -1.37 -3.065 Q-1.67 -3.32 -2.075 -3.455 Q-2.48 -3.59 -2.94 -3.59 Q-3.5 -3.59 -3.94 -3.4 Q-4.38 -3.21 -4.675 -2.875 Q-4.97 -2.54 -5.11 -2.08 Q-5.25 -1.62 -5.22 -1.08 Z\"\n",
       "    /></g\n",
       "    ><g transform=\"translate(69,271.1)\" style=\"font-size:10px; fill:rgb(38,38,38); text-rendering:geometricPrecision; image-rendering:optimizeQuality; color-rendering:optimizeQuality; font-family:'Helvetica Neue'; stroke:rgb(38,38,38); color-interpolation:linearRGB;\"\n",
       "    ><path style=\"stroke:none;\" d=\"M-12.68 0.01 Q-12.68 -0.25 -12.675 -0.565 Q-12.67 -0.88 -12.625 -1.195 Q-12.58 -1.51 -12.495 -1.81 Q-12.41 -2.11 -12.245 -2.335 Q-12.08 -2.56 -11.83 -2.7 Q-11.58 -2.84 -11.22 -2.84 Q-10.86 -2.84 -10.61 -2.7 Q-10.36 -2.56 -10.195 -2.335 Q-10.03 -2.11 -9.945 -1.81 Q-9.86 -1.51 -9.815 -1.195 Q-9.77 -0.88 -9.765 -0.565 Q-9.76 -0.25 -9.76 0.01 Q-9.76 0.41 -9.785 0.905 Q-9.81 1.4 -9.945 1.835 Q-10.08 2.27 -10.38 2.57 Q-10.68 2.87 -11.22 2.87 Q-11.76 2.87 -12.06 2.57 Q-12.36 2.27 -12.495 1.835 Q-12.63 1.4 -12.655 0.905 Q-12.68 0.41 -12.68 0.01 ZM-13.58 0.02 Q-13.58 0.41 -13.56 0.83 Q-13.54 1.25 -13.46 1.65 Q-13.38 2.05 -13.23 2.405 Q-13.08 2.76 -12.82 3.03 Q-12.56 3.3 -12.165 3.455 Q-11.77 3.61 -11.22 3.61 Q-10.66 3.61 -10.27 3.455 Q-9.88 3.3 -9.62 3.03 Q-9.36 2.76 -9.21 2.405 Q-9.06 2.05 -8.98 1.65 Q-8.9 1.25 -8.88 0.83 Q-8.86 0.41 -8.86 0.02 Q-8.86 -0.37 -8.88 -0.79 Q-8.9 -1.21 -8.98 -1.61 Q-9.06 -2.01 -9.21 -2.37 Q-9.36 -2.73 -9.62 -3 Q-9.88 -3.27 -10.275 -3.43 Q-10.67 -3.59 -11.22 -3.59 Q-11.77 -3.59 -12.165 -3.43 Q-12.56 -3.27 -12.82 -3 Q-13.08 -2.73 -13.23 -2.37 Q-13.38 -2.01 -13.46 -1.61 Q-13.54 -1.21 -13.56 -0.79 Q-13.58 -0.37 -13.58 0.02 ZM-7.61 2.39 L-7.61 3.5 L-6.5 3.5 L-6.5 2.39 ZM-3.48 -0.55 L-3.48 0.17 Q-3.24 0.14 -2.97 0.14 Q-2.65 0.14 -2.375 0.225 Q-2.1 0.31 -1.9 0.485 Q-1.7 0.66 -1.58 0.915 Q-1.46 1.17 -1.46 1.5 Q-1.46 1.82 -1.585 2.075 Q-1.71 2.33 -1.92 2.505 Q-2.13 2.68 -2.41 2.775 Q-2.69 2.87 -3 2.87 Q-3.73 2.87 -4.11 2.435 Q-4.49 2 -4.51 1.31 L-5.36 1.31 Q-5.37 1.86 -5.205 2.29 Q-5.04 2.72 -4.73 3.015 Q-4.42 3.31 -3.98 3.46 Q-3.54 3.61 -3 3.61 Q-2.5 3.61 -2.055 3.475 Q-1.61 3.34 -1.28 3.07 Q-0.95 2.8 -0.755 2.395 Q-0.56 1.99 -0.56 1.46 Q-0.56 0.82 -0.875 0.35 Q-1.19 -0.12 -1.84 -0.26 L-1.84 -0.28 Q-1.42 -0.47 -1.14 -0.84 Q-0.86 -1.21 -0.86 -1.69 Q-0.86 -2.18 -1.025 -2.54 Q-1.19 -2.9 -1.48 -3.13 Q-1.77 -3.36 -2.165 -3.475 Q-2.56 -3.59 -3.02 -3.59 Q-3.55 -3.59 -3.955 -3.42 Q-4.36 -3.25 -4.63 -2.95 Q-4.9 -2.65 -5.045 -2.23 Q-5.19 -1.81 -5.21 -1.3 L-4.36 -1.3 Q-4.36 -1.61 -4.28 -1.89 Q-4.2 -2.17 -4.035 -2.38 Q-3.87 -2.59 -3.615 -2.715 Q-3.36 -2.84 -3.02 -2.84 Q-2.48 -2.84 -2.12 -2.555 Q-1.76 -2.27 -1.76 -1.7 Q-1.76 -1.42 -1.87 -1.2 Q-1.98 -0.98 -2.165 -0.835 Q-2.35 -0.69 -2.595 -0.615 Q-2.84 -0.54 -3.11 -0.54 L-3.29 -0.54 Q-3.34 -0.54 -3.39 -0.54 Q-3.43 -0.54 -3.48 -0.55 Z\"\n",
       "    /></g\n",
       "    ><g transform=\"translate(69,236.8)\" style=\"font-size:10px; fill:rgb(38,38,38); text-rendering:geometricPrecision; image-rendering:optimizeQuality; color-rendering:optimizeQuality; font-family:'Helvetica Neue'; stroke:rgb(38,38,38); color-interpolation:linearRGB;\"\n",
       "    ><path style=\"stroke:none;\" d=\"M-12.68 0.01 Q-12.68 -0.25 -12.675 -0.565 Q-12.67 -0.88 -12.625 -1.195 Q-12.58 -1.51 -12.495 -1.81 Q-12.41 -2.11 -12.245 -2.335 Q-12.08 -2.56 -11.83 -2.7 Q-11.58 -2.84 -11.22 -2.84 Q-10.86 -2.84 -10.61 -2.7 Q-10.36 -2.56 -10.195 -2.335 Q-10.03 -2.11 -9.945 -1.81 Q-9.86 -1.51 -9.815 -1.195 Q-9.77 -0.88 -9.765 -0.565 Q-9.76 -0.25 -9.76 0.01 Q-9.76 0.41 -9.785 0.905 Q-9.81 1.4 -9.945 1.835 Q-10.08 2.27 -10.38 2.57 Q-10.68 2.87 -11.22 2.87 Q-11.76 2.87 -12.06 2.57 Q-12.36 2.27 -12.495 1.835 Q-12.63 1.4 -12.655 0.905 Q-12.68 0.41 -12.68 0.01 ZM-13.58 0.02 Q-13.58 0.41 -13.56 0.83 Q-13.54 1.25 -13.46 1.65 Q-13.38 2.05 -13.23 2.405 Q-13.08 2.76 -12.82 3.03 Q-12.56 3.3 -12.165 3.455 Q-11.77 3.61 -11.22 3.61 Q-10.66 3.61 -10.27 3.455 Q-9.88 3.3 -9.62 3.03 Q-9.36 2.76 -9.21 2.405 Q-9.06 2.05 -8.98 1.65 Q-8.9 1.25 -8.88 0.83 Q-8.86 0.41 -8.86 0.02 Q-8.86 -0.37 -8.88 -0.79 Q-8.9 -1.21 -8.98 -1.61 Q-9.06 -2.01 -9.21 -2.37 Q-9.36 -2.73 -9.62 -3 Q-9.88 -3.27 -10.275 -3.43 Q-10.67 -3.59 -11.22 -3.59 Q-11.77 -3.59 -12.165 -3.43 Q-12.56 -3.27 -12.82 -3 Q-13.08 -2.73 -13.23 -2.37 Q-13.38 -2.01 -13.46 -1.61 Q-13.54 -1.21 -13.56 -0.79 Q-13.58 -0.37 -13.58 0.02 ZM-7.61 2.39 L-7.61 3.5 L-6.5 3.5 L-6.5 2.39 ZM-2.27 1.09 L-4.65 1.09 L-2.29 -2.38 L-2.27 -2.38 ZM-1.47 1.09 L-1.47 -3.59 L-2.15 -3.59 L-5.38 1.02 L-5.38 1.84 L-2.27 1.84 L-2.27 3.5 L-1.47 3.5 L-1.47 1.84 L-0.51 1.84 L-0.51 1.09 Z\"\n",
       "    /></g\n",
       "    ><g transform=\"translate(69,202.5)\" style=\"font-size:10px; fill:rgb(38,38,38); text-rendering:geometricPrecision; image-rendering:optimizeQuality; color-rendering:optimizeQuality; font-family:'Helvetica Neue'; stroke:rgb(38,38,38); color-interpolation:linearRGB;\"\n",
       "    ><path style=\"stroke:none;\" d=\"M-12.68 0.01 Q-12.68 -0.25 -12.675 -0.565 Q-12.67 -0.88 -12.625 -1.195 Q-12.58 -1.51 -12.495 -1.81 Q-12.41 -2.11 -12.245 -2.335 Q-12.08 -2.56 -11.83 -2.7 Q-11.58 -2.84 -11.22 -2.84 Q-10.86 -2.84 -10.61 -2.7 Q-10.36 -2.56 -10.195 -2.335 Q-10.03 -2.11 -9.945 -1.81 Q-9.86 -1.51 -9.815 -1.195 Q-9.77 -0.88 -9.765 -0.565 Q-9.76 -0.25 -9.76 0.01 Q-9.76 0.41 -9.785 0.905 Q-9.81 1.4 -9.945 1.835 Q-10.08 2.27 -10.38 2.57 Q-10.68 2.87 -11.22 2.87 Q-11.76 2.87 -12.06 2.57 Q-12.36 2.27 -12.495 1.835 Q-12.63 1.4 -12.655 0.905 Q-12.68 0.41 -12.68 0.01 ZM-13.58 0.02 Q-13.58 0.41 -13.56 0.83 Q-13.54 1.25 -13.46 1.65 Q-13.38 2.05 -13.23 2.405 Q-13.08 2.76 -12.82 3.03 Q-12.56 3.3 -12.165 3.455 Q-11.77 3.61 -11.22 3.61 Q-10.66 3.61 -10.27 3.455 Q-9.88 3.3 -9.62 3.03 Q-9.36 2.76 -9.21 2.405 Q-9.06 2.05 -8.98 1.65 Q-8.9 1.25 -8.88 0.83 Q-8.86 0.41 -8.86 0.02 Q-8.86 -0.37 -8.88 -0.79 Q-8.9 -1.21 -8.98 -1.61 Q-9.06 -2.01 -9.21 -2.37 Q-9.36 -2.73 -9.62 -3 Q-9.88 -3.27 -10.275 -3.43 Q-10.67 -3.59 -11.22 -3.59 Q-11.77 -3.59 -12.165 -3.43 Q-12.56 -3.27 -12.82 -3 Q-13.08 -2.73 -13.23 -2.37 Q-13.38 -2.01 -13.46 -1.61 Q-13.54 -1.21 -13.56 -0.79 Q-13.58 -0.37 -13.58 0.02 ZM-7.61 2.39 L-7.61 3.5 L-6.5 3.5 L-6.5 2.39 ZM-0.96 -2.72 L-0.96 -3.47 L-4.46 -3.47 L-5.12 0.21 L-4.39 0.25 Q-4.14 -0.05 -3.815 -0.235 Q-3.49 -0.42 -3.07 -0.42 Q-2.71 -0.42 -2.415 -0.3 Q-2.12 -0.18 -1.91 0.035 Q-1.7 0.25 -1.585 0.545 Q-1.47 0.84 -1.47 1.19 Q-1.47 1.61 -1.59 1.925 Q-1.71 2.24 -1.915 2.45 Q-2.12 2.66 -2.395 2.765 Q-2.67 2.87 -2.97 2.87 Q-3.29 2.87 -3.555 2.775 Q-3.82 2.68 -4.015 2.505 Q-4.21 2.33 -4.325 2.095 Q-4.44 1.86 -4.46 1.59 L-5.31 1.59 Q-5.3 2.07 -5.12 2.45 Q-4.94 2.83 -4.63 3.085 Q-4.32 3.34 -3.915 3.475 Q-3.51 3.61 -3.05 3.61 Q-2.43 3.61 -1.965 3.415 Q-1.5 3.22 -1.19 2.89 Q-0.88 2.56 -0.725 2.135 Q-0.57 1.71 -0.57 1.26 Q-0.57 0.65 -0.75 0.195 Q-0.93 -0.26 -1.24 -0.565 Q-1.55 -0.87 -1.97 -1.02 Q-2.39 -1.17 -2.86 -1.17 Q-3.22 -1.17 -3.585 -1.045 Q-3.95 -0.92 -4.18 -0.66 L-4.2 -0.68 L-3.82 -2.72 Z\"\n",
       "    /></g\n",
       "    ><g transform=\"translate(69,168.2)\" style=\"font-size:10px; fill:rgb(38,38,38); text-rendering:geometricPrecision; image-rendering:optimizeQuality; color-rendering:optimizeQuality; font-family:'Helvetica Neue'; stroke:rgb(38,38,38); color-interpolation:linearRGB;\"\n",
       "    ><path style=\"stroke:none;\" d=\"M-12.68 0.01 Q-12.68 -0.25 -12.675 -0.565 Q-12.67 -0.88 -12.625 -1.195 Q-12.58 -1.51 -12.495 -1.81 Q-12.41 -2.11 -12.245 -2.335 Q-12.08 -2.56 -11.83 -2.7 Q-11.58 -2.84 -11.22 -2.84 Q-10.86 -2.84 -10.61 -2.7 Q-10.36 -2.56 -10.195 -2.335 Q-10.03 -2.11 -9.945 -1.81 Q-9.86 -1.51 -9.815 -1.195 Q-9.77 -0.88 -9.765 -0.565 Q-9.76 -0.25 -9.76 0.01 Q-9.76 0.41 -9.785 0.905 Q-9.81 1.4 -9.945 1.835 Q-10.08 2.27 -10.38 2.57 Q-10.68 2.87 -11.22 2.87 Q-11.76 2.87 -12.06 2.57 Q-12.36 2.27 -12.495 1.835 Q-12.63 1.4 -12.655 0.905 Q-12.68 0.41 -12.68 0.01 ZM-13.58 0.02 Q-13.58 0.41 -13.56 0.83 Q-13.54 1.25 -13.46 1.65 Q-13.38 2.05 -13.23 2.405 Q-13.08 2.76 -12.82 3.03 Q-12.56 3.3 -12.165 3.455 Q-11.77 3.61 -11.22 3.61 Q-10.66 3.61 -10.27 3.455 Q-9.88 3.3 -9.62 3.03 Q-9.36 2.76 -9.21 2.405 Q-9.06 2.05 -8.98 1.65 Q-8.9 1.25 -8.88 0.83 Q-8.86 0.41 -8.86 0.02 Q-8.86 -0.37 -8.88 -0.79 Q-8.9 -1.21 -8.98 -1.61 Q-9.06 -2.01 -9.21 -2.37 Q-9.36 -2.73 -9.62 -3 Q-9.88 -3.27 -10.275 -3.43 Q-10.67 -3.59 -11.22 -3.59 Q-11.77 -3.59 -12.165 -3.43 Q-12.56 -3.27 -12.82 -3 Q-13.08 -2.73 -13.23 -2.37 Q-13.38 -2.01 -13.46 -1.61 Q-13.54 -1.21 -13.56 -0.79 Q-13.58 -0.37 -13.58 0.02 ZM-7.61 2.39 L-7.61 3.5 L-6.5 3.5 L-6.5 2.39 ZM-1.52 -1.78 L-0.67 -1.78 Q-0.75 -2.66 -1.27 -3.125 Q-1.79 -3.59 -2.67 -3.59 Q-3.43 -3.59 -3.93 -3.27 Q-4.43 -2.95 -4.73 -2.42 Q-5.03 -1.89 -5.155 -1.205 Q-5.28 -0.52 -5.28 0.21 Q-5.28 0.77 -5.195 1.37 Q-5.11 1.97 -4.85 2.47 Q-4.59 2.97 -4.11 3.29 Q-3.63 3.61 -2.84 3.61 Q-2.17 3.61 -1.715 3.385 Q-1.26 3.16 -0.985 2.815 Q-0.71 2.47 -0.59 2.05 Q-0.47 1.63 -0.47 1.24 Q-0.47 0.75 -0.62 0.33 Q-0.77 -0.09 -1.045 -0.4 Q-1.32 -0.71 -1.725 -0.885 Q-2.13 -1.06 -2.64 -1.06 Q-3.22 -1.06 -3.665 -0.84 Q-4.11 -0.62 -4.41 -0.13 L-4.43 -0.15 Q-4.42 -0.56 -4.35 -1.03 Q-4.28 -1.5 -4.095 -1.905 Q-3.91 -2.31 -3.58 -2.575 Q-3.25 -2.84 -2.71 -2.84 Q-2.2 -2.84 -1.89 -2.55 Q-1.58 -2.26 -1.52 -1.78 ZM-2.8 -0.31 Q-2.44 -0.31 -2.17 -0.18 Q-1.9 -0.05 -1.72 0.165 Q-1.54 0.38 -1.455 0.675 Q-1.37 0.97 -1.37 1.3 Q-1.37 1.61 -1.465 1.895 Q-1.56 2.18 -1.74 2.4 Q-1.92 2.62 -2.185 2.745 Q-2.45 2.87 -2.8 2.87 Q-3.15 2.87 -3.425 2.745 Q-3.7 2.62 -3.885 2.41 Q-4.07 2.2 -4.17 1.91 Q-4.27 1.62 -4.27 1.29 Q-4.27 0.96 -4.175 0.665 Q-4.08 0.37 -3.89 0.155 Q-3.7 -0.06 -3.43 -0.185 Q-3.16 -0.31 -2.8 -0.31 Z\"\n",
       "    /></g\n",
       "    ><g transform=\"translate(69,133.9)\" style=\"font-size:10px; fill:rgb(38,38,38); text-rendering:geometricPrecision; image-rendering:optimizeQuality; color-rendering:optimizeQuality; font-family:'Helvetica Neue'; stroke:rgb(38,38,38); color-interpolation:linearRGB;\"\n",
       "    ><path style=\"stroke:none;\" d=\"M-12.68 0.01 Q-12.68 -0.25 -12.675 -0.565 Q-12.67 -0.88 -12.625 -1.195 Q-12.58 -1.51 -12.495 -1.81 Q-12.41 -2.11 -12.245 -2.335 Q-12.08 -2.56 -11.83 -2.7 Q-11.58 -2.84 -11.22 -2.84 Q-10.86 -2.84 -10.61 -2.7 Q-10.36 -2.56 -10.195 -2.335 Q-10.03 -2.11 -9.945 -1.81 Q-9.86 -1.51 -9.815 -1.195 Q-9.77 -0.88 -9.765 -0.565 Q-9.76 -0.25 -9.76 0.01 Q-9.76 0.41 -9.785 0.905 Q-9.81 1.4 -9.945 1.835 Q-10.08 2.27 -10.38 2.57 Q-10.68 2.87 -11.22 2.87 Q-11.76 2.87 -12.06 2.57 Q-12.36 2.27 -12.495 1.835 Q-12.63 1.4 -12.655 0.905 Q-12.68 0.41 -12.68 0.01 ZM-13.58 0.02 Q-13.58 0.41 -13.56 0.83 Q-13.54 1.25 -13.46 1.65 Q-13.38 2.05 -13.23 2.405 Q-13.08 2.76 -12.82 3.03 Q-12.56 3.3 -12.165 3.455 Q-11.77 3.61 -11.22 3.61 Q-10.66 3.61 -10.27 3.455 Q-9.88 3.3 -9.62 3.03 Q-9.36 2.76 -9.21 2.405 Q-9.06 2.05 -8.98 1.65 Q-8.9 1.25 -8.88 0.83 Q-8.86 0.41 -8.86 0.02 Q-8.86 -0.37 -8.88 -0.79 Q-8.9 -1.21 -8.98 -1.61 Q-9.06 -2.01 -9.21 -2.37 Q-9.36 -2.73 -9.62 -3 Q-9.88 -3.27 -10.275 -3.43 Q-10.67 -3.59 -11.22 -3.59 Q-11.77 -3.59 -12.165 -3.43 Q-12.56 -3.27 -12.82 -3 Q-13.08 -2.73 -13.23 -2.37 Q-13.38 -2.01 -13.46 -1.61 Q-13.54 -1.21 -13.56 -0.79 Q-13.58 -0.37 -13.58 0.02 ZM-7.61 2.39 L-7.61 3.5 L-6.5 3.5 L-6.5 2.39 ZM-0.57 -2.74 L-0.57 -3.47 L-5.16 -3.47 L-5.16 -2.67 L-1.44 -2.67 Q-2 -2.08 -2.485 -1.38 Q-2.97 -0.68 -3.34 0.105 Q-3.71 0.89 -3.945 1.745 Q-4.18 2.6 -4.24 3.5 L-3.29 3.5 Q-3.24 2.67 -3.01 1.79 Q-2.78 0.91 -2.415 0.08 Q-2.05 -0.75 -1.58 -1.48 Q-1.11 -2.21 -0.57 -2.74 Z\"\n",
       "    /></g\n",
       "    ><g transform=\"translate(69,99.6)\" style=\"font-size:10px; fill:rgb(38,38,38); text-rendering:geometricPrecision; image-rendering:optimizeQuality; color-rendering:optimizeQuality; font-family:'Helvetica Neue'; stroke:rgb(38,38,38); color-interpolation:linearRGB;\"\n",
       "    ><path style=\"stroke:none;\" d=\"M-12.68 0.01 Q-12.68 -0.25 -12.675 -0.565 Q-12.67 -0.88 -12.625 -1.195 Q-12.58 -1.51 -12.495 -1.81 Q-12.41 -2.11 -12.245 -2.335 Q-12.08 -2.56 -11.83 -2.7 Q-11.58 -2.84 -11.22 -2.84 Q-10.86 -2.84 -10.61 -2.7 Q-10.36 -2.56 -10.195 -2.335 Q-10.03 -2.11 -9.945 -1.81 Q-9.86 -1.51 -9.815 -1.195 Q-9.77 -0.88 -9.765 -0.565 Q-9.76 -0.25 -9.76 0.01 Q-9.76 0.41 -9.785 0.905 Q-9.81 1.4 -9.945 1.835 Q-10.08 2.27 -10.38 2.57 Q-10.68 2.87 -11.22 2.87 Q-11.76 2.87 -12.06 2.57 Q-12.36 2.27 -12.495 1.835 Q-12.63 1.4 -12.655 0.905 Q-12.68 0.41 -12.68 0.01 ZM-13.58 0.02 Q-13.58 0.41 -13.56 0.83 Q-13.54 1.25 -13.46 1.65 Q-13.38 2.05 -13.23 2.405 Q-13.08 2.76 -12.82 3.03 Q-12.56 3.3 -12.165 3.455 Q-11.77 3.61 -11.22 3.61 Q-10.66 3.61 -10.27 3.455 Q-9.88 3.3 -9.62 3.03 Q-9.36 2.76 -9.21 2.405 Q-9.06 2.05 -8.98 1.65 Q-8.9 1.25 -8.88 0.83 Q-8.86 0.41 -8.86 0.02 Q-8.86 -0.37 -8.88 -0.79 Q-8.9 -1.21 -8.98 -1.61 Q-9.06 -2.01 -9.21 -2.37 Q-9.36 -2.73 -9.62 -3 Q-9.88 -3.27 -10.275 -3.43 Q-10.67 -3.59 -11.22 -3.59 Q-11.77 -3.59 -12.165 -3.43 Q-12.56 -3.27 -12.82 -3 Q-13.08 -2.73 -13.23 -2.37 Q-13.38 -2.01 -13.46 -1.61 Q-13.54 -1.21 -13.56 -0.79 Q-13.58 -0.37 -13.58 0.02 ZM-7.61 2.39 L-7.61 3.5 L-6.5 3.5 L-6.5 2.39 ZM-4.11 -1.75 Q-4.11 -2.02 -4.01 -2.22 Q-3.91 -2.42 -3.745 -2.56 Q-3.58 -2.7 -3.35 -2.77 Q-3.12 -2.84 -2.87 -2.84 Q-2.35 -2.84 -2.015 -2.565 Q-1.68 -2.29 -1.68 -1.75 Q-1.68 -1.21 -2.01 -0.91 Q-2.34 -0.61 -2.85 -0.61 Q-3.11 -0.61 -3.34 -0.68 Q-3.57 -0.75 -3.74 -0.89 Q-3.91 -1.03 -4.01 -1.245 Q-4.11 -1.46 -4.11 -1.75 ZM-5.01 -1.78 Q-5.01 -1.3 -4.74 -0.895 Q-4.47 -0.49 -4.02 -0.31 Q-4.62 -0.1 -4.94 0.365 Q-5.26 0.83 -5.26 1.46 Q-5.26 2 -5.075 2.405 Q-4.89 2.81 -4.565 3.08 Q-4.24 3.35 -3.8 3.48 Q-3.36 3.61 -2.85 3.61 Q-2.36 3.61 -1.93 3.47 Q-1.5 3.33 -1.185 3.055 Q-0.87 2.78 -0.685 2.38 Q-0.5 1.98 -0.5 1.46 Q-0.5 0.8 -0.81 0.345 Q-1.12 -0.11 -1.76 -0.31 Q-1.31 -0.51 -1.045 -0.905 Q-0.78 -1.3 -0.78 -1.78 Q-0.78 -2.12 -0.9 -2.445 Q-1.02 -2.77 -1.275 -3.025 Q-1.53 -3.28 -1.94 -3.435 Q-2.35 -3.59 -2.93 -3.59 Q-3.34 -3.59 -3.715 -3.47 Q-4.09 -3.35 -4.38 -3.12 Q-4.67 -2.89 -4.84 -2.555 Q-5.01 -2.22 -5.01 -1.78 ZM-4.36 1.5 Q-4.36 1.19 -4.245 0.94 Q-4.13 0.69 -3.925 0.51 Q-3.72 0.33 -3.445 0.235 Q-3.17 0.14 -2.86 0.14 Q-2.56 0.14 -2.295 0.245 Q-2.03 0.35 -1.83 0.53 Q-1.63 0.71 -1.515 0.955 Q-1.4 1.2 -1.4 1.49 Q-1.4 1.79 -1.505 2.04 Q-1.61 2.29 -1.805 2.475 Q-2 2.66 -2.265 2.765 Q-2.53 2.87 -2.85 2.87 Q-3.51 2.87 -3.935 2.505 Q-4.36 2.14 -4.36 1.5 Z\"\n",
       "    /></g\n",
       "    ><g transform=\"translate(69,65.3)\" style=\"font-size:10px; fill:rgb(38,38,38); text-rendering:geometricPrecision; image-rendering:optimizeQuality; color-rendering:optimizeQuality; font-family:'Helvetica Neue'; stroke:rgb(38,38,38); color-interpolation:linearRGB;\"\n",
       "    ><path style=\"stroke:none;\" d=\"M-12.68 0.01 Q-12.68 -0.25 -12.675 -0.565 Q-12.67 -0.88 -12.625 -1.195 Q-12.58 -1.51 -12.495 -1.81 Q-12.41 -2.11 -12.245 -2.335 Q-12.08 -2.56 -11.83 -2.7 Q-11.58 -2.84 -11.22 -2.84 Q-10.86 -2.84 -10.61 -2.7 Q-10.36 -2.56 -10.195 -2.335 Q-10.03 -2.11 -9.945 -1.81 Q-9.86 -1.51 -9.815 -1.195 Q-9.77 -0.88 -9.765 -0.565 Q-9.76 -0.25 -9.76 0.01 Q-9.76 0.41 -9.785 0.905 Q-9.81 1.4 -9.945 1.835 Q-10.08 2.27 -10.38 2.57 Q-10.68 2.87 -11.22 2.87 Q-11.76 2.87 -12.06 2.57 Q-12.36 2.27 -12.495 1.835 Q-12.63 1.4 -12.655 0.905 Q-12.68 0.41 -12.68 0.01 ZM-13.58 0.02 Q-13.58 0.41 -13.56 0.83 Q-13.54 1.25 -13.46 1.65 Q-13.38 2.05 -13.23 2.405 Q-13.08 2.76 -12.82 3.03 Q-12.56 3.3 -12.165 3.455 Q-11.77 3.61 -11.22 3.61 Q-10.66 3.61 -10.27 3.455 Q-9.88 3.3 -9.62 3.03 Q-9.36 2.76 -9.21 2.405 Q-9.06 2.05 -8.98 1.65 Q-8.9 1.25 -8.88 0.83 Q-8.86 0.41 -8.86 0.02 Q-8.86 -0.37 -8.88 -0.79 Q-8.9 -1.21 -8.98 -1.61 Q-9.06 -2.01 -9.21 -2.37 Q-9.36 -2.73 -9.62 -3 Q-9.88 -3.27 -10.275 -3.43 Q-10.67 -3.59 -11.22 -3.59 Q-11.77 -3.59 -12.165 -3.43 Q-12.56 -3.27 -12.82 -3 Q-13.08 -2.73 -13.23 -2.37 Q-13.38 -2.01 -13.46 -1.61 Q-13.54 -1.21 -13.56 -0.79 Q-13.58 -0.37 -13.58 0.02 ZM-7.61 2.39 L-7.61 3.5 L-6.5 3.5 L-6.5 2.39 ZM-4.32 1.79 L-5.17 1.79 Q-5.09 2.71 -4.5 3.16 Q-3.91 3.61 -3.02 3.61 Q-1.73 3.61 -1.145 2.625 Q-0.56 1.64 -0.56 -0.2 Q-0.56 -1.21 -0.755 -1.865 Q-0.95 -2.52 -1.28 -2.9 Q-1.61 -3.28 -2.05 -3.435 Q-2.49 -3.59 -2.99 -3.59 Q-3.5 -3.59 -3.93 -3.42 Q-4.36 -3.25 -4.67 -2.945 Q-4.98 -2.64 -5.15 -2.215 Q-5.32 -1.79 -5.32 -1.28 Q-5.32 -0.76 -5.175 -0.32 Q-5.03 0.12 -4.745 0.43 Q-4.46 0.74 -4.04 0.915 Q-3.62 1.09 -3.08 1.09 Q-2.56 1.09 -2.12 0.825 Q-1.68 0.56 -1.44 0.11 L-1.42 0.13 Q-1.46 1.52 -1.85 2.195 Q-2.24 2.87 -3.02 2.87 Q-3.53 2.87 -3.9 2.59 Q-4.27 2.31 -4.32 1.79 ZM-1.57 -1.22 Q-1.57 -0.91 -1.67 -0.625 Q-1.77 -0.34 -1.96 -0.125 Q-2.15 0.09 -2.42 0.215 Q-2.69 0.34 -3.02 0.34 Q-3.33 0.34 -3.585 0.215 Q-3.84 0.09 -4.025 -0.12 Q-4.21 -0.33 -4.315 -0.6 Q-4.42 -0.87 -4.42 -1.16 Q-4.42 -1.49 -4.345 -1.79 Q-4.27 -2.09 -4.105 -2.325 Q-3.94 -2.56 -3.675 -2.7 Q-3.41 -2.84 -3.03 -2.84 Q-2.67 -2.84 -2.4 -2.71 Q-2.13 -2.58 -1.945 -2.355 Q-1.76 -2.13 -1.665 -1.84 Q-1.57 -1.55 -1.57 -1.22 Z\"\n",
       "    /></g\n",
       "    ><g transform=\"translate(69,31)\" style=\"font-size:10px; fill:rgb(38,38,38); text-rendering:geometricPrecision; image-rendering:optimizeQuality; color-rendering:optimizeQuality; font-family:'Helvetica Neue'; stroke:rgb(38,38,38); color-interpolation:linearRGB;\"\n",
       "    ><path style=\"stroke:none;\" d=\"M-2.44 3.5 L-2.44 -3.59 L-3.09 -3.59 Q-3.16 -3.19 -3.35 -2.93 Q-3.54 -2.67 -3.815 -2.52 Q-4.09 -2.37 -4.43 -2.315 Q-4.77 -2.26 -5.13 -2.26 L-5.13 -1.58 L-3.29 -1.58 L-3.29 3.5 Z\"\n",
       "    /></g\n",
       "    ><g transform=\"translate(45,221) rotate(-90)\" style=\"font-size:11px; fill:rgb(38,38,38); text-rendering:geometricPrecision; image-rendering:optimizeQuality; color-rendering:optimizeQuality; font-family:'Helvetica Neue'; stroke:rgb(38,38,38); color-interpolation:linearRGB;\"\n",
       "    ><path style=\"stroke:none;\" d=\"M0.847 -8.646 L0.847 2.343 L1.595 2.343 L1.595 -8.646 ZM3.3 -7.854 L3.3 0 L4.345 0 L4.345 -3.597 L8.481 -3.597 L8.481 0 L9.526 0 L9.526 -7.854 L8.481 -7.854 L8.481 -4.477 L4.345 -4.477 L4.345 -7.854 Z\"\n",
       "    /></g\n",
       "    ><g transform=\"translate(50,210) rotate(-90)\" style=\"font-size:8.8px; fill:rgb(38,38,38); text-rendering:geometricPrecision; image-rendering:optimizeQuality; color-rendering:optimizeQuality; font-family:'Helvetica Neue'; stroke:rgb(38,38,38); color-interpolation:linearRGB;\"\n",
       "    ><path style=\"stroke:none;\" d=\"M1.5224 -3.5816 L1.5224 -5.5792 L3.1944 -5.5792 Q3.4672 -5.5792 3.7092 -5.5484 Q3.9512 -5.5176 4.136 -5.412 Q4.3208 -5.3064 4.4264 -5.1128 Q4.532 -4.9192 4.532 -4.5848 Q4.532 -4.0832 4.2196 -3.8324 Q3.9072 -3.5816 3.1944 -3.5816 ZM0.6864 -6.2832 L0.6864 0 L3.7224 0 Q4.1888 0 4.5452 -0.154 Q4.9016 -0.308 5.1436 -0.5588 Q5.3856 -0.8096 5.5088 -1.1352 Q5.632 -1.4608 5.632 -1.804 Q5.632 -2.3848 5.324 -2.7896 Q5.016 -3.1944 4.4352 -3.3176 L4.4352 -3.3352 Q4.884 -3.5112 5.126 -3.8764 Q5.368 -4.2416 5.368 -4.7432 Q5.368 -5.2184 5.1524 -5.544 Q4.9368 -5.8696 4.6288 -6.0544 Q4.488 -6.1424 4.29 -6.1864 Q4.092 -6.2304 3.8632 -6.2524 Q3.6344 -6.2744 3.4012 -6.2788 Q3.168 -6.2832 2.9656 -6.2832 ZM1.5224 -0.704 L1.5224 -2.8776 L3.432 -2.8776 Q3.696 -2.8776 3.9424 -2.8292 Q4.1888 -2.7808 4.378 -2.662 Q4.5672 -2.5432 4.6816 -2.3408 Q4.796 -2.1384 4.796 -1.8304 Q4.796 -1.3024 4.4836 -1.0032 Q4.1712 -0.704 3.6168 -0.704 Z\"\n",
       "    /></g\n",
       "    ><g transform=\"translate(45,203) rotate(-90)\" style=\"font-size:11px; fill:rgb(38,38,38); text-rendering:geometricPrecision; image-rendering:optimizeQuality; color-rendering:optimizeQuality; font-family:'Helvetica Neue'; stroke:rgb(38,38,38); color-interpolation:linearRGB;\"\n",
       "    ><path style=\"stroke:none;\" d=\"M2.244 2.167 L2.959 2.167 Q2.178 0.902 1.8425 -0.341 Q1.507 -1.584 1.507 -2.97 Q1.507 -4.323 1.837 -5.555 Q2.167 -6.787 2.959 -8.041 L2.244 -8.041 Q1.386 -6.908 0.9515 -5.588 Q0.517 -4.268 0.517 -2.97 Q0.517 -2.244 0.638 -1.584 Q0.759 -0.924 0.9845 -0.297 Q1.21 0.33 1.529 0.9405 Q1.848 1.551 2.244 2.167 ZM4.543 -6.71 L4.543 -7.854 L3.608 -7.854 L3.608 -6.71 ZM4.543 0.715 L4.543 -5.687 L3.608 -5.687 L3.608 0.561 Q3.608 1.001 3.498 1.1715 Q3.388 1.342 3.08 1.342 L2.882 1.342 Q2.838 1.342 2.7995 1.3365 Q2.761 1.331 2.706 1.32 L2.706 2.123 Q2.926 2.167 3.179 2.167 Q3.806 2.167 4.1745 1.8205 Q4.543 1.474 4.543 0.715 Z\"\n",
       "    /></g\n",
       "    ><g transform=\"translate(45,197) rotate(-90)\" style=\"font-size:11px; fill:rgb(38,38,38); text-rendering:geometricPrecision; image-rendering:optimizeQuality; color-rendering:optimizeQuality; font-family:'mwa_cmmi10'; stroke:rgb(38,38,38); color-interpolation:linearRGB;\"\n",
       "    ><path style=\"stroke:none;\" d=\"M1.3281 0.125 Q0.7031 0.125 0.4297 -0.3359 Q0.1562 -0.7969 0.1562 -1.4531 Q0.1562 -1.8906 0.2344 -2.3047 Q0.3125 -2.7188 0.4688 -3.1484 Q0.625 -3.5781 0.8281 -3.9453 Q1.0312 -4.3125 1.2969 -4.6719 Q1.3438 -4.75 1.4219 -4.75 Q1.4844 -4.75 1.5312 -4.7031 Q1.5781 -4.6562 1.5781 -4.5938 Q1.5781 -4.5312 1.5469 -4.4844 Q0.5312 -3.1094 0.5312 -1.9375 Q0.5312 -1.4375 0.7656 -1.0781 Q1 -0.7188 1.4844 -0.7188 Q1.8906 -0.7188 2.2422 -0.9609 Q2.5938 -1.2031 2.8594 -1.5781 Q2.8594 -1.7656 2.9219 -2.1719 Q2.9844 -2.5781 3.1328 -2.8984 Q3.2812 -3.2188 3.4688 -3.2188 Q3.7344 -3.2188 3.7344 -2.9219 Q3.7344 -2.75 3.6562 -2.4922 Q3.5781 -2.2344 3.4922 -2.0078 Q3.4062 -1.7812 3.2812 -1.5 Q3.4062 -0.7188 4.0625 -0.7188 Q4.4375 -0.7188 4.8203 -0.9375 Q5.2031 -1.1562 5.5 -1.5156 Q5.7969 -1.875 5.9688 -2.2891 Q6.1406 -2.7031 6.1406 -3.0625 Q6.1406 -3.4062 6.0391 -3.5859 Q5.9375 -3.7656 5.7656 -3.9688 Q5.5938 -4.1719 5.5938 -4.2969 Q5.5938 -4.5156 5.7734 -4.6953 Q5.9531 -4.875 6.1562 -4.875 Q6.4219 -4.875 6.5391 -4.6328 Q6.6562 -4.3906 6.6562 -4.0781 Q6.6562 -3.5625 6.4531 -2.7969 Q6.25 -2.0312 6 -1.5156 Q5.6406 -0.8281 5.1094 -0.3516 Q4.5781 0.125 3.9062 0.125 Q3.4844 0.125 3.2188 -0.1328 Q2.9531 -0.3906 2.8906 -0.8281 Q2.5781 -0.3906 2.1875 -0.1328 Q1.7969 0.125 1.3281 0.125 Z\"\n",
       "    /></g\n",
       "    ><g transform=\"translate(45,190) rotate(-90)\" style=\"font-size:11px; fill:rgb(38,38,38); text-rendering:geometricPrecision; image-rendering:optimizeQuality; color-rendering:optimizeQuality; font-family:'Helvetica Neue'; stroke:rgb(38,38,38); color-interpolation:linearRGB;\"\n",
       "    ><path style=\"stroke:none;\" d=\"M-0.099 2.167 L0.605 2.167 Q1.463 1.034 1.8975 -0.2805 Q2.332 -1.595 2.332 -2.893 Q2.332 -3.619 2.211 -4.279 Q2.09 -4.939 1.8645 -5.5715 Q1.639 -6.204 1.32 -6.8145 Q1.001 -7.425 0.605 -8.041 L-0.099 -8.041 Q0.671 -6.776 1.0065 -5.5275 Q1.342 -4.279 1.342 -2.893 Q1.342 -1.551 1.012 -0.3135 Q0.682 0.924 -0.099 2.167 ZM3.696 -8.646 L3.696 2.343 L4.444 2.343 L4.444 -8.646 Z\"\n",
       "    /></g\n",
       "    ><g transform=\"translate(68,21)\" style=\"font-size:11px; text-rendering:geometricPrecision; image-rendering:optimizeQuality; color-rendering:optimizeQuality; font-family:'Helvetica Neue'; color-interpolation:linearRGB; font-weight:bold;\"\n",
       "    ><path style=\"stroke:none;\" d=\"M0.759 -7.854 L0.759 0 L2.376 0 L2.376 -5.511 L2.398 -5.511 L4.323 0 L5.654 0 L7.579 -5.566 L7.601 -5.566 L7.601 0 L9.218 0 L9.218 -7.854 L6.787 -7.854 L5.049 -2.453 L5.027 -2.453 L3.19 -7.854 ZM10.505 -3.938 Q10.538 -4.488 10.78 -4.851 Q11.022 -5.214 11.396 -5.434 Q11.77 -5.654 12.2375 -5.7475 Q12.705 -5.841 13.178 -5.841 Q13.607 -5.841 14.047 -5.7805 Q14.487 -5.72 14.85 -5.544 Q15.213 -5.368 15.444 -5.0545 Q15.675 -4.741 15.675 -4.224 L15.675 -1.265 Q15.675 -0.88 15.719 -0.528 Q15.763 -0.176 15.873 0 L14.289 0 Q14.245 -0.132 14.2175 -0.2695 Q14.19 -0.407 14.179 -0.55 Q13.805 -0.165 13.299 -0.011 Q12.793 0.143 12.265 0.143 Q11.858 0.143 11.506 0.044 Q11.154 -0.055 10.89 -0.264 Q10.626 -0.473 10.4775 -0.792 Q10.329 -1.111 10.329 -1.551 Q10.329 -2.035 10.4995 -2.3485 Q10.67 -2.662 10.9395 -2.849 Q11.209 -3.036 11.5555 -3.1295 Q11.902 -3.223 12.254 -3.278 Q12.606 -3.333 12.947 -3.366 Q13.288 -3.399 13.552 -3.465 Q13.816 -3.531 13.97 -3.6575 Q14.124 -3.784 14.113 -4.026 Q14.113 -4.279 14.0305 -4.4275 Q13.948 -4.576 13.8105 -4.6585 Q13.673 -4.741 13.4915 -4.7685 Q13.31 -4.796 13.101 -4.796 Q12.639 -4.796 12.375 -4.598 Q12.111 -4.4 12.067 -3.938 ZM14.113 -2.783 Q14.014 -2.695 13.8655 -2.6455 Q13.717 -2.596 13.5465 -2.563 Q13.376 -2.53 13.189 -2.508 Q13.002 -2.486 12.815 -2.453 Q12.639 -2.42 12.4685 -2.365 Q12.298 -2.31 12.1715 -2.2165 Q12.045 -2.123 11.968 -1.98 Q11.891 -1.837 11.891 -1.617 Q11.891 -1.408 11.968 -1.265 Q12.045 -1.122 12.177 -1.0395 Q12.309 -0.957 12.485 -0.924 Q12.661 -0.891 12.848 -0.891 Q13.31 -0.891 13.563 -1.045 Q13.816 -1.199 13.937 -1.4135 Q14.058 -1.628 14.0855 -1.848 Q14.113 -2.068 14.113 -2.2 ZM19.536 -1.342 Q19.173 -1.342 18.931 -1.496 Q18.689 -1.65 18.5405 -1.892 Q18.392 -2.134 18.3315 -2.4365 Q18.271 -2.739 18.271 -3.047 Q18.271 -3.366 18.3425 -3.6575 Q18.414 -3.949 18.5735 -4.1745 Q18.733 -4.4 18.9695 -4.532 Q19.206 -4.664 19.536 -4.664 Q19.921 -4.664 20.174 -4.521 Q20.427 -4.378 20.581 -4.136 Q20.735 -3.894 20.801 -3.5805 Q20.867 -3.267 20.867 -2.915 Q20.867 -2.607 20.7845 -2.3265 Q20.702 -2.046 20.537 -1.826 Q20.372 -1.606 20.119 -1.474 Q19.866 -1.342 19.536 -1.342 ZM22.352 -0.363 L22.352 -5.687 L20.867 -5.687 L20.867 -4.928 L20.845 -4.928 Q20.559 -5.423 20.1355 -5.632 Q19.712 -5.841 19.151 -5.841 Q18.557 -5.841 18.1005 -5.61 Q17.644 -5.379 17.336 -4.9885 Q17.028 -4.598 16.8685 -4.0865 Q16.709 -3.575 16.709 -3.025 Q16.709 -2.442 16.8465 -1.9195 Q16.984 -1.397 17.281 -1.0065 Q17.578 -0.616 18.04 -0.3905 Q18.502 -0.165 19.14 -0.165 Q19.657 -0.165 20.1245 -0.3795 Q20.592 -0.594 20.845 -1.045 L20.867 -1.045 L20.867 -0.297 Q20.878 0.308 20.5755 0.704 Q20.273 1.1 19.613 1.1 Q19.195 1.1 18.876 0.9295 Q18.557 0.759 18.447 0.319 L16.896 0.319 Q16.929 0.803 17.1655 1.1495 Q17.402 1.496 17.7595 1.716 Q18.117 1.936 18.5515 2.0405 Q18.986 2.145 19.404 2.145 Q20.383 2.145 20.966 1.881 Q21.549 1.617 21.857 1.2375 Q22.165 0.858 22.2585 0.418 Q22.352 -0.022 22.352 -0.363 ZM23.606 -5.687 L23.606 0 L25.168 0 L25.168 -2.981 Q25.168 -3.85 25.454 -4.2295 Q25.74 -4.609 26.378 -4.609 Q26.939 -4.609 27.159 -4.2625 Q27.379 -3.916 27.379 -3.212 L27.379 0 L28.941 0 L28.941 -3.498 Q28.941 -4.026 28.8475 -4.4605 Q28.754 -4.895 28.523 -5.1975 Q28.292 -5.5 27.8905 -5.6705 Q27.489 -5.841 26.862 -5.841 Q26.367 -5.841 25.894 -5.6155 Q25.421 -5.39 25.124 -4.895 L25.091 -4.895 L25.091 -5.687 ZM31.735 -6.567 L31.735 -7.854 L30.173 -7.854 L30.173 -6.567 ZM30.173 -5.687 L30.173 0 L31.735 0 L31.735 -5.687 ZM34.947 -5.687 L34.947 -7.392 L33.385 -7.392 L33.385 -5.687 L32.439 -5.687 L32.439 -4.642 L33.385 -4.642 L33.385 -1.287 Q33.385 -0.858 33.528 -0.594 Q33.671 -0.33 33.9185 -0.187 Q34.166 -0.044 34.4905 0.0055 Q34.815 0.055 35.178 0.055 Q35.409 0.055 35.651 0.044 Q35.893 0.033 36.091 0 L36.091 -1.21 Q35.981 -1.188 35.86 -1.177 Q35.739 -1.166 35.607 -1.166 Q35.211 -1.166 35.079 -1.298 Q34.947 -1.43 34.947 -1.826 L34.947 -4.642 L36.091 -4.642 L36.091 -5.687 ZM42.174 0 L42.174 -5.687 L40.612 -5.687 L40.612 -2.706 Q40.612 -1.837 40.326 -1.4575 Q40.04 -1.078 39.402 -1.078 Q38.841 -1.078 38.621 -1.4245 Q38.401 -1.771 38.401 -2.475 L38.401 -5.687 L36.839 -5.687 L36.839 -2.189 Q36.839 -1.661 36.9325 -1.2265 Q37.026 -0.792 37.257 -0.4895 Q37.488 -0.187 37.8895 -0.022 Q38.291 0.143 38.918 0.143 Q39.413 0.143 39.886 -0.077 Q40.359 -0.297 40.656 -0.792 L40.689 -0.792 L40.689 0 ZM47.399 -2.86 Q47.399 -2.508 47.333 -2.178 Q47.267 -1.848 47.113 -1.5895 Q46.959 -1.331 46.7005 -1.177 Q46.442 -1.023 46.057 -1.023 Q45.694 -1.023 45.4355 -1.1825 Q45.177 -1.342 45.0065 -1.6005 Q44.836 -1.859 44.759 -2.189 Q44.682 -2.519 44.682 -2.849 Q44.682 -3.201 44.7535 -3.5255 Q44.825 -3.85 44.9845 -4.103 Q45.144 -4.356 45.408 -4.51 Q45.672 -4.664 46.057 -4.664 Q46.442 -4.664 46.695 -4.51 Q46.948 -4.356 47.1075 -4.1085 Q47.267 -3.861 47.333 -3.5365 Q47.399 -3.212 47.399 -2.86 ZM47.421 -0.726 L47.421 0 L48.906 0 L48.906 -7.854 L47.344 -7.854 L47.344 -4.994 L47.322 -4.994 Q47.058 -5.412 46.6015 -5.6265 Q46.145 -5.841 45.639 -5.841 Q45.012 -5.841 44.539 -5.5935 Q44.066 -5.346 43.7525 -4.939 Q43.439 -4.532 43.2795 -3.9985 Q43.12 -3.465 43.12 -2.893 Q43.12 -2.299 43.2795 -1.749 Q43.439 -1.199 43.7525 -0.7755 Q44.066 -0.352 44.55 -0.1045 Q45.034 0.143 45.672 0.143 Q46.233 0.143 46.6785 -0.0605 Q47.124 -0.264 47.399 -0.726 ZM53.911 -3.454 L51.37 -3.454 Q51.381 -3.619 51.4415 -3.828 Q51.502 -4.037 51.6505 -4.224 Q51.799 -4.411 52.0465 -4.5375 Q52.294 -4.664 52.668 -4.664 Q53.24 -4.664 53.5205 -4.356 Q53.801 -4.048 53.911 -3.454 ZM51.37 -2.464 L55.473 -2.464 Q55.517 -3.124 55.363 -3.729 Q55.209 -4.334 54.8625 -4.807 Q54.516 -5.28 53.977 -5.5605 Q53.438 -5.841 52.712 -5.841 Q52.063 -5.841 51.5295 -5.61 Q50.996 -5.379 50.611 -4.9775 Q50.226 -4.576 50.017 -4.026 Q49.808 -3.476 49.808 -2.838 Q49.808 -2.178 50.0115 -1.628 Q50.215 -1.078 50.589 -0.682 Q50.963 -0.286 51.502 -0.0715 Q52.041 0.143 52.712 0.143 Q53.68 0.143 54.362 -0.297 Q55.044 -0.737 55.374 -1.76 L53.999 -1.76 Q53.922 -1.496 53.581 -1.2595 Q53.24 -1.023 52.767 -1.023 Q52.107 -1.023 51.755 -1.364 Q51.403 -1.705 51.37 -2.464 ZM59.62 -7.854 L59.62 0 L61.347 0 L61.347 -3.245 L64.636 -3.245 L64.636 -4.587 L61.347 -4.587 L61.347 -6.402 L65.142 -6.402 L65.142 -7.854 ZM65.978 -5.687 L65.978 0 L67.54 0 L67.54 -2.563 Q67.54 -2.948 67.617 -3.278 Q67.694 -3.608 67.8755 -3.8555 Q68.057 -4.103 68.354 -4.246 Q68.651 -4.389 69.08 -4.389 Q69.223 -4.389 69.377 -4.3725 Q69.531 -4.356 69.641 -4.334 L69.641 -5.786 Q69.454 -5.841 69.3 -5.841 Q69.003 -5.841 68.728 -5.753 Q68.453 -5.665 68.211 -5.5055 Q67.969 -5.346 67.782 -5.1205 Q67.595 -4.895 67.485 -4.631 L67.463 -4.631 L67.463 -5.687 ZM74.085 -3.454 L71.544 -3.454 Q71.555 -3.619 71.6155 -3.828 Q71.676 -4.037 71.8245 -4.224 Q71.973 -4.411 72.2205 -4.5375 Q72.468 -4.664 72.842 -4.664 Q73.414 -4.664 73.6945 -4.356 Q73.975 -4.048 74.085 -3.454 ZM71.544 -2.464 L75.647 -2.464 Q75.691 -3.124 75.537 -3.729 Q75.383 -4.334 75.0365 -4.807 Q74.69 -5.28 74.151 -5.5605 Q73.612 -5.841 72.886 -5.841 Q72.237 -5.841 71.7035 -5.61 Q71.17 -5.379 70.785 -4.9775 Q70.4 -4.576 70.191 -4.026 Q69.982 -3.476 69.982 -2.838 Q69.982 -2.178 70.1855 -1.628 Q70.389 -1.078 70.763 -0.682 Q71.137 -0.286 71.676 -0.0715 Q72.215 0.143 72.886 0.143 Q73.854 0.143 74.536 -0.297 Q75.218 -0.737 75.548 -1.76 L74.173 -1.76 Q74.096 -1.496 73.755 -1.2595 Q73.414 -1.023 72.941 -1.023 Q72.281 -1.023 71.929 -1.364 Q71.577 -1.705 71.544 -2.464 ZM77.891 -2.838 Q77.891 -3.19 77.9625 -3.5145 Q78.034 -3.839 78.199 -4.0975 Q78.364 -4.356 78.628 -4.51 Q78.892 -4.664 79.277 -4.664 Q79.64 -4.664 79.8985 -4.499 Q80.157 -4.334 80.311 -4.07 Q80.465 -3.806 80.5365 -3.476 Q80.608 -3.146 80.608 -2.816 Q80.608 -2.464 80.5365 -2.1395 Q80.465 -1.815 80.3055 -1.5675 Q80.146 -1.32 79.8875 -1.1715 Q79.629 -1.023 79.244 -1.023 Q78.859 -1.023 78.6005 -1.177 Q78.342 -1.331 78.1825 -1.5895 Q78.023 -1.848 77.957 -2.1725 Q77.891 -2.497 77.891 -2.838 ZM82.115 1.991 L82.115 -5.687 L80.63 -5.687 L80.63 -4.961 L80.608 -4.961 Q80.344 -5.434 79.8765 -5.6375 Q79.409 -5.841 78.881 -5.841 Q78.232 -5.841 77.7535 -5.588 Q77.275 -5.335 76.956 -4.9115 Q76.637 -4.488 76.483 -3.938 Q76.329 -3.388 76.329 -2.805 Q76.329 -1.98 76.56 -1.4135 Q76.791 -0.847 77.143 -0.5005 Q77.495 -0.154 77.9185 -0.0055 Q78.342 0.143 78.738 0.143 Q79.266 0.143 79.761 -0.055 Q80.256 -0.253 80.531 -0.715 L80.553 -0.715 L80.553 1.991 ZM88.627 0 L88.627 -5.687 L87.065 -5.687 L87.065 -2.706 Q87.065 -1.837 86.779 -1.4575 Q86.493 -1.078 85.855 -1.078 Q85.294 -1.078 85.074 -1.4245 Q84.854 -1.771 84.854 -2.475 L84.854 -5.687 L83.292 -5.687 L83.292 -2.189 Q83.292 -1.661 83.3855 -1.2265 Q83.479 -0.792 83.71 -0.4895 Q83.941 -0.187 84.3425 -0.022 Q84.744 0.143 85.371 0.143 Q85.866 0.143 86.339 -0.077 Q86.812 -0.297 87.109 -0.792 L87.142 -0.792 L87.142 0 ZM93.643 -3.454 L91.102 -3.454 Q91.113 -3.619 91.1735 -3.828 Q91.234 -4.037 91.3825 -4.224 Q91.531 -4.411 91.7785 -4.5375 Q92.026 -4.664 92.4 -4.664 Q92.972 -4.664 93.2525 -4.356 Q93.533 -4.048 93.643 -3.454 ZM91.102 -2.464 L95.205 -2.464 Q95.249 -3.124 95.095 -3.729 Q94.941 -4.334 94.5945 -4.807 Q94.248 -5.28 93.709 -5.5605 Q93.17 -5.841 92.444 -5.841 Q91.795 -5.841 91.2615 -5.61 Q90.728 -5.379 90.343 -4.9775 Q89.958 -4.576 89.749 -4.026 Q89.54 -3.476 89.54 -2.838 Q89.54 -2.178 89.7435 -1.628 Q89.947 -1.078 90.321 -0.682 Q90.695 -0.286 91.234 -0.0715 Q91.773 0.143 92.444 0.143 Q93.412 0.143 94.094 -0.297 Q94.776 -0.737 95.106 -1.76 L93.731 -1.76 Q93.654 -1.496 93.313 -1.2595 Q92.972 -1.023 92.499 -1.023 Q91.839 -1.023 91.487 -1.364 Q91.135 -1.705 91.102 -2.464 ZM96.129 -5.687 L96.129 0 L97.691 0 L97.691 -2.981 Q97.691 -3.85 97.977 -4.2295 Q98.263 -4.609 98.901 -4.609 Q99.462 -4.609 99.682 -4.2625 Q99.902 -3.916 99.902 -3.212 L99.902 0 L101.464 0 L101.464 -3.498 Q101.464 -4.026 101.3705 -4.4605 Q101.277 -4.895 101.046 -5.1975 Q100.815 -5.5 100.4135 -5.6705 Q100.012 -5.841 99.385 -5.841 Q98.89 -5.841 98.417 -5.6155 Q97.944 -5.39 97.647 -4.895 L97.614 -4.895 L97.614 -5.687 ZM106.524 -3.685 L108.053 -3.685 Q108.02 -4.235 107.789 -4.6365 Q107.558 -5.038 107.1895 -5.3075 Q106.821 -5.577 106.3535 -5.709 Q105.886 -5.841 105.38 -5.841 Q104.687 -5.841 104.148 -5.61 Q103.609 -5.379 103.235 -4.9665 Q102.861 -4.554 102.6685 -3.9875 Q102.476 -3.421 102.476 -2.761 Q102.476 -2.123 102.685 -1.5895 Q102.894 -1.056 103.268 -0.671 Q103.642 -0.286 104.1755 -0.0715 Q104.709 0.143 105.347 0.143 Q106.48 0.143 107.206 -0.451 Q107.932 -1.045 108.086 -2.178 L106.579 -2.178 Q106.502 -1.65 106.1995 -1.3365 Q105.897 -1.023 105.336 -1.023 Q104.973 -1.023 104.72 -1.188 Q104.467 -1.353 104.3185 -1.6115 Q104.17 -1.87 104.104 -2.189 Q104.038 -2.508 104.038 -2.816 Q104.038 -3.135 104.104 -3.4595 Q104.17 -3.784 104.3295 -4.0535 Q104.489 -4.323 104.742 -4.4935 Q104.995 -4.664 105.369 -4.664 Q106.37 -4.664 106.524 -3.685 ZM111.771 0.704 L114.147 -5.687 L112.53 -5.687 L111.287 -1.793 L111.265 -1.793 L109.978 -5.687 L108.317 -5.687 L110.308 -0.352 Q110.374 -0.187 110.374 0 Q110.374 0.253 110.2255 0.462 Q110.077 0.671 109.769 0.704 Q109.538 0.715 109.307 0.693 Q109.076 0.671 108.856 0.649 L108.856 1.936 Q109.098 1.958 109.3345 1.9745 Q109.571 1.991 109.813 1.991 Q110.616 1.991 111.067 1.694 Q111.518 1.397 111.771 0.704 ZM119.625 -4.301 L119.625 -6.512 L121.517 -6.512 Q122.111 -6.512 122.408 -6.2535 Q122.705 -5.995 122.705 -5.423 Q122.705 -4.829 122.408 -4.565 Q122.111 -4.301 121.517 -4.301 ZM117.898 -7.854 L117.898 0 L119.625 0 L119.625 -3.069 L121.352 -3.069 Q122.001 -3.069 122.287 -2.783 Q122.573 -2.497 122.661 -1.881 Q122.727 -1.408 122.76 -0.891 Q122.793 -0.374 122.936 0 L124.663 0 Q124.542 -0.165 124.4815 -0.4015 Q124.421 -0.638 124.3935 -0.902 Q124.366 -1.166 124.355 -1.419 Q124.344 -1.672 124.333 -1.859 Q124.311 -2.156 124.2505 -2.453 Q124.19 -2.75 124.058 -2.9975 Q123.926 -3.245 123.717 -3.4265 Q123.508 -3.608 123.189 -3.696 L123.189 -3.718 Q123.849 -3.982 124.1405 -4.488 Q124.432 -4.994 124.432 -5.687 Q124.432 -6.138 124.2725 -6.5285 Q124.113 -6.919 123.8105 -7.216 Q123.508 -7.513 123.0845 -7.6835 Q122.661 -7.854 122.133 -7.854 ZM129.503 -3.454 L126.962 -3.454 Q126.973 -3.619 127.0335 -3.828 Q127.094 -4.037 127.2425 -4.224 Q127.391 -4.411 127.6385 -4.5375 Q127.886 -4.664 128.26 -4.664 Q128.832 -4.664 129.1125 -4.356 Q129.393 -4.048 129.503 -3.454 ZM126.962 -2.464 L131.065 -2.464 Q131.109 -3.124 130.955 -3.729 Q130.801 -4.334 130.4545 -4.807 Q130.108 -5.28 129.569 -5.5605 Q129.03 -5.841 128.304 -5.841 Q127.655 -5.841 127.1215 -5.61 Q126.588 -5.379 126.203 -4.9775 Q125.818 -4.576 125.609 -4.026 Q125.4 -3.476 125.4 -2.838 Q125.4 -2.178 125.6035 -1.628 Q125.807 -1.078 126.181 -0.682 Q126.555 -0.286 127.094 -0.0715 Q127.633 0.143 128.304 0.143 Q129.272 0.143 129.954 -0.297 Q130.636 -0.737 130.966 -1.76 L129.591 -1.76 Q129.514 -1.496 129.173 -1.2595 Q128.832 -1.023 128.359 -1.023 Q127.699 -1.023 127.347 -1.364 Q126.995 -1.705 126.962 -2.464 ZM133.199 -1.848 L131.714 -1.848 Q131.736 -1.276 131.9725 -0.8965 Q132.209 -0.517 132.5775 -0.286 Q132.946 -0.055 133.419 0.044 Q133.892 0.143 134.387 0.143 Q134.871 0.143 135.3385 0.0495 Q135.806 -0.044 136.169 -0.275 Q136.532 -0.506 136.7575 -0.8855 Q136.983 -1.265 136.983 -1.826 Q136.983 -2.222 136.829 -2.4915 Q136.675 -2.761 136.422 -2.9425 Q136.169 -3.124 135.8445 -3.234 Q135.52 -3.344 135.179 -3.421 Q134.849 -3.498 134.53 -3.564 Q134.211 -3.63 133.9635 -3.7125 Q133.716 -3.795 133.562 -3.927 Q133.408 -4.059 133.408 -4.268 Q133.408 -4.444 133.496 -4.5485 Q133.584 -4.653 133.7105 -4.708 Q133.837 -4.763 133.991 -4.7795 Q134.145 -4.796 134.277 -4.796 Q134.695 -4.796 135.003 -4.6365 Q135.311 -4.477 135.344 -4.026 L136.829 -4.026 Q136.785 -4.554 136.5595 -4.9005 Q136.334 -5.247 135.993 -5.456 Q135.652 -5.665 135.2175 -5.753 Q134.783 -5.841 134.321 -5.841 Q133.859 -5.841 133.419 -5.7585 Q132.979 -5.676 132.627 -5.4725 Q132.275 -5.269 132.0605 -4.917 Q131.846 -4.565 131.846 -4.015 Q131.846 -3.641 132 -3.3825 Q132.154 -3.124 132.407 -2.9535 Q132.66 -2.783 132.9845 -2.6785 Q133.309 -2.574 133.65 -2.497 Q134.486 -2.321 134.9535 -2.145 Q135.421 -1.969 135.421 -1.617 Q135.421 -1.408 135.322 -1.2705 Q135.223 -1.133 135.0745 -1.0505 Q134.926 -0.968 134.7445 -0.9295 Q134.563 -0.891 134.398 -0.891 Q134.167 -0.891 133.9525 -0.946 Q133.738 -1.001 133.573 -1.1165 Q133.408 -1.232 133.3035 -1.4135 Q133.199 -1.595 133.199 -1.848 ZM140.767 -1.023 Q140.393 -1.023 140.129 -1.177 Q139.865 -1.331 139.7055 -1.5785 Q139.546 -1.826 139.4745 -2.156 Q139.403 -2.486 139.403 -2.827 Q139.403 -3.179 139.469 -3.509 Q139.535 -3.839 139.6945 -4.092 Q139.854 -4.345 140.1125 -4.5045 Q140.371 -4.664 140.756 -4.664 Q141.13 -4.664 141.3885 -4.5045 Q141.647 -4.345 141.812 -4.0865 Q141.977 -3.828 142.0485 -3.498 Q142.12 -3.168 142.12 -2.827 Q142.12 -2.486 142.054 -2.156 Q141.988 -1.826 141.8285 -1.5785 Q141.669 -1.331 141.4105 -1.177 Q141.152 -1.023 140.767 -1.023 ZM137.896 -5.687 L137.896 1.991 L139.458 1.991 L139.458 -0.704 L139.48 -0.704 Q139.766 -0.286 140.2115 -0.0715 Q140.657 0.143 141.185 0.143 Q141.812 0.143 142.2795 -0.099 Q142.747 -0.341 143.0605 -0.748 Q143.374 -1.155 143.528 -1.683 Q143.682 -2.211 143.682 -2.783 Q143.682 -3.388 143.528 -3.9435 Q143.374 -4.499 143.055 -4.917 Q142.736 -5.335 142.252 -5.588 Q141.768 -5.841 141.097 -5.841 Q140.569 -5.841 140.129 -5.632 Q139.689 -5.423 139.403 -4.961 L139.381 -4.961 L139.381 -5.687 ZM146.003 -2.838 Q146.003 -3.179 146.069 -3.509 Q146.135 -3.839 146.2945 -4.092 Q146.454 -4.345 146.718 -4.5045 Q146.982 -4.664 147.378 -4.664 Q147.774 -4.664 148.0435 -4.5045 Q148.313 -4.345 148.4725 -4.092 Q148.632 -3.839 148.698 -3.509 Q148.764 -3.179 148.764 -2.838 Q148.764 -2.497 148.698 -2.1725 Q148.632 -1.848 148.4725 -1.5895 Q148.313 -1.331 148.0435 -1.177 Q147.774 -1.023 147.378 -1.023 Q146.982 -1.023 146.718 -1.177 Q146.454 -1.331 146.2945 -1.5895 Q146.135 -1.848 146.069 -2.1725 Q146.003 -2.497 146.003 -2.838 ZM144.441 -2.838 Q144.441 -2.156 144.65 -1.606 Q144.859 -1.056 145.244 -0.6655 Q145.629 -0.275 146.168 -0.066 Q146.707 0.143 147.378 0.143 Q148.049 0.143 148.5935 -0.066 Q149.138 -0.275 149.523 -0.6655 Q149.908 -1.056 150.117 -1.606 Q150.326 -2.156 150.326 -2.838 Q150.326 -3.52 150.117 -4.0755 Q149.908 -4.631 149.523 -5.0215 Q149.138 -5.412 148.5935 -5.6265 Q148.049 -5.841 147.378 -5.841 Q146.707 -5.841 146.168 -5.6265 Q145.629 -5.412 145.244 -5.0215 Q144.859 -4.631 144.65 -4.0755 Q144.441 -3.52 144.441 -2.838 ZM151.338 -5.687 L151.338 0 L152.9 0 L152.9 -2.981 Q152.9 -3.85 153.186 -4.2295 Q153.472 -4.609 154.11 -4.609 Q154.671 -4.609 154.891 -4.2625 Q155.111 -3.916 155.111 -3.212 L155.111 0 L156.673 0 L156.673 -3.498 Q156.673 -4.026 156.5795 -4.4605 Q156.486 -4.895 156.255 -5.1975 Q156.024 -5.5 155.6225 -5.6705 Q155.221 -5.841 154.594 -5.841 Q154.099 -5.841 153.626 -5.6155 Q153.153 -5.39 152.856 -4.895 L152.823 -4.895 L152.823 -5.687 ZM159.071 -1.848 L157.586 -1.848 Q157.608 -1.276 157.8445 -0.8965 Q158.081 -0.517 158.4495 -0.286 Q158.818 -0.055 159.291 0.044 Q159.764 0.143 160.259 0.143 Q160.743 0.143 161.2105 0.0495 Q161.678 -0.044 162.041 -0.275 Q162.404 -0.506 162.6295 -0.8855 Q162.855 -1.265 162.855 -1.826 Q162.855 -2.222 162.701 -2.4915 Q162.547 -2.761 162.294 -2.9425 Q162.041 -3.124 161.7165 -3.234 Q161.392 -3.344 161.051 -3.421 Q160.721 -3.498 160.402 -3.564 Q160.083 -3.63 159.8355 -3.7125 Q159.588 -3.795 159.434 -3.927 Q159.28 -4.059 159.28 -4.268 Q159.28 -4.444 159.368 -4.5485 Q159.456 -4.653 159.5825 -4.708 Q159.709 -4.763 159.863 -4.7795 Q160.017 -4.796 160.149 -4.796 Q160.567 -4.796 160.875 -4.6365 Q161.183 -4.477 161.216 -4.026 L162.701 -4.026 Q162.657 -4.554 162.4315 -4.9005 Q162.206 -5.247 161.865 -5.456 Q161.524 -5.665 161.0895 -5.753 Q160.655 -5.841 160.193 -5.841 Q159.731 -5.841 159.291 -5.7585 Q158.851 -5.676 158.499 -5.4725 Q158.147 -5.269 157.9325 -4.917 Q157.718 -4.565 157.718 -4.015 Q157.718 -3.641 157.872 -3.3825 Q158.026 -3.124 158.279 -2.9535 Q158.532 -2.783 158.8565 -2.6785 Q159.181 -2.574 159.522 -2.497 Q160.358 -2.321 160.8255 -2.145 Q161.293 -1.969 161.293 -1.617 Q161.293 -1.408 161.194 -1.2705 Q161.095 -1.133 160.9465 -1.0505 Q160.798 -0.968 160.6165 -0.9295 Q160.435 -0.891 160.27 -0.891 Q160.039 -0.891 159.8245 -0.946 Q159.61 -1.001 159.445 -1.1165 Q159.28 -1.232 159.1755 -1.4135 Q159.071 -1.595 159.071 -1.848 ZM167.596 -3.454 L165.055 -3.454 Q165.066 -3.619 165.1265 -3.828 Q165.187 -4.037 165.3355 -4.224 Q165.484 -4.411 165.7315 -4.5375 Q165.979 -4.664 166.353 -4.664 Q166.925 -4.664 167.2055 -4.356 Q167.486 -4.048 167.596 -3.454 ZM165.055 -2.464 L169.158 -2.464 Q169.202 -3.124 169.048 -3.729 Q168.894 -4.334 168.5475 -4.807 Q168.201 -5.28 167.662 -5.5605 Q167.123 -5.841 166.397 -5.841 Q165.748 -5.841 165.2145 -5.61 Q164.681 -5.379 164.296 -4.9775 Q163.911 -4.576 163.702 -4.026 Q163.493 -3.476 163.493 -2.838 Q163.493 -2.178 163.6965 -1.628 Q163.9 -1.078 164.274 -0.682 Q164.648 -0.286 165.187 -0.0715 Q165.726 0.143 166.397 0.143 Q167.365 0.143 168.047 -0.297 Q168.729 -0.737 169.059 -1.76 L167.684 -1.76 Q167.607 -1.496 167.266 -1.2595 Q166.925 -1.023 166.452 -1.023 Q165.792 -1.023 165.44 -1.364 Q165.088 -1.705 165.055 -2.464 ZM173.481 -4.642 L173.481 0 L175.043 0 L175.043 -4.642 L176.121 -4.642 L176.121 -5.687 L175.043 -5.687 L175.043 -6.028 Q175.043 -6.38 175.1805 -6.5285 Q175.318 -6.677 175.637 -6.677 Q175.934 -6.677 176.209 -6.644 L176.209 -7.81 Q176.011 -7.821 175.802 -7.8375 Q175.593 -7.854 175.384 -7.854 Q174.427 -7.854 173.954 -7.37 Q173.481 -6.886 173.481 -6.127 L173.481 -5.687 L172.546 -5.687 L172.546 -4.642 ZM178.189 -2.838 Q178.189 -3.179 178.255 -3.509 Q178.321 -3.839 178.4805 -4.092 Q178.64 -4.345 178.904 -4.5045 Q179.168 -4.664 179.564 -4.664 Q179.96 -4.664 180.2295 -4.5045 Q180.499 -4.345 180.6585 -4.092 Q180.818 -3.839 180.884 -3.509 Q180.95 -3.179 180.95 -2.838 Q180.95 -2.497 180.884 -2.1725 Q180.818 -1.848 180.6585 -1.5895 Q180.499 -1.331 180.2295 -1.177 Q179.96 -1.023 179.564 -1.023 Q179.168 -1.023 178.904 -1.177 Q178.64 -1.331 178.4805 -1.5895 Q178.321 -1.848 178.255 -2.1725 Q178.189 -2.497 178.189 -2.838 ZM176.627 -2.838 Q176.627 -2.156 176.836 -1.606 Q177.045 -1.056 177.43 -0.6655 Q177.815 -0.275 178.354 -0.066 Q178.893 0.143 179.564 0.143 Q180.235 0.143 180.7795 -0.066 Q181.324 -0.275 181.709 -0.6655 Q182.094 -1.056 182.303 -1.606 Q182.512 -2.156 182.512 -2.838 Q182.512 -3.52 182.303 -4.0755 Q182.094 -4.631 181.709 -5.0215 Q181.324 -5.412 180.7795 -5.6265 Q180.235 -5.841 179.564 -5.841 Q178.893 -5.841 178.354 -5.6265 Q177.815 -5.412 177.43 -5.0215 Q177.045 -4.631 176.836 -4.0755 Q176.627 -3.52 176.627 -2.838 ZM183.524 -5.687 L183.524 0 L185.086 0 L185.086 -2.563 Q185.086 -2.948 185.163 -3.278 Q185.24 -3.608 185.4215 -3.8555 Q185.603 -4.103 185.9 -4.246 Q186.197 -4.389 186.626 -4.389 Q186.769 -4.389 186.923 -4.3725 Q187.077 -4.356 187.187 -4.334 L187.187 -5.786 Q187 -5.841 186.846 -5.841 Q186.549 -5.841 186.274 -5.753 Q185.999 -5.665 185.757 -5.5055 Q185.515 -5.346 185.328 -5.1205 Q185.141 -4.895 185.031 -4.631 L185.009 -4.631 L185.009 -5.687 ZM190.674 -4.741 L192.17 -4.741 Q192.17 -5.049 192.2305 -5.3625 Q192.291 -5.676 192.434 -5.9345 Q192.577 -6.193 192.8135 -6.3525 Q193.05 -6.512 193.391 -6.512 Q193.897 -6.512 194.2215 -6.1985 Q194.546 -5.885 194.546 -5.324 Q194.546 -4.972 194.3865 -4.697 Q194.227 -4.422 193.9905 -4.202 Q193.754 -3.982 193.468 -3.8005 Q193.182 -3.619 192.929 -3.443 Q192.434 -3.102 191.9885 -2.772 Q191.543 -2.442 191.213 -2.0515 Q190.883 -1.661 190.6905 -1.166 Q190.498 -0.671 190.498 0 L196.152 0 L196.152 -1.342 L192.511 -1.342 Q192.797 -1.738 193.171 -2.035 Q193.545 -2.332 193.941 -2.5905 Q194.337 -2.849 194.7275 -3.113 Q195.118 -3.377 195.426 -3.7015 Q195.734 -4.026 195.921 -4.444 Q196.108 -4.862 196.108 -5.445 Q196.108 -6.006 195.8935 -6.457 Q195.679 -6.908 195.316 -7.216 Q194.953 -7.524 194.4745 -7.689 Q193.996 -7.854 193.468 -7.854 Q192.775 -7.854 192.2415 -7.6175 Q191.708 -7.381 191.356 -6.9575 Q191.004 -6.534 190.828 -5.9675 Q190.652 -5.401 190.674 -4.741 ZM196.977 -5.687 L196.977 0 L198.539 0 L198.539 -2.981 Q198.539 -3.85 198.825 -4.2295 Q199.111 -4.609 199.749 -4.609 Q200.31 -4.609 200.53 -4.2625 Q200.75 -3.916 200.75 -3.212 L200.75 0 L202.312 0 L202.312 -3.498 Q202.312 -4.026 202.2185 -4.4605 Q202.125 -4.895 201.894 -5.1975 Q201.663 -5.5 201.2615 -5.6705 Q200.86 -5.841 200.233 -5.841 Q199.738 -5.841 199.265 -5.6155 Q198.792 -5.39 198.495 -4.895 L198.462 -4.895 L198.462 -5.687 ZM207.537 -2.86 Q207.537 -2.508 207.471 -2.178 Q207.405 -1.848 207.251 -1.5895 Q207.097 -1.331 206.8385 -1.177 Q206.58 -1.023 206.195 -1.023 Q205.832 -1.023 205.5735 -1.1825 Q205.315 -1.342 205.1445 -1.6005 Q204.974 -1.859 204.897 -2.189 Q204.82 -2.519 204.82 -2.849 Q204.82 -3.201 204.8915 -3.5255 Q204.963 -3.85 205.1225 -4.103 Q205.282 -4.356 205.546 -4.51 Q205.81 -4.664 206.195 -4.664 Q206.58 -4.664 206.833 -4.51 Q207.086 -4.356 207.2455 -4.1085 Q207.405 -3.861 207.471 -3.5365 Q207.537 -3.212 207.537 -2.86 ZM207.559 -0.726 L207.559 0 L209.044 0 L209.044 -7.854 L207.482 -7.854 L207.482 -4.994 L207.46 -4.994 Q207.196 -5.412 206.7395 -5.6265 Q206.283 -5.841 205.777 -5.841 Q205.15 -5.841 204.677 -5.5935 Q204.204 -5.346 203.8905 -4.939 Q203.577 -4.532 203.4175 -3.9985 Q203.258 -3.465 203.258 -2.893 Q203.258 -2.299 203.4175 -1.749 Q203.577 -1.199 203.8905 -0.7755 Q204.204 -0.352 204.688 -0.1045 Q205.172 0.143 205.81 0.143 Q206.371 0.143 206.8165 -0.0605 Q207.262 -0.264 207.537 -0.726 ZM210.21 -3.674 L210.21 -2.332 L213.521 -2.332 L213.521 -3.674 ZM216.249 -3.894 Q216.249 -4.411 216.3645 -4.895 Q216.48 -5.379 216.733 -5.7585 Q216.986 -6.138 217.393 -6.3635 Q217.8 -6.589 218.383 -6.589 Q218.966 -6.589 219.373 -6.3635 Q219.78 -6.138 220.033 -5.7585 Q220.286 -5.379 220.4015 -4.895 Q220.517 -4.411 220.517 -3.894 Q220.517 -3.399 220.4015 -2.9315 Q220.286 -2.464 220.033 -2.09 Q219.78 -1.716 219.373 -1.4905 Q218.966 -1.265 218.383 -1.265 Q217.8 -1.265 217.393 -1.4905 Q216.986 -1.716 216.733 -2.09 Q216.48 -2.464 216.3645 -2.9315 Q216.249 -3.399 216.249 -3.894 ZM214.522 -3.894 Q214.522 -3.036 214.786 -2.2935 Q215.05 -1.551 215.545 -1.001 Q216.04 -0.451 216.7605 -0.1375 Q217.481 0.176 218.383 0.176 Q219.296 0.176 220.011 -0.1375 Q220.726 -0.451 221.221 -1.001 Q221.716 -1.551 221.98 -2.2935 Q222.244 -3.036 222.244 -3.894 Q222.244 -4.774 221.98 -5.5275 Q221.716 -6.281 221.221 -6.842 Q220.726 -7.403 220.011 -7.722 Q219.296 -8.041 218.383 -8.041 Q217.481 -8.041 216.7605 -7.722 Q216.04 -7.403 215.545 -6.842 Q215.05 -6.281 214.786 -5.5275 Q214.522 -4.774 214.522 -3.894 ZM223.256 -5.687 L223.256 0 L224.818 0 L224.818 -2.563 Q224.818 -2.948 224.895 -3.278 Q224.972 -3.608 225.1535 -3.8555 Q225.335 -4.103 225.632 -4.246 Q225.929 -4.389 226.358 -4.389 Q226.501 -4.389 226.655 -4.3725 Q226.809 -4.356 226.919 -4.334 L226.919 -5.786 Q226.732 -5.841 226.578 -5.841 Q226.281 -5.841 226.006 -5.753 Q225.731 -5.665 225.489 -5.5055 Q225.247 -5.346 225.06 -5.1205 Q224.873 -4.895 224.763 -4.631 L224.741 -4.631 L224.741 -5.687 ZM231.572 -2.86 Q231.572 -2.508 231.506 -2.178 Q231.44 -1.848 231.286 -1.5895 Q231.132 -1.331 230.8735 -1.177 Q230.615 -1.023 230.23 -1.023 Q229.867 -1.023 229.6085 -1.1825 Q229.35 -1.342 229.1795 -1.6005 Q229.009 -1.859 228.932 -2.189 Q228.855 -2.519 228.855 -2.849 Q228.855 -3.201 228.9265 -3.5255 Q228.998 -3.85 229.1575 -4.103 Q229.317 -4.356 229.581 -4.51 Q229.845 -4.664 230.23 -4.664 Q230.615 -4.664 230.868 -4.51 Q231.121 -4.356 231.2805 -4.1085 Q231.44 -3.861 231.506 -3.5365 Q231.572 -3.212 231.572 -2.86 ZM231.594 -0.726 L231.594 0 L233.079 0 L233.079 -7.854 L231.517 -7.854 L231.517 -4.994 L231.495 -4.994 Q231.231 -5.412 230.7745 -5.6265 Q230.318 -5.841 229.812 -5.841 Q229.185 -5.841 228.712 -5.5935 Q228.239 -5.346 227.9255 -4.939 Q227.612 -4.532 227.4525 -3.9985 Q227.293 -3.465 227.293 -2.893 Q227.293 -2.299 227.4525 -1.749 Q227.612 -1.199 227.9255 -0.7755 Q228.239 -0.352 228.723 -0.1045 Q229.207 0.143 229.845 0.143 Q230.406 0.143 230.8515 -0.0605 Q231.297 -0.264 231.572 -0.726 ZM238.084 -3.454 L235.543 -3.454 Q235.554 -3.619 235.6145 -3.828 Q235.675 -4.037 235.8235 -4.224 Q235.972 -4.411 236.2195 -4.5375 Q236.467 -4.664 236.841 -4.664 Q237.413 -4.664 237.6935 -4.356 Q237.974 -4.048 238.084 -3.454 ZM235.543 -2.464 L239.646 -2.464 Q239.69 -3.124 239.536 -3.729 Q239.382 -4.334 239.0355 -4.807 Q238.689 -5.28 238.15 -5.5605 Q237.611 -5.841 236.885 -5.841 Q236.236 -5.841 235.7025 -5.61 Q235.169 -5.379 234.784 -4.9775 Q234.399 -4.576 234.19 -4.026 Q233.981 -3.476 233.981 -2.838 Q233.981 -2.178 234.1845 -1.628 Q234.388 -1.078 234.762 -0.682 Q235.136 -0.286 235.675 -0.0715 Q236.214 0.143 236.885 0.143 Q237.853 0.143 238.535 -0.297 Q239.217 -0.737 239.547 -1.76 L238.172 -1.76 Q238.095 -1.496 237.754 -1.2595 Q237.413 -1.023 236.94 -1.023 Q236.28 -1.023 235.928 -1.364 Q235.576 -1.705 235.543 -2.464 ZM240.57 -5.687 L240.57 0 L242.132 0 L242.132 -2.563 Q242.132 -2.948 242.209 -3.278 Q242.286 -3.608 242.4675 -3.8555 Q242.649 -4.103 242.946 -4.246 Q243.243 -4.389 243.672 -4.389 Q243.815 -4.389 243.969 -4.3725 Q244.123 -4.356 244.233 -4.334 L244.233 -5.786 Q244.046 -5.841 243.892 -5.841 Q243.595 -5.841 243.32 -5.753 Q243.045 -5.665 242.803 -5.5055 Q242.561 -5.346 242.374 -5.1205 Q242.187 -4.895 242.077 -4.631 L242.055 -4.631 L242.055 -5.687 ZM248.072 -7.854 L248.072 0 L249.799 0 L249.799 -3.388 L252.978 -3.388 L252.978 0 L254.705 0 L254.705 -7.854 L252.978 -7.854 L252.978 -4.84 L249.799 -4.84 L249.799 -7.854 ZM257.95 -4.158 L257.95 -6.512 L259.292 -6.512 Q259.589 -6.512 259.864 -6.468 Q260.139 -6.424 260.348 -6.2975 Q260.557 -6.171 260.6835 -5.94 Q260.81 -5.709 260.81 -5.335 Q260.81 -4.961 260.6835 -4.73 Q260.557 -4.499 260.348 -4.3725 Q260.139 -4.246 259.864 -4.202 Q259.589 -4.158 259.292 -4.158 ZM256.223 -7.854 L256.223 0 L257.95 0 L257.95 -2.816 L259.765 -2.816 Q260.502 -2.816 261.019 -3.0305 Q261.536 -3.245 261.8605 -3.597 Q262.185 -3.949 262.3335 -4.4055 Q262.482 -4.862 262.482 -5.335 Q262.482 -5.819 262.3335 -6.27 Q262.185 -6.721 261.8605 -7.073 Q261.536 -7.425 261.019 -7.6395 Q260.502 -7.854 259.765 -7.854 ZM268.345 -4.675 L268.345 -6.512 L269.962 -6.512 Q270.193 -6.512 270.4075 -6.4735 Q270.622 -6.435 270.787 -6.336 Q270.952 -6.237 271.051 -6.061 Q271.15 -5.885 271.15 -5.61 Q271.15 -5.115 270.853 -4.895 Q270.556 -4.675 270.094 -4.675 ZM266.618 -7.854 L266.618 0 L270.424 0 Q270.952 0 271.4525 -0.132 Q271.953 -0.264 272.3435 -0.539 Q272.734 -0.814 272.965 -1.2485 Q273.196 -1.683 273.196 -2.277 Q273.196 -3.014 272.8385 -3.5365 Q272.481 -4.059 271.755 -4.268 Q272.283 -4.521 272.5525 -4.917 Q272.822 -5.313 272.822 -5.907 Q272.822 -6.457 272.6405 -6.831 Q272.459 -7.205 272.129 -7.4305 Q271.799 -7.656 271.337 -7.755 Q270.875 -7.854 270.314 -7.854 ZM268.345 -1.342 L268.345 -3.498 L270.226 -3.498 Q270.787 -3.498 271.128 -3.2395 Q271.469 -2.981 271.469 -2.376 Q271.469 -2.068 271.3645 -1.87 Q271.26 -1.672 271.084 -1.5565 Q270.908 -1.441 270.677 -1.3915 Q270.446 -1.342 270.193 -1.342 ZM279.532 0 L279.532 -5.687 L277.97 -5.687 L277.97 -2.706 Q277.97 -1.837 277.684 -1.4575 Q277.398 -1.078 276.76 -1.078 Q276.199 -1.078 275.979 -1.4245 Q275.759 -1.771 275.759 -2.475 L275.759 -5.687 L274.197 -5.687 L274.197 -2.189 Q274.197 -1.661 274.2905 -1.2265 Q274.384 -0.792 274.615 -0.4895 Q274.846 -0.187 275.2475 -0.022 Q275.649 0.143 276.276 0.143 Q276.771 0.143 277.244 -0.077 Q277.717 -0.297 278.014 -0.792 L278.047 -0.792 L278.047 0 ZM282.7 -5.687 L282.7 -7.392 L281.138 -7.392 L281.138 -5.687 L280.192 -5.687 L280.192 -4.642 L281.138 -4.642 L281.138 -1.287 Q281.138 -0.858 281.281 -0.594 Q281.424 -0.33 281.6715 -0.187 Q281.919 -0.044 282.2435 0.0055 Q282.568 0.055 282.931 0.055 Q283.162 0.055 283.404 0.044 Q283.646 0.033 283.844 0 L283.844 -1.21 Q283.734 -1.188 283.613 -1.177 Q283.492 -1.166 283.36 -1.166 Q282.964 -1.166 282.832 -1.298 Q282.7 -1.43 282.7 -1.826 L282.7 -4.642 L283.844 -4.642 L283.844 -5.687 ZM286.572 -5.687 L286.572 -7.392 L285.01 -7.392 L285.01 -5.687 L284.064 -5.687 L284.064 -4.642 L285.01 -4.642 L285.01 -1.287 Q285.01 -0.858 285.153 -0.594 Q285.296 -0.33 285.5435 -0.187 Q285.791 -0.044 286.1155 0.0055 Q286.44 0.055 286.803 0.055 Q287.034 0.055 287.276 0.044 Q287.518 0.033 287.716 0 L287.716 -1.21 Q287.606 -1.188 287.485 -1.177 Q287.364 -1.166 287.232 -1.166 Q286.836 -1.166 286.704 -1.298 Q286.572 -1.43 286.572 -1.826 L286.572 -4.642 L287.716 -4.642 L287.716 -5.687 ZM292.292 -3.454 L289.751 -3.454 Q289.762 -3.619 289.8225 -3.828 Q289.883 -4.037 290.0315 -4.224 Q290.18 -4.411 290.4275 -4.5375 Q290.675 -4.664 291.049 -4.664 Q291.621 -4.664 291.9015 -4.356 Q292.182 -4.048 292.292 -3.454 ZM289.751 -2.464 L293.854 -2.464 Q293.898 -3.124 293.744 -3.729 Q293.59 -4.334 293.2435 -4.807 Q292.897 -5.28 292.358 -5.5605 Q291.819 -5.841 291.093 -5.841 Q290.444 -5.841 289.9105 -5.61 Q289.377 -5.379 288.992 -4.9775 Q288.607 -4.576 288.398 -4.026 Q288.189 -3.476 288.189 -2.838 Q288.189 -2.178 288.3925 -1.628 Q288.596 -1.078 288.97 -0.682 Q289.344 -0.286 289.883 -0.0715 Q290.422 0.143 291.093 0.143 Q292.061 0.143 292.743 -0.297 Q293.425 -0.737 293.755 -1.76 L292.38 -1.76 Q292.303 -1.496 291.962 -1.2595 Q291.621 -1.023 291.148 -1.023 Q290.488 -1.023 290.136 -1.364 Q289.784 -1.705 289.751 -2.464 ZM294.778 -5.687 L294.778 0 L296.34 0 L296.34 -2.563 Q296.34 -2.948 296.417 -3.278 Q296.494 -3.608 296.6755 -3.8555 Q296.857 -4.103 297.154 -4.246 Q297.451 -4.389 297.88 -4.389 Q298.023 -4.389 298.177 -4.3725 Q298.331 -4.356 298.441 -4.334 L298.441 -5.786 Q298.254 -5.841 298.1 -5.841 Q297.803 -5.841 297.528 -5.753 Q297.253 -5.665 297.011 -5.5055 Q296.769 -5.346 296.582 -5.1205 Q296.395 -4.895 296.285 -4.631 L296.263 -4.631 L296.263 -5.687 ZM305.558 0 L307.351 -5.687 L305.745 -5.687 L304.7 -1.837 L304.678 -1.837 L303.71 -5.687 L302.192 -5.687 L301.246 -1.826 L301.224 -1.826 L300.179 -5.687 L298.529 -5.687 L300.333 0 L301.95 0 L302.918 -3.817 L302.94 -3.817 L303.952 0 ZM309.397 -2.838 Q309.397 -3.179 309.463 -3.509 Q309.529 -3.839 309.6885 -4.092 Q309.848 -4.345 310.112 -4.5045 Q310.376 -4.664 310.772 -4.664 Q311.168 -4.664 311.4375 -4.5045 Q311.707 -4.345 311.8665 -4.092 Q312.026 -3.839 312.092 -3.509 Q312.158 -3.179 312.158 -2.838 Q312.158 -2.497 312.092 -2.1725 Q312.026 -1.848 311.8665 -1.5895 Q311.707 -1.331 311.4375 -1.177 Q311.168 -1.023 310.772 -1.023 Q310.376 -1.023 310.112 -1.177 Q309.848 -1.331 309.6885 -1.5895 Q309.529 -1.848 309.463 -2.1725 Q309.397 -2.497 309.397 -2.838 ZM307.835 -2.838 Q307.835 -2.156 308.044 -1.606 Q308.253 -1.056 308.638 -0.6655 Q309.023 -0.275 309.562 -0.066 Q310.101 0.143 310.772 0.143 Q311.443 0.143 311.9875 -0.066 Q312.532 -0.275 312.917 -0.6655 Q313.302 -1.056 313.511 -1.606 Q313.72 -2.156 313.72 -2.838 Q313.72 -3.52 313.511 -4.0755 Q313.302 -4.631 312.917 -5.0215 Q312.532 -5.412 311.9875 -5.6265 Q311.443 -5.841 310.772 -5.841 Q310.101 -5.841 309.562 -5.6265 Q309.023 -5.412 308.638 -5.0215 Q308.253 -4.631 308.044 -4.0755 Q307.835 -3.52 307.835 -2.838 ZM314.732 -5.687 L314.732 0 L316.294 0 L316.294 -2.563 Q316.294 -2.948 316.371 -3.278 Q316.448 -3.608 316.6295 -3.8555 Q316.811 -4.103 317.108 -4.246 Q317.405 -4.389 317.834 -4.389 Q317.977 -4.389 318.131 -4.3725 Q318.285 -4.356 318.395 -4.334 L318.395 -5.786 Q318.208 -5.841 318.054 -5.841 Q317.757 -5.841 317.482 -5.753 Q317.207 -5.665 316.965 -5.5055 Q316.723 -5.346 316.536 -5.1205 Q316.349 -4.895 316.239 -4.631 L316.217 -4.631 L316.217 -5.687 ZM320.991 -5.687 L320.991 -7.392 L319.429 -7.392 L319.429 -5.687 L318.483 -5.687 L318.483 -4.642 L319.429 -4.642 L319.429 -1.287 Q319.429 -0.858 319.572 -0.594 Q319.715 -0.33 319.9625 -0.187 Q320.21 -0.044 320.5345 0.0055 Q320.859 0.055 321.222 0.055 Q321.453 0.055 321.695 0.044 Q321.937 0.033 322.135 0 L322.135 -1.21 Q322.025 -1.188 321.904 -1.177 Q321.783 -1.166 321.651 -1.166 Q321.255 -1.166 321.123 -1.298 Q320.991 -1.43 320.991 -1.826 L320.991 -4.642 L322.135 -4.642 L322.135 -5.687 ZM322.883 -7.854 L322.883 0 L324.445 0 L324.445 -2.981 Q324.445 -3.85 324.731 -4.2295 Q325.017 -4.609 325.655 -4.609 Q326.216 -4.609 326.436 -4.2625 Q326.656 -3.916 326.656 -3.212 L326.656 0 L328.218 0 L328.218 -3.498 Q328.218 -4.026 328.1245 -4.4605 Q328.031 -4.895 327.8 -5.1975 Q327.569 -5.5 327.1675 -5.6705 Q326.766 -5.841 326.139 -5.841 Q325.699 -5.841 325.237 -5.6155 Q324.775 -5.39 324.478 -4.895 L324.445 -4.895 L324.445 -7.854 ZM332.629 -7.854 L332.629 0 L334.356 0 L334.356 -3.245 L337.645 -3.245 L337.645 -4.587 L334.356 -4.587 L334.356 -6.402 L338.151 -6.402 L338.151 -7.854 ZM340.593 -6.567 L340.593 -7.854 L339.031 -7.854 L339.031 -6.567 ZM339.031 -5.687 L339.031 0 L340.593 0 L340.593 -5.687 ZM341.869 -7.854 L341.869 0 L343.4311 0 L343.4311 -7.854 ZM346.6431 -5.687 L346.6431 -7.392 L345.0811 -7.392 L345.0811 -5.687 L344.1351 -5.687 L344.1351 -4.642 L345.0811 -4.642 L345.0811 -1.287 Q345.0811 -0.858 345.2241 -0.594 Q345.3671 -0.33 345.6146 -0.187 Q345.8621 -0.044 346.1866 0.0055 Q346.511 0.055 346.8741 0.055 Q347.1051 0.055 347.3471 0.044 Q347.5891 0.033 347.787 0 L347.787 -1.21 Q347.6771 -1.188 347.5561 -1.177 Q347.4351 -1.166 347.3031 -1.166 Q346.9071 -1.166 346.7751 -1.298 Q346.6431 -1.43 346.6431 -1.826 L346.6431 -4.642 L347.787 -4.642 L347.787 -5.687 ZM352.3631 -3.454 L349.8221 -3.454 Q349.8331 -3.619 349.8936 -3.828 Q349.9541 -4.037 350.1026 -4.224 Q350.2511 -4.411 350.4986 -4.5375 Q350.7461 -4.664 351.1201 -4.664 Q351.6921 -4.664 351.9726 -4.356 Q352.2531 -4.048 352.3631 -3.454 ZM349.8221 -2.464 L353.9251 -2.464 Q353.9691 -3.124 353.8151 -3.729 Q353.6611 -4.334 353.3146 -4.807 Q352.9681 -5.28 352.4291 -5.5605 Q351.8901 -5.841 351.1641 -5.841 Q350.5151 -5.841 349.9816 -5.61 Q349.4481 -5.379 349.0631 -4.9775 Q348.6781 -4.576 348.4691 -4.026 Q348.2601 -3.476 348.2601 -2.838 Q348.2601 -2.178 348.4636 -1.628 Q348.6671 -1.078 349.0411 -0.682 Q349.4151 -0.286 349.9541 -0.0715 Q350.4931 0.143 351.1641 0.143 Q352.1321 0.143 352.8141 -0.297 Q353.4961 -0.737 353.8261 -1.76 L352.4511 -1.76 Q352.3741 -1.496 352.0331 -1.2595 Q351.6921 -1.023 351.2191 -1.023 Q350.5591 -1.023 350.2071 -1.364 Q349.8551 -1.705 349.8221 -2.464 ZM354.8491 -5.687 L354.8491 0 L356.4111 0 L356.4111 -2.563 Q356.4111 -2.948 356.4881 -3.278 Q356.5651 -3.608 356.7466 -3.8555 Q356.9281 -4.103 357.2251 -4.246 Q357.5221 -4.389 357.9511 -4.389 Q358.0941 -4.389 358.2481 -4.3725 Q358.4021 -4.356 358.5121 -4.334 L358.5121 -5.786 Q358.3251 -5.841 358.1711 -5.841 Q357.8741 -5.841 357.5991 -5.753 Q357.3241 -5.665 357.0821 -5.5055 Q356.8401 -5.346 356.6531 -5.1205 Q356.4661 -4.895 356.3561 -4.631 L356.3341 -4.631 L356.3341 -5.687 ZM364.9251 -8.041 L363.6161 -8.041 Q363.2531 -7.513 362.9836 -6.886 Q362.7141 -6.259 362.5326 -5.588 Q362.3511 -4.917 362.2576 -4.2405 Q362.1641 -3.564 362.1641 -2.948 Q362.1641 -1.65 362.5436 -0.396 Q362.9231 0.858 363.6161 1.991 L364.9141 1.991 Q364.2871 0.792 364.0066 -0.473 Q363.7261 -1.738 363.7261 -3.058 Q363.7261 -4.356 364.0121 -5.6155 Q364.2981 -6.875 364.9251 -8.041 Z\"\n",
       "    /></g\n",
       "    ><g transform=\"translate(433,21)\" style=\"font-size:11px; text-rendering:geometricPrecision; image-rendering:optimizeQuality; color-rendering:optimizeQuality; font-family:'mwa_cmmi10'; color-interpolation:linearRGB; font-weight:bold;\"\n",
       "    ><path style=\"stroke:none;\" d=\"M1.3281 0.125 Q0.7031 0.125 0.4297 -0.3359 Q0.1562 -0.7969 0.1562 -1.4531 Q0.1562 -1.8906 0.2344 -2.3047 Q0.3125 -2.7188 0.4688 -3.1484 Q0.625 -3.5781 0.8281 -3.9453 Q1.0312 -4.3125 1.2969 -4.6719 Q1.3438 -4.75 1.4219 -4.75 Q2.4844 -4.75 2.5312 -4.7031 Q2.5781 -4.6562 2.5781 -4.5938 Q2.5781 -4.5312 2.5469 -4.4844 Q1.5312 -3.1094 1.5312 -1.9375 Q1.5312 -1.4375 1.7656 -1.0781 Q2 -0.7188 2 -0.7188 Q2 -0.7188 2.2969 -0.9609 Q2.5938 -1.2031 2.8594 -1.5781 Q2.8594 -1.7656 2.9219 -2.1719 Q2.9844 -2.5781 3.1328 -2.8984 Q3.2812 -3.2188 3.4688 -3.2188 Q4.7344 -3.2188 4.7344 -2.9219 Q4.7344 -2.75 4.6562 -2.4922 Q4.5781 -2.2344 4.4922 -2.0078 Q4.4062 -1.7812 4.2812 -1.5 Q4.4062 -0.7188 4.4062 -0.7188 Q4.4375 -0.7188 4.8203 -0.9375 Q5.2031 -1.1562 5.5 -1.5156 Q5.7969 -1.875 5.9688 -2.2891 Q6.1406 -2.7031 6.1406 -3.0625 Q6.1406 -3.4062 6.0391 -3.5859 Q5.9375 -3.7656 5.7656 -3.9688 Q5.5938 -4.1719 5.5938 -4.2969 Q5.5938 -4.5156 5.7734 -4.6953 Q5.9531 -4.875 6.1562 -4.875 Q7.4219 -4.875 7.5391 -4.6328 Q7.6562 -4.3906 7.6562 -4.0781 Q7.6562 -3.5625 7.4531 -2.7969 Q7.25 -2.0312 7 -1.5156 Q6.6406 -0.8281 6.1094 -0.3516 Q5.5781 0.125 3.9062 0.125 Q3.4844 0.125 3.2188 -0.1328 Q2.9531 -0.3906 2.9531 -0.3906 Q2.9531 -0.3906 2.875 -0.1328 Q2.7969 0.125 1.3281 0.125 Z\"\n",
       "    /></g\n",
       "    ><g transform=\"translate(441,26)\" style=\"font-size:8.8px; text-rendering:geometricPrecision; image-rendering:optimizeQuality; color-rendering:optimizeQuality; font-family:'Helvetica Neue'; color-interpolation:linearRGB; font-weight:bold;\"\n",
       "    ><path style=\"stroke:none;\" d=\"M3.5728 -2.948 L4.796 -2.948 Q4.7696 -3.388 4.5848 -3.7092 Q4.4 -4.0304 4.1052 -4.246 Q3.8104 -4.4616 3.4364 -4.5672 Q3.0624 -4.6728 2.6576 -4.6728 Q2.1032 -4.6728 1.672 -4.488 Q1.2408 -4.3032 0.9416 -3.9732 Q0.6424 -3.6432 0.4884 -3.19 Q0.3344 -2.7368 0.3344 -2.2088 Q0.3344 -1.6984 0.5016 -1.2716 Q0.6688 -0.8448 0.968 -0.5368 Q1.2672 -0.2288 1.694 -0.0572 Q2.1208 0.1144 2.6312 0.1144 Q3.5376 0.1144 4.1184 -0.3608 Q4.6992 -0.836 4.8224 -1.7424 L3.6168 -1.7424 Q3.5552 -1.32 3.3132 -1.0692 Q3.0712 -0.8184 2.6224 -0.8184 Q2.332 -0.8184 2.1296 -0.9504 Q1.9272 -1.0824 1.8084 -1.2892 Q1.6896 -1.496 1.6368 -1.7512 Q1.584 -2.0064 1.584 -2.2528 Q1.584 -2.508 1.6368 -2.7676 Q1.6896 -3.0272 1.8172 -3.2428 Q1.9448 -3.4584 2.1472 -3.5948 Q2.3496 -3.7312 2.6488 -3.7312 Q3.4496 -3.7312 3.5728 -2.948 Z\"\n",
       "    /></g\n",
       "    ><g transform=\"translate(447,21)\" style=\"font-size:11px; text-rendering:geometricPrecision; image-rendering:optimizeQuality; color-rendering:optimizeQuality; font-family:'Helvetica Neue'; color-interpolation:linearRGB; font-weight:bold;\"\n",
       "    ><path style=\"stroke:none;\" d=\"M9.141 -1.012 L9.141 -2.189 L3.586 -2.189 L3.586 -1.012 ZM9.141 -3.366 L9.141 -4.543 L3.586 -4.543 L3.586 -3.366 ZM17.028 0 L17.028 -7.7 L15.785 -7.7 Q15.719 -7.26 15.51 -6.963 Q15.301 -6.666 14.9985 -6.4845 Q14.696 -6.303 14.3165 -6.2315 Q13.937 -6.16 13.53 -6.171 L13.53 -4.994 L15.466 -4.994 L15.466 0 ZM20.625 -3.883 Q20.625 -4.081 20.6305 -4.3615 Q20.636 -4.642 20.669 -4.939 Q20.702 -5.236 20.779 -5.5275 Q20.856 -5.819 20.9935 -6.05 Q21.131 -6.281 21.3455 -6.424 Q21.56 -6.567 21.879 -6.567 Q22.198 -6.567 22.418 -6.424 Q22.638 -6.281 22.781 -6.05 Q22.924 -5.819 22.9955 -5.5275 Q23.067 -5.236 23.1055 -4.939 Q23.144 -4.642 23.1495 -4.3615 Q23.155 -4.081 23.155 -3.883 Q23.155 -3.553 23.133 -3.0855 Q23.111 -2.618 22.9955 -2.1835 Q22.88 -1.749 22.6215 -1.441 Q22.363 -1.133 21.879 -1.133 Q21.406 -1.133 21.153 -1.441 Q20.9 -1.749 20.7845 -2.1835 Q20.669 -2.618 20.647 -3.0855 Q20.625 -3.553 20.625 -3.883 ZM19.063 -3.883 Q19.063 -2.728 19.2885 -1.9525 Q19.514 -1.177 19.899 -0.715 Q20.284 -0.253 20.7955 -0.055 Q21.307 0.143 21.879 0.143 Q22.462 0.143 22.9735 -0.055 Q23.485 -0.253 23.8755 -0.715 Q24.266 -1.177 24.4915 -1.9525 Q24.717 -2.728 24.717 -3.883 Q24.717 -5.005 24.4915 -5.7695 Q24.266 -6.534 23.8755 -6.996 Q23.485 -7.458 22.9735 -7.656 Q22.462 -7.854 21.879 -7.854 Q21.307 -7.854 20.7955 -7.656 Q20.284 -7.458 19.899 -6.996 Q19.514 -6.534 19.2885 -5.7695 Q19.063 -5.005 19.063 -3.883 ZM26.741 -3.883 Q26.741 -4.081 26.7465 -4.3615 Q26.752 -4.642 26.785 -4.939 Q26.818 -5.236 26.895 -5.5275 Q26.972 -5.819 27.1095 -6.05 Q27.247 -6.281 27.4615 -6.424 Q27.676 -6.567 27.995 -6.567 Q28.314 -6.567 28.534 -6.424 Q28.754 -6.281 28.897 -6.05 Q29.04 -5.819 29.1115 -5.5275 Q29.183 -5.236 29.2215 -4.939 Q29.26 -4.642 29.2655 -4.3615 Q29.271 -4.081 29.271 -3.883 Q29.271 -3.553 29.249 -3.0855 Q29.227 -2.618 29.1115 -2.1835 Q28.996 -1.749 28.7375 -1.441 Q28.479 -1.133 27.995 -1.133 Q27.522 -1.133 27.269 -1.441 Q27.016 -1.749 26.9005 -2.1835 Q26.785 -2.618 26.763 -3.0855 Q26.741 -3.553 26.741 -3.883 ZM25.179 -3.883 Q25.179 -2.728 25.4045 -1.9525 Q25.63 -1.177 26.015 -0.715 Q26.4 -0.253 26.9115 -0.055 Q27.423 0.143 27.995 0.143 Q28.578 0.143 29.0895 -0.055 Q29.601 -0.253 29.9915 -0.715 Q30.382 -1.177 30.6075 -1.9525 Q30.833 -2.728 30.833 -3.883 Q30.833 -5.005 30.6075 -5.7695 Q30.382 -6.534 29.9915 -6.996 Q29.601 -7.458 29.0895 -7.656 Q28.578 -7.854 27.995 -7.854 Q27.423 -7.854 26.9115 -7.656 Q26.4 -7.458 26.015 -6.996 Q25.63 -6.534 25.4045 -5.7695 Q25.179 -5.005 25.179 -3.883 ZM34.716 -5.687 L34.716 0 L36.278 0 L36.278 -2.563 Q36.278 -2.948 36.355 -3.278 Q36.432 -3.608 36.6135 -3.8555 Q36.795 -4.103 37.092 -4.246 Q37.389 -4.389 37.818 -4.389 Q37.961 -4.389 38.115 -4.3725 Q38.269 -4.356 38.379 -4.334 L38.379 -5.786 Q38.192 -5.841 38.038 -5.841 Q37.741 -5.841 37.466 -5.753 Q37.191 -5.665 36.949 -5.5055 Q36.707 -5.346 36.52 -5.1205 Q36.333 -4.895 36.223 -4.631 L36.201 -4.631 L36.201 -5.687 ZM38.929 -3.938 Q38.962 -4.488 39.204 -4.851 Q39.446 -5.214 39.82 -5.434 Q40.194 -5.654 40.6615 -5.7475 Q41.129 -5.841 41.602 -5.841 Q42.031 -5.841 42.471 -5.7805 Q42.911 -5.72 43.274 -5.544 Q43.637 -5.368 43.868 -5.0545 Q44.099 -4.741 44.099 -4.224 L44.099 -1.265 Q44.099 -0.88 44.143 -0.528 Q44.187 -0.176 44.297 0 L42.713 0 Q42.669 -0.132 42.6415 -0.2695 Q42.614 -0.407 42.603 -0.55 Q42.229 -0.165 41.723 -0.011 Q41.217 0.143 40.689 0.143 Q40.282 0.143 39.93 0.044 Q39.578 -0.055 39.314 -0.264 Q39.05 -0.473 38.9015 -0.792 Q38.753 -1.111 38.753 -1.551 Q38.753 -2.035 38.9235 -2.3485 Q39.094 -2.662 39.3635 -2.849 Q39.633 -3.036 39.9795 -3.1295 Q40.326 -3.223 40.678 -3.278 Q41.03 -3.333 41.371 -3.366 Q41.712 -3.399 41.976 -3.465 Q42.24 -3.531 42.394 -3.6575 Q42.548 -3.784 42.537 -4.026 Q42.537 -4.279 42.4545 -4.4275 Q42.372 -4.576 42.2345 -4.6585 Q42.097 -4.741 41.9155 -4.7685 Q41.734 -4.796 41.525 -4.796 Q41.063 -4.796 40.799 -4.598 Q40.535 -4.4 40.491 -3.938 ZM42.537 -2.783 Q42.438 -2.695 42.2895 -2.6455 Q42.141 -2.596 41.9705 -2.563 Q41.8 -2.53 41.613 -2.508 Q41.426 -2.486 41.239 -2.453 Q41.063 -2.42 40.8925 -2.365 Q40.722 -2.31 40.5955 -2.2165 Q40.469 -2.123 40.392 -1.98 Q40.315 -1.837 40.315 -1.617 Q40.315 -1.408 40.392 -1.265 Q40.469 -1.122 40.601 -1.0395 Q40.733 -0.957 40.909 -0.924 Q41.085 -0.891 41.272 -0.891 Q41.734 -0.891 41.987 -1.045 Q42.24 -1.199 42.361 -1.4135 Q42.482 -1.628 42.5095 -1.848 Q42.537 -2.068 42.537 -2.2 ZM49.346 -2.86 Q49.346 -2.508 49.28 -2.178 Q49.214 -1.848 49.06 -1.5895 Q48.906 -1.331 48.6475 -1.177 Q48.389 -1.023 48.004 -1.023 Q47.641 -1.023 47.3825 -1.1825 Q47.124 -1.342 46.9535 -1.6005 Q46.783 -1.859 46.706 -2.189 Q46.629 -2.519 46.629 -2.849 Q46.629 -3.201 46.7005 -3.5255 Q46.772 -3.85 46.9315 -4.103 Q47.091 -4.356 47.355 -4.51 Q47.619 -4.664 48.004 -4.664 Q48.389 -4.664 48.642 -4.51 Q48.895 -4.356 49.0545 -4.1085 Q49.214 -3.861 49.28 -3.5365 Q49.346 -3.212 49.346 -2.86 ZM49.368 -0.726 L49.368 0 L50.853 0 L50.853 -7.854 L49.291 -7.854 L49.291 -4.994 L49.269 -4.994 Q49.005 -5.412 48.5485 -5.6265 Q48.092 -5.841 47.586 -5.841 Q46.959 -5.841 46.486 -5.5935 Q46.013 -5.346 45.6995 -4.939 Q45.386 -4.532 45.2265 -3.9985 Q45.067 -3.465 45.067 -2.893 Q45.067 -2.299 45.2265 -1.749 Q45.386 -1.199 45.6995 -0.7755 Q46.013 -0.352 46.497 -0.1045 Q46.981 0.143 47.619 0.143 Q48.18 0.143 48.6255 -0.0605 Q49.071 -0.264 49.346 -0.726 ZM54.384 -8.041 L51.326 0.176 L52.569 0.176 L55.638 -8.041 ZM57.321 -1.848 L55.836 -1.848 Q55.858 -1.276 56.0945 -0.8965 Q56.331 -0.517 56.6995 -0.286 Q57.068 -0.055 57.541 0.044 Q58.014 0.143 58.509 0.143 Q58.993 0.143 59.4605 0.0495 Q59.928 -0.044 60.291 -0.275 Q60.654 -0.506 60.8795 -0.8855 Q61.105 -1.265 61.105 -1.826 Q61.105 -2.222 60.951 -2.4915 Q60.797 -2.761 60.544 -2.9425 Q60.291 -3.124 59.9665 -3.234 Q59.642 -3.344 59.301 -3.421 Q58.971 -3.498 58.652 -3.564 Q58.333 -3.63 58.0855 -3.7125 Q57.838 -3.795 57.684 -3.927 Q57.53 -4.059 57.53 -4.268 Q57.53 -4.444 57.618 -4.5485 Q57.706 -4.653 57.8325 -4.708 Q57.959 -4.763 58.113 -4.7795 Q58.267 -4.796 58.399 -4.796 Q58.817 -4.796 59.125 -4.6365 Q59.433 -4.477 59.466 -4.026 L60.951 -4.026 Q60.907 -4.554 60.6815 -4.9005 Q60.456 -5.247 60.115 -5.456 Q59.774 -5.665 59.3395 -5.753 Q58.905 -5.841 58.443 -5.841 Q57.981 -5.841 57.541 -5.7585 Q57.101 -5.676 56.749 -5.4725 Q56.397 -5.269 56.1825 -4.917 Q55.968 -4.565 55.968 -4.015 Q55.968 -3.641 56.122 -3.3825 Q56.276 -3.124 56.529 -2.9535 Q56.782 -2.783 57.1065 -2.6785 Q57.431 -2.574 57.772 -2.497 Q58.608 -2.321 59.0755 -2.145 Q59.543 -1.969 59.543 -1.617 Q59.543 -1.408 59.444 -1.2705 Q59.345 -1.133 59.1965 -1.0505 Q59.048 -0.968 58.8665 -0.9295 Q58.685 -0.891 58.52 -0.891 Q58.289 -0.891 58.0745 -0.946 Q57.86 -1.001 57.695 -1.1165 Q57.53 -1.232 57.4255 -1.4135 Q57.321 -1.595 57.321 -1.848 ZM61.358 1.991 L62.656 1.991 Q63.019 1.474 63.294 0.847 Q63.569 0.22 63.7505 -0.4455 Q63.932 -1.111 64.02 -1.7875 Q64.108 -2.464 64.108 -3.08 Q64.108 -4.378 63.7285 -5.643 Q63.349 -6.908 62.656 -8.041 L61.369 -8.041 Q61.974 -6.842 62.26 -5.566 Q62.546 -4.29 62.546 -2.97 Q62.546 -1.672 62.2545 -0.4235 Q61.963 0.825 61.358 1.991 Z\"\n",
       "    /></g\n",
       "    ><g style=\"stroke-linecap:butt; fill:rgb(0,114,189); text-rendering:geometricPrecision; image-rendering:optimizeQuality; color-rendering:optimizeQuality; stroke-linejoin:round; stroke:rgb(0,114,189); color-interpolation:linearRGB; stroke-width:0.5;\"\n",
       "    ><path d=\"M73 52.3958 L73.5425 52.5027 L74.085 52.6105 L74.6275 52.719 L75.17 52.8284 L75.7125 52.9386 L76.255 53.0497 L76.7975 53.1616 L77.34 53.2743 L77.8825 53.3879 L78.425 53.5024 L78.9675 53.6177 L79.51 53.7339 L80.0525 53.851 L80.595 53.9691 L81.1375 54.088 L81.68 54.2079 L82.2225 54.3287 L82.765 54.4504 L83.3075 54.5731 L83.85 54.6967 L84.3925 54.8213 L84.935 54.9469 L85.4775 55.0735 L86.02 55.2011 L86.5625 55.3297 L87.105 55.4593 L87.6475 55.5899 L88.19 55.7216 L88.7325 55.8544 L89.275 55.9882 L89.8175 56.1231 L90.36 56.2591 L90.9025 56.3962 L91.445 56.5344 L91.9875 56.6737 L92.53 56.8142 L93.0725 56.9558 L93.615 57.0985 L94.1575 57.2425 L94.7 57.3876 L95.2425 57.5339 L95.785 57.6815 L96.3275 57.8303 L96.87 57.9803 L97.4125 58.1315 L97.955 58.2841 L98.4975 58.4379 L99.04 58.593 L99.5825 58.7494 L100.125 58.9072 L100.6675 59.0662 L101.21 59.2267 L101.7525 59.3885 L102.295 59.5517 L102.8375 59.7163 L103.38 59.8823 L103.9225 60.0498 L104.465 60.2187 L105.0075 60.389 L105.55 60.5609 L106.0925 60.7342 L106.635 60.9091 L107.1775 61.0855 L107.72 61.2634 L108.2625 61.443 L108.805 61.6241 L109.3475 61.8068 L109.89 61.9912 L110.4325 62.1772 L110.975 62.3648 L111.5175 62.5542 L112.06 62.7452 L112.6025 62.938 L113.145 63.1325 L113.6875 63.3288 L114.23 63.5269 L114.7725 63.7268 L115.315 63.9285 L115.8575 64.1321 L116.4 64.3375 L116.9425 64.5449 L117.485 64.7541 L118.0275 64.9653 L118.57 65.1785 L119.1125 65.3937 L119.655 65.6109 L120.1975 65.8301 L120.74 66.0514 L121.2825 66.2748 L121.825 66.5003 L122.3675 66.728 L122.91 66.9578 L123.4525 67.1898 L123.995 67.4241 L124.5375 67.6606 L125.08 67.8994 L125.6225 68.1405 L126.165 68.384 L126.7075 68.6298 L127.25 68.878 L127.7925 69.1287 L128.335 69.3818 L128.8775 69.6374 L129.42 69.8956 L129.9625 70.1563 L130.505 70.4196 L131.0475 70.6856 L131.59 70.9541 L132.1325 71.2254 L132.675 71.4995 L133.2175 71.7763 L133.76 72.0559 L134.3025 72.3383 L134.845 72.6237 L135.3875 72.9119 L135.93 73.2032 L136.4725 73.4974 L137.015 73.7946 L137.5575 74.0949 L138.1 74.3984 L138.6425 74.705 L139.185 75.0148 L139.7275 75.3279 L140.27 75.6443 L140.8125 75.964 L141.355 76.2871 L141.8975 76.6136 L142.44 76.9436 L142.9825 77.2771 L143.525 77.6142 L144.0675 77.955 L144.61 78.2994 L145.1525 78.6475 L145.695 78.9995 L146.2375 79.3552 L146.78 79.7148 L147.3225 80.0784 L147.865 80.446 L148.4075 80.8177 L148.95 81.1934 L149.4925 81.5734 L150.035 81.9575 L150.5775 82.346 L151.12 82.7388 L151.6625 83.136 L152.205 83.5377 L152.7475 83.944 L153.29 84.3549 L153.8325 84.7704 L154.375 85.1908 L154.9175 85.6159 L155.46 86.0459 L156.0025 86.4809 L156.545 86.9209 L157.0875 87.366 L157.63 87.8163 L158.1725 88.2719 L158.715 88.7328 L159.2575 89.1991 L159.8 89.671 L160.3425 90.1484 L160.885 90.6315 L161.4275 91.1204 L161.97 91.6151 L162.5125 92.1157 L163.055 92.6223 L163.5975 93.1351 L164.14 93.654 L164.6825 94.1793 L165.225 94.711 L165.7675 95.2491 L166.31 95.7939 L166.8525 96.3453 L167.395 96.9036 L167.9375 97.4688 L168.48 98.0409 L169.0225 98.6202 L169.565 99.2067 L170.1075 99.8006 L170.65 100.4019 L171.1925 101.0108 L171.735 101.6274 L172.2775 102.2518 L172.82 102.8842 L173.3625 103.5246 L173.905 104.1732 L174.4475 104.8301 L174.99 105.4955 L175.5325 106.1694 L176.075 106.8521 L176.6175 107.5436 L177.16 108.2441 L177.7025 108.9538 L178.245 109.6727 L178.7875 110.4011 L179.33 111.1391 L179.8725 111.8867 L180.415 112.6443 L180.9575 113.4119 L181.5 114.1897 L182.0425 114.9779 L182.585 115.7766 L183.1275 116.586 L183.67 117.4062 L184.2125 118.2375 L184.755 119.08 L185.2975 119.9339 L185.84 120.7994 L186.3825 121.6766 L186.925 122.5657 L187.4675 123.4669 L188.01 124.3805 L188.5525 125.3066 L189.095 126.2453 L189.6375 127.197 L190.18 128.1617 L190.7225 129.1398 L191.265 130.1313 L191.8075 131.1366 L192.35 132.1557 L192.8925 133.189 L193.435 134.2367 L193.9775 135.2989 L194.52 136.3758 L195.0625 137.4678 L195.605 138.575 L196.1475 139.6976 L196.69 140.8359 L197.2325 141.9901 L197.775 143.1604 L198.3175 144.347 L198.86 145.5503 L199.4025 146.7703 L199.945 148.0074 L200.4875 149.2618 L201.03 150.5336 L201.5725 151.8232 L202.115 153.1308 L202.6575 154.4565 L203.2 155.8007 L203.7425 157.1636 L204.285 158.5453 L204.8275 159.9462 L205.37 161.3663 L205.9125 162.8061 L206.455 164.2656 L206.9975 165.7451 L207.54 167.2448 L208.0825 168.7648 L208.625 170.3055 L209.1675 171.8669 L209.71 173.4494 L210.2525 175.0529 L210.795 176.6779 L211.3375 178.3242 L211.88 179.9923 L212.4225 181.6821 L212.965 183.3938 L213.5075 185.1275 L214.05 186.8833 L214.5925 188.6614 L215.135 190.4618 L215.6775 192.2845 L216.22 194.1296 L216.7625 195.9972 L217.305 197.8872 L217.8475 199.7996 L218.39 201.7343 L218.9325 203.6914 L219.475 205.6707 L220.0175 207.6721 L220.56 209.6954 L221.1025 211.7406 L221.645 213.8073 L222.1875 215.8954 L222.73 218.0046 L223.2725 220.1346 L223.815 222.285 L224.3575 224.4556 L224.9 226.6458 L225.4425 228.8551 L225.985 231.0833 L226.5275 233.3295 L227.07 235.5934 L227.6125 237.8742 L228.155 240.1712 L228.6975 242.4838 L229.24 244.8112 L229.7825 247.1525 L230.325 249.5068 L230.8675 251.8733 L231.41 254.2509 L231.9525 256.6385 L232.495 259.0353 L233.0375 261.4399 L233.58 263.8512 L234.1225 266.2679 L234.665 268.6888 L235.2075 271.1125 L235.75 273.5376 L236.2925 275.9628 L236.835 278.3864 L237.3775 280.8071 L237.92 283.2232 L238.4625 285.6331 L239.005 288.0353 L239.5475 290.4281 L240.09 292.8097 L240.6325 295.1786 L241.175 297.5329 L241.7175 299.871 L242.26 302.1911 L242.8025 304.4915 L243.345 306.7705 L243.8875 309.0263 L244.43 311.2573 L244.9725 313.4616 L245.515 315.6378 L246.0575 317.7842 L246.6 319.8991 L247.1425 321.981 L247.685 324.0286 L248.2275 326.0402 L248.77 328.0146 L249.3125 329.9504 L249.855 331.8464 L250.3975 333.7015 L250.94 335.5146 L251.4825 337.2846 L252.025 339.0107 L252.5675 340.692 L253.11 342.3279 L253.6525 343.9178 L254.195 345.461 L254.7375 346.9572 L255.28 348.4059 L255.8225 349.8072 L256.365 351.1606 L256.9075 352.4664 L257.45 353.7244 L257.9925 354.9348 L258.535 356.0981 L259.0775 357.2143 L259.62 358.284 L260.1625 359.3076 L260.705 360.2859 L261.2475 361.2194 L261.79 362.1088 L262.3325 362.955 L262.875 363.7589 L263.4175 364.5213 L263.96 365.2432 L264.5025 365.9257 L265.045 366.5698 L265.5875 367.1766 L266.13 367.7473 L266.6725 368.2829 L267.215 368.7849 L267.7575 369.2542 L268.3 369.6921 L268.8425 370.1 L269.385 370.479 L269.9275 370.8303 L270.47 371.1552 L271.0125 371.455 L271.555 371.7309 L272.0975 371.9841 L272.64 372.2157 L273.1825 372.4271 L273.725 372.6192 L274.2675 372.7934 L274.81 372.9507 L275.3525 373.0922 L275.895 373.219 L276.4375 373.332 L276.98 373.4324 L277.5225 373.5211 L278.065 373.599 L278.6075 373.667 L279.15 373.7259 L279.6925 373.7767 L280.235 373.8201 L280.7775 373.8568 L281.32 373.8877 L281.8625 373.9132 L282.405 373.9341 L282.9475 373.951 L283.49 373.9644 L284.0325 373.9749 L284.575 373.9828 L285.1175 373.9887 L285.66 373.993 L286.2025 373.9959 L286.745 373.9978 L287.2875 373.9989 L287.83 373.9996 L288.3725 373.9998 L288.915 374 L289.4575 374 L290 374 L290.5425 374 L291.085 374 L291.6275 373.9998 L292.17 373.9996 L292.7125 373.9989 L293.255 373.9978 L293.7975 373.9959 L294.34 373.993 L294.8825 373.9887 L295.425 373.9828 L295.9675 373.9749 L296.51 373.9644 L297.0525 373.951 L297.595 373.9341 L298.1375 373.9132 L298.68 373.8877 L299.2225 373.8568 L299.765 373.8201 L300.3075 373.7767 L300.85 373.7259 L301.3925 373.667 L301.935 373.599 L302.4775 373.5211 L303.02 373.4324 L303.5625 373.332 L304.105 373.219 L304.6475 373.0922 L305.19 372.9507 L305.7325 372.7934 L306.275 372.6192 L306.8175 372.4271 L307.36 372.2157 L307.9025 371.9841 L308.445 371.7309 L308.9875 371.455 L309.53 371.1552 L310.0725 370.8303 L310.615 370.479 L311.1575 370.1 L311.7 369.6921 L312.2425 369.2542 L312.785 368.7849 L313.3275 368.2829 L313.87 367.7473 L314.4125 367.1766 L314.955 366.5698 L315.4975 365.9257 L316.04 365.2432 L316.5825 364.5213 L317.125 363.7589 L317.6675 362.955 L318.21 362.1088 L318.7525 361.2194 L319.295 360.2859 L319.8375 359.3076 L320.38 358.284 L320.9225 357.2143 L321.465 356.0981 L322.0075 354.9348 L322.55 353.7244 L323.0925 352.4664 L323.635 351.1606 L324.1775 349.8072 L324.72 348.4059 L325.2625 346.9572 L325.805 345.461 L326.3475 343.9178 L326.89 342.3279 L327.4325 340.692 L327.975 339.0107 L328.5175 337.2846 L329.06 335.5146 L329.6025 333.7015 L330.145 331.8464 L330.6875 329.9504 L331.23 328.0146 L331.7725 326.0402 L332.315 324.0286 L332.8575 321.981 L333.4 319.8991 L333.9425 317.7842 L334.485 315.6378 L335.0275 313.4616 L335.57 311.2573 L336.1125 309.0263 L336.655 306.7705 L337.1975 304.4915 L337.74 302.1911 L338.2825 299.871 L338.825 297.5329 L339.3675 295.1786 L339.91 292.8097 L340.4525 290.4281 L340.995 288.0353 L341.5375 285.6331 L342.08 283.2232 L342.6225 280.8071 L343.165 278.3864 L343.7075 275.9628 L344.25 273.5376 L344.7925 271.1125 L345.335 268.6888 L345.8775 266.2679 L346.42 263.8512 L346.9625 261.4399 L347.505 259.0353 L348.0475 256.6385 L348.59 254.2509 L349.1325 251.8733 L349.675 249.5068 L350.2175 247.1525 L350.76 244.8112 L351.3025 242.4838 L351.845 240.1712 L352.3875 237.8742 L352.93 235.5934 L353.4725 233.3295 L354.015 231.0833 L354.5575 228.8551 L355.1 226.6458 L355.6425 224.4556 L356.185 222.285 L356.7275 220.1346 L357.27 218.0046 L357.8125 215.8954 L358.355 213.8073 L358.8975 211.7406 L359.44 209.6954 L359.9825 207.6721 L360.525 205.6707 L361.0675 203.6914 L361.61 201.7343 L362.1525 199.7996 L362.695 197.8872 L363.2375 195.9972 L363.78 194.1296 L364.3225 192.2845 L364.865 190.4618 L365.4075 188.6614 L365.95 186.8833 L366.4925 185.1275 L367.035 183.3938 L367.5775 181.6821 L368.12 179.9923 L368.6625 178.3242 L369.205 176.6779 L369.7475 175.0529 L370.29 173.4494 L370.8325 171.8669 L371.375 170.3055 L371.9175 168.7648 L372.46 167.2448 L373.0025 165.7451 L373.545 164.2656 L374.0875 162.8061 L374.63 161.3663 L375.1725 159.9462 L375.715 158.5453 L376.2575 157.1636 L376.8 155.8007 L377.3425 154.4565 L377.885 153.1308 L378.4275 151.8232 L378.97 150.5336 L379.5125 149.2618 L380.055 148.0074 L380.5975 146.7703 L381.14 145.5503 L381.6825 144.347 L382.225 143.1604 L382.7675 141.9901 L383.31 140.8359 L383.8525 139.6976 L384.395 138.575 L384.9375 137.4678 L385.48 136.3758 L386.0225 135.2989 L386.565 134.2367 L387.1075 133.189 L387.65 132.1557 L388.1925 131.1366 L388.735 130.1313 L389.2775 129.1398 L389.82 128.1617 L390.3625 127.197 L390.905 126.2453 L391.4475 125.3066 L391.99 124.3805 L392.5325 123.4669 L393.075 122.5657 L393.6175 121.6766 L394.16 120.7994 L394.7025 119.9339 L395.245 119.08 L395.7875 118.2375 L396.33 117.4062 L396.8725 116.586 L397.415 115.7766 L397.9575 114.9779 L398.5 114.1897 L399.0425 113.4119 L399.585 112.6443 L400.1275 111.8867 L400.67 111.1391 L401.2125 110.4011 L401.755 109.6727 L402.2975 108.9538 L402.84 108.2441 L403.3825 107.5436 L403.925 106.8521 L404.4675 106.1694 L405.01 105.4955 L405.5525 104.8301 L406.095 104.1732 L406.6375 103.5246 L407.18 102.8842 L407.7225 102.2518 L408.265 101.6274 L408.8075 101.0108 L409.35 100.4019 L409.8925 99.8006 L410.435 99.2067 L410.9775 98.6202 L411.52 98.0409 L412.0625 97.4688 L412.605 96.9036 L413.1475 96.3453 L413.69 95.7939 L414.2325 95.2491 L414.775 94.711 L415.3175 94.1793 L415.86 93.654 L416.4025 93.1351 L416.945 92.6223 L417.4875 92.1157 L418.03 91.6151 L418.5725 91.1204 L419.115 90.6315 L419.6575 90.1484 L420.2 89.671 L420.7425 89.1991 L421.285 88.7328 L421.8275 88.2719 L422.37 87.8163 L422.9125 87.366 L423.455 86.9209 L423.9975 86.4809 L424.54 86.0459 L425.0825 85.6159 L425.625 85.1908 L426.1675 84.7704 L426.71 84.3549 L427.2525 83.944 L427.795 83.5377 L428.3375 83.136 L428.88 82.7388 L429.4225 82.346 L429.965 81.9575 L430.5075 81.5734 L431.05 81.1934 L431.5925 80.8177 L432.135 80.446 L432.6775 80.0784 L433.22 79.7148 L433.7625 79.3552 L434.305 78.9995 L434.8475 78.6475 L435.39 78.2994 L435.9325 77.955 L436.475 77.6142 L437.0175 77.2771 L437.56 76.9436 L438.1025 76.6136 L438.645 76.2871 L439.1875 75.964 L439.73 75.6443 L440.2725 75.3279 L440.815 75.0148 L441.3575 74.705 L441.9 74.3984 L442.4425 74.0949 L442.985 73.7946 L443.5275 73.4974 L444.07 73.2032 L444.6125 72.9119 L445.155 72.6237 L445.6975 72.3383 L446.24 72.0559 L446.7825 71.7763 L447.325 71.4995 L447.8675 71.2254 L448.41 70.9541 L448.9525 70.6856 L449.495 70.4196 L450.0375 70.1563 L450.58 69.8956 L451.1225 69.6374 L451.665 69.3818 L452.2075 69.1287 L452.75 68.878 L453.2925 68.6298 L453.835 68.384 L454.3775 68.1405 L454.92 67.8994 L455.4625 67.6606 L456.005 67.4241 L456.5475 67.1898 L457.09 66.9578 L457.6325 66.728 L458.175 66.5003 L458.7175 66.2748 L459.26 66.0514 L459.8025 65.8301 L460.345 65.6109 L460.8875 65.3937 L461.43 65.1785 L461.9725 64.9653 L462.515 64.7541 L463.0575 64.5449 L463.6 64.3375 L464.1425 64.1321 L464.685 63.9285 L465.2275 63.7268 L465.77 63.5269 L466.3125 63.3288 L466.855 63.1325 L467.3975 62.938 L467.94 62.7452 L468.4825 62.5542 L469.025 62.3648 L469.5675 62.1772 L470.11 61.9912 L470.6525 61.8068 L471.195 61.6241 L471.7375 61.443 L472.28 61.2634 L472.8225 61.0855 L473.365 60.9091 L473.9075 60.7342 L474.45 60.5609 L474.9925 60.389 L475.535 60.2187 L476.0775 60.0498 L476.62 59.8823 L477.1625 59.7163 L477.705 59.5517 L478.2475 59.3885 L478.79 59.2267 L479.3325 59.0662 L479.875 58.9072 L480.4175 58.7494 L480.96 58.593 L481.5025 58.4379 L482.045 58.2841 L482.5875 58.1315 L483.13 57.9803 L483.6725 57.8303 L484.215 57.6815 L484.7575 57.5339 L485.3 57.3876 L485.8425 57.2425 L486.385 57.0985 L486.9275 56.9558 L487.47 56.8142 L488.0125 56.6737 L488.555 56.5344 L489.0975 56.3962 L489.64 56.2591 L490.1825 56.1231 L490.725 55.9882 L491.2675 55.8544 L491.81 55.7216 L492.3525 55.5899 L492.895 55.4593 L493.4375 55.3297 L493.98 55.2011 L494.5225 55.0735 L495.065 54.9469 L495.6075 54.8213 L496.15 54.6967 L496.6925 54.5731 L497.235 54.4504 L497.7775 54.3287 L498.32 54.2079 L498.8625 54.088 L499.405 53.9691 L499.9475 53.851 L500.49 53.7339 L501.0325 53.6177 L501.575 53.5024 L502.1175 53.3879 L502.66 53.2743 L503.2025 53.1616 L503.745 53.0497 L504.2875 52.9386 L504.83 52.8284 L505.3725 52.719 L505.915 52.6105 L506.4575 52.5027 L507 52.3958\" style=\"fill:none; fill-rule:evenodd;\"\n",
       "    /></g\n",
       "    ><g transform=\"translate(344,67)\" style=\"font-size:10px; text-rendering:geometricPrecision; color-rendering:optimizeQuality; image-rendering:optimizeQuality; font-family:'mwa_cmmi10'; color-interpolation:linearRGB;\"\n",
       "    ><path style=\"stroke:none;\" d=\"M1.2188 0.1094 Q0.6406 0.1094 0.3906 -0.3047 Q0.1406 -0.7188 0.1406 -1.3125 Q0.1406 -1.7188 0.2109 -2.0938 Q0.2812 -2.4688 0.4297 -2.8594 Q0.5781 -3.25 0.7578 -3.5859 Q0.9375 -3.9219 1.1719 -4.25 Q1.2188 -4.3125 1.2969 -4.3125 Q1.3594 -4.3125 1.3984 -4.2734 Q1.4375 -4.2344 1.4375 -4.1875 Q1.4375 -4.125 1.4062 -4.0781 Q0.4844 -2.8281 0.4844 -1.7656 Q0.4844 -1.3125 0.6953 -0.9844 Q0.9062 -0.6562 1.3438 -0.6562 Q1.7188 -0.6562 2.0391 -0.875 Q2.3594 -1.0938 2.5938 -1.4375 Q2.5938 -1.6094 2.6562 -1.9766 Q2.7188 -2.3438 2.8516 -2.6406 Q2.9844 -2.9375 3.1562 -2.9375 Q3.3906 -2.9375 3.3906 -2.6562 Q3.3906 -2.5 3.3203 -2.2656 Q3.25 -2.0312 3.1719 -1.8281 Q3.0938 -1.625 2.9844 -1.3594 Q3.0938 -0.6562 3.6875 -0.6562 Q4.0312 -0.6562 4.3828 -0.8516 Q4.7344 -1.0469 5.0078 -1.375 Q5.2812 -1.7031 5.4297 -2.0781 Q5.5781 -2.4531 5.5781 -2.7812 Q5.5781 -3.0938 5.4844 -3.2578 Q5.3906 -3.4219 5.2344 -3.6094 Q5.0781 -3.7969 5.0781 -3.9062 Q5.0781 -4.1094 5.2422 -4.2656 Q5.4062 -4.4219 5.5938 -4.4219 Q5.8438 -4.4219 5.9453 -4.2031 Q6.0469 -3.9844 6.0469 -3.7031 Q6.0469 -3.25 5.8672 -2.5469 Q5.6875 -1.8438 5.4531 -1.375 Q5.125 -0.75 4.6406 -0.3203 Q4.1562 0.1094 3.5469 0.1094 Q3.1719 0.1094 2.9297 -0.125 Q2.6875 -0.3594 2.625 -0.75 Q2.3438 -0.3594 1.9844 -0.125 Q1.625 0.1094 1.2188 0.1094 Z\"\n",
       "    /></g\n",
       "    ><g transform=\"translate(351,72)\" style=\"font-size:8px; text-rendering:geometricPrecision; color-rendering:optimizeQuality; image-rendering:optimizeQuality; font-family:'Helvetica Neue'; color-interpolation:linearRGB;\"\n",
       "    ><path style=\"stroke:none;\" d=\"M3.32 -2.808 L4.024 -2.808 Q3.984 -3.176 3.832 -3.444 Q3.68 -3.712 3.444 -3.888 Q3.208 -4.064 2.9 -4.148 Q2.592 -4.232 2.24 -4.232 Q1.752 -4.232 1.384 -4.06 Q1.016 -3.888 0.772 -3.588 Q0.528 -3.288 0.408 -2.884 Q0.288 -2.48 0.288 -2.016 Q0.288 -1.552 0.412 -1.164 Q0.536 -0.776 0.78 -0.496 Q1.024 -0.216 1.388 -0.064 Q1.752 0.088 2.224 0.088 Q3.016 0.088 3.476 -0.328 Q3.936 -0.744 4.048 -1.512 L3.352 -1.512 Q3.288 -1.032 3.004 -0.768 Q2.72 -0.504 2.216 -0.504 Q1.896 -0.504 1.664 -0.632 Q1.432 -0.76 1.288 -0.972 Q1.144 -1.184 1.076 -1.456 Q1.008 -1.728 1.008 -2.016 Q1.008 -2.328 1.072 -2.62 Q1.136 -2.912 1.284 -3.136 Q1.432 -3.36 1.68 -3.496 Q1.928 -3.632 2.296 -3.632 Q2.728 -3.632 2.984 -3.416 Q3.24 -3.2 3.32 -2.808 Z\"\n",
       "    /></g\n",
       "    ><g transform=\"translate(236,67)\" style=\"font-size:10px; text-rendering:geometricPrecision; color-rendering:optimizeQuality; image-rendering:optimizeQuality; font-family:'Helvetica Neue'; color-interpolation:linearRGB;\"\n",
       "    ><path style=\"stroke:none;\" d=\"M0.5 -3.18 L0.5 -2.38 L3.39 -2.38 L3.39 -3.18 Z\"\n",
       "    /></g\n",
       "    ><g transform=\"translate(240,67)\" style=\"font-size:10px; text-rendering:geometricPrecision; color-rendering:optimizeQuality; image-rendering:optimizeQuality; font-family:'mwa_cmmi10'; color-interpolation:linearRGB;\"\n",
       "    ><path style=\"stroke:none;\" d=\"M1.2188 0.1094 Q0.6406 0.1094 0.3906 -0.3047 Q0.1406 -0.7188 0.1406 -1.3125 Q0.1406 -1.7188 0.2109 -2.0938 Q0.2812 -2.4688 0.4297 -2.8594 Q0.5781 -3.25 0.7578 -3.5859 Q0.9375 -3.9219 1.1719 -4.25 Q1.2188 -4.3125 1.2969 -4.3125 Q1.3594 -4.3125 1.3984 -4.2734 Q1.4375 -4.2344 1.4375 -4.1875 Q1.4375 -4.125 1.4062 -4.0781 Q0.4844 -2.8281 0.4844 -1.7656 Q0.4844 -1.3125 0.6953 -0.9844 Q0.9062 -0.6562 1.3438 -0.6562 Q1.7188 -0.6562 2.0391 -0.875 Q2.3594 -1.0938 2.5938 -1.4375 Q2.5938 -1.6094 2.6562 -1.9766 Q2.7188 -2.3438 2.8516 -2.6406 Q2.9844 -2.9375 3.1562 -2.9375 Q3.3906 -2.9375 3.3906 -2.6562 Q3.3906 -2.5 3.3203 -2.2656 Q3.25 -2.0312 3.1719 -1.8281 Q3.0938 -1.625 2.9844 -1.3594 Q3.0938 -0.6562 3.6875 -0.6562 Q4.0312 -0.6562 4.3828 -0.8516 Q4.7344 -1.0469 5.0078 -1.375 Q5.2812 -1.7031 5.4297 -2.0781 Q5.5781 -2.4531 5.5781 -2.7812 Q5.5781 -3.0938 5.4844 -3.2578 Q5.3906 -3.4219 5.2344 -3.6094 Q5.0781 -3.7969 5.0781 -3.9062 Q5.0781 -4.1094 5.2422 -4.2656 Q5.4062 -4.4219 5.5938 -4.4219 Q5.8438 -4.4219 5.9453 -4.2031 Q6.0469 -3.9844 6.0469 -3.7031 Q6.0469 -3.25 5.8672 -2.5469 Q5.6875 -1.8438 5.4531 -1.375 Q5.125 -0.75 4.6406 -0.3203 Q4.1562 0.1094 3.5469 0.1094 Q3.1719 0.1094 2.9297 -0.125 Q2.6875 -0.3594 2.625 -0.75 Q2.3438 -0.3594 1.9844 -0.125 Q1.625 0.1094 1.2188 0.1094 Z\"\n",
       "    /></g\n",
       "    ><g transform=\"translate(247,72)\" style=\"font-size:8px; text-rendering:geometricPrecision; color-rendering:optimizeQuality; image-rendering:optimizeQuality; font-family:'Helvetica Neue'; color-interpolation:linearRGB;\"\n",
       "    ><path style=\"stroke:none;\" d=\"M3.32 -2.808 L4.024 -2.808 Q3.984 -3.176 3.832 -3.444 Q3.68 -3.712 3.444 -3.888 Q3.208 -4.064 2.9 -4.148 Q2.592 -4.232 2.24 -4.232 Q1.752 -4.232 1.384 -4.06 Q1.016 -3.888 0.772 -3.588 Q0.528 -3.288 0.408 -2.884 Q0.288 -2.48 0.288 -2.016 Q0.288 -1.552 0.412 -1.164 Q0.536 -0.776 0.78 -0.496 Q1.024 -0.216 1.388 -0.064 Q1.752 0.088 2.224 0.088 Q3.016 0.088 3.476 -0.328 Q3.936 -0.744 4.048 -1.512 L3.352 -1.512 Q3.288 -1.032 3.004 -0.768 Q2.72 -0.504 2.216 -0.504 Q1.896 -0.504 1.664 -0.632 Q1.432 -0.76 1.288 -0.972 Q1.144 -1.184 1.076 -1.456 Q1.008 -1.728 1.008 -2.016 Q1.008 -2.328 1.072 -2.62 Q1.136 -2.912 1.284 -3.136 Q1.432 -3.36 1.68 -3.496 Q1.928 -3.632 2.296 -3.632 Q2.728 -3.632 2.984 -3.416 Q3.24 -3.2 3.32 -2.808 Z\"\n",
       "    /></g\n",
       "    ><g style=\"stroke-linecap:butt; fill:red; text-rendering:geometricPrecision; image-rendering:optimizeQuality; color-rendering:optimizeQuality; stroke-linejoin:bevel; stroke-dasharray:1,3; stroke:red; color-interpolation:linearRGB; stroke-width:0.5; stroke-miterlimit:1;\"\n",
       "    ><path d=\"M73 374 L235.75 374 L235.75 31 L344.25 31 L344.25 374 L507 374\" style=\"fill:none; fill-rule:evenodd;\"\n",
       "    /></g\n",
       "  ></g\n",
       "></svg\n",
       ">\n"
      ]
     },
     "metadata": {
      "filenames": {
       "image/svg+xml": "/Users/eechris/code/src/github.com/cpjobling/eg-247-textbook/_build/jupyter_execute/fourier_transform/4/ft4_55_0.svg"
      }
     },
     "output_type": "display_data"
    }
   ],
   "source": [
    "w = -400:400;\n",
    "plot(w,1-mHlp)\n",
    "grid\n",
    "ylabel('|H_B(j\\omega)|')\n",
    "title('Magnitude Frequency Response for 2nd-Order HP Butterworth Filter (\\omega_c = 100 rad/s)')\n",
    "xlabel('Radian Frequency \\omega [rad/s]')\n",
    "text(100,0.9,'\\omega_c')\n",
    "text(-100,0.9,'-\\omega_c')\n",
    "hold on\n",
    "plot([-400,-100,-100,100,100,400],[0,0,1,1,0,0],'r:')\n",
    "hold off"
   ]
  },
  {
   "cell_type": "markdown",
   "id": "f83264df",
   "metadata": {
    "slideshow": {
     "slide_type": "subslide"
    }
   },
   "source": [
    "High-pass filter"
   ]
  },
  {
   "cell_type": "code",
   "execution_count": 9,
   "id": "66866b05",
   "metadata": {
    "slideshow": {
     "slide_type": "subslide"
    }
   },
   "outputs": [
    {
     "name": "stdout",
     "output_type": "stream",
     "text": [
      "\n",
      "Hhp =\n"
     ]
    },
    {
     "name": "stdout",
     "output_type": "stream",
     "text": [
      " \n"
     ]
    },
    {
     "name": "stdout",
     "output_type": "stream",
     "text": [
      "      s^2 + 141.4 s\n"
     ]
    },
    {
     "name": "stdout",
     "output_type": "stream",
     "text": [
      "  ---------------------\n"
     ]
    },
    {
     "name": "stdout",
     "output_type": "stream",
     "text": [
      "  s^2 + 141.4 s + 10000\n"
     ]
    },
    {
     "name": "stdout",
     "output_type": "stream",
     "text": [
      " \n"
     ]
    },
    {
     "name": "stdout",
     "output_type": "stream",
     "text": [
      "Continuous-time transfer function.\n",
      "\n"
     ]
    },
    {
     "data": {
      "image/svg+xml": [
       "<?xml version=\"1.0\"?>\n",
       "<!DOCTYPE svg PUBLIC '-//W3C//DTD SVG 1.0//EN'\n",
       "          'http://www.w3.org/TR/2001/REC-SVG-20010904/DTD/svg10.dtd'>\n",
       "<svg xmlns:xlink=\"http://www.w3.org/1999/xlink\" style=\"fill-opacity:1; color-rendering:auto; color-interpolation:auto; text-rendering:auto; stroke:black; stroke-linecap:square; stroke-miterlimit:10; shape-rendering:auto; stroke-opacity:1; fill:black; stroke-dasharray:none; font-weight:normal; stroke-width:1; font-family:'Dialog'; font-style:normal; stroke-linejoin:miter; font-size:12px; stroke-dashoffset:0; image-rendering:auto;\" width=\"560\" height=\"420\" xmlns=\"http://www.w3.org/2000/svg\"\n",
       "><!--Generated by the Batik Graphics2D SVG Generator--><defs id=\"genericDefs\"\n",
       "  /><g\n",
       "  ><defs id=\"defs1\"\n",
       "    ><clipPath clipPathUnits=\"userSpaceOnUse\" id=\"clipPath1\"\n",
       "      ><path d=\"M0 0 L560 0 L560 420 L0 420 L0 0 Z\"\n",
       "      /></clipPath\n",
       "      ><font horiz-adv-x=\"50.0\" id=\"font1\"\n",
       "      ><font-face ascent=\"95.200005\" descent=\"21.3\" units-per-em=\"100\" style=\"font-style:normal; font-family:Helvetica Neue; font-weight:normal;\"\n",
       "        /><missing-glyph horiz-adv-x=\"50.0\" d=\"M40.9 66.6 L10.2 66.6 L10.2 4.7 L40.9 4.7 ZM46 71.2 L46 0.1 L5.1 0.1 L5.1 71.2 Z\"\n",
       "        /><glyph unicode=\"0\" horiz-adv-x=\"55.6\" d=\"M13.2 34.9 Q13.2 37.5 13.25 40.65 Q13.3 43.8 13.75 46.95 Q14.2 50.1 15.05 53.1 Q15.9 56.1 17.55 58.35 Q19.2 60.6 21.7 62 Q24.2 63.4 27.8 63.4 Q31.4 63.4 33.9 62 Q36.4 60.6 38.05 58.35 Q39.7 56.1 40.55 53.1 Q41.4 50.1 41.85 46.95 Q42.3 43.8 42.35 40.65 Q42.4 37.5 42.4 34.9 Q42.4 30.9 42.15 25.95 Q41.9 21 40.55 16.65 Q39.2 12.3 36.2 9.3 Q33.2 6.3 27.8 6.3 Q22.4 6.3 19.4 9.3 Q16.4 12.3 15.05 16.65 Q13.7 21 13.45 25.95 Q13.2 30.9 13.2 34.9 ZM4.2 34.8 Q4.2 30.9 4.4 26.7 Q4.6 22.5 5.4 18.5 Q6.2 14.5 7.7 10.95 Q9.2 7.4 11.8 4.7 Q14.4 2 18.35 0.45 Q22.3 -1.1 27.8 -1.1 Q33.4 -1.1 37.3 0.45 Q41.2 2 43.8 4.7 Q46.4 7.4 47.9 10.95 Q49.4 14.5 50.2 18.5 Q51 22.5 51.2 26.7 Q51.4 30.9 51.4 34.8 Q51.4 38.7 51.2 42.9 Q51 47.1 50.2 51.1 Q49.4 55.1 47.9 58.7 Q46.4 62.3 43.8 65 Q41.2 67.7 37.25 69.3 Q33.3 70.9 27.8 70.9 Q22.3 70.9 18.35 69.3 Q14.4 67.7 11.8 65 Q9.2 62.3 7.7 58.7 Q6.2 55.1 5.4 51.1 Q4.6 47.1 4.4 42.9 Q4.2 38.7 4.2 34.8 Z\"\n",
       "        /><glyph unicode=\"5\" horiz-adv-x=\"55.6\" d=\"M47 62.2 L47 69.7 L12 69.7 L5.4 32.9 L12.7 32.5 Q15.2 35.5 18.45 37.35 Q21.7 39.2 25.9 39.2 Q29.5 39.2 32.45 38 Q35.4 36.8 37.5 34.65 Q39.6 32.5 40.75 29.55 Q41.9 26.6 41.9 23.1 Q41.9 18.9 40.7 15.75 Q39.5 12.6 37.45 10.5 Q35.4 8.4 32.65 7.35 Q29.9 6.3 26.9 6.3 Q23.7 6.3 21.05 7.25 Q18.4 8.2 16.45 9.95 Q14.5 11.7 13.35 14.05 Q12.2 16.4 12 19.1 L3.5 19.1 Q3.6 14.3 5.4 10.5 Q7.2 6.7 10.3 4.15 Q13.4 1.6 17.45 0.25 Q21.5 -1.1 26.1 -1.1 Q32.3 -1.1 36.95 0.85 Q41.6 2.8 44.7 6.1 Q47.8 9.4 49.35 13.65 Q50.9 17.9 50.9 22.4 Q50.9 28.5 49.1 33.05 Q47.3 37.6 44.2 40.65 Q41.1 43.7 36.9 45.2 Q32.7 46.7 28 46.7 Q24.4 46.7 20.75 45.45 Q17.1 44.2 14.8 41.6 L14.6 41.8 L18.4 62.2 Z\"\n",
       "        /><glyph unicode=\"-\" horiz-adv-x=\"38.9\" d=\"M5 31.8 L5 23.8 L33.9 23.8 L33.9 31.8 Z\"\n",
       "        /><glyph unicode=\"4\" horiz-adv-x=\"55.6\" d=\"M33.9 24.1 L10.1 24.1 L33.7 58.8 L33.9 58.8 ZM41.9 24.1 L41.9 70.9 L35.1 70.9 L2.8 24.8 L2.8 16.6 L33.9 16.6 L33.9 0 L41.9 0 L41.9 16.6 L51.5 16.6 L51.5 24.1 Z\"\n",
       "        /><glyph unicode=\"3\" horiz-adv-x=\"55.6\" d=\"M21.8 40.5 L21.8 33.3 Q24.2 33.6 26.9 33.6 Q30.1 33.6 32.85 32.75 Q35.6 31.9 37.6 30.15 Q39.6 28.4 40.8 25.85 Q42 23.3 42 20 Q42 16.8 40.75 14.25 Q39.5 11.7 37.4 9.95 Q35.3 8.2 32.5 7.25 Q29.7 6.3 26.6 6.3 Q19.3 6.3 15.5 10.65 Q11.7 15 11.5 21.9 L3 21.9 Q2.9 16.4 4.55 12.1 Q6.2 7.8 9.3 4.85 Q12.4 1.9 16.8 0.4 Q21.2 -1.1 26.6 -1.1 Q31.6 -1.1 36.05 0.25 Q40.5 1.6 43.8 4.3 Q47.1 7 49.05 11.05 Q51 15.1 51 20.4 Q51 26.8 47.85 31.5 Q44.7 36.2 38.2 37.6 L38.2 37.8 Q42.4 39.7 45.2 43.4 Q48 47.1 48 51.9 Q48 56.8 46.35 60.4 Q44.7 64 41.8 66.3 Q38.9 68.6 34.95 69.75 Q31 70.9 26.4 70.9 Q21.1 70.9 17.05 69.2 Q13 67.5 10.3 64.5 Q7.6 61.5 6.15 57.3 Q4.7 53.1 4.5 48 L13 48 Q13 51.1 13.8 53.9 Q14.6 56.7 16.25 58.8 Q17.9 60.9 20.45 62.15 Q23 63.4 26.4 63.4 Q31.8 63.4 35.4 60.55 Q39 57.7 39 52 Q39 49.2 37.9 47 Q36.8 44.8 34.95 43.35 Q33.1 41.9 30.65 41.15 Q28.2 40.4 25.5 40.4 L23.7 40.4 Q23.2 40.4 22.7 40.4 Q22.3 40.4 21.8 40.5 Z\"\n",
       "        /><glyph unicode=\"2\" horiz-adv-x=\"55.6\" d=\"M4.4 45.8 L12.9 45.8 Q12.8 49 13.55 52.15 Q14.3 55.3 16 57.8 Q17.7 60.3 20.35 61.85 Q23 63.4 26.7 63.4 Q29.5 63.4 32 62.5 Q34.5 61.6 36.35 59.9 Q38.2 58.2 39.3 55.85 Q40.4 53.5 40.4 50.6 Q40.4 46.9 39.25 44.1 Q38.1 41.3 35.85 38.9 Q33.6 36.5 30.2 34.15 Q26.8 31.8 22.3 29 Q18.6 26.8 15.2 24.3 Q11.8 21.8 9.1 18.5 Q6.4 15.2 4.65 10.75 Q2.9 6.3 2.4 0 L48.7 0 L48.7 7.5 L12.3 7.5 Q12.9 10.8 14.85 13.35 Q16.8 15.9 19.55 18.1 Q22.3 20.3 25.6 22.25 Q28.9 24.2 32.2 26.2 Q35.5 28.3 38.6 30.6 Q41.7 32.9 44.1 35.75 Q46.5 38.6 47.95 42.2 Q49.4 45.8 49.4 50.5 Q49.4 55.5 47.65 59.3 Q45.9 63.1 42.9 65.65 Q39.9 68.2 35.85 69.55 Q31.8 70.9 27.2 70.9 Q21.6 70.9 17.2 69 Q12.8 67.1 9.85 63.75 Q6.9 60.4 5.5 55.8 Q4.1 51.2 4.4 45.8 Z\"\n",
       "        /><glyph unicode=\"1\" horiz-adv-x=\"55.6\" d=\"M35.6 0 L35.6 70.9 L29.1 70.9 Q28.4 66.9 26.5 64.3 Q24.6 61.7 21.85 60.2 Q19.1 58.7 15.7 58.15 Q12.3 57.6 8.7 57.6 L8.7 50.8 L27.1 50.8 L27.1 0 Z\"\n",
       "        /><glyph unicode=\")\" horiz-adv-x=\"25.9\" d=\"M-0.9 -19.7 L5.5 -19.7 Q13.3 -9.4 17.25 2.55 Q21.2 14.5 21.2 26.3 Q21.2 32.9 20.1 38.9 Q19 44.9 16.95 50.65 Q14.9 56.4 12 61.95 Q9.1 67.5 5.5 73.1 L-0.9 73.1 Q6.1 61.6 9.15 50.25 Q12.2 38.9 12.2 26.3 Q12.2 14.1 9.2 2.85 Q6.2 -8.4 -0.9 -19.7 Z\"\n",
       "        /><glyph unicode=\"B\" horiz-adv-x=\"68.5\" d=\"M17.3 40.7 L17.3 63.4 L36.3 63.4 Q39.4 63.4 42.15 63.05 Q44.9 62.7 47 61.5 Q49.1 60.3 50.3 58.1 Q51.5 55.9 51.5 52.1 Q51.5 46.4 47.95 43.55 Q44.4 40.7 36.3 40.7 ZM7.8 71.4 L7.8 0 L42.3 0 Q47.6 0 51.65 1.75 Q55.7 3.5 58.45 6.35 Q61.2 9.2 62.6 12.9 Q64 16.6 64 20.5 Q64 27.1 60.5 31.7 Q57 36.3 50.4 37.7 L50.4 37.9 Q55.5 39.9 58.25 44.05 Q61 48.2 61 53.9 Q61 59.3 58.55 63 Q56.1 66.7 52.6 68.8 Q51 69.8 48.75 70.3 Q46.5 70.8 43.9 71.05 Q41.3 71.3 38.65 71.35 Q36 71.4 33.7 71.4 ZM17.3 8 L17.3 32.7 L39 32.7 Q42 32.7 44.8 32.15 Q47.6 31.6 49.75 30.25 Q51.9 28.9 53.2 26.6 Q54.5 24.3 54.5 20.8 Q54.5 14.8 50.95 11.4 Q47.4 8 41.1 8 Z\"\n",
       "        /><glyph unicode=\"(\" horiz-adv-x=\"25.9\" d=\"M20.4 -19.7 L26.9 -19.7 Q19.8 -8.2 16.75 3.1 Q13.7 14.4 13.7 27 Q13.7 39.3 16.7 50.5 Q19.7 61.7 26.9 73.1 L20.4 73.1 Q12.6 62.8 8.65 50.8 Q4.7 38.8 4.7 27 Q4.7 20.4 5.8 14.4 Q6.9 8.4 8.95 2.7 Q11 -3 13.9 -8.55 Q16.8 -14.1 20.4 -19.7 Z\"\n",
       "        /><glyph unicode=\" \" horiz-adv-x=\"27.8\" d=\"\"\n",
       "        /><glyph unicode=\"e\" horiz-adv-x=\"53.7\" d=\"M42.3 30.8 L12.6 30.8 Q12.8 33.8 13.9 36.45 Q15 39.1 16.9 41.1 Q18.8 43.1 21.45 44.25 Q24.1 45.4 27.4 45.4 Q30.6 45.4 33.25 44.25 Q35.9 43.1 37.85 41.15 Q39.8 39.2 40.95 36.5 Q42.1 33.8 42.3 30.8 ZM50.5 16.4 L42.1 16.4 Q41 11.3 37.55 8.8 Q34.1 6.3 28.7 6.3 Q24.5 6.3 21.4 7.7 Q18.3 9.1 16.3 11.45 Q14.3 13.8 13.4 16.85 Q12.5 19.9 12.6 23.3 L51.3 23.3 Q51.5 28 50.45 33.2 Q49.4 38.4 46.65 42.8 Q43.9 47.2 39.35 50.05 Q34.8 52.9 27.9 52.9 Q22.6 52.9 18.15 50.9 Q13.7 48.9 10.45 45.3 Q7.2 41.7 5.4 36.8 Q3.6 31.9 3.6 26 Q3.8 20.1 5.35 15.1 Q6.9 10.1 10 6.5 Q13.1 2.9 17.65 0.9 Q22.2 -1.1 28.4 -1.1 Q37.2 -1.1 43 3.3 Q48.8 7.7 50.5 16.4 Z\"\n",
       "        /><glyph unicode=\"d\" horiz-adv-x=\"59.3\" d=\"M12.6 25.4 Q12.6 29.2 13.4 32.8 Q14.2 36.4 16 39.2 Q17.8 42 20.8 43.7 Q23.8 45.4 28.1 45.4 Q32.5 45.4 35.6 43.75 Q38.7 42.1 40.65 39.4 Q42.6 36.7 43.5 33.15 Q44.4 29.6 44.4 25.8 Q44.4 22.2 43.55 18.7 Q42.7 15.2 40.8 12.45 Q38.9 9.7 35.9 8 Q32.9 6.3 28.6 6.3 Q24.5 6.3 21.45 7.9 Q18.4 9.5 16.45 12.2 Q14.5 14.9 13.55 18.35 Q12.6 21.8 12.6 25.4 ZM52.6 0 L52.6 71.4 L44.1 71.4 L44.1 44.8 L43.9 44.8 Q42.5 47.1 40.45 48.65 Q38.4 50.2 36.1 51.15 Q33.8 52.1 31.5 52.5 Q29.2 52.9 27.2 52.9 Q21.3 52.9 16.85 50.75 Q12.4 48.6 9.45 44.95 Q6.5 41.3 5.05 36.4 Q3.6 31.5 3.6 26 Q3.6 20.5 5.1 15.6 Q6.6 10.7 9.55 7 Q12.5 3.3 16.95 1.1 Q21.4 -1.1 27.4 -1.1 Q32.8 -1.1 37.3 0.8 Q41.8 2.7 43.9 7 L44.1 7 L44.1 0 Z\"\n",
       "        /><glyph unicode=\"u\" horiz-adv-x=\"55.6\" d=\"M49.2 0 L49.2 51.7 L40.7 51.7 L40.7 22.5 Q40.7 19 39.75 16.05 Q38.8 13.1 36.9 10.9 Q35 8.7 32.15 7.5 Q29.3 6.3 25.4 6.3 Q20.5 6.3 17.7 9.1 Q14.9 11.9 14.9 16.7 L14.9 51.7 L6.4 51.7 L6.4 17.7 Q6.4 13.5 7.25 10.05 Q8.1 6.6 10.2 4.1 Q12.3 1.6 15.7 0.25 Q19.1 -1.1 24.2 -1.1 Q29.9 -1.1 34.1 1.15 Q38.3 3.4 41 8.2 L41.2 8.2 L41.2 0 Z\"\n",
       "        /><glyph unicode=\"t\" horiz-adv-x=\"31.5\" d=\"M18.2 51.7 L18.2 67.2 L9.7 67.2 L9.7 51.7 L0.9 51.7 L0.9 44.2 L9.7 44.2 L9.7 11.3 Q9.7 7.7 10.4 5.5 Q11.1 3.3 12.55 2.1 Q14 0.9 16.35 0.45 Q18.7 0 22 0 L28.5 0 L28.5 7.5 L24.6 7.5 Q22.6 7.5 21.35 7.65 Q20.1 7.8 19.4 8.3 Q18.7 8.8 18.45 9.7 Q18.2 10.6 18.2 12.1 L18.2 44.2 L28.5 44.2 L28.5 51.7 Z\"\n",
       "        /><glyph unicode=\"i\" horiz-adv-x=\"22.2\" d=\"M15.4 61 L15.4 71.4 L6.9 71.4 L6.9 61 ZM6.9 51.7 L6.9 0 L15.4 0 L15.4 51.7 Z\"\n",
       "        /><glyph unicode=\"n\" horiz-adv-x=\"55.6\" d=\"M6.4 51.7 L6.4 0 L14.9 0 L14.9 29.2 Q14.9 32.7 15.85 35.65 Q16.8 38.6 18.7 40.8 Q20.6 43 23.45 44.2 Q26.3 45.4 30.2 45.4 Q35.1 45.4 37.9 42.6 Q40.7 39.8 40.7 35 L40.7 0 L49.2 0 L49.2 34 Q49.2 38.2 48.35 41.65 Q47.5 45.1 45.4 47.6 Q43.3 50.1 39.9 51.5 Q36.5 52.9 31.4 52.9 Q19.9 52.9 14.6 43.5 L14.4 43.5 L14.4 51.7 Z\"\n",
       "        /><glyph unicode=\"g\" horiz-adv-x=\"57.4\" d=\"M51 4.4 L51 51.7 L43 51.7 L43 44.3 L42.9 44.3 Q40.6 48.6 36.5 50.75 Q32.4 52.9 27.5 52.9 Q20.8 52.9 16.2 50.35 Q11.6 47.8 8.8 43.85 Q6 39.9 4.8 35.05 Q3.6 30.2 3.6 25.6 Q3.6 20.3 5.05 15.55 Q6.5 10.8 9.4 7.25 Q12.3 3.7 16.6 1.6 Q20.9 -0.5 26.7 -0.5 Q31.7 -0.5 36.15 1.75 Q40.6 4 42.8 8.8 L43 8.8 L43 5.4 Q43 1.1 42.15 -2.5 Q41.3 -6.1 39.4 -8.65 Q37.5 -11.2 34.6 -12.65 Q31.7 -14.1 27.5 -14.1 Q25.4 -14.1 23.1 -13.65 Q20.8 -13.2 18.85 -12.2 Q16.9 -11.2 15.55 -9.6 Q14.2 -8 14.1 -5.7 L5.6 -5.7 Q5.8 -9.9 7.8 -12.8 Q9.8 -15.7 12.85 -17.5 Q15.9 -19.3 19.65 -20.1 Q23.4 -20.9 27 -20.9 Q39.4 -20.9 45.2 -14.6 Q51 -8.3 51 4.4 ZM27.2 6.9 Q23 6.9 20.2 8.65 Q17.4 10.4 15.7 13.25 Q14 16.1 13.3 19.6 Q12.6 23.1 12.6 26.6 Q12.6 30.3 13.45 33.7 Q14.3 37.1 16.15 39.7 Q18 42.3 20.9 43.85 Q23.8 45.4 27.9 45.4 Q31.9 45.4 34.7 43.8 Q37.5 42.2 39.25 39.55 Q41 36.9 41.8 33.6 Q42.6 30.3 42.6 26.9 Q42.6 23.3 41.75 19.7 Q40.9 16.1 39.1 13.25 Q37.3 10.4 34.35 8.65 Q31.4 6.9 27.2 6.9 Z\"\n",
       "        /><glyph unicode=\"a\" horiz-adv-x=\"53.7\" d=\"M52.2 0.2 Q50 -1.1 46.1 -1.1 Q42.8 -1.1 40.85 0.75 Q38.9 2.6 38.9 6.8 Q35.4 2.6 30.75 0.75 Q26.1 -1.1 20.7 -1.1 Q17.2 -1.1 14.05 -0.3 Q10.9 0.5 8.6 2.2 Q6.3 3.9 4.95 6.65 Q3.6 9.4 3.6 13.3 Q3.6 17.7 5.1 20.5 Q6.6 23.3 9.05 25.05 Q11.5 26.8 14.65 27.7 Q17.8 28.6 21.1 29.2 Q24.6 29.9 27.75 30.25 Q30.9 30.6 33.3 31.25 Q35.7 31.9 37.1 33.15 Q38.5 34.4 38.5 36.8 Q38.5 39.6 37.45 41.3 Q36.4 43 34.75 43.9 Q33.1 44.8 31.05 45.1 Q29 45.4 27 45.4 Q21.6 45.4 18 43.35 Q14.4 41.3 14.1 35.6 L5.6 35.6 Q5.8 40.4 7.6 43.7 Q9.4 47 12.4 49.05 Q15.4 51.1 19.25 52 Q23.1 52.9 27.5 52.9 Q31 52.9 34.45 52.4 Q37.9 51.9 40.7 50.35 Q43.5 48.8 45.2 46 Q46.9 43.2 46.9 38.7 L46.9 12.1 Q46.9 9.1 47.25 7.7 Q47.6 6.3 49.6 6.3 Q50.7 6.3 52.2 6.8 ZM38.4 26.7 Q36.8 25.5 34.2 24.95 Q31.6 24.4 28.75 24.05 Q25.9 23.7 23 23.25 Q20.1 22.8 17.8 21.8 Q15.5 20.8 14.05 18.95 Q12.6 17.1 12.6 13.9 Q12.6 11.8 13.45 10.35 Q14.3 8.9 15.65 8 Q17 7.1 18.8 6.7 Q20.6 6.3 22.6 6.3 Q26.8 6.3 29.8 7.45 Q32.8 8.6 34.7 10.35 Q36.6 12.1 37.5 14.15 Q38.4 16.2 38.4 18 Z\"\n",
       "        /><glyph unicode=\"M\" horiz-adv-x=\"87.1\" d=\"M8 71.4 L8 0 L17 0 L17 59.4 L17.2 59.4 L39.5 0 L47.6 0 L69.9 59.4 L70.1 59.4 L70.1 0 L79.1 0 L79.1 71.4 L66.1 71.4 L43.5 11.4 L21 71.4 Z\"\n",
       "        /><glyph unicode=\"9\" horiz-adv-x=\"55.6\" d=\"M13.4 17.1 L4.9 17.1 Q5.7 7.9 11.6 3.4 Q17.5 -1.1 26.4 -1.1 Q39.3 -1.1 45.15 8.75 Q51 18.6 51 37 Q51 47.1 49.05 53.65 Q47.1 60.2 43.8 64 Q40.5 67.8 36.1 69.35 Q31.7 70.9 26.7 70.9 Q21.6 70.9 17.3 69.2 Q13 67.5 9.9 64.45 Q6.8 61.4 5.1 57.15 Q3.4 52.9 3.4 47.8 Q3.4 42.6 4.85 38.2 Q6.3 33.8 9.15 30.7 Q12 27.6 16.2 25.85 Q20.4 24.1 25.8 24.1 Q31 24.1 35.4 26.75 Q39.8 29.4 42.2 33.9 L42.4 33.7 Q42 19.8 38.1 13.05 Q34.2 6.3 26.4 6.3 Q21.3 6.3 17.6 9.1 Q13.9 11.9 13.4 17.1 ZM40.9 47.2 Q40.9 44.1 39.9 41.25 Q38.9 38.4 37 36.25 Q35.1 34.1 32.4 32.85 Q29.7 31.6 26.4 31.6 Q23.3 31.6 20.75 32.85 Q18.2 34.1 16.35 36.2 Q14.5 38.3 13.45 41 Q12.4 43.7 12.4 46.6 Q12.4 49.9 13.15 52.9 Q13.9 55.9 15.55 58.25 Q17.2 60.6 19.85 62 Q22.5 63.4 26.3 63.4 Q29.9 63.4 32.6 62.1 Q35.3 60.8 37.15 58.55 Q39 56.3 39.95 53.4 Q40.9 50.5 40.9 47.2 Z\"\n",
       "        /><glyph unicode=\"s\" horiz-adv-x=\"50.0\" d=\"M11.6 16.3 L3.1 16.3 Q3.3 11.5 5.1 8.15 Q6.9 4.8 9.9 2.75 Q12.9 0.7 16.8 -0.2 Q20.7 -1.1 25 -1.1 Q28.9 -1.1 32.85 -0.35 Q36.8 0.4 39.95 2.3 Q43.1 4.2 45.05 7.3 Q47 10.4 47 15.1 Q47 18.8 45.55 21.3 Q44.1 23.8 41.75 25.45 Q39.4 27.1 36.35 28.1 Q33.3 29.1 30.1 29.8 Q27.1 30.5 24.1 31.15 Q21.1 31.8 18.7 32.75 Q16.3 33.7 14.75 35.15 Q13.2 36.6 13.2 38.8 Q13.2 40.8 14.2 42.05 Q15.2 43.3 16.8 44.05 Q18.4 44.8 20.35 45.1 Q22.3 45.4 24.2 45.4 Q26.3 45.4 28.35 44.95 Q30.4 44.5 32.1 43.5 Q33.8 42.5 34.9 40.85 Q36 39.2 36.2 36.7 L44.7 36.7 Q44.4 41.4 42.7 44.55 Q41 47.7 38.15 49.55 Q35.3 51.4 31.6 52.15 Q27.9 52.9 23.5 52.9 Q20.1 52.9 16.65 52.05 Q13.2 51.2 10.45 49.45 Q7.7 47.7 5.95 44.9 Q4.2 42.1 4.2 38.2 Q4.2 33.2 6.7 30.4 Q9.2 27.6 12.95 26.05 Q16.7 24.5 21.1 23.65 Q25.5 22.8 29.25 21.75 Q33 20.7 35.5 19 Q38 17.3 38 14 Q38 11.6 36.8 10.05 Q35.6 8.5 33.75 7.7 Q31.9 6.9 29.7 6.6 Q27.5 6.3 25.5 6.3 Q22.9 6.3 20.45 6.8 Q18 7.3 16.05 8.45 Q14.1 9.6 12.9 11.55 Q11.7 13.5 11.6 16.3 Z\"\n",
       "        /><glyph unicode=\"h\" horiz-adv-x=\"55.6\" d=\"M6.4 71.4 L6.4 0 L14.9 0 L14.9 29.2 Q14.9 32.7 15.85 35.65 Q16.8 38.6 18.7 40.8 Q20.6 43 23.45 44.2 Q26.3 45.4 30.2 45.4 Q35.1 45.4 37.9 42.6 Q40.7 39.8 40.7 35 L40.7 0 L49.2 0 L49.2 34 Q49.2 38.2 48.35 41.65 Q47.5 45.1 45.4 47.6 Q43.3 50.1 39.9 51.5 Q36.5 52.9 31.4 52.9 Q29.1 52.9 26.65 52.4 Q24.2 51.9 21.95 50.85 Q19.7 49.8 17.9 48.15 Q16.1 46.5 15.1 44.1 L14.9 44.1 L14.9 71.4 Z\"\n",
       "        /><glyph unicode=\"P\" horiz-adv-x=\"64.8\" d=\"M17.3 37.2 L17.3 63.4 L35.9 63.4 Q44 63.4 47.75 60.05 Q51.5 56.7 51.5 50.3 Q51.5 43.9 47.75 40.5 Q44 37.1 35.9 37.2 ZM7.8 71.4 L7.8 0 L17.3 0 L17.3 29.2 L39.1 29.2 Q49.9 29.1 55.45 34.7 Q61 40.3 61 50.3 Q61 60.3 55.45 65.85 Q49.9 71.4 39.1 71.4 Z\"\n",
       "        /><glyph unicode=\"/\" horiz-adv-x=\"33.3\" d=\"M27.8 73.1 L-1.7 -1.6 L5.5 -1.6 L35.1 73.1 Z\"\n",
       "        /><glyph unicode=\"y\" horiz-adv-x=\"50.0\" d=\"M26.7 -6.9 Q25.2 -10.7 23.75 -13.3 Q22.3 -15.9 20.55 -17.55 Q18.8 -19.2 16.65 -19.95 Q14.5 -20.7 11.7 -20.7 Q10.2 -20.7 8.7 -20.5 Q7.2 -20.3 5.8 -19.8 L5.8 -12 Q6.9 -12.5 8.35 -12.85 Q9.8 -13.2 10.8 -13.2 Q13.4 -13.2 15.15 -11.95 Q16.9 -10.7 17.8 -8.4 L21.3 0.3 L0.8 51.7 L10.4 51.7 L25.5 9.4 L25.7 9.4 L40.2 51.7 L49.2 51.7 Z\"\n",
       "        /><glyph unicode=\"c\" horiz-adv-x=\"53.7\" d=\"M41.5 35.1 L50.3 35.1 Q49.8 39.7 47.9 43.05 Q46 46.4 43.05 48.6 Q40.1 50.8 36.25 51.85 Q32.4 52.9 28 52.9 Q21.9 52.9 17.3 50.75 Q12.7 48.6 9.65 44.85 Q6.6 41.1 5.1 36.05 Q3.6 31 3.6 25.2 Q3.6 19.4 5.15 14.55 Q6.7 9.7 9.75 6.2 Q12.8 2.7 17.35 0.8 Q21.9 -1.1 27.8 -1.1 Q37.7 -1.1 43.45 4.1 Q49.2 9.3 50.6 18.9 L41.9 18.9 Q41.1 12.9 37.55 9.6 Q34 6.3 27.7 6.3 Q23.7 6.3 20.8 7.9 Q17.9 9.5 16.1 12.15 Q14.3 14.8 13.45 18.2 Q12.6 21.6 12.6 25.2 Q12.6 29.1 13.4 32.75 Q14.2 36.4 16.05 39.2 Q17.9 42 21 43.7 Q24.1 45.4 28.7 45.4 Q34.1 45.4 37.3 42.7 Q40.5 40 41.5 35.1 Z\"\n",
       "        /><glyph unicode=\"q\" horiz-adv-x=\"59.3\" d=\"M12.6 25.4 Q12.6 29.2 13.4 32.8 Q14.2 36.4 16 39.2 Q17.8 42 20.8 43.7 Q23.8 45.4 28.1 45.4 Q32.5 45.4 35.6 43.75 Q38.7 42.1 40.65 39.4 Q42.6 36.7 43.5 33.15 Q44.4 29.6 44.4 25.8 Q44.4 22.2 43.55 18.7 Q42.7 15.2 40.8 12.45 Q38.9 9.7 35.9 8 Q32.9 6.3 28.6 6.3 Q24.5 6.3 21.45 7.9 Q18.4 9.5 16.45 12.2 Q14.5 14.9 13.55 18.35 Q12.6 21.8 12.6 25.4 ZM52.6 -19.7 L52.6 51.7 L44.1 51.7 L44.1 44.8 L43.9 44.8 Q42.5 47.1 40.45 48.65 Q38.4 50.2 36.1 51.15 Q33.8 52.1 31.5 52.5 Q29.2 52.9 27.2 52.9 Q21.3 52.9 16.85 50.75 Q12.4 48.6 9.45 44.95 Q6.5 41.3 5.05 36.4 Q3.6 31.5 3.6 26 Q3.6 20.5 5.1 15.6 Q6.6 10.7 9.55 7 Q12.5 3.3 16.95 1.1 Q21.4 -1.1 27.4 -1.1 Q32.8 -1.1 37.3 0.8 Q41.8 2.7 43.9 7 L44.1 7 L44.1 -19.7 Z\"\n",
       "        /><glyph unicode=\"r\" horiz-adv-x=\"33.3\" d=\"M6.1 51.7 L6.1 0 L14.6 0 L14.6 23 Q14.6 28 15.6 31.85 Q16.6 35.7 18.8 38.4 Q21 41.1 24.6 42.5 Q28.2 43.9 33.3 43.9 L33.3 52.9 Q26.4 53.1 21.9 50.1 Q17.4 47.1 14.3 40.8 L14.1 40.8 L14.1 51.7 Z\"\n",
       "        /><glyph unicode=\"F\" horiz-adv-x=\"57.4\" d=\"M7.8 71.4 L7.8 0 L17.3 0 L17.3 32.7 L50.1 32.7 L50.1 40.7 L17.3 40.7 L17.3 63.4 L54.7 63.4 L54.7 71.4 Z\"\n",
       "      /></font\n",
       "      ><font horiz-adv-x=\"50.0\" id=\"font2\"\n",
       "      ><font-face ascent=\"97.5\" descent=\"21.699999\" units-per-em=\"100\" style=\"font-style:normal; font-family:Helvetica Neue; font-weight:bold;\"\n",
       "        /><missing-glyph horiz-adv-x=\"50.0\" d=\"M39.1 60.7 L11.1 60.7 L11.1 9.5 L39.1 9.5 ZM48.2 69.8 L48.2 0.3 L1.7 0.3 L1.7 69.8 Z\"\n",
       "        /><glyph unicode=\"F\" horiz-adv-x=\"59.3\" d=\"M6.9 71.4 L6.9 0 L22.6 0 L22.6 29.5 L52.5 29.5 L52.5 41.7 L22.6 41.7 L22.6 58.2 L57.1 58.2 L57.1 71.4 Z\"\n",
       "        /><glyph unicode=\"s\" horiz-adv-x=\"53.7\" d=\"M16.4 16.8 L2.9 16.8 Q3.1 11.6 5.25 8.15 Q7.4 4.7 10.75 2.6 Q14.1 0.5 18.4 -0.4 Q22.7 -1.3 27.2 -1.3 Q31.6 -1.3 35.85 -0.45 Q40.1 0.4 43.4 2.5 Q46.7 4.6 48.75 8.05 Q50.8 11.5 50.8 16.6 Q50.8 20.2 49.4 22.65 Q48 25.1 45.7 26.75 Q43.4 28.4 40.45 29.4 Q37.5 30.4 34.4 31.1 Q31.4 31.8 28.5 32.4 Q25.6 33 23.35 33.75 Q21.1 34.5 19.7 35.7 Q18.3 36.9 18.3 38.8 Q18.3 40.4 19.1 41.35 Q19.9 42.3 21.05 42.8 Q22.2 43.3 23.6 43.45 Q25 43.6 26.2 43.6 Q30 43.6 32.8 42.15 Q35.6 40.7 35.9 36.6 L49.4 36.6 Q49 41.4 46.95 44.55 Q44.9 47.7 41.8 49.6 Q38.7 51.5 34.75 52.3 Q30.8 53.1 26.6 53.1 Q22.4 53.1 18.4 52.35 Q14.4 51.6 11.2 49.75 Q8 47.9 6.05 44.7 Q4.1 41.5 4.1 36.5 Q4.1 33.1 5.5 30.75 Q6.9 28.4 9.2 26.85 Q11.5 25.3 14.45 24.35 Q17.4 23.4 20.5 22.7 Q28.1 21.1 32.35 19.5 Q36.6 17.9 36.6 14.7 Q36.6 12.8 35.7 11.55 Q34.8 10.3 33.45 9.55 Q32.1 8.8 30.45 8.45 Q28.8 8.1 27.3 8.1 Q25.2 8.1 23.25 8.6 Q21.3 9.1 19.8 10.15 Q18.3 11.2 17.35 12.85 Q16.4 14.5 16.4 16.8 Z\"\n",
       "        /><glyph unicode=\"a\" horiz-adv-x=\"57.4\" d=\"M4.8 35.8 Q5.1 40.8 7.3 44.1 Q9.5 47.4 12.9 49.4 Q16.3 51.4 20.55 52.25 Q24.8 53.1 29.1 53.1 Q33 53.1 37 52.55 Q41 52 44.3 50.4 Q47.6 48.8 49.7 45.95 Q51.8 43.1 51.8 38.4 L51.8 11.5 Q51.8 8 52.2 4.8 Q52.6 1.6 53.6 0 L39.2 0 Q38.8 1.2 38.55 2.45 Q38.3 3.7 38.2 5 Q34.8 1.5 30.2 0.1 Q25.6 -1.3 20.8 -1.3 Q17.1 -1.3 13.9 -0.4 Q10.7 0.5 8.3 2.4 Q5.9 4.3 4.55 7.2 Q3.2 10.1 3.2 14.1 Q3.2 18.5 4.75 21.35 Q6.3 24.2 8.75 25.9 Q11.2 27.6 14.35 28.45 Q17.5 29.3 20.7 29.8 Q23.9 30.3 27 30.6 Q30.1 30.9 32.5 31.5 Q34.9 32.1 36.3 33.25 Q37.7 34.4 37.6 36.6 Q37.6 38.9 36.85 40.25 Q36.1 41.6 34.85 42.35 Q33.6 43.1 31.95 43.35 Q30.3 43.6 28.4 43.6 Q24.2 43.6 21.8 41.8 Q19.4 40 19 35.8 ZM37.6 25.3 Q36.7 24.5 35.35 24.05 Q34 23.6 32.45 23.3 Q30.9 23 29.2 22.8 Q27.5 22.6 25.8 22.3 Q24.2 22 22.65 21.5 Q21.1 21 19.95 20.15 Q18.8 19.3 18.1 18 Q17.4 16.7 17.4 14.7 Q17.4 12.8 18.1 11.5 Q18.8 10.2 20 9.45 Q21.2 8.7 22.8 8.4 Q24.4 8.1 26.1 8.1 Q30.3 8.1 32.6 9.5 Q34.9 10.9 36 12.85 Q37.1 14.8 37.35 16.8 Q37.6 18.8 37.6 20 Z\"\n",
       "        /><glyph unicode=\"P\" horiz-adv-x=\"66.7\" d=\"M22.6 37.8 L22.6 59.2 L34.8 59.2 Q37.5 59.2 40 58.8 Q42.5 58.4 44.4 57.25 Q46.3 56.1 47.45 54 Q48.6 51.9 48.6 48.5 Q48.6 45.1 47.45 43 Q46.3 40.9 44.4 39.75 Q42.5 38.6 40 38.2 Q37.5 37.8 34.8 37.8 ZM6.9 71.4 L6.9 0 L22.6 0 L22.6 25.6 L39.1 25.6 Q45.8 25.6 50.5 27.55 Q55.2 29.5 58.15 32.7 Q61.1 35.9 62.45 40.05 Q63.8 44.2 63.8 48.5 Q63.8 52.9 62.45 57 Q61.1 61.1 58.15 64.3 Q55.2 67.5 50.5 69.45 Q45.8 71.4 39.1 71.4 Z\"\n",
       "        /><glyph unicode=\"g\" horiz-adv-x=\"61.1\" d=\"M29.5 12.2 Q26.2 12.2 24 13.6 Q21.8 15 20.45 17.2 Q19.1 19.4 18.55 22.15 Q18 24.9 18 27.7 Q18 30.6 18.65 33.25 Q19.3 35.9 20.75 37.95 Q22.2 40 24.35 41.2 Q26.5 42.4 29.5 42.4 Q33 42.4 35.3 41.1 Q37.6 39.8 39 37.6 Q40.4 35.4 41 32.55 Q41.6 29.7 41.6 26.5 Q41.6 23.7 40.85 21.15 Q40.1 18.6 38.6 16.6 Q37.1 14.6 34.8 13.4 Q32.5 12.2 29.5 12.2 ZM55.1 3.3 L55.1 51.7 L41.6 51.7 L41.6 44.8 L41.4 44.8 Q38.8 49.3 34.95 51.2 Q31.1 53.1 26 53.1 Q20.6 53.1 16.45 51 Q12.3 48.9 9.5 45.35 Q6.7 41.8 5.25 37.15 Q3.8 32.5 3.8 27.5 Q3.8 22.2 5.05 17.45 Q6.3 12.7 9 9.15 Q11.7 5.6 15.9 3.55 Q20.1 1.5 25.9 1.5 Q30.6 1.5 34.85 3.45 Q39.1 5.4 41.4 9.5 L41.6 9.5 L41.6 2.7 Q41.7 -2.8 38.95 -6.4 Q36.2 -10 30.2 -10 Q26.4 -10 23.5 -8.45 Q20.6 -6.9 19.6 -2.9 L5.5 -2.9 Q5.8 -7.3 7.95 -10.45 Q10.1 -13.6 13.35 -15.6 Q16.6 -17.6 20.55 -18.55 Q24.5 -19.5 28.3 -19.5 Q37.2 -19.5 42.5 -17.1 Q47.8 -14.7 50.6 -11.25 Q53.4 -7.8 54.25 -3.8 Q55.1 0.2 55.1 3.3 Z\"\n",
       "        /><glyph unicode=\"i\" horiz-adv-x=\"25.8\" d=\"M20 59.7 L20 71.4 L5.8 71.4 L5.8 59.7 ZM5.8 51.7 L5.8 0 L20 0 L20 51.7 Z\"\n",
       "        /><glyph unicode=\"H\" horiz-adv-x=\"74.1\" d=\"M6.9 71.4 L6.9 0 L22.6 0 L22.6 30.8 L51.5 30.8 L51.5 0 L67.2 0 L67.2 71.4 L51.5 71.4 L51.5 44 L22.6 44 L22.6 71.4 Z\"\n",
       "        /><glyph unicode=\"O\" horiz-adv-x=\"77.8\" d=\"M19.5 35.4 Q19.5 40.1 20.55 44.5 Q21.6 48.9 23.9 52.35 Q26.2 55.8 29.9 57.85 Q33.6 59.9 38.9 59.9 Q44.2 59.9 47.9 57.85 Q51.6 55.8 53.9 52.35 Q56.2 48.9 57.25 44.5 Q58.3 40.1 58.3 35.4 Q58.3 30.9 57.25 26.65 Q56.2 22.4 53.9 19 Q51.6 15.6 47.9 13.55 Q44.2 11.5 38.9 11.5 Q33.6 11.5 29.9 13.55 Q26.2 15.6 23.9 19 Q21.6 22.4 20.55 26.65 Q19.5 30.9 19.5 35.4 ZM3.8 35.4 Q3.8 27.6 6.2 20.85 Q8.6 14.1 13.1 9.1 Q17.6 4.1 24.15 1.25 Q30.7 -1.6 38.9 -1.6 Q47.2 -1.6 53.7 1.25 Q60.2 4.1 64.7 9.1 Q69.2 14.1 71.6 20.85 Q74 27.6 74 35.4 Q74 43.4 71.6 50.25 Q69.2 57.1 64.7 62.2 Q60.2 67.3 53.7 70.2 Q47.2 73.1 38.9 73.1 Q30.7 73.1 24.15 70.2 Q17.6 67.3 13.1 62.2 Q8.6 57.1 6.2 50.25 Q3.8 43.4 3.8 35.4 Z\"\n",
       "        /><glyph unicode=\"n\" horiz-adv-x=\"59.3\" d=\"M5.4 51.7 L5.4 0 L19.6 0 L19.6 27.1 Q19.6 35 22.2 38.45 Q24.8 41.9 30.6 41.9 Q35.7 41.9 37.7 38.75 Q39.7 35.6 39.7 29.2 L39.7 0 L53.9 0 L53.9 31.8 Q53.9 36.6 53.05 40.55 Q52.2 44.5 50.1 47.25 Q48 50 44.35 51.55 Q40.7 53.1 35 53.1 Q30.5 53.1 26.2 51.05 Q21.9 49 19.2 44.5 L18.9 44.5 L18.9 51.7 Z\"\n",
       "        /><glyph unicode=\"2\" horiz-adv-x=\"55.6\" d=\"M3.7 43.1 L17.3 43.1 Q17.3 45.9 17.85 48.75 Q18.4 51.6 19.7 53.95 Q21 56.3 23.15 57.75 Q25.3 59.2 28.4 59.2 Q33 59.2 35.95 56.35 Q38.9 53.5 38.9 48.4 Q38.9 45.2 37.45 42.7 Q36 40.2 33.85 38.2 Q31.7 36.2 29.1 34.55 Q26.5 32.9 24.2 31.3 Q19.7 28.2 15.65 25.2 Q11.6 22.2 8.6 18.65 Q5.6 15.1 3.85 10.6 Q2.1 6.1 2.1 0 L53.5 0 L53.5 12.2 L20.4 12.2 Q23 15.8 26.4 18.5 Q29.8 21.2 33.4 23.55 Q37 25.9 40.55 28.3 Q44.1 30.7 46.9 33.65 Q49.7 36.6 51.4 40.4 Q53.1 44.2 53.1 49.5 Q53.1 54.6 51.15 58.7 Q49.2 62.8 45.9 65.6 Q42.6 68.4 38.25 69.9 Q33.9 71.4 29.1 71.4 Q22.8 71.4 17.95 69.25 Q13.1 67.1 9.9 63.25 Q6.7 59.4 5.1 54.25 Q3.5 49.1 3.7 43.1 Z\"\n",
       "        /><glyph unicode=\"h\" horiz-adv-x=\"59.3\" d=\"M5.4 71.4 L5.4 0 L19.6 0 L19.6 27.1 Q19.6 35 22.2 38.45 Q24.8 41.9 30.6 41.9 Q35.7 41.9 37.7 38.75 Q39.7 35.6 39.7 29.2 L39.7 0 L53.9 0 L53.9 31.8 Q53.9 36.6 53.05 40.55 Q52.2 44.5 50.1 47.25 Q48 50 44.35 51.55 Q40.7 53.1 35 53.1 Q31 53.1 26.8 51.05 Q22.6 49 19.9 44.5 L19.6 44.5 L19.6 71.4 Z\"\n",
       "        /><glyph unicode=\"w\" horiz-adv-x=\"81.4\" d=\"M64.5 0 L80.8 51.7 L66.2 51.7 L56.7 16.7 L56.5 16.7 L47.7 51.7 L33.9 51.7 L25.3 16.6 L25.1 16.6 L15.6 51.7 L0.6 51.7 L17 0 L31.7 0 L40.5 34.7 L40.7 34.7 L49.9 0 Z\"\n",
       "        /><glyph unicode=\"r\" horiz-adv-x=\"38.9\" d=\"M5.4 51.7 L5.4 0 L19.6 0 L19.6 23.3 Q19.6 26.8 20.3 29.8 Q21 32.8 22.65 35.05 Q24.3 37.3 27 38.6 Q29.7 39.9 33.6 39.9 Q34.9 39.9 36.3 39.75 Q37.7 39.6 38.7 39.4 L38.7 52.6 Q37 53.1 35.6 53.1 Q32.9 53.1 30.4 52.3 Q27.9 51.5 25.7 50.05 Q23.5 48.6 21.8 46.55 Q20.1 44.5 19.1 42.1 L18.9 42.1 L18.9 51.7 Z\"\n",
       "        /><glyph unicode=\"u\" horiz-adv-x=\"59.3\" d=\"M53.9 0 L53.9 51.7 L39.7 51.7 L39.7 24.6 Q39.7 16.7 37.1 13.25 Q34.5 9.8 28.7 9.8 Q23.6 9.8 21.6 12.95 Q19.6 16.1 19.6 22.5 L19.6 51.7 L5.4 51.7 L5.4 19.9 Q5.4 15.1 6.25 11.15 Q7.1 7.2 9.2 4.45 Q11.3 1.7 14.95 0.2 Q18.6 -1.3 24.3 -1.3 Q28.8 -1.3 33.1 0.7 Q37.4 2.7 40.1 7.2 L40.4 7.2 L40.4 0 Z\"\n",
       "        /><glyph unicode=\"f\" horiz-adv-x=\"33.3\" d=\"M8.5 42.2 L8.5 0 L22.7 0 L22.7 42.2 L32.5 42.2 L32.5 51.7 L22.7 51.7 L22.7 54.8 Q22.7 58 23.95 59.35 Q25.2 60.7 28.1 60.7 Q30.8 60.7 33.3 60.4 L33.3 71 Q31.5 71.1 29.6 71.25 Q27.7 71.4 25.8 71.4 Q17.1 71.4 12.8 67 Q8.5 62.6 8.5 55.7 L8.5 51.7 L0 51.7 L0 42.2 Z\"\n",
       "        /><glyph unicode=\" \" horiz-adv-x=\"27.8\" d=\"\"\n",
       "        /><glyph unicode=\"t\" horiz-adv-x=\"35.2\" d=\"M23.4 51.7 L23.4 67.2 L9.2 67.2 L9.2 51.7 L0.6 51.7 L0.6 42.2 L9.2 42.2 L9.2 11.7 Q9.2 7.8 10.5 5.4 Q11.8 3 14.05 1.7 Q16.3 0.4 19.25 -0.05 Q22.2 -0.5 25.5 -0.5 Q27.6 -0.5 29.8 -0.4 Q32 -0.3 33.8 0 L33.8 11 Q32.8 10.8 31.7 10.7 Q30.6 10.6 29.4 10.6 Q25.8 10.6 24.6 11.8 Q23.4 13 23.4 16.6 L23.4 42.2 L33.8 42.2 L33.8 51.7 Z\"\n",
       "        /><glyph unicode=\"l\" horiz-adv-x=\"25.8\" d=\"M5.8 71.4 L5.8 0 L20 0 L20 71.4 Z\"\n",
       "        /><glyph unicode=\"p\" horiz-adv-x=\"61.1\" d=\"M31.5 9.3 Q28.1 9.3 25.7 10.7 Q23.3 12.1 21.85 14.35 Q20.4 16.6 19.75 19.6 Q19.1 22.6 19.1 25.7 Q19.1 28.9 19.7 31.9 Q20.3 34.9 21.75 37.2 Q23.2 39.5 25.55 40.95 Q27.9 42.4 31.4 42.4 Q34.8 42.4 37.15 40.95 Q39.5 39.5 41 37.15 Q42.5 34.8 43.15 31.8 Q43.8 28.8 43.8 25.7 Q43.8 22.6 43.2 19.6 Q42.6 16.6 41.15 14.35 Q39.7 12.1 37.35 10.7 Q35 9.3 31.5 9.3 ZM5.4 51.7 L5.4 -18.1 L19.6 -18.1 L19.6 6.4 L19.8 6.4 Q22.4 2.6 26.45 0.65 Q30.5 -1.3 35.3 -1.3 Q41 -1.3 45.25 0.9 Q49.5 3.1 52.35 6.8 Q55.2 10.5 56.6 15.3 Q58 20.1 58 25.3 Q58 30.8 56.6 35.85 Q55.2 40.9 52.3 44.7 Q49.4 48.5 45 50.8 Q40.6 53.1 34.5 53.1 Q29.7 53.1 25.7 51.2 Q21.7 49.3 19.1 45.1 L18.9 45.1 L18.9 51.7 Z\"\n",
       "        /><glyph unicode=\"-\" horiz-adv-x=\"40.7\" d=\"M5.3 33.4 L5.3 21.2 L35.4 21.2 L35.4 33.4 Z\"\n",
       "        /><glyph unicode=\"e\" horiz-adv-x=\"57.4\" d=\"M40.2 31.4 L17.1 31.4 Q17.2 32.9 17.75 34.8 Q18.3 36.7 19.65 38.4 Q21 40.1 23.25 41.25 Q25.5 42.4 28.9 42.4 Q34.1 42.4 36.65 39.6 Q39.2 36.8 40.2 31.4 ZM17.1 22.4 L54.4 22.4 Q54.8 28.4 53.4 33.9 Q52 39.4 48.85 43.7 Q45.7 48 40.8 50.55 Q35.9 53.1 29.3 53.1 Q23.4 53.1 18.55 51 Q13.7 48.9 10.2 45.25 Q6.7 41.6 4.8 36.6 Q2.9 31.6 2.9 25.8 Q2.9 19.8 4.75 14.8 Q6.6 9.8 10 6.2 Q13.4 2.6 18.3 0.65 Q23.2 -1.3 29.3 -1.3 Q38.1 -1.3 44.3 2.7 Q50.5 6.7 53.5 16 L41 16 Q40.3 13.6 37.2 11.45 Q34.1 9.3 29.8 9.3 Q23.8 9.3 20.6 12.4 Q17.4 15.5 17.1 22.4 Z\"\n",
       "        /><glyph unicode=\"d\" horiz-adv-x=\"61.1\" d=\"M42.1 26 Q42.1 22.8 41.5 19.8 Q40.9 16.8 39.5 14.45 Q38.1 12.1 35.75 10.7 Q33.4 9.3 29.9 9.3 Q26.6 9.3 24.25 10.75 Q21.9 12.2 20.35 14.55 Q18.8 16.9 18.1 19.9 Q17.4 22.9 17.4 25.9 Q17.4 29.1 18.05 32.05 Q18.7 35 20.15 37.3 Q21.6 39.6 24 41 Q26.4 42.4 29.9 42.4 Q33.4 42.4 35.7 41 Q38 39.6 39.45 37.35 Q40.9 35.1 41.5 32.15 Q42.1 29.2 42.1 26 ZM42.3 6.6 L42.3 0 L55.8 0 L55.8 71.4 L41.6 71.4 L41.6 45.4 L41.4 45.4 Q39 49.2 34.85 51.15 Q30.7 53.1 26.1 53.1 Q20.4 53.1 16.1 50.85 Q11.8 48.6 8.95 44.9 Q6.1 41.2 4.65 36.35 Q3.2 31.5 3.2 26.3 Q3.2 20.9 4.65 15.9 Q6.1 10.9 8.95 7.05 Q11.8 3.2 16.2 0.95 Q20.6 -1.3 26.4 -1.3 Q31.5 -1.3 35.55 0.55 Q39.6 2.4 42.1 6.6 Z\"\n",
       "        /><glyph unicode=\"o\" horiz-adv-x=\"61.1\" d=\"M18 25.8 Q18 28.9 18.6 31.9 Q19.2 34.9 20.65 37.2 Q22.1 39.5 24.5 40.95 Q26.9 42.4 30.5 42.4 Q34.1 42.4 36.55 40.95 Q39 39.5 40.45 37.2 Q41.9 34.9 42.5 31.9 Q43.1 28.9 43.1 25.8 Q43.1 22.7 42.5 19.75 Q41.9 16.8 40.45 14.45 Q39 12.1 36.55 10.7 Q34.1 9.3 30.5 9.3 Q26.9 9.3 24.5 10.7 Q22.1 12.1 20.65 14.45 Q19.2 16.8 18.6 19.75 Q18 22.7 18 25.8 ZM3.8 25.8 Q3.8 19.6 5.7 14.6 Q7.6 9.6 11.1 6.05 Q14.6 2.5 19.5 0.6 Q24.4 -1.3 30.5 -1.3 Q36.6 -1.3 41.55 0.6 Q46.5 2.5 50 6.05 Q53.5 9.6 55.4 14.6 Q57.3 19.6 57.3 25.8 Q57.3 32 55.4 37.05 Q53.5 42.1 50 45.65 Q46.5 49.2 41.55 51.15 Q36.6 53.1 30.5 53.1 Q24.4 53.1 19.5 51.15 Q14.6 49.2 11.1 45.65 Q7.6 42.1 5.7 37.05 Q3.8 32 3.8 25.8 Z\"\n",
       "        /><glyph unicode=\"B\" horiz-adv-x=\"70.4\" d=\"M22.6 42.5 L22.6 59.2 L37.3 59.2 Q39.4 59.2 41.35 58.85 Q43.3 58.5 44.8 57.6 Q46.3 56.7 47.2 55.1 Q48.1 53.5 48.1 51 Q48.1 46.5 45.4 44.5 Q42.7 42.5 38.5 42.5 ZM6.9 71.4 L6.9 0 L41.5 0 Q46.3 0 50.85 1.2 Q55.4 2.4 58.95 4.9 Q62.5 7.4 64.6 11.35 Q66.7 15.3 66.7 20.7 Q66.7 27.4 63.45 32.15 Q60.2 36.9 53.6 38.8 Q58.4 41.1 60.85 44.7 Q63.3 48.3 63.3 53.7 Q63.3 58.7 61.65 62.1 Q60 65.5 57 67.55 Q54 69.6 49.8 70.5 Q45.6 71.4 40.5 71.4 ZM22.6 12.2 L22.6 31.8 L39.7 31.8 Q44.8 31.8 47.9 29.45 Q51 27.1 51 21.6 Q51 18.8 50.05 17 Q49.1 15.2 47.5 14.15 Q45.9 13.1 43.8 12.65 Q41.7 12.2 39.4 12.2 Z\"\n",
       "      /></font\n",
       "    ></defs\n",
       "    ><g style=\"fill:white; stroke:white;\"\n",
       "    ><rect x=\"0\" y=\"0\" width=\"560\" style=\"clip-path:url(#clipPath1); stroke:none;\" height=\"420\"\n",
       "    /></g\n",
       "    ><g style=\"fill:white; text-rendering:optimizeSpeed; color-rendering:optimizeSpeed; image-rendering:optimizeSpeed; shape-rendering:crispEdges; stroke:white; color-interpolation:sRGB;\"\n",
       "    ><rect x=\"0\" width=\"560\" height=\"420\" y=\"0\" style=\"stroke:none;\"\n",
       "      /><path style=\"stroke:none;\" d=\"M85 216 L507 216 L507 51 L85 51 Z\"\n",
       "    /></g\n",
       "    ><g style=\"fill-opacity:0.251; color-rendering:optimizeQuality; color-interpolation:linearRGB; text-rendering:geometricPrecision; stroke:rgb(102,102,102); stroke-linecap:butt; stroke-miterlimit:1; stroke-opacity:0.251; fill:rgb(102,102,102); stroke-dasharray:1,3; stroke-width:0.5; stroke-linejoin:bevel; image-rendering:optimizeQuality;\"\n",
       "    ><line y2=\"51\" style=\"fill:none;\" x1=\"127.3449\" x2=\"127.3449\" y1=\"216\"\n",
       "      /><line y2=\"51\" style=\"fill:none;\" x1=\"152.1151\" x2=\"152.1151\" y1=\"216\"\n",
       "      /><line y2=\"51\" style=\"fill:none;\" x1=\"169.6898\" x2=\"169.6898\" y1=\"216\"\n",
       "      /><line y2=\"51\" style=\"fill:none;\" x1=\"183.3218\" x2=\"183.3218\" y1=\"216\"\n",
       "      /><line y2=\"51\" style=\"fill:none;\" x1=\"194.4599\" x2=\"194.4599\" y1=\"216\"\n",
       "      /><line y2=\"51\" style=\"fill:none;\" x1=\"203.8771\" x2=\"203.8771\" y1=\"216\"\n",
       "      /><line y2=\"51\" style=\"fill:none;\" x1=\"212.0347\" x2=\"212.0347\" y1=\"216\"\n",
       "      /><line y2=\"51\" style=\"fill:none;\" x1=\"219.2301\" x2=\"219.2301\" y1=\"216\"\n",
       "      /><line y2=\"51\" style=\"fill:none;\" x1=\"268.0115\" x2=\"268.0115\" y1=\"216\"\n",
       "      /><line y2=\"51\" style=\"fill:none;\" x1=\"292.7817\" x2=\"292.7817\" y1=\"216\"\n",
       "      /><line y2=\"51\" style=\"fill:none;\" x1=\"310.3564\" x2=\"310.3564\" y1=\"216\"\n",
       "      /><line y2=\"51\" style=\"fill:none;\" x1=\"323.9885\" x2=\"323.9885\" y1=\"216\"\n",
       "      /><line y2=\"51\" style=\"fill:none;\" x1=\"335.1266\" x2=\"335.1266\" y1=\"216\"\n",
       "      /><line y2=\"51\" style=\"fill:none;\" x1=\"344.5438\" x2=\"344.5438\" y1=\"216\"\n",
       "      /><line y2=\"51\" style=\"fill:none;\" x1=\"352.7013\" x2=\"352.7013\" y1=\"216\"\n",
       "      /><line y2=\"51\" style=\"fill:none;\" x1=\"359.8968\" x2=\"359.8968\" y1=\"216\"\n",
       "      /><line y2=\"51\" style=\"fill:none;\" x1=\"408.6782\" x2=\"408.6782\" y1=\"216\"\n",
       "      /><line y2=\"51\" style=\"fill:none;\" x1=\"433.4484\" x2=\"433.4484\" y1=\"216\"\n",
       "      /><line y2=\"51\" style=\"fill:none;\" x1=\"451.0231\" x2=\"451.0231\" y1=\"216\"\n",
       "      /><line y2=\"51\" style=\"fill:none;\" x1=\"464.6551\" x2=\"464.6551\" y1=\"216\"\n",
       "      /><line y2=\"51\" style=\"fill:none;\" x1=\"475.7933\" x2=\"475.7933\" y1=\"216\"\n",
       "      /><line y2=\"51\" style=\"fill:none;\" x1=\"485.2104\" x2=\"485.2104\" y1=\"216\"\n",
       "      /><line y2=\"51\" style=\"fill:none;\" x1=\"493.368\" x2=\"493.368\" y1=\"216\"\n",
       "      /><line y2=\"51\" style=\"fill:none;\" x1=\"500.5634\" x2=\"500.5634\" y1=\"216\"\n",
       "    /></g\n",
       "    ><g style=\"stroke-linecap:butt; fill-opacity:0.149; fill:rgb(38,38,38); text-rendering:geometricPrecision; image-rendering:optimizeQuality; color-rendering:optimizeQuality; stroke-linejoin:round; stroke:rgb(38,38,38); color-interpolation:linearRGB; stroke-width:0.5; stroke-opacity:0.149;\"\n",
       "    ><line y2=\"51\" style=\"fill:none;\" x1=\"85\" x2=\"85\" y1=\"216\"\n",
       "      /><line y2=\"51\" style=\"fill:none;\" x1=\"225.6667\" x2=\"225.6667\" y1=\"216\"\n",
       "      /><line y2=\"51\" style=\"fill:none;\" x1=\"366.3333\" x2=\"366.3333\" y1=\"216\"\n",
       "      /><line y2=\"51\" style=\"fill:none;\" x1=\"507\" x2=\"507\" y1=\"216\"\n",
       "      /><line y2=\"216\" style=\"fill:none;\" x1=\"507\" x2=\"85\" y1=\"216\"\n",
       "      /><line y2=\"188.5\" style=\"fill:none;\" x1=\"507\" x2=\"85\" y1=\"188.5\"\n",
       "      /><line y2=\"161\" style=\"fill:none;\" x1=\"507\" x2=\"85\" y1=\"161\"\n",
       "      /><line y2=\"133.5\" style=\"fill:none;\" x1=\"507\" x2=\"85\" y1=\"133.5\"\n",
       "      /><line y2=\"106\" style=\"fill:none;\" x1=\"507\" x2=\"85\" y1=\"106\"\n",
       "      /><line y2=\"78.5\" style=\"fill:none;\" x1=\"507\" x2=\"85\" y1=\"78.5\"\n",
       "      /><line y2=\"51\" style=\"fill:none;\" x1=\"507\" x2=\"85\" y1=\"51\"\n",
       "    /></g\n",
       "    ><g style=\"fill:rgb(102,102,102); text-rendering:geometricPrecision; image-rendering:optimizeQuality; color-rendering:optimizeQuality; stroke-linejoin:round; stroke:rgb(102,102,102); color-interpolation:linearRGB; stroke-width:0.5;\"\n",
       "    ><line y2=\"216\" style=\"fill:none;\" x1=\"85\" x2=\"507\" y1=\"216\"\n",
       "      /><line y2=\"51\" style=\"fill:none;\" x1=\"85\" x2=\"507\" y1=\"51\"\n",
       "      /><line y2=\"211.78\" style=\"fill:none;\" x1=\"85\" x2=\"85\" y1=\"216\"\n",
       "      /><line y2=\"211.78\" style=\"fill:none;\" x1=\"225.6667\" x2=\"225.6667\" y1=\"216\"\n",
       "      /><line y2=\"211.78\" style=\"fill:none;\" x1=\"366.3333\" x2=\"366.3333\" y1=\"216\"\n",
       "      /><line y2=\"211.78\" style=\"fill:none;\" x1=\"507\" x2=\"507\" y1=\"216\"\n",
       "      /><line y2=\"55.22\" style=\"fill:none;\" x1=\"85\" x2=\"85\" y1=\"51\"\n",
       "      /><line y2=\"55.22\" style=\"fill:none;\" x1=\"225.6667\" x2=\"225.6667\" y1=\"51\"\n",
       "      /><line y2=\"55.22\" style=\"fill:none;\" x1=\"366.3333\" x2=\"366.3333\" y1=\"51\"\n",
       "      /><line y2=\"55.22\" style=\"fill:none;\" x1=\"507\" x2=\"507\" y1=\"51\"\n",
       "      /><line y2=\"213.89\" style=\"fill:none;\" x1=\"85\" x2=\"85\" y1=\"216\"\n",
       "      /><line y2=\"213.89\" style=\"fill:none;\" x1=\"127.3449\" x2=\"127.3449\" y1=\"216\"\n",
       "      /><line y2=\"213.89\" style=\"fill:none;\" x1=\"152.1151\" x2=\"152.1151\" y1=\"216\"\n",
       "      /><line y2=\"213.89\" style=\"fill:none;\" x1=\"169.6898\" x2=\"169.6898\" y1=\"216\"\n",
       "      /><line y2=\"213.89\" style=\"fill:none;\" x1=\"183.3218\" x2=\"183.3218\" y1=\"216\"\n",
       "      /><line y2=\"213.89\" style=\"fill:none;\" x1=\"194.4599\" x2=\"194.4599\" y1=\"216\"\n",
       "      /><line y2=\"213.89\" style=\"fill:none;\" x1=\"203.8771\" x2=\"203.8771\" y1=\"216\"\n",
       "      /><line y2=\"213.89\" style=\"fill:none;\" x1=\"212.0347\" x2=\"212.0347\" y1=\"216\"\n",
       "      /><line y2=\"213.89\" style=\"fill:none;\" x1=\"219.2301\" x2=\"219.2301\" y1=\"216\"\n",
       "      /><line y2=\"213.89\" style=\"fill:none;\" x1=\"225.6667\" x2=\"225.6667\" y1=\"216\"\n",
       "      /><line y2=\"213.89\" style=\"fill:none;\" x1=\"268.0115\" x2=\"268.0115\" y1=\"216\"\n",
       "      /><line y2=\"213.89\" style=\"fill:none;\" x1=\"292.7817\" x2=\"292.7817\" y1=\"216\"\n",
       "      /><line y2=\"213.89\" style=\"fill:none;\" x1=\"310.3564\" x2=\"310.3564\" y1=\"216\"\n",
       "      /><line y2=\"213.89\" style=\"fill:none;\" x1=\"323.9885\" x2=\"323.9885\" y1=\"216\"\n",
       "      /><line y2=\"213.89\" style=\"fill:none;\" x1=\"335.1266\" x2=\"335.1266\" y1=\"216\"\n",
       "      /><line y2=\"213.89\" style=\"fill:none;\" x1=\"344.5438\" x2=\"344.5438\" y1=\"216\"\n",
       "      /><line y2=\"213.89\" style=\"fill:none;\" x1=\"352.7013\" x2=\"352.7013\" y1=\"216\"\n",
       "      /><line y2=\"213.89\" style=\"fill:none;\" x1=\"359.8968\" x2=\"359.8968\" y1=\"216\"\n",
       "      /><line y2=\"213.89\" style=\"fill:none;\" x1=\"366.3333\" x2=\"366.3333\" y1=\"216\"\n",
       "      /><line y2=\"213.89\" style=\"fill:none;\" x1=\"408.6782\" x2=\"408.6782\" y1=\"216\"\n",
       "      /><line y2=\"213.89\" style=\"fill:none;\" x1=\"433.4484\" x2=\"433.4484\" y1=\"216\"\n",
       "      /><line y2=\"213.89\" style=\"fill:none;\" x1=\"451.0231\" x2=\"451.0231\" y1=\"216\"\n",
       "      /><line y2=\"213.89\" style=\"fill:none;\" x1=\"464.6551\" x2=\"464.6551\" y1=\"216\"\n",
       "      /><line y2=\"213.89\" style=\"fill:none;\" x1=\"475.7933\" x2=\"475.7933\" y1=\"216\"\n",
       "      /><line y2=\"213.89\" style=\"fill:none;\" x1=\"485.2104\" x2=\"485.2104\" y1=\"216\"\n",
       "      /><line y2=\"213.89\" style=\"fill:none;\" x1=\"493.368\" x2=\"493.368\" y1=\"216\"\n",
       "      /><line y2=\"213.89\" style=\"fill:none;\" x1=\"500.5634\" x2=\"500.5634\" y1=\"216\"\n",
       "      /><line y2=\"213.89\" style=\"fill:none;\" x1=\"507\" x2=\"507\" y1=\"216\"\n",
       "      /><line y2=\"53.11\" style=\"fill:none;\" x1=\"85\" x2=\"85\" y1=\"51\"\n",
       "      /><line y2=\"53.11\" style=\"fill:none;\" x1=\"127.3449\" x2=\"127.3449\" y1=\"51\"\n",
       "      /><line y2=\"53.11\" style=\"fill:none;\" x1=\"152.1151\" x2=\"152.1151\" y1=\"51\"\n",
       "      /><line y2=\"53.11\" style=\"fill:none;\" x1=\"169.6898\" x2=\"169.6898\" y1=\"51\"\n",
       "      /><line y2=\"53.11\" style=\"fill:none;\" x1=\"183.3218\" x2=\"183.3218\" y1=\"51\"\n",
       "      /><line y2=\"53.11\" style=\"fill:none;\" x1=\"194.4599\" x2=\"194.4599\" y1=\"51\"\n",
       "      /><line y2=\"53.11\" style=\"fill:none;\" x1=\"203.8771\" x2=\"203.8771\" y1=\"51\"\n",
       "      /><line y2=\"53.11\" style=\"fill:none;\" x1=\"212.0347\" x2=\"212.0347\" y1=\"51\"\n",
       "      /><line y2=\"53.11\" style=\"fill:none;\" x1=\"219.2301\" x2=\"219.2301\" y1=\"51\"\n",
       "      /><line y2=\"53.11\" style=\"fill:none;\" x1=\"225.6667\" x2=\"225.6667\" y1=\"51\"\n",
       "      /><line y2=\"53.11\" style=\"fill:none;\" x1=\"268.0115\" x2=\"268.0115\" y1=\"51\"\n",
       "      /><line y2=\"53.11\" style=\"fill:none;\" x1=\"292.7817\" x2=\"292.7817\" y1=\"51\"\n",
       "      /><line y2=\"53.11\" style=\"fill:none;\" x1=\"310.3564\" x2=\"310.3564\" y1=\"51\"\n",
       "      /><line y2=\"53.11\" style=\"fill:none;\" x1=\"323.9885\" x2=\"323.9885\" y1=\"51\"\n",
       "      /><line y2=\"53.11\" style=\"fill:none;\" x1=\"335.1266\" x2=\"335.1266\" y1=\"51\"\n",
       "      /><line y2=\"53.11\" style=\"fill:none;\" x1=\"344.5438\" x2=\"344.5438\" y1=\"51\"\n",
       "      /><line y2=\"53.11\" style=\"fill:none;\" x1=\"352.7013\" x2=\"352.7013\" y1=\"51\"\n",
       "      /><line y2=\"53.11\" style=\"fill:none;\" x1=\"359.8968\" x2=\"359.8968\" y1=\"51\"\n",
       "      /><line y2=\"53.11\" style=\"fill:none;\" x1=\"366.3333\" x2=\"366.3333\" y1=\"51\"\n",
       "      /><line y2=\"53.11\" style=\"fill:none;\" x1=\"408.6782\" x2=\"408.6782\" y1=\"51\"\n",
       "      /><line y2=\"53.11\" style=\"fill:none;\" x1=\"433.4484\" x2=\"433.4484\" y1=\"51\"\n",
       "      /><line y2=\"53.11\" style=\"fill:none;\" x1=\"451.0231\" x2=\"451.0231\" y1=\"51\"\n",
       "      /><line y2=\"53.11\" style=\"fill:none;\" x1=\"464.6551\" x2=\"464.6551\" y1=\"51\"\n",
       "      /><line y2=\"53.11\" style=\"fill:none;\" x1=\"475.7933\" x2=\"475.7933\" y1=\"51\"\n",
       "      /><line y2=\"53.11\" style=\"fill:none;\" x1=\"485.2104\" x2=\"485.2104\" y1=\"51\"\n",
       "      /><line y2=\"53.11\" style=\"fill:none;\" x1=\"493.368\" x2=\"493.368\" y1=\"51\"\n",
       "      /><line y2=\"53.11\" style=\"fill:none;\" x1=\"500.5634\" x2=\"500.5634\" y1=\"51\"\n",
       "      /><line y2=\"53.11\" style=\"fill:none;\" x1=\"507\" x2=\"507\" y1=\"51\"\n",
       "      /><line y2=\"51\" style=\"fill:none;\" x1=\"85\" x2=\"85\" y1=\"216\"\n",
       "      /><line y2=\"51\" style=\"fill:none;\" x1=\"507\" x2=\"507\" y1=\"216\"\n",
       "      /><line y2=\"216\" style=\"fill:none;\" x1=\"85\" x2=\"89.22\" y1=\"216\"\n",
       "      /><line y2=\"188.5\" style=\"fill:none;\" x1=\"85\" x2=\"89.22\" y1=\"188.5\"\n",
       "      /><line y2=\"161\" style=\"fill:none;\" x1=\"85\" x2=\"89.22\" y1=\"161\"\n",
       "      /><line y2=\"133.5\" style=\"fill:none;\" x1=\"85\" x2=\"89.22\" y1=\"133.5\"\n",
       "      /><line y2=\"106\" style=\"fill:none;\" x1=\"85\" x2=\"89.22\" y1=\"106\"\n",
       "      /><line y2=\"78.5\" style=\"fill:none;\" x1=\"85\" x2=\"89.22\" y1=\"78.5\"\n",
       "      /><line y2=\"51\" style=\"fill:none;\" x1=\"85\" x2=\"89.22\" y1=\"51\"\n",
       "      /><line y2=\"216\" style=\"fill:none;\" x1=\"507\" x2=\"502.78\" y1=\"216\"\n",
       "      /><line y2=\"188.5\" style=\"fill:none;\" x1=\"507\" x2=\"502.78\" y1=\"188.5\"\n",
       "      /><line y2=\"161\" style=\"fill:none;\" x1=\"507\" x2=\"502.78\" y1=\"161\"\n",
       "      /><line y2=\"133.5\" style=\"fill:none;\" x1=\"507\" x2=\"502.78\" y1=\"133.5\"\n",
       "      /><line y2=\"106\" style=\"fill:none;\" x1=\"507\" x2=\"502.78\" y1=\"106\"\n",
       "      /><line y2=\"78.5\" style=\"fill:none;\" x1=\"507\" x2=\"502.78\" y1=\"78.5\"\n",
       "      /><line y2=\"51\" style=\"fill:none;\" x1=\"507\" x2=\"502.78\" y1=\"51\"\n",
       "    /></g\n",
       "    ><g transform=\"translate(81,216)\" style=\"font-size:10px; fill:rgb(102,102,102); text-rendering:geometricPrecision; image-rendering:optimizeQuality; color-rendering:optimizeQuality; font-family:'Helvetica Neue'; stroke:rgb(102,102,102); color-interpolation:linearRGB;\"\n",
       "    ><text x=\"-16\" xml:space=\"preserve\" y=\"3.5\" style=\"stroke:none;\"\n",
       "      >-50</text\n",
       "    ></g\n",
       "    ><g transform=\"translate(81,188.5)\" style=\"font-size:10px; fill:rgb(102,102,102); text-rendering:geometricPrecision; image-rendering:optimizeQuality; color-rendering:optimizeQuality; font-family:'Helvetica Neue'; stroke:rgb(102,102,102); color-interpolation:linearRGB;\"\n",
       "    ><text x=\"-16\" xml:space=\"preserve\" y=\"3.5\" style=\"stroke:none;\"\n",
       "      >-40</text\n",
       "    ></g\n",
       "    ><g transform=\"translate(81,161)\" style=\"font-size:10px; fill:rgb(102,102,102); text-rendering:geometricPrecision; image-rendering:optimizeQuality; color-rendering:optimizeQuality; font-family:'Helvetica Neue'; stroke:rgb(102,102,102); color-interpolation:linearRGB;\"\n",
       "    ><text x=\"-16\" xml:space=\"preserve\" y=\"3.5\" style=\"stroke:none;\"\n",
       "      >-30</text\n",
       "    ></g\n",
       "    ><g transform=\"translate(81,133.5)\" style=\"font-size:10px; fill:rgb(102,102,102); text-rendering:geometricPrecision; image-rendering:optimizeQuality; color-rendering:optimizeQuality; font-family:'Helvetica Neue'; stroke:rgb(102,102,102); color-interpolation:linearRGB;\"\n",
       "    ><text x=\"-16\" xml:space=\"preserve\" y=\"3.5\" style=\"stroke:none;\"\n",
       "      >-20</text\n",
       "    ></g\n",
       "    ><g transform=\"translate(81,106)\" style=\"font-size:10px; fill:rgb(102,102,102); text-rendering:geometricPrecision; image-rendering:optimizeQuality; color-rendering:optimizeQuality; font-family:'Helvetica Neue'; stroke:rgb(102,102,102); color-interpolation:linearRGB;\"\n",
       "    ><text x=\"-16\" xml:space=\"preserve\" y=\"3.5\" style=\"stroke:none;\"\n",
       "      >-10</text\n",
       "    ></g\n",
       "    ><g transform=\"translate(81,78.5)\" style=\"font-size:10px; fill:rgb(102,102,102); text-rendering:geometricPrecision; image-rendering:optimizeQuality; color-rendering:optimizeQuality; font-family:'Helvetica Neue'; stroke:rgb(102,102,102); color-interpolation:linearRGB;\"\n",
       "    ><text x=\"-6\" xml:space=\"preserve\" y=\"3.5\" style=\"stroke:none;\"\n",
       "      >0</text\n",
       "    ></g\n",
       "    ><g transform=\"translate(81,51)\" style=\"font-size:10px; fill:rgb(102,102,102); text-rendering:geometricPrecision; image-rendering:optimizeQuality; color-rendering:optimizeQuality; font-family:'Helvetica Neue'; stroke:rgb(102,102,102); color-interpolation:linearRGB;\"\n",
       "    ><text x=\"-12\" xml:space=\"preserve\" y=\"3.5\" style=\"stroke:none;\"\n",
       "      >10</text\n",
       "    ></g\n",
       "    ><g transform=\"translate(62,133.4999) rotate(-90)\" style=\"font-size:11px; text-rendering:geometricPrecision; color-rendering:optimizeQuality; image-rendering:optimizeQuality; font-family:'Helvetica Neue'; color-interpolation:linearRGB;\"\n",
       "    ><text x=\"-38\" xml:space=\"preserve\" y=\"-3\" style=\"stroke:none;\"\n",
       "      >Magnitude (dB)</text\n",
       "    ></g\n",
       "    ><g style=\"stroke-linecap:butt; fill:rgb(0,114,189); text-rendering:geometricPrecision; image-rendering:optimizeQuality; color-rendering:optimizeQuality; stroke-linejoin:round; stroke:rgb(0,114,189); color-interpolation:linearRGB; stroke-width:0.5;\"\n",
       "    ><path d=\"M84.9497 180.2397 L127.3449 163.6626 L136.7628 159.9794 L146.1807 156.2959 L155.5986 152.6119 L165.0165 148.9274 L174.4344 145.2421 L183.8524 141.5558 L193.2703 137.868 L202.6882 134.1783 L212.1061 130.486 L221.524 126.7903 L230.9419 123.09 L240.3598 119.3836 L249.7777 115.6694 L259.1956 111.9451 L268.6136 108.2083 L278.0315 104.457 L287.4494 100.6899 L296.8673 96.9092 L306.2852 93.1239 L315.7031 89.3569 L325.121 85.6568 L334.5389 82.1147 L343.9569 78.881 L353.3748 76.1638 L362.7927 74.1814 L372.2106 73.0611 L381.6285 72.7541 L391.0464 73.0541 L400.4644 73.7026 L409.8822 74.483 L419.3002 75.2547 L428.718 75.9444 L438.136 76.5244 L447.5539 76.9932 L456.9718 77.362 L466.3897 77.6468 L475.8076 77.8638 L485.2255 78.0274 L494.6435 78.15 L504.0614 78.2413 L507.0503 78.2628\" style=\"fill:none; fill-rule:evenodd;\"\n",
       "    /></g\n",
       "    ><g style=\"fill:white; text-rendering:optimizeSpeed; color-rendering:optimizeSpeed; image-rendering:optimizeSpeed; shape-rendering:crispEdges; stroke:white; color-interpolation:sRGB;\"\n",
       "    ><path style=\"stroke:none;\" d=\"M85 374 L507 374 L507 228 L85 228 Z\"\n",
       "    /></g\n",
       "    ><g style=\"fill-opacity:0.251; color-rendering:optimizeQuality; color-interpolation:linearRGB; text-rendering:geometricPrecision; stroke:rgb(102,102,102); stroke-linecap:butt; stroke-miterlimit:1; stroke-opacity:0.251; fill:rgb(102,102,102); stroke-dasharray:1,3; stroke-width:0.5; stroke-linejoin:bevel; image-rendering:optimizeQuality;\"\n",
       "    ><line y2=\"228\" style=\"fill:none;\" x1=\"127.3449\" x2=\"127.3449\" y1=\"374\"\n",
       "      /><line y2=\"228\" style=\"fill:none;\" x1=\"152.1151\" x2=\"152.1151\" y1=\"374\"\n",
       "      /><line y2=\"228\" style=\"fill:none;\" x1=\"169.6898\" x2=\"169.6898\" y1=\"374\"\n",
       "      /><line y2=\"228\" style=\"fill:none;\" x1=\"183.3218\" x2=\"183.3218\" y1=\"374\"\n",
       "      /><line y2=\"228\" style=\"fill:none;\" x1=\"194.4599\" x2=\"194.4599\" y1=\"374\"\n",
       "      /><line y2=\"228\" style=\"fill:none;\" x1=\"203.8771\" x2=\"203.8771\" y1=\"374\"\n",
       "      /><line y2=\"228\" style=\"fill:none;\" x1=\"212.0347\" x2=\"212.0347\" y1=\"374\"\n",
       "      /><line y2=\"228\" style=\"fill:none;\" x1=\"219.2301\" x2=\"219.2301\" y1=\"374\"\n",
       "      /><line y2=\"228\" style=\"fill:none;\" x1=\"268.0115\" x2=\"268.0115\" y1=\"374\"\n",
       "      /><line y2=\"228\" style=\"fill:none;\" x1=\"292.7817\" x2=\"292.7817\" y1=\"374\"\n",
       "      /><line y2=\"228\" style=\"fill:none;\" x1=\"310.3564\" x2=\"310.3564\" y1=\"374\"\n",
       "      /><line y2=\"228\" style=\"fill:none;\" x1=\"323.9885\" x2=\"323.9885\" y1=\"374\"\n",
       "      /><line y2=\"228\" style=\"fill:none;\" x1=\"335.1266\" x2=\"335.1266\" y1=\"374\"\n",
       "      /><line y2=\"228\" style=\"fill:none;\" x1=\"344.5438\" x2=\"344.5438\" y1=\"374\"\n",
       "      /><line y2=\"228\" style=\"fill:none;\" x1=\"352.7013\" x2=\"352.7013\" y1=\"374\"\n",
       "      /><line y2=\"228\" style=\"fill:none;\" x1=\"359.8968\" x2=\"359.8968\" y1=\"374\"\n",
       "      /><line y2=\"228\" style=\"fill:none;\" x1=\"408.6782\" x2=\"408.6782\" y1=\"374\"\n",
       "      /><line y2=\"228\" style=\"fill:none;\" x1=\"433.4484\" x2=\"433.4484\" y1=\"374\"\n",
       "      /><line y2=\"228\" style=\"fill:none;\" x1=\"451.0231\" x2=\"451.0231\" y1=\"374\"\n",
       "      /><line y2=\"228\" style=\"fill:none;\" x1=\"464.6551\" x2=\"464.6551\" y1=\"374\"\n",
       "      /><line y2=\"228\" style=\"fill:none;\" x1=\"475.7933\" x2=\"475.7933\" y1=\"374\"\n",
       "      /><line y2=\"228\" style=\"fill:none;\" x1=\"485.2104\" x2=\"485.2104\" y1=\"374\"\n",
       "      /><line y2=\"228\" style=\"fill:none;\" x1=\"493.368\" x2=\"493.368\" y1=\"374\"\n",
       "      /><line y2=\"228\" style=\"fill:none;\" x1=\"500.5634\" x2=\"500.5634\" y1=\"374\"\n",
       "    /></g\n",
       "    ><g style=\"stroke-linecap:butt; fill-opacity:0.149; fill:rgb(38,38,38); text-rendering:geometricPrecision; image-rendering:optimizeQuality; color-rendering:optimizeQuality; stroke-linejoin:round; stroke:rgb(38,38,38); color-interpolation:linearRGB; stroke-width:0.5; stroke-opacity:0.149;\"\n",
       "    ><line y2=\"228\" style=\"fill:none;\" x1=\"85\" x2=\"85\" y1=\"374\"\n",
       "      /><line y2=\"228\" style=\"fill:none;\" x1=\"225.6667\" x2=\"225.6667\" y1=\"374\"\n",
       "      /><line y2=\"228\" style=\"fill:none;\" x1=\"366.3333\" x2=\"366.3333\" y1=\"374\"\n",
       "      /><line y2=\"228\" style=\"fill:none;\" x1=\"507\" x2=\"507\" y1=\"374\"\n",
       "      /><line y2=\"372.5686\" style=\"fill:none;\" x1=\"507\" x2=\"85\" y1=\"372.5686\"\n",
       "      /><line y2=\"301\" style=\"fill:none;\" x1=\"507\" x2=\"85\" y1=\"301\"\n",
       "      /><line y2=\"229.4314\" style=\"fill:none;\" x1=\"507\" x2=\"85\" y1=\"229.4314\"\n",
       "    /></g\n",
       "    ><g style=\"fill:rgb(102,102,102); text-rendering:geometricPrecision; image-rendering:optimizeQuality; color-rendering:optimizeQuality; stroke-linejoin:round; stroke:rgb(102,102,102); color-interpolation:linearRGB; stroke-width:0.5;\"\n",
       "    ><line y2=\"374\" style=\"fill:none;\" x1=\"85\" x2=\"507\" y1=\"374\"\n",
       "      /><line y2=\"228\" style=\"fill:none;\" x1=\"85\" x2=\"507\" y1=\"228\"\n",
       "      /><line y2=\"369.78\" style=\"fill:none;\" x1=\"85\" x2=\"85\" y1=\"374\"\n",
       "      /><line y2=\"369.78\" style=\"fill:none;\" x1=\"225.6667\" x2=\"225.6667\" y1=\"374\"\n",
       "      /><line y2=\"369.78\" style=\"fill:none;\" x1=\"366.3333\" x2=\"366.3333\" y1=\"374\"\n",
       "      /><line y2=\"369.78\" style=\"fill:none;\" x1=\"507\" x2=\"507\" y1=\"374\"\n",
       "      /><line y2=\"232.22\" style=\"fill:none;\" x1=\"85\" x2=\"85\" y1=\"228\"\n",
       "      /><line y2=\"232.22\" style=\"fill:none;\" x1=\"225.6667\" x2=\"225.6667\" y1=\"228\"\n",
       "      /><line y2=\"232.22\" style=\"fill:none;\" x1=\"366.3333\" x2=\"366.3333\" y1=\"228\"\n",
       "      /><line y2=\"232.22\" style=\"fill:none;\" x1=\"507\" x2=\"507\" y1=\"228\"\n",
       "      /><line y2=\"371.89\" style=\"fill:none;\" x1=\"85\" x2=\"85\" y1=\"374\"\n",
       "      /><line y2=\"371.89\" style=\"fill:none;\" x1=\"127.3449\" x2=\"127.3449\" y1=\"374\"\n",
       "      /><line y2=\"371.89\" style=\"fill:none;\" x1=\"152.1151\" x2=\"152.1151\" y1=\"374\"\n",
       "      /><line y2=\"371.89\" style=\"fill:none;\" x1=\"169.6898\" x2=\"169.6898\" y1=\"374\"\n",
       "      /><line y2=\"371.89\" style=\"fill:none;\" x1=\"183.3218\" x2=\"183.3218\" y1=\"374\"\n",
       "      /><line y2=\"371.89\" style=\"fill:none;\" x1=\"194.4599\" x2=\"194.4599\" y1=\"374\"\n",
       "      /><line y2=\"371.89\" style=\"fill:none;\" x1=\"203.8771\" x2=\"203.8771\" y1=\"374\"\n",
       "      /><line y2=\"371.89\" style=\"fill:none;\" x1=\"212.0347\" x2=\"212.0347\" y1=\"374\"\n",
       "      /><line y2=\"371.89\" style=\"fill:none;\" x1=\"219.2301\" x2=\"219.2301\" y1=\"374\"\n",
       "      /><line y2=\"371.89\" style=\"fill:none;\" x1=\"225.6667\" x2=\"225.6667\" y1=\"374\"\n",
       "      /><line y2=\"371.89\" style=\"fill:none;\" x1=\"268.0115\" x2=\"268.0115\" y1=\"374\"\n",
       "      /><line y2=\"371.89\" style=\"fill:none;\" x1=\"292.7817\" x2=\"292.7817\" y1=\"374\"\n",
       "      /><line y2=\"371.89\" style=\"fill:none;\" x1=\"310.3564\" x2=\"310.3564\" y1=\"374\"\n",
       "      /><line y2=\"371.89\" style=\"fill:none;\" x1=\"323.9885\" x2=\"323.9885\" y1=\"374\"\n",
       "      /><line y2=\"371.89\" style=\"fill:none;\" x1=\"335.1266\" x2=\"335.1266\" y1=\"374\"\n",
       "      /><line y2=\"371.89\" style=\"fill:none;\" x1=\"344.5438\" x2=\"344.5438\" y1=\"374\"\n",
       "      /><line y2=\"371.89\" style=\"fill:none;\" x1=\"352.7013\" x2=\"352.7013\" y1=\"374\"\n",
       "      /><line y2=\"371.89\" style=\"fill:none;\" x1=\"359.8968\" x2=\"359.8968\" y1=\"374\"\n",
       "      /><line y2=\"371.89\" style=\"fill:none;\" x1=\"366.3333\" x2=\"366.3333\" y1=\"374\"\n",
       "      /><line y2=\"371.89\" style=\"fill:none;\" x1=\"408.6782\" x2=\"408.6782\" y1=\"374\"\n",
       "      /><line y2=\"371.89\" style=\"fill:none;\" x1=\"433.4484\" x2=\"433.4484\" y1=\"374\"\n",
       "      /><line y2=\"371.89\" style=\"fill:none;\" x1=\"451.0231\" x2=\"451.0231\" y1=\"374\"\n",
       "      /><line y2=\"371.89\" style=\"fill:none;\" x1=\"464.6551\" x2=\"464.6551\" y1=\"374\"\n",
       "      /><line y2=\"371.89\" style=\"fill:none;\" x1=\"475.7933\" x2=\"475.7933\" y1=\"374\"\n",
       "      /><line y2=\"371.89\" style=\"fill:none;\" x1=\"485.2104\" x2=\"485.2104\" y1=\"374\"\n",
       "      /><line y2=\"371.89\" style=\"fill:none;\" x1=\"493.368\" x2=\"493.368\" y1=\"374\"\n",
       "      /><line y2=\"371.89\" style=\"fill:none;\" x1=\"500.5634\" x2=\"500.5634\" y1=\"374\"\n",
       "      /><line y2=\"371.89\" style=\"fill:none;\" x1=\"507\" x2=\"507\" y1=\"374\"\n",
       "      /><line y2=\"230.11\" style=\"fill:none;\" x1=\"85\" x2=\"85\" y1=\"228\"\n",
       "      /><line y2=\"230.11\" style=\"fill:none;\" x1=\"127.3449\" x2=\"127.3449\" y1=\"228\"\n",
       "      /><line y2=\"230.11\" style=\"fill:none;\" x1=\"152.1151\" x2=\"152.1151\" y1=\"228\"\n",
       "      /><line y2=\"230.11\" style=\"fill:none;\" x1=\"169.6898\" x2=\"169.6898\" y1=\"228\"\n",
       "      /><line y2=\"230.11\" style=\"fill:none;\" x1=\"183.3218\" x2=\"183.3218\" y1=\"228\"\n",
       "      /><line y2=\"230.11\" style=\"fill:none;\" x1=\"194.4599\" x2=\"194.4599\" y1=\"228\"\n",
       "      /><line y2=\"230.11\" style=\"fill:none;\" x1=\"203.8771\" x2=\"203.8771\" y1=\"228\"\n",
       "      /><line y2=\"230.11\" style=\"fill:none;\" x1=\"212.0347\" x2=\"212.0347\" y1=\"228\"\n",
       "      /><line y2=\"230.11\" style=\"fill:none;\" x1=\"219.2301\" x2=\"219.2301\" y1=\"228\"\n",
       "      /><line y2=\"230.11\" style=\"fill:none;\" x1=\"225.6667\" x2=\"225.6667\" y1=\"228\"\n",
       "      /><line y2=\"230.11\" style=\"fill:none;\" x1=\"268.0115\" x2=\"268.0115\" y1=\"228\"\n",
       "      /><line y2=\"230.11\" style=\"fill:none;\" x1=\"292.7817\" x2=\"292.7817\" y1=\"228\"\n",
       "      /><line y2=\"230.11\" style=\"fill:none;\" x1=\"310.3564\" x2=\"310.3564\" y1=\"228\"\n",
       "      /><line y2=\"230.11\" style=\"fill:none;\" x1=\"323.9885\" x2=\"323.9885\" y1=\"228\"\n",
       "      /><line y2=\"230.11\" style=\"fill:none;\" x1=\"335.1266\" x2=\"335.1266\" y1=\"228\"\n",
       "      /><line y2=\"230.11\" style=\"fill:none;\" x1=\"344.5438\" x2=\"344.5438\" y1=\"228\"\n",
       "      /><line y2=\"230.11\" style=\"fill:none;\" x1=\"352.7013\" x2=\"352.7013\" y1=\"228\"\n",
       "      /><line y2=\"230.11\" style=\"fill:none;\" x1=\"359.8968\" x2=\"359.8968\" y1=\"228\"\n",
       "      /><line y2=\"230.11\" style=\"fill:none;\" x1=\"366.3333\" x2=\"366.3333\" y1=\"228\"\n",
       "      /><line y2=\"230.11\" style=\"fill:none;\" x1=\"408.6782\" x2=\"408.6782\" y1=\"228\"\n",
       "      /><line y2=\"230.11\" style=\"fill:none;\" x1=\"433.4484\" x2=\"433.4484\" y1=\"228\"\n",
       "      /><line y2=\"230.11\" style=\"fill:none;\" x1=\"451.0231\" x2=\"451.0231\" y1=\"228\"\n",
       "      /><line y2=\"230.11\" style=\"fill:none;\" x1=\"464.6551\" x2=\"464.6551\" y1=\"228\"\n",
       "      /><line y2=\"230.11\" style=\"fill:none;\" x1=\"475.7933\" x2=\"475.7933\" y1=\"228\"\n",
       "      /><line y2=\"230.11\" style=\"fill:none;\" x1=\"485.2104\" x2=\"485.2104\" y1=\"228\"\n",
       "      /><line y2=\"230.11\" style=\"fill:none;\" x1=\"493.368\" x2=\"493.368\" y1=\"228\"\n",
       "      /><line y2=\"230.11\" style=\"fill:none;\" x1=\"500.5634\" x2=\"500.5634\" y1=\"228\"\n",
       "      /><line y2=\"230.11\" style=\"fill:none;\" x1=\"507\" x2=\"507\" y1=\"228\"\n",
       "    /></g\n",
       "    ><g transform=\"translate(76,391)\" style=\"font-size:10px; fill:rgb(102,102,102); text-rendering:geometricPrecision; image-rendering:optimizeQuality; color-rendering:optimizeQuality; font-family:'Helvetica Neue'; stroke:rgb(102,102,102); color-interpolation:linearRGB;\"\n",
       "    ><text x=\"0\" xml:space=\"preserve\" y=\"0\" style=\"stroke:none;\"\n",
       "      >10</text\n",
       "    ></g\n",
       "    ><g transform=\"translate(88,386)\" style=\"font-size:8px; fill:rgb(102,102,102); text-rendering:geometricPrecision; image-rendering:optimizeQuality; color-rendering:optimizeQuality; font-family:'Helvetica Neue'; stroke:rgb(102,102,102); color-interpolation:linearRGB;\"\n",
       "    ><text x=\"0\" xml:space=\"preserve\" y=\"0\" style=\"stroke:none;\"\n",
       "      >0</text\n",
       "    ></g\n",
       "    ><g transform=\"translate(217,391)\" style=\"font-size:10px; fill:rgb(102,102,102); text-rendering:geometricPrecision; image-rendering:optimizeQuality; color-rendering:optimizeQuality; font-family:'Helvetica Neue'; stroke:rgb(102,102,102); color-interpolation:linearRGB;\"\n",
       "    ><text x=\"0\" xml:space=\"preserve\" y=\"0\" style=\"stroke:none;\"\n",
       "      >10</text\n",
       "    ></g\n",
       "    ><g transform=\"translate(229,386)\" style=\"font-size:8px; fill:rgb(102,102,102); text-rendering:geometricPrecision; image-rendering:optimizeQuality; color-rendering:optimizeQuality; font-family:'Helvetica Neue'; stroke:rgb(102,102,102); color-interpolation:linearRGB;\"\n",
       "    ><text x=\"0\" xml:space=\"preserve\" y=\"0\" style=\"stroke:none;\"\n",
       "      >1</text\n",
       "    ></g\n",
       "    ><g transform=\"translate(357,391)\" style=\"font-size:10px; fill:rgb(102,102,102); text-rendering:geometricPrecision; image-rendering:optimizeQuality; color-rendering:optimizeQuality; font-family:'Helvetica Neue'; stroke:rgb(102,102,102); color-interpolation:linearRGB;\"\n",
       "    ><text x=\"0\" xml:space=\"preserve\" y=\"0\" style=\"stroke:none;\"\n",
       "      >10</text\n",
       "    ></g\n",
       "    ><g transform=\"translate(369,386)\" style=\"font-size:8px; fill:rgb(102,102,102); text-rendering:geometricPrecision; image-rendering:optimizeQuality; color-rendering:optimizeQuality; font-family:'Helvetica Neue'; stroke:rgb(102,102,102); color-interpolation:linearRGB;\"\n",
       "    ><text x=\"0\" xml:space=\"preserve\" y=\"0\" style=\"stroke:none;\"\n",
       "      >2</text\n",
       "    ></g\n",
       "    ><g transform=\"translate(498,391)\" style=\"font-size:10px; fill:rgb(102,102,102); text-rendering:geometricPrecision; image-rendering:optimizeQuality; color-rendering:optimizeQuality; font-family:'Helvetica Neue'; stroke:rgb(102,102,102); color-interpolation:linearRGB;\"\n",
       "    ><text x=\"0\" xml:space=\"preserve\" y=\"0\" style=\"stroke:none;\"\n",
       "      >10</text\n",
       "    ></g\n",
       "    ><g transform=\"translate(510,386)\" style=\"font-size:8px; fill:rgb(102,102,102); text-rendering:geometricPrecision; image-rendering:optimizeQuality; color-rendering:optimizeQuality; font-family:'Helvetica Neue'; stroke:rgb(102,102,102); color-interpolation:linearRGB;\"\n",
       "    ><text x=\"0\" xml:space=\"preserve\" y=\"0\" style=\"stroke:none;\"\n",
       "      >3</text\n",
       "    ></g\n",
       "    ><g style=\"fill:rgb(102,102,102); text-rendering:geometricPrecision; image-rendering:optimizeQuality; color-rendering:optimizeQuality; stroke-linejoin:round; stroke:rgb(102,102,102); color-interpolation:linearRGB; stroke-width:0.5;\"\n",
       "    ><line y2=\"228\" style=\"fill:none;\" x1=\"85\" x2=\"85\" y1=\"374\"\n",
       "      /><line y2=\"228\" style=\"fill:none;\" x1=\"507\" x2=\"507\" y1=\"374\"\n",
       "      /><line y2=\"372.5686\" style=\"fill:none;\" x1=\"85\" x2=\"89.22\" y1=\"372.5686\"\n",
       "      /><line y2=\"301\" style=\"fill:none;\" x1=\"85\" x2=\"89.22\" y1=\"301\"\n",
       "      /><line y2=\"229.4314\" style=\"fill:none;\" x1=\"85\" x2=\"89.22\" y1=\"229.4314\"\n",
       "      /><line y2=\"372.5686\" style=\"fill:none;\" x1=\"507\" x2=\"502.78\" y1=\"372.5686\"\n",
       "      /><line y2=\"301\" style=\"fill:none;\" x1=\"507\" x2=\"502.78\" y1=\"301\"\n",
       "      /><line y2=\"229.4314\" style=\"fill:none;\" x1=\"507\" x2=\"502.78\" y1=\"229.4314\"\n",
       "    /></g\n",
       "    ><g transform=\"translate(81,372.5686)\" style=\"font-size:10px; fill:rgb(102,102,102); text-rendering:geometricPrecision; image-rendering:optimizeQuality; color-rendering:optimizeQuality; font-family:'Helvetica Neue'; stroke:rgb(102,102,102); color-interpolation:linearRGB;\"\n",
       "    ><text x=\"-6\" xml:space=\"preserve\" y=\"3.5\" style=\"stroke:none;\"\n",
       "      >0</text\n",
       "    ></g\n",
       "    ><g transform=\"translate(81,301)\" style=\"font-size:10px; fill:rgb(102,102,102); text-rendering:geometricPrecision; image-rendering:optimizeQuality; color-rendering:optimizeQuality; font-family:'Helvetica Neue'; stroke:rgb(102,102,102); color-interpolation:linearRGB;\"\n",
       "    ><text x=\"-12\" xml:space=\"preserve\" y=\"3.5\" style=\"stroke:none;\"\n",
       "      >45</text\n",
       "    ></g\n",
       "    ><g transform=\"translate(81,229.4314)\" style=\"font-size:10px; fill:rgb(102,102,102); text-rendering:geometricPrecision; image-rendering:optimizeQuality; color-rendering:optimizeQuality; font-family:'Helvetica Neue'; stroke:rgb(102,102,102); color-interpolation:linearRGB;\"\n",
       "    ><text x=\"-12\" xml:space=\"preserve\" y=\"3.5\" style=\"stroke:none;\"\n",
       "      >90</text\n",
       "    ></g\n",
       "    ><g transform=\"translate(66,300.9999) rotate(-90)\" style=\"font-size:11px; text-rendering:geometricPrecision; color-rendering:optimizeQuality; image-rendering:optimizeQuality; font-family:'Helvetica Neue'; color-interpolation:linearRGB;\"\n",
       "    ><text x=\"-29.5\" xml:space=\"preserve\" y=\"-3\" style=\"stroke:none;\"\n",
       "      >Phase (deg)</text\n",
       "    ></g\n",
       "    ><g style=\"stroke-linecap:butt; fill:rgb(0,114,189); text-rendering:geometricPrecision; image-rendering:optimizeQuality; color-rendering:optimizeQuality; stroke-linejoin:round; stroke:rgb(0,114,189); color-interpolation:linearRGB; stroke-width:0.5;\"\n",
       "    ><path d=\"M84.9497 230.3708 L127.3449 230.7205 L136.7628 230.9355 L146.1807 231.1866 L155.5986 231.4796 L165.0165 231.8217 L174.4344 232.2212 L183.8524 232.6881 L193.2703 233.2338 L202.6882 233.8722 L212.1061 234.6196 L221.524 235.496 L230.9419 236.5251 L240.3598 237.7363 L249.7777 239.1662 L259.1956 240.8605 L268.6136 242.8783 L278.0315 245.296 L287.4494 248.2143 L296.8673 251.7666 L306.2852 256.129 L315.7031 261.5278 L325.121 268.2369 L334.5389 276.543 L343.9569 286.6473 L353.3748 298.4801 L362.7927 311.4918 L372.2106 324.631 L381.6285 336.6862 L391.0464 346.7858 L400.4644 354.6352 L409.8822 360.3998 L419.3002 364.4635 L428.718 367.2451 L438.136 369.1087 L447.5539 370.3377 L456.9718 371.1388 L466.3897 371.6564 L475.8076 371.9886 L485.2255 372.2007 L494.6435 372.3357 L504.0614 372.4214 L507.0503 372.4386\" style=\"fill:none; fill-rule:evenodd;\"\n",
       "    /></g\n",
       "    ><g transform=\"translate(295,44.2)\" style=\"font-size:11px; text-rendering:geometricPrecision; image-rendering:optimizeQuality; color-rendering:optimizeQuality; font-family:'Helvetica Neue'; color-interpolation:linearRGB; font-weight:bold;\"\n",
       "    ><text x=\"-170.5\" xml:space=\"preserve\" y=\"-3\" style=\"stroke:none;\"\n",
       "      >Bode-plot of Butterworth 2nd-Order Butterworth High Pass Filter</text\n",
       "    ></g\n",
       "    ><g transform=\"translate(295,393)\" style=\"font-size:11px; text-rendering:geometricPrecision; color-rendering:optimizeQuality; image-rendering:optimizeQuality; font-family:'Helvetica Neue'; color-interpolation:linearRGB;\"\n",
       "    ><text x=\"-45\" xml:space=\"preserve\" y=\"11\" style=\"stroke:none;\"\n",
       "      >Frequency  (rad/s)</text\n",
       "    ></g\n",
       "  ></g\n",
       "></svg\n",
       ">\n"
      ]
     },
     "metadata": {
      "filenames": {
       "image/svg+xml": "/Users/eechris/code/src/github.com/cpjobling/eg-247-textbook/_build/jupyter_execute/fourier_transform/4/ft4_57_7.svg"
      }
     },
     "output_type": "display_data"
    }
   ],
   "source": [
    "Hhp = 1 - H\n",
    "bode(Hhp)\n",
    "grid\n",
    "title('Bode-plot of Butterworth 2nd-Order Butterworth High Pass Filter')"
   ]
  },
  {
   "cell_type": "markdown",
   "id": "784d7b0a",
   "metadata": {
    "slideshow": {
     "slide_type": "slide"
    }
   },
   "source": [
    "## Band-pass filter (BPF)\n",
    "\n",
    "An ideal bandpass filter cuts-off frequencies lower than its first *cutoff frequency* $\\omega_{c1}$, and higher than its second *cutoff frequency* $\\omega_{c2}$.\n",
    "\n",
    "$$H_{\\rm{bp}}(\\omega ) = \\left\\{ {\\begin{array}{*{20}{c}}\n",
    "{1,}&\\omega _{c1} < \\,|\\omega |\\, < \\omega _{c2}\\\\\n",
    "{0,}&\\rm{otherwise}\n",
    "\\end{array}} \\right.$$"
   ]
  },
  {
   "cell_type": "markdown",
   "id": "309da64a",
   "metadata": {
    "slideshow": {
     "slide_type": "subslide"
    }
   },
   "source": [
    "### Frequency response of an ideal BPF\n",
    "\n",
    "![Frequency response of an ideal BPF](./pictures/bbpmfr.png)"
   ]
  },
  {
   "cell_type": "markdown",
   "id": "e8dff3d5",
   "metadata": {
    "slideshow": {
     "slide_type": "subslide"
    }
   },
   "source": [
    "### Bandpass filter design\n",
    "\n",
    "A bandpass filter can be obtained by multiplying the frequency responses of a lowpass filter by a highpass filter."
   ]
  },
  {
   "cell_type": "markdown",
   "id": "8958b5ca",
   "metadata": {
    "slideshow": {
     "slide_type": "fragment"
    }
   },
   "source": [
    "$$H_{\\mathrm{bp}}(\\omega) = H_{\\mathrm{hp}}(\\omega)H_{\\mathrm{lp}}(\\omega)$$"
   ]
  },
  {
   "cell_type": "markdown",
   "id": "e0ad5df3",
   "metadata": {
    "slideshow": {
     "slide_type": "fragment"
    }
   },
   "source": [
    "* The highpass filter should have cut-off frequency of $\\omega_{c1}$"
   ]
  },
  {
   "cell_type": "markdown",
   "id": "de3afd49",
   "metadata": {
    "slideshow": {
     "slide_type": "fragment"
    }
   },
   "source": [
    "* The lowpass filter should have cut-off frequency of $\\omega_{c2}$"
   ]
  },
  {
   "cell_type": "markdown",
   "id": "6c38677b",
   "metadata": {
    "slideshow": {
     "slide_type": "notes"
    }
   },
   "source": [
    "To generate all the plots shown in this presentation, you can use [butter2_ex.mlx](https://cpjobling.github.io/eg-247-textbook/fourier_transform/matlab/butter2_ex.mlx)"
   ]
  },
  {
   "cell_type": "markdown",
   "id": "a1b89290",
   "metadata": {
    "slideshow": {
     "slide_type": "slide"
    }
   },
   "source": [
    "## Summary\n",
    "\n",
    "* Frequency-Selective Filters\n",
    "* Ideal low-pass filter\n",
    "* Butterworth low-pass filter\n",
    "* High-pass filter\n",
    "* Bandpass filter"
   ]
  },
  {
   "cell_type": "markdown",
   "id": "b735fcdf",
   "metadata": {},
   "source": [
    "## Solutions\n",
    "\n",
    "Solutions to Examples 5-9 are captured as a PenCast in [filters.pdf](https://cpjobling.github.io/eg-247-textbook/fourier_transform/solutions/filters2.pdf)."
   ]
  }
 ],
 "metadata": {
  "jupytext": {
   "formats": "ipynb,md:myst",
   "text_representation": {
    "extension": ".md",
    "format_name": "myst",
    "format_version": 0.13,
    "jupytext_version": "1.11.5"
   }
  },
  "kernelspec": {
   "display_name": "MATLAB",
   "language": "matlab",
   "name": "imatlab"
  },
  "language_info": {
   "codemirror_mode": "octave",
   "file_extension": ".m",
   "mimetype": "text/x-matlab",
   "name": "matlab",
   "nbconvert_exporter": "imatlab._exporter.MatlabExporter",
   "pygments_lexer": "matlab",
   "version": "9.11.0.1769968 (R2021b)"
  },
  "source_map": [
   15,
   19,
   31,
   39,
   43,
   47,
   51,
   55,
   59,
   63,
   74,
   80,
   86,
   92,
   98,
   104,
   110,
   116,
   122,
   133,
   139,
   145,
   149,
   165,
   177,
   185,
   201,
   211,
   215,
   246,
   252,
   283,
   289,
   320,
   324,
   328,
   336,
   340,
   348,
   352,
   371,
   375,
   385,
   393,
   403,
   434,
   438,
   448,
   452,
   463,
   474,
   480,
   492,
   498,
   529,
   533,
   551,
   555,
   566,
   577,
   583,
   589,
   593,
   597,
   601,
   605,
   615
  ]
 },
 "nbformat": 4,
 "nbformat_minor": 5
}