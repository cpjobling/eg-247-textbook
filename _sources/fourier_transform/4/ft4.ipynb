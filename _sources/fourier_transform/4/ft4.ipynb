{
 "cells": [
  {
   "cell_type": "markdown",
   "id": "514b6841",
   "metadata": {
    "slideshow": {
     "slide_type": "slide"
    }
   },
   "source": [
    "# Introduction to Filters"
   ]
  },
  {
   "cell_type": "markdown",
   "id": "722ad0f3",
   "metadata": {
    "slideshow": {
     "slide_type": "skip"
    }
   },
   "source": [
    "## Colophon\n",
    "\n",
    "An annotatable worksheet for this presentation is available as [**Worksheet 15**](https://cpjobling.github.io/eg-247-textbook/fourier_transform/4/worksheet15.html).\n",
    "\n",
    "* The source code for this page is [fourier_transform/4/ft4.ipynb](https://github.com/cpjobling/eg-247-textbook/blob/master/fourier_transform/4/ft4.ipynb).\n",
    "\n",
    "* You can view the notes for this presentation as a webpage ([HTML](https://cpjobling.github.io/eg-247-textbook/fourier_transform/4/ft4.html)). \n",
    "\n",
    "* This page is downloadable as a [PDF](https://cpjobling.github.io/eg-247-textbook/fourier_transform/4/ft4.pdf) file."
   ]
  },
  {
   "cell_type": "markdown",
   "id": "a5896744",
   "metadata": {
    "slideshow": {
     "slide_type": "subslide"
    }
   },
   "source": [
    "## Scope and Background Reading\n",
    "\n",
    "This section is Based on the section **Filtering** from Chapter 5 of [Benoit Boulet, Fundamentals of Signals and Systems](https://ebookcentral.proquest.com/lib/swansea-ebooks/reader.action?ppg=221&docID=3135971&tm=1518715953782){cite}`boulet` from the **Recommended Reading List**.\n",
    "\n",
    "This material is an introduction to analogue filters. You will find much more in-depth coverage on [Pages 11-1&mdash;11-48](https://ebookcentral.proquest.com/lib/swansea-ebooks/reader.action?ppg=429&docID=3384197&tm=1518716026573) of {cite}`karris`."
   ]
  },
  {
   "cell_type": "markdown",
   "id": "694b137f",
   "metadata": {
    "slideshow": {
     "slide_type": "subslide"
    }
   },
   "source": [
    "## Agenda"
   ]
  },
  {
   "cell_type": "markdown",
   "id": "47679a72",
   "metadata": {
    "slideshow": {
     "slide_type": "fragment"
    }
   },
   "source": [
    "* Frequency Selective Filters"
   ]
  },
  {
   "cell_type": "markdown",
   "id": "0263fb35",
   "metadata": {
    "slideshow": {
     "slide_type": "fragment"
    }
   },
   "source": [
    "* Ideal low-pass filter"
   ]
  },
  {
   "cell_type": "markdown",
   "id": "b9231852",
   "metadata": {
    "slideshow": {
     "slide_type": "fragment"
    }
   },
   "source": [
    "* Butterworth low-pass filter"
   ]
  },
  {
   "cell_type": "markdown",
   "id": "17fddeb7",
   "metadata": {
    "slideshow": {
     "slide_type": "subslide"
    }
   },
   "source": [
    "* High-pass filter"
   ]
  },
  {
   "cell_type": "markdown",
   "id": "ad6c127d",
   "metadata": {
    "slideshow": {
     "slide_type": "fragment"
    }
   },
   "source": [
    "* Bandpass filter"
   ]
  },
  {
   "cell_type": "markdown",
   "id": "229673b1",
   "metadata": {
    "slideshow": {
     "slide_type": "slide"
    }
   },
   "source": [
    "## Introduction\n",
    "\n",
    "* Filter design is an important application of the Fourier transform\n",
    "* Filtering is a rich topic often taught in graduate courses so we give only an introduction.\n",
    "* Our introduction *will* illustrate the usefulness of the frequency domain viewpoint.\n",
    "* We will explore how filters can shape the spectrum of a signal.\n",
    "\n",
    "Other applications of the Fourier transform are sampling theory (introduced next week) and modulation."
   ]
  },
  {
   "cell_type": "markdown",
   "id": "04cb7b18",
   "metadata": {
    "slideshow": {
     "slide_type": "slide"
    }
   },
   "source": [
    "## Frequency Selective Filters\n",
    "\n",
    "An ideal frequency-selective filter is a system that let's the frequency components of a signal through undistorted while frequency components at other frequency are completely cut off."
   ]
  },
  {
   "cell_type": "markdown",
   "id": "d249f89e",
   "metadata": {
    "slideshow": {
     "slide_type": "subslide"
    }
   },
   "source": [
    "* The range of frequencies which are let through belong to the **pass Band**\n",
    "* The range of frequencies which are cut-off by the filter are called the **stopband**\n",
    "* A typical scenario where filtering is needed is when noise $n(t)$ is added to a signal $x(t)$ but that signal has most of its energy outside the bandwidth of a signal."
   ]
  },
  {
   "cell_type": "markdown",
   "id": "bb97b7f8",
   "metadata": {
    "slideshow": {
     "slide_type": "subslide"
    }
   },
   "source": [
    "### Typical filtering problem\n",
    "\n",
    "![Typical filtering problem](./pictures/filter1.png)"
   ]
  },
  {
   "cell_type": "markdown",
   "id": "302f4751",
   "metadata": {
    "slideshow": {
     "slide_type": "subslide"
    }
   },
   "source": [
    "### Signal\n",
    "\n",
    "![Signal](./pictures/filter2.png)"
   ]
  },
  {
   "cell_type": "markdown",
   "id": "1215dc43",
   "metadata": {
    "slideshow": {
     "slide_type": "subslide"
    }
   },
   "source": [
    "### Out-of Bandwidth Noise \n",
    "\n",
    "![Out of bandwidth noise](./pictures/filter3.png)"
   ]
  },
  {
   "cell_type": "markdown",
   "id": "1ff1fb3a",
   "metadata": {
    "slideshow": {
     "slide_type": "subslide"
    }
   },
   "source": [
    "### Signal plus Noise\n",
    "\n",
    "![Signal plus noise](./pictures/filter4.png)"
   ]
  },
  {
   "cell_type": "markdown",
   "id": "a9fa891d",
   "metadata": {
    "slideshow": {
     "slide_type": "subslide"
    }
   },
   "source": [
    "### Results of filtering\n",
    "\n",
    "![Results of filtering](./pictures/filter5.png)"
   ]
  },
  {
   "cell_type": "markdown",
   "id": "b3f323cf",
   "metadata": {
    "slideshow": {
     "slide_type": "subslide"
    }
   },
   "source": [
    "### Motivating example\n",
    "\n",
    "See the video and script on [*Canvas Week 7*](https://canvas.swansea.ac.uk/courses/25319/pages/motivating-example-filter-design-using-matlab?module_item_id=1418941)."
   ]
  },
  {
   "cell_type": "markdown",
   "id": "8b2f6f5b",
   "metadata": {
    "slideshow": {
     "slide_type": "slide"
    }
   },
   "source": [
    "## Ideal Low-Pass Filter (LPF)\n",
    "\n",
    "An ideal low pass filter cuts-off frequencies higher than its *cut-off frequency*, $\\omega_c$.\n",
    "\n",
    "$$H_{\\rm{lp}}(\\omega ) = \\left\\{ {\\begin{array}{*{20}{c}}\n",
    "{1,}&{|\\omega |{\\kern 1pt} \\, < {\\omega _c}}\\\\\n",
    "{0,}&{|\\omega |{\\kern 1pt} \\, \\ge {\\omega _c}}\n",
    "\\end{array}} \\right.$$"
   ]
  },
  {
   "cell_type": "markdown",
   "id": "4ca0d37c",
   "metadata": {
    "slideshow": {
     "slide_type": "subslide"
    }
   },
   "source": [
    "### Frequency response of an ideal LPF\n",
    "\n",
    "![Frequency response of an ideal LPF](./pictures/ideal_lpf.png)"
   ]
  },
  {
   "cell_type": "markdown",
   "id": "59d75c10",
   "metadata": {
    "slideshow": {
     "slide_type": "subslide"
    }
   },
   "source": [
    "### Impulse response of an ideal LPF\n",
    "\n",
    "$$h_{\\rm{lp}}(t) = \\frac{\\omega _c}{\\pi }{\\mathop{\\rm sinc}\\nolimits} \\left( \\frac{\\omega _c}{\\pi }t \\right)$$"
   ]
  },
  {
   "cell_type": "markdown",
   "id": "b80dac9d",
   "metadata": {
    "slideshow": {
     "slide_type": "fragment"
    }
   },
   "source": [
    "![Impulse response of an ideal LPF](./pictures/sinc.png)"
   ]
  },
  {
   "cell_type": "markdown",
   "id": "788f18a5",
   "metadata": {
    "slideshow": {
     "slide_type": "subslide"
    }
   },
   "source": [
    "### Filtering is Convolution\n",
    "\n",
    "The output of an LTI system with impulse response \n",
    "\n",
    "$$h(t) \\Leftrightarrow H(\\omega)$$\n",
    "\n",
    "subject to an input signal\n",
    "\n",
    "$$x(t) \\Leftrightarrow X(\\omega)$$\n",
    "\n",
    "is given by \n",
    "\n",
    "$$y(t) = h(t)*x(t) \\Leftrightarrow Y(\\omega) = H(\\omega)X(\\omega)$$"
   ]
  },
  {
   "cell_type": "markdown",
   "id": "bfb3eff8",
   "metadata": {
    "slideshow": {
     "slide_type": "subslide"
    }
   },
   "source": [
    "### Issues with the \"ideal\" filter\n",
    "\n",
    "This is the step response:\n",
    "\n",
    "![Step response of ideal LPF](./pictures/step_r.png)\n",
    "\n",
    "(reproduced from {cite}`boulet` Fig. 5.23 p. 205)\n",
    "\n",
    "Ripples in the impulse resonse would be undesireable, and because the impulse response is non-causal it cannot actually be implemented."
   ]
  },
  {
   "cell_type": "markdown",
   "id": "5628acb0",
   "metadata": {
    "slideshow": {
     "slide_type": "slide"
    }
   },
   "source": [
    "## Butterworth low-pass filter\n",
    "\n",
    "N-th Order Butterworth Filter\n",
    "\n",
    "$$\\left| H_B(\\omega ) \\right| = \\frac{1}{\\left(1 + \\left(\\frac{\\omega }{\\omega _c}\\right)^{2N}\\right)^{\\frac{1}{2}}}$$"
   ]
  },
  {
   "cell_type": "markdown",
   "id": "88cd61de",
   "metadata": {
    "slideshow": {
     "slide_type": "subslide"
    }
   },
   "source": [
    "**Remarks**\n",
    "\n",
    "* DC gain is \n",
    "\n",
    "  $$|H_B(j0)|=1$$\n",
    "\n",
    "* Attenuation at the cut-off frequency is \n",
    "\n",
    "  $$|H_B(j\\omega_c)|=1/\\sqrt{2}$$ \n",
    "  \n",
    "  for any $N$\n",
    "\n",
    "More about the Butterworth filter: [Wikipedia Article](https://en.wikipedia.org/wiki/Butterworth_filter)"
   ]
  },
  {
   "cell_type": "markdown",
   "id": "46fd7717",
   "metadata": {
    "slideshow": {
     "slide_type": "slide"
    }
   },
   "source": [
    "### Example 5: Second-order BW Filter\n",
    "\n",
    "The second-order butterworth Filter is defined by is Characteristic Equation (CE):\n",
    "\n",
    "$$p(s) = s^2 + \\omega_c\\sqrt{2}s+\\omega_c^2 = 0^*$$\n",
    "\n",
    "Calculate the roots of $p(s)$ (the poles of the filter transfer function) in both Cartesian and polar form."
   ]
  },
  {
   "cell_type": "markdown",
   "id": "44cef33b",
   "metadata": {
    "slideshow": {
     "slide_type": "notes"
    }
   },
   "source": [
    "**Note**: This has the same characteristic as a control system with damping ratio $\\zeta = 1/\\sqrt{2}$ and $\\omega_n = \\omega_c$!"
   ]
  },
  {
   "cell_type": "markdown",
   "id": "42705501",
   "metadata": {
    "slideshow": {
     "slide_type": "notes"
    }
   },
   "source": [
    "#### Solution to example 5\n",
    "\n",
    "<pre style=\"border: 2px solid blue\">\n",
    "\n",
    "\n",
    "\n",
    "\n",
    "\n",
    "\n",
    "\n",
    "\n",
    "\n",
    "\n",
    "\n",
    "\n",
    "\n",
    "\n",
    "\n",
    "\n",
    "\n",
    "\n",
    "\n",
    "\n",
    "\n",
    "\n",
    "\n",
    "\n",
    "</pre>"
   ]
  },
  {
   "cell_type": "markdown",
   "id": "6061a1ca",
   "metadata": {
    "slideshow": {
     "slide_type": "slide"
    }
   },
   "source": [
    "### Example 6\n",
    "\n",
    "Derive the differential equation relating the input $x(t)$ to output $y(t)$ of the 2nd-Order Butterworth Low-Pass Filter with cutoff frequency $\\omega_c$."
   ]
  },
  {
   "cell_type": "markdown",
   "id": "9bb5b730",
   "metadata": {
    "slideshow": {
     "slide_type": "notes"
    }
   },
   "source": [
    "#### Solution to example 6\n",
    "\n",
    "<pre style=\"border: 2px solid blue\">\n",
    "\n",
    "\n",
    "\n",
    "\n",
    "\n",
    "\n",
    "\n",
    "\n",
    "\n",
    "\n",
    "\n",
    "\n",
    "\n",
    "\n",
    "\n",
    "\n",
    "\n",
    "\n",
    "\n",
    "\n",
    "\n",
    "\n",
    "\n",
    "\n",
    "</pre>"
   ]
  },
  {
   "cell_type": "markdown",
   "id": "cff9bc82",
   "metadata": {
    "slideshow": {
     "slide_type": "slide"
    }
   },
   "source": [
    "### Example 7\n",
    "\n",
    "Determine the frequency response $H_B(\\omega)=Y(\\omega)/X(\\omega)$"
   ]
  },
  {
   "cell_type": "markdown",
   "id": "16018359",
   "metadata": {
    "slideshow": {
     "slide_type": "notes"
    }
   },
   "source": [
    "#### Solution to example 7\n",
    "\n",
    "<pre style=\"border: 2px solid blue\">\n",
    "\n",
    "\n",
    "\n",
    "\n",
    "\n",
    "\n",
    "\n",
    "\n",
    "\n",
    "\n",
    "\n",
    "\n",
    "\n",
    "\n",
    "\n",
    "\n",
    "\n",
    "\n",
    "\n",
    "\n",
    "\n",
    "\n",
    "\n",
    "\n",
    "</pre>"
   ]
  },
  {
   "cell_type": "markdown",
   "id": "cf3d3a6a",
   "metadata": {
    "slideshow": {
     "slide_type": "subslide"
    }
   },
   "source": [
    "### Magnitude of frequency response of a 2nd-order Butterworth Filter"
   ]
  },
  {
   "cell_type": "code",
   "execution_count": 1,
   "id": "98d92ad5",
   "metadata": {},
   "outputs": [
    {
     "name": "stderr",
     "output_type": "stream",
     "text": [
      "\u001b[0;31mError using eval\n",
      "Undefined function 'imatlab_export_fig' for input arguments of type 'char'.\n",
      "\u001b[0m"
     ]
    }
   ],
   "source": [
    "imatlab_export_fig('print-svg')  % Static svg figures."
   ]
  },
  {
   "cell_type": "code",
   "execution_count": 2,
   "id": "b4f125c5",
   "metadata": {
    "slideshow": {
     "slide_type": "subslide"
    }
   },
   "outputs": [],
   "source": [
    "wc = 100;"
   ]
  },
  {
   "cell_type": "markdown",
   "id": "aaee355e",
   "metadata": {
    "slideshow": {
     "slide_type": "subslide"
    }
   },
   "source": [
    "Transfer function"
   ]
  },
  {
   "cell_type": "code",
   "execution_count": 3,
   "id": "94f0243e",
   "metadata": {
    "slideshow": {
     "slide_type": "subslide"
    }
   },
   "outputs": [
    {
     "name": "stdout",
     "output_type": "stream",
     "text": [
      "\n",
      "H =\n"
     ]
    },
    {
     "name": "stdout",
     "output_type": "stream",
     "text": [
      " \n"
     ]
    },
    {
     "name": "stdout",
     "output_type": "stream",
     "text": [
      "          10000\n"
     ]
    },
    {
     "name": "stdout",
     "output_type": "stream",
     "text": [
      "  ---------------------\n"
     ]
    },
    {
     "name": "stdout",
     "output_type": "stream",
     "text": [
      "  s^2 + 141.4 s + 10000\n"
     ]
    },
    {
     "name": "stdout",
     "output_type": "stream",
     "text": [
      " \n"
     ]
    },
    {
     "name": "stdout",
     "output_type": "stream",
     "text": [
      "Continuous-time transfer function.\n",
      "\n"
     ]
    }
   ],
   "source": [
    "H = tf(wc^2,[1, wc*sqrt(2), wc^2])"
   ]
  },
  {
   "cell_type": "markdown",
   "id": "99f5d57b",
   "metadata": {
    "slideshow": {
     "slide_type": "subslide"
    }
   },
   "source": [
    "Magnitude frequency response"
   ]
  },
  {
   "cell_type": "code",
   "execution_count": 4,
   "id": "bb6d5267",
   "metadata": {
    "slideshow": {
     "slide_type": "subslide"
    }
   },
   "outputs": [
    {
     "data": {
      "image/png": "[encoded data removed]",
      "text/plain": [
       "<IPython.core.display.Image object>"
      ]
     },
     "metadata": {
      "filenames": {
       "image/png": "/Users/eechris/code/src/github.com/cpjobling/eg-247-textbook/_build/jupyter_execute/fourier_transform/4/ft4_39_0.png"
      }
     },
     "output_type": "display_data"
    }
   ],
   "source": [
    "w = -400:400;\n",
    "mHlp = 1./(sqrt(1 + (w./wc).^4));\n",
    "plot(w,mHlp)\n",
    "grid\n",
    "ylabel('|H_B(j\\omega)|')\n",
    "title('Magnitude Frequency Response for 2nd-Order LP Butterworth Filter (\\omega_c = 100 rad/s)')\n",
    "xlabel('Radian Frequency \\omega [rad/s]')\n",
    "text(100,0.1,'\\omega_c')\n",
    "text(-100,0.1,'-\\omega_c')\n",
    "hold on\n",
    "plot([-400,-100,-100,100,100,400],[0,0,1,1,0,0],'r:')\n",
    "hold off"
   ]
  },
  {
   "cell_type": "markdown",
   "id": "ca832480",
   "metadata": {
    "slideshow": {
     "slide_type": "subslide"
    }
   },
   "source": [
    "Bode plot"
   ]
  },
  {
   "cell_type": "code",
   "execution_count": 5,
   "id": "5cd60ae4",
   "metadata": {
    "slideshow": {
     "slide_type": "subslide"
    }
   },
   "outputs": [
    {
     "data": {
      "image/png": "[encoded data removed]",
      "text/plain": [
       "<IPython.core.display.Image object>"
      ]
     },
     "metadata": {
      "filenames": {
       "image/png": "/Users/eechris/code/src/github.com/cpjobling/eg-247-textbook/_build/jupyter_execute/fourier_transform/4/ft4_41_0.png"
      }
     },
     "output_type": "display_data"
    }
   ],
   "source": [
    "bode(H)\n",
    "grid\n",
    "title('Bode-plot of Butterworth 2nd-Order Butterworth Low Pass Filter')"
   ]
  },
  {
   "cell_type": "markdown",
   "id": "1506b539",
   "metadata": {
    "slideshow": {
     "slide_type": "notes"
    }
   },
   "source": [
    "Note that the attentuation of the filter is flat at 0 dB in the pass-band at frequencies below the cut-off frequency $\\omega < \\omega_c$; has a value of $-3$ dB at the cut-off frquency $\\omega = \\omega_c$; and has a \"roll-off\" (rate of decrease) of $N\\times 20$ dB/decade in the stop-band. \n",
    "\n",
    "In this case, $N=2$, and $\\omega_c = 100$ rad/s so the attenuation is -40 dB at $\\omega = 10\\omega_c = 1,000$ rad/s and $\\omega = -80$ dB at $\\omega = 100\\omega_c = 10,000$ rad/s.\n",
    "\n",
    "The phase is $0^\\circ$ at $\\omega = 0$; $N\\times 90^\\circ$ at $\\omega = \\infty$; and $N\\times 45^\\circ$ and $\\omega = \\omega_c$."
   ]
  },
  {
   "cell_type": "markdown",
   "id": "2e33b83a",
   "metadata": {
    "slideshow": {
     "slide_type": "slide"
    }
   },
   "source": [
    "### Example 8\n",
    "\n",
    "Determine the impulse and step response of a butterworth low-pass filter.\n",
    "\n",
    "You will find this Fourier transform pair useful:\n",
    "\n",
    "$$e^{-at}\\sin\\omega_0 t\\;u_0(t) \\Leftrightarrow \\frac{\\omega_0}{(j\\omega + a)^2+\\omega_0^2}$$"
   ]
  },
  {
   "cell_type": "markdown",
   "id": "a25233c8",
   "metadata": {
    "slideshow": {
     "slide_type": "notes"
    }
   },
   "source": [
    "#### Solution to example 8\n",
    "\n",
    "<pre style=\"border: 2px solid blue\">\n",
    "\n",
    "\n",
    "\n",
    "\n",
    "\n",
    "\n",
    "\n",
    "\n",
    "\n",
    "\n",
    "\n",
    "\n",
    "\n",
    "\n",
    "\n",
    "\n",
    "\n",
    "\n",
    "\n",
    "\n",
    "\n",
    "\n",
    "\n",
    "\n",
    "</pre>"
   ]
  },
  {
   "cell_type": "markdown",
   "id": "9183a91c",
   "metadata": {
    "slideshow": {
     "slide_type": "subslide"
    }
   },
   "source": [
    "Impulse response"
   ]
  },
  {
   "cell_type": "code",
   "execution_count": 6,
   "id": "6e6b91c4",
   "metadata": {
    "slideshow": {
     "slide_type": "subslide"
    }
   },
   "outputs": [
    {
     "data": {
      "image/png": "[encoded data removed]",
      "text/plain": [
       "<IPython.core.display.Image object>"
      ]
     },
     "metadata": {
      "filenames": {
       "image/png": "/Users/eechris/code/src/github.com/cpjobling/eg-247-textbook/_build/jupyter_execute/fourier_transform/4/ft4_46_0.png"
      }
     },
     "output_type": "display_data"
    }
   ],
   "source": [
    "impulse(H,0.1)\n",
    "grid\n",
    "title('Impulse Response of 2nd-Order Butterworth Low Pass Filter')"
   ]
  },
  {
   "cell_type": "markdown",
   "id": "d6ca6526",
   "metadata": {
    "slideshow": {
     "slide_type": "subslide"
    }
   },
   "source": [
    "Step response"
   ]
  },
  {
   "cell_type": "code",
   "execution_count": 7,
   "id": "cbb7688e",
   "metadata": {
    "slideshow": {
     "slide_type": "subslide"
    }
   },
   "outputs": [
    {
     "data": {
      "image/png": "[encoded data removed]",
      "text/plain": [
       "<IPython.core.display.Image object>"
      ]
     },
     "metadata": {
      "filenames": {
       "image/png": "/Users/eechris/code/src/github.com/cpjobling/eg-247-textbook/_build/jupyter_execute/fourier_transform/4/ft4_48_0.png"
      }
     },
     "output_type": "display_data"
    }
   ],
   "source": [
    "step(H,0.1)\n",
    "title('Step Response of Butterworth 2nd-Order Butterworth Low Pass Filter')\n",
    "grid\n",
    "text(0.008,1,'s_B(t) for \\omega_c = 100 rad/s')"
   ]
  },
  {
   "cell_type": "markdown",
   "id": "0d9ec256",
   "metadata": {
    "slideshow": {
     "slide_type": "slide"
    }
   },
   "source": [
    "## High-pass filter (HPF)\n",
    "\n",
    "An ideal highpass filter cuts-off frequencies lower than its *cutoff frequency*, $\\omega_c$.\n",
    "\n",
    "$$H_{\\rm{hp}}(\\omega ) = \\left\\{ {\\begin{array}{*{20}{c}}\n",
    "{0,}&{|\\omega |{\\kern 1pt} \\, \\le {\\omega _c}}\\\\\n",
    "{1,}&{|\\omega |{\\kern 1pt} \\, > {\\omega _c}}\n",
    "\\end{array}} \\right.$$"
   ]
  },
  {
   "cell_type": "markdown",
   "id": "3481289d",
   "metadata": {
    "slideshow": {
     "slide_type": "subslide"
    }
   },
   "source": [
    "### Frequency response of an ideal HPF\n",
    "\n",
    "![Frequency response of an ideal HPF](./pictures/ideal_hpf.png)"
   ]
  },
  {
   "cell_type": "markdown",
   "id": "cf058e5f",
   "metadata": {
    "slideshow": {
     "slide_type": "slide"
    }
   },
   "source": [
    "### Responses\n",
    "\n",
    "**Frequency response**\n",
    "\n",
    "$$H_{\\mathrm{hp}}(\\omega)=1-H_{\\mathrm{lp}}(\\omega)$$\n",
    "\n",
    "**Impulse response**\n",
    "\n",
    "$$h_{\\mathrm{hp}}(t)=\\delta(t)-h_{\\mathrm{lp}}(t)$$"
   ]
  },
  {
   "cell_type": "markdown",
   "id": "90f59955",
   "metadata": {
    "slideshow": {
     "slide_type": "slide"
    }
   },
   "source": [
    "### Example 9\n",
    "\n",
    "Determine the frequency response of a 2nd-order butterworth highpass filter"
   ]
  },
  {
   "cell_type": "markdown",
   "id": "c4751bad",
   "metadata": {
    "slideshow": {
     "slide_type": "notes"
    }
   },
   "source": [
    "#### Solution to example 9\n",
    "\n",
    "<pre style=\"border: 2px solid blue\">\n",
    "\n",
    "\n",
    "\n",
    "\n",
    "\n",
    "\n",
    "\n",
    "\n",
    "\n",
    "\n",
    "\n",
    "\n",
    "\n",
    "\n",
    "\n",
    "\n",
    "\n",
    "\n",
    "\n",
    "\n",
    "\n",
    "\n",
    "\n",
    "\n",
    "</pre>"
   ]
  },
  {
   "cell_type": "markdown",
   "id": "80ceb813",
   "metadata": {
    "slideshow": {
     "slide_type": "subslide"
    }
   },
   "source": [
    "Magnitude frequency response"
   ]
  },
  {
   "cell_type": "code",
   "execution_count": 8,
   "id": "fccc69d6",
   "metadata": {
    "slideshow": {
     "slide_type": "subslide"
    }
   },
   "outputs": [
    {
     "data": {
      "image/png": "[encoded data removed]",
      "text/plain": [
       "<IPython.core.display.Image object>"
      ]
     },
     "metadata": {
      "filenames": {
       "image/png": "/Users/eechris/code/src/github.com/cpjobling/eg-247-textbook/_build/jupyter_execute/fourier_transform/4/ft4_55_0.png"
      }
     },
     "output_type": "display_data"
    }
   ],
   "source": [
    "w = -400:400;\n",
    "plot(w,1-mHlp)\n",
    "grid\n",
    "ylabel('|H_B(j\\omega)|')\n",
    "title('Magnitude Frequency Response for 2nd-Order HP Butterworth Filter (\\omega_c = 100 rad/s)')\n",
    "xlabel('Radian Frequency \\omega [rad/s]')\n",
    "text(100,0.9,'\\omega_c')\n",
    "text(-100,0.9,'-\\omega_c')\n",
    "hold on\n",
    "plot([-400,-100,-100,100,100,400],[0,0,1,1,0,0],'r:')\n",
    "hold off"
   ]
  },
  {
   "cell_type": "markdown",
   "id": "e883cd09",
   "metadata": {
    "slideshow": {
     "slide_type": "subslide"
    }
   },
   "source": [
    "High-pass filter"
   ]
  },
  {
   "cell_type": "code",
   "execution_count": 9,
   "id": "5233b79d",
   "metadata": {
    "slideshow": {
     "slide_type": "subslide"
    }
   },
   "outputs": [
    {
     "name": "stdout",
     "output_type": "stream",
     "text": [
      "\n",
      "Hhp =\n"
     ]
    },
    {
     "name": "stdout",
     "output_type": "stream",
     "text": [
      " \n"
     ]
    },
    {
     "name": "stdout",
     "output_type": "stream",
     "text": [
      "      s^2 + 141.4 s\n"
     ]
    },
    {
     "name": "stdout",
     "output_type": "stream",
     "text": [
      "  ---------------------\n"
     ]
    },
    {
     "name": "stdout",
     "output_type": "stream",
     "text": [
      "  s^2 + 141.4 s + 10000\n"
     ]
    },
    {
     "name": "stdout",
     "output_type": "stream",
     "text": [
      " \n"
     ]
    },
    {
     "name": "stdout",
     "output_type": "stream",
     "text": [
      "Continuous-time transfer function.\n",
      "\n"
     ]
    },
    {
     "data": {
      "image/png": "[encoded data removed]",
      "text/plain": [
       "<IPython.core.display.Image object>"
      ]
     },
     "metadata": {
      "filenames": {
       "image/png": "/Users/eechris/code/src/github.com/cpjobling/eg-247-textbook/_build/jupyter_execute/fourier_transform/4/ft4_57_7.png"
      }
     },
     "output_type": "display_data"
    }
   ],
   "source": [
    "Hhp = 1 - H\n",
    "bode(Hhp)\n",
    "grid\n",
    "title('Bode-plot of Butterworth 2nd-Order Butterworth High Pass Filter')"
   ]
  },
  {
   "cell_type": "markdown",
   "id": "68d4cd48",
   "metadata": {
    "slideshow": {
     "slide_type": "slide"
    }
   },
   "source": [
    "## Band-pass filter (BPF)\n",
    "\n",
    "An ideal bandpass filter cuts-off frequencies lower than its first *cutoff frequency* $\\omega_{c1}$, and higher than its second *cutoff frequency* $\\omega_{c2}$.\n",
    "\n",
    "$$H_{\\rm{bp}}(\\omega ) = \\left\\{ {\\begin{array}{*{20}{c}}\n",
    "{1,}&\\omega _{c1} < \\,|\\omega |\\, < \\omega _{c2}\\\\\n",
    "{0,}&\\rm{otherwise}\n",
    "\\end{array}} \\right.$$"
   ]
  },
  {
   "cell_type": "markdown",
   "id": "df84c851",
   "metadata": {
    "slideshow": {
     "slide_type": "subslide"
    }
   },
   "source": [
    "### Frequency response of an ideal BPF\n",
    "\n",
    "![Frequency response of an ideal BPF](./pictures/bbpmfr.png)"
   ]
  },
  {
   "cell_type": "markdown",
   "id": "3a1d5a70",
   "metadata": {
    "slideshow": {
     "slide_type": "subslide"
    }
   },
   "source": [
    "### Bandpass filter design\n",
    "\n",
    "A bandpass filter can be obtained by multiplying the frequency responses of a lowpass filter by a highpass filter."
   ]
  },
  {
   "cell_type": "markdown",
   "id": "270d50d6",
   "metadata": {
    "slideshow": {
     "slide_type": "fragment"
    }
   },
   "source": [
    "$$H_{\\mathrm{bp}}(\\omega) = H_{\\mathrm{hp}}(\\omega)H_{\\mathrm{lp}}(\\omega)$$"
   ]
  },
  {
   "cell_type": "markdown",
   "id": "7322ca4f",
   "metadata": {
    "slideshow": {
     "slide_type": "fragment"
    }
   },
   "source": [
    "* The highpass filter should have cut-off frequency of $\\omega_{c1}$"
   ]
  },
  {
   "cell_type": "markdown",
   "id": "5f0df5a9",
   "metadata": {
    "slideshow": {
     "slide_type": "fragment"
    }
   },
   "source": [
    "* The lowpass filter should have cut-off frequency of $\\omega_{c2}$"
   ]
  },
  {
   "cell_type": "markdown",
   "id": "dfd4fc40",
   "metadata": {
    "slideshow": {
     "slide_type": "notes"
    }
   },
   "source": [
    "To generate all the plots shown in this presentation, you can use [butter2_ex.mlx](https://cpjobling.github.io/eg-247-textbook/fourier_transform/matlab/butter2_ex.mlx)"
   ]
  },
  {
   "cell_type": "markdown",
   "id": "98b74d97",
   "metadata": {
    "slideshow": {
     "slide_type": "slide"
    }
   },
   "source": [
    "## Summary\n",
    "\n",
    "* Frequency-Selective Filters\n",
    "* Ideal low-pass filter\n",
    "* Butterworth low-pass filter\n",
    "* High-pass filter\n",
    "* Bandpass filter"
   ]
  },
  {
   "cell_type": "markdown",
   "id": "46e271fa",
   "metadata": {},
   "source": [
    "## Solutions\n",
    "\n",
    "Solutions to Examples 5-9 are captured as a PenCast in [filters.pdf](https://cpjobling.github.io/eg-247-textbook/fourier_transform/solutions/filters2.pdf)."
   ]
  }
 ],
 "metadata": {
  "jupytext": {
   "formats": "ipynb,md:myst",
   "text_representation": {
    "extension": ".md",
    "format_name": "myst",
    "format_version": 0.13,
    "jupytext_version": "1.14.1"
   }
  },
  "kernelspec": {
   "display_name": "Matlab",
   "language": "matlab",
   "name": "matlab"
  },
  "language_info": {
   "codemirror_mode": "octave",
   "file_extension": ".m",
   "help_links": [
    {
     "text": "MetaKernel Magics",
     "url": "https://metakernel.readthedocs.io/en/latest/source/README.html"
    }
   ],
   "mimetype": "text/x-octave",
   "name": "matlab",
   "version": "0.17.1"
  },
  "source_map": [
   15,
   19,
   31,
   39,
   43,
   47,
   51,
   55,
   59,
   63,
   74,
   80,
   86,
   92,
   98,
   104,
   110,
   116,
   122,
   133,
   139,
   145,
   149,
   165,
   177,
   185,
   201,
   211,
   215,
   246,
   252,
   283,
   289,
   320,
   324,
   328,
   336,
   340,
   348,
   352,
   371,
   375,
   385,
   393,
   403,
   434,
   438,
   448,
   452,
   463,
   474,
   480,
   492,
   498,
   529,
   533,
   551,
   555,
   566,
   577,
   583,
   589,
   593,
   597,
   601,
   605,
   615
  ]
 },
 "nbformat": 4,
 "nbformat_minor": 5
}