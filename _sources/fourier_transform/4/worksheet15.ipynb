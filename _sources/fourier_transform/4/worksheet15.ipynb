{
 "cells": [
  {
   "cell_type": "markdown",
   "id": "5a95ea5e",
   "metadata": {
    "slideshow": {
     "slide_type": "slide"
    }
   },
   "source": [
    "# Worksheet 15\n",
    "\n",
    "## To accompany Section 5.4 Introduction to Filters"
   ]
  },
  {
   "cell_type": "markdown",
   "id": "0c3c7fee",
   "metadata": {
    "slideshow": {
     "slide_type": "skip"
    }
   },
   "source": [
    "This worksheet can be downloaded as a [PDF file](https://cpjobling.github.io/eg-247-textbook/worksheets/worksheet15.pdf). We will step through this worksheet in class. \n",
    "\n",
    "An annotatable copy of the notes for this presentation will be distributed before the second class meeting as **Worksheet 15** in the **Week 7: Classroom Activities** section of the Canvas site. I will also distribute a copy to your personal **Worksheets** section of the **OneNote Class Notebook** so that you can add your own notes using OneNote. \n",
    "\n",
    "You are expected to have at least watched the video presentation of [Chapter 5.4](https://cpjobling.github.io/eg-247-textbook/fourier_transform/4/ft4) of the [notes](https://cpjobling.github.io/eg-247-textbook/) before coming to class. If you haven't watch it afterwards!\n",
    "\n",
    "After class, the lecture recording and the annotated version of the worksheets will be made available through Canvas.We will step through this worksheet in class."
   ]
  },
  {
   "cell_type": "markdown",
   "id": "afee440c",
   "metadata": {
    "slideshow": {
     "slide_type": "slide"
    }
   },
   "source": [
    "## Frequency Selective Filters\n",
    "\n",
    "An ideal frequency-selective filter is a system that let's the frequency components of a signal through undistorted while frequency components at other frequencies are completely cut off."
   ]
  },
  {
   "cell_type": "markdown",
   "id": "d01c03cf",
   "metadata": {
    "slideshow": {
     "slide_type": "subslide"
    }
   },
   "source": [
    "* The range of frequencies which are let through belong to the **pass Band**\n",
    "* The range of frequencies which are cut-off by the filter are called the **stopband**\n",
    "* A typical scenario where filtering is needed is when noise $n(t)$ is added to a signal $x(t)$ but that signal has most of its energy outside the bandwidth of a signal."
   ]
  },
  {
   "cell_type": "markdown",
   "id": "4853c012",
   "metadata": {
    "slideshow": {
     "slide_type": "subslide"
    }
   },
   "source": [
    "### Typical filtering problem\n",
    "\n",
    "![Typical filtering problem](./pictures/filter1.png)"
   ]
  },
  {
   "cell_type": "markdown",
   "id": "7577451d",
   "metadata": {
    "slideshow": {
     "slide_type": "subslide"
    }
   },
   "source": [
    "### Signal\n",
    "\n",
    "![Signal](./pictures/filter2.png)"
   ]
  },
  {
   "cell_type": "markdown",
   "id": "749c3dbb",
   "metadata": {
    "slideshow": {
     "slide_type": "subslide"
    }
   },
   "source": [
    "### Out-of Bandwidth Noise \n",
    "\n",
    "![Out of bandwidth noise](./pictures/filter3.png)"
   ]
  },
  {
   "cell_type": "markdown",
   "id": "00629dfc",
   "metadata": {
    "slideshow": {
     "slide_type": "subslide"
    }
   },
   "source": [
    "### Signal plus Noise\n",
    "\n",
    "![Signal plus noise](./pictures/filter4.png)"
   ]
  },
  {
   "cell_type": "markdown",
   "id": "1ac51051",
   "metadata": {
    "slideshow": {
     "slide_type": "subslide"
    }
   },
   "source": [
    "### Filtering\n",
    "\n",
    "![Results of filtering](./pictures/filter5.png)"
   ]
  },
  {
   "cell_type": "markdown",
   "id": "c3872aad",
   "metadata": {
    "slideshow": {
     "slide_type": "subslide"
    }
   },
   "source": [
    "### Motivating example\n",
    "\n",
    "See the video and script on [*Canvas Week 7*](https://canvas.swansea.ac.uk/courses/16097/pages/motivating-example-filter-design-using-matlab?module_item_id=1000013)."
   ]
  },
  {
   "cell_type": "markdown",
   "id": "18fa9e61",
   "metadata": {
    "slideshow": {
     "slide_type": "slide"
    }
   },
   "source": [
    "## Ideal Low-Pass Filter (LPF)\n",
    "\n",
    "An ideal low pass filter cuts-off frequencies higher than its *cutoff frequency*, $\\omega_c$.\n",
    "\n",
    "$$H_{\\rm{lp}}(\\omega ) = \\left\\{ {\\begin{array}{*{20}{c}}\n",
    "{1,}&{|\\omega |{\\kern 1pt} \\, \\le {\\omega _c}}\\\\\n",
    "{0,}&{|\\omega |{\\kern 1pt} \\, \\ge {\\omega _c}}\n",
    "\\end{array}} \\right.$$"
   ]
  },
  {
   "cell_type": "markdown",
   "id": "2a943bff",
   "metadata": {
    "slideshow": {
     "slide_type": "subslide"
    }
   },
   "source": [
    "### Frequency response of an ideal LPF\n",
    "\n",
    "![Frequency response of an ideal LPF](./pictures/ideal_lpf.png)"
   ]
  },
  {
   "cell_type": "markdown",
   "id": "0f017458",
   "metadata": {
    "slideshow": {
     "slide_type": "subslide"
    }
   },
   "source": [
    "### Impulse response of an ideal LPF\n",
    "\n",
    "$$h_{\\rm{lp}}(t) = \\frac{\\omega _c}{\\pi }{\\mathop{\\rm sinc}\\nolimits} \\left( \\frac{\\omega _c}{\\pi }t \\right)$$"
   ]
  },
  {
   "cell_type": "markdown",
   "id": "7c2b30c3",
   "metadata": {
    "slideshow": {
     "slide_type": "fragment"
    }
   },
   "source": [
    "![Impulse response of an ideal LPF](./pictures/sinc.png)"
   ]
  },
  {
   "cell_type": "markdown",
   "id": "026cb4f5",
   "metadata": {
    "slideshow": {
     "slide_type": "subslide"
    }
   },
   "source": [
    "### Filtering is Convolution\n",
    "\n",
    "The output of an LTI system with impulse response \n",
    "\n",
    "$$h(t) \\Leftrightarrow H(\\omega)$$\n",
    "\n",
    "subject to an input signal\n",
    "\n",
    "$$x(t) \\Leftrightarrow X(\\omega)$$\n",
    "\n",
    "is given by \n",
    "\n",
    "$$y(t) = h(t)*x(t) \\Leftrightarrow Y(\\omega) = H(\\omega)X(\\omega)$$"
   ]
  },
  {
   "cell_type": "markdown",
   "id": "e693e212",
   "metadata": {
    "slideshow": {
     "slide_type": "subslide"
    }
   },
   "source": [
    "### Issues with the \"ideal\" filter\n",
    "\n",
    "This is the step response:\n",
    "\n",
    "![Step response of ideal LPF](./pictures/step_r.png)\n",
    "\n",
    "(reproduced from {cite}`boulet` Fig. 5.23 p. 205)\n",
    "\n",
    "Ripples in the impulse resonse would be undesireable, and because the impulse response is non-causal it cannot actually be implemented."
   ]
  },
  {
   "cell_type": "markdown",
   "id": "924e8fbf",
   "metadata": {
    "slideshow": {
     "slide_type": "slide"
    }
   },
   "source": [
    "## Butterworth low-pass filter\n",
    "\n",
    "N-th Order Butterworth Filter\n",
    "\n",
    "$$\\left| H_B(\\omega ) \\right| = \\frac{1}{\\left(1 + \\left(\\frac{\\omega }{\\omega _c}\\right)^{2N}\\right)^{\\frac{1}{2}}}$$"
   ]
  },
  {
   "cell_type": "markdown",
   "id": "f542c4d6",
   "metadata": {
    "slideshow": {
     "slide_type": "subslide"
    }
   },
   "source": [
    "**Remarks**\n",
    "\n",
    "* DC gain is \n",
    "\n",
    "  $$|H_B(j0)|=1$$\n",
    "\n",
    "* Attenuation at the cut-off frequency is \n",
    "\n",
    "  $$|H_B(j\\omega_c)|=1/\\sqrt{2}$$\n",
    "  \n",
    "  for any $N$\n",
    "\n",
    "More about the Butterworth filter: [Wikipedia Article](https://en.wikipedia.org/wiki/Butterworth_filter)"
   ]
  },
  {
   "cell_type": "markdown",
   "id": "b1e1b3f4",
   "metadata": {
    "slideshow": {
     "slide_type": "slide"
    }
   },
   "source": [
    "### Example 5: Second-order BW Filter\n",
    "\n",
    "The second-order butterworth Filter is defined by Characteristic Equation (CE):\n",
    "\n",
    "$$p(s) = s^2 + \\omega_c\\sqrt{2}s+\\omega_c^2 = 0^*$$\n",
    "\n",
    "Calculate the roots of $p(s)$ (the poles of the filter transfer function) in both Cartesian and polar form."
   ]
  },
  {
   "cell_type": "markdown",
   "id": "2ea60dfa",
   "metadata": {
    "slideshow": {
     "slide_type": "notes"
    }
   },
   "source": [
    "**Note**: This has the same characteristic as a control system with damping ratio $\\zeta = 1/\\sqrt{2}$ and $\\omega_n = \\omega_c$!"
   ]
  },
  {
   "cell_type": "markdown",
   "id": "ebbc5d5e",
   "metadata": {
    "slideshow": {
     "slide_type": "notes"
    }
   },
   "source": [
    "#### Solution to example 5\n",
    "\n",
    "<pre style=\"border: 2px solid blue\">\n",
    "\n",
    "\n",
    "\n",
    "\n",
    "\n",
    "\n",
    "\n",
    "\n",
    "\n",
    "\n",
    "\n",
    "\n",
    "\n",
    "\n",
    "\n",
    "\n",
    "\n",
    "\n",
    "\n",
    "\n",
    "\n",
    "\n",
    "\n",
    "\n",
    "</pre>"
   ]
  },
  {
   "cell_type": "markdown",
   "id": "fd9679c2",
   "metadata": {
    "slideshow": {
     "slide_type": "slide"
    }
   },
   "source": [
    "### Example 6\n",
    "\n",
    "Derive the differential equation relating the input $x(t)$ to output $y(t)$ of the 2nd-Order Butterworth Low-Pass Filter with cutoff frequency $\\omega_c$."
   ]
  },
  {
   "cell_type": "markdown",
   "id": "8b0067dd",
   "metadata": {
    "slideshow": {
     "slide_type": "notes"
    }
   },
   "source": [
    "#### Solution to example 6\n",
    "\n",
    "<pre style=\"border: 2px solid blue\">\n",
    "\n",
    "\n",
    "\n",
    "\n",
    "\n",
    "\n",
    "\n",
    "\n",
    "\n",
    "\n",
    "\n",
    "\n",
    "\n",
    "\n",
    "\n",
    "\n",
    "\n",
    "\n",
    "\n",
    "\n",
    "\n",
    "\n",
    "\n",
    "\n",
    "</pre>"
   ]
  },
  {
   "cell_type": "markdown",
   "id": "8a60dcb9",
   "metadata": {
    "slideshow": {
     "slide_type": "slide"
    }
   },
   "source": [
    "### Example 7\n",
    "\n",
    "Determine the frequency response $H_B(\\omega)=Y(\\omega)/X(\\omega)$"
   ]
  },
  {
   "cell_type": "markdown",
   "id": "cd43e95f",
   "metadata": {
    "slideshow": {
     "slide_type": "notes"
    }
   },
   "source": [
    "#### Solution to example 7\n",
    "\n",
    "<pre style=\"border: 2px solid blue\">\n",
    "\n",
    "\n",
    "\n",
    "\n",
    "\n",
    "\n",
    "\n",
    "\n",
    "\n",
    "\n",
    "\n",
    "\n",
    "\n",
    "\n",
    "\n",
    "\n",
    "\n",
    "\n",
    "\n",
    "\n",
    "\n",
    "\n",
    "\n",
    "\n",
    "</pre>"
   ]
  },
  {
   "cell_type": "markdown",
   "id": "fc632632",
   "metadata": {
    "slideshow": {
     "slide_type": "subslide"
    }
   },
   "source": [
    "### Magnitude of frequency response of a 2nd-order Butterworth Filter"
   ]
  },
  {
   "cell_type": "code",
   "execution_count": null,
   "id": "f4836704",
   "metadata": {},
   "outputs": [],
   "source": [
    "imatlab_export_fig('print-svg')  % Static svg figures."
   ]
  },
  {
   "cell_type": "code",
   "execution_count": null,
   "id": "19157d24",
   "metadata": {
    "slideshow": {
     "slide_type": "subslide"
    }
   },
   "outputs": [],
   "source": [
    "wc = 100;"
   ]
  },
  {
   "cell_type": "markdown",
   "id": "a74850e4",
   "metadata": {
    "slideshow": {
     "slide_type": "subslide"
    }
   },
   "source": [
    "Transfer function"
   ]
  },
  {
   "cell_type": "code",
   "execution_count": null,
   "id": "85fd361b",
   "metadata": {
    "slideshow": {
     "slide_type": "subslide"
    }
   },
   "outputs": [],
   "source": [
    "H = tf(wc^2,[1, wc*sqrt(2), wc^2])"
   ]
  },
  {
   "cell_type": "markdown",
   "id": "14921d84",
   "metadata": {
    "slideshow": {
     "slide_type": "subslide"
    }
   },
   "source": [
    "Magnitude frequency response"
   ]
  },
  {
   "cell_type": "code",
   "execution_count": null,
   "id": "dd49759b",
   "metadata": {
    "slideshow": {
     "slide_type": "subslide"
    }
   },
   "outputs": [],
   "source": [
    "w = -400:400;\n",
    "mHlp = 1./(sqrt(1 + (w./wc).^4));\n",
    "plot(w,mHlp)\n",
    "grid\n",
    "ylabel('|H_B(j\\omega)|')\n",
    "title('Magnitude Frequency Response for 2nd-Order LP Butterworth Filter (\\omega_c = 100 rad/s)')\n",
    "xlabel('Radian Frequency \\omega [rad/s]')\n",
    "text(100,0.1,'\\omega_c')\n",
    "text(-100,0.1,'-\\omega_c')\n",
    "hold on\n",
    "plot([-400,-100,-100,100,100,400],[0,0,1,1,0,0],'r:')\n",
    "hold off"
   ]
  },
  {
   "cell_type": "markdown",
   "id": "00ac7281",
   "metadata": {
    "slideshow": {
     "slide_type": "subslide"
    }
   },
   "source": [
    "Bode plot"
   ]
  },
  {
   "cell_type": "code",
   "execution_count": null,
   "id": "29fb7da1",
   "metadata": {
    "slideshow": {
     "slide_type": "subslide"
    }
   },
   "outputs": [],
   "source": [
    "bode(H)\n",
    "grid\n",
    "title('Bode-plot of Butterworth 2nd-Order Butterworth Low Pass Filter')"
   ]
  },
  {
   "cell_type": "markdown",
   "id": "fb5e4aff",
   "metadata": {
    "slideshow": {
     "slide_type": "notes"
    }
   },
   "source": [
    "Note that the attentuation of the filter is flat at 0 dB in the pass-band at frequencies below the cut-off frequency $\\omega < \\omega_c$; has a value of $-3$ dB at the cut-off frquency $\\omega = \\omega_c$; and has a \"roll-off\" (rate of decrease) of $N\\times 20$ dB/decade in the stop-band. \n",
    "\n",
    "In this case, $N=2$, and $\\omega_c = 100$ rad/s so the attenuation is -40 dB at $\\omega = 10\\omega_c = 1,000$ rad/s and $\\omega = -80$ dB at $\\omega = 100\\omega_c = 10,000$ rad/s.\n",
    "\n",
    "The phase is $0^\\circ$ at $\\omega = 0$; $N\\times 90^\\circ$ at $\\omega = \\infty$; and $N\\times 45^\\circ$ and $\\omega = \\omega_c$."
   ]
  },
  {
   "cell_type": "markdown",
   "id": "eaf21501",
   "metadata": {
    "slideshow": {
     "slide_type": "slide"
    }
   },
   "source": [
    "### Example 8\n",
    "\n",
    "Determine the impulse and step response of a butterworth low-pass filter.\n",
    "\n",
    "You will find this Fourier transform pair useful:\n",
    "\n",
    "$$e^{-at}\\sin\\omega_0 t\\;u_0(t) \\Leftrightarrow \\frac{\\omega_0}{(j\\omega + a)^2+\\omega_0^2}$$"
   ]
  },
  {
   "cell_type": "markdown",
   "id": "dd7f8773",
   "metadata": {
    "slideshow": {
     "slide_type": "notes"
    }
   },
   "source": [
    "#### Solution to example 8\n",
    "\n",
    "<pre style=\"border: 2px solid blue\">\n",
    "\n",
    "\n",
    "\n",
    "\n",
    "\n",
    "\n",
    "\n",
    "\n",
    "\n",
    "\n",
    "\n",
    "\n",
    "\n",
    "\n",
    "\n",
    "\n",
    "\n",
    "\n",
    "\n",
    "\n",
    "\n",
    "\n",
    "\n",
    "\n",
    "</pre>"
   ]
  },
  {
   "cell_type": "markdown",
   "id": "590fcad3",
   "metadata": {
    "slideshow": {
     "slide_type": "subslide"
    }
   },
   "source": [
    "Impulse response"
   ]
  },
  {
   "cell_type": "code",
   "execution_count": null,
   "id": "f834d7e9",
   "metadata": {
    "slideshow": {
     "slide_type": "subslide"
    }
   },
   "outputs": [],
   "source": [
    "impulse(H,0.1)\n",
    "grid\n",
    "title('Impulse Response of 2nd-Order Butterworth Low Pass Filter')"
   ]
  },
  {
   "cell_type": "markdown",
   "id": "b753d196",
   "metadata": {
    "slideshow": {
     "slide_type": "subslide"
    }
   },
   "source": [
    "Step response"
   ]
  },
  {
   "cell_type": "code",
   "execution_count": null,
   "id": "8fc92e91",
   "metadata": {
    "slideshow": {
     "slide_type": "subslide"
    }
   },
   "outputs": [],
   "source": [
    "step(H,0.1)\n",
    "title('Step Response of Butterworth 2nd-Order Butterworth Low Pass Filter')\n",
    "grid\n",
    "text(0.008,1,'s_B(t) for \\omega_c = 100 rad/s')"
   ]
  },
  {
   "cell_type": "markdown",
   "id": "7b9caad7",
   "metadata": {
    "slideshow": {
     "slide_type": "slide"
    }
   },
   "source": [
    "## High-pass filter (HPF)\n",
    "\n",
    "An ideal highpass filter cuts-off frequencies lower than its *cutoff frequency*, $\\omega_c$.\n",
    "\n",
    "$$H_{\\rm{hp}}(\\omega ) = \\left\\{ {\\begin{array}{*{20}{c}}\n",
    "{0,}&{|\\omega |{\\kern 1pt} \\, \\le {\\omega _c}}\\\\\n",
    "{1,}&{|\\omega |{\\kern 1pt} \\, > {\\omega _c}}\n",
    "\\end{array}} \\right.$$"
   ]
  },
  {
   "cell_type": "markdown",
   "id": "dba23391",
   "metadata": {
    "slideshow": {
     "slide_type": "subslide"
    }
   },
   "source": [
    "### Frequency response of an ideal HPF\n",
    "\n",
    "![Frequency response of an ideal HPF](./pictures/ideal_hpf.png)"
   ]
  },
  {
   "cell_type": "markdown",
   "id": "d6a17c88",
   "metadata": {
    "slideshow": {
     "slide_type": "slide"
    }
   },
   "source": [
    "### Responses\n",
    "\n",
    "**Frequency response**\n",
    "\n",
    "$$H_{\\mathrm{hp}}(\\omega)=1-H_{\\mathrm{lp}}(\\omega)$$\n",
    "\n",
    "**Impulse response**\n",
    "\n",
    "$$h_{\\mathrm{hp}}(t)=\\delta(t)-h_{\\mathrm{lp}}(t)$$"
   ]
  },
  {
   "cell_type": "markdown",
   "id": "550f6d36",
   "metadata": {
    "slideshow": {
     "slide_type": "slide"
    }
   },
   "source": [
    "### Example 9\n",
    "\n",
    "Determine the frequency response of a 2nd-order butterworth highpass filter"
   ]
  },
  {
   "cell_type": "markdown",
   "id": "a11d3207",
   "metadata": {
    "slideshow": {
     "slide_type": "notes"
    }
   },
   "source": [
    "#### Solution to example 9\n",
    "\n",
    "<pre style=\"border: 2px solid blue\">\n",
    "\n",
    "\n",
    "\n",
    "\n",
    "\n",
    "\n",
    "\n",
    "\n",
    "\n",
    "\n",
    "\n",
    "\n",
    "\n",
    "\n",
    "\n",
    "\n",
    "\n",
    "\n",
    "\n",
    "\n",
    "\n",
    "\n",
    "\n",
    "\n",
    "</pre>"
   ]
  },
  {
   "cell_type": "markdown",
   "id": "75be2f78",
   "metadata": {
    "slideshow": {
     "slide_type": "subslide"
    }
   },
   "source": [
    "Magnitude frequency response"
   ]
  },
  {
   "cell_type": "code",
   "execution_count": null,
   "id": "03ef46b0",
   "metadata": {
    "slideshow": {
     "slide_type": "subslide"
    }
   },
   "outputs": [],
   "source": [
    "w = -400:400;\n",
    "plot(w,1-mHlp)\n",
    "grid\n",
    "ylabel('|H_B(j\\omega)|')\n",
    "title('Magnitude Frequency Response for 2nd-Order HP Butterworth Filter (\\omega_c = 100 rad/s)')\n",
    "xlabel('Radian Frequency \\omega [rad/s]')\n",
    "text(100,0.9,'\\omega_c')\n",
    "text(-100,0.9,'-\\omega_c')\n",
    "hold on\n",
    "plot([-400,-100,-100,100,100,400],[0,0,1,1,0,0],'r:')\n",
    "hold off"
   ]
  },
  {
   "cell_type": "markdown",
   "id": "a2419bd3",
   "metadata": {
    "slideshow": {
     "slide_type": "subslide"
    }
   },
   "source": [
    "High-pass filter"
   ]
  },
  {
   "cell_type": "code",
   "execution_count": null,
   "id": "9fcb8673",
   "metadata": {
    "slideshow": {
     "slide_type": "subslide"
    }
   },
   "outputs": [],
   "source": [
    "Hhp = 1 - H\n",
    "bode(Hhp)\n",
    "grid\n",
    "title('Bode-plot of Butterworth 2nd-Order Butterworth High Pass Filter')"
   ]
  },
  {
   "cell_type": "markdown",
   "id": "1ab4aded",
   "metadata": {
    "slideshow": {
     "slide_type": "slide"
    }
   },
   "source": [
    "## Band-pass filter (BPF)\n",
    "\n",
    "An ideal bandpass filter cuts-off frequencies lower than its first *cutoff frequency* $\\omega_{c1}$, and higher than its second *cutoff frequency* $\\omega_{c2}$.\n",
    "\n",
    "$$H_{\\rm{bp}}(\\omega ) = \\left\\{ {\\begin{array}{*{20}{c}}\n",
    "{1,}&\\omega _{c1} < \\,|\\omega |\\, < \\omega _{c2}\\\\\n",
    "{0,}&\\rm{otherwise}\n",
    "\\end{array}} \\right.$$"
   ]
  },
  {
   "cell_type": "markdown",
   "id": "0bd904b7",
   "metadata": {
    "slideshow": {
     "slide_type": "subslide"
    }
   },
   "source": [
    "### Frequency response of an ideal BPF\n",
    "\n",
    "![Frequency response of an ideal BPF](./pictures/bbpmfr.png)"
   ]
  },
  {
   "cell_type": "markdown",
   "id": "0b2c2517",
   "metadata": {
    "slideshow": {
     "slide_type": "subslide"
    }
   },
   "source": [
    "### Bandpass filter design\n",
    "\n",
    "A bandpass filter can be obtained by multiplying the frequency responses of a lowpass filter by a highpass filter."
   ]
  },
  {
   "cell_type": "markdown",
   "id": "baa34da0",
   "metadata": {
    "slideshow": {
     "slide_type": "fragment"
    }
   },
   "source": [
    "$$H_{\\mathrm{bp}}(\\omega) = H_{\\mathrm{hp}}(\\omega)H_{\\mathrm{lp}}(\\omega)$$"
   ]
  },
  {
   "cell_type": "markdown",
   "id": "a7cb847a",
   "metadata": {
    "slideshow": {
     "slide_type": "fragment"
    }
   },
   "source": [
    "* The highpass filter should have cut-off frequency of $\\omega_{c1}$"
   ]
  },
  {
   "cell_type": "markdown",
   "id": "2bf9452c",
   "metadata": {
    "slideshow": {
     "slide_type": "fragment"
    }
   },
   "source": [
    "* The lowpass filter should have cut-off frequency of $\\omega_{c2}$"
   ]
  },
  {
   "cell_type": "markdown",
   "id": "9ade2269",
   "metadata": {
    "slideshow": {
     "slide_type": "notes"
    }
   },
   "source": [
    "## Solutions\n",
    "\n",
    "Solutions to Examples 5-9 are captured as a PenCast which you will find attached to the Worked Solutions section of the [Week 7 Section](https://canvas.swansea.ac.uk/courses/16097/pages/worked-solutions-to-selected-week-7-problems?module_item_id=939107) of the Canvas course site or here [filters2.pdf](https://cpjobling.github.io/eg-247-textbook/fourier_transform/solutions/filters2.pdf)"
   ]
  }
 ],
 "metadata": {
  "jupytext": {
   "formats": "ipynb,md:myst",
   "text_representation": {
    "extension": ".md",
    "format_name": "myst",
    "format_version": 0.13,
    "jupytext_version": "1.11.5"
   }
  },
  "kernelspec": {
   "display_name": "MATLAB",
   "language": "matlab",
   "name": "imatlab"
  },
  "source_map": [
   15,
   21,
   31,
   37,
   43,
   49,
   55,
   61,
   67,
   73,
   79,
   90,
   96,
   102,
   106,
   122,
   134,
   142,
   158,
   168,
   172,
   203,
   209,
   240,
   246,
   277,
   281,
   285,
   293,
   297,
   305,
   309,
   328,
   332,
   342,
   350,
   360,
   391,
   395,
   405,
   409,
   420,
   431,
   437,
   449,
   455,
   486,
   490,
   508,
   512,
   523,
   534,
   540,
   546,
   550,
   554,
   558
  ]
 },
 "nbformat": 4,
 "nbformat_minor": 5
}