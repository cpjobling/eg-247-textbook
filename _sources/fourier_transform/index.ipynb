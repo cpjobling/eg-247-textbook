{
 "cells": [
  {
   "cell_type": "markdown",
   "id": "d45d7c6d",
   "metadata": {},
   "source": [
    "(unit4)=\n",
    "# Unit 4: Fourier Transform\n",
    "\n",
    "This chapter continues our coverage of **Fourier Analysis** with an introduction to the **Fourier Transform**.\n",
    "\n",
    "* **Fourier Series** is used when we are dealing with signals that are *periodic* in time. It is based on harmonics of the fundamental frequency $\\Omega_0$ of the periodic signal where the period $T = 2\\pi/\\Omega_0$.\n",
    "\n",
    "* The line spectrum occur at integer multiples of the fundamental frequency $k\\omega_0$ and is a *discrete* (or sampled) function of frequency.\n",
    "\n",
    "* As the period $T$ is increased, the distance between harmonics decreases because $\\Omega_0$ reduces.\n",
    "\n",
    "* In the limit $T\\to \\infty$, the signal becomes **aperiodic** and $k\\Omega_0 \\to \\omega$ which is a *continuous* function of frequency.\n",
    "\n",
    "This is the basis of the **Fourier Transform** which is very important as the basis for data transmission, signal filtering, and the determination of system frequency response.\n",
    "\n",
    "## Scope and Background Reading\n",
    "\n",
    "The material in this presentation and notes is based on Chapter 8 (Starting at Section 8.1) of Karris {cite}`karris`. I also used Chapter 5 of {cite}`boulet` which unfortunately is no longer available as an e-book from the library.\n",
    "\n",
    "## Contents\n",
    "\n",
    "In this section of the course we will cover:\n",
    "\n",
    "* {ref}`ft1`\n",
    "* {ref}`ft2`\n",
    "* {ref}`ft3`\n",
    "* {ref}`ft4`\n"
   ]
  },
  {
   "cell_type": "code",
   "execution_count": null,
   "id": "a67ea0c1",
   "metadata": {},
   "outputs": [],
   "source": []
  }
 ],
 "metadata": {
  "kernelspec": {
   "display_name": "Python 3 (ipykernel)",
   "language": "python",
   "name": "python3"
  },
  "language_info": {
   "codemirror_mode": {
    "name": "ipython",
    "version": 3
   },
   "file_extension": ".py",
   "mimetype": "text/x-python",
   "name": "python",
   "nbconvert_exporter": "python",
   "pygments_lexer": "ipython3",
   "version": "3.11.6"
  }
 },
 "nbformat": 4,
 "nbformat_minor": 5
}
