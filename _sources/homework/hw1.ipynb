{
 "cells": [
  {
   "cell_type": "markdown",
   "id": "bf32652e",
   "metadata": {
    "slideshow": {
     "slide_type": "slide"
    }
   },
   "source": [
    "# Homework 1\n",
    "\n",
    "## Elementary signals\n",
    "\n",
    "We will distribute this PDF to the _Homework_ section of your personal section of the **OneNote Class Notebook** then you can use the *ink feature* (if supported) to hand-write or sketch your answers.\n",
    "\n",
    "1. Show that the waveform shown below can be represented by the function\n",
    "\n",
    "$$\n",
    "       v(t) = (2t + 1)u_0(t)-2(t-1)u_0(t-1)-tu_0(t-2)+(t-3)u_0(t-3).\n",
    "$$\n",
    "   \n",
    "   ![The waveform for Question 1](./pictures/example1.png)\n",
    "    \n",
    "   \n",
    "2. Evaluate each of the following functions:\n",
    "   1. $\\sin t\\, \\delta(t - \\frac{\\pi}{6})$;\n",
    "   2. $\\cos 2t\\, \\delta(t - \\frac{\\pi}{4})$;\n",
    "   3. $\\cos^2 t\\, \\delta(t - \\frac{\\pi}{2})$;\n",
    "   4. $\\tan 2t\\, \\delta(t - \\frac{\\pi}{8})$;\n",
    "   5. $\\int_{-\\infty}^{+\\infty} t^2\\,e^{-t}\\, \\delta(t - 2)\\, dt$;\n",
    "   6. $\\sin^2 t\\,\\delta'(t - \\frac{\\pi}{2}).$\n",
    "\n",
    "   Check your answers with Matlab.\n",
    "\n",
    "3. Consider the waveform shown below.\n",
    "   1. Express the voltage waveform $v(t)$ shown below as a sum of unit step funtions for the time interval $0 < t < 7\\,\\mathrm{s}.$\n",
    "   2. Use this result to compute the time derivative of $v(t)$, and sketch its waveform. \n",
    "   \n",
    "   ![The waveform for Question 3](./pictures/hw1.png)"
   ]
  }
 ],
 "metadata": {
  "jupytext": {
   "formats": "ipynb,md:myst",
   "text_representation": {
    "extension": ".md",
    "format_name": "myst",
    "format_version": 0.13,
    "jupytext_version": "1.14.1"
   }
  },
  "kernelspec": {
   "display_name": "Python 3 (ipykernel)",
   "language": "python",
   "name": "python3"
  },
  "language_info": {
   "codemirror_mode": {
    "name": "ipython",
    "version": 3
   },
   "file_extension": ".py",
   "mimetype": "text/x-python",
   "name": "python",
   "nbconvert_exporter": "python",
   "pygments_lexer": "ipython3",
   "version": "3.9.13"
  },
  "source_map": [
   15
  ]
 },
 "nbformat": 4,
 "nbformat_minor": 5
}