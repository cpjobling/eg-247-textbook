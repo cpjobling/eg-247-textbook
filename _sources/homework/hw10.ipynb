{
 "cells": [
  {
   "cell_type": "markdown",
   "metadata": {},
   "source": [
    "# Homework 10\n",
    "\n",
    "## Discrete Fourier Transform and the Fast-Fourier Transform\n",
    "\n",
    "### Discrete Fourier Transform\n",
    "\n",
    "1. Try Exercise 1 and Exercise 2 in section <a href=\"https://ebookcentral.proquest.com/lib/swansea-ebooks/reader.action?docID=3384197&ppg=421\">10.8</a> of Karris{cite}`karris` by hand.</li>\n",
    "\n",
    "2. The eight-point\tDiscrete Fourier Transform (DFT) of the\tfunction:\n",
    "   \n",
    "   $$\n",
    "     x[n] = \\left\\{\n",
    "         \\begin{array}{r@{\\quad}l}\n",
    "             n & 0 \\le n \\le 4\\\\\n",
    "             0 & \\mathrm{otherwise}\n",
    "         \\end{array}\n",
    "     \\right.\n",
    "   $$\n",
    "\n",
    "   is given by\n",
    "\n",
    "   \\begin{equation}\n",
    "      X[m] = \\left[ 10,-5.41-j4.83, 2 + j2, -2.59-j0.83, 2, -2.59+j0.83, 2-j2, -5.41+j4.83\\right].\n",
    "   \\end{equation}\n",
    "    \n",
    "   1. Sketch the time sequence $x[n]$.\n",
    "\n",
    "   2. Use the DFT formula \n",
    "\n",
    "      \\begin{equation}\n",
    "           X[m] = \\sum_{n=0}^{7}\\,x[n]\\exp{\\left(-j\\left(\\frac{2\\pi m}{8}\\right)n\\right)} = \\sum_{n=0}^{7}\\,x[n]W_8^{nm}\n",
    "      \\end{equation}\n",
    "\n",
    "      to confirm that the value of $X[4]=2$.\n",
    "\n",
    "   3. Use the\tDFT\tformula\tgiven to confirm the DC value of the signal.\n",
    "    \n",
    "   4. Confirm that the correct value of $x[1]$ is returned by the inverse DFT\n",
    "\n",
    "      \\begin{equation}\n",
    "        x[n] = \\frac{1}{8}\\sum_{m=0}^{7}\\,X[m]\\exp{\\left(j\\left(\\frac{2\\pi n}{8}\\right)m\\right)} = \\frac{1}{8}\\sum_{m=0}^{7}\\,X[m]W_{8}^{-nm}.\n",
    "       \\end{equation}\n",
    "\n",
    "3. If\twe\twanted\tto\tcompute\ta 1024 point DFT from a\tsampled-data signal, how much\tspeed-up could we expect to achieve\tusing the FFT rather than the standard formula for the\tDFT?\n",
    "\n",
    "4. Given that direct convolution of two\tdigital\tsequences takes order $n^2$ floating point operations, is taking the FFT of the two 1024 point signals, multiplying them and taking\tthe\tinverse\tFFT\tmore efficient than direct convolution?\tIf not, for how\tmany samples,\twould using\tthe\tFFT\tbe more efficient than direct convolution?\n",
    "\n",
    "\n",
    "## Solutions\n",
    "\n",
    "1. See section <a href=\"https://ebookcentral.proquest.com/lib/swansea-ebooks/reader.action?docID=3384197&ppg=421\">10.9</a> of Karris{cite}`karris`\n",
    "\n",
    "2. *Hints*:\n",
    "   1. Sketch a point or stem plot with x-axis $n$ and y-axis $x[n]$.\n",
    "    \n",
    "   2. Compute $X[4]$ noting that the exponential term for $m = 4$ is $-1$.\n",
    "    \n",
    "   3. Compute $X[0]$ but note that the exponential term is $1$ for all $n$ so this is simply the sum of $x[n]$.\n",
    "\n",
    "3. FFT takes 9.8% of the time or is 102\ttimes faster than DFT.\n",
    "\n",
    "4. Convolution of two 1024 real sequences takes 1,048,576 real\toperations.\tFFT\tof each\tsignal takes 10,240 complex\toperations,\tmultiplication of two signals in complex domain\ttakes 1,024\tcomplex\tmultiplications, inverse FFT is\t10,240 more. So\t FFT method\tis around 31,000 complex operations. Even if taking\tinto account difference\tbetween complex\tand\treal arithmetic, FFT is\torder 10 times faster (and needs less memory) than convolution.\n",
    "\n",
    "## Reference\n",
    "\n",
    "See [Bibliograhy](/zbib)."
   ]
  }
 ],
 "metadata": {
  "kernelspec": {
   "display_name": "Matlab",
   "language": "matlab",
   "name": "matlab"
  },
  "language_info": {
   "codemirror_mode": "octave",
   "file_extension": ".m",
   "help_links": [
    {
     "text": "MetaKernel Magics",
     "url": "https://metakernel.readthedocs.io/en/latest/source/README.html"
    }
   ],
   "mimetype": "text/x-octave",
   "name": "matlab",
   "version": "0.16.9"
  }
 },
 "nbformat": 4,
 "nbformat_minor": 4
}
