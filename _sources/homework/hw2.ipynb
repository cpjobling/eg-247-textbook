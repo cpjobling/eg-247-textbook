{
 "cells": [
  {
   "cell_type": "markdown",
   "metadata": {
    "slideshow": {
     "slide_type": "slide"
    }
   },
   "source": [
    "# Homework 2\n",
    "\n",
    "## The Laplace and Inverse Laplace Transforms\n",
    "\n",
    "This questions are based on the end of Chapter 2 and Chapter 3 questions in Karris{cite}`karris`.\n",
    "\n",
    "### The Laplace Transform\n",
    "\n",
    "We will distribute this PDF to the _Homework_ section of your personal section of the **OneNote Class Notebook** then you can use the *ink feature* (if supported) to hand-write or sketch your answers. You may wish to use MATLAB to solve or check your solutuons to some of these problems. You may include your MATLAB solutions as extra items in your records for [Lab 2](../labs/lab02/index).\n",
    "\n",
    "<i>Hint</i>: $u_0(t)$ is used as a \"gating function\" which changes the limits on the Laplace transform integral.\n",
    "\n",
    "1. Derive the Laplace transformation of the following time domain signals: \n",
    "   1. $13$;\n",
    "   2. $5u_0(t)$;\n",
    "   3. $22u_0(t - 10)$;\n",
    "   4. $6tu_0(t)$;\n",
    "   5. $3t^4u_0(t)$.\n",
    "   \n",
    "2. Derive the Laplace transformation of the following time domain signals: \n",
    "   1. $j10$;\n",
    "   2. $j6\\angle -90^\\circ$;\n",
    "   3. $4e^{-4t}u_0(t)$;\n",
    "   4. $7t^6e^{-4t}u_0(t)$;\n",
    "   5. $14\\delta(t)$.\n",
    "   \n",
    "3. Derive the Laplace transformation of the following time domain signals: \n",
    "   1. $\\left(t^3 + 4t^2 + 3t + 5\\right)u_0(t)$;\n",
    "   2. $3(3t-2)\\delta(t-3)$;\n",
    "   4. $\\left(2\\sin 4t\\right)u_0(t)$;\n",
    "   5. $\\left(7\\cos5t\\right)u_0(t)$.\n",
    "   \n",
    "4. Derive the Laplace transformation of the following time domain signals: \n",
    "   1. $3t\\left(\\sin 5t\\right)u_0(t)$;\n",
    "   2. $2t^2\\left(\\cos 3t\\right)u_0(t)$;\n",
    "   3. $2e^{-5t}\\sin 5t$;\n",
    "   4. $8e^{-3t}\\cos 4t$;\n",
    "   5. $\\left(\\cos t\\right)\\delta(t-\\pi/4)$.\n",
    "\n",
    "5. Derive the Laplace transformation of the following time domain signals: \n",
    "   1. $5tu_0(t-3)$;\n",
    "   2. $\\left(2t^2 - 5t + 4\\right)u_0(t-3)$;\n",
    "   3. $(t-3)e^{-2t}u_0(t-2)$.\n",
    "   \n",
    "6. Derive the Laplace transformation of the following derivatives: \n",
    "   1. $$\\frac{d}{dt}\\left(\\sin 3t\\right);$$\n",
    "   2. $$\\frac{d}{dt}\\left(3e^{-4t}\\right).$$"
   ]
  },
  {
   "cell_type": "markdown",
   "metadata": {},
   "source": [
    "### The Inverse Laplace Transform\n",
    "\n",
    "Find the inverse Laplace transform of the following:\n",
    "\n",
    "1. $$\\frac{5}{s+2}$$\n",
    "2. $$\\frac{2}{(s+2)(s+4)}$$\n",
    "3. $$\\frac{6}{(s+2)^2}$$\n",
    "4. $$\\frac{4s+2}{s^2+4s+85}$$\n"
   ]
  },
  {
   "cell_type": "markdown",
   "metadata": {},
   "source": [
    "### Reference\n",
    "\n",
    "See [Bibliography](/zbib).\n"
   ]
  }
 ],
 "metadata": {
  "kernelspec": {
   "display_name": "Python 3",
   "language": "python",
   "name": "python3"
  },
  "language_info": {
   "codemirror_mode": {
    "name": "ipython",
    "version": 3
   },
   "file_extension": ".py",
   "mimetype": "text/x-python",
   "name": "python",
   "nbconvert_exporter": "python",
   "pygments_lexer": "ipython3",
   "version": "3.7.7"
  }
 },
 "nbformat": 4,
 "nbformat_minor": 1
}
