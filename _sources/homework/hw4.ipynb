{
 "cells": [
  {
   "cell_type": "markdown",
   "id": "9a34d62a",
   "metadata": {
    "slideshow": {
     "slide_type": "slide"
    }
   },
   "source": [
    "(homework4)=\n",
    "# Homework 4: Fourier Series\n",
    "\n",
    "\n",
    "1. Compute the exponential Fourier series for the wave forms shown in [Worksheet 2](../fourier_series/1/worksheet2).\n",
    "2. Compute the exponential Fourier series of a full-wave rectified sinusoid. \n",
    "    a. Give the power spectrum for this signal \n",
    "    b. estimate the total harmonic distortion for the first 7 harmonics. \n"
   ]
  }
 ],
 "metadata": {
  "kernelspec": {
   "display_name": "Python 3 (ipykernel)",
   "language": "python",
   "name": "python3"
  },
  "language_info": {
   "codemirror_mode": {
    "name": "ipython",
    "version": 3
   },
   "file_extension": ".py",
   "mimetype": "text/x-python",
   "name": "python",
   "nbconvert_exporter": "python",
   "pygments_lexer": "ipython3",
   "version": "3.11.6"
  }
 },
 "nbformat": 4,
 "nbformat_minor": 5
}
