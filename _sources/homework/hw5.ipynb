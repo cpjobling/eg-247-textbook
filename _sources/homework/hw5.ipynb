{
 "cells": [
  {
   "cell_type": "markdown",
   "id": "ddf6c825",
   "metadata": {},
   "source": [
    "(homework5)=\n",
    "# Homework 5: Fourier Transforms\n",
    "\n",
    "* Review the worked solutions that you will find as a number of \"PenCasts\" in the [Worked Solutions to Selected Week 6 Problems](https://canvas.swansea.ac.uk/courses/44853/pages/worked-solutions-to-selected-week-6-problems) page on Canvas. \n",
    "* Attempt Questions 1—6 of the End of Chapter Problems ([Section 8.10](https://ebookcentral.proquest.com/lib/swansea-ebooks/reader.action?docID=44853&ppg=315)) in Karris{cite}`karris`."
   ]
  }
 ],
 "metadata": {
  "kernelspec": {
   "display_name": "Python 3 (ipykernel)",
   "language": "python",
   "name": "python3"
  },
  "language_info": {
   "codemirror_mode": {
    "name": "ipython",
    "version": 3
   },
   "file_extension": ".py",
   "mimetype": "text/x-python",
   "name": "python",
   "nbconvert_exporter": "python",
   "pygments_lexer": "ipython3",
   "version": "3.11.6"
  }
 },
 "nbformat": 4,
 "nbformat_minor": 5
}
