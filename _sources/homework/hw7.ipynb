{
 "cells": [
  {
   "cell_type": "markdown",
   "id": "5ff27a38",
   "metadata": {},
   "source": [
    "(homework7)=\n",
    "# Homework 7: Sampling Theory and the Z-Transform\n",
    "\n",
    "### Sampling Theory\n",
    "\n",
    "You should take the scripts home ([to be found here](https://github.com/cpjobling/eg-247-textbook/tree/master/dt_systems/1/matlab)) and play with them.\n",
    "\n",
    "* Try increasing the sampling frequency: 8000 Hz, 11025 Hz, 22050 Hz, 44100 Hz, 48000 Hz, and 96000 Hz are supported by most PC sound cards.\n",
    "* Try increasing the bits per sample: 8, 16, 24 are available.\n",
    "\n",
    "### Z-Transform\n",
    "\n",
    "Problems 1 to 3 in [Section 9.10 Exercises](https://ebookcentral.proquest.com/lib/swansea-ebooks/reader.action?docID=44853&ppg=329) of Karris{cite}`karris` explore the z-Transform."
   ]
  }
 ],
 "metadata": {
  "kernelspec": {
   "display_name": "Python 3 (ipykernel)",
   "language": "python",
   "name": "python3"
  },
  "language_info": {
   "codemirror_mode": {
    "name": "ipython",
    "version": 3
   },
   "file_extension": ".py",
   "mimetype": "text/x-python",
   "name": "python",
   "nbconvert_exporter": "python",
   "pygments_lexer": "ipython3",
   "version": "3.11.6"
  }
 },
 "nbformat": 4,
 "nbformat_minor": 5
}
