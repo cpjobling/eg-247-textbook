{
 "cells": [
  {
   "cell_type": "markdown",
   "id": "6ddab316",
   "metadata": {},
   "source": [
    "(homework8)=\n",
    "# Homework 8: Inverse Z-Transform and Models of Discrete-Time Systems\n",
    "\n",
    "### The Inverse Z-Transform\n",
    "\n",
    "Attempt the end of the chapter exercises 4-7 ([Section 9.10](https://ebookcentral.proquest.com/lib/swansea-ebooks/reader.action?docID=44853&ppg=377)) from Karris{cite}`karris`.\n",
    "\n",
    "### Models of Discrete-Time Systems\n",
    "\n",
    "You should be able to tackle the remaining end of chapter exercises 8-11 ([Section 9.10](https://ebookcentral.proquest.com/lib/swansea-ebooks/reader.action?docID=44853&ppg=377)) from Karris{cite}`karris`. \n",
    "\n",
    "### Solutions\n",
    "\n",
    "Don't look at the answers in [section 9.11](https://ebookcentral.proquest.com/lib/swansea-ebooks/reader.action?docID=44853&ppg=389) of Karris{cite}`karris` until you have attempted the problems.\n",
    "\n",
    "\n",
    "## Reference\n",
    "\n",
    "See [Bibliography](/zbib)."
   ]
  }
 ],
 "metadata": {
  "kernelspec": {
   "display_name": "Python 3 (ipykernel)",
   "language": "python",
   "name": "python3"
  },
  "language_info": {
   "codemirror_mode": {
    "name": "ipython",
    "version": 3
   },
   "file_extension": ".py",
   "mimetype": "text/x-python",
   "name": "python",
   "nbconvert_exporter": "python",
   "pygments_lexer": "ipython3",
   "version": "3.11.6"
  }
 },
 "nbformat": 4,
 "nbformat_minor": 5
}
