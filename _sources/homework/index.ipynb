{
 "cells": [
  {
   "cell_type": "markdown",
   "id": "05e2442f",
   "metadata": {},
   "source": [
    "# Homework\n",
    "\n",
    "* {ref}`homework1`\n",
    "* {ref}`homework2`\n",
    "* {ref}`homework3`\n",
    "* {ref}`homework4`\n",
    "* {ref}`homework5`\n",
    "* {ref}`homework6`\n",
    "* {ref}`homework7`\n",
    "* {ref}`homework8`\n",
    "* {ref}`homework9`"
   ]
  }
 ],
 "metadata": {
  "jupytext": {
   "cell_metadata_filter": "-all",
   "notebook_metadata_filter": "-all"
  },
  "kernelspec": {
   "display_name": "Python 3 (ipykernel)",
   "language": "python",
   "name": "python3"
  },
  "language_info": {
   "codemirror_mode": {
    "name": "ipython",
    "version": 3
   },
   "file_extension": ".py",
   "mimetype": "text/x-python",
   "name": "python",
   "nbconvert_exporter": "python",
   "pygments_lexer": "ipython3",
   "version": "3.11.6"
  }
 },
 "nbformat": 4,
 "nbformat_minor": 5
}
