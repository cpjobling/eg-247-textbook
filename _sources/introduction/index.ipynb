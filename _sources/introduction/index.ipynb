{
 "cells": [
  {
   "cell_type": "markdown",
   "id": "41b5424a",
   "metadata": {
    "slideshow": {
     "slide_type": "slide"
    },
    "tags": []
   },
   "source": [
    "# Unit 1: Introducing Digital Signal Processing"
   ]
  },
  {
   "cell_type": "markdown",
   "id": "3a9b9b67",
   "metadata": {
    "slideshow": {
     "slide_type": "notes"
    },
    "tags": []
   },
   "source": [
    "## Colophon\n",
    "\n",
    "An annotatable copy of the notes for this presentation is available as [**Worksheet 1**](worksheet1).\n",
    "\n",
    "- The [Jupytext](https://jupytext.readthedocs.io/en/latest/index.html) source code for this page is [introduction/index.md](https://github.com/cpjobling/eg-247-textbook/blob/master/introduction/index.md).\n",
    "\n",
    "- You can view the notes for this presentation as a webpage ([HTML](https://cpjobling.github.io/eg-247-textbook/introduction/index.html)).\n",
    "\n",
    "- This page is downloadable as a [PDF](https://cpjobling.github.io/eg-247-textbook/introduction/introduction.pdf) file."
   ]
  },
  {
   "cell_type": "markdown",
   "id": "71716b99",
   "metadata": {
    "slideshow": {
     "slide_type": "slide"
    }
   },
   "source": [
    "## Signals and Systems for Dummies\n",
    "\n",
    "Signals and Systems for Dummies (**SS4D**) {cite}`ss4d` provides a useful introduction to the topics that will be covered in this module and it is in the [Reading List](https://eu.alma.exlibrisgroup.com/leganto/readinglist/searchlists/27328240030002417) as a _recommended text_. I have based this presentation on Chapter 1 which is available as a [downloadable PDF](https://www.dummies.com/store/product/Signals-and-Systems-For-Dummies.productCd-111847581X.html) from the publishers.\n",
    "\n",
    "You should read Chapter 1 of SS4D in conjunction with the notes for this presentation."
   ]
  },
  {
   "cell_type": "markdown",
   "id": "f30d2b5e",
   "metadata": {
    "slideshow": {
     "slide_type": "notes"
    }
   },
   "source": [
    "Note that Signals and Systems for Dummies is available as an e-book from the [University Library](https://whel-primo.hosted.exlibrisgroup.com/primo_library/libweb/action/dlDisplay.do?vid=44WHELF_SWA_VU1&search_scope=LSCOP_44WHELF_SWA_ALMA_DS&docId=44WHELF_SWA_ALMA_DS5177422270002417&fn=permalink)."
   ]
  },
  {
   "cell_type": "markdown",
   "id": "5ab69a5f",
   "metadata": {
    "slideshow": {
     "slide_type": "slide"
    }
   },
   "source": [
    "## Topics\n",
    "\n",
    "- [Continuous-time Signals](ctsignals)\n",
    "- [Continuous-time Systems](ctsystems)\n",
    "- [Discrete-time Signals](dtsignals)\n",
    "- [Discrete-time Systems](dtsystems)\n",
    "- [Signal Classifications](sigclass)\n",
    "- [Domains for Signals](domains)\n",
    "- [Systems Thinking and Systems Design](systems_thinking)"
   ]
  },
  {
   "cell_type": "markdown",
   "id": "c2a8cea3",
   "metadata": {
    "slideshow": {
     "slide_type": "slide"
    }
   },
   "source": [
    "(ctsignals)=\n",
    "\n",
    "## Continuous-time signals\n",
    "\n",
    "Continuous signals are represented mathematically by functions which vary continuously with time."
   ]
  },
  {
   "cell_type": "markdown",
   "id": "3c5c7c49",
   "metadata": {
    "slideshow": {
     "slide_type": "subslide"
    }
   },
   "source": [
    "Sinusoidal signals (e.g. AC) are pretty fundamental in electrical engineering. The mathematical model of a sinusoidal signal is:\n",
    "\n",
    "$$x(t) = A \\cos (2\\pi f_0 t - \\phi).$$"
   ]
  },
  {
   "cell_type": "markdown",
   "id": "fbd7b31a",
   "metadata": {
    "slideshow": {
     "slide_type": "subslide"
    }
   },
   "source": [
    "### Exercise\n",
    "\n",
    "#### First attempt\n",
    "\n",
    "For this expression, we wish to match each of the symbols to its definition.\n",
    "\n",
    "Without computing anything, see if you can complete this table.\n",
    "\n",
    "| Symbol     | Definition         |\n",
    "| ---------- | ------------------ |\n",
    "| $A$        | Frequency in rad/s |\n",
    "| $f_0$      | Amplitude          |\n",
    "| $\\phi$     | Frequency in Hz    |\n",
    "| $2\\pi f_0$ | Phase in radians   |"
   ]
  },
  {
   "cell_type": "markdown",
   "id": "1117c17c",
   "metadata": {
    "slideshow": {
     "slide_type": "subslide"
    }
   },
   "source": [
    "### Gaining insight using computers\n",
    "\n",
    "To help us answer these questions, let's use our Mathematical tools to plot a signal like this and explore it. The example we will use is from _Signals and Systems for Dummies_ (SS4D: page 12):\n",
    "\n",
    "$$3\\cos(2\\pi\\cdot 2t - 3\\pi/4)$$"
   ]
  },
  {
   "cell_type": "markdown",
   "id": "e9373060",
   "metadata": {
    "slideshow": {
     "slide_type": "subslide"
    }
   },
   "source": [
    "#### Wolfram Alpha\n",
    "\n",
    "Here's the link: <https://www.wolframalpha.com>\n",
    "\n",
    "Paste this into the search box\n",
    "\n",
    "    plot 3 cos(2 pi 2 t - 3 pi/4)\n",
    "\n",
    "Try changing the numbers to gain insight."
   ]
  },
  {
   "cell_type": "markdown",
   "id": "74b2e603",
   "metadata": {
    "slideshow": {
     "slide_type": "subslide"
    }
   },
   "source": [
    "#### MATLAB\n",
    "\n",
    "In MATLAB we would need to tackle this by breaking down the steps."
   ]
  },
  {
   "cell_type": "code",
   "execution_count": 22,
   "id": "6b7b2b53",
   "metadata": {
    "slideshow": {
     "slide_type": "subslide"
    }
   },
   "outputs": [],
   "source": [
    "% Make sure that we have a clean workspace\n",
    "clear all\n",
    "format compact\n",
    "setappdata(0, \"MKernel_plot_format\", 'svg')"
   ]
  },
  {
   "cell_type": "markdown",
   "id": "9a7c6ec9",
   "metadata": {
    "slideshow": {
     "slide_type": "subslide"
    }
   },
   "source": [
    "Define `t`"
   ]
  },
  {
   "cell_type": "code",
   "execution_count": 23,
   "id": "21e6f143",
   "metadata": {
    "slideshow": {
     "slide_type": "fragment"
    }
   },
   "outputs": [],
   "source": [
    "t = linspace(0, 1, 100);"
   ]
  },
  {
   "cell_type": "markdown",
   "id": "fca299cb",
   "metadata": {
    "slideshow": {
     "slide_type": "fragment"
    }
   },
   "source": [
    "Define `x`"
   ]
  },
  {
   "cell_type": "code",
   "execution_count": 24,
   "id": "0b7154fe",
   "metadata": {
    "slideshow": {
     "slide_type": "subslide"
    }
   },
   "outputs": [],
   "source": [
    "x = 3 * cos(2*pi*2*t - 3*pi/4);"
   ]
  },
  {
   "cell_type": "markdown",
   "id": "be3711ce",
   "metadata": {
    "slideshow": {
     "slide_type": "subslide"
    }
   },
   "source": [
    "Plot result and label plot"
   ]
  },
  {
   "cell_type": "code",
   "execution_count": 25,
   "id": "331076c4",
   "metadata": {
    "slideshow": {
     "slide_type": "subslide"
    }
   },
   "outputs": [
    {
     "data": {
      "image/svg+xml": [
       "<?xml version=\"1.0\"?>\n",
       "<!DOCTYPE svg PUBLIC '-//W3C//DTD SVG 1.0//EN'\n",
       "          'http://www.w3.org/TR/2001/REC-SVG-20010904/DTD/svg10.dtd'>\n",
       "<svg xmlns:xlink=\"http://www.w3.org/1999/xlink\" style=\"fill-opacity:1; color-rendering:auto; color-interpolation:auto; text-rendering:auto; stroke:black; stroke-linecap:square; stroke-miterlimit:10; shape-rendering:auto; stroke-opacity:1; fill:black; stroke-dasharray:none; font-weight:normal; stroke-width:1; font-family:'Dialog'; font-style:normal; stroke-linejoin:miter; font-size:12px; stroke-dashoffset:0; image-rendering:auto;\" width=\"560\" height=\"420\" xmlns=\"http://www.w3.org/2000/svg\"\n",
       "><!--Generated by the Batik Graphics2D SVG Generator--><defs id=\"genericDefs\"\n",
       "  /><g\n",
       "  ><defs id=\"defs1\"\n",
       "    ><clipPath clipPathUnits=\"userSpaceOnUse\" id=\"clipPath1\"\n",
       "      ><path d=\"M0 0 L560 0 L560 420 L0 420 L0 0 Z\"\n",
       "      /></clipPath\n",
       "      ><font horiz-adv-x=\"50.0\" id=\"font1\"\n",
       "      ><font-face ascent=\"95.200005\" descent=\"21.3\" units-per-em=\"100\" style=\"font-style:normal; font-family:Helvetica Neue; font-weight:normal;\"\n",
       "        /><missing-glyph horiz-adv-x=\"50.0\" d=\"M40.9 66.6 L10.2 66.6 L10.2 4.7 L40.9 4.7 ZM46 71.2 L46 0.1 L5.1 0.1 L5.1 71.2 Z\"\n",
       "        /><glyph unicode=\"0\" horiz-adv-x=\"55.6\" d=\"M13.2 34.9 Q13.2 37.5 13.25 40.65 Q13.3 43.8 13.75 46.95 Q14.2 50.1 15.05 53.1 Q15.9 56.1 17.55 58.35 Q19.2 60.6 21.7 62 Q24.2 63.4 27.8 63.4 Q31.4 63.4 33.9 62 Q36.4 60.6 38.05 58.35 Q39.7 56.1 40.55 53.1 Q41.4 50.1 41.85 46.95 Q42.3 43.8 42.35 40.65 Q42.4 37.5 42.4 34.9 Q42.4 30.9 42.15 25.95 Q41.9 21 40.55 16.65 Q39.2 12.3 36.2 9.3 Q33.2 6.3 27.8 6.3 Q22.4 6.3 19.4 9.3 Q16.4 12.3 15.05 16.65 Q13.7 21 13.45 25.95 Q13.2 30.9 13.2 34.9 ZM4.2 34.8 Q4.2 30.9 4.4 26.7 Q4.6 22.5 5.4 18.5 Q6.2 14.5 7.7 10.95 Q9.2 7.4 11.8 4.7 Q14.4 2 18.35 0.45 Q22.3 -1.1 27.8 -1.1 Q33.4 -1.1 37.3 0.45 Q41.2 2 43.8 4.7 Q46.4 7.4 47.9 10.95 Q49.4 14.5 50.2 18.5 Q51 22.5 51.2 26.7 Q51.4 30.9 51.4 34.8 Q51.4 38.7 51.2 42.9 Q51 47.1 50.2 51.1 Q49.4 55.1 47.9 58.7 Q46.4 62.3 43.8 65 Q41.2 67.7 37.25 69.3 Q33.3 70.9 27.8 70.9 Q22.3 70.9 18.35 69.3 Q14.4 67.7 11.8 65 Q9.2 62.3 7.7 58.7 Q6.2 55.1 5.4 51.1 Q4.6 47.1 4.4 42.9 Q4.2 38.7 4.2 34.8 Z\"\n",
       "        /><glyph unicode=\"1\" horiz-adv-x=\"55.6\" d=\"M35.6 0 L35.6 70.9 L29.1 70.9 Q28.4 66.9 26.5 64.3 Q24.6 61.7 21.85 60.2 Q19.1 58.7 15.7 58.15 Q12.3 57.6 8.7 57.6 L8.7 50.8 L27.1 50.8 L27.1 0 Z\"\n",
       "        /><glyph unicode=\".\" horiz-adv-x=\"27.8\" d=\"M8.3 11.1 L8.3 0 L19.4 0 L19.4 11.1 Z\"\n",
       "        /><glyph unicode=\"2\" horiz-adv-x=\"55.6\" d=\"M4.4 45.8 L12.9 45.8 Q12.8 49 13.55 52.15 Q14.3 55.3 16 57.8 Q17.7 60.3 20.35 61.85 Q23 63.4 26.7 63.4 Q29.5 63.4 32 62.5 Q34.5 61.6 36.35 59.9 Q38.2 58.2 39.3 55.85 Q40.4 53.5 40.4 50.6 Q40.4 46.9 39.25 44.1 Q38.1 41.3 35.85 38.9 Q33.6 36.5 30.2 34.15 Q26.8 31.8 22.3 29 Q18.6 26.8 15.2 24.3 Q11.8 21.8 9.1 18.5 Q6.4 15.2 4.65 10.75 Q2.9 6.3 2.4 0 L48.7 0 L48.7 7.5 L12.3 7.5 Q12.9 10.8 14.85 13.35 Q16.8 15.9 19.55 18.1 Q22.3 20.3 25.6 22.25 Q28.9 24.2 32.2 26.2 Q35.5 28.3 38.6 30.6 Q41.7 32.9 44.1 35.75 Q46.5 38.6 47.95 42.2 Q49.4 45.8 49.4 50.5 Q49.4 55.5 47.65 59.3 Q45.9 63.1 42.9 65.65 Q39.9 68.2 35.85 69.55 Q31.8 70.9 27.2 70.9 Q21.6 70.9 17.2 69 Q12.8 67.1 9.85 63.75 Q6.9 60.4 5.5 55.8 Q4.1 51.2 4.4 45.8 Z\"\n",
       "        /><glyph unicode=\"3\" horiz-adv-x=\"55.6\" d=\"M21.8 40.5 L21.8 33.3 Q24.2 33.6 26.9 33.6 Q30.1 33.6 32.85 32.75 Q35.6 31.9 37.6 30.15 Q39.6 28.4 40.8 25.85 Q42 23.3 42 20 Q42 16.8 40.75 14.25 Q39.5 11.7 37.4 9.95 Q35.3 8.2 32.5 7.25 Q29.7 6.3 26.6 6.3 Q19.3 6.3 15.5 10.65 Q11.7 15 11.5 21.9 L3 21.9 Q2.9 16.4 4.55 12.1 Q6.2 7.8 9.3 4.85 Q12.4 1.9 16.8 0.4 Q21.2 -1.1 26.6 -1.1 Q31.6 -1.1 36.05 0.25 Q40.5 1.6 43.8 4.3 Q47.1 7 49.05 11.05 Q51 15.1 51 20.4 Q51 26.8 47.85 31.5 Q44.7 36.2 38.2 37.6 L38.2 37.8 Q42.4 39.7 45.2 43.4 Q48 47.1 48 51.9 Q48 56.8 46.35 60.4 Q44.7 64 41.8 66.3 Q38.9 68.6 34.95 69.75 Q31 70.9 26.4 70.9 Q21.1 70.9 17.05 69.2 Q13 67.5 10.3 64.5 Q7.6 61.5 6.15 57.3 Q4.7 53.1 4.5 48 L13 48 Q13 51.1 13.8 53.9 Q14.6 56.7 16.25 58.8 Q17.9 60.9 20.45 62.15 Q23 63.4 26.4 63.4 Q31.8 63.4 35.4 60.55 Q39 57.7 39 52 Q39 49.2 37.9 47 Q36.8 44.8 34.95 43.35 Q33.1 41.9 30.65 41.15 Q28.2 40.4 25.5 40.4 L23.7 40.4 Q23.2 40.4 22.7 40.4 Q22.3 40.4 21.8 40.5 Z\"\n",
       "        /><glyph unicode=\"4\" horiz-adv-x=\"55.6\" d=\"M33.9 24.1 L10.1 24.1 L33.7 58.8 L33.9 58.8 ZM41.9 24.1 L41.9 70.9 L35.1 70.9 L2.8 24.8 L2.8 16.6 L33.9 16.6 L33.9 0 L41.9 0 L41.9 16.6 L51.5 16.6 L51.5 24.1 Z\"\n",
       "        /><glyph unicode=\"5\" horiz-adv-x=\"55.6\" d=\"M47 62.2 L47 69.7 L12 69.7 L5.4 32.9 L12.7 32.5 Q15.2 35.5 18.45 37.35 Q21.7 39.2 25.9 39.2 Q29.5 39.2 32.45 38 Q35.4 36.8 37.5 34.65 Q39.6 32.5 40.75 29.55 Q41.9 26.6 41.9 23.1 Q41.9 18.9 40.7 15.75 Q39.5 12.6 37.45 10.5 Q35.4 8.4 32.65 7.35 Q29.9 6.3 26.9 6.3 Q23.7 6.3 21.05 7.25 Q18.4 8.2 16.45 9.95 Q14.5 11.7 13.35 14.05 Q12.2 16.4 12 19.1 L3.5 19.1 Q3.6 14.3 5.4 10.5 Q7.2 6.7 10.3 4.15 Q13.4 1.6 17.45 0.25 Q21.5 -1.1 26.1 -1.1 Q32.3 -1.1 36.95 0.85 Q41.6 2.8 44.7 6.1 Q47.8 9.4 49.35 13.65 Q50.9 17.9 50.9 22.4 Q50.9 28.5 49.1 33.05 Q47.3 37.6 44.2 40.65 Q41.1 43.7 36.9 45.2 Q32.7 46.7 28 46.7 Q24.4 46.7 20.75 45.45 Q17.1 44.2 14.8 41.6 L14.6 41.8 L18.4 62.2 Z\"\n",
       "        /><glyph unicode=\"6\" horiz-adv-x=\"55.6\" d=\"M41.4 52.8 L49.9 52.8 Q49.1 61.6 43.9 66.25 Q38.7 70.9 29.9 70.9 Q22.3 70.9 17.3 67.7 Q12.3 64.5 9.3 59.2 Q6.3 53.9 5.05 47.05 Q3.8 40.2 3.8 32.9 Q3.8 27.3 4.65 21.3 Q5.5 15.3 8.1 10.3 Q10.7 5.3 15.5 2.1 Q20.3 -1.1 28.2 -1.1 Q34.9 -1.1 39.45 1.15 Q44 3.4 46.75 6.85 Q49.5 10.3 50.7 14.5 Q51.9 18.7 51.9 22.6 Q51.9 27.5 50.4 31.7 Q48.9 35.9 46.15 39 Q43.4 42.1 39.35 43.85 Q35.3 45.6 30.2 45.6 Q24.4 45.6 19.95 43.4 Q15.5 41.2 12.5 36.3 L12.3 36.5 Q12.4 40.6 13.1 45.3 Q13.8 50 15.65 54.05 Q17.5 58.1 20.8 60.75 Q24.1 63.4 29.5 63.4 Q34.6 63.4 37.7 60.5 Q40.8 57.6 41.4 52.8 ZM28.6 38.1 Q32.2 38.1 34.9 36.8 Q37.6 35.5 39.4 33.35 Q41.2 31.2 42.05 28.25 Q42.9 25.3 42.9 22 Q42.9 18.9 41.95 16.05 Q41 13.2 39.2 11 Q37.4 8.8 34.75 7.55 Q32.1 6.3 28.6 6.3 Q25.1 6.3 22.35 7.55 Q19.6 8.8 17.75 10.9 Q15.9 13 14.9 15.9 Q13.9 18.8 13.9 22.1 Q13.9 25.4 14.85 28.35 Q15.8 31.3 17.7 33.45 Q19.6 35.6 22.3 36.85 Q25 38.1 28.6 38.1 Z\"\n",
       "        /><glyph unicode=\"7\" horiz-adv-x=\"55.6\" d=\"M50.9 62.4 L50.9 69.7 L5 69.7 L5 61.7 L42.2 61.7 Q36.6 55.8 31.75 48.8 Q26.9 41.8 23.2 33.95 Q19.5 26.1 17.15 17.55 Q14.8 9 14.2 0 L23.7 0 Q24.2 8.3 26.5 17.1 Q28.8 25.9 32.45 34.2 Q36.1 42.5 40.8 49.8 Q45.5 57.1 50.9 62.4 Z\"\n",
       "        /><glyph unicode=\"8\" horiz-adv-x=\"55.6\" d=\"M15.5 52.5 Q15.5 55.2 16.5 57.2 Q17.5 59.2 19.15 60.6 Q20.8 62 23.1 62.7 Q25.4 63.4 27.9 63.4 Q33.1 63.4 36.45 60.65 Q39.8 57.9 39.8 52.5 Q39.8 47.1 36.5 44.1 Q33.2 41.1 28.1 41.1 Q25.5 41.1 23.2 41.8 Q20.9 42.5 19.2 43.9 Q17.5 45.3 16.5 47.45 Q15.5 49.6 15.5 52.5 ZM6.5 52.8 Q6.5 48 9.2 43.95 Q11.9 39.9 16.4 38.1 Q10.4 36 7.2 31.35 Q4 26.7 4 20.4 Q4 15 5.85 10.95 Q7.7 6.9 10.95 4.2 Q14.2 1.5 18.6 0.2 Q23 -1.1 28.1 -1.1 Q33 -1.1 37.3 0.3 Q41.6 1.7 44.75 4.45 Q47.9 7.2 49.75 11.2 Q51.6 15.2 51.6 20.4 Q51.6 27 48.5 31.55 Q45.4 36.1 39 38.1 Q43.5 40.1 46.15 44.05 Q48.8 48 48.8 52.8 Q48.8 56.2 47.6 59.45 Q46.4 62.7 43.85 65.25 Q41.3 67.8 37.2 69.35 Q33.1 70.9 27.3 70.9 Q23.2 70.9 19.45 69.7 Q15.7 68.5 12.8 66.2 Q9.9 63.9 8.2 60.55 Q6.5 57.2 6.5 52.8 ZM13 20 Q13 23.1 14.15 25.6 Q15.3 28.1 17.35 29.9 Q19.4 31.7 22.15 32.65 Q24.9 33.6 28 33.6 Q31 33.6 33.65 32.55 Q36.3 31.5 38.3 29.7 Q40.3 27.9 41.45 25.45 Q42.6 23 42.6 20.1 Q42.6 17.1 41.55 14.6 Q40.5 12.1 38.55 10.25 Q36.6 8.4 33.95 7.35 Q31.3 6.3 28.1 6.3 Q21.5 6.3 17.25 9.95 Q13 13.6 13 20 Z\"\n",
       "        /><glyph unicode=\"9\" horiz-adv-x=\"55.6\" d=\"M13.4 17.1 L4.9 17.1 Q5.7 7.9 11.6 3.4 Q17.5 -1.1 26.4 -1.1 Q39.3 -1.1 45.15 8.75 Q51 18.6 51 37 Q51 47.1 49.05 53.65 Q47.1 60.2 43.8 64 Q40.5 67.8 36.1 69.35 Q31.7 70.9 26.7 70.9 Q21.6 70.9 17.3 69.2 Q13 67.5 9.9 64.45 Q6.8 61.4 5.1 57.15 Q3.4 52.9 3.4 47.8 Q3.4 42.6 4.85 38.2 Q6.3 33.8 9.15 30.7 Q12 27.6 16.2 25.85 Q20.4 24.1 25.8 24.1 Q31 24.1 35.4 26.75 Q39.8 29.4 42.2 33.9 L42.4 33.7 Q42 19.8 38.1 13.05 Q34.2 6.3 26.4 6.3 Q21.3 6.3 17.6 9.1 Q13.9 11.9 13.4 17.1 ZM40.9 47.2 Q40.9 44.1 39.9 41.25 Q38.9 38.4 37 36.25 Q35.1 34.1 32.4 32.85 Q29.7 31.6 26.4 31.6 Q23.3 31.6 20.75 32.85 Q18.2 34.1 16.35 36.2 Q14.5 38.3 13.45 41 Q12.4 43.7 12.4 46.6 Q12.4 49.9 13.15 52.9 Q13.9 55.9 15.55 58.25 Q17.2 60.6 19.85 62 Q22.5 63.4 26.3 63.4 Q29.9 63.4 32.6 62.1 Q35.3 60.8 37.15 58.55 Q39 56.3 39.95 53.4 Q40.9 50.5 40.9 47.2 Z\"\n",
       "        /><glyph unicode=\")\" horiz-adv-x=\"25.9\" d=\"M-0.9 -19.7 L5.5 -19.7 Q13.3 -9.4 17.25 2.55 Q21.2 14.5 21.2 26.3 Q21.2 32.9 20.1 38.9 Q19 44.9 16.95 50.65 Q14.9 56.4 12 61.95 Q9.1 67.5 5.5 73.1 L-0.9 73.1 Q6.1 61.6 9.15 50.25 Q12.2 38.9 12.2 26.3 Q12.2 14.1 9.2 2.85 Q6.2 -8.4 -0.9 -19.7 Z\"\n",
       "        /><glyph unicode=\"s\" horiz-adv-x=\"50.0\" d=\"M11.6 16.3 L3.1 16.3 Q3.3 11.5 5.1 8.15 Q6.9 4.8 9.9 2.75 Q12.9 0.7 16.8 -0.2 Q20.7 -1.1 25 -1.1 Q28.9 -1.1 32.85 -0.35 Q36.8 0.4 39.95 2.3 Q43.1 4.2 45.05 7.3 Q47 10.4 47 15.1 Q47 18.8 45.55 21.3 Q44.1 23.8 41.75 25.45 Q39.4 27.1 36.35 28.1 Q33.3 29.1 30.1 29.8 Q27.1 30.5 24.1 31.15 Q21.1 31.8 18.7 32.75 Q16.3 33.7 14.75 35.15 Q13.2 36.6 13.2 38.8 Q13.2 40.8 14.2 42.05 Q15.2 43.3 16.8 44.05 Q18.4 44.8 20.35 45.1 Q22.3 45.4 24.2 45.4 Q26.3 45.4 28.35 44.95 Q30.4 44.5 32.1 43.5 Q33.8 42.5 34.9 40.85 Q36 39.2 36.2 36.7 L44.7 36.7 Q44.4 41.4 42.7 44.55 Q41 47.7 38.15 49.55 Q35.3 51.4 31.6 52.15 Q27.9 52.9 23.5 52.9 Q20.1 52.9 16.65 52.05 Q13.2 51.2 10.45 49.45 Q7.7 47.7 5.95 44.9 Q4.2 42.1 4.2 38.2 Q4.2 33.2 6.7 30.4 Q9.2 27.6 12.95 26.05 Q16.7 24.5 21.1 23.65 Q25.5 22.8 29.25 21.75 Q33 20.7 35.5 19 Q38 17.3 38 14 Q38 11.6 36.8 10.05 Q35.6 8.5 33.75 7.7 Q31.9 6.9 29.7 6.6 Q27.5 6.3 25.5 6.3 Q22.9 6.3 20.45 6.8 Q18 7.3 16.05 8.45 Q14.1 9.6 12.9 11.55 Q11.7 13.5 11.6 16.3 Z\"\n",
       "        /><glyph unicode=\"(\" horiz-adv-x=\"25.9\" d=\"M20.4 -19.7 L26.9 -19.7 Q19.8 -8.2 16.75 3.1 Q13.7 14.4 13.7 27 Q13.7 39.3 16.7 50.5 Q19.7 61.7 26.9 73.1 L20.4 73.1 Q12.6 62.8 8.65 50.8 Q4.7 38.8 4.7 27 Q4.7 20.4 5.8 14.4 Q6.9 8.4 8.95 2.7 Q11 -3 13.9 -8.55 Q16.8 -14.1 20.4 -19.7 Z\"\n",
       "        /><glyph unicode=\"t\" horiz-adv-x=\"31.5\" d=\"M18.2 51.7 L18.2 67.2 L9.7 67.2 L9.7 51.7 L0.9 51.7 L0.9 44.2 L9.7 44.2 L9.7 11.3 Q9.7 7.7 10.4 5.5 Q11.1 3.3 12.55 2.1 Q14 0.9 16.35 0.45 Q18.7 0 22 0 L28.5 0 L28.5 7.5 L24.6 7.5 Q22.6 7.5 21.35 7.65 Q20.1 7.8 19.4 8.3 Q18.7 8.8 18.45 9.7 Q18.2 10.6 18.2 12.1 L18.2 44.2 L28.5 44.2 L28.5 51.7 Z\"\n",
       "        /><glyph unicode=\" \" horiz-adv-x=\"27.8\" d=\"\"\n",
       "        /><glyph unicode=\"e\" horiz-adv-x=\"53.7\" d=\"M42.3 30.8 L12.6 30.8 Q12.8 33.8 13.9 36.45 Q15 39.1 16.9 41.1 Q18.8 43.1 21.45 44.25 Q24.1 45.4 27.4 45.4 Q30.6 45.4 33.25 44.25 Q35.9 43.1 37.85 41.15 Q39.8 39.2 40.95 36.5 Q42.1 33.8 42.3 30.8 ZM50.5 16.4 L42.1 16.4 Q41 11.3 37.55 8.8 Q34.1 6.3 28.7 6.3 Q24.5 6.3 21.4 7.7 Q18.3 9.1 16.3 11.45 Q14.3 13.8 13.4 16.85 Q12.5 19.9 12.6 23.3 L51.3 23.3 Q51.5 28 50.45 33.2 Q49.4 38.4 46.65 42.8 Q43.9 47.2 39.35 50.05 Q34.8 52.9 27.9 52.9 Q22.6 52.9 18.15 50.9 Q13.7 48.9 10.45 45.3 Q7.2 41.7 5.4 36.8 Q3.6 31.9 3.6 26 Q3.8 20.1 5.35 15.1 Q6.9 10.1 10 6.5 Q13.1 2.9 17.65 0.9 Q22.2 -1.1 28.4 -1.1 Q37.2 -1.1 43 3.3 Q48.8 7.7 50.5 16.4 Z\"\n",
       "        /><glyph unicode=\"m\" horiz-adv-x=\"85.3\" d=\"M6.4 51.7 L6.4 0 L14.9 0 L14.9 32.2 Q14.9 33.7 15.65 35.95 Q16.4 38.2 18.05 40.3 Q19.7 42.4 22.35 43.9 Q25 45.4 28.7 45.4 Q31.6 45.4 33.45 44.55 Q35.3 43.7 36.4 42.15 Q37.5 40.6 37.95 38.5 Q38.4 36.4 38.4 33.9 L38.4 0 L46.9 0 L46.9 32.2 Q46.9 38.2 50.5 41.8 Q54.1 45.4 60.4 45.4 Q63.5 45.4 65.45 44.5 Q67.4 43.6 68.5 42.05 Q69.6 40.5 70 38.4 Q70.4 36.3 70.4 33.9 L70.4 0 L78.9 0 L78.9 37.9 Q78.9 41.9 77.65 44.75 Q76.4 47.6 74.15 49.4 Q71.9 51.2 68.75 52.05 Q65.6 52.9 61.7 52.9 Q56.6 52.9 52.35 50.6 Q48.1 48.3 45.5 44.1 Q43.9 48.9 40 50.9 Q36.1 52.9 31.3 52.9 Q20.4 52.9 14.6 44.1 L14.4 44.1 L14.4 51.7 Z\"\n",
       "        /><glyph unicode=\"i\" horiz-adv-x=\"22.2\" d=\"M15.4 61 L15.4 71.4 L6.9 71.4 L6.9 61 ZM6.9 51.7 L6.9 0 L15.4 0 L15.4 51.7 Z\"\n",
       "        /><glyph unicode=\"T\" horiz-adv-x=\"57.4\" d=\"M24 63.4 L24 0 L33.5 0 L33.5 63.4 L57.3 63.4 L57.3 71.4 L0.2 71.4 L0.2 63.4 Z\"\n",
       "        /><glyph unicode=\"-\" horiz-adv-x=\"38.9\" d=\"M5 31.8 L5 23.8 L33.9 23.8 L33.9 31.8 Z\"\n",
       "        /><glyph unicode=\"d\" horiz-adv-x=\"59.3\" d=\"M12.6 25.4 Q12.6 29.2 13.4 32.8 Q14.2 36.4 16 39.2 Q17.8 42 20.8 43.7 Q23.8 45.4 28.1 45.4 Q32.5 45.4 35.6 43.75 Q38.7 42.1 40.65 39.4 Q42.6 36.7 43.5 33.15 Q44.4 29.6 44.4 25.8 Q44.4 22.2 43.55 18.7 Q42.7 15.2 40.8 12.45 Q38.9 9.7 35.9 8 Q32.9 6.3 28.6 6.3 Q24.5 6.3 21.45 7.9 Q18.4 9.5 16.45 12.2 Q14.5 14.9 13.55 18.35 Q12.6 21.8 12.6 25.4 ZM52.6 0 L52.6 71.4 L44.1 71.4 L44.1 44.8 L43.9 44.8 Q42.5 47.1 40.45 48.65 Q38.4 50.2 36.1 51.15 Q33.8 52.1 31.5 52.5 Q29.2 52.9 27.2 52.9 Q21.3 52.9 16.85 50.75 Q12.4 48.6 9.45 44.95 Q6.5 41.3 5.05 36.4 Q3.6 31.5 3.6 26 Q3.6 20.5 5.1 15.6 Q6.6 10.7 9.55 7 Q12.5 3.3 16.95 1.1 Q21.4 -1.1 27.4 -1.1 Q32.8 -1.1 37.3 0.8 Q41.8 2.7 43.9 7 L44.1 7 L44.1 0 Z\"\n",
       "        /><glyph unicode=\"u\" horiz-adv-x=\"55.6\" d=\"M49.2 0 L49.2 51.7 L40.7 51.7 L40.7 22.5 Q40.7 19 39.75 16.05 Q38.8 13.1 36.9 10.9 Q35 8.7 32.15 7.5 Q29.3 6.3 25.4 6.3 Q20.5 6.3 17.7 9.1 Q14.9 11.9 14.9 16.7 L14.9 51.7 L6.4 51.7 L6.4 17.7 Q6.4 13.5 7.25 10.05 Q8.1 6.6 10.2 4.1 Q12.3 1.6 15.7 0.25 Q19.1 -1.1 24.2 -1.1 Q29.9 -1.1 34.1 1.15 Q38.3 3.4 41 8.2 L41.2 8.2 L41.2 0 Z\"\n",
       "        /><glyph unicode=\"l\" horiz-adv-x=\"22.2\" d=\"M6.9 71.4 L6.9 0 L15.4 0 L15.4 71.4 Z\"\n",
       "        /><glyph unicode=\"p\" horiz-adv-x=\"59.3\" d=\"M6.7 51.7 L6.7 -19.7 L15.2 -19.7 L15.2 6.9 L15.4 6.9 Q16.8 4.6 18.85 3.05 Q20.9 1.5 23.2 0.6 Q25.5 -0.3 27.85 -0.7 Q30.2 -1.1 32.1 -1.1 Q38 -1.1 42.45 1 Q46.9 3.1 49.85 6.75 Q52.8 10.4 54.25 15.3 Q55.7 20.2 55.7 25.7 Q55.7 31.2 54.2 36.1 Q52.7 41 49.75 44.75 Q46.8 48.5 42.35 50.7 Q37.9 52.9 31.9 52.9 Q26.5 52.9 22 50.95 Q17.5 49 15.4 44.7 L15.2 44.7 L15.2 51.7 ZM46.7 26.3 Q46.7 22.5 45.9 18.9 Q45.1 15.3 43.3 12.5 Q41.5 9.7 38.55 8 Q35.6 6.3 31.2 6.3 Q26.8 6.3 23.7 7.95 Q20.6 9.6 18.65 12.3 Q16.7 15 15.8 18.55 Q14.9 22.1 14.9 25.9 Q14.9 29.5 15.75 33 Q16.6 36.5 18.5 39.25 Q20.4 42 23.4 43.7 Q26.4 45.4 30.7 45.4 Q34.8 45.4 37.85 43.8 Q40.9 42.2 42.85 39.5 Q44.8 36.8 45.75 33.35 Q46.7 29.9 46.7 26.3 Z\"\n",
       "        /><glyph unicode=\"A\" horiz-adv-x=\"64.8\" d=\"M20.1 29.5 L32.2 62.8 L32.4 62.8 L44.3 29.5 ZM27.2 71.4 L-0.6 0 L9.1 0 L17.1 21.5 L47.3 21.5 L55.1 0 L65.6 0 L37.7 71.4 Z\"\n",
       "      /></font\n",
       "      ><font horiz-adv-x=\"50.0\" id=\"font2\"\n",
       "      ><font-face ascent=\"97.5\" descent=\"21.699999\" units-per-em=\"100\" style=\"font-style:normal; font-family:Helvetica Neue; font-weight:bold;\"\n",
       "        /><missing-glyph horiz-adv-x=\"50.0\" d=\"M39.1 60.7 L11.1 60.7 L11.1 9.5 L39.1 9.5 ZM48.2 69.8 L48.2 0.3 L1.7 0.3 L1.7 69.8 Z\"\n",
       "        /><glyph unicode=\"g\" horiz-adv-x=\"61.1\" d=\"M29.5 12.2 Q26.2 12.2 24 13.6 Q21.8 15 20.45 17.2 Q19.1 19.4 18.55 22.15 Q18 24.9 18 27.7 Q18 30.6 18.65 33.25 Q19.3 35.9 20.75 37.95 Q22.2 40 24.35 41.2 Q26.5 42.4 29.5 42.4 Q33 42.4 35.3 41.1 Q37.6 39.8 39 37.6 Q40.4 35.4 41 32.55 Q41.6 29.7 41.6 26.5 Q41.6 23.7 40.85 21.15 Q40.1 18.6 38.6 16.6 Q37.1 14.6 34.8 13.4 Q32.5 12.2 29.5 12.2 ZM55.1 3.3 L55.1 51.7 L41.6 51.7 L41.6 44.8 L41.4 44.8 Q38.8 49.3 34.95 51.2 Q31.1 53.1 26 53.1 Q20.6 53.1 16.45 51 Q12.3 48.9 9.5 45.35 Q6.7 41.8 5.25 37.15 Q3.8 32.5 3.8 27.5 Q3.8 22.2 5.05 17.45 Q6.3 12.7 9 9.15 Q11.7 5.6 15.9 3.55 Q20.1 1.5 25.9 1.5 Q30.6 1.5 34.85 3.45 Q39.1 5.4 41.4 9.5 L41.6 9.5 L41.6 2.7 Q41.7 -2.8 38.95 -6.4 Q36.2 -10 30.2 -10 Q26.4 -10 23.5 -8.45 Q20.6 -6.9 19.6 -2.9 L5.5 -2.9 Q5.8 -7.3 7.95 -10.45 Q10.1 -13.6 13.35 -15.6 Q16.6 -17.6 20.55 -18.55 Q24.5 -19.5 28.3 -19.5 Q37.2 -19.5 42.5 -17.1 Q47.8 -14.7 50.6 -11.25 Q53.4 -7.8 54.25 -3.8 Q55.1 0.2 55.1 3.3 Z\"\n",
       "        /><glyph unicode=\"l\" horiz-adv-x=\"25.8\" d=\"M5.8 71.4 L5.8 0 L20 0 L20 71.4 Z\"\n",
       "        /><glyph unicode=\"a\" horiz-adv-x=\"57.4\" d=\"M4.8 35.8 Q5.1 40.8 7.3 44.1 Q9.5 47.4 12.9 49.4 Q16.3 51.4 20.55 52.25 Q24.8 53.1 29.1 53.1 Q33 53.1 37 52.55 Q41 52 44.3 50.4 Q47.6 48.8 49.7 45.95 Q51.8 43.1 51.8 38.4 L51.8 11.5 Q51.8 8 52.2 4.8 Q52.6 1.6 53.6 0 L39.2 0 Q38.8 1.2 38.55 2.45 Q38.3 3.7 38.2 5 Q34.8 1.5 30.2 0.1 Q25.6 -1.3 20.8 -1.3 Q17.1 -1.3 13.9 -0.4 Q10.7 0.5 8.3 2.4 Q5.9 4.3 4.55 7.2 Q3.2 10.1 3.2 14.1 Q3.2 18.5 4.75 21.35 Q6.3 24.2 8.75 25.9 Q11.2 27.6 14.35 28.45 Q17.5 29.3 20.7 29.8 Q23.9 30.3 27 30.6 Q30.1 30.9 32.5 31.5 Q34.9 32.1 36.3 33.25 Q37.7 34.4 37.6 36.6 Q37.6 38.9 36.85 40.25 Q36.1 41.6 34.85 42.35 Q33.6 43.1 31.95 43.35 Q30.3 43.6 28.4 43.6 Q24.2 43.6 21.8 41.8 Q19.4 40 19 35.8 ZM37.6 25.3 Q36.7 24.5 35.35 24.05 Q34 23.6 32.45 23.3 Q30.9 23 29.2 22.8 Q27.5 22.6 25.8 22.3 Q24.2 22 22.65 21.5 Q21.1 21 19.95 20.15 Q18.8 19.3 18.1 18 Q17.4 16.7 17.4 14.7 Q17.4 12.8 18.1 11.5 Q18.8 10.2 20 9.45 Q21.2 8.7 22.8 8.4 Q24.4 8.1 26.1 8.1 Q30.3 8.1 32.6 9.5 Q34.9 10.9 36 12.85 Q37.1 14.8 37.35 16.8 Q37.6 18.8 37.6 20 Z\"\n",
       "        /><glyph unicode=\"d\" horiz-adv-x=\"61.1\" d=\"M42.1 26 Q42.1 22.8 41.5 19.8 Q40.9 16.8 39.5 14.45 Q38.1 12.1 35.75 10.7 Q33.4 9.3 29.9 9.3 Q26.6 9.3 24.25 10.75 Q21.9 12.2 20.35 14.55 Q18.8 16.9 18.1 19.9 Q17.4 22.9 17.4 25.9 Q17.4 29.1 18.05 32.05 Q18.7 35 20.15 37.3 Q21.6 39.6 24 41 Q26.4 42.4 29.9 42.4 Q33.4 42.4 35.7 41 Q38 39.6 39.45 37.35 Q40.9 35.1 41.5 32.15 Q42.1 29.2 42.1 26 ZM42.3 6.6 L42.3 0 L55.8 0 L55.8 71.4 L41.6 71.4 L41.6 45.4 L41.4 45.4 Q39 49.2 34.85 51.15 Q30.7 53.1 26.1 53.1 Q20.4 53.1 16.1 50.85 Q11.8 48.6 8.95 44.9 Q6.1 41.2 4.65 36.35 Q3.2 31.5 3.2 26.3 Q3.2 20.9 4.65 15.9 Q6.1 10.9 8.95 7.05 Q11.8 3.2 16.2 0.95 Q20.6 -1.3 26.4 -1.3 Q31.5 -1.3 35.55 0.55 Q39.6 2.4 42.1 6.6 Z\"\n",
       "        /><glyph unicode=\"o\" horiz-adv-x=\"61.1\" d=\"M18 25.8 Q18 28.9 18.6 31.9 Q19.2 34.9 20.65 37.2 Q22.1 39.5 24.5 40.95 Q26.9 42.4 30.5 42.4 Q34.1 42.4 36.55 40.95 Q39 39.5 40.45 37.2 Q41.9 34.9 42.5 31.9 Q43.1 28.9 43.1 25.8 Q43.1 22.7 42.5 19.75 Q41.9 16.8 40.45 14.45 Q39 12.1 36.55 10.7 Q34.1 9.3 30.5 9.3 Q26.9 9.3 24.5 10.7 Q22.1 12.1 20.65 14.45 Q19.2 16.8 18.6 19.75 Q18 22.7 18 25.8 ZM3.8 25.8 Q3.8 19.6 5.7 14.6 Q7.6 9.6 11.1 6.05 Q14.6 2.5 19.5 0.6 Q24.4 -1.3 30.5 -1.3 Q36.6 -1.3 41.55 0.6 Q46.5 2.5 50 6.05 Q53.5 9.6 55.4 14.6 Q57.3 19.6 57.3 25.8 Q57.3 32 55.4 37.05 Q53.5 42.1 50 45.65 Q46.5 49.2 41.55 51.15 Q36.6 53.1 30.5 53.1 Q24.4 53.1 19.5 51.15 Q14.6 49.2 11.1 45.65 Q7.6 42.1 5.7 37.05 Q3.8 32 3.8 25.8 Z\"\n",
       "        /><glyph unicode=\"s\" horiz-adv-x=\"53.7\" d=\"M16.4 16.8 L2.9 16.8 Q3.1 11.6 5.25 8.15 Q7.4 4.7 10.75 2.6 Q14.1 0.5 18.4 -0.4 Q22.7 -1.3 27.2 -1.3 Q31.6 -1.3 35.85 -0.45 Q40.1 0.4 43.4 2.5 Q46.7 4.6 48.75 8.05 Q50.8 11.5 50.8 16.6 Q50.8 20.2 49.4 22.65 Q48 25.1 45.7 26.75 Q43.4 28.4 40.45 29.4 Q37.5 30.4 34.4 31.1 Q31.4 31.8 28.5 32.4 Q25.6 33 23.35 33.75 Q21.1 34.5 19.7 35.7 Q18.3 36.9 18.3 38.8 Q18.3 40.4 19.1 41.35 Q19.9 42.3 21.05 42.8 Q22.2 43.3 23.6 43.45 Q25 43.6 26.2 43.6 Q30 43.6 32.8 42.15 Q35.6 40.7 35.9 36.6 L49.4 36.6 Q49 41.4 46.95 44.55 Q44.9 47.7 41.8 49.6 Q38.7 51.5 34.75 52.3 Q30.8 53.1 26.6 53.1 Q22.4 53.1 18.4 52.35 Q14.4 51.6 11.2 49.75 Q8 47.9 6.05 44.7 Q4.1 41.5 4.1 36.5 Q4.1 33.1 5.5 30.75 Q6.9 28.4 9.2 26.85 Q11.5 25.3 14.45 24.35 Q17.4 23.4 20.5 22.7 Q28.1 21.1 32.35 19.5 Q36.6 17.9 36.6 14.7 Q36.6 12.8 35.7 11.55 Q34.8 10.3 33.45 9.55 Q32.1 8.8 30.45 8.45 Q28.8 8.1 27.3 8.1 Q25.2 8.1 23.25 8.6 Q21.3 9.1 19.8 10.15 Q18.3 11.2 17.35 12.85 Q16.4 14.5 16.4 16.8 Z\"\n",
       "        /><glyph unicode=\"u\" horiz-adv-x=\"59.3\" d=\"M53.9 0 L53.9 51.7 L39.7 51.7 L39.7 24.6 Q39.7 16.7 37.1 13.25 Q34.5 9.8 28.7 9.8 Q23.6 9.8 21.6 12.95 Q19.6 16.1 19.6 22.5 L19.6 51.7 L5.4 51.7 L5.4 19.9 Q5.4 15.1 6.25 11.15 Q7.1 7.2 9.2 4.45 Q11.3 1.7 14.95 0.2 Q18.6 -1.3 24.3 -1.3 Q28.8 -1.3 33.1 0.7 Q37.4 2.7 40.1 7.2 L40.4 7.2 L40.4 0 Z\"\n",
       "        /><glyph unicode=\"n\" horiz-adv-x=\"59.3\" d=\"M5.4 51.7 L5.4 0 L19.6 0 L19.6 27.1 Q19.6 35 22.2 38.45 Q24.8 41.9 30.6 41.9 Q35.7 41.9 37.7 38.75 Q39.7 35.6 39.7 29.2 L39.7 0 L53.9 0 L53.9 31.8 Q53.9 36.6 53.05 40.55 Q52.2 44.5 50.1 47.25 Q48 50 44.35 51.55 Q40.7 53.1 35 53.1 Q30.5 53.1 26.2 51.05 Q21.9 49 19.2 44.5 L18.9 44.5 L18.9 51.7 Z\"\n",
       "        /><glyph unicode=\"i\" horiz-adv-x=\"25.8\" d=\"M20 59.7 L20 71.4 L5.8 71.4 L5.8 59.7 ZM5.8 51.7 L5.8 0 L20 0 L20 51.7 Z\"\n",
       "        /><glyph unicode=\"S\" horiz-adv-x=\"64.9\" d=\"M17.6 23.7 L2.4 23.7 Q2.3 17.1 4.8 12.3 Q7.3 7.5 11.55 4.4 Q15.8 1.3 21.35 -0.15 Q26.9 -1.6 32.8 -1.6 Q40.1 -1.6 45.65 0.1 Q51.2 1.8 54.95 4.85 Q58.7 7.9 60.6 12.1 Q62.5 16.3 62.5 21.2 Q62.5 27.2 59.95 31.05 Q57.4 34.9 53.9 37.2 Q50.4 39.5 46.85 40.55 Q43.3 41.6 41.3 42 Q34.6 43.7 30.45 44.8 Q26.3 45.9 23.95 47 Q21.6 48.1 20.8 49.4 Q20 50.7 20 52.8 Q20 55.1 21 56.6 Q22 58.1 23.55 59.1 Q25.1 60.1 27 60.5 Q28.9 60.9 30.8 60.9 Q33.7 60.9 36.15 60.4 Q38.6 59.9 40.5 58.7 Q42.4 57.5 43.55 55.4 Q44.7 53.3 44.9 50.1 L60.1 50.1 Q60.1 56.3 57.75 60.65 Q55.4 65 51.4 67.8 Q47.4 70.6 42.25 71.85 Q37.1 73.1 31.5 73.1 Q26.7 73.1 21.9 71.8 Q17.1 70.5 13.3 67.8 Q9.5 65.1 7.15 61.05 Q4.8 57 4.8 51.5 Q4.8 46.6 6.65 43.15 Q8.5 39.7 11.5 37.4 Q14.5 35.1 18.3 33.65 Q22.1 32.2 26.1 31.2 Q30 30.1 33.8 29.2 Q37.6 28.3 40.6 27.1 Q43.6 25.9 45.45 24.1 Q47.3 22.3 47.3 19.4 Q47.3 16.7 45.9 14.95 Q44.5 13.2 42.4 12.2 Q40.3 11.2 37.9 10.85 Q35.5 10.5 33.4 10.5 Q30.3 10.5 27.4 11.25 Q24.5 12 22.35 13.55 Q20.2 15.1 18.9 17.6 Q17.6 20.1 17.6 23.7 Z\"\n",
       "        /><glyph unicode=\" \" horiz-adv-x=\"27.8\" d=\"\"\n",
       "        /><glyph unicode=\"A\" horiz-adv-x=\"68.5\" d=\"M24.9 27.6 L34.2 53.8 L34.4 53.8 L43.4 27.6 ZM26.4 71.4 L-0.6 0 L15.2 0 L20.8 15.9 L47.5 15.9 L52.9 0 L69.2 0 L42.5 71.4 Z\"\n",
       "      /></font\n",
       "    ></defs\n",
       "    ><g style=\"fill:white; stroke:white;\"\n",
       "    ><rect x=\"0\" y=\"0\" width=\"560\" style=\"clip-path:url(#clipPath1); stroke:none;\" height=\"420\"\n",
       "    /></g\n",
       "    ><g style=\"fill:white; text-rendering:optimizeSpeed; color-rendering:optimizeSpeed; image-rendering:optimizeSpeed; shape-rendering:crispEdges; stroke:white; color-interpolation:sRGB;\"\n",
       "    ><rect x=\"0\" width=\"560\" height=\"420\" y=\"0\" style=\"stroke:none;\"\n",
       "      /><path style=\"stroke:none;\" d=\"M73 374 L507 374 L507 31 L73 31 Z\"\n",
       "    /></g\n",
       "    ><g style=\"stroke-linecap:butt; fill-opacity:0.149; fill:rgb(38,38,38); text-rendering:geometricPrecision; image-rendering:optimizeQuality; color-rendering:optimizeQuality; stroke-linejoin:round; stroke:rgb(38,38,38); color-interpolation:linearRGB; stroke-width:0.5; stroke-opacity:0.149;\"\n",
       "    ><line y2=\"31\" style=\"fill:none;\" x1=\"73\" x2=\"73\" y1=\"374\"\n",
       "      /><line y2=\"31\" style=\"fill:none;\" x1=\"116.4\" x2=\"116.4\" y1=\"374\"\n",
       "      /><line y2=\"31\" style=\"fill:none;\" x1=\"159.8\" x2=\"159.8\" y1=\"374\"\n",
       "      /><line y2=\"31\" style=\"fill:none;\" x1=\"203.2\" x2=\"203.2\" y1=\"374\"\n",
       "      /><line y2=\"31\" style=\"fill:none;\" x1=\"246.6\" x2=\"246.6\" y1=\"374\"\n",
       "      /><line y2=\"31\" style=\"fill:none;\" x1=\"290\" x2=\"290\" y1=\"374\"\n",
       "      /><line y2=\"31\" style=\"fill:none;\" x1=\"333.4\" x2=\"333.4\" y1=\"374\"\n",
       "      /><line y2=\"31\" style=\"fill:none;\" x1=\"376.8\" x2=\"376.8\" y1=\"374\"\n",
       "      /><line y2=\"31\" style=\"fill:none;\" x1=\"420.2\" x2=\"420.2\" y1=\"374\"\n",
       "      /><line y2=\"31\" style=\"fill:none;\" x1=\"463.6\" x2=\"463.6\" y1=\"374\"\n",
       "      /><line y2=\"31\" style=\"fill:none;\" x1=\"507\" x2=\"507\" y1=\"374\"\n",
       "      /><line y2=\"374\" style=\"fill:none;\" x1=\"507\" x2=\"73\" y1=\"374\"\n",
       "      /><line y2=\"316.8333\" style=\"fill:none;\" x1=\"507\" x2=\"73\" y1=\"316.8333\"\n",
       "      /><line y2=\"259.6667\" style=\"fill:none;\" x1=\"507\" x2=\"73\" y1=\"259.6667\"\n",
       "      /><line y2=\"202.5\" style=\"fill:none;\" x1=\"507\" x2=\"73\" y1=\"202.5\"\n",
       "      /><line y2=\"145.3333\" style=\"fill:none;\" x1=\"507\" x2=\"73\" y1=\"145.3333\"\n",
       "      /><line y2=\"88.1667\" style=\"fill:none;\" x1=\"507\" x2=\"73\" y1=\"88.1667\"\n",
       "      /><line y2=\"31\" style=\"fill:none;\" x1=\"507\" x2=\"73\" y1=\"31\"\n",
       "      /><line x1=\"73\" x2=\"507\" y1=\"374\" style=\"stroke-linecap:square; fill-opacity:1; fill:none; stroke-opacity:1;\" y2=\"374\"\n",
       "      /><line x1=\"73\" x2=\"507\" y1=\"31\" style=\"stroke-linecap:square; fill-opacity:1; fill:none; stroke-opacity:1;\" y2=\"31\"\n",
       "      /><line x1=\"73\" x2=\"73\" y1=\"374\" style=\"stroke-linecap:square; fill-opacity:1; fill:none; stroke-opacity:1;\" y2=\"369.66\"\n",
       "      /><line x1=\"116.4\" x2=\"116.4\" y1=\"374\" style=\"stroke-linecap:square; fill-opacity:1; fill:none; stroke-opacity:1;\" y2=\"369.66\"\n",
       "      /><line x1=\"159.8\" x2=\"159.8\" y1=\"374\" style=\"stroke-linecap:square; fill-opacity:1; fill:none; stroke-opacity:1;\" y2=\"369.66\"\n",
       "      /><line x1=\"203.2\" x2=\"203.2\" y1=\"374\" style=\"stroke-linecap:square; fill-opacity:1; fill:none; stroke-opacity:1;\" y2=\"369.66\"\n",
       "      /><line x1=\"246.6\" x2=\"246.6\" y1=\"374\" style=\"stroke-linecap:square; fill-opacity:1; fill:none; stroke-opacity:1;\" y2=\"369.66\"\n",
       "      /><line x1=\"290\" x2=\"290\" y1=\"374\" style=\"stroke-linecap:square; fill-opacity:1; fill:none; stroke-opacity:1;\" y2=\"369.66\"\n",
       "      /><line x1=\"333.4\" x2=\"333.4\" y1=\"374\" style=\"stroke-linecap:square; fill-opacity:1; fill:none; stroke-opacity:1;\" y2=\"369.66\"\n",
       "      /><line x1=\"376.8\" x2=\"376.8\" y1=\"374\" style=\"stroke-linecap:square; fill-opacity:1; fill:none; stroke-opacity:1;\" y2=\"369.66\"\n",
       "      /><line x1=\"420.2\" x2=\"420.2\" y1=\"374\" style=\"stroke-linecap:square; fill-opacity:1; fill:none; stroke-opacity:1;\" y2=\"369.66\"\n",
       "      /><line x1=\"463.6\" x2=\"463.6\" y1=\"374\" style=\"stroke-linecap:square; fill-opacity:1; fill:none; stroke-opacity:1;\" y2=\"369.66\"\n",
       "      /><line x1=\"507\" x2=\"507\" y1=\"374\" style=\"stroke-linecap:square; fill-opacity:1; fill:none; stroke-opacity:1;\" y2=\"369.66\"\n",
       "      /><line x1=\"73\" x2=\"73\" y1=\"31\" style=\"stroke-linecap:square; fill-opacity:1; fill:none; stroke-opacity:1;\" y2=\"35.34\"\n",
       "      /><line x1=\"116.4\" x2=\"116.4\" y1=\"31\" style=\"stroke-linecap:square; fill-opacity:1; fill:none; stroke-opacity:1;\" y2=\"35.34\"\n",
       "      /><line x1=\"159.8\" x2=\"159.8\" y1=\"31\" style=\"stroke-linecap:square; fill-opacity:1; fill:none; stroke-opacity:1;\" y2=\"35.34\"\n",
       "      /><line x1=\"203.2\" x2=\"203.2\" y1=\"31\" style=\"stroke-linecap:square; fill-opacity:1; fill:none; stroke-opacity:1;\" y2=\"35.34\"\n",
       "      /><line x1=\"246.6\" x2=\"246.6\" y1=\"31\" style=\"stroke-linecap:square; fill-opacity:1; fill:none; stroke-opacity:1;\" y2=\"35.34\"\n",
       "      /><line x1=\"290\" x2=\"290\" y1=\"31\" style=\"stroke-linecap:square; fill-opacity:1; fill:none; stroke-opacity:1;\" y2=\"35.34\"\n",
       "      /><line x1=\"333.4\" x2=\"333.4\" y1=\"31\" style=\"stroke-linecap:square; fill-opacity:1; fill:none; stroke-opacity:1;\" y2=\"35.34\"\n",
       "      /><line x1=\"376.8\" x2=\"376.8\" y1=\"31\" style=\"stroke-linecap:square; fill-opacity:1; fill:none; stroke-opacity:1;\" y2=\"35.34\"\n",
       "      /><line x1=\"420.2\" x2=\"420.2\" y1=\"31\" style=\"stroke-linecap:square; fill-opacity:1; fill:none; stroke-opacity:1;\" y2=\"35.34\"\n",
       "      /><line x1=\"463.6\" x2=\"463.6\" y1=\"31\" style=\"stroke-linecap:square; fill-opacity:1; fill:none; stroke-opacity:1;\" y2=\"35.34\"\n",
       "      /><line x1=\"507\" x2=\"507\" y1=\"31\" style=\"stroke-linecap:square; fill-opacity:1; fill:none; stroke-opacity:1;\" y2=\"35.34\"\n",
       "    /></g\n",
       "    ><g transform=\"translate(73,378)\" style=\"font-size:10px; fill:rgb(38,38,38); text-rendering:geometricPrecision; image-rendering:optimizeQuality; color-rendering:optimizeQuality; font-family:'Helvetica Neue'; stroke:rgb(38,38,38); color-interpolation:linearRGB;\"\n",
       "    ><text x=\"-3\" xml:space=\"preserve\" y=\"10\" style=\"stroke:none;\"\n",
       "      >0</text\n",
       "    ></g\n",
       "    ><g transform=\"translate(116.4,378)\" style=\"font-size:10px; fill:rgb(38,38,38); text-rendering:geometricPrecision; image-rendering:optimizeQuality; color-rendering:optimizeQuality; font-family:'Helvetica Neue'; stroke:rgb(38,38,38); color-interpolation:linearRGB;\"\n",
       "    ><text x=\"-7\" xml:space=\"preserve\" y=\"10\" style=\"stroke:none;\"\n",
       "      >0.1</text\n",
       "    ></g\n",
       "    ><g transform=\"translate(159.8,378)\" style=\"font-size:10px; fill:rgb(38,38,38); text-rendering:geometricPrecision; image-rendering:optimizeQuality; color-rendering:optimizeQuality; font-family:'Helvetica Neue'; stroke:rgb(38,38,38); color-interpolation:linearRGB;\"\n",
       "    ><text x=\"-7\" xml:space=\"preserve\" y=\"10\" style=\"stroke:none;\"\n",
       "      >0.2</text\n",
       "    ></g\n",
       "    ><g transform=\"translate(203.2,378)\" style=\"font-size:10px; fill:rgb(38,38,38); text-rendering:geometricPrecision; image-rendering:optimizeQuality; color-rendering:optimizeQuality; font-family:'Helvetica Neue'; stroke:rgb(38,38,38); color-interpolation:linearRGB;\"\n",
       "    ><text x=\"-7\" xml:space=\"preserve\" y=\"10\" style=\"stroke:none;\"\n",
       "      >0.3</text\n",
       "    ></g\n",
       "    ><g transform=\"translate(246.6,378)\" style=\"font-size:10px; fill:rgb(38,38,38); text-rendering:geometricPrecision; image-rendering:optimizeQuality; color-rendering:optimizeQuality; font-family:'Helvetica Neue'; stroke:rgb(38,38,38); color-interpolation:linearRGB;\"\n",
       "    ><text x=\"-7\" xml:space=\"preserve\" y=\"10\" style=\"stroke:none;\"\n",
       "      >0.4</text\n",
       "    ></g\n",
       "    ><g transform=\"translate(290,378)\" style=\"font-size:10px; fill:rgb(38,38,38); text-rendering:geometricPrecision; image-rendering:optimizeQuality; color-rendering:optimizeQuality; font-family:'Helvetica Neue'; stroke:rgb(38,38,38); color-interpolation:linearRGB;\"\n",
       "    ><text x=\"-7\" xml:space=\"preserve\" y=\"10\" style=\"stroke:none;\"\n",
       "      >0.5</text\n",
       "    ></g\n",
       "    ><g transform=\"translate(333.4,378)\" style=\"font-size:10px; fill:rgb(38,38,38); text-rendering:geometricPrecision; image-rendering:optimizeQuality; color-rendering:optimizeQuality; font-family:'Helvetica Neue'; stroke:rgb(38,38,38); color-interpolation:linearRGB;\"\n",
       "    ><text x=\"-7\" xml:space=\"preserve\" y=\"10\" style=\"stroke:none;\"\n",
       "      >0.6</text\n",
       "    ></g\n",
       "    ><g transform=\"translate(376.8,378)\" style=\"font-size:10px; fill:rgb(38,38,38); text-rendering:geometricPrecision; image-rendering:optimizeQuality; color-rendering:optimizeQuality; font-family:'Helvetica Neue'; stroke:rgb(38,38,38); color-interpolation:linearRGB;\"\n",
       "    ><text x=\"-7\" xml:space=\"preserve\" y=\"10\" style=\"stroke:none;\"\n",
       "      >0.7</text\n",
       "    ></g\n",
       "    ><g transform=\"translate(420.2,378)\" style=\"font-size:10px; fill:rgb(38,38,38); text-rendering:geometricPrecision; image-rendering:optimizeQuality; color-rendering:optimizeQuality; font-family:'Helvetica Neue'; stroke:rgb(38,38,38); color-interpolation:linearRGB;\"\n",
       "    ><text x=\"-7\" xml:space=\"preserve\" y=\"10\" style=\"stroke:none;\"\n",
       "      >0.8</text\n",
       "    ></g\n",
       "    ><g transform=\"translate(463.6,378)\" style=\"font-size:10px; fill:rgb(38,38,38); text-rendering:geometricPrecision; image-rendering:optimizeQuality; color-rendering:optimizeQuality; font-family:'Helvetica Neue'; stroke:rgb(38,38,38); color-interpolation:linearRGB;\"\n",
       "    ><text x=\"-7\" xml:space=\"preserve\" y=\"10\" style=\"stroke:none;\"\n",
       "      >0.9</text\n",
       "    ></g\n",
       "    ><g transform=\"translate(507,378)\" style=\"font-size:10px; fill:rgb(38,38,38); text-rendering:geometricPrecision; image-rendering:optimizeQuality; color-rendering:optimizeQuality; font-family:'Helvetica Neue'; stroke:rgb(38,38,38); color-interpolation:linearRGB;\"\n",
       "    ><text x=\"-3\" xml:space=\"preserve\" y=\"10\" style=\"stroke:none;\"\n",
       "      >1</text\n",
       "    ></g\n",
       "    ><g transform=\"translate(290.0002,392)\" style=\"font-size:11px; fill:rgb(38,38,38); text-rendering:geometricPrecision; image-rendering:optimizeQuality; color-rendering:optimizeQuality; font-family:'Helvetica Neue'; stroke:rgb(38,38,38); color-interpolation:linearRGB;\"\n",
       "    ><text x=\"-22.5\" xml:space=\"preserve\" y=\"11\" style=\"stroke:none;\"\n",
       "      >Time t (s)</text\n",
       "    ></g\n",
       "    ><g style=\"fill:rgb(38,38,38); text-rendering:geometricPrecision; image-rendering:optimizeQuality; color-rendering:optimizeQuality; stroke-linejoin:round; stroke:rgb(38,38,38); color-interpolation:linearRGB; stroke-width:0.5;\"\n",
       "    ><line y2=\"31\" style=\"fill:none;\" x1=\"73\" x2=\"73\" y1=\"374\"\n",
       "      /><line y2=\"31\" style=\"fill:none;\" x1=\"507\" x2=\"507\" y1=\"374\"\n",
       "      /><line y2=\"374\" style=\"fill:none;\" x1=\"73\" x2=\"77.34\" y1=\"374\"\n",
       "      /><line y2=\"316.8333\" style=\"fill:none;\" x1=\"73\" x2=\"77.34\" y1=\"316.8333\"\n",
       "      /><line y2=\"259.6667\" style=\"fill:none;\" x1=\"73\" x2=\"77.34\" y1=\"259.6667\"\n",
       "      /><line y2=\"202.5\" style=\"fill:none;\" x1=\"73\" x2=\"77.34\" y1=\"202.5\"\n",
       "      /><line y2=\"145.3333\" style=\"fill:none;\" x1=\"73\" x2=\"77.34\" y1=\"145.3333\"\n",
       "      /><line y2=\"88.1667\" style=\"fill:none;\" x1=\"73\" x2=\"77.34\" y1=\"88.1667\"\n",
       "      /><line y2=\"31\" style=\"fill:none;\" x1=\"73\" x2=\"77.34\" y1=\"31\"\n",
       "      /><line y2=\"374\" style=\"fill:none;\" x1=\"507\" x2=\"502.66\" y1=\"374\"\n",
       "      /><line y2=\"316.8333\" style=\"fill:none;\" x1=\"507\" x2=\"502.66\" y1=\"316.8333\"\n",
       "      /><line y2=\"259.6667\" style=\"fill:none;\" x1=\"507\" x2=\"502.66\" y1=\"259.6667\"\n",
       "      /><line y2=\"202.5\" style=\"fill:none;\" x1=\"507\" x2=\"502.66\" y1=\"202.5\"\n",
       "      /><line y2=\"145.3333\" style=\"fill:none;\" x1=\"507\" x2=\"502.66\" y1=\"145.3333\"\n",
       "      /><line y2=\"88.1667\" style=\"fill:none;\" x1=\"507\" x2=\"502.66\" y1=\"88.1667\"\n",
       "      /><line y2=\"31\" style=\"fill:none;\" x1=\"507\" x2=\"502.66\" y1=\"31\"\n",
       "    /></g\n",
       "    ><g transform=\"translate(69,374)\" style=\"font-size:10px; fill:rgb(38,38,38); text-rendering:geometricPrecision; image-rendering:optimizeQuality; color-rendering:optimizeQuality; font-family:'Helvetica Neue'; stroke:rgb(38,38,38); color-interpolation:linearRGB;\"\n",
       "    ><text x=\"-10\" xml:space=\"preserve\" y=\"3.5\" style=\"stroke:none;\"\n",
       "      >-3</text\n",
       "    ></g\n",
       "    ><g transform=\"translate(69,316.8333)\" style=\"font-size:10px; fill:rgb(38,38,38); text-rendering:geometricPrecision; image-rendering:optimizeQuality; color-rendering:optimizeQuality; font-family:'Helvetica Neue'; stroke:rgb(38,38,38); color-interpolation:linearRGB;\"\n",
       "    ><text x=\"-10\" xml:space=\"preserve\" y=\"3.5\" style=\"stroke:none;\"\n",
       "      >-2</text\n",
       "    ></g\n",
       "    ><g transform=\"translate(69,259.6667)\" style=\"font-size:10px; fill:rgb(38,38,38); text-rendering:geometricPrecision; image-rendering:optimizeQuality; color-rendering:optimizeQuality; font-family:'Helvetica Neue'; stroke:rgb(38,38,38); color-interpolation:linearRGB;\"\n",
       "    ><text x=\"-10\" xml:space=\"preserve\" y=\"3.5\" style=\"stroke:none;\"\n",
       "      >-1</text\n",
       "    ></g\n",
       "    ><g transform=\"translate(69,202.5)\" style=\"font-size:10px; fill:rgb(38,38,38); text-rendering:geometricPrecision; image-rendering:optimizeQuality; color-rendering:optimizeQuality; font-family:'Helvetica Neue'; stroke:rgb(38,38,38); color-interpolation:linearRGB;\"\n",
       "    ><text x=\"-6\" xml:space=\"preserve\" y=\"3.5\" style=\"stroke:none;\"\n",
       "      >0</text\n",
       "    ></g\n",
       "    ><g transform=\"translate(69,145.3333)\" style=\"font-size:10px; fill:rgb(38,38,38); text-rendering:geometricPrecision; image-rendering:optimizeQuality; color-rendering:optimizeQuality; font-family:'Helvetica Neue'; stroke:rgb(38,38,38); color-interpolation:linearRGB;\"\n",
       "    ><text x=\"-6\" xml:space=\"preserve\" y=\"3.5\" style=\"stroke:none;\"\n",
       "      >1</text\n",
       "    ></g\n",
       "    ><g transform=\"translate(69,88.1667)\" style=\"font-size:10px; fill:rgb(38,38,38); text-rendering:geometricPrecision; image-rendering:optimizeQuality; color-rendering:optimizeQuality; font-family:'Helvetica Neue'; stroke:rgb(38,38,38); color-interpolation:linearRGB;\"\n",
       "    ><text x=\"-6\" xml:space=\"preserve\" y=\"3.5\" style=\"stroke:none;\"\n",
       "      >2</text\n",
       "    ></g\n",
       "    ><g transform=\"translate(69,31)\" style=\"font-size:10px; fill:rgb(38,38,38); text-rendering:geometricPrecision; image-rendering:optimizeQuality; color-rendering:optimizeQuality; font-family:'Helvetica Neue'; stroke:rgb(38,38,38); color-interpolation:linearRGB;\"\n",
       "    ><text x=\"-6\" xml:space=\"preserve\" y=\"3.5\" style=\"stroke:none;\"\n",
       "      >3</text\n",
       "    ></g\n",
       "    ><g transform=\"translate(56,202.4998) rotate(-90)\" style=\"font-size:11px; fill:rgb(38,38,38); text-rendering:geometricPrecision; image-rendering:optimizeQuality; color-rendering:optimizeQuality; font-family:'Helvetica Neue'; stroke:rgb(38,38,38); color-interpolation:linearRGB;\"\n",
       "    ><text x=\"-25\" xml:space=\"preserve\" y=\"-3\" style=\"stroke:none;\"\n",
       "      >Amplitude</text\n",
       "    ></g\n",
       "    ><g transform=\"translate(290.0003,28.25)\" style=\"font-size:11px; text-rendering:geometricPrecision; image-rendering:optimizeQuality; color-rendering:optimizeQuality; font-family:'Helvetica Neue'; color-interpolation:linearRGB; font-weight:bold;\"\n",
       "    ><text x=\"-50.5\" xml:space=\"preserve\" y=\"-3\" style=\"stroke:none;\"\n",
       "      >A Sinusoidal Signal</text\n",
       "    ></g\n",
       "    ><g style=\"stroke-linecap:butt; fill:rgb(0,114,189); text-rendering:geometricPrecision; image-rendering:optimizeQuality; color-rendering:optimizeQuality; stroke-linejoin:round; stroke:rgb(0,114,189); color-interpolation:linearRGB; stroke-width:0.5;\"\n",
       "    ><path d=\"M73 323.7688 L77.3838 307.4415 L81.7677 289.4256 L86.1515 270.011 L90.5354 249.5102 L94.9192 228.2529 L99.303 206.5813 L103.6869 184.844 L108.0707 163.3908 L112.4545 142.5669 L116.8384 122.7073 L121.2222 104.1316 L125.6061 87.1387 L129.9899 72.0021 L134.3737 58.9651 L138.7576 48.2377 L143.1414 39.9925 L147.5253 34.362 L151.9091 31.437 L156.2929 31.2644 L160.6768 33.847 L165.0606 39.1434 L169.4444 47.0682 L173.8283 57.494 L178.2121 70.253 L182.5959 85.1398 L186.9798 101.9151 L191.3636 120.3088 L195.7475 140.025 L200.1313 160.7464 L204.5152 182.1397 L208.899 203.8605 L213.2828 225.5595 L217.6667 246.8875 L222.0505 267.5012 L226.4343 287.069 L230.8182 305.2761 L235.202 321.8295 L239.5859 336.4628 L243.9697 348.9406 L248.3535 359.0622 L252.7374 366.6646 L257.1212 371.6255 L261.505 373.8651 L265.8889 373.3474 L270.2727 370.0807 L274.6566 364.1176 L279.0404 355.5539 L283.4243 344.5276 L287.8081 331.216 L292.1919 315.8333 L296.5757 298.627 L300.9596 279.8741 L305.3434 259.8761 L309.7273 238.9549 L314.1111 217.4472 L318.4949 195.699 L322.8788 174.0602 L327.2626 152.879 L331.6465 132.4962 L336.0303 113.2398 L340.4142 95.4196 L344.798 79.3224 L349.1818 65.2072 L353.5656 53.301 L357.9495 43.7956 L362.3333 36.8437 L366.7172 32.5573 L371.101 31.0054 L375.4848 32.2129 L379.8687 36.1603 L384.2525 42.7842 L388.6364 51.9781 L393.0202 63.5938 L397.404 77.4446 L401.7879 93.3076 L406.1717 110.9276 L410.5556 130.021 L414.9394 150.2806 L419.3232 171.3804 L423.7071 192.981 L428.0909 214.7347 L432.4748 236.2915 L436.8586 257.3047 L441.2424 277.436 L445.6263 296.3615 L450.0101 313.7769 L454.394 329.4017 L458.7778 342.9846 L463.1616 354.307 L467.5455 363.1869 L471.9293 369.4812 L476.3131 373.0887 L480.697 373.9514 L485.0808 372.0554 L489.4647 367.4312 L493.8485 360.1531 L498.2323 350.3384 L502.6161 338.1449 L507 323.7688\" style=\"fill:none; fill-rule:evenodd;\"\n",
       "    /></g\n",
       "  ></g\n",
       "></svg\n",
       ">\n"
      ]
     },
     "metadata": {},
     "output_type": "display_data"
    }
   ],
   "source": [
    "plot(t,x)\n",
    "title('A Sinusoidal Signal')\n",
    "xlabel('Time t (s)')\n",
    "ylabel('Amplitude')\n",
    "grid"
   ]
  },
  {
   "cell_type": "markdown",
   "id": "de423a42",
   "metadata": {
    "slideshow": {
     "slide_type": "notes"
    }
   },
   "source": [
    "If you want to execute this in MATLAB, you can create a file by copying this text into an `m-file` called `sinewave.m`:\n",
    "\n",
    "```matlab\n",
    "% SINEWAVE - plot function $x(t) = 3 \\cos(2\\pi t - 3 \\pi/4)$ for $t = 0\\ldots 1$\n",
    "\n",
    "%% Set up the problem\n",
    "% define t\n",
    "t = linspace(0, 1, 100);\n",
    "% define x\n",
    "x = 3 * cos(2*pi*2*t - 3*pi/4);\n",
    "%% Plot result and label plot\n",
    "plot(t,x)\n",
    "title('A Sinusoidal Signal')\n",
    "xlabel('Time t (s)')\n",
    "ylabel('Amplitude')\n",
    "grid\n",
    "```"
   ]
  },
  {
   "cell_type": "code",
   "execution_count": 1,
   "id": "d24eb044",
   "metadata": {
    "slideshow": {
     "slide_type": "notes"
    }
   },
   "outputs": [
    {
     "data": {
      "image/png": "[encoded data removed]"
     },
     "metadata": {},
     "output_type": "display_data"
    }
   ],
   "source": []
  },
  {
   "cell_type": "markdown",
   "id": "aa58bff1",
   "metadata": {
    "slideshow": {
     "slide_type": "notes"
    }
   },
   "source": [
    "To run this script, just type the filename without the .m extension."
   ]
  },
  {
   "cell_type": "code",
   "execution_count": 7,
   "id": "ec9afee8",
   "metadata": {
    "slideshow": {
     "slide_type": "notes"
    }
   },
   "outputs": [
    {
     "data": {
      "image/png": "[encoded data removed]"
     },
     "metadata": {},
     "output_type": "display_data"
    }
   ],
   "source": [
    "sinewave"
   ]
  },
  {
   "cell_type": "markdown",
   "id": "e441e9ce",
   "metadata": {
    "slideshow": {
     "slide_type": "notes"
    }
   },
   "source": [
    "(Download [sinewave.m](https://cpjobling.github.io/eg-247-textbook/introduction/sinewave.m))\n",
    "\n",
    "To run this script, just type the filename without the `.m` extension. Try adjusting the values of the numerical constants and see what insights you gain."
   ]
  },
  {
   "cell_type": "markdown",
   "id": "fc579aa3",
   "metadata": {
    "slideshow": {
     "slide_type": "subslide"
    }
   },
   "source": [
    "### Returning to the Question\n",
    "\n",
    "Sinusoidal signals (e.g. AC) are pretty fundamental in electrical engineering. The mathematical model of a sinusoidal signal is:\n",
    "\n",
    "$$x(t) = A \\cos (2\\pi f_0 t - \\phi).$$"
   ]
  },
  {
   "cell_type": "markdown",
   "id": "fa3794d5",
   "metadata": {
    "slideshow": {
     "slide_type": "subslide"
    }
   },
   "source": [
    "#### Exercise -- second go after gaining insight from your computer\n",
    "\n",
    "Using the insight just gained by exploring this function with a computer, match each of the symbols to its definition again.\n",
    "\n",
    "| Symbol     | Definition         |\n",
    "| ---------- | ------------------ |\n",
    "| $A$        | Phase in radians   |\n",
    "| $f_0$      | Frequency in Hz    |\n",
    "| $\\phi$     | Amplitude          |\n",
    "| $2\\pi f_0$ | Frequency in rad/s |"
   ]
  },
  {
   "cell_type": "markdown",
   "id": "b68eebb8",
   "metadata": {
    "slideshow": {
     "slide_type": "subslide"
    }
   },
   "source": [
    "Did you get different answers?"
   ]
  },
  {
   "cell_type": "markdown",
   "id": "f823cc96",
   "metadata": {
    "slideshow": {
     "slide_type": "subslide"
    }
   },
   "source": [
    "### Supplementary question\n",
    "\n",
    "What is the period of the waveform in seconds?"
   ]
  },
  {
   "cell_type": "markdown",
   "id": "463fa8ee",
   "metadata": {
    "slideshow": {
     "slide_type": "notes"
    }
   },
   "source": [
    "**Notes**\n",
    "\n",
    "- In communications and electronic signal processing, the frequency of sinusoidal signals us usually given in _cycles per second_ or Hz.\n",
    "- In mathematics, the frequency is always expressed in _radians per second_.\n",
    "- In some courses, including later in this one and in EG-243 Control Systems, the frequency $2\\pi f_0$ is often called the _natural frequency_ and is usually written $\\omega_n$."
   ]
  },
  {
   "cell_type": "markdown",
   "id": "dd2c3440",
   "metadata": {
    "slideshow": {
     "slide_type": "notes"
    }
   },
   "source": [
    "### Try This Yourself\n",
    "\n",
    "- Use any or all of computing tools that you have access to to explore other sinusoids. Change the values of the variables and explain what happens.\n",
    "- Try adding sinusoids of different amplitudes and different frequencies together and see what happens.\n",
    "- Change `cos` to `sin` and see what happens."
   ]
  },
  {
   "cell_type": "markdown",
   "id": "950e5188",
   "metadata": {
    "slideshow": {
     "slide_type": "slide"
    }
   },
   "source": [
    "(ctsystems)=\n",
    "\n",
    "## Continuous-time Systems\n",
    "\n",
    "Systems operate on signals. In mathematical terms, a _system_ is a function or an _operator_, $H\\{\\}$ that maps the input signal $x(t)$ to an output signal $y(t)$.\n",
    "\n",
    "Mathematically we would write this:\n",
    "\n",
    "$$y(t) = H\\{x(t)\\}.$$"
   ]
  },
  {
   "cell_type": "markdown",
   "id": "37c0765d",
   "metadata": {
    "slideshow": {
     "slide_type": "subslide"
    }
   },
   "source": [
    "### Example 1\n",
    "\n",
    "An example of a continuous-time system is an electronic amplifier with a gain of 5 and level shift of 2: $y(t) = H\\{x(t)\\} = 5x(t) + 2$.\n",
    "\n",
    "In this course, we will model such systems as block diagram models in Simulink."
   ]
  },
  {
   "cell_type": "markdown",
   "id": "f8d21c9f",
   "metadata": {
    "slideshow": {
     "slide_type": "subslide"
    }
   },
   "source": [
    "#### Block diagram model in Simulink\n",
    "\n",
    "![Simulink model of a Continuous system](./pictures/css.png)"
   ]
  },
  {
   "cell_type": "markdown",
   "id": "6668cfd3",
   "metadata": {
    "slideshow": {
     "slide_type": "notes"
    }
   },
   "source": [
    "The Similink code can be downloaded from this file [gain_level_shift.slx](https://cpjobling.github.io/eg-247-textbook/introduction/gain_level_shift.slx)."
   ]
  },
  {
   "cell_type": "markdown",
   "id": "3d53673f",
   "metadata": {
    "slideshow": {
     "slide_type": "slide"
    }
   },
   "source": [
    "(dtsignals)=\n",
    "\n",
    "## Discrete-time Signals\n",
    "\n",
    "Discrete-time signals are a function of a time index $n$. A discrete-time signal $x[n]$, unlike a continuous-time signal $x(t)$, is only defined at integer values of the independent variable $n$. This means that the signal is only active at specific periods of time. Discrete-time signals can be stored in computer memory."
   ]
  },
  {
   "cell_type": "markdown",
   "id": "b1fe4464",
   "metadata": {
    "slideshow": {
     "slide_type": "subslide"
    }
   },
   "source": [
    "### Example 2\n",
    "\n",
    "Consider the following simple signal, a pulse sequence:\n",
    "\n",
    "$$\n",
    "  y[n] = \\left\\{\n",
    "    {\n",
    "      \\begin{array}{ll}\n",
    "        {5,\\;0 \\le n < 10}\\\\\n",
    "        {0,\\;{\\rm{otherwise}}\\quad \\;}\n",
    "      \\end{array}\n",
    "    }\n",
    "  \\right.\n",
    "$$\n",
    "\n",
    "We can plot this in MATLAB as a _stem plot_"
   ]
  },
  {
   "cell_type": "markdown",
   "id": "2be6ba37",
   "metadata": {
    "slideshow": {
     "slide_type": "subslide"
    }
   },
   "source": [
    "#### Procedure\n",
    "\n",
    "Define function using this text:\n",
    "\n",
    "```matlab\n",
    "% Define the function\n",
    "function [ y ] = x( n )\n",
    "  if n < 0 | n >= 10 \n",
    "      y = 0;\n",
    "  else \n",
    "      y = 5;\n",
    "  end\n",
    "end\n",
    "```\n",
    "\n",
    "Save as `y.m`"
   ]
  },
  {
   "cell_type": "code",
   "execution_count": 10,
   "id": "340a7a49",
   "metadata": {
    "slideshow": {
     "slide_type": "subslide"
    }
   },
   "outputs": [],
   "source": [
    "%% Define sample points\n",
    "n = -15:18;\n",
    "%% Make space for the signal\n",
    "xn = zeros(size(n));"
   ]
  },
  {
   "cell_type": "code",
   "execution_count": 11,
   "id": "6580c97b",
   "metadata": {
    "slideshow": {
     "slide_type": "subslide"
    }
   },
   "outputs": [],
   "source": [
    "%% Define sample points\n",
    "n = -15:18;\n",
    "%% Make space for the signal\n",
    "xn = zeros(size(n));\n",
    "\n",
    "%% Compute the signal x[n]\n",
    "for i = 1:length(xn)\n",
    "    xn(i) = y(n(i));\n",
    "end"
   ]
  },
  {
   "cell_type": "code",
   "execution_count": 12,
   "id": "acf769e3",
   "metadata": {
    "slideshow": {
     "slide_type": "subslide"
    }
   },
   "outputs": [
    {
     "data": {
      "image/png": "[encoded data removed]"
     },
     "metadata": {},
     "output_type": "display_data"
    }
   ],
   "source": [
    "%% Plot the result\n",
    "stem(n,xn)\n",
    "axis([-15, 18, 0, 6])\n",
    "title('Stem Plot for a Discrete Signal')\n",
    "xlabel('Sample n')\n",
    "ylabel('Signal x[n]')\n",
    "grid"
   ]
  },
  {
   "cell_type": "markdown",
   "id": "28a9aaba",
   "metadata": {
    "slideshow": {
     "slide_type": "slide"
    }
   },
   "source": [
    "(dt_systems)=\n",
    "\n",
    "## Discrete-time Systems\n",
    "\n",
    "A discrete-time system, like its continuous-time counterpart, is a function, $H\\{\\}$, that maps the input $x[n]$￼ ￼to the output $y[n] = H\\{x[n]\\}$. An example of a discrete-time system is the _two-tap_ filter:\n",
    "\n",
    "$$y[n] = H\\{x[n]\\} = \\frac{3}{4}x[n] + \\frac{1}{4}x[n-1]$$"
   ]
  },
  {
   "cell_type": "markdown",
   "id": "50acfac1",
   "metadata": {
    "slideshow": {
     "slide_type": "subslide"
    }
   },
   "source": [
    "The term _tap_ denotes that output at time instant $n$ is formed from two time instants of the input, $n$ and $n – 1$. Check out a block diagram of a two-tap filter system:\n",
    "\n",
    "![Simulink model of a discrete-time system](pictures/ds.png)\n",
    "\n",
    "This system is available as a Simulink model [discrete_system.slx](https://cpjobling.github.io/eg-247-textbook/introduction/discrete_system.slx)"
   ]
  },
  {
   "cell_type": "markdown",
   "id": "65374e9b",
   "metadata": {
    "slideshow": {
     "slide_type": "notes"
    }
   },
   "source": [
    "In words, this system scales the present input by 3/4 and adds it to the past value of the input scaled by 1/4. The notion of the past input comes about because $x[n - 1]$ is lagging one sample value behind $x[n]$. The term _filter_ describes the output as an _averaging_ of the present input and the previous input. _Averaging_ is a form of filtering."
   ]
  },
  {
   "cell_type": "markdown",
   "id": "6d418373",
   "metadata": {
    "slideshow": {
     "slide_type": "slide"
    }
   },
   "source": [
    "(sigclass)=\n",
    "\n",
    "## Signal Classifications"
   ]
  },
  {
   "cell_type": "markdown",
   "id": "e4b605cb",
   "metadata": {
    "slideshow": {
     "slide_type": "subslide"
    }
   },
   "source": [
    "### Periodic\n",
    "\n",
    "Signals that repeat over and over are said to be _periodic_. In mathematical terms, a signal is periodic if:\n",
    "\n",
    "- _Continuous signal_ $x(t + T) = x(t)$\n",
    "- _Discrete signal_ $x[n + N] = x[n]$\n",
    "\n",
    "The smallest $T$ or $N$ for which the equality holds is the _signal period_."
   ]
  },
  {
   "cell_type": "markdown",
   "id": "e0742a9c",
   "metadata": {
    "slideshow": {
     "slide_type": "notes"
    }
   },
   "source": [
    "The sinusoidal signal we saw earlier is periodic because of the $\\mod 2\\pi$ property of cosines. The signal of the sinusoid has a period 0.5 seconds (s), which turns out to be the reciprocal of the frequency $1/f_0$ Hz."
   ]
  },
  {
   "cell_type": "markdown",
   "id": "9ed6205a",
   "metadata": {
    "slideshow": {
     "slide_type": "subslide"
    }
   },
   "source": [
    "#### Square Wave\n",
    "\n",
    "This code generates a square wave."
   ]
  },
  {
   "cell_type": "code",
   "execution_count": 13,
   "id": "84af7f96",
   "metadata": {
    "slideshow": {
     "slide_type": "subslide"
    }
   },
   "outputs": [],
   "source": [
    "%% A Periodic signal (square wave)\n",
    "t = linspace(0, 1, 500);\n",
    "x = square(2 * pi * 5 * t);"
   ]
  },
  {
   "cell_type": "markdown",
   "id": "ee9c6dbc",
   "metadata": {
    "slideshow": {
     "slide_type": "notes"
    }
   },
   "source": [
    "This Square wave is a 5 Hz waveform sampled at 500 Hz for 1 second"
   ]
  },
  {
   "cell_type": "code",
   "execution_count": 14,
   "id": "dcb2258e",
   "metadata": {
    "slideshow": {
     "slide_type": "subslide"
    }
   },
   "outputs": [
    {
     "data": {
      "image/png": "[encoded data removed]"
     },
     "metadata": {},
     "output_type": "display_data"
    }
   ],
   "source": [
    "plot(t, x);\n",
    "ylim([-2, 2]);\n",
    "grid()\n",
    "title('A Periodic Signal')\n",
    "xlabel('Time t (s)')\n",
    "ylabel('Amplitude')"
   ]
  },
  {
   "cell_type": "markdown",
   "id": "84f57ce8",
   "metadata": {
    "slideshow": {
     "slide_type": "fragment"
    }
   },
   "source": [
    "What is the period $T$ in milliseconds?"
   ]
  },
  {
   "cell_type": "markdown",
   "id": "cd77d483",
   "metadata": {
    "slideshow": {
     "slide_type": "subslide"
    }
   },
   "source": [
    "### Aperiodic\n",
    "\n",
    "Signals that are _deterministic_ (completely determined functions of time) but not periodic are known as _aperiodic_. Point of view matters. If a signal occurs infrequently, you may view it as aperiodic.\n",
    "\n",
    "This is how we generate an aperiodic rectangular pulse of duration $\\tau$ in Matlab:"
   ]
  },
  {
   "cell_type": "code",
   "execution_count": 15,
   "id": "75c189d5",
   "metadata": {
    "slideshow": {
     "slide_type": "subslide"
    }
   },
   "outputs": [],
   "source": [
    "%% An aperiodic function\n",
    "tau = 1;\n",
    "x = linspace(-1,5,1000);\n",
    "y = rectangularPulse(0,tau,x);"
   ]
  },
  {
   "cell_type": "code",
   "execution_count": 16,
   "id": "b07f7074",
   "metadata": {
    "slideshow": {
     "slide_type": "subslide"
    }
   },
   "outputs": [
    {
     "data": {
      "image/png": "[encoded data removed]"
     },
     "metadata": {},
     "output_type": "display_data"
    }
   ],
   "source": [
    "plot(x,y)\n",
    "ylim([-0.2,1.2])\n",
    "grid\n",
    "title('An Aperiodic Signal')\n",
    "xlabel('Time t (s)')\n",
    "ylabel('Amplitude')"
   ]
  },
  {
   "cell_type": "markdown",
   "id": "19307d9e",
   "metadata": {
    "slideshow": {
     "slide_type": "subslide"
    }
   },
   "source": [
    "### Random\n",
    "\n",
    "A signal is random if one or more signal attributes takes on unpredictable\n",
    "values in a probability sense.\n",
    "\n",
    "Engineers working with communication receivers are concerned with random\n",
    "signals, especially noise."
   ]
  },
  {
   "cell_type": "code",
   "execution_count": 17,
   "id": "a3f805f2",
   "metadata": {
    "slideshow": {
     "slide_type": "subslide"
    }
   },
   "outputs": [
    {
     "data": {
      "image/png": "[encoded data removed]"
     },
     "metadata": {},
     "output_type": "display_data"
    }
   ],
   "source": [
    "%% Plot a Random Signal\n",
    "plot(0.5 + 0.25 * rand(100,1))\n",
    "ylim([0,1])\n",
    "grid\n",
    "title('Random Signal')\n",
    "xlabel('Time t (s)')\n",
    "ylabel('Amplitude')"
   ]
  },
  {
   "cell_type": "markdown",
   "id": "8e84f025",
   "metadata": {
    "slideshow": {
     "slide_type": "slide"
    }
   },
   "source": [
    "(domains)=\n",
    "\n",
    "## Domains for Signals and Systems\n",
    "\n",
    "Most of the signals we encounter on a daily basis reside in the time domain. They’re functions of independent variable $t$ or $n$. But sometimes when you’re working with continuous-time signals, you may need to transform away from the time domain ($t$) to another domain."
   ]
  },
  {
   "cell_type": "markdown",
   "id": "8601f2a5",
   "metadata": {
    "slideshow": {
     "slide_type": "subslide"
    }
   },
   "source": [
    "### Other Domains you will encounter\n",
    "\n",
    "The most commonly used domains used when analyzing continuous-time signals are the frequency domain ($f$ or $\\omega$) and the Laplace $s$-domain ($s$).\n",
    "\n",
    "Similarly, for discrete-time signals, you may need to transform from the discrete-time domain ($n$) to the frequency domain ($\\hat{\\omega}$) or the z-domain ($z$).\n",
    "\n",
    "This section briefly introduces the world of signals and systems in the frequency, s-, and z-domains. More on these domains will follow."
   ]
  },
  {
   "cell_type": "markdown",
   "id": "ab89e9c7",
   "metadata": {
    "slideshow": {
     "slide_type": "notes"
    }
   },
   "source": [
    "Systems, continuous and discrete, can also be transformed to the frequency and s- and z-domains, respectively. Signals can, in fact, be passed through systems in these alternative domains. When a signal is passed through a system in the frequency domain, for example, the frequency domain output signal can later be returned to the time domain and appear just as if the time-domain version of the system operated on the signal in the time domain."
   ]
  },
  {
   "cell_type": "markdown",
   "id": "ae9466a6",
   "metadata": {
    "slideshow": {
     "slide_type": "subslide"
    }
   },
   "source": [
    "Consider the sum of a two-sinusoids signal\n",
    "\n",
    "$$x(t) = \\underbrace {A_1\\cos(2\\pi f_1 t)}_{s_1} + \\underbrace {A_2\\cos(2\\pi f_2 t)}_{s_2}$$"
   ]
  },
  {
   "cell_type": "markdown",
   "id": "0ea01d7a",
   "metadata": {
    "slideshow": {
     "slide_type": "notes"
    }
   },
   "source": [
    "This can be coded as\n",
    "\n",
    "```matlab\n",
    "% TWO_SINES - plot two sinusoids signal\n",
    "\n",
    "A1 = 2; f1 = 1;\n",
    "A2 = 1.5;f2 = 2.2;\n",
    "t = linspace(0, 3*(1/f1), 1000);\n",
    "s1 = A1*cos(2*pi*f1*t);\n",
    "s2 = A2*cos(2*pi*f2*t);\n",
    "subplot(4,1,1)\n",
    "plot(t,s1),ylim([-5,5]),xlabel('Time t (s) '),ylabel('s1')\n",
    "subplot(4,1,2)\n",
    "plot(t,s2),ylim([-5,5]),xlabel('Time t (s) '),ylabel('s2')\n",
    "subplot(4,1,3)\n",
    "plot(t,s1+s2),ylim([-5,5]),xlabel('Time t (s) '),ylabel('x(t) = s2 + s2')\n",
    "subplot(4,1,4)\n",
    "axis([0,4,0,2.5])\n",
    "arrow([f1,0],[f1,A1]),text(f1,A1+0.2,'A1'),text(f1+0.05,0.2,'f1')\n",
    "arrow([f2,0],[f2,A2]),text(f2,A2+0.2,'A2'),text(f2+0.05,0.2,'f2')\n",
    "ylabel('Frequency Spectrum X(f)'),xlabel('Frequency (Hz)')\n",
    "```\n",
    "\n",
    "Save this as `two_sines.m`"
   ]
  },
  {
   "cell_type": "markdown",
   "id": "03f82abe",
   "metadata": {
    "slideshow": {
     "slide_type": "subslide"
    }
   },
   "source": [
    "Run"
   ]
  },
  {
   "cell_type": "code",
   "execution_count": 20,
   "id": "b29b4441",
   "metadata": {
    "slideshow": {
     "slide_type": "fragment"
    }
   },
   "outputs": [
    {
     "data": {
      "image/png": "[encoded data removed]"
     },
     "metadata": {},
     "output_type": "display_data"
    }
   ],
   "source": [
    "two_sines"
   ]
  },
  {
   "cell_type": "markdown",
   "id": "a5f8daab",
   "metadata": {
    "slideshow": {
     "slide_type": "notes"
    }
   },
   "source": [
    "(Download [two_sines.m](https://cpjobling.github.io/eg-247-textbook/introduction/two_sines.m))"
   ]
  },
  {
   "cell_type": "markdown",
   "id": "04a6f3f1",
   "metadata": {
    "slideshow": {
     "slide_type": "notes"
    }
   },
   "source": [
    "### Viewing Signals in the Frequency Domain\n",
    "\n",
    "The top waveform plot, denoted $s_1$, is a single sinusoid at frequency $f_1$ and peak amplitude $A_1$. The waveform repeats every period $T_1 = 1/f_1$. The second waveform plot, denoted $s_2$, is a single sinusoid at frequency $f_2 > f_1$ and peak amplitude $A_2 < A_1$. The sum signal, $s_1 + s_2$, in the time domain is a squiggly line (third waveform plot), but the amplitudes and frequencies (periods) of the sinusoids aren’t as clear here as they are in the first two plots. The frequency spectrum (bottom plot) reveals that $x(t)$ is composed of just two sinusoids, with both the frequencies and amplitudes discernible.\n",
    "\n",
    "Think about tuning in a radio station. Stations are located at different center frequencies. The stations don’t interfere with one another because they’re separated from each other in the frequency domain. In the frequency spectrum plot, imagine that $f_1$ and $f_2$ are the signals from two radio stations, viewed in the frequency domain. You can design a receiving system to filter $s_1$ from $s_1 + s_2$. The filter is designed to pass $s_1$ and block $s_2$."
   ]
  },
  {
   "cell_type": "markdown",
   "id": "f263082d",
   "metadata": {
    "slideshow": {
     "slide_type": "subslide"
    }
   },
   "source": [
    "### Fourier Transform\n",
    "\n",
    "We use the _Fourier transform_ to move away from the time domain and into the frequency domain. To get back to the time domain, use the _inverse Fourier transform_. We will find out more about these transforms in this module."
   ]
  },
  {
   "cell_type": "markdown",
   "id": "29f637e5",
   "metadata": {
    "slideshow": {
     "slide_type": "subslide"
    }
   },
   "source": [
    "### Laplace and Z-Transform Domains\n",
    "\n",
    "From the time domain to the frequency domain, only one independent variable, $t \\to f$, exists. When a signal is transformed to the s-domain, it becomes a function of a complex variable $s=\\sigma + j\\omega$. The two variables (real and imaginary parts) describe a location in the s-plane.\n",
    "\n",
    "In addition to visualization properties, the s-domain reduces differential equation solving to algebraic manipulation. For discrete-time signals, the z-transform accomplishes the same thing, except differential equations are replaced by difference equations."
   ]
  },
  {
   "cell_type": "markdown",
   "id": "5d5804b8",
   "metadata": {
    "slideshow": {
     "slide_type": "slide"
    }
   },
   "source": [
    "(systems_thinking)=\n",
    "\n",
    "## Systems Thinking and Systems Design\n",
    "\n",
    "See section **Testing Product Concepts with Behavioral Level Modeling** from Chapter 1 of [SS4D](https://www.dummies.com/store/product/Signals-and-Systems-For-Dummies.productCd-111847581X.html) ({cite}`ss4d` pages 18--20) and add some notes to summarize this for yourself.\n",
    "\n",
    "- We will use _behavioural modelling_\n",
    "- We will rely on _abstraction_\n",
    "- We work _top-down_\n",
    "- We make use of _mathematics_ and _mathematical software_."
   ]
  },
  {
   "cell_type": "markdown",
   "id": "9d318b23",
   "metadata": {
    "slideshow": {
     "slide_type": "slide"
    }
   },
   "source": [
    "## Familiar Signals and Systems\n",
    "\n",
    "See pages 21-23 of the free sample ([Chapter 1](https://www.dummies.com/store/product/Signals-and-Systems-For-Dummies.productCd-111847581X.html)) of {cite}`ss4d` for notes and details."
   ]
  },
  {
   "cell_type": "markdown",
   "id": "7aa046e1",
   "metadata": {
    "slideshow": {
     "slide_type": "notes"
    },
    "tags": []
   },
   "source": [
    "## Reference\n",
    "\n",
    "```{bibliography}\n",
    ":filter: docname in docnames\n",
    "```"
   ]
  }
 ],
 "metadata": {
  "celltoolbar": "Slideshow",
  "jupytext": {
   "formats": "ipynb,md:myst"
  },
  "kernelspec": {
   "display_name": "MKernel",
   "language": "matlab",
   "name": "mkernel"
  },
  "language_info": {
   "file_extension": ".m",
   "mimetype": "text/x-matlab",
   "name": "matlab"
  }
 },
 "nbformat": 4,
 "nbformat_minor": 5
}
