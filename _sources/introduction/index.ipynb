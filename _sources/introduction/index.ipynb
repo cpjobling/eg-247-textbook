{
 "cells": [
  {
   "cell_type": "markdown",
   "id": "20d3cbde",
   "metadata": {
    "slideshow": {
     "slide_type": "slide"
    }
   },
   "source": [
    "# Unit 1: Introducing Signals and Systems"
   ]
  },
  {
   "cell_type": "markdown",
   "id": "8fc7551f",
   "metadata": {
    "slideshow": {
     "slide_type": "slide"
    }
   },
   "source": [
    "## Colophon\n",
    "\n",
    "An annotatable copy of the notes for this presentation is available as [**Worksheet 1**](worksheet1).\n",
    "\n",
    "* The [Jupytext](https://jupytext.readthedocs.io/en/latest/index.html) source code for this page is [introduction/index.md](https://github.com/cpjobling/eg-247-textbook/blob/master/introduction/index.md).\n",
    "\n",
    "* You can view the notes for this presentation as a webpage ([HTML](https://cpjobling.github.io/eg-247-textbook/introduction/index.html)).\n",
    "\n",
    "* This page is downloadable as a [PDF](https://cpjobling.github.io/eg-247-textbook/introduction/introduction.pdf) file."
   ]
  },
  {
   "cell_type": "markdown",
   "id": "f0d18124",
   "metadata": {
    "slideshow": {
     "slide_type": "slide"
    }
   },
   "source": [
    "## Signals and Systems for Dummies\n",
    "\n",
    "Signals and Systems for Dummies (**SS4D**) {cite}`ss4d` provides a useful introduction to the topics that will be covered in this module and it is in the [Reading List](https://eu.alma.exlibrisgroup.com/leganto/readinglist/searchlists/27328240030002417) as a *recommended text*. I have based this presentation on Chapter 1 which is available as a [downloadable PDF](https://www.dummies.com/store/product/Signals-and-Systems-For-Dummies.productCd-111847581X.html) from the publishers.\n",
    "\n",
    "You should read Chapter 1 of SS4D in conjunction with the notes for this presentation."
   ]
  },
  {
   "cell_type": "markdown",
   "id": "ccee2aba",
   "metadata": {
    "slideshow": {
     "slide_type": "notes"
    }
   },
   "source": [
    "Note that Signals and Systems for Dummies is available as an e-book from the [University Library](https://whel-primo.hosted.exlibrisgroup.com/primo_library/libweb/action/dlDisplay.do?vid=44WHELF_SWA_VU1&search_scope=LSCOP_44WHELF_SWA_ALMA_DS&docId=44WHELF_SWA_ALMA_DS5177422270002417&fn=permalink)."
   ]
  },
  {
   "cell_type": "markdown",
   "id": "3f75cfea",
   "metadata": {
    "slideshow": {
     "slide_type": "slide"
    }
   },
   "source": [
    "## Topics\n",
    "\n",
    "* [Continuous-time Signals](ctsignals)\n",
    "* [Continuous-time Systems](ctsystems)\n",
    "* [Discrete-time Signals](dtsignals)\n",
    "* [Discrete-time Systems](dtsystems)\n",
    "* [Signal Classifications](sigclass)\n",
    "* [Domains for Signals](domains)\n",
    "* [Systems Thinking and Systems Design](systems_thinking)"
   ]
  },
  {
   "cell_type": "markdown",
   "id": "894762ca",
   "metadata": {
    "slideshow": {
     "slide_type": "slide"
    }
   },
   "source": [
    "(ctsignals)=\n",
    "## Continuous-time signals\n",
    "\n",
    "Continuous signals are represented mathematically by functions which vary continuously with time."
   ]
  },
  {
   "cell_type": "markdown",
   "id": "6758f3d5",
   "metadata": {
    "slideshow": {
     "slide_type": "subslide"
    }
   },
   "source": [
    "Sinusoidal signals (e.g. AC) are pretty fundamental in electrical engineering. The mathematical model of a sinusoidal signal is:\n",
    "\n",
    "$$x(t) = A \\cos (2\\pi f_0 t - \\phi).$$"
   ]
  },
  {
   "cell_type": "markdown",
   "id": "1ecc7e37",
   "metadata": {
    "slideshow": {
     "slide_type": "subslide"
    }
   },
   "source": [
    "### Exercise\n",
    "\n",
    "#### First attempt\n",
    "\n",
    "For this expression, we wish to match each of the symbols to its definition.\n",
    "\n",
    "Without computing anything, see if you can complete this table.\n",
    "\n",
    "| Symbol     | Definition         |\n",
    "|------------|--------------------|\n",
    "| $A$        | Phase in radians   |\n",
    "| $f_0$      | Frequency in Hz    |\n",
    "| $\\phi$     | Amplitude          |\n",
    "| $2\\pi f_0$ | Frequency in rad/s |"
   ]
  },
  {
   "cell_type": "markdown",
   "id": "8acb315c",
   "metadata": {
    "slideshow": {
     "slide_type": "subslide"
    }
   },
   "source": [
    "### Gaining insight using computers\n",
    "\n",
    "To help us answer these questions, let's use our Mathematical tools to plot a signal like this and explore it. The example we will use is from *Signals and Systems for Dummies* (SS4D: page 12):\n",
    "\n",
    "$$3\\cos(2\\pi\\cdot 2t - 3\\pi/4)$$"
   ]
  },
  {
   "cell_type": "markdown",
   "id": "73d9b2ed",
   "metadata": {
    "slideshow": {
     "slide_type": "subslide"
    }
   },
   "source": [
    "#### Wolfram Alpha\n",
    "\n",
    "Here's the link: <https://www.wolframalpha.com>\n",
    "\n",
    "Paste this into the search box\n",
    "\n",
    "    plot 3 cos(2 pi 2 t - 3 pi/4) \n",
    "\n",
    "Try changing the numbers to gain insight."
   ]
  },
  {
   "cell_type": "markdown",
   "id": "049c30f0",
   "metadata": {
    "slideshow": {
     "slide_type": "subslide"
    }
   },
   "source": [
    "#### MATLAB\n",
    "\n",
    "In MATLAB we would need to tackle this by breaking down the steps."
   ]
  },
  {
   "cell_type": "code",
   "execution_count": 1,
   "id": "958239eb",
   "metadata": {
    "slideshow": {
     "slide_type": "subslide"
    }
   },
   "outputs": [],
   "source": [
    "%Make sure that we have a clean workspace\n",
    "clear all\n",
    "format compact"
   ]
  },
  {
   "cell_type": "markdown",
   "id": "85be0976",
   "metadata": {
    "slideshow": {
     "slide_type": "subslide"
    }
   },
   "source": [
    "Define `t`"
   ]
  },
  {
   "cell_type": "code",
   "execution_count": 2,
   "id": "d8091231",
   "metadata": {
    "slideshow": {
     "slide_type": "fragment"
    }
   },
   "outputs": [],
   "source": [
    "t = linspace(0, 1, 100);"
   ]
  },
  {
   "cell_type": "markdown",
   "id": "01b73b0f",
   "metadata": {
    "slideshow": {
     "slide_type": "fragment"
    }
   },
   "source": [
    "Define `x`"
   ]
  },
  {
   "cell_type": "code",
   "execution_count": 3,
   "id": "3ff4ce12",
   "metadata": {
    "slideshow": {
     "slide_type": "subslide"
    }
   },
   "outputs": [],
   "source": [
    "x = 3 * cos(2*pi*2*t - 3*pi/4);"
   ]
  },
  {
   "cell_type": "markdown",
   "id": "eb53994a",
   "metadata": {
    "slideshow": {
     "slide_type": "subslide"
    }
   },
   "source": [
    "Plot result and label plot"
   ]
  },
  {
   "cell_type": "code",
   "execution_count": 4,
   "id": "864c174a",
   "metadata": {
    "slideshow": {
     "slide_type": "subslide"
    }
   },
   "outputs": [
    {
     "data": {
      "image/png": "[encoded data removed]",
      "text/plain": [
       "<IPython.core.display.Image object>"
      ]
     },
     "metadata": {
      "filenames": {
       "image/png": "/Users/eechris/code/src/github.com/cpjobling/eg-247-textbook/_build/jupyter_execute/introduction/index_17_0.png"
      }
     },
     "output_type": "display_data"
    }
   ],
   "source": [
    "plot(t,x)\n",
    "title('A Sinusoidal Signal')\n",
    "xlabel('Time t (s)')\n",
    "ylabel('Amplitude')\n",
    "grid"
   ]
  },
  {
   "cell_type": "markdown",
   "id": "e1cb9104",
   "metadata": {
    "slideshow": {
     "slide_type": "notes"
    }
   },
   "source": [
    "If you want to execute this in MATLAB, you can create a file by copying this text into an `m-file`:"
   ]
  },
  {
   "cell_type": "code",
   "execution_count": 5,
   "id": "a74f863a",
   "metadata": {
    "slideshow": {
     "slide_type": "notes"
    }
   },
   "outputs": [
    {
     "name": "stdout",
     "output_type": "stream",
     "text": [
      "Created file '/Users/eechris/code/src/github.com/cpjobling/eg-247-textbook/introduction/sinewave.m'.\n"
     ]
    }
   ],
   "source": [
    "%%file sinewave.m\n",
    "% SINEWAVE - plot function $x(t) = 3 \\cos(2\\pi t - 3 \\pi/4)$ for $t = 0\\ldots 1$\n",
    "\n",
    "%% Set up the problem\n",
    "% define t\n",
    "t = linspace(0, 1, 100);\n",
    "% define x\n",
    "x = 3 * cos(2*pi*2*t - 3*pi/4);\n",
    "%% Plot result and label plot\n",
    "plot(t,x)\n",
    "title('A Sinusoidal Signal')\n",
    "xlabel('Time t (s)')\n",
    "ylabel('Amplitude')\n",
    "grid"
   ]
  },
  {
   "cell_type": "code",
   "execution_count": 6,
   "id": "4fee9629",
   "metadata": {
    "slideshow": {
     "slide_type": "notes"
    }
   },
   "outputs": [],
   "source": [
    "edit sinewave"
   ]
  },
  {
   "cell_type": "markdown",
   "id": "78f07a59",
   "metadata": {
    "slideshow": {
     "slide_type": "notes"
    }
   },
   "source": [
    "To run this script, just type the filename without the .m extension."
   ]
  },
  {
   "cell_type": "code",
   "execution_count": 7,
   "id": "1b31cfab",
   "metadata": {
    "slideshow": {
     "slide_type": "notes"
    }
   },
   "outputs": [
    {
     "data": {
      "image/png": "[encoded data removed]",
      "text/plain": [
       "<IPython.core.display.Image object>"
      ]
     },
     "metadata": {
      "filenames": {
       "image/png": "/Users/eechris/code/src/github.com/cpjobling/eg-247-textbook/_build/jupyter_execute/introduction/index_22_0.png"
      }
     },
     "output_type": "display_data"
    }
   ],
   "source": [
    "sinewave"
   ]
  },
  {
   "cell_type": "markdown",
   "id": "ea0789ad",
   "metadata": {
    "slideshow": {
     "slide_type": "notes"
    }
   },
   "source": [
    "(Download [sinewave.m](https://cpjobling.github.io/eg-247-textbook/introduction/sinewave.m))\n",
    "\n",
    "To run this script, just type the filename without the `.m` extension. Try adjusting the values of the numerical constants and see what insights you gain."
   ]
  },
  {
   "cell_type": "markdown",
   "id": "3b6e74b1",
   "metadata": {
    "slideshow": {
     "slide_type": "subslide"
    }
   },
   "source": [
    "### Returning to the Question\n",
    "\n",
    "Sinusoidal signals (e.g. AC) are pretty fundamental in electrical engineering. The mathematical model of a sinusoidal signal is:\n",
    "\n",
    "$$x(t) = A \\cos (2\\pi f_0 t - \\phi).$$"
   ]
  },
  {
   "cell_type": "markdown",
   "id": "d66149fd",
   "metadata": {
    "slideshow": {
     "slide_type": "subslide"
    }
   },
   "source": [
    "#### Exercise -- second go after gaining insight from your computer\n",
    "\n",
    "Using the insight just gained by exploring this function with a computer, match each of the symbols to its definition again.\n",
    "\n",
    "| Symbol     | Definition         |\n",
    "|------------|--------------------|\n",
    "| $A$        | Phase in radians   |\n",
    "| $f_0$      | Frequency in Hz    |\n",
    "| $\\phi$     | Amplitude          |\n",
    "| $2\\pi f_0$ | Frequency in rad/s |"
   ]
  },
  {
   "cell_type": "markdown",
   "id": "e3f79d5b",
   "metadata": {
    "slideshow": {
     "slide_type": "subslide"
    }
   },
   "source": [
    "Did you get different answers?"
   ]
  },
  {
   "cell_type": "markdown",
   "id": "0d03fa10",
   "metadata": {
    "slideshow": {
     "slide_type": "subslide"
    }
   },
   "source": [
    "### Supplementary question\n",
    "\n",
    "What is the period of the waveform in seconds?"
   ]
  },
  {
   "cell_type": "markdown",
   "id": "f0de9d31",
   "metadata": {
    "slideshow": {
     "slide_type": "notes"
    }
   },
   "source": [
    "**Notes**\n",
    "\n",
    "* In communications and electronic signal processing, the frequency of sinusoidal signals us usually given in *cycles per second* or Hz. \n",
    "* In mathematics, the frequency is always expressed in *radians per second*. \n",
    "* In some courses, including later in this one and in EG-243 Control Systems, the frequency $2\\pi f_0$ is often called the *natural frequency* and is usually written $\\omega_n$."
   ]
  },
  {
   "cell_type": "markdown",
   "id": "5abbbfb1",
   "metadata": {
    "slideshow": {
     "slide_type": "notes"
    }
   },
   "source": [
    "### Try This Yourself\n",
    "\n",
    "* Use any or all of computing tools that you have access to to explore other sinusoids. Change the values of the variables and explain what happens. \n",
    "* Try adding sinusoids of different amplitudes and different frequencies together and see what happens.\n",
    "* Change `cos` to `sin` and see what happens."
   ]
  },
  {
   "cell_type": "markdown",
   "id": "de81f52a",
   "metadata": {
    "slideshow": {
     "slide_type": "slide"
    }
   },
   "source": [
    "(ctsystems)=\n",
    "## Continuous-time Systems\n",
    "\n",
    "Systems operate on signals. In mathematical terms, a *system* is a function or an *operator*, $H\\{\\}$ that maps the input signal $x(t)$ to an output signal $y(t)$. \n",
    "\n",
    "Mathematically we would write this:\n",
    "\n",
    "$$y(t) = H\\{x(t)\\}.$$"
   ]
  },
  {
   "cell_type": "markdown",
   "id": "ca4fdb6e",
   "metadata": {
    "slideshow": {
     "slide_type": "subslide"
    }
   },
   "source": [
    "### Example 1\n",
    "\n",
    "An example of a continuous-time system is an electronic amplifier with a gain of 5 and level shift of 2: $y(t) = H\\{x(t)\\} = 5x(t) + 2$.\n",
    "\n",
    "In this course, we will model such systems as block diagram models in Simulink."
   ]
  },
  {
   "cell_type": "markdown",
   "id": "9d7df524",
   "metadata": {
    "slideshow": {
     "slide_type": "subslide"
    }
   },
   "source": [
    "#### Block diagram model in Simulink\n",
    "\n",
    "![Simulink model of a Continuous system](./pictures/css.png)"
   ]
  },
  {
   "cell_type": "markdown",
   "id": "2bc11675",
   "metadata": {
    "slideshow": {
     "slide_type": "notes"
    }
   },
   "source": [
    "The Similink code can be downloaded from this file [gain_level_shift.slx](https://cpjobling.github.io/eg-247-textbook/introduction/gain_level_shift.slx)."
   ]
  },
  {
   "cell_type": "markdown",
   "id": "64a0578e",
   "metadata": {
    "slideshow": {
     "slide_type": "slide"
    }
   },
   "source": [
    "(dtsignals)=\n",
    "## Discrete-time Signals\n",
    "\n",
    "Discrete-time signals are a function of a time index $n$. A discrete-time signal $x[n]$, unlike a continuous-time signal $x(t)$, is only defined at integer values of the independent variable $n$. This means that the signal is only active at specific periods of time. Discrete-time signals can be stored in computer memory."
   ]
  },
  {
   "cell_type": "markdown",
   "id": "9577c51c",
   "metadata": {
    "slideshow": {
     "slide_type": "subslide"
    }
   },
   "source": [
    "### Example 2\n",
    "\n",
    "Consider the following simple signal, a pulse sequence:\n",
    "\n",
    "$$\n",
    "  y[n] = \\left\\{ \n",
    "    {\n",
    "      \\begin{array}{*{20}{c}}\n",
    "        {5,\\;0 \\le n < 10}\\\\\n",
    "        {0,\\;{\\rm{otherwise}}\\quad \\;}\n",
    "      \\end{array}\n",
    "    } \n",
    "  \\right.\n",
    "$$\n",
    "\n",
    "We can plot this in MATLAB as a *stem plot*"
   ]
  },
  {
   "cell_type": "markdown",
   "id": "64ef6714",
   "metadata": {
    "slideshow": {
     "slide_type": "subslide"
    }
   },
   "source": [
    "#### Procedure\n",
    "\n",
    "Define function using this text:"
   ]
  },
  {
   "cell_type": "code",
   "execution_count": 8,
   "id": "c6ba336a",
   "metadata": {
    "slideshow": {
     "slide_type": "subslide"
    }
   },
   "outputs": [
    {
     "name": "stdout",
     "output_type": "stream",
     "text": [
      "Created file '/Users/eechris/code/src/github.com/cpjobling/eg-247-textbook/introduction/y.m'.\n"
     ]
    }
   ],
   "source": [
    "%%file y.m\n",
    "% Define the function\n",
    "function [ y ] = x( n )\n",
    "  if n < 0 | n >= 10 \n",
    "      y = 0;\n",
    "  else \n",
    "      y = 5;\n",
    "  end\n",
    "end"
   ]
  },
  {
   "cell_type": "code",
   "execution_count": 9,
   "id": "ab76e8e6",
   "metadata": {
    "slideshow": {
     "slide_type": "subslide"
    }
   },
   "outputs": [],
   "source": [
    "edit y"
   ]
  },
  {
   "cell_type": "markdown",
   "id": "0fa84398",
   "metadata": {
    "slideshow": {
     "slide_type": "notes"
    }
   },
   "source": [
    "(Open [y.m](https://cpjobling.github.io/eg-247-textbook/introduction/y.m))."
   ]
  },
  {
   "cell_type": "code",
   "execution_count": 10,
   "id": "ae6d3dc2",
   "metadata": {
    "slideshow": {
     "slide_type": "subslide"
    }
   },
   "outputs": [],
   "source": [
    "%% Define sample points\n",
    "n = -15:18;\n",
    "%% Make space for the signal\n",
    "xn = zeros(size(n));"
   ]
  },
  {
   "cell_type": "code",
   "execution_count": 11,
   "id": "ab9d3532",
   "metadata": {
    "slideshow": {
     "slide_type": "subslide"
    }
   },
   "outputs": [],
   "source": [
    "%% Define sample points\n",
    "n = -15:18;\n",
    "%% Make space for the signal\n",
    "xn = zeros(size(n));\n",
    "\n",
    "%% Compute the signal x[n]\n",
    "for i = 1:length(xn)\n",
    "    xn(i) = y(n(i));\n",
    "end"
   ]
  },
  {
   "cell_type": "code",
   "execution_count": 12,
   "id": "19c0743c",
   "metadata": {
    "slideshow": {
     "slide_type": "subslide"
    }
   },
   "outputs": [
    {
     "data": {
      "image/png": "[encoded data removed]",
      "text/plain": [
       "<IPython.core.display.Image object>"
      ]
     },
     "metadata": {
      "filenames": {
       "image/png": "/Users/eechris/code/src/github.com/cpjobling/eg-247-textbook/_build/jupyter_execute/introduction/index_42_0.png"
      }
     },
     "output_type": "display_data"
    }
   ],
   "source": [
    "%% Plot the result\n",
    "stem(n,xn)\n",
    "axis([-15, 18, 0, 6])\n",
    "title('Stem Plot for a Discrete Signal')\n",
    "xlabel('Sample n')\n",
    "ylabel('Signal x[n]')\n",
    "grid"
   ]
  },
  {
   "cell_type": "markdown",
   "id": "122b8b48",
   "metadata": {
    "slideshow": {
     "slide_type": "slide"
    }
   },
   "source": [
    "(dt_systems)=\n",
    "## Discrete-time Systems\n",
    "\n",
    "A discrete-time system, like its continuous-time counterpart, is a function, $H\\{\\}$, that maps the input $x[n]$￼ ￼to the output $y[n] = H\\{x[n]\\}$. An example of a discrete-time system is the *two-tap* filter:\n",
    "\n",
    "$$y[n] = H\\{x[n]\\} = \\frac{3}{4}x[n] + \\frac{1}{4}x[n-1]$$"
   ]
  },
  {
   "cell_type": "markdown",
   "id": "9f26a4d1",
   "metadata": {
    "slideshow": {
     "slide_type": "subslide"
    }
   },
   "source": [
    "The term *tap* denotes that output at time instant $n$ is formed from two time instants of the input, $n$ and $n – 1$. Check out a block diagram of a two-tap filter system:\n",
    "\n",
    "![Simulink model of a discrete-time system](pictures/ds.png)\n",
    "\n",
    "This system is available as a Simulink model [discrete_system.slx](https://cpjobling.github.io/eg-247-textbook/introduction/discrete_system.slx)"
   ]
  },
  {
   "cell_type": "markdown",
   "id": "6a76119d",
   "metadata": {
    "slideshow": {
     "slide_type": "notes"
    }
   },
   "source": [
    "In words, this system scales the present input by 3/4 and adds it to the past value of the input scaled by 1/4. The notion of the past input comes about because $x[n - 1]$ is lagging one sample value behind $x[n]$. The term *filter* describes the output as an *averaging* of the present input and the previous input. *Averaging* is a form of filtering."
   ]
  },
  {
   "cell_type": "markdown",
   "id": "6f708007",
   "metadata": {
    "slideshow": {
     "slide_type": "slide"
    }
   },
   "source": [
    "(sigclass)=\n",
    "## Signal Classifications"
   ]
  },
  {
   "cell_type": "markdown",
   "id": "b3c9a196",
   "metadata": {
    "slideshow": {
     "slide_type": "subslide"
    }
   },
   "source": [
    "### Periodic\n",
    "\n",
    "Signals that repeat over and over are said to be *periodic*. In mathematical terms, a signal is periodic if:\n",
    "\n",
    "* *Continuous signal* $x(t + T) = x(t)$\n",
    "* *Discrete signal* $x[n + N] = x[n]$\n",
    "\n",
    "The smallest $T$ or $N$ for which the equality holds is the *signal period*."
   ]
  },
  {
   "cell_type": "markdown",
   "id": "a0ac72b5",
   "metadata": {
    "slideshow": {
     "slide_type": "notes"
    }
   },
   "source": [
    "The sinusoidal signal we saw earlier is periodic because of the $\\mod 2\\pi$ property of cosines. The signal of the sinusoid has a period 0.5 seconds (s), which turns out to be the reciprocal of the frequency $1/f_0$ Hz."
   ]
  },
  {
   "cell_type": "markdown",
   "id": "49f2b105",
   "metadata": {
    "slideshow": {
     "slide_type": "subslide"
    }
   },
   "source": [
    "#### Square Wave\n",
    "\n",
    "This code generates a square wave."
   ]
  },
  {
   "cell_type": "code",
   "execution_count": 13,
   "id": "944d5c7a",
   "metadata": {
    "slideshow": {
     "slide_type": "subslide"
    }
   },
   "outputs": [],
   "source": [
    "%% A Periodic signal (square wave)\n",
    "t = linspace(0, 1, 500);\n",
    "x = square(2 * pi * 5 * t);"
   ]
  },
  {
   "cell_type": "markdown",
   "id": "a7f7ea80",
   "metadata": {
    "slideshow": {
     "slide_type": "notes"
    }
   },
   "source": [
    "This Square wave is a 5 Hz waveform sampled at 500 Hz for 1 second"
   ]
  },
  {
   "cell_type": "code",
   "execution_count": 14,
   "id": "bae2179c",
   "metadata": {
    "slideshow": {
     "slide_type": "subslide"
    }
   },
   "outputs": [
    {
     "data": {
      "image/png": "[encoded data removed]",
      "text/plain": [
       "<IPython.core.display.Image object>"
      ]
     },
     "metadata": {
      "filenames": {
       "image/png": "/Users/eechris/code/src/github.com/cpjobling/eg-247-textbook/_build/jupyter_execute/introduction/index_52_0.png"
      }
     },
     "output_type": "display_data"
    }
   ],
   "source": [
    "plot(t, x);\n",
    "ylim([-2, 2]);\n",
    "grid()\n",
    "title('A Periodic Signal')\n",
    "xlabel('Time t (s)')\n",
    "ylabel('Amplitude')"
   ]
  },
  {
   "cell_type": "markdown",
   "id": "92e68e22",
   "metadata": {
    "slideshow": {
     "slide_type": "fragment"
    }
   },
   "source": [
    "What is the period $T$ in milliseconds?"
   ]
  },
  {
   "cell_type": "markdown",
   "id": "729f8941",
   "metadata": {
    "slideshow": {
     "slide_type": "subslide"
    }
   },
   "source": [
    "### Aperiodic \n",
    "\n",
    "Signals that are *deterministic* (completely determined functions of time) but not periodic are known as *aperiodic*. Point of view matters. If a signal occurs infrequently, you may view it as aperiodic. \n",
    "\n",
    "This is how we generate an aperiodic rectangular pulse of duration $\\tau$ in Matlab:"
   ]
  },
  {
   "cell_type": "code",
   "execution_count": 15,
   "id": "03b1cbad",
   "metadata": {
    "slideshow": {
     "slide_type": "subslide"
    }
   },
   "outputs": [],
   "source": [
    "%% An aperiodic function\n",
    "tau = 1;\n",
    "x = linspace(-1,5,1000);\n",
    "y = rectangularPulse(0,tau,x);"
   ]
  },
  {
   "cell_type": "code",
   "execution_count": 16,
   "id": "80c38b2e",
   "metadata": {
    "slideshow": {
     "slide_type": "subslide"
    }
   },
   "outputs": [
    {
     "data": {
      "image/png": "[encoded data removed]",
      "text/plain": [
       "<IPython.core.display.Image object>"
      ]
     },
     "metadata": {
      "filenames": {
       "image/png": "/Users/eechris/code/src/github.com/cpjobling/eg-247-textbook/_build/jupyter_execute/introduction/index_56_0.png"
      }
     },
     "output_type": "display_data"
    }
   ],
   "source": [
    "plot(x,y)\n",
    "ylim([-0.2,1.2])\n",
    "grid\n",
    "title('An Aperiodic Signal')\n",
    "xlabel('Time t (s)')\n",
    "ylabel('Amplitude')"
   ]
  },
  {
   "cell_type": "markdown",
   "id": "de4d8467",
   "metadata": {
    "slideshow": {
     "slide_type": "subslide"
    }
   },
   "source": [
    "### Random\n",
    "\n",
    "A signal is random if one or more signal attributes takes on unpredictable\n",
    "values in a probability sense.\n",
    "\n",
    "Engineers working with communication receivers are concerned with random\n",
    "signals, especially noise."
   ]
  },
  {
   "cell_type": "code",
   "execution_count": 17,
   "id": "7bd91c7f",
   "metadata": {
    "slideshow": {
     "slide_type": "subslide"
    }
   },
   "outputs": [
    {
     "data": {
      "image/png": "[encoded data removed]",
      "text/plain": [
       "<IPython.core.display.Image object>"
      ]
     },
     "metadata": {
      "filenames": {
       "image/png": "/Users/eechris/code/src/github.com/cpjobling/eg-247-textbook/_build/jupyter_execute/introduction/index_58_0.png"
      }
     },
     "output_type": "display_data"
    }
   ],
   "source": [
    "%% Plot a Random Signal\n",
    "plot(0.5 + 0.25 * rand(100,1))\n",
    "ylim([0,1])\n",
    "grid\n",
    "title('Random Signal')\n",
    "xlabel('Time t (s)')\n",
    "ylabel('Amplitude')"
   ]
  },
  {
   "cell_type": "markdown",
   "id": "9e75c6cc",
   "metadata": {
    "slideshow": {
     "slide_type": "slide"
    }
   },
   "source": [
    "(domains)=\n",
    "## Domains for Signals and Systems\n",
    "\n",
    "Most of the signals we encounter on a daily basis reside in the time domain. They’re functions of independent variable $t$ or $n$. But sometimes when you’re working with continuous-time signals, you may need to transform away from the time domain ($t$) to another domain."
   ]
  },
  {
   "cell_type": "markdown",
   "id": "95761031",
   "metadata": {
    "slideshow": {
     "slide_type": "subslide"
    }
   },
   "source": [
    "### Other Domains you will encounter\n",
    "\n",
    "The most commonly used domains used when analyzing continuous-time signals are the frequency domain ($f$ or $\\omega$) and the Laplace $s$-domain ($s$). \n",
    "\n",
    "Similarly, for discrete-time signals, you may need to transform from the discrete-time domain ($n$) to the frequency domain ($\\hat{\\omega}$) or the z-domain ($z$).\n",
    "\n",
    "\n",
    "This section briefly introduces the world of signals and systems in the frequency, s-, and z-domains. More on these domains will follow."
   ]
  },
  {
   "cell_type": "markdown",
   "id": "b2f35c11",
   "metadata": {
    "slideshow": {
     "slide_type": "notes"
    }
   },
   "source": [
    "Systems, continuous and discrete, can also be transformed to the frequency and s- and z-domains, respectively. Signals can, in fact, be passed through systems in these alternative domains. When a signal is passed through a system in the frequency domain, for example, the frequency domain output signal can later be returned to the time domain and appear just as if the time-domain version of the system operated on the signal in the time domain."
   ]
  },
  {
   "cell_type": "markdown",
   "id": "a3ceb3dd",
   "metadata": {
    "slideshow": {
     "slide_type": "subslide"
    }
   },
   "source": [
    "Consider the sum of a two-sinusoids signal\n",
    "\n",
    "$$x(t) = \\underbrace {A_1\\cos(2\\pi f_1 t)}_{s_1} + \\underbrace {A_2\\cos(2\\pi f_2 t)}_{s_2}$$"
   ]
  },
  {
   "cell_type": "markdown",
   "id": "69c6b2d1",
   "metadata": {
    "slideshow": {
     "slide_type": "notes"
    }
   },
   "source": [
    "This can be coded as"
   ]
  },
  {
   "cell_type": "code",
   "execution_count": 18,
   "id": "3dc999b6",
   "metadata": {
    "slideshow": {
     "slide_type": "notes"
    }
   },
   "outputs": [
    {
     "name": "stdout",
     "output_type": "stream",
     "text": [
      "Created file '/Users/eechris/code/src/github.com/cpjobling/eg-247-textbook/introduction/two_sines.m'.\n"
     ]
    }
   ],
   "source": [
    "%%file two_sines.m\n",
    "%... plot two sinusoids signal\n",
    "A1 = 2; f1 = 1;\n",
    "A2 = 1.5;f2 = 2.2;\n",
    "t = linspace(0, 3*(1/f1), 1000);\n",
    "s1 = A1*cos(2*pi*f1*t);\n",
    "s2 = A2*cos(2*pi*f2*t);\n",
    "subplot(4,1,1)\n",
    "plot(t,s1),ylim([-5,5]),xlabel('Time t (s) '),ylabel('s1')\n",
    "subplot(4,1,2)\n",
    "plot(t,s2),ylim([-5,5]),xlabel('Time t (s) '),ylabel('s2')\n",
    "subplot(4,1,3)\n",
    "plot(t,s1+s2),ylim([-5,5]),xlabel('Time t (s) '),ylabel('x(t) = s2 + s2')\n",
    "subplot(4,1,4)\n",
    "axis([0,4,0,2.5])\n",
    "arrow([f1,0],[f1,A1]),text(f1,A1+0.2,'A1'),text(f1+0.05,0.2,'f1')\n",
    "arrow([f2,0],[f2,A2]),text(f2,A2+0.2,'A2'),text(f2+0.05,0.2,'f2')\n",
    "ylabel('Frequency Spectrum X(f)'),xlabel('Frequency (Hz)')"
   ]
  },
  {
   "cell_type": "code",
   "execution_count": 19,
   "id": "f5218840",
   "metadata": {
    "slideshow": {
     "slide_type": "subslide"
    }
   },
   "outputs": [],
   "source": [
    "edit two_sines"
   ]
  },
  {
   "cell_type": "markdown",
   "id": "54069f3a",
   "metadata": {},
   "source": [
    "Run"
   ]
  },
  {
   "cell_type": "code",
   "execution_count": 20,
   "id": "501727fd",
   "metadata": {},
   "outputs": [
    {
     "data": {
      "image/png": "[encoded data removed]",
      "text/plain": [
       "<IPython.core.display.Image object>"
      ]
     },
     "metadata": {
      "filenames": {
       "image/png": "/Users/eechris/code/src/github.com/cpjobling/eg-247-textbook/_build/jupyter_execute/introduction/index_67_0.png"
      }
     },
     "output_type": "display_data"
    }
   ],
   "source": [
    "two_sines"
   ]
  },
  {
   "cell_type": "markdown",
   "id": "3c6b940a",
   "metadata": {
    "slideshow": {
     "slide_type": "notes"
    }
   },
   "source": [
    "(Download [two_sines.m](https://cpjobling.github.io/eg-247-textbook/introduction/two_sines.m))"
   ]
  },
  {
   "cell_type": "markdown",
   "id": "cd04a5ea",
   "metadata": {
    "slideshow": {
     "slide_type": "notes"
    }
   },
   "source": [
    "### Viewing Signals in the Frequency Domain\n",
    "\n",
    "The top waveform plot, denoted $s_1$, is a single sinusoid at frequency $f_1$ and peak amplitude $A_1$. The waveform repeats every period $T_1 = 1/f_1$. The second waveform plot, denoted $s_2$, is a single sinusoid at frequency $f_2 > f_1$ and peak amplitude $A_2 < A_1$. The sum signal, $s_1 + s_2$, in the time domain is a squiggly line (third waveform plot), but the amplitudes and frequencies (periods) of the sinusoids aren’t clear here as they are in the first two plots. The frequency spectrum (bottom plot) reveals that $x(t)$ is composed of just two sinusoids, with both the frequencies and amplitudes discernible.\n",
    "\n",
    "Think about tuning in a radio station. Stations are located at different center frequencies. The stations don’t interfere with one another because they’re separated from each other in the frequency domain. In the frequency spectrum plot, imagine that $f_1$ and $f_2$ are the signals from two radio stations, viewed in the frequency domain. You can design a receiving system to filter $s_1$ from $s_1 + s_2$. The filter is designed to pass $s_1$ and block $s_2$."
   ]
  },
  {
   "cell_type": "markdown",
   "id": "0dd67ab4",
   "metadata": {
    "slideshow": {
     "slide_type": "subslide"
    }
   },
   "source": [
    "### Fourier Transform\n",
    "\n",
    "We use the *Fourier transform* to move away from the time domain and into the frequency domain. To get back to the time domain, use the *inverse Fourier transform*. We will found out more about these transforms in this module."
   ]
  },
  {
   "cell_type": "markdown",
   "id": "6918036e",
   "metadata": {
    "slideshow": {
     "slide_type": "subslide"
    }
   },
   "source": [
    "### Laplace and Z-Transform Domains\n",
    "\n",
    "From the time domain to the frequency domain, only one independent variable, $t \\to f$, exists. When a signal is transformed to the s-domain, it becomes a function of a complex variable ￼$s=\\sigma + j\\omega$. The two variables (real and imaginary parts) describe a location in the s-plane.\n",
    "\n",
    "In addition to visualization properties, the s-domain reduces differential equation solving to algebraic manipulation. For discrete-time signals, the z-transform accomplishes the same thing, except differential equations are replaced by difference equations."
   ]
  },
  {
   "cell_type": "markdown",
   "id": "6034d16d",
   "metadata": {
    "slideshow": {
     "slide_type": "slide"
    }
   },
   "source": [
    "(systems_thinking)=\n",
    "## Systems Thinking and Systems Design\n",
    "\n",
    "See section **Testing Product Concepts with Behavioral Level Modeling** from Chapter 1 of [SS4D](https://www.dummies.com/store/product/Signals-and-Systems-For-Dummies.productCd-111847581X.html) ({cite}`ss4d` pages 18--20) and add some notes to summarize this for yourself.\n",
    "\n",
    "* We will use *behavioural modelling*\n",
    "* We will rely on *abstraction*\n",
    "* We work *top-down*\n",
    "* We make use of *mathematics* and *mathematical software*."
   ]
  },
  {
   "cell_type": "markdown",
   "id": "200a7f24",
   "metadata": {
    "slideshow": {
     "slide_type": "slide"
    }
   },
   "source": [
    "## Familiar Signals and Systems\n",
    "\n",
    "See pages 21-23 of the free sample ([Chapter 1](https://www.dummies.com/store/product/Signals-and-Systems-For-Dummies.productCd-111847581X.html)) of {cite}`ss4d` for notes and details."
   ]
  },
  {
   "cell_type": "markdown",
   "id": "9f6cd3d4",
   "metadata": {
    "slideshow": {
     "slide_type": "notes"
    },
    "tags": []
   },
   "source": [
    "## Reference\n",
    "\n",
    "```{bibliography}\n",
    ":filter: docname in docnames\n",
    "```"
   ]
  }
 ],
 "metadata": {
  "jupytext": {
   "formats": "ipynb,md:myst",
   "text_representation": {
    "extension": ".md",
    "format_name": "myst",
    "format_version": 0.13,
    "jupytext_version": "1.14.4"
   }
  },
  "kernelspec": {
   "display_name": "Matlab",
   "language": "matlab",
   "name": "matlab"
  },
  "language_info": {
   "codemirror_mode": "octave",
   "file_extension": ".m",
   "help_links": [
    {
     "text": "MetaKernel Magics",
     "url": "https://metakernel.readthedocs.io/en/latest/source/README.html"
    }
   ],
   "mimetype": "text/x-octave",
   "name": "matlab",
   "version": "0.17.1"
  },
  "source_map": [
   15,
   19,
   31,
   39,
   43,
   55,
   62,
   68,
   85,
   93,
   105,
   111,
   121,
   125,
   133,
   137,
   145,
   149,
   161,
   165,
   186,
   194,
   198,
   206,
   212,
   220,
   233,
   237,
   243,
   251,
   259,
   270,
   278,
   284,
   288,
   295,
   314,
   320,
   336,
   344,
   348,
   359,
   375,
   389,
   398,
   406,
   410,
   415,
   426,
   430,
   436,
   446,
   450,
   463,
   467,
   475,
   486,
   499,
   509,
   523,
   530,
   541,
   545,
   551,
   555,
   580,
   586,
   590,
   594,
   598,
   606,
   612,
   620,
   632,
   638
  ]
 },
 "nbformat": 4,
 "nbformat_minor": 5
}