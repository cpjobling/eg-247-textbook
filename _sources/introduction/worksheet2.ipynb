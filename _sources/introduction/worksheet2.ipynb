{
 "cells": [
  {
   "cell_type": "markdown",
   "id": "984e0350",
   "metadata": {
    "slideshow": {
     "slide_type": "slide"
    }
   },
   "source": [
    "# Worksheet 2\n",
    "\n",
    "Download as a [PDF file](https://cpjobling.github.io/eg-247-textbook/worksheets/worksheet2.pdf)."
   ]
  },
  {
   "cell_type": "markdown",
   "id": "a060788a",
   "metadata": {
    "slideshow": {
     "slide_type": "slide"
    }
   },
   "source": [
    "Consider a signal \n",
    "\n",
    "$$x = f(t) = \\left\\{ {\\begin{array}{*{20}{c}}\n",
    "{0\\;:\\;t <  - 1}\\\\\n",
    "{t + 1\\;:\\; - 1 \\le t \\le 1}\\\\\n",
    "{0\\;:\\;t > 1}\n",
    "\\end{array}} \\right.$$\n",
    "\n",
    "Sketch this signal\n",
    "\n",
    "<pre style=\"border: 2px solid blue\">\n",
    "\n",
    "\n",
    "\n",
    "\n",
    "\n",
    "\n",
    "\n",
    "\n",
    "\n",
    "</pre>\n",
    "\n",
    "Sketch the effect on this signal of applying the following basic signal operations"
   ]
  },
  {
   "cell_type": "markdown",
   "id": "d21b9fb3",
   "metadata": {
    "slideshow": {
     "slide_type": "slide"
    }
   },
   "source": [
    "## Amplitude scaling\n",
    "\n",
    "$$2f(t)$$\n",
    "\n",
    "<pre style=\"border: 2px solid blue\">\n",
    "\n",
    "\n",
    "\n",
    "\n",
    "\n",
    "\n",
    "\n",
    "\n",
    "\n",
    "</pre>"
   ]
  },
  {
   "cell_type": "markdown",
   "id": "bf8f48d0",
   "metadata": {
    "slideshow": {
     "slide_type": "subslide"
    }
   },
   "source": [
    "$$0.5 f(t)$$\n",
    "\n",
    "<pre style=\"border: 2px solid blue\">\n",
    "\n",
    "\n",
    "\n",
    "\n",
    "\n",
    "\n",
    "\n",
    "\n",
    "\n",
    "</pre>"
   ]
  },
  {
   "cell_type": "markdown",
   "id": "0d5a7d59",
   "metadata": {
    "slideshow": {
     "slide_type": "slide"
    }
   },
   "source": [
    "## Time scaling\n",
    "\n",
    "$$f(2t)$$\n",
    "\n",
    "<pre style=\"border: 2px solid blue\">\n",
    "\n",
    "\n",
    "\n",
    "\n",
    "\n",
    "\n",
    "\n",
    "\n",
    "\n",
    "</pre>"
   ]
  },
  {
   "cell_type": "markdown",
   "id": "a74bddec",
   "metadata": {
    "slideshow": {
     "slide_type": "subslide"
    }
   },
   "source": [
    "$$f(0.5 t)$$\n",
    "\n",
    "<pre style=\"border: 2px solid blue\">\n",
    "\n",
    "\n",
    "\n",
    "\n",
    "\n",
    "\n",
    "\n",
    "\n",
    "\n",
    "</pre>"
   ]
  },
  {
   "cell_type": "markdown",
   "id": "0d11f5e8",
   "metadata": {
    "slideshow": {
     "slide_type": "slide"
    }
   },
   "source": [
    "## Mirroring\n",
    "\n",
    "$$-f(t)$$\n",
    "\n",
    "<pre style=\"border: 2px solid blue\">\n",
    "\n",
    "\n",
    "\n",
    "\n",
    "\n",
    "\n",
    "\n",
    "\n",
    "\n",
    "</pre>"
   ]
  },
  {
   "cell_type": "markdown",
   "id": "ac39a0c0",
   "metadata": {
    "slideshow": {
     "slide_type": "subslide"
    }
   },
   "source": [
    "$$f(-t)$$\n",
    "\n",
    "<pre style=\"border: 2px solid blue\">\n",
    "\n",
    "\n",
    "\n",
    "\n",
    "\n",
    "\n",
    "\n",
    "\n",
    "\n",
    "</pre>"
   ]
  },
  {
   "cell_type": "markdown",
   "id": "328f6493",
   "metadata": {
    "slideshow": {
     "slide_type": "subslide"
    }
   },
   "source": [
    "$$-f(-t)$$\n",
    "\n",
    "<pre style=\"border: 2px solid blue\">\n",
    "\n",
    "\n",
    "\n",
    "\n",
    "\n",
    "\n",
    "\n",
    "\n",
    "\n",
    "</pre>"
   ]
  },
  {
   "cell_type": "markdown",
   "id": "1b6f4eeb",
   "metadata": {
    "slideshow": {
     "slide_type": "slide"
    }
   },
   "source": [
    "## Time shifting - delay and advance\n",
    "\n",
    "$$f(t - 1)$$\n",
    "\n",
    "<pre style=\"border: 2px solid blue\">\n",
    "\n",
    "\n",
    "\n",
    "\n",
    "\n",
    "\n",
    "\n",
    "\n",
    "\n",
    "</pre>"
   ]
  },
  {
   "cell_type": "markdown",
   "id": "79d975f0",
   "metadata": {
    "slideshow": {
     "slide_type": "subslide"
    }
   },
   "source": [
    "$$f(t + 1)$$\n",
    "\n",
    "<pre style=\"border: 2px solid blue\">\n",
    "\n",
    "\n",
    "\n",
    "\n",
    "\n",
    "\n",
    "\n",
    "\n",
    "\n",
    "</pre>"
   ]
  },
  {
   "cell_type": "markdown",
   "id": "c12d6972",
   "metadata": {
    "slideshow": {
     "slide_type": "subslide"
    }
   },
   "source": [
    "## Exercise\n",
    "\n",
    "We leave the solution of $-2f(-t+2)$ as an exercise for the reader but note that it involves *amplitude scaling*, *amplitude mirroring*, *time mirroring*, and a *time shift*. Each operation can be performed in sequence in any order."
   ]
  }
 ],
 "metadata": {
  "jupytext": {
   "formats": "md:myst,ipynb",
   "text_representation": {
    "extension": ".md",
    "format_name": "myst",
    "format_version": 0.13,
    "jupytext_version": "1.11.5"
   }
  },
  "kernelspec": {
   "display_name": "MATLAB",
   "language": "matlab",
   "name": "imatlab"
  },
  "source_map": [
   15,
   21,
   47,
   65,
   81,
   99,
   115,
   133,
   149,
   165,
   183,
   199
  ]
 },
 "nbformat": 4,
 "nbformat_minor": 5
}