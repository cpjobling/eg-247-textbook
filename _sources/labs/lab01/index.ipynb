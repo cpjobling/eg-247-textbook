{
 "cells": [
  {
   "cell_type": "markdown",
   "id": "339e60f4",
   "metadata": {},
   "source": [
    "# Lab 01: Elementary Signals"
   ]
  },
  {
   "cell_type": "markdown",
   "id": "dec95498",
   "metadata": {},
   "source": [
    "## Keeping Lab Records\n",
    "\n",
    "The lab component will be assessed based on a portfolio of the MATLAB scripts, Simulink models and publishable MATLAB Live Scripts. You should therefore aim to keep all the files from each lab session in a suitable folder in your workspace on your OneDrive. I would suggest a structure like **eg-247-textbook\\portfolio\\lab01** which matches the layout of the files on this [GitHub repository](https://github.com/cpjobling/eg-247-textbook/tree/master/portfolio).\n",
    "\n",
    "One elegant way to do this would be to fork this GitHub repository ([cpjobling/eg-247-textbook](https://github.com/cpjobling/eg-247-textbook)) and then build on from there, but that is not necessary.\n",
    "\n",
    "If you do not use GitHub as the master repository of your portfolio, please ensure that you backup your work files regularly. You will be required to submit some or all of them for assessment."
   ]
  },
  {
   "cell_type": "markdown",
   "id": "d63dff0a",
   "metadata": {},
   "source": [
    "## Preamble to this Lab\n",
    "\n",
    "### Associated Class Notes\n",
    "\n",
    "This lab supports the materials covered in [Chapter 2 Elementary Signals](https://cpjobling.github.io/eg-247-textbook/elementary_signals/) of the course notes. You may wish to refer to the Worksheets [worksheet 2](https://cpjobling.github.io/eg-247-textbook/introduction/worksheet2) and [worksheet 3](https://cpjobling.github.io/eg-247-textbook/elementary_signals/worksheet3) for additional examples to try. \n",
    "\n",
    "### Other formats\n",
    "\n",
    "This document is available in [HTML](https://cpjobling.github.io/eg-247-textbook/labs/lab01/index) format for online viewing and as [PDF](https://cpjobling.github.io/eg-247-textbook/labs/lab01/lab01.pdf) for printing.\n",
    "\n",
    "### Acknowledgement\n",
    "\n",
    "These examples have been adapted from [Chapter 1](https://ebookcentral.proquest.com/lib/swansea-ebooks/reader.action?docID=3384197#ppg=17) of Karris{cite}`karris`."
   ]
  },
  {
   "cell_type": "markdown",
   "id": "cca7684d",
   "metadata": {},
   "source": [
    "## Aims\n",
    "\n",
    "The purposes of this laboratory are to\n",
    "\n",
    "1. Explore the properties of the unit step and Dirac delta functions using the analysis and plotting tools  provided by MATLAB in the *Symbolic Math Toolbox*.\n",
    "1. Synthesise a generalised signal in Simulink and plot it and its derivative.\n",
    "1. Experience **Peer Assessment** as a coursework moderation and feedback process.\n",
    "\n",
    "This will introduce the symbolic toolbox and the `heaviside`, `delta` and `ezplot` functions provided by MATLAB  and the *signal design block*, *multiplexer*, *scope* and *derivative* blocks provided by Simulink for the simulation of continuous time signals and systems.\n",
    "\n",
    "We will also demonstrate the Live Script feature provided by MATLAB that will be useful for recording lab results for this module."
   ]
  },
  {
   "cell_type": "markdown",
   "id": "fcb48a03",
   "metadata": {},
   "source": [
    "## Assessment criteria\n",
    "\n",
    "Up to three marks can be claimed according to how many of parts 1-5 in the lab exercises have been completed. The mini project is worth an additional two marks. There are an additional 5 marks available for participating in the peer assessment. \n",
    "\n",
    "Detailed marking criteria for this and the other labs and the project are given in the linked [Assessment Criteria](https://docs.google.com/spreadsheets/d/1HsyBZp4h71DuIj2ris1nP52JdWaWiaT6UsOwQKGnwzI/edit?usp=sharing) [Google sheet]."
   ]
  },
  {
   "cell_type": "markdown",
   "id": "1cd43631",
   "metadata": {},
   "source": [
    "## Set up\n",
    "\n",
    "### Before you start\n",
    "\n",
    "Create a suitable folder structure on your file-store for your labs. \n",
    "\n",
    "I suggest:\n",
    "\n",
    "```\n",
    "OneDrive\\workspace\n",
    "  signals-and-systems-lab\n",
    "\tlab01\n",
    "\tlab02\n",
    "\t :\n",
    "```\n",
    "\n",
    "Use folder `OneDrive\\workspace\\signals-and-systems-lab\\lab01` for this lab."
   ]
  },
  {
   "cell_type": "markdown",
   "id": "a5c100ef",
   "metadata": {},
   "source": [
    "### Download starter script\n",
    "\n",
    "Right click to save the file [elem_sigs.m](https://github.com/cpjobling/eg-247-textbook/blob/master/labs/lab01/elem_sigs.m) to your ``lab01`` folder. Open the file as a Live Script file in the file browser in MATLAB."
   ]
  },
  {
   "cell_type": "markdown",
   "id": "d1438482",
   "metadata": {},
   "source": [
    "## Lab Exercises\n",
    "\n",
    "### Lab Exercise 1.1\n",
    "\n",
    "For Lab Exercise 1 you are required to complete parts 1 to 2 of the provided script (1 mark)."
   ]
  },
  {
   "cell_type": "markdown",
   "id": "cf8852b5",
   "metadata": {},
   "source": [
    "### Lab Exercise 1.2\n",
    "\n",
    "For Lab Exercise 2 you are required to complete parts 3 to 5 of the provided script (2 marks)."
   ]
  },
  {
   "cell_type": "markdown",
   "id": "6a1f969c",
   "metadata": {},
   "source": [
    "### Mini Project 1\n",
    "\n",
    "Work through the procedures given between [pages 1-18 and 1-19](https://ebookcentral.proquest.com/lib/swansea-ebooks/reader.action?ppg=34&docID=3384197&tm=1518436444996) of Karris{cite}`karris` to construct the piecewise signal generator first shown in [Figure 1.21](https://ebookcentral.proquest.com/lib/swansea-ebooks/reader.action?ppg=31&docID=3384197&tm=1518436492450) inside Simulink. \n",
    "\n",
    "![Signal Synthesis Example](fig21.png)\n",
    "\n",
    "*Signal to be synthesised (Reproduction of Fig 1.21 of Karris)*\n",
    "\n",
    "Connect the signal up a derivative block and scope as shown in Figure 1.24 and simulate the system. Verify the result illustrated in Figures 1.23, 1.25 and 1.26. Store the Simulink model as ``signal.slx`` in your portfolio for later assessment. \n",
    "\n",
    "**Note**: you will need to adjust the Simulation parameters in Simulink in order to allow the simulation to run from $t = -1$ seconds. You should also adjust the y axes on the oscilloscope to the range $-3 \\le v \\le 4$ to avoid the plotbeing dominated by the large spikes due to the differentiating the discontinuities in the signal at $t = -1$, $t = 2$ and $t = 7$ seconds. \n",
    "\n",
    "(2 marks)"
   ]
  },
  {
   "cell_type": "markdown",
   "id": "26d787d7",
   "metadata": {},
   "source": [
    "## What to Hand In\n",
    "\n",
    "\n",
    "### Claim\n",
    "\n",
    "Up to three marks can be claimed according to how many of parts 1-5 in the lab exercises have been completed. The mini project is worth an additional 2 marks.\n",
    "\n",
    "Make your claim by downloading and editing the labwork claim form and declaration: [lab01-claim.docx](https://cpjobling.github.io/eg-247-textbook/labs/lab01/lab01-claim.docx) [Word].\n",
    "\n",
    "### Submission\n",
    "\n",
    "You should submit the following to the **Lab 01: Elementary Signals** Assignment on Canvas.\n",
    "\n",
    "1. The completed labwork claim form and declaration.\n",
    "2. As evidence for completion of the lab exercises, your completed version of the Live Script file `elem_signals.mlx`.\n",
    "3. As evidence of completion of the Miniproject, the Simulink model of the piecewise linear signal `signal.slx`.\n",
    "\n",
    "### Deadline \n",
    "\n",
    "The Deadline for claims and submission is: \n",
    "\n",
    "**4:00 pm, 22nd February 2022**.\n",
    "\n",
    "### Important\n",
    "\n",
    "To avoid errors in verification, particularly with Simulink, you should check that your script and simulations work on the version of MATLAB that is installed in the shared desktop (Version 2019a when I last checked). If you have installed a more recent version of MATLAB, or are using MATLAB online, you should note the version of MATLAB that you ahve used in the the submission comment. You can also save your Simulink model using the older version (use **File** > **Export Model to** > **Previous Version**)."
   ]
  },
  {
   "cell_type": "markdown",
   "id": "a4b67f12",
   "metadata": {},
   "source": [
    "## Peer assessment procedure for this lab\n",
    "\n",
    "On Monday 24th February, you should receive notification that the submissions of three of your colleagues are available for peer assessment. This notification will arrive by email (if you have your Canvas notifications turned on) or via the inbox on Canvas or the Canvas Student App. \n",
    "\n",
    "This is the procedure you should follow:\n",
    "\n",
    "1. Carefully read the document on [Peer Assessment](../peer-assessment) ([PDF](https://cpjobling.github.io/eg-247-textbook/labs/peer-assessment.pdf)) before starting your assessment.\n",
    "\n",
    "2. Check that the files are downloaded and named correctly as per the note on [Filenaming Conventions](../peer-assessment#Important-note-about-file-names) in the peer-assessment document.\n",
    "\n",
    "3. Open the Live Script file `elem_signals.mlx` and execute **run all**. Check that the results are all present and that there are no errors. Review the formatting of the file and think about how readable and understandable the script is as a record of the experiment. \n",
    "\n",
    "4. Open and run the Simulink model `signal.slx` and confirm that the results match the figure given above."
   ]
  },
  {
   "cell_type": "markdown",
   "id": "c4da75fb",
   "metadata": {},
   "source": [
    "## Doing More\n",
    "\n",
    "If you have time remaining, you may wish to confirm some of the results covered in class from [worksheet 2](https://cpjobling.github.io/eg-247-textbook/introduction/worksheet2) and [worksheet 3](https://cpjobling.github.io/eg-247-textbook/elementary_signals/worksheet3). You can also work through Appendix A of the textbook: that chapter introduces MATLAB in a way that matches the presentation in the rest of the book. There are also additional tutorial and video introductions to *MATLAB*, *Simulink* and the *Signal Processing Toolbox* in the **Getting Started with MATLAB** section of the **Useful Additional Resources** module of the Canvas site for Signals and Systems.\n",
    "\n",
    "## Reference\n",
    "\n",
    "See [Bibliography](/zbib)."
   ]
  }
 ],
 "metadata": {
  "jupytext": {
   "formats": "ipynb,md:myst",
   "text_representation": {
    "extension": ".md",
    "format_name": "myst",
    "format_version": 0.13,
    "jupytext_version": "1.14.1"
   }
  },
  "kernelspec": {
   "display_name": "Matlab",
   "language": "matlab",
   "name": "matlab"
  },
  "language_info": {
   "codemirror_mode": "octave",
   "file_extension": ".m",
   "help_links": [
    {
     "text": "MetaKernel Magics",
     "url": "https://metakernel.readthedocs.io/en/latest/source/README.html"
    }
   ],
   "mimetype": "text/x-octave",
   "name": "matlab",
   "version": "0.17.1"
  },
  "source_map": [
   13,
   17,
   27,
   43,
   57,
   65,
   85,
   91,
   99,
   105,
   121,
   150,
   166
  ]
 },
 "nbformat": 4,
 "nbformat_minor": 5
}