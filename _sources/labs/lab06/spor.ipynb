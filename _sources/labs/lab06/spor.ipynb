{
 "cells": [
  {
   "cell_type": "markdown",
   "id": "f65ad686",
   "metadata": {},
   "source": [
    "# Lab 6: Signal Processing OnRamp\n",
    "\n",
    "This free, two-hour tutorial provided by the MathWorks (developer of MATLAB and Simulink) provides an interactive introduction to practical signal processing methods for spectral analysis. We hope that completing the tutorial will motivate you in the study of signals and systems and the use of MATLAB for engineering computing.\n",
    "\n",
    "The official prerequisite for the **Signal Processing OnRamp** is the **[MATLAB OnRamp](https://uk.mathworks.com/learn/tutorials/matlab-onramp.html)** but you have enough experience of MATLAB to satisfy this requirement.\n",
    "\n",
    "To claim the marks for this assessment you need to [register with the MathWorks](https://uk.mathworks.com/mwaccount/register?uri=https%3A%2F%2Fuk.mathworks.com%2Fmwaccount%2F) using your Swansea University email. Once you have gone through the registration process, which includes email verification, you can <a class=\"inline_disabled\" href=\"https://uk.mathworks.com/login\" target=\"_blank\" rel=\"noopener\">login to the Mathworks</a> and complete the <a class=\"inline_disabled\" href=\"https://uk.mathworks.com/learn/tutorials/signal-processing-onramp.html\" target=\"_blank\" rel=\"noopener\">Signal Processing OnRamp</a>.\n",
    "    \n",
    "When you have completed the <strong>Signal Processing OnRamp</strong>, you will get a course completion certificate from the MathWorks. You need to submit the link to your certificate and add to the assignment comment a short reflection on your experiences with the <strong>Signal Processing OnRamp</strong>.\n",
    "    \n",
    "When you submit your <strong>Signal Processing OnRamp</strong> certificate and have provided a reflection, you will be awarded 5 marks.</span></p>\n",
    "\n",
    "You need to complete the <strong>Signal Processing OnRamp</strong> by the 20th March 2023.</span></p>\n",
    "\n",
    "For your information here are my <strong><a class=\"inline_disabled\" href=\"https://matlabacademy.mathworks.com/progress/share/certificate.html?id=369f9d42-83a7-49ae-9019-e77548dbd808&amp;\" target=\"_blank\" rel=\"noopener\">MATLAB OnRamp</a></strong> and <a class=\"inline_disabled\" href=\"https://matlabacademy.mathworks.com/progress/share/certificate.html?id=d4053123-449d-4709-a558-26d92a54b7a1&amp;\" target=\"_blank\" rel=\"noopener\"><strong>Signal Processing OnRamp</strong></a> certificates.</span></p>"
   ]
  }
 ],
 "metadata": {
  "jupytext": {
   "formats": "ipynb,md:myst"
  },
  "kernelspec": {
   "display_name": "Matlab (Connection)",
   "language": "matlab",
   "name": "matlab_connect"
  },
  "language_info": {
   "codemirror_mode": "octave",
   "file_extension": ".m",
   "help_links": [
    {
     "text": "MetaKernel Magics",
     "url": "https://metakernel.readthedocs.io/en/latest/source/README.html"
    }
   ],
   "mimetype": "text/x-octave",
   "name": "matlab",
   "version": "0.17.1"
  }
 },
 "nbformat": 4,
 "nbformat_minor": 5
}
