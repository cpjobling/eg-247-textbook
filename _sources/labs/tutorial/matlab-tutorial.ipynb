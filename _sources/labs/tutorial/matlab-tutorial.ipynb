{
 "cells": [
  {
   "cell_type": "markdown",
   "metadata": {},
   "source": [
    "# MATLAB Tutorial\n",
    "\n",
    "If you are new to MATLAB and Simulink You may wish to work through the introductory examples and watch the videos contained in this tutorial.\n",
    "\n",
    "## An Introduction to MATLAB\n",
    "\n",
    "MATLAB is a high-level language for technical computing which is often used by engineers to help them design systems or analyze a system's behaviour. We present the following material in a tutorial style which can be used as a self-teaching exercise, or as a reminder for those who may have used MATLAB before and forgotten some of the notation. \n",
    "The following represents a beginner's route into the use of the MATLAB package for Signals and Systems and the Symbolic and Signal Processing toolboxes. \n",
    "\n",
    "This document is available as a [MATLAB Live Script](tutorial.mlx) in which all the MATLAB code is executable.\n",
    "\n",
    "## Getting Started with Matlab\n",
    "\n",
    "Before you begin, you may wish to watch the video [Getting Started with MATLAB](https://uk.mathworks.com/videos/getting-started-with-matlab-1564521672719.html) (Links to an external site.) by Erin Byrne of the MathWorks.\n",
    "\n",
    "In this tutorial introduction to MATLAB we shall cover the following:\n",
    "\n",
    "### Table of Contents\n",
    "\n",
    "* [Basic Operations](#basic-operations)\n",
    "* [Vectors](#vectors)\n",
    "* [Vector manipulation](#vector-manipulation)\n",
    "* [Polynomials](#polynomials)\n",
    "* [Matrices](#matrices)\n",
    "* [Functions](#functions)\n",
    "* [Help window/Tips](#help-window-tips)\n",
    "* [Transfer functions](#transfer-functions)\n",
    "* [Plotting](#plotting)\n",
    "* [Summary](#summary)\n",
    "\n",
    "If you are already comfortable working with MATLAB you may wish to skip the introductory materials and jump to [Polynomials](#polynomials).\n",
    "\n",
    "## Basic Operations\n",
    "\n",
    "### Arithmetic Operations\n",
    "We can assign a numerical value (data) to a variable using the equal (=) sign. For example, type: a = 2 and press return. MATLAB returns:\n",
    "\n",
    "```matlab\n",
    "» a = 2\n",
    "\n",
    "a =\n",
    "\n",
    "     2\n",
    "```\n",
    "\n",
    "or b = -5.2\n",
    "\n",
    "\n",
    "```matlab\n",
    "» b = -5.2\n",
    "\n",
    "b =\n",
    "\n",
    "     -5.2\n",
    "```\n",
    "\n",
    "### Exercise 1: Basic Operators\n",
    "\n",
    "Execute the commans below. The basic arithmetic operations use the operators shown. Use values of a = 4 and b = -2.1."
   ]
  },
  {
   "cell_type": "code",
   "execution_count": null,
   "metadata": {},
   "outputs": [],
   "source": [
    "a = 4\n",
    "b = -2.1"
   ]
  },
  {
   "cell_type": "markdown",
   "metadata": {},
   "source": [
    "#### Plus ( `+` )"
   ]
  },
  {
   "cell_type": "code",
   "execution_count": null,
   "metadata": {},
   "outputs": [],
   "source": [
    "a+b"
   ]
  },
  {
   "cell_type": "markdown",
   "metadata": {},
   "source": [
    "#### Minus ( `-` )"
   ]
  },
  {
   "cell_type": "code",
   "execution_count": null,
   "metadata": {},
   "outputs": [],
   "source": [
    "a-b"
   ]
  },
  {
   "cell_type": "markdown",
   "metadata": {},
   "source": [
    "#### Multiply ( `*` )"
   ]
  },
  {
   "cell_type": "code",
   "execution_count": null,
   "metadata": {},
   "outputs": [],
   "source": [
    "a*b"
   ]
  },
  {
   "cell_type": "markdown",
   "metadata": {},
   "source": [
    "#### Power ( `^` )"
   ]
  },
  {
   "cell_type": "code",
   "execution_count": null,
   "metadata": {},
   "outputs": [],
   "source": [
    "a^b"
   ]
  },
  {
   "cell_type": "markdown",
   "metadata": {},
   "source": [
    "#### Divide"
   ]
  },
  {
   "cell_type": "code",
   "execution_count": null,
   "metadata": {},
   "outputs": [],
   "source": [
    "a/b"
   ]
  },
  {
   "cell_type": "markdown",
   "metadata": {},
   "source": [
    "## Vectors\n",
    "\n",
    "To define a row vector we type each element of the vector (separated by a comma) between square brackets and set it equal to a variable. \n",
    "For example, to create the row vector x, enter into MATLAB:\n",
    "```matlab\n",
    "» x = [1,2,3,4] \n",
    "\n",
    "x = \n",
    "    1     2     3     4 \n",
    "```\n",
    "\n",
    "To enter a column vector, separate the elements by a semicolon; for example:\n",
    "```matlab\n",
    "» y = [1;2,3;4] \n",
    "\n",
    "y = \n",
    "    1 \n",
    "    2 \n",
    "    3 \n",
    "    4 \n",
    "```\n",
    "\n",
    "We can determine the size of the vectors x and y by using the size command.\n",
    "\n",
    "```matlab\n",
    "» size(x) \n",
    "\n",
    "ans =  1  4 \n",
    "\n",
    "» size(y) \n",
    "\n",
    "ans =  4  1 \n",
    "```\n",
    "\n",
    "If we want to create a vector with elements between 0 and 5 evenly spaced in increments of 0.5, we can use:\n",
    "\n",
    "```matlab\n",
    "» t = 0:0.5:5 \n",
    "\n",
    "t =\n",
    "\n",
    "         0    0.5000    1.0000    1.5000    2.0000    2.5000    3.0000    3.5000    4.0000    4.5000    5.0000\n",
    "```"
   ]
  },
  {
   "cell_type": "markdown",
   "metadata": {},
   "source": [
    "### Exercise 2: Vectors\n",
    "\n",
    "A. Enter the first three prime numbers as a row vector."
   ]
  },
  {
   "cell_type": "code",
   "execution_count": null,
   "metadata": {},
   "outputs": [],
   "source": [
    "% put your code here"
   ]
  },
  {
   "cell_type": "markdown",
   "metadata": {},
   "source": [
    "B. Repeat (A), but use a column vector."
   ]
  },
  {
   "cell_type": "code",
   "execution_count": null,
   "metadata": {},
   "outputs": [],
   "source": [
    "% put your code here"
   ]
  },
  {
   "cell_type": "markdown",
   "metadata": {},
   "source": [
    "C. The following table shows some measurements of voltage across a resistor as a function of timeTime (sec)\n",
    "\n",
    "| Time (s)    | 0.0 | 1.0 | 2.0 | 3.0 | 4.0 | 5.0 | 6.0 | 7.0 | 8.0 | 9.0 |\n",
    "|-------------|-----|-----|-----|-----|-----|-----|-----|-----|-----|-----|\n",
    "| Voltage (v) | 1.1 | 1.2 | 1.3 | 1.4 | 1.5 | 1.4 | 1.3 | 1.2 | 1.1 | 1.0 |\n",
    "\n",
    "Enter the time as a column vector called `time`"
   ]
  },
  {
   "cell_type": "code",
   "execution_count": null,
   "metadata": {},
   "outputs": [],
   "source": [
    "% put your code here"
   ]
  },
  {
   "cell_type": "markdown",
   "metadata": {},
   "source": [
    "Enter the voltage as a column vector called `voltage`"
   ]
  },
  {
   "cell_type": "code",
   "execution_count": null,
   "metadata": {},
   "outputs": [],
   "source": [
    "% put your code here"
   ]
  },
  {
   "cell_type": "markdown",
   "metadata": {},
   "source": [
    "Execute the command `plot(time, voltage)`"
   ]
  },
  {
   "cell_type": "code",
   "execution_count": null,
   "metadata": {},
   "outputs": [],
   "source": [
    "% put your code here"
   ]
  },
  {
   "cell_type": "markdown",
   "metadata": {},
   "source": [
    "On the resulting graph:\n",
    "\n",
    "* Which variable is on the independent axis?\n",
    "* Which variable is on the dependent axis?"
   ]
  },
  {
   "cell_type": "markdown",
   "metadata": {},
   "source": [
    "## Vector manipulation\n",
    "\n",
    "Manipulating vectors is almost as easy as creating them.  Try the following operations:"
   ]
  },
  {
   "cell_type": "code",
   "execution_count": null,
   "metadata": {},
   "outputs": [],
   "source": [
    "a = [1, 2, 3, 4]"
   ]
  },
  {
   "cell_type": "code",
   "execution_count": null,
   "metadata": {},
   "outputs": [],
   "source": [
    "x = a+2 "
   ]
  },
  {
   "cell_type": "code",
   "execution_count": null,
   "metadata": {},
   "outputs": [],
   "source": [
    "x = a-2"
   ]
  },
  {
   "cell_type": "code",
   "execution_count": null,
   "metadata": {},
   "outputs": [],
   "source": [
    "x = a*2"
   ]
  },
  {
   "cell_type": "code",
   "execution_count": null,
   "metadata": {},
   "outputs": [],
   "source": [
    "x = a/2"
   ]
  },
  {
   "cell_type": "markdown",
   "metadata": {},
   "source": [
    "Let `b = [1, 2, 3]`.  What happens if we try to add two variables (vectors: a+b) of different dimensions?  What is the error message?"
   ]
  },
  {
   "cell_type": "code",
   "execution_count": null,
   "metadata": {},
   "outputs": [],
   "source": [
    "% put your code here"
   ]
  },
  {
   "cell_type": "markdown",
   "metadata": {},
   "source": [
    "(We note that, in the example `x = a + 2`, variable `a` is size 1 x 4 and `2` is size 1 x 1. Technically they could not be added together, as the dimensions are not compatible.  However MATLAB assumes, when you add/subtract/multiply/divide a variable by a number, that all elements of the vector should be operated on.  This is not true with two vectors, as we see now.)\n",
    "\n",
    "For "
   ]
  },
  {
   "cell_type": "code",
   "execution_count": null,
   "metadata": {},
   "outputs": [],
   "source": [
    "x = [1, 2, 3, 4] "
   ]
  },
  {
   "cell_type": "markdown",
   "metadata": {},
   "source": [
    "and "
   ]
  },
  {
   "cell_type": "markdown",
   "metadata": {},
   "source": [
    "y = [5; 6; 7; 8]"
   ]
  },
  {
   "cell_type": "markdown",
   "metadata": {},
   "source": [
    "would the following operations be acceptable?"
   ]
  },
  {
   "cell_type": "code",
   "execution_count": null,
   "metadata": {},
   "outputs": [],
   "source": [
    "x+y"
   ]
  },
  {
   "cell_type": "code",
   "execution_count": null,
   "metadata": {},
   "outputs": [],
   "source": [
    "x*y"
   ]
  },
  {
   "cell_type": "code",
   "execution_count": null,
   "metadata": {},
   "outputs": [],
   "source": [
    "y*x"
   ]
  },
  {
   "cell_type": "markdown",
   "metadata": {},
   "source": [
    "In this case, we note that we cannot add `x + y` since they do not have appropriate dimensions.  However, if we use transpose `x'` (where `'` indicates the transpose), we can then evaluate:"
   ]
  },
  {
   "cell_type": "code",
   "execution_count": null,
   "metadata": {},
   "outputs": [],
   "source": [
    "x + y'"
   ]
  },
  {
   "cell_type": "markdown",
   "metadata": {},
   "source": [
    "The `size` command could be used to verify the dimensions of the vectors.\n",
    "\n",
    "### Exercise 3: Vector Manipulation\n",
    "\n",
    "Try the following vector operations and note the results.  Ensure the dimensions of x and y are appropriate for the operations attempted.  Note that some of the operators are different from scalar operators.           \n",
    "\n",
    "#### Plus ( `+` )\n",
    "\n",
    "Must be same dimension"
   ]
  },
  {
   "cell_type": "code",
   "execution_count": null,
   "metadata": {},
   "outputs": [],
   "source": [
    "x+y"
   ]
  },
  {
   "cell_type": "markdown",
   "metadata": {},
   "source": [
    "#### Minus ( `-` )"
   ]
  },
  {
   "cell_type": "code",
   "execution_count": null,
   "metadata": {},
   "outputs": [],
   "source": [
    "x-y"
   ]
  },
  {
   "cell_type": "markdown",
   "metadata": {},
   "source": [
    "#### Multiply ( `*` )\n",
    "Must be appropriate dimensions"
   ]
  },
  {
   "cell_type": "code",
   "execution_count": null,
   "metadata": {},
   "outputs": [],
   "source": [
    "x*y"
   ]
  },
  {
   "cell_type": "markdown",
   "metadata": {},
   "source": [
    "#### Multiply element by element ( `.*` )\n",
    "Must be same dimension"
   ]
  },
  {
   "cell_type": "code",
   "execution_count": null,
   "metadata": {},
   "outputs": [],
   "source": [
    "x.*y"
   ]
  },
  {
   "cell_type": "markdown",
   "metadata": {},
   "source": [
    "#### Divide element by element ( `./` ) "
   ]
  },
  {
   "cell_type": "code",
   "execution_count": null,
   "metadata": {},
   "outputs": [],
   "source": [
    "x./y"
   ]
  },
  {
   "cell_type": "markdown",
   "metadata": {},
   "source": [
    "#### Divide element by element ( `.\\` )"
   ]
  },
  {
   "cell_type": "code",
   "execution_count": null,
   "metadata": {},
   "outputs": [],
   "source": [
    "x.\\y"
   ]
  },
  {
   "cell_type": "markdown",
   "metadata": {},
   "source": [
    "Explain in words the three operations: `.*`, `./` and `.\\`.\n",
    "\n",
    "Think of an example where we might need this type of operation.\n",
    "\n",
    "**Remark**:   Note if we put a semi-colon (;) at the end of a MATLAB command, MATLAB does not return the values to the window.  Try:"
   ]
  },
  {
   "cell_type": "code",
   "execution_count": null,
   "metadata": {},
   "outputs": [],
   "source": [
    "a=[1, 2, 3];"
   ]
  },
  {
   "cell_type": "code",
   "execution_count": null,
   "metadata": {},
   "outputs": [],
   "source": [
    "b=[-2, -3, 4];"
   ]
  },
  {
   "cell_type": "code",
   "execution_count": null,
   "metadata": {},
   "outputs": [],
   "source": [
    "c=a+b"
   ]
  },
  {
   "cell_type": "code",
   "execution_count": null,
   "metadata": {},
   "outputs": [],
   "source": [
    "c=a-b"
   ]
  },
  {
   "cell_type": "markdown",
   "metadata": {},
   "source": [
    "## Polynomials\n",
    "\n",
    "We can enter the coefficients of a polynomial as a row vector. The coefficients should be entered in descending order of the powers of x. For example\n",
    "\n",
    "$$p(x) = x^2 + 10s + 3$$\n",
    "\n",
    "can be represented by\n",
    "\n",
    "```matlab\n",
    "»  p = [1, 10, 3]; \n",
    "```\n",
    "\n",
    "How would we enter the following polynomial, $q$?  \n",
    "\n",
    "$$q(t) = t^3 + 4t^2 + 3t + 1?$$"
   ]
  },
  {
   "cell_type": "code",
   "execution_count": null,
   "metadata": {},
   "outputs": [],
   "source": [
    "% put your code here"
   ]
  },
  {
   "cell_type": "markdown",
   "metadata": {},
   "source": [
    "MATLAB can interpret a vector of length n+l as the coefficients of an n<sup>th</sup> order polynomial.  Thus, if the polynomial is missing any coefficients, we must enter zeros in the appropriate place in the vector.  For example\n",
    "\n",
    "$$y(s) = s^4 + 1$$\n",
    "\n",
    "would be represented in MATLAB as:\n",
    "\n",
    "```matkab\n",
    "» y = [6, 0, 0, 0, 1]; \n",
    "```\n",
    "\n",
    "### Finding roots\n",
    "\n",
    "Use the following command:\n",
    "\n",
    "```matlab\n",
    "» roots([6, 0, 0, 0, 1]) \n",
    "```\n",
    "\n",
    "or\n",
    "\n",
    "```matlab\n",
    "» roots(y) \n",
    "```\n",
    "\n",
    "How would we enter the following polynomial, $m$: \n",
    "\n",
    "$$m(s) = 4s^4 + s^3 + 2s$$"
   ]
  },
  {
   "cell_type": "code",
   "execution_count": null,
   "metadata": {},
   "outputs": [],
   "source": [
    "% put your code here"
   ]
  },
  {
   "cell_type": "markdown",
   "metadata": {},
   "source": [
    "Determine the roots of $m$.\n",
    "\n",
    "### Multiplying/Dividing polynomials\n",
    "\n",
    "The product of two polynomials is found by taking the convolution of their coefficients.  The function `conv` will do this for us.\n",
    "\n",
    "Polynomial: $x(s) = s + 2$"
   ]
  },
  {
   "cell_type": "code",
   "execution_count": null,
   "metadata": {},
   "outputs": [],
   "source": [
    "x = [1, 2]"
   ]
  },
  {
   "cell_type": "markdown",
   "metadata": {},
   "source": [
    "Polynomial:  $y(s) = s^2 + 4s + 8$"
   ]
  },
  {
   "cell_type": "code",
   "execution_count": null,
   "metadata": {},
   "outputs": [],
   "source": [
    "y = [1, 4, 8]"
   ]
  },
  {
   "cell_type": "markdown",
   "metadata": {},
   "source": [
    "Polynomial: $z(s) = x(s) y(s)$"
   ]
  },
  {
   "cell_type": "code",
   "execution_count": null,
   "metadata": {},
   "outputs": [],
   "source": [
    "z = conv(x,y)"
   ]
  },
  {
   "cell_type": "markdown",
   "metadata": {},
   "source": [
    "Dividing two polynomials is just as easy.  The `deconv` function will return the result, $Q$, as well as the remainder, $R$. Note that if there is more than one output for a function, they should be put inside square brackets and be separated by commas.  Try to divide $z(s)$ by $y(s)$:"
   ]
  },
  {
   "cell_type": "code",
   "execution_count": null,
   "metadata": {},
   "outputs": [],
   "source": [
    "[Q, R] = deconv(z,y) "
   ]
  },
  {
   "cell_type": "markdown",
   "metadata": {},
   "source": [
    "How do we check the result?\n",
    "\n",
    "### Exercise 4: Polynomials\n",
    "\n",
    "We wish to plot a second-order polynomial\n",
    "$$y(t) = 4t^2 + 2t - 3$$\n",
    "\n",
    "and check the roots of the equation.\n",
    "\n",
    "We can do this in two ways.\n",
    "\n",
    "1. We can enter the polynomial coefficients as a vector and use the `roots` command."
   ]
  },
  {
   "cell_type": "code",
   "execution_count": null,
   "metadata": {},
   "outputs": [],
   "source": [
    "% put your code here"
   ]
  },
  {
   "cell_type": "markdown",
   "metadata": {},
   "source": [
    "2. We can plot the function y against time and note the points where the function crosses the time axis (that is points where $y = 0$).\n",
    "\n",
    "    a. Create a vector `t`, which has values evenly spaced from -5 to 5, in steps of 0.5.\n",
    "    \n",
    "    b. Calculate $y(t) = 4t^2 + 2t - 3$ for all values of the time vector, `t`. Since `t` is a vector, think carefully how you will calculate $4t^2 + 2t - 3$.\n",
    "    \n",
    "    c. Request a plot using `plot(t,y)`.  Find the roots on the graph. Are the roots on the graph similar to the answer in 1 above?\n",
    "    "
   ]
  },
  {
   "cell_type": "code",
   "execution_count": null,
   "metadata": {},
   "outputs": [],
   "source": [
    "% put your code here"
   ]
  },
  {
   "cell_type": "markdown",
   "metadata": {},
   "source": [
    "## Matrices\n",
    "\n",
    "Entering matrices into MATLAB is the same as entering a vector, except each row of elements is separated by a semicolon, try:"
   ]
  },
  {
   "cell_type": "code",
   "execution_count": null,
   "metadata": {},
   "outputs": [],
   "source": [
    "B = [1, 2, 3, 4; 5, 6, 7, 8; 9, 10, 11, 12] "
   ]
  },
  {
   "cell_type": "markdown",
   "metadata": {},
   "source": [
    "Matrices in MATLAB can be manipulated in many ways. For example, we can find the transpose of a matrix using the apostrophe key (').  Try"
   ]
  },
  {
   "cell_type": "code",
   "execution_count": null,
   "metadata": {},
   "outputs": [],
   "source": [
    "C = B' "
   ]
  },
  {
   "cell_type": "markdown",
   "metadata": {},
   "source": [
    "Remember that the order of multiplication is important when dealing with matrices. Would the following operations be allowed?\n",
    "\n",
    "```matlab\n",
    "D = B + C\n",
    "D = B * C'\n",
    "```"
   ]
  },
  {
   "cell_type": "code",
   "execution_count": null,
   "metadata": {},
   "outputs": [],
   "source": [
    "% put your code here"
   ]
  },
  {
   "cell_type": "markdown",
   "metadata": {},
   "source": [
    "Now try these:"
   ]
  },
  {
   "cell_type": "code",
   "execution_count": null,
   "metadata": {},
   "outputs": [],
   "source": [
    "D = C * B"
   ]
  },
  {
   "cell_type": "code",
   "execution_count": null,
   "metadata": {},
   "outputs": [],
   "source": [
    "D = B * C"
   ]
  },
  {
   "cell_type": "code",
   "execution_count": null,
   "metadata": {},
   "outputs": [],
   "source": [
    "E = D ^ 3 % power of a matrix"
   ]
  },
  {
   "cell_type": "code",
   "execution_count": null,
   "metadata": {},
   "outputs": [],
   "source": [
    "X = inv(E) % inverse of a matrix"
   ]
  },
  {
   "cell_type": "markdown",
   "metadata": {},
   "source": [
    "### Exercise 5: Matrices\n",
    "\n",
    "Find the solution of the following set of linear equations:\n",
    "\n",
    "\\begin{eqnarray*}\n",
    "2 x_1 + 5 x_2 + 3 x_3  &=& 6 \\\\\n",
    "3 x_1 - 2 x_2 + 4 x_3  &=&  - 2 \\\\\n",
    "x_1 + 6 x_2 - 4 x_3 &=& 3\n",
    "\\end{eqnarray*}\n",
    "\n",
    "*Hint*:  We write this in the matrix form, that is, $\\matrix{A}\\matrix{X} = \\matrix{B}$, where\n",
    "$\\matrix{A}$ is the matrix of coefficients of $x_1$, $x_2$, and $x_3$.\n",
    "$\\matrix{X}$ is the column vector, which will contain the solutions $x_1$, $x_2$, and $x_3$.\n",
    "$\\matrix{B}$ is the column vector of values on the right-hand side.\n",
    "\n",
    "Answer: = $\\matrix{A}^{-1}\\matrix{X} =\\ldots$"
   ]
  },
  {
   "cell_type": "code",
   "execution_count": null,
   "metadata": {},
   "outputs": [],
   "source": [
    "% enter your code here"
   ]
  },
  {
   "cell_type": "markdown",
   "metadata": {},
   "source": [
    "In MATLAB, you can also solve linear equations like this using the backslash operator `\\`: \n",
    "\n",
    "```matlab\n",
    "X = A\\B\n",
    "```\n",
    "\n",
    "Try it:"
   ]
  },
  {
   "cell_type": "code",
   "execution_count": null,
   "metadata": {},
   "outputs": [],
   "source": [
    "% enter your code here"
   ]
  },
  {
   "cell_type": "markdown",
   "metadata": {},
   "source": [
    "## Functions\n",
    "\n",
    "MATLAB includes many standard functions (and constants). Each function is a block of code that accomplishes a specific task. With practice, we can even write special MATLAB files (m-files) to save re-typing the same commands.\n",
    "\n",
    "### Common functions\n",
    "\n",
    "`sin`, `cos`, `log` ($\\log_{e}$), `log10` ($\\log_{10}$), `exp`, `sqrt`, `mean`, `std` (standard deviation).\n",
    "\n",
    "### Common constants\n",
    "\n",
    "`pi` (= $\\pi$) returns 3.1416 (rounded to 5 sig. figures). The variables `i` or `j` represent the square root of -1 (imaginary number)\n",
    "\n",
    "Try the following sine function:"
   ]
  },
  {
   "cell_type": "code",
   "execution_count": null,
   "metadata": {},
   "outputs": [],
   "source": [
    "x = sin(pi/4)"
   ]
  },
  {
   "cell_type": "markdown",
   "metadata": {},
   "source": [
    "We wish to plot the sine wave of frequency 3 rad/s and amplitude 1 over a period of time between 0 to 20 seconds (in steps of 0.1 seconds).\n",
    "\n",
    "Write down the sine wave expression: `y(t) = `?\n",
    "\n",
    "Calculate the vector y for the values of time given. Graph the results using an appropriate plot command."
   ]
  },
  {
   "cell_type": "code",
   "execution_count": null,
   "metadata": {},
   "outputs": [],
   "source": [
    "% insert your code here"
   ]
  },
  {
   "cell_type": "markdown",
   "metadata": {},
   "source": [
    "### Exercise 6: Functions\n",
    "\n",
    "A sine wave of amplitude 5 and a frequency of 0.1 Hz is applied to the input of an analogue device, which has a constant gain of 1.5 over all frequencies. Calculate the output signal for the interval 0 to 10 seconds in increments of 0.1 seconds.\n",
    "\n",
    "Use the command\n",
    "\n",
    "```matlab\n",
    "plot(t,y)\n",
    "```\n",
    "\n",
    "to see a graph of this signal. What is the frequency of the sine wave on the plot? (Use the `grid` command to help work this out (approximately))."
   ]
  },
  {
   "cell_type": "markdown",
   "metadata": {},
   "source": [
    "## Help window/Tips\n",
    "\n",
    "To determine the usage of any function, enter:\n",
    "\n",
    "```matlab\n",
    "» help function name\n",
    "```\n",
    "\n",
    "Try"
   ]
  },
  {
   "cell_type": "code",
   "execution_count": null,
   "metadata": {},
   "outputs": [],
   "source": [
    "help sin"
   ]
  },
  {
   "cell_type": "markdown",
   "metadata": {},
   "source": [
    "### Documentation\n",
    "\n",
    "MATLAB has an extensive online documentation system. To access it type:"
   ]
  },
  {
   "cell_type": "code",
   "execution_count": null,
   "metadata": {},
   "outputs": [],
   "source": [
    "doc"
   ]
  },
  {
   "cell_type": "markdown",
   "metadata": {},
   "source": [
    "The documentation system covers all the MATLAB functions, applications and toolboxes. Once there you have the choice of browsing the documentation or searching for particular functions.\n",
    "\n",
    "You can give an argument to the doc function to get help on a particular function or concept. For example, "
   ]
  },
  {
   "cell_type": "code",
   "execution_count": null,
   "metadata": {},
   "outputs": [],
   "source": [
    "doc elfun "
   ]
  },
  {
   "cell_type": "markdown",
   "metadata": {},
   "source": [
    "provides an index of basic functions. \n",
    "\n",
    "### Tips\n",
    "\n",
    "* Keep the documentation window open for quick access to help. Use search often!\n",
    "* MATLAB variables are case sensitive, that is, `temp` and `Temp` would be two different variables.\n",
    "* We can use the command `who` to see the variables in the MATLAB workspace.\n",
    "* We can get the value of a particular variable at any time by typing its name.  Use `who` to list all the variables in the workspace.  Type the name of one of these variables to show its current value.\n",
    "* We can use `clear all` to clear all the variables from the workspace or `clear` *variable name* to clear only a single variable.\n",
    "* We can also have more than one statement on a single line, so long as we separate them with either a semicolon or comma.  Try: "
   ]
  },
  {
   "cell_type": "code",
   "execution_count": null,
   "metadata": {},
   "outputs": [],
   "source": [
    "gain = 20*log10(2); ang=angle(0.5*i);"
   ]
  },
  {
   "cell_type": "markdown",
   "metadata": {},
   "source": [
    "Now, enter gain and angle to see the results."
   ]
  },
  {
   "cell_type": "code",
   "execution_count": null,
   "metadata": {},
   "outputs": [],
   "source": [
    "% enter your code here"
   ]
  },
  {
   "cell_type": "markdown",
   "metadata": {},
   "source": [
    "If we do not assign a variable to a specific operation or result, MATLAB will store the outcome of the operation in a temporary variable called ans.  For example \n",
    "\n",
    "```matlab\n",
    "» 3+6\n",
    "\n",
    "ans =\n",
    "\n",
    "     9\n",
    "```\n",
    "\n",
    "### Function Inputs and Outputs\n",
    "\n",
    "Each function in MATLAB has a number of inputs and output variables.  We should define all the necessary inputs before we run a function. (We can use the `help` function to check the inputs and outputs of any function we are going to use.) For example, if we wanted to find out about the use of the `abs` function, we could type\n",
    "\n",
    "```matlab\n",
    "» help abs\n",
    "```\n",
    "\n",
    "MATLAB returns:\n",
    "\n",
    "```matlab\n",
    "\n",
    "abs    Absolute value.\n",
    "    abs(X) is the absolute value of the elements of X. When\n",
    "    X is complex, abs(X) is the complex modulus (magnitude) of\n",
    "    the elements of X.\n",
    " \n",
    "    See also sign, angle, unwrap, hypot.\n",
    "\n",
    "    Reference page for abs\n",
    "    Other functions named abs\n",
    "```\n",
    "\n",
    "Therefore by typing\n",
    "\n",
    "```matlab\n",
    "y = abs(x)\n",
    "```\n",
    "\n",
    "the variable `y` would hold the absolute values of `x`.\n",
    "\n",
    "If we want to find the modulus and the angle of a complex number, we can enter the following:"
   ]
  },
  {
   "cell_type": "code",
   "execution_count": null,
   "metadata": {},
   "outputs": [],
   "source": [
    "s = j*pi/4 % define complex number s"
   ]
  },
  {
   "cell_type": "code",
   "execution_count": null,
   "metadata": {},
   "outputs": [],
   "source": [
    "g = 1/s % define complex function g "
   ]
  },
  {
   "cell_type": "code",
   "execution_count": null,
   "metadata": {},
   "outputs": [],
   "source": [
    "mag = abs(g) % find the magnitude: output: mag input: g"
   ]
  },
  {
   "cell_type": "code",
   "execution_count": null,
   "metadata": {},
   "outputs": [],
   "source": [
    "ang = angle(g) % find the angle in radians: output: ang input: g"
   ]
  },
  {
   "cell_type": "markdown",
   "metadata": {},
   "source": [
    "Once we defined the output variables, they will be stored in MATLAB workspace and we can manipulate them as we wish."
   ]
  },
  {
   "cell_type": "markdown",
   "metadata": {},
   "source": [
    "## Transfer functions\n",
    "\n",
    "A transfer function can be entered into MATLAB using several different commands:\n",
    "\n",
    "### Method 1:\n",
    "\n",
    "1. We can use the command `tf(num,den)`, where num and den are vectors of coefficients of the numerator and denominator polynomials, respectively.  Enter the transfer function:\n",
    "\n",
    "$$g_1(s) = \\frac{3s + 1}{s^2 + 3s + 2}$$"
   ]
  },
  {
   "cell_type": "code",
   "execution_count": null,
   "metadata": {},
   "outputs": [],
   "source": [
    "num = [3, 1]"
   ]
  },
  {
   "cell_type": "code",
   "execution_count": null,
   "metadata": {},
   "outputs": [],
   "source": [
    "den = [1, 3, 2]"
   ]
  },
  {
   "cell_type": "code",
   "execution_count": null,
   "metadata": {},
   "outputs": [],
   "source": [
    "g1 = tf(num,den) % enter the transfer function"
   ]
  },
  {
   "cell_type": "markdown",
   "metadata": {},
   "source": [
    "2. Alternatively, we can define `s` as a transfer function and then use it to 'write' the transfer function directly."
   ]
  },
  {
   "cell_type": "code",
   "execution_count": null,
   "metadata": {},
   "outputs": [],
   "source": [
    "s=tf('s');"
   ]
  },
  {
   "cell_type": "code",
   "execution_count": null,
   "metadata": {},
   "outputs": [],
   "source": [
    "g1 = (3*s + 1)/(s^2 + 3*s + 2)"
   ]
  },
  {
   "cell_type": "markdown",
   "metadata": {},
   "source": [
    "### Method 2:\n",
    "\n",
    "We can use the command `zpk(zeros,poles,gain)`, where `zeros`, `poles` and `gain` are vectors of the zeros, poles and gain of the transfer function. For example, we can enter the following transfer function in the form \n",
    "\n",
    "$$g_2(s) = \\frac{4(s + 5)}{(s+3)(s+10)}$$"
   ]
  },
  {
   "cell_type": "code",
   "execution_count": null,
   "metadata": {},
   "outputs": [],
   "source": [
    "zeros = [-5]"
   ]
  },
  {
   "cell_type": "code",
   "execution_count": null,
   "metadata": {},
   "outputs": [],
   "source": [
    "poles = [-3, -10]"
   ]
  },
  {
   "cell_type": "code",
   "execution_count": null,
   "metadata": {},
   "outputs": [],
   "source": [
    "gain = 4"
   ]
  },
  {
   "cell_type": "code",
   "execution_count": null,
   "metadata": {},
   "outputs": [],
   "source": [
    "g2 = zpk(zeros,poles,gain)"
   ]
  },
  {
   "cell_type": "markdown",
   "metadata": {},
   "source": [
    "or equivalently "
   ]
  },
  {
   "cell_type": "code",
   "execution_count": null,
   "metadata": {},
   "outputs": [],
   "source": [
    "g2 = zpk([-5],[-3 -10],4) % enter the transfer function"
   ]
  },
  {
   "cell_type": "markdown",
   "metadata": {},
   "source": [
    "Alternatively, we can define `s` as a transfer function and then use it to 'write' the transfer function directly. "
   ]
  },
  {
   "cell_type": "code",
   "execution_count": null,
   "metadata": {},
   "outputs": [],
   "source": [
    "s=zpk('s');\n",
    "g2 = 4*(s + 5)/((s + 3)*(s + 10))"
   ]
  },
  {
   "cell_type": "markdown",
   "metadata": {},
   "source": [
    "If we have a factor with complex poles in the transfer function,\n",
    "\n",
    "The complex roots of the denominator can be entered easily as"
   ]
  },
  {
   "cell_type": "code",
   "execution_count": null,
   "metadata": {},
   "outputs": [],
   "source": [
    "g3=zpk([5],[-2+3j,-2-3j],4)"
   ]
  },
  {
   "cell_type": "markdown",
   "metadata": {},
   "source": [
    "If you want to use the symbolic version, you have to enter the complex poles as the coefficients of the quadratic $s^2 + 4s + 13$ as:"
   ]
  },
  {
   "cell_type": "code",
   "execution_count": null,
   "metadata": {},
   "outputs": [],
   "source": [
    "g3=4*(s+5)/(s^2 + 4*s + 13)"
   ]
  },
  {
   "cell_type": "markdown",
   "metadata": {},
   "source": [
    "If you need to, you can find the coefficients of the quadratic using conv:"
   ]
  },
  {
   "cell_type": "code",
   "execution_count": null,
   "metadata": {},
   "outputs": [],
   "source": [
    "q =conv([1, 2+3j],[1, 2-3j])"
   ]
  },
  {
   "cell_type": "markdown",
   "metadata": {},
   "source": [
    "Try entering the following transfer functions:\n",
    "\n",
    "$$g4(s) = \\frac{12(3s+2)}{(s+3+j7)(s+3-j7)}$$"
   ]
  },
  {
   "cell_type": "code",
   "execution_count": null,
   "metadata": {},
   "outputs": [],
   "source": [
    "% put your code here"
   ]
  },
  {
   "cell_type": "markdown",
   "metadata": {},
   "source": [
    "$$g_5(s) = \\frac{2(s+8)}{(s+0.1)(s+2)(4s+6)}$$"
   ]
  },
  {
   "cell_type": "code",
   "execution_count": null,
   "metadata": {},
   "outputs": [],
   "source": [
    "% put your code here"
   ]
  },
  {
   "cell_type": "markdown",
   "metadata": {},
   "source": [
    "### Transfer function manipulation\n",
    "\n",
    "Once the various transfer functions representing components in a system have been entered, we can combine them together.\n",
    "\n",
    "Use the transfer functions\n",
    "\n",
    "$$g_6(s)=\\frac{1}{s+2}$$\n",
    "\n",
    "and\n",
    "\n",
    "$$g_7(s)=\\frac{5}{s+3}$$"
   ]
  },
  {
   "cell_type": "code",
   "execution_count": null,
   "metadata": {},
   "outputs": [],
   "source": [
    "% put your code here"
   ]
  },
  {
   "cell_type": "markdown",
   "metadata": {},
   "source": [
    "to complete the following.\n",
    "\n",
    "#### Addition"
   ]
  },
  {
   "cell_type": "code",
   "execution_count": null,
   "metadata": {},
   "outputs": [],
   "source": [
    "g6 + g7"
   ]
  },
  {
   "cell_type": "markdown",
   "metadata": {},
   "source": [
    "#### Subtraction"
   ]
  },
  {
   "cell_type": "code",
   "execution_count": null,
   "metadata": {},
   "outputs": [],
   "source": [
    "g6 - g7"
   ]
  },
  {
   "cell_type": "markdown",
   "metadata": {},
   "source": [
    "#### Multiplication"
   ]
  },
  {
   "cell_type": "code",
   "execution_count": null,
   "metadata": {},
   "outputs": [],
   "source": [
    "g6 * g7"
   ]
  },
  {
   "cell_type": "markdown",
   "metadata": {},
   "source": [
    "#### Division"
   ]
  },
  {
   "cell_type": "code",
   "execution_count": null,
   "metadata": {},
   "outputs": [],
   "source": [
    "g6 / g7"
   ]
  },
  {
   "cell_type": "markdown",
   "metadata": {},
   "source": [
    "#### Combination of  operations"
   ]
  },
  {
   "cell_type": "code",
   "execution_count": null,
   "metadata": {},
   "outputs": [],
   "source": [
    "g6/(1+g6)"
   ]
  },
  {
   "cell_type": "markdown",
   "metadata": {},
   "source": [
    "Now, that we have entered various transfer functions, it is easy to use some of the system analysis commands available from the various MATLAB toolboxes.  The following commands represent some of the systems control analysis operations.\n",
    "\n",
    "### Time responses\n",
    "\n",
    "* For a unit impulse response use the command: `impulse(g)`\n",
    "* For a unit step response, use the command: `step(g)`\n",
    "* For a step response of magnitude `K`, simply multiply the transfer function, `g`, by the numerical value of `K`: `step(K*g)`\n",
    "\n",
    "### Poles and zeros\n",
    "\n",
    "* To see the roots of the numerator (called the zeros) of a transfer function use the command: `zero(g)`\n",
    "* For the roots of the denominator (called the poles) of a transfer function (zeros of the denominator of g(s)) use the command: `pole(g)`\n",
    "* For a pole-zero map use the command: `pzmap(g)`\n",
    "\n",
    "### Block diagram feedback\n",
    "\n",
    "To determine the closed-loop transfer function for a system with negative feedback we can use the command:\n",
    "\n",
    "```matlab\n",
    "» gc = feedback(g, h)\n",
    "```\n",
    "\n",
    "where `g` is the forward transfer function and `h` represents the transfer function of the components in the feedback path. If positive feedback is required then the following command can be used:\n",
    "\n",
    "```matlab\n",
    "» gc = feedback(g, h, +1)\n",
    "```"
   ]
  },
  {
   "cell_type": "markdown",
   "metadata": {},
   "source": [
    "### Exercise 7: Transfer Functions\n",
    "\n",
    "Given the following transfer functions,\n",
    "\n",
    "$$g_1(s) = \\frac{3s+1}{s^2 + 3s + 1}$$\n",
    "\n",
    "and\n",
    "\n",
    "$$g_2(s) = \\frac{2s+3}{s^3 + 1}$$\n",
    "\n",
    "* enter $g_1(s)$ using row vectors\n",
    "* enter $g_2(s)$ using the `s = tf('s')` method"
   ]
  },
  {
   "cell_type": "code",
   "execution_count": null,
   "metadata": {},
   "outputs": [],
   "source": [
    "% put your code here"
   ]
  },
  {
   "cell_type": "markdown",
   "metadata": {},
   "source": [
    "1. Find the roots of the numerator and denominator polynomials using the `roots` function`\n",
    "2. Compare with the results using the `zero` and `pole` functions\n",
    "3. Examine where the roots are using the `pzmap` function"
   ]
  },
  {
   "cell_type": "code",
   "execution_count": null,
   "metadata": {},
   "outputs": [],
   "source": [
    "% put your code here"
   ]
  },
  {
   "cell_type": "markdown",
   "metadata": {},
   "source": [
    "## Plotting\n",
    "\n",
    "It is easy to create plots in MATLAB.  Suppose we make a time vector and then compute the sine values of the vector at each time."
   ]
  },
  {
   "cell_type": "code",
   "execution_count": null,
   "metadata": {},
   "outputs": [],
   "source": [
    "t=0:0.25:10;\n",
    "y = sin(t);\n",
    "plot(t,y)"
   ]
  },
  {
   "cell_type": "markdown",
   "metadata": {},
   "source": [
    "This illustrates that basic plotting is very easy in MATLAB, and the `plot` command has extensive add-on capabilities.  Some useful features are given here.\n",
    "\n",
    "### Figure command\n",
    "\n",
    "When we plot a graph, MATLAB opens a window called a \"Figure Window\".  Every time we plot a graph, this figure window is updated.  If we want to keep the old graphs, we can open a new window by using the command:\n",
    "\n",
    "```matlab\n",
    "» figure\n",
    "```\n",
    "\n",
    "Try:"
   ]
  },
  {
   "cell_type": "code",
   "execution_count": null,
   "metadata": {},
   "outputs": [],
   "source": [
    "step(g3)"
   ]
  },
  {
   "cell_type": "code",
   "execution_count": null,
   "metadata": {},
   "outputs": [],
   "source": [
    "figure\n",
    "step(2*g3)"
   ]
  },
  {
   "cell_type": "markdown",
   "metadata": {},
   "source": [
    "### Plotting several responses on the same axis\n",
    "\n",
    "Plot the first response and then enter the command:\n",
    "\n",
    "```matlab\n",
    "»  hold on\n",
    "```\n",
    "\n",
    "Try these commands: "
   ]
  },
  {
   "cell_type": "code",
   "execution_count": null,
   "metadata": {},
   "outputs": [],
   "source": [
    "figure(2);\n",
    "step(g3)\n",
    "hold on\n",
    "step(2*g3)\n",
    "step(0.5*g3)"
   ]
  },
  {
   "cell_type": "markdown",
   "metadata": {},
   "source": [
    "Enter hold off to return to the default mode."
   ]
  },
  {
   "cell_type": "code",
   "execution_count": null,
   "metadata": {},
   "outputs": [],
   "source": [
    "hold off"
   ]
  },
  {
   "cell_type": "markdown",
   "metadata": {},
   "source": [
    "### Finding coordinates of a point on a graph\n",
    "\n",
    "Use `ginput(N)` (N is the number of points at which co-ordinates may be found). This will give a cursor, which we can move to a point on the figure using the mouse, and then press the left-hand button to see the co-ordinates in the MATLAB Command Window.  \n",
    "\n",
    "**Example**: \n",
    "\n",
    "Type the following (these commands don't work in the Jupyter notebook. You have to run them from the command line).\n",
    "\n",
    "```matlab\n",
    "step(g3)\n",
    "```\n",
    "\n",
    "and then\n",
    "\n",
    "```matlab\n",
    "ginput(1)\n",
    "```\n",
    "\n",
    "Use the mouse to click on the final value of the step response.  Look in MATLAB Command Window to see the values of x and y.\n",
    "\n",
    "### Labelling plots and axes\n",
    "Use the following commands:"
   ]
  },
  {
   "cell_type": "code",
   "execution_count": null,
   "metadata": {},
   "outputs": [],
   "source": [
    "step(g3)\n",
    "xlabel('Time (sec)')\n",
    "ylabel('Output')\n",
    "title('Tutorial Example')"
   ]
  },
  {
   "cell_type": "markdown",
   "metadata": {},
   "source": [
    "The following command allows text to be placed on a graph.  This can be useful, for example, for labelling certain areas of a plot or for pointing out specific features on the plot. Again, it will only work from the command line, not in Jupyter notebook.\n",
    "\n",
    "```matlab\n",
    "gtext('Step Response')\n",
    "```\n",
    "Move the cursor to a point on the graph, and click the left-hand button.\n",
    "\n",
    "### Frequency response graphs\n",
    "\n",
    "The command `semilogx` is the same as plot except a logarithmic (base 10) scale is used for the x-axis.  See the exercise for an example.\n",
    "\n",
    "### Exercise 8: Plotting\n",
    "\n",
    "The input-output relationship of an RC circuit can be represented by the following function of a complex variable:\n",
    "\n",
    "$$g(j\\omega) = \\frac{V_o(j\\omega)}{V_i(j\\omega)} = \\frac{K}{j\\omega\\tau + 1}$$\n",
    "\n",
    "where $K$ is the gain and $\\tau$ is the time constant.\n",
    "\n",
    "* For $K=10$ and $\\tau = 5$, calculate the gain and phase of $V_o/V_i$ for w = 0.01, 0.05, 0.1, 2, 5, 10 (rad/s).\n",
    "* Plot the gain and phase using the `semilogx` function.\n",
    "\n",
    "*Hints*: \n",
    "\n",
    "* Enter the values $K$ and $\\tau$ as `K` and `tau`. Define a frequency vector, `w`.\n",
    "* Calculate `g = K./(j*w*tau + l)`.  Note the use of the operator `./`.\n",
    "* Calculate the gain in dB (`gain = 20 * log10(gain)`) and the phase in degrees (`phase = phase * 180/pi`).\n",
    "* Plot the response using `semilogx(w,gain)` and `semilogx(w,phase)`.\n",
    "* Label both plots."
   ]
  },
  {
   "cell_type": "code",
   "execution_count": null,
   "metadata": {},
   "outputs": [],
   "source": [
    "% put your code here"
   ]
  },
  {
   "cell_type": "markdown",
   "metadata": {},
   "source": [
    "## Summary\n",
    "What we have covered\n",
    "\n",
    "* To enter numbers vectors, matrices and transfer functions easily into the package\n",
    "* To perform several different calculations and operations on different variables \n",
    "* To plot graphs of results\n",
    "* To form a step response of a transfer function and plots the output response\n",
    "\n",
    "What we have not covered\n",
    "\n",
    "* The Simulink tool which is used for system simulation.\n",
    "* State space models.\n",
    "* Digital systems.\n",
    "\n",
    "Please consult the on-line documentation to find out how to use these facilities."
   ]
  }
 ],
 "metadata": {
  "kernelspec": {
   "display_name": "Matlab",
   "language": "matlab",
   "name": "matlab"
  },
  "language_info": {
   "codemirror_mode": "octave",
   "file_extension": ".m",
   "help_links": [
    {
     "text": "MetaKernel Magics",
     "url": "https://metakernel.readthedocs.io/en/latest/source/README.html"
    }
   ],
   "mimetype": "text/x-octave",
   "name": "matlab",
   "version": "0.16.7"
  }
 },
 "nbformat": 4,
 "nbformat_minor": 2
}
