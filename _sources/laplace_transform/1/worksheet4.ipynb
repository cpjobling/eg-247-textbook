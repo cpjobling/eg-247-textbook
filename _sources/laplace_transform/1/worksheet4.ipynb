{
 "cells": [
  {
   "cell_type": "markdown",
   "id": "dbd861e3",
   "metadata": {
    "slideshow": {
     "slide_type": "slide"
    }
   },
   "source": [
    "# Worksheet 4\n",
    "\n",
    "## To accompany Chapter 3.1 Laplace Transform"
   ]
  },
  {
   "cell_type": "markdown",
   "id": "a8032b69",
   "metadata": {
    "slideshow": {
     "slide_type": "notes"
    }
   },
   "source": [
    "## Colophon\n",
    "\n",
    "This worksheet can be downloaded as a [PDF file](https://cpjobling.github.io/eg-247-textbook/worksheets/worksheet4.pdf). We will step through this worksheet in class. \n",
    "\n",
    "A printout of this worksheet will be distributed before the second class meeting in the **Week 2: Classroom Activities** section of the Canvas site. I will also distribute a copy to your personal **Worksheets** section of the **OneNote Class Notebook** so that you can add your own notes using OneNote. \n",
    "\n",
    "You are expected to have at least watched the video presentation of [Chapter 3.1](https://cpjobling.github.io/eg-247-textbook/laplace_transform/1/laplace) of the [notes](https://cpjobling.github.io/eg-247-textbook) before coming to class. If you haven't watch it afterwards!\n",
    "\n",
    "After class, the lecture recording and the annotated version of this worksheet will be made available to you via OneNote and through Canvas."
   ]
  },
  {
   "cell_type": "markdown",
   "id": "61ba84b4",
   "metadata": {
    "slideshow": {
     "slide_type": "subslide"
    }
   },
   "source": [
    "## First hour quiz: The Laplace and inverse Laplace transforms"
   ]
  },
  {
   "cell_type": "markdown",
   "id": "d7ab0431",
   "metadata": {
    "slideshow": {
     "slide_type": "skip"
    }
   },
   "source": [
    "This will be a group activity. If you did the quiz in Canvas before class you will be in a good place to get these answers."
   ]
  },
  {
   "cell_type": "markdown",
   "id": "ca24ca85",
   "metadata": {
    "slideshow": {
     "slide_type": "fragment"
    }
   },
   "source": [
    "### Question 1: The Laplace Transform\n",
    "\n",
    "Without looking it up, which of these integrals represents the Laplace and Inverse laplace transforms?"
   ]
  },
  {
   "cell_type": "markdown",
   "id": "52af4ae4",
   "metadata": {
    "slideshow": {
     "slide_type": "fragment"
    }
   },
   "source": [
    "<table>\n",
    "<tr><td>A.</td><td>\n",
    "    \n",
    "$$\\frac{1}{2\\pi j}\\int_{\\sigma-j\\omega}^{\\sigma+j\\omega}\\,F(s)\\,e^{st}\\,ds$$\n",
    "    \n",
    "</td><td>B.</td><td>\n",
    "    \n",
    "$$\\int_{0}^{\\infty}\\,f(t)\\,e^{-st}\\,dt$$\n",
    "    \n",
    "</td></tr>\n",
    "<tr><td>C.</td><td>\n",
    "    \n",
    "$$\\int_{-\\infty}^{t}\\,f(\\tau)\\,g(t-\\tau)\\,d\\tau$$\n",
    "    \n",
    "</td><td>D.</td><td>\n",
    "    \n",
    "$$\\int_{-j\\omega}^{+j\\omega}\\,f(t)\\,e^{-j\\omega t}\\,dt$$\n",
    "    \n",
    "</td></tr>\n",
    "</table>"
   ]
  },
  {
   "cell_type": "markdown",
   "id": "1a35e744",
   "metadata": {
    "slideshow": {
     "slide_type": "subslide"
    }
   },
   "source": [
    "Bonus: what are the other two integrals?"
   ]
  },
  {
   "cell_type": "markdown",
   "id": "65b44022",
   "metadata": {
    "slideshow": {
     "slide_type": "subslide"
    }
   },
   "source": [
    "### Question 2: Laplace transforms\n",
    "\n",
    "Match the transform to the time-domain operator\n",
    "\n",
    "<table>\n",
    "<tr><td>1.</td><td>\n",
    "        \n",
    "$$\\int_{-\\infty}^{t}\\,f(\\tau)\\,d\\tau$$\n",
    "        \n",
    "</td><td>A.</td><td>\n",
    "        \n",
    "$$\\frac{F(s)}{s}+\\frac{f(0^-)}{s}$$\n",
    "        \n",
    "</td></tr>\n",
    "<tr><td>2.</td><td>\n",
    "        \n",
    "$$\\lim_{t\\rightarrow 0}\\,f(t)$$\n",
    "        \n",
    "</td><td>B.</td><td>\n",
    "        \n",
    "$$sF(s) - f(0^-)$$\n",
    "        \n",
    "</td></tr>\n",
    "<tr><td>3.</td><td>\n",
    "        \n",
    "$$\\int_0^t\\,f_1(\\tau)f_2(t-\\tau)\\,d\\tau$$\n",
    "        \n",
    "</td><td>C.</td><td>\n",
    "        \n",
    "$$\\frac{\\int_{0}^{T}\\,f(t)\\,e^{-sT}}{1-e^{-sT}}$$\n",
    "        \n",
    "</td></tr>\n",
    "    <tr><td>4.</td><td>\n",
    "        \n",
    "$$\\frac{d}{dt}\\,f(t)$$\n",
    "        \n",
    "</td><td>D.</td><td>\n",
    "        \n",
    "$$F_1(s)\\,F_2(s)$$\n",
    "        \n",
    "</td></tr>\n",
    "    <tr><td>5.</td><td>\n",
    "        \n",
    "$$f(t + nT)$$\n",
    "        \n",
    "</td><td>E.</td><td>\n",
    "        \n",
    "$$\\lim_{s\\rightarrow \\infty}\\,sF(s)$$\n",
    "        \n",
    "</td></tr>\n",
    "</table>"
   ]
  },
  {
   "cell_type": "markdown",
   "id": "a2791a33",
   "metadata": {
    "slideshow": {
     "slide_type": "subslide"
    }
   },
   "source": [
    "### Question 3: Properties of Laplace transforms\n",
    "\n",
    "Match each of these mathematical properties to the associated Laplace transform property.\n",
    "\n",
    "<table>\n",
    "<tr><td>1.</td><td>Linearity</td><td>A.</td><td>\n",
    "    \n",
    "$$f(t - a)\\,u_0(t - a) \\Leftrightarrow e^{-as} F(s)$$\n",
    "    \n",
    "</td></tr>\n",
    "<tr><td>2.</td><td>Time Scaling</td><td>B.</td><td>\n",
    "    \n",
    "$$c_1f_1(t) + c_2f_2(t)+ \\cdots + c_nf_n(t)\\Leftrightarrow c_1F_1(s) + c_2F_2(s) + \\cdots + c_nF_n(s)$$\n",
    "    \n",
    "</td></tr>\n",
    "<tr><td>3.</td><td>Time-shift</td><td>C.</td><td>\n",
    "    \n",
    "$$e^{-at}\\, f(t) \\Leftrightarrow F(s + a)$$\n",
    "    \n",
    "</td></tr>\n",
    "<tr><td>4.</td><td>Frequency Shift</td><td>D.</td><td>\n",
    "    \n",
    "$$f(at) \\Leftrightarrow (1/a) \\, F (s/a)$$\n",
    "    \n",
    "</td></tr>\n",
    "</table>"
   ]
  },
  {
   "cell_type": "markdown",
   "id": "28e94173",
   "metadata": {
    "slideshow": {
     "slide_type": "subslide"
    }
   },
   "source": [
    "### Question 4: Name that property\n",
    "\n",
    "What property is this? \n",
    "\n",
    "$$\\lim_{t\\rightarrow \\infty}\\,f(t)\\Leftrightarrow \\lim_{s\\rightarrow 0}\\,sF(s)$$\n",
    "\n",
    "A. Convolution in the time domain\n",
    "\n",
    "B. Initial value theorem\n",
    "\n",
    "C. Final value theorem\n",
    "\n",
    "D. Differentiation in the time domain\n",
    "\n",
    "E. Integration in the time domain"
   ]
  },
  {
   "cell_type": "markdown",
   "id": "25fbfc4c",
   "metadata": {
    "slideshow": {
     "slide_type": "subslide"
    }
   },
   "source": [
    "### Question 5: Elementary signals\n",
    "\n",
    "Match the elementary signal to its Laplace transform\n",
    "\n",
    "<table>\n",
    "<tr><td>1.</td><td>Dirac delta (unit impulse)</td><td>\n",
    "    \n",
    "$$\\delta(t)$$\n",
    "    \n",
    "</td><td>A.</td><td>\n",
    "    \n",
    "$$e^{-as}$$\n",
    "\n",
    "</td></tr>\n",
    "<tr><td>2.</td><td>Unit step</td><td>\n",
    "    \n",
    "$$u_0(t)$$\n",
    "    \n",
    "</td><td>B.</td><td>\n",
    "    \n",
    "$$\\frac{1-e^{-as}}{s}$$\n",
    "\n",
    "</td></tr>\n",
    "<tr><td>3.</td><td>Unit ramp</td><td>\n",
    "    \n",
    "$$u_1(t) = t u_0(t)$$\n",
    "    \n",
    "</td><td>C.</td><td>\n",
    "    \n",
    "$$\\frac{1}{s}$$\n",
    "    \n",
    "</td></tr>\n",
    "<tr><td>4.</td><td>Exponential decay</td><td>\n",
    "    \n",
    "$$e^{-at}u_0(t)$$\n",
    "    \n",
    "</td><td>D.</td><td>\n",
    "    \n",
    "$$1$$\n",
    "    \n",
    "</td></tr>\n",
    "<tr><td>5.</td><td>Damped sinusoid</td><td>\n",
    "    \n",
    "$$e^{-at}\\,\\sin(\\omega t)u_0(t)$$\n",
    "    \n",
    "</td><td>E.</td><td>\n",
    "    \n",
    "$$\\frac{1}{s^2}$$\n",
    "    \n",
    "</td></tr>\n",
    "<tr><td>6.</td><td>Sampling function</td><td>\n",
    "    \n",
    "$$\\delta(t-a)$$\n",
    "    \n",
    "</td><td>F.</td><td>\n",
    "    \n",
    "$$\\frac{1}{s+a}$$\n",
    "\n",
    "</td></tr>\n",
    "<tr><td>7.</td><td>Gating function</td><td>\n",
    "\n",
    "$$u_0(t)-u_0(t-a)$$\n",
    "    \n",
    "</td><td>G.</td><td>\n",
    "    \n",
    "$$\\frac{\\omega}{(s+a)^2+\\omega^2}$$\n",
    "    \n",
    "</td></tr>\n",
    "</table>"
   ]
  },
  {
   "cell_type": "markdown",
   "id": "f018af96",
   "metadata": {
    "slideshow": {
     "slide_type": "subslide"
    }
   },
   "source": [
    "### End of first hour quiz\n",
    "\n",
    "Is there anything in this quiz that you think we should go over in more detail in class?\n",
    "\n",
    "Add to the **💬❓Questions and Discussion on the Laplace Transformation and its Applications** board in Canvas after class."
   ]
  },
  {
   "cell_type": "markdown",
   "id": "97441cad",
   "metadata": {
    "slideshow": {
     "slide_type": "slide"
    }
   },
   "source": [
    "## Laplace transforms of common waveforms\n",
    "\n",
    "We will work through a few of the following on the board in class\n",
    "\n",
    "* Pulse\n",
    "* Linear segment\n",
    "* Triangular waveform\n",
    "* Rectangular periodic waveform (square wave)\n",
    "* Half rectified sine wave"
   ]
  },
  {
   "cell_type": "markdown",
   "id": "d79b1e06",
   "metadata": {
    "slideshow": {
     "slide_type": "subslide"
    }
   },
   "source": [
    "### Pulse\n",
    "\n",
    "Compute the Laplace transform of the pulse shown in the figure.\n",
    "\n",
    "![pulse](images/pulse.png)\n",
    "\n",
    "For full solution see [Example 2.4.1](https://ebookcentral.proquest.com/lib/swansea-ebooks/reader.action?docID=3384197&ppg=63) in Karris."
   ]
  },
  {
   "cell_type": "markdown",
   "id": "ce5d091e",
   "metadata": {
    "slideshow": {
     "slide_type": "notes"
    }
   },
   "source": [
    "<pre style=\"border: 2px solid blue\">\n",
    "\n",
    "\n",
    "\n",
    "\n",
    "\n",
    "\n",
    "\n",
    "\n",
    "\n",
    "\n",
    "\n",
    "\n",
    "\n",
    "\n",
    "\n",
    "\n",
    "\n",
    "\n",
    "\n",
    "\n",
    "\n",
    "\n",
    "</pre>"
   ]
  },
  {
   "cell_type": "markdown",
   "id": "aca79050",
   "metadata": {
    "slideshow": {
     "slide_type": "subslide"
    }
   },
   "source": [
    "### Line segment\n",
    "\n",
    "Compute the Laplace transform of the line segment shown below.\n",
    "\n",
    "![line](images/line.png)\n",
    "\n",
    "For full solution see [Example 2.4.2](https://ebookcentral.proquest.com/lib/swansea-ebooks/reader.action?docID=3384197&ppg=64) in Karris."
   ]
  },
  {
   "cell_type": "markdown",
   "id": "ff5246a1",
   "metadata": {
    "slideshow": {
     "slide_type": "notes"
    }
   },
   "source": [
    "<pre style=\"border: 2px solid blue\">\n",
    "\n",
    "\n",
    "\n",
    "\n",
    "\n",
    "\n",
    "\n",
    "\n",
    "\n",
    "\n",
    "\n",
    "\n",
    "\n",
    "\n",
    "\n",
    "\n",
    "\n",
    "\n",
    "\n",
    "\n",
    "\n",
    "\n",
    "</pre>"
   ]
  },
  {
   "cell_type": "markdown",
   "id": "f20826a7",
   "metadata": {
    "slideshow": {
     "slide_type": "subslide"
    }
   },
   "source": [
    "### Triangular Pulse\n",
    "\n",
    "Compute the Laplace transform of the triangular pulse shown below\n",
    "\n",
    "![triangle](images/triangle.png)\n",
    "\n",
    "For full solution see [Examples in 2.4.3](https://ebookcentral.proquest.com/lib/swansea-ebooks/reader.action?docID=3384197&ppg=65) in Karris."
   ]
  },
  {
   "cell_type": "markdown",
   "id": "b8b818aa",
   "metadata": {
    "slideshow": {
     "slide_type": "notes"
    }
   },
   "source": [
    "<pre style=\"border: 2px solid blue\">\n",
    "\n",
    "\n",
    "\n",
    "\n",
    "\n",
    "\n",
    "\n",
    "\n",
    "\n",
    "\n",
    "\n",
    "\n",
    "\n",
    "\n",
    "\n",
    "\n",
    "\n",
    "\n",
    "\n",
    "\n",
    "\n",
    "\n",
    "</pre>"
   ]
  },
  {
   "cell_type": "markdown",
   "id": "fb69a54c",
   "metadata": {
    "slideshow": {
     "slide_type": "subslide"
    }
   },
   "source": [
    "### Square Wave\n",
    "\n",
    "Compute the Laplace transform of the periodic function shown below.\n",
    "\n",
    "![square wave](images/sqare.png)\n",
    "\n",
    "For full solution see [Example 2.4.4](https://ebookcentral.proquest.com/lib/swansea-ebooks/reader.action?docID=3384197&ppg=66) in Karris."
   ]
  },
  {
   "cell_type": "markdown",
   "id": "4b074aeb",
   "metadata": {
    "slideshow": {
     "slide_type": "notes"
    }
   },
   "source": [
    "<pre style=\"border: 2px solid blue\">\n",
    "\n",
    "\n",
    "\n",
    "\n",
    "\n",
    "\n",
    "\n",
    "\n",
    "\n",
    "\n",
    "\n",
    "\n",
    "\n",
    "\n",
    "\n",
    "\n",
    "\n",
    "\n",
    "\n",
    "\n",
    "\n",
    "\n",
    "</pre>"
   ]
  },
  {
   "cell_type": "markdown",
   "id": "6d487910",
   "metadata": {
    "slideshow": {
     "slide_type": "subslide"
    }
   },
   "source": [
    "### Half-rectified Sinewave\n",
    "\n",
    "Compute the Laplace Transform of the half-rectified sine wave shown below.\n",
    "\n",
    "![half-rectified sinewave](images/rectsine.png)\n",
    "\n",
    "For full solution see [Example 2.4.5](https://ebookcentral.proquest.com/lib/swansea-ebooks/reader.action?docID=3384197&ppg=67) in Karris."
   ]
  },
  {
   "cell_type": "markdown",
   "id": "f0b0c836",
   "metadata": {
    "slideshow": {
     "slide_type": "notes"
    }
   },
   "source": [
    "<pre style=\"border: 2px solid blue\">\n",
    "\n",
    "\n",
    "\n",
    "\n",
    "\n",
    "\n",
    "\n",
    "\n",
    "\n",
    "\n",
    "\n",
    "\n",
    "\n",
    "\n",
    "\n",
    "\n",
    "\n",
    "\n",
    "\n",
    "\n",
    "\n",
    "\n",
    "</pre>"
   ]
  },
  {
   "cell_type": "markdown",
   "id": "0e439543",
   "metadata": {
    "slideshow": {
     "slide_type": "slide"
    }
   },
   "source": [
    "## Homework\n",
    "\n",
    "Attempt at least one of the end-of-chapter exercises from each question 1-7 of [Section 2.7](https://ebookcentral.proquest.com/lib/swansea-ebooks/reader.action?docID=3384197&ppg=75#ppg=71) of {cite}`karris`. Don't look at the answers until you have attempted the problems.\n",
    "\n",
    "If we have time, I will work through one or two of these in class."
   ]
  },
  {
   "cell_type": "markdown",
   "id": "ea401449",
   "metadata": {
    "slideshow": {
     "slide_type": "notes"
    }
   },
   "source": [
    "## References\n",
    "\n",
    "See [Bibliography](/zbib)."
   ]
  },
  {
   "cell_type": "markdown",
   "id": "965f1c58",
   "metadata": {
    "slideshow": {
     "slide_type": "notes"
    }
   },
   "source": [
    "## Answers to in-class problems\n",
    "\n",
    "1. $$Au_0(t)-Au_0(t-a)\\Leftrightarrow \\frac{A\\left(1-e^{-as}\\right)}{s}.$$\n",
    "\n",
    "2. $$(t-1)u_0(t-1)\\Leftrightarrow \\frac{e^{-s}}{s}.$$\n",
    "\n",
    "3. $$f_T(t)\\Leftrightarrow \\frac{\\left(1-e^{-s}\\right)^2}{s^2}.$$\n",
    "\n",
    "4. $$f_R(t)\\Leftrightarrow \\frac{A\\tanh \\left(\\frac{As}{2}\\right)}{s}.$$\n",
    "\n",
    "5. $$f_{HW}(t) \\Leftrightarrow \\frac{1}{\\left(s^2 + 1\\right)\\left(1-e^{\\pi s}\\right)}.$$"
   ]
  }
 ],
 "metadata": {
  "jupytext": {
   "formats": "md:myst,ipynb",
   "text_representation": {
    "extension": ".md",
    "format_name": "myst",
    "format_version": 0.13,
    "jupytext_version": "1.11.5"
   }
  },
  "kernelspec": {
   "display_name": "MATLAB",
   "language": "matlab",
   "name": "imatlab"
  },
  "source_map": [
   15,
   21,
   33,
   37,
   41,
   47,
   70,
   74,
   128,
   157,
   175,
   247,
   255,
   267,
   277,
   304,
   314,
   341,
   351,
   378,
   388,
   415,
   425,
   452,
   460,
   466
  ]
 },
 "nbformat": 4,
 "nbformat_minor": 5
}