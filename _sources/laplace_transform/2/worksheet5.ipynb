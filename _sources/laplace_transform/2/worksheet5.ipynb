{
 "cells": [
  {
   "cell_type": "markdown",
   "id": "30153b74",
   "metadata": {
    "slideshow": {
     "slide_type": "slide"
    }
   },
   "source": [
    "# Worksheet 5\n",
    "\n",
    "## To accompany Chapter 3.2 Inverse Laplace Transform"
   ]
  },
  {
   "cell_type": "markdown",
   "id": "4aeea8ad",
   "metadata": {
    "slideshow": {
     "slide_type": "notes"
    }
   },
   "source": [
    "This worksheet can be downloaded as a [PDF file](https://cpjobling.github.io/eg-247-textbook/worksheets/worksheet5.pdf). We will step through this worksheet in class. \n",
    "\n",
    "An annotatable copy of the notes for this presentation will be distributed before the second class meeting as **Worksheet 5** in the **Week 2: Classroom Activities** section of the Canvas site. I will also distribute a copy to your personal **Worksheets** section of the **OneNote Class Notebook** so that you can add your own notes using OneNote. \n",
    "\n",
    "You are expected to have at least watched the video presentation of [Chapter 3.2](https://cpjobling.github.io/eg-247-textbook/laplace_transform/2/inverse_laplace) of the [notes](https://cpjobling.github.io/eg-247-textbook) before coming to class. If you haven't watch it afterwards!\n",
    "\n",
    "After class, the lecture recording and the annotated version of this worksheet will be made available through Canvas."
   ]
  },
  {
   "cell_type": "code",
   "execution_count": null,
   "id": "9b0786cf",
   "metadata": {
    "slideshow": {
     "slide_type": "skip"
    }
   },
   "outputs": [],
   "source": [
    "clear all\n",
    "format compact\n",
    "imatlab_export_fig('print-svg')  % Static svg figures."
   ]
  },
  {
   "cell_type": "markdown",
   "id": "93416246",
   "metadata": {
    "slideshow": {
     "slide_type": "slide"
    }
   },
   "source": [
    "## Quiz"
   ]
  },
  {
   "cell_type": "markdown",
   "id": "f4a8e8a1",
   "metadata": {
    "slideshow": {
     "slide_type": "subslide"
    }
   },
   "source": [
    "### Question 2: Inverse Laplace transforms\n",
    "\n",
    "Inverse laplace transform the following\n",
    "\n",
    "\n",
    "<table>\n",
    "<tr><td>1.</td><td>\n",
    "    \n",
    "$$1$$\n",
    "    \n",
    "</td><td>A.</td><td>\n",
    "    \n",
    "$$e^{-at}$$\n",
    "    \n",
    "</td></tr>\n",
    "<tr><td>2.</td><td>\n",
    "    \n",
    "$$\\frac{1}{s}$$\n",
    "    \n",
    "</td><td>B.</td><td>\n",
    "    \n",
    "$$\\delta'(t)$$\n",
    "    \n",
    "</td></tr>\n",
    "<tr><td>3.</td><td>\n",
    "\n",
    "$$\\frac{1}{s+a}$$\n",
    "    \n",
    "</td><td>C.</td><td>\n",
    "    \n",
    "$$u_0(t)$$\n",
    "    \n",
    "</td></tr>\n",
    "<tr><td>4.</td><td>\n",
    "    \n",
    "$$\\frac{\\omega}{(s + a)^2 + \\omega^2}$$\n",
    "    \n",
    "</td><td>D.</td><td>\n",
    "    \n",
    "$$e^{-at}\\cos\\omega t$$\n",
    "    \n",
    "</td></tr>\n",
    "<tr><td>5.</td><td>\n",
    "    \n",
    "$$\\frac{s+a}{(s + a)^2 + \\omega^2}$$\n",
    "    \n",
    "</td><td>E.</td><td>\n",
    "    \n",
    "$$e^{-at}\\sin\\omega t$$\n",
    "    \n",
    "</td></tr>\n",
    "<tr><td>6.</td><td>\n",
    "    \n",
    "$$s$$\n",
    "    \n",
    "</td><td>F.</td><td>\n",
    "    \n",
    "$$\\delta(t)$$\n",
    "    \n",
    "</td></tr>\n",
    "</table>"
   ]
  },
  {
   "cell_type": "markdown",
   "id": "f543f170",
   "metadata": {
    "slideshow": {
     "slide_type": "subslide"
    }
   },
   "source": [
    "### Question 3: Fill in the blanks\n",
    "\n",
    "Complete this sentence:\n",
    "The [----] of a rational polynomial are the zeros of the numerator. The [----] of a rational polynomial are the zeros of the [-----]."
   ]
  },
  {
   "cell_type": "markdown",
   "id": "4930edf6",
   "metadata": {
    "slideshow": {
     "slide_type": "subslide"
    }
   },
   "source": [
    "### Question 4: Knowledge check\n",
    "\n",
    "Is there anything in this quiz that you think we should go over in more detail in class?\n",
    "\n",
    "Write your answers in the chat or add to the **💬❓Questions and Discussion on the Laplace Transformation and its Applications** board in Canvas after class."
   ]
  },
  {
   "cell_type": "markdown",
   "id": "2b6880df",
   "metadata": {
    "slideshow": {
     "slide_type": "slide"
    }
   },
   "source": [
    "## The case of the distinct poles"
   ]
  },
  {
   "cell_type": "markdown",
   "id": "d201d927",
   "metadata": {
    "slideshow": {
     "slide_type": "subslide"
    }
   },
   "source": [
    "### Example 1\n",
    "\n",
    "Use the PFE method to simplify $F_1(s)$ below and find the time domain function $f_1(t)$ corresponding to $F_1(s)$\n",
    "\n",
    "$$F_1(s) = \\frac{2s+5}{s^2 + 5s + 6}$$\n",
    "\n",
    "Quick solution: [Wolfram Alpha](https://www.wolframalpha.com/input/?i=inverse+laplace+transform+%7B(2s+%2B+5)%2F(s%5E2+%2B+5s+%2B+6)%7D)"
   ]
  },
  {
   "cell_type": "markdown",
   "id": "edf5f9f3",
   "metadata": {
    "slideshow": {
     "slide_type": "notes"
    }
   },
   "source": [
    "<pre style=\"border: 2px solid blue\">\n",
    "\n",
    "\n",
    "\n",
    "\n",
    "\n",
    "\n",
    "\n",
    "\n",
    "\n",
    "\n",
    "\n",
    "\n",
    "\n",
    "\n",
    "\n",
    "\n",
    "\n",
    "\n",
    "</pre>"
   ]
  },
  {
   "cell_type": "markdown",
   "id": "144504c8",
   "metadata": {
    "slideshow": {
     "slide_type": "subslide"
    }
   },
   "source": [
    "#### Matlab Solution - Numerical"
   ]
  },
  {
   "cell_type": "code",
   "execution_count": null,
   "id": "36b147da",
   "metadata": {
    "slideshow": {
     "slide_type": "subslide"
    },
    "tags": [
     "remove-output"
    ]
   },
   "outputs": [],
   "source": [
    "format compact"
   ]
  },
  {
   "cell_type": "code",
   "execution_count": null,
   "id": "702fa7a2",
   "metadata": {
    "slideshow": {
     "slide_type": "subslide"
    },
    "tags": [
     "remove-output"
    ]
   },
   "outputs": [],
   "source": [
    "Ns = [2, 5]; Ds = [1, 5, 6];\n",
    "[r,p,k] = residue(Ns, Ds)"
   ]
  },
  {
   "cell_type": "markdown",
   "id": "926f78c9",
   "metadata": {
    "slideshow": {
     "slide_type": "subslide"
    }
   },
   "source": [
    "Interpreted as:\n",
    "\n",
    "$$F_1(s) = \\frac{1}{s + 3} + \\frac{1}{s + 2}$$\n",
    "\n",
    "which because of the linearity property of the Laplace Transform and using tables results in the *Inverse Laplace Transform*\n",
    "\n",
    "$$f_1(t) = e^{-3t} + e^{-2t}$$"
   ]
  },
  {
   "cell_type": "markdown",
   "id": "7a1eff20",
   "metadata": {
    "slideshow": {
     "slide_type": "subslide"
    }
   },
   "source": [
    "#### Matlab solution - symbolic"
   ]
  },
  {
   "cell_type": "code",
   "execution_count": null,
   "id": "0b0ce4be",
   "metadata": {
    "slideshow": {
     "slide_type": "fragment"
    },
    "tags": [
     "remove-output"
    ]
   },
   "outputs": [],
   "source": [
    "syms s t;\n",
    "Fs = (2*s + 5)/(s^2 + 5*s + 6);\n",
    "ft = ilaplace(Fs);\n",
    "pretty(ft)"
   ]
  },
  {
   "cell_type": "markdown",
   "id": "6a9971d0",
   "metadata": {
    "slideshow": {
     "slide_type": "slide"
    }
   },
   "source": [
    "### Example 2\n",
    "\n",
    "Determine the Inverse Laplace Transform of\n",
    "\n",
    "$$F_2(s) = \\frac{3s^2+2s+5}{s^3 + 9s^2 + 23s + 15}$$\n",
    "\n",
    "Quick solution: [Wolfram Alpha](https://www.wolframalpha.com/input/?i=inverse+laplace+transform+%283s%5E2+%2B+2s+%2B+5%29%2F%28s%5E3+%2B+9s%5E2+%2B+23s+%2B+15%29)"
   ]
  },
  {
   "cell_type": "markdown",
   "id": "deb0906e",
   "metadata": {
    "slideshow": {
     "slide_type": "subslide"
    }
   },
   "source": [
    "#### Solution 2"
   ]
  },
  {
   "cell_type": "markdown",
   "id": "c5663791",
   "metadata": {
    "slideshow": {
     "slide_type": "fragment"
    }
   },
   "source": [
    "Because the denominator of $F_2(s)$ is a cubic, it will be difficult to factorise without computer assistance so we use MATLAB to factorise $D(s)$"
   ]
  },
  {
   "cell_type": "code",
   "execution_count": null,
   "id": "0a851749",
   "metadata": {
    "slideshow": {
     "slide_type": "subslide"
    },
    "tags": [
     "remove-output"
    ]
   },
   "outputs": [],
   "source": [
    "syms s;\n",
    "factor(s^3 + 9*s^2 + 23*s + 15)"
   ]
  },
  {
   "cell_type": "markdown",
   "id": "94adf46b",
   "metadata": {
    "slideshow": {
     "slide_type": "notes"
    }
   },
   "source": [
    "In an exam you'd be given the factors"
   ]
  },
  {
   "cell_type": "markdown",
   "id": "5b3cad84",
   "metadata": {
    "slideshow": {
     "slide_type": "notes"
    }
   },
   "source": [
    "<pre style=\"border: 2px solid blue\">\n",
    "\n",
    "\n",
    "\n",
    "\n",
    "\n",
    "\n",
    "\n",
    "\n",
    "\n",
    "\n",
    "\n",
    "\n",
    "\n",
    "\n",
    "\n",
    "\n",
    "\n",
    "\n",
    "</pre>"
   ]
  },
  {
   "cell_type": "markdown",
   "id": "4d838ff6",
   "metadata": {
    "slideshow": {
     "slide_type": "subslide"
    }
   },
   "source": [
    "We can now use the previous technique to find the solution which according to Matlab should be\n",
    "\n",
    "$$f_1(t) = \\frac{3}{4}e^{-t} - \\frac{13}{2}e^{-3t} + \\frac{35}{4}e^{-5t}$$"
   ]
  },
  {
   "cell_type": "markdown",
   "id": "a47b9bce",
   "metadata": {
    "slideshow": {
     "slide_type": "slide"
    }
   },
   "source": [
    "## The case of the complex poles\n",
    "\n",
    "Quite often the poles of $F(s)$ are complex and because the complex poles occur as complex conjugate pairs, the number of complex poles is even. Thus if $p_k$ is a complex root of $D(s)$ then its complex conjugate $p_k^*$ is also a root of $D(s)$."
   ]
  },
  {
   "cell_type": "markdown",
   "id": "12872463",
   "metadata": {
    "slideshow": {
     "slide_type": "subslide"
    }
   },
   "source": [
    "You can still use the PFE with complex poles, as demonstrated in Pages 3-5&mdash;3-7 in the textbook. However it is easier to use the fact that complex poles will appear as quadratic factors of the form $s^2 + as + b$ and then call on the two transforms in the PFE\n",
    "\n",
    "\n",
    "$$\\frac{\\omega}{(s - a)^2 + \\omega^2} \\Leftrightarrow e^{at}\\sin\\;\\omega t$$\n",
    "\n",
    "$$\\frac{s + a}{(s - a)^2 + \\omega^2} \\Leftrightarrow e^{at}\\cos\\;\\omega t$$"
   ]
  },
  {
   "cell_type": "markdown",
   "id": "5f59401b",
   "metadata": {
    "slideshow": {
     "slide_type": "slide"
    }
   },
   "source": [
    "### Example 3\n",
    "\n",
    "Rework Example 3-2 from the text book using quadratic factors.\n",
    "\n",
    "Find the Inverse Laplace Transform of \n",
    "\n",
    "$$F_3(s) = \\frac{s + 3}{(s+1)(s^2 + 4s + 8)}$$\n",
    "\n",
    "Quick solution: [Wolfram Alpha](https://www.wolframalpha.com/input/?i=inverse+laplace+transform+%28s%2B3%29%2F%28%28s+%2B+1%29%28s%5E2+%2B+4s+%2B+8%29%29) &ndash; Shows that the computer is not always best!"
   ]
  },
  {
   "cell_type": "markdown",
   "id": "d505e357",
   "metadata": {
    "slideshow": {
     "slide_type": "subslide"
    }
   },
   "source": [
    "1. We complete the square in the denominator \n",
    "\n",
    "2. Then compare with the desired form $(s - a)^2 + \\omega^2$\n",
    "\n",
    "3. Solve this by finding the PFE for the assumed solution: $$F_3(s) = \\frac{r_1}{s+1} + \\frac{r_2(s - a)}{(s - a)^2 + \\omega^2} + \\frac{a r_3}{(s - a)^2 + \\omega^2}.  $$ expecting the solution $$f_3(t) = r_1 e^{-t} - r_2 e^{-at}\\cos \\omega t + r_3 e^{-at}\\sin \\omega t.$$\n",
    "\n",
    "You can use trig. identities to simplify this further if you wish."
   ]
  },
  {
   "cell_type": "markdown",
   "id": "2f9ce1bc",
   "metadata": {
    "slideshow": {
     "slide_type": "subslide"
    }
   },
   "source": [
    "#### Solution 3"
   ]
  },
  {
   "cell_type": "markdown",
   "id": "0a0aab3c",
   "metadata": {
    "slideshow": {
     "slide_type": "notes"
    }
   },
   "source": [
    "<pre style=\"border: 2px solid blue\">\n",
    "\n",
    "\n",
    "\n",
    "\n",
    "\n",
    "\n",
    "\n",
    "\n",
    "\n",
    "\n",
    "\n",
    "\n",
    "\n",
    "\n",
    "\n",
    "\n",
    "\n",
    "\n",
    "</pre>"
   ]
  },
  {
   "cell_type": "markdown",
   "id": "f22494df",
   "metadata": {
    "slideshow": {
     "slide_type": "slide"
    }
   },
   "source": [
    "## The case of the repeated poles\n",
    "\n",
    "When a rational polynomial has repeated poles \n",
    "\n",
    "$$F(s) = \\frac{N(s)}{(s - p_1)^m(s - p_2)\\cdots(s - p_{n-1})(s-p_0)}$$\n",
    "\n",
    "and the PFE will have the form:\n",
    "\n",
    "$$\n",
    "    \\begin{array}{c}\n",
    "F(s) = \\frac{r_{11}}{(s - {p_1})^m} + \\frac{r_{12}}{(s - {p_1})^{m - 1}} + \\frac{r_{13}}{(s - {p_1})^{m - 2}} +  \\cdots  + \\frac{r_{1}}{(s - {p_1})}\\\\\n",
    " + \\frac{r_2}{(s - {p_2})} + \\frac{r_3}{(s - {p_3})} +  \\cdots  + \\frac{r_n}{(s - {p_n})}\n",
    "\\end{array}\n",
    "$$"
   ]
  },
  {
   "cell_type": "markdown",
   "id": "45663a3e",
   "metadata": {
    "slideshow": {
     "slide_type": "subslide"
    }
   },
   "source": [
    "The ordinary residues $r_k$ can be found using the rule used for distinct roots.\n",
    "\n",
    "To find the residuals for the repeated term $r_{1k}$ we need to multiply both sides of the expression by $(s+p_1)^m$ and take repeated derivatives as described in detail in Pages 3-7&mdash;3-9 of the text book. This yields the general formula\n",
    "\n",
    "$$r_{1k}=\\lim_{s\\to p_1}\\frac{1}{(k-1)!}\\frac{d^{k-1}}{ds^{k-1}}\\left[(s-p_1)^mF(s)\\right]$$\n",
    "\n",
    "which in the age of computers is rarely needed."
   ]
  },
  {
   "cell_type": "markdown",
   "id": "06b16d7f",
   "metadata": {
    "slideshow": {
     "slide_type": "subslide"
    }
   },
   "source": [
    "### Example 4\n",
    "\n",
    "Find the inverse Laplace Transform of \n",
    "\n",
    "$$F_4(s) = \\frac{s+3}{(s+2)(s+1)^2}$$\n",
    "\n",
    "Note that the transform\n",
    "\n",
    "$$te^{at} \\Leftrightarrow \\frac{1}{(s - a)^2}$$\n",
    "\n",
    "and the derivative of a quotient rule\n",
    "\n",
    "$$\\frac{d}{ds}\\left(\\frac{N(s)}{D(s)}\\right) = \\frac{D(s)\\frac{dN(s)}{ds} - N(s)\\frac{dD(s)}{ds}}{D(s)^2}$$\n",
    "\n",
    "will be useful.\n",
    "\n",
    "Quick solution: [Wolfram Alpha](https://www.wolframalpha.com/input/?i=inverse+laplace+transform+%28s%2B3%29%2F%28%28s%2B2%29%28s+%2B+1%29%5E2%29)"
   ]
  },
  {
   "cell_type": "markdown",
   "id": "c43fd10a",
   "metadata": {
    "slideshow": {
     "slide_type": "subslide"
    }
   },
   "source": [
    "#### Solution 4\n",
    "\n",
    "We will leave the solution that makes use of the residude of repeated poles formula for you to study from the text book. In class we will illustrate the slightly simpler approach also presented in the text. \n",
    "\n",
    "For exam preparation, I would recommend that you use whatever method you find most comfortable."
   ]
  },
  {
   "cell_type": "markdown",
   "id": "c4d27e5d",
   "metadata": {
    "slideshow": {
     "slide_type": "notes"
    }
   },
   "source": [
    "<pre style=\"border: 2px solid blue\">\n",
    "\n",
    "\n",
    "\n",
    "\n",
    "\n",
    "\n",
    "\n",
    "\n",
    "\n",
    "\n",
    "\n",
    "\n",
    "\n",
    "\n",
    "\n",
    "\n",
    "\n",
    "\n",
    "</pre>"
   ]
  },
  {
   "cell_type": "markdown",
   "id": "0e889508",
   "metadata": {
    "slideshow": {
     "slide_type": "slide"
    }
   },
   "source": [
    "## The case of the improper rational polynomial\n",
    "\n",
    "If $F(s)$ is an improper rational polynomial, that is $m \\ge n$, we must first divide the numerator $N(s)$ by the denomonator $D(s)$ to derive an expression of the form\n",
    "\n",
    "$$F(s) = k_0 + k_1s + k_2s^2 + \\cdots + k_{m-n}s^{m-n} + \\frac{N(s)}{D(s)}$$\n",
    "\n",
    "and then $N(s)/D(s)$ will be a proper rational polynomial."
   ]
  },
  {
   "cell_type": "markdown",
   "id": "9955d7fc",
   "metadata": {
    "slideshow": {
     "slide_type": "subslide"
    }
   },
   "source": [
    "### Example 5\n",
    "\n",
    "$$\n",
    "    F_6(s)= \\frac{s^2 + 2s + 2}{s+1}\n",
    "$$\n",
    "\n",
    "Quick solution: [Wolfram Alpha](https://www.wolframalpha.com/input/?i=inverse+laplace+transform+%28s%5E2+%2B+2s+%2B+2%29%2F%28s+%2B+1%29)"
   ]
  },
  {
   "cell_type": "markdown",
   "id": "92de0ab8",
   "metadata": {
    "slideshow": {
     "slide_type": "subslide"
    }
   },
   "source": [
    "Dividing $s^2 + 2s + 2$ by $s + 1$ gives\n",
    "\n",
    "$$F_6(s) = s + 1 + \\frac{1}{s+1}$$"
   ]
  },
  {
   "cell_type": "markdown",
   "id": "f0009014",
   "metadata": {
    "slideshow": {
     "slide_type": "subslide"
    }
   },
   "source": [
    "$$f_6(t) = e^{-t}+\\delta(t)+\\delta'(t)$$\n",
    "\n",
    "See [notes for proof](inverse_laplace)."
   ]
  },
  {
   "cell_type": "markdown",
   "id": "5a071270",
   "metadata": {
    "slideshow": {
     "slide_type": "subslide"
    }
   },
   "source": [
    "#### Matlab verification for solition 5"
   ]
  },
  {
   "cell_type": "code",
   "execution_count": null,
   "id": "64490aec",
   "metadata": {
    "slideshow": {
     "slide_type": "subslide"
    },
    "tags": [
     "remove-output"
    ]
   },
   "outputs": [],
   "source": [
    "Ns = [1, 2, 2]; Ds = [1 1];\n",
    "[r, p, k] = residue(Ns, Ds)"
   ]
  },
  {
   "cell_type": "code",
   "execution_count": null,
   "id": "aa5342d6",
   "metadata": {
    "slideshow": {
     "slide_type": "subslide"
    },
    "tags": [
     "remove-output"
    ]
   },
   "outputs": [],
   "source": [
    "syms s;\n",
    "F6 = (s^2 + 2*s + 2)/(s + 1);\n",
    "f6 = ilaplace(F6)"
   ]
  },
  {
   "cell_type": "markdown",
   "id": "09e294ad",
   "metadata": {
    "slideshow": {
     "slide_type": "slide"
    }
   },
   "source": [
    "## Matlab Solutions\n",
    "\n",
    "For convenience, single script MATLAB solutions to the examples are provided and can be downloaded from the accompanying [MATLAB](https://github.com/cpjobling/eg-247-textbook/tree/master/laplace_transform/matlab) folder.\n",
    "\n",
    "* Example 1 - Real poles [[ex3_1.m](https://cpjobling.github.io/eg-247-textbook/laplace_transform/matlab/ex3_1.m)]\n",
    "* Example 2 - Real poles cubic denominator [[ex3_2.m](https://cpjobling.github.io/eg-247-textbook/laplace_transform/matlab/ex3_2.m)]\n",
    "* Example 3 - Complex poles [[ex3_3.m](https://cpjobling.github.io/eg-247-textbook/laplace_transform/matlab/ex3_3.m)]\n",
    "* Example 4 - Repeated real poles [[ex3_4.m](https://cpjobling.github.io/eg-247-textbook/laplace_transform/matlab/ex3_4.m)]\n",
    "* Example 5 - Non proper rational polynomial [[ex3_5.m](https://cpjobling.github.io/eg-247-textbook/laplace_transform/matlab/ex3_5.m)]"
   ]
  },
  {
   "cell_type": "code",
   "execution_count": null,
   "id": "c4bf1960",
   "metadata": {
    "slideshow": {
     "slide_type": "subslide"
    },
    "tags": [
     "remove-output"
    ]
   },
   "outputs": [],
   "source": [
    "cd ../matlab\n",
    "ls\n",
    "open ex3_1\n",
    "ex3_1"
   ]
  }
 ],
 "metadata": {
  "jupytext": {
   "formats": "ipynb,md:myst",
   "text_representation": {
    "extension": ".md",
    "format_name": "myst",
    "format_version": 0.13,
    "jupytext_version": "1.11.5"
   }
  },
  "kernelspec": {
   "display_name": "MATLAB",
   "language": "matlab",
   "name": "imatlab"
  },
  "source_map": [
   15,
   21,
   31,
   41,
   45,
   109,
   116,
   124,
   128,
   138,
   161,
   165,
   174,
   184,
   194,
   198,
   210,
   220,
   224,
   228,
   238,
   242,
   265,
   271,
   277,
   286,
   298,
   308,
   312,
   335,
   352,
   362,
   382,
   390,
   413,
   423,
   433,
   439,
   445,
   449,
   459,
   470,
   482
  ]
 },
 "nbformat": 4,
 "nbformat_minor": 5
}