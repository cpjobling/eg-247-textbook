{
 "cells": [
  {
   "cell_type": "markdown",
   "id": "b88970d9",
   "metadata": {
    "slideshow": {
     "slide_type": "slide"
    }
   },
   "source": [
    "# Worksheet 6\n",
    "\n",
    "## To accompany Chapter 3.3 Using Laplace Transforms for Circuit Analysis"
   ]
  },
  {
   "cell_type": "markdown",
   "id": "61607efd",
   "metadata": {
    "slideshow": {
     "slide_type": "notes"
    }
   },
   "source": [
    "## Colophon\n",
    "\n",
    "This worksheet can be downloaded as a [PDF file](https://cpjobling.github.io/eg-247-textbook/worksheets/worksheet6.pdf). We will step through this worksheet in class. \n",
    "\n",
    "An annotatable copy of the notes for this presentation will be distributed before the third class meeting as **Worksheet 6** in the **Week 3: Classroom Activities** section of the Canvas site. I will also distribute a copy to your personal **Worksheets** section of the **OneNote Class Notebook** so that you can add your own notes using OneNote. \n",
    "\n",
    "You are expected to have at least watched the video presentation of [Chapter 3.3](https://cpjobling.github.io/eg-247-textbook/laplace_transform/3/circuit_analysis) of the [notes](https://cpjobling.github.io/eg-247-textbook/) before coming to class. If you haven't watch it afterwards!\n",
    "\n",
    "After class, the lecture recording and the annotated version of this worksheet will be made available through Canvas."
   ]
  },
  {
   "cell_type": "code",
   "execution_count": null,
   "id": "eb4302b8",
   "metadata": {
    "slideshow": {
     "slide_type": "skip"
    },
    "tags": [
     "remove-output"
    ]
   },
   "outputs": [],
   "source": [
    "% Matlab setup\n",
    "clear all\n",
    "format compact"
   ]
  },
  {
   "cell_type": "markdown",
   "id": "2661fef7",
   "metadata": {
    "slideshow": {
     "slide_type": "slide"
    }
   },
   "source": [
    "## Circuit Transformation from Time to Complex Frequency"
   ]
  },
  {
   "cell_type": "markdown",
   "id": "a8e6aa59",
   "metadata": {
    "slideshow": {
     "slide_type": "subslide"
    }
   },
   "source": [
    "### Time Domain Model of a Resistive Network\n",
    "\n",
    "![Resistive Network: Time Domain](pictures/resistive_time.png)"
   ]
  },
  {
   "cell_type": "markdown",
   "id": "c6593fea",
   "metadata": {
    "slideshow": {
     "slide_type": "subslide"
    }
   },
   "source": [
    "For the circuit shown, which of the following equations represent the Laplace transform of the current flowing through, and the voltage across, the resistor $R$?"
   ]
  },
  {
   "cell_type": "markdown",
   "id": "73cf8b66",
   "metadata": {
    "slideshow": {
     "slide_type": "fragment"
    }
   },
   "source": [
    "$$V_R(s) = RI_R(s)$$\n",
    "\n",
    "$$I_R(s) + \\frac{V_R(s)}{R}$$\n",
    "\n",
    "$$V_R(s) = \\frac{I_R(s)}{R}$$\n",
    "\n",
    "$$I_R(s) = RV_R(s)$$"
   ]
  },
  {
   "cell_type": "markdown",
   "id": "8c5f09e9",
   "metadata": {
    "slideshow": {
     "slide_type": "fragment"
    }
   },
   "source": [
    "**-> Open poll**"
   ]
  },
  {
   "cell_type": "markdown",
   "id": "93a95020",
   "metadata": {
    "slideshow": {
     "slide_type": "subslide"
    }
   },
   "source": [
    "###  Time Domain Model of an Inductive Network\n",
    "\n",
    "![Inductive Network - Time Domain](pictures/inductive_time.png)"
   ]
  },
  {
   "cell_type": "markdown",
   "id": "92091ed9",
   "metadata": {
    "slideshow": {
     "slide_type": "subslide"
    }
   },
   "source": [
    "For the circuit shown, which of the following equations represent the Laplace transform of the current flowing through, and the voltage across, the inductor $L$?"
   ]
  },
  {
   "cell_type": "markdown",
   "id": "62fcb6fb",
   "metadata": {
    "slideshow": {
     "slide_type": "fragment"
    }
   },
   "source": [
    "$$I_L(s)=sLV_L(s) - Lv_L(0^-)$$\n",
    "\n",
    "$$I_L(s)=\\frac{V_L(s)}{sL} + \\frac{v_L(0^-)}{s}$$\n",
    "\n",
    "$$V_L(s) = sLI_L(s) - Li_L(0^-)$$\n",
    "\n",
    "$$V_L(s)=\\frac{I_L(s)}{sL} + \\frac{i_L(0^-)}{s}$$"
   ]
  },
  {
   "cell_type": "markdown",
   "id": "81f7f6b6",
   "metadata": {
    "slideshow": {
     "slide_type": "fragment"
    }
   },
   "source": [
    "**-> Open poll**"
   ]
  },
  {
   "cell_type": "markdown",
   "id": "015a7a75",
   "metadata": {
    "slideshow": {
     "slide_type": "subslide"
    }
   },
   "source": [
    "### Time Domain Model of a Capacitive Network\n",
    "\n",
    "![Capacitive Network - Time Domain](pictures/capacitive_time.png)"
   ]
  },
  {
   "cell_type": "markdown",
   "id": "132cacac",
   "metadata": {
    "slideshow": {
     "slide_type": "subslide"
    }
   },
   "source": [
    "For the circuit shown, which of the following equations represent the Laplace transform of the current flowing through, and the voltage across, the capacitor $C$?"
   ]
  },
  {
   "cell_type": "markdown",
   "id": "98f380ce",
   "metadata": {
    "slideshow": {
     "slide_type": "fragment"
    }
   },
   "source": [
    "$$V_c(s)=sCI_C(s) - Ci_C(0^-)$$\n",
    "\n",
    "$$I_c(s) = sCV_C(s) - Cv_C(0^-)$$\n",
    "\n",
    "$$V_c(s) = \\frac{I_C(s)}{sC} + \\frac{i_C(0^-)}{s}$$\n",
    "\n",
    "$$I_c(s)=\\frac{V_C(s)}{sC} + \\frac{v_C(0^-)}{s}$$"
   ]
  },
  {
   "cell_type": "markdown",
   "id": "bb501bad",
   "metadata": {
    "slideshow": {
     "slide_type": "fragment"
    }
   },
   "source": [
    "**-> Open poll**"
   ]
  },
  {
   "cell_type": "markdown",
   "id": "bbea99f1",
   "metadata": {
    "slideshow": {
     "slide_type": "slide"
    }
   },
   "source": [
    "## Examples"
   ]
  },
  {
   "cell_type": "markdown",
   "id": "c998fc6d",
   "metadata": {
    "slideshow": {
     "slide_type": "subslide"
    }
   },
   "source": [
    "### Example 1\n",
    "\n",
    "Use the Laplace transform method and apply Kirchoff's Current Law (KCL) to find the voltage $v_c(t)$ across the capacitor for the circuit below given that $v_c(0^-) = 6$ V.\n",
    "\n",
    "![Circuit for Example 1](pictures/example1_2.png)"
   ]
  },
  {
   "cell_type": "markdown",
   "id": "173174e3",
   "metadata": {
    "slideshow": {
     "slide_type": "skip"
    }
   },
   "source": [
    "<pre style=\"border: 2px solid blue\">\n",
    "\n",
    "\n",
    "\n",
    "\n",
    "\n",
    "\n",
    "\n",
    "\n",
    "\n",
    "\n",
    "\n",
    "\n",
    "\n",
    "\n",
    "\n",
    "\n",
    "\n",
    "\n",
    "\n",
    "\n",
    "\n",
    "\n",
    "\n",
    "\n",
    "\n",
    "\n",
    "\n",
    "</pre>"
   ]
  },
  {
   "cell_type": "markdown",
   "id": "da66bcc4",
   "metadata": {
    "slideshow": {
     "slide_type": "subslide"
    }
   },
   "source": [
    "### Example 2\n",
    "\n",
    "Use the Laplace transform method and apply Kirchoff's Voltage Law (KVL) to find the voltage $v_c(t)$ across the capacitor for the circuit below given that $v_c(0^-) = 6$ V.\n",
    "\n",
    "![Circuit for Example 2](pictures/example1_2.png)"
   ]
  },
  {
   "cell_type": "markdown",
   "id": "e619787d",
   "metadata": {
    "slideshow": {
     "slide_type": "notes"
    }
   },
   "source": [
    "<pre style=\"border: 2px solid blue\">\n",
    "\n",
    "\n",
    "\n",
    "\n",
    "\n",
    "\n",
    "\n",
    "\n",
    "\n",
    "\n",
    "\n",
    "\n",
    "\n",
    "\n",
    "\n",
    "\n",
    "\n",
    "\n",
    "\n",
    "\n",
    "\n",
    "\n",
    "\n",
    "\n",
    "\n",
    "\n",
    "\n",
    "\n",
    "</pre>"
   ]
  },
  {
   "cell_type": "markdown",
   "id": "6a30993b",
   "metadata": {
    "slideshow": {
     "slide_type": "subslide"
    }
   },
   "source": [
    "### Example 3\n",
    "\n",
    "In the circuit below, switch $S_1$ closes at $t=0$, while at the same time, switch $S_2$ opens. Use the Laplace transform method to find $v_{\\mathrm{out}}(t)$ for $t > 0$.\n",
    "\n",
    "![Circuit for Example 3](pictures/example3.png)"
   ]
  },
  {
   "cell_type": "markdown",
   "id": "1dab88f8",
   "metadata": {
    "slideshow": {
     "slide_type": "subslide"
    }
   },
   "source": [
    "Show with the assistance of MATLAB (See [solution3.m](https://cpjobling.github.io/eg-247-textbook/laplace_transform/matlab/solution3.m)) that the solution is\n",
    "\n",
    "$$V_{\\mathrm{out}}=\\left(1.36e^{-6.57t}+0.64e^{-0.715t}\\cos 0.316t - 1.84e^{-0.715t}\\sin 0.316t\\right)u_0(t)$$\n",
    "\n",
    "and plot the result."
   ]
  },
  {
   "cell_type": "markdown",
   "id": "664d60aa",
   "metadata": {
    "slideshow": {
     "slide_type": "subslide"
    }
   },
   "source": [
    "#### Solution to Example 3\n",
    "\n",
    "We will use a combination of pen-and-paper and MATLAB to solve this."
   ]
  },
  {
   "cell_type": "markdown",
   "id": "2d8ef07c",
   "metadata": {
    "slideshow": {
     "slide_type": "subslide"
    }
   },
   "source": [
    "##### 1. Equivalent Circuit\n",
    "\n",
    "Draw equivalent circuit at $t=0$"
   ]
  },
  {
   "cell_type": "markdown",
   "id": "e474cc65",
   "metadata": {
    "slideshow": {
     "slide_type": "notes"
    }
   },
   "source": [
    "<pre style=\"border: 2px solid blue\">\n",
    "\n",
    "\n",
    "\n",
    "\n",
    "\n",
    "\n",
    "\n",
    "\n",
    "\n",
    "\n",
    "\n",
    "\n",
    "\n",
    "\n",
    "\n",
    "\n",
    "\n",
    "\n",
    "\n",
    "\n",
    "\n",
    "\n",
    "\n",
    "\n",
    "\n",
    "\n",
    "\n",
    "\n",
    "</pre>"
   ]
  },
  {
   "cell_type": "markdown",
   "id": "58dd18b3",
   "metadata": {
    "slideshow": {
     "slide_type": "subslide"
    }
   },
   "source": [
    "##### 2. Transform model\n",
    "\n",
    "Convert to transforms"
   ]
  },
  {
   "cell_type": "markdown",
   "id": "0e0aa0d9",
   "metadata": {
    "slideshow": {
     "slide_type": "notes"
    }
   },
   "source": [
    "<pre style=\"border: 2px solid blue\">\n",
    "\n",
    "\n",
    "\n",
    "\n",
    "\n",
    "\n",
    "\n",
    "\n",
    "\n",
    "\n",
    "\n",
    "\n",
    "\n",
    "\n",
    "\n",
    "\n",
    "\n",
    "\n",
    "\n",
    "\n",
    "\n",
    "\n",
    "\n",
    "\n",
    "\n",
    "\n",
    "\n",
    "\n",
    "</pre>"
   ]
  },
  {
   "cell_type": "markdown",
   "id": "4a685d51",
   "metadata": {
    "slideshow": {
     "slide_type": "subslide"
    }
   },
   "source": [
    "##### 3. Determine equation\n",
    "\n",
    "Determine equation for $V_{\\rm out}(s)$."
   ]
  },
  {
   "cell_type": "markdown",
   "id": "774bc12d",
   "metadata": {
    "slideshow": {
     "slide_type": "notes"
    }
   },
   "source": [
    "<pre style=\"border: 2px solid blue\">\n",
    "\n",
    "\n",
    "\n",
    "\n",
    "\n",
    "\n",
    "\n",
    "\n",
    "\n",
    "\n",
    "\n",
    "\n",
    "\n",
    "\n",
    "\n",
    "\n",
    "\n",
    "\n",
    "\n",
    "\n",
    "\n",
    "\n",
    "\n",
    "</pre>"
   ]
  },
  {
   "cell_type": "markdown",
   "id": "cd68050c",
   "metadata": {
    "slideshow": {
     "slide_type": "subslide"
    }
   },
   "source": [
    "#### 4. Complete solution in MATLAB\n",
    "\n",
    "In the lecture we showed that after simplification for Example 3\n",
    "\n",
    "$$V_{\\mathrm{out}}(s)=\\frac{2s(s+3)}{s^3 + 8s^2 + 10s + 4}$$\n",
    "\n",
    "We will use MATLAB to factorize the denominator $D(s)$ of the equation\n",
    "into a linear and a quadratic factor."
   ]
  },
  {
   "cell_type": "markdown",
   "id": "78e0a29a",
   "metadata": {
    "slideshow": {
     "slide_type": "subslide"
    }
   },
   "source": [
    "##### Find roots of Denominator D(s)"
   ]
  },
  {
   "cell_type": "code",
   "execution_count": null,
   "id": "57371faa",
   "metadata": {
    "slideshow": {
     "slide_type": "fragment"
    },
    "tags": [
     "remove-output"
    ]
   },
   "outputs": [],
   "source": [
    "p = roots([1, 8, 10, 4])"
   ]
  },
  {
   "cell_type": "markdown",
   "id": "2675c415",
   "metadata": {
    "slideshow": {
     "slide_type": "subslide"
    }
   },
   "source": [
    "##### Find quadratic form"
   ]
  },
  {
   "cell_type": "code",
   "execution_count": null,
   "id": "75ae58dc",
   "metadata": {
    "slideshow": {
     "slide_type": "fragment"
    },
    "tags": [
     "remove-output"
    ]
   },
   "outputs": [],
   "source": [
    "syms s t\n",
    "y = expand((s - p(2))*(s - p(3)))"
   ]
  },
  {
   "cell_type": "markdown",
   "id": "18b3bd64",
   "metadata": {
    "slideshow": {
     "slide_type": "subslide"
    }
   },
   "source": [
    "##### Simplify coefficients of s"
   ]
  },
  {
   "cell_type": "code",
   "execution_count": null,
   "id": "0e9f0209",
   "metadata": {
    "slideshow": {
     "slide_type": "subslide"
    },
    "tags": [
     "remove-output"
    ]
   },
   "outputs": [],
   "source": [
    "y = sym2poly(y)"
   ]
  },
  {
   "cell_type": "markdown",
   "id": "36f0de75",
   "metadata": {
    "slideshow": {
     "slide_type": "subslide"
    }
   },
   "source": [
    "##### Complete the Square"
   ]
  },
  {
   "cell_type": "markdown",
   "id": "eca4e7ee",
   "metadata": {
    "slideshow": {
     "slide_type": "notes"
    }
   },
   "source": [
    "<pre style=\"border: 2px solid blue\">\n",
    "\n",
    "\n",
    "\n",
    "\n",
    "\n",
    "\n",
    "\n",
    "\n",
    "\n",
    "\n",
    "\n",
    "\n",
    "\n",
    "\n",
    "\n",
    "\n",
    "\n",
    "\n",
    "\n",
    "\n",
    "\n",
    "\n",
    "\n",
    "</pre>"
   ]
  },
  {
   "cell_type": "markdown",
   "id": "4b59c8d3",
   "metadata": {
    "slideshow": {
     "slide_type": "subslide"
    }
   },
   "source": [
    "##### Plot result"
   ]
  },
  {
   "cell_type": "code",
   "execution_count": null,
   "id": "8faa60f5",
   "metadata": {
    "slideshow": {
     "slide_type": "subslide"
    },
    "tags": [
     "remove-output"
    ]
   },
   "outputs": [],
   "source": [
    "[r, p, k] = residue(2*conv([1,0],[1,3]),[1 8, 10,4])\n",
    "yt=0:0.01:10;\n",
    "Vout = 1.36.*exp(r(1).*t)...\n",
    "   +0.64.*exp(real(r(2)).*t).*cos(imag(r(2)).*t)...\n",
    "   -1.84.*exp(real(r(3)).*t).*sin(-imag(r(3)).*t);\n",
    "plot(t, Vout); grid\n",
    "title('Plot of Vout(t) for the circuit of Example 3')\n",
    "ylabel('Vout(t) V'),xlabel('Time t s')"
   ]
  },
  {
   "cell_type": "markdown",
   "id": "3ba24c7a",
   "metadata": {
    "slideshow": {
     "slide_type": "notes"
    }
   },
   "source": [
    "#### Worked Solution: Example 3\n",
    "\n",
    "\n",
    "File Pencast: [example3.pdf](https://cpjobling.github.io/eg-247-textbook/laplace_transform/worked_examples/example3.pdf) - Download and open in Adobe Acrobat Reader.\n",
    "\n",
    "The attached \"PenCast\" works through the solution to Example 3 by hand. It's quite a complex, error-prone (as you will see!) calculation that needs careful attention to detail. This in itself gives justification to my belief that you should use computers wherever possible.\n",
    "\n",
    "Please note, the PenCast takes around 39 minutes (I said it was a complex calculation) but you can fast forward and replay any part of it."
   ]
  },
  {
   "cell_type": "markdown",
   "id": "5779a574",
   "metadata": {
    "slideshow": {
     "slide_type": "subslide"
    }
   },
   "source": [
    "##### Alternative solution using transfer functions"
   ]
  },
  {
   "cell_type": "code",
   "execution_count": null,
   "id": "52848523",
   "metadata": {
    "slideshow": {
     "slide_type": "subslide"
    },
    "tags": [
     "remove-output"
    ]
   },
   "outputs": [],
   "source": [
    "Vout = tf(2*conv([1, 0],[1, 3]),[1, 8, 10, 4])"
   ]
  },
  {
   "cell_type": "code",
   "execution_count": null,
   "id": "970d23b3",
   "metadata": {
    "slideshow": {
     "slide_type": "subslide"
    },
    "tags": [
     "remove-output"
    ]
   },
   "outputs": [],
   "source": [
    "impulse(Vout)"
   ]
  },
  {
   "cell_type": "markdown",
   "id": "76fcee1f",
   "metadata": {
    "slideshow": {
     "slide_type": "slide"
    }
   },
   "source": [
    "## Complex Impedance $Z(s)$\n",
    "\n",
    "For the resistance $R$$\\Omega$, inductance $L$H and capacitance $C$F, which of the following represent the complex impedance of the components?"
   ]
  },
  {
   "cell_type": "markdown",
   "id": "219e1649",
   "metadata": {
    "slideshow": {
     "slide_type": "notes"
    }
   },
   "source": [
    "$$sL$$\n",
    "\n",
    "$$1/R$$\n",
    "\n",
    "$$sC$$\n",
    "\n",
    "$$\\frac{1}{sC}$$\n",
    "\n",
    "$$\\frac{1}{sL}$$\n",
    "\n",
    "$$R$$"
   ]
  },
  {
   "cell_type": "markdown",
   "id": "bf27c9a4",
   "metadata": {
    "slideshow": {
     "slide_type": "fragment"
    }
   },
   "source": [
    "**-> Open Poll**"
   ]
  },
  {
   "cell_type": "markdown",
   "id": "de54b5c7",
   "metadata": {
    "slideshow": {
     "slide_type": "subslide"
    }
   },
   "source": [
    "Consider the $s$-domain RLC series circuit, wehere the initial conditions are assumed to be zero.\n",
    "\n",
    "![Complex Impedance $Z(s)$](pictures/impedence.png)"
   ]
  },
  {
   "cell_type": "markdown",
   "id": "94e53ac4",
   "metadata": {
    "slideshow": {
     "slide_type": "subslide"
    }
   },
   "source": [
    "For this circuit, the sum\n",
    "\n",
    "$$R + sL + \\frac{1}{sC}$$ \n",
    "\n",
    "represents that total opposition to current flow. Then,\n",
    "\n",
    "$$I(s) = \\frac{V_s(s)}{R + sL + 1/(sC)}$$\n",
    "\n",
    "and defining the ratio $V_s(s)/I(s)$ as $Z(s)$, we obtain\n",
    "\n",
    "$$Z(s) = \\frac{V_s(s)}{I(s)} = R + sL + \\frac{1}{sC}$$"
   ]
  },
  {
   "cell_type": "markdown",
   "id": "9a6ba99e",
   "metadata": {
    "slideshow": {
     "slide_type": "subslide"
    }
   },
   "source": [
    "The $s$-domain current $I(s)$ can be found from \n",
    "\n",
    "$$I(s) = \\frac{V_s(s)}{Z(s)}$$\n",
    "\n",
    "where\n",
    "\n",
    "$$Z(s) = R + sL + \\frac{1}{sC}.$$\n",
    "\n",
    "Since $s = \\sigma + j\\omega$ is a complex number, $Z(s)$ is also complex and is known as the *complex input impedance* of this RLC series circuit."
   ]
  },
  {
   "cell_type": "markdown",
   "id": "97115459",
   "metadata": {
    "slideshow": {
     "slide_type": "subslide"
    }
   },
   "source": [
    "### Exercise\n",
    "\n",
    "Use the previous result to give an expression for $V_c(s)$"
   ]
  },
  {
   "cell_type": "markdown",
   "id": "8788438d",
   "metadata": {
    "slideshow": {
     "slide_type": "skip"
    }
   },
   "source": [
    "<pre style=\"border: 2px solid blue\">\n",
    "\n",
    "\n",
    "\n",
    "\n",
    "\n",
    "\n",
    "\n",
    "\n",
    "\n",
    "\n",
    "\n",
    "\n",
    "\n",
    "\n",
    "\n",
    "</pre>"
   ]
  },
  {
   "cell_type": "markdown",
   "id": "f6681920",
   "metadata": {
    "slideshow": {
     "slide_type": "subslide"
    }
   },
   "source": [
    "### Example 4\n",
    "\n",
    "For the network shown below, all the complex impedance values are given in $\\Omega$ (ohms). \n",
    "\n",
    "![Circuit for example 4](pictures/example4.png)\n",
    "\n",
    "Find $Z(s)$ using:\n",
    "    \n",
    "1. nodal analysis\n",
    "2. successive combinations of series and parallel impedances"
   ]
  },
  {
   "cell_type": "markdown",
   "id": "7d3c2ce4",
   "metadata": {
    "slideshow": {
     "slide_type": "notes"
    }
   },
   "source": [
    "<pre style=\"border: 2px solid blue\">\n",
    "\n",
    "\n",
    "\n",
    "\n",
    "\n",
    "\n",
    "\n",
    "\n",
    "\n",
    "\n",
    "\n",
    "\n",
    "\n",
    "\n",
    "\n",
    "</pre>\n",
    "\n",
    "**Solutions**: Pencasts [ex4_1.pdf](https://cpjobling.github.io/eg-247-textbook/laplace_transform/worked_examples/ex4_1.pdf) and [ex4_2.pdf](https://cpjobling.github.io/eg-247-textbook/laplace_transform/worked_examples/ex4_2.pdf) &ndash; open in Adobe Acrobat."
   ]
  },
  {
   "cell_type": "markdown",
   "id": "b165d674",
   "metadata": {
    "slideshow": {
     "slide_type": "slide"
    }
   },
   "source": [
    "## Complex Admittance $Y(s)$\n",
    "\n",
    "For the resistor $R$Ω, inductor $L$H and capacitance $C$F, which of the following represent the complex admittance of the components?"
   ]
  },
  {
   "cell_type": "markdown",
   "id": "8500a275",
   "metadata": {
    "slideshow": {
     "slide_type": "notes"
    }
   },
   "source": [
    "$$sL$$\n",
    "\n",
    "$$1/R$$\n",
    "\n",
    "$$sC$$\n",
    "\n",
    "$$\\frac{1}{sC}$$\n",
    "\n",
    "$$\\frac{1}{sL}$$\n",
    "\n",
    "$$R$$"
   ]
  },
  {
   "cell_type": "markdown",
   "id": "f9b365fe",
   "metadata": {
    "slideshow": {
     "slide_type": "fragment"
    }
   },
   "source": [
    "**-> Open Poll**"
   ]
  },
  {
   "cell_type": "markdown",
   "id": "531072f7",
   "metadata": {
    "slideshow": {
     "slide_type": "subslide"
    }
   },
   "source": [
    "Consider the $s$-domain GLC parallel circuit shown below where the initial conditions are zero.\n",
    "\n",
    "![Complex admittance $Y(s)$](pictures/admittance.png)\n",
    "\n",
    "For this circuit\n",
    "\n",
    "$$GV(s)+ \\frac{1}{sL}V(s) + sCV(s) = I_s(s)$$\n",
    "\n",
    "$$\\left(G+ \\frac{1}{sL} + sC\\right)V(s) = I_s(s)$$\n",
    "\n",
    "Defining the ratio $I_s(s)/V(s)$ as $Y(s)$ we obtain\n",
    "\n",
    "$$Y(s)=\\frac{I_s(s)}{V(s)} = G+ \\frac{1}{sL} + sC = \\frac{1}{Z(s)}$$"
   ]
  },
  {
   "cell_type": "markdown",
   "id": "39382a59",
   "metadata": {
    "slideshow": {
     "slide_type": "subslide"
    }
   },
   "source": [
    "The $s$-domain voltage $V(s)$ can be found from \n",
    "\n",
    "$$V(s) = \\frac{I_s(s)}{Y(s)}$$\n",
    "\n",
    "where\n",
    "\n",
    "$$Y(s) = G + \\frac{1}{sL} + sC.$$\n",
    "\n",
    "$Y(s)$ is complex and is known as the *complex input admittance* of this GLC parallel circuit."
   ]
  },
  {
   "cell_type": "markdown",
   "id": "da45435d",
   "metadata": {
    "slideshow": {
     "slide_type": "subslide"
    }
   },
   "source": [
    "### Example 5 - Do It Yourself\n",
    "\n",
    "Compute $Z(s)$ and $Y(s)$ for the circuit shown below. All impedence values are in $\\Omega$ (ohms). Verify your answers with MATLAB.\n",
    "\n",
    "![Circuit for Example 5](pictures/example5.png)"
   ]
  },
  {
   "cell_type": "markdown",
   "id": "ad2e92f3",
   "metadata": {
    "slideshow": {
     "slide_type": "notes"
    }
   },
   "source": [
    "<pre style=\"border: 2px solid blue\">\n",
    "\n",
    "\n",
    "\n",
    "\n",
    "\n",
    "\n",
    "\n",
    "\n",
    "\n",
    "\n",
    "\n",
    "\n",
    "\n",
    "\n",
    "\n",
    "</pre>"
   ]
  },
  {
   "cell_type": "markdown",
   "id": "e7c408f0",
   "metadata": {
    "slideshow": {
     "slide_type": "subslide"
    }
   },
   "source": [
    "#### Answer 5\n",
    "\n",
    "$$Z(s) = \\frac{65s^4 + 490s^3 + 528s^2 + 400s + 128}{s(5s^2 + 30s + 16)}$$\n",
    "\n",
    "$$Y(s) = \\frac{1}{Z(s)} = \\frac{s(5s^2 + 30s + 16)}{65s^4 + 490s^3 + 528s^2 + 400s + 128}$$\n",
    "\n",
    "Matlab verification: [solution5.m](https://cpjobling.github.io/eg-247-textbook/laplace_transform/matlab/solution5.m)"
   ]
  },
  {
   "cell_type": "markdown",
   "id": "f9f69298",
   "metadata": {
    "slideshow": {
     "slide_type": "subslide"
    }
   },
   "source": [
    "##### Example 5: Verification of Solution"
   ]
  },
  {
   "cell_type": "code",
   "execution_count": null,
   "id": "bb41deb1",
   "metadata": {
    "slideshow": {
     "slide_type": "subslide"
    },
    "tags": [
     "remove-output"
    ]
   },
   "outputs": [],
   "source": [
    "syms s;\n",
    "\n",
    "z1 = 13*s + 8/s;\n",
    "z2 = 5*s + 10;\n",
    "z3 = 20 + 16/s;"
   ]
  },
  {
   "cell_type": "code",
   "execution_count": null,
   "id": "c58c1c6f",
   "metadata": {
    "slideshow": {
     "slide_type": "subslide"
    },
    "tags": [
     "remove-output"
    ]
   },
   "outputs": [],
   "source": [
    "z = z1 + z2 * z3 /(z2 + z3)"
   ]
  },
  {
   "cell_type": "code",
   "execution_count": null,
   "id": "ed3236ca",
   "metadata": {
    "slideshow": {
     "slide_type": "subslide"
    },
    "tags": [
     "remove-output"
    ]
   },
   "outputs": [],
   "source": [
    "z10 = simplify(z)"
   ]
  },
  {
   "cell_type": "code",
   "execution_count": null,
   "id": "4b1a406a",
   "metadata": {
    "slideshow": {
     "slide_type": "subslide"
    },
    "tags": [
     "remove-output"
    ]
   },
   "outputs": [],
   "source": [
    "pretty(z10)"
   ]
  },
  {
   "cell_type": "markdown",
   "id": "8727d77e",
   "metadata": {},
   "source": [
    "##### Admittance"
   ]
  },
  {
   "cell_type": "code",
   "execution_count": null,
   "id": "dd282c36",
   "metadata": {
    "slideshow": {
     "slide_type": "subslide"
    },
    "tags": [
     "remove-output"
    ]
   },
   "outputs": [],
   "source": [
    "y10 = 1/z10;\n",
    "pretty(y10)"
   ]
  },
  {
   "cell_type": "markdown",
   "id": "3f59bb89",
   "metadata": {
    "slideshow": {
     "slide_type": "slide"
    }
   },
   "source": [
    "## Matlab Solutions\n",
    "\n",
    "For convenience, single script MATLAB solutions to the examples are provided and can be downloaded from the accompanying [MATLAB](https://github.com/cpjobling/eg-247-textbook/tree/master/laplace_transform/matlab) folder in the [GitHub repository](https://github.com/cpjobling/eg-247-textbook).\n",
    "\n",
    "* Solution 3 [[solution3.m](https://cpjobling.github.io/eg-247-textbook/laplace_transform/matlab/solution3.m)]\n",
    "* Solution 5 [[solution5.m](https://cpjobling.github.io/eg-247-textbook/laplace_transform/matlab/solution5.m)]"
   ]
  },
  {
   "cell_type": "code",
   "execution_count": null,
   "id": "dc5e62f2",
   "metadata": {
    "slideshow": {
     "slide_type": "fragment"
    },
    "tags": [
     "remove-output"
    ]
   },
   "outputs": [],
   "source": [
    "cd ../matlab\n",
    "ls\n",
    "open solution3\n",
    "open solution5"
   ]
  }
 ],
 "metadata": {
  "jupytext": {
   "formats": "ipynb,md:myst",
   "text_representation": {
    "extension": ".md",
    "format_name": "myst",
    "format_version": 0.13,
    "jupytext_version": "1.14.4"
   }
  },
  "kernelspec": {
   "display_name": "Matlab",
   "language": "matlab",
   "name": "matlab"
  },
  "source_map": [
   15,
   21,
   33,
   44,
   48,
   54,
   58,
   68,
   72,
   78,
   82,
   92,
   96,
   102,
   106,
   116,
   120,
   124,
   132,
   164,
   172,
   205,
   213,
   221,
   227,
   233,
   266,
   272,
   305,
   311,
   339,
   350,
   354,
   363,
   367,
   377,
   381,
   390,
   394,
   422,
   426,
   442,
   453,
   457,
   466,
   475,
   481,
   495,
   499,
   505,
   519,
   531,
   537,
   557,
   570,
   592,
   598,
   612,
   616,
   632,
   644,
   652,
   672,
   682,
   686,
   699,
   708,
   717,
   724,
   728,
   738,
   747
  ]
 },
 "nbformat": 4,
 "nbformat_minor": 5
}