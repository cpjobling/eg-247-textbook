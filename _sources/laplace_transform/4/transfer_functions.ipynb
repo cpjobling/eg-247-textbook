{
 "cells": [
  {
   "cell_type": "markdown",
   "id": "95ab807d",
   "metadata": {
    "slideshow": {
     "slide_type": "slide"
    }
   },
   "source": [
    "# Transfer Functions"
   ]
  },
  {
   "cell_type": "markdown",
   "id": "c7645c44",
   "metadata": {
    "slideshow": {
     "slide_type": "notes"
    }
   },
   "source": [
    "The preparatory reading for this section is [Chapter 4.4](https://ebookcentral.proquest.com/lib/swansea-ebooks/reader.action?docID=3384197&ppg=75#ppg=113) {cite}`karris` which discusses transfer function models of electrical circuits."
   ]
  },
  {
   "cell_type": "markdown",
   "id": "b044b21a",
   "metadata": {
    "slideshow": {
     "slide_type": "notes"
    }
   },
   "source": [
    "## Colophon\n",
    "\n",
    "\n",
    "An annotatable worksheet for this presentation is available as [**Worksheet 7**](https://cpjobling.github.io/eg-247-textbook/laplace_transform/4/worksheet7.html).\n",
    "\n",
    "* The source code for this page is [laplace_transform/4/transfer_functions.ipynb](https://github.com/cpjobling/eg-247-textbook/blob/master/laplace_transform/4/transfer_functions.ipynb).\n",
    "\n",
    "* You can view the notes for this presentation as a webpage ([HTML](https://cpjobling.github.io/eg-247-textbook/laplace_transform/4/transfer_functions.html)). \n",
    "\n",
    "* This page is downloadable as a [PDF](https://cpjobling.github.io/eg-247-textbook/laplace_transform/4/transfer_functions.pdf) file."
   ]
  },
  {
   "cell_type": "markdown",
   "id": "3bf1871a",
   "metadata": {
    "slideshow": {
     "slide_type": "slide"
    }
   },
   "source": [
    "## Agenda"
   ]
  },
  {
   "cell_type": "markdown",
   "id": "c1cf71a4",
   "metadata": {
    "slideshow": {
     "slide_type": "fragment"
    }
   },
   "source": [
    "* Transfer Functions"
   ]
  },
  {
   "cell_type": "markdown",
   "id": "f12fe99a",
   "metadata": {
    "slideshow": {
     "slide_type": "fragment"
    }
   },
   "source": [
    "* A Couple of Examples"
   ]
  },
  {
   "cell_type": "markdown",
   "id": "cba52732",
   "metadata": {
    "slideshow": {
     "slide_type": "fragment"
    }
   },
   "source": [
    "* Circuit Analysis Using MATLAB LTI Transfer Function Block"
   ]
  },
  {
   "cell_type": "markdown",
   "id": "268662d9",
   "metadata": {
    "slideshow": {
     "slide_type": "fragment"
    }
   },
   "source": [
    "* Circuit Simulation Using Simulink Transfer Function Block"
   ]
  },
  {
   "cell_type": "code",
   "execution_count": 1,
   "id": "a8a395f7",
   "metadata": {
    "slideshow": {
     "slide_type": "skip"
    }
   },
   "outputs": [
    {
     "name": "stdout",
     "output_type": "stream",
     "text": [
      "ans =\n",
      "    '/Users/eechris/code/src/github.com/cpjobling/eg-247-textbook/laplace_transform/matlab'\n"
     ]
    }
   ],
   "source": [
    "% Matlab setup\n",
    "clear all\n",
    "cd ../matlab \n",
    "pwd\n",
    "imatlab_export_fig('print-svg')  % Static svg figures.\n",
    "format compact"
   ]
  },
  {
   "cell_type": "markdown",
   "id": "280407fc",
   "metadata": {
    "slideshow": {
     "slide_type": "slide"
    }
   },
   "source": [
    "## Transfer Functions for Circuits\n",
    "\n",
    "When doing circuit analysis with components defined in the complex frequency domain, the ratio of the output voltage $V_{\\mathrm{out}}(s)$ to the input voltage $V_{\\mathrm{in}}(s)$ *under zero initial conditions* is of great interest."
   ]
  },
  {
   "cell_type": "markdown",
   "id": "b7e95528",
   "metadata": {
    "slideshow": {
     "slide_type": "subslide"
    }
   },
   "source": [
    "This ratio is known as the *voltage transfer function* denoted $G_v(s)$:"
   ]
  },
  {
   "cell_type": "markdown",
   "id": "6475bf26",
   "metadata": {
    "slideshow": {
     "slide_type": "fragment"
    }
   },
   "source": [
    "$$G_v(s) = \\frac{V_{\\mathrm{out}}(s)}{V_{\\mathrm{in}}(s)}$$"
   ]
  },
  {
   "cell_type": "markdown",
   "id": "03e0e9a5",
   "metadata": {
    "slideshow": {
     "slide_type": "subslide"
    }
   },
   "source": [
    "Similarly, the ratio of the output current $I_{\\mathrm{out}}(s)$ to the input current $I_{\\mathrm{in}}(s)$ *under zero initial conditions*, is called the *cuurent transfer function* denoted $G_i(s)$:"
   ]
  },
  {
   "cell_type": "markdown",
   "id": "df95b391",
   "metadata": {
    "slideshow": {
     "slide_type": "fragment"
    }
   },
   "source": [
    "$$G_i(s) = \\frac{I_{\\mathrm{out}}(s)}{I_{\\mathrm{in}}(s)}$$"
   ]
  },
  {
   "cell_type": "markdown",
   "id": "64cf46b8",
   "metadata": {
    "slideshow": {
     "slide_type": "notes"
    }
   },
   "source": [
    "In practice, the current transfer function is rarely used, so we will use the voltage transfer function denoted:\n",
    "\n",
    "$$G(s) = \\frac{V_{\\mathrm{out}}(s)}{V_{\\mathrm{in}}(s)}$$"
   ]
  },
  {
   "cell_type": "markdown",
   "id": "c942dda6",
   "metadata": {
    "slideshow": {
     "slide_type": "slide"
    }
   },
   "source": [
    "## Examples\n",
    "\n",
    "See [Worksheet 7](worksheet7) for the worked solutions to the examples. We will work through these in class. Here I'll demonstrate the MATLAB solutions."
   ]
  },
  {
   "cell_type": "markdown",
   "id": "f654bfa9",
   "metadata": {
    "slideshow": {
     "slide_type": "subslide"
    }
   },
   "source": [
    "### Example 6\n",
    "\n",
    "Derive an expression for the transfer function $G(s)$ for the circuit below. In this circuit $R_g$ represents the internal resistance of the applied (voltage) source $v_s$, and $R_L$ represents the resistance of the load that consists of $R_L$, $L$ and $C$."
   ]
  },
  {
   "cell_type": "markdown",
   "id": "63db7585",
   "metadata": {
    "slideshow": {
     "slide_type": "subslide"
    }
   },
   "source": [
    "<img title=\"Circuit for Example 6\" src=\"pictures/example6.png\" width=\"50%\" />"
   ]
  },
  {
   "cell_type": "markdown",
   "id": "c324ba4f",
   "metadata": {
    "slideshow": {
     "slide_type": "subslide"
    }
   },
   "source": [
    "### Sketch of Solution"
   ]
  },
  {
   "cell_type": "markdown",
   "id": "6b52eb38",
   "metadata": {
    "slideshow": {
     "slide_type": "fragment"
    }
   },
   "source": [
    "* Replace $v_s(t)$, $R_g$, $R_L$, $L$ and $C$ by their transformed (*complex frequency*) equivalents: $V_s(s)$, $R_g$, $R_L$, $sL$ and $1/(sC)$"
   ]
  },
  {
   "cell_type": "markdown",
   "id": "602b8e28",
   "metadata": {
    "slideshow": {
     "slide_type": "fragment"
    }
   },
   "source": [
    "* Use the *Voltage Divider Rule* to determine $V_\\mathrm{out}(s)$ as a function of $V_s(s)$"
   ]
  },
  {
   "cell_type": "markdown",
   "id": "e14c1338",
   "metadata": {
    "slideshow": {
     "slide_type": "subslide"
    }
   },
   "source": [
    "* Form $G(s)$ by writing down the ratio $V_\\mathrm{out}(s)/V_s(s)$"
   ]
  },
  {
   "cell_type": "markdown",
   "id": "7fec948c",
   "metadata": {
    "slideshow": {
     "slide_type": "notes"
    }
   },
   "source": [
    "### Worked solution.\n",
    "\n",
    "Pencast: [ex6.pdf](https://cpjobling.github.io/eg-247-textbook/laplace_transform/worked_examples/ex6.pdf) - open in Adobe Acrobat Reader."
   ]
  },
  {
   "cell_type": "markdown",
   "id": "bd2be849",
   "metadata": {
    "slideshow": {
     "slide_type": "subslide"
    }
   },
   "source": [
    "### Answer\n",
    "\n",
    "$$G(s) = \\frac{V_\\mathrm{out}(s)}{V_s(s)} = \\frac{R_L + sL + 1/sC}{R_g + R_L + sL + 1/sC}.$$"
   ]
  },
  {
   "cell_type": "markdown",
   "id": "49457884",
   "metadata": {
    "slideshow": {
     "slide_type": "subslide"
    }
   },
   "source": [
    "### Example 7\n",
    "\n",
    "Compute the transfer function for the op-amp circuit shown below in terms of the circuit constants $R_1$, $R_2$, $R_3$, $C_1$ and $C_2$."
   ]
  },
  {
   "cell_type": "markdown",
   "id": "1a5bc09e",
   "metadata": {
    "slideshow": {
     "slide_type": "subslide"
    }
   },
   "source": [
    "<img alt=\"Circuit for Example 7\" src=\"pictures/example7.png\" width=\"50%\" />"
   ]
  },
  {
   "cell_type": "markdown",
   "id": "4bb53612",
   "metadata": {
    "slideshow": {
     "slide_type": "subslide"
    }
   },
   "source": [
    "Then replace the complex variable $s$ with $j\\omega$, and the circuit constants with their numerical values and plot the magnitude\n",
    "\n",
    "$$\\left|G(j\\omega)\\right| = \\frac{\\left|V_{\\mathrm{out}}(j\\omega)\\right|}{\\left|V_{\\mathrm{in}}(j\\omega)\\right|}$$\n",
    "\n",
    "versus radian frequency $\\omega$ rad/s."
   ]
  },
  {
   "cell_type": "markdown",
   "id": "0bab409a",
   "metadata": {
    "slideshow": {
     "slide_type": "subslide"
    }
   },
   "source": [
    "### Sketch of Solution"
   ]
  },
  {
   "cell_type": "markdown",
   "id": "fd723926",
   "metadata": {
    "slideshow": {
     "slide_type": "fragment"
    }
   },
   "source": [
    "* Replace the components and voltages in the circuit diagram with their complex frequency equivalents"
   ]
  },
  {
   "cell_type": "markdown",
   "id": "9563c7a1",
   "metadata": {
    "slideshow": {
     "slide_type": "fragment"
    }
   },
   "source": [
    "* Use nodal analysis to determine the voltages at the nodes either side of the 50K resistor $R_3$"
   ]
  },
  {
   "cell_type": "markdown",
   "id": "b20324dc",
   "metadata": {
    "slideshow": {
     "slide_type": "subslide"
    }
   },
   "source": [
    "* Note that the voltage at the input to the op-amp is a virtual ground"
   ]
  },
  {
   "cell_type": "markdown",
   "id": "0706366c",
   "metadata": {
    "slideshow": {
     "slide_type": "fragment"
    }
   },
   "source": [
    "* Solve for $V_{\\mathrm{out}}(s)$ as a function of $V_{\\mathrm{in}}(s)$"
   ]
  },
  {
   "cell_type": "markdown",
   "id": "ce6ee959",
   "metadata": {
    "slideshow": {
     "slide_type": "fragment"
    }
   },
   "source": [
    "* Form the reciprocal $G(s) = V_{\\mathrm{out}}(s)/V_{\\mathrm{in}}(s)$"
   ]
  },
  {
   "cell_type": "markdown",
   "id": "22c97073",
   "metadata": {
    "slideshow": {
     "slide_type": "subslide"
    }
   },
   "source": [
    "* Use MATLAB to calculate the component values, then replace $s$ by $j\\omega$."
   ]
  },
  {
   "cell_type": "markdown",
   "id": "c5f9cc3d",
   "metadata": {
    "slideshow": {
     "slide_type": "fragment"
    }
   },
   "source": [
    "* Plot on log-linear \"paper\":\n",
    "\n",
    "$$\\left|G(j\\omega)\\right|$$"
   ]
  },
  {
   "cell_type": "markdown",
   "id": "aaf99b64",
   "metadata": {
    "slideshow": {
     "slide_type": "notes"
    }
   },
   "source": [
    "### Worked solution.\n",
    "\n",
    "Pencast: [ex7.pdf](https://cpjobling.github.io/eg-247-textbook/laplace_transform/worked_examples/ex7.pdf) - open in Adobe Acrobat Reader."
   ]
  },
  {
   "cell_type": "markdown",
   "id": "a4ba9345",
   "metadata": {
    "slideshow": {
     "slide_type": "subslide"
    }
   },
   "source": [
    "### Answer\n",
    "\n",
    "$$G(s) = \\frac{V_\\mathrm{out}(s)}{V_\\mathrm{in}(s)} = \\frac{-1}{R_1\\left(\\left(1/R_1 + 1/R_2 + 1/R_3 + sC_1\\right)\\left(sC_2R_3\\right)+1/R_2\\right)}.$$"
   ]
  },
  {
   "cell_type": "markdown",
   "id": "476386c0",
   "metadata": {
    "slideshow": {
     "slide_type": "subslide"
    }
   },
   "source": [
    "### The Matlab Bit\n",
    "\n",
    "See attached script: [solution7.m](https://cpjobling.github.io/eg-247-textbook/laplace_transform/matlab/solution7.m)."
   ]
  },
  {
   "cell_type": "markdown",
   "id": "5a115ece",
   "metadata": {
    "slideshow": {
     "slide_type": "subslide"
    }
   },
   "source": [
    "#### Week 3: Solution 7"
   ]
  },
  {
   "cell_type": "code",
   "execution_count": 2,
   "id": "01490de0",
   "metadata": {
    "slideshow": {
     "slide_type": "fragment"
    }
   },
   "outputs": [],
   "source": [
    "syms s;"
   ]
  },
  {
   "cell_type": "code",
   "execution_count": 3,
   "id": "49e98811",
   "metadata": {
    "slideshow": {
     "slide_type": "subslide"
    }
   },
   "outputs": [],
   "source": [
    "R1 = 200*10^3; \n",
    "R2 = 40*10^3;\n",
    "R3 = 50*10^3;\n",
    "\n",
    "C1 = 25*10^(-9);\n",
    "C2 = 10*10^(-9);"
   ]
  },
  {
   "cell_type": "code",
   "execution_count": 4,
   "id": "8ea17c6a",
   "metadata": {
    "slideshow": {
     "slide_type": "subslide"
    }
   },
   "outputs": [
    {
     "name": "stdout",
     "output_type": "stream",
     "text": [
      "ans =\n"
     ]
    },
    {
     "name": "stdout",
     "output_type": "stream",
     "text": [
      "100*s*((7555786372591433*s)/302231454903657293676544 + 1/20000) + 5\n"
     ]
    }
   ],
   "source": [
    "den = R1*((1/R1+ 1/R2 + 1/R3 + s*C1)*(s*R3*C2) + 1/R2);\n",
    "simplify(den)"
   ]
  },
  {
   "cell_type": "markdown",
   "id": "59da6efe",
   "metadata": {
    "slideshow": {
     "slide_type": "subslide"
    }
   },
   "source": [
    "Simplify coefficients of s in denominator"
   ]
  },
  {
   "cell_type": "code",
   "execution_count": 5,
   "id": "6eade45f",
   "metadata": {
    "slideshow": {
     "slide_type": "subslide"
    }
   },
   "outputs": [
    {
     "name": "stdout",
     "output_type": "stream",
     "text": [
      "denG =\n",
      "   0.000002500000000   0.005000000000000   5.000000000000000\n"
     ]
    }
   ],
   "source": [
    "format long\n",
    "denG = sym2poly(ans)"
   ]
  },
  {
   "cell_type": "code",
   "execution_count": 6,
   "id": "24c6ba18",
   "metadata": {
    "slideshow": {
     "slide_type": "subslide"
    }
   },
   "outputs": [],
   "source": [
    "numG = -1;"
   ]
  },
  {
   "cell_type": "markdown",
   "id": "ff1dc7e1",
   "metadata": {
    "slideshow": {
     "slide_type": "subslide"
    }
   },
   "source": [
    "Plot\n",
    "\n",
    "For convenience, define coefficients $a$ and $b$:"
   ]
  },
  {
   "cell_type": "code",
   "execution_count": 7,
   "id": "a8912c1c",
   "metadata": {
    "slideshow": {
     "slide_type": "fragment"
    }
   },
   "outputs": [],
   "source": [
    "a = denG(1);\n",
    "b = denG(2);"
   ]
  },
  {
   "cell_type": "markdown",
   "id": "a4bdc019",
   "metadata": {
    "slideshow": {
     "slide_type": "subslide"
    }
   },
   "source": [
    "$$G(j\\omega) = \\frac{-1}{a\\omega^2 - jb\\omega + 5}$$"
   ]
  },
  {
   "cell_type": "code",
   "execution_count": 8,
   "id": "756461a3",
   "metadata": {
    "slideshow": {
     "slide_type": "fragment"
    }
   },
   "outputs": [],
   "source": [
    "w = 1:10:10000;\n",
    "Gs = -1./(a*w.^2 - j.*b.*w + denG(3));"
   ]
  },
  {
   "cell_type": "markdown",
   "id": "87566a56",
   "metadata": {
    "slideshow": {
     "slide_type": "subslide"
    }
   },
   "source": [
    "Plot"
   ]
  },
  {
   "cell_type": "code",
   "execution_count": 9,
   "id": "fd2b8b24",
   "metadata": {
    "slideshow": {
     "slide_type": "fragment"
    }
   },
   "outputs": [
    {
     "data": {
      "image/svg+xml": [
       "<?xml version=\"1.0\"?>\n",
       "<!DOCTYPE svg PUBLIC '-//W3C//DTD SVG 1.0//EN'\n",
       "          'http://www.w3.org/TR/2001/REC-SVG-20010904/DTD/svg10.dtd'>\n",
       "<svg xmlns:xlink=\"http://www.w3.org/1999/xlink\" style=\"fill-opacity:1; color-rendering:auto; color-interpolation:auto; text-rendering:auto; stroke:black; stroke-linecap:square; stroke-miterlimit:10; shape-rendering:auto; stroke-opacity:1; fill:black; stroke-dasharray:none; font-weight:normal; stroke-width:1; font-family:'Dialog'; font-style:normal; stroke-linejoin:miter; font-size:12px; stroke-dashoffset:0; image-rendering:auto;\" width=\"560\" height=\"420\" xmlns=\"http://www.w3.org/2000/svg\"\n",
       "><!--Generated by the Batik Graphics2D SVG Generator--><defs id=\"genericDefs\"\n",
       "  /><g\n",
       "  ><defs id=\"defs1\"\n",
       "    ><clipPath clipPathUnits=\"userSpaceOnUse\" id=\"clipPath1\"\n",
       "      ><path d=\"M0 0 L560 0 L560 420 L0 420 L0 0 Z\"\n",
       "      /></clipPath\n",
       "      ><font horiz-adv-x=\"50.0\" id=\"font1\"\n",
       "      ><font-face ascent=\"95.200005\" descent=\"21.3\" units-per-em=\"100\" style=\"font-style:normal; font-family:Helvetica Neue; font-weight:normal;\"\n",
       "        /><missing-glyph horiz-adv-x=\"50.0\" d=\"M40.9 66.6 L10.2 66.6 L10.2 4.7 L40.9 4.7 ZM46 71.2 L46 0.1 L5.1 0.1 L5.1 71.2 Z\"\n",
       "        /><glyph unicode=\"0\" horiz-adv-x=\"55.6\" d=\"M13.2 34.9 Q13.2 37.5 13.25 40.65 Q13.3 43.8 13.75 46.95 Q14.2 50.1 15.05 53.1 Q15.9 56.1 17.55 58.35 Q19.2 60.6 21.7 62 Q24.2 63.4 27.8 63.4 Q31.4 63.4 33.9 62 Q36.4 60.6 38.05 58.35 Q39.7 56.1 40.55 53.1 Q41.4 50.1 41.85 46.95 Q42.3 43.8 42.35 40.65 Q42.4 37.5 42.4 34.9 Q42.4 30.9 42.15 25.95 Q41.9 21 40.55 16.65 Q39.2 12.3 36.2 9.3 Q33.2 6.3 27.8 6.3 Q22.4 6.3 19.4 9.3 Q16.4 12.3 15.05 16.65 Q13.7 21 13.45 25.95 Q13.2 30.9 13.2 34.9 ZM4.2 34.8 Q4.2 30.9 4.4 26.7 Q4.6 22.5 5.4 18.5 Q6.2 14.5 7.7 10.95 Q9.2 7.4 11.8 4.7 Q14.4 2 18.35 0.45 Q22.3 -1.1 27.8 -1.1 Q33.4 -1.1 37.3 0.45 Q41.2 2 43.8 4.7 Q46.4 7.4 47.9 10.95 Q49.4 14.5 50.2 18.5 Q51 22.5 51.2 26.7 Q51.4 30.9 51.4 34.8 Q51.4 38.7 51.2 42.9 Q51 47.1 50.2 51.1 Q49.4 55.1 47.9 58.7 Q46.4 62.3 43.8 65 Q41.2 67.7 37.25 69.3 Q33.3 70.9 27.8 70.9 Q22.3 70.9 18.35 69.3 Q14.4 67.7 11.8 65 Q9.2 62.3 7.7 58.7 Q6.2 55.1 5.4 51.1 Q4.6 47.1 4.4 42.9 Q4.2 38.7 4.2 34.8 Z\"\n",
       "        /><glyph unicode=\"1\" horiz-adv-x=\"55.6\" d=\"M35.6 0 L35.6 70.9 L29.1 70.9 Q28.4 66.9 26.5 64.3 Q24.6 61.7 21.85 60.2 Q19.1 58.7 15.7 58.15 Q12.3 57.6 8.7 57.6 L8.7 50.8 L27.1 50.8 L27.1 0 Z\"\n",
       "        /><glyph unicode=\"2\" horiz-adv-x=\"55.6\" d=\"M4.4 45.8 L12.9 45.8 Q12.8 49 13.55 52.15 Q14.3 55.3 16 57.8 Q17.7 60.3 20.35 61.85 Q23 63.4 26.7 63.4 Q29.5 63.4 32 62.5 Q34.5 61.6 36.35 59.9 Q38.2 58.2 39.3 55.85 Q40.4 53.5 40.4 50.6 Q40.4 46.9 39.25 44.1 Q38.1 41.3 35.85 38.9 Q33.6 36.5 30.2 34.15 Q26.8 31.8 22.3 29 Q18.6 26.8 15.2 24.3 Q11.8 21.8 9.1 18.5 Q6.4 15.2 4.65 10.75 Q2.9 6.3 2.4 0 L48.7 0 L48.7 7.5 L12.3 7.5 Q12.9 10.8 14.85 13.35 Q16.8 15.9 19.55 18.1 Q22.3 20.3 25.6 22.25 Q28.9 24.2 32.2 26.2 Q35.5 28.3 38.6 30.6 Q41.7 32.9 44.1 35.75 Q46.5 38.6 47.95 42.2 Q49.4 45.8 49.4 50.5 Q49.4 55.5 47.65 59.3 Q45.9 63.1 42.9 65.65 Q39.9 68.2 35.85 69.55 Q31.8 70.9 27.2 70.9 Q21.6 70.9 17.2 69 Q12.8 67.1 9.85 63.75 Q6.9 60.4 5.5 55.8 Q4.1 51.2 4.4 45.8 Z\"\n",
       "        /><glyph unicode=\"3\" horiz-adv-x=\"55.6\" d=\"M21.8 40.5 L21.8 33.3 Q24.2 33.6 26.9 33.6 Q30.1 33.6 32.85 32.75 Q35.6 31.9 37.6 30.15 Q39.6 28.4 40.8 25.85 Q42 23.3 42 20 Q42 16.8 40.75 14.25 Q39.5 11.7 37.4 9.95 Q35.3 8.2 32.5 7.25 Q29.7 6.3 26.6 6.3 Q19.3 6.3 15.5 10.65 Q11.7 15 11.5 21.9 L3 21.9 Q2.9 16.4 4.55 12.1 Q6.2 7.8 9.3 4.85 Q12.4 1.9 16.8 0.4 Q21.2 -1.1 26.6 -1.1 Q31.6 -1.1 36.05 0.25 Q40.5 1.6 43.8 4.3 Q47.1 7 49.05 11.05 Q51 15.1 51 20.4 Q51 26.8 47.85 31.5 Q44.7 36.2 38.2 37.6 L38.2 37.8 Q42.4 39.7 45.2 43.4 Q48 47.1 48 51.9 Q48 56.8 46.35 60.4 Q44.7 64 41.8 66.3 Q38.9 68.6 34.95 69.75 Q31 70.9 26.4 70.9 Q21.1 70.9 17.05 69.2 Q13 67.5 10.3 64.5 Q7.6 61.5 6.15 57.3 Q4.7 53.1 4.5 48 L13 48 Q13 51.1 13.8 53.9 Q14.6 56.7 16.25 58.8 Q17.9 60.9 20.45 62.15 Q23 63.4 26.4 63.4 Q31.8 63.4 35.4 60.55 Q39 57.7 39 52 Q39 49.2 37.9 47 Q36.8 44.8 34.95 43.35 Q33.1 41.9 30.65 41.15 Q28.2 40.4 25.5 40.4 L23.7 40.4 Q23.2 40.4 22.7 40.4 Q22.3 40.4 21.8 40.5 Z\"\n",
       "        /><glyph unicode=\"4\" horiz-adv-x=\"55.6\" d=\"M33.9 24.1 L10.1 24.1 L33.7 58.8 L33.9 58.8 ZM41.9 24.1 L41.9 70.9 L35.1 70.9 L2.8 24.8 L2.8 16.6 L33.9 16.6 L33.9 0 L41.9 0 L41.9 16.6 L51.5 16.6 L51.5 24.1 Z\"\n",
       "        /><glyph unicode=\"s\" horiz-adv-x=\"50.0\" d=\"M11.6 16.3 L3.1 16.3 Q3.3 11.5 5.1 8.15 Q6.9 4.8 9.9 2.75 Q12.9 0.7 16.8 -0.2 Q20.7 -1.1 25 -1.1 Q28.9 -1.1 32.85 -0.35 Q36.8 0.4 39.95 2.3 Q43.1 4.2 45.05 7.3 Q47 10.4 47 15.1 Q47 18.8 45.55 21.3 Q44.1 23.8 41.75 25.45 Q39.4 27.1 36.35 28.1 Q33.3 29.1 30.1 29.8 Q27.1 30.5 24.1 31.15 Q21.1 31.8 18.7 32.75 Q16.3 33.7 14.75 35.15 Q13.2 36.6 13.2 38.8 Q13.2 40.8 14.2 42.05 Q15.2 43.3 16.8 44.05 Q18.4 44.8 20.35 45.1 Q22.3 45.4 24.2 45.4 Q26.3 45.4 28.35 44.95 Q30.4 44.5 32.1 43.5 Q33.8 42.5 34.9 40.85 Q36 39.2 36.2 36.7 L44.7 36.7 Q44.4 41.4 42.7 44.55 Q41 47.7 38.15 49.55 Q35.3 51.4 31.6 52.15 Q27.9 52.9 23.5 52.9 Q20.1 52.9 16.65 52.05 Q13.2 51.2 10.45 49.45 Q7.7 47.7 5.95 44.9 Q4.2 42.1 4.2 38.2 Q4.2 33.2 6.7 30.4 Q9.2 27.6 12.95 26.05 Q16.7 24.5 21.1 23.65 Q25.5 22.8 29.25 21.75 Q33 20.7 35.5 19 Q38 17.3 38 14 Q38 11.6 36.8 10.05 Q35.6 8.5 33.75 7.7 Q31.9 6.9 29.7 6.6 Q27.5 6.3 25.5 6.3 Q22.9 6.3 20.45 6.8 Q18 7.3 16.05 8.45 Q14.1 9.6 12.9 11.55 Q11.7 13.5 11.6 16.3 Z\"\n",
       "        /><glyph unicode=\"/\" horiz-adv-x=\"33.3\" d=\"M27.8 73.1 L-1.7 -1.6 L5.5 -1.6 L35.1 73.1 Z\"\n",
       "        /><glyph unicode=\"(\" horiz-adv-x=\"25.9\" d=\"M20.4 -19.7 L26.9 -19.7 Q19.8 -8.2 16.75 3.1 Q13.7 14.4 13.7 27 Q13.7 39.3 16.7 50.5 Q19.7 61.7 26.9 73.1 L20.4 73.1 Q12.6 62.8 8.65 50.8 Q4.7 38.8 4.7 27 Q4.7 20.4 5.8 14.4 Q6.9 8.4 8.95 2.7 Q11 -3 13.9 -8.55 Q16.8 -14.1 20.4 -19.7 Z\"\n",
       "        /><glyph unicode=\"w\" horiz-adv-x=\"75.8\" d=\"M57.6 0 L74.1 51.7 L65.3 51.7 L53.7 9.4 L53.5 9.4 L42.7 51.7 L33.4 51.7 L23 9.4 L22.8 9.4 L11.1 51.7 L1.7 51.7 L18.3 0 L27.5 0 L37.9 41.1 L38.1 41.1 L48.6 0 Z\"\n",
       "        /><glyph unicode=\"y\" horiz-adv-x=\"50.0\" d=\"M26.7 -6.9 Q25.2 -10.7 23.75 -13.3 Q22.3 -15.9 20.55 -17.55 Q18.8 -19.2 16.65 -19.95 Q14.5 -20.7 11.7 -20.7 Q10.2 -20.7 8.7 -20.5 Q7.2 -20.3 5.8 -19.8 L5.8 -12 Q6.9 -12.5 8.35 -12.85 Q9.8 -13.2 10.8 -13.2 Q13.4 -13.2 15.15 -11.95 Q16.9 -10.7 17.8 -8.4 L21.3 0.3 L0.8 51.7 L10.4 51.7 L25.5 9.4 L25.7 9.4 L40.2 51.7 L49.2 51.7 Z\"\n",
       "        /><glyph unicode=\"c\" horiz-adv-x=\"53.7\" d=\"M41.5 35.1 L50.3 35.1 Q49.8 39.7 47.9 43.05 Q46 46.4 43.05 48.6 Q40.1 50.8 36.25 51.85 Q32.4 52.9 28 52.9 Q21.9 52.9 17.3 50.75 Q12.7 48.6 9.65 44.85 Q6.6 41.1 5.1 36.05 Q3.6 31 3.6 25.2 Q3.6 19.4 5.15 14.55 Q6.7 9.7 9.75 6.2 Q12.8 2.7 17.35 0.8 Q21.9 -1.1 27.8 -1.1 Q37.7 -1.1 43.45 4.1 Q49.2 9.3 50.6 18.9 L41.9 18.9 Q41.1 12.9 37.55 9.6 Q34 6.3 27.7 6.3 Q23.7 6.3 20.8 7.9 Q17.9 9.5 16.1 12.15 Q14.3 14.8 13.45 18.2 Q12.6 21.6 12.6 25.2 Q12.6 29.1 13.4 32.75 Q14.2 36.4 16.05 39.2 Q17.9 42 21 43.7 Q24.1 45.4 28.7 45.4 Q34.1 45.4 37.3 42.7 Q40.5 40 41.5 35.1 Z\"\n",
       "        /><glyph unicode=\"u\" horiz-adv-x=\"55.6\" d=\"M49.2 0 L49.2 51.7 L40.7 51.7 L40.7 22.5 Q40.7 19 39.75 16.05 Q38.8 13.1 36.9 10.9 Q35 8.7 32.15 7.5 Q29.3 6.3 25.4 6.3 Q20.5 6.3 17.7 9.1 Q14.9 11.9 14.9 16.7 L14.9 51.7 L6.4 51.7 L6.4 17.7 Q6.4 13.5 7.25 10.05 Q8.1 6.6 10.2 4.1 Q12.3 1.6 15.7 0.25 Q19.1 -1.1 24.2 -1.1 Q29.9 -1.1 34.1 1.15 Q38.3 3.4 41 8.2 L41.2 8.2 L41.2 0 Z\"\n",
       "        /><glyph unicode=\"q\" horiz-adv-x=\"59.3\" d=\"M12.6 25.4 Q12.6 29.2 13.4 32.8 Q14.2 36.4 16 39.2 Q17.8 42 20.8 43.7 Q23.8 45.4 28.1 45.4 Q32.5 45.4 35.6 43.75 Q38.7 42.1 40.65 39.4 Q42.6 36.7 43.5 33.15 Q44.4 29.6 44.4 25.8 Q44.4 22.2 43.55 18.7 Q42.7 15.2 40.8 12.45 Q38.9 9.7 35.9 8 Q32.9 6.3 28.6 6.3 Q24.5 6.3 21.45 7.9 Q18.4 9.5 16.45 12.2 Q14.5 14.9 13.55 18.35 Q12.6 21.8 12.6 25.4 ZM52.6 -19.7 L52.6 51.7 L44.1 51.7 L44.1 44.8 L43.9 44.8 Q42.5 47.1 40.45 48.65 Q38.4 50.2 36.1 51.15 Q33.8 52.1 31.5 52.5 Q29.2 52.9 27.2 52.9 Q21.3 52.9 16.85 50.75 Q12.4 48.6 9.45 44.95 Q6.5 41.3 5.05 36.4 Q3.6 31.5 3.6 26 Q3.6 20.5 5.1 15.6 Q6.6 10.7 9.55 7 Q12.5 3.3 16.95 1.1 Q21.4 -1.1 27.4 -1.1 Q32.8 -1.1 37.3 0.8 Q41.8 2.7 43.9 7 L44.1 7 L44.1 -19.7 Z\"\n",
       "        /><glyph unicode=\"e\" horiz-adv-x=\"53.7\" d=\"M42.3 30.8 L12.6 30.8 Q12.8 33.8 13.9 36.45 Q15 39.1 16.9 41.1 Q18.8 43.1 21.45 44.25 Q24.1 45.4 27.4 45.4 Q30.6 45.4 33.25 44.25 Q35.9 43.1 37.85 41.15 Q39.8 39.2 40.95 36.5 Q42.1 33.8 42.3 30.8 ZM50.5 16.4 L42.1 16.4 Q41 11.3 37.55 8.8 Q34.1 6.3 28.7 6.3 Q24.5 6.3 21.4 7.7 Q18.3 9.1 16.3 11.45 Q14.3 13.8 13.4 16.85 Q12.5 19.9 12.6 23.3 L51.3 23.3 Q51.5 28 50.45 33.2 Q49.4 38.4 46.65 42.8 Q43.9 47.2 39.35 50.05 Q34.8 52.9 27.9 52.9 Q22.6 52.9 18.15 50.9 Q13.7 48.9 10.45 45.3 Q7.2 41.7 5.4 36.8 Q3.6 31.9 3.6 26 Q3.8 20.1 5.35 15.1 Q6.9 10.1 10 6.5 Q13.1 2.9 17.65 0.9 Q22.2 -1.1 28.4 -1.1 Q37.2 -1.1 43 3.3 Q48.8 7.7 50.5 16.4 Z\"\n",
       "        /><glyph unicode=\"r\" horiz-adv-x=\"33.3\" d=\"M6.1 51.7 L6.1 0 L14.6 0 L14.6 23 Q14.6 28 15.6 31.85 Q16.6 35.7 18.8 38.4 Q21 41.1 24.6 42.5 Q28.2 43.9 33.3 43.9 L33.3 52.9 Q26.4 53.1 21.9 50.1 Q17.4 47.1 14.3 40.8 L14.1 40.8 L14.1 51.7 Z\"\n",
       "        /><glyph unicode=\"f\" horiz-adv-x=\"29.6\" d=\"M9.9 44.2 L9.9 0 L18.4 0 L18.4 44.2 L28.4 44.2 L28.4 51.7 L18.4 51.7 L18.4 58.9 Q18.4 62.3 20.1 63.5 Q21.8 64.7 24.9 64.7 Q26 64.7 27.3 64.55 Q28.6 64.4 29.7 64 L29.7 71.4 Q28.5 71.8 26.95 72 Q25.4 72.2 24.2 72.2 Q17.2 72.2 13.55 68.95 Q9.9 65.7 9.9 59.4 L9.9 51.7 L1.2 51.7 L1.2 44.2 Z\"\n",
       "        /><glyph unicode=\" \" horiz-adv-x=\"27.8\" d=\"\"\n",
       "        /><glyph unicode=\"n\" horiz-adv-x=\"55.6\" d=\"M6.4 51.7 L6.4 0 L14.9 0 L14.9 29.2 Q14.9 32.7 15.85 35.65 Q16.8 38.6 18.7 40.8 Q20.6 43 23.45 44.2 Q26.3 45.4 30.2 45.4 Q35.1 45.4 37.9 42.6 Q40.7 39.8 40.7 35 L40.7 0 L49.2 0 L49.2 34 Q49.2 38.2 48.35 41.65 Q47.5 45.1 45.4 47.6 Q43.3 50.1 39.9 51.5 Q36.5 52.9 31.4 52.9 Q19.9 52.9 14.6 43.5 L14.4 43.5 L14.4 51.7 Z\"\n",
       "        /><glyph unicode=\"i\" horiz-adv-x=\"22.2\" d=\"M15.4 61 L15.4 71.4 L6.9 71.4 L6.9 61 ZM6.9 51.7 L6.9 0 L15.4 0 L15.4 51.7 Z\"\n",
       "        /><glyph unicode=\"d\" horiz-adv-x=\"59.3\" d=\"M12.6 25.4 Q12.6 29.2 13.4 32.8 Q14.2 36.4 16 39.2 Q17.8 42 20.8 43.7 Q23.8 45.4 28.1 45.4 Q32.5 45.4 35.6 43.75 Q38.7 42.1 40.65 39.4 Q42.6 36.7 43.5 33.15 Q44.4 29.6 44.4 25.8 Q44.4 22.2 43.55 18.7 Q42.7 15.2 40.8 12.45 Q38.9 9.7 35.9 8 Q32.9 6.3 28.6 6.3 Q24.5 6.3 21.45 7.9 Q18.4 9.5 16.45 12.2 Q14.5 14.9 13.55 18.35 Q12.6 21.8 12.6 25.4 ZM52.6 0 L52.6 71.4 L44.1 71.4 L44.1 44.8 L43.9 44.8 Q42.5 47.1 40.45 48.65 Q38.4 50.2 36.1 51.15 Q33.8 52.1 31.5 52.5 Q29.2 52.9 27.2 52.9 Q21.3 52.9 16.85 50.75 Q12.4 48.6 9.45 44.95 Q6.5 41.3 5.05 36.4 Q3.6 31.5 3.6 26 Q3.6 20.5 5.1 15.6 Q6.6 10.7 9.55 7 Q12.5 3.3 16.95 1.1 Q21.4 -1.1 27.4 -1.1 Q32.8 -1.1 37.3 0.8 Q41.8 2.7 43.9 7 L44.1 7 L44.1 0 Z\"\n",
       "        /><glyph unicode=\"a\" horiz-adv-x=\"53.7\" d=\"M52.2 0.2 Q50 -1.1 46.1 -1.1 Q42.8 -1.1 40.85 0.75 Q38.9 2.6 38.9 6.8 Q35.4 2.6 30.75 0.75 Q26.1 -1.1 20.7 -1.1 Q17.2 -1.1 14.05 -0.3 Q10.9 0.5 8.6 2.2 Q6.3 3.9 4.95 6.65 Q3.6 9.4 3.6 13.3 Q3.6 17.7 5.1 20.5 Q6.6 23.3 9.05 25.05 Q11.5 26.8 14.65 27.7 Q17.8 28.6 21.1 29.2 Q24.6 29.9 27.75 30.25 Q30.9 30.6 33.3 31.25 Q35.7 31.9 37.1 33.15 Q38.5 34.4 38.5 36.8 Q38.5 39.6 37.45 41.3 Q36.4 43 34.75 43.9 Q33.1 44.8 31.05 45.1 Q29 45.4 27 45.4 Q21.6 45.4 18 43.35 Q14.4 41.3 14.1 35.6 L5.6 35.6 Q5.8 40.4 7.6 43.7 Q9.4 47 12.4 49.05 Q15.4 51.1 19.25 52 Q23.1 52.9 27.5 52.9 Q31 52.9 34.45 52.4 Q37.9 51.9 40.7 50.35 Q43.5 48.8 45.2 46 Q46.9 43.2 46.9 38.7 L46.9 12.1 Q46.9 9.1 47.25 7.7 Q47.6 6.3 49.6 6.3 Q50.7 6.3 52.2 6.8 ZM38.4 26.7 Q36.8 25.5 34.2 24.95 Q31.6 24.4 28.75 24.05 Q25.9 23.7 23 23.25 Q20.1 22.8 17.8 21.8 Q15.5 20.8 14.05 18.95 Q12.6 17.1 12.6 13.9 Q12.6 11.8 13.45 10.35 Q14.3 8.9 15.65 8 Q17 7.1 18.8 6.7 Q20.6 6.3 22.6 6.3 Q26.8 6.3 29.8 7.45 Q32.8 8.6 34.7 10.35 Q36.6 12.1 37.5 14.15 Q38.4 16.2 38.4 18 Z\"\n",
       "        /><glyph unicode=\"R\" horiz-adv-x=\"68.5\" d=\"M7.8 71.4 L7.8 0 L17.3 0 L17.3 30.5 L40.5 30.5 Q44 30.5 46.1 29.45 Q48.2 28.4 49.5 26.65 Q50.8 24.9 51.4 22.55 Q52 20.2 52.4 17.6 Q52.9 15 53 12.3 Q53.1 9.6 53.2 7.25 Q53.3 4.9 53.65 3 Q54 1.1 55 0 L65.6 0 Q64.1 1.8 63.35 4.15 Q62.6 6.5 62.2 9.1 Q61.8 11.7 61.7 14.4 Q61.6 17.1 61.4 19.7 Q61.1 22.3 60.55 24.7 Q60 27.1 58.85 29.05 Q57.7 31 55.75 32.4 Q53.8 33.8 50.7 34.4 L50.7 34.6 Q57.2 36.4 60.15 41.3 Q63.1 46.2 63.1 52.7 Q63.1 61.4 57.35 66.4 Q51.6 71.4 41.4 71.4 ZM37.1 38.5 L17.3 38.5 L17.3 63.4 L40.9 63.4 Q47.6 63.4 50.6 60 Q53.6 56.6 53.6 51.2 Q53.6 47.3 52.25 44.85 Q50.9 42.4 48.65 40.95 Q46.4 39.5 43.4 39 Q40.4 38.5 37.1 38.5 Z\"\n",
       "        /><glyph unicode=\".\" horiz-adv-x=\"27.8\" d=\"M8.3 11.1 L8.3 0 L19.4 0 L19.4 11.1 Z\"\n",
       "        /><glyph unicode=\"6\" horiz-adv-x=\"55.6\" d=\"M41.4 52.8 L49.9 52.8 Q49.1 61.6 43.9 66.25 Q38.7 70.9 29.9 70.9 Q22.3 70.9 17.3 67.7 Q12.3 64.5 9.3 59.2 Q6.3 53.9 5.05 47.05 Q3.8 40.2 3.8 32.9 Q3.8 27.3 4.65 21.3 Q5.5 15.3 8.1 10.3 Q10.7 5.3 15.5 2.1 Q20.3 -1.1 28.2 -1.1 Q34.9 -1.1 39.45 1.15 Q44 3.4 46.75 6.85 Q49.5 10.3 50.7 14.5 Q51.9 18.7 51.9 22.6 Q51.9 27.5 50.4 31.7 Q48.9 35.9 46.15 39 Q43.4 42.1 39.35 43.85 Q35.3 45.6 30.2 45.6 Q24.4 45.6 19.95 43.4 Q15.5 41.2 12.5 36.3 L12.3 36.5 Q12.4 40.6 13.1 45.3 Q13.8 50 15.65 54.05 Q17.5 58.1 20.8 60.75 Q24.1 63.4 29.5 63.4 Q34.6 63.4 37.7 60.5 Q40.8 57.6 41.4 52.8 ZM28.6 38.1 Q32.2 38.1 34.9 36.8 Q37.6 35.5 39.4 33.35 Q41.2 31.2 42.05 28.25 Q42.9 25.3 42.9 22 Q42.9 18.9 41.95 16.05 Q41 13.2 39.2 11 Q37.4 8.8 34.75 7.55 Q32.1 6.3 28.6 6.3 Q25.1 6.3 22.35 7.55 Q19.6 8.8 17.75 10.9 Q15.9 13 14.9 15.9 Q13.9 18.8 13.9 22.1 Q13.9 25.4 14.85 28.35 Q15.8 31.3 17.7 33.45 Q19.6 35.6 22.3 36.85 Q25 38.1 28.6 38.1 Z\"\n",
       "        /><glyph unicode=\"8\" horiz-adv-x=\"55.6\" d=\"M15.5 52.5 Q15.5 55.2 16.5 57.2 Q17.5 59.2 19.15 60.6 Q20.8 62 23.1 62.7 Q25.4 63.4 27.9 63.4 Q33.1 63.4 36.45 60.65 Q39.8 57.9 39.8 52.5 Q39.8 47.1 36.5 44.1 Q33.2 41.1 28.1 41.1 Q25.5 41.1 23.2 41.8 Q20.9 42.5 19.2 43.9 Q17.5 45.3 16.5 47.45 Q15.5 49.6 15.5 52.5 ZM6.5 52.8 Q6.5 48 9.2 43.95 Q11.9 39.9 16.4 38.1 Q10.4 36 7.2 31.35 Q4 26.7 4 20.4 Q4 15 5.85 10.95 Q7.7 6.9 10.95 4.2 Q14.2 1.5 18.6 0.2 Q23 -1.1 28.1 -1.1 Q33 -1.1 37.3 0.3 Q41.6 1.7 44.75 4.45 Q47.9 7.2 49.75 11.2 Q51.6 15.2 51.6 20.4 Q51.6 27 48.5 31.55 Q45.4 36.1 39 38.1 Q43.5 40.1 46.15 44.05 Q48.8 48 48.8 52.8 Q48.8 56.2 47.6 59.45 Q46.4 62.7 43.85 65.25 Q41.3 67.8 37.2 69.35 Q33.1 70.9 27.3 70.9 Q23.2 70.9 19.45 69.7 Q15.7 68.5 12.8 66.2 Q9.9 63.9 8.2 60.55 Q6.5 57.2 6.5 52.8 ZM13 20 Q13 23.1 14.15 25.6 Q15.3 28.1 17.35 29.9 Q19.4 31.7 22.15 32.65 Q24.9 33.6 28 33.6 Q31 33.6 33.65 32.55 Q36.3 31.5 38.3 29.7 Q40.3 27.9 41.45 25.45 Q42.6 23 42.6 20.1 Q42.6 17.1 41.55 14.6 Q40.5 12.1 38.55 10.25 Q36.6 8.4 33.95 7.35 Q31.3 6.3 28.1 6.3 Q21.5 6.3 17.25 9.95 Q13 13.6 13 20 Z\"\n",
       "        /><glyph unicode=\"t\" horiz-adv-x=\"31.5\" d=\"M18.2 51.7 L18.2 67.2 L9.7 67.2 L9.7 51.7 L0.9 51.7 L0.9 44.2 L9.7 44.2 L9.7 11.3 Q9.7 7.7 10.4 5.5 Q11.1 3.3 12.55 2.1 Q14 0.9 16.35 0.45 Q18.7 0 22 0 L28.5 0 L28.5 7.5 L24.6 7.5 Q22.6 7.5 21.35 7.65 Q20.1 7.8 19.4 8.3 Q18.7 8.8 18.45 9.7 Q18.2 10.6 18.2 12.1 L18.2 44.2 L28.5 44.2 L28.5 51.7 Z\"\n",
       "        /><glyph unicode=\"o\" horiz-adv-x=\"57.4\" d=\"M12.6 25.8 Q12.6 30.5 13.85 34.15 Q15.1 37.8 17.3 40.3 Q19.5 42.8 22.45 44.1 Q25.4 45.4 28.7 45.4 Q32 45.4 34.95 44.1 Q37.9 42.8 40.1 40.3 Q42.3 37.8 43.55 34.15 Q44.8 30.5 44.8 25.8 Q44.8 21.1 43.55 17.45 Q42.3 13.8 40.1 11.35 Q37.9 8.9 34.95 7.6 Q32 6.3 28.7 6.3 Q25.4 6.3 22.45 7.6 Q19.5 8.9 17.3 11.35 Q15.1 13.8 13.85 17.45 Q12.6 21.1 12.6 25.8 ZM3.6 25.8 Q3.6 20.1 5.2 15.2 Q6.8 10.3 10 6.65 Q13.2 3 17.9 0.95 Q22.6 -1.1 28.7 -1.1 Q34.9 -1.1 39.55 0.95 Q44.2 3 47.4 6.65 Q50.6 10.3 52.2 15.2 Q53.8 20.1 53.8 25.8 Q53.8 31.5 52.2 36.45 Q50.6 41.4 47.4 45.05 Q44.2 48.7 39.55 50.8 Q34.9 52.9 28.7 52.9 Q22.6 52.9 17.9 50.8 Q13.2 48.7 10 45.05 Q6.8 41.4 5.2 36.45 Q3.6 31.5 3.6 25.8 Z\"\n",
       "        /><glyph unicode=\"V\" horiz-adv-x=\"61.1\" d=\"M35.9 0 L61.3 71.4 L51.4 71.4 L30.8 9.5 L30.6 9.5 L10.2 71.4 L0 71.4 L25.1 0 Z\"\n",
       "        /><glyph unicode=\"|\" horiz-adv-x=\"22.2\" d=\"M7.7 78.6 L7.7 -21.3 L14.5 -21.3 L14.5 78.6 Z\"\n",
       "      /></font\n",
       "      ><font horiz-adv-x=\"50.0\" id=\"font2\"\n",
       "      ><font-face ascent=\"97.5\" descent=\"21.699999\" units-per-em=\"100\" style=\"font-style:normal; font-family:Helvetica Neue; font-weight:bold;\"\n",
       "        /><missing-glyph horiz-adv-x=\"50.0\" d=\"M39.1 60.7 L11.1 60.7 L11.1 9.5 L39.1 9.5 ZM48.2 69.8 L48.2 0.3 L1.7 0.3 L1.7 69.8 Z\"\n",
       "        /><glyph unicode=\"y\" horiz-adv-x=\"51.9\" d=\"M30.9 -6.4 L52.5 51.7 L37.8 51.7 L26.5 16.3 L26.3 16.3 L14.6 51.7 L-0.5 51.7 L17.6 3.2 Q18.2 1.7 18.2 0 Q18.2 -2.3 16.85 -4.2 Q15.5 -6.1 12.7 -6.4 Q10.6 -6.5 8.5 -6.3 Q6.4 -6.1 4.4 -5.9 L4.4 -17.6 Q6.6 -17.8 8.75 -17.95 Q10.9 -18.1 13.1 -18.1 Q20.4 -18.1 24.5 -15.4 Q28.6 -12.7 30.9 -6.4 Z\"\n",
       "        /><glyph unicode=\"c\" horiz-adv-x=\"57.4\" d=\"M40.6 33.5 L54.5 33.5 Q54.2 38.5 52.1 42.15 Q50 45.8 46.65 48.25 Q43.3 50.7 39.05 51.9 Q34.8 53.1 30.2 53.1 Q23.9 53.1 19 51 Q14.1 48.9 10.7 45.15 Q7.3 41.4 5.55 36.25 Q3.8 31.1 3.8 25.1 Q3.8 19.3 5.7 14.45 Q7.6 9.6 11 6.1 Q14.4 2.6 19.25 0.65 Q24.1 -1.3 29.9 -1.3 Q40.2 -1.3 46.8 4.1 Q53.4 9.5 54.8 19.8 L41.1 19.8 Q40.4 15 37.65 12.15 Q34.9 9.3 29.8 9.3 Q26.5 9.3 24.2 10.8 Q21.9 12.3 20.55 14.65 Q19.2 17 18.6 19.9 Q18 22.8 18 25.6 Q18 28.5 18.6 31.45 Q19.2 34.4 20.65 36.85 Q22.1 39.3 24.4 40.85 Q26.7 42.4 30.1 42.4 Q39.2 42.4 40.6 33.5 Z\"\n",
       "        /><glyph unicode=\"q\" horiz-adv-x=\"61.1\" d=\"M17.4 25.8 Q17.4 29 18.05 31.95 Q18.7 34.9 20.2 37.25 Q21.7 39.6 24.1 41 Q26.5 42.4 30 42.4 Q33.3 42.4 35.65 40.9 Q38 39.4 39.4 37 Q40.8 34.6 41.45 31.6 Q42.1 28.6 42.1 25.6 Q42.1 22.4 41.45 19.45 Q40.8 16.5 39.35 14.25 Q37.9 12 35.55 10.65 Q33.2 9.3 29.7 9.3 Q26.2 9.3 23.85 10.7 Q21.5 12.1 20.05 14.45 Q18.6 16.8 18 19.75 Q17.4 22.7 17.4 25.8 ZM55.8 -18.1 L55.8 51.7 L42.3 51.7 L42.3 45.1 L42.1 45.1 Q39.7 49.4 35.45 51.25 Q31.2 53.1 26.4 53.1 Q20.5 53.1 16.15 50.8 Q11.8 48.5 8.9 44.65 Q6 40.8 4.6 35.8 Q3.2 30.8 3.2 25.5 Q3.2 18 5.3 12.85 Q7.4 7.7 10.6 4.55 Q13.8 1.4 17.65 0.05 Q21.5 -1.3 25.1 -1.3 Q29.9 -1.3 34.4 0.5 Q38.9 2.3 41.4 6.5 L41.6 6.5 L41.6 -18.1 Z\"\n",
       "        /><glyph unicode=\"r\" horiz-adv-x=\"38.9\" d=\"M5.4 51.7 L5.4 0 L19.6 0 L19.6 23.3 Q19.6 26.8 20.3 29.8 Q21 32.8 22.65 35.05 Q24.3 37.3 27 38.6 Q29.7 39.9 33.6 39.9 Q34.9 39.9 36.3 39.75 Q37.7 39.6 38.7 39.4 L38.7 52.6 Q37 53.1 35.6 53.1 Q32.9 53.1 30.4 52.3 Q27.9 51.5 25.7 50.05 Q23.5 48.6 21.8 46.55 Q20.1 44.5 19.1 42.1 L18.9 42.1 L18.9 51.7 Z\"\n",
       "        /><glyph unicode=\"F\" horiz-adv-x=\"59.3\" d=\"M6.9 71.4 L6.9 0 L22.6 0 L22.6 29.5 L52.5 29.5 L52.5 41.7 L22.6 41.7 L22.6 58.2 L57.1 58.2 L57.1 71.4 Z\"\n",
       "        /><glyph unicode=\"R\" horiz-adv-x=\"72.2\" d=\"M22.6 39.1 L22.6 59.2 L39.8 59.2 Q45.2 59.2 47.9 56.85 Q50.6 54.5 50.6 49.3 Q50.6 43.9 47.9 41.5 Q45.2 39.1 39.8 39.1 ZM6.9 71.4 L6.9 0 L22.6 0 L22.6 27.9 L38.3 27.9 Q44.2 27.9 46.8 25.3 Q49.4 22.7 50.2 17.1 Q50.8 12.8 51.1 8.1 Q51.4 3.4 52.7 0 L68.4 0 Q67.3 1.5 66.75 3.65 Q66.2 5.8 65.95 8.2 Q65.7 10.6 65.6 12.9 Q65.5 15.2 65.4 16.9 Q65.2 19.6 64.65 22.3 Q64.1 25 62.9 27.25 Q61.7 29.5 59.8 31.15 Q57.9 32.8 55 33.6 L55 33.8 Q61 36.2 63.65 40.8 Q66.3 45.4 66.3 51.7 Q66.3 55.8 64.85 59.35 Q63.4 62.9 60.65 65.6 Q57.9 68.3 54.05 69.85 Q50.2 71.4 45.4 71.4 Z\"\n",
       "        /><glyph unicode=\".\" horiz-adv-x=\"27.8\" d=\"M6 15.4 L6 0 L21.7 0 L21.7 15.4 Z\"\n",
       "        /><glyph unicode=\"s\" horiz-adv-x=\"53.7\" d=\"M16.4 16.8 L2.9 16.8 Q3.1 11.6 5.25 8.15 Q7.4 4.7 10.75 2.6 Q14.1 0.5 18.4 -0.4 Q22.7 -1.3 27.2 -1.3 Q31.6 -1.3 35.85 -0.45 Q40.1 0.4 43.4 2.5 Q46.7 4.6 48.75 8.05 Q50.8 11.5 50.8 16.6 Q50.8 20.2 49.4 22.65 Q48 25.1 45.7 26.75 Q43.4 28.4 40.45 29.4 Q37.5 30.4 34.4 31.1 Q31.4 31.8 28.5 32.4 Q25.6 33 23.35 33.75 Q21.1 34.5 19.7 35.7 Q18.3 36.9 18.3 38.8 Q18.3 40.4 19.1 41.35 Q19.9 42.3 21.05 42.8 Q22.2 43.3 23.6 43.45 Q25 43.6 26.2 43.6 Q30 43.6 32.8 42.15 Q35.6 40.7 35.9 36.6 L49.4 36.6 Q49 41.4 46.95 44.55 Q44.9 47.7 41.8 49.6 Q38.7 51.5 34.75 52.3 Q30.8 53.1 26.6 53.1 Q22.4 53.1 18.4 52.35 Q14.4 51.6 11.2 49.75 Q8 47.9 6.05 44.7 Q4.1 41.5 4.1 36.5 Q4.1 33.1 5.5 30.75 Q6.9 28.4 9.2 26.85 Q11.5 25.3 14.45 24.35 Q17.4 23.4 20.5 22.7 Q28.1 21.1 32.35 19.5 Q36.6 17.9 36.6 14.7 Q36.6 12.8 35.7 11.55 Q34.8 10.3 33.45 9.55 Q32.1 8.8 30.45 8.45 Q28.8 8.1 27.3 8.1 Q25.2 8.1 23.25 8.6 Q21.3 9.1 19.8 10.15 Q18.3 11.2 17.35 12.85 Q16.4 14.5 16.4 16.8 Z\"\n",
       "        /><glyph unicode=\"v\" horiz-adv-x=\"52.0\" d=\"M34 0 L51.5 51.7 L37.4 51.7 L26.5 16.4 L26.3 16.4 L15.4 51.7 L0.5 51.7 L18.2 0 Z\"\n",
       "        /><glyph unicode=\"/\" horiz-adv-x=\"37.1\" d=\"M26.8 73.1 L-1 -1.6 L10.3 -1.6 L38.2 73.1 Z\"\n",
       "        /><glyph unicode=\"o\" horiz-adv-x=\"61.1\" d=\"M18 25.8 Q18 28.9 18.6 31.9 Q19.2 34.9 20.65 37.2 Q22.1 39.5 24.5 40.95 Q26.9 42.4 30.5 42.4 Q34.1 42.4 36.55 40.95 Q39 39.5 40.45 37.2 Q41.9 34.9 42.5 31.9 Q43.1 28.9 43.1 25.8 Q43.1 22.7 42.5 19.75 Q41.9 16.8 40.45 14.45 Q39 12.1 36.55 10.7 Q34.1 9.3 30.5 9.3 Q26.9 9.3 24.5 10.7 Q22.1 12.1 20.65 14.45 Q19.2 16.8 18.6 19.75 Q18 22.7 18 25.8 ZM3.8 25.8 Q3.8 19.6 5.7 14.6 Q7.6 9.6 11.1 6.05 Q14.6 2.5 19.5 0.6 Q24.4 -1.3 30.5 -1.3 Q36.6 -1.3 41.55 0.6 Q46.5 2.5 50 6.05 Q53.5 9.6 55.4 14.6 Q57.3 19.6 57.3 25.8 Q57.3 32 55.4 37.05 Q53.5 42.1 50 45.65 Q46.5 49.2 41.55 51.15 Q36.6 53.1 30.5 53.1 Q24.4 53.1 19.5 51.15 Q14.6 49.2 11.1 45.65 Q7.6 42.1 5.7 37.05 Q3.8 32 3.8 25.8 Z\"\n",
       "        /><glyph unicode=\"V\" horiz-adv-x=\"63.0\" d=\"M40.1 0 L63.8 71.4 L47.6 71.4 L31.5 21.2 L31.3 21.2 L15.4 71.4 L-0.7 71.4 L22.4 0 Z\"\n",
       "        /><glyph unicode=\" \" horiz-adv-x=\"27.8\" d=\"\"\n",
       "        /><glyph unicode=\"e\" horiz-adv-x=\"57.4\" d=\"M40.2 31.4 L17.1 31.4 Q17.2 32.9 17.75 34.8 Q18.3 36.7 19.65 38.4 Q21 40.1 23.25 41.25 Q25.5 42.4 28.9 42.4 Q34.1 42.4 36.65 39.6 Q39.2 36.8 40.2 31.4 ZM17.1 22.4 L54.4 22.4 Q54.8 28.4 53.4 33.9 Q52 39.4 48.85 43.7 Q45.7 48 40.8 50.55 Q35.9 53.1 29.3 53.1 Q23.4 53.1 18.55 51 Q13.7 48.9 10.2 45.25 Q6.7 41.6 4.8 36.6 Q2.9 31.6 2.9 25.8 Q2.9 19.8 4.75 14.8 Q6.6 9.8 10 6.2 Q13.4 2.6 18.3 0.65 Q23.2 -1.3 29.3 -1.3 Q38.1 -1.3 44.3 2.7 Q50.5 6.7 53.5 16 L41 16 Q40.3 13.6 37.2 11.45 Q34.1 9.3 29.8 9.3 Q23.8 9.3 20.6 12.4 Q17.4 15.5 17.1 22.4 Z\"\n",
       "        /><glyph unicode=\"d\" horiz-adv-x=\"61.1\" d=\"M42.1 26 Q42.1 22.8 41.5 19.8 Q40.9 16.8 39.5 14.45 Q38.1 12.1 35.75 10.7 Q33.4 9.3 29.9 9.3 Q26.6 9.3 24.25 10.75 Q21.9 12.2 20.35 14.55 Q18.8 16.9 18.1 19.9 Q17.4 22.9 17.4 25.9 Q17.4 29.1 18.05 32.05 Q18.7 35 20.15 37.3 Q21.6 39.6 24 41 Q26.4 42.4 29.9 42.4 Q33.4 42.4 35.7 41 Q38 39.6 39.45 37.35 Q40.9 35.1 41.5 32.15 Q42.1 29.2 42.1 26 ZM42.3 6.6 L42.3 0 L55.8 0 L55.8 71.4 L41.6 71.4 L41.6 45.4 L41.4 45.4 Q39 49.2 34.85 51.15 Q30.7 53.1 26.1 53.1 Q20.4 53.1 16.1 50.85 Q11.8 48.6 8.95 44.9 Q6.1 41.2 4.65 36.35 Q3.2 31.5 3.2 26.3 Q3.2 20.9 4.65 15.9 Q6.1 10.9 8.95 7.05 Q11.8 3.2 16.2 0.95 Q20.6 -1.3 26.4 -1.3 Q31.5 -1.3 35.55 0.55 Q39.6 2.4 42.1 6.6 Z\"\n",
       "        /><glyph unicode=\"u\" horiz-adv-x=\"59.3\" d=\"M53.9 0 L53.9 51.7 L39.7 51.7 L39.7 24.6 Q39.7 16.7 37.1 13.25 Q34.5 9.8 28.7 9.8 Q23.6 9.8 21.6 12.95 Q19.6 16.1 19.6 22.5 L19.6 51.7 L5.4 51.7 L5.4 19.9 Q5.4 15.1 6.25 11.15 Q7.1 7.2 9.2 4.45 Q11.3 1.7 14.95 0.2 Q18.6 -1.3 24.3 -1.3 Q28.8 -1.3 33.1 0.7 Q37.4 2.7 40.1 7.2 L40.4 7.2 L40.4 0 Z\"\n",
       "        /><glyph unicode=\"t\" horiz-adv-x=\"35.2\" d=\"M23.4 51.7 L23.4 67.2 L9.2 67.2 L9.2 51.7 L0.6 51.7 L0.6 42.2 L9.2 42.2 L9.2 11.7 Q9.2 7.8 10.5 5.4 Q11.8 3 14.05 1.7 Q16.3 0.4 19.25 -0.05 Q22.2 -0.5 25.5 -0.5 Q27.6 -0.5 29.8 -0.4 Q32 -0.3 33.8 0 L33.8 11 Q32.8 10.8 31.7 10.7 Q30.6 10.6 29.4 10.6 Q25.8 10.6 24.6 11.8 Q23.4 13 23.4 16.6 L23.4 42.2 L33.8 42.2 L33.8 51.7 Z\"\n",
       "        /><glyph unicode=\"i\" horiz-adv-x=\"25.8\" d=\"M20 59.7 L20 71.4 L5.8 71.4 L5.8 59.7 ZM5.8 51.7 L5.8 0 L20 0 L20 51.7 Z\"\n",
       "        /><glyph unicode=\"n\" horiz-adv-x=\"59.3\" d=\"M5.4 51.7 L5.4 0 L19.6 0 L19.6 27.1 Q19.6 35 22.2 38.45 Q24.8 41.9 30.6 41.9 Q35.7 41.9 37.7 38.75 Q39.7 35.6 39.7 29.2 L39.7 0 L53.9 0 L53.9 31.8 Q53.9 36.6 53.05 40.55 Q52.2 44.5 50.1 47.25 Q48 50 44.35 51.55 Q40.7 53.1 35 53.1 Q30.5 53.1 26.2 51.05 Q21.9 49 19.2 44.5 L18.9 44.5 L18.9 51.7 Z\"\n",
       "        /><glyph unicode=\"g\" horiz-adv-x=\"61.1\" d=\"M29.5 12.2 Q26.2 12.2 24 13.6 Q21.8 15 20.45 17.2 Q19.1 19.4 18.55 22.15 Q18 24.9 18 27.7 Q18 30.6 18.65 33.25 Q19.3 35.9 20.75 37.95 Q22.2 40 24.35 41.2 Q26.5 42.4 29.5 42.4 Q33 42.4 35.3 41.1 Q37.6 39.8 39 37.6 Q40.4 35.4 41 32.55 Q41.6 29.7 41.6 26.5 Q41.6 23.7 40.85 21.15 Q40.1 18.6 38.6 16.6 Q37.1 14.6 34.8 13.4 Q32.5 12.2 29.5 12.2 ZM55.1 3.3 L55.1 51.7 L41.6 51.7 L41.6 44.8 L41.4 44.8 Q38.8 49.3 34.95 51.2 Q31.1 53.1 26 53.1 Q20.6 53.1 16.45 51 Q12.3 48.9 9.5 45.35 Q6.7 41.8 5.25 37.15 Q3.8 32.5 3.8 27.5 Q3.8 22.2 5.05 17.45 Q6.3 12.7 9 9.15 Q11.7 5.6 15.9 3.55 Q20.1 1.5 25.9 1.5 Q30.6 1.5 34.85 3.45 Q39.1 5.4 41.4 9.5 L41.6 9.5 L41.6 2.7 Q41.7 -2.8 38.95 -6.4 Q36.2 -10 30.2 -10 Q26.4 -10 23.5 -8.45 Q20.6 -6.9 19.6 -2.9 L5.5 -2.9 Q5.8 -7.3 7.95 -10.45 Q10.1 -13.6 13.35 -15.6 Q16.6 -17.6 20.55 -18.55 Q24.5 -19.5 28.3 -19.5 Q37.2 -19.5 42.5 -17.1 Q47.8 -14.7 50.6 -11.25 Q53.4 -7.8 54.25 -3.8 Q55.1 0.2 55.1 3.3 Z\"\n",
       "        /><glyph unicode=\"a\" horiz-adv-x=\"57.4\" d=\"M4.8 35.8 Q5.1 40.8 7.3 44.1 Q9.5 47.4 12.9 49.4 Q16.3 51.4 20.55 52.25 Q24.8 53.1 29.1 53.1 Q33 53.1 37 52.55 Q41 52 44.3 50.4 Q47.6 48.8 49.7 45.95 Q51.8 43.1 51.8 38.4 L51.8 11.5 Q51.8 8 52.2 4.8 Q52.6 1.6 53.6 0 L39.2 0 Q38.8 1.2 38.55 2.45 Q38.3 3.7 38.2 5 Q34.8 1.5 30.2 0.1 Q25.6 -1.3 20.8 -1.3 Q17.1 -1.3 13.9 -0.4 Q10.7 0.5 8.3 2.4 Q5.9 4.3 4.55 7.2 Q3.2 10.1 3.2 14.1 Q3.2 18.5 4.75 21.35 Q6.3 24.2 8.75 25.9 Q11.2 27.6 14.35 28.45 Q17.5 29.3 20.7 29.8 Q23.9 30.3 27 30.6 Q30.1 30.9 32.5 31.5 Q34.9 32.1 36.3 33.25 Q37.7 34.4 37.6 36.6 Q37.6 38.9 36.85 40.25 Q36.1 41.6 34.85 42.35 Q33.6 43.1 31.95 43.35 Q30.3 43.6 28.4 43.6 Q24.2 43.6 21.8 41.8 Q19.4 40 19 35.8 ZM37.6 25.3 Q36.7 24.5 35.35 24.05 Q34 23.6 32.45 23.3 Q30.9 23 29.2 22.8 Q27.5 22.6 25.8 22.3 Q24.2 22 22.65 21.5 Q21.1 21 19.95 20.15 Q18.8 19.3 18.1 18 Q17.4 16.7 17.4 14.7 Q17.4 12.8 18.1 11.5 Q18.8 10.2 20 9.45 Q21.2 8.7 22.8 8.4 Q24.4 8.1 26.1 8.1 Q30.3 8.1 32.6 9.5 Q34.9 10.9 36 12.85 Q37.1 14.8 37.35 16.8 Q37.6 18.8 37.6 20 Z\"\n",
       "        /><glyph unicode=\"M\" horiz-adv-x=\"90.7\" d=\"M6.9 71.4 L6.9 0 L21.6 0 L21.6 50.1 L21.8 50.1 L39.3 0 L51.4 0 L68.9 50.6 L69.1 50.6 L69.1 0 L83.8 0 L83.8 71.4 L61.7 71.4 L45.9 22.3 L45.7 22.3 L29 71.4 Z\"\n",
       "      /></font\n",
       "    ></defs\n",
       "    ><g style=\"fill:white; stroke:white;\"\n",
       "    ><rect x=\"0\" y=\"0\" width=\"560\" style=\"clip-path:url(#clipPath1); stroke:none;\" height=\"420\"\n",
       "    /></g\n",
       "    ><g style=\"fill:white; text-rendering:optimizeSpeed; color-rendering:optimizeSpeed; image-rendering:optimizeSpeed; shape-rendering:crispEdges; stroke:white; color-interpolation:sRGB;\"\n",
       "    ><rect x=\"0\" width=\"560\" height=\"420\" y=\"0\" style=\"stroke:none;\"\n",
       "      /><path style=\"stroke:none;\" d=\"M73 374 L507 374 L507 31 L73 31 Z\"\n",
       "    /></g\n",
       "    ><g style=\"fill-opacity:0.251; color-rendering:optimizeQuality; color-interpolation:linearRGB; text-rendering:geometricPrecision; stroke:rgb(26,26,26); stroke-linecap:butt; stroke-miterlimit:1; stroke-opacity:0.251; fill:rgb(26,26,26); stroke-dasharray:1,3; stroke-width:0.5; stroke-linejoin:bevel; image-rendering:optimizeQuality;\"\n",
       "    ><line y2=\"31\" style=\"fill:none;\" x1=\"105.6618\" x2=\"105.6618\" y1=\"374\"\n",
       "      /><line y2=\"31\" style=\"fill:none;\" x1=\"124.7677\" x2=\"124.7677\" y1=\"374\"\n",
       "      /><line y2=\"31\" style=\"fill:none;\" x1=\"138.3235\" x2=\"138.3235\" y1=\"374\"\n",
       "      /><line y2=\"31\" style=\"fill:none;\" x1=\"148.8382\" x2=\"148.8382\" y1=\"374\"\n",
       "      /><line y2=\"31\" style=\"fill:none;\" x1=\"157.4294\" x2=\"157.4294\" y1=\"374\"\n",
       "      /><line y2=\"31\" style=\"fill:none;\" x1=\"164.6931\" x2=\"164.6931\" y1=\"374\"\n",
       "      /><line y2=\"31\" style=\"fill:none;\" x1=\"170.9853\" x2=\"170.9853\" y1=\"374\"\n",
       "      /><line y2=\"31\" style=\"fill:none;\" x1=\"176.5353\" x2=\"176.5353\" y1=\"374\"\n",
       "      /><line y2=\"31\" style=\"fill:none;\" x1=\"214.1618\" x2=\"214.1618\" y1=\"374\"\n",
       "      /><line y2=\"31\" style=\"fill:none;\" x1=\"233.2677\" x2=\"233.2677\" y1=\"374\"\n",
       "      /><line y2=\"31\" style=\"fill:none;\" x1=\"246.8235\" x2=\"246.8235\" y1=\"374\"\n",
       "      /><line y2=\"31\" style=\"fill:none;\" x1=\"257.3382\" x2=\"257.3382\" y1=\"374\"\n",
       "      /><line y2=\"31\" style=\"fill:none;\" x1=\"265.9294\" x2=\"265.9294\" y1=\"374\"\n",
       "      /><line y2=\"31\" style=\"fill:none;\" x1=\"273.1931\" x2=\"273.1931\" y1=\"374\"\n",
       "      /><line y2=\"31\" style=\"fill:none;\" x1=\"279.4853\" x2=\"279.4853\" y1=\"374\"\n",
       "      /><line y2=\"31\" style=\"fill:none;\" x1=\"285.0353\" x2=\"285.0353\" y1=\"374\"\n",
       "      /><line y2=\"31\" style=\"fill:none;\" x1=\"322.6617\" x2=\"322.6617\" y1=\"374\"\n",
       "      /><line y2=\"31\" style=\"fill:none;\" x1=\"341.7677\" x2=\"341.7677\" y1=\"374\"\n",
       "      /><line y2=\"31\" style=\"fill:none;\" x1=\"355.3235\" x2=\"355.3235\" y1=\"374\"\n",
       "      /><line y2=\"31\" style=\"fill:none;\" x1=\"365.8383\" x2=\"365.8383\" y1=\"374\"\n",
       "      /><line y2=\"31\" style=\"fill:none;\" x1=\"374.4294\" x2=\"374.4294\" y1=\"374\"\n",
       "      /><line y2=\"31\" style=\"fill:none;\" x1=\"381.6931\" x2=\"381.6931\" y1=\"374\"\n",
       "      /><line y2=\"31\" style=\"fill:none;\" x1=\"387.9853\" x2=\"387.9853\" y1=\"374\"\n",
       "      /><line y2=\"31\" style=\"fill:none;\" x1=\"393.5353\" x2=\"393.5353\" y1=\"374\"\n",
       "      /><line y2=\"31\" style=\"fill:none;\" x1=\"431.1617\" x2=\"431.1617\" y1=\"374\"\n",
       "      /><line y2=\"31\" style=\"fill:none;\" x1=\"450.2677\" x2=\"450.2677\" y1=\"374\"\n",
       "      /><line y2=\"31\" style=\"fill:none;\" x1=\"463.8235\" x2=\"463.8235\" y1=\"374\"\n",
       "      /><line y2=\"31\" style=\"fill:none;\" x1=\"474.3383\" x2=\"474.3383\" y1=\"374\"\n",
       "      /><line y2=\"31\" style=\"fill:none;\" x1=\"482.9294\" x2=\"482.9294\" y1=\"374\"\n",
       "      /><line y2=\"31\" style=\"fill:none;\" x1=\"490.1931\" x2=\"490.1931\" y1=\"374\"\n",
       "      /><line y2=\"31\" style=\"fill:none;\" x1=\"496.4853\" x2=\"496.4853\" y1=\"374\"\n",
       "      /><line y2=\"31\" style=\"fill:none;\" x1=\"502.0353\" x2=\"502.0353\" y1=\"374\"\n",
       "    /></g\n",
       "    ><g style=\"stroke-linecap:butt; fill-opacity:0.149; fill:rgb(38,38,38); text-rendering:geometricPrecision; image-rendering:optimizeQuality; color-rendering:optimizeQuality; stroke-linejoin:round; stroke:rgb(38,38,38); color-interpolation:linearRGB; stroke-width:0.5; stroke-opacity:0.149;\"\n",
       "    ><line y2=\"31\" style=\"fill:none;\" x1=\"73\" x2=\"73\" y1=\"374\"\n",
       "      /><line y2=\"31\" style=\"fill:none;\" x1=\"181.5\" x2=\"181.5\" y1=\"374\"\n",
       "      /><line y2=\"31\" style=\"fill:none;\" x1=\"290\" x2=\"290\" y1=\"374\"\n",
       "      /><line y2=\"31\" style=\"fill:none;\" x1=\"398.5\" x2=\"398.5\" y1=\"374\"\n",
       "      /><line y2=\"31\" style=\"fill:none;\" x1=\"507\" x2=\"507\" y1=\"374\"\n",
       "      /><line y2=\"374\" style=\"fill:none;\" x1=\"507\" x2=\"73\" y1=\"374\"\n",
       "      /><line y2=\"339.7\" style=\"fill:none;\" x1=\"507\" x2=\"73\" y1=\"339.7\"\n",
       "      /><line y2=\"305.4\" style=\"fill:none;\" x1=\"507\" x2=\"73\" y1=\"305.4\"\n",
       "      /><line y2=\"271.1\" style=\"fill:none;\" x1=\"507\" x2=\"73\" y1=\"271.1\"\n",
       "      /><line y2=\"236.8\" style=\"fill:none;\" x1=\"507\" x2=\"73\" y1=\"236.8\"\n",
       "      /><line y2=\"202.5\" style=\"fill:none;\" x1=\"507\" x2=\"73\" y1=\"202.5\"\n",
       "      /><line y2=\"168.2\" style=\"fill:none;\" x1=\"507\" x2=\"73\" y1=\"168.2\"\n",
       "      /><line y2=\"133.9\" style=\"fill:none;\" x1=\"507\" x2=\"73\" y1=\"133.9\"\n",
       "      /><line y2=\"99.6\" style=\"fill:none;\" x1=\"507\" x2=\"73\" y1=\"99.6\"\n",
       "      /><line y2=\"65.3\" style=\"fill:none;\" x1=\"507\" x2=\"73\" y1=\"65.3\"\n",
       "      /><line y2=\"31\" style=\"fill:none;\" x1=\"507\" x2=\"73\" y1=\"31\"\n",
       "      /><line x1=\"73\" x2=\"507\" y1=\"374\" style=\"stroke-linecap:square; fill-opacity:1; fill:none; stroke-opacity:1;\" y2=\"374\"\n",
       "      /><line x1=\"73\" x2=\"507\" y1=\"31\" style=\"stroke-linecap:square; fill-opacity:1; fill:none; stroke-opacity:1;\" y2=\"31\"\n",
       "      /><line x1=\"73\" x2=\"73\" y1=\"374\" style=\"stroke-linecap:square; fill-opacity:1; fill:none; stroke-opacity:1;\" y2=\"369.66\"\n",
       "      /><line x1=\"181.5\" x2=\"181.5\" y1=\"374\" style=\"stroke-linecap:square; fill-opacity:1; fill:none; stroke-opacity:1;\" y2=\"369.66\"\n",
       "      /><line x1=\"290\" x2=\"290\" y1=\"374\" style=\"stroke-linecap:square; fill-opacity:1; fill:none; stroke-opacity:1;\" y2=\"369.66\"\n",
       "      /><line x1=\"398.5\" x2=\"398.5\" y1=\"374\" style=\"stroke-linecap:square; fill-opacity:1; fill:none; stroke-opacity:1;\" y2=\"369.66\"\n",
       "      /><line x1=\"507\" x2=\"507\" y1=\"374\" style=\"stroke-linecap:square; fill-opacity:1; fill:none; stroke-opacity:1;\" y2=\"369.66\"\n",
       "      /><line x1=\"73\" x2=\"73\" y1=\"31\" style=\"stroke-linecap:square; fill-opacity:1; fill:none; stroke-opacity:1;\" y2=\"35.34\"\n",
       "      /><line x1=\"181.5\" x2=\"181.5\" y1=\"31\" style=\"stroke-linecap:square; fill-opacity:1; fill:none; stroke-opacity:1;\" y2=\"35.34\"\n",
       "      /><line x1=\"290\" x2=\"290\" y1=\"31\" style=\"stroke-linecap:square; fill-opacity:1; fill:none; stroke-opacity:1;\" y2=\"35.34\"\n",
       "      /><line x1=\"398.5\" x2=\"398.5\" y1=\"31\" style=\"stroke-linecap:square; fill-opacity:1; fill:none; stroke-opacity:1;\" y2=\"35.34\"\n",
       "      /><line x1=\"507\" x2=\"507\" y1=\"31\" style=\"stroke-linecap:square; fill-opacity:1; fill:none; stroke-opacity:1;\" y2=\"35.34\"\n",
       "      /><line x1=\"73\" x2=\"73\" y1=\"374\" style=\"stroke-linecap:square; fill-opacity:1; fill:none; stroke-opacity:1;\" y2=\"371.83\"\n",
       "      /><line x1=\"105.6618\" x2=\"105.6618\" y1=\"374\" style=\"stroke-linecap:square; fill-opacity:1; fill:none; stroke-opacity:1;\" y2=\"371.83\"\n",
       "      /><line x1=\"124.7677\" x2=\"124.7677\" y1=\"374\" style=\"stroke-linecap:square; fill-opacity:1; fill:none; stroke-opacity:1;\" y2=\"371.83\"\n",
       "      /><line x1=\"138.3235\" x2=\"138.3235\" y1=\"374\" style=\"stroke-linecap:square; fill-opacity:1; fill:none; stroke-opacity:1;\" y2=\"371.83\"\n",
       "      /><line x1=\"148.8382\" x2=\"148.8382\" y1=\"374\" style=\"stroke-linecap:square; fill-opacity:1; fill:none; stroke-opacity:1;\" y2=\"371.83\"\n",
       "      /><line x1=\"157.4294\" x2=\"157.4294\" y1=\"374\" style=\"stroke-linecap:square; fill-opacity:1; fill:none; stroke-opacity:1;\" y2=\"371.83\"\n",
       "      /><line x1=\"164.6931\" x2=\"164.6931\" y1=\"374\" style=\"stroke-linecap:square; fill-opacity:1; fill:none; stroke-opacity:1;\" y2=\"371.83\"\n",
       "      /><line x1=\"170.9853\" x2=\"170.9853\" y1=\"374\" style=\"stroke-linecap:square; fill-opacity:1; fill:none; stroke-opacity:1;\" y2=\"371.83\"\n",
       "      /><line x1=\"176.5353\" x2=\"176.5353\" y1=\"374\" style=\"stroke-linecap:square; fill-opacity:1; fill:none; stroke-opacity:1;\" y2=\"371.83\"\n",
       "      /><line x1=\"181.5\" x2=\"181.5\" y1=\"374\" style=\"stroke-linecap:square; fill-opacity:1; fill:none; stroke-opacity:1;\" y2=\"371.83\"\n",
       "      /><line x1=\"214.1618\" x2=\"214.1618\" y1=\"374\" style=\"stroke-linecap:square; fill-opacity:1; fill:none; stroke-opacity:1;\" y2=\"371.83\"\n",
       "      /><line x1=\"233.2677\" x2=\"233.2677\" y1=\"374\" style=\"stroke-linecap:square; fill-opacity:1; fill:none; stroke-opacity:1;\" y2=\"371.83\"\n",
       "      /><line x1=\"246.8235\" x2=\"246.8235\" y1=\"374\" style=\"stroke-linecap:square; fill-opacity:1; fill:none; stroke-opacity:1;\" y2=\"371.83\"\n",
       "      /><line x1=\"257.3382\" x2=\"257.3382\" y1=\"374\" style=\"stroke-linecap:square; fill-opacity:1; fill:none; stroke-opacity:1;\" y2=\"371.83\"\n",
       "      /><line x1=\"265.9294\" x2=\"265.9294\" y1=\"374\" style=\"stroke-linecap:square; fill-opacity:1; fill:none; stroke-opacity:1;\" y2=\"371.83\"\n",
       "      /><line x1=\"273.1931\" x2=\"273.1931\" y1=\"374\" style=\"stroke-linecap:square; fill-opacity:1; fill:none; stroke-opacity:1;\" y2=\"371.83\"\n",
       "      /><line x1=\"279.4853\" x2=\"279.4853\" y1=\"374\" style=\"stroke-linecap:square; fill-opacity:1; fill:none; stroke-opacity:1;\" y2=\"371.83\"\n",
       "      /><line x1=\"285.0353\" x2=\"285.0353\" y1=\"374\" style=\"stroke-linecap:square; fill-opacity:1; fill:none; stroke-opacity:1;\" y2=\"371.83\"\n",
       "      /><line x1=\"290\" x2=\"290\" y1=\"374\" style=\"stroke-linecap:square; fill-opacity:1; fill:none; stroke-opacity:1;\" y2=\"371.83\"\n",
       "      /><line x1=\"322.6617\" x2=\"322.6617\" y1=\"374\" style=\"stroke-linecap:square; fill-opacity:1; fill:none; stroke-opacity:1;\" y2=\"371.83\"\n",
       "      /><line x1=\"341.7677\" x2=\"341.7677\" y1=\"374\" style=\"stroke-linecap:square; fill-opacity:1; fill:none; stroke-opacity:1;\" y2=\"371.83\"\n",
       "      /><line x1=\"355.3235\" x2=\"355.3235\" y1=\"374\" style=\"stroke-linecap:square; fill-opacity:1; fill:none; stroke-opacity:1;\" y2=\"371.83\"\n",
       "      /><line x1=\"365.8383\" x2=\"365.8383\" y1=\"374\" style=\"stroke-linecap:square; fill-opacity:1; fill:none; stroke-opacity:1;\" y2=\"371.83\"\n",
       "      /><line x1=\"374.4294\" x2=\"374.4294\" y1=\"374\" style=\"stroke-linecap:square; fill-opacity:1; fill:none; stroke-opacity:1;\" y2=\"371.83\"\n",
       "      /><line x1=\"381.6931\" x2=\"381.6931\" y1=\"374\" style=\"stroke-linecap:square; fill-opacity:1; fill:none; stroke-opacity:1;\" y2=\"371.83\"\n",
       "      /><line x1=\"387.9853\" x2=\"387.9853\" y1=\"374\" style=\"stroke-linecap:square; fill-opacity:1; fill:none; stroke-opacity:1;\" y2=\"371.83\"\n",
       "      /><line x1=\"393.5353\" x2=\"393.5353\" y1=\"374\" style=\"stroke-linecap:square; fill-opacity:1; fill:none; stroke-opacity:1;\" y2=\"371.83\"\n",
       "      /><line x1=\"398.5\" x2=\"398.5\" y1=\"374\" style=\"stroke-linecap:square; fill-opacity:1; fill:none; stroke-opacity:1;\" y2=\"371.83\"\n",
       "      /><line x1=\"431.1617\" x2=\"431.1617\" y1=\"374\" style=\"stroke-linecap:square; fill-opacity:1; fill:none; stroke-opacity:1;\" y2=\"371.83\"\n",
       "      /><line x1=\"450.2677\" x2=\"450.2677\" y1=\"374\" style=\"stroke-linecap:square; fill-opacity:1; fill:none; stroke-opacity:1;\" y2=\"371.83\"\n",
       "      /><line x1=\"463.8235\" x2=\"463.8235\" y1=\"374\" style=\"stroke-linecap:square; fill-opacity:1; fill:none; stroke-opacity:1;\" y2=\"371.83\"\n",
       "      /><line x1=\"474.3383\" x2=\"474.3383\" y1=\"374\" style=\"stroke-linecap:square; fill-opacity:1; fill:none; stroke-opacity:1;\" y2=\"371.83\"\n",
       "      /><line x1=\"482.9294\" x2=\"482.9294\" y1=\"374\" style=\"stroke-linecap:square; fill-opacity:1; fill:none; stroke-opacity:1;\" y2=\"371.83\"\n",
       "      /><line x1=\"490.1931\" x2=\"490.1931\" y1=\"374\" style=\"stroke-linecap:square; fill-opacity:1; fill:none; stroke-opacity:1;\" y2=\"371.83\"\n",
       "      /><line x1=\"496.4853\" x2=\"496.4853\" y1=\"374\" style=\"stroke-linecap:square; fill-opacity:1; fill:none; stroke-opacity:1;\" y2=\"371.83\"\n",
       "      /><line x1=\"502.0353\" x2=\"502.0353\" y1=\"374\" style=\"stroke-linecap:square; fill-opacity:1; fill:none; stroke-opacity:1;\" y2=\"371.83\"\n",
       "      /><line x1=\"507\" x2=\"507\" y1=\"374\" style=\"stroke-linecap:square; fill-opacity:1; fill:none; stroke-opacity:1;\" y2=\"371.83\"\n",
       "      /><line x1=\"73\" x2=\"73\" y1=\"31\" style=\"stroke-linecap:square; fill-opacity:1; fill:none; stroke-opacity:1;\" y2=\"33.17\"\n",
       "      /><line x1=\"105.6618\" x2=\"105.6618\" y1=\"31\" style=\"stroke-linecap:square; fill-opacity:1; fill:none; stroke-opacity:1;\" y2=\"33.17\"\n",
       "      /><line x1=\"124.7677\" x2=\"124.7677\" y1=\"31\" style=\"stroke-linecap:square; fill-opacity:1; fill:none; stroke-opacity:1;\" y2=\"33.17\"\n",
       "      /><line x1=\"138.3235\" x2=\"138.3235\" y1=\"31\" style=\"stroke-linecap:square; fill-opacity:1; fill:none; stroke-opacity:1;\" y2=\"33.17\"\n",
       "      /><line x1=\"148.8382\" x2=\"148.8382\" y1=\"31\" style=\"stroke-linecap:square; fill-opacity:1; fill:none; stroke-opacity:1;\" y2=\"33.17\"\n",
       "      /><line x1=\"157.4294\" x2=\"157.4294\" y1=\"31\" style=\"stroke-linecap:square; fill-opacity:1; fill:none; stroke-opacity:1;\" y2=\"33.17\"\n",
       "      /><line x1=\"164.6931\" x2=\"164.6931\" y1=\"31\" style=\"stroke-linecap:square; fill-opacity:1; fill:none; stroke-opacity:1;\" y2=\"33.17\"\n",
       "      /><line x1=\"170.9853\" x2=\"170.9853\" y1=\"31\" style=\"stroke-linecap:square; fill-opacity:1; fill:none; stroke-opacity:1;\" y2=\"33.17\"\n",
       "      /><line x1=\"176.5353\" x2=\"176.5353\" y1=\"31\" style=\"stroke-linecap:square; fill-opacity:1; fill:none; stroke-opacity:1;\" y2=\"33.17\"\n",
       "      /><line x1=\"181.5\" x2=\"181.5\" y1=\"31\" style=\"stroke-linecap:square; fill-opacity:1; fill:none; stroke-opacity:1;\" y2=\"33.17\"\n",
       "      /><line x1=\"214.1618\" x2=\"214.1618\" y1=\"31\" style=\"stroke-linecap:square; fill-opacity:1; fill:none; stroke-opacity:1;\" y2=\"33.17\"\n",
       "      /><line x1=\"233.2677\" x2=\"233.2677\" y1=\"31\" style=\"stroke-linecap:square; fill-opacity:1; fill:none; stroke-opacity:1;\" y2=\"33.17\"\n",
       "      /><line x1=\"246.8235\" x2=\"246.8235\" y1=\"31\" style=\"stroke-linecap:square; fill-opacity:1; fill:none; stroke-opacity:1;\" y2=\"33.17\"\n",
       "      /><line x1=\"257.3382\" x2=\"257.3382\" y1=\"31\" style=\"stroke-linecap:square; fill-opacity:1; fill:none; stroke-opacity:1;\" y2=\"33.17\"\n",
       "      /><line x1=\"265.9294\" x2=\"265.9294\" y1=\"31\" style=\"stroke-linecap:square; fill-opacity:1; fill:none; stroke-opacity:1;\" y2=\"33.17\"\n",
       "      /><line x1=\"273.1931\" x2=\"273.1931\" y1=\"31\" style=\"stroke-linecap:square; fill-opacity:1; fill:none; stroke-opacity:1;\" y2=\"33.17\"\n",
       "      /><line x1=\"279.4853\" x2=\"279.4853\" y1=\"31\" style=\"stroke-linecap:square; fill-opacity:1; fill:none; stroke-opacity:1;\" y2=\"33.17\"\n",
       "      /><line x1=\"285.0353\" x2=\"285.0353\" y1=\"31\" style=\"stroke-linecap:square; fill-opacity:1; fill:none; stroke-opacity:1;\" y2=\"33.17\"\n",
       "      /><line x1=\"290\" x2=\"290\" y1=\"31\" style=\"stroke-linecap:square; fill-opacity:1; fill:none; stroke-opacity:1;\" y2=\"33.17\"\n",
       "      /><line x1=\"322.6617\" x2=\"322.6617\" y1=\"31\" style=\"stroke-linecap:square; fill-opacity:1; fill:none; stroke-opacity:1;\" y2=\"33.17\"\n",
       "      /><line x1=\"341.7677\" x2=\"341.7677\" y1=\"31\" style=\"stroke-linecap:square; fill-opacity:1; fill:none; stroke-opacity:1;\" y2=\"33.17\"\n",
       "      /><line x1=\"355.3235\" x2=\"355.3235\" y1=\"31\" style=\"stroke-linecap:square; fill-opacity:1; fill:none; stroke-opacity:1;\" y2=\"33.17\"\n",
       "      /><line x1=\"365.8383\" x2=\"365.8383\" y1=\"31\" style=\"stroke-linecap:square; fill-opacity:1; fill:none; stroke-opacity:1;\" y2=\"33.17\"\n",
       "      /><line x1=\"374.4294\" x2=\"374.4294\" y1=\"31\" style=\"stroke-linecap:square; fill-opacity:1; fill:none; stroke-opacity:1;\" y2=\"33.17\"\n",
       "      /><line x1=\"381.6931\" x2=\"381.6931\" y1=\"31\" style=\"stroke-linecap:square; fill-opacity:1; fill:none; stroke-opacity:1;\" y2=\"33.17\"\n",
       "      /><line x1=\"387.9853\" x2=\"387.9853\" y1=\"31\" style=\"stroke-linecap:square; fill-opacity:1; fill:none; stroke-opacity:1;\" y2=\"33.17\"\n",
       "      /><line x1=\"393.5353\" x2=\"393.5353\" y1=\"31\" style=\"stroke-linecap:square; fill-opacity:1; fill:none; stroke-opacity:1;\" y2=\"33.17\"\n",
       "      /><line x1=\"398.5\" x2=\"398.5\" y1=\"31\" style=\"stroke-linecap:square; fill-opacity:1; fill:none; stroke-opacity:1;\" y2=\"33.17\"\n",
       "      /><line x1=\"431.1617\" x2=\"431.1617\" y1=\"31\" style=\"stroke-linecap:square; fill-opacity:1; fill:none; stroke-opacity:1;\" y2=\"33.17\"\n",
       "      /><line x1=\"450.2677\" x2=\"450.2677\" y1=\"31\" style=\"stroke-linecap:square; fill-opacity:1; fill:none; stroke-opacity:1;\" y2=\"33.17\"\n",
       "      /><line x1=\"463.8235\" x2=\"463.8235\" y1=\"31\" style=\"stroke-linecap:square; fill-opacity:1; fill:none; stroke-opacity:1;\" y2=\"33.17\"\n",
       "      /><line x1=\"474.3383\" x2=\"474.3383\" y1=\"31\" style=\"stroke-linecap:square; fill-opacity:1; fill:none; stroke-opacity:1;\" y2=\"33.17\"\n",
       "      /><line x1=\"482.9294\" x2=\"482.9294\" y1=\"31\" style=\"stroke-linecap:square; fill-opacity:1; fill:none; stroke-opacity:1;\" y2=\"33.17\"\n",
       "      /><line x1=\"490.1931\" x2=\"490.1931\" y1=\"31\" style=\"stroke-linecap:square; fill-opacity:1; fill:none; stroke-opacity:1;\" y2=\"33.17\"\n",
       "      /><line x1=\"496.4853\" x2=\"496.4853\" y1=\"31\" style=\"stroke-linecap:square; fill-opacity:1; fill:none; stroke-opacity:1;\" y2=\"33.17\"\n",
       "      /><line x1=\"502.0353\" x2=\"502.0353\" y1=\"31\" style=\"stroke-linecap:square; fill-opacity:1; fill:none; stroke-opacity:1;\" y2=\"33.17\"\n",
       "      /><line x1=\"507\" x2=\"507\" y1=\"31\" style=\"stroke-linecap:square; fill-opacity:1; fill:none; stroke-opacity:1;\" y2=\"33.17\"\n",
       "    /></g\n",
       "    ><g transform=\"translate(64,391)\" style=\"font-size:10px; fill:rgb(38,38,38); text-rendering:geometricPrecision; image-rendering:optimizeQuality; color-rendering:optimizeQuality; font-family:'Helvetica Neue'; stroke:rgb(38,38,38); color-interpolation:linearRGB;\"\n",
       "    ><text x=\"0\" xml:space=\"preserve\" y=\"0\" style=\"stroke:none;\"\n",
       "      >10</text\n",
       "    ></g\n",
       "    ><g transform=\"translate(76,386)\" style=\"font-size:8px; fill:rgb(38,38,38); text-rendering:geometricPrecision; image-rendering:optimizeQuality; color-rendering:optimizeQuality; font-family:'Helvetica Neue'; stroke:rgb(38,38,38); color-interpolation:linearRGB;\"\n",
       "    ><text x=\"0\" xml:space=\"preserve\" y=\"0\" style=\"stroke:none;\"\n",
       "      >0</text\n",
       "    ></g\n",
       "    ><g transform=\"translate(173,391)\" style=\"font-size:10px; fill:rgb(38,38,38); text-rendering:geometricPrecision; image-rendering:optimizeQuality; color-rendering:optimizeQuality; font-family:'Helvetica Neue'; stroke:rgb(38,38,38); color-interpolation:linearRGB;\"\n",
       "    ><text x=\"0\" xml:space=\"preserve\" y=\"0\" style=\"stroke:none;\"\n",
       "      >10</text\n",
       "    ></g\n",
       "    ><g transform=\"translate(185,386)\" style=\"font-size:8px; fill:rgb(38,38,38); text-rendering:geometricPrecision; image-rendering:optimizeQuality; color-rendering:optimizeQuality; font-family:'Helvetica Neue'; stroke:rgb(38,38,38); color-interpolation:linearRGB;\"\n",
       "    ><text x=\"0\" xml:space=\"preserve\" y=\"0\" style=\"stroke:none;\"\n",
       "      >1</text\n",
       "    ></g\n",
       "    ><g transform=\"translate(281,391)\" style=\"font-size:10px; fill:rgb(38,38,38); text-rendering:geometricPrecision; image-rendering:optimizeQuality; color-rendering:optimizeQuality; font-family:'Helvetica Neue'; stroke:rgb(38,38,38); color-interpolation:linearRGB;\"\n",
       "    ><text x=\"0\" xml:space=\"preserve\" y=\"0\" style=\"stroke:none;\"\n",
       "      >10</text\n",
       "    ></g\n",
       "    ><g transform=\"translate(293,386)\" style=\"font-size:8px; fill:rgb(38,38,38); text-rendering:geometricPrecision; image-rendering:optimizeQuality; color-rendering:optimizeQuality; font-family:'Helvetica Neue'; stroke:rgb(38,38,38); color-interpolation:linearRGB;\"\n",
       "    ><text x=\"0\" xml:space=\"preserve\" y=\"0\" style=\"stroke:none;\"\n",
       "      >2</text\n",
       "    ></g\n",
       "    ><g transform=\"translate(390,391)\" style=\"font-size:10px; fill:rgb(38,38,38); text-rendering:geometricPrecision; image-rendering:optimizeQuality; color-rendering:optimizeQuality; font-family:'Helvetica Neue'; stroke:rgb(38,38,38); color-interpolation:linearRGB;\"\n",
       "    ><text x=\"0\" xml:space=\"preserve\" y=\"0\" style=\"stroke:none;\"\n",
       "      >10</text\n",
       "    ></g\n",
       "    ><g transform=\"translate(402,386)\" style=\"font-size:8px; fill:rgb(38,38,38); text-rendering:geometricPrecision; image-rendering:optimizeQuality; color-rendering:optimizeQuality; font-family:'Helvetica Neue'; stroke:rgb(38,38,38); color-interpolation:linearRGB;\"\n",
       "    ><text x=\"0\" xml:space=\"preserve\" y=\"0\" style=\"stroke:none;\"\n",
       "      >3</text\n",
       "    ></g\n",
       "    ><g transform=\"translate(498,391)\" style=\"font-size:10px; fill:rgb(38,38,38); text-rendering:geometricPrecision; image-rendering:optimizeQuality; color-rendering:optimizeQuality; font-family:'Helvetica Neue'; stroke:rgb(38,38,38); color-interpolation:linearRGB;\"\n",
       "    ><text x=\"0\" xml:space=\"preserve\" y=\"0\" style=\"stroke:none;\"\n",
       "      >10</text\n",
       "    ></g\n",
       "    ><g transform=\"translate(510,386)\" style=\"font-size:8px; fill:rgb(38,38,38); text-rendering:geometricPrecision; image-rendering:optimizeQuality; color-rendering:optimizeQuality; font-family:'Helvetica Neue'; stroke:rgb(38,38,38); color-interpolation:linearRGB;\"\n",
       "    ><text x=\"0\" xml:space=\"preserve\" y=\"0\" style=\"stroke:none;\"\n",
       "      >4</text\n",
       "    ></g\n",
       "    ><g transform=\"translate(290.0002,395)\" style=\"font-size:11px; fill:rgb(38,38,38); text-rendering:geometricPrecision; image-rendering:optimizeQuality; color-rendering:optimizeQuality; font-family:'Helvetica Neue'; stroke:rgb(38,38,38); color-interpolation:linearRGB;\"\n",
       "    ><text x=\"-64.5\" xml:space=\"preserve\" y=\"11\" style=\"stroke:none;\"\n",
       "      >Radian frequency w (rad/s</text\n",
       "    ></g\n",
       "    ><g style=\"fill:rgb(38,38,38); text-rendering:geometricPrecision; image-rendering:optimizeQuality; color-rendering:optimizeQuality; stroke-linejoin:round; stroke:rgb(38,38,38); color-interpolation:linearRGB; stroke-width:0.5;\"\n",
       "    ><line y2=\"31\" style=\"fill:none;\" x1=\"73\" x2=\"73\" y1=\"374\"\n",
       "      /><line y2=\"31\" style=\"fill:none;\" x1=\"507\" x2=\"507\" y1=\"374\"\n",
       "      /><line y2=\"374\" style=\"fill:none;\" x1=\"73\" x2=\"77.34\" y1=\"374\"\n",
       "      /><line y2=\"339.7\" style=\"fill:none;\" x1=\"73\" x2=\"77.34\" y1=\"339.7\"\n",
       "      /><line y2=\"305.4\" style=\"fill:none;\" x1=\"73\" x2=\"77.34\" y1=\"305.4\"\n",
       "      /><line y2=\"271.1\" style=\"fill:none;\" x1=\"73\" x2=\"77.34\" y1=\"271.1\"\n",
       "      /><line y2=\"236.8\" style=\"fill:none;\" x1=\"73\" x2=\"77.34\" y1=\"236.8\"\n",
       "      /><line y2=\"202.5\" style=\"fill:none;\" x1=\"73\" x2=\"77.34\" y1=\"202.5\"\n",
       "      /><line y2=\"168.2\" style=\"fill:none;\" x1=\"73\" x2=\"77.34\" y1=\"168.2\"\n",
       "      /><line y2=\"133.9\" style=\"fill:none;\" x1=\"73\" x2=\"77.34\" y1=\"133.9\"\n",
       "      /><line y2=\"99.6\" style=\"fill:none;\" x1=\"73\" x2=\"77.34\" y1=\"99.6\"\n",
       "      /><line y2=\"65.3\" style=\"fill:none;\" x1=\"73\" x2=\"77.34\" y1=\"65.3\"\n",
       "      /><line y2=\"31\" style=\"fill:none;\" x1=\"73\" x2=\"77.34\" y1=\"31\"\n",
       "      /><line y2=\"374\" style=\"fill:none;\" x1=\"507\" x2=\"502.66\" y1=\"374\"\n",
       "      /><line y2=\"339.7\" style=\"fill:none;\" x1=\"507\" x2=\"502.66\" y1=\"339.7\"\n",
       "      /><line y2=\"305.4\" style=\"fill:none;\" x1=\"507\" x2=\"502.66\" y1=\"305.4\"\n",
       "      /><line y2=\"271.1\" style=\"fill:none;\" x1=\"507\" x2=\"502.66\" y1=\"271.1\"\n",
       "      /><line y2=\"236.8\" style=\"fill:none;\" x1=\"507\" x2=\"502.66\" y1=\"236.8\"\n",
       "      /><line y2=\"202.5\" style=\"fill:none;\" x1=\"507\" x2=\"502.66\" y1=\"202.5\"\n",
       "      /><line y2=\"168.2\" style=\"fill:none;\" x1=\"507\" x2=\"502.66\" y1=\"168.2\"\n",
       "      /><line y2=\"133.9\" style=\"fill:none;\" x1=\"507\" x2=\"502.66\" y1=\"133.9\"\n",
       "      /><line y2=\"99.6\" style=\"fill:none;\" x1=\"507\" x2=\"502.66\" y1=\"99.6\"\n",
       "      /><line y2=\"65.3\" style=\"fill:none;\" x1=\"507\" x2=\"502.66\" y1=\"65.3\"\n",
       "      /><line y2=\"31\" style=\"fill:none;\" x1=\"507\" x2=\"502.66\" y1=\"31\"\n",
       "    /></g\n",
       "    ><g transform=\"translate(69,374)\" style=\"font-size:10px; fill:rgb(38,38,38); text-rendering:geometricPrecision; image-rendering:optimizeQuality; color-rendering:optimizeQuality; font-family:'Helvetica Neue'; stroke:rgb(38,38,38); color-interpolation:linearRGB;\"\n",
       "    ><text x=\"-6\" xml:space=\"preserve\" y=\"3.5\" style=\"stroke:none;\"\n",
       "      >0</text\n",
       "    ></g\n",
       "    ><g transform=\"translate(69,339.7)\" style=\"font-size:10px; fill:rgb(38,38,38); text-rendering:geometricPrecision; image-rendering:optimizeQuality; color-rendering:optimizeQuality; font-family:'Helvetica Neue'; stroke:rgb(38,38,38); color-interpolation:linearRGB;\"\n",
       "    ><text x=\"-20\" xml:space=\"preserve\" y=\"3.5\" style=\"stroke:none;\"\n",
       "      >0.02</text\n",
       "    ></g\n",
       "    ><g transform=\"translate(69,305.4)\" style=\"font-size:10px; fill:rgb(38,38,38); text-rendering:geometricPrecision; image-rendering:optimizeQuality; color-rendering:optimizeQuality; font-family:'Helvetica Neue'; stroke:rgb(38,38,38); color-interpolation:linearRGB;\"\n",
       "    ><text x=\"-20\" xml:space=\"preserve\" y=\"3.5\" style=\"stroke:none;\"\n",
       "      >0.04</text\n",
       "    ></g\n",
       "    ><g transform=\"translate(69,271.1)\" style=\"font-size:10px; fill:rgb(38,38,38); text-rendering:geometricPrecision; image-rendering:optimizeQuality; color-rendering:optimizeQuality; font-family:'Helvetica Neue'; stroke:rgb(38,38,38); color-interpolation:linearRGB;\"\n",
       "    ><text x=\"-20\" xml:space=\"preserve\" y=\"3.5\" style=\"stroke:none;\"\n",
       "      >0.06</text\n",
       "    ></g\n",
       "    ><g transform=\"translate(69,236.8)\" style=\"font-size:10px; fill:rgb(38,38,38); text-rendering:geometricPrecision; image-rendering:optimizeQuality; color-rendering:optimizeQuality; font-family:'Helvetica Neue'; stroke:rgb(38,38,38); color-interpolation:linearRGB;\"\n",
       "    ><text x=\"-20\" xml:space=\"preserve\" y=\"3.5\" style=\"stroke:none;\"\n",
       "      >0.08</text\n",
       "    ></g\n",
       "    ><g transform=\"translate(69,202.5)\" style=\"font-size:10px; fill:rgb(38,38,38); text-rendering:geometricPrecision; image-rendering:optimizeQuality; color-rendering:optimizeQuality; font-family:'Helvetica Neue'; stroke:rgb(38,38,38); color-interpolation:linearRGB;\"\n",
       "    ><text x=\"-14\" xml:space=\"preserve\" y=\"3.5\" style=\"stroke:none;\"\n",
       "      >0.1</text\n",
       "    ></g\n",
       "    ><g transform=\"translate(69,168.2)\" style=\"font-size:10px; fill:rgb(38,38,38); text-rendering:geometricPrecision; image-rendering:optimizeQuality; color-rendering:optimizeQuality; font-family:'Helvetica Neue'; stroke:rgb(38,38,38); color-interpolation:linearRGB;\"\n",
       "    ><text x=\"-20\" xml:space=\"preserve\" y=\"3.5\" style=\"stroke:none;\"\n",
       "      >0.12</text\n",
       "    ></g\n",
       "    ><g transform=\"translate(69,133.9)\" style=\"font-size:10px; fill:rgb(38,38,38); text-rendering:geometricPrecision; image-rendering:optimizeQuality; color-rendering:optimizeQuality; font-family:'Helvetica Neue'; stroke:rgb(38,38,38); color-interpolation:linearRGB;\"\n",
       "    ><text x=\"-20\" xml:space=\"preserve\" y=\"3.5\" style=\"stroke:none;\"\n",
       "      >0.14</text\n",
       "    ></g\n",
       "    ><g transform=\"translate(69,99.6)\" style=\"font-size:10px; fill:rgb(38,38,38); text-rendering:geometricPrecision; image-rendering:optimizeQuality; color-rendering:optimizeQuality; font-family:'Helvetica Neue'; stroke:rgb(38,38,38); color-interpolation:linearRGB;\"\n",
       "    ><text x=\"-20\" xml:space=\"preserve\" y=\"3.5\" style=\"stroke:none;\"\n",
       "      >0.16</text\n",
       "    ></g\n",
       "    ><g transform=\"translate(69,65.3)\" style=\"font-size:10px; fill:rgb(38,38,38); text-rendering:geometricPrecision; image-rendering:optimizeQuality; color-rendering:optimizeQuality; font-family:'Helvetica Neue'; stroke:rgb(38,38,38); color-interpolation:linearRGB;\"\n",
       "    ><text x=\"-20\" xml:space=\"preserve\" y=\"3.5\" style=\"stroke:none;\"\n",
       "      >0.18</text\n",
       "    ></g\n",
       "    ><g transform=\"translate(69,31)\" style=\"font-size:10px; fill:rgb(38,38,38); text-rendering:geometricPrecision; image-rendering:optimizeQuality; color-rendering:optimizeQuality; font-family:'Helvetica Neue'; stroke:rgb(38,38,38); color-interpolation:linearRGB;\"\n",
       "    ><text x=\"-14\" xml:space=\"preserve\" y=\"3.5\" style=\"stroke:none;\"\n",
       "      >0.2</text\n",
       "    ></g\n",
       "    ><g transform=\"translate(46,202.4998) rotate(-90)\" style=\"font-size:11px; fill:rgb(38,38,38); text-rendering:geometricPrecision; image-rendering:optimizeQuality; color-rendering:optimizeQuality; font-family:'Helvetica Neue'; stroke:rgb(38,38,38); color-interpolation:linearRGB;\"\n",
       "    ><text x=\"-23.5\" xml:space=\"preserve\" y=\"-3\" style=\"stroke:none;\"\n",
       "      >|Vout/Vin|</text\n",
       "    ></g\n",
       "    ><g transform=\"translate(290.0003,28.25)\" style=\"font-size:11px; text-rendering:geometricPrecision; image-rendering:optimizeQuality; color-rendering:optimizeQuality; font-family:'Helvetica Neue'; color-interpolation:linearRGB; font-weight:bold;\"\n",
       "    ><text x=\"-110\" xml:space=\"preserve\" y=\"-3\" style=\"stroke:none;\"\n",
       "      >Magnitude Vout/Vin vs. Radian Frequency</text\n",
       "    ></g\n",
       "    ><g style=\"stroke-linecap:butt; fill:rgb(0,114,189); text-rendering:geometricPrecision; image-rendering:optimizeQuality; color-rendering:optimizeQuality; stroke-linejoin:round; stroke:rgb(0,114,189); color-interpolation:linearRGB; stroke-width:0.5;\"\n",
       "    ><path d=\"M73 31.0003 L185.9911 31.0415 L216.4608 31.1512 L234.8127 31.3292 L247.9871 31.5752 L258.2714 31.889 L266.7083 32.2698 L273.8615 32.7172 L280.0706 33.2303 L285.556 33.8084 L290.4689 34.4506 L294.9175 35.1558 L298.9822 35.923 L302.7239 36.7509 L306.1903 37.6383 L309.419 38.5839 L312.4406 39.5862 L315.2801 40.6438 L317.9581 41.7552 L320.4921 42.9187 L322.8968 44.1328 L325.1846 45.3959 L327.3666 46.7061 L329.4519 48.0618 L331.4489 49.4613 L333.3646 50.9027 L335.2055 52.3844 L336.9772 53.9045 L338.6846 55.4612 L340.3324 57.0528 L341.9245 58.6774 L343.4645 60.3334 L344.9558 62.0189 L346.4013 63.7322 L347.8039 65.4717 L349.1658 67.2356 L350.4895 69.0223 L351.7771 70.8301 L353.0304 72.6575 L354.2512 74.503 L355.4412 76.3648 L356.6018 78.2417 L357.7346 80.1321 L358.8408 82.0347 L359.9216 83.9481 L360.9781 85.871 L362.0115 87.8021 L363.0228 89.7401 L364.0128 91.6839 L364.9823 93.6324 L365.9324 95.5844 L366.8637 97.5388 L367.7769 99.4948 L368.6728 101.4512 L369.5519 103.4072 L370.4149 105.3619 L371.2625 107.3144 L372.095 109.264 L372.9131 111.2098 L373.7172 113.1512 L374.5079 115.0874 L375.2855 117.0177 L376.0504 118.9417 L376.8032 120.8587 L377.5441 122.768 L378.2735 124.6693 L378.9919 126.562 L379.6994 128.4457 L380.3965 130.3199 L381.0834 132.1843 L381.7604 134.0384 L382.4279 135.8819 L383.086 137.7145 L383.735 139.5359 L384.3753 141.3458 L385.0069 143.144 L385.6302 144.9302 L386.2454 146.7042 L386.8526 148.4658 L387.4521 150.2149 L388.0441 151.9512 L388.6288 153.6747 L389.2062 155.3851 L389.7767 157.0825 L390.3404 158.7667 L390.8973 160.4376 L391.4478 162.0952 L391.992 163.7393 L392.5299 165.3699 L393.0617 166.9871 L393.5876 168.5908 L394.1078 170.1809 L394.6222 171.7575 L395.131 173.3205 L395.6345 174.87 L396.1326 176.406 L396.6255 177.9284 L397.1133 179.4375 L397.5961 180.933 L398.074 182.4152 L398.5471 183.8841 L399.0155 185.3397 L399.4793 186.7821 L399.9386 188.2113 L400.3934 189.6275 L400.8439 191.0306 L401.2901 192.4207 L401.7321 193.798 L402.1701 195.1626 L402.604 196.5144 L403.0339 197.8536 L403.46 199.1803 L403.8822 200.4946 L404.3007 201.7965 L404.7155 203.0862 L405.1266 204.3637 L405.5343 205.6292 L405.9384 206.8828 L406.3391 208.1245 L406.7364 209.3544 L407.1304 210.5727 L407.5211 211.7795 L407.9087 212.9748 L408.293 214.1588 L408.6742 215.3316 L409.0524 216.4932 L409.4276 217.6439 L409.7998 218.7836 L410.1691 219.9125 L410.5355 221.0307 L410.8991 222.1383 L411.2599 223.2354 L411.618 224.3221 L411.9733 225.3985 L412.326 226.4648 L412.6761 227.521 L413.0236 228.5672 L413.3686 229.6035 L413.711 230.6301 L414.051 231.647 L414.3885 232.6543 L414.7237 233.6522 L415.0565 234.6407 L415.3869 235.6199 L415.7151 236.5899 L416.0409 237.5509 L416.3645 238.5029 L416.686 239.4461 L417.0052 240.3804 L417.3223 241.306 L417.6373 242.2231 L417.9502 243.1317 L418.261 244.0318 L418.5698 244.9236 L418.8766 245.8072 L419.1814 246.6826 L419.4842 247.55 L419.7851 248.4094 L420.0841 249.261 L420.3812 250.1047 L420.6765 250.9407 L420.9699 251.7691 L421.2615 252.59 L421.5512 253.4034 L421.8393 254.2094 L422.1255 255.0082 L422.4101 255.7997 L422.6929 256.584 L422.9741 257.3614 L423.2536 258.1317 L423.5314 258.8951 L423.8076 259.6516 L424.0822 260.4015 L424.3552 261.1446 L424.6266 261.8811 L424.8965 262.6111 L425.1649 263.3346 L425.4317 264.0517 L425.6971 264.7624 L425.9609 265.4669 L426.2232 266.1652 L426.4841 266.8574 L426.7436 267.5435 L427.0017 268.2236 L427.2583 268.8978 L427.5136 269.5661 L427.7675 270.2286 L428.02 270.8854 L428.2712 271.5364 L428.521 272.1819 L428.7696 272.8218 L429.0168 273.4562 L429.2627 274.0851 L429.5074 274.7087 L429.7508 275.3269 L429.9929 275.9398 L430.2338 276.5476 L430.4735 277.1501 L430.712 277.7476 L430.9492 278.34 L431.1853 278.9274 L431.4202 279.5099 L431.6539 280.0875 L431.8865 280.6602 L432.118 281.2281 L432.3483 281.7913 L432.5775 282.3498 L432.8055 282.9036 L433.0325 283.4529 L433.2584 283.9975 L433.4832 284.5377 L433.707 285.0735 L433.9297 285.6048 L434.1513 286.1317 L434.3719 286.6544 L434.5915 287.1727 L434.8101 287.6868 L435.0276 288.1967 L435.2441 288.7025 L435.4597 289.2042 L435.6743 289.7018 L435.8879 290.1954 L436.1005 290.685 L436.3122 291.1707 L436.5229 291.6524 L436.7328 292.1303 L436.9416 292.6044 L437.1496 293.0747 L437.3566 293.5412 L437.5627 294.0041 L437.7679 294.4632 L437.9723 294.9187 L438.1758 295.3707 L438.3783 295.819 L438.58 296.2639 L438.7809 296.7052 L438.9809 297.143 L439.1801 297.5775 L439.3784 298.0085 L439.5759 298.4362 L439.7726 298.8606 L439.9684 299.2816 L440.1635 299.6995 L440.3577 300.114 L440.5511 300.5254 L440.7437 300.9336 L440.9356 301.3387 L441.1267 301.7406 L441.317 302.1395 L441.5066 302.5353 L441.6953 302.9282 L441.8834 303.318 L442.0707 303.7048 L442.2572 304.0888 L442.443 304.4698 L442.6281 304.8479 L442.8124 305.2232 L442.9961 305.5957 L443.179 305.9654 L443.3612 306.3323 L443.5427 306.6964 L443.7235 307.0579 L443.9037 307.4166 L444.0831 307.7727 L444.2619 308.1261 L444.4399 308.4769 L444.6174 308.8251 L444.7941 309.1708 L444.9702 309.5139 L445.1456 309.8545 L445.3204 310.1926 L445.4946 310.5282 L445.6681 310.8613 L445.8409 311.192 L446.0132 311.5203 L446.1847 311.8463 L446.3557 312.1698 L446.5261 312.491 L446.6958 312.8099 L446.8649 313.1265 L447.0335 313.4408 L447.2014 313.7529 L447.3687 314.0627 L447.5355 314.3703 L447.7016 314.6757 L447.8672 314.9789 L448.0322 315.28 L448.1966 315.5789 L448.3604 315.8757 L448.5237 316.1703 L448.6864 316.463 L448.8486 316.7535 L449.0102 317.042 L449.1712 317.3285 L449.3317 317.6129 L449.4917 317.8954 L449.6511 318.1759 L449.8099 318.4544 L449.9683 318.731 L450.1261 319.0057 L450.2834 319.2784 L450.4401 319.5493 L450.5963 319.8183 L450.7521 320.0854 L450.9073 320.3507 L451.062 320.6142 L451.2162 320.8759 L451.3699 321.1357 L451.5231 321.3938 L451.6758 321.6501 L451.8279 321.9047 L451.9796 322.1576 L452.1309 322.4087 L452.2816 322.6581 L452.4319 322.9059 L452.5816 323.1519 L452.731 323.3963 L452.8798 323.6391 L453.0282 323.8802 L453.1761 324.1197 L453.3235 324.3576 L453.4705 324.5939 L453.617 324.8286 L453.7631 325.0618 L453.9087 325.2934 L454.0538 325.5235 L454.1985 325.752 L454.3428 325.979 L454.4867 326.2046 L454.6301 326.4286 L454.773 326.6512 L454.9156 326.8723 L455.0577 327.092 L455.1993 327.3102 L455.3406 327.527 L455.4814 327.7424 L455.6218 327.9564 L455.7618 328.1689 L455.9014 328.3801 L456.0406 328.59 L456.1793 328.7985 L456.3177 329.0056 L456.4556 329.2114 L456.5931 329.4158 L456.7303 329.619 L456.867 329.8209 L457.0034 330.0214 L457.1393 330.2207 L457.2749 330.4187 L457.4101 330.6154 L457.5448 330.8109 L457.6793 331.0052 L457.8133 331.1982 L457.9469 331.39 L458.0802 331.5805 L458.213 331.7699 L458.3456 331.9581 L458.4777 332.1451 L458.6095 332.3309 L458.7409 332.5156 L458.8719 332.6991 L459.0026 332.8815 L459.1329 333.0627 L459.2628 333.2428 L459.3924 333.4218 L459.5217 333.5996 L459.6506 333.7764 L459.7791 333.9521 L459.9073 334.1267 L460.0351 334.3002 L460.1626 334.4726 L460.2898 334.644 L460.4166 334.8143 L460.543 334.9836 L460.6692 335.1519 L460.795 335.3191 L460.9204 335.4853 L461.0455 335.6505 L461.1703 335.8147 L461.2948 335.9779 L461.4189 336.1401 L461.5427 336.3013 L461.6662 336.4616 L461.7894 336.6209 L461.9122 336.7792 L462.0347 336.9366 L462.1569 337.093 L462.2788 337.2485 L462.4004 337.4031 L462.5216 337.5568 L462.6426 337.7095 L462.7632 337.8613 L462.8836 338.0122 L463.0036 338.1623 L463.1233 338.3114 L463.2427 338.4597 L463.3618 338.6071 L463.4806 338.7536 L463.5992 338.8992 L463.7173 339.044 L463.8353 339.188 L463.9529 339.3311 L464.0703 339.4734 L464.1873 339.6148 L464.304 339.7554 L464.4205 339.8952 L464.5367 340.0342 L464.6526 340.1724 L464.7682 340.3098 L464.8835 340.4464 L464.9985 340.5822 L465.1133 340.7172 L465.2278 340.8514 L465.342 340.9849 L465.4559 341.1176 L465.5695 341.2496 L465.683 341.3808 L465.7961 341.5112 L465.9089 341.6409 L466.0215 341.7699 L466.1338 341.8981 L466.2458 342.0256 L466.3576 342.1524 L466.4691 342.2784 L466.5803 342.4038 L466.6913 342.5284 L466.802 342.6524 L466.9125 342.7756 L467.0227 342.8982 L467.1326 343.0201 L467.2423 343.1412 L467.3517 343.2617 L467.4609 343.3816 L467.5698 343.5008 L467.6785 343.6193 L467.7869 343.7371 L467.8951 343.8543 L468.003 343.9709 L468.1107 344.0868 L468.2181 344.2021 L468.3253 344.3167 L468.4323 344.4307 L468.539 344.5441 L468.6454 344.6568 L468.7516 344.769 L468.8576 344.8805 L468.9634 344.9914 L469.0689 345.1017 L469.1742 345.2114 L469.2792 345.3205 L469.384 345.429 L469.4886 345.537 L469.593 345.6443 L469.6971 345.7511 L469.8009 345.8573 L469.9046 345.9629 L470.008 346.068 L470.1112 346.1725 L470.2142 346.2764 L470.3169 346.3798 L470.4195 346.4826 L470.5218 346.5849 L470.6239 346.6866 L470.7257 346.7878 L470.8274 346.8884 L470.9288 346.9886 L471.03 347.0881 L471.131 347.1872 L471.2318 347.2857 L471.3323 347.3838 L471.4326 347.4813 L471.5328 347.5782 L471.6327 347.6747 L471.7324 347.7707 L471.8319 347.8661 L471.9312 347.9611 L472.0302 348.0556 L472.1291 348.1496 L472.2278 348.2431 L472.3262 348.3361 L472.4245 348.4286 L472.5225 348.5207 L472.6204 348.6122 L472.718 348.7033 L472.8155 348.794 L472.9127 348.8841 L473.0097 348.9738 L473.1066 349.063 L473.2032 349.1519 L473.2996 349.2402 L473.3959 349.328 L473.4919 349.4155 L473.5878 349.5024 L473.6834 349.589 L473.7789 349.6751 L473.8742 349.7607 L473.9693 349.8459 L474.0641 349.9308 L474.1588 350.0151 L474.2534 350.0991 L474.3477 350.1826 L474.4418 350.2657 L474.5357 350.3483 L474.6295 350.4306 L474.7231 350.5125 L474.8165 350.5939 L474.9096 350.6749 L475.0027 350.7556 L475.0955 350.8358 L475.1881 350.9156 L475.2806 350.9951 L475.3729 351.0741 L475.465 351.1527 L475.5569 351.231 L475.6487 351.3089 L475.7402 351.3864 L475.8316 351.4634 L475.9229 351.5402 L476.0139 351.6165 L476.1047 351.6925 L476.1954 351.7681 L476.2859 351.8433 L476.3763 351.9182 L476.4665 351.9927 L476.5565 352.0668 L476.6463 352.1406 L476.7359 352.214 L476.8254 352.2871 L476.9147 352.3598 L477.0038 352.4322 L477.0928 352.5042 L477.1816 352.5758 L477.2703 352.6471 L477.3588 352.7181 L477.4471 352.7887 L477.5352 352.859 L477.6232 352.929 L477.711 352.9986 L477.7986 353.0679 L477.8861 353.1368 L477.9734 353.2054 L478.0606 353.2737 L478.1476 353.3417 L478.2344 353.4094 L478.3211 353.4767 L478.4077 353.5437 L478.494 353.6104 L478.5802 353.6768 L478.6663 353.7429 L478.7522 353.8087 L478.8379 353.8741 L478.9235 353.9392 L479.0089 354.0041 L479.0942 354.0686 L479.1793 354.1328 L479.2643 354.1968 L479.3491 354.2604 L479.4337 354.3238 L479.5182 354.3868 L479.6026 354.4496 L479.6868 354.512 L479.7709 354.5742 L479.8548 354.6361 L479.9385 354.6977 L480.0221 354.759 L480.1056 354.82 L480.1889 354.8808 L480.2721 354.9412 L480.3551 355.0014 L480.438 355.0613 L480.5207 355.121 L480.6033 355.1804 L480.6857 355.2395 L480.768 355.2983 L480.8502 355.3569 L480.9322 355.4152 L481.014 355.4732 L481.0957 355.531 L481.1773 355.5885 L481.2588 355.6457 L481.3401 355.7027 L481.4212 355.7595 L481.5022 355.8159 L481.5831 355.8722 L481.6638 355.9281 L481.7444 355.9839 L481.8249 356.0393 L481.9052 356.0945 L481.9854 356.1495 L482.0655 356.2043 L482.1454 356.2588 L482.2252 356.313 L482.3049 356.367 L482.3844 356.4208 L482.4637 356.4743 L482.543 356.5276 L482.6221 356.5806 L482.7011 356.6335 L482.7799 356.686 L482.8587 356.7384 L482.9373 356.7905 L483.0157 356.8424 L483.094 356.8941 L483.1722 356.9455 L483.2503 356.9968 L483.3282 357.0478 L483.4061 357.0985 L483.4837 357.1491 L483.5613 357.1994 L483.6387 357.2495 L483.716 357.2994 L483.7932 357.3491 L483.8702 357.3986 L483.9471 357.4478 L484.0239 357.4968 L484.1006 357.5457 L484.1772 357.5943 L484.2536 357.6427 L484.3299 357.6909 L484.4061 357.7389 L484.4821 357.7867 L484.558 357.8342 L484.6338 357.8816 L484.7095 357.9288 L484.7851 357.9758 L484.8605 358.0226 L484.9359 358.0691 L485.011 358.1155 L485.0861 358.1617 L485.1611 358.2077 L485.2359 358.2534 L485.3106 358.299 L485.3853 358.3445 L485.4597 358.3896 L485.5341 358.4347 L485.6084 358.4795 L485.6825 358.5242 L485.7565 358.5686 L485.8304 358.6129 L485.9042 358.657 L485.9779 358.7009 L486.0515 358.7446 L486.1249 358.7881 L486.1982 358.8315 L486.2714 358.8747 L486.3445 358.9177 L486.4175 358.9605 L486.4904 359.0031 L486.5631 359.0456 L486.6358 359.0879 L486.7083 359.13 L486.7808 359.1719 L486.8531 359.2137 L486.9253 359.2553 L486.9974 359.2967 L487.0694 359.338 L487.1413 359.3791 L487.213 359.42 L487.2847 359.4607 L487.3562 359.5013 L487.4276 359.5417 L487.499 359.582 L487.5702 359.6221 L487.6413 359.662 L487.7123 359.7018 L487.7832 359.7414 L487.854 359.7808 L487.9247 359.8201 L487.9953 359.8593 L488.0658 359.8982 L488.1362 359.937 L488.2064 359.9757 L488.2766 360.0142 L488.3466 360.0525 L488.4166 360.0907 L488.4865 360.1288 L488.5562 360.1667 L488.6258 360.2044 L488.6954 360.242 L488.7648 360.2794 L488.8341 360.3167 L488.9034 360.3538 L488.9725 360.3908 L489.0416 360.4277 L489.1105 360.4644 L489.1793 360.5009 L489.248 360.5373 L489.3167 360.5736 L489.3852 360.6097 L489.4536 360.6457 L489.5219 360.6815 L489.5902 360.7172 L489.6583 360.7528 L489.7264 360.7882 L489.7943 360.8235 L489.8621 360.8586 L489.9299 360.8936 L489.9975 360.9285 L490.0651 360.9633 L490.1325 360.9978 L490.1999 361.0323 L490.2671 361.0667 L490.3343 361.1008 L490.4013 361.1349 L490.4683 361.1688 L490.5352 361.2026 L490.602 361.2363 L490.6687 361.2698 L490.7353 361.3033 L490.8018 361.3365 L490.8682 361.3697 L490.9345 361.4027 L491.0007 361.4356 L491.0668 361.4684 L491.1328 361.5011 L491.1988 361.5336 L491.2646 361.566 L491.3304 361.5983 L491.3961 361.6304 L491.4616 361.6625 L491.5271 361.6944 L491.5925 361.7262 L491.6578 361.7578 L491.723 361.7894 L491.7881 361.8208 L491.8531 361.8521 L491.9181 361.8833 L491.983 361.9144 L492.0477 361.9454 L492.1124 361.9762 L492.177 362.007 L492.2415 362.0376 L492.3059 362.0681 L492.3702 362.0984 L492.4344 362.1287 L492.4986 362.1589 L492.5627 362.1889 L492.6266 362.2189 L492.6905 362.2487 L492.7543 362.2784 L492.818 362.308 L492.8817 362.3375 L492.9452 362.3669 L493.0086 362.3961 L493.072 362.4253 L493.1353 362.4544 L493.1985 362.4833 L493.2616 362.5122 L493.3246 362.5409 L493.3876 362.5695 L493.4504 362.5981 L493.5132 362.6265 L493.5759 362.6548 L493.6385 362.683 L493.701 362.7112 L493.7635 362.7392 L493.8258 362.7671 L493.8881 362.7949 L493.9503 362.8226 L494.0125 362.8502 L494.0745 362.8777 L494.1364 362.9051 L494.1983 362.9324 L494.2601 362.9597 L494.3218 362.9868 L494.3834 363.0138 L494.445 363.0407 L494.5064 363.0675 L494.5678 363.0942 L494.6291 363.1208 L494.6904 363.1474 L494.7515 363.1738 L494.8126 363.2002 L494.8736 363.2264 L494.9345 363.2526 L494.9953 363.2786 L495.0561 363.3046 L495.1168 363.3305 L495.1773 363.3562 L495.2379 363.3819 L495.2983 363.4075 L495.3587 363.433 L495.419 363.4585 L495.4792 363.4838 L495.5393 363.509 L495.5993 363.5342 L495.6593 363.5592 L495.7192 363.5842 L495.7791 363.6091 L495.8388 363.6339 L495.8985 363.6586 L495.9581 363.6832 L496.0176 363.7078 L496.0771 363.7322 L496.1364 363.7566 L496.1958 363.7809 L496.255 363.8051 L496.3141 363.8292 L496.3732 363.8532 L496.4322 363.8772 L496.4911 363.901 L496.55 363.9248 L496.6088 363.9485 L496.6675 363.9721 L496.7262 363.9957 L496.7847 364.0191 L496.8432 364.0425 L496.9016 364.0658 L496.96 364.089 L497.0182 364.1121 L497.0764 364.1352 L497.1346 364.1581 L497.1926 364.181 L497.2506 364.2039 L497.3085 364.2266 L497.3664 364.2492 L497.4242 364.2718 L497.4819 364.2943 L497.5395 364.3168 L497.5971 364.3391 L497.6545 364.3614 L497.712 364.3836 L497.7693 364.4057 L497.8266 364.4278 L497.8838 364.4497 L497.9409 364.4716 L497.998 364.4935 L498.055 364.5152 L498.112 364.5369 L498.1689 364.5585 L498.2256 364.58 L498.2824 364.6015 L498.3391 364.6229 L498.3957 364.6442 L498.4522 364.6655 L498.5086 364.6866 L498.565 364.7078 L498.6213 364.7288 L498.6776 364.7498 L498.7338 364.7707 L498.7899 364.7915 L498.846 364.8123 L498.902 364.8329 L498.9579 364.8535 L499.0137 364.8741 L499.0695 364.8946 L499.1253 364.915 L499.1809 364.9354 L499.2365 364.9556 L499.2921 364.9758 L499.3475 364.996 L499.4029 365.0161 L499.4582 365.0361 L499.5135 365.056 L499.5687 365.0759 L499.6238 365.0957 L499.6789 365.1155 L499.7339 365.1352 L499.7889 365.1548 L499.8438 365.1744 L499.8986 365.1938 L499.9533 365.2133 L500.008 365.2327 L500.0626 365.252 L500.1172 365.2712 L500.1717 365.2904 L500.2261 365.3095 L500.2805 365.3286 L500.3348 365.3476 L500.3891 365.3665 L500.4433 365.3854 L500.4974 365.4042 L500.5515 365.4229 L500.6054 365.4417 L500.6594 365.4603 L500.7133 365.4789 L500.7671 365.4973 L500.8208 365.5158 L500.8745 365.5342 L500.9282 365.5526 L500.9817 365.5708 L501.0352 365.589 L501.0887 365.6072 L501.1421 365.6253 L501.1954 365.6433 L501.2487 365.6613 L501.3019 365.6793 L501.355 365.6971 L501.4081 365.7149 L501.4611 365.7327 L501.5141 365.7504 L501.567 365.7681 L501.6199 365.7856 L501.6727 365.8032 L501.7254 365.8207 L501.7781 365.8381 L501.8307 365.8555 L501.8832 365.8728 L501.9357 365.89 L501.9882 365.9073 L502.0406 365.9244 L502.0929 365.9415 L502.1451 365.9586 L502.1974 365.9756 L502.2495 365.9925 L502.3016 366.0094 L502.3536 366.0262 L502.4056 366.043 L502.4575 366.0598 L502.5094 366.0764 L502.5612 366.093 L502.6129 366.1096 L502.6646 366.1262 L502.7162 366.1426 L502.7678 366.1591 L502.8193 366.1754 L502.8708 366.1917 L502.9222 366.208 L502.9735 366.2242 L503.0248 366.2404 L503.0761 366.2565 L503.1273 366.2726 L503.1784 366.2886 L503.2295 366.3046 L503.2805 366.3205 L503.3315 366.3364 L503.3824 366.3522 L503.4332 366.368 L503.484 366.3837 L503.5348 366.3994 L503.5855 366.415 L503.6361 366.4306 L503.6867 366.4462 L503.7372 366.4617 L503.7877 366.4771 L503.8381 366.4925 L503.8885 366.5079 L503.9388 366.5232 L503.989 366.5385 L504.0392 366.5536 L504.0894 366.5688 L504.1395 366.584 L504.1895 366.599 L504.2395 366.6141 L504.2895 366.6291 L504.3393 366.644 L504.3892 366.6589 L504.4389 366.6737 L504.4887 366.6885 L504.5384 366.7033 L504.588 366.718 L504.6375 366.7327 L504.687 366.7473 L504.7365 366.7619 L504.7859 366.7765 L504.8353 366.791 L504.8846 366.8055 L504.9339 366.8199 L504.9831 366.8342 L505.0322 366.8486 L505.0813 366.8629 L505.1304 366.8771 L505.1794 366.8913 L505.2284 366.9055 L505.2773 366.9196 L505.3261 366.9337 L505.3749 366.9477 L505.4236 366.9617 L505.4724 366.9756 L505.521 366.9896 L505.5696 367.0034 L505.6181 367.0173 L505.6666 367.0311 L505.7151 367.0448 L505.7635 367.0585 L505.8118 367.0722 L505.8601 367.0858 L505.9084 367.0994 L505.9566 367.113 L506.0047 367.1265 L506.0528 367.14 L506.1009 367.1534 L506.1489 367.1668 L506.1968 367.1802 L506.2448 367.1935 L506.2926 367.2068 L506.3404 367.22 L506.3882 367.2332 L506.4359 367.2464 L506.4836 367.2595 L506.5312 367.2726 L506.5788 367.2856 L506.6263 367.2987 L506.6737 367.3116 L506.7212 367.3246 L506.7685 367.3375 L506.8159 367.3503 L506.8632 367.3632 L506.9104 367.376 L506.9576 367.3887\" style=\"fill:none; fill-rule:evenodd;\"\n",
       "    /></g\n",
       "  ></g\n",
       "></svg\n",
       ">\n"
      ]
     },
     "metadata": {
      "filenames": {
       "image/svg+xml": "/Users/eechris/code/src/github.com/cpjobling/eg-247-textbook/_build/jupyter_execute/laplace_transform/4/transfer_functions_50_0.svg"
      }
     },
     "output_type": "display_data"
    }
   ],
   "source": [
    "semilogx(w, abs(Gs))\n",
    "xlabel('Radian frequency w (rad/s')\n",
    "ylabel('|Vout/Vin|')\n",
    "title('Magnitude Vout/Vin vs. Radian Frequency')\n",
    "grid"
   ]
  },
  {
   "cell_type": "markdown",
   "id": "f3220853",
   "metadata": {
    "slideshow": {
     "slide_type": "slide"
    }
   },
   "source": [
    "## Using Transfer Functions in MATLAB for System Analysis\n",
    "\n",
    "Please use the file [tf_matlab.m](https://cpjobling.github.io/eg-247-textbook/laplace_transform/matlab/tf_matlab.m) to explore the Transfer Function features provide by MATLAB. Open the file as a Live Script to see a nicely formatted document."
   ]
  },
  {
   "cell_type": "markdown",
   "id": "ef6ee192",
   "metadata": {
    "slideshow": {
     "slide_type": "slide"
    }
   },
   "source": [
    "## Using Transfer Functions in Simulink for System Simulation"
   ]
  },
  {
   "cell_type": "markdown",
   "id": "f96a55b8",
   "metadata": {
    "slideshow": {
     "slide_type": "fragment"
    }
   },
   "source": [
    "![Using Transfer Functions in Simulink for System Simulation](pictures/sim_tf.png)"
   ]
  },
  {
   "cell_type": "markdown",
   "id": "7cc778fe",
   "metadata": {
    "slideshow": {
     "slide_type": "fragment"
    }
   },
   "source": [
    "The Simulink transfer function (**`Transfer Fcn`**) block implements a transfer function"
   ]
  },
  {
   "cell_type": "markdown",
   "id": "f9a5a5d2",
   "metadata": {
    "slideshow": {
     "slide_type": "subslide"
    }
   },
   "source": [
    "The transfer function block represents a general input output function\n",
    "\n",
    "$$G(s) = \\frac{N(s)}{D(s)}$$\n",
    "\n",
    "and is not specific nor restricted to circuit analysis."
   ]
  },
  {
   "cell_type": "markdown",
   "id": "20592984",
   "metadata": {
    "slideshow": {
     "slide_type": "fragment"
    }
   },
   "source": [
    "It can, however be used in modelling and simulation studies."
   ]
  },
  {
   "cell_type": "markdown",
   "id": "fa01d77f",
   "metadata": {
    "slideshow": {
     "slide_type": "slide"
    }
   },
   "source": [
    "### Example\n",
    "\n",
    "Recast Example 7 as a MATLAB problem using the LTI Transfer Function block. \n",
    "\n",
    "For simplicity use parameters $R_1 = R_2 = R_3 = 1\\; \\Omega$, and $C_1 = C_2 = 1$ F.\n",
    "\n",
    "Calculate the step response using the LTI functions."
   ]
  },
  {
   "cell_type": "markdown",
   "id": "3d01dd26",
   "metadata": {
    "slideshow": {
     "slide_type": "subslide"
    }
   },
   "source": [
    "Verify the result with Simulink.\n",
    "\n",
    "The Matlab solution: [example8.m](https://cpjobling.github.io/eg-247-textbook/laplace_transform/matlab/example8.m)"
   ]
  },
  {
   "cell_type": "markdown",
   "id": "2b1dddad",
   "metadata": {
    "slideshow": {
     "slide_type": "subslide"
    }
   },
   "source": [
    "#### MATLAB Solution\n",
    "From a previous analysis the transfer function is:\n",
    "\n",
    "$$G(s) = \\frac{V_\\mathrm{out}}{V_\\mathrm{in}} = \\frac{-1}{R_1\\left[(1/R_1 + 1/R_2 + 1/R_3 + sC_1)(sR_3C_2) + 1/R_2\\right]}$$"
   ]
  },
  {
   "cell_type": "markdown",
   "id": "f70f430a",
   "metadata": {
    "slideshow": {
     "slide_type": "subslide"
    }
   },
   "source": [
    "so substituting the component values we get:\n",
    "\n",
    "$$G(s) = \\frac{V_{\\mathrm{out}}}{V_{\\mathrm{in}}} = \\frac{-1}{s^2 + 3s + 1}$$"
   ]
  },
  {
   "cell_type": "markdown",
   "id": "c9811cfd",
   "metadata": {
    "slideshow": {
     "slide_type": "subslide"
    }
   },
   "source": [
    "We can find the step response by letting $v_{\\mathrm{in}}(t) = u_0(t)$ so that\n",
    "$V_{\\mathrm{in}}(s)=1/s$ then \n",
    "\n",
    "$$V_{\\mathrm{out}}(s) = \\frac{-1}{s^2 + 3s + 1}.\\frac{1}{s}$$"
   ]
  },
  {
   "cell_type": "markdown",
   "id": "c6890755",
   "metadata": {
    "slideshow": {
     "slide_type": "subslide"
    }
   },
   "source": [
    "We can solve this by partial fraction expansion and inverse Laplace transform\n",
    "as is done in the text book with the help of MATLAB's `residue` function.\n",
    "\n",
    "Here, however we'll use the LTI block."
   ]
  },
  {
   "cell_type": "markdown",
   "id": "470183d0",
   "metadata": {
    "slideshow": {
     "slide_type": "subslide"
    }
   },
   "source": [
    "Define the circuit as a transfer function"
   ]
  },
  {
   "cell_type": "code",
   "execution_count": 10,
   "id": "23071aef",
   "metadata": {
    "slideshow": {
     "slide_type": "fragment"
    }
   },
   "outputs": [
    {
     "name": "stdout",
     "output_type": "stream",
     "text": [
      "\n",
      "G =\n"
     ]
    },
    {
     "name": "stdout",
     "output_type": "stream",
     "text": [
      " \n"
     ]
    },
    {
     "name": "stdout",
     "output_type": "stream",
     "text": [
      "       -1\n"
     ]
    },
    {
     "name": "stdout",
     "output_type": "stream",
     "text": [
      "  -------------\n"
     ]
    },
    {
     "name": "stdout",
     "output_type": "stream",
     "text": [
      "  s^2 + 3 s + 1\n"
     ]
    },
    {
     "name": "stdout",
     "output_type": "stream",
     "text": [
      " \n"
     ]
    },
    {
     "name": "stdout",
     "output_type": "stream",
     "text": [
      "Continuous-time transfer function.\n",
      "\n"
     ]
    }
   ],
   "source": [
    "G = tf([-1],[1 3 1])"
   ]
  },
  {
   "cell_type": "markdown",
   "id": "39bfe1d0",
   "metadata": {
    "slideshow": {
     "slide_type": "subslide"
    }
   },
   "source": [
    "step response is then:"
   ]
  },
  {
   "cell_type": "code",
   "execution_count": 11,
   "id": "397f80a1",
   "metadata": {
    "slideshow": {
     "slide_type": "fragment"
    }
   },
   "outputs": [
    {
     "data": {
      "image/svg+xml": [
       "<?xml version=\"1.0\"?>\n",
       "<!DOCTYPE svg PUBLIC '-//W3C//DTD SVG 1.0//EN'\n",
       "          'http://www.w3.org/TR/2001/REC-SVG-20010904/DTD/svg10.dtd'>\n",
       "<svg xmlns:xlink=\"http://www.w3.org/1999/xlink\" style=\"fill-opacity:1; color-rendering:auto; color-interpolation:auto; text-rendering:auto; stroke:black; stroke-linecap:square; stroke-miterlimit:10; shape-rendering:auto; stroke-opacity:1; fill:black; stroke-dasharray:none; font-weight:normal; stroke-width:1; font-family:'Dialog'; font-style:normal; stroke-linejoin:miter; font-size:12px; stroke-dashoffset:0; image-rendering:auto;\" width=\"560\" height=\"420\" xmlns=\"http://www.w3.org/2000/svg\"\n",
       "><!--Generated by the Batik Graphics2D SVG Generator--><defs id=\"genericDefs\"\n",
       "  /><g\n",
       "  ><defs id=\"defs1\"\n",
       "    ><clipPath clipPathUnits=\"userSpaceOnUse\" id=\"clipPath1\"\n",
       "      ><path d=\"M0 0 L560 0 L560 420 L0 420 L0 0 Z\"\n",
       "      /></clipPath\n",
       "    ></defs\n",
       "    ><g style=\"fill:white; stroke:white;\"\n",
       "    ><rect x=\"0\" y=\"0\" width=\"560\" style=\"clip-path:url(#clipPath1); stroke:none;\" height=\"420\"\n",
       "    /></g\n",
       "    ><g\n",
       "    ><image x=\"0\" y=\"0\" width=\"560\" xlink:href=\"data:image/png;base64,iVBORw0KGgoAAAANSUhEUgAAAjAAAAGkCAIAAACgjIjwAAAkSUlEQVR42u3dC3ST\n",
       "9fnAcbxwvMG0ctHN4dzRoah4hrIhY4hu43i2eZvOG+oBL6NOaQgECMmA5FAquHYi\n",
       "UZwIFmgWWNCp3Cq4EZATBWMT7GTtLAGkunihoeVS0qRt+D/LK/nHpDgEbH5v8v0c\n",
       "juft2zYlPOn79Ze8SbocAgBAAV34JwAAECQAAAgSAIAgAQBAkAAABAkAAIIEACBI\n",
       "AAAQJAAAQQIAgCABAAgSAAAECQBAkAAAIEgAAIIEAABBAgAQJAAACBIAgCABAECQ\n",
       "AAAECQAAggQAIEgAABAkAABBAgCAIAEACBIAAAQJAECQAAAgSAAAggTkr6amppqa\n",
       "mj179vBPARAkIDva2tpGjx59yimndOnS5aSTTrrjjjsOHjzY0tIyadKkZcuWHcMF\n",
       "Ll++vEuKnj17FhcX8+8MECTgf3A6nZKN22+//dVXX/3Nb34j2yUlJfv27ZON+++/\n",
       "/5iDNGTIkFmzZpnN5h49esiH7777Lv/UAEECvorkR4IxZsyYhoaGzz///I9//OPq\n",
       "1av79u0rO7t373733XfL1zz99NPf//73zz777DvvvLOxsXH+/PmXXnrpyJEjZc8l\n",
       "l1zy17/+NTNIJpNJ+/Dhhx+WD+UyMy/n448/vuGGG04//XT5Qffdd5+szI50ybJf\n",
       "PjzjjDMGDx78zjvvaHvkK4uKis4991xZhLlcrsxLy/yJjBsECVBXXV1dQUGBNOPk\n",
       "k0++5pprZs6cGY1GFy9eLHuGDh26bt26l19+WbZHjx795JNPdu3a9d5775WvkT0D\n",
       "Bw6UKki6ZGd9fX1akIYNG1ZWVma1WqUWvXr1khhkXs7kyZNlz8KFC2fMmHHWWWfJ\n",
       "Wq3DS/Z4PLJz+PDhL7zwwoUXXiiX1tTUpH3lVVddNWXKFIlQnz59Mi8t8ycybhAk\n",
       "QGmfffZZaWnpz3/+czlqyxH8d7/7Xepddvfcc49sP/LII3Jk79Gjhxz9tRhIq+Sz\n",
       "S5YskW0JWFqQTjvtNCmHdoF33XVXh5fjcDhkT+/evWVBI0uctra2Di953LhxshEM\n",
       "BmXns88+K9tr1qzRvlJ7lEvCecopp2ReWuZPZNYgSIC65HD/s5/9TNYcsr1r1y45\n",
       "al9wwQWpQbrttttk22g0Wg7T7uV76623kvmZN29eWpC0u+zkcq6++mr5cOvWrZmX\n",
       "09raunbt2jFjxsi6Rz4lKxstM2mX/Pjjj8vGRx99JDtffPFF2ZZPaV+5adMm2Xnz\n",
       "zTefdNJJspF2aR3+RCYOggQoSg7TctT+9a9//fLLL8tBXI7sv/jFLw4cOCA7+/fv\n",
       "v2HDhjlz5sj2xIkTZeHyk5/8ZMSIEVoMJANer/f666+X7erq6g6DJKZNmyYfVlZW\n",
       "Zl7OAw888K1vfUta9frrr8unDAZDh5csyyBt3SY7BwwYcOaZZ37yySeZQcq8tMyf\n",
       "yLhBkAB1RSIRWQlpp32LQYMGaXeO3XjjjdqHsVhs5MiRJ598shz0r7rqqp07d2ox\n",
       "kE/Jf0899VSbzZZ6gStWrJD9EyZM0D6sqKiQD5966qnMy5F4/OAHP9B+rmzU1dUd\n",
       "6ZLl0rR7/3r27CnhlD2pQbrlllvkMjMvLfMnMm4QJEB1siT64IMP0p4YK62KRqPa\n",
       "9sGDBxsaGrTtZAzC4bB2MtvRS70cEY/HQwmy8dWXLH+Tjz/+WPuyI0m7tA5/IkCQ\n",
       "gNwxa9YsWXZs3rxZR5cMECQAAAgSAIAgAQBAkAAABAkAAIL0FeLxuMvlMpvNdru9\n",
       "traWkQMAQcqOQCBgs9kikYjf77dYLIwcAAhSdrjd7srKSm3bZDKFw2GmDgAEKQvK\n",
       "y8u9Xq+2bbfbU98sQFwzxjEaAPIDQcoyp9Pp8Xi0bavVGgqFUj8rE7p+bmB9MB/f\n",
       "vkz9WyfXnavPdc+r6577QZIaORwO2ZAUGQyGWCyWOSFpErdOrjtXn+vOdSdI36xo\n",
       "NFpaWmo2m41GY/K+O4LEbyZB4rpz3QmSihNa6AuNWlpzCAAIEkHK+oQumvEWt1cA\n",
       "BIkgZX9CeXtqAwCCRJDUmhD32gEgSARJlQlxrx0AgkSQlJhQfp5rB4AgESTlJmRf\n",
       "s0P+cKsFQJAIUpYntD7YyCIJAEEiSEpMiIeRABAkgqTEhFghASBIBEmJCfEwEgCC\n",
       "RJCUmBAPIwEgSARJlQnxMBIAgkSQlJgQryEEgCARJCUmxMNIAAgSQVJlQjyMBIAg\n",
       "ESQlJsTDSAAIEkEiSABAkJjQYZzXAIAgESQlJsR5DQAIEkFSYkI8PRYAQSJIqkyI\n",
       "h5EAECSCpMSEWCEBIEgEiSABAEFiQodxXgMAgkSQjlE8Hne5XGaz2W6319bWpn3W\n",
       "5/MtWbLk6CfEeQ0ACBJBOkaBQMBms0UiEb/fb7FYkvsbGxvnz5//+OOPL1q06GtN\n",
       "iPMaABAkgnQs3G53ZWWltm0ymcLhsLYtiaqurl62bNnXDRJPjwVAkAjS0YpGowcS\n",
       "YrFYeXm51+vV9tvt9vr6+tSv9Pl8RwpSUtqnRi2tWegLcSMGoPcOHekoR5BOJI/H\n",
       "U5pQVVXldDrlQ22/1WoNhUJHGaSvuHzOawDACokgHUucHA6HbEiKDAaDbKQuko4t\n",
       "SJzXAIAgEaSvLRqNylLJbDYbjUav1xsMBgsLC48zSJzXAIAgESQlJsR5DQAIEkEi\n",
       "SABAkJjQYbxeAwCCRJBUmRDnNQAgSARJiQlxXgMAgkSQWCEBAEFiQgQJAEEiSEpN\n",
       "iPMaABAkgqTEhHgfCgAEiSCpMiHOawBAkAiSKkHaGY5wawZAkAhSlifE6zUAIEgE\n",
       "SYkJcV4DAIJEkFSZEOc1ACBIBEmJCXFeAwCCRJCUmFCX8eu4NQMgSAQp+xPivAYA\n",
       "BIkgKTEhzmsAQJAIkhIT4vUaABAkgqTKhDivAQBBIkgECQAIEhM6jLvsABAkgqTE\n",
       "hEYtrVnoC3GbBkCQCFKWJ8SJdgAIEkFSYkKcaAeAIBEkVSbEeQ0ACBJB+t/i8bjL\n",
       "5TKbzXa7vba2Nrk/FostXrxY9hcXF9fV1R3PhHi9BgAEiSD9b4FAwGazRSIRv99v\n",
       "sViS+zds2FBWVtba2rp58+YpU6YQJAAEiSB9s9xud2VlpbZtMpnC4bC2/cYbb1RX\n",
       "V8tGU1NTUVFR5oSSjuancF4DAN116Gsd5QjSMYpGowcSYrFYeXm51+v9Iht2e319\n",
       "fepX7tu3b86cOcuWLTvO/2XgvAYArJAIUgc8Hk9pQlVVldPplA+1/VarNRT6/+cM\n",
       "SaimTp26cePG458Q5zUAIEgE6X/HyeFwyIakyGAwyIa2SNq0aVNZWVlzc/MJmZAE\n",
       "aWc4wi0bAEEiSEcUjUZlqWQ2m41GoyyJgsFgYWGh7J89e/a4ceOsCSUlJcc5Ic5r\n",
       "AECQCJISE+L1GgAQJIKkyoQ4rwEAQSJISkyI8xoAECSCpMSEuoxfxy0bAEEiSNmf\n",
       "EHfZASBIBEmJCXFeAwCCRJCUmBDvQwGAIBEkVSbEeQ0ACBJBUmJCnNcAgCARJCUm\n",
       "xOs1ACBIBEmJCXFeAwCCRJBUmRDnNQAgSARJiQlxXgMAgkSQCBIAECQmdBjnNQAg\n",
       "SARJiQlxXgMAgkSQlJgQr9cAgCARJFUmxMNIAAgSQSJIAECQmNBh3GUHgCARJCUm\n",
       "NGppzUJfiFs5AIJEkLI8IamRNIlbOQCCRJCyPyEeRgJAkAgSQQIAgsSEDuO8BgAE\n",
       "iSCli8fjLpfLbDbb7fba2trk/lgstmDBgkmTJhUXF2/fvv3ETogXawBAkAhSukAg\n",
       "YLPZIpGI3++3WCzJ/W+++abD4Whra1u9enVZWdmJnRCv1wCAIBGkdG63u7KyUts2\n",
       "mUzhcDgZKm1h5PP5nnrqqcwJJR3DD90ZjvAwEgDFO3Q8RzmCdLSi0eiBhFgsVl5e\n",
       "7vV6tf12u72+vj71K+fNm/fYY4+98847J/x/GQgSAFZIBOmQx+MpTaiqqnI6nfKh\n",
       "tt9qtYZCXzxldffu3dIt2fjss8/Gjh3b0tJyYifE+1AAIEgEKT1ODodDNiRFBoNB\n",
       "NrRF0vz581euXCkbe/fuLSoqam5uPrET4n0oABAkgvQlsgySpZLZbDYajV6vNxgM\n",
       "FhYWan2akjBx4sR169Z9ExPivAYABIkgKTEhHkYCQJAIkhIT6jJ+Hbd1AASJIGV/\n",
       "QpzXAIAgESQlJsR5DQAIEkFSYkK8XgMAgkSQVJkQ5zUAIEgEiSABAEFiQodxlx0A\n",
       "gkSQlJgQ5zUAIEgESYkJcV4DAIJEkFSZEA8jASBIBEmJCfH0WAAEiSApMaFRS2sW\n",
       "+kLc6AEQJIKU/QnxMBIAgkSQlJgQDyMBIEgESYkJ8bLfAAgSQVJiQpzXAIAgESQl\n",
       "JsTTYwEQJIKkxIR4eiwAgkSQVJkQ5zUAIEgESYkJsUICQJAIEkECAILEhA7jYSQA\n",
       "BIkgKTGhneEIDyMBIEgESYkJ8fRYAAQpr4MUj8ddLpfZbLbb7bW1tWmfjcVixcXF\n",
       "27Zt64QJ8fRYAAQpr4MUCARsNlskEvH7/RaLJe2z0iqDwfDBBx90woR4eiwAgpTX\n",
       "QXK73ZWVldq2yWQKh8PJT7333nvz5s17/vnnOydIhzjXDgBByrcgRaPRAwmxWKy8\n",
       "vNzr9X6xRrHb6+vrte2mpqYZM2Y0NzcfKUhJJ/AvxnkNANTp0DdxlCNI6TweT2lC\n",
       "VVWV0+mUD7X9Vqs1FPrivfJkbbR48eK33nrriSeeeOWVV/bv3985KyQeRgLACimP\n",
       "gpQWJ4fDIRuSIoPBIBvaImnLli0bEoqLi5ctW7Zv375OmBAPIwEgSPkbpGg0Kksl\n",
       "s9lsNBq9Xm8wGCwsLEz9Alkq1dXVdc6EeHosAIKUv0FSbUI8jASAIBEkJSbECgkA\n",
       "QSJISkyIh5EAECSCpMSEeBgJAEEiSKpMiIeRABCknArSkiVLbr311hdffNHhcOzd\n",
       "u1dHE+LZSAAIUu4E6U9/+tOll15600032Ww2k8k0cOBAggQABCkLrr76ar/fX1ZW\n",
       "JkGSDy+++OL//Oc/OprQqKU1/BoAIEi5EKQhQ4asX79eC9L+/ft79uyZ+qqp6k+I\n",
       "h5EAEKQcCdKKFSt69eo1cODAa6+9tn///g888IC+JiRB2hmO8JsAgCDpPkiHEm8e\n",
       "MXXqVIPB8NJLL8XjcX1NiIeRABCk3AmSrie00BfiYSQABEnfQerXr1/vjpzYM787\n",
       "YUI8jASAIOk7SNu3b//ggw+MRuPQoUO9Xu/WrVsnTJgwYMCA9vZ2ggQABKmzXXHF\n",
       "FZKi5Id9+/ZNvhWsXibEw0gACFIuBOnaa69duXKlth0OhwsKCnbv3q2vCfEwEgCC\n",
       "lAtBqqio6Nat28iRI4uKir73ve+NGDFCjxPiXjsABEn3QRJvv/22xWIZN26c2+0+\n",
       "sQ8gddqEuNcOAEHSfZCef/75iV8WiUR0NyGCBIAg6T5I8+fPtyZMmDDhhz/84ZAh\n",
       "Q6LRqB4nxHsjASBI+g5SKlkbXXjhhc3NzXqcEA8jASBIuROk1tbW888/v66uTqcr\n",
       "JO61A0CQdBykMWPGDDlManT55ZdLlvQ4IfuaHfKHXwkABEmvQVq0aNFLL720KmH9\n",
       "+vXr1q3TaZAO8TASAIKk0yA1NTXt2LFj0KBBy5cv35Gwbdu2goIC3b2WXRIPIwEg\n",
       "SLoM0jPPPCP5OfXUU7t3715w2NChQ4/0DhSy3+Vymc1mu91eW1ub+qlZs2bZE8rL\n",
       "y1khASBIBOlY3H777dXV1UfzlYFAwGazRSIRv99vsVhSV1rTp09vSYjFYlmcEA8j\n",
       "ASBIOg7S0XO73ZWVldq2yWRKvtP51q1b58yZ4/V6pVhtbW1ZnND6YCOLJAAESX9B\n",
       "uuGGG1avXv3QQw/1/7J9+/YlvyYajR5IkKVPeXm5VOeLtYjdnnxRcI/HU1JSIv99\n",
       "7rnnZs+enTmhpE64UjyMBKDzO9SZR7ncDNKmTZs+//zz6urqjV+WepadZKY0oaqq\n",
       "yul0yofafqvVGgqF0i6wvb197NixaedEdPKEeDYSAFZI+gvSdddd178jqSukVFIj\n",
       "h8MhG5Iig8EgG9oiye12a6HavXu37E975aHOnxBvRQGAIOksSJs3b9aWRBs2bKio\n",
       "qJg3b97rr7+etkJKJaWRpZLZbDYajV6vNxgMFhYWyv5PP/106tSpxcXF8imfz5f1\n",
       "CXGvHQCCpLMgaaQr/fr1O+uss3r16tWtW7fFixfrfULcaweAIOkySLfeemtRUZF2\n",
       "P9vatWu7d++ux7efSMXJ3wAIki6DdNlll23bti354RVXXJH2pFc9ToiTvwEQJP0F\n",
       "6cEHHywuLta2fT5fnz59dPp+SKl4GAkAQdJfkO6///4uXbpceOGF/fv3P/nkk3v3\n",
       "7n1NwnvvvafrFRIPIwEgSDoLkt/v/0dHmpqa9Duhhb4QJ38DIEg6C1KuToh77QAQ\n",
       "JJ0FyePxDBs2bECKIz0xVl8T4rwGAARJZ0EaOHDgpEmT1q1b5zlMv2/Ql4qTvwEQ\n",
       "JJ0FSZZEW7Zsyb0J8crfAAiSzoK0aNGin/70p9pbS2hyY4X033/68ev4DQFAkHQT\n",
       "JPkXLCgoGDRo0ODD9u/fnxsTGrW0ZqEvxC8JAIKkjyD169fvn//8Z65OiHvtABAk\n",
       "3QTpoYceqqioyNUJcfI3AIKkmyCNGTOmS5cuAwcOHHJYztxld4iXbABAkHQUpE2b\n",
       "Nq1KMXfu3IMHD+bMhHjJBgAESTdB0siqaP78+YMGDZLV0ol60SBFJsS9dgAIkm5W\n",
       "SA8//HC3bt169Ogxbdq0urq6HJsQ5zUAIEiqB2nu3LlXXnllQUGB/CNardabbrop\n",
       "JyfEvXYACJLqQerVq9fll1/+7rvvyvby5ctvvvnmnJzQznCEe+0AECSlg7R161aj\n",
       "0dijR4+rrrrqt7/9ba4G6RDn2gEgSIoHSRONRt1u9/Dhw7t27fqrX/1Kttvb23Ns\n",
       "QrzQKgCCdEhH74e0c+fOadOm9enTJ8fOstNwrx0AgqSzN+g7scsjdSbEvXYACBLv\n",
       "GKvEhLjXDgBBIkiqTIh77QAQpBwRj8ddLpfZbLbb7bW1tamf2rhxo81mKykpqa6u\n",
       "VnZCPEMWAEHKEYFAQKoTiUT8fr/FYknu37Vrl1Rqz549dXV106ZNU3ZC3GsHgCDl\n",
       "CO1dZbVtk8kUDoe17ddee2316tVSo3//+9+7d+/OnFBS1q8C99oB+CY6pM5RLpeD\n",
       "FI1GDyTEYrHy8nKv1/vFasNur6+v17YXLFgwefJkydXzzz//5JNPpp2np9SEONcO\n",
       "ACskvfJ4PKUJVVVVTqdTPtT2W63WUOiLdweXUL300kva9pQpU5KhUnBC3GsHgCDl\n",
       "AqmRw+GQDUmRwWCQDa0969evl7WRbDQ3N5tMpoaGBpUnxL12AAiS7kWjUVkqmc1m\n",
       "o9Ho9XqDwWBhYaHsb21tnTt3rs1mk0+tWbNG8Qlxrx0AgsSElMC7UQAgSExIFdxr\n",
       "B4AgMSEl8AxZAASJCSlhfbCRJgEgSExICdxrB4AgMSEljFpas9AX4vcHAEFiQtnH\n",
       "vXYACBITUiVIPCEJAEFiQtnHE5IAECQmpApObQBAkJiQEngYCQBBYkJK4AlJAAgS\n",
       "E1JokbQzHOEXCQBBYkJZxjskASBITEgVnNoAgCAxISXwhCQABIkJKdQkfpcAECQm\n",
       "RJAAcLgjSEwogVMbABAkJqQKTm0AQJCYkBI4tQEAQWJCCjWJ3ygABIkJsUgCwOGO\n",
       "IBGkw3hDCgAEiQmpskjilwoAQVJdPB53uVxms9lut9fW1ib3r1271p4iHA7rN0i8\n",
       "ax8AgqQDgUDAZrNFIhG/32+xWJL7ZU9jgs/nmzlzZnt7u36DdIjzvwEQJPW53e7K\n",
       "ykpt22Qypa2EDh48OHXq1IaGBt1NKA0rJAAESUXRaPRAQiwWKy8v93q92n673V5f\n",
       "X5/6lUuWLFm1alWHE0rSxVXeGY6wSALwtTqkl6OcvoPk8XhKE6qqqpxOp3yo7bda\n",
       "raFQKPll+/fvNxgMzc3Nevxfhkyc/w2AFZLqcXI4HLIhKZL8yEZykSQrp2effVan\n",
       "EzpSk/jtAkCQFBWNRmWpZDabjUajFCgYDBYWFmqfcrvdr732Wo4FiUUSAILEhFgk\n",
       "AeBwR5AIEkECQJCYkFLWBxtpEgCCxIRUWSTxSBIAgsSEVGkSv2YACBITYpEEgMMd\n",
       "QSJILJIAECQmRJAAcLgjSAQpHafbASBITEihRRKPJAEgSExICbwEOACCxIRYJAHg\n",
       "cEeQCBKLJAAEiQmpZtTSmoW+EL91AAgSE2KRBIDDHUEiSCnrJH7xABAkJqREkDi7\n",
       "AQBBYkJK4HmyAAgSE1IlSJzdAIAgMSElcHYDAILEhJRgX7ODsxsAECQmpAReuwEA\n",
       "QWJCquCOOwAEiQmpskiyr9nB7yEAgsSElFgk7QxH+FUEQJA6Tzwed7lcZrPZbrfX\n",
       "1tYm97e3t1dUVEyaNMlms/3rX//KtyAt9IV4WhIAgtSpAoGAJCcSifj9fovFktz/\n",
       "3nvvTZ8+PRaLvf3221OnTs23IB3iaUkACFInc7vdlZWV2rbJZAqHw9p2TU3NzJkz\n",
       "W1tbJVTFxcV5GKRDnN0AgCB906LR6IEEWQCVl5d7vV5tv91ur6+v17abm5unTZs2\n",
       "YcKERx991OPxZE4oKefXSfxCAvnZIb0c5fQdJAlMaUJVVZXT6Uz2xmq1hkJf3Em1\n",
       "fPnyxYsXx+PxhoYGo9G4b9++PFwhHeKMO4AyEaTOjJPD4ZANSZHBYJANbZHkdrsr\n",
       "Kipk4+DBg+PHj0/elZdvQTrEU2UBgkSQOkc0GpWlktlslmWQ1+sNBoOFhYWyf8+e\n",
       "PdOnT5c108SJE1euXKm7CZ1YPJgEECSCxISUwGvcARzuCBITUmiRxFngAIc7gsSE\n",
       "VGkSL98AcLgjSExIlSbx+wlwuCNITCj7eDAJ4HBHkJiQKnhmEsDhjiAxIYWaxDOT\n",
       "AA53BIkJZd/OcIQHkwAOdwSJCamCJgEc7ggSE1IFL70KcLgjSExICZx0B3C4I0hM\n",
       "SKFFEifdARzuCBITokkACBITAk0CONwRJCZEkwBwuCNIBIkmARzuCBITokkAONwR\n",
       "JIJ0lHjCLMDhjiAxISXsDEd4wizA4Y4gMSGaBIAgMSF8GU0CONwRJCakyjqJx5MA\n",
       "DncEiSCp0iRe7w7gcEeQCJJCTWKpBHC4I0gESQk0CeBwR5AIkirWBxtpEsDhjiAd\n",
       "UTwed7lcZrPZbrfX1tYm97e0tCxYsED2l5SU7Nq1iyCdENppDryUA0CQCFIHAoGA\n",
       "zWaLRCJ+v99isST3r1y58rnnnmtvb3/zzTdnzZpFkE5gk7j7DiBIBKkDbre7srJS\n",
       "2zaZTOFwWNuWGvl8PtlobW2VeUSj0bQJJXF7PQY0CVC/Q3o5yuk7SFKXAwmxWKy8\n",
       "vNzr9X5xlLTb6+vrkyukOXPmNDQ0vPHGGzIP2WCFdMKXStx9B7BCyvcgeTye0oSq\n",
       "qiqn0ykfavutVmsoFNK2ZWG0atWquXPnrl69esKECfF4nCB9E01iqQQQpLwOUlqc\n",
       "HA6HbEiKDAaDbGiLpC1btvz973+XDb/fL0sl3U1IX1niTSsAgkSQ/nv3nSyVzGaz\n",
       "0Wj0er3BYLCwsFD2RyKRJ598csqUKSaTSXYSJJZKAEEiSEwoj7IkTeJ1hgAOdwSJ\n",
       "IClBWypxDx7A4Y4gESSFssS/A8DhjiARpOzTTnYgSwCHO4JEkJSw0BfigSWAwx1B\n",
       "IkgKZUlWS2QJ4HBHkAgSWQI43BEkJoQM3IkHcLgjSARJrdUSpzwAHO4IEkFShSyV\n",
       "eN4SQJCYEFShPW9J1kz8UwAEiQkh+9YHG7UFE48wAQSJCUEJyUeYuCsPIEhMCEqQ\n",
       "IGllYs0EECQmBLXWTJQJIEhMCKqUSXuciTv0AILEhKCK5B16vGUtQJCYEFSME3fr\n",
       "AQSJCUEJ2gNOXcav0x5zkg/5NwGHO4LEhJB90qTUPvEPAg53BIkJQZU+JU+LIFHg\n",
       "cEeQmBCUS1RyFcWjUOBwR5CYENStFKEChzuCRJCgaKgkUWmtIlfgcEeQCBLXXZXr\n",
       "nsxVWrFSo5Wtp0wxeq47Qcomn8+3ZMkSbp1cd6WuuwRJK1NqurR6pS65tD/Jrzz+\n",
       "jDF6rjtByo7Gxsb58+c//vjjixYt4tbJdc+N655ZssyepVYtrW3fGbs0tXDJzuXD\n",
       "i1xwsydI2RSJRKqrq5ctW3akIAFIumaMQ/vTt2hB5h8pWeaf7sYVR/qTmsYO/3zF\n",
       "92b+6fCnf90/HV6vLP5J/msn/+W/0T8EKQui0eiBhFgslrzLrsMg2e12ttlmm+28\n",
       "2iZIncrj8ZQmVFVVfXWQAAAEqVMRJAAgSAQJAECQAAAECQAAggQAIEh6EI/HXS6X\n",
       "2Wy22+21tbX5dvVnzZplTygvL8+rK576gh35dhtIe7GS/LkNxGKxxYsXy6CLi4vr\n",
       "6uryavSZ113x0edpkAKBgM1mi0Qifr/fYrHk1XVvamqaPn16S0LyeVo5L/MFO/Ln\n",
       "NpB53fPqNrBhw4aysrLW1tbNmzdPmTIlr0afed0VH32eBsntdldWVmrbJpMpHA7n\n",
       "z3XfunXrnDlzvF6v/Fq2tbXlybXOfMGO/LkNZF73vLoNvPHGG3L1tWNxUVFRXo0+\n",
       "87orPvo8DZKsVWUk2rYsXevr6/Pnuns8npKSEvnvc889N3v27Lyae+rZ//l2G0i9\n",
       "7nl4G9i3b58ciKXKeTj61Ouu+OjzNEhOp1NGom1brdZQKJSH/wjt7e1jx47du3dv\n",
       "fgYp324DHT4VL09uA5KfqVOnbty4MQ9Hn3bdFR99ngZJbo4Ox39fZ1BuiwaDIX8e\n",
       "StHur9B+G3fv3i3XPRqN5meQ8u02kHrd8+o2sGnTprKysubm5jz89c+87oqPPk+D\n",
       "JGMoLS01m81GozG5eM8Tn376qfwfU3FxsVx9OUjl1XVPPSjn220g9brn1W1g9uzZ\n",
       "48aNsyaUlJTk1egzr7vio8/r5yHJ/zjkz6P6aQ4cOBCPxw/lPW4DjJ7REyQAAAgS\n",
       "AIAgAQBAkIBOlcWXpWlpadm+fTsjAEEC9KS5ublLhvHjxw8dOvR4LjYQCBznJRyl\n",
       "d95557LLLkvbGYvF+vbt+9FHHzFfECRAT+IJDodj2LBh2nZDQ4Pf7z+ey7zxxhtf\n",
       "e+21zgmStCdz/6xZsx599FGGC4IE6M8zzzxz/fXXa9v/+Mc/7r777uXLl995552y\n",
       "0OnWrdvIkSMnT55cUFDwne985/XXX9e+rLS09IILLjj//PP/8Ic/pF5UXV2d7AwG\n",
       "g4MGDTr99NO/+93vulyuI33L9OnT5TLlR9xzzz0HDx7UWtKnT59zzjlH/g579uyR\n",
       "v8aIESMklqeddpr8ZWSPJFO+/bzzzpOvuf3227Ugbd++PfXHSVPPPPPMlpYWJguC\n",
       "BOg4SNIAOfQ7nU45pm/evPmTTz7RghEOh61W60033SRfs3r16ksuueTDDz+sr6+/\n",
       "/PLL3W538qL+9re/ybdPnDjxtttua2tre/XVV/v379/ht8gqSuL0/vvvh0Ih+Zqy\n",
       "sjL50T169NiyZYuEZ/jw4Q8++KD8Nbp27frmm29KY6688soXXnhh2bJl3/72t2tq\n",
       "anbv3i1/Zy1ImT9OLke+i8mCIAG5EKQbb7xR23PZZZdpr7kisbnhhhtk4/e///3A\n",
       "gQMnJAwePPiBBx5IXtSMGTPkQ7mQM844495775WESEs6/BbZI9vad+1NePTRR8eP\n",
       "H6/t2bhxo+RK/hraT9Qu4Yknnhg9erTkR9uzdu1aLUiZP05+1l/+8hcmC4IE5EKQ\n",
       "tMWQFqS3335bNl555RUtD4888sgvf/nLZw9btWpV8qKmTZsmYZCNbdu2Pf3009dd\n",
       "d12vXr1kxZP5LaNGjZIv1r7ro48+CgaD8jWTJ0/W9vh8vnPPPTf1r6EF6eGHH5aF\n",
       "mrZH1kDJx5DSftyPfvSjl19+mcmCIAE5HqSKiooBAwbImqa9vf2OO+5YsGBB8qJe\n",
       "fPFFWQBJPOx2+6HE6/937dr1/fffz/yWP//5z/369ZM9zc3N0o+lS5cuWrTooosu\n",
       "+uyzz+RrZAl12223ZQZJvubiiy+WZVA8Hr/nnnu0IGX+OMlSTU0NkwVBAnRGlizJ\n",
       "IK1YsWLYsGFSgptvvvlIQWpra3vwwQfPOeec884775Zbbkl90egdO3b07Nnz3Xff\n",
       "7dOnj9SlR48eI0aMkMBkfks0Gr3rrrvOPvvs3r1733fffW0Jo0eP1vb8+Mc//vDD\n",
       "D1P/Go899tjMmTNbW1tHjhzZvXt3+RoJpxYkv9+f+uM+//zzM844Q76SyYIgAXkh\n",
       "Eons378/c//w4cPdbrdE6JNPPkn7gsxvkeWRdn5dUktLS2Nj41f/aPmutMtJ/XGy\n",
       "kDKZTAwIBAnId5s3bx48eHC2frosvGRJp53aABAkIN9t27YtWz+6tbV1165djAAE\n",
       "CQAAggQAIEgAABAkAABBAgCAIAEACBIAAAQJAECQAAAgSAAAggQAAEECABAkAAAI\n",
       "EgCAIAEAQJAAAPnl/wBFH9hEJcplggAAAABJRU5ErkJggg==\" style=\"clip-path:url(#clipPath1);\" height=\"420\" preserveAspectRatio=\"none\"\n",
       "    /></g\n",
       "  ></g\n",
       "></svg\n",
       ">\n"
      ]
     },
     "metadata": {
      "filenames": {
       "image/svg+xml": "/Users/eechris/code/src/github.com/cpjobling/eg-247-textbook/_build/jupyter_execute/laplace_transform/4/transfer_functions_66_0.svg"
      }
     },
     "output_type": "display_data"
    }
   ],
   "source": [
    "step(G)"
   ]
  },
  {
   "cell_type": "markdown",
   "id": "de6a53fd",
   "metadata": {
    "slideshow": {
     "slide_type": "notes"
    }
   },
   "source": [
    "Simples!"
   ]
  },
  {
   "cell_type": "markdown",
   "id": "e6ad1e59",
   "metadata": {
    "slideshow": {
     "slide_type": "subslide"
    }
   },
   "source": [
    "#### Simulink model\n",
    "\n",
    "See [example_8.slx](https://cpjobling.github.io/eg-247-textbook/laplace_transform/matlab/example_8.slx)"
   ]
  },
  {
   "cell_type": "code",
   "execution_count": 12,
   "id": "eed21f7f",
   "metadata": {
    "slideshow": {
     "slide_type": "fragment"
    }
   },
   "outputs": [],
   "source": [
    "open example_8"
   ]
  },
  {
   "cell_type": "markdown",
   "id": "306f9c20",
   "metadata": {
    "slideshow": {
     "slide_type": "notes"
    }
   },
   "source": [
    "![Simulink model](pictures/ex8_sim.png)"
   ]
  },
  {
   "cell_type": "markdown",
   "id": "85e68b01",
   "metadata": {
    "slideshow": {
     "slide_type": "notes"
    }
   },
   "source": [
    "Result\n",
    "\n",
    "![Simulation result](pictures/ex8_sim_result.png)"
   ]
  },
  {
   "cell_type": "markdown",
   "id": "4c0833d9",
   "metadata": {
    "slideshow": {
     "slide_type": "subslide"
    }
   },
   "source": [
    "Let's go a bit further by finding the frequency response:"
   ]
  },
  {
   "cell_type": "code",
   "execution_count": 13,
   "id": "b688be84",
   "metadata": {
    "slideshow": {
     "slide_type": "subslide"
    }
   },
   "outputs": [
    {
     "data": {
      "image/svg+xml": [
       "<?xml version=\"1.0\"?>\n",
       "<!DOCTYPE svg PUBLIC '-//W3C//DTD SVG 1.0//EN'\n",
       "          'http://www.w3.org/TR/2001/REC-SVG-20010904/DTD/svg10.dtd'>\n",
       "<svg xmlns:xlink=\"http://www.w3.org/1999/xlink\" style=\"fill-opacity:1; color-rendering:auto; color-interpolation:auto; text-rendering:auto; stroke:black; stroke-linecap:square; stroke-miterlimit:10; shape-rendering:auto; stroke-opacity:1; fill:black; stroke-dasharray:none; font-weight:normal; stroke-width:1; font-family:'Dialog'; font-style:normal; stroke-linejoin:miter; font-size:12px; stroke-dashoffset:0; image-rendering:auto;\" width=\"560\" height=\"420\" xmlns=\"http://www.w3.org/2000/svg\"\n",
       "><!--Generated by the Batik Graphics2D SVG Generator--><defs id=\"genericDefs\"\n",
       "  /><g\n",
       "  ><defs id=\"defs1\"\n",
       "    ><clipPath clipPathUnits=\"userSpaceOnUse\" id=\"clipPath1\"\n",
       "      ><path d=\"M0 0 L560 0 L560 420 L0 420 L0 0 Z\"\n",
       "      /></clipPath\n",
       "      ><font horiz-adv-x=\"50.0\" id=\"font1\"\n",
       "      ><font-face ascent=\"95.200005\" descent=\"21.3\" units-per-em=\"100\" style=\"font-style:normal; font-family:Helvetica Neue; font-weight:normal;\"\n",
       "        /><missing-glyph horiz-adv-x=\"50.0\" d=\"M40.9 66.6 L10.2 66.6 L10.2 4.7 L40.9 4.7 ZM46 71.2 L46 0.1 L5.1 0.1 L5.1 71.2 Z\"\n",
       "        /><glyph unicode=\"0\" horiz-adv-x=\"55.6\" d=\"M13.2 34.9 Q13.2 37.5 13.25 40.65 Q13.3 43.8 13.75 46.95 Q14.2 50.1 15.05 53.1 Q15.9 56.1 17.55 58.35 Q19.2 60.6 21.7 62 Q24.2 63.4 27.8 63.4 Q31.4 63.4 33.9 62 Q36.4 60.6 38.05 58.35 Q39.7 56.1 40.55 53.1 Q41.4 50.1 41.85 46.95 Q42.3 43.8 42.35 40.65 Q42.4 37.5 42.4 34.9 Q42.4 30.9 42.15 25.95 Q41.9 21 40.55 16.65 Q39.2 12.3 36.2 9.3 Q33.2 6.3 27.8 6.3 Q22.4 6.3 19.4 9.3 Q16.4 12.3 15.05 16.65 Q13.7 21 13.45 25.95 Q13.2 30.9 13.2 34.9 ZM4.2 34.8 Q4.2 30.9 4.4 26.7 Q4.6 22.5 5.4 18.5 Q6.2 14.5 7.7 10.95 Q9.2 7.4 11.8 4.7 Q14.4 2 18.35 0.45 Q22.3 -1.1 27.8 -1.1 Q33.4 -1.1 37.3 0.45 Q41.2 2 43.8 4.7 Q46.4 7.4 47.9 10.95 Q49.4 14.5 50.2 18.5 Q51 22.5 51.2 26.7 Q51.4 30.9 51.4 34.8 Q51.4 38.7 51.2 42.9 Q51 47.1 50.2 51.1 Q49.4 55.1 47.9 58.7 Q46.4 62.3 43.8 65 Q41.2 67.7 37.25 69.3 Q33.3 70.9 27.8 70.9 Q22.3 70.9 18.35 69.3 Q14.4 67.7 11.8 65 Q9.2 62.3 7.7 58.7 Q6.2 55.1 5.4 51.1 Q4.6 47.1 4.4 42.9 Q4.2 38.7 4.2 34.8 Z\"\n",
       "        /><glyph unicode=\"8\" horiz-adv-x=\"55.6\" d=\"M15.5 52.5 Q15.5 55.2 16.5 57.2 Q17.5 59.2 19.15 60.6 Q20.8 62 23.1 62.7 Q25.4 63.4 27.9 63.4 Q33.1 63.4 36.45 60.65 Q39.8 57.9 39.8 52.5 Q39.8 47.1 36.5 44.1 Q33.2 41.1 28.1 41.1 Q25.5 41.1 23.2 41.8 Q20.9 42.5 19.2 43.9 Q17.5 45.3 16.5 47.45 Q15.5 49.6 15.5 52.5 ZM6.5 52.8 Q6.5 48 9.2 43.95 Q11.9 39.9 16.4 38.1 Q10.4 36 7.2 31.35 Q4 26.7 4 20.4 Q4 15 5.85 10.95 Q7.7 6.9 10.95 4.2 Q14.2 1.5 18.6 0.2 Q23 -1.1 28.1 -1.1 Q33 -1.1 37.3 0.3 Q41.6 1.7 44.75 4.45 Q47.9 7.2 49.75 11.2 Q51.6 15.2 51.6 20.4 Q51.6 27 48.5 31.55 Q45.4 36.1 39 38.1 Q43.5 40.1 46.15 44.05 Q48.8 48 48.8 52.8 Q48.8 56.2 47.6 59.45 Q46.4 62.7 43.85 65.25 Q41.3 67.8 37.2 69.35 Q33.1 70.9 27.3 70.9 Q23.2 70.9 19.45 69.7 Q15.7 68.5 12.8 66.2 Q9.9 63.9 8.2 60.55 Q6.5 57.2 6.5 52.8 ZM13 20 Q13 23.1 14.15 25.6 Q15.3 28.1 17.35 29.9 Q19.4 31.7 22.15 32.65 Q24.9 33.6 28 33.6 Q31 33.6 33.65 32.55 Q36.3 31.5 38.3 29.7 Q40.3 27.9 41.45 25.45 Q42.6 23 42.6 20.1 Q42.6 17.1 41.55 14.6 Q40.5 12.1 38.55 10.25 Q36.6 8.4 33.95 7.35 Q31.3 6.3 28.1 6.3 Q21.5 6.3 17.25 9.95 Q13 13.6 13 20 Z\"\n",
       "        /><glyph unicode=\"-\" horiz-adv-x=\"38.9\" d=\"M5 31.8 L5 23.8 L33.9 23.8 L33.9 31.8 Z\"\n",
       "        /><glyph unicode=\"6\" horiz-adv-x=\"55.6\" d=\"M41.4 52.8 L49.9 52.8 Q49.1 61.6 43.9 66.25 Q38.7 70.9 29.9 70.9 Q22.3 70.9 17.3 67.7 Q12.3 64.5 9.3 59.2 Q6.3 53.9 5.05 47.05 Q3.8 40.2 3.8 32.9 Q3.8 27.3 4.65 21.3 Q5.5 15.3 8.1 10.3 Q10.7 5.3 15.5 2.1 Q20.3 -1.1 28.2 -1.1 Q34.9 -1.1 39.45 1.15 Q44 3.4 46.75 6.85 Q49.5 10.3 50.7 14.5 Q51.9 18.7 51.9 22.6 Q51.9 27.5 50.4 31.7 Q48.9 35.9 46.15 39 Q43.4 42.1 39.35 43.85 Q35.3 45.6 30.2 45.6 Q24.4 45.6 19.95 43.4 Q15.5 41.2 12.5 36.3 L12.3 36.5 Q12.4 40.6 13.1 45.3 Q13.8 50 15.65 54.05 Q17.5 58.1 20.8 60.75 Q24.1 63.4 29.5 63.4 Q34.6 63.4 37.7 60.5 Q40.8 57.6 41.4 52.8 ZM28.6 38.1 Q32.2 38.1 34.9 36.8 Q37.6 35.5 39.4 33.35 Q41.2 31.2 42.05 28.25 Q42.9 25.3 42.9 22 Q42.9 18.9 41.95 16.05 Q41 13.2 39.2 11 Q37.4 8.8 34.75 7.55 Q32.1 6.3 28.6 6.3 Q25.1 6.3 22.35 7.55 Q19.6 8.8 17.75 10.9 Q15.9 13 14.9 15.9 Q13.9 18.8 13.9 22.1 Q13.9 25.4 14.85 28.35 Q15.8 31.3 17.7 33.45 Q19.6 35.6 22.3 36.85 Q25 38.1 28.6 38.1 Z\"\n",
       "        /><glyph unicode=\"4\" horiz-adv-x=\"55.6\" d=\"M33.9 24.1 L10.1 24.1 L33.7 58.8 L33.9 58.8 ZM41.9 24.1 L41.9 70.9 L35.1 70.9 L2.8 24.8 L2.8 16.6 L33.9 16.6 L33.9 0 L41.9 0 L41.9 16.6 L51.5 16.6 L51.5 24.1 Z\"\n",
       "        /><glyph unicode=\"2\" horiz-adv-x=\"55.6\" d=\"M4.4 45.8 L12.9 45.8 Q12.8 49 13.55 52.15 Q14.3 55.3 16 57.8 Q17.7 60.3 20.35 61.85 Q23 63.4 26.7 63.4 Q29.5 63.4 32 62.5 Q34.5 61.6 36.35 59.9 Q38.2 58.2 39.3 55.85 Q40.4 53.5 40.4 50.6 Q40.4 46.9 39.25 44.1 Q38.1 41.3 35.85 38.9 Q33.6 36.5 30.2 34.15 Q26.8 31.8 22.3 29 Q18.6 26.8 15.2 24.3 Q11.8 21.8 9.1 18.5 Q6.4 15.2 4.65 10.75 Q2.9 6.3 2.4 0 L48.7 0 L48.7 7.5 L12.3 7.5 Q12.9 10.8 14.85 13.35 Q16.8 15.9 19.55 18.1 Q22.3 20.3 25.6 22.25 Q28.9 24.2 32.2 26.2 Q35.5 28.3 38.6 30.6 Q41.7 32.9 44.1 35.75 Q46.5 38.6 47.95 42.2 Q49.4 45.8 49.4 50.5 Q49.4 55.5 47.65 59.3 Q45.9 63.1 42.9 65.65 Q39.9 68.2 35.85 69.55 Q31.8 70.9 27.2 70.9 Q21.6 70.9 17.2 69 Q12.8 67.1 9.85 63.75 Q6.9 60.4 5.5 55.8 Q4.1 51.2 4.4 45.8 Z\"\n",
       "        /><glyph unicode=\")\" horiz-adv-x=\"25.9\" d=\"M-0.9 -19.7 L5.5 -19.7 Q13.3 -9.4 17.25 2.55 Q21.2 14.5 21.2 26.3 Q21.2 32.9 20.1 38.9 Q19 44.9 16.95 50.65 Q14.9 56.4 12 61.95 Q9.1 67.5 5.5 73.1 L-0.9 73.1 Q6.1 61.6 9.15 50.25 Q12.2 38.9 12.2 26.3 Q12.2 14.1 9.2 2.85 Q6.2 -8.4 -0.9 -19.7 Z\"\n",
       "        /><glyph unicode=\"B\" horiz-adv-x=\"68.5\" d=\"M17.3 40.7 L17.3 63.4 L36.3 63.4 Q39.4 63.4 42.15 63.05 Q44.9 62.7 47 61.5 Q49.1 60.3 50.3 58.1 Q51.5 55.9 51.5 52.1 Q51.5 46.4 47.95 43.55 Q44.4 40.7 36.3 40.7 ZM7.8 71.4 L7.8 0 L42.3 0 Q47.6 0 51.65 1.75 Q55.7 3.5 58.45 6.35 Q61.2 9.2 62.6 12.9 Q64 16.6 64 20.5 Q64 27.1 60.5 31.7 Q57 36.3 50.4 37.7 L50.4 37.9 Q55.5 39.9 58.25 44.05 Q61 48.2 61 53.9 Q61 59.3 58.55 63 Q56.1 66.7 52.6 68.8 Q51 69.8 48.75 70.3 Q46.5 70.8 43.9 71.05 Q41.3 71.3 38.65 71.35 Q36 71.4 33.7 71.4 ZM17.3 8 L17.3 32.7 L39 32.7 Q42 32.7 44.8 32.15 Q47.6 31.6 49.75 30.25 Q51.9 28.9 53.2 26.6 Q54.5 24.3 54.5 20.8 Q54.5 14.8 50.95 11.4 Q47.4 8 41.1 8 Z\"\n",
       "        /><glyph unicode=\"(\" horiz-adv-x=\"25.9\" d=\"M20.4 -19.7 L26.9 -19.7 Q19.8 -8.2 16.75 3.1 Q13.7 14.4 13.7 27 Q13.7 39.3 16.7 50.5 Q19.7 61.7 26.9 73.1 L20.4 73.1 Q12.6 62.8 8.65 50.8 Q4.7 38.8 4.7 27 Q4.7 20.4 5.8 14.4 Q6.9 8.4 8.95 2.7 Q11 -3 13.9 -8.55 Q16.8 -14.1 20.4 -19.7 Z\"\n",
       "        /><glyph unicode=\" \" horiz-adv-x=\"27.8\" d=\"\"\n",
       "        /><glyph unicode=\"e\" horiz-adv-x=\"53.7\" d=\"M42.3 30.8 L12.6 30.8 Q12.8 33.8 13.9 36.45 Q15 39.1 16.9 41.1 Q18.8 43.1 21.45 44.25 Q24.1 45.4 27.4 45.4 Q30.6 45.4 33.25 44.25 Q35.9 43.1 37.85 41.15 Q39.8 39.2 40.95 36.5 Q42.1 33.8 42.3 30.8 ZM50.5 16.4 L42.1 16.4 Q41 11.3 37.55 8.8 Q34.1 6.3 28.7 6.3 Q24.5 6.3 21.4 7.7 Q18.3 9.1 16.3 11.45 Q14.3 13.8 13.4 16.85 Q12.5 19.9 12.6 23.3 L51.3 23.3 Q51.5 28 50.45 33.2 Q49.4 38.4 46.65 42.8 Q43.9 47.2 39.35 50.05 Q34.8 52.9 27.9 52.9 Q22.6 52.9 18.15 50.9 Q13.7 48.9 10.45 45.3 Q7.2 41.7 5.4 36.8 Q3.6 31.9 3.6 26 Q3.8 20.1 5.35 15.1 Q6.9 10.1 10 6.5 Q13.1 2.9 17.65 0.9 Q22.2 -1.1 28.4 -1.1 Q37.2 -1.1 43 3.3 Q48.8 7.7 50.5 16.4 Z\"\n",
       "        /><glyph unicode=\"d\" horiz-adv-x=\"59.3\" d=\"M12.6 25.4 Q12.6 29.2 13.4 32.8 Q14.2 36.4 16 39.2 Q17.8 42 20.8 43.7 Q23.8 45.4 28.1 45.4 Q32.5 45.4 35.6 43.75 Q38.7 42.1 40.65 39.4 Q42.6 36.7 43.5 33.15 Q44.4 29.6 44.4 25.8 Q44.4 22.2 43.55 18.7 Q42.7 15.2 40.8 12.45 Q38.9 9.7 35.9 8 Q32.9 6.3 28.6 6.3 Q24.5 6.3 21.45 7.9 Q18.4 9.5 16.45 12.2 Q14.5 14.9 13.55 18.35 Q12.6 21.8 12.6 25.4 ZM52.6 0 L52.6 71.4 L44.1 71.4 L44.1 44.8 L43.9 44.8 Q42.5 47.1 40.45 48.65 Q38.4 50.2 36.1 51.15 Q33.8 52.1 31.5 52.5 Q29.2 52.9 27.2 52.9 Q21.3 52.9 16.85 50.75 Q12.4 48.6 9.45 44.95 Q6.5 41.3 5.05 36.4 Q3.6 31.5 3.6 26 Q3.6 20.5 5.1 15.6 Q6.6 10.7 9.55 7 Q12.5 3.3 16.95 1.1 Q21.4 -1.1 27.4 -1.1 Q32.8 -1.1 37.3 0.8 Q41.8 2.7 43.9 7 L44.1 7 L44.1 0 Z\"\n",
       "        /><glyph unicode=\"u\" horiz-adv-x=\"55.6\" d=\"M49.2 0 L49.2 51.7 L40.7 51.7 L40.7 22.5 Q40.7 19 39.75 16.05 Q38.8 13.1 36.9 10.9 Q35 8.7 32.15 7.5 Q29.3 6.3 25.4 6.3 Q20.5 6.3 17.7 9.1 Q14.9 11.9 14.9 16.7 L14.9 51.7 L6.4 51.7 L6.4 17.7 Q6.4 13.5 7.25 10.05 Q8.1 6.6 10.2 4.1 Q12.3 1.6 15.7 0.25 Q19.1 -1.1 24.2 -1.1 Q29.9 -1.1 34.1 1.15 Q38.3 3.4 41 8.2 L41.2 8.2 L41.2 0 Z\"\n",
       "        /><glyph unicode=\"t\" horiz-adv-x=\"31.5\" d=\"M18.2 51.7 L18.2 67.2 L9.7 67.2 L9.7 51.7 L0.9 51.7 L0.9 44.2 L9.7 44.2 L9.7 11.3 Q9.7 7.7 10.4 5.5 Q11.1 3.3 12.55 2.1 Q14 0.9 16.35 0.45 Q18.7 0 22 0 L28.5 0 L28.5 7.5 L24.6 7.5 Q22.6 7.5 21.35 7.65 Q20.1 7.8 19.4 8.3 Q18.7 8.8 18.45 9.7 Q18.2 10.6 18.2 12.1 L18.2 44.2 L28.5 44.2 L28.5 51.7 Z\"\n",
       "        /><glyph unicode=\"i\" horiz-adv-x=\"22.2\" d=\"M15.4 61 L15.4 71.4 L6.9 71.4 L6.9 61 ZM6.9 51.7 L6.9 0 L15.4 0 L15.4 51.7 Z\"\n",
       "        /><glyph unicode=\"n\" horiz-adv-x=\"55.6\" d=\"M6.4 51.7 L6.4 0 L14.9 0 L14.9 29.2 Q14.9 32.7 15.85 35.65 Q16.8 38.6 18.7 40.8 Q20.6 43 23.45 44.2 Q26.3 45.4 30.2 45.4 Q35.1 45.4 37.9 42.6 Q40.7 39.8 40.7 35 L40.7 0 L49.2 0 L49.2 34 Q49.2 38.2 48.35 41.65 Q47.5 45.1 45.4 47.6 Q43.3 50.1 39.9 51.5 Q36.5 52.9 31.4 52.9 Q19.9 52.9 14.6 43.5 L14.4 43.5 L14.4 51.7 Z\"\n",
       "        /><glyph unicode=\"g\" horiz-adv-x=\"57.4\" d=\"M51 4.4 L51 51.7 L43 51.7 L43 44.3 L42.9 44.3 Q40.6 48.6 36.5 50.75 Q32.4 52.9 27.5 52.9 Q20.8 52.9 16.2 50.35 Q11.6 47.8 8.8 43.85 Q6 39.9 4.8 35.05 Q3.6 30.2 3.6 25.6 Q3.6 20.3 5.05 15.55 Q6.5 10.8 9.4 7.25 Q12.3 3.7 16.6 1.6 Q20.9 -0.5 26.7 -0.5 Q31.7 -0.5 36.15 1.75 Q40.6 4 42.8 8.8 L43 8.8 L43 5.4 Q43 1.1 42.15 -2.5 Q41.3 -6.1 39.4 -8.65 Q37.5 -11.2 34.6 -12.65 Q31.7 -14.1 27.5 -14.1 Q25.4 -14.1 23.1 -13.65 Q20.8 -13.2 18.85 -12.2 Q16.9 -11.2 15.55 -9.6 Q14.2 -8 14.1 -5.7 L5.6 -5.7 Q5.8 -9.9 7.8 -12.8 Q9.8 -15.7 12.85 -17.5 Q15.9 -19.3 19.65 -20.1 Q23.4 -20.9 27 -20.9 Q39.4 -20.9 45.2 -14.6 Q51 -8.3 51 4.4 ZM27.2 6.9 Q23 6.9 20.2 8.65 Q17.4 10.4 15.7 13.25 Q14 16.1 13.3 19.6 Q12.6 23.1 12.6 26.6 Q12.6 30.3 13.45 33.7 Q14.3 37.1 16.15 39.7 Q18 42.3 20.9 43.85 Q23.8 45.4 27.9 45.4 Q31.9 45.4 34.7 43.8 Q37.5 42.2 39.25 39.55 Q41 36.9 41.8 33.6 Q42.6 30.3 42.6 26.9 Q42.6 23.3 41.75 19.7 Q40.9 16.1 39.1 13.25 Q37.3 10.4 34.35 8.65 Q31.4 6.9 27.2 6.9 Z\"\n",
       "        /><glyph unicode=\"a\" horiz-adv-x=\"53.7\" d=\"M52.2 0.2 Q50 -1.1 46.1 -1.1 Q42.8 -1.1 40.85 0.75 Q38.9 2.6 38.9 6.8 Q35.4 2.6 30.75 0.75 Q26.1 -1.1 20.7 -1.1 Q17.2 -1.1 14.05 -0.3 Q10.9 0.5 8.6 2.2 Q6.3 3.9 4.95 6.65 Q3.6 9.4 3.6 13.3 Q3.6 17.7 5.1 20.5 Q6.6 23.3 9.05 25.05 Q11.5 26.8 14.65 27.7 Q17.8 28.6 21.1 29.2 Q24.6 29.9 27.75 30.25 Q30.9 30.6 33.3 31.25 Q35.7 31.9 37.1 33.15 Q38.5 34.4 38.5 36.8 Q38.5 39.6 37.45 41.3 Q36.4 43 34.75 43.9 Q33.1 44.8 31.05 45.1 Q29 45.4 27 45.4 Q21.6 45.4 18 43.35 Q14.4 41.3 14.1 35.6 L5.6 35.6 Q5.8 40.4 7.6 43.7 Q9.4 47 12.4 49.05 Q15.4 51.1 19.25 52 Q23.1 52.9 27.5 52.9 Q31 52.9 34.45 52.4 Q37.9 51.9 40.7 50.35 Q43.5 48.8 45.2 46 Q46.9 43.2 46.9 38.7 L46.9 12.1 Q46.9 9.1 47.25 7.7 Q47.6 6.3 49.6 6.3 Q50.7 6.3 52.2 6.8 ZM38.4 26.7 Q36.8 25.5 34.2 24.95 Q31.6 24.4 28.75 24.05 Q25.9 23.7 23 23.25 Q20.1 22.8 17.8 21.8 Q15.5 20.8 14.05 18.95 Q12.6 17.1 12.6 13.9 Q12.6 11.8 13.45 10.35 Q14.3 8.9 15.65 8 Q17 7.1 18.8 6.7 Q20.6 6.3 22.6 6.3 Q26.8 6.3 29.8 7.45 Q32.8 8.6 34.7 10.35 Q36.6 12.1 37.5 14.15 Q38.4 16.2 38.4 18 Z\"\n",
       "        /><glyph unicode=\"M\" horiz-adv-x=\"87.1\" d=\"M8 71.4 L8 0 L17 0 L17 59.4 L17.2 59.4 L39.5 0 L47.6 0 L69.9 59.4 L70.1 59.4 L70.1 0 L79.1 0 L79.1 71.4 L66.1 71.4 L43.5 11.4 L21 71.4 Z\"\n",
       "        /><glyph unicode=\"1\" horiz-adv-x=\"55.6\" d=\"M35.6 0 L35.6 70.9 L29.1 70.9 Q28.4 66.9 26.5 64.3 Q24.6 61.7 21.85 60.2 Q19.1 58.7 15.7 58.15 Q12.3 57.6 8.7 57.6 L8.7 50.8 L27.1 50.8 L27.1 0 Z\"\n",
       "        /><glyph unicode=\"5\" horiz-adv-x=\"55.6\" d=\"M47 62.2 L47 69.7 L12 69.7 L5.4 32.9 L12.7 32.5 Q15.2 35.5 18.45 37.35 Q21.7 39.2 25.9 39.2 Q29.5 39.2 32.45 38 Q35.4 36.8 37.5 34.65 Q39.6 32.5 40.75 29.55 Q41.9 26.6 41.9 23.1 Q41.9 18.9 40.7 15.75 Q39.5 12.6 37.45 10.5 Q35.4 8.4 32.65 7.35 Q29.9 6.3 26.9 6.3 Q23.7 6.3 21.05 7.25 Q18.4 8.2 16.45 9.95 Q14.5 11.7 13.35 14.05 Q12.2 16.4 12 19.1 L3.5 19.1 Q3.6 14.3 5.4 10.5 Q7.2 6.7 10.3 4.15 Q13.4 1.6 17.45 0.25 Q21.5 -1.1 26.1 -1.1 Q32.3 -1.1 36.95 0.85 Q41.6 2.8 44.7 6.1 Q47.8 9.4 49.35 13.65 Q50.9 17.9 50.9 22.4 Q50.9 28.5 49.1 33.05 Q47.3 37.6 44.2 40.65 Q41.1 43.7 36.9 45.2 Q32.7 46.7 28 46.7 Q24.4 46.7 20.75 45.45 Q17.1 44.2 14.8 41.6 L14.6 41.8 L18.4 62.2 Z\"\n",
       "        /><glyph unicode=\"9\" horiz-adv-x=\"55.6\" d=\"M13.4 17.1 L4.9 17.1 Q5.7 7.9 11.6 3.4 Q17.5 -1.1 26.4 -1.1 Q39.3 -1.1 45.15 8.75 Q51 18.6 51 37 Q51 47.1 49.05 53.65 Q47.1 60.2 43.8 64 Q40.5 67.8 36.1 69.35 Q31.7 70.9 26.7 70.9 Q21.6 70.9 17.3 69.2 Q13 67.5 9.9 64.45 Q6.8 61.4 5.1 57.15 Q3.4 52.9 3.4 47.8 Q3.4 42.6 4.85 38.2 Q6.3 33.8 9.15 30.7 Q12 27.6 16.2 25.85 Q20.4 24.1 25.8 24.1 Q31 24.1 35.4 26.75 Q39.8 29.4 42.2 33.9 L42.4 33.7 Q42 19.8 38.1 13.05 Q34.2 6.3 26.4 6.3 Q21.3 6.3 17.6 9.1 Q13.9 11.9 13.4 17.1 ZM40.9 47.2 Q40.9 44.1 39.9 41.25 Q38.9 38.4 37 36.25 Q35.1 34.1 32.4 32.85 Q29.7 31.6 26.4 31.6 Q23.3 31.6 20.75 32.85 Q18.2 34.1 16.35 36.2 Q14.5 38.3 13.45 41 Q12.4 43.7 12.4 46.6 Q12.4 49.9 13.15 52.9 Q13.9 55.9 15.55 58.25 Q17.2 60.6 19.85 62 Q22.5 63.4 26.3 63.4 Q29.9 63.4 32.6 62.1 Q35.3 60.8 37.15 58.55 Q39 56.3 39.95 53.4 Q40.9 50.5 40.9 47.2 Z\"\n",
       "        /><glyph unicode=\"3\" horiz-adv-x=\"55.6\" d=\"M21.8 40.5 L21.8 33.3 Q24.2 33.6 26.9 33.6 Q30.1 33.6 32.85 32.75 Q35.6 31.9 37.6 30.15 Q39.6 28.4 40.8 25.85 Q42 23.3 42 20 Q42 16.8 40.75 14.25 Q39.5 11.7 37.4 9.95 Q35.3 8.2 32.5 7.25 Q29.7 6.3 26.6 6.3 Q19.3 6.3 15.5 10.65 Q11.7 15 11.5 21.9 L3 21.9 Q2.9 16.4 4.55 12.1 Q6.2 7.8 9.3 4.85 Q12.4 1.9 16.8 0.4 Q21.2 -1.1 26.6 -1.1 Q31.6 -1.1 36.05 0.25 Q40.5 1.6 43.8 4.3 Q47.1 7 49.05 11.05 Q51 15.1 51 20.4 Q51 26.8 47.85 31.5 Q44.7 36.2 38.2 37.6 L38.2 37.8 Q42.4 39.7 45.2 43.4 Q48 47.1 48 51.9 Q48 56.8 46.35 60.4 Q44.7 64 41.8 66.3 Q38.9 68.6 34.95 69.75 Q31 70.9 26.4 70.9 Q21.1 70.9 17.05 69.2 Q13 67.5 10.3 64.5 Q7.6 61.5 6.15 57.3 Q4.7 53.1 4.5 48 L13 48 Q13 51.1 13.8 53.9 Q14.6 56.7 16.25 58.8 Q17.9 60.9 20.45 62.15 Q23 63.4 26.4 63.4 Q31.8 63.4 35.4 60.55 Q39 57.7 39 52 Q39 49.2 37.9 47 Q36.8 44.8 34.95 43.35 Q33.1 41.9 30.65 41.15 Q28.2 40.4 25.5 40.4 L23.7 40.4 Q23.2 40.4 22.7 40.4 Q22.3 40.4 21.8 40.5 Z\"\n",
       "        /><glyph unicode=\"s\" horiz-adv-x=\"50.0\" d=\"M11.6 16.3 L3.1 16.3 Q3.3 11.5 5.1 8.15 Q6.9 4.8 9.9 2.75 Q12.9 0.7 16.8 -0.2 Q20.7 -1.1 25 -1.1 Q28.9 -1.1 32.85 -0.35 Q36.8 0.4 39.95 2.3 Q43.1 4.2 45.05 7.3 Q47 10.4 47 15.1 Q47 18.8 45.55 21.3 Q44.1 23.8 41.75 25.45 Q39.4 27.1 36.35 28.1 Q33.3 29.1 30.1 29.8 Q27.1 30.5 24.1 31.15 Q21.1 31.8 18.7 32.75 Q16.3 33.7 14.75 35.15 Q13.2 36.6 13.2 38.8 Q13.2 40.8 14.2 42.05 Q15.2 43.3 16.8 44.05 Q18.4 44.8 20.35 45.1 Q22.3 45.4 24.2 45.4 Q26.3 45.4 28.35 44.95 Q30.4 44.5 32.1 43.5 Q33.8 42.5 34.9 40.85 Q36 39.2 36.2 36.7 L44.7 36.7 Q44.4 41.4 42.7 44.55 Q41 47.7 38.15 49.55 Q35.3 51.4 31.6 52.15 Q27.9 52.9 23.5 52.9 Q20.1 52.9 16.65 52.05 Q13.2 51.2 10.45 49.45 Q7.7 47.7 5.95 44.9 Q4.2 42.1 4.2 38.2 Q4.2 33.2 6.7 30.4 Q9.2 27.6 12.95 26.05 Q16.7 24.5 21.1 23.65 Q25.5 22.8 29.25 21.75 Q33 20.7 35.5 19 Q38 17.3 38 14 Q38 11.6 36.8 10.05 Q35.6 8.5 33.75 7.7 Q31.9 6.9 29.7 6.6 Q27.5 6.3 25.5 6.3 Q22.9 6.3 20.45 6.8 Q18 7.3 16.05 8.45 Q14.1 9.6 12.9 11.55 Q11.7 13.5 11.6 16.3 Z\"\n",
       "        /><glyph unicode=\"h\" horiz-adv-x=\"55.6\" d=\"M6.4 71.4 L6.4 0 L14.9 0 L14.9 29.2 Q14.9 32.7 15.85 35.65 Q16.8 38.6 18.7 40.8 Q20.6 43 23.45 44.2 Q26.3 45.4 30.2 45.4 Q35.1 45.4 37.9 42.6 Q40.7 39.8 40.7 35 L40.7 0 L49.2 0 L49.2 34 Q49.2 38.2 48.35 41.65 Q47.5 45.1 45.4 47.6 Q43.3 50.1 39.9 51.5 Q36.5 52.9 31.4 52.9 Q29.1 52.9 26.65 52.4 Q24.2 51.9 21.95 50.85 Q19.7 49.8 17.9 48.15 Q16.1 46.5 15.1 44.1 L14.9 44.1 L14.9 71.4 Z\"\n",
       "        /><glyph unicode=\"P\" horiz-adv-x=\"64.8\" d=\"M17.3 37.2 L17.3 63.4 L35.9 63.4 Q44 63.4 47.75 60.05 Q51.5 56.7 51.5 50.3 Q51.5 43.9 47.75 40.5 Q44 37.1 35.9 37.2 ZM7.8 71.4 L7.8 0 L17.3 0 L17.3 29.2 L39.1 29.2 Q49.9 29.1 55.45 34.7 Q61 40.3 61 50.3 Q61 60.3 55.45 65.85 Q49.9 71.4 39.1 71.4 Z\"\n",
       "        /><glyph unicode=\"/\" horiz-adv-x=\"33.3\" d=\"M27.8 73.1 L-1.7 -1.6 L5.5 -1.6 L35.1 73.1 Z\"\n",
       "        /><glyph unicode=\"y\" horiz-adv-x=\"50.0\" d=\"M26.7 -6.9 Q25.2 -10.7 23.75 -13.3 Q22.3 -15.9 20.55 -17.55 Q18.8 -19.2 16.65 -19.95 Q14.5 -20.7 11.7 -20.7 Q10.2 -20.7 8.7 -20.5 Q7.2 -20.3 5.8 -19.8 L5.8 -12 Q6.9 -12.5 8.35 -12.85 Q9.8 -13.2 10.8 -13.2 Q13.4 -13.2 15.15 -11.95 Q16.9 -10.7 17.8 -8.4 L21.3 0.3 L0.8 51.7 L10.4 51.7 L25.5 9.4 L25.7 9.4 L40.2 51.7 L49.2 51.7 Z\"\n",
       "        /><glyph unicode=\"c\" horiz-adv-x=\"53.7\" d=\"M41.5 35.1 L50.3 35.1 Q49.8 39.7 47.9 43.05 Q46 46.4 43.05 48.6 Q40.1 50.8 36.25 51.85 Q32.4 52.9 28 52.9 Q21.9 52.9 17.3 50.75 Q12.7 48.6 9.65 44.85 Q6.6 41.1 5.1 36.05 Q3.6 31 3.6 25.2 Q3.6 19.4 5.15 14.55 Q6.7 9.7 9.75 6.2 Q12.8 2.7 17.35 0.8 Q21.9 -1.1 27.8 -1.1 Q37.7 -1.1 43.45 4.1 Q49.2 9.3 50.6 18.9 L41.9 18.9 Q41.1 12.9 37.55 9.6 Q34 6.3 27.7 6.3 Q23.7 6.3 20.8 7.9 Q17.9 9.5 16.1 12.15 Q14.3 14.8 13.45 18.2 Q12.6 21.6 12.6 25.2 Q12.6 29.1 13.4 32.75 Q14.2 36.4 16.05 39.2 Q17.9 42 21 43.7 Q24.1 45.4 28.7 45.4 Q34.1 45.4 37.3 42.7 Q40.5 40 41.5 35.1 Z\"\n",
       "        /><glyph unicode=\"q\" horiz-adv-x=\"59.3\" d=\"M12.6 25.4 Q12.6 29.2 13.4 32.8 Q14.2 36.4 16 39.2 Q17.8 42 20.8 43.7 Q23.8 45.4 28.1 45.4 Q32.5 45.4 35.6 43.75 Q38.7 42.1 40.65 39.4 Q42.6 36.7 43.5 33.15 Q44.4 29.6 44.4 25.8 Q44.4 22.2 43.55 18.7 Q42.7 15.2 40.8 12.45 Q38.9 9.7 35.9 8 Q32.9 6.3 28.6 6.3 Q24.5 6.3 21.45 7.9 Q18.4 9.5 16.45 12.2 Q14.5 14.9 13.55 18.35 Q12.6 21.8 12.6 25.4 ZM52.6 -19.7 L52.6 51.7 L44.1 51.7 L44.1 44.8 L43.9 44.8 Q42.5 47.1 40.45 48.65 Q38.4 50.2 36.1 51.15 Q33.8 52.1 31.5 52.5 Q29.2 52.9 27.2 52.9 Q21.3 52.9 16.85 50.75 Q12.4 48.6 9.45 44.95 Q6.5 41.3 5.05 36.4 Q3.6 31.5 3.6 26 Q3.6 20.5 5.1 15.6 Q6.6 10.7 9.55 7 Q12.5 3.3 16.95 1.1 Q21.4 -1.1 27.4 -1.1 Q32.8 -1.1 37.3 0.8 Q41.8 2.7 43.9 7 L44.1 7 L44.1 -19.7 Z\"\n",
       "        /><glyph unicode=\"r\" horiz-adv-x=\"33.3\" d=\"M6.1 51.7 L6.1 0 L14.6 0 L14.6 23 Q14.6 28 15.6 31.85 Q16.6 35.7 18.8 38.4 Q21 41.1 24.6 42.5 Q28.2 43.9 33.3 43.9 L33.3 52.9 Q26.4 53.1 21.9 50.1 Q17.4 47.1 14.3 40.8 L14.1 40.8 L14.1 51.7 Z\"\n",
       "        /><glyph unicode=\"F\" horiz-adv-x=\"57.4\" d=\"M7.8 71.4 L7.8 0 L17.3 0 L17.3 32.7 L50.1 32.7 L50.1 40.7 L17.3 40.7 L17.3 63.4 L54.7 63.4 L54.7 71.4 Z\"\n",
       "      /></font\n",
       "      ><font horiz-adv-x=\"50.0\" id=\"font2\"\n",
       "      ><font-face ascent=\"97.5\" descent=\"21.699999\" units-per-em=\"100\" style=\"font-style:normal; font-family:Helvetica Neue; font-weight:bold;\"\n",
       "        /><missing-glyph horiz-adv-x=\"50.0\" d=\"M39.1 60.7 L11.1 60.7 L11.1 9.5 L39.1 9.5 ZM48.2 69.8 L48.2 0.3 L1.7 0.3 L1.7 69.8 Z\"\n",
       "        /><glyph unicode=\"m\" horiz-adv-x=\"90.6\" d=\"M5.8 51.7 L5.8 0 L20 0 L20 30 Q20 33.8 21.1 36.15 Q22.2 38.5 23.75 39.75 Q25.3 41 26.95 41.45 Q28.6 41.9 29.6 41.9 Q33 41.9 34.75 40.75 Q36.5 39.6 37.25 37.7 Q38 35.8 38.1 33.55 Q38.2 31.3 38.2 29 L38.2 0 L52.4 0 L52.4 28.8 Q52.4 31.2 52.75 33.55 Q53.1 35.9 54.15 37.75 Q55.2 39.6 57.05 40.75 Q58.9 41.9 61.9 41.9 Q64.9 41.9 66.65 40.9 Q68.4 39.9 69.3 38.2 Q70.2 36.5 70.4 34.2 Q70.6 31.9 70.6 29.3 L70.6 0 L84.8 0 L84.8 34.6 Q84.8 39.6 83.4 43.15 Q82 46.7 79.5 48.9 Q77 51.1 73.5 52.1 Q70 53.1 65.9 53.1 Q60.5 53.1 56.55 50.5 Q52.6 47.9 50.3 44.5 Q48.2 49.3 44.15 51.2 Q40.1 53.1 35.2 53.1 Q30.1 53.1 26.15 50.9 Q22.2 48.7 19.4 44.7 L19.2 44.7 L19.2 51.7 Z\"\n",
       "        /><glyph unicode=\"r\" horiz-adv-x=\"38.9\" d=\"M5.4 51.7 L5.4 0 L19.6 0 L19.6 23.3 Q19.6 26.8 20.3 29.8 Q21 32.8 22.65 35.05 Q24.3 37.3 27 38.6 Q29.7 39.9 33.6 39.9 Q34.9 39.9 36.3 39.75 Q37.7 39.6 38.7 39.4 L38.7 52.6 Q37 53.1 35.6 53.1 Q32.9 53.1 30.4 52.3 Q27.9 51.5 25.7 50.05 Q23.5 48.6 21.8 46.55 Q20.1 44.5 19.1 42.1 L18.9 42.1 L18.9 51.7 Z\"\n",
       "        /><glyph unicode=\"g\" horiz-adv-x=\"61.1\" d=\"M29.5 12.2 Q26.2 12.2 24 13.6 Q21.8 15 20.45 17.2 Q19.1 19.4 18.55 22.15 Q18 24.9 18 27.7 Q18 30.6 18.65 33.25 Q19.3 35.9 20.75 37.95 Q22.2 40 24.35 41.2 Q26.5 42.4 29.5 42.4 Q33 42.4 35.3 41.1 Q37.6 39.8 39 37.6 Q40.4 35.4 41 32.55 Q41.6 29.7 41.6 26.5 Q41.6 23.7 40.85 21.15 Q40.1 18.6 38.6 16.6 Q37.1 14.6 34.8 13.4 Q32.5 12.2 29.5 12.2 ZM55.1 3.3 L55.1 51.7 L41.6 51.7 L41.6 44.8 L41.4 44.8 Q38.8 49.3 34.95 51.2 Q31.1 53.1 26 53.1 Q20.6 53.1 16.45 51 Q12.3 48.9 9.5 45.35 Q6.7 41.8 5.25 37.15 Q3.8 32.5 3.8 27.5 Q3.8 22.2 5.05 17.45 Q6.3 12.7 9 9.15 Q11.7 5.6 15.9 3.55 Q20.1 1.5 25.9 1.5 Q30.6 1.5 34.85 3.45 Q39.1 5.4 41.4 9.5 L41.6 9.5 L41.6 2.7 Q41.7 -2.8 38.95 -6.4 Q36.2 -10 30.2 -10 Q26.4 -10 23.5 -8.45 Q20.6 -6.9 19.6 -2.9 L5.5 -2.9 Q5.8 -7.3 7.95 -10.45 Q10.1 -13.6 13.35 -15.6 Q16.6 -17.6 20.55 -18.55 Q24.5 -19.5 28.3 -19.5 Q37.2 -19.5 42.5 -17.1 Q47.8 -14.7 50.6 -11.25 Q53.4 -7.8 54.25 -3.8 Q55.1 0.2 55.1 3.3 Z\"\n",
       "        /><glyph unicode=\"a\" horiz-adv-x=\"57.4\" d=\"M4.8 35.8 Q5.1 40.8 7.3 44.1 Q9.5 47.4 12.9 49.4 Q16.3 51.4 20.55 52.25 Q24.8 53.1 29.1 53.1 Q33 53.1 37 52.55 Q41 52 44.3 50.4 Q47.6 48.8 49.7 45.95 Q51.8 43.1 51.8 38.4 L51.8 11.5 Q51.8 8 52.2 4.8 Q52.6 1.6 53.6 0 L39.2 0 Q38.8 1.2 38.55 2.45 Q38.3 3.7 38.2 5 Q34.8 1.5 30.2 0.1 Q25.6 -1.3 20.8 -1.3 Q17.1 -1.3 13.9 -0.4 Q10.7 0.5 8.3 2.4 Q5.9 4.3 4.55 7.2 Q3.2 10.1 3.2 14.1 Q3.2 18.5 4.75 21.35 Q6.3 24.2 8.75 25.9 Q11.2 27.6 14.35 28.45 Q17.5 29.3 20.7 29.8 Q23.9 30.3 27 30.6 Q30.1 30.9 32.5 31.5 Q34.9 32.1 36.3 33.25 Q37.7 34.4 37.6 36.6 Q37.6 38.9 36.85 40.25 Q36.1 41.6 34.85 42.35 Q33.6 43.1 31.95 43.35 Q30.3 43.6 28.4 43.6 Q24.2 43.6 21.8 41.8 Q19.4 40 19 35.8 ZM37.6 25.3 Q36.7 24.5 35.35 24.05 Q34 23.6 32.45 23.3 Q30.9 23 29.2 22.8 Q27.5 22.6 25.8 22.3 Q24.2 22 22.65 21.5 Q21.1 21 19.95 20.15 Q18.8 19.3 18.1 18 Q17.4 16.7 17.4 14.7 Q17.4 12.8 18.1 11.5 Q18.8 10.2 20 9.45 Q21.2 8.7 22.8 8.4 Q24.4 8.1 26.1 8.1 Q30.3 8.1 32.6 9.5 Q34.9 10.9 36 12.85 Q37.1 14.8 37.35 16.8 Q37.6 18.8 37.6 20 Z\"\n",
       "        /><glyph unicode=\"i\" horiz-adv-x=\"25.8\" d=\"M20 59.7 L20 71.4 L5.8 71.4 L5.8 59.7 ZM5.8 51.7 L5.8 0 L20 0 L20 51.7 Z\"\n",
       "        /><glyph unicode=\"D\" horiz-adv-x=\"74.1\" d=\"M22.6 13.2 L22.6 58.2 L33.8 58.2 Q39.6 58.2 43.55 56.55 Q47.5 54.9 49.9 51.8 Q52.3 48.7 53.35 44.35 Q54.4 40 54.4 34.6 Q54.4 28.7 52.9 24.6 Q51.4 20.5 48.9 17.95 Q46.4 15.4 43.2 14.3 Q40 13.2 36.6 13.2 ZM6.9 71.4 L6.9 0 L37.7 0 Q45.9 0 51.95 2.75 Q58 5.5 62.05 10.3 Q66.1 15.1 68.1 21.7 Q70.1 28.3 70.1 36.1 Q70.1 45 67.65 51.6 Q65.2 58.2 60.85 62.6 Q56.5 67 50.55 69.2 Q44.6 71.4 37.7 71.4 Z\"\n",
       "        /><glyph unicode=\" \" horiz-adv-x=\"27.8\" d=\"\"\n",
       "        /><glyph unicode=\"e\" horiz-adv-x=\"57.4\" d=\"M40.2 31.4 L17.1 31.4 Q17.2 32.9 17.75 34.8 Q18.3 36.7 19.65 38.4 Q21 40.1 23.25 41.25 Q25.5 42.4 28.9 42.4 Q34.1 42.4 36.65 39.6 Q39.2 36.8 40.2 31.4 ZM17.1 22.4 L54.4 22.4 Q54.8 28.4 53.4 33.9 Q52 39.4 48.85 43.7 Q45.7 48 40.8 50.55 Q35.9 53.1 29.3 53.1 Q23.4 53.1 18.55 51 Q13.7 48.9 10.2 45.25 Q6.7 41.6 4.8 36.6 Q2.9 31.6 2.9 25.8 Q2.9 19.8 4.75 14.8 Q6.6 9.8 10 6.2 Q13.4 2.6 18.3 0.65 Q23.2 -1.3 29.3 -1.3 Q38.1 -1.3 44.3 2.7 Q50.5 6.7 53.5 16 L41 16 Q40.3 13.6 37.2 11.45 Q34.1 9.3 29.8 9.3 Q23.8 9.3 20.6 12.4 Q17.4 15.5 17.1 22.4 Z\"\n",
       "        /><glyph unicode=\"d\" horiz-adv-x=\"61.1\" d=\"M42.1 26 Q42.1 22.8 41.5 19.8 Q40.9 16.8 39.5 14.45 Q38.1 12.1 35.75 10.7 Q33.4 9.3 29.9 9.3 Q26.6 9.3 24.25 10.75 Q21.9 12.2 20.35 14.55 Q18.8 16.9 18.1 19.9 Q17.4 22.9 17.4 25.9 Q17.4 29.1 18.05 32.05 Q18.7 35 20.15 37.3 Q21.6 39.6 24 41 Q26.4 42.4 29.9 42.4 Q33.4 42.4 35.7 41 Q38 39.6 39.45 37.35 Q40.9 35.1 41.5 32.15 Q42.1 29.2 42.1 26 ZM42.3 6.6 L42.3 0 L55.8 0 L55.8 71.4 L41.6 71.4 L41.6 45.4 L41.4 45.4 Q39 49.2 34.85 51.15 Q30.7 53.1 26.1 53.1 Q20.4 53.1 16.1 50.85 Q11.8 48.6 8.95 44.9 Q6.1 41.2 4.65 36.35 Q3.2 31.5 3.2 26.3 Q3.2 20.9 4.65 15.9 Q6.1 10.9 8.95 7.05 Q11.8 3.2 16.2 0.95 Q20.6 -1.3 26.4 -1.3 Q31.5 -1.3 35.55 0.55 Q39.6 2.4 42.1 6.6 Z\"\n",
       "        /><glyph unicode=\"o\" horiz-adv-x=\"61.1\" d=\"M18 25.8 Q18 28.9 18.6 31.9 Q19.2 34.9 20.65 37.2 Q22.1 39.5 24.5 40.95 Q26.9 42.4 30.5 42.4 Q34.1 42.4 36.55 40.95 Q39 39.5 40.45 37.2 Q41.9 34.9 42.5 31.9 Q43.1 28.9 43.1 25.8 Q43.1 22.7 42.5 19.75 Q41.9 16.8 40.45 14.45 Q39 12.1 36.55 10.7 Q34.1 9.3 30.5 9.3 Q26.9 9.3 24.5 10.7 Q22.1 12.1 20.65 14.45 Q19.2 16.8 18.6 19.75 Q18 22.7 18 25.8 ZM3.8 25.8 Q3.8 19.6 5.7 14.6 Q7.6 9.6 11.1 6.05 Q14.6 2.5 19.5 0.6 Q24.4 -1.3 30.5 -1.3 Q36.6 -1.3 41.55 0.6 Q46.5 2.5 50 6.05 Q53.5 9.6 55.4 14.6 Q57.3 19.6 57.3 25.8 Q57.3 32 55.4 37.05 Q53.5 42.1 50 45.65 Q46.5 49.2 41.55 51.15 Q36.6 53.1 30.5 53.1 Q24.4 53.1 19.5 51.15 Q14.6 49.2 11.1 45.65 Q7.6 42.1 5.7 37.05 Q3.8 32 3.8 25.8 Z\"\n",
       "        /><glyph unicode=\"B\" horiz-adv-x=\"70.4\" d=\"M22.6 42.5 L22.6 59.2 L37.3 59.2 Q39.4 59.2 41.35 58.85 Q43.3 58.5 44.8 57.6 Q46.3 56.7 47.2 55.1 Q48.1 53.5 48.1 51 Q48.1 46.5 45.4 44.5 Q42.7 42.5 38.5 42.5 ZM6.9 71.4 L6.9 0 L41.5 0 Q46.3 0 50.85 1.2 Q55.4 2.4 58.95 4.9 Q62.5 7.4 64.6 11.35 Q66.7 15.3 66.7 20.7 Q66.7 27.4 63.45 32.15 Q60.2 36.9 53.6 38.8 Q58.4 41.1 60.85 44.7 Q63.3 48.3 63.3 53.7 Q63.3 58.7 61.65 62.1 Q60 65.5 57 67.55 Q54 69.6 49.8 70.5 Q45.6 71.4 40.5 71.4 ZM22.6 12.2 L22.6 31.8 L39.7 31.8 Q44.8 31.8 47.9 29.45 Q51 27.1 51 21.6 Q51 18.8 50.05 17 Q49.1 15.2 47.5 14.15 Q45.9 13.1 43.8 12.65 Q41.7 12.2 39.4 12.2 Z\"\n",
       "      /></font\n",
       "    ></defs\n",
       "    ><g style=\"fill:white; stroke:white;\"\n",
       "    ><rect x=\"0\" y=\"0\" width=\"560\" style=\"clip-path:url(#clipPath1); stroke:none;\" height=\"420\"\n",
       "    /></g\n",
       "    ><g style=\"fill:white; text-rendering:optimizeSpeed; color-rendering:optimizeSpeed; image-rendering:optimizeSpeed; shape-rendering:crispEdges; stroke:white; color-interpolation:sRGB;\"\n",
       "    ><rect x=\"0\" width=\"560\" height=\"420\" y=\"0\" style=\"stroke:none;\"\n",
       "      /><path style=\"stroke:none;\" d=\"M85 216 L507 216 L507 51 L85 51 Z\"\n",
       "    /></g\n",
       "    ><g style=\"fill:rgb(102,102,102); text-rendering:geometricPrecision; image-rendering:optimizeQuality; color-rendering:optimizeQuality; stroke-linejoin:round; stroke:rgb(102,102,102); color-interpolation:linearRGB; stroke-width:0.5;\"\n",
       "    ><line y2=\"216\" style=\"fill:none;\" x1=\"85\" x2=\"507\" y1=\"216\"\n",
       "      /><line y2=\"51\" style=\"fill:none;\" x1=\"85\" x2=\"507\" y1=\"51\"\n",
       "      /><line y2=\"211.78\" style=\"fill:none;\" x1=\"85\" x2=\"85\" y1=\"216\"\n",
       "      /><line y2=\"211.78\" style=\"fill:none;\" x1=\"190.5\" x2=\"190.5\" y1=\"216\"\n",
       "      /><line y2=\"211.78\" style=\"fill:none;\" x1=\"296\" x2=\"296\" y1=\"216\"\n",
       "      /><line y2=\"211.78\" style=\"fill:none;\" x1=\"401.5\" x2=\"401.5\" y1=\"216\"\n",
       "      /><line y2=\"211.78\" style=\"fill:none;\" x1=\"507\" x2=\"507\" y1=\"216\"\n",
       "      /><line y2=\"55.22\" style=\"fill:none;\" x1=\"85\" x2=\"85\" y1=\"51\"\n",
       "      /><line y2=\"55.22\" style=\"fill:none;\" x1=\"190.5\" x2=\"190.5\" y1=\"51\"\n",
       "      /><line y2=\"55.22\" style=\"fill:none;\" x1=\"296\" x2=\"296\" y1=\"51\"\n",
       "      /><line y2=\"55.22\" style=\"fill:none;\" x1=\"401.5\" x2=\"401.5\" y1=\"51\"\n",
       "      /><line y2=\"55.22\" style=\"fill:none;\" x1=\"507\" x2=\"507\" y1=\"51\"\n",
       "      /><line y2=\"213.89\" style=\"fill:none;\" x1=\"85\" x2=\"85\" y1=\"216\"\n",
       "      /><line y2=\"213.89\" style=\"fill:none;\" x1=\"116.7587\" x2=\"116.7587\" y1=\"216\"\n",
       "      /><line y2=\"213.89\" style=\"fill:none;\" x1=\"135.3363\" x2=\"135.3363\" y1=\"216\"\n",
       "      /><line y2=\"213.89\" style=\"fill:none;\" x1=\"148.5173\" x2=\"148.5173\" y1=\"216\"\n",
       "      /><line y2=\"213.89\" style=\"fill:none;\" x1=\"158.7413\" x2=\"158.7413\" y1=\"216\"\n",
       "      /><line y2=\"213.89\" style=\"fill:none;\" x1=\"167.095\" x2=\"167.095\" y1=\"216\"\n",
       "      /><line y2=\"213.89\" style=\"fill:none;\" x1=\"174.1578\" x2=\"174.1578\" y1=\"216\"\n",
       "      /><line y2=\"213.89\" style=\"fill:none;\" x1=\"180.276\" x2=\"180.276\" y1=\"216\"\n",
       "      /><line y2=\"213.89\" style=\"fill:none;\" x1=\"185.6726\" x2=\"185.6726\" y1=\"216\"\n",
       "      /><line y2=\"213.89\" style=\"fill:none;\" x1=\"190.5\" x2=\"190.5\" y1=\"216\"\n",
       "      /><line y2=\"213.89\" style=\"fill:none;\" x1=\"222.2587\" x2=\"222.2587\" y1=\"216\"\n",
       "      /><line y2=\"213.89\" style=\"fill:none;\" x1=\"240.8363\" x2=\"240.8363\" y1=\"216\"\n",
       "      /><line y2=\"213.89\" style=\"fill:none;\" x1=\"254.0173\" x2=\"254.0173\" y1=\"216\"\n",
       "      /><line y2=\"213.89\" style=\"fill:none;\" x1=\"264.2413\" x2=\"264.2413\" y1=\"216\"\n",
       "      /><line y2=\"213.89\" style=\"fill:none;\" x1=\"272.595\" x2=\"272.595\" y1=\"216\"\n",
       "      /><line y2=\"213.89\" style=\"fill:none;\" x1=\"279.6578\" x2=\"279.6578\" y1=\"216\"\n",
       "      /><line y2=\"213.89\" style=\"fill:none;\" x1=\"285.776\" x2=\"285.776\" y1=\"216\"\n",
       "      /><line y2=\"213.89\" style=\"fill:none;\" x1=\"291.1726\" x2=\"291.1726\" y1=\"216\"\n",
       "      /><line y2=\"213.89\" style=\"fill:none;\" x1=\"296\" x2=\"296\" y1=\"216\"\n",
       "      /><line y2=\"213.89\" style=\"fill:none;\" x1=\"327.7587\" x2=\"327.7587\" y1=\"216\"\n",
       "      /><line y2=\"213.89\" style=\"fill:none;\" x1=\"346.3363\" x2=\"346.3363\" y1=\"216\"\n",
       "      /><line y2=\"213.89\" style=\"fill:none;\" x1=\"359.5173\" x2=\"359.5173\" y1=\"216\"\n",
       "      /><line y2=\"213.89\" style=\"fill:none;\" x1=\"369.7413\" x2=\"369.7413\" y1=\"216\"\n",
       "      /><line y2=\"213.89\" style=\"fill:none;\" x1=\"378.095\" x2=\"378.095\" y1=\"216\"\n",
       "      /><line y2=\"213.89\" style=\"fill:none;\" x1=\"385.1578\" x2=\"385.1578\" y1=\"216\"\n",
       "      /><line y2=\"213.89\" style=\"fill:none;\" x1=\"391.276\" x2=\"391.276\" y1=\"216\"\n",
       "      /><line y2=\"213.89\" style=\"fill:none;\" x1=\"396.6726\" x2=\"396.6726\" y1=\"216\"\n",
       "      /><line y2=\"213.89\" style=\"fill:none;\" x1=\"401.5\" x2=\"401.5\" y1=\"216\"\n",
       "      /><line y2=\"213.89\" style=\"fill:none;\" x1=\"433.2587\" x2=\"433.2587\" y1=\"216\"\n",
       "      /><line y2=\"213.89\" style=\"fill:none;\" x1=\"451.8363\" x2=\"451.8363\" y1=\"216\"\n",
       "      /><line y2=\"213.89\" style=\"fill:none;\" x1=\"465.0173\" x2=\"465.0173\" y1=\"216\"\n",
       "      /><line y2=\"213.89\" style=\"fill:none;\" x1=\"475.2413\" x2=\"475.2413\" y1=\"216\"\n",
       "      /><line y2=\"213.89\" style=\"fill:none;\" x1=\"483.595\" x2=\"483.595\" y1=\"216\"\n",
       "      /><line y2=\"213.89\" style=\"fill:none;\" x1=\"490.6578\" x2=\"490.6578\" y1=\"216\"\n",
       "      /><line y2=\"213.89\" style=\"fill:none;\" x1=\"496.776\" x2=\"496.776\" y1=\"216\"\n",
       "      /><line y2=\"213.89\" style=\"fill:none;\" x1=\"502.1726\" x2=\"502.1726\" y1=\"216\"\n",
       "      /><line y2=\"213.89\" style=\"fill:none;\" x1=\"507\" x2=\"507\" y1=\"216\"\n",
       "      /><line y2=\"53.11\" style=\"fill:none;\" x1=\"85\" x2=\"85\" y1=\"51\"\n",
       "      /><line y2=\"53.11\" style=\"fill:none;\" x1=\"116.7587\" x2=\"116.7587\" y1=\"51\"\n",
       "      /><line y2=\"53.11\" style=\"fill:none;\" x1=\"135.3363\" x2=\"135.3363\" y1=\"51\"\n",
       "      /><line y2=\"53.11\" style=\"fill:none;\" x1=\"148.5173\" x2=\"148.5173\" y1=\"51\"\n",
       "      /><line y2=\"53.11\" style=\"fill:none;\" x1=\"158.7413\" x2=\"158.7413\" y1=\"51\"\n",
       "      /><line y2=\"53.11\" style=\"fill:none;\" x1=\"167.095\" x2=\"167.095\" y1=\"51\"\n",
       "      /><line y2=\"53.11\" style=\"fill:none;\" x1=\"174.1578\" x2=\"174.1578\" y1=\"51\"\n",
       "      /><line y2=\"53.11\" style=\"fill:none;\" x1=\"180.276\" x2=\"180.276\" y1=\"51\"\n",
       "      /><line y2=\"53.11\" style=\"fill:none;\" x1=\"185.6726\" x2=\"185.6726\" y1=\"51\"\n",
       "      /><line y2=\"53.11\" style=\"fill:none;\" x1=\"190.5\" x2=\"190.5\" y1=\"51\"\n",
       "      /><line y2=\"53.11\" style=\"fill:none;\" x1=\"222.2587\" x2=\"222.2587\" y1=\"51\"\n",
       "      /><line y2=\"53.11\" style=\"fill:none;\" x1=\"240.8363\" x2=\"240.8363\" y1=\"51\"\n",
       "      /><line y2=\"53.11\" style=\"fill:none;\" x1=\"254.0173\" x2=\"254.0173\" y1=\"51\"\n",
       "      /><line y2=\"53.11\" style=\"fill:none;\" x1=\"264.2413\" x2=\"264.2413\" y1=\"51\"\n",
       "      /><line y2=\"53.11\" style=\"fill:none;\" x1=\"272.595\" x2=\"272.595\" y1=\"51\"\n",
       "      /><line y2=\"53.11\" style=\"fill:none;\" x1=\"279.6578\" x2=\"279.6578\" y1=\"51\"\n",
       "      /><line y2=\"53.11\" style=\"fill:none;\" x1=\"285.776\" x2=\"285.776\" y1=\"51\"\n",
       "      /><line y2=\"53.11\" style=\"fill:none;\" x1=\"291.1726\" x2=\"291.1726\" y1=\"51\"\n",
       "      /><line y2=\"53.11\" style=\"fill:none;\" x1=\"296\" x2=\"296\" y1=\"51\"\n",
       "      /><line y2=\"53.11\" style=\"fill:none;\" x1=\"327.7587\" x2=\"327.7587\" y1=\"51\"\n",
       "      /><line y2=\"53.11\" style=\"fill:none;\" x1=\"346.3363\" x2=\"346.3363\" y1=\"51\"\n",
       "      /><line y2=\"53.11\" style=\"fill:none;\" x1=\"359.5173\" x2=\"359.5173\" y1=\"51\"\n",
       "      /><line y2=\"53.11\" style=\"fill:none;\" x1=\"369.7413\" x2=\"369.7413\" y1=\"51\"\n",
       "      /><line y2=\"53.11\" style=\"fill:none;\" x1=\"378.095\" x2=\"378.095\" y1=\"51\"\n",
       "      /><line y2=\"53.11\" style=\"fill:none;\" x1=\"385.1578\" x2=\"385.1578\" y1=\"51\"\n",
       "      /><line y2=\"53.11\" style=\"fill:none;\" x1=\"391.276\" x2=\"391.276\" y1=\"51\"\n",
       "      /><line y2=\"53.11\" style=\"fill:none;\" x1=\"396.6726\" x2=\"396.6726\" y1=\"51\"\n",
       "      /><line y2=\"53.11\" style=\"fill:none;\" x1=\"401.5\" x2=\"401.5\" y1=\"51\"\n",
       "      /><line y2=\"53.11\" style=\"fill:none;\" x1=\"433.2587\" x2=\"433.2587\" y1=\"51\"\n",
       "      /><line y2=\"53.11\" style=\"fill:none;\" x1=\"451.8363\" x2=\"451.8363\" y1=\"51\"\n",
       "      /><line y2=\"53.11\" style=\"fill:none;\" x1=\"465.0173\" x2=\"465.0173\" y1=\"51\"\n",
       "      /><line y2=\"53.11\" style=\"fill:none;\" x1=\"475.2413\" x2=\"475.2413\" y1=\"51\"\n",
       "      /><line y2=\"53.11\" style=\"fill:none;\" x1=\"483.595\" x2=\"483.595\" y1=\"51\"\n",
       "      /><line y2=\"53.11\" style=\"fill:none;\" x1=\"490.6578\" x2=\"490.6578\" y1=\"51\"\n",
       "      /><line y2=\"53.11\" style=\"fill:none;\" x1=\"496.776\" x2=\"496.776\" y1=\"51\"\n",
       "      /><line y2=\"53.11\" style=\"fill:none;\" x1=\"502.1726\" x2=\"502.1726\" y1=\"51\"\n",
       "      /><line y2=\"53.11\" style=\"fill:none;\" x1=\"507\" x2=\"507\" y1=\"51\"\n",
       "      /><line y2=\"51\" style=\"fill:none;\" x1=\"85\" x2=\"85\" y1=\"216\"\n",
       "      /><line y2=\"51\" style=\"fill:none;\" x1=\"507\" x2=\"507\" y1=\"216\"\n",
       "      /><line y2=\"216\" style=\"fill:none;\" x1=\"85\" x2=\"89.22\" y1=\"216\"\n",
       "      /><line y2=\"174.75\" style=\"fill:none;\" x1=\"85\" x2=\"89.22\" y1=\"174.75\"\n",
       "      /><line y2=\"133.5\" style=\"fill:none;\" x1=\"85\" x2=\"89.22\" y1=\"133.5\"\n",
       "      /><line y2=\"92.25\" style=\"fill:none;\" x1=\"85\" x2=\"89.22\" y1=\"92.25\"\n",
       "      /><line y2=\"51\" style=\"fill:none;\" x1=\"85\" x2=\"89.22\" y1=\"51\"\n",
       "      /><line y2=\"216\" style=\"fill:none;\" x1=\"507\" x2=\"502.78\" y1=\"216\"\n",
       "      /><line y2=\"174.75\" style=\"fill:none;\" x1=\"507\" x2=\"502.78\" y1=\"174.75\"\n",
       "      /><line y2=\"133.5\" style=\"fill:none;\" x1=\"507\" x2=\"502.78\" y1=\"133.5\"\n",
       "      /><line y2=\"92.25\" style=\"fill:none;\" x1=\"507\" x2=\"502.78\" y1=\"92.25\"\n",
       "      /><line y2=\"51\" style=\"fill:none;\" x1=\"507\" x2=\"502.78\" y1=\"51\"\n",
       "    /></g\n",
       "    ><g transform=\"translate(81,216)\" style=\"font-size:10px; fill:rgb(102,102,102); text-rendering:geometricPrecision; image-rendering:optimizeQuality; color-rendering:optimizeQuality; font-family:'Helvetica Neue'; stroke:rgb(102,102,102); color-interpolation:linearRGB;\"\n",
       "    ><text x=\"-16\" xml:space=\"preserve\" y=\"3.5\" style=\"stroke:none;\"\n",
       "      >-80</text\n",
       "    ></g\n",
       "    ><g transform=\"translate(81,174.75)\" style=\"font-size:10px; fill:rgb(102,102,102); text-rendering:geometricPrecision; image-rendering:optimizeQuality; color-rendering:optimizeQuality; font-family:'Helvetica Neue'; stroke:rgb(102,102,102); color-interpolation:linearRGB;\"\n",
       "    ><text x=\"-16\" xml:space=\"preserve\" y=\"3.5\" style=\"stroke:none;\"\n",
       "      >-60</text\n",
       "    ></g\n",
       "    ><g transform=\"translate(81,133.5)\" style=\"font-size:10px; fill:rgb(102,102,102); text-rendering:geometricPrecision; image-rendering:optimizeQuality; color-rendering:optimizeQuality; font-family:'Helvetica Neue'; stroke:rgb(102,102,102); color-interpolation:linearRGB;\"\n",
       "    ><text x=\"-16\" xml:space=\"preserve\" y=\"3.5\" style=\"stroke:none;\"\n",
       "      >-40</text\n",
       "    ></g\n",
       "    ><g transform=\"translate(81,92.25)\" style=\"font-size:10px; fill:rgb(102,102,102); text-rendering:geometricPrecision; image-rendering:optimizeQuality; color-rendering:optimizeQuality; font-family:'Helvetica Neue'; stroke:rgb(102,102,102); color-interpolation:linearRGB;\"\n",
       "    ><text x=\"-16\" xml:space=\"preserve\" y=\"3.5\" style=\"stroke:none;\"\n",
       "      >-20</text\n",
       "    ></g\n",
       "    ><g transform=\"translate(81,51)\" style=\"font-size:10px; fill:rgb(102,102,102); text-rendering:geometricPrecision; image-rendering:optimizeQuality; color-rendering:optimizeQuality; font-family:'Helvetica Neue'; stroke:rgb(102,102,102); color-interpolation:linearRGB;\"\n",
       "    ><text x=\"-6\" xml:space=\"preserve\" y=\"3.5\" style=\"stroke:none;\"\n",
       "      >0</text\n",
       "    ></g\n",
       "    ><g transform=\"translate(62,133.4999) rotate(-90)\" style=\"font-size:11px; text-rendering:geometricPrecision; color-rendering:optimizeQuality; image-rendering:optimizeQuality; font-family:'Helvetica Neue'; color-interpolation:linearRGB;\"\n",
       "    ><text x=\"-38\" xml:space=\"preserve\" y=\"-3\" style=\"stroke:none;\"\n",
       "      >Magnitude (dB)</text\n",
       "    ></g\n",
       "    ><g style=\"stroke-linecap:butt; fill:rgb(0,114,189); text-rendering:geometricPrecision; image-rendering:optimizeQuality; color-rendering:optimizeQuality; stroke-linejoin:round; stroke:rgb(0,114,189); color-interpolation:linearRGB; stroke-width:0.5;\"\n",
       "    ><path d=\"M84.9497 51.0063 L86.8424 51.0068 L93.9325 51.0093 L101.0226 51.0126 L108.1127 51.0172 L115.2028 51.0234 L122.2929 51.0319 L129.383 51.0434 L136.4731 51.0591 L143.5631 51.0805 L150.6532 51.1095 L157.7433 51.1489 L164.8334 51.2023 L171.9235 51.2746 L179.0136 51.3723 L186.1037 51.5037 L193.1937 51.6799 L200.2838 51.9148 L207.3739 52.2257 L214.464 52.6335 L221.5541 53.1623 L228.6442 53.8382 L235.7343 54.6879 L242.8243 55.7359 L249.9144 57.0014 L257.0045 58.4965 L264.0946 60.2243 L271.1847 62.1807 L278.2748 64.356 L285.3649 66.7387 L292.455 69.319 L299.545 72.0912 L306.6351 75.0553 L313.7252 78.2169 L320.8153 81.586 L327.9054 85.174 L334.9955 88.9906 L342.0856 93.0399 L349.1756 97.3187 L356.2657 101.8151 L363.3558 106.5098 L370.4459 111.3783 L377.536 116.3939 L384.6261 121.5305 L391.7162 126.764 L398.8062 132.0734 L405.8963 137.4416 L412.9864 142.8545 L420.0765 148.3013 L427.1666 153.7733 L434.2567 159.2643 L441.3468 164.7693 L448.4369 170.2847 L455.5269 175.8077 L462.617 181.3364 L469.7071 186.8692 L476.7972 192.4051 L483.8873 197.9433 L490.9774 203.4831 L498.0674 209.0241 L505.1576 214.566 L507.0171 216.0197\" style=\"fill:none; fill-rule:evenodd;\"\n",
       "    /></g\n",
       "    ><g style=\"fill:white; text-rendering:optimizeSpeed; color-rendering:optimizeSpeed; image-rendering:optimizeSpeed; shape-rendering:crispEdges; stroke:white; color-interpolation:sRGB;\"\n",
       "    ><path style=\"stroke:none;\" d=\"M85 374 L507 374 L507 228 L85 228 Z\"\n",
       "    /></g\n",
       "    ><g style=\"fill:rgb(102,102,102); text-rendering:geometricPrecision; image-rendering:optimizeQuality; color-rendering:optimizeQuality; stroke-linejoin:round; stroke:rgb(102,102,102); color-interpolation:linearRGB; stroke-width:0.5;\"\n",
       "    ><line y2=\"374\" style=\"fill:none;\" x1=\"85\" x2=\"507\" y1=\"374\"\n",
       "      /><line y2=\"228\" style=\"fill:none;\" x1=\"85\" x2=\"507\" y1=\"228\"\n",
       "      /><line y2=\"369.78\" style=\"fill:none;\" x1=\"85\" x2=\"85\" y1=\"374\"\n",
       "      /><line y2=\"369.78\" style=\"fill:none;\" x1=\"190.5\" x2=\"190.5\" y1=\"374\"\n",
       "      /><line y2=\"369.78\" style=\"fill:none;\" x1=\"296\" x2=\"296\" y1=\"374\"\n",
       "      /><line y2=\"369.78\" style=\"fill:none;\" x1=\"401.5\" x2=\"401.5\" y1=\"374\"\n",
       "      /><line y2=\"369.78\" style=\"fill:none;\" x1=\"507\" x2=\"507\" y1=\"374\"\n",
       "      /><line y2=\"232.22\" style=\"fill:none;\" x1=\"85\" x2=\"85\" y1=\"228\"\n",
       "      /><line y2=\"232.22\" style=\"fill:none;\" x1=\"190.5\" x2=\"190.5\" y1=\"228\"\n",
       "      /><line y2=\"232.22\" style=\"fill:none;\" x1=\"296\" x2=\"296\" y1=\"228\"\n",
       "      /><line y2=\"232.22\" style=\"fill:none;\" x1=\"401.5\" x2=\"401.5\" y1=\"228\"\n",
       "      /><line y2=\"232.22\" style=\"fill:none;\" x1=\"507\" x2=\"507\" y1=\"228\"\n",
       "      /><line y2=\"371.89\" style=\"fill:none;\" x1=\"85\" x2=\"85\" y1=\"374\"\n",
       "      /><line y2=\"371.89\" style=\"fill:none;\" x1=\"116.7587\" x2=\"116.7587\" y1=\"374\"\n",
       "      /><line y2=\"371.89\" style=\"fill:none;\" x1=\"135.3363\" x2=\"135.3363\" y1=\"374\"\n",
       "      /><line y2=\"371.89\" style=\"fill:none;\" x1=\"148.5173\" x2=\"148.5173\" y1=\"374\"\n",
       "      /><line y2=\"371.89\" style=\"fill:none;\" x1=\"158.7413\" x2=\"158.7413\" y1=\"374\"\n",
       "      /><line y2=\"371.89\" style=\"fill:none;\" x1=\"167.095\" x2=\"167.095\" y1=\"374\"\n",
       "      /><line y2=\"371.89\" style=\"fill:none;\" x1=\"174.1578\" x2=\"174.1578\" y1=\"374\"\n",
       "      /><line y2=\"371.89\" style=\"fill:none;\" x1=\"180.276\" x2=\"180.276\" y1=\"374\"\n",
       "      /><line y2=\"371.89\" style=\"fill:none;\" x1=\"185.6726\" x2=\"185.6726\" y1=\"374\"\n",
       "      /><line y2=\"371.89\" style=\"fill:none;\" x1=\"190.5\" x2=\"190.5\" y1=\"374\"\n",
       "      /><line y2=\"371.89\" style=\"fill:none;\" x1=\"222.2587\" x2=\"222.2587\" y1=\"374\"\n",
       "      /><line y2=\"371.89\" style=\"fill:none;\" x1=\"240.8363\" x2=\"240.8363\" y1=\"374\"\n",
       "      /><line y2=\"371.89\" style=\"fill:none;\" x1=\"254.0173\" x2=\"254.0173\" y1=\"374\"\n",
       "      /><line y2=\"371.89\" style=\"fill:none;\" x1=\"264.2413\" x2=\"264.2413\" y1=\"374\"\n",
       "      /><line y2=\"371.89\" style=\"fill:none;\" x1=\"272.595\" x2=\"272.595\" y1=\"374\"\n",
       "      /><line y2=\"371.89\" style=\"fill:none;\" x1=\"279.6578\" x2=\"279.6578\" y1=\"374\"\n",
       "      /><line y2=\"371.89\" style=\"fill:none;\" x1=\"285.776\" x2=\"285.776\" y1=\"374\"\n",
       "      /><line y2=\"371.89\" style=\"fill:none;\" x1=\"291.1726\" x2=\"291.1726\" y1=\"374\"\n",
       "      /><line y2=\"371.89\" style=\"fill:none;\" x1=\"296\" x2=\"296\" y1=\"374\"\n",
       "      /><line y2=\"371.89\" style=\"fill:none;\" x1=\"327.7587\" x2=\"327.7587\" y1=\"374\"\n",
       "      /><line y2=\"371.89\" style=\"fill:none;\" x1=\"346.3363\" x2=\"346.3363\" y1=\"374\"\n",
       "      /><line y2=\"371.89\" style=\"fill:none;\" x1=\"359.5173\" x2=\"359.5173\" y1=\"374\"\n",
       "      /><line y2=\"371.89\" style=\"fill:none;\" x1=\"369.7413\" x2=\"369.7413\" y1=\"374\"\n",
       "      /><line y2=\"371.89\" style=\"fill:none;\" x1=\"378.095\" x2=\"378.095\" y1=\"374\"\n",
       "      /><line y2=\"371.89\" style=\"fill:none;\" x1=\"385.1578\" x2=\"385.1578\" y1=\"374\"\n",
       "      /><line y2=\"371.89\" style=\"fill:none;\" x1=\"391.276\" x2=\"391.276\" y1=\"374\"\n",
       "      /><line y2=\"371.89\" style=\"fill:none;\" x1=\"396.6726\" x2=\"396.6726\" y1=\"374\"\n",
       "      /><line y2=\"371.89\" style=\"fill:none;\" x1=\"401.5\" x2=\"401.5\" y1=\"374\"\n",
       "      /><line y2=\"371.89\" style=\"fill:none;\" x1=\"433.2587\" x2=\"433.2587\" y1=\"374\"\n",
       "      /><line y2=\"371.89\" style=\"fill:none;\" x1=\"451.8363\" x2=\"451.8363\" y1=\"374\"\n",
       "      /><line y2=\"371.89\" style=\"fill:none;\" x1=\"465.0173\" x2=\"465.0173\" y1=\"374\"\n",
       "      /><line y2=\"371.89\" style=\"fill:none;\" x1=\"475.2413\" x2=\"475.2413\" y1=\"374\"\n",
       "      /><line y2=\"371.89\" style=\"fill:none;\" x1=\"483.595\" x2=\"483.595\" y1=\"374\"\n",
       "      /><line y2=\"371.89\" style=\"fill:none;\" x1=\"490.6578\" x2=\"490.6578\" y1=\"374\"\n",
       "      /><line y2=\"371.89\" style=\"fill:none;\" x1=\"496.776\" x2=\"496.776\" y1=\"374\"\n",
       "      /><line y2=\"371.89\" style=\"fill:none;\" x1=\"502.1726\" x2=\"502.1726\" y1=\"374\"\n",
       "      /><line y2=\"371.89\" style=\"fill:none;\" x1=\"507\" x2=\"507\" y1=\"374\"\n",
       "      /><line y2=\"230.11\" style=\"fill:none;\" x1=\"85\" x2=\"85\" y1=\"228\"\n",
       "      /><line y2=\"230.11\" style=\"fill:none;\" x1=\"116.7587\" x2=\"116.7587\" y1=\"228\"\n",
       "      /><line y2=\"230.11\" style=\"fill:none;\" x1=\"135.3363\" x2=\"135.3363\" y1=\"228\"\n",
       "      /><line y2=\"230.11\" style=\"fill:none;\" x1=\"148.5173\" x2=\"148.5173\" y1=\"228\"\n",
       "      /><line y2=\"230.11\" style=\"fill:none;\" x1=\"158.7413\" x2=\"158.7413\" y1=\"228\"\n",
       "      /><line y2=\"230.11\" style=\"fill:none;\" x1=\"167.095\" x2=\"167.095\" y1=\"228\"\n",
       "      /><line y2=\"230.11\" style=\"fill:none;\" x1=\"174.1578\" x2=\"174.1578\" y1=\"228\"\n",
       "      /><line y2=\"230.11\" style=\"fill:none;\" x1=\"180.276\" x2=\"180.276\" y1=\"228\"\n",
       "      /><line y2=\"230.11\" style=\"fill:none;\" x1=\"185.6726\" x2=\"185.6726\" y1=\"228\"\n",
       "      /><line y2=\"230.11\" style=\"fill:none;\" x1=\"190.5\" x2=\"190.5\" y1=\"228\"\n",
       "      /><line y2=\"230.11\" style=\"fill:none;\" x1=\"222.2587\" x2=\"222.2587\" y1=\"228\"\n",
       "      /><line y2=\"230.11\" style=\"fill:none;\" x1=\"240.8363\" x2=\"240.8363\" y1=\"228\"\n",
       "      /><line y2=\"230.11\" style=\"fill:none;\" x1=\"254.0173\" x2=\"254.0173\" y1=\"228\"\n",
       "      /><line y2=\"230.11\" style=\"fill:none;\" x1=\"264.2413\" x2=\"264.2413\" y1=\"228\"\n",
       "      /><line y2=\"230.11\" style=\"fill:none;\" x1=\"272.595\" x2=\"272.595\" y1=\"228\"\n",
       "      /><line y2=\"230.11\" style=\"fill:none;\" x1=\"279.6578\" x2=\"279.6578\" y1=\"228\"\n",
       "      /><line y2=\"230.11\" style=\"fill:none;\" x1=\"285.776\" x2=\"285.776\" y1=\"228\"\n",
       "      /><line y2=\"230.11\" style=\"fill:none;\" x1=\"291.1726\" x2=\"291.1726\" y1=\"228\"\n",
       "      /><line y2=\"230.11\" style=\"fill:none;\" x1=\"296\" x2=\"296\" y1=\"228\"\n",
       "      /><line y2=\"230.11\" style=\"fill:none;\" x1=\"327.7587\" x2=\"327.7587\" y1=\"228\"\n",
       "      /><line y2=\"230.11\" style=\"fill:none;\" x1=\"346.3363\" x2=\"346.3363\" y1=\"228\"\n",
       "      /><line y2=\"230.11\" style=\"fill:none;\" x1=\"359.5173\" x2=\"359.5173\" y1=\"228\"\n",
       "      /><line y2=\"230.11\" style=\"fill:none;\" x1=\"369.7413\" x2=\"369.7413\" y1=\"228\"\n",
       "      /><line y2=\"230.11\" style=\"fill:none;\" x1=\"378.095\" x2=\"378.095\" y1=\"228\"\n",
       "      /><line y2=\"230.11\" style=\"fill:none;\" x1=\"385.1578\" x2=\"385.1578\" y1=\"228\"\n",
       "      /><line y2=\"230.11\" style=\"fill:none;\" x1=\"391.276\" x2=\"391.276\" y1=\"228\"\n",
       "      /><line y2=\"230.11\" style=\"fill:none;\" x1=\"396.6726\" x2=\"396.6726\" y1=\"228\"\n",
       "      /><line y2=\"230.11\" style=\"fill:none;\" x1=\"401.5\" x2=\"401.5\" y1=\"228\"\n",
       "      /><line y2=\"230.11\" style=\"fill:none;\" x1=\"433.2587\" x2=\"433.2587\" y1=\"228\"\n",
       "      /><line y2=\"230.11\" style=\"fill:none;\" x1=\"451.8363\" x2=\"451.8363\" y1=\"228\"\n",
       "      /><line y2=\"230.11\" style=\"fill:none;\" x1=\"465.0173\" x2=\"465.0173\" y1=\"228\"\n",
       "      /><line y2=\"230.11\" style=\"fill:none;\" x1=\"475.2413\" x2=\"475.2413\" y1=\"228\"\n",
       "      /><line y2=\"230.11\" style=\"fill:none;\" x1=\"483.595\" x2=\"483.595\" y1=\"228\"\n",
       "      /><line y2=\"230.11\" style=\"fill:none;\" x1=\"490.6578\" x2=\"490.6578\" y1=\"228\"\n",
       "      /><line y2=\"230.11\" style=\"fill:none;\" x1=\"496.776\" x2=\"496.776\" y1=\"228\"\n",
       "      /><line y2=\"230.11\" style=\"fill:none;\" x1=\"502.1726\" x2=\"502.1726\" y1=\"228\"\n",
       "      /><line y2=\"230.11\" style=\"fill:none;\" x1=\"507\" x2=\"507\" y1=\"228\"\n",
       "    /></g\n",
       "    ><g transform=\"translate(75,391)\" style=\"font-size:10px; fill:rgb(102,102,102); text-rendering:geometricPrecision; image-rendering:optimizeQuality; color-rendering:optimizeQuality; font-family:'Helvetica Neue'; stroke:rgb(102,102,102); color-interpolation:linearRGB;\"\n",
       "    ><text x=\"0\" xml:space=\"preserve\" y=\"0\" style=\"stroke:none;\"\n",
       "      >10</text\n",
       "    ></g\n",
       "    ><g transform=\"translate(87,386)\" style=\"font-size:8px; fill:rgb(102,102,102); text-rendering:geometricPrecision; image-rendering:optimizeQuality; color-rendering:optimizeQuality; font-family:'Helvetica Neue'; stroke:rgb(102,102,102); color-interpolation:linearRGB;\"\n",
       "    ><text x=\"0\" xml:space=\"preserve\" y=\"0\" style=\"stroke:none;\"\n",
       "      >-2</text\n",
       "    ></g\n",
       "    ><g transform=\"translate(181,391)\" style=\"font-size:10px; fill:rgb(102,102,102); text-rendering:geometricPrecision; image-rendering:optimizeQuality; color-rendering:optimizeQuality; font-family:'Helvetica Neue'; stroke:rgb(102,102,102); color-interpolation:linearRGB;\"\n",
       "    ><text x=\"0\" xml:space=\"preserve\" y=\"0\" style=\"stroke:none;\"\n",
       "      >10</text\n",
       "    ></g\n",
       "    ><g transform=\"translate(193,386)\" style=\"font-size:8px; fill:rgb(102,102,102); text-rendering:geometricPrecision; image-rendering:optimizeQuality; color-rendering:optimizeQuality; font-family:'Helvetica Neue'; stroke:rgb(102,102,102); color-interpolation:linearRGB;\"\n",
       "    ><text x=\"0\" xml:space=\"preserve\" y=\"0\" style=\"stroke:none;\"\n",
       "      >-1</text\n",
       "    ></g\n",
       "    ><g transform=\"translate(287,391)\" style=\"font-size:10px; fill:rgb(102,102,102); text-rendering:geometricPrecision; image-rendering:optimizeQuality; color-rendering:optimizeQuality; font-family:'Helvetica Neue'; stroke:rgb(102,102,102); color-interpolation:linearRGB;\"\n",
       "    ><text x=\"0\" xml:space=\"preserve\" y=\"0\" style=\"stroke:none;\"\n",
       "      >10</text\n",
       "    ></g\n",
       "    ><g transform=\"translate(299,386)\" style=\"font-size:8px; fill:rgb(102,102,102); text-rendering:geometricPrecision; image-rendering:optimizeQuality; color-rendering:optimizeQuality; font-family:'Helvetica Neue'; stroke:rgb(102,102,102); color-interpolation:linearRGB;\"\n",
       "    ><text x=\"0\" xml:space=\"preserve\" y=\"0\" style=\"stroke:none;\"\n",
       "      >0</text\n",
       "    ></g\n",
       "    ><g transform=\"translate(393,391)\" style=\"font-size:10px; fill:rgb(102,102,102); text-rendering:geometricPrecision; image-rendering:optimizeQuality; color-rendering:optimizeQuality; font-family:'Helvetica Neue'; stroke:rgb(102,102,102); color-interpolation:linearRGB;\"\n",
       "    ><text x=\"0\" xml:space=\"preserve\" y=\"0\" style=\"stroke:none;\"\n",
       "      >10</text\n",
       "    ></g\n",
       "    ><g transform=\"translate(405,386)\" style=\"font-size:8px; fill:rgb(102,102,102); text-rendering:geometricPrecision; image-rendering:optimizeQuality; color-rendering:optimizeQuality; font-family:'Helvetica Neue'; stroke:rgb(102,102,102); color-interpolation:linearRGB;\"\n",
       "    ><text x=\"0\" xml:space=\"preserve\" y=\"0\" style=\"stroke:none;\"\n",
       "      >1</text\n",
       "    ></g\n",
       "    ><g transform=\"translate(498,391)\" style=\"font-size:10px; fill:rgb(102,102,102); text-rendering:geometricPrecision; image-rendering:optimizeQuality; color-rendering:optimizeQuality; font-family:'Helvetica Neue'; stroke:rgb(102,102,102); color-interpolation:linearRGB;\"\n",
       "    ><text x=\"0\" xml:space=\"preserve\" y=\"0\" style=\"stroke:none;\"\n",
       "      >10</text\n",
       "    ></g\n",
       "    ><g transform=\"translate(510,386)\" style=\"font-size:8px; fill:rgb(102,102,102); text-rendering:geometricPrecision; image-rendering:optimizeQuality; color-rendering:optimizeQuality; font-family:'Helvetica Neue'; stroke:rgb(102,102,102); color-interpolation:linearRGB;\"\n",
       "    ><text x=\"0\" xml:space=\"preserve\" y=\"0\" style=\"stroke:none;\"\n",
       "      >2</text\n",
       "    ></g\n",
       "    ><g style=\"fill:rgb(102,102,102); text-rendering:geometricPrecision; image-rendering:optimizeQuality; color-rendering:optimizeQuality; stroke-linejoin:round; stroke:rgb(102,102,102); color-interpolation:linearRGB; stroke-width:0.5;\"\n",
       "    ><line y2=\"228\" style=\"fill:none;\" x1=\"85\" x2=\"85\" y1=\"374\"\n",
       "      /><line y2=\"228\" style=\"fill:none;\" x1=\"507\" x2=\"507\" y1=\"374\"\n",
       "      /><line y2=\"372.5686\" style=\"fill:none;\" x1=\"85\" x2=\"89.22\" y1=\"372.5686\"\n",
       "      /><line y2=\"336.7843\" style=\"fill:none;\" x1=\"85\" x2=\"89.22\" y1=\"336.7843\"\n",
       "      /><line y2=\"301\" style=\"fill:none;\" x1=\"85\" x2=\"89.22\" y1=\"301\"\n",
       "      /><line y2=\"265.2157\" style=\"fill:none;\" x1=\"85\" x2=\"89.22\" y1=\"265.2157\"\n",
       "      /><line y2=\"229.4314\" style=\"fill:none;\" x1=\"85\" x2=\"89.22\" y1=\"229.4314\"\n",
       "      /><line y2=\"372.5686\" style=\"fill:none;\" x1=\"507\" x2=\"502.78\" y1=\"372.5686\"\n",
       "      /><line y2=\"336.7843\" style=\"fill:none;\" x1=\"507\" x2=\"502.78\" y1=\"336.7843\"\n",
       "      /><line y2=\"301\" style=\"fill:none;\" x1=\"507\" x2=\"502.78\" y1=\"301\"\n",
       "      /><line y2=\"265.2157\" style=\"fill:none;\" x1=\"507\" x2=\"502.78\" y1=\"265.2157\"\n",
       "      /><line y2=\"229.4314\" style=\"fill:none;\" x1=\"507\" x2=\"502.78\" y1=\"229.4314\"\n",
       "    /></g\n",
       "    ><g transform=\"translate(81,372.5686)\" style=\"font-size:10px; fill:rgb(102,102,102); text-rendering:geometricPrecision; image-rendering:optimizeQuality; color-rendering:optimizeQuality; font-family:'Helvetica Neue'; stroke:rgb(102,102,102); color-interpolation:linearRGB;\"\n",
       "    ><text x=\"-6\" xml:space=\"preserve\" y=\"3.5\" style=\"stroke:none;\"\n",
       "      >0</text\n",
       "    ></g\n",
       "    ><g transform=\"translate(81,336.7843)\" style=\"font-size:10px; fill:rgb(102,102,102); text-rendering:geometricPrecision; image-rendering:optimizeQuality; color-rendering:optimizeQuality; font-family:'Helvetica Neue'; stroke:rgb(102,102,102); color-interpolation:linearRGB;\"\n",
       "    ><text x=\"-12\" xml:space=\"preserve\" y=\"3.5\" style=\"stroke:none;\"\n",
       "      >45</text\n",
       "    ></g\n",
       "    ><g transform=\"translate(81,301)\" style=\"font-size:10px; fill:rgb(102,102,102); text-rendering:geometricPrecision; image-rendering:optimizeQuality; color-rendering:optimizeQuality; font-family:'Helvetica Neue'; stroke:rgb(102,102,102); color-interpolation:linearRGB;\"\n",
       "    ><text x=\"-12\" xml:space=\"preserve\" y=\"3.5\" style=\"stroke:none;\"\n",
       "      >90</text\n",
       "    ></g\n",
       "    ><g transform=\"translate(81,265.2157)\" style=\"font-size:10px; fill:rgb(102,102,102); text-rendering:geometricPrecision; image-rendering:optimizeQuality; color-rendering:optimizeQuality; font-family:'Helvetica Neue'; stroke:rgb(102,102,102); color-interpolation:linearRGB;\"\n",
       "    ><text x=\"-17\" xml:space=\"preserve\" y=\"3.5\" style=\"stroke:none;\"\n",
       "      >135</text\n",
       "    ></g\n",
       "    ><g transform=\"translate(81,229.4314)\" style=\"font-size:10px; fill:rgb(102,102,102); text-rendering:geometricPrecision; image-rendering:optimizeQuality; color-rendering:optimizeQuality; font-family:'Helvetica Neue'; stroke:rgb(102,102,102); color-interpolation:linearRGB;\"\n",
       "    ><text x=\"-17\" xml:space=\"preserve\" y=\"3.5\" style=\"stroke:none;\"\n",
       "      >180</text\n",
       "    ></g\n",
       "    ><g transform=\"translate(61,300.9999) rotate(-90)\" style=\"font-size:11px; text-rendering:geometricPrecision; color-rendering:optimizeQuality; image-rendering:optimizeQuality; font-family:'Helvetica Neue'; color-interpolation:linearRGB;\"\n",
       "    ><text x=\"-29.5\" xml:space=\"preserve\" y=\"-3\" style=\"stroke:none;\"\n",
       "      >Phase (deg)</text\n",
       "    ></g\n",
       "    ><g style=\"stroke-linecap:butt; fill:rgb(0,114,189); text-rendering:geometricPrecision; image-rendering:optimizeQuality; color-rendering:optimizeQuality; stroke-linejoin:round; stroke:rgb(0,114,189); color-interpolation:linearRGB; stroke-width:0.5;\"\n",
       "    ><path d=\"M84.9497 230.7996 L86.8424 230.854 L93.9325 231.092 L101.0226 231.3697 L108.1127 231.6937 L115.2028 232.0719 L122.2929 232.5129 L129.383 233.0273 L136.4731 233.627 L143.5631 234.3259 L150.6532 235.1397 L157.7433 236.0867 L164.8334 237.1873 L171.9235 238.4644 L179.0136 239.9433 L186.1037 241.6511 L193.1937 243.6158 L200.2838 245.8653 L207.3739 248.4248 L214.464 251.3139 L221.5541 254.5428 L228.6442 258.1088 L235.7343 261.9926 L242.8243 266.1573 L249.9144 270.551 L257.0045 275.1121 L264.0946 279.778 L271.1847 284.4948 L278.2748 289.2234 L285.3649 293.943 L292.455 298.6496 L299.545 303.3504 L306.6351 308.057 L313.7252 312.7766 L320.8153 317.5052 L327.9054 322.222 L334.9955 326.8879 L342.0856 331.449 L349.1756 335.8427 L356.2657 340.0074 L363.3558 343.8912 L370.4459 347.4572 L377.536 350.6862 L384.6261 353.5752 L391.7162 356.1346 L398.8062 358.3842 L405.8963 360.3489 L412.9864 362.0567 L420.0765 363.5356 L427.1666 364.8127 L434.2567 365.9133 L441.3468 366.8603 L448.4369 367.6741 L455.5269 368.373 L462.617 368.9727 L469.7071 369.4871 L476.7972 369.9282 L483.8873 370.3062 L490.9774 370.6303 L498.0674 370.908 L505.1576 371.146 L507.0503 371.2004\" style=\"fill:none; fill-rule:evenodd;\"\n",
       "    /></g\n",
       "    ><g transform=\"translate(295,44.2)\" style=\"font-size:11px; text-rendering:geometricPrecision; image-rendering:optimizeQuality; color-rendering:optimizeQuality; font-family:'Helvetica Neue'; color-interpolation:linearRGB; font-weight:bold;\"\n",
       "    ><text x=\"-38\" xml:space=\"preserve\" y=\"-3\" style=\"stroke:none;\"\n",
       "      >Bode Diagram</text\n",
       "    ></g\n",
       "    ><g transform=\"translate(295,393)\" style=\"font-size:11px; text-rendering:geometricPrecision; color-rendering:optimizeQuality; image-rendering:optimizeQuality; font-family:'Helvetica Neue'; color-interpolation:linearRGB;\"\n",
       "    ><text x=\"-45\" xml:space=\"preserve\" y=\"11\" style=\"stroke:none;\"\n",
       "      >Frequency  (rad/s)</text\n",
       "    ></g\n",
       "  ></g\n",
       "></svg\n",
       ">\n"
      ]
     },
     "metadata": {
      "filenames": {
       "image/svg+xml": "/Users/eechris/code/src/github.com/cpjobling/eg-247-textbook/_build/jupyter_execute/laplace_transform/4/transfer_functions_73_0.svg"
      }
     },
     "output_type": "display_data"
    }
   ],
   "source": [
    "bode(G)"
   ]
  },
  {
   "cell_type": "markdown",
   "id": "1c3236c5",
   "metadata": {},
   "source": [
    "## Reference \n",
    "\n",
    "See [Bibliography](/zbib)."
   ]
  }
 ],
 "metadata": {
  "jupytext": {
   "formats": "ipynb,md:myst",
   "text_representation": {
    "extension": ".md",
    "format_name": "myst",
    "format_version": 0.13,
    "jupytext_version": "1.11.5"
   }
  },
  "kernelspec": {
   "display_name": "MATLAB",
   "language": "matlab",
   "name": "imatlab"
  },
  "language_info": {
   "codemirror_mode": "octave",
   "file_extension": ".m",
   "mimetype": "text/x-matlab",
   "name": "matlab",
   "nbconvert_exporter": "imatlab._exporter.MatlabExporter",
   "pygments_lexer": "matlab",
   "version": "9.11.0.1769968 (R2021b)"
  },
  "source_map": [
   15,
   19,
   23,
   36,
   40,
   44,
   48,
   52,
   56,
   69,
   75,
   79,
   83,
   87,
   91,
   97,
   103,
   109,
   113,
   117,
   121,
   125,
   129,
   135,
   141,
   147,
   151,
   159,
   163,
   167,
   171,
   175,
   179,
   183,
   187,
   193,
   199,
   205,
   211,
   215,
   223,
   236,
   245,
   249,
   258,
   266,
   272,
   281,
   285,
   294,
   298,
   310,
   316,
   320,
   324,
   328,
   336,
   340,
   350,
   356,
   363,
   369,
   376,
   383,
   387,
   395,
   399,
   407,
   411,
   417,
   425,
   429,
   435,
   439,
   445
  ]
 },
 "nbformat": 4,
 "nbformat_minor": 5
}