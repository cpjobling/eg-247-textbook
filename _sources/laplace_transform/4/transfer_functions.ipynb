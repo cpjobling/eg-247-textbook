{
 "cells": [
  {
   "cell_type": "markdown",
   "id": "b44c061f",
   "metadata": {
    "slideshow": {
     "slide_type": "slide"
    }
   },
   "source": [
    "# Transfer Functions"
   ]
  },
  {
   "cell_type": "markdown",
   "id": "f75852b0",
   "metadata": {
    "slideshow": {
     "slide_type": "notes"
    }
   },
   "source": [
    "The preparatory reading for this section is [Chapter 4.4](https://ebookcentral.proquest.com/lib/swansea-ebooks/reader.action?docID=3384197&ppg=75#ppg=113) {cite}`karris` which discusses transfer function models of electrical circuits."
   ]
  },
  {
   "cell_type": "markdown",
   "id": "868d22a1",
   "metadata": {
    "slideshow": {
     "slide_type": "notes"
    }
   },
   "source": [
    "## Colophon\n",
    "\n",
    "\n",
    "An annotatable worksheet for this presentation is available as [**Worksheet 7**](https://cpjobling.github.io/eg-247-textbook/laplace_transform/4/worksheet7.html).\n",
    "\n",
    "* The source code for this page is [laplace_transform/4/transfer_functions.ipynb](https://github.com/cpjobling/eg-247-textbook/blob/master/laplace_transform/4/transfer_functions.ipynb).\n",
    "\n",
    "* You can view the notes for this presentation as a webpage ([HTML](https://cpjobling.github.io/eg-247-textbook/laplace_transform/4/transfer_functions.html)). \n",
    "\n",
    "* This page is downloadable as a [PDF](https://cpjobling.github.io/eg-247-textbook/laplace_transform/4/transfer_functions.pdf) file."
   ]
  },
  {
   "cell_type": "markdown",
   "id": "26b96923",
   "metadata": {
    "slideshow": {
     "slide_type": "slide"
    }
   },
   "source": [
    "## Agenda"
   ]
  },
  {
   "cell_type": "markdown",
   "id": "f5b16634",
   "metadata": {
    "slideshow": {
     "slide_type": "fragment"
    }
   },
   "source": [
    "* Transfer Functions"
   ]
  },
  {
   "cell_type": "markdown",
   "id": "d953accd",
   "metadata": {
    "slideshow": {
     "slide_type": "fragment"
    }
   },
   "source": [
    "* A Couple of Examples"
   ]
  },
  {
   "cell_type": "markdown",
   "id": "9517f6e0",
   "metadata": {
    "slideshow": {
     "slide_type": "fragment"
    }
   },
   "source": [
    "* Circuit Analysis Using MATLAB LTI Transfer Function Block"
   ]
  },
  {
   "cell_type": "markdown",
   "id": "fa28237d",
   "metadata": {
    "slideshow": {
     "slide_type": "fragment"
    }
   },
   "source": [
    "* Circuit Simulation Using Simulink Transfer Function Block"
   ]
  },
  {
   "cell_type": "code",
   "execution_count": 1,
   "id": "a9a25807",
   "metadata": {
    "slideshow": {
     "slide_type": "skip"
    }
   },
   "outputs": [
    {
     "name": "stdout",
     "output_type": "stream",
     "text": [
      "\n",
      "ans =\n",
      "\n",
      "    '/Users/cpjobling/code/src/github.com/cpjobling/eg-247-textbook/laplace_transform/matlab'\n",
      "\n"
     ]
    }
   ],
   "source": [
    "% Matlab setup\n",
    "clear all\n",
    "cd ../matlab \n",
    "pwd\n",
    "imatlab_export_fig('print-svg')  % Static svg figures.\n",
    "format compact"
   ]
  },
  {
   "cell_type": "markdown",
   "id": "7cdbc932",
   "metadata": {
    "slideshow": {
     "slide_type": "slide"
    }
   },
   "source": [
    "## Transfer Functions for Circuits\n",
    "\n",
    "When doing circuit analysis with components defined in the complex frequency domain, the ratio of the output voltage $V_{\\mathrm{out}}(s)$ to the input voltage $V_{\\mathrm{in}}(s)$ *under zero initial conditions* is of great interest."
   ]
  },
  {
   "cell_type": "markdown",
   "id": "77fcb99f",
   "metadata": {
    "slideshow": {
     "slide_type": "subslide"
    }
   },
   "source": [
    "This ratio is known as the *voltage transfer function* denoted $G_v(s)$:"
   ]
  },
  {
   "cell_type": "markdown",
   "id": "66f3b925",
   "metadata": {
    "slideshow": {
     "slide_type": "fragment"
    }
   },
   "source": [
    "$$G_v(s) = \\frac{V_{\\mathrm{out}}(s)}{V_{\\mathrm{in}}(s)}$$"
   ]
  },
  {
   "cell_type": "markdown",
   "id": "78f585c6",
   "metadata": {
    "slideshow": {
     "slide_type": "subslide"
    }
   },
   "source": [
    "Similarly, the ratio of the output current $I_{\\mathrm{out}}(s)$ to the input current $I_{\\mathrm{in}}(s)$ *under zero initial conditions*, is called the *cuurent transfer function* denoted $G_i(s)$:"
   ]
  },
  {
   "cell_type": "markdown",
   "id": "fbf34eaf",
   "metadata": {
    "slideshow": {
     "slide_type": "fragment"
    }
   },
   "source": [
    "$$G_i(s) = \\frac{I_{\\mathrm{out}}(s)}{I_{\\mathrm{in}}(s)}$$"
   ]
  },
  {
   "cell_type": "markdown",
   "id": "5cdb6c69",
   "metadata": {
    "slideshow": {
     "slide_type": "notes"
    }
   },
   "source": [
    "In practice, the current transfer function is rarely used, so we will use the voltage transfer function denoted:\n",
    "\n",
    "$$G(s) = \\frac{V_{\\mathrm{out}}(s)}{V_{\\mathrm{in}}(s)}$$"
   ]
  },
  {
   "cell_type": "markdown",
   "id": "9a6daa54",
   "metadata": {
    "slideshow": {
     "slide_type": "slide"
    }
   },
   "source": [
    "## Examples\n",
    "\n",
    "See [Worksheet 7](worksheet7) for the worked solutions to the examples. We will work through these in class. Here I'll demonstrate the MATLAB solutions."
   ]
  },
  {
   "cell_type": "markdown",
   "id": "c543e733",
   "metadata": {
    "slideshow": {
     "slide_type": "subslide"
    }
   },
   "source": [
    "### Example 6\n",
    "\n",
    "Derive an expression for the transfer function $G(s)$ for the circuit below. In this circuit $R_g$ represents the internal resistance of the applied (voltage) source $v_s$, and $R_L$ represents the resistance of the load that consists of $R_L$, $L$ and $C$."
   ]
  },
  {
   "cell_type": "markdown",
   "id": "ac5fb582",
   "metadata": {
    "slideshow": {
     "slide_type": "subslide"
    }
   },
   "source": [
    "<img title=\"Circuit for Example 6\" src=\"pictures/example6.png\" width=\"50%\" />"
   ]
  },
  {
   "cell_type": "markdown",
   "id": "6a132de2",
   "metadata": {
    "slideshow": {
     "slide_type": "subslide"
    }
   },
   "source": [
    "### Sketch of Solution"
   ]
  },
  {
   "cell_type": "markdown",
   "id": "c428b82f",
   "metadata": {
    "slideshow": {
     "slide_type": "fragment"
    }
   },
   "source": [
    "* Replace $v_s(t)$, $R_g$, $R_L$, $L$ and $C$ by their transformed (*complex frequency*) equivalents: $V_s(s)$, $R_g$, $R_L$, $sL$ and $1/(sC)$"
   ]
  },
  {
   "cell_type": "markdown",
   "id": "72e000ed",
   "metadata": {
    "slideshow": {
     "slide_type": "fragment"
    }
   },
   "source": [
    "* Use the *Voltage Divider Rule* to determine $V_\\mathrm{out}(s)$ as a function of $V_s(s)$"
   ]
  },
  {
   "cell_type": "markdown",
   "id": "8d3908c6",
   "metadata": {
    "slideshow": {
     "slide_type": "subslide"
    }
   },
   "source": [
    "* Form $G(s)$ by writing down the ratio $V_\\mathrm{out}(s)/V_s(s)$"
   ]
  },
  {
   "cell_type": "markdown",
   "id": "50bfb2f2",
   "metadata": {
    "slideshow": {
     "slide_type": "notes"
    }
   },
   "source": [
    "### Worked solution.\n",
    "\n",
    "Pencast: [ex6.pdf](https://cpjobling.github.io/eg-247-textbook/laplace_transform/worked_examples/ex6.pdf) - open in Adobe Acrobat Reader."
   ]
  },
  {
   "cell_type": "markdown",
   "id": "08d8ddc3",
   "metadata": {
    "slideshow": {
     "slide_type": "subslide"
    }
   },
   "source": [
    "### Answer\n",
    "\n",
    "$$G(s) = \\frac{V_\\mathrm{out}(s)}{V_s(s)} = \\frac{R_L + sL + 1/sC}{R_g + R_L + sL + 1/sC}.$$"
   ]
  },
  {
   "cell_type": "markdown",
   "id": "41e4fac4",
   "metadata": {
    "slideshow": {
     "slide_type": "subslide"
    }
   },
   "source": [
    "### Example 7\n",
    "\n",
    "Compute the transfer function for the op-amp circuit shown below in terms of the circuit constants $R_1$, $R_2$, $R_3$, $C_1$ and $C_2$."
   ]
  },
  {
   "cell_type": "markdown",
   "id": "31f925d5",
   "metadata": {
    "slideshow": {
     "slide_type": "subslide"
    }
   },
   "source": [
    "<img alt=\"Circuit for Example 7\" src=\"pictures/example7.png\" width=\"50%\" />"
   ]
  },
  {
   "cell_type": "markdown",
   "id": "c9fbbe69",
   "metadata": {
    "slideshow": {
     "slide_type": "subslide"
    }
   },
   "source": [
    "Then replace the complex variable $s$ with $j\\omega$, and the circuit constants with their numerical values and plot the magnitude\n",
    "\n",
    "$$\\left|G(j\\omega)\\right| = \\frac{\\left|V_{\\mathrm{out}}(j\\omega)\\right|}{\\left|V_{\\mathrm{in}}(j\\omega)\\right|}$$\n",
    "\n",
    "versus radian frequency $\\omega$ rad/s."
   ]
  },
  {
   "cell_type": "markdown",
   "id": "64109fb2",
   "metadata": {
    "slideshow": {
     "slide_type": "subslide"
    }
   },
   "source": [
    "### Sketch of Solution"
   ]
  },
  {
   "cell_type": "markdown",
   "id": "9981dd72",
   "metadata": {
    "slideshow": {
     "slide_type": "fragment"
    }
   },
   "source": [
    "* Replace the components and voltages in the circuit diagram with their complex frequency equivalents"
   ]
  },
  {
   "cell_type": "markdown",
   "id": "533d11d1",
   "metadata": {
    "slideshow": {
     "slide_type": "fragment"
    }
   },
   "source": [
    "* Use nodal analysis to determine the voltages at the nodes either side of the 50K resistor $R_3$"
   ]
  },
  {
   "cell_type": "markdown",
   "id": "db93d718",
   "metadata": {
    "slideshow": {
     "slide_type": "subslide"
    }
   },
   "source": [
    "* Note that the voltage at the input to the op-amp is a virtual ground"
   ]
  },
  {
   "cell_type": "markdown",
   "id": "338bbf65",
   "metadata": {
    "slideshow": {
     "slide_type": "fragment"
    }
   },
   "source": [
    "* Solve for $V_{\\mathrm{out}}(s)$ as a function of $V_{\\mathrm{in}}(s)$"
   ]
  },
  {
   "cell_type": "markdown",
   "id": "a7502756",
   "metadata": {
    "slideshow": {
     "slide_type": "fragment"
    }
   },
   "source": [
    "* Form the reciprocal $G(s) = V_{\\mathrm{out}}(s)/V_{\\mathrm{in}}(s)$"
   ]
  },
  {
   "cell_type": "markdown",
   "id": "65a23275",
   "metadata": {
    "slideshow": {
     "slide_type": "subslide"
    }
   },
   "source": [
    "* Use MATLAB to calculate the component values, then replace $s$ by $j\\omega$."
   ]
  },
  {
   "cell_type": "markdown",
   "id": "818a748d",
   "metadata": {
    "slideshow": {
     "slide_type": "fragment"
    }
   },
   "source": [
    "* Plot on log-linear \"paper\":\n",
    "\n",
    "$$\\left|G(j\\omega)\\right|$$"
   ]
  },
  {
   "cell_type": "markdown",
   "id": "9e3c65ea",
   "metadata": {
    "slideshow": {
     "slide_type": "notes"
    }
   },
   "source": [
    "### Worked solution.\n",
    "\n",
    "Pencast: [ex7.pdf](https://cpjobling.github.io/eg-247-textbook/laplace_transform/worked_examples/ex7.pdf) - open in Adobe Acrobat Reader."
   ]
  },
  {
   "cell_type": "markdown",
   "id": "7ed2a4a8",
   "metadata": {
    "slideshow": {
     "slide_type": "subslide"
    }
   },
   "source": [
    "### Answer\n",
    "\n",
    "$$G(s) = \\frac{V_\\mathrm{out}(s)}{V_\\mathrm{in}(s)} = \\frac{-1}{R_1\\left(\\left(1/R_1 + 1/R_2 + 1/R_3 + sC_1\\right)\\left(sC_2R_3\\right)+1/R_2\\right)}.$$"
   ]
  },
  {
   "cell_type": "markdown",
   "id": "d8db9ec8",
   "metadata": {
    "slideshow": {
     "slide_type": "subslide"
    }
   },
   "source": [
    "### The Matlab Bit\n",
    "\n",
    "See attached script: [solution7.m](https://cpjobling.github.io/eg-247-textbook/laplace_transform/matlab/solution7.m)."
   ]
  },
  {
   "cell_type": "markdown",
   "id": "010e16fd",
   "metadata": {
    "slideshow": {
     "slide_type": "subslide"
    }
   },
   "source": [
    "#### Week 3: Solution 7"
   ]
  },
  {
   "cell_type": "code",
   "execution_count": 2,
   "id": "e1f2683a",
   "metadata": {
    "slideshow": {
     "slide_type": "fragment"
    }
   },
   "outputs": [],
   "source": [
    "syms s;"
   ]
  },
  {
   "cell_type": "code",
   "execution_count": 3,
   "id": "2463ce5b",
   "metadata": {
    "slideshow": {
     "slide_type": "subslide"
    }
   },
   "outputs": [],
   "source": [
    "R1 = 200*10^3; \n",
    "R2 = 40*10^3;\n",
    "R3 = 50*10^3;\n",
    "\n",
    "C1 = 25*10^(-9);\n",
    "C2 = 10*10^(-9);"
   ]
  },
  {
   "cell_type": "code",
   "execution_count": 4,
   "id": "84a27a8c",
   "metadata": {
    "slideshow": {
     "slide_type": "subslide"
    }
   },
   "outputs": [
    {
     "name": "stdout",
     "output_type": "stream",
     "text": [
      "ans =\n"
     ]
    },
    {
     "name": "stdout",
     "output_type": "stream",
     "text": [
      "100*s*((7555786372591433*s)/302231454903657293676544 + 1/20000) + 5\n"
     ]
    }
   ],
   "source": [
    "den = R1*((1/R1+ 1/R2 + 1/R3 + s*C1)*(s*R3*C2) + 1/R2);\n",
    "simplify(den)"
   ]
  },
  {
   "cell_type": "markdown",
   "id": "15663373",
   "metadata": {
    "slideshow": {
     "slide_type": "subslide"
    }
   },
   "source": [
    "Simplify coefficients of s in denominator"
   ]
  },
  {
   "cell_type": "code",
   "execution_count": 5,
   "id": "81404c75",
   "metadata": {
    "slideshow": {
     "slide_type": "subslide"
    }
   },
   "outputs": [
    {
     "name": "stdout",
     "output_type": "stream",
     "text": [
      "denG =\n",
      "   0.000002500000000   0.005000000000000   5.000000000000000\n"
     ]
    }
   ],
   "source": [
    "format long\n",
    "denG = sym2poly(ans)"
   ]
  },
  {
   "cell_type": "code",
   "execution_count": 6,
   "id": "6269a4fd",
   "metadata": {
    "slideshow": {
     "slide_type": "subslide"
    }
   },
   "outputs": [],
   "source": [
    "numG = -1;"
   ]
  },
  {
   "cell_type": "markdown",
   "id": "8afdf119",
   "metadata": {
    "slideshow": {
     "slide_type": "subslide"
    }
   },
   "source": [
    "Plot\n",
    "\n",
    "For convenience, define coefficients $a$ and $b$:"
   ]
  },
  {
   "cell_type": "code",
   "execution_count": 7,
   "id": "3eeba9fc",
   "metadata": {
    "slideshow": {
     "slide_type": "fragment"
    }
   },
   "outputs": [],
   "source": [
    "a = denG(1);\n",
    "b = denG(2);"
   ]
  },
  {
   "cell_type": "markdown",
   "id": "6447ad85",
   "metadata": {
    "slideshow": {
     "slide_type": "subslide"
    }
   },
   "source": [
    "$$G(j\\omega) = \\frac{-1}{a\\omega^2 - jb\\omega + 5}$$"
   ]
  },
  {
   "cell_type": "code",
   "execution_count": 8,
   "id": "003181ce",
   "metadata": {
    "slideshow": {
     "slide_type": "fragment"
    }
   },
   "outputs": [],
   "source": [
    "w = 1:10:10000;\n",
    "Gs = -1./(a*w.^2 - j.*b.*w + denG(3));"
   ]
  },
  {
   "cell_type": "markdown",
   "id": "eb535bfd",
   "metadata": {
    "slideshow": {
     "slide_type": "subslide"
    }
   },
   "source": [
    "Plot"
   ]
  },
  {
   "cell_type": "code",
   "execution_count": 9,
   "id": "9668291e",
   "metadata": {
    "slideshow": {
     "slide_type": "fragment"
    }
   },
   "outputs": [
    {
     "data": {
      "image/svg+xml": [
       "<?xml version=\"1.0\"?>\n",
       "<!DOCTYPE svg PUBLIC '-//W3C//DTD SVG 1.0//EN'\n",
       "          'http://www.w3.org/TR/2001/REC-SVG-20010904/DTD/svg10.dtd'>\n",
       "<svg xmlns:xlink=\"http://www.w3.org/1999/xlink\" style=\"fill-opacity:1; color-rendering:auto; color-interpolation:auto; text-rendering:auto; stroke:black; stroke-linecap:square; stroke-miterlimit:10; shape-rendering:auto; stroke-opacity:1; fill:black; stroke-dasharray:none; font-weight:normal; stroke-width:1; font-family:'Dialog'; font-style:normal; stroke-linejoin:miter; font-size:12px; stroke-dashoffset:0; image-rendering:auto;\" width=\"560\" height=\"420\" xmlns=\"http://www.w3.org/2000/svg\"\n",
       "><!--Generated by the Batik Graphics2D SVG Generator--><defs id=\"genericDefs\"\n",
       "  /><g\n",
       "  ><defs id=\"defs1\"\n",
       "    ><clipPath clipPathUnits=\"userSpaceOnUse\" id=\"clipPath1\"\n",
       "      ><path d=\"M0 0 L560 0 L560 420 L0 420 L0 0 Z\"\n",
       "      /></clipPath\n",
       "      ><font horiz-adv-x=\"50.0\" id=\"font1\"\n",
       "      ><font-face ascent=\"95.200005\" descent=\"21.3\" units-per-em=\"100\" style=\"font-style:normal; font-family:Helvetica Neue; font-weight:normal;\"\n",
       "        /><missing-glyph horiz-adv-x=\"50.0\" d=\"M40.9 66.6 L10.2 66.6 L10.2 4.7 L40.9 4.7 ZM46 71.2 L46 0.1 L5.1 0.1 L5.1 71.2 Z\"\n",
       "        /><glyph unicode=\"0\" horiz-adv-x=\"55.6\" d=\"M13.2 34.9 Q13.2 37.5 13.25 40.65 Q13.3 43.8 13.75 46.95 Q14.2 50.1 15.05 53.1 Q15.9 56.1 17.55 58.35 Q19.2 60.6 21.7 62 Q24.2 63.4 27.8 63.4 Q31.4 63.4 33.9 62 Q36.4 60.6 38.05 58.35 Q39.7 56.1 40.55 53.1 Q41.4 50.1 41.85 46.95 Q42.3 43.8 42.35 40.65 Q42.4 37.5 42.4 34.9 Q42.4 30.9 42.15 25.95 Q41.9 21 40.55 16.65 Q39.2 12.3 36.2 9.3 Q33.2 6.3 27.8 6.3 Q22.4 6.3 19.4 9.3 Q16.4 12.3 15.05 16.65 Q13.7 21 13.45 25.95 Q13.2 30.9 13.2 34.9 ZM4.2 34.8 Q4.2 30.9 4.4 26.7 Q4.6 22.5 5.4 18.5 Q6.2 14.5 7.7 10.95 Q9.2 7.4 11.8 4.7 Q14.4 2 18.35 0.45 Q22.3 -1.1 27.8 -1.1 Q33.4 -1.1 37.3 0.45 Q41.2 2 43.8 4.7 Q46.4 7.4 47.9 10.95 Q49.4 14.5 50.2 18.5 Q51 22.5 51.2 26.7 Q51.4 30.9 51.4 34.8 Q51.4 38.7 51.2 42.9 Q51 47.1 50.2 51.1 Q49.4 55.1 47.9 58.7 Q46.4 62.3 43.8 65 Q41.2 67.7 37.25 69.3 Q33.3 70.9 27.8 70.9 Q22.3 70.9 18.35 69.3 Q14.4 67.7 11.8 65 Q9.2 62.3 7.7 58.7 Q6.2 55.1 5.4 51.1 Q4.6 47.1 4.4 42.9 Q4.2 38.7 4.2 34.8 Z\"\n",
       "        /><glyph unicode=\"1\" horiz-adv-x=\"55.6\" d=\"M35.6 0 L35.6 70.9 L29.1 70.9 Q28.4 66.9 26.5 64.3 Q24.6 61.7 21.85 60.2 Q19.1 58.7 15.7 58.15 Q12.3 57.6 8.7 57.6 L8.7 50.8 L27.1 50.8 L27.1 0 Z\"\n",
       "        /><glyph unicode=\"2\" horiz-adv-x=\"55.6\" d=\"M4.4 45.8 L12.9 45.8 Q12.8 49 13.55 52.15 Q14.3 55.3 16 57.8 Q17.7 60.3 20.35 61.85 Q23 63.4 26.7 63.4 Q29.5 63.4 32 62.5 Q34.5 61.6 36.35 59.9 Q38.2 58.2 39.3 55.85 Q40.4 53.5 40.4 50.6 Q40.4 46.9 39.25 44.1 Q38.1 41.3 35.85 38.9 Q33.6 36.5 30.2 34.15 Q26.8 31.8 22.3 29 Q18.6 26.8 15.2 24.3 Q11.8 21.8 9.1 18.5 Q6.4 15.2 4.65 10.75 Q2.9 6.3 2.4 0 L48.7 0 L48.7 7.5 L12.3 7.5 Q12.9 10.8 14.85 13.35 Q16.8 15.9 19.55 18.1 Q22.3 20.3 25.6 22.25 Q28.9 24.2 32.2 26.2 Q35.5 28.3 38.6 30.6 Q41.7 32.9 44.1 35.75 Q46.5 38.6 47.95 42.2 Q49.4 45.8 49.4 50.5 Q49.4 55.5 47.65 59.3 Q45.9 63.1 42.9 65.65 Q39.9 68.2 35.85 69.55 Q31.8 70.9 27.2 70.9 Q21.6 70.9 17.2 69 Q12.8 67.1 9.85 63.75 Q6.9 60.4 5.5 55.8 Q4.1 51.2 4.4 45.8 Z\"\n",
       "        /><glyph unicode=\"3\" horiz-adv-x=\"55.6\" d=\"M21.8 40.5 L21.8 33.3 Q24.2 33.6 26.9 33.6 Q30.1 33.6 32.85 32.75 Q35.6 31.9 37.6 30.15 Q39.6 28.4 40.8 25.85 Q42 23.3 42 20 Q42 16.8 40.75 14.25 Q39.5 11.7 37.4 9.95 Q35.3 8.2 32.5 7.25 Q29.7 6.3 26.6 6.3 Q19.3 6.3 15.5 10.65 Q11.7 15 11.5 21.9 L3 21.9 Q2.9 16.4 4.55 12.1 Q6.2 7.8 9.3 4.85 Q12.4 1.9 16.8 0.4 Q21.2 -1.1 26.6 -1.1 Q31.6 -1.1 36.05 0.25 Q40.5 1.6 43.8 4.3 Q47.1 7 49.05 11.05 Q51 15.1 51 20.4 Q51 26.8 47.85 31.5 Q44.7 36.2 38.2 37.6 L38.2 37.8 Q42.4 39.7 45.2 43.4 Q48 47.1 48 51.9 Q48 56.8 46.35 60.4 Q44.7 64 41.8 66.3 Q38.9 68.6 34.95 69.75 Q31 70.9 26.4 70.9 Q21.1 70.9 17.05 69.2 Q13 67.5 10.3 64.5 Q7.6 61.5 6.15 57.3 Q4.7 53.1 4.5 48 L13 48 Q13 51.1 13.8 53.9 Q14.6 56.7 16.25 58.8 Q17.9 60.9 20.45 62.15 Q23 63.4 26.4 63.4 Q31.8 63.4 35.4 60.55 Q39 57.7 39 52 Q39 49.2 37.9 47 Q36.8 44.8 34.95 43.35 Q33.1 41.9 30.65 41.15 Q28.2 40.4 25.5 40.4 L23.7 40.4 Q23.2 40.4 22.7 40.4 Q22.3 40.4 21.8 40.5 Z\"\n",
       "        /><glyph unicode=\"4\" horiz-adv-x=\"55.6\" d=\"M33.9 24.1 L10.1 24.1 L33.7 58.8 L33.9 58.8 ZM41.9 24.1 L41.9 70.9 L35.1 70.9 L2.8 24.8 L2.8 16.6 L33.9 16.6 L33.9 0 L41.9 0 L41.9 16.6 L51.5 16.6 L51.5 24.1 Z\"\n",
       "        /><glyph unicode=\"s\" horiz-adv-x=\"50.0\" d=\"M11.6 16.3 L3.1 16.3 Q3.3 11.5 5.1 8.15 Q6.9 4.8 9.9 2.75 Q12.9 0.7 16.8 -0.2 Q20.7 -1.1 25 -1.1 Q28.9 -1.1 32.85 -0.35 Q36.8 0.4 39.95 2.3 Q43.1 4.2 45.05 7.3 Q47 10.4 47 15.1 Q47 18.8 45.55 21.3 Q44.1 23.8 41.75 25.45 Q39.4 27.1 36.35 28.1 Q33.3 29.1 30.1 29.8 Q27.1 30.5 24.1 31.15 Q21.1 31.8 18.7 32.75 Q16.3 33.7 14.75 35.15 Q13.2 36.6 13.2 38.8 Q13.2 40.8 14.2 42.05 Q15.2 43.3 16.8 44.05 Q18.4 44.8 20.35 45.1 Q22.3 45.4 24.2 45.4 Q26.3 45.4 28.35 44.95 Q30.4 44.5 32.1 43.5 Q33.8 42.5 34.9 40.85 Q36 39.2 36.2 36.7 L44.7 36.7 Q44.4 41.4 42.7 44.55 Q41 47.7 38.15 49.55 Q35.3 51.4 31.6 52.15 Q27.9 52.9 23.5 52.9 Q20.1 52.9 16.65 52.05 Q13.2 51.2 10.45 49.45 Q7.7 47.7 5.95 44.9 Q4.2 42.1 4.2 38.2 Q4.2 33.2 6.7 30.4 Q9.2 27.6 12.95 26.05 Q16.7 24.5 21.1 23.65 Q25.5 22.8 29.25 21.75 Q33 20.7 35.5 19 Q38 17.3 38 14 Q38 11.6 36.8 10.05 Q35.6 8.5 33.75 7.7 Q31.9 6.9 29.7 6.6 Q27.5 6.3 25.5 6.3 Q22.9 6.3 20.45 6.8 Q18 7.3 16.05 8.45 Q14.1 9.6 12.9 11.55 Q11.7 13.5 11.6 16.3 Z\"\n",
       "        /><glyph unicode=\"/\" horiz-adv-x=\"33.3\" d=\"M27.8 73.1 L-1.7 -1.6 L5.5 -1.6 L35.1 73.1 Z\"\n",
       "        /><glyph unicode=\"(\" horiz-adv-x=\"25.9\" d=\"M20.4 -19.7 L26.9 -19.7 Q19.8 -8.2 16.75 3.1 Q13.7 14.4 13.7 27 Q13.7 39.3 16.7 50.5 Q19.7 61.7 26.9 73.1 L20.4 73.1 Q12.6 62.8 8.65 50.8 Q4.7 38.8 4.7 27 Q4.7 20.4 5.8 14.4 Q6.9 8.4 8.95 2.7 Q11 -3 13.9 -8.55 Q16.8 -14.1 20.4 -19.7 Z\"\n",
       "        /><glyph unicode=\"w\" horiz-adv-x=\"75.8\" d=\"M57.6 0 L74.1 51.7 L65.3 51.7 L53.7 9.4 L53.5 9.4 L42.7 51.7 L33.4 51.7 L23 9.4 L22.8 9.4 L11.1 51.7 L1.7 51.7 L18.3 0 L27.5 0 L37.9 41.1 L38.1 41.1 L48.6 0 Z\"\n",
       "        /><glyph unicode=\"y\" horiz-adv-x=\"50.0\" d=\"M26.7 -6.9 Q25.2 -10.7 23.75 -13.3 Q22.3 -15.9 20.55 -17.55 Q18.8 -19.2 16.65 -19.95 Q14.5 -20.7 11.7 -20.7 Q10.2 -20.7 8.7 -20.5 Q7.2 -20.3 5.8 -19.8 L5.8 -12 Q6.9 -12.5 8.35 -12.85 Q9.8 -13.2 10.8 -13.2 Q13.4 -13.2 15.15 -11.95 Q16.9 -10.7 17.8 -8.4 L21.3 0.3 L0.8 51.7 L10.4 51.7 L25.5 9.4 L25.7 9.4 L40.2 51.7 L49.2 51.7 Z\"\n",
       "        /><glyph unicode=\"c\" horiz-adv-x=\"53.7\" d=\"M41.5 35.1 L50.3 35.1 Q49.8 39.7 47.9 43.05 Q46 46.4 43.05 48.6 Q40.1 50.8 36.25 51.85 Q32.4 52.9 28 52.9 Q21.9 52.9 17.3 50.75 Q12.7 48.6 9.65 44.85 Q6.6 41.1 5.1 36.05 Q3.6 31 3.6 25.2 Q3.6 19.4 5.15 14.55 Q6.7 9.7 9.75 6.2 Q12.8 2.7 17.35 0.8 Q21.9 -1.1 27.8 -1.1 Q37.7 -1.1 43.45 4.1 Q49.2 9.3 50.6 18.9 L41.9 18.9 Q41.1 12.9 37.55 9.6 Q34 6.3 27.7 6.3 Q23.7 6.3 20.8 7.9 Q17.9 9.5 16.1 12.15 Q14.3 14.8 13.45 18.2 Q12.6 21.6 12.6 25.2 Q12.6 29.1 13.4 32.75 Q14.2 36.4 16.05 39.2 Q17.9 42 21 43.7 Q24.1 45.4 28.7 45.4 Q34.1 45.4 37.3 42.7 Q40.5 40 41.5 35.1 Z\"\n",
       "        /><glyph unicode=\"u\" horiz-adv-x=\"55.6\" d=\"M49.2 0 L49.2 51.7 L40.7 51.7 L40.7 22.5 Q40.7 19 39.75 16.05 Q38.8 13.1 36.9 10.9 Q35 8.7 32.15 7.5 Q29.3 6.3 25.4 6.3 Q20.5 6.3 17.7 9.1 Q14.9 11.9 14.9 16.7 L14.9 51.7 L6.4 51.7 L6.4 17.7 Q6.4 13.5 7.25 10.05 Q8.1 6.6 10.2 4.1 Q12.3 1.6 15.7 0.25 Q19.1 -1.1 24.2 -1.1 Q29.9 -1.1 34.1 1.15 Q38.3 3.4 41 8.2 L41.2 8.2 L41.2 0 Z\"\n",
       "        /><glyph unicode=\"q\" horiz-adv-x=\"59.3\" d=\"M12.6 25.4 Q12.6 29.2 13.4 32.8 Q14.2 36.4 16 39.2 Q17.8 42 20.8 43.7 Q23.8 45.4 28.1 45.4 Q32.5 45.4 35.6 43.75 Q38.7 42.1 40.65 39.4 Q42.6 36.7 43.5 33.15 Q44.4 29.6 44.4 25.8 Q44.4 22.2 43.55 18.7 Q42.7 15.2 40.8 12.45 Q38.9 9.7 35.9 8 Q32.9 6.3 28.6 6.3 Q24.5 6.3 21.45 7.9 Q18.4 9.5 16.45 12.2 Q14.5 14.9 13.55 18.35 Q12.6 21.8 12.6 25.4 ZM52.6 -19.7 L52.6 51.7 L44.1 51.7 L44.1 44.8 L43.9 44.8 Q42.5 47.1 40.45 48.65 Q38.4 50.2 36.1 51.15 Q33.8 52.1 31.5 52.5 Q29.2 52.9 27.2 52.9 Q21.3 52.9 16.85 50.75 Q12.4 48.6 9.45 44.95 Q6.5 41.3 5.05 36.4 Q3.6 31.5 3.6 26 Q3.6 20.5 5.1 15.6 Q6.6 10.7 9.55 7 Q12.5 3.3 16.95 1.1 Q21.4 -1.1 27.4 -1.1 Q32.8 -1.1 37.3 0.8 Q41.8 2.7 43.9 7 L44.1 7 L44.1 -19.7 Z\"\n",
       "        /><glyph unicode=\"e\" horiz-adv-x=\"53.7\" d=\"M42.3 30.8 L12.6 30.8 Q12.8 33.8 13.9 36.45 Q15 39.1 16.9 41.1 Q18.8 43.1 21.45 44.25 Q24.1 45.4 27.4 45.4 Q30.6 45.4 33.25 44.25 Q35.9 43.1 37.85 41.15 Q39.8 39.2 40.95 36.5 Q42.1 33.8 42.3 30.8 ZM50.5 16.4 L42.1 16.4 Q41 11.3 37.55 8.8 Q34.1 6.3 28.7 6.3 Q24.5 6.3 21.4 7.7 Q18.3 9.1 16.3 11.45 Q14.3 13.8 13.4 16.85 Q12.5 19.9 12.6 23.3 L51.3 23.3 Q51.5 28 50.45 33.2 Q49.4 38.4 46.65 42.8 Q43.9 47.2 39.35 50.05 Q34.8 52.9 27.9 52.9 Q22.6 52.9 18.15 50.9 Q13.7 48.9 10.45 45.3 Q7.2 41.7 5.4 36.8 Q3.6 31.9 3.6 26 Q3.8 20.1 5.35 15.1 Q6.9 10.1 10 6.5 Q13.1 2.9 17.65 0.9 Q22.2 -1.1 28.4 -1.1 Q37.2 -1.1 43 3.3 Q48.8 7.7 50.5 16.4 Z\"\n",
       "        /><glyph unicode=\"r\" horiz-adv-x=\"33.3\" d=\"M6.1 51.7 L6.1 0 L14.6 0 L14.6 23 Q14.6 28 15.6 31.85 Q16.6 35.7 18.8 38.4 Q21 41.1 24.6 42.5 Q28.2 43.9 33.3 43.9 L33.3 52.9 Q26.4 53.1 21.9 50.1 Q17.4 47.1 14.3 40.8 L14.1 40.8 L14.1 51.7 Z\"\n",
       "        /><glyph unicode=\"f\" horiz-adv-x=\"29.6\" d=\"M9.9 44.2 L9.9 0 L18.4 0 L18.4 44.2 L28.4 44.2 L28.4 51.7 L18.4 51.7 L18.4 58.9 Q18.4 62.3 20.1 63.5 Q21.8 64.7 24.9 64.7 Q26 64.7 27.3 64.55 Q28.6 64.4 29.7 64 L29.7 71.4 Q28.5 71.8 26.95 72 Q25.4 72.2 24.2 72.2 Q17.2 72.2 13.55 68.95 Q9.9 65.7 9.9 59.4 L9.9 51.7 L1.2 51.7 L1.2 44.2 Z\"\n",
       "        /><glyph unicode=\" \" horiz-adv-x=\"27.8\" d=\"\"\n",
       "        /><glyph unicode=\"n\" horiz-adv-x=\"55.6\" d=\"M6.4 51.7 L6.4 0 L14.9 0 L14.9 29.2 Q14.9 32.7 15.85 35.65 Q16.8 38.6 18.7 40.8 Q20.6 43 23.45 44.2 Q26.3 45.4 30.2 45.4 Q35.1 45.4 37.9 42.6 Q40.7 39.8 40.7 35 L40.7 0 L49.2 0 L49.2 34 Q49.2 38.2 48.35 41.65 Q47.5 45.1 45.4 47.6 Q43.3 50.1 39.9 51.5 Q36.5 52.9 31.4 52.9 Q19.9 52.9 14.6 43.5 L14.4 43.5 L14.4 51.7 Z\"\n",
       "        /><glyph unicode=\"i\" horiz-adv-x=\"22.2\" d=\"M15.4 61 L15.4 71.4 L6.9 71.4 L6.9 61 ZM6.9 51.7 L6.9 0 L15.4 0 L15.4 51.7 Z\"\n",
       "        /><glyph unicode=\"d\" horiz-adv-x=\"59.3\" d=\"M12.6 25.4 Q12.6 29.2 13.4 32.8 Q14.2 36.4 16 39.2 Q17.8 42 20.8 43.7 Q23.8 45.4 28.1 45.4 Q32.5 45.4 35.6 43.75 Q38.7 42.1 40.65 39.4 Q42.6 36.7 43.5 33.15 Q44.4 29.6 44.4 25.8 Q44.4 22.2 43.55 18.7 Q42.7 15.2 40.8 12.45 Q38.9 9.7 35.9 8 Q32.9 6.3 28.6 6.3 Q24.5 6.3 21.45 7.9 Q18.4 9.5 16.45 12.2 Q14.5 14.9 13.55 18.35 Q12.6 21.8 12.6 25.4 ZM52.6 0 L52.6 71.4 L44.1 71.4 L44.1 44.8 L43.9 44.8 Q42.5 47.1 40.45 48.65 Q38.4 50.2 36.1 51.15 Q33.8 52.1 31.5 52.5 Q29.2 52.9 27.2 52.9 Q21.3 52.9 16.85 50.75 Q12.4 48.6 9.45 44.95 Q6.5 41.3 5.05 36.4 Q3.6 31.5 3.6 26 Q3.6 20.5 5.1 15.6 Q6.6 10.7 9.55 7 Q12.5 3.3 16.95 1.1 Q21.4 -1.1 27.4 -1.1 Q32.8 -1.1 37.3 0.8 Q41.8 2.7 43.9 7 L44.1 7 L44.1 0 Z\"\n",
       "        /><glyph unicode=\"a\" horiz-adv-x=\"53.7\" d=\"M52.2 0.2 Q50 -1.1 46.1 -1.1 Q42.8 -1.1 40.85 0.75 Q38.9 2.6 38.9 6.8 Q35.4 2.6 30.75 0.75 Q26.1 -1.1 20.7 -1.1 Q17.2 -1.1 14.05 -0.3 Q10.9 0.5 8.6 2.2 Q6.3 3.9 4.95 6.65 Q3.6 9.4 3.6 13.3 Q3.6 17.7 5.1 20.5 Q6.6 23.3 9.05 25.05 Q11.5 26.8 14.65 27.7 Q17.8 28.6 21.1 29.2 Q24.6 29.9 27.75 30.25 Q30.9 30.6 33.3 31.25 Q35.7 31.9 37.1 33.15 Q38.5 34.4 38.5 36.8 Q38.5 39.6 37.45 41.3 Q36.4 43 34.75 43.9 Q33.1 44.8 31.05 45.1 Q29 45.4 27 45.4 Q21.6 45.4 18 43.35 Q14.4 41.3 14.1 35.6 L5.6 35.6 Q5.8 40.4 7.6 43.7 Q9.4 47 12.4 49.05 Q15.4 51.1 19.25 52 Q23.1 52.9 27.5 52.9 Q31 52.9 34.45 52.4 Q37.9 51.9 40.7 50.35 Q43.5 48.8 45.2 46 Q46.9 43.2 46.9 38.7 L46.9 12.1 Q46.9 9.1 47.25 7.7 Q47.6 6.3 49.6 6.3 Q50.7 6.3 52.2 6.8 ZM38.4 26.7 Q36.8 25.5 34.2 24.95 Q31.6 24.4 28.75 24.05 Q25.9 23.7 23 23.25 Q20.1 22.8 17.8 21.8 Q15.5 20.8 14.05 18.95 Q12.6 17.1 12.6 13.9 Q12.6 11.8 13.45 10.35 Q14.3 8.9 15.65 8 Q17 7.1 18.8 6.7 Q20.6 6.3 22.6 6.3 Q26.8 6.3 29.8 7.45 Q32.8 8.6 34.7 10.35 Q36.6 12.1 37.5 14.15 Q38.4 16.2 38.4 18 Z\"\n",
       "        /><glyph unicode=\"R\" horiz-adv-x=\"68.5\" d=\"M7.8 71.4 L7.8 0 L17.3 0 L17.3 30.5 L40.5 30.5 Q44 30.5 46.1 29.45 Q48.2 28.4 49.5 26.65 Q50.8 24.9 51.4 22.55 Q52 20.2 52.4 17.6 Q52.9 15 53 12.3 Q53.1 9.6 53.2 7.25 Q53.3 4.9 53.65 3 Q54 1.1 55 0 L65.6 0 Q64.1 1.8 63.35 4.15 Q62.6 6.5 62.2 9.1 Q61.8 11.7 61.7 14.4 Q61.6 17.1 61.4 19.7 Q61.1 22.3 60.55 24.7 Q60 27.1 58.85 29.05 Q57.7 31 55.75 32.4 Q53.8 33.8 50.7 34.4 L50.7 34.6 Q57.2 36.4 60.15 41.3 Q63.1 46.2 63.1 52.7 Q63.1 61.4 57.35 66.4 Q51.6 71.4 41.4 71.4 ZM37.1 38.5 L17.3 38.5 L17.3 63.4 L40.9 63.4 Q47.6 63.4 50.6 60 Q53.6 56.6 53.6 51.2 Q53.6 47.3 52.25 44.85 Q50.9 42.4 48.65 40.95 Q46.4 39.5 43.4 39 Q40.4 38.5 37.1 38.5 Z\"\n",
       "        /><glyph unicode=\".\" horiz-adv-x=\"27.8\" d=\"M8.3 11.1 L8.3 0 L19.4 0 L19.4 11.1 Z\"\n",
       "        /><glyph unicode=\"6\" horiz-adv-x=\"55.6\" d=\"M41.4 52.8 L49.9 52.8 Q49.1 61.6 43.9 66.25 Q38.7 70.9 29.9 70.9 Q22.3 70.9 17.3 67.7 Q12.3 64.5 9.3 59.2 Q6.3 53.9 5.05 47.05 Q3.8 40.2 3.8 32.9 Q3.8 27.3 4.65 21.3 Q5.5 15.3 8.1 10.3 Q10.7 5.3 15.5 2.1 Q20.3 -1.1 28.2 -1.1 Q34.9 -1.1 39.45 1.15 Q44 3.4 46.75 6.85 Q49.5 10.3 50.7 14.5 Q51.9 18.7 51.9 22.6 Q51.9 27.5 50.4 31.7 Q48.9 35.9 46.15 39 Q43.4 42.1 39.35 43.85 Q35.3 45.6 30.2 45.6 Q24.4 45.6 19.95 43.4 Q15.5 41.2 12.5 36.3 L12.3 36.5 Q12.4 40.6 13.1 45.3 Q13.8 50 15.65 54.05 Q17.5 58.1 20.8 60.75 Q24.1 63.4 29.5 63.4 Q34.6 63.4 37.7 60.5 Q40.8 57.6 41.4 52.8 ZM28.6 38.1 Q32.2 38.1 34.9 36.8 Q37.6 35.5 39.4 33.35 Q41.2 31.2 42.05 28.25 Q42.9 25.3 42.9 22 Q42.9 18.9 41.95 16.05 Q41 13.2 39.2 11 Q37.4 8.8 34.75 7.55 Q32.1 6.3 28.6 6.3 Q25.1 6.3 22.35 7.55 Q19.6 8.8 17.75 10.9 Q15.9 13 14.9 15.9 Q13.9 18.8 13.9 22.1 Q13.9 25.4 14.85 28.35 Q15.8 31.3 17.7 33.45 Q19.6 35.6 22.3 36.85 Q25 38.1 28.6 38.1 Z\"\n",
       "        /><glyph unicode=\"8\" horiz-adv-x=\"55.6\" d=\"M15.5 52.5 Q15.5 55.2 16.5 57.2 Q17.5 59.2 19.15 60.6 Q20.8 62 23.1 62.7 Q25.4 63.4 27.9 63.4 Q33.1 63.4 36.45 60.65 Q39.8 57.9 39.8 52.5 Q39.8 47.1 36.5 44.1 Q33.2 41.1 28.1 41.1 Q25.5 41.1 23.2 41.8 Q20.9 42.5 19.2 43.9 Q17.5 45.3 16.5 47.45 Q15.5 49.6 15.5 52.5 ZM6.5 52.8 Q6.5 48 9.2 43.95 Q11.9 39.9 16.4 38.1 Q10.4 36 7.2 31.35 Q4 26.7 4 20.4 Q4 15 5.85 10.95 Q7.7 6.9 10.95 4.2 Q14.2 1.5 18.6 0.2 Q23 -1.1 28.1 -1.1 Q33 -1.1 37.3 0.3 Q41.6 1.7 44.75 4.45 Q47.9 7.2 49.75 11.2 Q51.6 15.2 51.6 20.4 Q51.6 27 48.5 31.55 Q45.4 36.1 39 38.1 Q43.5 40.1 46.15 44.05 Q48.8 48 48.8 52.8 Q48.8 56.2 47.6 59.45 Q46.4 62.7 43.85 65.25 Q41.3 67.8 37.2 69.35 Q33.1 70.9 27.3 70.9 Q23.2 70.9 19.45 69.7 Q15.7 68.5 12.8 66.2 Q9.9 63.9 8.2 60.55 Q6.5 57.2 6.5 52.8 ZM13 20 Q13 23.1 14.15 25.6 Q15.3 28.1 17.35 29.9 Q19.4 31.7 22.15 32.65 Q24.9 33.6 28 33.6 Q31 33.6 33.65 32.55 Q36.3 31.5 38.3 29.7 Q40.3 27.9 41.45 25.45 Q42.6 23 42.6 20.1 Q42.6 17.1 41.55 14.6 Q40.5 12.1 38.55 10.25 Q36.6 8.4 33.95 7.35 Q31.3 6.3 28.1 6.3 Q21.5 6.3 17.25 9.95 Q13 13.6 13 20 Z\"\n",
       "        /><glyph unicode=\"t\" horiz-adv-x=\"31.5\" d=\"M18.2 51.7 L18.2 67.2 L9.7 67.2 L9.7 51.7 L0.9 51.7 L0.9 44.2 L9.7 44.2 L9.7 11.3 Q9.7 7.7 10.4 5.5 Q11.1 3.3 12.55 2.1 Q14 0.9 16.35 0.45 Q18.7 0 22 0 L28.5 0 L28.5 7.5 L24.6 7.5 Q22.6 7.5 21.35 7.65 Q20.1 7.8 19.4 8.3 Q18.7 8.8 18.45 9.7 Q18.2 10.6 18.2 12.1 L18.2 44.2 L28.5 44.2 L28.5 51.7 Z\"\n",
       "        /><glyph unicode=\"o\" horiz-adv-x=\"57.4\" d=\"M12.6 25.8 Q12.6 30.5 13.85 34.15 Q15.1 37.8 17.3 40.3 Q19.5 42.8 22.45 44.1 Q25.4 45.4 28.7 45.4 Q32 45.4 34.95 44.1 Q37.9 42.8 40.1 40.3 Q42.3 37.8 43.55 34.15 Q44.8 30.5 44.8 25.8 Q44.8 21.1 43.55 17.45 Q42.3 13.8 40.1 11.35 Q37.9 8.9 34.95 7.6 Q32 6.3 28.7 6.3 Q25.4 6.3 22.45 7.6 Q19.5 8.9 17.3 11.35 Q15.1 13.8 13.85 17.45 Q12.6 21.1 12.6 25.8 ZM3.6 25.8 Q3.6 20.1 5.2 15.2 Q6.8 10.3 10 6.65 Q13.2 3 17.9 0.95 Q22.6 -1.1 28.7 -1.1 Q34.9 -1.1 39.55 0.95 Q44.2 3 47.4 6.65 Q50.6 10.3 52.2 15.2 Q53.8 20.1 53.8 25.8 Q53.8 31.5 52.2 36.45 Q50.6 41.4 47.4 45.05 Q44.2 48.7 39.55 50.8 Q34.9 52.9 28.7 52.9 Q22.6 52.9 17.9 50.8 Q13.2 48.7 10 45.05 Q6.8 41.4 5.2 36.45 Q3.6 31.5 3.6 25.8 Z\"\n",
       "        /><glyph unicode=\"V\" horiz-adv-x=\"61.1\" d=\"M35.9 0 L61.3 71.4 L51.4 71.4 L30.8 9.5 L30.6 9.5 L10.2 71.4 L0 71.4 L25.1 0 Z\"\n",
       "        /><glyph unicode=\"|\" horiz-adv-x=\"22.2\" d=\"M7.7 78.6 L7.7 -21.3 L14.5 -21.3 L14.5 78.6 Z\"\n",
       "      /></font\n",
       "      ><font horiz-adv-x=\"50.0\" id=\"font2\"\n",
       "      ><font-face ascent=\"97.5\" descent=\"21.699999\" units-per-em=\"100\" style=\"font-style:normal; font-family:Helvetica Neue; font-weight:bold;\"\n",
       "        /><missing-glyph horiz-adv-x=\"50.0\" d=\"M39.1 60.7 L11.1 60.7 L11.1 9.5 L39.1 9.5 ZM48.2 69.8 L48.2 0.3 L1.7 0.3 L1.7 69.8 Z\"\n",
       "        /><glyph unicode=\"y\" horiz-adv-x=\"51.9\" d=\"M30.9 -6.4 L52.5 51.7 L37.8 51.7 L26.5 16.3 L26.3 16.3 L14.6 51.7 L-0.5 51.7 L17.6 3.2 Q18.2 1.7 18.2 0 Q18.2 -2.3 16.85 -4.2 Q15.5 -6.1 12.7 -6.4 Q10.6 -6.5 8.5 -6.3 Q6.4 -6.1 4.4 -5.9 L4.4 -17.6 Q6.6 -17.8 8.75 -17.95 Q10.9 -18.1 13.1 -18.1 Q20.4 -18.1 24.5 -15.4 Q28.6 -12.7 30.9 -6.4 Z\"\n",
       "        /><glyph unicode=\"c\" horiz-adv-x=\"57.4\" d=\"M40.6 33.5 L54.5 33.5 Q54.2 38.5 52.1 42.15 Q50 45.8 46.65 48.25 Q43.3 50.7 39.05 51.9 Q34.8 53.1 30.2 53.1 Q23.9 53.1 19 51 Q14.1 48.9 10.7 45.15 Q7.3 41.4 5.55 36.25 Q3.8 31.1 3.8 25.1 Q3.8 19.3 5.7 14.45 Q7.6 9.6 11 6.1 Q14.4 2.6 19.25 0.65 Q24.1 -1.3 29.9 -1.3 Q40.2 -1.3 46.8 4.1 Q53.4 9.5 54.8 19.8 L41.1 19.8 Q40.4 15 37.65 12.15 Q34.9 9.3 29.8 9.3 Q26.5 9.3 24.2 10.8 Q21.9 12.3 20.55 14.65 Q19.2 17 18.6 19.9 Q18 22.8 18 25.6 Q18 28.5 18.6 31.45 Q19.2 34.4 20.65 36.85 Q22.1 39.3 24.4 40.85 Q26.7 42.4 30.1 42.4 Q39.2 42.4 40.6 33.5 Z\"\n",
       "        /><glyph unicode=\"q\" horiz-adv-x=\"61.1\" d=\"M17.4 25.8 Q17.4 29 18.05 31.95 Q18.7 34.9 20.2 37.25 Q21.7 39.6 24.1 41 Q26.5 42.4 30 42.4 Q33.3 42.4 35.65 40.9 Q38 39.4 39.4 37 Q40.8 34.6 41.45 31.6 Q42.1 28.6 42.1 25.6 Q42.1 22.4 41.45 19.45 Q40.8 16.5 39.35 14.25 Q37.9 12 35.55 10.65 Q33.2 9.3 29.7 9.3 Q26.2 9.3 23.85 10.7 Q21.5 12.1 20.05 14.45 Q18.6 16.8 18 19.75 Q17.4 22.7 17.4 25.8 ZM55.8 -18.1 L55.8 51.7 L42.3 51.7 L42.3 45.1 L42.1 45.1 Q39.7 49.4 35.45 51.25 Q31.2 53.1 26.4 53.1 Q20.5 53.1 16.15 50.8 Q11.8 48.5 8.9 44.65 Q6 40.8 4.6 35.8 Q3.2 30.8 3.2 25.5 Q3.2 18 5.3 12.85 Q7.4 7.7 10.6 4.55 Q13.8 1.4 17.65 0.05 Q21.5 -1.3 25.1 -1.3 Q29.9 -1.3 34.4 0.5 Q38.9 2.3 41.4 6.5 L41.6 6.5 L41.6 -18.1 Z\"\n",
       "        /><glyph unicode=\"r\" horiz-adv-x=\"38.9\" d=\"M5.4 51.7 L5.4 0 L19.6 0 L19.6 23.3 Q19.6 26.8 20.3 29.8 Q21 32.8 22.65 35.05 Q24.3 37.3 27 38.6 Q29.7 39.9 33.6 39.9 Q34.9 39.9 36.3 39.75 Q37.7 39.6 38.7 39.4 L38.7 52.6 Q37 53.1 35.6 53.1 Q32.9 53.1 30.4 52.3 Q27.9 51.5 25.7 50.05 Q23.5 48.6 21.8 46.55 Q20.1 44.5 19.1 42.1 L18.9 42.1 L18.9 51.7 Z\"\n",
       "        /><glyph unicode=\"F\" horiz-adv-x=\"59.3\" d=\"M6.9 71.4 L6.9 0 L22.6 0 L22.6 29.5 L52.5 29.5 L52.5 41.7 L22.6 41.7 L22.6 58.2 L57.1 58.2 L57.1 71.4 Z\"\n",
       "        /><glyph unicode=\"R\" horiz-adv-x=\"72.2\" d=\"M22.6 39.1 L22.6 59.2 L39.8 59.2 Q45.2 59.2 47.9 56.85 Q50.6 54.5 50.6 49.3 Q50.6 43.9 47.9 41.5 Q45.2 39.1 39.8 39.1 ZM6.9 71.4 L6.9 0 L22.6 0 L22.6 27.9 L38.3 27.9 Q44.2 27.9 46.8 25.3 Q49.4 22.7 50.2 17.1 Q50.8 12.8 51.1 8.1 Q51.4 3.4 52.7 0 L68.4 0 Q67.3 1.5 66.75 3.65 Q66.2 5.8 65.95 8.2 Q65.7 10.6 65.6 12.9 Q65.5 15.2 65.4 16.9 Q65.2 19.6 64.65 22.3 Q64.1 25 62.9 27.25 Q61.7 29.5 59.8 31.15 Q57.9 32.8 55 33.6 L55 33.8 Q61 36.2 63.65 40.8 Q66.3 45.4 66.3 51.7 Q66.3 55.8 64.85 59.35 Q63.4 62.9 60.65 65.6 Q57.9 68.3 54.05 69.85 Q50.2 71.4 45.4 71.4 Z\"\n",
       "        /><glyph unicode=\".\" horiz-adv-x=\"27.8\" d=\"M6 15.4 L6 0 L21.7 0 L21.7 15.4 Z\"\n",
       "        /><glyph unicode=\"s\" horiz-adv-x=\"53.7\" d=\"M16.4 16.8 L2.9 16.8 Q3.1 11.6 5.25 8.15 Q7.4 4.7 10.75 2.6 Q14.1 0.5 18.4 -0.4 Q22.7 -1.3 27.2 -1.3 Q31.6 -1.3 35.85 -0.45 Q40.1 0.4 43.4 2.5 Q46.7 4.6 48.75 8.05 Q50.8 11.5 50.8 16.6 Q50.8 20.2 49.4 22.65 Q48 25.1 45.7 26.75 Q43.4 28.4 40.45 29.4 Q37.5 30.4 34.4 31.1 Q31.4 31.8 28.5 32.4 Q25.6 33 23.35 33.75 Q21.1 34.5 19.7 35.7 Q18.3 36.9 18.3 38.8 Q18.3 40.4 19.1 41.35 Q19.9 42.3 21.05 42.8 Q22.2 43.3 23.6 43.45 Q25 43.6 26.2 43.6 Q30 43.6 32.8 42.15 Q35.6 40.7 35.9 36.6 L49.4 36.6 Q49 41.4 46.95 44.55 Q44.9 47.7 41.8 49.6 Q38.7 51.5 34.75 52.3 Q30.8 53.1 26.6 53.1 Q22.4 53.1 18.4 52.35 Q14.4 51.6 11.2 49.75 Q8 47.9 6.05 44.7 Q4.1 41.5 4.1 36.5 Q4.1 33.1 5.5 30.75 Q6.9 28.4 9.2 26.85 Q11.5 25.3 14.45 24.35 Q17.4 23.4 20.5 22.7 Q28.1 21.1 32.35 19.5 Q36.6 17.9 36.6 14.7 Q36.6 12.8 35.7 11.55 Q34.8 10.3 33.45 9.55 Q32.1 8.8 30.45 8.45 Q28.8 8.1 27.3 8.1 Q25.2 8.1 23.25 8.6 Q21.3 9.1 19.8 10.15 Q18.3 11.2 17.35 12.85 Q16.4 14.5 16.4 16.8 Z\"\n",
       "        /><glyph unicode=\"v\" horiz-adv-x=\"52.0\" d=\"M34 0 L51.5 51.7 L37.4 51.7 L26.5 16.4 L26.3 16.4 L15.4 51.7 L0.5 51.7 L18.2 0 Z\"\n",
       "        /><glyph unicode=\"/\" horiz-adv-x=\"37.1\" d=\"M26.8 73.1 L-1 -1.6 L10.3 -1.6 L38.2 73.1 Z\"\n",
       "        /><glyph unicode=\"o\" horiz-adv-x=\"61.1\" d=\"M18 25.8 Q18 28.9 18.6 31.9 Q19.2 34.9 20.65 37.2 Q22.1 39.5 24.5 40.95 Q26.9 42.4 30.5 42.4 Q34.1 42.4 36.55 40.95 Q39 39.5 40.45 37.2 Q41.9 34.9 42.5 31.9 Q43.1 28.9 43.1 25.8 Q43.1 22.7 42.5 19.75 Q41.9 16.8 40.45 14.45 Q39 12.1 36.55 10.7 Q34.1 9.3 30.5 9.3 Q26.9 9.3 24.5 10.7 Q22.1 12.1 20.65 14.45 Q19.2 16.8 18.6 19.75 Q18 22.7 18 25.8 ZM3.8 25.8 Q3.8 19.6 5.7 14.6 Q7.6 9.6 11.1 6.05 Q14.6 2.5 19.5 0.6 Q24.4 -1.3 30.5 -1.3 Q36.6 -1.3 41.55 0.6 Q46.5 2.5 50 6.05 Q53.5 9.6 55.4 14.6 Q57.3 19.6 57.3 25.8 Q57.3 32 55.4 37.05 Q53.5 42.1 50 45.65 Q46.5 49.2 41.55 51.15 Q36.6 53.1 30.5 53.1 Q24.4 53.1 19.5 51.15 Q14.6 49.2 11.1 45.65 Q7.6 42.1 5.7 37.05 Q3.8 32 3.8 25.8 Z\"\n",
       "        /><glyph unicode=\"V\" horiz-adv-x=\"63.0\" d=\"M40.1 0 L63.8 71.4 L47.6 71.4 L31.5 21.2 L31.3 21.2 L15.4 71.4 L-0.7 71.4 L22.4 0 Z\"\n",
       "        /><glyph unicode=\" \" horiz-adv-x=\"27.8\" d=\"\"\n",
       "        /><glyph unicode=\"e\" horiz-adv-x=\"57.4\" d=\"M40.2 31.4 L17.1 31.4 Q17.2 32.9 17.75 34.8 Q18.3 36.7 19.65 38.4 Q21 40.1 23.25 41.25 Q25.5 42.4 28.9 42.4 Q34.1 42.4 36.65 39.6 Q39.2 36.8 40.2 31.4 ZM17.1 22.4 L54.4 22.4 Q54.8 28.4 53.4 33.9 Q52 39.4 48.85 43.7 Q45.7 48 40.8 50.55 Q35.9 53.1 29.3 53.1 Q23.4 53.1 18.55 51 Q13.7 48.9 10.2 45.25 Q6.7 41.6 4.8 36.6 Q2.9 31.6 2.9 25.8 Q2.9 19.8 4.75 14.8 Q6.6 9.8 10 6.2 Q13.4 2.6 18.3 0.65 Q23.2 -1.3 29.3 -1.3 Q38.1 -1.3 44.3 2.7 Q50.5 6.7 53.5 16 L41 16 Q40.3 13.6 37.2 11.45 Q34.1 9.3 29.8 9.3 Q23.8 9.3 20.6 12.4 Q17.4 15.5 17.1 22.4 Z\"\n",
       "        /><glyph unicode=\"d\" horiz-adv-x=\"61.1\" d=\"M42.1 26 Q42.1 22.8 41.5 19.8 Q40.9 16.8 39.5 14.45 Q38.1 12.1 35.75 10.7 Q33.4 9.3 29.9 9.3 Q26.6 9.3 24.25 10.75 Q21.9 12.2 20.35 14.55 Q18.8 16.9 18.1 19.9 Q17.4 22.9 17.4 25.9 Q17.4 29.1 18.05 32.05 Q18.7 35 20.15 37.3 Q21.6 39.6 24 41 Q26.4 42.4 29.9 42.4 Q33.4 42.4 35.7 41 Q38 39.6 39.45 37.35 Q40.9 35.1 41.5 32.15 Q42.1 29.2 42.1 26 ZM42.3 6.6 L42.3 0 L55.8 0 L55.8 71.4 L41.6 71.4 L41.6 45.4 L41.4 45.4 Q39 49.2 34.85 51.15 Q30.7 53.1 26.1 53.1 Q20.4 53.1 16.1 50.85 Q11.8 48.6 8.95 44.9 Q6.1 41.2 4.65 36.35 Q3.2 31.5 3.2 26.3 Q3.2 20.9 4.65 15.9 Q6.1 10.9 8.95 7.05 Q11.8 3.2 16.2 0.95 Q20.6 -1.3 26.4 -1.3 Q31.5 -1.3 35.55 0.55 Q39.6 2.4 42.1 6.6 Z\"\n",
       "        /><glyph unicode=\"u\" horiz-adv-x=\"59.3\" d=\"M53.9 0 L53.9 51.7 L39.7 51.7 L39.7 24.6 Q39.7 16.7 37.1 13.25 Q34.5 9.8 28.7 9.8 Q23.6 9.8 21.6 12.95 Q19.6 16.1 19.6 22.5 L19.6 51.7 L5.4 51.7 L5.4 19.9 Q5.4 15.1 6.25 11.15 Q7.1 7.2 9.2 4.45 Q11.3 1.7 14.95 0.2 Q18.6 -1.3 24.3 -1.3 Q28.8 -1.3 33.1 0.7 Q37.4 2.7 40.1 7.2 L40.4 7.2 L40.4 0 Z\"\n",
       "        /><glyph unicode=\"t\" horiz-adv-x=\"35.2\" d=\"M23.4 51.7 L23.4 67.2 L9.2 67.2 L9.2 51.7 L0.6 51.7 L0.6 42.2 L9.2 42.2 L9.2 11.7 Q9.2 7.8 10.5 5.4 Q11.8 3 14.05 1.7 Q16.3 0.4 19.25 -0.05 Q22.2 -0.5 25.5 -0.5 Q27.6 -0.5 29.8 -0.4 Q32 -0.3 33.8 0 L33.8 11 Q32.8 10.8 31.7 10.7 Q30.6 10.6 29.4 10.6 Q25.8 10.6 24.6 11.8 Q23.4 13 23.4 16.6 L23.4 42.2 L33.8 42.2 L33.8 51.7 Z\"\n",
       "        /><glyph unicode=\"i\" horiz-adv-x=\"25.8\" d=\"M20 59.7 L20 71.4 L5.8 71.4 L5.8 59.7 ZM5.8 51.7 L5.8 0 L20 0 L20 51.7 Z\"\n",
       "        /><glyph unicode=\"n\" horiz-adv-x=\"59.3\" d=\"M5.4 51.7 L5.4 0 L19.6 0 L19.6 27.1 Q19.6 35 22.2 38.45 Q24.8 41.9 30.6 41.9 Q35.7 41.9 37.7 38.75 Q39.7 35.6 39.7 29.2 L39.7 0 L53.9 0 L53.9 31.8 Q53.9 36.6 53.05 40.55 Q52.2 44.5 50.1 47.25 Q48 50 44.35 51.55 Q40.7 53.1 35 53.1 Q30.5 53.1 26.2 51.05 Q21.9 49 19.2 44.5 L18.9 44.5 L18.9 51.7 Z\"\n",
       "        /><glyph unicode=\"g\" horiz-adv-x=\"61.1\" d=\"M29.5 12.2 Q26.2 12.2 24 13.6 Q21.8 15 20.45 17.2 Q19.1 19.4 18.55 22.15 Q18 24.9 18 27.7 Q18 30.6 18.65 33.25 Q19.3 35.9 20.75 37.95 Q22.2 40 24.35 41.2 Q26.5 42.4 29.5 42.4 Q33 42.4 35.3 41.1 Q37.6 39.8 39 37.6 Q40.4 35.4 41 32.55 Q41.6 29.7 41.6 26.5 Q41.6 23.7 40.85 21.15 Q40.1 18.6 38.6 16.6 Q37.1 14.6 34.8 13.4 Q32.5 12.2 29.5 12.2 ZM55.1 3.3 L55.1 51.7 L41.6 51.7 L41.6 44.8 L41.4 44.8 Q38.8 49.3 34.95 51.2 Q31.1 53.1 26 53.1 Q20.6 53.1 16.45 51 Q12.3 48.9 9.5 45.35 Q6.7 41.8 5.25 37.15 Q3.8 32.5 3.8 27.5 Q3.8 22.2 5.05 17.45 Q6.3 12.7 9 9.15 Q11.7 5.6 15.9 3.55 Q20.1 1.5 25.9 1.5 Q30.6 1.5 34.85 3.45 Q39.1 5.4 41.4 9.5 L41.6 9.5 L41.6 2.7 Q41.7 -2.8 38.95 -6.4 Q36.2 -10 30.2 -10 Q26.4 -10 23.5 -8.45 Q20.6 -6.9 19.6 -2.9 L5.5 -2.9 Q5.8 -7.3 7.95 -10.45 Q10.1 -13.6 13.35 -15.6 Q16.6 -17.6 20.55 -18.55 Q24.5 -19.5 28.3 -19.5 Q37.2 -19.5 42.5 -17.1 Q47.8 -14.7 50.6 -11.25 Q53.4 -7.8 54.25 -3.8 Q55.1 0.2 55.1 3.3 Z\"\n",
       "        /><glyph unicode=\"a\" horiz-adv-x=\"57.4\" d=\"M4.8 35.8 Q5.1 40.8 7.3 44.1 Q9.5 47.4 12.9 49.4 Q16.3 51.4 20.55 52.25 Q24.8 53.1 29.1 53.1 Q33 53.1 37 52.55 Q41 52 44.3 50.4 Q47.6 48.8 49.7 45.95 Q51.8 43.1 51.8 38.4 L51.8 11.5 Q51.8 8 52.2 4.8 Q52.6 1.6 53.6 0 L39.2 0 Q38.8 1.2 38.55 2.45 Q38.3 3.7 38.2 5 Q34.8 1.5 30.2 0.1 Q25.6 -1.3 20.8 -1.3 Q17.1 -1.3 13.9 -0.4 Q10.7 0.5 8.3 2.4 Q5.9 4.3 4.55 7.2 Q3.2 10.1 3.2 14.1 Q3.2 18.5 4.75 21.35 Q6.3 24.2 8.75 25.9 Q11.2 27.6 14.35 28.45 Q17.5 29.3 20.7 29.8 Q23.9 30.3 27 30.6 Q30.1 30.9 32.5 31.5 Q34.9 32.1 36.3 33.25 Q37.7 34.4 37.6 36.6 Q37.6 38.9 36.85 40.25 Q36.1 41.6 34.85 42.35 Q33.6 43.1 31.95 43.35 Q30.3 43.6 28.4 43.6 Q24.2 43.6 21.8 41.8 Q19.4 40 19 35.8 ZM37.6 25.3 Q36.7 24.5 35.35 24.05 Q34 23.6 32.45 23.3 Q30.9 23 29.2 22.8 Q27.5 22.6 25.8 22.3 Q24.2 22 22.65 21.5 Q21.1 21 19.95 20.15 Q18.8 19.3 18.1 18 Q17.4 16.7 17.4 14.7 Q17.4 12.8 18.1 11.5 Q18.8 10.2 20 9.45 Q21.2 8.7 22.8 8.4 Q24.4 8.1 26.1 8.1 Q30.3 8.1 32.6 9.5 Q34.9 10.9 36 12.85 Q37.1 14.8 37.35 16.8 Q37.6 18.8 37.6 20 Z\"\n",
       "        /><glyph unicode=\"M\" horiz-adv-x=\"90.7\" d=\"M6.9 71.4 L6.9 0 L21.6 0 L21.6 50.1 L21.8 50.1 L39.3 0 L51.4 0 L68.9 50.6 L69.1 50.6 L69.1 0 L83.8 0 L83.8 71.4 L61.7 71.4 L45.9 22.3 L45.7 22.3 L29 71.4 Z\"\n",
       "      /></font\n",
       "    ></defs\n",
       "    ><g style=\"fill:white; stroke:white;\"\n",
       "    ><rect x=\"0\" y=\"0\" width=\"560\" style=\"clip-path:url(#clipPath1); stroke:none;\" height=\"420\"\n",
       "    /></g\n",
       "    ><g style=\"fill:white; text-rendering:optimizeSpeed; color-rendering:optimizeSpeed; image-rendering:optimizeSpeed; shape-rendering:crispEdges; stroke:white; color-interpolation:sRGB;\"\n",
       "    ><rect x=\"0\" width=\"560\" height=\"420\" y=\"0\" style=\"stroke:none;\"\n",
       "      /><path style=\"stroke:none;\" d=\"M73 374 L507 374 L507 31.5 L73 31.5 Z\"\n",
       "    /></g\n",
       "    ><g style=\"fill-opacity:0.251; color-rendering:optimizeQuality; color-interpolation:linearRGB; text-rendering:geometricPrecision; stroke:rgb(26,26,26); stroke-linecap:butt; stroke-miterlimit:1; stroke-opacity:0.251; fill:rgb(26,26,26); stroke-dasharray:1,3; stroke-width:0.5; stroke-linejoin:bevel; image-rendering:optimizeQuality;\"\n",
       "    ><line y2=\"31.5\" style=\"fill:none;\" x1=\"105.6618\" x2=\"105.6618\" y1=\"374\"\n",
       "      /><line y2=\"31.5\" style=\"fill:none;\" x1=\"124.7677\" x2=\"124.7677\" y1=\"374\"\n",
       "      /><line y2=\"31.5\" style=\"fill:none;\" x1=\"138.3235\" x2=\"138.3235\" y1=\"374\"\n",
       "      /><line y2=\"31.5\" style=\"fill:none;\" x1=\"148.8382\" x2=\"148.8382\" y1=\"374\"\n",
       "      /><line y2=\"31.5\" style=\"fill:none;\" x1=\"157.4294\" x2=\"157.4294\" y1=\"374\"\n",
       "      /><line y2=\"31.5\" style=\"fill:none;\" x1=\"164.6931\" x2=\"164.6931\" y1=\"374\"\n",
       "      /><line y2=\"31.5\" style=\"fill:none;\" x1=\"170.9853\" x2=\"170.9853\" y1=\"374\"\n",
       "      /><line y2=\"31.5\" style=\"fill:none;\" x1=\"176.5353\" x2=\"176.5353\" y1=\"374\"\n",
       "      /><line y2=\"31.5\" style=\"fill:none;\" x1=\"214.1618\" x2=\"214.1618\" y1=\"374\"\n",
       "      /><line y2=\"31.5\" style=\"fill:none;\" x1=\"233.2677\" x2=\"233.2677\" y1=\"374\"\n",
       "      /><line y2=\"31.5\" style=\"fill:none;\" x1=\"246.8235\" x2=\"246.8235\" y1=\"374\"\n",
       "      /><line y2=\"31.5\" style=\"fill:none;\" x1=\"257.3382\" x2=\"257.3382\" y1=\"374\"\n",
       "      /><line y2=\"31.5\" style=\"fill:none;\" x1=\"265.9294\" x2=\"265.9294\" y1=\"374\"\n",
       "      /><line y2=\"31.5\" style=\"fill:none;\" x1=\"273.1931\" x2=\"273.1931\" y1=\"374\"\n",
       "      /><line y2=\"31.5\" style=\"fill:none;\" x1=\"279.4853\" x2=\"279.4853\" y1=\"374\"\n",
       "      /><line y2=\"31.5\" style=\"fill:none;\" x1=\"285.0353\" x2=\"285.0353\" y1=\"374\"\n",
       "      /><line y2=\"31.5\" style=\"fill:none;\" x1=\"322.6617\" x2=\"322.6617\" y1=\"374\"\n",
       "      /><line y2=\"31.5\" style=\"fill:none;\" x1=\"341.7677\" x2=\"341.7677\" y1=\"374\"\n",
       "      /><line y2=\"31.5\" style=\"fill:none;\" x1=\"355.3235\" x2=\"355.3235\" y1=\"374\"\n",
       "      /><line y2=\"31.5\" style=\"fill:none;\" x1=\"365.8383\" x2=\"365.8383\" y1=\"374\"\n",
       "      /><line y2=\"31.5\" style=\"fill:none;\" x1=\"374.4294\" x2=\"374.4294\" y1=\"374\"\n",
       "      /><line y2=\"31.5\" style=\"fill:none;\" x1=\"381.6931\" x2=\"381.6931\" y1=\"374\"\n",
       "      /><line y2=\"31.5\" style=\"fill:none;\" x1=\"387.9853\" x2=\"387.9853\" y1=\"374\"\n",
       "      /><line y2=\"31.5\" style=\"fill:none;\" x1=\"393.5353\" x2=\"393.5353\" y1=\"374\"\n",
       "      /><line y2=\"31.5\" style=\"fill:none;\" x1=\"431.1617\" x2=\"431.1617\" y1=\"374\"\n",
       "      /><line y2=\"31.5\" style=\"fill:none;\" x1=\"450.2677\" x2=\"450.2677\" y1=\"374\"\n",
       "      /><line y2=\"31.5\" style=\"fill:none;\" x1=\"463.8235\" x2=\"463.8235\" y1=\"374\"\n",
       "      /><line y2=\"31.5\" style=\"fill:none;\" x1=\"474.3383\" x2=\"474.3383\" y1=\"374\"\n",
       "      /><line y2=\"31.5\" style=\"fill:none;\" x1=\"482.9294\" x2=\"482.9294\" y1=\"374\"\n",
       "      /><line y2=\"31.5\" style=\"fill:none;\" x1=\"490.1931\" x2=\"490.1931\" y1=\"374\"\n",
       "      /><line y2=\"31.5\" style=\"fill:none;\" x1=\"496.4853\" x2=\"496.4853\" y1=\"374\"\n",
       "      /><line y2=\"31.5\" style=\"fill:none;\" x1=\"502.0353\" x2=\"502.0353\" y1=\"374\"\n",
       "    /></g\n",
       "    ><g style=\"stroke-linecap:butt; fill-opacity:0.149; fill:rgb(38,38,38); text-rendering:geometricPrecision; image-rendering:optimizeQuality; color-rendering:optimizeQuality; stroke-linejoin:round; stroke:rgb(38,38,38); color-interpolation:linearRGB; stroke-width:0.5; stroke-opacity:0.149;\"\n",
       "    ><line y2=\"31.5\" style=\"fill:none;\" x1=\"73\" x2=\"73\" y1=\"374\"\n",
       "      /><line y2=\"31.5\" style=\"fill:none;\" x1=\"181.5\" x2=\"181.5\" y1=\"374\"\n",
       "      /><line y2=\"31.5\" style=\"fill:none;\" x1=\"290\" x2=\"290\" y1=\"374\"\n",
       "      /><line y2=\"31.5\" style=\"fill:none;\" x1=\"398.5\" x2=\"398.5\" y1=\"374\"\n",
       "      /><line y2=\"31.5\" style=\"fill:none;\" x1=\"507\" x2=\"507\" y1=\"374\"\n",
       "      /><line y2=\"374\" style=\"fill:none;\" x1=\"507\" x2=\"73\" y1=\"374\"\n",
       "      /><line y2=\"339.75\" style=\"fill:none;\" x1=\"507\" x2=\"73\" y1=\"339.75\"\n",
       "      /><line y2=\"305.5\" style=\"fill:none;\" x1=\"507\" x2=\"73\" y1=\"305.5\"\n",
       "      /><line y2=\"271.25\" style=\"fill:none;\" x1=\"507\" x2=\"73\" y1=\"271.25\"\n",
       "      /><line y2=\"237\" style=\"fill:none;\" x1=\"507\" x2=\"73\" y1=\"237\"\n",
       "      /><line y2=\"202.75\" style=\"fill:none;\" x1=\"507\" x2=\"73\" y1=\"202.75\"\n",
       "      /><line y2=\"168.5\" style=\"fill:none;\" x1=\"507\" x2=\"73\" y1=\"168.5\"\n",
       "      /><line y2=\"134.25\" style=\"fill:none;\" x1=\"507\" x2=\"73\" y1=\"134.25\"\n",
       "      /><line y2=\"100\" style=\"fill:none;\" x1=\"507\" x2=\"73\" y1=\"100\"\n",
       "      /><line y2=\"65.75\" style=\"fill:none;\" x1=\"507\" x2=\"73\" y1=\"65.75\"\n",
       "      /><line y2=\"31.5\" style=\"fill:none;\" x1=\"507\" x2=\"73\" y1=\"31.5\"\n",
       "      /><line x1=\"73\" x2=\"507\" y1=\"374\" style=\"stroke-linecap:square; fill-opacity:1; fill:none; stroke-opacity:1;\" y2=\"374\"\n",
       "      /><line x1=\"73\" x2=\"507\" y1=\"31.5\" style=\"stroke-linecap:square; fill-opacity:1; fill:none; stroke-opacity:1;\" y2=\"31.5\"\n",
       "      /><line x1=\"73\" x2=\"73\" y1=\"374\" style=\"stroke-linecap:square; fill-opacity:1; fill:none; stroke-opacity:1;\" y2=\"369.66\"\n",
       "      /><line x1=\"181.5\" x2=\"181.5\" y1=\"374\" style=\"stroke-linecap:square; fill-opacity:1; fill:none; stroke-opacity:1;\" y2=\"369.66\"\n",
       "      /><line x1=\"290\" x2=\"290\" y1=\"374\" style=\"stroke-linecap:square; fill-opacity:1; fill:none; stroke-opacity:1;\" y2=\"369.66\"\n",
       "      /><line x1=\"398.5\" x2=\"398.5\" y1=\"374\" style=\"stroke-linecap:square; fill-opacity:1; fill:none; stroke-opacity:1;\" y2=\"369.66\"\n",
       "      /><line x1=\"507\" x2=\"507\" y1=\"374\" style=\"stroke-linecap:square; fill-opacity:1; fill:none; stroke-opacity:1;\" y2=\"369.66\"\n",
       "      /><line x1=\"73\" x2=\"73\" y1=\"31.5\" style=\"stroke-linecap:square; fill-opacity:1; fill:none; stroke-opacity:1;\" y2=\"35.84\"\n",
       "      /><line x1=\"181.5\" x2=\"181.5\" y1=\"31.5\" style=\"stroke-linecap:square; fill-opacity:1; fill:none; stroke-opacity:1;\" y2=\"35.84\"\n",
       "      /><line x1=\"290\" x2=\"290\" y1=\"31.5\" style=\"stroke-linecap:square; fill-opacity:1; fill:none; stroke-opacity:1;\" y2=\"35.84\"\n",
       "      /><line x1=\"398.5\" x2=\"398.5\" y1=\"31.5\" style=\"stroke-linecap:square; fill-opacity:1; fill:none; stroke-opacity:1;\" y2=\"35.84\"\n",
       "      /><line x1=\"507\" x2=\"507\" y1=\"31.5\" style=\"stroke-linecap:square; fill-opacity:1; fill:none; stroke-opacity:1;\" y2=\"35.84\"\n",
       "      /><line x1=\"73\" x2=\"73\" y1=\"374\" style=\"stroke-linecap:square; fill-opacity:1; fill:none; stroke-opacity:1;\" y2=\"371.83\"\n",
       "      /><line x1=\"105.6618\" x2=\"105.6618\" y1=\"374\" style=\"stroke-linecap:square; fill-opacity:1; fill:none; stroke-opacity:1;\" y2=\"371.83\"\n",
       "      /><line x1=\"124.7677\" x2=\"124.7677\" y1=\"374\" style=\"stroke-linecap:square; fill-opacity:1; fill:none; stroke-opacity:1;\" y2=\"371.83\"\n",
       "      /><line x1=\"138.3235\" x2=\"138.3235\" y1=\"374\" style=\"stroke-linecap:square; fill-opacity:1; fill:none; stroke-opacity:1;\" y2=\"371.83\"\n",
       "      /><line x1=\"148.8382\" x2=\"148.8382\" y1=\"374\" style=\"stroke-linecap:square; fill-opacity:1; fill:none; stroke-opacity:1;\" y2=\"371.83\"\n",
       "      /><line x1=\"157.4294\" x2=\"157.4294\" y1=\"374\" style=\"stroke-linecap:square; fill-opacity:1; fill:none; stroke-opacity:1;\" y2=\"371.83\"\n",
       "      /><line x1=\"164.6931\" x2=\"164.6931\" y1=\"374\" style=\"stroke-linecap:square; fill-opacity:1; fill:none; stroke-opacity:1;\" y2=\"371.83\"\n",
       "      /><line x1=\"170.9853\" x2=\"170.9853\" y1=\"374\" style=\"stroke-linecap:square; fill-opacity:1; fill:none; stroke-opacity:1;\" y2=\"371.83\"\n",
       "      /><line x1=\"176.5353\" x2=\"176.5353\" y1=\"374\" style=\"stroke-linecap:square; fill-opacity:1; fill:none; stroke-opacity:1;\" y2=\"371.83\"\n",
       "      /><line x1=\"181.5\" x2=\"181.5\" y1=\"374\" style=\"stroke-linecap:square; fill-opacity:1; fill:none; stroke-opacity:1;\" y2=\"371.83\"\n",
       "      /><line x1=\"214.1618\" x2=\"214.1618\" y1=\"374\" style=\"stroke-linecap:square; fill-opacity:1; fill:none; stroke-opacity:1;\" y2=\"371.83\"\n",
       "      /><line x1=\"233.2677\" x2=\"233.2677\" y1=\"374\" style=\"stroke-linecap:square; fill-opacity:1; fill:none; stroke-opacity:1;\" y2=\"371.83\"\n",
       "      /><line x1=\"246.8235\" x2=\"246.8235\" y1=\"374\" style=\"stroke-linecap:square; fill-opacity:1; fill:none; stroke-opacity:1;\" y2=\"371.83\"\n",
       "      /><line x1=\"257.3382\" x2=\"257.3382\" y1=\"374\" style=\"stroke-linecap:square; fill-opacity:1; fill:none; stroke-opacity:1;\" y2=\"371.83\"\n",
       "      /><line x1=\"265.9294\" x2=\"265.9294\" y1=\"374\" style=\"stroke-linecap:square; fill-opacity:1; fill:none; stroke-opacity:1;\" y2=\"371.83\"\n",
       "      /><line x1=\"273.1931\" x2=\"273.1931\" y1=\"374\" style=\"stroke-linecap:square; fill-opacity:1; fill:none; stroke-opacity:1;\" y2=\"371.83\"\n",
       "      /><line x1=\"279.4853\" x2=\"279.4853\" y1=\"374\" style=\"stroke-linecap:square; fill-opacity:1; fill:none; stroke-opacity:1;\" y2=\"371.83\"\n",
       "      /><line x1=\"285.0353\" x2=\"285.0353\" y1=\"374\" style=\"stroke-linecap:square; fill-opacity:1; fill:none; stroke-opacity:1;\" y2=\"371.83\"\n",
       "      /><line x1=\"290\" x2=\"290\" y1=\"374\" style=\"stroke-linecap:square; fill-opacity:1; fill:none; stroke-opacity:1;\" y2=\"371.83\"\n",
       "      /><line x1=\"322.6617\" x2=\"322.6617\" y1=\"374\" style=\"stroke-linecap:square; fill-opacity:1; fill:none; stroke-opacity:1;\" y2=\"371.83\"\n",
       "      /><line x1=\"341.7677\" x2=\"341.7677\" y1=\"374\" style=\"stroke-linecap:square; fill-opacity:1; fill:none; stroke-opacity:1;\" y2=\"371.83\"\n",
       "      /><line x1=\"355.3235\" x2=\"355.3235\" y1=\"374\" style=\"stroke-linecap:square; fill-opacity:1; fill:none; stroke-opacity:1;\" y2=\"371.83\"\n",
       "      /><line x1=\"365.8383\" x2=\"365.8383\" y1=\"374\" style=\"stroke-linecap:square; fill-opacity:1; fill:none; stroke-opacity:1;\" y2=\"371.83\"\n",
       "      /><line x1=\"374.4294\" x2=\"374.4294\" y1=\"374\" style=\"stroke-linecap:square; fill-opacity:1; fill:none; stroke-opacity:1;\" y2=\"371.83\"\n",
       "      /><line x1=\"381.6931\" x2=\"381.6931\" y1=\"374\" style=\"stroke-linecap:square; fill-opacity:1; fill:none; stroke-opacity:1;\" y2=\"371.83\"\n",
       "      /><line x1=\"387.9853\" x2=\"387.9853\" y1=\"374\" style=\"stroke-linecap:square; fill-opacity:1; fill:none; stroke-opacity:1;\" y2=\"371.83\"\n",
       "      /><line x1=\"393.5353\" x2=\"393.5353\" y1=\"374\" style=\"stroke-linecap:square; fill-opacity:1; fill:none; stroke-opacity:1;\" y2=\"371.83\"\n",
       "      /><line x1=\"398.5\" x2=\"398.5\" y1=\"374\" style=\"stroke-linecap:square; fill-opacity:1; fill:none; stroke-opacity:1;\" y2=\"371.83\"\n",
       "      /><line x1=\"431.1617\" x2=\"431.1617\" y1=\"374\" style=\"stroke-linecap:square; fill-opacity:1; fill:none; stroke-opacity:1;\" y2=\"371.83\"\n",
       "      /><line x1=\"450.2677\" x2=\"450.2677\" y1=\"374\" style=\"stroke-linecap:square; fill-opacity:1; fill:none; stroke-opacity:1;\" y2=\"371.83\"\n",
       "      /><line x1=\"463.8235\" x2=\"463.8235\" y1=\"374\" style=\"stroke-linecap:square; fill-opacity:1; fill:none; stroke-opacity:1;\" y2=\"371.83\"\n",
       "      /><line x1=\"474.3383\" x2=\"474.3383\" y1=\"374\" style=\"stroke-linecap:square; fill-opacity:1; fill:none; stroke-opacity:1;\" y2=\"371.83\"\n",
       "      /><line x1=\"482.9294\" x2=\"482.9294\" y1=\"374\" style=\"stroke-linecap:square; fill-opacity:1; fill:none; stroke-opacity:1;\" y2=\"371.83\"\n",
       "      /><line x1=\"490.1931\" x2=\"490.1931\" y1=\"374\" style=\"stroke-linecap:square; fill-opacity:1; fill:none; stroke-opacity:1;\" y2=\"371.83\"\n",
       "      /><line x1=\"496.4853\" x2=\"496.4853\" y1=\"374\" style=\"stroke-linecap:square; fill-opacity:1; fill:none; stroke-opacity:1;\" y2=\"371.83\"\n",
       "      /><line x1=\"502.0353\" x2=\"502.0353\" y1=\"374\" style=\"stroke-linecap:square; fill-opacity:1; fill:none; stroke-opacity:1;\" y2=\"371.83\"\n",
       "      /><line x1=\"507\" x2=\"507\" y1=\"374\" style=\"stroke-linecap:square; fill-opacity:1; fill:none; stroke-opacity:1;\" y2=\"371.83\"\n",
       "      /><line x1=\"73\" x2=\"73\" y1=\"31.5\" style=\"stroke-linecap:square; fill-opacity:1; fill:none; stroke-opacity:1;\" y2=\"33.67\"\n",
       "      /><line x1=\"105.6618\" x2=\"105.6618\" y1=\"31.5\" style=\"stroke-linecap:square; fill-opacity:1; fill:none; stroke-opacity:1;\" y2=\"33.67\"\n",
       "      /><line x1=\"124.7677\" x2=\"124.7677\" y1=\"31.5\" style=\"stroke-linecap:square; fill-opacity:1; fill:none; stroke-opacity:1;\" y2=\"33.67\"\n",
       "      /><line x1=\"138.3235\" x2=\"138.3235\" y1=\"31.5\" style=\"stroke-linecap:square; fill-opacity:1; fill:none; stroke-opacity:1;\" y2=\"33.67\"\n",
       "      /><line x1=\"148.8382\" x2=\"148.8382\" y1=\"31.5\" style=\"stroke-linecap:square; fill-opacity:1; fill:none; stroke-opacity:1;\" y2=\"33.67\"\n",
       "      /><line x1=\"157.4294\" x2=\"157.4294\" y1=\"31.5\" style=\"stroke-linecap:square; fill-opacity:1; fill:none; stroke-opacity:1;\" y2=\"33.67\"\n",
       "      /><line x1=\"164.6931\" x2=\"164.6931\" y1=\"31.5\" style=\"stroke-linecap:square; fill-opacity:1; fill:none; stroke-opacity:1;\" y2=\"33.67\"\n",
       "      /><line x1=\"170.9853\" x2=\"170.9853\" y1=\"31.5\" style=\"stroke-linecap:square; fill-opacity:1; fill:none; stroke-opacity:1;\" y2=\"33.67\"\n",
       "      /><line x1=\"176.5353\" x2=\"176.5353\" y1=\"31.5\" style=\"stroke-linecap:square; fill-opacity:1; fill:none; stroke-opacity:1;\" y2=\"33.67\"\n",
       "      /><line x1=\"181.5\" x2=\"181.5\" y1=\"31.5\" style=\"stroke-linecap:square; fill-opacity:1; fill:none; stroke-opacity:1;\" y2=\"33.67\"\n",
       "      /><line x1=\"214.1618\" x2=\"214.1618\" y1=\"31.5\" style=\"stroke-linecap:square; fill-opacity:1; fill:none; stroke-opacity:1;\" y2=\"33.67\"\n",
       "      /><line x1=\"233.2677\" x2=\"233.2677\" y1=\"31.5\" style=\"stroke-linecap:square; fill-opacity:1; fill:none; stroke-opacity:1;\" y2=\"33.67\"\n",
       "      /><line x1=\"246.8235\" x2=\"246.8235\" y1=\"31.5\" style=\"stroke-linecap:square; fill-opacity:1; fill:none; stroke-opacity:1;\" y2=\"33.67\"\n",
       "      /><line x1=\"257.3382\" x2=\"257.3382\" y1=\"31.5\" style=\"stroke-linecap:square; fill-opacity:1; fill:none; stroke-opacity:1;\" y2=\"33.67\"\n",
       "      /><line x1=\"265.9294\" x2=\"265.9294\" y1=\"31.5\" style=\"stroke-linecap:square; fill-opacity:1; fill:none; stroke-opacity:1;\" y2=\"33.67\"\n",
       "      /><line x1=\"273.1931\" x2=\"273.1931\" y1=\"31.5\" style=\"stroke-linecap:square; fill-opacity:1; fill:none; stroke-opacity:1;\" y2=\"33.67\"\n",
       "      /><line x1=\"279.4853\" x2=\"279.4853\" y1=\"31.5\" style=\"stroke-linecap:square; fill-opacity:1; fill:none; stroke-opacity:1;\" y2=\"33.67\"\n",
       "      /><line x1=\"285.0353\" x2=\"285.0353\" y1=\"31.5\" style=\"stroke-linecap:square; fill-opacity:1; fill:none; stroke-opacity:1;\" y2=\"33.67\"\n",
       "      /><line x1=\"290\" x2=\"290\" y1=\"31.5\" style=\"stroke-linecap:square; fill-opacity:1; fill:none; stroke-opacity:1;\" y2=\"33.67\"\n",
       "      /><line x1=\"322.6617\" x2=\"322.6617\" y1=\"31.5\" style=\"stroke-linecap:square; fill-opacity:1; fill:none; stroke-opacity:1;\" y2=\"33.67\"\n",
       "      /><line x1=\"341.7677\" x2=\"341.7677\" y1=\"31.5\" style=\"stroke-linecap:square; fill-opacity:1; fill:none; stroke-opacity:1;\" y2=\"33.67\"\n",
       "      /><line x1=\"355.3235\" x2=\"355.3235\" y1=\"31.5\" style=\"stroke-linecap:square; fill-opacity:1; fill:none; stroke-opacity:1;\" y2=\"33.67\"\n",
       "      /><line x1=\"365.8383\" x2=\"365.8383\" y1=\"31.5\" style=\"stroke-linecap:square; fill-opacity:1; fill:none; stroke-opacity:1;\" y2=\"33.67\"\n",
       "      /><line x1=\"374.4294\" x2=\"374.4294\" y1=\"31.5\" style=\"stroke-linecap:square; fill-opacity:1; fill:none; stroke-opacity:1;\" y2=\"33.67\"\n",
       "      /><line x1=\"381.6931\" x2=\"381.6931\" y1=\"31.5\" style=\"stroke-linecap:square; fill-opacity:1; fill:none; stroke-opacity:1;\" y2=\"33.67\"\n",
       "      /><line x1=\"387.9853\" x2=\"387.9853\" y1=\"31.5\" style=\"stroke-linecap:square; fill-opacity:1; fill:none; stroke-opacity:1;\" y2=\"33.67\"\n",
       "      /><line x1=\"393.5353\" x2=\"393.5353\" y1=\"31.5\" style=\"stroke-linecap:square; fill-opacity:1; fill:none; stroke-opacity:1;\" y2=\"33.67\"\n",
       "      /><line x1=\"398.5\" x2=\"398.5\" y1=\"31.5\" style=\"stroke-linecap:square; fill-opacity:1; fill:none; stroke-opacity:1;\" y2=\"33.67\"\n",
       "      /><line x1=\"431.1617\" x2=\"431.1617\" y1=\"31.5\" style=\"stroke-linecap:square; fill-opacity:1; fill:none; stroke-opacity:1;\" y2=\"33.67\"\n",
       "      /><line x1=\"450.2677\" x2=\"450.2677\" y1=\"31.5\" style=\"stroke-linecap:square; fill-opacity:1; fill:none; stroke-opacity:1;\" y2=\"33.67\"\n",
       "      /><line x1=\"463.8235\" x2=\"463.8235\" y1=\"31.5\" style=\"stroke-linecap:square; fill-opacity:1; fill:none; stroke-opacity:1;\" y2=\"33.67\"\n",
       "      /><line x1=\"474.3383\" x2=\"474.3383\" y1=\"31.5\" style=\"stroke-linecap:square; fill-opacity:1; fill:none; stroke-opacity:1;\" y2=\"33.67\"\n",
       "      /><line x1=\"482.9294\" x2=\"482.9294\" y1=\"31.5\" style=\"stroke-linecap:square; fill-opacity:1; fill:none; stroke-opacity:1;\" y2=\"33.67\"\n",
       "      /><line x1=\"490.1931\" x2=\"490.1931\" y1=\"31.5\" style=\"stroke-linecap:square; fill-opacity:1; fill:none; stroke-opacity:1;\" y2=\"33.67\"\n",
       "      /><line x1=\"496.4853\" x2=\"496.4853\" y1=\"31.5\" style=\"stroke-linecap:square; fill-opacity:1; fill:none; stroke-opacity:1;\" y2=\"33.67\"\n",
       "      /><line x1=\"502.0353\" x2=\"502.0353\" y1=\"31.5\" style=\"stroke-linecap:square; fill-opacity:1; fill:none; stroke-opacity:1;\" y2=\"33.67\"\n",
       "      /><line x1=\"507\" x2=\"507\" y1=\"31.5\" style=\"stroke-linecap:square; fill-opacity:1; fill:none; stroke-opacity:1;\" y2=\"33.67\"\n",
       "    /></g\n",
       "    ><g transform=\"translate(64,391)\" style=\"font-size:10px; fill:rgb(38,38,38); text-rendering:geometricPrecision; image-rendering:optimizeQuality; color-rendering:optimizeQuality; font-family:'Helvetica Neue'; stroke:rgb(38,38,38); color-interpolation:linearRGB;\"\n",
       "    ><text x=\"0\" xml:space=\"preserve\" y=\"0\" style=\"stroke:none;\"\n",
       "      >10</text\n",
       "    ></g\n",
       "    ><g transform=\"translate(76,386)\" style=\"font-size:8px; fill:rgb(38,38,38); text-rendering:geometricPrecision; image-rendering:optimizeQuality; color-rendering:optimizeQuality; font-family:'Helvetica Neue'; stroke:rgb(38,38,38); color-interpolation:linearRGB;\"\n",
       "    ><text x=\"0\" xml:space=\"preserve\" y=\"0\" style=\"stroke:none;\"\n",
       "      >0</text\n",
       "    ></g\n",
       "    ><g transform=\"translate(173,391)\" style=\"font-size:10px; fill:rgb(38,38,38); text-rendering:geometricPrecision; image-rendering:optimizeQuality; color-rendering:optimizeQuality; font-family:'Helvetica Neue'; stroke:rgb(38,38,38); color-interpolation:linearRGB;\"\n",
       "    ><text x=\"0\" xml:space=\"preserve\" y=\"0\" style=\"stroke:none;\"\n",
       "      >10</text\n",
       "    ></g\n",
       "    ><g transform=\"translate(185,386)\" style=\"font-size:8px; fill:rgb(38,38,38); text-rendering:geometricPrecision; image-rendering:optimizeQuality; color-rendering:optimizeQuality; font-family:'Helvetica Neue'; stroke:rgb(38,38,38); color-interpolation:linearRGB;\"\n",
       "    ><text x=\"0\" xml:space=\"preserve\" y=\"0\" style=\"stroke:none;\"\n",
       "      >1</text\n",
       "    ></g\n",
       "    ><g transform=\"translate(281,391)\" style=\"font-size:10px; fill:rgb(38,38,38); text-rendering:geometricPrecision; image-rendering:optimizeQuality; color-rendering:optimizeQuality; font-family:'Helvetica Neue'; stroke:rgb(38,38,38); color-interpolation:linearRGB;\"\n",
       "    ><text x=\"0\" xml:space=\"preserve\" y=\"0\" style=\"stroke:none;\"\n",
       "      >10</text\n",
       "    ></g\n",
       "    ><g transform=\"translate(293,386)\" style=\"font-size:8px; fill:rgb(38,38,38); text-rendering:geometricPrecision; image-rendering:optimizeQuality; color-rendering:optimizeQuality; font-family:'Helvetica Neue'; stroke:rgb(38,38,38); color-interpolation:linearRGB;\"\n",
       "    ><text x=\"0\" xml:space=\"preserve\" y=\"0\" style=\"stroke:none;\"\n",
       "      >2</text\n",
       "    ></g\n",
       "    ><g transform=\"translate(390,391)\" style=\"font-size:10px; fill:rgb(38,38,38); text-rendering:geometricPrecision; image-rendering:optimizeQuality; color-rendering:optimizeQuality; font-family:'Helvetica Neue'; stroke:rgb(38,38,38); color-interpolation:linearRGB;\"\n",
       "    ><text x=\"0\" xml:space=\"preserve\" y=\"0\" style=\"stroke:none;\"\n",
       "      >10</text\n",
       "    ></g\n",
       "    ><g transform=\"translate(402,386)\" style=\"font-size:8px; fill:rgb(38,38,38); text-rendering:geometricPrecision; image-rendering:optimizeQuality; color-rendering:optimizeQuality; font-family:'Helvetica Neue'; stroke:rgb(38,38,38); color-interpolation:linearRGB;\"\n",
       "    ><text x=\"0\" xml:space=\"preserve\" y=\"0\" style=\"stroke:none;\"\n",
       "      >3</text\n",
       "    ></g\n",
       "    ><g transform=\"translate(498,391)\" style=\"font-size:10px; fill:rgb(38,38,38); text-rendering:geometricPrecision; image-rendering:optimizeQuality; color-rendering:optimizeQuality; font-family:'Helvetica Neue'; stroke:rgb(38,38,38); color-interpolation:linearRGB;\"\n",
       "    ><text x=\"0\" xml:space=\"preserve\" y=\"0\" style=\"stroke:none;\"\n",
       "      >10</text\n",
       "    ></g\n",
       "    ><g transform=\"translate(510,386)\" style=\"font-size:8px; fill:rgb(38,38,38); text-rendering:geometricPrecision; image-rendering:optimizeQuality; color-rendering:optimizeQuality; font-family:'Helvetica Neue'; stroke:rgb(38,38,38); color-interpolation:linearRGB;\"\n",
       "    ><text x=\"0\" xml:space=\"preserve\" y=\"0\" style=\"stroke:none;\"\n",
       "      >4</text\n",
       "    ></g\n",
       "    ><g transform=\"translate(290.0002,394.5)\" style=\"font-size:11px; fill:rgb(38,38,38); text-rendering:geometricPrecision; image-rendering:optimizeQuality; color-rendering:optimizeQuality; font-family:'Helvetica Neue'; stroke:rgb(38,38,38); color-interpolation:linearRGB;\"\n",
       "    ><text x=\"-64.5\" xml:space=\"preserve\" y=\"11\" style=\"stroke:none;\"\n",
       "      >Radian frequency w (rad/s</text\n",
       "    ></g\n",
       "    ><g style=\"fill:rgb(38,38,38); text-rendering:geometricPrecision; image-rendering:optimizeQuality; color-rendering:optimizeQuality; stroke-linejoin:round; stroke:rgb(38,38,38); color-interpolation:linearRGB; stroke-width:0.5;\"\n",
       "    ><line y2=\"31.5\" style=\"fill:none;\" x1=\"73\" x2=\"73\" y1=\"374\"\n",
       "      /><line y2=\"31.5\" style=\"fill:none;\" x1=\"507\" x2=\"507\" y1=\"374\"\n",
       "      /><line y2=\"374\" style=\"fill:none;\" x1=\"73\" x2=\"77.34\" y1=\"374\"\n",
       "      /><line y2=\"339.75\" style=\"fill:none;\" x1=\"73\" x2=\"77.34\" y1=\"339.75\"\n",
       "      /><line y2=\"305.5\" style=\"fill:none;\" x1=\"73\" x2=\"77.34\" y1=\"305.5\"\n",
       "      /><line y2=\"271.25\" style=\"fill:none;\" x1=\"73\" x2=\"77.34\" y1=\"271.25\"\n",
       "      /><line y2=\"237\" style=\"fill:none;\" x1=\"73\" x2=\"77.34\" y1=\"237\"\n",
       "      /><line y2=\"202.75\" style=\"fill:none;\" x1=\"73\" x2=\"77.34\" y1=\"202.75\"\n",
       "      /><line y2=\"168.5\" style=\"fill:none;\" x1=\"73\" x2=\"77.34\" y1=\"168.5\"\n",
       "      /><line y2=\"134.25\" style=\"fill:none;\" x1=\"73\" x2=\"77.34\" y1=\"134.25\"\n",
       "      /><line y2=\"100\" style=\"fill:none;\" x1=\"73\" x2=\"77.34\" y1=\"100\"\n",
       "      /><line y2=\"65.75\" style=\"fill:none;\" x1=\"73\" x2=\"77.34\" y1=\"65.75\"\n",
       "      /><line y2=\"31.5\" style=\"fill:none;\" x1=\"73\" x2=\"77.34\" y1=\"31.5\"\n",
       "      /><line y2=\"374\" style=\"fill:none;\" x1=\"507\" x2=\"502.66\" y1=\"374\"\n",
       "      /><line y2=\"339.75\" style=\"fill:none;\" x1=\"507\" x2=\"502.66\" y1=\"339.75\"\n",
       "      /><line y2=\"305.5\" style=\"fill:none;\" x1=\"507\" x2=\"502.66\" y1=\"305.5\"\n",
       "      /><line y2=\"271.25\" style=\"fill:none;\" x1=\"507\" x2=\"502.66\" y1=\"271.25\"\n",
       "      /><line y2=\"237\" style=\"fill:none;\" x1=\"507\" x2=\"502.66\" y1=\"237\"\n",
       "      /><line y2=\"202.75\" style=\"fill:none;\" x1=\"507\" x2=\"502.66\" y1=\"202.75\"\n",
       "      /><line y2=\"168.5\" style=\"fill:none;\" x1=\"507\" x2=\"502.66\" y1=\"168.5\"\n",
       "      /><line y2=\"134.25\" style=\"fill:none;\" x1=\"507\" x2=\"502.66\" y1=\"134.25\"\n",
       "      /><line y2=\"100\" style=\"fill:none;\" x1=\"507\" x2=\"502.66\" y1=\"100\"\n",
       "      /><line y2=\"65.75\" style=\"fill:none;\" x1=\"507\" x2=\"502.66\" y1=\"65.75\"\n",
       "      /><line y2=\"31.5\" style=\"fill:none;\" x1=\"507\" x2=\"502.66\" y1=\"31.5\"\n",
       "    /></g\n",
       "    ><g transform=\"translate(69,374)\" style=\"font-size:10px; fill:rgb(38,38,38); text-rendering:geometricPrecision; image-rendering:optimizeQuality; color-rendering:optimizeQuality; font-family:'Helvetica Neue'; stroke:rgb(38,38,38); color-interpolation:linearRGB;\"\n",
       "    ><text x=\"-6\" xml:space=\"preserve\" y=\"3.5\" style=\"stroke:none;\"\n",
       "      >0</text\n",
       "    ></g\n",
       "    ><g transform=\"translate(69,339.75)\" style=\"font-size:10px; fill:rgb(38,38,38); text-rendering:geometricPrecision; image-rendering:optimizeQuality; color-rendering:optimizeQuality; font-family:'Helvetica Neue'; stroke:rgb(38,38,38); color-interpolation:linearRGB;\"\n",
       "    ><text x=\"-20\" xml:space=\"preserve\" y=\"3.5\" style=\"stroke:none;\"\n",
       "      >0.02</text\n",
       "    ></g\n",
       "    ><g transform=\"translate(69,305.5)\" style=\"font-size:10px; fill:rgb(38,38,38); text-rendering:geometricPrecision; image-rendering:optimizeQuality; color-rendering:optimizeQuality; font-family:'Helvetica Neue'; stroke:rgb(38,38,38); color-interpolation:linearRGB;\"\n",
       "    ><text x=\"-20\" xml:space=\"preserve\" y=\"3.5\" style=\"stroke:none;\"\n",
       "      >0.04</text\n",
       "    ></g\n",
       "    ><g transform=\"translate(69,271.25)\" style=\"font-size:10px; fill:rgb(38,38,38); text-rendering:geometricPrecision; image-rendering:optimizeQuality; color-rendering:optimizeQuality; font-family:'Helvetica Neue'; stroke:rgb(38,38,38); color-interpolation:linearRGB;\"\n",
       "    ><text x=\"-20\" xml:space=\"preserve\" y=\"3.5\" style=\"stroke:none;\"\n",
       "      >0.06</text\n",
       "    ></g\n",
       "    ><g transform=\"translate(69,237)\" style=\"font-size:10px; fill:rgb(38,38,38); text-rendering:geometricPrecision; image-rendering:optimizeQuality; color-rendering:optimizeQuality; font-family:'Helvetica Neue'; stroke:rgb(38,38,38); color-interpolation:linearRGB;\"\n",
       "    ><text x=\"-20\" xml:space=\"preserve\" y=\"3.5\" style=\"stroke:none;\"\n",
       "      >0.08</text\n",
       "    ></g\n",
       "    ><g transform=\"translate(69,202.75)\" style=\"font-size:10px; fill:rgb(38,38,38); text-rendering:geometricPrecision; image-rendering:optimizeQuality; color-rendering:optimizeQuality; font-family:'Helvetica Neue'; stroke:rgb(38,38,38); color-interpolation:linearRGB;\"\n",
       "    ><text x=\"-14\" xml:space=\"preserve\" y=\"3.5\" style=\"stroke:none;\"\n",
       "      >0.1</text\n",
       "    ></g\n",
       "    ><g transform=\"translate(69,168.5)\" style=\"font-size:10px; fill:rgb(38,38,38); text-rendering:geometricPrecision; image-rendering:optimizeQuality; color-rendering:optimizeQuality; font-family:'Helvetica Neue'; stroke:rgb(38,38,38); color-interpolation:linearRGB;\"\n",
       "    ><text x=\"-20\" xml:space=\"preserve\" y=\"3.5\" style=\"stroke:none;\"\n",
       "      >0.12</text\n",
       "    ></g\n",
       "    ><g transform=\"translate(69,134.25)\" style=\"font-size:10px; fill:rgb(38,38,38); text-rendering:geometricPrecision; image-rendering:optimizeQuality; color-rendering:optimizeQuality; font-family:'Helvetica Neue'; stroke:rgb(38,38,38); color-interpolation:linearRGB;\"\n",
       "    ><text x=\"-20\" xml:space=\"preserve\" y=\"3.5\" style=\"stroke:none;\"\n",
       "      >0.14</text\n",
       "    ></g\n",
       "    ><g transform=\"translate(69,100)\" style=\"font-size:10px; fill:rgb(38,38,38); text-rendering:geometricPrecision; image-rendering:optimizeQuality; color-rendering:optimizeQuality; font-family:'Helvetica Neue'; stroke:rgb(38,38,38); color-interpolation:linearRGB;\"\n",
       "    ><text x=\"-20\" xml:space=\"preserve\" y=\"3.5\" style=\"stroke:none;\"\n",
       "      >0.16</text\n",
       "    ></g\n",
       "    ><g transform=\"translate(69,65.75)\" style=\"font-size:10px; fill:rgb(38,38,38); text-rendering:geometricPrecision; image-rendering:optimizeQuality; color-rendering:optimizeQuality; font-family:'Helvetica Neue'; stroke:rgb(38,38,38); color-interpolation:linearRGB;\"\n",
       "    ><text x=\"-20\" xml:space=\"preserve\" y=\"3.5\" style=\"stroke:none;\"\n",
       "      >0.18</text\n",
       "    ></g\n",
       "    ><g transform=\"translate(69,31.5)\" style=\"font-size:10px; fill:rgb(38,38,38); text-rendering:geometricPrecision; image-rendering:optimizeQuality; color-rendering:optimizeQuality; font-family:'Helvetica Neue'; stroke:rgb(38,38,38); color-interpolation:linearRGB;\"\n",
       "    ><text x=\"-14\" xml:space=\"preserve\" y=\"3.5\" style=\"stroke:none;\"\n",
       "      >0.2</text\n",
       "    ></g\n",
       "    ><g transform=\"translate(46.5,202.7498) rotate(-90)\" style=\"font-size:11px; fill:rgb(38,38,38); text-rendering:geometricPrecision; image-rendering:optimizeQuality; color-rendering:optimizeQuality; font-family:'Helvetica Neue'; stroke:rgb(38,38,38); color-interpolation:linearRGB;\"\n",
       "    ><text x=\"-23.5\" xml:space=\"preserve\" y=\"-3\" style=\"stroke:none;\"\n",
       "      >|Vout/Vin|</text\n",
       "    ></g\n",
       "    ><g transform=\"translate(290.0003,30.125)\" style=\"font-size:11px; text-rendering:geometricPrecision; image-rendering:optimizeQuality; color-rendering:optimizeQuality; font-family:'Helvetica Neue'; color-interpolation:linearRGB; font-weight:bold;\"\n",
       "    ><text x=\"-110\" xml:space=\"preserve\" y=\"-3\" style=\"stroke:none;\"\n",
       "      >Magnitude Vout/Vin vs. Radian Frequency</text\n",
       "    ></g\n",
       "    ><g style=\"stroke-linecap:butt; fill:rgb(0,114,189); text-rendering:geometricPrecision; image-rendering:optimizeQuality; color-rendering:optimizeQuality; stroke-linejoin:round; stroke:rgb(0,114,189); color-interpolation:linearRGB; stroke-width:0.5;\"\n",
       "    ><path d=\"M73 31.5003 L185.9911 31.5414 L216.4608 31.6509 L234.8127 31.8287 L247.9871 32.0744 L258.2714 32.3877 L266.7083 32.768 L273.8615 33.2147 L280.0706 33.7271 L285.556 34.3044 L290.4689 34.9456 L294.9175 35.6498 L298.9822 36.4158 L302.7239 37.2425 L306.1903 38.1286 L309.419 39.0728 L312.4406 40.0737 L315.2801 41.1297 L317.9581 42.2395 L320.4921 43.4013 L322.8968 44.6137 L325.1846 45.8749 L327.3666 47.1832 L329.4519 48.537 L331.4489 49.9344 L333.3646 51.3737 L335.2055 52.8532 L336.9772 54.3711 L338.6846 55.9255 L340.3324 57.5148 L341.9245 59.137 L343.4645 60.7906 L344.9558 62.4737 L346.4013 64.1845 L347.8039 65.9214 L349.1658 67.6828 L350.4895 69.4669 L351.7771 71.2721 L353.0304 73.0968 L354.2512 74.9395 L355.4412 76.7987 L356.6018 78.6729 L357.7346 80.5605 L358.8408 82.4604 L359.9216 84.371 L360.9781 86.291 L362.0115 88.2193 L363.0228 90.1545 L364.0128 92.0954 L364.9823 94.0411 L365.9324 95.9902 L366.8637 97.9418 L367.7769 99.8949 L368.6728 101.8485 L369.5519 103.8016 L370.4149 105.7535 L371.2625 107.7032 L372.095 109.6499 L372.9131 111.5929 L373.7172 113.5314 L374.5079 115.4648 L375.2855 117.3923 L376.0504 119.3135 L376.8032 121.2277 L377.5441 123.1343 L378.2735 125.0328 L378.9919 126.9227 L379.6994 128.8036 L380.3965 130.6751 L381.0834 132.5368 L381.7604 134.3882 L382.4279 136.229 L383.086 138.059 L383.735 139.8777 L384.3753 141.685 L385.0069 143.4805 L385.6302 145.2641 L386.2454 147.0355 L386.8526 148.7946 L387.4521 150.5411 L388.0441 152.2749 L388.6288 153.9958 L389.2062 155.7038 L389.7767 157.3987 L390.3404 159.0805 L390.8973 160.7489 L391.4478 162.4041 L391.992 164.0458 L392.5299 165.6741 L393.0617 167.2889 L393.5876 168.8902 L394.1078 170.478 L394.6222 172.0523 L395.131 173.613 L395.6345 175.1602 L396.1326 176.694 L396.6255 178.2142 L397.1133 179.7211 L397.5961 181.2145 L398.074 182.6945 L398.5471 184.1613 L399.0155 185.6147 L399.4793 187.055 L399.9386 188.4821 L400.3934 189.8962 L400.8439 191.2973 L401.2901 192.6854 L401.7321 194.0607 L402.1701 195.4233 L402.604 196.7731 L403.0339 198.1104 L403.46 199.4352 L403.8822 200.7475 L404.3007 202.0475 L404.7155 203.3353 L405.1266 204.611 L405.5343 205.8747 L405.9384 207.1264 L406.3391 208.3663 L406.7364 209.5944 L407.1304 210.811 L407.5211 212.016 L407.9087 213.2096 L408.293 214.3918 L408.6742 215.5629 L409.0524 216.7228 L409.4276 217.8718 L409.7998 219.0098 L410.1691 220.1371 L410.5355 221.2537 L410.8991 222.3596 L411.2599 223.4552 L411.618 224.5403 L411.9733 225.6152 L412.326 226.6799 L412.6761 227.7345 L413.0236 228.7792 L413.3686 229.814 L413.711 230.8391 L414.051 231.8545 L414.3885 232.8604 L414.7237 233.8568 L415.0565 234.8438 L415.3869 235.8216 L415.7151 236.7902 L416.0409 237.7498 L416.3645 238.7004 L416.686 239.6422 L417.0052 240.5752 L417.3223 241.4995 L417.6373 242.4152 L417.9502 243.3224 L418.261 244.2212 L418.5698 245.1118 L418.8766 245.994 L419.1814 246.8682 L419.4842 247.7343 L419.7851 248.5925 L420.0841 249.4428 L420.3812 250.2853 L420.6765 251.1201 L420.9699 251.9473 L421.2615 252.767 L421.5512 253.5792 L421.8393 254.3841 L422.1255 255.1816 L422.4101 255.972 L422.6929 256.7552 L422.9741 257.5314 L423.2536 258.3006 L423.5314 259.0629 L423.8076 259.8184 L424.0822 260.567 L424.3552 261.3091 L424.6266 262.0446 L424.8965 262.7734 L425.1649 263.4959 L425.4317 264.2119 L425.6971 264.9217 L425.9609 265.6251 L426.2232 266.3224 L426.4841 267.0136 L426.7436 267.6987 L427.0017 268.3778 L427.2583 269.051 L427.5136 269.7184 L427.7675 270.3799 L428.02 271.0357 L428.2712 271.6858 L428.521 272.3303 L428.7696 272.9693 L429.0168 273.6027 L429.2627 274.2308 L429.5074 274.8534 L429.7508 275.4707 L429.9929 276.0828 L430.2338 276.6896 L430.4735 277.2913 L430.712 277.8879 L430.9492 278.4795 L431.1853 279.066 L431.4202 279.6476 L431.6539 280.2244 L431.8865 280.7962 L432.118 281.3633 L432.3483 281.9257 L432.5775 282.4834 L432.8055 283.0364 L433.0325 283.5848 L433.2584 284.1287 L433.4832 284.6681 L433.707 285.2031 L433.9297 285.7336 L434.1513 286.2598 L434.3719 286.7817 L434.5915 287.2993 L434.8101 287.8126 L435.0276 288.3218 L435.2441 288.8268 L435.4597 289.3278 L435.6743 289.8247 L435.8879 290.3176 L436.1005 290.8065 L436.3122 291.2914 L436.5229 291.7725 L436.7328 292.2497 L436.9416 292.7231 L437.1496 293.1927 L437.3566 293.6585 L437.5627 294.1207 L437.7679 294.5792 L437.9723 295.034 L438.1758 295.4853 L438.3783 295.933 L438.58 296.3772 L438.7809 296.8178 L438.9809 297.2551 L439.1801 297.6889 L439.3784 298.1193 L439.5759 298.5464 L439.7726 298.9701 L439.9684 299.3906 L440.1635 299.8078 L440.3577 300.2217 L440.5511 300.6325 L440.7437 301.0401 L440.9356 301.4446 L441.1267 301.8459 L441.317 302.2443 L441.5066 302.6395 L441.6953 303.0317 L441.8834 303.421 L442.0707 303.8073 L442.2572 304.1907 L442.443 304.5711 L442.6281 304.9487 L442.8124 305.3235 L442.9961 305.6954 L443.179 306.0645 L443.3612 306.4309 L443.5427 306.7945 L443.7235 307.1554 L443.9037 307.5137 L444.0831 307.8692 L444.2619 308.2221 L444.4399 308.5724 L444.6174 308.9202 L444.7941 309.2653 L444.9702 309.6079 L445.1456 309.948 L445.3204 310.2856 L445.4946 310.6207 L445.6681 310.9533 L445.8409 311.2836 L446.0132 311.6114 L446.1847 311.9369 L446.3557 312.2599 L446.5261 312.5807 L446.6958 312.8991 L446.8649 313.2153 L447.0335 313.5291 L447.2014 313.8407 L447.3687 314.1501 L447.5355 314.4572 L447.7016 314.7622 L447.8672 315.0649 L448.0322 315.3655 L448.1966 315.664 L448.3604 315.9604 L448.5237 316.2547 L448.6864 316.5468 L448.8486 316.837 L449.0102 317.125 L449.1712 317.4111 L449.3317 317.6951 L449.4917 317.9772 L449.6511 318.2573 L449.8099 318.5354 L449.9683 318.8116 L450.1261 319.0858 L450.2834 319.3582 L450.4401 319.6287 L450.5963 319.8973 L450.7521 320.164 L450.9073 320.4289 L451.062 320.692 L451.2162 320.9533 L451.3699 321.2128 L451.5231 321.4705 L451.6758 321.7264 L451.8279 321.9807 L451.9796 322.2331 L452.1309 322.4839 L452.2816 322.7329 L452.4319 322.9803 L452.5816 323.226 L452.731 323.4701 L452.8798 323.7125 L453.0282 323.9532 L453.1761 324.1924 L453.3235 324.4299 L453.4705 324.6659 L453.617 324.9003 L453.7631 325.1331 L453.9087 325.3644 L454.0538 325.5941 L454.1985 325.8224 L454.3428 326.049 L454.4867 326.2743 L454.6301 326.498 L454.773 326.7202 L454.9156 326.941 L455.0577 327.1604 L455.1993 327.3783 L455.3406 327.5948 L455.4814 327.8098 L455.6218 328.0235 L455.7618 328.2357 L455.9014 328.4467 L456.0406 328.6562 L456.1793 328.8643 L456.3177 329.0712 L456.4556 329.2767 L456.5931 329.4808 L456.7303 329.6837 L456.867 329.8853 L457.0034 330.0855 L457.1393 330.2845 L457.2749 330.4822 L457.4101 330.6787 L457.5448 330.8739 L457.6793 331.0678 L457.8133 331.2606 L457.9469 331.4521 L458.0802 331.6424 L458.213 331.8315 L458.3456 332.0194 L458.4777 332.2061 L458.6095 332.3917 L458.7409 332.5761 L458.8719 332.7593 L459.0026 332.9414 L459.1329 333.1224 L459.2628 333.3022 L459.3924 333.4809 L459.5217 333.6585 L459.6506 333.8351 L459.7791 334.0105 L459.9073 334.1848 L460.0351 334.358 L460.1626 334.5302 L460.2898 334.7014 L460.4166 334.8715 L460.543 335.0405 L460.6692 335.2085 L460.795 335.3755 L460.9204 335.5414 L461.0455 335.7064 L461.1703 335.8704 L461.2948 336.0333 L461.4189 336.1953 L461.5427 336.3563 L461.6662 336.5163 L461.7894 336.6754 L461.9122 336.8335 L462.0347 336.9906 L462.1569 337.1468 L462.2788 337.3021 L462.4004 337.4565 L462.5216 337.6099 L462.6426 337.7624 L462.7632 337.914 L462.8836 338.0647 L463.0036 338.2145 L463.1233 338.3634 L463.2427 338.5115 L463.3618 338.6587 L463.4806 338.805 L463.5992 338.9504 L463.7173 339.095 L463.8353 339.2387 L463.9529 339.3816 L464.0703 339.5237 L464.1873 339.6649 L464.304 339.8054 L464.4205 339.9449 L464.5367 340.0837 L464.6526 340.2217 L464.7682 340.3589 L464.8835 340.4953 L464.9985 340.6309 L465.1133 340.7657 L465.2278 340.8997 L465.342 341.0331 L465.4559 341.1656 L465.5695 341.2973 L465.683 341.4283 L465.7961 341.5586 L465.9089 341.6881 L466.0215 341.8168 L466.1338 341.9449 L466.2458 342.0722 L466.3576 342.1988 L466.4691 342.3247 L466.5803 342.4499 L466.6913 342.5743 L466.802 342.6981 L466.9125 342.8211 L467.0227 342.9435 L467.1326 343.0652 L467.2423 343.1862 L467.3517 343.3065 L467.4609 343.4262 L467.5698 343.5452 L467.6785 343.6636 L467.7869 343.7812 L467.8951 343.8983 L468.003 344.0146 L468.1107 344.1304 L468.2181 344.2455 L468.3253 344.36 L468.4323 344.4738 L468.539 344.587 L468.6454 344.6996 L468.7516 344.8116 L468.8576 344.9229 L468.9634 345.0337 L469.0689 345.1438 L469.1742 345.2534 L469.2792 345.3623 L469.384 345.4707 L469.4886 345.5785 L469.593 345.6857 L469.6971 345.7923 L469.8009 345.8983 L469.9046 346.0038 L470.008 346.1087 L470.1112 346.213 L470.2142 346.3168 L470.3169 346.42 L470.4195 346.5227 L470.5218 346.6248 L470.6239 346.7264 L470.7257 346.8275 L470.8274 346.9279 L470.9288 347.0279 L471.03 347.1274 L471.131 347.2263 L471.2318 347.3247 L471.3323 347.4225 L471.4326 347.5199 L471.5328 347.6168 L471.6327 347.7131 L471.7324 347.8089 L471.8319 347.9043 L471.9312 347.9991 L472.0302 348.0934 L472.1291 348.1873 L472.2278 348.2806 L472.3262 348.3735 L472.4245 348.4659 L472.5225 348.5578 L472.6204 348.6493 L472.718 348.7402 L472.8155 348.8307 L472.9127 348.9207 L473.0097 349.0103 L473.1066 349.0994 L473.2032 349.188 L473.2996 349.2762 L473.3959 349.364 L473.4919 349.4513 L473.5878 349.5381 L473.6834 349.6246 L473.7789 349.7105 L473.8742 349.7961 L473.9693 349.8812 L474.0641 349.9659 L474.1588 350.0501 L474.2534 350.1339 L474.3477 350.2173 L474.4418 350.3003 L474.5357 350.3828 L474.6295 350.465 L474.7231 350.5467 L474.8165 350.628 L474.9096 350.7089 L475.0027 350.7894 L475.0955 350.8696 L475.1881 350.9493 L475.2806 351.0286 L475.3729 351.1075 L475.465 351.186 L475.5569 351.2642 L475.6487 351.3419 L475.7402 351.4193 L475.8316 351.4963 L475.9229 351.5729 L476.0139 351.6491 L476.1047 351.725 L476.1954 351.8005 L476.2859 351.8756 L476.3763 351.9504 L476.4665 352.0248 L476.5565 352.0988 L476.6463 352.1725 L476.7359 352.2458 L476.8254 352.3187 L476.9147 352.3913 L477.0038 352.4636 L477.0928 352.5355 L477.1816 352.6071 L477.2703 352.6783 L477.3588 352.7491 L477.4471 352.8196 L477.5352 352.8898 L477.6232 352.9597 L477.711 353.0292 L477.7986 353.0984 L477.8861 353.1672 L477.9734 353.2358 L478.0606 353.304 L478.1476 353.3719 L478.2344 353.4394 L478.3211 353.5066 L478.4077 353.5735 L478.494 353.6402 L478.5802 353.7065 L478.6663 353.7724 L478.7522 353.8381 L478.8379 353.9034 L478.9235 353.9685 L479.0089 354.0332 L479.0942 354.0977 L479.1793 354.1618 L479.2643 354.2256 L479.3491 354.2892 L479.4337 354.3524 L479.5182 354.4154 L479.6026 354.4781 L479.6868 354.5404 L479.7709 354.6025 L479.8548 354.6643 L479.9385 354.7258 L480.0221 354.787 L480.1056 354.848 L480.1889 354.9086 L480.2721 354.969 L480.3551 355.0291 L480.438 355.089 L480.5207 355.1485 L480.6033 355.2078 L480.6857 355.2668 L480.768 355.3256 L480.8502 355.384 L480.9322 355.4423 L481.014 355.5002 L481.0957 355.5579 L481.1773 355.6153 L481.2588 355.6725 L481.3401 355.7294 L481.4212 355.786 L481.5022 355.8424 L481.5831 355.8986 L481.6638 355.9545 L481.7444 356.0101 L481.8249 356.0655 L481.9052 356.1206 L481.9854 356.1755 L482.0655 356.2302 L482.1454 356.2846 L482.2252 356.3388 L482.3049 356.3927 L482.3844 356.4464 L482.4637 356.4998 L482.543 356.553 L482.6221 356.606 L482.7011 356.6588 L482.7799 356.7113 L482.8587 356.7635 L482.9373 356.8156 L483.0157 356.8674 L483.094 356.919 L483.1722 356.9704 L483.2503 357.0215 L483.3282 357.0724 L483.4061 357.1232 L483.4837 357.1736 L483.5613 357.2239 L483.6387 357.2739 L483.716 357.3238 L483.7932 357.3734 L483.8702 357.4228 L483.9471 357.4719 L484.0239 357.5209 L484.1006 357.5696 L484.1772 357.6182 L484.2536 357.6665 L484.3299 357.7147 L484.4061 357.7626 L484.4821 357.8103 L484.558 357.8578 L484.6338 357.9051 L484.7095 357.9522 L484.7851 357.9991 L484.8605 358.0458 L484.9359 358.0923 L485.011 358.1386 L485.0861 358.1848 L485.1611 358.2307 L485.2359 358.2764 L485.3106 358.3219 L485.3853 358.3673 L485.4597 358.4124 L485.5341 358.4574 L485.6084 358.5021 L485.6825 358.5467 L485.7565 358.5911 L485.8304 358.6353 L485.9042 358.6794 L485.9779 358.7232 L486.0515 358.7668 L486.1249 358.8103 L486.1982 358.8536 L486.2714 358.8967 L486.3445 358.9397 L486.4175 358.9824 L486.4904 359.025 L486.5631 359.0674 L486.6358 359.1096 L486.7083 359.1517 L486.7808 359.1935 L486.8531 359.2353 L486.9253 359.2768 L486.9974 359.3181 L487.0694 359.3593 L487.1413 359.4004 L487.213 359.4412 L487.2847 359.4819 L487.3562 359.5225 L487.4276 359.5628 L487.499 359.603 L487.5702 359.643 L487.6413 359.6829 L487.7123 359.7226 L487.7832 359.7622 L487.854 359.8015 L487.9247 359.8408 L487.9953 359.8799 L488.0658 359.9188 L488.1362 359.9575 L488.2064 359.9961 L488.2766 360.0346 L488.3466 360.0728 L488.4166 360.111 L488.4865 360.149 L488.5562 360.1868 L488.6258 360.2245 L488.6954 360.262 L488.7648 360.2994 L488.8341 360.3366 L488.9034 360.3737 L488.9725 360.4106 L489.0416 360.4474 L489.1105 360.4841 L489.1793 360.5206 L489.248 360.5569 L489.3167 360.5932 L489.3852 360.6292 L489.4536 360.6652 L489.5219 360.701 L489.5902 360.7366 L489.6583 360.7721 L489.7264 360.8075 L489.7943 360.8427 L489.8621 360.8778 L489.9299 360.9128 L489.9975 360.9476 L490.0651 360.9822 L490.1325 361.0168 L490.1999 361.0512 L490.2671 361.0855 L490.3343 361.1196 L490.4013 361.1537 L490.4683 361.1875 L490.5352 361.2213 L490.602 361.2549 L490.6687 361.2884 L490.7353 361.3218 L490.8018 361.355 L490.8682 361.3881 L490.9345 361.4211 L491.0007 361.4539 L491.0668 361.4867 L491.1328 361.5193 L491.1988 361.5518 L491.2646 361.5841 L491.3304 361.6164 L491.3961 361.6485 L491.4616 361.6805 L491.5271 361.7123 L491.5925 361.744 L491.6578 361.7757 L491.723 361.8072 L491.7881 361.8386 L491.8531 361.8698 L491.9181 361.901 L491.983 361.932 L492.0477 361.963 L492.1124 361.9937 L492.177 362.0244 L492.2415 362.055 L492.3059 362.0854 L492.3702 362.1158 L492.4344 362.146 L492.4986 362.1761 L492.5627 362.2061 L492.6266 362.2361 L492.6905 362.2658 L492.7543 362.2955 L492.818 362.325 L492.8817 362.3545 L492.9452 362.3839 L493.0086 362.4131 L493.072 362.4422 L493.1353 362.4712 L493.1985 362.5001 L493.2616 362.5289 L493.3246 362.5576 L493.3876 362.5862 L493.4504 362.6147 L493.5132 362.6431 L493.5759 362.6714 L493.6385 362.6996 L493.701 362.7276 L493.7635 362.7556 L493.8258 362.7835 L493.8881 362.8112 L493.9503 362.8389 L494.0125 362.8665 L494.0745 362.8939 L494.1364 362.9213 L494.1983 362.9486 L494.2601 362.9757 L494.3218 363.0028 L494.3834 363.0298 L494.445 363.0567 L494.5064 363.0834 L494.5678 363.1101 L494.6291 363.1367 L494.6904 363.1632 L494.7515 363.1896 L494.8126 363.2159 L494.8736 363.2421 L494.9345 363.2682 L494.9953 363.2943 L495.0561 363.3202 L495.1168 363.346 L495.1773 363.3718 L495.2379 363.3974 L495.2983 363.423 L495.3587 363.4485 L495.419 363.4738 L495.4792 363.4991 L495.5393 363.5243 L495.5993 363.5494 L495.6593 363.5745 L495.7192 363.5994 L495.7791 363.6243 L495.8388 363.649 L495.8985 363.6737 L495.9581 363.6983 L496.0176 363.7228 L496.0771 363.7472 L496.1364 363.7715 L496.1958 363.7958 L496.255 363.8199 L496.3141 363.844 L496.3732 363.868 L496.4322 363.8919 L496.4911 363.9157 L496.55 363.9395 L496.6088 363.9632 L496.6675 363.9868 L496.7262 364.0103 L496.7847 364.0337 L496.8432 364.057 L496.9016 364.0803 L496.96 364.1034 L497.0182 364.1265 L497.0764 364.1495 L497.1346 364.1725 L497.1926 364.1953 L497.2506 364.2181 L497.3085 364.2408 L497.3664 364.2635 L497.4242 364.286 L497.4819 364.3085 L497.5395 364.3309 L497.5971 364.3532 L497.6545 364.3755 L497.712 364.3976 L497.7693 364.4197 L497.8266 364.4417 L497.8838 364.4637 L497.9409 364.4855 L497.998 364.5074 L498.055 364.5291 L498.112 364.5507 L498.1689 364.5723 L498.2256 364.5938 L498.2824 364.6152 L498.3391 364.6366 L498.3957 364.6579 L498.4522 364.6791 L498.5086 364.7002 L498.565 364.7213 L498.6213 364.7423 L498.6776 364.7632 L498.7338 364.7841 L498.7899 364.8049 L498.846 364.8257 L498.902 364.8463 L498.9579 364.8669 L499.0137 364.8874 L499.0695 364.9079 L499.1253 364.9283 L499.1809 364.9486 L499.2365 364.9688 L499.2921 364.989 L499.3475 365.0091 L499.4029 365.0292 L499.4582 365.0492 L499.5135 365.0691 L499.5687 365.0889 L499.6238 365.1087 L499.6789 365.1284 L499.7339 365.1481 L499.7889 365.1677 L499.8438 365.1872 L499.8986 365.2067 L499.9533 365.2261 L500.008 365.2455 L500.0626 365.2647 L500.1172 365.2839 L500.1717 365.3031 L500.2261 365.3222 L500.2805 365.3412 L500.3348 365.3602 L500.3891 365.3791 L500.4433 365.3979 L500.4974 365.4167 L500.5515 365.4355 L500.6054 365.4541 L500.6594 365.4727 L500.7133 365.4913 L500.7671 365.5098 L500.8208 365.5282 L500.8745 365.5465 L500.9282 365.5648 L500.9817 365.5831 L501.0352 365.6013 L501.0887 365.6194 L501.1421 365.6375 L501.1954 365.6555 L501.2487 365.6735 L501.3019 365.6914 L501.355 365.7092 L501.4081 365.727 L501.4611 365.7448 L501.5141 365.7625 L501.567 365.7801 L501.6199 365.7976 L501.6727 365.8151 L501.7254 365.8326 L501.7781 365.85 L501.8307 365.8673 L501.8832 365.8846 L501.9357 365.9019 L501.9882 365.9191 L502.0406 365.9362 L502.0929 365.9533 L502.1451 365.9703 L502.1974 365.9872 L502.2495 366.0042 L502.3016 366.021 L502.3536 366.0378 L502.4056 366.0546 L502.4575 366.0713 L502.5094 366.088 L502.5612 366.1046 L502.6129 366.1211 L502.6646 366.1376 L502.7162 366.1541 L502.7678 366.1705 L502.8193 366.1868 L502.8708 366.2031 L502.9222 366.2194 L502.9735 366.2356 L503.0248 366.2517 L503.0761 366.2678 L503.1273 366.2839 L503.1784 366.2999 L503.2295 366.3158 L503.2805 366.3317 L503.3315 366.3476 L503.3824 366.3634 L503.4332 366.3791 L503.484 366.3948 L503.5348 366.4105 L503.5855 366.4261 L503.6361 366.4417 L503.6867 366.4572 L503.7372 366.4727 L503.7877 366.4881 L503.8381 366.5035 L503.8885 366.5188 L503.9388 366.5341 L503.989 366.5493 L504.0392 366.5645 L504.0894 366.5797 L504.1395 366.5948 L504.1895 366.6098 L504.2395 366.6248 L504.2895 366.6398 L504.3393 366.6547 L504.3892 366.6696 L504.4389 366.6844 L504.4887 366.6992 L504.5384 366.714 L504.588 366.7286 L504.6375 366.7433 L504.687 366.7579 L504.7365 366.7725 L504.7859 366.787 L504.8353 366.8015 L504.8846 366.8159 L504.9339 366.8303 L504.9831 366.8447 L505.0322 366.859 L505.0813 366.8733 L505.1304 366.8875 L505.1794 366.9017 L505.2284 366.9158 L505.2773 366.9299 L505.3261 366.944 L505.3749 366.958 L505.4236 366.972 L505.4724 366.9859 L505.521 366.9998 L505.5696 367.0136 L505.6181 367.0275 L505.6666 367.0412 L505.7151 367.055 L505.7635 367.0687 L505.8118 367.0823 L505.8601 367.0959 L505.9084 367.1095 L505.9566 367.123 L506.0047 367.1365 L506.0528 367.15 L506.1009 367.1634 L506.1489 367.1768 L506.1968 367.1901 L506.2448 367.2034 L506.2926 367.2167 L506.3404 367.2299 L506.3882 367.2431 L506.4359 367.2562 L506.4836 367.2693 L506.5312 367.2824 L506.5788 367.2954 L506.6263 367.3084 L506.6737 367.3214 L506.7212 367.3343 L506.7685 367.3472 L506.8159 367.36 L506.8632 367.3729 L506.9104 367.3856 L506.9576 367.3984\" style=\"fill:none; fill-rule:evenodd;\"\n",
       "    /></g\n",
       "  ></g\n",
       "></svg\n",
       ">\n"
      ]
     },
     "metadata": {
      "filenames": {
       "image/svg+xml": "/Users/cpjobling/code/src/github.com/cpjobling/eg-247-textbook/_build/jupyter_execute/laplace_transform/4/transfer_functions_50_0.svg"
      }
     },
     "output_type": "display_data"
    }
   ],
   "source": [
    "semilogx(w, abs(Gs))\n",
    "xlabel('Radian frequency w (rad/s')\n",
    "ylabel('|Vout/Vin|')\n",
    "title('Magnitude Vout/Vin vs. Radian Frequency')\n",
    "grid"
   ]
  },
  {
   "cell_type": "markdown",
   "id": "91574fdc",
   "metadata": {
    "slideshow": {
     "slide_type": "slide"
    }
   },
   "source": [
    "## Using Transfer Functions in MATLAB for System Analysis\n",
    "\n",
    "Please use the file [tf_matlab.m](https://cpjobling.github.io/eg-247-textbook/laplace_transform/matlab/tf_matlab.m) to explore the Transfer Function features provide by MATLAB. Open the file as a Live Script to see a nicely formatted document."
   ]
  },
  {
   "cell_type": "markdown",
   "id": "d5f30fe5",
   "metadata": {
    "slideshow": {
     "slide_type": "slide"
    }
   },
   "source": [
    "## Using Transfer Functions in Simulink for System Simulation"
   ]
  },
  {
   "cell_type": "markdown",
   "id": "56c1056e",
   "metadata": {
    "slideshow": {
     "slide_type": "fragment"
    }
   },
   "source": [
    "![Using Transfer Functions in Simulink for System Simulation](pictures/sim_tf.png)"
   ]
  },
  {
   "cell_type": "markdown",
   "id": "e142c7a7",
   "metadata": {
    "slideshow": {
     "slide_type": "fragment"
    }
   },
   "source": [
    "The Simulink transfer function (**`Transfer Fcn`**) block implements a transfer function"
   ]
  },
  {
   "cell_type": "markdown",
   "id": "708b24ea",
   "metadata": {
    "slideshow": {
     "slide_type": "subslide"
    }
   },
   "source": [
    "The transfer function block represents a general input output function\n",
    "\n",
    "$$G(s) = \\frac{N(s)}{D(s)}$$\n",
    "\n",
    "and is not specific nor restricted to circuit analysis."
   ]
  },
  {
   "cell_type": "markdown",
   "id": "07e1b189",
   "metadata": {
    "slideshow": {
     "slide_type": "fragment"
    }
   },
   "source": [
    "It can, however be used in modelling and simulation studies."
   ]
  },
  {
   "cell_type": "markdown",
   "id": "2d4e91b5",
   "metadata": {
    "slideshow": {
     "slide_type": "slide"
    }
   },
   "source": [
    "### Example\n",
    "\n",
    "Recast Example 7 as a MATLAB problem using the LTI Transfer Function block. \n",
    "\n",
    "For simplicity use parameters $R_1 = R_2 = R_3 = 1\\; \\Omega$, and $C_1 = C_2 = 1$ F.\n",
    "\n",
    "Calculate the step response using the LTI functions."
   ]
  },
  {
   "cell_type": "markdown",
   "id": "6a255aef",
   "metadata": {
    "slideshow": {
     "slide_type": "subslide"
    }
   },
   "source": [
    "Verify the result with Simulink.\n",
    "\n",
    "The Matlab solution: [example8.m](https://cpjobling.github.io/eg-247-textbook/laplace_transform/matlab/example8.m)"
   ]
  },
  {
   "cell_type": "markdown",
   "id": "2e379a84",
   "metadata": {
    "slideshow": {
     "slide_type": "subslide"
    }
   },
   "source": [
    "#### MATLAB Solution\n",
    "From a previous analysis the transfer function is:\n",
    "\n",
    "$$G(s) = \\frac{V_\\mathrm{out}}{V_\\mathrm{in}} = \\frac{-1}{R_1\\left[(1/R_1 + 1/R_2 + 1/R_3 + sC_1)(sR_3C_2) + 1/R_2\\right]}$$"
   ]
  },
  {
   "cell_type": "markdown",
   "id": "c2166810",
   "metadata": {
    "slideshow": {
     "slide_type": "subslide"
    }
   },
   "source": [
    "so substituting the component values we get:\n",
    "\n",
    "$$G(s) = \\frac{V_{\\mathrm{out}}}{V_{\\mathrm{in}}} = \\frac{-1}{s^2 + 3s + 1}$$"
   ]
  },
  {
   "cell_type": "markdown",
   "id": "ff612790",
   "metadata": {
    "slideshow": {
     "slide_type": "subslide"
    }
   },
   "source": [
    "We can find the step response by letting $v_{\\mathrm{in}}(t) = u_0(t)$ so that\n",
    "$V_{\\mathrm{in}}(s)=1/s$ then \n",
    "\n",
    "$$V_{\\mathrm{out}}(s) = \\frac{-1}{s^2 + 3s + 1}.\\frac{1}{s}$$"
   ]
  },
  {
   "cell_type": "markdown",
   "id": "c7aaca69",
   "metadata": {
    "slideshow": {
     "slide_type": "subslide"
    }
   },
   "source": [
    "We can solve this by partial fraction expansion and inverse Laplace transform\n",
    "as is done in the text book with the help of MATLAB's `residue` function.\n",
    "\n",
    "Here, however we'll use the LTI block."
   ]
  },
  {
   "cell_type": "markdown",
   "id": "f31e406c",
   "metadata": {
    "slideshow": {
     "slide_type": "subslide"
    }
   },
   "source": [
    "Define the circuit as a transfer function"
   ]
  },
  {
   "cell_type": "code",
   "execution_count": 10,
   "id": "0786c0ec",
   "metadata": {
    "slideshow": {
     "slide_type": "fragment"
    }
   },
   "outputs": [
    {
     "name": "stdout",
     "output_type": "stream",
     "text": [
      "\n",
      "G =\n"
     ]
    },
    {
     "name": "stdout",
     "output_type": "stream",
     "text": [
      " \n"
     ]
    },
    {
     "name": "stdout",
     "output_type": "stream",
     "text": [
      "       -1\n"
     ]
    },
    {
     "name": "stdout",
     "output_type": "stream",
     "text": [
      "  -------------\n"
     ]
    },
    {
     "name": "stdout",
     "output_type": "stream",
     "text": [
      "  s^2 + 3 s + 1\n"
     ]
    },
    {
     "name": "stdout",
     "output_type": "stream",
     "text": [
      " \n"
     ]
    },
    {
     "name": "stdout",
     "output_type": "stream",
     "text": [
      "Continuous-time transfer function.\n",
      "\n"
     ]
    }
   ],
   "source": [
    "G = tf([-1],[1 3 1])"
   ]
  },
  {
   "cell_type": "markdown",
   "id": "b968ad53",
   "metadata": {
    "slideshow": {
     "slide_type": "subslide"
    }
   },
   "source": [
    "step response is then:"
   ]
  },
  {
   "cell_type": "code",
   "execution_count": 11,
   "id": "67d69b89",
   "metadata": {
    "slideshow": {
     "slide_type": "fragment"
    }
   },
   "outputs": [
    {
     "data": {
      "image/svg+xml": [
       "<?xml version=\"1.0\"?>\n",
       "<!DOCTYPE svg PUBLIC '-//W3C//DTD SVG 1.0//EN'\n",
       "          'http://www.w3.org/TR/2001/REC-SVG-20010904/DTD/svg10.dtd'>\n",
       "<svg xmlns:xlink=\"http://www.w3.org/1999/xlink\" style=\"fill-opacity:1; color-rendering:auto; color-interpolation:auto; text-rendering:auto; stroke:black; stroke-linecap:square; stroke-miterlimit:10; shape-rendering:auto; stroke-opacity:1; fill:black; stroke-dasharray:none; font-weight:normal; stroke-width:1; font-family:'Dialog'; font-style:normal; stroke-linejoin:miter; font-size:12px; stroke-dashoffset:0; image-rendering:auto;\" width=\"560\" height=\"420\" xmlns=\"http://www.w3.org/2000/svg\"\n",
       "><!--Generated by the Batik Graphics2D SVG Generator--><defs id=\"genericDefs\"\n",
       "  /><g\n",
       "  ><defs id=\"defs1\"\n",
       "    ><clipPath clipPathUnits=\"userSpaceOnUse\" id=\"clipPath1\"\n",
       "      ><path d=\"M0 0 L560 0 L560 420 L0 420 L0 0 Z\"\n",
       "      /></clipPath\n",
       "      ><clipPath clipPathUnits=\"userSpaceOnUse\" id=\"clipPath2\"\n",
       "      ><path d=\"M0 0 L1119.9999 0 L1119.9999 839.9999 L0 839.9999 L0 0 Z\"\n",
       "      /></clipPath\n",
       "    ></defs\n",
       "    ><g style=\"fill:white; stroke:white;\"\n",
       "    ><rect x=\"0\" y=\"0\" width=\"560\" style=\"clip-path:url(#clipPath1); stroke:none;\" height=\"420\"\n",
       "    /></g\n",
       "    ><g transform=\"scale(0.5,0.5)\"\n",
       "    ><image x=\"0\" y=\"0\" width=\"1120\" xlink:href=\"data:image/png;base64,iVBORw0KGgoAAAANSUhEUgAABGAAAANICAIAAAAHNA4rAABXAUlEQVR42uzdDXjX\n",
       "db34f8jMu7KTdZmhpadzTsfMU2k3x3Od+l12qnM6ZWl1qoturP51+I4xpqKbQeGG\n",
       "QBuCeVA8Y5tkiuHNESSXwASC4VCmQZi6sYGAU2nENt1ioBub/3d85ofvvhtjIDe7\n",
       "eTwurq7t/f18aWyfV9fn2edmw14DAABgr2G+BQAAAAIJAABAIAEAAAgkAAAAgQQA\n",
       "ACCQAAAABBIAAIBAAgAAEEgAAAACCQAAQCABAAAIJAAAAIEEAAAgkAAAAAQSAACA\n",
       "QAIAABBIAAAAAgkAAEAgAQAACCQAAACBBAAAIJAAAAAEEgAAgEACAAAQSAAAAAIJ\n",
       "AABAIAEAAAgkAAAAgQQAACCQAAAABBIAAIBAAgAAEEgAAAACCQAAQCABAAAIJAAA\n",
       "AIEEAACAQAIAABBIAAAAAgkAAEAgAQAACCQAAACBBAAAIJAAAAAEEgAAgEACAAAQ\n",
       "SAAAAAIJAABAIAEAAAgkAAAAgQQAACCQAAAABBIAAIBAAgAAEEgAAAACCQAAQCAB\n",
       "AAAIJAAAAIEEAAAgkAAAAAQSAACAQAIAABBIAAAAAgkAAEAgAQAACCQAAACBBMCg\n",
       "8eqrr1ZWVv72t79dtGjR008/3dLS4nsCgEACYMhpamrKzc195zvfOSzJySefnJ6e\n",
       "vnnz5nizjo6OltcdzS9v9OjRJ+3HmWee+YUvfOGBBx7wQwRAIAFwGITa+Zd/+Zdh\n",
       "+3HGGWds2bIl2vLFF1+M11esWHHUvsIf/ehHww5k3LhxfpQACCQA3qjMzMw4M97z\n",
       "nveMHDnysssue/vb3x4vXnjhhd0DqbS09FgF0lv2evOb35zSSCtXrvTTBEAgAfCG\n",
       "/OM//mMUGB/60Id27twZLTY3N3/sYx+L22PHjh39JJC2bdsWLe7Zs2f16tX/8R//\n",
       "Eb909dVX+2kCIJAAOHQtLS1xYHz7299OfunOO+88/nUrVqxIJBKXXnppvPHFF198\n",
       "+eWX33vvvfH269evT09Pv+iii9797nd/7nOfmzhx4tatW+NXMzIyLt/rmWeeufXW\n",
       "Wz//+c+fccYZ//qv/xqqJnmzvgdSpLy8PH7psssuS36p968nKCsr+8EPfnD++eef\n",
       "fvrp733ve8OWU6ZM2b59+6F9zWHlyiuv/MxnPhO2+ad/+qfvfOc799xzT8o28V9Y\n",
       "WVm5YMGC8AWPGDHife9739e+9rWnnnrqoL62Pv4bARBIABycs846KwqM4cOHp6Wl\n",
       "Pfroo+3t7d03C692v/PniiuuiF7Nz89/y1vekvJqOLh/7LHHog3ia/YuuOCC7puF\n",
       "/9JDC6THH388fiknJydeP+DXM2fOnDe96U3d/0XnnHNOfM9V37/m8Le99a1v7f63\n",
       "felLX2poaIg3i//CSy65JOX7edJJJ61du7bvX1tf/o0ACCQADlqIopSD7NNOO+2r\n",
       "X/3qrFmznn322Xiz//zP//zMZz4Tb/Pxj3/8C1/4wuzZs8NL999/f7z+vve978IL\n",
       "L4w/PeWUU/785z8nt0EQjv4/+tGP/sM//EO8cuaZZ7766qsHG0jPPffct771rfil\n",
       "5cuXR+sH/Ho6Ojre8Y53RCsXXXTR9OnTR40aFV6KVr7//e+n9EzvX/Pvf//74447\n",
       "Llo88cQTw18YXoo3i/+2lL8weNvb3pb86ciRI1/b+6jAvnxtffmeAyCQADhou3bt\n",
       "+tSnPtXjo+FCFfzXf/1XfGVXj/cg7d69e8SIEdHimDFjorNPmzZtio/yJ06cmNwG\n",
       "b3nLW5YuXRq998Ybb4z/wsLCwr4E0jnnnPP3e5199tnJX+pXvvKVPXv29PHreeaZ\n",
       "Z+I3xlcJ5uXlvW2vD37wgyk90/vXHDImDpX4DM8VV1wRb9b9NNrJJ598zz33tLa2\n",
       "Pvnkk/E/5P3vf3/Ypi9fWx+/5wAIJAAORTjCvv322z/5yU/2eB3d+eef38tDGioq\n",
       "KuIr9B5//PHK11122WVxNiS3QcqdTuedd160/o1vfKMvgdSjj3zkI01NTX3/erZt\n",
       "2xa/94QTTvj+979/5513hsBI+e/ty9cc8jK+HK6goCDeJjRMnCshb1L+wu9973vx\n",
       "lj/84Q/jagqf9uVr6+P3HACBBMAbEhIoHI5/97vfPe2005ILJD8/f3+BdNttt/Ve\n",
       "L8cff3xyG/zv//5v8n/jmDFjovWPfexjfQmkESNG/N1eKV/hxRdffFBfT2ieHm/y\n",
       "mTx5cvxrcPvyNa9duzZ++9NPP5282ec///loPXw/U/7C66+/Pt7s5ptvjhaPO+64\n",
       "aOWAX1sf/40ACCQADk7onLy9pk+f3traGq+Hj6dMmRIfcIdj/f0F0owZMw74W1wb\n",
       "GxvjNvjlL3+Z/AVkZWVF66F5+hJI8T1I7e3tq1evjk/mBOHTvn89bW1t4Sv51Kc+\n",
       "1f33KX32s5/t6OhI7plevuZHHnkkfmN1dXXyZl/5ylfiy/9SAummm26KNysuLk4J\n",
       "pAN+bX38N9q9AQQSAAcn+VC7oqIi5dW//du/jX9F0v4C6aGHHoov9/rTn/7U0JNw\n",
       "TB+3wfjx45P/K772ta/Fh/4HFUiR5HMpv/jFL/r+9cR/Q1NT029+85uMjIy/+Zu/\n",
       "if+qZ555Jrlnevma6+rq4nctXrw4ebMPfvCD0fq11157UIF0wK/tYP+NAAgkAPpk\n",
       "1apV8ZH3P//zPyc/k/qJJ544/vjjk++ZSQ6k22+/PdqstrY2vnPp7rvvjt9+3333\n",
       "/ctel19+eXIbnHXWWS+99FK0zZYtW0444YRoPWTAIQRSY2Nj/FJWVlYfv57CwsK3\n",
       "7vXxj3883iD5XNCKFSv6/jWffvrp0adf/vKX4yxZtmxZ/Lf9+te/7nsg9eVr6+P3\n",
       "HACBBMDB2b17d/JVaqeccsqll1763//935/73OfiOgoefPDBsHHIp3jljDPOiH8X\n",
       "6g9+8IP4aW+XXHLJzTffHJLmxBNPTL6BJ/kJ1x/60IemT5+el5f33ve+N35cXlVV\n",
       "1SEEUnDyySdHL4UvO1o54NeT/KS4q666KjTP5s2bv//970crb37zm3fu3Nn3r/mW\n",
       "W25J/sVHs2fP/ulPfxr/WqRzzz03foJ5XwKpj19bX77nAAgkAA5aOASPz4H0aNy4\n",
       "cfHG8UV3yb8odseOHSnryc9OeOWVV5LboMdfgXrllVf28hX2Hkjnn39+ykV6ffl6\n",
       "vvGNb+zv3zt27NiUnun9a25vbw892eNfFTKpvLw8/lL7eIldX762vvwbARBIAByK\n",
       "UB3Z2dmnnnpqyqH2Rz/60QULFiTfzVJRUXHBBRekBFLwl7/8ZfTo0fHvM41+C2p4\n",
       "tfsT4aZOnfrNb34z/s2qp5122vTp03v/8pJ/lW33X4F6+eWXxw/Fji+EO+DX09bW\n",
       "9rOf/eyMM85I/veGT3NycuJ/b9+/5tBIoXne9a53JT9H7pJLLtm6dWvyZj0G0u23\n",
       "3979IQ0H/Nr68m8EQCABcOheeeWV6urq0tLS+fPn//73v+/lMWi7du0KTVVXVxcO\n",
       "5VM6YePGjUuXLn3qqafCNr20QTi4X7VqVfivO6LPEujl64lTpKamZuVe4YuJftXs\n",
       "G/maw7fld7/7XfivS34k4KHp/Wvr+78RAIEEQL/T48kTXzMAAgkAgeRrBkAgATCE\n",
       "vfOd73zzXjNnzvQ1AyCQAAAABBIAAIBAAgAAEEgAAAACCQAAQCABAAAIJAAAAIEE\n",
       "AAAgkOj/Wlpaqqury8vLKysrm5ubfUMAAEAgDVGrV6/OzMwc9br09PTFixf7tgAA\n",
       "gEAacmpqahKJROiioqKisrKyuXPnRp9WVFT45gAAgEAaWmbOnBlyaN68efHKkiVL\n",
       "wkpOTo5vDgAACKQhpK2tLT09PeRQQ0NDvNja2jpmzJiwWF9f71sEAAACaaioq6sL\n",
       "IZSVlZWynp+fH9YrKyt9iwAAQCANFTU1NSGEpk6dmrJeUFAQ1tesWdPLe3NLN/sG\n",
       "AgCAQBo8NmzYEEIoPz8/ZX3OnDlhvby8vJf3fizj5vdccfcoAAAGkRkzZjhIFkhD\n",
       "V1VVVY+BVFRUdMBAChus2NToPNJQE37uvgl+9PjR40ePHz0CaXDauHFjmIFJkyal\n",
       "rM+aNeuAT/qOhicEkkbyP5r40eNHjx89fvQIpMFgx44dYQYyMjI6OjqS1ydOnBjW\n",
       "q6ur+zI8F9+6dsWmRt9M/6OJHz1+9PjR40cvkBjY2tvbMzMzwxhs3bo1XmxqakpL\n",
       "S0skEuGDvgxPqKPQSL6Z/kcTP3r86PGjx49eIDHgFRYWRnfjxSeRoic05OXl9X14\n",
       "nETyP5r40eNHjx89fvQIpMGgrq4u+rWwWVlZxcXFEyZMCB8nEoner69LGR4nkfyP\n",
       "Jn70+NHjR48fPQJpkNi0aVNubm78bMfx48evX7/+YIdn2LjlvpP+RxM/evzo8aPH\n",
       "j14gYXj+ylV2Q0RJSYlvgh89fvT40SOQEEgcYHhcZQcAIJAEEoZnHyeRAAAEkkDC\n",
       "8HRyEgkAQCAJJAyPQAIAEEgIJMPTjavsAAAEkkDC8HRyEgkAQCAJJAyPQAIAEEgC\n",
       "CcPTjavsAAAEkkDC8AgkAACBJJAwPF25yg4AQCAJJAxP0p4xbrnvDwCAQBJIGJ6/\n",
       "cpUdAIBAEkgYnk6usgMAEEgCCcMjkAAABJJAwvB03znchgQAIJAEEoYn4jYkAACB\n",
       "JJAwPJ1cZQcAIJAEEoZHIAEACCSBhOHpvn+4DQkAQCAJJAxPxG1IAAACSSBheDq5\n",
       "yg4AQCAJJAyPQAIAEEgCCcPTfRdxGxIAgEASSBieiNuQAAAEkkDC8HRylR0AgEAS\n",
       "SBgegQQAIJAEEoan+17iNiQAAIEkkDA8EbchAQAIJIGE4emUW7o5/PHtAgAQSAIJ\n",
       "w+M2JAAAgSSQMDzJO4rbkAAABJJAwvBE3IYEACCQBBKGRyABAAgkgYTh6cptSAAA\n",
       "AkkgYXgEEgCAQBJIGJ7u+4rnNAAACCSBhOGJuA0JAEAgCSQMj0ACABBIAgnD05Xb\n",
       "kAAABJJAwvAIJAAAgSSQMDzddxfPaQAAEEgCCcMTcRsSAIBAEkgYnk65pZvDH983\n",
       "AACBJJAwPG5DAgAQSAIJw5O8x7gNCQBAIAkkDE/EbUgAAAJJIGF4BBIAgEASSBie\n",
       "rtyGBAAgkAQShkcgAQAIJIHEsdPS0lJdXV1eXl5ZWdnc3NzHd9XV1a1cuXLnzp1H\n",
       "bng8pwEAQCAJJI6q1atXZ2Zmjnpdenr64sWL+/LGoqKisP3GjRuP3PC4DQkAQCAJ\n",
       "JI6empqaRCIR9uxQO2VlZXPnzo0+raio6OVdu3fvfvDBB6OgEkgAAAIJgTRIzJw5\n",
       "M+zW8+bNi1eWLFkSVnJycnrc/qmnnpo0adKYMWPiM05HNJDchgQAIJAEEkdJW1tb\n",
       "enp62K0bGhrixdbW1qh/6uvrewyk6143evRogQQAIJAQSINEXV1d2KezsrJS1vPz\n",
       "88N6ZWVl72+fNWvWkQ6k1zynAQBAIAkkjo6ampqwT0+dOjVlvaCgIKyvWbPm8AZS\n",
       "j0pKSnp/o9uQAACOrXDANmr/fH8E0uCxYcOGsE/n5+enrM+ZMyesl5eXH95AOrQv\n",
       "UiABAPRbAkkgDUi7du26q6sFCxaE9aqqqh4DKXp+dz8JJLchAQAIJIHE4dTY2Jhy\n",
       "JjQ7Ozush7YJH0+aNKnH8un9Sd8CCQAAgSSQBqS2traarmpra8P6jh07wj6dkZHR\n",
       "0dGRvP3EiRPDenV1dX8IpNc8pwEAQCAJJI6C9vb2zMzMsFtv3bo1XmxqakpLS0sk\n",
       "EuGDfhJIbkMCABBIAomjobCwMOzWM2bMiE8iRU9oyMvLiz6tra19eC+BBACAQBJI\n",
       "g1xdXV30a2GzsrKKi4snTJgQPk4kEvH1daWlpft7gONRCyS3IQEACCSBxFGyadOm\n",
       "3Nzc+PkN48ePX79+ffxqFEhpaWnd3xj9uiSBBAAgkBBIHNXh8ZwGAACBJJAwPJ3c\n",
       "hgQAIJAEEoZHIAEACCSBhOHpKrd0c/jj2wgAIJAEEobHcxoAAASSQMLwJO9AntMA\n",
       "ACCQBBKGJ+I2JAAAgSSQMDwCCQBAIAkkDE9XntMAACCQBBKGp5PnNAAACCSBhOFJ\n",
       "2oc8pwEAQCAJJAxPxG1IAAACSSBheAQSAIBAEkgYnq48pwEAQCAJJAxPJ89pAAAQ\n",
       "SAIJwyOQAAAEkkDC8HTfjTzIDgBAIAkkDE/EcxoAAASSQMLwdPKcBgAAgSSQMDyd\n",
       "3IYEACCQBBKGRyABAAgkgYTh6b4neU4DAIBAEkgYnojnNAAACCSBhOERSAAAAkkg\n",
       "YXi6chsSAIBAEkgYHoEEACCQBBKGp/vO5DkNAAACSSBheCJuQwIAEEgCCcMjkAAA\n",
       "BJJAwvB05TYkAACBJJAwPAIJAEAgCSQMT/f9yXMaAAAEkkDC8ETchgQAIJAEEoZH\n",
       "IAEACCSBhOHpKrd0c/jjGwsAIJAEEobHcxoAAASSQMLwCCQAAIEkkDA8PexSHmQH\n",
       "ACCQBBKGJ+I5DQAAAkkgYXg6eU4DAIBAEkgYnk5uQwIAEEgCCcMjkAAABJJAwvB0\n",
       "36s8pwEAQCAJJAxPxHMaAAAEkkDC8AgkAACBJJAwPF25DQkAQCAJJAyPQAIAEEgC\n",
       "CcPTfcfynAYAAIEkkDA8EbchAQAIJIHE4dTS0lJdXV1eXl5ZWdnc3NyX7Tds2BC2\n",
       "r6qqCh8LJAAAgYRAGiRWr16dmZk56nXp6emLFy/e38YdHR1Lly4N28Tbh/cuW7bs\n",
       "GA6P25AAAASSQOLwqKmpSSQSYc8uKioqKyubO3du9GlFRUWP24dtwqujR4++9957\n",
       "V61addttt0XbP/HEEwIJAEAgIZAGtpkzZ4bdet68efHKkiVLwkpOTk73jdvb26+5\n",
       "5pqUfHrwwQfDyg033HAMh8dzGgAABJJA4o1qa2uLLpZraGiIF1tbW8eMGRMW6+vr\n",
       "U7bfvn17WP/JT37S0dERL4bNwuLYsWOP4fC4DQkAQCAJJN6ourq6sE9nZWWlrOfn\n",
       "54f1ysrKlPXa2trrrrvuV7/6Vcpi2Dg7O1sgAQAIJATSAFZTUxP26alTp6asFxQU\n",
       "hPU1a9b05S+5/fbbw8bhLcdweHJLN4c/fqAAAAJJIHHoNmzYEPbp/Pz8lPU5c+aE\n",
       "9fLy8t7f3tHRcf/990cPvtu2bdsBh6dHJSUlb/wf4jkNAABHTjhgG7V/vj8CaeDZ\n",
       "tWvXXV0tWLAgrFdVVfUYSEVFRQcMpFBE0ZV4GRkZTz/99LH9fxcEEgDAMSGQBNKA\n",
       "1NjYmBL60S1DGzduDB9PmjQpZftZs2b18qTv9vb2RYsWRU93CI1UV1fXH4bHg+wA\n",
       "AASSQKJP2traarqqra0N6zt27IhOASU/lS6YOHFiWK+uru7xr5o9e3Z49Yorrli1\n",
       "alXKG4/h8HhOAwCAQBJIvCHt7e2ZmZlht966dWu82NTUlJaWlkgkwgfd3xLddJSb\n",
       "m9vY2NivhsdzGgAABJJA4o0qLCwMu/WMGTPic0HRExry8vKiT2trax/e67W9l+ql\n",
       "p6ePHTu2x3Y6tsPjNiQAAIEkkHij6urqol8Lm5WVVVxcPGHChPBxIpGIr68rLS2N\n",
       "n0/y2GOPRb8T9qZu7rjjDoEEACCQEEgD3qZNm3Jzc+PnN4wfP379+vXxq1EgpaWl\n",
       "hY/vvffe/T3e8Wc/+9kxHx7PaQAAEEgCCcPTyXMaAAAEkkDC8AgkAACBJJAwPF25\n",
       "DQkAQCAJJAyPQAIAEEgCCcPTfSfznAYAAIEkkDA8EbchAQAIJIGE4RFIAAACSSBh\n",
       "eLpyGxIAgEASSBgegQQAIJAEEoan+37mOQ0AAAJJIGF4Im5DAgAQSAIJwyOQAAAE\n",
       "kkDC8HTlNiQAAIEkkDA8AgkAQCAJJAxP913NcxoAAASSQMLwRNyGBAAgkAQShkcg\n",
       "AQAIJIGE4ekqt3Rz+ON7DgAgkAQShsdzGgAABJJAwvAk722e0wAAIJAEEoYn4jYk\n",
       "AACBJJAwPAIJAEAgCSQMT1ee0wAAIJAEEoank+c0AAAIJIGE4RFIAAACSSBheLrv\n",
       "cB5kBwAgkAQShifiOQ0AAAJJIGF4OnlOAwCAQBJIGJ5ObkMCABBIAgnDI5AAAASS\n",
       "QMLwdN/nPKcBAEAgCSQMT8RzGgAABJJAwvB08pwGAACBJJAwPJ3chgQAIJAEEoZH\n",
       "IAEACCSBhOHpvtt5TgMAgEASSBieiOc0AAAIJIGE4enkOQ0AAAJJIGF4OrkNCQBA\n",
       "IAkkDI9AAgAQSAIJw9N9z/OcBgAAgSSQMDwRz2kAABBIAgnD08lzGgAABJJAwvB0\n",
       "chsSAIBAEkgYHoEEACCQBBKGp/vO5zkNAAACSSBheCKe0wAAIJAEEoank+c0AAAI\n",
       "JIGE4enkNiQAAIEkkDA8AgkAQCAJJA5SS0tLdXV1eXl5ZWVlc3PzAbd/+eWXn3rq\n",
       "qbB9VVXV7t27B8TweE4DAIBAEkgc2OrVqzMzM0e9Lj09ffHixfvbuL29feHChWlp\n",
       "afH2V111VSil/j88ntMAACCQBBIHUFNTk0gkwp5dVFRUVlY2d+7c6NOKiooet1+x\n",
       "YkV4dezYsQ888MDSpUtvvPHG8GnopWeffbafD4/nNAAACCSBxAHMnDkz7Nbz5s2L\n",
       "V5YsWRJWcnJyetw+KysrvFpVVRWv5Ofnh5X777+/nw+P25AAAASSQKI3bW1t6enp\n",
       "YbduaGiIF1tbW8eMGRMW6+vrU7Z/+eWXw/rEiROTF5ctWxYWCwoKBBIAgEBCIA1g\n",
       "dXV1YZ/OyspKWY9OClVWVqasNzc3r1q16sknn0xeDGkUNv7d737X/4fHcxoAAASS\n",
       "QGK/ampqwj49derUlPWoedasWdPLezdt2lReXh5doTd58uSdO3cecHh6VFJSctT+\n",
       "vZ7TAABwCMIB26j98/0RSIPHhg0bwj6dn5+fsj5nzpyw3vuz6aZPnx5Pxbp16wbE\n",
       "/7vgOQ0AAIeXQBJIA9KuXbvu6mrBggVhvaqqqsdAKioqOmAgPfvss2vXrl24cGH0\n",
       "iPD77ruv/w+P25AAAASSQOK1xsbGlDOh2dnZYX3jxo3h40mTJqVsP2vWrF6e9N29\n",
       "lBKJxNixY9va2vr/8LgNCQBAIAmkoS6kS01XtbW1YX3Hjh1hn87IyOjo6EjefuLE\n",
       "iWG9uro65e9Zv379HXfc0f2Cutzc3B6374fD4zYkAACBJJDoWXt7e3SB3NatW+PF\n",
       "pqamtLS0RCIRPkjZfvXq1dEjGVLWx48fH9aj6BJIAAACCYE0UBUWFobdesaMGfFJ\n",
       "pOgJDXl5edGnIXse3it8/MILL0RX6G3cuDH+G5YuXRpWxo4du2fPnv4/PJ7TAAAg\n",
       "kAQS+1VXVxf9WtisrKzi4uIJEyaEjxOJRHy9XGlpafIDHOfOnRs+Tk9PLyoquvfe\n",
       "e6PfmBQ8+uijA2J4PKcBAEAgCSR6s2nTpugmosj48ePXr18fvxoFUlpaWvRpW1vb\n",
       "okWLogvzIjk5OWvXrh1Aw+M5DQAAAkkgYXg6uQ0JAEAgCSQMj0ACABBIAgnD05Xb\n",
       "kAAABJJAwvAIJAAAgSSQMDzd90XPaQAAEEgCCcMTcRsSAIBAEkgYHoEEACCQBBKG\n",
       "pyu3IQEACCSBhOERSAAAAkkgYXi6746e0wAAIJAEEoYn4jYkAACBJJAwPJ1ySzeH\n",
       "P34uAAACSSBheNyGBAAgkAQShkcgAQAIJIGE4enObUgAAAJJIGF4BBIAgEASSBie\n",
       "rjynAQBAIAkkDE8ntyEBAAgkgYThSdop/bpYAACBJJAwPBG3IQEACCSBhOERSAAA\n",
       "AkkgYXi6chsSAIBAEkgYHoEEACCQBBKGp/t+6TkNAAACSSBheCJuQwIAEEgCCcPT\n",
       "ya+LBQAQSAIJw9PJbUgAAAJJIGF4knZNtyEBAAgkgYThibgNCQBAIAkkDI9AAgAQ\n",
       "SAIJw9OV25AAAASSQMLwCCQAAIEkkDA83fdOz2kAABBIAgnDE3EbEgCAQBJIGB6B\n",
       "BAAgkAQShqcrtyEBAAgkgYThEUgAAAJJIGF4unGVHQCAQBJIGB6BBAAgkAQShqcr\n",
       "V9kBAAgkgYThEUgAAAJJIGF4uu+jfl0sAIBAEkgYnojbkAAABJJAwvB0yi3dHP74\n",
       "YQEACCSBhOFxGxIAgEASSBie5N3UbUgAAAJJIGF4Im5DAgAQSAIJwyOQAAAEkkDC\n",
       "8HTlNiQAAIEkkIa6lpaW6urq8vLyysrK5ubmvr/x5ZdfXrly5datWwUSAIBAQiAN\n",
       "BqtXr87MzBz1uvT09MWLF/fljR0dHTfddFN4S0lJyWAaHs9pAAAQSAJpiKqpqUkk\n",
       "EmHPLioqKisrmzt3bvRpRUXFAd+7bNmyqKkGWSC5DQkAQCAJpCFq5syZYbeeN29e\n",
       "vLJkyZKwkpOT0/sbX3zxxTFjxowdO3bwBZJfFwsAIJAE0lDU1taWnp4eduuGhoZ4\n",
       "sbW1NZRPWKyvr+/ljZMnT7766qtXrFgx+ALJbUgAAAJJIA1FdXV1YZ/OyspKWc/P\n",
       "zw/rlZWV+3vj/Pnzwwbr1q174oknBl8gveY2JAAAgSSQhqCampqwT0+dOjVlvaCg\n",
       "IKyvWbOmx3dVV1cnEok5c+aEjwdrILkNCQBAIAmkIWfDhg1hn87Pz09ZD/ET1svL\n",
       "y7u/ZdeuXT/5yU+ys7NbWloONpB61Jf3CiQAgGMoHLCN2j/fH4E08ISquaurBQsW\n",
       "hPWqqqoeA6moqGh/gRS109NPPx19OljPILkNCQCgLwSSQBqQGhsbU0I/Ozs7rG/c\n",
       "uDF8PGnSpJTtZ82a1eOTvteuXRvWi4uLd7/uscceCysPPPBA+HjPnj2DaXjchgQA\n",
       "IJAE0uDU1tZW01VtbW1Y37FjR9inMzIyOjo6krefOHFiWK+urk75e+67775ezq6u\n",
       "WLFiMA2Pq+wAAASSQBpa2tvbMzMzw269devWeLGpqSktLS2RSIQPUrZ//PHHC7q6\n",
       "/vrro1+aFD6Or7sTSAAAAgmBNCAVFhaG3XrGjBnxSaToLqO8vLzo09ra2of36vHt\n",
       "g/UepNfchgQAIJAE0hBUV1cX/VrYrKys4uLiCRMmhI8TiUR8fV1paWkvzycRSAAA\n",
       "AgmBNKhs2rQpNzc3vpVo/Pjx69evj1+NAiktLa3H965bty68+tBDDw3K4fGcBgAA\n",
       "gSSQMDyd3IYEACCQBBKGp5Or7AAABJJAwvAIJAAAgSSQMDzd91q3IQEACCSBhOGJ\n",
       "uA0JAEAgCSQMT6fc0s3hjx8fAIBAEkgYHrchAQAIJIGE4Unecd2GBAAgkAQShifi\n",
       "NiQAAIEkkPq11tbWkpKSGTNmZGdnh0/Xrl3b3NxseI4QtyEBAAgkgdR/5eXlnX76\n",
       "6cNeF1Y++9nPnnTSSddff73hORLchgQAIJAEUj81bty4qItGjBgRB9LXvva16OPJ\n",
       "kycbniOy77oNCQBAIAmk/mbVqlWhgo477rji4uLw6RlnnBEF0quvvjplypTw8amn\n",
       "ntrU1GR4Dju3IQEACCSB1O9cf/31oYKysrKiT+NAinzgAx8In5aXlxsegQQA4BhP\n",
       "IA1+X/jCF0ICrVq1qsdA+tGPfhQ+vfvuuw3PYec2JAAAgSSQ+p3vfe97IYEeeuih\n",
       "HgMpyidnkI7U7us2JAAAgSSQ+pWZM2eGBAoh1D2Q/vCHP5xwwgnDhw/vt8/7HujD\n",
       "4yo7AACBJJD6l/r6+jPPPDNE0Ze+9KVHH330tNNOCx8///zzt91223ve857w8be/\n",
       "/W3DI5AAABzjCaShYuXKlW9961uH9eTcc8/tz78udqAPj9uQAAAEkkDqj1588cXv\n",
       "fve773jHO+I0Ovvss2+88cZXXnnF8BzZPdhtSAAAAkkg9Vvbtm1bu3ZtfX294Tk6\n",
       "XGUHACCQBBKGRyABAAgkgdQ/XHrppecfjBdeeMHwHCFuQwIAEEgC6Rg777zzhh2M\n",
       "LVu2GJ4juBO7DQkAQCAJpGNo5cqVJUn+7d/+LVTQySefPHr06Hnz5i1evLioqOgz\n",
       "n/lMVEezZ8/etWuX4TlyXGUHACCQBFJ/8cQTTwwfPvy0007bsGFDykv/8z//EwLp\n",
       "vPPO6+joMDwCCQDAMZ5AGvzGjBkTKuimm27q8dWPfexj4dVnn33W8Bw5bkMCABBI\n",
       "Aqm/iK6ve+SRR3p89cc//nF4df78+YbnyO7HbkMCABBIAqk/+MY3vhES6K677urx\n",
       "1Ysvvji8unz5csNzRLnKDgBAIAmkfuGGG24ICfSJT3xi586dKS8tWrTouOOOGz58\n",
       "eFNTk+ERSAAAjvEE0uBXXV19yimnhEb6yEc+8qtf/WrTpk1//vOf165de/XVV590\n",
       "0klh/atf/arhOdLchgQAIJAEUn8xb9684cOH9/gbkM4999x+e/pokA2P25AAAASS\n",
       "QOov1q1b9+Uvf/mEE06I0+iss86aNm1aS0uL4Tk6XGUHACCQBFL/0t7e/txzzz35\n",
       "5JPNzc2G5yjLLd0c/tgJAQAEkkA6llpaWnYcSAgnw3OkuQ0JAEAgCaRjLycnZ9iB\n",
       "bNmyxfAcjb3ZbUgAAAJJIPXzQDrttNP+9Kc/GZ6jwG1IAAACSSAdY62trTu72bx5\n",
       "85133nn22We/853vXLduneE5OtyGBAAgkARS//Xss8++7W1vO+OMMzo6OgzPUeA2\n",
       "JAAAgSSQ+rWvf/3rw4YNq6ysNDxHaYd2GxIAIJAEkkDqt771rW+FQLrnnnsMz9Hh\n",
       "NiQAAIEkkPqphoaGU045JQTSqlWrDM/R4So7AACBJJCOpaVLl17bk5EjR5588smh\n",
       "jsJ/NjY2Gh6BBADgGE8gDX69P+b7TW9602233WZ4jiZX2QEAAsk3QSAdMyUlJWk9\n",
       "ufLKK2fMmLFx40bDI5AAABzjCSQMz7HhKjsAwDGeb4JAOmaWLVs2fvz4ioqKHl8t\n",
       "KCgIr7oHSSABADjGE0hDQnQP0uzZs3t89ZOf/GR4dcuWLYbnaHKVHQAgkBBIR9Uj\n",
       "jzyyfK/LL788JNBVV121vJuFCxe+/e1vD69u27bN8AgkAADHeAJp0Dr99NOH9U1o\n",
       "pLa2tkP4r2hpaamuri4vL6+srGxubu594/r6+he7OeC7BuvwuMoOABBICKSj6hOf\n",
       "+MT793rHO94RKuhd73rX+7v5+7//+09/+tP33XffIfz9q1evzszMHPW69PT0xYsX\n",
       "97J9Tk7OqG4WLlw4ZIdn2Ljl9lIAQCAhkI623u9BOjQ1NTWJRCLs2UVFRWVlZXPn\n",
       "zo0+3d+jIFpbW9PS0rKzs+/t6qmnnhqyw+MqOwBAICGQjoHCwsILL7xw/vz5h/Hv\n",
       "nDlzZtit582bF68sWbIkrIQY63H75557Lrz6q1/9yvDEcks3hz/2TwBAICGQBra2\n",
       "trb09PSwWzc0NMSLra2tY8aMCYv19fXd3/Loo4+Gl5YtW2Z4Ym5DAgAEEgLpKLnu\n",
       "uuu+853vTJ8+PXw8f/787xzIn//8577/5XV1dWGfzsrKSlnPz88P65WVld3fct99\n",
       "94WX1q1bt2rVqvvvvz+U0ubNmw2P25AAAIGEQDoazjvvvGHDhn3xi1987fV7kHp3\n",
       "UL8HqaamJuzTU6dOTVkvKCgI62vWrOn+lptuuil6kEPyExpuu+22Az49b3APj9uQ\n",
       "AACBhEA6GmbPnj1lypR77rknfLxq1aopB/Lyyy/3/S/fsGFD2Kfz8/NT1ufMmRPW\n",
       "y8vLu7/l6quvDi9NmzYt5FN1dfXChQujWOrLU+x6VFJSMgh+TK6yAwAGsXDANmr/\n",
       "fH8E0sCza9euu7pasGBBWK+qquoxkIqKinoMpPb29ocffnjp0qXJ54sef/zx6JxS\n",
       "eHXI/r8LAgkAGJoEkkAakBobG1NCPzs7O6xv3LgxfDxp0qSU7WfNmtXLk767C39b\n",
       "2H7btm1DeXhcZQcACCQE0hEX2uM7B6PHhzS0tbXVdFVbWxvWd+zYEfbpjIyMjo6O\n",
       "5O0nTpwY1qurq1P+nrDZ7t27u99uNHny5P091EEgAQAIJATSYRM9pKHvDuohDe3t\n",
       "7ZmZmWG33rp1a7zY1NSUlpaWSCTCBynbr127NmxcWFiYvNja2jp27Nj9PRZ86AyP\n",
       "q+wAAIGEQDri5syZM+VgHNRDGl7b+8tnw249Y8aM+CRS9ISGvLy86NPa2tqH9wof\n",
       "hwQKL40ePbqmpiZ6NbzrnnvuCYu5ubmGx8O+AQCBhEAa2Orq6qJfC5uVlVVcXDxh\n",
       "woTwcSKRiK+vKy0tTX4+yd133x0+TktLKygouPfee6dOnRo9oWHTpk2Gx1V2AIBA\n",
       "QiAdAzt37ly+fPns2bMnT5585513rlmzJuUmooMS2iY3Nzd+fsP48ePXr18fvxoF\n",
       "Uiii6NM9e/YsWrToyiuvjDYO69OmTXv++ecNz2uusgMABBIC6Shrb2//xS9+cfrp\n",
       "p6fcenTBBRcsXbrU8AgkAADHeAJpCMnOzo6K6Pjjjz/33HMvuuiiM888M1559NFH\n",
       "Dc+x5So7AEAgIZCOkrKysqiFfvzjHyf/0qHHHnvswgsvDOtnn3224RFIAACO8QTS\n",
       "kHDdddeFCvr617/e/aX6+vrourvNmzcbnmPIVXYAgEBCIB0lX/ziF0MC/eY3v+nx\n",
       "1W9+85vh1fnz5xueY7yje9g3ACCQEEhHQZRAy5Yt6/HVkSNHhlcfeOABw3NsucoO\n",
       "ABBICKSjIT8/PyTQNddc0/2lnTt3jhgxIrz6wgsvGJ5jy1V2AIBAQiAdDbW1tWed\n",
       "ddbw4cNnz569Z8+eeH379u3R1XcjR440PAIJAMAxnkAaEh588MH/9//+X/Qgu3PO\n",
       "Oefb3/726NGjL7nkkhNPPDFa/O53vzsqSWlpqeE5JlxlBwAIJATSEZeTkzPsYEyb\n",
       "Ns3wCCQAAMd4AmlwWrZs2fiDUVZWZniOCVfZAQACCYGE4Una3T3sGwBwjIdAwvBE\n",
       "XGUHADjGQyAdcY2Njbfccsvo0aP/v/3YsWOH4ekPXGUHAAgkBNKRVV9ff8455/T+\n",
       "YIYtW7YYHoEEAOAYTyANfpMmTQoJdNxxx1166aXXXnvtz3ry0ksvGZ5+wlV2AIBA\n",
       "QiAdQZdddlkIpLy8PMMjkAAAHOMJpKHu3//930MgrVq1yvAMCK6yAwAEEgLpCIp+\n",
       "UexPf/pTwzNgdnoP+wYABBIC6Qj5wx/+cMIJJ7z3ve/dsGGD4RkQXGUHAAgkBNIR\n",
       "dO+990ZPq7vooovG9qShocHw9B+usgMABBIC6UjZvn37Bz7wAY/5HmD7vavsAACB\n",
       "hEA6EqZPnx4SaPjw4Z/97GfHjh07rifOIPU3rrIDAAQSAumI+OpXvxoCacqUKYZn\n",
       "AHGVHQAgkBBIR8TXv/71EEiPPfaY4RFIAACO8QTSUHfjjTeGQCosLDQ8A4ur7AAA\n",
       "gYRAOvxqa2tHjBhx+umn19TUGJ4BJLd0c/hjBwYABBIC6XCqqKhIJBLDhg074YQT\n",
       "Ro4ceW1PGhsbDU9/4yo7AEAgIZAOv5ycnGEH4jHf/ZOr7AAAgYRAOsxKSkrSDqS+\n",
       "vt7wCCQAAMd4Ammo27BhQ3Z29vbt2w1PP+QqOwBAICGQjoaWlpY77rjj05/+tEvs\n",
       "+vsAjFtudwUABBIC6UhZu3bt6NGj3/72t8c3IA0fPry2ttbw9E+usgMABBIC6fB7\n",
       "+eWXb7311gsuuCD52Qwf+tCH8vPz+20dGZ7XXGUHAAgkBNLhVVZW9r3vfe+kk05K\n",
       "TqNLL7103bp1hmdgzICr7AAAgYRAeoPq6uqmTZv2gQ98II6i0Ejf/OY3L7zwwvBx\n",
       "UVGR4RkoXGUHAAgkBNIbkkgkjj/++KiL3vSmN33uc5+7/fbbm5ubw0s//OEPBdLA\n",
       "4io7AEAgIZDekPPOOy9U0Fve8pYbbrhh27ZtyS8JpAE5Bq6yAwAEEgLpDQZSMGLE\n",
       "iGuuuebJJ58USAOaq+wAAIGEQDp01dXV2dnZ7373u+MbkD784Q9Pnz79xRdfFEgD\n",
       "kavsAACBhEB6o9ra2h544IEvfelLxx13XHw/0oknnhg+KCwsNDwCCQDAMZ5AGope\n",
       "eOGFKVOmvP/9749PKJ166qk//vGPH3nkEcMzULjKDgAQSAikw6mjo2P58uUjR448\n",
       "4YQT4lL6u7/7u+uvv37Xrl2Gp59zEgkAEEgIpCOioaFh5syZH/7wh+NM2rJli+ER\n",
       "SAAAjvEE0pD2+OOPh73z1FNPfe655wxP/+cqOwBAICGQjrjdu3cbngHBSSQAQCAh\n",
       "kAwPAgkAcIyHQMLwdOMqOwDAMZ5AwvDQyUkkAMAxnkDC8CCQAADHeAik/q2lpaW6\n",
       "urq8vLyysrK5ubkvb9m5c+e6desqKiqef/55w3NoXGUHAAgkgUS/s3r16szMzFGv\n",
       "S09PX7x4ce9pdMMNNyQSifgtt9xyy6uvvmp4DpaTSACAQBJI9C81NTVR6hQVFZWV\n",
       "lc2dOzf6tKKiosftd+/ePXXq1LDBlClTHnroobvvvvuqq64Kn4YPDI9AAgAEEgJp\n",
       "YJs5c2bYrefNmxevLFmyJKzk5OT0uH1paWl4dfr06e3t7dHKU089FVbGjRvX0dFh\n",
       "eA6Wq+wAAIEkkOgv2tra0tPTw27d0NAQL7a2to4ZMyYs1tfXd3/L5MmTw0vbtm1L\n",
       "Xly5cuXy5cvjZDI8feckEgAgkAQS/UVdXV3Yp7OyslLW8/Pzw3plZWXK+ksvvRTW\n",
       "J0yY8Nrea+2qqqqefvrppqYmwyOQAACBhEAa8GpqasI+PXXq1JT1goKCsL5mzZqU\n",
       "9S1btoT1W2+99f/+7/+SH9Lwy1/+MvSS4Tk0rrIDAASSQKJf2LBhQ9in8/PzU9bn\n",
       "zJkT1svLy1PW//jHP4b1tLS08J833XTTokWL7rnnnoyMjPBpcXHxAYenRyUlJUP8\n",
       "p+AkEgDQz4UDtlH75/sjkAaeXbt23dXVggULwnpVVVWPgVRUVNRjID3xxBPRGPz6\n",
       "17+OF7du3Rol04svvuj/XTjE2Ri33DcBABiIHOMJpAGpsbExJfSzs7PD+saNG8PH\n",
       "kyZNStl+1qxZPT7p+5lnnonenvLLZG+++eaw+OijjxqeQ+MqOwBAIAkkjp62traa\n",
       "rmpra8P6jh07wj6dkZGR8oTuiRMnhvXq6uqUv+e5554L62PHjk1Zv+uuu8J6779e\n",
       "1vD0wlV2AIBAEkgce+3t7ZmZmWG33rp1a7zY1NSUlpaWSCS6P54ubH/llVeG7Rsb\n",
       "u5zumD59elh8/PHHDc+hj4er7AAAgSSQOOYKCwvDbj1jxoz4JFL0hIa8vLzo09ra\n",
       "2of3ij795S9/GV4N79qzZ0+0sn79+ug0VO/P+zY8vXOVHQAgkAQSx15dXV30a2Gz\n",
       "srKKi4snTJgQPk4kEvH1daWlpcnPJ3nppZd+8pOfhE9zc3PvvvvugoKC6HnfDz30\n",
       "kOF5I1xlBwAIJIFEv7Bp06ZQO/HzG8aPH79+/fr41SiQ0tLS4pVt27bdfPPN0bV5\n",
       "0fbdn3dneA5lQlxlBwAIJIGE4SHiKjsAwDGeQMLw0MlVdgCAYzyBhOEhaUhcZQcA\n",
       "OMYTSBgeIq6yAwAc4wkkDA+dXGUHADjGE0gYHvZxEgkAcIwnkDA8dHISCQBwjCeQ\n",
       "MDwIJADAMZ5AwvDQjavsAADHeAIJw0MnJ5EAAMd4AgnDQ9K0+IVIAIBjPIGE4SHi\n",
       "KjsAwDGeQMLw0MlVdgCAYzyBhOFhHyeRAADHeAIJw4NAAgAc4wkkDA9ducoOAHCM\n",
       "J5AwPOzjJBIA4BhPIGF46OQkEgDgGE8gYXhIGhu/EAkAcIwnkDA8RFxlBwA4xhNI\n",
       "GB46ucoOAHCMJ5AwPOzjJBIA4BhPIGF46OQkEgDgGE8gYXgQSACAYzyBhOGhG1fZ\n",
       "AQCO8QQShodOTiIBAI7xBBKGh32cRAIAHOMJJAwPnXJLN4c/vg8AgGM8gYThwVV2\n",
       "AIBjPIGE4SGJq+wAAMd4AgnDQycnkQAAx3gCCcPDPk4iAQCO8QQShodOHtUAADjG\n",
       "E0gYHjq5yg4AcIwnkDA87OMqOwDAMZ5AwvDQyUkkAMAxnkDC8LCPk0gAgGM8gYTh\n",
       "oZOTSACAYzyBhOEhaZzGLfdNAAAc4wkkDA9/5So7AMAxnkDC8NDJVXYAgGM8gYTh\n",
       "YR8nkQAAx3gCCcNDJyeRAADHeAIJw8M+TiIBAI7xBBKGh065pZvDH98HAMAxnkDC\n",
       "8LB3rjzvGwBwjCeQMDxEXGUHADjGE0gYHjp5VAMA4BhPIGF42MdJJADAMZ5A4nBq\n",
       "aWmprq4uLy+vrKxsbm7e32YdHR0v7t/u3bsNzzHhJBIAIJAEEofN6tWrMzMzR70u\n",
       "PT198eLFPW7Z2Ng4av/++Mc/Gp5jxUkkAEAgCSQOg5qamkQiEfbsoqKisrKyuXPn\n",
       "Rp9WVFR033jnzp1F3cyePTtsH9713HPPGZ5jxUkkAEAgCSQOg5kzZ4bdet68efHK\n",
       "kiVLwkpOTk4f/4b7778/bP+b3/zG8BzjAfO8bwBAIAkk3oi2trb09PSwWzc0NMSL\n",
       "ra2tY8aMCYv19fUH/BvWrFkTtpw1a1ZHR4fhObb80lgAQCAJJN6Qurq6sE9nZWWl\n",
       "rOfn54f1ysrK3t/+8ssvjx07NjMzs5fnOhieozpjTiIBAAJJIHHIampqwj49derU\n",
       "lPWCgoKwvmbNmt7ffvvtt4fNSkpKDE8/4VENAIBAEkgcug0bNoR9Oj8/P2V9zpw5\n",
       "Yb28vLyX927ZsiWRSFx99dWvvPJKH4enR33sK/rCoxoAgCMhHLD18ihj3x+BNPDs\n",
       "2rXrrq4WLFgQ1quqqnoMpKKiogMGUvTwut/+9rf+34V+xUkkAOBocownkAak7r+/\n",
       "KDs7O6xv3LgxfDxp0qSU7WfNmrW/J31HWlpaoqc7bN++3fD0K04iAQACSSBxAG1t\n",
       "bTVd1dbWhvUdO3aEfTojIyPlGXQTJ04M69XV1fv7C8vKysIGP//5zw1PP+QkEgAg\n",
       "kAQSh6K9vT0zMzPs1lu3bo0Xm5qa0tLSEolE+GB/b4x+e1Jpaanh6YecRAIABJJA\n",
       "4hAVFhaG3XrGjBnxSaToCQ15eXnRp7W1tQ/vlfyu7OzssE1VVZXh6Z+cRAIABJJA\n",
       "4lDU1dVFvxY2KyuruLh4woQJ4eNEIhFfX1daWpryfJKWlpZo5aWXXjI8/ZOTSACA\n",
       "QBJIHKJNmzbl5ubGz28YP378+vXr41ejQEpLS4tXtmzZElauvPJKw9OfOYkEAAgk\n",
       "gYThoZOTSACAYzyBhOEhaeTGLfdNAAAc4wkkDA9/lVu6OfzxfQAAHOMJJAwPe6fO\n",
       "SSQAwDGeQMLwEHESCQBwjCeQMDwkDZ6TSACAYzyBhOEh4iQSAOAYTyBheEiaPSeR\n",
       "AADHeAIJw0PESSQAwDGeQMLwkDR+TiIBAI7xBBKGh4iTSACAYzyBhOEhaQKdRAIA\n",
       "HOMJJAwPESeRAADHeAIJw0PSEDqJBAA4xhNIGB4iTiIBAI7xBBKGh6Q5dBIJAHCM\n",
       "J5AwPEScRAIAHOMJJAwP+1x869oVmxp9HwAAx3gCCcPDa6GOQiP5PgAAjvEEEoaH\n",
       "v3ISCQBwjCeQMDx0chIJAHCMJ5AwPOzjJBIA4BhPIGF46OQkEgDgGE8gYXjYx0kk\n",
       "AMAxnkDC8NDJSSQAwDGeQMLwsI+TSACAYzyBhOGhk5NIAIBjPIGE4WGf3NLN4Y/v\n",
       "AwDgGE8gYXjYO5zjlvsmAACO8QQShoe/cqEdAOAYTyBheNjH0xoAAMd4AgnDQycn\n",
       "kQAAx3gCCcPDPk4iAQCO8QQShodOTiIBAI7xBBKGh3088hsAcIwnkDA87ONCOwDA\n",
       "MZ5AwvDQyYV2AIBjPIGE4WEfJ5EAAMd4AgnDQycnkQAAx3gCCcPDPp7WAAA4xhNI\n",
       "GB72caEdAOAYTyBheOjkQjsAwDGeQMLwsI+TSACAYzyBhOGhk5NIAIBjPIGE4WEf\n",
       "T2sAABzjCSQMD/u40A4AcIwnkDA8dHKhHQDgGE8gYXjYx4V2AIBjPIGE4WEfF9oB\n",
       "AI7xBBKGh04utAMAHOMJpKGipaWlurq6vLy8srKyubn5gNvv3Lnz6aefXrVqVfjP\n",
       "pqYmwzNEOIkEADjGE0iD3+rVqzMzM0e9Lj09ffHixb1sv2zZspTtFy5caHiGyhiP\n",
       "W+6bAAA4xhNIg1ZNTU0ikQh7dlFRUVlZ2dy5c6NPKyoqetz+D3/4Q3g1LS0tbLlq\n",
       "1ari4uIQSGGlvLzc8AwFLrQDABzjCaTBbObMmWG3njdvXryyZMmSsJKTk9Pj9qGj\n",
       "wqvJp4zuueeesDJjxgzDM0S40A4AcIwnkAantra26PxPQ0NDvNja2jpmzJiwWF9f\n",
       "3/0tIYTCS+vXr49XonNKubm5hmcIDbML7QAAx3gCafCpq6sL+3RWVlbKen5+fliv\n",
       "rKzs/paSkpLw0p133hmvzJkzJ6zcd999hmfocKEdAOAYTyANQjU1NWGfnjp1asp6\n",
       "QUFBWF+zZk33tzQ1NU2ZMiW8+otf/GL+/PmTJ0+OrsdLPgdleIYCF9oBAI7xBNJg\n",
       "s2HDhrBP5+fnp6xHJ4V6fO5Ce3v7okWLRnX14IMPdnR0HHB4elRSUuIHMVBH2oV2\n",
       "ADA0RNcQ7Y/vj0AaeHbt2nVXVwsWLAjrVVVVPQZS9CSGHgPpjjvuCC9lZGTMnz//\n",
       "8ccfD2l0xRVXhJVbbrnF/7sw1LjQDgBwjCeQBqTGxsaU0M/Ozg7rGzduDB9PmjQp\n",
       "ZftZs2b1+KTvPXv2ZGZmJhKJmpqaePHFF1+MHurw0ksvGZ6hJrd0c/jj+wAAAgmB\n",
       "NJC0tbXVdFVbWxvWd+zYEZ0OSrlAbuLEiWG9uro65e8JKz0+AfyWW24J64899pjh\n",
       "GYLcjAQAAgmBNEi0t7dnZmaG3Xrr1q3xYlNTU1paWiKRCB+kbB82Cxv/7Gc/S1m/\n",
       "8cYbw/q6desMzxDkQjsAEEgIpMGjsLAw+jWv8Umk6AkNeXl50ae1tbUP7/Va0u9N\n",
       "Kisri7d/8sknE3s1NjYanqHJhXYAIJAQSINEXV1ddAdRVlZWcXHxhAkTwsehduLr\n",
       "60pLS5OfT/K73/0u+jRsP3fu3FtvvTVsHD5duHCh4RnKXGgHAAIJgTRIbNq0KTc3\n",
       "N35+w/jx49evXx+/GgVSWlpavLJ69eqwTbz91VdfHaqpvb3d8Az1CffUbwAQSAgk\n",
       "DA8RNyMBgGM8BBKGh33cjAQAjvEQSBge9nEzEgA4xkMgYXjo5EI7AHCMh0DC8KCR\n",
       "AMAxHgIJw0NP3IwEAI7xEEgYHvZxMxIAOMZDIGF4SJp5vxkJABzjIZAwPETcjAQA\n",
       "jvEQSBge9nEzEgA4xkMgYXjQSADgGA+BhOGhJx7YAACO8RBIGB6S5t8DGwDAMR4C\n",
       "CcNDxAMbAMAxHgIJw8M+bkYCAMd4CCQMDxoJABzjIZAwPPTEAxsAwDEeAgnDg0YC\n",
       "AMd4CCQMDz3+z4GH2gGAYzxHRL4FhgciHmoHAI7xEEiGBzQSADjGQyBheOiJh9oB\n",
       "gGM8gYThAY0EAI7xEEiGBzQSADjGQyBheNBIAOAYD4GE4aGv/HIkAHCMJ5AwPKCR\n",
       "AMAxnkDC8IBGAgDHeAIJwwMaCQAc4yGQDI/hQSMBgGM8BBKGB40EAI7xEEgYHt5g\n",
       "I/kmAIBjPIGE4YG/WrGpUSMBgGM8gYThgX2NNGzcctfaAYBjPIGE4YFO7kcCAMd4\n",
       "AgnDAxoJABzjCSQMD2gkAHCMJ5AwPKCRAMAxnkDC8MBBNFJu6WbfBwBwjCeQMDzw\n",
       "VyGQNBIAOMYTSBge0EgA4BhPIGF4QCMBgGM8gYThAY0EAI7xBBKGBzQSADjGE0gY\n",
       "Hjj4Rrr41rW+DwDgGE8gYXjgr1Zsahw2brlfkQQAjvEEEoYHOvkVSQDgGE8gYXhg\n",
       "H7ckAYBjPIGE4QGNBACO8QQSh09LS0t1dXV5eXllZWVzc/MBt29qanr66afD9jU1\n",
       "Nbt37zY89LdG8tgGABBIAolDtHr16szMzFGvS09PX7x48f42bmtrW7BgQVpaWrz9\n",
       "Nddc88c//tHw0K9Ej21wKgkABJJA4uDU1NQkEomwZxcVFZWVlc2dOzf6tKKiosft\n",
       "77///vDqFVdcsXDhwpUrV86aNSt8Gt7ypz/9yfDQ37jcDgAEkkDi4MycOTPs1vPm\n",
       "zYtXlixZElZycnK6b9zY2JiWlhZyaOvWrfFiaKqwfXFxseFBIwGAQEIgDWBtbW3p\n",
       "6elht25oaIgXW1tbx4wZExbr6+tTtl+/fn1YnzZtWvJieG90YV5HR4fhoX82kt+S\n",
       "BAACSSBxYHV1dWGfzsrKSlnPz88P65WVlSnrZWVl3U8WhS6KbkZqamoyPPRbfksS\n",
       "AAgkgcQB1NTUhH166tSpKesFBQVhfc2aNSnrzzzzTFjPzc1NXnz++eejQNqyZYvh\n",
       "oT9zuR0ACCSBRG82bNgQ9un8/PyU9Tlz5oT18vLylPW//OUvGRkZ4aWlS5dGK6+8\n",
       "8sqNN94YBdKTTz7Z+/D0qKSkxA+Co9lInm4HAAcrHLCN2j/fH4E08OzateuurhYs\n",
       "WBDWq6qqegykoqKiHgMpeOihh6JJmDZtWuioa6+9Ni0t7aqrrgorGzdu9P8uMFAy\n",
       "SSMBwGHhGE8gDUiNjY0poZ+dnR3WQ9KEjydNmpSyffTw7v096XvVqlXh7dHfc911\n",
       "1/3+97//+c9/Hj7evn274WEANZJfJgsAAkkgDVFtbW01XdXW1ob1HTt2hH06IyMj\n",
       "5QF0EydODOvV1dW9/J1/+ctfXnrppdf2PqQhOoO0e/duw8MA4pfJAoBAEkh00d7e\n",
       "npmZGXbr5N9r1NTUFP2yo+5PpWtpaSkuLp47d254Y7wYXaf385//3PAwELncDgAE\n",
       "kkBin8LCwrBbz5gxIz6JFD2hIS8vL/q0trb24b2iT6OL68rKyqJPX3nllbBlWFmx\n",
       "YoXhYeA2klNJACCQBBJ/VVdXF/1a2KysrOLi4gkT/v/27j7Iqrr+A3imElRIaU3Z\n",
       "w6jYA5lPE5POz6YyNZsefmoQmKPB9JPYXR7ENHdCRZdQQcOfopsYYkkwreuQITSI\n",
       "SrOIkPIkJAwP247SCrjGtsUGri7s9ffNL57f5d69y0Ul4J7Xa+4f9373u/fcc773\n",
       "c/b73nvOudeG+2VlZcnxdY899lj29Uniw9BhwoQJ06dPv+6668LDcePGdX18neLh\n",
       "kIhJMhIACEgCEq83NDRUVVUl128YPXr0qlWrkp/GRFReXp7dEk86iucvVVdX79ix\n",
       "Q/FQGhnJR0kAICAJSCge2CMmhVtdQ4tNAQDmeAISigd2XwTcR0kAYI4nIKF44P9j\n",
       "kiPuAMAcT0BC8cAeMUlGAgBzPAEJxQP/n5F8lAQA5ngCEooHxCQAMMcTkFA8UDgm\n",
       "OegOAMzxBCQUD8hIAGCOJyCheKBATHLEHQCY4wlIKB4QkwDAHE9AQvGAmAQA5ngC\n",
       "EooHxCQAMMcTkFA8ICYBgDmegITiATEJAMzxBCQUD4hJAGCOJyCheEBMAgBzPAEJ\n",
       "xQNiEgCY4wlIKB44gDFJUgLAHA8BSfEAu2NSuJ39ixViEgDmeAISigf4t7qGFsfd\n",
       "AWCOJyCheIA9OO4OAHM8AQnFA+TGJB8oAWCOJyCheIDcpOQDJQDM8QQkFA+wR0xK\n",
       "klJdQ4sNAoA5noCE4gFej9e7c+gdAOZ4AhKKB9gjKTn0DgBzPAEJxQPsEZMkJQDM\n",
       "8QQkFA8gKQFgjicgoXgASQkAczwBCcUDvLWkdPYvVrj2HQDmeAISigf4txCNsq99\n",
       "52MlAMzxBCQUD/BvDsADwBxPQELxAAWTkrAEgDmegITiAToJS85WAsAcT0BC8QC7\n",
       "ZZ+tJCwBYI4nIKF4gIJhyWF4AJjjCUgoHmB3WMo+DE9YAsAcT0BC8QB7hCVH4gFg\n",
       "jicgoXiA3LwUj8RLLognLwGY4yEgoXiA3RfEk5cAzPEQkFA8wF7yUnL+ksgEYI6H\n",
       "gITigbRLzl/KuTievARgjoeApHgUD8hLLYU+YpKaAMzxBCQUDyAytSQByYF5AOZ4\n",
       "AhKKB6BgakoiU05qEpwAzPEEJBQPIDXtTk2FjtATnADM8QQkFA8gNXUSnJzdBGCO\n",
       "JyCheAB2B6dOz27qNDuJTwDmeAISiof/kDlz5tgIhv4gz05dxCcJStVj6DHHE5BQ\n",
       "PBh30jv0OfGpUIISolQ9hh5DLyDRuaampgULFmzfvl3xYNxJw9DHLNR1iCqUo5Io\n",
       "VdppStWregw9AlKqTZkyJVTFX/7yF8WDccfQd52jkihVKE11EagOoUyl6lU9hh4B\n",
       "KaXa2tpmz5499A0CEsYdQ//201QXgSonU+XEqvxklROu/pMRy9Cregw9AlLqrF69\n",
       "euzYscOHDx/6JgEJ446hP4CxKj9Z5YSrTiNWfsoqlLUKJa5OQ5ehV/UYegSkNAak\n",
       "G95UUVEhIGHcMfSlkbIKZa1CiavT0NV1+tprDOs6jx2oj8VQ9Rh6AYliVVdXC0gY\n",
       "dww9+UPfdbDZa0DqOl8Vk9D2NbO9tSBXzK3IsLevN1WPoReQOLQDUt++ffMbq96w\n",
       "P9r33zMf2PZDbhXyd5ols2qF2r3xkpJXU+lctVD1B21N5WeMsy8bFW5dtOdEnXf9\n",
       "1+Bwy49AXbd3Hu0G/G+4vZ32fQqH+++WvJ5jR9W8hQiakts7krQP2puAJCDxFgPS\n",
       "JZdcMjRP3zfsj/b998wHtt2qHfztRseqWTU1lao33n9XXJ9z63vR/4Rb6bW/nafq\n",
       "O+KuEr5NnDjRlFhASoVXXnllxp4efvjhtxOQAAAAAelQ1dLSkvO/osrKSgEJAAAE\n",
       "pDTauXNn/Z4aGxsFJAAAEJAoSEACAAABCQEJAAAEJAQkAAAQkOjU5MmTBSQAABCQ\n",
       "AAAABCQAAAABCQAAQEACAAAQkAAAAAQk3ik7duzYsGHDokWL1q5d29raaoOkRHNz\n",
       "8+Y83gClrampacGCBdu3b7cfMO52AiX/l339+vWhotetWxfuK3lDr+oFJPbB4sWL\n",
       "r7jiiqFvGjZs2KOPPmqzpMGNN944NM+sWbNsmRI2ZcqUTi/6bz+QznG3EyhJmUzm\n",
       "iSeeCFWcjGmo7vnz5yt5Q6/qBSSKUl9fX1ZWFmoj/Pl88sknp0+fHh8uWbLExilt\n",
       "7e3t5eXllZWVtXtavXq1jVOS2traZs+eHf8W5kyU7QfSOe52AqUqVHEY7oqKijCa\n",
       "CxcunDp1aqzoZcuWKfmUD72qF5AoyqRJk0Ll/Pa3v01a5s2bF1puvPFGG6e0/fWv\n",
       "fw0D/cADD9gUJS/85Rs7duzw4cOTfxbmTJTtB9I57nYCJamjo+MnP/lJTtqJIfm2\n",
       "225T8ikfelUvILF3O3fujJ/D/v3vf08a29vb4x/U5uZmm6iE/elPfwqjnPPJO6U6\n",
       "Ub7hTRUVFTkTZfuBdI67nUCpevnll8Ow/vSnP81kMkljKOTQOHLkSCWf5qFX9QIS\n",
       "RWlqagp1cs011+S0T5gwIbSvXbvWJiphDz30UBjlZ599duHChTNnzgy7y+eff95m\n",
       "KXnV1dU5E2X7gXSOu51AqWpsbAyROOcjgtAYxrqyslLJp3noVb2ARFHq6+tDndx8\n",
       "88057ZMnTw7tzzzzjE1Uwu644454Ym72aZpTp07duXOnjZOqibL9QGoDkp1Aevz6\n",
       "178OgxuKWsmneehVvYBEUdavXx8KY8KECTnt999/f2hftGiRTVTCrr766jDKt956\n",
       "a/hzuGHDhlmzZsU9pkvZpG2ibD+Q2oBkJ5AGmUxm5syZcU68ZcsWJZ/moVf1AhJF\n",
       "WbduXad7yXhBWHvJEtbR0fH4448/8cQT2f80Wrp0adyThp/aROmZKNsPpHPc7QTS\n",
       "IEyL44FzI0aMWLNmjZJP+dCregGJooQ/lqEqxo4d2+mfUpf7TKHKysow9Mm/mkjD\n",
       "RNl+IJ3jbidQ2sJkd+7cufHDgTBRbmpqUvKGXtULSBRl69at8b8L2Rc8CcaMGRPa\n",
       "N2zYYBOVqjDibW1t+cccjxs3zkm6aZso2w+kc9ztBEpYGNZ77703jOOoUaMWLlyY\n",
       "U9pKPrVDr+oFJIr9N0P8Iu2NGzcmjdu2bSsvLy8rKwt3bKJStWLFijDuv/zlL7Mb\n",
       "29vbR44c6TKvaZso2w+kc9ztBEpYPPOkqqqqpaXFn35Dr+oFJPZZqJNQFRMnTkz+\n",
       "zRBP0xw/fryNU8LiFyNUVFTU19fHlvAGePDBB+OO1fZJ1UTZfiCd424nUKrCzHjY\n",
       "sGFhyttF1FHy6Rx6VS8gUaympqb43XDXXHPNfffdd+2114b7ZWVlPmQveTU1NWGs\n",
       "y8vLJ0+eXFtbe/PNN8fTNBsaGmyctAUk+4F0jrudQEl6+umn4xeD3pFn2rRpSj7l\n",
       "Q6/qBSSKFaqiqqoquRz+6NGjV61aZbOUvF27ds2dO/fKK6+M4x52l7feeuuLL75o\n",
       "y5S2+FUn+Sfr2w+kcNztBEpSmPUOLeD6669X8ikfelUvILFvduzY0djY2NraalOk\n",
       "SiaTaW5u3rRpky+Jw37ATsDWUPKoegQkAAAAAQkAAEBAAgAAEJAAAAAEJAAAAAEJ\n",
       "AABAQAIgRerq6n7/+9+nc903bdpUW1tbX1/vbQAgIAGwX2zdurVHEfr37x86V1RU\n",
       "hPtVVVUH6tWuXLnyiCOO+PrXv15KQ3DPPfeErXrppZfutWdzc/NRRx112mmn7dq1\n",
       "y1sXQEAC4J33t7/97V1FOO+880Lnyy+/PNy/7rrrDshLDamgb9++hx122LPPPltK\n",
       "Q3D33XeHrfqd73ynmM5jx44NnSdPnuytCyAgAfDOy2QyrXs68cQTwxR89OjR2Y2v\n",
       "vPJK6FxbWzt8+PBHH330gLzUmpqa8ML69etXYkOwTwEpjEXPnj0/8pGPvPrqq969\n",
       "AAISAPvdZz7zmTBfP4DH0RVy1llnhRc2e/bsNAekYPDgwaH/Aw884L0KICABcCAD\n",
       "0v333z9o0KCZM2fGh3feeWd4uGbNmrq6uiFDhpx88slnnnnm1Vdf3draGn46ffr0\n",
       "gQMH9u7du2/fviNHjty0aVP2Uy1btmzYsGFnnHFG+K2Kiorf/e53Xb+qP//5z+FV\n",
       "HXPMMe3t7Unj/PnzL7744vAMJ5xwQlj0lVdemX8Bg2IW9Mc//jH2OfHEE88555zx\n",
       "48dv27Ytp8+SJUtGjRr15S9/OfS58MILx40b949//CP5abIpnnzyyfLy8lNOOeXT\n",
       "n/70gAEDVq5cmfM8jzzyyOWXX37qqad+6lOf6t+/f1h0fkDqer0ef/zx0D9sVe9V\n",
       "AAEJgAMZkHLOQfrGN74RHl5yySVHHHFE9glLF1xwQYhJOWcxhTwQg1Nw++23H3nk\n",
       "kTkdrrrqqi5e1c9//vPQ5/zzz09aJk6cmH+uVK9evZ577rmkz14XlMlkxowZc9hh\n",
       "h+X0+eQnP7l58+ak2y233JKzjsFxxx0XUlP2pggpq1u3btl9wsOnn3469tm1a9eI\n",
       "ESPyX3PYMtkBaa/rtX379ti4ZcsWb1cAAQmAgysgBWedddZTTz310ksvhUCSzOnP\n",
       "PffcmpqaTZs2VVdXx5aHH3749Tc+rgn3Dz/88JBMGhoann/++ZtuuinmirvvvrvQ\n",
       "q/r2t78dOpSVlcWHr7322nvf+97Y8sILL2zbtm3+/Pm9e/cOLQMHDox9ilnQzJkz\n",
       "42sbNGhQSDKhW/jRMcccE1q++c1vxj5z5syJfULL0qVLQyypra396Ec/Glo+8YlP\n",
       "xLOzkk1x+umnh+WGtZ42bVr4aWi58MIL4/P86le/in2GDBmyfPnyjRs3zpgx40Mf\n",
       "+lBsjAGpmPUKPvzhD4eW3/zmN96uAAISAAdXQDrhhBPa2tqSPieffHL8xCMmh+jM\n",
       "M88MjePHj0865Dz/pEmTQmNYdKFXdeyxx4YOEyZMiA/Xrl0bc8WKFSuSPnPnzj36\n",
       "6KO/8IUvZL+SLhaUyWROOumk8PD73/9+dp+77rorNB555JHxQLs+ffrE6/iF/kmf\n",
       "EKXe8573JCsVN0VIO//85z+TPuHVhsYQb8L9jo6O448/PjzMuZx3WJH42VQMSMWs\n",
       "V/DFL34x9Bk5cqS3K4CABMDBFZB+9rOfZfe54IILQuOPfvSj7MaQQELjuHHjkquK\n",
       "b968uS1LiCLxs53ly5fnLzckk5giHnzwwdgS8kb8DCekjvvuuy//YLNiFhR+K/ZZ\n",
       "tmxZ9u+2t7fPmzfvscceC3eSPsmRcomysrLQHr+UKW6KK664IrvDypUrQ2PPnj3D\n",
       "/Y0bN+Ynn2jAgAFJQNrrekUDBw4MfcIversCCEgAHFwB6d57783u893vfjc03n77\n",
       "7dmNl112WQxICxYs6PoLl+JheDlaWlriT5955pmkcdq0aT169Eh+sXfv3kOGDKmr\n",
       "q4s/LWZBCxcujMfgdfG9q+EJQ593v/vd2Z+SRVOmTIlnIiWbYtKkSdkdVq9eHRrf\n",
       "//73v/7GdRcKLeu2227LPgep6/WKKisrw4+++tWversCCEgAHMIB6Q9/+EOc9x9f\n",
       "QE1NTf5yt23bFn9r0aJF2e0NDQ3hdZ5xxhnZV1D44Q9/mMlkilnQrFmzkgBTyNy5\n",
       "c0Of8PzZx9dF8XuZjj766EKbIjsgxROZunXrlr+IeI5W9lXsuliv2CEMQWj50pe+\n",
       "5O0KICABcAgHpDD1jx/IZF+tuxjdu3cPvzhjxoxOf7p9+/aQdkJgiFmirq6umAWt\n",
       "WrUq9m9paclu7+joCCt1zz33bN68ed26dbFPY2Njzq+H1QntIcYUE5CS53nppZdy\n",
       "nueqq64q9D1I+esV2y+99NLw8KKLLvJ2BRCQADiEA1LIHj179gz3ky9TijZu3BiW\n",
       "27t375yvS0ocd9xx8Rniwzlz5vTp0+d73/tedp/W1tajjjoqdLvzzjuLWdCOHTsO\n",
       "P/zw0Ke6ujq7T21tbQxXzc3NIV/Fy8qNGTMmu89rr70WL88dtkkxASn0f9/73hce\n",
       "3nTTTTnPE086igFpr+sVW2JkGjp0qLcrgIAEwCEckML9G264Idz/+Mc/npxQFIJK\n",
       "vLRDyAaFXlX//v2TNBI899xz8ZSeRx55JOmzbt26eGW5+fPnF7mgIUOGxMPkkmsw\n",
       "rF+//tRTTw2NX/nKV2JLiEbhYffu3ZNLRITn+cEPfhAPvQv9iwlIwejRo8PDEJNm\n",
       "z54dW1599dWQhbIv813MegUf+9jH8hcHgIAEwKEXkFpbWz/3uc/FGHDKKaeEHBJn\n",
       "/yFszJs3r9CrCksJfc4555z4MJPJnH/++TFahDzTr1+/s88+Oz7PSSedFK8wXsyC\n",
       "tmzZEi8gHvqcfvrp8crgQY8ePdasWRP7/Otf/zrttNNie3jC8847L35RUvYV/IoJ\n",
       "SC0tLZ///OfjL372s5/92te+Fj8Xip9QxYBUzHqFWBW/2TYEJ29XAAEJgP0rTuI7\n",
       "DUjl5eXZP4qpYOrUqfsUkF5/4xOYoUOH9urVK7kCQQgDXaSjoLGxMWSY8CshHsSW\n",
       "kH8qKiricWtR9+7dL7744pdffjn5rWIWtHXr1gEDBsSUknzvbc6Fv8NCf/zjHydf\n",
       "6hrySUg42R/ydLop4nlHH/jAB5KWkLUGDRqUvJ7wggcPHhy/XTc5B2mv6xUvvhev\n",
       "ngeAgARA6XjhhReWLFmSHWm60K9fv/xzitra2urr6xcvXhzSSIhDb3lBHR0d69ev\n",
       "X758efxy2EJefPHFpUuXhpzzdtY6k8mEV7t69eqdO3cW6tPFeoXIl3xBLQACEgAp\n",
       "9dRTTxW62lt6hLD0wQ9+sHv37s3Nzd4SAAISAKn2rW99K2SkpUuXpnYL3HLLLfmX\n",
       "1ANAQAIgjTZs2NCtW7dzzz03navf3Nzcq1evPn36JCdiASAgAZBqixcvfuihh3bt\n",
       "2pXOgBTWPaREbwMAAQkAAEBAAgAAEJAAAAAEJAAAAAEJAABAQAIAABCQAAAABCQA\n",
       "AAABCQAAQEACAAAQkAAAAAQkAAAAAQkAAEBAAgAAEJAAAAAEJAAAAAEJAABAQAIA\n",
       "ABCQAAAABCQAAAABCQAAQEACAAAQkAAAAAQkAAAABCQAAAABCQAAQEACAAAQkAAA\n",
       "AAQkAAAAAQkAAEBAAgAAEJAAAAAEJAAAAAEJAABAQAIAAHhH/R+WX6WuWNLZdgAAAABJRU5ErkJggg==\" style=\"clip-path:url(#clipPath2);\" height=\"840\" preserveAspectRatio=\"none\"\n",
       "    /></g\n",
       "  ></g\n",
       "></svg\n",
       ">\n"
      ]
     },
     "metadata": {
      "filenames": {
       "image/svg+xml": "/Users/cpjobling/code/src/github.com/cpjobling/eg-247-textbook/_build/jupyter_execute/laplace_transform/4/transfer_functions_66_0.svg"
      }
     },
     "output_type": "display_data"
    }
   ],
   "source": [
    "step(G)"
   ]
  },
  {
   "cell_type": "markdown",
   "id": "653689d3",
   "metadata": {
    "slideshow": {
     "slide_type": "notes"
    }
   },
   "source": [
    "Simples!"
   ]
  },
  {
   "cell_type": "markdown",
   "id": "3e9d8e4b",
   "metadata": {
    "slideshow": {
     "slide_type": "subslide"
    }
   },
   "source": [
    "#### Simulink model\n",
    "\n",
    "See [example_8.slx](https://cpjobling.github.io/eg-247-textbook/laplace_transform/matlab/example_8.slx)"
   ]
  },
  {
   "cell_type": "code",
   "execution_count": 12,
   "id": "6606c59c",
   "metadata": {
    "slideshow": {
     "slide_type": "fragment"
    }
   },
   "outputs": [],
   "source": [
    "open example_8"
   ]
  },
  {
   "cell_type": "markdown",
   "id": "2e0da589",
   "metadata": {
    "slideshow": {
     "slide_type": "notes"
    }
   },
   "source": [
    "![Simulink model](pictures/ex8_sim.png)"
   ]
  },
  {
   "cell_type": "markdown",
   "id": "6816c80e",
   "metadata": {
    "slideshow": {
     "slide_type": "notes"
    }
   },
   "source": [
    "Result\n",
    "\n",
    "![Simulation result](pictures/ex8_sim_result.png)"
   ]
  },
  {
   "cell_type": "markdown",
   "id": "d5167301",
   "metadata": {
    "slideshow": {
     "slide_type": "subslide"
    }
   },
   "source": [
    "Let's go a bit further by finding the frequency response:"
   ]
  },
  {
   "cell_type": "code",
   "execution_count": 13,
   "id": "0e44f792",
   "metadata": {
    "slideshow": {
     "slide_type": "subslide"
    }
   },
   "outputs": [
    {
     "data": {
      "image/svg+xml": [
       "<?xml version=\"1.0\"?>\n",
       "<!DOCTYPE svg PUBLIC '-//W3C//DTD SVG 1.0//EN'\n",
       "          'http://www.w3.org/TR/2001/REC-SVG-20010904/DTD/svg10.dtd'>\n",
       "<svg xmlns:xlink=\"http://www.w3.org/1999/xlink\" style=\"fill-opacity:1; color-rendering:auto; color-interpolation:auto; text-rendering:auto; stroke:black; stroke-linecap:square; stroke-miterlimit:10; shape-rendering:auto; stroke-opacity:1; fill:black; stroke-dasharray:none; font-weight:normal; stroke-width:1; font-family:'Dialog'; font-style:normal; stroke-linejoin:miter; font-size:12px; stroke-dashoffset:0; image-rendering:auto;\" width=\"560\" height=\"420\" xmlns=\"http://www.w3.org/2000/svg\"\n",
       "><!--Generated by the Batik Graphics2D SVG Generator--><defs id=\"genericDefs\"\n",
       "  /><g\n",
       "  ><defs id=\"defs1\"\n",
       "    ><clipPath clipPathUnits=\"userSpaceOnUse\" id=\"clipPath1\"\n",
       "      ><path d=\"M0 0 L560 0 L560 420 L0 420 L0 0 Z\"\n",
       "      /></clipPath\n",
       "      ><font horiz-adv-x=\"50.0\" id=\"font1\"\n",
       "      ><font-face ascent=\"95.200005\" descent=\"21.3\" units-per-em=\"100\" style=\"font-style:normal; font-family:Helvetica Neue; font-weight:normal;\"\n",
       "        /><missing-glyph horiz-adv-x=\"50.0\" d=\"M40.9 66.6 L10.2 66.6 L10.2 4.7 L40.9 4.7 ZM46 71.2 L46 0.1 L5.1 0.1 L5.1 71.2 Z\"\n",
       "        /><glyph unicode=\"0\" horiz-adv-x=\"55.6\" d=\"M13.2 34.9 Q13.2 37.5 13.25 40.65 Q13.3 43.8 13.75 46.95 Q14.2 50.1 15.05 53.1 Q15.9 56.1 17.55 58.35 Q19.2 60.6 21.7 62 Q24.2 63.4 27.8 63.4 Q31.4 63.4 33.9 62 Q36.4 60.6 38.05 58.35 Q39.7 56.1 40.55 53.1 Q41.4 50.1 41.85 46.95 Q42.3 43.8 42.35 40.65 Q42.4 37.5 42.4 34.9 Q42.4 30.9 42.15 25.95 Q41.9 21 40.55 16.65 Q39.2 12.3 36.2 9.3 Q33.2 6.3 27.8 6.3 Q22.4 6.3 19.4 9.3 Q16.4 12.3 15.05 16.65 Q13.7 21 13.45 25.95 Q13.2 30.9 13.2 34.9 ZM4.2 34.8 Q4.2 30.9 4.4 26.7 Q4.6 22.5 5.4 18.5 Q6.2 14.5 7.7 10.95 Q9.2 7.4 11.8 4.7 Q14.4 2 18.35 0.45 Q22.3 -1.1 27.8 -1.1 Q33.4 -1.1 37.3 0.45 Q41.2 2 43.8 4.7 Q46.4 7.4 47.9 10.95 Q49.4 14.5 50.2 18.5 Q51 22.5 51.2 26.7 Q51.4 30.9 51.4 34.8 Q51.4 38.7 51.2 42.9 Q51 47.1 50.2 51.1 Q49.4 55.1 47.9 58.7 Q46.4 62.3 43.8 65 Q41.2 67.7 37.25 69.3 Q33.3 70.9 27.8 70.9 Q22.3 70.9 18.35 69.3 Q14.4 67.7 11.8 65 Q9.2 62.3 7.7 58.7 Q6.2 55.1 5.4 51.1 Q4.6 47.1 4.4 42.9 Q4.2 38.7 4.2 34.8 Z\"\n",
       "        /><glyph unicode=\"8\" horiz-adv-x=\"55.6\" d=\"M15.5 52.5 Q15.5 55.2 16.5 57.2 Q17.5 59.2 19.15 60.6 Q20.8 62 23.1 62.7 Q25.4 63.4 27.9 63.4 Q33.1 63.4 36.45 60.65 Q39.8 57.9 39.8 52.5 Q39.8 47.1 36.5 44.1 Q33.2 41.1 28.1 41.1 Q25.5 41.1 23.2 41.8 Q20.9 42.5 19.2 43.9 Q17.5 45.3 16.5 47.45 Q15.5 49.6 15.5 52.5 ZM6.5 52.8 Q6.5 48 9.2 43.95 Q11.9 39.9 16.4 38.1 Q10.4 36 7.2 31.35 Q4 26.7 4 20.4 Q4 15 5.85 10.95 Q7.7 6.9 10.95 4.2 Q14.2 1.5 18.6 0.2 Q23 -1.1 28.1 -1.1 Q33 -1.1 37.3 0.3 Q41.6 1.7 44.75 4.45 Q47.9 7.2 49.75 11.2 Q51.6 15.2 51.6 20.4 Q51.6 27 48.5 31.55 Q45.4 36.1 39 38.1 Q43.5 40.1 46.15 44.05 Q48.8 48 48.8 52.8 Q48.8 56.2 47.6 59.45 Q46.4 62.7 43.85 65.25 Q41.3 67.8 37.2 69.35 Q33.1 70.9 27.3 70.9 Q23.2 70.9 19.45 69.7 Q15.7 68.5 12.8 66.2 Q9.9 63.9 8.2 60.55 Q6.5 57.2 6.5 52.8 ZM13 20 Q13 23.1 14.15 25.6 Q15.3 28.1 17.35 29.9 Q19.4 31.7 22.15 32.65 Q24.9 33.6 28 33.6 Q31 33.6 33.65 32.55 Q36.3 31.5 38.3 29.7 Q40.3 27.9 41.45 25.45 Q42.6 23 42.6 20.1 Q42.6 17.1 41.55 14.6 Q40.5 12.1 38.55 10.25 Q36.6 8.4 33.95 7.35 Q31.3 6.3 28.1 6.3 Q21.5 6.3 17.25 9.95 Q13 13.6 13 20 Z\"\n",
       "        /><glyph unicode=\"-\" horiz-adv-x=\"38.9\" d=\"M5 31.8 L5 23.8 L33.9 23.8 L33.9 31.8 Z\"\n",
       "        /><glyph unicode=\"6\" horiz-adv-x=\"55.6\" d=\"M41.4 52.8 L49.9 52.8 Q49.1 61.6 43.9 66.25 Q38.7 70.9 29.9 70.9 Q22.3 70.9 17.3 67.7 Q12.3 64.5 9.3 59.2 Q6.3 53.9 5.05 47.05 Q3.8 40.2 3.8 32.9 Q3.8 27.3 4.65 21.3 Q5.5 15.3 8.1 10.3 Q10.7 5.3 15.5 2.1 Q20.3 -1.1 28.2 -1.1 Q34.9 -1.1 39.45 1.15 Q44 3.4 46.75 6.85 Q49.5 10.3 50.7 14.5 Q51.9 18.7 51.9 22.6 Q51.9 27.5 50.4 31.7 Q48.9 35.9 46.15 39 Q43.4 42.1 39.35 43.85 Q35.3 45.6 30.2 45.6 Q24.4 45.6 19.95 43.4 Q15.5 41.2 12.5 36.3 L12.3 36.5 Q12.4 40.6 13.1 45.3 Q13.8 50 15.65 54.05 Q17.5 58.1 20.8 60.75 Q24.1 63.4 29.5 63.4 Q34.6 63.4 37.7 60.5 Q40.8 57.6 41.4 52.8 ZM28.6 38.1 Q32.2 38.1 34.9 36.8 Q37.6 35.5 39.4 33.35 Q41.2 31.2 42.05 28.25 Q42.9 25.3 42.9 22 Q42.9 18.9 41.95 16.05 Q41 13.2 39.2 11 Q37.4 8.8 34.75 7.55 Q32.1 6.3 28.6 6.3 Q25.1 6.3 22.35 7.55 Q19.6 8.8 17.75 10.9 Q15.9 13 14.9 15.9 Q13.9 18.8 13.9 22.1 Q13.9 25.4 14.85 28.35 Q15.8 31.3 17.7 33.45 Q19.6 35.6 22.3 36.85 Q25 38.1 28.6 38.1 Z\"\n",
       "        /><glyph unicode=\"4\" horiz-adv-x=\"55.6\" d=\"M33.9 24.1 L10.1 24.1 L33.7 58.8 L33.9 58.8 ZM41.9 24.1 L41.9 70.9 L35.1 70.9 L2.8 24.8 L2.8 16.6 L33.9 16.6 L33.9 0 L41.9 0 L41.9 16.6 L51.5 16.6 L51.5 24.1 Z\"\n",
       "        /><glyph unicode=\"2\" horiz-adv-x=\"55.6\" d=\"M4.4 45.8 L12.9 45.8 Q12.8 49 13.55 52.15 Q14.3 55.3 16 57.8 Q17.7 60.3 20.35 61.85 Q23 63.4 26.7 63.4 Q29.5 63.4 32 62.5 Q34.5 61.6 36.35 59.9 Q38.2 58.2 39.3 55.85 Q40.4 53.5 40.4 50.6 Q40.4 46.9 39.25 44.1 Q38.1 41.3 35.85 38.9 Q33.6 36.5 30.2 34.15 Q26.8 31.8 22.3 29 Q18.6 26.8 15.2 24.3 Q11.8 21.8 9.1 18.5 Q6.4 15.2 4.65 10.75 Q2.9 6.3 2.4 0 L48.7 0 L48.7 7.5 L12.3 7.5 Q12.9 10.8 14.85 13.35 Q16.8 15.9 19.55 18.1 Q22.3 20.3 25.6 22.25 Q28.9 24.2 32.2 26.2 Q35.5 28.3 38.6 30.6 Q41.7 32.9 44.1 35.75 Q46.5 38.6 47.95 42.2 Q49.4 45.8 49.4 50.5 Q49.4 55.5 47.65 59.3 Q45.9 63.1 42.9 65.65 Q39.9 68.2 35.85 69.55 Q31.8 70.9 27.2 70.9 Q21.6 70.9 17.2 69 Q12.8 67.1 9.85 63.75 Q6.9 60.4 5.5 55.8 Q4.1 51.2 4.4 45.8 Z\"\n",
       "        /><glyph unicode=\")\" horiz-adv-x=\"25.9\" d=\"M-0.9 -19.7 L5.5 -19.7 Q13.3 -9.4 17.25 2.55 Q21.2 14.5 21.2 26.3 Q21.2 32.9 20.1 38.9 Q19 44.9 16.95 50.65 Q14.9 56.4 12 61.95 Q9.1 67.5 5.5 73.1 L-0.9 73.1 Q6.1 61.6 9.15 50.25 Q12.2 38.9 12.2 26.3 Q12.2 14.1 9.2 2.85 Q6.2 -8.4 -0.9 -19.7 Z\"\n",
       "        /><glyph unicode=\"B\" horiz-adv-x=\"68.5\" d=\"M17.3 40.7 L17.3 63.4 L36.3 63.4 Q39.4 63.4 42.15 63.05 Q44.9 62.7 47 61.5 Q49.1 60.3 50.3 58.1 Q51.5 55.9 51.5 52.1 Q51.5 46.4 47.95 43.55 Q44.4 40.7 36.3 40.7 ZM7.8 71.4 L7.8 0 L42.3 0 Q47.6 0 51.65 1.75 Q55.7 3.5 58.45 6.35 Q61.2 9.2 62.6 12.9 Q64 16.6 64 20.5 Q64 27.1 60.5 31.7 Q57 36.3 50.4 37.7 L50.4 37.9 Q55.5 39.9 58.25 44.05 Q61 48.2 61 53.9 Q61 59.3 58.55 63 Q56.1 66.7 52.6 68.8 Q51 69.8 48.75 70.3 Q46.5 70.8 43.9 71.05 Q41.3 71.3 38.65 71.35 Q36 71.4 33.7 71.4 ZM17.3 8 L17.3 32.7 L39 32.7 Q42 32.7 44.8 32.15 Q47.6 31.6 49.75 30.25 Q51.9 28.9 53.2 26.6 Q54.5 24.3 54.5 20.8 Q54.5 14.8 50.95 11.4 Q47.4 8 41.1 8 Z\"\n",
       "        /><glyph unicode=\"(\" horiz-adv-x=\"25.9\" d=\"M20.4 -19.7 L26.9 -19.7 Q19.8 -8.2 16.75 3.1 Q13.7 14.4 13.7 27 Q13.7 39.3 16.7 50.5 Q19.7 61.7 26.9 73.1 L20.4 73.1 Q12.6 62.8 8.65 50.8 Q4.7 38.8 4.7 27 Q4.7 20.4 5.8 14.4 Q6.9 8.4 8.95 2.7 Q11 -3 13.9 -8.55 Q16.8 -14.1 20.4 -19.7 Z\"\n",
       "        /><glyph unicode=\" \" horiz-adv-x=\"27.8\" d=\"\"\n",
       "        /><glyph unicode=\"e\" horiz-adv-x=\"53.7\" d=\"M42.3 30.8 L12.6 30.8 Q12.8 33.8 13.9 36.45 Q15 39.1 16.9 41.1 Q18.8 43.1 21.45 44.25 Q24.1 45.4 27.4 45.4 Q30.6 45.4 33.25 44.25 Q35.9 43.1 37.85 41.15 Q39.8 39.2 40.95 36.5 Q42.1 33.8 42.3 30.8 ZM50.5 16.4 L42.1 16.4 Q41 11.3 37.55 8.8 Q34.1 6.3 28.7 6.3 Q24.5 6.3 21.4 7.7 Q18.3 9.1 16.3 11.45 Q14.3 13.8 13.4 16.85 Q12.5 19.9 12.6 23.3 L51.3 23.3 Q51.5 28 50.45 33.2 Q49.4 38.4 46.65 42.8 Q43.9 47.2 39.35 50.05 Q34.8 52.9 27.9 52.9 Q22.6 52.9 18.15 50.9 Q13.7 48.9 10.45 45.3 Q7.2 41.7 5.4 36.8 Q3.6 31.9 3.6 26 Q3.8 20.1 5.35 15.1 Q6.9 10.1 10 6.5 Q13.1 2.9 17.65 0.9 Q22.2 -1.1 28.4 -1.1 Q37.2 -1.1 43 3.3 Q48.8 7.7 50.5 16.4 Z\"\n",
       "        /><glyph unicode=\"d\" horiz-adv-x=\"59.3\" d=\"M12.6 25.4 Q12.6 29.2 13.4 32.8 Q14.2 36.4 16 39.2 Q17.8 42 20.8 43.7 Q23.8 45.4 28.1 45.4 Q32.5 45.4 35.6 43.75 Q38.7 42.1 40.65 39.4 Q42.6 36.7 43.5 33.15 Q44.4 29.6 44.4 25.8 Q44.4 22.2 43.55 18.7 Q42.7 15.2 40.8 12.45 Q38.9 9.7 35.9 8 Q32.9 6.3 28.6 6.3 Q24.5 6.3 21.45 7.9 Q18.4 9.5 16.45 12.2 Q14.5 14.9 13.55 18.35 Q12.6 21.8 12.6 25.4 ZM52.6 0 L52.6 71.4 L44.1 71.4 L44.1 44.8 L43.9 44.8 Q42.5 47.1 40.45 48.65 Q38.4 50.2 36.1 51.15 Q33.8 52.1 31.5 52.5 Q29.2 52.9 27.2 52.9 Q21.3 52.9 16.85 50.75 Q12.4 48.6 9.45 44.95 Q6.5 41.3 5.05 36.4 Q3.6 31.5 3.6 26 Q3.6 20.5 5.1 15.6 Q6.6 10.7 9.55 7 Q12.5 3.3 16.95 1.1 Q21.4 -1.1 27.4 -1.1 Q32.8 -1.1 37.3 0.8 Q41.8 2.7 43.9 7 L44.1 7 L44.1 0 Z\"\n",
       "        /><glyph unicode=\"u\" horiz-adv-x=\"55.6\" d=\"M49.2 0 L49.2 51.7 L40.7 51.7 L40.7 22.5 Q40.7 19 39.75 16.05 Q38.8 13.1 36.9 10.9 Q35 8.7 32.15 7.5 Q29.3 6.3 25.4 6.3 Q20.5 6.3 17.7 9.1 Q14.9 11.9 14.9 16.7 L14.9 51.7 L6.4 51.7 L6.4 17.7 Q6.4 13.5 7.25 10.05 Q8.1 6.6 10.2 4.1 Q12.3 1.6 15.7 0.25 Q19.1 -1.1 24.2 -1.1 Q29.9 -1.1 34.1 1.15 Q38.3 3.4 41 8.2 L41.2 8.2 L41.2 0 Z\"\n",
       "        /><glyph unicode=\"t\" horiz-adv-x=\"31.5\" d=\"M18.2 51.7 L18.2 67.2 L9.7 67.2 L9.7 51.7 L0.9 51.7 L0.9 44.2 L9.7 44.2 L9.7 11.3 Q9.7 7.7 10.4 5.5 Q11.1 3.3 12.55 2.1 Q14 0.9 16.35 0.45 Q18.7 0 22 0 L28.5 0 L28.5 7.5 L24.6 7.5 Q22.6 7.5 21.35 7.65 Q20.1 7.8 19.4 8.3 Q18.7 8.8 18.45 9.7 Q18.2 10.6 18.2 12.1 L18.2 44.2 L28.5 44.2 L28.5 51.7 Z\"\n",
       "        /><glyph unicode=\"i\" horiz-adv-x=\"22.2\" d=\"M15.4 61 L15.4 71.4 L6.9 71.4 L6.9 61 ZM6.9 51.7 L6.9 0 L15.4 0 L15.4 51.7 Z\"\n",
       "        /><glyph unicode=\"n\" horiz-adv-x=\"55.6\" d=\"M6.4 51.7 L6.4 0 L14.9 0 L14.9 29.2 Q14.9 32.7 15.85 35.65 Q16.8 38.6 18.7 40.8 Q20.6 43 23.45 44.2 Q26.3 45.4 30.2 45.4 Q35.1 45.4 37.9 42.6 Q40.7 39.8 40.7 35 L40.7 0 L49.2 0 L49.2 34 Q49.2 38.2 48.35 41.65 Q47.5 45.1 45.4 47.6 Q43.3 50.1 39.9 51.5 Q36.5 52.9 31.4 52.9 Q19.9 52.9 14.6 43.5 L14.4 43.5 L14.4 51.7 Z\"\n",
       "        /><glyph unicode=\"g\" horiz-adv-x=\"57.4\" d=\"M51 4.4 L51 51.7 L43 51.7 L43 44.3 L42.9 44.3 Q40.6 48.6 36.5 50.75 Q32.4 52.9 27.5 52.9 Q20.8 52.9 16.2 50.35 Q11.6 47.8 8.8 43.85 Q6 39.9 4.8 35.05 Q3.6 30.2 3.6 25.6 Q3.6 20.3 5.05 15.55 Q6.5 10.8 9.4 7.25 Q12.3 3.7 16.6 1.6 Q20.9 -0.5 26.7 -0.5 Q31.7 -0.5 36.15 1.75 Q40.6 4 42.8 8.8 L43 8.8 L43 5.4 Q43 1.1 42.15 -2.5 Q41.3 -6.1 39.4 -8.65 Q37.5 -11.2 34.6 -12.65 Q31.7 -14.1 27.5 -14.1 Q25.4 -14.1 23.1 -13.65 Q20.8 -13.2 18.85 -12.2 Q16.9 -11.2 15.55 -9.6 Q14.2 -8 14.1 -5.7 L5.6 -5.7 Q5.8 -9.9 7.8 -12.8 Q9.8 -15.7 12.85 -17.5 Q15.9 -19.3 19.65 -20.1 Q23.4 -20.9 27 -20.9 Q39.4 -20.9 45.2 -14.6 Q51 -8.3 51 4.4 ZM27.2 6.9 Q23 6.9 20.2 8.65 Q17.4 10.4 15.7 13.25 Q14 16.1 13.3 19.6 Q12.6 23.1 12.6 26.6 Q12.6 30.3 13.45 33.7 Q14.3 37.1 16.15 39.7 Q18 42.3 20.9 43.85 Q23.8 45.4 27.9 45.4 Q31.9 45.4 34.7 43.8 Q37.5 42.2 39.25 39.55 Q41 36.9 41.8 33.6 Q42.6 30.3 42.6 26.9 Q42.6 23.3 41.75 19.7 Q40.9 16.1 39.1 13.25 Q37.3 10.4 34.35 8.65 Q31.4 6.9 27.2 6.9 Z\"\n",
       "        /><glyph unicode=\"a\" horiz-adv-x=\"53.7\" d=\"M52.2 0.2 Q50 -1.1 46.1 -1.1 Q42.8 -1.1 40.85 0.75 Q38.9 2.6 38.9 6.8 Q35.4 2.6 30.75 0.75 Q26.1 -1.1 20.7 -1.1 Q17.2 -1.1 14.05 -0.3 Q10.9 0.5 8.6 2.2 Q6.3 3.9 4.95 6.65 Q3.6 9.4 3.6 13.3 Q3.6 17.7 5.1 20.5 Q6.6 23.3 9.05 25.05 Q11.5 26.8 14.65 27.7 Q17.8 28.6 21.1 29.2 Q24.6 29.9 27.75 30.25 Q30.9 30.6 33.3 31.25 Q35.7 31.9 37.1 33.15 Q38.5 34.4 38.5 36.8 Q38.5 39.6 37.45 41.3 Q36.4 43 34.75 43.9 Q33.1 44.8 31.05 45.1 Q29 45.4 27 45.4 Q21.6 45.4 18 43.35 Q14.4 41.3 14.1 35.6 L5.6 35.6 Q5.8 40.4 7.6 43.7 Q9.4 47 12.4 49.05 Q15.4 51.1 19.25 52 Q23.1 52.9 27.5 52.9 Q31 52.9 34.45 52.4 Q37.9 51.9 40.7 50.35 Q43.5 48.8 45.2 46 Q46.9 43.2 46.9 38.7 L46.9 12.1 Q46.9 9.1 47.25 7.7 Q47.6 6.3 49.6 6.3 Q50.7 6.3 52.2 6.8 ZM38.4 26.7 Q36.8 25.5 34.2 24.95 Q31.6 24.4 28.75 24.05 Q25.9 23.7 23 23.25 Q20.1 22.8 17.8 21.8 Q15.5 20.8 14.05 18.95 Q12.6 17.1 12.6 13.9 Q12.6 11.8 13.45 10.35 Q14.3 8.9 15.65 8 Q17 7.1 18.8 6.7 Q20.6 6.3 22.6 6.3 Q26.8 6.3 29.8 7.45 Q32.8 8.6 34.7 10.35 Q36.6 12.1 37.5 14.15 Q38.4 16.2 38.4 18 Z\"\n",
       "        /><glyph unicode=\"M\" horiz-adv-x=\"87.1\" d=\"M8 71.4 L8 0 L17 0 L17 59.4 L17.2 59.4 L39.5 0 L47.6 0 L69.9 59.4 L70.1 59.4 L70.1 0 L79.1 0 L79.1 71.4 L66.1 71.4 L43.5 11.4 L21 71.4 Z\"\n",
       "        /><glyph unicode=\"1\" horiz-adv-x=\"55.6\" d=\"M35.6 0 L35.6 70.9 L29.1 70.9 Q28.4 66.9 26.5 64.3 Q24.6 61.7 21.85 60.2 Q19.1 58.7 15.7 58.15 Q12.3 57.6 8.7 57.6 L8.7 50.8 L27.1 50.8 L27.1 0 Z\"\n",
       "        /><glyph unicode=\"5\" horiz-adv-x=\"55.6\" d=\"M47 62.2 L47 69.7 L12 69.7 L5.4 32.9 L12.7 32.5 Q15.2 35.5 18.45 37.35 Q21.7 39.2 25.9 39.2 Q29.5 39.2 32.45 38 Q35.4 36.8 37.5 34.65 Q39.6 32.5 40.75 29.55 Q41.9 26.6 41.9 23.1 Q41.9 18.9 40.7 15.75 Q39.5 12.6 37.45 10.5 Q35.4 8.4 32.65 7.35 Q29.9 6.3 26.9 6.3 Q23.7 6.3 21.05 7.25 Q18.4 8.2 16.45 9.95 Q14.5 11.7 13.35 14.05 Q12.2 16.4 12 19.1 L3.5 19.1 Q3.6 14.3 5.4 10.5 Q7.2 6.7 10.3 4.15 Q13.4 1.6 17.45 0.25 Q21.5 -1.1 26.1 -1.1 Q32.3 -1.1 36.95 0.85 Q41.6 2.8 44.7 6.1 Q47.8 9.4 49.35 13.65 Q50.9 17.9 50.9 22.4 Q50.9 28.5 49.1 33.05 Q47.3 37.6 44.2 40.65 Q41.1 43.7 36.9 45.2 Q32.7 46.7 28 46.7 Q24.4 46.7 20.75 45.45 Q17.1 44.2 14.8 41.6 L14.6 41.8 L18.4 62.2 Z\"\n",
       "        /><glyph unicode=\"9\" horiz-adv-x=\"55.6\" d=\"M13.4 17.1 L4.9 17.1 Q5.7 7.9 11.6 3.4 Q17.5 -1.1 26.4 -1.1 Q39.3 -1.1 45.15 8.75 Q51 18.6 51 37 Q51 47.1 49.05 53.65 Q47.1 60.2 43.8 64 Q40.5 67.8 36.1 69.35 Q31.7 70.9 26.7 70.9 Q21.6 70.9 17.3 69.2 Q13 67.5 9.9 64.45 Q6.8 61.4 5.1 57.15 Q3.4 52.9 3.4 47.8 Q3.4 42.6 4.85 38.2 Q6.3 33.8 9.15 30.7 Q12 27.6 16.2 25.85 Q20.4 24.1 25.8 24.1 Q31 24.1 35.4 26.75 Q39.8 29.4 42.2 33.9 L42.4 33.7 Q42 19.8 38.1 13.05 Q34.2 6.3 26.4 6.3 Q21.3 6.3 17.6 9.1 Q13.9 11.9 13.4 17.1 ZM40.9 47.2 Q40.9 44.1 39.9 41.25 Q38.9 38.4 37 36.25 Q35.1 34.1 32.4 32.85 Q29.7 31.6 26.4 31.6 Q23.3 31.6 20.75 32.85 Q18.2 34.1 16.35 36.2 Q14.5 38.3 13.45 41 Q12.4 43.7 12.4 46.6 Q12.4 49.9 13.15 52.9 Q13.9 55.9 15.55 58.25 Q17.2 60.6 19.85 62 Q22.5 63.4 26.3 63.4 Q29.9 63.4 32.6 62.1 Q35.3 60.8 37.15 58.55 Q39 56.3 39.95 53.4 Q40.9 50.5 40.9 47.2 Z\"\n",
       "        /><glyph unicode=\"3\" horiz-adv-x=\"55.6\" d=\"M21.8 40.5 L21.8 33.3 Q24.2 33.6 26.9 33.6 Q30.1 33.6 32.85 32.75 Q35.6 31.9 37.6 30.15 Q39.6 28.4 40.8 25.85 Q42 23.3 42 20 Q42 16.8 40.75 14.25 Q39.5 11.7 37.4 9.95 Q35.3 8.2 32.5 7.25 Q29.7 6.3 26.6 6.3 Q19.3 6.3 15.5 10.65 Q11.7 15 11.5 21.9 L3 21.9 Q2.9 16.4 4.55 12.1 Q6.2 7.8 9.3 4.85 Q12.4 1.9 16.8 0.4 Q21.2 -1.1 26.6 -1.1 Q31.6 -1.1 36.05 0.25 Q40.5 1.6 43.8 4.3 Q47.1 7 49.05 11.05 Q51 15.1 51 20.4 Q51 26.8 47.85 31.5 Q44.7 36.2 38.2 37.6 L38.2 37.8 Q42.4 39.7 45.2 43.4 Q48 47.1 48 51.9 Q48 56.8 46.35 60.4 Q44.7 64 41.8 66.3 Q38.9 68.6 34.95 69.75 Q31 70.9 26.4 70.9 Q21.1 70.9 17.05 69.2 Q13 67.5 10.3 64.5 Q7.6 61.5 6.15 57.3 Q4.7 53.1 4.5 48 L13 48 Q13 51.1 13.8 53.9 Q14.6 56.7 16.25 58.8 Q17.9 60.9 20.45 62.15 Q23 63.4 26.4 63.4 Q31.8 63.4 35.4 60.55 Q39 57.7 39 52 Q39 49.2 37.9 47 Q36.8 44.8 34.95 43.35 Q33.1 41.9 30.65 41.15 Q28.2 40.4 25.5 40.4 L23.7 40.4 Q23.2 40.4 22.7 40.4 Q22.3 40.4 21.8 40.5 Z\"\n",
       "        /><glyph unicode=\"s\" horiz-adv-x=\"50.0\" d=\"M11.6 16.3 L3.1 16.3 Q3.3 11.5 5.1 8.15 Q6.9 4.8 9.9 2.75 Q12.9 0.7 16.8 -0.2 Q20.7 -1.1 25 -1.1 Q28.9 -1.1 32.85 -0.35 Q36.8 0.4 39.95 2.3 Q43.1 4.2 45.05 7.3 Q47 10.4 47 15.1 Q47 18.8 45.55 21.3 Q44.1 23.8 41.75 25.45 Q39.4 27.1 36.35 28.1 Q33.3 29.1 30.1 29.8 Q27.1 30.5 24.1 31.15 Q21.1 31.8 18.7 32.75 Q16.3 33.7 14.75 35.15 Q13.2 36.6 13.2 38.8 Q13.2 40.8 14.2 42.05 Q15.2 43.3 16.8 44.05 Q18.4 44.8 20.35 45.1 Q22.3 45.4 24.2 45.4 Q26.3 45.4 28.35 44.95 Q30.4 44.5 32.1 43.5 Q33.8 42.5 34.9 40.85 Q36 39.2 36.2 36.7 L44.7 36.7 Q44.4 41.4 42.7 44.55 Q41 47.7 38.15 49.55 Q35.3 51.4 31.6 52.15 Q27.9 52.9 23.5 52.9 Q20.1 52.9 16.65 52.05 Q13.2 51.2 10.45 49.45 Q7.7 47.7 5.95 44.9 Q4.2 42.1 4.2 38.2 Q4.2 33.2 6.7 30.4 Q9.2 27.6 12.95 26.05 Q16.7 24.5 21.1 23.65 Q25.5 22.8 29.25 21.75 Q33 20.7 35.5 19 Q38 17.3 38 14 Q38 11.6 36.8 10.05 Q35.6 8.5 33.75 7.7 Q31.9 6.9 29.7 6.6 Q27.5 6.3 25.5 6.3 Q22.9 6.3 20.45 6.8 Q18 7.3 16.05 8.45 Q14.1 9.6 12.9 11.55 Q11.7 13.5 11.6 16.3 Z\"\n",
       "        /><glyph unicode=\"h\" horiz-adv-x=\"55.6\" d=\"M6.4 71.4 L6.4 0 L14.9 0 L14.9 29.2 Q14.9 32.7 15.85 35.65 Q16.8 38.6 18.7 40.8 Q20.6 43 23.45 44.2 Q26.3 45.4 30.2 45.4 Q35.1 45.4 37.9 42.6 Q40.7 39.8 40.7 35 L40.7 0 L49.2 0 L49.2 34 Q49.2 38.2 48.35 41.65 Q47.5 45.1 45.4 47.6 Q43.3 50.1 39.9 51.5 Q36.5 52.9 31.4 52.9 Q29.1 52.9 26.65 52.4 Q24.2 51.9 21.95 50.85 Q19.7 49.8 17.9 48.15 Q16.1 46.5 15.1 44.1 L14.9 44.1 L14.9 71.4 Z\"\n",
       "        /><glyph unicode=\"P\" horiz-adv-x=\"64.8\" d=\"M17.3 37.2 L17.3 63.4 L35.9 63.4 Q44 63.4 47.75 60.05 Q51.5 56.7 51.5 50.3 Q51.5 43.9 47.75 40.5 Q44 37.1 35.9 37.2 ZM7.8 71.4 L7.8 0 L17.3 0 L17.3 29.2 L39.1 29.2 Q49.9 29.1 55.45 34.7 Q61 40.3 61 50.3 Q61 60.3 55.45 65.85 Q49.9 71.4 39.1 71.4 Z\"\n",
       "        /><glyph unicode=\"/\" horiz-adv-x=\"33.3\" d=\"M27.8 73.1 L-1.7 -1.6 L5.5 -1.6 L35.1 73.1 Z\"\n",
       "        /><glyph unicode=\"y\" horiz-adv-x=\"50.0\" d=\"M26.7 -6.9 Q25.2 -10.7 23.75 -13.3 Q22.3 -15.9 20.55 -17.55 Q18.8 -19.2 16.65 -19.95 Q14.5 -20.7 11.7 -20.7 Q10.2 -20.7 8.7 -20.5 Q7.2 -20.3 5.8 -19.8 L5.8 -12 Q6.9 -12.5 8.35 -12.85 Q9.8 -13.2 10.8 -13.2 Q13.4 -13.2 15.15 -11.95 Q16.9 -10.7 17.8 -8.4 L21.3 0.3 L0.8 51.7 L10.4 51.7 L25.5 9.4 L25.7 9.4 L40.2 51.7 L49.2 51.7 Z\"\n",
       "        /><glyph unicode=\"c\" horiz-adv-x=\"53.7\" d=\"M41.5 35.1 L50.3 35.1 Q49.8 39.7 47.9 43.05 Q46 46.4 43.05 48.6 Q40.1 50.8 36.25 51.85 Q32.4 52.9 28 52.9 Q21.9 52.9 17.3 50.75 Q12.7 48.6 9.65 44.85 Q6.6 41.1 5.1 36.05 Q3.6 31 3.6 25.2 Q3.6 19.4 5.15 14.55 Q6.7 9.7 9.75 6.2 Q12.8 2.7 17.35 0.8 Q21.9 -1.1 27.8 -1.1 Q37.7 -1.1 43.45 4.1 Q49.2 9.3 50.6 18.9 L41.9 18.9 Q41.1 12.9 37.55 9.6 Q34 6.3 27.7 6.3 Q23.7 6.3 20.8 7.9 Q17.9 9.5 16.1 12.15 Q14.3 14.8 13.45 18.2 Q12.6 21.6 12.6 25.2 Q12.6 29.1 13.4 32.75 Q14.2 36.4 16.05 39.2 Q17.9 42 21 43.7 Q24.1 45.4 28.7 45.4 Q34.1 45.4 37.3 42.7 Q40.5 40 41.5 35.1 Z\"\n",
       "        /><glyph unicode=\"q\" horiz-adv-x=\"59.3\" d=\"M12.6 25.4 Q12.6 29.2 13.4 32.8 Q14.2 36.4 16 39.2 Q17.8 42 20.8 43.7 Q23.8 45.4 28.1 45.4 Q32.5 45.4 35.6 43.75 Q38.7 42.1 40.65 39.4 Q42.6 36.7 43.5 33.15 Q44.4 29.6 44.4 25.8 Q44.4 22.2 43.55 18.7 Q42.7 15.2 40.8 12.45 Q38.9 9.7 35.9 8 Q32.9 6.3 28.6 6.3 Q24.5 6.3 21.45 7.9 Q18.4 9.5 16.45 12.2 Q14.5 14.9 13.55 18.35 Q12.6 21.8 12.6 25.4 ZM52.6 -19.7 L52.6 51.7 L44.1 51.7 L44.1 44.8 L43.9 44.8 Q42.5 47.1 40.45 48.65 Q38.4 50.2 36.1 51.15 Q33.8 52.1 31.5 52.5 Q29.2 52.9 27.2 52.9 Q21.3 52.9 16.85 50.75 Q12.4 48.6 9.45 44.95 Q6.5 41.3 5.05 36.4 Q3.6 31.5 3.6 26 Q3.6 20.5 5.1 15.6 Q6.6 10.7 9.55 7 Q12.5 3.3 16.95 1.1 Q21.4 -1.1 27.4 -1.1 Q32.8 -1.1 37.3 0.8 Q41.8 2.7 43.9 7 L44.1 7 L44.1 -19.7 Z\"\n",
       "        /><glyph unicode=\"r\" horiz-adv-x=\"33.3\" d=\"M6.1 51.7 L6.1 0 L14.6 0 L14.6 23 Q14.6 28 15.6 31.85 Q16.6 35.7 18.8 38.4 Q21 41.1 24.6 42.5 Q28.2 43.9 33.3 43.9 L33.3 52.9 Q26.4 53.1 21.9 50.1 Q17.4 47.1 14.3 40.8 L14.1 40.8 L14.1 51.7 Z\"\n",
       "        /><glyph unicode=\"F\" horiz-adv-x=\"57.4\" d=\"M7.8 71.4 L7.8 0 L17.3 0 L17.3 32.7 L50.1 32.7 L50.1 40.7 L17.3 40.7 L17.3 63.4 L54.7 63.4 L54.7 71.4 Z\"\n",
       "      /></font\n",
       "      ><font horiz-adv-x=\"50.0\" id=\"font2\"\n",
       "      ><font-face ascent=\"97.5\" descent=\"21.699999\" units-per-em=\"100\" style=\"font-style:normal; font-family:Helvetica Neue; font-weight:bold;\"\n",
       "        /><missing-glyph horiz-adv-x=\"50.0\" d=\"M39.1 60.7 L11.1 60.7 L11.1 9.5 L39.1 9.5 ZM48.2 69.8 L48.2 0.3 L1.7 0.3 L1.7 69.8 Z\"\n",
       "        /><glyph unicode=\"m\" horiz-adv-x=\"90.6\" d=\"M5.8 51.7 L5.8 0 L20 0 L20 30 Q20 33.8 21.1 36.15 Q22.2 38.5 23.75 39.75 Q25.3 41 26.95 41.45 Q28.6 41.9 29.6 41.9 Q33 41.9 34.75 40.75 Q36.5 39.6 37.25 37.7 Q38 35.8 38.1 33.55 Q38.2 31.3 38.2 29 L38.2 0 L52.4 0 L52.4 28.8 Q52.4 31.2 52.75 33.55 Q53.1 35.9 54.15 37.75 Q55.2 39.6 57.05 40.75 Q58.9 41.9 61.9 41.9 Q64.9 41.9 66.65 40.9 Q68.4 39.9 69.3 38.2 Q70.2 36.5 70.4 34.2 Q70.6 31.9 70.6 29.3 L70.6 0 L84.8 0 L84.8 34.6 Q84.8 39.6 83.4 43.15 Q82 46.7 79.5 48.9 Q77 51.1 73.5 52.1 Q70 53.1 65.9 53.1 Q60.5 53.1 56.55 50.5 Q52.6 47.9 50.3 44.5 Q48.2 49.3 44.15 51.2 Q40.1 53.1 35.2 53.1 Q30.1 53.1 26.15 50.9 Q22.2 48.7 19.4 44.7 L19.2 44.7 L19.2 51.7 Z\"\n",
       "        /><glyph unicode=\"r\" horiz-adv-x=\"38.9\" d=\"M5.4 51.7 L5.4 0 L19.6 0 L19.6 23.3 Q19.6 26.8 20.3 29.8 Q21 32.8 22.65 35.05 Q24.3 37.3 27 38.6 Q29.7 39.9 33.6 39.9 Q34.9 39.9 36.3 39.75 Q37.7 39.6 38.7 39.4 L38.7 52.6 Q37 53.1 35.6 53.1 Q32.9 53.1 30.4 52.3 Q27.9 51.5 25.7 50.05 Q23.5 48.6 21.8 46.55 Q20.1 44.5 19.1 42.1 L18.9 42.1 L18.9 51.7 Z\"\n",
       "        /><glyph unicode=\"g\" horiz-adv-x=\"61.1\" d=\"M29.5 12.2 Q26.2 12.2 24 13.6 Q21.8 15 20.45 17.2 Q19.1 19.4 18.55 22.15 Q18 24.9 18 27.7 Q18 30.6 18.65 33.25 Q19.3 35.9 20.75 37.95 Q22.2 40 24.35 41.2 Q26.5 42.4 29.5 42.4 Q33 42.4 35.3 41.1 Q37.6 39.8 39 37.6 Q40.4 35.4 41 32.55 Q41.6 29.7 41.6 26.5 Q41.6 23.7 40.85 21.15 Q40.1 18.6 38.6 16.6 Q37.1 14.6 34.8 13.4 Q32.5 12.2 29.5 12.2 ZM55.1 3.3 L55.1 51.7 L41.6 51.7 L41.6 44.8 L41.4 44.8 Q38.8 49.3 34.95 51.2 Q31.1 53.1 26 53.1 Q20.6 53.1 16.45 51 Q12.3 48.9 9.5 45.35 Q6.7 41.8 5.25 37.15 Q3.8 32.5 3.8 27.5 Q3.8 22.2 5.05 17.45 Q6.3 12.7 9 9.15 Q11.7 5.6 15.9 3.55 Q20.1 1.5 25.9 1.5 Q30.6 1.5 34.85 3.45 Q39.1 5.4 41.4 9.5 L41.6 9.5 L41.6 2.7 Q41.7 -2.8 38.95 -6.4 Q36.2 -10 30.2 -10 Q26.4 -10 23.5 -8.45 Q20.6 -6.9 19.6 -2.9 L5.5 -2.9 Q5.8 -7.3 7.95 -10.45 Q10.1 -13.6 13.35 -15.6 Q16.6 -17.6 20.55 -18.55 Q24.5 -19.5 28.3 -19.5 Q37.2 -19.5 42.5 -17.1 Q47.8 -14.7 50.6 -11.25 Q53.4 -7.8 54.25 -3.8 Q55.1 0.2 55.1 3.3 Z\"\n",
       "        /><glyph unicode=\"a\" horiz-adv-x=\"57.4\" d=\"M4.8 35.8 Q5.1 40.8 7.3 44.1 Q9.5 47.4 12.9 49.4 Q16.3 51.4 20.55 52.25 Q24.8 53.1 29.1 53.1 Q33 53.1 37 52.55 Q41 52 44.3 50.4 Q47.6 48.8 49.7 45.95 Q51.8 43.1 51.8 38.4 L51.8 11.5 Q51.8 8 52.2 4.8 Q52.6 1.6 53.6 0 L39.2 0 Q38.8 1.2 38.55 2.45 Q38.3 3.7 38.2 5 Q34.8 1.5 30.2 0.1 Q25.6 -1.3 20.8 -1.3 Q17.1 -1.3 13.9 -0.4 Q10.7 0.5 8.3 2.4 Q5.9 4.3 4.55 7.2 Q3.2 10.1 3.2 14.1 Q3.2 18.5 4.75 21.35 Q6.3 24.2 8.75 25.9 Q11.2 27.6 14.35 28.45 Q17.5 29.3 20.7 29.8 Q23.9 30.3 27 30.6 Q30.1 30.9 32.5 31.5 Q34.9 32.1 36.3 33.25 Q37.7 34.4 37.6 36.6 Q37.6 38.9 36.85 40.25 Q36.1 41.6 34.85 42.35 Q33.6 43.1 31.95 43.35 Q30.3 43.6 28.4 43.6 Q24.2 43.6 21.8 41.8 Q19.4 40 19 35.8 ZM37.6 25.3 Q36.7 24.5 35.35 24.05 Q34 23.6 32.45 23.3 Q30.9 23 29.2 22.8 Q27.5 22.6 25.8 22.3 Q24.2 22 22.65 21.5 Q21.1 21 19.95 20.15 Q18.8 19.3 18.1 18 Q17.4 16.7 17.4 14.7 Q17.4 12.8 18.1 11.5 Q18.8 10.2 20 9.45 Q21.2 8.7 22.8 8.4 Q24.4 8.1 26.1 8.1 Q30.3 8.1 32.6 9.5 Q34.9 10.9 36 12.85 Q37.1 14.8 37.35 16.8 Q37.6 18.8 37.6 20 Z\"\n",
       "        /><glyph unicode=\"i\" horiz-adv-x=\"25.8\" d=\"M20 59.7 L20 71.4 L5.8 71.4 L5.8 59.7 ZM5.8 51.7 L5.8 0 L20 0 L20 51.7 Z\"\n",
       "        /><glyph unicode=\"D\" horiz-adv-x=\"74.1\" d=\"M22.6 13.2 L22.6 58.2 L33.8 58.2 Q39.6 58.2 43.55 56.55 Q47.5 54.9 49.9 51.8 Q52.3 48.7 53.35 44.35 Q54.4 40 54.4 34.6 Q54.4 28.7 52.9 24.6 Q51.4 20.5 48.9 17.95 Q46.4 15.4 43.2 14.3 Q40 13.2 36.6 13.2 ZM6.9 71.4 L6.9 0 L37.7 0 Q45.9 0 51.95 2.75 Q58 5.5 62.05 10.3 Q66.1 15.1 68.1 21.7 Q70.1 28.3 70.1 36.1 Q70.1 45 67.65 51.6 Q65.2 58.2 60.85 62.6 Q56.5 67 50.55 69.2 Q44.6 71.4 37.7 71.4 Z\"\n",
       "        /><glyph unicode=\" \" horiz-adv-x=\"27.8\" d=\"\"\n",
       "        /><glyph unicode=\"e\" horiz-adv-x=\"57.4\" d=\"M40.2 31.4 L17.1 31.4 Q17.2 32.9 17.75 34.8 Q18.3 36.7 19.65 38.4 Q21 40.1 23.25 41.25 Q25.5 42.4 28.9 42.4 Q34.1 42.4 36.65 39.6 Q39.2 36.8 40.2 31.4 ZM17.1 22.4 L54.4 22.4 Q54.8 28.4 53.4 33.9 Q52 39.4 48.85 43.7 Q45.7 48 40.8 50.55 Q35.9 53.1 29.3 53.1 Q23.4 53.1 18.55 51 Q13.7 48.9 10.2 45.25 Q6.7 41.6 4.8 36.6 Q2.9 31.6 2.9 25.8 Q2.9 19.8 4.75 14.8 Q6.6 9.8 10 6.2 Q13.4 2.6 18.3 0.65 Q23.2 -1.3 29.3 -1.3 Q38.1 -1.3 44.3 2.7 Q50.5 6.7 53.5 16 L41 16 Q40.3 13.6 37.2 11.45 Q34.1 9.3 29.8 9.3 Q23.8 9.3 20.6 12.4 Q17.4 15.5 17.1 22.4 Z\"\n",
       "        /><glyph unicode=\"d\" horiz-adv-x=\"61.1\" d=\"M42.1 26 Q42.1 22.8 41.5 19.8 Q40.9 16.8 39.5 14.45 Q38.1 12.1 35.75 10.7 Q33.4 9.3 29.9 9.3 Q26.6 9.3 24.25 10.75 Q21.9 12.2 20.35 14.55 Q18.8 16.9 18.1 19.9 Q17.4 22.9 17.4 25.9 Q17.4 29.1 18.05 32.05 Q18.7 35 20.15 37.3 Q21.6 39.6 24 41 Q26.4 42.4 29.9 42.4 Q33.4 42.4 35.7 41 Q38 39.6 39.45 37.35 Q40.9 35.1 41.5 32.15 Q42.1 29.2 42.1 26 ZM42.3 6.6 L42.3 0 L55.8 0 L55.8 71.4 L41.6 71.4 L41.6 45.4 L41.4 45.4 Q39 49.2 34.85 51.15 Q30.7 53.1 26.1 53.1 Q20.4 53.1 16.1 50.85 Q11.8 48.6 8.95 44.9 Q6.1 41.2 4.65 36.35 Q3.2 31.5 3.2 26.3 Q3.2 20.9 4.65 15.9 Q6.1 10.9 8.95 7.05 Q11.8 3.2 16.2 0.95 Q20.6 -1.3 26.4 -1.3 Q31.5 -1.3 35.55 0.55 Q39.6 2.4 42.1 6.6 Z\"\n",
       "        /><glyph unicode=\"o\" horiz-adv-x=\"61.1\" d=\"M18 25.8 Q18 28.9 18.6 31.9 Q19.2 34.9 20.65 37.2 Q22.1 39.5 24.5 40.95 Q26.9 42.4 30.5 42.4 Q34.1 42.4 36.55 40.95 Q39 39.5 40.45 37.2 Q41.9 34.9 42.5 31.9 Q43.1 28.9 43.1 25.8 Q43.1 22.7 42.5 19.75 Q41.9 16.8 40.45 14.45 Q39 12.1 36.55 10.7 Q34.1 9.3 30.5 9.3 Q26.9 9.3 24.5 10.7 Q22.1 12.1 20.65 14.45 Q19.2 16.8 18.6 19.75 Q18 22.7 18 25.8 ZM3.8 25.8 Q3.8 19.6 5.7 14.6 Q7.6 9.6 11.1 6.05 Q14.6 2.5 19.5 0.6 Q24.4 -1.3 30.5 -1.3 Q36.6 -1.3 41.55 0.6 Q46.5 2.5 50 6.05 Q53.5 9.6 55.4 14.6 Q57.3 19.6 57.3 25.8 Q57.3 32 55.4 37.05 Q53.5 42.1 50 45.65 Q46.5 49.2 41.55 51.15 Q36.6 53.1 30.5 53.1 Q24.4 53.1 19.5 51.15 Q14.6 49.2 11.1 45.65 Q7.6 42.1 5.7 37.05 Q3.8 32 3.8 25.8 Z\"\n",
       "        /><glyph unicode=\"B\" horiz-adv-x=\"70.4\" d=\"M22.6 42.5 L22.6 59.2 L37.3 59.2 Q39.4 59.2 41.35 58.85 Q43.3 58.5 44.8 57.6 Q46.3 56.7 47.2 55.1 Q48.1 53.5 48.1 51 Q48.1 46.5 45.4 44.5 Q42.7 42.5 38.5 42.5 ZM6.9 71.4 L6.9 0 L41.5 0 Q46.3 0 50.85 1.2 Q55.4 2.4 58.95 4.9 Q62.5 7.4 64.6 11.35 Q66.7 15.3 66.7 20.7 Q66.7 27.4 63.45 32.15 Q60.2 36.9 53.6 38.8 Q58.4 41.1 60.85 44.7 Q63.3 48.3 63.3 53.7 Q63.3 58.7 61.65 62.1 Q60 65.5 57 67.55 Q54 69.6 49.8 70.5 Q45.6 71.4 40.5 71.4 ZM22.6 12.2 L22.6 31.8 L39.7 31.8 Q44.8 31.8 47.9 29.45 Q51 27.1 51 21.6 Q51 18.8 50.05 17 Q49.1 15.2 47.5 14.15 Q45.9 13.1 43.8 12.65 Q41.7 12.2 39.4 12.2 Z\"\n",
       "      /></font\n",
       "    ></defs\n",
       "    ><g style=\"fill:white; stroke:white;\"\n",
       "    ><rect x=\"0\" y=\"0\" width=\"560\" style=\"clip-path:url(#clipPath1); stroke:none;\" height=\"420\"\n",
       "    /></g\n",
       "    ><g style=\"fill:white; text-rendering:optimizeSpeed; color-rendering:optimizeSpeed; image-rendering:optimizeSpeed; shape-rendering:crispEdges; stroke:white; color-interpolation:sRGB;\"\n",
       "    ><rect x=\"0\" width=\"560\" height=\"420\" y=\"0\" style=\"stroke:none;\"\n",
       "      /><path style=\"stroke:none;\" d=\"M85 216 L507 216 L507 51.5 L85 51.5 Z\"\n",
       "    /></g\n",
       "    ><g style=\"fill:rgb(102,102,102); text-rendering:geometricPrecision; image-rendering:optimizeQuality; color-rendering:optimizeQuality; stroke-linejoin:round; stroke:rgb(102,102,102); color-interpolation:linearRGB; stroke-width:0.5;\"\n",
       "    ><line y2=\"216\" style=\"fill:none;\" x1=\"85\" x2=\"507\" y1=\"216\"\n",
       "      /><line y2=\"51.5\" style=\"fill:none;\" x1=\"85\" x2=\"507\" y1=\"51.5\"\n",
       "      /><line y2=\"211.78\" style=\"fill:none;\" x1=\"85\" x2=\"85\" y1=\"216\"\n",
       "      /><line y2=\"211.78\" style=\"fill:none;\" x1=\"190.5\" x2=\"190.5\" y1=\"216\"\n",
       "      /><line y2=\"211.78\" style=\"fill:none;\" x1=\"296\" x2=\"296\" y1=\"216\"\n",
       "      /><line y2=\"211.78\" style=\"fill:none;\" x1=\"401.5\" x2=\"401.5\" y1=\"216\"\n",
       "      /><line y2=\"211.78\" style=\"fill:none;\" x1=\"507\" x2=\"507\" y1=\"216\"\n",
       "      /><line y2=\"55.72\" style=\"fill:none;\" x1=\"85\" x2=\"85\" y1=\"51.5\"\n",
       "      /><line y2=\"55.72\" style=\"fill:none;\" x1=\"190.5\" x2=\"190.5\" y1=\"51.5\"\n",
       "      /><line y2=\"55.72\" style=\"fill:none;\" x1=\"296\" x2=\"296\" y1=\"51.5\"\n",
       "      /><line y2=\"55.72\" style=\"fill:none;\" x1=\"401.5\" x2=\"401.5\" y1=\"51.5\"\n",
       "      /><line y2=\"55.72\" style=\"fill:none;\" x1=\"507\" x2=\"507\" y1=\"51.5\"\n",
       "      /><line y2=\"213.89\" style=\"fill:none;\" x1=\"85\" x2=\"85\" y1=\"216\"\n",
       "      /><line y2=\"213.89\" style=\"fill:none;\" x1=\"116.7587\" x2=\"116.7587\" y1=\"216\"\n",
       "      /><line y2=\"213.89\" style=\"fill:none;\" x1=\"135.3363\" x2=\"135.3363\" y1=\"216\"\n",
       "      /><line y2=\"213.89\" style=\"fill:none;\" x1=\"148.5173\" x2=\"148.5173\" y1=\"216\"\n",
       "      /><line y2=\"213.89\" style=\"fill:none;\" x1=\"158.7413\" x2=\"158.7413\" y1=\"216\"\n",
       "      /><line y2=\"213.89\" style=\"fill:none;\" x1=\"167.095\" x2=\"167.095\" y1=\"216\"\n",
       "      /><line y2=\"213.89\" style=\"fill:none;\" x1=\"174.1578\" x2=\"174.1578\" y1=\"216\"\n",
       "      /><line y2=\"213.89\" style=\"fill:none;\" x1=\"180.276\" x2=\"180.276\" y1=\"216\"\n",
       "      /><line y2=\"213.89\" style=\"fill:none;\" x1=\"185.6726\" x2=\"185.6726\" y1=\"216\"\n",
       "      /><line y2=\"213.89\" style=\"fill:none;\" x1=\"190.5\" x2=\"190.5\" y1=\"216\"\n",
       "      /><line y2=\"213.89\" style=\"fill:none;\" x1=\"222.2587\" x2=\"222.2587\" y1=\"216\"\n",
       "      /><line y2=\"213.89\" style=\"fill:none;\" x1=\"240.8363\" x2=\"240.8363\" y1=\"216\"\n",
       "      /><line y2=\"213.89\" style=\"fill:none;\" x1=\"254.0173\" x2=\"254.0173\" y1=\"216\"\n",
       "      /><line y2=\"213.89\" style=\"fill:none;\" x1=\"264.2413\" x2=\"264.2413\" y1=\"216\"\n",
       "      /><line y2=\"213.89\" style=\"fill:none;\" x1=\"272.595\" x2=\"272.595\" y1=\"216\"\n",
       "      /><line y2=\"213.89\" style=\"fill:none;\" x1=\"279.6578\" x2=\"279.6578\" y1=\"216\"\n",
       "      /><line y2=\"213.89\" style=\"fill:none;\" x1=\"285.776\" x2=\"285.776\" y1=\"216\"\n",
       "      /><line y2=\"213.89\" style=\"fill:none;\" x1=\"291.1726\" x2=\"291.1726\" y1=\"216\"\n",
       "      /><line y2=\"213.89\" style=\"fill:none;\" x1=\"296\" x2=\"296\" y1=\"216\"\n",
       "      /><line y2=\"213.89\" style=\"fill:none;\" x1=\"327.7587\" x2=\"327.7587\" y1=\"216\"\n",
       "      /><line y2=\"213.89\" style=\"fill:none;\" x1=\"346.3363\" x2=\"346.3363\" y1=\"216\"\n",
       "      /><line y2=\"213.89\" style=\"fill:none;\" x1=\"359.5173\" x2=\"359.5173\" y1=\"216\"\n",
       "      /><line y2=\"213.89\" style=\"fill:none;\" x1=\"369.7413\" x2=\"369.7413\" y1=\"216\"\n",
       "      /><line y2=\"213.89\" style=\"fill:none;\" x1=\"378.095\" x2=\"378.095\" y1=\"216\"\n",
       "      /><line y2=\"213.89\" style=\"fill:none;\" x1=\"385.1578\" x2=\"385.1578\" y1=\"216\"\n",
       "      /><line y2=\"213.89\" style=\"fill:none;\" x1=\"391.276\" x2=\"391.276\" y1=\"216\"\n",
       "      /><line y2=\"213.89\" style=\"fill:none;\" x1=\"396.6726\" x2=\"396.6726\" y1=\"216\"\n",
       "      /><line y2=\"213.89\" style=\"fill:none;\" x1=\"401.5\" x2=\"401.5\" y1=\"216\"\n",
       "      /><line y2=\"213.89\" style=\"fill:none;\" x1=\"433.2587\" x2=\"433.2587\" y1=\"216\"\n",
       "      /><line y2=\"213.89\" style=\"fill:none;\" x1=\"451.8363\" x2=\"451.8363\" y1=\"216\"\n",
       "      /><line y2=\"213.89\" style=\"fill:none;\" x1=\"465.0173\" x2=\"465.0173\" y1=\"216\"\n",
       "      /><line y2=\"213.89\" style=\"fill:none;\" x1=\"475.2413\" x2=\"475.2413\" y1=\"216\"\n",
       "      /><line y2=\"213.89\" style=\"fill:none;\" x1=\"483.595\" x2=\"483.595\" y1=\"216\"\n",
       "      /><line y2=\"213.89\" style=\"fill:none;\" x1=\"490.6578\" x2=\"490.6578\" y1=\"216\"\n",
       "      /><line y2=\"213.89\" style=\"fill:none;\" x1=\"496.776\" x2=\"496.776\" y1=\"216\"\n",
       "      /><line y2=\"213.89\" style=\"fill:none;\" x1=\"502.1726\" x2=\"502.1726\" y1=\"216\"\n",
       "      /><line y2=\"213.89\" style=\"fill:none;\" x1=\"507\" x2=\"507\" y1=\"216\"\n",
       "      /><line y2=\"53.61\" style=\"fill:none;\" x1=\"85\" x2=\"85\" y1=\"51.5\"\n",
       "      /><line y2=\"53.61\" style=\"fill:none;\" x1=\"116.7587\" x2=\"116.7587\" y1=\"51.5\"\n",
       "      /><line y2=\"53.61\" style=\"fill:none;\" x1=\"135.3363\" x2=\"135.3363\" y1=\"51.5\"\n",
       "      /><line y2=\"53.61\" style=\"fill:none;\" x1=\"148.5173\" x2=\"148.5173\" y1=\"51.5\"\n",
       "      /><line y2=\"53.61\" style=\"fill:none;\" x1=\"158.7413\" x2=\"158.7413\" y1=\"51.5\"\n",
       "      /><line y2=\"53.61\" style=\"fill:none;\" x1=\"167.095\" x2=\"167.095\" y1=\"51.5\"\n",
       "      /><line y2=\"53.61\" style=\"fill:none;\" x1=\"174.1578\" x2=\"174.1578\" y1=\"51.5\"\n",
       "      /><line y2=\"53.61\" style=\"fill:none;\" x1=\"180.276\" x2=\"180.276\" y1=\"51.5\"\n",
       "      /><line y2=\"53.61\" style=\"fill:none;\" x1=\"185.6726\" x2=\"185.6726\" y1=\"51.5\"\n",
       "      /><line y2=\"53.61\" style=\"fill:none;\" x1=\"190.5\" x2=\"190.5\" y1=\"51.5\"\n",
       "      /><line y2=\"53.61\" style=\"fill:none;\" x1=\"222.2587\" x2=\"222.2587\" y1=\"51.5\"\n",
       "      /><line y2=\"53.61\" style=\"fill:none;\" x1=\"240.8363\" x2=\"240.8363\" y1=\"51.5\"\n",
       "      /><line y2=\"53.61\" style=\"fill:none;\" x1=\"254.0173\" x2=\"254.0173\" y1=\"51.5\"\n",
       "      /><line y2=\"53.61\" style=\"fill:none;\" x1=\"264.2413\" x2=\"264.2413\" y1=\"51.5\"\n",
       "      /><line y2=\"53.61\" style=\"fill:none;\" x1=\"272.595\" x2=\"272.595\" y1=\"51.5\"\n",
       "      /><line y2=\"53.61\" style=\"fill:none;\" x1=\"279.6578\" x2=\"279.6578\" y1=\"51.5\"\n",
       "      /><line y2=\"53.61\" style=\"fill:none;\" x1=\"285.776\" x2=\"285.776\" y1=\"51.5\"\n",
       "      /><line y2=\"53.61\" style=\"fill:none;\" x1=\"291.1726\" x2=\"291.1726\" y1=\"51.5\"\n",
       "      /><line y2=\"53.61\" style=\"fill:none;\" x1=\"296\" x2=\"296\" y1=\"51.5\"\n",
       "      /><line y2=\"53.61\" style=\"fill:none;\" x1=\"327.7587\" x2=\"327.7587\" y1=\"51.5\"\n",
       "      /><line y2=\"53.61\" style=\"fill:none;\" x1=\"346.3363\" x2=\"346.3363\" y1=\"51.5\"\n",
       "      /><line y2=\"53.61\" style=\"fill:none;\" x1=\"359.5173\" x2=\"359.5173\" y1=\"51.5\"\n",
       "      /><line y2=\"53.61\" style=\"fill:none;\" x1=\"369.7413\" x2=\"369.7413\" y1=\"51.5\"\n",
       "      /><line y2=\"53.61\" style=\"fill:none;\" x1=\"378.095\" x2=\"378.095\" y1=\"51.5\"\n",
       "      /><line y2=\"53.61\" style=\"fill:none;\" x1=\"385.1578\" x2=\"385.1578\" y1=\"51.5\"\n",
       "      /><line y2=\"53.61\" style=\"fill:none;\" x1=\"391.276\" x2=\"391.276\" y1=\"51.5\"\n",
       "      /><line y2=\"53.61\" style=\"fill:none;\" x1=\"396.6726\" x2=\"396.6726\" y1=\"51.5\"\n",
       "      /><line y2=\"53.61\" style=\"fill:none;\" x1=\"401.5\" x2=\"401.5\" y1=\"51.5\"\n",
       "      /><line y2=\"53.61\" style=\"fill:none;\" x1=\"433.2587\" x2=\"433.2587\" y1=\"51.5\"\n",
       "      /><line y2=\"53.61\" style=\"fill:none;\" x1=\"451.8363\" x2=\"451.8363\" y1=\"51.5\"\n",
       "      /><line y2=\"53.61\" style=\"fill:none;\" x1=\"465.0173\" x2=\"465.0173\" y1=\"51.5\"\n",
       "      /><line y2=\"53.61\" style=\"fill:none;\" x1=\"475.2413\" x2=\"475.2413\" y1=\"51.5\"\n",
       "      /><line y2=\"53.61\" style=\"fill:none;\" x1=\"483.595\" x2=\"483.595\" y1=\"51.5\"\n",
       "      /><line y2=\"53.61\" style=\"fill:none;\" x1=\"490.6578\" x2=\"490.6578\" y1=\"51.5\"\n",
       "      /><line y2=\"53.61\" style=\"fill:none;\" x1=\"496.776\" x2=\"496.776\" y1=\"51.5\"\n",
       "      /><line y2=\"53.61\" style=\"fill:none;\" x1=\"502.1726\" x2=\"502.1726\" y1=\"51.5\"\n",
       "      /><line y2=\"53.61\" style=\"fill:none;\" x1=\"507\" x2=\"507\" y1=\"51.5\"\n",
       "      /><line y2=\"51.5\" style=\"fill:none;\" x1=\"85\" x2=\"85\" y1=\"216\"\n",
       "      /><line y2=\"51.5\" style=\"fill:none;\" x1=\"507\" x2=\"507\" y1=\"216\"\n",
       "      /><line y2=\"216\" style=\"fill:none;\" x1=\"85\" x2=\"89.22\" y1=\"216\"\n",
       "      /><line y2=\"174.875\" style=\"fill:none;\" x1=\"85\" x2=\"89.22\" y1=\"174.875\"\n",
       "      /><line y2=\"133.75\" style=\"fill:none;\" x1=\"85\" x2=\"89.22\" y1=\"133.75\"\n",
       "      /><line y2=\"92.625\" style=\"fill:none;\" x1=\"85\" x2=\"89.22\" y1=\"92.625\"\n",
       "      /><line y2=\"51.5\" style=\"fill:none;\" x1=\"85\" x2=\"89.22\" y1=\"51.5\"\n",
       "      /><line y2=\"216\" style=\"fill:none;\" x1=\"507\" x2=\"502.78\" y1=\"216\"\n",
       "      /><line y2=\"174.875\" style=\"fill:none;\" x1=\"507\" x2=\"502.78\" y1=\"174.875\"\n",
       "      /><line y2=\"133.75\" style=\"fill:none;\" x1=\"507\" x2=\"502.78\" y1=\"133.75\"\n",
       "      /><line y2=\"92.625\" style=\"fill:none;\" x1=\"507\" x2=\"502.78\" y1=\"92.625\"\n",
       "      /><line y2=\"51.5\" style=\"fill:none;\" x1=\"507\" x2=\"502.78\" y1=\"51.5\"\n",
       "    /></g\n",
       "    ><g transform=\"translate(81,216)\" style=\"font-size:10px; fill:rgb(102,102,102); text-rendering:geometricPrecision; image-rendering:optimizeQuality; color-rendering:optimizeQuality; font-family:'Helvetica Neue'; stroke:rgb(102,102,102); color-interpolation:linearRGB;\"\n",
       "    ><text x=\"-16\" xml:space=\"preserve\" y=\"3.5\" style=\"stroke:none;\"\n",
       "      >-80</text\n",
       "    ></g\n",
       "    ><g transform=\"translate(81,174.875)\" style=\"font-size:10px; fill:rgb(102,102,102); text-rendering:geometricPrecision; image-rendering:optimizeQuality; color-rendering:optimizeQuality; font-family:'Helvetica Neue'; stroke:rgb(102,102,102); color-interpolation:linearRGB;\"\n",
       "    ><text x=\"-16\" xml:space=\"preserve\" y=\"3.5\" style=\"stroke:none;\"\n",
       "      >-60</text\n",
       "    ></g\n",
       "    ><g transform=\"translate(81,133.75)\" style=\"font-size:10px; fill:rgb(102,102,102); text-rendering:geometricPrecision; image-rendering:optimizeQuality; color-rendering:optimizeQuality; font-family:'Helvetica Neue'; stroke:rgb(102,102,102); color-interpolation:linearRGB;\"\n",
       "    ><text x=\"-16\" xml:space=\"preserve\" y=\"3.5\" style=\"stroke:none;\"\n",
       "      >-40</text\n",
       "    ></g\n",
       "    ><g transform=\"translate(81,92.625)\" style=\"font-size:10px; fill:rgb(102,102,102); text-rendering:geometricPrecision; image-rendering:optimizeQuality; color-rendering:optimizeQuality; font-family:'Helvetica Neue'; stroke:rgb(102,102,102); color-interpolation:linearRGB;\"\n",
       "    ><text x=\"-16\" xml:space=\"preserve\" y=\"3.5\" style=\"stroke:none;\"\n",
       "      >-20</text\n",
       "    ></g\n",
       "    ><g transform=\"translate(81,51.5)\" style=\"font-size:10px; fill:rgb(102,102,102); text-rendering:geometricPrecision; image-rendering:optimizeQuality; color-rendering:optimizeQuality; font-family:'Helvetica Neue'; stroke:rgb(102,102,102); color-interpolation:linearRGB;\"\n",
       "    ><text x=\"-6\" xml:space=\"preserve\" y=\"3.5\" style=\"stroke:none;\"\n",
       "      >0</text\n",
       "    ></g\n",
       "    ><g transform=\"translate(62.5,133.7499) rotate(-90)\" style=\"font-size:11px; text-rendering:geometricPrecision; color-rendering:optimizeQuality; image-rendering:optimizeQuality; font-family:'Helvetica Neue'; color-interpolation:linearRGB;\"\n",
       "    ><text x=\"-38\" xml:space=\"preserve\" y=\"-3\" style=\"stroke:none;\"\n",
       "      >Magnitude (dB)</text\n",
       "    ></g\n",
       "    ><g style=\"stroke-linecap:butt; fill:rgb(0,114,189); text-rendering:geometricPrecision; image-rendering:optimizeQuality; color-rendering:optimizeQuality; stroke-linejoin:round; stroke:rgb(0,114,189); color-interpolation:linearRGB; stroke-width:0.5;\"\n",
       "    ><path d=\"M84.9497 51.5063 L86.8424 51.5068 L93.9325 51.5092 L101.0226 51.5126 L108.1127 51.5171 L115.2028 51.5233 L122.2929 51.5318 L129.383 51.5433 L136.4731 51.5589 L143.5631 51.5802 L150.6532 51.6091 L157.7433 51.6484 L164.8334 51.7017 L171.9235 51.7738 L179.0136 51.8711 L186.1037 52.0022 L193.1937 52.1779 L200.2838 52.412 L207.3739 52.722 L214.464 53.1286 L221.5541 53.6557 L228.6442 54.3296 L235.7343 55.1767 L242.8243 56.2215 L249.9144 57.4832 L257.0045 58.9737 L264.0946 60.6964 L271.1847 62.6468 L278.2748 64.8155 L285.3649 67.191 L292.455 69.7635 L299.545 72.5273 L306.6351 75.4824 L313.7252 78.6345 L320.8153 81.9934 L327.9054 85.5705 L334.9955 89.3754 L342.0856 93.4125 L349.1756 97.6784 L356.2657 102.1611 L363.3558 106.8416 L370.4459 111.6953 L377.536 116.6958 L384.6261 121.8168 L391.7162 127.0344 L398.8062 132.3277 L405.8963 137.6797 L412.9864 143.0762 L420.0765 148.5064 L427.1666 153.9619 L434.2567 159.4362 L441.3468 164.9245 L448.4369 170.4232 L455.5269 175.9295 L462.617 181.4414 L469.7071 186.9575 L476.7972 192.4766 L483.8873 197.998 L490.9774 203.521 L498.0674 209.0452 L505.1576 214.5704 L507.0171 216.0196\" style=\"fill:none; fill-rule:evenodd;\"\n",
       "    /></g\n",
       "    ><g style=\"fill:white; text-rendering:optimizeSpeed; color-rendering:optimizeSpeed; image-rendering:optimizeSpeed; shape-rendering:crispEdges; stroke:white; color-interpolation:sRGB;\"\n",
       "    ><path style=\"stroke:none;\" d=\"M85 374 L507 374 L507 228 L85 228 Z\"\n",
       "    /></g\n",
       "    ><g style=\"fill:rgb(102,102,102); text-rendering:geometricPrecision; image-rendering:optimizeQuality; color-rendering:optimizeQuality; stroke-linejoin:round; stroke:rgb(102,102,102); color-interpolation:linearRGB; stroke-width:0.5;\"\n",
       "    ><line y2=\"374\" style=\"fill:none;\" x1=\"85\" x2=\"507\" y1=\"374\"\n",
       "      /><line y2=\"228\" style=\"fill:none;\" x1=\"85\" x2=\"507\" y1=\"228\"\n",
       "      /><line y2=\"369.78\" style=\"fill:none;\" x1=\"85\" x2=\"85\" y1=\"374\"\n",
       "      /><line y2=\"369.78\" style=\"fill:none;\" x1=\"190.5\" x2=\"190.5\" y1=\"374\"\n",
       "      /><line y2=\"369.78\" style=\"fill:none;\" x1=\"296\" x2=\"296\" y1=\"374\"\n",
       "      /><line y2=\"369.78\" style=\"fill:none;\" x1=\"401.5\" x2=\"401.5\" y1=\"374\"\n",
       "      /><line y2=\"369.78\" style=\"fill:none;\" x1=\"507\" x2=\"507\" y1=\"374\"\n",
       "      /><line y2=\"232.22\" style=\"fill:none;\" x1=\"85\" x2=\"85\" y1=\"228\"\n",
       "      /><line y2=\"232.22\" style=\"fill:none;\" x1=\"190.5\" x2=\"190.5\" y1=\"228\"\n",
       "      /><line y2=\"232.22\" style=\"fill:none;\" x1=\"296\" x2=\"296\" y1=\"228\"\n",
       "      /><line y2=\"232.22\" style=\"fill:none;\" x1=\"401.5\" x2=\"401.5\" y1=\"228\"\n",
       "      /><line y2=\"232.22\" style=\"fill:none;\" x1=\"507\" x2=\"507\" y1=\"228\"\n",
       "      /><line y2=\"371.89\" style=\"fill:none;\" x1=\"85\" x2=\"85\" y1=\"374\"\n",
       "      /><line y2=\"371.89\" style=\"fill:none;\" x1=\"116.7587\" x2=\"116.7587\" y1=\"374\"\n",
       "      /><line y2=\"371.89\" style=\"fill:none;\" x1=\"135.3363\" x2=\"135.3363\" y1=\"374\"\n",
       "      /><line y2=\"371.89\" style=\"fill:none;\" x1=\"148.5173\" x2=\"148.5173\" y1=\"374\"\n",
       "      /><line y2=\"371.89\" style=\"fill:none;\" x1=\"158.7413\" x2=\"158.7413\" y1=\"374\"\n",
       "      /><line y2=\"371.89\" style=\"fill:none;\" x1=\"167.095\" x2=\"167.095\" y1=\"374\"\n",
       "      /><line y2=\"371.89\" style=\"fill:none;\" x1=\"174.1578\" x2=\"174.1578\" y1=\"374\"\n",
       "      /><line y2=\"371.89\" style=\"fill:none;\" x1=\"180.276\" x2=\"180.276\" y1=\"374\"\n",
       "      /><line y2=\"371.89\" style=\"fill:none;\" x1=\"185.6726\" x2=\"185.6726\" y1=\"374\"\n",
       "      /><line y2=\"371.89\" style=\"fill:none;\" x1=\"190.5\" x2=\"190.5\" y1=\"374\"\n",
       "      /><line y2=\"371.89\" style=\"fill:none;\" x1=\"222.2587\" x2=\"222.2587\" y1=\"374\"\n",
       "      /><line y2=\"371.89\" style=\"fill:none;\" x1=\"240.8363\" x2=\"240.8363\" y1=\"374\"\n",
       "      /><line y2=\"371.89\" style=\"fill:none;\" x1=\"254.0173\" x2=\"254.0173\" y1=\"374\"\n",
       "      /><line y2=\"371.89\" style=\"fill:none;\" x1=\"264.2413\" x2=\"264.2413\" y1=\"374\"\n",
       "      /><line y2=\"371.89\" style=\"fill:none;\" x1=\"272.595\" x2=\"272.595\" y1=\"374\"\n",
       "      /><line y2=\"371.89\" style=\"fill:none;\" x1=\"279.6578\" x2=\"279.6578\" y1=\"374\"\n",
       "      /><line y2=\"371.89\" style=\"fill:none;\" x1=\"285.776\" x2=\"285.776\" y1=\"374\"\n",
       "      /><line y2=\"371.89\" style=\"fill:none;\" x1=\"291.1726\" x2=\"291.1726\" y1=\"374\"\n",
       "      /><line y2=\"371.89\" style=\"fill:none;\" x1=\"296\" x2=\"296\" y1=\"374\"\n",
       "      /><line y2=\"371.89\" style=\"fill:none;\" x1=\"327.7587\" x2=\"327.7587\" y1=\"374\"\n",
       "      /><line y2=\"371.89\" style=\"fill:none;\" x1=\"346.3363\" x2=\"346.3363\" y1=\"374\"\n",
       "      /><line y2=\"371.89\" style=\"fill:none;\" x1=\"359.5173\" x2=\"359.5173\" y1=\"374\"\n",
       "      /><line y2=\"371.89\" style=\"fill:none;\" x1=\"369.7413\" x2=\"369.7413\" y1=\"374\"\n",
       "      /><line y2=\"371.89\" style=\"fill:none;\" x1=\"378.095\" x2=\"378.095\" y1=\"374\"\n",
       "      /><line y2=\"371.89\" style=\"fill:none;\" x1=\"385.1578\" x2=\"385.1578\" y1=\"374\"\n",
       "      /><line y2=\"371.89\" style=\"fill:none;\" x1=\"391.276\" x2=\"391.276\" y1=\"374\"\n",
       "      /><line y2=\"371.89\" style=\"fill:none;\" x1=\"396.6726\" x2=\"396.6726\" y1=\"374\"\n",
       "      /><line y2=\"371.89\" style=\"fill:none;\" x1=\"401.5\" x2=\"401.5\" y1=\"374\"\n",
       "      /><line y2=\"371.89\" style=\"fill:none;\" x1=\"433.2587\" x2=\"433.2587\" y1=\"374\"\n",
       "      /><line y2=\"371.89\" style=\"fill:none;\" x1=\"451.8363\" x2=\"451.8363\" y1=\"374\"\n",
       "      /><line y2=\"371.89\" style=\"fill:none;\" x1=\"465.0173\" x2=\"465.0173\" y1=\"374\"\n",
       "      /><line y2=\"371.89\" style=\"fill:none;\" x1=\"475.2413\" x2=\"475.2413\" y1=\"374\"\n",
       "      /><line y2=\"371.89\" style=\"fill:none;\" x1=\"483.595\" x2=\"483.595\" y1=\"374\"\n",
       "      /><line y2=\"371.89\" style=\"fill:none;\" x1=\"490.6578\" x2=\"490.6578\" y1=\"374\"\n",
       "      /><line y2=\"371.89\" style=\"fill:none;\" x1=\"496.776\" x2=\"496.776\" y1=\"374\"\n",
       "      /><line y2=\"371.89\" style=\"fill:none;\" x1=\"502.1726\" x2=\"502.1726\" y1=\"374\"\n",
       "      /><line y2=\"371.89\" style=\"fill:none;\" x1=\"507\" x2=\"507\" y1=\"374\"\n",
       "      /><line y2=\"230.11\" style=\"fill:none;\" x1=\"85\" x2=\"85\" y1=\"228\"\n",
       "      /><line y2=\"230.11\" style=\"fill:none;\" x1=\"116.7587\" x2=\"116.7587\" y1=\"228\"\n",
       "      /><line y2=\"230.11\" style=\"fill:none;\" x1=\"135.3363\" x2=\"135.3363\" y1=\"228\"\n",
       "      /><line y2=\"230.11\" style=\"fill:none;\" x1=\"148.5173\" x2=\"148.5173\" y1=\"228\"\n",
       "      /><line y2=\"230.11\" style=\"fill:none;\" x1=\"158.7413\" x2=\"158.7413\" y1=\"228\"\n",
       "      /><line y2=\"230.11\" style=\"fill:none;\" x1=\"167.095\" x2=\"167.095\" y1=\"228\"\n",
       "      /><line y2=\"230.11\" style=\"fill:none;\" x1=\"174.1578\" x2=\"174.1578\" y1=\"228\"\n",
       "      /><line y2=\"230.11\" style=\"fill:none;\" x1=\"180.276\" x2=\"180.276\" y1=\"228\"\n",
       "      /><line y2=\"230.11\" style=\"fill:none;\" x1=\"185.6726\" x2=\"185.6726\" y1=\"228\"\n",
       "      /><line y2=\"230.11\" style=\"fill:none;\" x1=\"190.5\" x2=\"190.5\" y1=\"228\"\n",
       "      /><line y2=\"230.11\" style=\"fill:none;\" x1=\"222.2587\" x2=\"222.2587\" y1=\"228\"\n",
       "      /><line y2=\"230.11\" style=\"fill:none;\" x1=\"240.8363\" x2=\"240.8363\" y1=\"228\"\n",
       "      /><line y2=\"230.11\" style=\"fill:none;\" x1=\"254.0173\" x2=\"254.0173\" y1=\"228\"\n",
       "      /><line y2=\"230.11\" style=\"fill:none;\" x1=\"264.2413\" x2=\"264.2413\" y1=\"228\"\n",
       "      /><line y2=\"230.11\" style=\"fill:none;\" x1=\"272.595\" x2=\"272.595\" y1=\"228\"\n",
       "      /><line y2=\"230.11\" style=\"fill:none;\" x1=\"279.6578\" x2=\"279.6578\" y1=\"228\"\n",
       "      /><line y2=\"230.11\" style=\"fill:none;\" x1=\"285.776\" x2=\"285.776\" y1=\"228\"\n",
       "      /><line y2=\"230.11\" style=\"fill:none;\" x1=\"291.1726\" x2=\"291.1726\" y1=\"228\"\n",
       "      /><line y2=\"230.11\" style=\"fill:none;\" x1=\"296\" x2=\"296\" y1=\"228\"\n",
       "      /><line y2=\"230.11\" style=\"fill:none;\" x1=\"327.7587\" x2=\"327.7587\" y1=\"228\"\n",
       "      /><line y2=\"230.11\" style=\"fill:none;\" x1=\"346.3363\" x2=\"346.3363\" y1=\"228\"\n",
       "      /><line y2=\"230.11\" style=\"fill:none;\" x1=\"359.5173\" x2=\"359.5173\" y1=\"228\"\n",
       "      /><line y2=\"230.11\" style=\"fill:none;\" x1=\"369.7413\" x2=\"369.7413\" y1=\"228\"\n",
       "      /><line y2=\"230.11\" style=\"fill:none;\" x1=\"378.095\" x2=\"378.095\" y1=\"228\"\n",
       "      /><line y2=\"230.11\" style=\"fill:none;\" x1=\"385.1578\" x2=\"385.1578\" y1=\"228\"\n",
       "      /><line y2=\"230.11\" style=\"fill:none;\" x1=\"391.276\" x2=\"391.276\" y1=\"228\"\n",
       "      /><line y2=\"230.11\" style=\"fill:none;\" x1=\"396.6726\" x2=\"396.6726\" y1=\"228\"\n",
       "      /><line y2=\"230.11\" style=\"fill:none;\" x1=\"401.5\" x2=\"401.5\" y1=\"228\"\n",
       "      /><line y2=\"230.11\" style=\"fill:none;\" x1=\"433.2587\" x2=\"433.2587\" y1=\"228\"\n",
       "      /><line y2=\"230.11\" style=\"fill:none;\" x1=\"451.8363\" x2=\"451.8363\" y1=\"228\"\n",
       "      /><line y2=\"230.11\" style=\"fill:none;\" x1=\"465.0173\" x2=\"465.0173\" y1=\"228\"\n",
       "      /><line y2=\"230.11\" style=\"fill:none;\" x1=\"475.2413\" x2=\"475.2413\" y1=\"228\"\n",
       "      /><line y2=\"230.11\" style=\"fill:none;\" x1=\"483.595\" x2=\"483.595\" y1=\"228\"\n",
       "      /><line y2=\"230.11\" style=\"fill:none;\" x1=\"490.6578\" x2=\"490.6578\" y1=\"228\"\n",
       "      /><line y2=\"230.11\" style=\"fill:none;\" x1=\"496.776\" x2=\"496.776\" y1=\"228\"\n",
       "      /><line y2=\"230.11\" style=\"fill:none;\" x1=\"502.1726\" x2=\"502.1726\" y1=\"228\"\n",
       "      /><line y2=\"230.11\" style=\"fill:none;\" x1=\"507\" x2=\"507\" y1=\"228\"\n",
       "    /></g\n",
       "    ><g transform=\"translate(75,391)\" style=\"font-size:10px; fill:rgb(102,102,102); text-rendering:geometricPrecision; image-rendering:optimizeQuality; color-rendering:optimizeQuality; font-family:'Helvetica Neue'; stroke:rgb(102,102,102); color-interpolation:linearRGB;\"\n",
       "    ><text x=\"0\" xml:space=\"preserve\" y=\"0\" style=\"stroke:none;\"\n",
       "      >10</text\n",
       "    ></g\n",
       "    ><g transform=\"translate(87,386)\" style=\"font-size:8px; fill:rgb(102,102,102); text-rendering:geometricPrecision; image-rendering:optimizeQuality; color-rendering:optimizeQuality; font-family:'Helvetica Neue'; stroke:rgb(102,102,102); color-interpolation:linearRGB;\"\n",
       "    ><text x=\"0\" xml:space=\"preserve\" y=\"0\" style=\"stroke:none;\"\n",
       "      >-2</text\n",
       "    ></g\n",
       "    ><g transform=\"translate(181,391)\" style=\"font-size:10px; fill:rgb(102,102,102); text-rendering:geometricPrecision; image-rendering:optimizeQuality; color-rendering:optimizeQuality; font-family:'Helvetica Neue'; stroke:rgb(102,102,102); color-interpolation:linearRGB;\"\n",
       "    ><text x=\"0\" xml:space=\"preserve\" y=\"0\" style=\"stroke:none;\"\n",
       "      >10</text\n",
       "    ></g\n",
       "    ><g transform=\"translate(193,386)\" style=\"font-size:8px; fill:rgb(102,102,102); text-rendering:geometricPrecision; image-rendering:optimizeQuality; color-rendering:optimizeQuality; font-family:'Helvetica Neue'; stroke:rgb(102,102,102); color-interpolation:linearRGB;\"\n",
       "    ><text x=\"0\" xml:space=\"preserve\" y=\"0\" style=\"stroke:none;\"\n",
       "      >-1</text\n",
       "    ></g\n",
       "    ><g transform=\"translate(287,391)\" style=\"font-size:10px; fill:rgb(102,102,102); text-rendering:geometricPrecision; image-rendering:optimizeQuality; color-rendering:optimizeQuality; font-family:'Helvetica Neue'; stroke:rgb(102,102,102); color-interpolation:linearRGB;\"\n",
       "    ><text x=\"0\" xml:space=\"preserve\" y=\"0\" style=\"stroke:none;\"\n",
       "      >10</text\n",
       "    ></g\n",
       "    ><g transform=\"translate(299,386)\" style=\"font-size:8px; fill:rgb(102,102,102); text-rendering:geometricPrecision; image-rendering:optimizeQuality; color-rendering:optimizeQuality; font-family:'Helvetica Neue'; stroke:rgb(102,102,102); color-interpolation:linearRGB;\"\n",
       "    ><text x=\"0\" xml:space=\"preserve\" y=\"0\" style=\"stroke:none;\"\n",
       "      >0</text\n",
       "    ></g\n",
       "    ><g transform=\"translate(393,391)\" style=\"font-size:10px; fill:rgb(102,102,102); text-rendering:geometricPrecision; image-rendering:optimizeQuality; color-rendering:optimizeQuality; font-family:'Helvetica Neue'; stroke:rgb(102,102,102); color-interpolation:linearRGB;\"\n",
       "    ><text x=\"0\" xml:space=\"preserve\" y=\"0\" style=\"stroke:none;\"\n",
       "      >10</text\n",
       "    ></g\n",
       "    ><g transform=\"translate(405,386)\" style=\"font-size:8px; fill:rgb(102,102,102); text-rendering:geometricPrecision; image-rendering:optimizeQuality; color-rendering:optimizeQuality; font-family:'Helvetica Neue'; stroke:rgb(102,102,102); color-interpolation:linearRGB;\"\n",
       "    ><text x=\"0\" xml:space=\"preserve\" y=\"0\" style=\"stroke:none;\"\n",
       "      >1</text\n",
       "    ></g\n",
       "    ><g transform=\"translate(498,391)\" style=\"font-size:10px; fill:rgb(102,102,102); text-rendering:geometricPrecision; image-rendering:optimizeQuality; color-rendering:optimizeQuality; font-family:'Helvetica Neue'; stroke:rgb(102,102,102); color-interpolation:linearRGB;\"\n",
       "    ><text x=\"0\" xml:space=\"preserve\" y=\"0\" style=\"stroke:none;\"\n",
       "      >10</text\n",
       "    ></g\n",
       "    ><g transform=\"translate(510,386)\" style=\"font-size:8px; fill:rgb(102,102,102); text-rendering:geometricPrecision; image-rendering:optimizeQuality; color-rendering:optimizeQuality; font-family:'Helvetica Neue'; stroke:rgb(102,102,102); color-interpolation:linearRGB;\"\n",
       "    ><text x=\"0\" xml:space=\"preserve\" y=\"0\" style=\"stroke:none;\"\n",
       "      >2</text\n",
       "    ></g\n",
       "    ><g style=\"fill:rgb(102,102,102); text-rendering:geometricPrecision; image-rendering:optimizeQuality; color-rendering:optimizeQuality; stroke-linejoin:round; stroke:rgb(102,102,102); color-interpolation:linearRGB; stroke-width:0.5;\"\n",
       "    ><line y2=\"228\" style=\"fill:none;\" x1=\"85\" x2=\"85\" y1=\"374\"\n",
       "      /><line y2=\"228\" style=\"fill:none;\" x1=\"507\" x2=\"507\" y1=\"374\"\n",
       "      /><line y2=\"372.5686\" style=\"fill:none;\" x1=\"85\" x2=\"89.22\" y1=\"372.5686\"\n",
       "      /><line y2=\"336.7843\" style=\"fill:none;\" x1=\"85\" x2=\"89.22\" y1=\"336.7843\"\n",
       "      /><line y2=\"301\" style=\"fill:none;\" x1=\"85\" x2=\"89.22\" y1=\"301\"\n",
       "      /><line y2=\"265.2157\" style=\"fill:none;\" x1=\"85\" x2=\"89.22\" y1=\"265.2157\"\n",
       "      /><line y2=\"229.4314\" style=\"fill:none;\" x1=\"85\" x2=\"89.22\" y1=\"229.4314\"\n",
       "      /><line y2=\"372.5686\" style=\"fill:none;\" x1=\"507\" x2=\"502.78\" y1=\"372.5686\"\n",
       "      /><line y2=\"336.7843\" style=\"fill:none;\" x1=\"507\" x2=\"502.78\" y1=\"336.7843\"\n",
       "      /><line y2=\"301\" style=\"fill:none;\" x1=\"507\" x2=\"502.78\" y1=\"301\"\n",
       "      /><line y2=\"265.2157\" style=\"fill:none;\" x1=\"507\" x2=\"502.78\" y1=\"265.2157\"\n",
       "      /><line y2=\"229.4314\" style=\"fill:none;\" x1=\"507\" x2=\"502.78\" y1=\"229.4314\"\n",
       "    /></g\n",
       "    ><g transform=\"translate(81,372.5686)\" style=\"font-size:10px; fill:rgb(102,102,102); text-rendering:geometricPrecision; image-rendering:optimizeQuality; color-rendering:optimizeQuality; font-family:'Helvetica Neue'; stroke:rgb(102,102,102); color-interpolation:linearRGB;\"\n",
       "    ><text x=\"-6\" xml:space=\"preserve\" y=\"3.5\" style=\"stroke:none;\"\n",
       "      >0</text\n",
       "    ></g\n",
       "    ><g transform=\"translate(81,336.7843)\" style=\"font-size:10px; fill:rgb(102,102,102); text-rendering:geometricPrecision; image-rendering:optimizeQuality; color-rendering:optimizeQuality; font-family:'Helvetica Neue'; stroke:rgb(102,102,102); color-interpolation:linearRGB;\"\n",
       "    ><text x=\"-12\" xml:space=\"preserve\" y=\"3.5\" style=\"stroke:none;\"\n",
       "      >45</text\n",
       "    ></g\n",
       "    ><g transform=\"translate(81,301)\" style=\"font-size:10px; fill:rgb(102,102,102); text-rendering:geometricPrecision; image-rendering:optimizeQuality; color-rendering:optimizeQuality; font-family:'Helvetica Neue'; stroke:rgb(102,102,102); color-interpolation:linearRGB;\"\n",
       "    ><text x=\"-12\" xml:space=\"preserve\" y=\"3.5\" style=\"stroke:none;\"\n",
       "      >90</text\n",
       "    ></g\n",
       "    ><g transform=\"translate(81,265.2157)\" style=\"font-size:10px; fill:rgb(102,102,102); text-rendering:geometricPrecision; image-rendering:optimizeQuality; color-rendering:optimizeQuality; font-family:'Helvetica Neue'; stroke:rgb(102,102,102); color-interpolation:linearRGB;\"\n",
       "    ><text x=\"-17\" xml:space=\"preserve\" y=\"3.5\" style=\"stroke:none;\"\n",
       "      >135</text\n",
       "    ></g\n",
       "    ><g transform=\"translate(81,229.4314)\" style=\"font-size:10px; fill:rgb(102,102,102); text-rendering:geometricPrecision; image-rendering:optimizeQuality; color-rendering:optimizeQuality; font-family:'Helvetica Neue'; stroke:rgb(102,102,102); color-interpolation:linearRGB;\"\n",
       "    ><text x=\"-17\" xml:space=\"preserve\" y=\"3.5\" style=\"stroke:none;\"\n",
       "      >180</text\n",
       "    ></g\n",
       "    ><g transform=\"translate(61,300.9999) rotate(-90)\" style=\"font-size:11px; text-rendering:geometricPrecision; color-rendering:optimizeQuality; image-rendering:optimizeQuality; font-family:'Helvetica Neue'; color-interpolation:linearRGB;\"\n",
       "    ><text x=\"-29.5\" xml:space=\"preserve\" y=\"-3\" style=\"stroke:none;\"\n",
       "      >Phase (deg)</text\n",
       "    ></g\n",
       "    ><g style=\"stroke-linecap:butt; fill:rgb(0,114,189); text-rendering:geometricPrecision; image-rendering:optimizeQuality; color-rendering:optimizeQuality; stroke-linejoin:round; stroke:rgb(0,114,189); color-interpolation:linearRGB; stroke-width:0.5;\"\n",
       "    ><path d=\"M84.9497 230.7996 L86.8424 230.854 L93.9325 231.092 L101.0226 231.3697 L108.1127 231.6937 L115.2028 232.0719 L122.2929 232.5129 L129.383 233.0273 L136.4731 233.627 L143.5631 234.3259 L150.6532 235.1397 L157.7433 236.0867 L164.8334 237.1873 L171.9235 238.4644 L179.0136 239.9433 L186.1037 241.6511 L193.1937 243.6158 L200.2838 245.8653 L207.3739 248.4248 L214.464 251.3139 L221.5541 254.5428 L228.6442 258.1088 L235.7343 261.9926 L242.8243 266.1573 L249.9144 270.551 L257.0045 275.1121 L264.0946 279.778 L271.1847 284.4948 L278.2748 289.2234 L285.3649 293.943 L292.455 298.6496 L299.545 303.3504 L306.6351 308.057 L313.7252 312.7766 L320.8153 317.5052 L327.9054 322.222 L334.9955 326.8879 L342.0856 331.449 L349.1756 335.8427 L356.2657 340.0074 L363.3558 343.8912 L370.4459 347.4572 L377.536 350.6862 L384.6261 353.5752 L391.7162 356.1346 L398.8062 358.3842 L405.8963 360.3489 L412.9864 362.0567 L420.0765 363.5356 L427.1666 364.8127 L434.2567 365.9133 L441.3468 366.8603 L448.4369 367.6741 L455.5269 368.373 L462.617 368.9727 L469.7071 369.4871 L476.7972 369.9282 L483.8873 370.3062 L490.9774 370.6303 L498.0674 370.908 L505.1576 371.146 L507.0503 371.2004\" style=\"fill:none; fill-rule:evenodd;\"\n",
       "    /></g\n",
       "    ><g transform=\"translate(295,44.45)\" style=\"font-size:11px; text-rendering:geometricPrecision; image-rendering:optimizeQuality; color-rendering:optimizeQuality; font-family:'Helvetica Neue'; color-interpolation:linearRGB; font-weight:bold;\"\n",
       "    ><text x=\"-38\" xml:space=\"preserve\" y=\"-3\" style=\"stroke:none;\"\n",
       "      >Bode Diagram</text\n",
       "    ></g\n",
       "    ><g transform=\"translate(295,392.5)\" style=\"font-size:11px; text-rendering:geometricPrecision; color-rendering:optimizeQuality; image-rendering:optimizeQuality; font-family:'Helvetica Neue'; color-interpolation:linearRGB;\"\n",
       "    ><text x=\"-45\" xml:space=\"preserve\" y=\"11\" style=\"stroke:none;\"\n",
       "      >Frequency  (rad/s)</text\n",
       "    ></g\n",
       "  ></g\n",
       "></svg\n",
       ">\n"
      ]
     },
     "metadata": {
      "filenames": {
       "image/svg+xml": "/Users/cpjobling/code/src/github.com/cpjobling/eg-247-textbook/_build/jupyter_execute/laplace_transform/4/transfer_functions_73_0.svg"
      }
     },
     "output_type": "display_data"
    }
   ],
   "source": [
    "bode(G)"
   ]
  },
  {
   "cell_type": "markdown",
   "id": "1e29d729",
   "metadata": {},
   "source": [
    "## Reference \n",
    "\n",
    "See [Bibliography](/zbib)."
   ]
  }
 ],
 "metadata": {
  "jupytext": {
   "formats": "ipynb,md:myst",
   "text_representation": {
    "extension": ".md",
    "format_name": "myst",
    "format_version": 0.13,
    "jupytext_version": "1.11.5"
   }
  },
  "kernelspec": {
   "display_name": "MATLAB",
   "language": "matlab",
   "name": "imatlab"
  },
  "language_info": {
   "codemirror_mode": "octave",
   "file_extension": ".m",
   "mimetype": "text/x-matlab",
   "name": "matlab",
   "nbconvert_exporter": "imatlab._exporter.MatlabExporter",
   "pygments_lexer": "matlab",
   "version": "9.11.0.1873467 (R2021b) Update 3"
  },
  "source_map": [
   15,
   19,
   23,
   36,
   40,
   44,
   48,
   52,
   56,
   69,
   75,
   79,
   83,
   87,
   91,
   97,
   103,
   109,
   113,
   117,
   121,
   125,
   129,
   135,
   141,
   147,
   151,
   159,
   163,
   167,
   171,
   175,
   179,
   183,
   187,
   193,
   199,
   205,
   211,
   215,
   223,
   236,
   245,
   249,
   258,
   266,
   272,
   281,
   285,
   294,
   298,
   310,
   316,
   320,
   324,
   328,
   336,
   340,
   350,
   356,
   363,
   369,
   376,
   383,
   387,
   395,
   399,
   407,
   411,
   417,
   425,
   429,
   435,
   439,
   445
  ]
 },
 "nbformat": 4,
 "nbformat_minor": 5
}