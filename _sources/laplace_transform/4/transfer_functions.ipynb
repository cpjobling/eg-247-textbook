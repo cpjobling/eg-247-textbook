{
 "cells": [
  {
   "cell_type": "markdown",
   "id": "2fe7c638",
   "metadata": {
    "slideshow": {
     "slide_type": "slide"
    }
   },
   "source": [
    "# Transfer Functions"
   ]
  },
  {
   "cell_type": "markdown",
   "id": "78d1d0e6",
   "metadata": {
    "slideshow": {
     "slide_type": "notes"
    }
   },
   "source": [
    "The preparatory reading for this section is [Chapter 4.4](https://ebookcentral.proquest.com/lib/swansea-ebooks/reader.action?docID=3384197&ppg=75#ppg=113) {cite}`karris` which discusses transfer function models of electrical circuits."
   ]
  },
  {
   "cell_type": "markdown",
   "id": "8ccb00e4",
   "metadata": {
    "slideshow": {
     "slide_type": "notes"
    }
   },
   "source": [
    "## Colophon\n",
    "\n",
    "\n",
    "An annotatable worksheet for this presentation is available as [**Worksheet 7**](https://cpjobling.github.io/eg-247-textbook/laplace_transform/4/worksheet7.html).\n",
    "\n",
    "* The source code for this page is [laplace_transform/4/transfer_functions.ipynb](https://github.com/cpjobling/eg-247-textbook/blob/master/laplace_transform/4/transfer_functions.ipynb).\n",
    "\n",
    "* You can view the notes for this presentation as a webpage ([HTML](https://cpjobling.github.io/eg-247-textbook/laplace_transform/4/transfer_functions.html)). \n",
    "\n",
    "* This page is downloadable as a [PDF](https://cpjobling.github.io/eg-247-textbook/laplace_transform/4/transfer_functions.pdf) file."
   ]
  },
  {
   "cell_type": "markdown",
   "id": "f8fc707e",
   "metadata": {
    "slideshow": {
     "slide_type": "slide"
    }
   },
   "source": [
    "## Agenda"
   ]
  },
  {
   "cell_type": "markdown",
   "id": "2262cbb9",
   "metadata": {
    "slideshow": {
     "slide_type": "fragment"
    }
   },
   "source": [
    "* Transfer Functions"
   ]
  },
  {
   "cell_type": "markdown",
   "id": "ea851cb2",
   "metadata": {
    "slideshow": {
     "slide_type": "fragment"
    }
   },
   "source": [
    "* A Couple of Examples"
   ]
  },
  {
   "cell_type": "markdown",
   "id": "f642ac8c",
   "metadata": {
    "slideshow": {
     "slide_type": "fragment"
    }
   },
   "source": [
    "* Circuit Analysis Using MATLAB LTI Transfer Function Block"
   ]
  },
  {
   "cell_type": "markdown",
   "id": "93c2df76",
   "metadata": {
    "slideshow": {
     "slide_type": "fragment"
    }
   },
   "source": [
    "* Circuit Simulation Using Simulink Transfer Function Block"
   ]
  },
  {
   "cell_type": "code",
   "execution_count": 1,
   "id": "e365aad2",
   "metadata": {
    "slideshow": {
     "slide_type": "skip"
    }
   },
   "outputs": [
    {
     "name": "stdout",
     "output_type": "stream",
     "text": [
      "ans =\n",
      "    '/Users/eechris/code/src/github.com/cpjobling/eg-247-textbook/laplace_transform/matlab'\n"
     ]
    }
   ],
   "source": [
    "% Matlab setup\n",
    "clear all\n",
    "cd ../matlab \n",
    "pwd\n",
    "imatlab_export_fig('print-svg')  % Static svg figures.\n",
    "format compact"
   ]
  },
  {
   "cell_type": "markdown",
   "id": "3559519b",
   "metadata": {
    "slideshow": {
     "slide_type": "slide"
    }
   },
   "source": [
    "## Transfer Functions for Circuits\n",
    "\n",
    "When doing circuit analysis with components defined in the complex frequency domain, the ratio of the output voltage $V_{\\mathrm{out}}(s)$ to the input voltage $V_{\\mathrm{in}}(s)$ *under zero initial conditions* is of great interest."
   ]
  },
  {
   "cell_type": "markdown",
   "id": "79a258b3",
   "metadata": {
    "slideshow": {
     "slide_type": "subslide"
    }
   },
   "source": [
    "This ratio is known as the *voltage transfer function* denoted $G_v(s)$:"
   ]
  },
  {
   "cell_type": "markdown",
   "id": "2e957915",
   "metadata": {
    "slideshow": {
     "slide_type": "fragment"
    }
   },
   "source": [
    "$$G_v(s) = \\frac{V_{\\mathrm{out}}(s)}{V_{\\mathrm{in}}(s)}$$"
   ]
  },
  {
   "cell_type": "markdown",
   "id": "69a0d03d",
   "metadata": {
    "slideshow": {
     "slide_type": "subslide"
    }
   },
   "source": [
    "Similarly, the ratio of the output current $I_{\\mathrm{out}}(s)$ to the input current $I_{\\mathrm{in}}(s)$ *under zero initial conditions*, is called the *cuurent transfer function* denoted $G_i(s)$:"
   ]
  },
  {
   "cell_type": "markdown",
   "id": "f54a0aa2",
   "metadata": {
    "slideshow": {
     "slide_type": "fragment"
    }
   },
   "source": [
    "$$G_i(s) = \\frac{I_{\\mathrm{out}}(s)}{I_{\\mathrm{in}}(s)}$$"
   ]
  },
  {
   "cell_type": "markdown",
   "id": "1f0a3d1d",
   "metadata": {
    "slideshow": {
     "slide_type": "notes"
    }
   },
   "source": [
    "In practice, the current transfer function is rarely used, so we will use the voltage transfer function denoted:\n",
    "\n",
    "$$G(s) = \\frac{V_{\\mathrm{out}}(s)}{V_{\\mathrm{in}}(s)}$$"
   ]
  },
  {
   "cell_type": "markdown",
   "id": "ff5ea473",
   "metadata": {
    "slideshow": {
     "slide_type": "slide"
    }
   },
   "source": [
    "## Examples\n",
    "\n",
    "See [Worksheet 7](worksheet7) for the worked solutions to the examples. We will work through these in class. Here I'll demonstrate the MATLAB solutions."
   ]
  },
  {
   "cell_type": "markdown",
   "id": "1c09be4e",
   "metadata": {
    "slideshow": {
     "slide_type": "subslide"
    }
   },
   "source": [
    "### Example 6\n",
    "\n",
    "Derive an expression for the transfer function $G(s)$ for the circuit below. In this circuit $R_g$ represents the internal resistance of the applied (voltage) source $v_s$, and $R_L$ represents the resistance of the load that consists of $R_L$, $L$ and $C$."
   ]
  },
  {
   "cell_type": "markdown",
   "id": "e1e12760",
   "metadata": {
    "slideshow": {
     "slide_type": "subslide"
    }
   },
   "source": [
    "<img title=\"Circuit for Example 6\" src=\"pictures/example6.png\" width=\"50%\" />"
   ]
  },
  {
   "cell_type": "markdown",
   "id": "e608dd44",
   "metadata": {
    "slideshow": {
     "slide_type": "subslide"
    }
   },
   "source": [
    "### Sketch of Solution"
   ]
  },
  {
   "cell_type": "markdown",
   "id": "c50f744b",
   "metadata": {
    "slideshow": {
     "slide_type": "fragment"
    }
   },
   "source": [
    "* Replace $v_s(t)$, $R_g$, $R_L$, $L$ and $C$ by their transformed (*complex frequency*) equivalents: $V_s(s)$, $R_g$, $R_L$, $sL$ and $1/(sC)$"
   ]
  },
  {
   "cell_type": "markdown",
   "id": "28a8ba8d",
   "metadata": {
    "slideshow": {
     "slide_type": "fragment"
    }
   },
   "source": [
    "* Use the *Voltage Divider Rule* to determine $V_\\mathrm{out}(s)$ as a function of $V_s(s)$"
   ]
  },
  {
   "cell_type": "markdown",
   "id": "b9161d23",
   "metadata": {
    "slideshow": {
     "slide_type": "subslide"
    }
   },
   "source": [
    "* Form $G(s)$ by writing down the ratio $V_\\mathrm{out}(s)/V_s(s)$"
   ]
  },
  {
   "cell_type": "markdown",
   "id": "8709d0ed",
   "metadata": {
    "slideshow": {
     "slide_type": "notes"
    }
   },
   "source": [
    "### Worked solution.\n",
    "\n",
    "Pencast: [ex6.pdf](https://cpjobling.github.io/eg-247-textbook/laplace_transform/worked_examples/ex6.pdf) - open in Adobe Acrobat Reader."
   ]
  },
  {
   "cell_type": "markdown",
   "id": "1eb84c64",
   "metadata": {
    "slideshow": {
     "slide_type": "subslide"
    }
   },
   "source": [
    "### Answer\n",
    "\n",
    "$$G(s) = \\frac{V_\\mathrm{out}(s)}{V_s(s)} = \\frac{R_L + sL + 1/sC}{R_g + R_L + sL + 1/sC}.$$"
   ]
  },
  {
   "cell_type": "markdown",
   "id": "38158d98",
   "metadata": {
    "slideshow": {
     "slide_type": "subslide"
    }
   },
   "source": [
    "### Example 7\n",
    "\n",
    "Compute the transfer function for the op-amp circuit shown below in terms of the circuit constants $R_1$, $R_2$, $R_3$, $C_1$ and $C_2$."
   ]
  },
  {
   "cell_type": "markdown",
   "id": "dd1fc478",
   "metadata": {
    "slideshow": {
     "slide_type": "subslide"
    }
   },
   "source": [
    "<img alt=\"Circuit for Example 7\" src=\"pictures/example7.png\" width=\"50%\" />"
   ]
  },
  {
   "cell_type": "markdown",
   "id": "a86358ca",
   "metadata": {
    "slideshow": {
     "slide_type": "subslide"
    }
   },
   "source": [
    "Then replace the complex variable $s$ with $j\\omega$, and the circuit constants with their numerical values and plot the magnitude\n",
    "\n",
    "$$\\left|G(j\\omega)\\right| = \\frac{\\left|V_{\\mathrm{out}}(j\\omega)\\right|}{\\left|V_{\\mathrm{in}}(j\\omega)\\right|}$$\n",
    "\n",
    "versus radian frequency $\\omega$ rad/s."
   ]
  },
  {
   "cell_type": "markdown",
   "id": "3fa4e174",
   "metadata": {
    "slideshow": {
     "slide_type": "subslide"
    }
   },
   "source": [
    "### Sketch of Solution"
   ]
  },
  {
   "cell_type": "markdown",
   "id": "b8191b79",
   "metadata": {
    "slideshow": {
     "slide_type": "fragment"
    }
   },
   "source": [
    "* Replace the components and voltages in the circuit diagram with their complex frequency equivalents"
   ]
  },
  {
   "cell_type": "markdown",
   "id": "560d946e",
   "metadata": {
    "slideshow": {
     "slide_type": "fragment"
    }
   },
   "source": [
    "* Use nodal analysis to determine the voltages at the nodes either side of the 50K resistor $R_3$"
   ]
  },
  {
   "cell_type": "markdown",
   "id": "7cc9ccef",
   "metadata": {
    "slideshow": {
     "slide_type": "subslide"
    }
   },
   "source": [
    "* Note that the voltage at the input to the op-amp is a virtual ground"
   ]
  },
  {
   "cell_type": "markdown",
   "id": "69ceb132",
   "metadata": {
    "slideshow": {
     "slide_type": "fragment"
    }
   },
   "source": [
    "* Solve for $V_{\\mathrm{out}}(s)$ as a function of $V_{\\mathrm{in}}(s)$"
   ]
  },
  {
   "cell_type": "markdown",
   "id": "aff4e7bc",
   "metadata": {
    "slideshow": {
     "slide_type": "fragment"
    }
   },
   "source": [
    "* Form the reciprocal $G(s) = V_{\\mathrm{out}}(s)/V_{\\mathrm{in}}(s)$"
   ]
  },
  {
   "cell_type": "markdown",
   "id": "8afa8299",
   "metadata": {
    "slideshow": {
     "slide_type": "subslide"
    }
   },
   "source": [
    "* Use MATLAB to calculate the component values, then replace $s$ by $j\\omega$."
   ]
  },
  {
   "cell_type": "markdown",
   "id": "f29d5579",
   "metadata": {
    "slideshow": {
     "slide_type": "fragment"
    }
   },
   "source": [
    "* Plot\n",
    "\n",
    "    $$\\left|G(j\\omega)\\right|$$\n",
    "\n",
    "  on log-linear \"paper\"."
   ]
  },
  {
   "cell_type": "markdown",
   "id": "7c9eb33c",
   "metadata": {
    "slideshow": {
     "slide_type": "notes"
    }
   },
   "source": [
    "### Worked solution.\n",
    "\n",
    "Pencast: [ex7.pdf](https://cpjobling.github.io/eg-247-textbook/laplace_transform/worked_examples/ex7.pdf) - open in Adobe Acrobat Reader."
   ]
  },
  {
   "cell_type": "markdown",
   "id": "f1f03ff5",
   "metadata": {
    "slideshow": {
     "slide_type": "subslide"
    }
   },
   "source": [
    "### Answer\n",
    "\n",
    "$$G(s) = \\frac{V_\\mathrm{out}(s)}{V_\\mathrm{in}(s)} = \\frac{-1}{R_1\\left(\\left(1/R_1 + 1/R_2 + 1/R_3 + sC_1\\right)\\left(sC_2R_3\\right)+1/R_2\\right)}.$$"
   ]
  },
  {
   "cell_type": "markdown",
   "id": "15fcbbac",
   "metadata": {
    "slideshow": {
     "slide_type": "subslide"
    }
   },
   "source": [
    "### The Matlab Bit\n",
    "\n",
    "See attached script: [solution7.m](https://cpjobling.github.io/eg-247-textbook/laplace_transform/matlab/solution7.m)."
   ]
  },
  {
   "cell_type": "markdown",
   "id": "cbdf85af",
   "metadata": {
    "slideshow": {
     "slide_type": "subslide"
    }
   },
   "source": [
    "#### Week 3: Solution 7"
   ]
  },
  {
   "cell_type": "code",
   "execution_count": 2,
   "id": "4930b615",
   "metadata": {
    "slideshow": {
     "slide_type": "fragment"
    }
   },
   "outputs": [],
   "source": [
    "syms s;"
   ]
  },
  {
   "cell_type": "code",
   "execution_count": 3,
   "id": "f8f53a66",
   "metadata": {
    "slideshow": {
     "slide_type": "subslide"
    }
   },
   "outputs": [],
   "source": [
    "R1 = 200*10^3; \n",
    "R2 = 40*10^3;\n",
    "R3 = 50*10^3;\n",
    "\n",
    "C1 = 25*10^(-9);\n",
    "C2 = 10*10^(-9);"
   ]
  },
  {
   "cell_type": "code",
   "execution_count": 4,
   "id": "078b5074",
   "metadata": {
    "slideshow": {
     "slide_type": "subslide"
    }
   },
   "outputs": [
    {
     "name": "stdout",
     "output_type": "stream",
     "text": [
      "ans =\n"
     ]
    },
    {
     "name": "stdout",
     "output_type": "stream",
     "text": [
      "100*s*(2.5000e-08*s + 5.0000e-05) + 5\n"
     ]
    }
   ],
   "source": [
    "den = R1*((1/R1+ 1/R2 + 1/R3 + s*C1)*(s*R3*C2) + 1/R2);\n",
    "simplify(den)"
   ]
  },
  {
   "cell_type": "markdown",
   "id": "2730b27e",
   "metadata": {
    "slideshow": {
     "slide_type": "subslide"
    }
   },
   "source": [
    "Simplify coefficients of s in denominator"
   ]
  },
  {
   "cell_type": "code",
   "execution_count": 5,
   "id": "67aba7be",
   "metadata": {
    "slideshow": {
     "slide_type": "subslide"
    }
   },
   "outputs": [
    {
     "name": "stdout",
     "output_type": "stream",
     "text": [
      "denG =\n",
      "   0.000002500000000   0.005000000000000   5.000000000000000\n"
     ]
    }
   ],
   "source": [
    "format long\n",
    "denG = sym2poly(ans)"
   ]
  },
  {
   "cell_type": "code",
   "execution_count": 6,
   "id": "56266541",
   "metadata": {
    "slideshow": {
     "slide_type": "subslide"
    }
   },
   "outputs": [],
   "source": [
    "numG = -1;"
   ]
  },
  {
   "cell_type": "markdown",
   "id": "a2f21786",
   "metadata": {
    "slideshow": {
     "slide_type": "subslide"
    }
   },
   "source": [
    "Plot\n",
    "\n",
    "For convenience, define coefficients $a$ and $b$:"
   ]
  },
  {
   "cell_type": "code",
   "execution_count": 7,
   "id": "5892fb32",
   "metadata": {
    "slideshow": {
     "slide_type": "fragment"
    }
   },
   "outputs": [],
   "source": [
    "a = denG(1);\n",
    "b = denG(2);"
   ]
  },
  {
   "cell_type": "markdown",
   "id": "beddcbff",
   "metadata": {
    "slideshow": {
     "slide_type": "subslide"
    }
   },
   "source": [
    "$$G(j\\omega) = \\frac{-1}{a\\omega^2 - jb\\omega + 5}$$"
   ]
  },
  {
   "cell_type": "code",
   "execution_count": 8,
   "id": "18be0ece",
   "metadata": {
    "slideshow": {
     "slide_type": "fragment"
    }
   },
   "outputs": [],
   "source": [
    "w = 1:10:10000;\n",
    "Gs = -1./(a*w.^2 - j.*b.*w + denG(3));"
   ]
  },
  {
   "cell_type": "markdown",
   "id": "6ef9fc91",
   "metadata": {
    "slideshow": {
     "slide_type": "subslide"
    }
   },
   "source": [
    "Plot"
   ]
  },
  {
   "cell_type": "code",
   "execution_count": 9,
   "id": "18fff5f2",
   "metadata": {
    "slideshow": {
     "slide_type": "fragment"
    }
   },
   "outputs": [
    {
     "data": {
      "image/svg+xml": [
       "<?xml version=\"1.0\"?>\n",
       "<!DOCTYPE svg PUBLIC '-//W3C//DTD SVG 1.0//EN'\n",
       "          'http://www.w3.org/TR/2001/REC-SVG-20010904/DTD/svg10.dtd'>\n",
       "<svg xmlns:xlink=\"http://www.w3.org/1999/xlink\" style=\"fill-opacity:1; color-rendering:auto; color-interpolation:auto; text-rendering:auto; stroke:black; stroke-linecap:square; stroke-miterlimit:10; shape-rendering:auto; stroke-opacity:1; fill:black; stroke-dasharray:none; font-weight:normal; stroke-width:1; font-family:'Dialog'; font-style:normal; stroke-linejoin:miter; font-size:12px; stroke-dashoffset:0; image-rendering:auto;\" width=\"560\" height=\"420\" xmlns=\"http://www.w3.org/2000/svg\"\n",
       "><!--Generated by the Batik Graphics2D SVG Generator--><defs id=\"genericDefs\"\n",
       "  /><g\n",
       "  ><defs id=\"defs1\"\n",
       "    ><clipPath clipPathUnits=\"userSpaceOnUse\" id=\"clipPath1\"\n",
       "      ><path d=\"M0 0 L560 0 L560 420 L0 420 L0 0 Z\"\n",
       "      /></clipPath\n",
       "      ><font horiz-adv-x=\"50.0\" id=\"font1\"\n",
       "      ><font-face ascent=\"95.200005\" descent=\"21.3\" units-per-em=\"100\" style=\"font-style:normal; font-family:Helvetica Neue; font-weight:normal;\"\n",
       "        /><missing-glyph horiz-adv-x=\"50.0\" d=\"M40.9 66.6 L10.2 66.6 L10.2 4.7 L40.9 4.7 ZM46 71.2 L46 0.1 L5.1 0.1 L5.1 71.2 Z\"\n",
       "        /><glyph unicode=\"0\" horiz-adv-x=\"55.6\" d=\"M13.2 34.9 Q13.2 37.5 13.25 40.65 Q13.3 43.8 13.75 46.95 Q14.2 50.1 15.05 53.1 Q15.9 56.1 17.55 58.35 Q19.2 60.6 21.7 62 Q24.2 63.4 27.8 63.4 Q31.4 63.4 33.9 62 Q36.4 60.6 38.05 58.35 Q39.7 56.1 40.55 53.1 Q41.4 50.1 41.85 46.95 Q42.3 43.8 42.35 40.65 Q42.4 37.5 42.4 34.9 Q42.4 30.9 42.15 25.95 Q41.9 21 40.55 16.65 Q39.2 12.3 36.2 9.3 Q33.2 6.3 27.8 6.3 Q22.4 6.3 19.4 9.3 Q16.4 12.3 15.05 16.65 Q13.7 21 13.45 25.95 Q13.2 30.9 13.2 34.9 ZM4.2 34.8 Q4.2 30.9 4.4 26.7 Q4.6 22.5 5.4 18.5 Q6.2 14.5 7.7 10.95 Q9.2 7.4 11.8 4.7 Q14.4 2 18.35 0.45 Q22.3 -1.1 27.8 -1.1 Q33.4 -1.1 37.3 0.45 Q41.2 2 43.8 4.7 Q46.4 7.4 47.9 10.95 Q49.4 14.5 50.2 18.5 Q51 22.5 51.2 26.7 Q51.4 30.9 51.4 34.8 Q51.4 38.7 51.2 42.9 Q51 47.1 50.2 51.1 Q49.4 55.1 47.9 58.7 Q46.4 62.3 43.8 65 Q41.2 67.7 37.25 69.3 Q33.3 70.9 27.8 70.9 Q22.3 70.9 18.35 69.3 Q14.4 67.7 11.8 65 Q9.2 62.3 7.7 58.7 Q6.2 55.1 5.4 51.1 Q4.6 47.1 4.4 42.9 Q4.2 38.7 4.2 34.8 Z\"\n",
       "        /><glyph unicode=\"1\" horiz-adv-x=\"55.6\" d=\"M35.6 0 L35.6 70.9 L29.1 70.9 Q28.4 66.9 26.5 64.3 Q24.6 61.7 21.85 60.2 Q19.1 58.7 15.7 58.15 Q12.3 57.6 8.7 57.6 L8.7 50.8 L27.1 50.8 L27.1 0 Z\"\n",
       "        /><glyph unicode=\"2\" horiz-adv-x=\"55.6\" d=\"M4.4 45.8 L12.9 45.8 Q12.8 49 13.55 52.15 Q14.3 55.3 16 57.8 Q17.7 60.3 20.35 61.85 Q23 63.4 26.7 63.4 Q29.5 63.4 32 62.5 Q34.5 61.6 36.35 59.9 Q38.2 58.2 39.3 55.85 Q40.4 53.5 40.4 50.6 Q40.4 46.9 39.25 44.1 Q38.1 41.3 35.85 38.9 Q33.6 36.5 30.2 34.15 Q26.8 31.8 22.3 29 Q18.6 26.8 15.2 24.3 Q11.8 21.8 9.1 18.5 Q6.4 15.2 4.65 10.75 Q2.9 6.3 2.4 0 L48.7 0 L48.7 7.5 L12.3 7.5 Q12.9 10.8 14.85 13.35 Q16.8 15.9 19.55 18.1 Q22.3 20.3 25.6 22.25 Q28.9 24.2 32.2 26.2 Q35.5 28.3 38.6 30.6 Q41.7 32.9 44.1 35.75 Q46.5 38.6 47.95 42.2 Q49.4 45.8 49.4 50.5 Q49.4 55.5 47.65 59.3 Q45.9 63.1 42.9 65.65 Q39.9 68.2 35.85 69.55 Q31.8 70.9 27.2 70.9 Q21.6 70.9 17.2 69 Q12.8 67.1 9.85 63.75 Q6.9 60.4 5.5 55.8 Q4.1 51.2 4.4 45.8 Z\"\n",
       "        /><glyph unicode=\"3\" horiz-adv-x=\"55.6\" d=\"M21.8 40.5 L21.8 33.3 Q24.2 33.6 26.9 33.6 Q30.1 33.6 32.85 32.75 Q35.6 31.9 37.6 30.15 Q39.6 28.4 40.8 25.85 Q42 23.3 42 20 Q42 16.8 40.75 14.25 Q39.5 11.7 37.4 9.95 Q35.3 8.2 32.5 7.25 Q29.7 6.3 26.6 6.3 Q19.3 6.3 15.5 10.65 Q11.7 15 11.5 21.9 L3 21.9 Q2.9 16.4 4.55 12.1 Q6.2 7.8 9.3 4.85 Q12.4 1.9 16.8 0.4 Q21.2 -1.1 26.6 -1.1 Q31.6 -1.1 36.05 0.25 Q40.5 1.6 43.8 4.3 Q47.1 7 49.05 11.05 Q51 15.1 51 20.4 Q51 26.8 47.85 31.5 Q44.7 36.2 38.2 37.6 L38.2 37.8 Q42.4 39.7 45.2 43.4 Q48 47.1 48 51.9 Q48 56.8 46.35 60.4 Q44.7 64 41.8 66.3 Q38.9 68.6 34.95 69.75 Q31 70.9 26.4 70.9 Q21.1 70.9 17.05 69.2 Q13 67.5 10.3 64.5 Q7.6 61.5 6.15 57.3 Q4.7 53.1 4.5 48 L13 48 Q13 51.1 13.8 53.9 Q14.6 56.7 16.25 58.8 Q17.9 60.9 20.45 62.15 Q23 63.4 26.4 63.4 Q31.8 63.4 35.4 60.55 Q39 57.7 39 52 Q39 49.2 37.9 47 Q36.8 44.8 34.95 43.35 Q33.1 41.9 30.65 41.15 Q28.2 40.4 25.5 40.4 L23.7 40.4 Q23.2 40.4 22.7 40.4 Q22.3 40.4 21.8 40.5 Z\"\n",
       "        /><glyph unicode=\"4\" horiz-adv-x=\"55.6\" d=\"M33.9 24.1 L10.1 24.1 L33.7 58.8 L33.9 58.8 ZM41.9 24.1 L41.9 70.9 L35.1 70.9 L2.8 24.8 L2.8 16.6 L33.9 16.6 L33.9 0 L41.9 0 L41.9 16.6 L51.5 16.6 L51.5 24.1 Z\"\n",
       "        /><glyph unicode=\"s\" horiz-adv-x=\"50.0\" d=\"M11.6 16.3 L3.1 16.3 Q3.3 11.5 5.1 8.15 Q6.9 4.8 9.9 2.75 Q12.9 0.7 16.8 -0.2 Q20.7 -1.1 25 -1.1 Q28.9 -1.1 32.85 -0.35 Q36.8 0.4 39.95 2.3 Q43.1 4.2 45.05 7.3 Q47 10.4 47 15.1 Q47 18.8 45.55 21.3 Q44.1 23.8 41.75 25.45 Q39.4 27.1 36.35 28.1 Q33.3 29.1 30.1 29.8 Q27.1 30.5 24.1 31.15 Q21.1 31.8 18.7 32.75 Q16.3 33.7 14.75 35.15 Q13.2 36.6 13.2 38.8 Q13.2 40.8 14.2 42.05 Q15.2 43.3 16.8 44.05 Q18.4 44.8 20.35 45.1 Q22.3 45.4 24.2 45.4 Q26.3 45.4 28.35 44.95 Q30.4 44.5 32.1 43.5 Q33.8 42.5 34.9 40.85 Q36 39.2 36.2 36.7 L44.7 36.7 Q44.4 41.4 42.7 44.55 Q41 47.7 38.15 49.55 Q35.3 51.4 31.6 52.15 Q27.9 52.9 23.5 52.9 Q20.1 52.9 16.65 52.05 Q13.2 51.2 10.45 49.45 Q7.7 47.7 5.95 44.9 Q4.2 42.1 4.2 38.2 Q4.2 33.2 6.7 30.4 Q9.2 27.6 12.95 26.05 Q16.7 24.5 21.1 23.65 Q25.5 22.8 29.25 21.75 Q33 20.7 35.5 19 Q38 17.3 38 14 Q38 11.6 36.8 10.05 Q35.6 8.5 33.75 7.7 Q31.9 6.9 29.7 6.6 Q27.5 6.3 25.5 6.3 Q22.9 6.3 20.45 6.8 Q18 7.3 16.05 8.45 Q14.1 9.6 12.9 11.55 Q11.7 13.5 11.6 16.3 Z\"\n",
       "        /><glyph unicode=\"/\" horiz-adv-x=\"33.3\" d=\"M27.8 73.1 L-1.7 -1.6 L5.5 -1.6 L35.1 73.1 Z\"\n",
       "        /><glyph unicode=\"(\" horiz-adv-x=\"25.9\" d=\"M20.4 -19.7 L26.9 -19.7 Q19.8 -8.2 16.75 3.1 Q13.7 14.4 13.7 27 Q13.7 39.3 16.7 50.5 Q19.7 61.7 26.9 73.1 L20.4 73.1 Q12.6 62.8 8.65 50.8 Q4.7 38.8 4.7 27 Q4.7 20.4 5.8 14.4 Q6.9 8.4 8.95 2.7 Q11 -3 13.9 -8.55 Q16.8 -14.1 20.4 -19.7 Z\"\n",
       "        /><glyph unicode=\"w\" horiz-adv-x=\"75.8\" d=\"M57.6 0 L74.1 51.7 L65.3 51.7 L53.7 9.4 L53.5 9.4 L42.7 51.7 L33.4 51.7 L23 9.4 L22.8 9.4 L11.1 51.7 L1.7 51.7 L18.3 0 L27.5 0 L37.9 41.1 L38.1 41.1 L48.6 0 Z\"\n",
       "        /><glyph unicode=\"y\" horiz-adv-x=\"50.0\" d=\"M26.7 -6.9 Q25.2 -10.7 23.75 -13.3 Q22.3 -15.9 20.55 -17.55 Q18.8 -19.2 16.65 -19.95 Q14.5 -20.7 11.7 -20.7 Q10.2 -20.7 8.7 -20.5 Q7.2 -20.3 5.8 -19.8 L5.8 -12 Q6.9 -12.5 8.35 -12.85 Q9.8 -13.2 10.8 -13.2 Q13.4 -13.2 15.15 -11.95 Q16.9 -10.7 17.8 -8.4 L21.3 0.3 L0.8 51.7 L10.4 51.7 L25.5 9.4 L25.7 9.4 L40.2 51.7 L49.2 51.7 Z\"\n",
       "        /><glyph unicode=\"c\" horiz-adv-x=\"53.7\" d=\"M41.5 35.1 L50.3 35.1 Q49.8 39.7 47.9 43.05 Q46 46.4 43.05 48.6 Q40.1 50.8 36.25 51.85 Q32.4 52.9 28 52.9 Q21.9 52.9 17.3 50.75 Q12.7 48.6 9.65 44.85 Q6.6 41.1 5.1 36.05 Q3.6 31 3.6 25.2 Q3.6 19.4 5.15 14.55 Q6.7 9.7 9.75 6.2 Q12.8 2.7 17.35 0.8 Q21.9 -1.1 27.8 -1.1 Q37.7 -1.1 43.45 4.1 Q49.2 9.3 50.6 18.9 L41.9 18.9 Q41.1 12.9 37.55 9.6 Q34 6.3 27.7 6.3 Q23.7 6.3 20.8 7.9 Q17.9 9.5 16.1 12.15 Q14.3 14.8 13.45 18.2 Q12.6 21.6 12.6 25.2 Q12.6 29.1 13.4 32.75 Q14.2 36.4 16.05 39.2 Q17.9 42 21 43.7 Q24.1 45.4 28.7 45.4 Q34.1 45.4 37.3 42.7 Q40.5 40 41.5 35.1 Z\"\n",
       "        /><glyph unicode=\"u\" horiz-adv-x=\"55.6\" d=\"M49.2 0 L49.2 51.7 L40.7 51.7 L40.7 22.5 Q40.7 19 39.75 16.05 Q38.8 13.1 36.9 10.9 Q35 8.7 32.15 7.5 Q29.3 6.3 25.4 6.3 Q20.5 6.3 17.7 9.1 Q14.9 11.9 14.9 16.7 L14.9 51.7 L6.4 51.7 L6.4 17.7 Q6.4 13.5 7.25 10.05 Q8.1 6.6 10.2 4.1 Q12.3 1.6 15.7 0.25 Q19.1 -1.1 24.2 -1.1 Q29.9 -1.1 34.1 1.15 Q38.3 3.4 41 8.2 L41.2 8.2 L41.2 0 Z\"\n",
       "        /><glyph unicode=\"q\" horiz-adv-x=\"59.3\" d=\"M12.6 25.4 Q12.6 29.2 13.4 32.8 Q14.2 36.4 16 39.2 Q17.8 42 20.8 43.7 Q23.8 45.4 28.1 45.4 Q32.5 45.4 35.6 43.75 Q38.7 42.1 40.65 39.4 Q42.6 36.7 43.5 33.15 Q44.4 29.6 44.4 25.8 Q44.4 22.2 43.55 18.7 Q42.7 15.2 40.8 12.45 Q38.9 9.7 35.9 8 Q32.9 6.3 28.6 6.3 Q24.5 6.3 21.45 7.9 Q18.4 9.5 16.45 12.2 Q14.5 14.9 13.55 18.35 Q12.6 21.8 12.6 25.4 ZM52.6 -19.7 L52.6 51.7 L44.1 51.7 L44.1 44.8 L43.9 44.8 Q42.5 47.1 40.45 48.65 Q38.4 50.2 36.1 51.15 Q33.8 52.1 31.5 52.5 Q29.2 52.9 27.2 52.9 Q21.3 52.9 16.85 50.75 Q12.4 48.6 9.45 44.95 Q6.5 41.3 5.05 36.4 Q3.6 31.5 3.6 26 Q3.6 20.5 5.1 15.6 Q6.6 10.7 9.55 7 Q12.5 3.3 16.95 1.1 Q21.4 -1.1 27.4 -1.1 Q32.8 -1.1 37.3 0.8 Q41.8 2.7 43.9 7 L44.1 7 L44.1 -19.7 Z\"\n",
       "        /><glyph unicode=\"e\" horiz-adv-x=\"53.7\" d=\"M42.3 30.8 L12.6 30.8 Q12.8 33.8 13.9 36.45 Q15 39.1 16.9 41.1 Q18.8 43.1 21.45 44.25 Q24.1 45.4 27.4 45.4 Q30.6 45.4 33.25 44.25 Q35.9 43.1 37.85 41.15 Q39.8 39.2 40.95 36.5 Q42.1 33.8 42.3 30.8 ZM50.5 16.4 L42.1 16.4 Q41 11.3 37.55 8.8 Q34.1 6.3 28.7 6.3 Q24.5 6.3 21.4 7.7 Q18.3 9.1 16.3 11.45 Q14.3 13.8 13.4 16.85 Q12.5 19.9 12.6 23.3 L51.3 23.3 Q51.5 28 50.45 33.2 Q49.4 38.4 46.65 42.8 Q43.9 47.2 39.35 50.05 Q34.8 52.9 27.9 52.9 Q22.6 52.9 18.15 50.9 Q13.7 48.9 10.45 45.3 Q7.2 41.7 5.4 36.8 Q3.6 31.9 3.6 26 Q3.8 20.1 5.35 15.1 Q6.9 10.1 10 6.5 Q13.1 2.9 17.65 0.9 Q22.2 -1.1 28.4 -1.1 Q37.2 -1.1 43 3.3 Q48.8 7.7 50.5 16.4 Z\"\n",
       "        /><glyph unicode=\"r\" horiz-adv-x=\"33.3\" d=\"M6.1 51.7 L6.1 0 L14.6 0 L14.6 23 Q14.6 28 15.6 31.85 Q16.6 35.7 18.8 38.4 Q21 41.1 24.6 42.5 Q28.2 43.9 33.3 43.9 L33.3 52.9 Q26.4 53.1 21.9 50.1 Q17.4 47.1 14.3 40.8 L14.1 40.8 L14.1 51.7 Z\"\n",
       "        /><glyph unicode=\"f\" horiz-adv-x=\"29.6\" d=\"M9.9 44.2 L9.9 0 L18.4 0 L18.4 44.2 L28.4 44.2 L28.4 51.7 L18.4 51.7 L18.4 58.9 Q18.4 62.3 20.1 63.5 Q21.8 64.7 24.9 64.7 Q26 64.7 27.3 64.55 Q28.6 64.4 29.7 64 L29.7 71.4 Q28.5 71.8 26.95 72 Q25.4 72.2 24.2 72.2 Q17.2 72.2 13.55 68.95 Q9.9 65.7 9.9 59.4 L9.9 51.7 L1.2 51.7 L1.2 44.2 Z\"\n",
       "        /><glyph unicode=\" \" horiz-adv-x=\"27.8\" d=\"\"\n",
       "        /><glyph unicode=\"n\" horiz-adv-x=\"55.6\" d=\"M6.4 51.7 L6.4 0 L14.9 0 L14.9 29.2 Q14.9 32.7 15.85 35.65 Q16.8 38.6 18.7 40.8 Q20.6 43 23.45 44.2 Q26.3 45.4 30.2 45.4 Q35.1 45.4 37.9 42.6 Q40.7 39.8 40.7 35 L40.7 0 L49.2 0 L49.2 34 Q49.2 38.2 48.35 41.65 Q47.5 45.1 45.4 47.6 Q43.3 50.1 39.9 51.5 Q36.5 52.9 31.4 52.9 Q19.9 52.9 14.6 43.5 L14.4 43.5 L14.4 51.7 Z\"\n",
       "        /><glyph unicode=\"i\" horiz-adv-x=\"22.2\" d=\"M15.4 61 L15.4 71.4 L6.9 71.4 L6.9 61 ZM6.9 51.7 L6.9 0 L15.4 0 L15.4 51.7 Z\"\n",
       "        /><glyph unicode=\"d\" horiz-adv-x=\"59.3\" d=\"M12.6 25.4 Q12.6 29.2 13.4 32.8 Q14.2 36.4 16 39.2 Q17.8 42 20.8 43.7 Q23.8 45.4 28.1 45.4 Q32.5 45.4 35.6 43.75 Q38.7 42.1 40.65 39.4 Q42.6 36.7 43.5 33.15 Q44.4 29.6 44.4 25.8 Q44.4 22.2 43.55 18.7 Q42.7 15.2 40.8 12.45 Q38.9 9.7 35.9 8 Q32.9 6.3 28.6 6.3 Q24.5 6.3 21.45 7.9 Q18.4 9.5 16.45 12.2 Q14.5 14.9 13.55 18.35 Q12.6 21.8 12.6 25.4 ZM52.6 0 L52.6 71.4 L44.1 71.4 L44.1 44.8 L43.9 44.8 Q42.5 47.1 40.45 48.65 Q38.4 50.2 36.1 51.15 Q33.8 52.1 31.5 52.5 Q29.2 52.9 27.2 52.9 Q21.3 52.9 16.85 50.75 Q12.4 48.6 9.45 44.95 Q6.5 41.3 5.05 36.4 Q3.6 31.5 3.6 26 Q3.6 20.5 5.1 15.6 Q6.6 10.7 9.55 7 Q12.5 3.3 16.95 1.1 Q21.4 -1.1 27.4 -1.1 Q32.8 -1.1 37.3 0.8 Q41.8 2.7 43.9 7 L44.1 7 L44.1 0 Z\"\n",
       "        /><glyph unicode=\"a\" horiz-adv-x=\"53.7\" d=\"M52.2 0.2 Q50 -1.1 46.1 -1.1 Q42.8 -1.1 40.85 0.75 Q38.9 2.6 38.9 6.8 Q35.4 2.6 30.75 0.75 Q26.1 -1.1 20.7 -1.1 Q17.2 -1.1 14.05 -0.3 Q10.9 0.5 8.6 2.2 Q6.3 3.9 4.95 6.65 Q3.6 9.4 3.6 13.3 Q3.6 17.7 5.1 20.5 Q6.6 23.3 9.05 25.05 Q11.5 26.8 14.65 27.7 Q17.8 28.6 21.1 29.2 Q24.6 29.9 27.75 30.25 Q30.9 30.6 33.3 31.25 Q35.7 31.9 37.1 33.15 Q38.5 34.4 38.5 36.8 Q38.5 39.6 37.45 41.3 Q36.4 43 34.75 43.9 Q33.1 44.8 31.05 45.1 Q29 45.4 27 45.4 Q21.6 45.4 18 43.35 Q14.4 41.3 14.1 35.6 L5.6 35.6 Q5.8 40.4 7.6 43.7 Q9.4 47 12.4 49.05 Q15.4 51.1 19.25 52 Q23.1 52.9 27.5 52.9 Q31 52.9 34.45 52.4 Q37.9 51.9 40.7 50.35 Q43.5 48.8 45.2 46 Q46.9 43.2 46.9 38.7 L46.9 12.1 Q46.9 9.1 47.25 7.7 Q47.6 6.3 49.6 6.3 Q50.7 6.3 52.2 6.8 ZM38.4 26.7 Q36.8 25.5 34.2 24.95 Q31.6 24.4 28.75 24.05 Q25.9 23.7 23 23.25 Q20.1 22.8 17.8 21.8 Q15.5 20.8 14.05 18.95 Q12.6 17.1 12.6 13.9 Q12.6 11.8 13.45 10.35 Q14.3 8.9 15.65 8 Q17 7.1 18.8 6.7 Q20.6 6.3 22.6 6.3 Q26.8 6.3 29.8 7.45 Q32.8 8.6 34.7 10.35 Q36.6 12.1 37.5 14.15 Q38.4 16.2 38.4 18 Z\"\n",
       "        /><glyph unicode=\"R\" horiz-adv-x=\"68.5\" d=\"M7.8 71.4 L7.8 0 L17.3 0 L17.3 30.5 L40.5 30.5 Q44 30.5 46.1 29.45 Q48.2 28.4 49.5 26.65 Q50.8 24.9 51.4 22.55 Q52 20.2 52.4 17.6 Q52.9 15 53 12.3 Q53.1 9.6 53.2 7.25 Q53.3 4.9 53.65 3 Q54 1.1 55 0 L65.6 0 Q64.1 1.8 63.35 4.15 Q62.6 6.5 62.2 9.1 Q61.8 11.7 61.7 14.4 Q61.6 17.1 61.4 19.7 Q61.1 22.3 60.55 24.7 Q60 27.1 58.85 29.05 Q57.7 31 55.75 32.4 Q53.8 33.8 50.7 34.4 L50.7 34.6 Q57.2 36.4 60.15 41.3 Q63.1 46.2 63.1 52.7 Q63.1 61.4 57.35 66.4 Q51.6 71.4 41.4 71.4 ZM37.1 38.5 L17.3 38.5 L17.3 63.4 L40.9 63.4 Q47.6 63.4 50.6 60 Q53.6 56.6 53.6 51.2 Q53.6 47.3 52.25 44.85 Q50.9 42.4 48.65 40.95 Q46.4 39.5 43.4 39 Q40.4 38.5 37.1 38.5 Z\"\n",
       "        /><glyph unicode=\".\" horiz-adv-x=\"27.8\" d=\"M8.3 11.1 L8.3 0 L19.4 0 L19.4 11.1 Z\"\n",
       "        /><glyph unicode=\"6\" horiz-adv-x=\"55.6\" d=\"M41.4 52.8 L49.9 52.8 Q49.1 61.6 43.9 66.25 Q38.7 70.9 29.9 70.9 Q22.3 70.9 17.3 67.7 Q12.3 64.5 9.3 59.2 Q6.3 53.9 5.05 47.05 Q3.8 40.2 3.8 32.9 Q3.8 27.3 4.65 21.3 Q5.5 15.3 8.1 10.3 Q10.7 5.3 15.5 2.1 Q20.3 -1.1 28.2 -1.1 Q34.9 -1.1 39.45 1.15 Q44 3.4 46.75 6.85 Q49.5 10.3 50.7 14.5 Q51.9 18.7 51.9 22.6 Q51.9 27.5 50.4 31.7 Q48.9 35.9 46.15 39 Q43.4 42.1 39.35 43.85 Q35.3 45.6 30.2 45.6 Q24.4 45.6 19.95 43.4 Q15.5 41.2 12.5 36.3 L12.3 36.5 Q12.4 40.6 13.1 45.3 Q13.8 50 15.65 54.05 Q17.5 58.1 20.8 60.75 Q24.1 63.4 29.5 63.4 Q34.6 63.4 37.7 60.5 Q40.8 57.6 41.4 52.8 ZM28.6 38.1 Q32.2 38.1 34.9 36.8 Q37.6 35.5 39.4 33.35 Q41.2 31.2 42.05 28.25 Q42.9 25.3 42.9 22 Q42.9 18.9 41.95 16.05 Q41 13.2 39.2 11 Q37.4 8.8 34.75 7.55 Q32.1 6.3 28.6 6.3 Q25.1 6.3 22.35 7.55 Q19.6 8.8 17.75 10.9 Q15.9 13 14.9 15.9 Q13.9 18.8 13.9 22.1 Q13.9 25.4 14.85 28.35 Q15.8 31.3 17.7 33.45 Q19.6 35.6 22.3 36.85 Q25 38.1 28.6 38.1 Z\"\n",
       "        /><glyph unicode=\"8\" horiz-adv-x=\"55.6\" d=\"M15.5 52.5 Q15.5 55.2 16.5 57.2 Q17.5 59.2 19.15 60.6 Q20.8 62 23.1 62.7 Q25.4 63.4 27.9 63.4 Q33.1 63.4 36.45 60.65 Q39.8 57.9 39.8 52.5 Q39.8 47.1 36.5 44.1 Q33.2 41.1 28.1 41.1 Q25.5 41.1 23.2 41.8 Q20.9 42.5 19.2 43.9 Q17.5 45.3 16.5 47.45 Q15.5 49.6 15.5 52.5 ZM6.5 52.8 Q6.5 48 9.2 43.95 Q11.9 39.9 16.4 38.1 Q10.4 36 7.2 31.35 Q4 26.7 4 20.4 Q4 15 5.85 10.95 Q7.7 6.9 10.95 4.2 Q14.2 1.5 18.6 0.2 Q23 -1.1 28.1 -1.1 Q33 -1.1 37.3 0.3 Q41.6 1.7 44.75 4.45 Q47.9 7.2 49.75 11.2 Q51.6 15.2 51.6 20.4 Q51.6 27 48.5 31.55 Q45.4 36.1 39 38.1 Q43.5 40.1 46.15 44.05 Q48.8 48 48.8 52.8 Q48.8 56.2 47.6 59.45 Q46.4 62.7 43.85 65.25 Q41.3 67.8 37.2 69.35 Q33.1 70.9 27.3 70.9 Q23.2 70.9 19.45 69.7 Q15.7 68.5 12.8 66.2 Q9.9 63.9 8.2 60.55 Q6.5 57.2 6.5 52.8 ZM13 20 Q13 23.1 14.15 25.6 Q15.3 28.1 17.35 29.9 Q19.4 31.7 22.15 32.65 Q24.9 33.6 28 33.6 Q31 33.6 33.65 32.55 Q36.3 31.5 38.3 29.7 Q40.3 27.9 41.45 25.45 Q42.6 23 42.6 20.1 Q42.6 17.1 41.55 14.6 Q40.5 12.1 38.55 10.25 Q36.6 8.4 33.95 7.35 Q31.3 6.3 28.1 6.3 Q21.5 6.3 17.25 9.95 Q13 13.6 13 20 Z\"\n",
       "        /><glyph unicode=\"t\" horiz-adv-x=\"31.5\" d=\"M18.2 51.7 L18.2 67.2 L9.7 67.2 L9.7 51.7 L0.9 51.7 L0.9 44.2 L9.7 44.2 L9.7 11.3 Q9.7 7.7 10.4 5.5 Q11.1 3.3 12.55 2.1 Q14 0.9 16.35 0.45 Q18.7 0 22 0 L28.5 0 L28.5 7.5 L24.6 7.5 Q22.6 7.5 21.35 7.65 Q20.1 7.8 19.4 8.3 Q18.7 8.8 18.45 9.7 Q18.2 10.6 18.2 12.1 L18.2 44.2 L28.5 44.2 L28.5 51.7 Z\"\n",
       "        /><glyph unicode=\"o\" horiz-adv-x=\"57.4\" d=\"M12.6 25.8 Q12.6 30.5 13.85 34.15 Q15.1 37.8 17.3 40.3 Q19.5 42.8 22.45 44.1 Q25.4 45.4 28.7 45.4 Q32 45.4 34.95 44.1 Q37.9 42.8 40.1 40.3 Q42.3 37.8 43.55 34.15 Q44.8 30.5 44.8 25.8 Q44.8 21.1 43.55 17.45 Q42.3 13.8 40.1 11.35 Q37.9 8.9 34.95 7.6 Q32 6.3 28.7 6.3 Q25.4 6.3 22.45 7.6 Q19.5 8.9 17.3 11.35 Q15.1 13.8 13.85 17.45 Q12.6 21.1 12.6 25.8 ZM3.6 25.8 Q3.6 20.1 5.2 15.2 Q6.8 10.3 10 6.65 Q13.2 3 17.9 0.95 Q22.6 -1.1 28.7 -1.1 Q34.9 -1.1 39.55 0.95 Q44.2 3 47.4 6.65 Q50.6 10.3 52.2 15.2 Q53.8 20.1 53.8 25.8 Q53.8 31.5 52.2 36.45 Q50.6 41.4 47.4 45.05 Q44.2 48.7 39.55 50.8 Q34.9 52.9 28.7 52.9 Q22.6 52.9 17.9 50.8 Q13.2 48.7 10 45.05 Q6.8 41.4 5.2 36.45 Q3.6 31.5 3.6 25.8 Z\"\n",
       "        /><glyph unicode=\"V\" horiz-adv-x=\"61.1\" d=\"M35.9 0 L61.3 71.4 L51.4 71.4 L30.8 9.5 L30.6 9.5 L10.2 71.4 L0 71.4 L25.1 0 Z\"\n",
       "        /><glyph unicode=\"|\" horiz-adv-x=\"22.2\" d=\"M7.7 78.6 L7.7 -21.3 L14.5 -21.3 L14.5 78.6 Z\"\n",
       "      /></font\n",
       "      ><font horiz-adv-x=\"50.0\" id=\"font2\"\n",
       "      ><font-face ascent=\"97.5\" descent=\"21.699999\" units-per-em=\"100\" style=\"font-style:normal; font-family:Helvetica Neue; font-weight:bold;\"\n",
       "        /><missing-glyph horiz-adv-x=\"50.0\" d=\"M39.1 60.7 L11.1 60.7 L11.1 9.5 L39.1 9.5 ZM48.2 69.8 L48.2 0.3 L1.7 0.3 L1.7 69.8 Z\"\n",
       "        /><glyph unicode=\"y\" horiz-adv-x=\"51.9\" d=\"M30.9 -6.4 L52.5 51.7 L37.8 51.7 L26.5 16.3 L26.3 16.3 L14.6 51.7 L-0.5 51.7 L17.6 3.2 Q18.2 1.7 18.2 0 Q18.2 -2.3 16.85 -4.2 Q15.5 -6.1 12.7 -6.4 Q10.6 -6.5 8.5 -6.3 Q6.4 -6.1 4.4 -5.9 L4.4 -17.6 Q6.6 -17.8 8.75 -17.95 Q10.9 -18.1 13.1 -18.1 Q20.4 -18.1 24.5 -15.4 Q28.6 -12.7 30.9 -6.4 Z\"\n",
       "        /><glyph unicode=\"c\" horiz-adv-x=\"57.4\" d=\"M40.6 33.5 L54.5 33.5 Q54.2 38.5 52.1 42.15 Q50 45.8 46.65 48.25 Q43.3 50.7 39.05 51.9 Q34.8 53.1 30.2 53.1 Q23.9 53.1 19 51 Q14.1 48.9 10.7 45.15 Q7.3 41.4 5.55 36.25 Q3.8 31.1 3.8 25.1 Q3.8 19.3 5.7 14.45 Q7.6 9.6 11 6.1 Q14.4 2.6 19.25 0.65 Q24.1 -1.3 29.9 -1.3 Q40.2 -1.3 46.8 4.1 Q53.4 9.5 54.8 19.8 L41.1 19.8 Q40.4 15 37.65 12.15 Q34.9 9.3 29.8 9.3 Q26.5 9.3 24.2 10.8 Q21.9 12.3 20.55 14.65 Q19.2 17 18.6 19.9 Q18 22.8 18 25.6 Q18 28.5 18.6 31.45 Q19.2 34.4 20.65 36.85 Q22.1 39.3 24.4 40.85 Q26.7 42.4 30.1 42.4 Q39.2 42.4 40.6 33.5 Z\"\n",
       "        /><glyph unicode=\"q\" horiz-adv-x=\"61.1\" d=\"M17.4 25.8 Q17.4 29 18.05 31.95 Q18.7 34.9 20.2 37.25 Q21.7 39.6 24.1 41 Q26.5 42.4 30 42.4 Q33.3 42.4 35.65 40.9 Q38 39.4 39.4 37 Q40.8 34.6 41.45 31.6 Q42.1 28.6 42.1 25.6 Q42.1 22.4 41.45 19.45 Q40.8 16.5 39.35 14.25 Q37.9 12 35.55 10.65 Q33.2 9.3 29.7 9.3 Q26.2 9.3 23.85 10.7 Q21.5 12.1 20.05 14.45 Q18.6 16.8 18 19.75 Q17.4 22.7 17.4 25.8 ZM55.8 -18.1 L55.8 51.7 L42.3 51.7 L42.3 45.1 L42.1 45.1 Q39.7 49.4 35.45 51.25 Q31.2 53.1 26.4 53.1 Q20.5 53.1 16.15 50.8 Q11.8 48.5 8.9 44.65 Q6 40.8 4.6 35.8 Q3.2 30.8 3.2 25.5 Q3.2 18 5.3 12.85 Q7.4 7.7 10.6 4.55 Q13.8 1.4 17.65 0.05 Q21.5 -1.3 25.1 -1.3 Q29.9 -1.3 34.4 0.5 Q38.9 2.3 41.4 6.5 L41.6 6.5 L41.6 -18.1 Z\"\n",
       "        /><glyph unicode=\"r\" horiz-adv-x=\"38.9\" d=\"M5.4 51.7 L5.4 0 L19.6 0 L19.6 23.3 Q19.6 26.8 20.3 29.8 Q21 32.8 22.65 35.05 Q24.3 37.3 27 38.6 Q29.7 39.9 33.6 39.9 Q34.9 39.9 36.3 39.75 Q37.7 39.6 38.7 39.4 L38.7 52.6 Q37 53.1 35.6 53.1 Q32.9 53.1 30.4 52.3 Q27.9 51.5 25.7 50.05 Q23.5 48.6 21.8 46.55 Q20.1 44.5 19.1 42.1 L18.9 42.1 L18.9 51.7 Z\"\n",
       "        /><glyph unicode=\"F\" horiz-adv-x=\"59.3\" d=\"M6.9 71.4 L6.9 0 L22.6 0 L22.6 29.5 L52.5 29.5 L52.5 41.7 L22.6 41.7 L22.6 58.2 L57.1 58.2 L57.1 71.4 Z\"\n",
       "        /><glyph unicode=\"R\" horiz-adv-x=\"72.2\" d=\"M22.6 39.1 L22.6 59.2 L39.8 59.2 Q45.2 59.2 47.9 56.85 Q50.6 54.5 50.6 49.3 Q50.6 43.9 47.9 41.5 Q45.2 39.1 39.8 39.1 ZM6.9 71.4 L6.9 0 L22.6 0 L22.6 27.9 L38.3 27.9 Q44.2 27.9 46.8 25.3 Q49.4 22.7 50.2 17.1 Q50.8 12.8 51.1 8.1 Q51.4 3.4 52.7 0 L68.4 0 Q67.3 1.5 66.75 3.65 Q66.2 5.8 65.95 8.2 Q65.7 10.6 65.6 12.9 Q65.5 15.2 65.4 16.9 Q65.2 19.6 64.65 22.3 Q64.1 25 62.9 27.25 Q61.7 29.5 59.8 31.15 Q57.9 32.8 55 33.6 L55 33.8 Q61 36.2 63.65 40.8 Q66.3 45.4 66.3 51.7 Q66.3 55.8 64.85 59.35 Q63.4 62.9 60.65 65.6 Q57.9 68.3 54.05 69.85 Q50.2 71.4 45.4 71.4 Z\"\n",
       "        /><glyph unicode=\".\" horiz-adv-x=\"27.8\" d=\"M6 15.4 L6 0 L21.7 0 L21.7 15.4 Z\"\n",
       "        /><glyph unicode=\"s\" horiz-adv-x=\"53.7\" d=\"M16.4 16.8 L2.9 16.8 Q3.1 11.6 5.25 8.15 Q7.4 4.7 10.75 2.6 Q14.1 0.5 18.4 -0.4 Q22.7 -1.3 27.2 -1.3 Q31.6 -1.3 35.85 -0.45 Q40.1 0.4 43.4 2.5 Q46.7 4.6 48.75 8.05 Q50.8 11.5 50.8 16.6 Q50.8 20.2 49.4 22.65 Q48 25.1 45.7 26.75 Q43.4 28.4 40.45 29.4 Q37.5 30.4 34.4 31.1 Q31.4 31.8 28.5 32.4 Q25.6 33 23.35 33.75 Q21.1 34.5 19.7 35.7 Q18.3 36.9 18.3 38.8 Q18.3 40.4 19.1 41.35 Q19.9 42.3 21.05 42.8 Q22.2 43.3 23.6 43.45 Q25 43.6 26.2 43.6 Q30 43.6 32.8 42.15 Q35.6 40.7 35.9 36.6 L49.4 36.6 Q49 41.4 46.95 44.55 Q44.9 47.7 41.8 49.6 Q38.7 51.5 34.75 52.3 Q30.8 53.1 26.6 53.1 Q22.4 53.1 18.4 52.35 Q14.4 51.6 11.2 49.75 Q8 47.9 6.05 44.7 Q4.1 41.5 4.1 36.5 Q4.1 33.1 5.5 30.75 Q6.9 28.4 9.2 26.85 Q11.5 25.3 14.45 24.35 Q17.4 23.4 20.5 22.7 Q28.1 21.1 32.35 19.5 Q36.6 17.9 36.6 14.7 Q36.6 12.8 35.7 11.55 Q34.8 10.3 33.45 9.55 Q32.1 8.8 30.45 8.45 Q28.8 8.1 27.3 8.1 Q25.2 8.1 23.25 8.6 Q21.3 9.1 19.8 10.15 Q18.3 11.2 17.35 12.85 Q16.4 14.5 16.4 16.8 Z\"\n",
       "        /><glyph unicode=\"v\" horiz-adv-x=\"52.0\" d=\"M34 0 L51.5 51.7 L37.4 51.7 L26.5 16.4 L26.3 16.4 L15.4 51.7 L0.5 51.7 L18.2 0 Z\"\n",
       "        /><glyph unicode=\"/\" horiz-adv-x=\"37.1\" d=\"M26.8 73.1 L-1 -1.6 L10.3 -1.6 L38.2 73.1 Z\"\n",
       "        /><glyph unicode=\"o\" horiz-adv-x=\"61.1\" d=\"M18 25.8 Q18 28.9 18.6 31.9 Q19.2 34.9 20.65 37.2 Q22.1 39.5 24.5 40.95 Q26.9 42.4 30.5 42.4 Q34.1 42.4 36.55 40.95 Q39 39.5 40.45 37.2 Q41.9 34.9 42.5 31.9 Q43.1 28.9 43.1 25.8 Q43.1 22.7 42.5 19.75 Q41.9 16.8 40.45 14.45 Q39 12.1 36.55 10.7 Q34.1 9.3 30.5 9.3 Q26.9 9.3 24.5 10.7 Q22.1 12.1 20.65 14.45 Q19.2 16.8 18.6 19.75 Q18 22.7 18 25.8 ZM3.8 25.8 Q3.8 19.6 5.7 14.6 Q7.6 9.6 11.1 6.05 Q14.6 2.5 19.5 0.6 Q24.4 -1.3 30.5 -1.3 Q36.6 -1.3 41.55 0.6 Q46.5 2.5 50 6.05 Q53.5 9.6 55.4 14.6 Q57.3 19.6 57.3 25.8 Q57.3 32 55.4 37.05 Q53.5 42.1 50 45.65 Q46.5 49.2 41.55 51.15 Q36.6 53.1 30.5 53.1 Q24.4 53.1 19.5 51.15 Q14.6 49.2 11.1 45.65 Q7.6 42.1 5.7 37.05 Q3.8 32 3.8 25.8 Z\"\n",
       "        /><glyph unicode=\"V\" horiz-adv-x=\"63.0\" d=\"M40.1 0 L63.8 71.4 L47.6 71.4 L31.5 21.2 L31.3 21.2 L15.4 71.4 L-0.7 71.4 L22.4 0 Z\"\n",
       "        /><glyph unicode=\" \" horiz-adv-x=\"27.8\" d=\"\"\n",
       "        /><glyph unicode=\"e\" horiz-adv-x=\"57.4\" d=\"M40.2 31.4 L17.1 31.4 Q17.2 32.9 17.75 34.8 Q18.3 36.7 19.65 38.4 Q21 40.1 23.25 41.25 Q25.5 42.4 28.9 42.4 Q34.1 42.4 36.65 39.6 Q39.2 36.8 40.2 31.4 ZM17.1 22.4 L54.4 22.4 Q54.8 28.4 53.4 33.9 Q52 39.4 48.85 43.7 Q45.7 48 40.8 50.55 Q35.9 53.1 29.3 53.1 Q23.4 53.1 18.55 51 Q13.7 48.9 10.2 45.25 Q6.7 41.6 4.8 36.6 Q2.9 31.6 2.9 25.8 Q2.9 19.8 4.75 14.8 Q6.6 9.8 10 6.2 Q13.4 2.6 18.3 0.65 Q23.2 -1.3 29.3 -1.3 Q38.1 -1.3 44.3 2.7 Q50.5 6.7 53.5 16 L41 16 Q40.3 13.6 37.2 11.45 Q34.1 9.3 29.8 9.3 Q23.8 9.3 20.6 12.4 Q17.4 15.5 17.1 22.4 Z\"\n",
       "        /><glyph unicode=\"d\" horiz-adv-x=\"61.1\" d=\"M42.1 26 Q42.1 22.8 41.5 19.8 Q40.9 16.8 39.5 14.45 Q38.1 12.1 35.75 10.7 Q33.4 9.3 29.9 9.3 Q26.6 9.3 24.25 10.75 Q21.9 12.2 20.35 14.55 Q18.8 16.9 18.1 19.9 Q17.4 22.9 17.4 25.9 Q17.4 29.1 18.05 32.05 Q18.7 35 20.15 37.3 Q21.6 39.6 24 41 Q26.4 42.4 29.9 42.4 Q33.4 42.4 35.7 41 Q38 39.6 39.45 37.35 Q40.9 35.1 41.5 32.15 Q42.1 29.2 42.1 26 ZM42.3 6.6 L42.3 0 L55.8 0 L55.8 71.4 L41.6 71.4 L41.6 45.4 L41.4 45.4 Q39 49.2 34.85 51.15 Q30.7 53.1 26.1 53.1 Q20.4 53.1 16.1 50.85 Q11.8 48.6 8.95 44.9 Q6.1 41.2 4.65 36.35 Q3.2 31.5 3.2 26.3 Q3.2 20.9 4.65 15.9 Q6.1 10.9 8.95 7.05 Q11.8 3.2 16.2 0.95 Q20.6 -1.3 26.4 -1.3 Q31.5 -1.3 35.55 0.55 Q39.6 2.4 42.1 6.6 Z\"\n",
       "        /><glyph unicode=\"u\" horiz-adv-x=\"59.3\" d=\"M53.9 0 L53.9 51.7 L39.7 51.7 L39.7 24.6 Q39.7 16.7 37.1 13.25 Q34.5 9.8 28.7 9.8 Q23.6 9.8 21.6 12.95 Q19.6 16.1 19.6 22.5 L19.6 51.7 L5.4 51.7 L5.4 19.9 Q5.4 15.1 6.25 11.15 Q7.1 7.2 9.2 4.45 Q11.3 1.7 14.95 0.2 Q18.6 -1.3 24.3 -1.3 Q28.8 -1.3 33.1 0.7 Q37.4 2.7 40.1 7.2 L40.4 7.2 L40.4 0 Z\"\n",
       "        /><glyph unicode=\"t\" horiz-adv-x=\"35.2\" d=\"M23.4 51.7 L23.4 67.2 L9.2 67.2 L9.2 51.7 L0.6 51.7 L0.6 42.2 L9.2 42.2 L9.2 11.7 Q9.2 7.8 10.5 5.4 Q11.8 3 14.05 1.7 Q16.3 0.4 19.25 -0.05 Q22.2 -0.5 25.5 -0.5 Q27.6 -0.5 29.8 -0.4 Q32 -0.3 33.8 0 L33.8 11 Q32.8 10.8 31.7 10.7 Q30.6 10.6 29.4 10.6 Q25.8 10.6 24.6 11.8 Q23.4 13 23.4 16.6 L23.4 42.2 L33.8 42.2 L33.8 51.7 Z\"\n",
       "        /><glyph unicode=\"i\" horiz-adv-x=\"25.8\" d=\"M20 59.7 L20 71.4 L5.8 71.4 L5.8 59.7 ZM5.8 51.7 L5.8 0 L20 0 L20 51.7 Z\"\n",
       "        /><glyph unicode=\"n\" horiz-adv-x=\"59.3\" d=\"M5.4 51.7 L5.4 0 L19.6 0 L19.6 27.1 Q19.6 35 22.2 38.45 Q24.8 41.9 30.6 41.9 Q35.7 41.9 37.7 38.75 Q39.7 35.6 39.7 29.2 L39.7 0 L53.9 0 L53.9 31.8 Q53.9 36.6 53.05 40.55 Q52.2 44.5 50.1 47.25 Q48 50 44.35 51.55 Q40.7 53.1 35 53.1 Q30.5 53.1 26.2 51.05 Q21.9 49 19.2 44.5 L18.9 44.5 L18.9 51.7 Z\"\n",
       "        /><glyph unicode=\"g\" horiz-adv-x=\"61.1\" d=\"M29.5 12.2 Q26.2 12.2 24 13.6 Q21.8 15 20.45 17.2 Q19.1 19.4 18.55 22.15 Q18 24.9 18 27.7 Q18 30.6 18.65 33.25 Q19.3 35.9 20.75 37.95 Q22.2 40 24.35 41.2 Q26.5 42.4 29.5 42.4 Q33 42.4 35.3 41.1 Q37.6 39.8 39 37.6 Q40.4 35.4 41 32.55 Q41.6 29.7 41.6 26.5 Q41.6 23.7 40.85 21.15 Q40.1 18.6 38.6 16.6 Q37.1 14.6 34.8 13.4 Q32.5 12.2 29.5 12.2 ZM55.1 3.3 L55.1 51.7 L41.6 51.7 L41.6 44.8 L41.4 44.8 Q38.8 49.3 34.95 51.2 Q31.1 53.1 26 53.1 Q20.6 53.1 16.45 51 Q12.3 48.9 9.5 45.35 Q6.7 41.8 5.25 37.15 Q3.8 32.5 3.8 27.5 Q3.8 22.2 5.05 17.45 Q6.3 12.7 9 9.15 Q11.7 5.6 15.9 3.55 Q20.1 1.5 25.9 1.5 Q30.6 1.5 34.85 3.45 Q39.1 5.4 41.4 9.5 L41.6 9.5 L41.6 2.7 Q41.7 -2.8 38.95 -6.4 Q36.2 -10 30.2 -10 Q26.4 -10 23.5 -8.45 Q20.6 -6.9 19.6 -2.9 L5.5 -2.9 Q5.8 -7.3 7.95 -10.45 Q10.1 -13.6 13.35 -15.6 Q16.6 -17.6 20.55 -18.55 Q24.5 -19.5 28.3 -19.5 Q37.2 -19.5 42.5 -17.1 Q47.8 -14.7 50.6 -11.25 Q53.4 -7.8 54.25 -3.8 Q55.1 0.2 55.1 3.3 Z\"\n",
       "        /><glyph unicode=\"a\" horiz-adv-x=\"57.4\" d=\"M4.8 35.8 Q5.1 40.8 7.3 44.1 Q9.5 47.4 12.9 49.4 Q16.3 51.4 20.55 52.25 Q24.8 53.1 29.1 53.1 Q33 53.1 37 52.55 Q41 52 44.3 50.4 Q47.6 48.8 49.7 45.95 Q51.8 43.1 51.8 38.4 L51.8 11.5 Q51.8 8 52.2 4.8 Q52.6 1.6 53.6 0 L39.2 0 Q38.8 1.2 38.55 2.45 Q38.3 3.7 38.2 5 Q34.8 1.5 30.2 0.1 Q25.6 -1.3 20.8 -1.3 Q17.1 -1.3 13.9 -0.4 Q10.7 0.5 8.3 2.4 Q5.9 4.3 4.55 7.2 Q3.2 10.1 3.2 14.1 Q3.2 18.5 4.75 21.35 Q6.3 24.2 8.75 25.9 Q11.2 27.6 14.35 28.45 Q17.5 29.3 20.7 29.8 Q23.9 30.3 27 30.6 Q30.1 30.9 32.5 31.5 Q34.9 32.1 36.3 33.25 Q37.7 34.4 37.6 36.6 Q37.6 38.9 36.85 40.25 Q36.1 41.6 34.85 42.35 Q33.6 43.1 31.95 43.35 Q30.3 43.6 28.4 43.6 Q24.2 43.6 21.8 41.8 Q19.4 40 19 35.8 ZM37.6 25.3 Q36.7 24.5 35.35 24.05 Q34 23.6 32.45 23.3 Q30.9 23 29.2 22.8 Q27.5 22.6 25.8 22.3 Q24.2 22 22.65 21.5 Q21.1 21 19.95 20.15 Q18.8 19.3 18.1 18 Q17.4 16.7 17.4 14.7 Q17.4 12.8 18.1 11.5 Q18.8 10.2 20 9.45 Q21.2 8.7 22.8 8.4 Q24.4 8.1 26.1 8.1 Q30.3 8.1 32.6 9.5 Q34.9 10.9 36 12.85 Q37.1 14.8 37.35 16.8 Q37.6 18.8 37.6 20 Z\"\n",
       "        /><glyph unicode=\"M\" horiz-adv-x=\"90.7\" d=\"M6.9 71.4 L6.9 0 L21.6 0 L21.6 50.1 L21.8 50.1 L39.3 0 L51.4 0 L68.9 50.6 L69.1 50.6 L69.1 0 L83.8 0 L83.8 71.4 L61.7 71.4 L45.9 22.3 L45.7 22.3 L29 71.4 Z\"\n",
       "      /></font\n",
       "    ></defs\n",
       "    ><g style=\"fill:white; stroke:white;\"\n",
       "    ><rect x=\"0\" y=\"0\" width=\"560\" style=\"clip-path:url(#clipPath1); stroke:none;\" height=\"420\"\n",
       "    /></g\n",
       "    ><g style=\"fill:white; text-rendering:optimizeSpeed; color-rendering:optimizeSpeed; image-rendering:optimizeSpeed; shape-rendering:crispEdges; stroke:white; color-interpolation:sRGB;\"\n",
       "    ><rect x=\"0\" width=\"560\" height=\"420\" y=\"0\" style=\"stroke:none;\"\n",
       "      /><path style=\"stroke:none;\" d=\"M73 374 L507 374 L507 31.5 L73 31.5 Z\"\n",
       "    /></g\n",
       "    ><g style=\"fill-opacity:0.251; color-rendering:optimizeQuality; color-interpolation:linearRGB; text-rendering:geometricPrecision; stroke:rgb(26,26,26); stroke-linecap:butt; stroke-miterlimit:1; stroke-opacity:0.251; fill:rgb(26,26,26); stroke-dasharray:1,3; stroke-width:0.5; stroke-linejoin:bevel; image-rendering:optimizeQuality;\"\n",
       "    ><line y2=\"31.5\" style=\"fill:none;\" x1=\"105.6618\" x2=\"105.6618\" y1=\"374\"\n",
       "      /><line y2=\"31.5\" style=\"fill:none;\" x1=\"124.7677\" x2=\"124.7677\" y1=\"374\"\n",
       "      /><line y2=\"31.5\" style=\"fill:none;\" x1=\"138.3235\" x2=\"138.3235\" y1=\"374\"\n",
       "      /><line y2=\"31.5\" style=\"fill:none;\" x1=\"148.8382\" x2=\"148.8382\" y1=\"374\"\n",
       "      /><line y2=\"31.5\" style=\"fill:none;\" x1=\"157.4294\" x2=\"157.4294\" y1=\"374\"\n",
       "      /><line y2=\"31.5\" style=\"fill:none;\" x1=\"164.6931\" x2=\"164.6931\" y1=\"374\"\n",
       "      /><line y2=\"31.5\" style=\"fill:none;\" x1=\"170.9853\" x2=\"170.9853\" y1=\"374\"\n",
       "      /><line y2=\"31.5\" style=\"fill:none;\" x1=\"176.5353\" x2=\"176.5353\" y1=\"374\"\n",
       "      /><line y2=\"31.5\" style=\"fill:none;\" x1=\"214.1618\" x2=\"214.1618\" y1=\"374\"\n",
       "      /><line y2=\"31.5\" style=\"fill:none;\" x1=\"233.2677\" x2=\"233.2677\" y1=\"374\"\n",
       "      /><line y2=\"31.5\" style=\"fill:none;\" x1=\"246.8235\" x2=\"246.8235\" y1=\"374\"\n",
       "      /><line y2=\"31.5\" style=\"fill:none;\" x1=\"257.3382\" x2=\"257.3382\" y1=\"374\"\n",
       "      /><line y2=\"31.5\" style=\"fill:none;\" x1=\"265.9294\" x2=\"265.9294\" y1=\"374\"\n",
       "      /><line y2=\"31.5\" style=\"fill:none;\" x1=\"273.1931\" x2=\"273.1931\" y1=\"374\"\n",
       "      /><line y2=\"31.5\" style=\"fill:none;\" x1=\"279.4853\" x2=\"279.4853\" y1=\"374\"\n",
       "      /><line y2=\"31.5\" style=\"fill:none;\" x1=\"285.0353\" x2=\"285.0353\" y1=\"374\"\n",
       "      /><line y2=\"31.5\" style=\"fill:none;\" x1=\"322.6617\" x2=\"322.6617\" y1=\"374\"\n",
       "      /><line y2=\"31.5\" style=\"fill:none;\" x1=\"341.7677\" x2=\"341.7677\" y1=\"374\"\n",
       "      /><line y2=\"31.5\" style=\"fill:none;\" x1=\"355.3235\" x2=\"355.3235\" y1=\"374\"\n",
       "      /><line y2=\"31.5\" style=\"fill:none;\" x1=\"365.8383\" x2=\"365.8383\" y1=\"374\"\n",
       "      /><line y2=\"31.5\" style=\"fill:none;\" x1=\"374.4294\" x2=\"374.4294\" y1=\"374\"\n",
       "      /><line y2=\"31.5\" style=\"fill:none;\" x1=\"381.6931\" x2=\"381.6931\" y1=\"374\"\n",
       "      /><line y2=\"31.5\" style=\"fill:none;\" x1=\"387.9853\" x2=\"387.9853\" y1=\"374\"\n",
       "      /><line y2=\"31.5\" style=\"fill:none;\" x1=\"393.5353\" x2=\"393.5353\" y1=\"374\"\n",
       "      /><line y2=\"31.5\" style=\"fill:none;\" x1=\"431.1617\" x2=\"431.1617\" y1=\"374\"\n",
       "      /><line y2=\"31.5\" style=\"fill:none;\" x1=\"450.2677\" x2=\"450.2677\" y1=\"374\"\n",
       "      /><line y2=\"31.5\" style=\"fill:none;\" x1=\"463.8235\" x2=\"463.8235\" y1=\"374\"\n",
       "      /><line y2=\"31.5\" style=\"fill:none;\" x1=\"474.3383\" x2=\"474.3383\" y1=\"374\"\n",
       "      /><line y2=\"31.5\" style=\"fill:none;\" x1=\"482.9294\" x2=\"482.9294\" y1=\"374\"\n",
       "      /><line y2=\"31.5\" style=\"fill:none;\" x1=\"490.1931\" x2=\"490.1931\" y1=\"374\"\n",
       "      /><line y2=\"31.5\" style=\"fill:none;\" x1=\"496.4853\" x2=\"496.4853\" y1=\"374\"\n",
       "      /><line y2=\"31.5\" style=\"fill:none;\" x1=\"502.0353\" x2=\"502.0353\" y1=\"374\"\n",
       "    /></g\n",
       "    ><g style=\"stroke-linecap:butt; fill-opacity:0.149; fill:rgb(38,38,38); text-rendering:geometricPrecision; image-rendering:optimizeQuality; color-rendering:optimizeQuality; stroke-linejoin:round; stroke:rgb(38,38,38); color-interpolation:linearRGB; stroke-width:0.5; stroke-opacity:0.149;\"\n",
       "    ><line y2=\"31.5\" style=\"fill:none;\" x1=\"73\" x2=\"73\" y1=\"374\"\n",
       "      /><line y2=\"31.5\" style=\"fill:none;\" x1=\"181.5\" x2=\"181.5\" y1=\"374\"\n",
       "      /><line y2=\"31.5\" style=\"fill:none;\" x1=\"290\" x2=\"290\" y1=\"374\"\n",
       "      /><line y2=\"31.5\" style=\"fill:none;\" x1=\"398.5\" x2=\"398.5\" y1=\"374\"\n",
       "      /><line y2=\"31.5\" style=\"fill:none;\" x1=\"507\" x2=\"507\" y1=\"374\"\n",
       "      /><line y2=\"374\" style=\"fill:none;\" x1=\"507\" x2=\"73\" y1=\"374\"\n",
       "      /><line y2=\"339.75\" style=\"fill:none;\" x1=\"507\" x2=\"73\" y1=\"339.75\"\n",
       "      /><line y2=\"305.5\" style=\"fill:none;\" x1=\"507\" x2=\"73\" y1=\"305.5\"\n",
       "      /><line y2=\"271.25\" style=\"fill:none;\" x1=\"507\" x2=\"73\" y1=\"271.25\"\n",
       "      /><line y2=\"237\" style=\"fill:none;\" x1=\"507\" x2=\"73\" y1=\"237\"\n",
       "      /><line y2=\"202.75\" style=\"fill:none;\" x1=\"507\" x2=\"73\" y1=\"202.75\"\n",
       "      /><line y2=\"168.5\" style=\"fill:none;\" x1=\"507\" x2=\"73\" y1=\"168.5\"\n",
       "      /><line y2=\"134.25\" style=\"fill:none;\" x1=\"507\" x2=\"73\" y1=\"134.25\"\n",
       "      /><line y2=\"100\" style=\"fill:none;\" x1=\"507\" x2=\"73\" y1=\"100\"\n",
       "      /><line y2=\"65.75\" style=\"fill:none;\" x1=\"507\" x2=\"73\" y1=\"65.75\"\n",
       "      /><line y2=\"31.5\" style=\"fill:none;\" x1=\"507\" x2=\"73\" y1=\"31.5\"\n",
       "      /><line x1=\"73\" x2=\"507\" y1=\"374\" style=\"stroke-linecap:square; fill-opacity:1; fill:none; stroke-opacity:1;\" y2=\"374\"\n",
       "      /><line x1=\"73\" x2=\"507\" y1=\"31.5\" style=\"stroke-linecap:square; fill-opacity:1; fill:none; stroke-opacity:1;\" y2=\"31.5\"\n",
       "      /><line x1=\"73\" x2=\"73\" y1=\"374\" style=\"stroke-linecap:square; fill-opacity:1; fill:none; stroke-opacity:1;\" y2=\"369.66\"\n",
       "      /><line x1=\"181.5\" x2=\"181.5\" y1=\"374\" style=\"stroke-linecap:square; fill-opacity:1; fill:none; stroke-opacity:1;\" y2=\"369.66\"\n",
       "      /><line x1=\"290\" x2=\"290\" y1=\"374\" style=\"stroke-linecap:square; fill-opacity:1; fill:none; stroke-opacity:1;\" y2=\"369.66\"\n",
       "      /><line x1=\"398.5\" x2=\"398.5\" y1=\"374\" style=\"stroke-linecap:square; fill-opacity:1; fill:none; stroke-opacity:1;\" y2=\"369.66\"\n",
       "      /><line x1=\"507\" x2=\"507\" y1=\"374\" style=\"stroke-linecap:square; fill-opacity:1; fill:none; stroke-opacity:1;\" y2=\"369.66\"\n",
       "      /><line x1=\"73\" x2=\"73\" y1=\"31.5\" style=\"stroke-linecap:square; fill-opacity:1; fill:none; stroke-opacity:1;\" y2=\"35.84\"\n",
       "      /><line x1=\"181.5\" x2=\"181.5\" y1=\"31.5\" style=\"stroke-linecap:square; fill-opacity:1; fill:none; stroke-opacity:1;\" y2=\"35.84\"\n",
       "      /><line x1=\"290\" x2=\"290\" y1=\"31.5\" style=\"stroke-linecap:square; fill-opacity:1; fill:none; stroke-opacity:1;\" y2=\"35.84\"\n",
       "      /><line x1=\"398.5\" x2=\"398.5\" y1=\"31.5\" style=\"stroke-linecap:square; fill-opacity:1; fill:none; stroke-opacity:1;\" y2=\"35.84\"\n",
       "      /><line x1=\"507\" x2=\"507\" y1=\"31.5\" style=\"stroke-linecap:square; fill-opacity:1; fill:none; stroke-opacity:1;\" y2=\"35.84\"\n",
       "      /><line x1=\"73\" x2=\"73\" y1=\"374\" style=\"stroke-linecap:square; fill-opacity:1; fill:none; stroke-opacity:1;\" y2=\"371.83\"\n",
       "      /><line x1=\"105.6618\" x2=\"105.6618\" y1=\"374\" style=\"stroke-linecap:square; fill-opacity:1; fill:none; stroke-opacity:1;\" y2=\"371.83\"\n",
       "      /><line x1=\"124.7677\" x2=\"124.7677\" y1=\"374\" style=\"stroke-linecap:square; fill-opacity:1; fill:none; stroke-opacity:1;\" y2=\"371.83\"\n",
       "      /><line x1=\"138.3235\" x2=\"138.3235\" y1=\"374\" style=\"stroke-linecap:square; fill-opacity:1; fill:none; stroke-opacity:1;\" y2=\"371.83\"\n",
       "      /><line x1=\"148.8382\" x2=\"148.8382\" y1=\"374\" style=\"stroke-linecap:square; fill-opacity:1; fill:none; stroke-opacity:1;\" y2=\"371.83\"\n",
       "      /><line x1=\"157.4294\" x2=\"157.4294\" y1=\"374\" style=\"stroke-linecap:square; fill-opacity:1; fill:none; stroke-opacity:1;\" y2=\"371.83\"\n",
       "      /><line x1=\"164.6931\" x2=\"164.6931\" y1=\"374\" style=\"stroke-linecap:square; fill-opacity:1; fill:none; stroke-opacity:1;\" y2=\"371.83\"\n",
       "      /><line x1=\"170.9853\" x2=\"170.9853\" y1=\"374\" style=\"stroke-linecap:square; fill-opacity:1; fill:none; stroke-opacity:1;\" y2=\"371.83\"\n",
       "      /><line x1=\"176.5353\" x2=\"176.5353\" y1=\"374\" style=\"stroke-linecap:square; fill-opacity:1; fill:none; stroke-opacity:1;\" y2=\"371.83\"\n",
       "      /><line x1=\"181.5\" x2=\"181.5\" y1=\"374\" style=\"stroke-linecap:square; fill-opacity:1; fill:none; stroke-opacity:1;\" y2=\"371.83\"\n",
       "      /><line x1=\"214.1618\" x2=\"214.1618\" y1=\"374\" style=\"stroke-linecap:square; fill-opacity:1; fill:none; stroke-opacity:1;\" y2=\"371.83\"\n",
       "      /><line x1=\"233.2677\" x2=\"233.2677\" y1=\"374\" style=\"stroke-linecap:square; fill-opacity:1; fill:none; stroke-opacity:1;\" y2=\"371.83\"\n",
       "      /><line x1=\"246.8235\" x2=\"246.8235\" y1=\"374\" style=\"stroke-linecap:square; fill-opacity:1; fill:none; stroke-opacity:1;\" y2=\"371.83\"\n",
       "      /><line x1=\"257.3382\" x2=\"257.3382\" y1=\"374\" style=\"stroke-linecap:square; fill-opacity:1; fill:none; stroke-opacity:1;\" y2=\"371.83\"\n",
       "      /><line x1=\"265.9294\" x2=\"265.9294\" y1=\"374\" style=\"stroke-linecap:square; fill-opacity:1; fill:none; stroke-opacity:1;\" y2=\"371.83\"\n",
       "      /><line x1=\"273.1931\" x2=\"273.1931\" y1=\"374\" style=\"stroke-linecap:square; fill-opacity:1; fill:none; stroke-opacity:1;\" y2=\"371.83\"\n",
       "      /><line x1=\"279.4853\" x2=\"279.4853\" y1=\"374\" style=\"stroke-linecap:square; fill-opacity:1; fill:none; stroke-opacity:1;\" y2=\"371.83\"\n",
       "      /><line x1=\"285.0353\" x2=\"285.0353\" y1=\"374\" style=\"stroke-linecap:square; fill-opacity:1; fill:none; stroke-opacity:1;\" y2=\"371.83\"\n",
       "      /><line x1=\"290\" x2=\"290\" y1=\"374\" style=\"stroke-linecap:square; fill-opacity:1; fill:none; stroke-opacity:1;\" y2=\"371.83\"\n",
       "      /><line x1=\"322.6617\" x2=\"322.6617\" y1=\"374\" style=\"stroke-linecap:square; fill-opacity:1; fill:none; stroke-opacity:1;\" y2=\"371.83\"\n",
       "      /><line x1=\"341.7677\" x2=\"341.7677\" y1=\"374\" style=\"stroke-linecap:square; fill-opacity:1; fill:none; stroke-opacity:1;\" y2=\"371.83\"\n",
       "      /><line x1=\"355.3235\" x2=\"355.3235\" y1=\"374\" style=\"stroke-linecap:square; fill-opacity:1; fill:none; stroke-opacity:1;\" y2=\"371.83\"\n",
       "      /><line x1=\"365.8383\" x2=\"365.8383\" y1=\"374\" style=\"stroke-linecap:square; fill-opacity:1; fill:none; stroke-opacity:1;\" y2=\"371.83\"\n",
       "      /><line x1=\"374.4294\" x2=\"374.4294\" y1=\"374\" style=\"stroke-linecap:square; fill-opacity:1; fill:none; stroke-opacity:1;\" y2=\"371.83\"\n",
       "      /><line x1=\"381.6931\" x2=\"381.6931\" y1=\"374\" style=\"stroke-linecap:square; fill-opacity:1; fill:none; stroke-opacity:1;\" y2=\"371.83\"\n",
       "      /><line x1=\"387.9853\" x2=\"387.9853\" y1=\"374\" style=\"stroke-linecap:square; fill-opacity:1; fill:none; stroke-opacity:1;\" y2=\"371.83\"\n",
       "      /><line x1=\"393.5353\" x2=\"393.5353\" y1=\"374\" style=\"stroke-linecap:square; fill-opacity:1; fill:none; stroke-opacity:1;\" y2=\"371.83\"\n",
       "      /><line x1=\"398.5\" x2=\"398.5\" y1=\"374\" style=\"stroke-linecap:square; fill-opacity:1; fill:none; stroke-opacity:1;\" y2=\"371.83\"\n",
       "      /><line x1=\"431.1617\" x2=\"431.1617\" y1=\"374\" style=\"stroke-linecap:square; fill-opacity:1; fill:none; stroke-opacity:1;\" y2=\"371.83\"\n",
       "      /><line x1=\"450.2677\" x2=\"450.2677\" y1=\"374\" style=\"stroke-linecap:square; fill-opacity:1; fill:none; stroke-opacity:1;\" y2=\"371.83\"\n",
       "      /><line x1=\"463.8235\" x2=\"463.8235\" y1=\"374\" style=\"stroke-linecap:square; fill-opacity:1; fill:none; stroke-opacity:1;\" y2=\"371.83\"\n",
       "      /><line x1=\"474.3383\" x2=\"474.3383\" y1=\"374\" style=\"stroke-linecap:square; fill-opacity:1; fill:none; stroke-opacity:1;\" y2=\"371.83\"\n",
       "      /><line x1=\"482.9294\" x2=\"482.9294\" y1=\"374\" style=\"stroke-linecap:square; fill-opacity:1; fill:none; stroke-opacity:1;\" y2=\"371.83\"\n",
       "      /><line x1=\"490.1931\" x2=\"490.1931\" y1=\"374\" style=\"stroke-linecap:square; fill-opacity:1; fill:none; stroke-opacity:1;\" y2=\"371.83\"\n",
       "      /><line x1=\"496.4853\" x2=\"496.4853\" y1=\"374\" style=\"stroke-linecap:square; fill-opacity:1; fill:none; stroke-opacity:1;\" y2=\"371.83\"\n",
       "      /><line x1=\"502.0353\" x2=\"502.0353\" y1=\"374\" style=\"stroke-linecap:square; fill-opacity:1; fill:none; stroke-opacity:1;\" y2=\"371.83\"\n",
       "      /><line x1=\"507\" x2=\"507\" y1=\"374\" style=\"stroke-linecap:square; fill-opacity:1; fill:none; stroke-opacity:1;\" y2=\"371.83\"\n",
       "      /><line x1=\"73\" x2=\"73\" y1=\"31.5\" style=\"stroke-linecap:square; fill-opacity:1; fill:none; stroke-opacity:1;\" y2=\"33.67\"\n",
       "      /><line x1=\"105.6618\" x2=\"105.6618\" y1=\"31.5\" style=\"stroke-linecap:square; fill-opacity:1; fill:none; stroke-opacity:1;\" y2=\"33.67\"\n",
       "      /><line x1=\"124.7677\" x2=\"124.7677\" y1=\"31.5\" style=\"stroke-linecap:square; fill-opacity:1; fill:none; stroke-opacity:1;\" y2=\"33.67\"\n",
       "      /><line x1=\"138.3235\" x2=\"138.3235\" y1=\"31.5\" style=\"stroke-linecap:square; fill-opacity:1; fill:none; stroke-opacity:1;\" y2=\"33.67\"\n",
       "      /><line x1=\"148.8382\" x2=\"148.8382\" y1=\"31.5\" style=\"stroke-linecap:square; fill-opacity:1; fill:none; stroke-opacity:1;\" y2=\"33.67\"\n",
       "      /><line x1=\"157.4294\" x2=\"157.4294\" y1=\"31.5\" style=\"stroke-linecap:square; fill-opacity:1; fill:none; stroke-opacity:1;\" y2=\"33.67\"\n",
       "      /><line x1=\"164.6931\" x2=\"164.6931\" y1=\"31.5\" style=\"stroke-linecap:square; fill-opacity:1; fill:none; stroke-opacity:1;\" y2=\"33.67\"\n",
       "      /><line x1=\"170.9853\" x2=\"170.9853\" y1=\"31.5\" style=\"stroke-linecap:square; fill-opacity:1; fill:none; stroke-opacity:1;\" y2=\"33.67\"\n",
       "      /><line x1=\"176.5353\" x2=\"176.5353\" y1=\"31.5\" style=\"stroke-linecap:square; fill-opacity:1; fill:none; stroke-opacity:1;\" y2=\"33.67\"\n",
       "      /><line x1=\"181.5\" x2=\"181.5\" y1=\"31.5\" style=\"stroke-linecap:square; fill-opacity:1; fill:none; stroke-opacity:1;\" y2=\"33.67\"\n",
       "      /><line x1=\"214.1618\" x2=\"214.1618\" y1=\"31.5\" style=\"stroke-linecap:square; fill-opacity:1; fill:none; stroke-opacity:1;\" y2=\"33.67\"\n",
       "      /><line x1=\"233.2677\" x2=\"233.2677\" y1=\"31.5\" style=\"stroke-linecap:square; fill-opacity:1; fill:none; stroke-opacity:1;\" y2=\"33.67\"\n",
       "      /><line x1=\"246.8235\" x2=\"246.8235\" y1=\"31.5\" style=\"stroke-linecap:square; fill-opacity:1; fill:none; stroke-opacity:1;\" y2=\"33.67\"\n",
       "      /><line x1=\"257.3382\" x2=\"257.3382\" y1=\"31.5\" style=\"stroke-linecap:square; fill-opacity:1; fill:none; stroke-opacity:1;\" y2=\"33.67\"\n",
       "      /><line x1=\"265.9294\" x2=\"265.9294\" y1=\"31.5\" style=\"stroke-linecap:square; fill-opacity:1; fill:none; stroke-opacity:1;\" y2=\"33.67\"\n",
       "      /><line x1=\"273.1931\" x2=\"273.1931\" y1=\"31.5\" style=\"stroke-linecap:square; fill-opacity:1; fill:none; stroke-opacity:1;\" y2=\"33.67\"\n",
       "      /><line x1=\"279.4853\" x2=\"279.4853\" y1=\"31.5\" style=\"stroke-linecap:square; fill-opacity:1; fill:none; stroke-opacity:1;\" y2=\"33.67\"\n",
       "      /><line x1=\"285.0353\" x2=\"285.0353\" y1=\"31.5\" style=\"stroke-linecap:square; fill-opacity:1; fill:none; stroke-opacity:1;\" y2=\"33.67\"\n",
       "      /><line x1=\"290\" x2=\"290\" y1=\"31.5\" style=\"stroke-linecap:square; fill-opacity:1; fill:none; stroke-opacity:1;\" y2=\"33.67\"\n",
       "      /><line x1=\"322.6617\" x2=\"322.6617\" y1=\"31.5\" style=\"stroke-linecap:square; fill-opacity:1; fill:none; stroke-opacity:1;\" y2=\"33.67\"\n",
       "      /><line x1=\"341.7677\" x2=\"341.7677\" y1=\"31.5\" style=\"stroke-linecap:square; fill-opacity:1; fill:none; stroke-opacity:1;\" y2=\"33.67\"\n",
       "      /><line x1=\"355.3235\" x2=\"355.3235\" y1=\"31.5\" style=\"stroke-linecap:square; fill-opacity:1; fill:none; stroke-opacity:1;\" y2=\"33.67\"\n",
       "      /><line x1=\"365.8383\" x2=\"365.8383\" y1=\"31.5\" style=\"stroke-linecap:square; fill-opacity:1; fill:none; stroke-opacity:1;\" y2=\"33.67\"\n",
       "      /><line x1=\"374.4294\" x2=\"374.4294\" y1=\"31.5\" style=\"stroke-linecap:square; fill-opacity:1; fill:none; stroke-opacity:1;\" y2=\"33.67\"\n",
       "      /><line x1=\"381.6931\" x2=\"381.6931\" y1=\"31.5\" style=\"stroke-linecap:square; fill-opacity:1; fill:none; stroke-opacity:1;\" y2=\"33.67\"\n",
       "      /><line x1=\"387.9853\" x2=\"387.9853\" y1=\"31.5\" style=\"stroke-linecap:square; fill-opacity:1; fill:none; stroke-opacity:1;\" y2=\"33.67\"\n",
       "      /><line x1=\"393.5353\" x2=\"393.5353\" y1=\"31.5\" style=\"stroke-linecap:square; fill-opacity:1; fill:none; stroke-opacity:1;\" y2=\"33.67\"\n",
       "      /><line x1=\"398.5\" x2=\"398.5\" y1=\"31.5\" style=\"stroke-linecap:square; fill-opacity:1; fill:none; stroke-opacity:1;\" y2=\"33.67\"\n",
       "      /><line x1=\"431.1617\" x2=\"431.1617\" y1=\"31.5\" style=\"stroke-linecap:square; fill-opacity:1; fill:none; stroke-opacity:1;\" y2=\"33.67\"\n",
       "      /><line x1=\"450.2677\" x2=\"450.2677\" y1=\"31.5\" style=\"stroke-linecap:square; fill-opacity:1; fill:none; stroke-opacity:1;\" y2=\"33.67\"\n",
       "      /><line x1=\"463.8235\" x2=\"463.8235\" y1=\"31.5\" style=\"stroke-linecap:square; fill-opacity:1; fill:none; stroke-opacity:1;\" y2=\"33.67\"\n",
       "      /><line x1=\"474.3383\" x2=\"474.3383\" y1=\"31.5\" style=\"stroke-linecap:square; fill-opacity:1; fill:none; stroke-opacity:1;\" y2=\"33.67\"\n",
       "      /><line x1=\"482.9294\" x2=\"482.9294\" y1=\"31.5\" style=\"stroke-linecap:square; fill-opacity:1; fill:none; stroke-opacity:1;\" y2=\"33.67\"\n",
       "      /><line x1=\"490.1931\" x2=\"490.1931\" y1=\"31.5\" style=\"stroke-linecap:square; fill-opacity:1; fill:none; stroke-opacity:1;\" y2=\"33.67\"\n",
       "      /><line x1=\"496.4853\" x2=\"496.4853\" y1=\"31.5\" style=\"stroke-linecap:square; fill-opacity:1; fill:none; stroke-opacity:1;\" y2=\"33.67\"\n",
       "      /><line x1=\"502.0353\" x2=\"502.0353\" y1=\"31.5\" style=\"stroke-linecap:square; fill-opacity:1; fill:none; stroke-opacity:1;\" y2=\"33.67\"\n",
       "      /><line x1=\"507\" x2=\"507\" y1=\"31.5\" style=\"stroke-linecap:square; fill-opacity:1; fill:none; stroke-opacity:1;\" y2=\"33.67\"\n",
       "    /></g\n",
       "    ><g transform=\"translate(64,391)\" style=\"font-size:10px; fill:rgb(38,38,38); text-rendering:geometricPrecision; image-rendering:optimizeQuality; color-rendering:optimizeQuality; font-family:'Helvetica Neue'; stroke:rgb(38,38,38); color-interpolation:linearRGB;\"\n",
       "    ><text x=\"0\" xml:space=\"preserve\" y=\"0\" style=\"stroke:none;\"\n",
       "      >10</text\n",
       "    ></g\n",
       "    ><g transform=\"translate(76,386)\" style=\"font-size:8px; fill:rgb(38,38,38); text-rendering:geometricPrecision; image-rendering:optimizeQuality; color-rendering:optimizeQuality; font-family:'Helvetica Neue'; stroke:rgb(38,38,38); color-interpolation:linearRGB;\"\n",
       "    ><text x=\"0\" xml:space=\"preserve\" y=\"0\" style=\"stroke:none;\"\n",
       "      >0</text\n",
       "    ></g\n",
       "    ><g transform=\"translate(173,391)\" style=\"font-size:10px; fill:rgb(38,38,38); text-rendering:geometricPrecision; image-rendering:optimizeQuality; color-rendering:optimizeQuality; font-family:'Helvetica Neue'; stroke:rgb(38,38,38); color-interpolation:linearRGB;\"\n",
       "    ><text x=\"0\" xml:space=\"preserve\" y=\"0\" style=\"stroke:none;\"\n",
       "      >10</text\n",
       "    ></g\n",
       "    ><g transform=\"translate(185,386)\" style=\"font-size:8px; fill:rgb(38,38,38); text-rendering:geometricPrecision; image-rendering:optimizeQuality; color-rendering:optimizeQuality; font-family:'Helvetica Neue'; stroke:rgb(38,38,38); color-interpolation:linearRGB;\"\n",
       "    ><text x=\"0\" xml:space=\"preserve\" y=\"0\" style=\"stroke:none;\"\n",
       "      >1</text\n",
       "    ></g\n",
       "    ><g transform=\"translate(281,391)\" style=\"font-size:10px; fill:rgb(38,38,38); text-rendering:geometricPrecision; image-rendering:optimizeQuality; color-rendering:optimizeQuality; font-family:'Helvetica Neue'; stroke:rgb(38,38,38); color-interpolation:linearRGB;\"\n",
       "    ><text x=\"0\" xml:space=\"preserve\" y=\"0\" style=\"stroke:none;\"\n",
       "      >10</text\n",
       "    ></g\n",
       "    ><g transform=\"translate(293,386)\" style=\"font-size:8px; fill:rgb(38,38,38); text-rendering:geometricPrecision; image-rendering:optimizeQuality; color-rendering:optimizeQuality; font-family:'Helvetica Neue'; stroke:rgb(38,38,38); color-interpolation:linearRGB;\"\n",
       "    ><text x=\"0\" xml:space=\"preserve\" y=\"0\" style=\"stroke:none;\"\n",
       "      >2</text\n",
       "    ></g\n",
       "    ><g transform=\"translate(390,391)\" style=\"font-size:10px; fill:rgb(38,38,38); text-rendering:geometricPrecision; image-rendering:optimizeQuality; color-rendering:optimizeQuality; font-family:'Helvetica Neue'; stroke:rgb(38,38,38); color-interpolation:linearRGB;\"\n",
       "    ><text x=\"0\" xml:space=\"preserve\" y=\"0\" style=\"stroke:none;\"\n",
       "      >10</text\n",
       "    ></g\n",
       "    ><g transform=\"translate(402,386)\" style=\"font-size:8px; fill:rgb(38,38,38); text-rendering:geometricPrecision; image-rendering:optimizeQuality; color-rendering:optimizeQuality; font-family:'Helvetica Neue'; stroke:rgb(38,38,38); color-interpolation:linearRGB;\"\n",
       "    ><text x=\"0\" xml:space=\"preserve\" y=\"0\" style=\"stroke:none;\"\n",
       "      >3</text\n",
       "    ></g\n",
       "    ><g transform=\"translate(498,391)\" style=\"font-size:10px; fill:rgb(38,38,38); text-rendering:geometricPrecision; image-rendering:optimizeQuality; color-rendering:optimizeQuality; font-family:'Helvetica Neue'; stroke:rgb(38,38,38); color-interpolation:linearRGB;\"\n",
       "    ><text x=\"0\" xml:space=\"preserve\" y=\"0\" style=\"stroke:none;\"\n",
       "      >10</text\n",
       "    ></g\n",
       "    ><g transform=\"translate(510,386)\" style=\"font-size:8px; fill:rgb(38,38,38); text-rendering:geometricPrecision; image-rendering:optimizeQuality; color-rendering:optimizeQuality; font-family:'Helvetica Neue'; stroke:rgb(38,38,38); color-interpolation:linearRGB;\"\n",
       "    ><text x=\"0\" xml:space=\"preserve\" y=\"0\" style=\"stroke:none;\"\n",
       "      >4</text\n",
       "    ></g\n",
       "    ><g transform=\"translate(290.0002,394.5)\" style=\"font-size:11px; fill:rgb(38,38,38); text-rendering:geometricPrecision; image-rendering:optimizeQuality; color-rendering:optimizeQuality; font-family:'Helvetica Neue'; stroke:rgb(38,38,38); color-interpolation:linearRGB;\"\n",
       "    ><text x=\"-64.5\" xml:space=\"preserve\" y=\"11\" style=\"stroke:none;\"\n",
       "      >Radian frequency w (rad/s</text\n",
       "    ></g\n",
       "    ><g style=\"fill:rgb(38,38,38); text-rendering:geometricPrecision; image-rendering:optimizeQuality; color-rendering:optimizeQuality; stroke-linejoin:round; stroke:rgb(38,38,38); color-interpolation:linearRGB; stroke-width:0.5;\"\n",
       "    ><line y2=\"31.5\" style=\"fill:none;\" x1=\"73\" x2=\"73\" y1=\"374\"\n",
       "      /><line y2=\"31.5\" style=\"fill:none;\" x1=\"507\" x2=\"507\" y1=\"374\"\n",
       "      /><line y2=\"374\" style=\"fill:none;\" x1=\"73\" x2=\"77.34\" y1=\"374\"\n",
       "      /><line y2=\"339.75\" style=\"fill:none;\" x1=\"73\" x2=\"77.34\" y1=\"339.75\"\n",
       "      /><line y2=\"305.5\" style=\"fill:none;\" x1=\"73\" x2=\"77.34\" y1=\"305.5\"\n",
       "      /><line y2=\"271.25\" style=\"fill:none;\" x1=\"73\" x2=\"77.34\" y1=\"271.25\"\n",
       "      /><line y2=\"237\" style=\"fill:none;\" x1=\"73\" x2=\"77.34\" y1=\"237\"\n",
       "      /><line y2=\"202.75\" style=\"fill:none;\" x1=\"73\" x2=\"77.34\" y1=\"202.75\"\n",
       "      /><line y2=\"168.5\" style=\"fill:none;\" x1=\"73\" x2=\"77.34\" y1=\"168.5\"\n",
       "      /><line y2=\"134.25\" style=\"fill:none;\" x1=\"73\" x2=\"77.34\" y1=\"134.25\"\n",
       "      /><line y2=\"100\" style=\"fill:none;\" x1=\"73\" x2=\"77.34\" y1=\"100\"\n",
       "      /><line y2=\"65.75\" style=\"fill:none;\" x1=\"73\" x2=\"77.34\" y1=\"65.75\"\n",
       "      /><line y2=\"31.5\" style=\"fill:none;\" x1=\"73\" x2=\"77.34\" y1=\"31.5\"\n",
       "      /><line y2=\"374\" style=\"fill:none;\" x1=\"507\" x2=\"502.66\" y1=\"374\"\n",
       "      /><line y2=\"339.75\" style=\"fill:none;\" x1=\"507\" x2=\"502.66\" y1=\"339.75\"\n",
       "      /><line y2=\"305.5\" style=\"fill:none;\" x1=\"507\" x2=\"502.66\" y1=\"305.5\"\n",
       "      /><line y2=\"271.25\" style=\"fill:none;\" x1=\"507\" x2=\"502.66\" y1=\"271.25\"\n",
       "      /><line y2=\"237\" style=\"fill:none;\" x1=\"507\" x2=\"502.66\" y1=\"237\"\n",
       "      /><line y2=\"202.75\" style=\"fill:none;\" x1=\"507\" x2=\"502.66\" y1=\"202.75\"\n",
       "      /><line y2=\"168.5\" style=\"fill:none;\" x1=\"507\" x2=\"502.66\" y1=\"168.5\"\n",
       "      /><line y2=\"134.25\" style=\"fill:none;\" x1=\"507\" x2=\"502.66\" y1=\"134.25\"\n",
       "      /><line y2=\"100\" style=\"fill:none;\" x1=\"507\" x2=\"502.66\" y1=\"100\"\n",
       "      /><line y2=\"65.75\" style=\"fill:none;\" x1=\"507\" x2=\"502.66\" y1=\"65.75\"\n",
       "      /><line y2=\"31.5\" style=\"fill:none;\" x1=\"507\" x2=\"502.66\" y1=\"31.5\"\n",
       "    /></g\n",
       "    ><g transform=\"translate(69,374)\" style=\"font-size:10px; fill:rgb(38,38,38); text-rendering:geometricPrecision; image-rendering:optimizeQuality; color-rendering:optimizeQuality; font-family:'Helvetica Neue'; stroke:rgb(38,38,38); color-interpolation:linearRGB;\"\n",
       "    ><text x=\"-6\" xml:space=\"preserve\" y=\"3.5\" style=\"stroke:none;\"\n",
       "      >0</text\n",
       "    ></g\n",
       "    ><g transform=\"translate(69,339.75)\" style=\"font-size:10px; fill:rgb(38,38,38); text-rendering:geometricPrecision; image-rendering:optimizeQuality; color-rendering:optimizeQuality; font-family:'Helvetica Neue'; stroke:rgb(38,38,38); color-interpolation:linearRGB;\"\n",
       "    ><text x=\"-20\" xml:space=\"preserve\" y=\"3.5\" style=\"stroke:none;\"\n",
       "      >0.02</text\n",
       "    ></g\n",
       "    ><g transform=\"translate(69,305.5)\" style=\"font-size:10px; fill:rgb(38,38,38); text-rendering:geometricPrecision; image-rendering:optimizeQuality; color-rendering:optimizeQuality; font-family:'Helvetica Neue'; stroke:rgb(38,38,38); color-interpolation:linearRGB;\"\n",
       "    ><text x=\"-20\" xml:space=\"preserve\" y=\"3.5\" style=\"stroke:none;\"\n",
       "      >0.04</text\n",
       "    ></g\n",
       "    ><g transform=\"translate(69,271.25)\" style=\"font-size:10px; fill:rgb(38,38,38); text-rendering:geometricPrecision; image-rendering:optimizeQuality; color-rendering:optimizeQuality; font-family:'Helvetica Neue'; stroke:rgb(38,38,38); color-interpolation:linearRGB;\"\n",
       "    ><text x=\"-20\" xml:space=\"preserve\" y=\"3.5\" style=\"stroke:none;\"\n",
       "      >0.06</text\n",
       "    ></g\n",
       "    ><g transform=\"translate(69,237)\" style=\"font-size:10px; fill:rgb(38,38,38); text-rendering:geometricPrecision; image-rendering:optimizeQuality; color-rendering:optimizeQuality; font-family:'Helvetica Neue'; stroke:rgb(38,38,38); color-interpolation:linearRGB;\"\n",
       "    ><text x=\"-20\" xml:space=\"preserve\" y=\"3.5\" style=\"stroke:none;\"\n",
       "      >0.08</text\n",
       "    ></g\n",
       "    ><g transform=\"translate(69,202.75)\" style=\"font-size:10px; fill:rgb(38,38,38); text-rendering:geometricPrecision; image-rendering:optimizeQuality; color-rendering:optimizeQuality; font-family:'Helvetica Neue'; stroke:rgb(38,38,38); color-interpolation:linearRGB;\"\n",
       "    ><text x=\"-14\" xml:space=\"preserve\" y=\"3.5\" style=\"stroke:none;\"\n",
       "      >0.1</text\n",
       "    ></g\n",
       "    ><g transform=\"translate(69,168.5)\" style=\"font-size:10px; fill:rgb(38,38,38); text-rendering:geometricPrecision; image-rendering:optimizeQuality; color-rendering:optimizeQuality; font-family:'Helvetica Neue'; stroke:rgb(38,38,38); color-interpolation:linearRGB;\"\n",
       "    ><text x=\"-20\" xml:space=\"preserve\" y=\"3.5\" style=\"stroke:none;\"\n",
       "      >0.12</text\n",
       "    ></g\n",
       "    ><g transform=\"translate(69,134.25)\" style=\"font-size:10px; fill:rgb(38,38,38); text-rendering:geometricPrecision; image-rendering:optimizeQuality; color-rendering:optimizeQuality; font-family:'Helvetica Neue'; stroke:rgb(38,38,38); color-interpolation:linearRGB;\"\n",
       "    ><text x=\"-20\" xml:space=\"preserve\" y=\"3.5\" style=\"stroke:none;\"\n",
       "      >0.14</text\n",
       "    ></g\n",
       "    ><g transform=\"translate(69,100)\" style=\"font-size:10px; fill:rgb(38,38,38); text-rendering:geometricPrecision; image-rendering:optimizeQuality; color-rendering:optimizeQuality; font-family:'Helvetica Neue'; stroke:rgb(38,38,38); color-interpolation:linearRGB;\"\n",
       "    ><text x=\"-20\" xml:space=\"preserve\" y=\"3.5\" style=\"stroke:none;\"\n",
       "      >0.16</text\n",
       "    ></g\n",
       "    ><g transform=\"translate(69,65.75)\" style=\"font-size:10px; fill:rgb(38,38,38); text-rendering:geometricPrecision; image-rendering:optimizeQuality; color-rendering:optimizeQuality; font-family:'Helvetica Neue'; stroke:rgb(38,38,38); color-interpolation:linearRGB;\"\n",
       "    ><text x=\"-20\" xml:space=\"preserve\" y=\"3.5\" style=\"stroke:none;\"\n",
       "      >0.18</text\n",
       "    ></g\n",
       "    ><g transform=\"translate(69,31.5)\" style=\"font-size:10px; fill:rgb(38,38,38); text-rendering:geometricPrecision; image-rendering:optimizeQuality; color-rendering:optimizeQuality; font-family:'Helvetica Neue'; stroke:rgb(38,38,38); color-interpolation:linearRGB;\"\n",
       "    ><text x=\"-14\" xml:space=\"preserve\" y=\"3.5\" style=\"stroke:none;\"\n",
       "      >0.2</text\n",
       "    ></g\n",
       "    ><g transform=\"translate(46.5,202.7498) rotate(-90)\" style=\"font-size:11px; fill:rgb(38,38,38); text-rendering:geometricPrecision; image-rendering:optimizeQuality; color-rendering:optimizeQuality; font-family:'Helvetica Neue'; stroke:rgb(38,38,38); color-interpolation:linearRGB;\"\n",
       "    ><text x=\"-23.5\" xml:space=\"preserve\" y=\"-3\" style=\"stroke:none;\"\n",
       "      >|Vout/Vin|</text\n",
       "    ></g\n",
       "    ><g transform=\"translate(290.0003,30.125)\" style=\"font-size:11px; text-rendering:geometricPrecision; image-rendering:optimizeQuality; color-rendering:optimizeQuality; font-family:'Helvetica Neue'; color-interpolation:linearRGB; font-weight:bold;\"\n",
       "    ><text x=\"-110\" xml:space=\"preserve\" y=\"-3\" style=\"stroke:none;\"\n",
       "      >Magnitude Vout/Vin vs. Radian Frequency</text\n",
       "    ></g\n",
       "    ><g style=\"stroke-linecap:butt; fill:rgb(0,114,189); text-rendering:geometricPrecision; image-rendering:optimizeQuality; color-rendering:optimizeQuality; stroke-linejoin:round; stroke:rgb(0,114,189); color-interpolation:linearRGB; stroke-width:0.5;\"\n",
       "    ><path d=\"M73 31.5003 L185.9911 31.5414 L216.4608 31.6509 L234.8127 31.8287 L247.9871 32.0744 L258.2714 32.3877 L266.7083 32.768 L273.8615 33.2147 L280.0706 33.7271 L285.556 34.3044 L290.4689 34.9456 L294.9175 35.6498 L298.9822 36.4158 L302.7239 37.2425 L306.1903 38.1286 L309.419 39.0728 L312.4406 40.0737 L315.2801 41.1297 L317.9581 42.2395 L320.4921 43.4013 L322.8968 44.6137 L325.1846 45.8749 L327.3666 47.1832 L329.4519 48.537 L331.4489 49.9344 L333.3646 51.3737 L335.2055 52.8532 L336.9772 54.3711 L338.6846 55.9255 L340.3324 57.5148 L341.9245 59.137 L343.4645 60.7906 L344.9558 62.4737 L346.4013 64.1845 L347.8039 65.9214 L349.1658 67.6828 L350.4895 69.4669 L351.7771 71.2721 L353.0304 73.0968 L354.2512 74.9395 L355.4412 76.7987 L356.6018 78.6729 L357.7346 80.5605 L358.8408 82.4604 L359.9216 84.371 L360.9781 86.291 L362.0115 88.2193 L363.0228 90.1545 L364.0128 92.0954 L364.9823 94.0411 L365.9324 95.9902 L366.8637 97.9418 L367.7769 99.8949 L368.6728 101.8485 L369.5519 103.8016 L370.4149 105.7535 L371.2625 107.7032 L372.095 109.6499 L372.9131 111.5929 L373.7172 113.5314 L374.5079 115.4648 L375.2855 117.3923 L376.0504 119.3135 L376.8032 121.2277 L377.5441 123.1343 L378.2735 125.0328 L378.9919 126.9227 L379.6994 128.8036 L380.3965 130.6751 L381.0834 132.5368 L381.7604 134.3882 L382.4279 136.229 L383.086 138.059 L383.735 139.8777 L384.3753 141.685 L385.0069 143.4805 L385.6302 145.2641 L386.2454 147.0355 L386.8526 148.7946 L387.4521 150.5411 L388.0441 152.2749 L388.6288 153.9958 L389.2062 155.7038 L389.7767 157.3987 L390.3404 159.0805 L390.8973 160.7489 L391.4478 162.4041 L391.992 164.0458 L392.5299 165.6741 L393.0617 167.2889 L393.5876 168.8902 L394.1078 170.478 L394.6222 172.0523 L395.131 173.613 L395.6345 175.1602 L396.1326 176.694 L396.6255 178.2142 L397.1133 179.7211 L397.5961 181.2145 L398.074 182.6945 L398.5471 184.1613 L399.0155 185.6147 L399.4793 187.055 L399.9386 188.4821 L400.3934 189.8962 L400.8439 191.2973 L401.2901 192.6854 L401.7321 194.0607 L402.1701 195.4233 L402.604 196.7731 L403.0339 198.1104 L403.46 199.4352 L403.8822 200.7475 L404.3007 202.0475 L404.7155 203.3353 L405.1266 204.611 L405.5343 205.8747 L405.9384 207.1264 L406.3391 208.3663 L406.7364 209.5944 L407.1304 210.811 L407.5211 212.016 L407.9087 213.2096 L408.293 214.3918 L408.6742 215.5629 L409.0524 216.7228 L409.4276 217.8718 L409.7998 219.0098 L410.1691 220.1371 L410.5355 221.2537 L410.8991 222.3596 L411.2599 223.4552 L411.618 224.5403 L411.9733 225.6152 L412.326 226.6799 L412.6761 227.7345 L413.0236 228.7792 L413.3686 229.814 L413.711 230.8391 L414.051 231.8545 L414.3885 232.8604 L414.7237 233.8568 L415.0565 234.8438 L415.3869 235.8216 L415.7151 236.7902 L416.0409 237.7498 L416.3645 238.7004 L416.686 239.6422 L417.0052 240.5752 L417.3223 241.4995 L417.6373 242.4152 L417.9502 243.3224 L418.261 244.2212 L418.5698 245.1118 L418.8766 245.994 L419.1814 246.8682 L419.4842 247.7343 L419.7851 248.5925 L420.0841 249.4428 L420.3812 250.2853 L420.6765 251.1201 L420.9699 251.9473 L421.2615 252.767 L421.5512 253.5792 L421.8393 254.3841 L422.1255 255.1816 L422.4101 255.972 L422.6929 256.7552 L422.9741 257.5314 L423.2536 258.3006 L423.5314 259.0629 L423.8076 259.8184 L424.0822 260.567 L424.3552 261.3091 L424.6266 262.0446 L424.8965 262.7734 L425.1649 263.4959 L425.4317 264.2119 L425.6971 264.9217 L425.9609 265.6251 L426.2232 266.3224 L426.4841 267.0136 L426.7436 267.6987 L427.0017 268.3778 L427.2583 269.051 L427.5136 269.7184 L427.7675 270.3799 L428.02 271.0357 L428.2712 271.6858 L428.521 272.3303 L428.7696 272.9693 L429.0168 273.6027 L429.2627 274.2308 L429.5074 274.8534 L429.7508 275.4707 L429.9929 276.0828 L430.2338 276.6896 L430.4735 277.2913 L430.712 277.8879 L430.9492 278.4795 L431.1853 279.066 L431.4202 279.6476 L431.6539 280.2244 L431.8865 280.7962 L432.118 281.3633 L432.3483 281.9257 L432.5775 282.4834 L432.8055 283.0364 L433.0325 283.5848 L433.2584 284.1287 L433.4832 284.6681 L433.707 285.2031 L433.9297 285.7336 L434.1513 286.2598 L434.3719 286.7817 L434.5915 287.2993 L434.8101 287.8126 L435.0276 288.3218 L435.2441 288.8268 L435.4597 289.3278 L435.6743 289.8247 L435.8879 290.3176 L436.1005 290.8065 L436.3122 291.2914 L436.5229 291.7725 L436.7328 292.2497 L436.9416 292.7231 L437.1496 293.1927 L437.3566 293.6585 L437.5627 294.1207 L437.7679 294.5792 L437.9723 295.034 L438.1758 295.4853 L438.3783 295.933 L438.58 296.3772 L438.7809 296.8178 L438.9809 297.2551 L439.1801 297.6889 L439.3784 298.1193 L439.5759 298.5464 L439.7726 298.9701 L439.9684 299.3906 L440.1635 299.8078 L440.3577 300.2217 L440.5511 300.6325 L440.7437 301.0401 L440.9356 301.4446 L441.1267 301.8459 L441.317 302.2443 L441.5066 302.6395 L441.6953 303.0317 L441.8834 303.421 L442.0707 303.8073 L442.2572 304.1907 L442.443 304.5711 L442.6281 304.9487 L442.8124 305.3235 L442.9961 305.6954 L443.179 306.0645 L443.3612 306.4309 L443.5427 306.7945 L443.7235 307.1554 L443.9037 307.5137 L444.0831 307.8692 L444.2619 308.2221 L444.4399 308.5724 L444.6174 308.9202 L444.7941 309.2653 L444.9702 309.6079 L445.1456 309.948 L445.3204 310.2856 L445.4946 310.6207 L445.6681 310.9533 L445.8409 311.2836 L446.0132 311.6114 L446.1847 311.9369 L446.3557 312.2599 L446.5261 312.5807 L446.6958 312.8991 L446.8649 313.2153 L447.0335 313.5291 L447.2014 313.8407 L447.3687 314.1501 L447.5355 314.4572 L447.7016 314.7622 L447.8672 315.0649 L448.0322 315.3655 L448.1966 315.664 L448.3604 315.9604 L448.5237 316.2547 L448.6864 316.5468 L448.8486 316.837 L449.0102 317.125 L449.1712 317.4111 L449.3317 317.6951 L449.4917 317.9772 L449.6511 318.2573 L449.8099 318.5354 L449.9683 318.8116 L450.1261 319.0858 L450.2834 319.3582 L450.4401 319.6287 L450.5963 319.8973 L450.7521 320.164 L450.9073 320.4289 L451.062 320.692 L451.2162 320.9533 L451.3699 321.2128 L451.5231 321.4705 L451.6758 321.7264 L451.8279 321.9807 L451.9796 322.2331 L452.1309 322.4839 L452.2816 322.7329 L452.4319 322.9803 L452.5816 323.226 L452.731 323.4701 L452.8798 323.7125 L453.0282 323.9532 L453.1761 324.1924 L453.3235 324.4299 L453.4705 324.6659 L453.617 324.9003 L453.7631 325.1331 L453.9087 325.3644 L454.0538 325.5941 L454.1985 325.8224 L454.3428 326.049 L454.4867 326.2743 L454.6301 326.498 L454.773 326.7202 L454.9156 326.941 L455.0577 327.1604 L455.1993 327.3783 L455.3406 327.5948 L455.4814 327.8098 L455.6218 328.0235 L455.7618 328.2357 L455.9014 328.4467 L456.0406 328.6562 L456.1793 328.8643 L456.3177 329.0712 L456.4556 329.2767 L456.5931 329.4808 L456.7303 329.6837 L456.867 329.8853 L457.0034 330.0855 L457.1393 330.2845 L457.2749 330.4822 L457.4101 330.6787 L457.5448 330.8739 L457.6793 331.0678 L457.8133 331.2606 L457.9469 331.4521 L458.0802 331.6424 L458.213 331.8315 L458.3456 332.0194 L458.4777 332.2061 L458.6095 332.3917 L458.7409 332.5761 L458.8719 332.7593 L459.0026 332.9414 L459.1329 333.1224 L459.2628 333.3022 L459.3924 333.4809 L459.5217 333.6585 L459.6506 333.8351 L459.7791 334.0105 L459.9073 334.1848 L460.0351 334.358 L460.1626 334.5302 L460.2898 334.7014 L460.4166 334.8715 L460.543 335.0405 L460.6692 335.2085 L460.795 335.3755 L460.9204 335.5414 L461.0455 335.7064 L461.1703 335.8704 L461.2948 336.0333 L461.4189 336.1953 L461.5427 336.3563 L461.6662 336.5163 L461.7894 336.6754 L461.9122 336.8335 L462.0347 336.9906 L462.1569 337.1468 L462.2788 337.3021 L462.4004 337.4565 L462.5216 337.6099 L462.6426 337.7624 L462.7632 337.914 L462.8836 338.0647 L463.0036 338.2145 L463.1233 338.3634 L463.2427 338.5115 L463.3618 338.6587 L463.4806 338.805 L463.5992 338.9504 L463.7173 339.095 L463.8353 339.2387 L463.9529 339.3816 L464.0703 339.5237 L464.1873 339.6649 L464.304 339.8054 L464.4205 339.9449 L464.5367 340.0837 L464.6526 340.2217 L464.7682 340.3589 L464.8835 340.4953 L464.9985 340.6309 L465.1133 340.7657 L465.2278 340.8997 L465.342 341.0331 L465.4559 341.1656 L465.5695 341.2973 L465.683 341.4283 L465.7961 341.5586 L465.9089 341.6881 L466.0215 341.8168 L466.1338 341.9449 L466.2458 342.0722 L466.3576 342.1988 L466.4691 342.3247 L466.5803 342.4499 L466.6913 342.5743 L466.802 342.6981 L466.9125 342.8211 L467.0227 342.9435 L467.1326 343.0652 L467.2423 343.1862 L467.3517 343.3065 L467.4609 343.4262 L467.5698 343.5452 L467.6785 343.6636 L467.7869 343.7812 L467.8951 343.8983 L468.003 344.0146 L468.1107 344.1304 L468.2181 344.2455 L468.3253 344.36 L468.4323 344.4738 L468.539 344.587 L468.6454 344.6996 L468.7516 344.8116 L468.8576 344.9229 L468.9634 345.0337 L469.0689 345.1438 L469.1742 345.2534 L469.2792 345.3623 L469.384 345.4707 L469.4886 345.5785 L469.593 345.6857 L469.6971 345.7923 L469.8009 345.8983 L469.9046 346.0038 L470.008 346.1087 L470.1112 346.213 L470.2142 346.3168 L470.3169 346.42 L470.4195 346.5227 L470.5218 346.6248 L470.6239 346.7264 L470.7257 346.8275 L470.8274 346.9279 L470.9288 347.0279 L471.03 347.1274 L471.131 347.2263 L471.2318 347.3247 L471.3323 347.4225 L471.4326 347.5199 L471.5328 347.6168 L471.6327 347.7131 L471.7324 347.8089 L471.8319 347.9043 L471.9312 347.9991 L472.0302 348.0934 L472.1291 348.1873 L472.2278 348.2806 L472.3262 348.3735 L472.4245 348.4659 L472.5225 348.5578 L472.6204 348.6493 L472.718 348.7402 L472.8155 348.8307 L472.9127 348.9207 L473.0097 349.0103 L473.1066 349.0994 L473.2032 349.188 L473.2996 349.2762 L473.3959 349.364 L473.4919 349.4513 L473.5878 349.5381 L473.6834 349.6246 L473.7789 349.7105 L473.8742 349.7961 L473.9693 349.8812 L474.0641 349.9659 L474.1588 350.0501 L474.2534 350.1339 L474.3477 350.2173 L474.4418 350.3003 L474.5357 350.3828 L474.6295 350.465 L474.7231 350.5467 L474.8165 350.628 L474.9096 350.7089 L475.0027 350.7894 L475.0955 350.8696 L475.1881 350.9493 L475.2806 351.0286 L475.3729 351.1075 L475.465 351.186 L475.5569 351.2642 L475.6487 351.3419 L475.7402 351.4193 L475.8316 351.4963 L475.9229 351.5729 L476.0139 351.6491 L476.1047 351.725 L476.1954 351.8005 L476.2859 351.8756 L476.3763 351.9504 L476.4665 352.0248 L476.5565 352.0988 L476.6463 352.1725 L476.7359 352.2458 L476.8254 352.3187 L476.9147 352.3913 L477.0038 352.4636 L477.0928 352.5355 L477.1816 352.6071 L477.2703 352.6783 L477.3588 352.7491 L477.4471 352.8196 L477.5352 352.8898 L477.6232 352.9597 L477.711 353.0292 L477.7986 353.0984 L477.8861 353.1672 L477.9734 353.2358 L478.0606 353.304 L478.1476 353.3719 L478.2344 353.4394 L478.3211 353.5066 L478.4077 353.5735 L478.494 353.6402 L478.5802 353.7065 L478.6663 353.7724 L478.7522 353.8381 L478.8379 353.9034 L478.9235 353.9685 L479.0089 354.0332 L479.0942 354.0977 L479.1793 354.1618 L479.2643 354.2256 L479.3491 354.2892 L479.4337 354.3524 L479.5182 354.4154 L479.6026 354.4781 L479.6868 354.5404 L479.7709 354.6025 L479.8548 354.6643 L479.9385 354.7258 L480.0221 354.787 L480.1056 354.848 L480.1889 354.9086 L480.2721 354.969 L480.3551 355.0291 L480.438 355.089 L480.5207 355.1485 L480.6033 355.2078 L480.6857 355.2668 L480.768 355.3256 L480.8502 355.384 L480.9322 355.4423 L481.014 355.5002 L481.0957 355.5579 L481.1773 355.6153 L481.2588 355.6725 L481.3401 355.7294 L481.4212 355.786 L481.5022 355.8424 L481.5831 355.8986 L481.6638 355.9545 L481.7444 356.0101 L481.8249 356.0655 L481.9052 356.1206 L481.9854 356.1755 L482.0655 356.2302 L482.1454 356.2846 L482.2252 356.3388 L482.3049 356.3927 L482.3844 356.4464 L482.4637 356.4998 L482.543 356.553 L482.6221 356.606 L482.7011 356.6588 L482.7799 356.7113 L482.8587 356.7635 L482.9373 356.8156 L483.0157 356.8674 L483.094 356.919 L483.1722 356.9704 L483.2503 357.0215 L483.3282 357.0724 L483.4061 357.1232 L483.4837 357.1736 L483.5613 357.2239 L483.6387 357.2739 L483.716 357.3238 L483.7932 357.3734 L483.8702 357.4228 L483.9471 357.4719 L484.0239 357.5209 L484.1006 357.5696 L484.1772 357.6182 L484.2536 357.6665 L484.3299 357.7147 L484.4061 357.7626 L484.4821 357.8103 L484.558 357.8578 L484.6338 357.9051 L484.7095 357.9522 L484.7851 357.9991 L484.8605 358.0458 L484.9359 358.0923 L485.011 358.1386 L485.0861 358.1848 L485.1611 358.2307 L485.2359 358.2764 L485.3106 358.3219 L485.3853 358.3673 L485.4597 358.4124 L485.5341 358.4574 L485.6084 358.5021 L485.6825 358.5467 L485.7565 358.5911 L485.8304 358.6353 L485.9042 358.6794 L485.9779 358.7232 L486.0515 358.7668 L486.1249 358.8103 L486.1982 358.8536 L486.2714 358.8967 L486.3445 358.9397 L486.4175 358.9824 L486.4904 359.025 L486.5631 359.0674 L486.6358 359.1096 L486.7083 359.1517 L486.7808 359.1935 L486.8531 359.2353 L486.9253 359.2768 L486.9974 359.3181 L487.0694 359.3593 L487.1413 359.4004 L487.213 359.4412 L487.2847 359.4819 L487.3562 359.5225 L487.4276 359.5628 L487.499 359.603 L487.5702 359.643 L487.6413 359.6829 L487.7123 359.7226 L487.7832 359.7622 L487.854 359.8015 L487.9247 359.8408 L487.9953 359.8799 L488.0658 359.9188 L488.1362 359.9575 L488.2064 359.9961 L488.2766 360.0346 L488.3466 360.0728 L488.4166 360.111 L488.4865 360.149 L488.5562 360.1868 L488.6258 360.2245 L488.6954 360.262 L488.7648 360.2994 L488.8341 360.3366 L488.9034 360.3737 L488.9725 360.4106 L489.0416 360.4474 L489.1105 360.4841 L489.1793 360.5206 L489.248 360.5569 L489.3167 360.5932 L489.3852 360.6292 L489.4536 360.6652 L489.5219 360.701 L489.5902 360.7366 L489.6583 360.7721 L489.7264 360.8075 L489.7943 360.8427 L489.8621 360.8778 L489.9299 360.9128 L489.9975 360.9476 L490.0651 360.9822 L490.1325 361.0168 L490.1999 361.0512 L490.2671 361.0855 L490.3343 361.1196 L490.4013 361.1537 L490.4683 361.1875 L490.5352 361.2213 L490.602 361.2549 L490.6687 361.2884 L490.7353 361.3218 L490.8018 361.355 L490.8682 361.3881 L490.9345 361.4211 L491.0007 361.4539 L491.0668 361.4867 L491.1328 361.5193 L491.1988 361.5518 L491.2646 361.5841 L491.3304 361.6164 L491.3961 361.6485 L491.4616 361.6805 L491.5271 361.7123 L491.5925 361.744 L491.6578 361.7757 L491.723 361.8072 L491.7881 361.8386 L491.8531 361.8698 L491.9181 361.901 L491.983 361.932 L492.0477 361.963 L492.1124 361.9937 L492.177 362.0244 L492.2415 362.055 L492.3059 362.0854 L492.3702 362.1158 L492.4344 362.146 L492.4986 362.1761 L492.5627 362.2061 L492.6266 362.2361 L492.6905 362.2658 L492.7543 362.2955 L492.818 362.325 L492.8817 362.3545 L492.9452 362.3839 L493.0086 362.4131 L493.072 362.4422 L493.1353 362.4712 L493.1985 362.5001 L493.2616 362.5289 L493.3246 362.5576 L493.3876 362.5862 L493.4504 362.6147 L493.5132 362.6431 L493.5759 362.6714 L493.6385 362.6996 L493.701 362.7276 L493.7635 362.7556 L493.8258 362.7835 L493.8881 362.8112 L493.9503 362.8389 L494.0125 362.8665 L494.0745 362.8939 L494.1364 362.9213 L494.1983 362.9486 L494.2601 362.9757 L494.3218 363.0028 L494.3834 363.0298 L494.445 363.0567 L494.5064 363.0834 L494.5678 363.1101 L494.6291 363.1367 L494.6904 363.1632 L494.7515 363.1896 L494.8126 363.2159 L494.8736 363.2421 L494.9345 363.2682 L494.9953 363.2943 L495.0561 363.3202 L495.1168 363.346 L495.1773 363.3718 L495.2379 363.3974 L495.2983 363.423 L495.3587 363.4485 L495.419 363.4738 L495.4792 363.4991 L495.5393 363.5243 L495.5993 363.5494 L495.6593 363.5745 L495.7192 363.5994 L495.7791 363.6243 L495.8388 363.649 L495.8985 363.6737 L495.9581 363.6983 L496.0176 363.7228 L496.0771 363.7472 L496.1364 363.7715 L496.1958 363.7958 L496.255 363.8199 L496.3141 363.844 L496.3732 363.868 L496.4322 363.8919 L496.4911 363.9157 L496.55 363.9395 L496.6088 363.9632 L496.6675 363.9868 L496.7262 364.0103 L496.7847 364.0337 L496.8432 364.057 L496.9016 364.0803 L496.96 364.1034 L497.0182 364.1265 L497.0764 364.1495 L497.1346 364.1725 L497.1926 364.1953 L497.2506 364.2181 L497.3085 364.2408 L497.3664 364.2635 L497.4242 364.286 L497.4819 364.3085 L497.5395 364.3309 L497.5971 364.3532 L497.6545 364.3755 L497.712 364.3976 L497.7693 364.4197 L497.8266 364.4417 L497.8838 364.4637 L497.9409 364.4855 L497.998 364.5074 L498.055 364.5291 L498.112 364.5507 L498.1689 364.5723 L498.2256 364.5938 L498.2824 364.6152 L498.3391 364.6366 L498.3957 364.6579 L498.4522 364.6791 L498.5086 364.7002 L498.565 364.7213 L498.6213 364.7423 L498.6776 364.7632 L498.7338 364.7841 L498.7899 364.8049 L498.846 364.8257 L498.902 364.8463 L498.9579 364.8669 L499.0137 364.8874 L499.0695 364.9079 L499.1253 364.9283 L499.1809 364.9486 L499.2365 364.9688 L499.2921 364.989 L499.3475 365.0091 L499.4029 365.0292 L499.4582 365.0492 L499.5135 365.0691 L499.5687 365.0889 L499.6238 365.1087 L499.6789 365.1284 L499.7339 365.1481 L499.7889 365.1677 L499.8438 365.1872 L499.8986 365.2067 L499.9533 365.2261 L500.008 365.2455 L500.0626 365.2647 L500.1172 365.2839 L500.1717 365.3031 L500.2261 365.3222 L500.2805 365.3412 L500.3348 365.3602 L500.3891 365.3791 L500.4433 365.3979 L500.4974 365.4167 L500.5515 365.4355 L500.6054 365.4541 L500.6594 365.4727 L500.7133 365.4913 L500.7671 365.5098 L500.8208 365.5282 L500.8745 365.5465 L500.9282 365.5648 L500.9817 365.5831 L501.0352 365.6013 L501.0887 365.6194 L501.1421 365.6375 L501.1954 365.6555 L501.2487 365.6735 L501.3019 365.6914 L501.355 365.7092 L501.4081 365.727 L501.4611 365.7448 L501.5141 365.7625 L501.567 365.7801 L501.6199 365.7976 L501.6727 365.8151 L501.7254 365.8326 L501.7781 365.85 L501.8307 365.8673 L501.8832 365.8846 L501.9357 365.9019 L501.9882 365.9191 L502.0406 365.9362 L502.0929 365.9533 L502.1451 365.9703 L502.1974 365.9872 L502.2495 366.0042 L502.3016 366.021 L502.3536 366.0378 L502.4056 366.0546 L502.4575 366.0713 L502.5094 366.088 L502.5612 366.1046 L502.6129 366.1211 L502.6646 366.1376 L502.7162 366.1541 L502.7678 366.1705 L502.8193 366.1868 L502.8708 366.2031 L502.9222 366.2194 L502.9735 366.2356 L503.0248 366.2517 L503.0761 366.2678 L503.1273 366.2839 L503.1784 366.2999 L503.2295 366.3158 L503.2805 366.3317 L503.3315 366.3476 L503.3824 366.3634 L503.4332 366.3791 L503.484 366.3948 L503.5348 366.4105 L503.5855 366.4261 L503.6361 366.4417 L503.6867 366.4572 L503.7372 366.4727 L503.7877 366.4881 L503.8381 366.5035 L503.8885 366.5188 L503.9388 366.5341 L503.989 366.5493 L504.0392 366.5645 L504.0894 366.5797 L504.1395 366.5948 L504.1895 366.6098 L504.2395 366.6248 L504.2895 366.6398 L504.3393 366.6547 L504.3892 366.6696 L504.4389 366.6844 L504.4887 366.6992 L504.5384 366.714 L504.588 366.7286 L504.6375 366.7433 L504.687 366.7579 L504.7365 366.7725 L504.7859 366.787 L504.8353 366.8015 L504.8846 366.8159 L504.9339 366.8303 L504.9831 366.8447 L505.0322 366.859 L505.0813 366.8733 L505.1304 366.8875 L505.1794 366.9017 L505.2284 366.9158 L505.2773 366.9299 L505.3261 366.944 L505.3749 366.958 L505.4236 366.972 L505.4724 366.9859 L505.521 366.9998 L505.5696 367.0136 L505.6181 367.0275 L505.6666 367.0412 L505.7151 367.055 L505.7635 367.0687 L505.8118 367.0823 L505.8601 367.0959 L505.9084 367.1095 L505.9566 367.123 L506.0047 367.1365 L506.0528 367.15 L506.1009 367.1634 L506.1489 367.1768 L506.1968 367.1901 L506.2448 367.2034 L506.2926 367.2167 L506.3404 367.2299 L506.3882 367.2431 L506.4359 367.2562 L506.4836 367.2693 L506.5312 367.2824 L506.5788 367.2954 L506.6263 367.3084 L506.6737 367.3214 L506.7212 367.3343 L506.7685 367.3472 L506.8159 367.36 L506.8632 367.3729 L506.9104 367.3856 L506.9576 367.3984\" style=\"fill:none; fill-rule:evenodd;\"\n",
       "    /></g\n",
       "  ></g\n",
       "></svg\n",
       ">\n"
      ]
     },
     "metadata": {
      "filenames": {
       "image/svg+xml": "/Users/eechris/Documents/code/src/github.com/cpjobling/eg-247-textbook/_build/jupyter_execute/laplace_transform/4/transfer_functions_50_0.svg"
      }
     },
     "output_type": "display_data"
    }
   ],
   "source": [
    "semilogx(w, abs(Gs))\n",
    "xlabel('Radian frequency w (rad/s')\n",
    "ylabel('|Vout/Vin|')\n",
    "title('Magnitude Vout/Vin vs. Radian Frequency')\n",
    "grid"
   ]
  },
  {
   "cell_type": "markdown",
   "id": "fe01950e",
   "metadata": {
    "slideshow": {
     "slide_type": "slide"
    }
   },
   "source": [
    "## Using Transfer Functions in MATLAB for System Analysis\n",
    "\n",
    "Please use the file [tf_matlab.m](https://cpjobling.github.io/eg-247-textbook/laplace_transform/matlab/tf_matlab.m) to explore the Transfer Function features provide by MATLAB. Open the file as a Live Script to see a nicely formatted document."
   ]
  },
  {
   "cell_type": "markdown",
   "id": "984a854a",
   "metadata": {
    "slideshow": {
     "slide_type": "slide"
    }
   },
   "source": [
    "## Using Transfer Functions in Simulink for System Simulation"
   ]
  },
  {
   "cell_type": "markdown",
   "id": "2ac7dfd4",
   "metadata": {
    "slideshow": {
     "slide_type": "fragment"
    }
   },
   "source": [
    "![Using Transfer Functions in Simulink for System Simulation](pictures/sim_tf.png)"
   ]
  },
  {
   "cell_type": "markdown",
   "id": "ee6e51cf",
   "metadata": {
    "slideshow": {
     "slide_type": "fragment"
    }
   },
   "source": [
    "The Simulink transfer function (**`Transfer Fcn`**) block implements a transfer function"
   ]
  },
  {
   "cell_type": "markdown",
   "id": "8a626398",
   "metadata": {
    "slideshow": {
     "slide_type": "subslide"
    }
   },
   "source": [
    "The transfer function block represents a general input output function\n",
    "\n",
    "$$G(s) = \\frac{N(s)}{D(s)}$$\n",
    "\n",
    "and is not specific nor restricted to circuit analysis."
   ]
  },
  {
   "cell_type": "markdown",
   "id": "f9568d27",
   "metadata": {
    "slideshow": {
     "slide_type": "fragment"
    }
   },
   "source": [
    "It can, however be used in modelling and simulation studies."
   ]
  },
  {
   "cell_type": "markdown",
   "id": "f7ccef0b",
   "metadata": {
    "slideshow": {
     "slide_type": "slide"
    }
   },
   "source": [
    "### Example\n",
    "\n",
    "Recast Example 7 as a MATLAB problem using the LTI Transfer Function block. \n",
    "\n",
    "For simplicity use parameters $R_1 = R_2 = R_3 = 1\\; \\Omega$, and $C_1 = C_2 = 1$ F.\n",
    "\n",
    "Calculate the step response using the LTI functions."
   ]
  },
  {
   "cell_type": "markdown",
   "id": "cd33f9b4",
   "metadata": {
    "slideshow": {
     "slide_type": "subslide"
    }
   },
   "source": [
    "Verify the result with Simulink.\n",
    "\n",
    "The Matlab solution: [example8.m](https://cpjobling.github.io/eg-247-textbook/laplace_transform/matlab/example8.m)"
   ]
  },
  {
   "cell_type": "markdown",
   "id": "9e014711",
   "metadata": {
    "slideshow": {
     "slide_type": "subslide"
    }
   },
   "source": [
    "#### MATLAB Solution\n",
    "From a previous analysis the transfer function is:\n",
    "\n",
    "$$G(s) = \\frac{V_\\mathrm{out}}{V_\\mathrm{in}} = \\frac{-1}{R_1\\left[(1/R_1 + 1/R_2 + 1/R_3 + sC_1)(sR_3C_2) + 1/R_2\\right]}$$"
   ]
  },
  {
   "cell_type": "markdown",
   "id": "b6c54fa3",
   "metadata": {
    "slideshow": {
     "slide_type": "subslide"
    }
   },
   "source": [
    "so substituting the component values we get:\n",
    "\n",
    "$$G(s) = \\frac{V_{\\mathrm{out}}}{V_{\\mathrm{in}}} = \\frac{-1}{s^2 + 3s + 1}$$"
   ]
  },
  {
   "cell_type": "markdown",
   "id": "6e9e137d",
   "metadata": {
    "slideshow": {
     "slide_type": "subslide"
    }
   },
   "source": [
    "We can find the step response by letting $v_{\\mathrm{in}}(t) = u_0(t)$ so that\n",
    "$V_{\\mathrm{in}}(s)=1/s$ then \n",
    "\n",
    "$$V_{\\mathrm{out}}(s) = \\frac{-1}{s^2 + 3s + 1}.\\frac{1}{s}$$"
   ]
  },
  {
   "cell_type": "markdown",
   "id": "19060f8e",
   "metadata": {
    "slideshow": {
     "slide_type": "subslide"
    }
   },
   "source": [
    "We can solve this by partial fraction expansion and inverse Laplace transform\n",
    "as is done in the text book with the help of MATLAB's `residue` function.\n",
    "\n",
    "Here, however we'll use the LTI block."
   ]
  },
  {
   "cell_type": "markdown",
   "id": "d09aebef",
   "metadata": {
    "slideshow": {
     "slide_type": "subslide"
    }
   },
   "source": [
    "Define the circuit as a transfer function"
   ]
  },
  {
   "cell_type": "code",
   "execution_count": 10,
   "id": "4aa66f00",
   "metadata": {
    "slideshow": {
     "slide_type": "fragment"
    }
   },
   "outputs": [
    {
     "name": "stdout",
     "output_type": "stream",
     "text": [
      "\n",
      "G =\n"
     ]
    },
    {
     "name": "stdout",
     "output_type": "stream",
     "text": [
      " \n"
     ]
    },
    {
     "name": "stdout",
     "output_type": "stream",
     "text": [
      "       -1\n"
     ]
    },
    {
     "name": "stdout",
     "output_type": "stream",
     "text": [
      "  -------------\n"
     ]
    },
    {
     "name": "stdout",
     "output_type": "stream",
     "text": [
      "  s^2 + 3 s + 1\n"
     ]
    },
    {
     "name": "stdout",
     "output_type": "stream",
     "text": [
      " \n"
     ]
    },
    {
     "name": "stdout",
     "output_type": "stream",
     "text": [
      "Continuous-time transfer function.\n",
      "\n"
     ]
    }
   ],
   "source": [
    "G = tf([-1],[1 3 1])"
   ]
  },
  {
   "cell_type": "markdown",
   "id": "0ce4c06d",
   "metadata": {
    "slideshow": {
     "slide_type": "subslide"
    }
   },
   "source": [
    "step response is then:"
   ]
  },
  {
   "cell_type": "code",
   "execution_count": 11,
   "id": "5082bba7",
   "metadata": {
    "slideshow": {
     "slide_type": "fragment"
    }
   },
   "outputs": [
    {
     "data": {
      "image/svg+xml": [
       "<?xml version=\"1.0\"?>\n",
       "<!DOCTYPE svg PUBLIC '-//W3C//DTD SVG 1.0//EN'\n",
       "          'http://www.w3.org/TR/2001/REC-SVG-20010904/DTD/svg10.dtd'>\n",
       "<svg xmlns:xlink=\"http://www.w3.org/1999/xlink\" style=\"fill-opacity:1; color-rendering:auto; color-interpolation:auto; text-rendering:auto; stroke:black; stroke-linecap:square; stroke-miterlimit:10; shape-rendering:auto; stroke-opacity:1; fill:black; stroke-dasharray:none; font-weight:normal; stroke-width:1; font-family:'Dialog'; font-style:normal; stroke-linejoin:miter; font-size:12px; stroke-dashoffset:0; image-rendering:auto;\" width=\"560\" height=\"420\" xmlns=\"http://www.w3.org/2000/svg\"\n",
       "><!--Generated by the Batik Graphics2D SVG Generator--><defs id=\"genericDefs\"\n",
       "  /><g\n",
       "  ><defs id=\"defs1\"\n",
       "    ><clipPath clipPathUnits=\"userSpaceOnUse\" id=\"clipPath1\"\n",
       "      ><path d=\"M0 0 L560 0 L560 420 L0 420 L0 0 Z\"\n",
       "      /></clipPath\n",
       "      ><clipPath clipPathUnits=\"userSpaceOnUse\" id=\"clipPath2\"\n",
       "      ><path d=\"M0 0 L1119.9999 0 L1119.9999 839.9999 L0 839.9999 L0 0 Z\"\n",
       "      /></clipPath\n",
       "    ></defs\n",
       "    ><g style=\"fill:white; stroke:white;\"\n",
       "    ><rect x=\"0\" y=\"0\" width=\"560\" style=\"clip-path:url(#clipPath1); stroke:none;\" height=\"420\"\n",
       "    /></g\n",
       "    ><g transform=\"scale(0.5,0.5)\"\n",
       "    ><image x=\"0\" y=\"0\" width=\"1120\" xlink:href=\"data:image/png;base64,iVBORw0KGgoAAAANSUhEUgAABGAAAANICAIAAAAHNA4rAABY2UlEQVR42uzdD3jW\n",
       "db34f8jMf2Un6zJTS07nnI5Zp9L+HM916nvRqc7plKXVqS77Y/Sr4z0GTEW3gqIt\n",
       "/hymYB4UDrBJpBioR5A0BQTC4aYMgzB1Y2MyXLpmbMPtMKYbm7833B8+GzdjDGT/\n",
       "2ONxeXVt7/szvLl3v7w+z+77876HvQYAAMB+wzwEAAAAAgkAAEAgAQAACCQAAACB\n",
       "BAAAIJAAAAAEEgAAgEACAAAQSAAAAAIJAABAIAEAAAgkAAAAgQQAACCQAAAABBIA\n",
       "AIBAAgAAEEgAAAACCQAAQCABAAAIJAAAAIEEAAAgkAAAAAQSAACAQAIAABBIAAAA\n",
       "AgkAAEAgAQAACCQAAACBBAAAIJAAAAAEEgAAgEACAAAQSAAAAAIJAABAIAEAAAgk\n",
       "AAAAgQQAAIBAAgAAEEgAAAACCQAAQCABAAAIJAAAAIEEAAAgkAAAAAQSAACAQAIA\n",
       "ABBIAAAAAgkAAEAgAQAACCQAAACBBAAAIJAAAAAEEgAAgEACAAAQSAAAAAIJAABA\n",
       "IAEAAAgkAAAAgQQAACCQAAAABBIAAIBAAgAAEEgAAAACCQAAQCABAAAIJAAAAIEE\n",
       "wAnj1VdfLSkp+e1vf/vwww8/88wzTU1NHhMABBIAQ05DQ0NOTs7b3/72YZ2cfvrp\n",
       "6enp27dvjw9rb29vOqAv797o0aNPO4zzzjvv85///P333++XCIBAAuA4CLXzT//0\n",
       "T8MO45xzzqmsrEwe+eKLL8br69at67N7+IMf/GDYkYwfP96vEgCBBMDrlZGREWfG\n",
       "u971riuvvPKKK65461vfGi9ecsklhwbSqlWr+iuQ3rTfG9/4xpRGevTRR/02ARBI\n",
       "ALwuf//3f58MjA984AO7d+9OLjY2Nn70ox+N22Pnzp0DJJCqq6uTi3v37i0qKvq3\n",
       "f/u3+Kbrr7/ebxMAgQTAsWtqaooD41vf+lbnm+68886TD1i3bl0ikbj88svjg0eO\n",
       "HHnVVVfdc8898fFbtmxJT0+/9NJL3/nOd372s5+dNGnSjh074lvHjh171X7PPvvs\n",
       "nDlzPve5z51zzjn//M//HKqm82E9D6SkwsLC+KYrrrii803d35+goKBg1KhRH/zg\n",
       "B88+++x3v/vd4cipU6e+9NJLx3afw8q111776U9/OhzzD//wD9/+9rfvvvvulGPi\n",
       "P7CkpGTZsmXhDp977rnvec97vvrVrz799NNHdd96+HcEQCABcHTOP//8ZGAMHz48\n",
       "LS3t8ccfb2trO/SwcOuhV/5cc801yVtzc3Pf9KY3pdwaTu6feOKJ5AHxe/Yuvvji\n",
       "Qw8L/9JjC6SNGzfGN2VnZ8frR7w/CxYseMMb3nDo32jEiBHxNVc9v8/hT3vzm998\n",
       "6J/2xS9+sa6uLj4s/gMvu+yylMfztNNO27RpU8/vW0/+jgAIJACOWoiilJPss846\n",
       "6ytf+crs2bOfe+65+LB///d///SnPx0f87GPfezzn//8vHnzwk333XdfvP6e97zn\n",
       "kksuib8944wz/vKXv3RugyCc/X/kIx/5u7/7u3jlvPPOe/XVV482kJ5//vlvfvOb\n",
       "8U1r165Nrh/x/rS3t7/tbW9Lrlx66aUzZsy4+uqrw03Jle9973spPdP9ff79739/\n",
       "0kknJRdPPfXU8AeGm+LD4j8t5Q8M3vKWt3T+9sorr3xt/1aBPblvPXnMARBIABy1\n",
       "PXv2fPKTn+xya7hQBf/xH/8Rv7Ory2uQmpubzz333OTimDFjkq8+VVRUxGf5kyZN\n",
       "6twGb3rTm1avXp382Ztvvjn+A+fPn9+TQBoxYsTf7nfBBRd0vqtf/vKX9+7d28P7\n",
       "8+yzz8Y/GL9LcPr06W/Z7/3vf39Kz3R/n0PGxKESv8JzzTXXxIcd+jLa6aeffvfd\n",
       "d7e0tDz11FPxX+S9731vOKYn962HjzkAAgmAYxHOsBcuXPiJT3yiy/fRffCDH+xm\n",
       "k4bi4uL4HXobN24sOeCKK66Is6FzG6Rc6XTRRRcl17/+9a/3JJC69OEPf7ihoaHn\n",
       "96e6ujr+2VNOOeV73/venXfeGQIj5d/bk/sc8jJ+O9zcuXPjY0LDxLkS8iblD/zu\n",
       "d78bH/n9738/rqbwbU/uWw8fcwAEEgCvS0igcDr+ne9856yzzupcILm5uYcLpNtv\n",
       "v737ejn55JM7t8H//M//dP43jhkzJrn+0Y9+tCeBdO655/7Nfin3cOTIkUd1f0Lz\n",
       "dHmRz5QpU+KPwe3Jfd60aVP8488880znwz73uc8l18PjmfIHTp48OT7s1ltvTS6e\n",
       "dNJJyZUj3rce/h0BEEgAHJ3QOdP3mzFjRktLS7wevp46dWp8wh3O9Q8XSDNnzjzi\n",
       "p7jW19fHbfDLX/6y8x3IzMxMrofm6UkgxdcgtbW1FRUVxS/mBOHbnt+f1tbWcE8+\n",
       "+clPHvp5Sp/5zGfa29s790w39/mxxx6Lf7CsrKzzYV/+8pfjt/+lBNItt9wSH5af\n",
       "n58SSEe8bz38O3p6AwgkAI5O51Pt4uLilFv/+q//Ov6IpMMF0kMPPRS/3evPf/5z\n",
       "XVfCOX3cBhMmTOj8r/jqV78an/ofVSAldX4t5Re/+EXP70/8JzQ0NPzmN78ZO3bs\n",
       "X/3VX8V/1LPPPtu5Z7q5zzU1NfFPrVixovNh73//+5PrP/rRj44qkI5434727wiA\n",
       "QAKgR9avXx+fef/jP/5j5z2pn3zyyZNPPrnzNTOdA2nhwoXJw6qqquIrl5YsWRL/\n",
       "+L333vtP+1111VWd2+D888/ftWtX8pjKyspTTjkluR4y4BgCqb6+Pr4pMzOzh/dn\n",
       "/vz5b97vYx/7WHxA59eC1q1b1/P7fPbZZye//dKXvhRnyZo1a+I/7de//nXPA6kn\n",
       "962HjzkAAgmAo9Pc3Nz5XWpnnHHG5Zdf/p//+Z+f/exn4zoKHnjggXBwyKd45Zxz\n",
       "zok/C3XUqFHxbm+XXXbZrbfeGpLm1FNP7XwBT+cdrj/wgQ/MmDFj+vTp7373u+Pt\n",
       "8kpLS48hkILTTz89eVO428mVI96fzjvFXXfddaF5tm/f/r3vfS+58sY3vnH37t09\n",
       "v8+33XZb5w8+mjdv3k9+8pP4Y5EuvPDCeAfzngRSD+9bTx5zAAQSAEctnILHr4F0\n",
       "afz48fHB8ZvuOn9Q7M6dO1PWO++d8Morr3Rugy4/AvXaa6/t5h52H0gf/OAHU96k\n",
       "15P78/Wvf/1wf99x48al9Ez397mtrS30ZJd/VMikwsLC+K728C12PblvPfk7AiCQ\n",
       "ADgWoTqysrLOPPPMlFPtj3zkI8uWLet8NUtxcfHFF1+cEkjB//3f/40ePTr+PNPk\n",
       "p6CGWw/dEW7atGnf+MY34k9WPeuss2bMmNH93ev8UbaHfgTqVVddFW+KHb8R7oj3\n",
       "p7W19ac//ek555zT+e8bvs3Ozo7/vj2/z6GRQvO84x3v6LyP3GWXXbZjx47Oh3UZ\n",
       "SAsXLjx0k4Yj3ree/B0BEEgAHLtXXnmlrKxs1apVS5cu/f3vf9/NNmh79uwJTVVT\n",
       "UxNO5VM6Ydu2batXr3766afDMd20QTi5X79+ffjX9epeAt3cnzhFysvLH90v3Jnk\n",
       "R82+nvscHpbf/e534V/XeUvAY9P9fev53xEAgQTAgNPliyfuMwACCQCB5D4DIJAA\n",
       "GMLe/va3v3G/WbNmuc8ACCQAAACBBAAAIJAAAAAEEgAAgEACAAAQSAAAAAIJAABA\n",
       "IAEAAAgkBr6mpqaysrLCwsKSkpLGxkYPCAAACKQhqqioKCMj4+oD0tPTV6xY4WEB\n",
       "AACBNOSUl5cnEonQRXl5eQUFBYsWLUp+W1xc7MEBAACBNLTMmjUr5NDixYvjlZUr\n",
       "V4aV7OxsDw4AAAikIaS1tTU9PT3kUF1dXbzY0tIyZsyYsFhbW+shAgAAgTRU1NTU\n",
       "hBDKzMxMWc/NzQ3rJSUlHiIAABBIQ0V5eXkIoWnTpqWsz507N6xv2LDBQwQAAAJp\n",
       "qNi6dWsIodzc3JT1BQsWhPXCwsJufvZ9425/y7UPXA0AwInFSbJAGrpKS0u7DKS8\n",
       "vLwjBlI4YOHG6hFTizyMQ4r/aPrV41ePXz1+9QikE9a2bdvCDEyePDllffbs2Ufc\n",
       "6Ts5PDkrt49a4lIl/9HErx6/evzq8atHIA1+O3fuDDMwduzY9vb2zuuTJk0K62Vl\n",
       "ZT0ZnpFzNq+r2OXB9B9N/Orxq8evHr96gcTg1tbWlpGREcZgx44d8WJDQ0NaWloi\n",
       "kQhf9GR4Qh2FRvJg+o8mfvX41eNXj1+9QGLQmz9/fhiDmTNnxi8iJXdomD59es+H\n",
       "x4tI/qOJXz1+9fjV41ePQDoR1NTUJD8WNjMzMz8/f+LEieHrRCLR/fvrUobHi0j+\n",
       "o4lfPX71+NXjV49AOkFUVFTk5OTEGztOmDBhy5YtRzU8lXXNAsl/NPGrx68ev3r8\n",
       "6gUShieSs3J7+MfDAgAgkAQShmffi0g+EwkAQCAJJAxPxFYNAAACSSBheCILN1b7\n",
       "0FgAAIEkkDA8Ee+yAwAQSAIJwxPxLjsAAIEkkDA8EXvZAQAIJIGE4engXXYAAAJJ\n",
       "IGF4It5lBwAgkAQShifiXXYAAAJJIGF4Iusqdo2cs9njAwAgkAQShmcflyEBAAgk\n",
       "gYThibgMCQBAIAkkDE/EZUgAAAJJIGF4IpV1zd5lBwAgkAQShufAk2P8Wg8RAIBA\n",
       "EkgYnn1chgQAIJAEEoYnsnBj9aglJR4lAACBJJAwPC5DAgAQSAIJw9OJQAIAEEgC\n",
       "CcMTGTlns0cJAEAgCSQMzz4+DQkAQCAJJAxPxGVIAAACSSBheDo9RXwaEgCAQBJI\n",
       "GJ4kn4YEACCQBBKGJ+IyJAAAgSSQMDwd7GUHACCQBBKGJ2KfBgAAgSSQMDwRlyEB\n",
       "AAgkgYThibgMCQBAIAkkDE9kXcUulyEBAAgkgYThibgMCQBAIAkkDE/EZUgAAAJJ\n",
       "IGF4BBIAgEASSBieg9mnAQBAIAkkDE/EPg0AAAJJIGF4OtinAQBAIAkkDE/EZUgA\n",
       "AAJJIGF4Ii5DAgAQSAIJwxNxGRIAgEASSBieSGVds8uQAAAEkkDC8ERCIIVM8rgB\n",
       "AAgkgYThsU8DAIBAEkgYngPs0wAAIJAEEoYnYp8GAACBJJAwPBH7NAAACCSBhOHp\n",
       "4BUkAACBJJAwPB2BZJ8GAACBJJAwPPvYpwEAQCAJJAxPxD4NAAACSSDRD5qamsrK\n",
       "ygoLC0tKShobG3v4UzU1NY8++uju3bt7aXjs0wAAIJAEEn2tqKgoIyPj6gPS09NX\n",
       "rFjRkx/My8sLx2/btq33hsdlSAAAAkkg0XfKy8sTiUR4ZofaKSgoWLRoUfLb4uLi\n",
       "bn6qubn5gQceSAaVQAIAEEgIpBPErFmzwtN68eLF8crKlSvDSnZ2dpfHP/300z//\n",
       "+c/HjBkTv+LUq4H02v6tGvyaAAAEkkCi17W2tqanp4endV1dXbzY0tKS7J/a2tou\n",
       "A+lnB4wePboPAsk+DQAAAkkg0RdqamrCczozMzNlPTc3N6yXlJR0/+OzZ8/ug0Cy\n",
       "TwMAgEASSPSF8vLy8JyeNm1ayvrcuXPD+oYNG45vIHXpiD/oMiQAgIEQQsd8OodA\n",
       "GjS2bt0antO5ubkp6wsWLAjrhYWFxzeQju1OCiQAgIEcTh4EgTT47Nmz566DLVu2\n",
       "LKyXlpZ2GUjJ/bsHSCDlrNxunwYAAIEkkDhu6uvrU14JzcrKCuuhbcLXkydP7rJ8\n",
       "ut/pu88C6TX7NAAACCSBxHHU2tpafrCqqqqwvnPnzvCcHjt2bHt7e+fjJ02aFNbL\n",
       "ysoGSCDZpwEAQCAJJHpdW1tbRkZGeFrv2LEjXmxoaEhLS0skEuGLARJILkMCABBI\n",
       "Aom+MH/+/PC0njlzZvwiUnKHhunTpye/raqqemQ/gQQAgEASSCe4mpqa5MfCZmZm\n",
       "5ufnT5w4MXydSCTi99etWrXqcBs49lkg2acBAEAgCST6SEVFRU5OTrx/w4QJE7Zs\n",
       "2RLfmgyktLS0Q38w+XFJfRBI6yp22acBAEAgCSQMT8Q+DQAAAkkgYXgiLkMCABBI\n",
       "AgnDI5AAAASSQMLwHMw+DQAAAkkgYXgi9mkAABBIAgnDE6msa7ZPAwCAQBJIGJ6I\n",
       "y5AAAASSQMLwCCQAAIEkkDA8B7NPAwCAQBJIGJ6IfRoAAASSQMLwROzTAAAgkAQS\n",
       "hqeDQAIAEEgCCcMTsU8DAIBAEkgYnoh9GgAABJJAwvBE7NMAACCQBBKGJ2KfBgAA\n",
       "gSSQMDydnkbj13owAQAEkkDC8OzjLXYAAAJJIGF4IvZpAAAQSAIJwxOxTwMAgEAS\n",
       "SBieiH0aAAAEkkDC8HR6JtmnAQBAIAkkDE/SyDmb11Xs8pACAAgkgYThsU8DAIBA\n",
       "EkgYnk7s0wAAIJAEEoZHIAEACCSBhOE5mI3sAAAEkkDC8ETs0wAAIJAEEoZHIAEA\n",
       "CCSBhOE5mI3sAAAEkkDC8ETWVeyyTwMAgEASSBieiH0aAAAEkkDC8ERchgQAIJAE\n",
       "EoZHIAEACCSBhOE5mH0aAAAEkkDC8ETs0wAAIJAEEoYnUlnXbJ8GAACBJJAwPJEQ\n",
       "SCGTPLYAAAJJIGF47NMAACCQBBKG5wD7NAAACCSBhOGJ2KcBAEAgCSQMT8Q+DQAA\n",
       "AkkgYXg6PavGr/XYAgAIJIGE4dnHPg0AAAJJIGF4IvZpAAAQSAIJwxOxTwMAgEAS\n",
       "SBgegQQAIJAEEobnYDayAwAQSAIJw9PBK0gAAAJJIHE8NTU1lZWVFRYWlpSUNDY2\n",
       "9uT4rVu3huNLS0vD1/0eSDayAwAQSAKJ46OoqCgjI+PqA9LT01esWHG4g9vb21ev\n",
       "Xh2OiY8PP7tmzZp+HB4b2QEACCSBxPFRXl6eSCTCMzsvL6+goGDRokXJb4uLi7s8\n",
       "PhwTbh09evQ999yzfv3622+/PXn8k08+2V/DY58GAACBJJA4PmbNmhWe1osXL45X\n",
       "Vq5cGVays7MPPbitre2GG25IyacHHnggrNx00039NTz2aQAAEEgCieOgtbU1+Wa5\n",
       "urq6eLGlpWXMmDFhsba2NuX4l156Kaz/+Mc/bm9vjxfDYWFx3Lhx/Tg8LkMCABBI\n",
       "AonXq6amJjynMzMzU9Zzc3PDeklJScp6VVXVz372s1/96lcpi+HgrKwsgQQAIJAQ\n",
       "SINYeXl5eE5PmzYtZX3u3LlhfcOGDT35QxYuXBgODj/Sj8NjnwYAAIEkkHi9tm7d\n",
       "Gp7Tubm5KesLFiwI64WFhd3/eHt7+3333Zfc+K66uvqIw9Ol4/V3sU8DAECvhlBv\n",
       "n84JJPrOnj177jrYsmXLwnppaWmXgZSXl3fEQApFlHwn3tixY5955pl+/38X7NMA\n",
       "ANAv4eRBEEiDT319fUroJy8Z2rZtW/h68uTJKcfPnj27m52+29raHn744eTuDqGR\n",
       "ampqBsLwhECqrGv2uwYAEEgCiSNobW0tP1hVVVVY37lzZ/IloM670gWTJk0K62Vl\n",
       "ZV3+UfPmzQu3XnPNNevXr0/5wX4cHvs0AAAIJIHE69LW1paRkRGe1jt27IgXGxoa\n",
       "0tLSEolE+OLQH0ledJSTk1NfXz+ghsc+DQAAAkkg8XrNnz8/PK1nzpwZvxaU3KFh\n",
       "+vTpyW+rqqoe2e+1/W/VS09PHzduXJft1L/Ds65il30aAAAEkkDidampqUl+LGxm\n",
       "ZmZ+fv7EiRPD14lEIn5/3apVq+L9SZ544onkZ8Lecog77rij34fHPg0AAAJJIPF6\n",
       "VVRU5OTkxPs3TJgwYcuWLfGtyUBKS0sLX99zzz2H297xpz/9ab8Pz7Dxa/02AQAE\n",
       "kkDC8OxjnwYAAIEkkDA8Efs0AAAIJIGE4YnYpwEAQCAJJAxPpLKu2T4NAAACSSBh\n",
       "eCICCQBAIAkkDE/EPg0AAAJJIGF4IqOWlCzcWO3RBgAQSAIJw2MjOwAAgSSQMDwH\n",
       "2MgOAEAgCSQMT8RGdgAAAkkgYXg62KcBAEAgCSQMj0ACABBIAgnDczD7NAAACCSB\n",
       "hOGJ2KcBAEAgCSQMT8Q+DQAAAkkgYXg6eAUJAEAgCSQMT0cg2acBAEAgCSQMzz72\n",
       "aQAAEEgCCcMTsU8DAIBAEkgYnoh9GgAABJJAwvB0CIEUMsnDDgAgkAQShsc+DQAA\n",
       "AkkgYXgOsE8DAIBAEkgYng72aQAAEEgCCcMTsU8DAIBAEkgYno5Ask8DAIBAEkgY\n",
       "nn3s0wAAIJAEEoYnYp8GAACBJJAwPB3s0wAAIJAEEoYnYp8GAACBJJAwPAeec+PX\n",
       "euQBAASSQMLw7GOfBgAAgSSQMDwR+zQAAAgkgYThiayr2GWfBgAAgSSQMDwR+zQA\n",
       "AAgkgYThOfC0s08DAIBAEkgYniT7NAAACCSBhOGJ2KcBAEAgCSQMT8Q+DQAAAkkg\n",
       "YXgilXXN9mkAABBIAgnDc+CZZ58GAACBJJAwPEn2aQAAEEgCCcMTsU8DAIBAEkgY\n",
       "noh9GgAABJJAwvBE7NMAACCQBBKGp9OTzz4NAAACSSBheJLs0wAAIJAEEoYnYp8G\n",
       "AACBJJAwPBH7NAAACCSBhOGJ2KcBAEAgCSR6qqmpqaysrLCwsKSkpLGx8YjHv/zy\n",
       "y08//XQ4vrS0tLm5eVAMj30aAAAEkkDiyIqKijIyMq4+ID09fcWKFYc7uK2tbfny\n",
       "5WlpafHx1113XSilgT883mIHACCQBBJHUF5enkgkwjM7Ly+voKBg0aJFyW+Li4u7\n",
       "PH7dunXh1nHjxt1///2rV6+++eabw7ehl5577rkBPjz2aQAAEEgCiSOYNWtWeFov\n",
       "Xrw4Xlm5cmVYyc7O7vL4zMzMcGtpaWm8kpubG1buu+++AT489mkAABBIAonutLa2\n",
       "pqenh6d1XV1dvNjS0jJmzJiwWFtbm3L8yy+/HNYnTZrUeXHNmjVhce7cuQN8eOzT\n",
       "AAAgkAQS3ampqQnP6czMzJT15ItCJSUlKeuNjY3r169/6qmnOi+GNAoH/+53vxv4\n",
       "wxMCKWSS3zsAgEASSHShvLw8PKenTZuWsp5sng0bNnTzsxUVFYWFhcl36E2ZMmX3\n",
       "7t1HHJ4u9eXfd+Sczesqdvm9AwAcQwgNhNM5gUTv2rp1a3hO5+bmpqwvWLAgrHe/\n",
       "N92MGTPiqdi8eXNPhqrf/772aQAAOO7h5EEQSIPPnj177jrYsmXLwnppaWmXgZSX\n",
       "l3fEQHruuec2bdq0fPny5Bbh995776AYHvs0AAAIJIE01NXX16e8EpqVlRXWt23b\n",
       "Fr6ePHlyyvGzZ8/uZqfvQ0spkUiMGzeutbV14A+PfRoAAASSQBrqQrqUH6yqqiqs\n",
       "79y5Mzynx44d297e3vn4SZMmhfWysrKUP2fLli133HHHoW+oy8nJ6fL4gRlI9mkA\n",
       "ABBIAokutLW1Jd8gt2PHjnixoaEhLS0tkUiEL1KOLyoqSm7JkLI+YcKEsJ6MrgE+\n",
       "PPZpAAAQSAKJw5o/f354Ws+cOTN+ESm5Q8P06dOT34bseWS/8PULL7yQfIfetm3b\n",
       "4j9h9erVYWXcuHF79+4d+MNjnwYAAIEkkDismpqa5MfCZmZm5ufnT5w4MXydSCTi\n",
       "98utWrWq8waOixYtCl+np6fn5eXdc889yU9MCh5//PFBMTzrKnbZpwEAQCAJJA6r\n",
       "oqIieRFR0oQJE7Zs2RLfmgyktLS05Letra0PP/xw8o15SdnZ2Zs2bRpEw2OfBgAA\n",
       "gSSQMDwRlyEBAAgkgYThEUgAAAJJIGF4DmafBgAAgSSQMDwR+zQAAAgkgYTh6WCf\n",
       "BgAAgSSQMDwRlyEBAAgkgYThibgMCQBAIAkkDE/EZUgAAAJJIGF4IpV1zS5DAgAQ\n",
       "SAIJw3Pg6Th+rV8KAIBAEkgYnn3s0wAAIJAEEoYnYp8GAACBJJAwPBH7NAAACCSB\n",
       "hOGJ2KcBAEAgCSQMTweBBAAgkAQShifiLXYAAAJJIGF4IvZpAAAQSAIJwxOxTwMA\n",
       "gEASSBieiH0aAAAEkkDC8HTwcbEAAAJJIGF4IqOWlCzcWO23AwAgkAQShidqJL8d\n",
       "AACBJJAwPPu4DAkAQCAJJAzPgefl+LV+OwAAAkkgYXj2sU8DAIBAEkgYnoiPiwUA\n",
       "EEgCCcMT8XGxAAACSSBheDrYpwEAQCAJJAxPxGVIAAACSSBheAQSAIBAEkgYnoPZ\n",
       "pwEAQCAJJAxPxD4NAAACSSBheDrYpwEAQCAJJAxPxGVIAAACSSBheCIuQwIAEEgC\n",
       "CcMTcRkSAIBAEkgYnkhlXbPLkAAABJJAwvBEQiCFTPKbAgAQSAIJw2OfBgAAgSSQ\n",
       "MDwH2KcBAEAgCSQMT8Q+DQAAAkkgYXgi9mkAABBIAgnD08ErSAAAAkkgYXgiLkMC\n",
       "ABBIAgnDE3EZEgCAQBJIGJ6Iy5AAAASSQMLwdPBpSAAAAkkgYXgEEgCAQBJIGJ5D\n",
       "jFpS4vcFACCQBNLQ1dTUVFZWVlhYWFJS0tjY2PMffPnllx999NEdO3acSMPjMiQA\n",
       "AIEkkIauoqKijIyMqw9IT09fsWJFT36wvb39lltuCT/y4IMPnkjDM2z8Ws8KAACB\n",
       "JJCGovLy8kQiEZ7ZeXl5BQUFixYtSn5bXFx8xJ9ds2ZNsqlOsEByGRIAgEASSEPU\n",
       "rFmzwtN68eLF8crKlSvDSnZ2dvc/+OKLL44ZM2bcuHEnXiD5uFgAAIEkkIai1tbW\n",
       "9PT08LSuq6uLF1taWkL5hMXa2tpufnDKlCnXX3/9unXrTrxAem3/i0ieHgAAAkkg\n",
       "DS01NTXhOZ2ZmZmynpubG9ZLSg67mdvSpUvDAZs3b37yySdPyECyTwMAgEASSENO\n",
       "eXl5eE5PmzYtZX3u3LlhfcOGDV3+VFlZWSKRWLBgQfj6RA0klyEBAAgkgTTkbN26\n",
       "NTync3NzU9ZD/IT1wsLCQ39kz549P/7xj7Oyspqamo42kLo0MB8ZlyEBAPTkXE4g\n",
       "CaRBKVTNXQdbtmxZWC8tLe0ykPLy8g4XSMl2euaZZ5LfnqivIK2r2OUyJACAE+wc\n",
       "TyARqa+vTwn9rKyssL5t27bw9eTJk1OOnz17dpc7fW/atCms5+fnNx/wxBNPhJX7\n",
       "778/fL13794TaXhchgQAIJAE0omptbW1/GBVVVVhfefOneE5PXbs2Pb29s7HT5o0\n",
       "KayXlZWl/Dn33ntvN6+urlu37kQaHpchAQAIJIE0tLS1tWVkZISn9Y4dO+LFhoaG\n",
       "tLS0RCIRvkg5fuPGjXMPNnny5OSHJoWv4/fdCSQAAIGEQBqU5s+fH57WM2fOjF9E\n",
       "Sl5lNH369OS3VVVVj+zX5Y+fqNcgveYyJAAAgSSQhqCamprkx8JmZmbm5+dPnDgx\n",
       "fJ1IJOL3161ataqb/UlO4ECqrGt2GRIAgEASSENORUVFTk5OfCnRhAkTtmzZEt+a\n",
       "DKS0tLQuf3bz5s3h1oceeuiEHJ4QSCGTPEMAAASSQMLwuAwJAEAgCSQMzwE+LhYA\n",
       "QCAJJAxPxD4NAAACSSBheCL2aQAAEEgCCcPTwWVIAAACSSBheCIuQwIAEEgCCcMT\n",
       "cRkSAIBAEkgYnojLkAAABJJAwvB08AoSAIBAEkgDWktLy4MPPjhz5sysrKzw7aZN\n",
       "mxobGw1PL3EZEgCAQBJIA9f06dPPPvvsYQeElc985jOnnXba5MmTDU9vcBkSAIBA\n",
       "EkgD1Pjx45NddO6558aB9NWvfjX59ZQpUwzPcecyJAAAgSSQBqL169eHCjrppJPy\n",
       "8/PDt+ecc04ykF599dWpU6eGr88888yGhgbDc9z5NCQAAIEkkAacyZMnhwrKzMxM\n",
       "fhsHUtL73ve+8G1hYaHhOe5chgQAIJAE0oDz+c9/PiTQ+vXruwykH/zgB+HbJUuW\n",
       "GJ7e4DIkAACBJJAGlu9+97shgR566KEuAymZT15B6iUuQwIAEEgCaWCZNWtWSKAQ\n",
       "QocG0h/+8IdTTjll+PDhA3a/7xPgFSSXIQEACCSBNIDU1taed955IYq++MUvPv74\n",
       "42eddVb4+k9/+tPtt9/+rne9K3z9rW99y/D0EpchAQAIJIE04Dz66KNvfvObh3Xl\n",
       "wgsvHMgfFzvYh8enIQEACCSBNBC9+OKL3/nOd972trfFaXTBBRfcfPPNr7zyiuHp\n",
       "VS5DAgAQSAJp4Kqurt60aVNtba3h6RsuQwIAEEgCCcMTcRkSAIBAEkj97PLLL//g\n",
       "0XjhhRcMTy9xGRIAgEASSP3soosuGnY0KisrDU/vcRkSAIBAEkj96dFHH32wk3/5\n",
       "l38JFXT66aePHj168eLFK1asyMvL+/SnP52so3nz5u3Zs8fw9B6XIQEACCSBNFA8\n",
       "+eSTw4cPP+uss7Zu3Zpy03//93+HQLrooova29sNT+9xGRIAgEASSAPFmDFjQgXd\n",
       "csstXd760Y9+NNz63HPPGZ7e4zIkAACBJJAGiuT76x577LEub/3hD38Ybl26dKnh\n",
       "6T2Vdc0uQwIAEEgCaUD4+te/HhLorrvu6vLWkSNHhlvXrl1reHqVy5AAAASSQBoQ\n",
       "brrpppBAH//4x3fv3p1y08MPP3zSSScNHz68oaHB8PQqlyEBAAgkgTQglJWVnXHG\n",
       "GaGRPvzhD//qV7+qqKj4y1/+smnTpuuvv/60004L61/5ylcMT29zGRIAgEASSAPF\n",
       "4sWLhw8f3uUnIF144YUD9uWjE2l4XIYEACCQBNIAsnnz5i996UunnHJKnEbnn3/+\n",
       "jTfe2NTUZHj6hleQAAAEkkAaWNra2p5//vmnnnqqsbHR8PQxlyEBAAgkgdT/mpqa\n",
       "dh5JCCfD09tchgQAIJAEUv/Lzs4ediSVlZWGp7e5DAkAQCAJpEEQSGedddaf//xn\n",
       "w9MHfBoSAIBAEkj9rKWlZfchtm/ffuedd15wwQVvf/vbN2/ebHj6hsuQAAAEkkAa\n",
       "uJ577rm3vOUt55xzTnt7u+HpGy5DAgAQSAJp4Pra1742bNiwkpISw9M3XIYEACCQ\n",
       "BNLA9c1vfjME0t133214+obLkAAABJJAGqDq6urOOOOMEEjr1683PH3DZUgAAAJJ\n",
       "IPWn1atX/6grV1555emnnx7qKPxvfX294ekz3mUHAAgkD4JA6jfdb/P9hje84fbb\n",
       "bzc8fRxIlXXNnpkAgEBCIPWDBx98MK0r11577cyZM7dt22Z4+pjLkAAAgeRBEEgY\n",
       "nkioI5t9AwDO8RBI/WPNmjUTJkwoLi7u8ta5c+eGW12D1MdchgQACCQEUv9IXoM0\n",
       "b968Lm/9xCc+EW6trKw0PH3Ju+wAAIGEQOpTjz322Nr9rrrqqpBA11133dpDLF++\n",
       "/K1vfWu4tbq62vD0JZt9AwACCYHUp84+++xhPRMaqbW19Rj+FU1NTWVlZYWFhSUl\n",
       "JY2Njd0fXFtb++IhjvhTJ+rwuAwJABBICKQ+9fGPf/y9+73tbW8LFfSOd7zjvYf4\n",
       "27/920996lP33nvvMfz5RUVFGRkZVx+Qnp6+YsWKbo7Pzs6++hDLly8fmsNTWdfs\n",
       "MiQAQCAhkPpB99cgHZvy8vJEIhGe2Xl5eQUFBYsWLUp+e7itIFpaWtLS0rKysu45\n",
       "2NNPPz1kh8dlSACAQEIg9YP58+dfcsklS5cuPY5/5qxZs8LTevHixfHKypUrw0qI\n",
       "sS6Pf/7558Otv/rVrwxPzGVIAIBAQiCdCFpbW9PT08PTuq6uLl5saWkZM2ZMWKyt\n",
       "rT30Rx5//PFw05o1awxPzGVIAIBAQiD1kZ/97Gff/va3Z8yYEb5eunTpt4/kL3/5\n",
       "S8//8JqamvCczszMTFnPzc0N6yUlJYf+yL333htu2rx58/r16++7775QStu3bzc8\n",
       "w8av9VwFAAQSAqnXXXTRRcOGDfvCF77w2oFrkLp3VJ+DVF5eHp7T06ZNS1mfO3du\n",
       "WN+wYcOhP3LLLbckN3LovEPD7bfffsTd807s4XEZEgAgkBBIfWHevHlTp069++67\n",
       "w9fr16+feiQvv/xyz//wrVu3hud0bm5uyvqCBQvCemFh4aE/cv3114ebbrzxxpBP\n",
       "ZWVly5cvT8ZST3ax69KJ8WvyLjsA4IQPoRP7dE4gDS179uy562DLli0L66WlpV0G\n",
       "Ul5eXpeB1NbW9sgjj6xevbrz60UbN25MvqYUbh2y/++Czb4BgCEbTh4EgTT41NfX\n",
       "p4R+VlZWWN+2bVv4evLkySnHz549u5udvg8V/rRwfHV19VAeHu+yAwAEEgKp14X2\n",
       "+PbR6HKThtbW1vKDVVVVhfWdO3eG5/TYsWPb29s7Hz9p0qSwXlZWlvLnhMOam5sP\n",
       "vdxoypQph9vUYegMj82+AQCBhEDqdclNGnruqDZpaGtry8jICE/rHTt2xIsNDQ1p\n",
       "aWmJRCJ8kXL8pk2bwsHz58/vvNjS0jJu3LjDbQs+pIbHZUgAgEBCIPWuBQsWTD0a\n",
       "R7VJw2v7P3w2PK1nzpwZv4iU3KFh+vTpyW+rqqoe2S98HRIo3DR69Ojy8vLkreGn\n",
       "7r777rCYk5NjeFyGBAAIJATS4FZTU5P8WNjMzMz8/PyJEyeGrxOJRPz+ulWrVnXe\n",
       "n2TJkiXh67S0tLlz595zzz3Tpk1L7tBQUVFheFyGBAAIJARSP9i9e/fatWvnzZs3\n",
       "ZcqUO++8c8OGDSkXER2V0DY5OTnx/g0TJkzYsmVLfGsykEIRJb/du3fvww8/fO21\n",
       "1yYPDus33njjn/70J8PzmsuQAACBhEDqY21tbb/4xS/OPvvslEuPLr744tWrVxue\n",
       "fudddgCAQEIg9Z2srKxkEZ188skXXnjhpZdeet5558Urjz/+uOHpX95lBwAIJARS\n",
       "HykoKEi20A9/+MPOHzr0xBNPXHLJJWH9ggsuMDz9y7vsAACBhEDqIz/72c9CBX3t\n",
       "a1879Kba2trk++62b99uePrRuopdNvsGAAQSAqkvfOELXwgJ9Jvf/KbLW7/xjW+E\n",
       "W5cuXWp4+pfLkAAAgYRA6gvJBFqzZk2Xt1555ZXh1vvvv9/w9C+XIQEAAgmB1Bdy\n",
       "c3NDAt1www2H3rR79+5zzz033PrCCy8Ynv7lMiQAQCAhkPpCVVXV+eefP3z48Hnz\n",
       "5u3duzdef+mll5LvvrvyyisNT7+rrGv2LjsAQCAhkHrdAw888P/+3/9LbmQ3YsSI\n",
       "b33rW6NHj77ssstOPfXU5OJ3vvOdqztZtWqV4ekX3mUHAAgkBFKvy87OHnY0brzx\n",
       "RsPTL7zLDgAQSAikXrdmzZoJR6OgoMDw9AubfQMAAgmBhOGJuAwJAHCOh0DC8HRw\n",
       "GRIA4BwPgdTr6uvrb7vtttGjR/9/h7Fz507DMxAs3Fg9akmJZywAIJAQSL2ltrZ2\n",
       "xIgR3W/MUFlZaXgGAu+yAwAEEgKpd/385z8PCXTSSSddfvnlP/rRj37alV27dhme\n",
       "AcI+DQCAQEIg9aIrrrgiBNL06dMNz6Bgs28AQCAhkHrRv/7rv4ZAWr9+veEZFGz2\n",
       "DQAIJARSL0p+UOxPfvITwzNonvTj13reAgACCYHUK/7whz+ccsop7373u7du3Wp4\n",
       "BgWbfQMAAgmB1Ivuueee5G51l1566biu1NXVGZ6B1kietwCAQEIgHX8vvfTS+973\n",
       "Ptt8Dy42+wYABBICqVfMmDEjJNDw4cM/85nPjBs3bnxXvII00HiXHQAgkBBIveIr\n",
       "X/lKCKSpU6cankFk4cbqUUtKPHsBAIGEQDrOvva1r4VAeuKJJwzP4OJddgCAQEIg\n",
       "HX8333xzCKT58+cbnsHFu+wAAIGEQDr+qqqqzj333LPPPru8vNzwDCI5K7eHfzyB\n",
       "AQCBhEA6noqLixOJxLBhw0455ZQrr7zyR12pr683PANNZV2zd9kBAAIJgXScZWdn\n",
       "DzsS23wPTN5lBwAIJATScfbggw+mHUltba3hGYC8yw4AEEgIpD61devWrKysl156\n",
       "yfAMQOsqdo2cs9mzFAAQSAik3tXU1HTHHXd86lOf8ha7gcxlSACAQEIg9a5NmzaN\n",
       "Hj36rW99a3wB0vDhw6uqqgzPwOQyJABAICGQjr+XX355zpw5F198cee9GT7wgQ/k\n",
       "5uYO2DoyPK95lx0AIJAQSMdXQUHBd7/73dNOO61zGl1++eWbN282PAOfd9kBAAIJ\n",
       "gXQc1NTU3Hjjje973/viKAqN9I1vfOOSSy4JX+fl5RmewcIrSACAQEIgvS6JROLk\n",
       "k09OdtEb3vCGz372swsXLmxsbAw3ff/73xdIg4t32QEAAgmB9LpcdNFFoYLe9KY3\n",
       "3XTTTdXV1Z1vEkiDjnfZAQACCYF0HAIpOPfcc2+44YannnpKIA1q9rIDAAQSAunY\n",
       "lZWVZWVlvfOd74wvQPrQhz40Y8aMF198USANUqOWlHgQAACBhEA6dq2trffff/8X\n",
       "v/jFk046Kb4e6dRTTw1fzJ8/3/AMLt5lBwAIJATS8fHCCy9MnTr1ve99b/yC0pln\n",
       "nvnDH/7wscceMzyDhXfZAQACCYF0PLW3t69du/bKK6885ZRT4lL6m7/5m8mTJ+/Z\n",
       "s8fwDHALN1Z7lx0AIJAQSMdfXV3drFmzPvShD8WZVFlZaXgGPu+yAwAEEgKpF23c\n",
       "uDE8O88888znn3/e8Ax83mUHAAgkBFKva25uNjyDQs7K7eEfjwMAIJAEEoaHfbzL\n",
       "DgBwjieQMDxEvMsOAHCOJ5AwPES8yw4AcI4nkDA8RCrrmr3LDgBwjieQGIiamprK\n",
       "ysoKCwtLSkoaGxt78iO7d+/evHlzcXHxn/70J8NzbLzLDgAQSAKJAaeoqCgjI+Pq\n",
       "A9LT01esWNF9Gt10002JRCL+kdtuu+3VV181PEfLu+wAAIEkkBhYysvLk6mTl5dX\n",
       "UFCwaNGi5LfFxcVdHt/c3Dxt2rRwwNSpUx966KElS5Zcd9114dvwheE5Wt5lBwAI\n",
       "JIHEwDJr1qzwtF68eHG8snLlyrCSnZ3d5fGrVq0Kt86YMaOtrS258vTTT4eV8ePH\n",
       "t7e3G56jNXLOZg8CACCQBBIDQmtra3p6enha19XVxYstLS1jxowJi7W1tYf+yJQp\n",
       "U8JN1dXVnRcfffTRtWvXxslkeHpu4cbqUUtKPA4AgEASSPS/mpqa8JzOzMxMWc/N\n",
       "zQ3rJSWpJ+67du0K6xMnTnxt/3vtSktLn3nmmYaGBsNzzLzLDgAQSAKJgaK8vDw8\n",
       "p6dNm5ayPnfu3LC+YcOG1LP5ysqwPmfOnP/93//tvEnDL3/5y9BLhufY2MsOABBI\n",
       "AokBYevWreE5nZubm7K+YMGCsF5YWJiy/sc//jGsp6Wlhf+95ZZbHn744bvvvnvs\n",
       "2LHh2/z8/CMOT5f8FgLvsgMABn4IOZ0TSCeOPXv23HWwZcuWhfXS0tIuAykvL6/L\n",
       "QHryySeTY/DrX/86XtyxY0cymV588UX/78Kx8S47AGDwhpMHQSANPvX19Smhn5WV\n",
       "Fda3bdsWvp48eXLK8bNnz+5yp+9nn302+eMpHyZ76623hsXHH3/c8Bwb77IDAASS\n",
       "QKLvtLa2lh+sqqoqrO/cuTM8p8eOHZuyQ/ekSZPCellZWcqf8/zzz4f1cePGpazf\n",
       "ddddYb37j5c1PN2wlx0AIJAEEv2vra0tIyMjPK137NgRLzY0NKSlpSUSiUO3pwvH\n",
       "X3vtteH4+vr6zuszZswIixs3bjQ8x8y77AAAgSSQ6H/z588PT+uZM2fGLyIld2iY\n",
       "Pn168tuqqqpH9kt++8tf/jLcGn5q7969yZUtW7YkX4bqfr9vw9M977IDAASSQKL/\n",
       "1dTUJD8WNjMzMz8/f+LEieHrRCIRv79u1apVnfcn2bVr149//OPwbU5OzpIlS+bO\n",
       "nZvc7/uhhx4yPK9HqKPQSB4HAEAgCST6WUVFRaideP+GCRMmbNmyJb41GUhpaWnx\n",
       "SnV19a233pp8b17y+EP3uzM8x8C77AAAgSSQMDxEvMsOAHCOJ5AwPES8yw4AcI4n\n",
       "kDA8dAiBVFnX7HEAAJzjCSQMD6/lrNwe/vE4AADO8QQShofXKuuabdUAADjHE0gY\n",
       "HiIuQwIAnOMJJAwPEe+yAwCc4wkkDA8R77IDAJzjCSQMDx28yw4AcI4nkDA8RBZu\n",
       "rB61pMTjAAA4xxNIGB68yw4AcI4nkDA8dDJyzuZ1Fbs8DgCAczyBhOEhaiQPAgDg\n",
       "HE8gYXiIAsmLSACAczyBhOFhHx+IBAA4xxNIGB462KoBAHCOJ5AwPES8yw4AcI4n\n",
       "kDA8RHwgEgDgHE8gYXjo4F12AIBzPIGE4SEyaknJwo3VHgcAwDmeQMLw8Nq6il0+\n",
       "EAkAcI4nkDA8RGzVAAA4xxNIGB4itmoAAJzjCSQMD5HKumZbNQAAzvEEEoaHiMuQ\n",
       "AADneAIJw0PEVg0AgHM8gYThIVJZ1zxqSYmtGgAA53gCCcPDPjkrt4d/PA4AgHM8\n",
       "gYThYR9bNQAAzvEEEoaHiA9EAgCc4wkkDA8HNZIHAQBwjieQMDzsY6sGAMA5nkDC\n",
       "8BCxVQMA4BxPIGF46GCrBgDAOZ5AwvAQsVUDAOAcTyBheIiEOrJVAwDgHE8gYXiI\n",
       "eBEJAHCOJ5AwPEQWbqwetaTE4wAAOMcTSBgeXqusa7ZVAwDgHE8gYXiIjFpSsnBj\n",
       "tccBAHCOJ5AwPHgRCQBwjieQMDx0YqsGAMA5nkDC8HBQI3kQAADneAIJw8M+o5aU\n",
       "eBEJAHCOJ5AwPOxjv28AwDmeQMLw0MFWDQCAczyBhOEhYr9vAMA5nkDC8NDBi0gA\n",
       "gHM8gYThIWK/bwDAOZ5A4nhqamoqKysrLCwsKSlpbGw83GHt7e0vHl5zc7Ph6Reh\n",
       "juz3DQAIJIHE8VFUVJSRkXH1Aenp6StWrOjyyPr6+qsP749//KPh6S9eRAIABJJA\n",
       "4jgoLy9PJBLhmZ2Xl1dQULBo0aLkt8XFxYcevHv37rxDzJs3Lxwffur55583PP3F\n",
       "ft8AgEASSBwHs2bNCk/rxYsXxysrV64MK9nZ2T38E+67775w/G9+8xvD048q65pt\n",
       "1QAACCSBxOvS2tqanp4entZ1dXXxYktLy5gxY8JibW3tEf+EDRs2hCNnz57d3t5u\n",
       "ePpXzsrt4R+PAwAgkAQSx6impiY8pzMzM1PWc3Nzw3pJyRHesvXyyy+PGzcuIyOj\n",
       "m30dDE+f8SISACCQBBKvS3l5eXhOT5s2LWV97ty5YX3Dhg3d//jChQvDYQ8++KDh\n",
       "GSBchgQACCSBxLHbunVreE7n5uamrC9YsCCsFxYWdvOzlZWViUTi+uuvf+WVV3o4\n",
       "PF3yWziOvIgEAPReCDmdE0gnjj179tx1sGXLloX10tLSLgMpLy/viIGU3Lzut7/9\n",
       "rf93YUCx3zcA0Mfh5EEQSIPPoZ9flJWVFda3bdsWvp48eXLK8bNnzz7cTt9JTU1N\n",
       "yd0dXnrpJcMzABvJgwAACCSBxGG1traWH6yqqiqs79y5Mzynx44dm7IH3aRJk8J6\n",
       "WVnZ4f7AgoKCcMB//dd/GZ6BGUheRAIABJJA4qi1tbVlZGSEp/WOHTvixYaGhrS0\n",
       "tEQiEb443A8mPz1p1apVhmfANpIHAQAQSAKJozZ//vzwtJ45c2b8IlJyh4bp06cn\n",
       "v62qqnpkv84/lZWVFY4pLS01PAM2kLyIBAAIJIHEUaupqUl+LGxmZmZ+fv7EiRPD\n",
       "14lEIn5/3apVq1L2J2lqakqu7Nq1y/AMTAs3VtvyGwAQSAKJY1FRUZGTkxPv3zBh\n",
       "woQtW7bEtyYDKS0tLV6prKwMK9dee63hGchCIHkRCQAQSAIJw8M+XkQCAJzjCSQM\n",
       "D5HKumZbNQAAzvEEEoaHiBeRAADneAIJw0Oksq55xNQijwMA4BxPIGF42MeLSACA\n",
       "czyBhOEh4kUkAMA5nkDC8NDBi0gAgHM8gYThoYMXkQAA53gCCcNDxItIAIBzPIGE\n",
       "4aGDF5EAAOd4AgnDQ8SLSACAczyBhOGhgxeRAADneAIJw0PEi0gAgHM8gYThoYMX\n",
       "kQAA53gCCcNDxItIAIBzPIGE4SFSWdc8cs5mjwMA4BxPIGF42MeLSACAczyBhOEh\n",
       "knwRKfyvhwIAcI4nkDA87ONFJADAOZ5AwvDQEUjrKnZ5HAAA53gCCcND1EgeBADA\n",
       "OZ5AwvCwz8g5m72IBAA4xxNIGB46GsmDAAA4xxNIGB6iQPIiEgDgHE8gYXjYp7Ku\n",
       "ecTUIo8DAOAcTyBheNhn1JKShRurPQ4AgHM8gYThwYtIAIBzPIGE4aGTnJXbwz8e\n",
       "BwDAOZ5AwvCw70Uk29kBAM7xBBKGh8jCjdU+NxYAcI4nkDA87FNZ1xwCyZbfAIBz\n",
       "PIGE4SHijXYAgHM8gYThoSOQvIgEADjHE0gYHiK2/AYAnOMJJAwPEVt+AwDO8QQS\n",
       "hocOI+dsrqxr9jgAAM7xBBKGB1t+AwDO8QQShodO7NYAADjHE0gYHiKVdc12awAA\n",
       "nOMJJAwPkVFLSrzRDgBwjieQMDzsk3wRyRvtAADneAIJw0Nk5JzNHgQAwDmeQMLw\n",
       "EAXSwo3VHgcAwDmeQMLwsI/dGgAA53gCCcNDJGfldrs1AADO8QQShoeIj0UCAJzj\n",
       "CSQMD5FQR95oBwA4xxNIGB4io5aU5Kzc7nEAAJzjCSQMD/s+FsmW3wCAczyBhOEh\n",
       "snBjtUYCAJzjCaQhoampqaysrLCwsKSkpLGx8YjH7969+5lnnlm/fn3434aGBsMz\n",
       "RIRA8kY7AMA5nkA6wRUVFWVkZFx9QHp6+ooVK7o5fs2aNSnHL1++3PAMBZV1zSOm\n",
       "FoX/9VAAAM7xBNKJqby8PJFIhGd2Xl5eQUHBokWLkt8WFxd3efwf/vCHcGtaWlo4\n",
       "cv369fn5+SGQwkphYaHhGSK80Q4AcI4nkE5Ys2bNCk/rxYsXxysrV64MK9nZ2V0e\n",
       "Hzoq3Nr5JaO77747rMycOdPwDJ1AWrix2uMAADjHE0gnmtbW1uTrP3V1dfFiS0vL\n",
       "mDFjwmJtbe2hPxJCKNy0ZcuWeCX5mlJOTo7hGTq80Q4AcI4nkE5ANTU14TmdmZmZ\n",
       "sp6bmxvWS0pKDv2RBx98MNx05513xisLFiwIK/fee6/hGTrsaAcAOMcTSCeg8vLy\n",
       "8JyeNm1ayvrcuXPD+oYNGw79kYaGhqlTp4Zbf/GLXyxdunTKlCnJ9+N1fg3K8AwF\n",
       "drQDAJzjCaQTzdatW8NzOjc3N2U9+aJQl/sutLW1Pfzww1cf7IEHHmhvbz/i8HTJ\n",
       "b2GQSu5o53EAgKETQk7nBNKJY8+ePXcdbNmyZWG9tLS0y0BK7sTQZSDdcccd4aax\n",
       "Y8cuXbp048aNIY2uueaasHLbbbf5fxeGmoUbqzUSAAgnD4JAGnzq6+tTQj8rKyus\n",
       "b9u2LXw9efLklONnz57d5U7fe/fuzcjISCQS5eXl8eKLL76Y3NRh165dhmeoGbWk\n",
       "xBvtAEAgIZAGmdbW1vKDVVVVhfWdO3cmXw5KeYPcpEmTwnpZWVnKnxNWutwB/Lbb\n",
       "bgvrTzzxhOEZairrmkfO2byuYpeHAgAEEgJp0Gtra8vIyAhP6x07dsSLDQ0NaWlp\n",
       "iUQifJFyfDgsHPzTn/40Zf3mm28O65s3bzY8Q5M32gGAQEIgnSDmz5+f/JjX+EWk\n",
       "5A4N06dPT35bVVX1yH6vdfrcpIKCgvj4p556KrFffX294RmaclZuH7WkxOMAAAIJ\n",
       "gTTo1dTUJK8gyszMzM/PnzhxYvg61E78/rpVq1Z13p/kd7/7XfLbcPyiRYvmzJkT\n",
       "Dg7fLl++3PAMZSPnbF64sdrjAAACCYE06FVUVOTk5MT7N0yYMGHLli3xrclASktL\n",
       "i1eKiorCMfHx119/faimtrY2wzPEjZhaVFnX7HEAAIGEQMLwYNdvAHCOh0DC8NDJ\n",
       "qCUlLkYCAOd4CCQMD/tU1jWPmFrkYiQAcI6HQMLw0NFILkYCAOd4CCQMD/u4GAkA\n",
       "nOMhkDA8dHAxEgA4x0MgYXjoMGJqUc7K7R4HAHCOh0DC8BA10rqKXR4HAHCOh0DC\n",
       "8OBiJABwjodAwvDQSc7K7S5GAgDneAgkDA+RkXM2uxgJAJzjIZAwPOzj02MBwDke\n",
       "AgnDQ2oj+fRYAHCOh0DC8BDRSADgHA+BhOGhw8g5mz0IAOAcD4GE4WEfm9oBgHM8\n",
       "BBKGhw42tQMA53gIJAwPBzWSTe0AwDkeAsnwwD7JTe3WVezyUACAczyBhOGB10Id\n",
       "2dQOAJzjCSQMD3QIjeRBAADneAIJwwMaCQCc4wkkDA8czMbfAOAcTyBheOCgRrLx\n",
       "NwA4xxNIGB6I+HAkAHCOJ5AwPBCprGvWSADgHE8gYXhAIwGAczyBhOGBwzTSwo3V\n",
       "HgoAcI4nkDA8sI/XkQDAOZ5AwvBAhxFTi9ZV7PI4AIBzPIGE4QGNBADO8QQShgc6\n",
       "qaxr1kgA4BxPIGF4QCMBgHM8gYThga6ERvIgAIBzPIGE4YF9kq8jeRwAwDmeQMLw\n",
       "gEYCAOd4AgnDAxoJAJzjCSQMD3TTSD5DFgCc4wkkDA9oJABwjieQMDzQlRFTizQS\n",
       "ADjHE0gYHoh4HQkAnOMJJAwPRCrrmkMgjVpS4qEAAOd4AgnDA1Ej2doOAJzjCSQM\n",
       "D0SSjRRiyUMBAM7xBBKGBzQSADjHE0gYHujEx8gCgHM8gYThAY0EAM7xBBKGBw7T\n",
       "SLb/BgDneAIJwwMdjeSSJABwjieQeL2amprKysoKCwtLSkoaGxuPeHxDQ8MzzzwT\n",
       "ji8vL29ubjY8DCgaCQAEkkDi2BUVFWVkZFx9QHp6+ooVKw53cGtr67Jly9LS0uLj\n",
       "b7jhhj/+8Y+GhwHF2+0AQCAJJI5FeXl5IpEIz+y8vLyCgoJFixYlvy0uLu7y+Pvu\n",
       "uy/ces011yxfvvzRRx+dPXt2+Db8yJ///GfDw0BrpBFTizQSAAgkgcRRmDVrVnha\n",
       "L168OF5ZuXJlWMnOzj704Pr6+rS0tJBDO3bsiBdDU4Xj8/PzDQ8DsJG83Q4ABJJA\n",
       "oqdaW1vT09PD07quri5ebGlpGTNmTFisra1NOX7Lli1h/cYbb+y8GH42+ca89vZ2\n",
       "w8MAlGyk/7+9ew+yuqz/AJ6phBVSWtN9VOxC5m1y0hmbytRsuowWBNZY+Gskdpeb\n",
       "t9hCAxcQWAxGSRTlkhJMuA4RYiEKzgJCwoKAQlzWHaDl4hLr0nJbBHb9PfisXw5n\n",
       "LxxKRzjn9Zr9Y8+zz57L9zmf7z7v/Z7v83UoCQAEJAGJY6iqqgrv6X79+qW1FxcX\n",
       "h/Y1a9aktc+fP7/pwaKQi+LJSLW1tYqHE5aMBAACkoDEMZSXl4f39NChQ9Pax44d\n",
       "G9oXL16c1v7Pf/4ztBcVFaU2bt68OQakjRs3Kh5OZPFQku0AAAKSgETz1q1bF97T\n",
       "xcXFae0TJ04M7QsXLkxr3717d+/evcOP5syZE1v2798/atSoGJBefvnl1ounWUYB\n",
       "GQkAToogZDonIGWPffv2TTna9OnTQ/vatWubDUjjxo1rNiAFf//732MljBgxIuSo\n",
       "3/zmN/n5+bfffntoefXVV/13gROf1e0A4J0NTjaCgHTyqampSQv6hYWFoT1EmvD9\n",
       "4MGD0/rHxbtbWul7wYIF4dfj/QwcOHDZsmXDhg0L32/fvl3xcLJkJKvbAYCAJCDl\n",
       "roMHD5YfrbKyMrTv2LEjvKd79+6dtgDdgAEDQvv69etbuc/du3fv3LnzzbcWaYhH\n",
       "kOrq6hQPJ1dMcjFZABCQBCSOqK+v79u3b3hbp17XqLa2Nl7sqOmqdHv37h0/fvzk\n",
       "yZPDLyaN8XN6w4YNUzycjJyVBAACkoDEEY8++mh4W48cOTI5iBRXaBg+fHi8WVlZ\n",
       "+dxb4s344br58+fHm/v37w89Q0tpaani4ST1WNm2qx5abjsAgIAkIHH4UkjxsrD9\n",
       "+vUbP378XXfdFb7Py8tLPl/37LPPpq5PEm+GDsXFxZMnT7777rvDzSFDhrT++TrF\n",
       "wwnOWUkAICAJSDSqqKgoKipK1m/o37//ypUrk5/GRJSfn5/aEk86iucvjRkzZu/e\n",
       "vYqHLBAPJTkrCQAEJAEJxQONnJUEAOZ4AhKKB44ordjpWkkAYI4nIKF4oFFyVpJN\n",
       "AQDmeAISigcaXfXQcjEJAMzxBCQUDzQqmr3B4g0AYI4nIKF44KiY5FASAJjjCUgo\n",
       "Hmi08fW6+Im70oqdtgYAmOMJSCgeOHy5pJCR/m/qGpsCAMzxBCQUDxzmxCQAMMcT\n",
       "kFA8cESyFLiYBIA5HgISigfEJADM8czxBCQUDzTHMncAmOMhIKF44AhHkwAwx0NA\n",
       "QvGAmASAOR4CEooHWiUmAWCOh4CE4gExCQBzPAQkFA+0IPnQncvLAmCOh4CE4oFG\n",
       "j5VtE5MAMMdDQELxwFEx6aqHlvvcHQDmeAISigdoZLE7AMzxBCQUD5AuBKSrHlru\n",
       "c3cAmOMJSCgeoNFjZdtCRnJACQBzPAEJxQMcEQ8ohS+bAgBzPAEJxQMcVlqxMx5Q\n",
       "8tE7AMzxBCQUD3DYxtfrLHkHgDmegITiAdLFJe/CV4hMtgYA5ngCEooHOHxMKX70\n",
       "7qqHlktKAJjjCUgoHqCRk5QAMMcTkFA8wFGS9cEdUwLAHE9AQvEAR8SkZEUHAMzx\n",
       "BCQUD9Bo4+t18WJKPoAHgDmegITiAY5IVgn3ATwAzPEEJBQP0CheedZhJQDM8QQk\n",
       "FA9wlGRdB2EJAHM8AQnFAzTa+Hpd6mfwLO0AgDmegITiARolSzs4sgSAOZ6AhOIB\n",
       "johHlt53x/MxLFngAQBzPAEJxQM0ShZ48Ek8AMzxBCQUD3BE/CSeg0sAmOMJSCge\n",
       "IF08uCQvAZjjISCheIDW8lL4xmIPAOZ4CEgoHuCw0oqd8ZpLqYvjOcQEYI6HgITi\n",
       "AQ6LeSktMjnKBGCOJyCheAAaI1NylCn1g3kONAGY4wlIKB6ARjEyJQeapCYAczwB\n",
       "CcUDkJ6amh5r8gk9AHM8AQnFA9Ao+YReEpwsoAdgjicgoXgAmglOyYIQadmpaPYG\n",
       "mwjAHE9AQvEAHBYCUuppTmnxyflOAOZ4AhKKB+OOoW+UevSppQTlGJSqx9Bj6AUk\n",
       "0lVVVc2bN2/Pnj2KB+NOrg19PAaVFqJSc1RuRilVr+ox9AhIOW3cuHGhKl599VXF\n",
       "g3HH0DfrsbJtTaNUK2nqZA9Uhl7VY+gRkHJUXV3dzJkze7xFQMK4Y+jfQUmgSjJV\n",
       "6hGqJFadmMnK0Kt6DD0CUs5ZtWrVoEGDevXq1eNtAhLGHUN/giSr1HCVlq+ajVhJ\n",
       "ykoNWjFr/Xdxy9Cregw9AlIuBqSBbysoKBCQMO4Y+lyLW6mhKzV3NU1fqQGsaQxL\n",
       "kpgVL1Q9hl5AIkuMGTNGQMK4Y+j5H4c+iUlp8alpKkvLZi2FtGajWiuxrZUI11Ki\n",
       "E+1UPYZeQEJAwk4TQ4+hbz7atRTwmv1qJZ5lkgaP+dVsXDzer+N90Ha3zcyw53G9\n",
       "/HfvK8PByuWvpm/vpv8gCF92+AIS/2VAuuwtPZrQrl27du3atWvXflK3mxILSDlh\n",
       "3759U442ffr0/yUgAQAAAtLJqqamJu1fBYWFhQISAAAISLno4MGD5UerrKwUkAAA\n",
       "QECiRQISAAAISAhIAAAgICEgAQCAgESzxo4dKyABAICABAAAICABAAAISAAAAAIS\n",
       "AACAgAQAACAg8U7Zu3fv+vXrFy5cuGbNml27dtkgOaK6unprE94A2a2qqmrevHl7\n",
       "9uyxHzDudgJZ/5d93bp1oaLXrl0bvlfyhl7VC0gch0WLFvXt27fH23r27PnMM8/Y\n",
       "LLngnnvu6dHEjBkzbJksNm7cuGYX/bcfyM1xtxPISg0NDXPmzAlVnIxpqO65c+cq\n",
       "eUOv6gUkMlJeXp6XlxdqI/z5nD9//uTJk+PNJUuW2DjZ7cCBA/n5+YWFhSVHW7Vq\n",
       "lY2Tlerq6mbOnBn/FqZNlO0HcnPc7QSyVajiMNwFBQVhNBcsWDBhwoRY0UuXLlXy\n",
       "OT70ql5AIiOjR48OlfPnP/85aZk9e3Zoueeee2yc7Pavf/0rDPTjjz9uU2S98Jdv\n",
       "0KBBvXr1Sv5ZmDZRth/IzXG3E8hK9fX1v/71r9PSTgzJ9913n5LP8aFX9QISx3bw\n",
       "4MF4HPb1119PGg8cOBD/oFZXV9tEWewf//hHGOW0I+9k60R54NsKCgrSJsr2A7k5\n",
       "7nYC2Wr79u1hWH/72982NDQkjaGQQ2OfPn2UfC4PvaoXkMhIVVVVqJN+/fqltRcX\n",
       "F4f2NWvW2ERZ7MknnwyjvHz58gULFkybNi3sLjds2GCzZL0xY8akTZTtB3Jz3O0E\n",
       "slVlZWWIxGmHCEJjGOvCwkIln8tDr+oFJDJSXl4e6mTo0KFp7WPHjg3tixcvtomy\n",
       "2P333x9PzE09TXPChAkHDx60cXJqomw/kLMByU4gdzz22GNhcENRK/lcHnpVLyCR\n",
       "kXXr1oXCKC4uTmufOHFiaF+4cKFNlMXuvPPOMMojRowIfw7Xr18/Y8aMuMe0lE2u\n",
       "TZTtB3I2INkJ5IKGhoZp06bFOfG2bduUfC4PvaoXkMjI2rVrm91LxgVh7SWzWH19\n",
       "/XPPPTdnzpzUfxqVlZXFPWn4qU2UOxNl+4HcHHc7gVwQpsXxg3O9e/devXq1ks/x\n",
       "oVf1AhIZCX8sQ1UMHjy42T+llvvMQYWFhWHok381kQsTZfuB3Bx3O4HsFia7s2bN\n",
       "igcHwkS5qqpKyRt6VS8gkZEdO3bE/y6kLngSDBgwILSvX7/eJspWYcTr6uqafuZ4\n",
       "yJAhTtLNtYmy/UBujrudQBYLw/rII4+Ecbz11lsXLFiQVtpKPmeHXtULSGT6b4Z4\n",
       "Ie1NmzYljbW1tfn5+Xl5eeEbmyhbvfTSS2HcH3300dTGAwcO9OnTxzKvuTZRth/I\n",
       "zXG3E8hi8cyToqKimpoaf/oNvaoXkDhuoU5CVYwcOTL5N0M8TXP48OE2ThaLF0Yo\n",
       "KCgoLy+PLeEN8MQTT8Qdq+2TUxNl+4HcHHc7gWwVZsY9e/YMU95Woo6Sz82hV/UC\n",
       "EpmqqqqK14br16/f+PHj77rrrvB9Xl6eg+xZb+rUqWGs8/Pzx44dW1JSMnTo0Hia\n",
       "ZkVFhY2TawHJfiA3x91OICu9+OKL8cKg9zcxadIkJZ/jQ6/qBSQyFaqiqKgoWQ6/\n",
       "f//+K1eutFmy3qFDh2bNmnXbbbfFcQ+7yxEjRmzevNmWyW7xUidNT9a3H8jBcbcT\n",
       "yEph1tujBb/73e+UfI4PvaoXkDg+e/furays3LVrl02RUxoaGqqrq7ds2eIicdgP\n",
       "2AnYGkoeVY+ABAAAICABAAAISAAAAAISAACAgAQAACAgAQAACEgA5JDS0tK//vWv\n",
       "ufnat2zZUlJSUl5e7m0AICAB8K7YsWPHGRno3Llz6FxQUBC+Lyoqeq+e7YoVK047\n",
       "7bTvfOc72TQEDz/8cNiqN9100zF7VldXn3nmmZdccsmhQ4e8dQEEJADeef/+97/f\n",
       "l4Frr702dL7lllvC93ffffd78lRDKrjssstOOeWU5cuXZ9MQPPjgg2Gr/vCHP8yk\n",
       "86BBg0LnsWPHeusCCEgAvPMaGhp2He38888PU/D+/funNu7bty90Likp6dWr1zPP\n",
       "PPOePNWpU6eGJ9apU6csG4LjCkhhLNq1a/eJT3xi//793r0AAhIA77ovfvGLYb7+\n",
       "Hn6OriVXXnlleGIzZ87M5YAU3HzzzaH/448/7r0KICAB8F4GpIkTJ3br1m3atGnx\n",
       "5gMPPBBurl69urS0tHv37hdeeOEVV1xx55137tq1K/x08uTJXbt27dChw2WXXdan\n",
       "T58tW7ak3tXSpUt79ux5+eWXh98qKCj4y1/+0vqzevnll8OzOvvssw8cOJA0zp07\n",
       "98Ybbwz3cN5554WHvu2225ouYJDJAz3//POxz/nnn3/11VcPHz68trY2rc+SJUtu\n",
       "vfXWb3zjG6HPDTfcMGTIkJ07dyY/TTbF/Pnz8/PzL7rooi984QtdunRZsWJF2v08\n",
       "9dRTt9xyy8UXX/z5z3++c+fO4aGbBqTWX9dzzz0X+oet6r0KICAB8F4GpLRzkL77\n",
       "3e+Gmz/72c9OO+201BOWrr/++hCT0s5iCnkgBqdg1KhRp59+elqHO+64o5Vn9fvf\n",
       "/z70ue6665KWkSNHNj1Xqn379q+88krS55gP1NDQMGDAgFNOOSWtz+c+97mtW7cm\n",
       "3YYNG5b2GoNzzjknpKbUTRFSVps2bVL7hJsvvvhi7HPo0KHevXs3fc5hy6QGpGO+\n",
       "rj179sTGbdu2ebsCCEgAnFgBKbjyyitfeOGF1157LQSSZE5/zTXXTJ06dcuWLWPG\n",
       "jIkt06dPf/OtwzXh+1NPPTUkk4qKig0bNtx7770xVzz44IMtPasf/OAHoUNeXl68\n",
       "+cYbb3zwgx+MLRs3bqytrZ07d26HDh1CS9euXWOfTB5o2rRp8bl169YtJJnQLfzo\n",
       "7LPPDi3f+973Yp+nn3469gktZWVlIZaUlJR88pOfDC2f/exn49lZyaa49NJLw+OG\n",
       "Vz1p0qTw09Byww03xPv54x//GPt079592bJlmzZtmjJlysc+9rHYGANSJq8r+PjH\n",
       "Px5a/vSnP3m7AghIAJxYAem8886rq6tL+lx44YXxiEdMDtEVV1wRGocPH550SLv/\n",
       "0aNHh8bw0C09q0996lOhQ3Fxcby5Zs2amCteeumlpM+sWbPOOuusr371q6nPpJUH\n",
       "amhouOCCC8LNn/70p6l9/vCHP4TG008/PX7QrmPHjnEdv9A/6ROi1Ac+8IHkRcVN\n",
       "EdLOf/7zn6RPeLahMcSb8H19ff25554bbqYt5x1eSDw2FQNSJq8r+NrXvhb69OnT\n",
       "x9sVQEAC4MQKSIMHD07tc/3114fGX/3qV6mNIYGExiFDhiSrim/durUuRYgi8djO\n",
       "smXLmj5uSCYxRTzxxBOxJeSNeAwnpI7x48c3/bBZJg8Ufiv2Wbp0aervHjhwYPbs\n",
       "2c8++2z4JumTfFIukZeXF9rjRZnipujbt29qhxUrVoTGdu3ahe83bdrUNPlEXbp0\n",
       "SQLSMV9X1LVr19An/KK3K4CABMCJFZAeeeSR1D4//vGPQ+OoUaNSG3/+85/HgDRv\n",
       "3rzWL7gUP4aXpqamJv508eLFSeOkSZPOOOOM5Bc7dOjQvXv30tLS+NNMHmjBggXx\n",
       "M3itXHc13GHo8/73vz/1KFk0bty4eCZSsilGjx6d2mHVqlWh8cMf/vCbb6270NJj\n",
       "3XfffannILX+uqLCwsLwo29961vergACEgAncUD629/+Fuf957Zg6tSpTR+3trY2\n",
       "/tbChQtT2ysqKsLzvPzyy1NXUPjlL3/Z0NCQyQPNmDEjCTAtmTVrVugT7j/183VR\n",
       "vC7TWWed1dKmSA1I8USmNm3aNH2IeI5W6ip2rbyu2CEMQWj5+te/7u0KICABcBIH\n",
       "pDD1jwdkUlfrzkTbtm3DL06ZMqXZn+7ZsyeknRAYYpYoLS3N5IFWrlwZ+9fU1KS2\n",
       "19fXhxf18MMPb926de3atbFPZWVl2q+HlxPaQ4zJJCAl9/Paa6+l3c8dd9zR0nWQ\n",
       "mr6u2H7TTTeFmz/60Y+8XQEEJABO4oAUske7du3C98nFlKJNmzaFx+3QoUPa5ZIS\n",
       "55xzTryHePPpp5/u2LHjT37yk9Q+u3btOvPMM0O3Bx54IJMH2rt376mnnhr6jBkz\n",
       "JrVPSUlJDFfV1dUhX8Vl5QYMGJDa54033ojLc4dtkklACv0/9KEPhZv33ntv2v3E\n",
       "k45iQDrm64otMTL16NHD2xVAQALgJA5I4fuBAweG7z/zmc8kJxSFoBKXdgjZoKVn\n",
       "1blz5ySNBK+88ko8peepp55K+qxduzauLDd37twMH6h79+7xY3LJGgzr1q27+OKL\n",
       "Q+M3v/nN2BKiUbjZtm3bZImIcD+/+MUv4kfvQv9MAlLQv3//cDPEpJkzZ8aW/fv3\n",
       "hyyUusx3Jq8r+PSnP9304QAQkAA4+QLSrl27vvzlL8cYcNFFF4UcEmf/IWzMnj27\n",
       "pWcVHiX0ufrqq+PNhoaG6667LkaLkGc6dep01VVXxfu54IIL4grjmTzQtm3b4gLi\n",
       "oc+ll14aVwYPzjjjjNWrV8c+u3fvvuSSS2J7uMNrr702XigpdQW/TAJSTU3NV77y\n",
       "lfiLX/rSl7797W/H40LxCFUMSJm8rhCr4pVtQ3DydgUQkAB4d8VJfLMBKT8/P/VH\n",
       "MRVMmDDhuALSm28dgenRo0f79u2TFQhCGGglHQWVlZUhw4RfCfEgtoT8U1BQED+3\n",
       "FrVt2/bGG2/cvn178luZPNCOHTu6dOkSU0py3du0hb/Dg95+++3JRV1DPgkJJ/Ug\n",
       "T7ObIp539JGPfCRpCVmrW7duyfMJT/jmm2+OV9dNzkE65uuKi+/F1fMAEJAAyB4b\n",
       "N25csmRJaqRpRadOnZqeU1RXV1deXr5o0aKQRkIc+q8fqL6+ft26dcuWLYsXh23J\n",
       "5s2by8rKQs75X151Q0NDeLarVq06ePBgS31aeV0h8iUXqAVAQAIgR73wwgstrfaW\n",
       "O0JY+uhHP9q2bdvq6mpvCQABCYCc9v3vfz9kpLKyspzdAsOGDWu6pB4AAhIAuWj9\n",
       "+vVt2rS55pprcvPlV1dXt2/fvmPHjsmJWAAISADktEWLFj355JOHDh3KzYAUXntI\n",
       "id4GAAISAACAgAQAACAgAQAACEgAAAACEgAAgIAEAAAgIAEAAAhIAAAAAhIAAICA\n",
       "BAAAICABAAAISAAAAAISAACAgAQAACAgAQAACEgAAAACEgAAgIAEAAAgIAEAAAhI\n",
       "AAAAAhIAAICABAAAICABAAAISAAAAAhIAAAAAhIAAICABAAAICABAAAISAAAAAIS\n",
       "AACAgAQAACAgAQAACEgAAAACEgAAgIAEAADwjvp/XOQjiSAbo3cAAAAASUVORK5C\n",
       "YII=\" style=\"clip-path:url(#clipPath2);\" height=\"840\" preserveAspectRatio=\"none\"\n",
       "    /></g\n",
       "  ></g\n",
       "></svg\n",
       ">\n"
      ]
     },
     "metadata": {
      "filenames": {
       "image/svg+xml": "/Users/eechris/Documents/code/src/github.com/cpjobling/eg-247-textbook/_build/jupyter_execute/laplace_transform/4/transfer_functions_66_0.svg"
      }
     },
     "output_type": "display_data"
    }
   ],
   "source": [
    "step(G)"
   ]
  },
  {
   "cell_type": "markdown",
   "id": "a64f69f9",
   "metadata": {
    "slideshow": {
     "slide_type": "notes"
    }
   },
   "source": [
    "Simples!"
   ]
  },
  {
   "cell_type": "markdown",
   "id": "d7bb9479",
   "metadata": {
    "slideshow": {
     "slide_type": "subslide"
    }
   },
   "source": [
    "#### Simulink model\n",
    "\n",
    "See [example_8.slx](https://cpjobling.github.io/eg-247-textbook/laplace_transform/matlab/example_8.slx)"
   ]
  },
  {
   "cell_type": "code",
   "execution_count": 12,
   "id": "e5aa5a12",
   "metadata": {
    "slideshow": {
     "slide_type": "fragment"
    }
   },
   "outputs": [],
   "source": [
    "open example_8"
   ]
  },
  {
   "cell_type": "markdown",
   "id": "c3cdc855",
   "metadata": {
    "slideshow": {
     "slide_type": "notes"
    }
   },
   "source": [
    "![Simulink model](pictures/ex8_sim.png)"
   ]
  },
  {
   "cell_type": "markdown",
   "id": "50260304",
   "metadata": {
    "slideshow": {
     "slide_type": "notes"
    }
   },
   "source": [
    "Result\n",
    "\n",
    "![Simulation result](pictures/ex8_sim_result.png)"
   ]
  },
  {
   "cell_type": "markdown",
   "id": "4e5fbb71",
   "metadata": {
    "slideshow": {
     "slide_type": "subslide"
    }
   },
   "source": [
    "Let's go a bit further by finding the frequency response:"
   ]
  },
  {
   "cell_type": "code",
   "execution_count": 13,
   "id": "f9bcad8c",
   "metadata": {
    "slideshow": {
     "slide_type": "subslide"
    }
   },
   "outputs": [
    {
     "data": {
      "image/svg+xml": [
       "<?xml version=\"1.0\"?>\n",
       "<!DOCTYPE svg PUBLIC '-//W3C//DTD SVG 1.0//EN'\n",
       "          'http://www.w3.org/TR/2001/REC-SVG-20010904/DTD/svg10.dtd'>\n",
       "<svg xmlns:xlink=\"http://www.w3.org/1999/xlink\" style=\"fill-opacity:1; color-rendering:auto; color-interpolation:auto; text-rendering:auto; stroke:black; stroke-linecap:square; stroke-miterlimit:10; shape-rendering:auto; stroke-opacity:1; fill:black; stroke-dasharray:none; font-weight:normal; stroke-width:1; font-family:'Dialog'; font-style:normal; stroke-linejoin:miter; font-size:12px; stroke-dashoffset:0; image-rendering:auto;\" width=\"560\" height=\"420\" xmlns=\"http://www.w3.org/2000/svg\"\n",
       "><!--Generated by the Batik Graphics2D SVG Generator--><defs id=\"genericDefs\"\n",
       "  /><g\n",
       "  ><defs id=\"defs1\"\n",
       "    ><clipPath clipPathUnits=\"userSpaceOnUse\" id=\"clipPath1\"\n",
       "      ><path d=\"M0 0 L560 0 L560 420 L0 420 L0 0 Z\"\n",
       "      /></clipPath\n",
       "      ><font horiz-adv-x=\"50.0\" id=\"font1\"\n",
       "      ><font-face ascent=\"95.200005\" descent=\"21.3\" units-per-em=\"100\" style=\"font-style:normal; font-family:Helvetica Neue; font-weight:normal;\"\n",
       "        /><missing-glyph horiz-adv-x=\"50.0\" d=\"M40.9 66.6 L10.2 66.6 L10.2 4.7 L40.9 4.7 ZM46 71.2 L46 0.1 L5.1 0.1 L5.1 71.2 Z\"\n",
       "        /><glyph unicode=\"0\" horiz-adv-x=\"55.6\" d=\"M13.2 34.9 Q13.2 37.5 13.25 40.65 Q13.3 43.8 13.75 46.95 Q14.2 50.1 15.05 53.1 Q15.9 56.1 17.55 58.35 Q19.2 60.6 21.7 62 Q24.2 63.4 27.8 63.4 Q31.4 63.4 33.9 62 Q36.4 60.6 38.05 58.35 Q39.7 56.1 40.55 53.1 Q41.4 50.1 41.85 46.95 Q42.3 43.8 42.35 40.65 Q42.4 37.5 42.4 34.9 Q42.4 30.9 42.15 25.95 Q41.9 21 40.55 16.65 Q39.2 12.3 36.2 9.3 Q33.2 6.3 27.8 6.3 Q22.4 6.3 19.4 9.3 Q16.4 12.3 15.05 16.65 Q13.7 21 13.45 25.95 Q13.2 30.9 13.2 34.9 ZM4.2 34.8 Q4.2 30.9 4.4 26.7 Q4.6 22.5 5.4 18.5 Q6.2 14.5 7.7 10.95 Q9.2 7.4 11.8 4.7 Q14.4 2 18.35 0.45 Q22.3 -1.1 27.8 -1.1 Q33.4 -1.1 37.3 0.45 Q41.2 2 43.8 4.7 Q46.4 7.4 47.9 10.95 Q49.4 14.5 50.2 18.5 Q51 22.5 51.2 26.7 Q51.4 30.9 51.4 34.8 Q51.4 38.7 51.2 42.9 Q51 47.1 50.2 51.1 Q49.4 55.1 47.9 58.7 Q46.4 62.3 43.8 65 Q41.2 67.7 37.25 69.3 Q33.3 70.9 27.8 70.9 Q22.3 70.9 18.35 69.3 Q14.4 67.7 11.8 65 Q9.2 62.3 7.7 58.7 Q6.2 55.1 5.4 51.1 Q4.6 47.1 4.4 42.9 Q4.2 38.7 4.2 34.8 Z\"\n",
       "        /><glyph unicode=\"8\" horiz-adv-x=\"55.6\" d=\"M15.5 52.5 Q15.5 55.2 16.5 57.2 Q17.5 59.2 19.15 60.6 Q20.8 62 23.1 62.7 Q25.4 63.4 27.9 63.4 Q33.1 63.4 36.45 60.65 Q39.8 57.9 39.8 52.5 Q39.8 47.1 36.5 44.1 Q33.2 41.1 28.1 41.1 Q25.5 41.1 23.2 41.8 Q20.9 42.5 19.2 43.9 Q17.5 45.3 16.5 47.45 Q15.5 49.6 15.5 52.5 ZM6.5 52.8 Q6.5 48 9.2 43.95 Q11.9 39.9 16.4 38.1 Q10.4 36 7.2 31.35 Q4 26.7 4 20.4 Q4 15 5.85 10.95 Q7.7 6.9 10.95 4.2 Q14.2 1.5 18.6 0.2 Q23 -1.1 28.1 -1.1 Q33 -1.1 37.3 0.3 Q41.6 1.7 44.75 4.45 Q47.9 7.2 49.75 11.2 Q51.6 15.2 51.6 20.4 Q51.6 27 48.5 31.55 Q45.4 36.1 39 38.1 Q43.5 40.1 46.15 44.05 Q48.8 48 48.8 52.8 Q48.8 56.2 47.6 59.45 Q46.4 62.7 43.85 65.25 Q41.3 67.8 37.2 69.35 Q33.1 70.9 27.3 70.9 Q23.2 70.9 19.45 69.7 Q15.7 68.5 12.8 66.2 Q9.9 63.9 8.2 60.55 Q6.5 57.2 6.5 52.8 ZM13 20 Q13 23.1 14.15 25.6 Q15.3 28.1 17.35 29.9 Q19.4 31.7 22.15 32.65 Q24.9 33.6 28 33.6 Q31 33.6 33.65 32.55 Q36.3 31.5 38.3 29.7 Q40.3 27.9 41.45 25.45 Q42.6 23 42.6 20.1 Q42.6 17.1 41.55 14.6 Q40.5 12.1 38.55 10.25 Q36.6 8.4 33.95 7.35 Q31.3 6.3 28.1 6.3 Q21.5 6.3 17.25 9.95 Q13 13.6 13 20 Z\"\n",
       "        /><glyph unicode=\"-\" horiz-adv-x=\"38.9\" d=\"M5 31.8 L5 23.8 L33.9 23.8 L33.9 31.8 Z\"\n",
       "        /><glyph unicode=\"6\" horiz-adv-x=\"55.6\" d=\"M41.4 52.8 L49.9 52.8 Q49.1 61.6 43.9 66.25 Q38.7 70.9 29.9 70.9 Q22.3 70.9 17.3 67.7 Q12.3 64.5 9.3 59.2 Q6.3 53.9 5.05 47.05 Q3.8 40.2 3.8 32.9 Q3.8 27.3 4.65 21.3 Q5.5 15.3 8.1 10.3 Q10.7 5.3 15.5 2.1 Q20.3 -1.1 28.2 -1.1 Q34.9 -1.1 39.45 1.15 Q44 3.4 46.75 6.85 Q49.5 10.3 50.7 14.5 Q51.9 18.7 51.9 22.6 Q51.9 27.5 50.4 31.7 Q48.9 35.9 46.15 39 Q43.4 42.1 39.35 43.85 Q35.3 45.6 30.2 45.6 Q24.4 45.6 19.95 43.4 Q15.5 41.2 12.5 36.3 L12.3 36.5 Q12.4 40.6 13.1 45.3 Q13.8 50 15.65 54.05 Q17.5 58.1 20.8 60.75 Q24.1 63.4 29.5 63.4 Q34.6 63.4 37.7 60.5 Q40.8 57.6 41.4 52.8 ZM28.6 38.1 Q32.2 38.1 34.9 36.8 Q37.6 35.5 39.4 33.35 Q41.2 31.2 42.05 28.25 Q42.9 25.3 42.9 22 Q42.9 18.9 41.95 16.05 Q41 13.2 39.2 11 Q37.4 8.8 34.75 7.55 Q32.1 6.3 28.6 6.3 Q25.1 6.3 22.35 7.55 Q19.6 8.8 17.75 10.9 Q15.9 13 14.9 15.9 Q13.9 18.8 13.9 22.1 Q13.9 25.4 14.85 28.35 Q15.8 31.3 17.7 33.45 Q19.6 35.6 22.3 36.85 Q25 38.1 28.6 38.1 Z\"\n",
       "        /><glyph unicode=\"4\" horiz-adv-x=\"55.6\" d=\"M33.9 24.1 L10.1 24.1 L33.7 58.8 L33.9 58.8 ZM41.9 24.1 L41.9 70.9 L35.1 70.9 L2.8 24.8 L2.8 16.6 L33.9 16.6 L33.9 0 L41.9 0 L41.9 16.6 L51.5 16.6 L51.5 24.1 Z\"\n",
       "        /><glyph unicode=\"2\" horiz-adv-x=\"55.6\" d=\"M4.4 45.8 L12.9 45.8 Q12.8 49 13.55 52.15 Q14.3 55.3 16 57.8 Q17.7 60.3 20.35 61.85 Q23 63.4 26.7 63.4 Q29.5 63.4 32 62.5 Q34.5 61.6 36.35 59.9 Q38.2 58.2 39.3 55.85 Q40.4 53.5 40.4 50.6 Q40.4 46.9 39.25 44.1 Q38.1 41.3 35.85 38.9 Q33.6 36.5 30.2 34.15 Q26.8 31.8 22.3 29 Q18.6 26.8 15.2 24.3 Q11.8 21.8 9.1 18.5 Q6.4 15.2 4.65 10.75 Q2.9 6.3 2.4 0 L48.7 0 L48.7 7.5 L12.3 7.5 Q12.9 10.8 14.85 13.35 Q16.8 15.9 19.55 18.1 Q22.3 20.3 25.6 22.25 Q28.9 24.2 32.2 26.2 Q35.5 28.3 38.6 30.6 Q41.7 32.9 44.1 35.75 Q46.5 38.6 47.95 42.2 Q49.4 45.8 49.4 50.5 Q49.4 55.5 47.65 59.3 Q45.9 63.1 42.9 65.65 Q39.9 68.2 35.85 69.55 Q31.8 70.9 27.2 70.9 Q21.6 70.9 17.2 69 Q12.8 67.1 9.85 63.75 Q6.9 60.4 5.5 55.8 Q4.1 51.2 4.4 45.8 Z\"\n",
       "        /><glyph unicode=\")\" horiz-adv-x=\"25.9\" d=\"M-0.9 -19.7 L5.5 -19.7 Q13.3 -9.4 17.25 2.55 Q21.2 14.5 21.2 26.3 Q21.2 32.9 20.1 38.9 Q19 44.9 16.95 50.65 Q14.9 56.4 12 61.95 Q9.1 67.5 5.5 73.1 L-0.9 73.1 Q6.1 61.6 9.15 50.25 Q12.2 38.9 12.2 26.3 Q12.2 14.1 9.2 2.85 Q6.2 -8.4 -0.9 -19.7 Z\"\n",
       "        /><glyph unicode=\"B\" horiz-adv-x=\"68.5\" d=\"M17.3 40.7 L17.3 63.4 L36.3 63.4 Q39.4 63.4 42.15 63.05 Q44.9 62.7 47 61.5 Q49.1 60.3 50.3 58.1 Q51.5 55.9 51.5 52.1 Q51.5 46.4 47.95 43.55 Q44.4 40.7 36.3 40.7 ZM7.8 71.4 L7.8 0 L42.3 0 Q47.6 0 51.65 1.75 Q55.7 3.5 58.45 6.35 Q61.2 9.2 62.6 12.9 Q64 16.6 64 20.5 Q64 27.1 60.5 31.7 Q57 36.3 50.4 37.7 L50.4 37.9 Q55.5 39.9 58.25 44.05 Q61 48.2 61 53.9 Q61 59.3 58.55 63 Q56.1 66.7 52.6 68.8 Q51 69.8 48.75 70.3 Q46.5 70.8 43.9 71.05 Q41.3 71.3 38.65 71.35 Q36 71.4 33.7 71.4 ZM17.3 8 L17.3 32.7 L39 32.7 Q42 32.7 44.8 32.15 Q47.6 31.6 49.75 30.25 Q51.9 28.9 53.2 26.6 Q54.5 24.3 54.5 20.8 Q54.5 14.8 50.95 11.4 Q47.4 8 41.1 8 Z\"\n",
       "        /><glyph unicode=\"(\" horiz-adv-x=\"25.9\" d=\"M20.4 -19.7 L26.9 -19.7 Q19.8 -8.2 16.75 3.1 Q13.7 14.4 13.7 27 Q13.7 39.3 16.7 50.5 Q19.7 61.7 26.9 73.1 L20.4 73.1 Q12.6 62.8 8.65 50.8 Q4.7 38.8 4.7 27 Q4.7 20.4 5.8 14.4 Q6.9 8.4 8.95 2.7 Q11 -3 13.9 -8.55 Q16.8 -14.1 20.4 -19.7 Z\"\n",
       "        /><glyph unicode=\" \" horiz-adv-x=\"27.8\" d=\"\"\n",
       "        /><glyph unicode=\"e\" horiz-adv-x=\"53.7\" d=\"M42.3 30.8 L12.6 30.8 Q12.8 33.8 13.9 36.45 Q15 39.1 16.9 41.1 Q18.8 43.1 21.45 44.25 Q24.1 45.4 27.4 45.4 Q30.6 45.4 33.25 44.25 Q35.9 43.1 37.85 41.15 Q39.8 39.2 40.95 36.5 Q42.1 33.8 42.3 30.8 ZM50.5 16.4 L42.1 16.4 Q41 11.3 37.55 8.8 Q34.1 6.3 28.7 6.3 Q24.5 6.3 21.4 7.7 Q18.3 9.1 16.3 11.45 Q14.3 13.8 13.4 16.85 Q12.5 19.9 12.6 23.3 L51.3 23.3 Q51.5 28 50.45 33.2 Q49.4 38.4 46.65 42.8 Q43.9 47.2 39.35 50.05 Q34.8 52.9 27.9 52.9 Q22.6 52.9 18.15 50.9 Q13.7 48.9 10.45 45.3 Q7.2 41.7 5.4 36.8 Q3.6 31.9 3.6 26 Q3.8 20.1 5.35 15.1 Q6.9 10.1 10 6.5 Q13.1 2.9 17.65 0.9 Q22.2 -1.1 28.4 -1.1 Q37.2 -1.1 43 3.3 Q48.8 7.7 50.5 16.4 Z\"\n",
       "        /><glyph unicode=\"d\" horiz-adv-x=\"59.3\" d=\"M12.6 25.4 Q12.6 29.2 13.4 32.8 Q14.2 36.4 16 39.2 Q17.8 42 20.8 43.7 Q23.8 45.4 28.1 45.4 Q32.5 45.4 35.6 43.75 Q38.7 42.1 40.65 39.4 Q42.6 36.7 43.5 33.15 Q44.4 29.6 44.4 25.8 Q44.4 22.2 43.55 18.7 Q42.7 15.2 40.8 12.45 Q38.9 9.7 35.9 8 Q32.9 6.3 28.6 6.3 Q24.5 6.3 21.45 7.9 Q18.4 9.5 16.45 12.2 Q14.5 14.9 13.55 18.35 Q12.6 21.8 12.6 25.4 ZM52.6 0 L52.6 71.4 L44.1 71.4 L44.1 44.8 L43.9 44.8 Q42.5 47.1 40.45 48.65 Q38.4 50.2 36.1 51.15 Q33.8 52.1 31.5 52.5 Q29.2 52.9 27.2 52.9 Q21.3 52.9 16.85 50.75 Q12.4 48.6 9.45 44.95 Q6.5 41.3 5.05 36.4 Q3.6 31.5 3.6 26 Q3.6 20.5 5.1 15.6 Q6.6 10.7 9.55 7 Q12.5 3.3 16.95 1.1 Q21.4 -1.1 27.4 -1.1 Q32.8 -1.1 37.3 0.8 Q41.8 2.7 43.9 7 L44.1 7 L44.1 0 Z\"\n",
       "        /><glyph unicode=\"u\" horiz-adv-x=\"55.6\" d=\"M49.2 0 L49.2 51.7 L40.7 51.7 L40.7 22.5 Q40.7 19 39.75 16.05 Q38.8 13.1 36.9 10.9 Q35 8.7 32.15 7.5 Q29.3 6.3 25.4 6.3 Q20.5 6.3 17.7 9.1 Q14.9 11.9 14.9 16.7 L14.9 51.7 L6.4 51.7 L6.4 17.7 Q6.4 13.5 7.25 10.05 Q8.1 6.6 10.2 4.1 Q12.3 1.6 15.7 0.25 Q19.1 -1.1 24.2 -1.1 Q29.9 -1.1 34.1 1.15 Q38.3 3.4 41 8.2 L41.2 8.2 L41.2 0 Z\"\n",
       "        /><glyph unicode=\"t\" horiz-adv-x=\"31.5\" d=\"M18.2 51.7 L18.2 67.2 L9.7 67.2 L9.7 51.7 L0.9 51.7 L0.9 44.2 L9.7 44.2 L9.7 11.3 Q9.7 7.7 10.4 5.5 Q11.1 3.3 12.55 2.1 Q14 0.9 16.35 0.45 Q18.7 0 22 0 L28.5 0 L28.5 7.5 L24.6 7.5 Q22.6 7.5 21.35 7.65 Q20.1 7.8 19.4 8.3 Q18.7 8.8 18.45 9.7 Q18.2 10.6 18.2 12.1 L18.2 44.2 L28.5 44.2 L28.5 51.7 Z\"\n",
       "        /><glyph unicode=\"i\" horiz-adv-x=\"22.2\" d=\"M15.4 61 L15.4 71.4 L6.9 71.4 L6.9 61 ZM6.9 51.7 L6.9 0 L15.4 0 L15.4 51.7 Z\"\n",
       "        /><glyph unicode=\"n\" horiz-adv-x=\"55.6\" d=\"M6.4 51.7 L6.4 0 L14.9 0 L14.9 29.2 Q14.9 32.7 15.85 35.65 Q16.8 38.6 18.7 40.8 Q20.6 43 23.45 44.2 Q26.3 45.4 30.2 45.4 Q35.1 45.4 37.9 42.6 Q40.7 39.8 40.7 35 L40.7 0 L49.2 0 L49.2 34 Q49.2 38.2 48.35 41.65 Q47.5 45.1 45.4 47.6 Q43.3 50.1 39.9 51.5 Q36.5 52.9 31.4 52.9 Q19.9 52.9 14.6 43.5 L14.4 43.5 L14.4 51.7 Z\"\n",
       "        /><glyph unicode=\"g\" horiz-adv-x=\"57.4\" d=\"M51 4.4 L51 51.7 L43 51.7 L43 44.3 L42.9 44.3 Q40.6 48.6 36.5 50.75 Q32.4 52.9 27.5 52.9 Q20.8 52.9 16.2 50.35 Q11.6 47.8 8.8 43.85 Q6 39.9 4.8 35.05 Q3.6 30.2 3.6 25.6 Q3.6 20.3 5.05 15.55 Q6.5 10.8 9.4 7.25 Q12.3 3.7 16.6 1.6 Q20.9 -0.5 26.7 -0.5 Q31.7 -0.5 36.15 1.75 Q40.6 4 42.8 8.8 L43 8.8 L43 5.4 Q43 1.1 42.15 -2.5 Q41.3 -6.1 39.4 -8.65 Q37.5 -11.2 34.6 -12.65 Q31.7 -14.1 27.5 -14.1 Q25.4 -14.1 23.1 -13.65 Q20.8 -13.2 18.85 -12.2 Q16.9 -11.2 15.55 -9.6 Q14.2 -8 14.1 -5.7 L5.6 -5.7 Q5.8 -9.9 7.8 -12.8 Q9.8 -15.7 12.85 -17.5 Q15.9 -19.3 19.65 -20.1 Q23.4 -20.9 27 -20.9 Q39.4 -20.9 45.2 -14.6 Q51 -8.3 51 4.4 ZM27.2 6.9 Q23 6.9 20.2 8.65 Q17.4 10.4 15.7 13.25 Q14 16.1 13.3 19.6 Q12.6 23.1 12.6 26.6 Q12.6 30.3 13.45 33.7 Q14.3 37.1 16.15 39.7 Q18 42.3 20.9 43.85 Q23.8 45.4 27.9 45.4 Q31.9 45.4 34.7 43.8 Q37.5 42.2 39.25 39.55 Q41 36.9 41.8 33.6 Q42.6 30.3 42.6 26.9 Q42.6 23.3 41.75 19.7 Q40.9 16.1 39.1 13.25 Q37.3 10.4 34.35 8.65 Q31.4 6.9 27.2 6.9 Z\"\n",
       "        /><glyph unicode=\"a\" horiz-adv-x=\"53.7\" d=\"M52.2 0.2 Q50 -1.1 46.1 -1.1 Q42.8 -1.1 40.85 0.75 Q38.9 2.6 38.9 6.8 Q35.4 2.6 30.75 0.75 Q26.1 -1.1 20.7 -1.1 Q17.2 -1.1 14.05 -0.3 Q10.9 0.5 8.6 2.2 Q6.3 3.9 4.95 6.65 Q3.6 9.4 3.6 13.3 Q3.6 17.7 5.1 20.5 Q6.6 23.3 9.05 25.05 Q11.5 26.8 14.65 27.7 Q17.8 28.6 21.1 29.2 Q24.6 29.9 27.75 30.25 Q30.9 30.6 33.3 31.25 Q35.7 31.9 37.1 33.15 Q38.5 34.4 38.5 36.8 Q38.5 39.6 37.45 41.3 Q36.4 43 34.75 43.9 Q33.1 44.8 31.05 45.1 Q29 45.4 27 45.4 Q21.6 45.4 18 43.35 Q14.4 41.3 14.1 35.6 L5.6 35.6 Q5.8 40.4 7.6 43.7 Q9.4 47 12.4 49.05 Q15.4 51.1 19.25 52 Q23.1 52.9 27.5 52.9 Q31 52.9 34.45 52.4 Q37.9 51.9 40.7 50.35 Q43.5 48.8 45.2 46 Q46.9 43.2 46.9 38.7 L46.9 12.1 Q46.9 9.1 47.25 7.7 Q47.6 6.3 49.6 6.3 Q50.7 6.3 52.2 6.8 ZM38.4 26.7 Q36.8 25.5 34.2 24.95 Q31.6 24.4 28.75 24.05 Q25.9 23.7 23 23.25 Q20.1 22.8 17.8 21.8 Q15.5 20.8 14.05 18.95 Q12.6 17.1 12.6 13.9 Q12.6 11.8 13.45 10.35 Q14.3 8.9 15.65 8 Q17 7.1 18.8 6.7 Q20.6 6.3 22.6 6.3 Q26.8 6.3 29.8 7.45 Q32.8 8.6 34.7 10.35 Q36.6 12.1 37.5 14.15 Q38.4 16.2 38.4 18 Z\"\n",
       "        /><glyph unicode=\"M\" horiz-adv-x=\"87.1\" d=\"M8 71.4 L8 0 L17 0 L17 59.4 L17.2 59.4 L39.5 0 L47.6 0 L69.9 59.4 L70.1 59.4 L70.1 0 L79.1 0 L79.1 71.4 L66.1 71.4 L43.5 11.4 L21 71.4 Z\"\n",
       "        /><glyph unicode=\"1\" horiz-adv-x=\"55.6\" d=\"M35.6 0 L35.6 70.9 L29.1 70.9 Q28.4 66.9 26.5 64.3 Q24.6 61.7 21.85 60.2 Q19.1 58.7 15.7 58.15 Q12.3 57.6 8.7 57.6 L8.7 50.8 L27.1 50.8 L27.1 0 Z\"\n",
       "        /><glyph unicode=\"5\" horiz-adv-x=\"55.6\" d=\"M47 62.2 L47 69.7 L12 69.7 L5.4 32.9 L12.7 32.5 Q15.2 35.5 18.45 37.35 Q21.7 39.2 25.9 39.2 Q29.5 39.2 32.45 38 Q35.4 36.8 37.5 34.65 Q39.6 32.5 40.75 29.55 Q41.9 26.6 41.9 23.1 Q41.9 18.9 40.7 15.75 Q39.5 12.6 37.45 10.5 Q35.4 8.4 32.65 7.35 Q29.9 6.3 26.9 6.3 Q23.7 6.3 21.05 7.25 Q18.4 8.2 16.45 9.95 Q14.5 11.7 13.35 14.05 Q12.2 16.4 12 19.1 L3.5 19.1 Q3.6 14.3 5.4 10.5 Q7.2 6.7 10.3 4.15 Q13.4 1.6 17.45 0.25 Q21.5 -1.1 26.1 -1.1 Q32.3 -1.1 36.95 0.85 Q41.6 2.8 44.7 6.1 Q47.8 9.4 49.35 13.65 Q50.9 17.9 50.9 22.4 Q50.9 28.5 49.1 33.05 Q47.3 37.6 44.2 40.65 Q41.1 43.7 36.9 45.2 Q32.7 46.7 28 46.7 Q24.4 46.7 20.75 45.45 Q17.1 44.2 14.8 41.6 L14.6 41.8 L18.4 62.2 Z\"\n",
       "        /><glyph unicode=\"9\" horiz-adv-x=\"55.6\" d=\"M13.4 17.1 L4.9 17.1 Q5.7 7.9 11.6 3.4 Q17.5 -1.1 26.4 -1.1 Q39.3 -1.1 45.15 8.75 Q51 18.6 51 37 Q51 47.1 49.05 53.65 Q47.1 60.2 43.8 64 Q40.5 67.8 36.1 69.35 Q31.7 70.9 26.7 70.9 Q21.6 70.9 17.3 69.2 Q13 67.5 9.9 64.45 Q6.8 61.4 5.1 57.15 Q3.4 52.9 3.4 47.8 Q3.4 42.6 4.85 38.2 Q6.3 33.8 9.15 30.7 Q12 27.6 16.2 25.85 Q20.4 24.1 25.8 24.1 Q31 24.1 35.4 26.75 Q39.8 29.4 42.2 33.9 L42.4 33.7 Q42 19.8 38.1 13.05 Q34.2 6.3 26.4 6.3 Q21.3 6.3 17.6 9.1 Q13.9 11.9 13.4 17.1 ZM40.9 47.2 Q40.9 44.1 39.9 41.25 Q38.9 38.4 37 36.25 Q35.1 34.1 32.4 32.85 Q29.7 31.6 26.4 31.6 Q23.3 31.6 20.75 32.85 Q18.2 34.1 16.35 36.2 Q14.5 38.3 13.45 41 Q12.4 43.7 12.4 46.6 Q12.4 49.9 13.15 52.9 Q13.9 55.9 15.55 58.25 Q17.2 60.6 19.85 62 Q22.5 63.4 26.3 63.4 Q29.9 63.4 32.6 62.1 Q35.3 60.8 37.15 58.55 Q39 56.3 39.95 53.4 Q40.9 50.5 40.9 47.2 Z\"\n",
       "        /><glyph unicode=\"3\" horiz-adv-x=\"55.6\" d=\"M21.8 40.5 L21.8 33.3 Q24.2 33.6 26.9 33.6 Q30.1 33.6 32.85 32.75 Q35.6 31.9 37.6 30.15 Q39.6 28.4 40.8 25.85 Q42 23.3 42 20 Q42 16.8 40.75 14.25 Q39.5 11.7 37.4 9.95 Q35.3 8.2 32.5 7.25 Q29.7 6.3 26.6 6.3 Q19.3 6.3 15.5 10.65 Q11.7 15 11.5 21.9 L3 21.9 Q2.9 16.4 4.55 12.1 Q6.2 7.8 9.3 4.85 Q12.4 1.9 16.8 0.4 Q21.2 -1.1 26.6 -1.1 Q31.6 -1.1 36.05 0.25 Q40.5 1.6 43.8 4.3 Q47.1 7 49.05 11.05 Q51 15.1 51 20.4 Q51 26.8 47.85 31.5 Q44.7 36.2 38.2 37.6 L38.2 37.8 Q42.4 39.7 45.2 43.4 Q48 47.1 48 51.9 Q48 56.8 46.35 60.4 Q44.7 64 41.8 66.3 Q38.9 68.6 34.95 69.75 Q31 70.9 26.4 70.9 Q21.1 70.9 17.05 69.2 Q13 67.5 10.3 64.5 Q7.6 61.5 6.15 57.3 Q4.7 53.1 4.5 48 L13 48 Q13 51.1 13.8 53.9 Q14.6 56.7 16.25 58.8 Q17.9 60.9 20.45 62.15 Q23 63.4 26.4 63.4 Q31.8 63.4 35.4 60.55 Q39 57.7 39 52 Q39 49.2 37.9 47 Q36.8 44.8 34.95 43.35 Q33.1 41.9 30.65 41.15 Q28.2 40.4 25.5 40.4 L23.7 40.4 Q23.2 40.4 22.7 40.4 Q22.3 40.4 21.8 40.5 Z\"\n",
       "        /><glyph unicode=\"s\" horiz-adv-x=\"50.0\" d=\"M11.6 16.3 L3.1 16.3 Q3.3 11.5 5.1 8.15 Q6.9 4.8 9.9 2.75 Q12.9 0.7 16.8 -0.2 Q20.7 -1.1 25 -1.1 Q28.9 -1.1 32.85 -0.35 Q36.8 0.4 39.95 2.3 Q43.1 4.2 45.05 7.3 Q47 10.4 47 15.1 Q47 18.8 45.55 21.3 Q44.1 23.8 41.75 25.45 Q39.4 27.1 36.35 28.1 Q33.3 29.1 30.1 29.8 Q27.1 30.5 24.1 31.15 Q21.1 31.8 18.7 32.75 Q16.3 33.7 14.75 35.15 Q13.2 36.6 13.2 38.8 Q13.2 40.8 14.2 42.05 Q15.2 43.3 16.8 44.05 Q18.4 44.8 20.35 45.1 Q22.3 45.4 24.2 45.4 Q26.3 45.4 28.35 44.95 Q30.4 44.5 32.1 43.5 Q33.8 42.5 34.9 40.85 Q36 39.2 36.2 36.7 L44.7 36.7 Q44.4 41.4 42.7 44.55 Q41 47.7 38.15 49.55 Q35.3 51.4 31.6 52.15 Q27.9 52.9 23.5 52.9 Q20.1 52.9 16.65 52.05 Q13.2 51.2 10.45 49.45 Q7.7 47.7 5.95 44.9 Q4.2 42.1 4.2 38.2 Q4.2 33.2 6.7 30.4 Q9.2 27.6 12.95 26.05 Q16.7 24.5 21.1 23.65 Q25.5 22.8 29.25 21.75 Q33 20.7 35.5 19 Q38 17.3 38 14 Q38 11.6 36.8 10.05 Q35.6 8.5 33.75 7.7 Q31.9 6.9 29.7 6.6 Q27.5 6.3 25.5 6.3 Q22.9 6.3 20.45 6.8 Q18 7.3 16.05 8.45 Q14.1 9.6 12.9 11.55 Q11.7 13.5 11.6 16.3 Z\"\n",
       "        /><glyph unicode=\"h\" horiz-adv-x=\"55.6\" d=\"M6.4 71.4 L6.4 0 L14.9 0 L14.9 29.2 Q14.9 32.7 15.85 35.65 Q16.8 38.6 18.7 40.8 Q20.6 43 23.45 44.2 Q26.3 45.4 30.2 45.4 Q35.1 45.4 37.9 42.6 Q40.7 39.8 40.7 35 L40.7 0 L49.2 0 L49.2 34 Q49.2 38.2 48.35 41.65 Q47.5 45.1 45.4 47.6 Q43.3 50.1 39.9 51.5 Q36.5 52.9 31.4 52.9 Q29.1 52.9 26.65 52.4 Q24.2 51.9 21.95 50.85 Q19.7 49.8 17.9 48.15 Q16.1 46.5 15.1 44.1 L14.9 44.1 L14.9 71.4 Z\"\n",
       "        /><glyph unicode=\"P\" horiz-adv-x=\"64.8\" d=\"M17.3 37.2 L17.3 63.4 L35.9 63.4 Q44 63.4 47.75 60.05 Q51.5 56.7 51.5 50.3 Q51.5 43.9 47.75 40.5 Q44 37.1 35.9 37.2 ZM7.8 71.4 L7.8 0 L17.3 0 L17.3 29.2 L39.1 29.2 Q49.9 29.1 55.45 34.7 Q61 40.3 61 50.3 Q61 60.3 55.45 65.85 Q49.9 71.4 39.1 71.4 Z\"\n",
       "        /><glyph unicode=\"/\" horiz-adv-x=\"33.3\" d=\"M27.8 73.1 L-1.7 -1.6 L5.5 -1.6 L35.1 73.1 Z\"\n",
       "        /><glyph unicode=\"y\" horiz-adv-x=\"50.0\" d=\"M26.7 -6.9 Q25.2 -10.7 23.75 -13.3 Q22.3 -15.9 20.55 -17.55 Q18.8 -19.2 16.65 -19.95 Q14.5 -20.7 11.7 -20.7 Q10.2 -20.7 8.7 -20.5 Q7.2 -20.3 5.8 -19.8 L5.8 -12 Q6.9 -12.5 8.35 -12.85 Q9.8 -13.2 10.8 -13.2 Q13.4 -13.2 15.15 -11.95 Q16.9 -10.7 17.8 -8.4 L21.3 0.3 L0.8 51.7 L10.4 51.7 L25.5 9.4 L25.7 9.4 L40.2 51.7 L49.2 51.7 Z\"\n",
       "        /><glyph unicode=\"c\" horiz-adv-x=\"53.7\" d=\"M41.5 35.1 L50.3 35.1 Q49.8 39.7 47.9 43.05 Q46 46.4 43.05 48.6 Q40.1 50.8 36.25 51.85 Q32.4 52.9 28 52.9 Q21.9 52.9 17.3 50.75 Q12.7 48.6 9.65 44.85 Q6.6 41.1 5.1 36.05 Q3.6 31 3.6 25.2 Q3.6 19.4 5.15 14.55 Q6.7 9.7 9.75 6.2 Q12.8 2.7 17.35 0.8 Q21.9 -1.1 27.8 -1.1 Q37.7 -1.1 43.45 4.1 Q49.2 9.3 50.6 18.9 L41.9 18.9 Q41.1 12.9 37.55 9.6 Q34 6.3 27.7 6.3 Q23.7 6.3 20.8 7.9 Q17.9 9.5 16.1 12.15 Q14.3 14.8 13.45 18.2 Q12.6 21.6 12.6 25.2 Q12.6 29.1 13.4 32.75 Q14.2 36.4 16.05 39.2 Q17.9 42 21 43.7 Q24.1 45.4 28.7 45.4 Q34.1 45.4 37.3 42.7 Q40.5 40 41.5 35.1 Z\"\n",
       "        /><glyph unicode=\"q\" horiz-adv-x=\"59.3\" d=\"M12.6 25.4 Q12.6 29.2 13.4 32.8 Q14.2 36.4 16 39.2 Q17.8 42 20.8 43.7 Q23.8 45.4 28.1 45.4 Q32.5 45.4 35.6 43.75 Q38.7 42.1 40.65 39.4 Q42.6 36.7 43.5 33.15 Q44.4 29.6 44.4 25.8 Q44.4 22.2 43.55 18.7 Q42.7 15.2 40.8 12.45 Q38.9 9.7 35.9 8 Q32.9 6.3 28.6 6.3 Q24.5 6.3 21.45 7.9 Q18.4 9.5 16.45 12.2 Q14.5 14.9 13.55 18.35 Q12.6 21.8 12.6 25.4 ZM52.6 -19.7 L52.6 51.7 L44.1 51.7 L44.1 44.8 L43.9 44.8 Q42.5 47.1 40.45 48.65 Q38.4 50.2 36.1 51.15 Q33.8 52.1 31.5 52.5 Q29.2 52.9 27.2 52.9 Q21.3 52.9 16.85 50.75 Q12.4 48.6 9.45 44.95 Q6.5 41.3 5.05 36.4 Q3.6 31.5 3.6 26 Q3.6 20.5 5.1 15.6 Q6.6 10.7 9.55 7 Q12.5 3.3 16.95 1.1 Q21.4 -1.1 27.4 -1.1 Q32.8 -1.1 37.3 0.8 Q41.8 2.7 43.9 7 L44.1 7 L44.1 -19.7 Z\"\n",
       "        /><glyph unicode=\"r\" horiz-adv-x=\"33.3\" d=\"M6.1 51.7 L6.1 0 L14.6 0 L14.6 23 Q14.6 28 15.6 31.85 Q16.6 35.7 18.8 38.4 Q21 41.1 24.6 42.5 Q28.2 43.9 33.3 43.9 L33.3 52.9 Q26.4 53.1 21.9 50.1 Q17.4 47.1 14.3 40.8 L14.1 40.8 L14.1 51.7 Z\"\n",
       "        /><glyph unicode=\"F\" horiz-adv-x=\"57.4\" d=\"M7.8 71.4 L7.8 0 L17.3 0 L17.3 32.7 L50.1 32.7 L50.1 40.7 L17.3 40.7 L17.3 63.4 L54.7 63.4 L54.7 71.4 Z\"\n",
       "      /></font\n",
       "      ><font horiz-adv-x=\"50.0\" id=\"font2\"\n",
       "      ><font-face ascent=\"97.5\" descent=\"21.699999\" units-per-em=\"100\" style=\"font-style:normal; font-family:Helvetica Neue; font-weight:bold;\"\n",
       "        /><missing-glyph horiz-adv-x=\"50.0\" d=\"M39.1 60.7 L11.1 60.7 L11.1 9.5 L39.1 9.5 ZM48.2 69.8 L48.2 0.3 L1.7 0.3 L1.7 69.8 Z\"\n",
       "        /><glyph unicode=\"m\" horiz-adv-x=\"90.6\" d=\"M5.8 51.7 L5.8 0 L20 0 L20 30 Q20 33.8 21.1 36.15 Q22.2 38.5 23.75 39.75 Q25.3 41 26.95 41.45 Q28.6 41.9 29.6 41.9 Q33 41.9 34.75 40.75 Q36.5 39.6 37.25 37.7 Q38 35.8 38.1 33.55 Q38.2 31.3 38.2 29 L38.2 0 L52.4 0 L52.4 28.8 Q52.4 31.2 52.75 33.55 Q53.1 35.9 54.15 37.75 Q55.2 39.6 57.05 40.75 Q58.9 41.9 61.9 41.9 Q64.9 41.9 66.65 40.9 Q68.4 39.9 69.3 38.2 Q70.2 36.5 70.4 34.2 Q70.6 31.9 70.6 29.3 L70.6 0 L84.8 0 L84.8 34.6 Q84.8 39.6 83.4 43.15 Q82 46.7 79.5 48.9 Q77 51.1 73.5 52.1 Q70 53.1 65.9 53.1 Q60.5 53.1 56.55 50.5 Q52.6 47.9 50.3 44.5 Q48.2 49.3 44.15 51.2 Q40.1 53.1 35.2 53.1 Q30.1 53.1 26.15 50.9 Q22.2 48.7 19.4 44.7 L19.2 44.7 L19.2 51.7 Z\"\n",
       "        /><glyph unicode=\"r\" horiz-adv-x=\"38.9\" d=\"M5.4 51.7 L5.4 0 L19.6 0 L19.6 23.3 Q19.6 26.8 20.3 29.8 Q21 32.8 22.65 35.05 Q24.3 37.3 27 38.6 Q29.7 39.9 33.6 39.9 Q34.9 39.9 36.3 39.75 Q37.7 39.6 38.7 39.4 L38.7 52.6 Q37 53.1 35.6 53.1 Q32.9 53.1 30.4 52.3 Q27.9 51.5 25.7 50.05 Q23.5 48.6 21.8 46.55 Q20.1 44.5 19.1 42.1 L18.9 42.1 L18.9 51.7 Z\"\n",
       "        /><glyph unicode=\"g\" horiz-adv-x=\"61.1\" d=\"M29.5 12.2 Q26.2 12.2 24 13.6 Q21.8 15 20.45 17.2 Q19.1 19.4 18.55 22.15 Q18 24.9 18 27.7 Q18 30.6 18.65 33.25 Q19.3 35.9 20.75 37.95 Q22.2 40 24.35 41.2 Q26.5 42.4 29.5 42.4 Q33 42.4 35.3 41.1 Q37.6 39.8 39 37.6 Q40.4 35.4 41 32.55 Q41.6 29.7 41.6 26.5 Q41.6 23.7 40.85 21.15 Q40.1 18.6 38.6 16.6 Q37.1 14.6 34.8 13.4 Q32.5 12.2 29.5 12.2 ZM55.1 3.3 L55.1 51.7 L41.6 51.7 L41.6 44.8 L41.4 44.8 Q38.8 49.3 34.95 51.2 Q31.1 53.1 26 53.1 Q20.6 53.1 16.45 51 Q12.3 48.9 9.5 45.35 Q6.7 41.8 5.25 37.15 Q3.8 32.5 3.8 27.5 Q3.8 22.2 5.05 17.45 Q6.3 12.7 9 9.15 Q11.7 5.6 15.9 3.55 Q20.1 1.5 25.9 1.5 Q30.6 1.5 34.85 3.45 Q39.1 5.4 41.4 9.5 L41.6 9.5 L41.6 2.7 Q41.7 -2.8 38.95 -6.4 Q36.2 -10 30.2 -10 Q26.4 -10 23.5 -8.45 Q20.6 -6.9 19.6 -2.9 L5.5 -2.9 Q5.8 -7.3 7.95 -10.45 Q10.1 -13.6 13.35 -15.6 Q16.6 -17.6 20.55 -18.55 Q24.5 -19.5 28.3 -19.5 Q37.2 -19.5 42.5 -17.1 Q47.8 -14.7 50.6 -11.25 Q53.4 -7.8 54.25 -3.8 Q55.1 0.2 55.1 3.3 Z\"\n",
       "        /><glyph unicode=\"a\" horiz-adv-x=\"57.4\" d=\"M4.8 35.8 Q5.1 40.8 7.3 44.1 Q9.5 47.4 12.9 49.4 Q16.3 51.4 20.55 52.25 Q24.8 53.1 29.1 53.1 Q33 53.1 37 52.55 Q41 52 44.3 50.4 Q47.6 48.8 49.7 45.95 Q51.8 43.1 51.8 38.4 L51.8 11.5 Q51.8 8 52.2 4.8 Q52.6 1.6 53.6 0 L39.2 0 Q38.8 1.2 38.55 2.45 Q38.3 3.7 38.2 5 Q34.8 1.5 30.2 0.1 Q25.6 -1.3 20.8 -1.3 Q17.1 -1.3 13.9 -0.4 Q10.7 0.5 8.3 2.4 Q5.9 4.3 4.55 7.2 Q3.2 10.1 3.2 14.1 Q3.2 18.5 4.75 21.35 Q6.3 24.2 8.75 25.9 Q11.2 27.6 14.35 28.45 Q17.5 29.3 20.7 29.8 Q23.9 30.3 27 30.6 Q30.1 30.9 32.5 31.5 Q34.9 32.1 36.3 33.25 Q37.7 34.4 37.6 36.6 Q37.6 38.9 36.85 40.25 Q36.1 41.6 34.85 42.35 Q33.6 43.1 31.95 43.35 Q30.3 43.6 28.4 43.6 Q24.2 43.6 21.8 41.8 Q19.4 40 19 35.8 ZM37.6 25.3 Q36.7 24.5 35.35 24.05 Q34 23.6 32.45 23.3 Q30.9 23 29.2 22.8 Q27.5 22.6 25.8 22.3 Q24.2 22 22.65 21.5 Q21.1 21 19.95 20.15 Q18.8 19.3 18.1 18 Q17.4 16.7 17.4 14.7 Q17.4 12.8 18.1 11.5 Q18.8 10.2 20 9.45 Q21.2 8.7 22.8 8.4 Q24.4 8.1 26.1 8.1 Q30.3 8.1 32.6 9.5 Q34.9 10.9 36 12.85 Q37.1 14.8 37.35 16.8 Q37.6 18.8 37.6 20 Z\"\n",
       "        /><glyph unicode=\"i\" horiz-adv-x=\"25.8\" d=\"M20 59.7 L20 71.4 L5.8 71.4 L5.8 59.7 ZM5.8 51.7 L5.8 0 L20 0 L20 51.7 Z\"\n",
       "        /><glyph unicode=\"D\" horiz-adv-x=\"74.1\" d=\"M22.6 13.2 L22.6 58.2 L33.8 58.2 Q39.6 58.2 43.55 56.55 Q47.5 54.9 49.9 51.8 Q52.3 48.7 53.35 44.35 Q54.4 40 54.4 34.6 Q54.4 28.7 52.9 24.6 Q51.4 20.5 48.9 17.95 Q46.4 15.4 43.2 14.3 Q40 13.2 36.6 13.2 ZM6.9 71.4 L6.9 0 L37.7 0 Q45.9 0 51.95 2.75 Q58 5.5 62.05 10.3 Q66.1 15.1 68.1 21.7 Q70.1 28.3 70.1 36.1 Q70.1 45 67.65 51.6 Q65.2 58.2 60.85 62.6 Q56.5 67 50.55 69.2 Q44.6 71.4 37.7 71.4 Z\"\n",
       "        /><glyph unicode=\" \" horiz-adv-x=\"27.8\" d=\"\"\n",
       "        /><glyph unicode=\"e\" horiz-adv-x=\"57.4\" d=\"M40.2 31.4 L17.1 31.4 Q17.2 32.9 17.75 34.8 Q18.3 36.7 19.65 38.4 Q21 40.1 23.25 41.25 Q25.5 42.4 28.9 42.4 Q34.1 42.4 36.65 39.6 Q39.2 36.8 40.2 31.4 ZM17.1 22.4 L54.4 22.4 Q54.8 28.4 53.4 33.9 Q52 39.4 48.85 43.7 Q45.7 48 40.8 50.55 Q35.9 53.1 29.3 53.1 Q23.4 53.1 18.55 51 Q13.7 48.9 10.2 45.25 Q6.7 41.6 4.8 36.6 Q2.9 31.6 2.9 25.8 Q2.9 19.8 4.75 14.8 Q6.6 9.8 10 6.2 Q13.4 2.6 18.3 0.65 Q23.2 -1.3 29.3 -1.3 Q38.1 -1.3 44.3 2.7 Q50.5 6.7 53.5 16 L41 16 Q40.3 13.6 37.2 11.45 Q34.1 9.3 29.8 9.3 Q23.8 9.3 20.6 12.4 Q17.4 15.5 17.1 22.4 Z\"\n",
       "        /><glyph unicode=\"d\" horiz-adv-x=\"61.1\" d=\"M42.1 26 Q42.1 22.8 41.5 19.8 Q40.9 16.8 39.5 14.45 Q38.1 12.1 35.75 10.7 Q33.4 9.3 29.9 9.3 Q26.6 9.3 24.25 10.75 Q21.9 12.2 20.35 14.55 Q18.8 16.9 18.1 19.9 Q17.4 22.9 17.4 25.9 Q17.4 29.1 18.05 32.05 Q18.7 35 20.15 37.3 Q21.6 39.6 24 41 Q26.4 42.4 29.9 42.4 Q33.4 42.4 35.7 41 Q38 39.6 39.45 37.35 Q40.9 35.1 41.5 32.15 Q42.1 29.2 42.1 26 ZM42.3 6.6 L42.3 0 L55.8 0 L55.8 71.4 L41.6 71.4 L41.6 45.4 L41.4 45.4 Q39 49.2 34.85 51.15 Q30.7 53.1 26.1 53.1 Q20.4 53.1 16.1 50.85 Q11.8 48.6 8.95 44.9 Q6.1 41.2 4.65 36.35 Q3.2 31.5 3.2 26.3 Q3.2 20.9 4.65 15.9 Q6.1 10.9 8.95 7.05 Q11.8 3.2 16.2 0.95 Q20.6 -1.3 26.4 -1.3 Q31.5 -1.3 35.55 0.55 Q39.6 2.4 42.1 6.6 Z\"\n",
       "        /><glyph unicode=\"o\" horiz-adv-x=\"61.1\" d=\"M18 25.8 Q18 28.9 18.6 31.9 Q19.2 34.9 20.65 37.2 Q22.1 39.5 24.5 40.95 Q26.9 42.4 30.5 42.4 Q34.1 42.4 36.55 40.95 Q39 39.5 40.45 37.2 Q41.9 34.9 42.5 31.9 Q43.1 28.9 43.1 25.8 Q43.1 22.7 42.5 19.75 Q41.9 16.8 40.45 14.45 Q39 12.1 36.55 10.7 Q34.1 9.3 30.5 9.3 Q26.9 9.3 24.5 10.7 Q22.1 12.1 20.65 14.45 Q19.2 16.8 18.6 19.75 Q18 22.7 18 25.8 ZM3.8 25.8 Q3.8 19.6 5.7 14.6 Q7.6 9.6 11.1 6.05 Q14.6 2.5 19.5 0.6 Q24.4 -1.3 30.5 -1.3 Q36.6 -1.3 41.55 0.6 Q46.5 2.5 50 6.05 Q53.5 9.6 55.4 14.6 Q57.3 19.6 57.3 25.8 Q57.3 32 55.4 37.05 Q53.5 42.1 50 45.65 Q46.5 49.2 41.55 51.15 Q36.6 53.1 30.5 53.1 Q24.4 53.1 19.5 51.15 Q14.6 49.2 11.1 45.65 Q7.6 42.1 5.7 37.05 Q3.8 32 3.8 25.8 Z\"\n",
       "        /><glyph unicode=\"B\" horiz-adv-x=\"70.4\" d=\"M22.6 42.5 L22.6 59.2 L37.3 59.2 Q39.4 59.2 41.35 58.85 Q43.3 58.5 44.8 57.6 Q46.3 56.7 47.2 55.1 Q48.1 53.5 48.1 51 Q48.1 46.5 45.4 44.5 Q42.7 42.5 38.5 42.5 ZM6.9 71.4 L6.9 0 L41.5 0 Q46.3 0 50.85 1.2 Q55.4 2.4 58.95 4.9 Q62.5 7.4 64.6 11.35 Q66.7 15.3 66.7 20.7 Q66.7 27.4 63.45 32.15 Q60.2 36.9 53.6 38.8 Q58.4 41.1 60.85 44.7 Q63.3 48.3 63.3 53.7 Q63.3 58.7 61.65 62.1 Q60 65.5 57 67.55 Q54 69.6 49.8 70.5 Q45.6 71.4 40.5 71.4 ZM22.6 12.2 L22.6 31.8 L39.7 31.8 Q44.8 31.8 47.9 29.45 Q51 27.1 51 21.6 Q51 18.8 50.05 17 Q49.1 15.2 47.5 14.15 Q45.9 13.1 43.8 12.65 Q41.7 12.2 39.4 12.2 Z\"\n",
       "      /></font\n",
       "    ></defs\n",
       "    ><g style=\"fill:white; stroke:white;\"\n",
       "    ><rect x=\"0\" y=\"0\" width=\"560\" style=\"clip-path:url(#clipPath1); stroke:none;\" height=\"420\"\n",
       "    /></g\n",
       "    ><g style=\"fill:white; text-rendering:optimizeSpeed; color-rendering:optimizeSpeed; image-rendering:optimizeSpeed; shape-rendering:crispEdges; stroke:white; color-interpolation:sRGB;\"\n",
       "    ><rect x=\"0\" width=\"560\" height=\"420\" y=\"0\" style=\"stroke:none;\"\n",
       "      /><path style=\"stroke:none;\" d=\"M85 216 L507 216 L507 51.5 L85 51.5 Z\"\n",
       "    /></g\n",
       "    ><g style=\"fill:rgb(102,102,102); text-rendering:geometricPrecision; image-rendering:optimizeQuality; color-rendering:optimizeQuality; stroke-linejoin:round; stroke:rgb(102,102,102); color-interpolation:linearRGB; stroke-width:0.5;\"\n",
       "    ><line y2=\"216\" style=\"fill:none;\" x1=\"85\" x2=\"507\" y1=\"216\"\n",
       "      /><line y2=\"51.5\" style=\"fill:none;\" x1=\"85\" x2=\"507\" y1=\"51.5\"\n",
       "      /><line y2=\"211.78\" style=\"fill:none;\" x1=\"85\" x2=\"85\" y1=\"216\"\n",
       "      /><line y2=\"211.78\" style=\"fill:none;\" x1=\"190.5\" x2=\"190.5\" y1=\"216\"\n",
       "      /><line y2=\"211.78\" style=\"fill:none;\" x1=\"296\" x2=\"296\" y1=\"216\"\n",
       "      /><line y2=\"211.78\" style=\"fill:none;\" x1=\"401.5\" x2=\"401.5\" y1=\"216\"\n",
       "      /><line y2=\"211.78\" style=\"fill:none;\" x1=\"507\" x2=\"507\" y1=\"216\"\n",
       "      /><line y2=\"55.72\" style=\"fill:none;\" x1=\"85\" x2=\"85\" y1=\"51.5\"\n",
       "      /><line y2=\"55.72\" style=\"fill:none;\" x1=\"190.5\" x2=\"190.5\" y1=\"51.5\"\n",
       "      /><line y2=\"55.72\" style=\"fill:none;\" x1=\"296\" x2=\"296\" y1=\"51.5\"\n",
       "      /><line y2=\"55.72\" style=\"fill:none;\" x1=\"401.5\" x2=\"401.5\" y1=\"51.5\"\n",
       "      /><line y2=\"55.72\" style=\"fill:none;\" x1=\"507\" x2=\"507\" y1=\"51.5\"\n",
       "      /><line y2=\"213.89\" style=\"fill:none;\" x1=\"85\" x2=\"85\" y1=\"216\"\n",
       "      /><line y2=\"213.89\" style=\"fill:none;\" x1=\"116.7587\" x2=\"116.7587\" y1=\"216\"\n",
       "      /><line y2=\"213.89\" style=\"fill:none;\" x1=\"135.3363\" x2=\"135.3363\" y1=\"216\"\n",
       "      /><line y2=\"213.89\" style=\"fill:none;\" x1=\"148.5173\" x2=\"148.5173\" y1=\"216\"\n",
       "      /><line y2=\"213.89\" style=\"fill:none;\" x1=\"158.7413\" x2=\"158.7413\" y1=\"216\"\n",
       "      /><line y2=\"213.89\" style=\"fill:none;\" x1=\"167.095\" x2=\"167.095\" y1=\"216\"\n",
       "      /><line y2=\"213.89\" style=\"fill:none;\" x1=\"174.1578\" x2=\"174.1578\" y1=\"216\"\n",
       "      /><line y2=\"213.89\" style=\"fill:none;\" x1=\"180.276\" x2=\"180.276\" y1=\"216\"\n",
       "      /><line y2=\"213.89\" style=\"fill:none;\" x1=\"185.6726\" x2=\"185.6726\" y1=\"216\"\n",
       "      /><line y2=\"213.89\" style=\"fill:none;\" x1=\"190.5\" x2=\"190.5\" y1=\"216\"\n",
       "      /><line y2=\"213.89\" style=\"fill:none;\" x1=\"222.2587\" x2=\"222.2587\" y1=\"216\"\n",
       "      /><line y2=\"213.89\" style=\"fill:none;\" x1=\"240.8363\" x2=\"240.8363\" y1=\"216\"\n",
       "      /><line y2=\"213.89\" style=\"fill:none;\" x1=\"254.0173\" x2=\"254.0173\" y1=\"216\"\n",
       "      /><line y2=\"213.89\" style=\"fill:none;\" x1=\"264.2413\" x2=\"264.2413\" y1=\"216\"\n",
       "      /><line y2=\"213.89\" style=\"fill:none;\" x1=\"272.595\" x2=\"272.595\" y1=\"216\"\n",
       "      /><line y2=\"213.89\" style=\"fill:none;\" x1=\"279.6578\" x2=\"279.6578\" y1=\"216\"\n",
       "      /><line y2=\"213.89\" style=\"fill:none;\" x1=\"285.776\" x2=\"285.776\" y1=\"216\"\n",
       "      /><line y2=\"213.89\" style=\"fill:none;\" x1=\"291.1726\" x2=\"291.1726\" y1=\"216\"\n",
       "      /><line y2=\"213.89\" style=\"fill:none;\" x1=\"296\" x2=\"296\" y1=\"216\"\n",
       "      /><line y2=\"213.89\" style=\"fill:none;\" x1=\"327.7587\" x2=\"327.7587\" y1=\"216\"\n",
       "      /><line y2=\"213.89\" style=\"fill:none;\" x1=\"346.3363\" x2=\"346.3363\" y1=\"216\"\n",
       "      /><line y2=\"213.89\" style=\"fill:none;\" x1=\"359.5173\" x2=\"359.5173\" y1=\"216\"\n",
       "      /><line y2=\"213.89\" style=\"fill:none;\" x1=\"369.7413\" x2=\"369.7413\" y1=\"216\"\n",
       "      /><line y2=\"213.89\" style=\"fill:none;\" x1=\"378.095\" x2=\"378.095\" y1=\"216\"\n",
       "      /><line y2=\"213.89\" style=\"fill:none;\" x1=\"385.1578\" x2=\"385.1578\" y1=\"216\"\n",
       "      /><line y2=\"213.89\" style=\"fill:none;\" x1=\"391.276\" x2=\"391.276\" y1=\"216\"\n",
       "      /><line y2=\"213.89\" style=\"fill:none;\" x1=\"396.6726\" x2=\"396.6726\" y1=\"216\"\n",
       "      /><line y2=\"213.89\" style=\"fill:none;\" x1=\"401.5\" x2=\"401.5\" y1=\"216\"\n",
       "      /><line y2=\"213.89\" style=\"fill:none;\" x1=\"433.2587\" x2=\"433.2587\" y1=\"216\"\n",
       "      /><line y2=\"213.89\" style=\"fill:none;\" x1=\"451.8363\" x2=\"451.8363\" y1=\"216\"\n",
       "      /><line y2=\"213.89\" style=\"fill:none;\" x1=\"465.0173\" x2=\"465.0173\" y1=\"216\"\n",
       "      /><line y2=\"213.89\" style=\"fill:none;\" x1=\"475.2413\" x2=\"475.2413\" y1=\"216\"\n",
       "      /><line y2=\"213.89\" style=\"fill:none;\" x1=\"483.595\" x2=\"483.595\" y1=\"216\"\n",
       "      /><line y2=\"213.89\" style=\"fill:none;\" x1=\"490.6578\" x2=\"490.6578\" y1=\"216\"\n",
       "      /><line y2=\"213.89\" style=\"fill:none;\" x1=\"496.776\" x2=\"496.776\" y1=\"216\"\n",
       "      /><line y2=\"213.89\" style=\"fill:none;\" x1=\"502.1726\" x2=\"502.1726\" y1=\"216\"\n",
       "      /><line y2=\"213.89\" style=\"fill:none;\" x1=\"507\" x2=\"507\" y1=\"216\"\n",
       "      /><line y2=\"53.61\" style=\"fill:none;\" x1=\"85\" x2=\"85\" y1=\"51.5\"\n",
       "      /><line y2=\"53.61\" style=\"fill:none;\" x1=\"116.7587\" x2=\"116.7587\" y1=\"51.5\"\n",
       "      /><line y2=\"53.61\" style=\"fill:none;\" x1=\"135.3363\" x2=\"135.3363\" y1=\"51.5\"\n",
       "      /><line y2=\"53.61\" style=\"fill:none;\" x1=\"148.5173\" x2=\"148.5173\" y1=\"51.5\"\n",
       "      /><line y2=\"53.61\" style=\"fill:none;\" x1=\"158.7413\" x2=\"158.7413\" y1=\"51.5\"\n",
       "      /><line y2=\"53.61\" style=\"fill:none;\" x1=\"167.095\" x2=\"167.095\" y1=\"51.5\"\n",
       "      /><line y2=\"53.61\" style=\"fill:none;\" x1=\"174.1578\" x2=\"174.1578\" y1=\"51.5\"\n",
       "      /><line y2=\"53.61\" style=\"fill:none;\" x1=\"180.276\" x2=\"180.276\" y1=\"51.5\"\n",
       "      /><line y2=\"53.61\" style=\"fill:none;\" x1=\"185.6726\" x2=\"185.6726\" y1=\"51.5\"\n",
       "      /><line y2=\"53.61\" style=\"fill:none;\" x1=\"190.5\" x2=\"190.5\" y1=\"51.5\"\n",
       "      /><line y2=\"53.61\" style=\"fill:none;\" x1=\"222.2587\" x2=\"222.2587\" y1=\"51.5\"\n",
       "      /><line y2=\"53.61\" style=\"fill:none;\" x1=\"240.8363\" x2=\"240.8363\" y1=\"51.5\"\n",
       "      /><line y2=\"53.61\" style=\"fill:none;\" x1=\"254.0173\" x2=\"254.0173\" y1=\"51.5\"\n",
       "      /><line y2=\"53.61\" style=\"fill:none;\" x1=\"264.2413\" x2=\"264.2413\" y1=\"51.5\"\n",
       "      /><line y2=\"53.61\" style=\"fill:none;\" x1=\"272.595\" x2=\"272.595\" y1=\"51.5\"\n",
       "      /><line y2=\"53.61\" style=\"fill:none;\" x1=\"279.6578\" x2=\"279.6578\" y1=\"51.5\"\n",
       "      /><line y2=\"53.61\" style=\"fill:none;\" x1=\"285.776\" x2=\"285.776\" y1=\"51.5\"\n",
       "      /><line y2=\"53.61\" style=\"fill:none;\" x1=\"291.1726\" x2=\"291.1726\" y1=\"51.5\"\n",
       "      /><line y2=\"53.61\" style=\"fill:none;\" x1=\"296\" x2=\"296\" y1=\"51.5\"\n",
       "      /><line y2=\"53.61\" style=\"fill:none;\" x1=\"327.7587\" x2=\"327.7587\" y1=\"51.5\"\n",
       "      /><line y2=\"53.61\" style=\"fill:none;\" x1=\"346.3363\" x2=\"346.3363\" y1=\"51.5\"\n",
       "      /><line y2=\"53.61\" style=\"fill:none;\" x1=\"359.5173\" x2=\"359.5173\" y1=\"51.5\"\n",
       "      /><line y2=\"53.61\" style=\"fill:none;\" x1=\"369.7413\" x2=\"369.7413\" y1=\"51.5\"\n",
       "      /><line y2=\"53.61\" style=\"fill:none;\" x1=\"378.095\" x2=\"378.095\" y1=\"51.5\"\n",
       "      /><line y2=\"53.61\" style=\"fill:none;\" x1=\"385.1578\" x2=\"385.1578\" y1=\"51.5\"\n",
       "      /><line y2=\"53.61\" style=\"fill:none;\" x1=\"391.276\" x2=\"391.276\" y1=\"51.5\"\n",
       "      /><line y2=\"53.61\" style=\"fill:none;\" x1=\"396.6726\" x2=\"396.6726\" y1=\"51.5\"\n",
       "      /><line y2=\"53.61\" style=\"fill:none;\" x1=\"401.5\" x2=\"401.5\" y1=\"51.5\"\n",
       "      /><line y2=\"53.61\" style=\"fill:none;\" x1=\"433.2587\" x2=\"433.2587\" y1=\"51.5\"\n",
       "      /><line y2=\"53.61\" style=\"fill:none;\" x1=\"451.8363\" x2=\"451.8363\" y1=\"51.5\"\n",
       "      /><line y2=\"53.61\" style=\"fill:none;\" x1=\"465.0173\" x2=\"465.0173\" y1=\"51.5\"\n",
       "      /><line y2=\"53.61\" style=\"fill:none;\" x1=\"475.2413\" x2=\"475.2413\" y1=\"51.5\"\n",
       "      /><line y2=\"53.61\" style=\"fill:none;\" x1=\"483.595\" x2=\"483.595\" y1=\"51.5\"\n",
       "      /><line y2=\"53.61\" style=\"fill:none;\" x1=\"490.6578\" x2=\"490.6578\" y1=\"51.5\"\n",
       "      /><line y2=\"53.61\" style=\"fill:none;\" x1=\"496.776\" x2=\"496.776\" y1=\"51.5\"\n",
       "      /><line y2=\"53.61\" style=\"fill:none;\" x1=\"502.1726\" x2=\"502.1726\" y1=\"51.5\"\n",
       "      /><line y2=\"53.61\" style=\"fill:none;\" x1=\"507\" x2=\"507\" y1=\"51.5\"\n",
       "      /><line y2=\"51.5\" style=\"fill:none;\" x1=\"85\" x2=\"85\" y1=\"216\"\n",
       "      /><line y2=\"51.5\" style=\"fill:none;\" x1=\"507\" x2=\"507\" y1=\"216\"\n",
       "      /><line y2=\"216\" style=\"fill:none;\" x1=\"85\" x2=\"89.22\" y1=\"216\"\n",
       "      /><line y2=\"174.875\" style=\"fill:none;\" x1=\"85\" x2=\"89.22\" y1=\"174.875\"\n",
       "      /><line y2=\"133.75\" style=\"fill:none;\" x1=\"85\" x2=\"89.22\" y1=\"133.75\"\n",
       "      /><line y2=\"92.625\" style=\"fill:none;\" x1=\"85\" x2=\"89.22\" y1=\"92.625\"\n",
       "      /><line y2=\"51.5\" style=\"fill:none;\" x1=\"85\" x2=\"89.22\" y1=\"51.5\"\n",
       "      /><line y2=\"216\" style=\"fill:none;\" x1=\"507\" x2=\"502.78\" y1=\"216\"\n",
       "      /><line y2=\"174.875\" style=\"fill:none;\" x1=\"507\" x2=\"502.78\" y1=\"174.875\"\n",
       "      /><line y2=\"133.75\" style=\"fill:none;\" x1=\"507\" x2=\"502.78\" y1=\"133.75\"\n",
       "      /><line y2=\"92.625\" style=\"fill:none;\" x1=\"507\" x2=\"502.78\" y1=\"92.625\"\n",
       "      /><line y2=\"51.5\" style=\"fill:none;\" x1=\"507\" x2=\"502.78\" y1=\"51.5\"\n",
       "    /></g\n",
       "    ><g transform=\"translate(81,216)\" style=\"font-size:10px; fill:rgb(102,102,102); text-rendering:geometricPrecision; image-rendering:optimizeQuality; color-rendering:optimizeQuality; font-family:'Helvetica Neue'; stroke:rgb(102,102,102); color-interpolation:linearRGB;\"\n",
       "    ><text x=\"-16\" xml:space=\"preserve\" y=\"3.5\" style=\"stroke:none;\"\n",
       "      >-80</text\n",
       "    ></g\n",
       "    ><g transform=\"translate(81,174.875)\" style=\"font-size:10px; fill:rgb(102,102,102); text-rendering:geometricPrecision; image-rendering:optimizeQuality; color-rendering:optimizeQuality; font-family:'Helvetica Neue'; stroke:rgb(102,102,102); color-interpolation:linearRGB;\"\n",
       "    ><text x=\"-16\" xml:space=\"preserve\" y=\"3.5\" style=\"stroke:none;\"\n",
       "      >-60</text\n",
       "    ></g\n",
       "    ><g transform=\"translate(81,133.75)\" style=\"font-size:10px; fill:rgb(102,102,102); text-rendering:geometricPrecision; image-rendering:optimizeQuality; color-rendering:optimizeQuality; font-family:'Helvetica Neue'; stroke:rgb(102,102,102); color-interpolation:linearRGB;\"\n",
       "    ><text x=\"-16\" xml:space=\"preserve\" y=\"3.5\" style=\"stroke:none;\"\n",
       "      >-40</text\n",
       "    ></g\n",
       "    ><g transform=\"translate(81,92.625)\" style=\"font-size:10px; fill:rgb(102,102,102); text-rendering:geometricPrecision; image-rendering:optimizeQuality; color-rendering:optimizeQuality; font-family:'Helvetica Neue'; stroke:rgb(102,102,102); color-interpolation:linearRGB;\"\n",
       "    ><text x=\"-16\" xml:space=\"preserve\" y=\"3.5\" style=\"stroke:none;\"\n",
       "      >-20</text\n",
       "    ></g\n",
       "    ><g transform=\"translate(81,51.5)\" style=\"font-size:10px; fill:rgb(102,102,102); text-rendering:geometricPrecision; image-rendering:optimizeQuality; color-rendering:optimizeQuality; font-family:'Helvetica Neue'; stroke:rgb(102,102,102); color-interpolation:linearRGB;\"\n",
       "    ><text x=\"-6\" xml:space=\"preserve\" y=\"3.5\" style=\"stroke:none;\"\n",
       "      >0</text\n",
       "    ></g\n",
       "    ><g transform=\"translate(62.5,133.7499) rotate(-90)\" style=\"font-size:11px; text-rendering:geometricPrecision; color-rendering:optimizeQuality; image-rendering:optimizeQuality; font-family:'Helvetica Neue'; color-interpolation:linearRGB;\"\n",
       "    ><text x=\"-38\" xml:space=\"preserve\" y=\"-3\" style=\"stroke:none;\"\n",
       "      >Magnitude (dB)</text\n",
       "    ></g\n",
       "    ><g style=\"stroke-linecap:butt; fill:rgb(0,114,189); text-rendering:geometricPrecision; image-rendering:optimizeQuality; color-rendering:optimizeQuality; stroke-linejoin:round; stroke:rgb(0,114,189); color-interpolation:linearRGB; stroke-width:0.5;\"\n",
       "    ><path d=\"M84.9497 51.5063 L86.8424 51.5068 L93.9325 51.5092 L101.0226 51.5126 L108.1127 51.5171 L115.2028 51.5233 L122.2929 51.5318 L129.383 51.5433 L136.4731 51.5589 L143.5631 51.5802 L150.6532 51.6091 L157.7433 51.6484 L164.8334 51.7017 L171.9235 51.7738 L179.0136 51.8711 L186.1037 52.0022 L193.1937 52.1779 L200.2838 52.412 L207.3739 52.722 L214.464 53.1286 L221.5541 53.6557 L228.6442 54.3296 L235.7343 55.1767 L242.8243 56.2215 L249.9144 57.4832 L257.0045 58.9737 L264.0946 60.6964 L271.1847 62.6468 L278.2748 64.8155 L285.3649 67.191 L292.455 69.7635 L299.545 72.5273 L306.6351 75.4824 L313.7252 78.6345 L320.8153 81.9934 L327.9054 85.5705 L334.9955 89.3754 L342.0856 93.4125 L349.1756 97.6784 L356.2657 102.1611 L363.3558 106.8416 L370.4459 111.6953 L377.536 116.6958 L384.6261 121.8168 L391.7162 127.0344 L398.8062 132.3277 L405.8963 137.6797 L412.9864 143.0762 L420.0765 148.5064 L427.1666 153.9619 L434.2567 159.4362 L441.3468 164.9245 L448.4369 170.4232 L455.5269 175.9295 L462.617 181.4414 L469.7071 186.9575 L476.7972 192.4766 L483.8873 197.998 L490.9774 203.521 L498.0674 209.0452 L505.1576 214.5704 L507.0171 216.0196\" style=\"fill:none; fill-rule:evenodd;\"\n",
       "    /></g\n",
       "    ><g style=\"fill:white; text-rendering:optimizeSpeed; color-rendering:optimizeSpeed; image-rendering:optimizeSpeed; shape-rendering:crispEdges; stroke:white; color-interpolation:sRGB;\"\n",
       "    ><path style=\"stroke:none;\" d=\"M85 374 L507 374 L507 228 L85 228 Z\"\n",
       "    /></g\n",
       "    ><g style=\"fill:rgb(102,102,102); text-rendering:geometricPrecision; image-rendering:optimizeQuality; color-rendering:optimizeQuality; stroke-linejoin:round; stroke:rgb(102,102,102); color-interpolation:linearRGB; stroke-width:0.5;\"\n",
       "    ><line y2=\"374\" style=\"fill:none;\" x1=\"85\" x2=\"507\" y1=\"374\"\n",
       "      /><line y2=\"228\" style=\"fill:none;\" x1=\"85\" x2=\"507\" y1=\"228\"\n",
       "      /><line y2=\"369.78\" style=\"fill:none;\" x1=\"85\" x2=\"85\" y1=\"374\"\n",
       "      /><line y2=\"369.78\" style=\"fill:none;\" x1=\"190.5\" x2=\"190.5\" y1=\"374\"\n",
       "      /><line y2=\"369.78\" style=\"fill:none;\" x1=\"296\" x2=\"296\" y1=\"374\"\n",
       "      /><line y2=\"369.78\" style=\"fill:none;\" x1=\"401.5\" x2=\"401.5\" y1=\"374\"\n",
       "      /><line y2=\"369.78\" style=\"fill:none;\" x1=\"507\" x2=\"507\" y1=\"374\"\n",
       "      /><line y2=\"232.22\" style=\"fill:none;\" x1=\"85\" x2=\"85\" y1=\"228\"\n",
       "      /><line y2=\"232.22\" style=\"fill:none;\" x1=\"190.5\" x2=\"190.5\" y1=\"228\"\n",
       "      /><line y2=\"232.22\" style=\"fill:none;\" x1=\"296\" x2=\"296\" y1=\"228\"\n",
       "      /><line y2=\"232.22\" style=\"fill:none;\" x1=\"401.5\" x2=\"401.5\" y1=\"228\"\n",
       "      /><line y2=\"232.22\" style=\"fill:none;\" x1=\"507\" x2=\"507\" y1=\"228\"\n",
       "      /><line y2=\"371.89\" style=\"fill:none;\" x1=\"85\" x2=\"85\" y1=\"374\"\n",
       "      /><line y2=\"371.89\" style=\"fill:none;\" x1=\"116.7587\" x2=\"116.7587\" y1=\"374\"\n",
       "      /><line y2=\"371.89\" style=\"fill:none;\" x1=\"135.3363\" x2=\"135.3363\" y1=\"374\"\n",
       "      /><line y2=\"371.89\" style=\"fill:none;\" x1=\"148.5173\" x2=\"148.5173\" y1=\"374\"\n",
       "      /><line y2=\"371.89\" style=\"fill:none;\" x1=\"158.7413\" x2=\"158.7413\" y1=\"374\"\n",
       "      /><line y2=\"371.89\" style=\"fill:none;\" x1=\"167.095\" x2=\"167.095\" y1=\"374\"\n",
       "      /><line y2=\"371.89\" style=\"fill:none;\" x1=\"174.1578\" x2=\"174.1578\" y1=\"374\"\n",
       "      /><line y2=\"371.89\" style=\"fill:none;\" x1=\"180.276\" x2=\"180.276\" y1=\"374\"\n",
       "      /><line y2=\"371.89\" style=\"fill:none;\" x1=\"185.6726\" x2=\"185.6726\" y1=\"374\"\n",
       "      /><line y2=\"371.89\" style=\"fill:none;\" x1=\"190.5\" x2=\"190.5\" y1=\"374\"\n",
       "      /><line y2=\"371.89\" style=\"fill:none;\" x1=\"222.2587\" x2=\"222.2587\" y1=\"374\"\n",
       "      /><line y2=\"371.89\" style=\"fill:none;\" x1=\"240.8363\" x2=\"240.8363\" y1=\"374\"\n",
       "      /><line y2=\"371.89\" style=\"fill:none;\" x1=\"254.0173\" x2=\"254.0173\" y1=\"374\"\n",
       "      /><line y2=\"371.89\" style=\"fill:none;\" x1=\"264.2413\" x2=\"264.2413\" y1=\"374\"\n",
       "      /><line y2=\"371.89\" style=\"fill:none;\" x1=\"272.595\" x2=\"272.595\" y1=\"374\"\n",
       "      /><line y2=\"371.89\" style=\"fill:none;\" x1=\"279.6578\" x2=\"279.6578\" y1=\"374\"\n",
       "      /><line y2=\"371.89\" style=\"fill:none;\" x1=\"285.776\" x2=\"285.776\" y1=\"374\"\n",
       "      /><line y2=\"371.89\" style=\"fill:none;\" x1=\"291.1726\" x2=\"291.1726\" y1=\"374\"\n",
       "      /><line y2=\"371.89\" style=\"fill:none;\" x1=\"296\" x2=\"296\" y1=\"374\"\n",
       "      /><line y2=\"371.89\" style=\"fill:none;\" x1=\"327.7587\" x2=\"327.7587\" y1=\"374\"\n",
       "      /><line y2=\"371.89\" style=\"fill:none;\" x1=\"346.3363\" x2=\"346.3363\" y1=\"374\"\n",
       "      /><line y2=\"371.89\" style=\"fill:none;\" x1=\"359.5173\" x2=\"359.5173\" y1=\"374\"\n",
       "      /><line y2=\"371.89\" style=\"fill:none;\" x1=\"369.7413\" x2=\"369.7413\" y1=\"374\"\n",
       "      /><line y2=\"371.89\" style=\"fill:none;\" x1=\"378.095\" x2=\"378.095\" y1=\"374\"\n",
       "      /><line y2=\"371.89\" style=\"fill:none;\" x1=\"385.1578\" x2=\"385.1578\" y1=\"374\"\n",
       "      /><line y2=\"371.89\" style=\"fill:none;\" x1=\"391.276\" x2=\"391.276\" y1=\"374\"\n",
       "      /><line y2=\"371.89\" style=\"fill:none;\" x1=\"396.6726\" x2=\"396.6726\" y1=\"374\"\n",
       "      /><line y2=\"371.89\" style=\"fill:none;\" x1=\"401.5\" x2=\"401.5\" y1=\"374\"\n",
       "      /><line y2=\"371.89\" style=\"fill:none;\" x1=\"433.2587\" x2=\"433.2587\" y1=\"374\"\n",
       "      /><line y2=\"371.89\" style=\"fill:none;\" x1=\"451.8363\" x2=\"451.8363\" y1=\"374\"\n",
       "      /><line y2=\"371.89\" style=\"fill:none;\" x1=\"465.0173\" x2=\"465.0173\" y1=\"374\"\n",
       "      /><line y2=\"371.89\" style=\"fill:none;\" x1=\"475.2413\" x2=\"475.2413\" y1=\"374\"\n",
       "      /><line y2=\"371.89\" style=\"fill:none;\" x1=\"483.595\" x2=\"483.595\" y1=\"374\"\n",
       "      /><line y2=\"371.89\" style=\"fill:none;\" x1=\"490.6578\" x2=\"490.6578\" y1=\"374\"\n",
       "      /><line y2=\"371.89\" style=\"fill:none;\" x1=\"496.776\" x2=\"496.776\" y1=\"374\"\n",
       "      /><line y2=\"371.89\" style=\"fill:none;\" x1=\"502.1726\" x2=\"502.1726\" y1=\"374\"\n",
       "      /><line y2=\"371.89\" style=\"fill:none;\" x1=\"507\" x2=\"507\" y1=\"374\"\n",
       "      /><line y2=\"230.11\" style=\"fill:none;\" x1=\"85\" x2=\"85\" y1=\"228\"\n",
       "      /><line y2=\"230.11\" style=\"fill:none;\" x1=\"116.7587\" x2=\"116.7587\" y1=\"228\"\n",
       "      /><line y2=\"230.11\" style=\"fill:none;\" x1=\"135.3363\" x2=\"135.3363\" y1=\"228\"\n",
       "      /><line y2=\"230.11\" style=\"fill:none;\" x1=\"148.5173\" x2=\"148.5173\" y1=\"228\"\n",
       "      /><line y2=\"230.11\" style=\"fill:none;\" x1=\"158.7413\" x2=\"158.7413\" y1=\"228\"\n",
       "      /><line y2=\"230.11\" style=\"fill:none;\" x1=\"167.095\" x2=\"167.095\" y1=\"228\"\n",
       "      /><line y2=\"230.11\" style=\"fill:none;\" x1=\"174.1578\" x2=\"174.1578\" y1=\"228\"\n",
       "      /><line y2=\"230.11\" style=\"fill:none;\" x1=\"180.276\" x2=\"180.276\" y1=\"228\"\n",
       "      /><line y2=\"230.11\" style=\"fill:none;\" x1=\"185.6726\" x2=\"185.6726\" y1=\"228\"\n",
       "      /><line y2=\"230.11\" style=\"fill:none;\" x1=\"190.5\" x2=\"190.5\" y1=\"228\"\n",
       "      /><line y2=\"230.11\" style=\"fill:none;\" x1=\"222.2587\" x2=\"222.2587\" y1=\"228\"\n",
       "      /><line y2=\"230.11\" style=\"fill:none;\" x1=\"240.8363\" x2=\"240.8363\" y1=\"228\"\n",
       "      /><line y2=\"230.11\" style=\"fill:none;\" x1=\"254.0173\" x2=\"254.0173\" y1=\"228\"\n",
       "      /><line y2=\"230.11\" style=\"fill:none;\" x1=\"264.2413\" x2=\"264.2413\" y1=\"228\"\n",
       "      /><line y2=\"230.11\" style=\"fill:none;\" x1=\"272.595\" x2=\"272.595\" y1=\"228\"\n",
       "      /><line y2=\"230.11\" style=\"fill:none;\" x1=\"279.6578\" x2=\"279.6578\" y1=\"228\"\n",
       "      /><line y2=\"230.11\" style=\"fill:none;\" x1=\"285.776\" x2=\"285.776\" y1=\"228\"\n",
       "      /><line y2=\"230.11\" style=\"fill:none;\" x1=\"291.1726\" x2=\"291.1726\" y1=\"228\"\n",
       "      /><line y2=\"230.11\" style=\"fill:none;\" x1=\"296\" x2=\"296\" y1=\"228\"\n",
       "      /><line y2=\"230.11\" style=\"fill:none;\" x1=\"327.7587\" x2=\"327.7587\" y1=\"228\"\n",
       "      /><line y2=\"230.11\" style=\"fill:none;\" x1=\"346.3363\" x2=\"346.3363\" y1=\"228\"\n",
       "      /><line y2=\"230.11\" style=\"fill:none;\" x1=\"359.5173\" x2=\"359.5173\" y1=\"228\"\n",
       "      /><line y2=\"230.11\" style=\"fill:none;\" x1=\"369.7413\" x2=\"369.7413\" y1=\"228\"\n",
       "      /><line y2=\"230.11\" style=\"fill:none;\" x1=\"378.095\" x2=\"378.095\" y1=\"228\"\n",
       "      /><line y2=\"230.11\" style=\"fill:none;\" x1=\"385.1578\" x2=\"385.1578\" y1=\"228\"\n",
       "      /><line y2=\"230.11\" style=\"fill:none;\" x1=\"391.276\" x2=\"391.276\" y1=\"228\"\n",
       "      /><line y2=\"230.11\" style=\"fill:none;\" x1=\"396.6726\" x2=\"396.6726\" y1=\"228\"\n",
       "      /><line y2=\"230.11\" style=\"fill:none;\" x1=\"401.5\" x2=\"401.5\" y1=\"228\"\n",
       "      /><line y2=\"230.11\" style=\"fill:none;\" x1=\"433.2587\" x2=\"433.2587\" y1=\"228\"\n",
       "      /><line y2=\"230.11\" style=\"fill:none;\" x1=\"451.8363\" x2=\"451.8363\" y1=\"228\"\n",
       "      /><line y2=\"230.11\" style=\"fill:none;\" x1=\"465.0173\" x2=\"465.0173\" y1=\"228\"\n",
       "      /><line y2=\"230.11\" style=\"fill:none;\" x1=\"475.2413\" x2=\"475.2413\" y1=\"228\"\n",
       "      /><line y2=\"230.11\" style=\"fill:none;\" x1=\"483.595\" x2=\"483.595\" y1=\"228\"\n",
       "      /><line y2=\"230.11\" style=\"fill:none;\" x1=\"490.6578\" x2=\"490.6578\" y1=\"228\"\n",
       "      /><line y2=\"230.11\" style=\"fill:none;\" x1=\"496.776\" x2=\"496.776\" y1=\"228\"\n",
       "      /><line y2=\"230.11\" style=\"fill:none;\" x1=\"502.1726\" x2=\"502.1726\" y1=\"228\"\n",
       "      /><line y2=\"230.11\" style=\"fill:none;\" x1=\"507\" x2=\"507\" y1=\"228\"\n",
       "    /></g\n",
       "    ><g transform=\"translate(75,391)\" style=\"font-size:10px; fill:rgb(102,102,102); text-rendering:geometricPrecision; image-rendering:optimizeQuality; color-rendering:optimizeQuality; font-family:'Helvetica Neue'; stroke:rgb(102,102,102); color-interpolation:linearRGB;\"\n",
       "    ><text x=\"0\" xml:space=\"preserve\" y=\"0\" style=\"stroke:none;\"\n",
       "      >10</text\n",
       "    ></g\n",
       "    ><g transform=\"translate(87,386)\" style=\"font-size:8px; fill:rgb(102,102,102); text-rendering:geometricPrecision; image-rendering:optimizeQuality; color-rendering:optimizeQuality; font-family:'Helvetica Neue'; stroke:rgb(102,102,102); color-interpolation:linearRGB;\"\n",
       "    ><text x=\"0\" xml:space=\"preserve\" y=\"0\" style=\"stroke:none;\"\n",
       "      >-2</text\n",
       "    ></g\n",
       "    ><g transform=\"translate(181,391)\" style=\"font-size:10px; fill:rgb(102,102,102); text-rendering:geometricPrecision; image-rendering:optimizeQuality; color-rendering:optimizeQuality; font-family:'Helvetica Neue'; stroke:rgb(102,102,102); color-interpolation:linearRGB;\"\n",
       "    ><text x=\"0\" xml:space=\"preserve\" y=\"0\" style=\"stroke:none;\"\n",
       "      >10</text\n",
       "    ></g\n",
       "    ><g transform=\"translate(193,386)\" style=\"font-size:8px; fill:rgb(102,102,102); text-rendering:geometricPrecision; image-rendering:optimizeQuality; color-rendering:optimizeQuality; font-family:'Helvetica Neue'; stroke:rgb(102,102,102); color-interpolation:linearRGB;\"\n",
       "    ><text x=\"0\" xml:space=\"preserve\" y=\"0\" style=\"stroke:none;\"\n",
       "      >-1</text\n",
       "    ></g\n",
       "    ><g transform=\"translate(287,391)\" style=\"font-size:10px; fill:rgb(102,102,102); text-rendering:geometricPrecision; image-rendering:optimizeQuality; color-rendering:optimizeQuality; font-family:'Helvetica Neue'; stroke:rgb(102,102,102); color-interpolation:linearRGB;\"\n",
       "    ><text x=\"0\" xml:space=\"preserve\" y=\"0\" style=\"stroke:none;\"\n",
       "      >10</text\n",
       "    ></g\n",
       "    ><g transform=\"translate(299,386)\" style=\"font-size:8px; fill:rgb(102,102,102); text-rendering:geometricPrecision; image-rendering:optimizeQuality; color-rendering:optimizeQuality; font-family:'Helvetica Neue'; stroke:rgb(102,102,102); color-interpolation:linearRGB;\"\n",
       "    ><text x=\"0\" xml:space=\"preserve\" y=\"0\" style=\"stroke:none;\"\n",
       "      >0</text\n",
       "    ></g\n",
       "    ><g transform=\"translate(393,391)\" style=\"font-size:10px; fill:rgb(102,102,102); text-rendering:geometricPrecision; image-rendering:optimizeQuality; color-rendering:optimizeQuality; font-family:'Helvetica Neue'; stroke:rgb(102,102,102); color-interpolation:linearRGB;\"\n",
       "    ><text x=\"0\" xml:space=\"preserve\" y=\"0\" style=\"stroke:none;\"\n",
       "      >10</text\n",
       "    ></g\n",
       "    ><g transform=\"translate(405,386)\" style=\"font-size:8px; fill:rgb(102,102,102); text-rendering:geometricPrecision; image-rendering:optimizeQuality; color-rendering:optimizeQuality; font-family:'Helvetica Neue'; stroke:rgb(102,102,102); color-interpolation:linearRGB;\"\n",
       "    ><text x=\"0\" xml:space=\"preserve\" y=\"0\" style=\"stroke:none;\"\n",
       "      >1</text\n",
       "    ></g\n",
       "    ><g transform=\"translate(498,391)\" style=\"font-size:10px; fill:rgb(102,102,102); text-rendering:geometricPrecision; image-rendering:optimizeQuality; color-rendering:optimizeQuality; font-family:'Helvetica Neue'; stroke:rgb(102,102,102); color-interpolation:linearRGB;\"\n",
       "    ><text x=\"0\" xml:space=\"preserve\" y=\"0\" style=\"stroke:none;\"\n",
       "      >10</text\n",
       "    ></g\n",
       "    ><g transform=\"translate(510,386)\" style=\"font-size:8px; fill:rgb(102,102,102); text-rendering:geometricPrecision; image-rendering:optimizeQuality; color-rendering:optimizeQuality; font-family:'Helvetica Neue'; stroke:rgb(102,102,102); color-interpolation:linearRGB;\"\n",
       "    ><text x=\"0\" xml:space=\"preserve\" y=\"0\" style=\"stroke:none;\"\n",
       "      >2</text\n",
       "    ></g\n",
       "    ><g style=\"fill:rgb(102,102,102); text-rendering:geometricPrecision; image-rendering:optimizeQuality; color-rendering:optimizeQuality; stroke-linejoin:round; stroke:rgb(102,102,102); color-interpolation:linearRGB; stroke-width:0.5;\"\n",
       "    ><line y2=\"228\" style=\"fill:none;\" x1=\"85\" x2=\"85\" y1=\"374\"\n",
       "      /><line y2=\"228\" style=\"fill:none;\" x1=\"507\" x2=\"507\" y1=\"374\"\n",
       "      /><line y2=\"372.5686\" style=\"fill:none;\" x1=\"85\" x2=\"89.22\" y1=\"372.5686\"\n",
       "      /><line y2=\"336.7843\" style=\"fill:none;\" x1=\"85\" x2=\"89.22\" y1=\"336.7843\"\n",
       "      /><line y2=\"301\" style=\"fill:none;\" x1=\"85\" x2=\"89.22\" y1=\"301\"\n",
       "      /><line y2=\"265.2157\" style=\"fill:none;\" x1=\"85\" x2=\"89.22\" y1=\"265.2157\"\n",
       "      /><line y2=\"229.4314\" style=\"fill:none;\" x1=\"85\" x2=\"89.22\" y1=\"229.4314\"\n",
       "      /><line y2=\"372.5686\" style=\"fill:none;\" x1=\"507\" x2=\"502.78\" y1=\"372.5686\"\n",
       "      /><line y2=\"336.7843\" style=\"fill:none;\" x1=\"507\" x2=\"502.78\" y1=\"336.7843\"\n",
       "      /><line y2=\"301\" style=\"fill:none;\" x1=\"507\" x2=\"502.78\" y1=\"301\"\n",
       "      /><line y2=\"265.2157\" style=\"fill:none;\" x1=\"507\" x2=\"502.78\" y1=\"265.2157\"\n",
       "      /><line y2=\"229.4314\" style=\"fill:none;\" x1=\"507\" x2=\"502.78\" y1=\"229.4314\"\n",
       "    /></g\n",
       "    ><g transform=\"translate(81,372.5686)\" style=\"font-size:10px; fill:rgb(102,102,102); text-rendering:geometricPrecision; image-rendering:optimizeQuality; color-rendering:optimizeQuality; font-family:'Helvetica Neue'; stroke:rgb(102,102,102); color-interpolation:linearRGB;\"\n",
       "    ><text x=\"-6\" xml:space=\"preserve\" y=\"3.5\" style=\"stroke:none;\"\n",
       "      >0</text\n",
       "    ></g\n",
       "    ><g transform=\"translate(81,336.7843)\" style=\"font-size:10px; fill:rgb(102,102,102); text-rendering:geometricPrecision; image-rendering:optimizeQuality; color-rendering:optimizeQuality; font-family:'Helvetica Neue'; stroke:rgb(102,102,102); color-interpolation:linearRGB;\"\n",
       "    ><text x=\"-12\" xml:space=\"preserve\" y=\"3.5\" style=\"stroke:none;\"\n",
       "      >45</text\n",
       "    ></g\n",
       "    ><g transform=\"translate(81,301)\" style=\"font-size:10px; fill:rgb(102,102,102); text-rendering:geometricPrecision; image-rendering:optimizeQuality; color-rendering:optimizeQuality; font-family:'Helvetica Neue'; stroke:rgb(102,102,102); color-interpolation:linearRGB;\"\n",
       "    ><text x=\"-12\" xml:space=\"preserve\" y=\"3.5\" style=\"stroke:none;\"\n",
       "      >90</text\n",
       "    ></g\n",
       "    ><g transform=\"translate(81,265.2157)\" style=\"font-size:10px; fill:rgb(102,102,102); text-rendering:geometricPrecision; image-rendering:optimizeQuality; color-rendering:optimizeQuality; font-family:'Helvetica Neue'; stroke:rgb(102,102,102); color-interpolation:linearRGB;\"\n",
       "    ><text x=\"-17\" xml:space=\"preserve\" y=\"3.5\" style=\"stroke:none;\"\n",
       "      >135</text\n",
       "    ></g\n",
       "    ><g transform=\"translate(81,229.4314)\" style=\"font-size:10px; fill:rgb(102,102,102); text-rendering:geometricPrecision; image-rendering:optimizeQuality; color-rendering:optimizeQuality; font-family:'Helvetica Neue'; stroke:rgb(102,102,102); color-interpolation:linearRGB;\"\n",
       "    ><text x=\"-17\" xml:space=\"preserve\" y=\"3.5\" style=\"stroke:none;\"\n",
       "      >180</text\n",
       "    ></g\n",
       "    ><g transform=\"translate(61,300.9999) rotate(-90)\" style=\"font-size:11px; text-rendering:geometricPrecision; color-rendering:optimizeQuality; image-rendering:optimizeQuality; font-family:'Helvetica Neue'; color-interpolation:linearRGB;\"\n",
       "    ><text x=\"-29.5\" xml:space=\"preserve\" y=\"-3\" style=\"stroke:none;\"\n",
       "      >Phase (deg)</text\n",
       "    ></g\n",
       "    ><g style=\"stroke-linecap:butt; fill:rgb(0,114,189); text-rendering:geometricPrecision; image-rendering:optimizeQuality; color-rendering:optimizeQuality; stroke-linejoin:round; stroke:rgb(0,114,189); color-interpolation:linearRGB; stroke-width:0.5;\"\n",
       "    ><path d=\"M84.9497 230.7996 L86.8424 230.854 L93.9325 231.092 L101.0226 231.3697 L108.1127 231.6937 L115.2028 232.0719 L122.2929 232.5129 L129.383 233.0273 L136.4731 233.627 L143.5631 234.3259 L150.6532 235.1397 L157.7433 236.0867 L164.8334 237.1873 L171.9235 238.4644 L179.0136 239.9433 L186.1037 241.6511 L193.1937 243.6158 L200.2838 245.8653 L207.3739 248.4248 L214.464 251.3139 L221.5541 254.5428 L228.6442 258.1088 L235.7343 261.9926 L242.8243 266.1573 L249.9144 270.551 L257.0045 275.1121 L264.0946 279.778 L271.1847 284.4948 L278.2748 289.2234 L285.3649 293.943 L292.455 298.6496 L299.545 303.3504 L306.6351 308.057 L313.7252 312.7766 L320.8153 317.5052 L327.9054 322.222 L334.9955 326.8879 L342.0856 331.449 L349.1756 335.8427 L356.2657 340.0074 L363.3558 343.8912 L370.4459 347.4572 L377.536 350.6862 L384.6261 353.5752 L391.7162 356.1346 L398.8062 358.3842 L405.8963 360.3489 L412.9864 362.0567 L420.0765 363.5356 L427.1666 364.8127 L434.2567 365.9133 L441.3468 366.8603 L448.4369 367.6741 L455.5269 368.373 L462.617 368.9727 L469.7071 369.4871 L476.7972 369.9282 L483.8873 370.3062 L490.9774 370.6303 L498.0674 370.908 L505.1576 371.146 L507.0503 371.2004\" style=\"fill:none; fill-rule:evenodd;\"\n",
       "    /></g\n",
       "    ><g transform=\"translate(295,44.45)\" style=\"font-size:11px; text-rendering:geometricPrecision; image-rendering:optimizeQuality; color-rendering:optimizeQuality; font-family:'Helvetica Neue'; color-interpolation:linearRGB; font-weight:bold;\"\n",
       "    ><text x=\"-38\" xml:space=\"preserve\" y=\"-3\" style=\"stroke:none;\"\n",
       "      >Bode Diagram</text\n",
       "    ></g\n",
       "    ><g transform=\"translate(295,392.5)\" style=\"font-size:11px; text-rendering:geometricPrecision; color-rendering:optimizeQuality; image-rendering:optimizeQuality; font-family:'Helvetica Neue'; color-interpolation:linearRGB;\"\n",
       "    ><text x=\"-45\" xml:space=\"preserve\" y=\"11\" style=\"stroke:none;\"\n",
       "      >Frequency  (rad/s)</text\n",
       "    ></g\n",
       "  ></g\n",
       "></svg\n",
       ">\n"
      ]
     },
     "metadata": {
      "filenames": {
       "image/svg+xml": "/Users/eechris/Documents/code/src/github.com/cpjobling/eg-247-textbook/_build/jupyter_execute/laplace_transform/4/transfer_functions_73_0.svg"
      }
     },
     "output_type": "display_data"
    }
   ],
   "source": [
    "bode(G)"
   ]
  },
  {
   "cell_type": "markdown",
   "id": "f5c1fb07",
   "metadata": {},
   "source": [
    "## Reference \n",
    "\n",
    "See [Bibliography](/zbib)."
   ]
  }
 ],
 "metadata": {
  "jupytext": {
   "formats": "ipynb,md:myst",
   "text_representation": {
    "extension": ".md",
    "format_name": "myst",
    "format_version": 0.12,
    "jupytext_version": "1.9.1"
   }
  },
  "kernelspec": {
   "display_name": "MATLAB",
   "language": "matlab",
   "name": "imatlab"
  },
  "language_info": {
   "codemirror_mode": "octave",
   "file_extension": ".m",
   "mimetype": "text/x-matlab",
   "name": "matlab",
   "nbconvert_exporter": "imatlab._exporter.MatlabExporter",
   "pygments_lexer": "matlab",
   "version": "9.11.0.1769968 (R2021b)"
  },
  "source_map": [
   15,
   19,
   23,
   36,
   40,
   44,
   48,
   52,
   56,
   69,
   75,
   79,
   83,
   87,
   91,
   97,
   103,
   109,
   113,
   117,
   121,
   125,
   129,
   135,
   141,
   147,
   151,
   159,
   163,
   167,
   171,
   175,
   179,
   183,
   187,
   195,
   201,
   207,
   213,
   217,
   225,
   238,
   247,
   251,
   260,
   268,
   274,
   283,
   287,
   296,
   300,
   312,
   318,
   322,
   326,
   330,
   338,
   342,
   352,
   358,
   365,
   371,
   378,
   385,
   389,
   397,
   401,
   409,
   413,
   419,
   427,
   431,
   437,
   441,
   447
  ]
 },
 "nbformat": 4,
 "nbformat_minor": 5
}