{
 "cells": [
  {
   "cell_type": "markdown",
   "id": "4c7a4e6a",
   "metadata": {
    "slideshow": {
     "slide_type": "slide"
    }
   },
   "source": [
    "# The Impulse Response and Convolution"
   ]
  },
  {
   "cell_type": "markdown",
   "id": "5f68af7b",
   "metadata": {
    "slideshow": {
     "slide_type": "notes"
    }
   },
   "source": [
    "## Colophon\n",
    "\n",
    "An annotatable worksheet for this presentation is available as [**Worksheet 8**](https://cpjobling.github.io/eg-247-textbook/laplace_transform/5/worksheet8.html).\n",
    "\n",
    "* The source code for this page is [laplace_transform/5/convolution.ipynb](https://github.com/cpjobling/eg-247-textbook/blob/master/laplace_transform/5/convolution.ipynb).\n",
    "\n",
    "* You can view the notes for this presentation as a webpage ([HTML](https://cpjobling.github.io/eg-247-textbook/laplace_transform/5/convolution.html)). \n",
    "\n",
    "* This page is downloadable as a [PDF](https://cpjobling.github.io/eg-247-textbook/laplace_transform/5/convolution.pdf) file."
   ]
  },
  {
   "cell_type": "markdown",
   "id": "b86ea384",
   "metadata": {
    "slideshow": {
     "slide_type": "notes"
    }
   },
   "source": [
    "## Scope and Background Reading\n",
    "\n",
    "This section is an introduction to the impulse response of a system and time convolution. Together, these can be used to determine a Linear Time Invariant (LTI) system's time response to any signal.\n",
    "\n",
    "As we shall see, in the determination of a system's response to a signal input, time convolution involves integration by parts and is a tricky operation. But time convolution becomes multiplication in the Laplace Transform domain, and is much easier to apply."
   ]
  },
  {
   "cell_type": "markdown",
   "id": "645d15fe",
   "metadata": {
    "slideshow": {
     "slide_type": "notes"
    }
   },
   "source": [
    "The material in this presentation and notes is based on [Chapter 6](https://ebookcentral.proquest.com/lib/swansea-ebooks/reader.action?ppg=185&docID=3384197&tm=1518698533541) of Karris{cite}`karris`."
   ]
  },
  {
   "cell_type": "markdown",
   "id": "cea5c2f4",
   "metadata": {
    "slideshow": {
     "slide_type": "slide"
    }
   },
   "source": [
    "## Agenda\n",
    "\n",
    "The material to be presented is:"
   ]
  },
  {
   "cell_type": "markdown",
   "id": "0c8c2fe1",
   "metadata": {
    "slideshow": {
     "slide_type": "fragment"
    }
   },
   "source": [
    "* Even and Odd Functions of Time\n",
    "* Time Convolution"
   ]
  },
  {
   "cell_type": "markdown",
   "id": "4da3a8c7",
   "metadata": {
    "slideshow": {
     "slide_type": "subslide"
    }
   },
   "source": [
    "* Graphical Evaluation of the Convolution Integral\n",
    "* System Response by Laplace"
   ]
  },
  {
   "cell_type": "markdown",
   "id": "17dfc5cc",
   "metadata": {
    "slideshow": {
     "slide_type": "slide"
    }
   },
   "source": [
    "## Even and Odd Functions of Time\n",
    "\n",
    "(**This should be revision!**)\n",
    "\n",
    "We need to be reminded of *even* and *odd* functions so that we can develop the idea of time convolution which is a means of determining the time response of any system for which we know its *impulse response* to any signal."
   ]
  },
  {
   "cell_type": "markdown",
   "id": "ea5d46b1",
   "metadata": {
    "slideshow": {
     "slide_type": "subslide"
    }
   },
   "source": [
    "The development requires us to find out if the Dirac delta function ($\\delta(t)$) is an *even* or an *odd* function of time."
   ]
  },
  {
   "cell_type": "markdown",
   "id": "2c8a4292",
   "metadata": {
    "slideshow": {
     "slide_type": "subslide"
    }
   },
   "source": [
    "### Even Functions of Time\n",
    "\n",
    "A function $f(t)$ is said to be an *even function* of time if the following relation holds\n",
    "\n",
    "$$f(-t) = f(t)$$\n",
    "\n",
    "that is, if we relace $t$ with $-t$ the function $f(t)$ does not change."
   ]
  },
  {
   "cell_type": "markdown",
   "id": "a7441239",
   "metadata": {
    "slideshow": {
     "slide_type": "subslide"
    }
   },
   "source": [
    "Polynomials with even exponents only, and with or without constants, are even functions."
   ]
  },
  {
   "cell_type": "markdown",
   "id": "c70edfe2",
   "metadata": {
    "slideshow": {
     "slide_type": "fragment"
    }
   },
   "source": [
    "For example:\n",
    "\n",
    "$$\\cos t = 1 - \\frac{t^2}{2!} + \\frac{t^4}{4!} - \\frac{t^6}{6!} + \\ldots$$\n",
    "\n",
    "is even."
   ]
  },
  {
   "cell_type": "markdown",
   "id": "f825e3c6",
   "metadata": {
    "slideshow": {
     "slide_type": "subslide"
    }
   },
   "source": [
    "### Other Examples of Even Functions\n",
    "\n",
    "<img src=\"pictures/even_funcs.png\" width=\"75%\">"
   ]
  },
  {
   "cell_type": "markdown",
   "id": "d528cbb9",
   "metadata": {
    "slideshow": {
     "slide_type": "subslide"
    }
   },
   "source": [
    "### Odd Functions of Time\n",
    "\n",
    "A function $f(t)$ is said to be an *odd function* of time if the following relation holds\n",
    "\n",
    "$$-f(-t) = f(t)$$\n",
    "\n",
    "that is, if we relace $t$ with $-t$, we obtain the negative of the function $f(t)$."
   ]
  },
  {
   "cell_type": "markdown",
   "id": "34251d09",
   "metadata": {
    "slideshow": {
     "slide_type": "subslide"
    }
   },
   "source": [
    "Polynomials with odd exponents only, and no constants, are odd functions."
   ]
  },
  {
   "cell_type": "markdown",
   "id": "96510f74",
   "metadata": {
    "slideshow": {
     "slide_type": "fragment"
    }
   },
   "source": [
    "For example:\n",
    "\n",
    "$$\\sin t = t - \\frac{t^3}{3!} + \\frac{t^5}{5!} - \\frac{t^7}{7!} + \\ldots$$\n",
    "\n",
    "is odd."
   ]
  },
  {
   "cell_type": "markdown",
   "id": "2f1616f8",
   "metadata": {
    "slideshow": {
     "slide_type": "subslide"
    }
   },
   "source": [
    "### Other Examples of Odd Functions\n",
    "\n",
    "<img src=\"pictures/odd_funcs.png\" width=\"75%\">"
   ]
  },
  {
   "cell_type": "markdown",
   "id": "1d9620a0",
   "metadata": {
    "slideshow": {
     "slide_type": "subslide"
    }
   },
   "source": [
    "### Observations\n",
    "\n",
    "* For odd functions $f(0) = 0$.\n",
    "* If $f(0) = 0$ we should not conclude that $f(t)$ is an odd function. *c.f.* $f(t) = t^2$ is even, not odd.\n",
    "* The product of *two even* or *two odd* functions is an even function.\n",
    "* The product of an even and an odd function, is an odd function."
   ]
  },
  {
   "cell_type": "markdown",
   "id": "77539812",
   "metadata": {
    "slideshow": {
     "slide_type": "subslide"
    }
   },
   "source": [
    "In the following $f_e(t)$ will denote an even function and $f_o(t)$ an odd function."
   ]
  },
  {
   "cell_type": "markdown",
   "id": "1e3c005d",
   "metadata": {
    "slideshow": {
     "slide_type": "slide"
    }
   },
   "source": [
    "### Time integrals of even and odd functions"
   ]
  },
  {
   "cell_type": "markdown",
   "id": "32f94656",
   "metadata": {
    "slideshow": {
     "slide_type": "fragment"
    }
   },
   "source": [
    "For an even function $f_e(t)$\n",
    "\n",
    "$$\\int_{-T}^{T}f_e(t) dt = 2 \\int_{0}^{T}f_e(t) dt$$"
   ]
  },
  {
   "cell_type": "markdown",
   "id": "b45fdd8d",
   "metadata": {
    "slideshow": {
     "slide_type": "subslide"
    }
   },
   "source": [
    "For an odd function $f_o(t)$\n",
    "\n",
    "$$\\int_{-T}^{T}f_o(t) dt = 0$$"
   ]
  },
  {
   "cell_type": "markdown",
   "id": "a5edc2f1",
   "metadata": {
    "slideshow": {
     "slide_type": "subslide"
    }
   },
   "source": [
    "### Even/Odd Representation of an Arbitrary Function\n",
    "\n",
    "A function $f(t)$ that is neither even nor odd can be represented as an even function by use of:\n",
    "    \n",
    "$$f_e(t) = \\frac{1}{2}\\left[f(t)+f(-t)\\right]$$"
   ]
  },
  {
   "cell_type": "markdown",
   "id": "63fa2eb1",
   "metadata": {
    "slideshow": {
     "slide_type": "subslide"
    }
   },
   "source": [
    "or as an odd function by use of:\n",
    "\n",
    "$$f_o(t) = \\frac{1}{2}\\left[f(t)-f(-t)\\right]$$"
   ]
  },
  {
   "cell_type": "markdown",
   "id": "145cc098",
   "metadata": {
    "slideshow": {
     "slide_type": "subslide"
    }
   },
   "source": [
    "Adding these together, an abitrary signal can be represented as\n",
    "\n",
    "$$f(t) = f_e(t) + f_o(t)$$"
   ]
  },
  {
   "cell_type": "markdown",
   "id": "8d1a574a",
   "metadata": {
    "slideshow": {
     "slide_type": "fragment"
    }
   },
   "source": [
    "That is, any function of time can be expressed as the sum of an even and an odd function."
   ]
  },
  {
   "cell_type": "markdown",
   "id": "0acaba29",
   "metadata": {
    "slideshow": {
     "slide_type": "slide"
    }
   },
   "source": [
    "### Example 1\n",
    "\n",
    "Is the Dirac delta $\\delta(t)$ an *even* or an *odd* function of time?\n",
    "\n",
    "We'll decide in class."
   ]
  },
  {
   "cell_type": "markdown",
   "id": "494d254c",
   "metadata": {
    "slideshow": {
     "slide_type": "notes"
    }
   },
   "source": [
    "#### Solution to example 1\n",
    "\n",
    "Let $f(t)$ be an arbitrary function of time that is continous at $t=t_0$. Then by the sifting property of the delta function\n",
    "\n",
    "$$\\int_{-\\infty}^{\\infty} f(t)\\delta(t-t_0) dt = f(t_0)$$\n",
    "\n",
    "and for $t_0 = 0$\n",
    "\n",
    "$$\\int_{-\\infty}^{\\infty} f(t)\\delta(t) dt = f(0)$$\n",
    "\n",
    "Also for an even function $f_e(t)$\n",
    "\n",
    "$$\\int_{-\\infty}^{\\infty} f_e(t)\\delta(t) dt = f_e(0)$$\n",
    "\n",
    "and for an odd function $f_o(t)$\n",
    "\n",
    "$$\\int_{-\\infty}^{\\infty} f_o(t)\\delta(t) dt = f_o(0)$$\n",
    "\n",
    "#### Even or odd?\n",
    "\n",
    "An odd function $f_o(t)$ evaluated at $t=0$ is zero, that is $f_o(0) = 0$.\n",
    "\n",
    "Hence\n",
    "\n",
    "$$\\int_{-\\infty}^{\\infty} f_o(t)\\delta(t) dt = f_o(0) = 0$$\n",
    "\n",
    "Hence the product $f_o(t)\\delta(t)$ is odd function of $t$.\n",
    "\n",
    "Since $f_o(t)$ is odd, $\\delta(t)$ must be even because only an *even* function multiplied by an *odd* function can result in an *odd* function.\n",
    "\n",
    "(Even times even or odd times odd produces an even function. See earlier slide)"
   ]
  },
  {
   "cell_type": "markdown",
   "id": "81928eb8",
   "metadata": {
    "slideshow": {
     "slide_type": "slide"
    }
   },
   "source": [
    "## Time Convolution\n",
    "\n",
    "Consider a system whose input is the Dirac delta ($\\delta(t)$), and its output is the ***impulse response*** $h(t)$."
   ]
  },
  {
   "cell_type": "markdown",
   "id": "40264904",
   "metadata": {
    "slideshow": {
     "slide_type": "subslide"
    }
   },
   "source": [
    "We can represent the input-output relationship as a block diagram\n",
    "\n",
    "<img src=\"pictures/conv1.png\" width=\"50%\">"
   ]
  },
  {
   "cell_type": "markdown",
   "id": "b06d1a83",
   "metadata": {
    "slideshow": {
     "slide_type": "subslide"
    }
   },
   "source": [
    "### In general\n",
    "\n",
    "<img src=\"pictures/conv2.png\" width=\"50%\">"
   ]
  },
  {
   "cell_type": "markdown",
   "id": "501f5915",
   "metadata": {
    "slideshow": {
     "slide_type": "subslide"
    }
   },
   "source": [
    "### Add an arbitrary input\n",
    "\n",
    "Let $u(t)$ be any input whose value at $t=\\tau$ is $u(\\tau)$, Then because of the sampling property of the delta function\n",
    "\n",
    "<img src=\"pictures/conv3.png\" width=\"50%\">\n",
    "\n",
    "(output is $u(\\tau)h(t-\\tau)$)"
   ]
  },
  {
   "cell_type": "markdown",
   "id": "4b110cb3",
   "metadata": {
    "slideshow": {
     "slide_type": "subslide"
    }
   },
   "source": [
    "### Integrate both sides\n",
    "\n",
    "Integrating both sides over all values of $\\tau$ ($-\\infty < \\tau < \\infty$) and making use of the fact that the delta function is even, i.e. \n",
    "\n",
    "$$\\delta(t-\\tau)=\\delta(\\tau-t)$$\n",
    "\n",
    "we have:"
   ]
  },
  {
   "cell_type": "markdown",
   "id": "3269c075",
   "metadata": {
    "slideshow": {
     "slide_type": "subslide"
    }
   },
   "source": [
    "<img src=\"pictures/conv4.png\">"
   ]
  },
  {
   "cell_type": "markdown",
   "id": "1f8c39c5",
   "metadata": {
    "slideshow": {
     "slide_type": "subslide"
    }
   },
   "source": [
    "### Use the sifting property of delta\n",
    "\n",
    "The second integral on the left side reduces to $u(t)$\n",
    "\n",
    "<img src=\"pictures/conv5.png\">"
   ]
  },
  {
   "cell_type": "markdown",
   "id": "229b58c9",
   "metadata": {
    "slideshow": {
     "slide_type": "subslide"
    }
   },
   "source": [
    "### The Convolution Integral"
   ]
  },
  {
   "cell_type": "markdown",
   "id": "2594b49f",
   "metadata": {
    "slideshow": {
     "slide_type": "fragment"
    }
   },
   "source": [
    "The integral\n",
    "\n",
    "$${\\int_{-\\infty}^{\\infty} u(\\tau)h(t-\\tau)d\\tau}$$"
   ]
  },
  {
   "cell_type": "markdown",
   "id": "002958ff",
   "metadata": {
    "slideshow": {
     "slide_type": "subslide"
    }
   },
   "source": [
    "or\n",
    "\n",
    "$${\\int_{-\\infty}^{\\infty} u(t-\\tau)h(\\tau)d\\tau}$$"
   ]
  },
  {
   "cell_type": "markdown",
   "id": "d8f21bc0",
   "metadata": {
    "slideshow": {
     "slide_type": "fragment"
    }
   },
   "source": [
    "is known as the *convolution integral*; it states that if we know the impulse response of a system, we can compute its time response to any input by using either of the integrals."
   ]
  },
  {
   "cell_type": "markdown",
   "id": "bab5876e",
   "metadata": {
    "slideshow": {
     "slide_type": "subslide"
    }
   },
   "source": [
    "The convolution integral is usually written $u(t)*h(t)$ or $h(t)*u(t)$ where the asterisk ($*$) denotes convolution."
   ]
  },
  {
   "cell_type": "markdown",
   "id": "3f17b27d",
   "metadata": {
    "slideshow": {
     "slide_type": "subslide"
    }
   },
   "source": [
    "## Graphical Evaluation of the Convolution Integral\n",
    "\n",
    "The convolution integral is most conveniently evaluated by a graphical evaluation. The text book gives three examples (6.4-6.6) which we will demonstrate in class using a [graphical visualization tool](https://uk.mathworks.com/matlabcentral/fileexchange/25199-graphical-demonstration-of-convolution) developed by Teja Muppirala of the Mathworks.\n",
    "\n",
    "The tool: [convolutiondemo.m](https://cpjobling.github.io/eg-247-textbook/laplace_transform/matlab/convolution_demo/convolutiondemo.m) (see [license.txt](https://cpjobling.github.io/eg-247-textbook/laplace_transform/matlab/convolution_demo/license.txt))."
   ]
  },
  {
   "cell_type": "code",
   "execution_count": 1,
   "id": "9faf5d7f",
   "metadata": {
    "slideshow": {
     "slide_type": "subslide"
    }
   },
   "outputs": [
    {
     "name": "stdout",
     "output_type": "stream",
     "text": [
      "\n",
      "ans =\n",
      "\n",
      "    '/Users/eechris/code/src/github.com/cpjobling/eg-247-textbook/laplace_transform/matlab/convolution_demo'\n",
      "\n"
     ]
    }
   ],
   "source": [
    "clear all\n",
    "cd ../matlab/convolution_demo\n",
    "pwd"
   ]
  },
  {
   "cell_type": "code",
   "execution_count": 2,
   "id": "965cca9c",
   "metadata": {
    "slideshow": {
     "slide_type": "subslide"
    },
    "tags": [
     "remove-output"
    ]
   },
   "outputs": [
    {
     "name": "stdout",
     "output_type": "stream",
     "text": [
      "Warning: The EraseMode property is no longer supported and will error in a future release.\n"
     ]
    },
    {
     "name": "stdout",
     "output_type": "stream",
     "text": [
      "> In convolutiondemo>convolutiondemo_LayoutFcn (line 398)\n",
      "In convolutiondemo>gui_mainfcn (line 1188)\n",
      "In convolutiondemo (line 44)\n"
     ]
    },
    {
     "name": "stdout",
     "output_type": "stream",
     "text": [
      "Warning: The EraseMode property is no longer supported and will error in a future release.\n"
     ]
    },
    {
     "name": "stdout",
     "output_type": "stream",
     "text": [
      "> In convolutiondemo>convolutiondemo_LayoutFcn (line 449)\n",
      "In convolutiondemo>gui_mainfcn (line 1188)\n",
      "In convolutiondemo (line 44)\n"
     ]
    },
    {
     "name": "stdout",
     "output_type": "stream",
     "text": [
      "Warning: The EraseMode property is no longer supported and will error in a future release.\n"
     ]
    },
    {
     "name": "stdout",
     "output_type": "stream",
     "text": [
      "> In convolutiondemo>convolutiondemo_LayoutFcn (line 500)\n",
      "In convolutiondemo>gui_mainfcn (line 1188)\n",
      "In convolutiondemo (line 44)\n"
     ]
    },
    {
     "name": "stdout",
     "output_type": "stream",
     "text": [
      "Warning: The EraseMode property is no longer supported and will error in a future release.\n"
     ]
    },
    {
     "name": "stdout",
     "output_type": "stream",
     "text": [
      "> In convolutiondemo>convolutiondemo_LayoutFcn (line 551)\n",
      "In convolutiondemo>gui_mainfcn (line 1188)\n",
      "In convolutiondemo (line 44)\n"
     ]
    },
    {
     "name": "stdout",
     "output_type": "stream",
     "text": [
      "Warning: The EraseMode property is no longer supported and will error in a future release.\n"
     ]
    },
    {
     "name": "stdout",
     "output_type": "stream",
     "text": [
      "> In convolutiondemo>convolutiondemo_LayoutFcn (line 621)\n",
      "In convolutiondemo>gui_mainfcn (line 1188)\n",
      "In convolutiondemo (line 44)\n"
     ]
    },
    {
     "name": "stdout",
     "output_type": "stream",
     "text": [
      "Warning: The EraseMode property is no longer supported and will error in a future release.\n"
     ]
    },
    {
     "name": "stdout",
     "output_type": "stream",
     "text": [
      "> In convolutiondemo>convolutiondemo_LayoutFcn (line 672)\n",
      "In convolutiondemo>gui_mainfcn (line 1188)\n",
      "In convolutiondemo (line 44)\n"
     ]
    },
    {
     "name": "stdout",
     "output_type": "stream",
     "text": [
      "Warning: The EraseMode property is no longer supported and will error in a future release.\n"
     ]
    },
    {
     "name": "stdout",
     "output_type": "stream",
     "text": [
      "> In convolutiondemo>convolutiondemo_LayoutFcn (line 723)\n",
      "In convolutiondemo>gui_mainfcn (line 1188)\n",
      "In convolutiondemo (line 44)\n"
     ]
    },
    {
     "name": "stdout",
     "output_type": "stream",
     "text": [
      "Warning: The EraseMode property is no longer supported and will error in a future release.\n"
     ]
    },
    {
     "name": "stdout",
     "output_type": "stream",
     "text": [
      "> In convolutiondemo>convolutiondemo_LayoutFcn (line 774)\n",
      "In convolutiondemo>gui_mainfcn (line 1188)\n",
      "In convolutiondemo (line 44)\n"
     ]
    }
   ],
   "source": [
    "convolutiondemo % ignore warnings"
   ]
  },
  {
   "cell_type": "markdown",
   "id": "f81da1b2",
   "metadata": {
    "slideshow": {
     "slide_type": "subslide"
    }
   },
   "source": [
    "### Convolution by Graphical Method - Summary of Steps"
   ]
  },
  {
   "cell_type": "markdown",
   "id": "d5ddbadd",
   "metadata": {
    "slideshow": {
     "slide_type": "fragment"
    }
   },
   "source": [
    "For simplicity, we give the rules for $u(t)$, but the procedure is the same if we reflect and slide $h(t)$"
   ]
  },
  {
   "cell_type": "markdown",
   "id": "bcedc9d3",
   "metadata": {
    "slideshow": {
     "slide_type": "subslide"
    }
   },
   "source": [
    "1. Substitute $u(t)$ with $u(\\tau)$ &ndash; this is a simple change of variable. It doesn't change the definition of $u(t)$."
   ]
  },
  {
   "cell_type": "markdown",
   "id": "2d88669c",
   "metadata": {
    "slideshow": {
     "slide_type": "fragment"
    }
   },
   "source": [
    "2. Reflect $u(\\tau)$ about the vertical axis to form $u(-\\tau)$"
   ]
  },
  {
   "cell_type": "markdown",
   "id": "4aff837f",
   "metadata": {
    "slideshow": {
     "slide_type": "fragment"
    }
   },
   "source": [
    "3. Slide $u(-\\tau)$ to the right a distance $t$ to obtain $u(t-\\tau)$"
   ]
  },
  {
   "cell_type": "markdown",
   "id": "0ec69662",
   "metadata": {
    "slideshow": {
     "slide_type": "subslide"
    }
   },
   "source": [
    "4. Multiply the two signals to obtain the product $u(t-\\tau)h(\\tau)$"
   ]
  },
  {
   "cell_type": "markdown",
   "id": "5d333c45",
   "metadata": {
    "slideshow": {
     "slide_type": "fragment"
    }
   },
   "source": [
    "5. Integrate the product over all $\\tau$ from $-\\infty$ to $\\infty$."
   ]
  },
  {
   "cell_type": "markdown",
   "id": "f1033c86",
   "metadata": {
    "slideshow": {
     "slide_type": "subslide"
    }
   },
   "source": [
    "### Examples"
   ]
  },
  {
   "cell_type": "markdown",
   "id": "0d201a07",
   "metadata": {
    "slideshow": {
     "slide_type": "fragment"
    }
   },
   "source": [
    "We will do these live in class."
   ]
  },
  {
   "cell_type": "markdown",
   "id": "6a4fa673",
   "metadata": {
    "slideshow": {
     "slide_type": "notes"
    }
   },
   "source": [
    "#### Example 2\n",
    "\n",
    "(This is example 6.4 in the textbook)\n",
    "\n",
    "The signals $h(t)$ and $u(t)$ are shown below. Compute $h(t)*u(t)$ using the graphical technique.\n",
    "\n",
    "<img src=\"pictures/conv_ex1.png\">"
   ]
  },
  {
   "cell_type": "markdown",
   "id": "47c354c9",
   "metadata": {
    "slideshow": {
     "slide_type": "notes"
    }
   },
   "source": [
    "##### h(t)\n",
    "\n",
    "The signal $h(t)$ is the straight line $f(t)=-t+1$ but this is defined only between $t = 0$ and $t = 1$. We thus need to gate the function by multiplying it by $u_0(t)-u_0(t-1)$ as illustrated below:\n",
    "\n",
    "<img src=\"pictures/gate_h.png\">"
   ]
  },
  {
   "cell_type": "markdown",
   "id": "55e48331",
   "metadata": {
    "slideshow": {
     "slide_type": "notes"
    }
   },
   "source": [
    "#### convolutiondemo settings\n",
    "\n",
    "* Let `f = heaviside(t)-heaviside(t-1) % u(t)`\n",
    "* Let `g = (t-1)*(heaviside(t)-heaviside(t-1)) % h(t)`\n",
    "* Set range $-2 < \\tau < -2$"
   ]
  },
  {
   "cell_type": "markdown",
   "id": "ac495ef9",
   "metadata": {
    "slideshow": {
     "slide_type": "notes"
    }
   },
   "source": [
    "### Alternative solution\n",
    "\n",
    "The original version of `convolutiondemo` didn't support the `heaviside` function so to prepare this problem for evaluation in the `convolutiondemo` tool, we needed to determine the Laplace Transforms of $h(t)$ and $u(t)$."
   ]
  },
  {
   "cell_type": "markdown",
   "id": "f01e62af",
   "metadata": {
    "slideshow": {
     "slide_type": "notes"
    }
   },
   "source": [
    "Thus\n",
    "\n",
    "$$h(t) \\Leftrightarrow H(s)$$\n",
    "\n",
    "$$h(t) = (-t + 1)(u_0(t)-u_0(t-1)) = (-t + 1)u_0(t) - (-(t - 1)u_0(t - 1)) = -t u_0(t) + u_0(t) + (t - 1)u_0(t - 1)$$\n",
    "\n",
    "$$-t u_0(t) + u_0(t) + (t - 1)u_0(t - 1) \\Leftrightarrow - \\frac{1}{s^2} + \\frac{1}{s} +\\frac{e^{-s}}{s^2}$$\n",
    "\n",
    "$$H(s) = \\frac{s + e^{-s} - 1}{s^2}$$\n",
    "\n",
    "#### u(t)\n",
    "\n",
    "The input $u(t)$ is the gating function:\n",
    "\n",
    "$$u(t) = u_0(t)-u_0(t-1)$$\n",
    "\n",
    "so\n",
    "\n",
    "$$U(s) = \\frac{1}{s}-\\frac{e^{-s}}{s} = \\frac{1 - e^{-s}}{s}$$"
   ]
  },
  {
   "cell_type": "markdown",
   "id": "4030426e",
   "metadata": {
    "slideshow": {
     "slide_type": "notes"
    }
   },
   "source": [
    "#### convolutiondemo settings\n",
    "\n",
    "* Let `f = (1 - exp(-s))/s % U(s)`\n",
    "* Let `\n",
    "g= (s + exp(-s) - 1)/s^2 % H(s)`\n",
    "* Set range $-2 < \\tau < -2$"
   ]
  },
  {
   "cell_type": "markdown",
   "id": "910b22c4",
   "metadata": {
    "slideshow": {
     "slide_type": "notes"
    }
   },
   "source": [
    "#### Summary of result\n",
    "\n",
    "1. For $t < 0$: $$u(t-\\tau)h(\\tau) = 0$$\n",
    "2. For $t = 0$: $u(t-\\tau) = u(-\\tau)$ and $u(-\\tau)h(\\tau) = 0$\n",
    "3. For $0 < t \\le 1$: \n",
    "    $$h*u = \\int_0^t (1)(-\\tau + 1)d\\tau = \\left.\\tau - \\tau^2/2\\right|_0^t = t-t^2/2$$\n",
    "4. For $1 < t \\le 2$: \n",
    "    $$h*u = \\int_{t-1}^1(-\\tau + 1)d\\tau = \\left.\\tau - \\tau^2/2\\right|_{t-1}^{1} = t^2/2-2t+2$$\n",
    "5. For $2 \\le t$: $$u(t-\\tau)h(\\tau) = 0$$"
   ]
  },
  {
   "cell_type": "markdown",
   "id": "872501a0",
   "metadata": {
    "slideshow": {
     "slide_type": "notes"
    }
   },
   "source": [
    "#### Example 3\n",
    "\n",
    "This is example 6.5 from the text book.\n",
    "\n",
    "$$h(t) = e^{-t}$$\n",
    "\n",
    "$$u(t) = u_0(t)-u_0(t-1)$$"
   ]
  },
  {
   "cell_type": "markdown",
   "id": "a2ceaf96",
   "metadata": {
    "slideshow": {
     "slide_type": "notes"
    }
   },
   "source": [
    "##### Answer 3\n",
    "\n",
    "$$y(t) = \\left\\{ {\\begin{array}{*{20}{l}}\n",
    "{0:t \\le 0}\\\\\n",
    "1 - e^{ - t}:\\;0 < t \\le 1\\\\\n",
    "e^{ - t}\\left( {e - 1} \\right):\\;1 < t \\lt \\infty\n",
    "\\end{array}} \\right.$$"
   ]
  },
  {
   "cell_type": "markdown",
   "id": "eda15de2",
   "metadata": {
    "slideshow": {
     "slide_type": "notes"
    }
   },
   "source": [
    "##### Check with MATLAB"
   ]
  },
  {
   "cell_type": "code",
   "execution_count": 3,
   "id": "12f58d87",
   "metadata": {
    "slideshow": {
     "slide_type": "notes"
    }
   },
   "outputs": [
    {
     "name": "stdout",
     "output_type": "stream",
     "text": [
      " \n"
     ]
    },
    {
     "name": "stdout",
     "output_type": "stream",
     "text": [
      "x1 =\n",
      " \n"
     ]
    },
    {
     "name": "stdout",
     "output_type": "stream",
     "text": [
      "1 - exp(-t)\n"
     ]
    },
    {
     "name": "stdout",
     "output_type": "stream",
     "text": [
      " \n"
     ]
    }
   ],
   "source": [
    "syms t tau\n",
    "x1=int(exp(-tau),tau,0,t)"
   ]
  },
  {
   "cell_type": "code",
   "execution_count": 4,
   "id": "c880e466",
   "metadata": {
    "slideshow": {
     "slide_type": "notes"
    }
   },
   "outputs": [
    {
     "name": "stdout",
     "output_type": "stream",
     "text": [
      " \n"
     ]
    },
    {
     "name": "stdout",
     "output_type": "stream",
     "text": [
      "x2 =\n"
     ]
    },
    {
     "name": "stdout",
     "output_type": "stream",
     "text": [
      " \n"
     ]
    },
    {
     "name": "stdout",
     "output_type": "stream",
     "text": [
      "exp(-t)*(exp(1) - 1)\n"
     ]
    },
    {
     "name": "stdout",
     "output_type": "stream",
     "text": [
      " \n"
     ]
    }
   ],
   "source": [
    "x2=int(exp(-tau),tau,t-1,t)"
   ]
  },
  {
   "cell_type": "markdown",
   "id": "2f329ce1",
   "metadata": {
    "slideshow": {
     "slide_type": "notes"
    }
   },
   "source": [
    "#### Example 4\n",
    "\n",
    "This is example 6.6 from the text book.\n",
    "\n",
    "$$h(t) = 2(u_0(t)-u_0(t-1))$$\n",
    "\n",
    "$$u(t) = u_0(t)-u_0(t-2)$$"
   ]
  },
  {
   "cell_type": "markdown",
   "id": "be06e529",
   "metadata": {
    "slideshow": {
     "slide_type": "notes"
    }
   },
   "source": [
    "##### Answer 4\n",
    "\n",
    "$$y(t) = \\left\\{ {\\begin{array}{*{20}{l}}\n",
    "{0:t \\le 0}\\\\\n",
    "{2t:\\;0 < t \\le 1}\\\\\n",
    "{2:\\;1 < t \\le 2}\\\\\n",
    "{-2t+6:\\;2 < t \\le 3}\\\\\n",
    "{0:\\;3 \\le t}\\\\\n",
    "\\end{array}} \\right.$$"
   ]
  },
  {
   "cell_type": "markdown",
   "id": "1323b639",
   "metadata": {
    "slideshow": {
     "slide_type": "slide"
    }
   },
   "source": [
    "## System Response by Laplace\n",
    "\n",
    "In the discussion of Laplace, we stated that\n",
    "\n",
    "$$\\mathcal{L} \\left\\{ f(t)*g(t)\\right\\} = F(s)G(s)$$\n",
    "\n",
    "We can use this property to make the solution of convolution problems even simpler."
   ]
  },
  {
   "cell_type": "markdown",
   "id": "39061aa0",
   "metadata": {
    "slideshow": {
     "slide_type": "notes"
    }
   },
   "source": [
    "### Impulse Response and Transfer Functions\n",
    "\n",
    "Returning to the example we started with\n",
    "\n",
    "<img src=\"pictures/conv1.png\" width=\"50%\">\n",
    "\n",
    "Then the impulse response of the system $h(t)$ will be given by:\n",
    "\n",
    "$$\\mathcal{L} \\left\\{ h(t)*\\delta(t)\\right\\} = H(s)\\Delta(s)$$\n",
    "\n",
    "Where $H(s)$ be the laplace transform of the impulse response of the system $h(t)$. From properties of the Laplace transform we know that\n",
    "\n",
    "$$\\delta(t) \\Leftrightarrow 1$$\n",
    "\n",
    "so that $\\Delta(s) = 1$ and\n",
    "\n",
    "$$h(t)*\\delta(t) \\Leftrightarrow H(s).1 = H(s)$$\n",
    "\n",
    "A consequence of this is that the transform of the impulse response $h(t)$ of a system with transfer function $H(s)$ is completely defined by the transfer function itself.\n",
    "\n",
    "Previously we argued that the response of system with impulse response $h(t)$ was given by the convolution integrals:\n",
    "\n",
    "$$h(t)*u(t) = {\\int_{-\\infty}^{\\infty} u(\\tau)h(t-\\tau)d\\tau} = {\\int_{-\\infty}^{\\infty} u(t-\\tau)h(\\tau)d\\tau}$$\n",
    "\n",
    "Thus the Laplace transform of any system subject to an input $u(t)$ is simply\n",
    "\n",
    "$$Y(s) = H(s)U(s)$$\n",
    "\n",
    "and \n",
    "\n",
    "$$y(t) = \\mathcal{L}^{-1} \\left\\{ H(s) U(s) \\right\\}$$\n",
    "\n",
    "Using tables, solution of a convolution problem by Laplace is usually simpler than using convolution directly."
   ]
  },
  {
   "cell_type": "markdown",
   "id": "2812fb41",
   "metadata": {
    "slideshow": {
     "slide_type": "subslide"
    }
   },
   "source": [
    "### More Examples\n",
    "\n",
    "We will work through these in class"
   ]
  },
  {
   "cell_type": "markdown",
   "id": "56a4ac93",
   "metadata": {
    "slideshow": {
     "slide_type": "notes"
    }
   },
   "source": [
    "#### Example 5\n",
    "\n",
    "This is example 6.7 from the textbook.\n",
    "\n",
    "<img src=\"pictures/example4.jpg\" width=\"75%\">"
   ]
  },
  {
   "cell_type": "markdown",
   "id": "55330872",
   "metadata": {
    "slideshow": {
     "slide_type": "notes"
    }
   },
   "source": [
    "For the circuit shown above, show that the transfer function of the circuit is:\n",
    "\n",
    "$$ H(s) = \\frac{V_c(s)}{V_s(s)} = \\frac{1/RC}{s + 1/RC} $$\n",
    "\n",
    "Hence determine the impulse respone $h(t)$ of the circuit and the response of the capacitor voltage when the input is the unit step function $u_0(t)$ and $v_c(0^-)=0$.\n",
    "\n",
    "Assume $C=1\\; \\mathrm{F}$ and $R=1\\;\\Omega$."
   ]
  },
  {
   "cell_type": "markdown",
   "id": "0c80e19b",
   "metadata": {
    "slideshow": {
     "slide_type": "notes"
    }
   },
   "source": [
    "##### Solution 5a - Impulse response\n",
    "\n",
    "$$h(t)=\\frac{1}{RC}e^{-t/RC}u_0(t)$$\n",
    "\n",
    "which when $C=1\\; \\mathrm{F}$ and $R=1\\;\\Omega$ reduces to\n",
    "\n",
    "$$h(t)=e^{-t}u_0(t)$$.\n",
    "\n",
    "+++ {\"slideshow\": {\"slide_type\": \"notes\"}}\n",
    "\n",
    "##### Solution  5b - Step response\n",
    "\n",
    "$$h(t) = e^{−t}u_0(t) \\Leftrightarrow H(s) = \\frac{1}{s+1}$$\n",
    "\n",
    "$$u(t) = u_0(t) \\Leftrightarrow U(s) = \\frac{1}{s}$$\n",
    "\n",
    "$$y(t) = h(t)*u(t) \\Leftrightarrow Y(s) = H(s)U(s) = \\left(\\frac{1}{s+1}\\right)\\times\\left(\\frac{1}{s}\\right)$$\n",
    "\n",
    "By PFE \n",
    "\n",
    "$$Y(s) = \\frac{r_1}{s+1} + \\frac{r_2}{s}$$\n",
    "\n",
    "The residues are $r_1=-1$, $r_2=1$, so\n",
    "\n",
    "$$Y(s) = -\\frac{1}{s+1} + \\frac{1}{s} \\Leftrightarrow y(t) = \\left(1-e^{-t}\\right)u_0(t)$$"
   ]
  },
  {
   "cell_type": "markdown",
   "id": "ff1ee6c7",
   "metadata": {
    "slideshow": {
     "slide_type": "notes"
    }
   },
   "source": [
    "### Homework \n",
    "\n",
    "Verify this result using the convolution integral\n",
    "\n",
    "$$h(t)*u(t) = {\\int_{-\\infty}^{\\infty} u(\\tau)h(t-\\tau)d\\tau}$$\n",
    "\n",
    "\n",
    "### Reference\n",
    "\n",
    "See [Bibliography](/zbib)."
   ]
  }
 ],
 "metadata": {
  "jupytext": {
   "formats": "ipynb,md:myst",
   "text_representation": {
    "extension": ".md",
    "format_name": "myst",
    "format_version": 0.13,
    "jupytext_version": "1.14.4"
   }
  },
  "kernelspec": {
   "display_name": "Matlab",
   "language": "matlab",
   "name": "matlab"
  },
  "language_info": {
   "codemirror_mode": "octave",
   "file_extension": ".m",
   "help_links": [
    {
     "text": "MetaKernel Magics",
     "url": "https://metakernel.readthedocs.io/en/latest/source/README.html"
    }
   ],
   "mimetype": "text/x-octave",
   "name": "matlab",
   "version": "0.17.1"
  },
  "source_map": [
   15,
   19,
   31,
   39,
   43,
   49,
   54,
   59,
   67,
   71,
   81,
   85,
   93,
   99,
   109,
   113,
   121,
   127,
   136,
   140,
   144,
   150,
   156,
   164,
   170,
   176,
   180,
   188,
   222,
   228,
   234,
   240,
   250,
   260,
   264,
   272,
   276,
   282,
   288,
   292,
   296,
   304,
   314,
   323,
   327,
   331,
   335,
   339,
   343,
   347,
   351,
   355,
   359,
   369,
   377,
   385,
   391,
   413,
   422,
   434,
   444,
   454,
   458,
   467,
   475,
   485,
   497,
   507,
   543,
   549,
   557,
   567,
   595
  ]
 },
 "nbformat": 4,
 "nbformat_minor": 5
}