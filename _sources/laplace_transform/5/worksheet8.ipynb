{
 "cells": [
  {
   "cell_type": "markdown",
   "id": "b56ca1f0",
   "metadata": {
    "slideshow": {
     "slide_type": "slide"
    }
   },
   "source": [
    "# Worksheet 8\n",
    "\n",
    "## To accompany Chapter 3.5 Convolution and the Impulse Response"
   ]
  },
  {
   "cell_type": "markdown",
   "id": "2e56f721",
   "metadata": {
    "slideshow": {
     "slide_type": "notes"
    }
   },
   "source": [
    "## Colophon\n",
    "\n",
    "This worksheet can be downloaded as a [PDF file](https://cpjobling.github.io/eg-247-textbook/worksheets/worksheet8.pdf). We will step through this worksheet in class. \n",
    "\n",
    "An annotatable copy of the notes for this presentation will be distributed before the second class meeting as **Worksheet 7** in the **Week 3: Classroom Activities** section of the Canvas site. I will also distribute a copy to your personal **Worksheets** section of the **OneNote Class Notebook** so that you can add your own notes using OneNote. \n",
    "\n",
    "You are expected to have at least watched the video presentation of [Chapter 3.5](https://cpjobling.github.io/eg-247-textbook/laplace_transform/5/convolution) of the [notes](https://cpjobling.github.io/eg-247-textbook) before coming to class. If you haven't watch it afterwards!\n",
    "\n",
    "After class, the lecture recording and the annotated version of the worksheets will be made available through Canvas."
   ]
  },
  {
   "cell_type": "markdown",
   "id": "d1be60ee",
   "metadata": {
    "slideshow": {
     "slide_type": "slide"
    }
   },
   "source": [
    "## Agenda\n",
    "\n",
    "The material to be presented is:"
   ]
  },
  {
   "cell_type": "markdown",
   "id": "9e84feb3",
   "metadata": {
    "slideshow": {
     "slide_type": "subslide"
    }
   },
   "source": [
    "### First Hour"
   ]
  },
  {
   "cell_type": "markdown",
   "id": "385e9339",
   "metadata": {
    "slideshow": {
     "slide_type": "fragment"
    }
   },
   "source": [
    "* Even and Odd Functions of Time\n",
    "* Time Convolution"
   ]
  },
  {
   "cell_type": "markdown",
   "id": "272b4b91",
   "metadata": {
    "slideshow": {
     "slide_type": "slide"
    }
   },
   "source": [
    "## Even and Odd Functions of Time\n",
    "\n",
    "Fill in the Blanks Quiz."
   ]
  },
  {
   "cell_type": "markdown",
   "id": "fc2a77a5",
   "metadata": {
    "slideshow": {
     "slide_type": "notes"
    }
   },
   "source": [
    "### Even Functions of Time\n",
    "\n",
    "A function $f(t)$ is said to be an *even function* of time if the following relation holds\n",
    "\n",
    "<pre style=\"border: 2px solid blue\">\n",
    "\n",
    "\n",
    "\n",
    "\n",
    "</pre>\n",
    "\n",
    "Polynomials with even exponents only, and with or without constants, are even functions. For example:\n",
    "\n",
    "Write down the Taylor-series polynomial expansion of $\\cos t$. Is $\\cos t$ even or odd?\n",
    "\n",
    "<pre style=\"border: 2px solid blue\">\n",
    "\n",
    "\n",
    "\n",
    "\n",
    "</pre>\n",
    "\n",
    "Odd/Even?"
   ]
  },
  {
   "cell_type": "markdown",
   "id": "8bb975b7",
   "metadata": {
    "slideshow": {
     "slide_type": "notes"
    }
   },
   "source": [
    "### Odd Functions of Time\n",
    "\n",
    "A function $f(t)$ is said to be an *odd function* of time if the following relation holds\n",
    "\n",
    "<pre style=\"border: 2px solid blue\">\n",
    "\n",
    "\n",
    "\n",
    "\n",
    "</pre>\n",
    "\n",
    "Polynomials with even exponents only, and with or without constants, are even functions.\n",
    "\n",
    "Write down the Taylor-series polynomial expansion of $\\sin t$. Is $\\sin t$ even or odd?\n",
    "\n",
    "<pre style=\"border: 2px solid blue\">\n",
    "\n",
    "\n",
    "\n",
    "\n",
    "</pre>\n",
    "\n",
    "Odd/Even?"
   ]
  },
  {
   "cell_type": "markdown",
   "id": "029cb448",
   "metadata": {
    "slideshow": {
     "slide_type": "notes"
    }
   },
   "source": [
    "### Observations\n",
    "\n",
    "For odd functions $f(0) =$\n",
    "\n",
    "<pre style=\"border: 2px solid blue\">\n",
    "\n",
    "\n",
    "\n",
    "\n",
    "</pre>\n",
    "\n",
    "The product of *two even* or *two odd* functions is an [Even/Odd] function.\n",
    "\n",
    "The product of an even and an odd function, is an [Even/Odd] function."
   ]
  },
  {
   "cell_type": "markdown",
   "id": "514270af",
   "metadata": {
    "slideshow": {
     "slide_type": "slide"
    }
   },
   "source": [
    "## More about Even and Odd Functions"
   ]
  },
  {
   "cell_type": "markdown",
   "id": "a7c3f279",
   "metadata": {
    "slideshow": {
     "slide_type": "slide"
    }
   },
   "source": [
    "In the following $f_e(t)$ will denote an even function and $f_o(t)$ an odd function."
   ]
  },
  {
   "cell_type": "markdown",
   "id": "03162485",
   "metadata": {
    "slideshow": {
     "slide_type": "subslide"
    }
   },
   "source": [
    "### Time integrals of even and odd functions\n",
    "\n",
    "For an even function $f_e(t)$\n",
    "\n",
    "$$\\int_{-T}^{T}f_e(t) dt = 2 \\int_{0}^{T}f_e(t) dt$$"
   ]
  },
  {
   "cell_type": "markdown",
   "id": "0fff9dc0",
   "metadata": {
    "slideshow": {
     "slide_type": "subslide"
    }
   },
   "source": [
    "For an odd function $f_o(t)$\n",
    "\n",
    "$$\\int_{-T}^{T}f_o(t) dt = 0$$"
   ]
  },
  {
   "cell_type": "markdown",
   "id": "40a76230",
   "metadata": {
    "slideshow": {
     "slide_type": "subslide"
    }
   },
   "source": [
    "### Even/Odd Representation of an Arbitrary Function\n",
    "\n",
    "A function $f(t)$ that is neither even nor odd can be represented as an even function by use of:\n",
    "    \n",
    "$$f_e(t) = \\frac{1}{2}\\left[f(t)+f(-t)\\right]$$"
   ]
  },
  {
   "cell_type": "markdown",
   "id": "d5c27457",
   "metadata": {
    "slideshow": {
     "slide_type": "subslide"
    }
   },
   "source": [
    "or as an odd function by use of:\n",
    "\n",
    "$$f_o(t) = \\frac{1}{2}\\left[f(t)-f(-t)\\right]$$"
   ]
  },
  {
   "cell_type": "markdown",
   "id": "e5a1af48",
   "metadata": {
    "slideshow": {
     "slide_type": "subslide"
    }
   },
   "source": [
    "Adding these together, an abitrary signal can be represented as\n",
    "\n",
    "$$f(t) = f_e(t) + f_o(t)$$\n",
    "\n",
    "That is, any function of time can be expressed as the sum of an even and an odd function."
   ]
  },
  {
   "cell_type": "markdown",
   "id": "021eb216",
   "metadata": {
    "slideshow": {
     "slide_type": "subslide"
    }
   },
   "source": [
    "### Example 1\n",
    "\n",
    "Is the Dirac delta $\\delta(t)$ an even or an odd function of time?"
   ]
  },
  {
   "cell_type": "markdown",
   "id": "9a416a72",
   "metadata": {
    "slideshow": {
     "slide_type": "notes"
    }
   },
   "source": [
    "### Solution\n",
    "\n",
    "Let $f(t)$ be an arbitrary function of time that is continous at $t=t_0$. Then by the sifting property of the delta function\n",
    "\n",
    "<pre style=\"border: 2px solid blue\">\n",
    "\n",
    "\n",
    "\n",
    "\n",
    "</pre>"
   ]
  },
  {
   "cell_type": "markdown",
   "id": "f2fb577a",
   "metadata": {
    "slideshow": {
     "slide_type": "notes"
    }
   },
   "source": [
    "and for $t_0 = 0$\n",
    "\n",
    "<pre style=\"border: 2px solid blue\">\n",
    "\n",
    "\n",
    "\n",
    "\n",
    "</pre>"
   ]
  },
  {
   "cell_type": "markdown",
   "id": "7f1e77ad",
   "metadata": {
    "slideshow": {
     "slide_type": "notes"
    }
   },
   "source": [
    "Also for an even function $f_e(t)$\n",
    "\n",
    "<pre style=\"border: 2px solid blue\">\n",
    "\n",
    "\n",
    "\n",
    "\n",
    "</pre>"
   ]
  },
  {
   "cell_type": "markdown",
   "id": "2abfac7b",
   "metadata": {
    "slideshow": {
     "slide_type": "notes"
    }
   },
   "source": [
    "and for an odd function $f_o(t)$\n",
    "\n",
    "<pre style=\"border: 2px solid blue\">\n",
    "\n",
    "\n",
    "\n",
    "\n",
    "</pre>"
   ]
  },
  {
   "cell_type": "markdown",
   "id": "7e5f02ca",
   "metadata": {
    "slideshow": {
     "slide_type": "subslide"
    }
   },
   "source": [
    "### Even or odd?\n",
    "\n",
    "An odd function $f_o(t)$ evaluated at $t=0$ is zero, that is $f_o(0) = 0$."
   ]
  },
  {
   "cell_type": "markdown",
   "id": "92ac7739",
   "metadata": {
    "slideshow": {
     "slide_type": "fragment"
    }
   },
   "source": [
    "Hence\n",
    "\n",
    "$$\\int_{-\\infty}^{\\infty} f_o(t)\\delta(t) dt = f_o(0) = 0$$"
   ]
  },
  {
   "cell_type": "markdown",
   "id": "8f1ddfa2",
   "metadata": {
    "slideshow": {
     "slide_type": "subslide"
    }
   },
   "source": [
    "Hence the product $f_o(t)\\delta(t)$ is odd function of $t$."
   ]
  },
  {
   "cell_type": "markdown",
   "id": "aacccf6a",
   "metadata": {
    "slideshow": {
     "slide_type": "subslide"
    }
   },
   "source": [
    "Since $f_o(t)$ is odd, $\\delta(t)$ must be even because only an *even* function multiplied by an *odd* function can result in an *odd* function."
   ]
  },
  {
   "cell_type": "markdown",
   "id": "5b545b7c",
   "metadata": {
    "slideshow": {
     "slide_type": "notes"
    }
   },
   "source": [
    "(Even times even or odd times odd produces an even function. See earlier slide)"
   ]
  },
  {
   "cell_type": "markdown",
   "id": "46a07bbf",
   "metadata": {
    "slideshow": {
     "slide_type": "slide"
    }
   },
   "source": [
    "## Time Convolution\n",
    "\n",
    "Consider a system whose input is the Dirac delta ($\\delta(t)$), and its output is the ***impulse response*** $h(t)$. We can represent the input-output relationship as a block diagram\n",
    "\n",
    "<img src=\"pictures/conv1.png\" width=\"50%\">"
   ]
  },
  {
   "cell_type": "markdown",
   "id": "79d54ef1",
   "metadata": {
    "slideshow": {
     "slide_type": "subslide"
    }
   },
   "source": [
    "### In general\n",
    "\n",
    "<img src=\"pictures/conv2.png\" width=\"50%\">"
   ]
  },
  {
   "cell_type": "markdown",
   "id": "c6d2fa0a",
   "metadata": {
    "slideshow": {
     "slide_type": "subslide"
    }
   },
   "source": [
    "### Add an arbitrary input\n",
    "\n",
    "Let $u(t)$ be any input whose value at $t=\\tau$ is $u(\\tau)$, Then because of the sampling property of the delta function\n",
    "\n",
    "<img src=\"pictures/conv3.png\" width=\"50%\">\n",
    "\n",
    "(output is $u(\\tau)h(t-\\tau)$)"
   ]
  },
  {
   "cell_type": "markdown",
   "id": "ee25339b",
   "metadata": {
    "slideshow": {
     "slide_type": "subslide"
    }
   },
   "source": [
    "### Integrate both sides\n",
    "\n",
    "Integrating both sides over all values of $\\tau$ ($-\\infty < \\tau < \\infty$) and making use of the fact that the delta function is even, i.e. \n",
    "\n",
    "$$\\delta(t-\\tau)=\\delta(\\tau-t)$$\n",
    "\n",
    "we have:"
   ]
  },
  {
   "cell_type": "markdown",
   "id": "b763734e",
   "metadata": {
    "slideshow": {
     "slide_type": "subslide"
    }
   },
   "source": [
    "<img src=\"pictures/conv4.png\">"
   ]
  },
  {
   "cell_type": "markdown",
   "id": "0f844d29",
   "metadata": {
    "slideshow": {
     "slide_type": "subslide"
    }
   },
   "source": [
    "### Use the sifting property of delta\n",
    "\n",
    "The second integral on the left side reduces to $u(t)$\n",
    "\n",
    "<img src=\"pictures/conv5.png\">"
   ]
  },
  {
   "cell_type": "markdown",
   "id": "31820827",
   "metadata": {
    "slideshow": {
     "slide_type": "subslide"
    }
   },
   "source": [
    "### The Convolution Integral\n",
    "\n",
    "The integral\n",
    "\n",
    "$${\\int_{-\\infty}^{\\infty} u(\\tau)h(t-\\tau)d\\tau}$$"
   ]
  },
  {
   "cell_type": "markdown",
   "id": "60493aaa",
   "metadata": {
    "slideshow": {
     "slide_type": "subslide"
    }
   },
   "source": [
    "or\n",
    "\n",
    "$${\\int_{-\\infty}^{\\infty} u(t-\\tau)h(\\tau)d\\tau}$$\n",
    "\n",
    "is known as the *convolution integral*; it states that if we know the impulse response of a system, we can compute its time response to any input by using either of the integrals."
   ]
  },
  {
   "cell_type": "markdown",
   "id": "877ee804",
   "metadata": {
    "slideshow": {
     "slide_type": "subslide"
    }
   },
   "source": [
    "The convolution integral is usually written $u(t)*h(t)$ or $h(t)*u(t)$ where the asterisk ($*$) denotes convolution."
   ]
  },
  {
   "cell_type": "markdown",
   "id": "37364c54",
   "metadata": {
    "slideshow": {
     "slide_type": "subslide"
    }
   },
   "source": [
    "### Second Hour"
   ]
  },
  {
   "cell_type": "markdown",
   "id": "ec99fb2f",
   "metadata": {
    "slideshow": {
     "slide_type": "fragment"
    }
   },
   "source": [
    "* Graphical Evaluation of the Convolution Integral\n",
    "* System Response by Laplace"
   ]
  },
  {
   "cell_type": "markdown",
   "id": "d65c1dcc",
   "metadata": {
    "slideshow": {
     "slide_type": "subslide"
    }
   },
   "source": [
    "## Graphical Evaluation of the Convolution Integral\n",
    "\n",
    "The convolution integral is most conveniently evaluated by a graphical evaluation. The text book gives three examples (6.4-6.6) which we will demonstrate using a [graphical visualization tool](https://uk.mathworks.commatlabcentral/fileexchange/25199-graphical-demonstration-of-convolution) developed by Teja Muppirala of the Mathworks.\n",
    "\n",
    "The tool: [convolutiondemo.m](https://github.com/cpjobling/eg-247-textbook/blob/master/laplace_transform/matlab/convolution_demo/convolutiondemo.m) (see [license.txt](https://github.com/cpjobling/eg-247-textbook/blob/master/laplace_transform/matlab/convolution_demo/license.txt))."
   ]
  },
  {
   "cell_type": "code",
   "execution_count": null,
   "id": "9063d37d",
   "metadata": {
    "slideshow": {
     "slide_type": "skip"
    },
    "tags": [
     "remove-output"
    ]
   },
   "outputs": [],
   "source": [
    "clear all\n",
    "cd ../matlab/convolution_demo\n",
    "pwd\n",
    "format compact"
   ]
  },
  {
   "cell_type": "code",
   "execution_count": null,
   "id": "b57e73fb",
   "metadata": {
    "slideshow": {
     "slide_type": "subslide"
    },
    "tags": [
     "remove-output"
    ]
   },
   "outputs": [],
   "source": [
    "ls\n",
    "convolutiondemo % ignore warnings"
   ]
  },
  {
   "cell_type": "markdown",
   "id": "5e4f4822",
   "metadata": {
    "slideshow": {
     "slide_type": "subslide"
    }
   },
   "source": [
    "### Convolution by Graphical Method - Summary of Steps"
   ]
  },
  {
   "cell_type": "markdown",
   "id": "f8bb6202",
   "metadata": {
    "slideshow": {
     "slide_type": "fragment"
    }
   },
   "source": [
    "For simplicity, we give the rules for $u(t)$, but the procedure is the same if we reflect and slide $h(t)$"
   ]
  },
  {
   "cell_type": "markdown",
   "id": "a0c19d63",
   "metadata": {
    "slideshow": {
     "slide_type": "subslide"
    }
   },
   "source": [
    "1. Substitute $u(t)$ with $u(\\tau)$ &ndash; this is a simple change of variable. It doesn't change the definition of $u(t)$."
   ]
  },
  {
   "cell_type": "markdown",
   "id": "586ffdda",
   "metadata": {
    "slideshow": {
     "slide_type": "fragment"
    }
   },
   "source": [
    "2. Reflect $u(\\tau)$ about the vertical axis to form $u(-\\tau)$"
   ]
  },
  {
   "cell_type": "markdown",
   "id": "d54eb730",
   "metadata": {
    "slideshow": {
     "slide_type": "fragment"
    }
   },
   "source": [
    "3. Slide $u(-\\tau)$ to the right a distance $t$ to obtain $u(t-\\tau)$"
   ]
  },
  {
   "cell_type": "markdown",
   "id": "b5322a69",
   "metadata": {
    "slideshow": {
     "slide_type": "subslide"
    }
   },
   "source": [
    "4. Multiply the two signals to obtain the product $u(t-\\tau)h(\\tau)$"
   ]
  },
  {
   "cell_type": "markdown",
   "id": "3ad05cbd",
   "metadata": {
    "slideshow": {
     "slide_type": "fragment"
    }
   },
   "source": [
    "5. Integrate the product over all $\\tau$ from $-\\infty$ to $\\infty$."
   ]
  },
  {
   "cell_type": "markdown",
   "id": "5cb215a6",
   "metadata": {
    "slideshow": {
     "slide_type": "subslide"
    }
   },
   "source": [
    "### Example 2\n",
    "\n",
    "(This is example 6.4 in the Karris)"
   ]
  },
  {
   "cell_type": "markdown",
   "id": "ca54e7d4",
   "metadata": {
    "slideshow": {
     "slide_type": "subslide"
    }
   },
   "source": [
    "The signals $h(t)$ and $u(t)$ are shown below. Compute $h(t)*u(t)$ using the graphical technique.\n",
    "\n",
    "<img src=\"pictures/conv_ex1.png\">"
   ]
  },
  {
   "cell_type": "markdown",
   "id": "90f65c36",
   "metadata": {
    "slideshow": {
     "slide_type": "notes"
    }
   },
   "source": [
    "### h(t)\n",
    "\n",
    "The signal $h(t)$ is the straight line $f(t)=-t+1$ but this is defined only between $t = 0$ and $t = 1$. We thus need to gate the function by multiplying it by $u_0(t)-u_0(t-1)$ as illustrated below:\n",
    "\n",
    "<img src=\"pictures/gate_h.png\">"
   ]
  },
  {
   "cell_type": "markdown",
   "id": "61f21abc",
   "metadata": {
    "slideshow": {
     "slide_type": "notes"
    }
   },
   "source": [
    "### convolutiondemo settings\n",
    "\n",
    "* Let `f = heaviside(t)-heaviside(t-1) % u(t)`\n",
    "* Let `g = (t-1)*(heaviside(t)-heaviside(t-1)) % h(t)`\n",
    "* Set range $-2 < \\tau < -2$"
   ]
  },
  {
   "cell_type": "markdown",
   "id": "d8c88749",
   "metadata": {
    "slideshow": {
     "slide_type": "notes"
    }
   },
   "source": [
    "### Summary of result\n",
    "\n",
    "1. For $t < 0$: $u(t-\\tau)h(\\tau) = 0$\n",
    "2. For $t = 0$: $u(t-\\tau) = u(-\\tau)$ and $u(-\\tau)h(\\tau) = 0$\n",
    "3. For $0 < t \\le 1$: $h*u = \\int_0^t (1)(-\\tau + 1)d\\tau = \\left.\\tau - \\tau^2/2\\right|_0^t = t-t^2/2$\n",
    "4. For $1 < t \\le 2$: $h*u = \\int_{t-1}^1(-\\tau + 1)d\\tau = \\left.\\tau - \\tau^2/2\\right|_{t-1}^{1} = t^2/2-2t+2$\n",
    "5. For $2 \\le t$: $u(t-\\tau)h(\\tau) = 0$"
   ]
  },
  {
   "cell_type": "markdown",
   "id": "d3b5effb",
   "metadata": {
    "slideshow": {
     "slide_type": "subslide"
    }
   },
   "source": [
    "### Example 3\n",
    "\n",
    "This is example 6.5 from Karris.\n",
    "\n",
    "$$h(t) = e^{-t}$$\n",
    "\n",
    "$$u(t) = u_0(t)-u_0(t-1)$$"
   ]
  },
  {
   "cell_type": "markdown",
   "id": "ea724651",
   "metadata": {
    "slideshow": {
     "slide_type": "notes"
    }
   },
   "source": [
    "<pre style=\"border: 2px solid blue\">\n",
    "\n",
    "\n",
    "\n",
    "\n",
    "\n",
    "\n",
    "\n",
    "\n",
    "\n",
    "\n",
    "\n",
    "\n",
    "\n",
    "\n",
    "\n",
    "</pre>"
   ]
  },
  {
   "cell_type": "markdown",
   "id": "92aea1a1",
   "metadata": {
    "slideshow": {
     "slide_type": "notes"
    }
   },
   "source": [
    "### Answer 3\n",
    "\n",
    "$$y(t) = \\left\\{ {\\begin{array}{*{20}{l}}\n",
    "{0:t \\le 0}\\\\\n",
    "1 - e^{ - t}:\\;0 < t \\le 1\\\\\n",
    "e^{ - t}\\left( {e - 1} \\right):\\;1 < t \\lt \\infty\n",
    "\\end{array}} \\right.$$"
   ]
  },
  {
   "cell_type": "markdown",
   "id": "5aee056f",
   "metadata": {
    "slideshow": {
     "slide_type": "subslide"
    }
   },
   "source": [
    "#### Check with MATLAB"
   ]
  },
  {
   "cell_type": "code",
   "execution_count": null,
   "id": "ab3fa604",
   "metadata": {
    "slideshow": {
     "slide_type": "fragment"
    },
    "tags": [
     "remove-output"
    ]
   },
   "outputs": [],
   "source": [
    "syms t tau\n",
    "x1=int(exp(-tau),tau,0,t)"
   ]
  },
  {
   "cell_type": "code",
   "execution_count": null,
   "id": "bdbba1a6",
   "metadata": {
    "slideshow": {
     "slide_type": "fragment"
    },
    "tags": [
     "remove-output"
    ]
   },
   "outputs": [],
   "source": [
    "x2=int(exp(-tau),tau,t-1,t)"
   ]
  },
  {
   "cell_type": "markdown",
   "id": "446bc73f",
   "metadata": {
    "slideshow": {
     "slide_type": "subslide"
    }
   },
   "source": [
    "### Example 4\n",
    "\n",
    "This is example 6.6 from the text book.\n",
    "\n",
    "$$h(t) = 2(u_0(t)-u_0(t-1))$$\n",
    "\n",
    "$$u(t) = u_0(t)-u_0(t-2)$$"
   ]
  },
  {
   "cell_type": "markdown",
   "id": "f3d823df",
   "metadata": {
    "slideshow": {
     "slide_type": "notes"
    }
   },
   "source": [
    "<pre style=\"border: 2px solid blue\">\n",
    "\n",
    "\n",
    "\n",
    "\n",
    "\n",
    "\n",
    "\n",
    "\n",
    "\n",
    "\n",
    "\n",
    "\n",
    "\n",
    "\n",
    "\n",
    "</pre>"
   ]
  },
  {
   "cell_type": "markdown",
   "id": "e9319723",
   "metadata": {
    "slideshow": {
     "slide_type": "notes"
    }
   },
   "source": [
    "### Answer 4\n",
    "\n",
    "$$y(t) = \\left\\{ {\\begin{array}{*{20}{l}}\n",
    "{0:t \\le 0}\\\\\n",
    "{2t:\\;0 < t \\le 1}\\\\\n",
    "{2:\\;1 < t \\le 2}\\\\\n",
    "{-2t+6:\\;2 < t \\le 3}\\\\\n",
    "{0:\\;3 \\le t}\\\\\n",
    "\\end{array}} \\right.$$"
   ]
  },
  {
   "cell_type": "markdown",
   "id": "ae1336f2",
   "metadata": {
    "slideshow": {
     "slide_type": "slide"
    }
   },
   "source": [
    "## System Response by Laplace\n",
    "\n",
    "In the discussion of Laplace, we stated that\n",
    "\n",
    "$$\\mathcal{L} \\left\\{ f(t)*g(t)\\right\\} = F(s)G(s)$$\n",
    "\n",
    "We can use this property to make the solution of convolution problems even simpler."
   ]
  },
  {
   "cell_type": "markdown",
   "id": "2874809c",
   "metadata": {
    "slideshow": {
     "slide_type": "notes"
    }
   },
   "source": [
    "### Impulse Response and Transfer Functions\n",
    "\n",
    "Returning to the example we started with\n",
    "\n",
    "<img src=\"pictures/conv1.png\" width=\"50%\">\n",
    "\n",
    "Then the impulse response of the system $h(t)$ will be given by:\n",
    "\n",
    "$$\\mathcal{L} \\left\\{ h(t)*\\delta(t)\\right\\} = H(s)\\Delta(s)$$\n",
    "\n",
    "Where $H(s)$ be the laplace transform of the impulse response of the system $h(t)$. From properties of the Laplace transform we know that\n",
    "\n",
    "$$\\delta(t) \\Leftrightarrow 1$$\n",
    "\n",
    "so that $\\Delta(s) = 1$ and\n",
    "\n",
    "$$h(t)*\\delta(t) \\Leftrightarrow H(s).1 = H(s)$$\n",
    "\n",
    "A consequence of this is that the transform of the impulse response $h(t)$ of a system with transfer function $H(s)$ is completely defined by the transfer function itself.\n",
    "\n",
    "Previously we argued that the response of system with impulse response $h(t)$ was given by the convolution integrals:\n",
    "\n",
    "$$h(t)*u(t) = {\\int_{-\\infty}^{\\infty} u(\\tau)h(t-\\tau)d\\tau} = {\\int_{-\\infty}^{\\infty} u(t-\\tau)h(\\tau)d\\tau}$$\n",
    "\n",
    "Thus the Laplace transform of any system subject to an input $u(t)$ is simply\n",
    "\n",
    "$$Y(s) = H(s)U(s)$$\n",
    "\n",
    "and \n",
    "\n",
    "$$y(t) = \\mathcal{L}^{-1} \\left\\{ H(s) U(s) \\right\\}$$\n",
    "\n",
    "Using tables, solution of a convolution problem by Laplace is usually simpler than using convolution directly."
   ]
  },
  {
   "cell_type": "markdown",
   "id": "ae6f0c6a",
   "metadata": {
    "slideshow": {
     "slide_type": "subslide"
    }
   },
   "source": [
    "### Example 5\n",
    "\n",
    "This is example 6.7 from Karris."
   ]
  },
  {
   "cell_type": "markdown",
   "id": "4e2d12a0",
   "metadata": {
    "slideshow": {
     "slide_type": "subslide"
    }
   },
   "source": [
    "<img src=\"pictures/example4.jpg\" width=\"75%\">"
   ]
  },
  {
   "cell_type": "markdown",
   "id": "edde521f",
   "metadata": {
    "slideshow": {
     "slide_type": "subslide"
    }
   },
   "source": [
    "For the circuit shown above, show that the transfer function of the circuit is:\n",
    "\n",
    "$$ H(s) = \\frac{V_c(s)}{V_s(s)} = \\frac{1/RC}{s + 1/RC} $$"
   ]
  },
  {
   "cell_type": "markdown",
   "id": "0343510c",
   "metadata": {
    "slideshow": {
     "slide_type": "subslide"
    }
   },
   "source": [
    "Determine the impulse respone $h(t)$ of the circuit and the response of the capacitor voltage when the input is the unit step function $u_0(t)$ and $v_c(0^-)=0$."
   ]
  },
  {
   "cell_type": "markdown",
   "id": "f8b00036",
   "metadata": {
    "slideshow": {
     "slide_type": "fragment"
    }
   },
   "source": [
    "Assume $C=1\\; \\mathrm{F}$ and $R=1\\;\\Omega$."
   ]
  },
  {
   "cell_type": "markdown",
   "id": "8dedfdb8",
   "metadata": {
    "slideshow": {
     "slide_type": "notes"
    }
   },
   "source": [
    "### Solution 5a - Impulse response\n",
    "\n",
    "<pre style=\"border: 2px solid blue\">\n",
    "\n",
    "\n",
    "\n",
    "\n",
    "\n",
    "\n",
    "\n",
    "\n",
    "\n",
    "\n",
    "\n",
    "\n",
    "\n",
    "\n",
    "\n",
    "</pre>"
   ]
  },
  {
   "cell_type": "markdown",
   "id": "d7e3d1d4",
   "metadata": {
    "slideshow": {
     "slide_type": "notes"
    }
   },
   "source": [
    "### Solution  5b - Step response\n",
    "\n",
    "<pre style=\"border: 2px solid blue\">\n",
    "\n",
    "\n",
    "\n",
    "\n",
    "\n",
    "\n",
    "\n",
    "\n",
    "\n",
    "\n",
    "\n",
    "\n",
    "\n",
    "\n",
    "\n",
    "\n",
    "\n",
    "\n",
    "\n",
    "\n",
    "</pre>"
   ]
  },
  {
   "cell_type": "markdown",
   "id": "62c4f3ee",
   "metadata": {
    "slideshow": {
     "slide_type": "slide"
    }
   },
   "source": [
    "### Homework \n",
    "\n",
    "Verify this result using the convolution integral\n",
    "\n",
    "$$h(t)*u(t) = {\\int_{-\\infty}^{\\infty} u(\\tau)h(t-\\tau)d\\tau}$$"
   ]
  }
 ],
 "metadata": {
  "jupytext": {
   "formats": "ipynb,md:myst",
   "text_representation": {
    "extension": ".md",
    "format_name": "myst",
    "format_version": 0.13,
    "jupytext_version": "1.14.1"
   }
  },
  "kernelspec": {
   "display_name": "Matlab",
   "language": "matlab",
   "name": "matlab"
  },
  "source_map": [
   15,
   21,
   33,
   39,
   43,
   48,
   54,
   80,
   106,
   123,
   127,
   131,
   139,
   145,
   153,
   159,
   167,
   173,
   186,
   197,
   208,
   219,
   225,
   231,
   235,
   239,
   243,
   251,
   257,
   267,
   277,
   281,
   289,
   297,
   305,
   309,
   313,
   318,
   326,
   338,
   348,
   352,
   356,
   360,
   364,
   368,
   372,
   376,
   382,
   388,
   396,
   404,
   414,
   424,
   444,
   454,
   458,
   468,
   477,
   487,
   507,
   519,
   529,
   565,
   571,
   575,
   581,
   585,
   589,
   611,
   638
  ]
 },
 "nbformat": 4,
 "nbformat_minor": 5
}