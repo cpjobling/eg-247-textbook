{
 "cells": [
  {
   "cell_type": "markdown",
   "metadata": {},
   "source": [
    "# Lab 4: Time domain convolution"
   ]
  },
  {
   "cell_type": "markdown",
   "metadata": {},
   "source": [
    "## Preamble\n",
    "\n",
    "### Associated Class Notes\n",
    "\n",
    "This lab supports the materials covered in [Chapter 3.5 The Impulse Response and Convolution](https://cpjobling.github.io/eg-247-textbook/laplace_transform/5/convolution) of the course notes. You may wish to refer to [worksheet 8](https://cpjobling.github.io/eg-247-textbook/worksheets/worksheet8) for additional examples to try. \n",
    "\n",
    "### Other formats\n",
    "\n",
    "This document is available in [HTML](https://cpjobling.github.io/eg-247-textbook/labs/lab04/index) format for online viewing [PDF](https://cpjobling.github.io/eg-247-textbook/labs/lab04/lab04.pdf) for printing.\n",
    "\n",
    "### Acknowledgements\n",
    "\n",
    "These examples have been adapted from Chapter 6 of <a href=\"http://site.ebrary.com/lib/swansea/docDetail.action?docID=10547416\" target=\"_blank\">Stephen Karris, Signals and Systems : With MATLAB Computing and Simulink Modeling (5th Edition)</a>"
   ]
  },
  {
   "cell_type": "markdown",
   "metadata": {},
   "source": [
    "## Matlab/Simulink Concepts Introduced\n",
    "\n",
    "In this lab you will:\n",
    "\n",
    "* Explore convolution with the aid of an interactive MATLAB \"app\"\n",
    "* Use the `int` and `heaviside` functions from the **Symbolic Toolbox** to perform symbolic computation of convolution integrals.\n",
    "* Use `laplace` and `ilaplace` to solve convolution problems.\n",
    "* Use `ezplot` to plot symbolic functions."
   ]
  },
  {
   "attachments": {},
   "cell_type": "markdown",
   "metadata": {},
   "source": [
    "## Assessment criteria\n",
    "\n",
    "This will be a self-assessed exercise.\n",
    "\n",
    "Marks can be claimed according to how many of the parts of Lab Exercises 7 and 8 have been completed.\n",
    "\n",
    "Detailed marking criteria for this and the other labs and the project are given in the linked [Assessment Criteria](https://docs.google.com/spreadsheets/d/1EQzwSfGMdw8oiQds4bUR8sZTCgb2lMvcJHjmea-8hW4/edit?usp=sharing) [Google sheet]."
   ]
  },
  {
   "cell_type": "markdown",
   "metadata": {},
   "source": [
    "## Setup\n",
    "\n",
    "### Before you start\n",
    "\n",
    "If you haven't already, create a suitable folder structure on your file-store for your labs. \n",
    "\n",
    "I suggest\n",
    "\n",
    "```\n",
    "P:\\workspace\n",
    "    signals-and-systems-lab\n",
    "\t    lab01\n",
    "\t\tlab02\n",
    "\t\tlab03\n",
    "        lab04\n",
    "        :\n",
    "```\n",
    "\n",
    "Use folder `p:\\workspace\\signals-and-systems-lab\\lab04` for this lab.\n",
    "\n",
    "### Preparation\n",
    "\n",
    "Before we start today's lab you will need to download and install the <a href=\"https://github.com/cpjobling/eg-247-textbook/blob/master/content/laplace_transform/matlab/convolution_demo/convolutiondemo.m\" target=\"_blank\">Graphical demonstration of convolution app</a> from the GitHub respository for this module.\n",
    "\n",
    "To install, right-click button of link as appropriate and save as to your `lab04` folder. \n",
    "\n",
    "Open and run `convolutiondemo.m`.\n",
    "\n",
    "If MATLAB issues a message about the need to change the working directory or add a folder to the MATLAB path. Accept the choice given."
   ]
  },
  {
   "cell_type": "markdown",
   "metadata": {},
   "source": [
    "## Lab Exercises\n",
    "\n",
    "### Lab Exercise 7: Graphical Demonstration of Convolution\n",
    "\n",
    "In this lab exercise we will use the `convolutiondemo` app demonstrated in class as an aid to understanding and setting up the convolution integral for various systems including the step-response of an RL circuit.\n",
    "\n",
    "#### Part 1\n",
    "\n",
    "Set up the `convolutiondemo` app as described in the notes for the computation of the Convolution Integral for Example 6.4 from the textbook illustrated below. (Refer to Example 2 in [the notes](https://cpjobling.github.io/eg-247-textbook/laplace_transform/5/convolution) for the MATLAB settings).\n",
    "\n",
    "![Example 6.4](2014-03-03_1228.png)\n",
    "\n",
    "Use the tool to confirm the convolution result given by this MATLAB script: [exercise7.m](exercise7.m).\n",
    "\n",
    "#### Part 2\n",
    "\n",
    "Taking the script [exercise7.m](exercise7.m) as a model. Use the `convolutiondemo` tool as an aid to defining the integration limits needed to find and plot the convolution integral for the example shown below (Example 6.5 from the textbook).\n",
    "\n",
    "![Example 6.5](2014-03-03_1240.png)\n",
    "\n",
    "#### Part 3\n",
    "\n",
    "Repeat the procedure for example 6.6 from the textbook.\n",
    "\n",
    "![Example 6.6](https://raw.githubusercontent.com/cpjobling/EG-247-Resources/master/portfolio/lab05/2014-03-03_1246.png)\n",
    "\n",
    "\n",
    "#### Part 4\n",
    "\n",
    "Adapt your procedure to determine the step response of the RC circuit given as Example 6.7 in the textbook.\n",
    "\n",
    "![Example 6.7](2014-03-03_1248.png)\n",
    "\n",
    "Note, Parts 2 to 5 should be done in the same Live Script file as the provided Part 1 example. Separate each exercise by titled sections. Don't forget to add explanatory text to document your work."
   ]
  },
  {
   "cell_type": "markdown",
   "metadata": {},
   "source": [
    "### Lab Exercise 8: Using Laplace to Solve Convolution Problems\n",
    "\n",
    "In this lab exercise we will demonstrate that time-convolution of a system response can be solved in the complex frequency domain using Laplace and Inverse Laplace transforms.\n",
    "\n",
    "* Use the inverse Laplace transform function `ilaplace` to solve the step response of the RC circuit given in exercise 7 Part 4 without convolution. You will need the Laplace transform of the circuit's impulse response $h(t)$ and the unit step $u_0(t)$ (MATLAB `heaviside`).\n",
    "* Plot the result using `ezplot`\n",
    "* Confirm the result with a Simulink simulation"
   ]
  },
  {
   "cell_type": "markdown",
   "metadata": {},
   "source": [
    "## What to hand in\n",
    "\n",
    "### Claim\n",
    "\n",
    "Up to 2 marks can be claimed if you complete Part 2 of Exercise 7, an additional 2 marks for is available for Parts 3 and 4 and 1 additional mark is available for completing Lab Exercise 8.\n",
    "\n",
    "### Submission\n",
    "\n",
    "You should submit the following to the **Lab 04: Time domain convolution** Assignment on Canvas.\n",
    "\n",
    "1. Complete the labwork self-assessment claim form and declaration.\n",
    "1. As evidence of completion of Lab Exercise 7, you should upload `ex7_2.mlx`, `ex7_3.mlx`, `ex7_4.mlx` (can be sections in one Live Script `ex7.mlx`).\n",
    "1. As evidence of completion of Lab Exercise 8, you should upload `ex8.mlx`, `ex8.slx`.\n",
    "\n",
    "### Deadline\n",
    "\n",
    "The deadline for claims and submission is **Midnight, 13th March**"
   ]
  }
 ],
 "metadata": {
  "kernelspec": {
   "display_name": "Python 3",
   "language": "python",
   "name": "python3"
  },
  "language_info": {
   "codemirror_mode": {
    "name": "ipython",
    "version": 3
   },
   "file_extension": ".py",
   "mimetype": "text/x-python",
   "name": "python",
   "nbconvert_exporter": "python",
   "pygments_lexer": "ipython3",
   "version": "3.6.8"
  }
 },
 "nbformat": 4,
 "nbformat_minor": 2
}
