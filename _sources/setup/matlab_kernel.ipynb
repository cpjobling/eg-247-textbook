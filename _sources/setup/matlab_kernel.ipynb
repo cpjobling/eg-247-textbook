{
 "cells": [
  {
   "cell_type": "markdown",
   "id": "deabaddb",
   "metadata": {},
   "source": [
    "Testing the Jupyter Matlab Kernel\n",
    "============\n",
    "\n",
    "Interact with Matlab in Notebook the using the [Matlab engine for Python](https://www.mathworks.com/help/matlab/matlab-engine-for-python.html).  All commands are interpreted by Matlab.  Since this is a [MetaKernel](https://github.com/Calysto/metakernel), a standard set of magics are available.  Help on commands is available using the `%help` magic or using `?` with a command."
   ]
  },
  {
   "cell_type": "code",
   "execution_count": null,
   "id": "8477cc2d",
   "metadata": {},
   "outputs": [],
   "source": [
    "% Use inline SVG graphics\n",
    "setappdata(0, \"MKernel_plot_format\", \"svg\")"
   ]
  },
  {
   "cell_type": "code",
   "execution_count": null,
   "id": "706c6d83",
   "metadata": {},
   "outputs": [],
   "source": [
    "t = linspace(0,6*pi,100);\n",
    "plot(sin(t))\n",
    "grid on\n",
    "hold on\n",
    "plot(cos(t), 'r')"
   ]
  },
  {
   "cell_type": "code",
   "execution_count": null,
   "id": "8972be45",
   "metadata": {},
   "outputs": [],
   "source": [
    "%plot -s 200,150"
   ]
  },
  {
   "cell_type": "code",
   "execution_count": null,
   "id": "20ef0d32",
   "metadata": {},
   "outputs": [],
   "source": [
    "b = 10*cos(t)+30; plot(b); grid on"
   ]
  },
  {
   "cell_type": "code",
   "execution_count": null,
   "id": "457aec96",
   "metadata": {},
   "outputs": [],
   "source": [
    "a = [1,2,3]"
   ]
  },
  {
   "cell_type": "code",
   "execution_count": null,
   "id": "e80cb5c2",
   "metadata": {},
   "outputs": [],
   "source": [
    "b = a + 3;"
   ]
  },
  {
   "cell_type": "code",
   "execution_count": null,
   "id": "7abbc4d8",
   "metadata": {},
   "outputs": [],
   "source": [
    "disp(b)"
   ]
  },
  {
   "cell_type": "code",
   "execution_count": null,
   "id": "cee0bab6",
   "metadata": {},
   "outputs": [],
   "source": [
    "%lsmagic"
   ]
  },
  {
   "cell_type": "code",
   "execution_count": null,
   "id": "da257dad",
   "metadata": {},
   "outputs": [],
   "source": [
    "%%python\n",
    "print('Hello, world!')"
   ]
  },
  {
   "cell_type": "code",
   "execution_count": null,
   "id": "7e3f7696-6748-4e53-a2fe-75da02740a68",
   "metadata": {},
   "outputs": [],
   "source": []
  }
 ],
 "metadata": {
  "kernelspec": {
   "display_name": "MKernel",
   "language": "matlab",
   "name": "mkernel"
  },
  "language_info": {
   "file_extension": ".m",
   "mimetype": "text/x-matlab",
   "name": "matlab"
  }
 },
 "nbformat": 4,
 "nbformat_minor": 5
}
