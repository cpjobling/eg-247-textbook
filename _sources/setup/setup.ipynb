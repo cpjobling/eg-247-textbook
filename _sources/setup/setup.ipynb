{
 "cells": [
  {
   "cell_type": "markdown",
   "id": "59f9b5ad",
   "metadata": {},
   "source": [
    "# Setup\n",
    "\n",
    "I have used Jupyter notebooks for **EG-247 Digital Signal Processing** for a number of reasons:\n",
    "\n",
    "1. I can easily produce maths-rich textbook quality notes using the Markdown system provided for documentation blocks.\n",
    "1. I can generate a slide-show from my notes but also print them as PDF files for your convenience.\n",
    "1. I can interweave live coding examples with my notes and execute and change these examples in a live classroom.\n",
    "1. ... more interestingly, you can take the notebooks and experiment with the computing examples yourself!\n",
    "\n",
    "However, to fully access all the examples that have been provided as Jupyter notebooks for EG-247 you will need to install both MATLAB (I used MATLAB 2019a) and Python 3 (I used Anaconda 3) and this is something of a technical challenge.\n",
    "\n",
    "The installation of Anaconda 3 (which includes Jupyter Notebook) and MATLAB is [described elsewhere](https://docs.anaconda.com/anaconda/install/) but must be done before you can open and execute this notebook. \n",
    "\n",
    "Assuming that you *have* installed Anaconda 3, you can [download](https://github.com/cpjobling/EG-247-Resources/blob/master/setup/setup.ipynb) and open this notebook using the command:\n",
    "\n",
    "```\n",
    "jupyter notebook setup.ibynb\n",
    "```\n",
    "\n",
    "Alternatively, you can use the **Anaconda Navigator** to launch a Jupyter Notebook and then navigate to the `setup.ipynb` file.\n",
    "\n",
    "**Note** for Windows users, you need to start jupyter as an Administrator.  "
   ]
  },
  {
   "cell_type": "markdown",
   "id": "e87cddb5",
   "metadata": {},
   "source": [
    "## Advanced users\n",
    "\n",
    "You may prefer to use the python environments and the command line, in which case, refer to [Advanced Settings](https://github.com/cpjobling/eg-247-textbook/blob/master/setup/advanced-setup.md)."
   ]
  },
  {
   "cell_type": "markdown",
   "id": "dab7a696",
   "metadata": {},
   "source": [
    "## About this notebook\n",
    "\n",
    "A Jupyter notebook is a combination of documentation and code cells. It is both a sequence of commands (in this case written in Python) that can be executed in sequence and a record of that execution. This notebook documents the process of installing the MATLAB kernel for Jupyter. \n",
    "\n",
    "You should be able to run each code cell in turn without errors. To execute code in a Jupyter notebook, select a code cell and press the run button or type `Shift-Enter`. The next cell will automatically be selected.\n",
    "\n",
    "Alternatively you can simply run the whole notebook by selecting the `Cell->Run All` command from the menu."
   ]
  },
  {
   "cell_type": "markdown",
   "id": "2edf2697",
   "metadata": {},
   "source": [
    "## Set up anaconda environment"
   ]
  },
  {
   "cell_type": "markdown",
   "id": "31da23ed",
   "metadata": {},
   "source": [
    "## Test Base Setup\n",
    "\n",
    "The following Python code (adapted from the script [soton-test-python-installation.py](https://fangohr.github.io/blog/code/python/soton-test-python-installation.py) [1]) can be executed to report whether particular python packages are available on the system. \n",
    "\n",
    "First we define some tests."
   ]
  },
  {
   "cell_type": "code",
   "execution_count": 1,
   "id": "a3ead3c2",
   "metadata": {},
   "outputs": [],
   "source": [
    "import math\n",
    "import os\n",
    "import sys\n",
    "\n",
    "\n",
    "def test_is_python_35():\n",
    "    major = sys.version_info.major\n",
    "    minor = sys.version_info.minor\n",
    "    if major == 3:\n",
    "        pass \n",
    "    else:\n",
    "        print(\"You are running Python {}, but we need Python {}.\".format(major, 3))\n",
    "        print(\"Download and install the Anaconda distribution for Python 3.\")\n",
    "        print(\"Stopping here.\")\n",
    "\n",
    "        # Let's stop here\n",
    "        sys.exit(1)\n",
    "        return None\n",
    "        # assert major == 3, \"Stopping here - we need Python 3.\"\n",
    "\n",
    "    if minor >= 5:\n",
    "        print(\"Testing Python version-> py{}.{} OK\".format(major, minor))\n",
    "    else:\n",
    "        print(\"Warning: You should be running Python 3.5 or newer, \" +\n",
    "              \"you have Python {}.{}.\".format(major, minor))\n",
    "        \n",
    "        \n",
    "def test_numpy():\n",
    "    try:\n",
    "        import numpy as np\n",
    "    except ImportError:\n",
    "        print(\"Could not import numpy -> numpy failed\")\n",
    "        return None\n",
    "    # Simple test\n",
    "    a = np.arange(0, 100, 1)\n",
    "    assert np.sum(a) == sum(a)\n",
    "    print(\"Testing numpy...      -> numpy OK\")\n",
    "\n",
    "\n",
    "def test_scipy():\n",
    "    try:\n",
    "        import scipy\n",
    "    except ImportError:\n",
    "        print(\"Could not import 'scipy' -> scipy failed\")\n",
    "        return None\n",
    "    # Simple test\n",
    "    import scipy.integrate\n",
    "    assert abs(scipy.integrate.quad(lambda x: x * x, 0, 6)[0] - 72.0) < 1e-6\n",
    "    print(\"Testing scipy ...     -> scipy OK\")\n",
    "\n",
    "\n",
    "def test_pylab():\n",
    "    \"\"\"Actually testing matplotlib, as pylab is part of matplotlib.\"\"\"\n",
    "    try:\n",
    "        import pylab\n",
    "    except ImportError:\n",
    "            print(\"Could not import 'matplotlib/pylab' -> failed\")\n",
    "            return None\n",
    "    # Creata plot for testing purposes\n",
    "    xvalues = [i * 0.1 for i in range(100)]\n",
    "    yvalues = [math.sin(x) for x in xvalues]\n",
    "    pylab.plot(xvalues, yvalues, \"-o\", label=\"sin(x)\")\n",
    "    pylab.legend()\n",
    "    pylab.xlabel('x')\n",
    "    testfilename='pylab-testfigure.png'\n",
    "\n",
    "    # check that file does not exist yet:\n",
    "    if os.path.exists(testfilename):\n",
    "        print(\"Skipping plotting to file as file {} exists already.\"\\\n",
    "            .format(testfilename))\n",
    "    else:\n",
    "        # Write plot to file\n",
    "        pylab.savefig(testfilename)\n",
    "        # Then check that file exists\n",
    "        assert os.path.exists(testfilename)\n",
    "        print(\"Testing matplotlib... -> pylab OK\")\n",
    "        os.remove(testfilename)\n",
    "\n",
    "\n",
    "def test_sympy():\n",
    "    try:\n",
    "        import sympy\n",
    "    except ImportError:\n",
    "            print(\"Could not import 'sympy' -> fail\")\n",
    "            return None\n",
    "    # simple test\n",
    "    x = sympy.Symbol('x')\n",
    "    my_f = x ** 2\n",
    "    assert sympy.diff(my_f,x) == 2 * x\n",
    "    print(\"Testing sympy         -> sympy OK\")\n",
    "\n",
    "\n",
    "def test_pytest():\n",
    "    try:\n",
    "        import pytest\n",
    "    except ImportError:\n",
    "            print(\"Could not import 'pytest' -> fail\")\n",
    "            return None\n",
    "    print(\"Testing pytest        -> pytest OK\")"
   ]
  },
  {
   "cell_type": "markdown",
   "id": "dd0aeaf6",
   "metadata": {},
   "source": [
    "The we run the tests to test that we have all the packages we need. If we have installed Anaconda 3 correctly, there should be no errors."
   ]
  },
  {
   "cell_type": "code",
   "execution_count": 2,
   "id": "afeac645",
   "metadata": {},
   "outputs": [
    {
     "name": "stdout",
     "output_type": "stream",
     "text": [
      "Running using Python 3.12.8 (main, Jan 14 2025, 23:36:58) [Clang 19.1.6 ]\n",
      "Testing Python version-> py3.12 OK\n",
      "Testing numpy...      -> numpy OK\n",
      "Testing scipy ...     -> scipy OK\n",
      "Testing matplotlib... -> pylab OK\n",
      "Testing sympy         -> sympy OK\n",
      "Testing pytest        -> pytest OK\n"
     ]
    },
    {
     "data": {
      "image/png": "[encoded data removed]",
      "text/plain": [
       "<Figure size 640x480 with 1 Axes>"
      ]
     },
     "metadata": {},
     "output_type": "display_data"
    }
   ],
   "source": [
    "print(\"Running using Python {}\".format(sys.version))\n",
    "test_is_python_35()\n",
    "test_numpy()\n",
    "test_scipy()\n",
    "test_pylab()\n",
    "test_sympy()\n",
    "test_pytest()"
   ]
  },
  {
   "cell_type": "markdown",
   "id": "84b0ad14",
   "metadata": {},
   "source": [
    "If any of the tests fails, the missing packages can be installed using the following command"
   ]
  },
  {
   "cell_type": "code",
   "execution_count": null,
   "id": "7e1b4e8d",
   "metadata": {},
   "outputs": [],
   "source": [
    "%uv add install numpy scipy matplotlib sympy pytest"
   ]
  },
  {
   "cell_type": "markdown",
   "id": "4394c74c",
   "metadata": {},
   "source": [
    "The remaining installation instructions are adapted from [2]."
   ]
  },
  {
   "cell_type": "markdown",
   "id": "258bb491",
   "metadata": {},
   "source": [
    "## Python-MATLAB Bridge\n",
    "\n",
    "To install this, we first have to install MATLAB. I'm assuming that this has been done and you have MATLAB 2017b or greater installed.\n",
    "\n",
    "Now we install the Python-MATLAB bridge. \n",
    "\n",
    "Here we've adapted the instructions given in the official Matlab documentation [MATLAB API for Python](https://uk.mathworks.com/help/matlab/matlab-engine-for-python.html).\n",
    "\n",
    "I ran this on my Mac. The equivalent Windows and Linux commands are given in the comments."
   ]
  },
  {
   "cell_type": "markdown",
   "id": "a77560d2",
   "metadata": {},
   "source": [
    "### Mac OS: \n",
    "If you have an M1 or later processor, you should install the Silicon version of MATLAB (see [MATLAB on Apple Silicon Macs](https://uk.mathworks.com/support/requirements/apple-silicon.html))"
   ]
  },
  {
   "cell_type": "code",
   "execution_count": 3,
   "id": "d2b56a70",
   "metadata": {},
   "outputs": [],
   "source": [
    "matlabroot='/Applications/MATLAB_R2024b.app'"
   ]
  },
  {
   "cell_type": "markdown",
   "id": "0bfd1821",
   "metadata": {},
   "source": [
    "### Unix"
   ]
  },
  {
   "cell_type": "code",
   "execution_count": 4,
   "id": "dd6bb8d7",
   "metadata": {},
   "outputs": [
    {
     "name": "stdout",
     "output_type": "stream",
     "text": [
      "/Applications/MATLAB_R2024b.app/extern/engines/python\n"
     ]
    },
    {
     "name": "stderr",
     "output_type": "stream",
     "text": [
      "/Users/eechris/code/src/github.com/cpjobling/eg-247-textbook/.venv/lib/python3.12/site-packages/IPython/core/magics/osm.py:417: UserWarning: This is now an optional IPython functionality, setting dhist requires you to install the `pickleshare` library.\n",
      "  self.shell.db['dhist'] = compress_dhist(dhist)[-100:]\n"
     ]
    }
   ],
   "source": [
    "%cd {matlabroot}/extern/engines/python"
   ]
  },
  {
   "cell_type": "markdown",
   "id": "e4a295bd",
   "metadata": {},
   "source": [
    "### Ubuntu running in Windows using WSL"
   ]
  },
  {
   "cell_type": "code",
   "execution_count": null,
   "id": "dd635636",
   "metadata": {},
   "outputs": [],
   "source": [
    "matlabroot='/mnt/c/Program\\ Files/MATLAB/R2024b'\n",
    "%cd {matlabroot}/extern/engines/python"
   ]
  },
  {
   "cell_type": "markdown",
   "id": "aba6ffe1",
   "metadata": {},
   "source": [
    "### Windows"
   ]
  },
  {
   "cell_type": "code",
   "execution_count": null,
   "id": "2c501787",
   "metadata": {},
   "outputs": [],
   "source": [
    "matlabroot='C:\\Program Files\\MATLAB\\R2024b'\n",
    "%cd {matlabroot}\\extern\\engines\\python"
   ]
  },
  {
   "cell_type": "markdown",
   "id": "1561df77",
   "metadata": {},
   "source": [
    "### Install MATLAB Engine\n",
    "\n",
    "**Notes**\n",
    "\n",
    "* On windows you have to do this step as an admin user\n",
    "  * Open the anaconda prompt as administrator.\n",
    "  * Copy result of previous command\n",
    "  * type `cd` then paste what you've just copied and type `Enter`\n",
    "  * Now copy `python setup.py install`, paste and type `Enter`\n",
    "* If your MATLAB is 2016b, or older, you may need to install an earlier version of Python and repeat the steps above."
   ]
  },
  {
   "cell_type": "code",
   "execution_count": 5,
   "id": "a4bd6911",
   "metadata": {},
   "outputs": [
    {
     "name": "stdout",
     "output_type": "stream",
     "text": [
      "Python 3.12.8\n",
      "running install\n",
      "/Users/eechris/code/src/github.com/cpjobling/eg-247-textbook/.venv/lib/python3.12/site-packages/setuptools/_distutils/cmd.py:79: SetuptoolsDeprecationWarning: setup.py install is deprecated.\n",
      "!!\n",
      "\n",
      "        ********************************************************************************\n",
      "        Please avoid running ``setup.py`` directly.\n",
      "        Instead, use pypa/build, pypa/installer or other\n",
      "        standards-based tools.\n",
      "\n",
      "        See https://blog.ganssle.io/articles/2021/10/setup-py-deprecated.html for details.\n",
      "        ********************************************************************************\n",
      "\n",
      "!!\n",
      "  self.initialize_options()\n",
      "/Users/eechris/code/src/github.com/cpjobling/eg-247-textbook/.venv/lib/python3.12/site-packages/setuptools/_distutils/cmd.py:79: EasyInstallDeprecationWarning: easy_install command is deprecated.\n",
      "!!\n",
      "\n",
      "        ********************************************************************************\n",
      "        Please avoid running ``setup.py`` and ``easy_install``.\n",
      "        Instead, use pypa/build, pypa/installer or other\n",
      "        standards-based tools.\n",
      "\n",
      "        See https://github.com/pypa/setuptools/issues/917 for details.\n",
      "        ********************************************************************************\n",
      "\n",
      "!!\n",
      "  self.initialize_options()\n",
      "running bdist_egg\n",
      "running egg_info\n",
      "writing dist/matlabengine.egg-info/PKG-INFO\n",
      "writing dependency_links to dist/matlabengine.egg-info/dependency_links.txt\n",
      "writing top-level names to dist/matlabengine.egg-info/top_level.txt\n",
      "reading manifest file 'dist/matlabengine.egg-info/SOURCES.txt'\n",
      "writing manifest file 'dist/matlabengine.egg-info/SOURCES.txt'\n",
      "installing library code to build/bdist.macosx-11.0-arm64/egg\n",
      "running install_lib\n",
      "running build_py\n",
      "creating build/bdist.macosx-11.0-arm64/egg\n",
      "creating build/bdist.macosx-11.0-arm64/egg/matlab\n",
      "copying build/lib/matlab/__init__.py -> build/bdist.macosx-11.0-arm64/egg/matlab\n",
      "creating build/bdist.macosx-11.0-arm64/egg/matlab/engine\n",
      "copying build/lib/matlab/engine/fevalfuture.py -> build/bdist.macosx-11.0-arm64/egg/matlab/engine\n",
      "copying build/lib/matlab/engine/matlabengine.py -> build/bdist.macosx-11.0-arm64/egg/matlab/engine\n",
      "copying build/lib/matlab/engine/basefuture.py -> build/bdist.macosx-11.0-arm64/egg/matlab/engine\n",
      "copying build/lib/matlab/engine/__init__.py -> build/bdist.macosx-11.0-arm64/egg/matlab/engine\n",
      "copying build/lib/matlab/engine/matlabfuture.py -> build/bdist.macosx-11.0-arm64/egg/matlab/engine\n",
      "copying build/lib/matlab/engine/_arch.txt -> build/bdist.macosx-11.0-arm64/egg/matlab/engine\n",
      "copying build/lib/matlab/engine/futureresult.py -> build/bdist.macosx-11.0-arm64/egg/matlab/engine\n",
      "copying build/lib/matlab/engine/enginehelper.py -> build/bdist.macosx-11.0-arm64/egg/matlab/engine\n",
      "copying build/lib/matlab/engine/engineerror.py -> build/bdist.macosx-11.0-arm64/egg/matlab/engine\n",
      "copying build/lib/matlab/engine/enginesession.py -> build/bdist.macosx-11.0-arm64/egg/matlab/engine\n",
      "byte-compiling build/bdist.macosx-11.0-arm64/egg/matlab/__init__.py to __init__.cpython-312.pyc\n",
      "byte-compiling build/bdist.macosx-11.0-arm64/egg/matlab/engine/fevalfuture.py to fevalfuture.cpython-312.pyc\n",
      "byte-compiling build/bdist.macosx-11.0-arm64/egg/matlab/engine/matlabengine.py to matlabengine.cpython-312.pyc\n",
      "byte-compiling build/bdist.macosx-11.0-arm64/egg/matlab/engine/basefuture.py to basefuture.cpython-312.pyc\n",
      "byte-compiling build/bdist.macosx-11.0-arm64/egg/matlab/engine/__init__.py to __init__.cpython-312.pyc\n",
      "byte-compiling build/bdist.macosx-11.0-arm64/egg/matlab/engine/matlabfuture.py to matlabfuture.cpython-312.pyc\n",
      "byte-compiling build/bdist.macosx-11.0-arm64/egg/matlab/engine/futureresult.py to futureresult.cpython-312.pyc\n",
      "byte-compiling build/bdist.macosx-11.0-arm64/egg/matlab/engine/enginehelper.py to enginehelper.cpython-312.pyc\n",
      "byte-compiling build/bdist.macosx-11.0-arm64/egg/matlab/engine/engineerror.py to engineerror.cpython-312.pyc\n",
      "byte-compiling build/bdist.macosx-11.0-arm64/egg/matlab/engine/enginesession.py to enginesession.cpython-312.pyc\n",
      "creating build/bdist.macosx-11.0-arm64/egg/EGG-INFO\n",
      "copying dist/matlabengine.egg-info/PKG-INFO -> build/bdist.macosx-11.0-arm64/egg/EGG-INFO\n",
      "copying dist/matlabengine.egg-info/SOURCES.txt -> build/bdist.macosx-11.0-arm64/egg/EGG-INFO\n",
      "copying dist/matlabengine.egg-info/dependency_links.txt -> build/bdist.macosx-11.0-arm64/egg/EGG-INFO\n",
      "copying dist/matlabengine.egg-info/top_level.txt -> build/bdist.macosx-11.0-arm64/egg/EGG-INFO\n",
      "zip_safe flag not set; analyzing archive contents...\n",
      "matlab.__pycache__.__init__.cpython-312: module references __file__\n",
      "matlab.__pycache__.__init__.cpython-312: module references __path__\n",
      "matlab.engine.__pycache__.__init__.cpython-312: module references __file__\n",
      "creating 'dist/matlabengine-24.2-py3.12.egg' and adding 'build/bdist.macosx-11.0-arm64/egg' to it\n",
      "removing 'build/bdist.macosx-11.0-arm64/egg' (and everything under it)\n",
      "Processing matlabengine-24.2-py3.12.egg\n",
      "removing '/Users/eechris/code/src/github.com/cpjobling/eg-247-textbook/.venv/lib/python3.12/site-packages/matlabengine-24.2-py3.12.egg' (and everything under it)\n",
      "creating /Users/eechris/code/src/github.com/cpjobling/eg-247-textbook/.venv/lib/python3.12/site-packages/matlabengine-24.2-py3.12.egg\n",
      "Extracting matlabengine-24.2-py3.12.egg to /Users/eechris/code/src/github.com/cpjobling/eg-247-textbook/.venv/lib/python3.12/site-packages\n",
      "Adding matlabengine 24.2 to easy-install.pth file\n",
      "\n",
      "Installed /Users/eechris/code/src/github.com/cpjobling/eg-247-textbook/.venv/lib/python3.12/site-packages/matlabengine-24.2-py3.12.egg\n",
      "Processing dependencies for matlabengine==24.2\n",
      "Finished processing dependencies for matlabengine==24.2\n"
     ]
    }
   ],
   "source": [
    "!python --version\n",
    "#%shell\n",
    "!python setup.py install"
   ]
  },
  {
   "cell_type": "markdown",
   "id": "005a2907",
   "metadata": {},
   "source": [
    "## Test Python can now communicate with MATLAB\n",
    "\n",
    "First start a MATLAB session. You will have to restart your Python kernel first!"
   ]
  },
  {
   "cell_type": "code",
   "execution_count": 6,
   "id": "7c07ef7a",
   "metadata": {},
   "outputs": [
    {
     "ename": "RuntimeError",
     "evalue": "Could not find directory: /Applications/MATLAB_R2025a.app/extern/engines/python/dist/matlab/engine/maca64",
     "output_type": "error",
     "traceback": [
      "\u001b[0;31m---------------------------------------------------------------------------\u001b[0m",
      "\u001b[0;31mRuntimeError\u001b[0m                              Traceback (most recent call last)",
      "Cell \u001b[0;32mIn[6], line 1\u001b[0m\n\u001b[0;32m----> 1\u001b[0m \u001b[38;5;28;01mimport\u001b[39;00m\u001b[38;5;250m \u001b[39m\u001b[38;5;21;01mmatlab\u001b[39;00m\u001b[38;5;21;01m.\u001b[39;00m\u001b[38;5;21;01mengine\u001b[39;00m\n\u001b[1;32m      2\u001b[0m eng \u001b[38;5;241m=\u001b[39m matlab\u001b[38;5;241m.\u001b[39mengine\u001b[38;5;241m.\u001b[39mstart_matlab()\n",
      "File \u001b[0;32m~/code/src/github.com/cpjobling/eg-247-textbook/.venv/lib/python3.12/site-packages/matlab/__init__.py:46\u001b[0m\n\u001b[1;32m     42\u001b[0m \u001b[38;5;28;01mwith\u001b[39;00m \u001b[38;5;28mopen\u001b[39m(arch_file, \u001b[38;5;124m'\u001b[39m\u001b[38;5;124mr\u001b[39m\u001b[38;5;124m'\u001b[39m) \u001b[38;5;28;01mas\u001b[39;00m root:\n\u001b[1;32m     43\u001b[0m     [arch, bin_folder, engine_folder, extern_bin] \u001b[38;5;241m=\u001b[39m [line\u001b[38;5;241m.\u001b[39mstrip() \u001b[38;5;28;01mfor\u001b[39;00m line \u001b[38;5;129;01min\u001b[39;00m root\u001b[38;5;241m.\u001b[39mreadlines()]\n\u001b[0;32m---> 46\u001b[0m \u001b[43madd_dirs_to_path\u001b[49m\u001b[43m(\u001b[49m\u001b[43mbin_folder\u001b[49m\u001b[43m,\u001b[49m\u001b[43m \u001b[49m\u001b[43mengine_folder\u001b[49m\u001b[43m,\u001b[49m\u001b[43m \u001b[49m\u001b[43mextern_bin\u001b[49m\u001b[43m)\u001b[49m\n\u001b[1;32m     48\u001b[0m \u001b[38;5;28;01mfrom\u001b[39;00m\u001b[38;5;250m \u001b[39m\u001b[38;5;21;01mmatlabmultidimarrayforpython\u001b[39;00m\u001b[38;5;250m \u001b[39m\u001b[38;5;28;01mimport\u001b[39;00m double, single, uint8, int8, uint16, \\\n\u001b[1;32m     49\u001b[0m     int16, uint32, int32, uint64, int64, logical, ShapeError, SizeError\n",
      "File \u001b[0;32m~/code/src/github.com/cpjobling/eg-247-textbook/.venv/lib/python3.12/site-packages/matlab/__init__.py:19\u001b[0m, in \u001b[0;36madd_dirs_to_path\u001b[0;34m(bin_dir, engine_dir, extern_dir)\u001b[0m\n\u001b[1;32m     16\u001b[0m path \u001b[38;5;241m=\u001b[39m \u001b[38;5;124m'\u001b[39m\u001b[38;5;124mPATH\u001b[39m\u001b[38;5;124m'\u001b[39m\n\u001b[1;32m     18\u001b[0m \u001b[38;5;28;01mif\u001b[39;00m \u001b[38;5;129;01mnot\u001b[39;00m os\u001b[38;5;241m.\u001b[39mpath\u001b[38;5;241m.\u001b[39misdir(engine_dir):\n\u001b[0;32m---> 19\u001b[0m     \u001b[38;5;28;01mraise\u001b[39;00m \u001b[38;5;167;01mRuntimeError\u001b[39;00m(\u001b[38;5;124m\"\u001b[39m\u001b[38;5;124mCould not find directory: \u001b[39m\u001b[38;5;132;01m{0}\u001b[39;00m\u001b[38;5;124m\"\u001b[39m\u001b[38;5;241m.\u001b[39mformat(engine_dir))\n\u001b[1;32m     21\u001b[0m \u001b[38;5;28;01mif\u001b[39;00m \u001b[38;5;129;01mnot\u001b[39;00m os\u001b[38;5;241m.\u001b[39mpath\u001b[38;5;241m.\u001b[39misdir(extern_dir):\n\u001b[1;32m     22\u001b[0m     \u001b[38;5;28;01mraise\u001b[39;00m \u001b[38;5;167;01mRuntimeError\u001b[39;00m(\u001b[38;5;124m\"\u001b[39m\u001b[38;5;124mCould not find directory: \u001b[39m\u001b[38;5;132;01m{0}\u001b[39;00m\u001b[38;5;124m\"\u001b[39m\u001b[38;5;241m.\u001b[39mformat(extern_dir))\n",
      "\u001b[0;31mRuntimeError\u001b[0m: Could not find directory: /Applications/MATLAB_R2025a.app/extern/engines/python/dist/matlab/engine/maca64"
     ]
    }
   ],
   "source": [
    "import matlab.engine\n",
    "eng = matlab.engine.start_matlab()"
   ]
  },
  {
   "cell_type": "markdown",
   "id": "a4a62423",
   "metadata": {},
   "source": [
    "Then connect to the session"
   ]
  },
  {
   "cell_type": "code",
   "execution_count": null,
   "id": "f59629b8",
   "metadata": {},
   "outputs": [],
   "source": [
    "eng = matlab.engine.connect_matlab()"
   ]
  },
  {
   "cell_type": "markdown",
   "id": "b2d128fa",
   "metadata": {},
   "source": [
    "Now compute something. Here's a 10x10 magic square"
   ]
  },
  {
   "cell_type": "code",
   "execution_count": null,
   "id": "2c80b2a7",
   "metadata": {},
   "outputs": [],
   "source": [
    "m = eng.magic(10);"
   ]
  },
  {
   "cell_type": "code",
   "execution_count": null,
   "id": "9d6d1a2d",
   "metadata": {},
   "outputs": [],
   "source": [
    "print(m)"
   ]
  },
  {
   "cell_type": "markdown",
   "id": "7c89e4a7",
   "metadata": {},
   "source": [
    "Close the session"
   ]
  },
  {
   "cell_type": "code",
   "execution_count": null,
   "id": "030e1ffb",
   "metadata": {},
   "outputs": [],
   "source": [
    "eng.quit()"
   ]
  },
  {
   "cell_type": "markdown",
   "id": "3b39b1f0",
   "metadata": {},
   "source": [
    "## MATLAB Kernel for Jupyter\n",
    "\n",
    "\n",
    "Finally we install Carsten Allefeld's `Mkernel` ([github.com/allefeld/mkernel](https://github.com/allefeld/mkernel)) using the instructions given in {cite}`allefeld2023`: "
   ]
  },
  {
   "cell_type": "code",
   "execution_count": null,
   "id": "f027ea7b",
   "metadata": {},
   "outputs": [],
   "source": [
    "!pip install git+https://github.com/allefeld/mkernel.git"
   ]
  },
  {
   "cell_type": "code",
   "execution_count": null,
   "id": "a4788e8c",
   "metadata": {},
   "outputs": [],
   "source": [
    "!jupyter kernelspec list"
   ]
  },
  {
   "cell_type": "markdown",
   "id": "f9c822bd",
   "metadata": {},
   "source": [
    "To check that the MATLAB kernel is properly installed do the following.\n",
    "\n",
    "1. Save this notebook `File->Save`.\n",
    "1. Select `Kernel->Shutdown` from the notebook menu.\n",
    "1. Close the browser window.\n",
    "1. Restart the Jupiter Notebook, as you did at the start, then return here:\n",
    "\n",
    "```\n",
    "jupyter notebook setup.ipynb --debug\n",
    "\n",
    "```"
   ]
  },
  {
   "cell_type": "markdown",
   "id": "0b6e857d",
   "metadata": {},
   "source": [
    "## Test MATLAB Kernel\n",
    "\n",
    "From the `Kernel` menu you should be able to navigate to `Change kernel` and `MKernel` should now be listed (Fig. 1).\n",
    "\n",
    "![Figure 1: The Kernel Menu](fig1.png)\n",
    "\n",
    "Figure 1: The Kernel Menu\n",
    "\n",
    "Go ahead and switch to the MATLAB kernel.\n",
    "\n",
    "If all is well, you should see the Kernel indicator (top right) change to 'Matlab' (Fig. 2)\n",
    "\n",
    "![Figure 2: Matlab kernel indicator](fig2.png)\n",
    "\n",
    "Figure 2: The MATLAB kernel indicator"
   ]
  },
  {
   "cell_type": "markdown",
   "id": "40118bd6",
   "metadata": {},
   "source": [
    "You should now be able to execute the MATLAB `magic(10)` function again and get the result shown:\n",
    "\n",
    "```matlab\n",
    "magic(10)\n",
    "\n",
    "ans =\n",
    "\n",
    "    92    99     1     8    15    67    74    51    58    40\n",
    "    98    80     7    14    16    73    55    57    64    41\n",
    "     4    81    88    20    22    54    56    63    70    47\n",
    "    85    87    19    21     3    60    62    69    71    28\n",
    "    86    93    25     2     9    61    68    75    52    34\n",
    "    17    24    76    83    90    42    49    26    33    65\n",
    "    23     5    82    89    91    48    30    32    39    66\n",
    "    79     6    13    95    97    29    31    38    45    72\n",
    "    10    12    94    96    78    35    37    44    46    53\n",
    "    11    18   100    77    84    36    43    50    27    59\n",
    "\n",
    "```\n",
    "\n",
    "Go ahead and execute the next code cell."
   ]
  },
  {
   "cell_type": "code",
   "execution_count": null,
   "id": "cccb6e15",
   "metadata": {},
   "outputs": [],
   "source": [
    "magic(10)"
   ]
  },
  {
   "cell_type": "markdown",
   "id": "4a42a768",
   "metadata": {},
   "source": [
    "If you wish to further test the Matlab interface, download this file from the `Calysto/matlab_kernel` repository [matlab_kernel.ipynb](https://github.com/Calysto/matlab_kernel/blob/master/matlab_kernel.ipynb), open it in Jupyter and run the whole notebook.\n",
    "\n",
    "If *you* have any problems, send me a message through the Teams page for the EG-247 Course.\n",
    "\n",
    "By default, the `Mkernal` kernel uses MATLAB figure windows. To get images inline in svg, use\n",
    "\n",
    "```\n",
    "setappdata(0, \"MKernel_plot_format\", \"svg\")\n",
    "```\n",
    "\n",
    "at the beginning of any notebooks that use the MATLAB kernel."
   ]
  },
  {
   "cell_type": "markdown",
   "id": "216d7713",
   "metadata": {},
   "source": [
    "## For More Information on Jupyter\n",
    "\n",
    "To learn more about Jupyter notebooks, the key resource is the [Jupyter Project site](https://jupyter.org) itself. There, under the documentation section, you will find everything you need to fully understand Jupyter. However, it's not arranged in a way that is useful for a beginner! \n",
    "\n",
    "For a quick introduction, I particularly recommend Corey Schafer's YouTube tutorial: https://youtu.be/HW29067qVWk."
   ]
  },
  {
   "cell_type": "markdown",
   "id": "658fd395",
   "metadata": {},
   "source": [
    "<iframe width=\"560\" height=\"315\" src=\"https://www.youtube.com/embed/HW29067qVWk\" frameborder=\"0\" allow=\"accelerometer; autoplay; encrypted-media; gyroscope; picture-in-picture\" allowfullscreen></iframe>"
   ]
  },
  {
   "cell_type": "markdown",
   "id": "f6d32fc8",
   "metadata": {},
   "source": [
    "## Jupyter Noteboooks versus MATLAB Live Scripts \n",
    "\n",
    "Both Jupyter and MATLAB Live Script trace their origins -- or at least their inspiration -- to the <a href=\"https://en.wikipedia.org/wiki/Wolfram_Mathematica_(software)#The_Notebook_interface\">Mathematica Notebook interface</a>. All allow the mixing of code with output, the running of code in sections, and the ability to add formatted text, images, and equations to tell a story and provide a repeatable record of a computation. \n",
    "\n",
    "The Mathworks claims some [advantages for the MATLAB Live Script interface](https://uk.mathworks.com/matlabcentral/answers/329935-jupyter-notebook-vs-live-scripts#answer_259207) due to its close integration with the MATLAB desktop and the new MATLAB Online product. Other teachers have also advocated the use of Live Script in teaching, e.g. [Teaching with Matlab Live Scripts](https://bastibe.de/2016-06-15-matlab-live-scripts.html). The main issue though is that MATLAB is an expensive, licensed product. It's free to use while you are a student or a teacher at Swansea University. It is extremely expensive once you graduate!\n",
    "\n",
    "For me, the main advantage of Jupyter notebooks is that it is language independent, well supported, open source and free! It also has some features, mentioned at the top of this document, that make it particularly attractive as a support tool for the teaching on this course. \n",
    "\n",
    "That said, we will be using MATLAB throughout this course and MATLAB Live Scripts in the Labs for this module."
   ]
  },
  {
   "cell_type": "markdown",
   "id": "4ff382a1",
   "metadata": {},
   "source": [
    "## References\n",
    "\n",
    "```{bibliography}\n",
    ":filter: docname in docnames\n",
    "```\n"
   ]
  }
 ],
 "metadata": {
  "kernelspec": {
   "display_name": "Python 3 (ipykernel)",
   "language": "python",
   "name": "python3"
  },
  "language_info": {
   "codemirror_mode": {
    "name": "ipython",
    "version": 3
   },
   "file_extension": ".py",
   "mimetype": "text/x-python",
   "name": "python",
   "nbconvert_exporter": "python",
   "pygments_lexer": "ipython3",
   "version": "3.12.8"
  }
 },
 "nbformat": 4,
 "nbformat_minor": 5
}
