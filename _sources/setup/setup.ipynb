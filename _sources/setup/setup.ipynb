{
 "cells": [
  {
   "cell_type": "markdown",
   "id": "75e2faa2",
   "metadata": {},
   "source": [
    "# Setup\n",
    "\n",
    "I have used Jupyter notebooks for **EG-247 Digital Signal Processing** for a number of reasons:\n",
    "\n",
    "1. I can easily produce maths-rich textbook quality notes using the Markdown system provided for documentation blocks.\n",
    "1. I can generate a slide-show from my notes but also print them as PDF files for your convenience.\n",
    "1. I can interweave live coding examples with my notes and execute and change these examples in a live classroom.\n",
    "1. ... more interestingly, you can take the notebooks and experiment with the computing examples yourself!\n",
    "\n",
    "However, to fully access all the examples that have been provided as Jupyter notebooks for EG-247 you will need to install both MATLAB (I used MATLAB 2019a) and Python 3 (I used Anaconda 3) and this is something of a technical challenge.\n",
    "\n",
    "The installation of Anaconda 3 (which includes Jupyter Notebook) and MATLAB is [described elsewhere](https://docs.anaconda.com/anaconda/install/) but must be done before you can open and execute this notebook. \n",
    "\n",
    "Assuming that you *have* installed Anaconda 3, you can [download](https://github.com/cpjobling/EG-247-Resources/blob/master/setup/setup.ipynb) and open this notebook using the command:\n",
    "\n",
    "```\n",
    "jupyter notebook setup.ibynb\n",
    "```\n",
    "\n",
    "Alternatively, you can use the **Anaconda Navigator** to launch a Jupyter Notebook and then navigate to the `setup.ipynb` file.\n",
    "\n",
    "**Note** for Windows users, you need to start jupyter as an Administrator.  "
   ]
  },
  {
   "cell_type": "markdown",
   "id": "05c9bfdf",
   "metadata": {},
   "source": [
    "## Advanced users\n",
    "\n",
    "You may prefer to use the python environments and the command line, in which case, refer to [Advanced Settings](https://github.com/cpjobling/eg-247-textbook/blob/master/setup/advanced-setup.md)."
   ]
  },
  {
   "cell_type": "markdown",
   "id": "0989e435",
   "metadata": {},
   "source": [
    "## About this notebook\n",
    "\n",
    "A Jupyter notebook is a combination of documentation and code cells. It is both a sequence of commands (in this case written in Python) that can be executed in sequence and a record of that execution. This notebook documents the process of installing the MATLAB kernel for Jupyter. \n",
    "\n",
    "You should be able to run each code cell in turn without errors. To execute code in a Jupyter notebook, select a code cell and press the run button or type `Shift-Enter`. The next cell will automatically be selected.\n",
    "\n",
    "Alternatively you can simply run the whole notebook by selecting the `Cell->Run All` command from the menu."
   ]
  },
  {
   "cell_type": "markdown",
   "id": "5fbf0a16",
   "metadata": {},
   "source": [
    "## Set up anaconda environment"
   ]
  },
  {
   "cell_type": "markdown",
   "id": "593616bb",
   "metadata": {},
   "source": [
    "## Test Base Setup\n",
    "\n",
    "The following Python code (adapted from the script [soton-test-python-installation.py](https://fangohr.github.io/blog/code/python/soton-test-python-installation.py) [1]) can be executed to report whether particular python packages are available on the system. \n",
    "\n",
    "First we define some tests."
   ]
  },
  {
   "cell_type": "code",
   "execution_count": 1,
   "id": "ace3b414",
   "metadata": {},
   "outputs": [],
   "source": [
    "import math\n",
    "import os\n",
    "import sys\n",
    "\n",
    "\n",
    "def test_is_python_35():\n",
    "    major = sys.version_info.major\n",
    "    minor = sys.version_info.minor\n",
    "    if major == 3:\n",
    "        pass \n",
    "    else:\n",
    "        print(\"You are running Python {}, but we need Python {}.\".format(major, 3))\n",
    "        print(\"Download and install the Anaconda distribution for Python 3.\")\n",
    "        print(\"Stopping here.\")\n",
    "\n",
    "        # Let's stop here\n",
    "        sys.exit(1)\n",
    "        return None\n",
    "        # assert major == 3, \"Stopping here - we need Python 3.\"\n",
    "\n",
    "    if minor >= 5:\n",
    "        print(\"Testing Python version-> py{}.{} OK\".format(major, minor))\n",
    "    else:\n",
    "        print(\"Warning: You should be running Python 3.5 or newer, \" +\n",
    "              \"you have Python {}.{}.\".format(major, minor))\n",
    "        \n",
    "        \n",
    "def test_numpy():\n",
    "    try:\n",
    "        import numpy as np\n",
    "    except ImportError:\n",
    "        print(\"Could not import numpy -> numpy failed\")\n",
    "        return None\n",
    "    # Simple test\n",
    "    a = np.arange(0, 100, 1)\n",
    "    assert np.sum(a) == sum(a)\n",
    "    print(\"Testing numpy...      -> numpy OK\")\n",
    "\n",
    "\n",
    "def test_scipy():\n",
    "    try:\n",
    "        import scipy\n",
    "    except ImportError:\n",
    "        print(\"Could not import 'scipy' -> scipy failed\")\n",
    "        return None\n",
    "    # Simple test\n",
    "    import scipy.integrate\n",
    "    assert abs(scipy.integrate.quad(lambda x: x * x, 0, 6)[0] - 72.0) < 1e-6\n",
    "    print(\"Testing scipy ...     -> scipy OK\")\n",
    "\n",
    "\n",
    "def test_pylab():\n",
    "    \"\"\"Actually testing matplotlib, as pylab is part of matplotlib.\"\"\"\n",
    "    try:\n",
    "        import pylab\n",
    "    except ImportError:\n",
    "            print(\"Could not import 'matplotlib/pylab' -> failed\")\n",
    "            return None\n",
    "    # Creata plot for testing purposes\n",
    "    xvalues = [i * 0.1 for i in range(100)]\n",
    "    yvalues = [math.sin(x) for x in xvalues]\n",
    "    pylab.plot(xvalues, yvalues, \"-o\", label=\"sin(x)\")\n",
    "    pylab.legend()\n",
    "    pylab.xlabel('x')\n",
    "    testfilename='pylab-testfigure.png'\n",
    "\n",
    "    # check that file does not exist yet:\n",
    "    if os.path.exists(testfilename):\n",
    "        print(\"Skipping plotting to file as file {} exists already.\"\\\n",
    "            .format(testfilename))\n",
    "    else:\n",
    "        # Write plot to file\n",
    "        pylab.savefig(testfilename)\n",
    "        # Then check that file exists\n",
    "        assert os.path.exists(testfilename)\n",
    "        print(\"Testing matplotlib... -> pylab OK\")\n",
    "        os.remove(testfilename)\n",
    "\n",
    "\n",
    "def test_sympy():\n",
    "    try:\n",
    "        import sympy\n",
    "    except ImportError:\n",
    "            print(\"Could not import 'sympy' -> fail\")\n",
    "            return None\n",
    "    # simple test\n",
    "    x = sympy.Symbol('x')\n",
    "    my_f = x ** 2\n",
    "    assert sympy.diff(my_f,x) == 2 * x\n",
    "    print(\"Testing sympy         -> sympy OK\")\n",
    "\n",
    "\n",
    "def test_pytest():\n",
    "    try:\n",
    "        import pytest\n",
    "    except ImportError:\n",
    "            print(\"Could not import 'pytest' -> fail\")\n",
    "            return None\n",
    "    print(\"Testing pytest        -> pytest OK\")"
   ]
  },
  {
   "cell_type": "markdown",
   "id": "64da7fd8",
   "metadata": {},
   "source": [
    "The we run the tests to test that we have all the packages we need. If we have installed Anaconda 3 correctly, there should be no errors."
   ]
  },
  {
   "cell_type": "code",
   "execution_count": 2,
   "id": "9ecf8dc3",
   "metadata": {},
   "outputs": [
    {
     "name": "stdout",
     "output_type": "stream",
     "text": [
      "Running using Python 3.11.11 | packaged by conda-forge | (main, Dec  5 2024, 14:21:42) [Clang 18.1.8 ]\n",
      "Testing Python version-> py3.11 OK\n",
      "Could not import numpy -> numpy failed\n",
      "Could not import 'scipy' -> scipy failed\n",
      "Could not import 'matplotlib/pylab' -> failed\n",
      "Could not import 'sympy' -> fail\n",
      "Could not import 'pytest' -> fail\n"
     ]
    }
   ],
   "source": [
    "print(\"Running using Python {}\".format(sys.version))\n",
    "test_is_python_35()\n",
    "test_numpy()\n",
    "test_scipy()\n",
    "test_pylab()\n",
    "test_sympy()\n",
    "test_pytest()"
   ]
  },
  {
   "cell_type": "markdown",
   "id": "a08978b7-4305-4ba1-9fd2-b22ba63f2268",
   "metadata": {},
   "source": [
    "If any of the tests fails, the missing packages can be installed using the following command"
   ]
  },
  {
   "cell_type": "code",
   "execution_count": 4,
   "id": "f1120429-53a7-485a-a46a-32cdc5909113",
   "metadata": {},
   "outputs": [
    {
     "name": "stdout",
     "output_type": "stream",
     "text": [
      "conda-forge/noarch                                          Using cache\n",
      "conda-forge/osx-arm64                                       Using cache\n",
      "\u001b[33m\u001b[1mwarning  libmamba\u001b[m 'repo.anaconda.com', a commercial channel hosted by Anaconda.com, is used.\n",
      "    \n",
      "\u001b[33m\u001b[1mwarning  libmamba\u001b[m Please make sure you understand Anaconda Terms of Services.\n",
      "    \n",
      "\u001b[33m\u001b[1mwarning  libmamba\u001b[m See: https://legal.anaconda.com/policies/en/\n",
      "pkgs/main/noarch                                            Using cache\n",
      "\u001b[33m\u001b[1mwarning  libmamba\u001b[m 'repo.anaconda.com', a commercial channel hosted by Anaconda.com, is used.\n",
      "    \n",
      "\u001b[33m\u001b[1mwarning  libmamba\u001b[m Please make sure you understand Anaconda Terms of Services.\n",
      "    \n",
      "\u001b[33m\u001b[1mwarning  libmamba\u001b[m See: https://legal.anaconda.com/policies/en/\n",
      "pkgs/main/osx-arm64                                         Using cache\n",
      "\u001b[33m\u001b[1mwarning  libmamba\u001b[m 'repo.anaconda.com', a commercial channel hosted by Anaconda.com, is used.\n",
      "    \n",
      "\u001b[33m\u001b[1mwarning  libmamba\u001b[m Please make sure you understand Anaconda Terms of Services.\n",
      "    \n",
      "\u001b[33m\u001b[1mwarning  libmamba\u001b[m See: https://legal.anaconda.com/policies/en/\n",
      "pkgs/r/noarch                                               Using cache\n",
      "\u001b[33m\u001b[1mwarning  libmamba\u001b[m 'repo.anaconda.com', a commercial channel hosted by Anaconda.com, is used.\n",
      "    \n",
      "\u001b[33m\u001b[1mwarning  libmamba\u001b[m Please make sure you understand Anaconda Terms of Services.\n",
      "    \n",
      "\u001b[33m\u001b[1mwarning  libmamba\u001b[m See: https://legal.anaconda.com/policies/en/\n",
      "pkgs/r/osx-arm64                                            Using cache\n",
      "\u001b[?25l\u001b[2K\u001b[0G[+] 0.0s\n",
      "\u001b[2K\u001b[1A\u001b[2K\u001b[0G\u001b[?25h\u001b[?25l\u001b[2K\u001b[0G[+] 0.0s\n",
      "\u001b[2K\u001b[1A\u001b[2K\u001b[0G\u001b[?25hDEPRECATION: Loading egg at /Users/eechris/mamba/envs/myst-textbook/lib/python3.11/site-packages/matlabengine-24.1-py3.11.egg is deprecated. pip 25.1 will enforce this behaviour change. A possible replacement is to use pip for package installation. Discussion can be found at https://github.com/pypa/pip/issues/12330\n",
      "\n",
      "Pinned packages:\n",
      "\n",
      "  - python=3.11\n",
      "\n",
      "\u001b[31m\u001b[1merror    libmamba\u001b[m Could not solve for environment specs\n",
      "    The following package could not be installed\n",
      "    └─ \u001b[31mmatplotlib/pylab =* *\u001b[0m does not exist (perhaps a typo or a missing channel).\n",
      "\u001b[1m\u001b[41mcritical libmamba\u001b[m Could not solve for environment specs\n",
      "\n",
      "Note: you may need to restart the kernel to use updated packages.\n"
     ]
    }
   ],
   "source": [
    "%mamba install -c conda-forge numpy scipy matplotlib/pylab sympy pytest"
   ]
  },
  {
   "cell_type": "markdown",
   "id": "49e28328",
   "metadata": {},
   "source": [
    "The remaining installation instructions are adapted from [2]."
   ]
  },
  {
   "cell_type": "markdown",
   "id": "c002480e",
   "metadata": {},
   "source": [
    "## Python-MATLAB Bridge\n",
    "\n",
    "To install this, we first have to install MATLAB. I'm assuming that this has been done and you have MATLAB 2017b or greater installed.\n",
    "\n",
    "Now we install the Python-MATLAB bridge. \n",
    "\n",
    "Here we've adapted the instructions given in the official Matlab documentation [MATLAB API for Python](https://uk.mathworks.com/help/matlab/matlab-engine-for-python.html).\n",
    "\n",
    "I ran this on my Mac. The equivalent Windows and Linux commands are given in the comments."
   ]
  },
  {
   "cell_type": "markdown",
   "id": "fbe78ff8",
   "metadata": {},
   "source": [
    "### Mac OS: \n",
    "If you have an M1 or later processor, you should install the Silicon version of MATLAB (see [MATLAB on Apple Silicon Macs](https://uk.mathworks.com/support/requirements/apple-silicon.html))"
   ]
  },
  {
   "cell_type": "code",
   "execution_count": 8,
   "id": "11497f06",
   "metadata": {},
   "outputs": [],
   "source": [
    "matlabroot='/Applications/MATLAB/MATLAB_R2024b.app'"
   ]
  },
  {
   "cell_type": "markdown",
   "id": "915dd5b7",
   "metadata": {},
   "source": [
    "### Unix"
   ]
  },
  {
   "cell_type": "code",
   "execution_count": 9,
   "id": "10477592",
   "metadata": {},
   "outputs": [
    {
     "name": "stdout",
     "output_type": "stream",
     "text": [
      "[Errno 2] No such file or directory: '/Applications/MATLAB/MATLAB_R2024b.app/extern/engines/python'\n",
      "/Users/eechris/code/src/github.com/cpjobling/eg-247-textbook/setup\n"
     ]
    }
   ],
   "source": [
    "%cd {matlabroot}/extern/engines/python"
   ]
  },
  {
   "cell_type": "markdown",
   "id": "77e022bc",
   "metadata": {},
   "source": [
    "### Ubuntu running in Windows using WSL"
   ]
  },
  {
   "cell_type": "code",
   "execution_count": null,
   "id": "42b2d1eb",
   "metadata": {},
   "outputs": [],
   "source": [
    "matlabroot='/mnt/c/Program\\ Files/MATLAB/R2022b'\n",
    "%cd {matlabroot}/extern/engines/python"
   ]
  },
  {
   "cell_type": "markdown",
   "id": "5d49859f",
   "metadata": {},
   "source": [
    "### Windows"
   ]
  },
  {
   "cell_type": "code",
   "execution_count": null,
   "id": "d2ff25cd",
   "metadata": {},
   "outputs": [],
   "source": [
    "matlabroot='C:\\Program Files\\MATLAB\\R2022b'\n",
    "%cd {matlabroot}\\extern\\engines\\python"
   ]
  },
  {
   "cell_type": "markdown",
   "id": "dd2873e7",
   "metadata": {},
   "source": [
    "### Install MATLAB Engine\n",
    "\n",
    "**Notes**\n",
    "\n",
    "* On windows you have to do this step as an admin user\n",
    "  * Open the anaconda prompt as administrator.\n",
    "  * Copy result of previous command\n",
    "  * type `cd` then paste what you've just copied and type `Enter`\n",
    "  * Now copy `python setup.py install`, paste and type `Enter`\n",
    "* If your MATLAB is 2016b, or older, you may need to install an earlier version of Python and repeat the steps above."
   ]
  },
  {
   "cell_type": "code",
   "execution_count": 19,
   "id": "bb8d7415",
   "metadata": {},
   "outputs": [
    {
     "name": "stdout",
     "output_type": "stream",
     "text": [
      "Python 3.11.5\n",
      "/Users/eechris/anaconda3/lib/python3.11/site-packages/setuptools/_distutils/cmd.py:66: SetuptoolsDeprecationWarning: setup.py install is deprecated.\n",
      "!!\n",
      "\n",
      "        ********************************************************************************\n",
      "        Please avoid running ``setup.py`` directly.\n",
      "        Instead, use pypa/build, pypa/installer or other\n",
      "        standards-based tools.\n",
      "\n",
      "        See https://blog.ganssle.io/articles/2021/10/setup-py-deprecated.html for details.\n",
      "        ********************************************************************************\n",
      "\n",
      "!!\n",
      "  self.initialize_options()\n",
      "/Users/eechris/anaconda3/lib/python3.11/site-packages/setuptools/_distutils/cmd.py:66: EasyInstallDeprecationWarning: easy_install command is deprecated.\n",
      "!!\n",
      "\n",
      "        ********************************************************************************\n",
      "        Please avoid running ``setup.py`` and ``easy_install``.\n",
      "        Instead, use pypa/build, pypa/installer or other\n",
      "        standards-based tools.\n",
      "\n",
      "        See https://github.com/pypa/setuptools/issues/917 for details.\n",
      "        ********************************************************************************\n",
      "\n",
      "!!\n",
      "  self.initialize_options()\n",
      "/Users/eechris/anaconda3/lib/python3.11/site-packages/setuptools/command/sdist.py:115: SetuptoolsDeprecationWarning: `build_py` command does not inherit from setuptools' `build_py`.\n",
      "!!\n",
      "\n",
      "        ********************************************************************************\n",
      "        Custom 'build_py' does not implement 'get_data_files_without_manifest'.\n",
      "        Please extend command classes from setuptools instead of distutils.\n",
      "\n",
      "        See https://peps.python.org/pep-0632/ for details.\n",
      "        ********************************************************************************\n",
      "\n",
      "!!\n",
      "  self._add_data_files(self._safe_data_files(build_py))\n",
      "zip_safe flag not set; analyzing archive contents...\n",
      "matlab.__pycache__.__init__.cpython-311: module references __file__\n",
      "matlab.__pycache__.__init__.cpython-311: module references __path__\n",
      "matlab.engine.__pycache__.__init__.cpython-311: module references __file__\n"
     ]
    }
   ],
   "source": [
    "!python --version\n",
    "#%shell\n",
    "!python setup.py install"
   ]
  },
  {
   "cell_type": "markdown",
   "id": "b2718506",
   "metadata": {},
   "source": [
    "## Test Python can now communicate with MATLAB\n",
    "\n",
    "First start a MATLAB session. You will have to restart your Python kernel first!"
   ]
  },
  {
   "cell_type": "code",
   "execution_count": 10,
   "id": "cc7aa7ff",
   "metadata": {},
   "outputs": [
    {
     "ename": "ModuleNotFoundError",
     "evalue": "No module named 'matlab'",
     "output_type": "error",
     "traceback": [
      "\u001b[0;31m---------------------------------------------------------------------------\u001b[0m",
      "\u001b[0;31mModuleNotFoundError\u001b[0m                       Traceback (most recent call last)",
      "Cell \u001b[0;32mIn[10], line 1\u001b[0m\n\u001b[0;32m----> 1\u001b[0m \u001b[38;5;28;01mimport\u001b[39;00m\u001b[38;5;250m \u001b[39m\u001b[38;5;21;01mmatlab\u001b[39;00m\u001b[38;5;21;01m.\u001b[39;00m\u001b[38;5;21;01mengine\u001b[39;00m\n\u001b[1;32m      2\u001b[0m eng \u001b[38;5;241m=\u001b[39m matlab\u001b[38;5;241m.\u001b[39mengine\u001b[38;5;241m.\u001b[39mstart_matlab()\n",
      "\u001b[0;31mModuleNotFoundError\u001b[0m: No module named 'matlab'"
     ]
    }
   ],
   "source": [
    "import matlab.engine\n",
    "eng = matlab.engine.start_matlab()"
   ]
  },
  {
   "cell_type": "markdown",
   "id": "fbc89c39",
   "metadata": {},
   "source": [
    "Then connect to the session"
   ]
  },
  {
   "cell_type": "code",
   "execution_count": 23,
   "id": "db0e8666",
   "metadata": {},
   "outputs": [],
   "source": [
    "eng = matlab.engine.connect_matlab()"
   ]
  },
  {
   "cell_type": "markdown",
   "id": "bb61d58d",
   "metadata": {},
   "source": [
    "Now compute something. Here's a 10x10 magic square"
   ]
  },
  {
   "cell_type": "code",
   "execution_count": 24,
   "id": "8614ecbf",
   "metadata": {},
   "outputs": [],
   "source": [
    "m = eng.magic(10);"
   ]
  },
  {
   "cell_type": "code",
   "execution_count": 27,
   "id": "6fdbfedb",
   "metadata": {},
   "outputs": [
    {
     "name": "stdout",
     "output_type": "stream",
     "text": [
      "[[92.0,99.0,1.0,8.0,15.0,67.0,74.0,51.0,58.0,40.0],[98.0,80.0,7.0,14.0,16.0,73.0,55.0,57.0,64.0,41.0],[4.0,81.0,88.0,20.0,22.0,54.0,56.0,63.0,70.0,47.0],[85.0,87.0,19.0,21.0,3.0,60.0,62.0,69.0,71.0,28.0],[86.0,93.0,25.0,2.0,9.0,61.0,68.0,75.0,52.0,34.0],[17.0,24.0,76.0,83.0,90.0,42.0,49.0,26.0,33.0,65.0],[23.0,5.0,82.0,89.0,91.0,48.0,30.0,32.0,39.0,66.0],[79.0,6.0,13.0,95.0,97.0,29.0,31.0,38.0,45.0,72.0],[10.0,12.0,94.0,96.0,78.0,35.0,37.0,44.0,46.0,53.0],[11.0,18.0,100.0,77.0,84.0,36.0,43.0,50.0,27.0,59.0]]\n"
     ]
    }
   ],
   "source": [
    "print(m)"
   ]
  },
  {
   "cell_type": "markdown",
   "id": "00a682b7",
   "metadata": {},
   "source": [
    "Close the session"
   ]
  },
  {
   "cell_type": "code",
   "execution_count": 29,
   "id": "5506da9a",
   "metadata": {},
   "outputs": [],
   "source": [
    "eng.quit()"
   ]
  },
  {
   "cell_type": "markdown",
   "id": "e3c29b99",
   "metadata": {},
   "source": [
    "## MATLAB Kernel for Jupyter\n",
    "\n",
    "\n",
    "Finally we install Carsten Allefeld's `Mkernel` ([github.com/allefeld/mkernel](https://github.com/allefeld/mkernel)) using the instructions given in {cite}`allefeld2023`: "
   ]
  },
  {
   "cell_type": "code",
   "execution_count": null,
   "id": "263fc756-07e7-40a4-8d4e-73a6ba618abc",
   "metadata": {},
   "outputs": [],
   "source": [
    "!pip install git+https://github.com/allefeld/mkernel.git"
   ]
  },
  {
   "cell_type": "code",
   "execution_count": 34,
   "id": "8c0e5a05-37e5-45da-9f5e-d781e562f7b1",
   "metadata": {},
   "outputs": [
    {
     "name": "stdout",
     "output_type": "stream",
     "text": [
      "0.00s - Debugger warning: It seems that frozen modules are being used, which may\n",
      "0.00s - make the debugger miss breakpoints. Please pass -Xfrozen_modules=off\n",
      "0.00s - to python to disable frozen modules.\n",
      "0.00s - Note: Debugging will proceed. Set PYDEVD_DISABLE_FILE_VALIDATION=1 to disable this validation.\n",
      "Available kernels:\n",
      "  mkernel    /Users/eechris/anaconda3/share/jupyter/kernels/mkernel\n",
      "  python3    /Users/eechris/anaconda3/share/jupyter/kernels/python3\n"
     ]
    }
   ],
   "source": [
    "!jupyter kernelspec list"
   ]
  },
  {
   "cell_type": "markdown",
   "id": "acbd71d4",
   "metadata": {},
   "source": [
    "To check that the MATLAB kernel is properly installed do the following.\n",
    "\n",
    "1. Save this notebook `File->Save`.\n",
    "1. Select `Kernel->Shutdown` from the notebook menu.\n",
    "1. Close the browser window.\n",
    "1. Restart the Jupiter Notebook, as you did at the start, then return here:\n",
    "\n",
    "```\n",
    "jupyter notebook setup.ipynb --debug\n",
    "\n",
    "```"
   ]
  },
  {
   "cell_type": "markdown",
   "id": "c0b329f0",
   "metadata": {},
   "source": [
    "## Test MATLAB Kernel\n",
    "\n",
    "From the `Kernel` menu you should be able to navigate to `Change kernel` and `MKernel` should now be listed (Fig. 1).\n",
    "\n",
    "![Figure 1: The Kernel Menu](fig1.png)\n",
    "\n",
    "Figure 1: The Kernel Menu\n",
    "\n",
    "Go ahead and switch to the MATLAB kernel.\n",
    "\n",
    "If all is well, you should see the Kernel indicator (top right) change to 'Matlab' (Fig. 2)\n",
    "\n",
    "![Figure 2: Matlab kernel indicator](fig2.png)\n",
    "\n",
    "Figure 2: The MATLAB kernel indicator"
   ]
  },
  {
   "cell_type": "markdown",
   "id": "7102aee9",
   "metadata": {},
   "source": [
    "You should now be able to execute the MATLAB `magic(10)` function again and get the result shown:\n",
    "\n",
    "```matlab\n",
    "magic(10)\n",
    "\n",
    "ans =\n",
    "\n",
    "    92    99     1     8    15    67    74    51    58    40\n",
    "    98    80     7    14    16    73    55    57    64    41\n",
    "     4    81    88    20    22    54    56    63    70    47\n",
    "    85    87    19    21     3    60    62    69    71    28\n",
    "    86    93    25     2     9    61    68    75    52    34\n",
    "    17    24    76    83    90    42    49    26    33    65\n",
    "    23     5    82    89    91    48    30    32    39    66\n",
    "    79     6    13    95    97    29    31    38    45    72\n",
    "    10    12    94    96    78    35    37    44    46    53\n",
    "    11    18   100    77    84    36    43    50    27    59\n",
    "\n",
    "```\n",
    "\n",
    "Go ahead and execute the next code cell."
   ]
  },
  {
   "cell_type": "code",
   "execution_count": 2,
   "id": "4191f1e1",
   "metadata": {},
   "outputs": [
    {
     "name": "stderr",
     "output_type": "stream",
     "text": [
      "Error connecting to MATLAB. Check the status of MATLAB by clicking the \"Open MATLAB\" button. Retry after ensuring MATLAB is running successfully"
     ]
    }
   ],
   "source": [
    "magic(10)"
   ]
  },
  {
   "cell_type": "markdown",
   "id": "433658f7",
   "metadata": {},
   "source": [
    "If you wish to further test the Matlab interface, download this file from the `Calysto/matlab_kernel` repository [matlab_kernel.ipynb](https://github.com/Calysto/matlab_kernel/blob/master/matlab_kernel.ipynb), open it in Jupyter and run the whole notebook.\n",
    "\n",
    "If *you* have any problems, send me a message through the Teams page for the EG-247 Course.\n",
    "\n",
    "By default, the `Mkernal` kernel uses MATLAB figure windows. To get images inline in svg, use\n",
    "\n",
    "```\n",
    "setappdata(0, \"MKernel_plot_format\", \"svg\")\n",
    "```\n",
    "\n",
    "at the beginning of any notebooks that use the MATLAB kernel."
   ]
  },
  {
   "cell_type": "markdown",
   "id": "2e0809c5",
   "metadata": {},
   "source": [
    "## For More Information on Jupyter\n",
    "\n",
    "To learn more about Jupyter notebooks, the key resource is the [Jupyter Project site](https://jupyter.org) itself. There, under the documentation section, you will find everything you need to fully understand Jupyter. However, it's not arranged in a way that is useful for a beginner! \n",
    "\n",
    "For a quick introduction, I particularly recommend Corey Schafer's YouTube tutorial: https://youtu.be/HW29067qVWk."
   ]
  },
  {
   "cell_type": "markdown",
   "id": "32abfe43-95c4-4788-9639-ab664bb1218e",
   "metadata": {},
   "source": [
    "<iframe width=\"560\" height=\"315\" src=\"https://www.youtube.com/embed/HW29067qVWk\" frameborder=\"0\" allow=\"accelerometer; autoplay; encrypted-media; gyroscope; picture-in-picture\" allowfullscreen></iframe>"
   ]
  },
  {
   "cell_type": "markdown",
   "id": "e041e286",
   "metadata": {},
   "source": [
    "## Jupyter Noteboooks versus MATLAB Live Scripts \n",
    "\n",
    "Both Jupyter and MATLAB Live Script trace their origins -- or at least their inspiration -- to the <a href=\"https://en.wikipedia.org/wiki/Wolfram_Mathematica_(software)#The_Notebook_interface\">Mathematica Notebook interface</a>. All allow the mixing of code with output, the running of code in sections, and the ability to add formatted text, images, and equations to tell a story and provide a repeatable record of a computation. \n",
    "\n",
    "The Mathworks claims some [advantages for the MATLAB Live Script interface](https://uk.mathworks.com/matlabcentral/answers/329935-jupyter-notebook-vs-live-scripts#answer_259207) due to its close integration with the MATLAB desktop and the new MATLAB Online product. Other teachers have also advocated the use of Live Script in teaching, e.g. [Teaching with Matlab Live Scripts](https://bastibe.de/2016-06-15-matlab-live-scripts.html). The main issue though is that MATLAB is an expensive, licensed product. It's free to use while you are a student or a teacher at Swansea University. It is extremely expensive once you graduate!\n",
    "\n",
    "For me, the main advantage of Jupyter notebooks is that it is language independent, well supported, open source and free! It also has some features, mentioned at the top of this document, that make it particularly attractive as a support tool for the teaching on this course. \n",
    "\n",
    "That said, we will be using MATLAB throughout this course and MATLAB Live Scripts in the Labs for this module."
   ]
  },
  {
   "cell_type": "markdown",
   "id": "793b5196",
   "metadata": {},
   "source": [
    "## References\n",
    "\n",
    "```{bibliography}\n",
    ":filter: docname in docnames\n",
    "```\n"
   ]
  }
 ],
 "metadata": {
  "kernelspec": {
   "display_name": "Python 3 (ipykernel)",
   "language": "python",
   "name": "python3"
  },
  "language_info": {
   "codemirror_mode": {
    "name": "ipython",
    "version": 3
   },
   "file_extension": ".py",
   "mimetype": "text/x-python",
   "name": "python",
   "nbconvert_exporter": "python",
   "pygments_lexer": "ipython3",
   "version": "3.11.11"
  }
 },
 "nbformat": 4,
 "nbformat_minor": 5
}
