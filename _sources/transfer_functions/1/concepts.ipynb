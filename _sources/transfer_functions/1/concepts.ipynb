{
 "cells": [
  {
   "cell_type": "markdown",
   "id": "43dfa8c5",
   "metadata": {
    "slideshow": {
     "slide_type": "slide"
    }
   },
   "source": [
    "(tf_concepts)=\n",
    "# Unit 2.1 Laplace transforms and LTI systems"
   ]
  },
  {
   "cell_type": "markdown",
   "id": "c2931fc7",
   "metadata": {
    "slideshow": {
     "slide_type": "subslide"
    }
   },
   "source": [
    "## Learning Outcomes\n",
    "\n",
    "In this unit, students will...\n",
    "\n",
    "* Compute Laplace transforms by hand and using symbolic math.\n",
    "* Describe the properties of the Laplace transform.\n",
    "* Apply Laplace transforms to solve initial value problems.\n",
    "* Recall the definition of a linear time-invariant (LTI) operator."
   ]
  },
  {
   "cell_type": "markdown",
   "id": "53a42772",
   "metadata": {
    "slideshow": {
     "slide_type": "notes"
    }
   },
   "source": [
    ":::{note}\n",
    "This unit is based on the MATLAB LiveScript `ConceptReview.mlx` from the curriculum module [Transfer Function Analysis of Dynamic Systems](https://github.com/MathWorks-Teaching-Resources/Transfer-Function-Analysis-of-Dynamic-Systems). \n",
    "\n",
    "Some of the examples rely on interactive features of MATLAB that are not readily reproduced in these notes. To make use of these facilities, you are advised to access the script directly from the project in MATLAB online.\n",
    "\n",
    "These materials © Copyright 2023 The MathWorks™, Inc. (See {ref}`mathworks_license`).\n",
    ":::"
   ]
  },
  {
   "cell_type": "code",
   "execution_count": 13,
   "id": "7aa2ac83",
   "metadata": {
    "slideshow": {
     "slide_type": "notes"
    }
   },
   "outputs": [],
   "source": [
    "%% Lecturer: set up the TransferFunctions project for in class execution of exercise tests and activities.\n",
    "\n",
    "% Setup MATLAB to use the ConceptReview.mlx LiveScript in class.\n",
    "% I am assuming that this is on the MATLAB Drive\n",
    "\n",
    "format compact \n",
    "% Change this to local set up where this Jupyter book is run\n",
    "cd '/Users/eechris/MATLAB-Drive/Repositories/Transfer-Function-Analysis-of-Dynamic-Systems'\n",
    "open('TransferFunctions.prj')"
   ]
  },
  {
   "cell_type": "markdown",
   "id": "27ce7587",
   "metadata": {
    "slideshow": {
     "slide_type": "slide"
    }
   },
   "source": [
    "## Introduction\n",
    "\n",
    "Transfer functions are derived by computing the **Laplace transform** of **linear time-invariant (LTI)** dynamic systems. In these notes, the basics of Laplace transforms and LTI systems are reviewed."
   ]
  },
  {
   "cell_type": "markdown",
   "id": "c81a0b2b",
   "metadata": {
    "slideshow": {
     "slide_type": "slide"
    }
   },
   "source": [
    "(laplace_xform)=\n",
    "## The Laplace Transform"
   ]
  },
  {
   "cell_type": "markdown",
   "id": "667ad347",
   "metadata": {
    "slideshow": {
     "slide_type": "fragment"
    }
   },
   "source": [
    "### Definition\n",
    "\n",
    "The Laplace transform of a locally integrable function $f$  is \n",
    "\n",
    "$$F(s) = \\mathcal{L}\\{f(t)\\} =\\int_{0}^{\\infty} f(t) e^{-st} \\ dt$$"
   ]
  },
  {
   "cell_type": "markdown",
   "id": "b92c66c9",
   "metadata": {
    "slideshow": {
     "slide_type": "fragment"
    }
   },
   "source": [
    "The corresponding inverse Laplace transform is denoted as\n",
    "\n",
    "$$f(t) = \\mathcal{L}^{-1} \\{ F(s) \\}$$"
   ]
  },
  {
   "cell_type": "markdown",
   "id": "25025ae7",
   "metadata": {
    "slideshow": {
     "slide_type": "notes"
    }
   },
   "source": [
    "Inverse Laplace transforms (and forward Laplace transforms, for that matter) are usually found by appealing to a transform table. The formal definition of the inverse Laplace transform is rarely used and so is not discussed here."
   ]
  },
  {
   "cell_type": "markdown",
   "id": "5f251a28",
   "metadata": {
    "slideshow": {
     "slide_type": "subslide"
    }
   },
   "source": [
    "#### Example 1\n",
    "\n",
    "![example](images/write.png)"
   ]
  },
  {
   "cell_type": "markdown",
   "id": "9187e94b",
   "metadata": {
    "slideshow": {
     "slide_type": "fragment"
    }
   },
   "source": [
    "(a)  Compute the Laplace transform of $f(t) = u_0(t - a)$ by hand, where $u_o(t)$ is the Heaviside step function with $a > 0$."
   ]
  },
  {
   "cell_type": "markdown",
   "id": "c62e05b0",
   "metadata": {
    "slideshow": {
     "slide_type": "fragment"
    }
   },
   "source": [
    "(b) Compute the analytic Laplace transform of $f$ using the [Symbolic Math Toolbox](https://www.mathworks.com/products/symbolic.html)."
   ]
  },
  {
   "cell_type": "markdown",
   "id": "bf6178fe",
   "metadata": {
    "slideshow": {
     "slide_type": "subslide"
    }
   },
   "source": [
    "#### Solution\n",
    "\n",
    "(a)"
   ]
  },
  {
   "cell_type": "markdown",
   "id": "922c4909",
   "metadata": {
    "slideshow": {
     "slide_type": "fragment"
    }
   },
   "source": [
    "$$\\begin{array}{rl}\n",
    "F(s) &= \\int_{0}^{\\infty}  u_0(t-a) e^{-st} \\ dt \\\\\n",
    " &= \\int_{a}^{\\infty}  e^{-st} \\ dt \\\\\n",
    "&= \\left. -\\frac{1}{s} e^{-st} \\ \\right\\vert_a^\\infty \\\\\n",
    "&= \\frac{1}{s} e^{-as} \\\\\n",
    "\\end{array}$$"
   ]
  },
  {
   "cell_type": "markdown",
   "id": "c4642f02",
   "metadata": {
    "slideshow": {
     "slide_type": "subslide"
    }
   },
   "source": [
    "(b) The [laplace](https://www.mathworks.com/help/symbolic/laplace.html) function computes the analytic transform of a symbolic expression $f$. You can use the syntax:\n",
    "```matlab\n",
    "Fs = laplace(f,var,transformVar)\n",
    "```"
   ]
  },
  {
   "cell_type": "markdown",
   "id": "74e88d02",
   "metadata": {
    "slideshow": {
     "slide_type": "subslide"
    }
   },
   "source": [
    "1. Start by declaring symbolic variables"
   ]
  },
  {
   "cell_type": "code",
   "execution_count": null,
   "id": "13cb7fbf",
   "metadata": {
    "slideshow": {
     "slide_type": "fragment"
    }
   },
   "outputs": [],
   "source": [
    "format compact % use less white space in outputs\n",
    "syms t s\n",
    "syms a positive"
   ]
  },
  {
   "cell_type": "markdown",
   "id": "ba9b7a2a",
   "metadata": {
    "slideshow": {
     "slide_type": "fragment"
    }
   },
   "source": [
    "2. Then, define the function $f$. You can find a list of mathematical functions present in the Symbolic Math Toolbox in [the documentation](https://www.mathworks.com)."
   ]
  },
  {
   "cell_type": "code",
   "execution_count": null,
   "id": "3a535031",
   "metadata": {
    "slideshow": {
     "slide_type": "fragment"
    }
   },
   "outputs": [],
   "source": [
    "f = heaviside(t - a)"
   ]
  },
  {
   "cell_type": "markdown",
   "id": "bfbfa9e1",
   "metadata": {
    "slideshow": {
     "slide_type": "subslide"
    }
   },
   "source": [
    "3. Finally, compute the Laplace transform with the input variable `t` and transform variable `s`."
   ]
  },
  {
   "cell_type": "code",
   "execution_count": null,
   "id": "2c696540",
   "metadata": {},
   "outputs": [],
   "source": [
    "Fs = laplace(f, t, s)"
   ]
  },
  {
   "cell_type": "markdown",
   "id": "f1f14318",
   "metadata": {
    "slideshow": {
     "slide_type": "subslide"
    }
   },
   "source": [
    "#### Exercise 1\n",
    "\n",
    "![example](images/write.png) \n",
    "\n",
    "1. Compute the Laplace transform of some standard functions listed below on paper[^examples]. Assume $a$ is real and $a > 0$\n",
    "\n",
    "**a.** $f(t) = 1$ **b.** $f(t) = e^{-at}$ **c.** $f(t) = t$ **d.** $f(t) = \\delta(t - a)$ \n",
    "\n",
    "**e.** $f(t) = \\cos(t)$ **f.** $f(t) = t^2 e^{-at}$ **g.** $f(t) = e^{-at}\\sin(t)$"
   ]
  },
  {
   "cell_type": "markdown",
   "id": "05439e56",
   "metadata": {
    "slideshow": {
     "slide_type": "notes"
    }
   },
   "source": [
    "**Hints: a/b.** substitution, **c.** integration by parts, **d.** [dirac](https://www.mathworks.com/help/symbolic/sym.dirac.html) for the symbolic computation), **e/g** integrate by parts and rearrange terms, **f.** multiple integration by parts."
   ]
  },
  {
   "cell_type": "markdown",
   "id": "154243fb",
   "metadata": {
    "slideshow": {
     "slide_type": "subslide"
    }
   },
   "source": [
    "2. Verify your answers by computing the Laplace transforms in the space provided below using symbolic math."
   ]
  },
  {
   "cell_type": "code",
   "execution_count": 7,
   "id": "eeaa60c4",
   "metadata": {
    "slideshow": {
     "slide_type": "subslide"
    }
   },
   "outputs": [],
   "source": [
    "% Symbolic variable declarations\n",
    "syms t s\n",
    "syms a positive"
   ]
  },
  {
   "cell_type": "markdown",
   "id": "a4479992",
   "metadata": {
    "slideshow": {
     "slide_type": "subslide"
    }
   },
   "source": [
    "##### Solution 1 (a)."
   ]
  },
  {
   "cell_type": "code",
   "execution_count": 8,
   "id": "0bf12166",
   "metadata": {
    "slideshow": {
     "slide_type": "fragment"
    }
   },
   "outputs": [
    {
     "name": "stdout",
     "output_type": "stream",
     "text": [
      "f =\n",
      "     1\n",
      "Fs =\n",
      "1/s\n"
     ]
    }
   ],
   "source": [
    "f = 1\n",
    "Fs = laplace(f,t,s)"
   ]
  },
  {
   "cell_type": "markdown",
   "id": "83421d75",
   "metadata": {
    "slideshow": {
     "slide_type": "subslide"
    }
   },
   "source": [
    "##### Solution 1 (b)."
   ]
  },
  {
   "cell_type": "code",
   "execution_count": 9,
   "id": "771823f9",
   "metadata": {
    "slideshow": {
     "slide_type": "fragment"
    }
   },
   "outputs": [
    {
     "name": "stdout",
     "output_type": "stream",
     "text": [
      "f =\n",
      "exp(-a*t)\n",
      "Fs =\n",
      "1/(a + s)\n"
     ]
    }
   ],
   "source": [
    "f = exp(-a*t)\n",
    "Fs = laplace(exp(-a*t))"
   ]
  },
  {
   "cell_type": "markdown",
   "id": "a939239f",
   "metadata": {
    "slideshow": {
     "slide_type": "subslide"
    }
   },
   "source": [
    "##### Solution 1 (c)."
   ]
  },
  {
   "cell_type": "code",
   "execution_count": 10,
   "id": "baf30ad2",
   "metadata": {
    "slideshow": {
     "slide_type": "fragment"
    }
   },
   "outputs": [
    {
     "name": "stdout",
     "output_type": "stream",
     "text": [
      "f =\n",
      "t\n",
      "Fs =\n",
      "1/s^2\n"
     ]
    }
   ],
   "source": [
    "f = t\n",
    "Fs = laplace(f, t, s)"
   ]
  },
  {
   "cell_type": "markdown",
   "id": "76086534",
   "metadata": {
    "slideshow": {
     "slide_type": "subslide"
    }
   },
   "source": [
    "##### Solution 1 (d)."
   ]
  },
  {
   "cell_type": "code",
   "execution_count": 11,
   "id": "3408d0d0",
   "metadata": {
    "slideshow": {
     "slide_type": "fragment"
    }
   },
   "outputs": [
    {
     "name": "stdout",
     "output_type": "stream",
     "text": [
      "f =\n",
      "dirac(a - t)\n",
      "Fs =\n",
      "exp(-a*s)\n"
     ]
    }
   ],
   "source": [
    "f = dirac(t - a)\n",
    "Fs = laplace(f, t, s)"
   ]
  },
  {
   "cell_type": "markdown",
   "id": "294e1673",
   "metadata": {
    "slideshow": {
     "slide_type": "subslide"
    }
   },
   "source": [
    "##### Solution 1 (e)."
   ]
  },
  {
   "cell_type": "code",
   "execution_count": 12,
   "id": "32b461ea",
   "metadata": {
    "slideshow": {
     "slide_type": "fragment"
    }
   },
   "outputs": [
    {
     "name": "stdout",
     "output_type": "stream",
     "text": [
      "f =\n",
      "cos(t)\n",
      "Fs =\n",
      "s/(s^2 + 1)\n"
     ]
    }
   ],
   "source": [
    "f = cos(t)\n",
    "Fs = laplace(f, t, s)"
   ]
  },
  {
   "cell_type": "markdown",
   "id": "88c7d9c8",
   "metadata": {
    "slideshow": {
     "slide_type": "subslide"
    }
   },
   "source": [
    "##### Solution 1 (f)."
   ]
  },
  {
   "cell_type": "code",
   "execution_count": null,
   "id": "6497d76a",
   "metadata": {
    "slideshow": {
     "slide_type": "fragment"
    }
   },
   "outputs": [],
   "source": [
    "f = t^2 * exp(-a*t)\n",
    "Fs = laplace(f, t, s)"
   ]
  },
  {
   "cell_type": "markdown",
   "id": "3bffdcec",
   "metadata": {
    "slideshow": {
     "slide_type": "subslide"
    }
   },
   "source": [
    "##### Solution 1 (g)."
   ]
  },
  {
   "cell_type": "code",
   "execution_count": null,
   "id": "e629baeb",
   "metadata": {
    "slideshow": {
     "slide_type": "fragment"
    }
   },
   "outputs": [],
   "source": [
    "f = exp(-a*t) * sin(t)\n",
    "Fs = laplace(f, t, s)"
   ]
  },
  {
   "cell_type": "markdown",
   "id": "96c36668",
   "metadata": {
    "slideshow": {
     "slide_type": "slide"
    }
   },
   "source": [
    "### Visualize Laplace transforms\n",
    "\n",
    "![Try](images/try.png) \n",
    "\n",
    "See the MATLAB LiveScript `ConceptReview.mlx`."
   ]
  },
  {
   "cell_type": "code",
   "execution_count": null,
   "id": "27a3002f",
   "metadata": {
    "slideshow": {
     "slide_type": "subslide"
    }
   },
   "outputs": [],
   "source": [
    "open('ConceptReview.mlx')"
   ]
  },
  {
   "cell_type": "markdown",
   "id": "c6d602ec",
   "metadata": {
    "slideshow": {
     "slide_type": "notes"
    }
   },
   "source": [
    "#### Reflect\n",
    "\n",
    "![reflect](images/reflect.png)\n",
    "\n",
    "* What class of functions is most commonly observed in the Laplace transform?\n",
    "* How do the poles of the Laplace transform reflect the behavior of the time domain function $f(t)$?"
   ]
  },
  {
   "cell_type": "markdown",
   "id": "32ebf930",
   "metadata": {
    "slideshow": {
     "slide_type": "notes"
    }
   },
   "source": [
    "Laplace transforms and their inverses are also commonly found using a table, like [this one](https://en.wikipedia.org/wiki/List_of_Laplace_transforms#Table).\n",
    "\n",
    "See also {ref}`lxf_table` in this textbook."
   ]
  },
  {
   "cell_type": "markdown",
   "id": "71c30075",
   "metadata": {
    "slideshow": {
     "slide_type": "slide"
    }
   },
   "source": [
    "(ltp)=\n",
    "### Laplace transform properties\n",
    "\n",
    "Laplace transforms have several important properties that can be derived from the definition. A few essential properties are reviewed below."
   ]
  },
  {
   "cell_type": "markdown",
   "id": "06d423c8",
   "metadata": {
    "slideshow": {
     "slide_type": "subslide"
    }
   },
   "source": [
    "$$\\left.\n",
    "\\begin{array}{lll}\n",
    "\\textbf{Name} & \\mathbf{f(t)} & \\mathbf{F(s)}\n",
    "\\\\\n",
    "\\text{Time derivative} \\quad& \\dot{f}(t) \\quad & sF(s) - f(0)\n",
    "\\\\\n",
    "\\text{Time integral} \\quad& \\int_0^t f(\\tau) d\\tau \\quad & \\frac{F(s)}{s}\n",
    "\\\\\n",
    "\\text{Frequency shift} \\quad& e^{at} f(t) \\quad & F(s-a)\n",
    "\\\\\n",
    "\\text{Time shift} \\quad& f(t-a)u_0(t-a) \\quad & e^{-as} F(s)\n",
    "\\\\\n",
    "\\text{Time scaling} \\quad& f(at) \\quad & \\frac{1}{a}F\\left( \\frac{s}{a}\\right)\n",
    "\\\\\n",
    "\\text{Time domain convolution} \\quad &  (f*g)(t) & F(s) G(s)\n",
    "\\end{array}\n",
    "\\right.\n",
    "$$"
   ]
  },
  {
   "cell_type": "markdown",
   "id": "a534b9c6",
   "metadata": {
    "slideshow": {
     "slide_type": "notes"
    }
   },
   "source": [
    "A more complete list of Laplace transform properties is to be found in {ref}`lxf_props` in this textbook."
   ]
  },
  {
   "cell_type": "markdown",
   "id": "44e5cdb2",
   "metadata": {
    "slideshow": {
     "slide_type": "subslide"
    }
   },
   "source": [
    "For example, the Laplace transform of a time derivative can be computed through integration by parts:"
   ]
  },
  {
   "cell_type": "markdown",
   "id": "9b4f4327",
   "metadata": {
    "slideshow": {
     "slide_type": "subslide"
    }
   },
   "source": [
    "$$\n",
    "\\begin{array}{rl}\n",
    "\\mathcal{L}\\{f'(t)\\} &= \\int_{0}^{\\infty} \\dot{f}(t) e^{-st} \\ dt\n",
    "\\\\\n",
    "&= \\left. f(t) e^{-st} \\ \\right\\vert_0^\\infty - \\int_{0}^{\\infty}  f(t) \\left( -s  e^{-st}\\right) \\ dt\n",
    "\\\\\n",
    "&= - f(0) + sF(s)\n",
    "\\end{array}\n",
    "$$"
   ]
  },
  {
   "cell_type": "markdown",
   "id": "9e30921e",
   "metadata": {
    "slideshow": {
     "slide_type": "subslide"
    }
   },
   "source": [
    "#### Try this\n",
    "\n",
    "![try](images/try.png)\n",
    "\n",
    "The symbolic derivative of $f$ is defined below by declaring a symbolic function using the syntax"
   ]
  },
  {
   "cell_type": "code",
   "execution_count": null,
   "id": "e647bbc1",
   "metadata": {
    "slideshow": {
     "slide_type": "fragment"
    }
   },
   "outputs": [],
   "source": [
    "syms f(t)"
   ]
  },
  {
   "cell_type": "markdown",
   "id": "8b7e1c2d",
   "metadata": {
    "slideshow": {
     "slide_type": "subslide"
    }
   },
   "source": [
    "The derivative is then computed using the [diff](https://uk.mathworks.com/help/matlab/ref/diff.html) function."
   ]
  },
  {
   "cell_type": "code",
   "execution_count": null,
   "id": "b846e238",
   "metadata": {
    "slideshow": {
     "slide_type": "fragment"
    }
   },
   "outputs": [],
   "source": [
    "syms t f(t)\n",
    "dfdt = diff(f)"
   ]
  },
  {
   "cell_type": "markdown",
   "id": "1aceace7",
   "metadata": {
    "slideshow": {
     "slide_type": "subslide"
    }
   },
   "source": [
    "Use the [laplace](https://uk.mathworks.com/help/symbolic/sym.laplace.html) function to compute the Laplace transform of `dfdt` in the space below."
   ]
  },
  {
   "cell_type": "code",
   "execution_count": null,
   "id": "30141c2c",
   "metadata": {
    "slideshow": {
     "slide_type": "fragment"
    }
   },
   "outputs": [],
   "source": [
    "Fs = laplace(dfdt)"
   ]
  },
  {
   "cell_type": "markdown",
   "id": "961a9240",
   "metadata": {
    "slideshow": {
     "slide_type": "subslide"
    }
   },
   "source": [
    "#### Exercise 2\n",
    "\n",
    "![exercise](images/write.png)\n",
    "\n",
    "##### 2 (a).\n",
    "\n",
    "Find the formula for the Laplace transform of the second time derivative $\\ddot{f}(t)$ by hand[^examples]."
   ]
  },
  {
   "cell_type": "markdown",
   "id": "f86778e5",
   "metadata": {
    "slideshow": {
     "slide_type": "subslide"
    }
   },
   "source": [
    "##### 2(b).\n",
    "\n",
    "Verify your answer by computing the Laplace transform using symbolic math."
   ]
  },
  {
   "cell_type": "markdown",
   "id": "8266c45a",
   "metadata": {
    "slideshow": {
     "slide_type": "notes"
    }
   },
   "source": [
    "##### Pro-tip:\n",
    "\n",
    "![pro-tip](images/pro-tip.png)\n",
    "\n",
    "To compute the second derivative, use the [diff](https://uk.mathworks.com/help/matlab/ref/diff.html) function with the syntax: `diff(f,n)`, where `n` is the order of the derivative."
   ]
  },
  {
   "cell_type": "markdown",
   "id": "273b08a0",
   "metadata": {
    "slideshow": {
     "slide_type": "subslide"
    }
   },
   "source": [
    "##### Solution 2(b)"
   ]
  },
  {
   "cell_type": "code",
   "execution_count": null,
   "id": "110fb484",
   "metadata": {
    "slideshow": {
     "slide_type": "fragment"
    }
   },
   "outputs": [],
   "source": [
    "syms t f(t) % Definitions of the symbolic variables\n",
    "% Perform your symbolic computations here\n",
    "d2fdt2 = diff(f,2)"
   ]
  },
  {
   "cell_type": "code",
   "execution_count": null,
   "id": "e5968687",
   "metadata": {
    "slideshow": {
     "slide_type": "fragment"
    }
   },
   "outputs": [],
   "source": [
    "Fs = laplace(d2fdt2)"
   ]
  },
  {
   "cell_type": "markdown",
   "id": "028d95e8",
   "metadata": {
    "slideshow": {
     "slide_type": "slide"
    }
   },
   "source": [
    "### Visualize Laplace transform properties\n",
    "\n",
    "![try](images/try.png)\n",
    "\n",
    "See the MATLAB LiveScript `ConceptReview.mlx`"
   ]
  },
  {
   "cell_type": "markdown",
   "id": "82a9af75",
   "metadata": {
    "slideshow": {
     "slide_type": "slide"
    }
   },
   "source": [
    "### Solving differential equations using the Laplace transform\n",
    "\n",
    "You can solve initial value problems analytically using Laplace transforms. In general, this is accomplished by: \n",
    "\n",
    "1. taking the Laplace transform, \n",
    "2. solving for the solution variable in the Laplace domain ($X(s)$), and\n",
    "3. taking the inverse Laplace transform by referring to a Laplace transform table."
   ]
  },
  {
   "cell_type": "markdown",
   "id": "a2a15fb2",
   "metadata": {
    "slideshow": {
     "slide_type": "subslide"
    }
   },
   "source": [
    "#### Example 3\n",
    "\n",
    "![example](images/write.png) \n",
    "\n",
    "Use the Laplace transform to solve for the dynamics of the mass-spring-damper with \n",
    "* constant forcing $F = 10$ N\n",
    "* physical parameters: $m = 1$ kg, $c = 2$ Ns/m, and $k = 10$ N/m\n",
    "* zero initial conditions: $x(0) = 0$ and $x'(0) = 0$"
   ]
  },
  {
   "cell_type": "markdown",
   "id": "0db3784e",
   "metadata": {
    "slideshow": {
     "slide_type": "subslide"
    }
   },
   "source": [
    "![A spring mass-damper-system](images/smd.png)"
   ]
  },
  {
   "cell_type": "markdown",
   "id": "48d4a5ca",
   "metadata": {
    "slideshow": {
     "slide_type": "subslide"
    }
   },
   "source": [
    "#### Solution\n",
    "\n",
    "##### 1. Derive the equations of motion.\n",
    "\n",
    "You can draw a free body diagram and apply Newton's second law to derive the equations of motion."
   ]
  },
  {
   "cell_type": "markdown",
   "id": "3e6ec8ae",
   "metadata": {
    "slideshow": {
     "slide_type": "subslide"
    }
   },
   "source": [
    "![Free Body Diagram of Spring-Mass-Damper signal](images/fbd.png)"
   ]
  },
  {
   "cell_type": "markdown",
   "id": "10f57735",
   "metadata": {
    "slideshow": {
     "slide_type": "subslide"
    }
   },
   "source": [
    "##### 2. Compute the Laplace transform of the dynamic system ODE and solve for $X$\n",
    "\n",
    "Note $\\mathcal{L}\\{x(t)\\} = X(s)$"
   ]
  },
  {
   "cell_type": "markdown",
   "id": "dd692b83",
   "metadata": {
    "slideshow": {
     "slide_type": "fragment"
    }
   },
   "source": [
    "$$\\mathcal{L} \\left\\{ m \\ddot{x} + c\\dot{x} + kx = F \\right\\} \\rightarrow$$\n",
    "\n",
    "$$m[s^2 X - sx(0) - x'(0)] + c [s X - x(0)] + kX = \\frac{F}{s}$$"
   ]
  },
  {
   "cell_type": "markdown",
   "id": "9f6a529a",
   "metadata": {
    "slideshow": {
     "slide_type": "subslide"
    }
   },
   "source": [
    "Applying the zero initial conditions and the values of the physical parameters implies\n",
    "\n",
    "$$s^2 X + 2 s X  + 10X = \\frac{10}{s}$$"
   ]
  },
  {
   "cell_type": "markdown",
   "id": "16adeb92",
   "metadata": {
    "slideshow": {
     "slide_type": "subslide"
    }
   },
   "source": [
    "Solving for  yields\n",
    "\n",
    "$$X = \\frac{10}{s^3 + 2  s^2   + 10s }$$"
   ]
  },
  {
   "cell_type": "markdown",
   "id": "cd029f3a",
   "metadata": {
    "slideshow": {
     "slide_type": "subslide"
    }
   },
   "source": [
    "##### 3. Use partial fraction decomposition to separate the expression for $X(s)$ into terms where the inverse Laplace transform $X$ is known\n",
    "\n",
    "Try performing the partial fraction decomposition on paper and comparing your result to the symbolic solution found below."
   ]
  },
  {
   "cell_type": "code",
   "execution_count": null,
   "id": "2ae2f14e",
   "metadata": {
    "slideshow": {
     "slide_type": "subslide"
    }
   },
   "outputs": [],
   "source": [
    "% Define X(s)\n",
    "syms s \n",
    "X = 10/(s^3 + 2*s^2 + 10*s)"
   ]
  },
  {
   "cell_type": "code",
   "execution_count": null,
   "id": "aace0ecb",
   "metadata": {
    "slideshow": {
     "slide_type": "subslide"
    }
   },
   "outputs": [],
   "source": [
    "% Compute the partial fraction decomposition\n",
    "Xdecomp = partfrac(X,s)"
   ]
  },
  {
   "cell_type": "markdown",
   "id": "b376eb67",
   "metadata": {
    "slideshow": {
     "slide_type": "subslide"
    }
   },
   "source": [
    "##### 4. Take the inverse Laplace transform\n",
    "\n",
    "You can take the inverse Laplace transform by rewriting  as a sum of terms in forms found on a [transform table](https://en.wikipedia.org/wiki/List_of_Laplace_transforms#Table)."
   ]
  },
  {
   "cell_type": "markdown",
   "id": "734e3b4b",
   "metadata": {
    "slideshow": {
     "slide_type": "fragment"
    }
   },
   "source": [
    "$$X(s) = \\frac{1}{s}-\\frac{s+2}{s^2 +2 \\ s+10} =  \\frac{1}{s}-\\frac{s+2}{(s + 1)^2 + 9}  =  \\frac{1}{s}-\\frac{s+1}{(s + 1)^2 + 3^2}  -\\frac{1}{3}\\frac{3}{(s + 1)^2 + 3^2}$$"
   ]
  },
  {
   "cell_type": "markdown",
   "id": "8e225dd1",
   "metadata": {
    "slideshow": {
     "slide_type": "subslide"
    }
   },
   "source": [
    "The solution is then constructed by taking the inverse transform:\n",
    "\n",
    "$$\n",
    "\\begin{array}{rl}\n",
    "x(t) &= \\mathcal{L}^{-1} \\left\\{ \\frac{1}{s}-\\frac{s+1}{(s + 1)^2 + 3^2}  -\\frac{1}{3}\\frac{3}{(s + 1)^2 + 3^2} \\right\\}\n",
    "\\\\\n",
    "  &= u_0(t) - u_0(t) e^{-t} \\cos( 3 t) - \\frac{1}{3} u_0(t) e^{-t} \\sin(3t)\n",
    "\\\\\n",
    "  &= \\left( 1  - e^{-t} \\cos( 3 t) - \\frac{1}{3} e^{-t} \\sin(3t)\\right)u_0(t)\n",
    "\\end{array}\n",
    "$$"
   ]
  },
  {
   "cell_type": "markdown",
   "id": "2367191a",
   "metadata": {
    "slideshow": {
     "slide_type": "subslide"
    }
   },
   "source": [
    "Alternatively, you can use the symbolic function [ilaplace](https://uk.mathworks.com/help/symbolic/sym.ilaplace.html) to find the inverse Laplace transform of $X(s)$."
   ]
  },
  {
   "cell_type": "code",
   "execution_count": null,
   "id": "1d49d82b",
   "metadata": {
    "slideshow": {
     "slide_type": "fragment"
    }
   },
   "outputs": [],
   "source": [
    "syms x\n",
    "x = ilaplace(Xdecomp)"
   ]
  },
  {
   "cell_type": "markdown",
   "id": "d0d221d2",
   "metadata": {
    "slideshow": {
     "slide_type": "subslide"
    }
   },
   "source": [
    "##### 5. Plot the solution"
   ]
  },
  {
   "cell_type": "code",
   "execution_count": null,
   "id": "98812136",
   "metadata": {
    "slideshow": {
     "slide_type": "fragment"
    }
   },
   "outputs": [],
   "source": [
    "% Create solution array\n",
    "t = linspace(0,5,150);\n",
    "x = 1-exp(-t).*(cos(3*t) + sin(3*t)/3);\n",
    "plot(t, x)"
   ]
  },
  {
   "cell_type": "markdown",
   "id": "d7ebef3b",
   "metadata": {
    "slideshow": {
     "slide_type": "subslide"
    }
   },
   "source": [
    "There is an animated version of the solution to this spring-mass-damper system in the MATLAB LiveScript `ConceptReview.mlx`."
   ]
  },
  {
   "cell_type": "code",
   "execution_count": null,
   "id": "98efebaa",
   "metadata": {
    "slideshow": {
     "slide_type": "fragment"
    }
   },
   "outputs": [],
   "source": [
    "open('ConceptReview.mlx')"
   ]
  },
  {
   "cell_type": "markdown",
   "id": "a417201b",
   "metadata": {
    "slideshow": {
     "slide_type": "slide"
    }
   },
   "source": [
    "#### Exercise 4\n",
    "\n",
    "![exercise](images/write.png)\n",
    "\n",
    "In this exercise, you will solve for the dynamics of the simple pendulum using the Laplace transform.\n",
    "\n",
    "![A simple pendulum](images/pendulum.png)"
   ]
  },
  {
   "cell_type": "markdown",
   "id": "f8f63d19",
   "metadata": {
    "slideshow": {
     "slide_type": "subslide"
    }
   },
   "source": [
    "##### 4(a) \n",
    "\n",
    "Draw a free-body diagram for the simple pendulum shown above and derive the equation of motion for a pendulum with length $l = 0.5$ m and a gravitational constant of 9.8 m/s. Linearize the equation near $\\theta = 0$ and show that it is equivalent to\n",
    "\n",
    "$$\\ddot \\theta + 19.6 \\theta = 0$$"
   ]
  },
  {
   "cell_type": "markdown",
   "id": "ca62131a",
   "metadata": {
    "slideshow": {
     "slide_type": "subslide"
    }
   },
   "source": [
    "##### 4(b)\n",
    "\n",
    "Use the Laplace transform to solve the linearized equations of motion:\n",
    "\n",
    "$$\\ddot \\theta + 19.6 \\theta = 0$$\n",
    "      \n",
    "with initial conditions $\\theta(0) = \\pi/6$, $\\dot{\\theta}(0) = 0$.\n",
    "\n",
    "\n",
    "Write your solution in the variable `theta` in terms of the symbolic variable `t`. Then click the checkbox to plot your solution."
   ]
  },
  {
   "cell_type": "code",
   "execution_count": null,
   "id": "3f356a15",
   "metadata": {
    "slideshow": {
     "slide_type": "subslide"
    }
   },
   "outputs": [],
   "source": [
    "syms t s\n",
    "% Replace NaN with your symbolic solution and run the section\n",
    "Theta = (pi/6)*s/(s^2 + 19.6);\n",
    "theta = ilaplace(Theta)"
   ]
  },
  {
   "cell_type": "markdown",
   "id": "b6ac0c3f",
   "metadata": {
    "slideshow": {
     "slide_type": "subslide"
    }
   },
   "source": [
    "There is an animated version of the solution to this simple pendulum system in the MATLAB LiveScript `ConceptReview.mlx`. Open the LiveScript file and paste your solution into the appropriate place to see the animation."
   ]
  },
  {
   "cell_type": "code",
   "execution_count": null,
   "id": "93f86397",
   "metadata": {
    "slideshow": {
     "slide_type": "fragment"
    }
   },
   "outputs": [],
   "source": [
    "open('ConceptReview.mlx')"
   ]
  },
  {
   "cell_type": "markdown",
   "id": "04da37bc",
   "metadata": {
    "slideshow": {
     "slide_type": "slide"
    }
   },
   "source": [
    "## Linear Time-invariant Systems\n",
    "\n",
    "Linear time-invariant (LTI) systems are characterized by the two properties stated in the name: linearity and time-invariance.\n",
    "\n",
    "![Block diagram of a system](images/system.png)\n",
    "\n",
    "Consider an operator $g$ that maps an input $u(t)$ to an output $y(t)$."
   ]
  },
  {
   "cell_type": "markdown",
   "id": "fa4330b3",
   "metadata": {
    "slideshow": {
     "slide_type": "subslide"
    }
   },
   "source": [
    "### 1. Linearity\n",
    "The operator $g$ is linear if it has two properties:\n",
    "* Superposition: $g[u_1(t) + u_2(t)]$ = $y_1(t)$ + $y_2(t)$\n",
    "* Homogeneity: $g[au(t)] = ay(t)$\n",
    "\n",
    "Often these two properties are written together as\n",
    "\n",
    "$$g[a u_1(t) + bu_2(t)] = ay_1(t) + by_2(t)$$"
   ]
  },
  {
   "cell_type": "markdown",
   "id": "f954b8e8",
   "metadata": {
    "slideshow": {
     "slide_type": "subslide"
    }
   },
   "source": [
    "### 2. Time invariance\n",
    "\n",
    "The operator $g$ is time-invariant if a time-shifted input produces an output with the same time shift:\n",
    "\n",
    "$$g[u(t - \\tau)]= y(t - \\tau)$$"
   ]
  },
  {
   "cell_type": "markdown",
   "id": "fcd442e6",
   "metadata": {
    "slideshow": {
     "slide_type": "subslide"
    }
   },
   "source": [
    "### Exercise 5. \n",
    "\n",
    "![reflect](images/reflect.png)\n",
    "\n",
    "Consider the simple operators listed below. Which operators are linear? Which are time-invariant? \n",
    "\n",
    "Use the interactive tool in the MATLAB LiveScript `ConceptReview.mlx` to explore these and reflect on the results.\n",
    "\n",
    "* $g$: $y(t) = g[u(t)]$ with $g = \\frac{d}{dt}  + \\frac{d^2}{dt^2}$\n",
    "* $h$: $y(t) = 4\\sin^2[u(t)]$\n",
    "* $i$: $y(t) = \\int_{t - 1}^{t + 1} 3u(\\tau) d\\tau$\n",
    "* $j$: $y(t) = t \\frac{d}{dt} u(t)$"
   ]
  },
  {
   "cell_type": "code",
   "execution_count": null,
   "id": "81cab967",
   "metadata": {
    "slideshow": {
     "slide_type": "fragment"
    }
   },
   "outputs": [],
   "source": [
    "open('ConceptReview.mlx')"
   ]
  },
  {
   "cell_type": "markdown",
   "id": "f5f01496",
   "metadata": {
    "slideshow": {
     "slide_type": "slide"
    }
   },
   "source": [
    "(homework1)=\n",
    "## Homework 1: Laplace Transform and LTI Systems\n",
    "\n",
    "1. Register with the MathWorks (if you haven't already) using your Swansea University email and install your own copy of the curriculum module [Transfer Function Analysis of Dynamic Systems](https://github.com/MathWorks-Teaching-Resources/Transfer-Function-Analysis-of-Dynamic-Systems) into the online MATLAB version[^installation].\n",
    "2. Open the `ConceptsReview.mlx` activity.\n",
    "3. Complete the Exercises and Activities and add your own notes to the LiveScript file in response to the Reflection prompts given above."
   ]
  },
  {
   "cell_type": "markdown",
   "id": "a9950df5",
   "metadata": {
    "slideshow": {
     "slide_type": "notes"
    }
   },
   "source": [
    "## Solutions to Selected Exercises\n",
    "\n",
    "### Solution to Exercise 1\n",
    "\n",
    "We have made use of the resource [Laplace Transforms](https://www.lboro.ac.uk/departments/mlsc/student-resources/helm-workbooks/) from the [HELM project](https://www.lboro.ac.uk/media/media/schoolanddepartments/mlsc/downloads/HELM%20Workbook%2020%20Laplace%20Transforms.pdf) {cite}`HELM,HELM-Laplace` hosted at Loughborough University. We have made the [HELM resource available in the Canvas site](https://canvas.swansea.ac.uk/courses/44853/modules/items/2565502) for this module. \n",
    "\n",
    "Compute the Laplace transform of some standard functions listed below:\n",
    "\n",
    "**a.** $f(t) = 1$\n",
    "\n",
    "\n",
    "$$\n",
    "\\begin{align}\n",
    "F(s) &= \\mathcal{L}\\left\\{f(t)\\right\\} = \\int_0^\\infty 1.e^{-st}\\,dt\\\\\n",
    "     &= -\\frac{1}{s}\\left. e^{-st}\\right|_0^\\infty\\\\\n",
    "     &= -\\frac{1}{s}\\left[ e^{-s\\infty} - e^{s.0}\\right]\\\\\n",
    "     &= -\\frac{1}{s}\\left[0 - 1\\right]\\\\\n",
    "     &= \\frac{1}{s}\n",
    "\\end{align}\n",
    "$$\n",
    "\n",
    "```{note}\n",
    "We have given all the steps here: in the remaining exercises we will omit some of the details but the results would be much the same. We will also demonstrate pragmatism by using the provided Laplace transform properties and transform tables ({ref}`lxf_props`, {ref}`lxf_table`) when they simplify the analysis. This is generally the approach you should take too.\n",
    "```\n",
    "\n",
    "**b.** $f(t) = e^{-at}$ \n",
    "\n",
    "$$\n",
    "\\begin{align}\n",
    "F(s) &= \\int_0^\\infty e^{-at}.e^{-st}\\,dt\\\\\n",
    "     &= \\int_0^\\infty e^{-(a + s)t}\\,dt\\\\\n",
    "     &= -\\frac{1}{a + s}\\left. e^{-(a + s)t}\\right|_0^\\infty\\\\\n",
    "     &= \\frac{1}{s + a}\n",
    "\\end{align}\n",
    "$$\n",
    "\n",
    "**c.** $f(t) = t$ \n",
    "\n",
    "$$\n",
    "F(s) \\int_0^\\infty t.e^{-st}\\,dt\n",
    "$$\n",
    "Using integration by parts\n",
    "\n",
    "$$\n",
    "\\begin{align}\n",
    "\\mathcal{L}\\left\\{t\\right\\} & = \\left[\\frac{t.e^{-st}}{-s}\\right]_0^\\infty - \\int_0^\\infty \\left(\\frac{e^{-st}}{-s}\\right)\\,dt\\\\\n",
    "     &= \\left[\\frac{t.e^{-st}}{-s}\\right]_0^\\infty - \\left[\\frac{e^{-st}}{-s^2}\\right]_0^\\infty\n",
    "\\end{align}\n",
    "$$\n",
    "\n",
    "Now we have the difficulty of substituting in the limits of integration. The only problem arises with the upper limit ($t = \\infty$). We shall always assume that the parameter $s$ is so chosen that no contribution ever arises from the upper limit ($t = \\infty$). In this particular case we need only demand that $s$ is real and positive. Using this 'rule of thumb':\n",
    "\n",
    "$$\n",
    "\\begin{align}\n",
    "\\mathcal{L}\\left\\{t\\right\\} & = \\left[0 - 0\\right] - \\left[0 - \\left(\\frac{1}{-s^2}\\right)\\right]\\\\\n",
    "     &= \\frac{1}{s^2}\n",
    "\\end{align}\n",
    "$$\n",
    "\n",
    "**d.** $f(t) = \\delta(t - a)$ \n",
    "\n",
    "The solution uses the sampling property $f(t)\\delta(t-a) = f(a)\\delta(t-a)$ and the sifting property \n",
    "\n",
    "$$\n",
    "\\int_0^\\infty f(t)\\delta(t - a)\\,dt = f(a). See \n",
    "$$\n",
    "\n",
    "(see [Important Properties of the Delta Function](https://cpjobling.github.io/eg-150-textbook/signals_and_systems/elementary_signals/index.html#important-properties-of-the-delta-function) in {cite}`jobling-eg-150`).\n",
    "\n",
    "$$\n",
    "\\begin{align}\n",
    "F(s) &= \\int_0^\\infty e^{-st}\\delta(t-a)\\,dt\\\\\n",
    "     &= e^{-as}\n",
    "\\end{align}\n",
    "$$\n",
    "\n",
    "**e.** $f(t) = \\cos(t)$ \n",
    "\n",
    "Using the identity\n",
    "\n",
    "$$\\cos(t) = \\frac{e^{j t} + e^{-jt}}{2}$$\n",
    "\n",
    "and applying the result of (b)\n",
    "\n",
    "$$\n",
    "\\begin{align}\n",
    "\\mathcal{L}\\left\\{\\cos(t)\\right\\} &= \\frac{1}{2}\\left(\\mathcal{L}\\left\\{e^{j t}\\right\\} + \\mathcal{L}\\left\\{e^{-j t}\\right\\}\\right) \\\\\n",
    "   &= \\frac{1}{2}\\left(\\frac{1}{s + j} + \\frac{1}{s - j}\\right) \\\\\n",
    "   &= \\frac{1}{2}\\left(\\frac{s - j + s + j}{(s + j)(s - j)}\\right) \\\\\n",
    "   &= \\frac{1}{2}\\left(\\frac{2s}{s^2 + 1}\\right) \\\\\n",
    "   &= \\frac{s}{s^2 + 1}\n",
    "\\end{align}\n",
    "$$\n",
    "\n",
    "**f.** $f(t) = t^2 e^{-at}$ \n",
    "\n",
    "From transform tables (e.g. {ref}`lxf_table`)\n",
    "\n",
    "$$\n",
    "\\begin{align}\n",
    "  \\mathcal{L}\\left\\{t^n\\right\\} &= \\frac{n!}{s^{n+1}} \\\\\n",
    "  \\mathcal{L}\\left\\{t^2\\right\\} &= \\frac{2!}{s^{2+1}} \\\\\n",
    "  & = \\frac{1\\times 2}{s^3} \\\\\n",
    "  & = \\frac{2}{s^3}\n",
    "\\end{align}\n",
    "$$\n",
    "\n",
    "From the frequency shift property (see {ref}`ltp`)\n",
    "\n",
    "$$\\mathcal{L}\\left\\{e^{-at}\\right\\} = F(s + a)$$\n",
    "\n",
    "so \n",
    "\n",
    "$$\n",
    "\\mathcal{L}\\left\\{e^{-at} t^2\\right\\} = \\frac{2}{\\left(s + a\\right)^3}\n",
    "$$\n",
    "\n",
    "**g.** $f(t) = e^{-at}\\sin(t)$\n",
    "\n",
    "To complete this from first principles you can use the approach we used to solve (e). If you want to do this you should note that \n",
    "\n",
    "$$\\sin(t) = \\frac{1}{j2}\\left(e^{jt} - e^{-jt}\\right).$$\n",
    "\n",
    "It is easy to show that \n",
    "\n",
    "$$\\mathcal{L}\\left\\{\\sin(\\omega t)\\right\\} = \\frac{\\omega}{s^2 + \\omega^2}$$\n",
    "\n",
    "An in this case $\\omega = 1$ so\n",
    "\n",
    "$$\\mathcal{L}\\left\\{\\sin(t)\\right\\} = \\frac{1}{s^2 + 1}$$\n",
    "\n",
    "By the frequency shift property (see previous solution)\n",
    "\n",
    "$$\n",
    "\\begin{align}\n",
    "  \\mathcal{L}\\left\\{e^{-at} \\sin(t)\\right\\} = \\frac{1}{(s + a)^2 + 1}\n",
    "\\end{align}\n",
    "$$"
   ]
  },
  {
   "cell_type": "markdown",
   "id": "a64b108e",
   "metadata": {},
   "source": [
    "## References for this Unit\n",
    "\n",
    "```{bibliography}\n",
    ":filter: docname in docnames\n",
    "```"
   ]
  },
  {
   "cell_type": "markdown",
   "id": "25d45eda",
   "metadata": {
    "slideshow": {
     "slide_type": "notes"
    }
   },
   "source": [
    "## Footnotes\n",
    "\n",
    "[^examples]: We will tackle some of the paper-based exercises in the examples class.\n",
    "\n",
    "[^installation]: Installation details are given in Canvas here: [Prepare the MATLAB Curriculum Module used in Unit 2 and Lab 2](https://canvas.swansea.ac.uk/courses/44853/pages/prepare-the-matlab-curriculum-module-used-in-unit-2-and-lab-2)."
   ]
  }
 ],
 "metadata": {
  "celltoolbar": "Slideshow",
  "jupytext": {
   "formats": "ipynb,md:myst"
  },
  "kernelspec": {
   "display_name": "Matlab",
   "language": "matlab",
   "name": "matlab"
  },
  "language_info": {
   "codemirror_mode": "octave",
   "file_extension": ".m",
   "help_links": [
    {
     "text": "MetaKernel Magics",
     "url": "https://metakernel.readthedocs.io/en/latest/source/README.html"
    }
   ],
   "mimetype": "text/x-octave",
   "name": "matlab",
   "version": "0.17.1"
  }
 },
 "nbformat": 4,
 "nbformat_minor": 5
}
