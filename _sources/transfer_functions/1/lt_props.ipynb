{
 "cells": [
  {
   "cell_type": "markdown",
   "id": "40ae5fb0",
   "metadata": {},
   "source": [
    "(lxf_props)=\n",
    "# Laplace Transform Properties\n",
    "\n",
    "\n",
    "| No. | **Name** | **Time Domain** $f(t)$ | Complex Frequency Domain $F(s)$ |\n",
    "|----:|----------|--------|--------------|\n",
    "| 1.   | Linearity | $a_1f_1(t)+a_2f_2(t)+\\cdots+a_nf_n(t)$ | $a_1F_1(s)+a_2F_2(s)+\\cdots+a_nF_n(s)$ |\n",
    "| 2.  | Time shifting | $\\displaystyle{f(t-a)}u_0(t-a)$ | $\\displaystyle{e^{-a s}F(s)}$ \n",
    "| 3.  | Frequency shifting | $\\displaystyle{e^{-as}f(t)}$ | $\\displaystyle{F(s+a)}$ |\n",
    "| 4.  | Time scaling | $f(a t)$ | $\\displaystyle{\\frac{1}{a}F\\left(\\frac{s}{a}\\right)}$ |\n",
    "| 5.  | Time differentiation | $\\displaystyle{\\frac{d}{dt}\\,f(t)}$ | $\\displaystyle{sF(s)-f(0^-)}$ |\n",
    "| 6.  | Frequency differentiation | $\\displaystyle{tf(t)}$ | $\\displaystyle{-\\frac{d}{ds}F(s)}$ |\n",
    "| 7.  | Time integration | $\\displaystyle{\\int_{-\\infty}^{t}f(\\tau)d\\tau}$ | $\\displaystyle{\\frac{F(s)}{s}+ \\frac{f(0^-)}{s}}$ |\n",
    "| 8.  | Frequency integration | $\\displaystyle{\\frac{f(t)}{t}}$ | $\\displaystyle{\\int_s^\\infty F(\\sigma)\\,d\\sigma}$ |\n",
    "| 9.  | Time Periodicity | $\\displaystyle{f(t + nT)}$ | $\\displaystyle{\\frac{\\int_0^T f(t)e^{-st}\\,dt}{1 - e^{-sT}}}$ |\n",
    "| 10. | Initial value theorem | $\\displaystyle{\\lim_{t\\rightarrow 0} f(t)}$ | $\\displaystyle{\\lim_{s\\rightarrow \\infty}sF(s) = f(0^-)}$ |\n",
    "| 11. | Final value theorem | $\\displaystyle{\\lim_{t\\rightarrow \\infty} f(t)}$ | $\\displaystyle{\\lim_{s\\rightarrow 0}sF(s) = f(\\infty)}$ |\n",
    "| 12. | Time convolution | $\\displaystyle{f_1(t)*f_2(t)}$ | $\\displaystyle{F_1(js) F_2(s)}$ |\n",
    "| 13. | Frequency convolution | $\\displaystyle{f_1(t)f_2(t)}$ | $\\displaystyle{\\frac{1}{j2\\pi}F_1(s)*F_2(s)}$ |\n",
    "\n",
    "See also: [Wikibooks: Engineering_Tables/Laplace_Transform_Properties](https://en.wikibooks.org/wiki/Engineering_Tables/Laplace_Transform_Properties) and [Laplace Transform&mdash;WolframMathworld](https://mathworld.wolfram.com/LaplaceTransform.html) for more complete references."
   ]
  },
  {
   "cell_type": "code",
   "execution_count": null,
   "id": "99b279a2",
   "metadata": {},
   "outputs": [],
   "source": []
  }
 ],
 "metadata": {
  "kernelspec": {
   "display_name": "Python 3 (ipykernel)",
   "language": "python",
   "name": "python3"
  },
  "language_info": {
   "codemirror_mode": {
    "name": "ipython",
    "version": 3
   },
   "file_extension": ".py",
   "mimetype": "text/x-python",
   "name": "python",
   "nbconvert_exporter": "python",
   "pygments_lexer": "ipython3",
   "version": "3.11.6"
  }
 },
 "nbformat": 4,
 "nbformat_minor": 5
}
