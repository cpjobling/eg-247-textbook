{
 "cells": [
  {
   "cell_type": "markdown",
   "id": "7916a252",
   "metadata": {},
   "source": [
    "(lxf_table)=\n",
    "# Common Laplace Transform Pairs\n",
    "\n",
    "## Transforms of Elementary Signals\n",
    "\n",
    "| &nbsp;  | $f(t)$                                         | $F(s)$                                              |\n",
    "|---------|------------------------------------------------|-----------------------------------------------------|\n",
    "| 1       | $\\displaystyle \\delta(t)$                      | $\\displaystyle 1$                                   |\n",
    "| 2       | $\\displaystyle \\delta(t-a)$                    | $\\displaystyle e^{-as}$                             |\n",
    "| 3       | $\\displaystyle u_0(t)$                         | $\\displaystyle \\frac{1}{s}$                         |\n",
    "| 4       | $\\displaystyle t u_0(t)$                       | $\\displaystyle \\frac{1}{s^2}$                       |\n",
    "| 5       | $\\displaystyle t^n u_0(t)$                     | $\\displaystyle \\frac{n!}{s^{n+1}}$                  |\n",
    "| 6       | $\\displaystyle e^{-at}u_0(t)$                  | $\\displaystyle \\frac{1}{s+a}$                       |\n",
    "| 7       | $\\displaystyle t^n e^{-at} u_0(t)$             | $\\displaystyle \\frac{n!}{(s+a)^{n+1}}$              |\n",
    "| 8       | $\\displaystyle \\sin (\\omega t) u_0(t)$         | $\\displaystyle \\frac{\\omega}{s^2 + \\omega^2}$       |\n",
    "| 9       | $\\displaystyle \\cos (\\omega t) u_0(t)$         | $\\displaystyle \\frac{s}{s^2 + \\omega^2}$            |\n",
    "| 10      | $\\displaystyle e^{-at} \\sin (\\omega t) u_0(t)$ | $\\displaystyle \\frac{\\omega}{(s + a)^2 + \\omega^2}$ |\n",
    "| 11      | $\\displaystyle e^{-at}\\cos (\\omega t) u_0(t)$  | $\\displaystyle \\frac{s+a}{(s+a)^2 + \\omega^2}$      |\n",
    "\n",
    "\n",
    "\n",
    "See also: [Wikibooks: Engineering_Tables/Laplace_Transform_Table](https://en.wikibooks.org/wiki/Engineering_Tables/Laplace_Transform_Table) and [Laplace Transform&mdash;WolframMathworld](https://mathworld.wolfram.com/LaplaceTransform.html) for more complete references."
   ]
  }
 ],
 "metadata": {
  "kernelspec": {
   "display_name": "Python 3 (ipykernel)",
   "language": "python",
   "name": "python3"
  },
  "language_info": {
   "codemirror_mode": {
    "name": "ipython",
    "version": 3
   },
   "file_extension": ".py",
   "mimetype": "text/x-python",
   "name": "python",
   "nbconvert_exporter": "python",
   "pygments_lexer": "ipython3",
   "version": "3.11.6"
  }
 },
 "nbformat": 4,
 "nbformat_minor": 5
}
