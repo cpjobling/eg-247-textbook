{
 "cells": [
  {
   "cell_type": "markdown",
   "id": "26a6f223",
   "metadata": {
    "slideshow": {
     "slide_type": "slide"
    }
   },
   "source": [
    "(tf_basics)=\n",
    "\n",
    "# Unit 2.2: Transfer Function Basics"
   ]
  },
  {
   "cell_type": "markdown",
   "id": "64edc838",
   "metadata": {
    "slideshow": {
     "slide_type": "subslide"
    }
   },
   "source": [
    "## Learning Outcomes\n",
    "\n",
    "In this unit, students will...\n",
    "\n",
    "- Derive transfer functions by hand.\n",
    "- Derive transfer functions using symbolic math.\n",
    "- Numerically evaluate and plot the impulse, step, and forced responses of a system.\n",
    "- Analytically derive the step and forced responses of a system.\n",
    "- Explain the physical significance of time responses."
   ]
  },
  {
   "cell_type": "markdown",
   "id": "ccaef1a5",
   "metadata": {
    "slideshow": {
     "slide_type": "subslide"
    }
   },
   "source": [
    "### Slido Poll \n",
    "\n",
    "[EG-247 Week 2: Lecture 3](https://app.sli.do/event/5evuttyBJtysomqzzQbMc9)"
   ]
  },
  {
   "cell_type": "markdown",
   "id": "eb5b11a9",
   "metadata": {
    "slideshow": {
     "slide_type": "notes"
    }
   },
   "source": [
    ":::{note}\n",
    "This unit is based on the MATLAB LiveScript `TransferFunctionBasics.mlx` from the curriculum module [Transfer Function Analysis of Dynamic Systems](https://github.com/MathWorks-Teaching-Resources/Transfer-Function-Analysis-of-Dynamic-Systems).\n",
    "\n",
    "Some of the examples rely on interactive features of MATLAB that are not readily reproduced in these notes. To make use of these facilities, you are advised to access the script directly from the project in MATLAB online.\n",
    "\n",
    "These materials © Copyright 2023 The MathWorks™, Inc. (See {ref}`mathworks_license`).\n",
    ":::"
   ]
  },
  {
   "cell_type": "code",
   "execution_count": 20,
   "id": "a3e4467c",
   "metadata": {
    "slideshow": {
     "slide_type": "subslide"
    }
   },
   "outputs": [],
   "source": [
    "%% Lecturer: set up the TransferFunctions project for in class execution of exercise tests and activities.\n",
    "\n",
    "% Setup MATLAB to use the TransferFunctionBasics.mlx LiveScript in class.\n",
    "% I am assuming that this is on the MATLAB Drive\n",
    "\n",
    "format compact; \n",
    "setappdata(0, \"MKernel_plot_format\", 'svg')\n",
    "% Change this to local set up where this Jupyter book is run\n",
    "cd '/Users/eechris/MATLAB-Drive/Repositories/Transfer-Function-Analysis-of-Dynamic-Systems'\n",
    "open('TransferFunctions.prj')"
   ]
  },
  {
   "cell_type": "markdown",
   "id": "060dbf2c",
   "metadata": {
    "slideshow": {
     "slide_type": "slide"
    }
   },
   "source": [
    "## Electric vehicles: the wave of the future?\n",
    "\n",
    "![Essential components of an electric vehicle](images/car1.png)\n",
    "\n",
    "Essential components of an electric vehicle"
   ]
  },
  {
   "cell_type": "markdown",
   "id": "fb9d1d03",
   "metadata": {
    "slideshow": {
     "slide_type": "subslide"
    }
   },
   "source": [
    "Electric vehicles (EV) may well be the future of environmentally sustainable travel. But what makes it possible for an EV to be more efficient than a gas vehicle while still providing enough power to accelerate to and maintain high speeds? The answer lies in efficient power electronics. In this unit, you will learn about transfer functions and use them to analyze the dynamics of several essential components of an electric vehicle."
   ]
  },
  {
   "cell_type": "markdown",
   "id": "8cb0d0bf",
   "metadata": {
    "slideshow": {
     "slide_type": "subslide"
    }
   },
   "source": [
    "### Slido poll\n",
    "\n",
    "What is a transfer function?"
   ]
  },
  {
   "cell_type": "markdown",
   "id": "4e090a9c",
   "metadata": {
    "slideshow": {
     "slide_type": "slide"
    }
   },
   "source": [
    "## Transfer Function Definition\n",
    "\n",
    "Consider a dynamic system with a single input function and a single output function:\n",
    "\n",
    "![A dynamic system represented as a block diagram in the time domain](images/bdt.png)\n",
    "\n",
    "This is known as a **SISO** (Single Input Single Output) system. In general, the system $g$ is defined through a differential equation: $g(u, x, \\dot{x}, \\ddot{x},\\ldots) = 0$."
   ]
  },
  {
   "cell_type": "markdown",
   "id": "1bd677ce",
   "metadata": {
    "slideshow": {
     "slide_type": "subslide"
    }
   },
   "source": [
    "The **transfer function** is defined as\n",
    "\n",
    "$$G(s) = \\frac{Y(s)}{U(s)},$$\n",
    "\n",
    "the ratio of the Laplace transform of the output $Y(s) = \\mathcal{L}\\{y(t)\\}$ to the Laplace transform of the input $U(s) = \\mathcal{L}\\{u(t)\\}$. The transfer function $G(s)$ maps inputs $U$ to outputs $Y$:\n",
    "\n",
    "![A dynamic system represented as a block diagram in the complex frequency domain](images/bds.png)"
   ]
  },
  {
   "cell_type": "markdown",
   "id": "8c6bddce",
   "metadata": {
    "slideshow": {
     "slide_type": "notes"
    }
   },
   "source": [
    ":::{tip} If you need to brush up on Laplace transforms, review them in: {ref}`tf_concepts`.\n",
    ":::"
   ]
  },
  {
   "cell_type": "markdown",
   "id": "9a0b60f8",
   "metadata": {
    "slideshow": {
     "slide_type": "slide"
    }
   },
   "source": [
    "### Example 1\n",
    "\n",
    "![example](images/write.png)\n",
    "\n",
    "Find the transfer function of a mass-spring-damper that is dynamically forced by an arbitrary function $u(t)$. Assume that the system is initially at rest ($x(0)=0$ and $\\dot{x}(0) = 0$).\n",
    "\n",
    "![Mass-spring-damper diagram](images/smd.png)\n",
    "Mass-spring-damper diagram"
   ]
  },
  {
   "cell_type": "markdown",
   "id": "227d697a",
   "metadata": {
    "slideshow": {
     "slide_type": "subslide"
    }
   },
   "source": [
    "### Solution to Example 1\n",
    "\n",
    "The equation of motion for a mass-spring-damper is\n",
    "\n",
    "$$m \\ddot{x} + c \\dot{x} + k x = u$$"
   ]
  },
  {
   "cell_type": "markdown",
   "id": "e7df6f5e",
   "metadata": {
    "slideshow": {
     "slide_type": "subslide"
    }
   },
   "source": [
    "Using the properties of the Laplace transform for derivatives, the Laplace transform is\n",
    "\n",
    "$$m[s^2 X - sx(0) - \\dot{x}(0)] + c [s X - x(0)] + kX = U$$"
   ]
  },
  {
   "cell_type": "markdown",
   "id": "57444883",
   "metadata": {
    "slideshow": {
     "slide_type": "subslide"
    }
   },
   "source": [
    "Applying $x(0) = 0$ and $\\dot{x}(0) = 0$:\n",
    "\n",
    "$$ms^2 X  + c s X  + kX = U$$"
   ]
  },
  {
   "cell_type": "markdown",
   "id": "d2b29429",
   "metadata": {
    "slideshow": {
     "slide_type": "subslide"
    }
   },
   "source": [
    "Solving for the ratio of the input to the output yields the transfer function:\n",
    "\n",
    "$$G(s) = \\frac{X(s)}{U(s)} = \\frac{1}{m s^2 + cs + k}$$"
   ]
  },
  {
   "cell_type": "markdown",
   "id": "f3704086",
   "metadata": {
    "slideshow": {
     "slide_type": "subslide"
    }
   },
   "source": [
    "### Exercise 1\n",
    "\n",
    "![example](images/write.png)\n",
    "\n",
    "Find the transfer function of a simple pendulum with zero initial conditions using the linearized equations of motion. Consider that the pendulum is being driven by an arbitrary forcing function $u(t)$ (note that any angle dependence of the forcing would be baked into $u(t)$. The equations of motion are:\n",
    "\n",
    "$$\\ddot{\\theta} + \\frac{g}{l} \\theta = u$$\n",
    "\n",
    "where $g$ is acceleration due to gravity and $l$ is the length of the pendulum.\n",
    "\n",
    "Record your answer below in variable `pendulumTF` in terms of the symbolic variables `g`, `l`, and `s`."
   ]
  },
  {
   "cell_type": "markdown",
   "id": "62f87bdc",
   "metadata": {
    "slideshow": {
     "slide_type": "subslide"
    }
   },
   "source": [
    "#### Solution to Exercise 1\n",
    "\n",
    "$$\n",
    "\\mathcal{L}\\left\\{\\ddot{\\theta} + \\frac{g}{l} \\theta = u\\right\\} = \\left(s^2\\Theta(s) - sf(0) - f'(0)\\right) + \\frac{g}{l}\\Theta(s) = U(s)\n",
    "$$"
   ]
  },
  {
   "cell_type": "markdown",
   "id": "d4d97bac",
   "metadata": {
    "slideshow": {
     "slide_type": "subslide"
    }
   },
   "source": [
    "Assuming zero initial conditions, $f(0) = f'(0) = 0$, then\n",
    "\n",
    "$$\n",
    "\\begin{align}\n",
    "s^2\\Theta(s) + \\frac{g}{l}\\Theta(s) &= U(s) \\\\\n",
    "\\left(s^2 + \\frac{g}{l}\\right)\\Theta(s) &= U(s)\n",
    "\\end{align}\n",
    "$$"
   ]
  },
  {
   "cell_type": "markdown",
   "id": "ec8ed3fb",
   "metadata": {
    "slideshow": {
     "slide_type": "subslide"
    }
   },
   "source": [
    "From this the transfer function $G(s)$ is\n",
    "\n",
    "$$\n",
    "\\begin{align}\n",
    "G(s) &= \\frac{\\Theta(s)}{U(s)}\\\\\n",
    "&= \\frac{1}{s^2 + \\left(g/l\\right)}\n",
    "\\end{align}\n",
    "$$"
   ]
  },
  {
   "cell_type": "markdown",
   "id": "d7e8d2f2",
   "metadata": {
    "slideshow": {
     "slide_type": "fragment"
    }
   },
   "source": [
    "We can now enter this result into the code below."
   ]
  },
  {
   "cell_type": "code",
   "execution_count": 21,
   "id": "c6680ef6",
   "metadata": {
    "slideshow": {
     "slide_type": "-"
    }
   },
   "outputs": [],
   "source": [
    "syms g l s\n",
    "% Record your answer in pendulumTF\n",
    "pendulumTF = 1/(s^2 + g/l);"
   ]
  },
  {
   "cell_type": "markdown",
   "id": "5caa66cb",
   "metadata": {
    "slideshow": {
     "slide_type": "slide"
    }
   },
   "source": [
    "## Electric vehicle dynamic system\n",
    "\n",
    "In this module, you'll investigate the dynamics of components of an electric vehicle's electrical and mechanical systems (EV) using transfer functions. The major components of the EV system are represented in the diagram below."
   ]
  },
  {
   "cell_type": "markdown",
   "id": "764f8019",
   "metadata": {
    "slideshow": {
     "slide_type": "subslide"
    }
   },
   "source": [
    "![Simplified EV power system](images/ev_power_system.png)\n",
    "Simplified EV power system"
   ]
  },
  {
   "cell_type": "markdown",
   "id": "fa0b983e",
   "metadata": {
    "slideshow": {
     "slide_type": "notes"
    }
   },
   "source": [
    "There are two domains represented in this diagram: the electrical and physical domains. The DC motor couples the domains by converting electrical energy to mechanical. Inside the electrical domain, there are two essential conversions.\n",
    "\n",
    "- The AC power source (120/240V) is converted to a high voltage DC source (200-800V) used to charge the battery pack.\n",
    "- The battery's high voltage DC (200-800V) is converted to a low voltage (12V or 48V) by a buck converter for use by low voltage systems.\n",
    "\n",
    "In this unit, you will investigate several paradigmatic components present (or like those present) in EVs."
   ]
  },
  {
   "cell_type": "markdown",
   "id": "cff9b43d",
   "metadata": {
    "slideshow": {
     "slide_type": "slide"
    }
   },
   "source": [
    "## Transfer function representation of simple vehicle motion\n",
    "\n",
    "The most intuitive part of the electric vehicle system is the motion of the vehicle itself.\n",
    "\n",
    "![A focus on modeling the motion of the vehicle](images/car_motion.png)\n",
    "In this unit, we'll focus on modeling the motion of the vehicle."
   ]
  },
  {
   "cell_type": "markdown",
   "id": "509b1933",
   "metadata": {
    "slideshow": {
     "slide_type": "subslide"
    }
   },
   "source": [
    "In a straightforward model, an EV (and indeed, any vehicle) can be modeled as a simple mass with two forces acting on it: a traction force and a frictional force. The traction force results from the motor applying torque to the wheels.\n",
    "\n",
    "![A simple vehicle model](images/vehicle_model.png)\n",
    "A simple vehicle model"
   ]
  },
  {
   "cell_type": "markdown",
   "id": "c3a72daa",
   "metadata": {
    "slideshow": {
     "slide_type": "subslide"
    }
   },
   "source": [
    "### Example 2\n",
    "\n",
    "(a) Derive the equation of motion for the simple vehicle model and (b) compute the transfer function of the displacement $x(t)$ using the traction force as the input function $u(t)$."
   ]
  },
  {
   "cell_type": "markdown",
   "id": "44ea13e8",
   "metadata": {
    "slideshow": {
     "slide_type": "subslide"
    }
   },
   "source": [
    "### Solution to Example 2"
   ]
  },
  {
   "cell_type": "markdown",
   "id": "a101eb6b",
   "metadata": {
    "slideshow": {
     "slide_type": "subslide"
    }
   },
   "source": [
    "#### Example 2(a) Differential equation\n",
    "\n",
    "The displacement of the vehicle is $x(t)$. For simplicity, the frictional force is assumed to be proportional to the velocity $\\dot{x}(t)$ with a constant of proportionality $k$:\n",
    "\n",
    "$$F_\\mathrm{friction} = k \\dot{x}$$"
   ]
  },
  {
   "cell_type": "markdown",
   "id": "7aadb231",
   "metadata": {
    "slideshow": {
     "slide_type": "subslide"
    }
   },
   "source": [
    "The traction force varies depending on the output of the motor (among other considerations), so it is treated as an arbitrary function:\n",
    "\n",
    "$$F_\\mathrm{traction} = u(t)$$"
   ]
  },
  {
   "cell_type": "markdown",
   "id": "915e3ad4",
   "metadata": {
    "slideshow": {
     "slide_type": "subslide"
    }
   },
   "source": [
    "With these two forces, Newton's second law implies:\n",
    "\n",
    "$$m\\ddot{x} = -k\\dot{x}  + u(t)$$"
   ]
  },
  {
   "cell_type": "markdown",
   "id": "35624437",
   "metadata": {
    "slideshow": {
     "slide_type": "subslide"
    }
   },
   "source": [
    "#### Example 2(b) Transfer function\n",
    "\n",
    "Computing the Laplace transform of the equation of motion yields\n",
    "\n",
    "$$m[s^2 X - sx(0) - x'(0)] = - k [s X - x(0)] + U$$"
   ]
  },
  {
   "cell_type": "markdown",
   "id": "493deb6f",
   "metadata": {
    "slideshow": {
     "slide_type": "subslide"
    }
   },
   "source": [
    "Applying the zero initial conditions and solving for $X/U$ yields\n",
    "\n",
    "$$G(s) = \\frac{X(s)}{U(s)} = \\frac{1}{ms^2 + ks}$$"
   ]
  },
  {
   "cell_type": "markdown",
   "id": "7cb2467d",
   "metadata": {
    "slideshow": {
     "slide_type": "notes"
    }
   },
   "source": [
    ":::{note} There are many simplifications present in this vehicle model (especially in the way the frictional forces are modeled). The model is intended to help illustrate the essential concepts of transfer functions, rather than accurately account for the forces present in the true mechanical system.\n",
    ":::"
   ]
  },
  {
   "cell_type": "markdown",
   "id": "9cda912d",
   "metadata": {
    "slideshow": {
     "slide_type": "subslide"
    }
   },
   "source": [
    "### Exercise 2\n",
    "\n",
    "It may be the case that you want to analyze the velocity $v(t)=\\dot{x}(t)$ rather than the position $x$. Rewrite the equation of motion\n",
    "\n",
    "$$m\\ddot{x} = -k\\dot{x} + f(t)$$\n",
    "\n",
    "in terms of the velocity, $v(t)=\\dot{x}(t)$, and then solve for the transfer function of $v$: $H(s) = V(s)/F(s)$. Record your answer below in `Vtf` in terms of the symbolic variables `s`, `m`, and `k`."
   ]
  },
  {
   "cell_type": "markdown",
   "id": "34f1f6bd",
   "metadata": {
    "slideshow": {
     "slide_type": "subslide"
    }
   },
   "source": [
    "#### Solution to Exercise 2\n",
    "\n",
    "Let $v = \\dot{x}$ then\n",
    "\n",
    "$$m\\ddot{x} = -k\\dot{x} + f(t) \\rightarrow m\\dot{v} = -kv + f(t)$$\n",
    "\n",
    "So\n",
    "\n",
    "$$m\\dot{v} + kv = f(t)$$"
   ]
  },
  {
   "cell_type": "markdown",
   "id": "9702aaaf",
   "metadata": {
    "slideshow": {
     "slide_type": "subslide"
    }
   },
   "source": [
    "Taking Laplace transform and ignoring initial conditions\n",
    "\n",
    "$$\n",
    "\\begin{align}\n",
    "msV(s) + kV(s) &= F(s) \\\\\n",
    "\\left(ms + k\\right)V(s) &= F(s)\n",
    "\\end{align}\n",
    "$$"
   ]
  },
  {
   "cell_type": "markdown",
   "id": "533446cb",
   "metadata": {
    "slideshow": {
     "slide_type": "subslide"
    }
   },
   "source": [
    "Then the transfer function is\n",
    "\n",
    "$$G(s) = \\frac{V(s)}{F(s)} = \\frac{1}{ms + k}$$"
   ]
  },
  {
   "cell_type": "markdown",
   "id": "3dfd6d72",
   "metadata": {
    "slideshow": {
     "slide_type": "fragment"
    }
   },
   "source": [
    "##### Poll Exercise 2"
   ]
  },
  {
   "cell_type": "markdown",
   "id": "6515aee4",
   "metadata": {},
   "source": [
    "Write a MATLAB symbolic expression `Vtf` for this transfer function in terms of the symbolic variables `s`, `m`, and `k`"
   ]
  },
  {
   "cell_type": "code",
   "execution_count": 22,
   "id": "8e7fbf58",
   "metadata": {
    "slideshow": {
     "slide_type": "-"
    }
   },
   "outputs": [],
   "source": [
    "syms m s k % Symbolic variable declarations\n",
    "% Record the symbolic transfer function here\n",
    "Vtf = 1/(m*s+ k);"
   ]
  },
  {
   "cell_type": "markdown",
   "id": "f0e7eee1",
   "metadata": {
    "slideshow": {
     "slide_type": "slide"
    }
   },
   "source": [
    "## Impulse response\n",
    "\n",
    "The impulse response of a system is the output generated from an impulse input. This is also commonly referred to as the natural response.\n",
    "\n",
    "![Response of a system to an impulse](images/impulse_response.png)\n",
    "Response of a system to an impulse. While the response may be computed in the $s$-domain, it is shown in the time domain."
   ]
  },
  {
   "cell_type": "markdown",
   "id": "926d3e83",
   "metadata": {
    "slideshow": {
     "slide_type": "notes"
    }
   },
   "source": [
    "Here $\\delta(t)$ is the Dirac delta function which has the properties:\n",
    "\n",
    "$\\int_{-\\infty}^{\\infty} \\delta(t) dt = 1 $ and $\\delta(t) = 0 \\text{ for } t \\neq 0$\n",
    "\n",
    "Think of the unit impulse as giving the system a (very) quick shove at time $t = 0$. The impulse response shows how the system will respond to that shove."
   ]
  },
  {
   "cell_type": "markdown",
   "id": "9355a2cc",
   "metadata": {
    "slideshow": {
     "slide_type": "subslide"
    }
   },
   "source": [
    "### Reflect\n",
    "\n",
    "![reflect](images/reflect.png)\n",
    "\n",
    "Consider the simple vehicle motion model. The input function is the traction force $u(t) = F_\\mathrm{traction}(t)$. An impulse input corresponds to an instantaneous force at time $t = 0$.\n",
    "\n",
    "![A model of a simple vehicle](images/vehicle_model.png)\n",
    "\n",
    "- Try drawing a plot of the impulse response of the position transfer function $X(s)/F(s)$ in the time domain.\n",
    "- Try drawing a plot of the impulse response of the velocity transfer function $V(s)/F(s)$ in the time domain."
   ]
  },
  {
   "cell_type": "markdown",
   "id": "adbb9304",
   "metadata": {
    "slideshow": {
     "slide_type": "subslide"
    }
   },
   "source": [
    "### Example 3\n",
    "\n",
    "Plot the impulse response of a mass-spring-damper with zero initial conditions and parameters $m=1$, $c=0.1$, and $k=0.5$.\n",
    "\n",
    "![Mass-spring-damper diagram](images/smd.png)\n",
    "Mass-spring-damper diagram"
   ]
  },
  {
   "cell_type": "markdown",
   "id": "20559ee4",
   "metadata": {
    "slideshow": {
     "slide_type": "subslide"
    }
   },
   "source": [
    "Recall the transfer function of the mass-spring-damper:\n",
    "\n",
    "$$G(s) = \\frac{X(s)}{U(s)} = \\frac{1}{m s^2 + cs + k}$$"
   ]
  },
  {
   "cell_type": "markdown",
   "id": "d58809ac",
   "metadata": {
    "slideshow": {
     "slide_type": "subslide"
    }
   },
   "source": [
    "### Solution to Example 3\n",
    "\n",
    "You can compute the impulse response in MATLAB by defining a transfer function using [`tf`](https://www.mathworks.com/help/control/ref/tf.html) and then evaluating its response using the [`impulse`](https://www.mathworks.com/help/control/ref/lti.impulse.html) function."
   ]
  },
  {
   "cell_type": "markdown",
   "id": "e4cd7ac7",
   "metadata": {
    "slideshow": {
     "slide_type": "notes"
    }
   },
   "source": [
    "The `tf` function has the syntax\n",
    "\n",
    "```matlab\n",
    "tf(num,denom)\n",
    "```\n",
    "\n",
    "where `num` represents the coefficients of the numerator and denom represents those of the denominator in descending order. Note that a transfer function created using the `tf` function is not a symbolic function and cannot be manipulated with the Symbolic Math Toolbox."
   ]
  },
  {
   "cell_type": "markdown",
   "id": "792067a0",
   "metadata": {
    "slideshow": {
     "slide_type": "subslide"
    }
   },
   "source": [
    "The numerator and denominator of $G$ are defined below[^refer_to_livescript]."
   ]
  },
  {
   "cell_type": "code",
   "execution_count": 23,
   "id": "36e58e1a",
   "metadata": {
    "slideshow": {
     "slide_type": "subslide"
    }
   },
   "outputs": [],
   "source": [
    "m = 1;\n",
    "c = 0.1;\n",
    "k = 0.4;\n",
    "num = [0 0 1];\n",
    "denom = [m c k];"
   ]
  },
  {
   "cell_type": "markdown",
   "id": "dc134823",
   "metadata": {
    "slideshow": {
     "slide_type": "subslide"
    }
   },
   "source": [
    "Call` tf` to build the transfer function."
   ]
  },
  {
   "cell_type": "code",
   "execution_count": 24,
   "id": "b5b243f1",
   "metadata": {
    "slideshow": {
     "slide_type": "subslide"
    }
   },
   "outputs": [
    {
     "name": "stdout",
     "output_type": "stream",
     "text": [
      "\n",
      "G =\n",
      " \n",
      "          1\n",
      "  -----------------\n",
      "  s^2 + 0.1 s + 0.4\n",
      " \n",
      "Continuous-time transfer function.\n"
     ]
    }
   ],
   "source": [
    "G = tf(num,denom)"
   ]
  },
  {
   "cell_type": "markdown",
   "id": "ac6b23aa",
   "metadata": {
    "slideshow": {
     "slide_type": "subslide"
    }
   },
   "source": [
    "To plot the impulse response, call the impulse function with the syntax:\n",
    "\n",
    "```matlab\n",
    "impulse(H,tFinal)\n",
    "```\n",
    "\n",
    "where `H` is the transfer function and `tFinal` is the duration of the simulation."
   ]
  },
  {
   "cell_type": "code",
   "execution_count": 25,
   "id": "74afcb51",
   "metadata": {
    "slideshow": {
     "slide_type": "subslide"
    }
   },
   "outputs": [
    {
     "data": {
      "image/svg+xml": [
       "<?xml version=\"1.0\" encoding=\"UTF-8\" standalone=\"no\"?>\n",
       "<svg width=\"294.217mm\" height=\"177.094mm\"\n",
       " viewBox=\"0 0 834 502\"\n",
       " xmlns=\"http://www.w3.org/2000/svg\" xmlns:xlink=\"http://www.w3.org/1999/xlink\"  version=\"1.2\" baseProfile=\"tiny\">\n",
       "<title>Qt SVG Document</title>\n",
       "<desc>MATLAB, The MathWorks, Inc. Version 25.1.0.2833191 R2025a Prerelease Update 2</desc>\n",
       "<defs>\n",
       "</defs>\n",
       "<g fill=\"none\" stroke=\"black\" stroke-width=\"1\" fill-rule=\"evenodd\" stroke-linecap=\"square\" stroke-linejoin=\"bevel\" >\n",
       "\n",
       "<g fill=\"#ffffff\" fill-opacity=\"1\" stroke=\"none\" transform=\"matrix(0.49985,0,0,0.499751,0,0)\"\n",
       "font-family=\".AppleSystemUIFont\" font-size=\"13\" font-weight=\"400\" font-style=\"normal\" \n",
       ">\n",
       "<path vector-effect=\"none\" fill-rule=\"evenodd\" d=\"M0,0 L1668,0 L1668,1005 L0,1005 L0,0\"/>\n",
       "</g>\n",
       "\n",
       "<g fill=\"#212121\" fill-opacity=\"1\" stroke=\"#212121\" stroke-opacity=\"1\" stroke-width=\"1\" stroke-linecap=\"square\" stroke-linejoin=\"bevel\" transform=\"matrix(0.49985,0,0,0.499751,378.319,17.991)\"\n",
       "font-family=\"Helvetica\" font-size=\"22\" font-weight=\"700\" font-style=\"normal\" \n",
       ">\n",
       "<text fill=\"#212121\" fill-opacity=\"1\" stroke=\"none\" xml:space=\"preserve\" x=\"0\" y=\"-0.0625\" font-family=\"Helvetica\" font-size=\"22\" font-weight=\"700\" font-style=\"normal\" \n",
       " >Impulse Response</text>\n",
       "</g>\n",
       "\n",
       "<g fill=\"#212121\" fill-opacity=\"1\" stroke=\"#212121\" stroke-opacity=\"1\" stroke-width=\"1\" stroke-linecap=\"square\" stroke-linejoin=\"bevel\" transform=\"matrix(0.49985,0,0,0.499751,389.066,474.099)\"\n",
       "font-family=\"Helvetica\" font-size=\"22\" font-weight=\"400\" font-style=\"normal\" \n",
       ">\n",
       "<text fill=\"#212121\" fill-opacity=\"1\" stroke=\"none\" xml:space=\"preserve\" x=\"0\" y=\"-0.0625\" font-family=\"Helvetica\" font-size=\"22\" font-weight=\"400\" font-style=\"normal\" \n",
       " >Time (seconds)</text>\n",
       "</g>\n",
       "\n",
       "<g fill=\"#212121\" fill-opacity=\"1\" stroke=\"#212121\" stroke-opacity=\"1\" stroke-width=\"1\" stroke-linecap=\"square\" stroke-linejoin=\"bevel\" transform=\"matrix(0,-0.499751,0.49985,0,57.2328,257.164)\"\n",
       "font-family=\"Helvetica\" font-size=\"22\" font-weight=\"400\" font-style=\"normal\" \n",
       ">\n",
       "<text fill=\"#212121\" fill-opacity=\"1\" stroke=\"none\" xml:space=\"preserve\" x=\"0\" y=\"-0.0625\" font-family=\"Helvetica\" font-size=\"22\" font-weight=\"400\" font-style=\"normal\" \n",
       " >x [m]</text>\n",
       "</g>\n",
       "\n",
       "<g fill=\"#ffffff\" fill-opacity=\"1\" stroke=\"none\" transform=\"matrix(4.9985e-05,0,0,4.99751e-05,0,0)\"\n",
       "font-family=\"Helvetica\" font-size=\"22\" font-weight=\"400\" font-style=\"normal\" \n",
       ">\n",
       "<path vector-effect=\"none\" fill-rule=\"evenodd\" d=\"M2e+06,880000 L2e+06,8.93e+06 L1.508e+07,8.93e+06 L1.508e+07,880000 L2e+06,880000\"/>\n",
       "</g>\n",
       "\n",
       "<g fill=\"#616161\" fill-opacity=\"1\" stroke=\"#616161\" stroke-opacity=\"1\" stroke-width=\"1\" stroke-linecap=\"square\" stroke-linejoin=\"round\" transform=\"matrix(0.49985,0,0,0.499751,0,0)\"\n",
       "font-family=\"Helvetica\" font-size=\"22\" font-weight=\"400\" font-style=\"normal\" \n",
       ">\n",
       "<polyline fill=\"none\" vector-effect=\"none\" points=\"200,893 1508,893 \" />\n",
       "<polyline fill=\"none\" vector-effect=\"none\" points=\"200,88 1508,88 \" />\n",
       "<polyline fill=\"none\" vector-effect=\"none\" points=\"200,893 200,879.92 \" />\n",
       "<polyline fill=\"none\" vector-effect=\"none\" points=\"330.8,893 330.8,879.92 \" />\n",
       "<polyline fill=\"none\" vector-effect=\"none\" points=\"461.6,893 461.6,879.92 \" />\n",
       "<polyline fill=\"none\" vector-effect=\"none\" points=\"592.4,893 592.4,879.92 \" />\n",
       "<polyline fill=\"none\" vector-effect=\"none\" points=\"723.2,893 723.2,879.92 \" />\n",
       "<polyline fill=\"none\" vector-effect=\"none\" points=\"854,893 854,879.92 \" />\n",
       "<polyline fill=\"none\" vector-effect=\"none\" points=\"984.8,893 984.8,879.92 \" />\n",
       "<polyline fill=\"none\" vector-effect=\"none\" points=\"1115.6,893 1115.6,879.92 \" />\n",
       "<polyline fill=\"none\" vector-effect=\"none\" points=\"1246.4,893 1246.4,879.92 \" />\n",
       "<polyline fill=\"none\" vector-effect=\"none\" points=\"1377.2,893 1377.2,879.92 \" />\n",
       "<polyline fill=\"none\" vector-effect=\"none\" points=\"1508,893 1508,879.92 \" />\n",
       "<polyline fill=\"none\" vector-effect=\"none\" points=\"200,88 200,101.08 \" />\n",
       "<polyline fill=\"none\" vector-effect=\"none\" points=\"330.8,88 330.8,101.08 \" />\n",
       "<polyline fill=\"none\" vector-effect=\"none\" points=\"461.6,88 461.6,101.08 \" />\n",
       "<polyline fill=\"none\" vector-effect=\"none\" points=\"592.4,88 592.4,101.08 \" />\n",
       "<polyline fill=\"none\" vector-effect=\"none\" points=\"723.2,88 723.2,101.08 \" />\n",
       "<polyline fill=\"none\" vector-effect=\"none\" points=\"854,88 854,101.08 \" />\n",
       "<polyline fill=\"none\" vector-effect=\"none\" points=\"984.8,88 984.8,101.08 \" />\n",
       "<polyline fill=\"none\" vector-effect=\"none\" points=\"1115.6,88 1115.6,101.08 \" />\n",
       "<polyline fill=\"none\" vector-effect=\"none\" points=\"1246.4,88 1246.4,101.08 \" />\n",
       "<polyline fill=\"none\" vector-effect=\"none\" points=\"1377.2,88 1377.2,101.08 \" />\n",
       "<polyline fill=\"none\" vector-effect=\"none\" points=\"1508,88 1508,101.08 \" />\n",
       "</g>\n",
       "\n",
       "<g fill=\"#616161\" fill-opacity=\"1\" stroke=\"#616161\" stroke-opacity=\"1\" stroke-width=\"1\" stroke-linecap=\"square\" stroke-linejoin=\"bevel\" transform=\"matrix(0.49985,0,0,0.499751,97.2208,457.772)\"\n",
       "font-family=\"Helvetica\" font-size=\"20\" font-weight=\"400\" font-style=\"normal\" \n",
       ">\n",
       "<text fill=\"#616161\" fill-opacity=\"1\" stroke=\"none\" xml:space=\"preserve\" x=\"0\" y=\"0.390625\" font-family=\"Helvetica\" font-size=\"20\" font-weight=\"400\" font-style=\"normal\" \n",
       " >0</text>\n",
       "</g>\n",
       "\n",
       "<g fill=\"#616161\" fill-opacity=\"1\" stroke=\"#616161\" stroke-opacity=\"1\" stroke-width=\"1\" stroke-linecap=\"square\" stroke-linejoin=\"bevel\" transform=\"matrix(0.49985,0,0,0.499751,159.852,457.772)\"\n",
       "font-family=\"Helvetica\" font-size=\"20\" font-weight=\"400\" font-style=\"normal\" \n",
       ">\n",
       "<text fill=\"#616161\" fill-opacity=\"1\" stroke=\"none\" xml:space=\"preserve\" x=\"0\" y=\"0.390625\" font-family=\"Helvetica\" font-size=\"20\" font-weight=\"400\" font-style=\"normal\" \n",
       " >10</text>\n",
       "</g>\n",
       "\n",
       "<g fill=\"#616161\" fill-opacity=\"1\" stroke=\"#616161\" stroke-opacity=\"1\" stroke-width=\"1\" stroke-linecap=\"square\" stroke-linejoin=\"bevel\" transform=\"matrix(0.49985,0,0,0.499751,225.232,457.772)\"\n",
       "font-family=\"Helvetica\" font-size=\"20\" font-weight=\"400\" font-style=\"normal\" \n",
       ">\n",
       "<text fill=\"#616161\" fill-opacity=\"1\" stroke=\"none\" xml:space=\"preserve\" x=\"0\" y=\"0.390625\" font-family=\"Helvetica\" font-size=\"20\" font-weight=\"400\" font-style=\"normal\" \n",
       " >20</text>\n",
       "</g>\n",
       "\n",
       "<g fill=\"#616161\" fill-opacity=\"1\" stroke=\"#616161\" stroke-opacity=\"1\" stroke-width=\"1\" stroke-linecap=\"square\" stroke-linejoin=\"bevel\" transform=\"matrix(0.49985,0,0,0.499751,290.613,457.772)\"\n",
       "font-family=\"Helvetica\" font-size=\"20\" font-weight=\"400\" font-style=\"normal\" \n",
       ">\n",
       "<text fill=\"#616161\" fill-opacity=\"1\" stroke=\"none\" xml:space=\"preserve\" x=\"0\" y=\"0.390625\" font-family=\"Helvetica\" font-size=\"20\" font-weight=\"400\" font-style=\"normal\" \n",
       " >30</text>\n",
       "</g>\n",
       "\n",
       "<g fill=\"#616161\" fill-opacity=\"1\" stroke=\"#616161\" stroke-opacity=\"1\" stroke-width=\"1\" stroke-linecap=\"square\" stroke-linejoin=\"bevel\" transform=\"matrix(0.49985,0,0,0.499751,355.993,457.772)\"\n",
       "font-family=\"Helvetica\" font-size=\"20\" font-weight=\"400\" font-style=\"normal\" \n",
       ">\n",
       "<text fill=\"#616161\" fill-opacity=\"1\" stroke=\"none\" xml:space=\"preserve\" x=\"0\" y=\"0.390625\" font-family=\"Helvetica\" font-size=\"20\" font-weight=\"400\" font-style=\"normal\" \n",
       " >40</text>\n",
       "</g>\n",
       "\n",
       "<g fill=\"#616161\" fill-opacity=\"1\" stroke=\"#616161\" stroke-opacity=\"1\" stroke-width=\"1\" stroke-linecap=\"square\" stroke-linejoin=\"bevel\" transform=\"matrix(0.49985,0,0,0.499751,421.374,457.772)\"\n",
       "font-family=\"Helvetica\" font-size=\"20\" font-weight=\"400\" font-style=\"normal\" \n",
       ">\n",
       "<text fill=\"#616161\" fill-opacity=\"1\" stroke=\"none\" xml:space=\"preserve\" x=\"0\" y=\"0.390625\" font-family=\"Helvetica\" font-size=\"20\" font-weight=\"400\" font-style=\"normal\" \n",
       " >50</text>\n",
       "</g>\n",
       "\n",
       "<g fill=\"#616161\" fill-opacity=\"1\" stroke=\"#616161\" stroke-opacity=\"1\" stroke-width=\"1\" stroke-linecap=\"square\" stroke-linejoin=\"bevel\" transform=\"matrix(0.49985,0,0,0.499751,486.754,457.772)\"\n",
       "font-family=\"Helvetica\" font-size=\"20\" font-weight=\"400\" font-style=\"normal\" \n",
       ">\n",
       "<text fill=\"#616161\" fill-opacity=\"1\" stroke=\"none\" xml:space=\"preserve\" x=\"0\" y=\"0.390625\" font-family=\"Helvetica\" font-size=\"20\" font-weight=\"400\" font-style=\"normal\" \n",
       " >60</text>\n",
       "</g>\n",
       "\n",
       "<g fill=\"#616161\" fill-opacity=\"1\" stroke=\"#616161\" stroke-opacity=\"1\" stroke-width=\"1\" stroke-linecap=\"square\" stroke-linejoin=\"bevel\" transform=\"matrix(0.49985,0,0,0.499751,552.134,457.772)\"\n",
       "font-family=\"Helvetica\" font-size=\"20\" font-weight=\"400\" font-style=\"normal\" \n",
       ">\n",
       "<text fill=\"#616161\" fill-opacity=\"1\" stroke=\"none\" xml:space=\"preserve\" x=\"0\" y=\"0.390625\" font-family=\"Helvetica\" font-size=\"20\" font-weight=\"400\" font-style=\"normal\" \n",
       " >70</text>\n",
       "</g>\n",
       "\n",
       "<g fill=\"#616161\" fill-opacity=\"1\" stroke=\"#616161\" stroke-opacity=\"1\" stroke-width=\"1\" stroke-linecap=\"square\" stroke-linejoin=\"bevel\" transform=\"matrix(0.49985,0,0,0.499751,617.515,457.772)\"\n",
       "font-family=\"Helvetica\" font-size=\"20\" font-weight=\"400\" font-style=\"normal\" \n",
       ">\n",
       "<text fill=\"#616161\" fill-opacity=\"1\" stroke=\"none\" xml:space=\"preserve\" x=\"0\" y=\"0.390625\" font-family=\"Helvetica\" font-size=\"20\" font-weight=\"400\" font-style=\"normal\" \n",
       " >80</text>\n",
       "</g>\n",
       "\n",
       "<g fill=\"#616161\" fill-opacity=\"1\" stroke=\"#616161\" stroke-opacity=\"1\" stroke-width=\"1\" stroke-linecap=\"square\" stroke-linejoin=\"bevel\" transform=\"matrix(0.49985,0,0,0.499751,682.895,457.772)\"\n",
       "font-family=\"Helvetica\" font-size=\"20\" font-weight=\"400\" font-style=\"normal\" \n",
       ">\n",
       "<text fill=\"#616161\" fill-opacity=\"1\" stroke=\"none\" xml:space=\"preserve\" x=\"0\" y=\"0.390625\" font-family=\"Helvetica\" font-size=\"20\" font-weight=\"400\" font-style=\"normal\" \n",
       " >90</text>\n",
       "</g>\n",
       "\n",
       "<g fill=\"#616161\" fill-opacity=\"1\" stroke=\"#616161\" stroke-opacity=\"1\" stroke-width=\"1\" stroke-linecap=\"square\" stroke-linejoin=\"bevel\" transform=\"matrix(0.49985,0,0,0.499751,745.526,457.772)\"\n",
       "font-family=\"Helvetica\" font-size=\"20\" font-weight=\"400\" font-style=\"normal\" \n",
       ">\n",
       "<text fill=\"#616161\" fill-opacity=\"1\" stroke=\"none\" xml:space=\"preserve\" x=\"0\" y=\"0.390625\" font-family=\"Helvetica\" font-size=\"20\" font-weight=\"400\" font-style=\"normal\" \n",
       " >100</text>\n",
       "</g>\n",
       "\n",
       "<g fill=\"#616161\" fill-opacity=\"1\" stroke=\"#616161\" stroke-opacity=\"1\" stroke-width=\"1\" stroke-linecap=\"square\" stroke-linejoin=\"round\" transform=\"matrix(0.49985,0,0,0.499751,0,0)\"\n",
       "font-family=\"Helvetica\" font-size=\"20\" font-weight=\"400\" font-style=\"normal\" \n",
       ">\n",
       "<polyline fill=\"none\" vector-effect=\"none\" points=\"200,893 200,88 \" />\n",
       "<polyline fill=\"none\" vector-effect=\"none\" points=\"1508,893 1508,88 \" />\n",
       "<polyline fill=\"none\" vector-effect=\"none\" points=\"200,893 213.08,893 \" />\n",
       "<polyline fill=\"none\" vector-effect=\"none\" points=\"200,758.833 213.08,758.833 \" />\n",
       "<polyline fill=\"none\" vector-effect=\"none\" points=\"200,624.667 213.08,624.667 \" />\n",
       "<polyline fill=\"none\" vector-effect=\"none\" points=\"200,490.5 213.08,490.5 \" />\n",
       "<polyline fill=\"none\" vector-effect=\"none\" points=\"200,356.333 213.08,356.333 \" />\n",
       "<polyline fill=\"none\" vector-effect=\"none\" points=\"200,222.167 213.08,222.167 \" />\n",
       "<polyline fill=\"none\" vector-effect=\"none\" points=\"200,88 213.08,88 \" />\n",
       "<polyline fill=\"none\" vector-effect=\"none\" points=\"1508,893 1494.92,893 \" />\n",
       "<polyline fill=\"none\" vector-effect=\"none\" points=\"1508,758.833 1494.92,758.833 \" />\n",
       "<polyline fill=\"none\" vector-effect=\"none\" points=\"1508,624.667 1494.92,624.667 \" />\n",
       "<polyline fill=\"none\" vector-effect=\"none\" points=\"1508,490.5 1494.92,490.5 \" />\n",
       "<polyline fill=\"none\" vector-effect=\"none\" points=\"1508,356.333 1494.92,356.333 \" />\n",
       "<polyline fill=\"none\" vector-effect=\"none\" points=\"1508,222.167 1494.92,222.167 \" />\n",
       "<polyline fill=\"none\" vector-effect=\"none\" points=\"1508,88 1494.92,88 \" />\n",
       "</g>\n",
       "\n",
       "<g fill=\"#616161\" fill-opacity=\"1\" stroke=\"#616161\" stroke-opacity=\"1\" stroke-width=\"1\" stroke-linecap=\"square\" stroke-linejoin=\"bevel\" transform=\"matrix(0.49985,0,0,0.499751,78.9763,448.776)\"\n",
       "font-family=\"Helvetica\" font-size=\"20\" font-weight=\"400\" font-style=\"normal\" \n",
       ">\n",
       "<text fill=\"#616161\" fill-opacity=\"1\" stroke=\"none\" xml:space=\"preserve\" x=\"0\" y=\"0.390625\" font-family=\"Helvetica\" font-size=\"20\" font-weight=\"400\" font-style=\"normal\" \n",
       " >-1.5</text>\n",
       "</g>\n",
       "\n",
       "<g fill=\"#616161\" fill-opacity=\"1\" stroke=\"#616161\" stroke-opacity=\"1\" stroke-width=\"1\" stroke-linecap=\"square\" stroke-linejoin=\"bevel\" transform=\"matrix(0.49985,0,0,0.499751,86.9739,381.726)\"\n",
       "font-family=\"Helvetica\" font-size=\"20\" font-weight=\"400\" font-style=\"normal\" \n",
       ">\n",
       "<text fill=\"#616161\" fill-opacity=\"1\" stroke=\"none\" xml:space=\"preserve\" x=\"0\" y=\"0.390625\" font-family=\"Helvetica\" font-size=\"20\" font-weight=\"400\" font-style=\"normal\" \n",
       " >-1</text>\n",
       "</g>\n",
       "\n",
       "<g fill=\"#616161\" fill-opacity=\"1\" stroke=\"#616161\" stroke-opacity=\"1\" stroke-width=\"1\" stroke-linecap=\"square\" stroke-linejoin=\"bevel\" transform=\"matrix(0.49985,0,0,0.499751,78.9763,314.677)\"\n",
       "font-family=\"Helvetica\" font-size=\"20\" font-weight=\"400\" font-style=\"normal\" \n",
       ">\n",
       "<text fill=\"#616161\" fill-opacity=\"1\" stroke=\"none\" xml:space=\"preserve\" x=\"0\" y=\"0.390625\" font-family=\"Helvetica\" font-size=\"20\" font-weight=\"400\" font-style=\"normal\" \n",
       " >-0.5</text>\n",
       "</g>\n",
       "\n",
       "<g fill=\"#616161\" fill-opacity=\"1\" stroke=\"#616161\" stroke-opacity=\"1\" stroke-width=\"1\" stroke-linecap=\"square\" stroke-linejoin=\"bevel\" transform=\"matrix(0.49985,0,0,0.499751,90.4729,247.627)\"\n",
       "font-family=\"Helvetica\" font-size=\"20\" font-weight=\"400\" font-style=\"normal\" \n",
       ">\n",
       "<text fill=\"#616161\" fill-opacity=\"1\" stroke=\"none\" xml:space=\"preserve\" x=\"0\" y=\"0.390625\" font-family=\"Helvetica\" font-size=\"20\" font-weight=\"400\" font-style=\"normal\" \n",
       " >0</text>\n",
       "</g>\n",
       "\n",
       "<g fill=\"#616161\" fill-opacity=\"1\" stroke=\"#616161\" stroke-opacity=\"1\" stroke-width=\"1\" stroke-linecap=\"square\" stroke-linejoin=\"bevel\" transform=\"matrix(0.49985,0,0,0.499751,81.9754,180.577)\"\n",
       "font-family=\"Helvetica\" font-size=\"20\" font-weight=\"400\" font-style=\"normal\" \n",
       ">\n",
       "<text fill=\"#616161\" fill-opacity=\"1\" stroke=\"none\" xml:space=\"preserve\" x=\"0\" y=\"0.390625\" font-family=\"Helvetica\" font-size=\"20\" font-weight=\"400\" font-style=\"normal\" \n",
       " >0.5</text>\n",
       "</g>\n",
       "\n",
       "<g fill=\"#616161\" fill-opacity=\"1\" stroke=\"#616161\" stroke-opacity=\"1\" stroke-width=\"1\" stroke-linecap=\"square\" stroke-linejoin=\"bevel\" transform=\"matrix(0.49985,0,0,0.499751,90.4729,113.527)\"\n",
       "font-family=\"Helvetica\" font-size=\"20\" font-weight=\"400\" font-style=\"normal\" \n",
       ">\n",
       "<text fill=\"#616161\" fill-opacity=\"1\" stroke=\"none\" xml:space=\"preserve\" x=\"0\" y=\"0.390625\" font-family=\"Helvetica\" font-size=\"20\" font-weight=\"400\" font-style=\"normal\" \n",
       " >1</text>\n",
       "</g>\n",
       "\n",
       "<g fill=\"#616161\" fill-opacity=\"1\" stroke=\"#616161\" stroke-opacity=\"1\" stroke-width=\"1\" stroke-linecap=\"square\" stroke-linejoin=\"bevel\" transform=\"matrix(0.49985,0,0,0.499751,81.9754,46.4768)\"\n",
       "font-family=\"Helvetica\" font-size=\"20\" font-weight=\"400\" font-style=\"normal\" \n",
       ">\n",
       "<text fill=\"#616161\" fill-opacity=\"1\" stroke=\"none\" xml:space=\"preserve\" x=\"0\" y=\"0.390625\" font-family=\"Helvetica\" font-size=\"20\" font-weight=\"400\" font-style=\"normal\" \n",
       " >1.5</text>\n",
       "</g>\n",
       "\n",
       "<g fill=\"#7d7d7d\" fill-opacity=\"0.701961\" stroke=\"#7d7d7d\" stroke-opacity=\"0.701961\" stroke-dasharray=\"1,3\" stroke-dashoffset=\"0\" stroke-width=\"1\" stroke-linecap=\"butt\" stroke-linejoin=\"round\" transform=\"matrix(0.49985,0,0,0.499751,0,0)\"\n",
       "font-family=\"Helvetica\" font-size=\"20\" font-weight=\"400\" font-style=\"normal\" \n",
       ">\n",
       "<polyline fill=\"none\" vector-effect=\"none\" points=\"200,490.5 1508,490.5 \" />\n",
       "</g>\n",
       "\n",
       "<g fill=\"none\" stroke=\"#1171be\" stroke-opacity=\"1\" stroke-width=\"1\" stroke-linecap=\"butt\" stroke-linejoin=\"round\" transform=\"matrix(0.49985,0,0,0.499751,0,0)\"\n",
       "font-family=\"Helvetica\" font-size=\"20\" font-weight=\"400\" font-style=\"normal\" \n",
       ">\n",
       "<polyline fill=\"none\" vector-effect=\"none\" points=\"200,490.5 206.507,362.406 213.015,252.798 219.522,171.28 226.03,124.297 232.537,114.673 239.045,141.517 245.552,200.487 252.06,284.375 258.567,383.938 265.075,488.875 271.582,588.875 278.09,674.599 284.597,738.527 291.104,775.593 297.612,783.552 304.119,763.052 310.627,717.44 317.134,652.302 323.642,574.827 330.149,493.034 336.657,414.968 343.164,347.926 349.672,297.796 356.179,268.557 362.687,261.998 369.194,277.645 375.701,312.923 382.209,363.498 388.716,423.785 395.224,487.536 401.731,548.477 408.239,600.907 414.746,640.216 421.254,663.276 427.761,668.666 434.269,656.728 440.776,629.447 447.284,590.179 453.791,543.269 460.298,493.581 466.806,446.01 473.313,405.009 479.821,374.187 486.328,356.003 492.836,351.585 499.343,360.688 505.851,381.784 512.358,412.27 518.866,448.771 525.373,487.497 531.881,524.631 538.388,556.693 544.896,580.859 551.403,595.196 557.91,598.809 564.418,591.871 570.925,575.56 577.433,551.892 583.94,523.492 590.448,493.31 596.955,464.324 603.463,439.252 609.97,420.306 616.478,409.003 622.985,406.056 629.492,411.341 636,423.951 642.507,442.325 649.015,464.421 655.522,487.944 662.03,510.569 668.537,530.174 675.045,545.027 681.552,553.936 688.06,556.336 694.567,552.313 701.075,542.564 707.582,528.301 714.09,511.11 720.597,492.778 727.104,475.118 733.612,459.789 740.119,448.145 746.627,441.124 753.134,439.173 759.642,442.234 766.149,449.769 772.657,460.841 779.164,474.216 785.672,488.502 792.179,502.286 798.687,514.272 805.194,523.399 811.702,528.932 818.209,530.515 824.716,528.188 831.224,522.363 837.731,513.77 844.239,503.364 850.746,492.231 857.254,481.473 863.761,472.101 870.269,464.947 876.776,460.588 883.284,459.305 889.791,461.073 896.298,465.574 902.806,472.244 909.313,480.34 915.821,489.015 922.328,497.412 928.836,504.739 935.343,510.347 941.851,513.781 948.358,514.818 954.866,513.476 961.373,509.998 967.881,504.821 974.388,498.523 980.896,491.763 987.403,485.21 993.91,479.481 1000.42,475.086 1006.93,472.381 1013.43,471.543 1019.94,472.561 1026.45,475.249 1032.96,479.266 1039.46,484.165 1045.97,489.433 1052.48,494.548 1058.98,499.026 1065.49,502.471 1072,504.601 1078.51,505.278 1085.01,504.506 1091.52,502.43 1098.03,499.311 1104.54,495.501 1111.04,491.396 1117.55,487.404 1124.06,483.903 1130.57,481.204 1137.07,479.526 1143.58,478.981 1150.09,479.565 1156.6,481.169 1163.1,483.589 1169.61,486.553 1176.12,489.752 1182.63,492.867 1189.13,495.604 1195.64,497.719 1202.15,499.04 1208.66,499.479 1215.16,499.037 1221.67,497.798 1228.18,495.92 1234.69,493.615 1241.19,491.122 1247.7,488.691 1254.21,486.552 1260.72,484.894 1267.22,483.854 1273.73,483.501 1280.24,483.836 1286.75,484.792 1293.25,486.249 1299.76,488.043 1306.27,489.984 1312.78,491.881 1319.28,493.554 1325.79,494.853 1332.3,495.672 1338.81,495.955 1345.31,495.703 1351.82,494.964 1358.33,493.833 1364.84,492.439 1371.34,490.926 1377.85,489.445 1384.36,488.138 1390.87,487.12 1397.37,486.476 1403.88,486.248 1410.39,486.439 1416.9,487.009 1423.4,487.886 1429.91,488.971 1436.42,490.15 1442.93,491.305 1449.43,492.327 1455.94,493.124 1462.45,493.631 1468.96,493.814 1475.46,493.671 1481.97,493.23 1488.48,492.55 1494.99,491.706 1501.49,490.787 1508,489.886 \" />\n",
       "</g>\n",
       "</g>\n",
       "</svg>\n"
      ]
     },
     "metadata": {},
     "output_type": "display_data"
    }
   ],
   "source": [
    "tFinal = 100;\n",
    "impulse(G,tFinal);\n",
    "ylabel(\"x [m]\")"
   ]
  },
  {
   "cell_type": "markdown",
   "id": "0d5500d1",
   "metadata": {
    "slideshow": {
     "slide_type": "notes"
    }
   },
   "source": [
    "### Reflect\n",
    "\n",
    "![reflect](images/reflect.png)\n",
    "\n",
    "- How are the damping and spring stiffness reflected in the impulse response?\n",
    "- If $c$ is increased to 0.5, how will the response change?\n",
    "- Try setting $c = 0.5$ and recompute the impulse response.\n",
    "- Try setting $k = 1$ and recompute the impulse response."
   ]
  },
  {
   "cell_type": "markdown",
   "id": "800cba52",
   "metadata": {
    "slideshow": {
     "slide_type": "subslide"
    }
   },
   "source": [
    "### Exercise 3\n",
    "\n",
    "Consider a simple vehicle with a mass of 1300 kg and a frictional constant of proportionality of $k = 100$ N.s/m. Recall that the simple vehicle motion model has a transfer function:\n",
    "\n",
    "$$G(s) = \\frac{X(s)}{U(s)} = \\frac{1}{ms^2 + ks}$$\n",
    "\n",
    "Plot the impulse response of for the first 100 seconds using MATLAB commands by\n",
    "\n",
    "1. creating the transfer function using the `tf` function\n",
    "2. plotting the impulse response using `impulse` function"
   ]
  },
  {
   "cell_type": "code",
   "execution_count": 26,
   "id": "fa7fba1b",
   "metadata": {
    "slideshow": {
     "slide_type": "subslide"
    }
   },
   "outputs": [],
   "source": [
    "% Parameters\n",
    "m = 1300;      % kg\n",
    "k = 100;       % N.s/m\n",
    "Tfinal = 100;  % seconds\n",
    "\n",
    "% Transfer function\n",
    "num = 1;\n",
    "den = [m, k, 0];"
   ]
  },
  {
   "cell_type": "markdown",
   "id": "c1732d14",
   "metadata": {
    "slideshow": {
     "slide_type": "subslide"
    }
   },
   "source": [
    "##### Poll exercise 4"
   ]
  },
  {
   "cell_type": "code",
   "execution_count": 27,
   "id": "da0c19d1",
   "metadata": {
    "slideshow": {
     "slide_type": "-"
    }
   },
   "outputs": [
    {
     "name": "stdout",
     "output_type": "stream",
     "text": [
      "\n",
      "G =\n",
      " \n",
      "         1\n",
      "  ----------------\n",
      "  1300 s^2 + 100 s\n",
      " \n",
      "Continuous-time transfer function.\n"
     ]
    }
   ],
   "source": [
    "% Define trasnsfer function G\n",
    "G = tf(num,den)"
   ]
  },
  {
   "cell_type": "code",
   "execution_count": 28,
   "id": "5b20b343",
   "metadata": {
    "slideshow": {
     "slide_type": "-"
    }
   },
   "outputs": [
    {
     "data": {
      "image/svg+xml": [
       "<?xml version=\"1.0\" encoding=\"UTF-8\" standalone=\"no\"?>\n",
       "<svg width=\"294.217mm\" height=\"177.094mm\"\n",
       " viewBox=\"0 0 834 502\"\n",
       " xmlns=\"http://www.w3.org/2000/svg\" xmlns:xlink=\"http://www.w3.org/1999/xlink\"  version=\"1.2\" baseProfile=\"tiny\">\n",
       "<title>Qt SVG Document</title>\n",
       "<desc>MATLAB, The MathWorks, Inc. Version 25.1.0.2833191 R2025a Prerelease Update 2</desc>\n",
       "<defs>\n",
       "</defs>\n",
       "<g fill=\"none\" stroke=\"black\" stroke-width=\"1\" fill-rule=\"evenodd\" stroke-linecap=\"square\" stroke-linejoin=\"bevel\" >\n",
       "\n",
       "<g fill=\"#ffffff\" fill-opacity=\"1\" stroke=\"none\" transform=\"matrix(0.49985,0,0,0.499751,0,0)\"\n",
       "font-family=\".AppleSystemUIFont\" font-size=\"13\" font-weight=\"400\" font-style=\"normal\" \n",
       ">\n",
       "<path vector-effect=\"none\" fill-rule=\"evenodd\" d=\"M0,0 L1668,0 L1668,1005 L0,1005 L0,0\"/>\n",
       "</g>\n",
       "\n",
       "<g fill=\"#212121\" fill-opacity=\"1\" stroke=\"#212121\" stroke-opacity=\"1\" stroke-width=\"1\" stroke-linecap=\"square\" stroke-linejoin=\"bevel\" transform=\"matrix(0.49985,0,0,0.499751,378.319,17.991)\"\n",
       "font-family=\"Helvetica\" font-size=\"22\" font-weight=\"700\" font-style=\"normal\" \n",
       ">\n",
       "<text fill=\"#212121\" fill-opacity=\"1\" stroke=\"none\" xml:space=\"preserve\" x=\"0\" y=\"-0.0625\" font-family=\"Helvetica\" font-size=\"22\" font-weight=\"700\" font-style=\"normal\" \n",
       " >Impulse Response</text>\n",
       "</g>\n",
       "\n",
       "<g fill=\"#212121\" fill-opacity=\"1\" stroke=\"#212121\" stroke-opacity=\"1\" stroke-width=\"1\" stroke-linecap=\"square\" stroke-linejoin=\"bevel\" transform=\"matrix(0.49985,0,0,0.499751,389.066,474.099)\"\n",
       "font-family=\"Helvetica\" font-size=\"22\" font-weight=\"400\" font-style=\"normal\" \n",
       ">\n",
       "<text fill=\"#212121\" fill-opacity=\"1\" stroke=\"none\" xml:space=\"preserve\" x=\"0\" y=\"-0.0625\" font-family=\"Helvetica\" font-size=\"22\" font-weight=\"400\" font-style=\"normal\" \n",
       " >Time (seconds)</text>\n",
       "</g>\n",
       "\n",
       "<g fill=\"#212121\" fill-opacity=\"1\" stroke=\"#212121\" stroke-opacity=\"1\" stroke-width=\"1\" stroke-linecap=\"square\" stroke-linejoin=\"bevel\" transform=\"matrix(0,-0.499751,0.49985,0,49.2352,274.406)\"\n",
       "font-family=\"Helvetica\" font-size=\"22\" font-weight=\"400\" font-style=\"normal\" \n",
       ">\n",
       "<text fill=\"#212121\" fill-opacity=\"1\" stroke=\"none\" xml:space=\"preserve\" x=\"0\" y=\"-0.0625\" font-family=\"Helvetica\" font-size=\"22\" font-weight=\"400\" font-style=\"normal\" \n",
       " >x(t) [metres]</text>\n",
       "</g>\n",
       "\n",
       "<g fill=\"#ffffff\" fill-opacity=\"1\" stroke=\"none\" transform=\"matrix(4.9985e-05,0,0,4.99751e-05,0,0)\"\n",
       "font-family=\"Helvetica\" font-size=\"22\" font-weight=\"400\" font-style=\"normal\" \n",
       ">\n",
       "<path vector-effect=\"none\" fill-rule=\"evenodd\" d=\"M2e+06,880000 L2e+06,8.93e+06 L1.508e+07,8.93e+06 L1.508e+07,880000 L2e+06,880000\"/>\n",
       "</g>\n",
       "\n",
       "<g fill=\"#212121\" fill-opacity=\"0.14902\" stroke=\"#212121\" stroke-opacity=\"0.14902\" stroke-width=\"1\" stroke-linecap=\"butt\" stroke-linejoin=\"round\" transform=\"matrix(0.49985,0,0,0.499751,0,0)\"\n",
       "font-family=\"Helvetica\" font-size=\"22\" font-weight=\"400\" font-style=\"normal\" \n",
       ">\n",
       "<polyline fill=\"none\" vector-effect=\"none\" points=\"200,88 200,893 \" />\n",
       "<polyline fill=\"none\" vector-effect=\"none\" points=\"330.8,88 330.8,893 \" />\n",
       "<polyline fill=\"none\" vector-effect=\"none\" points=\"461.6,88 461.6,893 \" />\n",
       "<polyline fill=\"none\" vector-effect=\"none\" points=\"592.4,88 592.4,893 \" />\n",
       "<polyline fill=\"none\" vector-effect=\"none\" points=\"723.2,88 723.2,893 \" />\n",
       "<polyline fill=\"none\" vector-effect=\"none\" points=\"854,88 854,893 \" />\n",
       "<polyline fill=\"none\" vector-effect=\"none\" points=\"984.8,88 984.8,893 \" />\n",
       "<polyline fill=\"none\" vector-effect=\"none\" points=\"1115.6,88 1115.6,893 \" />\n",
       "<polyline fill=\"none\" vector-effect=\"none\" points=\"1246.4,88 1246.4,893 \" />\n",
       "<polyline fill=\"none\" vector-effect=\"none\" points=\"1377.2,88 1377.2,893 \" />\n",
       "<polyline fill=\"none\" vector-effect=\"none\" points=\"1508,88 1508,893 \" />\n",
       "<polyline fill=\"none\" vector-effect=\"none\" points=\"200,893 1508,893 \" />\n",
       "<polyline fill=\"none\" vector-effect=\"none\" points=\"200,812.5 1508,812.5 \" />\n",
       "<polyline fill=\"none\" vector-effect=\"none\" points=\"200,732 1508,732 \" />\n",
       "<polyline fill=\"none\" vector-effect=\"none\" points=\"200,651.5 1508,651.5 \" />\n",
       "<polyline fill=\"none\" vector-effect=\"none\" points=\"200,571 1508,571 \" />\n",
       "<polyline fill=\"none\" vector-effect=\"none\" points=\"200,490.5 1508,490.5 \" />\n",
       "<polyline fill=\"none\" vector-effect=\"none\" points=\"200,410 1508,410 \" />\n",
       "<polyline fill=\"none\" vector-effect=\"none\" points=\"200,329.5 1508,329.5 \" />\n",
       "<polyline fill=\"none\" vector-effect=\"none\" points=\"200,249 1508,249 \" />\n",
       "<polyline fill=\"none\" vector-effect=\"none\" points=\"200,168.5 1508,168.5 \" />\n",
       "<polyline fill=\"none\" vector-effect=\"none\" points=\"200,88 1508,88 \" />\n",
       "</g>\n",
       "\n",
       "<g fill=\"#616161\" fill-opacity=\"1\" stroke=\"#616161\" stroke-opacity=\"1\" stroke-width=\"1\" stroke-linecap=\"square\" stroke-linejoin=\"round\" transform=\"matrix(0.49985,0,0,0.499751,0,0)\"\n",
       "font-family=\"Helvetica\" font-size=\"22\" font-weight=\"400\" font-style=\"normal\" \n",
       ">\n",
       "<polyline fill=\"none\" vector-effect=\"none\" points=\"200,893 1508,893 \" />\n",
       "<polyline fill=\"none\" vector-effect=\"none\" points=\"200,88 1508,88 \" />\n",
       "<polyline fill=\"none\" vector-effect=\"none\" points=\"200,893 200,879.92 \" />\n",
       "<polyline fill=\"none\" vector-effect=\"none\" points=\"330.8,893 330.8,879.92 \" />\n",
       "<polyline fill=\"none\" vector-effect=\"none\" points=\"461.6,893 461.6,879.92 \" />\n",
       "<polyline fill=\"none\" vector-effect=\"none\" points=\"592.4,893 592.4,879.92 \" />\n",
       "<polyline fill=\"none\" vector-effect=\"none\" points=\"723.2,893 723.2,879.92 \" />\n",
       "<polyline fill=\"none\" vector-effect=\"none\" points=\"854,893 854,879.92 \" />\n",
       "<polyline fill=\"none\" vector-effect=\"none\" points=\"984.8,893 984.8,879.92 \" />\n",
       "<polyline fill=\"none\" vector-effect=\"none\" points=\"1115.6,893 1115.6,879.92 \" />\n",
       "<polyline fill=\"none\" vector-effect=\"none\" points=\"1246.4,893 1246.4,879.92 \" />\n",
       "<polyline fill=\"none\" vector-effect=\"none\" points=\"1377.2,893 1377.2,879.92 \" />\n",
       "<polyline fill=\"none\" vector-effect=\"none\" points=\"1508,893 1508,879.92 \" />\n",
       "<polyline fill=\"none\" vector-effect=\"none\" points=\"200,88 200,101.08 \" />\n",
       "<polyline fill=\"none\" vector-effect=\"none\" points=\"330.8,88 330.8,101.08 \" />\n",
       "<polyline fill=\"none\" vector-effect=\"none\" points=\"461.6,88 461.6,101.08 \" />\n",
       "<polyline fill=\"none\" vector-effect=\"none\" points=\"592.4,88 592.4,101.08 \" />\n",
       "<polyline fill=\"none\" vector-effect=\"none\" points=\"723.2,88 723.2,101.08 \" />\n",
       "<polyline fill=\"none\" vector-effect=\"none\" points=\"854,88 854,101.08 \" />\n",
       "<polyline fill=\"none\" vector-effect=\"none\" points=\"984.8,88 984.8,101.08 \" />\n",
       "<polyline fill=\"none\" vector-effect=\"none\" points=\"1115.6,88 1115.6,101.08 \" />\n",
       "<polyline fill=\"none\" vector-effect=\"none\" points=\"1246.4,88 1246.4,101.08 \" />\n",
       "<polyline fill=\"none\" vector-effect=\"none\" points=\"1377.2,88 1377.2,101.08 \" />\n",
       "<polyline fill=\"none\" vector-effect=\"none\" points=\"1508,88 1508,101.08 \" />\n",
       "</g>\n",
       "\n",
       "<g fill=\"#616161\" fill-opacity=\"1\" stroke=\"#616161\" stroke-opacity=\"1\" stroke-width=\"1\" stroke-linecap=\"square\" stroke-linejoin=\"bevel\" transform=\"matrix(0.49985,0,0,0.499751,97.2208,457.772)\"\n",
       "font-family=\"Helvetica\" font-size=\"20\" font-weight=\"400\" font-style=\"normal\" \n",
       ">\n",
       "<text fill=\"#616161\" fill-opacity=\"1\" stroke=\"none\" xml:space=\"preserve\" x=\"0\" y=\"0.390625\" font-family=\"Helvetica\" font-size=\"20\" font-weight=\"400\" font-style=\"normal\" \n",
       " >0</text>\n",
       "</g>\n",
       "\n",
       "<g fill=\"#616161\" fill-opacity=\"1\" stroke=\"#616161\" stroke-opacity=\"1\" stroke-width=\"1\" stroke-linecap=\"square\" stroke-linejoin=\"bevel\" transform=\"matrix(0.49985,0,0,0.499751,159.852,457.772)\"\n",
       "font-family=\"Helvetica\" font-size=\"20\" font-weight=\"400\" font-style=\"normal\" \n",
       ">\n",
       "<text fill=\"#616161\" fill-opacity=\"1\" stroke=\"none\" xml:space=\"preserve\" x=\"0\" y=\"0.390625\" font-family=\"Helvetica\" font-size=\"20\" font-weight=\"400\" font-style=\"normal\" \n",
       " >10</text>\n",
       "</g>\n",
       "\n",
       "<g fill=\"#616161\" fill-opacity=\"1\" stroke=\"#616161\" stroke-opacity=\"1\" stroke-width=\"1\" stroke-linecap=\"square\" stroke-linejoin=\"bevel\" transform=\"matrix(0.49985,0,0,0.499751,225.232,457.772)\"\n",
       "font-family=\"Helvetica\" font-size=\"20\" font-weight=\"400\" font-style=\"normal\" \n",
       ">\n",
       "<text fill=\"#616161\" fill-opacity=\"1\" stroke=\"none\" xml:space=\"preserve\" x=\"0\" y=\"0.390625\" font-family=\"Helvetica\" font-size=\"20\" font-weight=\"400\" font-style=\"normal\" \n",
       " >20</text>\n",
       "</g>\n",
       "\n",
       "<g fill=\"#616161\" fill-opacity=\"1\" stroke=\"#616161\" stroke-opacity=\"1\" stroke-width=\"1\" stroke-linecap=\"square\" stroke-linejoin=\"bevel\" transform=\"matrix(0.49985,0,0,0.499751,290.613,457.772)\"\n",
       "font-family=\"Helvetica\" font-size=\"20\" font-weight=\"400\" font-style=\"normal\" \n",
       ">\n",
       "<text fill=\"#616161\" fill-opacity=\"1\" stroke=\"none\" xml:space=\"preserve\" x=\"0\" y=\"0.390625\" font-family=\"Helvetica\" font-size=\"20\" font-weight=\"400\" font-style=\"normal\" \n",
       " >30</text>\n",
       "</g>\n",
       "\n",
       "<g fill=\"#616161\" fill-opacity=\"1\" stroke=\"#616161\" stroke-opacity=\"1\" stroke-width=\"1\" stroke-linecap=\"square\" stroke-linejoin=\"bevel\" transform=\"matrix(0.49985,0,0,0.499751,355.993,457.772)\"\n",
       "font-family=\"Helvetica\" font-size=\"20\" font-weight=\"400\" font-style=\"normal\" \n",
       ">\n",
       "<text fill=\"#616161\" fill-opacity=\"1\" stroke=\"none\" xml:space=\"preserve\" x=\"0\" y=\"0.390625\" font-family=\"Helvetica\" font-size=\"20\" font-weight=\"400\" font-style=\"normal\" \n",
       " >40</text>\n",
       "</g>\n",
       "\n",
       "<g fill=\"#616161\" fill-opacity=\"1\" stroke=\"#616161\" stroke-opacity=\"1\" stroke-width=\"1\" stroke-linecap=\"square\" stroke-linejoin=\"bevel\" transform=\"matrix(0.49985,0,0,0.499751,421.374,457.772)\"\n",
       "font-family=\"Helvetica\" font-size=\"20\" font-weight=\"400\" font-style=\"normal\" \n",
       ">\n",
       "<text fill=\"#616161\" fill-opacity=\"1\" stroke=\"none\" xml:space=\"preserve\" x=\"0\" y=\"0.390625\" font-family=\"Helvetica\" font-size=\"20\" font-weight=\"400\" font-style=\"normal\" \n",
       " >50</text>\n",
       "</g>\n",
       "\n",
       "<g fill=\"#616161\" fill-opacity=\"1\" stroke=\"#616161\" stroke-opacity=\"1\" stroke-width=\"1\" stroke-linecap=\"square\" stroke-linejoin=\"bevel\" transform=\"matrix(0.49985,0,0,0.499751,486.754,457.772)\"\n",
       "font-family=\"Helvetica\" font-size=\"20\" font-weight=\"400\" font-style=\"normal\" \n",
       ">\n",
       "<text fill=\"#616161\" fill-opacity=\"1\" stroke=\"none\" xml:space=\"preserve\" x=\"0\" y=\"0.390625\" font-family=\"Helvetica\" font-size=\"20\" font-weight=\"400\" font-style=\"normal\" \n",
       " >60</text>\n",
       "</g>\n",
       "\n",
       "<g fill=\"#616161\" fill-opacity=\"1\" stroke=\"#616161\" stroke-opacity=\"1\" stroke-width=\"1\" stroke-linecap=\"square\" stroke-linejoin=\"bevel\" transform=\"matrix(0.49985,0,0,0.499751,552.134,457.772)\"\n",
       "font-family=\"Helvetica\" font-size=\"20\" font-weight=\"400\" font-style=\"normal\" \n",
       ">\n",
       "<text fill=\"#616161\" fill-opacity=\"1\" stroke=\"none\" xml:space=\"preserve\" x=\"0\" y=\"0.390625\" font-family=\"Helvetica\" font-size=\"20\" font-weight=\"400\" font-style=\"normal\" \n",
       " >70</text>\n",
       "</g>\n",
       "\n",
       "<g fill=\"#616161\" fill-opacity=\"1\" stroke=\"#616161\" stroke-opacity=\"1\" stroke-width=\"1\" stroke-linecap=\"square\" stroke-linejoin=\"bevel\" transform=\"matrix(0.49985,0,0,0.499751,617.515,457.772)\"\n",
       "font-family=\"Helvetica\" font-size=\"20\" font-weight=\"400\" font-style=\"normal\" \n",
       ">\n",
       "<text fill=\"#616161\" fill-opacity=\"1\" stroke=\"none\" xml:space=\"preserve\" x=\"0\" y=\"0.390625\" font-family=\"Helvetica\" font-size=\"20\" font-weight=\"400\" font-style=\"normal\" \n",
       " >80</text>\n",
       "</g>\n",
       "\n",
       "<g fill=\"#616161\" fill-opacity=\"1\" stroke=\"#616161\" stroke-opacity=\"1\" stroke-width=\"1\" stroke-linecap=\"square\" stroke-linejoin=\"bevel\" transform=\"matrix(0.49985,0,0,0.499751,682.895,457.772)\"\n",
       "font-family=\"Helvetica\" font-size=\"20\" font-weight=\"400\" font-style=\"normal\" \n",
       ">\n",
       "<text fill=\"#616161\" fill-opacity=\"1\" stroke=\"none\" xml:space=\"preserve\" x=\"0\" y=\"0.390625\" font-family=\"Helvetica\" font-size=\"20\" font-weight=\"400\" font-style=\"normal\" \n",
       " >90</text>\n",
       "</g>\n",
       "\n",
       "<g fill=\"#616161\" fill-opacity=\"1\" stroke=\"#616161\" stroke-opacity=\"1\" stroke-width=\"1\" stroke-linecap=\"square\" stroke-linejoin=\"bevel\" transform=\"matrix(0.49985,0,0,0.499751,745.526,457.772)\"\n",
       "font-family=\"Helvetica\" font-size=\"20\" font-weight=\"400\" font-style=\"normal\" \n",
       ">\n",
       "<text fill=\"#616161\" fill-opacity=\"1\" stroke=\"none\" xml:space=\"preserve\" x=\"0\" y=\"0.390625\" font-family=\"Helvetica\" font-size=\"20\" font-weight=\"400\" font-style=\"normal\" \n",
       " >100</text>\n",
       "</g>\n",
       "\n",
       "<g fill=\"#616161\" fill-opacity=\"1\" stroke=\"#616161\" stroke-opacity=\"1\" stroke-width=\"1\" stroke-linecap=\"square\" stroke-linejoin=\"round\" transform=\"matrix(0.49985,0,0,0.499751,0,0)\"\n",
       "font-family=\"Helvetica\" font-size=\"20\" font-weight=\"400\" font-style=\"normal\" \n",
       ">\n",
       "<polyline fill=\"none\" vector-effect=\"none\" points=\"200,893 200,88 \" />\n",
       "<polyline fill=\"none\" vector-effect=\"none\" points=\"1508,893 1508,88 \" />\n",
       "<polyline fill=\"none\" vector-effect=\"none\" points=\"200,893 213.08,893 \" />\n",
       "<polyline fill=\"none\" vector-effect=\"none\" points=\"200,812.5 213.08,812.5 \" />\n",
       "<polyline fill=\"none\" vector-effect=\"none\" points=\"200,732 213.08,732 \" />\n",
       "<polyline fill=\"none\" vector-effect=\"none\" points=\"200,651.5 213.08,651.5 \" />\n",
       "<polyline fill=\"none\" vector-effect=\"none\" points=\"200,571 213.08,571 \" />\n",
       "<polyline fill=\"none\" vector-effect=\"none\" points=\"200,490.5 213.08,490.5 \" />\n",
       "<polyline fill=\"none\" vector-effect=\"none\" points=\"200,410 213.08,410 \" />\n",
       "<polyline fill=\"none\" vector-effect=\"none\" points=\"200,329.5 213.08,329.5 \" />\n",
       "<polyline fill=\"none\" vector-effect=\"none\" points=\"200,249 213.08,249 \" />\n",
       "<polyline fill=\"none\" vector-effect=\"none\" points=\"200,168.5 213.08,168.5 \" />\n",
       "<polyline fill=\"none\" vector-effect=\"none\" points=\"200,88 213.08,88 \" />\n",
       "<polyline fill=\"none\" vector-effect=\"none\" points=\"1508,893 1494.92,893 \" />\n",
       "<polyline fill=\"none\" vector-effect=\"none\" points=\"1508,812.5 1494.92,812.5 \" />\n",
       "<polyline fill=\"none\" vector-effect=\"none\" points=\"1508,732 1494.92,732 \" />\n",
       "<polyline fill=\"none\" vector-effect=\"none\" points=\"1508,651.5 1494.92,651.5 \" />\n",
       "<polyline fill=\"none\" vector-effect=\"none\" points=\"1508,571 1494.92,571 \" />\n",
       "<polyline fill=\"none\" vector-effect=\"none\" points=\"1508,490.5 1494.92,490.5 \" />\n",
       "<polyline fill=\"none\" vector-effect=\"none\" points=\"1508,410 1494.92,410 \" />\n",
       "<polyline fill=\"none\" vector-effect=\"none\" points=\"1508,329.5 1494.92,329.5 \" />\n",
       "<polyline fill=\"none\" vector-effect=\"none\" points=\"1508,249 1494.92,249 \" />\n",
       "<polyline fill=\"none\" vector-effect=\"none\" points=\"1508,168.5 1494.92,168.5 \" />\n",
       "<polyline fill=\"none\" vector-effect=\"none\" points=\"1508,88 1494.92,88 \" />\n",
       "</g>\n",
       "\n",
       "<g fill=\"#616161\" fill-opacity=\"1\" stroke=\"#616161\" stroke-opacity=\"1\" stroke-width=\"1\" stroke-linecap=\"square\" stroke-linejoin=\"bevel\" transform=\"matrix(0.49985,0,0,0.499751,90.4729,448.776)\"\n",
       "font-family=\"Helvetica\" font-size=\"20\" font-weight=\"400\" font-style=\"normal\" \n",
       ">\n",
       "<text fill=\"#616161\" fill-opacity=\"1\" stroke=\"none\" xml:space=\"preserve\" x=\"0\" y=\"0.390625\" font-family=\"Helvetica\" font-size=\"20\" font-weight=\"400\" font-style=\"normal\" \n",
       " >0</text>\n",
       "</g>\n",
       "\n",
       "<g fill=\"#616161\" fill-opacity=\"1\" stroke=\"#616161\" stroke-opacity=\"1\" stroke-width=\"1\" stroke-linecap=\"square\" stroke-linejoin=\"bevel\" transform=\"matrix(0.49985,0,0,0.499751,70.9787,408.546)\"\n",
       "font-family=\"Helvetica\" font-size=\"20\" font-weight=\"400\" font-style=\"normal\" \n",
       ">\n",
       "<text fill=\"#616161\" fill-opacity=\"1\" stroke=\"none\" xml:space=\"preserve\" x=\"0\" y=\"0.390625\" font-family=\"Helvetica\" font-size=\"20\" font-weight=\"400\" font-style=\"normal\" \n",
       " >0.001</text>\n",
       "</g>\n",
       "\n",
       "<g fill=\"#616161\" fill-opacity=\"1\" stroke=\"#616161\" stroke-opacity=\"1\" stroke-width=\"1\" stroke-linecap=\"square\" stroke-linejoin=\"bevel\" transform=\"matrix(0.49985,0,0,0.499751,70.9787,368.316)\"\n",
       "font-family=\"Helvetica\" font-size=\"20\" font-weight=\"400\" font-style=\"normal\" \n",
       ">\n",
       "<text fill=\"#616161\" fill-opacity=\"1\" stroke=\"none\" xml:space=\"preserve\" x=\"0\" y=\"0.390625\" font-family=\"Helvetica\" font-size=\"20\" font-weight=\"400\" font-style=\"normal\" \n",
       " >0.002</text>\n",
       "</g>\n",
       "\n",
       "<g fill=\"#616161\" fill-opacity=\"1\" stroke=\"#616161\" stroke-opacity=\"1\" stroke-width=\"1\" stroke-linecap=\"square\" stroke-linejoin=\"bevel\" transform=\"matrix(0.49985,0,0,0.499751,70.9787,328.087)\"\n",
       "font-family=\"Helvetica\" font-size=\"20\" font-weight=\"400\" font-style=\"normal\" \n",
       ">\n",
       "<text fill=\"#616161\" fill-opacity=\"1\" stroke=\"none\" xml:space=\"preserve\" x=\"0\" y=\"0.390625\" font-family=\"Helvetica\" font-size=\"20\" font-weight=\"400\" font-style=\"normal\" \n",
       " >0.003</text>\n",
       "</g>\n",
       "\n",
       "<g fill=\"#616161\" fill-opacity=\"1\" stroke=\"#616161\" stroke-opacity=\"1\" stroke-width=\"1\" stroke-linecap=\"square\" stroke-linejoin=\"bevel\" transform=\"matrix(0.49985,0,0,0.499751,70.9787,287.857)\"\n",
       "font-family=\"Helvetica\" font-size=\"20\" font-weight=\"400\" font-style=\"normal\" \n",
       ">\n",
       "<text fill=\"#616161\" fill-opacity=\"1\" stroke=\"none\" xml:space=\"preserve\" x=\"0\" y=\"0.390625\" font-family=\"Helvetica\" font-size=\"20\" font-weight=\"400\" font-style=\"normal\" \n",
       " >0.004</text>\n",
       "</g>\n",
       "\n",
       "<g fill=\"#616161\" fill-opacity=\"1\" stroke=\"#616161\" stroke-opacity=\"1\" stroke-width=\"1\" stroke-linecap=\"square\" stroke-linejoin=\"bevel\" transform=\"matrix(0.49985,0,0,0.499751,70.9787,247.627)\"\n",
       "font-family=\"Helvetica\" font-size=\"20\" font-weight=\"400\" font-style=\"normal\" \n",
       ">\n",
       "<text fill=\"#616161\" fill-opacity=\"1\" stroke=\"none\" xml:space=\"preserve\" x=\"0\" y=\"0.390625\" font-family=\"Helvetica\" font-size=\"20\" font-weight=\"400\" font-style=\"normal\" \n",
       " >0.005</text>\n",
       "</g>\n",
       "\n",
       "<g fill=\"#616161\" fill-opacity=\"1\" stroke=\"#616161\" stroke-opacity=\"1\" stroke-width=\"1\" stroke-linecap=\"square\" stroke-linejoin=\"bevel\" transform=\"matrix(0.49985,0,0,0.499751,70.9787,207.397)\"\n",
       "font-family=\"Helvetica\" font-size=\"20\" font-weight=\"400\" font-style=\"normal\" \n",
       ">\n",
       "<text fill=\"#616161\" fill-opacity=\"1\" stroke=\"none\" xml:space=\"preserve\" x=\"0\" y=\"0.390625\" font-family=\"Helvetica\" font-size=\"20\" font-weight=\"400\" font-style=\"normal\" \n",
       " >0.006</text>\n",
       "</g>\n",
       "\n",
       "<g fill=\"#616161\" fill-opacity=\"1\" stroke=\"#616161\" stroke-opacity=\"1\" stroke-width=\"1\" stroke-linecap=\"square\" stroke-linejoin=\"bevel\" transform=\"matrix(0.49985,0,0,0.499751,70.9787,167.167)\"\n",
       "font-family=\"Helvetica\" font-size=\"20\" font-weight=\"400\" font-style=\"normal\" \n",
       ">\n",
       "<text fill=\"#616161\" fill-opacity=\"1\" stroke=\"none\" xml:space=\"preserve\" x=\"0\" y=\"0.390625\" font-family=\"Helvetica\" font-size=\"20\" font-weight=\"400\" font-style=\"normal\" \n",
       " >0.007</text>\n",
       "</g>\n",
       "\n",
       "<g fill=\"#616161\" fill-opacity=\"1\" stroke=\"#616161\" stroke-opacity=\"1\" stroke-width=\"1\" stroke-linecap=\"square\" stroke-linejoin=\"bevel\" transform=\"matrix(0.49985,0,0,0.499751,70.9787,126.937)\"\n",
       "font-family=\"Helvetica\" font-size=\"20\" font-weight=\"400\" font-style=\"normal\" \n",
       ">\n",
       "<text fill=\"#616161\" fill-opacity=\"1\" stroke=\"none\" xml:space=\"preserve\" x=\"0\" y=\"0.390625\" font-family=\"Helvetica\" font-size=\"20\" font-weight=\"400\" font-style=\"normal\" \n",
       " >0.008</text>\n",
       "</g>\n",
       "\n",
       "<g fill=\"#616161\" fill-opacity=\"1\" stroke=\"#616161\" stroke-opacity=\"1\" stroke-width=\"1\" stroke-linecap=\"square\" stroke-linejoin=\"bevel\" transform=\"matrix(0.49985,0,0,0.499751,70.9787,86.7068)\"\n",
       "font-family=\"Helvetica\" font-size=\"20\" font-weight=\"400\" font-style=\"normal\" \n",
       ">\n",
       "<text fill=\"#616161\" fill-opacity=\"1\" stroke=\"none\" xml:space=\"preserve\" x=\"0\" y=\"0.390625\" font-family=\"Helvetica\" font-size=\"20\" font-weight=\"400\" font-style=\"normal\" \n",
       " >0.009</text>\n",
       "</g>\n",
       "\n",
       "<g fill=\"#616161\" fill-opacity=\"1\" stroke=\"#616161\" stroke-opacity=\"1\" stroke-width=\"1\" stroke-linecap=\"square\" stroke-linejoin=\"bevel\" transform=\"matrix(0.49985,0,0,0.499751,76.4771,46.4769)\"\n",
       "font-family=\"Helvetica\" font-size=\"20\" font-weight=\"400\" font-style=\"normal\" \n",
       ">\n",
       "<text fill=\"#616161\" fill-opacity=\"1\" stroke=\"none\" xml:space=\"preserve\" x=\"0\" y=\"0.390625\" font-family=\"Helvetica\" font-size=\"20\" font-weight=\"400\" font-style=\"normal\" \n",
       " >0.01</text>\n",
       "</g>\n",
       "\n",
       "<g fill=\"none\" stroke=\"#1171be\" stroke-opacity=\"1\" stroke-width=\"1\" stroke-linecap=\"butt\" stroke-linejoin=\"round\" transform=\"matrix(0.49985,0,0,0.499751,0,0)\"\n",
       "font-family=\"Helvetica\" font-size=\"20\" font-weight=\"400\" font-style=\"normal\" \n",
       ">\n",
       "<polyline fill=\"none\" vector-effect=\"none\" points=\"200,893 213.08,833.399 226.16,778.21 239.24,727.108 252.32,679.789 265.4,635.974 278.48,595.402 291.56,557.835 304.64,523.049 317.72,490.838 330.8,461.012 343.88,433.395 356.96,407.822 370.04,384.143 383.12,362.217 396.2,341.914 409.28,323.115 422.36,305.707 435.44,289.588 448.52,274.663 461.6,260.842 474.68,248.045 487.76,236.196 500.84,225.224 513.92,215.064 527,205.656 540.08,196.945 553.16,188.879 566.24,181.41 579.32,174.494 592.4,168.09 605.48,162.16 618.56,156.669 631.64,151.585 644.72,146.877 657.8,142.518 670.88,138.482 683.96,134.744 697.04,131.283 710.12,128.079 723.2,125.111 736.28,122.364 749.36,119.819 762.44,117.463 775.52,115.282 788.6,113.262 801.68,111.392 814.76,109.66 827.84,108.056 840.92,106.571 854,105.196 867.08,103.923 880.16,102.744 893.24,101.652 906.32,100.642 919.4,99.7057 932.48,98.839 945.56,98.0364 958.64,97.2934 971.72,96.6053 984.8,95.9682 997.88,95.3783 1010.96,94.8319 1024.04,94.3261 1037.12,93.8578 1050.2,93.4241 1063.28,93.0224 1076.36,92.6506 1089.44,92.3063 1102.52,91.9874 1115.6,91.6922 1128.68,91.4189 1141.76,91.1657 1154.84,90.9313 1167.92,90.7143 1181,90.5134 1194.08,90.3273 1207.16,90.1549 1220.24,89.9954 1233.32,89.8477 1246.4,89.7109 1259.48,89.5842 1272.56,89.4669 1285.64,89.3583 1298.72,89.2577 1311.8,89.1646 1324.88,89.0784 1337.96,88.9986 1351.04,88.9246 1364.12,88.8561 1377.2,88.7928 1390.28,88.7341 1403.36,88.6797 1416.44,88.6294 1429.52,88.5828 1442.6,88.5397 1455.68,88.4997 1468.76,88.4627 1481.84,88.4284 1494.92,88.3967 1508,88.3674 \" />\n",
       "</g>\n",
       "</g>\n",
       "</svg>\n"
      ]
     },
     "metadata": {},
     "output_type": "display_data"
    }
   ],
   "source": [
    "% Plot impulse response\n",
    "impulse(G, Tfinal)\n",
    "% Label y axis\n",
    "ylabel('x(t) [metres]'),grid"
   ]
  },
  {
   "cell_type": "markdown",
   "id": "8fe164e9",
   "metadata": {
    "slideshow": {
     "slide_type": "notes"
    }
   },
   "source": [
    "### Reflect\n",
    "\n",
    "![reflect](images/reflect.png)\n",
    "\n",
    "- How does the impulse response compare to your prediction for the impulse response?\n",
    "- Physically, what does the long-term behavior of the impulse response represent?\n",
    "- Define the velocity transfer function $\\displaystyle{H(s) = \\frac{1}{ms + k}}$ and compute the impulse response in the space below. Physically, what does the limiting behaviour represent?"
   ]
  },
  {
   "cell_type": "code",
   "execution_count": 29,
   "id": "3afcfb03",
   "metadata": {
    "slideshow": {
     "slide_type": "notes"
    }
   },
   "outputs": [
    {
     "data": {
      "image/svg+xml": [
       "<?xml version=\"1.0\" encoding=\"UTF-8\" standalone=\"no\"?>\n",
       "<svg width=\"294.217mm\" height=\"177.094mm\"\n",
       " viewBox=\"0 0 834 502\"\n",
       " xmlns=\"http://www.w3.org/2000/svg\" xmlns:xlink=\"http://www.w3.org/1999/xlink\"  version=\"1.2\" baseProfile=\"tiny\">\n",
       "<title>Qt SVG Document</title>\n",
       "<desc>MATLAB, The MathWorks, Inc. Version 25.1.0.2833191 R2025a Prerelease Update 2</desc>\n",
       "<defs>\n",
       "</defs>\n",
       "<g fill=\"none\" stroke=\"black\" stroke-width=\"1\" fill-rule=\"evenodd\" stroke-linecap=\"square\" stroke-linejoin=\"bevel\" >\n",
       "\n",
       "<g fill=\"#ffffff\" fill-opacity=\"1\" stroke=\"none\" transform=\"matrix(0.49985,0,0,0.499751,0,0)\"\n",
       "font-family=\".AppleSystemUIFont\" font-size=\"13\" font-weight=\"400\" font-style=\"normal\" \n",
       ">\n",
       "<path vector-effect=\"none\" fill-rule=\"evenodd\" d=\"M0,0 L1668,0 L1668,1005 L0,1005 L0,0\"/>\n",
       "</g>\n",
       "\n",
       "<g fill=\"#212121\" fill-opacity=\"1\" stroke=\"#212121\" stroke-opacity=\"1\" stroke-width=\"1\" stroke-linecap=\"square\" stroke-linejoin=\"bevel\" transform=\"matrix(0.49985,0,0,0.499751,378.319,17.991)\"\n",
       "font-family=\"Helvetica\" font-size=\"22\" font-weight=\"700\" font-style=\"normal\" \n",
       ">\n",
       "<text fill=\"#212121\" fill-opacity=\"1\" stroke=\"none\" xml:space=\"preserve\" x=\"0\" y=\"-0.0625\" font-family=\"Helvetica\" font-size=\"22\" font-weight=\"700\" font-style=\"normal\" \n",
       " >Impulse Response</text>\n",
       "</g>\n",
       "\n",
       "<g fill=\"#212121\" fill-opacity=\"1\" stroke=\"#212121\" stroke-opacity=\"1\" stroke-width=\"1\" stroke-linecap=\"square\" stroke-linejoin=\"bevel\" transform=\"matrix(0.49985,0,0,0.499751,389.066,474.099)\"\n",
       "font-family=\"Helvetica\" font-size=\"22\" font-weight=\"400\" font-style=\"normal\" \n",
       ">\n",
       "<text fill=\"#212121\" fill-opacity=\"1\" stroke=\"none\" xml:space=\"preserve\" x=\"0\" y=\"-0.0625\" font-family=\"Helvetica\" font-size=\"22\" font-weight=\"400\" font-style=\"normal\" \n",
       " >Time (seconds)</text>\n",
       "</g>\n",
       "\n",
       "<g fill=\"#212121\" fill-opacity=\"1\" stroke=\"#212121\" stroke-opacity=\"1\" stroke-width=\"1\" stroke-linecap=\"square\" stroke-linejoin=\"bevel\" transform=\"matrix(0,-0.499751,0.49985,0,68.7294,282.777)\"\n",
       "font-family=\"Helvetica\" font-size=\"22\" font-weight=\"400\" font-style=\"normal\" \n",
       ">\n",
       "<text fill=\"#212121\" fill-opacity=\"1\" stroke=\"none\" xml:space=\"preserve\" x=\"0\" y=\"-0.0625\" font-family=\"Helvetica\" font-size=\"22\" font-weight=\"400\" font-style=\"normal\" \n",
       " >v(t) [metres/s]</text>\n",
       "</g>\n",
       "\n",
       "<g fill=\"#ffffff\" fill-opacity=\"1\" stroke=\"none\" transform=\"matrix(4.9985e-05,0,0,4.99751e-05,0,0)\"\n",
       "font-family=\"Helvetica\" font-size=\"22\" font-weight=\"400\" font-style=\"normal\" \n",
       ">\n",
       "<path vector-effect=\"none\" fill-rule=\"evenodd\" d=\"M2e+06,1.05e+06 L2e+06,8.93e+06 L1.508e+07,8.93e+06 L1.508e+07,1.05e+06 L2e+06,1.05e+06\"/>\n",
       "</g>\n",
       "\n",
       "<g fill=\"#212121\" fill-opacity=\"0.14902\" stroke=\"#212121\" stroke-opacity=\"0.14902\" stroke-width=\"1\" stroke-linecap=\"butt\" stroke-linejoin=\"round\" transform=\"matrix(0.49985,0,0,0.499751,0,0)\"\n",
       "font-family=\"Helvetica\" font-size=\"22\" font-weight=\"400\" font-style=\"normal\" \n",
       ">\n",
       "<polyline fill=\"none\" vector-effect=\"none\" points=\"200,105 200,893 \" />\n",
       "<polyline fill=\"none\" vector-effect=\"none\" points=\"330.8,105 330.8,893 \" />\n",
       "<polyline fill=\"none\" vector-effect=\"none\" points=\"461.6,105 461.6,893 \" />\n",
       "<polyline fill=\"none\" vector-effect=\"none\" points=\"592.4,105 592.4,893 \" />\n",
       "<polyline fill=\"none\" vector-effect=\"none\" points=\"723.2,105 723.2,893 \" />\n",
       "<polyline fill=\"none\" vector-effect=\"none\" points=\"854,105 854,893 \" />\n",
       "<polyline fill=\"none\" vector-effect=\"none\" points=\"984.8,105 984.8,893 \" />\n",
       "<polyline fill=\"none\" vector-effect=\"none\" points=\"1115.6,105 1115.6,893 \" />\n",
       "<polyline fill=\"none\" vector-effect=\"none\" points=\"1246.4,105 1246.4,893 \" />\n",
       "<polyline fill=\"none\" vector-effect=\"none\" points=\"1377.2,105 1377.2,893 \" />\n",
       "<polyline fill=\"none\" vector-effect=\"none\" points=\"1508,105 1508,893 \" />\n",
       "<polyline fill=\"none\" vector-effect=\"none\" points=\"200,893 1508,893 \" />\n",
       "<polyline fill=\"none\" vector-effect=\"none\" points=\"200,794.5 1508,794.5 \" />\n",
       "<polyline fill=\"none\" vector-effect=\"none\" points=\"200,696 1508,696 \" />\n",
       "<polyline fill=\"none\" vector-effect=\"none\" points=\"200,597.5 1508,597.5 \" />\n",
       "<polyline fill=\"none\" vector-effect=\"none\" points=\"200,499 1508,499 \" />\n",
       "<polyline fill=\"none\" vector-effect=\"none\" points=\"200,400.5 1508,400.5 \" />\n",
       "<polyline fill=\"none\" vector-effect=\"none\" points=\"200,302 1508,302 \" />\n",
       "<polyline fill=\"none\" vector-effect=\"none\" points=\"200,203.5 1508,203.5 \" />\n",
       "<polyline fill=\"none\" vector-effect=\"none\" points=\"200,105 1508,105 \" />\n",
       "</g>\n",
       "\n",
       "<g fill=\"#616161\" fill-opacity=\"1\" stroke=\"#616161\" stroke-opacity=\"1\" stroke-width=\"1\" stroke-linecap=\"square\" stroke-linejoin=\"round\" transform=\"matrix(0.49985,0,0,0.499751,0,0)\"\n",
       "font-family=\"Helvetica\" font-size=\"22\" font-weight=\"400\" font-style=\"normal\" \n",
       ">\n",
       "<polyline fill=\"none\" vector-effect=\"none\" points=\"200,893 1508,893 \" />\n",
       "<polyline fill=\"none\" vector-effect=\"none\" points=\"200,105 1508,105 \" />\n",
       "<polyline fill=\"none\" vector-effect=\"none\" points=\"200,893 200,879.92 \" />\n",
       "<polyline fill=\"none\" vector-effect=\"none\" points=\"330.8,893 330.8,879.92 \" />\n",
       "<polyline fill=\"none\" vector-effect=\"none\" points=\"461.6,893 461.6,879.92 \" />\n",
       "<polyline fill=\"none\" vector-effect=\"none\" points=\"592.4,893 592.4,879.92 \" />\n",
       "<polyline fill=\"none\" vector-effect=\"none\" points=\"723.2,893 723.2,879.92 \" />\n",
       "<polyline fill=\"none\" vector-effect=\"none\" points=\"854,893 854,879.92 \" />\n",
       "<polyline fill=\"none\" vector-effect=\"none\" points=\"984.8,893 984.8,879.92 \" />\n",
       "<polyline fill=\"none\" vector-effect=\"none\" points=\"1115.6,893 1115.6,879.92 \" />\n",
       "<polyline fill=\"none\" vector-effect=\"none\" points=\"1246.4,893 1246.4,879.92 \" />\n",
       "<polyline fill=\"none\" vector-effect=\"none\" points=\"1377.2,893 1377.2,879.92 \" />\n",
       "<polyline fill=\"none\" vector-effect=\"none\" points=\"1508,893 1508,879.92 \" />\n",
       "<polyline fill=\"none\" vector-effect=\"none\" points=\"200,105 200,118.08 \" />\n",
       "<polyline fill=\"none\" vector-effect=\"none\" points=\"330.8,105 330.8,118.08 \" />\n",
       "<polyline fill=\"none\" vector-effect=\"none\" points=\"461.6,105 461.6,118.08 \" />\n",
       "<polyline fill=\"none\" vector-effect=\"none\" points=\"592.4,105 592.4,118.08 \" />\n",
       "<polyline fill=\"none\" vector-effect=\"none\" points=\"723.2,105 723.2,118.08 \" />\n",
       "<polyline fill=\"none\" vector-effect=\"none\" points=\"854,105 854,118.08 \" />\n",
       "<polyline fill=\"none\" vector-effect=\"none\" points=\"984.8,105 984.8,118.08 \" />\n",
       "<polyline fill=\"none\" vector-effect=\"none\" points=\"1115.6,105 1115.6,118.08 \" />\n",
       "<polyline fill=\"none\" vector-effect=\"none\" points=\"1246.4,105 1246.4,118.08 \" />\n",
       "<polyline fill=\"none\" vector-effect=\"none\" points=\"1377.2,105 1377.2,118.08 \" />\n",
       "<polyline fill=\"none\" vector-effect=\"none\" points=\"1508,105 1508,118.08 \" />\n",
       "</g>\n",
       "\n",
       "<g fill=\"#616161\" fill-opacity=\"1\" stroke=\"#616161\" stroke-opacity=\"1\" stroke-width=\"1\" stroke-linecap=\"square\" stroke-linejoin=\"bevel\" transform=\"matrix(0.49985,0,0,0.499751,97.2208,457.772)\"\n",
       "font-family=\"Helvetica\" font-size=\"20\" font-weight=\"400\" font-style=\"normal\" \n",
       ">\n",
       "<text fill=\"#616161\" fill-opacity=\"1\" stroke=\"none\" xml:space=\"preserve\" x=\"0\" y=\"0.390625\" font-family=\"Helvetica\" font-size=\"20\" font-weight=\"400\" font-style=\"normal\" \n",
       " >0</text>\n",
       "</g>\n",
       "\n",
       "<g fill=\"#616161\" fill-opacity=\"1\" stroke=\"#616161\" stroke-opacity=\"1\" stroke-width=\"1\" stroke-linecap=\"square\" stroke-linejoin=\"bevel\" transform=\"matrix(0.49985,0,0,0.499751,159.852,457.772)\"\n",
       "font-family=\"Helvetica\" font-size=\"20\" font-weight=\"400\" font-style=\"normal\" \n",
       ">\n",
       "<text fill=\"#616161\" fill-opacity=\"1\" stroke=\"none\" xml:space=\"preserve\" x=\"0\" y=\"0.390625\" font-family=\"Helvetica\" font-size=\"20\" font-weight=\"400\" font-style=\"normal\" \n",
       " >10</text>\n",
       "</g>\n",
       "\n",
       "<g fill=\"#616161\" fill-opacity=\"1\" stroke=\"#616161\" stroke-opacity=\"1\" stroke-width=\"1\" stroke-linecap=\"square\" stroke-linejoin=\"bevel\" transform=\"matrix(0.49985,0,0,0.499751,225.232,457.772)\"\n",
       "font-family=\"Helvetica\" font-size=\"20\" font-weight=\"400\" font-style=\"normal\" \n",
       ">\n",
       "<text fill=\"#616161\" fill-opacity=\"1\" stroke=\"none\" xml:space=\"preserve\" x=\"0\" y=\"0.390625\" font-family=\"Helvetica\" font-size=\"20\" font-weight=\"400\" font-style=\"normal\" \n",
       " >20</text>\n",
       "</g>\n",
       "\n",
       "<g fill=\"#616161\" fill-opacity=\"1\" stroke=\"#616161\" stroke-opacity=\"1\" stroke-width=\"1\" stroke-linecap=\"square\" stroke-linejoin=\"bevel\" transform=\"matrix(0.49985,0,0,0.499751,290.613,457.772)\"\n",
       "font-family=\"Helvetica\" font-size=\"20\" font-weight=\"400\" font-style=\"normal\" \n",
       ">\n",
       "<text fill=\"#616161\" fill-opacity=\"1\" stroke=\"none\" xml:space=\"preserve\" x=\"0\" y=\"0.390625\" font-family=\"Helvetica\" font-size=\"20\" font-weight=\"400\" font-style=\"normal\" \n",
       " >30</text>\n",
       "</g>\n",
       "\n",
       "<g fill=\"#616161\" fill-opacity=\"1\" stroke=\"#616161\" stroke-opacity=\"1\" stroke-width=\"1\" stroke-linecap=\"square\" stroke-linejoin=\"bevel\" transform=\"matrix(0.49985,0,0,0.499751,355.993,457.772)\"\n",
       "font-family=\"Helvetica\" font-size=\"20\" font-weight=\"400\" font-style=\"normal\" \n",
       ">\n",
       "<text fill=\"#616161\" fill-opacity=\"1\" stroke=\"none\" xml:space=\"preserve\" x=\"0\" y=\"0.390625\" font-family=\"Helvetica\" font-size=\"20\" font-weight=\"400\" font-style=\"normal\" \n",
       " >40</text>\n",
       "</g>\n",
       "\n",
       "<g fill=\"#616161\" fill-opacity=\"1\" stroke=\"#616161\" stroke-opacity=\"1\" stroke-width=\"1\" stroke-linecap=\"square\" stroke-linejoin=\"bevel\" transform=\"matrix(0.49985,0,0,0.499751,421.374,457.772)\"\n",
       "font-family=\"Helvetica\" font-size=\"20\" font-weight=\"400\" font-style=\"normal\" \n",
       ">\n",
       "<text fill=\"#616161\" fill-opacity=\"1\" stroke=\"none\" xml:space=\"preserve\" x=\"0\" y=\"0.390625\" font-family=\"Helvetica\" font-size=\"20\" font-weight=\"400\" font-style=\"normal\" \n",
       " >50</text>\n",
       "</g>\n",
       "\n",
       "<g fill=\"#616161\" fill-opacity=\"1\" stroke=\"#616161\" stroke-opacity=\"1\" stroke-width=\"1\" stroke-linecap=\"square\" stroke-linejoin=\"bevel\" transform=\"matrix(0.49985,0,0,0.499751,486.754,457.772)\"\n",
       "font-family=\"Helvetica\" font-size=\"20\" font-weight=\"400\" font-style=\"normal\" \n",
       ">\n",
       "<text fill=\"#616161\" fill-opacity=\"1\" stroke=\"none\" xml:space=\"preserve\" x=\"0\" y=\"0.390625\" font-family=\"Helvetica\" font-size=\"20\" font-weight=\"400\" font-style=\"normal\" \n",
       " >60</text>\n",
       "</g>\n",
       "\n",
       "<g fill=\"#616161\" fill-opacity=\"1\" stroke=\"#616161\" stroke-opacity=\"1\" stroke-width=\"1\" stroke-linecap=\"square\" stroke-linejoin=\"bevel\" transform=\"matrix(0.49985,0,0,0.499751,552.134,457.772)\"\n",
       "font-family=\"Helvetica\" font-size=\"20\" font-weight=\"400\" font-style=\"normal\" \n",
       ">\n",
       "<text fill=\"#616161\" fill-opacity=\"1\" stroke=\"none\" xml:space=\"preserve\" x=\"0\" y=\"0.390625\" font-family=\"Helvetica\" font-size=\"20\" font-weight=\"400\" font-style=\"normal\" \n",
       " >70</text>\n",
       "</g>\n",
       "\n",
       "<g fill=\"#616161\" fill-opacity=\"1\" stroke=\"#616161\" stroke-opacity=\"1\" stroke-width=\"1\" stroke-linecap=\"square\" stroke-linejoin=\"bevel\" transform=\"matrix(0.49985,0,0,0.499751,617.515,457.772)\"\n",
       "font-family=\"Helvetica\" font-size=\"20\" font-weight=\"400\" font-style=\"normal\" \n",
       ">\n",
       "<text fill=\"#616161\" fill-opacity=\"1\" stroke=\"none\" xml:space=\"preserve\" x=\"0\" y=\"0.390625\" font-family=\"Helvetica\" font-size=\"20\" font-weight=\"400\" font-style=\"normal\" \n",
       " >80</text>\n",
       "</g>\n",
       "\n",
       "<g fill=\"#616161\" fill-opacity=\"1\" stroke=\"#616161\" stroke-opacity=\"1\" stroke-width=\"1\" stroke-linecap=\"square\" stroke-linejoin=\"bevel\" transform=\"matrix(0.49985,0,0,0.499751,682.895,457.772)\"\n",
       "font-family=\"Helvetica\" font-size=\"20\" font-weight=\"400\" font-style=\"normal\" \n",
       ">\n",
       "<text fill=\"#616161\" fill-opacity=\"1\" stroke=\"none\" xml:space=\"preserve\" x=\"0\" y=\"0.390625\" font-family=\"Helvetica\" font-size=\"20\" font-weight=\"400\" font-style=\"normal\" \n",
       " >90</text>\n",
       "</g>\n",
       "\n",
       "<g fill=\"#616161\" fill-opacity=\"1\" stroke=\"#616161\" stroke-opacity=\"1\" stroke-width=\"1\" stroke-linecap=\"square\" stroke-linejoin=\"bevel\" transform=\"matrix(0.49985,0,0,0.499751,745.526,457.772)\"\n",
       "font-family=\"Helvetica\" font-size=\"20\" font-weight=\"400\" font-style=\"normal\" \n",
       ">\n",
       "<text fill=\"#616161\" fill-opacity=\"1\" stroke=\"none\" xml:space=\"preserve\" x=\"0\" y=\"0.390625\" font-family=\"Helvetica\" font-size=\"20\" font-weight=\"400\" font-style=\"normal\" \n",
       " >100</text>\n",
       "</g>\n",
       "\n",
       "<g fill=\"#616161\" fill-opacity=\"1\" stroke=\"#616161\" stroke-opacity=\"1\" stroke-width=\"1\" stroke-linecap=\"square\" stroke-linejoin=\"round\" transform=\"matrix(0.49985,0,0,0.499751,0,0)\"\n",
       "font-family=\"Helvetica\" font-size=\"20\" font-weight=\"400\" font-style=\"normal\" \n",
       ">\n",
       "<polyline fill=\"none\" vector-effect=\"none\" points=\"200,893 200,105 \" />\n",
       "<polyline fill=\"none\" vector-effect=\"none\" points=\"1508,893 1508,105 \" />\n",
       "<polyline fill=\"none\" vector-effect=\"none\" points=\"200,893 213.08,893 \" />\n",
       "<polyline fill=\"none\" vector-effect=\"none\" points=\"200,794.5 213.08,794.5 \" />\n",
       "<polyline fill=\"none\" vector-effect=\"none\" points=\"200,696 213.08,696 \" />\n",
       "<polyline fill=\"none\" vector-effect=\"none\" points=\"200,597.5 213.08,597.5 \" />\n",
       "<polyline fill=\"none\" vector-effect=\"none\" points=\"200,499 213.08,499 \" />\n",
       "<polyline fill=\"none\" vector-effect=\"none\" points=\"200,400.5 213.08,400.5 \" />\n",
       "<polyline fill=\"none\" vector-effect=\"none\" points=\"200,302 213.08,302 \" />\n",
       "<polyline fill=\"none\" vector-effect=\"none\" points=\"200,203.5 213.08,203.5 \" />\n",
       "<polyline fill=\"none\" vector-effect=\"none\" points=\"200,105 213.08,105 \" />\n",
       "<polyline fill=\"none\" vector-effect=\"none\" points=\"1508,893 1494.92,893 \" />\n",
       "<polyline fill=\"none\" vector-effect=\"none\" points=\"1508,794.5 1494.92,794.5 \" />\n",
       "<polyline fill=\"none\" vector-effect=\"none\" points=\"1508,696 1494.92,696 \" />\n",
       "<polyline fill=\"none\" vector-effect=\"none\" points=\"1508,597.5 1494.92,597.5 \" />\n",
       "<polyline fill=\"none\" vector-effect=\"none\" points=\"1508,499 1494.92,499 \" />\n",
       "<polyline fill=\"none\" vector-effect=\"none\" points=\"1508,400.5 1494.92,400.5 \" />\n",
       "<polyline fill=\"none\" vector-effect=\"none\" points=\"1508,302 1494.92,302 \" />\n",
       "<polyline fill=\"none\" vector-effect=\"none\" points=\"1508,203.5 1494.92,203.5 \" />\n",
       "<polyline fill=\"none\" vector-effect=\"none\" points=\"1508,105 1494.92,105 \" />\n",
       "</g>\n",
       "\n",
       "<g fill=\"#616161\" fill-opacity=\"1\" stroke=\"#616161\" stroke-opacity=\"1\" stroke-width=\"1\" stroke-linecap=\"square\" stroke-linejoin=\"bevel\" transform=\"matrix(0.49985,0,0,0.499751,90.4729,448.776)\"\n",
       "font-family=\"Helvetica\" font-size=\"20\" font-weight=\"400\" font-style=\"normal\" \n",
       ">\n",
       "<text fill=\"#616161\" fill-opacity=\"1\" stroke=\"none\" xml:space=\"preserve\" x=\"0\" y=\"0.390625\" font-family=\"Helvetica\" font-size=\"20\" font-weight=\"400\" font-style=\"normal\" \n",
       " >0</text>\n",
       "</g>\n",
       "\n",
       "<g fill=\"#616161\" fill-opacity=\"1\" stroke=\"#616161\" stroke-opacity=\"1\" stroke-width=\"1\" stroke-linecap=\"square\" stroke-linejoin=\"bevel\" transform=\"matrix(0.49985,0,0,0.499751,90.4729,399.551)\"\n",
       "font-family=\"Helvetica\" font-size=\"20\" font-weight=\"400\" font-style=\"normal\" \n",
       ">\n",
       "<text fill=\"#616161\" fill-opacity=\"1\" stroke=\"none\" xml:space=\"preserve\" x=\"0\" y=\"0.390625\" font-family=\"Helvetica\" font-size=\"20\" font-weight=\"400\" font-style=\"normal\" \n",
       " >1</text>\n",
       "</g>\n",
       "\n",
       "<g fill=\"#616161\" fill-opacity=\"1\" stroke=\"#616161\" stroke-opacity=\"1\" stroke-width=\"1\" stroke-linecap=\"square\" stroke-linejoin=\"bevel\" transform=\"matrix(0.49985,0,0,0.499751,90.4729,350.325)\"\n",
       "font-family=\"Helvetica\" font-size=\"20\" font-weight=\"400\" font-style=\"normal\" \n",
       ">\n",
       "<text fill=\"#616161\" fill-opacity=\"1\" stroke=\"none\" xml:space=\"preserve\" x=\"0\" y=\"0.390625\" font-family=\"Helvetica\" font-size=\"20\" font-weight=\"400\" font-style=\"normal\" \n",
       " >2</text>\n",
       "</g>\n",
       "\n",
       "<g fill=\"#616161\" fill-opacity=\"1\" stroke=\"#616161\" stroke-opacity=\"1\" stroke-width=\"1\" stroke-linecap=\"square\" stroke-linejoin=\"bevel\" transform=\"matrix(0.49985,0,0,0.499751,90.4729,301.1)\"\n",
       "font-family=\"Helvetica\" font-size=\"20\" font-weight=\"400\" font-style=\"normal\" \n",
       ">\n",
       "<text fill=\"#616161\" fill-opacity=\"1\" stroke=\"none\" xml:space=\"preserve\" x=\"0\" y=\"0.390625\" font-family=\"Helvetica\" font-size=\"20\" font-weight=\"400\" font-style=\"normal\" \n",
       " >3</text>\n",
       "</g>\n",
       "\n",
       "<g fill=\"#616161\" fill-opacity=\"1\" stroke=\"#616161\" stroke-opacity=\"1\" stroke-width=\"1\" stroke-linecap=\"square\" stroke-linejoin=\"bevel\" transform=\"matrix(0.49985,0,0,0.499751,90.4729,251.875)\"\n",
       "font-family=\"Helvetica\" font-size=\"20\" font-weight=\"400\" font-style=\"normal\" \n",
       ">\n",
       "<text fill=\"#616161\" fill-opacity=\"1\" stroke=\"none\" xml:space=\"preserve\" x=\"0\" y=\"0.390625\" font-family=\"Helvetica\" font-size=\"20\" font-weight=\"400\" font-style=\"normal\" \n",
       " >4</text>\n",
       "</g>\n",
       "\n",
       "<g fill=\"#616161\" fill-opacity=\"1\" stroke=\"#616161\" stroke-opacity=\"1\" stroke-width=\"1\" stroke-linecap=\"square\" stroke-linejoin=\"bevel\" transform=\"matrix(0.49985,0,0,0.499751,90.4729,202.649)\"\n",
       "font-family=\"Helvetica\" font-size=\"20\" font-weight=\"400\" font-style=\"normal\" \n",
       ">\n",
       "<text fill=\"#616161\" fill-opacity=\"1\" stroke=\"none\" xml:space=\"preserve\" x=\"0\" y=\"0.390625\" font-family=\"Helvetica\" font-size=\"20\" font-weight=\"400\" font-style=\"normal\" \n",
       " >5</text>\n",
       "</g>\n",
       "\n",
       "<g fill=\"#616161\" fill-opacity=\"1\" stroke=\"#616161\" stroke-opacity=\"1\" stroke-width=\"1\" stroke-linecap=\"square\" stroke-linejoin=\"bevel\" transform=\"matrix(0.49985,0,0,0.499751,90.4729,153.424)\"\n",
       "font-family=\"Helvetica\" font-size=\"20\" font-weight=\"400\" font-style=\"normal\" \n",
       ">\n",
       "<text fill=\"#616161\" fill-opacity=\"1\" stroke=\"none\" xml:space=\"preserve\" x=\"0\" y=\"0.390625\" font-family=\"Helvetica\" font-size=\"20\" font-weight=\"400\" font-style=\"normal\" \n",
       " >6</text>\n",
       "</g>\n",
       "\n",
       "<g fill=\"#616161\" fill-opacity=\"1\" stroke=\"#616161\" stroke-opacity=\"1\" stroke-width=\"1\" stroke-linecap=\"square\" stroke-linejoin=\"bevel\" transform=\"matrix(0.49985,0,0,0.499751,90.4729,104.198)\"\n",
       "font-family=\"Helvetica\" font-size=\"20\" font-weight=\"400\" font-style=\"normal\" \n",
       ">\n",
       "<text fill=\"#616161\" fill-opacity=\"1\" stroke=\"none\" xml:space=\"preserve\" x=\"0\" y=\"0.390625\" font-family=\"Helvetica\" font-size=\"20\" font-weight=\"400\" font-style=\"normal\" \n",
       " >7</text>\n",
       "</g>\n",
       "\n",
       "<g fill=\"#616161\" fill-opacity=\"1\" stroke=\"#616161\" stroke-opacity=\"1\" stroke-width=\"1\" stroke-linecap=\"square\" stroke-linejoin=\"bevel\" transform=\"matrix(0.49985,0,0,0.499751,90.4729,54.9726)\"\n",
       "font-family=\"Helvetica\" font-size=\"20\" font-weight=\"400\" font-style=\"normal\" \n",
       ">\n",
       "<text fill=\"#616161\" fill-opacity=\"1\" stroke=\"none\" xml:space=\"preserve\" x=\"0\" y=\"0.390625\" font-family=\"Helvetica\" font-size=\"20\" font-weight=\"400\" font-style=\"normal\" \n",
       " >8</text>\n",
       "</g>\n",
       "\n",
       "<g fill=\"#616161\" fill-opacity=\"1\" stroke=\"#616161\" stroke-opacity=\"1\" stroke-width=\"1\" stroke-linecap=\"square\" stroke-linejoin=\"bevel\" transform=\"matrix(0.49985,0,0,0.499751,99.97,49.9751)\"\n",
       "font-family=\"mwb_cmsy10\" font-size=\"20\" font-weight=\"400\" font-style=\"normal\" \n",
       ">\n",
       "<text fill=\"#616161\" fill-opacity=\"1\" stroke=\"none\" xml:space=\"preserve\" x=\"0\" y=\"0.109375\" font-family=\"mwb_cmsy10\" font-size=\"20\" font-weight=\"400\" font-style=\"normal\" \n",
       " >#</text>\n",
       "</g>\n",
       "\n",
       "<g fill=\"#616161\" fill-opacity=\"1\" stroke=\"#616161\" stroke-opacity=\"1\" stroke-width=\"1\" stroke-linecap=\"square\" stroke-linejoin=\"bevel\" transform=\"matrix(0.49985,0,0,0.499751,107.968,49.9751)\"\n",
       "font-family=\"Helvetica\" font-size=\"20\" font-weight=\"400\" font-style=\"normal\" \n",
       ">\n",
       "<text fill=\"#616161\" fill-opacity=\"1\" stroke=\"none\" xml:space=\"preserve\" x=\"0\" y=\"0.390625\" font-family=\"Helvetica\" font-size=\"20\" font-weight=\"400\" font-style=\"normal\" \n",
       " >10</text>\n",
       "</g>\n",
       "\n",
       "<g fill=\"#616161\" fill-opacity=\"1\" stroke=\"#616161\" stroke-opacity=\"1\" stroke-width=\"1\" stroke-linecap=\"square\" stroke-linejoin=\"bevel\" transform=\"matrix(0.49985,0,0,0.499751,118.964,44.9776)\"\n",
       "font-family=\"Helvetica\" font-size=\"16\" font-weight=\"400\" font-style=\"normal\" \n",
       ">\n",
       "<text fill=\"#616161\" fill-opacity=\"1\" stroke=\"none\" xml:space=\"preserve\" x=\"0\" y=\"0.3125\" font-family=\"Helvetica\" font-size=\"16\" font-weight=\"400\" font-style=\"normal\" \n",
       " >-4</text>\n",
       "</g>\n",
       "\n",
       "<g fill=\"#7d7d7d\" fill-opacity=\"0.701961\" stroke=\"#7d7d7d\" stroke-opacity=\"0.701961\" stroke-dasharray=\"1,3\" stroke-dashoffset=\"0\" stroke-width=\"1\" stroke-linecap=\"butt\" stroke-linejoin=\"round\" transform=\"matrix(0.49985,0,0,0.499751,0,0)\"\n",
       "font-family=\"Helvetica\" font-size=\"16\" font-weight=\"400\" font-style=\"normal\" \n",
       ">\n",
       "<polyline fill=\"none\" vector-effect=\"none\" points=\"200,893 1508,893 \" />\n",
       "</g>\n",
       "\n",
       "<g fill=\"none\" stroke=\"#1171be\" stroke-opacity=\"1\" stroke-width=\"1\" stroke-linecap=\"butt\" stroke-linejoin=\"round\" transform=\"matrix(0.49985,0,0,0.499751,0,0)\"\n",
       "font-family=\"Helvetica\" font-size=\"16\" font-weight=\"400\" font-style=\"normal\" \n",
       ">\n",
       "<polyline fill=\"none\" vector-effect=\"none\" points=\"200,135.308 213.08,191.406 226.16,243.352 239.24,291.451 252.32,335.989 265.4,377.229 278.48,415.417 291.56,450.776 304.64,483.518 317.72,513.836 330.8,541.909 343.88,567.903 356.96,591.973 370.04,614.261 383.12,634.898 396.2,654.008 409.28,671.702 422.36,688.087 435.44,703.259 448.52,717.307 461.6,730.315 474.68,742.36 487.76,753.513 500.84,763.841 513.92,773.404 527,782.258 540.08,790.458 553.16,798.05 566.24,805.08 579.32,811.589 592.4,817.617 605.48,823.198 618.56,828.366 631.64,833.152 644.72,837.583 657.8,841.686 670.88,845.485 683.96,849.003 697.04,852.26 710.12,855.277 723.2,858.07 736.28,860.656 749.36,863.051 762.44,865.268 775.52,867.321 788.6,869.223 801.68,870.983 814.76,872.613 827.84,874.122 840.92,875.52 854,876.814 867.08,878.013 880.16,879.122 893.24,880.15 906.32,881.101 919.4,881.982 932.48,882.798 945.56,883.553 958.64,884.253 971.72,884.9 984.8,885.5 997.88,886.055 1010.96,886.57 1024.04,887.046 1037.12,887.487 1050.2,887.895 1063.28,888.273 1076.36,888.623 1089.44,888.947 1102.52,889.247 1115.6,889.525 1128.68,889.782 1141.76,890.02 1154.84,890.241 1167.92,890.445 1181,890.634 1194.08,890.81 1207.16,890.972 1220.24,891.122 1233.32,891.261 1246.4,891.39 1259.48,891.509 1272.56,891.619 1285.64,891.722 1298.72,891.816 1311.8,891.904 1324.88,891.985 1337.96,892.06 1351.04,892.13 1364.12,892.194 1377.2,892.254 1390.28,892.309 1403.36,892.36 1416.44,892.408 1429.52,892.451 1442.6,892.492 1455.68,892.53 1468.76,892.565 1481.84,892.597 1494.92,892.627 1508,892.654 \" />\n",
       "</g>\n",
       "</g>\n",
       "</svg>\n"
      ]
     },
     "metadata": {},
     "output_type": "display_data"
    }
   ],
   "source": [
    "% Velocity TF\n",
    "num = 1;\n",
    "den = [m, k];\n",
    "G2 = tf(num,den);\n",
    "\n",
    "impulse(G2, Tfinal),ylabel('v(t) [metres/s]'),grid"
   ]
  },
  {
   "cell_type": "markdown",
   "id": "32bd9db4",
   "metadata": {
    "slideshow": {
     "slide_type": "slide"
    }
   },
   "source": [
    "## Step response\n",
    "\n",
    "The output generated from a step input is known as the step response.\n",
    "\n",
    "![Response of a system to a step input](images/step_resp.png)\n",
    "Response of a system to a step input.\n",
    "\n",
    "The step response is plotted in the time domain. Think of the step response as the system's response to a sustained constant forcing. In the vehicle model, this would result from continuously running the motor (with the assumption that it produced a constant traction force output)."
   ]
  },
  {
   "cell_type": "markdown",
   "id": "c2dad90a",
   "metadata": {
    "slideshow": {
     "slide_type": "subslide"
    }
   },
   "source": [
    "### Reflect\n",
    "\n",
    "![reflect](images/reflect.png)\n",
    "\n",
    "Consider the simple vehicle motion model. The input function is the traction force $u(t) = F_\\mathrm{traction}(t)$.\n",
    "\n",
    "![A model of a simple vehicle](images/vehicle_model.png)\n",
    "\n",
    "- Try drawing a plot of the step response of the position transfer function $G(s) = X(s)/F(s)$ in the time domain.\n",
    "- Try drawing a plot of the step response of the velocity transfer function $H(s) = V(s)/F(s)$ in the time domain."
   ]
  },
  {
   "cell_type": "markdown",
   "id": "ea7ea474",
   "metadata": {
    "slideshow": {
     "slide_type": "subslide"
    }
   },
   "source": [
    "### Exercise 4\n",
    "\n",
    "Consider a simple vehicle with a mass of 1300 kg and a frictional constant of proportionality of $k = 100$ N.s/m. Recall that the simple vehicle motion model has a transfer function:\n",
    "\n",
    "$$G(s) = \\frac{X(s)}{F(s)} = \\frac{1}{ms^2 + ks}$$"
   ]
  },
  {
   "cell_type": "markdown",
   "id": "88c287c5",
   "metadata": {
    "slideshow": {
     "slide_type": "subslide"
    }
   },
   "source": [
    "Define the transfer function `G` in MATLAB using the `tf` function and then plot the step response for the first 30 seconds using the `step` function. The step function has the syntax\n",
    "\n",
    "```matlab\n",
    "step(sys,Tfinal)\n",
    "```\n",
    "\n",
    "where `sys` is a dynamic system (here, that's the transfer function `G`) and `Tfinal` is the time to stop the simulation."
   ]
  },
  {
   "cell_type": "code",
   "execution_count": 30,
   "id": "276b0254",
   "metadata": {
    "slideshow": {
     "slide_type": "subslide"
    }
   },
   "outputs": [],
   "source": [
    "% parametershttp://localhost:8888/nbclassic/notebooks/2/transfer_function_basics.md#\n",
    "m = 1300;    % kg\n",
    "k = 100;     % N.s/m\n",
    "Tfinal = 30; % seconds\n",
    "\n",
    "% transfer function\n",
    "num = 1;\n",
    "den = [m, k, 0];"
   ]
  },
  {
   "cell_type": "markdown",
   "id": "c95a5c14",
   "metadata": {
    "slideshow": {
     "slide_type": "subslide"
    }
   },
   "source": [
    "##### Poll exercise 4"
   ]
  },
  {
   "cell_type": "code",
   "execution_count": 31,
   "id": "b070a715",
   "metadata": {
    "slideshow": {
     "slide_type": "-"
    }
   },
   "outputs": [],
   "source": [
    "G = tf(num,den);"
   ]
  },
  {
   "cell_type": "code",
   "execution_count": 32,
   "id": "32d9ad9f",
   "metadata": {
    "slideshow": {
     "slide_type": "-"
    }
   },
   "outputs": [
    {
     "data": {
      "image/svg+xml": [
       "<?xml version=\"1.0\" encoding=\"UTF-8\" standalone=\"no\"?>\n",
       "<svg width=\"294.217mm\" height=\"177.094mm\"\n",
       " viewBox=\"0 0 834 502\"\n",
       " xmlns=\"http://www.w3.org/2000/svg\" xmlns:xlink=\"http://www.w3.org/1999/xlink\"  version=\"1.2\" baseProfile=\"tiny\">\n",
       "<title>Qt SVG Document</title>\n",
       "<desc>MATLAB, The MathWorks, Inc. Version 25.1.0.2833191 R2025a Prerelease Update 2</desc>\n",
       "<defs>\n",
       "</defs>\n",
       "<g fill=\"none\" stroke=\"black\" stroke-width=\"1\" fill-rule=\"evenodd\" stroke-linecap=\"square\" stroke-linejoin=\"bevel\" >\n",
       "\n",
       "<g fill=\"#ffffff\" fill-opacity=\"1\" stroke=\"none\" transform=\"matrix(0.49985,0,0,0.499751,0,0)\"\n",
       "font-family=\".AppleSystemUIFont\" font-size=\"13\" font-weight=\"400\" font-style=\"normal\" \n",
       ">\n",
       "<path vector-effect=\"none\" fill-rule=\"evenodd\" d=\"M0,0 L1668,0 L1668,1005 L0,1005 L0,0\"/>\n",
       "</g>\n",
       "\n",
       "<g fill=\"#212121\" fill-opacity=\"1\" stroke=\"#212121\" stroke-opacity=\"1\" stroke-width=\"1\" stroke-linecap=\"square\" stroke-linejoin=\"bevel\" transform=\"matrix(0.49985,0,0,0.499751,387.066,17.991)\"\n",
       "font-family=\"Helvetica\" font-size=\"22\" font-weight=\"700\" font-style=\"normal\" \n",
       ">\n",
       "<text fill=\"#212121\" fill-opacity=\"1\" stroke=\"none\" xml:space=\"preserve\" x=\"0\" y=\"-0.0625\" font-family=\"Helvetica\" font-size=\"22\" font-weight=\"700\" font-style=\"normal\" \n",
       " >Step Response</text>\n",
       "</g>\n",
       "\n",
       "<g fill=\"#212121\" fill-opacity=\"1\" stroke=\"#212121\" stroke-opacity=\"1\" stroke-width=\"1\" stroke-linecap=\"square\" stroke-linejoin=\"bevel\" transform=\"matrix(0.49985,0,0,0.499751,389.066,474.099)\"\n",
       "font-family=\"Helvetica\" font-size=\"22\" font-weight=\"400\" font-style=\"normal\" \n",
       ">\n",
       "<text fill=\"#212121\" fill-opacity=\"1\" stroke=\"none\" xml:space=\"preserve\" x=\"0\" y=\"-0.0625\" font-family=\"Helvetica\" font-size=\"22\" font-weight=\"400\" font-style=\"normal\" \n",
       " >Time (seconds)</text>\n",
       "</g>\n",
       "\n",
       "<g fill=\"#212121\" fill-opacity=\"1\" stroke=\"#212121\" stroke-opacity=\"1\" stroke-width=\"1\" stroke-linecap=\"square\" stroke-linejoin=\"bevel\" transform=\"matrix(0,-0.499751,0.49985,0,55.2334,274.406)\"\n",
       "font-family=\"Helvetica\" font-size=\"22\" font-weight=\"400\" font-style=\"normal\" \n",
       ">\n",
       "<text fill=\"#212121\" fill-opacity=\"1\" stroke=\"none\" xml:space=\"preserve\" x=\"0\" y=\"-0.0625\" font-family=\"Helvetica\" font-size=\"22\" font-weight=\"400\" font-style=\"normal\" \n",
       " >x(t) [metres]</text>\n",
       "</g>\n",
       "\n",
       "<g fill=\"#ffffff\" fill-opacity=\"1\" stroke=\"none\" transform=\"matrix(4.9985e-05,0,0,4.99751e-05,0,0)\"\n",
       "font-family=\"Helvetica\" font-size=\"22\" font-weight=\"400\" font-style=\"normal\" \n",
       ">\n",
       "<path vector-effect=\"none\" fill-rule=\"evenodd\" d=\"M2e+06,880000 L2e+06,8.93e+06 L1.508e+07,8.93e+06 L1.508e+07,880000 L2e+06,880000\"/>\n",
       "</g>\n",
       "\n",
       "<g fill=\"#212121\" fill-opacity=\"0.14902\" stroke=\"#212121\" stroke-opacity=\"0.14902\" stroke-width=\"1\" stroke-linecap=\"butt\" stroke-linejoin=\"round\" transform=\"matrix(0.49985,0,0,0.499751,0,0)\"\n",
       "font-family=\"Helvetica\" font-size=\"22\" font-weight=\"400\" font-style=\"normal\" \n",
       ">\n",
       "<polyline fill=\"none\" vector-effect=\"none\" points=\"200,88 200,893 \" />\n",
       "<polyline fill=\"none\" vector-effect=\"none\" points=\"418,88 418,893 \" />\n",
       "<polyline fill=\"none\" vector-effect=\"none\" points=\"636,88 636,893 \" />\n",
       "<polyline fill=\"none\" vector-effect=\"none\" points=\"854,88 854,893 \" />\n",
       "<polyline fill=\"none\" vector-effect=\"none\" points=\"1072,88 1072,893 \" />\n",
       "<polyline fill=\"none\" vector-effect=\"none\" points=\"1290,88 1290,893 \" />\n",
       "<polyline fill=\"none\" vector-effect=\"none\" points=\"1508,88 1508,893 \" />\n",
       "<polyline fill=\"none\" vector-effect=\"none\" points=\"200,893 1508,893 \" />\n",
       "<polyline fill=\"none\" vector-effect=\"none\" points=\"200,812.5 1508,812.5 \" />\n",
       "<polyline fill=\"none\" vector-effect=\"none\" points=\"200,732 1508,732 \" />\n",
       "<polyline fill=\"none\" vector-effect=\"none\" points=\"200,651.5 1508,651.5 \" />\n",
       "<polyline fill=\"none\" vector-effect=\"none\" points=\"200,571 1508,571 \" />\n",
       "<polyline fill=\"none\" vector-effect=\"none\" points=\"200,490.5 1508,490.5 \" />\n",
       "<polyline fill=\"none\" vector-effect=\"none\" points=\"200,410 1508,410 \" />\n",
       "<polyline fill=\"none\" vector-effect=\"none\" points=\"200,329.5 1508,329.5 \" />\n",
       "<polyline fill=\"none\" vector-effect=\"none\" points=\"200,249 1508,249 \" />\n",
       "<polyline fill=\"none\" vector-effect=\"none\" points=\"200,168.5 1508,168.5 \" />\n",
       "<polyline fill=\"none\" vector-effect=\"none\" points=\"200,88 1508,88 \" />\n",
       "</g>\n",
       "\n",
       "<g fill=\"#616161\" fill-opacity=\"1\" stroke=\"#616161\" stroke-opacity=\"1\" stroke-width=\"1\" stroke-linecap=\"square\" stroke-linejoin=\"round\" transform=\"matrix(0.49985,0,0,0.499751,0,0)\"\n",
       "font-family=\"Helvetica\" font-size=\"22\" font-weight=\"400\" font-style=\"normal\" \n",
       ">\n",
       "<polyline fill=\"none\" vector-effect=\"none\" points=\"200,893 1508,893 \" />\n",
       "<polyline fill=\"none\" vector-effect=\"none\" points=\"200,88 1508,88 \" />\n",
       "<polyline fill=\"none\" vector-effect=\"none\" points=\"200,893 200,879.92 \" />\n",
       "<polyline fill=\"none\" vector-effect=\"none\" points=\"418,893 418,879.92 \" />\n",
       "<polyline fill=\"none\" vector-effect=\"none\" points=\"636,893 636,879.92 \" />\n",
       "<polyline fill=\"none\" vector-effect=\"none\" points=\"854,893 854,879.92 \" />\n",
       "<polyline fill=\"none\" vector-effect=\"none\" points=\"1072,893 1072,879.92 \" />\n",
       "<polyline fill=\"none\" vector-effect=\"none\" points=\"1290,893 1290,879.92 \" />\n",
       "<polyline fill=\"none\" vector-effect=\"none\" points=\"1508,893 1508,879.92 \" />\n",
       "<polyline fill=\"none\" vector-effect=\"none\" points=\"200,88 200,101.08 \" />\n",
       "<polyline fill=\"none\" vector-effect=\"none\" points=\"418,88 418,101.08 \" />\n",
       "<polyline fill=\"none\" vector-effect=\"none\" points=\"636,88 636,101.08 \" />\n",
       "<polyline fill=\"none\" vector-effect=\"none\" points=\"854,88 854,101.08 \" />\n",
       "<polyline fill=\"none\" vector-effect=\"none\" points=\"1072,88 1072,101.08 \" />\n",
       "<polyline fill=\"none\" vector-effect=\"none\" points=\"1290,88 1290,101.08 \" />\n",
       "<polyline fill=\"none\" vector-effect=\"none\" points=\"1508,88 1508,101.08 \" />\n",
       "</g>\n",
       "\n",
       "<g fill=\"#616161\" fill-opacity=\"1\" stroke=\"#616161\" stroke-opacity=\"1\" stroke-width=\"1\" stroke-linecap=\"square\" stroke-linejoin=\"bevel\" transform=\"matrix(0.49985,0,0,0.499751,97.2208,457.772)\"\n",
       "font-family=\"Helvetica\" font-size=\"20\" font-weight=\"400\" font-style=\"normal\" \n",
       ">\n",
       "<text fill=\"#616161\" fill-opacity=\"1\" stroke=\"none\" xml:space=\"preserve\" x=\"0\" y=\"0.390625\" font-family=\"Helvetica\" font-size=\"20\" font-weight=\"400\" font-style=\"normal\" \n",
       " >0</text>\n",
       "</g>\n",
       "\n",
       "<g fill=\"#616161\" fill-opacity=\"1\" stroke=\"#616161\" stroke-opacity=\"1\" stroke-width=\"1\" stroke-linecap=\"square\" stroke-linejoin=\"bevel\" transform=\"matrix(0.49985,0,0,0.499751,206.188,457.772)\"\n",
       "font-family=\"Helvetica\" font-size=\"20\" font-weight=\"400\" font-style=\"normal\" \n",
       ">\n",
       "<text fill=\"#616161\" fill-opacity=\"1\" stroke=\"none\" xml:space=\"preserve\" x=\"0\" y=\"0.390625\" font-family=\"Helvetica\" font-size=\"20\" font-weight=\"400\" font-style=\"normal\" \n",
       " >5</text>\n",
       "</g>\n",
       "\n",
       "<g fill=\"#616161\" fill-opacity=\"1\" stroke=\"#616161\" stroke-opacity=\"1\" stroke-width=\"1\" stroke-linecap=\"square\" stroke-linejoin=\"bevel\" transform=\"matrix(0.49985,0,0,0.499751,312.406,457.772)\"\n",
       "font-family=\"Helvetica\" font-size=\"20\" font-weight=\"400\" font-style=\"normal\" \n",
       ">\n",
       "<text fill=\"#616161\" fill-opacity=\"1\" stroke=\"none\" xml:space=\"preserve\" x=\"0\" y=\"0.390625\" font-family=\"Helvetica\" font-size=\"20\" font-weight=\"400\" font-style=\"normal\" \n",
       " >10</text>\n",
       "</g>\n",
       "\n",
       "<g fill=\"#616161\" fill-opacity=\"1\" stroke=\"#616161\" stroke-opacity=\"1\" stroke-width=\"1\" stroke-linecap=\"square\" stroke-linejoin=\"bevel\" transform=\"matrix(0.49985,0,0,0.499751,421.374,457.772)\"\n",
       "font-family=\"Helvetica\" font-size=\"20\" font-weight=\"400\" font-style=\"normal\" \n",
       ">\n",
       "<text fill=\"#616161\" fill-opacity=\"1\" stroke=\"none\" xml:space=\"preserve\" x=\"0\" y=\"0.390625\" font-family=\"Helvetica\" font-size=\"20\" font-weight=\"400\" font-style=\"normal\" \n",
       " >15</text>\n",
       "</g>\n",
       "\n",
       "<g fill=\"#616161\" fill-opacity=\"1\" stroke=\"#616161\" stroke-opacity=\"1\" stroke-width=\"1\" stroke-linecap=\"square\" stroke-linejoin=\"bevel\" transform=\"matrix(0.49985,0,0,0.499751,530.341,457.772)\"\n",
       "font-family=\"Helvetica\" font-size=\"20\" font-weight=\"400\" font-style=\"normal\" \n",
       ">\n",
       "<text fill=\"#616161\" fill-opacity=\"1\" stroke=\"none\" xml:space=\"preserve\" x=\"0\" y=\"0.390625\" font-family=\"Helvetica\" font-size=\"20\" font-weight=\"400\" font-style=\"normal\" \n",
       " >20</text>\n",
       "</g>\n",
       "\n",
       "<g fill=\"#616161\" fill-opacity=\"1\" stroke=\"#616161\" stroke-opacity=\"1\" stroke-width=\"1\" stroke-linecap=\"square\" stroke-linejoin=\"bevel\" transform=\"matrix(0.49985,0,0,0.499751,639.308,457.772)\"\n",
       "font-family=\"Helvetica\" font-size=\"20\" font-weight=\"400\" font-style=\"normal\" \n",
       ">\n",
       "<text fill=\"#616161\" fill-opacity=\"1\" stroke=\"none\" xml:space=\"preserve\" x=\"0\" y=\"0.390625\" font-family=\"Helvetica\" font-size=\"20\" font-weight=\"400\" font-style=\"normal\" \n",
       " >25</text>\n",
       "</g>\n",
       "\n",
       "<g fill=\"#616161\" fill-opacity=\"1\" stroke=\"#616161\" stroke-opacity=\"1\" stroke-width=\"1\" stroke-linecap=\"square\" stroke-linejoin=\"bevel\" transform=\"matrix(0.49985,0,0,0.499751,748.276,457.772)\"\n",
       "font-family=\"Helvetica\" font-size=\"20\" font-weight=\"400\" font-style=\"normal\" \n",
       ">\n",
       "<text fill=\"#616161\" fill-opacity=\"1\" stroke=\"none\" xml:space=\"preserve\" x=\"0\" y=\"0.390625\" font-family=\"Helvetica\" font-size=\"20\" font-weight=\"400\" font-style=\"normal\" \n",
       " >30</text>\n",
       "</g>\n",
       "\n",
       "<g fill=\"#616161\" fill-opacity=\"1\" stroke=\"#616161\" stroke-opacity=\"1\" stroke-width=\"1\" stroke-linecap=\"square\" stroke-linejoin=\"round\" transform=\"matrix(0.49985,0,0,0.499751,0,0)\"\n",
       "font-family=\"Helvetica\" font-size=\"20\" font-weight=\"400\" font-style=\"normal\" \n",
       ">\n",
       "<polyline fill=\"none\" vector-effect=\"none\" points=\"200,893 200,88 \" />\n",
       "<polyline fill=\"none\" vector-effect=\"none\" points=\"1508,893 1508,88 \" />\n",
       "<polyline fill=\"none\" vector-effect=\"none\" points=\"200,893 213.08,893 \" />\n",
       "<polyline fill=\"none\" vector-effect=\"none\" points=\"200,812.5 213.08,812.5 \" />\n",
       "<polyline fill=\"none\" vector-effect=\"none\" points=\"200,732 213.08,732 \" />\n",
       "<polyline fill=\"none\" vector-effect=\"none\" points=\"200,651.5 213.08,651.5 \" />\n",
       "<polyline fill=\"none\" vector-effect=\"none\" points=\"200,571 213.08,571 \" />\n",
       "<polyline fill=\"none\" vector-effect=\"none\" points=\"200,490.5 213.08,490.5 \" />\n",
       "<polyline fill=\"none\" vector-effect=\"none\" points=\"200,410 213.08,410 \" />\n",
       "<polyline fill=\"none\" vector-effect=\"none\" points=\"200,329.5 213.08,329.5 \" />\n",
       "<polyline fill=\"none\" vector-effect=\"none\" points=\"200,249 213.08,249 \" />\n",
       "<polyline fill=\"none\" vector-effect=\"none\" points=\"200,168.5 213.08,168.5 \" />\n",
       "<polyline fill=\"none\" vector-effect=\"none\" points=\"200,88 213.08,88 \" />\n",
       "<polyline fill=\"none\" vector-effect=\"none\" points=\"1508,893 1494.92,893 \" />\n",
       "<polyline fill=\"none\" vector-effect=\"none\" points=\"1508,812.5 1494.92,812.5 \" />\n",
       "<polyline fill=\"none\" vector-effect=\"none\" points=\"1508,732 1494.92,732 \" />\n",
       "<polyline fill=\"none\" vector-effect=\"none\" points=\"1508,651.5 1494.92,651.5 \" />\n",
       "<polyline fill=\"none\" vector-effect=\"none\" points=\"1508,571 1494.92,571 \" />\n",
       "<polyline fill=\"none\" vector-effect=\"none\" points=\"1508,490.5 1494.92,490.5 \" />\n",
       "<polyline fill=\"none\" vector-effect=\"none\" points=\"1508,410 1494.92,410 \" />\n",
       "<polyline fill=\"none\" vector-effect=\"none\" points=\"1508,329.5 1494.92,329.5 \" />\n",
       "<polyline fill=\"none\" vector-effect=\"none\" points=\"1508,249 1494.92,249 \" />\n",
       "<polyline fill=\"none\" vector-effect=\"none\" points=\"1508,168.5 1494.92,168.5 \" />\n",
       "<polyline fill=\"none\" vector-effect=\"none\" points=\"1508,88 1494.92,88 \" />\n",
       "</g>\n",
       "\n",
       "<g fill=\"#616161\" fill-opacity=\"1\" stroke=\"#616161\" stroke-opacity=\"1\" stroke-width=\"1\" stroke-linecap=\"square\" stroke-linejoin=\"bevel\" transform=\"matrix(0.49985,0,0,0.499751,90.4729,448.776)\"\n",
       "font-family=\"Helvetica\" font-size=\"20\" font-weight=\"400\" font-style=\"normal\" \n",
       ">\n",
       "<text fill=\"#616161\" fill-opacity=\"1\" stroke=\"none\" xml:space=\"preserve\" x=\"0\" y=\"0.390625\" font-family=\"Helvetica\" font-size=\"20\" font-weight=\"400\" font-style=\"normal\" \n",
       " >0</text>\n",
       "</g>\n",
       "\n",
       "<g fill=\"#616161\" fill-opacity=\"1\" stroke=\"#616161\" stroke-opacity=\"1\" stroke-width=\"1\" stroke-linecap=\"square\" stroke-linejoin=\"bevel\" transform=\"matrix(0.49985,0,0,0.499751,76.4771,408.546)\"\n",
       "font-family=\"Helvetica\" font-size=\"20\" font-weight=\"400\" font-style=\"normal\" \n",
       ">\n",
       "<text fill=\"#616161\" fill-opacity=\"1\" stroke=\"none\" xml:space=\"preserve\" x=\"0\" y=\"0.390625\" font-family=\"Helvetica\" font-size=\"20\" font-weight=\"400\" font-style=\"normal\" \n",
       " >0.02</text>\n",
       "</g>\n",
       "\n",
       "<g fill=\"#616161\" fill-opacity=\"1\" stroke=\"#616161\" stroke-opacity=\"1\" stroke-width=\"1\" stroke-linecap=\"square\" stroke-linejoin=\"bevel\" transform=\"matrix(0.49985,0,0,0.499751,76.4771,368.316)\"\n",
       "font-family=\"Helvetica\" font-size=\"20\" font-weight=\"400\" font-style=\"normal\" \n",
       ">\n",
       "<text fill=\"#616161\" fill-opacity=\"1\" stroke=\"none\" xml:space=\"preserve\" x=\"0\" y=\"0.390625\" font-family=\"Helvetica\" font-size=\"20\" font-weight=\"400\" font-style=\"normal\" \n",
       " >0.04</text>\n",
       "</g>\n",
       "\n",
       "<g fill=\"#616161\" fill-opacity=\"1\" stroke=\"#616161\" stroke-opacity=\"1\" stroke-width=\"1\" stroke-linecap=\"square\" stroke-linejoin=\"bevel\" transform=\"matrix(0.49985,0,0,0.499751,76.4771,328.087)\"\n",
       "font-family=\"Helvetica\" font-size=\"20\" font-weight=\"400\" font-style=\"normal\" \n",
       ">\n",
       "<text fill=\"#616161\" fill-opacity=\"1\" stroke=\"none\" xml:space=\"preserve\" x=\"0\" y=\"0.390625\" font-family=\"Helvetica\" font-size=\"20\" font-weight=\"400\" font-style=\"normal\" \n",
       " >0.06</text>\n",
       "</g>\n",
       "\n",
       "<g fill=\"#616161\" fill-opacity=\"1\" stroke=\"#616161\" stroke-opacity=\"1\" stroke-width=\"1\" stroke-linecap=\"square\" stroke-linejoin=\"bevel\" transform=\"matrix(0.49985,0,0,0.499751,76.4771,287.857)\"\n",
       "font-family=\"Helvetica\" font-size=\"20\" font-weight=\"400\" font-style=\"normal\" \n",
       ">\n",
       "<text fill=\"#616161\" fill-opacity=\"1\" stroke=\"none\" xml:space=\"preserve\" x=\"0\" y=\"0.390625\" font-family=\"Helvetica\" font-size=\"20\" font-weight=\"400\" font-style=\"normal\" \n",
       " >0.08</text>\n",
       "</g>\n",
       "\n",
       "<g fill=\"#616161\" fill-opacity=\"1\" stroke=\"#616161\" stroke-opacity=\"1\" stroke-width=\"1\" stroke-linecap=\"square\" stroke-linejoin=\"bevel\" transform=\"matrix(0.49985,0,0,0.499751,81.9754,247.627)\"\n",
       "font-family=\"Helvetica\" font-size=\"20\" font-weight=\"400\" font-style=\"normal\" \n",
       ">\n",
       "<text fill=\"#616161\" fill-opacity=\"1\" stroke=\"none\" xml:space=\"preserve\" x=\"0\" y=\"0.390625\" font-family=\"Helvetica\" font-size=\"20\" font-weight=\"400\" font-style=\"normal\" \n",
       " >0.1</text>\n",
       "</g>\n",
       "\n",
       "<g fill=\"#616161\" fill-opacity=\"1\" stroke=\"#616161\" stroke-opacity=\"1\" stroke-width=\"1\" stroke-linecap=\"square\" stroke-linejoin=\"bevel\" transform=\"matrix(0.49985,0,0,0.499751,76.4771,207.397)\"\n",
       "font-family=\"Helvetica\" font-size=\"20\" font-weight=\"400\" font-style=\"normal\" \n",
       ">\n",
       "<text fill=\"#616161\" fill-opacity=\"1\" stroke=\"none\" xml:space=\"preserve\" x=\"0\" y=\"0.390625\" font-family=\"Helvetica\" font-size=\"20\" font-weight=\"400\" font-style=\"normal\" \n",
       " >0.12</text>\n",
       "</g>\n",
       "\n",
       "<g fill=\"#616161\" fill-opacity=\"1\" stroke=\"#616161\" stroke-opacity=\"1\" stroke-width=\"1\" stroke-linecap=\"square\" stroke-linejoin=\"bevel\" transform=\"matrix(0.49985,0,0,0.499751,76.4771,167.167)\"\n",
       "font-family=\"Helvetica\" font-size=\"20\" font-weight=\"400\" font-style=\"normal\" \n",
       ">\n",
       "<text fill=\"#616161\" fill-opacity=\"1\" stroke=\"none\" xml:space=\"preserve\" x=\"0\" y=\"0.390625\" font-family=\"Helvetica\" font-size=\"20\" font-weight=\"400\" font-style=\"normal\" \n",
       " >0.14</text>\n",
       "</g>\n",
       "\n",
       "<g fill=\"#616161\" fill-opacity=\"1\" stroke=\"#616161\" stroke-opacity=\"1\" stroke-width=\"1\" stroke-linecap=\"square\" stroke-linejoin=\"bevel\" transform=\"matrix(0.49985,0,0,0.499751,76.4771,126.937)\"\n",
       "font-family=\"Helvetica\" font-size=\"20\" font-weight=\"400\" font-style=\"normal\" \n",
       ">\n",
       "<text fill=\"#616161\" fill-opacity=\"1\" stroke=\"none\" xml:space=\"preserve\" x=\"0\" y=\"0.390625\" font-family=\"Helvetica\" font-size=\"20\" font-weight=\"400\" font-style=\"normal\" \n",
       " >0.16</text>\n",
       "</g>\n",
       "\n",
       "<g fill=\"#616161\" fill-opacity=\"1\" stroke=\"#616161\" stroke-opacity=\"1\" stroke-width=\"1\" stroke-linecap=\"square\" stroke-linejoin=\"bevel\" transform=\"matrix(0.49985,0,0,0.499751,76.4771,86.7068)\"\n",
       "font-family=\"Helvetica\" font-size=\"20\" font-weight=\"400\" font-style=\"normal\" \n",
       ">\n",
       "<text fill=\"#616161\" fill-opacity=\"1\" stroke=\"none\" xml:space=\"preserve\" x=\"0\" y=\"0.390625\" font-family=\"Helvetica\" font-size=\"20\" font-weight=\"400\" font-style=\"normal\" \n",
       " >0.18</text>\n",
       "</g>\n",
       "\n",
       "<g fill=\"#616161\" fill-opacity=\"1\" stroke=\"#616161\" stroke-opacity=\"1\" stroke-width=\"1\" stroke-linecap=\"square\" stroke-linejoin=\"bevel\" transform=\"matrix(0.49985,0,0,0.499751,81.9754,46.4768)\"\n",
       "font-family=\"Helvetica\" font-size=\"20\" font-weight=\"400\" font-style=\"normal\" \n",
       ">\n",
       "<text fill=\"#616161\" fill-opacity=\"1\" stroke=\"none\" xml:space=\"preserve\" x=\"0\" y=\"0.390625\" font-family=\"Helvetica\" font-size=\"20\" font-weight=\"400\" font-style=\"normal\" \n",
       " >0.2</text>\n",
       "</g>\n",
       "\n",
       "<g fill=\"none\" stroke=\"#1171be\" stroke-opacity=\"1\" stroke-width=\"1\" stroke-linecap=\"butt\" stroke-linejoin=\"round\" transform=\"matrix(0.49985,0,0,0.499751,0,0)\"\n",
       "font-family=\"Helvetica\" font-size=\"20\" font-weight=\"400\" font-style=\"normal\" \n",
       ">\n",
       "<polyline fill=\"none\" vector-effect=\"none\" points=\"200,893 213.08,892.862 226.16,892.451 239.24,891.774 252.32,890.838 265.4,889.647 278.48,888.208 291.56,886.526 304.64,884.607 317.72,882.457 330.8,880.08 343.88,877.482 356.96,874.667 370.04,871.642 383.12,868.41 396.2,864.976 409.28,861.345 422.36,857.522 435.44,853.51 448.52,849.314 461.6,844.939 474.68,840.388 487.76,835.665 500.84,830.774 513.92,825.72 527,820.505 540.08,815.134 553.16,809.61 566.24,803.937 579.32,798.117 592.4,792.155 605.48,786.054 618.56,779.816 631.64,773.445 644.72,766.944 657.8,760.315 670.88,753.563 683.96,746.689 697.04,739.696 710.12,732.587 723.2,725.366 736.28,718.033 749.36,710.592 762.44,703.046 775.52,695.396 788.6,687.645 801.68,679.796 814.76,671.85 827.84,663.81 840.92,655.678 854,647.456 867.08,639.146 880.16,630.75 893.24,622.27 906.32,613.709 919.4,605.067 932.48,596.347 945.56,587.55 958.64,578.678 971.72,569.734 984.8,560.718 997.88,551.632 1010.96,542.478 1024.04,533.257 1037.12,523.971 1050.2,514.622 1063.28,505.211 1076.36,495.738 1089.44,486.207 1102.52,476.617 1115.6,466.97 1128.68,457.269 1141.76,447.513 1154.84,437.704 1167.92,427.843 1181,417.932 1194.08,407.972 1207.16,397.963 1220.24,387.907 1233.32,377.805 1246.4,367.659 1259.48,357.468 1272.56,347.234 1285.64,336.958 1298.72,326.641 1311.8,316.284 1324.88,305.888 1337.96,295.453 1351.04,284.982 1364.12,274.473 1377.2,263.929 1390.28,253.35 1403.36,242.736 1416.44,232.09 1429.52,221.411 1442.6,210.7 1455.68,199.957 1468.76,189.185 1481.84,178.383 1494.92,167.551 1508,156.692 \" />\n",
       "</g>\n",
       "</g>\n",
       "</svg>\n"
      ]
     },
     "metadata": {},
     "output_type": "display_data"
    }
   ],
   "source": [
    "% step response\n",
    "step(G, Tfinal)\n",
    "% label graph\n",
    "ylabel('x(t) [metres]'),grid"
   ]
  },
  {
   "cell_type": "markdown",
   "id": "e20e8a6e",
   "metadata": {
    "slideshow": {
     "slide_type": "notes"
    }
   },
   "source": [
    "### Reflect\n",
    "\n",
    "![reflect](images/reflect.png)\n",
    "\n",
    "- How does the step response compare to your prediction?\n",
    "- What physical action does the initial transient behavior reflect?\n",
    "- What does the long-term behavior of the step response reflect?"
   ]
  },
  {
   "cell_type": "markdown",
   "id": "9b0fb8bf",
   "metadata": {
    "slideshow": {
     "slide_type": "subslide"
    }
   },
   "source": [
    "### Exercise 5\n",
    "\n",
    "Consider the same simple vehicle with a mass of 1300 kg and a frictional constant of proportionality of $k = 100$ N.s/m. This time, however, analyze the vehicle's velocity $v(t)$ instead of its position $x(t)$. Recall that the velocity transfer function is\n",
    "\n",
    "$$H(s) = \\frac{1}{ms + k}$$\n",
    "\n",
    "Compute the step response of the velocity transfer function and use it to determine the vehicle's maximum velocity undergoing a unit step forcing."
   ]
  },
  {
   "cell_type": "code",
   "execution_count": 33,
   "id": "767fa3b0",
   "metadata": {
    "slideshow": {
     "slide_type": "subslide"
    }
   },
   "outputs": [
    {
     "name": "stdout",
     "output_type": "stream",
     "text": [
      "Tfinal =\n",
      "   100\n"
     ]
    },
    {
     "data": {
      "image/svg+xml": [
       "<?xml version=\"1.0\" encoding=\"UTF-8\" standalone=\"no\"?>\n",
       "<svg width=\"294.217mm\" height=\"177.094mm\"\n",
       " viewBox=\"0 0 834 502\"\n",
       " xmlns=\"http://www.w3.org/2000/svg\" xmlns:xlink=\"http://www.w3.org/1999/xlink\"  version=\"1.2\" baseProfile=\"tiny\">\n",
       "<title>Qt SVG Document</title>\n",
       "<desc>MATLAB, The MathWorks, Inc. Version 25.1.0.2833191 R2025a Prerelease Update 2</desc>\n",
       "<defs>\n",
       "</defs>\n",
       "<g fill=\"none\" stroke=\"black\" stroke-width=\"1\" fill-rule=\"evenodd\" stroke-linecap=\"square\" stroke-linejoin=\"bevel\" >\n",
       "\n",
       "<g fill=\"#ffffff\" fill-opacity=\"1\" stroke=\"none\" transform=\"matrix(0.49985,0,0,0.499751,0,0)\"\n",
       "font-family=\".AppleSystemUIFont\" font-size=\"13\" font-weight=\"400\" font-style=\"normal\" \n",
       ">\n",
       "<path vector-effect=\"none\" fill-rule=\"evenodd\" d=\"M0,0 L1668,0 L1668,1005 L0,1005 L0,0\"/>\n",
       "</g>\n",
       "\n",
       "<g fill=\"#212121\" fill-opacity=\"1\" stroke=\"#212121\" stroke-opacity=\"1\" stroke-width=\"1\" stroke-linecap=\"square\" stroke-linejoin=\"bevel\" transform=\"matrix(0.49985,0,0,0.499751,387.066,17.991)\"\n",
       "font-family=\"Helvetica\" font-size=\"22\" font-weight=\"700\" font-style=\"normal\" \n",
       ">\n",
       "<text fill=\"#212121\" fill-opacity=\"1\" stroke=\"none\" xml:space=\"preserve\" x=\"0\" y=\"-0.0625\" font-family=\"Helvetica\" font-size=\"22\" font-weight=\"700\" font-style=\"normal\" \n",
       " >Step Response</text>\n",
       "</g>\n",
       "\n",
       "<g fill=\"#212121\" fill-opacity=\"1\" stroke=\"#212121\" stroke-opacity=\"1\" stroke-width=\"1\" stroke-linecap=\"square\" stroke-linejoin=\"bevel\" transform=\"matrix(0.49985,0,0,0.499751,389.066,474.099)\"\n",
       "font-family=\"Helvetica\" font-size=\"22\" font-weight=\"400\" font-style=\"normal\" \n",
       ">\n",
       "<text fill=\"#212121\" fill-opacity=\"1\" stroke=\"none\" xml:space=\"preserve\" x=\"0\" y=\"-0.0625\" font-family=\"Helvetica\" font-size=\"22\" font-weight=\"400\" font-style=\"normal\" \n",
       " >Time (seconds)</text>\n",
       "</g>\n",
       "\n",
       "<g fill=\"#212121\" fill-opacity=\"1\" stroke=\"#212121\" stroke-opacity=\"1\" stroke-width=\"1\" stroke-linecap=\"square\" stroke-linejoin=\"bevel\" transform=\"matrix(0,-0.499751,0.49985,0,49.2352,278.654)\"\n",
       "font-family=\"Helvetica\" font-size=\"22\" font-weight=\"400\" font-style=\"normal\" \n",
       ">\n",
       "<text fill=\"#212121\" fill-opacity=\"1\" stroke=\"none\" xml:space=\"preserve\" x=\"0\" y=\"-0.0625\" font-family=\"Helvetica\" font-size=\"22\" font-weight=\"400\" font-style=\"normal\" \n",
       " >v(t) [metres/s]</text>\n",
       "</g>\n",
       "\n",
       "<g fill=\"#ffffff\" fill-opacity=\"1\" stroke=\"none\" transform=\"matrix(4.9985e-05,0,0,4.99751e-05,0,0)\"\n",
       "font-family=\"Helvetica\" font-size=\"22\" font-weight=\"400\" font-style=\"normal\" \n",
       ">\n",
       "<path vector-effect=\"none\" fill-rule=\"evenodd\" d=\"M2e+06,880000 L2e+06,8.93e+06 L1.508e+07,8.93e+06 L1.508e+07,880000 L2e+06,880000\"/>\n",
       "</g>\n",
       "\n",
       "<g fill=\"#212121\" fill-opacity=\"0.14902\" stroke=\"#212121\" stroke-opacity=\"0.14902\" stroke-width=\"1\" stroke-linecap=\"butt\" stroke-linejoin=\"round\" transform=\"matrix(0.49985,0,0,0.499751,0,0)\"\n",
       "font-family=\"Helvetica\" font-size=\"22\" font-weight=\"400\" font-style=\"normal\" \n",
       ">\n",
       "<polyline fill=\"none\" vector-effect=\"none\" points=\"200,88 200,893 \" />\n",
       "<polyline fill=\"none\" vector-effect=\"none\" points=\"330.8,88 330.8,893 \" />\n",
       "<polyline fill=\"none\" vector-effect=\"none\" points=\"461.6,88 461.6,893 \" />\n",
       "<polyline fill=\"none\" vector-effect=\"none\" points=\"592.4,88 592.4,893 \" />\n",
       "<polyline fill=\"none\" vector-effect=\"none\" points=\"723.2,88 723.2,893 \" />\n",
       "<polyline fill=\"none\" vector-effect=\"none\" points=\"854,88 854,893 \" />\n",
       "<polyline fill=\"none\" vector-effect=\"none\" points=\"984.8,88 984.8,893 \" />\n",
       "<polyline fill=\"none\" vector-effect=\"none\" points=\"1115.6,88 1115.6,893 \" />\n",
       "<polyline fill=\"none\" vector-effect=\"none\" points=\"1246.4,88 1246.4,893 \" />\n",
       "<polyline fill=\"none\" vector-effect=\"none\" points=\"1377.2,88 1377.2,893 \" />\n",
       "<polyline fill=\"none\" vector-effect=\"none\" points=\"1508,88 1508,893 \" />\n",
       "<polyline fill=\"none\" vector-effect=\"none\" points=\"200,893 1508,893 \" />\n",
       "<polyline fill=\"none\" vector-effect=\"none\" points=\"200,812.5 1508,812.5 \" />\n",
       "<polyline fill=\"none\" vector-effect=\"none\" points=\"200,732 1508,732 \" />\n",
       "<polyline fill=\"none\" vector-effect=\"none\" points=\"200,651.5 1508,651.5 \" />\n",
       "<polyline fill=\"none\" vector-effect=\"none\" points=\"200,571 1508,571 \" />\n",
       "<polyline fill=\"none\" vector-effect=\"none\" points=\"200,490.5 1508,490.5 \" />\n",
       "<polyline fill=\"none\" vector-effect=\"none\" points=\"200,410 1508,410 \" />\n",
       "<polyline fill=\"none\" vector-effect=\"none\" points=\"200,329.5 1508,329.5 \" />\n",
       "<polyline fill=\"none\" vector-effect=\"none\" points=\"200,249 1508,249 \" />\n",
       "<polyline fill=\"none\" vector-effect=\"none\" points=\"200,168.5 1508,168.5 \" />\n",
       "<polyline fill=\"none\" vector-effect=\"none\" points=\"200,88 1508,88 \" />\n",
       "</g>\n",
       "\n",
       "<g fill=\"#616161\" fill-opacity=\"1\" stroke=\"#616161\" stroke-opacity=\"1\" stroke-width=\"1\" stroke-linecap=\"square\" stroke-linejoin=\"round\" transform=\"matrix(0.49985,0,0,0.499751,0,0)\"\n",
       "font-family=\"Helvetica\" font-size=\"22\" font-weight=\"400\" font-style=\"normal\" \n",
       ">\n",
       "<polyline fill=\"none\" vector-effect=\"none\" points=\"200,893 1508,893 \" />\n",
       "<polyline fill=\"none\" vector-effect=\"none\" points=\"200,88 1508,88 \" />\n",
       "<polyline fill=\"none\" vector-effect=\"none\" points=\"200,893 200,879.92 \" />\n",
       "<polyline fill=\"none\" vector-effect=\"none\" points=\"330.8,893 330.8,879.92 \" />\n",
       "<polyline fill=\"none\" vector-effect=\"none\" points=\"461.6,893 461.6,879.92 \" />\n",
       "<polyline fill=\"none\" vector-effect=\"none\" points=\"592.4,893 592.4,879.92 \" />\n",
       "<polyline fill=\"none\" vector-effect=\"none\" points=\"723.2,893 723.2,879.92 \" />\n",
       "<polyline fill=\"none\" vector-effect=\"none\" points=\"854,893 854,879.92 \" />\n",
       "<polyline fill=\"none\" vector-effect=\"none\" points=\"984.8,893 984.8,879.92 \" />\n",
       "<polyline fill=\"none\" vector-effect=\"none\" points=\"1115.6,893 1115.6,879.92 \" />\n",
       "<polyline fill=\"none\" vector-effect=\"none\" points=\"1246.4,893 1246.4,879.92 \" />\n",
       "<polyline fill=\"none\" vector-effect=\"none\" points=\"1377.2,893 1377.2,879.92 \" />\n",
       "<polyline fill=\"none\" vector-effect=\"none\" points=\"1508,893 1508,879.92 \" />\n",
       "<polyline fill=\"none\" vector-effect=\"none\" points=\"200,88 200,101.08 \" />\n",
       "<polyline fill=\"none\" vector-effect=\"none\" points=\"330.8,88 330.8,101.08 \" />\n",
       "<polyline fill=\"none\" vector-effect=\"none\" points=\"461.6,88 461.6,101.08 \" />\n",
       "<polyline fill=\"none\" vector-effect=\"none\" points=\"592.4,88 592.4,101.08 \" />\n",
       "<polyline fill=\"none\" vector-effect=\"none\" points=\"723.2,88 723.2,101.08 \" />\n",
       "<polyline fill=\"none\" vector-effect=\"none\" points=\"854,88 854,101.08 \" />\n",
       "<polyline fill=\"none\" vector-effect=\"none\" points=\"984.8,88 984.8,101.08 \" />\n",
       "<polyline fill=\"none\" vector-effect=\"none\" points=\"1115.6,88 1115.6,101.08 \" />\n",
       "<polyline fill=\"none\" vector-effect=\"none\" points=\"1246.4,88 1246.4,101.08 \" />\n",
       "<polyline fill=\"none\" vector-effect=\"none\" points=\"1377.2,88 1377.2,101.08 \" />\n",
       "<polyline fill=\"none\" vector-effect=\"none\" points=\"1508,88 1508,101.08 \" />\n",
       "</g>\n",
       "\n",
       "<g fill=\"#616161\" fill-opacity=\"1\" stroke=\"#616161\" stroke-opacity=\"1\" stroke-width=\"1\" stroke-linecap=\"square\" stroke-linejoin=\"bevel\" transform=\"matrix(0.49985,0,0,0.499751,97.2208,457.772)\"\n",
       "font-family=\"Helvetica\" font-size=\"20\" font-weight=\"400\" font-style=\"normal\" \n",
       ">\n",
       "<text fill=\"#616161\" fill-opacity=\"1\" stroke=\"none\" xml:space=\"preserve\" x=\"0\" y=\"0.390625\" font-family=\"Helvetica\" font-size=\"20\" font-weight=\"400\" font-style=\"normal\" \n",
       " >0</text>\n",
       "</g>\n",
       "\n",
       "<g fill=\"#616161\" fill-opacity=\"1\" stroke=\"#616161\" stroke-opacity=\"1\" stroke-width=\"1\" stroke-linecap=\"square\" stroke-linejoin=\"bevel\" transform=\"matrix(0.49985,0,0,0.499751,159.852,457.772)\"\n",
       "font-family=\"Helvetica\" font-size=\"20\" font-weight=\"400\" font-style=\"normal\" \n",
       ">\n",
       "<text fill=\"#616161\" fill-opacity=\"1\" stroke=\"none\" xml:space=\"preserve\" x=\"0\" y=\"0.390625\" font-family=\"Helvetica\" font-size=\"20\" font-weight=\"400\" font-style=\"normal\" \n",
       " >10</text>\n",
       "</g>\n",
       "\n",
       "<g fill=\"#616161\" fill-opacity=\"1\" stroke=\"#616161\" stroke-opacity=\"1\" stroke-width=\"1\" stroke-linecap=\"square\" stroke-linejoin=\"bevel\" transform=\"matrix(0.49985,0,0,0.499751,225.232,457.772)\"\n",
       "font-family=\"Helvetica\" font-size=\"20\" font-weight=\"400\" font-style=\"normal\" \n",
       ">\n",
       "<text fill=\"#616161\" fill-opacity=\"1\" stroke=\"none\" xml:space=\"preserve\" x=\"0\" y=\"0.390625\" font-family=\"Helvetica\" font-size=\"20\" font-weight=\"400\" font-style=\"normal\" \n",
       " >20</text>\n",
       "</g>\n",
       "\n",
       "<g fill=\"#616161\" fill-opacity=\"1\" stroke=\"#616161\" stroke-opacity=\"1\" stroke-width=\"1\" stroke-linecap=\"square\" stroke-linejoin=\"bevel\" transform=\"matrix(0.49985,0,0,0.499751,290.613,457.772)\"\n",
       "font-family=\"Helvetica\" font-size=\"20\" font-weight=\"400\" font-style=\"normal\" \n",
       ">\n",
       "<text fill=\"#616161\" fill-opacity=\"1\" stroke=\"none\" xml:space=\"preserve\" x=\"0\" y=\"0.390625\" font-family=\"Helvetica\" font-size=\"20\" font-weight=\"400\" font-style=\"normal\" \n",
       " >30</text>\n",
       "</g>\n",
       "\n",
       "<g fill=\"#616161\" fill-opacity=\"1\" stroke=\"#616161\" stroke-opacity=\"1\" stroke-width=\"1\" stroke-linecap=\"square\" stroke-linejoin=\"bevel\" transform=\"matrix(0.49985,0,0,0.499751,355.993,457.772)\"\n",
       "font-family=\"Helvetica\" font-size=\"20\" font-weight=\"400\" font-style=\"normal\" \n",
       ">\n",
       "<text fill=\"#616161\" fill-opacity=\"1\" stroke=\"none\" xml:space=\"preserve\" x=\"0\" y=\"0.390625\" font-family=\"Helvetica\" font-size=\"20\" font-weight=\"400\" font-style=\"normal\" \n",
       " >40</text>\n",
       "</g>\n",
       "\n",
       "<g fill=\"#616161\" fill-opacity=\"1\" stroke=\"#616161\" stroke-opacity=\"1\" stroke-width=\"1\" stroke-linecap=\"square\" stroke-linejoin=\"bevel\" transform=\"matrix(0.49985,0,0,0.499751,421.374,457.772)\"\n",
       "font-family=\"Helvetica\" font-size=\"20\" font-weight=\"400\" font-style=\"normal\" \n",
       ">\n",
       "<text fill=\"#616161\" fill-opacity=\"1\" stroke=\"none\" xml:space=\"preserve\" x=\"0\" y=\"0.390625\" font-family=\"Helvetica\" font-size=\"20\" font-weight=\"400\" font-style=\"normal\" \n",
       " >50</text>\n",
       "</g>\n",
       "\n",
       "<g fill=\"#616161\" fill-opacity=\"1\" stroke=\"#616161\" stroke-opacity=\"1\" stroke-width=\"1\" stroke-linecap=\"square\" stroke-linejoin=\"bevel\" transform=\"matrix(0.49985,0,0,0.499751,486.754,457.772)\"\n",
       "font-family=\"Helvetica\" font-size=\"20\" font-weight=\"400\" font-style=\"normal\" \n",
       ">\n",
       "<text fill=\"#616161\" fill-opacity=\"1\" stroke=\"none\" xml:space=\"preserve\" x=\"0\" y=\"0.390625\" font-family=\"Helvetica\" font-size=\"20\" font-weight=\"400\" font-style=\"normal\" \n",
       " >60</text>\n",
       "</g>\n",
       "\n",
       "<g fill=\"#616161\" fill-opacity=\"1\" stroke=\"#616161\" stroke-opacity=\"1\" stroke-width=\"1\" stroke-linecap=\"square\" stroke-linejoin=\"bevel\" transform=\"matrix(0.49985,0,0,0.499751,552.134,457.772)\"\n",
       "font-family=\"Helvetica\" font-size=\"20\" font-weight=\"400\" font-style=\"normal\" \n",
       ">\n",
       "<text fill=\"#616161\" fill-opacity=\"1\" stroke=\"none\" xml:space=\"preserve\" x=\"0\" y=\"0.390625\" font-family=\"Helvetica\" font-size=\"20\" font-weight=\"400\" font-style=\"normal\" \n",
       " >70</text>\n",
       "</g>\n",
       "\n",
       "<g fill=\"#616161\" fill-opacity=\"1\" stroke=\"#616161\" stroke-opacity=\"1\" stroke-width=\"1\" stroke-linecap=\"square\" stroke-linejoin=\"bevel\" transform=\"matrix(0.49985,0,0,0.499751,617.515,457.772)\"\n",
       "font-family=\"Helvetica\" font-size=\"20\" font-weight=\"400\" font-style=\"normal\" \n",
       ">\n",
       "<text fill=\"#616161\" fill-opacity=\"1\" stroke=\"none\" xml:space=\"preserve\" x=\"0\" y=\"0.390625\" font-family=\"Helvetica\" font-size=\"20\" font-weight=\"400\" font-style=\"normal\" \n",
       " >80</text>\n",
       "</g>\n",
       "\n",
       "<g fill=\"#616161\" fill-opacity=\"1\" stroke=\"#616161\" stroke-opacity=\"1\" stroke-width=\"1\" stroke-linecap=\"square\" stroke-linejoin=\"bevel\" transform=\"matrix(0.49985,0,0,0.499751,682.895,457.772)\"\n",
       "font-family=\"Helvetica\" font-size=\"20\" font-weight=\"400\" font-style=\"normal\" \n",
       ">\n",
       "<text fill=\"#616161\" fill-opacity=\"1\" stroke=\"none\" xml:space=\"preserve\" x=\"0\" y=\"0.390625\" font-family=\"Helvetica\" font-size=\"20\" font-weight=\"400\" font-style=\"normal\" \n",
       " >90</text>\n",
       "</g>\n",
       "\n",
       "<g fill=\"#616161\" fill-opacity=\"1\" stroke=\"#616161\" stroke-opacity=\"1\" stroke-width=\"1\" stroke-linecap=\"square\" stroke-linejoin=\"bevel\" transform=\"matrix(0.49985,0,0,0.499751,745.526,457.772)\"\n",
       "font-family=\"Helvetica\" font-size=\"20\" font-weight=\"400\" font-style=\"normal\" \n",
       ">\n",
       "<text fill=\"#616161\" fill-opacity=\"1\" stroke=\"none\" xml:space=\"preserve\" x=\"0\" y=\"0.390625\" font-family=\"Helvetica\" font-size=\"20\" font-weight=\"400\" font-style=\"normal\" \n",
       " >100</text>\n",
       "</g>\n",
       "\n",
       "<g fill=\"#616161\" fill-opacity=\"1\" stroke=\"#616161\" stroke-opacity=\"1\" stroke-width=\"1\" stroke-linecap=\"square\" stroke-linejoin=\"round\" transform=\"matrix(0.49985,0,0,0.499751,0,0)\"\n",
       "font-family=\"Helvetica\" font-size=\"20\" font-weight=\"400\" font-style=\"normal\" \n",
       ">\n",
       "<polyline fill=\"none\" vector-effect=\"none\" points=\"200,893 200,88 \" />\n",
       "<polyline fill=\"none\" vector-effect=\"none\" points=\"1508,893 1508,88 \" />\n",
       "<polyline fill=\"none\" vector-effect=\"none\" points=\"200,893 213.08,893 \" />\n",
       "<polyline fill=\"none\" vector-effect=\"none\" points=\"200,812.5 213.08,812.5 \" />\n",
       "<polyline fill=\"none\" vector-effect=\"none\" points=\"200,732 213.08,732 \" />\n",
       "<polyline fill=\"none\" vector-effect=\"none\" points=\"200,651.5 213.08,651.5 \" />\n",
       "<polyline fill=\"none\" vector-effect=\"none\" points=\"200,571 213.08,571 \" />\n",
       "<polyline fill=\"none\" vector-effect=\"none\" points=\"200,490.5 213.08,490.5 \" />\n",
       "<polyline fill=\"none\" vector-effect=\"none\" points=\"200,410 213.08,410 \" />\n",
       "<polyline fill=\"none\" vector-effect=\"none\" points=\"200,329.5 213.08,329.5 \" />\n",
       "<polyline fill=\"none\" vector-effect=\"none\" points=\"200,249 213.08,249 \" />\n",
       "<polyline fill=\"none\" vector-effect=\"none\" points=\"200,168.5 213.08,168.5 \" />\n",
       "<polyline fill=\"none\" vector-effect=\"none\" points=\"200,88 213.08,88 \" />\n",
       "<polyline fill=\"none\" vector-effect=\"none\" points=\"1508,893 1494.92,893 \" />\n",
       "<polyline fill=\"none\" vector-effect=\"none\" points=\"1508,812.5 1494.92,812.5 \" />\n",
       "<polyline fill=\"none\" vector-effect=\"none\" points=\"1508,732 1494.92,732 \" />\n",
       "<polyline fill=\"none\" vector-effect=\"none\" points=\"1508,651.5 1494.92,651.5 \" />\n",
       "<polyline fill=\"none\" vector-effect=\"none\" points=\"1508,571 1494.92,571 \" />\n",
       "<polyline fill=\"none\" vector-effect=\"none\" points=\"1508,490.5 1494.92,490.5 \" />\n",
       "<polyline fill=\"none\" vector-effect=\"none\" points=\"1508,410 1494.92,410 \" />\n",
       "<polyline fill=\"none\" vector-effect=\"none\" points=\"1508,329.5 1494.92,329.5 \" />\n",
       "<polyline fill=\"none\" vector-effect=\"none\" points=\"1508,249 1494.92,249 \" />\n",
       "<polyline fill=\"none\" vector-effect=\"none\" points=\"1508,168.5 1494.92,168.5 \" />\n",
       "<polyline fill=\"none\" vector-effect=\"none\" points=\"1508,88 1494.92,88 \" />\n",
       "</g>\n",
       "\n",
       "<g fill=\"#616161\" fill-opacity=\"1\" stroke=\"#616161\" stroke-opacity=\"1\" stroke-width=\"1\" stroke-linecap=\"square\" stroke-linejoin=\"bevel\" transform=\"matrix(0.49985,0,0,0.499751,90.4729,448.776)\"\n",
       "font-family=\"Helvetica\" font-size=\"20\" font-weight=\"400\" font-style=\"normal\" \n",
       ">\n",
       "<text fill=\"#616161\" fill-opacity=\"1\" stroke=\"none\" xml:space=\"preserve\" x=\"0\" y=\"0.390625\" font-family=\"Helvetica\" font-size=\"20\" font-weight=\"400\" font-style=\"normal\" \n",
       " >0</text>\n",
       "</g>\n",
       "\n",
       "<g fill=\"#616161\" fill-opacity=\"1\" stroke=\"#616161\" stroke-opacity=\"1\" stroke-width=\"1\" stroke-linecap=\"square\" stroke-linejoin=\"bevel\" transform=\"matrix(0.49985,0,0,0.499751,70.9787,408.546)\"\n",
       "font-family=\"Helvetica\" font-size=\"20\" font-weight=\"400\" font-style=\"normal\" \n",
       ">\n",
       "<text fill=\"#616161\" fill-opacity=\"1\" stroke=\"none\" xml:space=\"preserve\" x=\"0\" y=\"0.390625\" font-family=\"Helvetica\" font-size=\"20\" font-weight=\"400\" font-style=\"normal\" \n",
       " >0.001</text>\n",
       "</g>\n",
       "\n",
       "<g fill=\"#616161\" fill-opacity=\"1\" stroke=\"#616161\" stroke-opacity=\"1\" stroke-width=\"1\" stroke-linecap=\"square\" stroke-linejoin=\"bevel\" transform=\"matrix(0.49985,0,0,0.499751,70.9787,368.316)\"\n",
       "font-family=\"Helvetica\" font-size=\"20\" font-weight=\"400\" font-style=\"normal\" \n",
       ">\n",
       "<text fill=\"#616161\" fill-opacity=\"1\" stroke=\"none\" xml:space=\"preserve\" x=\"0\" y=\"0.390625\" font-family=\"Helvetica\" font-size=\"20\" font-weight=\"400\" font-style=\"normal\" \n",
       " >0.002</text>\n",
       "</g>\n",
       "\n",
       "<g fill=\"#616161\" fill-opacity=\"1\" stroke=\"#616161\" stroke-opacity=\"1\" stroke-width=\"1\" stroke-linecap=\"square\" stroke-linejoin=\"bevel\" transform=\"matrix(0.49985,0,0,0.499751,70.9787,328.087)\"\n",
       "font-family=\"Helvetica\" font-size=\"20\" font-weight=\"400\" font-style=\"normal\" \n",
       ">\n",
       "<text fill=\"#616161\" fill-opacity=\"1\" stroke=\"none\" xml:space=\"preserve\" x=\"0\" y=\"0.390625\" font-family=\"Helvetica\" font-size=\"20\" font-weight=\"400\" font-style=\"normal\" \n",
       " >0.003</text>\n",
       "</g>\n",
       "\n",
       "<g fill=\"#616161\" fill-opacity=\"1\" stroke=\"#616161\" stroke-opacity=\"1\" stroke-width=\"1\" stroke-linecap=\"square\" stroke-linejoin=\"bevel\" transform=\"matrix(0.49985,0,0,0.499751,70.9787,287.857)\"\n",
       "font-family=\"Helvetica\" font-size=\"20\" font-weight=\"400\" font-style=\"normal\" \n",
       ">\n",
       "<text fill=\"#616161\" fill-opacity=\"1\" stroke=\"none\" xml:space=\"preserve\" x=\"0\" y=\"0.390625\" font-family=\"Helvetica\" font-size=\"20\" font-weight=\"400\" font-style=\"normal\" \n",
       " >0.004</text>\n",
       "</g>\n",
       "\n",
       "<g fill=\"#616161\" fill-opacity=\"1\" stroke=\"#616161\" stroke-opacity=\"1\" stroke-width=\"1\" stroke-linecap=\"square\" stroke-linejoin=\"bevel\" transform=\"matrix(0.49985,0,0,0.499751,70.9787,247.627)\"\n",
       "font-family=\"Helvetica\" font-size=\"20\" font-weight=\"400\" font-style=\"normal\" \n",
       ">\n",
       "<text fill=\"#616161\" fill-opacity=\"1\" stroke=\"none\" xml:space=\"preserve\" x=\"0\" y=\"0.390625\" font-family=\"Helvetica\" font-size=\"20\" font-weight=\"400\" font-style=\"normal\" \n",
       " >0.005</text>\n",
       "</g>\n",
       "\n",
       "<g fill=\"#616161\" fill-opacity=\"1\" stroke=\"#616161\" stroke-opacity=\"1\" stroke-width=\"1\" stroke-linecap=\"square\" stroke-linejoin=\"bevel\" transform=\"matrix(0.49985,0,0,0.499751,70.9787,207.397)\"\n",
       "font-family=\"Helvetica\" font-size=\"20\" font-weight=\"400\" font-style=\"normal\" \n",
       ">\n",
       "<text fill=\"#616161\" fill-opacity=\"1\" stroke=\"none\" xml:space=\"preserve\" x=\"0\" y=\"0.390625\" font-family=\"Helvetica\" font-size=\"20\" font-weight=\"400\" font-style=\"normal\" \n",
       " >0.006</text>\n",
       "</g>\n",
       "\n",
       "<g fill=\"#616161\" fill-opacity=\"1\" stroke=\"#616161\" stroke-opacity=\"1\" stroke-width=\"1\" stroke-linecap=\"square\" stroke-linejoin=\"bevel\" transform=\"matrix(0.49985,0,0,0.499751,70.9787,167.167)\"\n",
       "font-family=\"Helvetica\" font-size=\"20\" font-weight=\"400\" font-style=\"normal\" \n",
       ">\n",
       "<text fill=\"#616161\" fill-opacity=\"1\" stroke=\"none\" xml:space=\"preserve\" x=\"0\" y=\"0.390625\" font-family=\"Helvetica\" font-size=\"20\" font-weight=\"400\" font-style=\"normal\" \n",
       " >0.007</text>\n",
       "</g>\n",
       "\n",
       "<g fill=\"#616161\" fill-opacity=\"1\" stroke=\"#616161\" stroke-opacity=\"1\" stroke-width=\"1\" stroke-linecap=\"square\" stroke-linejoin=\"bevel\" transform=\"matrix(0.49985,0,0,0.499751,70.9787,126.937)\"\n",
       "font-family=\"Helvetica\" font-size=\"20\" font-weight=\"400\" font-style=\"normal\" \n",
       ">\n",
       "<text fill=\"#616161\" fill-opacity=\"1\" stroke=\"none\" xml:space=\"preserve\" x=\"0\" y=\"0.390625\" font-family=\"Helvetica\" font-size=\"20\" font-weight=\"400\" font-style=\"normal\" \n",
       " >0.008</text>\n",
       "</g>\n",
       "\n",
       "<g fill=\"#616161\" fill-opacity=\"1\" stroke=\"#616161\" stroke-opacity=\"1\" stroke-width=\"1\" stroke-linecap=\"square\" stroke-linejoin=\"bevel\" transform=\"matrix(0.49985,0,0,0.499751,70.9787,86.7068)\"\n",
       "font-family=\"Helvetica\" font-size=\"20\" font-weight=\"400\" font-style=\"normal\" \n",
       ">\n",
       "<text fill=\"#616161\" fill-opacity=\"1\" stroke=\"none\" xml:space=\"preserve\" x=\"0\" y=\"0.390625\" font-family=\"Helvetica\" font-size=\"20\" font-weight=\"400\" font-style=\"normal\" \n",
       " >0.009</text>\n",
       "</g>\n",
       "\n",
       "<g fill=\"#616161\" fill-opacity=\"1\" stroke=\"#616161\" stroke-opacity=\"1\" stroke-width=\"1\" stroke-linecap=\"square\" stroke-linejoin=\"bevel\" transform=\"matrix(0.49985,0,0,0.499751,76.4771,46.4769)\"\n",
       "font-family=\"Helvetica\" font-size=\"20\" font-weight=\"400\" font-style=\"normal\" \n",
       ">\n",
       "<text fill=\"#616161\" fill-opacity=\"1\" stroke=\"none\" xml:space=\"preserve\" x=\"0\" y=\"0.390625\" font-family=\"Helvetica\" font-size=\"20\" font-weight=\"400\" font-style=\"normal\" \n",
       " >0.01</text>\n",
       "</g>\n",
       "\n",
       "<g fill=\"#7d7d7d\" fill-opacity=\"0.701961\" stroke=\"#7d7d7d\" stroke-opacity=\"0.701961\" stroke-dasharray=\"1,3\" stroke-dashoffset=\"0\" stroke-width=\"1\" stroke-linecap=\"butt\" stroke-linejoin=\"round\" transform=\"matrix(0.49985,0,0,0.499751,0,0)\"\n",
       "font-family=\"Helvetica\" font-size=\"20\" font-weight=\"400\" font-style=\"normal\" \n",
       ">\n",
       "<polyline fill=\"none\" vector-effect=\"none\" points=\"200,88 1508,88 \" />\n",
       "</g>\n",
       "\n",
       "<g fill=\"none\" stroke=\"#1171be\" stroke-opacity=\"1\" stroke-width=\"1\" stroke-linecap=\"butt\" stroke-linejoin=\"round\" transform=\"matrix(0.49985,0,0,0.499751,0,0)\"\n",
       "font-family=\"Helvetica\" font-size=\"20\" font-weight=\"400\" font-style=\"normal\" \n",
       ">\n",
       "<polyline fill=\"none\" vector-effect=\"none\" points=\"200,893 213.08,833.399 226.16,778.21 239.24,727.108 252.32,679.789 265.4,635.974 278.48,595.402 291.56,557.835 304.64,523.049 317.72,490.838 330.8,461.012 343.88,433.395 356.96,407.822 370.04,384.143 383.12,362.217 396.2,341.914 409.28,323.115 422.36,305.707 435.44,289.588 448.52,274.663 461.6,260.842 474.68,248.045 487.76,236.196 500.84,225.224 513.92,215.064 527,205.656 540.08,196.945 553.16,188.879 566.24,181.41 579.32,174.494 592.4,168.09 605.48,162.16 618.56,156.669 631.64,151.585 644.72,146.877 657.8,142.518 670.88,138.482 683.96,134.744 697.04,131.283 710.12,128.079 723.2,125.111 736.28,122.364 749.36,119.819 762.44,117.463 775.52,115.282 788.6,113.262 801.68,111.392 814.76,109.66 827.84,108.056 840.92,106.571 854,105.196 867.08,103.923 880.16,102.744 893.24,101.652 906.32,100.642 919.4,99.7057 932.48,98.839 945.56,98.0364 958.64,97.2934 971.72,96.6053 984.8,95.9682 997.88,95.3783 1010.96,94.8319 1024.04,94.3261 1037.12,93.8578 1050.2,93.4241 1063.28,93.0224 1076.36,92.6506 1089.44,92.3063 1102.52,91.9874 1115.6,91.6922 1128.68,91.4189 1141.76,91.1657 1154.84,90.9313 1167.92,90.7143 1181,90.5134 1194.08,90.3273 1207.16,90.1549 1220.24,89.9954 1233.32,89.8477 1246.4,89.7109 1259.48,89.5842 1272.56,89.4669 1285.64,89.3583 1298.72,89.2577 1311.8,89.1646 1324.88,89.0784 1337.96,88.9986 1351.04,88.9246 1364.12,88.8561 1377.2,88.7928 1390.28,88.7341 1403.36,88.6797 1416.44,88.6294 1429.52,88.5828 1442.6,88.5397 1455.68,88.4997 1468.76,88.4627 1481.84,88.4284 1494.92,88.3967 1508,88.3674 \" />\n",
       "</g>\n",
       "</g>\n",
       "</svg>\n"
      ]
     },
     "metadata": {},
     "output_type": "display_data"
    }
   ],
   "source": [
    "Tfinal = 100\n",
    "% Velocity transfer function\n",
    "num = 1;\n",
    "den = [m k];\n",
    "G = tf(num,den);\n",
    "% step response\n",
    "step(G, Tfinal),ylabel('v(t) [metres/s]'),grid"
   ]
  },
  {
   "cell_type": "markdown",
   "id": "0a77c211",
   "metadata": {
    "slideshow": {
     "slide_type": "subslide"
    }
   },
   "source": [
    "### Reflection\n",
    "\n",
    "![reflect](images/reflect.png)\n",
    "\n",
    "- As you probably noticed, the vehicle's maximum speed under the unit step forcing is only 0.01 m/s, which is about 0.022 mph. That happens because the unit step only applies a traction force of 1 N, which is not nearly enough for a 1300 kg vehicle.\n",
    "- To create a more realistic response, you can add gain to the system by multiplying the transfer function by a constant and then recomputing the step response. What value of the gain constant will produce a maximum speed of 50 m/s (or 112 mph)?\n",
    "- Compute the step response of H\\*gain in the space below, where gain is the gain constant that will produce a maximum velocity of 50m/s.\n",
    "- How long does it take for the vehicle to accelerate from 0 to 60 mph (0 to 26.8m/s)?"
   ]
  },
  {
   "cell_type": "markdown",
   "id": "78288790",
   "metadata": {
    "slideshow": {
     "slide_type": "subslide"
    }
   },
   "source": [
    "The extra gain needed to reach 50 m/s would be $50/0.01 = 5000$."
   ]
  },
  {
   "cell_type": "code",
   "execution_count": 34,
   "id": "c1482a5d",
   "metadata": {
    "slideshow": {
     "slide_type": "subslide"
    }
   },
   "outputs": [
    {
     "data": {
      "image/svg+xml": [
       "<?xml version=\"1.0\" encoding=\"UTF-8\" standalone=\"no\"?>\n",
       "<svg width=\"294.217mm\" height=\"177.094mm\"\n",
       " viewBox=\"0 0 834 502\"\n",
       " xmlns=\"http://www.w3.org/2000/svg\" xmlns:xlink=\"http://www.w3.org/1999/xlink\"  version=\"1.2\" baseProfile=\"tiny\">\n",
       "<title>Qt SVG Document</title>\n",
       "<desc>MATLAB, The MathWorks, Inc. Version 25.1.0.2833191 R2025a Prerelease Update 2</desc>\n",
       "<defs>\n",
       "</defs>\n",
       "<g fill=\"none\" stroke=\"black\" stroke-width=\"1\" fill-rule=\"evenodd\" stroke-linecap=\"square\" stroke-linejoin=\"bevel\" >\n",
       "\n",
       "<g fill=\"#ffffff\" fill-opacity=\"1\" stroke=\"none\" transform=\"matrix(0.49985,0,0,0.499751,0,0)\"\n",
       "font-family=\".AppleSystemUIFont\" font-size=\"13\" font-weight=\"400\" font-style=\"normal\" \n",
       ">\n",
       "<path vector-effect=\"none\" fill-rule=\"evenodd\" d=\"M0,0 L1668,0 L1668,1005 L0,1005 L0,0\"/>\n",
       "</g>\n",
       "\n",
       "<g fill=\"#212121\" fill-opacity=\"1\" stroke=\"#212121\" stroke-opacity=\"1\" stroke-width=\"1\" stroke-linecap=\"square\" stroke-linejoin=\"bevel\" transform=\"matrix(0.49985,0,0,0.499751,387.066,17.991)\"\n",
       "font-family=\"Helvetica\" font-size=\"22\" font-weight=\"700\" font-style=\"normal\" \n",
       ">\n",
       "<text fill=\"#212121\" fill-opacity=\"1\" stroke=\"none\" xml:space=\"preserve\" x=\"0\" y=\"-0.0625\" font-family=\"Helvetica\" font-size=\"22\" font-weight=\"700\" font-style=\"normal\" \n",
       " >Step Response</text>\n",
       "</g>\n",
       "\n",
       "<g fill=\"#212121\" fill-opacity=\"1\" stroke=\"#212121\" stroke-opacity=\"1\" stroke-width=\"1\" stroke-linecap=\"square\" stroke-linejoin=\"bevel\" transform=\"matrix(0.49985,0,0,0.499751,389.066,474.099)\"\n",
       "font-family=\"Helvetica\" font-size=\"22\" font-weight=\"400\" font-style=\"normal\" \n",
       ">\n",
       "<text fill=\"#212121\" fill-opacity=\"1\" stroke=\"none\" xml:space=\"preserve\" x=\"0\" y=\"-0.0625\" font-family=\"Helvetica\" font-size=\"22\" font-weight=\"400\" font-style=\"normal\" \n",
       " >Time (seconds)</text>\n",
       "</g>\n",
       "\n",
       "<g fill=\"#212121\" fill-opacity=\"1\" stroke=\"#212121\" stroke-opacity=\"1\" stroke-width=\"1\" stroke-linecap=\"square\" stroke-linejoin=\"bevel\" transform=\"matrix(0,-0.499751,0.49985,0,63.231,278.654)\"\n",
       "font-family=\"Helvetica\" font-size=\"22\" font-weight=\"400\" font-style=\"normal\" \n",
       ">\n",
       "<text fill=\"#212121\" fill-opacity=\"1\" stroke=\"none\" xml:space=\"preserve\" x=\"0\" y=\"-0.0625\" font-family=\"Helvetica\" font-size=\"22\" font-weight=\"400\" font-style=\"normal\" \n",
       " >v(t) [metres/s]</text>\n",
       "</g>\n",
       "\n",
       "<g fill=\"#ffffff\" fill-opacity=\"1\" stroke=\"none\" transform=\"matrix(4.9985e-05,0,0,4.99751e-05,0,0)\"\n",
       "font-family=\"Helvetica\" font-size=\"22\" font-weight=\"400\" font-style=\"normal\" \n",
       ">\n",
       "<path vector-effect=\"none\" fill-rule=\"evenodd\" d=\"M2e+06,880000 L2e+06,8.93e+06 L1.508e+07,8.93e+06 L1.508e+07,880000 L2e+06,880000\"/>\n",
       "</g>\n",
       "\n",
       "<g fill=\"#212121\" fill-opacity=\"0.14902\" stroke=\"#212121\" stroke-opacity=\"0.14902\" stroke-width=\"1\" stroke-linecap=\"butt\" stroke-linejoin=\"round\" transform=\"matrix(0.49985,0,0,0.499751,0,0)\"\n",
       "font-family=\"Helvetica\" font-size=\"22\" font-weight=\"400\" font-style=\"normal\" \n",
       ">\n",
       "<polyline fill=\"none\" vector-effect=\"none\" points=\"200,88 200,893 \" />\n",
       "<polyline fill=\"none\" vector-effect=\"none\" points=\"330.8,88 330.8,893 \" />\n",
       "<polyline fill=\"none\" vector-effect=\"none\" points=\"461.6,88 461.6,893 \" />\n",
       "<polyline fill=\"none\" vector-effect=\"none\" points=\"592.4,88 592.4,893 \" />\n",
       "<polyline fill=\"none\" vector-effect=\"none\" points=\"723.2,88 723.2,893 \" />\n",
       "<polyline fill=\"none\" vector-effect=\"none\" points=\"854,88 854,893 \" />\n",
       "<polyline fill=\"none\" vector-effect=\"none\" points=\"984.8,88 984.8,893 \" />\n",
       "<polyline fill=\"none\" vector-effect=\"none\" points=\"1115.6,88 1115.6,893 \" />\n",
       "<polyline fill=\"none\" vector-effect=\"none\" points=\"1246.4,88 1246.4,893 \" />\n",
       "<polyline fill=\"none\" vector-effect=\"none\" points=\"1377.2,88 1377.2,893 \" />\n",
       "<polyline fill=\"none\" vector-effect=\"none\" points=\"1508,88 1508,893 \" />\n",
       "<polyline fill=\"none\" vector-effect=\"none\" points=\"200,893 1508,893 \" />\n",
       "<polyline fill=\"none\" vector-effect=\"none\" points=\"200,812.5 1508,812.5 \" />\n",
       "<polyline fill=\"none\" vector-effect=\"none\" points=\"200,732 1508,732 \" />\n",
       "<polyline fill=\"none\" vector-effect=\"none\" points=\"200,651.5 1508,651.5 \" />\n",
       "<polyline fill=\"none\" vector-effect=\"none\" points=\"200,571 1508,571 \" />\n",
       "<polyline fill=\"none\" vector-effect=\"none\" points=\"200,490.5 1508,490.5 \" />\n",
       "<polyline fill=\"none\" vector-effect=\"none\" points=\"200,410 1508,410 \" />\n",
       "<polyline fill=\"none\" vector-effect=\"none\" points=\"200,329.5 1508,329.5 \" />\n",
       "<polyline fill=\"none\" vector-effect=\"none\" points=\"200,249 1508,249 \" />\n",
       "<polyline fill=\"none\" vector-effect=\"none\" points=\"200,168.5 1508,168.5 \" />\n",
       "<polyline fill=\"none\" vector-effect=\"none\" points=\"200,88 1508,88 \" />\n",
       "</g>\n",
       "\n",
       "<g fill=\"#616161\" fill-opacity=\"1\" stroke=\"#616161\" stroke-opacity=\"1\" stroke-width=\"1\" stroke-linecap=\"square\" stroke-linejoin=\"round\" transform=\"matrix(0.49985,0,0,0.499751,0,0)\"\n",
       "font-family=\"Helvetica\" font-size=\"22\" font-weight=\"400\" font-style=\"normal\" \n",
       ">\n",
       "<polyline fill=\"none\" vector-effect=\"none\" points=\"200,893 1508,893 \" />\n",
       "<polyline fill=\"none\" vector-effect=\"none\" points=\"200,88 1508,88 \" />\n",
       "<polyline fill=\"none\" vector-effect=\"none\" points=\"200,893 200,879.92 \" />\n",
       "<polyline fill=\"none\" vector-effect=\"none\" points=\"330.8,893 330.8,879.92 \" />\n",
       "<polyline fill=\"none\" vector-effect=\"none\" points=\"461.6,893 461.6,879.92 \" />\n",
       "<polyline fill=\"none\" vector-effect=\"none\" points=\"592.4,893 592.4,879.92 \" />\n",
       "<polyline fill=\"none\" vector-effect=\"none\" points=\"723.2,893 723.2,879.92 \" />\n",
       "<polyline fill=\"none\" vector-effect=\"none\" points=\"854,893 854,879.92 \" />\n",
       "<polyline fill=\"none\" vector-effect=\"none\" points=\"984.8,893 984.8,879.92 \" />\n",
       "<polyline fill=\"none\" vector-effect=\"none\" points=\"1115.6,893 1115.6,879.92 \" />\n",
       "<polyline fill=\"none\" vector-effect=\"none\" points=\"1246.4,893 1246.4,879.92 \" />\n",
       "<polyline fill=\"none\" vector-effect=\"none\" points=\"1377.2,893 1377.2,879.92 \" />\n",
       "<polyline fill=\"none\" vector-effect=\"none\" points=\"1508,893 1508,879.92 \" />\n",
       "<polyline fill=\"none\" vector-effect=\"none\" points=\"200,88 200,101.08 \" />\n",
       "<polyline fill=\"none\" vector-effect=\"none\" points=\"330.8,88 330.8,101.08 \" />\n",
       "<polyline fill=\"none\" vector-effect=\"none\" points=\"461.6,88 461.6,101.08 \" />\n",
       "<polyline fill=\"none\" vector-effect=\"none\" points=\"592.4,88 592.4,101.08 \" />\n",
       "<polyline fill=\"none\" vector-effect=\"none\" points=\"723.2,88 723.2,101.08 \" />\n",
       "<polyline fill=\"none\" vector-effect=\"none\" points=\"854,88 854,101.08 \" />\n",
       "<polyline fill=\"none\" vector-effect=\"none\" points=\"984.8,88 984.8,101.08 \" />\n",
       "<polyline fill=\"none\" vector-effect=\"none\" points=\"1115.6,88 1115.6,101.08 \" />\n",
       "<polyline fill=\"none\" vector-effect=\"none\" points=\"1246.4,88 1246.4,101.08 \" />\n",
       "<polyline fill=\"none\" vector-effect=\"none\" points=\"1377.2,88 1377.2,101.08 \" />\n",
       "<polyline fill=\"none\" vector-effect=\"none\" points=\"1508,88 1508,101.08 \" />\n",
       "</g>\n",
       "\n",
       "<g fill=\"#616161\" fill-opacity=\"1\" stroke=\"#616161\" stroke-opacity=\"1\" stroke-width=\"1\" stroke-linecap=\"square\" stroke-linejoin=\"bevel\" transform=\"matrix(0.49985,0,0,0.499751,97.2208,457.772)\"\n",
       "font-family=\"Helvetica\" font-size=\"20\" font-weight=\"400\" font-style=\"normal\" \n",
       ">\n",
       "<text fill=\"#616161\" fill-opacity=\"1\" stroke=\"none\" xml:space=\"preserve\" x=\"0\" y=\"0.390625\" font-family=\"Helvetica\" font-size=\"20\" font-weight=\"400\" font-style=\"normal\" \n",
       " >0</text>\n",
       "</g>\n",
       "\n",
       "<g fill=\"#616161\" fill-opacity=\"1\" stroke=\"#616161\" stroke-opacity=\"1\" stroke-width=\"1\" stroke-linecap=\"square\" stroke-linejoin=\"bevel\" transform=\"matrix(0.49985,0,0,0.499751,159.852,457.772)\"\n",
       "font-family=\"Helvetica\" font-size=\"20\" font-weight=\"400\" font-style=\"normal\" \n",
       ">\n",
       "<text fill=\"#616161\" fill-opacity=\"1\" stroke=\"none\" xml:space=\"preserve\" x=\"0\" y=\"0.390625\" font-family=\"Helvetica\" font-size=\"20\" font-weight=\"400\" font-style=\"normal\" \n",
       " >10</text>\n",
       "</g>\n",
       "\n",
       "<g fill=\"#616161\" fill-opacity=\"1\" stroke=\"#616161\" stroke-opacity=\"1\" stroke-width=\"1\" stroke-linecap=\"square\" stroke-linejoin=\"bevel\" transform=\"matrix(0.49985,0,0,0.499751,225.232,457.772)\"\n",
       "font-family=\"Helvetica\" font-size=\"20\" font-weight=\"400\" font-style=\"normal\" \n",
       ">\n",
       "<text fill=\"#616161\" fill-opacity=\"1\" stroke=\"none\" xml:space=\"preserve\" x=\"0\" y=\"0.390625\" font-family=\"Helvetica\" font-size=\"20\" font-weight=\"400\" font-style=\"normal\" \n",
       " >20</text>\n",
       "</g>\n",
       "\n",
       "<g fill=\"#616161\" fill-opacity=\"1\" stroke=\"#616161\" stroke-opacity=\"1\" stroke-width=\"1\" stroke-linecap=\"square\" stroke-linejoin=\"bevel\" transform=\"matrix(0.49985,0,0,0.499751,290.613,457.772)\"\n",
       "font-family=\"Helvetica\" font-size=\"20\" font-weight=\"400\" font-style=\"normal\" \n",
       ">\n",
       "<text fill=\"#616161\" fill-opacity=\"1\" stroke=\"none\" xml:space=\"preserve\" x=\"0\" y=\"0.390625\" font-family=\"Helvetica\" font-size=\"20\" font-weight=\"400\" font-style=\"normal\" \n",
       " >30</text>\n",
       "</g>\n",
       "\n",
       "<g fill=\"#616161\" fill-opacity=\"1\" stroke=\"#616161\" stroke-opacity=\"1\" stroke-width=\"1\" stroke-linecap=\"square\" stroke-linejoin=\"bevel\" transform=\"matrix(0.49985,0,0,0.499751,355.993,457.772)\"\n",
       "font-family=\"Helvetica\" font-size=\"20\" font-weight=\"400\" font-style=\"normal\" \n",
       ">\n",
       "<text fill=\"#616161\" fill-opacity=\"1\" stroke=\"none\" xml:space=\"preserve\" x=\"0\" y=\"0.390625\" font-family=\"Helvetica\" font-size=\"20\" font-weight=\"400\" font-style=\"normal\" \n",
       " >40</text>\n",
       "</g>\n",
       "\n",
       "<g fill=\"#616161\" fill-opacity=\"1\" stroke=\"#616161\" stroke-opacity=\"1\" stroke-width=\"1\" stroke-linecap=\"square\" stroke-linejoin=\"bevel\" transform=\"matrix(0.49985,0,0,0.499751,421.374,457.772)\"\n",
       "font-family=\"Helvetica\" font-size=\"20\" font-weight=\"400\" font-style=\"normal\" \n",
       ">\n",
       "<text fill=\"#616161\" fill-opacity=\"1\" stroke=\"none\" xml:space=\"preserve\" x=\"0\" y=\"0.390625\" font-family=\"Helvetica\" font-size=\"20\" font-weight=\"400\" font-style=\"normal\" \n",
       " >50</text>\n",
       "</g>\n",
       "\n",
       "<g fill=\"#616161\" fill-opacity=\"1\" stroke=\"#616161\" stroke-opacity=\"1\" stroke-width=\"1\" stroke-linecap=\"square\" stroke-linejoin=\"bevel\" transform=\"matrix(0.49985,0,0,0.499751,486.754,457.772)\"\n",
       "font-family=\"Helvetica\" font-size=\"20\" font-weight=\"400\" font-style=\"normal\" \n",
       ">\n",
       "<text fill=\"#616161\" fill-opacity=\"1\" stroke=\"none\" xml:space=\"preserve\" x=\"0\" y=\"0.390625\" font-family=\"Helvetica\" font-size=\"20\" font-weight=\"400\" font-style=\"normal\" \n",
       " >60</text>\n",
       "</g>\n",
       "\n",
       "<g fill=\"#616161\" fill-opacity=\"1\" stroke=\"#616161\" stroke-opacity=\"1\" stroke-width=\"1\" stroke-linecap=\"square\" stroke-linejoin=\"bevel\" transform=\"matrix(0.49985,0,0,0.499751,552.134,457.772)\"\n",
       "font-family=\"Helvetica\" font-size=\"20\" font-weight=\"400\" font-style=\"normal\" \n",
       ">\n",
       "<text fill=\"#616161\" fill-opacity=\"1\" stroke=\"none\" xml:space=\"preserve\" x=\"0\" y=\"0.390625\" font-family=\"Helvetica\" font-size=\"20\" font-weight=\"400\" font-style=\"normal\" \n",
       " >70</text>\n",
       "</g>\n",
       "\n",
       "<g fill=\"#616161\" fill-opacity=\"1\" stroke=\"#616161\" stroke-opacity=\"1\" stroke-width=\"1\" stroke-linecap=\"square\" stroke-linejoin=\"bevel\" transform=\"matrix(0.49985,0,0,0.499751,617.515,457.772)\"\n",
       "font-family=\"Helvetica\" font-size=\"20\" font-weight=\"400\" font-style=\"normal\" \n",
       ">\n",
       "<text fill=\"#616161\" fill-opacity=\"1\" stroke=\"none\" xml:space=\"preserve\" x=\"0\" y=\"0.390625\" font-family=\"Helvetica\" font-size=\"20\" font-weight=\"400\" font-style=\"normal\" \n",
       " >80</text>\n",
       "</g>\n",
       "\n",
       "<g fill=\"#616161\" fill-opacity=\"1\" stroke=\"#616161\" stroke-opacity=\"1\" stroke-width=\"1\" stroke-linecap=\"square\" stroke-linejoin=\"bevel\" transform=\"matrix(0.49985,0,0,0.499751,682.895,457.772)\"\n",
       "font-family=\"Helvetica\" font-size=\"20\" font-weight=\"400\" font-style=\"normal\" \n",
       ">\n",
       "<text fill=\"#616161\" fill-opacity=\"1\" stroke=\"none\" xml:space=\"preserve\" x=\"0\" y=\"0.390625\" font-family=\"Helvetica\" font-size=\"20\" font-weight=\"400\" font-style=\"normal\" \n",
       " >90</text>\n",
       "</g>\n",
       "\n",
       "<g fill=\"#616161\" fill-opacity=\"1\" stroke=\"#616161\" stroke-opacity=\"1\" stroke-width=\"1\" stroke-linecap=\"square\" stroke-linejoin=\"bevel\" transform=\"matrix(0.49985,0,0,0.499751,745.526,457.772)\"\n",
       "font-family=\"Helvetica\" font-size=\"20\" font-weight=\"400\" font-style=\"normal\" \n",
       ">\n",
       "<text fill=\"#616161\" fill-opacity=\"1\" stroke=\"none\" xml:space=\"preserve\" x=\"0\" y=\"0.390625\" font-family=\"Helvetica\" font-size=\"20\" font-weight=\"400\" font-style=\"normal\" \n",
       " >100</text>\n",
       "</g>\n",
       "\n",
       "<g fill=\"#616161\" fill-opacity=\"1\" stroke=\"#616161\" stroke-opacity=\"1\" stroke-width=\"1\" stroke-linecap=\"square\" stroke-linejoin=\"round\" transform=\"matrix(0.49985,0,0,0.499751,0,0)\"\n",
       "font-family=\"Helvetica\" font-size=\"20\" font-weight=\"400\" font-style=\"normal\" \n",
       ">\n",
       "<polyline fill=\"none\" vector-effect=\"none\" points=\"200,893 200,88 \" />\n",
       "<polyline fill=\"none\" vector-effect=\"none\" points=\"1508,893 1508,88 \" />\n",
       "<polyline fill=\"none\" vector-effect=\"none\" points=\"200,893 213.08,893 \" />\n",
       "<polyline fill=\"none\" vector-effect=\"none\" points=\"200,812.5 213.08,812.5 \" />\n",
       "<polyline fill=\"none\" vector-effect=\"none\" points=\"200,732 213.08,732 \" />\n",
       "<polyline fill=\"none\" vector-effect=\"none\" points=\"200,651.5 213.08,651.5 \" />\n",
       "<polyline fill=\"none\" vector-effect=\"none\" points=\"200,571 213.08,571 \" />\n",
       "<polyline fill=\"none\" vector-effect=\"none\" points=\"200,490.5 213.08,490.5 \" />\n",
       "<polyline fill=\"none\" vector-effect=\"none\" points=\"200,410 213.08,410 \" />\n",
       "<polyline fill=\"none\" vector-effect=\"none\" points=\"200,329.5 213.08,329.5 \" />\n",
       "<polyline fill=\"none\" vector-effect=\"none\" points=\"200,249 213.08,249 \" />\n",
       "<polyline fill=\"none\" vector-effect=\"none\" points=\"200,168.5 213.08,168.5 \" />\n",
       "<polyline fill=\"none\" vector-effect=\"none\" points=\"200,88 213.08,88 \" />\n",
       "<polyline fill=\"none\" vector-effect=\"none\" points=\"1508,893 1494.92,893 \" />\n",
       "<polyline fill=\"none\" vector-effect=\"none\" points=\"1508,812.5 1494.92,812.5 \" />\n",
       "<polyline fill=\"none\" vector-effect=\"none\" points=\"1508,732 1494.92,732 \" />\n",
       "<polyline fill=\"none\" vector-effect=\"none\" points=\"1508,651.5 1494.92,651.5 \" />\n",
       "<polyline fill=\"none\" vector-effect=\"none\" points=\"1508,571 1494.92,571 \" />\n",
       "<polyline fill=\"none\" vector-effect=\"none\" points=\"1508,490.5 1494.92,490.5 \" />\n",
       "<polyline fill=\"none\" vector-effect=\"none\" points=\"1508,410 1494.92,410 \" />\n",
       "<polyline fill=\"none\" vector-effect=\"none\" points=\"1508,329.5 1494.92,329.5 \" />\n",
       "<polyline fill=\"none\" vector-effect=\"none\" points=\"1508,249 1494.92,249 \" />\n",
       "<polyline fill=\"none\" vector-effect=\"none\" points=\"1508,168.5 1494.92,168.5 \" />\n",
       "<polyline fill=\"none\" vector-effect=\"none\" points=\"1508,88 1494.92,88 \" />\n",
       "</g>\n",
       "\n",
       "<g fill=\"#616161\" fill-opacity=\"1\" stroke=\"#616161\" stroke-opacity=\"1\" stroke-width=\"1\" stroke-linecap=\"square\" stroke-linejoin=\"bevel\" transform=\"matrix(0.49985,0,0,0.499751,90.4729,448.776)\"\n",
       "font-family=\"Helvetica\" font-size=\"20\" font-weight=\"400\" font-style=\"normal\" \n",
       ">\n",
       "<text fill=\"#616161\" fill-opacity=\"1\" stroke=\"none\" xml:space=\"preserve\" x=\"0\" y=\"0.390625\" font-family=\"Helvetica\" font-size=\"20\" font-weight=\"400\" font-style=\"normal\" \n",
       " >0</text>\n",
       "</g>\n",
       "\n",
       "<g fill=\"#616161\" fill-opacity=\"1\" stroke=\"#616161\" stroke-opacity=\"1\" stroke-width=\"1\" stroke-linecap=\"square\" stroke-linejoin=\"bevel\" transform=\"matrix(0.49985,0,0,0.499751,90.4729,408.546)\"\n",
       "font-family=\"Helvetica\" font-size=\"20\" font-weight=\"400\" font-style=\"normal\" \n",
       ">\n",
       "<text fill=\"#616161\" fill-opacity=\"1\" stroke=\"none\" xml:space=\"preserve\" x=\"0\" y=\"0.390625\" font-family=\"Helvetica\" font-size=\"20\" font-weight=\"400\" font-style=\"normal\" \n",
       " >5</text>\n",
       "</g>\n",
       "\n",
       "<g fill=\"#616161\" fill-opacity=\"1\" stroke=\"#616161\" stroke-opacity=\"1\" stroke-width=\"1\" stroke-linecap=\"square\" stroke-linejoin=\"bevel\" transform=\"matrix(0.49985,0,0,0.499751,84.9745,368.316)\"\n",
       "font-family=\"Helvetica\" font-size=\"20\" font-weight=\"400\" font-style=\"normal\" \n",
       ">\n",
       "<text fill=\"#616161\" fill-opacity=\"1\" stroke=\"none\" xml:space=\"preserve\" x=\"0\" y=\"0.390625\" font-family=\"Helvetica\" font-size=\"20\" font-weight=\"400\" font-style=\"normal\" \n",
       " >10</text>\n",
       "</g>\n",
       "\n",
       "<g fill=\"#616161\" fill-opacity=\"1\" stroke=\"#616161\" stroke-opacity=\"1\" stroke-width=\"1\" stroke-linecap=\"square\" stroke-linejoin=\"bevel\" transform=\"matrix(0.49985,0,0,0.499751,84.9745,328.087)\"\n",
       "font-family=\"Helvetica\" font-size=\"20\" font-weight=\"400\" font-style=\"normal\" \n",
       ">\n",
       "<text fill=\"#616161\" fill-opacity=\"1\" stroke=\"none\" xml:space=\"preserve\" x=\"0\" y=\"0.390625\" font-family=\"Helvetica\" font-size=\"20\" font-weight=\"400\" font-style=\"normal\" \n",
       " >15</text>\n",
       "</g>\n",
       "\n",
       "<g fill=\"#616161\" fill-opacity=\"1\" stroke=\"#616161\" stroke-opacity=\"1\" stroke-width=\"1\" stroke-linecap=\"square\" stroke-linejoin=\"bevel\" transform=\"matrix(0.49985,0,0,0.499751,84.9745,287.857)\"\n",
       "font-family=\"Helvetica\" font-size=\"20\" font-weight=\"400\" font-style=\"normal\" \n",
       ">\n",
       "<text fill=\"#616161\" fill-opacity=\"1\" stroke=\"none\" xml:space=\"preserve\" x=\"0\" y=\"0.390625\" font-family=\"Helvetica\" font-size=\"20\" font-weight=\"400\" font-style=\"normal\" \n",
       " >20</text>\n",
       "</g>\n",
       "\n",
       "<g fill=\"#616161\" fill-opacity=\"1\" stroke=\"#616161\" stroke-opacity=\"1\" stroke-width=\"1\" stroke-linecap=\"square\" stroke-linejoin=\"bevel\" transform=\"matrix(0.49985,0,0,0.499751,84.9745,247.627)\"\n",
       "font-family=\"Helvetica\" font-size=\"20\" font-weight=\"400\" font-style=\"normal\" \n",
       ">\n",
       "<text fill=\"#616161\" fill-opacity=\"1\" stroke=\"none\" xml:space=\"preserve\" x=\"0\" y=\"0.390625\" font-family=\"Helvetica\" font-size=\"20\" font-weight=\"400\" font-style=\"normal\" \n",
       " >25</text>\n",
       "</g>\n",
       "\n",
       "<g fill=\"#616161\" fill-opacity=\"1\" stroke=\"#616161\" stroke-opacity=\"1\" stroke-width=\"1\" stroke-linecap=\"square\" stroke-linejoin=\"bevel\" transform=\"matrix(0.49985,0,0,0.499751,84.9745,207.397)\"\n",
       "font-family=\"Helvetica\" font-size=\"20\" font-weight=\"400\" font-style=\"normal\" \n",
       ">\n",
       "<text fill=\"#616161\" fill-opacity=\"1\" stroke=\"none\" xml:space=\"preserve\" x=\"0\" y=\"0.390625\" font-family=\"Helvetica\" font-size=\"20\" font-weight=\"400\" font-style=\"normal\" \n",
       " >30</text>\n",
       "</g>\n",
       "\n",
       "<g fill=\"#616161\" fill-opacity=\"1\" stroke=\"#616161\" stroke-opacity=\"1\" stroke-width=\"1\" stroke-linecap=\"square\" stroke-linejoin=\"bevel\" transform=\"matrix(0.49985,0,0,0.499751,84.9745,167.167)\"\n",
       "font-family=\"Helvetica\" font-size=\"20\" font-weight=\"400\" font-style=\"normal\" \n",
       ">\n",
       "<text fill=\"#616161\" fill-opacity=\"1\" stroke=\"none\" xml:space=\"preserve\" x=\"0\" y=\"0.390625\" font-family=\"Helvetica\" font-size=\"20\" font-weight=\"400\" font-style=\"normal\" \n",
       " >35</text>\n",
       "</g>\n",
       "\n",
       "<g fill=\"#616161\" fill-opacity=\"1\" stroke=\"#616161\" stroke-opacity=\"1\" stroke-width=\"1\" stroke-linecap=\"square\" stroke-linejoin=\"bevel\" transform=\"matrix(0.49985,0,0,0.499751,84.9745,126.937)\"\n",
       "font-family=\"Helvetica\" font-size=\"20\" font-weight=\"400\" font-style=\"normal\" \n",
       ">\n",
       "<text fill=\"#616161\" fill-opacity=\"1\" stroke=\"none\" xml:space=\"preserve\" x=\"0\" y=\"0.390625\" font-family=\"Helvetica\" font-size=\"20\" font-weight=\"400\" font-style=\"normal\" \n",
       " >40</text>\n",
       "</g>\n",
       "\n",
       "<g fill=\"#616161\" fill-opacity=\"1\" stroke=\"#616161\" stroke-opacity=\"1\" stroke-width=\"1\" stroke-linecap=\"square\" stroke-linejoin=\"bevel\" transform=\"matrix(0.49985,0,0,0.499751,84.9745,86.7068)\"\n",
       "font-family=\"Helvetica\" font-size=\"20\" font-weight=\"400\" font-style=\"normal\" \n",
       ">\n",
       "<text fill=\"#616161\" fill-opacity=\"1\" stroke=\"none\" xml:space=\"preserve\" x=\"0\" y=\"0.390625\" font-family=\"Helvetica\" font-size=\"20\" font-weight=\"400\" font-style=\"normal\" \n",
       " >45</text>\n",
       "</g>\n",
       "\n",
       "<g fill=\"#616161\" fill-opacity=\"1\" stroke=\"#616161\" stroke-opacity=\"1\" stroke-width=\"1\" stroke-linecap=\"square\" stroke-linejoin=\"bevel\" transform=\"matrix(0.49985,0,0,0.499751,84.9745,46.4768)\"\n",
       "font-family=\"Helvetica\" font-size=\"20\" font-weight=\"400\" font-style=\"normal\" \n",
       ">\n",
       "<text fill=\"#616161\" fill-opacity=\"1\" stroke=\"none\" xml:space=\"preserve\" x=\"0\" y=\"0.390625\" font-family=\"Helvetica\" font-size=\"20\" font-weight=\"400\" font-style=\"normal\" \n",
       " >50</text>\n",
       "</g>\n",
       "\n",
       "<g fill=\"#7d7d7d\" fill-opacity=\"0.701961\" stroke=\"#7d7d7d\" stroke-opacity=\"0.701961\" stroke-dasharray=\"1,3\" stroke-dashoffset=\"0\" stroke-width=\"1\" stroke-linecap=\"butt\" stroke-linejoin=\"round\" transform=\"matrix(0.49985,0,0,0.499751,0,0)\"\n",
       "font-family=\"Helvetica\" font-size=\"20\" font-weight=\"400\" font-style=\"normal\" \n",
       ">\n",
       "<polyline fill=\"none\" vector-effect=\"none\" points=\"200,88 1508,88 \" />\n",
       "</g>\n",
       "\n",
       "<g fill=\"none\" stroke=\"#1171be\" stroke-opacity=\"1\" stroke-width=\"1\" stroke-linecap=\"butt\" stroke-linejoin=\"round\" transform=\"matrix(0.49985,0,0,0.499751,0,0)\"\n",
       "font-family=\"Helvetica\" font-size=\"20\" font-weight=\"400\" font-style=\"normal\" \n",
       ">\n",
       "<polyline fill=\"none\" vector-effect=\"none\" points=\"200,893 213.08,833.399 226.16,778.21 239.24,727.108 252.32,679.789 265.4,635.973 278.48,595.402 291.56,557.835 304.64,523.049 317.72,490.838 330.8,461.012 343.88,433.395 356.96,407.822 370.04,384.143 383.12,362.217 396.2,341.914 409.28,323.115 422.36,305.707 435.44,289.588 448.52,274.663 461.6,260.842 474.68,248.045 487.76,236.196 500.84,225.224 513.92,215.064 527,205.656 540.08,196.945 553.16,188.879 566.24,181.41 579.32,174.494 592.4,168.09 605.48,162.16 618.56,156.669 631.64,151.585 644.72,146.877 657.8,142.518 670.88,138.482 683.96,134.744 697.04,131.283 710.12,128.079 723.2,125.111 736.28,122.364 749.36,119.819 762.44,117.463 775.52,115.282 788.6,113.262 801.68,111.392 814.76,109.66 827.84,108.056 840.92,106.571 854,105.196 867.08,103.923 880.16,102.744 893.24,101.652 906.32,100.642 919.4,99.7056 932.48,98.839 945.56,98.0365 958.64,97.2934 971.72,96.6053 984.8,95.9682 997.88,95.3782 1010.96,94.832 1024.04,94.3262 1037.12,93.8577 1050.2,93.4241 1063.28,93.0225 1076.36,92.6506 1089.44,92.3063 1102.52,91.9874 1115.6,91.6922 1128.68,91.4188 1141.76,91.1657 1154.84,90.9314 1167.92,90.7143 1181,90.5134 1194.08,90.3273 1207.16,90.1549 1220.24,89.9954 1233.32,89.8477 1246.4,89.7109 1259.48,89.5842 1272.56,89.4669 1285.64,89.3583 1298.72,89.2578 1311.8,89.1646 1324.88,89.0784 1337.96,88.9985 1351.04,88.9246 1364.12,88.8561 1377.2,88.7928 1390.28,88.7341 1403.36,88.6797 1416.44,88.6294 1429.52,88.5828 1442.6,88.5397 1455.68,88.4997 1468.76,88.4627 1481.84,88.4284 1494.92,88.3967 1508,88.3673 \" />\n",
       "</g>\n",
       "</g>\n",
       "</svg>\n"
      ]
     },
     "metadata": {},
     "output_type": "display_data"
    }
   ],
   "source": [
    "gain = 50/0.01;\n",
    "% new step response\n",
    "step(gain*G, Tfinal),ylabel('v(t) [metres/s]'),grid"
   ]
  },
  {
   "cell_type": "markdown",
   "id": "d56720b1",
   "metadata": {
    "slideshow": {
     "slide_type": "subslide"
    }
   },
   "source": [
    "In this case an acceleration from 0-60 mph is achieved in about 10 seconds."
   ]
  },
  {
   "cell_type": "markdown",
   "id": "8045b704",
   "metadata": {
    "slideshow": {
     "slide_type": "slide"
    }
   },
   "source": [
    "## Analytic computation of the impulse and step responses\n",
    "\n",
    "At this point, you be wondering: \"how are the impulse and step responses calculated?\""
   ]
  },
  {
   "cell_type": "markdown",
   "id": "bf852202",
   "metadata": {
    "slideshow": {
     "slide_type": "subslide"
    }
   },
   "source": [
    "In MATLAB, they are numerically estimated."
   ]
  },
  {
   "cell_type": "markdown",
   "id": "ad7a72de",
   "metadata": {
    "slideshow": {
     "slide_type": "fragment"
    }
   },
   "source": [
    "In many common cases, it is also possible to derive the response analytically."
   ]
  },
  {
   "cell_type": "markdown",
   "id": "10063b7b",
   "metadata": {
    "slideshow": {
     "slide_type": "notes"
    }
   },
   "source": [
    "While in practice solving for the analytic response is typically unnecessary, it is a valuable exercise to develop further intuition."
   ]
  },
  {
   "cell_type": "markdown",
   "id": "14302ae1",
   "metadata": {
    "slideshow": {
     "slide_type": "subslide"
    }
   },
   "source": [
    "To analytically solve for the impulse or step response:\n",
    "\n",
    "1. take the Laplace transform of the input function\n",
    "2. solve for $X(s)$\n",
    "3. back-transform $X(s)$ to obtain the time-domain response $x(t)$"
   ]
  },
  {
   "cell_type": "markdown",
   "id": "b3a9d378",
   "metadata": {
    "slideshow": {
     "slide_type": "subslide"
    }
   },
   "source": [
    "If you don't want to perform Step 1 by hand, you can simply use a table or the `laplace` function. You can complete Step 3 using a transform table or the [`ilaplace`](https://www.mathworks.com/help/symbolic/ilaplace.html) function from the Symbolic Math Toolbox."
   ]
  },
  {
   "cell_type": "markdown",
   "id": "215e6c33",
   "metadata": {
    "slideshow": {
     "slide_type": "subslide"
    }
   },
   "source": [
    "### Example 4"
   ]
  },
  {
   "cell_type": "markdown",
   "id": "5b94dd01",
   "metadata": {
    "slideshow": {
     "slide_type": "fragment"
    }
   },
   "source": [
    "#### 4(a)\n",
    "\n",
    "Compute the analytic impulse response for the simple vehicle model using its position transfer function."
   ]
  },
  {
   "cell_type": "markdown",
   "id": "ba674988",
   "metadata": {
    "slideshow": {
     "slide_type": "fragment"
    }
   },
   "source": [
    "#### 4(b)\n",
    "\n",
    "Set $m = 1300$ and $k = 100$. Then plot the analytic impulse result and compare it to the solution found using the `impulse` function."
   ]
  },
  {
   "cell_type": "markdown",
   "id": "16c6c178",
   "metadata": {
    "slideshow": {
     "slide_type": "subslide"
    }
   },
   "source": [
    "### Solution to Example 4"
   ]
  },
  {
   "cell_type": "markdown",
   "id": "9d6affad",
   "metadata": {
    "slideshow": {
     "slide_type": "subslide"
    }
   },
   "source": [
    "#### Solution to Example 4(a)\n",
    "\n",
    "Recall that the position transfer function for the simple vehicle model was:\n",
    "\n",
    "$$G(s) = \\frac{X(s)}{U(s)} = \\frac{1}{ms^2 + ks}$$"
   ]
  },
  {
   "cell_type": "markdown",
   "id": "a371e14f",
   "metadata": {
    "slideshow": {
     "slide_type": "fragment"
    }
   },
   "source": [
    "Start by computing the Laplace transform of the input forcing function $\\delta(t)$:\n",
    "\n",
    "$$U(s) = \\int_{0}^\\infty \\delta(t) e^{-st} dt = e^{-st}|_{t = 0} = 1$$"
   ]
  },
  {
   "cell_type": "markdown",
   "id": "023212d4",
   "metadata": {
    "slideshow": {
     "slide_type": "skip"
    }
   },
   "source": [
    "This implies that\n",
    "\n",
    "$$X(s)= \\frac{1}{ms^2 + ks}$$"
   ]
  },
  {
   "cell_type": "markdown",
   "id": "5b2f20df",
   "metadata": {
    "slideshow": {
     "slide_type": "subslide"
    }
   },
   "source": [
    "At this point, you can refer to a table or use the `ilaplace` function to evaluate the inverse Laplace transform."
   ]
  },
  {
   "cell_type": "code",
   "execution_count": 35,
   "id": "fc623300",
   "metadata": {
    "slideshow": {
     "slide_type": "subslide"
    }
   },
   "outputs": [
    {
     "name": "stdout",
     "output_type": "stream",
     "text": [
      "X =\n",
      "1/(m*s^2 + k*s)\n",
      "x =\n",
      "1/k - exp(-(k*t)/m)/k\n"
     ]
    }
   ],
   "source": [
    "syms m k positive\n",
    "syms s x\n",
    "X = 1/(m*s^2 + k*s)\n",
    "x = ilaplace(X)"
   ]
  },
  {
   "cell_type": "markdown",
   "id": "2a9c3da8",
   "metadata": {
    "slideshow": {
     "slide_type": "subslide"
    }
   },
   "source": [
    "#### Solution to Example 4(b)\n",
    "\n",
    "First define the transfer function using `tf` and then compute the impulse response."
   ]
  },
  {
   "cell_type": "code",
   "execution_count": 36,
   "id": "9856bc03",
   "metadata": {
    "slideshow": {
     "slide_type": "subslide"
    }
   },
   "outputs": [],
   "source": [
    "m = 1300;\n",
    "k = 100;\n",
    "Xs = tf([0 0 1],[m k 0]);\n",
    "[x,t] = impulse(Xs);"
   ]
  },
  {
   "cell_type": "markdown",
   "id": "765866d4",
   "metadata": {
    "slideshow": {
     "slide_type": "subslide"
    }
   },
   "source": [
    "Now compute the analytic solution on the same interval and plot the comparison."
   ]
  },
  {
   "cell_type": "code",
   "execution_count": 37,
   "id": "753659e1",
   "metadata": {
    "slideshow": {
     "slide_type": "subslide"
    }
   },
   "outputs": [
    {
     "data": {
      "image/svg+xml": [
       "<?xml version=\"1.0\" encoding=\"UTF-8\" standalone=\"no\"?>\n",
       "<svg width=\"294.217mm\" height=\"177.094mm\"\n",
       " viewBox=\"0 0 834 502\"\n",
       " xmlns=\"http://www.w3.org/2000/svg\" xmlns:xlink=\"http://www.w3.org/1999/xlink\"  version=\"1.2\" baseProfile=\"tiny\">\n",
       "<title>Qt SVG Document</title>\n",
       "<desc>MATLAB, The MathWorks, Inc. Version 25.1.0.2833191 R2025a Prerelease Update 2</desc>\n",
       "<defs>\n",
       "</defs>\n",
       "<g fill=\"none\" stroke=\"black\" stroke-width=\"1\" fill-rule=\"evenodd\" stroke-linecap=\"square\" stroke-linejoin=\"bevel\" >\n",
       "\n",
       "<g fill=\"#ffffff\" fill-opacity=\"1\" stroke=\"none\" transform=\"matrix(0.49985,0,0,0.499751,0,0)\"\n",
       "font-family=\".AppleSystemUIFont\" font-size=\"13\" font-weight=\"400\" font-style=\"normal\" \n",
       ">\n",
       "<path vector-effect=\"none\" fill-rule=\"evenodd\" d=\"M0,0 L1668,0 L1668,1005 L0,1005 L0,0\"/>\n",
       "</g>\n",
       "\n",
       "<g fill=\"#ffffff\" fill-opacity=\"1\" stroke=\"none\" transform=\"matrix(4.9985e-05,0,0,4.99751e-05,0,0)\"\n",
       "font-family=\".AppleSystemUIFont\" font-size=\"13\" font-weight=\"400\" font-style=\"normal\" \n",
       ">\n",
       "<path vector-effect=\"none\" fill-rule=\"evenodd\" d=\"M2.17e+06,750000 L2.17e+06,8.93e+06 L1.508e+07,8.93e+06 L1.508e+07,750000 L2.17e+06,750000\"/>\n",
       "</g>\n",
       "\n",
       "<g fill=\"#212121\" fill-opacity=\"0.14902\" stroke=\"#212121\" stroke-opacity=\"0.14902\" stroke-width=\"1\" stroke-linecap=\"butt\" stroke-linejoin=\"round\" transform=\"matrix(0.49985,0,0,0.499751,0,0)\"\n",
       "font-family=\".AppleSystemUIFont\" font-size=\"13\" font-weight=\"400\" font-style=\"normal\" \n",
       ">\n",
       "<polyline fill=\"none\" vector-effect=\"none\" points=\"217,75 217,893 \" />\n",
       "<polyline fill=\"none\" vector-effect=\"none\" points=\"346.1,75 346.1,893 \" />\n",
       "<polyline fill=\"none\" vector-effect=\"none\" points=\"475.2,75 475.2,893 \" />\n",
       "<polyline fill=\"none\" vector-effect=\"none\" points=\"604.3,75 604.3,893 \" />\n",
       "<polyline fill=\"none\" vector-effect=\"none\" points=\"733.4,75 733.4,893 \" />\n",
       "<polyline fill=\"none\" vector-effect=\"none\" points=\"862.5,75 862.5,893 \" />\n",
       "<polyline fill=\"none\" vector-effect=\"none\" points=\"991.6,75 991.6,893 \" />\n",
       "<polyline fill=\"none\" vector-effect=\"none\" points=\"1120.7,75 1120.7,893 \" />\n",
       "<polyline fill=\"none\" vector-effect=\"none\" points=\"1249.8,75 1249.8,893 \" />\n",
       "<polyline fill=\"none\" vector-effect=\"none\" points=\"1378.9,75 1378.9,893 \" />\n",
       "<polyline fill=\"none\" vector-effect=\"none\" points=\"1508,75 1508,893 \" />\n",
       "<polyline fill=\"none\" vector-effect=\"none\" points=\"217,893 1508,893 \" />\n",
       "<polyline fill=\"none\" vector-effect=\"none\" points=\"217,811.2 1508,811.2 \" />\n",
       "<polyline fill=\"none\" vector-effect=\"none\" points=\"217,729.4 1508,729.4 \" />\n",
       "<polyline fill=\"none\" vector-effect=\"none\" points=\"217,647.6 1508,647.6 \" />\n",
       "<polyline fill=\"none\" vector-effect=\"none\" points=\"217,565.8 1508,565.8 \" />\n",
       "<polyline fill=\"none\" vector-effect=\"none\" points=\"217,484 1508,484 \" />\n",
       "<polyline fill=\"none\" vector-effect=\"none\" points=\"217,402.2 1508,402.2 \" />\n",
       "<polyline fill=\"none\" vector-effect=\"none\" points=\"217,320.4 1508,320.4 \" />\n",
       "<polyline fill=\"none\" vector-effect=\"none\" points=\"217,238.6 1508,238.6 \" />\n",
       "<polyline fill=\"none\" vector-effect=\"none\" points=\"217,156.8 1508,156.8 \" />\n",
       "<polyline fill=\"none\" vector-effect=\"none\" points=\"217,75 1508,75 \" />\n",
       "</g>\n",
       "\n",
       "<g fill=\"#212121\" fill-opacity=\"1\" stroke=\"#212121\" stroke-opacity=\"1\" stroke-width=\"1\" stroke-linecap=\"square\" stroke-linejoin=\"bevel\" transform=\"matrix(0.49985,0,0,0.499751,422.374,471.265)\"\n",
       "font-family=\"Helvetica\" font-size=\"22\" font-weight=\"400\" font-style=\"normal\" \n",
       ">\n",
       "<text fill=\"#212121\" fill-opacity=\"1\" stroke=\"none\" xml:space=\"preserve\" x=\"0\" y=\"-0.0625\" font-family=\"Helvetica\" font-size=\"22\" font-weight=\"400\" font-style=\"normal\" \n",
       " >t [s]</text>\n",
       "</g>\n",
       "\n",
       "<g fill=\"#212121\" fill-opacity=\"1\" stroke=\"#212121\" stroke-opacity=\"1\" stroke-width=\"1\" stroke-linecap=\"butt\" stroke-linejoin=\"round\" transform=\"matrix(0.49985,0,0,0.499751,0,0)\"\n",
       "font-family=\"Helvetica\" font-size=\"22\" font-weight=\"400\" font-style=\"normal\" \n",
       ">\n",
       "<polyline fill=\"none\" vector-effect=\"none\" points=\"217,893 1508,893 \" />\n",
       "<polyline fill=\"none\" vector-effect=\"none\" points=\"217,75 1508,75 \" />\n",
       "<polyline fill=\"none\" vector-effect=\"none\" points=\"217,893 217,880.09 \" />\n",
       "<polyline fill=\"none\" vector-effect=\"none\" points=\"217,87.91 217,75 \" />\n",
       "<polyline fill=\"none\" vector-effect=\"none\" points=\"346.1,893 346.1,880.09 \" />\n",
       "<polyline fill=\"none\" vector-effect=\"none\" points=\"346.1,87.91 346.1,75 \" />\n",
       "<polyline fill=\"none\" vector-effect=\"none\" points=\"475.2,893 475.2,880.09 \" />\n",
       "<polyline fill=\"none\" vector-effect=\"none\" points=\"475.2,87.91 475.2,75 \" />\n",
       "<polyline fill=\"none\" vector-effect=\"none\" points=\"604.3,893 604.3,880.09 \" />\n",
       "<polyline fill=\"none\" vector-effect=\"none\" points=\"604.3,87.91 604.3,75 \" />\n",
       "<polyline fill=\"none\" vector-effect=\"none\" points=\"733.4,893 733.4,880.09 \" />\n",
       "<polyline fill=\"none\" vector-effect=\"none\" points=\"733.4,87.91 733.4,75 \" />\n",
       "<polyline fill=\"none\" vector-effect=\"none\" points=\"862.5,893 862.5,880.09 \" />\n",
       "<polyline fill=\"none\" vector-effect=\"none\" points=\"862.5,87.91 862.5,75 \" />\n",
       "<polyline fill=\"none\" vector-effect=\"none\" points=\"991.6,893 991.6,880.09 \" />\n",
       "<polyline fill=\"none\" vector-effect=\"none\" points=\"991.6,87.91 991.6,75 \" />\n",
       "<polyline fill=\"none\" vector-effect=\"none\" points=\"1120.7,893 1120.7,880.09 \" />\n",
       "<polyline fill=\"none\" vector-effect=\"none\" points=\"1120.7,87.91 1120.7,75 \" />\n",
       "<polyline fill=\"none\" vector-effect=\"none\" points=\"1249.8,893 1249.8,880.09 \" />\n",
       "<polyline fill=\"none\" vector-effect=\"none\" points=\"1249.8,87.91 1249.8,75 \" />\n",
       "<polyline fill=\"none\" vector-effect=\"none\" points=\"1378.9,893 1378.9,880.09 \" />\n",
       "<polyline fill=\"none\" vector-effect=\"none\" points=\"1378.9,87.91 1378.9,75 \" />\n",
       "<polyline fill=\"none\" vector-effect=\"none\" points=\"1508,893 1508,880.09 \" />\n",
       "<polyline fill=\"none\" vector-effect=\"none\" points=\"1508,87.91 1508,75 \" />\n",
       "</g>\n",
       "\n",
       "<g fill=\"#212121\" fill-opacity=\"1\" stroke=\"#212121\" stroke-opacity=\"1\" stroke-width=\"1\" stroke-linecap=\"square\" stroke-linejoin=\"bevel\" transform=\"matrix(0.49985,0,0,0.499751,105.718,457.772)\"\n",
       "font-family=\"Helvetica\" font-size=\"20\" font-weight=\"400\" font-style=\"normal\" \n",
       ">\n",
       "<text fill=\"#212121\" fill-opacity=\"1\" stroke=\"none\" xml:space=\"preserve\" x=\"0\" y=\"0.390625\" font-family=\"Helvetica\" font-size=\"20\" font-weight=\"400\" font-style=\"normal\" \n",
       " >0</text>\n",
       "</g>\n",
       "\n",
       "<g fill=\"#212121\" fill-opacity=\"1\" stroke=\"#212121\" stroke-opacity=\"1\" stroke-width=\"1\" stroke-linecap=\"square\" stroke-linejoin=\"bevel\" transform=\"matrix(0.49985,0,0,0.499751,167.5,457.772)\"\n",
       "font-family=\"Helvetica\" font-size=\"20\" font-weight=\"400\" font-style=\"normal\" \n",
       ">\n",
       "<text fill=\"#212121\" fill-opacity=\"1\" stroke=\"none\" xml:space=\"preserve\" x=\"0\" y=\"0.390625\" font-family=\"Helvetica\" font-size=\"20\" font-weight=\"400\" font-style=\"normal\" \n",
       " >10</text>\n",
       "</g>\n",
       "\n",
       "<g fill=\"#212121\" fill-opacity=\"1\" stroke=\"#212121\" stroke-opacity=\"1\" stroke-width=\"1\" stroke-linecap=\"square\" stroke-linejoin=\"bevel\" transform=\"matrix(0.49985,0,0,0.499751,232.03,457.772)\"\n",
       "font-family=\"Helvetica\" font-size=\"20\" font-weight=\"400\" font-style=\"normal\" \n",
       ">\n",
       "<text fill=\"#212121\" fill-opacity=\"1\" stroke=\"none\" xml:space=\"preserve\" x=\"0\" y=\"0.390625\" font-family=\"Helvetica\" font-size=\"20\" font-weight=\"400\" font-style=\"normal\" \n",
       " >20</text>\n",
       "</g>\n",
       "\n",
       "<g fill=\"#212121\" fill-opacity=\"1\" stroke=\"#212121\" stroke-opacity=\"1\" stroke-width=\"1\" stroke-linecap=\"square\" stroke-linejoin=\"bevel\" transform=\"matrix(0.49985,0,0,0.499751,296.561,457.772)\"\n",
       "font-family=\"Helvetica\" font-size=\"20\" font-weight=\"400\" font-style=\"normal\" \n",
       ">\n",
       "<text fill=\"#212121\" fill-opacity=\"1\" stroke=\"none\" xml:space=\"preserve\" x=\"0\" y=\"0.390625\" font-family=\"Helvetica\" font-size=\"20\" font-weight=\"400\" font-style=\"normal\" \n",
       " >30</text>\n",
       "</g>\n",
       "\n",
       "<g fill=\"#212121\" fill-opacity=\"1\" stroke=\"#212121\" stroke-opacity=\"1\" stroke-width=\"1\" stroke-linecap=\"square\" stroke-linejoin=\"bevel\" transform=\"matrix(0.49985,0,0,0.499751,361.092,457.772)\"\n",
       "font-family=\"Helvetica\" font-size=\"20\" font-weight=\"400\" font-style=\"normal\" \n",
       ">\n",
       "<text fill=\"#212121\" fill-opacity=\"1\" stroke=\"none\" xml:space=\"preserve\" x=\"0\" y=\"0.390625\" font-family=\"Helvetica\" font-size=\"20\" font-weight=\"400\" font-style=\"normal\" \n",
       " >40</text>\n",
       "</g>\n",
       "\n",
       "<g fill=\"#212121\" fill-opacity=\"1\" stroke=\"#212121\" stroke-opacity=\"1\" stroke-width=\"1\" stroke-linecap=\"square\" stroke-linejoin=\"bevel\" transform=\"matrix(0.49985,0,0,0.499751,425.622,457.772)\"\n",
       "font-family=\"Helvetica\" font-size=\"20\" font-weight=\"400\" font-style=\"normal\" \n",
       ">\n",
       "<text fill=\"#212121\" fill-opacity=\"1\" stroke=\"none\" xml:space=\"preserve\" x=\"0\" y=\"0.390625\" font-family=\"Helvetica\" font-size=\"20\" font-weight=\"400\" font-style=\"normal\" \n",
       " >50</text>\n",
       "</g>\n",
       "\n",
       "<g fill=\"#212121\" fill-opacity=\"1\" stroke=\"#212121\" stroke-opacity=\"1\" stroke-width=\"1\" stroke-linecap=\"square\" stroke-linejoin=\"bevel\" transform=\"matrix(0.49985,0,0,0.499751,490.153,457.772)\"\n",
       "font-family=\"Helvetica\" font-size=\"20\" font-weight=\"400\" font-style=\"normal\" \n",
       ">\n",
       "<text fill=\"#212121\" fill-opacity=\"1\" stroke=\"none\" xml:space=\"preserve\" x=\"0\" y=\"0.390625\" font-family=\"Helvetica\" font-size=\"20\" font-weight=\"400\" font-style=\"normal\" \n",
       " >60</text>\n",
       "</g>\n",
       "\n",
       "<g fill=\"#212121\" fill-opacity=\"1\" stroke=\"#212121\" stroke-opacity=\"1\" stroke-width=\"1\" stroke-linecap=\"square\" stroke-linejoin=\"bevel\" transform=\"matrix(0.49985,0,0,0.499751,554.684,457.772)\"\n",
       "font-family=\"Helvetica\" font-size=\"20\" font-weight=\"400\" font-style=\"normal\" \n",
       ">\n",
       "<text fill=\"#212121\" fill-opacity=\"1\" stroke=\"none\" xml:space=\"preserve\" x=\"0\" y=\"0.390625\" font-family=\"Helvetica\" font-size=\"20\" font-weight=\"400\" font-style=\"normal\" \n",
       " >70</text>\n",
       "</g>\n",
       "\n",
       "<g fill=\"#212121\" fill-opacity=\"1\" stroke=\"#212121\" stroke-opacity=\"1\" stroke-width=\"1\" stroke-linecap=\"square\" stroke-linejoin=\"bevel\" transform=\"matrix(0.49985,0,0,0.499751,619.214,457.772)\"\n",
       "font-family=\"Helvetica\" font-size=\"20\" font-weight=\"400\" font-style=\"normal\" \n",
       ">\n",
       "<text fill=\"#212121\" fill-opacity=\"1\" stroke=\"none\" xml:space=\"preserve\" x=\"0\" y=\"0.390625\" font-family=\"Helvetica\" font-size=\"20\" font-weight=\"400\" font-style=\"normal\" \n",
       " >80</text>\n",
       "</g>\n",
       "\n",
       "<g fill=\"#212121\" fill-opacity=\"1\" stroke=\"#212121\" stroke-opacity=\"1\" stroke-width=\"1\" stroke-linecap=\"square\" stroke-linejoin=\"bevel\" transform=\"matrix(0.49985,0,0,0.499751,683.745,457.772)\"\n",
       "font-family=\"Helvetica\" font-size=\"20\" font-weight=\"400\" font-style=\"normal\" \n",
       ">\n",
       "<text fill=\"#212121\" fill-opacity=\"1\" stroke=\"none\" xml:space=\"preserve\" x=\"0\" y=\"0.390625\" font-family=\"Helvetica\" font-size=\"20\" font-weight=\"400\" font-style=\"normal\" \n",
       " >90</text>\n",
       "</g>\n",
       "\n",
       "<g fill=\"#212121\" fill-opacity=\"1\" stroke=\"#212121\" stroke-opacity=\"1\" stroke-width=\"1\" stroke-linecap=\"square\" stroke-linejoin=\"bevel\" transform=\"matrix(0.49985,0,0,0.499751,745.526,457.772)\"\n",
       "font-family=\"Helvetica\" font-size=\"20\" font-weight=\"400\" font-style=\"normal\" \n",
       ">\n",
       "<text fill=\"#212121\" fill-opacity=\"1\" stroke=\"none\" xml:space=\"preserve\" x=\"0\" y=\"0.390625\" font-family=\"Helvetica\" font-size=\"20\" font-weight=\"400\" font-style=\"normal\" \n",
       " >100</text>\n",
       "</g>\n",
       "\n",
       "<g fill=\"#212121\" fill-opacity=\"1\" stroke=\"#212121\" stroke-opacity=\"1\" stroke-width=\"1\" stroke-linecap=\"square\" stroke-linejoin=\"bevel\" transform=\"matrix(0,-0.499751,0.49985,0,73.478,253.873)\"\n",
       "font-family=\"Helvetica\" font-size=\"22\" font-weight=\"400\" font-style=\"normal\" \n",
       ">\n",
       "<text fill=\"#212121\" fill-opacity=\"1\" stroke=\"none\" xml:space=\"preserve\" x=\"0\" y=\"-0.0625\" font-family=\"Helvetica\" font-size=\"22\" font-weight=\"400\" font-style=\"normal\" \n",
       " >x [m]</text>\n",
       "</g>\n",
       "\n",
       "<g fill=\"#212121\" fill-opacity=\"1\" stroke=\"#212121\" stroke-opacity=\"1\" stroke-width=\"1\" stroke-linecap=\"butt\" stroke-linejoin=\"round\" transform=\"matrix(0.49985,0,0,0.499751,0,0)\"\n",
       "font-family=\"Helvetica\" font-size=\"22\" font-weight=\"400\" font-style=\"normal\" \n",
       ">\n",
       "<polyline fill=\"none\" vector-effect=\"none\" points=\"217,893 217,75 \" />\n",
       "<polyline fill=\"none\" vector-effect=\"none\" points=\"1508,893 1508,75 \" />\n",
       "<polyline fill=\"none\" vector-effect=\"none\" points=\"217,893 229.91,893 \" />\n",
       "<polyline fill=\"none\" vector-effect=\"none\" points=\"1495.09,893 1508,893 \" />\n",
       "<polyline fill=\"none\" vector-effect=\"none\" points=\"217,811.2 229.91,811.2 \" />\n",
       "<polyline fill=\"none\" vector-effect=\"none\" points=\"1495.09,811.2 1508,811.2 \" />\n",
       "<polyline fill=\"none\" vector-effect=\"none\" points=\"217,729.4 229.91,729.4 \" />\n",
       "<polyline fill=\"none\" vector-effect=\"none\" points=\"1495.09,729.4 1508,729.4 \" />\n",
       "<polyline fill=\"none\" vector-effect=\"none\" points=\"217,647.6 229.91,647.6 \" />\n",
       "<polyline fill=\"none\" vector-effect=\"none\" points=\"1495.09,647.6 1508,647.6 \" />\n",
       "<polyline fill=\"none\" vector-effect=\"none\" points=\"217,565.8 229.91,565.8 \" />\n",
       "<polyline fill=\"none\" vector-effect=\"none\" points=\"1495.09,565.8 1508,565.8 \" />\n",
       "<polyline fill=\"none\" vector-effect=\"none\" points=\"217,484 229.91,484 \" />\n",
       "<polyline fill=\"none\" vector-effect=\"none\" points=\"1495.09,484 1508,484 \" />\n",
       "<polyline fill=\"none\" vector-effect=\"none\" points=\"217,402.2 229.91,402.2 \" />\n",
       "<polyline fill=\"none\" vector-effect=\"none\" points=\"1495.09,402.2 1508,402.2 \" />\n",
       "<polyline fill=\"none\" vector-effect=\"none\" points=\"217,320.4 229.91,320.4 \" />\n",
       "<polyline fill=\"none\" vector-effect=\"none\" points=\"1495.09,320.4 1508,320.4 \" />\n",
       "<polyline fill=\"none\" vector-effect=\"none\" points=\"217,238.6 229.91,238.6 \" />\n",
       "<polyline fill=\"none\" vector-effect=\"none\" points=\"1495.09,238.6 1508,238.6 \" />\n",
       "<polyline fill=\"none\" vector-effect=\"none\" points=\"217,156.8 229.91,156.8 \" />\n",
       "<polyline fill=\"none\" vector-effect=\"none\" points=\"1495.09,156.8 1508,156.8 \" />\n",
       "<polyline fill=\"none\" vector-effect=\"none\" points=\"217,75 229.91,75 \" />\n",
       "<polyline fill=\"none\" vector-effect=\"none\" points=\"1495.09,75 1508,75 \" />\n",
       "</g>\n",
       "\n",
       "<g fill=\"#212121\" fill-opacity=\"1\" stroke=\"#212121\" stroke-opacity=\"1\" stroke-width=\"1\" stroke-linecap=\"square\" stroke-linejoin=\"bevel\" transform=\"matrix(0.49985,0,0,0.499751,98.9703,448.776)\"\n",
       "font-family=\"Helvetica\" font-size=\"20\" font-weight=\"400\" font-style=\"normal\" \n",
       ">\n",
       "<text fill=\"#212121\" fill-opacity=\"1\" stroke=\"none\" xml:space=\"preserve\" x=\"0\" y=\"0.390625\" font-family=\"Helvetica\" font-size=\"20\" font-weight=\"400\" font-style=\"normal\" \n",
       " >0</text>\n",
       "</g>\n",
       "\n",
       "<g fill=\"#212121\" fill-opacity=\"1\" stroke=\"#212121\" stroke-opacity=\"1\" stroke-width=\"1\" stroke-linecap=\"square\" stroke-linejoin=\"bevel\" transform=\"matrix(0.49985,0,0,0.499751,79.4762,407.897)\"\n",
       "font-family=\"Helvetica\" font-size=\"20\" font-weight=\"400\" font-style=\"normal\" \n",
       ">\n",
       "<text fill=\"#212121\" fill-opacity=\"1\" stroke=\"none\" xml:space=\"preserve\" x=\"0\" y=\"0.390625\" font-family=\"Helvetica\" font-size=\"20\" font-weight=\"400\" font-style=\"normal\" \n",
       " >0.001</text>\n",
       "</g>\n",
       "\n",
       "<g fill=\"#212121\" fill-opacity=\"1\" stroke=\"#212121\" stroke-opacity=\"1\" stroke-width=\"1\" stroke-linecap=\"square\" stroke-linejoin=\"bevel\" transform=\"matrix(0.49985,0,0,0.499751,79.4762,367.017)\"\n",
       "font-family=\"Helvetica\" font-size=\"20\" font-weight=\"400\" font-style=\"normal\" \n",
       ">\n",
       "<text fill=\"#212121\" fill-opacity=\"1\" stroke=\"none\" xml:space=\"preserve\" x=\"0\" y=\"0.390625\" font-family=\"Helvetica\" font-size=\"20\" font-weight=\"400\" font-style=\"normal\" \n",
       " >0.002</text>\n",
       "</g>\n",
       "\n",
       "<g fill=\"#212121\" fill-opacity=\"1\" stroke=\"#212121\" stroke-opacity=\"1\" stroke-width=\"1\" stroke-linecap=\"square\" stroke-linejoin=\"bevel\" transform=\"matrix(0.49985,0,0,0.499751,79.4762,326.137)\"\n",
       "font-family=\"Helvetica\" font-size=\"20\" font-weight=\"400\" font-style=\"normal\" \n",
       ">\n",
       "<text fill=\"#212121\" fill-opacity=\"1\" stroke=\"none\" xml:space=\"preserve\" x=\"0\" y=\"0.390625\" font-family=\"Helvetica\" font-size=\"20\" font-weight=\"400\" font-style=\"normal\" \n",
       " >0.003</text>\n",
       "</g>\n",
       "\n",
       "<g fill=\"#212121\" fill-opacity=\"1\" stroke=\"#212121\" stroke-opacity=\"1\" stroke-width=\"1\" stroke-linecap=\"square\" stroke-linejoin=\"bevel\" transform=\"matrix(0.49985,0,0,0.499751,79.4762,285.258)\"\n",
       "font-family=\"Helvetica\" font-size=\"20\" font-weight=\"400\" font-style=\"normal\" \n",
       ">\n",
       "<text fill=\"#212121\" fill-opacity=\"1\" stroke=\"none\" xml:space=\"preserve\" x=\"0\" y=\"0.390625\" font-family=\"Helvetica\" font-size=\"20\" font-weight=\"400\" font-style=\"normal\" \n",
       " >0.004</text>\n",
       "</g>\n",
       "\n",
       "<g fill=\"#212121\" fill-opacity=\"1\" stroke=\"#212121\" stroke-opacity=\"1\" stroke-width=\"1\" stroke-linecap=\"square\" stroke-linejoin=\"bevel\" transform=\"matrix(0.49985,0,0,0.499751,79.4762,244.378)\"\n",
       "font-family=\"Helvetica\" font-size=\"20\" font-weight=\"400\" font-style=\"normal\" \n",
       ">\n",
       "<text fill=\"#212121\" fill-opacity=\"1\" stroke=\"none\" xml:space=\"preserve\" x=\"0\" y=\"0.390625\" font-family=\"Helvetica\" font-size=\"20\" font-weight=\"400\" font-style=\"normal\" \n",
       " >0.005</text>\n",
       "</g>\n",
       "\n",
       "<g fill=\"#212121\" fill-opacity=\"1\" stroke=\"#212121\" stroke-opacity=\"1\" stroke-width=\"1\" stroke-linecap=\"square\" stroke-linejoin=\"bevel\" transform=\"matrix(0.49985,0,0,0.499751,79.4762,203.499)\"\n",
       "font-family=\"Helvetica\" font-size=\"20\" font-weight=\"400\" font-style=\"normal\" \n",
       ">\n",
       "<text fill=\"#212121\" fill-opacity=\"1\" stroke=\"none\" xml:space=\"preserve\" x=\"0\" y=\"0.390625\" font-family=\"Helvetica\" font-size=\"20\" font-weight=\"400\" font-style=\"normal\" \n",
       " >0.006</text>\n",
       "</g>\n",
       "\n",
       "<g fill=\"#212121\" fill-opacity=\"1\" stroke=\"#212121\" stroke-opacity=\"1\" stroke-width=\"1\" stroke-linecap=\"square\" stroke-linejoin=\"bevel\" transform=\"matrix(0.49985,0,0,0.499751,79.4762,162.619)\"\n",
       "font-family=\"Helvetica\" font-size=\"20\" font-weight=\"400\" font-style=\"normal\" \n",
       ">\n",
       "<text fill=\"#212121\" fill-opacity=\"1\" stroke=\"none\" xml:space=\"preserve\" x=\"0\" y=\"0.390625\" font-family=\"Helvetica\" font-size=\"20\" font-weight=\"400\" font-style=\"normal\" \n",
       " >0.007</text>\n",
       "</g>\n",
       "\n",
       "<g fill=\"#212121\" fill-opacity=\"1\" stroke=\"#212121\" stroke-opacity=\"1\" stroke-width=\"1\" stroke-linecap=\"square\" stroke-linejoin=\"bevel\" transform=\"matrix(0.49985,0,0,0.499751,79.4762,121.739)\"\n",
       "font-family=\"Helvetica\" font-size=\"20\" font-weight=\"400\" font-style=\"normal\" \n",
       ">\n",
       "<text fill=\"#212121\" fill-opacity=\"1\" stroke=\"none\" xml:space=\"preserve\" x=\"0\" y=\"0.390625\" font-family=\"Helvetica\" font-size=\"20\" font-weight=\"400\" font-style=\"normal\" \n",
       " >0.008</text>\n",
       "</g>\n",
       "\n",
       "<g fill=\"#212121\" fill-opacity=\"1\" stroke=\"#212121\" stroke-opacity=\"1\" stroke-width=\"1\" stroke-linecap=\"square\" stroke-linejoin=\"bevel\" transform=\"matrix(0.49985,0,0,0.499751,79.4762,80.8597)\"\n",
       "font-family=\"Helvetica\" font-size=\"20\" font-weight=\"400\" font-style=\"normal\" \n",
       ">\n",
       "<text fill=\"#212121\" fill-opacity=\"1\" stroke=\"none\" xml:space=\"preserve\" x=\"0\" y=\"0.390625\" font-family=\"Helvetica\" font-size=\"20\" font-weight=\"400\" font-style=\"normal\" \n",
       " >0.009</text>\n",
       "</g>\n",
       "\n",
       "<g fill=\"#212121\" fill-opacity=\"1\" stroke=\"#212121\" stroke-opacity=\"1\" stroke-width=\"1\" stroke-linecap=\"square\" stroke-linejoin=\"bevel\" transform=\"matrix(0.49985,0,0,0.499751,84.9745,39.9801)\"\n",
       "font-family=\"Helvetica\" font-size=\"20\" font-weight=\"400\" font-style=\"normal\" \n",
       ">\n",
       "<text fill=\"#212121\" fill-opacity=\"1\" stroke=\"none\" xml:space=\"preserve\" x=\"0\" y=\"0.390625\" font-family=\"Helvetica\" font-size=\"20\" font-weight=\"400\" font-style=\"normal\" \n",
       " >0.01</text>\n",
       "</g>\n",
       "\n",
       "<g fill=\"#212121\" fill-opacity=\"1\" stroke=\"#212121\" stroke-opacity=\"1\" stroke-width=\"1\" stroke-linecap=\"square\" stroke-linejoin=\"bevel\" transform=\"matrix(0.49985,0,0,0.499751,393.132,33.6083)\"\n",
       "font-family=\"Helvetica\" font-size=\"22\" font-weight=\"700\" font-style=\"normal\" \n",
       ">\n",
       "<text fill=\"#212121\" fill-opacity=\"1\" stroke=\"none\" xml:space=\"preserve\" x=\"0\" y=\"-0.0625\" font-family=\"Helvetica\" font-size=\"22\" font-weight=\"700\" font-style=\"normal\" \n",
       " >Step response</text>\n",
       "</g>\n",
       "\n",
       "<g fill=\"none\" stroke=\"#1171be\" stroke-opacity=\"1\" stroke-width=\"1\" stroke-linecap=\"butt\" stroke-linejoin=\"round\" transform=\"matrix(0.49985,0,0,0.499751,0,0)\"\n",
       "font-family=\"Helvetica\" font-size=\"22\" font-weight=\"700\" font-style=\"normal\" \n",
       ">\n",
       "<polyline fill=\"none\" vector-effect=\"none\" points=\"217,893 232.458,821.025 247.915,755.383 263.373,695.516 278.831,640.918 294.289,591.123 309.746,545.71 325.204,504.293 340.662,466.519 356.119,432.07 371.577,400.652 387.035,371.998 402.493,345.865 417.95,322.032 433.408,300.296 448.866,280.472 464.323,262.393 479.781,245.904 495.239,230.867 510.697,217.152 526.154,204.644 541.612,193.237 557.07,182.833 572.527,173.345 587.985,164.692 603.443,156.8 618.901,149.602 634.358,143.038 649.816,137.052 665.274,131.592 680.731,126.612 696.189,122.071 711.647,117.929 727.105,114.152 742.562,110.707 758.02,107.565 773.478,104.7 788.935,102.087 804.393,99.7032 819.851,97.5296 835.309,95.5473 850.766,93.7393 866.224,92.0904 881.682,90.5867 897.139,89.2152 912.597,87.9644 928.055,86.8237 943.513,85.7833 958.97,84.8345 974.428,83.9692 989.886,83.18 1005.34,82.4602 1020.8,81.8038 1036.26,81.2051 1051.72,80.6592 1067.17,80.1612 1082.63,79.7071 1098.09,79.293 1113.55,78.9152 1129.01,78.5707 1144.46,78.2565 1159.92,77.97 1175.38,77.7087 1190.84,77.4703 1206.29,77.253 1221.75,77.0547 1237.21,76.8739 1252.67,76.709 1268.12,76.5586 1283.58,76.4215 1299.04,76.2964 1314.5,76.1824 1329.96,76.0783 1345.41,75.9835 1360.87,75.8969 1376.33,75.818 1391.79,75.746 1407.24,75.6804 1422.7,75.6205 1438.16,75.5659 1453.62,75.5162 \" />\n",
       "</g>\n",
       "\n",
       "<g fill=\"none\" stroke=\"#dd5400\" stroke-opacity=\"1\" stroke-dasharray=\"10,6\" stroke-dashoffset=\"0\" stroke-width=\"1\" stroke-linecap=\"butt\" stroke-linejoin=\"round\" transform=\"matrix(0.49985,0,0,0.499751,0,0)\"\n",
       "font-family=\"Helvetica\" font-size=\"22\" font-weight=\"700\" font-style=\"normal\" \n",
       ">\n",
       "<polyline fill=\"none\" vector-effect=\"none\" points=\"217,893 232.458,821.025 247.915,755.383 263.373,695.516 278.831,640.918 294.289,591.123 309.746,545.71 325.204,504.293 340.662,466.519 356.119,432.07 371.577,400.652 387.035,371.998 402.493,345.865 417.95,322.032 433.408,300.296 448.866,280.472 464.323,262.393 479.781,245.904 495.239,230.867 510.697,217.152 526.154,204.644 541.612,193.237 557.07,182.833 572.527,173.345 587.985,164.692 603.443,156.8 618.901,149.602 634.358,143.038 649.816,137.052 665.274,131.592 680.731,126.612 696.189,122.071 711.647,117.929 727.105,114.152 742.562,110.707 758.02,107.565 773.478,104.7 788.935,102.087 804.393,99.7032 819.851,97.5296 835.309,95.5473 850.766,93.7393 866.224,92.0904 881.682,90.5867 897.139,89.2152 912.597,87.9644 928.055,86.8237 943.513,85.7833 958.97,84.8345 974.428,83.9692 989.886,83.18 1005.34,82.4602 1020.8,81.8038 1036.26,81.2051 1051.72,80.6592 1067.17,80.1612 1082.63,79.7071 1098.09,79.293 1113.55,78.9152 1129.01,78.5707 1144.46,78.2565 1159.92,77.97 1175.38,77.7087 1190.84,77.4703 1206.29,77.253 1221.75,77.0547 1237.21,76.8739 1252.67,76.709 1268.12,76.5586 1283.58,76.4215 1299.04,76.2964 1314.5,76.1824 1329.96,76.0783 1345.41,75.9835 1360.87,75.8969 1376.33,75.818 1391.79,75.746 1407.24,75.6804 1422.7,75.6205 1438.16,75.5659 1453.62,75.5162 \" />\n",
       "</g>\n",
       "\n",
       "<g fill=\"#ffffff\" fill-opacity=\"1\" stroke=\"none\" transform=\"matrix(4.9985e-05,0,0,4.99751e-05,0,0)\"\n",
       "font-family=\"Helvetica\" font-size=\"22\" font-weight=\"700\" font-style=\"normal\" \n",
       ">\n",
       "<path vector-effect=\"none\" fill-rule=\"evenodd\" d=\"M1.284e+07,910000 L1.284e+07,1.4e+06 L1.492e+07,1.4e+06 L1.492e+07,910000 L1.284e+07,910000\"/>\n",
       "</g>\n",
       "\n",
       "<g fill=\"#1171be\" fill-opacity=\"1\" stroke=\"#1171be\" stroke-opacity=\"1\" stroke-width=\"1\" stroke-linecap=\"butt\" stroke-linejoin=\"round\" transform=\"matrix(0.49985,0,0,0.499751,0,0)\"\n",
       "font-family=\"Helvetica\" font-size=\"22\" font-weight=\"700\" font-style=\"normal\" \n",
       ">\n",
       "<polyline fill=\"none\" vector-effect=\"none\" points=\"1289.99,104.569 1349.84,104.569 \" />\n",
       "</g>\n",
       "\n",
       "<g fill=\"#dd5400\" fill-opacity=\"1\" stroke=\"#dd5400\" stroke-opacity=\"1\" stroke-dasharray=\"10,6\" stroke-dashoffset=\"0\" stroke-width=\"1\" stroke-linecap=\"butt\" stroke-linejoin=\"round\" transform=\"matrix(0.49985,0,0,0.499751,0,0)\"\n",
       "font-family=\"Helvetica\" font-size=\"22\" font-weight=\"700\" font-style=\"normal\" \n",
       ">\n",
       "<polyline fill=\"none\" vector-effect=\"none\" points=\"1289.99,126.431 1349.84,126.431 \" />\n",
       "</g>\n",
       "\n",
       "<g fill=\"#212121\" fill-opacity=\"1\" stroke=\"#212121\" stroke-opacity=\"1\" stroke-width=\"1\" stroke-linecap=\"square\" stroke-linejoin=\"bevel\" transform=\"matrix(0.49985,0,0,0.499751,676.962,54.7573)\"\n",
       "font-family=\"Helvetica\" font-size=\"18\" font-weight=\"400\" font-style=\"normal\" \n",
       ">\n",
       "<text fill=\"#212121\" fill-opacity=\"1\" stroke=\"none\" xml:space=\"preserve\" x=\"0\" y=\"-0.140625\" font-family=\"Helvetica\" font-size=\"18\" font-weight=\"400\" font-style=\"normal\" \n",
       " >result of impulse</text>\n",
       "</g>\n",
       "\n",
       "<g fill=\"#212121\" fill-opacity=\"1\" stroke=\"#212121\" stroke-opacity=\"1\" stroke-width=\"1\" stroke-linecap=\"square\" stroke-linejoin=\"bevel\" transform=\"matrix(0.49985,0,0,0.499751,676.962,65.6827)\"\n",
       "font-family=\"Helvetica\" font-size=\"18\" font-weight=\"400\" font-style=\"normal\" \n",
       ">\n",
       "<text fill=\"#212121\" fill-opacity=\"1\" stroke=\"none\" xml:space=\"preserve\" x=\"0\" y=\"-0.140625\" font-family=\"Helvetica\" font-size=\"18\" font-weight=\"400\" font-style=\"normal\" \n",
       " >analytic</text>\n",
       "</g>\n",
       "\n",
       "<g fill=\"none\" stroke=\"#212121\" stroke-opacity=\"1\" stroke-width=\"1\" stroke-linecap=\"butt\" stroke-linejoin=\"miter\" stroke-miterlimit=\"2\" transform=\"matrix(0.49985,0,0,0.499751,0,0)\"\n",
       "font-family=\"Helvetica\" font-size=\"18\" font-weight=\"400\" font-style=\"normal\" \n",
       ">\n",
       "<path vector-effect=\"none\" fill-rule=\"evenodd\" d=\"M1284,140 L1284,91 L1492,91 L1492,140 L1284,140\"/>\n",
       "</g>\n",
       "</g>\n",
       "</svg>\n"
      ]
     },
     "metadata": {},
     "output_type": "display_data"
    }
   ],
   "source": [
    "xAnalytic = 1/k - exp(-k*t/m)/k;\n",
    "plot(t,x,t,xAnalytic,'--')\n",
    "grid\n",
    "legend(\"result of impulse\", \"analytic\")\n",
    "xlabel(\"t [s]\")\n",
    "ylabel(\"x [m]\")\n",
    "title(\"Step response\")"
   ]
  },
  {
   "cell_type": "markdown",
   "id": "9b3c362d",
   "metadata": {
    "slideshow": {
     "slide_type": "subslide"
    }
   },
   "source": [
    "(hw2-exercise-1)=\n",
    "\n",
    "### Homework Exercise 1\n",
    "\n",
    "Complete this exercise for homework using the MATLAB LiveScript `TransferFunctionBasics.mlx` from the curriculum module [Transfer Function Analysis of Dynamic Systems](https://github.com/MathWorks-Teaching-Resources/Transfer-Function-Analysis-of-Dynamic-Systems)."
   ]
  },
  {
   "cell_type": "markdown",
   "id": "2dd15dc4",
   "metadata": {
    "slideshow": {
     "slide_type": "subslide"
    }
   },
   "source": [
    "#### Homework 1(a)\n",
    "\n",
    "Compute the analytic **step** response for the vehicle position transfer function. Recall that the position transfer function for the simple vehicle model was:\n",
    "\n",
    "$$G(s) = \\frac{X(s)}{U(s)} = \\frac{1}{ms^2 + ks}$$\n",
    "\n",
    "Store the output in symbolic variable `x` using the pre-defined symbolic variables."
   ]
  },
  {
   "cell_type": "markdown",
   "id": "92261724",
   "metadata": {
    "slideshow": {
     "slide_type": "subslide"
    }
   },
   "source": [
    "#### Homework 1(b)\n",
    "\n",
    "Set $m = 1300$ and $k = 100$. Then plot the analytic step result you computed in (a). Also, plot the step response calculated using the `step` function."
   ]
  },
  {
   "cell_type": "code",
   "execution_count": 38,
   "id": "86e91e85",
   "metadata": {
    "slideshow": {
     "slide_type": "subslide"
    }
   },
   "outputs": [],
   "source": [
    "% This computes the step response\n",
    "m = 1300;\n",
    "k = 100;\n",
    "Xs = tf([0 0 1],[m k 0]);\n",
    "[x,t] = step(Xs,20);"
   ]
  },
  {
   "cell_type": "markdown",
   "id": "2a2a75e9",
   "metadata": {
    "slideshow": {
     "slide_type": "subslide"
    }
   },
   "source": [
    "Evaluate your analytic solution here in terms of the array `t` using the constant values of `k` and `m`. Plot the result together with the output of the step function."
   ]
  },
  {
   "cell_type": "code",
   "execution_count": 39,
   "id": "7db0b230",
   "metadata": {
    "slideshow": {
     "slide_type": "subslide"
    }
   },
   "outputs": [],
   "source": [
    "% Create your plot here"
   ]
  },
  {
   "cell_type": "markdown",
   "id": "01ff9528",
   "metadata": {
    "slideshow": {
     "slide_type": "slide"
    }
   },
   "source": [
    "## Forced response\n",
    "\n",
    "It is also possible to compute the response of a system to an arbitrary input function .\n",
    "\n",
    "![Forced response of a system](images/forced_response.png)\n",
    "Response of a system to a square wave.\n",
    "\n",
    "Analytically, this can be accomplished by computing $U(s)$ and subsequently finding the inverse Laplace transform of $X(s)$. In cases where the analytic expression does not exist, you can estimate the response numerically using the [`lsim`](https://www.mathworks.com/help/control/ref/lti.lsim.html) function."
   ]
  },
  {
   "cell_type": "markdown",
   "id": "c7a3708c",
   "metadata": {
    "slideshow": {
     "slide_type": "subslide"
    }
   },
   "source": [
    "(hw2-activity-1)=\n",
    "\n",
    "### Homework Activity\n",
    "\n",
    "![activity](images/activity.png)\n",
    "\n",
    "As this activity contains interactive elements, you should complete it in the MATLAB LiveScript `TransferFunctionBasics.mlx`. Here we present one example plot and have documented the activity so you can do for homework."
   ]
  },
  {
   "cell_type": "markdown",
   "id": "515f42ef",
   "metadata": {
    "slideshow": {
     "slide_type": "subslide"
    }
   },
   "source": [
    "In this activity, you will analyze the response of the mass-spring-damper system\n",
    "\n",
    "$$G(s) = \\frac{X(s)}{U(s)} = \\frac{1}{m s^2 + cs + k}$$\n",
    "\n",
    "The mass-spring-damper is assumed to start at rest and is driven by an input function $u(t)$."
   ]
  },
  {
   "cell_type": "markdown",
   "id": "18aab1f2",
   "metadata": {
    "slideshow": {
     "slide_type": "subslide"
    }
   },
   "source": [
    "#### Example response"
   ]
  },
  {
   "cell_type": "code",
   "execution_count": 40,
   "id": "9a068226",
   "metadata": {
    "slideshow": {
     "slide_type": "subslide"
    }
   },
   "outputs": [
    {
     "data": {
      "image/svg+xml": [
       "<?xml version=\"1.0\" encoding=\"UTF-8\" standalone=\"no\"?>\n",
       "<svg width=\"294.217mm\" height=\"177.094mm\"\n",
       " viewBox=\"0 0 834 502\"\n",
       " xmlns=\"http://www.w3.org/2000/svg\" xmlns:xlink=\"http://www.w3.org/1999/xlink\"  version=\"1.2\" baseProfile=\"tiny\">\n",
       "<title>Qt SVG Document</title>\n",
       "<desc>MATLAB, The MathWorks, Inc. Version 25.1.0.2833191 R2025a Prerelease Update 2</desc>\n",
       "<defs>\n",
       "</defs>\n",
       "<g fill=\"none\" stroke=\"black\" stroke-width=\"1\" fill-rule=\"evenodd\" stroke-linecap=\"square\" stroke-linejoin=\"bevel\" >\n",
       "\n",
       "<g fill=\"#ffffff\" fill-opacity=\"1\" stroke=\"none\" transform=\"matrix(0.49985,0,0,0.499751,0,0)\"\n",
       "font-family=\".AppleSystemUIFont\" font-size=\"13\" font-weight=\"400\" font-style=\"normal\" \n",
       ">\n",
       "<path vector-effect=\"none\" fill-rule=\"evenodd\" d=\"M0,0 L1668,0 L1668,1005 L0,1005 L0,0\"/>\n",
       "</g>\n",
       "\n",
       "<g fill=\"#ffffff\" fill-opacity=\"1\" stroke=\"none\" transform=\"matrix(4.9985e-05,0,0,4.99751e-05,0,0)\"\n",
       "font-family=\".AppleSystemUIFont\" font-size=\"13\" font-weight=\"400\" font-style=\"normal\" \n",
       ">\n",
       "<path vector-effect=\"none\" fill-rule=\"evenodd\" d=\"M2.17e+06,750000 L2.17e+06,8.93e+06 L1.508e+07,8.93e+06 L1.508e+07,750000 L2.17e+06,750000\"/>\n",
       "</g>\n",
       "\n",
       "<g fill=\"#212121\" fill-opacity=\"1\" stroke=\"#212121\" stroke-opacity=\"1\" stroke-width=\"1\" stroke-linecap=\"butt\" stroke-linejoin=\"round\" transform=\"matrix(0.49985,0,0,0.499751,0,0)\"\n",
       "font-family=\".AppleSystemUIFont\" font-size=\"13\" font-weight=\"400\" font-style=\"normal\" \n",
       ">\n",
       "<polyline fill=\"none\" vector-effect=\"none\" points=\"217,893 1508,893 \" />\n",
       "<polyline fill=\"none\" vector-effect=\"none\" points=\"217,75 1508,75 \" />\n",
       "<polyline fill=\"none\" vector-effect=\"none\" points=\"217,893 217,880.09 \" />\n",
       "<polyline fill=\"none\" vector-effect=\"none\" points=\"217,87.91 217,75 \" />\n",
       "<polyline fill=\"none\" vector-effect=\"none\" points=\"432.167,893 432.167,880.09 \" />\n",
       "<polyline fill=\"none\" vector-effect=\"none\" points=\"432.167,87.91 432.167,75 \" />\n",
       "<polyline fill=\"none\" vector-effect=\"none\" points=\"647.333,893 647.333,880.09 \" />\n",
       "<polyline fill=\"none\" vector-effect=\"none\" points=\"647.333,87.91 647.333,75 \" />\n",
       "<polyline fill=\"none\" vector-effect=\"none\" points=\"862.5,893 862.5,880.09 \" />\n",
       "<polyline fill=\"none\" vector-effect=\"none\" points=\"862.5,87.91 862.5,75 \" />\n",
       "<polyline fill=\"none\" vector-effect=\"none\" points=\"1077.67,893 1077.67,880.09 \" />\n",
       "<polyline fill=\"none\" vector-effect=\"none\" points=\"1077.67,87.91 1077.67,75 \" />\n",
       "<polyline fill=\"none\" vector-effect=\"none\" points=\"1292.83,893 1292.83,880.09 \" />\n",
       "<polyline fill=\"none\" vector-effect=\"none\" points=\"1292.83,87.91 1292.83,75 \" />\n",
       "<polyline fill=\"none\" vector-effect=\"none\" points=\"1508,893 1508,880.09 \" />\n",
       "<polyline fill=\"none\" vector-effect=\"none\" points=\"1508,87.91 1508,75 \" />\n",
       "</g>\n",
       "\n",
       "<g fill=\"#212121\" fill-opacity=\"1\" stroke=\"#212121\" stroke-opacity=\"1\" stroke-width=\"1\" stroke-linecap=\"square\" stroke-linejoin=\"bevel\" transform=\"matrix(0.49985,0,0,0.499751,105.718,457.772)\"\n",
       "font-family=\"Helvetica\" font-size=\"20\" font-weight=\"400\" font-style=\"normal\" \n",
       ">\n",
       "<text fill=\"#212121\" fill-opacity=\"1\" stroke=\"none\" xml:space=\"preserve\" x=\"0\" y=\"0.390625\" font-family=\"Helvetica\" font-size=\"20\" font-weight=\"400\" font-style=\"normal\" \n",
       " >0</text>\n",
       "</g>\n",
       "\n",
       "<g fill=\"#212121\" fill-opacity=\"1\" stroke=\"#212121\" stroke-opacity=\"1\" stroke-width=\"1\" stroke-linecap=\"square\" stroke-linejoin=\"bevel\" transform=\"matrix(0.49985,0,0,0.499751,213.269,457.772)\"\n",
       "font-family=\"Helvetica\" font-size=\"20\" font-weight=\"400\" font-style=\"normal\" \n",
       ">\n",
       "<text fill=\"#212121\" fill-opacity=\"1\" stroke=\"none\" xml:space=\"preserve\" x=\"0\" y=\"0.390625\" font-family=\"Helvetica\" font-size=\"20\" font-weight=\"400\" font-style=\"normal\" \n",
       " >5</text>\n",
       "</g>\n",
       "\n",
       "<g fill=\"#212121\" fill-opacity=\"1\" stroke=\"#212121\" stroke-opacity=\"1\" stroke-width=\"1\" stroke-linecap=\"square\" stroke-linejoin=\"bevel\" transform=\"matrix(0.49985,0,0,0.499751,318.071,457.772)\"\n",
       "font-family=\"Helvetica\" font-size=\"20\" font-weight=\"400\" font-style=\"normal\" \n",
       ">\n",
       "<text fill=\"#212121\" fill-opacity=\"1\" stroke=\"none\" xml:space=\"preserve\" x=\"0\" y=\"0.390625\" font-family=\"Helvetica\" font-size=\"20\" font-weight=\"400\" font-style=\"normal\" \n",
       " >10</text>\n",
       "</g>\n",
       "\n",
       "<g fill=\"#212121\" fill-opacity=\"1\" stroke=\"#212121\" stroke-opacity=\"1\" stroke-width=\"1\" stroke-linecap=\"square\" stroke-linejoin=\"bevel\" transform=\"matrix(0.49985,0,0,0.499751,425.622,457.772)\"\n",
       "font-family=\"Helvetica\" font-size=\"20\" font-weight=\"400\" font-style=\"normal\" \n",
       ">\n",
       "<text fill=\"#212121\" fill-opacity=\"1\" stroke=\"none\" xml:space=\"preserve\" x=\"0\" y=\"0.390625\" font-family=\"Helvetica\" font-size=\"20\" font-weight=\"400\" font-style=\"normal\" \n",
       " >15</text>\n",
       "</g>\n",
       "\n",
       "<g fill=\"#212121\" fill-opacity=\"1\" stroke=\"#212121\" stroke-opacity=\"1\" stroke-width=\"1\" stroke-linecap=\"square\" stroke-linejoin=\"bevel\" transform=\"matrix(0.49985,0,0,0.499751,533.173,457.772)\"\n",
       "font-family=\"Helvetica\" font-size=\"20\" font-weight=\"400\" font-style=\"normal\" \n",
       ">\n",
       "<text fill=\"#212121\" fill-opacity=\"1\" stroke=\"none\" xml:space=\"preserve\" x=\"0\" y=\"0.390625\" font-family=\"Helvetica\" font-size=\"20\" font-weight=\"400\" font-style=\"normal\" \n",
       " >20</text>\n",
       "</g>\n",
       "\n",
       "<g fill=\"#212121\" fill-opacity=\"1\" stroke=\"#212121\" stroke-opacity=\"1\" stroke-width=\"1\" stroke-linecap=\"square\" stroke-linejoin=\"bevel\" transform=\"matrix(0.49985,0,0,0.499751,640.724,457.772)\"\n",
       "font-family=\"Helvetica\" font-size=\"20\" font-weight=\"400\" font-style=\"normal\" \n",
       ">\n",
       "<text fill=\"#212121\" fill-opacity=\"1\" stroke=\"none\" xml:space=\"preserve\" x=\"0\" y=\"0.390625\" font-family=\"Helvetica\" font-size=\"20\" font-weight=\"400\" font-style=\"normal\" \n",
       " >25</text>\n",
       "</g>\n",
       "\n",
       "<g fill=\"#212121\" fill-opacity=\"1\" stroke=\"#212121\" stroke-opacity=\"1\" stroke-width=\"1\" stroke-linecap=\"square\" stroke-linejoin=\"bevel\" transform=\"matrix(0.49985,0,0,0.499751,748.276,457.772)\"\n",
       "font-family=\"Helvetica\" font-size=\"20\" font-weight=\"400\" font-style=\"normal\" \n",
       ">\n",
       "<text fill=\"#212121\" fill-opacity=\"1\" stroke=\"none\" xml:space=\"preserve\" x=\"0\" y=\"0.390625\" font-family=\"Helvetica\" font-size=\"20\" font-weight=\"400\" font-style=\"normal\" \n",
       " >30</text>\n",
       "</g>\n",
       "\n",
       "<g fill=\"#212121\" fill-opacity=\"1\" stroke=\"#212121\" stroke-opacity=\"1\" stroke-width=\"1\" stroke-linecap=\"butt\" stroke-linejoin=\"round\" transform=\"matrix(0.49985,0,0,0.499751,0,0)\"\n",
       "font-family=\"Helvetica\" font-size=\"20\" font-weight=\"400\" font-style=\"normal\" \n",
       ">\n",
       "<polyline fill=\"none\" vector-effect=\"none\" points=\"217,893 217,75 \" />\n",
       "<polyline fill=\"none\" vector-effect=\"none\" points=\"1508,893 1508,75 \" />\n",
       "<polyline fill=\"none\" vector-effect=\"none\" points=\"217,893 229.91,893 \" />\n",
       "<polyline fill=\"none\" vector-effect=\"none\" points=\"1495.09,893 1508,893 \" />\n",
       "<polyline fill=\"none\" vector-effect=\"none\" points=\"217,811.2 229.91,811.2 \" />\n",
       "<polyline fill=\"none\" vector-effect=\"none\" points=\"1495.09,811.2 1508,811.2 \" />\n",
       "<polyline fill=\"none\" vector-effect=\"none\" points=\"217,729.4 229.91,729.4 \" />\n",
       "<polyline fill=\"none\" vector-effect=\"none\" points=\"1495.09,729.4 1508,729.4 \" />\n",
       "<polyline fill=\"none\" vector-effect=\"none\" points=\"217,647.6 229.91,647.6 \" />\n",
       "<polyline fill=\"none\" vector-effect=\"none\" points=\"1495.09,647.6 1508,647.6 \" />\n",
       "<polyline fill=\"none\" vector-effect=\"none\" points=\"217,565.8 229.91,565.8 \" />\n",
       "<polyline fill=\"none\" vector-effect=\"none\" points=\"1495.09,565.8 1508,565.8 \" />\n",
       "<polyline fill=\"none\" vector-effect=\"none\" points=\"217,484 229.91,484 \" />\n",
       "<polyline fill=\"none\" vector-effect=\"none\" points=\"1495.09,484 1508,484 \" />\n",
       "<polyline fill=\"none\" vector-effect=\"none\" points=\"217,402.2 229.91,402.2 \" />\n",
       "<polyline fill=\"none\" vector-effect=\"none\" points=\"1495.09,402.2 1508,402.2 \" />\n",
       "<polyline fill=\"none\" vector-effect=\"none\" points=\"217,320.4 229.91,320.4 \" />\n",
       "<polyline fill=\"none\" vector-effect=\"none\" points=\"1495.09,320.4 1508,320.4 \" />\n",
       "<polyline fill=\"none\" vector-effect=\"none\" points=\"217,238.6 229.91,238.6 \" />\n",
       "<polyline fill=\"none\" vector-effect=\"none\" points=\"1495.09,238.6 1508,238.6 \" />\n",
       "<polyline fill=\"none\" vector-effect=\"none\" points=\"217,156.8 229.91,156.8 \" />\n",
       "<polyline fill=\"none\" vector-effect=\"none\" points=\"1495.09,156.8 1508,156.8 \" />\n",
       "<polyline fill=\"none\" vector-effect=\"none\" points=\"217,75 229.91,75 \" />\n",
       "<polyline fill=\"none\" vector-effect=\"none\" points=\"1495.09,75 1508,75 \" />\n",
       "</g>\n",
       "\n",
       "<g fill=\"#212121\" fill-opacity=\"1\" stroke=\"#212121\" stroke-opacity=\"1\" stroke-width=\"1\" stroke-linecap=\"square\" stroke-linejoin=\"bevel\" transform=\"matrix(0.49985,0,0,0.499751,98.9703,448.776)\"\n",
       "font-family=\"Helvetica\" font-size=\"20\" font-weight=\"400\" font-style=\"normal\" \n",
       ">\n",
       "<text fill=\"#212121\" fill-opacity=\"1\" stroke=\"none\" xml:space=\"preserve\" x=\"0\" y=\"0.390625\" font-family=\"Helvetica\" font-size=\"20\" font-weight=\"400\" font-style=\"normal\" \n",
       " >0</text>\n",
       "</g>\n",
       "\n",
       "<g fill=\"#212121\" fill-opacity=\"1\" stroke=\"#212121\" stroke-opacity=\"1\" stroke-width=\"1\" stroke-linecap=\"square\" stroke-linejoin=\"bevel\" transform=\"matrix(0.49985,0,0,0.499751,90.4729,407.897)\"\n",
       "font-family=\"Helvetica\" font-size=\"20\" font-weight=\"400\" font-style=\"normal\" \n",
       ">\n",
       "<text fill=\"#212121\" fill-opacity=\"1\" stroke=\"none\" xml:space=\"preserve\" x=\"0\" y=\"0.390625\" font-family=\"Helvetica\" font-size=\"20\" font-weight=\"400\" font-style=\"normal\" \n",
       " >0.1</text>\n",
       "</g>\n",
       "\n",
       "<g fill=\"#212121\" fill-opacity=\"1\" stroke=\"#212121\" stroke-opacity=\"1\" stroke-width=\"1\" stroke-linecap=\"square\" stroke-linejoin=\"bevel\" transform=\"matrix(0.49985,0,0,0.499751,90.4729,367.017)\"\n",
       "font-family=\"Helvetica\" font-size=\"20\" font-weight=\"400\" font-style=\"normal\" \n",
       ">\n",
       "<text fill=\"#212121\" fill-opacity=\"1\" stroke=\"none\" xml:space=\"preserve\" x=\"0\" y=\"0.390625\" font-family=\"Helvetica\" font-size=\"20\" font-weight=\"400\" font-style=\"normal\" \n",
       " >0.2</text>\n",
       "</g>\n",
       "\n",
       "<g fill=\"#212121\" fill-opacity=\"1\" stroke=\"#212121\" stroke-opacity=\"1\" stroke-width=\"1\" stroke-linecap=\"square\" stroke-linejoin=\"bevel\" transform=\"matrix(0.49985,0,0,0.499751,90.4729,326.137)\"\n",
       "font-family=\"Helvetica\" font-size=\"20\" font-weight=\"400\" font-style=\"normal\" \n",
       ">\n",
       "<text fill=\"#212121\" fill-opacity=\"1\" stroke=\"none\" xml:space=\"preserve\" x=\"0\" y=\"0.390625\" font-family=\"Helvetica\" font-size=\"20\" font-weight=\"400\" font-style=\"normal\" \n",
       " >0.3</text>\n",
       "</g>\n",
       "\n",
       "<g fill=\"#212121\" fill-opacity=\"1\" stroke=\"#212121\" stroke-opacity=\"1\" stroke-width=\"1\" stroke-linecap=\"square\" stroke-linejoin=\"bevel\" transform=\"matrix(0.49985,0,0,0.499751,90.4729,285.258)\"\n",
       "font-family=\"Helvetica\" font-size=\"20\" font-weight=\"400\" font-style=\"normal\" \n",
       ">\n",
       "<text fill=\"#212121\" fill-opacity=\"1\" stroke=\"none\" xml:space=\"preserve\" x=\"0\" y=\"0.390625\" font-family=\"Helvetica\" font-size=\"20\" font-weight=\"400\" font-style=\"normal\" \n",
       " >0.4</text>\n",
       "</g>\n",
       "\n",
       "<g fill=\"#212121\" fill-opacity=\"1\" stroke=\"#212121\" stroke-opacity=\"1\" stroke-width=\"1\" stroke-linecap=\"square\" stroke-linejoin=\"bevel\" transform=\"matrix(0.49985,0,0,0.499751,90.4729,244.378)\"\n",
       "font-family=\"Helvetica\" font-size=\"20\" font-weight=\"400\" font-style=\"normal\" \n",
       ">\n",
       "<text fill=\"#212121\" fill-opacity=\"1\" stroke=\"none\" xml:space=\"preserve\" x=\"0\" y=\"0.390625\" font-family=\"Helvetica\" font-size=\"20\" font-weight=\"400\" font-style=\"normal\" \n",
       " >0.5</text>\n",
       "</g>\n",
       "\n",
       "<g fill=\"#212121\" fill-opacity=\"1\" stroke=\"#212121\" stroke-opacity=\"1\" stroke-width=\"1\" stroke-linecap=\"square\" stroke-linejoin=\"bevel\" transform=\"matrix(0.49985,0,0,0.499751,90.4729,203.499)\"\n",
       "font-family=\"Helvetica\" font-size=\"20\" font-weight=\"400\" font-style=\"normal\" \n",
       ">\n",
       "<text fill=\"#212121\" fill-opacity=\"1\" stroke=\"none\" xml:space=\"preserve\" x=\"0\" y=\"0.390625\" font-family=\"Helvetica\" font-size=\"20\" font-weight=\"400\" font-style=\"normal\" \n",
       " >0.6</text>\n",
       "</g>\n",
       "\n",
       "<g fill=\"#212121\" fill-opacity=\"1\" stroke=\"#212121\" stroke-opacity=\"1\" stroke-width=\"1\" stroke-linecap=\"square\" stroke-linejoin=\"bevel\" transform=\"matrix(0.49985,0,0,0.499751,90.4729,162.619)\"\n",
       "font-family=\"Helvetica\" font-size=\"20\" font-weight=\"400\" font-style=\"normal\" \n",
       ">\n",
       "<text fill=\"#212121\" fill-opacity=\"1\" stroke=\"none\" xml:space=\"preserve\" x=\"0\" y=\"0.390625\" font-family=\"Helvetica\" font-size=\"20\" font-weight=\"400\" font-style=\"normal\" \n",
       " >0.7</text>\n",
       "</g>\n",
       "\n",
       "<g fill=\"#212121\" fill-opacity=\"1\" stroke=\"#212121\" stroke-opacity=\"1\" stroke-width=\"1\" stroke-linecap=\"square\" stroke-linejoin=\"bevel\" transform=\"matrix(0.49985,0,0,0.499751,90.4729,121.739)\"\n",
       "font-family=\"Helvetica\" font-size=\"20\" font-weight=\"400\" font-style=\"normal\" \n",
       ">\n",
       "<text fill=\"#212121\" fill-opacity=\"1\" stroke=\"none\" xml:space=\"preserve\" x=\"0\" y=\"0.390625\" font-family=\"Helvetica\" font-size=\"20\" font-weight=\"400\" font-style=\"normal\" \n",
       " >0.8</text>\n",
       "</g>\n",
       "\n",
       "<g fill=\"#212121\" fill-opacity=\"1\" stroke=\"#212121\" stroke-opacity=\"1\" stroke-width=\"1\" stroke-linecap=\"square\" stroke-linejoin=\"bevel\" transform=\"matrix(0.49985,0,0,0.499751,90.4729,80.8597)\"\n",
       "font-family=\"Helvetica\" font-size=\"20\" font-weight=\"400\" font-style=\"normal\" \n",
       ">\n",
       "<text fill=\"#212121\" fill-opacity=\"1\" stroke=\"none\" xml:space=\"preserve\" x=\"0\" y=\"0.390625\" font-family=\"Helvetica\" font-size=\"20\" font-weight=\"400\" font-style=\"normal\" \n",
       " >0.9</text>\n",
       "</g>\n",
       "\n",
       "<g fill=\"#212121\" fill-opacity=\"1\" stroke=\"#212121\" stroke-opacity=\"1\" stroke-width=\"1\" stroke-linecap=\"square\" stroke-linejoin=\"bevel\" transform=\"matrix(0.49985,0,0,0.499751,98.9703,39.9801)\"\n",
       "font-family=\"Helvetica\" font-size=\"20\" font-weight=\"400\" font-style=\"normal\" \n",
       ">\n",
       "<text fill=\"#212121\" fill-opacity=\"1\" stroke=\"none\" xml:space=\"preserve\" x=\"0\" y=\"0.390625\" font-family=\"Helvetica\" font-size=\"20\" font-weight=\"400\" font-style=\"normal\" \n",
       " >1</text>\n",
       "</g>\n",
       "\n",
       "<g fill=\"none\" stroke=\"#1171be\" stroke-opacity=\"1\" stroke-width=\"1\" stroke-linecap=\"butt\" stroke-linejoin=\"round\" transform=\"matrix(0.49985,0,0,0.499751,0,0)\"\n",
       "font-family=\"Helvetica\" font-size=\"20\" font-weight=\"400\" font-style=\"normal\" \n",
       ">\n",
       "<polyline fill=\"none\" vector-effect=\"none\" points=\"217,893 219.587,892.996 222.174,892.956 224.762,892.806 227.349,892.419 229.936,891.629 232.523,890.234 235.11,888.004 237.697,884.693 240.285,880.046 242.872,873.81 245.459,865.75 248.046,855.652 250.633,843.337 253.22,828.668 255.808,811.558 258.395,791.974 260.982,769.945 263.569,745.556 266.156,718.955 268.743,690.346 271.331,659.987 273.918,628.182 276.505,595.274 279.092,561.635 281.679,527.656 284.267,493.738 286.854,460.277 289.441,427.655 292.028,396.23 294.615,366.323 297.202,338.215 299.79,312.133 302.377,288.249 304.964,266.676 307.551,247.466 310.138,230.611 312.725,216.043 315.313,203.643 317.9,193.244 320.487,184.642 323.074,177.601 325.661,171.867 328.249,167.177 330.836,163.269 333.423,159.894 336.01,156.825 338.597,153.869 341.184,150.869 343.772,147.716 346.359,144.349 348.946,140.762 351.533,137 354.12,133.16 356.707,129.385 359.295,125.864 361.882,122.819 364.469,120.497 367.056,119.165 369.643,119.096 372.23,120.558 374.818,123.804 377.405,129.064 379.992,136.531 382.579,146.355 385.166,158.638 387.754,173.422 390.341,190.694 392.928,210.378 395.515,232.339 398.102,256.383 400.689,282.264 403.277,309.691 405.864,338.332 408.451,367.828 411.038,397.799 413.625,427.86 416.212,457.627 418.8,486.732 421.387,514.831 423.974,541.617 426.561,566.824 429.148,590.238 431.735,611.699 434.323,631.108 436.91,648.424 439.497,663.666 442.084,676.91 444.671,688.282 447.259,697.955 449.846,706.137 452.433,713.064 455.02,718.992 457.607,724.18 460.194,728.886 462.782,733.352 465.369,737.796 467.956,742.402 470.543,747.315 473.13,752.63 475.717,758.394 478.305,764.599 480.892,771.182 483.479,778.032 486.066,784.986 488.653,791.842 491.24,798.361 493.828,804.278 496.415,809.313 499.002,813.177 501.589,815.589 504.176,816.282 506.764,815.015 509.351,811.582 511.938,805.822 514.525,797.625 517.112,786.935 519.699,773.759 522.287,758.161 524.874,740.268 527.461,720.263 530.048,698.383 532.635,674.908 535.222,650.16 537.81,624.486 540.397,598.253 542.984,571.835 545.571,545.602 548.158,519.908 550.745,495.083 553.333,471.42 555.92,449.17 558.507,428.533 561.094,409.655 563.681,392.623 566.269,377.464 568.856,364.147 571.443,352.588 574.03,342.65 576.617,334.154 579.204,326.887 581.792,320.607 584.379,315.059 586.966,309.982 589.553,305.123 592.14,300.242 594.727,295.128 597.315,289.603 599.902,283.533 602.489,276.832 605.076,269.466 607.663,261.454 610.25,252.872 612.838,243.845 615.425,234.548 618.012,225.197 620.599,216.045 623.186,207.369 625.774,199.463 628.361,192.624 630.948,187.146 633.535,183.307 636.122,181.356 638.709,181.509 641.297,183.934 643.884,188.75 646.471,196.02 649.058,205.745 651.645,217.868 654.232,232.269 656.82,248.774 659.407,267.154 661.994,287.137 664.581,308.412 667.168,330.641 669.755,353.469 672.343,376.533 674.93,399.476 677.517,421.958 680.104,443.661 682.691,464.308 685.279,483.661 687.866,501.534 690.453,517.796 693.04,532.375 695.627,545.255 698.214,556.479 700.802,566.144 703.389,574.396 705.976,581.421 708.563,587.441 711.15,592.701 713.737,597.46 716.325,601.979 718.912,606.513 721.499,611.297 724.086,616.54 726.673,622.413 729.26,629.044 731.848,636.511 734.435,644.84 737.022,653.999 739.609,663.905 742.196,674.42 744.784,685.359 747.371,696.494 749.958,707.563 752.545,718.279 755.132,728.34 757.719,737.436 760.307,745.268 762.894,751.549 765.481,756.023 768.068,758.469 770.655,758.712 773.242,756.628 775.83,752.148 778.417,745.267 781.004,736.036 783.591,724.568 786.178,711.033 788.766,695.652 791.353,678.691 793.94,660.452 796.527,641.264 799.114,621.473 801.701,601.429 804.289,581.479 806.876,561.951 809.463,543.148 812.05,525.336 814.637,508.737 817.224,493.523 819.812,479.811 822.399,467.66 824.986,457.073 827.573,447.993 830.16,440.313 832.747,433.876 835.335,428.488 837.922,423.918 840.509,419.917 843.096,416.221 845.683,412.567 848.271,408.698 850.858,404.382 853.445,399.411 856.032,393.618 858.619,386.881 861.206,379.128 863.794,370.341 866.381,360.558 868.968,349.872 871.555,338.429 874.142,326.423 876.729,314.09 879.317,301.701 881.904,289.549 884.491,277.946 887.078,267.206 889.665,257.636 892.253,249.526 894.84,243.137 897.427,238.696 900.014,236.38 902.601,236.318 905.188,238.58 907.776,243.177 910.363,250.058 912.95,259.116 915.537,270.185 918.124,283.049 920.711,297.448 923.299,313.086 925.886,329.642 928.473,346.779 931.06,364.156 933.647,381.438 936.234,398.307 938.822,414.473 941.409,429.684 943.996,443.729 946.583,456.452 949.17,467.748 951.758,477.571 954.345,485.934 956.932,492.904 959.519,498.6 962.106,503.188 964.693,506.874 967.281,509.894 969.868,512.505 972.455,514.976 975.042,517.572 977.629,520.55 980.216,524.146 982.804,528.563 985.391,533.966 987.978,540.474 990.565,548.152 993.152,557.015 995.74,567.016 998.327,578.057 1000.91,589.984 1003.5,602.596 1006.09,615.652 1008.68,628.874 1011.26,641.961 1013.85,654.599 1016.44,666.467 1019.02,677.255 1021.61,686.67 1024.2,694.447 1026.79,700.36 1029.37,704.227 1031.96,705.919 1034.55,705.364 1037.13,702.551 1039.72,697.527 1042.31,690.399 1044.9,681.329 1047.48,670.531 1050.07,658.26 1052.66,644.805 1055.24,630.482 1057.83,615.621 1060.42,600.554 1063.01,585.607 1065.59,571.087 1068.18,557.272 1070.77,544.402 1073.35,532.675 1075.94,522.236 1078.53,513.175 1081.12,505.525 1083.7,499.262 1086.29,494.305 1088.88,490.526 1091.46,487.746 1094.05,485.751 1096.64,484.298 1099.23,483.123 1101.81,481.954 1104.4,480.519 1106.99,478.561 1109.58,475.843 1112.16,472.164 1114.75,467.36 1117.34,461.316 1119.92,453.969 1122.51,445.312 1125.1,435.395 1127.69,424.322 1130.27,412.252 1132.86,399.392 1135.45,385.99 1138.03,372.326 1140.62,358.706 1143.21,345.449 1145.8,332.877 1148.38,321.303 1150.97,311.022 1153.56,302.299 1156.14,295.362 1158.73,290.392 1161.32,287.517 1163.91,286.81 1166.49,288.281 1169.08,291.884 1171.67,297.512 1174.25,305.004 1176.84,314.149 1179.43,324.695 1182.02,336.355 1184.6,348.819 1187.19,361.765 1189.78,374.867 1192.36,387.808 1194.95,400.29 1197.54,412.047 1200.13,422.847 1202.71,432.507 1205.3,440.893 1207.89,447.929 1210.47,453.592 1213.06,457.919 1215.65,461.002 1218.24,462.982 1220.82,464.045 1223.41,464.415 1226,464.344 1228.59,464.101 1231.17,463.963 1233.76,464.205 1236.35,465.087 1238.93,466.845 1241.52,469.683 1244.11,473.76 1246.7,479.189 1249.28,486.031 1251.87,494.288 1254.46,503.906 1257.04,514.776 1259.63,526.735 1262.22,539.571 1264.81,553.032 1267.39,566.835 1269.98,580.67 1272.57,594.216 1275.15,607.151 1277.74,619.159 1280.33,629.946 1282.92,639.247 1285.5,646.836 1288.09,652.532 1290.68,656.209 1293.26,657.798 1295.85,657.286 1298.44,654.725 1301.03,650.22 1303.61,643.932 1306.2,636.073 1308.79,626.891 1311.37,616.672 1313.96,605.72 1316.55,594.355 1319.14,582.894 1321.72,571.647 1324.31,560.902 1326.9,550.919 1329.48,541.917 1332.07,534.068 1334.66,527.495 1337.25,522.264 1339.83,518.383 1342.42,515.806 1345.01,514.429 1347.6,514.102 1350.18,514.628 1352.77,515.775 1355.36,517.285 1357.94,518.881 1360.53,520.283 1363.12,521.211 1365.71,521.404 1368.29,520.625 1370.88,518.672 1373.47,515.385 1376.05,510.653 1378.64,504.42 1381.23,496.687 1383.82,487.511 1386.4,477.006 1388.99,465.338 1391.58,452.723 1394.16,439.416 1396.75,425.703 1399.34,411.895 1401.93,398.315 1404.51,385.287 1407.1,373.123 1409.69,362.119 1412.27,352.537 1414.86,344.602 1417.45,338.49 1420.04,334.326 1422.62,332.177 1425.21,332.051 1427.8,333.895 1430.38,337.602 1432.97,343.009 1435.56,349.905 1438.15,358.041 1440.73,367.134 1443.32,376.883 1445.91,386.973 1448.49,397.09 1451.08,406.932 1453.67,416.219 1456.26,424.699 1458.84,432.164 1461.43,438.45 1464.02,443.446 1466.61,447.097 1469.19,449.405 1471.78,450.429 1474.37,450.28 1476.95,449.12 1479.54,447.154 1482.13,444.622 1484.72,441.789 1487.3,438.937 1489.89,436.352 1492.48,434.315 1495.06,433.09 1497.65,432.914 1500.24,433.99 1502.83,436.475 1505.41,440.478 1508,446.053 \" />\n",
       "</g>\n",
       "</g>\n",
       "</svg>\n"
      ]
     },
     "metadata": {},
     "output_type": "display_data"
    }
   ],
   "source": [
    "m = 1;\n",
    "c = 0.1;\n",
    "k = 1;\n",
    "freq = 0.25; % Frequency in Hz.\n",
    "tfinal = 30; % Simulation duration.\n",
    "t = linspace(0,tfinal,500);\n",
    "u = sin(2*pi*freq*t).^2;\n",
    "\n",
    "% Compute and plot the response\n",
    "G = tf([0 0 1],[m c k]); % The transfer function\n",
    "[x,t] = lsim(G,u,t); % Simulate the response using lsim\n",
    "plot(t,x)"
   ]
  },
  {
   "cell_type": "markdown",
   "id": "f436d63d",
   "metadata": {
    "slideshow": {
     "slide_type": "slide"
    }
   },
   "source": [
    "#### Part 1. Familiarize yourself with the activity.\n",
    "\n",
    "1. Adjust the input function u using the dropdown and observe the responses.\n",
    "2. Adjust the mass-spring-damper parameters and the input frequency to observe the changes to the response.\n",
    "3. Check the \"animate\" box to show an animation of the mass-spring-damper. You can turn this on or off during the remainder of the activity as you prefer.\n",
    "\n",
    "#### Part 2. Find the resonant frequency.\n",
    "\n",
    "1. It is a well-known phenomenon that systems will become unstable if they are driven at their resonant frequency. Try extending the simulation time by increasing tfinal. Is the system being driven at the resonant frequency?\n",
    "2. You should notice that the transient response is characterized by two frequencies: the driving frequency and the mass-spring-damper's natural frequency. Is the natural frequency of the oscillator larger or smaller than the driving (input) frequency?\n",
    "3. Adjust the input frequency so that it matches the natural frequency of the mass-spring-damper. Do you observe resonant oscillations?\n",
    "4. Set the damping to zero. If you are at (or very close to) the resonant frequency, you should observe that the response will grow without bound.\n",
    "5. Try driving the oscillator with a different input function. Does the function choice affect the resonant oscillations?"
   ]
  },
  {
   "cell_type": "markdown",
   "id": "851a11eb",
   "metadata": {
    "slideshow": {
     "slide_type": "subslide"
    }
   },
   "source": [
    "(hw2-exercise-2)=\n",
    "\n",
    "### Homework Exercise 2\n",
    "\n",
    "![exercise](images/write.png)\n",
    "\n",
    "In this exercise, you will compute the analytic response of the mass-spring-damper to a sine wave input function and compare the result to the numerical values computed by `lsim`. For this exercise, assume the mass-spring-damper parameters are $m = 1$, $c = 0$, and $k = 1$. The transfer function is therefore\n",
    "\n",
    "$$G(s) = \\frac{X(s)}{U(s)} = \\frac{1}{s^2 + 1}$$\n",
    "\n",
    "You can perform your analytic computations by hand or in MATLAB using the Symbolic Math Toolbox. When using symbolic math, make sure to declare your symbolic variables before using them. For example:\n",
    "\n",
    "```matlab\n",
    "syms f real   % Real symbolic variable f\n",
    "syms t s      % Symbolic variables t and s\n",
    "```"
   ]
  },
  {
   "cell_type": "markdown",
   "id": "bd9bb358",
   "metadata": {
    "slideshow": {
     "slide_type": "subslide"
    }
   },
   "source": [
    "Complete the exercise in the MATLAB LiveScript `TransferFunctionBasics.mlx`."
   ]
  },
  {
   "cell_type": "markdown",
   "id": "ead92b7e",
   "metadata": {
    "slideshow": {
     "slide_type": "subslide"
    }
   },
   "source": [
    "#### Homework Exercise 2(a)\n",
    "\n",
    "Compute the Laplace transform of the input function:\n",
    "\n",
    "$$u(t) = \\sin(2\\pi f t)$$\n",
    "\n",
    "where $f$ is a constant (the frequency in Hz)."
   ]
  },
  {
   "cell_type": "code",
   "execution_count": 41,
   "id": "90acbd80",
   "metadata": {
    "slideshow": {
     "slide_type": "notes"
    }
   },
   "outputs": [],
   "source": [
    "% Write your code here"
   ]
  },
  {
   "cell_type": "markdown",
   "id": "1bbbd6f1",
   "metadata": {
    "slideshow": {
     "slide_type": "subslide"
    }
   },
   "source": [
    "#### Homework Exercise 2(b)\n",
    "\n",
    "Find the expression for the response in the Laplace domain: $X(s)$."
   ]
  },
  {
   "cell_type": "code",
   "execution_count": 42,
   "id": "351750e9",
   "metadata": {
    "slideshow": {
     "slide_type": "notes"
    }
   },
   "outputs": [],
   "source": [
    "% Write your code here"
   ]
  },
  {
   "cell_type": "markdown",
   "id": "d7b275cf",
   "metadata": {
    "slideshow": {
     "slide_type": "subslide"
    }
   },
   "source": [
    "#### Homework Exercise 2(c)\n",
    "\n",
    "Compute the inverse Laplace transform of $X(s)$ to identify the time-domain response $x(t)$."
   ]
  },
  {
   "cell_type": "code",
   "execution_count": 43,
   "id": "aaa8f0ea",
   "metadata": {
    "slideshow": {
     "slide_type": "notes"
    }
   },
   "outputs": [],
   "source": [
    "% Write your code here"
   ]
  },
  {
   "cell_type": "markdown",
   "id": "bab778ee",
   "metadata": {
    "slideshow": {
     "slide_type": "subslide"
    }
   },
   "source": [
    "#### Homework Exercise 2(d)\n",
    "\n",
    "Evaluate the analytic response for $f = 0.16$ on the interval $[0, 50]$ and plot it."
   ]
  },
  {
   "cell_type": "markdown",
   "id": "f9222c3f",
   "metadata": {
    "slideshow": {
     "slide_type": "notes"
    }
   },
   "source": [
    "**Hint**: If you computed symbolically in MATLAB, you can convert it to a function handle using [`matlabFunction`](https://www.mathworks.com/help/symbolic/matlabfunction.html) and evaluate that instead of writing out the expression yourself. For example:\n",
    "\n",
    "```matlab\n",
    "xfunc = matlabFunction(x)    % Create a function handle for a symbolic expression x\n",
    "xeval = xfunc(freq,t);       % Evaluate the function handle based on its input arguments\n",
    "```"
   ]
  },
  {
   "cell_type": "code",
   "execution_count": 44,
   "id": "37611f2a",
   "metadata": {
    "slideshow": {
     "slide_type": "notes"
    }
   },
   "outputs": [],
   "source": [
    "% Write your code here"
   ]
  },
  {
   "cell_type": "markdown",
   "id": "822c15cb",
   "metadata": {
    "slideshow": {
     "slide_type": "subslide"
    }
   },
   "source": [
    "(e) Use the [`lsim`](https://www.mathworks.com/help/control/ref/lti.lsim.html) function to compute the same response and plot it together with the analytic response."
   ]
  },
  {
   "cell_type": "code",
   "execution_count": 45,
   "id": "4cabf216",
   "metadata": {
    "slideshow": {
     "slide_type": "notes"
    }
   },
   "outputs": [],
   "source": [
    "% Write your code here"
   ]
  },
  {
   "cell_type": "markdown",
   "id": "a2d6dc41",
   "metadata": {
    "slideshow": {
     "slide_type": "subslide"
    }
   },
   "source": [
    "(homework2)=\n",
    "\n",
    "## Homework 2: Transfer Function Basics\n",
    "\n",
    "1. Register with the MathWorks (if you haven't already) using your Swansea University email and install your own copy of the curriculum module [Transfer Function Analysis of Dynamic Systems](https://github.com/MathWorks-Teaching-Resources/Transfer-Function-Analysis-of-Dynamic-Systems) into the online MATLAB version[^installation].\n",
    "2. Open the `TransferFunctionBasics.mlx` activity.\n",
    "3. Complete the Exercises and Activities and add your own notes to the LiveScript file in response to the Reflection prompts given above.\n",
    "\n",
    "- {ref}`hw2-exercise-1`\n",
    "- {ref}`hw2-activity-1`\n",
    "- {ref}`hw2-exercise-2`"
   ]
  },
  {
   "cell_type": "markdown",
   "id": "b4c46855",
   "metadata": {
    "slideshow": {
     "slide_type": "slide"
    }
   },
   "source": [
    "## Further exploration\n",
    "\n",
    "![explore](images/navigation.png)\n",
    "\n",
    "- You can find more information about using transfer functions in MATLAB[^eg243] in the video: [Transfer Functions in MATLAB](https://uk.mathworks.com/videos/transfer-functions-in-matlab-100912.html).\n",
    "- Want to learn more about mass-spring-damper systems? Check out the [Mass-Spring-Damper Systems courseware](https://uk.mathworks.com/matlabcentral/fileexchange/94585-mass-spring-damper-systems?s_tid=FX_rc2_behav) module.\n",
    "- Learn more about responses in the [MATLAB Tech Talk: Control Systems in Practice, Part 9: The Step Response](https://uk.mathworks.com/videos/control-systems-in-practice-part-9-the-step-response-1593067191882.html)[^eg243].\n",
    "  Want a little more of the theory? Check out Brian Douglas' video: [Control Systems Lectures - Transfer Functions](https://www.youtube.com/watch?v=RJleGwXorUk&ab_channel=BrianDouglas)[^eg243]."
   ]
  },
  {
   "cell_type": "markdown",
   "id": "e3a66e66",
   "metadata": {
    "slideshow": {
     "slide_type": "notes"
    }
   },
   "source": [
    "## Footnotes\n",
    "\n",
    "[^refer_to_livescript]: The MATLAB live script `TransferFunctionBasics.mlx` has sliders to make the interactive adjustment of the parameters `m`, `c` and `k` possible.\n",
    "[^eg243]: These resources are useful for those of you also studying control systems this semester.\n",
    "[^solutions]: MATLAB solutions to selected exercises are provided in the online notes."
   ]
  }
 ],
 "metadata": {
  "celltoolbar": "Slideshow",
  "jupytext": {
   "formats": "ipynb,md:myst"
  },
  "kernelspec": {
   "display_name": "MKernel",
   "language": "matlab",
   "name": "mkernel"
  },
  "language_info": {
   "file_extension": ".m",
   "mimetype": "text/x-matlab",
   "name": "matlab"
  }
 },
 "nbformat": 4,
 "nbformat_minor": 5
}
