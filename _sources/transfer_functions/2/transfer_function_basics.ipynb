{
 "cells": [
  {
   "cell_type": "markdown",
   "id": "26a6f223",
   "metadata": {
    "slideshow": {
     "slide_type": "slide"
    }
   },
   "source": [
    "(tf_basics)=\n",
    "# Unit 2.2: Transfer Function Basics"
   ]
  },
  {
   "cell_type": "markdown",
   "id": "64edc838",
   "metadata": {
    "slideshow": {
     "slide_type": "subslide"
    }
   },
   "source": [
    "## Learning Outcomes\n",
    "\n",
    "In this unit, students will...\n",
    "\n",
    "* Derive transfer functions by hand.\n",
    "* Derive transfer functions using symbolic math.\n",
    "* Numerically evaluate and plot the impulse, step, and forced responses of a system.\n",
    "* Analytically derive the step and forced responses of a system.\n",
    "* Explain the physical significance of time responses."
   ]
  },
  {
   "cell_type": "markdown",
   "id": "eb5b11a9",
   "metadata": {
    "slideshow": {
     "slide_type": "notes"
    }
   },
   "source": [
    ":::{note}\n",
    "This unit is based on the MATLAB LiveScript `TransferFunctionBasics.mlx` from the curriculum module [Transfer Function Analysis of Dynamic Systems](https://github.com/MathWorks-Teaching-Resources/Transfer-Function-Analysis-of-Dynamic-Systems). \n",
    "\n",
    "Some of the examples rely on interactive features of MATLAB that are not readily reproduced in these notes. To make use of these facilities, you are advised to access the script directly from the project in MATLAB online.\n",
    "\n",
    "These materials © Copyright 2023 The MathWorks™, Inc. (See {ref}`mathworks_license`).\n",
    ":::"
   ]
  },
  {
   "cell_type": "code",
   "execution_count": 3,
   "id": "a3e4467c",
   "metadata": {
    "slideshow": {
     "slide_type": "subslide"
    }
   },
   "outputs": [],
   "source": [
    "%% Lecturer: set up the TransferFunctions project for in class execution of exercise tests and activities.\n",
    "\n",
    "% Setup MATLAB to use the TransferFunctionBasics.mlx LiveScript in class.\n",
    "% I am assuming that this is on the MATLAB Drive\n",
    "\n",
    "format compact \n",
    "% Change this to local set up where this Jupyter book is run\n",
    "cd '/Users/eechris/MATLAB-Drive/Repositories/Transfer-Function-Analysis-of-Dynamic-Systems'\n",
    "open('TransferFunctions.prj')"
   ]
  },
  {
   "cell_type": "markdown",
   "id": "060dbf2c",
   "metadata": {
    "slideshow": {
     "slide_type": "slide"
    }
   },
   "source": [
    "## Electric vehicles: the wave of the future?\n",
    "\n",
    "![Essential components of an electric vehicle](images/car1.png)\n",
    "\n",
    "Essential components of an electric vehicle"
   ]
  },
  {
   "cell_type": "markdown",
   "id": "fb9d1d03",
   "metadata": {
    "slideshow": {
     "slide_type": "subslide"
    }
   },
   "source": [
    "Electric vehicles (EV) may well be the future of environmentally sustainable travel. But what makes it possible for an EV to be more efficient than a gas vehicle while still providing enough power to accelerate to and maintain high speeds? The answer lies in efficient power electronics. In this unit, you will learn about transfer functions and use them to analyze the dynamics of several essential components of an electric vehicle."
   ]
  },
  {
   "cell_type": "markdown",
   "id": "4e090a9c",
   "metadata": {
    "slideshow": {
     "slide_type": "slide"
    }
   },
   "source": [
    "## Transfer Function Definition\n",
    "Consider a dynamic system with a single input function  and a single output function:\n",
    "\n",
    "![A dynamic system represented as a block diagram in the time domain](images/bdt.png)\n",
    "    \n",
    "This is known as a **SISO** (Single Input Single Output) system. In general, the system $g$ is defined through a differential equation: $g(u, x, \\dot{x}, \\ddot{x},\\ldots) = 0$."
   ]
  },
  {
   "cell_type": "markdown",
   "id": "1bd677ce",
   "metadata": {
    "slideshow": {
     "slide_type": "subslide"
    }
   },
   "source": [
    "The **transfer function** is defined as\n",
    "\n",
    "$$G(s) = \\frac{Y(s)}{U(s)},$$\n",
    "\n",
    "the ratio of the Laplace transform of the output $Y(s) = \\mathcal{L}\\{y(t)\\}$ to the Laplace transform of the input $U(s) = \\mathcal{L}\\{u(t)\\}$. The transfer function $G(s)$ maps inputs $U$ to outputs $Y$:\n",
    "\n",
    "![A dynamic system represented as a block diagram in the complex frequency domain](images/bds.png)"
   ]
  },
  {
   "cell_type": "markdown",
   "id": "8c6bddce",
   "metadata": {
    "slideshow": {
     "slide_type": "notes"
    }
   },
   "source": [
    ":::{tip}  If you need to brush up on Laplace transforms, review them in: {ref}`tf_concepts`. \n",
    ":::"
   ]
  },
  {
   "cell_type": "markdown",
   "id": "9a0b60f8",
   "metadata": {
    "slideshow": {
     "slide_type": "slide"
    }
   },
   "source": [
    "### Example 1\n",
    "\n",
    "![example](images/write.png)\n",
    "\n",
    "Find the transfer function of a mass-spring-damper that is dynamically forced by an arbitrary function $u(t)$. Assume that the system is initially at rest ($x(0)=0$ and $\\dot{x}(0) = 0$).\n",
    "      \n",
    "![Mass-spring-damper diagram](images/smd.png)\n",
    "Mass-spring-damper diagram"
   ]
  },
  {
   "cell_type": "markdown",
   "id": "227d697a",
   "metadata": {
    "slideshow": {
     "slide_type": "subslide"
    }
   },
   "source": [
    "### Solution to Example 1 \n",
    "\n",
    "The equation of motion for a mass-spring-damper is\n",
    "    \n",
    "$$m \\ddot{x} + c \\dot{x} + k x = u$$"
   ]
  },
  {
   "cell_type": "markdown",
   "id": "e7df6f5e",
   "metadata": {
    "slideshow": {
     "slide_type": "subslide"
    }
   },
   "source": [
    "Using the properties of the Laplace transform for derivatives, the Laplace transform is\n",
    "            \n",
    "$$m[s^2 X - sx(0) - \\dot{x}(0)] + c [s X - x(0)] + kX = U$$"
   ]
  },
  {
   "cell_type": "markdown",
   "id": "57444883",
   "metadata": {
    "slideshow": {
     "slide_type": "subslide"
    }
   },
   "source": [
    "Applying $x(0) = 0$ and $\\dot{x}(0) = 0$:\n",
    "\n",
    "$$ms^2 X  + c s X  + kX = U$$"
   ]
  },
  {
   "cell_type": "markdown",
   "id": "d2b29429",
   "metadata": {
    "slideshow": {
     "slide_type": "subslide"
    }
   },
   "source": [
    "Solving for the ratio of the input to the output yields the transfer function:\n",
    "\n",
    "$$G(s) = \\frac{X(s)}{U(s)} = \\frac{1}{m s^2 + cs + k}$$"
   ]
  },
  {
   "cell_type": "markdown",
   "id": "f3704086",
   "metadata": {
    "slideshow": {
     "slide_type": "subslide"
    }
   },
   "source": [
    "### Exercise 1 \n",
    "\n",
    "![example](images/write.png)\n",
    "\n",
    "Find the transfer function of a simple pendulum with zero initial conditions using the linearized equations of motion. Consider that the pendulum is being driven by an arbitrary forcing function $u(t)$ (note that any angle dependence of the forcing would be baked into $u(t)$. The equations of motion are: \n",
    "\n",
    "$$\\ddot{\\theta} + \\frac{g}{l} \\theta = u$$\n",
    "    \n",
    "where $g$ is acceleration due to gravity and $l$ is the length of the pendulum. \n",
    "\n",
    "Record your answer below in variable `pendulumTF` in terms of the symbolic variables `g`, `l`, and `s`."
   ]
  },
  {
   "cell_type": "markdown",
   "id": "62f87bdc",
   "metadata": {
    "slideshow": {
     "slide_type": "subslide"
    }
   },
   "source": [
    "#### Solution to Exercise 1\n",
    "$$\n",
    "\\mathcal{L}\\left\\{\\ddot{\\theta} + \\frac{g}{l} \\theta = u\\right\\} = \\left(s^2\\Theta(s) - sf(0) - f'(0)\\right) + \\frac{g}{l}\\Theta(s) = U(s)\n",
    "$$"
   ]
  },
  {
   "cell_type": "markdown",
   "id": "d4d97bac",
   "metadata": {
    "slideshow": {
     "slide_type": "subslide"
    }
   },
   "source": [
    "Assuming zero initial conditions, $f(0) = f'(0) = 0$, then\n",
    "\n",
    "$$\n",
    "\\begin{align}\n",
    "s^2\\Theta(s) + \\frac{g}{l}\\Theta(s) &= U(s) \\\\\n",
    "\\left(s^2 + \\frac{g}{l}\\right)\\Theta(s) &= U(s)\n",
    "\\end{align}\n",
    "$$"
   ]
  },
  {
   "cell_type": "markdown",
   "id": "d7e8d2f2",
   "metadata": {
    "slideshow": {
     "slide_type": "subslide"
    }
   },
   "source": [
    "From this the transfer function $G(s)$ is\n",
    "\n",
    "$$\n",
    "\\begin{align}\n",
    "G(s) &= \\frac{\\Theta(s)}{U(s)}\\\\\n",
    "&= \\frac{1}{s^2 + \\left(g/l\\right)}\n",
    "\\end{align}\n",
    "$$\n",
    "\n",
    "We can now enter this result into the code below."
   ]
  },
  {
   "cell_type": "code",
   "execution_count": 26,
   "id": "c6680ef6",
   "metadata": {
    "slideshow": {
     "slide_type": "subslide"
    }
   },
   "outputs": [
    {
     "name": "stdout",
     "output_type": "stream",
     "text": [
      "pendulumTF =\n",
      "1/(s^2 + g/l)\n"
     ]
    }
   ],
   "source": [
    "format compact % remove extra white space\n",
    "syms g l s\n",
    "% Record your answer in pendulumTF\n",
    "pendulumTF = 1/(s^2 + (g/l));"
   ]
  },
  {
   "cell_type": "markdown",
   "id": "5caa66cb",
   "metadata": {
    "slideshow": {
     "slide_type": "slide"
    }
   },
   "source": [
    "## Electric vehicle dynamic system\n",
    "In this module, you'll investigate the dynamics of components of an electric vehicle's electrical and mechanical systems (EV) using transfer functions. The major components of the EV system are represented in the diagram below."
   ]
  },
  {
   "cell_type": "markdown",
   "id": "764f8019",
   "metadata": {
    "slideshow": {
     "slide_type": "subslide"
    }
   },
   "source": [
    "![Simplified EV power system](images/ev_power_system.png)\n",
    "Simplified EV power system"
   ]
  },
  {
   "cell_type": "markdown",
   "id": "fa0b983e",
   "metadata": {
    "slideshow": {
     "slide_type": "notes"
    }
   },
   "source": [
    "There are two domains represented in this diagram: the electrical and physical domains. The DC motor couples the domains by converting electrical energy to mechanical. Inside the electrical domain, there are two essential conversions.\n",
    "* The AC power source (120/240V) is converted to a high voltage DC source (200-800V) used to charge the battery pack.\n",
    "* The battery's high voltage DC (200-800V) is converted to a low voltage (12V or 48V) by a buck converter for use by low voltage systems.\n",
    "\n",
    "In this unit, you will investigate several paradigmatic components present (or like those present) in EVs."
   ]
  },
  {
   "cell_type": "markdown",
   "id": "cff9b43d",
   "metadata": {
    "slideshow": {
     "slide_type": "slide"
    }
   },
   "source": [
    "## Transfer function representation of simple vehicle motion\n",
    "The most intuitive part of the electric vehicle system is the motion of the vehicle itself.\n",
    "\n",
    "![A focus on modeling the motion of the vehicle](images/car_motion.png)\n",
    "In this unit, we'll focus on modeling the motion of the vehicle."
   ]
  },
  {
   "cell_type": "markdown",
   "id": "509b1933",
   "metadata": {
    "slideshow": {
     "slide_type": "subslide"
    }
   },
   "source": [
    "In a straightforward model, an EV (and indeed, any vehicle) can be modeled as a simple mass with two forces acting on it: a traction force and a frictional force. The traction force results from the motor applying torque to the wheels.\n",
    "\n",
    "![A simple vehicle model](images/vehicle_model.png)\n",
    "A simple vehicle model"
   ]
  },
  {
   "cell_type": "markdown",
   "id": "c3a72daa",
   "metadata": {
    "slideshow": {
     "slide_type": "subslide"
    }
   },
   "source": [
    "### Example 2 \n",
    "\n",
    "(a) Derive the equation of motion for the simple vehicle model and (b) compute the transfer function of the displacement $x(t)$ using the traction force as the input function $u(t)$."
   ]
  },
  {
   "cell_type": "markdown",
   "id": "44ea13e8",
   "metadata": {
    "slideshow": {
     "slide_type": "subslide"
    }
   },
   "source": [
    "### Solution to Example 2"
   ]
  },
  {
   "cell_type": "markdown",
   "id": "a101eb6b",
   "metadata": {
    "slideshow": {
     "slide_type": "subslide"
    }
   },
   "source": [
    "#### Example 2(a) Differential equation\n",
    "\n",
    "The displacement of the vehicle is $x(t)$. For simplicity, the frictional force is assumed to be proportional to the velocity $\\dot{x}(t)$ with a constant of proportionality $k$:\n",
    "    \n",
    "$$F_\\mathrm{friction} = k \\dot{x}$$"
   ]
  },
  {
   "cell_type": "markdown",
   "id": "7aadb231",
   "metadata": {
    "slideshow": {
     "slide_type": "subslide"
    }
   },
   "source": [
    "The traction force varies depending on the output of the motor (among other considerations), so it is treated as an arbitrary function:\n",
    "    \n",
    "$$F_\\mathrm{traction} = u(t)$$"
   ]
  },
  {
   "cell_type": "markdown",
   "id": "915e3ad4",
   "metadata": {
    "slideshow": {
     "slide_type": "subslide"
    }
   },
   "source": [
    "With these two forces, Newton's second law implies:\n",
    "\n",
    "$$m\\ddot{x} = -k\\dot{x}  + u(t)$$"
   ]
  },
  {
   "cell_type": "markdown",
   "id": "35624437",
   "metadata": {
    "slideshow": {
     "slide_type": "subslide"
    }
   },
   "source": [
    "#### Example 2(b) Transfer function\n",
    "\n",
    "Computing the Laplace transform of the equation of motion yields\n",
    "    \n",
    "$$m[s^2 X - sx(0) - x'(0)] = - k [s X - x(0)] + U$$"
   ]
  },
  {
   "cell_type": "markdown",
   "id": "493deb6f",
   "metadata": {
    "slideshow": {
     "slide_type": "subslide"
    }
   },
   "source": [
    "Applying the zero initial conditions and solving for $X/U$ yields\n",
    "\n",
    "$$G(s) = \\frac{X(s)}{U(s)} = \\frac{1}{ms^2 + ks}$$"
   ]
  },
  {
   "cell_type": "markdown",
   "id": "7cb2467d",
   "metadata": {
    "slideshow": {
     "slide_type": "notes"
    }
   },
   "source": [
    ":::{note} There are many simplifications present in this vehicle model (especially in the way the frictional forces are modeled). The model is intended to help illustrate the essential concepts of transfer functions, rather than accurately account for the forces present in the true mechanical system.\n",
    ":::"
   ]
  },
  {
   "cell_type": "markdown",
   "id": "9cda912d",
   "metadata": {
    "slideshow": {
     "slide_type": "subslide"
    }
   },
   "source": [
    "### Exercise 2\n",
    "\n",
    "It may be the case that you want to analyze the velocity $v(t)=\\dot{x}(t)$ rather than the position $x$. Rewrite the equation of motion \n",
    "    \n",
    "$$m\\ddot{x} = -k\\dot{x} + f(t)$$\n",
    "\n",
    "in terms of the velocity, $v(t)=\\dot{x}(t)$, and then solve for the transfer function of $v$: $H(s) = V(s)/F(s)$. Record your answer below in `Vtf` in terms of the symbolic variables `s`, `m`, and `k`."
   ]
  },
  {
   "cell_type": "markdown",
   "id": "34f1f6bd",
   "metadata": {
    "slideshow": {
     "slide_type": "subslide"
    }
   },
   "source": [
    "#### Solution to Exercise 2\n",
    "\n",
    "Let $v = \\dot{x}$ then\n",
    "\n",
    "$$m\\ddot{x} = -k\\dot{x} + f(t) \\rightarrow m\\dot{v} = -kv + f(t)$$\n",
    "\n",
    "So\n",
    "\n",
    "$$m\\dot{v} + kv = f(t)$$ "
   ]
  },
  {
   "cell_type": "markdown",
   "id": "9702aaaf",
   "metadata": {
    "slideshow": {
     "slide_type": "subslide"
    }
   },
   "source": [
    "Taking Laplace transform and ignoring initial conditions\n",
    "\n",
    "$$\n",
    "\\begin{align}\n",
    "msV(s) + kV(s) &= F(s) \\\\\n",
    "\\left(ms + k\\right)V(s) &= F(s)\n",
    "\\end{align}\n",
    "$$"
   ]
  },
  {
   "cell_type": "markdown",
   "id": "533446cb",
   "metadata": {
    "slideshow": {
     "slide_type": "subslide"
    }
   },
   "source": [
    "Then the transfer function is\n",
    "\n",
    "$$G(s) = \\frac{V(s)}{F(s)} = \\frac{1}{ms + k}$$"
   ]
  },
  {
   "cell_type": "code",
   "execution_count": 25,
   "id": "8e7fbf58",
   "metadata": {
    "slideshow": {
     "slide_type": "subslide"
    }
   },
   "outputs": [],
   "source": [
    "syms m s k % Symbolic variable declarations\n",
    "% Record your answer here\n",
    "Vtf = 1/(m*s + k);"
   ]
  },
  {
   "cell_type": "markdown",
   "id": "f0e7eee1",
   "metadata": {
    "slideshow": {
     "slide_type": "slide"
    }
   },
   "source": [
    "## Impulse response \n",
    "The impulse response of a system is the output generated from an impulse input. This is also commonly referred to as the natural response.\n",
    "       \n",
    "![Response of a system to an impulse](images/impulse_response.png)\n",
    "Response of a system to an impulse. While the response may be computed in the $s$-domain, it is shown in the time domain."
   ]
  },
  {
   "cell_type": "markdown",
   "id": "926d3e83",
   "metadata": {
    "slideshow": {
     "slide_type": "notes"
    }
   },
   "source": [
    "Here $\\delta(t)$ is the Dirac delta function which has the properties:\n",
    "\n",
    "$\\int_{-\\infty}^{\\infty} \\delta(t) dt = 1 $ and $\\delta(t) = 0 \\text{ for } t \\neq 0$ \n",
    "\n",
    "Think of the unit impulse as giving the system a (very) quick shove at time $t = 0$. The impulse response shows how the system will respond to that shove."
   ]
  },
  {
   "cell_type": "markdown",
   "id": "9355a2cc",
   "metadata": {
    "slideshow": {
     "slide_type": "subslide"
    }
   },
   "source": [
    "###  Reflect\n",
    "\n",
    "![reflect](images/reflect.png)\n",
    "\n",
    "Consider the simple vehicle motion model. The input function is the traction force $u(t) = F_\\mathrm{traction}(t)$. An impulse input corresponds to an instantaneous force at time $t = 0$.\n",
    "        \n",
    "![A model of a simple vehicle](images/vehicle_model.png)\n",
    "\n",
    "* Try drawing a plot of the impulse response of the position transfer function $X(s)/F(s)$ in the time domain.\n",
    "* Try drawing a plot of the impulse response of the velocity transfer function $V(s)/F(s)$ in the time domain."
   ]
  },
  {
   "cell_type": "markdown",
   "id": "adbb9304",
   "metadata": {
    "slideshow": {
     "slide_type": "subslide"
    }
   },
   "source": [
    "### Example 3\n",
    "\n",
    "Plot the impulse response of a mass-spring-damper with zero initial conditions and parameters $m=1$, $c=0.1$, and $k=0.5$. \n",
    "      \n",
    "![Mass-spring-damper diagram](images/smd.png)\n",
    "Mass-spring-damper diagram"
   ]
  },
  {
   "cell_type": "markdown",
   "id": "20559ee4",
   "metadata": {
    "slideshow": {
     "slide_type": "subslide"
    }
   },
   "source": [
    "Recall the transfer function of the mass-spring-damper:\n",
    "    \n",
    "$$G(s) = \\frac{X(s)}{U(s)} = \\frac{1}{m s^2 + cs + k}$$"
   ]
  },
  {
   "cell_type": "markdown",
   "id": "d58809ac",
   "metadata": {
    "slideshow": {
     "slide_type": "subslide"
    }
   },
   "source": [
    "### Solution to Example 3\n",
    "\n",
    "You can compute the impulse response in MATLAB by defining a transfer function using [`tf`](https://www.mathworks.com/help/control/ref/tf.html) and then evaluating its response using the [`impulse`](https://www.mathworks.com/help/control/ref/lti.impulse.html) function."
   ]
  },
  {
   "cell_type": "markdown",
   "id": "e4cd7ac7",
   "metadata": {
    "slideshow": {
     "slide_type": "notes"
    }
   },
   "source": [
    "The `tf` function has the syntax\n",
    "\n",
    "```matlab\n",
    "tf(num,denom)\n",
    "```\n",
    "\n",
    "where `num` represents the coefficients of the numerator and denom represents those of the denominator in descending order. Note that a transfer function created using the `tf` function is not a symbolic function and cannot be manipulated with the Symbolic Math Toolbox."
   ]
  },
  {
   "cell_type": "markdown",
   "id": "792067a0",
   "metadata": {
    "slideshow": {
     "slide_type": "subslide"
    }
   },
   "source": [
    "The numerator and denominator of $G$ are defined below[^refer_to_livescript]."
   ]
  },
  {
   "cell_type": "code",
   "execution_count": 22,
   "id": "36e58e1a",
   "metadata": {
    "slideshow": {
     "slide_type": "subslide"
    }
   },
   "outputs": [],
   "source": [
    "m = 1;\n",
    "c = 0.1; \n",
    "k = 0.4; \n",
    "num = [0 0 1];\n",
    "denom = [m c k];"
   ]
  },
  {
   "cell_type": "markdown",
   "id": "dc134823",
   "metadata": {
    "slideshow": {
     "slide_type": "subslide"
    }
   },
   "source": [
    "Call` tf` to build the transfer function."
   ]
  },
  {
   "cell_type": "code",
   "execution_count": 23,
   "id": "b5b243f1",
   "metadata": {
    "slideshow": {
     "slide_type": "subslide"
    }
   },
   "outputs": [
    {
     "name": "stdout",
     "output_type": "stream",
     "text": [
      "\n",
      "G =\n",
      " \n",
      "          1\n",
      "  -----------------\n",
      "  s^2 + 0.1 s + 0.4\n",
      " \n",
      "Continuous-time transfer function.\n"
     ]
    }
   ],
   "source": [
    "G = tf(num,denom)"
   ]
  },
  {
   "cell_type": "markdown",
   "id": "ac6b23aa",
   "metadata": {
    "slideshow": {
     "slide_type": "subslide"
    }
   },
   "source": [
    "To plot the impulse response, call the impulse function with the syntax:\n",
    "\n",
    "```matlab\n",
    "impulse(H,tFinal)\n",
    "```\n",
    "\n",
    "where `H` is the transfer function and `tFinal` is the duration of the simulation."
   ]
  },
  {
   "cell_type": "code",
   "execution_count": 43,
   "id": "74afcb51",
   "metadata": {
    "slideshow": {
     "slide_type": "subslide"
    }
   },
   "outputs": [
    {
     "name": "stdout",
     "output_type": "stream",
     "text": [
      "tFinal =\n",
      "   100\n"
     ]
    },
    {
     "data": {
      "image/png": "[encoded data removed]",
      "text/plain": [
       "<IPython.core.display.Image object>"
      ]
     },
     "metadata": {},
     "output_type": "display_data"
    }
   ],
   "source": [
    "tFinal = 100;\n",
    "impulse(G,tFinal);\n",
    "ylabel(\"x [m]\")"
   ]
  },
  {
   "cell_type": "markdown",
   "id": "0d5500d1",
   "metadata": {
    "slideshow": {
     "slide_type": "notes"
    }
   },
   "source": [
    "### Reflect\n",
    "\n",
    "![reflect](images/reflect.png)\n",
    "\n",
    "* How are the damping  and spring stiffness  reflected in the impulse response?\n",
    "* If $c$ is increased to 0.5, how will the response change?\n",
    "* Try setting $c = 0.5$ and recompute the impulse response.\n",
    "* Try setting $k = 1$ and recompute the impulse response."
   ]
  },
  {
   "cell_type": "markdown",
   "id": "800cba52",
   "metadata": {
    "slideshow": {
     "slide_type": "subslide"
    }
   },
   "source": [
    "### Exercise 3\n",
    "\n",
    "Consider a simple vehicle with a mass of 1300 kg and a frictional constant of proportionality of $k = 100$  N.s/m. Recall that the simple vehicle motion model has a transfer function:\n",
    "\n",
    "\n",
    "$$G(s) = \\frac{X(s)}{U(s)} = \\frac{1}{ms^2 + ks}$$\n",
    "\n",
    "\n",
    "Plot the impulse response of  for the first 100 seconds using MATLAB commands by\n",
    "1. creating the transfer function using the `tf` function\n",
    "2. plotting the impulse response using `impulse` function"
   ]
  },
  {
   "cell_type": "code",
   "execution_count": 31,
   "id": "477d03c9",
   "metadata": {
    "slideshow": {
     "slide_type": "notes"
    }
   },
   "outputs": [
    {
     "name": "stdout",
     "output_type": "stream",
     "text": [
      "\n",
      "G =\n",
      " \n",
      "         1\n",
      "  ----------------\n",
      "  1300 s^2 + 100 s\n",
      " \n",
      "Continuous-time transfer function.\n"
     ]
    },
    {
     "data": {
      "image/png": "[encoded data removed]",
      "text/plain": [
       "<IPython.core.display.Image object>"
      ]
     },
     "metadata": {},
     "output_type": "display_data"
    }
   ],
   "source": [
    "% Parameters\n",
    "m = 1300;     % kg\n",
    "k = 100;      % N.s/m\n",
    "Tfinal = 100; % seconds\n",
    "% Transfer function\n",
    "num = 1;\n",
    "den = [m, k, 0];\n",
    "G = tf(num,den);\n",
    "% Impulse response\n",
    "impulse(G, Tfinal),ylabel('x(t) [metres]'),grid"
   ]
  },
  {
   "cell_type": "markdown",
   "id": "8fe164e9",
   "metadata": {
    "slideshow": {
     "slide_type": "notes"
    }
   },
   "source": [
    "### Reflect\n",
    "\n",
    "![reflect](images/reflect.png)\n",
    "\n",
    "* How does the impulse response compare to your prediction for the impulse response?\n",
    "* Physically, what does the long-term behavior of the impulse response represent?\n",
    "* Define the velocity transfer function $\\displaystyle{H(s) = \\frac{1}{ms + k}}$ and compute the impulse response in the space below. Physically, what does the limiting behaviour represent?"
   ]
  },
  {
   "cell_type": "code",
   "execution_count": 39,
   "id": "3afcfb03",
   "metadata": {
    "slideshow": {
     "slide_type": "notes"
    }
   },
   "outputs": [
    {
     "name": "stdout",
     "output_type": "stream",
     "text": [
      "\n",
      "G2 =\n",
      " \n",
      "       1\n",
      "  ------------\n",
      "  1300 s + 100\n",
      " \n",
      "Continuous-time transfer function.\n"
     ]
    },
    {
     "data": {
      "image/png": "[encoded data removed]",
      "text/plain": [
       "<IPython.core.display.Image object>"
      ]
     },
     "metadata": {},
     "output_type": "display_data"
    }
   ],
   "source": [
    "% Velocity TF\n",
    "num = 1;\n",
    "den = [m, k];\n",
    "G2 = tf(num,den);\n",
    "\n",
    "impulse(G2, Tfinal),ylabel('v(t) [metres/s]'),grid"
   ]
  },
  {
   "cell_type": "markdown",
   "id": "32bd9db4",
   "metadata": {
    "slideshow": {
     "slide_type": "slide"
    }
   },
   "source": [
    "## Step response\n",
    "\n",
    "The output generated from a step input is known as the step response.\n",
    "    \n",
    "![Response of a system to a step input](images/step_resp.png)\n",
    "Response of a system to a step input.\n",
    "\n",
    "The step response is plotted in the time domain. Think of the step response as the system's response to a sustained constant forcing. In the vehicle model, this would result from continuously running the motor (with the assumption that it produced a constant traction force output)."
   ]
  },
  {
   "cell_type": "markdown",
   "id": "c2dad90a",
   "metadata": {
    "slideshow": {
     "slide_type": "subslide"
    }
   },
   "source": [
    "### Reflect \n",
    "\n",
    "![reflect](images/reflect.png)\n",
    "\n",
    "Consider the simple vehicle motion model. The input function is the traction force $u(t) = F_\\mathrm{traction}(t)$.\n",
    "\n",
    "![A model of a simple vehicle](images/vehicle_model.png)\n",
    "\n",
    "        \n",
    "* Try drawing a plot of the step response of the position transfer function $G(s) = X(s)/F(s)$ in the time domain.\n",
    "* Try drawing a plot of the step response of the velocity transfer function $H(s) = V(s)/F(s)$ in the time domain."
   ]
  },
  {
   "cell_type": "markdown",
   "id": "ea7ea474",
   "metadata": {
    "slideshow": {
     "slide_type": "subslide"
    }
   },
   "source": [
    "### Exercise 4\n",
    "\n",
    "Consider a simple vehicle with a mass of 1300 kg and a frictional constant of proportionality of $k = 100$ N.s/m. Recall that the simple vehicle motion model has a transfer function:\n",
    "\n",
    "$$G(s) = \\frac{X(s)}{F(s)} = \\frac{1}{ms^2 + ks}$$"
   ]
  },
  {
   "cell_type": "markdown",
   "id": "88c287c5",
   "metadata": {
    "slideshow": {
     "slide_type": "subslide"
    }
   },
   "source": [
    "Define the transfer function `G` in MATLAB using the `tf` function and then plot the step response for the first 30 seconds using the `step` function. The step function has the syntax\n",
    "\n",
    "```matlab\n",
    "step(sys,Tfinal)\n",
    "```\n",
    "\n",
    "where `sys` is a dynamic system (here, that's the transfer function `G`) and `Tfinal` is the time to stop the simulation."
   ]
  },
  {
   "cell_type": "code",
   "execution_count": 34,
   "id": "32d9ad9f",
   "metadata": {
    "slideshow": {
     "slide_type": "subslide"
    }
   },
   "outputs": [
    {
     "name": "stdout",
     "output_type": "stream",
     "text": [
      "\n",
      "G =\n",
      " \n",
      "         1\n",
      "  ----------------\n",
      "  1300 s^2 + 100 s\n",
      " \n",
      "Continuous-time transfer function.\n"
     ]
    },
    {
     "data": {
      "image/png": "[encoded data removed]",
      "text/plain": [
       "<IPython.core.display.Image object>"
      ]
     },
     "metadata": {},
     "output_type": "display_data"
    }
   ],
   "source": [
    "% parameters\n",
    "m = 1300;    % kg\n",
    "k = 100;     % N.s/m\n",
    "Tfinal = 30; % seconds\n",
    "% transfer function\n",
    "num = 1;\n",
    "den = [m, k, 0];\n",
    "G = tf(num,den);\n",
    "% step response\n",
    "step(G, Tfinal),ylabel('x(t) [metres]'),grid"
   ]
  },
  {
   "cell_type": "markdown",
   "id": "e20e8a6e",
   "metadata": {
    "slideshow": {
     "slide_type": "notes"
    }
   },
   "source": [
    "###  Reflect \n",
    "\n",
    "![reflect](images/reflect.png)\n",
    "\n",
    "* How does the step response compare to your prediction?\n",
    "* What physical action does the initial transient behavior reflect?\n",
    "* What does the long-term behavior of the step response reflect?"
   ]
  },
  {
   "cell_type": "markdown",
   "id": "9b0fb8bf",
   "metadata": {
    "slideshow": {
     "slide_type": "subslide"
    }
   },
   "source": [
    "### Exercise 5\n",
    "\n",
    "Consider the same simple vehicle with a mass of 1300 kg and a frictional constant of proportionality of $k = 100$ N.s/m. This time, however, analyze the vehicle's velocity  $v(t)$ instead of its position $x(t)$. Recall that the velocity transfer function is\n",
    "    \n",
    "$$H(s) = \\frac{1}{ms + k}$$\n",
    "\n",
    "Compute the step response of the velocity transfer function and use it to determine the vehicle's maximum velocity undergoing a unit step forcing."
   ]
  },
  {
   "cell_type": "code",
   "execution_count": 38,
   "id": "767fa3b0",
   "metadata": {
    "slideshow": {
     "slide_type": "subslide"
    }
   },
   "outputs": [
    {
     "name": "stdout",
     "output_type": "stream",
     "text": [
      "Tfinal =\n",
      "   100\n",
      "\n",
      "G =\n",
      " \n",
      "       1\n",
      "  ------------\n",
      "  1300 s + 100\n",
      " \n",
      "Continuous-time transfer function.\n"
     ]
    },
    {
     "data": {
      "image/png": "[encoded data removed]",
      "text/plain": [
       "<IPython.core.display.Image object>"
      ]
     },
     "metadata": {},
     "output_type": "display_data"
    }
   ],
   "source": [
    "Tfinal = 100\n",
    "% Velocity transfer function\n",
    "num = 1;\n",
    "den = [m k];\n",
    "G = tf(num,den);\n",
    "% step response\n",
    "step(G, Tfinal),ylabel('v(t) [metres/s]'),grid"
   ]
  },
  {
   "cell_type": "markdown",
   "id": "0a77c211",
   "metadata": {
    "slideshow": {
     "slide_type": "subslide"
    }
   },
   "source": [
    "### Reflection\n",
    "\n",
    "![reflect](images/reflect.png)\n",
    "\n",
    "* As you probably noticed, the vehicle's maximum speed under the unit step forcing is only 0.01 m/s, which is about 0.022 mph. That happens because the unit step only applies a traction force of 1 N, which is not nearly enough for a 1300 kg vehicle. \n",
    "* To create a more realistic response, you can add gain to the system by multiplying the transfer function by a constant and then recomputing the step response. What value of the gain constant will produce a maximum speed of 50 m/s (or 112 mph)?\n",
    "* Compute the step response of H*gain in the space below, where gain is the gain constant that will produce a maximum velocity of 50m/s. \n",
    "* How long does it take for the vehicle to accelerate from 0 to 60 mph (0 to 26.8m/s)?"
   ]
  },
  {
   "cell_type": "markdown",
   "id": "78288790",
   "metadata": {
    "slideshow": {
     "slide_type": "subslide"
    }
   },
   "source": [
    "The extra gain needed to reach 50 m/s would be $50/0.01 = 5000$."
   ]
  },
  {
   "cell_type": "code",
   "execution_count": 40,
   "id": "c1482a5d",
   "metadata": {
    "slideshow": {
     "slide_type": "subslide"
    }
   },
   "outputs": [
    {
     "data": {
      "image/png": "[encoded data removed]",
      "text/plain": [
       "<IPython.core.display.Image object>"
      ]
     },
     "metadata": {},
     "output_type": "display_data"
    }
   ],
   "source": [
    "gain = 50/0.01;\n",
    "% new step response\n",
    "step(gain*G, Tfinal),ylabel('v(t) [metres/s]'),grid"
   ]
  },
  {
   "cell_type": "markdown",
   "id": "d56720b1",
   "metadata": {
    "slideshow": {
     "slide_type": "subslide"
    }
   },
   "source": [
    " In this case an acceleration from 0-60 mph is achieved in about 10 seconds."
   ]
  },
  {
   "cell_type": "markdown",
   "id": "8045b704",
   "metadata": {
    "slideshow": {
     "slide_type": "slide"
    }
   },
   "source": [
    "## Analytic computation of the impulse and step responses\n",
    "\n",
    "At this point, you be wondering: \"how are the impulse and step responses calculated?\""
   ]
  },
  {
   "cell_type": "markdown",
   "id": "bf852202",
   "metadata": {
    "slideshow": {
     "slide_type": "subslide"
    }
   },
   "source": [
    "In MATLAB, they are numerically estimated."
   ]
  },
  {
   "cell_type": "markdown",
   "id": "ad7a72de",
   "metadata": {
    "slideshow": {
     "slide_type": "fragment"
    }
   },
   "source": [
    "In many common cases, it is also possible to derive the response analytically."
   ]
  },
  {
   "cell_type": "markdown",
   "id": "10063b7b",
   "metadata": {
    "slideshow": {
     "slide_type": "notes"
    }
   },
   "source": [
    "While in practice solving for the analytic response is typically unnecessary, it is a valuable exercise to develop further intuition."
   ]
  },
  {
   "cell_type": "markdown",
   "id": "14302ae1",
   "metadata": {
    "slideshow": {
     "slide_type": "subslide"
    }
   },
   "source": [
    "To analytically solve for the impulse or step response:\n",
    "1. take the Laplace transform of the input function\n",
    "2. solve for $X(s)$ \n",
    "3. back-transform $X(s)$ to obtain the time-domain response $x(t)$"
   ]
  },
  {
   "cell_type": "markdown",
   "id": "b3a9d378",
   "metadata": {
    "slideshow": {
     "slide_type": "subslide"
    }
   },
   "source": [
    "If you don't want to perform Step 1 by hand, you can simply use a table or the `laplace` function. You can complete Step 3 using a transform table or the [`ilaplace`](https://www.mathworks.com/help/symbolic/ilaplace.html) function from the Symbolic Math Toolbox."
   ]
  },
  {
   "cell_type": "markdown",
   "id": "215e6c33",
   "metadata": {
    "slideshow": {
     "slide_type": "subslide"
    }
   },
   "source": [
    "### Example 4"
   ]
  },
  {
   "cell_type": "markdown",
   "id": "5b94dd01",
   "metadata": {
    "slideshow": {
     "slide_type": "fragment"
    }
   },
   "source": [
    "#### 4(a) \n",
    "Compute the analytic impulse response for the simple vehicle model using its position transfer function."
   ]
  },
  {
   "cell_type": "markdown",
   "id": "ba674988",
   "metadata": {
    "slideshow": {
     "slide_type": "fragment"
    }
   },
   "source": [
    "#### 4(b) \n",
    "Set $m = 1300$ and $k = 100$. Then plot the analytic impulse result and compare it to the solution found using the `impulse` function."
   ]
  },
  {
   "cell_type": "markdown",
   "id": "16c6c178",
   "metadata": {
    "slideshow": {
     "slide_type": "subslide"
    }
   },
   "source": [
    "### Solution to Example 4"
   ]
  },
  {
   "cell_type": "markdown",
   "id": "9d6affad",
   "metadata": {
    "slideshow": {
     "slide_type": "subslide"
    }
   },
   "source": [
    "#### Solution to Example 4(a) \n",
    "\n",
    "Recall that the position transfer function for the simple vehicle model was:\n",
    "    \n",
    "$$G(s) = \\frac{X(s)}{U(s)} = \\frac{1}{ms^2 + ks}$$"
   ]
  },
  {
   "cell_type": "markdown",
   "id": "a371e14f",
   "metadata": {
    "slideshow": {
     "slide_type": "fragment"
    }
   },
   "source": [
    "Start by computing the Laplace transform of the input forcing function $\\delta(t)$:\n",
    "    \n",
    "$$U(s) = \\int_{0}^\\infty \\delta(t) e^{-st} dt = e^{-st}|_{t = 0} = 1$$"
   ]
  },
  {
   "cell_type": "markdown",
   "id": "023212d4",
   "metadata": {
    "slideshow": {
     "slide_type": "skip"
    }
   },
   "source": [
    "This implies that\n",
    "    \n",
    "$$X(s)= \\frac{1}{ms^2 + ks}$$"
   ]
  },
  {
   "cell_type": "markdown",
   "id": "5b2f20df",
   "metadata": {
    "slideshow": {
     "slide_type": "subslide"
    }
   },
   "source": [
    "At this point, you can refer to a table or use the `ilaplace` function to evaluate the inverse Laplace transform."
   ]
  },
  {
   "cell_type": "code",
   "execution_count": 30,
   "id": "fc623300",
   "metadata": {
    "slideshow": {
     "slide_type": "subslide"
    }
   },
   "outputs": [
    {
     "name": "stdout",
     "output_type": "stream",
     "text": [
      "X =\n",
      "1/(m*s^2 + k*s)\n",
      "x =\n",
      "1/k - exp(-(k*t)/m)/k\n"
     ]
    }
   ],
   "source": [
    "syms m k positive\n",
    "syms s x\n",
    "X = 1/(m*s^2 + k*s)\n",
    "x = ilaplace(X)"
   ]
  },
  {
   "cell_type": "markdown",
   "id": "2a9c3da8",
   "metadata": {
    "slideshow": {
     "slide_type": "subslide"
    }
   },
   "source": [
    "#### Solution to Example 4(b) \n",
    "\n",
    "First define the transfer function using `tf` and then compute the impulse response."
   ]
  },
  {
   "cell_type": "code",
   "execution_count": 31,
   "id": "9856bc03",
   "metadata": {
    "slideshow": {
     "slide_type": "subslide"
    }
   },
   "outputs": [],
   "source": [
    "m = 1300;\n",
    "k = 100;\n",
    "Xs = tf([0 0 1],[m k 0]);\n",
    "[x,t] = impulse(Xs);"
   ]
  },
  {
   "cell_type": "markdown",
   "id": "765866d4",
   "metadata": {
    "slideshow": {
     "slide_type": "subslide"
    }
   },
   "source": [
    "Now compute the analytic solution on the same interval and plot the comparison."
   ]
  },
  {
   "cell_type": "code",
   "execution_count": 32,
   "id": "753659e1",
   "metadata": {
    "slideshow": {
     "slide_type": "subslide"
    }
   },
   "outputs": [
    {
     "data": {
      "image/png": "[encoded data removed]",
      "text/plain": [
       "<IPython.core.display.Image object>"
      ]
     },
     "metadata": {},
     "output_type": "display_data"
    }
   ],
   "source": [
    "xAnalytic = 1/k - exp(-k*t/m)/k;\n",
    "plot(t,x,t,xAnalytic,'--')\n",
    "grid\n",
    "legend(\"result of impulse\", \"analytic\")\n",
    "xlabel(\"t [s]\")\n",
    "ylabel(\"x [m]\")\n",
    "title(\"Step response\")"
   ]
  },
  {
   "cell_type": "markdown",
   "id": "9b3c362d",
   "metadata": {
    "slideshow": {
     "slide_type": "subslide"
    }
   },
   "source": [
    "(hw2-exercise-1)=\n",
    "### Homework Exercise 1\n",
    "\n",
    "Complete this exercise for homework using the MATLAB LiveScript `TransferFunctionBasics.mlx` from the curriculum module [Transfer Function Analysis of Dynamic Systems](https://github.com/MathWorks-Teaching-Resources/Transfer-Function-Analysis-of-Dynamic-Systems)."
   ]
  },
  {
   "cell_type": "markdown",
   "id": "2dd15dc4",
   "metadata": {
    "slideshow": {
     "slide_type": "subslide"
    }
   },
   "source": [
    "#### Homework 1(a)\n",
    "\n",
    "Compute the analytic **step** response for the vehicle position transfer function. Recall that the position transfer function for the simple vehicle model was:\n",
    "    \n",
    "$$G(s) = \\frac{X(s)}{U(s)} = \\frac{1}{ms^2 + ks}$$\n",
    "    \n",
    "Store the output in symbolic variable `x` using the pre-defined symbolic variables."
   ]
  },
  {
   "cell_type": "markdown",
   "id": "92261724",
   "metadata": {
    "slideshow": {
     "slide_type": "subslide"
    }
   },
   "source": [
    "#### Homework 1(b) \n",
    "\n",
    "Set $m = 1300$ and $k = 100$. Then plot the analytic step result you computed in (a). Also, plot the step response calculated using the `step` function."
   ]
  },
  {
   "cell_type": "code",
   "execution_count": 41,
   "id": "86e91e85",
   "metadata": {
    "slideshow": {
     "slide_type": "subslide"
    }
   },
   "outputs": [],
   "source": [
    "% This computes the step response \n",
    "m = 1300;\n",
    "k = 100;\n",
    "Xs = tf([0 0 1],[m k 0]);\n",
    "[x,t] = step(Xs,20);"
   ]
  },
  {
   "cell_type": "markdown",
   "id": "2a2a75e9",
   "metadata": {
    "slideshow": {
     "slide_type": "subslide"
    }
   },
   "source": [
    "Evaluate your analytic solution here in terms of the array `t` using the constant values of `k` and `m`. Plot the result together with the output of the step function."
   ]
  },
  {
   "cell_type": "code",
   "execution_count": null,
   "id": "7db0b230",
   "metadata": {
    "slideshow": {
     "slide_type": "subslide"
    }
   },
   "outputs": [],
   "source": [
    "% Create your plot here"
   ]
  },
  {
   "cell_type": "markdown",
   "id": "01ff9528",
   "metadata": {
    "slideshow": {
     "slide_type": "slide"
    }
   },
   "source": [
    "## Forced response\n",
    "\n",
    "It is also possible to compute the response of a system to an arbitrary input function . \n",
    "        \n",
    "![Forced response of a system](images/forced_response.png)\n",
    "Response of a system to a square wave.\n",
    "\n",
    "Analytically, this can be accomplished by computing $U(s)$ and subsequently finding the inverse Laplace transform of $X(s)$. In cases where the analytic expression does not exist, you can estimate the response numerically using the [`lsim`](https://www.mathworks.com/help/control/ref/lti.lsim.html) function."
   ]
  },
  {
   "cell_type": "markdown",
   "id": "c7a3708c",
   "metadata": {
    "slideshow": {
     "slide_type": "subslide"
    }
   },
   "source": [
    "(hw2-activity-1)=\n",
    "### Homework Activity\n",
    "\n",
    "![activity](images/activity.png)\n",
    "\n",
    "As this activity contains interactive elements, you should complete it in the MATLAB LiveScript `TransferFunctionBasics.mlx`. Here we present one example plot and have documented the activity so you can do for homework."
   ]
  },
  {
   "cell_type": "markdown",
   "id": "515f42ef",
   "metadata": {
    "slideshow": {
     "slide_type": "subslide"
    }
   },
   "source": [
    "In this activity, you will analyze the response of the mass-spring-damper system\n",
    "\n",
    "$$G(s) = \\frac{X(s)}{U(s)} = \\frac{1}{m s^2 + cs + k}$$\n",
    "\n",
    "The mass-spring-damper is assumed to start at rest and is driven by an input function $u(t)$."
   ]
  },
  {
   "cell_type": "markdown",
   "id": "18aab1f2",
   "metadata": {
    "slideshow": {
     "slide_type": "subslide"
    }
   },
   "source": [
    "#### Example response"
   ]
  },
  {
   "cell_type": "code",
   "execution_count": 33,
   "id": "9a068226",
   "metadata": {
    "slideshow": {
     "slide_type": "subslide"
    }
   },
   "outputs": [
    {
     "data": {
      "image/png": "[encoded data removed]",
      "text/plain": [
       "<IPython.core.display.Image object>"
      ]
     },
     "metadata": {},
     "output_type": "display_data"
    }
   ],
   "source": [
    "m = 1;\n",
    "c = 0.1;\n",
    "k = 1;\n",
    "freq = 0.25; % Frequency in Hz.\n",
    "tfinal = 30; % Simulation duration. \n",
    "t = linspace(0,tfinal,500);\n",
    "u = sin(2*pi*freq*t).^2;\n",
    "\n",
    "% Compute and plot the response\n",
    "G = tf([0 0 1],[m c k]); % The transfer function\n",
    "[x,t] = lsim(G,u,t); % Simulate the response using lsim\n",
    "plot(t,x)"
   ]
  },
  {
   "cell_type": "markdown",
   "id": "f436d63d",
   "metadata": {
    "slideshow": {
     "slide_type": "slide"
    }
   },
   "source": [
    "#### Part 1. Familiarize yourself with the activity.\n",
    "\n",
    "1. Adjust the input function u using the dropdown and observe the responses.\n",
    "2. Adjust the mass-spring-damper parameters and the input frequency to observe the changes to the response.\n",
    "3. Check the \"animate\" box to show an animation of the mass-spring-damper. You can turn this on or off during the remainder of the activity as you prefer.\n",
    "\n",
    "#### Part 2. Find the resonant frequency.\n",
    "\n",
    "1. It is a well-known phenomenon that systems will become unstable if they are driven at their resonant frequency. Try extending the simulation time by increasing tfinal. Is the system being driven at the resonant frequency?\n",
    "2. You should notice that the transient response is characterized by two frequencies: the driving frequency and the mass-spring-damper's natural frequency. Is the natural frequency of the oscillator larger or smaller than the driving (input) frequency?\n",
    "3. Adjust the input frequency so that it matches the natural frequency of the mass-spring-damper. Do you observe resonant oscillations?\n",
    "4. Set the damping to zero. If you are at (or very close to) the resonant frequency, you should observe that the response will grow without bound.\n",
    "5. Try driving the oscillator with a different input function. Does the function choice affect the resonant oscillations?"
   ]
  },
  {
   "cell_type": "markdown",
   "id": "851a11eb",
   "metadata": {
    "slideshow": {
     "slide_type": "subslide"
    }
   },
   "source": [
    "(hw2-exercise-2)=\n",
    "### Homework Exercise 2\n",
    "\n",
    "![exercise](images/write.png)\n",
    "\n",
    "In this exercise, you will compute the analytic response of the mass-spring-damper to a sine wave input function and compare the result to the numerical values computed by `lsim`. For this exercise, assume the mass-spring-damper parameters are $m = 1$, $c = 0$, and $k = 1$. The transfer function is therefore\n",
    "        \n",
    "$$G(s) = \\frac{X(s)}{U(s)} = \\frac{1}{s^2 + 1}$$\n",
    "\n",
    "You can perform your analytic computations by hand or in MATLAB using the Symbolic Math Toolbox. When using symbolic math, make sure to declare your symbolic variables before using them. For example:\n",
    "\n",
    "```matlab\n",
    "syms f real   % Real symbolic variable f\n",
    "syms t s      % Symbolic variables t and s\n",
    "```"
   ]
  },
  {
   "cell_type": "markdown",
   "id": "bd9bb358",
   "metadata": {
    "slideshow": {
     "slide_type": "subslide"
    }
   },
   "source": [
    "Complete the exercise in the MATLAB LiveScript `TransferFunctionBasics.mlx`."
   ]
  },
  {
   "cell_type": "markdown",
   "id": "ead92b7e",
   "metadata": {
    "slideshow": {
     "slide_type": "subslide"
    }
   },
   "source": [
    "#### Homework Exercise 2(a) \n",
    "\n",
    "Compute the Laplace transform of the input function:\n",
    "\n",
    "$$u(t) = \\sin(2\\pi f t)$$\n",
    "\n",
    "where $f$ is a constant (the frequency in Hz)."
   ]
  },
  {
   "cell_type": "code",
   "execution_count": 34,
   "id": "90acbd80",
   "metadata": {
    "slideshow": {
     "slide_type": "notes"
    }
   },
   "outputs": [],
   "source": [
    "% Write your code here"
   ]
  },
  {
   "cell_type": "markdown",
   "id": "1bbbd6f1",
   "metadata": {
    "slideshow": {
     "slide_type": "subslide"
    }
   },
   "source": [
    "#### Homework Exercise 2(b)  \n",
    "\n",
    "Find the expression for the response in the Laplace domain: $X(s)$."
   ]
  },
  {
   "cell_type": "code",
   "execution_count": 35,
   "id": "351750e9",
   "metadata": {
    "slideshow": {
     "slide_type": "notes"
    }
   },
   "outputs": [],
   "source": [
    "% Write your code here"
   ]
  },
  {
   "cell_type": "markdown",
   "id": "d7b275cf",
   "metadata": {
    "slideshow": {
     "slide_type": "subslide"
    }
   },
   "source": [
    "#### Homework Exercise 2(c) \n",
    "\n",
    "Compute the inverse Laplace transform of $X(s)$ to identify the time-domain response $x(t)$."
   ]
  },
  {
   "cell_type": "code",
   "execution_count": 36,
   "id": "aaa8f0ea",
   "metadata": {
    "slideshow": {
     "slide_type": "notes"
    }
   },
   "outputs": [],
   "source": [
    "% Write your code here"
   ]
  },
  {
   "cell_type": "markdown",
   "id": "bab778ee",
   "metadata": {
    "slideshow": {
     "slide_type": "subslide"
    }
   },
   "source": [
    "#### Homework Exercise 2(d) \n",
    "\n",
    "Evaluate the analytic response for $f = 0.16$ on the interval $[0, 50]$ and plot it."
   ]
  },
  {
   "cell_type": "markdown",
   "id": "f9222c3f",
   "metadata": {
    "slideshow": {
     "slide_type": "notes"
    }
   },
   "source": [
    "**Hint**: If you computed  symbolically in MATLAB, you can convert it to a function handle using [`matlabFunction`](https://www.mathworks.com/help/symbolic/matlabfunction.html) and evaluate that instead of writing out the expression yourself. For example:\n",
    "\n",
    "```matlab\n",
    "xfunc = matlabFunction(x)    % Create a function handle for a symbolic expression x\n",
    "xeval = xfunc(freq,t);       % Evaluate the function handle based on its input arguments\n",
    "```"
   ]
  },
  {
   "cell_type": "code",
   "execution_count": 37,
   "id": "37611f2a",
   "metadata": {
    "slideshow": {
     "slide_type": "notes"
    }
   },
   "outputs": [],
   "source": [
    "% Write your code here"
   ]
  },
  {
   "cell_type": "markdown",
   "id": "822c15cb",
   "metadata": {
    "slideshow": {
     "slide_type": "subslide"
    }
   },
   "source": [
    "(e) Use the [`lsim`](https://www.mathworks.com/help/control/ref/lti.lsim.html) function to compute the same response and plot it together with the analytic response."
   ]
  },
  {
   "cell_type": "code",
   "execution_count": 38,
   "id": "4cabf216",
   "metadata": {
    "slideshow": {
     "slide_type": "notes"
    }
   },
   "outputs": [],
   "source": [
    "% Write your code here"
   ]
  },
  {
   "cell_type": "markdown",
   "id": "a2d6dc41",
   "metadata": {
    "slideshow": {
     "slide_type": "subslide"
    }
   },
   "source": [
    "(homework2)=\n",
    "## Homework 2: Transfer Function Basics\n",
    "\n",
    "1. Register with the MathWorks (if you haven't already) using your Swansea University email and install your own copy of the curriculum module [Transfer Function Analysis of Dynamic Systems](https://github.com/MathWorks-Teaching-Resources/Transfer-Function-Analysis-of-Dynamic-Systems) into the online MATLAB version[^installation].\n",
    "2. Open the `TransferFunctionBasics.mlx` activity.\n",
    "3. Complete the Exercises and Activities and add your own notes to the LiveScript file in response to the Reflection prompts given above. \n",
    "\n",
    "* {ref}`hw2-exercise-1`\n",
    "* {ref}`hw2-activity-1`\n",
    "* {ref}`hw2-exercise-2`"
   ]
  },
  {
   "cell_type": "markdown",
   "id": "b4c46855",
   "metadata": {
    "slideshow": {
     "slide_type": "slide"
    }
   },
   "source": [
    "## Further exploration\n",
    "\n",
    "![explore](images/navigation.png)\n",
    "\n",
    "* You can find more information about using transfer functions in MATLAB[^eg243] in the video: [Transfer Functions in MATLAB](https://uk.mathworks.com/videos/transfer-functions-in-matlab-100912.html).\n",
    "* Want to learn more about mass-spring-damper systems? Check out the [Mass-Spring-Damper Systems courseware](https://uk.mathworks.com/matlabcentral/fileexchange/94585-mass-spring-damper-systems?s_tid=FX_rc2_behav) module.\n",
    "* Learn more about responses in the [MATLAB Tech Talk: Control Systems in Practice, Part 9: The Step Response](https://uk.mathworks.com/videos/control-systems-in-practice-part-9-the-step-response-1593067191882.html)[^eg243].\n",
    "Want a little more of the theory? Check out Brian Douglas' video: [Control Systems Lectures - Transfer Functions](https://www.youtube.com/watch?v=RJleGwXorUk&ab_channel=BrianDouglas)[^eg243]."
   ]
  },
  {
   "cell_type": "markdown",
   "id": "e3a66e66",
   "metadata": {
    "slideshow": {
     "slide_type": "notes"
    }
   },
   "source": [
    "## Footnotes\n",
    "\n",
    "[^refer_to_livescript]: The MATLAB live script `TransferFunctionBasics.mlx` has sliders to make the interactive adjustment of the parameters `m`, `c` and `k` possible.\n",
    "\n",
    "[^eg243]: These resources are useful for those of you also studying control systems this semester.\n",
    "\n",
    "[^solutions]: MATLAB solutions to selected exercises are provided in the online notes."
   ]
  }
 ],
 "metadata": {
  "celltoolbar": "Slideshow",
  "jupytext": {
   "formats": "ipynb,md:myst"
  },
  "kernelspec": {
   "display_name": "Matlab",
   "language": "matlab",
   "name": "matlab"
  },
  "language_info": {
   "codemirror_mode": "octave",
   "file_extension": ".m",
   "help_links": [
    {
     "text": "MetaKernel Magics",
     "url": "https://metakernel.readthedocs.io/en/latest/source/README.html"
    }
   ],
   "mimetype": "text/x-octave",
   "name": "matlab",
   "version": "0.17.1"
  }
 },
 "nbformat": 4,
 "nbformat_minor": 5
}
