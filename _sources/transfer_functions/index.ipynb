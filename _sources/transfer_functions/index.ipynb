{
 "cells": [
  {
   "cell_type": "markdown",
   "id": "60db2faa",
   "metadata": {},
   "source": [
    "(unit2)=\n",
    "# Unit 2: Transfer Function Analysis of Dynamic Systems\n",
    "\n",
    "This unit has been adapted from the MATLAB curriculum module [Transfer Function Analysis of Dynamic Systems](https://uk.mathworks.com/matlabcentral/fileexchange/94635-transfer-function-analysis-of-dynamic-systems?s_tid=srchtitle) ({cite}`allie24`).\n",
    "\n",
    "Additional background material is available in Units [3](https://cpjobling.github.io/eg-150-textbook/lti_systems/index.html#) and [4](https://cpjobling.github.io/eg-150-textbook/laplace_transform/index.html) of the lecture notes for [EG-150 Signals and Systems](https://cpjobling.github.io/eg-150-textbook/) ({cite}`jobling-eg-150`)\n",
    "\n",
    "You can run the original MATLAB LiveScripts by visiting [Transfer Function Analysis of Dynamic Systems](https://uk.mathworks.com/matlabcentral/fileexchange/94635-transfer-function-analysis-of-dynamic-systems?s_tid=srchtitle) and following the link to **Open in MATLAB Online**.\n",
    "\n",
    "This will install a project called `Repositories/Transfer-Function-Analysis-of-Dynamic-Systems` on your MATLAB Drive. If you have the *MATLAB Connector* installed (see instructions on [Canvas](https://canvas.swansea.ac.uk/courses/53137/pages/prepare-the-matlab-curriculum-module-used-in-these-labs?module_item_id=2512408)) the project will be automatically synced to your desktop.\n",
    "\n",
    "Run the project by finding and opening the file `TransferFunctions.prj`.\n",
    "\n",
    "The notes and the lab that follow are based on this project and some of the exercises, activities and homework problems need it to be available.\n",
    "\n",
    "* {ref}`tf_concepts`\n",
    "* {ref}`tf_basics`\n",
    "* {ref}`pz_analysis`\n",
    "* [Lab 2: Frequency Domain Analysis](https://canvas.swansea.ac.uk/courses/53137/modules/397871)"
   ]
  }
 ],
 "metadata": {
  "jupytext": {
   "cell_metadata_filter": "-all",
   "notebook_metadata_filter": "-all"
  },
  "kernelspec": {
   "display_name": "Python 3 (ipykernel)",
   "language": "python",
   "name": "python3"
  },
  "language_info": {
   "codemirror_mode": {
    "name": "ipython",
    "version": 3
   },
   "file_extension": ".py",
   "mimetype": "text/x-python",
   "name": "python",
   "nbconvert_exporter": "python",
   "pygments_lexer": "ipython3",
   "version": "3.12.8"
  }
 },
 "nbformat": 4,
 "nbformat_minor": 5
}
