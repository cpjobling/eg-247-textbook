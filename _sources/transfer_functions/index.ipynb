{
 "cells": [
  {
   "cell_type": "markdown",
   "id": "60db2faa",
   "metadata": {},
   "source": [
    "# Unit 3: Laplace Transforms and their Applications\n",
    "\n",
    "## About the Laplace Transformation\n",
    "\n",
    "The Laplace Transformation (named after [Pierre-Simon Laplace](https://en.wikipedia.org/wiki/Pierre-Simon_Laplace)) is a useful mathematical tool that is used in many branches of engineering including signals and systems theory, control theory, communications, mechanical engineering, etc. \n",
    "\n",
    "Its principle benefits are: \n",
    "\n",
    "* it enables us to represent differential equations that model the behaviour of systems in the time domain as polynomials in $s$ which facilitates their solution\n",
    "\n",
    "* it converts time convolution (which is how we determine the time-response of a system to a given signal) into a simple multiplication in the $s$ domain\n",
    "\n",
    "* it allows us to model linear time-invariant (LTI) system components using transfer functions and systems by block diagrams\n",
    "\n",
    "* block diagram analysis allows us to readily compute system responses to complex signals.\n",
    "\n",
    "The only downside is that time $t$ is a real value whereas the Laplace transformation operator $s$ is a complex exponential $s = \\sigma + j\\omega$.\n",
    "\n",
    "In this section of the course we will cover:\n",
    "\n",
    "* [Unit 3.1 The Laplace Transformation](https://cpjobling.github.io/eg-247-textbook/laplace_transform/1/laplace.html)\n",
    "* [Unit 3.2 The Inverse Laplace Transform](https://cpjobling.github.io/eg-247-textbook/laplace_transform/2/inverse_laplace.html)\n",
    "* [Unit 3.3 Using Laplace Transforms for Circuit Analysis](https://cpjobling.github.io/eg-247-textbook/laplace_transform/3/circuit_analysis.html)\n",
    "* [Unit 3.4 Transfer Functions](https://cpjobling.github.io/eg-247-textbook/laplace_transform/4/transfer_functions.html)\n",
    "* [Unit 3.5 Impulse Response and Convolution](https://cpjobling.github.io/eg-247-textbook/laplace_transform/5/convolution.html)\n",
    "\n",
    "## Colophon\n",
    "\n",
    "* The source code for this page is [laplace_transform/index.md](https://github.com/cpjobling/eg-247-textbook/blob/master/laplace_transform/index.md).\n",
    "\n",
    "* You can view the notes for this presentation as a webpage ([HTML](https://cpjobling.github.io/eg-247-textbook/laplace_transform/index.html)). \n",
    "\n",
    "* This page is downloadable as a [PDF](https://cpjobling.github.io/eg-247-textbook/laplace_transform/laplace_transform.pdf) file. \n"
   ]
  }
 ],
 "metadata": {
  "jupytext": {
   "cell_metadata_filter": "-all",
   "notebook_metadata_filter": "-all"
  },
  "kernelspec": {
   "display_name": "Python 3 (ipykernel)",
   "language": "python",
   "name": "python3"
  },
  "language_info": {
   "codemirror_mode": {
    "name": "ipython",
    "version": 3
   },
   "file_extension": ".py",
   "mimetype": "text/x-python",
   "name": "python",
   "nbconvert_exporter": "python",
   "pygments_lexer": "ipython3",
   "version": "3.9.13"
  }
 },
 "nbformat": 4,
 "nbformat_minor": 5
}
