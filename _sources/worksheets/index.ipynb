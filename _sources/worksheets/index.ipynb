{
 "cells": [
  {
   "cell_type": "markdown",
   "id": "3cb34a19",
   "metadata": {},
   "source": [
    "# Worksheets\n",
    "\n",
    "This section links to the PDF versions of the Worksheets used in Class. Versions of these files are embedded in the OneNote class notebook for this module and are in a form that you can annotate in class.\n",
    "\n",
    "I am providing PDF versions, should you prefer to work with paper or another note-taking application.\n",
    "\n",
    "This is an index to the files arranged by module week.\n",
    "\n",
    "## Week 1\n",
    "\n",
    "* [Worksheet 1](../introduction/worksheet1) for [Chapter 1: Introduction](../introduction/index) [[PDF](https://cpjobling.github.io/eg-247-textbook/worksheets/worksheet1.pdf)].\n",
    "\n",
    "## Week 3\n",
    "\n",
    "* {ref}`ws2` for {ref}`trig_fseries` [[PDF](https://cpjobling.github.io/eg-247-textbook/worksheets/worksheet2.pdf)]\n",
    "* {ref}`ws3` for {ref}`exp_fs1` [[PDF](https://cpjobling.github.io/eg-247-textbook/worksheets/worksheet3.pdf)]\n",
    "\n",
    "## Week 4\n",
    "\n",
    "* {ref}`ws4` for {ref}`exp_fs2` [[PDF](https://cpjobling.github.io/eg-247-textbook/worksheets/worksheet4.pdf)]\n",
    "* {ref}`ws5` for {ref}`exp_fs3` [[PDF](https://cpjobling.github.io/eg-247-textbook/worksheets/worksheet5.pdf)]\n",
    "\n",
    "## Week 5\n",
    "\n",
    "* {ref}`ws6` for {ref}`ft1` [[PDF](https://cpjobling.github.io/eg-247-textbook/worksheets/worksheet6.pdf)]\n",
    "* {ref}`ws7` for {ref}`ft2` for [[PDF](https://cpjobling.github.io/eg-247-textbook/worksheets/worksheet7.pdf)]\n",
    "\n",
    "\n",
    "## Week 6\n",
    "\n",
    "* {ref}`ws8` for {ref}`ft3` [[PDF](https://cpjobling.github.io/eg-247-textbook/worksheets/worksheet8.pdf)]\n",
    "* {ref}`ws9` for {ref}`ft4` [[PDF](https://cpjobling.github.io/eg-247-textbook/worksheets/worksheet9.pdf)]\n",
    "\n",
    "## Week 7\n",
    "\n",
    "No worksheets this week.\n",
    "\n",
    "## Week 8\n",
    "\n",
    "* {ref}`ws10` for {ref}`unit5.3` [[PDF](https://cpjobling.github.io/eg-247-textbook/worksheets/worksheet10.pdf)]\n",
    "* {ref}`ws11` for {ref}`unit5.4` [[PDF](https://cpjobling.github.io/eg-247-textbook/worksheets/worksheet11.pdf)]\n",
    "\n",
    "\n",
    "## Week 9\n",
    "\n",
    "* [Worksheet 19](../dft/2/worksheet19) for [Chapter 7.2: The Fast Fourier Transform](../dft/2/fft) [[PDF](https://cpjobling.github.io/eg-247-textbook/worksheets/worksheet19.pdf)]\n",
    "\n",
    "## Week 10"
   ]
  }
 ],
 "metadata": {
  "jupytext": {
   "cell_metadata_filter": "-all",
   "notebook_metadata_filter": "-all"
  },
  "kernelspec": {
   "display_name": "Python 3 (ipykernel)",
   "language": "python",
   "name": "python3"
  },
  "language_info": {
   "codemirror_mode": {
    "name": "ipython",
    "version": 3
   },
   "file_extension": ".py",
   "mimetype": "text/x-python",
   "name": "python",
   "nbconvert_exporter": "python",
   "pygments_lexer": "ipython3",
   "version": "3.11.6"
  }
 },
 "nbformat": 4,
 "nbformat_minor": 5
}
