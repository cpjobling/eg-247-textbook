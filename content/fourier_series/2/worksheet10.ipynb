{
 "cells": [
  {
   "cell_type": "markdown",
   "metadata": {
    "slideshow": {
     "slide_type": "slide"
    }
   },
   "source": [
    "# Worksheet 10\n",
    "\n",
    "## To accompany Chapter 4.2 Exponential Fourier Series"
   ]
  },
  {
   "cell_type": "markdown",
   "metadata": {
    "slideshow": {
     "slide_type": "subslide"
    }
   },
   "source": [
    "## Colophon\n",
    "\n",
    "This worksheet can be downloaded as a [PDF file](https://cpjobling.github.io/eg-247-textbook/worksheets/worksheet10.pdf). We will step through this worksheet in class. \n",
    "\n",
    "An annotatable copy of the notes for this presentation will be distributed before the second class meeting as **Worksheet 10** in the **Week 5: Classroom Activities** section of the Canvas site. I will also distribute a copy to your personal **Worksheets** section of the **OneNote Class Notebook** so that you can add your own notes using OneNote. \n",
    "\n",
    "\n",
    "You are expected to have at least watched the video presentation of [Chapter 4.2](https://cpjobling.github.io/eg-247-textbook/fourier_series/2/exp_fs1) of the [notes](https://cpjobling.github.io/eg-247-textbook) before coming to class. If you haven't watch it afterwards!\n",
    "\n",
    "\n",
    "After class, the lecture recording and the annotated version of the worksheets will be made available through Canvas."
   ]
  },
  {
   "cell_type": "markdown",
   "metadata": {
    "slideshow": {
     "slide_type": "slide"
    }
   },
   "source": [
    "## Agenda\n",
    "\n",
    "* Exponents and Euler's Equation\n",
    "* The Exponential Fourier series\n",
    "* Symmetry in Exponential Fourier Series\n",
    "* Example"
   ]
  },
  {
   "cell_type": "markdown",
   "metadata": {
    "slideshow": {
     "slide_type": "slide"
    }
   },
   "source": [
    "## The Exponential Function $e^{at}$\n",
    "\n",
    "* You should already be familiar with $e^{at}$ because it appears in the solution of differential equations. \n",
    "* It is also a function that appears in the definition of the Laplace and Inverse Laplace Transform.\n",
    "* It pops up again and again in tables and properies of the Laplace Transform. "
   ]
  },
  {
   "cell_type": "markdown",
   "metadata": {
    "slideshow": {
     "slide_type": "subslide"
    }
   },
   "source": [
    "### Case when a is real.\n",
    "\n",
    "When $a$ is real the function $e^{at}$ will take one of the two forms illustrated below:"
   ]
  },
  {
   "cell_type": "code",
   "execution_count": null,
   "metadata": {
    "scrolled": true,
    "slideshow": {
     "slide_type": "subslide"
    }
   },
   "outputs": [],
   "source": [
    "%% The decaying exponential\n",
    "t=linspace(-1,2,1000);\n",
    "figure\n",
    "plot(t,exp(t),t,exp(0.*t),t,exp(-t))\n",
    "axis([-1,2,-1,8])\n",
    "title('exp(at) -- a real')\n",
    "xlabel('t (s)')\n",
    "ylabel('exp(t) and exp(-t)')\n",
    "legend('exp(t)','exp(0)','exp(-t)')\n",
    "grid\n",
    "hold off"
   ]
  },
  {
   "cell_type": "markdown",
   "metadata": {
    "slideshow": {
     "slide_type": "notes"
    }
   },
   "source": [
    "You can regenerate this image generated with this Matlab script: [expon.m](expon.m)."
   ]
  },
  {
   "cell_type": "markdown",
   "metadata": {
    "slideshow": {
     "slide_type": "subslide"
    }
   },
   "source": [
    "* When $a < 0$ the response is a decaying exponential (red line in plot)\n",
    "* When $a = 0$ $e^{at} = 1$ -- essentially a model of DC\n",
    "* When $a > 0$ the response is an *unbounded* increasing exponential (blue line in plot)"
   ]
  },
  {
   "cell_type": "markdown",
   "metadata": {
    "slideshow": {
     "slide_type": "subslide"
    }
   },
   "source": [
    "### Case when a is imaginary\n",
    "\n",
    "\n",
    "<img src=\"pictures/euler.png\" title=\"exp(j*omega*t) = cos(omega*t) + j*sin(omega*t)\">"
   ]
  },
  {
   "cell_type": "markdown",
   "metadata": {
    "slideshow": {
     "slide_type": "notes"
    }
   },
   "source": [
    "This is the case that helps us simplify the computation of sinusoidal Fourier series.\n",
    "\n",
    "It was [Leonhard Euler](http://en.wikipedia.org/wiki/Leonhard_Euler) who discovered the [formula](http://en.wikipedia.org/wiki/Euler%27s_formula) visualized above.\n"
   ]
  },
  {
   "cell_type": "markdown",
   "metadata": {
    "slideshow": {
     "slide_type": "subslide"
    }
   },
   "source": [
    "#### Some important values of $\\omega t$\n",
    "\n",
    "These are useful when simplifying expressions that result from integrating functions that involve the imaginary exponential\n",
    "\n",
    "Give the following:\n",
    "* $e^{j\\omega t}$ when $\\omega t = 0$\n",
    "* $e^{j\\omega t}$ when $\\omega t = \\pi/2$\n",
    "* $e^{j\\omega t}$ when $\\omega t = \\pi$\n",
    "* $e^{j\\omega t}$ when $\\omega t = 3\\pi/2$\n",
    "* $e^{j\\omega t}$ when $\\omega t = 2\\pi$\n"
   ]
  },
  {
   "cell_type": "markdown",
   "metadata": {
    "slideshow": {
     "slide_type": "notes"
    }
   },
   "source": [
    "<pre style=\"border: 2px solid blue\">\n",
    "\n",
    "\n",
    "\n",
    "\n",
    "\n",
    "\n",
    "\n",
    "\n",
    "\n",
    "\n",
    "\n",
    "\n",
    "\n",
    "\n",
    "\n",
    "</pre>"
   ]
  },
  {
   "cell_type": "markdown",
   "metadata": {
    "slideshow": {
     "slide_type": "subslide"
    }
   },
   "source": [
    "### Case where $a$ is complex\n",
    "\n",
    "We shall not say much about this case except to note that the Laplace transform equation includes such a number. The variable $s$ in the Laplace Transform \n",
    "\n",
    "$$\\int_{0}^{\\infty} f(t)e^{-st} dt$$\n",
    "\n",
    "is a *complex exponential*.\n",
    "\n",
    "The consequences of a complex $s$ have particular significance in the development of system stability theories and in control systems analysis and design. Look out for them in EG-243."
   ]
  },
  {
   "cell_type": "markdown",
   "metadata": {
    "slideshow": {
     "slide_type": "subslide"
    }
   },
   "source": [
    "### Two Other Important Properties\n",
    "\n",
    "By use of trig. identities, it is relatively straight forward to show that:\n",
    "\n",
    "$$\\cos \\omega t = \\frac{e^{j\\omega t} + e^{-j\\omega t}}{2}$$\n",
    "\n",
    "and \n",
    "\n",
    "$$\\sin \\omega t = \\frac{e^{j\\omega t} - e^{-j\\omega t}}{j2}$$"
   ]
  },
  {
   "cell_type": "markdown",
   "metadata": {
    "slideshow": {
     "slide_type": "notes"
    }
   },
   "source": [
    "We can use this result to convert the *Trigonometric Fourier Series* into an *Exponential Fourier Series* which has only one integral term to solve per harmonic."
   ]
  },
  {
   "cell_type": "markdown",
   "metadata": {
    "slideshow": {
     "slide_type": "subslide"
    }
   },
   "source": [
    "## The Exponential Fourier Series\n",
    "\n",
    "$$f(t) = \\cdots + C_{-2}e^{-j2\\Omega_0 t} + C_{-1}e^{-j\\Omega_0 t} + C_0 + C_{1}e^{j\\Omega_0 t} + C_{2}e^{j2\\Omega_0 t} +\\cdots $$\n",
    "\n",
    "or more compactly\n",
    "\n",
    "$$f(t) = \\sum_{k=-n}^{n}C_{k}e^{jk \\Omega_0  t}$$"
   ]
  },
  {
   "cell_type": "markdown",
   "metadata": {
    "slideshow": {
     "slide_type": "notes"
    }
   },
   "source": [
    "**Important**\n",
    "\n",
    "The $C_k$ coefficents, except for $C_0$ are *complex* and appear in conjugate pairs so\n",
    "\n",
    "$$C_{-k} = C_k^*$$"
   ]
  },
  {
   "cell_type": "markdown",
   "metadata": {
    "slideshow": {
     "slide_type": "subslide"
    }
   },
   "source": [
    "### Evaluation of the complex coefficients\n",
    "\n",
    "The coefficients are obtained from the following expressions<sup>*</sup>:\n",
    "\n",
    "$$C_k = \\frac{1}{2\\pi}\\int_{0}^{2\\pi}f(\\Omega_0 t)e^{-jk(\\Omega_0 t)}\\,d(\\Omega_0 t)$$\n",
    "\n",
    "or\n",
    "\n",
    "$$C_k = \\frac{1}{T}\\int_{0}^{T}f(t)e^{-jk\\Omega_0 t}\\,dt$$"
   ]
  },
  {
   "cell_type": "markdown",
   "metadata": {
    "slideshow": {
     "slide_type": "slide"
    }
   },
   "source": [
    "## Symmetry in Exponential Fourier Series\n",
    "\n",
    "Since the coefficients of the Exponential Fourier Series are complex numbers, we can use symmetry to determine the form of the coefficients and thereby simplify the computation of series for wave forms that have symmetry."
   ]
  },
  {
   "cell_type": "markdown",
   "metadata": {
    "slideshow": {
     "slide_type": "subslide"
    }
   },
   "source": [
    "### Even Functions\n",
    "\n",
    "For even functions, all coefficients $C_k$ are real."
   ]
  },
  {
   "cell_type": "markdown",
   "metadata": {
    "slideshow": {
     "slide_type": "subslide"
    }
   },
   "source": [
    "### Odd Functions\n",
    "\n",
    "For odd functions, all coefficients $C_k$ are imaginary.\n",
    "\n",
    "By a similar argument, all odd functions have no cosine terms so the $a_k$ coefficients are 0. Therefore both $C_{-k}$ and $C_k$ are imaginary.\n"
   ]
  },
  {
   "cell_type": "markdown",
   "metadata": {
    "slideshow": {
     "slide_type": "subslide"
    }
   },
   "source": [
    "### Half-wave symmetry\n",
    "\n",
    "If there is *half-wave symmetry*, $C_k = 0$ for $k$ even."
   ]
  },
  {
   "cell_type": "markdown",
   "metadata": {
    "slideshow": {
     "slide_type": "subslide"
    }
   },
   "source": [
    "### No symmetry\n",
    "\n",
    "If there is no symmetry the Exponential Fourier Series of $f(t)$ is complex."
   ]
  },
  {
   "cell_type": "markdown",
   "metadata": {
    "slideshow": {
     "slide_type": "subslide"
    }
   },
   "source": [
    "### Relation of $C_{-k}$ to $C_{k}$\n",
    "\n",
    "$C_{-k} = C_{k}^*$ **always**"
   ]
  },
  {
   "cell_type": "markdown",
   "metadata": {
    "slideshow": {
     "slide_type": "slide"
    }
   },
   "source": [
    "## Example 1\n",
    "\n",
    "Compute the Exponential Fourier Series for the square wave shown below assuming that $\\omega = 1$\n",
    "\n",
    "<img src=\"pictures/sqw.png\"> "
   ]
  },
  {
   "cell_type": "markdown",
   "metadata": {
    "slideshow": {
     "slide_type": "subslide"
    }
   },
   "source": [
    "#### Some questions for you\n",
    "\n",
    "* Square wave is an [**odd/even/neither**] function?\n",
    "* DC component is [**zero/non-zero**]?\n",
    "* Square wave [**has/does not have**] half-wave symmetry?"
   ]
  },
  {
   "cell_type": "markdown",
   "metadata": {
    "slideshow": {
     "slide_type": "subslide"
    }
   },
   "source": [
    "Hence\n",
    "\n",
    "* $C_0 = $[**?**]\n",
    "* Coefficients $C_k$ are [**real/imaginary/complex**]?\n",
    "* Subscripts $k$ are [**odd only/even only/both odd and even**]?\n",
    "* What is the integral that needs to be solved for $C_k$?"
   ]
  },
  {
   "cell_type": "markdown",
   "metadata": {
    "slideshow": {
     "slide_type": "notes"
    }
   },
   "source": [
    "<pre style=\"border: 2px solid blue\">\n",
    "\n",
    "\n",
    "\n",
    "\n",
    "\n",
    "\n",
    "\n",
    "\n",
    "\n",
    "\n",
    "\n",
    "\n",
    "\n",
    "\n",
    "\n",
    "</pre>"
   ]
  },
  {
   "cell_type": "markdown",
   "metadata": {
    "slideshow": {
     "slide_type": "notes"
    }
   },
   "source": [
    "#### Solution\n",
    "\n",
    "$$\\frac{1}{2\\pi}\\left[\\int_{0}^{\\pi} Ae^{-jk(\\Omega_0 t)}\\, d(\\Omega_0 t) + \\int_{\\pi}^{2\\pi} (-A)e^{-jk(\\Omega_0 t)}\\, d(\\Omega_0 t)\\right] = \\frac{1}{2\\pi}\\left[\\left.\\frac{A}{-jk}e^{-jk(\\Omega_0 t)}\\right|_0^\\pi+\\left.\\frac{-A}{-jk}e^{-jk(\\Omega_0 t)}\\right|_\\pi^{2\\pi}\\right]$$\n",
    "\n",
    "$$ = \\frac{1}{2\\pi}\\left[\\frac{A}{-jk}\\left(e^{-jk\\pi} - 1\\right)+\\frac{A}{jk}\\left(e^{-j2k \\pi}-e^{-jk\\pi}\\right)\\right] =\n",
    "\\frac{A}{2j\\pi k}\\left(1 - e^{-jk\\pi}+ e^{-j2k \\pi}-e^{-jk\\pi}\\right)$$\n",
    "\n",
    "$$\\frac{A}{2j\\pi k}\\left(e^{-j2k \\pi} - 2e^{-jk\\pi} -1 \\right) = \\frac{A}{2j\\pi k}\\left(e^{-jk\\pi}-1\\right)^2$$\n",
    "\n",
    "For $n$ odd*, $e^{-jk\\pi} = -1$. Therefore\n",
    "\n",
    "$${C_n \\atop {n=\\mathrm{odd}}} = \\frac{A}{2j\\pi k}\\left(e^{-jk\\pi}-1\\right)^2 = \\frac{A}{2j\\pi k}\\left(-1-1\\right)^2 = \\frac{A}{2j\\pi k}\\left(-2\\right)^2 = \\frac{2A}{j\\pi k}$$"
   ]
  },
  {
   "cell_type": "markdown",
   "metadata": {
    "slideshow": {
     "slide_type": "notes"
    }
   },
   "source": [
    "<sup>*</sup> You may want to verify that $C_0 = 0$ and \n",
    "\n",
    "$${C_n \\atop {n=\\mathrm{even}}} = 0.$$\n"
   ]
  },
  {
   "cell_type": "markdown",
   "metadata": {
    "slideshow": {
     "slide_type": "subslide"
    }
   },
   "source": [
    "## Computing coefficients of Exponential Fourier Series in Matlab "
   ]
  },
  {
   "cell_type": "markdown",
   "metadata": {
    "slideshow": {
     "slide_type": "subslide"
    }
   },
   "source": [
    "### Example 2\n",
    "\n",
    "Verify the result of Example 1 using MATLAB."
   ]
  },
  {
   "cell_type": "markdown",
   "metadata": {
    "slideshow": {
     "slide_type": "notes"
    }
   },
   "source": [
    "### Solution\n",
    "\n",
    "Solution: See [efs_sqw.m](efs_sqw.m). "
   ]
  },
  {
   "cell_type": "markdown",
   "metadata": {
    "slideshow": {
     "slide_type": "subslide"
    }
   },
   "source": [
    "### EFS_SQW\n",
    "Calculates the Exponential Fourier for a Square Wave with Odd Symmetry."
   ]
  },
  {
   "cell_type": "code",
   "execution_count": null,
   "metadata": {
    "slideshow": {
     "slide_type": "subslide"
    }
   },
   "outputs": [],
   "source": [
    "clear all\n",
    "format compact"
   ]
  },
  {
   "cell_type": "markdown",
   "metadata": {
    "slideshow": {
     "slide_type": "subslide"
    }
   },
   "source": [
    "Set up parameters"
   ]
  },
  {
   "cell_type": "code",
   "execution_count": null,
   "metadata": {
    "slideshow": {
     "slide_type": "subslide"
    }
   },
   "outputs": [],
   "source": [
    "syms t A;\n",
    "\n",
    "tau = 1;\n",
    "T0 = 2*pi; % w = 2*pi*f -> t = 2*pi/omega\n",
    "k_vec = [-5:5];"
   ]
  },
  {
   "cell_type": "markdown",
   "metadata": {
    "slideshow": {
     "slide_type": "subslide"
    }
   },
   "source": [
    "Define f(t)\n",
    "\n",
    "**IMPORTANT**: the signal definition must cover [0 to T0]"
   ]
  },
  {
   "cell_type": "code",
   "execution_count": null,
   "metadata": {
    "slideshow": {
     "slide_type": "subslide"
    }
   },
   "outputs": [],
   "source": [
    "xt = A*(heaviside(t)-heaviside(t-T0/2)) - A*(heaviside(t-T0/2)-heaviside(t-T0));"
   ]
  },
  {
   "cell_type": "markdown",
   "metadata": {
    "slideshow": {
     "slide_type": "subslide"
    }
   },
   "source": [
    "Compute EFS"
   ]
  },
  {
   "cell_type": "code",
   "execution_count": null,
   "metadata": {
    "slideshow": {
     "slide_type": "subslide"
    }
   },
   "outputs": [],
   "source": [
    "[X, w] = FourierSeries(xt, T0, k_vec)"
   ]
  },
  {
   "cell_type": "markdown",
   "metadata": {
    "slideshow": {
     "slide_type": "subslide"
    }
   },
   "source": [
    "Plot the numerical results from Matlab calculation.\n",
    "\n",
    "Convert symbolic to numeric result"
   ]
  },
  {
   "cell_type": "code",
   "execution_count": null,
   "metadata": {
    "slideshow": {
     "slide_type": "subslide"
    }
   },
   "outputs": [],
   "source": [
    "Xw = subs(X,A,1);"
   ]
  },
  {
   "cell_type": "markdown",
   "metadata": {
    "slideshow": {
     "slide_type": "subslide"
    }
   },
   "source": [
    "Plot"
   ]
  },
  {
   "cell_type": "code",
   "execution_count": null,
   "metadata": {
    "slideshow": {
     "slide_type": "subslide"
    }
   },
   "outputs": [],
   "source": [
    "subplot(211)\n",
    "stem(w,abs(Xw), 'o-');\n",
    "title('Exponential Fourier Series for Square Waveform with Odd Symmetry')\n",
    "xlabel('\\Omega_0 (rad/sec)');\n",
    "ylabel('|c_k|');\n",
    "subplot(212)\n",
    "stem(w,angle(Xw), 'o-');\n",
    "xlabel('\\Omega_0 (rad/sec)'); \n",
    "ylabel('\\angle c_k [radians]');"
   ]
  },
  {
   "cell_type": "markdown",
   "metadata": {},
   "source": [
    "## Computing Trig. Fourier Series from Exp. Fourier Series\n",
    "\n",
    "Refer to the [notes](exp_fs1)."
   ]
  },
  {
   "cell_type": "markdown",
   "metadata": {
    "slideshow": {
     "slide_type": "slide"
    }
   },
   "source": [
    "## Summary\n",
    "\n",
    "* Exponents and Euler's Equation\n",
    "* The exponential Fourier series\n",
    "* Symmetry in Exponential Fourier Series\n",
    "* Example"
   ]
  },
  {
   "cell_type": "markdown",
   "metadata": {
    "slideshow": {
     "slide_type": "notes"
    }
   },
   "source": [
    "## Answers to in-class problems"
   ]
  },
  {
   "cell_type": "markdown",
   "metadata": {
    "slideshow": {
     "slide_type": "notes"
    }
   },
   "source": [
    "### Some important values of $\\omega t$ - Solution\n",
    "\n",
    "* When $\\omega t = 0$: $e^{j\\omega t} = e^{j0} = 1$\n",
    "* When $\\omega t = \\pi/2$: $e^{j\\omega t} = e^{j\\pi/2} = j$\n",
    "* When $\\omega t = \\pi$: $e^{j\\omega t} = e^{j\\pi} = -1$\n",
    "* When $\\omega t = 3\\pi/2$: $e^{j\\omega t} = e^{j3\\pi/2} = -j$\n",
    "* When $\\omega t = 2\\pi$: $e^{j\\omega t} = e^{j2\\pi} e^{j0}= 1$\n",
    "\n",
    "It is also worth being aware that $n\\omega t$, when $n$ is an integer, produces rotations that often map back to the simpler cases given above. For example see $e^{j2\\pi}$ above.\n"
   ]
  },
  {
   "cell_type": "markdown",
   "metadata": {
    "slideshow": {
     "slide_type": "notes"
    }
   },
   "source": [
    "### Some answers for you\n",
    "\n",
    "* Square wave is an **odd** function!\n",
    "* DC component is **zero**!\n",
    "* Square wave **has** half-wave symmetry!\n",
    "\n",
    "Hence\n",
    "\n",
    "* $C_0 = 0$\n",
    "* Coefficients $C_k$ are **imaginary**!\n",
    "* Subscripts $k$ are **odd only**!\n",
    "* What is the integral that needs to be solved for $C_k$?\n",
    "\n",
    "$$C_k = \\frac{1}{2\\pi}\\int_{0}^{2\\pi} f(\\Omega_0 t)e^{-jk(\\Omega_0 t)}\\, d(\\Omega_0 t) = \\frac{1}{2\\pi}\\left[\\int_{0}^{\\pi} Ae^{-jk(\\Omega_0 t)}\\, d(\\Omega_0 t) + \\int_{\\pi}^{2\\pi} (-A)e^{-jk(\\Omega_0 t)}\\, d(\\Omega_0 t)\\right]$$"
   ]
  }
 ],
 "metadata": {
  "anaconda-cloud": {},
  "celltoolbar": "Slideshow",
  "kernelspec": {
   "display_name": "Matlab",
   "language": "matlab",
   "name": "matlab"
  },
  "language_info": {
   "codemirror_mode": "octave",
   "file_extension": ".m",
   "help_links": [
    {
     "text": "MetaKernel Magics",
     "url": "https://metakernel.readthedocs.io/en/latest/source/README.html"
    }
   ],
   "mimetype": "text/x-octave",
   "name": "matlab",
   "version": "0.16.7"
  }
 },
 "nbformat": 4,
 "nbformat_minor": 1
}
