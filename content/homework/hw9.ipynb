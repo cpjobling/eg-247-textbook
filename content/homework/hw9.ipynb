{
 "cells": [
  {
   "cell_type": "markdown",
   "metadata": {},
   "source": [
    "# Homework 9\n",
    "\n",
    "## Inverse Z-Transform and Models of Discrete-Time Systems\n",
    "\n",
    "### The Inverse Z-Transform\n",
    "\n",
    "Attempt the end of the chapter exercises 4-7 ([Section 9.10](https://ebookcentral.proquest.com/lib/swansea-ebooks/reader.action?docID=3384197&ppg=377)) from {% cite karris %}.\n",
    "\n",
    "### Models of Discrete-Time Systems\n",
    "\n",
    "You should be able to tackle the remaining end of chapter exercises 8-11 ([Section 9.10](https://ebookcentral.proquest.com/lib/swansea-ebooks/reader.action?docID=3384197&ppg=377)) from {% cite karris %}. \n",
    "\n",
    "### Solutions\n",
    "\n",
    "Don't look at the answers in [section 9.11](https://ebookcentral.proquest.com/lib/swansea-ebooks/reader.action?docID=3384197&ppg=389) of {% cite karris %} until you have attempted the problems.\n",
    "\n",
    "\n",
    "## Reference\n",
    "\n",
    "{% bibliography -cited %}"
   ]
  }
 ],
 "metadata": {
  "kernelspec": {
   "display_name": "Matlab",
   "language": "matlab",
   "name": "matlab"
  },
  "language_info": {
   "codemirror_mode": "octave",
   "file_extension": ".m",
   "help_links": [
    {
     "text": "MetaKernel Magics",
     "url": "https://metakernel.readthedocs.io/en/latest/source/README.html"
    }
   ],
   "mimetype": "text/x-octave",
   "name": "matlab",
   "version": "0.16.7"
  }
 },
 "nbformat": 4,
 "nbformat_minor": 4
}
