{
 "cells": [
  {
   "cell_type": "markdown",
   "metadata": {},
   "source": [
    "# Lab 7: Filters"
   ]
  },
  {
   "cell_type": "markdown",
   "metadata": {},
   "source": [
    "## Preamble\n",
    "\n",
    "### Other formats\n",
    "\n",
    "This document is available in [HTML](https://cpjobling.github.io/eg-247-textbook/labs/lab07/index) format for online viewing and as [PDF](https://cpjobling.github.io/eg-247-textbook/labs/lab07/lab07.pdf) for printing.\n",
    "\n",
    "### Acknowledgements\n",
    "\n",
    "This lab is based on [Filter Design Using Matlab Demo by David Dorran](http://dadorran.wordpress.com/2013/10/18/filter-design-using-matlab-demo/).\n",
    "\n",
    "There is a [YouTube video](http://www.youtube.com/watch?v=vfH5r4cKukg&amp;list=PLJ8LTUMGG9U4vAGind2_Bh4TUfgg1y0F4&amp;feature=share&amp;index=2) that illustrates what we are going to be using."
   ]
  },
  {
   "cell_type": "markdown",
   "metadata": {},
   "source": [
    "## Aims\n",
    "\n",
    "This optional lab exercise demonstrates the design and simulation of digital filters.\n",
    "I is not assessed, but you may find it useful preparation for the project."
   ]
  },
  {
   "cell_type": "markdown",
   "metadata": {},
   "source": [
    "## Setup\n",
    "\n",
    "### Before you start\n",
    "\n",
    "If you haven't already, create a suitable folder structure on your file-store for your labs. \n",
    "\n",
    "I suggest\n",
    "\n",
    "```\n",
    "P:\\workspace\n",
    "    signals-and-systems-lab\n",
    "\t    lab01\n",
    "\t\tlab02\n",
    "\t\tlab03\n",
    "        lab04\n",
    "        lab05\n",
    "        lab06\n",
    "        lab07\n",
    "        :\n",
    "```\n",
    "\n",
    "Use folder `p:\\workspace\\signals-and-systems-lab\\lab07` for this lab.\n",
    "\n",
    "### Preparation\n",
    "\n",
    "Download the example filter design script <a href=\"https://github.com/cpjobling/eg-247-textbook/blob/master/portfolio/lab07/filters.m\" title=\"filters.m\" target=\"_blank\">filters.m</a> from this repository. Save it to your folder for `lab07`.\n",
    "\n",
    "Open the script as a MATLAB Live Script and execute the embedded code step-by step and read and understand the commentary."
   ]
  },
  {
   "cell_type": "markdown",
   "metadata": {},
   "source": [
    "## Lab Exercise\n",
    "\n",
    "### Lab Exercise 15: Interactive Filter Design\n",
    "\n",
    "MATLAB provides a filter design tool with a graphical user interface called `fdatool`.\n",
    "\n",
    "We want you to use this tool to design and test a low-pass, band-pass and high-pass Butterworth filter with sampling frequency equal to 44.1 kHz. The filter should implement the first, second and third stage in a three-stage graphic equalizer with a low pass filter with a cut-off frequency of 31.5 Hz, a pass-band filter for the middle filter ($f_1$  to $f_2$) of about one octave and centre-frequency $f_c$ equal to 63 hz and a high-pass filter with pass-frequency of 125 Hz.  \n",
    "\n",
    "The aim of this exercise is to determine the order of the Butterworth filters to be used in your design and the Q factor needed (where  $Q = f_c / (f_2 – f_1)$) for the pass-band filters required to implement the mid-range of your 10-stage graphic equalizer.  \n",
    "\n",
    "The centre pass-band filter should be designed so that f<sub>2</sub> & $f_1$ satisfies $f_c = \\sqrt{(f_1f_2)}$.  Your goal is to find the $\\Delta f$ value for this filter that achieves a flat frequency response when it is combined with equal weight to the low-pass and high-pass filters.  \n",
    "\n",
    "## What to hand in (EG-3068 Only)\n",
    "\n",
    "### Claim\n",
    "\n",
    "Up to 3 marks each can be claimed for the design evidenced by a suitable Live Script and filter design file. You should use the `filterDesigner` from the [DSP System Toolbox](https://uk.mathworks.com/products/dsp-system.html?s_tid=srchtitle) and save your designs to disk.\n",
    "\n",
    "Up to 2 marks can be claimed if you have a Simulink model showing the filters set with a gain of 10, 0 and -10 dB respectively. You can start with the model used in the [Project Descriptor](../project/) ([Three_Band_EQ_Model.slx](../project/Three_Band_EQ_Model.slx)). \n",
    "\n",
    "You may find it useful to use the **Filter Realization Wizard** block (part of the Simulink Collection from the DSP System Toolbox) which combines the `fiterDesigner` with a block that can be used in simulation.\n",
    "\n",
    "### Submission\n",
    "\n",
    "You should submit the following to the **Lab 07: Filters** Assignment on Canvas.\n",
    "\n",
    "1. Complete the labwork self-assessment claim form and declaration.\n",
    "1. Evidence of your filter design as a m-file or MLX file. \n",
    "1. Simulink model of your three part filter with gain settings -10dB, 0dB and 10dB.\n",
    "1. The audio file that you used for testing.\n",
    "\n",
    "### Deadline\n",
    "\n",
    "The deadline for claims and submission is **4:00 pm, 3rd April**"
   ]
  }
 ],
 "metadata": {
  "kernelspec": {
   "display_name": "Matlab",
   "language": "matlab",
   "name": "matlab"
  },
  "language_info": {
   "codemirror_mode": "octave",
   "file_extension": ".m",
   "help_links": [
    {
     "text": "MetaKernel Magics",
     "url": "https://metakernel.readthedocs.io/en/latest/source/README.html"
    }
   ],
   "mimetype": "text/x-octave",
   "name": "matlab",
   "version": "0.16.7"
  }
 },
 "nbformat": 4,
 "nbformat_minor": 2
}
