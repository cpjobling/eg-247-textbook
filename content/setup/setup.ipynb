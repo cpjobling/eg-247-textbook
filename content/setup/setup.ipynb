{
 "cells": [
  {
   "cell_type": "markdown",
   "metadata": {},
   "source": [
    "I have used Jupyter notebooks for **EG-247 Signals and Systems** for a number of reasons:\n",
    "\n",
    "1. I can easily produce maths-rich textbook quality notes using the Markdown system provided for documentation blocks.\n",
    "1. I can generate a slide-show from my notes but also print them as PDF files for your convenience.\n",
    "1. I can interweave live coding examples with my notes and execute and change these examples in a live classroom.\n",
    "1. ... more interestingly, you can take the notebooks and experiment with the computing examples yourself!\n",
    "\n",
    "However, to fully access all the examples that have been provided as Jupyter notebooks for EG-247 you will need to install both MATLAB (I used MATLAB 2019a) and Python 3 (I used Anaconda 3) and this is something of a technical challenge.\n",
    "\n",
    "The installation of Anaconda 3 (which includes Jupyter Notebook) and MATLAB is [described elsewhere](https://conda.io/docs/user-guide/install/index.html#) but must be done before you can open and execute this notebook. \n",
    "\n",
    "Assuming that you *have* installed Anaconda 3, you can [download](https://github.com/cpjobling/EG-247-Resources/blob/master/setup/setup.ipynb) and open this notebook using the command:\n",
    "\n",
    "```\n",
    "jupyter notebook setup.ibynb\n",
    "```\n",
    "\n",
    "Alternatively, you can use the **Anaconda Navigator** to launch a Jupyter Notebook and then navigate to the `setup.ipynb` file.\n",
    "\n",
    "**Note** for Windows users, you need to start jupyter as an Administrator.  \n",
    "\n",
    "## Advanced users\n",
    "\n",
    "You may prefer to use the python environments and the command line, in which case, refer to [Advanced Settings](advanced-setup.md)."
   ]
  },
  {
   "cell_type": "markdown",
   "metadata": {},
   "source": [
    "## About this notebook\n",
    "\n",
    "A Jupyter notebook is a combination of documentation and code cells. It is both a sequence of commands (in this case written in Python) that can be executed in sequence and a record of that execution. This notebook documents the process of installing the MATLAB kernel for Jupyter. \n",
    "\n",
    "You should be able to run each code cell in turn without errors. To execute code in a Jupyter notebook, select a code cell and press the run button or type `Shift-Enter`. The next cell will automatically be selected.\n",
    "\n",
    "Alternatively you can simply run the whole notebook by selecting the `Cell->Run All` command from the menu."
   ]
  },
  {
   "cell_type": "markdown",
   "metadata": {},
   "source": [
    "## Set up anaconda environment"
   ]
  },
  {
   "cell_type": "markdown",
   "metadata": {},
   "source": [
    "## Test Base Setup\n",
    "\n",
    "The following Python code (adapted from the script [soton-test-python-installation.py](https://fangohr.github.io/blog/code/python/soton-test-python-installation.py) [1]) can be executed to report whether particular python packages are available on the system. \n",
    "\n",
    "First we define some tests."
   ]
  },
  {
   "cell_type": "code",
   "execution_count": 1,
   "metadata": {},
   "outputs": [],
   "source": [
    "import math\n",
    "import os\n",
    "import sys\n",
    "\n",
    "\n",
    "def test_is_python_35():\n",
    "    major = sys.version_info.major\n",
    "    minor = sys.version_info.minor\n",
    "    if major == 3:\n",
    "        pass \n",
    "    else:\n",
    "        print(\"You are running Python {}, but we need Python {}.\".format(major, 3))\n",
    "        print(\"Download and install the Anaconda distribution for Python 3.\")\n",
    "        print(\"Stopping here.\")\n",
    "\n",
    "        # Let's stop here\n",
    "        sys.exit(1)\n",
    "        return None\n",
    "        # assert major == 3, \"Stopping here - we need Python 3.\"\n",
    "\n",
    "    if minor >= 5:\n",
    "        print(\"Testing Python version-> py{}.{} OK\".format(major, minor))\n",
    "    else:\n",
    "        print(\"Warning: You should be running Python 3.5 or newer, \" +\n",
    "              \"you have Python {}.{}.\".format(major, minor))\n",
    "        \n",
    "        \n",
    "def test_numpy():\n",
    "    try:\n",
    "        import numpy as np\n",
    "    except ImportError:\n",
    "        print(\"Could not import numpy -> numpy failed\")\n",
    "        return None\n",
    "    # Simple test\n",
    "    a = np.arange(0, 100, 1)\n",
    "    assert np.sum(a) == sum(a)\n",
    "    print(\"Testing numpy...      -> numpy OK\")\n",
    "\n",
    "\n",
    "def test_scipy():\n",
    "    try:\n",
    "        import scipy\n",
    "    except ImportError:\n",
    "        print(\"Could not import 'scipy' -> scipy failed\")\n",
    "        return None\n",
    "    # Simple test\n",
    "    import scipy.integrate\n",
    "    assert abs(scipy.integrate.quad(lambda x: x * x, 0, 6)[0] - 72.0) < 1e-6\n",
    "    print(\"Testing scipy ...     -> scipy OK\")\n",
    "\n",
    "\n",
    "def test_pylab():\n",
    "    \"\"\"Actually testing matplotlib, as pylab is part of matplotlib.\"\"\"\n",
    "    try:\n",
    "        import pylab\n",
    "    except ImportError:\n",
    "            print(\"Could not import 'matplotlib/pylab' -> failed\")\n",
    "            return None\n",
    "    # Creata plot for testing purposes\n",
    "    xvalues = [i * 0.1 for i in range(100)]\n",
    "    yvalues = [math.sin(x) for x in xvalues]\n",
    "    pylab.plot(xvalues, yvalues, \"-o\", label=\"sin(x)\")\n",
    "    pylab.legend()\n",
    "    pylab.xlabel('x')\n",
    "    testfilename='pylab-testfigure.png'\n",
    "\n",
    "    # check that file does not exist yet:\n",
    "    if os.path.exists(testfilename):\n",
    "        print(\"Skipping plotting to file as file {} exists already.\"\\\n",
    "            .format(testfilename))\n",
    "    else:\n",
    "        # Write plot to file\n",
    "        pylab.savefig(testfilename)\n",
    "        # Then check that file exists\n",
    "        assert os.path.exists(testfilename)\n",
    "        print(\"Testing matplotlib... -> pylab OK\")\n",
    "        os.remove(testfilename)\n",
    "\n",
    "\n",
    "def test_sympy():\n",
    "    try:\n",
    "        import sympy\n",
    "    except ImportError:\n",
    "            print(\"Could not import 'sympy' -> fail\")\n",
    "            return None\n",
    "    # simple test\n",
    "    x = sympy.Symbol('x')\n",
    "    my_f = x ** 2\n",
    "    assert sympy.diff(my_f,x) == 2 * x\n",
    "    print(\"Testing sympy         -> sympy OK\")\n",
    "\n",
    "\n",
    "def test_pytest():\n",
    "    try:\n",
    "        import pytest\n",
    "    except ImportError:\n",
    "            print(\"Could not import 'pytest' -> fail\")\n",
    "            return None\n",
    "    print(\"Testing pytest        -> pytest OK\")"
   ]
  },
  {
   "cell_type": "markdown",
   "metadata": {},
   "source": [
    "The we run the tests to test that we have all the packages we need. If we have installed Anaconda 3 correctly, there should be no errors."
   ]
  },
  {
   "cell_type": "code",
   "execution_count": 2,
   "metadata": {},
   "outputs": [
    {
     "name": "stdout",
     "output_type": "stream",
     "text": [
      "Running using Python 3.7.6 (default, Jan  8 2020, 19:59:22) \n",
      "[GCC 7.3.0]\n",
      "Testing Python version-> py3.7 OK\n",
      "Testing numpy...      -> numpy OK\n",
      "Testing scipy ...     -> scipy OK\n",
      "Testing matplotlib... -> pylab OK\n",
      "Testing sympy         -> sympy OK\n",
      "Testing pytest        -> pytest OK\n"
     ]
    },
    {
     "data": {
      "image/png": "[encoded data removed]",
      "text/plain": [
       "<Figure size 432x288 with 1 Axes>"
      ]
     },
     "metadata": {
      "needs_background": "light"
     },
     "output_type": "display_data"
    }
   ],
   "source": [
    "print(\"Running using Python {}\".format(sys.version))\n",
    "test_is_python_35()\n",
    "test_numpy()\n",
    "test_scipy()\n",
    "test_pylab()\n",
    "test_sympy()\n",
    "test_pytest()"
   ]
  },
  {
   "cell_type": "markdown",
   "metadata": {},
   "source": [
    "The remaining installation instructions are adapted from [2]."
   ]
  },
  {
   "cell_type": "markdown",
   "metadata": {},
   "source": [
    "## Python-MATLAB Bridge\n",
    "\n",
    "To install this, we first have to install MATLAB. I'm assuming that this has been done and you have MATLAB 2017b or greater installed.\n",
    "\n",
    "Now we install the Python-MATLAB bridge. \n",
    "\n",
    "Here we've adapted the instructions given in the official Matlab documentation [MATLAB API for Python](https://uk.mathworks.com/help/matlab/matlab-engine-for-python.html).\n",
    "\n",
    "I ran this on my Mac. The equivalent Windows and Linux commands are given in the comments."
   ]
  },
  {
   "cell_type": "code",
   "execution_count": 3,
   "metadata": {},
   "outputs": [],
   "source": [
    "# Mac OS: \n",
    "matlabroot='/Applications/MATLAB_R2019a.app'\n",
    "# Windows\n",
    "# matlabroot='C:\\Program Files\\MATLAB\\R2019a'\n",
    "# Linux: matlabroot='/usr/local/matlab/R2019a'"
   ]
  },
  {
   "cell_type": "code",
   "execution_count": 4,
   "metadata": {},
   "outputs": [
    {
     "name": "stdout",
     "output_type": "stream",
     "text": [
      "[Errno 2] No such file or directory: '/Applications/MATLAB_R2019a.app/extern/engines/python'\n",
      "/mnt/c/Users/Chris/OneDrive - Swansea University/Teaching/Courses/EG-247 Signals and Systems/eg-247-textbook/content/setup\n"
     ]
    }
   ],
   "source": [
    "# Unix\n",
    "%cd {matlabroot}/extern/engines/python\n",
    "# Windows: \n",
    "#%cd {matlabroot}\\extern\\engines\\python"
   ]
  },
  {
   "cell_type": "code",
   "execution_count": null,
   "metadata": {},
   "outputs": [],
   "source": [
    "# Ubuntu running in Windows using WSL\n",
    "matlabroot='/mnt/c/Program\\ Files/MATLAB/R2019a'\n",
    "%cd {matlabroot}/extern/engines/python"
   ]
  },
  {
   "cell_type": "markdown",
   "metadata": {},
   "source": [
    "### Install MATLAB Engine\n",
    "\n",
    "**Notes**\n",
    "\n",
    "* On windows you have to do this step as an admin user\n",
    "  * Open the anaconda prompt as administrator.\n",
    "  * Copy result of previous command\n",
    "  * type `cd` then paste what you've just copied and type `Enter`\n",
    "  * Now copy `python setup.py install`, paste and type `Enter`\n",
    "* If your MATLAB is 2016b, or older, you may need to install an earlier version of Python and repeat the steps above."
   ]
  },
  {
   "cell_type": "code",
   "execution_count": null,
   "metadata": {},
   "outputs": [],
   "source": [
    "python setup.py install"
   ]
  },
  {
   "cell_type": "markdown",
   "metadata": {},
   "source": [
    "## Test Python can now communicate with MATLAB\n",
    "\n",
    "First start a MATLAB session"
   ]
  },
  {
   "cell_type": "code",
   "execution_count": 7,
   "metadata": {},
   "outputs": [
    {
     "ename": "ModuleNotFoundError",
     "evalue": "No module named 'matlab'",
     "output_type": "error",
     "traceback": [
      "\u001b[0;31m---------------------------------------------------------------------------\u001b[0m",
      "\u001b[0;31mModuleNotFoundError\u001b[0m                       Traceback (most recent call last)",
      "\u001b[0;32m<ipython-input-7-9b17cde1df14>\u001b[0m in \u001b[0;36m<module>\u001b[0;34m\u001b[0m\n\u001b[0;32m----> 1\u001b[0;31m \u001b[0;32mimport\u001b[0m \u001b[0mmatlab\u001b[0m\u001b[0;34m.\u001b[0m\u001b[0mengine\u001b[0m\u001b[0;34m\u001b[0m\u001b[0;34m\u001b[0m\u001b[0m\n\u001b[0m\u001b[1;32m      2\u001b[0m \u001b[0meng\u001b[0m \u001b[0;34m=\u001b[0m \u001b[0mmatlab\u001b[0m\u001b[0;34m.\u001b[0m\u001b[0mengine\u001b[0m\u001b[0;34m.\u001b[0m\u001b[0mstart_matlab\u001b[0m\u001b[0;34m(\u001b[0m\u001b[0;34m)\u001b[0m\u001b[0;34m\u001b[0m\u001b[0;34m\u001b[0m\u001b[0m\n",
      "\u001b[0;31mModuleNotFoundError\u001b[0m: No module named 'matlab'"
     ]
    }
   ],
   "source": [
    "import matlab.engine\n",
    "eng = matlab.engine.start_matlab()"
   ]
  },
  {
   "cell_type": "markdown",
   "metadata": {},
   "source": [
    "Then connect to the session"
   ]
  },
  {
   "cell_type": "code",
   "execution_count": null,
   "metadata": {},
   "outputs": [],
   "source": [
    "eng = matlab.engine.connect_matlab()"
   ]
  },
  {
   "cell_type": "markdown",
   "metadata": {},
   "source": [
    "Now compute something. Here's a 10x10 magic square"
   ]
  },
  {
   "cell_type": "code",
   "execution_count": null,
   "metadata": {},
   "outputs": [],
   "source": [
    "m = eng.magic(10);"
   ]
  },
  {
   "cell_type": "code",
   "execution_count": null,
   "metadata": {},
   "outputs": [],
   "source": [
    "print(m)"
   ]
  },
  {
   "cell_type": "markdown",
   "metadata": {},
   "source": [
    "Close the session"
   ]
  },
  {
   "cell_type": "code",
   "execution_count": null,
   "metadata": {},
   "outputs": [],
   "source": [
    "eng.quit()"
   ]
  },
  {
   "cell_type": "markdown",
   "metadata": {},
   "source": [
    "## MATLAB Kernel for Jupyter\n",
    "\n",
    "Finally we install the `matlab_kernel` using the instructions given here: [Calysto/matlab_kernel](https://github.com/Calysto/matlab_kernel/blob/master/README.rst)."
   ]
  },
  {
   "cell_type": "code",
   "execution_count": null,
   "metadata": {},
   "outputs": [],
   "source": [
    "!pip install matlab_kernel"
   ]
  },
  {
   "cell_type": "markdown",
   "metadata": {},
   "source": [
    "To check that the `malab_kernel` is properly installed do the following.\n",
    "\n",
    "1. Save this notebook `File->Save`.\n",
    "1. Select `Kernel->Shutdown` from the notebook menu.\n",
    "1. Close the browser window.\n",
    "1. Restart the Jupiter Notebook, as you did at the start, then return here:\n",
    "\n",
    "```\n",
    "jupyter notebook setup.ipynb --debug\n",
    "\n",
    "```"
   ]
  },
  {
   "cell_type": "markdown",
   "metadata": {},
   "source": [
    "## Test MATLAB Kernel\n",
    "\n",
    "From the `Kernel` menu you should be able to navigate to `Change kernel` and `Matlab` should now be listed (Fig. 1).\n",
    "\n",
    "![Figure 1: The Kernel Menu](fig1.png)\n",
    "Figure 1: The Kernel Menu\n",
    "\n",
    "Go ahead and switch to the MATLAB kernel.\n",
    "\n",
    "If all is well, you should see the Kernel indicator (top right) change to 'Matlab' (Fig. 2)\n",
    "\n",
    "![Figure 2: Matlab kernel indicator](fig2.png)\n",
    "Figure 2: The MATLAB kernel indicator"
   ]
  },
  {
   "cell_type": "markdown",
   "metadata": {},
   "source": [
    "You should now be able to execute the MATLAB `magic(10)` function again and get the result shown:\n",
    "\n",
    "```matlab\n",
    "magic(10)\n",
    "\n",
    "ans =\n",
    "\n",
    "    92    99     1     8    15    67    74    51    58    40\n",
    "    98    80     7    14    16    73    55    57    64    41\n",
    "     4    81    88    20    22    54    56    63    70    47\n",
    "    85    87    19    21     3    60    62    69    71    28\n",
    "    86    93    25     2     9    61    68    75    52    34\n",
    "    17    24    76    83    90    42    49    26    33    65\n",
    "    23     5    82    89    91    48    30    32    39    66\n",
    "    79     6    13    95    97    29    31    38    45    72\n",
    "    10    12    94    96    78    35    37    44    46    53\n",
    "    11    18   100    77    84    36    43    50    27    59\n",
    "\n",
    "```\n",
    "\n",
    "Go ahead and execute the next code cell."
   ]
  },
  {
   "cell_type": "code",
   "execution_count": null,
   "metadata": {
    "scrolled": true
   },
   "outputs": [],
   "source": [
    "magic(10)"
   ]
  },
  {
   "cell_type": "markdown",
   "metadata": {},
   "source": [
    "If you wish to further test the Matlab interface, download this file from the `Calysto/matlab_kernel` repository [matlab_kernel.ipynb](https://github.com/Calysto/matlab_kernel/blob/master/matlab_kernel.ipynb), open it in Jupyter and run the whole notebook.\n",
    "\n",
    "**Note** There is a reported bug ([kernel keeps crashing #101](https://github.com/Calysto/matlab_kernel/issues/101)) with the latest version of `matlab_kernel` (0.15.1) and MATLAB R2017b on a Mac. The kernel crashes randomly. I have experienced this issue myself. The problem is reported to not affect windows but I have not yet independently confirmed this. I will monitor the situation and update this page if a fix is released.\n",
    "\n",
    "If *you* have any problems, send me a message through the Teams page for the EG-247 Course."
   ]
  },
  {
   "cell_type": "markdown",
   "metadata": {},
   "source": [
    "## For More Information on Jupyter\n",
    "\n",
    "To learn more about Jupyter notebooks, the key resource is the [Jupyter Project site](https://jupyter.org) itself. There, under the documentation section, you will find everything you need to fully understand Jupyter. However, it's not arranged in a way that is useful for a beginner! \n",
    "\n",
    "For a quick introduction, I particularly recommend Corey Schafer's YouTube tutorial: https://youtu.be/HW29067qVWk."
   ]
  },
  {
   "cell_type": "code",
   "execution_count": null,
   "metadata": {},
   "outputs": [],
   "source": [
    "%%html\n",
    "<iframe width=\"560\" height=\"315\" src=\"https://www.youtube.com/embed/HW29067qVWk\" frameborder=\"0\" allow=\"accelerometer; autoplay; encrypted-media; gyroscope; picture-in-picture\" allowfullscreen></iframe>"
   ]
  },
  {
   "cell_type": "markdown",
   "metadata": {},
   "source": [
    "## Jupyter Noteboooks versus MATLAB Live Scripts \n",
    "\n",
    "Both Jupyter and MATLAB Live Script trace their origins -- or at least their inspiration -- to the <a href=\"https://en.wikipedia.org/wiki/Wolfram_Mathematica_(software)#The_Notebook_interface\">Mathematica Notebook interface</a>. All allow the mixing of code with output, the running of code in sections, and the ability to add formatted text, images, and equations to tell a story and provide a repeatable record of a computation. \n",
    "\n",
    "The Mathworks claims some [advantages for the MATLAB Live Script interface](https://uk.mathworks.com/matlabcentral/answers/329935-jupyter-notebook-vs-live-scripts#answer_259207) due to its close integration with the MATLAB desktop and the new MATLAB Online product. Other teachers have also advocated the use of Live Script in teaching, e.g. [Teaching with Matlab Live Scripts](http://bastibe.de/2016-06-15-matlab-live-scripts.html). The main issue though is that MATLAB is an expensive, licensed product. It's free to use while you are a student or a teacher at Swansea University. It is extremely expensive once you graduate!\n",
    "\n",
    "For me, the main advantage of Jupyter notebooks is that it is language independent, well supported, open source and free! It also has some features, mentioned at the top of this document, that make it particularly attractive as a support tool for the teaching on this course. \n",
    "\n",
    "That said, we will be using MATLAB throughout this course and MATLAB Live Scripts in the Labs for this module."
   ]
  },
  {
   "cell_type": "markdown",
   "metadata": {},
   "source": [
    "## References\n",
    "\n",
    "1. Fangohr, Prof Hans, *Installation of Python, Spyder, Numpy, Sympy, Scipy, Pytest, Matplotlib via Anaconda*, University of Southampton, 20116. Available from: https://fangohr.github.io/blog/installation-of-python-spyder-numpy-sympy-scipy-pytest-matplotlib-via-anaconda.html.\n",
    "\n",
    "1. Blank, Doug, Silvester, Steven and Lee, Antony, *`Calysto/matlab_kernel` README*, Calysto, 2017. Available from GitHub: https://github.com/Calysto/matlab_kernel/blob/master/README.rst."
   ]
  }
 ],
 "metadata": {
  "kernelspec": {
   "display_name": "Python 3",
   "language": "python",
   "name": "python3"
  },
  "language_info": {
   "codemirror_mode": {
    "name": "ipython",
    "version": 3
   },
   "file_extension": ".py",
   "mimetype": "text/x-python",
   "name": "python",
   "nbconvert_exporter": "python",
   "pygments_lexer": "ipython3",
   "version": "3.7.6"
  }
 },
 "nbformat": 4,
 "nbformat_minor": 2
}
