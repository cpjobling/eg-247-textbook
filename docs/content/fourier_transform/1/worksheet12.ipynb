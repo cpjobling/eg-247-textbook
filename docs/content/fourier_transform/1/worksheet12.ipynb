{
 "cells": [
  {
   "cell_type": "markdown",
   "metadata": {
    "slideshow": {
     "slide_type": "slide"
    }
   },
   "source": [
    "# Worksheet 12\n",
    "\n",
    "## To accompany Chapter 5.1 Defining the Fourier Transform"
   ]
  },
  {
   "cell_type": "markdown",
   "metadata": {
    "slideshow": {
     "slide_type": "slide"
    }
   },
   "source": [
    "We will step through this worksheet in class. \n",
    "\n",
    "You are expected to have at least watched the video presentation of [Chapter 5.1](https://cpjobling.github.io/eg-247-textbook/fourier_transform/1/ft1) of the [notes](https://cpjobling.github.io/eg-247-textbook) before coming to class. If you haven't watch it afterwards!"
   ]
  },
  {
   "cell_type": "markdown",
   "metadata": {
    "slideshow": {
     "slide_type": "slide"
    }
   },
   "source": [
    "##  Fourier Transform as the Limit of a Fourier Series\n",
    "\n",
    "We start by considering the pulse train that we used in the last lecture and demonstrate that the discrete line spectra for the Fourier Series becomes a continuous spectrum as the signal becomes aperiodic."
   ]
  },
  {
   "cell_type": "markdown",
   "metadata": {
    "slideshow": {
     "slide_type": "notes"
    }
   },
   "source": [
    "This analysis is from Boulet pp 142&mdash;144 and 176&mdash;180."
   ]
  },
  {
   "cell_type": "markdown",
   "metadata": {
    "slideshow": {
     "slide_type": "subslide"
    }
   },
   "source": [
    "Let $\\tilde x(t)$ be the Fourier series of the rectangular pulse train shown below:\n",
    "\n",
    "<img src=\"pictures/pulse_train.png\">"
   ]
  },
  {
   "cell_type": "markdown",
   "metadata": {
    "slideshow": {
     "slide_type": "subslide"
    }
   },
   "source": [
    "### Fourier Series\n",
    "\n",
    "In the [previous section](https://cpjobling.github.io/eg-247-textbook/fourier_series/3/exp_fs2) we used\n",
    "\n",
    "$$C_k = \\frac{1}{2\\pi}\\int_{-\\pi/w}^{\\pi/w} Ae^{-jk(\\Omega_0 t)}\\,d(\\Omega_0 t) = \\frac{A}{2\\pi}\\int_{-\\pi/w}^{\\pi/w} e^{-jk(\\Omega_0 t)}\\,d(\\Omega_0 t) $$\n",
    "\n",
    "to compute the line spectra."
   ]
  },
  {
   "cell_type": "markdown",
   "metadata": {
    "slideshow": {
     "slide_type": "subslide"
    }
   },
   "source": [
    "#### From the Time Point of View\n",
    "\n",
    "If we instead take a time point-of-view and let $A = 1$\n",
    "\n",
    "$$C_k = \\frac{1}{T}\\int_{-t_0}^{t_0} e^{-jk\\Omega_0 t}\\,dt.$$\n",
    "\n",
    "Let's complete the analysis in the whiteboard."
   ]
  },
  {
   "cell_type": "markdown",
   "metadata": {
    "slideshow": {
     "slide_type": "notes"
    }
   },
   "source": [
    "<pre style=\"border: 2px solid blue\">\n",
    "\n",
    "\n",
    "\n",
    "\n",
    "\n",
    "\n",
    "\n",
    "\n",
    "\n",
    "\n",
    "\n",
    "\n",
    "\n",
    "\n",
    "\n",
    "\n",
    "\n",
    "\n",
    "\n",
    "\n",
    "\n",
    "\n",
    "\n",
    "\n",
    "\n",
    "\n",
    "\n",
    "\n",
    "\n",
    "\n",
    "</pre>"
   ]
  },
  {
   "cell_type": "markdown",
   "metadata": {
    "slideshow": {
     "slide_type": "subslide"
    }
   },
   "source": [
    "#### The Sinc Function\n",
    "\n",
    "The function, $\\sin(\\pi x)/\\pi x$ crops up again and again in Fourier analysis. The Fourier coefficients $C_k$ are scaled *samples* of the real continuous *normalized sinc* function defined as follows:\n",
    "\n",
    "$$\\operatorname{sinc} u: = \\frac{\\sin \\pi u}{\\pi u},\\;u \\in \\mathbb{R}.$$"
   ]
  },
  {
   "cell_type": "markdown",
   "metadata": {
    "slideshow": {
     "slide_type": "subslide"
    }
   },
   "source": [
    "The function is equal to 1 at $u=0$<sup>1</sup> and has zero crossings at $u=\\pm n,\\; n=1,2,3,\\ldots$ as shown below.\n",
    "\n",
    "#### Plot the sinc function\n",
    " \n",
    "Plots: \n",
    " \n",
    "$$sinc(u) = \\frac{\\sin \\pi u}{\\pi u},\\; u \\in \\mathbb{R}$$"
   ]
  },
  {
   "cell_type": "code",
   "execution_count": 2,
   "metadata": {
    "slideshow": {
     "slide_type": "subslide"
    }
   },
   "outputs": [
    {
     "data": {
      "image/png": "[encoded data removed]",
      "text/plain": [
       "<IPython.core.display.Image object>"
      ]
     },
     "metadata": {},
     "output_type": "display_data"
    }
   ],
   "source": [
    "x = linspace(-5,5,1000);\n",
    "plot(x,sin(pi.*x)./(pi.*x))\n",
    "grid\n",
    "title('Graph of sinc function')\n",
    "ylabel('sinc(u)')\n",
    "xlabel('u')"
   ]
  },
  {
   "cell_type": "markdown",
   "metadata": {
    "slideshow": {
     "slide_type": "subslide"
    }
   },
   "source": [
    "#### Duty cycle\n",
    "\n",
    "* We define the duty cycle $\\eta = 2t_0/T$ of the rectangular pulse train as the fraction of the time the signal is \"on\" (equal to 1) over one period.\n",
    "* The duty cycle is often given as a percentage."
   ]
  },
  {
   "cell_type": "markdown",
   "metadata": {
    "slideshow": {
     "slide_type": "subslide"
    }
   },
   "source": [
    "The spectral coefficients expressed using the normalized sinc function and the duty cycle can be written as\n",
    "\n",
    "$$C_k = \\frac{2t_0}{T}\\frac{\\sin\\left(\\frac{\\pi k2t_0}{T}\\right)}{\\frac{\\pi k2t_0}{T}}=\\frac{2t_0}{T}\\operatorname{sinc}\\left(\\frac{k2t_0}{T}\\right)$$\n",
    "\n",
    "$$C_k = \\eta \\operatorname{sinc}\\left(k\\eta\\right)$$"
   ]
  },
  {
   "cell_type": "markdown",
   "metadata": {
    "slideshow": {
     "slide_type": "subslide"
    }
   },
   "source": [
    "#### Normalize the spectral coefficients\n",
    "\n",
    "Let us normalize the spectral coefficients of $\\tilde x(t)$ by mutiplying them by $T$, and assume $t_0$ is fixed so that the duty cycle $\\eta = 2t_0/T$ will decrease as we increase $T$:\n",
    "\n",
    "$$T C_k = T\\eta \\operatorname{sinc}\\left(k\\eta\\right)=2t_0\\operatorname{sinc}\\left(k\\frac{2t_0}{T}\\right)$$"
   ]
  },
  {
   "cell_type": "markdown",
   "metadata": {
    "slideshow": {
     "slide_type": "subslide"
    }
   },
   "source": [
    "Then the normalized coefficents $T C_k$ of the rectangular wave is a sinc envelope with constant amplitude at the origin equal to $2t_0$, and a zero crossing at fixed frequency $\\pi/t_0$ rad/s, both independent of $T$."
   ]
  },
  {
   "cell_type": "code",
   "execution_count": 3,
   "metadata": {
    "slideshow": {
     "slide_type": "subslide"
    }
   },
   "outputs": [],
   "source": [
    "open duty_cycle"
   ]
  },
  {
   "cell_type": "markdown",
   "metadata": {
    "slideshow": {
     "slide_type": "fragment"
    }
   },
   "source": [
    "**Demo**\n",
    "\n",
    "Run duty_cycle with values of:\n",
    "\n",
    "* 50% ($\\eta = 1/2$)"
   ]
  },
  {
   "cell_type": "markdown",
   "metadata": {
    "slideshow": {
     "slide_type": "fragment"
    }
   },
   "source": [
    "* 25% ($\\eta = ?$)"
   ]
  },
  {
   "cell_type": "markdown",
   "metadata": {
    "slideshow": {
     "slide_type": "fragment"
    }
   },
   "source": [
    "* 12.5% ($\\eta = ?$)"
   ]
  },
  {
   "cell_type": "markdown",
   "metadata": {
    "slideshow": {
     "slide_type": "fragment"
    }
   },
   "source": [
    "* 5% ($\\eta = ?$)"
   ]
  },
  {
   "cell_type": "markdown",
   "metadata": {
    "slideshow": {
     "slide_type": "notes"
    }
   },
   "source": [
    "#### Comments\n",
    "\n",
    "* As the fundamental period increases, we get more spectral lines packed into the lobes of the sinc envelope.\n",
    "* These normalized spectral coefficients turn out to be samples of the continuous sinc function on the spectrum of $\\tilde{x}(t)$\n",
    "\n",
    "* The two spectra are plotted against the frequency variable $k\\omega_0$ with units of rad/s rather than index of harmonic component\n",
    "* The first zeros of each side of the main lobe are at frequencies $\\omega = \\pm \\pi/t_0$ rad/s\n",
    "* The zero-crossing points of sinc envelope are independent of the period T. They only depend on $t_0$."
   ]
  },
  {
   "cell_type": "markdown",
   "metadata": {
    "slideshow": {
     "slide_type": "subslide"
    }
   },
   "source": [
    "#### Intuition leading to the Fourier Transform\n",
    "\n",
    "* An aperiodic signal that has been made periodic by \"repeating\" its graph every $T$ seconds will have a line spectrum that becomes more and more dense as the fundamental period is made longer and longer.\n",
    "* The line spectrum has the same continuous envelope.\n",
    "* As $T$ goes to infinity, the line spectrum will become a continuous function of $\\omega$.\n",
    "* The *envelope* is this function."
   ]
  },
  {
   "cell_type": "markdown",
   "metadata": {
    "slideshow": {
     "slide_type": "slide"
    }
   },
   "source": [
    "### Doing the Maths\n",
    "\n",
    "See the [notes](https://cpjobling.github.io/eg-247-textbook/fourier_transform/1/ft1)."
   ]
  },
  {
   "cell_type": "markdown",
   "metadata": {
    "slideshow": {
     "slide_type": "subslide"
    }
   },
   "source": [
    "**Inverse Fourier Transform**:\n",
    "\n",
    "$$x(t) = \\frac{1}{2\\pi} \\int_{-\\infty}^{\\infty} X(j\\omega)e^{j\\omega t}\\,d\\omega := \\mathcal{F}^{-1} \\left\\{X(j\\omega)\\right\\}$$\n",
    "\n",
    "Similarly, given the expression we have already seen for an arbitrary $x(t)$:"
   ]
  },
  {
   "cell_type": "markdown",
   "metadata": {
    "slideshow": {
     "slide_type": "subslide"
    }
   },
   "source": [
    "**Fourier Transform**:\n",
    "\n",
    "$$X(j\\omega) = \\int_{-\\infty}^{\\infty}x(t)e^{-j\\omega t}\\,dt := \\mathcal{F}\\left\\{x(t)\\right\\}.$$"
   ]
  },
  {
   "cell_type": "markdown",
   "metadata": {
    "slideshow": {
     "slide_type": "subslide"
    }
   },
   "source": [
    "#### Fourier Transform Pair\n",
    "\n",
    "* The two equations on the previous slide are called the *Fourier transform pair*."
   ]
  },
  {
   "cell_type": "markdown",
   "metadata": {
    "slideshow": {
     "slide_type": "slide"
    }
   },
   "source": [
    "## Properties of the Fourier Transform\n",
    "\n",
    "Again, we will provide any properties that you might need in the examination.\n",
    "    \n",
    "You will find a number of these in the accompanying notes."
   ]
  },
  {
   "cell_type": "markdown",
   "metadata": {
    "slideshow": {
     "slide_type": "notes"
    }
   },
   "source": [
    "## Table of Properites of the Fourier Transform\n",
    "\n",
    "As was the case of the Laplace Transform, properties of Fourier transforms are usually summarized in Tables of Fourier Transform properties. For example this one: [Properties of the Fourier Transform (Wikpedia)](http://en.wikipedia.org/wiki/Fourier_transform#Properties_of_the_Fourier_transform) and Table 8.8 in Karris (page 8-17).\n",
    "\n",
    "More detail and some commentry is given in the printable version of these notes.\n",
    "\n",
    "<table>\n",
    "<thead> \n",
    "    <tr><td></td><td><b>Name</b></td><td>$f(t)$</td><td>$F(j\\omega)$</td><td><b>Remarks</b></td></tr>\n",
    "</thead>\n",
    "<tbody>\n",
    "<tr><td>1</td><td>Linearity</td><td>$a_1f_1(t)+a_2f_2(t)+\\cdots+a_nf_n(t)$</td><td>$a_1F_1(j\\omega)+a_2F_2(j\\omega)+\\cdots+a_nF_n(j\\omega)$</td><td>Fourier transform is a linear operator.</td></tr>\n",
    "<tr><td>2</td><td>Symmetry</td><td>$2\\pi f(-j\\omega)$</td><td>$F(t)$</td><td></td></tr>\n",
    "<tr><td>3.</td><td>Time and frequency scaling</td><td>$f(\\alpha t)$</td><td>$$\\frac{1}{|\\alpha|}F\\left(j\\frac{\\omega}{\\alpha}\\right)$$</td><td>time compression is frequency expansion and *vice versa*</td></tr>\n",
    "<tr><td>4.</td><td>Time shifting</td><td>$$f(t-t_0)$$</td><td>$$e^{-j\\omega t_0}F(j\\omega)$$</td><td>A time shift corresponds to a phase shift in frequency domain</td></tr>\n",
    "<tr><td>5.</td><td>Frequency shifting</td><td>$$e^{j\\omega_0 t}f(t)$$</td><td>$$F(j\\omega-j\\omega_0)$$</td><td>Multiplying a signal by a complex exponential results in a frequency shift.</td></tr>\n",
    "<tr><td>6.</td><td>Time differentiation</td><td>$$\\frac{d^n}{dt^n}\\,f(t)$$</td><td>$$(j\\omega)^nF(j\\omega)$$</td><td></td></tr>\n",
    "<tr><td>7.</td><td>Frequency differentiation</td><td>$$(-jt)^n f(t)$$</td><td>$$\\frac{d^n}{d\\omega^n}F(j\\omega)$$</td><td></td></tr>\n",
    "<tr><td>8.</td><td>Time integration</td><td>$$\\int_{-\\infty}^{t}f(\\tau)d\\tau$$</td><td>$$\\frac{F(j\\omega)}{j\\omega}+\\pi F(0)\\delta(\\omega)$$</td><td></td></tr>\n",
    "<tr><td>9.</td><td>Conjugation</td><td>$$f^*(t)$$</td><td>$$F^*(-j\\omega)$$</td><td></td></tr>\n",
    "<tr><td>10.</td><td>Time convolution</td><td>$$f_1(t)*f_2(t)$$</td><td>$$F_1(j\\omega) F_2(j\\omega)$$</td><td>Compare with Laplace Transform</td></tr>\n",
    "<tr><td>11.</td><td>Frequency convolution</td><td>$$f_1(t)f_2(t)$$</td><td>$$\\frac{1}{2\\pi} F_1(j\\omega)*F_2(j\\omega)$$</td><td>This has application to amplitude modulation as shown in Boulet pp 182&mdash;183.</td></tr>\n",
    "<tr><td>12.</td><td>Area under $f(t)$</td><td>$$\\int_{-\\infty}^{\\infty} f(t)\\,dt = F(0)$$</td><td></td><td>Way to calculate DC (or average) value of a signal</td></tr>\n",
    "<tr><td>13.</td><td>Area under $F(j\\omega)$</td><td>$$f(0) = \\frac{1}{2\\pi}\\int_{-\\infty}^{\\infty} F(j\\omega)\\,d\\omega$$</td><td></td><td></td></tr>\n",
    "<tr><td>14.</td><td>Energy-Density Spectrum</td><td>$$E_{[\\omega_1,\\omega_2]}:=\\frac{1}{2\\pi}\\int_{\\omega_1}^{\\omega_2}|F(j\\omega)|^2\\,d\\omega.$$</td><td></td><td></td></tr>\n",
    "<tr><td>15.</td><td>Parseval's theorem</td><td>$$\\int_{-\\infty}^{\\infty}|f(t)|^2\\,dt=\\frac{1}{2\\pi}\\int_{-\\infty}^{\\infty}|F(j\\omega)|^2\\,d\\omega.$$</td><td></td><td>Definition RMS follows from this</td></tr>\n",
    "</tbody>\n",
    "</table>\n",
    "\n",
    "See also: [Wikibooks: Engineering Tables/Fourier Transform Properties](http://en.wikibooks.org/wiki/Engineering_Tables/Fourier_Transform_Properties) and [Fourier Transfom&mdash;WolframMathworld](http://mathworld.wolfram.com/FourierTransform.html) for more complete references.\n"
   ]
  },
  {
   "cell_type": "markdown",
   "metadata": {
    "slideshow": {
     "slide_type": "slide"
    }
   },
   "source": [
    "## Examples\n",
    "\n",
    "1. Amplitude Modulation\n",
    "2. Impulse response\n",
    "3. Energy computation"
   ]
  },
  {
   "cell_type": "markdown",
   "metadata": {
    "slideshow": {
     "slide_type": "subslide"
    }
   },
   "source": [
    "### Example 1: Amplitude Modulation\n",
    "\n",
    "Compute the result of multiplying a signal $f(t)$ by a carrier waveform $\\cos \\omega_c t$.\n",
    "\n",
    "*Hint* use Euler's identity and the frequency shift property"
   ]
  },
  {
   "cell_type": "markdown",
   "metadata": {
    "slideshow": {
     "slide_type": "notes"
    }
   },
   "source": [
    "<pre style=\"border: 2px solid blue\">\n",
    "\n",
    "\n",
    "\n",
    "\n",
    "\n",
    "\n",
    "\n",
    "\n",
    "\n",
    "\n",
    "\n",
    "\n",
    "\n",
    "\n",
    "\n",
    "</pre>"
   ]
  },
  {
   "cell_type": "markdown",
   "metadata": {
    "slideshow": {
     "slide_type": "subslide"
    }
   },
   "source": [
    "### Example 2: Impulse response\n",
    "\n",
    "A system has impulse response $f(t) = e^{-t}u_0(t)$. Compute the frequency sprectrum of this system."
   ]
  },
  {
   "cell_type": "markdown",
   "metadata": {
    "slideshow": {
     "slide_type": "notes"
    }
   },
   "source": [
    "<pre style=\"border: 2px solid blue\">\n",
    "\n",
    "\n",
    "\n",
    "\n",
    "\n",
    "\n",
    "\n",
    "\n",
    "\n",
    "\n",
    "\n",
    "\n",
    "\n",
    "\n",
    "\n",
    "</pre>"
   ]
  },
  {
   "cell_type": "markdown",
   "metadata": {
    "slideshow": {
     "slide_type": "subslide"
    }
   },
   "source": [
    "### Example 3: Energy computation\n",
    "\n",
    "An aperiodic real signal $f(t)$ has Fourier transform $F(j\\omega)$. Compute the energy contained the signal between 5kHz and 10kHz."
   ]
  },
  {
   "cell_type": "markdown",
   "metadata": {
    "slideshow": {
     "slide_type": "notes"
    }
   },
   "source": [
    "<pre style=\"border: 2px solid blue\">\n",
    "\n",
    "\n",
    "\n",
    "\n",
    "\n",
    "\n",
    "\n",
    "\n",
    "\n",
    "\n",
    "\n",
    "\n",
    "\n",
    "\n",
    "\n",
    "</pre>"
   ]
  },
  {
   "cell_type": "markdown",
   "metadata": {
    "slideshow": {
     "slide_type": "slide"
    }
   },
   "source": [
    "## Computing Fourier Transforms in Matlab\n",
    "\n",
    "MATLAB has the built-in **fourier** and **ifourier** functions that can be used to compute the Fourier transform and its inverse. We will explore some of thes in the next lab.\n",
    "\n",
    "For now, here's an example:"
   ]
  },
  {
   "cell_type": "markdown",
   "metadata": {
    "slideshow": {
     "slide_type": "subslide"
    }
   },
   "source": [
    "### Example\n",
    "\n",
    "Use Matlab to confirm the Fourier transform pair:\n",
    "    \n",
    "$$e^{-\\frac{1}{2}t^2}\\Leftrightarrow \\sqrt{2\\pi}e^{-\\frac{1}{2}\\omega^2}$$"
   ]
  },
  {
   "cell_type": "code",
   "execution_count": null,
   "metadata": {
    "slideshow": {
     "slide_type": "subslide"
    }
   },
   "outputs": [],
   "source": [
    "syms t v omega x;\n",
    "ft = exp(-t^2/2);\n",
    "Fw = fourier(ft,omega)"
   ]
  },
  {
   "cell_type": "code",
   "execution_count": null,
   "metadata": {
    "slideshow": {
     "slide_type": "subslide"
    }
   },
   "outputs": [],
   "source": [
    "pretty(Fw)"
   ]
  },
  {
   "cell_type": "markdown",
   "metadata": {
    "slideshow": {
     "slide_type": "subslide"
    }
   },
   "source": [
    "Check by computing the inverse using ifourier"
   ]
  },
  {
   "cell_type": "code",
   "execution_count": null,
   "metadata": {
    "slideshow": {
     "slide_type": "subslide"
    }
   },
   "outputs": [],
   "source": [
    "ft = ifourier(Fw)"
   ]
  }
 ],
 "metadata": {
  "anaconda-cloud": {},
  "celltoolbar": "Slideshow",
  "kernelspec": {
   "display_name": "Matlab",
   "language": "matlab",
   "name": "matlab"
  },
  "language_info": {
   "codemirror_mode": "octave",
   "file_extension": ".m",
   "help_links": [
    {
     "text": "MetaKernel Magics",
     "url": "https://github.com/calysto/metakernel/blob/master/metakernel/magics/README.md"
    }
   ],
   "mimetype": "text/x-octave",
   "name": "matlab",
   "version": "0.16.1"
  }
 },
 "nbformat": 4,
 "nbformat_minor": 1
}
