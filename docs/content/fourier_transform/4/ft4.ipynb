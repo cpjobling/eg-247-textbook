{
 "cells": [
  {
   "cell_type": "markdown",
   "metadata": {
    "slideshow": {
     "slide_type": "slide"
    }
   },
   "source": [
    "# Introduction to Filters"
   ]
  },
  {
   "cell_type": "markdown",
   "metadata": {
    "slideshow": {
     "slide_type": "subslide"
    }
   },
   "source": [
    "## Scope and Background Reading\n",
    "\n",
    "This section is Based on the section **Filtering** from Chapter 5 of [Benoit Boulet, Fundamentals of Signals and Systems](https://ebookcentral.proquest.com/lib/swansea-ebooks/reader.action?ppg=221&docID=3135971&tm=1518715953782) from the **Recommended Reading List**.\n",
    "\n",
    "This material is an introduction to analogue filters. You will find much more in-depth coverage on [Pages 11-1&mdash;11-48 of Karris](https://ebookcentral.proquest.com/lib/swansea-ebooks/reader.action?ppg=429&docID=3384197&tm=1518716026573)."
   ]
  },
  {
   "cell_type": "markdown",
   "metadata": {
    "slideshow": {
     "slide_type": "subslide"
    }
   },
   "source": [
    "## Agenda"
   ]
  },
  {
   "cell_type": "markdown",
   "metadata": {
    "slideshow": {
     "slide_type": "fragment"
    }
   },
   "source": [
    "* Frequency Selective Filters"
   ]
  },
  {
   "cell_type": "markdown",
   "metadata": {
    "slideshow": {
     "slide_type": "fragment"
    }
   },
   "source": [
    "* Ideal low-pass filter"
   ]
  },
  {
   "cell_type": "markdown",
   "metadata": {
    "slideshow": {
     "slide_type": "fragment"
    }
   },
   "source": [
    "* Butterworth low-pass filter\n"
   ]
  },
  {
   "cell_type": "markdown",
   "metadata": {
    "slideshow": {
     "slide_type": "subslide"
    }
   },
   "source": [
    "* High-pass filter"
   ]
  },
  {
   "cell_type": "markdown",
   "metadata": {
    "slideshow": {
     "slide_type": "fragment"
    }
   },
   "source": [
    "* Bandpass filter"
   ]
  },
  {
   "cell_type": "markdown",
   "metadata": {
    "slideshow": {
     "slide_type": "slide"
    }
   },
   "source": [
    "## Introduction\n",
    "\n",
    "* Filter design is an important application of the Fourier transform\n",
    "* Filtering is a rich topic often taught in graduate courses so we give only an introduction.\n",
    "* Our introduction *will* illustrate the usefulness of the frequency domain viewpoint.\n",
    "* We will explore how filters can shape the spectrum of a signal.\n",
    "\n",
    "Other applications of the Fourier transform are sampling theory (introduced next week) and modulation."
   ]
  },
  {
   "cell_type": "markdown",
   "metadata": {
    "slideshow": {
     "slide_type": "slide"
    }
   },
   "source": [
    "## Frequency Selective Filters\n",
    "\n",
    "An ideal frequency-selective filter is a system that let's the frequency components of a signal through undistorted while frequency components at other components are completely cut off."
   ]
  },
  {
   "cell_type": "markdown",
   "metadata": {
    "slideshow": {
     "slide_type": "subslide"
    }
   },
   "source": [
    "* The range of frequencies which are let through belong to the **pass Band**\n",
    "* The range of frequencies which are cut-off by the filter are called the **stopband**\n",
    "* A typical scenario where filtering is needed is when noise $n(t)$ is added to a signal $x(t)$ but that signal has most of its energy outside the bandwidth of a signal."
   ]
  },
  {
   "cell_type": "markdown",
   "metadata": {
    "slideshow": {
     "slide_type": "subslide"
    }
   },
   "source": [
    "### Typical filtering problem\n",
    "\n",
    "<img src=\"pictures/filter1.png\">"
   ]
  },
  {
   "cell_type": "markdown",
   "metadata": {
    "slideshow": {
     "slide_type": "subslide"
    }
   },
   "source": [
    "### Signal\n",
    "\n",
    "<img src=\"pictures/filter2.png\">"
   ]
  },
  {
   "cell_type": "markdown",
   "metadata": {
    "slideshow": {
     "slide_type": "subslide"
    }
   },
   "source": [
    "### Out-of Bandwidth Noise \n",
    "\n",
    "<img src=\"pictures/filter3.png\">"
   ]
  },
  {
   "cell_type": "markdown",
   "metadata": {
    "slideshow": {
     "slide_type": "subslide"
    }
   },
   "source": [
    "### Signal plus Noise\n",
    "\n",
    "<img src=\"pictures/filter4.png\">"
   ]
  },
  {
   "cell_type": "markdown",
   "metadata": {
    "slideshow": {
     "slide_type": "subslide"
    }
   },
   "source": [
    "### Filtering\n",
    "\n",
    "<img src=\"pictures/filter5.png\">"
   ]
  },
  {
   "cell_type": "markdown",
   "metadata": {
    "slideshow": {
     "slide_type": "subslide"
    }
   },
   "source": [
    "### Motivating example\n",
    "\n",
    "See the video and script in the [OneNote Class Room notebook](https://swanseauniversity.sharepoint.com/sites/EG-247SignalsandSystems2017-2108-UsrGrpcopy-UsrGrp/_layouts/OneNote.aspx?id=%2Fsites%2FEG-247SignalsandSystems2017-2108-UsrGrpcopy-UsrGrp%2FSiteAssets%2FEG-247%20Signals%20and%20Systems%202017-2108-UsrGrp%20%5Bcopy%5D-UsrGrp%20Notebook&wd=target%28_Content%20Library%2FClasses%2FWeek%207.one%7C681B0954-AC4E-9646-A567-FF06C3696F07%2FMotivating%20Example%20for%20Introduction%20to%20Filters%7CE5AD343A-E348-0141-8096-60E0CA201E57%2F%29\n",
    ")."
   ]
  },
  {
   "cell_type": "markdown",
   "metadata": {
    "slideshow": {
     "slide_type": "slide"
    }
   },
   "source": [
    "## Ideal Low-Pass Filter\n",
    "\n",
    "An ideal low pass filter cuts-off frequencies higher than its *cut-off frequency*, $\\omega_c$.\n",
    "\n",
    "$$H_{\\rm{lp}}(\\omega ) = \\left\\{ {\\begin{array}{*{20}{c}}\n",
    "{1,}&{|\\omega |{\\kern 1pt} \\, < {\\omega _c}}\\\\\n",
    "{0,}&{|\\omega |{\\kern 1pt} \\, \\ge {\\omega _c}}\n",
    "\\end{array}} \\right.$$"
   ]
  },
  {
   "cell_type": "markdown",
   "metadata": {
    "slideshow": {
     "slide_type": "subslide"
    }
   },
   "source": [
    "### Frequency response\n",
    "\n",
    "<img src=\"pictures/ideal_lpf.png\">"
   ]
  },
  {
   "cell_type": "markdown",
   "metadata": {
    "slideshow": {
     "slide_type": "subslide"
    }
   },
   "source": [
    "### Impulse response\n",
    "\n",
    "$$h_{\\rm{lp}}(t) = \\frac{\\omega _c}{\\pi }{\\mathop{\\rm sinc}\\nolimits} \\left( \\frac{\\omega _c}{\\pi }t \\right)$$"
   ]
  },
  {
   "cell_type": "markdown",
   "metadata": {
    "slideshow": {
     "slide_type": "fragment"
    }
   },
   "source": [
    "<img src=\"pictures/sinc.png\">"
   ]
  },
  {
   "cell_type": "markdown",
   "metadata": {
    "slideshow": {
     "slide_type": "subslide"
    }
   },
   "source": [
    "### Filtering is Convolution\n",
    "\n",
    "The output of an LTI system with impulse response \n",
    "\n",
    "$$h(t) \\Leftrightarrow H(\\omega)$$\n",
    "\n",
    "subject to an input signal\n",
    "\n",
    "$$x(t) \\Leftrightarrow X(\\omega)$$\n",
    "\n",
    "is given by \n",
    "\n",
    "$$y(t) = h(t)*x(t) \\Leftrightarrow Y(\\omega) = H(\\omega)X(\\omega)$$"
   ]
  },
  {
   "cell_type": "markdown",
   "metadata": {
    "slideshow": {
     "slide_type": "subslide"
    }
   },
   "source": [
    "### Issues with the \"ideal\" filter\n",
    "\n",
    "This is the step response:\n",
    "\n",
    "<img src=\"pictures/step_r.png\">\n",
    "\n",
    "(reproduced from Boulet Fig. 5.23 p. 205)\n",
    "\n",
    "Ripples in the impulse resonse would be undesireable, and because the impulse response is non-causal it cannot actually be implemented.\n",
    "\n",
    "\n",
    "\n"
   ]
  },
  {
   "cell_type": "markdown",
   "metadata": {
    "slideshow": {
     "slide_type": "slide"
    }
   },
   "source": [
    "## Butterworth low-pass filter\n",
    "\n",
    "N-th Order Butterworth Filter\n",
    "\n",
    "$$\\left| H_B(\\omega ) \\right| = \\frac{1}{\\left(1 + \\left(\\frac{\\omega }{\\omega _c}\\right)^{2N}\\right)^{\\frac{1}{2}}}$$"
   ]
  },
  {
   "cell_type": "markdown",
   "metadata": {
    "slideshow": {
     "slide_type": "subslide"
    }
   },
   "source": [
    "**Remarks**\n",
    "\n",
    "* DC gain is \n",
    "\n",
    "  $$|H_B(j0)|=1$$\n",
    "\n",
    "* Attenuation at the cut-off frequency is \n",
    "\n",
    "  $$|H_B(j\\omega_c)|=1/\\sqrt{2}$$ \n",
    "  \n",
    "  for any $N$\n",
    "\n",
    "More about the Butterworth filter: [Wikipedia Article](http://en.wikipedia.org/wiki/Butterworth_filter)"
   ]
  },
  {
   "cell_type": "markdown",
   "metadata": {
    "slideshow": {
     "slide_type": "slide"
    }
   },
   "source": [
    "### Example 5: Second-order BW Filter\n",
    "\n",
    "The second-order butterworth Filter is defined by is Characteristic Equation (CE):\n",
    "\n",
    "$$p(s) = s^2 + \\omega_c\\sqrt{2}s+\\omega_c^2 = 0^*$$\n",
    "\n",
    "Calculate the roots of $p(s)$ (the poles of the filter transfer function) in both Cartesian and polar form."
   ]
  },
  {
   "cell_type": "markdown",
   "metadata": {
    "slideshow": {
     "slide_type": "notes"
    }
   },
   "source": [
    "**Note**: This has the same characteristic as a control system with damping ratio $\\zeta = 1/\\sqrt{2}$ and $\\omega_n = \\omega_c$!"
   ]
  },
  {
   "cell_type": "markdown",
   "metadata": {
    "slideshow": {
     "slide_type": "notes"
    }
   },
   "source": [
    "#### Solution\n",
    "\n",
    "<pre style=\"border: 2px solid blue\">\n",
    "\n",
    "\n",
    "\n",
    "\n",
    "\n",
    "\n",
    "\n",
    "\n",
    "\n",
    "\n",
    "\n",
    "\n",
    "\n",
    "\n",
    "\n",
    "\n",
    "\n",
    "\n",
    "\n",
    "\n",
    "\n",
    "\n",
    "\n",
    "\n",
    "</pre>"
   ]
  },
  {
   "cell_type": "markdown",
   "metadata": {
    "slideshow": {
     "slide_type": "slide"
    }
   },
   "source": [
    "### Example 6\n",
    "\n",
    "Derive the differential equation relating the input $x(t)$ to output $y(t)$ of the 2nd-Order Butterworth Low-Pass Filter with cutoff frequency $\\omega_c$."
   ]
  },
  {
   "cell_type": "markdown",
   "metadata": {
    "slideshow": {
     "slide_type": "notes"
    }
   },
   "source": [
    "#### Solution\n",
    "\n",
    "<pre style=\"border: 2px solid blue\">\n",
    "\n",
    "\n",
    "\n",
    "\n",
    "\n",
    "\n",
    "\n",
    "\n",
    "\n",
    "\n",
    "\n",
    "\n",
    "\n",
    "\n",
    "\n",
    "\n",
    "\n",
    "\n",
    "\n",
    "\n",
    "\n",
    "\n",
    "\n",
    "\n",
    "</pre>"
   ]
  },
  {
   "cell_type": "markdown",
   "metadata": {
    "slideshow": {
     "slide_type": "slide"
    }
   },
   "source": [
    "### Example 7\n",
    "\n",
    "Determine the frequency response $H_B(\\omega)=Y(\\omega)/X(\\omega)$"
   ]
  },
  {
   "cell_type": "markdown",
   "metadata": {
    "slideshow": {
     "slide_type": "notes"
    }
   },
   "source": [
    "### Solution\n",
    "\n",
    "<pre style=\"border: 2px solid blue\">\n",
    "\n",
    "\n",
    "\n",
    "\n",
    "\n",
    "\n",
    "\n",
    "\n",
    "\n",
    "\n",
    "\n",
    "\n",
    "\n",
    "\n",
    "\n",
    "\n",
    "\n",
    "\n",
    "\n",
    "\n",
    "\n",
    "\n",
    "\n",
    "\n",
    "</pre>"
   ]
  },
  {
   "cell_type": "markdown",
   "metadata": {
    "slideshow": {
     "slide_type": "subslide"
    }
   },
   "source": [
    "### Magnitude of frequency response of a 2nd-order Butterworth Filter"
   ]
  },
  {
   "cell_type": "code",
   "execution_count": 2,
   "metadata": {
    "slideshow": {
     "slide_type": "subslide"
    }
   },
   "outputs": [],
   "source": [
    "wc = 100;"
   ]
  },
  {
   "cell_type": "markdown",
   "metadata": {
    "slideshow": {
     "slide_type": "subslide"
    }
   },
   "source": [
    "Transfer function"
   ]
  },
  {
   "cell_type": "code",
   "execution_count": 3,
   "metadata": {
    "slideshow": {
     "slide_type": "subslide"
    }
   },
   "outputs": [
    {
     "name": "stdout",
     "output_type": "stream",
     "text": [
      "\n",
      "H =\n",
      " \n",
      "          10000\n",
      "  ---------------------\n",
      "  s^2 + 141.4 s + 10000\n",
      " \n",
      "Continuous-time transfer function.\n",
      "\n"
     ]
    }
   ],
   "source": [
    "H = tf(wc^2,[1, wc*sqrt(2), wc^2])"
   ]
  },
  {
   "cell_type": "markdown",
   "metadata": {
    "slideshow": {
     "slide_type": "subslide"
    }
   },
   "source": [
    "Magnitude frequency response"
   ]
  },
  {
   "cell_type": "code",
   "execution_count": 4,
   "metadata": {
    "slideshow": {
     "slide_type": "subslide"
    }
   },
   "outputs": [
    {
     "data": {
      "image/png": "[encoded data removed]",
      "text/plain": [
       "<IPython.core.display.Image object>"
      ]
     },
     "metadata": {},
     "output_type": "display_data"
    }
   ],
   "source": [
    "w = -400:400;\n",
    "mHlp = 1./(sqrt(1 + (w./wc).^4));\n",
    "plot(w,mHlp)\n",
    "grid\n",
    "ylabel('|H_B(j\\omega)|')\n",
    "title('Magnitude Frequency Response for 2nd-Order LP Butterworth Filter (\\omega_c = 100 rad/s)')\n",
    "xlabel('Radian Frequency \\omega [rad/s]')\n",
    "text(100,0.1,'\\omega_c')\n",
    "text(-100,0.1,'-\\omega_c')\n",
    "hold on\n",
    "plot([-400,-100,-100,100,100,400],[0,0,1,1,0,0],'r:')\n",
    "hold off"
   ]
  },
  {
   "cell_type": "markdown",
   "metadata": {
    "slideshow": {
     "slide_type": "subslide"
    }
   },
   "source": [
    "Bode plot"
   ]
  },
  {
   "cell_type": "code",
   "execution_count": 5,
   "metadata": {
    "slideshow": {
     "slide_type": "subslide"
    }
   },
   "outputs": [
    {
     "data": {
      "image/png": "[encoded data removed]",
      "text/plain": [
       "<IPython.core.display.Image object>"
      ]
     },
     "metadata": {},
     "output_type": "display_data"
    }
   ],
   "source": [
    "bode(H)\n",
    "grid\n",
    "title('Bode-plot of Butterworth 2nd-Order Butterworth Low Pass Filter')"
   ]
  },
  {
   "cell_type": "markdown",
   "metadata": {
    "slideshow": {
     "slide_type": "slide"
    }
   },
   "source": [
    "### Example 8\n",
    "\n",
    "Determine the impulse and step response of a butterworth low-pass filter.\n",
    "\n",
    "You will find this Fourier transform pair useful:\n",
    "\n",
    "$$e^{-at}\\sin\\omega_0 t\\;u_0(t) \\Leftrightarrow \\frac{\\omega_0}{(j\\omega + a)^2+\\omega_0^2}$$"
   ]
  },
  {
   "cell_type": "markdown",
   "metadata": {
    "slideshow": {
     "slide_type": "notes"
    }
   },
   "source": [
    "#### Solution\n",
    "\n",
    "<pre style=\"border: 2px solid blue\">\n",
    "\n",
    "\n",
    "\n",
    "\n",
    "\n",
    "\n",
    "\n",
    "\n",
    "\n",
    "\n",
    "\n",
    "\n",
    "\n",
    "\n",
    "\n",
    "\n",
    "\n",
    "\n",
    "\n",
    "\n",
    "\n",
    "\n",
    "\n",
    "\n",
    "</pre>"
   ]
  },
  {
   "cell_type": "markdown",
   "metadata": {
    "slideshow": {
     "slide_type": "subslide"
    }
   },
   "source": [
    "Impulse response"
   ]
  },
  {
   "cell_type": "code",
   "execution_count": 6,
   "metadata": {
    "slideshow": {
     "slide_type": "subslide"
    }
   },
   "outputs": [
    {
     "data": {
      "image/png": "[encoded data removed]",
      "text/plain": [
       "<IPython.core.display.Image object>"
      ]
     },
     "metadata": {},
     "output_type": "display_data"
    }
   ],
   "source": [
    "impulse(H,0.1)\n",
    "grid\n",
    "title('Impulse Response of 2nd-Order Butterworth Low Pass Filter')"
   ]
  },
  {
   "cell_type": "markdown",
   "metadata": {
    "slideshow": {
     "slide_type": "subslide"
    }
   },
   "source": [
    "Step response"
   ]
  },
  {
   "cell_type": "code",
   "execution_count": 7,
   "metadata": {
    "slideshow": {
     "slide_type": "subslide"
    }
   },
   "outputs": [
    {
     "data": {
      "image/png": "[encoded data removed]",
      "text/plain": [
       "<IPython.core.display.Image object>"
      ]
     },
     "metadata": {},
     "output_type": "display_data"
    }
   ],
   "source": [
    "step(H,0.1)\n",
    "title('Step Response of Butterworth 2nd-Order Butterworth Low Pass Filter')\n",
    "grid\n",
    "text(0.008,1,'s_B(t) for \\omega_c = 100 rad/s')"
   ]
  },
  {
   "cell_type": "markdown",
   "metadata": {
    "slideshow": {
     "slide_type": "slide"
    }
   },
   "source": [
    "## High-pass filter\n",
    "\n",
    "An ideal highpass filter cuts-off frequencies lower than its *cutoff frequency*, $\\omega_c$.\n",
    "\n",
    "$$H_{\\rm{hp}}(\\omega ) = \\left\\{ {\\begin{array}{*{20}{c}}\n",
    "{0,}&{|\\omega |{\\kern 1pt} \\, \\le {\\omega _c}}\\\\\n",
    "{1,}&{|\\omega |{\\kern 1pt} \\, > {\\omega _c}}\n",
    "\\end{array}} \\right.$$"
   ]
  },
  {
   "cell_type": "markdown",
   "metadata": {
    "slideshow": {
     "slide_type": "subslide"
    }
   },
   "source": [
    "### Frequency response\n",
    "\n",
    "<img src=\"pictures/ideal_hpf.png\">"
   ]
  },
  {
   "cell_type": "markdown",
   "metadata": {
    "slideshow": {
     "slide_type": "slide"
    }
   },
   "source": [
    "### Responses\n",
    "\n",
    "**Frequency response**\n",
    "\n",
    "$$H_{\\mathrm{hp}}(\\omega)=1-H_{\\mathrm{lp}}(\\omega)$$\n",
    "\n",
    "**Impulse response**\n",
    "\n",
    "$$h_{\\mathrm{hp}}(t)=\\delta(t)-h_{\\mathrm{lp}}(t)$$"
   ]
  },
  {
   "cell_type": "markdown",
   "metadata": {
    "slideshow": {
     "slide_type": "slide"
    }
   },
   "source": [
    "### Example 9\n",
    "\n",
    "Determine the frequency response of a 2nd-order butterworth highpass filter"
   ]
  },
  {
   "cell_type": "markdown",
   "metadata": {
    "slideshow": {
     "slide_type": "notes"
    }
   },
   "source": [
    "#### Solution\n",
    "\n",
    "<pre style=\"border: 2px solid blue\">\n",
    "\n",
    "\n",
    "\n",
    "\n",
    "\n",
    "\n",
    "\n",
    "\n",
    "\n",
    "\n",
    "\n",
    "\n",
    "\n",
    "\n",
    "\n",
    "\n",
    "\n",
    "\n",
    "\n",
    "\n",
    "\n",
    "\n",
    "\n",
    "\n",
    "</pre>"
   ]
  },
  {
   "cell_type": "markdown",
   "metadata": {
    "slideshow": {
     "slide_type": "subslide"
    }
   },
   "source": [
    "Magnitude frequency response"
   ]
  },
  {
   "cell_type": "code",
   "execution_count": 8,
   "metadata": {
    "slideshow": {
     "slide_type": "subslide"
    }
   },
   "outputs": [
    {
     "data": {
      "image/png": "[encoded data removed]",
      "text/plain": [
       "<IPython.core.display.Image object>"
      ]
     },
     "metadata": {},
     "output_type": "display_data"
    }
   ],
   "source": [
    "w = -400:400;\n",
    "plot(w,1-mHlp)\n",
    "grid\n",
    "ylabel('|H_B(j\\omega)|')\n",
    "title('Magnitude Frequency Response for 2nd-Order HP Butterworth Filter (\\omega_c = 100 rad/s)')\n",
    "xlabel('Radian Frequency \\omega [rad/s]')\n",
    "text(100,0.9,'\\omega_c')\n",
    "text(-100,0.9,'-\\omega_c')\n",
    "hold on\n",
    "plot([-400,-100,-100,100,100,400],[0,0,1,1,0,0],'r:')\n",
    "hold off"
   ]
  },
  {
   "cell_type": "markdown",
   "metadata": {
    "slideshow": {
     "slide_type": "subslide"
    }
   },
   "source": [
    "High-pass filter"
   ]
  },
  {
   "cell_type": "code",
   "execution_count": 9,
   "metadata": {
    "slideshow": {
     "slide_type": "subslide"
    }
   },
   "outputs": [
    {
     "name": "stdout",
     "output_type": "stream",
     "text": [
      "\n",
      "Hhp =\n",
      " \n",
      "      s^2 + 141.4 s\n",
      "  ---------------------\n",
      "  s^2 + 141.4 s + 10000\n",
      " \n",
      "Continuous-time transfer function.\n",
      "\n"
     ]
    },
    {
     "data": {
      "image/png": "[encoded data removed]",
      "text/plain": [
       "<IPython.core.display.Image object>"
      ]
     },
     "metadata": {},
     "output_type": "display_data"
    }
   ],
   "source": [
    "Hhp = 1 - H\n",
    "bode(Hhp)\n",
    "grid\n",
    "title('Bode-plot of Butterworth 2nd-Order Butterworth High Pass Filter')"
   ]
  },
  {
   "cell_type": "markdown",
   "metadata": {
    "slideshow": {
     "slide_type": "slide"
    }
   },
   "source": [
    "## Band-pass filter\n",
    "\n",
    "An ideal bandpass filter cuts-off frequencies lower than its first *cutoff frequency* $\\omega_{c1}$, and higher than its second *cutoff frequency* $\\omega_{c2}$.\n",
    "\n",
    "$$H_{\\rm{bp}}(\\omega ) = \\left\\{ {\\begin{array}{*{20}{c}}\n",
    "{1,}&\\omega _{c1} < \\,|\\omega |\\, < \\omega _{c2}\\\\\n",
    "{0,}&\\rm{otherwise}\n",
    "\\end{array}} \\right.$$"
   ]
  },
  {
   "cell_type": "markdown",
   "metadata": {
    "slideshow": {
     "slide_type": "subslide"
    }
   },
   "source": [
    "<img src=\"pictures/bbpmfr.png\">"
   ]
  },
  {
   "cell_type": "markdown",
   "metadata": {
    "slideshow": {
     "slide_type": "subslide"
    }
   },
   "source": [
    "### Bandpass filter design\n",
    "\n",
    "A bandpass filter can be obtained by multiplying the frequency responses of a lowpass filter by a highpass filter."
   ]
  },
  {
   "cell_type": "markdown",
   "metadata": {
    "slideshow": {
     "slide_type": "fragment"
    }
   },
   "source": [
    "$$H_{\\mathrm{bp}}(\\omega) = H_{\\mathrm{hp}}(\\omega)H_{\\mathrm{lp}}(\\omega)$$"
   ]
  },
  {
   "cell_type": "markdown",
   "metadata": {
    "slideshow": {
     "slide_type": "fragment"
    }
   },
   "source": [
    "* The highpass filter should have cut-off frequency of $\\omega_{c1}$"
   ]
  },
  {
   "cell_type": "markdown",
   "metadata": {
    "slideshow": {
     "slide_type": "fragment"
    }
   },
   "source": [
    "* The lowpass filter should have cut-off frequency of $\\omega_{c2}$"
   ]
  },
  {
   "cell_type": "markdown",
   "metadata": {
    "slideshow": {
     "slide_type": "notes"
    }
   },
   "source": [
    "To generate all the plots shown in this presentation, you can use [butter2_ex.mlx](https://cpjobling.github.io/eg-247-textbook/fourier_transform/4/butter2_ex.mlx)"
   ]
  },
  {
   "cell_type": "markdown",
   "metadata": {
    "slideshow": {
     "slide_type": "slide"
    }
   },
   "source": [
    "## Summary\n",
    "\n",
    "* Frequency-Selective Filters\n",
    "* Ideal low-pass filter\n",
    "* Butterworth low-pass filter\n",
    "* High-pass filter\n",
    "* Bandpass filter"
   ]
  },
  {
   "cell_type": "markdown",
   "metadata": {},
   "source": [
    "## Solutions\n",
    "\n",
    "Solutions to Examples 5-9 are captured as a PenCast in [filters.pdf](https://cpjobling.github.io/eg-247-textbook/fourier_transform/solutions/filters.pdf)."
   ]
  }
 ],
 "metadata": {
  "anaconda-cloud": {},
  "celltoolbar": "Slideshow",
  "kernelspec": {
   "display_name": "Matlab",
   "language": "matlab",
   "name": "matlab"
  },
  "language_info": {
   "codemirror_mode": "octave",
   "file_extension": ".m",
   "help_links": [
    {
     "text": "MetaKernel Magics",
     "url": "https://github.com/calysto/metakernel/blob/master/metakernel/magics/README.md"
    }
   ],
   "mimetype": "text/x-octave",
   "name": "matlab",
   "version": "0.16.1"
  },
  "livereveal": {
   "scroll": true,
   "start_slideshow_at": "selected"
  }
 },
 "nbformat": 4,
 "nbformat_minor": 1
}
