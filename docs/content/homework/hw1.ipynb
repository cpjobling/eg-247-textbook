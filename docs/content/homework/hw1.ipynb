{
 "cells": [
  {
   "cell_type": "markdown",
   "metadata": {
    "slideshow": {
     "slide_type": "slide"
    }
   },
   "source": [
    "# Homework 1\n",
    "\n",
    "## Elementary signals\n",
    "\n",
    "We will distribute this PDF to the _Homework_ section of your personal section of the **OneNote Class Notebook** then you can use the *ink feature* (if supported) to hand-write or sketch your answers.\n",
    "\n",
    "<ol>\n",
    "<li>Show that the waveform shown below \n",
    "\n",
    "<img src=\"pictures/example1.png\"> \n",
    "\n",
    "can be represented by the function \n",
    "   \n",
    "   $$v(t) = (2t + 1)u_0(t)-2(t-1)u_0(t-1)-tu_0(t-2)+(t-3)u_o(t-3).$$\n",
    "   \n",
    "</li>\n",
    "<li>Evaluate each of the following functions:\n",
    "<ol>\n",
    "<li>$\\sin t\\, \\delta(t - \\frac{\\pi}{6})$</li>\n",
    "<li>$\\cos 2t\\, \\delta(t - \\frac{\\pi}{4})$</li>\n",
    "<li>$\\cos^2 t\\, \\delta(t - \\frac{\\pi}{2})$</li>\n",
    "<li>$\\tan 2t\\, \\delta(t - \\frac{\\pi}{8})$</li>\n",
    "<li>$\\int_{-\\infty}^{+\\infty} t^2\\,e^{-t}\\, \\delta(t - 2)\\, dt$</li>\n",
    "<li>$\\sin^2 t\\,\\delta'(t - \\frac{\\pi}{2})$</li>\n",
    "</ol>\n",
    "\n",
    "Check your answers with Matlab.\n",
    "\n",
    "<li>\n",
    "<ol>\n",
    "<li>Express the voltage waveform $v(t)$ shown below as a sum of unit step funtions for the time interval $0 < t < 7$ s.\n",
    "<img src=\"pictures/hw1.png\"></li>\n",
    "<li>Using the result of part A) compute the time derivative of $v(t)$, and sketch its waveform. \n",
    "</li>\n",
    "</ol>"
   ]
  }
 ],
 "metadata": {
  "kernelspec": {
   "display_name": "Python 3",
   "language": "python",
   "name": "python3"
  },
  "language_info": {
   "codemirror_mode": {
    "name": "ipython",
    "version": 3
   },
   "file_extension": ".py",
   "mimetype": "text/x-python",
   "name": "python",
   "nbconvert_exporter": "python",
   "pygments_lexer": "ipython3",
   "version": "3.7.5"
  }
 },
 "nbformat": 4,
 "nbformat_minor": 1
}
