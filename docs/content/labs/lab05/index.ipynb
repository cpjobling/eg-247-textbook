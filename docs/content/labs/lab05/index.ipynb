{
 "cells": [
  {
   "cell_type": "markdown",
   "metadata": {},
   "source": [
    "# Lab 5: Fourier Series"
   ]
  },
  {
   "cell_type": "markdown",
   "metadata": {},
   "source": [
    "## Preamble\n",
    "\n",
    "### Associated Class Notes\n",
    "\n",
    "This lab supports the materials covered in [Chapter 4 Fourier Series](https://cpjobling.github.io/eg-247-textbook/fourier_series/index) of the course notes. You may wish to refer to [worksheet 9](https://cpjobling.github.io/eg-247-textbook/worksheets/worksheet9) and [worksheet 10](https://cpjobling.github.io/eg-247-textbook/worksheets/worksheet10) for additional examples to try. \n",
    "\n",
    "### Other formats\n",
    "\n",
    "This document is available in [HTML](https://cpjobling.github.io/eg-247-textbook/labs/lab05/index) format for online viewing and [PDF](https://cpjobling.github.io/eg-247-textbook/labs/lab05/lab05.pdf) for printing.\n",
    "\n",
    "### Acknowledgements\n",
    "\n",
    "These examples have been adapted from Chapter 7 of \n",
    "<a href=\"http://site.ebrary.com/lib/swansea/docDetail.action?docID=10547416\" target=\"_blank\">Stephen Karris, Signals and Systems : With MATLAB Computing and Simulink Modeling (5th Edition)</a>.\n",
    "\n",
    "The Simulink model used in Lab Exercise 16 was developed by Third Year EEE Student Fahad Alqahtani as part of his Level 3 Project in 2013-2014."
   ]
  },
  {
   "cell_type": "markdown",
   "metadata": {},
   "source": [
    "## Aims\n",
    "\n",
    "To explore Fourier series and the use of the Symbolic Toolkit to compute the Fourier coefficients and to demonstrate the simulation and analysis of Fourier series in Simulink."
   ]
  },
  {
   "cell_type": "markdown",
   "metadata": {},
   "source": [
    "## Assessment criteria\n",
    "\n",
    "This will be a self-assessed exercise.\n",
    "\n",
    "Up to 2 marks can be claimed if you complete Exercise 9, 1 mark for Exercise 10 and an addition 2 marks for Exercise 11.\n",
    "\n",
    "Detailed marking criteria for this and the other labs and the project are given in the linked [Assessment Criteria](https://docs.google.com/spreadsheets/d/1EQzwSfGMdw8oiQds4bUR8sZTCgb2lMvcJHjmea-8hW4/edit?usp=sharing) [Google sheet]."
   ]
  },
  {
   "cell_type": "markdown",
   "metadata": {},
   "source": [
    "## Setup\n",
    "\n",
    "### Before you start\n",
    "\n",
    "If you haven't already, create a suitable folder structure on your file-store for your labs. \n",
    "\n",
    "I suggest\n",
    "\n",
    "```\n",
    "P:\\workspace\n",
    "    signals-and-systems-lab\n",
    "\t    lab01\n",
    "\t\tlab02\n",
    "\t\tlab03\n",
    "        lab04\n",
    "        lab05\n",
    "        :\n",
    "```\n",
    "\n",
    "Use folder `p:\\workspace\\signals-and-systems-lab\\lab05` for this lab.\n",
    "\n",
    "### Preparation\n",
    "\n",
    "Before we start today's lab you will need to download and install the **Fourier series demo app**, that was demonstrated in class, from Georgia Tech's [Educational Matlab GUIs](https://dspfirst.gatech.edu/matlab) page.\n",
    "\n",
    "To install, visit the page and scroll down to find the Fourier Series Demo app (see image below)\n",
    "![Fourier Series Demo App](fsdemo.png)\n",
    "Right-click on the Blue Button labelled **FourierSeriesDemo** and save to your `lab05` folder. \n",
    "\n",
    "Open and run `fseriesdemo/fseriesdemo.m`.\n",
    "\n",
    "If MATLAB issues a message about the need to change the working directory or add a folder to the MATLAB path. Accept the choice given.\n",
    "\n",
    "Spend some time playing with the settings and observing the results. We will use this as a check of results of the labs to follow."
   ]
  },
  {
   "cell_type": "markdown",
   "metadata": {},
   "source": [
    "## Lab Exercises"
   ]
  },
  {
   "cell_type": "markdown",
   "metadata": {},
   "source": [
    "### Lab Exercise 9: Computation of the coefficients of the Trig. Fourier Series\n",
    "\n",
    "In this lab exercise we will review the Fourier series for a square wave with odd and even symmetry before going on to compute and plot the Fourier series for the *triangular* waveform.\n",
    "\n",
    "We will also explore and confirm the stated results of even-, odd- and half-wave symmetries.\n",
    "\n",
    "#### Before you Start\n",
    "\n",
    "Download the attached files:\n",
    "\n",
    "* [TrigFourierSeries.m](TrigFourierSeries.m)\n",
    "* [FourierSeries.m](FourierSeries.m)\n",
    "* [trig_fseries.m](trig_fseries.m)\n",
    "\n",
    "and store them in your `lab05` folder.\n",
    "\n",
    "#### Part 1\n",
    "\n",
    "Open the script `trig_fseries.m` as a MATLAB Live Script. Run the script and read through the results. Note that the script calls the `TrigFourierSeries` function, defined in the file `TrigFourierSeries.m`, which in turn calls the `FourierSeries` function, defined in `FourierSeries.m`, to calculate the trigonometric Fourier series for the square wave with odd-symmetry. In other words, it reconstructs the $a_k$ and $b_k$ Coefficients from the exponential Fourier series coefficients $C_k$.\n",
    "\n",
    "#### Part 2\n",
    "\n",
    "Save the m-file `trig_fseries.m` as a MATLAB Live Script `ex9_1.mlx`. Change the script so that it computes and plots the trig. Fourier series for the square-wave waveform with even symmetry (Section 7.4.1 in the textbook).\n",
    " \n",
    "Note that the limits of the integration in `trig_fseries.m` start at 0, so you will need to construct the square wave over the period $[0, T]$ using unit step (`heaviside`) functions.\n",
    "\n",
    "\n",
    "#### Part 3\n",
    "\n",
    "Copy the script `trig_fseries.m` and save it as a MATLAB Live Script `ex9_2.mlx`. Change the copy so that it computes and plots the trig. Fourier series for the Triangular waveform (Section 7.4.3 in the textbook).\n",
    "\n",
    "**Note**\n",
    "\n",
    "Parts 2 and 3 can be added to `trig_fseries` and the whole submitted as a single Live Script file `ex9.mlx` providing that you use section headings to separate the parts and edit/add to the textual commentary to match the exercise descriptions."
   ]
  },
  {
   "cell_type": "markdown",
   "metadata": {},
   "source": [
    "### Exercise 10: Simulating Wave Analysis\n",
    "\n",
    "Download and open the Simulink model [fourier_example.slx](fourier_example.slx). Examine the settings for the sine terms and compare the amplitudes and frequencies of the settings with the results of running `trig_fseries.m`. Run the simulation and view the reconstructed signal and the spectrum.\n",
    "\n",
    "#### Part 4\n",
    "\n",
    "Change the settings so that the Simulink model uses the coefficients from the square-wave even-symmetry result. Simulate and capture the time and spectrum plots. Save your model as `ex10_1.slx`.\n",
    "\n",
    "*Hint*: Be careful to evaluate which set of coefficients are present in the Fourier series. Are they $a_k$ or $b_k$? What do you need to change in the sine wave generators to get the right results? \n",
    "\n",
    "#### Part 5\n",
    "\n",
    "Change the settings so that the Simulink model uses the coefficients from the triangular wave result. Simulate and capture the time and spectrum plots. Save your model as `ex10_2.slx`."
   ]
  },
  {
   "cell_type": "markdown",
   "metadata": {},
   "source": [
    "### Lab Exercise 11: Computation of the coefficients of Exponential Fourier Series\n",
    "\n",
    "In this lab exercise we will review the Fourier series for a square wave with odd and even symmetry before going on to compute and plot the Fourier series for the `triangular` waveform.\n",
    "\n",
    "We will also explore and confirm the stated results of even-, odd- and half-wave symmetries.\n",
    "\n",
    "#### Before you Start\n",
    "\n",
    "Download the attached file:\n",
    "\n",
    "* [exp_fseries.m](exp_fseries.m)\n",
    "\n",
    "#### Part 6\n",
    "\n",
    "Open the script `exp_fseries.m` as a Live Script, run it and examine the results. Note that the script calls the `FourierSeries` function defined in `TrigFourierSeries.m` to calculate the exponential Fourier series for the square wave with odd-symmetry.\n",
    "\n",
    "#### Part 7\n",
    "\n",
    "Copy the script `exp_fseries.m` and save it as `ex11_1`. Change the copy so that it computes and plots the exponential Fourier series for the square-wave waveform with even symmetry (Section 7.4.1 in the textbook). *Hint*: Use the same definition of f(t) that you used in Exercise 9.\n",
    "\n",
    "The Simulink model plots the *Power Spectrum* of the simulated reconstructed signal. To plot the power spectrum of a exponential Fourier series we need to produce a stem plot. Each stem in the power spectrum is computed using $\\sqrt{C_k C_K^*}$ (see **Parseval's Theorem** in the notes). In MATLAB this would be `C(k)*conj(C(k)`. \n",
    "\n",
    "Plot the Power Spectrum of the signal from exponential Fourier series coefficients computed in this section. Compare the computed power spectrum with the simulated power spectrum. *Note*: expect some differences!\n",
    "\n",
    "#### Part 8\n",
    "\n",
    "Copy the script `exp_fseries.m` and save it as `ex11_2`. Change the copy so that it computes and plots the exponential Fourier series for the full-wave rectified sinusoidal waveform (**Note**: `f(t) = abs(sin(t))` (Section 7.4.5 in the textbook).\n",
    "\n",
    "**Note**\n",
    "\n",
    "As for Exercise 9, parts 7 and 8 can be added to `exp_fseries` and the whole submitted as a single Live Script file `ex11.mlx`."
   ]
  },
  {
   "cell_type": "markdown",
   "metadata": {},
   "source": [
    "## What to hand in\n",
    "\n",
    "### Claim\n",
    "\n",
    "Up to 2 marks can be claimed if you complete Exercise 9, 1 mark for Exercise 10 and an addition 2 marks Exercise 11.\n",
    "\n",
    "### Submission\n",
    "\n",
    "You should submit the following to the **Lab 05: Fourier series** Assignment on Canvas.\n",
    "\n",
    "1. Complete the labwork self-assessment claim form and declaration.\n",
    "1. As evidence of completion of Lab Exercise 9, you should upload `ex9_1.mlx` and `ex9_2.mlx` (can be sections in one Live Script `ex9.mlx`).\n",
    "1. As evidence of completion of Lab Exercise 10, you should upload the Simulink models `ex10_1.slx` and `ex10_2.slx`.\n",
    "1. As evidence of completion of Lab Exercise 11, you should upload `ex11_1.mlx` and `ex11_2.mlx` (can be sections in one Live Script `ex11.mlx`).\n",
    "\n",
    "### Deadline\n",
    "\n",
    "The deadline for claims and submission is **Midnight, 20th March**"
   ]
  },
  {
   "cell_type": "markdown",
   "metadata": {},
   "source": [
    "## Optional Additional Tasks: Review and Change the Code.\n",
    "\n",
    "A problem with the scripts as provided is that the limits on the integrals are set in the range $[0, T]$. It would be convenient if this could be changed, for example when computing FS for even signals, the limits could be adjusted to $[-T/2,T/2]$. \n",
    "\n",
    "In MATLAB we can achieve this by adding extra arguments to the function definition. \n",
    "\n",
    "### Part 9\n",
    "\n",
    "Examine the code for the `FourierSeries` function that is defined in `FourierSeries.m`. Adapt the function definition so that the user can define the range of the Fourier Series integral. If you succeed, use the modified function to compute the Fourier series of the triangular wave form by exploiting half-wave symmetry. Save the script that does this as `ex11_3`.\n",
    "\n",
    "### Part 10\n",
    "\n",
    "Examine the code that is defined in `TrigFourierSeries`. Note that it calls `FourierSeries` then computes `ak` and `bk` from the `Ck` coefficients. Why did I do that do you think? \n",
    "\n",
    "If you made the suggested change to `FourierSeries`, provide compatible changes to your copy of `TrigFourierSeries`. Test it on a square wave with even symmetry (Lab 9 Part 2). Save the resulting calling script as `ex9_3`.\n",
    "\n",
    "Compute the FS of the half-wave rectified cosine function. Save the resulting calling script as `ex11_4`.\n",
    "\n",
    "### Bonus\n",
    "\n",
    "If you complete Parts 9 and 10 you may claim an additional 2 marks for this lab providing that you provide evidence which must include your modified versions of `FourierSeries.m` and `TrigFourierSeries.m`."
   ]
  }
 ],
 "metadata": {
  "kernelspec": {
   "display_name": "Python 3",
   "language": "python",
   "name": "python3"
  },
  "language_info": {
   "codemirror_mode": {
    "name": "ipython",
    "version": 3
   },
   "file_extension": ".py",
   "mimetype": "text/x-python",
   "name": "python",
   "nbconvert_exporter": "python",
   "pygments_lexer": "ipython3",
   "version": "3.6.8"
  }
 },
 "nbformat": 4,
 "nbformat_minor": 2
}
