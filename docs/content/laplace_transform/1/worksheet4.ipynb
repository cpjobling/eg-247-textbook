{
 "cells": [
  {
   "cell_type": "markdown",
   "metadata": {
    "slideshow": {
     "slide_type": "skip"
    }
   },
   "source": [
    "**Lecturer**\n",
    "\n",
    "Set up MATLAB"
   ]
  },
  {
   "cell_type": "code",
   "execution_count": null,
   "metadata": {
    "slideshow": {
     "slide_type": "skip"
    }
   },
   "outputs": [],
   "source": [
    "clear all\n",
    "format compact"
   ]
  },
  {
   "cell_type": "markdown",
   "metadata": {
    "slideshow": {
     "slide_type": "slide"
    }
   },
   "source": [
    "# Worksheet 4\n",
    "\n",
    "## To accompany Chapter 3.1 Laplace Transform\n",
    "\n",
    "We will step through this worksheet in class. \n",
    "\n",
    "You are expected to have at least watched the video presentation of [Chapter 3.1](https://cpjobling.github.io/eg-247-textbook/laplace_transform/1/laplace) of the [notes](https://cpjobling.github.io/eg-247-textbook) before coming to class. If you haven't watch it afterwards!"
   ]
  },
  {
   "cell_type": "markdown",
   "metadata": {
    "slideshow": {
     "slide_type": "slide"
    }
   },
   "source": [
    "## Pingo\n",
    "\n",
    "We will be using a web-based audience response system called **Pingo** for in-class quizzes and informal surveys."
   ]
  },
  {
   "cell_type": "markdown",
   "metadata": {
    "slideshow": {
     "slide_type": "subslide"
    }
   },
   "source": [
    "## Setup\n",
    "\n",
    "Browse to: [pingo.coactum.de](https://pingo.coactum.de). \n",
    "\n",
    "<img src=\"https://chart.googleapis.com/chart?cht=qr&chs=300x300&choe=UTF-8&chld=H&chl=https://pingo.coactum.de\" alt=\"QR Code\" />"
   ]
  },
  {
   "cell_type": "markdown",
   "metadata": {
    "slideshow": {
     "slide_type": "subslide"
    }
   },
   "source": [
    "When prompted: enter the **session ID**\n",
    "\n",
    "### The Session ID for this Course\n",
    "<pre>\n",
    "\n",
    "\n",
    "\n",
    "</pre>\n",
    "<div style=\"font-size: 32pt; font-face: bold;\">194851</div>\n",
    "<pre>\n",
    "\n",
    "\n",
    "\n",
    "</pre>"
   ]
  },
  {
   "cell_type": "markdown",
   "metadata": {
    "slideshow": {
     "slide_type": "subslide"
    }
   },
   "source": [
    "### Icebreaker Questions"
   ]
  },
  {
   "cell_type": "markdown",
   "metadata": {
    "slideshow": {
     "slide_type": "fragment"
    }
   },
   "source": [
    "#### -> Launch Poll"
   ]
  },
  {
   "cell_type": "markdown",
   "metadata": {
    "slideshow": {
     "slide_type": "subslide"
    }
   },
   "source": [
    "### End of setup"
   ]
  },
  {
   "cell_type": "markdown",
   "metadata": {
    "slideshow": {
     "slide_type": "subslide"
    }
   },
   "source": [
    "## Plan B"
   ]
  },
  {
   "cell_type": "markdown",
   "metadata": {
    "slideshow": {
     "slide_type": "notes"
    }
   },
   "source": [
    "If TurningPoint doesn't work, use this Google form instead"
   ]
  },
  {
   "cell_type": "markdown",
   "metadata": {
    "slideshow": {
     "slide_type": "subslide"
    }
   },
   "source": [
    "### https://goo.gl/forms/EuyH6G7za2knqt862\n",
    "\n",
    "![qr code](https://chart.googleapis.com/chart?cht=qr&chs=300x300&choe=UTF-8&chld=H&chl=https://goo.gl/forms/EuyH6G7za2knqt862)"
   ]
  },
  {
   "cell_type": "markdown",
   "metadata": {
    "slideshow": {
     "slide_type": "slide"
    }
   },
   "source": [
    "## First hour quiz"
   ]
  },
  {
   "cell_type": "markdown",
   "metadata": {
    "slideshow": {
     "slide_type": "subslide"
    }
   },
   "source": [
    "# The Laplace and inverse Laplace transforms\n",
    "\n",
    "Without conferring or looking it up, which of these integrals represents the Laplace transform?\n",
    "\n",
    "<table>\n",
    "<tr><td>A.</td><td>$$\\frac{1}{2\\pi j}\\int_{\\sigma-j\\omega}^{\\sigma+j\\omega}\\,F(s)\\,e^{st}\\,ds$$</td><td>B.</td><td>$$\\int_{0}^{\\infty}\\,f(t)\\,e^{-st}\\,dt$$</td></tr>\n",
    "<tr><td>C.</td><td>$$\\int_{-\\infty}^{t}\\,f(\\tau)\\,g(t-\\tau)\\,d\\tau$$</td><td>D.</td><td>$$\\int_{-j\\omega}^{+j\\omega}\\,f(t)\\,e^{-j\\omega t}\\,dt$$</td></tr>\n",
    "</table>"
   ]
  },
  {
   "cell_type": "markdown",
   "metadata": {
    "slideshow": {
     "slide_type": "fragment"
    }
   },
   "source": [
    "#### -> Launch Poll"
   ]
  },
  {
   "cell_type": "markdown",
   "metadata": {
    "slideshow": {
     "slide_type": "subslide"
    }
   },
   "source": [
    "# The Laplace and inverse Laplace transforms\n",
    "\n",
    "**Now discuss with your neigbours**\n",
    "\n",
    "Which of these integrals represents the Laplace transform?\n",
    "\n",
    "<table>\n",
    "<tr><td>A.</td><td>$$\\frac{1}{2\\pi j}\\int_{\\sigma-j\\omega}^{\\sigma+j\\omega}\\,F(s)\\,e^{st}\\,ds$$</td><td>B.</td><td>$$\\int_{0}^{\\infty}\\,f(t)\\,e^{-st}\\,dt$$</td></tr>\n",
    "<tr><td>C.</td><td>$$\\int_{-\\infty}^{t}\\,f(\\tau)\\,g(t-\\tau)\\,d\\tau$$</td><td>D.</td><td>$$\\int_{-j\\omega}^{+j\\omega}\\,f(t)\\,e^{-j\\omega t}\\,dt$$</td></tr>\n",
    "</table>"
   ]
  },
  {
   "cell_type": "markdown",
   "metadata": {
    "slideshow": {
     "slide_type": "fragment"
    }
   },
   "source": [
    "#### -> Launch Poll"
   ]
  },
  {
   "cell_type": "markdown",
   "metadata": {
    "slideshow": {
     "slide_type": "subslide"
    }
   },
   "source": [
    "# The Laplace and inverse Laplace transforms\n",
    "\n",
    "Without conferring or looking it up, which of these integrals represents the inverse Laplace transform?\n",
    "\n",
    "<table>\n",
    "<tr><td>A.</td><td>$$\\frac{1}{2\\pi j}\\int_{\\sigma-j\\omega}^{\\sigma+j\\omega}\\,F(s)\\,e^{st}\\,ds$$</td><td>B.</td><td>$$\\int_{0}^{\\infty}\\,f(t)\\,e^{-st}\\,dt$$</td></tr>\n",
    "<tr><td>C.</td><td>$$\\int_{-\\infty}^{t}\\,f(\\tau)\\,g(t-\\tau)\\,d\\tau$$</td><td>D.</td><td>$$\\int_{-j\\omega}^{+j\\omega}\\,f(t)\\,e^{-j\\omega t}\\,dt$$</td></tr>\n",
    "</table>"
   ]
  },
  {
   "cell_type": "markdown",
   "metadata": {
    "slideshow": {
     "slide_type": "fragment"
    }
   },
   "source": [
    "#### -> Launch Poll"
   ]
  },
  {
   "cell_type": "markdown",
   "metadata": {
    "slideshow": {
     "slide_type": "subslide"
    }
   },
   "source": [
    "# The Laplace and inverse Laplace transforms\n",
    "\n",
    "**Now discuss with your neigbours**\n",
    "\n",
    "Which of these integrals represents the inverse Laplace transform?\n",
    "\n",
    "<table>\n",
    "<tr><td>A.</td><td>$$\\frac{1}{2\\pi j}\\int_{\\sigma-j\\omega}^{\\sigma+j\\omega}\\,F(s)\\,e^{st}\\,ds$$</td><td>B.</td><td>$$\\int_{0}^{\\infty}\\,f(t)\\,e^{-st}\\,dt$$</td></tr>\n",
    "<tr><td>C.</td><td>$$\\int_{-\\infty}^{t}\\,f(\\tau)\\,g(t-\\tau)\\,d\\tau$$</td><td>D.</td><td>$$\\int_{-j\\omega}^{+j\\omega}\\,f(t)\\,e^{-j\\omega t}\\,dt$$</td></tr>\n",
    "</table>"
   ]
  },
  {
   "cell_type": "markdown",
   "metadata": {
    "slideshow": {
     "slide_type": "fragment"
    }
   },
   "source": [
    "#### -> Launch Poll"
   ]
  },
  {
   "cell_type": "markdown",
   "metadata": {
    "slideshow": {
     "slide_type": "subslide"
    }
   },
   "source": [
    "## Laplace transforms\n",
    "\n",
    "Match the transform to the time-domain operator\n",
    "\n",
    "**Please confer**\n",
    "\n",
    "<table>\n",
    "    <tr><td>1.</td><td>$$\\int_{-\\infty}^{t}\\,f(\\tau)\\,d\\tau$$</td><td>A.</td><td>$$\\frac{F(s)}{s}+\\frac{f(0^-)}{s}$$</td></tr>\n",
    "    <tr><td>2.</td><td>$$\\lim_{t\\rightarrow 0}\\,f(t)$$</td><td>B.</td><td>$$sF(s) - f(0^-)$$</td></tr>\n",
    "    <tr><td>3.</td><td>$$\\int_0^t\\,f_1(\\tau)f_2(t-\\tau)\\,d\\tau$$</td><td>C.</td><td>$$\\frac{\\int_{0}^{T}\\,f(t)\\,e^{-sT}}{1-e^{-sT}}$$</td></tr>\n",
    "    <tr><td>4.</td><td>$$\\frac{d}{dt}\\,f(t)$$</td><td>D.</td><td>$$F_1(s)\\,F_2(s)$$</td></tr>\n",
    "    <tr><td>5.</td><td>$$f(t + nT)$$</td><td>E.</td><td>$$\\lim_{s\\rightarrow \\infty}\\,sF(s)$$</td></tr>\n",
    "</table>"
   ]
  },
  {
   "cell_type": "markdown",
   "metadata": {
    "slideshow": {
     "slide_type": "subslide"
    }
   },
   "source": [
    "## Properties of Laplace transforms\n",
    "\n",
    "Match each of these mathematical properties to the associated Laplace transform property.\n",
    "\n",
    "**You should confer**\n",
    "\n",
    "<table>\n",
    "    <tr><td>1.</td><td>Linearity</td><td>A.</td><td>$$f(t - a)\\,u_0(t - a) \\Leftrightarrow e^{-as} F(s)$$</td></tr>\n",
    "    <tr><td>2.</td><td>Time Scaling</td><td>B.</td><td>$$c_1f_1(t) + c_2f_2(t)+ \\cdots + c_nf_n(t)\\Leftrightarrow c_1F_1(s) + c_2F_2(s) + \\cdots + c_nF_n(s)$$</td></tr>\n",
    "    <tr><td>3.</td><td>Time-shift</td><td>C.</td><td>$$e^{-at}\\, f(t) \\Leftrightarrow F(s + a)$$</td></tr>\n",
    "    <tr><td>4.</td><td>Frequency Shift</td><td>D.</td><td>$$f(at) \\Leftrightarrow (1/a) \\, F (s/a)$$</td></tr>\n",
    "</table>"
   ]
  },
  {
   "cell_type": "markdown",
   "metadata": {
    "slideshow": {
     "slide_type": "subslide"
    }
   },
   "source": [
    "## Name that property\n",
    "\n",
    "What property is this? \n",
    "\n",
    "$$\\lim_{t\\rightarrow \\infty}\\,f(t)\\Leftrightarrow \\lim_{s\\rightarrow 0}\\,sF(s)$$\n",
    "\n",
    "A. Convolution in the time domain\n",
    "\n",
    "B. Initial value theorem\n",
    "\n",
    "C. Final value theorem\n",
    "\n",
    "D. Differentiation in the time domain\n",
    "\n",
    "E. Integration in the time domain"
   ]
  },
  {
   "cell_type": "markdown",
   "metadata": {
    "slideshow": {
     "slide_type": "fragment"
    }
   },
   "source": [
    "#### -> Launch Poll"
   ]
  },
  {
   "cell_type": "markdown",
   "metadata": {
    "slideshow": {
     "slide_type": "subslide"
    }
   },
   "source": [
    "## Elementary signals\n",
    "\n",
    "Match the elementary signal to it's Laplace transform\n",
    "\n",
    "**You may confer**\n",
    "\n",
    "<table>\n",
    "    <tr><td>1.</td><td>Dirac delta (unit impulse)</td><td>$$\\delta(t)$$</td><td>A.</td><td>$$e^{-as}$$</td></tr>\n",
    "    <tr><td>2.</td><td>Unit step</td><td>$$u_0(t)$$</td><td>B.</td><td>$$\\frac{1-e^{-as}}{s}$$</td></tr>\n",
    "    <tr><td>3.</td><td>Unit ramp</td><td>$$u_1(t) = t u_0(t)$$</td><td>C.</td><td>$$\\frac{1}{s}$$</td></tr>\n",
    "    <tr><td>4.</td><td>Exponential decay</td><td>$$e^{-at}u_0(t)$$</td><td>D.</td><td>$$1$$</td></tr>\n",
    "    <tr><td>5.</td><td>Damped sinusoid</td><td>$$e^{-at}\\,\\sin(\\omega t)u_0(t)$$</td><td>E.</td><td>$$\\frac{1}{s^2}$$</td></tr>\n",
    "    <tr><td>6.</td><td>Sampling function</td><td>$$\\delta(t-a)$$</td><td>F.</td><td>$$\\frac{1}{s+a}$$</td></tr>\n",
    "    <tr><td>7.</td><td>Gating function</td><td>$$u_0(t)-u_0(t-a)$$</td><td>G.</td><td>$$\\frac{\\omega}{(s+a)^2+\\omega^2}$$</td></tr>\n",
    "</table>"
   ]
  },
  {
   "cell_type": "markdown",
   "metadata": {
    "slideshow": {
     "slide_type": "subslide"
    }
   },
   "source": [
    "## End of first hour quiz\n",
    "\n",
    "Is there anything in this quiz that you think we should go over in more detail in class?"
   ]
  },
  {
   "cell_type": "markdown",
   "metadata": {
    "slideshow": {
     "slide_type": "fragment"
    }
   },
   "source": [
    "#### -> Launch Poll"
   ]
  },
  {
   "cell_type": "markdown",
   "metadata": {
    "slideshow": {
     "slide_type": "slide"
    }
   },
   "source": [
    "## Laplace transforms of common waveforms\n",
    "\n",
    "We will work through a few of the following on the board in class\n",
    "\n",
    "* Pulse\n",
    "* Linear segment\n",
    "* Triangular waveform\n",
    "* Rectangular periodic waveform (square wave)\n",
    "* Half rectified sine wave"
   ]
  },
  {
   "cell_type": "markdown",
   "metadata": {
    "slideshow": {
     "slide_type": "subslide"
    }
   },
   "source": [
    "### Pulse\n",
    "\n",
    "Compute the Laplace transform of the pulse shown in the figure.\n",
    "\n",
    "![pulse](images/pulse.png)"
   ]
  },
  {
   "cell_type": "markdown",
   "metadata": {
    "slideshow": {
     "slide_type": "notes"
    }
   },
   "source": [
    "<pre style=\"border: 2px solid blue\">\n",
    "\n",
    "\n",
    "\n",
    "\n",
    "\n",
    "\n",
    "\n",
    "\n",
    "\n",
    "\n",
    "\n",
    "\n",
    "\n",
    "\n",
    "\n",
    "\n",
    "\n",
    "\n",
    "\n",
    "\n",
    "\n",
    "\n",
    "</pre>"
   ]
  },
  {
   "cell_type": "markdown",
   "metadata": {
    "slideshow": {
     "slide_type": "subslide"
    }
   },
   "source": [
    "### Line segment\n",
    "\n",
    "Compute the Laplace transform of the line segment shown below.\n",
    "\n",
    "![line](images/line.png)\n",
    "\n",
    "\n",
    "\n",
    "\n",
    "\n",
    "\n",
    "\n",
    "\n",
    "\n",
    "\n",
    "\n",
    "\n",
    "\n",
    "\n",
    "\n",
    "\n",
    "\n",
    "\n",
    "\n",
    "\n",
    "\n",
    "\n",
    "</pre>"
   ]
  },
  {
   "cell_type": "markdown",
   "metadata": {
    "slideshow": {
     "slide_type": "subslide"
    }
   },
   "source": [
    "### Triangular Pulse\n",
    "\n",
    "Compute the Laplace transform of the triangular pulse shown below\n",
    "\n",
    "![triangle](images/triangle.png)"
   ]
  },
  {
   "cell_type": "markdown",
   "metadata": {
    "slideshow": {
     "slide_type": "notes"
    }
   },
   "source": [
    "<pre style=\"border: 2px solid blue\">\n",
    "\n",
    "\n",
    "\n",
    "\n",
    "\n",
    "\n",
    "\n",
    "\n",
    "\n",
    "\n",
    "\n",
    "\n",
    "\n",
    "\n",
    "\n",
    "\n",
    "\n",
    "\n",
    "\n",
    "\n",
    "\n",
    "\n",
    "</pre>"
   ]
  },
  {
   "cell_type": "markdown",
   "metadata": {
    "slideshow": {
     "slide_type": "subslide"
    }
   },
   "source": [
    "### Square Wave\n",
    "\n",
    "Compute the Laplace transform of the periodic function shown below.\n",
    "\n",
    "![square wave](images/sqare.png)"
   ]
  },
  {
   "cell_type": "markdown",
   "metadata": {
    "slideshow": {
     "slide_type": "notes"
    }
   },
   "source": [
    "<pre style=\"border: 2px solid blue\">\n",
    "\n",
    "\n",
    "\n",
    "\n",
    "\n",
    "\n",
    "\n",
    "\n",
    "\n",
    "\n",
    "\n",
    "\n",
    "\n",
    "\n",
    "\n",
    "\n",
    "\n",
    "\n",
    "\n",
    "\n",
    "\n",
    "\n",
    "</pre>"
   ]
  },
  {
   "cell_type": "markdown",
   "metadata": {
    "slideshow": {
     "slide_type": "subslide"
    }
   },
   "source": [
    "### Half-rectified Sinewave\n",
    "\n",
    "Compute the Laplace Transform of the half-rectified sine wave shown below.\n",
    "\n",
    "![half-rectified sinewave](images/rectsine.png)"
   ]
  },
  {
   "cell_type": "markdown",
   "metadata": {
    "slideshow": {
     "slide_type": "notes"
    }
   },
   "source": [
    "<pre style=\"border: 2px solid blue\">\n",
    "\n",
    "\n",
    "\n",
    "\n",
    "\n",
    "\n",
    "\n",
    "\n",
    "\n",
    "\n",
    "\n",
    "\n",
    "\n",
    "\n",
    "\n",
    "\n",
    "\n",
    "\n",
    "\n",
    "\n",
    "\n",
    "\n",
    "</pre>"
   ]
  },
  {
   "cell_type": "markdown",
   "metadata": {
    "slideshow": {
     "slide_type": "slide"
    }
   },
   "source": [
    "## Homework\n",
    "\n",
    "Attempt at least one of the end-of-chapter exercises from each question 1-7 of [Section 2.7](https://ebookcentral.proquest.com/lib/swansea-ebooks/reader.action?docID=3384197&ppg=75#ppg=71) of {% cite karris %}. Don't look at the answers until you have attempted the problems.\n",
    "\n",
    "If we have time, I will work through one or two of these in class."
   ]
  },
  {
   "cell_type": "markdown",
   "metadata": {},
   "source": [
    "## References\n",
    "\n",
    "{% bibliography --cited %}"
   ]
  },
  {
   "cell_type": "markdown",
   "metadata": {
    "slideshow": {
     "slide_type": "notes"
    }
   },
   "source": [
    "## Answers to in-class problems\n",
    "\n",
    "1. $$Au_0(t)-Au_0(t-a)\\Leftrightarrow \\frac{A\\left(1-e^{-as}\\right)}{s}.$$\n",
    "\n",
    "2. $$(t-1)u_0(t-1)\\Leftrightarrow \\frac{e^{-s}}{s}.$$\n",
    "\n",
    "3. $$f_T(t)\\Leftrightarrow \\frac{\\left(1-e^{-s}\\right)^2}{s^2}.$$\n",
    "\n",
    "4. $$f_R(t)\\Leftrightarrow \\frac{A\\tanh \\left(\\frac{As}{2}\\right)}{s}.$$\n",
    "\n",
    "5. $$f_{HW}(t) \\Leftrightarrow \\frac{1}{\\left(s^2 + 1\\right)\\left(1-e^{\\pi s}\\right)}.$$"
   ]
  }
 ],
 "metadata": {
  "celltoolbar": "Slideshow",
  "kernelspec": {
   "display_name": "Matlab",
   "language": "matlab",
   "name": "matlab"
  },
  "language_info": {
   "codemirror_mode": "octave",
   "file_extension": ".m",
   "help_links": [
    {
     "text": "MetaKernel Magics",
     "url": "https://metakernel.readthedocs.io/en/latest/source/README.html"
    }
   ],
   "mimetype": "text/x-octave",
   "name": "matlab",
   "version": "0.16.7"
  }
 },
 "nbformat": 4,
 "nbformat_minor": 2
}
