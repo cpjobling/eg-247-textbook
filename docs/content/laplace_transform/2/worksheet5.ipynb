{
 "cells": [
  {
   "cell_type": "markdown",
   "metadata": {
    "slideshow": {
     "slide_type": "slide"
    }
   },
   "source": [
    "# Worksheet 5\n",
    "\n",
    "## To accompany Chapter 3.2 Inverse Laplace Transform\n",
    "\n",
    "We will step through this worksheet in class. \n",
    "\n",
    "You are expected to have at least watched the video presentation of [Chapter 3.2](https://cpjobling.github.io/eg-247-textbook/laplace_transform/2/inverse_laplace) of the [notes](https://cpjobling.github.io/eg-247-textbook) before coming to class. If you haven't watch it afterwards!"
   ]
  },
  {
   "cell_type": "markdown",
   "metadata": {
    "slideshow": {
     "slide_type": "slide"
    }
   },
   "source": [
    "## Hour 2 Quiz"
   ]
  },
  {
   "cell_type": "markdown",
   "metadata": {
    "slideshow": {
     "slide_type": "fragment"
    }
   },
   "source": [
    "Did you watch the pre lecture video (or read the notes) for the Inverse Laplace Transform?"
   ]
  },
  {
   "cell_type": "markdown",
   "metadata": {
    "slideshow": {
     "slide_type": "fragment"
    }
   },
   "source": [
    "A. Yes, watched video\n",
    "\n",
    "B. Yes, watched th video and read the notes\n",
    "\n",
    "C. Just read the notes\n",
    "\n",
    "D. Didn't prepare anything"
   ]
  },
  {
   "cell_type": "markdown",
   "metadata": {
    "slideshow": {
     "slide_type": "fragment"
    }
   },
   "source": [
    "#### -> Launch Poll"
   ]
  },
  {
   "cell_type": "markdown",
   "metadata": {
    "slideshow": {
     "slide_type": "subslide"
    }
   },
   "source": [
    "## Inverse Laplace transforms\n",
    "\n",
    "Inverse laplace transform the following\n",
    "\n",
    "**Please do confirm**\n",
    "\n",
    "<table>\n",
    "    <tr><td>1.</td><td>$$1$$</td><td>A.</td><td>$$e^{-at}$$</td></tr>\n",
    "    <tr><td>2.</td><td>$$\\frac{1}{s}$$</td><td>B.</td><td>$$\\delta'(t)$$</td></tr>\n",
    "    <tr><td>3.</td><td>$$\\frac{1}{s+a}$$</td><td>C.</td><td>$$u_0(t)$$</td></tr>\n",
    "    <tr><td>4.</td><td>$$\\frac{\\omega}{(s + a)^2 + \\omega^2}$$</td><td>D.</td><td>$$e^{-at}\\cos\\omega t$$</td></tr>\n",
    "    <tr><td>5.</td><td>$$\\frac{s+a}{(s + a)^2 + \\omega^2}$$</td><td>E.</td><td>$$e^{-at}\\sin\\omega t$$</td></tr>\n",
    "    <tr><td>6.</td><td>$$s$$</td><td>F.</td><td>$$\\delta(t)$$</td></tr>\n",
    "</table>"
   ]
  },
  {
   "cell_type": "markdown",
   "metadata": {
    "slideshow": {
     "slide_type": "subslide"
    }
   },
   "source": [
    "## Fill in the blanks\n",
    "\n",
    "Complete this sentence:\n",
    "The [----] of a rational polynomial are the zeros of the numerator. The [----] of a rational polynomial are the zeros of the [-----]."
   ]
  },
  {
   "cell_type": "markdown",
   "metadata": {
    "slideshow": {
     "slide_type": "fragment"
    }
   },
   "source": [
    "#### -> Launch Poll"
   ]
  },
  {
   "cell_type": "markdown",
   "metadata": {
    "slideshow": {
     "slide_type": "subslide"
    }
   },
   "source": [
    "## Knowledge check\n",
    "\n",
    "Is there anything in this quiz that you think we should go over in more detail in class?"
   ]
  },
  {
   "cell_type": "markdown",
   "metadata": {
    "slideshow": {
     "slide_type": "fragment"
    }
   },
   "source": [
    "#### -> Launch Poll"
   ]
  },
  {
   "cell_type": "markdown",
   "metadata": {
    "slideshow": {
     "slide_type": "slide"
    }
   },
   "source": [
    "## The case of the distinct poles"
   ]
  },
  {
   "cell_type": "markdown",
   "metadata": {
    "slideshow": {
     "slide_type": "subslide"
    }
   },
   "source": [
    "### Example 1\n",
    "\n",
    "Use the PFE method to simplify $F_1(s)$ below and find the time domain function $f_1(t)$ corresponding to $F_1(s)$\n",
    "\n",
    "$$F_1(s) = \\frac{2s+5}{s^2 + 5s + 6}$$\n",
    "\n",
    "(Quick solution: [Wolfram Alpha](https://www.wolframalpha.com/input/?i=inverse+laplace+transform+%7B(2s+%2B+5)%2F(s%5E2+%2B+5s+%2B+6)%7D)"
   ]
  },
  {
   "cell_type": "markdown",
   "metadata": {
    "slideshow": {
     "slide_type": "notes"
    }
   },
   "source": [
    "<pre style=\"border: 2px solid blue\">\n",
    "\n",
    "\n",
    "\n",
    "\n",
    "\n",
    "\n",
    "\n",
    "\n",
    "\n",
    "\n",
    "\n",
    "\n",
    "\n",
    "\n",
    "\n",
    "\n",
    "\n",
    "\n",
    "</pre>"
   ]
  },
  {
   "cell_type": "markdown",
   "metadata": {
    "slideshow": {
     "slide_type": "subslide"
    }
   },
   "source": [
    "### Matlab Solution - Numerical"
   ]
  },
  {
   "cell_type": "code",
   "execution_count": null,
   "metadata": {
    "slideshow": {
     "slide_type": "subslide"
    }
   },
   "outputs": [],
   "source": [
    "format compact\n",
    "clear all"
   ]
  },
  {
   "cell_type": "code",
   "execution_count": null,
   "metadata": {
    "slideshow": {
     "slide_type": "subslide"
    }
   },
   "outputs": [],
   "source": [
    "Ns = [2, 5]; Ds = [1, 5, 6];\n",
    "[r,p,k] = residue(Ns, Ds)"
   ]
  },
  {
   "cell_type": "markdown",
   "metadata": {
    "slideshow": {
     "slide_type": "subslide"
    }
   },
   "source": [
    "Interpreted as:\n",
    "\n",
    "$$F_1(s) = \\frac{1}{s + 3} + \\frac{1}{s + 2}$$\n",
    "\n",
    "which because of the linearity property of the Laplace Transform and using tables results in the *Inverse Laplace Transform*\n",
    "\n",
    "$$f_1(t) = e^{-3t} + e^{-2t}$$"
   ]
  },
  {
   "cell_type": "markdown",
   "metadata": {
    "slideshow": {
     "slide_type": "subslide"
    }
   },
   "source": [
    "#### Matlab solution - symbolic"
   ]
  },
  {
   "cell_type": "code",
   "execution_count": null,
   "metadata": {
    "slideshow": {
     "slide_type": "fragment"
    }
   },
   "outputs": [],
   "source": [
    "syms s t;\n",
    "Fs = (2*s + 5)/(s^2 + 5*s + 6);\n",
    "ft = ilaplace(Fs);\n",
    "pretty(ft)"
   ]
  },
  {
   "cell_type": "markdown",
   "metadata": {
    "slideshow": {
     "slide_type": "slide"
    }
   },
   "source": [
    "### Example 2\n",
    "\n",
    "Determine the Inverse Laplace Transform of\n",
    "\n",
    "$$F_2(s) = \\frac{3s^2+2s+5}{s^3 + 9s^2 + 23s + 15}$$\n",
    "\n",
    "(Quick solution: [Wolfram Alpha](http://www.wolframalpha.com/input/?i=inverse+laplace+transform+%283s%5E2+%2B+2s+%2B+5%29%2F%28s%5E3+%2B+9s%5E2+%2B+23s+%2B+15%29))"
   ]
  },
  {
   "cell_type": "markdown",
   "metadata": {
    "slideshow": {
     "slide_type": "subslide"
    }
   },
   "source": [
    "#### Solution 2"
   ]
  },
  {
   "cell_type": "markdown",
   "metadata": {
    "slideshow": {
     "slide_type": "fragment"
    }
   },
   "source": [
    "Because the denominator of $F_2(s)$ is a cubic, it will be difficult to factorise without computer assistance so we use MATLAB to factorise $D(s)$"
   ]
  },
  {
   "cell_type": "code",
   "execution_count": null,
   "metadata": {
    "slideshow": {
     "slide_type": "subslide"
    }
   },
   "outputs": [],
   "source": [
    "syms s;\n",
    "factor(s^3 + 9*s^2 + 23*s + 15)"
   ]
  },
  {
   "cell_type": "markdown",
   "metadata": {
    "slideshow": {
     "slide_type": "notes"
    }
   },
   "source": [
    "In an exam you'd be given the factors"
   ]
  },
  {
   "cell_type": "markdown",
   "metadata": {
    "slideshow": {
     "slide_type": "notes"
    }
   },
   "source": [
    "<pre style=\"border: 2px solid blue\">\n",
    "\n",
    "\n",
    "\n",
    "\n",
    "\n",
    "\n",
    "\n",
    "\n",
    "\n",
    "\n",
    "\n",
    "\n",
    "\n",
    "\n",
    "\n",
    "\n",
    "\n",
    "\n",
    "</pre>"
   ]
  },
  {
   "cell_type": "markdown",
   "metadata": {
    "slideshow": {
     "slide_type": "subslide"
    }
   },
   "source": [
    "We can now use the previous technique to find the solution which according to Matlab should be\n",
    "\n",
    "$$f_1(t) = \\frac{3}{4}e^{-t} - \\frac{13}{2}e^{-3t} + \\frac{35}{4}e^{-5t}$$"
   ]
  },
  {
   "cell_type": "markdown",
   "metadata": {
    "slideshow": {
     "slide_type": "slide"
    }
   },
   "source": [
    "## The case of the complex poles\n",
    "\n",
    "Quite often the poles of $F(s)$ are complex and because the complex poles occur as complex conjugate pairs, the number of complex poles is even. Thus if $p_k$ is a complex root of $D(s)$ then its complex conjugate $p_k^*$ is also a root of $D(s)$."
   ]
  },
  {
   "cell_type": "markdown",
   "metadata": {
    "slideshow": {
     "slide_type": "subslide"
    }
   },
   "source": [
    "You can still use the PFE with complex poles, as demonstrated in Pages 3-5&mdash;3-7 in the textbook. However it is easier to use the fact that complex poles will appear as quadratic factors of the form $s^2 + as + b$ and then call on the two transforms in the PFE\n",
    "\n",
    "\n",
    "$$\\frac{\\omega}{(s - a)^2 + \\omega^2} \\Leftrightarrow e^{at}\\sin\\;\\omega t$$\n",
    "\n",
    "$$\\frac{s + a}{(s - a)^2 + \\omega^2} \\Leftrightarrow e^{at}\\cos\\;\\omega t$$"
   ]
  },
  {
   "cell_type": "markdown",
   "metadata": {
    "slideshow": {
     "slide_type": "slide"
    }
   },
   "source": [
    "### Example 3\n",
    "\n",
    "Rework Example 3-2 from the text book using quadratic factors.\n",
    "\n",
    "Find the Inverse Laplace Transform of \n",
    "\n",
    "$$F_3(s) = \\frac{s + 3}{(s+1)(s^2 + 4s + 8)}$$\n",
    "\n",
    "(Quick solution: [Wolfram Alpha](http://www.wolframalpha.com/input/?i=inverse+laplace+transform+%28s%2B3%29%2F%28%28s+%2B+1%29%28s%5E2+%2B+4s+%2B+8%29%29) &ndash; Shows that the computer is not always best!)"
   ]
  },
  {
   "cell_type": "markdown",
   "metadata": {
    "slideshow": {
     "slide_type": "subslide"
    }
   },
   "source": [
    "1. We complete the square in the denominator \n",
    "\n",
    "2. Then compare with the desired form $(s - a)^2 + \\omega^2$\n",
    "\n",
    "3. Solve this by finding the PFE for the assumed solution: $$F_3(s) = \\frac{r_1}{s+1} + \\frac{r_2(s - a)}{(s - a)^2 + \\omega^2} + \\frac{a r_3}{(s - a)^2 + \\omega^2}.  $$ expecting the solution $$f_3(t) = r_1 e^{-t} - r_2 e^{-at}\\cos \\omega t + r_3 e^{-at}\\sin \\omega t.$$\n",
    "\n",
    "You can use trig. identities to simplify this further if you wish."
   ]
  },
  {
   "cell_type": "markdown",
   "metadata": {
    "slideshow": {
     "slide_type": "subslide"
    }
   },
   "source": [
    "#### Solution 3"
   ]
  },
  {
   "cell_type": "markdown",
   "metadata": {
    "slideshow": {
     "slide_type": "notes"
    }
   },
   "source": [
    "<pre style=\"border: 2px solid blue\">\n",
    "\n",
    "\n",
    "\n",
    "\n",
    "\n",
    "\n",
    "\n",
    "\n",
    "\n",
    "\n",
    "\n",
    "\n",
    "\n",
    "\n",
    "\n",
    "\n",
    "\n",
    "\n",
    "</pre>"
   ]
  },
  {
   "cell_type": "markdown",
   "metadata": {
    "slideshow": {
     "slide_type": "slide"
    }
   },
   "source": [
    "## The case of the repeated poles\n",
    "\n",
    "When a rational polynomial has repeated poles \n",
    "\n",
    "$$F(s) = \\frac{N(s)}{(s - p_1)^m(s - p_2)\\cdots(s - p_{n-1})(s-p_0)}$$\n",
    "\n",
    "and the PFE will have the form:\n",
    "\n",
    "$$\\begin{array}{c}\n",
    "F(s) = \\frac{r_{11}}{(s - {p_1})^m} + \\frac{r_{12}}{(s - {p_1})^{m - 1}} + \\frac{r_{13}}{(s - {p_1})^{m - 2}} +  \\cdots  + \\frac{r_{1}}{(s - {p_1})}\\\\\n",
    " + \\frac{r_2}{(s - {p_2})} + \\frac{r_3}{(s - {p_3})} +  \\cdots  + \\frac{r_n}{(s - {p_n})}\n",
    "\\end{array}$$"
   ]
  },
  {
   "cell_type": "markdown",
   "metadata": {
    "slideshow": {
     "slide_type": "subslide"
    }
   },
   "source": [
    "The ordinary residues $r_k$ can be found using the rule used for distinct roots.\n",
    "\n",
    "To find the residuals for the repeated term $r_{1k}$ we need to multiply both sides of the expression by $(s+p_1)^m$ and take repeated derivatives as described in detail in Pages 3-7&mdash;3-9 of the text book. This yields the general formula\n",
    "\n",
    "$$r_{1k}=\\lim_{s\\to p_1}\\frac{1}{(k-1)!}\\frac{d^{k-1}}{ds^{k-1}}\\left[(s-p_1)^mF(s)\\right]$$\n",
    "\n",
    "which in the age of computers is rarely needed."
   ]
  },
  {
   "cell_type": "markdown",
   "metadata": {
    "slideshow": {
     "slide_type": "subslide"
    }
   },
   "source": [
    "### Example 4\n",
    "\n",
    "Find the inverse Laplace Transform of \n",
    "\n",
    "$$F_4(s) = \\frac{s+3}{(s+2)(s+1)^2}$$\n",
    "\n",
    "Note that the transform\n",
    "\n",
    "$$te^{at} \\Leftrightarrow \\frac{1}{(s - a)^2}$$\n",
    "\n",
    "will be useful.\n",
    "\n",
    "(Quick solution: [Wolfram Alpha](http://www.wolframalpha.com/input/?i=inverse+laplace+transform+%28s%2B3%29%2F%28%28s%2B2%29%28s+%2B+1%29%5E2%29))"
   ]
  },
  {
   "cell_type": "markdown",
   "metadata": {
    "slideshow": {
     "slide_type": "subslide"
    }
   },
   "source": [
    "#### Solution\n",
    "\n",
    "We will leave the solution that makes use of the residude of repeated poles formula for you to study from the text book. In class we will illustrate the slightly simpler approach also presented in the text. \n",
    "\n",
    "For exam preparation, I would recommend that you use whatever method you find most comfortable."
   ]
  },
  {
   "cell_type": "markdown",
   "metadata": {
    "slideshow": {
     "slide_type": "notes"
    }
   },
   "source": [
    "<pre style=\"border: 2px solid blue\">\n",
    "\n",
    "\n",
    "\n",
    "\n",
    "\n",
    "\n",
    "\n",
    "\n",
    "\n",
    "\n",
    "\n",
    "\n",
    "\n",
    "\n",
    "\n",
    "\n",
    "\n",
    "\n",
    "</pre>"
   ]
  },
  {
   "cell_type": "markdown",
   "metadata": {
    "slideshow": {
     "slide_type": "slide"
    }
   },
   "source": [
    "## The case of the improper rational polynomial\n",
    "\n",
    "If $F(s)$ is an improper rational polynomial, that is $m \\ge n$, we must first divide the numerator $N(s)$ by the denomonator $D(s)$ to derive an expression of the form\n",
    "\n",
    "$$F(s) = k_0 + k_1s + k_2s^2 + \\cdots + k_{m-n}s^{m-n} + \\frac{N(s)}{D(s)}$$\n",
    "\n",
    "and then $N(s)/D(s)$ will be a proper rational polynomial."
   ]
  },
  {
   "cell_type": "markdown",
   "metadata": {
    "slideshow": {
     "slide_type": "subslide"
    }
   },
   "source": [
    "### Example 5\n",
    "\n",
    "$$F_6(s)= \\frac{s^2 + 2s + 2}{s+1}$$\n",
    "\n",
    "(Quick solution: [Wolfram Alpha](http://www.wolframalpha.com/input/?i=inverse+laplace+transform+%28s%5E2+%2B+2s+%2B+2%29%2F%28s+%2B+1%29))"
   ]
  },
  {
   "cell_type": "markdown",
   "metadata": {
    "slideshow": {
     "slide_type": "subslide"
    }
   },
   "source": [
    "Dividing $s^2 + 2s + 2$ by $s + 1$ gives\n",
    "\n",
    "$$F_6(s) = s + 1 + \\frac{1}{s+1}$$"
   ]
  },
  {
   "cell_type": "markdown",
   "metadata": {
    "slideshow": {
     "slide_type": "subslide"
    }
   },
   "source": [
    "$$f_6(t) = e^{-t}+\\delta(t)+\\delta'(t)$$\n",
    "\n",
    "See [notes for proof](inverse_laplace)"
   ]
  },
  {
   "cell_type": "markdown",
   "metadata": {
    "slideshow": {
     "slide_type": "subslide"
    }
   },
   "source": [
    "#### Matlab verification"
   ]
  },
  {
   "cell_type": "code",
   "execution_count": null,
   "metadata": {
    "slideshow": {
     "slide_type": "subslide"
    }
   },
   "outputs": [],
   "source": [
    "Ns = [1, 2, 2]; Ds = [1 1];\n",
    "[r, p, k] = residue(Ns, Ds)"
   ]
  },
  {
   "cell_type": "code",
   "execution_count": null,
   "metadata": {
    "slideshow": {
     "slide_type": "subslide"
    }
   },
   "outputs": [],
   "source": [
    "syms s;\n",
    "F6 = (s^2 + 2*s + 2)/(s + 1);\n",
    "f6 = ilaplace(F6)"
   ]
  },
  {
   "cell_type": "markdown",
   "metadata": {
    "slideshow": {
     "slide_type": "slide"
    }
   },
   "source": [
    "## Matlab Solutions\n",
    "\n",
    "For convenience, single script MATLAB solutions to the examples are provided and can be downloaded from the accompanying [MATLAB](../matlab) folder.\n",
    "\n",
    "* Example 1 - Real poles [[ex3_1.m](../matlab/ex3_1.m)]\n",
    "* Example 2 - Real poles cubic denominator [[ex3_2.m](../matlab/ex_3_2.m)]\n",
    "* Example 3 - Complex poles [[ex3_3.m](../matlab/ex3_3.m)]\n",
    "* Example 4 - Repeated real poles [[ex3_4.m](../matlab/ex3_4.m)]\n",
    "* Example 5 - Non proper rational polynomial [[ex3_5.m](../matlab/ex3_5.m)]"
   ]
  },
  {
   "cell_type": "code",
   "execution_count": null,
   "metadata": {},
   "outputs": [],
   "source": [
    "cd ../matlab\n",
    "ls\n",
    "open ex3_1"
   ]
  }
 ],
 "metadata": {
  "celltoolbar": "Slideshow",
  "kernelspec": {
   "display_name": "Matlab",
   "language": "matlab",
   "name": "matlab"
  },
  "language_info": {
   "codemirror_mode": "octave",
   "file_extension": ".m",
   "help_links": [
    {
     "text": "MetaKernel Magics",
     "url": "https://metakernel.readthedocs.io/en/latest/source/README.html"
    }
   ],
   "mimetype": "text/x-octave",
   "name": "matlab",
   "version": "0.16.7"
  }
 },
 "nbformat": 4,
 "nbformat_minor": 2
}
