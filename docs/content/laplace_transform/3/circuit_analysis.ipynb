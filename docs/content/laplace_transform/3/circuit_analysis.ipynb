{
 "cells": [
  {
   "cell_type": "markdown",
   "metadata": {
    "slideshow": {
     "slide_type": "slide"
    }
   },
   "source": [
    "# Using Laplace Transforms for Circuit Analysis"
   ]
  },
  {
   "cell_type": "markdown",
   "metadata": {
    "slideshow": {
     "slide_type": "notes"
    }
   },
   "source": [
    "The preparatory reading for this section is [Chapter 4](https://ebookcentral.proquest.com/lib/swansea-ebooks/reader.action?docID=3384197&ppg=75#ppg=101) {% cite karris %} which presents examples of the applications of the Laplace transform for electrical solving circuit problems."
   ]
  },
  {
   "cell_type": "markdown",
   "metadata": {
    "slideshow": {
     "slide_type": "notes"
    }
   },
   "source": [
    "An annotatable copy of the notes for this presentation will be distributed before the third class meeting as **Worksheet 6** in the **Week 3: Classroom Activities** section of the Canvas site. I will also distribute a copy to your personal **Worksheets** section of the **OneNote Class Notebook** so that you can add your own notes using OneNote. \n",
    "\n",
    "You can also view the notes for this presentation as a webpage ([HTML](https://cpjobling.github.io/eg-247-textbook/laplace/3/circuit_analysis.html)) and as a downloadable [PDF file](hhttps://cpjobling.github.io/eg-247-textbook/laplace/3/circuit_analysis.pdf).\n",
    "\n",
    "After class, the lecture recording and the annotated version of the worksheets will be made available to you through Canvas."
   ]
  },
  {
   "cell_type": "markdown",
   "metadata": {
    "slideshow": {
     "slide_type": "slide"
    }
   },
   "source": [
    "## Agenda\n",
    "\n",
    "We look at applications of the Laplace Transform for\n"
   ]
  },
  {
   "cell_type": "markdown",
   "metadata": {
    "slideshow": {
     "slide_type": "fragment"
    }
   },
   "source": [
    "* Circuit transformation from Time to Complex Frequency"
   ]
  },
  {
   "cell_type": "markdown",
   "metadata": {
    "slideshow": {
     "slide_type": "fragment"
    }
   },
   "source": [
    "* Complex impedance"
   ]
  },
  {
   "cell_type": "markdown",
   "metadata": {
    "slideshow": {
     "slide_type": "fragment"
    }
   },
   "source": [
    "* Complex admittance"
   ]
  },
  {
   "cell_type": "markdown",
   "metadata": {
    "slideshow": {
     "slide_type": "slide"
    }
   },
   "source": [
    "## Circuit Transformation from Time to Complex Frequency"
   ]
  },
  {
   "cell_type": "markdown",
   "metadata": {
    "slideshow": {
     "slide_type": "subslide"
    }
   },
   "source": [
    "### Time Domain Model of a Resistive Network\n",
    "\n",
    "![Resistive Network: Time Domain](pictures/resistive_time.png)"
   ]
  },
  {
   "cell_type": "markdown",
   "metadata": {
    "slideshow": {
     "slide_type": "subslide"
    }
   },
   "source": [
    "###  Complex Frequency Domain Model of a Resistive Circuit\n",
    "\n",
    "![Resistive Network - Complex Frequency Domain](pictures/resistive_freq.png)"
   ]
  },
  {
   "cell_type": "markdown",
   "metadata": {
    "slideshow": {
     "slide_type": "subslide"
    }
   },
   "source": [
    "###  Time Domain Model of an Inductive Network\n",
    "\n",
    "![Inductive Network - Time Domain](pictures/inductive_time.png)\n"
   ]
  },
  {
   "cell_type": "markdown",
   "metadata": {
    "slideshow": {
     "slide_type": "subslide"
    }
   },
   "source": [
    "### Complex Frequency Domain Model of an Inductive Network \n",
    "\n",
    "![Inductive Network - Complex Frequency Domain](pictures/inductive_freq.png)"
   ]
  },
  {
   "cell_type": "markdown",
   "metadata": {
    "slideshow": {
     "slide_type": "subslide"
    }
   },
   "source": [
    "### Time Domain Model of a Capacitive Network\n",
    "\n",
    "![Capacitive Network - Time Domain](pictures/capacitive_time.png)\n"
   ]
  },
  {
   "cell_type": "markdown",
   "metadata": {
    "slideshow": {
     "slide_type": "subslide"
    }
   },
   "source": [
    "### Complex Frequency Domain of a Capacitive Network\n",
    "\n",
    "![Capacitive Network - Complex Frequency Domain](pictures/capacitive_freq.png)"
   ]
  },
  {
   "cell_type": "markdown",
   "metadata": {
    "slideshow": {
     "slide_type": "subslide"
    }
   },
   "source": [
    "### Examples\n",
    "\n",
    "We will work through these in class. See [worksheet6](worksheet6)."
   ]
  },
  {
   "cell_type": "markdown",
   "metadata": {
    "slideshow": {
     "slide_type": "slide"
    }
   },
   "source": [
    "## Complex Impedance $Z(s)$\n",
    "\n",
    "Consider the $s$-domain RLC series circuit, where the initial conditions are assumed to be zero.\n",
    "\n",
    "![Complex Impedance $Z(s)$](pictures/impedence.png)"
   ]
  },
  {
   "cell_type": "markdown",
   "metadata": {
    "slideshow": {
     "slide_type": "subslide"
    }
   },
   "source": [
    "For this circuit, the sum\n",
    "\n",
    "$$R + sL + \\frac{1}{sC}$$ \n",
    "\n",
    "represents that total opposition to current flow. Then,\n",
    "\n",
    "$$I(s) = \\frac{V_s(s)}{R + sL + 1/(sC)}$$"
   ]
  },
  {
   "cell_type": "markdown",
   "metadata": {
    "slideshow": {
     "slide_type": "subslide"
    }
   },
   "source": [
    "and defining the ratio $V_s(s)/I(s)$ as $Z(s)$, we obtain\n",
    "\n",
    "$$Z(s) = \\frac{V_s(s)}{I(s)} = R + sL + \\frac{1}{sC}$$"
   ]
  },
  {
   "cell_type": "markdown",
   "metadata": {
    "slideshow": {
     "slide_type": "subslide"
    }
   },
   "source": [
    "The $s$-domain current $I(s)$ can be found from \n",
    "\n",
    "$$I(s) = \\frac{V_s(s)}{Z(s)}$$\n",
    "\n",
    "where\n",
    "\n",
    "$$Z(s) = R + sL + \\frac{1}{sC}.$$"
   ]
  },
  {
   "cell_type": "markdown",
   "metadata": {
    "slideshow": {
     "slide_type": "subslide"
    }
   },
   "source": [
    "Since $s = \\sigma + j\\omega$ is a complex number, $Z(s)$ is also complex and is known as the *complex input impedance* of this RLC series circuit."
   ]
  },
  {
   "cell_type": "markdown",
   "metadata": {
    "slideshow": {
     "slide_type": "slide"
    }
   },
   "source": [
    "## Complex Admittance $Y(s)$\n",
    "\n",
    "Consider the $s$-domain GLC parallel circuit shown below where the initial conditions are zero.\n",
    "\n",
    "![Complex admittance $Y(s)$](pictures/admittance.png)"
   ]
  },
  {
   "cell_type": "markdown",
   "metadata": {
    "slideshow": {
     "slide_type": "subslide"
    }
   },
   "source": [
    "For this circuit\n",
    "\n",
    "$$GV(s)+ \\frac{1}{sL}V(s) + sCV(s) = I_s(s)$$\n",
    "\n",
    "$$\\left(G+ \\frac{1}{sL} + sC\\right)V(s) = I_s(s)$$"
   ]
  },
  {
   "cell_type": "markdown",
   "metadata": {
    "slideshow": {
     "slide_type": "subslide"
    }
   },
   "source": [
    "Defining the ratio $I_s(s)/V(s)$ as $Y(s)$ we obtain\n",
    "\n",
    "$$Y(s)=\\frac{I_s(s)}{V(s)} = G+ \\frac{1}{sL} + sC = \\frac{1}{Z(s)}$$"
   ]
  },
  {
   "cell_type": "markdown",
   "metadata": {
    "slideshow": {
     "slide_type": "subslide"
    }
   },
   "source": [
    "The $s$-domain voltage $V(s)$ can be found from \n",
    "\n",
    "$$V(s) = \\frac{I_s(s)}{Y(s)}$$\n",
    "\n",
    "where\n",
    "\n",
    "$$Y(s) = G + \\frac{1}{sL} + sC.$$"
   ]
  },
  {
   "cell_type": "markdown",
   "metadata": {
    "slideshow": {
     "slide_type": "subslide"
    }
   },
   "source": [
    "$Y(s)$ is complex and is known as the *complex input admittance* of this GLC parallel circuit.\n",
    "\n",
    "## Reference\n",
    "\n",
    "{% bibliography --cited %}"
   ]
  }
 ],
 "metadata": {
  "anaconda-cloud": {},
  "celltoolbar": "Slideshow",
  "kernelspec": {
   "display_name": "Matlab",
   "language": "matlab",
   "name": "matlab"
  },
  "language_info": {
   "codemirror_mode": "octave",
   "file_extension": ".m",
   "help_links": [
    {
     "text": "MetaKernel Magics",
     "url": "https://metakernel.readthedocs.io/en/latest/source/README.html"
    }
   ],
   "mimetype": "text/x-octave",
   "name": "matlab",
   "version": "0.16.7"
  }
 },
 "nbformat": 4,
 "nbformat_minor": 1
}
