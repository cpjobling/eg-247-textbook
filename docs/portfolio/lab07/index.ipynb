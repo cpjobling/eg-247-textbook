{
 "cells": [
  {
   "cell_type": "markdown",
   "metadata": {},
   "source": [
    "# Lab 7: Filters"
   ]
  },
  {
   "cell_type": "markdown",
   "metadata": {},
   "source": [
    "## Preamble\n",
    "\n",
    "### Other formats\n",
    "\n",
    "This document is available in [HTML](https://cpjobling.github.io/eg-247-textbook/labs/lab07/index) format for online viewing and as [PDF](https://cpjobling.github.io/eg-247-textbook/labs/lab07/lab07.pdf) for printing.\n",
    "\n",
    "### Acknowledgements\n",
    "\n",
    "This lab is based on [Filter Design Using Matlab Demo by David Dorran](http://dadorran.wordpress.com/2013/10/18/filter-design-using-matlab-demo/).\n",
    "\n",
    "There is a [YouTube video](http://www.youtube.com/watch?v=vfH5r4cKukg&amp;list=PLJ8LTUMGG9U4vAGind2_Bh4TUfgg1y0F4&amp;feature=share&amp;index=2) that illustrates what we are going to be using."
   ]
  },
  {
   "cell_type": "markdown",
   "metadata": {},
   "source": [
    "## Aims\n",
    "\n",
    "This optional lab exercise demonstrates the design and simulation of digital filters.\n",
    "I is not assessed, but you may find it useful preparation for the project."
   ]
  },
  {
   "cell_type": "markdown",
   "metadata": {},
   "source": [
    "## Setup\n",
    "\n",
    "### Before you start\n",
    "\n",
    "If you haven't already, create a suitable folder structure on your file-store for your labs. \n",
    "\n",
    "I suggest\n",
    "\n",
    "```\n",
    "P:\\workspace\n",
    "    signals-and-systems-lab\n",
    "\t    lab01\n",
    "\t\tlab02\n",
    "\t\tlab03\n",
    "        lab04\n",
    "        lab05\n",
    "        lab06\n",
    "        lab07\n",
    "        :\n",
    "```\n",
    "\n",
    "Use folder `p:\\workspace\\signals-and-systems-lab\\lab07` for this lab.\n",
    "\n",
    "### Preparation\n",
    "\n",
    "Download the example filter design script <a href=\"https://github.com/cpjobling/eg-247-textbook/blob/master/portfolio/lab07/filters.m\" title=\"filters.m\" target=\"_blank\">filters.m</a> from this repository. Save it to your folder for `lab07`.\n",
    "\n",
    "Open the script as a MATLAB Live Script and execute the embedded code step-by step and read and understand the commentary."
   ]
  },
  {
   "cell_type": "markdown",
   "metadata": {},
   "source": [
    "## Lab Exercise\n",
    "\n",
    "### Lab Exercise 15: Interactive Filter Design\n",
    "\n",
    "MATLAB provides a filter design tool with a graphical user interface called `fdatool`.\n",
    "\n",
    "We want you to use this tool to design and test a low-pass, band-pass and high-pass Butterworth filter with sampling frequency equal to 44.1 kHz. The filter should implement the first, second and third stage in a three-stage graphic equalizer with a low pass filter with a cut-off frequency of 31.5 Hz, a pass-band filter for the middle filter (f<sub>1</sub>  to f<sub>2</sub>) of about one octave and centre-frequency fc equal to 63 hz and a high-pass filter with pass-frequency of 125 Hz.  \n",
    "\n",
    "The aim of this exercise is to determine the order of the Butterworth filters to be used in your design and the Q factor needed (where  Q = f<sub>c</sub> / (f<sub>2</sub> – f<sub>1</sub>)) for the pass-band filters required to implement the mid-range of your 10-stage graphic equalizer.  \n",
    "\n",
    "The centre pass-band filter should be designed so that f<sub>2</sub> & f<sub>1</sub> satisfies f<sub>c</sub> = (f<sub>1</sub>f<sub>2</sub>)<sup>1/2</sup>.  Your goal is to find the ∆f value for this filter that achieves a flat frequency response when it is combined with equal weight to the low-pass and high-pass filters.  "
   ]
  }
 ],
 "metadata": {
  "kernelspec": {
   "display_name": "Matlab",
   "language": "matlab",
   "name": "matlab"
  },
  "language_info": {
   "codemirror_mode": "octave",
   "file_extension": ".m",
   "help_links": [
    {
     "text": "MetaKernel Magics",
     "url": "https://github.com/calysto/metakernel/blob/master/metakernel/magics/README.md"
    }
   ],
   "mimetype": "text/x-octave",
   "name": "matlab",
   "version": "0.16.1"
  }
 },
 "nbformat": 4,
 "nbformat_minor": 2
}
