{
 "cells": [
  {
   "cell_type": "markdown",
   "metadata": {
    "slideshow": {
     "slide_type": "slide"
    }
   },
   "source": [
    "# Sampling Theory"
   ]
  },
  {
   "cell_type": "markdown",
   "metadata": {
    "slideshow": {
     "slide_type": "skip"
    }
   },
   "source": [
    "## Colophon\n",
    "\n",
    "* The source code for this page is [dt_systems/1/sampling.ipynb](https://github.com/cpjobling/eg-247-textbook/blob/master/dt_systems/1/sampling.ipynb).\n",
    "\n",
    "* You can view the notes for this presentation as a webpage ([HTML](https://cpjobling.github.io/eg-247-textbook/dt_systems/1/sampling.html)). \n",
    "\n",
    "* This page is downloadable as a [PDF](https://cpjobling.github.io/eg-247-textbook/dt_systems/1/sampling.pdf) file."
   ]
  },
  {
   "cell_type": "markdown",
   "metadata": {
    "slideshow": {
     "slide_type": "skip"
    }
   },
   "source": [
    "## Scope and Background Reading\n",
    "\n",
    "This session is an introduction to sampling theory. It reviews the important ideas that pertain to sampling but leaves the detailed mathematics for your further study.\n",
    "\n",
    "The material in this presentation and notes is based on Chapter 15 of {cite}`boulet` from the **Recommended Reading List** and you'll find the mathematical treatments there. There is much more detail in [Chapter 9](https://ebookcentral.proquest.com/lib/swansea-ebooks/reader.action?docID=3384197&ppg=329) of {cite}`karris` from the **Required Reading List**."
   ]
  },
  {
   "cell_type": "markdown",
   "metadata": {
    "slideshow": {
     "slide_type": "slide"
    }
   },
   "source": [
    "## Agenda"
   ]
  },
  {
   "cell_type": "markdown",
   "metadata": {
    "slideshow": {
     "slide_type": "fragment"
    }
   },
   "source": [
    "* Sampling of Continuous-Time Signals"
   ]
  },
  {
   "cell_type": "markdown",
   "metadata": {
    "slideshow": {
     "slide_type": "fragment"
    }
   },
   "source": [
    "* Signal Reconstruction"
   ]
  },
  {
   "cell_type": "markdown",
   "metadata": {
    "slideshow": {
     "slide_type": "fragment"
    }
   },
   "source": [
    "* Discrete-time Processing of Continuous-Time Signals"
   ]
  },
  {
   "cell_type": "markdown",
   "metadata": {
    "slideshow": {
     "slide_type": "fragment"
    }
   },
   "source": [
    "* Sampling of Discrete-Time Systems"
   ]
  },
  {
   "cell_type": "markdown",
   "metadata": {
    "slideshow": {
     "slide_type": "skip"
    }
   },
   "source": [
    "## Acknowledgements\n",
    "\n",
    "We will be using an adaptation of a pair of demo scripts to illustrate *alialising*. These scripts were published by Prof. Charles A. Bouman, School of Electrical and Computer Engineering, Purdue University as part of the course materials for [ECE438: Digital Signal Processing](https://engineering.purdue.edu/VISE/ee438/demos/)."
   ]
  },
  {
   "cell_type": "markdown",
   "metadata": {
    "slideshow": {
     "slide_type": "slide"
    }
   },
   "source": [
    "## Introduction\n",
    "\n",
    "* The *sampling process* provides the bridge between continuous-time (CT) and discrete-time (DT) signals\n",
    "* Sampling records discrete values of a CT signal at periodic instants of time.\n",
    "* Sampled data can be used in *real-time* or *off-line* processing\n",
    "* Sampling opens up possibility of processing CT signals through *finite impulse response* (FIR) and *infinite impulse response* (IIR) filters."
   ]
  },
  {
   "cell_type": "markdown",
   "metadata": {
    "slideshow": {
     "slide_type": "subslide"
    }
   },
   "source": [
    "### In Class Demo 1: Sampling\n",
    "\n",
    "I need a volunteer to provide a sound sample ....\n",
    "\n",
    "1. I will use this [Live Script](https://uk.mathworks.com/help/matlab/matlab_prog/what-is-a-live-script-or-function.html) [sampling_demo.mlx](https://cpjobling.github.io/eg-247-textbook/dt_systems/1/matlab/sampling_demo.mlx) to sample your voice.\n",
    "2. I will then playback the recording.\n",
    "3. I will the plot the data."
   ]
  },
  {
   "cell_type": "code",
   "execution_count": 59,
   "metadata": {
    "slideshow": {
     "slide_type": "subslide"
    }
   },
   "outputs": [
    {
     "name": "stdout",
     "output_type": "stream",
     "text": [
      "Error using cd\n",
      "Cannot CD to /Users/eechris/code/src/github.com/cpjobling/eg-247-textbook/dt_systems/1/matlab/matlab (Name is nonexistent or not a directory).\n"
     ]
    }
   ],
   "source": [
    "clear all\n",
    "cd matlab\n",
    "open sampling_demo"
   ]
  },
  {
   "cell_type": "markdown",
   "metadata": {
    "slideshow": {
     "slide_type": "subslide"
    }
   },
   "source": [
    "#### Technical Details\n",
    "\n",
    "* **Sampling rate**: 8000 samples per second (fs = 8 kHz)\n",
    "* **Resolution**: 8 bits per sample\n",
    "* **Channels**: 1 channel. \n",
    "* **Reconstruction**: Matlab plays the audio back at 8192 samples per second.\n"
   ]
  },
  {
   "cell_type": "markdown",
   "metadata": {
    "slideshow": {
     "slide_type": "subslide"
    }
   },
   "source": [
    "#### Question\n",
    "\n",
    "What will the bit-rate be for playback?"
   ]
  },
  {
   "cell_type": "markdown",
   "metadata": {
    "slideshow": {
     "slide_type": "notes"
    }
   },
   "source": [
    "<pre style=\"border: 2px solid blue\">\n",
    "\n",
    "\n",
    "\n",
    "\n",
    "\n",
    "</pre>"
   ]
  },
  {
   "cell_type": "markdown",
   "metadata": {
    "slideshow": {
     "slide_type": "slide"
    }
   },
   "source": [
    "## Sampling CT Signals"
   ]
  },
  {
   "cell_type": "markdown",
   "metadata": {
    "slideshow": {
     "slide_type": "notes"
    }
   },
   "source": [
    "What is going on here?"
   ]
  },
  {
   "cell_type": "markdown",
   "metadata": {
    "slideshow": {
     "slide_type": "subslide"
    }
   },
   "source": [
    "### Time domain\n",
    "\n",
    "Sampling can be modelled as the multiplication of a continuous-time signal by a sequence of periodic impulses as illustrated here.\n",
    "\n",
    "![Time domain view of sampling](./pictures/sampling.png)\n",
    "\n",
    "This is a form of **modulation**\n",
    "\n",
    "$T_s$ is the period of the periodic sampling function."
   ]
  },
  {
   "cell_type": "markdown",
   "metadata": {
    "slideshow": {
     "slide_type": "subslide"
    }
   },
   "source": [
    "### Frequency domain\n",
    "\n",
    "Multiplication in the time domain is *convolution* in the frequency domain\n",
    "\n",
    "![Frequency domain view of sampling](./pictures/sampling_fr.png)\n",
    "\n",
    "$\\omega_s$ is the frequency of the periodic sampling function = $2\\pi/T_s$."
   ]
  },
  {
   "cell_type": "markdown",
   "metadata": {
    "slideshow": {
     "slide_type": "subslide"
    }
   },
   "source": [
    "### The Mathematics\n",
    "\n",
    "**The Sampled signal**:\n",
    "\n",
    "$${x_s}(t) = \\sum\\limits_{k =  - \\infty }^{ + \\infty } {x(k{T_s})\\delta (t - k{T_s})} $$"
   ]
  },
  {
   "cell_type": "markdown",
   "metadata": {
    "slideshow": {
     "slide_type": "fragment"
    }
   },
   "source": [
    "**Frequency convolution**:\n",
    "\n",
    "$$\n",
    "  {X_s}(\\omega ) = \\frac{1}{T_s}\\int_{ - \\infty }^{ + \\infty } {X(\\upsilon )} \\sum\\limits_{k =  - \\infty }^{ + \\infty } {\\delta (t - \\upsilon  - k{\\omega _s})} \\,d\\upsilon\n",
    "$$"
   ]
  },
  {
   "cell_type": "markdown",
   "metadata": {
    "slideshow": {
     "slide_type": "subslide"
    }
   },
   "source": [
    "**Sampling property**:\n",
    "\n",
    "$${X_s}(\\omega ) = \\frac{1}{T_s}\\int_{ - \\infty }^{ + \\infty } {\\sum\\limits_{k =  - \\infty }^{ + \\infty } {X(\\omega  - k{\\omega _s})} } \\delta (t - \\upsilon  - k{\\omega _s})\\,d\\upsilon $$"
   ]
  },
  {
   "cell_type": "markdown",
   "metadata": {
    "slideshow": {
     "slide_type": "fragment"
    }
   },
   "source": [
    "**Sifting property**:\n",
    "\n",
    "$${X_s}(\\omega ) = \\frac{1}{T_s}\\sum\\limits_{n =  - \\infty }^{ + \\infty } {X(\\omega  - k{\\omega _s})}$$"
   ]
  },
  {
   "cell_type": "markdown",
   "metadata": {
    "slideshow": {
     "slide_type": "slide"
    }
   },
   "source": [
    "### Nyquist-Shannon Sampling Theorem\n",
    "\n",
    "Gives a sufficient condition to recover a continuous time signal from its samples $x(nT_s)$, $n$ is an integer."
   ]
  },
  {
   "cell_type": "markdown",
   "metadata": {
    "slideshow": {
     "slide_type": "subslide"
    }
   },
   "source": [
    "**Sampling Theoreom**\n",
    "\n",
    "Let $x(t)$ be a band-limited signal with $X(\\omega) = 0$ for $|\\omega|>\\omega_M$.\n",
    "\n",
    "Then $x(t)$ is uniquely determined by its samples $x(nT_s)$, $-\\infty <n < +\\infty$ if\n",
    "\n",
    "$$\\omega_s > 2\\omega_M,$$\n",
    "\n",
    "where $\\omega_s = 2\\pi/T_s$ is the sampling frequency."
   ]
  },
  {
   "cell_type": "markdown",
   "metadata": {
    "slideshow": {
     "slide_type": "subslide"
    }
   },
   "source": [
    "### Recovery of signal by filtering\n",
    "\n",
    "![Recovery of signal by filtering](pictures/recovery.png)"
   ]
  },
  {
   "cell_type": "markdown",
   "metadata": {
    "slideshow": {
     "slide_type": "subslide"
    }
   },
   "source": [
    "### Recovered signal\n",
    "\n",
    "![Recovered signal](./pictures/recovered.png)"
   ]
  },
  {
   "cell_type": "markdown",
   "metadata": {
    "slideshow": {
     "slide_type": "subslide"
    }
   },
   "source": [
    "### Ideal Lowpass Filter for CT Recovery from DT Sampled Signal\n",
    "\n",
    "![Ideal Lowpass Filter for CT Recovery from DT Sampled Signal](./pictures/recover-lp.png)\n",
    "\n",
    "This is of course theoretical only!\n"
   ]
  },
  {
   "cell_type": "markdown",
   "metadata": {
    "slideshow": {
     "slide_type": "subslide"
    }
   },
   "source": [
    "### Sample-and-hold\n",
    "\n",
    "![Sample and hold](./pictures/sandh.png)"
   ]
  },
  {
   "cell_type": "markdown",
   "metadata": {
    "slideshow": {
     "slide_type": "subslide"
    }
   },
   "source": [
    "### Sample-and-hold operator\n",
    "\n",
    "![Sample-and-hold operator](./pictures/zoh.png)"
   ]
  },
  {
   "cell_type": "markdown",
   "metadata": {
    "slideshow": {
     "slide_type": "slide"
    }
   },
   "source": [
    "### In Class Demo 2 "
   ]
  },
  {
   "cell_type": "markdown",
   "metadata": {
    "slideshow": {
     "slide_type": "fragment"
    }
   },
   "source": [
    "#### Illustrating Sampling in MATLAB"
   ]
  },
  {
   "cell_type": "markdown",
   "metadata": {
    "slideshow": {
     "slide_type": "fragment"
    }
   },
   "source": [
    "Basic set up"
   ]
  },
  {
   "cell_type": "code",
   "execution_count": 60,
   "metadata": {
    "slideshow": {
     "slide_type": "skip"
    }
   },
   "outputs": [],
   "source": [
    "clear all\n",
    "imatlab_export_fig('print-svg')  % Static svg figures.\n",
    "format compact"
   ]
  },
  {
   "cell_type": "code",
   "execution_count": 61,
   "metadata": {
    "slideshow": {
     "slide_type": "fragment"
    }
   },
   "outputs": [],
   "source": [
    "w0 = 1;        % fundamental frequency rad/s\n",
    "t0=2*pi/w0;    % period s\n",
    "tmax = 1.5*t0; % plottable range"
   ]
  },
  {
   "cell_type": "markdown",
   "metadata": {
    "slideshow": {
     "slide_type": "subslide"
    }
   },
   "source": [
    "#### Define a suitable signal\n",
    "We will use a system with an underdamped second-order response.\n",
    "\n",
    "The transfer function is:\n",
    "$$H(s) = \\frac{\\omega_0^2}{s^2 + 2\\zeta\\omega_0 s + \\omega_0^2}$$\n"
   ]
  },
  {
   "cell_type": "code",
   "execution_count": 62,
   "metadata": {
    "slideshow": {
     "slide_type": "fragment"
    }
   },
   "outputs": [
    {
     "name": "stdout",
     "output_type": "stream",
     "text": [
      "H =\n",
      "1/(s^2 + (3*s)/5 + 1)\n"
     ]
    }
   ],
   "source": [
    "syms s t\n",
    "zeta = 0.3;\n",
    "H = w0^2/(s^2 + 2*zeta*w0*s + w0^2)"
   ]
  },
  {
   "cell_type": "markdown",
   "metadata": {
    "slideshow": {
     "slide_type": "subslide"
    }
   },
   "source": [
    "#### Calculate and plot the impulse response"
   ]
  },
  {
   "cell_type": "code",
   "execution_count": 63,
   "metadata": {
    "slideshow": {
     "slide_type": "fragment"
    }
   },
   "outputs": [
    {
     "name": "stdout",
     "output_type": "stream",
     "text": [
      "h =\n",
      "(10*91^(1/2)*exp(-(3*t)/10)*sin((91^(1/2)*t)/10))/91\n"
     ]
    }
   ],
   "source": [
    "h = ilaplace(H)"
   ]
  },
  {
   "cell_type": "code",
   "execution_count": 64,
   "metadata": {
    "slideshow": {
     "slide_type": "subslide"
    }
   },
   "outputs": [],
   "source": [
    "t = linspace(0,tmax,100);\n",
    "xc = eval(h); % eval evaluates a symbolic expression as a MATLAB command.\n",
    "tc = t;"
   ]
  },
  {
   "cell_type": "code",
   "execution_count": 65,
   "metadata": {
    "slideshow": {
     "slide_type": "subslide"
    }
   },
   "outputs": [
    {
     "data": {
      "image/svg+xml": [
       "<?xml version=\"1.0\"?>\n",
       "<!DOCTYPE svg PUBLIC '-//W3C//DTD SVG 1.0//EN'\n",
       "          'http://www.w3.org/TR/2001/REC-SVG-20010904/DTD/svg10.dtd'>\n",
       "<svg xmlns:xlink=\"http://www.w3.org/1999/xlink\" style=\"fill-opacity:1; color-rendering:auto; color-interpolation:auto; text-rendering:auto; stroke:black; stroke-linecap:square; stroke-miterlimit:10; shape-rendering:auto; stroke-opacity:1; fill:black; stroke-dasharray:none; font-weight:normal; stroke-width:1; font-family:'Dialog'; font-style:normal; stroke-linejoin:miter; font-size:12px; stroke-dashoffset:0; image-rendering:auto;\" width=\"560\" height=\"420\" xmlns=\"http://www.w3.org/2000/svg\"\n",
       "><!--Generated by the Batik Graphics2D SVG Generator--><defs id=\"genericDefs\"\n",
       "  /><g\n",
       "  ><defs id=\"defs1\"\n",
       "    ><clipPath clipPathUnits=\"userSpaceOnUse\" id=\"clipPath1\"\n",
       "      ><path d=\"M0 0 L560 0 L560 420 L0 420 L0 0 Z\"\n",
       "      /></clipPath\n",
       "      ><font horiz-adv-x=\"50.0\" id=\"font1\"\n",
       "      ><font-face ascent=\"95.200005\" descent=\"21.3\" units-per-em=\"100\" style=\"font-style:normal; font-family:Helvetica Neue; font-weight:normal;\"\n",
       "        /><missing-glyph horiz-adv-x=\"50.0\" d=\"M40.9 66.6 L10.2 66.6 L10.2 4.7 L40.9 4.7 ZM46 71.2 L46 0.1 L5.1 0.1 L5.1 71.2 Z\"\n",
       "        /><glyph unicode=\"0\" horiz-adv-x=\"55.6\" d=\"M13.2 34.9 Q13.2 37.5 13.25 40.65 Q13.3 43.8 13.75 46.95 Q14.2 50.1 15.05 53.1 Q15.9 56.1 17.55 58.35 Q19.2 60.6 21.7 62 Q24.2 63.4 27.8 63.4 Q31.4 63.4 33.9 62 Q36.4 60.6 38.05 58.35 Q39.7 56.1 40.55 53.1 Q41.4 50.1 41.85 46.95 Q42.3 43.8 42.35 40.65 Q42.4 37.5 42.4 34.9 Q42.4 30.9 42.15 25.95 Q41.9 21 40.55 16.65 Q39.2 12.3 36.2 9.3 Q33.2 6.3 27.8 6.3 Q22.4 6.3 19.4 9.3 Q16.4 12.3 15.05 16.65 Q13.7 21 13.45 25.95 Q13.2 30.9 13.2 34.9 ZM4.2 34.8 Q4.2 30.9 4.4 26.7 Q4.6 22.5 5.4 18.5 Q6.2 14.5 7.7 10.95 Q9.2 7.4 11.8 4.7 Q14.4 2 18.35 0.45 Q22.3 -1.1 27.8 -1.1 Q33.4 -1.1 37.3 0.45 Q41.2 2 43.8 4.7 Q46.4 7.4 47.9 10.95 Q49.4 14.5 50.2 18.5 Q51 22.5 51.2 26.7 Q51.4 30.9 51.4 34.8 Q51.4 38.7 51.2 42.9 Q51 47.1 50.2 51.1 Q49.4 55.1 47.9 58.7 Q46.4 62.3 43.8 65 Q41.2 67.7 37.25 69.3 Q33.3 70.9 27.8 70.9 Q22.3 70.9 18.35 69.3 Q14.4 67.7 11.8 65 Q9.2 62.3 7.7 58.7 Q6.2 55.1 5.4 51.1 Q4.6 47.1 4.4 42.9 Q4.2 38.7 4.2 34.8 Z\"\n",
       "        /><glyph unicode=\"2\" horiz-adv-x=\"55.6\" d=\"M4.4 45.8 L12.9 45.8 Q12.8 49 13.55 52.15 Q14.3 55.3 16 57.8 Q17.7 60.3 20.35 61.85 Q23 63.4 26.7 63.4 Q29.5 63.4 32 62.5 Q34.5 61.6 36.35 59.9 Q38.2 58.2 39.3 55.85 Q40.4 53.5 40.4 50.6 Q40.4 46.9 39.25 44.1 Q38.1 41.3 35.85 38.9 Q33.6 36.5 30.2 34.15 Q26.8 31.8 22.3 29 Q18.6 26.8 15.2 24.3 Q11.8 21.8 9.1 18.5 Q6.4 15.2 4.65 10.75 Q2.9 6.3 2.4 0 L48.7 0 L48.7 7.5 L12.3 7.5 Q12.9 10.8 14.85 13.35 Q16.8 15.9 19.55 18.1 Q22.3 20.3 25.6 22.25 Q28.9 24.2 32.2 26.2 Q35.5 28.3 38.6 30.6 Q41.7 32.9 44.1 35.75 Q46.5 38.6 47.95 42.2 Q49.4 45.8 49.4 50.5 Q49.4 55.5 47.65 59.3 Q45.9 63.1 42.9 65.65 Q39.9 68.2 35.85 69.55 Q31.8 70.9 27.2 70.9 Q21.6 70.9 17.2 69 Q12.8 67.1 9.85 63.75 Q6.9 60.4 5.5 55.8 Q4.1 51.2 4.4 45.8 Z\"\n",
       "        /><glyph unicode=\"4\" horiz-adv-x=\"55.6\" d=\"M33.9 24.1 L10.1 24.1 L33.7 58.8 L33.9 58.8 ZM41.9 24.1 L41.9 70.9 L35.1 70.9 L2.8 24.8 L2.8 16.6 L33.9 16.6 L33.9 0 L41.9 0 L41.9 16.6 L51.5 16.6 L51.5 24.1 Z\"\n",
       "        /><glyph unicode=\"6\" horiz-adv-x=\"55.6\" d=\"M41.4 52.8 L49.9 52.8 Q49.1 61.6 43.9 66.25 Q38.7 70.9 29.9 70.9 Q22.3 70.9 17.3 67.7 Q12.3 64.5 9.3 59.2 Q6.3 53.9 5.05 47.05 Q3.8 40.2 3.8 32.9 Q3.8 27.3 4.65 21.3 Q5.5 15.3 8.1 10.3 Q10.7 5.3 15.5 2.1 Q20.3 -1.1 28.2 -1.1 Q34.9 -1.1 39.45 1.15 Q44 3.4 46.75 6.85 Q49.5 10.3 50.7 14.5 Q51.9 18.7 51.9 22.6 Q51.9 27.5 50.4 31.7 Q48.9 35.9 46.15 39 Q43.4 42.1 39.35 43.85 Q35.3 45.6 30.2 45.6 Q24.4 45.6 19.95 43.4 Q15.5 41.2 12.5 36.3 L12.3 36.5 Q12.4 40.6 13.1 45.3 Q13.8 50 15.65 54.05 Q17.5 58.1 20.8 60.75 Q24.1 63.4 29.5 63.4 Q34.6 63.4 37.7 60.5 Q40.8 57.6 41.4 52.8 ZM28.6 38.1 Q32.2 38.1 34.9 36.8 Q37.6 35.5 39.4 33.35 Q41.2 31.2 42.05 28.25 Q42.9 25.3 42.9 22 Q42.9 18.9 41.95 16.05 Q41 13.2 39.2 11 Q37.4 8.8 34.75 7.55 Q32.1 6.3 28.6 6.3 Q25.1 6.3 22.35 7.55 Q19.6 8.8 17.75 10.9 Q15.9 13 14.9 15.9 Q13.9 18.8 13.9 22.1 Q13.9 25.4 14.85 28.35 Q15.8 31.3 17.7 33.45 Q19.6 35.6 22.3 36.85 Q25 38.1 28.6 38.1 Z\"\n",
       "        /><glyph unicode=\"8\" horiz-adv-x=\"55.6\" d=\"M15.5 52.5 Q15.5 55.2 16.5 57.2 Q17.5 59.2 19.15 60.6 Q20.8 62 23.1 62.7 Q25.4 63.4 27.9 63.4 Q33.1 63.4 36.45 60.65 Q39.8 57.9 39.8 52.5 Q39.8 47.1 36.5 44.1 Q33.2 41.1 28.1 41.1 Q25.5 41.1 23.2 41.8 Q20.9 42.5 19.2 43.9 Q17.5 45.3 16.5 47.45 Q15.5 49.6 15.5 52.5 ZM6.5 52.8 Q6.5 48 9.2 43.95 Q11.9 39.9 16.4 38.1 Q10.4 36 7.2 31.35 Q4 26.7 4 20.4 Q4 15 5.85 10.95 Q7.7 6.9 10.95 4.2 Q14.2 1.5 18.6 0.2 Q23 -1.1 28.1 -1.1 Q33 -1.1 37.3 0.3 Q41.6 1.7 44.75 4.45 Q47.9 7.2 49.75 11.2 Q51.6 15.2 51.6 20.4 Q51.6 27 48.5 31.55 Q45.4 36.1 39 38.1 Q43.5 40.1 46.15 44.05 Q48.8 48 48.8 52.8 Q48.8 56.2 47.6 59.45 Q46.4 62.7 43.85 65.25 Q41.3 67.8 37.2 69.35 Q33.1 70.9 27.3 70.9 Q23.2 70.9 19.45 69.7 Q15.7 68.5 12.8 66.2 Q9.9 63.9 8.2 60.55 Q6.5 57.2 6.5 52.8 ZM13 20 Q13 23.1 14.15 25.6 Q15.3 28.1 17.35 29.9 Q19.4 31.7 22.15 32.65 Q24.9 33.6 28 33.6 Q31 33.6 33.65 32.55 Q36.3 31.5 38.3 29.7 Q40.3 27.9 41.45 25.45 Q42.6 23 42.6 20.1 Q42.6 17.1 41.55 14.6 Q40.5 12.1 38.55 10.25 Q36.6 8.4 33.95 7.35 Q31.3 6.3 28.1 6.3 Q21.5 6.3 17.25 9.95 Q13 13.6 13 20 Z\"\n",
       "        /><glyph unicode=\"1\" horiz-adv-x=\"55.6\" d=\"M35.6 0 L35.6 70.9 L29.1 70.9 Q28.4 66.9 26.5 64.3 Q24.6 61.7 21.85 60.2 Q19.1 58.7 15.7 58.15 Q12.3 57.6 8.7 57.6 L8.7 50.8 L27.1 50.8 L27.1 0 Z\"\n",
       "        /><glyph unicode=\"]\" horiz-adv-x=\"25.9\" d=\"M0 -12.9 L0 -19.7 L18.7 -19.7 L18.7 73.1 L0 73.1 L0 66.3 L10.7 66.3 L10.7 -12.9 Z\"\n",
       "        /><glyph unicode=\"s\" horiz-adv-x=\"50.0\" d=\"M11.6 16.3 L3.1 16.3 Q3.3 11.5 5.1 8.15 Q6.9 4.8 9.9 2.75 Q12.9 0.7 16.8 -0.2 Q20.7 -1.1 25 -1.1 Q28.9 -1.1 32.85 -0.35 Q36.8 0.4 39.95 2.3 Q43.1 4.2 45.05 7.3 Q47 10.4 47 15.1 Q47 18.8 45.55 21.3 Q44.1 23.8 41.75 25.45 Q39.4 27.1 36.35 28.1 Q33.3 29.1 30.1 29.8 Q27.1 30.5 24.1 31.15 Q21.1 31.8 18.7 32.75 Q16.3 33.7 14.75 35.15 Q13.2 36.6 13.2 38.8 Q13.2 40.8 14.2 42.05 Q15.2 43.3 16.8 44.05 Q18.4 44.8 20.35 45.1 Q22.3 45.4 24.2 45.4 Q26.3 45.4 28.35 44.95 Q30.4 44.5 32.1 43.5 Q33.8 42.5 34.9 40.85 Q36 39.2 36.2 36.7 L44.7 36.7 Q44.4 41.4 42.7 44.55 Q41 47.7 38.15 49.55 Q35.3 51.4 31.6 52.15 Q27.9 52.9 23.5 52.9 Q20.1 52.9 16.65 52.05 Q13.2 51.2 10.45 49.45 Q7.7 47.7 5.95 44.9 Q4.2 42.1 4.2 38.2 Q4.2 33.2 6.7 30.4 Q9.2 27.6 12.95 26.05 Q16.7 24.5 21.1 23.65 Q25.5 22.8 29.25 21.75 Q33 20.7 35.5 19 Q38 17.3 38 14 Q38 11.6 36.8 10.05 Q35.6 8.5 33.75 7.7 Q31.9 6.9 29.7 6.6 Q27.5 6.3 25.5 6.3 Q22.9 6.3 20.45 6.8 Q18 7.3 16.05 8.45 Q14.1 9.6 12.9 11.55 Q11.7 13.5 11.6 16.3 Z\"\n",
       "        /><glyph unicode=\"[\" horiz-adv-x=\"25.9\" d=\"M25.9 66.3 L25.9 73.1 L7.2 73.1 L7.2 -19.7 L25.9 -19.7 L25.9 -12.9 L15.2 -12.9 L15.2 66.3 Z\"\n",
       "        /><glyph unicode=\"t\" horiz-adv-x=\"31.5\" d=\"M18.2 51.7 L18.2 67.2 L9.7 67.2 L9.7 51.7 L0.9 51.7 L0.9 44.2 L9.7 44.2 L9.7 11.3 Q9.7 7.7 10.4 5.5 Q11.1 3.3 12.55 2.1 Q14 0.9 16.35 0.45 Q18.7 0 22 0 L28.5 0 L28.5 7.5 L24.6 7.5 Q22.6 7.5 21.35 7.65 Q20.1 7.8 19.4 8.3 Q18.7 8.8 18.45 9.7 Q18.2 10.6 18.2 12.1 L18.2 44.2 L28.5 44.2 L28.5 51.7 Z\"\n",
       "        /><glyph unicode=\" \" horiz-adv-x=\"27.8\" d=\"\"\n",
       "        /><glyph unicode=\"e\" horiz-adv-x=\"53.7\" d=\"M42.3 30.8 L12.6 30.8 Q12.8 33.8 13.9 36.45 Q15 39.1 16.9 41.1 Q18.8 43.1 21.45 44.25 Q24.1 45.4 27.4 45.4 Q30.6 45.4 33.25 44.25 Q35.9 43.1 37.85 41.15 Q39.8 39.2 40.95 36.5 Q42.1 33.8 42.3 30.8 ZM50.5 16.4 L42.1 16.4 Q41 11.3 37.55 8.8 Q34.1 6.3 28.7 6.3 Q24.5 6.3 21.4 7.7 Q18.3 9.1 16.3 11.45 Q14.3 13.8 13.4 16.85 Q12.5 19.9 12.6 23.3 L51.3 23.3 Q51.5 28 50.45 33.2 Q49.4 38.4 46.65 42.8 Q43.9 47.2 39.35 50.05 Q34.8 52.9 27.9 52.9 Q22.6 52.9 18.15 50.9 Q13.7 48.9 10.45 45.3 Q7.2 41.7 5.4 36.8 Q3.6 31.9 3.6 26 Q3.8 20.1 5.35 15.1 Q6.9 10.1 10 6.5 Q13.1 2.9 17.65 0.9 Q22.2 -1.1 28.4 -1.1 Q37.2 -1.1 43 3.3 Q48.8 7.7 50.5 16.4 Z\"\n",
       "        /><glyph unicode=\"m\" horiz-adv-x=\"85.3\" d=\"M6.4 51.7 L6.4 0 L14.9 0 L14.9 32.2 Q14.9 33.7 15.65 35.95 Q16.4 38.2 18.05 40.3 Q19.7 42.4 22.35 43.9 Q25 45.4 28.7 45.4 Q31.6 45.4 33.45 44.55 Q35.3 43.7 36.4 42.15 Q37.5 40.6 37.95 38.5 Q38.4 36.4 38.4 33.9 L38.4 0 L46.9 0 L46.9 32.2 Q46.9 38.2 50.5 41.8 Q54.1 45.4 60.4 45.4 Q63.5 45.4 65.45 44.5 Q67.4 43.6 68.5 42.05 Q69.6 40.5 70 38.4 Q70.4 36.3 70.4 33.9 L70.4 0 L78.9 0 L78.9 37.9 Q78.9 41.9 77.65 44.75 Q76.4 47.6 74.15 49.4 Q71.9 51.2 68.75 52.05 Q65.6 52.9 61.7 52.9 Q56.6 52.9 52.35 50.6 Q48.1 48.3 45.5 44.1 Q43.9 48.9 40 50.9 Q36.1 52.9 31.3 52.9 Q20.4 52.9 14.6 44.1 L14.4 44.1 L14.4 51.7 Z\"\n",
       "        /><glyph unicode=\"i\" horiz-adv-x=\"22.2\" d=\"M15.4 61 L15.4 71.4 L6.9 71.4 L6.9 61 ZM6.9 51.7 L6.9 0 L15.4 0 L15.4 51.7 Z\"\n",
       "        /><glyph unicode=\"T\" horiz-adv-x=\"57.4\" d=\"M24 63.4 L24 0 L33.5 0 L33.5 63.4 L57.3 63.4 L57.3 71.4 L0.2 71.4 L0.2 63.4 Z\"\n",
       "        /><glyph unicode=\".\" horiz-adv-x=\"27.8\" d=\"M8.3 11.1 L8.3 0 L19.4 0 L19.4 11.1 Z\"\n",
       "        /><glyph unicode=\"-\" horiz-adv-x=\"38.9\" d=\"M5 31.8 L5 23.8 L33.9 23.8 L33.9 31.8 Z\"\n",
       "        /><glyph unicode=\")\" horiz-adv-x=\"25.9\" d=\"M-0.9 -19.7 L5.5 -19.7 Q13.3 -9.4 17.25 2.55 Q21.2 14.5 21.2 26.3 Q21.2 32.9 20.1 38.9 Q19 44.9 16.95 50.65 Q14.9 56.4 12 61.95 Q9.1 67.5 5.5 73.1 L-0.9 73.1 Q6.1 61.6 9.15 50.25 Q12.2 38.9 12.2 26.3 Q12.2 14.1 9.2 2.85 Q6.2 -8.4 -0.9 -19.7 Z\"\n",
       "        /><glyph unicode=\"(\" horiz-adv-x=\"25.9\" d=\"M20.4 -19.7 L26.9 -19.7 Q19.8 -8.2 16.75 3.1 Q13.7 14.4 13.7 27 Q13.7 39.3 16.7 50.5 Q19.7 61.7 26.9 73.1 L20.4 73.1 Q12.6 62.8 8.65 50.8 Q4.7 38.8 4.7 27 Q4.7 20.4 5.8 14.4 Q6.9 8.4 8.95 2.7 Q11 -3 13.9 -8.55 Q16.8 -14.1 20.4 -19.7 Z\"\n",
       "        /><glyph unicode=\"x\" horiz-adv-x=\"51.8\" d=\"M20.3 27.2 L0.9 0 L11.2 0 L25.6 21.4 L40 0 L50.9 0 L30.9 27.9 L48.7 51.7 L38.5 51.7 L25.6 33.6 L13.2 51.7 L2.3 51.7 Z\"\n",
       "      /></font\n",
       "      ><font horiz-adv-x=\"50.0\" id=\"font2\"\n",
       "      ><font-face ascent=\"97.5\" descent=\"21.699999\" units-per-em=\"100\" style=\"font-style:normal; font-family:Helvetica Neue; font-weight:bold;\"\n",
       "        /><missing-glyph horiz-adv-x=\"50.0\" d=\"M39.1 60.7 L11.1 60.7 L11.1 9.5 L39.1 9.5 ZM48.2 69.8 L48.2 0.3 L1.7 0.3 L1.7 69.8 Z\"\n",
       "        /><glyph unicode=\")\" horiz-adv-x=\"29.6\" d=\"M-0.6 -18.1 L11.2 -18.1 Q14.5 -13.4 17 -7.7 Q19.5 -2 21.15 4.05 Q22.8 10.1 23.6 16.25 Q24.4 22.4 24.4 28 Q24.4 39.8 20.95 51.3 Q17.5 62.8 11.2 73.1 L-0.5 73.1 Q5 62.2 7.6 50.6 Q10.2 39 10.2 27 Q10.2 15.2 7.55 3.85 Q4.9 -7.5 -0.6 -18.1 Z\"\n",
       "        /><glyph unicode=\"(\" horiz-adv-x=\"29.6\" d=\"M30.3 73.1 L18.4 73.1 Q15.1 68.3 12.65 62.6 Q10.2 56.9 8.55 50.8 Q6.9 44.7 6.05 38.55 Q5.2 32.4 5.2 26.8 Q5.2 15 8.65 3.6 Q12.1 -7.8 18.4 -18.1 L30.2 -18.1 Q24.5 -7.2 21.95 4.3 Q19.4 15.8 19.4 27.8 Q19.4 39.6 22 51.05 Q24.6 62.5 30.3 73.1 Z\"\n",
       "        /><glyph unicode=\"x\" horiz-adv-x=\"53.7\" d=\"M18.6 27.2 L0 0 L15.9 0 L26.7 16.3 L37.5 0 L53.7 0 L34.6 27.5 L51.6 51.7 L35.9 51.7 L26.9 38.2 L17.8 51.7 L1.6 51.7 Z\"\n",
       "        /><glyph unicode=\"l\" horiz-adv-x=\"25.8\" d=\"M5.8 71.4 L5.8 0 L20 0 L20 71.4 Z\"\n",
       "        /><glyph unicode=\"a\" horiz-adv-x=\"57.4\" d=\"M4.8 35.8 Q5.1 40.8 7.3 44.1 Q9.5 47.4 12.9 49.4 Q16.3 51.4 20.55 52.25 Q24.8 53.1 29.1 53.1 Q33 53.1 37 52.55 Q41 52 44.3 50.4 Q47.6 48.8 49.7 45.95 Q51.8 43.1 51.8 38.4 L51.8 11.5 Q51.8 8 52.2 4.8 Q52.6 1.6 53.6 0 L39.2 0 Q38.8 1.2 38.55 2.45 Q38.3 3.7 38.2 5 Q34.8 1.5 30.2 0.1 Q25.6 -1.3 20.8 -1.3 Q17.1 -1.3 13.9 -0.4 Q10.7 0.5 8.3 2.4 Q5.9 4.3 4.55 7.2 Q3.2 10.1 3.2 14.1 Q3.2 18.5 4.75 21.35 Q6.3 24.2 8.75 25.9 Q11.2 27.6 14.35 28.45 Q17.5 29.3 20.7 29.8 Q23.9 30.3 27 30.6 Q30.1 30.9 32.5 31.5 Q34.9 32.1 36.3 33.25 Q37.7 34.4 37.6 36.6 Q37.6 38.9 36.85 40.25 Q36.1 41.6 34.85 42.35 Q33.6 43.1 31.95 43.35 Q30.3 43.6 28.4 43.6 Q24.2 43.6 21.8 41.8 Q19.4 40 19 35.8 ZM37.6 25.3 Q36.7 24.5 35.35 24.05 Q34 23.6 32.45 23.3 Q30.9 23 29.2 22.8 Q27.5 22.6 25.8 22.3 Q24.2 22 22.65 21.5 Q21.1 21 19.95 20.15 Q18.8 19.3 18.1 18 Q17.4 16.7 17.4 14.7 Q17.4 12.8 18.1 11.5 Q18.8 10.2 20 9.45 Q21.2 8.7 22.8 8.4 Q24.4 8.1 26.1 8.1 Q30.3 8.1 32.6 9.5 Q34.9 10.9 36 12.85 Q37.1 14.8 37.35 16.8 Q37.6 18.8 37.6 20 Z\"\n",
       "        /><glyph unicode=\"S\" horiz-adv-x=\"64.9\" d=\"M17.6 23.7 L2.4 23.7 Q2.3 17.1 4.8 12.3 Q7.3 7.5 11.55 4.4 Q15.8 1.3 21.35 -0.15 Q26.9 -1.6 32.8 -1.6 Q40.1 -1.6 45.65 0.1 Q51.2 1.8 54.95 4.85 Q58.7 7.9 60.6 12.1 Q62.5 16.3 62.5 21.2 Q62.5 27.2 59.95 31.05 Q57.4 34.9 53.9 37.2 Q50.4 39.5 46.85 40.55 Q43.3 41.6 41.3 42 Q34.6 43.7 30.45 44.8 Q26.3 45.9 23.95 47 Q21.6 48.1 20.8 49.4 Q20 50.7 20 52.8 Q20 55.1 21 56.6 Q22 58.1 23.55 59.1 Q25.1 60.1 27 60.5 Q28.9 60.9 30.8 60.9 Q33.7 60.9 36.15 60.4 Q38.6 59.9 40.5 58.7 Q42.4 57.5 43.55 55.4 Q44.7 53.3 44.9 50.1 L60.1 50.1 Q60.1 56.3 57.75 60.65 Q55.4 65 51.4 67.8 Q47.4 70.6 42.25 71.85 Q37.1 73.1 31.5 73.1 Q26.7 73.1 21.9 71.8 Q17.1 70.5 13.3 67.8 Q9.5 65.1 7.15 61.05 Q4.8 57 4.8 51.5 Q4.8 46.6 6.65 43.15 Q8.5 39.7 11.5 37.4 Q14.5 35.1 18.3 33.65 Q22.1 32.2 26.1 31.2 Q30 30.1 33.8 29.2 Q37.6 28.3 40.6 27.1 Q43.6 25.9 45.45 24.1 Q47.3 22.3 47.3 19.4 Q47.3 16.7 45.9 14.95 Q44.5 13.2 42.4 12.2 Q40.3 11.2 37.9 10.85 Q35.5 10.5 33.4 10.5 Q30.3 10.5 27.4 11.25 Q24.5 12 22.35 13.55 Q20.2 15.1 18.9 17.6 Q17.6 20.1 17.6 23.7 Z\"\n",
       "        /><glyph unicode=\"e\" horiz-adv-x=\"57.4\" d=\"M40.2 31.4 L17.1 31.4 Q17.2 32.9 17.75 34.8 Q18.3 36.7 19.65 38.4 Q21 40.1 23.25 41.25 Q25.5 42.4 28.9 42.4 Q34.1 42.4 36.65 39.6 Q39.2 36.8 40.2 31.4 ZM17.1 22.4 L54.4 22.4 Q54.8 28.4 53.4 33.9 Q52 39.4 48.85 43.7 Q45.7 48 40.8 50.55 Q35.9 53.1 29.3 53.1 Q23.4 53.1 18.55 51 Q13.7 48.9 10.2 45.25 Q6.7 41.6 4.8 36.6 Q2.9 31.6 2.9 25.8 Q2.9 19.8 4.75 14.8 Q6.6 9.8 10 6.2 Q13.4 2.6 18.3 0.65 Q23.2 -1.3 29.3 -1.3 Q38.1 -1.3 44.3 2.7 Q50.5 6.7 53.5 16 L41 16 Q40.3 13.6 37.2 11.45 Q34.1 9.3 29.8 9.3 Q23.8 9.3 20.6 12.4 Q17.4 15.5 17.1 22.4 Z\"\n",
       "        /><glyph unicode=\"m\" horiz-adv-x=\"90.6\" d=\"M5.8 51.7 L5.8 0 L20 0 L20 30 Q20 33.8 21.1 36.15 Q22.2 38.5 23.75 39.75 Q25.3 41 26.95 41.45 Q28.6 41.9 29.6 41.9 Q33 41.9 34.75 40.75 Q36.5 39.6 37.25 37.7 Q38 35.8 38.1 33.55 Q38.2 31.3 38.2 29 L38.2 0 L52.4 0 L52.4 28.8 Q52.4 31.2 52.75 33.55 Q53.1 35.9 54.15 37.75 Q55.2 39.6 57.05 40.75 Q58.9 41.9 61.9 41.9 Q64.9 41.9 66.65 40.9 Q68.4 39.9 69.3 38.2 Q70.2 36.5 70.4 34.2 Q70.6 31.9 70.6 29.3 L70.6 0 L84.8 0 L84.8 34.6 Q84.8 39.6 83.4 43.15 Q82 46.7 79.5 48.9 Q77 51.1 73.5 52.1 Q70 53.1 65.9 53.1 Q60.5 53.1 56.55 50.5 Q52.6 47.9 50.3 44.5 Q48.2 49.3 44.15 51.2 Q40.1 53.1 35.2 53.1 Q30.1 53.1 26.15 50.9 Q22.2 48.7 19.4 44.7 L19.2 44.7 L19.2 51.7 Z\"\n",
       "        /><glyph unicode=\"T\" horiz-adv-x=\"61.1\" d=\"M22.7 58.2 L22.7 0 L38.4 0 L38.4 58.2 L59.8 58.2 L59.8 71.4 L1.3 71.4 L1.3 58.2 Z\"\n",
       "        /><glyph unicode=\"s\" horiz-adv-x=\"53.7\" d=\"M16.4 16.8 L2.9 16.8 Q3.1 11.6 5.25 8.15 Q7.4 4.7 10.75 2.6 Q14.1 0.5 18.4 -0.4 Q22.7 -1.3 27.2 -1.3 Q31.6 -1.3 35.85 -0.45 Q40.1 0.4 43.4 2.5 Q46.7 4.6 48.75 8.05 Q50.8 11.5 50.8 16.6 Q50.8 20.2 49.4 22.65 Q48 25.1 45.7 26.75 Q43.4 28.4 40.45 29.4 Q37.5 30.4 34.4 31.1 Q31.4 31.8 28.5 32.4 Q25.6 33 23.35 33.75 Q21.1 34.5 19.7 35.7 Q18.3 36.9 18.3 38.8 Q18.3 40.4 19.1 41.35 Q19.9 42.3 21.05 42.8 Q22.2 43.3 23.6 43.45 Q25 43.6 26.2 43.6 Q30 43.6 32.8 42.15 Q35.6 40.7 35.9 36.6 L49.4 36.6 Q49 41.4 46.95 44.55 Q44.9 47.7 41.8 49.6 Q38.7 51.5 34.75 52.3 Q30.8 53.1 26.6 53.1 Q22.4 53.1 18.4 52.35 Q14.4 51.6 11.2 49.75 Q8 47.9 6.05 44.7 Q4.1 41.5 4.1 36.5 Q4.1 33.1 5.5 30.75 Q6.9 28.4 9.2 26.85 Q11.5 25.3 14.45 24.35 Q17.4 23.4 20.5 22.7 Q28.1 21.1 32.35 19.5 Q36.6 17.9 36.6 14.7 Q36.6 12.8 35.7 11.55 Q34.8 10.3 33.45 9.55 Q32.1 8.8 30.45 8.45 Q28.8 8.1 27.3 8.1 Q25.2 8.1 23.25 8.6 Q21.3 9.1 19.8 10.15 Q18.3 11.2 17.35 12.85 Q16.4 14.5 16.4 16.8 Z\"\n",
       "        /><glyph unicode=\"u\" horiz-adv-x=\"59.3\" d=\"M53.9 0 L53.9 51.7 L39.7 51.7 L39.7 24.6 Q39.7 16.7 37.1 13.25 Q34.5 9.8 28.7 9.8 Q23.6 9.8 21.6 12.95 Q19.6 16.1 19.6 22.5 L19.6 51.7 L5.4 51.7 L5.4 19.9 Q5.4 15.1 6.25 11.15 Q7.1 7.2 9.2 4.45 Q11.3 1.7 14.95 0.2 Q18.6 -1.3 24.3 -1.3 Q28.8 -1.3 33.1 0.7 Q37.4 2.7 40.1 7.2 L40.4 7.2 L40.4 0 Z\"\n",
       "        /><glyph unicode=\"t\" horiz-adv-x=\"35.2\" d=\"M23.4 51.7 L23.4 67.2 L9.2 67.2 L9.2 51.7 L0.6 51.7 L0.6 42.2 L9.2 42.2 L9.2 11.7 Q9.2 7.8 10.5 5.4 Q11.8 3 14.05 1.7 Q16.3 0.4 19.25 -0.05 Q22.2 -0.5 25.5 -0.5 Q27.6 -0.5 29.8 -0.4 Q32 -0.3 33.8 0 L33.8 11 Q32.8 10.8 31.7 10.7 Q30.6 10.6 29.4 10.6 Q25.8 10.6 24.6 11.8 Q23.4 13 23.4 16.6 L23.4 42.2 L33.8 42.2 L33.8 51.7 Z\"\n",
       "        /><glyph unicode=\"n\" horiz-adv-x=\"59.3\" d=\"M5.4 51.7 L5.4 0 L19.6 0 L19.6 27.1 Q19.6 35 22.2 38.45 Q24.8 41.9 30.6 41.9 Q35.7 41.9 37.7 38.75 Q39.7 35.6 39.7 29.2 L39.7 0 L53.9 0 L53.9 31.8 Q53.9 36.6 53.05 40.55 Q52.2 44.5 50.1 47.25 Q48 50 44.35 51.55 Q40.7 53.1 35 53.1 Q30.5 53.1 26.2 51.05 Q21.9 49 19.2 44.5 L18.9 44.5 L18.9 51.7 Z\"\n",
       "        /><glyph unicode=\"o\" horiz-adv-x=\"61.1\" d=\"M18 25.8 Q18 28.9 18.6 31.9 Q19.2 34.9 20.65 37.2 Q22.1 39.5 24.5 40.95 Q26.9 42.4 30.5 42.4 Q34.1 42.4 36.55 40.95 Q39 39.5 40.45 37.2 Q41.9 34.9 42.5 31.9 Q43.1 28.9 43.1 25.8 Q43.1 22.7 42.5 19.75 Q41.9 16.8 40.45 14.45 Q39 12.1 36.55 10.7 Q34.1 9.3 30.5 9.3 Q26.9 9.3 24.5 10.7 Q22.1 12.1 20.65 14.45 Q19.2 16.8 18.6 19.75 Q18 22.7 18 25.8 ZM3.8 25.8 Q3.8 19.6 5.7 14.6 Q7.6 9.6 11.1 6.05 Q14.6 2.5 19.5 0.6 Q24.4 -1.3 30.5 -1.3 Q36.6 -1.3 41.55 0.6 Q46.5 2.5 50 6.05 Q53.5 9.6 55.4 14.6 Q57.3 19.6 57.3 25.8 Q57.3 32 55.4 37.05 Q53.5 42.1 50 45.65 Q46.5 49.2 41.55 51.15 Q36.6 53.1 30.5 53.1 Q24.4 53.1 19.5 51.15 Q14.6 49.2 11.1 45.65 Q7.6 42.1 5.7 37.05 Q3.8 32 3.8 25.8 Z\"\n",
       "        /><glyph unicode=\"C\" horiz-adv-x=\"74.1\" d=\"M54.5 47.4 L69.7 47.4 Q69 53.6 66.3 58.4 Q63.6 63.2 59.45 66.45 Q55.3 69.7 50.05 71.4 Q44.8 73.1 38.9 73.1 Q30.7 73.1 24.15 70.2 Q17.6 67.3 13.1 62.2 Q8.6 57.1 6.2 50.25 Q3.8 43.4 3.8 35.4 Q3.8 27.6 6.2 20.85 Q8.6 14.1 13.1 9.1 Q17.6 4.1 24.15 1.25 Q30.7 -1.6 38.9 -1.6 Q45.5 -1.6 51 0.4 Q56.5 2.4 60.6 6.2 Q64.7 10 67.2 15.4 Q69.7 20.8 70.3 27.5 L55.1 27.5 Q54.2 20.3 50.15 15.9 Q46.1 11.5 38.9 11.5 Q33.6 11.5 29.9 13.55 Q26.2 15.6 23.9 19 Q21.6 22.4 20.55 26.65 Q19.5 30.9 19.5 35.4 Q19.5 40.1 20.55 44.5 Q21.6 48.9 23.9 52.35 Q26.2 55.8 29.9 57.85 Q33.6 59.9 38.9 59.9 Q41.8 59.9 44.45 58.95 Q47.1 58 49.2 56.3 Q51.3 54.6 52.7 52.35 Q54.1 50.1 54.5 47.4 Z\"\n",
       "        /><glyph unicode=\":\" horiz-adv-x=\"27.8\" d=\"M21.8 35.4 L21.8 50.8 L6.1 50.8 L6.1 35.4 ZM6.1 15.4 L6.1 0 L21.8 0 L21.8 15.4 Z\"\n",
       "        /><glyph unicode=\"1\" horiz-adv-x=\"55.6\" d=\"M39.2 0 L39.2 70 L27.9 70 Q27.3 66 25.4 63.3 Q23.5 60.6 20.75 58.95 Q18 57.3 14.55 56.65 Q11.1 56 7.4 56.1 L7.4 45.4 L25 45.4 L25 0 Z\"\n",
       "        /><glyph unicode=\" \" horiz-adv-x=\"27.8\" d=\"\"\n",
       "        /><glyph unicode=\"g\" horiz-adv-x=\"61.1\" d=\"M29.5 12.2 Q26.2 12.2 24 13.6 Q21.8 15 20.45 17.2 Q19.1 19.4 18.55 22.15 Q18 24.9 18 27.7 Q18 30.6 18.65 33.25 Q19.3 35.9 20.75 37.95 Q22.2 40 24.35 41.2 Q26.5 42.4 29.5 42.4 Q33 42.4 35.3 41.1 Q37.6 39.8 39 37.6 Q40.4 35.4 41 32.55 Q41.6 29.7 41.6 26.5 Q41.6 23.7 40.85 21.15 Q40.1 18.6 38.6 16.6 Q37.1 14.6 34.8 13.4 Q32.5 12.2 29.5 12.2 ZM55.1 3.3 L55.1 51.7 L41.6 51.7 L41.6 44.8 L41.4 44.8 Q38.8 49.3 34.95 51.2 Q31.1 53.1 26 53.1 Q20.6 53.1 16.45 51 Q12.3 48.9 9.5 45.35 Q6.7 41.8 5.25 37.15 Q3.8 32.5 3.8 27.5 Q3.8 22.2 5.05 17.45 Q6.3 12.7 9 9.15 Q11.7 5.6 15.9 3.55 Q20.1 1.5 25.9 1.5 Q30.6 1.5 34.85 3.45 Q39.1 5.4 41.4 9.5 L41.6 9.5 L41.6 2.7 Q41.7 -2.8 38.95 -6.4 Q36.2 -10 30.2 -10 Q26.4 -10 23.5 -8.45 Q20.6 -6.9 19.6 -2.9 L5.5 -2.9 Q5.8 -7.3 7.95 -10.45 Q10.1 -13.6 13.35 -15.6 Q16.6 -17.6 20.55 -18.55 Q24.5 -19.5 28.3 -19.5 Q37.2 -19.5 42.5 -17.1 Q47.8 -14.7 50.6 -11.25 Q53.4 -7.8 54.25 -3.8 Q55.1 0.2 55.1 3.3 Z\"\n",
       "        /><glyph unicode=\"i\" horiz-adv-x=\"25.8\" d=\"M20 59.7 L20 71.4 L5.8 71.4 L5.8 59.7 ZM5.8 51.7 L5.8 0 L20 0 L20 51.7 Z\"\n",
       "        /><glyph unicode=\"F\" horiz-adv-x=\"59.3\" d=\"M6.9 71.4 L6.9 0 L22.6 0 L22.6 29.5 L52.5 29.5 L52.5 41.7 L22.6 41.7 L22.6 58.2 L57.1 58.2 L57.1 71.4 Z\"\n",
       "      /></font\n",
       "    ></defs\n",
       "    ><g style=\"fill:white; stroke:white;\"\n",
       "    ><rect x=\"0\" y=\"0\" width=\"560\" style=\"clip-path:url(#clipPath1); stroke:none;\" height=\"420\"\n",
       "    /></g\n",
       "    ><g style=\"fill:white; text-rendering:optimizeSpeed; color-rendering:optimizeSpeed; image-rendering:optimizeSpeed; shape-rendering:crispEdges; stroke:white; color-interpolation:sRGB;\"\n",
       "    ><rect x=\"0\" width=\"560\" height=\"420\" y=\"0\" style=\"stroke:none;\"\n",
       "      /><path style=\"stroke:none;\" d=\"M73 373 L507 373 L507 31 L73 31 Z\"\n",
       "    /></g\n",
       "    ><g style=\"fill:rgb(38,38,38); text-rendering:geometricPrecision; image-rendering:optimizeQuality; color-rendering:optimizeQuality; stroke-linejoin:round; stroke:rgb(38,38,38); color-interpolation:linearRGB; stroke-width:0.5;\"\n",
       "    ><line y2=\"373\" style=\"fill:none;\" x1=\"73\" x2=\"507\" y1=\"373\"\n",
       "      /><line y2=\"31\" style=\"fill:none;\" x1=\"73\" x2=\"507\" y1=\"31\"\n",
       "      /><line y2=\"368.66\" style=\"fill:none;\" x1=\"73\" x2=\"73\" y1=\"373\"\n",
       "      /><line y2=\"368.66\" style=\"fill:none;\" x1=\"159.8\" x2=\"159.8\" y1=\"373\"\n",
       "      /><line y2=\"368.66\" style=\"fill:none;\" x1=\"246.6\" x2=\"246.6\" y1=\"373\"\n",
       "      /><line y2=\"368.66\" style=\"fill:none;\" x1=\"333.4\" x2=\"333.4\" y1=\"373\"\n",
       "      /><line y2=\"368.66\" style=\"fill:none;\" x1=\"420.2\" x2=\"420.2\" y1=\"373\"\n",
       "      /><line y2=\"368.66\" style=\"fill:none;\" x1=\"507\" x2=\"507\" y1=\"373\"\n",
       "      /><line y2=\"35.34\" style=\"fill:none;\" x1=\"73\" x2=\"73\" y1=\"31\"\n",
       "      /><line y2=\"35.34\" style=\"fill:none;\" x1=\"159.8\" x2=\"159.8\" y1=\"31\"\n",
       "      /><line y2=\"35.34\" style=\"fill:none;\" x1=\"246.6\" x2=\"246.6\" y1=\"31\"\n",
       "      /><line y2=\"35.34\" style=\"fill:none;\" x1=\"333.4\" x2=\"333.4\" y1=\"31\"\n",
       "      /><line y2=\"35.34\" style=\"fill:none;\" x1=\"420.2\" x2=\"420.2\" y1=\"31\"\n",
       "      /><line y2=\"35.34\" style=\"fill:none;\" x1=\"507\" x2=\"507\" y1=\"31\"\n",
       "    /></g\n",
       "    ><g transform=\"translate(73,378.2)\" style=\"font-size:16px; fill:rgb(38,38,38); text-rendering:geometricPrecision; image-rendering:optimizeQuality; color-rendering:optimizeQuality; font-family:'Helvetica Neue'; stroke:rgb(38,38,38); color-interpolation:linearRGB;\"\n",
       "    ><text x=\"-4.5\" xml:space=\"preserve\" y=\"16\" style=\"stroke:none;\"\n",
       "      >0</text\n",
       "    ></g\n",
       "    ><g transform=\"translate(159.8,378.2)\" style=\"font-size:16px; fill:rgb(38,38,38); text-rendering:geometricPrecision; image-rendering:optimizeQuality; color-rendering:optimizeQuality; font-family:'Helvetica Neue'; stroke:rgb(38,38,38); color-interpolation:linearRGB;\"\n",
       "    ><text x=\"-4.5\" xml:space=\"preserve\" y=\"16\" style=\"stroke:none;\"\n",
       "      >2</text\n",
       "    ></g\n",
       "    ><g transform=\"translate(246.6,378.2)\" style=\"font-size:16px; fill:rgb(38,38,38); text-rendering:geometricPrecision; image-rendering:optimizeQuality; color-rendering:optimizeQuality; font-family:'Helvetica Neue'; stroke:rgb(38,38,38); color-interpolation:linearRGB;\"\n",
       "    ><text x=\"-4.5\" xml:space=\"preserve\" y=\"16\" style=\"stroke:none;\"\n",
       "      >4</text\n",
       "    ></g\n",
       "    ><g transform=\"translate(333.4,378.2)\" style=\"font-size:16px; fill:rgb(38,38,38); text-rendering:geometricPrecision; image-rendering:optimizeQuality; color-rendering:optimizeQuality; font-family:'Helvetica Neue'; stroke:rgb(38,38,38); color-interpolation:linearRGB;\"\n",
       "    ><text x=\"-4.5\" xml:space=\"preserve\" y=\"16\" style=\"stroke:none;\"\n",
       "      >6</text\n",
       "    ></g\n",
       "    ><g transform=\"translate(420.2,378.2)\" style=\"font-size:16px; fill:rgb(38,38,38); text-rendering:geometricPrecision; image-rendering:optimizeQuality; color-rendering:optimizeQuality; font-family:'Helvetica Neue'; stroke:rgb(38,38,38); color-interpolation:linearRGB;\"\n",
       "    ><text x=\"-4.5\" xml:space=\"preserve\" y=\"16\" style=\"stroke:none;\"\n",
       "      >8</text\n",
       "    ></g\n",
       "    ><g transform=\"translate(507,378.2)\" style=\"font-size:16px; fill:rgb(38,38,38); text-rendering:geometricPrecision; image-rendering:optimizeQuality; color-rendering:optimizeQuality; font-family:'Helvetica Neue'; stroke:rgb(38,38,38); color-interpolation:linearRGB;\"\n",
       "    ><text x=\"-9\" xml:space=\"preserve\" y=\"16\" style=\"stroke:none;\"\n",
       "      >10</text\n",
       "    ></g\n",
       "    ><g transform=\"translate(290.0002,399.2)\" style=\"font-size:17.6px; fill:rgb(38,38,38); text-rendering:geometricPrecision; image-rendering:optimizeQuality; color-rendering:optimizeQuality; font-family:'Helvetica Neue'; stroke:rgb(38,38,38); color-interpolation:linearRGB;\"\n",
       "    ><text x=\"-36\" xml:space=\"preserve\" y=\"17\" style=\"stroke:none;\"\n",
       "      >Time t [s]</text\n",
       "    ></g\n",
       "    ><g style=\"fill:rgb(38,38,38); text-rendering:geometricPrecision; image-rendering:optimizeQuality; color-rendering:optimizeQuality; stroke-linejoin:round; stroke:rgb(38,38,38); color-interpolation:linearRGB; stroke-width:0.5;\"\n",
       "    ><line y2=\"31\" style=\"fill:none;\" x1=\"73\" x2=\"73\" y1=\"373\"\n",
       "      /><line y2=\"31\" style=\"fill:none;\" x1=\"507\" x2=\"507\" y1=\"373\"\n",
       "      /><line y2=\"373\" style=\"fill:none;\" x1=\"73\" x2=\"77.34\" y1=\"373\"\n",
       "      /><line y2=\"316\" style=\"fill:none;\" x1=\"73\" x2=\"77.34\" y1=\"316\"\n",
       "      /><line y2=\"259\" style=\"fill:none;\" x1=\"73\" x2=\"77.34\" y1=\"259\"\n",
       "      /><line y2=\"202\" style=\"fill:none;\" x1=\"73\" x2=\"77.34\" y1=\"202\"\n",
       "      /><line y2=\"145\" style=\"fill:none;\" x1=\"73\" x2=\"77.34\" y1=\"145\"\n",
       "      /><line y2=\"88\" style=\"fill:none;\" x1=\"73\" x2=\"77.34\" y1=\"88\"\n",
       "      /><line y2=\"31\" style=\"fill:none;\" x1=\"73\" x2=\"77.34\" y1=\"31\"\n",
       "      /><line y2=\"373\" style=\"fill:none;\" x1=\"507\" x2=\"502.66\" y1=\"373\"\n",
       "      /><line y2=\"316\" style=\"fill:none;\" x1=\"507\" x2=\"502.66\" y1=\"316\"\n",
       "      /><line y2=\"259\" style=\"fill:none;\" x1=\"507\" x2=\"502.66\" y1=\"259\"\n",
       "      /><line y2=\"202\" style=\"fill:none;\" x1=\"507\" x2=\"502.66\" y1=\"202\"\n",
       "      /><line y2=\"145\" style=\"fill:none;\" x1=\"507\" x2=\"502.66\" y1=\"145\"\n",
       "      /><line y2=\"88\" style=\"fill:none;\" x1=\"507\" x2=\"502.66\" y1=\"88\"\n",
       "      /><line y2=\"31\" style=\"fill:none;\" x1=\"507\" x2=\"502.66\" y1=\"31\"\n",
       "    /></g\n",
       "    ><g transform=\"translate(67.8,373)\" style=\"font-size:16px; fill:rgb(38,38,38); text-rendering:geometricPrecision; image-rendering:optimizeQuality; color-rendering:optimizeQuality; font-family:'Helvetica Neue'; stroke:rgb(38,38,38); color-interpolation:linearRGB;\"\n",
       "    ><text x=\"-29\" xml:space=\"preserve\" y=\"6\" style=\"stroke:none;\"\n",
       "      >-0.4</text\n",
       "    ></g\n",
       "    ><g transform=\"translate(67.8,316)\" style=\"font-size:16px; fill:rgb(38,38,38); text-rendering:geometricPrecision; image-rendering:optimizeQuality; color-rendering:optimizeQuality; font-family:'Helvetica Neue'; stroke:rgb(38,38,38); color-interpolation:linearRGB;\"\n",
       "    ><text x=\"-29\" xml:space=\"preserve\" y=\"6\" style=\"stroke:none;\"\n",
       "      >-0.2</text\n",
       "    ></g\n",
       "    ><g transform=\"translate(67.8,259)\" style=\"font-size:16px; fill:rgb(38,38,38); text-rendering:geometricPrecision; image-rendering:optimizeQuality; color-rendering:optimizeQuality; font-family:'Helvetica Neue'; stroke:rgb(38,38,38); color-interpolation:linearRGB;\"\n",
       "    ><text x=\"-9\" xml:space=\"preserve\" y=\"6\" style=\"stroke:none;\"\n",
       "      >0</text\n",
       "    ></g\n",
       "    ><g transform=\"translate(67.8,202)\" style=\"font-size:16px; fill:rgb(38,38,38); text-rendering:geometricPrecision; image-rendering:optimizeQuality; color-rendering:optimizeQuality; font-family:'Helvetica Neue'; stroke:rgb(38,38,38); color-interpolation:linearRGB;\"\n",
       "    ><text x=\"-23\" xml:space=\"preserve\" y=\"6\" style=\"stroke:none;\"\n",
       "      >0.2</text\n",
       "    ></g\n",
       "    ><g transform=\"translate(67.8,145)\" style=\"font-size:16px; fill:rgb(38,38,38); text-rendering:geometricPrecision; image-rendering:optimizeQuality; color-rendering:optimizeQuality; font-family:'Helvetica Neue'; stroke:rgb(38,38,38); color-interpolation:linearRGB;\"\n",
       "    ><text x=\"-23\" xml:space=\"preserve\" y=\"6\" style=\"stroke:none;\"\n",
       "      >0.4</text\n",
       "    ></g\n",
       "    ><g transform=\"translate(67.8,88)\" style=\"font-size:16px; fill:rgb(38,38,38); text-rendering:geometricPrecision; image-rendering:optimizeQuality; color-rendering:optimizeQuality; font-family:'Helvetica Neue'; stroke:rgb(38,38,38); color-interpolation:linearRGB;\"\n",
       "    ><text x=\"-23\" xml:space=\"preserve\" y=\"6\" style=\"stroke:none;\"\n",
       "      >0.6</text\n",
       "    ></g\n",
       "    ><g transform=\"translate(67.8,31)\" style=\"font-size:16px; fill:rgb(38,38,38); text-rendering:geometricPrecision; image-rendering:optimizeQuality; color-rendering:optimizeQuality; font-family:'Helvetica Neue'; stroke:rgb(38,38,38); color-interpolation:linearRGB;\"\n",
       "    ><text x=\"-23\" xml:space=\"preserve\" y=\"6\" style=\"stroke:none;\"\n",
       "      >0.8</text\n",
       "    ></g\n",
       "    ><g transform=\"translate(35.8,201.9998) rotate(-90)\" style=\"font-size:17.6px; fill:rgb(38,38,38); text-rendering:geometricPrecision; image-rendering:optimizeQuality; color-rendering:optimizeQuality; font-family:'Helvetica Neue'; stroke:rgb(38,38,38); color-interpolation:linearRGB;\"\n",
       "    ><text x=\"-12\" xml:space=\"preserve\" y=\"-4\" style=\"stroke:none;\"\n",
       "      >x(t)</text\n",
       "    ></g\n",
       "    ><g transform=\"translate(290.0003,26.6)\" style=\"font-size:17.6px; text-rendering:geometricPrecision; image-rendering:optimizeQuality; color-rendering:optimizeQuality; font-family:'Helvetica Neue'; color-interpolation:linearRGB; font-weight:bold;\"\n",
       "    ><text x=\"-140.5\" xml:space=\"preserve\" y=\"-4\" style=\"stroke:none;\"\n",
       "      >Fig 1: Continuous Time Signal x(t)</text\n",
       "    ></g\n",
       "    ><g style=\"stroke-linecap:butt; fill:rgb(0,114,189); text-rendering:geometricPrecision; image-rendering:optimizeQuality; color-rendering:optimizeQuality; stroke-linejoin:round; stroke:rgb(0,114,189); color-interpolation:linearRGB; stroke-width:0.5;\"\n",
       "    ><path d=\"M73 259 L77.1317 232.6682 L81.2633 208.0301 L85.395 185.2086 L89.5267 164.3036 L93.6583 145.3928 L97.79 128.532 L101.9217 113.7556 L106.0534 101.0782 L110.185 90.4946 L114.3167 81.9819 L118.4484 75.5 L122.58 70.9932 L126.7117 68.3915 L130.8434 67.612 L134.9751 68.5605 L139.1067 71.1327 L143.2384 75.2157 L147.3701 80.6898 L151.5017 87.4295 L155.6334 95.3053 L159.7651 104.1847 L163.8967 113.9339 L168.0284 124.4187 L172.1601 135.5061 L176.2918 147.0649 L180.4234 158.9673 L184.5551 171.0894 L188.6868 183.3123 L192.8184 195.5228 L196.9501 207.6142 L201.0818 219.4866 L205.2135 231.0477 L209.3451 242.2129 L213.4768 252.906 L217.6085 263.0591 L221.7401 272.6128 L225.8718 281.5162 L230.0035 289.7271 L234.1351 297.2117 L238.2668 303.9444 L242.3985 309.9077 L246.5302 315.0918 L250.6618 319.4944 L254.7935 323.12 L258.9252 325.9799 L263.0569 328.0915 L267.1885 329.4776 L271.3202 330.1665 L275.4518 330.1906 L279.5835 329.5868 L283.7152 328.3952 L287.8469 326.6588 L291.9785 324.4234 L296.1102 321.7361 L300.2419 318.6458 L304.3735 315.2021 L308.5052 311.4549 L312.6369 307.4539 L316.7686 303.2486 L320.9002 298.8873 L325.0319 294.417 L329.1636 289.8831 L333.2952 285.3291 L337.4269 280.7962 L341.5586 276.3231 L345.6902 271.9458 L349.8219 267.6977 L353.9536 263.6088 L358.0853 259.7063 L362.2169 256.0143 L366.3486 252.5536 L370.4803 249.3417 L374.6119 246.3932 L378.7436 243.7193 L382.8753 241.3284 L387.007 239.2258 L391.1386 237.414 L395.2703 235.8928 L399.4019 234.6594 L403.5336 233.7088 L407.6653 233.0336 L411.797 232.6244 L415.9286 232.4701 L420.0603 232.5579 L424.192 232.8736 L428.3236 233.4017 L432.4554 234.1258 L436.587 235.0287 L440.7187 236.0925 L444.8503 237.2988 L448.982 238.6292 L453.1137 240.065 L457.2454 241.5878 L461.377 243.1793 L465.5087 244.8217 L469.6404 246.4978 L473.772 248.1908 L477.9037 249.885 L482.0354 251.5654\" style=\"fill:none; fill-rule:evenodd;\"\n",
       "    /></g\n",
       "  ></g\n",
       "></svg\n",
       ">\n"
      ]
     },
     "metadata": {},
     "output_type": "display_data"
    }
   ],
   "source": [
    "plot(tc,xc)\n",
    "title('Fig 1: Continuous Time Signal x(t)')\n",
    "ylabel('x(t)')\n",
    "xlabel('Time t [s]')"
   ]
  },
  {
   "cell_type": "markdown",
   "metadata": {
    "slideshow": {
     "slide_type": "notes"
    }
   },
   "source": [
    "You can generate all the images in this presentation by running the Matlab script: [sampling.m](https://cpjobling.github.io/eg-247-textbook/dt_systems/1/matlab/sampling.m) which is also available as a Live Script [sampling.mlx](https://cpjobling.github.io/eg-247-textbook/dt_systems/1/matlab/sampling.mlx)."
   ]
  },
  {
   "cell_type": "markdown",
   "metadata": {
    "slideshow": {
     "slide_type": "subslide"
    }
   },
   "source": [
    "#### Calculate and plot the sampled data"
   ]
  },
  {
   "cell_type": "code",
   "execution_count": 66,
   "metadata": {
    "slideshow": {
     "slide_type": "fragment"
    }
   },
   "outputs": [],
   "source": [
    "ws = 4*w0; % twice minimum!\n",
    "Ts = (2*pi)/ws;\n",
    "t = 0:Ts:tmax;\n",
    "xs = eval(h);\n",
    "td = t;"
   ]
  },
  {
   "cell_type": "code",
   "execution_count": 67,
   "metadata": {
    "slideshow": {
     "slide_type": "subslide"
    }
   },
   "outputs": [
    {
     "data": {
      "image/svg+xml": [
       "<?xml version=\"1.0\"?>\n",
       "<!DOCTYPE svg PUBLIC '-//W3C//DTD SVG 1.0//EN'\n",
       "          'http://www.w3.org/TR/2001/REC-SVG-20010904/DTD/svg10.dtd'>\n",
       "<svg xmlns:xlink=\"http://www.w3.org/1999/xlink\" style=\"fill-opacity:1; color-rendering:auto; color-interpolation:auto; text-rendering:auto; stroke:black; stroke-linecap:square; stroke-miterlimit:10; shape-rendering:auto; stroke-opacity:1; fill:black; stroke-dasharray:none; font-weight:normal; stroke-width:1; font-family:'Dialog'; font-style:normal; stroke-linejoin:miter; font-size:12px; stroke-dashoffset:0; image-rendering:auto;\" width=\"560\" height=\"420\" xmlns=\"http://www.w3.org/2000/svg\"\n",
       "><!--Generated by the Batik Graphics2D SVG Generator--><defs id=\"genericDefs\"\n",
       "  /><g\n",
       "  ><defs id=\"defs1\"\n",
       "    ><clipPath clipPathUnits=\"userSpaceOnUse\" id=\"clipPath1\"\n",
       "      ><path d=\"M0 0 L560 0 L560 420 L0 420 L0 0 Z\"\n",
       "      /></clipPath\n",
       "      ><font horiz-adv-x=\"50.0\" id=\"font1\"\n",
       "      ><font-face ascent=\"95.200005\" descent=\"21.3\" units-per-em=\"100\" style=\"font-style:normal; font-family:Helvetica Neue; font-weight:normal;\"\n",
       "        /><missing-glyph horiz-adv-x=\"50.0\" d=\"M40.9 66.6 L10.2 66.6 L10.2 4.7 L40.9 4.7 ZM46 71.2 L46 0.1 L5.1 0.1 L5.1 71.2 Z\"\n",
       "        /><glyph unicode=\"4\" horiz-adv-x=\"55.6\" d=\"M33.9 24.1 L10.1 24.1 L33.7 58.8 L33.9 58.8 ZM41.9 24.1 L41.9 70.9 L35.1 70.9 L2.8 24.8 L2.8 16.6 L33.9 16.6 L33.9 0 L41.9 0 L41.9 16.6 L51.5 16.6 L51.5 24.1 Z\"\n",
       "        /><glyph unicode=\".\" horiz-adv-x=\"27.8\" d=\"M8.3 11.1 L8.3 0 L19.4 0 L19.4 11.1 Z\"\n",
       "        /><glyph unicode=\"0\" horiz-adv-x=\"55.6\" d=\"M13.2 34.9 Q13.2 37.5 13.25 40.65 Q13.3 43.8 13.75 46.95 Q14.2 50.1 15.05 53.1 Q15.9 56.1 17.55 58.35 Q19.2 60.6 21.7 62 Q24.2 63.4 27.8 63.4 Q31.4 63.4 33.9 62 Q36.4 60.6 38.05 58.35 Q39.7 56.1 40.55 53.1 Q41.4 50.1 41.85 46.95 Q42.3 43.8 42.35 40.65 Q42.4 37.5 42.4 34.9 Q42.4 30.9 42.15 25.95 Q41.9 21 40.55 16.65 Q39.2 12.3 36.2 9.3 Q33.2 6.3 27.8 6.3 Q22.4 6.3 19.4 9.3 Q16.4 12.3 15.05 16.65 Q13.7 21 13.45 25.95 Q13.2 30.9 13.2 34.9 ZM4.2 34.8 Q4.2 30.9 4.4 26.7 Q4.6 22.5 5.4 18.5 Q6.2 14.5 7.7 10.95 Q9.2 7.4 11.8 4.7 Q14.4 2 18.35 0.45 Q22.3 -1.1 27.8 -1.1 Q33.4 -1.1 37.3 0.45 Q41.2 2 43.8 4.7 Q46.4 7.4 47.9 10.95 Q49.4 14.5 50.2 18.5 Q51 22.5 51.2 26.7 Q51.4 30.9 51.4 34.8 Q51.4 38.7 51.2 42.9 Q51 47.1 50.2 51.1 Q49.4 55.1 47.9 58.7 Q46.4 62.3 43.8 65 Q41.2 67.7 37.25 69.3 Q33.3 70.9 27.8 70.9 Q22.3 70.9 18.35 69.3 Q14.4 67.7 11.8 65 Q9.2 62.3 7.7 58.7 Q6.2 55.1 5.4 51.1 Q4.6 47.1 4.4 42.9 Q4.2 38.7 4.2 34.8 Z\"\n",
       "        /><glyph unicode=\"-\" horiz-adv-x=\"38.9\" d=\"M5 31.8 L5 23.8 L33.9 23.8 L33.9 31.8 Z\"\n",
       "        /><glyph unicode=\"2\" horiz-adv-x=\"55.6\" d=\"M4.4 45.8 L12.9 45.8 Q12.8 49 13.55 52.15 Q14.3 55.3 16 57.8 Q17.7 60.3 20.35 61.85 Q23 63.4 26.7 63.4 Q29.5 63.4 32 62.5 Q34.5 61.6 36.35 59.9 Q38.2 58.2 39.3 55.85 Q40.4 53.5 40.4 50.6 Q40.4 46.9 39.25 44.1 Q38.1 41.3 35.85 38.9 Q33.6 36.5 30.2 34.15 Q26.8 31.8 22.3 29 Q18.6 26.8 15.2 24.3 Q11.8 21.8 9.1 18.5 Q6.4 15.2 4.65 10.75 Q2.9 6.3 2.4 0 L48.7 0 L48.7 7.5 L12.3 7.5 Q12.9 10.8 14.85 13.35 Q16.8 15.9 19.55 18.1 Q22.3 20.3 25.6 22.25 Q28.9 24.2 32.2 26.2 Q35.5 28.3 38.6 30.6 Q41.7 32.9 44.1 35.75 Q46.5 38.6 47.95 42.2 Q49.4 45.8 49.4 50.5 Q49.4 55.5 47.65 59.3 Q45.9 63.1 42.9 65.65 Q39.9 68.2 35.85 69.55 Q31.8 70.9 27.2 70.9 Q21.6 70.9 17.2 69 Q12.8 67.1 9.85 63.75 Q6.9 60.4 5.5 55.8 Q4.1 51.2 4.4 45.8 Z\"\n",
       "        /><glyph unicode=\"6\" horiz-adv-x=\"55.6\" d=\"M41.4 52.8 L49.9 52.8 Q49.1 61.6 43.9 66.25 Q38.7 70.9 29.9 70.9 Q22.3 70.9 17.3 67.7 Q12.3 64.5 9.3 59.2 Q6.3 53.9 5.05 47.05 Q3.8 40.2 3.8 32.9 Q3.8 27.3 4.65 21.3 Q5.5 15.3 8.1 10.3 Q10.7 5.3 15.5 2.1 Q20.3 -1.1 28.2 -1.1 Q34.9 -1.1 39.45 1.15 Q44 3.4 46.75 6.85 Q49.5 10.3 50.7 14.5 Q51.9 18.7 51.9 22.6 Q51.9 27.5 50.4 31.7 Q48.9 35.9 46.15 39 Q43.4 42.1 39.35 43.85 Q35.3 45.6 30.2 45.6 Q24.4 45.6 19.95 43.4 Q15.5 41.2 12.5 36.3 L12.3 36.5 Q12.4 40.6 13.1 45.3 Q13.8 50 15.65 54.05 Q17.5 58.1 20.8 60.75 Q24.1 63.4 29.5 63.4 Q34.6 63.4 37.7 60.5 Q40.8 57.6 41.4 52.8 ZM28.6 38.1 Q32.2 38.1 34.9 36.8 Q37.6 35.5 39.4 33.35 Q41.2 31.2 42.05 28.25 Q42.9 25.3 42.9 22 Q42.9 18.9 41.95 16.05 Q41 13.2 39.2 11 Q37.4 8.8 34.75 7.55 Q32.1 6.3 28.6 6.3 Q25.1 6.3 22.35 7.55 Q19.6 8.8 17.75 10.9 Q15.9 13 14.9 15.9 Q13.9 18.8 13.9 22.1 Q13.9 25.4 14.85 28.35 Q15.8 31.3 17.7 33.45 Q19.6 35.6 22.3 36.85 Q25 38.1 28.6 38.1 Z\"\n",
       "        /><glyph unicode=\"8\" horiz-adv-x=\"55.6\" d=\"M15.5 52.5 Q15.5 55.2 16.5 57.2 Q17.5 59.2 19.15 60.6 Q20.8 62 23.1 62.7 Q25.4 63.4 27.9 63.4 Q33.1 63.4 36.45 60.65 Q39.8 57.9 39.8 52.5 Q39.8 47.1 36.5 44.1 Q33.2 41.1 28.1 41.1 Q25.5 41.1 23.2 41.8 Q20.9 42.5 19.2 43.9 Q17.5 45.3 16.5 47.45 Q15.5 49.6 15.5 52.5 ZM6.5 52.8 Q6.5 48 9.2 43.95 Q11.9 39.9 16.4 38.1 Q10.4 36 7.2 31.35 Q4 26.7 4 20.4 Q4 15 5.85 10.95 Q7.7 6.9 10.95 4.2 Q14.2 1.5 18.6 0.2 Q23 -1.1 28.1 -1.1 Q33 -1.1 37.3 0.3 Q41.6 1.7 44.75 4.45 Q47.9 7.2 49.75 11.2 Q51.6 15.2 51.6 20.4 Q51.6 27 48.5 31.55 Q45.4 36.1 39 38.1 Q43.5 40.1 46.15 44.05 Q48.8 48 48.8 52.8 Q48.8 56.2 47.6 59.45 Q46.4 62.7 43.85 65.25 Q41.3 67.8 37.2 69.35 Q33.1 70.9 27.3 70.9 Q23.2 70.9 19.45 69.7 Q15.7 68.5 12.8 66.2 Q9.9 63.9 8.2 60.55 Q6.5 57.2 6.5 52.8 ZM13 20 Q13 23.1 14.15 25.6 Q15.3 28.1 17.35 29.9 Q19.4 31.7 22.15 32.65 Q24.9 33.6 28 33.6 Q31 33.6 33.65 32.55 Q36.3 31.5 38.3 29.7 Q40.3 27.9 41.45 25.45 Q42.6 23 42.6 20.1 Q42.6 17.1 41.55 14.6 Q40.5 12.1 38.55 10.25 Q36.6 8.4 33.95 7.35 Q31.3 6.3 28.1 6.3 Q21.5 6.3 17.25 9.95 Q13 13.6 13 20 Z\"\n",
       "        /><glyph unicode=\"x\" horiz-adv-x=\"51.8\" d=\"M20.3 27.2 L0.9 0 L11.2 0 L25.6 21.4 L40 0 L50.9 0 L30.9 27.9 L48.7 51.7 L38.5 51.7 L25.6 33.6 L13.2 51.7 L2.3 51.7 Z\"\n",
       "        /><glyph unicode=\"s\" horiz-adv-x=\"50.0\" d=\"M11.6 16.3 L3.1 16.3 Q3.3 11.5 5.1 8.15 Q6.9 4.8 9.9 2.75 Q12.9 0.7 16.8 -0.2 Q20.7 -1.1 25 -1.1 Q28.9 -1.1 32.85 -0.35 Q36.8 0.4 39.95 2.3 Q43.1 4.2 45.05 7.3 Q47 10.4 47 15.1 Q47 18.8 45.55 21.3 Q44.1 23.8 41.75 25.45 Q39.4 27.1 36.35 28.1 Q33.3 29.1 30.1 29.8 Q27.1 30.5 24.1 31.15 Q21.1 31.8 18.7 32.75 Q16.3 33.7 14.75 35.15 Q13.2 36.6 13.2 38.8 Q13.2 40.8 14.2 42.05 Q15.2 43.3 16.8 44.05 Q18.4 44.8 20.35 45.1 Q22.3 45.4 24.2 45.4 Q26.3 45.4 28.35 44.95 Q30.4 44.5 32.1 43.5 Q33.8 42.5 34.9 40.85 Q36 39.2 36.2 36.7 L44.7 36.7 Q44.4 41.4 42.7 44.55 Q41 47.7 38.15 49.55 Q35.3 51.4 31.6 52.15 Q27.9 52.9 23.5 52.9 Q20.1 52.9 16.65 52.05 Q13.2 51.2 10.45 49.45 Q7.7 47.7 5.95 44.9 Q4.2 42.1 4.2 38.2 Q4.2 33.2 6.7 30.4 Q9.2 27.6 12.95 26.05 Q16.7 24.5 21.1 23.65 Q25.5 22.8 29.25 21.75 Q33 20.7 35.5 19 Q38 17.3 38 14 Q38 11.6 36.8 10.05 Q35.6 8.5 33.75 7.7 Q31.9 6.9 29.7 6.6 Q27.5 6.3 25.5 6.3 Q22.9 6.3 20.45 6.8 Q18 7.3 16.05 8.45 Q14.1 9.6 12.9 11.55 Q11.7 13.5 11.6 16.3 Z\"\n",
       "        /><glyph unicode=\")\" horiz-adv-x=\"25.9\" d=\"M-0.9 -19.7 L5.5 -19.7 Q13.3 -9.4 17.25 2.55 Q21.2 14.5 21.2 26.3 Q21.2 32.9 20.1 38.9 Q19 44.9 16.95 50.65 Q14.9 56.4 12 61.95 Q9.1 67.5 5.5 73.1 L-0.9 73.1 Q6.1 61.6 9.15 50.25 Q12.2 38.9 12.2 26.3 Q12.2 14.1 9.2 2.85 Q6.2 -8.4 -0.9 -19.7 Z\"\n",
       "        /><glyph unicode=\"t\" horiz-adv-x=\"31.5\" d=\"M18.2 51.7 L18.2 67.2 L9.7 67.2 L9.7 51.7 L0.9 51.7 L0.9 44.2 L9.7 44.2 L9.7 11.3 Q9.7 7.7 10.4 5.5 Q11.1 3.3 12.55 2.1 Q14 0.9 16.35 0.45 Q18.7 0 22 0 L28.5 0 L28.5 7.5 L24.6 7.5 Q22.6 7.5 21.35 7.65 Q20.1 7.8 19.4 8.3 Q18.7 8.8 18.45 9.7 Q18.2 10.6 18.2 12.1 L18.2 44.2 L28.5 44.2 L28.5 51.7 Z\"\n",
       "        /><glyph unicode=\"(\" horiz-adv-x=\"25.9\" d=\"M20.4 -19.7 L26.9 -19.7 Q19.8 -8.2 16.75 3.1 Q13.7 14.4 13.7 27 Q13.7 39.3 16.7 50.5 Q19.7 61.7 26.9 73.1 L20.4 73.1 Q12.6 62.8 8.65 50.8 Q4.7 38.8 4.7 27 Q4.7 20.4 5.8 14.4 Q6.9 8.4 8.95 2.7 Q11 -3 13.9 -8.55 Q16.8 -14.1 20.4 -19.7 Z\"\n",
       "        /><glyph unicode=\"1\" horiz-adv-x=\"55.6\" d=\"M35.6 0 L35.6 70.9 L29.1 70.9 Q28.4 66.9 26.5 64.3 Q24.6 61.7 21.85 60.2 Q19.1 58.7 15.7 58.15 Q12.3 57.6 8.7 57.6 L8.7 50.8 L27.1 50.8 L27.1 0 Z\"\n",
       "        /><glyph unicode=\"]\" horiz-adv-x=\"25.9\" d=\"M0 -12.9 L0 -19.7 L18.7 -19.7 L18.7 73.1 L0 73.1 L0 66.3 L10.7 66.3 L10.7 -12.9 Z\"\n",
       "        /><glyph unicode=\"[\" horiz-adv-x=\"25.9\" d=\"M25.9 66.3 L25.9 73.1 L7.2 73.1 L7.2 -19.7 L25.9 -19.7 L25.9 -12.9 L15.2 -12.9 L15.2 66.3 Z\"\n",
       "        /><glyph unicode=\" \" horiz-adv-x=\"27.8\" d=\"\"\n",
       "        /><glyph unicode=\"e\" horiz-adv-x=\"53.7\" d=\"M42.3 30.8 L12.6 30.8 Q12.8 33.8 13.9 36.45 Q15 39.1 16.9 41.1 Q18.8 43.1 21.45 44.25 Q24.1 45.4 27.4 45.4 Q30.6 45.4 33.25 44.25 Q35.9 43.1 37.85 41.15 Q39.8 39.2 40.95 36.5 Q42.1 33.8 42.3 30.8 ZM50.5 16.4 L42.1 16.4 Q41 11.3 37.55 8.8 Q34.1 6.3 28.7 6.3 Q24.5 6.3 21.4 7.7 Q18.3 9.1 16.3 11.45 Q14.3 13.8 13.4 16.85 Q12.5 19.9 12.6 23.3 L51.3 23.3 Q51.5 28 50.45 33.2 Q49.4 38.4 46.65 42.8 Q43.9 47.2 39.35 50.05 Q34.8 52.9 27.9 52.9 Q22.6 52.9 18.15 50.9 Q13.7 48.9 10.45 45.3 Q7.2 41.7 5.4 36.8 Q3.6 31.9 3.6 26 Q3.8 20.1 5.35 15.1 Q6.9 10.1 10 6.5 Q13.1 2.9 17.65 0.9 Q22.2 -1.1 28.4 -1.1 Q37.2 -1.1 43 3.3 Q48.8 7.7 50.5 16.4 Z\"\n",
       "        /><glyph unicode=\"m\" horiz-adv-x=\"85.3\" d=\"M6.4 51.7 L6.4 0 L14.9 0 L14.9 32.2 Q14.9 33.7 15.65 35.95 Q16.4 38.2 18.05 40.3 Q19.7 42.4 22.35 43.9 Q25 45.4 28.7 45.4 Q31.6 45.4 33.45 44.55 Q35.3 43.7 36.4 42.15 Q37.5 40.6 37.95 38.5 Q38.4 36.4 38.4 33.9 L38.4 0 L46.9 0 L46.9 32.2 Q46.9 38.2 50.5 41.8 Q54.1 45.4 60.4 45.4 Q63.5 45.4 65.45 44.5 Q67.4 43.6 68.5 42.05 Q69.6 40.5 70 38.4 Q70.4 36.3 70.4 33.9 L70.4 0 L78.9 0 L78.9 37.9 Q78.9 41.9 77.65 44.75 Q76.4 47.6 74.15 49.4 Q71.9 51.2 68.75 52.05 Q65.6 52.9 61.7 52.9 Q56.6 52.9 52.35 50.6 Q48.1 48.3 45.5 44.1 Q43.9 48.9 40 50.9 Q36.1 52.9 31.3 52.9 Q20.4 52.9 14.6 44.1 L14.4 44.1 L14.4 51.7 Z\"\n",
       "        /><glyph unicode=\"i\" horiz-adv-x=\"22.2\" d=\"M15.4 61 L15.4 71.4 L6.9 71.4 L6.9 61 ZM6.9 51.7 L6.9 0 L15.4 0 L15.4 51.7 Z\"\n",
       "        /><glyph unicode=\"T\" horiz-adv-x=\"57.4\" d=\"M24 63.4 L24 0 L33.5 0 L33.5 63.4 L57.3 63.4 L57.3 71.4 L0.2 71.4 L0.2 63.4 Z\"\n",
       "      /></font\n",
       "      ><font horiz-adv-x=\"50.0\" id=\"font2\"\n",
       "      ><font-face ascent=\"97.5\" descent=\"21.699999\" units-per-em=\"100\" style=\"font-style:normal; font-family:Helvetica Neue; font-weight:bold;\"\n",
       "        /><missing-glyph horiz-adv-x=\"50.0\" d=\"M39.1 60.7 L11.1 60.7 L11.1 9.5 L39.1 9.5 ZM48.2 69.8 L48.2 0.3 L1.7 0.3 L1.7 69.8 Z\"\n",
       "        /><glyph unicode=\"x\" horiz-adv-x=\"53.7\" d=\"M18.6 27.2 L0 0 L15.9 0 L26.7 16.3 L37.5 0 L53.7 0 L34.6 27.5 L51.6 51.7 L35.9 51.7 L26.9 38.2 L17.8 51.7 L1.6 51.7 Z\"\n",
       "        /><glyph unicode=\"n\" horiz-adv-x=\"59.3\" d=\"M5.4 51.7 L5.4 0 L19.6 0 L19.6 27.1 Q19.6 35 22.2 38.45 Q24.8 41.9 30.6 41.9 Q35.7 41.9 37.7 38.75 Q39.7 35.6 39.7 29.2 L39.7 0 L53.9 0 L53.9 31.8 Q53.9 36.6 53.05 40.55 Q52.2 44.5 50.1 47.25 Q48 50 44.35 51.55 Q40.7 53.1 35 53.1 Q30.5 53.1 26.2 51.05 Q21.9 49 19.2 44.5 L18.9 44.5 L18.9 51.7 Z\"\n",
       "        /><glyph unicode=\"d\" horiz-adv-x=\"61.1\" d=\"M42.1 26 Q42.1 22.8 41.5 19.8 Q40.9 16.8 39.5 14.45 Q38.1 12.1 35.75 10.7 Q33.4 9.3 29.9 9.3 Q26.6 9.3 24.25 10.75 Q21.9 12.2 20.35 14.55 Q18.8 16.9 18.1 19.9 Q17.4 22.9 17.4 25.9 Q17.4 29.1 18.05 32.05 Q18.7 35 20.15 37.3 Q21.6 39.6 24 41 Q26.4 42.4 29.9 42.4 Q33.4 42.4 35.7 41 Q38 39.6 39.45 37.35 Q40.9 35.1 41.5 32.15 Q42.1 29.2 42.1 26 ZM42.3 6.6 L42.3 0 L55.8 0 L55.8 71.4 L41.6 71.4 L41.6 45.4 L41.4 45.4 Q39 49.2 34.85 51.15 Q30.7 53.1 26.1 53.1 Q20.4 53.1 16.1 50.85 Q11.8 48.6 8.95 44.9 Q6.1 41.2 4.65 36.35 Q3.2 31.5 3.2 26.3 Q3.2 20.9 4.65 15.9 Q6.1 10.9 8.95 7.05 Q11.8 3.2 16.2 0.95 Q20.6 -1.3 26.4 -1.3 Q31.5 -1.3 35.55 0.55 Q39.6 2.4 42.1 6.6 Z\"\n",
       "        /><glyph unicode=\"e\" horiz-adv-x=\"57.4\" d=\"M40.2 31.4 L17.1 31.4 Q17.2 32.9 17.75 34.8 Q18.3 36.7 19.65 38.4 Q21 40.1 23.25 41.25 Q25.5 42.4 28.9 42.4 Q34.1 42.4 36.65 39.6 Q39.2 36.8 40.2 31.4 ZM17.1 22.4 L54.4 22.4 Q54.8 28.4 53.4 33.9 Q52 39.4 48.85 43.7 Q45.7 48 40.8 50.55 Q35.9 53.1 29.3 53.1 Q23.4 53.1 18.55 51 Q13.7 48.9 10.2 45.25 Q6.7 41.6 4.8 36.6 Q2.9 31.6 2.9 25.8 Q2.9 19.8 4.75 14.8 Q6.6 9.8 10 6.2 Q13.4 2.6 18.3 0.65 Q23.2 -1.3 29.3 -1.3 Q38.1 -1.3 44.3 2.7 Q50.5 6.7 53.5 16 L41 16 Q40.3 13.6 37.2 11.45 Q34.1 9.3 29.8 9.3 Q23.8 9.3 20.6 12.4 Q17.4 15.5 17.1 22.4 Z\"\n",
       "        /><glyph unicode=\"l\" horiz-adv-x=\"25.8\" d=\"M5.8 71.4 L5.8 0 L20 0 L20 71.4 Z\"\n",
       "        /><glyph unicode=\"p\" horiz-adv-x=\"61.1\" d=\"M31.5 9.3 Q28.1 9.3 25.7 10.7 Q23.3 12.1 21.85 14.35 Q20.4 16.6 19.75 19.6 Q19.1 22.6 19.1 25.7 Q19.1 28.9 19.7 31.9 Q20.3 34.9 21.75 37.2 Q23.2 39.5 25.55 40.95 Q27.9 42.4 31.4 42.4 Q34.8 42.4 37.15 40.95 Q39.5 39.5 41 37.15 Q42.5 34.8 43.15 31.8 Q43.8 28.8 43.8 25.7 Q43.8 22.6 43.2 19.6 Q42.6 16.6 41.15 14.35 Q39.7 12.1 37.35 10.7 Q35 9.3 31.5 9.3 ZM5.4 51.7 L5.4 -18.1 L19.6 -18.1 L19.6 6.4 L19.8 6.4 Q22.4 2.6 26.45 0.65 Q30.5 -1.3 35.3 -1.3 Q41 -1.3 45.25 0.9 Q49.5 3.1 52.35 6.8 Q55.2 10.5 56.6 15.3 Q58 20.1 58 25.3 Q58 30.8 56.6 35.85 Q55.2 40.9 52.3 44.7 Q49.4 48.5 45 50.8 Q40.6 53.1 34.5 53.1 Q29.7 53.1 25.7 51.2 Q21.7 49.3 19.1 45.1 L18.9 45.1 L18.9 51.7 Z\"\n",
       "        /><glyph unicode=\"m\" horiz-adv-x=\"90.6\" d=\"M5.8 51.7 L5.8 0 L20 0 L20 30 Q20 33.8 21.1 36.15 Q22.2 38.5 23.75 39.75 Q25.3 41 26.95 41.45 Q28.6 41.9 29.6 41.9 Q33 41.9 34.75 40.75 Q36.5 39.6 37.25 37.7 Q38 35.8 38.1 33.55 Q38.2 31.3 38.2 29 L38.2 0 L52.4 0 L52.4 28.8 Q52.4 31.2 52.75 33.55 Q53.1 35.9 54.15 37.75 Q55.2 39.6 57.05 40.75 Q58.9 41.9 61.9 41.9 Q64.9 41.9 66.65 40.9 Q68.4 39.9 69.3 38.2 Q70.2 36.5 70.4 34.2 Q70.6 31.9 70.6 29.3 L70.6 0 L84.8 0 L84.8 34.6 Q84.8 39.6 83.4 43.15 Q82 46.7 79.5 48.9 Q77 51.1 73.5 52.1 Q70 53.1 65.9 53.1 Q60.5 53.1 56.55 50.5 Q52.6 47.9 50.3 44.5 Q48.2 49.3 44.15 51.2 Q40.1 53.1 35.2 53.1 Q30.1 53.1 26.15 50.9 Q22.2 48.7 19.4 44.7 L19.2 44.7 L19.2 51.7 Z\"\n",
       "        /><glyph unicode=\"a\" horiz-adv-x=\"57.4\" d=\"M4.8 35.8 Q5.1 40.8 7.3 44.1 Q9.5 47.4 12.9 49.4 Q16.3 51.4 20.55 52.25 Q24.8 53.1 29.1 53.1 Q33 53.1 37 52.55 Q41 52 44.3 50.4 Q47.6 48.8 49.7 45.95 Q51.8 43.1 51.8 38.4 L51.8 11.5 Q51.8 8 52.2 4.8 Q52.6 1.6 53.6 0 L39.2 0 Q38.8 1.2 38.55 2.45 Q38.3 3.7 38.2 5 Q34.8 1.5 30.2 0.1 Q25.6 -1.3 20.8 -1.3 Q17.1 -1.3 13.9 -0.4 Q10.7 0.5 8.3 2.4 Q5.9 4.3 4.55 7.2 Q3.2 10.1 3.2 14.1 Q3.2 18.5 4.75 21.35 Q6.3 24.2 8.75 25.9 Q11.2 27.6 14.35 28.45 Q17.5 29.3 20.7 29.8 Q23.9 30.3 27 30.6 Q30.1 30.9 32.5 31.5 Q34.9 32.1 36.3 33.25 Q37.7 34.4 37.6 36.6 Q37.6 38.9 36.85 40.25 Q36.1 41.6 34.85 42.35 Q33.6 43.1 31.95 43.35 Q30.3 43.6 28.4 43.6 Q24.2 43.6 21.8 41.8 Q19.4 40 19 35.8 ZM37.6 25.3 Q36.7 24.5 35.35 24.05 Q34 23.6 32.45 23.3 Q30.9 23 29.2 22.8 Q27.5 22.6 25.8 22.3 Q24.2 22 22.65 21.5 Q21.1 21 19.95 20.15 Q18.8 19.3 18.1 18 Q17.4 16.7 17.4 14.7 Q17.4 12.8 18.1 11.5 Q18.8 10.2 20 9.45 Q21.2 8.7 22.8 8.4 Q24.4 8.1 26.1 8.1 Q30.3 8.1 32.6 9.5 Q34.9 10.9 36 12.85 Q37.1 14.8 37.35 16.8 Q37.6 18.8 37.6 20 Z\"\n",
       "        /><glyph unicode=\"S\" horiz-adv-x=\"64.9\" d=\"M17.6 23.7 L2.4 23.7 Q2.3 17.1 4.8 12.3 Q7.3 7.5 11.55 4.4 Q15.8 1.3 21.35 -0.15 Q26.9 -1.6 32.8 -1.6 Q40.1 -1.6 45.65 0.1 Q51.2 1.8 54.95 4.85 Q58.7 7.9 60.6 12.1 Q62.5 16.3 62.5 21.2 Q62.5 27.2 59.95 31.05 Q57.4 34.9 53.9 37.2 Q50.4 39.5 46.85 40.55 Q43.3 41.6 41.3 42 Q34.6 43.7 30.45 44.8 Q26.3 45.9 23.95 47 Q21.6 48.1 20.8 49.4 Q20 50.7 20 52.8 Q20 55.1 21 56.6 Q22 58.1 23.55 59.1 Q25.1 60.1 27 60.5 Q28.9 60.9 30.8 60.9 Q33.7 60.9 36.15 60.4 Q38.6 59.9 40.5 58.7 Q42.4 57.5 43.55 55.4 Q44.7 53.3 44.9 50.1 L60.1 50.1 Q60.1 56.3 57.75 60.65 Q55.4 65 51.4 67.8 Q47.4 70.6 42.25 71.85 Q37.1 73.1 31.5 73.1 Q26.7 73.1 21.9 71.8 Q17.1 70.5 13.3 67.8 Q9.5 65.1 7.15 61.05 Q4.8 57 4.8 51.5 Q4.8 46.6 6.65 43.15 Q8.5 39.7 11.5 37.4 Q14.5 35.1 18.3 33.65 Q22.1 32.2 26.1 31.2 Q30 30.1 33.8 29.2 Q37.6 28.3 40.6 27.1 Q43.6 25.9 45.45 24.1 Q47.3 22.3 47.3 19.4 Q47.3 16.7 45.9 14.95 Q44.5 13.2 42.4 12.2 Q40.3 11.2 37.9 10.85 Q35.5 10.5 33.4 10.5 Q30.3 10.5 27.4 11.25 Q24.5 12 22.35 13.55 Q20.2 15.1 18.9 17.6 Q17.6 20.1 17.6 23.7 Z\"\n",
       "        /><glyph unicode=\":\" horiz-adv-x=\"27.8\" d=\"M21.8 35.4 L21.8 50.8 L6.1 50.8 L6.1 35.4 ZM6.1 15.4 L6.1 0 L21.8 0 L21.8 15.4 Z\"\n",
       "        /><glyph unicode=\"2\" horiz-adv-x=\"55.6\" d=\"M3.7 43.1 L17.3 43.1 Q17.3 45.9 17.85 48.75 Q18.4 51.6 19.7 53.95 Q21 56.3 23.15 57.75 Q25.3 59.2 28.4 59.2 Q33 59.2 35.95 56.35 Q38.9 53.5 38.9 48.4 Q38.9 45.2 37.45 42.7 Q36 40.2 33.85 38.2 Q31.7 36.2 29.1 34.55 Q26.5 32.9 24.2 31.3 Q19.7 28.2 15.65 25.2 Q11.6 22.2 8.6 18.65 Q5.6 15.1 3.85 10.6 Q2.1 6.1 2.1 0 L53.5 0 L53.5 12.2 L20.4 12.2 Q23 15.8 26.4 18.5 Q29.8 21.2 33.4 23.55 Q37 25.9 40.55 28.3 Q44.1 30.7 46.9 33.65 Q49.7 36.6 51.4 40.4 Q53.1 44.2 53.1 49.5 Q53.1 54.6 51.15 58.7 Q49.2 62.8 45.9 65.6 Q42.6 68.4 38.25 69.9 Q33.9 71.4 29.1 71.4 Q22.8 71.4 17.95 69.25 Q13.1 67.1 9.9 63.25 Q6.7 59.4 5.1 54.25 Q3.5 49.1 3.7 43.1 Z\"\n",
       "        /><glyph unicode=\" \" horiz-adv-x=\"27.8\" d=\"\"\n",
       "        /><glyph unicode=\"g\" horiz-adv-x=\"61.1\" d=\"M29.5 12.2 Q26.2 12.2 24 13.6 Q21.8 15 20.45 17.2 Q19.1 19.4 18.55 22.15 Q18 24.9 18 27.7 Q18 30.6 18.65 33.25 Q19.3 35.9 20.75 37.95 Q22.2 40 24.35 41.2 Q26.5 42.4 29.5 42.4 Q33 42.4 35.3 41.1 Q37.6 39.8 39 37.6 Q40.4 35.4 41 32.55 Q41.6 29.7 41.6 26.5 Q41.6 23.7 40.85 21.15 Q40.1 18.6 38.6 16.6 Q37.1 14.6 34.8 13.4 Q32.5 12.2 29.5 12.2 ZM55.1 3.3 L55.1 51.7 L41.6 51.7 L41.6 44.8 L41.4 44.8 Q38.8 49.3 34.95 51.2 Q31.1 53.1 26 53.1 Q20.6 53.1 16.45 51 Q12.3 48.9 9.5 45.35 Q6.7 41.8 5.25 37.15 Q3.8 32.5 3.8 27.5 Q3.8 22.2 5.05 17.45 Q6.3 12.7 9 9.15 Q11.7 5.6 15.9 3.55 Q20.1 1.5 25.9 1.5 Q30.6 1.5 34.85 3.45 Q39.1 5.4 41.4 9.5 L41.6 9.5 L41.6 2.7 Q41.7 -2.8 38.95 -6.4 Q36.2 -10 30.2 -10 Q26.4 -10 23.5 -8.45 Q20.6 -6.9 19.6 -2.9 L5.5 -2.9 Q5.8 -7.3 7.95 -10.45 Q10.1 -13.6 13.35 -15.6 Q16.6 -17.6 20.55 -18.55 Q24.5 -19.5 28.3 -19.5 Q37.2 -19.5 42.5 -17.1 Q47.8 -14.7 50.6 -11.25 Q53.4 -7.8 54.25 -3.8 Q55.1 0.2 55.1 3.3 Z\"\n",
       "        /><glyph unicode=\"i\" horiz-adv-x=\"25.8\" d=\"M20 59.7 L20 71.4 L5.8 71.4 L5.8 59.7 ZM5.8 51.7 L5.8 0 L20 0 L20 51.7 Z\"\n",
       "        /><glyph unicode=\"F\" horiz-adv-x=\"59.3\" d=\"M6.9 71.4 L6.9 0 L22.6 0 L22.6 29.5 L52.5 29.5 L52.5 41.7 L22.6 41.7 L22.6 58.2 L57.1 58.2 L57.1 71.4 Z\"\n",
       "        /><glyph unicode=\"s\" horiz-adv-x=\"53.7\" d=\"M16.4 16.8 L2.9 16.8 Q3.1 11.6 5.25 8.15 Q7.4 4.7 10.75 2.6 Q14.1 0.5 18.4 -0.4 Q22.7 -1.3 27.2 -1.3 Q31.6 -1.3 35.85 -0.45 Q40.1 0.4 43.4 2.5 Q46.7 4.6 48.75 8.05 Q50.8 11.5 50.8 16.6 Q50.8 20.2 49.4 22.65 Q48 25.1 45.7 26.75 Q43.4 28.4 40.45 29.4 Q37.5 30.4 34.4 31.1 Q31.4 31.8 28.5 32.4 Q25.6 33 23.35 33.75 Q21.1 34.5 19.7 35.7 Q18.3 36.9 18.3 38.8 Q18.3 40.4 19.1 41.35 Q19.9 42.3 21.05 42.8 Q22.2 43.3 23.6 43.45 Q25 43.6 26.2 43.6 Q30 43.6 32.8 42.15 Q35.6 40.7 35.9 36.6 L49.4 36.6 Q49 41.4 46.95 44.55 Q44.9 47.7 41.8 49.6 Q38.7 51.5 34.75 52.3 Q30.8 53.1 26.6 53.1 Q22.4 53.1 18.4 52.35 Q14.4 51.6 11.2 49.75 Q8 47.9 6.05 44.7 Q4.1 41.5 4.1 36.5 Q4.1 33.1 5.5 30.75 Q6.9 28.4 9.2 26.85 Q11.5 25.3 14.45 24.35 Q17.4 23.4 20.5 22.7 Q28.1 21.1 32.35 19.5 Q36.6 17.9 36.6 14.7 Q36.6 12.8 35.7 11.55 Q34.8 10.3 33.45 9.55 Q32.1 8.8 30.45 8.45 Q28.8 8.1 27.3 8.1 Q25.2 8.1 23.25 8.6 Q21.3 9.1 19.8 10.15 Q18.3 11.2 17.35 12.85 Q16.4 14.5 16.4 16.8 Z\"\n",
       "        /><glyph unicode=\")\" horiz-adv-x=\"29.6\" d=\"M-0.6 -18.1 L11.2 -18.1 Q14.5 -13.4 17 -7.7 Q19.5 -2 21.15 4.05 Q22.8 10.1 23.6 16.25 Q24.4 22.4 24.4 28 Q24.4 39.8 20.95 51.3 Q17.5 62.8 11.2 73.1 L-0.5 73.1 Q5 62.2 7.6 50.6 Q10.2 39 10.2 27 Q10.2 15.2 7.55 3.85 Q4.9 -7.5 -0.6 -18.1 Z\"\n",
       "        /><glyph unicode=\"t\" horiz-adv-x=\"35.2\" d=\"M23.4 51.7 L23.4 67.2 L9.2 67.2 L9.2 51.7 L0.6 51.7 L0.6 42.2 L9.2 42.2 L9.2 11.7 Q9.2 7.8 10.5 5.4 Q11.8 3 14.05 1.7 Q16.3 0.4 19.25 -0.05 Q22.2 -0.5 25.5 -0.5 Q27.6 -0.5 29.8 -0.4 Q32 -0.3 33.8 0 L33.8 11 Q32.8 10.8 31.7 10.7 Q30.6 10.6 29.4 10.6 Q25.8 10.6 24.6 11.8 Q23.4 13 23.4 16.6 L23.4 42.2 L33.8 42.2 L33.8 51.7 Z\"\n",
       "        /><glyph unicode=\"(\" horiz-adv-x=\"29.6\" d=\"M30.3 73.1 L18.4 73.1 Q15.1 68.3 12.65 62.6 Q10.2 56.9 8.55 50.8 Q6.9 44.7 6.05 38.55 Q5.2 32.4 5.2 26.8 Q5.2 15 8.65 3.6 Q12.1 -7.8 18.4 -18.1 L30.2 -18.1 Q24.5 -7.2 21.95 4.3 Q19.4 15.8 19.4 27.8 Q19.4 39.6 22 51.05 Q24.6 62.5 30.3 73.1 Z\"\n",
       "      /></font\n",
       "    ></defs\n",
       "    ><g style=\"fill:white; stroke:white;\"\n",
       "    ><rect x=\"0\" y=\"0\" width=\"560\" style=\"clip-path:url(#clipPath1); stroke:none;\" height=\"420\"\n",
       "    /></g\n",
       "    ><g style=\"fill:white; text-rendering:optimizeSpeed; color-rendering:optimizeSpeed; image-rendering:optimizeSpeed; shape-rendering:crispEdges; stroke:white; color-interpolation:sRGB;\"\n",
       "    ><rect x=\"0\" width=\"560\" height=\"420\" y=\"0\" style=\"stroke:none;\"\n",
       "      /><path style=\"stroke:none;\" d=\"M73 373 L507 373 L507 35 L73 35 Z\"\n",
       "    /></g\n",
       "    ><g style=\"fill:rgb(38,38,38); text-rendering:geometricPrecision; image-rendering:optimizeQuality; color-rendering:optimizeQuality; stroke-linejoin:round; stroke:rgb(38,38,38); color-interpolation:linearRGB; stroke-width:0.5;\"\n",
       "    ><line y2=\"35\" style=\"fill:none;\" x1=\"73\" x2=\"73\" y1=\"373\"\n",
       "      /><line y2=\"35\" style=\"fill:none;\" x1=\"507\" x2=\"507\" y1=\"373\"\n",
       "      /><line y2=\"373\" style=\"fill:none;\" x1=\"73\" x2=\"77.34\" y1=\"373\"\n",
       "      /><line y2=\"316.6667\" style=\"fill:none;\" x1=\"73\" x2=\"77.34\" y1=\"316.6667\"\n",
       "      /><line y2=\"260.3333\" style=\"fill:none;\" x1=\"73\" x2=\"77.34\" y1=\"260.3333\"\n",
       "      /><line y2=\"204\" style=\"fill:none;\" x1=\"73\" x2=\"77.34\" y1=\"204\"\n",
       "      /><line y2=\"147.6667\" style=\"fill:none;\" x1=\"73\" x2=\"77.34\" y1=\"147.6667\"\n",
       "      /><line y2=\"91.3333\" style=\"fill:none;\" x1=\"73\" x2=\"77.34\" y1=\"91.3333\"\n",
       "      /><line y2=\"35\" style=\"fill:none;\" x1=\"73\" x2=\"77.34\" y1=\"35\"\n",
       "      /><line y2=\"373\" style=\"fill:none;\" x1=\"507\" x2=\"502.66\" y1=\"373\"\n",
       "      /><line y2=\"316.6667\" style=\"fill:none;\" x1=\"507\" x2=\"502.66\" y1=\"316.6667\"\n",
       "      /><line y2=\"260.3333\" style=\"fill:none;\" x1=\"507\" x2=\"502.66\" y1=\"260.3333\"\n",
       "      /><line y2=\"204\" style=\"fill:none;\" x1=\"507\" x2=\"502.66\" y1=\"204\"\n",
       "      /><line y2=\"147.6667\" style=\"fill:none;\" x1=\"507\" x2=\"502.66\" y1=\"147.6667\"\n",
       "      /><line y2=\"91.3333\" style=\"fill:none;\" x1=\"507\" x2=\"502.66\" y1=\"91.3333\"\n",
       "      /><line y2=\"35\" style=\"fill:none;\" x1=\"507\" x2=\"502.66\" y1=\"35\"\n",
       "    /></g\n",
       "    ><g transform=\"translate(67.8,373)\" style=\"font-size:16px; fill:rgb(38,38,38); text-rendering:geometricPrecision; image-rendering:optimizeQuality; color-rendering:optimizeQuality; font-family:'Helvetica Neue'; stroke:rgb(38,38,38); color-interpolation:linearRGB;\"\n",
       "    ><text x=\"-29\" xml:space=\"preserve\" y=\"6\" style=\"stroke:none;\"\n",
       "      >-0.4</text\n",
       "    ></g\n",
       "    ><g transform=\"translate(67.8,316.6667)\" style=\"font-size:16px; fill:rgb(38,38,38); text-rendering:geometricPrecision; image-rendering:optimizeQuality; color-rendering:optimizeQuality; font-family:'Helvetica Neue'; stroke:rgb(38,38,38); color-interpolation:linearRGB;\"\n",
       "    ><text x=\"-29\" xml:space=\"preserve\" y=\"6\" style=\"stroke:none;\"\n",
       "      >-0.2</text\n",
       "    ></g\n",
       "    ><g transform=\"translate(67.8,260.3333)\" style=\"font-size:16px; fill:rgb(38,38,38); text-rendering:geometricPrecision; image-rendering:optimizeQuality; color-rendering:optimizeQuality; font-family:'Helvetica Neue'; stroke:rgb(38,38,38); color-interpolation:linearRGB;\"\n",
       "    ><text x=\"-9\" xml:space=\"preserve\" y=\"6\" style=\"stroke:none;\"\n",
       "      >0</text\n",
       "    ></g\n",
       "    ><g transform=\"translate(67.8,204)\" style=\"font-size:16px; fill:rgb(38,38,38); text-rendering:geometricPrecision; image-rendering:optimizeQuality; color-rendering:optimizeQuality; font-family:'Helvetica Neue'; stroke:rgb(38,38,38); color-interpolation:linearRGB;\"\n",
       "    ><text x=\"-23\" xml:space=\"preserve\" y=\"6\" style=\"stroke:none;\"\n",
       "      >0.2</text\n",
       "    ></g\n",
       "    ><g transform=\"translate(67.8,147.6667)\" style=\"font-size:16px; fill:rgb(38,38,38); text-rendering:geometricPrecision; image-rendering:optimizeQuality; color-rendering:optimizeQuality; font-family:'Helvetica Neue'; stroke:rgb(38,38,38); color-interpolation:linearRGB;\"\n",
       "    ><text x=\"-23\" xml:space=\"preserve\" y=\"6\" style=\"stroke:none;\"\n",
       "      >0.4</text\n",
       "    ></g\n",
       "    ><g transform=\"translate(67.8,91.3333)\" style=\"font-size:16px; fill:rgb(38,38,38); text-rendering:geometricPrecision; image-rendering:optimizeQuality; color-rendering:optimizeQuality; font-family:'Helvetica Neue'; stroke:rgb(38,38,38); color-interpolation:linearRGB;\"\n",
       "    ><text x=\"-23\" xml:space=\"preserve\" y=\"6\" style=\"stroke:none;\"\n",
       "      >0.6</text\n",
       "    ></g\n",
       "    ><g transform=\"translate(67.8,35)\" style=\"font-size:16px; fill:rgb(38,38,38); text-rendering:geometricPrecision; image-rendering:optimizeQuality; color-rendering:optimizeQuality; font-family:'Helvetica Neue'; stroke:rgb(38,38,38); color-interpolation:linearRGB;\"\n",
       "    ><text x=\"-23\" xml:space=\"preserve\" y=\"6\" style=\"stroke:none;\"\n",
       "      >0.8</text\n",
       "    ></g\n",
       "    ><g transform=\"translate(25,221) rotate(-90)\" style=\"font-size:17.6px; fill:rgb(38,38,38); text-rendering:geometricPrecision; image-rendering:optimizeQuality; color-rendering:optimizeQuality; font-family:'Helvetica Neue'; stroke:rgb(38,38,38); color-interpolation:linearRGB;\"\n",
       "    ><text x=\"0\" xml:space=\"preserve\" y=\"0\" style=\"stroke:none;\"\n",
       "      >x</text\n",
       "    ></g\n",
       "    ><g transform=\"translate(33,211) rotate(-90)\" style=\"font-size:14.08px; fill:rgb(38,38,38); text-rendering:geometricPrecision; image-rendering:optimizeQuality; color-rendering:optimizeQuality; font-family:'Helvetica Neue'; stroke:rgb(38,38,38); color-interpolation:linearRGB;\"\n",
       "    ><text x=\"0\" xml:space=\"preserve\" y=\"0\" style=\"stroke:none;\"\n",
       "      >s</text\n",
       "    ></g\n",
       "    ><g transform=\"translate(25,203) rotate(-90)\" style=\"font-size:17.6px; fill:rgb(38,38,38); text-rendering:geometricPrecision; image-rendering:optimizeQuality; color-rendering:optimizeQuality; font-family:'Helvetica Neue'; stroke:rgb(38,38,38); color-interpolation:linearRGB;\"\n",
       "    ><text x=\"0\" xml:space=\"preserve\" y=\"0\" style=\"stroke:none;\"\n",
       "      >(t)</text\n",
       "    ></g\n",
       "    ><g transform=\"translate(180,19)\" style=\"font-size:17.6px; text-rendering:geometricPrecision; image-rendering:optimizeQuality; color-rendering:optimizeQuality; font-family:'Helvetica Neue'; color-interpolation:linearRGB; font-weight:bold;\"\n",
       "    ><text x=\"0\" xml:space=\"preserve\" y=\"0\" style=\"stroke:none;\"\n",
       "      >Fig 2: Sampled Signal x</text\n",
       "    ></g\n",
       "    ><g transform=\"translate(375,27)\" style=\"font-size:14.08px; text-rendering:geometricPrecision; image-rendering:optimizeQuality; color-rendering:optimizeQuality; font-family:'Helvetica Neue'; color-interpolation:linearRGB; font-weight:bold;\"\n",
       "    ><text x=\"0\" xml:space=\"preserve\" y=\"0\" style=\"stroke:none;\"\n",
       "      >s</text\n",
       "    ></g\n",
       "    ><g transform=\"translate(383,19)\" style=\"font-size:17.6px; text-rendering:geometricPrecision; image-rendering:optimizeQuality; color-rendering:optimizeQuality; font-family:'Helvetica Neue'; color-interpolation:linearRGB; font-weight:bold;\"\n",
       "    ><text x=\"0\" xml:space=\"preserve\" y=\"0\" style=\"stroke:none;\"\n",
       "      >(t)</text\n",
       "    ></g\n",
       "    ><g style=\"stroke-linecap:butt; fill:rgb(38,38,38); text-rendering:geometricPrecision; image-rendering:optimizeQuality; color-rendering:optimizeQuality; stroke-linejoin:round; stroke:rgb(38,38,38); color-interpolation:linearRGB; stroke-width:0.5;\"\n",
       "    ><line y2=\"260.3333\" style=\"fill:none;\" x1=\"73\" x2=\"507\" y1=\"260.3333\"\n",
       "      /><path d=\"M0 -2.75 C1.5188 -2.75 2.75 -1.5188 2.75 0 L2.75 0 C2.75 1.5188 1.5188 2.75 -0 2.75 C-1.5188 2.75 -2.75 1.5188 -2.75 -0 C-2.75 -1.5188 -1.5188 -2.75 0 -2.75 ZM0 -3.25 C-1.7949 -3.25 -3.25 -1.7949 -3.25 -0 C-3.25 1.7949 -1.7949 3.25 -0 3.25 C1.7949 3.25 3.25 1.7949 3.25 0 L3.25 0 C3.25 -1.7949 1.7949 -3.25 0 -3.25 Z\" style=\"fill:rgb(0,114,189); stroke:none;\" transform=\"translate(73,260.3333)\"\n",
       "      /><path d=\"M0 -2.75 C1.5188 -2.75 2.75 -1.5188 2.75 0 L2.75 0 C2.75 1.5188 1.5188 2.75 -0 2.75 C-1.5188 2.75 -2.75 1.5188 -2.75 -0 C-2.75 -1.5188 -1.5188 -2.75 0 -2.75 ZM0 -3.25 C-1.7949 -3.25 -3.25 -1.7949 -3.25 -0 C-3.25 1.7949 -1.7949 3.25 -0 3.25 C1.7949 3.25 3.25 1.7949 3.25 0 L3.25 0 C3.25 -1.7949 1.7949 -3.25 0 -3.25 Z\" style=\"fill:rgb(0,114,189); stroke:none;\" transform=\"translate(141.1726,76.5015)\"\n",
       "      /><path d=\"M0 -2.75 C1.5188 -2.75 2.75 -1.5188 2.75 0 L2.75 0 C2.75 1.5188 1.5188 2.75 -0 2.75 C-1.5188 2.75 -2.75 1.5188 -2.75 -0 C-2.75 -1.5188 -1.5188 -2.75 0 -2.75 ZM0 -3.25 C-1.7949 -3.25 -3.25 -1.7949 -3.25 -0 C-3.25 1.7949 -1.7949 3.25 -0 3.25 C1.7949 3.25 3.25 1.7949 3.25 0 L3.25 0 C3.25 -1.7949 1.7949 -3.25 0 -3.25 Z\" style=\"fill:rgb(0,114,189); stroke:none;\" transform=\"translate(209.3451,243.7426)\"\n",
       "      /><path d=\"M0 -2.75 C1.5188 -2.75 2.75 -1.5188 2.75 0 L2.75 0 C2.75 1.5188 1.5188 2.75 -0 2.75 C-1.5188 2.75 -2.75 1.5188 -2.75 -0 C-2.75 -1.5188 -1.5188 -2.75 0 -2.75 ZM0 -3.25 C-1.7949 -3.25 -3.25 -1.7949 -3.25 -0 C-3.25 1.7949 -1.7949 3.25 -0 3.25 C1.7949 3.25 3.25 1.7949 3.25 0 L3.25 0 C3.25 -1.7949 1.7949 -3.25 0 -3.25 Z\" style=\"fill:rgb(0,114,189); stroke:none;\" transform=\"translate(277.5177,330.4681)\"\n",
       "      /><path d=\"M0 -2.75 C1.5188 -2.75 2.75 -1.5188 2.75 0 L2.75 0 C2.75 1.5188 1.5188 2.75 -0 2.75 C-1.5188 2.75 -2.75 1.5188 -2.75 -0 C-2.75 -1.5188 -1.5188 -2.75 0 -2.75 ZM0 -3.25 C-1.7949 -3.25 -3.25 -1.7949 -3.25 -0 C-3.25 1.7949 -1.7949 3.25 -0 3.25 C1.7949 3.25 3.25 1.7949 3.25 0 L3.25 0 C3.25 -1.7949 1.7949 -3.25 0 -3.25 Z\" style=\"fill:rgb(0,114,189); stroke:none;\" transform=\"translate(345.6902,273.1277)\"\n",
       "      /><path d=\"M0 -2.75 C1.5188 -2.75 2.75 -1.5188 2.75 0 L2.75 0 C2.75 1.5188 1.5188 2.75 -0 2.75 C-1.5188 2.75 -2.75 1.5188 -2.75 -0 C-2.75 -1.5188 -1.5188 -2.75 0 -2.75 ZM0 -3.25 C-1.7949 -3.25 -3.25 -1.7949 -3.25 -0 C-3.25 1.7949 -1.7949 3.25 -0 3.25 C1.7949 3.25 3.25 1.7949 3.25 0 L3.25 0 C3.25 -1.7949 1.7949 -3.25 0 -3.25 Z\" style=\"fill:rgb(0,114,189); stroke:none;\" transform=\"translate(413.8628,234.1592)\"\n",
       "      /><path d=\"M0 -2.75 C1.5188 -2.75 2.75 -1.5188 2.75 0 L2.75 0 C2.75 1.5188 1.5188 2.75 -0 2.75 C-1.5188 2.75 -2.75 1.5188 -2.75 -0 C-2.75 -1.5188 -1.5188 -2.75 0 -2.75 ZM0 -3.25 C-1.7949 -3.25 -3.25 -1.7949 -3.25 -0 C-3.25 1.7949 -1.7949 3.25 -0 3.25 C1.7949 3.25 3.25 1.7949 3.25 0 L3.25 0 C3.25 -1.7949 1.7949 -3.25 0 -3.25 Z\" style=\"fill:rgb(0,114,189); stroke:none;\" transform=\"translate(482.0354,252.9856)\"\n",
       "      /><line x1=\"73\" x2=\"73\" y1=\"260.3333\" style=\"fill:none; stroke:rgb(0,114,189);\" y2=\"260.3333\"\n",
       "      /><line x1=\"141.1726\" x2=\"141.1726\" y1=\"260.3333\" style=\"fill:none; stroke:rgb(0,114,189);\" y2=\"76.5015\"\n",
       "      /><line x1=\"209.3451\" x2=\"209.3451\" y1=\"260.3333\" style=\"fill:none; stroke:rgb(0,114,189);\" y2=\"243.7426\"\n",
       "      /><line x1=\"277.5177\" x2=\"277.5177\" y1=\"260.3333\" style=\"fill:none; stroke:rgb(0,114,189);\" y2=\"330.4681\"\n",
       "      /><line x1=\"345.6902\" x2=\"345.6902\" y1=\"260.3333\" style=\"fill:none; stroke:rgb(0,114,189);\" y2=\"273.1277\"\n",
       "      /><line x1=\"413.8628\" x2=\"413.8628\" y1=\"260.3333\" style=\"fill:none; stroke:rgb(0,114,189);\" y2=\"234.1592\"\n",
       "      /><line x1=\"482.0354\" x2=\"482.0354\" y1=\"260.3333\" style=\"fill:none; stroke:rgb(0,114,189);\" y2=\"252.9856\"\n",
       "    /></g\n",
       "    ><g style=\"stroke-linecap:butt; fill:red; text-rendering:geometricPrecision; image-rendering:optimizeQuality; color-rendering:optimizeQuality; stroke-linejoin:bevel; stroke-dasharray:1,3; stroke:red; color-interpolation:linearRGB; stroke-width:0.5; stroke-miterlimit:1;\"\n",
       "    ><path d=\"M73 260.3333 L77.1317 234.3095 L81.2633 209.9596 L85.395 187.405 L89.5267 166.7445 L93.6583 148.0549 L97.79 131.3913 L101.9217 116.7877 L106.0534 104.2585 L110.185 93.7988 L114.3167 85.3856 L118.4484 78.9795 L122.58 74.5254 L126.7117 71.9541 L130.8434 71.1838 L134.9751 72.1212 L139.1067 74.6633 L143.2384 78.6986 L147.3701 84.1087 L151.5017 90.7695 L155.6334 98.5532 L159.7651 107.3287 L163.8967 116.9639 L168.0284 127.3261 L172.1601 138.2838 L176.2918 149.7074 L180.4234 161.4706 L184.5551 173.4509 L188.6868 185.5309 L192.8184 197.5986 L196.9501 209.5486 L201.0818 221.2821 L205.2135 232.7079 L209.3451 243.7426 L213.4768 254.3106 L217.6085 264.345 L221.7401 273.7869 L225.8718 282.5862 L230.0035 290.7011 L234.1351 298.0981 L238.2668 304.7521 L242.3985 310.6456 L246.5302 315.7691 L250.6618 320.1201 L254.7935 323.7034 L258.9252 326.5298 L263.0569 328.6167 L267.1885 329.9867 L271.3202 330.6674 L275.4518 330.6913 L279.5835 330.0946 L283.7152 328.9169 L287.8469 327.2009 L291.9785 324.9915 L296.1102 322.3357 L300.2419 319.2816 L304.3735 315.8781 L308.5052 312.1747 L312.6369 308.2206 L316.7686 304.0644 L320.9002 299.7541 L325.0319 295.3361 L329.1636 290.8552 L333.2952 286.3545 L337.4269 281.8746 L341.5586 277.4538 L345.6902 273.1277 L349.8219 268.9293 L353.9536 264.8882 L358.0853 261.0314 L362.2169 257.3826 L366.3486 253.9623 L370.4803 250.788 L374.6119 247.874 L378.7436 245.2314 L382.8753 242.8684 L387.007 240.7904 L391.1386 238.9998 L395.2703 237.4964 L399.4019 236.2774 L403.5336 235.3379 L407.6653 234.6706 L411.797 234.2662 L415.9286 234.1137 L420.0603 234.2005 L424.192 234.5125 L428.3236 235.0344 L432.4554 235.7501 L436.587 236.6424 L440.7187 237.6937 L444.8503 238.886 L448.982 240.2008 L453.1137 241.6198 L457.2454 243.1248 L461.377 244.6977 L465.5087 246.3209 L469.6404 247.9773 L473.772 249.6506 L477.9037 251.3249 L482.0354 252.9856\" style=\"fill:none; fill-rule:evenodd;\"\n",
       "    /></g\n",
       "    ><g style=\"fill:rgb(38,38,38); text-rendering:geometricPrecision; image-rendering:optimizeQuality; color-rendering:optimizeQuality; stroke-linejoin:round; stroke:rgb(38,38,38); color-interpolation:linearRGB; stroke-width:0.5;\"\n",
       "    ><line y2=\"373\" style=\"fill:none;\" x1=\"73\" x2=\"507\" y1=\"373\"\n",
       "      /><line y2=\"35\" style=\"fill:none;\" x1=\"73\" x2=\"507\" y1=\"35\"\n",
       "      /><line y2=\"368.66\" style=\"fill:none;\" x1=\"73\" x2=\"73\" y1=\"373\"\n",
       "      /><line y2=\"368.66\" style=\"fill:none;\" x1=\"159.8\" x2=\"159.8\" y1=\"373\"\n",
       "      /><line y2=\"368.66\" style=\"fill:none;\" x1=\"246.6\" x2=\"246.6\" y1=\"373\"\n",
       "      /><line y2=\"368.66\" style=\"fill:none;\" x1=\"333.4\" x2=\"333.4\" y1=\"373\"\n",
       "      /><line y2=\"368.66\" style=\"fill:none;\" x1=\"420.2\" x2=\"420.2\" y1=\"373\"\n",
       "      /><line y2=\"368.66\" style=\"fill:none;\" x1=\"507\" x2=\"507\" y1=\"373\"\n",
       "      /><line y2=\"39.34\" style=\"fill:none;\" x1=\"73\" x2=\"73\" y1=\"35\"\n",
       "      /><line y2=\"39.34\" style=\"fill:none;\" x1=\"159.8\" x2=\"159.8\" y1=\"35\"\n",
       "      /><line y2=\"39.34\" style=\"fill:none;\" x1=\"246.6\" x2=\"246.6\" y1=\"35\"\n",
       "      /><line y2=\"39.34\" style=\"fill:none;\" x1=\"333.4\" x2=\"333.4\" y1=\"35\"\n",
       "      /><line y2=\"39.34\" style=\"fill:none;\" x1=\"420.2\" x2=\"420.2\" y1=\"35\"\n",
       "      /><line y2=\"39.34\" style=\"fill:none;\" x1=\"507\" x2=\"507\" y1=\"35\"\n",
       "    /></g\n",
       "    ><g transform=\"translate(73,378.2)\" style=\"font-size:16px; fill:rgb(38,38,38); text-rendering:geometricPrecision; image-rendering:optimizeQuality; color-rendering:optimizeQuality; font-family:'Helvetica Neue'; stroke:rgb(38,38,38); color-interpolation:linearRGB;\"\n",
       "    ><text x=\"-4.5\" xml:space=\"preserve\" y=\"16\" style=\"stroke:none;\"\n",
       "      >0</text\n",
       "    ></g\n",
       "    ><g transform=\"translate(159.8,378.2)\" style=\"font-size:16px; fill:rgb(38,38,38); text-rendering:geometricPrecision; image-rendering:optimizeQuality; color-rendering:optimizeQuality; font-family:'Helvetica Neue'; stroke:rgb(38,38,38); color-interpolation:linearRGB;\"\n",
       "    ><text x=\"-4.5\" xml:space=\"preserve\" y=\"16\" style=\"stroke:none;\"\n",
       "      >2</text\n",
       "    ></g\n",
       "    ><g transform=\"translate(246.6,378.2)\" style=\"font-size:16px; fill:rgb(38,38,38); text-rendering:geometricPrecision; image-rendering:optimizeQuality; color-rendering:optimizeQuality; font-family:'Helvetica Neue'; stroke:rgb(38,38,38); color-interpolation:linearRGB;\"\n",
       "    ><text x=\"-4.5\" xml:space=\"preserve\" y=\"16\" style=\"stroke:none;\"\n",
       "      >4</text\n",
       "    ></g\n",
       "    ><g transform=\"translate(333.4,378.2)\" style=\"font-size:16px; fill:rgb(38,38,38); text-rendering:geometricPrecision; image-rendering:optimizeQuality; color-rendering:optimizeQuality; font-family:'Helvetica Neue'; stroke:rgb(38,38,38); color-interpolation:linearRGB;\"\n",
       "    ><text x=\"-4.5\" xml:space=\"preserve\" y=\"16\" style=\"stroke:none;\"\n",
       "      >6</text\n",
       "    ></g\n",
       "    ><g transform=\"translate(420.2,378.2)\" style=\"font-size:16px; fill:rgb(38,38,38); text-rendering:geometricPrecision; image-rendering:optimizeQuality; color-rendering:optimizeQuality; font-family:'Helvetica Neue'; stroke:rgb(38,38,38); color-interpolation:linearRGB;\"\n",
       "    ><text x=\"-4.5\" xml:space=\"preserve\" y=\"16\" style=\"stroke:none;\"\n",
       "      >8</text\n",
       "    ></g\n",
       "    ><g transform=\"translate(507,378.2)\" style=\"font-size:16px; fill:rgb(38,38,38); text-rendering:geometricPrecision; image-rendering:optimizeQuality; color-rendering:optimizeQuality; font-family:'Helvetica Neue'; stroke:rgb(38,38,38); color-interpolation:linearRGB;\"\n",
       "    ><text x=\"-9\" xml:space=\"preserve\" y=\"16\" style=\"stroke:none;\"\n",
       "      >10</text\n",
       "    ></g\n",
       "    ><g transform=\"translate(290.0002,399.2)\" style=\"font-size:17.6px; fill:rgb(38,38,38); text-rendering:geometricPrecision; image-rendering:optimizeQuality; color-rendering:optimizeQuality; font-family:'Helvetica Neue'; stroke:rgb(38,38,38); color-interpolation:linearRGB;\"\n",
       "    ><text x=\"-36\" xml:space=\"preserve\" y=\"17\" style=\"stroke:none;\"\n",
       "      >Time t [s]</text\n",
       "    ></g\n",
       "  ></g\n",
       "></svg\n",
       ">\n"
      ]
     },
     "metadata": {},
     "output_type": "display_data"
    }
   ],
   "source": [
    "stem(td,xs)\n",
    "hold on\n",
    "plot(tc,xc,'r:')\n",
    "hold off\n",
    "title('Fig 2: Sampled Signal x_s(t)')\n",
    "ylabel('x_s(t)')\n",
    "xlabel('Time t [s]')"
   ]
  },
  {
   "cell_type": "markdown",
   "metadata": {
    "slideshow": {
     "slide_type": "notes"
    }
   },
   "source": [
    "#### Notes\n",
    "\n",
    "The sampled signal $x_0(t)$ carries the same information as the samples themselves, so we should be able to recover the entire signal $x(t)$.\n",
    "\n",
    "From the block diagram of the sample-and-hold operator, what we would need to do is find the inverse of the ZOH system with impulse response $h_0(t)$ and then use a perfect lowpass filter.\n",
    "\n",
    "The frequency response $H_0(\\omega)$ is given by the usual sinc function for an even rectangular pulse signal, multiplied by $e^{-j\\omega T_s/2}$ because we need a time delay of $T_s/2$ to make the signal causal:\n",
    "\n",
    "$${H_0}(\\omega ) = {T_s}{e^{ - j\\omega {T_s}/2}}\\frac{\\sin \\left( {\\pi \\frac{T_s}{2\\pi }\\omega } \\right)}{\\pi \\frac{T_s}{2\\pi}\\omega } = 2{e^{ - j\\omega {T_s}/2}}\\frac{\\sin \\left( {\\omega {T_s}/2} \\right)}{\\omega }$$\n",
    "\n",
    "The inverse of $H_0(\\omega)$ is given by\n",
    "\n",
    "$${H_1}(\\omega ) = {H^{ - 1}}(\\omega ) = \\frac{1}{2}{e^{j\\omega \\frac{T_s}{2}}}\\frac{\\omega }{\\sin \\left( {\\frac{T_s}{2}\\omega } \\right)}$$\n",
    "\n",
    "The *reconstruction filter* is the cascade of the inverse filter and the lowpass filter:\n",
    "\n",
    "$$H_r(\\omega)=T_sH_{\\mathrm{lp}}(\\omega)H_1(\\omega)$$\n",
    "\n",
    "![Reconstruction filter](./pictures/reconstruction_filter.png)\n",
    "\n",
    "The frequency response of this filter and additional notes are to be found on Page 546 of {cite}`boulet`."
   ]
  },
  {
   "cell_type": "markdown",
   "metadata": {
    "slideshow": {
     "slide_type": "slide"
    }
   },
   "source": [
    "## Signal Reconstruction\n",
    "\n",
    "**Problem**\n",
    "\n",
    "* We have a bandlimited signal that is sampled at the Nyquist-Shannon sampling frequency $\\omega_s = 2\\pi/T_s$.\n",
    "* We therefore have a discrete-time (DT) signal $x(nT_s)$ from which we want to reconstruct the original signal."
   ]
  },
  {
   "cell_type": "markdown",
   "metadata": {
    "slideshow": {
     "slide_type": "subslide"
    }
   },
   "source": [
    "### Perfect Signal Interpolation Using sinc Functions\n",
    "\n",
    "* In the *frequency domain*, the ideal way to reconstruct the signal would be to construct a chain of impulses $x_s(t)$ and then to filter this signal with an ideal lowpass filter.\n",
    "\n",
    "* In the *time domain*, this is equivalent to interpolating the samples using time-shifted sinc functions with zeros at $nT_s$ for $\\omega_c = \\omega_s$.\n"
   ]
  },
  {
   "cell_type": "markdown",
   "metadata": {
    "slideshow": {
     "slide_type": "subslide"
    }
   },
   "source": [
    "### In Class Demo 3: MATLAB Demonstrations of signal reconstruction"
   ]
  },
  {
   "cell_type": "markdown",
   "metadata": {
    "slideshow": {
     "slide_type": "subslide"
    }
   },
   "source": [
    " #### Reconstruction with sinc function"
   ]
  },
  {
   "cell_type": "code",
   "execution_count": 68,
   "metadata": {
    "slideshow": {
     "slide_type": "subslide"
    }
   },
   "outputs": [
    {
     "data": {
      "image/svg+xml": [
       "<?xml version=\"1.0\"?>\n",
       "<!DOCTYPE svg PUBLIC '-//W3C//DTD SVG 1.0//EN'\n",
       "          'http://www.w3.org/TR/2001/REC-SVG-20010904/DTD/svg10.dtd'>\n",
       "<svg xmlns:xlink=\"http://www.w3.org/1999/xlink\" style=\"fill-opacity:1; color-rendering:auto; color-interpolation:auto; text-rendering:auto; stroke:black; stroke-linecap:square; stroke-miterlimit:10; shape-rendering:auto; stroke-opacity:1; fill:black; stroke-dasharray:none; font-weight:normal; stroke-width:1; font-family:'Dialog'; font-style:normal; stroke-linejoin:miter; font-size:12px; stroke-dashoffset:0; image-rendering:auto;\" width=\"560\" height=\"420\" xmlns=\"http://www.w3.org/2000/svg\"\n",
       "><!--Generated by the Batik Graphics2D SVG Generator--><defs id=\"genericDefs\"\n",
       "  /><g\n",
       "  ><defs id=\"defs1\"\n",
       "    ><clipPath clipPathUnits=\"userSpaceOnUse\" id=\"clipPath1\"\n",
       "      ><path d=\"M0 0 L560 0 L560 420 L0 420 L0 0 Z\"\n",
       "      /></clipPath\n",
       "      ><font horiz-adv-x=\"50.0\" id=\"font1\"\n",
       "      ><font-face ascent=\"95.200005\" descent=\"21.3\" units-per-em=\"100\" style=\"font-style:normal; font-family:Helvetica Neue; font-weight:normal;\"\n",
       "        /><missing-glyph horiz-adv-x=\"50.0\" d=\"M40.9 66.6 L10.2 66.6 L10.2 4.7 L40.9 4.7 ZM46 71.2 L46 0.1 L5.1 0.1 L5.1 71.2 Z\"\n",
       "        /><glyph unicode=\"4\" horiz-adv-x=\"55.6\" d=\"M33.9 24.1 L10.1 24.1 L33.7 58.8 L33.9 58.8 ZM41.9 24.1 L41.9 70.9 L35.1 70.9 L2.8 24.8 L2.8 16.6 L33.9 16.6 L33.9 0 L41.9 0 L41.9 16.6 L51.5 16.6 L51.5 24.1 Z\"\n",
       "        /><glyph unicode=\".\" horiz-adv-x=\"27.8\" d=\"M8.3 11.1 L8.3 0 L19.4 0 L19.4 11.1 Z\"\n",
       "        /><glyph unicode=\"0\" horiz-adv-x=\"55.6\" d=\"M13.2 34.9 Q13.2 37.5 13.25 40.65 Q13.3 43.8 13.75 46.95 Q14.2 50.1 15.05 53.1 Q15.9 56.1 17.55 58.35 Q19.2 60.6 21.7 62 Q24.2 63.4 27.8 63.4 Q31.4 63.4 33.9 62 Q36.4 60.6 38.05 58.35 Q39.7 56.1 40.55 53.1 Q41.4 50.1 41.85 46.95 Q42.3 43.8 42.35 40.65 Q42.4 37.5 42.4 34.9 Q42.4 30.9 42.15 25.95 Q41.9 21 40.55 16.65 Q39.2 12.3 36.2 9.3 Q33.2 6.3 27.8 6.3 Q22.4 6.3 19.4 9.3 Q16.4 12.3 15.05 16.65 Q13.7 21 13.45 25.95 Q13.2 30.9 13.2 34.9 ZM4.2 34.8 Q4.2 30.9 4.4 26.7 Q4.6 22.5 5.4 18.5 Q6.2 14.5 7.7 10.95 Q9.2 7.4 11.8 4.7 Q14.4 2 18.35 0.45 Q22.3 -1.1 27.8 -1.1 Q33.4 -1.1 37.3 0.45 Q41.2 2 43.8 4.7 Q46.4 7.4 47.9 10.95 Q49.4 14.5 50.2 18.5 Q51 22.5 51.2 26.7 Q51.4 30.9 51.4 34.8 Q51.4 38.7 51.2 42.9 Q51 47.1 50.2 51.1 Q49.4 55.1 47.9 58.7 Q46.4 62.3 43.8 65 Q41.2 67.7 37.25 69.3 Q33.3 70.9 27.8 70.9 Q22.3 70.9 18.35 69.3 Q14.4 67.7 11.8 65 Q9.2 62.3 7.7 58.7 Q6.2 55.1 5.4 51.1 Q4.6 47.1 4.4 42.9 Q4.2 38.7 4.2 34.8 Z\"\n",
       "        /><glyph unicode=\"-\" horiz-adv-x=\"38.9\" d=\"M5 31.8 L5 23.8 L33.9 23.8 L33.9 31.8 Z\"\n",
       "        /><glyph unicode=\"2\" horiz-adv-x=\"55.6\" d=\"M4.4 45.8 L12.9 45.8 Q12.8 49 13.55 52.15 Q14.3 55.3 16 57.8 Q17.7 60.3 20.35 61.85 Q23 63.4 26.7 63.4 Q29.5 63.4 32 62.5 Q34.5 61.6 36.35 59.9 Q38.2 58.2 39.3 55.85 Q40.4 53.5 40.4 50.6 Q40.4 46.9 39.25 44.1 Q38.1 41.3 35.85 38.9 Q33.6 36.5 30.2 34.15 Q26.8 31.8 22.3 29 Q18.6 26.8 15.2 24.3 Q11.8 21.8 9.1 18.5 Q6.4 15.2 4.65 10.75 Q2.9 6.3 2.4 0 L48.7 0 L48.7 7.5 L12.3 7.5 Q12.9 10.8 14.85 13.35 Q16.8 15.9 19.55 18.1 Q22.3 20.3 25.6 22.25 Q28.9 24.2 32.2 26.2 Q35.5 28.3 38.6 30.6 Q41.7 32.9 44.1 35.75 Q46.5 38.6 47.95 42.2 Q49.4 45.8 49.4 50.5 Q49.4 55.5 47.65 59.3 Q45.9 63.1 42.9 65.65 Q39.9 68.2 35.85 69.55 Q31.8 70.9 27.2 70.9 Q21.6 70.9 17.2 69 Q12.8 67.1 9.85 63.75 Q6.9 60.4 5.5 55.8 Q4.1 51.2 4.4 45.8 Z\"\n",
       "        /><glyph unicode=\"6\" horiz-adv-x=\"55.6\" d=\"M41.4 52.8 L49.9 52.8 Q49.1 61.6 43.9 66.25 Q38.7 70.9 29.9 70.9 Q22.3 70.9 17.3 67.7 Q12.3 64.5 9.3 59.2 Q6.3 53.9 5.05 47.05 Q3.8 40.2 3.8 32.9 Q3.8 27.3 4.65 21.3 Q5.5 15.3 8.1 10.3 Q10.7 5.3 15.5 2.1 Q20.3 -1.1 28.2 -1.1 Q34.9 -1.1 39.45 1.15 Q44 3.4 46.75 6.85 Q49.5 10.3 50.7 14.5 Q51.9 18.7 51.9 22.6 Q51.9 27.5 50.4 31.7 Q48.9 35.9 46.15 39 Q43.4 42.1 39.35 43.85 Q35.3 45.6 30.2 45.6 Q24.4 45.6 19.95 43.4 Q15.5 41.2 12.5 36.3 L12.3 36.5 Q12.4 40.6 13.1 45.3 Q13.8 50 15.65 54.05 Q17.5 58.1 20.8 60.75 Q24.1 63.4 29.5 63.4 Q34.6 63.4 37.7 60.5 Q40.8 57.6 41.4 52.8 ZM28.6 38.1 Q32.2 38.1 34.9 36.8 Q37.6 35.5 39.4 33.35 Q41.2 31.2 42.05 28.25 Q42.9 25.3 42.9 22 Q42.9 18.9 41.95 16.05 Q41 13.2 39.2 11 Q37.4 8.8 34.75 7.55 Q32.1 6.3 28.6 6.3 Q25.1 6.3 22.35 7.55 Q19.6 8.8 17.75 10.9 Q15.9 13 14.9 15.9 Q13.9 18.8 13.9 22.1 Q13.9 25.4 14.85 28.35 Q15.8 31.3 17.7 33.45 Q19.6 35.6 22.3 36.85 Q25 38.1 28.6 38.1 Z\"\n",
       "        /><glyph unicode=\"8\" horiz-adv-x=\"55.6\" d=\"M15.5 52.5 Q15.5 55.2 16.5 57.2 Q17.5 59.2 19.15 60.6 Q20.8 62 23.1 62.7 Q25.4 63.4 27.9 63.4 Q33.1 63.4 36.45 60.65 Q39.8 57.9 39.8 52.5 Q39.8 47.1 36.5 44.1 Q33.2 41.1 28.1 41.1 Q25.5 41.1 23.2 41.8 Q20.9 42.5 19.2 43.9 Q17.5 45.3 16.5 47.45 Q15.5 49.6 15.5 52.5 ZM6.5 52.8 Q6.5 48 9.2 43.95 Q11.9 39.9 16.4 38.1 Q10.4 36 7.2 31.35 Q4 26.7 4 20.4 Q4 15 5.85 10.95 Q7.7 6.9 10.95 4.2 Q14.2 1.5 18.6 0.2 Q23 -1.1 28.1 -1.1 Q33 -1.1 37.3 0.3 Q41.6 1.7 44.75 4.45 Q47.9 7.2 49.75 11.2 Q51.6 15.2 51.6 20.4 Q51.6 27 48.5 31.55 Q45.4 36.1 39 38.1 Q43.5 40.1 46.15 44.05 Q48.8 48 48.8 52.8 Q48.8 56.2 47.6 59.45 Q46.4 62.7 43.85 65.25 Q41.3 67.8 37.2 69.35 Q33.1 70.9 27.3 70.9 Q23.2 70.9 19.45 69.7 Q15.7 68.5 12.8 66.2 Q9.9 63.9 8.2 60.55 Q6.5 57.2 6.5 52.8 ZM13 20 Q13 23.1 14.15 25.6 Q15.3 28.1 17.35 29.9 Q19.4 31.7 22.15 32.65 Q24.9 33.6 28 33.6 Q31 33.6 33.65 32.55 Q36.3 31.5 38.3 29.7 Q40.3 27.9 41.45 25.45 Q42.6 23 42.6 20.1 Q42.6 17.1 41.55 14.6 Q40.5 12.1 38.55 10.25 Q36.6 8.4 33.95 7.35 Q31.3 6.3 28.1 6.3 Q21.5 6.3 17.25 9.95 Q13 13.6 13 20 Z\"\n",
       "        /><glyph unicode=\"1\" horiz-adv-x=\"55.6\" d=\"M35.6 0 L35.6 70.9 L29.1 70.9 Q28.4 66.9 26.5 64.3 Q24.6 61.7 21.85 60.2 Q19.1 58.7 15.7 58.15 Q12.3 57.6 8.7 57.6 L8.7 50.8 L27.1 50.8 L27.1 0 Z\"\n",
       "      /></font\n",
       "    ></defs\n",
       "    ><g style=\"fill:white; stroke:white;\"\n",
       "    ><rect x=\"0\" y=\"0\" width=\"560\" style=\"clip-path:url(#clipPath1); stroke:none;\" height=\"420\"\n",
       "    /></g\n",
       "    ><g style=\"fill:white; text-rendering:optimizeSpeed; color-rendering:optimizeSpeed; image-rendering:optimizeSpeed; shape-rendering:crispEdges; stroke:white; color-interpolation:sRGB;\"\n",
       "    ><rect x=\"0\" width=\"560\" height=\"420\" y=\"0\" style=\"stroke:none;\"\n",
       "      /><path style=\"stroke:none;\" d=\"M73 374 L507 374 L507 31 L73 31 Z\"\n",
       "    /></g\n",
       "    ><g style=\"fill:rgb(38,38,38); text-rendering:geometricPrecision; image-rendering:optimizeQuality; color-rendering:optimizeQuality; stroke-linejoin:round; stroke:rgb(38,38,38); color-interpolation:linearRGB; stroke-width:0.5;\"\n",
       "    ><line y2=\"31\" style=\"fill:none;\" x1=\"73\" x2=\"73\" y1=\"374\"\n",
       "      /><line y2=\"31\" style=\"fill:none;\" x1=\"507\" x2=\"507\" y1=\"374\"\n",
       "      /><line y2=\"374\" style=\"fill:none;\" x1=\"73\" x2=\"77.34\" y1=\"374\"\n",
       "      /><line y2=\"316.8333\" style=\"fill:none;\" x1=\"73\" x2=\"77.34\" y1=\"316.8333\"\n",
       "      /><line y2=\"259.6667\" style=\"fill:none;\" x1=\"73\" x2=\"77.34\" y1=\"259.6667\"\n",
       "      /><line y2=\"202.5\" style=\"fill:none;\" x1=\"73\" x2=\"77.34\" y1=\"202.5\"\n",
       "      /><line y2=\"145.3333\" style=\"fill:none;\" x1=\"73\" x2=\"77.34\" y1=\"145.3333\"\n",
       "      /><line y2=\"88.1667\" style=\"fill:none;\" x1=\"73\" x2=\"77.34\" y1=\"88.1667\"\n",
       "      /><line y2=\"31\" style=\"fill:none;\" x1=\"73\" x2=\"77.34\" y1=\"31\"\n",
       "      /><line y2=\"374\" style=\"fill:none;\" x1=\"507\" x2=\"502.66\" y1=\"374\"\n",
       "      /><line y2=\"316.8333\" style=\"fill:none;\" x1=\"507\" x2=\"502.66\" y1=\"316.8333\"\n",
       "      /><line y2=\"259.6667\" style=\"fill:none;\" x1=\"507\" x2=\"502.66\" y1=\"259.6667\"\n",
       "      /><line y2=\"202.5\" style=\"fill:none;\" x1=\"507\" x2=\"502.66\" y1=\"202.5\"\n",
       "      /><line y2=\"145.3333\" style=\"fill:none;\" x1=\"507\" x2=\"502.66\" y1=\"145.3333\"\n",
       "      /><line y2=\"88.1667\" style=\"fill:none;\" x1=\"507\" x2=\"502.66\" y1=\"88.1667\"\n",
       "      /><line y2=\"31\" style=\"fill:none;\" x1=\"507\" x2=\"502.66\" y1=\"31\"\n",
       "    /></g\n",
       "    ><g transform=\"translate(67.8,374)\" style=\"font-size:16px; fill:rgb(38,38,38); text-rendering:geometricPrecision; image-rendering:optimizeQuality; color-rendering:optimizeQuality; font-family:'Helvetica Neue'; stroke:rgb(38,38,38); color-interpolation:linearRGB;\"\n",
       "    ><text x=\"-29\" xml:space=\"preserve\" y=\"6\" style=\"stroke:none;\"\n",
       "      >-0.4</text\n",
       "    ></g\n",
       "    ><g transform=\"translate(67.8,316.8333)\" style=\"font-size:16px; fill:rgb(38,38,38); text-rendering:geometricPrecision; image-rendering:optimizeQuality; color-rendering:optimizeQuality; font-family:'Helvetica Neue'; stroke:rgb(38,38,38); color-interpolation:linearRGB;\"\n",
       "    ><text x=\"-29\" xml:space=\"preserve\" y=\"6\" style=\"stroke:none;\"\n",
       "      >-0.2</text\n",
       "    ></g\n",
       "    ><g transform=\"translate(67.8,259.6667)\" style=\"font-size:16px; fill:rgb(38,38,38); text-rendering:geometricPrecision; image-rendering:optimizeQuality; color-rendering:optimizeQuality; font-family:'Helvetica Neue'; stroke:rgb(38,38,38); color-interpolation:linearRGB;\"\n",
       "    ><text x=\"-9\" xml:space=\"preserve\" y=\"6\" style=\"stroke:none;\"\n",
       "      >0</text\n",
       "    ></g\n",
       "    ><g transform=\"translate(67.8,202.5)\" style=\"font-size:16px; fill:rgb(38,38,38); text-rendering:geometricPrecision; image-rendering:optimizeQuality; color-rendering:optimizeQuality; font-family:'Helvetica Neue'; stroke:rgb(38,38,38); color-interpolation:linearRGB;\"\n",
       "    ><text x=\"-23\" xml:space=\"preserve\" y=\"6\" style=\"stroke:none;\"\n",
       "      >0.2</text\n",
       "    ></g\n",
       "    ><g transform=\"translate(67.8,145.3333)\" style=\"font-size:16px; fill:rgb(38,38,38); text-rendering:geometricPrecision; image-rendering:optimizeQuality; color-rendering:optimizeQuality; font-family:'Helvetica Neue'; stroke:rgb(38,38,38); color-interpolation:linearRGB;\"\n",
       "    ><text x=\"-23\" xml:space=\"preserve\" y=\"6\" style=\"stroke:none;\"\n",
       "      >0.4</text\n",
       "    ></g\n",
       "    ><g transform=\"translate(67.8,88.1667)\" style=\"font-size:16px; fill:rgb(38,38,38); text-rendering:geometricPrecision; image-rendering:optimizeQuality; color-rendering:optimizeQuality; font-family:'Helvetica Neue'; stroke:rgb(38,38,38); color-interpolation:linearRGB;\"\n",
       "    ><text x=\"-23\" xml:space=\"preserve\" y=\"6\" style=\"stroke:none;\"\n",
       "      >0.6</text\n",
       "    ></g\n",
       "    ><g transform=\"translate(67.8,31)\" style=\"font-size:16px; fill:rgb(38,38,38); text-rendering:geometricPrecision; image-rendering:optimizeQuality; color-rendering:optimizeQuality; font-family:'Helvetica Neue'; stroke:rgb(38,38,38); color-interpolation:linearRGB;\"\n",
       "    ><text x=\"-23\" xml:space=\"preserve\" y=\"6\" style=\"stroke:none;\"\n",
       "      >0.8</text\n",
       "    ></g\n",
       "    ><g style=\"stroke-linecap:butt; fill:rgb(38,38,38); text-rendering:geometricPrecision; image-rendering:optimizeQuality; color-rendering:optimizeQuality; stroke-linejoin:round; stroke:rgb(38,38,38); color-interpolation:linearRGB; stroke-width:0.5;\"\n",
       "    ><line y2=\"259.6667\" style=\"fill:none;\" x1=\"73\" x2=\"507\" y1=\"259.6667\"\n",
       "      /><path d=\"M0 -2.75 C1.5188 -2.75 2.75 -1.5188 2.75 0 L2.75 0 C2.75 1.5188 1.5188 2.75 -0 2.75 C-1.5188 2.75 -2.75 1.5188 -2.75 -0 C-2.75 -1.5188 -1.5188 -2.75 0 -2.75 ZM0 -3.25 C-1.7949 -3.25 -3.25 -1.7949 -3.25 -0 C-3.25 1.7949 -1.7949 3.25 -0 3.25 C1.7949 3.25 3.25 1.7949 3.25 0 L3.25 0 C3.25 -1.7949 1.7949 -3.25 0 -3.25 Z\" style=\"fill:rgb(0,114,189); stroke:none;\" transform=\"translate(73,259.6667)\"\n",
       "      /><path d=\"M0 -2.75 C1.5188 -2.75 2.75 -1.5188 2.75 0 L2.75 0 C2.75 1.5188 1.5188 2.75 -0 2.75 C-1.5188 2.75 -2.75 1.5188 -2.75 -0 C-2.75 -1.5188 -1.5188 -2.75 0 -2.75 ZM0 -3.25 C-1.7949 -3.25 -3.25 -1.7949 -3.25 -0 C-3.25 1.7949 -1.7949 3.25 -0 3.25 C1.7949 3.25 3.25 1.7949 3.25 0 L3.25 0 C3.25 -1.7949 1.7949 -3.25 0 -3.25 Z\" style=\"fill:rgb(0,114,189); stroke:none;\" transform=\"translate(141.1726,73.1155)\"\n",
       "      /><path d=\"M0 -2.75 C1.5188 -2.75 2.75 -1.5188 2.75 0 L2.75 0 C2.75 1.5188 1.5188 2.75 -0 2.75 C-1.5188 2.75 -2.75 1.5188 -2.75 -0 C-2.75 -1.5188 -1.5188 -2.75 0 -2.75 ZM0 -3.25 C-1.7949 -3.25 -3.25 -1.7949 -3.25 -0 C-3.25 1.7949 -1.7949 3.25 -0 3.25 C1.7949 3.25 3.25 1.7949 3.25 0 L3.25 0 C3.25 -1.7949 1.7949 -3.25 0 -3.25 Z\" style=\"fill:rgb(0,114,189); stroke:none;\" transform=\"translate(209.3451,242.8305)\"\n",
       "      /><path d=\"M0 -2.75 C1.5188 -2.75 2.75 -1.5188 2.75 0 L2.75 0 C2.75 1.5188 1.5188 2.75 -0 2.75 C-1.5188 2.75 -2.75 1.5188 -2.75 -0 C-2.75 -1.5188 -1.5188 -2.75 0 -2.75 ZM0 -3.25 C-1.7949 -3.25 -3.25 -1.7949 -3.25 -0 C-3.25 1.7949 -1.7949 3.25 -0 3.25 C1.7949 3.25 3.25 1.7949 3.25 0 L3.25 0 C3.25 -1.7949 1.7949 -3.25 0 -3.25 Z\" style=\"fill:rgb(0,114,189); stroke:none;\" transform=\"translate(277.5177,330.839)\"\n",
       "      /><path d=\"M0 -2.75 C1.5188 -2.75 2.75 -1.5188 2.75 0 L2.75 0 C2.75 1.5188 1.5188 2.75 -0 2.75 C-1.5188 2.75 -2.75 1.5188 -2.75 -0 C-2.75 -1.5188 -1.5188 -2.75 0 -2.75 ZM0 -3.25 C-1.7949 -3.25 -3.25 -1.7949 -3.25 -0 C-3.25 1.7949 -1.7949 3.25 -0 3.25 C1.7949 3.25 3.25 1.7949 3.25 0 L3.25 0 C3.25 -1.7949 1.7949 -3.25 0 -3.25 Z\" style=\"fill:rgb(0,114,189); stroke:none;\" transform=\"translate(345.6902,272.6504)\"\n",
       "      /><path d=\"M0 -2.75 C1.5188 -2.75 2.75 -1.5188 2.75 0 L2.75 0 C2.75 1.5188 1.5188 2.75 -0 2.75 C-1.5188 2.75 -2.75 1.5188 -2.75 -0 C-2.75 -1.5188 -1.5188 -2.75 0 -2.75 ZM0 -3.25 C-1.7949 -3.25 -3.25 -1.7949 -3.25 -0 C-3.25 1.7949 -1.7949 3.25 -0 3.25 C1.7949 3.25 3.25 1.7949 3.25 0 L3.25 0 C3.25 -1.7949 1.7949 -3.25 0 -3.25 Z\" style=\"fill:rgb(0,114,189); stroke:none;\" transform=\"translate(413.8628,233.1054)\"\n",
       "      /><path d=\"M0 -2.75 C1.5188 -2.75 2.75 -1.5188 2.75 0 L2.75 0 C2.75 1.5188 1.5188 2.75 -0 2.75 C-1.5188 2.75 -2.75 1.5188 -2.75 -0 C-2.75 -1.5188 -1.5188 -2.75 0 -2.75 ZM0 -3.25 C-1.7949 -3.25 -3.25 -1.7949 -3.25 -0 C-3.25 1.7949 -1.7949 3.25 -0 3.25 C1.7949 3.25 3.25 1.7949 3.25 0 L3.25 0 C3.25 -1.7949 1.7949 -3.25 0 -3.25 Z\" style=\"fill:rgb(0,114,189); stroke:none;\" transform=\"translate(482.0354,252.2103)\"\n",
       "      /><line x1=\"73\" x2=\"73\" y1=\"259.6667\" style=\"fill:none; stroke:rgb(0,114,189);\" y2=\"259.6667\"\n",
       "      /><line x1=\"141.1726\" x2=\"141.1726\" y1=\"259.6667\" style=\"fill:none; stroke:rgb(0,114,189);\" y2=\"73.1155\"\n",
       "      /><line x1=\"209.3451\" x2=\"209.3451\" y1=\"259.6667\" style=\"fill:none; stroke:rgb(0,114,189);\" y2=\"242.8305\"\n",
       "      /><line x1=\"277.5177\" x2=\"277.5177\" y1=\"259.6667\" style=\"fill:none; stroke:rgb(0,114,189);\" y2=\"330.839\"\n",
       "      /><line x1=\"345.6902\" x2=\"345.6902\" y1=\"259.6667\" style=\"fill:none; stroke:rgb(0,114,189);\" y2=\"272.6504\"\n",
       "      /><line x1=\"413.8628\" x2=\"413.8628\" y1=\"259.6667\" style=\"fill:none; stroke:rgb(0,114,189);\" y2=\"233.1054\"\n",
       "      /><line x1=\"482.0354\" x2=\"482.0354\" y1=\"259.6667\" style=\"fill:none; stroke:rgb(0,114,189);\" y2=\"252.2103\"\n",
       "      /><line x1=\"73\" x2=\"507\" y1=\"374\" style=\"fill:none; stroke-linecap:square;\" y2=\"374\"\n",
       "      /><line x1=\"73\" x2=\"507\" y1=\"31\" style=\"fill:none; stroke-linecap:square;\" y2=\"31\"\n",
       "      /><line x1=\"73\" x2=\"73\" y1=\"374\" style=\"fill:none; stroke-linecap:square;\" y2=\"369.66\"\n",
       "      /><line x1=\"159.8\" x2=\"159.8\" y1=\"374\" style=\"fill:none; stroke-linecap:square;\" y2=\"369.66\"\n",
       "      /><line x1=\"246.6\" x2=\"246.6\" y1=\"374\" style=\"fill:none; stroke-linecap:square;\" y2=\"369.66\"\n",
       "      /><line x1=\"333.4\" x2=\"333.4\" y1=\"374\" style=\"fill:none; stroke-linecap:square;\" y2=\"369.66\"\n",
       "      /><line x1=\"420.2\" x2=\"420.2\" y1=\"374\" style=\"fill:none; stroke-linecap:square;\" y2=\"369.66\"\n",
       "      /><line x1=\"507\" x2=\"507\" y1=\"374\" style=\"fill:none; stroke-linecap:square;\" y2=\"369.66\"\n",
       "      /><line x1=\"73\" x2=\"73\" y1=\"31\" style=\"fill:none; stroke-linecap:square;\" y2=\"35.34\"\n",
       "      /><line x1=\"159.8\" x2=\"159.8\" y1=\"31\" style=\"fill:none; stroke-linecap:square;\" y2=\"35.34\"\n",
       "      /><line x1=\"246.6\" x2=\"246.6\" y1=\"31\" style=\"fill:none; stroke-linecap:square;\" y2=\"35.34\"\n",
       "      /><line x1=\"333.4\" x2=\"333.4\" y1=\"31\" style=\"fill:none; stroke-linecap:square;\" y2=\"35.34\"\n",
       "      /><line x1=\"420.2\" x2=\"420.2\" y1=\"31\" style=\"fill:none; stroke-linecap:square;\" y2=\"35.34\"\n",
       "      /><line x1=\"507\" x2=\"507\" y1=\"31\" style=\"fill:none; stroke-linecap:square;\" y2=\"35.34\"\n",
       "    /></g\n",
       "    ><g transform=\"translate(73,379.2)\" style=\"font-size:16px; fill:rgb(38,38,38); text-rendering:geometricPrecision; image-rendering:optimizeQuality; color-rendering:optimizeQuality; font-family:'Helvetica Neue'; stroke:rgb(38,38,38); color-interpolation:linearRGB;\"\n",
       "    ><text x=\"-4.5\" xml:space=\"preserve\" y=\"16\" style=\"stroke:none;\"\n",
       "      >0</text\n",
       "    ></g\n",
       "    ><g transform=\"translate(159.8,379.2)\" style=\"font-size:16px; fill:rgb(38,38,38); text-rendering:geometricPrecision; image-rendering:optimizeQuality; color-rendering:optimizeQuality; font-family:'Helvetica Neue'; stroke:rgb(38,38,38); color-interpolation:linearRGB;\"\n",
       "    ><text x=\"-4.5\" xml:space=\"preserve\" y=\"16\" style=\"stroke:none;\"\n",
       "      >2</text\n",
       "    ></g\n",
       "    ><g transform=\"translate(246.6,379.2)\" style=\"font-size:16px; fill:rgb(38,38,38); text-rendering:geometricPrecision; image-rendering:optimizeQuality; color-rendering:optimizeQuality; font-family:'Helvetica Neue'; stroke:rgb(38,38,38); color-interpolation:linearRGB;\"\n",
       "    ><text x=\"-4.5\" xml:space=\"preserve\" y=\"16\" style=\"stroke:none;\"\n",
       "      >4</text\n",
       "    ></g\n",
       "    ><g transform=\"translate(333.4,379.2)\" style=\"font-size:16px; fill:rgb(38,38,38); text-rendering:geometricPrecision; image-rendering:optimizeQuality; color-rendering:optimizeQuality; font-family:'Helvetica Neue'; stroke:rgb(38,38,38); color-interpolation:linearRGB;\"\n",
       "    ><text x=\"-4.5\" xml:space=\"preserve\" y=\"16\" style=\"stroke:none;\"\n",
       "      >6</text\n",
       "    ></g\n",
       "    ><g transform=\"translate(420.2,379.2)\" style=\"font-size:16px; fill:rgb(38,38,38); text-rendering:geometricPrecision; image-rendering:optimizeQuality; color-rendering:optimizeQuality; font-family:'Helvetica Neue'; stroke:rgb(38,38,38); color-interpolation:linearRGB;\"\n",
       "    ><text x=\"-4.5\" xml:space=\"preserve\" y=\"16\" style=\"stroke:none;\"\n",
       "      >8</text\n",
       "    ></g\n",
       "    ><g transform=\"translate(507,379.2)\" style=\"font-size:16px; fill:rgb(38,38,38); text-rendering:geometricPrecision; image-rendering:optimizeQuality; color-rendering:optimizeQuality; font-family:'Helvetica Neue'; stroke:rgb(38,38,38); color-interpolation:linearRGB;\"\n",
       "    ><text x=\"-9\" xml:space=\"preserve\" y=\"16\" style=\"stroke:none;\"\n",
       "      >10</text\n",
       "    ></g\n",
       "  ></g\n",
       "></svg\n",
       ">\n"
      ]
     },
     "metadata": {},
     "output_type": "display_data"
    }
   ],
   "source": [
    "stem(td,xs)\n",
    "hold on"
   ]
  },
  {
   "cell_type": "code",
   "execution_count": 69,
   "metadata": {
    "slideshow": {
     "slide_type": "subslide"
    }
   },
   "outputs": [],
   "source": [
    "x = zeros(length(td),length(tc));\n",
    "for k=1:length(td)\n",
    "    xk = xs(k);\n",
    "    sincx = xk*sin(pi*(tc - td(k))/Ts)./(pi*(tc - td(k))/Ts);\n",
    "    x(k,:) = sincx;\n",
    "end"
   ]
  },
  {
   "cell_type": "code",
   "execution_count": 70,
   "metadata": {
    "slideshow": {
     "slide_type": "subslide"
    }
   },
   "outputs": [
    {
     "data": {
      "image/svg+xml": [
       "<?xml version=\"1.0\"?>\n",
       "<!DOCTYPE svg PUBLIC '-//W3C//DTD SVG 1.0//EN'\n",
       "          'http://www.w3.org/TR/2001/REC-SVG-20010904/DTD/svg10.dtd'>\n",
       "<svg xmlns:xlink=\"http://www.w3.org/1999/xlink\" style=\"fill-opacity:1; color-rendering:auto; color-interpolation:auto; text-rendering:auto; stroke:black; stroke-linecap:square; stroke-miterlimit:10; shape-rendering:auto; stroke-opacity:1; fill:black; stroke-dasharray:none; font-weight:normal; stroke-width:1; font-family:'Dialog'; font-style:normal; stroke-linejoin:miter; font-size:12px; stroke-dashoffset:0; image-rendering:auto;\" width=\"560\" height=\"420\" xmlns=\"http://www.w3.org/2000/svg\"\n",
       "><!--Generated by the Batik Graphics2D SVG Generator--><defs id=\"genericDefs\"\n",
       "  /><g\n",
       "  ><defs id=\"defs1\"\n",
       "    ><clipPath clipPathUnits=\"userSpaceOnUse\" id=\"clipPath1\"\n",
       "      ><path d=\"M0 0 L560 0 L560 420 L0 420 L0 0 Z\"\n",
       "      /></clipPath\n",
       "      ><font horiz-adv-x=\"50.0\" id=\"font1\"\n",
       "      ><font-face ascent=\"95.200005\" descent=\"21.3\" units-per-em=\"100\" style=\"font-style:normal; font-family:Helvetica Neue; font-weight:normal;\"\n",
       "        /><missing-glyph horiz-adv-x=\"50.0\" d=\"M40.9 66.6 L10.2 66.6 L10.2 4.7 L40.9 4.7 ZM46 71.2 L46 0.1 L5.1 0.1 L5.1 71.2 Z\"\n",
       "        /><glyph unicode=\"0\" horiz-adv-x=\"55.6\" d=\"M13.2 34.9 Q13.2 37.5 13.25 40.65 Q13.3 43.8 13.75 46.95 Q14.2 50.1 15.05 53.1 Q15.9 56.1 17.55 58.35 Q19.2 60.6 21.7 62 Q24.2 63.4 27.8 63.4 Q31.4 63.4 33.9 62 Q36.4 60.6 38.05 58.35 Q39.7 56.1 40.55 53.1 Q41.4 50.1 41.85 46.95 Q42.3 43.8 42.35 40.65 Q42.4 37.5 42.4 34.9 Q42.4 30.9 42.15 25.95 Q41.9 21 40.55 16.65 Q39.2 12.3 36.2 9.3 Q33.2 6.3 27.8 6.3 Q22.4 6.3 19.4 9.3 Q16.4 12.3 15.05 16.65 Q13.7 21 13.45 25.95 Q13.2 30.9 13.2 34.9 ZM4.2 34.8 Q4.2 30.9 4.4 26.7 Q4.6 22.5 5.4 18.5 Q6.2 14.5 7.7 10.95 Q9.2 7.4 11.8 4.7 Q14.4 2 18.35 0.45 Q22.3 -1.1 27.8 -1.1 Q33.4 -1.1 37.3 0.45 Q41.2 2 43.8 4.7 Q46.4 7.4 47.9 10.95 Q49.4 14.5 50.2 18.5 Q51 22.5 51.2 26.7 Q51.4 30.9 51.4 34.8 Q51.4 38.7 51.2 42.9 Q51 47.1 50.2 51.1 Q49.4 55.1 47.9 58.7 Q46.4 62.3 43.8 65 Q41.2 67.7 37.25 69.3 Q33.3 70.9 27.8 70.9 Q22.3 70.9 18.35 69.3 Q14.4 67.7 11.8 65 Q9.2 62.3 7.7 58.7 Q6.2 55.1 5.4 51.1 Q4.6 47.1 4.4 42.9 Q4.2 38.7 4.2 34.8 Z\"\n",
       "        /><glyph unicode=\"2\" horiz-adv-x=\"55.6\" d=\"M4.4 45.8 L12.9 45.8 Q12.8 49 13.55 52.15 Q14.3 55.3 16 57.8 Q17.7 60.3 20.35 61.85 Q23 63.4 26.7 63.4 Q29.5 63.4 32 62.5 Q34.5 61.6 36.35 59.9 Q38.2 58.2 39.3 55.85 Q40.4 53.5 40.4 50.6 Q40.4 46.9 39.25 44.1 Q38.1 41.3 35.85 38.9 Q33.6 36.5 30.2 34.15 Q26.8 31.8 22.3 29 Q18.6 26.8 15.2 24.3 Q11.8 21.8 9.1 18.5 Q6.4 15.2 4.65 10.75 Q2.9 6.3 2.4 0 L48.7 0 L48.7 7.5 L12.3 7.5 Q12.9 10.8 14.85 13.35 Q16.8 15.9 19.55 18.1 Q22.3 20.3 25.6 22.25 Q28.9 24.2 32.2 26.2 Q35.5 28.3 38.6 30.6 Q41.7 32.9 44.1 35.75 Q46.5 38.6 47.95 42.2 Q49.4 45.8 49.4 50.5 Q49.4 55.5 47.65 59.3 Q45.9 63.1 42.9 65.65 Q39.9 68.2 35.85 69.55 Q31.8 70.9 27.2 70.9 Q21.6 70.9 17.2 69 Q12.8 67.1 9.85 63.75 Q6.9 60.4 5.5 55.8 Q4.1 51.2 4.4 45.8 Z\"\n",
       "        /><glyph unicode=\"4\" horiz-adv-x=\"55.6\" d=\"M33.9 24.1 L10.1 24.1 L33.7 58.8 L33.9 58.8 ZM41.9 24.1 L41.9 70.9 L35.1 70.9 L2.8 24.8 L2.8 16.6 L33.9 16.6 L33.9 0 L41.9 0 L41.9 16.6 L51.5 16.6 L51.5 24.1 Z\"\n",
       "        /><glyph unicode=\"6\" horiz-adv-x=\"55.6\" d=\"M41.4 52.8 L49.9 52.8 Q49.1 61.6 43.9 66.25 Q38.7 70.9 29.9 70.9 Q22.3 70.9 17.3 67.7 Q12.3 64.5 9.3 59.2 Q6.3 53.9 5.05 47.05 Q3.8 40.2 3.8 32.9 Q3.8 27.3 4.65 21.3 Q5.5 15.3 8.1 10.3 Q10.7 5.3 15.5 2.1 Q20.3 -1.1 28.2 -1.1 Q34.9 -1.1 39.45 1.15 Q44 3.4 46.75 6.85 Q49.5 10.3 50.7 14.5 Q51.9 18.7 51.9 22.6 Q51.9 27.5 50.4 31.7 Q48.9 35.9 46.15 39 Q43.4 42.1 39.35 43.85 Q35.3 45.6 30.2 45.6 Q24.4 45.6 19.95 43.4 Q15.5 41.2 12.5 36.3 L12.3 36.5 Q12.4 40.6 13.1 45.3 Q13.8 50 15.65 54.05 Q17.5 58.1 20.8 60.75 Q24.1 63.4 29.5 63.4 Q34.6 63.4 37.7 60.5 Q40.8 57.6 41.4 52.8 ZM28.6 38.1 Q32.2 38.1 34.9 36.8 Q37.6 35.5 39.4 33.35 Q41.2 31.2 42.05 28.25 Q42.9 25.3 42.9 22 Q42.9 18.9 41.95 16.05 Q41 13.2 39.2 11 Q37.4 8.8 34.75 7.55 Q32.1 6.3 28.6 6.3 Q25.1 6.3 22.35 7.55 Q19.6 8.8 17.75 10.9 Q15.9 13 14.9 15.9 Q13.9 18.8 13.9 22.1 Q13.9 25.4 14.85 28.35 Q15.8 31.3 17.7 33.45 Q19.6 35.6 22.3 36.85 Q25 38.1 28.6 38.1 Z\"\n",
       "        /><glyph unicode=\"8\" horiz-adv-x=\"55.6\" d=\"M15.5 52.5 Q15.5 55.2 16.5 57.2 Q17.5 59.2 19.15 60.6 Q20.8 62 23.1 62.7 Q25.4 63.4 27.9 63.4 Q33.1 63.4 36.45 60.65 Q39.8 57.9 39.8 52.5 Q39.8 47.1 36.5 44.1 Q33.2 41.1 28.1 41.1 Q25.5 41.1 23.2 41.8 Q20.9 42.5 19.2 43.9 Q17.5 45.3 16.5 47.45 Q15.5 49.6 15.5 52.5 ZM6.5 52.8 Q6.5 48 9.2 43.95 Q11.9 39.9 16.4 38.1 Q10.4 36 7.2 31.35 Q4 26.7 4 20.4 Q4 15 5.85 10.95 Q7.7 6.9 10.95 4.2 Q14.2 1.5 18.6 0.2 Q23 -1.1 28.1 -1.1 Q33 -1.1 37.3 0.3 Q41.6 1.7 44.75 4.45 Q47.9 7.2 49.75 11.2 Q51.6 15.2 51.6 20.4 Q51.6 27 48.5 31.55 Q45.4 36.1 39 38.1 Q43.5 40.1 46.15 44.05 Q48.8 48 48.8 52.8 Q48.8 56.2 47.6 59.45 Q46.4 62.7 43.85 65.25 Q41.3 67.8 37.2 69.35 Q33.1 70.9 27.3 70.9 Q23.2 70.9 19.45 69.7 Q15.7 68.5 12.8 66.2 Q9.9 63.9 8.2 60.55 Q6.5 57.2 6.5 52.8 ZM13 20 Q13 23.1 14.15 25.6 Q15.3 28.1 17.35 29.9 Q19.4 31.7 22.15 32.65 Q24.9 33.6 28 33.6 Q31 33.6 33.65 32.55 Q36.3 31.5 38.3 29.7 Q40.3 27.9 41.45 25.45 Q42.6 23 42.6 20.1 Q42.6 17.1 41.55 14.6 Q40.5 12.1 38.55 10.25 Q36.6 8.4 33.95 7.35 Q31.3 6.3 28.1 6.3 Q21.5 6.3 17.25 9.95 Q13 13.6 13 20 Z\"\n",
       "        /><glyph unicode=\"1\" horiz-adv-x=\"55.6\" d=\"M35.6 0 L35.6 70.9 L29.1 70.9 Q28.4 66.9 26.5 64.3 Q24.6 61.7 21.85 60.2 Q19.1 58.7 15.7 58.15 Q12.3 57.6 8.7 57.6 L8.7 50.8 L27.1 50.8 L27.1 0 Z\"\n",
       "        /><glyph unicode=\"]\" horiz-adv-x=\"25.9\" d=\"M0 -12.9 L0 -19.7 L18.7 -19.7 L18.7 73.1 L0 73.1 L0 66.3 L10.7 66.3 L10.7 -12.9 Z\"\n",
       "        /><glyph unicode=\"s\" horiz-adv-x=\"50.0\" d=\"M11.6 16.3 L3.1 16.3 Q3.3 11.5 5.1 8.15 Q6.9 4.8 9.9 2.75 Q12.9 0.7 16.8 -0.2 Q20.7 -1.1 25 -1.1 Q28.9 -1.1 32.85 -0.35 Q36.8 0.4 39.95 2.3 Q43.1 4.2 45.05 7.3 Q47 10.4 47 15.1 Q47 18.8 45.55 21.3 Q44.1 23.8 41.75 25.45 Q39.4 27.1 36.35 28.1 Q33.3 29.1 30.1 29.8 Q27.1 30.5 24.1 31.15 Q21.1 31.8 18.7 32.75 Q16.3 33.7 14.75 35.15 Q13.2 36.6 13.2 38.8 Q13.2 40.8 14.2 42.05 Q15.2 43.3 16.8 44.05 Q18.4 44.8 20.35 45.1 Q22.3 45.4 24.2 45.4 Q26.3 45.4 28.35 44.95 Q30.4 44.5 32.1 43.5 Q33.8 42.5 34.9 40.85 Q36 39.2 36.2 36.7 L44.7 36.7 Q44.4 41.4 42.7 44.55 Q41 47.7 38.15 49.55 Q35.3 51.4 31.6 52.15 Q27.9 52.9 23.5 52.9 Q20.1 52.9 16.65 52.05 Q13.2 51.2 10.45 49.45 Q7.7 47.7 5.95 44.9 Q4.2 42.1 4.2 38.2 Q4.2 33.2 6.7 30.4 Q9.2 27.6 12.95 26.05 Q16.7 24.5 21.1 23.65 Q25.5 22.8 29.25 21.75 Q33 20.7 35.5 19 Q38 17.3 38 14 Q38 11.6 36.8 10.05 Q35.6 8.5 33.75 7.7 Q31.9 6.9 29.7 6.6 Q27.5 6.3 25.5 6.3 Q22.9 6.3 20.45 6.8 Q18 7.3 16.05 8.45 Q14.1 9.6 12.9 11.55 Q11.7 13.5 11.6 16.3 Z\"\n",
       "        /><glyph unicode=\"[\" horiz-adv-x=\"25.9\" d=\"M25.9 66.3 L25.9 73.1 L7.2 73.1 L7.2 -19.7 L25.9 -19.7 L25.9 -12.9 L15.2 -12.9 L15.2 66.3 Z\"\n",
       "        /><glyph unicode=\"t\" horiz-adv-x=\"31.5\" d=\"M18.2 51.7 L18.2 67.2 L9.7 67.2 L9.7 51.7 L0.9 51.7 L0.9 44.2 L9.7 44.2 L9.7 11.3 Q9.7 7.7 10.4 5.5 Q11.1 3.3 12.55 2.1 Q14 0.9 16.35 0.45 Q18.7 0 22 0 L28.5 0 L28.5 7.5 L24.6 7.5 Q22.6 7.5 21.35 7.65 Q20.1 7.8 19.4 8.3 Q18.7 8.8 18.45 9.7 Q18.2 10.6 18.2 12.1 L18.2 44.2 L28.5 44.2 L28.5 51.7 Z\"\n",
       "        /><glyph unicode=\" \" horiz-adv-x=\"27.8\" d=\"\"\n",
       "        /><glyph unicode=\"e\" horiz-adv-x=\"53.7\" d=\"M42.3 30.8 L12.6 30.8 Q12.8 33.8 13.9 36.45 Q15 39.1 16.9 41.1 Q18.8 43.1 21.45 44.25 Q24.1 45.4 27.4 45.4 Q30.6 45.4 33.25 44.25 Q35.9 43.1 37.85 41.15 Q39.8 39.2 40.95 36.5 Q42.1 33.8 42.3 30.8 ZM50.5 16.4 L42.1 16.4 Q41 11.3 37.55 8.8 Q34.1 6.3 28.7 6.3 Q24.5 6.3 21.4 7.7 Q18.3 9.1 16.3 11.45 Q14.3 13.8 13.4 16.85 Q12.5 19.9 12.6 23.3 L51.3 23.3 Q51.5 28 50.45 33.2 Q49.4 38.4 46.65 42.8 Q43.9 47.2 39.35 50.05 Q34.8 52.9 27.9 52.9 Q22.6 52.9 18.15 50.9 Q13.7 48.9 10.45 45.3 Q7.2 41.7 5.4 36.8 Q3.6 31.9 3.6 26 Q3.8 20.1 5.35 15.1 Q6.9 10.1 10 6.5 Q13.1 2.9 17.65 0.9 Q22.2 -1.1 28.4 -1.1 Q37.2 -1.1 43 3.3 Q48.8 7.7 50.5 16.4 Z\"\n",
       "        /><glyph unicode=\"m\" horiz-adv-x=\"85.3\" d=\"M6.4 51.7 L6.4 0 L14.9 0 L14.9 32.2 Q14.9 33.7 15.65 35.95 Q16.4 38.2 18.05 40.3 Q19.7 42.4 22.35 43.9 Q25 45.4 28.7 45.4 Q31.6 45.4 33.45 44.55 Q35.3 43.7 36.4 42.15 Q37.5 40.6 37.95 38.5 Q38.4 36.4 38.4 33.9 L38.4 0 L46.9 0 L46.9 32.2 Q46.9 38.2 50.5 41.8 Q54.1 45.4 60.4 45.4 Q63.5 45.4 65.45 44.5 Q67.4 43.6 68.5 42.05 Q69.6 40.5 70 38.4 Q70.4 36.3 70.4 33.9 L70.4 0 L78.9 0 L78.9 37.9 Q78.9 41.9 77.65 44.75 Q76.4 47.6 74.15 49.4 Q71.9 51.2 68.75 52.05 Q65.6 52.9 61.7 52.9 Q56.6 52.9 52.35 50.6 Q48.1 48.3 45.5 44.1 Q43.9 48.9 40 50.9 Q36.1 52.9 31.3 52.9 Q20.4 52.9 14.6 44.1 L14.4 44.1 L14.4 51.7 Z\"\n",
       "        /><glyph unicode=\"i\" horiz-adv-x=\"22.2\" d=\"M15.4 61 L15.4 71.4 L6.9 71.4 L6.9 61 ZM6.9 51.7 L6.9 0 L15.4 0 L15.4 51.7 Z\"\n",
       "        /><glyph unicode=\"T\" horiz-adv-x=\"57.4\" d=\"M24 63.4 L24 0 L33.5 0 L33.5 63.4 L57.3 63.4 L57.3 71.4 L0.2 71.4 L0.2 63.4 Z\"\n",
       "        /><glyph unicode=\".\" horiz-adv-x=\"27.8\" d=\"M8.3 11.1 L8.3 0 L19.4 0 L19.4 11.1 Z\"\n",
       "        /><glyph unicode=\"-\" horiz-adv-x=\"38.9\" d=\"M5 31.8 L5 23.8 L33.9 23.8 L33.9 31.8 Z\"\n",
       "        /><glyph unicode=\")\" horiz-adv-x=\"25.9\" d=\"M-0.9 -19.7 L5.5 -19.7 Q13.3 -9.4 17.25 2.55 Q21.2 14.5 21.2 26.3 Q21.2 32.9 20.1 38.9 Q19 44.9 16.95 50.65 Q14.9 56.4 12 61.95 Q9.1 67.5 5.5 73.1 L-0.9 73.1 Q6.1 61.6 9.15 50.25 Q12.2 38.9 12.2 26.3 Q12.2 14.1 9.2 2.85 Q6.2 -8.4 -0.9 -19.7 Z\"\n",
       "        /><glyph unicode=\"(\" horiz-adv-x=\"25.9\" d=\"M20.4 -19.7 L26.9 -19.7 Q19.8 -8.2 16.75 3.1 Q13.7 14.4 13.7 27 Q13.7 39.3 16.7 50.5 Q19.7 61.7 26.9 73.1 L20.4 73.1 Q12.6 62.8 8.65 50.8 Q4.7 38.8 4.7 27 Q4.7 20.4 5.8 14.4 Q6.9 8.4 8.95 2.7 Q11 -3 13.9 -8.55 Q16.8 -14.1 20.4 -19.7 Z\"\n",
       "        /><glyph unicode=\"x\" horiz-adv-x=\"51.8\" d=\"M20.3 27.2 L0.9 0 L11.2 0 L25.6 21.4 L40 0 L50.9 0 L30.9 27.9 L48.7 51.7 L38.5 51.7 L25.6 33.6 L13.2 51.7 L2.3 51.7 Z\"\n",
       "      /></font\n",
       "      ><font horiz-adv-x=\"50.0\" id=\"font2\"\n",
       "      ><font-face ascent=\"97.5\" descent=\"21.699999\" units-per-em=\"100\" style=\"font-style:normal; font-family:Helvetica Neue; font-weight:bold;\"\n",
       "        /><missing-glyph horiz-adv-x=\"50.0\" d=\"M39.1 60.7 L11.1 60.7 L11.1 9.5 L39.1 9.5 ZM48.2 69.8 L48.2 0.3 L1.7 0.3 L1.7 69.8 Z\"\n",
       "        /><glyph unicode=\"f\" horiz-adv-x=\"33.3\" d=\"M8.5 42.2 L8.5 0 L22.7 0 L22.7 42.2 L32.5 42.2 L32.5 51.7 L22.7 51.7 L22.7 54.8 Q22.7 58 23.95 59.35 Q25.2 60.7 28.1 60.7 Q30.8 60.7 33.3 60.4 L33.3 71 Q31.5 71.1 29.6 71.25 Q27.7 71.4 25.8 71.4 Q17.1 71.4 12.8 67 Q8.5 62.6 8.5 55.7 L8.5 51.7 L0 51.7 L0 42.2 Z\"\n",
       "        /><glyph unicode=\"h\" horiz-adv-x=\"59.3\" d=\"M5.4 71.4 L5.4 0 L19.6 0 L19.6 27.1 Q19.6 35 22.2 38.45 Q24.8 41.9 30.6 41.9 Q35.7 41.9 37.7 38.75 Q39.7 35.6 39.7 29.2 L39.7 0 L53.9 0 L53.9 31.8 Q53.9 36.6 53.05 40.55 Q52.2 44.5 50.1 47.25 Q48 50 44.35 51.55 Q40.7 53.1 35 53.1 Q31 53.1 26.8 51.05 Q22.6 49 19.9 44.5 L19.6 44.5 L19.6 71.4 Z\"\n",
       "        /><glyph unicode=\"w\" horiz-adv-x=\"81.4\" d=\"M64.5 0 L80.8 51.7 L66.2 51.7 L56.7 16.7 L56.5 16.7 L47.7 51.7 L33.9 51.7 L25.3 16.6 L25.1 16.6 L15.6 51.7 L0.6 51.7 L17 0 L31.7 0 L40.5 34.7 L40.7 34.7 L49.9 0 Z\"\n",
       "        /><glyph unicode=\"d\" horiz-adv-x=\"61.1\" d=\"M42.1 26 Q42.1 22.8 41.5 19.8 Q40.9 16.8 39.5 14.45 Q38.1 12.1 35.75 10.7 Q33.4 9.3 29.9 9.3 Q26.6 9.3 24.25 10.75 Q21.9 12.2 20.35 14.55 Q18.8 16.9 18.1 19.9 Q17.4 22.9 17.4 25.9 Q17.4 29.1 18.05 32.05 Q18.7 35 20.15 37.3 Q21.6 39.6 24 41 Q26.4 42.4 29.9 42.4 Q33.4 42.4 35.7 41 Q38 39.6 39.45 37.35 Q40.9 35.1 41.5 32.15 Q42.1 29.2 42.1 26 ZM42.3 6.6 L42.3 0 L55.8 0 L55.8 71.4 L41.6 71.4 L41.6 45.4 L41.4 45.4 Q39 49.2 34.85 51.15 Q30.7 53.1 26.1 53.1 Q20.4 53.1 16.1 50.85 Q11.8 48.6 8.95 44.9 Q6.1 41.2 4.65 36.35 Q3.2 31.5 3.2 26.3 Q3.2 20.9 4.65 15.9 Q6.1 10.9 8.95 7.05 Q11.8 3.2 16.2 0.95 Q20.6 -1.3 26.4 -1.3 Q31.5 -1.3 35.55 0.55 Q39.6 2.4 42.1 6.6 Z\"\n",
       "        /><glyph unicode=\"u\" horiz-adv-x=\"59.3\" d=\"M53.9 0 L53.9 51.7 L39.7 51.7 L39.7 24.6 Q39.7 16.7 37.1 13.25 Q34.5 9.8 28.7 9.8 Q23.6 9.8 21.6 12.95 Q19.6 16.1 19.6 22.5 L19.6 51.7 L5.4 51.7 L5.4 19.9 Q5.4 15.1 6.25 11.15 Q7.1 7.2 9.2 4.45 Q11.3 1.7 14.95 0.2 Q18.6 -1.3 24.3 -1.3 Q28.8 -1.3 33.1 0.7 Q37.4 2.7 40.1 7.2 L40.4 7.2 L40.4 0 Z\"\n",
       "        /><glyph unicode=\"s\" horiz-adv-x=\"53.7\" d=\"M16.4 16.8 L2.9 16.8 Q3.1 11.6 5.25 8.15 Q7.4 4.7 10.75 2.6 Q14.1 0.5 18.4 -0.4 Q22.7 -1.3 27.2 -1.3 Q31.6 -1.3 35.85 -0.45 Q40.1 0.4 43.4 2.5 Q46.7 4.6 48.75 8.05 Q50.8 11.5 50.8 16.6 Q50.8 20.2 49.4 22.65 Q48 25.1 45.7 26.75 Q43.4 28.4 40.45 29.4 Q37.5 30.4 34.4 31.1 Q31.4 31.8 28.5 32.4 Q25.6 33 23.35 33.75 Q21.1 34.5 19.7 35.7 Q18.3 36.9 18.3 38.8 Q18.3 40.4 19.1 41.35 Q19.9 42.3 21.05 42.8 Q22.2 43.3 23.6 43.45 Q25 43.6 26.2 43.6 Q30 43.6 32.8 42.15 Q35.6 40.7 35.9 36.6 L49.4 36.6 Q49 41.4 46.95 44.55 Q44.9 47.7 41.8 49.6 Q38.7 51.5 34.75 52.3 Q30.8 53.1 26.6 53.1 Q22.4 53.1 18.4 52.35 Q14.4 51.6 11.2 49.75 Q8 47.9 6.05 44.7 Q4.1 41.5 4.1 36.5 Q4.1 33.1 5.5 30.75 Q6.9 28.4 9.2 26.85 Q11.5 25.3 14.45 24.35 Q17.4 23.4 20.5 22.7 Q28.1 21.1 32.35 19.5 Q36.6 17.9 36.6 14.7 Q36.6 12.8 35.7 11.55 Q34.8 10.3 33.45 9.55 Q32.1 8.8 30.45 8.45 Q28.8 8.1 27.3 8.1 Q25.2 8.1 23.25 8.6 Q21.3 9.1 19.8 10.15 Q18.3 11.2 17.35 12.85 Q16.4 14.5 16.4 16.8 Z\"\n",
       "        /><glyph unicode=\"o\" horiz-adv-x=\"61.1\" d=\"M18 25.8 Q18 28.9 18.6 31.9 Q19.2 34.9 20.65 37.2 Q22.1 39.5 24.5 40.95 Q26.9 42.4 30.5 42.4 Q34.1 42.4 36.55 40.95 Q39 39.5 40.45 37.2 Q41.9 34.9 42.5 31.9 Q43.1 28.9 43.1 25.8 Q43.1 22.7 42.5 19.75 Q41.9 16.8 40.45 14.45 Q39 12.1 36.55 10.7 Q34.1 9.3 30.5 9.3 Q26.9 9.3 24.5 10.7 Q22.1 12.1 20.65 14.45 Q19.2 16.8 18.6 19.75 Q18 22.7 18 25.8 ZM3.8 25.8 Q3.8 19.6 5.7 14.6 Q7.6 9.6 11.1 6.05 Q14.6 2.5 19.5 0.6 Q24.4 -1.3 30.5 -1.3 Q36.6 -1.3 41.55 0.6 Q46.5 2.5 50 6.05 Q53.5 9.6 55.4 14.6 Q57.3 19.6 57.3 25.8 Q57.3 32 55.4 37.05 Q53.5 42.1 50 45.65 Q46.5 49.2 41.55 51.15 Q36.6 53.1 30.5 53.1 Q24.4 53.1 19.5 51.15 Q14.6 49.2 11.1 45.65 Q7.6 42.1 5.7 37.05 Q3.8 32 3.8 25.8 Z\"\n",
       "        /><glyph unicode=\"c\" horiz-adv-x=\"57.4\" d=\"M40.6 33.5 L54.5 33.5 Q54.2 38.5 52.1 42.15 Q50 45.8 46.65 48.25 Q43.3 50.7 39.05 51.9 Q34.8 53.1 30.2 53.1 Q23.9 53.1 19 51 Q14.1 48.9 10.7 45.15 Q7.3 41.4 5.55 36.25 Q3.8 31.1 3.8 25.1 Q3.8 19.3 5.7 14.45 Q7.6 9.6 11 6.1 Q14.4 2.6 19.25 0.65 Q24.1 -1.3 29.9 -1.3 Q40.2 -1.3 46.8 4.1 Q53.4 9.5 54.8 19.8 L41.1 19.8 Q40.4 15 37.65 12.15 Q34.9 9.3 29.8 9.3 Q26.5 9.3 24.2 10.8 Q21.9 12.3 20.55 14.65 Q19.2 17 18.6 19.9 Q18 22.8 18 25.6 Q18 28.5 18.6 31.45 Q19.2 34.4 20.65 36.85 Q22.1 39.3 24.4 40.85 Q26.7 42.4 30.1 42.4 Q39.2 42.4 40.6 33.5 Z\"\n",
       "        /><glyph unicode=\"e\" horiz-adv-x=\"57.4\" d=\"M40.2 31.4 L17.1 31.4 Q17.2 32.9 17.75 34.8 Q18.3 36.7 19.65 38.4 Q21 40.1 23.25 41.25 Q25.5 42.4 28.9 42.4 Q34.1 42.4 36.65 39.6 Q39.2 36.8 40.2 31.4 ZM17.1 22.4 L54.4 22.4 Q54.8 28.4 53.4 33.9 Q52 39.4 48.85 43.7 Q45.7 48 40.8 50.55 Q35.9 53.1 29.3 53.1 Q23.4 53.1 18.55 51 Q13.7 48.9 10.2 45.25 Q6.7 41.6 4.8 36.6 Q2.9 31.6 2.9 25.8 Q2.9 19.8 4.75 14.8 Q6.6 9.8 10 6.2 Q13.4 2.6 18.3 0.65 Q23.2 -1.3 29.3 -1.3 Q38.1 -1.3 44.3 2.7 Q50.5 6.7 53.5 16 L41 16 Q40.3 13.6 37.2 11.45 Q34.1 9.3 29.8 9.3 Q23.8 9.3 20.6 12.4 Q17.4 15.5 17.1 22.4 Z\"\n",
       "        /><glyph unicode=\"r\" horiz-adv-x=\"38.9\" d=\"M5.4 51.7 L5.4 0 L19.6 0 L19.6 23.3 Q19.6 26.8 20.3 29.8 Q21 32.8 22.65 35.05 Q24.3 37.3 27 38.6 Q29.7 39.9 33.6 39.9 Q34.9 39.9 36.3 39.75 Q37.7 39.6 38.7 39.4 L38.7 52.6 Q37 53.1 35.6 53.1 Q32.9 53.1 30.4 52.3 Q27.9 51.5 25.7 50.05 Q23.5 48.6 21.8 46.55 Q20.1 44.5 19.1 42.1 L18.9 42.1 L18.9 51.7 Z\"\n",
       "        /><glyph unicode=\")\" horiz-adv-x=\"29.6\" d=\"M-0.6 -18.1 L11.2 -18.1 Q14.5 -13.4 17 -7.7 Q19.5 -2 21.15 4.05 Q22.8 10.1 23.6 16.25 Q24.4 22.4 24.4 28 Q24.4 39.8 20.95 51.3 Q17.5 62.8 11.2 73.1 L-0.5 73.1 Q5 62.2 7.6 50.6 Q10.2 39 10.2 27 Q10.2 15.2 7.55 3.85 Q4.9 -7.5 -0.6 -18.1 Z\"\n",
       "        /><glyph unicode=\"t\" horiz-adv-x=\"35.2\" d=\"M23.4 51.7 L23.4 67.2 L9.2 67.2 L9.2 51.7 L0.6 51.7 L0.6 42.2 L9.2 42.2 L9.2 11.7 Q9.2 7.8 10.5 5.4 Q11.8 3 14.05 1.7 Q16.3 0.4 19.25 -0.05 Q22.2 -0.5 25.5 -0.5 Q27.6 -0.5 29.8 -0.4 Q32 -0.3 33.8 0 L33.8 11 Q32.8 10.8 31.7 10.7 Q30.6 10.6 29.4 10.6 Q25.8 10.6 24.6 11.8 Q23.4 13 23.4 16.6 L23.4 42.2 L33.8 42.2 L33.8 51.7 Z\"\n",
       "        /><glyph unicode=\"(\" horiz-adv-x=\"29.6\" d=\"M30.3 73.1 L18.4 73.1 Q15.1 68.3 12.65 62.6 Q10.2 56.9 8.55 50.8 Q6.9 44.7 6.05 38.55 Q5.2 32.4 5.2 26.8 Q5.2 15 8.65 3.6 Q12.1 -7.8 18.4 -18.1 L30.2 -18.1 Q24.5 -7.2 21.95 4.3 Q19.4 15.8 19.4 27.8 Q19.4 39.6 22 51.05 Q24.6 62.5 30.3 73.1 Z\"\n",
       "        /><glyph unicode=\"x\" horiz-adv-x=\"53.7\" d=\"M18.6 27.2 L0 0 L15.9 0 L26.7 16.3 L37.5 0 L53.7 0 L34.6 27.5 L51.6 51.7 L35.9 51.7 L26.9 38.2 L17.8 51.7 L1.6 51.7 Z\"\n",
       "        /><glyph unicode=\"l\" horiz-adv-x=\"25.8\" d=\"M5.8 71.4 L5.8 0 L20 0 L20 71.4 Z\"\n",
       "        /><glyph unicode=\"a\" horiz-adv-x=\"57.4\" d=\"M4.8 35.8 Q5.1 40.8 7.3 44.1 Q9.5 47.4 12.9 49.4 Q16.3 51.4 20.55 52.25 Q24.8 53.1 29.1 53.1 Q33 53.1 37 52.55 Q41 52 44.3 50.4 Q47.6 48.8 49.7 45.95 Q51.8 43.1 51.8 38.4 L51.8 11.5 Q51.8 8 52.2 4.8 Q52.6 1.6 53.6 0 L39.2 0 Q38.8 1.2 38.55 2.45 Q38.3 3.7 38.2 5 Q34.8 1.5 30.2 0.1 Q25.6 -1.3 20.8 -1.3 Q17.1 -1.3 13.9 -0.4 Q10.7 0.5 8.3 2.4 Q5.9 4.3 4.55 7.2 Q3.2 10.1 3.2 14.1 Q3.2 18.5 4.75 21.35 Q6.3 24.2 8.75 25.9 Q11.2 27.6 14.35 28.45 Q17.5 29.3 20.7 29.8 Q23.9 30.3 27 30.6 Q30.1 30.9 32.5 31.5 Q34.9 32.1 36.3 33.25 Q37.7 34.4 37.6 36.6 Q37.6 38.9 36.85 40.25 Q36.1 41.6 34.85 42.35 Q33.6 43.1 31.95 43.35 Q30.3 43.6 28.4 43.6 Q24.2 43.6 21.8 41.8 Q19.4 40 19 35.8 ZM37.6 25.3 Q36.7 24.5 35.35 24.05 Q34 23.6 32.45 23.3 Q30.9 23 29.2 22.8 Q27.5 22.6 25.8 22.3 Q24.2 22 22.65 21.5 Q21.1 21 19.95 20.15 Q18.8 19.3 18.1 18 Q17.4 16.7 17.4 14.7 Q17.4 12.8 18.1 11.5 Q18.8 10.2 20 9.45 Q21.2 8.7 22.8 8.4 Q24.4 8.1 26.1 8.1 Q30.3 8.1 32.6 9.5 Q34.9 10.9 36 12.85 Q37.1 14.8 37.35 16.8 Q37.6 18.8 37.6 20 Z\"\n",
       "        /><glyph unicode=\"n\" horiz-adv-x=\"59.3\" d=\"M5.4 51.7 L5.4 0 L19.6 0 L19.6 27.1 Q19.6 35 22.2 38.45 Q24.8 41.9 30.6 41.9 Q35.7 41.9 37.7 38.75 Q39.7 35.6 39.7 29.2 L39.7 0 L53.9 0 L53.9 31.8 Q53.9 36.6 53.05 40.55 Q52.2 44.5 50.1 47.25 Q48 50 44.35 51.55 Q40.7 53.1 35 53.1 Q30.5 53.1 26.2 51.05 Q21.9 49 19.2 44.5 L18.9 44.5 L18.9 51.7 Z\"\n",
       "        /><glyph unicode=\"S\" horiz-adv-x=\"64.9\" d=\"M17.6 23.7 L2.4 23.7 Q2.3 17.1 4.8 12.3 Q7.3 7.5 11.55 4.4 Q15.8 1.3 21.35 -0.15 Q26.9 -1.6 32.8 -1.6 Q40.1 -1.6 45.65 0.1 Q51.2 1.8 54.95 4.85 Q58.7 7.9 60.6 12.1 Q62.5 16.3 62.5 21.2 Q62.5 27.2 59.95 31.05 Q57.4 34.9 53.9 37.2 Q50.4 39.5 46.85 40.55 Q43.3 41.6 41.3 42 Q34.6 43.7 30.45 44.8 Q26.3 45.9 23.95 47 Q21.6 48.1 20.8 49.4 Q20 50.7 20 52.8 Q20 55.1 21 56.6 Q22 58.1 23.55 59.1 Q25.1 60.1 27 60.5 Q28.9 60.9 30.8 60.9 Q33.7 60.9 36.15 60.4 Q38.6 59.9 40.5 58.7 Q42.4 57.5 43.55 55.4 Q44.7 53.3 44.9 50.1 L60.1 50.1 Q60.1 56.3 57.75 60.65 Q55.4 65 51.4 67.8 Q47.4 70.6 42.25 71.85 Q37.1 73.1 31.5 73.1 Q26.7 73.1 21.9 71.8 Q17.1 70.5 13.3 67.8 Q9.5 65.1 7.15 61.05 Q4.8 57 4.8 51.5 Q4.8 46.6 6.65 43.15 Q8.5 39.7 11.5 37.4 Q14.5 35.1 18.3 33.65 Q22.1 32.2 26.1 31.2 Q30 30.1 33.8 29.2 Q37.6 28.3 40.6 27.1 Q43.6 25.9 45.45 24.1 Q47.3 22.3 47.3 19.4 Q47.3 16.7 45.9 14.95 Q44.5 13.2 42.4 12.2 Q40.3 11.2 37.9 10.85 Q35.5 10.5 33.4 10.5 Q30.3 10.5 27.4 11.25 Q24.5 12 22.35 13.55 Q20.2 15.1 18.9 17.6 Q17.6 20.1 17.6 23.7 Z\"\n",
       "        /><glyph unicode=\":\" horiz-adv-x=\"27.8\" d=\"M21.8 35.4 L21.8 50.8 L6.1 50.8 L6.1 35.4 ZM6.1 15.4 L6.1 0 L21.8 0 L21.8 15.4 Z\"\n",
       "        /><glyph unicode=\"5\" horiz-adv-x=\"55.6\" d=\"M50 58.3 L50 70 L10.9 70 L4 31.3 L16.8 31.3 Q18.9 34.2 21.3 35.55 Q23.7 36.9 27.5 36.9 Q30.4 36.9 32.6 35.9 Q34.8 34.9 36.4 33.1 Q38 31.3 38.8 28.9 Q39.6 26.5 39.6 23.8 Q39.6 21.2 38.75 18.75 Q37.9 16.3 36.35 14.45 Q34.8 12.6 32.55 11.45 Q30.3 10.3 27.5 10.3 Q22.7 10.3 19.6 13.15 Q16.5 16 16 20.8 L1.8 20.8 Q1.9 15.3 4.05 11.15 Q6.2 7 9.8 4.2 Q13.4 1.4 18.05 0.05 Q22.7 -1.3 27.8 -1.3 Q33.1 -1.4 37.8 0.45 Q42.5 2.3 46.05 5.7 Q49.6 9.1 51.7 13.75 Q53.8 18.4 53.8 23.8 Q53.8 28.7 52.35 33.05 Q50.9 37.4 48.15 40.6 Q45.4 43.8 41.4 45.7 Q37.4 47.6 32.2 47.6 Q28 47.6 24.7 46.35 Q21.4 45.1 18.5 42.2 L18.3 42.4 L21.1 58.3 Z\"\n",
       "        /><glyph unicode=\" \" horiz-adv-x=\"27.8\" d=\"\"\n",
       "        /><glyph unicode=\"g\" horiz-adv-x=\"61.1\" d=\"M29.5 12.2 Q26.2 12.2 24 13.6 Q21.8 15 20.45 17.2 Q19.1 19.4 18.55 22.15 Q18 24.9 18 27.7 Q18 30.6 18.65 33.25 Q19.3 35.9 20.75 37.95 Q22.2 40 24.35 41.2 Q26.5 42.4 29.5 42.4 Q33 42.4 35.3 41.1 Q37.6 39.8 39 37.6 Q40.4 35.4 41 32.55 Q41.6 29.7 41.6 26.5 Q41.6 23.7 40.85 21.15 Q40.1 18.6 38.6 16.6 Q37.1 14.6 34.8 13.4 Q32.5 12.2 29.5 12.2 ZM55.1 3.3 L55.1 51.7 L41.6 51.7 L41.6 44.8 L41.4 44.8 Q38.8 49.3 34.95 51.2 Q31.1 53.1 26 53.1 Q20.6 53.1 16.45 51 Q12.3 48.9 9.5 45.35 Q6.7 41.8 5.25 37.15 Q3.8 32.5 3.8 27.5 Q3.8 22.2 5.05 17.45 Q6.3 12.7 9 9.15 Q11.7 5.6 15.9 3.55 Q20.1 1.5 25.9 1.5 Q30.6 1.5 34.85 3.45 Q39.1 5.4 41.4 9.5 L41.6 9.5 L41.6 2.7 Q41.7 -2.8 38.95 -6.4 Q36.2 -10 30.2 -10 Q26.4 -10 23.5 -8.45 Q20.6 -6.9 19.6 -2.9 L5.5 -2.9 Q5.8 -7.3 7.95 -10.45 Q10.1 -13.6 13.35 -15.6 Q16.6 -17.6 20.55 -18.55 Q24.5 -19.5 28.3 -19.5 Q37.2 -19.5 42.5 -17.1 Q47.8 -14.7 50.6 -11.25 Q53.4 -7.8 54.25 -3.8 Q55.1 0.2 55.1 3.3 Z\"\n",
       "        /><glyph unicode=\"i\" horiz-adv-x=\"25.8\" d=\"M20 59.7 L20 71.4 L5.8 71.4 L5.8 59.7 ZM5.8 51.7 L5.8 0 L20 0 L20 51.7 Z\"\n",
       "        /><glyph unicode=\"F\" horiz-adv-x=\"59.3\" d=\"M6.9 71.4 L6.9 0 L22.6 0 L22.6 29.5 L52.5 29.5 L52.5 41.7 L22.6 41.7 L22.6 58.2 L57.1 58.2 L57.1 71.4 Z\"\n",
       "      /></font\n",
       "    ></defs\n",
       "    ><g style=\"fill:white; stroke:white;\"\n",
       "    ><rect x=\"0\" y=\"0\" width=\"560\" style=\"clip-path:url(#clipPath1); stroke:none;\" height=\"420\"\n",
       "    /></g\n",
       "    ><g style=\"fill:white; text-rendering:optimizeSpeed; color-rendering:optimizeSpeed; image-rendering:optimizeSpeed; shape-rendering:crispEdges; stroke:white; color-interpolation:sRGB;\"\n",
       "    ><rect x=\"0\" width=\"560\" height=\"420\" y=\"0\" style=\"stroke:none;\"\n",
       "      /><path style=\"stroke:none;\" d=\"M73 373 L507 373 L507 31 L73 31 Z\"\n",
       "    /></g\n",
       "    ><g style=\"fill:rgb(38,38,38); text-rendering:geometricPrecision; image-rendering:optimizeQuality; color-rendering:optimizeQuality; stroke-linejoin:round; stroke:rgb(38,38,38); color-interpolation:linearRGB; stroke-width:0.5;\"\n",
       "    ><line y2=\"373\" style=\"fill:none;\" x1=\"73\" x2=\"507\" y1=\"373\"\n",
       "      /><line y2=\"31\" style=\"fill:none;\" x1=\"73\" x2=\"507\" y1=\"31\"\n",
       "      /><line y2=\"368.66\" style=\"fill:none;\" x1=\"73\" x2=\"73\" y1=\"373\"\n",
       "      /><line y2=\"368.66\" style=\"fill:none;\" x1=\"159.8\" x2=\"159.8\" y1=\"373\"\n",
       "      /><line y2=\"368.66\" style=\"fill:none;\" x1=\"246.6\" x2=\"246.6\" y1=\"373\"\n",
       "      /><line y2=\"368.66\" style=\"fill:none;\" x1=\"333.4\" x2=\"333.4\" y1=\"373\"\n",
       "      /><line y2=\"368.66\" style=\"fill:none;\" x1=\"420.2\" x2=\"420.2\" y1=\"373\"\n",
       "      /><line y2=\"368.66\" style=\"fill:none;\" x1=\"507\" x2=\"507\" y1=\"373\"\n",
       "      /><line y2=\"35.34\" style=\"fill:none;\" x1=\"73\" x2=\"73\" y1=\"31\"\n",
       "      /><line y2=\"35.34\" style=\"fill:none;\" x1=\"159.8\" x2=\"159.8\" y1=\"31\"\n",
       "      /><line y2=\"35.34\" style=\"fill:none;\" x1=\"246.6\" x2=\"246.6\" y1=\"31\"\n",
       "      /><line y2=\"35.34\" style=\"fill:none;\" x1=\"333.4\" x2=\"333.4\" y1=\"31\"\n",
       "      /><line y2=\"35.34\" style=\"fill:none;\" x1=\"420.2\" x2=\"420.2\" y1=\"31\"\n",
       "      /><line y2=\"35.34\" style=\"fill:none;\" x1=\"507\" x2=\"507\" y1=\"31\"\n",
       "    /></g\n",
       "    ><g transform=\"translate(73,378.2)\" style=\"font-size:16px; fill:rgb(38,38,38); text-rendering:geometricPrecision; image-rendering:optimizeQuality; color-rendering:optimizeQuality; font-family:'Helvetica Neue'; stroke:rgb(38,38,38); color-interpolation:linearRGB;\"\n",
       "    ><text x=\"-4.5\" xml:space=\"preserve\" y=\"16\" style=\"stroke:none;\"\n",
       "      >0</text\n",
       "    ></g\n",
       "    ><g transform=\"translate(159.8,378.2)\" style=\"font-size:16px; fill:rgb(38,38,38); text-rendering:geometricPrecision; image-rendering:optimizeQuality; color-rendering:optimizeQuality; font-family:'Helvetica Neue'; stroke:rgb(38,38,38); color-interpolation:linearRGB;\"\n",
       "    ><text x=\"-4.5\" xml:space=\"preserve\" y=\"16\" style=\"stroke:none;\"\n",
       "      >2</text\n",
       "    ></g\n",
       "    ><g transform=\"translate(246.6,378.2)\" style=\"font-size:16px; fill:rgb(38,38,38); text-rendering:geometricPrecision; image-rendering:optimizeQuality; color-rendering:optimizeQuality; font-family:'Helvetica Neue'; stroke:rgb(38,38,38); color-interpolation:linearRGB;\"\n",
       "    ><text x=\"-4.5\" xml:space=\"preserve\" y=\"16\" style=\"stroke:none;\"\n",
       "      >4</text\n",
       "    ></g\n",
       "    ><g transform=\"translate(333.4,378.2)\" style=\"font-size:16px; fill:rgb(38,38,38); text-rendering:geometricPrecision; image-rendering:optimizeQuality; color-rendering:optimizeQuality; font-family:'Helvetica Neue'; stroke:rgb(38,38,38); color-interpolation:linearRGB;\"\n",
       "    ><text x=\"-4.5\" xml:space=\"preserve\" y=\"16\" style=\"stroke:none;\"\n",
       "      >6</text\n",
       "    ></g\n",
       "    ><g transform=\"translate(420.2,378.2)\" style=\"font-size:16px; fill:rgb(38,38,38); text-rendering:geometricPrecision; image-rendering:optimizeQuality; color-rendering:optimizeQuality; font-family:'Helvetica Neue'; stroke:rgb(38,38,38); color-interpolation:linearRGB;\"\n",
       "    ><text x=\"-4.5\" xml:space=\"preserve\" y=\"16\" style=\"stroke:none;\"\n",
       "      >8</text\n",
       "    ></g\n",
       "    ><g transform=\"translate(507,378.2)\" style=\"font-size:16px; fill:rgb(38,38,38); text-rendering:geometricPrecision; image-rendering:optimizeQuality; color-rendering:optimizeQuality; font-family:'Helvetica Neue'; stroke:rgb(38,38,38); color-interpolation:linearRGB;\"\n",
       "    ><text x=\"-9\" xml:space=\"preserve\" y=\"16\" style=\"stroke:none;\"\n",
       "      >10</text\n",
       "    ></g\n",
       "    ><g transform=\"translate(290.0002,399.2)\" style=\"font-size:17.6px; fill:rgb(38,38,38); text-rendering:geometricPrecision; image-rendering:optimizeQuality; color-rendering:optimizeQuality; font-family:'Helvetica Neue'; stroke:rgb(38,38,38); color-interpolation:linearRGB;\"\n",
       "    ><text x=\"-36\" xml:space=\"preserve\" y=\"17\" style=\"stroke:none;\"\n",
       "      >Time t [s]</text\n",
       "    ></g\n",
       "    ><g style=\"fill:rgb(38,38,38); text-rendering:geometricPrecision; image-rendering:optimizeQuality; color-rendering:optimizeQuality; stroke-linejoin:round; stroke:rgb(38,38,38); color-interpolation:linearRGB; stroke-width:0.5;\"\n",
       "    ><line y2=\"31\" style=\"fill:none;\" x1=\"73\" x2=\"73\" y1=\"373\"\n",
       "      /><line y2=\"31\" style=\"fill:none;\" x1=\"507\" x2=\"507\" y1=\"373\"\n",
       "      /><line y2=\"373\" style=\"fill:none;\" x1=\"73\" x2=\"77.34\" y1=\"373\"\n",
       "      /><line y2=\"316\" style=\"fill:none;\" x1=\"73\" x2=\"77.34\" y1=\"316\"\n",
       "      /><line y2=\"259\" style=\"fill:none;\" x1=\"73\" x2=\"77.34\" y1=\"259\"\n",
       "      /><line y2=\"202\" style=\"fill:none;\" x1=\"73\" x2=\"77.34\" y1=\"202\"\n",
       "      /><line y2=\"145\" style=\"fill:none;\" x1=\"73\" x2=\"77.34\" y1=\"145\"\n",
       "      /><line y2=\"88\" style=\"fill:none;\" x1=\"73\" x2=\"77.34\" y1=\"88\"\n",
       "      /><line y2=\"31\" style=\"fill:none;\" x1=\"73\" x2=\"77.34\" y1=\"31\"\n",
       "      /><line y2=\"373\" style=\"fill:none;\" x1=\"507\" x2=\"502.66\" y1=\"373\"\n",
       "      /><line y2=\"316\" style=\"fill:none;\" x1=\"507\" x2=\"502.66\" y1=\"316\"\n",
       "      /><line y2=\"259\" style=\"fill:none;\" x1=\"507\" x2=\"502.66\" y1=\"259\"\n",
       "      /><line y2=\"202\" style=\"fill:none;\" x1=\"507\" x2=\"502.66\" y1=\"202\"\n",
       "      /><line y2=\"145\" style=\"fill:none;\" x1=\"507\" x2=\"502.66\" y1=\"145\"\n",
       "      /><line y2=\"88\" style=\"fill:none;\" x1=\"507\" x2=\"502.66\" y1=\"88\"\n",
       "      /><line y2=\"31\" style=\"fill:none;\" x1=\"507\" x2=\"502.66\" y1=\"31\"\n",
       "    /></g\n",
       "    ><g transform=\"translate(67.8,373)\" style=\"font-size:16px; fill:rgb(38,38,38); text-rendering:geometricPrecision; image-rendering:optimizeQuality; color-rendering:optimizeQuality; font-family:'Helvetica Neue'; stroke:rgb(38,38,38); color-interpolation:linearRGB;\"\n",
       "    ><text x=\"-29\" xml:space=\"preserve\" y=\"6\" style=\"stroke:none;\"\n",
       "      >-0.4</text\n",
       "    ></g\n",
       "    ><g transform=\"translate(67.8,316)\" style=\"font-size:16px; fill:rgb(38,38,38); text-rendering:geometricPrecision; image-rendering:optimizeQuality; color-rendering:optimizeQuality; font-family:'Helvetica Neue'; stroke:rgb(38,38,38); color-interpolation:linearRGB;\"\n",
       "    ><text x=\"-29\" xml:space=\"preserve\" y=\"6\" style=\"stroke:none;\"\n",
       "      >-0.2</text\n",
       "    ></g\n",
       "    ><g transform=\"translate(67.8,259)\" style=\"font-size:16px; fill:rgb(38,38,38); text-rendering:geometricPrecision; image-rendering:optimizeQuality; color-rendering:optimizeQuality; font-family:'Helvetica Neue'; stroke:rgb(38,38,38); color-interpolation:linearRGB;\"\n",
       "    ><text x=\"-9\" xml:space=\"preserve\" y=\"6\" style=\"stroke:none;\"\n",
       "      >0</text\n",
       "    ></g\n",
       "    ><g transform=\"translate(67.8,202)\" style=\"font-size:16px; fill:rgb(38,38,38); text-rendering:geometricPrecision; image-rendering:optimizeQuality; color-rendering:optimizeQuality; font-family:'Helvetica Neue'; stroke:rgb(38,38,38); color-interpolation:linearRGB;\"\n",
       "    ><text x=\"-23\" xml:space=\"preserve\" y=\"6\" style=\"stroke:none;\"\n",
       "      >0.2</text\n",
       "    ></g\n",
       "    ><g transform=\"translate(67.8,145)\" style=\"font-size:16px; fill:rgb(38,38,38); text-rendering:geometricPrecision; image-rendering:optimizeQuality; color-rendering:optimizeQuality; font-family:'Helvetica Neue'; stroke:rgb(38,38,38); color-interpolation:linearRGB;\"\n",
       "    ><text x=\"-23\" xml:space=\"preserve\" y=\"6\" style=\"stroke:none;\"\n",
       "      >0.4</text\n",
       "    ></g\n",
       "    ><g transform=\"translate(67.8,88)\" style=\"font-size:16px; fill:rgb(38,38,38); text-rendering:geometricPrecision; image-rendering:optimizeQuality; color-rendering:optimizeQuality; font-family:'Helvetica Neue'; stroke:rgb(38,38,38); color-interpolation:linearRGB;\"\n",
       "    ><text x=\"-23\" xml:space=\"preserve\" y=\"6\" style=\"stroke:none;\"\n",
       "      >0.6</text\n",
       "    ></g\n",
       "    ><g transform=\"translate(67.8,31)\" style=\"font-size:16px; fill:rgb(38,38,38); text-rendering:geometricPrecision; image-rendering:optimizeQuality; color-rendering:optimizeQuality; font-family:'Helvetica Neue'; stroke:rgb(38,38,38); color-interpolation:linearRGB;\"\n",
       "    ><text x=\"-23\" xml:space=\"preserve\" y=\"6\" style=\"stroke:none;\"\n",
       "      >0.8</text\n",
       "    ></g\n",
       "    ><g transform=\"translate(35.8,201.9998) rotate(-90)\" style=\"font-size:17.6px; fill:rgb(38,38,38); text-rendering:geometricPrecision; image-rendering:optimizeQuality; color-rendering:optimizeQuality; font-family:'Helvetica Neue'; stroke:rgb(38,38,38); color-interpolation:linearRGB;\"\n",
       "    ><text x=\"-12\" xml:space=\"preserve\" y=\"-4\" style=\"stroke:none;\"\n",
       "      >x(t)</text\n",
       "    ></g\n",
       "    ><g transform=\"translate(290.0003,26.6)\" style=\"font-size:17.6px; text-rendering:geometricPrecision; image-rendering:optimizeQuality; color-rendering:optimizeQuality; font-family:'Helvetica Neue'; color-interpolation:linearRGB; font-weight:bold;\"\n",
       "    ><text x=\"-210\" xml:space=\"preserve\" y=\"-4\" style=\"stroke:none;\"\n",
       "      >Fig 5: Signal x(t) reconstructed with sinc functions</text\n",
       "    ></g\n",
       "    ><g style=\"stroke-linecap:butt; fill:rgb(0,114,189); text-rendering:geometricPrecision; image-rendering:optimizeQuality; color-rendering:optimizeQuality; stroke-linejoin:bevel; stroke-dasharray:8,3,2,3; stroke:rgb(0,114,189); color-interpolation:linearRGB; stroke-width:0.5; stroke-miterlimit:1;\"\n",
       "    ><path d=\"M77.1317 259 L81.2633 259 L85.395 259 L89.5267 259 L93.6583 259 L97.79 259 L101.9217 259 L106.0534 259 L110.185 259 L114.3167 259 L118.4484 259 L122.58 259 L126.7117 259 L130.8434 259 L134.9751 259 L139.1067 259 L143.2384 259 L147.3701 259 L151.5017 259 L155.6334 259 L159.7651 259 L163.8967 259 L168.0284 259 L172.1601 259 L176.2918 259 L180.4234 259 L184.5551 259 L188.6868 259 L192.8184 259 L196.9501 259 L201.0818 259 L205.2135 259 L209.3451 259 L213.4768 259 L217.6085 259 L221.7401 259 L225.8718 259 L230.0035 259 L234.1351 259 L238.2668 259 L242.3985 259 L246.5302 259 L250.6618 259 L254.7935 259 L258.9252 259 L263.0569 259 L267.1885 259 L271.3202 259 L275.4518 259 L279.5835 259 L283.7152 259 L287.8469 259 L291.9785 259 L296.1102 259 L300.2419 259 L304.3735 259 L308.5052 259 L312.6369 259 L316.7686 259 L320.9002 259 L325.0319 259 L329.1636 259 L333.2952 259 L337.4269 259 L341.5586 259 L345.6902 259 L349.8219 259 L353.9536 259 L358.0853 259 L362.2169 259 L366.3486 259 L370.4803 259 L374.6119 259 L378.7436 259 L382.8753 259 L387.007 259 L391.1386 259 L395.2703 259 L399.4019 259 L403.5336 259 L407.6653 259 L411.797 259 L415.9286 259 L420.0603 259 L424.192 259 L428.3236 259 L432.4554 259 L436.587 259 L440.7187 259 L444.8503 259 L448.982 259 L453.1137 259 L457.2454 259 L461.377 259 L465.5087 259 L469.6404 259 L473.772 259 L477.9037 259 L482.0354 259\" style=\"fill:none; fill-rule:evenodd;\"\n",
       "      /><path d=\"M73 259 L77.1317 247.0719 L81.2633 233.9594 L85.395 219.8764 L89.5267 205.0672 L93.6583 189.8013 L97.79 174.3669 L101.9217 159.0639 L106.0534 144.1971 L110.185 130.0683 L114.3167 116.9691 L118.4484 105.1732 L122.58 94.9299 L126.7117 86.4575 L130.8434 79.9377 L134.9751 75.5111 L139.1067 73.2735 L143.2384 73.2735 L147.3701 75.5111 L151.5017 79.9377 L155.6334 86.4575 L159.7651 94.9299 L163.8967 105.1732 L168.0284 116.9691 L172.1601 130.0683 L176.2918 144.1971 L180.4234 159.0639 L184.5551 174.3669 L188.6868 189.8013 L192.8184 205.0672 L196.9501 219.8764 L201.0818 233.9594 L205.2135 247.0719 L209.3451 259 L213.4768 269.5649 L217.6085 278.6264 L221.7401 286.0856 L225.8718 291.8858 L230.0035 296.0132 L234.1351 298.4955 L238.2668 299.3997 L242.3985 298.8296 L246.5302 296.9211 L250.6618 293.8378 L254.7935 289.7654 L258.9252 284.9058 L263.0569 279.4712 L267.1885 273.6772 L271.3202 267.7376 L275.4518 261.8573 L279.5835 256.228 L283.7152 251.0222 L287.8469 246.39 L291.9785 242.4548 L296.1102 239.3116 L300.2419 237.0247 L304.3735 235.6278 L308.5052 235.1238 L312.6369 235.4861 L316.7686 236.6613 L320.9002 238.5713 L325.0319 241.1172 L329.1636 244.1833 L333.2952 247.6415 L337.4269 251.356 L341.5586 255.1879 L345.6902 259 L349.8219 262.6611 L353.9536 266.0503 L358.0853 269.0604 L362.2169 271.6011 L366.3486 273.6016 L370.4803 275.0117 L374.6119 275.8034 L378.7436 275.9709 L382.8753 275.5297 L387.007 274.516 L391.1386 272.9843 L395.2703 271.0051 L399.4019 268.6624 L403.5336 266.0497 L407.6653 263.2672 L411.797 260.4178 L415.9286 257.6035 L420.0603 254.9225 L424.192 252.4649 L428.3236 250.3108 L432.4554 248.5274 L436.587 247.1672 L440.7187 246.2662 L444.8503 245.8437 L448.982 245.9017 L453.1137 246.4253 L457.2454 247.3837 L461.377 248.7318 L465.5087 250.412 L469.6404 252.3564 L473.772 254.4896 L477.9037 256.7315 L482.0354 259\" style=\"fill:none; fill-rule:evenodd; stroke:rgb(217,83,25);\"\n",
       "      /><path d=\"M73 259 L77.1317 259.5214 L81.2633 260.0571 L85.395 260.5889 L89.5267 261.098 L93.6583 261.565 L97.79 261.9704 L101.9217 262.2955 L106.0534 262.5227 L110.185 262.6363 L114.3167 262.6226 L118.4484 262.4707 L122.58 262.173 L126.7117 261.7251 L130.8434 261.1264 L134.9751 260.38 L139.1067 259.493 L143.2384 258.4762 L147.3701 257.344 L151.5017 256.1142 L155.6334 254.8076 L159.7651 253.4473 L163.8967 252.0586 L168.0284 250.6681 L172.1601 249.3033 L176.2918 247.9915 L180.4234 246.7596 L184.5551 245.6333 L188.6868 244.6361 L192.8184 243.7893 L196.9501 243.111 L201.0818 242.6157 L205.2135 242.3141 L209.3451 242.2129 L213.4768 242.3141 L217.6085 242.6157 L221.7401 243.111 L225.8718 243.7893 L230.0035 244.6361 L234.1351 245.6333 L238.2668 246.7596 L242.3985 247.9915 L246.5302 249.3033 L250.6618 250.6681 L254.7935 252.0586 L258.9252 253.4473 L263.0569 254.8076 L267.1885 256.1142 L271.3202 257.344 L275.4518 258.4762 L279.5835 259.493 L283.7152 260.38 L287.8469 261.1264 L291.9785 261.7251 L296.1102 262.173 L300.2419 262.4707 L304.3735 262.6226 L308.5052 262.6363 L312.6369 262.5227 L316.7686 262.2955 L320.9002 261.9704 L325.0319 261.565 L329.1636 261.098 L333.2952 260.5889 L337.4269 260.0571 L341.5586 259.5214 L345.6902 259 L349.8219 258.5092 L353.9536 258.0638 L358.0853 257.6759 L362.2169 257.3556 L366.3486 257.11 L370.4803 256.9436 L374.6119 256.8579 L378.7436 256.852 L382.8753 256.9221 L387.007 257.0623 L391.1386 257.2646 L395.2703 257.5193 L399.4019 257.8152 L403.5336 258.1404 L407.6653 258.4825 L411.797 258.8289 L415.9286 259.1676 L420.0603 259.4871 L424.192 259.7769 L428.3236 260.0283 L432.4554 260.2339 L436.587 260.3883 L440.7187 260.4878 L444.8503 260.5311 L448.982 260.5184 L453.1137 260.4522 L457.2454 260.3367 L461.377 260.1774 L465.5087 259.9813 L469.6404 259.7566 L473.772 259.512 L477.9037 259.2567 L482.0354 259\" style=\"fill:none; fill-rule:evenodd; stroke:rgb(237,177,32);\"\n",
       "      /><path d=\"M73 259 L77.1317 260.4544 L81.2633 261.9163 L85.395 263.3334 L89.5267 264.6528 L93.6583 265.8226 L97.79 266.7939 L101.9217 267.5226 L106.0534 267.9709 L110.185 268.1092 L114.3167 267.9169 L118.4484 267.3839 L122.58 266.5114 L126.7117 265.3123 L130.8434 263.8109 L134.9751 262.0436 L139.1067 260.0576 L143.2384 257.9099 L147.3701 255.6665 L151.5017 253.4004 L155.6334 251.1899 L159.7651 249.1165 L163.8967 247.2625 L168.0284 245.7088 L172.1601 244.5325 L176.2918 243.8044 L180.4234 243.5869 L184.5551 243.9318 L188.6868 244.8788 L192.8184 246.4535 L196.9501 248.6664 L201.0818 251.5122 L205.2135 254.9693 L209.3451 259 L213.4768 263.5508 L217.6085 268.5534 L221.7401 273.9263 L225.8718 279.5762 L230.0035 285.4004 L234.1351 291.2889 L238.2668 297.1273 L242.3985 302.7992 L246.5302 308.1895 L250.6618 313.1871 L254.7935 317.6874 L258.9252 321.5954 L263.0569 324.8278 L267.1885 327.3152 L271.3202 329.004 L275.4518 329.8576 L279.5835 329.8576 L283.7152 329.004 L287.8469 327.3152 L291.9785 324.8278 L296.1102 321.5954 L300.2419 317.6874 L304.3735 313.1871 L308.5052 308.1895 L312.6369 302.7992 L316.7686 297.1273 L320.9002 291.2889 L325.0319 285.4004 L329.1636 279.5762 L333.2952 273.9263 L337.4269 268.5534 L341.5586 263.5508 L345.6902 259 L349.8219 254.9693 L353.9536 251.5122 L358.0853 248.6664 L362.2169 246.4535 L366.3486 244.8788 L370.4803 243.9318 L374.6119 243.5869 L378.7436 243.8044 L382.8753 244.5325 L387.007 245.7088 L391.1386 247.2625 L395.2703 249.1165 L399.4019 251.1899 L403.5336 253.4004 L407.6653 255.6665 L411.797 257.9099 L415.9286 260.0576 L420.0603 262.0436 L424.192 263.8109 L428.3236 265.3123 L432.4554 266.5114 L436.587 267.3839 L440.7187 267.9169 L444.8503 268.1092 L448.982 267.9709 L453.1137 267.5226 L457.2454 266.7939 L461.377 265.8226 L465.5087 264.6528 L469.6404 263.3334 L473.772 261.9163 L477.9037 260.4544 L482.0354 259\" style=\"fill:none; fill-rule:evenodd; stroke:rgb(126,47,142);\"\n",
       "      /><path d=\"M73 259 L77.1317 258.802 L81.2633 258.6052 L85.395 258.4165 L89.5267 258.2432 L93.6583 258.092 L97.79 257.9692 L101.9217 257.8801 L106.0534 257.829 L110.185 257.8193 L114.3167 257.8526 L118.4484 257.9294 L122.58 258.0484 L126.7117 258.207 L130.8434 258.4008 L134.9751 258.6244 L139.1067 258.8707 L143.2384 259.1319 L147.3701 259.3991 L151.5017 259.6629 L155.6334 259.9137 L159.7651 260.1419 L163.8967 260.3383 L168.0284 260.4943 L172.1601 260.6024 L176.2918 260.6565 L180.4234 260.6519 L184.5551 260.5859 L188.6868 260.4575 L192.8184 260.2681 L196.9501 260.0211 L201.0818 259.722 L205.2135 259.3784 L209.3451 259 L213.4768 258.5979 L217.6085 258.1848 L221.7401 257.7747 L225.8718 257.382 L230.0035 257.0219 L234.1351 256.7093 L238.2668 256.4586 L242.3985 256.2834 L246.5302 256.1958 L250.6618 256.2064 L254.7935 256.3235 L258.9252 256.5531 L263.0569 256.8985 L267.1885 257.3602 L271.3202 257.9358 L275.4518 258.6198 L279.5835 259.404 L283.7152 260.2771 L287.8469 261.2254 L291.9785 262.2331 L296.1102 263.2821 L300.2419 264.3531 L304.3735 265.4254 L308.5052 266.4779 L312.6369 267.4895 L316.7686 268.4395 L320.9002 269.3081 L325.0319 270.0771 L329.1636 270.7301 L333.2952 271.2533 L337.4269 271.6352 L341.5586 271.8678 L345.6902 271.9458 L349.8219 271.8678 L353.9536 271.6352 L358.0853 271.2533 L362.2169 270.7301 L366.3486 270.0771 L370.4803 269.3081 L374.6119 268.4395 L378.7436 267.4895 L382.8753 266.4779 L387.007 265.4254 L391.1386 264.3531 L395.2703 263.2821 L399.4019 262.2331 L403.5336 261.2254 L407.6653 260.2771 L411.797 259.404 L415.9286 258.6198 L420.0603 257.9358 L424.192 257.3602 L428.3236 256.8985 L432.4554 256.5531 L436.587 256.3235 L440.7187 256.2064 L444.8503 256.1958 L448.982 256.2834 L453.1137 256.4586 L457.2454 256.7093 L461.377 257.0219 L465.5087 257.382 L469.6404 257.7747 L473.772 258.1848 L477.9037 258.5979 L482.0354 259\" style=\"fill:none; fill-rule:evenodd; stroke:rgb(119,172,48);\"\n",
       "      /><path d=\"M73 259 L77.1317 258.677 L81.2633 258.3578 L85.395 258.0541 L89.5267 257.7772 L93.6583 257.538 L97.79 257.3461 L101.9217 257.2096 L106.0534 257.135 L110.185 257.1268 L114.3167 257.187 L118.4484 257.3152 L122.58 257.5089 L126.7117 257.7628 L130.8434 258.0695 L134.9751 258.4194 L139.1067 258.8012 L143.2384 259.2019 L147.3701 259.6076 L151.5017 260.0038 L155.6334 260.3757 L159.7651 260.7093 L163.8967 260.9911 L168.0284 261.2092 L172.1601 261.3535 L176.2918 261.4163 L180.4234 261.3925 L184.5551 261.2798 L188.6868 261.079 L192.8184 260.7942 L196.9501 260.4324 L201.0818 260.0038 L205.2135 259.5213 L209.3451 259 L213.4768 258.4572 L217.6085 257.9117 L221.7401 257.3828 L225.8718 256.8904 L230.0035 256.4538 L234.1351 256.0913 L238.2668 255.8194 L242.3985 255.6521 L246.5302 255.6005 L250.6618 255.6723 L254.7935 255.8711 L258.9252 256.1967 L263.0569 256.6443 L267.1885 257.2046 L271.3202 257.8641 L275.4518 258.6053 L279.5835 259.4068 L283.7152 260.244 L287.8469 261.0898 L291.9785 261.9147 L296.1102 262.6885 L300.2419 263.3804 L304.3735 263.9602 L308.5052 264.3992 L312.6369 264.671 L316.7686 264.7521 L320.9002 264.6234 L325.0319 264.27 L329.1636 263.6823 L333.2952 262.8565 L337.4269 261.7944 L341.5586 260.5042 L345.6902 259 L349.8219 257.3017 L353.9536 255.4347 L358.0853 253.4296 L362.2169 251.321 L366.3486 249.1474 L370.4803 246.9499 L374.6119 244.771 L378.7436 242.6543 L382.8753 240.6426 L387.007 238.7775 L391.1386 237.098 L395.2703 235.6396 L399.4019 234.4333 L403.5336 233.505 L407.6653 232.8747 L411.797 232.5561 L415.9286 232.5561 L420.0603 232.8747 L424.192 233.505 L428.3236 234.4333 L432.4554 235.6396 L436.587 237.098 L440.7187 238.7775 L444.8503 240.6426 L448.982 242.6543 L453.1137 244.771 L457.2454 246.9499 L461.377 249.1474 L465.5087 251.321 L469.6404 253.4296 L473.772 255.4347 L477.9037 257.3017 L482.0354 259\" style=\"fill:none; fill-rule:evenodd; stroke:rgb(77,190,238);\"\n",
       "      /><path d=\"M73 259 L77.1317 259.0754 L81.2633 259.1496 L85.395 259.2199 L89.5267 259.2836 L93.6583 259.3384 L97.79 259.3819 L101.9217 259.4125 L106.0534 259.4286 L110.185 259.4294 L114.3167 259.4146 L118.4484 259.3843 L122.58 259.3392 L126.7117 259.2807 L130.8434 259.2105 L134.9751 259.131 L139.1067 259.0447 L143.2384 258.9547 L147.3701 258.8642 L151.5017 258.7763 L155.6334 258.6945 L159.7651 258.6217 L163.8967 258.5608 L168.0284 258.5145 L172.1601 258.4846 L176.2918 258.4729 L180.4234 258.4802 L184.5551 258.5067 L188.6868 258.552 L192.8184 258.6151 L196.9501 258.6941 L201.0818 258.7866 L205.2135 258.8897 L209.3451 259 L213.4768 259.1137 L217.6085 259.2267 L221.7401 259.3351 L225.8718 259.4346 L230.0035 259.5214 L234.1351 259.592 L238.2668 259.6432 L242.3985 259.6725 L246.5302 259.6781 L250.6618 259.6589 L254.7935 259.6148 L258.9252 259.5465 L263.0569 259.4554 L267.1885 259.3441 L271.3202 259.2157 L275.4518 259.0742 L279.5835 258.9243 L283.7152 258.7708 L287.8469 258.6193 L291.9785 258.4753 L296.1102 258.3442 L300.2419 258.2314 L304.3735 258.1418 L308.5052 258.0798 L312.6369 258.0487 L316.7686 258.0513 L320.9002 258.0893 L325.0319 258.163 L329.1636 258.2717 L333.2952 258.4136 L337.4269 258.5854 L341.5586 258.7827 L345.6902 259 L349.8219 259.2309 L353.9536 259.4681 L358.0853 259.7037 L362.2169 259.9292 L366.3486 260.136 L370.4803 260.3155 L374.6119 260.4595 L378.7436 260.5602 L382.8753 260.6104 L387.007 260.6043 L391.1386 260.5371 L395.2703 260.4052 L399.4019 260.2069 L403.5336 259.9417 L407.6653 259.6112 L411.797 259.2183 L415.9286 258.768 L420.0603 258.2666 L424.192 257.722 L428.3236 257.1432 L432.4554 256.5408 L436.587 255.9258 L440.7187 255.31 L444.8503 254.7055 L448.982 254.1246 L453.1137 253.579 L457.2454 253.0802 L461.377 252.6385 L465.5087 252.2635 L469.6404 251.9631 L473.772 251.7437 L477.9037 251.6102\" style=\"fill:none; fill-rule:evenodd; stroke:rgb(162,20,47);\"\n",
       "    /></g\n",
       "  ></g\n",
       "></svg\n",
       ">\n"
      ]
     },
     "metadata": {},
     "output_type": "display_data"
    }
   ],
   "source": [
    "plot(tc,x,'-.')\n",
    "hold off\n",
    "title('Fig 5: Signal x(t) reconstructed with sinc functions')\n",
    "ylabel('x(t)')\n",
    "xlabel('Time t [s]')"
   ]
  },
  {
   "cell_type": "markdown",
   "metadata": {
    "slideshow": {
     "slide_type": "notes"
    }
   },
   "source": [
    "Each impulse in $x_s(t)$ triggers the impulse reponse of the lowpass filter (the sinc signal), the resulting signal $x(t)$ at the output of the filter is the sum of all these time-shifted sinc signals with amplitudes equal to the samples $x(nT_s)$.\n",
    "\n",
    "$$x(t) = \\sum\\limits_{k =  - \\infty }^{ + \\infty } {x(n{T_s}){\\rm{sinc}}} \\left( {\\frac{t - n{T_s}}{T_s}} \\right)$$\n",
    "\n",
    "(Note we have defined ${\\rm{sinc}}(x)$ as $\\sin(\\pi x)/(\\pi x)$.)"
   ]
  },
  {
   "cell_type": "markdown",
   "metadata": {
    "slideshow": {
     "slide_type": "subslide"
    }
   },
   "source": [
    "#### Reconstructed signal\n",
    "Obtained by summing all the sinc functions"
   ]
  },
  {
   "cell_type": "code",
   "execution_count": 71,
   "metadata": {
    "slideshow": {
     "slide_type": "subslide"
    }
   },
   "outputs": [
    {
     "data": {
      "image/svg+xml": [
       "<?xml version=\"1.0\"?>\n",
       "<!DOCTYPE svg PUBLIC '-//W3C//DTD SVG 1.0//EN'\n",
       "          'http://www.w3.org/TR/2001/REC-SVG-20010904/DTD/svg10.dtd'>\n",
       "<svg xmlns:xlink=\"http://www.w3.org/1999/xlink\" style=\"fill-opacity:1; color-rendering:auto; color-interpolation:auto; text-rendering:auto; stroke:black; stroke-linecap:square; stroke-miterlimit:10; shape-rendering:auto; stroke-opacity:1; fill:black; stroke-dasharray:none; font-weight:normal; stroke-width:1; font-family:'Dialog'; font-style:normal; stroke-linejoin:miter; font-size:12px; stroke-dashoffset:0; image-rendering:auto;\" width=\"560\" height=\"420\" xmlns=\"http://www.w3.org/2000/svg\"\n",
       "><!--Generated by the Batik Graphics2D SVG Generator--><defs id=\"genericDefs\"\n",
       "  /><g\n",
       "  ><defs id=\"defs1\"\n",
       "    ><clipPath clipPathUnits=\"userSpaceOnUse\" id=\"clipPath1\"\n",
       "      ><path d=\"M0 0 L560 0 L560 420 L0 420 L0 0 Z\"\n",
       "      /></clipPath\n",
       "      ><font horiz-adv-x=\"50.0\" id=\"font1\"\n",
       "      ><font-face ascent=\"95.200005\" descent=\"21.3\" units-per-em=\"100\" style=\"font-style:normal; font-family:Helvetica Neue; font-weight:normal;\"\n",
       "        /><missing-glyph horiz-adv-x=\"50.0\" d=\"M40.9 66.6 L10.2 66.6 L10.2 4.7 L40.9 4.7 ZM46 71.2 L46 0.1 L5.1 0.1 L5.1 71.2 Z\"\n",
       "        /><glyph unicode=\"0\" horiz-adv-x=\"55.6\" d=\"M13.2 34.9 Q13.2 37.5 13.25 40.65 Q13.3 43.8 13.75 46.95 Q14.2 50.1 15.05 53.1 Q15.9 56.1 17.55 58.35 Q19.2 60.6 21.7 62 Q24.2 63.4 27.8 63.4 Q31.4 63.4 33.9 62 Q36.4 60.6 38.05 58.35 Q39.7 56.1 40.55 53.1 Q41.4 50.1 41.85 46.95 Q42.3 43.8 42.35 40.65 Q42.4 37.5 42.4 34.9 Q42.4 30.9 42.15 25.95 Q41.9 21 40.55 16.65 Q39.2 12.3 36.2 9.3 Q33.2 6.3 27.8 6.3 Q22.4 6.3 19.4 9.3 Q16.4 12.3 15.05 16.65 Q13.7 21 13.45 25.95 Q13.2 30.9 13.2 34.9 ZM4.2 34.8 Q4.2 30.9 4.4 26.7 Q4.6 22.5 5.4 18.5 Q6.2 14.5 7.7 10.95 Q9.2 7.4 11.8 4.7 Q14.4 2 18.35 0.45 Q22.3 -1.1 27.8 -1.1 Q33.4 -1.1 37.3 0.45 Q41.2 2 43.8 4.7 Q46.4 7.4 47.9 10.95 Q49.4 14.5 50.2 18.5 Q51 22.5 51.2 26.7 Q51.4 30.9 51.4 34.8 Q51.4 38.7 51.2 42.9 Q51 47.1 50.2 51.1 Q49.4 55.1 47.9 58.7 Q46.4 62.3 43.8 65 Q41.2 67.7 37.25 69.3 Q33.3 70.9 27.8 70.9 Q22.3 70.9 18.35 69.3 Q14.4 67.7 11.8 65 Q9.2 62.3 7.7 58.7 Q6.2 55.1 5.4 51.1 Q4.6 47.1 4.4 42.9 Q4.2 38.7 4.2 34.8 Z\"\n",
       "        /><glyph unicode=\"2\" horiz-adv-x=\"55.6\" d=\"M4.4 45.8 L12.9 45.8 Q12.8 49 13.55 52.15 Q14.3 55.3 16 57.8 Q17.7 60.3 20.35 61.85 Q23 63.4 26.7 63.4 Q29.5 63.4 32 62.5 Q34.5 61.6 36.35 59.9 Q38.2 58.2 39.3 55.85 Q40.4 53.5 40.4 50.6 Q40.4 46.9 39.25 44.1 Q38.1 41.3 35.85 38.9 Q33.6 36.5 30.2 34.15 Q26.8 31.8 22.3 29 Q18.6 26.8 15.2 24.3 Q11.8 21.8 9.1 18.5 Q6.4 15.2 4.65 10.75 Q2.9 6.3 2.4 0 L48.7 0 L48.7 7.5 L12.3 7.5 Q12.9 10.8 14.85 13.35 Q16.8 15.9 19.55 18.1 Q22.3 20.3 25.6 22.25 Q28.9 24.2 32.2 26.2 Q35.5 28.3 38.6 30.6 Q41.7 32.9 44.1 35.75 Q46.5 38.6 47.95 42.2 Q49.4 45.8 49.4 50.5 Q49.4 55.5 47.65 59.3 Q45.9 63.1 42.9 65.65 Q39.9 68.2 35.85 69.55 Q31.8 70.9 27.2 70.9 Q21.6 70.9 17.2 69 Q12.8 67.1 9.85 63.75 Q6.9 60.4 5.5 55.8 Q4.1 51.2 4.4 45.8 Z\"\n",
       "        /><glyph unicode=\"4\" horiz-adv-x=\"55.6\" d=\"M33.9 24.1 L10.1 24.1 L33.7 58.8 L33.9 58.8 ZM41.9 24.1 L41.9 70.9 L35.1 70.9 L2.8 24.8 L2.8 16.6 L33.9 16.6 L33.9 0 L41.9 0 L41.9 16.6 L51.5 16.6 L51.5 24.1 Z\"\n",
       "        /><glyph unicode=\"6\" horiz-adv-x=\"55.6\" d=\"M41.4 52.8 L49.9 52.8 Q49.1 61.6 43.9 66.25 Q38.7 70.9 29.9 70.9 Q22.3 70.9 17.3 67.7 Q12.3 64.5 9.3 59.2 Q6.3 53.9 5.05 47.05 Q3.8 40.2 3.8 32.9 Q3.8 27.3 4.65 21.3 Q5.5 15.3 8.1 10.3 Q10.7 5.3 15.5 2.1 Q20.3 -1.1 28.2 -1.1 Q34.9 -1.1 39.45 1.15 Q44 3.4 46.75 6.85 Q49.5 10.3 50.7 14.5 Q51.9 18.7 51.9 22.6 Q51.9 27.5 50.4 31.7 Q48.9 35.9 46.15 39 Q43.4 42.1 39.35 43.85 Q35.3 45.6 30.2 45.6 Q24.4 45.6 19.95 43.4 Q15.5 41.2 12.5 36.3 L12.3 36.5 Q12.4 40.6 13.1 45.3 Q13.8 50 15.65 54.05 Q17.5 58.1 20.8 60.75 Q24.1 63.4 29.5 63.4 Q34.6 63.4 37.7 60.5 Q40.8 57.6 41.4 52.8 ZM28.6 38.1 Q32.2 38.1 34.9 36.8 Q37.6 35.5 39.4 33.35 Q41.2 31.2 42.05 28.25 Q42.9 25.3 42.9 22 Q42.9 18.9 41.95 16.05 Q41 13.2 39.2 11 Q37.4 8.8 34.75 7.55 Q32.1 6.3 28.6 6.3 Q25.1 6.3 22.35 7.55 Q19.6 8.8 17.75 10.9 Q15.9 13 14.9 15.9 Q13.9 18.8 13.9 22.1 Q13.9 25.4 14.85 28.35 Q15.8 31.3 17.7 33.45 Q19.6 35.6 22.3 36.85 Q25 38.1 28.6 38.1 Z\"\n",
       "        /><glyph unicode=\"8\" horiz-adv-x=\"55.6\" d=\"M15.5 52.5 Q15.5 55.2 16.5 57.2 Q17.5 59.2 19.15 60.6 Q20.8 62 23.1 62.7 Q25.4 63.4 27.9 63.4 Q33.1 63.4 36.45 60.65 Q39.8 57.9 39.8 52.5 Q39.8 47.1 36.5 44.1 Q33.2 41.1 28.1 41.1 Q25.5 41.1 23.2 41.8 Q20.9 42.5 19.2 43.9 Q17.5 45.3 16.5 47.45 Q15.5 49.6 15.5 52.5 ZM6.5 52.8 Q6.5 48 9.2 43.95 Q11.9 39.9 16.4 38.1 Q10.4 36 7.2 31.35 Q4 26.7 4 20.4 Q4 15 5.85 10.95 Q7.7 6.9 10.95 4.2 Q14.2 1.5 18.6 0.2 Q23 -1.1 28.1 -1.1 Q33 -1.1 37.3 0.3 Q41.6 1.7 44.75 4.45 Q47.9 7.2 49.75 11.2 Q51.6 15.2 51.6 20.4 Q51.6 27 48.5 31.55 Q45.4 36.1 39 38.1 Q43.5 40.1 46.15 44.05 Q48.8 48 48.8 52.8 Q48.8 56.2 47.6 59.45 Q46.4 62.7 43.85 65.25 Q41.3 67.8 37.2 69.35 Q33.1 70.9 27.3 70.9 Q23.2 70.9 19.45 69.7 Q15.7 68.5 12.8 66.2 Q9.9 63.9 8.2 60.55 Q6.5 57.2 6.5 52.8 ZM13 20 Q13 23.1 14.15 25.6 Q15.3 28.1 17.35 29.9 Q19.4 31.7 22.15 32.65 Q24.9 33.6 28 33.6 Q31 33.6 33.65 32.55 Q36.3 31.5 38.3 29.7 Q40.3 27.9 41.45 25.45 Q42.6 23 42.6 20.1 Q42.6 17.1 41.55 14.6 Q40.5 12.1 38.55 10.25 Q36.6 8.4 33.95 7.35 Q31.3 6.3 28.1 6.3 Q21.5 6.3 17.25 9.95 Q13 13.6 13 20 Z\"\n",
       "        /><glyph unicode=\"1\" horiz-adv-x=\"55.6\" d=\"M35.6 0 L35.6 70.9 L29.1 70.9 Q28.4 66.9 26.5 64.3 Q24.6 61.7 21.85 60.2 Q19.1 58.7 15.7 58.15 Q12.3 57.6 8.7 57.6 L8.7 50.8 L27.1 50.8 L27.1 0 Z\"\n",
       "        /><glyph unicode=\".\" horiz-adv-x=\"27.8\" d=\"M8.3 11.1 L8.3 0 L19.4 0 L19.4 11.1 Z\"\n",
       "        /><glyph unicode=\"-\" horiz-adv-x=\"38.9\" d=\"M5 31.8 L5 23.8 L33.9 23.8 L33.9 31.8 Z\"\n",
       "        /><glyph unicode=\")\" horiz-adv-x=\"25.9\" d=\"M-0.9 -19.7 L5.5 -19.7 Q13.3 -9.4 17.25 2.55 Q21.2 14.5 21.2 26.3 Q21.2 32.9 20.1 38.9 Q19 44.9 16.95 50.65 Q14.9 56.4 12 61.95 Q9.1 67.5 5.5 73.1 L-0.9 73.1 Q6.1 61.6 9.15 50.25 Q12.2 38.9 12.2 26.3 Q12.2 14.1 9.2 2.85 Q6.2 -8.4 -0.9 -19.7 Z\"\n",
       "        /><glyph unicode=\"t\" horiz-adv-x=\"31.5\" d=\"M18.2 51.7 L18.2 67.2 L9.7 67.2 L9.7 51.7 L0.9 51.7 L0.9 44.2 L9.7 44.2 L9.7 11.3 Q9.7 7.7 10.4 5.5 Q11.1 3.3 12.55 2.1 Q14 0.9 16.35 0.45 Q18.7 0 22 0 L28.5 0 L28.5 7.5 L24.6 7.5 Q22.6 7.5 21.35 7.65 Q20.1 7.8 19.4 8.3 Q18.7 8.8 18.45 9.7 Q18.2 10.6 18.2 12.1 L18.2 44.2 L28.5 44.2 L28.5 51.7 Z\"\n",
       "        /><glyph unicode=\"(\" horiz-adv-x=\"25.9\" d=\"M20.4 -19.7 L26.9 -19.7 Q19.8 -8.2 16.75 3.1 Q13.7 14.4 13.7 27 Q13.7 39.3 16.7 50.5 Q19.7 61.7 26.9 73.1 L20.4 73.1 Q12.6 62.8 8.65 50.8 Q4.7 38.8 4.7 27 Q4.7 20.4 5.8 14.4 Q6.9 8.4 8.95 2.7 Q11 -3 13.9 -8.55 Q16.8 -14.1 20.4 -19.7 Z\"\n",
       "        /><glyph unicode=\"x\" horiz-adv-x=\"51.8\" d=\"M20.3 27.2 L0.9 0 L11.2 0 L25.6 21.4 L40 0 L50.9 0 L30.9 27.9 L48.7 51.7 L38.5 51.7 L25.6 33.6 L13.2 51.7 L2.3 51.7 Z\"\n",
       "      /></font\n",
       "      ><font horiz-adv-x=\"50.0\" id=\"font2\"\n",
       "      ><font-face ascent=\"97.5\" descent=\"21.699999\" units-per-em=\"100\" style=\"font-style:normal; font-family:Helvetica Neue; font-weight:bold;\"\n",
       "        /><missing-glyph horiz-adv-x=\"50.0\" d=\"M39.1 60.7 L11.1 60.7 L11.1 9.5 L39.1 9.5 ZM48.2 69.8 L48.2 0.3 L1.7 0.3 L1.7 69.8 Z\"\n",
       "        /><glyph unicode=\"f\" horiz-adv-x=\"33.3\" d=\"M8.5 42.2 L8.5 0 L22.7 0 L22.7 42.2 L32.5 42.2 L32.5 51.7 L22.7 51.7 L22.7 54.8 Q22.7 58 23.95 59.35 Q25.2 60.7 28.1 60.7 Q30.8 60.7 33.3 60.4 L33.3 71 Q31.5 71.1 29.6 71.25 Q27.7 71.4 25.8 71.4 Q17.1 71.4 12.8 67 Q8.5 62.6 8.5 55.7 L8.5 51.7 L0 51.7 L0 42.2 Z\"\n",
       "        /><glyph unicode=\"h\" horiz-adv-x=\"59.3\" d=\"M5.4 71.4 L5.4 0 L19.6 0 L19.6 27.1 Q19.6 35 22.2 38.45 Q24.8 41.9 30.6 41.9 Q35.7 41.9 37.7 38.75 Q39.7 35.6 39.7 29.2 L39.7 0 L53.9 0 L53.9 31.8 Q53.9 36.6 53.05 40.55 Q52.2 44.5 50.1 47.25 Q48 50 44.35 51.55 Q40.7 53.1 35 53.1 Q31 53.1 26.8 51.05 Q22.6 49 19.9 44.5 L19.6 44.5 L19.6 71.4 Z\"\n",
       "        /><glyph unicode=\"w\" horiz-adv-x=\"81.4\" d=\"M64.5 0 L80.8 51.7 L66.2 51.7 L56.7 16.7 L56.5 16.7 L47.7 51.7 L33.9 51.7 L25.3 16.6 L25.1 16.6 L15.6 51.7 L0.6 51.7 L17 0 L31.7 0 L40.5 34.7 L40.7 34.7 L49.9 0 Z\"\n",
       "        /><glyph unicode=\"u\" horiz-adv-x=\"59.3\" d=\"M53.9 0 L53.9 51.7 L39.7 51.7 L39.7 24.6 Q39.7 16.7 37.1 13.25 Q34.5 9.8 28.7 9.8 Q23.6 9.8 21.6 12.95 Q19.6 16.1 19.6 22.5 L19.6 51.7 L5.4 51.7 L5.4 19.9 Q5.4 15.1 6.25 11.15 Q7.1 7.2 9.2 4.45 Q11.3 1.7 14.95 0.2 Q18.6 -1.3 24.3 -1.3 Q28.8 -1.3 33.1 0.7 Q37.4 2.7 40.1 7.2 L40.4 7.2 L40.4 0 Z\"\n",
       "        /><glyph unicode=\"r\" horiz-adv-x=\"38.9\" d=\"M5.4 51.7 L5.4 0 L19.6 0 L19.6 23.3 Q19.6 26.8 20.3 29.8 Q21 32.8 22.65 35.05 Q24.3 37.3 27 38.6 Q29.7 39.9 33.6 39.9 Q34.9 39.9 36.3 39.75 Q37.7 39.6 38.7 39.4 L38.7 52.6 Q37 53.1 35.6 53.1 Q32.9 53.1 30.4 52.3 Q27.9 51.5 25.7 50.05 Q23.5 48.6 21.8 46.55 Q20.1 44.5 19.1 42.1 L18.9 42.1 L18.9 51.7 Z\"\n",
       "        /><glyph unicode=\"t\" horiz-adv-x=\"35.2\" d=\"M23.4 51.7 L23.4 67.2 L9.2 67.2 L9.2 51.7 L0.6 51.7 L0.6 42.2 L9.2 42.2 L9.2 11.7 Q9.2 7.8 10.5 5.4 Q11.8 3 14.05 1.7 Q16.3 0.4 19.25 -0.05 Q22.2 -0.5 25.5 -0.5 Q27.6 -0.5 29.8 -0.4 Q32 -0.3 33.8 0 L33.8 11 Q32.8 10.8 31.7 10.7 Q30.6 10.6 29.4 10.6 Q25.8 10.6 24.6 11.8 Q23.4 13 23.4 16.6 L23.4 42.2 L33.8 42.2 L33.8 51.7 Z\"\n",
       "        /><glyph unicode=\"s\" horiz-adv-x=\"53.7\" d=\"M16.4 16.8 L2.9 16.8 Q3.1 11.6 5.25 8.15 Q7.4 4.7 10.75 2.6 Q14.1 0.5 18.4 -0.4 Q22.7 -1.3 27.2 -1.3 Q31.6 -1.3 35.85 -0.45 Q40.1 0.4 43.4 2.5 Q46.7 4.6 48.75 8.05 Q50.8 11.5 50.8 16.6 Q50.8 20.2 49.4 22.65 Q48 25.1 45.7 26.75 Q43.4 28.4 40.45 29.4 Q37.5 30.4 34.4 31.1 Q31.4 31.8 28.5 32.4 Q25.6 33 23.35 33.75 Q21.1 34.5 19.7 35.7 Q18.3 36.9 18.3 38.8 Q18.3 40.4 19.1 41.35 Q19.9 42.3 21.05 42.8 Q22.2 43.3 23.6 43.45 Q25 43.6 26.2 43.6 Q30 43.6 32.8 42.15 Q35.6 40.7 35.9 36.6 L49.4 36.6 Q49 41.4 46.95 44.55 Q44.9 47.7 41.8 49.6 Q38.7 51.5 34.75 52.3 Q30.8 53.1 26.6 53.1 Q22.4 53.1 18.4 52.35 Q14.4 51.6 11.2 49.75 Q8 47.9 6.05 44.7 Q4.1 41.5 4.1 36.5 Q4.1 33.1 5.5 30.75 Q6.9 28.4 9.2 26.85 Q11.5 25.3 14.45 24.35 Q17.4 23.4 20.5 22.7 Q28.1 21.1 32.35 19.5 Q36.6 17.9 36.6 14.7 Q36.6 12.8 35.7 11.55 Q34.8 10.3 33.45 9.55 Q32.1 8.8 30.45 8.45 Q28.8 8.1 27.3 8.1 Q25.2 8.1 23.25 8.6 Q21.3 9.1 19.8 10.15 Q18.3 11.2 17.35 12.85 Q16.4 14.5 16.4 16.8 Z\"\n",
       "        /><glyph unicode=\"n\" horiz-adv-x=\"59.3\" d=\"M5.4 51.7 L5.4 0 L19.6 0 L19.6 27.1 Q19.6 35 22.2 38.45 Q24.8 41.9 30.6 41.9 Q35.7 41.9 37.7 38.75 Q39.7 35.6 39.7 29.2 L39.7 0 L53.9 0 L53.9 31.8 Q53.9 36.6 53.05 40.55 Q52.2 44.5 50.1 47.25 Q48 50 44.35 51.55 Q40.7 53.1 35 53.1 Q30.5 53.1 26.2 51.05 Q21.9 49 19.2 44.5 L18.9 44.5 L18.9 51.7 Z\"\n",
       "        /><glyph unicode=\"o\" horiz-adv-x=\"61.1\" d=\"M18 25.8 Q18 28.9 18.6 31.9 Q19.2 34.9 20.65 37.2 Q22.1 39.5 24.5 40.95 Q26.9 42.4 30.5 42.4 Q34.1 42.4 36.55 40.95 Q39 39.5 40.45 37.2 Q41.9 34.9 42.5 31.9 Q43.1 28.9 43.1 25.8 Q43.1 22.7 42.5 19.75 Q41.9 16.8 40.45 14.45 Q39 12.1 36.55 10.7 Q34.1 9.3 30.5 9.3 Q26.9 9.3 24.5 10.7 Q22.1 12.1 20.65 14.45 Q19.2 16.8 18.6 19.75 Q18 22.7 18 25.8 ZM3.8 25.8 Q3.8 19.6 5.7 14.6 Q7.6 9.6 11.1 6.05 Q14.6 2.5 19.5 0.6 Q24.4 -1.3 30.5 -1.3 Q36.6 -1.3 41.55 0.6 Q46.5 2.5 50 6.05 Q53.5 9.6 55.4 14.6 Q57.3 19.6 57.3 25.8 Q57.3 32 55.4 37.05 Q53.5 42.1 50 45.65 Q46.5 49.2 41.55 51.15 Q36.6 53.1 30.5 53.1 Q24.4 53.1 19.5 51.15 Q14.6 49.2 11.1 45.65 Q7.6 42.1 5.7 37.05 Q3.8 32 3.8 25.8 Z\"\n",
       "        /><glyph unicode=\"c\" horiz-adv-x=\"57.4\" d=\"M40.6 33.5 L54.5 33.5 Q54.2 38.5 52.1 42.15 Q50 45.8 46.65 48.25 Q43.3 50.7 39.05 51.9 Q34.8 53.1 30.2 53.1 Q23.9 53.1 19 51 Q14.1 48.9 10.7 45.15 Q7.3 41.4 5.55 36.25 Q3.8 31.1 3.8 25.1 Q3.8 19.3 5.7 14.45 Q7.6 9.6 11 6.1 Q14.4 2.6 19.25 0.65 Q24.1 -1.3 29.9 -1.3 Q40.2 -1.3 46.8 4.1 Q53.4 9.5 54.8 19.8 L41.1 19.8 Q40.4 15 37.65 12.15 Q34.9 9.3 29.8 9.3 Q26.5 9.3 24.2 10.8 Q21.9 12.3 20.55 14.65 Q19.2 17 18.6 19.9 Q18 22.8 18 25.6 Q18 28.5 18.6 31.45 Q19.2 34.4 20.65 36.85 Q22.1 39.3 24.4 40.85 Q26.7 42.4 30.1 42.4 Q39.2 42.4 40.6 33.5 Z\"\n",
       "        /><glyph unicode=\"e\" horiz-adv-x=\"57.4\" d=\"M40.2 31.4 L17.1 31.4 Q17.2 32.9 17.75 34.8 Q18.3 36.7 19.65 38.4 Q21 40.1 23.25 41.25 Q25.5 42.4 28.9 42.4 Q34.1 42.4 36.65 39.6 Q39.2 36.8 40.2 31.4 ZM17.1 22.4 L54.4 22.4 Q54.8 28.4 53.4 33.9 Q52 39.4 48.85 43.7 Q45.7 48 40.8 50.55 Q35.9 53.1 29.3 53.1 Q23.4 53.1 18.55 51 Q13.7 48.9 10.2 45.25 Q6.7 41.6 4.8 36.6 Q2.9 31.6 2.9 25.8 Q2.9 19.8 4.75 14.8 Q6.6 9.8 10 6.2 Q13.4 2.6 18.3 0.65 Q23.2 -1.3 29.3 -1.3 Q38.1 -1.3 44.3 2.7 Q50.5 6.7 53.5 16 L41 16 Q40.3 13.6 37.2 11.45 Q34.1 9.3 29.8 9.3 Q23.8 9.3 20.6 12.4 Q17.4 15.5 17.1 22.4 Z\"\n",
       "        /><glyph unicode=\"R\" horiz-adv-x=\"72.2\" d=\"M22.6 39.1 L22.6 59.2 L39.8 59.2 Q45.2 59.2 47.9 56.85 Q50.6 54.5 50.6 49.3 Q50.6 43.9 47.9 41.5 Q45.2 39.1 39.8 39.1 ZM6.9 71.4 L6.9 0 L22.6 0 L22.6 27.9 L38.3 27.9 Q44.2 27.9 46.8 25.3 Q49.4 22.7 50.2 17.1 Q50.8 12.8 51.1 8.1 Q51.4 3.4 52.7 0 L68.4 0 Q67.3 1.5 66.75 3.65 Q66.2 5.8 65.95 8.2 Q65.7 10.6 65.6 12.9 Q65.5 15.2 65.4 16.9 Q65.2 19.6 64.65 22.3 Q64.1 25 62.9 27.25 Q61.7 29.5 59.8 31.15 Q57.9 32.8 55 33.6 L55 33.8 Q61 36.2 63.65 40.8 Q66.3 45.4 66.3 51.7 Q66.3 55.8 64.85 59.35 Q63.4 62.9 60.65 65.6 Q57.9 68.3 54.05 69.85 Q50.2 71.4 45.4 71.4 Z\"\n",
       "        /><glyph unicode=\":\" horiz-adv-x=\"27.8\" d=\"M21.8 35.4 L21.8 50.8 L6.1 50.8 L6.1 35.4 ZM6.1 15.4 L6.1 0 L21.8 0 L21.8 15.4 Z\"\n",
       "        /><glyph unicode=\"6\" horiz-adv-x=\"55.6\" d=\"M28.6 36.3 Q31.3 36.3 33.35 35.15 Q35.4 34 36.7 32.15 Q38 30.3 38.65 27.95 Q39.3 25.6 39.3 23.1 Q39.3 20.7 38.6 18.4 Q37.9 16.1 36.5 14.3 Q35.1 12.5 33.15 11.4 Q31.2 10.3 28.6 10.3 Q25.9 10.3 23.8 11.4 Q21.7 12.5 20.25 14.35 Q18.8 16.2 18.05 18.55 Q17.3 20.9 17.3 23.3 Q17.3 25.9 18 28.25 Q18.7 30.6 20.1 32.4 Q21.5 34.2 23.65 35.25 Q25.8 36.3 28.6 36.3 ZM38.8 52 L52.3 52 Q51.7 56.7 49.8 60.3 Q47.9 63.9 44.9 66.35 Q41.9 68.8 38 70.1 Q34.1 71.4 29.6 71.4 Q22.1 71.4 16.9 68.1 Q11.7 64.8 8.4 59.55 Q5.1 54.3 3.6 47.8 Q2.1 41.3 2.1 34.8 Q2.1 28.1 3.3 21.65 Q4.5 15.2 7.6 10.1 Q10.7 5 15.9 1.85 Q21.1 -1.3 29 -1.3 Q34.5 -1.3 39 0.65 Q43.5 2.6 46.75 6.05 Q50 9.5 51.75 14.15 Q53.5 18.8 53.5 24.2 Q53.5 28.4 52.2 32.5 Q50.9 36.6 48.1 39.8 Q45.1 43.1 40.8 45.05 Q36.5 47 32 47 Q26.9 47 23 45.2 Q19.1 43.4 16.2 39.2 L16 39.4 Q16.1 42.3 16.8 46 Q17.5 49.7 19 52.95 Q20.5 56.2 23.05 58.45 Q25.6 60.7 29.4 60.7 Q33.1 60.7 35.6 58.1 Q38.1 55.5 38.8 52 Z\"\n",
       "        /><glyph unicode=\" \" horiz-adv-x=\"27.8\" d=\"\"\n",
       "        /><glyph unicode=\"g\" horiz-adv-x=\"61.1\" d=\"M29.5 12.2 Q26.2 12.2 24 13.6 Q21.8 15 20.45 17.2 Q19.1 19.4 18.55 22.15 Q18 24.9 18 27.7 Q18 30.6 18.65 33.25 Q19.3 35.9 20.75 37.95 Q22.2 40 24.35 41.2 Q26.5 42.4 29.5 42.4 Q33 42.4 35.3 41.1 Q37.6 39.8 39 37.6 Q40.4 35.4 41 32.55 Q41.6 29.7 41.6 26.5 Q41.6 23.7 40.85 21.15 Q40.1 18.6 38.6 16.6 Q37.1 14.6 34.8 13.4 Q32.5 12.2 29.5 12.2 ZM55.1 3.3 L55.1 51.7 L41.6 51.7 L41.6 44.8 L41.4 44.8 Q38.8 49.3 34.95 51.2 Q31.1 53.1 26 53.1 Q20.6 53.1 16.45 51 Q12.3 48.9 9.5 45.35 Q6.7 41.8 5.25 37.15 Q3.8 32.5 3.8 27.5 Q3.8 22.2 5.05 17.45 Q6.3 12.7 9 9.15 Q11.7 5.6 15.9 3.55 Q20.1 1.5 25.9 1.5 Q30.6 1.5 34.85 3.45 Q39.1 5.4 41.4 9.5 L41.6 9.5 L41.6 2.7 Q41.7 -2.8 38.95 -6.4 Q36.2 -10 30.2 -10 Q26.4 -10 23.5 -8.45 Q20.6 -6.9 19.6 -2.9 L5.5 -2.9 Q5.8 -7.3 7.95 -10.45 Q10.1 -13.6 13.35 -15.6 Q16.6 -17.6 20.55 -18.55 Q24.5 -19.5 28.3 -19.5 Q37.2 -19.5 42.5 -17.1 Q47.8 -14.7 50.6 -11.25 Q53.4 -7.8 54.25 -3.8 Q55.1 0.2 55.1 3.3 Z\"\n",
       "        /><glyph unicode=\"i\" horiz-adv-x=\"25.8\" d=\"M20 59.7 L20 71.4 L5.8 71.4 L5.8 59.7 ZM5.8 51.7 L5.8 0 L20 0 L20 51.7 Z\"\n",
       "        /><glyph unicode=\"F\" horiz-adv-x=\"59.3\" d=\"M6.9 71.4 L6.9 0 L22.6 0 L22.6 29.5 L52.5 29.5 L52.5 41.7 L22.6 41.7 L22.6 58.2 L57.1 58.2 L57.1 71.4 Z\"\n",
       "      /></font\n",
       "    ></defs\n",
       "    ><g style=\"fill:white; stroke:white;\"\n",
       "    ><rect x=\"0\" y=\"0\" width=\"560\" style=\"clip-path:url(#clipPath1); stroke:none;\" height=\"420\"\n",
       "    /></g\n",
       "    ><g style=\"fill:white; text-rendering:optimizeSpeed; color-rendering:optimizeSpeed; image-rendering:optimizeSpeed; shape-rendering:crispEdges; stroke:white; color-interpolation:sRGB;\"\n",
       "    ><rect x=\"0\" width=\"560\" height=\"420\" y=\"0\" style=\"stroke:none;\"\n",
       "      /><path style=\"stroke:none;\" d=\"M73 374 L507 374 L507 31 L73 31 Z\"\n",
       "    /></g\n",
       "    ><g style=\"fill:rgb(38,38,38); text-rendering:geometricPrecision; image-rendering:optimizeQuality; color-rendering:optimizeQuality; stroke-linejoin:round; stroke:rgb(38,38,38); color-interpolation:linearRGB; stroke-width:0.5;\"\n",
       "    ><line y2=\"374\" style=\"fill:none;\" x1=\"73\" x2=\"507\" y1=\"374\"\n",
       "      /><line y2=\"31\" style=\"fill:none;\" x1=\"73\" x2=\"507\" y1=\"31\"\n",
       "      /><line y2=\"369.66\" style=\"fill:none;\" x1=\"73\" x2=\"73\" y1=\"374\"\n",
       "      /><line y2=\"369.66\" style=\"fill:none;\" x1=\"159.8\" x2=\"159.8\" y1=\"374\"\n",
       "      /><line y2=\"369.66\" style=\"fill:none;\" x1=\"246.6\" x2=\"246.6\" y1=\"374\"\n",
       "      /><line y2=\"369.66\" style=\"fill:none;\" x1=\"333.4\" x2=\"333.4\" y1=\"374\"\n",
       "      /><line y2=\"369.66\" style=\"fill:none;\" x1=\"420.2\" x2=\"420.2\" y1=\"374\"\n",
       "      /><line y2=\"369.66\" style=\"fill:none;\" x1=\"507\" x2=\"507\" y1=\"374\"\n",
       "      /><line y2=\"35.34\" style=\"fill:none;\" x1=\"73\" x2=\"73\" y1=\"31\"\n",
       "      /><line y2=\"35.34\" style=\"fill:none;\" x1=\"159.8\" x2=\"159.8\" y1=\"31\"\n",
       "      /><line y2=\"35.34\" style=\"fill:none;\" x1=\"246.6\" x2=\"246.6\" y1=\"31\"\n",
       "      /><line y2=\"35.34\" style=\"fill:none;\" x1=\"333.4\" x2=\"333.4\" y1=\"31\"\n",
       "      /><line y2=\"35.34\" style=\"fill:none;\" x1=\"420.2\" x2=\"420.2\" y1=\"31\"\n",
       "      /><line y2=\"35.34\" style=\"fill:none;\" x1=\"507\" x2=\"507\" y1=\"31\"\n",
       "    /></g\n",
       "    ><g transform=\"translate(73,379.2)\" style=\"font-size:16px; fill:rgb(38,38,38); text-rendering:geometricPrecision; image-rendering:optimizeQuality; color-rendering:optimizeQuality; font-family:'Helvetica Neue'; stroke:rgb(38,38,38); color-interpolation:linearRGB;\"\n",
       "    ><text x=\"-4.5\" xml:space=\"preserve\" y=\"16\" style=\"stroke:none;\"\n",
       "      >0</text\n",
       "    ></g\n",
       "    ><g transform=\"translate(159.8,379.2)\" style=\"font-size:16px; fill:rgb(38,38,38); text-rendering:geometricPrecision; image-rendering:optimizeQuality; color-rendering:optimizeQuality; font-family:'Helvetica Neue'; stroke:rgb(38,38,38); color-interpolation:linearRGB;\"\n",
       "    ><text x=\"-4.5\" xml:space=\"preserve\" y=\"16\" style=\"stroke:none;\"\n",
       "      >2</text\n",
       "    ></g\n",
       "    ><g transform=\"translate(246.6,379.2)\" style=\"font-size:16px; fill:rgb(38,38,38); text-rendering:geometricPrecision; image-rendering:optimizeQuality; color-rendering:optimizeQuality; font-family:'Helvetica Neue'; stroke:rgb(38,38,38); color-interpolation:linearRGB;\"\n",
       "    ><text x=\"-4.5\" xml:space=\"preserve\" y=\"16\" style=\"stroke:none;\"\n",
       "      >4</text\n",
       "    ></g\n",
       "    ><g transform=\"translate(333.4,379.2)\" style=\"font-size:16px; fill:rgb(38,38,38); text-rendering:geometricPrecision; image-rendering:optimizeQuality; color-rendering:optimizeQuality; font-family:'Helvetica Neue'; stroke:rgb(38,38,38); color-interpolation:linearRGB;\"\n",
       "    ><text x=\"-4.5\" xml:space=\"preserve\" y=\"16\" style=\"stroke:none;\"\n",
       "      >6</text\n",
       "    ></g\n",
       "    ><g transform=\"translate(420.2,379.2)\" style=\"font-size:16px; fill:rgb(38,38,38); text-rendering:geometricPrecision; image-rendering:optimizeQuality; color-rendering:optimizeQuality; font-family:'Helvetica Neue'; stroke:rgb(38,38,38); color-interpolation:linearRGB;\"\n",
       "    ><text x=\"-4.5\" xml:space=\"preserve\" y=\"16\" style=\"stroke:none;\"\n",
       "      >8</text\n",
       "    ></g\n",
       "    ><g transform=\"translate(507,379.2)\" style=\"font-size:16px; fill:rgb(38,38,38); text-rendering:geometricPrecision; image-rendering:optimizeQuality; color-rendering:optimizeQuality; font-family:'Helvetica Neue'; stroke:rgb(38,38,38); color-interpolation:linearRGB;\"\n",
       "    ><text x=\"-9\" xml:space=\"preserve\" y=\"16\" style=\"stroke:none;\"\n",
       "      >10</text\n",
       "    ></g\n",
       "    ><g style=\"fill:rgb(38,38,38); text-rendering:geometricPrecision; image-rendering:optimizeQuality; color-rendering:optimizeQuality; stroke-linejoin:round; stroke:rgb(38,38,38); color-interpolation:linearRGB; stroke-width:0.5;\"\n",
       "    ><line y2=\"31\" style=\"fill:none;\" x1=\"73\" x2=\"73\" y1=\"374\"\n",
       "      /><line y2=\"31\" style=\"fill:none;\" x1=\"507\" x2=\"507\" y1=\"374\"\n",
       "      /><line y2=\"374\" style=\"fill:none;\" x1=\"73\" x2=\"77.34\" y1=\"374\"\n",
       "      /><line y2=\"316.8333\" style=\"fill:none;\" x1=\"73\" x2=\"77.34\" y1=\"316.8333\"\n",
       "      /><line y2=\"259.6667\" style=\"fill:none;\" x1=\"73\" x2=\"77.34\" y1=\"259.6667\"\n",
       "      /><line y2=\"202.5\" style=\"fill:none;\" x1=\"73\" x2=\"77.34\" y1=\"202.5\"\n",
       "      /><line y2=\"145.3333\" style=\"fill:none;\" x1=\"73\" x2=\"77.34\" y1=\"145.3333\"\n",
       "      /><line y2=\"88.1667\" style=\"fill:none;\" x1=\"73\" x2=\"77.34\" y1=\"88.1667\"\n",
       "      /><line y2=\"31\" style=\"fill:none;\" x1=\"73\" x2=\"77.34\" y1=\"31\"\n",
       "      /><line y2=\"374\" style=\"fill:none;\" x1=\"507\" x2=\"502.66\" y1=\"374\"\n",
       "      /><line y2=\"316.8333\" style=\"fill:none;\" x1=\"507\" x2=\"502.66\" y1=\"316.8333\"\n",
       "      /><line y2=\"259.6667\" style=\"fill:none;\" x1=\"507\" x2=\"502.66\" y1=\"259.6667\"\n",
       "      /><line y2=\"202.5\" style=\"fill:none;\" x1=\"507\" x2=\"502.66\" y1=\"202.5\"\n",
       "      /><line y2=\"145.3333\" style=\"fill:none;\" x1=\"507\" x2=\"502.66\" y1=\"145.3333\"\n",
       "      /><line y2=\"88.1667\" style=\"fill:none;\" x1=\"507\" x2=\"502.66\" y1=\"88.1667\"\n",
       "      /><line y2=\"31\" style=\"fill:none;\" x1=\"507\" x2=\"502.66\" y1=\"31\"\n",
       "    /></g\n",
       "    ><g transform=\"translate(67.8,374)\" style=\"font-size:16px; fill:rgb(38,38,38); text-rendering:geometricPrecision; image-rendering:optimizeQuality; color-rendering:optimizeQuality; font-family:'Helvetica Neue'; stroke:rgb(38,38,38); color-interpolation:linearRGB;\"\n",
       "    ><text x=\"-29\" xml:space=\"preserve\" y=\"6\" style=\"stroke:none;\"\n",
       "      >-0.4</text\n",
       "    ></g\n",
       "    ><g transform=\"translate(67.8,316.8333)\" style=\"font-size:16px; fill:rgb(38,38,38); text-rendering:geometricPrecision; image-rendering:optimizeQuality; color-rendering:optimizeQuality; font-family:'Helvetica Neue'; stroke:rgb(38,38,38); color-interpolation:linearRGB;\"\n",
       "    ><text x=\"-29\" xml:space=\"preserve\" y=\"6\" style=\"stroke:none;\"\n",
       "      >-0.2</text\n",
       "    ></g\n",
       "    ><g transform=\"translate(67.8,259.6667)\" style=\"font-size:16px; fill:rgb(38,38,38); text-rendering:geometricPrecision; image-rendering:optimizeQuality; color-rendering:optimizeQuality; font-family:'Helvetica Neue'; stroke:rgb(38,38,38); color-interpolation:linearRGB;\"\n",
       "    ><text x=\"-9\" xml:space=\"preserve\" y=\"6\" style=\"stroke:none;\"\n",
       "      >0</text\n",
       "    ></g\n",
       "    ><g transform=\"translate(67.8,202.5)\" style=\"font-size:16px; fill:rgb(38,38,38); text-rendering:geometricPrecision; image-rendering:optimizeQuality; color-rendering:optimizeQuality; font-family:'Helvetica Neue'; stroke:rgb(38,38,38); color-interpolation:linearRGB;\"\n",
       "    ><text x=\"-23\" xml:space=\"preserve\" y=\"6\" style=\"stroke:none;\"\n",
       "      >0.2</text\n",
       "    ></g\n",
       "    ><g transform=\"translate(67.8,145.3333)\" style=\"font-size:16px; fill:rgb(38,38,38); text-rendering:geometricPrecision; image-rendering:optimizeQuality; color-rendering:optimizeQuality; font-family:'Helvetica Neue'; stroke:rgb(38,38,38); color-interpolation:linearRGB;\"\n",
       "    ><text x=\"-23\" xml:space=\"preserve\" y=\"6\" style=\"stroke:none;\"\n",
       "      >0.4</text\n",
       "    ></g\n",
       "    ><g transform=\"translate(67.8,88.1667)\" style=\"font-size:16px; fill:rgb(38,38,38); text-rendering:geometricPrecision; image-rendering:optimizeQuality; color-rendering:optimizeQuality; font-family:'Helvetica Neue'; stroke:rgb(38,38,38); color-interpolation:linearRGB;\"\n",
       "    ><text x=\"-23\" xml:space=\"preserve\" y=\"6\" style=\"stroke:none;\"\n",
       "      >0.6</text\n",
       "    ></g\n",
       "    ><g transform=\"translate(67.8,31)\" style=\"font-size:16px; fill:rgb(38,38,38); text-rendering:geometricPrecision; image-rendering:optimizeQuality; color-rendering:optimizeQuality; font-family:'Helvetica Neue'; stroke:rgb(38,38,38); color-interpolation:linearRGB;\"\n",
       "    ><text x=\"-23\" xml:space=\"preserve\" y=\"6\" style=\"stroke:none;\"\n",
       "      >0.8</text\n",
       "    ></g\n",
       "    ><g transform=\"translate(35.8,202.4998) rotate(-90)\" style=\"font-size:17.6px; fill:rgb(38,38,38); text-rendering:geometricPrecision; image-rendering:optimizeQuality; color-rendering:optimizeQuality; font-family:'Helvetica Neue'; stroke:rgb(38,38,38); color-interpolation:linearRGB;\"\n",
       "    ><text x=\"-12\" xml:space=\"preserve\" y=\"-4\" style=\"stroke:none;\"\n",
       "      >x(t)</text\n",
       "    ></g\n",
       "    ><g transform=\"translate(290.0003,26.6)\" style=\"font-size:17.6px; text-rendering:geometricPrecision; image-rendering:optimizeQuality; color-rendering:optimizeQuality; font-family:'Helvetica Neue'; color-interpolation:linearRGB; font-weight:bold;\"\n",
       "    ><text x=\"-171.5\" xml:space=\"preserve\" y=\"-4\" style=\"stroke:none;\"\n",
       "      >Fig 6: Reconstruction with sinc functions</text\n",
       "    ></g\n",
       "    ><g style=\"stroke-linecap:butt; fill:rgb(0,114,189); text-rendering:geometricPrecision; image-rendering:optimizeQuality; color-rendering:optimizeQuality; stroke-linejoin:round; stroke:rgb(0,114,189); color-interpolation:linearRGB; stroke-width:0.5;\"\n",
       "    ><path d=\"M77.1317 249.2384 L81.2633 237.6478 L85.395 225.055 L89.5267 211.6488 L93.6583 197.6431 L97.79 183.2722 L101.9217 168.7857 L106.0534 154.4433 L110.185 140.5085 L114.3167 127.2433 L118.4484 114.9013 L122.58 103.7229 L126.7117 93.9287 L130.8434 85.7153 L134.9751 79.2502 L139.1067 74.668 L143.2384 72.0678 L147.3701 71.5105 L151.5017 73.0178 L155.6334 76.5717 L159.7651 82.1156 L163.8967 89.5552 L168.0284 98.7615 L172.1601 109.5738 L176.2918 121.8034 L180.4234 135.2388 L184.5551 149.6502 L188.6868 164.7949 L192.8184 180.423 L196.9501 196.2832 L201.0818 212.1278 L205.2135 227.7183 L209.3451 242.8305 L213.4768 257.2582 L217.6085 270.8179 L221.7401 283.3511 L225.8718 294.7273 L230.0035 304.8454 L234.1351 313.6343 L238.2668 321.0534 L242.3985 327.0914 L246.5302 331.7651 L250.6618 335.1172 L254.7935 337.2136 L258.9252 338.1402 L263.0569 337.9997 L267.1885 336.9074 L271.3202 334.9874 L275.4518 332.3692 L279.5835 329.183 L283.7152 325.5569 L287.8469 321.6133 L291.9785 317.4659 L296.1102 313.2176 L300.2419 308.9581 L304.3735 304.763 L308.5052 300.6927 L312.6369 296.7921 L316.7686 293.0911 L320.9002 289.6053 L325.0319 286.337 L329.1636 283.2772 L333.2952 280.4072 L337.4269 277.7007 L341.5586 275.1265 L345.6902 272.6504 L349.8219 270.2375 L353.9536 267.8548 L358.0853 265.4728 L362.2169 263.0671 L366.3486 260.6204 L370.4803 258.1227 L374.6119 255.573 L378.7436 252.9783 L382.8753 250.3548 L387.007 247.7262 L391.1386 245.1239 L395.2703 242.5847 L399.4019 240.1505 L403.5336 237.8657 L407.6653 235.7761 L411.797 233.9266 L415.9286 232.3598 L420.0603 231.1137 L424.192 230.2207 L428.3236 229.7057 L432.4554 229.5853 L436.587 229.8664 L440.7187 230.5466 L444.8503 231.6127 L448.982 233.0423 L453.1137 234.8029 L457.2454 236.8537 L461.377 239.1465 L465.5087 241.6268 L469.6404 244.2354 L473.772 246.9106 L477.9037 249.5896\" style=\"fill:none; fill-rule:evenodd;\"\n",
       "    /></g\n",
       "    ><g style=\"stroke-linecap:butt; fill:red; text-rendering:geometricPrecision; image-rendering:optimizeQuality; color-rendering:optimizeQuality; stroke-linejoin:bevel; stroke-dasharray:1,3; stroke:red; color-interpolation:linearRGB; stroke-width:0.5; stroke-miterlimit:1;\"\n",
       "    ><path d=\"M73 259.6667 L77.1317 233.2579 L81.2633 208.5478 L85.395 185.6595 L89.5267 164.6934 L93.6583 145.7273 L97.79 128.8172 L101.9217 113.9976 L106.0534 101.2831 L110.185 90.6686 L114.3167 82.131 L118.4484 75.6301 L122.58 71.1101 L126.7117 68.5008 L130.8434 67.7191 L134.9751 68.6704 L139.1067 71.25 L143.2384 75.345 L147.3701 80.8351 L151.5017 87.5945 L155.6334 95.4933 L159.7651 104.3987 L163.8967 114.1764 L168.0284 124.6919 L172.1601 135.8116 L176.2918 147.4043 L180.4234 159.3414 L184.5551 171.499 L188.6868 183.7577 L192.8184 196.0039 L196.9501 208.1306 L201.0818 220.0377 L205.2135 231.6326 L209.3451 242.8305 L213.4768 253.5549 L217.6085 263.7376 L221.7401 273.3192 L225.8718 282.2487 L230.0035 290.4836 L234.1351 297.9901 L238.2668 304.7425 L242.3985 310.7232 L246.5302 315.9225 L250.6618 320.3379 L254.7935 323.9742 L258.9252 326.8424 L263.0569 328.9602 L267.1885 330.3504 L271.3202 331.0412 L275.4518 331.0655 L279.5835 330.4599 L283.7152 329.2647 L287.8469 327.5233 L291.9785 325.2813 L296.1102 322.5862 L300.2419 319.4869 L304.3735 316.0331 L308.5052 312.2749 L312.6369 308.2623 L316.7686 304.0446 L320.9002 299.6706 L325.0319 295.1872 L329.1636 290.6401 L333.2952 286.0728 L337.4269 281.5266 L341.5586 277.0404 L345.6902 272.6504 L349.8219 268.3897 L353.9536 264.2889 L358.0853 260.3751 L362.2169 256.6722 L366.3486 253.2014 L370.4803 249.9801 L374.6119 247.023 L378.7436 244.3413 L382.8753 241.9434 L387.007 239.8347 L391.1386 238.0175 L395.2703 236.4919 L399.4019 235.2549 L403.5336 234.3015 L407.6653 233.6243 L411.797 233.2139 L415.9286 233.0592 L420.0603 233.1472 L424.192 233.4639 L428.3236 233.9935 L432.4554 234.7198 L436.587 235.6253 L440.7187 236.6922 L444.8503 237.902 L448.982 239.2363 L453.1137 240.6763 L457.2454 242.2036 L461.377 243.7997 L465.5087 245.447 L469.6404 247.1279 L473.772 248.8259 L477.9037 250.525 L482.0354 252.2103\" style=\"fill:none; fill-rule:evenodd;\"\n",
       "    /></g\n",
       "  ></g\n",
       "></svg\n",
       ">\n"
      ]
     },
     "metadata": {},
     "output_type": "display_data"
    }
   ],
   "source": [
    "plot(tc,sum(x),tc,xc,'r:')\n",
    "title('Fig 6: Reconstruction with sinc functions')\n",
    "ylabel('x(t)')"
   ]
  },
  {
   "cell_type": "markdown",
   "metadata": {
    "slideshow": {
     "slide_type": "notes"
    }
   },
   "source": [
    "This is clearly unfeasible, at least in real-time, so we have to resort to approximations of the ideal low-pass filter. \n",
    "\n",
    "A couple of examples are given below. Boulet gives more information including an evaluation of the quality of the approximation.\n",
    "\n",
    "In practice, the zero-order-hold is often used in practice and a low-pass filter with a flat passband (such as the Butterworth filter discussed in the last lecture) would be used. In audio applications, for example, the low-pass nature of speakers and the human ear add additional smoothing. For non HiFi applications (e.g. an MP3 player), this may be all that is actually used!"
   ]
  },
  {
   "cell_type": "markdown",
   "metadata": {
    "slideshow": {
     "slide_type": "subslide"
    }
   },
   "source": [
    "#### Signal reconstructed with zero-order hold (ZOH)"
   ]
  },
  {
   "cell_type": "code",
   "execution_count": 72,
   "metadata": {
    "slideshow": {
     "slide_type": "subslide"
    }
   },
   "outputs": [
    {
     "data": {
      "image/svg+xml": [
       "<?xml version=\"1.0\"?>\n",
       "<!DOCTYPE svg PUBLIC '-//W3C//DTD SVG 1.0//EN'\n",
       "          'http://www.w3.org/TR/2001/REC-SVG-20010904/DTD/svg10.dtd'>\n",
       "<svg xmlns:xlink=\"http://www.w3.org/1999/xlink\" style=\"fill-opacity:1; color-rendering:auto; color-interpolation:auto; text-rendering:auto; stroke:black; stroke-linecap:square; stroke-miterlimit:10; shape-rendering:auto; stroke-opacity:1; fill:black; stroke-dasharray:none; font-weight:normal; stroke-width:1; font-family:'Dialog'; font-style:normal; stroke-linejoin:miter; font-size:12px; stroke-dashoffset:0; image-rendering:auto;\" width=\"560\" height=\"420\" xmlns=\"http://www.w3.org/2000/svg\"\n",
       "><!--Generated by the Batik Graphics2D SVG Generator--><defs id=\"genericDefs\"\n",
       "  /><g\n",
       "  ><defs id=\"defs1\"\n",
       "    ><clipPath clipPathUnits=\"userSpaceOnUse\" id=\"clipPath1\"\n",
       "      ><path d=\"M0 0 L560 0 L560 420 L0 420 L0 0 Z\"\n",
       "      /></clipPath\n",
       "      ><font horiz-adv-x=\"50.0\" id=\"font1\"\n",
       "      ><font-face ascent=\"95.200005\" descent=\"21.3\" units-per-em=\"100\" style=\"font-style:normal; font-family:Helvetica Neue; font-weight:normal;\"\n",
       "        /><missing-glyph horiz-adv-x=\"50.0\" d=\"M40.9 66.6 L10.2 66.6 L10.2 4.7 L40.9 4.7 ZM46 71.2 L46 0.1 L5.1 0.1 L5.1 71.2 Z\"\n",
       "        /><glyph unicode=\"0\" horiz-adv-x=\"55.6\" d=\"M13.2 34.9 Q13.2 37.5 13.25 40.65 Q13.3 43.8 13.75 46.95 Q14.2 50.1 15.05 53.1 Q15.9 56.1 17.55 58.35 Q19.2 60.6 21.7 62 Q24.2 63.4 27.8 63.4 Q31.4 63.4 33.9 62 Q36.4 60.6 38.05 58.35 Q39.7 56.1 40.55 53.1 Q41.4 50.1 41.85 46.95 Q42.3 43.8 42.35 40.65 Q42.4 37.5 42.4 34.9 Q42.4 30.9 42.15 25.95 Q41.9 21 40.55 16.65 Q39.2 12.3 36.2 9.3 Q33.2 6.3 27.8 6.3 Q22.4 6.3 19.4 9.3 Q16.4 12.3 15.05 16.65 Q13.7 21 13.45 25.95 Q13.2 30.9 13.2 34.9 ZM4.2 34.8 Q4.2 30.9 4.4 26.7 Q4.6 22.5 5.4 18.5 Q6.2 14.5 7.7 10.95 Q9.2 7.4 11.8 4.7 Q14.4 2 18.35 0.45 Q22.3 -1.1 27.8 -1.1 Q33.4 -1.1 37.3 0.45 Q41.2 2 43.8 4.7 Q46.4 7.4 47.9 10.95 Q49.4 14.5 50.2 18.5 Q51 22.5 51.2 26.7 Q51.4 30.9 51.4 34.8 Q51.4 38.7 51.2 42.9 Q51 47.1 50.2 51.1 Q49.4 55.1 47.9 58.7 Q46.4 62.3 43.8 65 Q41.2 67.7 37.25 69.3 Q33.3 70.9 27.8 70.9 Q22.3 70.9 18.35 69.3 Q14.4 67.7 11.8 65 Q9.2 62.3 7.7 58.7 Q6.2 55.1 5.4 51.1 Q4.6 47.1 4.4 42.9 Q4.2 38.7 4.2 34.8 Z\"\n",
       "        /><glyph unicode=\"2\" horiz-adv-x=\"55.6\" d=\"M4.4 45.8 L12.9 45.8 Q12.8 49 13.55 52.15 Q14.3 55.3 16 57.8 Q17.7 60.3 20.35 61.85 Q23 63.4 26.7 63.4 Q29.5 63.4 32 62.5 Q34.5 61.6 36.35 59.9 Q38.2 58.2 39.3 55.85 Q40.4 53.5 40.4 50.6 Q40.4 46.9 39.25 44.1 Q38.1 41.3 35.85 38.9 Q33.6 36.5 30.2 34.15 Q26.8 31.8 22.3 29 Q18.6 26.8 15.2 24.3 Q11.8 21.8 9.1 18.5 Q6.4 15.2 4.65 10.75 Q2.9 6.3 2.4 0 L48.7 0 L48.7 7.5 L12.3 7.5 Q12.9 10.8 14.85 13.35 Q16.8 15.9 19.55 18.1 Q22.3 20.3 25.6 22.25 Q28.9 24.2 32.2 26.2 Q35.5 28.3 38.6 30.6 Q41.7 32.9 44.1 35.75 Q46.5 38.6 47.95 42.2 Q49.4 45.8 49.4 50.5 Q49.4 55.5 47.65 59.3 Q45.9 63.1 42.9 65.65 Q39.9 68.2 35.85 69.55 Q31.8 70.9 27.2 70.9 Q21.6 70.9 17.2 69 Q12.8 67.1 9.85 63.75 Q6.9 60.4 5.5 55.8 Q4.1 51.2 4.4 45.8 Z\"\n",
       "        /><glyph unicode=\"4\" horiz-adv-x=\"55.6\" d=\"M33.9 24.1 L10.1 24.1 L33.7 58.8 L33.9 58.8 ZM41.9 24.1 L41.9 70.9 L35.1 70.9 L2.8 24.8 L2.8 16.6 L33.9 16.6 L33.9 0 L41.9 0 L41.9 16.6 L51.5 16.6 L51.5 24.1 Z\"\n",
       "        /><glyph unicode=\"6\" horiz-adv-x=\"55.6\" d=\"M41.4 52.8 L49.9 52.8 Q49.1 61.6 43.9 66.25 Q38.7 70.9 29.9 70.9 Q22.3 70.9 17.3 67.7 Q12.3 64.5 9.3 59.2 Q6.3 53.9 5.05 47.05 Q3.8 40.2 3.8 32.9 Q3.8 27.3 4.65 21.3 Q5.5 15.3 8.1 10.3 Q10.7 5.3 15.5 2.1 Q20.3 -1.1 28.2 -1.1 Q34.9 -1.1 39.45 1.15 Q44 3.4 46.75 6.85 Q49.5 10.3 50.7 14.5 Q51.9 18.7 51.9 22.6 Q51.9 27.5 50.4 31.7 Q48.9 35.9 46.15 39 Q43.4 42.1 39.35 43.85 Q35.3 45.6 30.2 45.6 Q24.4 45.6 19.95 43.4 Q15.5 41.2 12.5 36.3 L12.3 36.5 Q12.4 40.6 13.1 45.3 Q13.8 50 15.65 54.05 Q17.5 58.1 20.8 60.75 Q24.1 63.4 29.5 63.4 Q34.6 63.4 37.7 60.5 Q40.8 57.6 41.4 52.8 ZM28.6 38.1 Q32.2 38.1 34.9 36.8 Q37.6 35.5 39.4 33.35 Q41.2 31.2 42.05 28.25 Q42.9 25.3 42.9 22 Q42.9 18.9 41.95 16.05 Q41 13.2 39.2 11 Q37.4 8.8 34.75 7.55 Q32.1 6.3 28.6 6.3 Q25.1 6.3 22.35 7.55 Q19.6 8.8 17.75 10.9 Q15.9 13 14.9 15.9 Q13.9 18.8 13.9 22.1 Q13.9 25.4 14.85 28.35 Q15.8 31.3 17.7 33.45 Q19.6 35.6 22.3 36.85 Q25 38.1 28.6 38.1 Z\"\n",
       "        /><glyph unicode=\"8\" horiz-adv-x=\"55.6\" d=\"M15.5 52.5 Q15.5 55.2 16.5 57.2 Q17.5 59.2 19.15 60.6 Q20.8 62 23.1 62.7 Q25.4 63.4 27.9 63.4 Q33.1 63.4 36.45 60.65 Q39.8 57.9 39.8 52.5 Q39.8 47.1 36.5 44.1 Q33.2 41.1 28.1 41.1 Q25.5 41.1 23.2 41.8 Q20.9 42.5 19.2 43.9 Q17.5 45.3 16.5 47.45 Q15.5 49.6 15.5 52.5 ZM6.5 52.8 Q6.5 48 9.2 43.95 Q11.9 39.9 16.4 38.1 Q10.4 36 7.2 31.35 Q4 26.7 4 20.4 Q4 15 5.85 10.95 Q7.7 6.9 10.95 4.2 Q14.2 1.5 18.6 0.2 Q23 -1.1 28.1 -1.1 Q33 -1.1 37.3 0.3 Q41.6 1.7 44.75 4.45 Q47.9 7.2 49.75 11.2 Q51.6 15.2 51.6 20.4 Q51.6 27 48.5 31.55 Q45.4 36.1 39 38.1 Q43.5 40.1 46.15 44.05 Q48.8 48 48.8 52.8 Q48.8 56.2 47.6 59.45 Q46.4 62.7 43.85 65.25 Q41.3 67.8 37.2 69.35 Q33.1 70.9 27.3 70.9 Q23.2 70.9 19.45 69.7 Q15.7 68.5 12.8 66.2 Q9.9 63.9 8.2 60.55 Q6.5 57.2 6.5 52.8 ZM13 20 Q13 23.1 14.15 25.6 Q15.3 28.1 17.35 29.9 Q19.4 31.7 22.15 32.65 Q24.9 33.6 28 33.6 Q31 33.6 33.65 32.55 Q36.3 31.5 38.3 29.7 Q40.3 27.9 41.45 25.45 Q42.6 23 42.6 20.1 Q42.6 17.1 41.55 14.6 Q40.5 12.1 38.55 10.25 Q36.6 8.4 33.95 7.35 Q31.3 6.3 28.1 6.3 Q21.5 6.3 17.25 9.95 Q13 13.6 13 20 Z\"\n",
       "        /><glyph unicode=\"1\" horiz-adv-x=\"55.6\" d=\"M35.6 0 L35.6 70.9 L29.1 70.9 Q28.4 66.9 26.5 64.3 Q24.6 61.7 21.85 60.2 Q19.1 58.7 15.7 58.15 Q12.3 57.6 8.7 57.6 L8.7 50.8 L27.1 50.8 L27.1 0 Z\"\n",
       "        /><glyph unicode=\"]\" horiz-adv-x=\"25.9\" d=\"M0 -12.9 L0 -19.7 L18.7 -19.7 L18.7 73.1 L0 73.1 L0 66.3 L10.7 66.3 L10.7 -12.9 Z\"\n",
       "        /><glyph unicode=\"s\" horiz-adv-x=\"50.0\" d=\"M11.6 16.3 L3.1 16.3 Q3.3 11.5 5.1 8.15 Q6.9 4.8 9.9 2.75 Q12.9 0.7 16.8 -0.2 Q20.7 -1.1 25 -1.1 Q28.9 -1.1 32.85 -0.35 Q36.8 0.4 39.95 2.3 Q43.1 4.2 45.05 7.3 Q47 10.4 47 15.1 Q47 18.8 45.55 21.3 Q44.1 23.8 41.75 25.45 Q39.4 27.1 36.35 28.1 Q33.3 29.1 30.1 29.8 Q27.1 30.5 24.1 31.15 Q21.1 31.8 18.7 32.75 Q16.3 33.7 14.75 35.15 Q13.2 36.6 13.2 38.8 Q13.2 40.8 14.2 42.05 Q15.2 43.3 16.8 44.05 Q18.4 44.8 20.35 45.1 Q22.3 45.4 24.2 45.4 Q26.3 45.4 28.35 44.95 Q30.4 44.5 32.1 43.5 Q33.8 42.5 34.9 40.85 Q36 39.2 36.2 36.7 L44.7 36.7 Q44.4 41.4 42.7 44.55 Q41 47.7 38.15 49.55 Q35.3 51.4 31.6 52.15 Q27.9 52.9 23.5 52.9 Q20.1 52.9 16.65 52.05 Q13.2 51.2 10.45 49.45 Q7.7 47.7 5.95 44.9 Q4.2 42.1 4.2 38.2 Q4.2 33.2 6.7 30.4 Q9.2 27.6 12.95 26.05 Q16.7 24.5 21.1 23.65 Q25.5 22.8 29.25 21.75 Q33 20.7 35.5 19 Q38 17.3 38 14 Q38 11.6 36.8 10.05 Q35.6 8.5 33.75 7.7 Q31.9 6.9 29.7 6.6 Q27.5 6.3 25.5 6.3 Q22.9 6.3 20.45 6.8 Q18 7.3 16.05 8.45 Q14.1 9.6 12.9 11.55 Q11.7 13.5 11.6 16.3 Z\"\n",
       "        /><glyph unicode=\"[\" horiz-adv-x=\"25.9\" d=\"M25.9 66.3 L25.9 73.1 L7.2 73.1 L7.2 -19.7 L25.9 -19.7 L25.9 -12.9 L15.2 -12.9 L15.2 66.3 Z\"\n",
       "        /><glyph unicode=\"t\" horiz-adv-x=\"31.5\" d=\"M18.2 51.7 L18.2 67.2 L9.7 67.2 L9.7 51.7 L0.9 51.7 L0.9 44.2 L9.7 44.2 L9.7 11.3 Q9.7 7.7 10.4 5.5 Q11.1 3.3 12.55 2.1 Q14 0.9 16.35 0.45 Q18.7 0 22 0 L28.5 0 L28.5 7.5 L24.6 7.5 Q22.6 7.5 21.35 7.65 Q20.1 7.8 19.4 8.3 Q18.7 8.8 18.45 9.7 Q18.2 10.6 18.2 12.1 L18.2 44.2 L28.5 44.2 L28.5 51.7 Z\"\n",
       "        /><glyph unicode=\" \" horiz-adv-x=\"27.8\" d=\"\"\n",
       "        /><glyph unicode=\"e\" horiz-adv-x=\"53.7\" d=\"M42.3 30.8 L12.6 30.8 Q12.8 33.8 13.9 36.45 Q15 39.1 16.9 41.1 Q18.8 43.1 21.45 44.25 Q24.1 45.4 27.4 45.4 Q30.6 45.4 33.25 44.25 Q35.9 43.1 37.85 41.15 Q39.8 39.2 40.95 36.5 Q42.1 33.8 42.3 30.8 ZM50.5 16.4 L42.1 16.4 Q41 11.3 37.55 8.8 Q34.1 6.3 28.7 6.3 Q24.5 6.3 21.4 7.7 Q18.3 9.1 16.3 11.45 Q14.3 13.8 13.4 16.85 Q12.5 19.9 12.6 23.3 L51.3 23.3 Q51.5 28 50.45 33.2 Q49.4 38.4 46.65 42.8 Q43.9 47.2 39.35 50.05 Q34.8 52.9 27.9 52.9 Q22.6 52.9 18.15 50.9 Q13.7 48.9 10.45 45.3 Q7.2 41.7 5.4 36.8 Q3.6 31.9 3.6 26 Q3.8 20.1 5.35 15.1 Q6.9 10.1 10 6.5 Q13.1 2.9 17.65 0.9 Q22.2 -1.1 28.4 -1.1 Q37.2 -1.1 43 3.3 Q48.8 7.7 50.5 16.4 Z\"\n",
       "        /><glyph unicode=\"m\" horiz-adv-x=\"85.3\" d=\"M6.4 51.7 L6.4 0 L14.9 0 L14.9 32.2 Q14.9 33.7 15.65 35.95 Q16.4 38.2 18.05 40.3 Q19.7 42.4 22.35 43.9 Q25 45.4 28.7 45.4 Q31.6 45.4 33.45 44.55 Q35.3 43.7 36.4 42.15 Q37.5 40.6 37.95 38.5 Q38.4 36.4 38.4 33.9 L38.4 0 L46.9 0 L46.9 32.2 Q46.9 38.2 50.5 41.8 Q54.1 45.4 60.4 45.4 Q63.5 45.4 65.45 44.5 Q67.4 43.6 68.5 42.05 Q69.6 40.5 70 38.4 Q70.4 36.3 70.4 33.9 L70.4 0 L78.9 0 L78.9 37.9 Q78.9 41.9 77.65 44.75 Q76.4 47.6 74.15 49.4 Q71.9 51.2 68.75 52.05 Q65.6 52.9 61.7 52.9 Q56.6 52.9 52.35 50.6 Q48.1 48.3 45.5 44.1 Q43.9 48.9 40 50.9 Q36.1 52.9 31.3 52.9 Q20.4 52.9 14.6 44.1 L14.4 44.1 L14.4 51.7 Z\"\n",
       "        /><glyph unicode=\"i\" horiz-adv-x=\"22.2\" d=\"M15.4 61 L15.4 71.4 L6.9 71.4 L6.9 61 ZM6.9 51.7 L6.9 0 L15.4 0 L15.4 51.7 Z\"\n",
       "        /><glyph unicode=\"T\" horiz-adv-x=\"57.4\" d=\"M24 63.4 L24 0 L33.5 0 L33.5 63.4 L57.3 63.4 L57.3 71.4 L0.2 71.4 L0.2 63.4 Z\"\n",
       "        /><glyph unicode=\".\" horiz-adv-x=\"27.8\" d=\"M8.3 11.1 L8.3 0 L19.4 0 L19.4 11.1 Z\"\n",
       "        /><glyph unicode=\"-\" horiz-adv-x=\"38.9\" d=\"M5 31.8 L5 23.8 L33.9 23.8 L33.9 31.8 Z\"\n",
       "        /><glyph unicode=\")\" horiz-adv-x=\"25.9\" d=\"M-0.9 -19.7 L5.5 -19.7 Q13.3 -9.4 17.25 2.55 Q21.2 14.5 21.2 26.3 Q21.2 32.9 20.1 38.9 Q19 44.9 16.95 50.65 Q14.9 56.4 12 61.95 Q9.1 67.5 5.5 73.1 L-0.9 73.1 Q6.1 61.6 9.15 50.25 Q12.2 38.9 12.2 26.3 Q12.2 14.1 9.2 2.85 Q6.2 -8.4 -0.9 -19.7 Z\"\n",
       "        /><glyph unicode=\"(\" horiz-adv-x=\"25.9\" d=\"M20.4 -19.7 L26.9 -19.7 Q19.8 -8.2 16.75 3.1 Q13.7 14.4 13.7 27 Q13.7 39.3 16.7 50.5 Q19.7 61.7 26.9 73.1 L20.4 73.1 Q12.6 62.8 8.65 50.8 Q4.7 38.8 4.7 27 Q4.7 20.4 5.8 14.4 Q6.9 8.4 8.95 2.7 Q11 -3 13.9 -8.55 Q16.8 -14.1 20.4 -19.7 Z\"\n",
       "        /><glyph unicode=\"x\" horiz-adv-x=\"51.8\" d=\"M20.3 27.2 L0.9 0 L11.2 0 L25.6 21.4 L40 0 L50.9 0 L30.9 27.9 L48.7 51.7 L38.5 51.7 L25.6 33.6 L13.2 51.7 L2.3 51.7 Z\"\n",
       "      /></font\n",
       "      ><font horiz-adv-x=\"50.0\" id=\"font2\"\n",
       "      ><font-face ascent=\"97.5\" descent=\"21.699999\" units-per-em=\"100\" style=\"font-style:normal; font-family:Helvetica Neue; font-weight:bold;\"\n",
       "        /><missing-glyph horiz-adv-x=\"50.0\" d=\"M39.1 60.7 L11.1 60.7 L11.1 9.5 L39.1 9.5 ZM48.2 69.8 L48.2 0.3 L1.7 0.3 L1.7 69.8 Z\"\n",
       "        /><glyph unicode=\"-\" horiz-adv-x=\"40.7\" d=\"M5.3 33.4 L5.3 21.2 L35.4 21.2 L35.4 33.4 Z\"\n",
       "        /><glyph unicode=\"z\" horiz-adv-x=\"51.9\" d=\"M2.2 10.7 L2.2 0 L49.7 0 L49.7 10.7 L20.9 10.7 L47.8 41 L47.8 51.7 L4.2 51.7 L4.2 41 L29.1 41 Z\"\n",
       "        /><glyph unicode=\"h\" horiz-adv-x=\"59.3\" d=\"M5.4 71.4 L5.4 0 L19.6 0 L19.6 27.1 Q19.6 35 22.2 38.45 Q24.8 41.9 30.6 41.9 Q35.7 41.9 37.7 38.75 Q39.7 35.6 39.7 29.2 L39.7 0 L53.9 0 L53.9 31.8 Q53.9 36.6 53.05 40.55 Q52.2 44.5 50.1 47.25 Q48 50 44.35 51.55 Q40.7 53.1 35 53.1 Q31 53.1 26.8 51.05 Q22.6 49 19.9 44.5 L19.6 44.5 L19.6 71.4 Z\"\n",
       "        /><glyph unicode=\"w\" horiz-adv-x=\"81.4\" d=\"M64.5 0 L80.8 51.7 L66.2 51.7 L56.7 16.7 L56.5 16.7 L47.7 51.7 L33.9 51.7 L25.3 16.6 L25.1 16.6 L15.6 51.7 L0.6 51.7 L17 0 L31.7 0 L40.5 34.7 L40.7 34.7 L49.9 0 Z\"\n",
       "        /><glyph unicode=\"d\" horiz-adv-x=\"61.1\" d=\"M42.1 26 Q42.1 22.8 41.5 19.8 Q40.9 16.8 39.5 14.45 Q38.1 12.1 35.75 10.7 Q33.4 9.3 29.9 9.3 Q26.6 9.3 24.25 10.75 Q21.9 12.2 20.35 14.55 Q18.8 16.9 18.1 19.9 Q17.4 22.9 17.4 25.9 Q17.4 29.1 18.05 32.05 Q18.7 35 20.15 37.3 Q21.6 39.6 24 41 Q26.4 42.4 29.9 42.4 Q33.4 42.4 35.7 41 Q38 39.6 39.45 37.35 Q40.9 35.1 41.5 32.15 Q42.1 29.2 42.1 26 ZM42.3 6.6 L42.3 0 L55.8 0 L55.8 71.4 L41.6 71.4 L41.6 45.4 L41.4 45.4 Q39 49.2 34.85 51.15 Q30.7 53.1 26.1 53.1 Q20.4 53.1 16.1 50.85 Q11.8 48.6 8.95 44.9 Q6.1 41.2 4.65 36.35 Q3.2 31.5 3.2 26.3 Q3.2 20.9 4.65 15.9 Q6.1 10.9 8.95 7.05 Q11.8 3.2 16.2 0.95 Q20.6 -1.3 26.4 -1.3 Q31.5 -1.3 35.55 0.55 Q39.6 2.4 42.1 6.6 Z\"\n",
       "        /><glyph unicode=\"u\" horiz-adv-x=\"59.3\" d=\"M53.9 0 L53.9 51.7 L39.7 51.7 L39.7 24.6 Q39.7 16.7 37.1 13.25 Q34.5 9.8 28.7 9.8 Q23.6 9.8 21.6 12.95 Q19.6 16.1 19.6 22.5 L19.6 51.7 L5.4 51.7 L5.4 19.9 Q5.4 15.1 6.25 11.15 Q7.1 7.2 9.2 4.45 Q11.3 1.7 14.95 0.2 Q18.6 -1.3 24.3 -1.3 Q28.8 -1.3 33.1 0.7 Q37.4 2.7 40.1 7.2 L40.4 7.2 L40.4 0 Z\"\n",
       "        /><glyph unicode=\"s\" horiz-adv-x=\"53.7\" d=\"M16.4 16.8 L2.9 16.8 Q3.1 11.6 5.25 8.15 Q7.4 4.7 10.75 2.6 Q14.1 0.5 18.4 -0.4 Q22.7 -1.3 27.2 -1.3 Q31.6 -1.3 35.85 -0.45 Q40.1 0.4 43.4 2.5 Q46.7 4.6 48.75 8.05 Q50.8 11.5 50.8 16.6 Q50.8 20.2 49.4 22.65 Q48 25.1 45.7 26.75 Q43.4 28.4 40.45 29.4 Q37.5 30.4 34.4 31.1 Q31.4 31.8 28.5 32.4 Q25.6 33 23.35 33.75 Q21.1 34.5 19.7 35.7 Q18.3 36.9 18.3 38.8 Q18.3 40.4 19.1 41.35 Q19.9 42.3 21.05 42.8 Q22.2 43.3 23.6 43.45 Q25 43.6 26.2 43.6 Q30 43.6 32.8 42.15 Q35.6 40.7 35.9 36.6 L49.4 36.6 Q49 41.4 46.95 44.55 Q44.9 47.7 41.8 49.6 Q38.7 51.5 34.75 52.3 Q30.8 53.1 26.6 53.1 Q22.4 53.1 18.4 52.35 Q14.4 51.6 11.2 49.75 Q8 47.9 6.05 44.7 Q4.1 41.5 4.1 36.5 Q4.1 33.1 5.5 30.75 Q6.9 28.4 9.2 26.85 Q11.5 25.3 14.45 24.35 Q17.4 23.4 20.5 22.7 Q28.1 21.1 32.35 19.5 Q36.6 17.9 36.6 14.7 Q36.6 12.8 35.7 11.55 Q34.8 10.3 33.45 9.55 Q32.1 8.8 30.45 8.45 Q28.8 8.1 27.3 8.1 Q25.2 8.1 23.25 8.6 Q21.3 9.1 19.8 10.15 Q18.3 11.2 17.35 12.85 Q16.4 14.5 16.4 16.8 Z\"\n",
       "        /><glyph unicode=\"o\" horiz-adv-x=\"61.1\" d=\"M18 25.8 Q18 28.9 18.6 31.9 Q19.2 34.9 20.65 37.2 Q22.1 39.5 24.5 40.95 Q26.9 42.4 30.5 42.4 Q34.1 42.4 36.55 40.95 Q39 39.5 40.45 37.2 Q41.9 34.9 42.5 31.9 Q43.1 28.9 43.1 25.8 Q43.1 22.7 42.5 19.75 Q41.9 16.8 40.45 14.45 Q39 12.1 36.55 10.7 Q34.1 9.3 30.5 9.3 Q26.9 9.3 24.5 10.7 Q22.1 12.1 20.65 14.45 Q19.2 16.8 18.6 19.75 Q18 22.7 18 25.8 ZM3.8 25.8 Q3.8 19.6 5.7 14.6 Q7.6 9.6 11.1 6.05 Q14.6 2.5 19.5 0.6 Q24.4 -1.3 30.5 -1.3 Q36.6 -1.3 41.55 0.6 Q46.5 2.5 50 6.05 Q53.5 9.6 55.4 14.6 Q57.3 19.6 57.3 25.8 Q57.3 32 55.4 37.05 Q53.5 42.1 50 45.65 Q46.5 49.2 41.55 51.15 Q36.6 53.1 30.5 53.1 Q24.4 53.1 19.5 51.15 Q14.6 49.2 11.1 45.65 Q7.6 42.1 5.7 37.05 Q3.8 32 3.8 25.8 Z\"\n",
       "        /><glyph unicode=\"c\" horiz-adv-x=\"57.4\" d=\"M40.6 33.5 L54.5 33.5 Q54.2 38.5 52.1 42.15 Q50 45.8 46.65 48.25 Q43.3 50.7 39.05 51.9 Q34.8 53.1 30.2 53.1 Q23.9 53.1 19 51 Q14.1 48.9 10.7 45.15 Q7.3 41.4 5.55 36.25 Q3.8 31.1 3.8 25.1 Q3.8 19.3 5.7 14.45 Q7.6 9.6 11 6.1 Q14.4 2.6 19.25 0.65 Q24.1 -1.3 29.9 -1.3 Q40.2 -1.3 46.8 4.1 Q53.4 9.5 54.8 19.8 L41.1 19.8 Q40.4 15 37.65 12.15 Q34.9 9.3 29.8 9.3 Q26.5 9.3 24.2 10.8 Q21.9 12.3 20.55 14.65 Q19.2 17 18.6 19.9 Q18 22.8 18 25.6 Q18 28.5 18.6 31.45 Q19.2 34.4 20.65 36.85 Q22.1 39.3 24.4 40.85 Q26.7 42.4 30.1 42.4 Q39.2 42.4 40.6 33.5 Z\"\n",
       "        /><glyph unicode=\"e\" horiz-adv-x=\"57.4\" d=\"M40.2 31.4 L17.1 31.4 Q17.2 32.9 17.75 34.8 Q18.3 36.7 19.65 38.4 Q21 40.1 23.25 41.25 Q25.5 42.4 28.9 42.4 Q34.1 42.4 36.65 39.6 Q39.2 36.8 40.2 31.4 ZM17.1 22.4 L54.4 22.4 Q54.8 28.4 53.4 33.9 Q52 39.4 48.85 43.7 Q45.7 48 40.8 50.55 Q35.9 53.1 29.3 53.1 Q23.4 53.1 18.55 51 Q13.7 48.9 10.2 45.25 Q6.7 41.6 4.8 36.6 Q2.9 31.6 2.9 25.8 Q2.9 19.8 4.75 14.8 Q6.6 9.8 10 6.2 Q13.4 2.6 18.3 0.65 Q23.2 -1.3 29.3 -1.3 Q38.1 -1.3 44.3 2.7 Q50.5 6.7 53.5 16 L41 16 Q40.3 13.6 37.2 11.45 Q34.1 9.3 29.8 9.3 Q23.8 9.3 20.6 12.4 Q17.4 15.5 17.1 22.4 Z\"\n",
       "        /><glyph unicode=\"r\" horiz-adv-x=\"38.9\" d=\"M5.4 51.7 L5.4 0 L19.6 0 L19.6 23.3 Q19.6 26.8 20.3 29.8 Q21 32.8 22.65 35.05 Q24.3 37.3 27 38.6 Q29.7 39.9 33.6 39.9 Q34.9 39.9 36.3 39.75 Q37.7 39.6 38.7 39.4 L38.7 52.6 Q37 53.1 35.6 53.1 Q32.9 53.1 30.4 52.3 Q27.9 51.5 25.7 50.05 Q23.5 48.6 21.8 46.55 Q20.1 44.5 19.1 42.1 L18.9 42.1 L18.9 51.7 Z\"\n",
       "        /><glyph unicode=\")\" horiz-adv-x=\"29.6\" d=\"M-0.6 -18.1 L11.2 -18.1 Q14.5 -13.4 17 -7.7 Q19.5 -2 21.15 4.05 Q22.8 10.1 23.6 16.25 Q24.4 22.4 24.4 28 Q24.4 39.8 20.95 51.3 Q17.5 62.8 11.2 73.1 L-0.5 73.1 Q5 62.2 7.6 50.6 Q10.2 39 10.2 27 Q10.2 15.2 7.55 3.85 Q4.9 -7.5 -0.6 -18.1 Z\"\n",
       "        /><glyph unicode=\"t\" horiz-adv-x=\"35.2\" d=\"M23.4 51.7 L23.4 67.2 L9.2 67.2 L9.2 51.7 L0.6 51.7 L0.6 42.2 L9.2 42.2 L9.2 11.7 Q9.2 7.8 10.5 5.4 Q11.8 3 14.05 1.7 Q16.3 0.4 19.25 -0.05 Q22.2 -0.5 25.5 -0.5 Q27.6 -0.5 29.8 -0.4 Q32 -0.3 33.8 0 L33.8 11 Q32.8 10.8 31.7 10.7 Q30.6 10.6 29.4 10.6 Q25.8 10.6 24.6 11.8 Q23.4 13 23.4 16.6 L23.4 42.2 L33.8 42.2 L33.8 51.7 Z\"\n",
       "        /><glyph unicode=\"(\" horiz-adv-x=\"29.6\" d=\"M30.3 73.1 L18.4 73.1 Q15.1 68.3 12.65 62.6 Q10.2 56.9 8.55 50.8 Q6.9 44.7 6.05 38.55 Q5.2 32.4 5.2 26.8 Q5.2 15 8.65 3.6 Q12.1 -7.8 18.4 -18.1 L30.2 -18.1 Q24.5 -7.2 21.95 4.3 Q19.4 15.8 19.4 27.8 Q19.4 39.6 22 51.05 Q24.6 62.5 30.3 73.1 Z\"\n",
       "        /><glyph unicode=\"x\" horiz-adv-x=\"53.7\" d=\"M18.6 27.2 L0 0 L15.9 0 L26.7 16.3 L37.5 0 L53.7 0 L34.6 27.5 L51.6 51.7 L35.9 51.7 L26.9 38.2 L17.8 51.7 L1.6 51.7 Z\"\n",
       "        /><glyph unicode=\"l\" horiz-adv-x=\"25.8\" d=\"M5.8 71.4 L5.8 0 L20 0 L20 71.4 Z\"\n",
       "        /><glyph unicode=\"a\" horiz-adv-x=\"57.4\" d=\"M4.8 35.8 Q5.1 40.8 7.3 44.1 Q9.5 47.4 12.9 49.4 Q16.3 51.4 20.55 52.25 Q24.8 53.1 29.1 53.1 Q33 53.1 37 52.55 Q41 52 44.3 50.4 Q47.6 48.8 49.7 45.95 Q51.8 43.1 51.8 38.4 L51.8 11.5 Q51.8 8 52.2 4.8 Q52.6 1.6 53.6 0 L39.2 0 Q38.8 1.2 38.55 2.45 Q38.3 3.7 38.2 5 Q34.8 1.5 30.2 0.1 Q25.6 -1.3 20.8 -1.3 Q17.1 -1.3 13.9 -0.4 Q10.7 0.5 8.3 2.4 Q5.9 4.3 4.55 7.2 Q3.2 10.1 3.2 14.1 Q3.2 18.5 4.75 21.35 Q6.3 24.2 8.75 25.9 Q11.2 27.6 14.35 28.45 Q17.5 29.3 20.7 29.8 Q23.9 30.3 27 30.6 Q30.1 30.9 32.5 31.5 Q34.9 32.1 36.3 33.25 Q37.7 34.4 37.6 36.6 Q37.6 38.9 36.85 40.25 Q36.1 41.6 34.85 42.35 Q33.6 43.1 31.95 43.35 Q30.3 43.6 28.4 43.6 Q24.2 43.6 21.8 41.8 Q19.4 40 19 35.8 ZM37.6 25.3 Q36.7 24.5 35.35 24.05 Q34 23.6 32.45 23.3 Q30.9 23 29.2 22.8 Q27.5 22.6 25.8 22.3 Q24.2 22 22.65 21.5 Q21.1 21 19.95 20.15 Q18.8 19.3 18.1 18 Q17.4 16.7 17.4 14.7 Q17.4 12.8 18.1 11.5 Q18.8 10.2 20 9.45 Q21.2 8.7 22.8 8.4 Q24.4 8.1 26.1 8.1 Q30.3 8.1 32.6 9.5 Q34.9 10.9 36 12.85 Q37.1 14.8 37.35 16.8 Q37.6 18.8 37.6 20 Z\"\n",
       "        /><glyph unicode=\"n\" horiz-adv-x=\"59.3\" d=\"M5.4 51.7 L5.4 0 L19.6 0 L19.6 27.1 Q19.6 35 22.2 38.45 Q24.8 41.9 30.6 41.9 Q35.7 41.9 37.7 38.75 Q39.7 35.6 39.7 29.2 L39.7 0 L53.9 0 L53.9 31.8 Q53.9 36.6 53.05 40.55 Q52.2 44.5 50.1 47.25 Q48 50 44.35 51.55 Q40.7 53.1 35 53.1 Q30.5 53.1 26.2 51.05 Q21.9 49 19.2 44.5 L18.9 44.5 L18.9 51.7 Z\"\n",
       "        /><glyph unicode=\"S\" horiz-adv-x=\"64.9\" d=\"M17.6 23.7 L2.4 23.7 Q2.3 17.1 4.8 12.3 Q7.3 7.5 11.55 4.4 Q15.8 1.3 21.35 -0.15 Q26.9 -1.6 32.8 -1.6 Q40.1 -1.6 45.65 0.1 Q51.2 1.8 54.95 4.85 Q58.7 7.9 60.6 12.1 Q62.5 16.3 62.5 21.2 Q62.5 27.2 59.95 31.05 Q57.4 34.9 53.9 37.2 Q50.4 39.5 46.85 40.55 Q43.3 41.6 41.3 42 Q34.6 43.7 30.45 44.8 Q26.3 45.9 23.95 47 Q21.6 48.1 20.8 49.4 Q20 50.7 20 52.8 Q20 55.1 21 56.6 Q22 58.1 23.55 59.1 Q25.1 60.1 27 60.5 Q28.9 60.9 30.8 60.9 Q33.7 60.9 36.15 60.4 Q38.6 59.9 40.5 58.7 Q42.4 57.5 43.55 55.4 Q44.7 53.3 44.9 50.1 L60.1 50.1 Q60.1 56.3 57.75 60.65 Q55.4 65 51.4 67.8 Q47.4 70.6 42.25 71.85 Q37.1 73.1 31.5 73.1 Q26.7 73.1 21.9 71.8 Q17.1 70.5 13.3 67.8 Q9.5 65.1 7.15 61.05 Q4.8 57 4.8 51.5 Q4.8 46.6 6.65 43.15 Q8.5 39.7 11.5 37.4 Q14.5 35.1 18.3 33.65 Q22.1 32.2 26.1 31.2 Q30 30.1 33.8 29.2 Q37.6 28.3 40.6 27.1 Q43.6 25.9 45.45 24.1 Q47.3 22.3 47.3 19.4 Q47.3 16.7 45.9 14.95 Q44.5 13.2 42.4 12.2 Q40.3 11.2 37.9 10.85 Q35.5 10.5 33.4 10.5 Q30.3 10.5 27.4 11.25 Q24.5 12 22.35 13.55 Q20.2 15.1 18.9 17.6 Q17.6 20.1 17.6 23.7 Z\"\n",
       "        /><glyph unicode=\":\" horiz-adv-x=\"27.8\" d=\"M21.8 35.4 L21.8 50.8 L6.1 50.8 L6.1 35.4 ZM6.1 15.4 L6.1 0 L21.8 0 L21.8 15.4 Z\"\n",
       "        /><glyph unicode=\"3\" horiz-adv-x=\"55.6\" d=\"M22.8 41.7 L22.8 31.7 Q25.4 31.7 28.25 31.55 Q31.1 31.4 33.5 30.45 Q35.9 29.5 37.45 27.4 Q39 25.3 39 21.3 Q39 16.2 35.7 13.25 Q32.4 10.3 27.6 10.3 Q24.5 10.3 22.25 11.4 Q20 12.5 18.5 14.35 Q17 16.2 16.2 18.75 Q15.4 21.3 15.3 24.1 L1.8 24.1 Q1.7 18 3.55 13.3 Q5.4 8.6 8.8 5.35 Q12.2 2.1 17.05 0.4 Q21.9 -1.3 27.8 -1.3 Q32.9 -1.3 37.6 0.2 Q42.3 1.7 45.9 4.6 Q49.5 7.5 51.65 11.8 Q53.8 16.1 53.8 21.6 Q53.8 27.6 50.5 31.9 Q47.2 36.2 41.4 37.5 L41.4 37.7 Q46.3 39.1 48.75 43 Q51.2 46.9 51.2 52 Q51.2 56.7 49.1 60.3 Q47 63.9 43.65 66.4 Q40.3 68.9 36.1 70.15 Q31.9 71.4 27.7 71.4 Q22.3 71.4 17.9 69.65 Q13.5 67.9 10.35 64.7 Q7.2 61.5 5.45 57.05 Q3.7 52.6 3.5 47.2 L17 47.2 Q16.9 52.6 19.65 56.15 Q22.4 59.7 27.8 59.7 Q31.7 59.7 34.7 57.3 Q37.7 54.9 37.7 50.4 Q37.7 47.4 36.25 45.6 Q34.8 43.8 32.55 42.85 Q30.3 41.9 27.7 41.7 Q25.1 41.5 22.8 41.7 Z\"\n",
       "        /><glyph unicode=\" \" horiz-adv-x=\"27.8\" d=\"\"\n",
       "        /><glyph unicode=\"g\" horiz-adv-x=\"61.1\" d=\"M29.5 12.2 Q26.2 12.2 24 13.6 Q21.8 15 20.45 17.2 Q19.1 19.4 18.55 22.15 Q18 24.9 18 27.7 Q18 30.6 18.65 33.25 Q19.3 35.9 20.75 37.95 Q22.2 40 24.35 41.2 Q26.5 42.4 29.5 42.4 Q33 42.4 35.3 41.1 Q37.6 39.8 39 37.6 Q40.4 35.4 41 32.55 Q41.6 29.7 41.6 26.5 Q41.6 23.7 40.85 21.15 Q40.1 18.6 38.6 16.6 Q37.1 14.6 34.8 13.4 Q32.5 12.2 29.5 12.2 ZM55.1 3.3 L55.1 51.7 L41.6 51.7 L41.6 44.8 L41.4 44.8 Q38.8 49.3 34.95 51.2 Q31.1 53.1 26 53.1 Q20.6 53.1 16.45 51 Q12.3 48.9 9.5 45.35 Q6.7 41.8 5.25 37.15 Q3.8 32.5 3.8 27.5 Q3.8 22.2 5.05 17.45 Q6.3 12.7 9 9.15 Q11.7 5.6 15.9 3.55 Q20.1 1.5 25.9 1.5 Q30.6 1.5 34.85 3.45 Q39.1 5.4 41.4 9.5 L41.6 9.5 L41.6 2.7 Q41.7 -2.8 38.95 -6.4 Q36.2 -10 30.2 -10 Q26.4 -10 23.5 -8.45 Q20.6 -6.9 19.6 -2.9 L5.5 -2.9 Q5.8 -7.3 7.95 -10.45 Q10.1 -13.6 13.35 -15.6 Q16.6 -17.6 20.55 -18.55 Q24.5 -19.5 28.3 -19.5 Q37.2 -19.5 42.5 -17.1 Q47.8 -14.7 50.6 -11.25 Q53.4 -7.8 54.25 -3.8 Q55.1 0.2 55.1 3.3 Z\"\n",
       "        /><glyph unicode=\"i\" horiz-adv-x=\"25.8\" d=\"M20 59.7 L20 71.4 L5.8 71.4 L5.8 59.7 ZM5.8 51.7 L5.8 0 L20 0 L20 51.7 Z\"\n",
       "        /><glyph unicode=\"F\" horiz-adv-x=\"59.3\" d=\"M6.9 71.4 L6.9 0 L22.6 0 L22.6 29.5 L52.5 29.5 L52.5 41.7 L22.6 41.7 L22.6 58.2 L57.1 58.2 L57.1 71.4 Z\"\n",
       "      /></font\n",
       "    ></defs\n",
       "    ><g style=\"fill:white; stroke:white;\"\n",
       "    ><rect x=\"0\" y=\"0\" width=\"560\" style=\"clip-path:url(#clipPath1); stroke:none;\" height=\"420\"\n",
       "    /></g\n",
       "    ><g style=\"fill:white; text-rendering:optimizeSpeed; color-rendering:optimizeSpeed; image-rendering:optimizeSpeed; shape-rendering:crispEdges; stroke:white; color-interpolation:sRGB;\"\n",
       "    ><rect x=\"0\" width=\"560\" height=\"420\" y=\"0\" style=\"stroke:none;\"\n",
       "      /><path style=\"stroke:none;\" d=\"M73 373 L507 373 L507 31 L73 31 Z\"\n",
       "    /></g\n",
       "    ><g style=\"fill:rgb(38,38,38); text-rendering:geometricPrecision; image-rendering:optimizeQuality; color-rendering:optimizeQuality; stroke-linejoin:round; stroke:rgb(38,38,38); color-interpolation:linearRGB; stroke-width:0.5;\"\n",
       "    ><line y2=\"373\" style=\"fill:none;\" x1=\"73\" x2=\"507\" y1=\"373\"\n",
       "      /><line y2=\"31\" style=\"fill:none;\" x1=\"73\" x2=\"507\" y1=\"31\"\n",
       "      /><line y2=\"368.66\" style=\"fill:none;\" x1=\"73\" x2=\"73\" y1=\"373\"\n",
       "      /><line y2=\"368.66\" style=\"fill:none;\" x1=\"159.8\" x2=\"159.8\" y1=\"373\"\n",
       "      /><line y2=\"368.66\" style=\"fill:none;\" x1=\"246.6\" x2=\"246.6\" y1=\"373\"\n",
       "      /><line y2=\"368.66\" style=\"fill:none;\" x1=\"333.4\" x2=\"333.4\" y1=\"373\"\n",
       "      /><line y2=\"368.66\" style=\"fill:none;\" x1=\"420.2\" x2=\"420.2\" y1=\"373\"\n",
       "      /><line y2=\"368.66\" style=\"fill:none;\" x1=\"507\" x2=\"507\" y1=\"373\"\n",
       "      /><line y2=\"35.34\" style=\"fill:none;\" x1=\"73\" x2=\"73\" y1=\"31\"\n",
       "      /><line y2=\"35.34\" style=\"fill:none;\" x1=\"159.8\" x2=\"159.8\" y1=\"31\"\n",
       "      /><line y2=\"35.34\" style=\"fill:none;\" x1=\"246.6\" x2=\"246.6\" y1=\"31\"\n",
       "      /><line y2=\"35.34\" style=\"fill:none;\" x1=\"333.4\" x2=\"333.4\" y1=\"31\"\n",
       "      /><line y2=\"35.34\" style=\"fill:none;\" x1=\"420.2\" x2=\"420.2\" y1=\"31\"\n",
       "      /><line y2=\"35.34\" style=\"fill:none;\" x1=\"507\" x2=\"507\" y1=\"31\"\n",
       "    /></g\n",
       "    ><g transform=\"translate(73,378.2)\" style=\"font-size:16px; fill:rgb(38,38,38); text-rendering:geometricPrecision; image-rendering:optimizeQuality; color-rendering:optimizeQuality; font-family:'Helvetica Neue'; stroke:rgb(38,38,38); color-interpolation:linearRGB;\"\n",
       "    ><text x=\"-4.5\" xml:space=\"preserve\" y=\"16\" style=\"stroke:none;\"\n",
       "      >0</text\n",
       "    ></g\n",
       "    ><g transform=\"translate(159.8,378.2)\" style=\"font-size:16px; fill:rgb(38,38,38); text-rendering:geometricPrecision; image-rendering:optimizeQuality; color-rendering:optimizeQuality; font-family:'Helvetica Neue'; stroke:rgb(38,38,38); color-interpolation:linearRGB;\"\n",
       "    ><text x=\"-4.5\" xml:space=\"preserve\" y=\"16\" style=\"stroke:none;\"\n",
       "      >2</text\n",
       "    ></g\n",
       "    ><g transform=\"translate(246.6,378.2)\" style=\"font-size:16px; fill:rgb(38,38,38); text-rendering:geometricPrecision; image-rendering:optimizeQuality; color-rendering:optimizeQuality; font-family:'Helvetica Neue'; stroke:rgb(38,38,38); color-interpolation:linearRGB;\"\n",
       "    ><text x=\"-4.5\" xml:space=\"preserve\" y=\"16\" style=\"stroke:none;\"\n",
       "      >4</text\n",
       "    ></g\n",
       "    ><g transform=\"translate(333.4,378.2)\" style=\"font-size:16px; fill:rgb(38,38,38); text-rendering:geometricPrecision; image-rendering:optimizeQuality; color-rendering:optimizeQuality; font-family:'Helvetica Neue'; stroke:rgb(38,38,38); color-interpolation:linearRGB;\"\n",
       "    ><text x=\"-4.5\" xml:space=\"preserve\" y=\"16\" style=\"stroke:none;\"\n",
       "      >6</text\n",
       "    ></g\n",
       "    ><g transform=\"translate(420.2,378.2)\" style=\"font-size:16px; fill:rgb(38,38,38); text-rendering:geometricPrecision; image-rendering:optimizeQuality; color-rendering:optimizeQuality; font-family:'Helvetica Neue'; stroke:rgb(38,38,38); color-interpolation:linearRGB;\"\n",
       "    ><text x=\"-4.5\" xml:space=\"preserve\" y=\"16\" style=\"stroke:none;\"\n",
       "      >8</text\n",
       "    ></g\n",
       "    ><g transform=\"translate(507,378.2)\" style=\"font-size:16px; fill:rgb(38,38,38); text-rendering:geometricPrecision; image-rendering:optimizeQuality; color-rendering:optimizeQuality; font-family:'Helvetica Neue'; stroke:rgb(38,38,38); color-interpolation:linearRGB;\"\n",
       "    ><text x=\"-9\" xml:space=\"preserve\" y=\"16\" style=\"stroke:none;\"\n",
       "      >10</text\n",
       "    ></g\n",
       "    ><g transform=\"translate(290.0002,399.2)\" style=\"font-size:17.6px; fill:rgb(38,38,38); text-rendering:geometricPrecision; image-rendering:optimizeQuality; color-rendering:optimizeQuality; font-family:'Helvetica Neue'; stroke:rgb(38,38,38); color-interpolation:linearRGB;\"\n",
       "    ><text x=\"-36\" xml:space=\"preserve\" y=\"17\" style=\"stroke:none;\"\n",
       "      >Time t [s]</text\n",
       "    ></g\n",
       "    ><g style=\"fill:rgb(38,38,38); text-rendering:geometricPrecision; image-rendering:optimizeQuality; color-rendering:optimizeQuality; stroke-linejoin:round; stroke:rgb(38,38,38); color-interpolation:linearRGB; stroke-width:0.5;\"\n",
       "    ><line y2=\"31\" style=\"fill:none;\" x1=\"73\" x2=\"73\" y1=\"373\"\n",
       "      /><line y2=\"31\" style=\"fill:none;\" x1=\"507\" x2=\"507\" y1=\"373\"\n",
       "      /><line y2=\"373\" style=\"fill:none;\" x1=\"73\" x2=\"77.34\" y1=\"373\"\n",
       "      /><line y2=\"316\" style=\"fill:none;\" x1=\"73\" x2=\"77.34\" y1=\"316\"\n",
       "      /><line y2=\"259\" style=\"fill:none;\" x1=\"73\" x2=\"77.34\" y1=\"259\"\n",
       "      /><line y2=\"202\" style=\"fill:none;\" x1=\"73\" x2=\"77.34\" y1=\"202\"\n",
       "      /><line y2=\"145\" style=\"fill:none;\" x1=\"73\" x2=\"77.34\" y1=\"145\"\n",
       "      /><line y2=\"88\" style=\"fill:none;\" x1=\"73\" x2=\"77.34\" y1=\"88\"\n",
       "      /><line y2=\"31\" style=\"fill:none;\" x1=\"73\" x2=\"77.34\" y1=\"31\"\n",
       "      /><line y2=\"373\" style=\"fill:none;\" x1=\"507\" x2=\"502.66\" y1=\"373\"\n",
       "      /><line y2=\"316\" style=\"fill:none;\" x1=\"507\" x2=\"502.66\" y1=\"316\"\n",
       "      /><line y2=\"259\" style=\"fill:none;\" x1=\"507\" x2=\"502.66\" y1=\"259\"\n",
       "      /><line y2=\"202\" style=\"fill:none;\" x1=\"507\" x2=\"502.66\" y1=\"202\"\n",
       "      /><line y2=\"145\" style=\"fill:none;\" x1=\"507\" x2=\"502.66\" y1=\"145\"\n",
       "      /><line y2=\"88\" style=\"fill:none;\" x1=\"507\" x2=\"502.66\" y1=\"88\"\n",
       "      /><line y2=\"31\" style=\"fill:none;\" x1=\"507\" x2=\"502.66\" y1=\"31\"\n",
       "    /></g\n",
       "    ><g transform=\"translate(67.8,373)\" style=\"font-size:16px; fill:rgb(38,38,38); text-rendering:geometricPrecision; image-rendering:optimizeQuality; color-rendering:optimizeQuality; font-family:'Helvetica Neue'; stroke:rgb(38,38,38); color-interpolation:linearRGB;\"\n",
       "    ><text x=\"-29\" xml:space=\"preserve\" y=\"6\" style=\"stroke:none;\"\n",
       "      >-0.4</text\n",
       "    ></g\n",
       "    ><g transform=\"translate(67.8,316)\" style=\"font-size:16px; fill:rgb(38,38,38); text-rendering:geometricPrecision; image-rendering:optimizeQuality; color-rendering:optimizeQuality; font-family:'Helvetica Neue'; stroke:rgb(38,38,38); color-interpolation:linearRGB;\"\n",
       "    ><text x=\"-29\" xml:space=\"preserve\" y=\"6\" style=\"stroke:none;\"\n",
       "      >-0.2</text\n",
       "    ></g\n",
       "    ><g transform=\"translate(67.8,259)\" style=\"font-size:16px; fill:rgb(38,38,38); text-rendering:geometricPrecision; image-rendering:optimizeQuality; color-rendering:optimizeQuality; font-family:'Helvetica Neue'; stroke:rgb(38,38,38); color-interpolation:linearRGB;\"\n",
       "    ><text x=\"-9\" xml:space=\"preserve\" y=\"6\" style=\"stroke:none;\"\n",
       "      >0</text\n",
       "    ></g\n",
       "    ><g transform=\"translate(67.8,202)\" style=\"font-size:16px; fill:rgb(38,38,38); text-rendering:geometricPrecision; image-rendering:optimizeQuality; color-rendering:optimizeQuality; font-family:'Helvetica Neue'; stroke:rgb(38,38,38); color-interpolation:linearRGB;\"\n",
       "    ><text x=\"-23\" xml:space=\"preserve\" y=\"6\" style=\"stroke:none;\"\n",
       "      >0.2</text\n",
       "    ></g\n",
       "    ><g transform=\"translate(67.8,145)\" style=\"font-size:16px; fill:rgb(38,38,38); text-rendering:geometricPrecision; image-rendering:optimizeQuality; color-rendering:optimizeQuality; font-family:'Helvetica Neue'; stroke:rgb(38,38,38); color-interpolation:linearRGB;\"\n",
       "    ><text x=\"-23\" xml:space=\"preserve\" y=\"6\" style=\"stroke:none;\"\n",
       "      >0.4</text\n",
       "    ></g\n",
       "    ><g transform=\"translate(67.8,88)\" style=\"font-size:16px; fill:rgb(38,38,38); text-rendering:geometricPrecision; image-rendering:optimizeQuality; color-rendering:optimizeQuality; font-family:'Helvetica Neue'; stroke:rgb(38,38,38); color-interpolation:linearRGB;\"\n",
       "    ><text x=\"-23\" xml:space=\"preserve\" y=\"6\" style=\"stroke:none;\"\n",
       "      >0.6</text\n",
       "    ></g\n",
       "    ><g transform=\"translate(67.8,31)\" style=\"font-size:16px; fill:rgb(38,38,38); text-rendering:geometricPrecision; image-rendering:optimizeQuality; color-rendering:optimizeQuality; font-family:'Helvetica Neue'; stroke:rgb(38,38,38); color-interpolation:linearRGB;\"\n",
       "    ><text x=\"-23\" xml:space=\"preserve\" y=\"6\" style=\"stroke:none;\"\n",
       "      >0.8</text\n",
       "    ></g\n",
       "    ><g transform=\"translate(35.8,201.9998) rotate(-90)\" style=\"font-size:17.6px; fill:rgb(38,38,38); text-rendering:geometricPrecision; image-rendering:optimizeQuality; color-rendering:optimizeQuality; font-family:'Helvetica Neue'; stroke:rgb(38,38,38); color-interpolation:linearRGB;\"\n",
       "    ><text x=\"-12\" xml:space=\"preserve\" y=\"-4\" style=\"stroke:none;\"\n",
       "      >x(t)</text\n",
       "    ></g\n",
       "    ><g transform=\"translate(290.0003,26.6)\" style=\"font-size:17.6px; text-rendering:geometricPrecision; image-rendering:optimizeQuality; color-rendering:optimizeQuality; font-family:'Helvetica Neue'; color-interpolation:linearRGB; font-weight:bold;\"\n",
       "    ><text x=\"-217.5\" xml:space=\"preserve\" y=\"-4\" style=\"stroke:none;\"\n",
       "      >Fig 3: Signal x(t) reconstructed with zero-order-hold</text\n",
       "    ></g\n",
       "    ><g style=\"stroke-linecap:butt; fill:rgb(0,114,189); text-rendering:geometricPrecision; color-rendering:optimizeQuality; image-rendering:optimizeQuality; stroke:rgb(0,114,189); color-interpolation:linearRGB; stroke-width:0.5;\"\n",
       "    ><path d=\"M73 259 L141.1726 259 L141.1726 72.9927 L209.3451 72.9927 L209.3451 242.2129 L277.5177 242.2129 L277.5177 329.9648 L345.6902 329.9648 L345.6902 271.9458 L413.8628 271.9458 L413.8628 232.5161 L482.0354 232.5161 L482.0354 251.5654\" style=\"fill:none; fill-rule:evenodd;\"\n",
       "    /></g\n",
       "    ><g style=\"stroke-linecap:butt; fill:red; text-rendering:geometricPrecision; image-rendering:optimizeQuality; color-rendering:optimizeQuality; stroke-linejoin:bevel; stroke-dasharray:1,3; stroke:red; color-interpolation:linearRGB; stroke-width:0.5; stroke-miterlimit:1;\"\n",
       "    ><path d=\"M73 259 L77.1317 232.6682 L81.2633 208.0301 L85.395 185.2086 L89.5267 164.3036 L93.6583 145.3928 L97.79 128.532 L101.9217 113.7556 L106.0534 101.0782 L110.185 90.4946 L114.3167 81.9819 L118.4484 75.5 L122.58 70.9932 L126.7117 68.3915 L130.8434 67.612 L134.9751 68.5605 L139.1067 71.1327 L143.2384 75.2157 L147.3701 80.6898 L151.5017 87.4295 L155.6334 95.3053 L159.7651 104.1847 L163.8967 113.9339 L168.0284 124.4187 L172.1601 135.5061 L176.2918 147.0649 L180.4234 158.9673 L184.5551 171.0894 L188.6868 183.3123 L192.8184 195.5228 L196.9501 207.6142 L201.0818 219.4866 L205.2135 231.0477 L209.3451 242.2129 L213.4768 252.906 L217.6085 263.0591 L221.7401 272.6128 L225.8718 281.5162 L230.0035 289.7271 L234.1351 297.2117 L238.2668 303.9444 L242.3985 309.9077 L246.5302 315.0918 L250.6618 319.4944 L254.7935 323.12 L258.9252 325.9799 L263.0569 328.0915 L267.1885 329.4776 L271.3202 330.1665 L275.4518 330.1906 L279.5835 329.5868 L283.7152 328.3952 L287.8469 326.6588 L291.9785 324.4234 L296.1102 321.7361 L300.2419 318.6458 L304.3735 315.2021 L308.5052 311.4549 L312.6369 307.4539 L316.7686 303.2486 L320.9002 298.8873 L325.0319 294.417 L329.1636 289.8831 L333.2952 285.3291 L337.4269 280.7962 L341.5586 276.3231 L345.6902 271.9458 L349.8219 267.6977 L353.9536 263.6088 L358.0853 259.7063 L362.2169 256.0143 L366.3486 252.5536 L370.4803 249.3417 L374.6119 246.3932 L378.7436 243.7193 L382.8753 241.3284 L387.007 239.2258 L391.1386 237.414 L395.2703 235.8928 L399.4019 234.6594 L403.5336 233.7088 L407.6653 233.0336 L411.797 232.6244 L415.9286 232.4701 L420.0603 232.5579 L424.192 232.8736 L428.3236 233.4017 L432.4554 234.1258 L436.587 235.0287 L440.7187 236.0925 L444.8503 237.2988 L448.982 238.6292 L453.1137 240.065 L457.2454 241.5878 L461.377 243.1793 L465.5087 244.8217 L469.6404 246.4978 L473.772 248.1908 L477.9037 249.885 L482.0354 251.5654\" style=\"fill:none; fill-rule:evenodd;\"\n",
       "    /></g\n",
       "  ></g\n",
       "></svg\n",
       ">\n"
      ]
     },
     "metadata": {},
     "output_type": "display_data"
    }
   ],
   "source": [
    "stairs(td,xs)\n",
    "hold on\n",
    "plot(tc,xc,'r:')\n",
    "title('Fig 3: Signal x(t) reconstructed with zero-order-hold')\n",
    "ylabel('x(t)')\n",
    "xlabel('Time t [s]')"
   ]
  },
  {
   "cell_type": "markdown",
   "metadata": {
    "slideshow": {
     "slide_type": "subslide"
    }
   },
   "source": [
    "#### Signal reconstructed with First-order hold (FOH)"
   ]
  },
  {
   "cell_type": "code",
   "execution_count": 73,
   "metadata": {
    "slideshow": {
     "slide_type": "subslide"
    }
   },
   "outputs": [
    {
     "data": {
      "image/svg+xml": [
       "<?xml version=\"1.0\"?>\n",
       "<!DOCTYPE svg PUBLIC '-//W3C//DTD SVG 1.0//EN'\n",
       "          'http://www.w3.org/TR/2001/REC-SVG-20010904/DTD/svg10.dtd'>\n",
       "<svg xmlns:xlink=\"http://www.w3.org/1999/xlink\" style=\"fill-opacity:1; color-rendering:auto; color-interpolation:auto; text-rendering:auto; stroke:black; stroke-linecap:square; stroke-miterlimit:10; shape-rendering:auto; stroke-opacity:1; fill:black; stroke-dasharray:none; font-weight:normal; stroke-width:1; font-family:'Dialog'; font-style:normal; stroke-linejoin:miter; font-size:12px; stroke-dashoffset:0; image-rendering:auto;\" width=\"560\" height=\"420\" xmlns=\"http://www.w3.org/2000/svg\"\n",
       "><!--Generated by the Batik Graphics2D SVG Generator--><defs id=\"genericDefs\"\n",
       "  /><g\n",
       "  ><defs id=\"defs1\"\n",
       "    ><clipPath clipPathUnits=\"userSpaceOnUse\" id=\"clipPath1\"\n",
       "      ><path d=\"M0 0 L560 0 L560 420 L0 420 L0 0 Z\"\n",
       "      /></clipPath\n",
       "      ><font horiz-adv-x=\"50.0\" id=\"font1\"\n",
       "      ><font-face ascent=\"95.200005\" descent=\"21.3\" units-per-em=\"100\" style=\"font-style:normal; font-family:Helvetica Neue; font-weight:normal;\"\n",
       "        /><missing-glyph horiz-adv-x=\"50.0\" d=\"M40.9 66.6 L10.2 66.6 L10.2 4.7 L40.9 4.7 ZM46 71.2 L46 0.1 L5.1 0.1 L5.1 71.2 Z\"\n",
       "        /><glyph unicode=\"0\" horiz-adv-x=\"55.6\" d=\"M13.2 34.9 Q13.2 37.5 13.25 40.65 Q13.3 43.8 13.75 46.95 Q14.2 50.1 15.05 53.1 Q15.9 56.1 17.55 58.35 Q19.2 60.6 21.7 62 Q24.2 63.4 27.8 63.4 Q31.4 63.4 33.9 62 Q36.4 60.6 38.05 58.35 Q39.7 56.1 40.55 53.1 Q41.4 50.1 41.85 46.95 Q42.3 43.8 42.35 40.65 Q42.4 37.5 42.4 34.9 Q42.4 30.9 42.15 25.95 Q41.9 21 40.55 16.65 Q39.2 12.3 36.2 9.3 Q33.2 6.3 27.8 6.3 Q22.4 6.3 19.4 9.3 Q16.4 12.3 15.05 16.65 Q13.7 21 13.45 25.95 Q13.2 30.9 13.2 34.9 ZM4.2 34.8 Q4.2 30.9 4.4 26.7 Q4.6 22.5 5.4 18.5 Q6.2 14.5 7.7 10.95 Q9.2 7.4 11.8 4.7 Q14.4 2 18.35 0.45 Q22.3 -1.1 27.8 -1.1 Q33.4 -1.1 37.3 0.45 Q41.2 2 43.8 4.7 Q46.4 7.4 47.9 10.95 Q49.4 14.5 50.2 18.5 Q51 22.5 51.2 26.7 Q51.4 30.9 51.4 34.8 Q51.4 38.7 51.2 42.9 Q51 47.1 50.2 51.1 Q49.4 55.1 47.9 58.7 Q46.4 62.3 43.8 65 Q41.2 67.7 37.25 69.3 Q33.3 70.9 27.8 70.9 Q22.3 70.9 18.35 69.3 Q14.4 67.7 11.8 65 Q9.2 62.3 7.7 58.7 Q6.2 55.1 5.4 51.1 Q4.6 47.1 4.4 42.9 Q4.2 38.7 4.2 34.8 Z\"\n",
       "        /><glyph unicode=\"2\" horiz-adv-x=\"55.6\" d=\"M4.4 45.8 L12.9 45.8 Q12.8 49 13.55 52.15 Q14.3 55.3 16 57.8 Q17.7 60.3 20.35 61.85 Q23 63.4 26.7 63.4 Q29.5 63.4 32 62.5 Q34.5 61.6 36.35 59.9 Q38.2 58.2 39.3 55.85 Q40.4 53.5 40.4 50.6 Q40.4 46.9 39.25 44.1 Q38.1 41.3 35.85 38.9 Q33.6 36.5 30.2 34.15 Q26.8 31.8 22.3 29 Q18.6 26.8 15.2 24.3 Q11.8 21.8 9.1 18.5 Q6.4 15.2 4.65 10.75 Q2.9 6.3 2.4 0 L48.7 0 L48.7 7.5 L12.3 7.5 Q12.9 10.8 14.85 13.35 Q16.8 15.9 19.55 18.1 Q22.3 20.3 25.6 22.25 Q28.9 24.2 32.2 26.2 Q35.5 28.3 38.6 30.6 Q41.7 32.9 44.1 35.75 Q46.5 38.6 47.95 42.2 Q49.4 45.8 49.4 50.5 Q49.4 55.5 47.65 59.3 Q45.9 63.1 42.9 65.65 Q39.9 68.2 35.85 69.55 Q31.8 70.9 27.2 70.9 Q21.6 70.9 17.2 69 Q12.8 67.1 9.85 63.75 Q6.9 60.4 5.5 55.8 Q4.1 51.2 4.4 45.8 Z\"\n",
       "        /><glyph unicode=\"4\" horiz-adv-x=\"55.6\" d=\"M33.9 24.1 L10.1 24.1 L33.7 58.8 L33.9 58.8 ZM41.9 24.1 L41.9 70.9 L35.1 70.9 L2.8 24.8 L2.8 16.6 L33.9 16.6 L33.9 0 L41.9 0 L41.9 16.6 L51.5 16.6 L51.5 24.1 Z\"\n",
       "        /><glyph unicode=\"6\" horiz-adv-x=\"55.6\" d=\"M41.4 52.8 L49.9 52.8 Q49.1 61.6 43.9 66.25 Q38.7 70.9 29.9 70.9 Q22.3 70.9 17.3 67.7 Q12.3 64.5 9.3 59.2 Q6.3 53.9 5.05 47.05 Q3.8 40.2 3.8 32.9 Q3.8 27.3 4.65 21.3 Q5.5 15.3 8.1 10.3 Q10.7 5.3 15.5 2.1 Q20.3 -1.1 28.2 -1.1 Q34.9 -1.1 39.45 1.15 Q44 3.4 46.75 6.85 Q49.5 10.3 50.7 14.5 Q51.9 18.7 51.9 22.6 Q51.9 27.5 50.4 31.7 Q48.9 35.9 46.15 39 Q43.4 42.1 39.35 43.85 Q35.3 45.6 30.2 45.6 Q24.4 45.6 19.95 43.4 Q15.5 41.2 12.5 36.3 L12.3 36.5 Q12.4 40.6 13.1 45.3 Q13.8 50 15.65 54.05 Q17.5 58.1 20.8 60.75 Q24.1 63.4 29.5 63.4 Q34.6 63.4 37.7 60.5 Q40.8 57.6 41.4 52.8 ZM28.6 38.1 Q32.2 38.1 34.9 36.8 Q37.6 35.5 39.4 33.35 Q41.2 31.2 42.05 28.25 Q42.9 25.3 42.9 22 Q42.9 18.9 41.95 16.05 Q41 13.2 39.2 11 Q37.4 8.8 34.75 7.55 Q32.1 6.3 28.6 6.3 Q25.1 6.3 22.35 7.55 Q19.6 8.8 17.75 10.9 Q15.9 13 14.9 15.9 Q13.9 18.8 13.9 22.1 Q13.9 25.4 14.85 28.35 Q15.8 31.3 17.7 33.45 Q19.6 35.6 22.3 36.85 Q25 38.1 28.6 38.1 Z\"\n",
       "        /><glyph unicode=\"8\" horiz-adv-x=\"55.6\" d=\"M15.5 52.5 Q15.5 55.2 16.5 57.2 Q17.5 59.2 19.15 60.6 Q20.8 62 23.1 62.7 Q25.4 63.4 27.9 63.4 Q33.1 63.4 36.45 60.65 Q39.8 57.9 39.8 52.5 Q39.8 47.1 36.5 44.1 Q33.2 41.1 28.1 41.1 Q25.5 41.1 23.2 41.8 Q20.9 42.5 19.2 43.9 Q17.5 45.3 16.5 47.45 Q15.5 49.6 15.5 52.5 ZM6.5 52.8 Q6.5 48 9.2 43.95 Q11.9 39.9 16.4 38.1 Q10.4 36 7.2 31.35 Q4 26.7 4 20.4 Q4 15 5.85 10.95 Q7.7 6.9 10.95 4.2 Q14.2 1.5 18.6 0.2 Q23 -1.1 28.1 -1.1 Q33 -1.1 37.3 0.3 Q41.6 1.7 44.75 4.45 Q47.9 7.2 49.75 11.2 Q51.6 15.2 51.6 20.4 Q51.6 27 48.5 31.55 Q45.4 36.1 39 38.1 Q43.5 40.1 46.15 44.05 Q48.8 48 48.8 52.8 Q48.8 56.2 47.6 59.45 Q46.4 62.7 43.85 65.25 Q41.3 67.8 37.2 69.35 Q33.1 70.9 27.3 70.9 Q23.2 70.9 19.45 69.7 Q15.7 68.5 12.8 66.2 Q9.9 63.9 8.2 60.55 Q6.5 57.2 6.5 52.8 ZM13 20 Q13 23.1 14.15 25.6 Q15.3 28.1 17.35 29.9 Q19.4 31.7 22.15 32.65 Q24.9 33.6 28 33.6 Q31 33.6 33.65 32.55 Q36.3 31.5 38.3 29.7 Q40.3 27.9 41.45 25.45 Q42.6 23 42.6 20.1 Q42.6 17.1 41.55 14.6 Q40.5 12.1 38.55 10.25 Q36.6 8.4 33.95 7.35 Q31.3 6.3 28.1 6.3 Q21.5 6.3 17.25 9.95 Q13 13.6 13 20 Z\"\n",
       "        /><glyph unicode=\"1\" horiz-adv-x=\"55.6\" d=\"M35.6 0 L35.6 70.9 L29.1 70.9 Q28.4 66.9 26.5 64.3 Q24.6 61.7 21.85 60.2 Q19.1 58.7 15.7 58.15 Q12.3 57.6 8.7 57.6 L8.7 50.8 L27.1 50.8 L27.1 0 Z\"\n",
       "        /><glyph unicode=\"]\" horiz-adv-x=\"25.9\" d=\"M0 -12.9 L0 -19.7 L18.7 -19.7 L18.7 73.1 L0 73.1 L0 66.3 L10.7 66.3 L10.7 -12.9 Z\"\n",
       "        /><glyph unicode=\"s\" horiz-adv-x=\"50.0\" d=\"M11.6 16.3 L3.1 16.3 Q3.3 11.5 5.1 8.15 Q6.9 4.8 9.9 2.75 Q12.9 0.7 16.8 -0.2 Q20.7 -1.1 25 -1.1 Q28.9 -1.1 32.85 -0.35 Q36.8 0.4 39.95 2.3 Q43.1 4.2 45.05 7.3 Q47 10.4 47 15.1 Q47 18.8 45.55 21.3 Q44.1 23.8 41.75 25.45 Q39.4 27.1 36.35 28.1 Q33.3 29.1 30.1 29.8 Q27.1 30.5 24.1 31.15 Q21.1 31.8 18.7 32.75 Q16.3 33.7 14.75 35.15 Q13.2 36.6 13.2 38.8 Q13.2 40.8 14.2 42.05 Q15.2 43.3 16.8 44.05 Q18.4 44.8 20.35 45.1 Q22.3 45.4 24.2 45.4 Q26.3 45.4 28.35 44.95 Q30.4 44.5 32.1 43.5 Q33.8 42.5 34.9 40.85 Q36 39.2 36.2 36.7 L44.7 36.7 Q44.4 41.4 42.7 44.55 Q41 47.7 38.15 49.55 Q35.3 51.4 31.6 52.15 Q27.9 52.9 23.5 52.9 Q20.1 52.9 16.65 52.05 Q13.2 51.2 10.45 49.45 Q7.7 47.7 5.95 44.9 Q4.2 42.1 4.2 38.2 Q4.2 33.2 6.7 30.4 Q9.2 27.6 12.95 26.05 Q16.7 24.5 21.1 23.65 Q25.5 22.8 29.25 21.75 Q33 20.7 35.5 19 Q38 17.3 38 14 Q38 11.6 36.8 10.05 Q35.6 8.5 33.75 7.7 Q31.9 6.9 29.7 6.6 Q27.5 6.3 25.5 6.3 Q22.9 6.3 20.45 6.8 Q18 7.3 16.05 8.45 Q14.1 9.6 12.9 11.55 Q11.7 13.5 11.6 16.3 Z\"\n",
       "        /><glyph unicode=\"[\" horiz-adv-x=\"25.9\" d=\"M25.9 66.3 L25.9 73.1 L7.2 73.1 L7.2 -19.7 L25.9 -19.7 L25.9 -12.9 L15.2 -12.9 L15.2 66.3 Z\"\n",
       "        /><glyph unicode=\"t\" horiz-adv-x=\"31.5\" d=\"M18.2 51.7 L18.2 67.2 L9.7 67.2 L9.7 51.7 L0.9 51.7 L0.9 44.2 L9.7 44.2 L9.7 11.3 Q9.7 7.7 10.4 5.5 Q11.1 3.3 12.55 2.1 Q14 0.9 16.35 0.45 Q18.7 0 22 0 L28.5 0 L28.5 7.5 L24.6 7.5 Q22.6 7.5 21.35 7.65 Q20.1 7.8 19.4 8.3 Q18.7 8.8 18.45 9.7 Q18.2 10.6 18.2 12.1 L18.2 44.2 L28.5 44.2 L28.5 51.7 Z\"\n",
       "        /><glyph unicode=\" \" horiz-adv-x=\"27.8\" d=\"\"\n",
       "        /><glyph unicode=\"e\" horiz-adv-x=\"53.7\" d=\"M42.3 30.8 L12.6 30.8 Q12.8 33.8 13.9 36.45 Q15 39.1 16.9 41.1 Q18.8 43.1 21.45 44.25 Q24.1 45.4 27.4 45.4 Q30.6 45.4 33.25 44.25 Q35.9 43.1 37.85 41.15 Q39.8 39.2 40.95 36.5 Q42.1 33.8 42.3 30.8 ZM50.5 16.4 L42.1 16.4 Q41 11.3 37.55 8.8 Q34.1 6.3 28.7 6.3 Q24.5 6.3 21.4 7.7 Q18.3 9.1 16.3 11.45 Q14.3 13.8 13.4 16.85 Q12.5 19.9 12.6 23.3 L51.3 23.3 Q51.5 28 50.45 33.2 Q49.4 38.4 46.65 42.8 Q43.9 47.2 39.35 50.05 Q34.8 52.9 27.9 52.9 Q22.6 52.9 18.15 50.9 Q13.7 48.9 10.45 45.3 Q7.2 41.7 5.4 36.8 Q3.6 31.9 3.6 26 Q3.8 20.1 5.35 15.1 Q6.9 10.1 10 6.5 Q13.1 2.9 17.65 0.9 Q22.2 -1.1 28.4 -1.1 Q37.2 -1.1 43 3.3 Q48.8 7.7 50.5 16.4 Z\"\n",
       "        /><glyph unicode=\"m\" horiz-adv-x=\"85.3\" d=\"M6.4 51.7 L6.4 0 L14.9 0 L14.9 32.2 Q14.9 33.7 15.65 35.95 Q16.4 38.2 18.05 40.3 Q19.7 42.4 22.35 43.9 Q25 45.4 28.7 45.4 Q31.6 45.4 33.45 44.55 Q35.3 43.7 36.4 42.15 Q37.5 40.6 37.95 38.5 Q38.4 36.4 38.4 33.9 L38.4 0 L46.9 0 L46.9 32.2 Q46.9 38.2 50.5 41.8 Q54.1 45.4 60.4 45.4 Q63.5 45.4 65.45 44.5 Q67.4 43.6 68.5 42.05 Q69.6 40.5 70 38.4 Q70.4 36.3 70.4 33.9 L70.4 0 L78.9 0 L78.9 37.9 Q78.9 41.9 77.65 44.75 Q76.4 47.6 74.15 49.4 Q71.9 51.2 68.75 52.05 Q65.6 52.9 61.7 52.9 Q56.6 52.9 52.35 50.6 Q48.1 48.3 45.5 44.1 Q43.9 48.9 40 50.9 Q36.1 52.9 31.3 52.9 Q20.4 52.9 14.6 44.1 L14.4 44.1 L14.4 51.7 Z\"\n",
       "        /><glyph unicode=\"i\" horiz-adv-x=\"22.2\" d=\"M15.4 61 L15.4 71.4 L6.9 71.4 L6.9 61 ZM6.9 51.7 L6.9 0 L15.4 0 L15.4 51.7 Z\"\n",
       "        /><glyph unicode=\"T\" horiz-adv-x=\"57.4\" d=\"M24 63.4 L24 0 L33.5 0 L33.5 63.4 L57.3 63.4 L57.3 71.4 L0.2 71.4 L0.2 63.4 Z\"\n",
       "        /><glyph unicode=\".\" horiz-adv-x=\"27.8\" d=\"M8.3 11.1 L8.3 0 L19.4 0 L19.4 11.1 Z\"\n",
       "        /><glyph unicode=\"-\" horiz-adv-x=\"38.9\" d=\"M5 31.8 L5 23.8 L33.9 23.8 L33.9 31.8 Z\"\n",
       "        /><glyph unicode=\")\" horiz-adv-x=\"25.9\" d=\"M-0.9 -19.7 L5.5 -19.7 Q13.3 -9.4 17.25 2.55 Q21.2 14.5 21.2 26.3 Q21.2 32.9 20.1 38.9 Q19 44.9 16.95 50.65 Q14.9 56.4 12 61.95 Q9.1 67.5 5.5 73.1 L-0.9 73.1 Q6.1 61.6 9.15 50.25 Q12.2 38.9 12.2 26.3 Q12.2 14.1 9.2 2.85 Q6.2 -8.4 -0.9 -19.7 Z\"\n",
       "        /><glyph unicode=\"(\" horiz-adv-x=\"25.9\" d=\"M20.4 -19.7 L26.9 -19.7 Q19.8 -8.2 16.75 3.1 Q13.7 14.4 13.7 27 Q13.7 39.3 16.7 50.5 Q19.7 61.7 26.9 73.1 L20.4 73.1 Q12.6 62.8 8.65 50.8 Q4.7 38.8 4.7 27 Q4.7 20.4 5.8 14.4 Q6.9 8.4 8.95 2.7 Q11 -3 13.9 -8.55 Q16.8 -14.1 20.4 -19.7 Z\"\n",
       "        /><glyph unicode=\"x\" horiz-adv-x=\"51.8\" d=\"M20.3 27.2 L0.9 0 L11.2 0 L25.6 21.4 L40 0 L50.9 0 L30.9 27.9 L48.7 51.7 L38.5 51.7 L25.6 33.6 L13.2 51.7 L2.3 51.7 Z\"\n",
       "      /></font\n",
       "      ><font horiz-adv-x=\"50.0\" id=\"font2\"\n",
       "      ><font-face ascent=\"97.5\" descent=\"21.699999\" units-per-em=\"100\" style=\"font-style:normal; font-family:Helvetica Neue; font-weight:bold;\"\n",
       "        /><missing-glyph horiz-adv-x=\"50.0\" d=\"M39.1 60.7 L11.1 60.7 L11.1 9.5 L39.1 9.5 ZM48.2 69.8 L48.2 0.3 L1.7 0.3 L1.7 69.8 Z\"\n",
       "        /><glyph unicode=\"-\" horiz-adv-x=\"40.7\" d=\"M5.3 33.4 L5.3 21.2 L35.4 21.2 L35.4 33.4 Z\"\n",
       "        /><glyph unicode=\"f\" horiz-adv-x=\"33.3\" d=\"M8.5 42.2 L8.5 0 L22.7 0 L22.7 42.2 L32.5 42.2 L32.5 51.7 L22.7 51.7 L22.7 54.8 Q22.7 58 23.95 59.35 Q25.2 60.7 28.1 60.7 Q30.8 60.7 33.3 60.4 L33.3 71 Q31.5 71.1 29.6 71.25 Q27.7 71.4 25.8 71.4 Q17.1 71.4 12.8 67 Q8.5 62.6 8.5 55.7 L8.5 51.7 L0 51.7 L0 42.2 Z\"\n",
       "        /><glyph unicode=\"h\" horiz-adv-x=\"59.3\" d=\"M5.4 71.4 L5.4 0 L19.6 0 L19.6 27.1 Q19.6 35 22.2 38.45 Q24.8 41.9 30.6 41.9 Q35.7 41.9 37.7 38.75 Q39.7 35.6 39.7 29.2 L39.7 0 L53.9 0 L53.9 31.8 Q53.9 36.6 53.05 40.55 Q52.2 44.5 50.1 47.25 Q48 50 44.35 51.55 Q40.7 53.1 35 53.1 Q31 53.1 26.8 51.05 Q22.6 49 19.9 44.5 L19.6 44.5 L19.6 71.4 Z\"\n",
       "        /><glyph unicode=\"w\" horiz-adv-x=\"81.4\" d=\"M64.5 0 L80.8 51.7 L66.2 51.7 L56.7 16.7 L56.5 16.7 L47.7 51.7 L33.9 51.7 L25.3 16.6 L25.1 16.6 L15.6 51.7 L0.6 51.7 L17 0 L31.7 0 L40.5 34.7 L40.7 34.7 L49.9 0 Z\"\n",
       "        /><glyph unicode=\"d\" horiz-adv-x=\"61.1\" d=\"M42.1 26 Q42.1 22.8 41.5 19.8 Q40.9 16.8 39.5 14.45 Q38.1 12.1 35.75 10.7 Q33.4 9.3 29.9 9.3 Q26.6 9.3 24.25 10.75 Q21.9 12.2 20.35 14.55 Q18.8 16.9 18.1 19.9 Q17.4 22.9 17.4 25.9 Q17.4 29.1 18.05 32.05 Q18.7 35 20.15 37.3 Q21.6 39.6 24 41 Q26.4 42.4 29.9 42.4 Q33.4 42.4 35.7 41 Q38 39.6 39.45 37.35 Q40.9 35.1 41.5 32.15 Q42.1 29.2 42.1 26 ZM42.3 6.6 L42.3 0 L55.8 0 L55.8 71.4 L41.6 71.4 L41.6 45.4 L41.4 45.4 Q39 49.2 34.85 51.15 Q30.7 53.1 26.1 53.1 Q20.4 53.1 16.1 50.85 Q11.8 48.6 8.95 44.9 Q6.1 41.2 4.65 36.35 Q3.2 31.5 3.2 26.3 Q3.2 20.9 4.65 15.9 Q6.1 10.9 8.95 7.05 Q11.8 3.2 16.2 0.95 Q20.6 -1.3 26.4 -1.3 Q31.5 -1.3 35.55 0.55 Q39.6 2.4 42.1 6.6 Z\"\n",
       "        /><glyph unicode=\"u\" horiz-adv-x=\"59.3\" d=\"M53.9 0 L53.9 51.7 L39.7 51.7 L39.7 24.6 Q39.7 16.7 37.1 13.25 Q34.5 9.8 28.7 9.8 Q23.6 9.8 21.6 12.95 Q19.6 16.1 19.6 22.5 L19.6 51.7 L5.4 51.7 L5.4 19.9 Q5.4 15.1 6.25 11.15 Q7.1 7.2 9.2 4.45 Q11.3 1.7 14.95 0.2 Q18.6 -1.3 24.3 -1.3 Q28.8 -1.3 33.1 0.7 Q37.4 2.7 40.1 7.2 L40.4 7.2 L40.4 0 Z\"\n",
       "        /><glyph unicode=\"s\" horiz-adv-x=\"53.7\" d=\"M16.4 16.8 L2.9 16.8 Q3.1 11.6 5.25 8.15 Q7.4 4.7 10.75 2.6 Q14.1 0.5 18.4 -0.4 Q22.7 -1.3 27.2 -1.3 Q31.6 -1.3 35.85 -0.45 Q40.1 0.4 43.4 2.5 Q46.7 4.6 48.75 8.05 Q50.8 11.5 50.8 16.6 Q50.8 20.2 49.4 22.65 Q48 25.1 45.7 26.75 Q43.4 28.4 40.45 29.4 Q37.5 30.4 34.4 31.1 Q31.4 31.8 28.5 32.4 Q25.6 33 23.35 33.75 Q21.1 34.5 19.7 35.7 Q18.3 36.9 18.3 38.8 Q18.3 40.4 19.1 41.35 Q19.9 42.3 21.05 42.8 Q22.2 43.3 23.6 43.45 Q25 43.6 26.2 43.6 Q30 43.6 32.8 42.15 Q35.6 40.7 35.9 36.6 L49.4 36.6 Q49 41.4 46.95 44.55 Q44.9 47.7 41.8 49.6 Q38.7 51.5 34.75 52.3 Q30.8 53.1 26.6 53.1 Q22.4 53.1 18.4 52.35 Q14.4 51.6 11.2 49.75 Q8 47.9 6.05 44.7 Q4.1 41.5 4.1 36.5 Q4.1 33.1 5.5 30.75 Q6.9 28.4 9.2 26.85 Q11.5 25.3 14.45 24.35 Q17.4 23.4 20.5 22.7 Q28.1 21.1 32.35 19.5 Q36.6 17.9 36.6 14.7 Q36.6 12.8 35.7 11.55 Q34.8 10.3 33.45 9.55 Q32.1 8.8 30.45 8.45 Q28.8 8.1 27.3 8.1 Q25.2 8.1 23.25 8.6 Q21.3 9.1 19.8 10.15 Q18.3 11.2 17.35 12.85 Q16.4 14.5 16.4 16.8 Z\"\n",
       "        /><glyph unicode=\"o\" horiz-adv-x=\"61.1\" d=\"M18 25.8 Q18 28.9 18.6 31.9 Q19.2 34.9 20.65 37.2 Q22.1 39.5 24.5 40.95 Q26.9 42.4 30.5 42.4 Q34.1 42.4 36.55 40.95 Q39 39.5 40.45 37.2 Q41.9 34.9 42.5 31.9 Q43.1 28.9 43.1 25.8 Q43.1 22.7 42.5 19.75 Q41.9 16.8 40.45 14.45 Q39 12.1 36.55 10.7 Q34.1 9.3 30.5 9.3 Q26.9 9.3 24.5 10.7 Q22.1 12.1 20.65 14.45 Q19.2 16.8 18.6 19.75 Q18 22.7 18 25.8 ZM3.8 25.8 Q3.8 19.6 5.7 14.6 Q7.6 9.6 11.1 6.05 Q14.6 2.5 19.5 0.6 Q24.4 -1.3 30.5 -1.3 Q36.6 -1.3 41.55 0.6 Q46.5 2.5 50 6.05 Q53.5 9.6 55.4 14.6 Q57.3 19.6 57.3 25.8 Q57.3 32 55.4 37.05 Q53.5 42.1 50 45.65 Q46.5 49.2 41.55 51.15 Q36.6 53.1 30.5 53.1 Q24.4 53.1 19.5 51.15 Q14.6 49.2 11.1 45.65 Q7.6 42.1 5.7 37.05 Q3.8 32 3.8 25.8 Z\"\n",
       "        /><glyph unicode=\"c\" horiz-adv-x=\"57.4\" d=\"M40.6 33.5 L54.5 33.5 Q54.2 38.5 52.1 42.15 Q50 45.8 46.65 48.25 Q43.3 50.7 39.05 51.9 Q34.8 53.1 30.2 53.1 Q23.9 53.1 19 51 Q14.1 48.9 10.7 45.15 Q7.3 41.4 5.55 36.25 Q3.8 31.1 3.8 25.1 Q3.8 19.3 5.7 14.45 Q7.6 9.6 11 6.1 Q14.4 2.6 19.25 0.65 Q24.1 -1.3 29.9 -1.3 Q40.2 -1.3 46.8 4.1 Q53.4 9.5 54.8 19.8 L41.1 19.8 Q40.4 15 37.65 12.15 Q34.9 9.3 29.8 9.3 Q26.5 9.3 24.2 10.8 Q21.9 12.3 20.55 14.65 Q19.2 17 18.6 19.9 Q18 22.8 18 25.6 Q18 28.5 18.6 31.45 Q19.2 34.4 20.65 36.85 Q22.1 39.3 24.4 40.85 Q26.7 42.4 30.1 42.4 Q39.2 42.4 40.6 33.5 Z\"\n",
       "        /><glyph unicode=\"e\" horiz-adv-x=\"57.4\" d=\"M40.2 31.4 L17.1 31.4 Q17.2 32.9 17.75 34.8 Q18.3 36.7 19.65 38.4 Q21 40.1 23.25 41.25 Q25.5 42.4 28.9 42.4 Q34.1 42.4 36.65 39.6 Q39.2 36.8 40.2 31.4 ZM17.1 22.4 L54.4 22.4 Q54.8 28.4 53.4 33.9 Q52 39.4 48.85 43.7 Q45.7 48 40.8 50.55 Q35.9 53.1 29.3 53.1 Q23.4 53.1 18.55 51 Q13.7 48.9 10.2 45.25 Q6.7 41.6 4.8 36.6 Q2.9 31.6 2.9 25.8 Q2.9 19.8 4.75 14.8 Q6.6 9.8 10 6.2 Q13.4 2.6 18.3 0.65 Q23.2 -1.3 29.3 -1.3 Q38.1 -1.3 44.3 2.7 Q50.5 6.7 53.5 16 L41 16 Q40.3 13.6 37.2 11.45 Q34.1 9.3 29.8 9.3 Q23.8 9.3 20.6 12.4 Q17.4 15.5 17.1 22.4 Z\"\n",
       "        /><glyph unicode=\"r\" horiz-adv-x=\"38.9\" d=\"M5.4 51.7 L5.4 0 L19.6 0 L19.6 23.3 Q19.6 26.8 20.3 29.8 Q21 32.8 22.65 35.05 Q24.3 37.3 27 38.6 Q29.7 39.9 33.6 39.9 Q34.9 39.9 36.3 39.75 Q37.7 39.6 38.7 39.4 L38.7 52.6 Q37 53.1 35.6 53.1 Q32.9 53.1 30.4 52.3 Q27.9 51.5 25.7 50.05 Q23.5 48.6 21.8 46.55 Q20.1 44.5 19.1 42.1 L18.9 42.1 L18.9 51.7 Z\"\n",
       "        /><glyph unicode=\")\" horiz-adv-x=\"29.6\" d=\"M-0.6 -18.1 L11.2 -18.1 Q14.5 -13.4 17 -7.7 Q19.5 -2 21.15 4.05 Q22.8 10.1 23.6 16.25 Q24.4 22.4 24.4 28 Q24.4 39.8 20.95 51.3 Q17.5 62.8 11.2 73.1 L-0.5 73.1 Q5 62.2 7.6 50.6 Q10.2 39 10.2 27 Q10.2 15.2 7.55 3.85 Q4.9 -7.5 -0.6 -18.1 Z\"\n",
       "        /><glyph unicode=\"t\" horiz-adv-x=\"35.2\" d=\"M23.4 51.7 L23.4 67.2 L9.2 67.2 L9.2 51.7 L0.6 51.7 L0.6 42.2 L9.2 42.2 L9.2 11.7 Q9.2 7.8 10.5 5.4 Q11.8 3 14.05 1.7 Q16.3 0.4 19.25 -0.05 Q22.2 -0.5 25.5 -0.5 Q27.6 -0.5 29.8 -0.4 Q32 -0.3 33.8 0 L33.8 11 Q32.8 10.8 31.7 10.7 Q30.6 10.6 29.4 10.6 Q25.8 10.6 24.6 11.8 Q23.4 13 23.4 16.6 L23.4 42.2 L33.8 42.2 L33.8 51.7 Z\"\n",
       "        /><glyph unicode=\"(\" horiz-adv-x=\"29.6\" d=\"M30.3 73.1 L18.4 73.1 Q15.1 68.3 12.65 62.6 Q10.2 56.9 8.55 50.8 Q6.9 44.7 6.05 38.55 Q5.2 32.4 5.2 26.8 Q5.2 15 8.65 3.6 Q12.1 -7.8 18.4 -18.1 L30.2 -18.1 Q24.5 -7.2 21.95 4.3 Q19.4 15.8 19.4 27.8 Q19.4 39.6 22 51.05 Q24.6 62.5 30.3 73.1 Z\"\n",
       "        /><glyph unicode=\"x\" horiz-adv-x=\"53.7\" d=\"M18.6 27.2 L0 0 L15.9 0 L26.7 16.3 L37.5 0 L53.7 0 L34.6 27.5 L51.6 51.7 L35.9 51.7 L26.9 38.2 L17.8 51.7 L1.6 51.7 Z\"\n",
       "        /><glyph unicode=\"l\" horiz-adv-x=\"25.8\" d=\"M5.8 71.4 L5.8 0 L20 0 L20 71.4 Z\"\n",
       "        /><glyph unicode=\"a\" horiz-adv-x=\"57.4\" d=\"M4.8 35.8 Q5.1 40.8 7.3 44.1 Q9.5 47.4 12.9 49.4 Q16.3 51.4 20.55 52.25 Q24.8 53.1 29.1 53.1 Q33 53.1 37 52.55 Q41 52 44.3 50.4 Q47.6 48.8 49.7 45.95 Q51.8 43.1 51.8 38.4 L51.8 11.5 Q51.8 8 52.2 4.8 Q52.6 1.6 53.6 0 L39.2 0 Q38.8 1.2 38.55 2.45 Q38.3 3.7 38.2 5 Q34.8 1.5 30.2 0.1 Q25.6 -1.3 20.8 -1.3 Q17.1 -1.3 13.9 -0.4 Q10.7 0.5 8.3 2.4 Q5.9 4.3 4.55 7.2 Q3.2 10.1 3.2 14.1 Q3.2 18.5 4.75 21.35 Q6.3 24.2 8.75 25.9 Q11.2 27.6 14.35 28.45 Q17.5 29.3 20.7 29.8 Q23.9 30.3 27 30.6 Q30.1 30.9 32.5 31.5 Q34.9 32.1 36.3 33.25 Q37.7 34.4 37.6 36.6 Q37.6 38.9 36.85 40.25 Q36.1 41.6 34.85 42.35 Q33.6 43.1 31.95 43.35 Q30.3 43.6 28.4 43.6 Q24.2 43.6 21.8 41.8 Q19.4 40 19 35.8 ZM37.6 25.3 Q36.7 24.5 35.35 24.05 Q34 23.6 32.45 23.3 Q30.9 23 29.2 22.8 Q27.5 22.6 25.8 22.3 Q24.2 22 22.65 21.5 Q21.1 21 19.95 20.15 Q18.8 19.3 18.1 18 Q17.4 16.7 17.4 14.7 Q17.4 12.8 18.1 11.5 Q18.8 10.2 20 9.45 Q21.2 8.7 22.8 8.4 Q24.4 8.1 26.1 8.1 Q30.3 8.1 32.6 9.5 Q34.9 10.9 36 12.85 Q37.1 14.8 37.35 16.8 Q37.6 18.8 37.6 20 Z\"\n",
       "        /><glyph unicode=\"n\" horiz-adv-x=\"59.3\" d=\"M5.4 51.7 L5.4 0 L19.6 0 L19.6 27.1 Q19.6 35 22.2 38.45 Q24.8 41.9 30.6 41.9 Q35.7 41.9 37.7 38.75 Q39.7 35.6 39.7 29.2 L39.7 0 L53.9 0 L53.9 31.8 Q53.9 36.6 53.05 40.55 Q52.2 44.5 50.1 47.25 Q48 50 44.35 51.55 Q40.7 53.1 35 53.1 Q30.5 53.1 26.2 51.05 Q21.9 49 19.2 44.5 L18.9 44.5 L18.9 51.7 Z\"\n",
       "        /><glyph unicode=\"S\" horiz-adv-x=\"64.9\" d=\"M17.6 23.7 L2.4 23.7 Q2.3 17.1 4.8 12.3 Q7.3 7.5 11.55 4.4 Q15.8 1.3 21.35 -0.15 Q26.9 -1.6 32.8 -1.6 Q40.1 -1.6 45.65 0.1 Q51.2 1.8 54.95 4.85 Q58.7 7.9 60.6 12.1 Q62.5 16.3 62.5 21.2 Q62.5 27.2 59.95 31.05 Q57.4 34.9 53.9 37.2 Q50.4 39.5 46.85 40.55 Q43.3 41.6 41.3 42 Q34.6 43.7 30.45 44.8 Q26.3 45.9 23.95 47 Q21.6 48.1 20.8 49.4 Q20 50.7 20 52.8 Q20 55.1 21 56.6 Q22 58.1 23.55 59.1 Q25.1 60.1 27 60.5 Q28.9 60.9 30.8 60.9 Q33.7 60.9 36.15 60.4 Q38.6 59.9 40.5 58.7 Q42.4 57.5 43.55 55.4 Q44.7 53.3 44.9 50.1 L60.1 50.1 Q60.1 56.3 57.75 60.65 Q55.4 65 51.4 67.8 Q47.4 70.6 42.25 71.85 Q37.1 73.1 31.5 73.1 Q26.7 73.1 21.9 71.8 Q17.1 70.5 13.3 67.8 Q9.5 65.1 7.15 61.05 Q4.8 57 4.8 51.5 Q4.8 46.6 6.65 43.15 Q8.5 39.7 11.5 37.4 Q14.5 35.1 18.3 33.65 Q22.1 32.2 26.1 31.2 Q30 30.1 33.8 29.2 Q37.6 28.3 40.6 27.1 Q43.6 25.9 45.45 24.1 Q47.3 22.3 47.3 19.4 Q47.3 16.7 45.9 14.95 Q44.5 13.2 42.4 12.2 Q40.3 11.2 37.9 10.85 Q35.5 10.5 33.4 10.5 Q30.3 10.5 27.4 11.25 Q24.5 12 22.35 13.55 Q20.2 15.1 18.9 17.6 Q17.6 20.1 17.6 23.7 Z\"\n",
       "        /><glyph unicode=\":\" horiz-adv-x=\"27.8\" d=\"M21.8 35.4 L21.8 50.8 L6.1 50.8 L6.1 35.4 ZM6.1 15.4 L6.1 0 L21.8 0 L21.8 15.4 Z\"\n",
       "        /><glyph unicode=\"4\" horiz-adv-x=\"55.6\" d=\"M31.2 52.2 L31.2 27.9 L12.8 27.9 L30.9 52.2 ZM31.2 16.2 L31.2 0 L44.7 0 L44.7 16.2 L54 16.2 L54 27.9 L44.7 27.9 L44.7 70 L32 70 L1.6 29.2 L1.6 16.2 Z\"\n",
       "        /><glyph unicode=\" \" horiz-adv-x=\"27.8\" d=\"\"\n",
       "        /><glyph unicode=\"g\" horiz-adv-x=\"61.1\" d=\"M29.5 12.2 Q26.2 12.2 24 13.6 Q21.8 15 20.45 17.2 Q19.1 19.4 18.55 22.15 Q18 24.9 18 27.7 Q18 30.6 18.65 33.25 Q19.3 35.9 20.75 37.95 Q22.2 40 24.35 41.2 Q26.5 42.4 29.5 42.4 Q33 42.4 35.3 41.1 Q37.6 39.8 39 37.6 Q40.4 35.4 41 32.55 Q41.6 29.7 41.6 26.5 Q41.6 23.7 40.85 21.15 Q40.1 18.6 38.6 16.6 Q37.1 14.6 34.8 13.4 Q32.5 12.2 29.5 12.2 ZM55.1 3.3 L55.1 51.7 L41.6 51.7 L41.6 44.8 L41.4 44.8 Q38.8 49.3 34.95 51.2 Q31.1 53.1 26 53.1 Q20.6 53.1 16.45 51 Q12.3 48.9 9.5 45.35 Q6.7 41.8 5.25 37.15 Q3.8 32.5 3.8 27.5 Q3.8 22.2 5.05 17.45 Q6.3 12.7 9 9.15 Q11.7 5.6 15.9 3.55 Q20.1 1.5 25.9 1.5 Q30.6 1.5 34.85 3.45 Q39.1 5.4 41.4 9.5 L41.6 9.5 L41.6 2.7 Q41.7 -2.8 38.95 -6.4 Q36.2 -10 30.2 -10 Q26.4 -10 23.5 -8.45 Q20.6 -6.9 19.6 -2.9 L5.5 -2.9 Q5.8 -7.3 7.95 -10.45 Q10.1 -13.6 13.35 -15.6 Q16.6 -17.6 20.55 -18.55 Q24.5 -19.5 28.3 -19.5 Q37.2 -19.5 42.5 -17.1 Q47.8 -14.7 50.6 -11.25 Q53.4 -7.8 54.25 -3.8 Q55.1 0.2 55.1 3.3 Z\"\n",
       "        /><glyph unicode=\"i\" horiz-adv-x=\"25.8\" d=\"M20 59.7 L20 71.4 L5.8 71.4 L5.8 59.7 ZM5.8 51.7 L5.8 0 L20 0 L20 51.7 Z\"\n",
       "        /><glyph unicode=\"F\" horiz-adv-x=\"59.3\" d=\"M6.9 71.4 L6.9 0 L22.6 0 L22.6 29.5 L52.5 29.5 L52.5 41.7 L22.6 41.7 L22.6 58.2 L57.1 58.2 L57.1 71.4 Z\"\n",
       "      /></font\n",
       "    ></defs\n",
       "    ><g style=\"fill:white; stroke:white;\"\n",
       "    ><rect x=\"0\" y=\"0\" width=\"560\" style=\"clip-path:url(#clipPath1); stroke:none;\" height=\"420\"\n",
       "    /></g\n",
       "    ><g style=\"fill:white; text-rendering:optimizeSpeed; color-rendering:optimizeSpeed; image-rendering:optimizeSpeed; shape-rendering:crispEdges; stroke:white; color-interpolation:sRGB;\"\n",
       "    ><rect x=\"0\" width=\"560\" height=\"420\" y=\"0\" style=\"stroke:none;\"\n",
       "      /><path style=\"stroke:none;\" d=\"M73 373 L507 373 L507 31 L73 31 Z\"\n",
       "    /></g\n",
       "    ><g style=\"fill:rgb(38,38,38); text-rendering:geometricPrecision; image-rendering:optimizeQuality; color-rendering:optimizeQuality; stroke-linejoin:round; stroke:rgb(38,38,38); color-interpolation:linearRGB; stroke-width:0.5;\"\n",
       "    ><line y2=\"373\" style=\"fill:none;\" x1=\"73\" x2=\"507\" y1=\"373\"\n",
       "      /><line y2=\"31\" style=\"fill:none;\" x1=\"73\" x2=\"507\" y1=\"31\"\n",
       "      /><line y2=\"368.66\" style=\"fill:none;\" x1=\"73\" x2=\"73\" y1=\"373\"\n",
       "      /><line y2=\"368.66\" style=\"fill:none;\" x1=\"159.8\" x2=\"159.8\" y1=\"373\"\n",
       "      /><line y2=\"368.66\" style=\"fill:none;\" x1=\"246.6\" x2=\"246.6\" y1=\"373\"\n",
       "      /><line y2=\"368.66\" style=\"fill:none;\" x1=\"333.4\" x2=\"333.4\" y1=\"373\"\n",
       "      /><line y2=\"368.66\" style=\"fill:none;\" x1=\"420.2\" x2=\"420.2\" y1=\"373\"\n",
       "      /><line y2=\"368.66\" style=\"fill:none;\" x1=\"507\" x2=\"507\" y1=\"373\"\n",
       "      /><line y2=\"35.34\" style=\"fill:none;\" x1=\"73\" x2=\"73\" y1=\"31\"\n",
       "      /><line y2=\"35.34\" style=\"fill:none;\" x1=\"159.8\" x2=\"159.8\" y1=\"31\"\n",
       "      /><line y2=\"35.34\" style=\"fill:none;\" x1=\"246.6\" x2=\"246.6\" y1=\"31\"\n",
       "      /><line y2=\"35.34\" style=\"fill:none;\" x1=\"333.4\" x2=\"333.4\" y1=\"31\"\n",
       "      /><line y2=\"35.34\" style=\"fill:none;\" x1=\"420.2\" x2=\"420.2\" y1=\"31\"\n",
       "      /><line y2=\"35.34\" style=\"fill:none;\" x1=\"507\" x2=\"507\" y1=\"31\"\n",
       "    /></g\n",
       "    ><g transform=\"translate(73,378.2)\" style=\"font-size:16px; fill:rgb(38,38,38); text-rendering:geometricPrecision; image-rendering:optimizeQuality; color-rendering:optimizeQuality; font-family:'Helvetica Neue'; stroke:rgb(38,38,38); color-interpolation:linearRGB;\"\n",
       "    ><text x=\"-4.5\" xml:space=\"preserve\" y=\"16\" style=\"stroke:none;\"\n",
       "      >0</text\n",
       "    ></g\n",
       "    ><g transform=\"translate(159.8,378.2)\" style=\"font-size:16px; fill:rgb(38,38,38); text-rendering:geometricPrecision; image-rendering:optimizeQuality; color-rendering:optimizeQuality; font-family:'Helvetica Neue'; stroke:rgb(38,38,38); color-interpolation:linearRGB;\"\n",
       "    ><text x=\"-4.5\" xml:space=\"preserve\" y=\"16\" style=\"stroke:none;\"\n",
       "      >2</text\n",
       "    ></g\n",
       "    ><g transform=\"translate(246.6,378.2)\" style=\"font-size:16px; fill:rgb(38,38,38); text-rendering:geometricPrecision; image-rendering:optimizeQuality; color-rendering:optimizeQuality; font-family:'Helvetica Neue'; stroke:rgb(38,38,38); color-interpolation:linearRGB;\"\n",
       "    ><text x=\"-4.5\" xml:space=\"preserve\" y=\"16\" style=\"stroke:none;\"\n",
       "      >4</text\n",
       "    ></g\n",
       "    ><g transform=\"translate(333.4,378.2)\" style=\"font-size:16px; fill:rgb(38,38,38); text-rendering:geometricPrecision; image-rendering:optimizeQuality; color-rendering:optimizeQuality; font-family:'Helvetica Neue'; stroke:rgb(38,38,38); color-interpolation:linearRGB;\"\n",
       "    ><text x=\"-4.5\" xml:space=\"preserve\" y=\"16\" style=\"stroke:none;\"\n",
       "      >6</text\n",
       "    ></g\n",
       "    ><g transform=\"translate(420.2,378.2)\" style=\"font-size:16px; fill:rgb(38,38,38); text-rendering:geometricPrecision; image-rendering:optimizeQuality; color-rendering:optimizeQuality; font-family:'Helvetica Neue'; stroke:rgb(38,38,38); color-interpolation:linearRGB;\"\n",
       "    ><text x=\"-4.5\" xml:space=\"preserve\" y=\"16\" style=\"stroke:none;\"\n",
       "      >8</text\n",
       "    ></g\n",
       "    ><g transform=\"translate(507,378.2)\" style=\"font-size:16px; fill:rgb(38,38,38); text-rendering:geometricPrecision; image-rendering:optimizeQuality; color-rendering:optimizeQuality; font-family:'Helvetica Neue'; stroke:rgb(38,38,38); color-interpolation:linearRGB;\"\n",
       "    ><text x=\"-9\" xml:space=\"preserve\" y=\"16\" style=\"stroke:none;\"\n",
       "      >10</text\n",
       "    ></g\n",
       "    ><g transform=\"translate(290.0002,399.2)\" style=\"font-size:17.6px; fill:rgb(38,38,38); text-rendering:geometricPrecision; image-rendering:optimizeQuality; color-rendering:optimizeQuality; font-family:'Helvetica Neue'; stroke:rgb(38,38,38); color-interpolation:linearRGB;\"\n",
       "    ><text x=\"-36\" xml:space=\"preserve\" y=\"17\" style=\"stroke:none;\"\n",
       "      >Time t [s]</text\n",
       "    ></g\n",
       "    ><g style=\"fill:rgb(38,38,38); text-rendering:geometricPrecision; image-rendering:optimizeQuality; color-rendering:optimizeQuality; stroke-linejoin:round; stroke:rgb(38,38,38); color-interpolation:linearRGB; stroke-width:0.5;\"\n",
       "    ><line y2=\"31\" style=\"fill:none;\" x1=\"73\" x2=\"73\" y1=\"373\"\n",
       "      /><line y2=\"31\" style=\"fill:none;\" x1=\"507\" x2=\"507\" y1=\"373\"\n",
       "      /><line y2=\"373\" style=\"fill:none;\" x1=\"73\" x2=\"77.34\" y1=\"373\"\n",
       "      /><line y2=\"316\" style=\"fill:none;\" x1=\"73\" x2=\"77.34\" y1=\"316\"\n",
       "      /><line y2=\"259\" style=\"fill:none;\" x1=\"73\" x2=\"77.34\" y1=\"259\"\n",
       "      /><line y2=\"202\" style=\"fill:none;\" x1=\"73\" x2=\"77.34\" y1=\"202\"\n",
       "      /><line y2=\"145\" style=\"fill:none;\" x1=\"73\" x2=\"77.34\" y1=\"145\"\n",
       "      /><line y2=\"88\" style=\"fill:none;\" x1=\"73\" x2=\"77.34\" y1=\"88\"\n",
       "      /><line y2=\"31\" style=\"fill:none;\" x1=\"73\" x2=\"77.34\" y1=\"31\"\n",
       "      /><line y2=\"373\" style=\"fill:none;\" x1=\"507\" x2=\"502.66\" y1=\"373\"\n",
       "      /><line y2=\"316\" style=\"fill:none;\" x1=\"507\" x2=\"502.66\" y1=\"316\"\n",
       "      /><line y2=\"259\" style=\"fill:none;\" x1=\"507\" x2=\"502.66\" y1=\"259\"\n",
       "      /><line y2=\"202\" style=\"fill:none;\" x1=\"507\" x2=\"502.66\" y1=\"202\"\n",
       "      /><line y2=\"145\" style=\"fill:none;\" x1=\"507\" x2=\"502.66\" y1=\"145\"\n",
       "      /><line y2=\"88\" style=\"fill:none;\" x1=\"507\" x2=\"502.66\" y1=\"88\"\n",
       "      /><line y2=\"31\" style=\"fill:none;\" x1=\"507\" x2=\"502.66\" y1=\"31\"\n",
       "    /></g\n",
       "    ><g transform=\"translate(67.8,373)\" style=\"font-size:16px; fill:rgb(38,38,38); text-rendering:geometricPrecision; image-rendering:optimizeQuality; color-rendering:optimizeQuality; font-family:'Helvetica Neue'; stroke:rgb(38,38,38); color-interpolation:linearRGB;\"\n",
       "    ><text x=\"-29\" xml:space=\"preserve\" y=\"6\" style=\"stroke:none;\"\n",
       "      >-0.4</text\n",
       "    ></g\n",
       "    ><g transform=\"translate(67.8,316)\" style=\"font-size:16px; fill:rgb(38,38,38); text-rendering:geometricPrecision; image-rendering:optimizeQuality; color-rendering:optimizeQuality; font-family:'Helvetica Neue'; stroke:rgb(38,38,38); color-interpolation:linearRGB;\"\n",
       "    ><text x=\"-29\" xml:space=\"preserve\" y=\"6\" style=\"stroke:none;\"\n",
       "      >-0.2</text\n",
       "    ></g\n",
       "    ><g transform=\"translate(67.8,259)\" style=\"font-size:16px; fill:rgb(38,38,38); text-rendering:geometricPrecision; image-rendering:optimizeQuality; color-rendering:optimizeQuality; font-family:'Helvetica Neue'; stroke:rgb(38,38,38); color-interpolation:linearRGB;\"\n",
       "    ><text x=\"-9\" xml:space=\"preserve\" y=\"6\" style=\"stroke:none;\"\n",
       "      >0</text\n",
       "    ></g\n",
       "    ><g transform=\"translate(67.8,202)\" style=\"font-size:16px; fill:rgb(38,38,38); text-rendering:geometricPrecision; image-rendering:optimizeQuality; color-rendering:optimizeQuality; font-family:'Helvetica Neue'; stroke:rgb(38,38,38); color-interpolation:linearRGB;\"\n",
       "    ><text x=\"-23\" xml:space=\"preserve\" y=\"6\" style=\"stroke:none;\"\n",
       "      >0.2</text\n",
       "    ></g\n",
       "    ><g transform=\"translate(67.8,145)\" style=\"font-size:16px; fill:rgb(38,38,38); text-rendering:geometricPrecision; image-rendering:optimizeQuality; color-rendering:optimizeQuality; font-family:'Helvetica Neue'; stroke:rgb(38,38,38); color-interpolation:linearRGB;\"\n",
       "    ><text x=\"-23\" xml:space=\"preserve\" y=\"6\" style=\"stroke:none;\"\n",
       "      >0.4</text\n",
       "    ></g\n",
       "    ><g transform=\"translate(67.8,88)\" style=\"font-size:16px; fill:rgb(38,38,38); text-rendering:geometricPrecision; image-rendering:optimizeQuality; color-rendering:optimizeQuality; font-family:'Helvetica Neue'; stroke:rgb(38,38,38); color-interpolation:linearRGB;\"\n",
       "    ><text x=\"-23\" xml:space=\"preserve\" y=\"6\" style=\"stroke:none;\"\n",
       "      >0.6</text\n",
       "    ></g\n",
       "    ><g transform=\"translate(67.8,31)\" style=\"font-size:16px; fill:rgb(38,38,38); text-rendering:geometricPrecision; image-rendering:optimizeQuality; color-rendering:optimizeQuality; font-family:'Helvetica Neue'; stroke:rgb(38,38,38); color-interpolation:linearRGB;\"\n",
       "    ><text x=\"-23\" xml:space=\"preserve\" y=\"6\" style=\"stroke:none;\"\n",
       "      >0.8</text\n",
       "    ></g\n",
       "    ><g transform=\"translate(35.8,201.9998) rotate(-90)\" style=\"font-size:17.6px; fill:rgb(38,38,38); text-rendering:geometricPrecision; image-rendering:optimizeQuality; color-rendering:optimizeQuality; font-family:'Helvetica Neue'; stroke:rgb(38,38,38); color-interpolation:linearRGB;\"\n",
       "    ><text x=\"-12\" xml:space=\"preserve\" y=\"-4\" style=\"stroke:none;\"\n",
       "      >x(t)</text\n",
       "    ></g\n",
       "    ><g transform=\"translate(290.0003,26.6)\" style=\"font-size:17.6px; text-rendering:geometricPrecision; image-rendering:optimizeQuality; color-rendering:optimizeQuality; font-family:'Helvetica Neue'; color-interpolation:linearRGB; font-weight:bold;\"\n",
       "    ><text x=\"-215.5\" xml:space=\"preserve\" y=\"-4\" style=\"stroke:none;\"\n",
       "      >Fig 4: Signal x(t) reconstructed with first-order-hold</text\n",
       "    ></g\n",
       "    ><g style=\"stroke-linecap:butt; fill:blue; text-rendering:geometricPrecision; image-rendering:optimizeQuality; color-rendering:optimizeQuality; stroke-linejoin:round; stroke:blue; color-interpolation:linearRGB; stroke-width:0.5;\"\n",
       "    ><path d=\"M73 259 L141.1726 72.9927 L209.3451 242.2129 L277.5177 329.9648 L345.6902 271.9458 L413.8628 232.5161 L482.0354 251.5654\" style=\"fill:none; fill-rule:evenodd;\"\n",
       "      /><path d=\"M0 -2.75 C1.5188 -2.75 2.75 -1.5188 2.75 0 L2.75 0 C2.75 1.5188 1.5188 2.75 -0 2.75 C-1.5188 2.75 -2.75 1.5188 -2.75 -0 C-2.75 -1.5188 -1.5188 -2.75 0 -2.75 ZM0 -3.25 C-1.7949 -3.25 -3.25 -1.7949 -3.25 -0 C-3.25 1.7949 -1.7949 3.25 -0 3.25 C1.7949 3.25 3.25 1.7949 3.25 0 L3.25 0 C3.25 -1.7949 1.7949 -3.25 0 -3.25 Z\" style=\"stroke:none;\" transform=\"translate(73,259)\"\n",
       "      /><path d=\"M0 -2.75 C1.5188 -2.75 2.75 -1.5188 2.75 0 L2.75 0 C2.75 1.5188 1.5188 2.75 -0 2.75 C-1.5188 2.75 -2.75 1.5188 -2.75 -0 C-2.75 -1.5188 -1.5188 -2.75 0 -2.75 ZM0 -3.25 C-1.7949 -3.25 -3.25 -1.7949 -3.25 -0 C-3.25 1.7949 -1.7949 3.25 -0 3.25 C1.7949 3.25 3.25 1.7949 3.25 0 L3.25 0 C3.25 -1.7949 1.7949 -3.25 0 -3.25 Z\" style=\"stroke:none;\" transform=\"translate(141.1726,72.9927)\"\n",
       "      /><path d=\"M0 -2.75 C1.5188 -2.75 2.75 -1.5188 2.75 0 L2.75 0 C2.75 1.5188 1.5188 2.75 -0 2.75 C-1.5188 2.75 -2.75 1.5188 -2.75 -0 C-2.75 -1.5188 -1.5188 -2.75 0 -2.75 ZM0 -3.25 C-1.7949 -3.25 -3.25 -1.7949 -3.25 -0 C-3.25 1.7949 -1.7949 3.25 -0 3.25 C1.7949 3.25 3.25 1.7949 3.25 0 L3.25 0 C3.25 -1.7949 1.7949 -3.25 0 -3.25 Z\" style=\"stroke:none;\" transform=\"translate(209.3451,242.2129)\"\n",
       "      /><path d=\"M0 -2.75 C1.5188 -2.75 2.75 -1.5188 2.75 0 L2.75 0 C2.75 1.5188 1.5188 2.75 -0 2.75 C-1.5188 2.75 -2.75 1.5188 -2.75 -0 C-2.75 -1.5188 -1.5188 -2.75 0 -2.75 ZM0 -3.25 C-1.7949 -3.25 -3.25 -1.7949 -3.25 -0 C-3.25 1.7949 -1.7949 3.25 -0 3.25 C1.7949 3.25 3.25 1.7949 3.25 0 L3.25 0 C3.25 -1.7949 1.7949 -3.25 0 -3.25 Z\" style=\"stroke:none;\" transform=\"translate(277.5177,329.9648)\"\n",
       "      /><path d=\"M0 -2.75 C1.5188 -2.75 2.75 -1.5188 2.75 0 L2.75 0 C2.75 1.5188 1.5188 2.75 -0 2.75 C-1.5188 2.75 -2.75 1.5188 -2.75 -0 C-2.75 -1.5188 -1.5188 -2.75 0 -2.75 ZM0 -3.25 C-1.7949 -3.25 -3.25 -1.7949 -3.25 -0 C-3.25 1.7949 -1.7949 3.25 -0 3.25 C1.7949 3.25 3.25 1.7949 3.25 0 L3.25 0 C3.25 -1.7949 1.7949 -3.25 0 -3.25 Z\" style=\"stroke:none;\" transform=\"translate(345.6902,271.9458)\"\n",
       "      /><path d=\"M0 -2.75 C1.5188 -2.75 2.75 -1.5188 2.75 0 L2.75 0 C2.75 1.5188 1.5188 2.75 -0 2.75 C-1.5188 2.75 -2.75 1.5188 -2.75 -0 C-2.75 -1.5188 -1.5188 -2.75 0 -2.75 ZM0 -3.25 C-1.7949 -3.25 -3.25 -1.7949 -3.25 -0 C-3.25 1.7949 -1.7949 3.25 -0 3.25 C1.7949 3.25 3.25 1.7949 3.25 0 L3.25 0 C3.25 -1.7949 1.7949 -3.25 0 -3.25 Z\" style=\"stroke:none;\" transform=\"translate(413.8628,232.5161)\"\n",
       "      /><path d=\"M0 -2.75 C1.5188 -2.75 2.75 -1.5188 2.75 0 L2.75 0 C2.75 1.5188 1.5188 2.75 -0 2.75 C-1.5188 2.75 -2.75 1.5188 -2.75 -0 C-2.75 -1.5188 -1.5188 -2.75 0 -2.75 ZM0 -3.25 C-1.7949 -3.25 -3.25 -1.7949 -3.25 -0 C-3.25 1.7949 -1.7949 3.25 -0 3.25 C1.7949 3.25 3.25 1.7949 3.25 0 L3.25 0 C3.25 -1.7949 1.7949 -3.25 0 -3.25 Z\" style=\"stroke:none;\" transform=\"translate(482.0354,251.5654)\"\n",
       "    /></g\n",
       "    ><g style=\"stroke-linecap:butt; fill:red; text-rendering:geometricPrecision; image-rendering:optimizeQuality; color-rendering:optimizeQuality; stroke-linejoin:bevel; stroke-dasharray:1,3; stroke:red; color-interpolation:linearRGB; stroke-width:0.5; stroke-miterlimit:1;\"\n",
       "    ><path d=\"M73 259 L77.1317 232.6682 L81.2633 208.0301 L85.395 185.2086 L89.5267 164.3036 L93.6583 145.3928 L97.79 128.532 L101.9217 113.7556 L106.0534 101.0782 L110.185 90.4946 L114.3167 81.9819 L118.4484 75.5 L122.58 70.9932 L126.7117 68.3915 L130.8434 67.612 L134.9751 68.5605 L139.1067 71.1327 L143.2384 75.2157 L147.3701 80.6898 L151.5017 87.4295 L155.6334 95.3053 L159.7651 104.1847 L163.8967 113.9339 L168.0284 124.4187 L172.1601 135.5061 L176.2918 147.0649 L180.4234 158.9673 L184.5551 171.0894 L188.6868 183.3123 L192.8184 195.5228 L196.9501 207.6142 L201.0818 219.4866 L205.2135 231.0477 L209.3451 242.2129 L213.4768 252.906 L217.6085 263.0591 L221.7401 272.6128 L225.8718 281.5162 L230.0035 289.7271 L234.1351 297.2117 L238.2668 303.9444 L242.3985 309.9077 L246.5302 315.0918 L250.6618 319.4944 L254.7935 323.12 L258.9252 325.9799 L263.0569 328.0915 L267.1885 329.4776 L271.3202 330.1665 L275.4518 330.1906 L279.5835 329.5868 L283.7152 328.3952 L287.8469 326.6588 L291.9785 324.4234 L296.1102 321.7361 L300.2419 318.6458 L304.3735 315.2021 L308.5052 311.4549 L312.6369 307.4539 L316.7686 303.2486 L320.9002 298.8873 L325.0319 294.417 L329.1636 289.8831 L333.2952 285.3291 L337.4269 280.7962 L341.5586 276.3231 L345.6902 271.9458 L349.8219 267.6977 L353.9536 263.6088 L358.0853 259.7063 L362.2169 256.0143 L366.3486 252.5536 L370.4803 249.3417 L374.6119 246.3932 L378.7436 243.7193 L382.8753 241.3284 L387.007 239.2258 L391.1386 237.414 L395.2703 235.8928 L399.4019 234.6594 L403.5336 233.7088 L407.6653 233.0336 L411.797 232.6244 L415.9286 232.4701 L420.0603 232.5579 L424.192 232.8736 L428.3236 233.4017 L432.4554 234.1258 L436.587 235.0287 L440.7187 236.0925 L444.8503 237.2988 L448.982 238.6292 L453.1137 240.065 L457.2454 241.5878 L461.377 243.1793 L465.5087 244.8217 L469.6404 246.4978 L473.772 248.1908 L477.9037 249.885 L482.0354 251.5654\" style=\"fill:none; fill-rule:evenodd;\"\n",
       "    /></g\n",
       "  ></g\n",
       "></svg\n",
       ">\n"
      ]
     },
     "metadata": {},
     "output_type": "display_data"
    }
   ],
   "source": [
    "plot(td,xs,'bo-',tc,xc,'r:')\n",
    "title('Fig 4: Signal x(t) reconstructed with first-order-hold')\n",
    "ylabel('x(t)')\n",
    "xlabel('Time t [s]')"
   ]
  },
  {
   "cell_type": "markdown",
   "metadata": {
    "slideshow": {
     "slide_type": "slide"
    }
   },
   "source": [
    "## Aliasing\n",
    "\n",
    "* Aliasing Occurs when the sampling frequency is too low to ovoid overlapping between the spectra.\n",
    "\n",
    "* When aliasing occours, we have violated the sampling theorem: that is $\\omega_s < 2\\omega_m$.\n",
    "\n",
    "* When aliasing occurs, the original signal cannot be recovered by lowpass filtering."
   ]
  },
  {
   "cell_type": "markdown",
   "metadata": {
    "slideshow": {
     "slide_type": "subslide"
    }
   },
   "source": [
    "### An Aliased Signal\n",
    "\n",
    "![An aliased signal](./pictures/aliasing.png)"
   ]
  },
  {
   "cell_type": "markdown",
   "metadata": {
    "slideshow": {
     "slide_type": "subslide"
    }
   },
   "source": [
    "### In Class Demo 4"
   ]
  },
  {
   "cell_type": "markdown",
   "metadata": {
    "slideshow": {
     "slide_type": "subslide"
    }
   },
   "source": [
    "#### Demo 4.1\n",
    "\n",
    "We use the recording made at the start and run it through a script that effectively aliases the original signal be reducing the sampling frequency to less than half the original sampling frequency.\n",
    "\n",
    "Here's the script: [aliaseg1.mlx](https://cpjobling.github.io/eg-247-textbook/dt_systems/1/matlab/aliaseg1.mlx) that I'll be using. (Also available as an m-file [aliaseg1.m](https://cpjobling.github.io/eg-247-textbook/dt_systems/1/matlab/aliaseg1.m))"
   ]
  },
  {
   "cell_type": "code",
   "execution_count": 74,
   "metadata": {
    "slideshow": {
     "slide_type": "fragment"
    }
   },
   "outputs": [],
   "source": [
    "open aliaseg1"
   ]
  },
  {
   "cell_type": "markdown",
   "metadata": {
    "slideshow": {
     "slide_type": "subslide"
    }
   },
   "source": [
    "#### Demo  4.2\n",
    "\n",
    "Assume signal $x(t)=\\cos(\\omega_0 t)$ is sampled at a rate of $\\omega_s = 1.5\\omega_0$, violating the sampling theorem."
   ]
  },
  {
   "cell_type": "code",
   "execution_count": 75,
   "metadata": {
    "slideshow": {
     "slide_type": "subslide"
    }
   },
   "outputs": [],
   "source": [
    "open aliasing"
   ]
  },
  {
   "cell_type": "markdown",
   "metadata": {
    "slideshow": {
     "slide_type": "subslide"
    }
   },
   "source": [
    "We can see the effect on the plot below:\n",
    "\n",
    "![An example of Aliasing](./pictures/aliasing_ex.png)\n",
    "\n",
    "Image generated by [aliasing.mlx](https://cpjobling.github.io/eg-247-textbook/dt_systems/1/matlab/aliasing.mlx) (Also available as [aliasing.m](https://cpjobling.github.io/eg-247-textbook/dt_systems/1/matlab/aliasing.m))."
   ]
  },
  {
   "cell_type": "markdown",
   "metadata": {
    "slideshow": {
     "slide_type": "notes"
    }
   },
   "source": [
    "You should confirm for yourself that after lowpass filtering the spectrum with a filter with cutofff frequency $\\omega_c = \\omega_s/2$ that the signal returned is the spectrum of $x(t)=\\cos(\\omega_0 t/2)$"
   ]
  },
  {
   "cell_type": "markdown",
   "metadata": {
    "slideshow": {
     "slide_type": "slide"
    }
   },
   "source": [
    "### Antialising Filters\n",
    "\n",
    "* Most real signals are not band-limited so we have to artificially make them bandlimited  using an *anti-aliasing filter*.\n",
    "\n",
    "* An anti-aliasing filter is a low-pass filter whose cutoff frequency is lower than half the sampling frequency.\n",
    "\n",
    "* This can produce some distortion at high-frequencies but this is often better than the distortion that would occur at low frequencies if aliasing was allowed to happen.\n",
    "\n",
    "* For more on this topic see Pages 551&mdash;552 of Boulet."
   ]
  },
  {
   "cell_type": "markdown",
   "metadata": {
    "slideshow": {
     "slide_type": "subslide"
    }
   },
   "source": [
    "#### Demo 4.3\n",
    "\n",
    "This example uses anti-aliasing to downsample the audio. You should hear that the sound is less distorted as we sample below the sampling frequency of 8 kHz.\n",
    "\n",
    "Script: [aliaseg2.mlx](https://cpjobling.github.io/eg-247-textbook/dt_systems/1/matlab/aliaseg2.mlx) (Also available as an m-file [aliaseg2.m](https://cpjobling.github.io/eg-247-textbook/dt_systems/1/matlab/aliaseg2.m))"
   ]
  },
  {
   "cell_type": "code",
   "execution_count": 76,
   "metadata": {
    "slideshow": {
     "slide_type": "fragment"
    }
   },
   "outputs": [],
   "source": [
    "open aliaseg2"
   ]
  },
  {
   "cell_type": "markdown",
   "metadata": {
    "slideshow": {
     "slide_type": "slide"
    }
   },
   "source": [
    "### Practical application - digital audio\n",
    "\n",
    "Human beings can hear sounds with frequencies up to around 20 kHz so when recording music in the modern sound studio (or phone or PC for that matter) the audio signal is antialiased with a 22 kHz filter. The signal is then sampled at 44.1 kHz before being stored for later processing and/or playback."
   ]
  },
  {
   "cell_type": "markdown",
   "metadata": {
    "slideshow": {
     "slide_type": "slide"
    }
   },
   "source": [
    "## DT Processing of CT Signals\n",
    "\n",
    "![DT Processing of CT Signals](./pictures/ct-to-dt.png)"
   ]
  },
  {
   "cell_type": "markdown",
   "metadata": {
    "slideshow": {
     "slide_type": "notes"
    }
   },
   "source": [
    "The concepts presented in this session provide a model that allows us to cross the bridge between the theoretical concept of impulse chain sampling through to a representation of a signal as discrete sequence $x[n]$ (to be introduced next lecture) and back to a continuous-time signal via reconstruction.\n",
    "\n",
    "The mathematics predicts the nature of the signals that are processed in the ideal case, but we will leave it with you to study these for yourself. (See Boulet pp 552&mdash;557).\n",
    "\n",
    "In practice, modern digital processing relies on the use of an analogue-to-digital converter (ADC) (which also introduces amplitude quantization), finite-length arithmetic inside the discrete-time system (usually a microprocessor, microcontroller or digital signal processor), followed by conversion back to a step-wise continuous signal via a digital to analogue converter (DAC) that operates like a zero-order-hold.\n",
    "\n"
   ]
  },
  {
   "cell_type": "markdown",
   "metadata": {
    "slideshow": {
     "slide_type": "slide"
    }
   },
   "source": [
    "## Sampling of DT Signals\n",
    "\n",
    "* In modern signal processing and digital communications many of the operations that were once done in continuous time are now done entirely in discrete time.\n",
    "\n",
    "* For example, we can implement sampling and modulation in discrete time.\n",
    "\n",
    "* We can also upsample (interpolate between samples) or downsample (reduce the number of samples in a discrete-time signal)\n",
    "\n",
    "These topics are left to you for further study."
   ]
  },
  {
   "cell_type": "markdown",
   "metadata": {
    "slideshow": {
     "slide_type": "slide"
    }
   },
   "source": [
    "## Summary\n",
    "\n",
    "* Sampling of Continuous-Time Signals\n",
    "* Signal Reconstruction\n",
    "* Aliasing\n",
    "* Discrete-time Processing of Continuous-Time Signals\n",
    "* Sampling of Discrete-Time Systems\n",
    "\n",
    "*Next session*\n",
    "\n",
    "* The Z-Transform"
   ]
  },
  {
   "cell_type": "markdown",
   "metadata": {
    "slideshow": {
     "slide_type": "notes"
    }
   },
   "source": [
    "### Answer to Question"
   ]
  },
  {
   "cell_type": "markdown",
   "metadata": {
    "slideshow": {
     "slide_type": "notes"
    }
   },
   "source": [
    "bit rate = [number of samples per second] x [number of bits per sample] x [number of channels]"
   ]
  },
  {
   "cell_type": "markdown",
   "metadata": {
    "slideshow": {
     "slide_type": "notes"
    }
   },
   "source": [
    "bit rate = $8192 \\times 8 \\times 1$ bits/second [baud]"
   ]
  },
  {
   "cell_type": "markdown",
   "metadata": {
    "slideshow": {
     "slide_type": "notes"
    }
   },
   "source": [
    "bit rate = $65,536$ bits/second"
   ]
  },
  {
   "cell_type": "markdown",
   "metadata": {
    "slideshow": {
     "slide_type": "notes"
    }
   },
   "source": [
    "## References\n",
    "\n",
    "See [Bibliography](/zbib)."
   ]
  },
  {
   "cell_type": "markdown",
   "metadata": {
    "slideshow": {
     "slide_type": "notes"
    }
   },
   "source": [
    "## Matlab Functions used\n",
    "\n",
    "* The matlab recorder command is: `recorder = audiorecorder(Fs,nBits,nChannels);`\n",
    "* Sound is recorded using: `recordblocking(recObj, time);`\n",
    "* Recorded sound is played back: `play(recorder);`\n",
    "* Sound is extracted as Matlab data using: `x = getaudiodata(recorder);`\n",
    "* Sound is plotted against sample number using: `plot(x)`\n",
    "* I extracted 50 points for the stem plot using `stem([1000:1049],myRecording(1000:1049))`\n",
    "* Sound is saved as an audio file using: `audiowrite(audioFile,myRecording,Fs);` where `audiofile` is a filename in form `name.extension`. Supported extensions are `'.wav'`, `'.ogg'`, and `'.flac'` on all platforms. Windows and Mac support `'.m4m'` and '`.mp4`'. \n",
    "* Sound is loaded using `[x,Fs]=audioread(audioFile);`. Additional file formats are supported for reading including `'.mp3'`.\n",
    "* Frequency response spectra were generated using the fast Fourier transform (`fft`) function.\n",
    "* Multiple graphs in one figure window is achieved using `subplot`.\n",
    "\n",
    "For more information use `doc` *command* from the command-line.\n"
   ]
  }
 ],
 "metadata": {
  "anaconda-cloud": {},
  "celltoolbar": "Slideshow",
  "jupytext": {
   "formats": "ipynb,md:myst"
  },
  "kernelspec": {
   "display_name": "MATLAB",
   "language": "matlab",
   "name": "imatlab"
  },
  "language_info": {
   "codemirror_mode": "octave",
   "file_extension": ".m",
   "mimetype": "text/x-matlab",
   "name": "matlab",
   "nbconvert_exporter": "imatlab._exporter.MatlabExporter",
   "pygments_lexer": "matlab",
   "version": "9.9.0.1467703 (R2020b)"
  }
 },
 "nbformat": 4,
 "nbformat_minor": 1
}
