{
 "cells": [
  {
   "cell_type": "markdown",
   "metadata": {},
   "source": [
    "# Table of Z-Transforms\n",
    "\n",
    "| &nbsp; | f[n]                    | F(z).              | Region of Convergence |\n",
    "|--------|----------------------------|--------------------|-------------------|\n",
    "| 1.     |    $\\displaystyle{\\delta[n]}$ | $\\displaystyle{1}$ |\n",
    "| 2 | $\\displaystyle{\\delta[n-m]}$ | $\\displaystyle{z^{-m}}$ |\n",
    "| 3 | $\\displaystyle{a^nu_0[n]}$ | $\\displaystyle{\\frac{z}{z-a}}$ | $\\mid z \\mid > a$ |\n",
    "| 4 | $\\displaystyle{u_0[n]}$ | $\\displaystyle{\\frac{z}{z-1}}$ | $\\mid z \\mid > 1$ |\n",
    "| 5 | $\\displaystyle{(e^{-anT_s})u_0[n]}$ | $\\displaystyle{\\frac{z}{z-e^{-aT_s}}}$ | $\\displaystyle{\\mid e^{-aT_s}z^{-1} \\mid < 1}$ |\n",
    "| 6 | $\\displaystyle{(\\cos naT_s)u_0[n]}$ | $\\displaystyle{\\frac{z^2 - z\\cos aT_s}{z^2 -2z\\cos aT_s + 1}}$ | ${ \\mid z \\mid> 1}$ |\n",
    "| 7 | $\\displaystyle{(\\sin naT_s)u_0[n]}$ | $\\displaystyle{\\frac{z\\sin aT_s}{z^2 -2z\\cos aT_s + 1}}$ | ${\\mid z \\mid > 1}$ |\n",
    "| 8 | $\\displaystyle{(a^n\\cos naT_s)u_0[n]}$ | $\\displaystyle{\\frac{z^2 - az\\cos aT_s}{z^2 -2az\\cos aT_s + a^2}}$ | ${\\mid z \\mid > 1}$ |\n",
    "| 9 | $\\displaystyle{(a^n\\sin naT_s)u_0[n]}$ | $\\displaystyle{\\frac{az\\sin aT_s}{z^2 -2az\\cos aT_s + a^2}}$ | ${\\mid z \\mid > 1}$ |\n",
    "| 10 | $\\displaystyle{u_0[n]-u_0[n-m]}$ | $\\displaystyle{\\frac{z^m-1}{z^{m-1}(z-1)}}$ | |\n",
    "| 11 | $\\displaystyle{nu_0[n]}$ | $\\displaystyle{\\frac{z}{(z-1)^2}}$ | |\n",
    "| 12 | $\\displaystyle{n^2u_0[n]}$ | $\\displaystyle{\\frac{z(z+1)}{(z-1)^3}}$ | |\n",
    "| 13 | $\\displaystyle{[n+1]u_0[n]}$ | $\\displaystyle{\\frac{z^2}{(z-1)^2}}$ | |\n",
    "| 14 | $\\displaystyle{a^n n u_0[n]}$ | $\\displaystyle{\\frac{az}{(z-a)^2}}$ | |\n",
    "| 15 | $\\displaystyle{a^n n^2 u_0[n]}$ | $\\displaystyle{\\frac{az(z+a)}{(z-a)^3}}$ | |\n",
    "| 16 | $\\displaystyle{a^n n[n+1] u_0[n]}$ | $\\displaystyle{\\frac{2az^2}{(z-a)^3}}$ | |\n",
    "\n",
    "See also: [Wikibooks: Engineering_Tables/Z_Transform_Table](https://en.wikibooks.org/wiki/Engineering_Tables/Z_Transform_Table) and [Z-Transform&mdash;WolframMathworld](https://mathworld.wolfram.com/Z-Transform.html) for more complete references.\n",
    "\n"
   ]
  }
 ],
 "metadata": {
  "jupytext": {
   "cell_metadata_filter": "-all",
   "notebook_metadata_filter": "-all"
  },
  "kernelspec": {
   "display_name": "Python 3",
   "language": "python",
   "name": "python3"
  },
  "language_info": {
   "codemirror_mode": {
    "name": "ipython",
    "version": 3
   },
   "file_extension": ".py",
   "mimetype": "text/x-python",
   "name": "python",
   "nbconvert_exporter": "python",
   "pygments_lexer": "ipython3",
   "version": "3.7.9"
  }
 },
 "nbformat": 4,
 "nbformat_minor": 4
}
