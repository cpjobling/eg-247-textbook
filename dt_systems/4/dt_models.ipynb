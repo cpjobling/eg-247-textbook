{
 "cells": [
  {
   "cell_type": "markdown",
   "metadata": {
    "slideshow": {
     "slide_type": "slide"
    }
   },
   "source": [
    "# Models of Discrete-Time Systems"
   ]
  },
  {
   "cell_type": "markdown",
   "metadata": {},
   "source": [
    "## Colophon\n",
    "\n",
    "An annotatable worksheet for this presentation is available as [**Worksheet 17**](worksheet17).\n",
    "\n",
    "* The source code for this page is [dt_systems/4/dt_models.ipynb](https://github.com/cpjobling/eg-247-textbook/blob/master/dt_systems/4/dt_models.ipynb).\n",
    "\n",
    "* You can view the notes for this presentation as a webpage ([HTML](https://cpjobling.github.io/eg-247-textbook/dt_systems/4/dt_models.html)). \n",
    "\n",
    "* This page is downloadable as a [PDF](https://cpjobling.github.io/eg-247-textbook/dt_systems/4/dt_models.pdf) file."
   ]
  },
  {
   "cell_type": "markdown",
   "metadata": {
    "slideshow": {
     "slide_type": "slide"
    }
   },
   "source": [
    "## Scope and Background Reading\n",
    "\n",
    "In this section we will explore digital systems and learn more about the z-transfer function model.\n",
    "\n",
    "The material in this presentation and notes is based on Chapter 9 (Starting at [Section 9.7](https://ebookcentral.proquest.com/lib/swansea-ebooks/reader.action?docID=3384197&ppg=363)) of {cite}`karris`. I have skipped the section on digital state-space models."
   ]
  },
  {
   "cell_type": "markdown",
   "metadata": {
    "slideshow": {
     "slide_type": "slide"
    }
   },
   "source": [
    "## Agenda"
   ]
  },
  {
   "cell_type": "markdown",
   "metadata": {
    "slideshow": {
     "slide_type": "fragment"
    }
   },
   "source": [
    "* Discrete Time Systems"
   ]
  },
  {
   "cell_type": "markdown",
   "metadata": {
    "slideshow": {
     "slide_type": "fragment"
    }
   },
   "source": [
    "* Transfer Functions in the Z-Domain"
   ]
  },
  {
   "cell_type": "markdown",
   "metadata": {
    "slideshow": {
     "slide_type": "fragment"
    }
   },
   "source": [
    "* Modelling digital systems in Matlab/Simulink"
   ]
  },
  {
   "cell_type": "markdown",
   "metadata": {
    "slideshow": {
     "slide_type": "fragment"
    }
   },
   "source": [
    "* Continuous System Equivalents"
   ]
  },
  {
   "cell_type": "markdown",
   "metadata": {
    "slideshow": {
     "slide_type": "fragment"
    }
   },
   "source": [
    "* In-class demonstration: Digital Butterworth Filter"
   ]
  },
  {
   "cell_type": "markdown",
   "metadata": {
    "slideshow": {
     "slide_type": "slide"
    }
   },
   "source": [
    "## Discrete Time Systems\n",
    "\n",
    "In the lecture that introduced the z-transform we talked about the representation of a discrete-time (DT) system by the model shown below:\n",
    "\n",
    "![DT System](./pictures/ct-to-dt.png)\n",
    "\n",
    "In this session, we want to explore the contents of the central block."
   ]
  },
  {
   "cell_type": "markdown",
   "metadata": {
    "slideshow": {
     "slide_type": "subslide"
    }
   },
   "source": [
    "### DT System as a Sequence Processor\n",
    "\n",
    "* As noted in the previous slide, the discrete time system (DTS) `takes as an input the sequence $x_d[n]$<sup>1</sup> which in a physical signal would be obtained by sampling the continuous time signal $x(t)$ using an analogue to digital converter (ADC)."
   ]
  },
  {
   "cell_type": "markdown",
   "metadata": {
    "slideshow": {
     "slide_type": "fragment"
    }
   },
   "source": [
    "* It produces another sequence $y_d[n]$ by *processing* the input sequence in some way."
   ]
  },
  {
   "cell_type": "markdown",
   "metadata": {
    "slideshow": {
     "slide_type": "fragment"
    }
   },
   "source": [
    "* The output sequence is converted into an analogue signal $y(t)$ by a digital to analogue converter (DAC)."
   ]
  },
  {
   "cell_type": "markdown",
   "metadata": {
    "slideshow": {
     "slide_type": "fragment"
    }
   },
   "source": [
    "![DT System as a Sequence Processor](./pictures/sigs.png)"
   ]
  },
  {
   "cell_type": "markdown",
   "metadata": {
    "slideshow": {
     "slide_type": "subslide"
    }
   },
   "source": [
    "### What is the nature of the DTS?\n",
    "\n",
    "* The discrete time system (DTS) is a block that converts a sequence $x_d[n]$ into another sequence $y_d[n]$"
   ]
  },
  {
   "cell_type": "markdown",
   "metadata": {
    "slideshow": {
     "slide_type": "fragment"
    }
   },
   "source": [
    "* The transformation will be a *difference equation* $h[n]$"
   ]
  },
  {
   "cell_type": "markdown",
   "metadata": {
    "slideshow": {
     "slide_type": "fragment"
    }
   },
   "source": [
    "* By analogy with CT systems, $h[n]$ is the impulse response of the DTS, and $y[n]$ can be obtained by *convolving* $h[n]$ with $x_d[n]$ so:\n",
    "\n",
    "$$y_d[n] = h[n] * x_d[n]$$"
   ]
  },
  {
   "cell_type": "markdown",
   "metadata": {
    "slideshow": {
     "slide_type": "subslide"
    }
   },
   "source": [
    "* Taking the z-transform of $h[n]$ we get $H(z)$, and from the transform properties, convolution of the signal $x_d[n]$ by system $h[n]$ will be *multiplication* of the z-transforms:\n",
    "\n",
    "$$Y_d(z) = H(z) X_d(z)$$"
   ]
  },
  {
   "cell_type": "markdown",
   "metadata": {
    "slideshow": {
     "slide_type": "fragment"
    }
   },
   "source": [
    "* So, what does $h[n]$ and therefore $H(z)$ look like?"
   ]
  },
  {
   "cell_type": "markdown",
   "metadata": {
    "slideshow": {
     "slide_type": "slide"
    }
   },
   "source": [
    "## Transfer Functions in the Z-Domain\n",
    "\n",
    "Let us assume that the sequence transformation is a *difference equation* of the form<sup>2</sup>:\n",
    "\n",
    "$$\\begin{array}{l}\n",
    "y[n] + {a_1}y[n - 1] + {a_2}y[n - 2] +  \\cdots  + {a_k}y[n - k]\\\\\n",
    "\\quad  = {b_0}x[n] + {b_1}u[n - 1] + {b_2}u[n - 2] +  \\cdots  + {b_k}u[n - k]\n",
    "\\end{array}$$"
   ]
  },
  {
   "cell_type": "markdown",
   "metadata": {
    "slideshow": {
     "slide_type": "subslide"
    }
   },
   "source": [
    "### Take Z-Transform of both sides\n",
    "\n",
    "From the z-transform properties\n",
    "\n",
    "$$f[n-m] \\Leftrightarrow z^{-m}F(z)$$\n",
    "\n",
    "so...."
   ]
  },
  {
   "cell_type": "markdown",
   "metadata": {
    "slideshow": {
     "slide_type": "fragment"
    }
   },
   "source": [
    "$$Y(z) + a_1z^{-1}Y(z) + a_2z^{-2}Y(z) + \\cdots + a_kz^{-k}Y(z) = ...$$"
   ]
  },
  {
   "cell_type": "markdown",
   "metadata": {
    "slideshow": {
     "slide_type": "fragment"
    }
   },
   "source": [
    "$$b_0 U(z) + b_1z^{-1}U(z) + b_2z^{-2}U(z) + \\cdots + b_kz^{-k}U(z)$$"
   ]
  },
  {
   "cell_type": "markdown",
   "metadata": {
    "slideshow": {
     "slide_type": "subslide"
    }
   },
   "source": [
    "### Gather terms\n",
    "\n",
    "$$\\begin{array}{l}\n",
    "\\left( 1 + {a_1} z^{-1} + {a_2} z^{-2} +  \\cdots {a_k} z^{-k} \\right)Y(z) = \\\\\n",
    "\\quad \\left( b_0 + b_1 z^{-1} + b_2 z^{- 2} +  \\cdots b_k z^{- k} \\right)U(z)\n",
    "\\end{array}$$\n",
    "\n",
    "from which ...\n"
   ]
  },
  {
   "cell_type": "markdown",
   "metadata": {
    "slideshow": {
     "slide_type": "fragment"
    }
   },
   "source": [
    "$$Y(z) = \\left(\\frac{b_0 + b_{1}z^{-1} + b_{2}z^{-2} + \\cdots b_{k}z^{-k}}{1 + a_{1}z^{-1} + a_{2}z^{-2} + \\cdots a_{k}z^{-k}\n",
    "}\\right) U(z)$$"
   ]
  },
  {
   "cell_type": "markdown",
   "metadata": {
    "slideshow": {
     "slide_type": "subslide"
    }
   },
   "source": [
    "### Define transfer function\n",
    "\n",
    "We define the *discrete time transfer function* $H(z) := Y(z)/U(z)$ so..."
   ]
  },
  {
   "cell_type": "markdown",
   "metadata": {
    "slideshow": {
     "slide_type": "fragment"
    }
   },
   "source": [
    "$$H(z) = \\frac{Y(z)}{U(z)} = \\frac{b_0 + b_{1}z^{-1} + b_{2}z^{-2} + \\cdots b_{k}z^{-k}}{1 + a_{1}z^{-1} + a_{2}z^{-2} + \\cdots a_{k}z^{-k}\n",
    "}$$\n",
    "\n",
    "\n"
   ]
  },
  {
   "cell_type": "markdown",
   "metadata": {
    "slideshow": {
     "slide_type": "fragment"
    }
   },
   "source": [
    "... or more conventionally<sup>3</sup>:\n",
    "\n",
    "$$H(z) = \\frac{b_0z^k + b_{1}z^{k-1} + b_{2}z^{k-2} + \\cdots b_{k-1}z + b_{k}}{z^k + a_{1}z^{k-1} + a_{2}z^{k-2} + \\cdots a_{k-1} z + a_{k}}$$"
   ]
  },
  {
   "cell_type": "markdown",
   "metadata": {
    "slideshow": {
     "slide_type": "subslide"
    }
   },
   "source": [
    "### DT impulse response\n",
    "\n",
    "The *discrete-time impulse reponse* $h[n]$ is the response of the DT system to the input $x[n] = \\delta[n]$ "
   ]
  },
  {
   "cell_type": "markdown",
   "metadata": {
    "slideshow": {
     "slide_type": "fragment"
    }
   },
   "source": [
    "Last week we showed that $$\\mathcal{Z}\\left\\{\\delta[n]\\right\\}$$ was defined by the transform pair \n",
    "\n",
    "$$\\delta[n] \\Leftrightarrow 1$$"
   ]
  },
  {
   "cell_type": "markdown",
   "metadata": {
    "slideshow": {
     "slide_type": "subslide"
    }
   },
   "source": [
    "so \n",
    "\n",
    "$$h[n] = \\mathcal{Z}^{-1}\\left\\{H(z).1\\right\\} = \\mathcal{Z}^{-1}\\left\\{H(z)\\right\\}$$"
   ]
  },
  {
   "cell_type": "markdown",
   "metadata": {
    "slideshow": {
     "slide_type": "subslide"
    }
   },
   "source": [
    "We will work through an example in class.\n",
    "\n",
    "[Skip next slide in Pre-Lecture]"
   ]
  },
  {
   "cell_type": "markdown",
   "metadata": {
    "slideshow": {
     "slide_type": "subslide"
    }
   },
   "source": [
    "### Example 5\n",
    "\n",
    "Karris Example 9.10:\n",
    "\n",
    "The difference equation describing the input-output relationship of a DT system with zero initial conditions, is:\n",
    "\n",
    "$$y[n] - 0.5 y[n-1] + 0.125 y[n-2] = x[n] + x[n -1]$$"
   ]
  },
  {
   "cell_type": "markdown",
   "metadata": {
    "slideshow": {
     "slide_type": "subslide"
    }
   },
   "source": [
    "Compute:\n",
    "\n",
    "1. The transfer function $H(z)$\n",
    "2. The DT impulse response $h[n]$\n",
    "3. The response $y[n]$ when the input $x[n]$ is the DT unit step $u_0[n]$"
   ]
  },
  {
   "cell_type": "markdown",
   "metadata": {
    "slideshow": {
     "slide_type": "subslide"
    }
   },
   "source": [
    "### 5.1. The transfer function\n",
    "\n",
    "$$H(z) = \\frac{Y(z)}{U(z)} = ...?$$"
   ]
  },
  {
   "cell_type": "markdown",
   "metadata": {
    "slideshow": {
     "slide_type": "notes"
    }
   },
   "source": [
    "<pre style=\"border: 2px solid blue\">\n",
    "\n",
    "\n",
    "\n",
    "\n",
    "\n",
    "\n",
    "\n",
    "\n",
    "\n",
    "\n",
    "\n",
    "\n",
    "\n",
    "\n",
    "\n",
    "\n",
    "\n",
    "\n",
    "\n",
    "</pre>"
   ]
  },
  {
   "cell_type": "markdown",
   "metadata": {
    "slideshow": {
     "slide_type": "subslide"
    }
   },
   "source": [
    "### 5.2. The DT impulse response\n",
    "\n",
    "Start with:\n",
    "\n",
    "$$\\frac{H(z)}{z} = \\frac{z - 1}{z^2 + 0.5 z + 0.125}$$"
   ]
  },
  {
   "cell_type": "markdown",
   "metadata": {
    "slideshow": {
     "slide_type": "notes"
    }
   },
   "source": [
    "<pre style=\"border: 2px solid blue\">\n",
    "\n",
    "\n",
    "\n",
    "\n",
    "\n",
    "\n",
    "\n",
    "\n",
    "\n",
    "\n",
    "\n",
    "\n",
    "\n",
    "\n",
    "\n",
    "\n",
    "\n",
    "\n",
    "\n",
    "</pre>"
   ]
  },
  {
   "cell_type": "markdown",
   "metadata": {
    "slideshow": {
     "slide_type": "subslide"
    }
   },
   "source": [
    "### Matlab Solution"
   ]
  },
  {
   "cell_type": "code",
   "execution_count": 1,
   "metadata": {
    "slideshow": {
     "slide_type": "fragment"
    }
   },
   "outputs": [
    {
     "name": "stdout",
     "output_type": "stream",
     "text": [
      "\n",
      "ans =\n",
      "\n",
      "    '/Users/eechris/code/src/github.com/cpjobling/eg-247-textbook/dt_systems/4/matlab'\n",
      "\n"
     ]
    }
   ],
   "source": [
    "clear all\n",
    "imatlab_export_fig('print-svg')  % Static svg figures.\n",
    "cd matlab\n",
    "pwd\n",
    "format compact"
   ]
  },
  {
   "cell_type": "markdown",
   "metadata": {
    "slideshow": {
     "slide_type": "fragment"
    }
   },
   "source": [
    "See [dtm_ex1_2.mlx](https://cpjobling.github.io/eg-247-textbook/dt_systems/4/matlab/dtm_ex1_2.mlx). (Also available as [dtm_ex1_2.m](https://cpjobling.github.io/eg-247-textbook/dt_systems/4/matlab/dtm_ex1_2.m).)"
   ]
  },
  {
   "cell_type": "markdown",
   "metadata": {
    "slideshow": {
     "slide_type": "subslide"
    }
   },
   "source": [
    "The difference equation describing the input-output relationship of the DT system with zero initial conditions, is:\n",
    "\n",
    "$$y[n] - 0.5 y[n-1] + 0.125 y[n-2] = x[n] + x[n -1]$$\n",
    " "
   ]
  },
  {
   "cell_type": "markdown",
   "metadata": {
    "slideshow": {
     "slide_type": "subslide"
    }
   },
   "source": [
    "#### Transfer function\n",
    "\n",
    "Numerator $z + 1$"
   ]
  },
  {
   "cell_type": "code",
   "execution_count": 2,
   "metadata": {},
   "outputs": [],
   "source": [
    "Nz = [0 1 1];"
   ]
  },
  {
   "cell_type": "markdown",
   "metadata": {
    "slideshow": {
     "slide_type": "fragment"
    }
   },
   "source": [
    "Denominator $z^2 - 0.5 z + 0.125$"
   ]
  },
  {
   "cell_type": "code",
   "execution_count": 3,
   "metadata": {},
   "outputs": [],
   "source": [
    "Dz = [1 -0.5 0.125];"
   ]
  },
  {
   "cell_type": "markdown",
   "metadata": {
    "slideshow": {
     "slide_type": "subslide"
    }
   },
   "source": [
    "#### Poles and residues"
   ]
  },
  {
   "cell_type": "code",
   "execution_count": 4,
   "metadata": {},
   "outputs": [
    {
     "name": "stdout",
     "output_type": "stream",
     "text": [
      "r =\n",
      "   0.5000 - 2.5000i\n",
      "   0.5000 + 2.5000i\n",
      "p =\n",
      "   0.2500 + 0.2500i\n",
      "   0.2500 - 0.2500i\n",
      "k =\n",
      "     []\n"
     ]
    }
   ],
   "source": [
    "[r,p,k] = residue(Nz,Dz)"
   ]
  },
  {
   "cell_type": "markdown",
   "metadata": {
    "slideshow": {
     "slide_type": "subslide"
    }
   },
   "source": [
    "#### Impulse Response"
   ]
  },
  {
   "cell_type": "code",
   "execution_count": 5,
   "metadata": {},
   "outputs": [
    {
     "name": "stdout",
     "output_type": "stream",
     "text": [
      "\n",
      "Hz =\n",
      " \n",
      "         z + 1\n",
      "  -------------------\n",
      "  z^2 - 0.5 z + 0.125\n",
      " \n",
      "Sample time: 1 seconds\n",
      "Discrete-time transfer function.\n",
      "\n"
     ]
    }
   ],
   "source": [
    "Hz = tf(Nz,Dz,1)\n",
    "hn = impulse(Hz, 15);"
   ]
  },
  {
   "cell_type": "markdown",
   "metadata": {
    "slideshow": {
     "slide_type": "subslide"
    }
   },
   "source": [
    "#### Plot the response"
   ]
  },
  {
   "cell_type": "code",
   "execution_count": 6,
   "metadata": {
    "slideshow": {
     "slide_type": "-"
    }
   },
   "outputs": [
    {
     "data": {
      "image/svg+xml": [
       "<?xml version=\"1.0\"?>\n",
       "<!DOCTYPE svg PUBLIC '-//W3C//DTD SVG 1.0//EN'\n",
       "          'http://www.w3.org/TR/2001/REC-SVG-20010904/DTD/svg10.dtd'>\n",
       "<svg xmlns:xlink=\"http://www.w3.org/1999/xlink\" style=\"fill-opacity:1; color-rendering:auto; color-interpolation:auto; text-rendering:auto; stroke:black; stroke-linecap:square; stroke-miterlimit:10; shape-rendering:auto; stroke-opacity:1; fill:black; stroke-dasharray:none; font-weight:normal; stroke-width:1; font-family:'Dialog'; font-style:normal; stroke-linejoin:miter; font-size:12px; stroke-dashoffset:0; image-rendering:auto;\" width=\"560\" height=\"420\" xmlns=\"http://www.w3.org/2000/svg\"\n",
       "><!--Generated by the Batik Graphics2D SVG Generator--><defs id=\"genericDefs\"\n",
       "  /><g\n",
       "  ><defs id=\"defs1\"\n",
       "    ><clipPath clipPathUnits=\"userSpaceOnUse\" id=\"clipPath1\"\n",
       "      ><path d=\"M0 0 L560 0 L560 420 L0 420 L0 0 Z\"\n",
       "      /></clipPath\n",
       "      ><font horiz-adv-x=\"50.0\" id=\"font1\"\n",
       "      ><font-face ascent=\"95.200005\" descent=\"21.3\" units-per-em=\"100\" style=\"font-style:normal; font-family:Helvetica Neue; font-weight:normal;\"\n",
       "        /><missing-glyph horiz-adv-x=\"50.0\" d=\"M40.9 66.6 L10.2 66.6 L10.2 4.7 L40.9 4.7 ZM46 71.2 L46 0.1 L5.1 0.1 L5.1 71.2 Z\"\n",
       "        /><glyph unicode=\"2\" horiz-adv-x=\"55.6\" d=\"M4.4 45.8 L12.9 45.8 Q12.8 49 13.55 52.15 Q14.3 55.3 16 57.8 Q17.7 60.3 20.35 61.85 Q23 63.4 26.7 63.4 Q29.5 63.4 32 62.5 Q34.5 61.6 36.35 59.9 Q38.2 58.2 39.3 55.85 Q40.4 53.5 40.4 50.6 Q40.4 46.9 39.25 44.1 Q38.1 41.3 35.85 38.9 Q33.6 36.5 30.2 34.15 Q26.8 31.8 22.3 29 Q18.6 26.8 15.2 24.3 Q11.8 21.8 9.1 18.5 Q6.4 15.2 4.65 10.75 Q2.9 6.3 2.4 0 L48.7 0 L48.7 7.5 L12.3 7.5 Q12.9 10.8 14.85 13.35 Q16.8 15.9 19.55 18.1 Q22.3 20.3 25.6 22.25 Q28.9 24.2 32.2 26.2 Q35.5 28.3 38.6 30.6 Q41.7 32.9 44.1 35.75 Q46.5 38.6 47.95 42.2 Q49.4 45.8 49.4 50.5 Q49.4 55.5 47.65 59.3 Q45.9 63.1 42.9 65.65 Q39.9 68.2 35.85 69.55 Q31.8 70.9 27.2 70.9 Q21.6 70.9 17.2 69 Q12.8 67.1 9.85 63.75 Q6.9 60.4 5.5 55.8 Q4.1 51.2 4.4 45.8 Z\"\n",
       "        /><glyph unicode=\".\" horiz-adv-x=\"27.8\" d=\"M8.3 11.1 L8.3 0 L19.4 0 L19.4 11.1 Z\"\n",
       "        /><glyph unicode=\"0\" horiz-adv-x=\"55.6\" d=\"M13.2 34.9 Q13.2 37.5 13.25 40.65 Q13.3 43.8 13.75 46.95 Q14.2 50.1 15.05 53.1 Q15.9 56.1 17.55 58.35 Q19.2 60.6 21.7 62 Q24.2 63.4 27.8 63.4 Q31.4 63.4 33.9 62 Q36.4 60.6 38.05 58.35 Q39.7 56.1 40.55 53.1 Q41.4 50.1 41.85 46.95 Q42.3 43.8 42.35 40.65 Q42.4 37.5 42.4 34.9 Q42.4 30.9 42.15 25.95 Q41.9 21 40.55 16.65 Q39.2 12.3 36.2 9.3 Q33.2 6.3 27.8 6.3 Q22.4 6.3 19.4 9.3 Q16.4 12.3 15.05 16.65 Q13.7 21 13.45 25.95 Q13.2 30.9 13.2 34.9 ZM4.2 34.8 Q4.2 30.9 4.4 26.7 Q4.6 22.5 5.4 18.5 Q6.2 14.5 7.7 10.95 Q9.2 7.4 11.8 4.7 Q14.4 2 18.35 0.45 Q22.3 -1.1 27.8 -1.1 Q33.4 -1.1 37.3 0.45 Q41.2 2 43.8 4.7 Q46.4 7.4 47.9 10.95 Q49.4 14.5 50.2 18.5 Q51 22.5 51.2 26.7 Q51.4 30.9 51.4 34.8 Q51.4 38.7 51.2 42.9 Q51 47.1 50.2 51.1 Q49.4 55.1 47.9 58.7 Q46.4 62.3 43.8 65 Q41.2 67.7 37.25 69.3 Q33.3 70.9 27.8 70.9 Q22.3 70.9 18.35 69.3 Q14.4 67.7 11.8 65 Q9.2 62.3 7.7 58.7 Q6.2 55.1 5.4 51.1 Q4.6 47.1 4.4 42.9 Q4.2 38.7 4.2 34.8 Z\"\n",
       "        /><glyph unicode=\"-\" horiz-adv-x=\"38.9\" d=\"M5 31.8 L5 23.8 L33.9 23.8 L33.9 31.8 Z\"\n",
       "        /><glyph unicode=\"4\" horiz-adv-x=\"55.6\" d=\"M33.9 24.1 L10.1 24.1 L33.7 58.8 L33.9 58.8 ZM41.9 24.1 L41.9 70.9 L35.1 70.9 L2.8 24.8 L2.8 16.6 L33.9 16.6 L33.9 0 L41.9 0 L41.9 16.6 L51.5 16.6 L51.5 24.1 Z\"\n",
       "        /><glyph unicode=\"6\" horiz-adv-x=\"55.6\" d=\"M41.4 52.8 L49.9 52.8 Q49.1 61.6 43.9 66.25 Q38.7 70.9 29.9 70.9 Q22.3 70.9 17.3 67.7 Q12.3 64.5 9.3 59.2 Q6.3 53.9 5.05 47.05 Q3.8 40.2 3.8 32.9 Q3.8 27.3 4.65 21.3 Q5.5 15.3 8.1 10.3 Q10.7 5.3 15.5 2.1 Q20.3 -1.1 28.2 -1.1 Q34.9 -1.1 39.45 1.15 Q44 3.4 46.75 6.85 Q49.5 10.3 50.7 14.5 Q51.9 18.7 51.9 22.6 Q51.9 27.5 50.4 31.7 Q48.9 35.9 46.15 39 Q43.4 42.1 39.35 43.85 Q35.3 45.6 30.2 45.6 Q24.4 45.6 19.95 43.4 Q15.5 41.2 12.5 36.3 L12.3 36.5 Q12.4 40.6 13.1 45.3 Q13.8 50 15.65 54.05 Q17.5 58.1 20.8 60.75 Q24.1 63.4 29.5 63.4 Q34.6 63.4 37.7 60.5 Q40.8 57.6 41.4 52.8 ZM28.6 38.1 Q32.2 38.1 34.9 36.8 Q37.6 35.5 39.4 33.35 Q41.2 31.2 42.05 28.25 Q42.9 25.3 42.9 22 Q42.9 18.9 41.95 16.05 Q41 13.2 39.2 11 Q37.4 8.8 34.75 7.55 Q32.1 6.3 28.6 6.3 Q25.1 6.3 22.35 7.55 Q19.6 8.8 17.75 10.9 Q15.9 13 14.9 15.9 Q13.9 18.8 13.9 22.1 Q13.9 25.4 14.85 28.35 Q15.8 31.3 17.7 33.45 Q19.6 35.6 22.3 36.85 Q25 38.1 28.6 38.1 Z\"\n",
       "        /><glyph unicode=\"8\" horiz-adv-x=\"55.6\" d=\"M15.5 52.5 Q15.5 55.2 16.5 57.2 Q17.5 59.2 19.15 60.6 Q20.8 62 23.1 62.7 Q25.4 63.4 27.9 63.4 Q33.1 63.4 36.45 60.65 Q39.8 57.9 39.8 52.5 Q39.8 47.1 36.5 44.1 Q33.2 41.1 28.1 41.1 Q25.5 41.1 23.2 41.8 Q20.9 42.5 19.2 43.9 Q17.5 45.3 16.5 47.45 Q15.5 49.6 15.5 52.5 ZM6.5 52.8 Q6.5 48 9.2 43.95 Q11.9 39.9 16.4 38.1 Q10.4 36 7.2 31.35 Q4 26.7 4 20.4 Q4 15 5.85 10.95 Q7.7 6.9 10.95 4.2 Q14.2 1.5 18.6 0.2 Q23 -1.1 28.1 -1.1 Q33 -1.1 37.3 0.3 Q41.6 1.7 44.75 4.45 Q47.9 7.2 49.75 11.2 Q51.6 15.2 51.6 20.4 Q51.6 27 48.5 31.55 Q45.4 36.1 39 38.1 Q43.5 40.1 46.15 44.05 Q48.8 48 48.8 52.8 Q48.8 56.2 47.6 59.45 Q46.4 62.7 43.85 65.25 Q41.3 67.8 37.2 69.35 Q33.1 70.9 27.3 70.9 Q23.2 70.9 19.45 69.7 Q15.7 68.5 12.8 66.2 Q9.9 63.9 8.2 60.55 Q6.5 57.2 6.5 52.8 ZM13 20 Q13 23.1 14.15 25.6 Q15.3 28.1 17.35 29.9 Q19.4 31.7 22.15 32.65 Q24.9 33.6 28 33.6 Q31 33.6 33.65 32.55 Q36.3 31.5 38.3 29.7 Q40.3 27.9 41.45 25.45 Q42.6 23 42.6 20.1 Q42.6 17.1 41.55 14.6 Q40.5 12.1 38.55 10.25 Q36.6 8.4 33.95 7.35 Q31.3 6.3 28.1 6.3 Q21.5 6.3 17.25 9.95 Q13 13.6 13 20 Z\"\n",
       "        /><glyph unicode=\"1\" horiz-adv-x=\"55.6\" d=\"M35.6 0 L35.6 70.9 L29.1 70.9 Q28.4 66.9 26.5 64.3 Q24.6 61.7 21.85 60.2 Q19.1 58.7 15.7 58.15 Q12.3 57.6 8.7 57.6 L8.7 50.8 L27.1 50.8 L27.1 0 Z\"\n",
       "        /><glyph unicode=\"]\" horiz-adv-x=\"25.9\" d=\"M0 -12.9 L0 -19.7 L18.7 -19.7 L18.7 73.1 L0 73.1 L0 66.3 L10.7 66.3 L10.7 -12.9 Z\"\n",
       "        /><glyph unicode=\"[\" horiz-adv-x=\"25.9\" d=\"M25.9 66.3 L25.9 73.1 L7.2 73.1 L7.2 -19.7 L25.9 -19.7 L25.9 -12.9 L15.2 -12.9 L15.2 66.3 Z\"\n",
       "        /><glyph unicode=\"h\" horiz-adv-x=\"55.6\" d=\"M6.4 71.4 L6.4 0 L14.9 0 L14.9 29.2 Q14.9 32.7 15.85 35.65 Q16.8 38.6 18.7 40.8 Q20.6 43 23.45 44.2 Q26.3 45.4 30.2 45.4 Q35.1 45.4 37.9 42.6 Q40.7 39.8 40.7 35 L40.7 0 L49.2 0 L49.2 34 Q49.2 38.2 48.35 41.65 Q47.5 45.1 45.4 47.6 Q43.3 50.1 39.9 51.5 Q36.5 52.9 31.4 52.9 Q29.1 52.9 26.65 52.4 Q24.2 51.9 21.95 50.85 Q19.7 49.8 17.9 48.15 Q16.1 46.5 15.1 44.1 L14.9 44.1 L14.9 71.4 Z\"\n",
       "        /><glyph unicode=\"n\" horiz-adv-x=\"55.6\" d=\"M6.4 51.7 L6.4 0 L14.9 0 L14.9 29.2 Q14.9 32.7 15.85 35.65 Q16.8 38.6 18.7 40.8 Q20.6 43 23.45 44.2 Q26.3 45.4 30.2 45.4 Q35.1 45.4 37.9 42.6 Q40.7 39.8 40.7 35 L40.7 0 L49.2 0 L49.2 34 Q49.2 38.2 48.35 41.65 Q47.5 45.1 45.4 47.6 Q43.3 50.1 39.9 51.5 Q36.5 52.9 31.4 52.9 Q19.9 52.9 14.6 43.5 L14.4 43.5 L14.4 51.7 Z\"\n",
       "        /><glyph unicode=\"o\" horiz-adv-x=\"57.4\" d=\"M12.6 25.8 Q12.6 30.5 13.85 34.15 Q15.1 37.8 17.3 40.3 Q19.5 42.8 22.45 44.1 Q25.4 45.4 28.7 45.4 Q32 45.4 34.95 44.1 Q37.9 42.8 40.1 40.3 Q42.3 37.8 43.55 34.15 Q44.8 30.5 44.8 25.8 Q44.8 21.1 43.55 17.45 Q42.3 13.8 40.1 11.35 Q37.9 8.9 34.95 7.6 Q32 6.3 28.7 6.3 Q25.4 6.3 22.45 7.6 Q19.5 8.9 17.3 11.35 Q15.1 13.8 13.85 17.45 Q12.6 21.1 12.6 25.8 ZM3.6 25.8 Q3.6 20.1 5.2 15.2 Q6.8 10.3 10 6.65 Q13.2 3 17.9 0.95 Q22.6 -1.1 28.7 -1.1 Q34.9 -1.1 39.55 0.95 Q44.2 3 47.4 6.65 Q50.6 10.3 52.2 15.2 Q53.8 20.1 53.8 25.8 Q53.8 31.5 52.2 36.45 Q50.6 41.4 47.4 45.05 Q44.2 48.7 39.55 50.8 Q34.9 52.9 28.7 52.9 Q22.6 52.9 17.9 50.8 Q13.2 48.7 10 45.05 Q6.8 41.4 5.2 36.45 Q3.6 31.5 3.6 25.8 Z\"\n",
       "        /><glyph unicode=\"r\" horiz-adv-x=\"33.3\" d=\"M6.1 51.7 L6.1 0 L14.6 0 L14.6 23 Q14.6 28 15.6 31.85 Q16.6 35.7 18.8 38.4 Q21 41.1 24.6 42.5 Q28.2 43.9 33.3 43.9 L33.3 52.9 Q26.4 53.1 21.9 50.1 Q17.4 47.1 14.3 40.8 L14.1 40.8 L14.1 51.7 Z\"\n",
       "        /><glyph unicode=\" \" horiz-adv-x=\"27.8\" d=\"\"\n",
       "        /><glyph unicode=\"e\" horiz-adv-x=\"53.7\" d=\"M42.3 30.8 L12.6 30.8 Q12.8 33.8 13.9 36.45 Q15 39.1 16.9 41.1 Q18.8 43.1 21.45 44.25 Q24.1 45.4 27.4 45.4 Q30.6 45.4 33.25 44.25 Q35.9 43.1 37.85 41.15 Q39.8 39.2 40.95 36.5 Q42.1 33.8 42.3 30.8 ZM50.5 16.4 L42.1 16.4 Q41 11.3 37.55 8.8 Q34.1 6.3 28.7 6.3 Q24.5 6.3 21.4 7.7 Q18.3 9.1 16.3 11.45 Q14.3 13.8 13.4 16.85 Q12.5 19.9 12.6 23.3 L51.3 23.3 Q51.5 28 50.45 33.2 Q49.4 38.4 46.65 42.8 Q43.9 47.2 39.35 50.05 Q34.8 52.9 27.9 52.9 Q22.6 52.9 18.15 50.9 Q13.7 48.9 10.45 45.3 Q7.2 41.7 5.4 36.8 Q3.6 31.9 3.6 26 Q3.8 20.1 5.35 15.1 Q6.9 10.1 10 6.5 Q13.1 2.9 17.65 0.9 Q22.2 -1.1 28.4 -1.1 Q37.2 -1.1 43 3.3 Q48.8 7.7 50.5 16.4 Z\"\n",
       "        /><glyph unicode=\"s\" horiz-adv-x=\"50.0\" d=\"M11.6 16.3 L3.1 16.3 Q3.3 11.5 5.1 8.15 Q6.9 4.8 9.9 2.75 Q12.9 0.7 16.8 -0.2 Q20.7 -1.1 25 -1.1 Q28.9 -1.1 32.85 -0.35 Q36.8 0.4 39.95 2.3 Q43.1 4.2 45.05 7.3 Q47 10.4 47 15.1 Q47 18.8 45.55 21.3 Q44.1 23.8 41.75 25.45 Q39.4 27.1 36.35 28.1 Q33.3 29.1 30.1 29.8 Q27.1 30.5 24.1 31.15 Q21.1 31.8 18.7 32.75 Q16.3 33.7 14.75 35.15 Q13.2 36.6 13.2 38.8 Q13.2 40.8 14.2 42.05 Q15.2 43.3 16.8 44.05 Q18.4 44.8 20.35 45.1 Q22.3 45.4 24.2 45.4 Q26.3 45.4 28.35 44.95 Q30.4 44.5 32.1 43.5 Q33.8 42.5 34.9 40.85 Q36 39.2 36.2 36.7 L44.7 36.7 Q44.4 41.4 42.7 44.55 Q41 47.7 38.15 49.55 Q35.3 51.4 31.6 52.15 Q27.9 52.9 23.5 52.9 Q20.1 52.9 16.65 52.05 Q13.2 51.2 10.45 49.45 Q7.7 47.7 5.95 44.9 Q4.2 42.1 4.2 38.2 Q4.2 33.2 6.7 30.4 Q9.2 27.6 12.95 26.05 Q16.7 24.5 21.1 23.65 Q25.5 22.8 29.25 21.75 Q33 20.7 35.5 19 Q38 17.3 38 14 Q38 11.6 36.8 10.05 Q35.6 8.5 33.75 7.7 Q31.9 6.9 29.7 6.6 Q27.5 6.3 25.5 6.3 Q22.9 6.3 20.45 6.8 Q18 7.3 16.05 8.45 Q14.1 9.6 12.9 11.55 Q11.7 13.5 11.6 16.3 Z\"\n",
       "        /><glyph unicode=\"l\" horiz-adv-x=\"22.2\" d=\"M6.9 71.4 L6.9 0 L15.4 0 L15.4 71.4 Z\"\n",
       "        /><glyph unicode=\"u\" horiz-adv-x=\"55.6\" d=\"M49.2 0 L49.2 51.7 L40.7 51.7 L40.7 22.5 Q40.7 19 39.75 16.05 Q38.8 13.1 36.9 10.9 Q35 8.7 32.15 7.5 Q29.3 6.3 25.4 6.3 Q20.5 6.3 17.7 9.1 Q14.9 11.9 14.9 16.7 L14.9 51.7 L6.4 51.7 L6.4 17.7 Q6.4 13.5 7.25 10.05 Q8.1 6.6 10.2 4.1 Q12.3 1.6 15.7 0.25 Q19.1 -1.1 24.2 -1.1 Q29.9 -1.1 34.1 1.15 Q38.3 3.4 41 8.2 L41.2 8.2 L41.2 0 Z\"\n",
       "        /><glyph unicode=\"p\" horiz-adv-x=\"59.3\" d=\"M6.7 51.7 L6.7 -19.7 L15.2 -19.7 L15.2 6.9 L15.4 6.9 Q16.8 4.6 18.85 3.05 Q20.9 1.5 23.2 0.6 Q25.5 -0.3 27.85 -0.7 Q30.2 -1.1 32.1 -1.1 Q38 -1.1 42.45 1 Q46.9 3.1 49.85 6.75 Q52.8 10.4 54.25 15.3 Q55.7 20.2 55.7 25.7 Q55.7 31.2 54.2 36.1 Q52.7 41 49.75 44.75 Q46.8 48.5 42.35 50.7 Q37.9 52.9 31.9 52.9 Q26.5 52.9 22 50.95 Q17.5 49 15.4 44.7 L15.2 44.7 L15.2 51.7 ZM46.7 26.3 Q46.7 22.5 45.9 18.9 Q45.1 15.3 43.3 12.5 Q41.5 9.7 38.55 8 Q35.6 6.3 31.2 6.3 Q26.8 6.3 23.7 7.95 Q20.6 9.6 18.65 12.3 Q16.7 15 15.8 18.55 Q14.9 22.1 14.9 25.9 Q14.9 29.5 15.75 33 Q16.6 36.5 18.5 39.25 Q20.4 42 23.4 43.7 Q26.4 45.4 30.7 45.4 Q34.8 45.4 37.85 43.8 Q40.9 42.2 42.85 39.5 Q44.8 36.8 45.75 33.35 Q46.7 29.9 46.7 26.3 Z\"\n",
       "        /><glyph unicode=\"m\" horiz-adv-x=\"85.3\" d=\"M6.4 51.7 L6.4 0 L14.9 0 L14.9 32.2 Q14.9 33.7 15.65 35.95 Q16.4 38.2 18.05 40.3 Q19.7 42.4 22.35 43.9 Q25 45.4 28.7 45.4 Q31.6 45.4 33.45 44.55 Q35.3 43.7 36.4 42.15 Q37.5 40.6 37.95 38.5 Q38.4 36.4 38.4 33.9 L38.4 0 L46.9 0 L46.9 32.2 Q46.9 38.2 50.5 41.8 Q54.1 45.4 60.4 45.4 Q63.5 45.4 65.45 44.5 Q67.4 43.6 68.5 42.05 Q69.6 40.5 70 38.4 Q70.4 36.3 70.4 33.9 L70.4 0 L78.9 0 L78.9 37.9 Q78.9 41.9 77.65 44.75 Q76.4 47.6 74.15 49.4 Q71.9 51.2 68.75 52.05 Q65.6 52.9 61.7 52.9 Q56.6 52.9 52.35 50.6 Q48.1 48.3 45.5 44.1 Q43.9 48.9 40 50.9 Q36.1 52.9 31.3 52.9 Q20.4 52.9 14.6 44.1 L14.4 44.1 L14.4 51.7 Z\"\n",
       "        /><glyph unicode=\"I\" horiz-adv-x=\"25.9\" d=\"M8.2 71.4 L8.2 0 L17.7 0 L17.7 71.4 Z\"\n",
       "        /><glyph unicode=\"5\" horiz-adv-x=\"55.6\" d=\"M47 62.2 L47 69.7 L12 69.7 L5.4 32.9 L12.7 32.5 Q15.2 35.5 18.45 37.35 Q21.7 39.2 25.9 39.2 Q29.5 39.2 32.45 38 Q35.4 36.8 37.5 34.65 Q39.6 32.5 40.75 29.55 Q41.9 26.6 41.9 23.1 Q41.9 18.9 40.7 15.75 Q39.5 12.6 37.45 10.5 Q35.4 8.4 32.65 7.35 Q29.9 6.3 26.9 6.3 Q23.7 6.3 21.05 7.25 Q18.4 8.2 16.45 9.95 Q14.5 11.7 13.35 14.05 Q12.2 16.4 12 19.1 L3.5 19.1 Q3.6 14.3 5.4 10.5 Q7.2 6.7 10.3 4.15 Q13.4 1.6 17.45 0.25 Q21.5 -1.1 26.1 -1.1 Q32.3 -1.1 36.95 0.85 Q41.6 2.8 44.7 6.1 Q47.8 9.4 49.35 13.65 Q50.9 17.9 50.9 22.4 Q50.9 28.5 49.1 33.05 Q47.3 37.6 44.2 40.65 Q41.1 43.7 36.9 45.2 Q32.7 46.7 28 46.7 Q24.4 46.7 20.75 45.45 Q17.1 44.2 14.8 41.6 L14.6 41.8 L18.4 62.2 Z\"\n",
       "      /></font\n",
       "      ><font horiz-adv-x=\"50.0\" id=\"font2\"\n",
       "      ><font-face ascent=\"97.5\" descent=\"21.699999\" units-per-em=\"100\" style=\"font-style:normal; font-family:Helvetica Neue; font-weight:bold;\"\n",
       "        /><missing-glyph horiz-adv-x=\"50.0\" d=\"M39.1 60.7 L11.1 60.7 L11.1 9.5 L39.1 9.5 ZM48.2 69.8 L48.2 0.3 L1.7 0.3 L1.7 69.8 Z\"\n",
       "        /><glyph unicode=\"2\" horiz-adv-x=\"55.6\" d=\"M3.7 43.1 L17.3 43.1 Q17.3 45.9 17.85 48.75 Q18.4 51.6 19.7 53.95 Q21 56.3 23.15 57.75 Q25.3 59.2 28.4 59.2 Q33 59.2 35.95 56.35 Q38.9 53.5 38.9 48.4 Q38.9 45.2 37.45 42.7 Q36 40.2 33.85 38.2 Q31.7 36.2 29.1 34.55 Q26.5 32.9 24.2 31.3 Q19.7 28.2 15.65 25.2 Q11.6 22.2 8.6 18.65 Q5.6 15.1 3.85 10.6 Q2.1 6.1 2.1 0 L53.5 0 L53.5 12.2 L20.4 12.2 Q23 15.8 26.4 18.5 Q29.8 21.2 33.4 23.55 Q37 25.9 40.55 28.3 Q44.1 30.7 46.9 33.65 Q49.7 36.6 51.4 40.4 Q53.1 44.2 53.1 49.5 Q53.1 54.6 51.15 58.7 Q49.2 62.8 45.9 65.6 Q42.6 68.4 38.25 69.9 Q33.9 71.4 29.1 71.4 Q22.8 71.4 17.95 69.25 Q13.1 67.1 9.9 63.25 Q6.7 59.4 5.1 54.25 Q3.5 49.1 3.7 43.1 Z\"\n",
       "        /><glyph unicode=\"t\" horiz-adv-x=\"35.2\" d=\"M23.4 51.7 L23.4 67.2 L9.2 67.2 L9.2 51.7 L0.6 51.7 L0.6 42.2 L9.2 42.2 L9.2 11.7 Q9.2 7.8 10.5 5.4 Q11.8 3 14.05 1.7 Q16.3 0.4 19.25 -0.05 Q22.2 -0.5 25.5 -0.5 Q27.6 -0.5 29.8 -0.4 Q32 -0.3 33.8 0 L33.8 11 Q32.8 10.8 31.7 10.7 Q30.6 10.6 29.4 10.6 Q25.8 10.6 24.6 11.8 Q23.4 13 23.4 16.6 L23.4 42.2 L33.8 42.2 L33.8 51.7 Z\"\n",
       "        /><glyph unicode=\"r\" horiz-adv-x=\"38.9\" d=\"M5.4 51.7 L5.4 0 L19.6 0 L19.6 23.3 Q19.6 26.8 20.3 29.8 Q21 32.8 22.65 35.05 Q24.3 37.3 27 38.6 Q29.7 39.9 33.6 39.9 Q34.9 39.9 36.3 39.75 Q37.7 39.6 38.7 39.4 L38.7 52.6 Q37 53.1 35.6 53.1 Q32.9 53.1 30.4 52.3 Q27.9 51.5 25.7 50.05 Q23.5 48.6 21.8 46.55 Q20.1 44.5 19.1 42.1 L18.9 42.1 L18.9 51.7 Z\"\n",
       "        /><glyph unicode=\"P\" horiz-adv-x=\"66.7\" d=\"M22.6 37.8 L22.6 59.2 L34.8 59.2 Q37.5 59.2 40 58.8 Q42.5 58.4 44.4 57.25 Q46.3 56.1 47.45 54 Q48.6 51.9 48.6 48.5 Q48.6 45.1 47.45 43 Q46.3 40.9 44.4 39.75 Q42.5 38.6 40 38.2 Q37.5 37.8 34.8 37.8 ZM6.9 71.4 L6.9 0 L22.6 0 L22.6 25.6 L39.1 25.6 Q45.8 25.6 50.5 27.55 Q55.2 29.5 58.15 32.7 Q61.1 35.9 62.45 40.05 Q63.8 44.2 63.8 48.5 Q63.8 52.9 62.45 57 Q61.1 61.1 58.15 64.3 Q55.2 67.5 50.5 69.45 Q45.8 71.4 39.1 71.4 Z\"\n",
       "        /><glyph unicode=\"-\" horiz-adv-x=\"40.7\" d=\"M5.3 33.4 L5.3 21.2 L35.4 21.2 L35.4 33.4 Z\"\n",
       "        /><glyph unicode=\"5\" horiz-adv-x=\"55.6\" d=\"M50 58.3 L50 70 L10.9 70 L4 31.3 L16.8 31.3 Q18.9 34.2 21.3 35.55 Q23.7 36.9 27.5 36.9 Q30.4 36.9 32.6 35.9 Q34.8 34.9 36.4 33.1 Q38 31.3 38.8 28.9 Q39.6 26.5 39.6 23.8 Q39.6 21.2 38.75 18.75 Q37.9 16.3 36.35 14.45 Q34.8 12.6 32.55 11.45 Q30.3 10.3 27.5 10.3 Q22.7 10.3 19.6 13.15 Q16.5 16 16 20.8 L1.8 20.8 Q1.9 15.3 4.05 11.15 Q6.2 7 9.8 4.2 Q13.4 1.4 18.05 0.05 Q22.7 -1.3 27.8 -1.3 Q33.1 -1.4 37.8 0.45 Q42.5 2.3 46.05 5.7 Q49.6 9.1 51.7 13.75 Q53.8 18.4 53.8 23.8 Q53.8 28.7 52.35 33.05 Q50.9 37.4 48.15 40.6 Q45.4 43.8 41.4 45.7 Q37.4 47.6 32.2 47.6 Q28 47.6 24.7 46.35 Q21.4 45.1 18.5 42.2 L18.3 42.4 L21.1 58.3 Z\"\n",
       "        /><glyph unicode=\" \" horiz-adv-x=\"27.8\" d=\"\"\n",
       "        /><glyph unicode=\"e\" horiz-adv-x=\"57.4\" d=\"M40.2 31.4 L17.1 31.4 Q17.2 32.9 17.75 34.8 Q18.3 36.7 19.65 38.4 Q21 40.1 23.25 41.25 Q25.5 42.4 28.9 42.4 Q34.1 42.4 36.65 39.6 Q39.2 36.8 40.2 31.4 ZM17.1 22.4 L54.4 22.4 Q54.8 28.4 53.4 33.9 Q52 39.4 48.85 43.7 Q45.7 48 40.8 50.55 Q35.9 53.1 29.3 53.1 Q23.4 53.1 18.55 51 Q13.7 48.9 10.2 45.25 Q6.7 41.6 4.8 36.6 Q2.9 31.6 2.9 25.8 Q2.9 19.8 4.75 14.8 Q6.6 9.8 10 6.2 Q13.4 2.6 18.3 0.65 Q23.2 -1.3 29.3 -1.3 Q38.1 -1.3 44.3 2.7 Q50.5 6.7 53.5 16 L41 16 Q40.3 13.6 37.2 11.45 Q34.1 9.3 29.8 9.3 Q23.8 9.3 20.6 12.4 Q17.4 15.5 17.1 22.4 Z\"\n",
       "        /><glyph unicode=\"l\" horiz-adv-x=\"25.8\" d=\"M5.8 71.4 L5.8 0 L20 0 L20 71.4 Z\"\n",
       "        /><glyph unicode=\"p\" horiz-adv-x=\"61.1\" d=\"M31.5 9.3 Q28.1 9.3 25.7 10.7 Q23.3 12.1 21.85 14.35 Q20.4 16.6 19.75 19.6 Q19.1 22.6 19.1 25.7 Q19.1 28.9 19.7 31.9 Q20.3 34.9 21.75 37.2 Q23.2 39.5 25.55 40.95 Q27.9 42.4 31.4 42.4 Q34.8 42.4 37.15 40.95 Q39.5 39.5 41 37.15 Q42.5 34.8 43.15 31.8 Q43.8 28.8 43.8 25.7 Q43.8 22.6 43.2 19.6 Q42.6 16.6 41.15 14.35 Q39.7 12.1 37.35 10.7 Q35 9.3 31.5 9.3 ZM5.4 51.7 L5.4 -18.1 L19.6 -18.1 L19.6 6.4 L19.8 6.4 Q22.4 2.6 26.45 0.65 Q30.5 -1.3 35.3 -1.3 Q41 -1.3 45.25 0.9 Q49.5 3.1 52.35 6.8 Q55.2 10.5 56.6 15.3 Q58 20.1 58 25.3 Q58 30.8 56.6 35.85 Q55.2 40.9 52.3 44.7 Q49.4 48.5 45 50.8 Q40.6 53.1 34.5 53.1 Q29.7 53.1 25.7 51.2 Q21.7 49.3 19.1 45.1 L18.9 45.1 L18.9 51.7 Z\"\n",
       "        /><glyph unicode=\"m\" horiz-adv-x=\"90.6\" d=\"M5.8 51.7 L5.8 0 L20 0 L20 30 Q20 33.8 21.1 36.15 Q22.2 38.5 23.75 39.75 Q25.3 41 26.95 41.45 Q28.6 41.9 29.6 41.9 Q33 41.9 34.75 40.75 Q36.5 39.6 37.25 37.7 Q38 35.8 38.1 33.55 Q38.2 31.3 38.2 29 L38.2 0 L52.4 0 L52.4 28.8 Q52.4 31.2 52.75 33.55 Q53.1 35.9 54.15 37.75 Q55.2 39.6 57.05 40.75 Q58.9 41.9 61.9 41.9 Q64.9 41.9 66.65 40.9 Q68.4 39.9 69.3 38.2 Q70.2 36.5 70.4 34.2 Q70.6 31.9 70.6 29.3 L70.6 0 L84.8 0 L84.8 34.6 Q84.8 39.6 83.4 43.15 Q82 46.7 79.5 48.9 Q77 51.1 73.5 52.1 Q70 53.1 65.9 53.1 Q60.5 53.1 56.55 50.5 Q52.6 47.9 50.3 44.5 Q48.2 49.3 44.15 51.2 Q40.1 53.1 35.2 53.1 Q30.1 53.1 26.15 50.9 Q22.2 48.7 19.4 44.7 L19.2 44.7 L19.2 51.7 Z\"\n",
       "        /><glyph unicode=\"a\" horiz-adv-x=\"57.4\" d=\"M4.8 35.8 Q5.1 40.8 7.3 44.1 Q9.5 47.4 12.9 49.4 Q16.3 51.4 20.55 52.25 Q24.8 53.1 29.1 53.1 Q33 53.1 37 52.55 Q41 52 44.3 50.4 Q47.6 48.8 49.7 45.95 Q51.8 43.1 51.8 38.4 L51.8 11.5 Q51.8 8 52.2 4.8 Q52.6 1.6 53.6 0 L39.2 0 Q38.8 1.2 38.55 2.45 Q38.3 3.7 38.2 5 Q34.8 1.5 30.2 0.1 Q25.6 -1.3 20.8 -1.3 Q17.1 -1.3 13.9 -0.4 Q10.7 0.5 8.3 2.4 Q5.9 4.3 4.55 7.2 Q3.2 10.1 3.2 14.1 Q3.2 18.5 4.75 21.35 Q6.3 24.2 8.75 25.9 Q11.2 27.6 14.35 28.45 Q17.5 29.3 20.7 29.8 Q23.9 30.3 27 30.6 Q30.1 30.9 32.5 31.5 Q34.9 32.1 36.3 33.25 Q37.7 34.4 37.6 36.6 Q37.6 38.9 36.85 40.25 Q36.1 41.6 34.85 42.35 Q33.6 43.1 31.95 43.35 Q30.3 43.6 28.4 43.6 Q24.2 43.6 21.8 41.8 Q19.4 40 19 35.8 ZM37.6 25.3 Q36.7 24.5 35.35 24.05 Q34 23.6 32.45 23.3 Q30.9 23 29.2 22.8 Q27.5 22.6 25.8 22.3 Q24.2 22 22.65 21.5 Q21.1 21 19.95 20.15 Q18.8 19.3 18.1 18 Q17.4 16.7 17.4 14.7 Q17.4 12.8 18.1 11.5 Q18.8 10.2 20 9.45 Q21.2 8.7 22.8 8.4 Q24.4 8.1 26.1 8.1 Q30.3 8.1 32.6 9.5 Q34.9 10.9 36 12.85 Q37.1 14.8 37.35 16.8 Q37.6 18.8 37.6 20 Z\"\n",
       "        /><glyph unicode=\"x\" horiz-adv-x=\"53.7\" d=\"M18.6 27.2 L0 0 L15.9 0 L26.7 16.3 L37.5 0 L53.7 0 L34.6 27.5 L51.6 51.7 L35.9 51.7 L26.9 38.2 L17.8 51.7 L1.6 51.7 Z\"\n",
       "        /><glyph unicode=\"E\" horiz-adv-x=\"64.8\" d=\"M6.9 71.4 L6.9 0 L61.1 0 L61.1 13.2 L22.6 13.2 L22.6 30.7 L57.2 30.7 L57.2 42.9 L22.6 42.9 L22.6 58.2 L60.3 58.2 L60.3 71.4 Z\"\n",
       "      /></font\n",
       "    ></defs\n",
       "    ><g style=\"fill:white; stroke:white;\"\n",
       "    ><rect x=\"0\" y=\"0\" width=\"560\" style=\"clip-path:url(#clipPath1); stroke:none;\" height=\"420\"\n",
       "    /></g\n",
       "    ><g style=\"fill:white; text-rendering:optimizeSpeed; color-rendering:optimizeSpeed; image-rendering:optimizeSpeed; shape-rendering:crispEdges; stroke:white; color-interpolation:sRGB;\"\n",
       "    ><rect x=\"0\" width=\"560\" height=\"420\" y=\"0\" style=\"stroke:none;\"\n",
       "      /><path style=\"stroke:none;\" d=\"M73 374 L507 374 L507 31.5 L73 31.5 Z\"\n",
       "    /></g\n",
       "    ><g style=\"stroke-linecap:butt; fill-opacity:0.149; fill:rgb(38,38,38); text-rendering:geometricPrecision; image-rendering:optimizeQuality; color-rendering:optimizeQuality; stroke-linejoin:round; stroke:rgb(38,38,38); color-interpolation:linearRGB; stroke-width:0.5; stroke-opacity:0.149;\"\n",
       "    ><line y2=\"31.5\" style=\"fill:none;\" x1=\"73\" x2=\"73\" y1=\"374\"\n",
       "      /><line y2=\"31.5\" style=\"fill:none;\" x1=\"217.6667\" x2=\"217.6667\" y1=\"374\"\n",
       "      /><line y2=\"31.5\" style=\"fill:none;\" x1=\"362.3333\" x2=\"362.3333\" y1=\"374\"\n",
       "      /><line y2=\"31.5\" style=\"fill:none;\" x1=\"507\" x2=\"507\" y1=\"374\"\n",
       "      /><line y2=\"374\" style=\"fill:none;\" x1=\"507\" x2=\"73\" y1=\"374\"\n",
       "      /><line y2=\"335.9445\" style=\"fill:none;\" x1=\"507\" x2=\"73\" y1=\"335.9445\"\n",
       "      /><line y2=\"297.8889\" style=\"fill:none;\" x1=\"507\" x2=\"73\" y1=\"297.8889\"\n",
       "      /><line y2=\"259.8333\" style=\"fill:none;\" x1=\"507\" x2=\"73\" y1=\"259.8333\"\n",
       "      /><line y2=\"221.7778\" style=\"fill:none;\" x1=\"507\" x2=\"73\" y1=\"221.7778\"\n",
       "      /><line y2=\"183.7222\" style=\"fill:none;\" x1=\"507\" x2=\"73\" y1=\"183.7222\"\n",
       "      /><line y2=\"145.6667\" style=\"fill:none;\" x1=\"507\" x2=\"73\" y1=\"145.6667\"\n",
       "      /><line y2=\"107.6111\" style=\"fill:none;\" x1=\"507\" x2=\"73\" y1=\"107.6111\"\n",
       "      /><line y2=\"69.5556\" style=\"fill:none;\" x1=\"507\" x2=\"73\" y1=\"69.5556\"\n",
       "      /><line y2=\"31.5\" style=\"fill:none;\" x1=\"507\" x2=\"73\" y1=\"31.5\"\n",
       "      /><line x1=\"73\" x2=\"73\" y1=\"374\" style=\"stroke-linecap:square; fill-opacity:1; fill:none; stroke-opacity:1;\" y2=\"31.5\"\n",
       "      /><line x1=\"507\" x2=\"507\" y1=\"374\" style=\"stroke-linecap:square; fill-opacity:1; fill:none; stroke-opacity:1;\" y2=\"31.5\"\n",
       "      /><line x1=\"73\" x2=\"77.34\" y1=\"374\" style=\"stroke-linecap:square; fill-opacity:1; fill:none; stroke-opacity:1;\" y2=\"374\"\n",
       "      /><line x1=\"73\" x2=\"77.34\" y1=\"335.9445\" style=\"stroke-linecap:square; fill-opacity:1; fill:none; stroke-opacity:1;\" y2=\"335.9445\"\n",
       "      /><line x1=\"73\" x2=\"77.34\" y1=\"297.8889\" style=\"stroke-linecap:square; fill-opacity:1; fill:none; stroke-opacity:1;\" y2=\"297.8889\"\n",
       "      /><line x1=\"73\" x2=\"77.34\" y1=\"259.8333\" style=\"stroke-linecap:square; fill-opacity:1; fill:none; stroke-opacity:1;\" y2=\"259.8333\"\n",
       "      /><line x1=\"73\" x2=\"77.34\" y1=\"221.7778\" style=\"stroke-linecap:square; fill-opacity:1; fill:none; stroke-opacity:1;\" y2=\"221.7778\"\n",
       "      /><line x1=\"73\" x2=\"77.34\" y1=\"183.7222\" style=\"stroke-linecap:square; fill-opacity:1; fill:none; stroke-opacity:1;\" y2=\"183.7222\"\n",
       "      /><line x1=\"73\" x2=\"77.34\" y1=\"145.6667\" style=\"stroke-linecap:square; fill-opacity:1; fill:none; stroke-opacity:1;\" y2=\"145.6667\"\n",
       "      /><line x1=\"73\" x2=\"77.34\" y1=\"107.6111\" style=\"stroke-linecap:square; fill-opacity:1; fill:none; stroke-opacity:1;\" y2=\"107.6111\"\n",
       "      /><line x1=\"73\" x2=\"77.34\" y1=\"69.5556\" style=\"stroke-linecap:square; fill-opacity:1; fill:none; stroke-opacity:1;\" y2=\"69.5556\"\n",
       "      /><line x1=\"73\" x2=\"77.34\" y1=\"31.5\" style=\"stroke-linecap:square; fill-opacity:1; fill:none; stroke-opacity:1;\" y2=\"31.5\"\n",
       "      /><line x1=\"507\" x2=\"502.66\" y1=\"374\" style=\"stroke-linecap:square; fill-opacity:1; fill:none; stroke-opacity:1;\" y2=\"374\"\n",
       "      /><line x1=\"507\" x2=\"502.66\" y1=\"335.9445\" style=\"stroke-linecap:square; fill-opacity:1; fill:none; stroke-opacity:1;\" y2=\"335.9445\"\n",
       "      /><line x1=\"507\" x2=\"502.66\" y1=\"297.8889\" style=\"stroke-linecap:square; fill-opacity:1; fill:none; stroke-opacity:1;\" y2=\"297.8889\"\n",
       "      /><line x1=\"507\" x2=\"502.66\" y1=\"259.8333\" style=\"stroke-linecap:square; fill-opacity:1; fill:none; stroke-opacity:1;\" y2=\"259.8333\"\n",
       "      /><line x1=\"507\" x2=\"502.66\" y1=\"221.7778\" style=\"stroke-linecap:square; fill-opacity:1; fill:none; stroke-opacity:1;\" y2=\"221.7778\"\n",
       "      /><line x1=\"507\" x2=\"502.66\" y1=\"183.7222\" style=\"stroke-linecap:square; fill-opacity:1; fill:none; stroke-opacity:1;\" y2=\"183.7222\"\n",
       "      /><line x1=\"507\" x2=\"502.66\" y1=\"145.6667\" style=\"stroke-linecap:square; fill-opacity:1; fill:none; stroke-opacity:1;\" y2=\"145.6667\"\n",
       "      /><line x1=\"507\" x2=\"502.66\" y1=\"107.6111\" style=\"stroke-linecap:square; fill-opacity:1; fill:none; stroke-opacity:1;\" y2=\"107.6111\"\n",
       "      /><line x1=\"507\" x2=\"502.66\" y1=\"69.5556\" style=\"stroke-linecap:square; fill-opacity:1; fill:none; stroke-opacity:1;\" y2=\"69.5556\"\n",
       "      /><line x1=\"507\" x2=\"502.66\" y1=\"31.5\" style=\"stroke-linecap:square; fill-opacity:1; fill:none; stroke-opacity:1;\" y2=\"31.5\"\n",
       "    /></g\n",
       "    ><g transform=\"translate(69,374)\" style=\"font-size:10px; fill:rgb(38,38,38); text-rendering:geometricPrecision; image-rendering:optimizeQuality; color-rendering:optimizeQuality; font-family:'Helvetica Neue'; stroke:rgb(38,38,38); color-interpolation:linearRGB;\"\n",
       "    ><text x=\"-18\" xml:space=\"preserve\" y=\"3.5\" style=\"stroke:none;\"\n",
       "      >-0.2</text\n",
       "    ></g\n",
       "    ><g transform=\"translate(69,335.9445)\" style=\"font-size:10px; fill:rgb(38,38,38); text-rendering:geometricPrecision; image-rendering:optimizeQuality; color-rendering:optimizeQuality; font-family:'Helvetica Neue'; stroke:rgb(38,38,38); color-interpolation:linearRGB;\"\n",
       "    ><text x=\"-6\" xml:space=\"preserve\" y=\"3.5\" style=\"stroke:none;\"\n",
       "      >0</text\n",
       "    ></g\n",
       "    ><g transform=\"translate(69,297.8889)\" style=\"font-size:10px; fill:rgb(38,38,38); text-rendering:geometricPrecision; image-rendering:optimizeQuality; color-rendering:optimizeQuality; font-family:'Helvetica Neue'; stroke:rgb(38,38,38); color-interpolation:linearRGB;\"\n",
       "    ><text x=\"-14\" xml:space=\"preserve\" y=\"3.5\" style=\"stroke:none;\"\n",
       "      >0.2</text\n",
       "    ></g\n",
       "    ><g transform=\"translate(69,259.8333)\" style=\"font-size:10px; fill:rgb(38,38,38); text-rendering:geometricPrecision; image-rendering:optimizeQuality; color-rendering:optimizeQuality; font-family:'Helvetica Neue'; stroke:rgb(38,38,38); color-interpolation:linearRGB;\"\n",
       "    ><text x=\"-14\" xml:space=\"preserve\" y=\"3.5\" style=\"stroke:none;\"\n",
       "      >0.4</text\n",
       "    ></g\n",
       "    ><g transform=\"translate(69,221.7778)\" style=\"font-size:10px; fill:rgb(38,38,38); text-rendering:geometricPrecision; image-rendering:optimizeQuality; color-rendering:optimizeQuality; font-family:'Helvetica Neue'; stroke:rgb(38,38,38); color-interpolation:linearRGB;\"\n",
       "    ><text x=\"-14\" xml:space=\"preserve\" y=\"3.5\" style=\"stroke:none;\"\n",
       "      >0.6</text\n",
       "    ></g\n",
       "    ><g transform=\"translate(69,183.7222)\" style=\"font-size:10px; fill:rgb(38,38,38); text-rendering:geometricPrecision; image-rendering:optimizeQuality; color-rendering:optimizeQuality; font-family:'Helvetica Neue'; stroke:rgb(38,38,38); color-interpolation:linearRGB;\"\n",
       "    ><text x=\"-14\" xml:space=\"preserve\" y=\"3.5\" style=\"stroke:none;\"\n",
       "      >0.8</text\n",
       "    ></g\n",
       "    ><g transform=\"translate(69,145.6667)\" style=\"font-size:10px; fill:rgb(38,38,38); text-rendering:geometricPrecision; image-rendering:optimizeQuality; color-rendering:optimizeQuality; font-family:'Helvetica Neue'; stroke:rgb(38,38,38); color-interpolation:linearRGB;\"\n",
       "    ><text x=\"-6\" xml:space=\"preserve\" y=\"3.5\" style=\"stroke:none;\"\n",
       "      >1</text\n",
       "    ></g\n",
       "    ><g transform=\"translate(69,107.6111)\" style=\"font-size:10px; fill:rgb(38,38,38); text-rendering:geometricPrecision; image-rendering:optimizeQuality; color-rendering:optimizeQuality; font-family:'Helvetica Neue'; stroke:rgb(38,38,38); color-interpolation:linearRGB;\"\n",
       "    ><text x=\"-14\" xml:space=\"preserve\" y=\"3.5\" style=\"stroke:none;\"\n",
       "      >1.2</text\n",
       "    ></g\n",
       "    ><g transform=\"translate(69,69.5556)\" style=\"font-size:10px; fill:rgb(38,38,38); text-rendering:geometricPrecision; image-rendering:optimizeQuality; color-rendering:optimizeQuality; font-family:'Helvetica Neue'; stroke:rgb(38,38,38); color-interpolation:linearRGB;\"\n",
       "    ><text x=\"-14\" xml:space=\"preserve\" y=\"3.5\" style=\"stroke:none;\"\n",
       "      >1.4</text\n",
       "    ></g\n",
       "    ><g transform=\"translate(69,31.5)\" style=\"font-size:10px; fill:rgb(38,38,38); text-rendering:geometricPrecision; image-rendering:optimizeQuality; color-rendering:optimizeQuality; font-family:'Helvetica Neue'; stroke:rgb(38,38,38); color-interpolation:linearRGB;\"\n",
       "    ><text x=\"-14\" xml:space=\"preserve\" y=\"3.5\" style=\"stroke:none;\"\n",
       "      >1.6</text\n",
       "    ></g\n",
       "    ><g transform=\"translate(48,202.7498) rotate(-90)\" style=\"font-size:11px; fill:rgb(38,38,38); text-rendering:geometricPrecision; image-rendering:optimizeQuality; color-rendering:optimizeQuality; font-family:'Helvetica Neue'; stroke:rgb(38,38,38); color-interpolation:linearRGB;\"\n",
       "    ><text x=\"-54.5\" xml:space=\"preserve\" y=\"-3\" style=\"stroke:none;\"\n",
       "      >Impulse response h[n]</text\n",
       "    ></g\n",
       "    ><g transform=\"translate(290.0003,30.125)\" style=\"font-size:11px; text-rendering:geometricPrecision; image-rendering:optimizeQuality; color-rendering:optimizeQuality; font-family:'Helvetica Neue'; color-interpolation:linearRGB; font-weight:bold;\"\n",
       "    ><text x=\"-48\" xml:space=\"preserve\" y=\"-3\" style=\"stroke:none;\"\n",
       "      >Example 5 - Part 2</text\n",
       "    ></g\n",
       "    ><g style=\"stroke-linecap:butt; fill:rgb(38,38,38); text-rendering:geometricPrecision; image-rendering:optimizeQuality; color-rendering:optimizeQuality; stroke-linejoin:round; stroke:rgb(38,38,38); color-interpolation:linearRGB; stroke-width:0.5;\"\n",
       "    ><line y2=\"335.9445\" style=\"fill:none;\" x1=\"73\" x2=\"507\" y1=\"335.9445\"\n",
       "      /><path d=\"M0 -2.75 C1.5188 -2.75 2.75 -1.5188 2.75 0 L2.75 0 C2.75 1.5188 1.5188 2.75 -0 2.75 C-1.5188 2.75 -2.75 1.5188 -2.75 -0 C-2.75 -1.5188 -1.5188 -2.75 0 -2.75 ZM0 -3.25 C-1.7949 -3.25 -3.25 -1.7949 -3.25 -0 C-3.25 1.7949 -1.7949 3.25 -0 3.25 C1.7949 3.25 3.25 1.7949 3.25 0 L3.25 0 C3.25 -1.7949 1.7949 -3.25 0 -3.25 Z\" style=\"fill:rgb(0,114,189); stroke:none;\" transform=\"translate(73,335.9445)\"\n",
       "      /><path d=\"M0 -2.75 C1.5188 -2.75 2.75 -1.5188 2.75 0 L2.75 0 C2.75 1.5188 1.5188 2.75 -0 2.75 C-1.5188 2.75 -2.75 1.5188 -2.75 -0 C-2.75 -1.5188 -1.5188 -2.75 0 -2.75 ZM0 -3.25 C-1.7949 -3.25 -3.25 -1.7949 -3.25 -0 C-3.25 1.7949 -1.7949 3.25 -0 3.25 C1.7949 3.25 3.25 1.7949 3.25 0 L3.25 0 C3.25 -1.7949 1.7949 -3.25 0 -3.25 Z\" style=\"fill:rgb(0,114,189); stroke:none;\" transform=\"translate(101.9333,145.6667)\"\n",
       "      /><path d=\"M0 -2.75 C1.5188 -2.75 2.75 -1.5188 2.75 0 L2.75 0 C2.75 1.5188 1.5188 2.75 -0 2.75 C-1.5188 2.75 -2.75 1.5188 -2.75 -0 C-2.75 -1.5188 -1.5188 -2.75 0 -2.75 ZM0 -3.25 C-1.7949 -3.25 -3.25 -1.7949 -3.25 -0 C-3.25 1.7949 -1.7949 3.25 -0 3.25 C1.7949 3.25 3.25 1.7949 3.25 0 L3.25 0 C3.25 -1.7949 1.7949 -3.25 0 -3.25 Z\" style=\"fill:rgb(0,114,189); stroke:none;\" transform=\"translate(130.8667,50.5278)\"\n",
       "      /><path d=\"M0 -2.75 C1.5188 -2.75 2.75 -1.5188 2.75 0 L2.75 0 C2.75 1.5188 1.5188 2.75 -0 2.75 C-1.5188 2.75 -2.75 1.5188 -2.75 -0 C-2.75 -1.5188 -1.5188 -2.75 0 -2.75 ZM0 -3.25 C-1.7949 -3.25 -3.25 -1.7949 -3.25 -0 C-3.25 1.7949 -1.7949 3.25 -0 3.25 C1.7949 3.25 3.25 1.7949 3.25 0 L3.25 0 C3.25 -1.7949 1.7949 -3.25 0 -3.25 Z\" style=\"fill:rgb(0,114,189); stroke:none;\" transform=\"translate(159.8,217.0208)\"\n",
       "      /><path d=\"M0 -2.75 C1.5188 -2.75 2.75 -1.5188 2.75 0 L2.75 0 C2.75 1.5188 1.5188 2.75 -0 2.75 C-1.5188 2.75 -2.75 1.5188 -2.75 -0 C-2.75 -1.5188 -1.5188 -2.75 0 -2.75 ZM0 -3.25 C-1.7949 -3.25 -3.25 -1.7949 -3.25 -0 C-3.25 1.7949 -1.7949 3.25 -0 3.25 C1.7949 3.25 3.25 1.7949 3.25 0 L3.25 0 C3.25 -1.7949 1.7949 -3.25 0 -3.25 Z\" style=\"fill:rgb(0,114,189); stroke:none;\" transform=\"translate(188.7333,312.1597)\"\n",
       "      /><path d=\"M0 -2.75 C1.5188 -2.75 2.75 -1.5188 2.75 0 L2.75 0 C2.75 1.5188 1.5188 2.75 -0 2.75 C-1.5188 2.75 -2.75 1.5188 -2.75 -0 C-2.75 -1.5188 -1.5188 -2.75 0 -2.75 ZM0 -3.25 C-1.7949 -3.25 -3.25 -1.7949 -3.25 -0 C-3.25 1.7949 -1.7949 3.25 -0 3.25 C1.7949 3.25 3.25 1.7949 3.25 0 L3.25 0 C3.25 -1.7949 1.7949 -3.25 0 -3.25 Z\" style=\"fill:rgb(0,114,189); stroke:none;\" transform=\"translate(217.6667,338.9175)\"\n",
       "      /><path d=\"M0 -2.75 C1.5188 -2.75 2.75 -1.5188 2.75 0 L2.75 0 C2.75 1.5188 1.5188 2.75 -0 2.75 C-1.5188 2.75 -2.75 1.5188 -2.75 -0 C-2.75 -1.5188 -1.5188 -2.75 0 -2.75 ZM0 -3.25 C-1.7949 -3.25 -3.25 -1.7949 -3.25 -0 C-3.25 1.7949 -1.7949 3.25 -0 3.25 C1.7949 3.25 3.25 1.7949 3.25 0 L3.25 0 C3.25 -1.7949 1.7949 -3.25 0 -3.25 Z\" style=\"fill:rgb(0,114,189); stroke:none;\" transform=\"translate(246.6,340.4041)\"\n",
       "      /><path d=\"M0 -2.75 C1.5188 -2.75 2.75 -1.5188 2.75 0 L2.75 0 C2.75 1.5188 1.5188 2.75 -0 2.75 C-1.5188 2.75 -2.75 1.5188 -2.75 -0 C-2.75 -1.5188 -1.5188 -2.75 0 -2.75 ZM0 -3.25 C-1.7949 -3.25 -3.25 -1.7949 -3.25 -0 C-3.25 1.7949 -1.7949 3.25 -0 3.25 C1.7949 3.25 3.25 1.7949 3.25 0 L3.25 0 C3.25 -1.7949 1.7949 -3.25 0 -3.25 Z\" style=\"fill:rgb(0,114,189); stroke:none;\" transform=\"translate(275.5333,337.8026)\"\n",
       "      /><path d=\"M0 -2.75 C1.5188 -2.75 2.75 -1.5188 2.75 0 L2.75 0 C2.75 1.5188 1.5188 2.75 -0 2.75 C-1.5188 2.75 -2.75 1.5188 -2.75 -0 C-2.75 -1.5188 -1.5188 -2.75 0 -2.75 ZM0 -3.25 C-1.7949 -3.25 -3.25 -1.7949 -3.25 -0 C-3.25 1.7949 -1.7949 3.25 -0 3.25 C1.7949 3.25 3.25 1.7949 3.25 0 L3.25 0 C3.25 -1.7949 1.7949 -3.25 0 -3.25 Z\" style=\"fill:rgb(0,114,189); stroke:none;\" transform=\"translate(304.4667,336.3161)\"\n",
       "      /><path d=\"M0 -2.75 C1.5188 -2.75 2.75 -1.5188 2.75 0 L2.75 0 C2.75 1.5188 1.5188 2.75 -0 2.75 C-1.5188 2.75 -2.75 1.5188 -2.75 -0 C-2.75 -1.5188 -1.5188 -2.75 0 -2.75 ZM0 -3.25 C-1.7949 -3.25 -3.25 -1.7949 -3.25 -0 C-3.25 1.7949 -1.7949 3.25 -0 3.25 C1.7949 3.25 3.25 1.7949 3.25 0 L3.25 0 C3.25 -1.7949 1.7949 -3.25 0 -3.25 Z\" style=\"fill:rgb(0,114,189); stroke:none;\" transform=\"translate(333.4,335.898)\"\n",
       "      /><path d=\"M0 -2.75 C1.5188 -2.75 2.75 -1.5188 2.75 0 L2.75 0 C2.75 1.5188 1.5188 2.75 -0 2.75 C-1.5188 2.75 -2.75 1.5188 -2.75 -0 C-2.75 -1.5188 -1.5188 -2.75 0 -2.75 ZM0 -3.25 C-1.7949 -3.25 -3.25 -1.7949 -3.25 -0 C-3.25 1.7949 -1.7949 3.25 -0 3.25 C1.7949 3.25 3.25 1.7949 3.25 0 L3.25 0 C3.25 -1.7949 1.7949 -3.25 0 -3.25 Z\" style=\"fill:rgb(0,114,189); stroke:none;\" transform=\"translate(362.3333,335.8748)\"\n",
       "      /><path d=\"M0 -2.75 C1.5188 -2.75 2.75 -1.5188 2.75 0 L2.75 0 C2.75 1.5188 1.5188 2.75 -0 2.75 C-1.5188 2.75 -2.75 1.5188 -2.75 -0 C-2.75 -1.5188 -1.5188 -2.75 0 -2.75 ZM0 -3.25 C-1.7949 -3.25 -3.25 -1.7949 -3.25 -0 C-3.25 1.7949 -1.7949 3.25 -0 3.25 C1.7949 3.25 3.25 1.7949 3.25 0 L3.25 0 C3.25 -1.7949 1.7949 -3.25 0 -3.25 Z\" style=\"fill:rgb(0,114,189); stroke:none;\" transform=\"translate(391.2667,335.9154)\"\n",
       "      /><path d=\"M0 -2.75 C1.5188 -2.75 2.75 -1.5188 2.75 0 L2.75 0 C2.75 1.5188 1.5188 2.75 -0 2.75 C-1.5188 2.75 -2.75 1.5188 -2.75 -0 C-2.75 -1.5188 -1.5188 -2.75 0 -2.75 ZM0 -3.25 C-1.7949 -3.25 -3.25 -1.7949 -3.25 -0 C-3.25 1.7949 -1.7949 3.25 -0 3.25 C1.7949 3.25 3.25 1.7949 3.25 0 L3.25 0 C3.25 -1.7949 1.7949 -3.25 0 -3.25 Z\" style=\"fill:rgb(0,114,189); stroke:none;\" transform=\"translate(420.2,335.9386)\"\n",
       "      /><path d=\"M0 -2.75 C1.5188 -2.75 2.75 -1.5188 2.75 0 L2.75 0 C2.75 1.5188 1.5188 2.75 -0 2.75 C-1.5188 2.75 -2.75 1.5188 -2.75 -0 C-2.75 -1.5188 -1.5188 -2.75 0 -2.75 ZM0 -3.25 C-1.7949 -3.25 -3.25 -1.7949 -3.25 -0 C-3.25 1.7949 -1.7949 3.25 -0 3.25 C1.7949 3.25 3.25 1.7949 3.25 0 L3.25 0 C3.25 -1.7949 1.7949 -3.25 0 -3.25 Z\" style=\"fill:rgb(0,114,189); stroke:none;\" transform=\"translate(449.1333,335.9452)\"\n",
       "      /><path d=\"M0 -2.75 C1.5188 -2.75 2.75 -1.5188 2.75 0 L2.75 0 C2.75 1.5188 1.5188 2.75 -0 2.75 C-1.5188 2.75 -2.75 1.5188 -2.75 -0 C-2.75 -1.5188 -1.5188 -2.75 0 -2.75 ZM0 -3.25 C-1.7949 -3.25 -3.25 -1.7949 -3.25 -0 C-3.25 1.7949 -1.7949 3.25 -0 3.25 C1.7949 3.25 3.25 1.7949 3.25 0 L3.25 0 C3.25 -1.7949 1.7949 -3.25 0 -3.25 Z\" style=\"fill:rgb(0,114,189); stroke:none;\" transform=\"translate(478.0667,335.9455)\"\n",
       "      /><path d=\"M0 -2.75 C1.5188 -2.75 2.75 -1.5188 2.75 0 L2.75 0 C2.75 1.5188 1.5188 2.75 -0 2.75 C-1.5188 2.75 -2.75 1.5188 -2.75 -0 C-2.75 -1.5188 -1.5188 -2.75 0 -2.75 ZM0 -3.25 C-1.7949 -3.25 -3.25 -1.7949 -3.25 -0 C-3.25 1.7949 -1.7949 3.25 -0 3.25 C1.7949 3.25 3.25 1.7949 3.25 0 L3.25 0 C3.25 -1.7949 1.7949 -3.25 0 -3.25 Z\" style=\"fill:rgb(0,114,189); stroke:none;\" transform=\"translate(507,335.9449)\"\n",
       "      /><line x1=\"73\" x2=\"73\" y1=\"335.9445\" style=\"fill:none; stroke:rgb(0,114,189);\" y2=\"335.9445\"\n",
       "      /><line x1=\"101.9333\" x2=\"101.9333\" y1=\"335.9445\" style=\"fill:none; stroke:rgb(0,114,189);\" y2=\"145.6667\"\n",
       "      /><line x1=\"130.8667\" x2=\"130.8667\" y1=\"335.9445\" style=\"fill:none; stroke:rgb(0,114,189);\" y2=\"50.5278\"\n",
       "      /><line x1=\"159.8\" x2=\"159.8\" y1=\"335.9445\" style=\"fill:none; stroke:rgb(0,114,189);\" y2=\"217.0208\"\n",
       "      /><line x1=\"188.7333\" x2=\"188.7333\" y1=\"335.9445\" style=\"fill:none; stroke:rgb(0,114,189);\" y2=\"312.1597\"\n",
       "      /><line x1=\"217.6667\" x2=\"217.6667\" y1=\"335.9445\" style=\"fill:none; stroke:rgb(0,114,189);\" y2=\"338.9175\"\n",
       "      /><line x1=\"246.6\" x2=\"246.6\" y1=\"335.9445\" style=\"fill:none; stroke:rgb(0,114,189);\" y2=\"340.4041\"\n",
       "      /><line x1=\"275.5333\" x2=\"275.5333\" y1=\"335.9445\" style=\"fill:none; stroke:rgb(0,114,189);\" y2=\"337.8026\"\n",
       "      /><line x1=\"304.4667\" x2=\"304.4667\" y1=\"335.9445\" style=\"fill:none; stroke:rgb(0,114,189);\" y2=\"336.3161\"\n",
       "      /><line x1=\"333.4\" x2=\"333.4\" y1=\"335.9445\" style=\"fill:none; stroke:rgb(0,114,189);\" y2=\"335.898\"\n",
       "      /><line x1=\"362.3333\" x2=\"362.3333\" y1=\"335.9445\" style=\"fill:none; stroke:rgb(0,114,189);\" y2=\"335.8748\"\n",
       "      /><line x1=\"391.2667\" x2=\"391.2667\" y1=\"335.9445\" style=\"fill:none; stroke:rgb(0,114,189);\" y2=\"335.9154\"\n",
       "      /><line x1=\"420.2\" x2=\"420.2\" y1=\"335.9445\" style=\"fill:none; stroke:rgb(0,114,189);\" y2=\"335.9386\"\n",
       "      /><line x1=\"449.1333\" x2=\"449.1333\" y1=\"335.9445\" style=\"fill:none; stroke:rgb(0,114,189);\" y2=\"335.9452\"\n",
       "      /><line x1=\"478.0667\" x2=\"478.0667\" y1=\"335.9445\" style=\"fill:none; stroke:rgb(0,114,189);\" y2=\"335.9455\"\n",
       "      /><line x1=\"507\" x2=\"507\" y1=\"335.9445\" style=\"fill:none; stroke:rgb(0,114,189);\" y2=\"335.9449\"\n",
       "      /><line x1=\"73\" x2=\"507\" y1=\"374\" style=\"fill:none; stroke-linecap:square;\" y2=\"374\"\n",
       "      /><line x1=\"73\" x2=\"507\" y1=\"31.5\" style=\"fill:none; stroke-linecap:square;\" y2=\"31.5\"\n",
       "      /><line x1=\"73\" x2=\"73\" y1=\"374\" style=\"fill:none; stroke-linecap:square;\" y2=\"369.66\"\n",
       "      /><line x1=\"217.6667\" x2=\"217.6667\" y1=\"374\" style=\"fill:none; stroke-linecap:square;\" y2=\"369.66\"\n",
       "      /><line x1=\"362.3333\" x2=\"362.3333\" y1=\"374\" style=\"fill:none; stroke-linecap:square;\" y2=\"369.66\"\n",
       "      /><line x1=\"507\" x2=\"507\" y1=\"374\" style=\"fill:none; stroke-linecap:square;\" y2=\"369.66\"\n",
       "      /><line x1=\"73\" x2=\"73\" y1=\"31.5\" style=\"fill:none; stroke-linecap:square;\" y2=\"35.84\"\n",
       "      /><line x1=\"217.6667\" x2=\"217.6667\" y1=\"31.5\" style=\"fill:none; stroke-linecap:square;\" y2=\"35.84\"\n",
       "      /><line x1=\"362.3333\" x2=\"362.3333\" y1=\"31.5\" style=\"fill:none; stroke-linecap:square;\" y2=\"35.84\"\n",
       "      /><line x1=\"507\" x2=\"507\" y1=\"31.5\" style=\"fill:none; stroke-linecap:square;\" y2=\"35.84\"\n",
       "    /></g\n",
       "    ><g transform=\"translate(73,378)\" style=\"font-size:10px; fill:rgb(38,38,38); text-rendering:geometricPrecision; image-rendering:optimizeQuality; color-rendering:optimizeQuality; font-family:'Helvetica Neue'; stroke:rgb(38,38,38); color-interpolation:linearRGB;\"\n",
       "    ><text x=\"-3\" xml:space=\"preserve\" y=\"10\" style=\"stroke:none;\"\n",
       "      >0</text\n",
       "    ></g\n",
       "    ><g transform=\"translate(217.6667,378)\" style=\"font-size:10px; fill:rgb(38,38,38); text-rendering:geometricPrecision; image-rendering:optimizeQuality; color-rendering:optimizeQuality; font-family:'Helvetica Neue'; stroke:rgb(38,38,38); color-interpolation:linearRGB;\"\n",
       "    ><text x=\"-3\" xml:space=\"preserve\" y=\"10\" style=\"stroke:none;\"\n",
       "      >5</text\n",
       "    ></g\n",
       "    ><g transform=\"translate(362.3333,378)\" style=\"font-size:10px; fill:rgb(38,38,38); text-rendering:geometricPrecision; image-rendering:optimizeQuality; color-rendering:optimizeQuality; font-family:'Helvetica Neue'; stroke:rgb(38,38,38); color-interpolation:linearRGB;\"\n",
       "    ><text x=\"-6\" xml:space=\"preserve\" y=\"10\" style=\"stroke:none;\"\n",
       "      >10</text\n",
       "    ></g\n",
       "    ><g transform=\"translate(507,378)\" style=\"font-size:10px; fill:rgb(38,38,38); text-rendering:geometricPrecision; image-rendering:optimizeQuality; color-rendering:optimizeQuality; font-family:'Helvetica Neue'; stroke:rgb(38,38,38); color-interpolation:linearRGB;\"\n",
       "    ><text x=\"-6\" xml:space=\"preserve\" y=\"10\" style=\"stroke:none;\"\n",
       "      >15</text\n",
       "    ></g\n",
       "    ><g transform=\"translate(290.0002,391.5)\" style=\"font-size:11px; fill:rgb(38,38,38); text-rendering:geometricPrecision; image-rendering:optimizeQuality; color-rendering:optimizeQuality; font-family:'Helvetica Neue'; stroke:rgb(38,38,38); color-interpolation:linearRGB;\"\n",
       "    ><text x=\"-3.5\" xml:space=\"preserve\" y=\"11\" style=\"stroke:none;\"\n",
       "      >n</text\n",
       "    ></g\n",
       "  ></g\n",
       "></svg\n",
       ">\n"
      ]
     },
     "metadata": {},
     "output_type": "display_data"
    }
   ],
   "source": [
    "stem([0:15], hn)\n",
    "grid\n",
    "title('Example 5 - Part 2')\n",
    "xlabel('n')\n",
    "ylabel('Impulse response h[n]')"
   ]
  },
  {
   "cell_type": "markdown",
   "metadata": {
    "slideshow": {
     "slide_type": "subslide"
    }
   },
   "source": [
    "#### Response as stepwise continuous y(t)"
   ]
  },
  {
   "cell_type": "code",
   "execution_count": 7,
   "metadata": {},
   "outputs": [
    {
     "data": {
      "image/svg+xml": [
       "<?xml version=\"1.0\"?>\n",
       "<!DOCTYPE svg PUBLIC '-//W3C//DTD SVG 1.0//EN'\n",
       "          'http://www.w3.org/TR/2001/REC-SVG-20010904/DTD/svg10.dtd'>\n",
       "<svg xmlns:xlink=\"http://www.w3.org/1999/xlink\" style=\"fill-opacity:1; color-rendering:auto; color-interpolation:auto; text-rendering:auto; stroke:black; stroke-linecap:square; stroke-miterlimit:10; shape-rendering:auto; stroke-opacity:1; fill:black; stroke-dasharray:none; font-weight:normal; stroke-width:1; font-family:'Dialog'; font-style:normal; stroke-linejoin:miter; font-size:12px; stroke-dashoffset:0; image-rendering:auto;\" width=\"560\" height=\"420\" xmlns=\"http://www.w3.org/2000/svg\"\n",
       "><!--Generated by the Batik Graphics2D SVG Generator--><defs id=\"genericDefs\"\n",
       "  /><g\n",
       "  ><defs id=\"defs1\"\n",
       "    ><clipPath clipPathUnits=\"userSpaceOnUse\" id=\"clipPath1\"\n",
       "      ><path d=\"M0 0 L560 0 L560 420 L0 420 L0 0 Z\"\n",
       "      /></clipPath\n",
       "      ><clipPath clipPathUnits=\"userSpaceOnUse\" id=\"clipPath2\"\n",
       "      ><path d=\"M0 0 L1119.9999 0 L1119.9999 839.9999 L0 839.9999 L0 0 Z\"\n",
       "      /></clipPath\n",
       "    ></defs\n",
       "    ><g style=\"fill:white; stroke:white;\"\n",
       "    ><rect x=\"0\" y=\"0\" width=\"560\" style=\"clip-path:url(#clipPath1); stroke:none;\" height=\"420\"\n",
       "    /></g\n",
       "    ><g transform=\"scale(0.5,0.5)\"\n",
       "    ><image x=\"0\" y=\"0\" width=\"1120\" xlink:href=\"data:image/png;base64,iVBORw0KGgoAAAANSUhEUgAABGAAAANICAIAAAAHNA4rAABlLklEQVR42uzdB3iV\n",
       "9cE+YMCBCsVRP8pQkLZS64efowtqa60W6/wUV4WqtVVI2KKASlF2QYYWQQMEtE4E\n",
       "SxEoIALKnmVUGTIUCoJRZjARGYn/35/3873SLAJGCufc99XL65w352S8OY99Hk9y\n",
       "UuYLAAAADijjFAAAABhIAAAABhIAAICBBAAAYCABAAAYSAAAAAYSAACAgQQAAGAg\n",
       "AQAAGEgAAAAGEgAAgIEEAABgIAEAABhIAAAABhIAAICBBAAAYCABAAAYSAAAAAYS\n",
       "AACAgQQAAGAgAQAAGEgAAAAGEgAAgIEEAABgIAEAABhIAAAABhIAAICBBAAAYCAB\n",
       "AAAYSAAAAAYSAACAgQQAAGAgAQAAGEgAAAAGEgAAgIEEAABgIAEAAGAgAQAAGEgA\n",
       "AAAGEgAAgIEEAABgIAEAABhIAAAABhIAAICBBAAAYCABAAAYSAAAAAYSAACAgQQA\n",
       "AGAgAQAAGEgAAAAGEgAAgIEEAABgIAEAABhIAAAABhIAAICBBAAAYCABAAAYSAAA\n",
       "AAYSAACAgQQAAGAgAQAAGEgAAAAGEgAAgIEEAABgIAEAABhIAABfqz179qxYseLv\n",
       "f//7hAkTli1blp2d7ZwABhKQsJo2bXrywbz44ovH3Nd1wQUXRJ/8o48++hXf1R//\n",
       "+Mc7ivDJJ598fd+FU0455bzzzrvtttuGDx9eimcmNzc3+0sluf3bb799zz33XHjh\n",
       "haeeeuoll1zSpEmTdevWfR3fsm7dusVf+1133XWMfoiv6UH4n5KZmdm5c+dvfvOb\n",
       "ZfIIj8xmzZp98MEHR9tXmgAnHDCQgP+8e++9t8zBpKenH3Nf17nnnht98g8//PBX\n",
       "fFennXZaUWemtKbCQb8LDRo02Lt3b6l8rE2bNsXvNoyf4m/82GOPlStXLt8nU758\n",
       "+VdeeaV0v19httWqVSv+ECeddNLOnTuPuQ/x9T0I/yPChK5Xr15Rj8kqVarEj/+j\n",
       "5Cs91k84YCABBtIxUJU2bNhQzJn5mgbSiSeeePzxx+f7WH379i31gTRp0qRibjlm\n",
       "zJiivvBTTjllxYoVpfj9ClMt34cYPHhw6T4kjsCHSLC+3qpVq/hcVa1atWHDhjfd\n",
       "dNOpp54aH7zkkkuiW/7617/+9gFPPvmkgQQYSEDiDKRQlxcVZuvWrUk7kMaPHx+9\n",
       "n8svv/zdAvbv31/q34XNmzdHB3fs2BEa/AknnBD/B/sjPJD++7//O/7QM2fOXLt2\n",
       "bdu2beP7dujQoRS/X3fffXe+9fLTn/60dB8SR+BDJFhf/973vhd9/uGRkJWVFR3c\n",
       "tWvXD37wg/gcbtmyJfFSDxhIgIGUv5oXlJaWdveX4qcOQr2OD8Y/rLVz586nn376\n",
       "iiuu+M53vnPGGWfUqlUrXO7bt+/u3bvj99a+ffvoXgsXLhw3btxtt9121llnXXLJ\n",
       "Jc2bN8/MzAw3GDZs2A033PCtb33rggsuSE1N3bhxY3zfFi1aRPddvnx5+ED169cP\n",
       "9f3SSy998MEH169ff9CqtHTp0mbNmtWtWze881/96lePPvpo3nsV1LNnz+j9hM/5\n",
       "P/Jd+MMf/hC/adu2bSU8yfFZCt+suXPnXn/99VWrVm3dunVKSsqNN94Yv8Ow+sJt\n",
       "RowYUfBTysjIiG82cuTI6GBubm7NmjWjg+HsldaXHzp3hQoVond7+umnxx931apV\n",
       "+W45ffr0e+65p06dOpUrVz777LPD97F79+4ff/xxaX2IvOftb3/720033VStWrUa\n",
       "NWrcfPPNYQ/nvWVJHueFPgjD4+3+++//5S9/GR634eH929/+9tVXXy30cx40aFBI\n",
       "QfgEwiBp2bJliEZ4MESf3sqVK8MNwvuJruYdutOmTYsO/v73v/8qj/zs7Oz4LDVq\n",
       "1Cjvm1544YUTvhQFP050/FAp4ZdQuufcQAIDCeDIDaTFixfHT2X86Ec/2r9//9at\n",
       "W0PTio6cf/75UUf58MMPzzvvvEJ/KCvcK35VgLjHhIKe71dcwpHGjRvnu28oTNu3\n",
       "b4/uG/+Ez8UXX5zvZqE0z5kzp5iq1KtXrxNPPLHgvcKEKOoLb9iwYXSzUPUef/zx\n",
       "cPX2228PF9asWXNkvguheub7ib6SnOT4LIX2GX/JoYuXLVu24L3CcCr4Kc2bNy++\n",
       "QfzsQRD6bnTwyiuvLK0vP+zh+GNNmDAh/iTzPUkVblbwF6KCc84556A/61jCDxGf\n",
       "tzAp852rk08+edGiRdHNDvVxHj8Iw6dRsWLFgve67rrr4vX7xYFXjbvtttvy3eYn\n",
       "P/lJfDmsoLyfbd4fbEtPT48OHnfccV/lkR+cddZZ0S3DqUhNTQ3hysnJKfSWBb/S\n",
       "En4JpXvODSQwkABKuZpfddVV/1tAly5dolv+6U9/im/Zo0ePeDmE4rVkyZLoNr/5\n",
       "zW/ig40aNerateuvfvWr+F5jx47NV6ei7hWuhjKXr/TUrFmzfPny8dVOnTrlq1NB\n",
       "qMsXXXRR3vdWvXr10MwKrUp//etf45vVqFHjkksuia9WqFChqNejq1OnTnSbeB9G\n",
       "Qs0t6j/8l+JACrOwdu3a8YsKRPW0JCc571mKhYF0zTXX/PKXv4yP/PCHP7z66qvD\n",
       "9iv4KYUF+McDOnfuHB/ctGlT/J4ffPDB0vryf/azn0Xv84ILLghXL7vssujq2Wef\n",
       "HTfy3Nzc+JmfunXr9unTp0mTJvGTQr/73e+++ocoeN6+8Y1v5L0aHvOH9ziPHoT/\n",
       "+Mc/4sd5+G6GryI8XON75f0Snn766fj4aaedFj75M844I+9nckgD6fAe+UEYRfke\n",
       "QuHTaNCgwcCBA99///3iB1IJv4TSPecGEhhIAKVczQsVKnV0y/379//0pz8teIPe\n",
       "vXvHN4i7Tiiv8cFTTjklOtixY8d8dSp0nZkzZ4YjK1asCJUxnkyTJ08OBzdu3Bi/\n",
       "vnCoZfnqVLhvdLOgX79++X7zPl9V2r17d7Vq1aIjzZs3jzrx2rVr485d6OsCh62V\n",
       "dxeFxpn3athveV/puLS+C3/4wx9atmwZPsnbb789b6e8+eabS36S85bOsAEGDBgw\n",
       "ZcqUUNC/OJTfQconfDviZ+2OP/74xYsXl8rXvnr16vjz6dWrVzjyzDPPxEfib/Hy\n",
       "5cvjg/HPBPbs2fMbB3z/+9//6h8i73kL5zMM4L179/7zn/+Mf6rw29/+9uE9zqMH\n",
       "YVhE8UqJn/Jq3bp1/JlEz+eEKRg/VsOci34D8NNPP7300ksPYyAd3iM/8tlnn8XD\n",
       "Mp9y5crdeuut8Q835vtKS/4llO45N5DAQAI4ogMpeP/99/P9gNDll1+e9z/A/+tf\n",
       "/1p/QPQTL5s3b37qqafiGz/yyCP56tSNN94Y3zf+8Zsf/ehH8cH4p3TCW/PVqXy/\n",
       "F3H++edHx8NdClal+fPnx+trwYIFK7500003xZ214MkJRS3+5Lt165aVlRXaW94x\n",
       "1rhx46JObCijjf/dAw88cNjfhXDa4zFWkpMcn6Vwx48++ijvxzq8gRSaa94/hhPN\n",
       "jK/+hQcdOnSIvzXhSwtHPvnkk/iZlt/+9rfRzcKXmXea/u53v3vhhRdC0S/JJ1/C\n",
       "D5H3vOX9K0m///3v4wZ/eI/z8CAMYyP++cC0tLT4nYcBE2+VsPeiIRq/q9deey2+\n",
       "ZVgUhzGQDu+RHwvpfu6553784x8X+sOZderUiV6kIV/cSv4llO45N5DAQAIo5YEU\n",
       "SvC0AvL9nnTen5wJPTWqm3mFzv2HP/zhwgsvzPejMoUWx3bt2sV3rF+/fnTw1ltv\n",
       "jQ/Gv49UcCA988wz+Xp5dPwHP/hBwao0dOjQ4hfICSecUPDkfP755xsOyPd7Qddf\n",
       "f338e1BFndiTTz4534f4r//6r8MbSGGF5vuJpoOe5Pgs3XPPPfk+1qEOpMzMzDAh\n",
       "8n7Ti3/Z90P6wkP/jn/RpUqVKn/9UmjtcT+OXrcjCJO40F9ACtu1mD96e0gfIj5v\n",
       "Xbt2jd9DXMTz/lbPIT3Ow4Nw0aJF8Q2WLVuW9zOMH/l33nlnuPrWW2/Ft8z7q255\n",
       "XzWh5APp8B75BYWHTVik4TPM95Ny0VTOF7eSfwmle84NJDCQAEp5IBXzIg2xMGny\n",
       "9pL41y0iTZo0yde9LrroovjH0gotjvF9r7rqqujgHXfcER9MSUkpaiA9++yzhX5i\n",
       "3/nOdwp+iL59+x70zz3FrwNxUN27d4/uEj6ZUh9I/fv3f/6AF198cebMmTt27Mh3\n",
       "45Kc5PgshU/1qwyktWvXhvOZ97fhly9fXvxdDukLD5/AQb8voeJHN963b1/4pv/s\n",
       "Zz8r+Eeirrzyytzc3K/+IUr4Wz2H8TgP38qiXjrvf//3f6Pj4UK4OmfOnPiWef/z\n",
       "xM6dO/P9hd/4s33iiScK/ieM6LM97Ed+OG89D+jTp0/eP1IcLseP/yCsu4JxK/mX\n",
       "ULrn3EACAwngSA+kUPLyvYzYt771rfiXvN955528v1od/5mgc8455+sYSPF7i9x8\n",
       "8815X10t34eI/5xR2bJlP/roo22FKdiwW7Vq9d8HXH/99YWetFDRijpXo0aNGvnv\n",
       "ilkjJf8ulPAkF1o6D3UgrV69ukqVKvHvnHTo0CFMlIM+og7pCw/f64PW97CI8t0r\n",
       "MzNzzJgxLVq0OO200+KbFbXcDulDlKSsH97jPO/Lpk+cODHvZ/j9738/Ov7QQw99\n",
       "8e8/TJj3rwMPHz4839Mv8c/mNW3aNL7Zo48+mvezPbxHfr5lNX/+/HxvrVWrVvwn\n",
       "kgrGreRfQumecwMJDCSAUh5I06dPX1mY0O3CLbOysuInE0IxjX+F46abbore1XPP\n",
       "PRe/q/hHnsJ8iv97f+kOpLPOOit+dmXdunXxS96F3lzwQ2zYsCH+JYrQ0uL3H+p7\n",
       "vQPuvvvugicn738pHzduXHRw8eLF8ceKf1/8iM3UEp7kEg6k8N6K+VhXXHFFfMsh\n",
       "Q4aU+mMvfPviV+YIU7PTv8v710jXrl07ePDgigf88Ic/zLvYCz4jcdgfooRl/bAf\n",
       "55UrV46u3nDDDfEmmTJlSvzeXn755S8OvMJB/BdaK1WqNGHChN27d4ebxa+qH6+L\n",
       "+P3HP+r5+eefx6+7GH22h/fID2bMmJH35bnzvgr5woUL46duol8cKvgiDSX8Ekr3\n",
       "nBtIYCABlHI1L0qrVq2++PfX/J04ceJDDz0UX41+2m3MmDHxkT59+oRZNXv27F/8\n",
       "4hfxwfg3jkplIEX/9Tp8oJ49e5599tnxEx3RH6As+CHuueee+OXvrr/++qeeeip8\n",
       "7XF7zvcbTZFFixblfcbs0ksv/c1vfhO/cFa470F/3qzUB1IJT3IxAyk03fjGVapU\n",
       "KeoPlU6dOjXvY+DUAs4777yv+FWnpaXl2wZ5jRgxIn7ro48+mvdV7Nq0aRMm8Qcf\n",
       "fPC73/0uflW9vH+s6fA+RAnL+mE/zgcMGJD3Dx8NGjToj3/8Y/yqJ+F8Rq9QH4RA\n",
       "FR/JaF38+te/zvt6CSGhZ555Zt4XXTzsR/4XB149In7hk+gFwW+88cbGjRv/6le/\n",
       "yvtajkW9vnYJv4TSPecGEhhIAEduIL3xxhvx1d///vdRf4r/buM3vvGN0Fa3bNkS\n",
       "/8xPocLHKsWBVOjfDL3//vuL+hDh04t/LqjgqyB8/vnnhZ6fvK9Zl1fZsmXzvhbZ\n",
       "ERtIJTzJxQykL/L8fFQxfyi2d+/exT8qqlWr9hW/6h//+Mdx+S44b7Kzs+MtWrNm\n",
       "zdzc3IJ/eDTWsmXLUvkQJSnrh/04z8nJyfune/K9SuGsWbPijxg+k44dO+Z74bim\n",
       "TZvGT9tG62LkyJEF31X8IgrxQDq8R/4XB56YjZ/1KlT8+oQF41bCL6GEA6mE59xA\n",
       "AgMJoBQU/FuQBYUCHf9Fy3Ah/sG2uXPnxislNL9w5O233/7ud7+b9xepH3roobjX\n",
       "Rn+j84s8L8md92+wXHvttcUMpEsvvTRfnerRo8ftt98e963QC/v06RPfsdAP8emn\n",
       "n4aKFv910Wjaha+umNdAC0aPHn3RRRflPSHhC4n+fNPX8V0o5g93RkpykosfSPPn\n",
       "z4//olFRAyl+/cCiFP/y0Ae1du3a+F3le8X2WPy3QYOwH/bt2xc6d/xrUfGTYJ06\n",
       "dSr0t2gO40MUet7in++KJ8dhP87DRgrvOe/zPOG+119//fr16wt+bgsWLOjbt+9d\n",
       "d93VoUOH8ePHf/zxx/HemDdvXjRCevXqFT+fE8J43XXXTZgwoeDrvx3eI/+LA79N\n",
       "1L59+0qVKuX77odE/O1vf4tPe6FxK8mXUNRj9fDOeVGfBmAgAfwn7d+/f8WKFZMn\n",
       "T16+fHkx/3H6sOWrU6H5zZgxY9WqVUW9iFlBoaSuWbMmfIbvvvvuZ599VsJ7bdmy\n",
       "JVS6adOmRX/1MgFOcvjaQ/3NyMgoyUsvHD3CZ7t69eroNejD9z36Zf1j7lsQzvxb\n",
       "b70VHoF5XyAuFnbg7w8YNGhQfPD5558v9GnGrKys2bNnh/2wc+fOr+OR/8WBX20K\n",
       "p3rSpEmjRo36xz/+UZLXezykL+Eo+XcLYCABHJOKf24EEsCdd94ZPykUBkbYM717\n",
       "947/mlP0Oo2+BMBAAsBAIiksWrQo74uR5HXmmWf+4x//8CUABhIA/+eb3/zm8Qf0\n",
       "79/f2SBRLVmy5Jprrsn7SiRnnHFGgwYNNm3a5EsADCQAIBlFv/n21ltvffTRR74E\n",
       "wEACAAAwkAAAAAwkAAAADCQAAAADCQAAwEACAAAwkAAAAAykY1xGRsa0adOysrJK\n",
       "ePtwy8WLF8+fP3/jxo3OHgAAGEgJZciQIU2aNFmzZk1JplHv3r1TUlKafGnAgAF7\n",
       "9uxxDgEAwEA65u3evXvs2LHR1DnoQAo37tGjR7hl9+7dx48fP3z48DZt2oSr4YIz\n",
       "CQAABtIx7N133+3SpUvz5s3j54IOOpAmTZoUbtanT5+cnJz4nYQjDzzwQG5urlMK\n",
       "AAAG0jE8kB77UtOmTUsykLp16xZutnnz5rwHp02bNnXq1HgyAQAABtKxbeDAgQcd\n",
       "SDt27Ai36dChwxcHftZu5cqVy5Yty8zMdPYAAMBASrqBtG7dunCbp59++rXXXsv7\n",
       "Ig3PPvts2EvOIQAAGEhJNJDeeeedcJvU1NTwzyeffHLChAmvvvpqixYtwtX09PRi\n",
       "7tgEAIBEpEUbSEk9kBYuXBgl4eWXX44Prl+/PppMmzZtKmYgOcPw1YkSiBJIk4HE\n",
       "UTSQli9fHg2kXbt25T3+1FNPhYNz5swRHvD/QyBKIE0YSMkykP71r3+F27Rs2TLf\n",
       "8ZdeeikcnzhxovCA/x8CUQJpwkBKloGUk5Nz//33h5tt37497/E+ffqEgwsWLBAe\n",
       "8P9DIEogTRhICTuQNmzY8OYB8ZFnn3023Gzw4MH79++PjixdujQcadGiRTGv9y08\n",
       "4P+HQJRAmjCQjvmBNGnSpHyvT7Jjx46HH344HOncufPw4cPT0tKi1/seP3688ID/\n",
       "HwJRAmnCQEoQYeoUNZBSU1PzHty8efNTTz3VqlWraDs98sgjs2bNEh7w/0MgSiBN\n",
       "GEgIDxw569atcxJAlEDHM5AQHkCrA1ECHc9AQngArQ5ECXQ8AwnhAbQ6ECXQ8Qwk\n",
       "hAfQ6kCUQMczkBAeQKsDUQIdz0BCeACtDkQJdDwDCeEBtDoQJdDxDCSEB9DqQJRA\n",
       "xzOQEB5AqwNRAh0PA0l4hAe0OhAl0PEwkBAe0OpAlEDHw0BCeECrA1ECHQ8DCeEB\n",
       "rQ5ECXQ8DCSEB7Q6ECXQ8TCQEB7Q6kCUQMfDQEJ4QKsDUQIdDwMJ4QGtDkQJdDwd\n",
       "z0BCeECrA1ECdDwDCeEBrQ5ECdDxDCSEB7Q6ECVAxzOQEB7Q6kCUAB3PQEJ4QKsD\n",
       "UQJ0PAMJ4QGtDkQJ0PEMJIQHtDoQJUDHM5AQHtDqQJQAHc9AQnhAqwNRAnQ8Awnh\n",
       "SQD3DF9xrPzPN0urA1ECHQ8DCeH5muP0wNRj4vO8/OnFvllaHYgS6HgYSAiPgWQg\n",
       "aXUgSqDjYSAhPAaSgaTVgSiBjoeBhPAYSAaSVgeiBDoeBhLCYyAZSFodiBLoeBhI\n",
       "CI+BZCBpdSBKoONhICE8BpKBpNWBKAE6noGE8BhIBpJWB6IE6HgGEsJjIBlIWh2I\n",
       "EqDjGUgIj4FkIGl1IEqAjmcgITwGkoGk1YEoATqegYTwGEgGklYHogToeAYSwmMg\n",
       "GUhaHYgSoOMZSAiPgWQgaXUgSoCOZyAhPAaSgaTVgSgBOp6BhPAYSAaSVgeiBOh4\n",
       "BhLCYyAZSFodIEqg4xlICI+BZCBpdYAogY5nICE8BpKBpNUBogQ6noGE8BhIBpJW\n",
       "B4gS6HgGEsJjIBlIWh0gSqDjGUgIj4FkIGl1gCiBjmcgITwGkoGk1QGiBDqegYTw\n",
       "GEgGklYHiBLoeAYSwmMgGUhaHSBKoOMZSAgPBpJWB4gS6HgGEsKDgYRWB6IEOp6B\n",
       "hPBgIKHVgSiBjmcgITwYSGh1IEqg4xlI/IdkZGRMmzYtKyvrkO61c+fOcK/169cL\n",
       "j4FkIGl1IEpgIGEgJY4hQ4aEh/iaNWtKfpfc3Nwnn3wy3GvcuHHCYyAZSFodiBIY\n",
       "SBhIiWD37t1jx45tcsAhDaQpU6ZE9zKQDCQDSasDUQIDCQPpmPfuu+926dKlefPm\n",
       "Tb5U8oG0adOmcMeWLVsaSAaSgaTVgSiBgYSBlCAD6bEvNW3atOQDad++fd26dXvw\n",
       "wQfffvttA8lAMpC0OhAlMJAwkBLNwIEDSz6QRo0aFW68ePHihQsXGkgGkoGk1YEo\n",
       "gYGEgZS8A2nVqlUpKSnDhg0Ll0s+kAq1jsMSBtIx8XnW7TfHN6t0zZw500kAUYIj\n",
       "r0nRtGgDKdkH0mefffbwww+3b98+Ozv7kAaSM+wZJPxnbxAl8AwSBlKiDaRhw4aF\n",
       "my1btiy6aiAZSAaSVgeiBAYSBlKSDqRFixaF26Snp+/+0ty5c8OR0aNHh8v79+8X\n",
       "HgPJQNLqQJTAQMJASpaBNHLkyGJ+AvXtt98WHgPJQNLqQJTAQMJASpaBtGDBgrR/\n",
       "17Vr13CvTp06hcvxz90Jj4FkIGl1IEpgIGEgJeBA2rBhw5sHFHUvv4NkIBlIWh2I\n",
       "EhhIGEjJMpAmTZpU/As4GkgGkoGk1YEogYGEgZSA0tLSihpIqampRd1r8eLF4Qbj\n",
       "x48XHgPJQNLqQJTAQMJAQngMJANJqwNRAh0PAwnhMZAMJK0ORAl0PAwkhMdAMpC0\n",
       "OhAlQMczkBAeA8lA0upAlAAdz0BCeAwkA0mrA1ECdDwDCeExkAwkrQ5ECdDxDCSE\n",
       "x0AykLQ6ECVAxzOQEB4DyUDS6kCUAB3PQEJ4DCQDSasDUQJ0PAMJ4TGQDCStDkQJ\n",
       "0PEMJITHQDKQtDoQJUDHM5AQHgPJQNLqQJQAHc9AQngMJANJqwNECXQ8AwnhMZAM\n",
       "JK0OECXQ8QwkhMdAMpC0OkCUQMczkBAeA8lA0uoAUQIdz0BCeAwkA0mrA0QJdDwD\n",
       "CeExkAwkrQ4QJdDxDCSEx0AykLQ6QJRAxzOQEB4DyUDS6gBRAh3PQEJ4DCQDSasD\n",
       "RAl0PAMJ4cFA0uoAUQIdz0BCeDCQ0OpAlEDHM5AQHgwktDoQJdDxDCSEBwMJrQ5E\n",
       "CXQ8AwnhwUBCqwNRAh3PQEJ4MJDQ6kCUQMczkBAeDCS0OhAl0PEMJIQHAwmtDkQJ\n",
       "dDwDCeHBQEKrA1ECHc9AQngwkNDqQJRAx8NAEh4MJLQ6ECXQ8TCQEB4DCa0ORAl0\n",
       "PAwkhMdAMpC0OhAl0PEwkBAeA8lA0upAlEDHw0BCeAwkA0mrA1ECHQ8DCeExkAwk\n",
       "rQ5ECXQ8DCSEx0AykLQ6ECXQ8TCQEB4DyUDS6kCUQMdzEgwkhMdAMpC0OhAlQMcz\n",
       "kBAeA8lA0upAlAAdz0BCeAwkA0mrA1ECdDwDCeExkAwkrQ5ECdDxDCSEx0AykLQ6\n",
       "ECVAxzOQEB4DyUDS6kCUAB3PQEJ4DCQDSasDUQJ0PAMJ4TGQDCStDkQJ0PEMJITH\n",
       "QDKQtDoQJUDHM5AQHgPJQNLqQJQAHc9AQngMJANJqwNECXQ8AwnhMZAMJK0OECXQ\n",
       "8QwkhMdAMpC0OkCUQMczkBAeA8lA0uoAUQIdz0BCeAwkA0mrA0QJdDwDCeExkAwk\n",
       "rQ4QJdDxDCSEx0AykLQ6QJRAxzOQKF0ZGRnTpk3LysoqyY2zs7Pfe++9WbNmrVy5\n",
       "MlwWHgPJQNLqQJTAQMJASihDhgwJD/E1a9YUf7Pc3NzJkyc3a9asyZdatWo1ZcoU\n",
       "4TGQDCStDkQJDCQMpESwe/fusWPHRmvnoANp+vTp4WZNmzYdMWLEjBkzhg4dmpKS\n",
       "Eo4sXLhQeAwkA0mrA1ECAwkD6Rj27rvvdunSpXnz5vHTQcUPpJycnLZt24abzZ8/\n",
       "Pz4YjavevXsLj4FkIGl1IEpgIGEgHdsD6bEvNW3a9KAD6eOPPw63efjhh3Nzc+OD\n",
       "W7duDQdbtmwpPAaSgaTVgSiBgYSBlCAGDhx40IG0YcOGMKX+8pe/5DsY7ti+fXvh\n",
       "MZAMJK0ORAkMJAykJBpIhXruuefCHdPS0oTHQDKQtDoQJTCQMJCSdyDl5ub+9a9/\n",
       "Dfdq1qzZ5s2biw9PodZxWMJAOiY+z7r95vhmla6ZM2c6CSBKcOQ1KZoWbSAZSP8n\n",
       "LKJevXqFu7Ro0WLZsmX+64JnkDyD5D97gyiBZ5AwkJJxIOXk5EyYMCH6U0hhI2Vk\n",
       "ZAiPgWQgaXUgSmAgYSAl40Dat2/foEGDwi1bt249Y8aMvC9nJzwGkoGk1YEogYGE\n",
       "gZRcAyn6paPOnTtv375deAwkA0mrA1ECAwkDKYkG0oYNG948ILoaRlGzZs1atmyZ\n",
       "mZkpPAaSgaTVgSiBgeQkGEjJNZAmTZqU9/VJ5s6dG/1N2CcLeP7554XHQDKQtDoQ\n",
       "JTCQMJASRFpaWlEDKTU1Nbo6YsSIol7hsWPHjsJjIBlIWh2IEhhIGEgIj4FkIGl1\n",
       "IEqg42EgITwGkoGk1YEogY6HgYTwGEgGklYHogToeAYSwmMgGUhaHYgSoOMZSAiP\n",
       "gWQgaXUgSoCOZyAhPAaSgaTVgSgBOp6BhPAYSAaSVgeiBOh4BhLCYyAZSFodiBKg\n",
       "4xlICI+BZCBpdSBKgI5nICE8BpKBpNWBKAE6noGE8BhIBpJWB6IE6HgGEsJjIBlI\n",
       "Wh2IEqDjGUgIj4FkIGl1IEqiBDqegYTwGEgGklYHiBLoeAYSwmMgGUhaHSBKoOMZ\n",
       "SAiPgWQgaXWAKIGOZyAhPAaSgaTVAaIEOp6BhPAYSAaSVgeIEuh4BhLCYyAZSFod\n",
       "IEqg4xlICI+BZCBpdYAogY5nICE8BpKBpNUBogQ6noGE8GAgaXWAKIGOZyAhPBhI\n",
       "Wp1WB6IEOp6BhPBgIKHVgSiBjmcgITwYSGh1IEqg4xlICA8GElodiBLoeAYSwoOB\n",
       "hFYHogQ6noGE8GAgodWBKIGOZyAhPBhIaHUgSqDjGUgIDwYSWh2IEuh4BhLCg4GE\n",
       "VgeiBDqegYTwYCCh1YEogY6HgYTwGEhodSBKoONhICE8BhJaHYgS6HgYSAiPgWQg\n",
       "aXUgSqDjYSAhPAaSgaTVgSiBjoeBhPAYSAaSVgeiBDoeBhLCYyAZSFodiBLoeBhI\n",
       "CI+BZCBpdSBKoONhICE8BpKBpNWBKAE6noGE8BhIBpJWB6IE6HgGEsJjIBlIWh2I\n",
       "EqDjGUgIj4FkIGl1IEqAjmcgITwGkoGk1YEoATqegYTwGEgGklYHogToeAYSwmMg\n",
       "GUhaHYgSoOMZSAiPgWQgaXUgSoCOZyAhPAaSgaTVgSgBOp6BhPAYSAaSVgeiBOh4\n",
       "BhLCYyAZSFodiJIogY5nICE8BpKBpNUBogQ6noGE8BhIBpJWB4gS6HgGEsJjIBlI\n",
       "Wh0gSqDjGUgIj4FkIGl1gCiBjmcgITwGkoGk1QGiBDqegYTwGEgGklYHiBLoeAYS\n",
       "wmMgGUhaHSBKoOMZSPznZWRkTJs2LSsrS3gMJANJqwNRAgMJAynZDRkyJERizZo1\n",
       "wmMgGUhaHYgSGEgYSMlr9+7dY8eObXKAgWQgGUhaHYgSGEgYSEnq3Xff7dKlS/Pm\n",
       "zZt8yUAykAwkrQ5ECQwkDKTkHUiPfalp06YGkoFkIGl1IEpgIGEg8f8NHDjQQDKQ\n",
       "DCStDkQJDCQMJAwkA8lA0upAlAAdz0DiKwykQq07ypzVefr9ry4+Jv637lhQt9+c\n",
       "dZSqmTNnOgkgSnDkNSmaVmwgcZgDyTMeScj59J+9QZQgsRlIBhIGEs6nVgeiBBhI\n",
       "BhIGEs6nVgeiBBhIBhIGEs6nVgeiBBhIBhIGEs6nVgeiBBhIBtLRKjc3d8mSJb17\n",
       "977pppvq1q1bq1atqlWrXnDBBVdccUXr1q1Hjx69bds2A0mhdz61OkCUwEAykBLc\n",
       "zp07+/Xrd84555Qp1gknnHDHHXfMnj37yHxWaWlpBhLOp1YHogQGEgbSkbNnz57H\n",
       "H3+8UqVK0QQ6/fTTL7744ptvvvmBBx4YMGDAc88917lz53vuuecXv/hFjRo1ypUr\n",
       "F93s6quvXr9+vfAo9M6nVgeIEuh4BlLi2Lhx47nnnhsGT9WqVdu2bbtkyZLib//J\n",
       "J5+E1fTjH/843KVChQoTJ04UHoXe+dTqAFECHc9AShALFiyoXLnyn//8588///yQ\n",
       "7vjGG29cdNFFvXv3Fh6F3vnU6gBRAh3PQEoQ2dnZWVlZ8dUpU6Y88sgj8+fPL/TG\n",
       "aWlp4a3bt2+Prubm5n766afCo9A7n1odIEqg4xlIialTp05lypQZNGhQoW+NfrLu\n",
       "qP03voFkIKHVgSiBgYSBVApmzpw59YC77747TKA2bdpMLeD1118/9dRTw1s3b94s\n",
       "PAq986nVAaIEOp6BlLAqV65cpmTCRtq3b5/wKPTOp1YHiBLoeAZSwvrRj3707QNO\n",
       "P/30sILOPPPMbxfw3e9+9+c///nIkSOFR6F3PrU6QJRAxzOQElNOTs7u3bvjq8X/\n",
       "DlI+ubm52dnZwqPQO59aHSBKoOMZSAli4cKF1atXHzZs2P79+8PVwYMHX3LJJaNG\n",
       "jTroHSdPnvzDH/7Qy3wr9M6nVgeIEuh4BlLiWL9+fdWqVcuUKVO7du0//elP4Wrx\n",
       "t9+2bVtaWlq9evXCXU455ZRx48YJj0LvfGp1gCiBjmcgJY4dO3Y0bty4bNmyYfOE\n",
       "f9aqVeuKK6649957u3Xr9tJLLw0fPrxnz54pKSlXXXXVueeee/zxx0ev1nDHHXds\n",
       "2LBBeBR651OrA0QJdDwDKQEtX768adOmFSpUKP5V7E466aT77rtv2bJlwqPQO59a\n",
       "HSBKoOMZSAlu165df//739u2bXvZZZd973vfO/3000899dRzzz33Zz/7WfPmzV9/\n",
       "/fXMzEzhUeidT60OECXQ8QwkhEehdz61OkCUQMczkJJSbm7utm3bthQmJydHeBR6\n",
       "51OrA0QJdDwDKSm8+eabdevWPfHEE4v6NaSj9t/4BpKBhFYHogQGEgZSaVqxYsXJ\n",
       "J59c/Os0GEgKvfOp1QGiBDqegZQU2rZtGybQ2WefPXTo0C1btmQVJjc3V3gUeudT\n",
       "qwNECXQ8AynxXXvttWEg9e3bV3gUegNJqwNECXQ8AynZ/frXvw4DaebMmcKj0BtI\n",
       "Wh0gSqDjGUjJ7qGHHgoD6c9//rPwKPQGklYHiBLoeAZSsnv//fdPOeWU0047bfHi\n",
       "xcKj0DufWh0gSqDjGUhJp1+/fg/l8fOf/7xMmTLlypWrX79+q1atHipg+/btwqPQ\n",
       "O59aHSBKoOMZSInp/PPPL3MovMy3Qu98anWAKIGOZyAlrB49eqQeiq1btwqPQu98\n",
       "anWAKIGOZyAhPAq986nVAaIEOp6BhPAo9M6nVgeIEuh4BhLCo9A7n1odIEqg4xlI\n",
       "CI9CbyBpdYAogY5nICE8Cr2BpNUBogQ6noGE8Cj0BhJaHYgS6HgGEsKj0BtIaHUg\n",
       "SqDjGUgUbe/evePGjevbt2/79u3D1UWLFu3atUt4FHrnU6sDRAl0PAMp6fTs2bNy\n",
       "5cplvhSOXHnllSeffHLXrl2FR6F3PrU6QJRAxzOQksgDDzwQ7aJq1arFA+nmm2+O\n",
       "Lnfr1k14FHrnU6sDRAl0PAMpKcyYMSOsoOOOOy49PT1crVKlSjSQ9uzZ071793C5\n",
       "UqVKmZmZwqPQO59aHSBKoOMZSImva9euYQW1a9cuuhoPpEjt2rXD1VmzZgmPQu98\n",
       "anWAKIGOZyAlvquvvjpMoBkzZhQ6kO69995wdfjw4cKj0DufWh0gSqDjGUiJ7667\n",
       "7goTaPz48YUOpGg+eQZJoXc+tTpAlEDHM5CSQv/+/cMECkOo4EBasmRJ+fLly5Yt\n",
       "e9S+3reBZCCh1YEogYGEgVSatm7dWr169TCKrrvuujlz5pxxxhnh8saNG4cOHVq1\n",
       "atVwuVGjRsKj0DufWh0gSqDjGUjJYtq0aRUrVixTmPPOO+9o/nOxBpKBhFYHogQG\n",
       "EgZS6du0adOdd955+umnx9OoZs2a/fr1+/zzz4VHoXc+tTpAlEDHM5CS1ObNmxct\n",
       "WrR161bhUeidT60OECXQ8Qyk5PXpp5/m5uaGC+GfI0aMaNOmzYABA95//33hUeid\n",
       "T60OECXQ8QykJLJkyZJ69eqVK1cu+nWjxo0bxz9oV7FixTlz5giPQu98anWAKIGO\n",
       "ZyAlhU2bNlWqVCmaQ2EgLV26NLpcvXr1WrVqhQt16tQRHoXe+dTqAFECHc9ASgo9\n",
       "evQIKyhsoXnz5oWrHTt2DFcvvPDCPXv2ZGVl1ahRI1xdvny58Cj0zqdWB4gS6HgG\n",
       "UuK77bbbwgR65ZVXoquXXnppuJqenh4/OsPVcePGCY9C73xqdYAogY5nICVB17z8\n",
       "8jCB3nnnnXD5s88+K1++fLi6fv366K1t2rQJV19++WXhUeidT60OECXQ8QykxNeg\n",
       "QYMwgSZOnBgujx49OlyuUaNG/Nb69euHI1OnThUehd751OoAUQIdz0BKfF26dAkT\n",
       "qF69eiNHjqxdu3a43LRp0+hNY8aMKVeu3PHHH5+RkSE8Cr3zqdUBogQ6noGU+D78\n",
       "8MMKFSrEr+t94oknRj9ud/fdd0dHGjZsKDwKvfOp1QGiBDqegZQspk+ffsEFF5Qt\n",
       "W7ZOnTovvfRSdPCaa64J6+iGG27IysoSHoXe+dTqAFECHc9ASi7Z2dl5r86bN2/j\n",
       "xo3Co9A7n1odIEqg4xlICI9C73xqdYAogY5nICWx3Nzcbdu2bSlMTk7OYbzD7Ozs\n",
       "VatWzZo1a8WKFbt27SrJXbKyspYtWzZjxozwz8zMTAMJ51OrA1ECAwkD6Uh78803\n",
       "69ate+KJJ5YpwmH8G3/27NmtWrVq8qVmzZpFryRejClTpuS7y+uvv24g4XxqdSBK\n",
       "YCBhIB05K1asOPnkk8sU61D/jb969eqUlJTwyB4yZMj06dNffPHF6Or8+fOLusuS\n",
       "JUvCDVJTU8ONZ8yYkZ6eHgZSODJr1iwDCedTqwNRAgMJA+kIadu2bZhAZ5999tCh\n",
       "Q7ds2ZJVmNzc3EN6n/379w8P61deeSU+8sYbb4QjnTp1KuouYUqFG+R9yujVV18N\n",
       "R/r27Wsg4XxqdSBKYCBhIB0h1157bRhIxe+QQ7Jv377oyZ9t27bFB/fu3du8efNw\n",
       "cOvWrYXeK3wC4a1Lly6Nj0TPKXXu3NlAwvnU6kCUwEDCQDpCbr311jCQZs6cWVrv\n",
       "MCMjIzym27Vrl+94r169wvEVK1YUeq9x48aFt77wwgvxkWHDhoUjI0eONJBwPrU6\n",
       "ECUwkDCQjpD+/fuHgfTnP/+5tN7h6tWrw2O6R48e+Y6npaWF4/PmzSv0XpmZmd27\n",
       "dw83eOKJJ0aNGtWtW7foR/LyPg1VaHgKte4oU7ffnHU4n0exmTNnOgkgSnDkNSma\n",
       "lm4g/cds3LixRo0ap5122uLFpfNf5d97773wmO7Vq1e+49EzQkW96EJOTs6ECRPy\n",
       "BWPs2LHF//qTZ5A8g4T/7A2iBJ5BwkAqTfPnz3/wwQfLlClTrly5+vXrt2rV6qEC\n",
       "tm/fXvJ3uHLlykIHUvQyDEUNpOeffz68tUWLFqNGjVqwYEGYRq1btw5HBgwYYCDh\n",
       "fGp1IEpgIGEgHSGdOnUqczCH9G/8NWvWhMd0165d8x0fOHBgUa/0vX///jDMUlJS\n",
       "Vq9eHR/ctGlT9LoOO3bsMJBwPrU6ECUwkDCQjoRx48alHkxRLz1XqC1btkTPBeX7\n",
       "6bhHH300HF+1alXBu4SDhb4I+IABA8LxuXPnGkg4n1odiBIYSBhI/wH79+8v5hmb\n",
       "ksjJyWnVqlV4WK9fvz4+mJmZGYZWSkpKuFDwLuGW4fYdO3bMd7xfv37heDG/HGUg\n",
       "GUhodSBKYCBhIJW+nTt3tm/f/vvf//6JJ55YpkyZ008//ac//emIESMO770NHjw4\n",
       "+huv8ZNI0Ss09OzZM7q6YcOGNw+IrsZ/Omn69OnxXf75z3+mHFDMb0AZSAYSWh2I\n",
       "EhhIGEilbNGiRWeeeWahv31Uv379sF4O9R1mZGREvz7Url279PT0Dh06hMth6sQ/\n",
       "Xzdp0qR8L+D41ltvRUfCXV588cWnn3463D5cff311xMgPAq986nVgSgBBpKBdGz4\n",
       "9NNPzz333LCFKlas2LFjxwkTJixYsGDEiBENGjSINtIjjzxyGO927dq1nTt3jl+w\n",
       "O7yTpUuXxm+NBlJqamreu8yePTvcLL7Lgw8+GFZTTk6OgYTzqdWBKIGBhIF0hKSn\n",
       "p4cVdOaZZ+b9laFIWlpaeNMJJ5ywZ88e4VHonU+tDhAl0PEMpMTXrFmzsIKeeeaZ\n",
       "Qt/6k5/8JLy1tP6GrIGE86nVgSgBBpKBdFS74oorwgSaM2dOoW9NSUkJb3311VeF\n",
       "R6F3PrU6QJRAxzOQEt99990XJtBf/vKXQt/6y1/+Mrx13rx5wqPQO59aHSBKoOMZ\n",
       "SInvmWeeCRPonHPOKfjnj15//fXwpuOOO+6zzz4THoXe+dTqAFECHc9ASnyffPJJ\n",
       "1apVwxA666yzhgwZsmzZso8++mju3LmtW7c+4YQTwvHGjRsLj0LvfGp1gCiBjmcg\n",
       "JYspU6aUL1++0L+D9D//8z/Z2dnCo9A7n1odIEqg4xlISeSDDz644447KlasGE+j\n",
       "s846q0+fPkftC3wbSAYSWh2IEhhIGEhfu02bNi1fvnzXrl3Co9A7n1odIEqg4xlI\n",
       "ySsrK2vq1KmDBg3q1q3bCy+8MG/evNzcXOFR6J1PrQ4QJdDxDKTkkpOT88QTT1Su\n",
       "XDnfLyBdfPHFkydPFh6F3vnU6gBRAh3PQEoi7du3jxbRCSeccN5559WtW7d69erx\n",
       "kaL+hqzwKPTOp1YHiBIYSAZSopk+fXq0he67777NmzfHx+fOnXvJJZeE4zVr1hQe\n",
       "hd751OoAUQIdz0BKCo899lhYQbfcckvBN23dujX6ubsPPvhAeBR651OrA0QJdDwD\n",
       "KfFde+21YQKNGTOm0Lfefvvt4a2jRo0SHoXe+dTqAFECHc9ASnzRBJoyZUqhb23Y\n",
       "sGF46+jRo4VHoXc+tTpAlEDHM5ASX69evcIEatu2bcE3ZWVlVatWLbz1ww8/FB6F\n",
       "3vnU6gBRAh3PQEp8GzZsOOuss8qWLTto0KD9+/fHxz/++OPop+8aNmwoPAq986nV\n",
       "AaIEOp6BlBTGjh172WWXRS9kd8455zRq1Khp06bXX3/9SSedFB288847m+QxadIk\n",
       "4VHonU+tDhAl0PEMpMTUqVOnMofi8ccfFx6F3vnU6gBRAh3PQEpMU6ZMeeRQTJ8+\n",
       "XXgUeudTqwNECXQ8AwnhUeidT60OECXQ8Qyk5PDpp5/m5uaGC+GfI0aMaNOmzYAB\n",
       "A95//33hUeidT60OECXQ8QykJLJkyZJ69eqVK1du165d4Wrjxo3j3ziqWLHinDlz\n",
       "hEehdz61OkCUQMczkJLCpk2bKlWqFM2hMJCWLl0aXa5evXqtWrXChTp16giPQu98\n",
       "anWAKIGOZyAlhR49eoQVFLbQvHnzwtWOHTuGqxdeeOGePXuysrJq1KgRri5fvlx4\n",
       "FHrnU6sDRAl0PAMp8d12221hAr3yyivR1UsvvTRcTU9Pjx+d4eq4ceOER6F3PrU6\n",
       "QJRAxzOQkqBrXn55mEDvvPNOuPzZZ5+VL18+XF2/fn301jZt2oSrL7/8svAo9M6n\n",
       "VgeIEuh4BlLia9CgQZhAEydODJdHjx4dLteoUSN+a/369cORqVOnCo9C73xqdYAo\n",
       "gY5nICW+Ll26hAlUr169kSNH1q5dO1xu2rRp9KYxY8aUK1fu+OOPz8jIEB6F3vnU\n",
       "6gBRAh3PQEp8H374YYUKFeLX9T7xxBOjH7e7++67oyMNGzYUHoXe+dTqAFECHc9A\n",
       "ShbTp0+/4IILypYtW6dOnZdeeik6eM0114R1dMMNN2RlZQmPQu98anWAKIGOZyAl\n",
       "l+zs7LxX582bt3HjRuFR6J1PrQ4QJdDxDKRktHfv3nHjxvXt27d9+/bh6qJFi3bt\n",
       "2iU8Cr3zqdUBogQ6noGUdHr27Fm5cuX4N5HCkSuvvPLkk0/u2rWr8Cj0zqdWB4gS\n",
       "6HgGUhJ54IEHol1UrVq1eCDdfPPN0eVu3boJj0LvfGp1gCiBjmcgJYUZM2aEFXTc\n",
       "ccelp6eHq1WqVIkG0p49e7p37x4uV6pUKTMzU3gUeudTqwNECXQ8Aynxde3aNayg\n",
       "du3aRVfjgRSJ/jLSrFmzhEehdz61OkCUQMczkBLf1VdfHSbQjBkzCh1I9957b7g6\n",
       "fPhw4VHonU+tDhAl0PEMpMR31113hQk0fvz4QgdSNJ88g6TQO59aHSBKoOMZSEmh\n",
       "f//+YQKFIVRwIC1ZsqR8+fJly5Y9al/v20AykNDqQJTAQMJAKk1bt26tXr16GEXX\n",
       "XXfdnDlzzjjjjHB548aNQ4cOrVq1arjcqFEj4VHonU+tDhAl0PEMpGQxbdq0ihUr\n",
       "linMeeeddzT/uVgDyUBCqwNRAgMJA6n0bdq06c477zz99NPjaVSzZs1+/fp9/vnn\n",
       "wqPQO59aHSBKoOMZSMmif//+zZs3HzduXHR18+bNixYt2rp1q/Ao9M6nVgeIEuh4\n",
       "BlLSad26dZkyZX77298Kj0JvIGl1gCiBjmcgJbu//e1vYSDVqFEjKytLeBR651Or\n",
       "A0QJdDwDKallZ2dfd911YSM1bNgwMzNTeBR651OrA0QJdDwDKXm98847L7zwwne+\n",
       "852wkU477bRGjRo99NBDvf7dzp07hUehdz61OkCUQMczkBJfp06dyhzMUftvfAPJ\n",
       "QEKrA1ECAwkDqTS99tprvzmYTz75RHgUeudTqwNECXQ8AwnhUeidT60OECXQ8Qwk\n",
       "hEehdz61OkCUQMczkBAehd751OoAUQIdz0BCeBT6Y8M53WcfK/+7Z/gKrQ4MJMBA\n",
       "MpAQHgOJ/89AAgMJMJAMJP5Pdnb2qlWrZs2atWLFil27dpXwXllZWYsXL54/f/7G\n",
       "jRsNJAwkrQ4MJDCQMJASwezZs1u1atXkS82aNZs4ceJBp1Hv3r1TUlLiew0YMGDP\n",
       "nj0GEgaSVgeiBAYSBtKRtnfv3nHjxvXt27d9+/bh6qJFi0r+tE8+q1evjnbOkCFD\n",
       "pk+f/uKLL0ZX58+fX9Rddu/e3aNHj3Cb7t27jx8/fvjw4W3atAlXwwUDCQNJqwNR\n",
       "AgMJA+mI6tmzZ+XKlct8KRy58sorTz755K5dux7Ge+vfv394WL/yyivxkTfeeCMc\n",
       "6dSpU1F3mTRpUrhBnz59cnJyoiPvvvtuOPLAAw/k5uYaSBhIWh2IEhhIGEhHSBgh\n",
       "0S6qVq1aPJBuvvnm6HK3bt0O6b3t27evWbNm4WG9bdu2+ODevXubN28eDm7durXQ\n",
       "e4WPEt66efPmvAenTZs2derUeDIZSBhIWh2IEhhIGEhfrxkzZoQVdNxxx6Wnp4er\n",
       "VapUiQbSnj17unfvHi5XqlQpMzOz5O8wIyMjPKbbtWuX73ivXr3C8RUrCumLO3bs\n",
       "CG/q0KHDFwd+1m7lypXLli0ryQc1kDCQtDoQJTCQMJBKU9euXcMKivdMPJAitWvX\n",
       "DldnzZpV8ne4evXq8Jju0aNHvuNpaWnh+Lx58wr9f5Twpqeffvq1117L+yINzz77\n",
       "bNhLBhIGklYHogQGEgbSEXL11VeHCTRjxoxCB9K9994brhb/Sgn5vPfee+Ex3atX\n",
       "r3zHhw0bFo4XurXeeeed8KbU1NTwzyeffHLChAmvvvpqixYtwtXoea1iwlOodUeZ\n",
       "uv3mrCMp3Zq+4Jj4PGfOnOmbBaIER16TomnpBtJ/zF133RUm0Pjx4wsdSNF8OqRn\n",
       "kFauXFnoQBoyZEhRA2nhwoVREl5++eX44Pr166PJtGnTJs8g4Rkk/9kbRAk8g4SB\n",
       "dCT0798/TKAwhAoOpCVLlpQvX75s2bKH9Hrfa9asCY/pgi9/N3DgwKJe6Xv58uXR\n",
       "QMr3gZ566qlwcM6cOQYSBpJWB6IEBhIG0pGwdevW6tWrh1F03XXXhSlyxhlnhMsb\n",
       "N24cOnRo1apVw+VGjRod0jvcsmVLeEy3aNEi38tzP/roo+H4qlWrCt7lX//6V3hT\n",
       "y5Yt8x1/6aWXwvFi/sKsgYSBpNWBKIGBhIFUyqZNm1axYsUyhTnvvPMO9c/F5uTk\n",
       "tGrVKjys169fHx/MzMxMTU1NSUkp9LXpwl3uv//+cJft27fnPd6nT59wcMGCBQYS\n",
       "BpJWB6IEBhIG0pGzadOmO++88/TTT4+nUc2aNfv16/f5558fxnsbPHhweFj37ds3\n",
       "fhIpeoWGnj17Rlc3bNjw5gHxXZ599tlwg3DH/fv3R0eWLl0aPRNVzOt9G0gYSFod\n",
       "iBIYSBhIX6PNmzcvWrSoqD/nWkIZGRnRn4Vt165denp6hw4dwuWUlJT45+smTZqU\n",
       "7/VJduzY8fDDD4cjnTt3Hj58eFpaWvR63/GrRxhIGEhaHYgSGEgYSEfOp59+Gj3h\n",
       "E/45YsSINm3aDBgw4P333z+897Z27dowdeIXanzkkUeWLl0avzUaSKmpqfm22VNP\n",
       "PRX9eF50l4O+ep6BhIGk1YEogYGEgVTKlixZUq9evXLlykW/btS4ceP4B+0qVqxY\n",
       "zIvICY+BhIEEiBIYSAZSQtm0aVOlSpWiORQG0tKlS6PL1atXr1WrVrhQp04d4TGQ\n",
       "MJAAUQIdz0BKCj169AgrKGyhefPmhasdO3YMVy+88MI9e/ZkZWXVqFEjXF2+fLnw\n",
       "GEgYSIAogY5nICW+2267LUygV155Jbp66aWXhqvp6enxozNcHTdunPAYSBhIgCiB\n",
       "jmcgJb7LL788TKB33nknXP7ss8/Kly8frsZ/wqhNmzbh6ssvvyw8BhIGEiBKoOMZ\n",
       "SImvQYMGYQJNnDgxXB49enS4XKNGjfit9evXD0emTp0qPAYSBhIgSqDjGUiJr0uX\n",
       "LmEC1atXb+TIkbVr1w6XmzZtGr1pzJgx5cqVO/744zMyMoTHQMJAAkQJdDwDKfF9\n",
       "+OGHFSpUiF/X+8QTT4x+3O7uu++OjjRs2FB4DCQMJECUQMczkJLF9OnTL7jggrJl\n",
       "y9apU+ell16KDl5zzTVhHd1www1ZWVnCYyBhIAGiBDqegZRcsrOz816dN2/exo0b\n",
       "hcdAwkACRAl0PAMJ4TGQMJAAUQIdz0BKDu3bt//tofjkk0+Ex0DCQAJECXQ8Aykx\n",
       "nX/++WUOxVH7b3wDCQNJqwNRAgMJA+mrGjZsWPdDsXPnTuExkDCQAFECHc9AQngM\n",
       "JAwkQJRAxzOQkkZ2dvaWg8nJyREeAwkDCRAl0PEMpMTXqVMnv4NkIGEg+WaBKIGO\n",
       "ZyBRooF0xhlnfPTRR8JjIGEgAaIEOp6BlPj27t2bVcAHH3zwwgsv1KxZ85vf/Obi\n",
       "xYuFx0DCQAJECXQ8AynZvf/++9/4xjeqVKmSm5srPAYSBhIgSqDjGUjJ7pZbbilT\n",
       "psyKFSuEx0DCQAJECXQ8AynZ/eY3vwkD6dVXXxUeAwkDCRAl0PEMpKS2bdu2ChUq\n",
       "hIE0Y8YM4TGQMJAAUQIdz0BKfJMnT36oMA0bNjzllFPCOgr/3L59u/AYSBhIgCiB\n",
       "jmcgJb7iX+a7XLlyQ4cOFR4DCQMJECXQ8QykpDBu3LjUwtx///19+/Zds2aN8BhI\n",
       "GEiAKIGOZyAhPAYSBhIgSqDjGUgIj4GEgQSIEuh4BlKSy8rKmjp16qBBg7p16/bC\n",
       "Cy/MmzfvqP37sAYSBpJWB6IEBhIG0tclJyfniSeeqFy5cr5XaLj44osnT54sPAYS\n",
       "BhIgSqDjGUhJpH379tEiOuGEE84777y6detWr149PjJnzhzhMZAwkABRAh3PQEoK\n",
       "06dPj7bQfffdt3nz5vj43LlzL7nkknC8Zs2awmMgYSABogQ6noGUFB577LGwgm65\n",
       "5ZaCb9q6dWv0c3cffPCB8BhIGEiAKIGOZyAlvmuvvTZMoDFjxhT61ttvvz28ddSo\n",
       "UcJjIGEgAaIEOp6BlPiiCTRlypRC39qwYcPw1tGjRwuPgYSBBIgS6HgGUuLr1atX\n",
       "mEBt27Yt+KasrKxq1aqFt3744YfCYyBhIAGiBDqegZT4NmzYcNZZZ5UtW3bQoEH7\n",
       "9++Pj3/88cfRT981bNhQeAwkDCRAlEDHM5CSwtixYy+77LLohezOOeecRo0aNW3a\n",
       "9Prrrz/ppJOig3feeWeTPCZNmiQ8BhIGEiBKoOMZSImpU6dOZQ7F448/LjwGEgYS\n",
       "IEqg4xlIiWnKlCmPHIrp06cLj4GEgQSIEuh4BhLCYyBhIAGiBDqegZTotm/fPmDA\n",
       "gKZNm/6hCFu2bBEeAwkDCRAl0PEMpMS3devWc845p/jfOzpq/41vIGEgaXUgSmAg\n",
       "YSCVpi5duoQJdNxxx914440PPfRQx8Ls2LFDeAwkDCRAlEDHM5AS30033RQGUs+e\n",
       "PYXHQMJAAkQJdDwDKdldddVVYSDNmDFDeAwkDCRAlEDHM5CSXfR3kP74xz8Kj4GE\n",
       "gQSIEuh4BlKyW7JkSfny5c8+++z33ntPeAwkDCRAlEDHM5CS3YgRI6JXq6tbt27L\n",
       "wmzbtk14DCQMJECUQMczkBLfxx9/XLt2bS/zbSBhIAGiBDqegcQXffr0CROobNmy\n",
       "V155ZcuWLR8ojGeQDCQMJECUQMczkJJCgwYNwkDq3r278BhIGEiAKIGOZyAlu1tu\n",
       "uSUMpLlz5wqPgYSBBIgS6HgGUrLr169fGEiDBw8WHgMJAwkQJdDxDKRkt2HDhmrV\n",
       "qlWuXHn16tXCYyBhIAGiBDqegZTU5s+fn5KSUqZMmfLlyzds2PChwmzfvl14DCQM\n",
       "JECUQMczkBJfp06dyhyMl/k2kDCQAFECHc9ASgrjxo1LPZitW7cexnvOzs5etWrV\n",
       "rFmzVqxYsWvXrkO6786dO6dNm7Z+/XoDCQNJqwMDCQwkDKRj3uzZs1u1atXkS82a\n",
       "NZs4cWIJ75ubm/vkk0+Ge4XxZiBhIGl1YCCBgYSBdGxbvXp1SkpKeGQPGTJk+vTp\n",
       "L774YnR1/vz5Jbn7lClTolllIGEgaXVgIIGBhIH0tVu/fv2qQ7Fv375Dev/9+/cP\n",
       "D+tXXnklPvLGG2+EI506dTrofTdt2tS8efOWLVsaSBhIWh0YSGAgYSAdCeeff36Z\n",
       "Q3FI/8YPa6pZs2bhYb1t27b44N69e8PsCQeL/3WmcN9u3bo9+OCDb7/9toGEgaTV\n",
       "gYEEBhIG0jE/kDIyMsJjul27dvmO9+rVKxxfsaK4vjhq1Khwm8WLFy9cuNBAwkDS\n",
       "6sBAAgMJA+lIWL169aJDsWfPnkN65+Ex3aNHj3zH09LSwvF58+YVdcdVq1alpKQM\n",
       "GzYsXDaQMJC0OjCQwEDCQEoE7733XnhM9+rVK9/xsHzC8VmzZhV6r88+++zhhx9u\n",
       "3759dnb2IQ2kQq07ytTtN2cdSenW9AXHxOc5c+ZM3ywQJTjymhRNqTaQEsfKlSsL\n",
       "HUhDhgwpZiBF82nZsmXRVc8g4Rkk/9kbPIMEnkHCQEoEa9asCY/prl275js+cODA\n",
       "ol7pe9GiReFN6enpu780d+7ccGT06NHh8v79+w0kDCStDkQJDCQMpGPSli1bwmO6\n",
       "RYsWubm5eY8/+uij4fiqVasK3mXkyJHFPMH69ttvG0gYSFodiBIYSBhIx6ScnJxW\n",
       "rVqFh/X69evjg5mZmampqSkpKeFCwbssWLAg7d917do1+rtJ4XL8c3cGEgaSVgei\n",
       "BAYSBtKxZ/DgweFh3bdv3/hJpOhXjHr27Bld3bBhw5sHFPUe/A4SBpJWBwYSGEgY\n",
       "SAkiIyMj+rOw7dq1S09P79ChQ7ickpIS/3zdpEmTin99EgMJA0mrAwMJDCQMpMSx\n",
       "du3azp07x79H9MgjjyxdujR+azSQUlNTi7r74sWLww3Gjx9vIGEgaXVgIIGBhIFE\n",
       "QoXHQDKQtDowkAADyUBCeAwkA8lAAgMJMJAMJITHQMJAAgMJMJAMJITHQMJAAgMJ\n",
       "MJAMJITHQMJAAgNJlMBAMpAQHgMJAwkQJTCQDCSEx0DCQAJECQwkAwnhMZAwkABR\n",
       "Ah3PQEJ4DCQMJECUQMczkBAeAwkDCRAl0PEMJITHQMJAAkQJdDwDCeExkDCQAFEC\n",
       "Hc9AQngMJAwkQJRAxzOQEB4DCQMJECXQ8QwkhMdAwkDS6kCUQMczkBAeAwkDSasD\n",
       "UQIdz0BCeAwkDCStDkQJdDwDCeExkDCQtDoQJdDxDCSEx0DCQNLqQJRAxzOQEB4D\n",
       "CQNJqwNRAh3PQEJ4DCQMJK0ORAl0PAMJ4TGQMJC0OhAl0PEMJITHQMJA0upAlEDH\n",
       "M5AQHgMJA0mrA1ECHQ8DCQMJA0mrA1ECHQ8DCQMJA0mrA1ECHQ8DCQMJA0mrA1EC\n",
       "HQ8DCQMJA0mrA1ECHQ8DCQMJA0mrAwMJdDwMJAwkDCStDgwk0PEwkDCQMJC0OjCQ\n",
       "QMfDQMJAwkDS6sBAAgwkAwkDCQNJqwMDCTCQDCQMJAwkrQ4MJMBAMpAwkDCQtDow\n",
       "kAADyUDCQMJA0urAQAIMJAMJAwkDSasDAwkwkAwkhMdAMpC0OjCQAAPJQEJ4DCQD\n",
       "yUACAwkwkAwkhMdAwkACAwkwkAwkhMdAwkACAwkwkAwkhMdAwkACA0mUwEAykBAe\n",
       "AwkDCRAlMJAMJITHQMJAAkQJDCQDCeExkDCQAFECHc9AQngMJAwkQJRAxzOQEB4D\n",
       "CQMJECXQ8QwkhMdAwkACRAl0PAMJ4TGQMJAAUQIdz0BCeAwkDCRAlEDHM5AQHgMJ\n",
       "AwkQJdDxDCSEx0DCQNLqQJRAxzOQEB4DCQNJqwNRAh3PQEJ4DCQMJK0ORAl0PAMJ\n",
       "4TGQMJC0OhAl0PEMJITHQMJA0upAlEDHM5AQHgMJA0mrA1ECHc9A4miQnZ29atWq\n",
       "WbNmrVixYteuXSW8y3vvvRfusnLlynDZQMJA0urAQAIDCQMpEcyePbtVq1ZNvtSs\n",
       "WbOJEycWc/vc3NzJkyeHm8V3CXefMmWKgYSBpNWBgQQGEgbSsW316tUpKSnhkT1k\n",
       "yJDp06e/+OKL0dX58+cXdZdws3CDpk2bjhgxYsaMGUOHDo3usnDhQgMJA0mrA1EC\n",
       "AwkD6RjWv3//8LB+5ZVX4iNvvPFGONKpU6dCb5+Tk9O2bdt8C2rs2LHhSO/evQ0k\n",
       "DCStDkQJDCQMpGPVvn37op+U27ZtW3xw7969zZs3Dwe3bt1a8C4ff/xxeNPDDz+c\n",
       "m5sbHwy3DAdbtmxpIGEgaXUgSmAgYSAdqzIyMsJjul27dvmO9+rVKxxfsaKQvrhh\n",
       "w4bHHnvsL3/5S76D4fbt27c3kDCQtDoQJTCQMJCOVatXrw6P6R49euQ7npaWFo7P\n",
       "mzevhO/nueeeC7cP9yo+PIVad5Sp22/OOpLSrekLjonPc+bMmb5ZIEpw5DUpmlJt\n",
       "ICWO9957Lzyme/Xqle/4sGHDwvFZs2Yd9D3k5ub+9a9/jV77bvPmzZ5BwjNI/rM3\n",
       "iBJ4BgkD6Vi1cuXKQgfSkCFDSjKQwiKKfhivRYsWy5YtS4zwGEgGklYHBhJgIBlI\n",
       "SWrNmjXhMd21a9d8xwcOHFj8K33n5ORMmDAheoGHsJEyMjISJjwGkoGk1YGBBBhI\n",
       "BlKS2rJlS/T8T96XpAseffTRcHzVqlWF3mvfvn2DBg0KN2jduvWMGTPy3ddAwkDS\n",
       "6kCUwEDCQDom5eTktGrVKjys169fHx/MzMxMTU1NSUkJFwq9V/RLR507d96+fXvi\n",
       "hcdAMpC0OjCQAAPJQEpegwcPDg/rvn37xk8ERa/Q0LNnz+jqhg0b3jwguhpGUbNm\n",
       "zVq2bFnUfDKQMJC0OhAlMJAwkI5VGRkZ0Z+FbdeuXXp6eocOHcLllJSU+OfrJk2a\n",
       "lPcFHOfOnRv9TdgnC3j++ecNJAwkrQ5ECQwkDKRj29q1azt37hy/kv0jjzyydOnS\n",
       "+K3RQEpNTY2ujhgxoqiXwO/YsaOBhIGk1YEogYGEgUTihMdAMpC0OjCQAAPJQEJ4\n",
       "DCQDyUACAwkwkAwkhMdAwkACAwkwkAwkhMdAwkACAwkwkAwkhMdAwkACA0mUwEAy\n",
       "kBAeAwkDCRAlMJAMJITHQMJAAkQJDCQDCeExkDCQAFECHc9AQngMJAwkQJRAxzOQ\n",
       "EB4DCQMJECXQ8QwkhMdAwkACRAl0PAMJ4TGQMJAAUQIdz0BCeAwkDCRAlEDHM5AQ\n",
       "HgMJAwkQJdDxDCSEx0DCQNLqQJRAxzOQEB4DCQNJqwNRAh3PQEJ4DCQMJK0ORAl0\n",
       "PAMJ4TGQMJC0OhAl0PEMJITHQOI/82+oB6YeE/87q/N03ywwkOD/tXfvwVGW9x7A\n",
       "tSrFtkir7fRGR8FeqMXLqVN7aqettdZOa0c7ULQzTvF0ZNgQIF5qmEIbiSASLR6l\n",
       "RpEALRQPGEstYgeCxhFootwEFCY3GEkj0NgE2sRENCHpeY7vuLPdwOYNRA8xn8/k\n",
       "j+TZZ99kH/Y3z+/L7vuuHk9AQvEISPB/BCQQkECPJyCheAQkEJBAQAI9noCE4hGQ\n",
       "QEACAQn0eAISikdAAgEJBCTQ4wlIKB4BCQQkEJBAjycgoXgEJBCQQEACPZ6AhOIR\n",
       "kEBAAgEJ9HgCEopHQAIBCQQk0OMJSCgeAQkEJBCQQI8nIFkCxSMggYAEAhLo8RCQ\n",
       "EJBAQAIBCfR4CEgISCAggYAEejwEJAQkEJBAQAI9HgISAhIISCAggR4PAQkBCQQk\n",
       "EJBAj4eAhIAEAhIISKDHQ0BCQAIBCQQk0OMhICEggYAEAhIgIAlICEggIIGABAhI\n",
       "AhICEghIICABApKAhIAEAhIISICAJCAhIIGABAISICAJSAhIICCBgAQISAISikdA\n",
       "QkACAQkQkAQkFI+AhIAEAhIgIAlIKB4BCQEJBCRAQBKQUDwCEgISCEiAgCQgoXgE\n",
       "JAQkQEACAUlAQvEISAhIgIAEApKAhOIRkBCQAAEJBCQBCcUjICEgAQIS6PEEJBSP\n",
       "gISABAhIoMcTkFA8AhICEiAggR5PQELxCEgISICABHo8AQnFIyAhIAECEujxBCQU\n",
       "j4CEgAQISKDHE5BQPAISAhIgIIEeT0DiBNLa2lpdXV1WVlZRUdHc3CwggYAEAhII\n",
       "SAhI/VR5eXlOTs64t2VnZ69evVpAAgEJBCQQkBCQ+p2amppEIhEqoaioaN26dUuW\n",
       "LIl+3Lhxo4AEAhIISCAgISD1L3PmzAllsHTp0uRISUlJGJk2bZqABAISCEggICEg\n",
       "9SPt7e3Z2dmhDA4cOJAcbGtrmzBhQhhsbGwUkEBAAgEJBCQEpP6ivr4+1EBubm7a\n",
       "eEFBQRivqKgQkEBAAgEJBCQEpP6ipqYm1MDMmTPTxufOnRvGN2zYICCBgAQCEghI\n",
       "CEj9RVVVVaiBgoKCtPGFCxeG8bKysgz3HXTzyiN+hW7vhPo6afR/DxkyZE8XQ95i\n",
       "3Pj/+/hJY//HOhg/kcf/897n0r6G3PJY+DrRxv/jrmf7xN/Zh8ZPtA3dV69/Ha2X\n",
       "E5AEpH6tsrLyiAGpqKio24CkeKBXeAWp37rswa35JS+f+F9eQQKvICEg9SO7du0K\n",
       "NTB9+vS08cLCwm6v9K14QEDiePzXsgqLICCBgCQgcWJpaGgINTBx4sTOzs7U8by8\n",
       "vDBeXV2teEBA6ovBo698+ccSkEBAEpA4sXR0dOTk5IQyqK2tTQ42NTVlZWUlEonw\n",
       "jeIBAanPpSOLICABApKAxLGbN29eKIPZs2cnX0SKrtAwa9YsxQPvTkDycoeAhIAE\n",
       "ApKAxImivr4++ljY3Nzc+fPnT506NXyfSCQyv79O8UB/6+rOubNcQEIpgYCEgNQv\n",
       "7N69Oz8/f9zbpkyZsn37dsUDujoBCaUEAhICEooHdHVHcNmDW/vEV18JcghIoMcT\n",
       "kFA8gK4OlBLo8QQkFA+gqwOlBHo8AQnFA+jqQCmBHk9AQvEAujpQSqDHE5BQPICu\n",
       "DpQS6PEEJBQPoKsDpQR6PAEJxQPo6kApgR4PAUnxKB7Q1YFSAj0eAhKKB3R1oJRA\n",
       "j4eAhOIBXR0oJdDjISCheEBXB0oJ9HgISCge0NWBUgI9HgISigd0daCUQI+HgITi\n",
       "AV0dKCXQ4yEgoXhAVwdKCdDjCUgoHtDVgVIC9HgCEooHdHWglAA9noCE4gFdHSgl\n",
       "QI8nIKF4QFcHSgnQ4wlIKB7Q1YFSAvR4AhKKB3R1oJQAPZ6AhOIBXR0oJUCPJyCh\n",
       "eEBXB0oJ0OMJSCge0NWBUgL0eAISigd0daCUlBLo8QQkFA/o6gClBHo8AQnFA7o6\n",
       "QCmBHk9AQvGArg5QSqDHE5BQPKCrA5QS6PEEJBQP6OoApQR6PAEJxQO6OkApgR5P\n",
       "QELxgK4OUEqgxxOQUDygqwOUEujxBCQUD+jqAKUEejwBCcUDujpdHSgl0OMJSCge\n",
       "QFcHSgn0eAISigfQ1YFSAj2egITiAXR1oJRAjycgoXgAXR0oJdDjCUgoHkBXB0oJ\n",
       "9HgCEooH0NWBUgI9noCE4gF0daCUQI8nIKF4AF0dKCXQ4wlIKB5AVwdKCfR4CEgo\n",
       "HtDVgVICPR4CEooHdHWglECPh4CE4gFdHSgl0OMhIKF4QFcHSgn0eAhIKB7Q1YFS\n",
       "Aj0eAhKKB3R1oJRAj4eAhOIBXR0oJdDjISCheEBXB0oJ0OMJSCge0NWBUgL0eAIS\n",
       "igd0daCUAD2egITiAV0dKCVAjycgoXhAKYFSAlSTgNQPtba2VldXl5WVVVRUNDc3\n",
       "x5lfVVUV5ldWVobvFQ/Yh0ApgWpCQHqPKC8vz8nJGfe27Ozs1atXH21yZ2fn008/\n",
       "HeYk54f7lpaWKh6wD4FSAtWEgNTn1dTUJBKJ8MwuKipat27dkiVLoh83btx4xPlh\n",
       "Trh1/PjxxcXF69evX7BgQTR/8+bNigfsQ6CUQDUhIPVtc+bMCU/rpUuXJkdKSkrC\n",
       "yLRp07pO7ujouO2229Li08qVK8PIPffco3jAPgRKCVQTAlIf1t7eHr1Z7sCBA8nB\n",
       "tra2CRMmhMHGxsa0+a+++moY/8UvftHZ2ZkcDNPC4KRJkxQP2IdAKYFqQkDqw+rr\n",
       "68NzOjc3N228oKAgjFdUVKSN19XV3X777YsWLUobDJMnT56seMA+BEoJVBMCUh9W\n",
       "U1MTntMzZ85MG587d24Y37BhQ5yD/O53vwuTw10UD9iHQCmBakJA6sOqqqrCc7qg\n",
       "oCBtfOHChWG8rKws8907OzuXL18eXfhu//793RYPAADvPZpqAanvef311x/5d48/\n",
       "/ngYr6ysPGJAKioq6jYghUQUvRNv4sSJO3futMgAACAg9Q0HDx5MC/rRKUO7du0K\n",
       "30+fPj1tfmFhYYYrfXd0dKxatSq6ukPISPX19VYYAAAEpD6jvb295t/V1dWF8YaG\n",
       "hugloNSr0gV5eXlhvLq6+oiHevjhh8OtN9100/r169PuCAAACEh9VUdHR05OTkg7\n",
       "tbW1ycGmpqasrKxEIhG+6XqX6KSj/Pz8gwcPWkAAABCQ3lPmzZsXAs/s2bOTrwVF\n",
       "V2iYNWtW9GNdXd1Tb/nXW2/Vy87OnjRp0hGzEwAAICD1bfX19dHHwubm5s6fP3/q\n",
       "1Knh+0QikXx/3Zo1a5LXJ3n++eejz4S9r4vFixdbTAAAEJD6vN27d+fn5yev3zBl\n",
       "ypTt27cnb40CUlZWVvi+uLj4aJd3/NWvfmUlAQBAQAIAABCQAAAABCQAAAABCQAA\n",
       "QEACAAAQkDhOra2t1dXVZWVlFRUVzc3NFgSOQWNj474uFBT0SH19/dq1a1taWmxV\n",
       "8E6Ukq1KQCKW8vLynJyc5KXAs7OzV69ebVmgp6ZNm9b12vorVqywMhBfUVFRKJxd\n",
       "u3bZquCdKCVblYBE92pqahKJRKiNUEjr1q1bsmRJ9OPGjRstDsTX1taWlZU1efLk\n",
       "4n+3Y8cOiwNxHDp0aOXKlVG7ltbV2aqgV0rJViUgEcucOXNC/SxdujQ5UlJSEkam\n",
       "TZtmcSC+v/71r6FwFi1aZCmgp0Jzdscdd0yYMCH5/9lpXZ2tCnqllGxVAhLda29v\n",
       "z87ODqVy4MCB1P9diEqrsbHREkFMzz33XKia0tJSSwHH0NXd/rbx48endXW2KuiV\n",
       "UrJVCUjEUl9fH+okNzc3bbygoCCMV1RUWCKI6bHHHgtVs3Xr1vXr1y9fvjxsPy+/\n",
       "/LJlgZ4qLCxM6+psVdArpWSrEpCIpaamJtTJzJkz08bnzp0bxjds2GCJIKb77rsv\n",
       "OnE89bTXBQsWtLe3Wxw4nq7OVgW9FZBsVQIS3auqqgqFUVBQkDa+cOHCMF5WVmaJ\n",
       "IKaf//znoWruvvvu0K5VV1evWLEi2oFcGgiOs6uzVUFvBSRblYBE9yorK4+460SX\n",
       "hrTrQEwdHR1PPfXU008/nfqfcJs2bYr+oy7caongmLs6WxX0SinZqgQkYgllE6pi\n",
       "+vTpRywql0+F4zR58uRQSvv377cUcMxdna0KeqWUbFUCErE0NDSEkpg4cWJnZ2fq\n",
       "eF5eXhivrq62RBBHqKBDhw51fQ/3jBkznEQOx9nV2aqgV0rJViUgEUtHR0f0weS1\n",
       "tbXJwaampqysrEQiEb6xRBDHCy+8EOpo3rx5qYNtbW2TJk1yGWI4zq7OVgW9Ukq2\n",
       "KgGJuEKdhKqYPXt28n/motNeZ82aZXEgprCvhKoZP358TU1NNBIK6tFHHw2D+fn5\n",
       "1geOp6uzVUGvlJKtSkAirvr6+uiz9nJzc+fPnz916tTwfSKR8KYF6JFly5aF2snK\n",
       "ypo7d25xcfHMmTOj0153795tceA4A5KtCnqllGxVAhJxharIz89PXg5/ypQp27dv\n",
       "tyzQI4cPH161atXNN98c1VHYfu6+++5XXnnFykCPRJ9u1PXMclsVHH8p2aoEJHqm\n",
       "tbW1rq6uubnZUsAx6+zsbGxs3Lt3rw/dA1sV2KoEJAAAAAEJAABAQAIAABCQAAAA\n",
       "BCQAAAABCQAAQEACgHfK9u3bi9+2du3azJNbWlqKU7z22muZ5z/77LN/+tOf+u3a\n",
       "7t27N6xSTU2NpxmAgARA72hoaDg9hlGjRh3b8W+77baT3jZixIjMk/fs2XNSivXr\n",
       "12eYvG3btlNPPfW73/3ue+xf5KGHHgoLfv3113c7s7Gx8YwzzrjwwgsPHz7smQwg\n",
       "IAHQC/7+97+fFMMVV1xxPAHpqquuCn3/o48+mnlyc3PzQ28ZOnRo5oAUIsHFF198\n",
       "8sknb9269T32L/LAAw+Ex/7DH/4wzuQ77rgjTJ47d65nMoCABEAv6OzsbP535557\n",
       "bui5p0yZkjr4+uuvH09AmjVrVo/u9bWvfS1zQFq2bFmYMHLkyPfev0iPAlL4pxk0\n",
       "aNDHP/7xN954w5MZQEACoPd9/vOfDw16fn5+rxztHQpIl156aZiwcuXKfh6Qghtu\n",
       "uCHMX7RokacugIAEQPfuv//+MWPG7Ny5c926dVlZWeeff/7nPve50aNHb9u27RgC\n",
       "Umlp6XXXXTdixIihQ4d+9atfvfnmmzNfJOCIAanbg2QOSC+++GK49ayzzmpra+vR\n",
       "H7Z58+bs7OxLLrkkTBs/fvwf//jHrgd/5plnojnnnnvu5ZdfHv7ypqamtDkbN268\n",
       "6aabvvGNb4Q511xzzYwZM/7xj38c24I/8cQTN9544wUXXPDZz3521KhR4bd3DUiZ\n",
       "H9pTTz0V5l988cWe6gACEgDd+973vhca6ND0DxgwIPW0ovDj888/36OANHv27K6n\n",
       "Jw0ePPill16KH5DiHCRzQPr1r38dbr3yyit7dMx77733tNNOS5tz6623Jid0dnbm\n",
       "5eWdfPLJaXM+85nP7Nu3LzntrrvuOvXUU9PmnH322SE19WjBDx8+PHHixK5/dkhK\n",
       "qQGp24fW0tISDe7fv9+zHUBAAiBWQAouuuiiZ555Zu/evYsXLx4yZEgYueaaa+IH\n",
       "pDfffPMDH/hAuCmRSOzZs6epqam0tHTYsGFh5Nprr40ZkGIeJHNAuuqqq6IjxD9m\n",
       "eODhx1NOOSVEoN27d7/88st33nlnFGAeeOCBaM7y5cujhRozZkxIMmFauOmss84K\n",
       "I9///vejOU8++WQ0J4xs2rQpZJLi4uJPfOITYSQsaXSmVswF/+1vfxtNGzt27JYt\n",
       "W2prax955JGPfvSj0WAUkGIu18c+9rEw8vvf/96zHUBAAiBWQAqd9z//+c/kYEFB\n",
       "QRgMrXb8gFRRURH17i+88EJycNWqVWeeeeaXv/zlmAEp5kEyB6RPfvKT4dbwEOIf\n",
       "c8SIEV0f1Jw5c8JgeLz/euvlo/POOy/8+JOf/CR1zm9+85sweNppp0VvtBs+fHh0\n",
       "Tb8wPzknRKn3v//9yYcZZ8E7OjrOOeecMJJ2Oe/wWKKXp6KAFHO5vvKVr4Q5kyZN\n",
       "8mwHEJAAiBWQcnJyUge3bdsWBgcNGhQ/IIWePnqpJHT28+fPj/mGrrSAFPMgGQJS\n",
       "SCZRhEheNLzbYyYvZb5v375DKULmiV5E2rJlS7hXNGfz5s2p921rayspKVmzZk34\n",
       "Jjmn61sTE4lEGI8+lCnOgtfW1nZNPpHRo0cnA1LM5br22mvDnHBHz3YAAQmAWAFp\n",
       "zpw5qYM7duwIgx/60IfiB6Rg8eLFp59+evJMmGHDho0dO/bZZ5+NH5BiHiRDQDp4\n",
       "8GB0xw0bNsQ85tq1azN/ytPjjz8eflf0HrwMH7oaDhjmvO997wvhKu2moqKi6Eyk\n",
       "mAteWlp6tF93zz33pJ6DFGe5Jk+eHG761re+5dkOICABECsgPfzww8cfkP711tvJ\n",
       "wk2XXHJJ6oUKfvazn6W+5SxzQIpzkAwBqampKZpfVlYW85h//vOfox/POYply5at\n",
       "WLHiaAuStGrVqjAnHL/rg40+l+nMM8+MueDRuUwDBgzo+lsKCwvTrmLX7XL98pe/\n",
       "DCNf//rXPdsBBCQA3tWAlNTS0hJCRWjKo379aK8jZf4cpKMdJPM5SAMHDgy3PvLI\n",
       "IzGPGQJG9MpP6mXB02zfvj2af/DgwdTxjo6OsHQPPfTQvn37Kisrozl1dXVpd58x\n",
       "Y0YYDxkm5oInD/W3v/0t7VC33nrr0T4H6WjLdf3114cff/SjH3m2AwhIALxLAenJ\n",
       "J58cPnz4j3/849TB5ubmM844I8y///774wSkmAfJHJDOPvvscGvIJDGPGULOoEGD\n",
       "wvfLly9PnVNbWxse7LBhw/bu3dva2nrKKaeEOYWFhalziouLo3DV2NgY8lV0Tbm8\n",
       "vLzUOW+++WZ0be4bb7wx5oKHu3zwgx8MI3feeWfaoaKTjqKAFHO5osg0btw4z3YA\n",
       "AQmAdykgvfTSS9FpM0888URysLKyMrqAW2lpaZyAFPMgmQPSqFGjkmkk5jFvv/32\n",
       "8P2nP/3p5JlLIRFdffXVYTAkkGhk7Nix0dvkktdgqKqquuCCC8LgN7/5zWgkRKPw\n",
       "48CBA5OXiAjH+elPfxq99S7Mj7/gU6ZMCSMhJq1cuTIaeeONN0IWSr3Md8zl+tSn\n",
       "PtX1NwIgIAHwDgakzs7OK6+8MmrfQ2wYOXLkZZddFnXq5513XvQRQN0GpJgHyRyQ\n",
       "wmMJt15++eXxj9nc3PzFL34xChvnn39+CDzRhJBqSkpKouPs378/uoB4mHPRRRdF\n",
       "VwYPTj/99J07d0ZzXnvttQsvvDAaDwe84oorog9KCqZPn96jBT948OCXvvSl6L5f\n",
       "+MIXvv3tb0evC0UvUkUBKc5DC7Eq+nDbEJw82wEEJABiBaQFCxakDkbnwHz4wx/u\n",
       "Oj/q2o94DlKIGePHj4/eGxYZOHDgdddd9+qrrx7tt3c9BynOQTIHpLq6upBhBg8e\n",
       "HLJB/GO2traOGzcu3Cs5J0SOZDqKNDQ0jB49OoookUsvvTTtwt/hl95yyy3JT3QN\n",
       "4STEm9RXeOIveIhbY8aMSf5J4W++4YYb7r333tRzkLp9aNH196IL6AEgIAHwbjt0\n",
       "6FBNTU15eXlo+kPqyDz5aBdpyHyQzAEpGDlyZNdzimL+YXv27Nm4cWOGUNfR0VFV\n",
       "VbVly5bow2GP5pVXXtm0aVMIOce5np2dneEP3rFjR3t7+zGseUh9GS6DAYCABMAJ\n",
       "JPNV7I6m24D0l7/85WiXeutXQlj6yEc+MnDgwMbGRk82AAEJgL4RkK6++uoHH3xw\n",
       "2bJlmSe3tLQ8+JahQ4dmDkjBD37wgzBn06ZN/Xl577rrrq5X1QNAQALghA5IkREj\n",
       "RmSevGfPnpNSZA5I1dXVAwYM+M53vtNv17axsXHw4MHDhw9PnosFgIAEwAntxRdf\n",
       "fOxta9asyTw5NPp/+MMfkvMbGhoyzy8vLw/TDh8+3G8DUnj4ISh6mgEISAAAAAIS\n",
       "AACAgAQAACAgAQAACEgAAAACEgAAgIAEAAAgIAEAAAhIAAAAAhIAAICABAAAICAB\n",
       "AAAISAAAAAISAACAgAQAACAgAQAACEgAAAACEgAAgIAEAAAgIAEAAAhIAAAAAhIA\n",
       "AICABAAAICABAAAISAAAAAISAACAgAQAACAgAQAAICABAAAISAAAAAISAACAgAQA\n",
       "ACAgAQAACEgAAAACEgAAQM/9L2ooV2+4J1SzAAAAAElFTkSuQmCC\" style=\"clip-path:url(#clipPath2);\" height=\"840\" preserveAspectRatio=\"none\"\n",
       "    /></g\n",
       "  ></g\n",
       "></svg\n",
       ">\n"
      ]
     },
     "metadata": {},
     "output_type": "display_data"
    }
   ],
   "source": [
    "impulse(Hz,15)\n",
    "grid\n",
    "title('Example 5 - Part 2 - As Analogue Signal')\n",
    "xlabel('nTs [s]')\n",
    "ylabel('Impulse response h(t)')"
   ]
  },
  {
   "cell_type": "markdown",
   "metadata": {
    "slideshow": {
     "slide_type": "slide"
    }
   },
   "source": [
    "### 5.3. The DT step response\n",
    "\n",
    "$$Y(z) = H(z)X(z)$$"
   ]
  },
  {
   "cell_type": "markdown",
   "metadata": {
    "slideshow": {
     "slide_type": "fragment"
    }
   },
   "source": [
    "$$u_0[n] \\Leftrightarrow \\frac{z}{z - 1}$$"
   ]
  },
  {
   "cell_type": "markdown",
   "metadata": {
    "slideshow": {
     "slide_type": "subslide"
    }
   },
   "source": [
    "We will work through this example in class.\n",
    "\n",
    "[Skip next slide in Pre-Lecture]"
   ]
  },
  {
   "cell_type": "markdown",
   "metadata": {
    "slideshow": {
     "slide_type": "subslide"
    }
   },
   "source": [
    "$$\\begin{array}{lcl}\n",
    "Y(z) = H(z){U_0}(z) &=& \\frac{z^2 + z}{z^2 + 0.5z + 0.125}.\\frac{z}{z - 1}\\\\\n",
    " & = & \\frac{z(z^2 + z)}{(z^2 + 0.5z + 0.125)(z - 1)}\n",
    "\\end{array}$$"
   ]
  },
  {
   "cell_type": "markdown",
   "metadata": {
    "slideshow": {
     "slide_type": "subslide"
    }
   },
   "source": [
    "$$\\frac{Y(z)}{z} = \\frac{z^2 + z}{(z^2 + 0.5 z + 0.125)(z - 1)}$$"
   ]
  },
  {
   "cell_type": "markdown",
   "metadata": {
    "slideshow": {
     "slide_type": "fragment"
    }
   },
   "source": [
    "Solved by inverse Z-transform."
   ]
  },
  {
   "cell_type": "markdown",
   "metadata": {
    "slideshow": {
     "slide_type": "notes"
    }
   },
   "source": [
    "<pre style=\"border: 2px solid blue\">\n",
    "\n",
    "\n",
    "\n",
    "\n",
    "\n",
    "\n",
    "\n",
    "\n",
    "\n",
    "\n",
    "\n",
    "\n",
    "\n",
    "\n",
    "\n",
    "\n",
    "\n",
    "\n",
    "\n",
    "</pre>"
   ]
  },
  {
   "cell_type": "markdown",
   "metadata": {
    "slideshow": {
     "slide_type": "subslide"
    }
   },
   "source": [
    "### Matlab Solution\n",
    "\n",
    "See [dtm_ex1_3.mlx](https://cpjobling.github.io/eg-247-textbook/dt_systems/4/matlab/dtm_ex1_3.mlx). (Also available as [dtm_ex1_3.m](https://cpjobling.github.io/eg-247-textbook/dt_systems/4/matlab/dtm_ex1_3.m).)\n",
    "    "
   ]
  },
  {
   "cell_type": "code",
   "execution_count": 8,
   "metadata": {},
   "outputs": [],
   "source": [
    "open dtm_ex1_3"
   ]
  },
  {
   "cell_type": "markdown",
   "metadata": {
    "slideshow": {
     "slide_type": "notes"
    }
   },
   "source": [
    "### Results\n",
    "\n",
    "![Results](./pictures/dtm_ex1_3_1.png)"
   ]
  },
  {
   "cell_type": "markdown",
   "metadata": {
    "slideshow": {
     "slide_type": "slide"
    }
   },
   "source": [
    "## Modelling DT systems in MATLAB and Simulink"
   ]
  },
  {
   "cell_type": "markdown",
   "metadata": {
    "slideshow": {
     "slide_type": "fragment"
    }
   },
   "source": [
    "We will consider some examples in class"
   ]
  },
  {
   "cell_type": "markdown",
   "metadata": {
    "slideshow": {
     "slide_type": "subslide"
    }
   },
   "source": [
    "### MATLAB\n",
    "\n",
    "Code extracted from [dtm_ex1_3.m](https://cpjobling.github.io/eg-247-textbook/dt_systems/4/matlab/dtm_ex1_3.m):\n",
    "\n",
    " "
   ]
  },
  {
   "cell_type": "code",
   "execution_count": 9,
   "metadata": {
    "slideshow": {
     "slide_type": "fragment"
    }
   },
   "outputs": [],
   "source": [
    "Ts = 1;\n",
    "z = tf('z', Ts);"
   ]
  },
  {
   "cell_type": "code",
   "execution_count": 10,
   "metadata": {
    "slideshow": {
     "slide_type": "fragment"
    }
   },
   "outputs": [
    {
     "name": "stdout",
     "output_type": "stream",
     "text": [
      "\n",
      "Hz =\n",
      " \n",
      "        z^2 + z\n",
      "  -------------------\n",
      "  z^2 - 0.5 z + 0.125\n",
      " \n",
      "Sample time: 1 seconds\n",
      "Discrete-time transfer function.\n",
      "\n"
     ]
    }
   ],
   "source": [
    "Hz = (z^2 + z)/(z^2 - 0.5 * z + 0.125)"
   ]
  },
  {
   "cell_type": "code",
   "execution_count": 11,
   "metadata": {
    "slideshow": {
     "slide_type": "subslide"
    }
   },
   "outputs": [
    {
     "data": {
      "image/svg+xml": [
       "<?xml version=\"1.0\"?>\n",
       "<!DOCTYPE svg PUBLIC '-//W3C//DTD SVG 1.0//EN'\n",
       "          'http://www.w3.org/TR/2001/REC-SVG-20010904/DTD/svg10.dtd'>\n",
       "<svg xmlns:xlink=\"http://www.w3.org/1999/xlink\" style=\"fill-opacity:1; color-rendering:auto; color-interpolation:auto; text-rendering:auto; stroke:black; stroke-linecap:square; stroke-miterlimit:10; shape-rendering:auto; stroke-opacity:1; fill:black; stroke-dasharray:none; font-weight:normal; stroke-width:1; font-family:'Dialog'; font-style:normal; stroke-linejoin:miter; font-size:12px; stroke-dashoffset:0; image-rendering:auto;\" width=\"560\" height=\"420\" xmlns=\"http://www.w3.org/2000/svg\"\n",
       "><!--Generated by the Batik Graphics2D SVG Generator--><defs id=\"genericDefs\"\n",
       "  /><g\n",
       "  ><defs id=\"defs1\"\n",
       "    ><clipPath clipPathUnits=\"userSpaceOnUse\" id=\"clipPath1\"\n",
       "      ><path d=\"M0 0 L560 0 L560 420 L0 420 L0 0 Z\"\n",
       "      /></clipPath\n",
       "      ><clipPath clipPathUnits=\"userSpaceOnUse\" id=\"clipPath2\"\n",
       "      ><path d=\"M0 0 L1119.9999 0 L1119.9999 839.9999 L0 839.9999 L0 0 Z\"\n",
       "      /></clipPath\n",
       "    ></defs\n",
       "    ><g style=\"fill:white; stroke:white;\"\n",
       "    ><rect x=\"0\" y=\"0\" width=\"560\" style=\"clip-path:url(#clipPath1); stroke:none;\" height=\"420\"\n",
       "    /></g\n",
       "    ><g transform=\"scale(0.5,0.5)\"\n",
       "    ><image x=\"0\" y=\"0\" width=\"1120\" xlink:href=\"data:image/png;base64,iVBORw0KGgoAAAANSUhEUgAABGAAAANICAIAAAAHNA4rAABbaklEQVR42uzdCXiU\n",
       "9aE+bEABUYpiLZVFllot7dFTtdViba3VYl1btW7g8ncFAgZEIYpbkEhZhFqqNSD0\n",
       "iNoWgqgRKpZNJUAEbEBFoCAggiBqRIhBICHp9zu8x/cbkwARI5DJfV9cvTLvzGQZ\n",
       "5qnPQ5J3av0HAACAHWp5CAAAAAwkAAAAAwkAAMBAAgAAMJAAAAAMJAAAAAMJAADA\n",
       "QAIAADCQAAAADCQAAAADCQAAwEACAAAwkAAAAAwkAAAAAwkAAMBAAgAAMJAAAAAM\n",
       "JAAAAAMJAADAQAIAADCQAAAADCQAAAADCQAAwEACAAAwkAAAAAwkAAAAAwkAAMBA\n",
       "AgAAMJAAAAAMJAAAAAMJAADAQAIAADCQAAAADCQAAAADCQAAwEACAAAwkAAAADCQ\n",
       "AAAADCQAAAADCQAAwEACAAAwkAAAAAwkAAAAAwkAAMBAAgAAMJAAAAAMJAAAAAMJ\n",
       "AADAQAIAADCQAAAADCQAAAADCQAAwEACAAAwkAAAAAwkAAAAAwkAAMBAAgAAMJAA\n",
       "AAAMJAAAAAMJAADAQAIAADCQAAAADCQAAAADCQAAwEACAAAwkAAAAAwkAICv1bZt\n",
       "2xYvXvyPf/xj0qRJb7311ubNmz0mgIEEJK2UlJQGu/PUU09Vu6/r+OOPjz75e++9\n",
       "t6re58cff3zlDvfff/9e+Fs4+OCD27Zte9lll40ZM6YKP1Zpaenmz1Xm9k8++eQF\n",
       "F1zQsmXLI4444tRTT/39739fUFDwdfyVZWRkxF/7NddcU00/xNf9JNzLNm3a1Ldv\n",
       "329+85u1EoRnZteuXVeuXLm/faVJ8IADBhKw79144421dmfkyJHV7us65phjok/+\n",
       "zjvvrKr3OWzYsOh9/uIXv9jLfwsXX3xxUVFRlXystWvXxu/25Zdf3sUtw0c877zz\n",
       "yn8yRx555Ntvv121j0CYbW3atIk/xEEHHbRx48Zq9yH2wpNwbwoTOkzinT0nw9Pg\n",
       "nXfe2a++0ur+gAMGEmAgVZuqFLp1VlZWqNR7ZyDVq1fvwAMPLPO3MGTIkCofSJMn\n",
       "T97FLTMyMhI/gTp16sRvh4c3PCZV+AiEqVbm6x0xYkTVPsh74UMkWV/v3r17/Fg1\n",
       "bdq0Q4cOF1100aGHHhofPOmkk6Jb/vrXv/7ODg899JCBBBhIQPIMpFCX8yqSn59f\n",
       "YwfShAkTLrvsstatWycW6691IK1bty46+Mknn4QGX7du3fgf7PfmQCoqKmrQoEF0\n",
       "s1B/FyxYsGHDhsTGHI5U4SNw7bXXllkvP/3pT6v2Qd4LHyLJ+vr3vve96PP/r//6\n",
       "r8LCwuhgQUHBj370o/gx/Oijj5L1n0UAAwkwkP7/al5eZmbmtZ9bvHhxdDDU6/hg\n",
       "/MNaGzdu/POf/3zmmWceffTRhx9+eJs2bcLbQ4YM2bJlS/ze0tLSonu99tprEydO\n",
       "DAukRYsWJ510Urdu3TZt2hRu8Je//OXCCy/89re/ffzxx3fp0mXNmjXxfW+55Zbo\n",
       "vosWLQofqH379mE5nHbaabfffvuqVat2W5Vef/31rl27tmvXLrzzX/3qV/fee2/i\n",
       "vcrr27dv+W+p7Z2BFLnhhhviqz7++ONKPsjxoxT+sl599dULLrigadOmPXr06Ny5\n",
       "829/+9v4HZ5xxhnhNllZWeU/pfBAxTcLb8cft379+tHBv/3tb1X15YfOfcghh0Tv\n",
       "tnHjxvHHXbp0aZlbzpgx47rrrjvuuOOaNGly1FFHhb/HBx544IMPPqiqD5H4uD37\n",
       "7LMXXXRRs2bNWrZseckllyxcuDDxlpV5nlf4JAzPt1tvvfWXv/xleN6Gp/dVV101\n",
       "duzYCj/n4cOHhxSETyAMktTU1BCN8GSIPr0lS5aEG4T3E11MHLqvvPJKdPD666//\n",
       "Ks/8zZs3x49Sx44dE6968skn634uCn6c6HHjxn2pL6FqH3MDCQwkgL03kObPnx9/\n",
       "K+Pkk0/evn17fn5+aFrRkR/84AdRR3nvvffatm1b4c/phXvFZwWIe0wo6Ik/uBUd\n",
       "ufnmm8vcNxSmDRs2RPeNf8LnxBNPLHOzUJpzc3N3UZUGDhxYr1698vcKE2JnX/iA\n",
       "AQP27UAK1TO+KvqVj8o8yPGjFNpn/CWHLl67du3y9wrDqfynFLrpDTuE9xAfXL58\n",
       "efweVqxYUVVfftjD8SczadKk+EPcddddZW5W5tkSad26dfzLMF/xQ8SPW5iUZR6r\n",
       "Bg0a5OXlRTf7ss/z+EkYPo2GDRuWv9f5558fr9//7Dhr3GWXXVbmNj/5yU/it8MK\n",
       "SvxsE3+wbeTIkdHBAw444Ks884MWLVpEtwwPRZcuXUK4SkpKKrxl+a+0kl9C1T7m\n",
       "BhIYSABVXM3PPvvs35QTn7Ht97//fXzL/v37d+jQIf6Fmfinra644or4YMeOHfv1\n",
       "6/erX/0qvteECRPK1Kmoe4WLocyVKT2tWrWKv1kRpKenl6lT0W/FnHDCCYnvrXnz\n",
       "5qGZVViVxo8fH9+sZcuWJ510UnzxkEMO+fDDD3f2EG3/3DXXXLOXB1KYhccee2x8\n",
       "UoGonlbmQU58lGJhIJ177rm//OUv4yM//vGPzznnnOHDh+/60wsP6aOPPtqzZ88j\n",
       "jjgiuuOPfvSjKvzyf/azn0Xv9vjjjw8XTz/99OjiUUcdFTfy0tLS+Ds/7dq1e/DB\n",
       "Bzt16hR/U+j//b//99U/RPnH7Rvf+EbixfCc37PnefQk/Ne//hU/z8PfZvgqwtM1\n",
       "vlfil/DnP/85Pn7YYYeFT/7www9P/Ey+1EDa42d+GEVlnkLh07j44osfeeSRMvO4\n",
       "fNwq+SVU7WNuIIGBBFDF1bxCoVLHO+GnP/1p+RsMHjw4vkHcdUJ5jQ8efPDB0cF7\n",
       "7rmnTJ0KXWfmzJnhyOLFi+NTIITJNHXq1HBwzZo18fmFQy0rU6fCfaObBUOHDi3z\n",
       "m/dlqtKWLVuaNWsWHenWrVvUiZcvXx537sqcFzhU2L0wkG644YbU1NTwSV5++eWJ\n",
       "nfKSSy6p/IOcWDrDBnj44YenTZsWCvp/vsxJGmLhLyLxb/wHP/hBZX6qrZKWLVsW\n",
       "v+eBAweGI2GMxUfiv+JFixbFB+OfCRwwYMA3dvj+97//1T9E4uMWHs+xY8cWFRW9\n",
       "8cYbYatHB7/zne/s2fM8ehKGRRSvlPhbXj169Ig/k+j7OWEKxs/VMOei3wD89NNP\n",
       "TzvttD0YSF/lmf/ZZ5/Fw7KMOnXqXHrppfHToMxXWvkvoWofcwMJDCSAvTqQghUr\n",
       "VpT5AaEzzjgj8R/g33333VU7RD/xsm7duj/96U/xjfv06VOmTv32t7+N7xv/+M3J\n",
       "J58cH4x/SidcW6ZOlfm9iNDao+PhLuWr0ty5c+P1NW/evMWfu+iii+LOWrUDKZTR\n",
       "m7/otttu2+O/hfCwxy87U5kHOX6Uwh3ff//9xI/11QdS9M3GMu92z77w4K677or/\n",
       "asKXFo58+OGH8Xdarrrqquhm4cuMP3r9+vXD38WTTz4Zin5lPv9KfojExy3xVZKu\n",
       "v/76uMHv2fM8PAnD2Ih/PjAzMzN+52HAxFsl7L0yj/bTTz8d3zIsij0YSF/xmR/S\n",
       "/fjjj59yyikV/nDmcccdF52koUzcKv8lVO1jbiCBgQRQxQNp7Nixr5RT5vekE39y\n",
       "JvTUqG4mCp37hhtu+OEPf1jmR2UqLI69e/eO79i+ffvo4KWXXhofjH8fqfxAevTR\n",
       "R8v08sSf/ipTlUaNGrXrBVK3bt2qHUjxKeBi3/rWt/ZsIIUVWuYnmnb7IMeP0nXX\n",
       "XVfmY+3BQPrPjl/ZX7Zs2d133x23/IyMjK/+hYf+Hf+iy5FHHjn+c6G1x/04Om9H\n",
       "ECZxhb+AFD6TXbzo7Zf6EPHj1q9fv/g9xEU88bd6vtTzPDwJ8/Ly4hu89dZbiZ9h\n",
       "/My/+uqrw8WXXnopvmXi600lnjWh8gOpSp750dMmLNLwGZb5SbnoO3Jl4lb5L6Fq\n",
       "H3MDCQwkgCoeSLs4SUMsTJrEXhL/ukWkU6dOZbrXCSecEJ/docLiGN/37LPPjg5e\n",
       "eeWV8cHOnTvvbCD9z//8T4Wf2NFHH13+QwwZMmS3L/cUnwdi3w6kYcOGPbHDU089\n",
       "NXPmzE8++aTMjSvzIMeP0gMPPLBnA2nEiBE9dyjzVxz/9s6JJ5741b/w8Ans9u8l\n",
       "VPzoxsXFxeEv/Wc/+1n5F4k666yzdva6TF/qQ1Tyt3r24Hke/ip3duq83/zmN9Hx\n",
       "8Ea4mJubG98y8Z8nNm7cWOYVfuPP9g9/+EP5f8KIPts9fuaHx23ADg8++GDiixSH\n",
       "t8OTKr5vWHfl41b5L6FqH3MDCQwkgL09kELJK3MasW9/+9vxL3m/+eabib9aHYrR\n",
       "9u3bw/H4RYSqdiDF7y1yySWXxF25/Id44YUX4h80ev/99z+uyG5f+fRLDaRnnnlm\n",
       "3BftYo1U/m+hkg9yhaXzSw2k+Ht3F154YeLx+BwPTZs2/epfePi73m19D4uozL02\n",
       "bdr0/PPP33LLLYcddlh8s0WLFn31D1GZsr5nz/P169fH93rxxRcTP8Pvf//70fE7\n",
       "7rjjP1/8YcLEVwceM2ZMmW+/xD+bl5KSEt/s3nvvTfxs9/iZn7is5s6dW+baNm3a\n",
       "xC+RVD5ulf8SqvYxN5DAQAKo4oE0Y8aMJRUJ3S7csrCw8Oijj45PSxX/CsdFF10U\n",
       "vavHH388flfxjzyF+RT/e3/VDqQWLVrE311555134lPeRaelLvMhVq9eHf8SRWhp\n",
       "8fsP9f3UHa699trdPlZ75yQNux5IlXyQKzmQwnvb2QcKd4x/HX/27NnxPIsfxsTf\n",
       "H9sz4a8vPjPHCSeckP5Fia9Gunz58hEjRjTc4cc//nHiYi//HYk9/hCVLOt7/Dxv\n",
       "0qRJvDnjTTJt2rT4vUUvLRWuil+htVGjRpMmTdqyZUu4WXxW/XhdxO8//m7e1q1b\n",
       "jzvuuMTPdo+f+Tk5OYmn5048C/lrr70Wf+sm+sWh8idpqOSXULWPuYEEBhJAFVfz\n",
       "nenevft/vnjO3xdffPGOO+6IL0Y/7fb888/HRx588MEwq0KxDlsiPhj/xlGVDKTo\n",
       "X6/DBxowYMBRRx0Vt/noBSjLf4jrrrsuPv3dBRdc8Kc//Sl87XF7LvMbTfvtQKrk\n",
       "g7yLgRSabnzjI488cmcvVPruu+/Gv+kRxudll13Wvn37xLOxP/nkk1/xq87MzCyz\n",
       "DRJlZWXF1957772JZ7Hr2bNnmMQrV66M/0ZCUQ4D/it+iEqW9T1+nj/88MOJL3w0\n",
       "fPjwu+++Oz7rSdu2baMz1AchULuOZLQufv3rXyeeLyEkND4Pe+IPp+3ZMz9MmvjE\n",
       "J9EJwcMkvvnmm3/1q1/F62gX59eu5JdQtY+5gQQGEsDeG0j//Oc/44vXX3991J/i\n",
       "120MTTq01Y8++ij+mZ8KhY9VhQOpwtcMvfXWW3f2IcKnF/9cUPmzIGzdurVaDKRK\n",
       "Psi7GEj/Sfj5qF28UGxiSS3vhhtu+Opf9SmnnBKX7/LzZvPmzfFJnFu1alVaWlr+\n",
       "hUdjqampVfIhKlPW9/h5XlJSkvjSPWXOUjhr1qz4I4bP5J577ilz4riUlJR4oEbr\n",
       "Yty4ceXfVXwShXgg7fEzP6zQ+LteFYrPT1g+bpX8Eio5kCr5mBtIYCABVIHyrwVZ\n",
       "XijQ8StahjfiH2x79dVX45USml848vLLL3/3u99N/EXqO+64I+610Wt0/ifhlNyJ\n",
       "r8Fy3nnn7WIgnXbaaWXqVP/+/S+//PK4b4Ve+OCDD8Z3rPBDfPrpp6Gixa8uGk27\n",
       "8NXt4hxoieJTD1f5QEr8W9jFC3dGKvMg73ogzZ0798QTT9ztQPrPjp+zSrxldNa4\n",
       "0aNHJ57bfc8sX748fp9lztgei18bNAj7obi4OHTuI488MvHzCRfT09Mr/C2aPfgQ\n",
       "FT5u8c93xZNjj5/n4XEL7znx+zzhvhdccMGqVavKf27z5s0bMmTINddcc9ddd73w\n",
       "wgsffPBBvDfmzJkTjZCBAwfG388JYTz//PMnTZpU/vxve/zMD3M9LS2tUaNGZf4/\n",
       "4YQTTnj22Wfjh73CuFXmS9jZc3XPHvOdfRqAgQSwL23fvn3x4sVTp05dtGhRZb4t\n",
       "82WVqVOh+YUSv3Tp0t2eYiEWSurbb78dPsOFCxd+9tlnNfZBDl97qL/r168Pw2PX\n",
       "tywoKAhNd8aMGTt77aO9KXy2y5Yti85BH/7eo1/Wr3Z/BeGRf+mll8IzMPEEcbGw\n",
       "A6/fYfjw4fHBJ554osJvMxYWFs6ePTvsh40bN35Nz/zwBYaHevLkyc8888y//vWv\n",
       "3Z7v8ct+CfvJ/7cABhJAtbTr741AErj66qvjbwqFgRH2zODBg+NXc4rO0+hLAAwk\n",
       "AAwkaoS8vLzEk5EkOuKII/71r3/5EgADCYD/881vfvPAHYYNG+bRIFktWLDg3HPP\n",
       "TTwTyeGHH37xxRevXbvWlwAYSABATfTRRx/NmTPnpZde2h9++6vGfgmAgQQAAGAg\n",
       "AQAAGEgAAAAGEgAAgIEEAABgIAEAABhIAAAABhJf2caNGxcuXDhr1qwlS5Zs2bJl\n",
       "t7fPz89fW05BQYFHEgAADKRqrKSkJDs7u0uXLp0+17Nnz7CUdn2v9PT0TuWE9+Px\n",
       "BAAAA6kae/nll8O2SU1Nfe6556ZOnTp06NBwMeylFStW7OwuRUVF4QZpaWlZX7Rw\n",
       "4UKPJwAAGEjVWO/evcMiWrJkSXxk4MCB4cj48eN3dpd333033GD06NEePQAAMJCS\n",
       "x8aNG8PUuffeexMPTps2LRzMzMzc2b1yc3PDDcLNPIAAAGAgJY+CgoKcnJw33ngj\n",
       "8WCYRmH/vPTSSzu717hx48IN5s+fH+47fvz4sJRWrlzpwQQAAAMpeSxfvnzWrFnD\n",
       "hg0L4ycjI6OwsHBnt3zooYfCbbp27Zp4hoZRo0YVFxd7GAEAwEBKBg8++GC8dubP\n",
       "n7+LW95+++3hNoMGDZozZ87SpUuzs7OjsbTrs9h1AgAgGSnSBlJyWrFiRV5eXhg5\n",
       "3bt3D0/0cePGVXizkpKSKVOmTJ06NfH7RfPmzYu+pxSu3cVA8iDDVydKIEogTQYS\n",
       "e3spde7cOTU19Uv9yFxaWlqIx7p164QH/HcIRAmkCQOpWnr99defeOKJ8j9Q17dv\n",
       "3/BcX7p0afm7lJaWbtmypfx2ysjICHdZvHix8ID/DoEogTRhIFVLs2fPjk7JUOZ4\n",
       "nz59wvHVq1eXv0teXl64asSIEYkHi4qKUlNTw/H8/HzhAf8dAlECacJAqpbee++9\n",
       "6Ffr3n777fjg1KlTw5EweLZv3x4uhpk0ZYfo2jCBwrUpKSnLli2LjpSWlo4dOzYc\n",
       "7Nu3r/CA/w6BKIE0YSBVY0899VR0foXHHnssKytr4MCB0WTKzc2NbjB58uQy5ycZ\n",
       "M2ZMuNilS5fMzMxwl/79+0fvYfny5cID/jsEogTShIFUjRUXF0+aNCk6c10kPT09\n",
       "Ly8vvkE0kMIcio9s37493OXWW2+Nbh+uGjRo0Jo1a4QH/HcIRAmkCQMJ4YG95513\n",
       "3vEggCiBjmcgITyAVgeiBDqegYTwAFodiBLoeAYSwgNodSBKoOMZSAgPoNWBKIGO\n",
       "ZyAhPIBWB6IEOp6BhPAAWh2IEuh4BhLCA2h1IEqg4xlICA+g1YEogY5nICE8gFYH\n",
       "ogQ6HgaS8AgPaHUgSqDjYSAhPKDVgSiBjoeBhPCAVgeiBDoeBhLCA1odiBLoeBhI\n",
       "CA9odSBKoONhICE8oNWBKIGOh4GE8IBWB6IEOh4GEsIDWh2IEuh4Op6BhPCAVgei\n",
       "BOh4BhLCA1odiBKg4xlICA9odSBKgI5nICE8oNWBKAE6noGE8IBWB6IE6HgGEsID\n",
       "Wh2IEqDjGUgID2h1IEqAjmcgITyg1YEoATqegYTwgFYHogToeAYSwgNaHYiSBwF0\n",
       "PAMJ4QGtDhAl0PEMJIQHtDpAlEDHM5AQHtDqAFECHc9AQnhAqwNECXQ8AwnhAa0O\n",
       "ECXQ8QwkhAe0OkCUQMczkBAe0OoAUQIdz0BCeECrA0QJdDwDCeEBrQ4QJdDxDCSE\n",
       "B7Q6rQ5ECXQ8AwnhoXo648/zrxuzuLr80erAQAJ0PAMJ4eHrHUjV5VM1kMBAAnQ8\n",
       "AwnhwUD6P60fmN33nyv3/z9aHRhIoOMZSAgPBhL/p0XfGR4EMJBAxzOQEB4MJAwk\n",
       "MJBAxzOQEB4MJAwkMJBAxzOQEB4MJAwkMJBAxzOQEB4MJHaq3dDc8Kju/39aPzDb\n",
       "XxYGEuh4GEgIDwaSVve/DCRECXQ8DCR2pVmzZmeccUYFBXoHx5P1eOvez3ocqvZ4\n",
       "u3btqsvnX/6leM8YMCn82a+OhyHnT838U12+GeuPP/v/HwPJQMK/LvAl+A6Sf/YG\n",
       "UQIdDwMJ4cFA0upAlEDHw0BCeDCQtDoQJdDxMJAQHgwkrQ5ECXQ8DCSEBwNJqwNR\n",
       "Ah0PAwnhwUDS6kCUQMfT8QwkhAcDSasDUQJ0PAMJ4cFA0upAlAAdz0BCeDCQtDoQ\n",
       "JUDHM5AQHgwkrQ5ECdDxDCSEBwNJqwNRAnQ8AwnhwUDS6kCUAB3PQEJ4MJC0OhAl\n",
       "QMczkBCeaum6MYuryx9/WVodiBLoeBhICM/XHKfbpnsQtDpAlEDHM5AQHgwkrQ4Q\n",
       "JdDxDCSEBwMJrQ5ECXQ8AwnhwUBCqwNRAh3PQEJ4MJDQ6kCUQMczkBAeDCS0OhAl\n",
       "0PEMJIQHAwmtDkQJdDwDCeHBQEKrA1ECHc9AQngwkNDqQJRAxzOQEB4MJLQ6ECXQ\n",
       "8QwkhAcDCa0ORAl0PAwk4cFAQqsDUQIdDwMJ4TGQ0OpAlEDHw0BCeAwktDoQJdDx\n",
       "MJAQHgMJrQ5ECXQ8DKQaYuPGjQsXLpw1a9aSJUu2bNkiPAYSWh2IEhhIGEg1UUlJ\n",
       "SXZ2dpcuXTp9rmfPnmEpCY+BhFYHogQGEgZSjfPyyy+HGKSmpj733HNTp04dOnRo\n",
       "uBj20ooVK4THQEKrA1ECAwkDqWbp3bt3iMGSJUviIwMHDgxHxo8fLzwGElodiBIY\n",
       "SBhINcjGjRtDBu69997Eg9OmTQsHMzMzhcdAQqsDUQIDCQOpBikoKMjJyXnjjTcS\n",
       "D4ZpFILx0ksvCY+BhFYHogQGEgZSDbV8+fJZs2YNGzYspCIjI6OwsFB4DCS0OhAl\n",
       "MJAwkGqoBx98MD6R3fz58ysTngq9wx4JA8mDUDPNnDnTgwCiBHtfp51TjA0k/teK\n",
       "FSvy8vKys7O7d+8egjFu3Dj/urBX4+Q7SP7ZGxAl2A/oeAYSFSylzp07p6amFhcX\n",
       "C4+BhFYHogQGEgZSTfH6668/8cQT5X+grm/fviEbS5cuFR4DCa0ORAkMJAykmmL2\n",
       "7NnRKRnKHO/Tp084vnr1auExkNDqQJTAQMJAqinee++96Ffx3n777fjg1KlTw5HU\n",
       "1NTt27cLj4GEVgeiBAYSBlIN8tRTT4UYdO3a9bHHHsvKyho4cGA0mXJzc4XHQEKr\n",
       "A1ECAwkDqWYpLi6eNGlSdOa6SHp6el5envAYSGh1IEpgIGEgITwGElodiBLoeBhI\n",
       "CI+BhFYHogQ6no5nICE8BhJaHYgSoOMZSAiPgYRWB6IE6HgGEsJjIKHVgSgBOp6B\n",
       "hPAYSGh1IEqAjmcgITwGElodiBKg4xlICI+BhFYHogToeAYSwmMgodWBKAE6noGE\n",
       "8BhIaHUgSoCOZyAhPAYSWh2IEqDjGUgIj4GEVgei5EEAHc9AQngMJLQ6QJRAxzOQ\n",
       "EB4DCa0OECXQ8QwkhMdAQqsDRAl0PAMJ4TGQ0OoAUQIdz0BCeAwktDpAlEDHM5AQ\n",
       "HgMJrQ4QJdDxDCSEx0BCqwNECXQ8AwnhMZDQ6gBRAh3PQEJ4MJC0OkCUQMczkBAe\n",
       "DCStTqsDUQIdz0BCeDCQ0OpAlEDHM5AQHgwktDoQJdDxDCSEBwMJrQ5ECXQ8Awnh\n",
       "wUBCqwNRAh3PQEJ4MJDQ6kCUQMczkBAeDCS0OhAl0PEMJIQHAwmtDkQJdDwDCeHB\n",
       "QEKrA1ECHc9AQngwkNDqQJRAx8NAEh7hMZDQ6kCUQMfDQEJ4DCS0OhAl0PEwkBAe\n",
       "AwmtDkQJdDwMJITHQEKrA1ECHQ8DCeExkNDqQJRAx8NAQngMJLQ6ECXQ8TCQEB4D\n",
       "Ca0ORAl0PAwkhMdAQqsDUQJ0PAMJ4TGQ0OpAlAAdz0BCeAwktDoQJUDHM5AQHgMJ\n",
       "rQ5ECdDxDCSEx0BCqwNRAnQ8AwnhMZDQ6kCUAB3PQEJ4DCS0OhAlQMczkBAeAwmt\n",
       "DkQJ0PEMJITHQEKrA1ECdDwDCeExkNDqQJQAHc9AQngMJLQ6ECVRAh3PQEJ4DCS0\n",
       "OkCUQMczkBAeAwmtDhAl0PEMJITHQEKrA0QJdDwDCeExkNDqAFECHc9AQngMJLQ6\n",
       "QJRAxzOQEB4DCa0OECXQ8QwkhMdAQqsDRAl0PAMJ4TGQ0OoAUQIdz0BCeDCQtDpA\n",
       "lEDHM5AQHgwkrU6rA1ECHc9AQngwkNDqQJRAxzOQEB4MJLQ6ECXQ8QwkhAcDCa0O\n",
       "RAl0PAMJ4cFAQqsDUQIdz0BCeDCQ0OpAlEDHM5AQHgwktDoQJdDxDCSEBwMJrQ5E\n",
       "CXQ8AwnhwUBCqwNRAh3PQEJ4MJDQ6kCUQMfDQEJ4DCS0OhAl0PEwkBAeAwmtDkQJ\n",
       "dDwMJITHQEKrA1ECHQ8DCeExkNDqQJRAx8NAQngMJLQ6ECXQ8TCQEB4DCa0ORAl0\n",
       "PAwkhMdAQqsDUQIdDwMJ4TGQ0OpAlAAdz0BCeAwktDoQJUDHM5CS2+bNm//973/P\n",
       "mjVryZIl4e3d3j4/P39tOQUFBcJjIKHVgSiBgYSBVI2VlpZOnTq1a9eunT7XvXv3\n",
       "adOm7fpe6enpncrJzs4WHgMJrQ5ECQwkDKRqbMaMGeFpnZKSkpWVlZOTM2rUqM6d\n",
       "O4cjr7322s7uUlRU1KVLl7S0tKwvWrhwofAYSGh1IEpgIGEgVVclJSW9evUKT+u5\n",
       "c+fGBydMmBCODB48eGf3evfdd8MNRo8eLTwGElodiBIYSB4EAyl5fPDBB+E5feed\n",
       "d5aWlsYH8/Pzw8HU1NSd3Ss3NzfcYLc/hic8BhJaHYgSGEgYSNXJ6tWr77vvvjLf\n",
       "CwoHwxM9LS1tZ/caN25cuMH8+fNzcnLGjx8fltLKlSuFx0BCqwNRAgMJAykJPf74\n",
       "4+GJnpmZubMbPPTQQ+EGied1CEaNGlVcXCw8BhJaHYgSGEgYSEmitLR0/Pjx0fhZ\n",
       "t27dzm52++23h9sMGjRozpw5S5cuzc7OjsbSbs9iV6F39jPthuZWiz9hIL1DjTRz\n",
       "5kwPAogS7H2ddk6LNpCSU1hEAwcODE/xW2655a233trZzUpKSqZMmTJ16tTE7xfN\n",
       "mzcvmlXh2ur+rwtn/Hm+JwP+2RtECfAdJAOp5gqrZtKkSdF3gcJGWr9+/R68k7S0\n",
       "tHD3XXzfyUACrQ5ECQwkDKT9XXFx8fDhw8Mzu0ePHjk5OYmns6tQuMGWLVvK/7pR\n",
       "RkZGeCeLFy82kECrA1ECAwkDqbqKfumob9++GzZsqMzt8/Lywu1HjBiReLCoqCg1\n",
       "NTUcz8/PN5BAqwNRAgMJA6laCqOoa9euYdts2rRpZ7dZvXr1lB2ii9GrJKWkpCxb\n",
       "tiw6UlpaOnbs2GhlJUF4DCS0OhAlwEAykGqoV199NXpN2IfKeeKJJ6LbTJ48ucz5\n",
       "ScaMGRMudunSJTMzMysrq3///tEZGpYvX24ggVYHogQGEgZSdRXmzc5O13jPPfck\n",
       "DqQwh+J7bd++fdKkSbfeemt0y3DVoEGD1qxZkxzhMZDQ6kCUAAPJQEJ4DCS0OhAl\n",
       "wEAykBAeAwmtDkQJMJAMJITHQEKrA1ECDCQDCeExkNDqQJRECQwkAwnhMZDQ6gBR\n",
       "AgPJQEJ4DCS0OkCUwEAykBAeAwmtDhAl0PEMJITHQEKrA0QJdDwDCeExkNDqAFEC\n",
       "Hc9AQngMJLQ6QJRAxzOQEB4DCa0OECXQ8QwkhMdAQqsDRAl0PAMJ4TGQ0OoAUQId\n",
       "z0BCeAwktDqtDkQJdDwDCeExkECrA1ECHc9AQngMJNDqQJRAxzOQEB4DCbQ6ECXQ\n",
       "8QwkhMdAAq0ORAl0PAMJ4TGQQKsDUQIdz0BCeAwk0OpAlEDHM5AQHgMJtDoQJdDx\n",
       "DCSEx0ACrQ5ECXQ8AwnhMZBAqwNRAh0PAwkDCbQ6ECXQ8TCQMJBAqwNRAh0PAwkD\n",
       "CbQ6ECXQ8TCQMJBAqwNRAh0PAwkDCbQ6ECXQ8TCQMJBAqwNRAh0PAwkDCbQ6ECXQ\n",
       "8TCQMJBAqwNRAgwkAwkDCbQ6ECXAQDKQMJBAqwNRAgwkAwkDCbQ6ECXAQDKQMJBA\n",
       "qwNRAgwkAwkDCbQ6ECXAQDKQEB4DCa0ORAkwkAwkhMdAQqsDUQIMJAMJ4TGQ0OpA\n",
       "lAADyUBCeAwktDoQJcBAMpAQHgMJrQ5ESZTAQDKQEB4DCa0OECUwkAwkhMdAQqsD\n",
       "RAkMJAMJ4TGQ0OoAUQIdz0BCeAwktDpAlEDHM5BqqNLS0gULFgwePPiiiy5q165d\n",
       "mzZtmjZtevzxx5955pk9evR47rnnPv74Y+ExkNDqAFECA8lASnIbN24cOnRo69at\n",
       "a+1S3bp1r7zyytmzZwuPgYRWB4gSGEgGUhLatm3boEGDGjVqFE2gxo0bn3jiiZdc\n",
       "csltt9328MMPP/7443379r3uuut+8YtftGzZsk6dOtHNzjnnnFWrVgmPgYRWB6Lk\n",
       "QQADyUBKHmvWrDnmmGPC4GnatGmvXr0WLFiw69t/+OGHYTWdcsop4S6HHHLIiy++\n",
       "KDwGElodiBJgIBlISWLevHlNmjT54x//uHXr1i91x3/+858nnHDC4MGDhcdAQqsD\n",
       "UQIMJAMpSWzevLmwsDC+OG3atD59+sydO7fCG2dmZoZrN2zYEF0sLS399NNPhcdA\n",
       "QqsDUQIMJAMpOaWnp9eqVWv48OEVXhv9ZN0+/y+BgQRaHYgSGEgYSF+jmTNnTt/h\n",
       "2muvDROoZ8+e08vJzs4+9NBDw7Xr1q0THgMJrQ4QJTCQDKSk1aRJk1qVEzZScXGx\n",
       "8BhIaHWAKIGBZCAlrZNPPvk7OzRu3DisoCOOOOI75Xz3u9/9+c9/Pm7cOOExkNDq\n",
       "AFECA8lASk4lJSVbtmyJL+76d5DKKC0t3bx5s/AYSGh1IEqAgWQgJYnXXnutefPm\n",
       "f/nLX7Zv3x4ujhgx4qSTTnrmmWd2e8epU6f++Mc/dppvAwmtDkTJgwAGkoGUPFat\n",
       "WtW0adNatWode+yxv//978PFXd/+448/zszMPPXUU8NdDj744IkTJwqPgYRWB6IE\n",
       "GEgGUvL45JNPbr755tq1a4fNE/63TZs2Z5555o033piRkfHXv/51zJgxAwYM6Ny5\n",
       "89lnn33MMccceOCB0dkarrzyytWrVwuPgYRWB6LkQQADyUBKQosWLUpJSTnkkEN2\n",
       "fRa7gw466KabbnrrrbeEx0BCqwNECQwkAynJFRQU/OMf/+jVq9fpp5/+ve99r3Hj\n",
       "xoceeugxxxzzs5/9rFu3btnZ2Zs2bRIeAwmtDhAlMJAMpBqhpKREeAwktDpAlEDH\n",
       "M5D4XxkZGSeffHJmZubGjRuFx0BCqwNECXQ8A6lGi14HKWjQoMFVV1310ksvlZaW\n",
       "Co+BhFYHiBLoeAZSTbRq1aq+ffu2bds2PitDmzZt+vXrt69OWGcggVYHogQGEgbS\n",
       "vvf666/feeedYR1FM6lOnTq//vWvs7Kytm7dKjwGElodIEpgIBlINdTcuXN79uzZ\n",
       "vHnzaCl985vf7N69+xtvvCE8BhJaHSBKYCAZSDXRhg0bMjMzGzVqlPiCSGeddda+\n",
       "mkkGEmh1IEpgIGEg7W1btmx5+umnL7roonr16kWjqEmTJr169ercufM3vvGN6EQO\n",
       "b775pvAYSGh1IEqAgWQgJa2SkpLp06ffcMMNhx56aLSLateufdZZZ2VlZW3bti26\n",
       "zcaNG88+++xwVbdu3YTHQEKrA1ECDCQDKTk9++yz8a8bBd/+9rfvuOOO5cuXl79l\n",
       "dnZ2uMGll14qPAYSWh2IEmAgGUjJKXodpNq1a7dv3/7pp58uKira2S1ffPHFs88+\n",
       "+9FHHxUeAwmtDkQJMJAMpOQ0YsSIPn36rFixQngMJLQ6QJRAxzOQEB4DCa0OECXQ\n",
       "8QwkhMdAQqsDRAl0PAMJ4TGQ0OoAUQIdz0BCeAwktDpAlEDHM5DYn2zevPnf//73\n",
       "rFmzlixZEt42kECrA1ECAwkDqSYqLS2dOnVq165dO32ue/fu06ZNM5BAqwNRAgMJ\n",
       "A2n/UlRUNHHixCFDhqSlpYWLeXl5BQUFVfshZsyYEWKQkpKSlZWVk5MzatSozp07\n",
       "hyOvvfaagQRaHYgSGEgYSPuLAQMGNGnSpNbnwpGzzjqrQYMG/fr1q6oPUVJS0qtX\n",
       "rxCDuXPnxgcnTJgQjgwePNhAAq0ORAkMJAyk/cJtt90W7aJmzZrFA+mSSy6J3s7I\n",
       "yKiSj/LBBx+EDNx5552lpaXxwfz8/HAwNTXVQAKtDkQJDCQMpH0vJycnrKADDjhg\n",
       "5MiR4eKRRx4ZDaRt27Y98MAD4e1GjRpt2rTpq3+g1atX33fffaNHjy5zMAQj+qE+\n",
       "Awm0OhAlMJAwkPaxfv36hRXUu3fv6GI8kCLHHntsuDhr1qyv6aM//vjjIRiZmZkG\n",
       "Emh1IEpgIGEg7XvnnHNOmEA5OTkVDqQbb7wxXBwzZkyVf9zS0tLx48eHVHTt2nXd\n",
       "unW7DU+F3tnPtBua+w7sx2bOnOlBAFGCva/TzmnjBtJ+55prrgkT6IUXXqhwIEXz\n",
       "qcq/gxQW0cCBA0Mkbrnllrfeeitp/nXBd5Dwz94gSoDvIBlI1duwYcPCBApDqPxA\n",
       "WrBgQf369WvXrl2F5/suKSmZNGlS9FJIYSOtX78+mcJjIKHVgSgBBpKBVL3l5+c3\n",
       "b948jKLzzz8/Nzf38MMPD2+vWbNm1KhRTZs2DW937Nixqj5WcXHx8OHDQxJ69OiR\n",
       "k5OTeDo7Awm0OhAlMJAwkPYLr7zySsOGDWtVpG3btlX47aPol4769u27YcOGpAyP\n",
       "gYRWB6IEGEgGUjJYu3bt1Vdf3bhx43gatWrVaujQoVu3bq2qDxFGUdeuXVNTU/fg\n",
       "pOEGEmh1IEpgIGEg7QPr1q3Ly8vLz8+v8vf86quvRq8J+1A5TzzxhIEEWh2IEhhI\n",
       "GEj7kU8//TT6paDwv1lZWT179nz44YdXrFhRVe8/vM+dnd7xnnvuMZBAqwNRAgMJ\n",
       "A2m/sGDBglNPPbVOnTrRrxvdfPPN8Q/aNWzYMDc3V3gMJLQ6QJTAQDKQaoS1a9c2\n",
       "atQomkNhIL3++uvR282bN2/Tpk1447jjjhMeAwmtDhAlMJAMpBqhf//+YQWFLTRn\n",
       "zpxw8Z577gkXf/jDH27btq2wsLBly5bh4qJFi4THQEKrA0QJDCQDKflddtllYQL9\n",
       "/e9/jy6edtpp4eLIkSPjZ224OHHiROExkNDqAFECA8lASn5nnHFGmEBvvvlmePuz\n",
       "zz6rX79+uLhq1aro2p49e4aLf/vb34THQEKrA0QJDCQDKfldfPHFYQK9+OKL4e3n\n",
       "nnsuvN2yZcv42vbt24cj06dPFx4DCa0OECUwkAyk5Hf//feHCXTqqaeOGzfu2GOP\n",
       "DW+npKREVz3//PN16tQ58MAD169fLzwGElodIEpgIBlIye+999475JBD4vN616tX\n",
       "L/pxu2uvvTY60qFDB+ExkNDqAFECA8lAqilmzJhx/PHH165d+7jjjvvrX/8aHTz3\n",
       "3HPDOrrwwgsLCwuFx0BCqwNECQwkA6lm2bx5c+LFOXPmrFmzRngMJLQ6QJTAQDKQ\n",
       "EB4DCa0OECXQ8QykGqy0tPTjjz/+qCIlJSXCYyCh1QGiBAaSgVQjTJkypV27dvXq\n",
       "1au1E/v8vwQGEmh1IEpgIGEg7Q2LFy9u0KBBrV0ykAwktDpAlMBAMpBqhF69eoUJ\n",
       "dNRRR40aNeqjjz4qrEhpaanwGEhodYAogYFkICW/8847LwykIUOGCI+BhFYHiBLo\n",
       "eAZSTXfppZeGgTRz5kzhMZDQ6gBRAh3PQKrphg0bFgbSH//4R+ExkNDqAFECHc9A\n",
       "qunWrFnTsmXLww47bP78+cJjIKHVAaIEOp6BVKPNnTv39ttvr1WrVp06ddq3b9+9\n",
       "e/c7ytmwYYPwGEhodYAogYFkICW/9PT0WrvjNN8GElodIEpgIBlINcLEiRO77E5+\n",
       "fr7wGEhodYAogYFkINU427dv/+STT4THQEKrA0QJdDwDqebauHFjWlra97///Xr1\n",
       "6tWqVatx48Y//elPs7KyhMdAQqsDRAkMJAOpZsnLyzviiCMq/O2j9u3bFxcXC4+B\n",
       "hFYHiBIYSAZSjfDpp58ec8wxYQs1bNjwnnvumTRp0rx587Kysi6++OJoI/Xp00d4\n",
       "DCS0OkCUwEAykGqEkSNHhhV0xBFHrFq1qsxVmZmZ4aq6detu27ZNeAwktDpAlMBA\n",
       "MpCSX9euXcMKevTRRyu89ic/+Um4dp+/hqyBBFodiBIYSBhIe8OZZ54ZJlBubm6F\n",
       "13bu3DlcO3bsWOExkNDqAFECA8lASn433XRTmECjR4+u8Npf/vKX4do5c+YIj4GE\n",
       "VgeIEhhIBlLye/TRR8MEat26dfmXP8rOzg5XHXDAAZ999pnwGEhodYAogYFkICW/\n",
       "Dz/8sGnTpmEItWjR4rHHHnvrrbfef//9V199tUePHnXr1g3Hb775ZuExkNDqAFEC\n",
       "A8lAqimmTZtWv379Cl8H6b//+783b94sPAYSWh0gSmAgGUg1yMqVK6+88sqGDRvG\n",
       "06hFixYPPvjgPj/Bt4EEWh2IEhhIGEj7zNq1axctWlRQUCA8BhJaHSBKoOMZSDVX\n",
       "YWHh9OnThw8fnpGR8eSTT86ZM6e0tFR4DCS0OkCUwEAykGqWkpKSP/zhD02aNCnz\n",
       "C0gnnnji1KlThcdAQqsDRAkMJAOpBklLS4sWUd26ddu2bduuXbvmzZvHR3b2GrLC\n",
       "YyCh1YEoAQaSgZRsZsyYEW2hm266ad26dfHxV1999aSTTgrHW7VqJTwGElodIEpg\n",
       "IBlINcJ9990XVtDvfve78lfl5+dHP3e3cuVK4TGQ0OoAUQIDyUBKfuedd16YQM8/\n",
       "/3yF115++eXh2meeeUZ4DCS0OkCUwEAykJJfNIGmTZtW4bUdOnQI1z733HPCYyCh\n",
       "1QGiBAaSgZT8Bg4cGCZQr169yl9VWFjYrFmzcO17770nPAYSWh0gSmAgGUjJb/Xq\n",
       "1S1atKhdu/bw4cO3b98eH//ggw+in77r0KGD8BhIaHWAKIGBZCDVCBMmTDj99NOj\n",
       "E9m1bt26Y8eOKSkpF1xwwUEHHRQdvPrqqzslmDx5svAYSGh1IEqAgWQgJaf09PRa\n",
       "X8agQYOEx0BCqwNRAgwkAyk5TZs2rc+XMWPGDOExkNDqQJQAA8lAQngMJLQ6QJTA\n",
       "QDKQaoZPP/20tLQ0vBH+Nysrq2fPng8//PCKFSuEx0BCqwNECQwkA6kGWbBgwamn\n",
       "nlqnTp2CgoJw8eabb45/46hhw4a5ubnCYyCh1QGiBAaSgVQjrF27tlGjRtEcCgPp\n",
       "9ddfj95u3rx5mzZtwhvHHXec8BhIaHWAKIGBZCDVCP379w8rKGyhOXPmhIv33HNP\n",
       "uPjDH/5w27ZthYWFLVu2DBcXLVokPAYSWh0gSmAgGUjJ77LLLgsT6O9//3t08bTT\n",
       "TgsXR44cGT9rw8WJEycKj4GEVgeIEhhIBlLyO+OMM8IEevPNN8Pbn332Wf369cPF\n",
       "VatWRdf27NkzXPzb3/4mPAYSWh0gSmAgGUjJ7+KLLw4T6MUXXwxvP/fcc+Htli1b\n",
       "xte2b98+HJk+fbrwGEhodYAogYFkICW/+++/P0ygU089ddy4cccee2x4OyUlJbrq\n",
       "+eefr1OnzoEHHrh+/XrhMZDQ6gBRAgPJQEp+77333iGHHBKf17tevXrRj9tde+21\n",
       "0ZEOHToIj4GEVgeIEhhIBlJNMWPGjOOPP7527drHHXfcX//61+jgueeeG9bRhRde\n",
       "WFhYKDwGElodIEpgIBlINcvmzZsTL86ZM2fNmjXCYyCh1QGiBAaSgVQTFRUVTZw4\n",
       "cciQIWlpaeFiXl5eQUGB8BhIaHWAKIGBZCDVOAMGDGjSpEn8m0jhyFlnndWgQYN+\n",
       "/foJj4GEVgeIEhhIBlINctttt0W7qFmzZvFAuuSSS6K3MzIyhMdAQqsDRAkMJAOp\n",
       "RsjJyQkr6IADDhg5cmS4eOSRR0YDadu2bQ888EB4u1GjRps2bRIeAwmtDhAlMJAM\n",
       "pOTXr1+/sIJ69+4dXYwHUiR6ZaRZs2YJj4GEVgeIEhhIBlLyO+ecc8IEysnJqXAg\n",
       "3XjjjeHimDFjhMdAQqsDRAkMJAMp+V1zzTVhAr3wwgsVDqRoPvkOkoGEVgeIEhhI\n",
       "BlKNMGzYsDCBwhAqP5AWLFhQv3792rVr7/PzfRtIoNWBKIGBhIG0N+Tn5zdv3jyM\n",
       "ovPPPz83N/fwww8Pb69Zs2bUqFFNmzYNb3fs2FF4DCS0OkCUwEAykGqKV155pWHD\n",
       "hrUq0rZt2/3h5WINJNDqQJTAQMJA2nvWrl179dVXN27cOJ5GrVq1Gjp06NatW4XH\n",
       "QEKrA0QJDCQDqaYYNmxYt27dJk6cGF1ct25dXl5efn6+8BhIaHWAKIGOZyDVOD16\n",
       "9KhVq9ZVV10lPAYSWh0gSqDjGUg13bPPPhsGUsuWLQsLC4XHQEKrA0QJdDwDqUbb\n",
       "vHnz+eefHzZShw4dNm3aJDwGElodIEqg4xlINdebb7755JNPHn300WEjHXbYYR07\n",
       "drzjjjsGftHGjRuFx0BCqwNECQwkAyn5paen19qdff5fAgMJtDoQJTCQMJD2hqef\n",
       "fvqK3fnwww+Fx0BCqwNECQwkAwnhMZDQ6gBRAgPJQOJLWr9+/SuvvFKZU+Hl5+ev\n",
       "LaegoMBAAq0ORAkMJAykJPHYY4+Fp/jbb7+921ump6d3Kic7O9tAAq0ORAkMJAyk\n",
       "am/Lli0TJkyIds5uB1JRUVGXLl3S0tKyvmjhwoUGEmh1IEpgIGEgVWNh1dx///3d\n",
       "unWLvxG024H07rvvhpuNHj06KcNjIKHVgSgBBpKBVKMH0n2fS0lJqcxAys3NDTeb\n",
       "Nm2agQRaHYgSGEgeBAMpaT3yyCOVGUjjxo0LN5s/f35OTs748ePDUlq5cqWBBFod\n",
       "iBIYSBhINXEgPfTQQ+FmXbt2TTxDw6hRo4qLi3cdngq9s59pNzT3HdiPzZw504MA\n",
       "ogR7X6ed06INpP1XYWHh9OnThw8fnpGR8eSTT86ZM6e0tLTKB9Ltt98ebjZo0KDw\n",
       "/pcuXZqdnR2NJWexA//sDaIEvoOEgbRfKCkp+cMf/tCkSZNaX3TiiSdOnTq1CgdS\n",
       "+EBTpkwJ7zPx+0Xz5s2LvqcUrjWQQKsDUQIDCQNpH0tLS4sWUd26ddu2bduuXbvm\n",
       "zZvHR3Jzc6tqIO3iEwj3XbdunYEEWh2IEhhIGEj70owZM6ItdNNNNyVOlFdfffWk\n",
       "k04Kx1u1alVVA6m0tHTLli3lf90oIyMj3Hfx4sUGEmh1IEpgIGEg7Uv33XdfWEG/\n",
       "+93vyl+Vn58f/dxdZU40V5mBlJeXF24zYsSIxINFRUWpqanhePhwBhJodSBKYCBh\n",
       "IO1L5513XphAzz//fIXXXn755eHaZ555Zs8G0urVq6fsEC+ucJuUlJRly5ZFR0pL\n",
       "S8eOHRsO9u3bNwnCYyCh1YEoAQaSgVS9RRNoZ6/c2qFDh3Dtc889t2cDafLkyWVO\n",
       "4DhmzJhwsUuXLpmZmVlZWf3794/O0LB8+XIDCbQ6ECUwkDCQ9rGBAweGCdSrV6/y\n",
       "VxUWFjZr1ixc+9577+32/YTBs7OBFOZQfGT79u2TJk269dZbo+EUrho0aNCaNWuS\n",
       "IzwGElodiBJgIBlI1dvq1atbtGhRu3bt4cOHh/USH//ggw+in77r0KGD8BhIaHWA\n",
       "KIGBZCDVCBMmTDj99NOjE9m1bt26Y8eOKSkpF1xwwUEHHRQdvPrqqxNf7Xjy5MnC\n",
       "YyCh1YEoAQaSgZSc0tPTa30ZgwYNEh4DCa0ORAkwkAyk5DRt2rQ+X8aMGTOEx0BC\n",
       "qwNRAgwkAynJFRUVTZw4cciQIWlpaf/Z8ZpFBQUFwmMgodUBogQGkoFU4wwYMCB6\n",
       "TdhIOHLWWWc1aNCgX79+wmMgodUBogQGkoFUg9x2223RLopO6h0NpEsuuSR6OyMj\n",
       "Q3gMJLQ6QJTAQDKQaoScnJywgg444ICRI0eGi0ceeWQ0kLZt2/bAAw+Etxs1arRp\n",
       "0ybhMZDQ6gBRAgPJQEp+/fr1Cyuod+/e0cV4IEWOPfbYcHHWrFnCYyCh1QGiBAaS\n",
       "gZT8zjnnnDCBcnJyKhxIN954Y7g4ZswY4TGQ0OoAUQIDyUBKftdcc02YQC+88EKF\n",
       "AymaT76DZCCh1QGiBAaSgVQjDBs2LEygMITKD6QFCxbUr1+/du3a+/x83wYSaHUg\n",
       "SmAgYSDtDfn5+c2bNw+j6Pzzz8/NzT388MPD22vWrBk1alTTpk3D2x07dhQeAwmt\n",
       "DhAlMJAMpJrilVdeadiwYa2KtG3bdn94uVgDCbQ6ECUwkDCQ9p61a9deffXVjRs3\n",
       "jqdRq1athg4dunXrVuExkNDqAFECA8lAqqHWrVuXl5eXn58vPAYSWh0gSqDjGUg1\n",
       "zrRp0/r06TN37twKr83MzAzXbtiwQXgMJLQ6QJTAQDKQkl96enqtWrWGDx9e4bWn\n",
       "nHJKuHaf/5fAQAKtDkQJDCQMpK/RzJkzp+9w7bXXhgnUs2fP6eVkZ2cfeuih4dp1\n",
       "69YJj4GEVgeIEhhIBlLSatKkSa3KCRupuLhYeAwktDpAlMBAMpCS1sknn/ydHaIz\n",
       "1x1xxBHfKee73/3uz3/+83HjxgmPgYRWB4gSGEgGUo2w699BEh4DCa0OECUwkAyk\n",
       "GmTEiBEnnXTSM888IzwGElodIEqg4xlICI+BhFYHiBLoeAYSO5SUlCReXLJkyaBB\n",
       "g6644oq77777pZdeKi0tFR4DCa0OECUwkAyk5N9FgwcP/slPftKgQYPt27dHBydP\n",
       "ntywYcPEU9h17tx5f9hIBhJodSBKYCBhIH1dtm7des4558QrKDqLd2Fh4be+9a1w\n",
       "sXbt2tE57qJrBw4cKDwGElodIEpgIBlISevhhx+Oxs9vfvObrKys6HtEw4YNi9bR\n",
       "lClTopv17ds3HGnevLnXQTKQ0OoAUQIDyUBKWq1atQrL5/rrr088eNZZZ4WDV1xx\n",
       "RXwkDKcWLVqEgzNmzBAeAwmtDhAlMJAMpCRUUFAQffto+vTp8cEtW7bUq1cvHHz6\n",
       "6acTb3zdddeFg0888YTwGEhodYAogYFkICWhhQsXhs3TsGHDbdu2xQdnzZoVrab8\n",
       "/PzEG/fs2TMcHDRokPAYSGh1gCiBgWQgJaFly5aFzdO6devEg/379w8Hjz322DI3\n",
       "vuKKK8Lx0aNHC4+BhFYHiBIYSAZSEtq2bVudOnUOOOCA999/Pz546qmnRif1LnPL\n",
       "pk2bhuM5OTnCYyCh1QGiBAaSgZScfvGLX4TZc80110SvEvvss89GP1+XnZ2deLPB\n",
       "gweHg4ceemhBQYHwGEhodYAogYFkICWnf/zjH9EiatWqVbt27erUqRP90F30irHh\n",
       "f2fPnt2jR4/oNnfffbfwGEhodYAogYFkICWzAQMG1Epw8MEHxye1mzx5cnz8tNNO\n",
       "++STT4THQEKrA0QJDCQDKcnl5ubef//9l156ad++fd944434+MSJE8M0+s53vtOz\n",
       "Z8/EM90Jj4GEVgeIEhhIBhLCYyCh1QGiBAaSgYTwGEhodYAogYFkICE8BhJaHSBK\n",
       "oOMZSAiPgYRWB4gS6HgGEsJjIKHVAaIEOp6BhPAYSGh1gCiBjmcgITwGElodIEqg\n",
       "4xlICI+BhFYHiBLoeAYSwmMgodV5EECUQMczkBAeAwm0OhAl0PEMJITHQAKtDkQJ\n",
       "dDwDCeExkECrA1ECHc9AQngMJNDqQJRAxzOQEB4DCbQ6ECXQ8QwkhMdAAq0ORAl0\n",
       "PAMJ4TGQQKsDUQIdz0BCeAwk0OpAlEDHM5AQHgMJtDoQJdDxMJCEx0ACrQ5ECXQ8\n",
       "DCQMJNDqQJRAx8NAwkACrQ5ECXQ8DCQMJNDqQJRAx8NAwkACrQ5ECXQ8DCQMJNDq\n",
       "QJRAx8NAwkACrQ5ECXQ8DCQMJNDqQJRAxzOQDCQMJNDqQJQAA8lAwkACrQ5ECTCQ\n",
       "DCQMJNDqQJQAA8lAwkACrQ5ECTCQDCQMJNDqQJQAA8lAwkAykNDqQJQAA8lAQngM\n",
       "JLQ6ECXAQDKQEB4DCa0ORAkwkAwkhMdAQqsDUQIMJAMJ4TGQ0OpAlDwIYCAZSAiP\n",
       "gYRWB4gSGEgGEsJjIKHVAaIEBpKBhPAYSGh1gCiBjmcgITwGElodIEqg4xlI7EXr\n",
       "169/5ZVXCgsLDSTQ6kCUwEDCQKrpHnvssRCJt99+20ACrQ5ECQwkDKSaa8uWLRMm\n",
       "TOi0g4EEWh2IEhhIGEg11MKFC++///5u3bp1+pyBBFodiBIYSBhINXcg3fe5lJQU\n",
       "Awm0OhAlMJAwkPhfjzzyiIEEWh2IEhhIGEh86YHUrMeYCv+0G5q7v/15B/ZjM2fO\n",
       "9CCAKMHe12nntGIDiT0ZSMID/tkbRAmSj45nIGEggVYHogToeAYSBhJodSBKgI5n\n",
       "IGEggVYHogToeAYSBhJodSBKgI5nIGEggVYHogToeAYSBhJodSBKgIFkILEnMjMz\n",
       "DSTQ6kCUwEDCQEJ4QKsDUQJ0PAMJ4QGtDkQJ0PEMJIQHtDoQJUDHM5AQHtDqQJQA\n",
       "Hc9AQnhAqwNRAnQ8AwnhAa0ORAnQ8QwkhAe0OhAlQMczkBAe0OpAlAAdz0BCeECr\n",
       "A1ECdDwDCeEBrQ5ECdDxDCSEB7Q6ECVRAh3PQEJ4QKsDRAl0PAMJ4QGtDhAl0PEM\n",
       "JIQHtDpAlEDHM5AQHtDqAFECHc9AQnhAqwNECXQ8AwnhAa0OECXQ8QwkhAe0OkCU\n",
       "QMczkBAe0OoAUQIdz0BCeECrA0QJdDwDCeEBtDoQJdDxDCSEB9DqQJRAxzOQEB5A\n",
       "qwNRAh3PQEJ4AK0ORAl0PAMJ4QG0OhAl0PEMJIQH0OpAlEDHM5AQHkCrA1ECHc9A\n",
       "QngArQ5ECXQ8AwnhAbQ6ECXQ8QwkD4HwAFodiBLoeBhICA9odSBKoONhICE8oNWB\n",
       "KIGOh4GE8IBWB6IEOh4GEsIDWh2IEuh4GEgID2h1IEqg42EgITyg1YEogY6HgYTw\n",
       "gFYHogQ6HgYSwgNaHYgSoOMZSAgPaHUgSoCOZyAhPKDVgSgBOp6BhPCAVgeiBOh4\n",
       "BhLCA1odiBKg4xlICA9odSBKgI5nICE8oNWBKAE6noGE8IBWB6IE6HgGEsIDWh2I\n",
       "EqDjGUgID2h1IEqAjmcgITyg1QGiBDqegYTwgFYHiBLoeAYSwgNaHSBKoOMZSAgP\n",
       "aHWAKIGOZyAhPKDVAaIEOp6BhPCAVgeIEuh4BhLCA1odIEqg4xlICA9odYAogY5n\n",
       "ICE8oNUBogQ6noGE8IBWB4gS6HgGEsIDaHUgSqDjGUgID6DVgSiBjmcgITyAVgei\n",
       "BDqegYTwAFodiBLoeAYSwgNodSBKoOMZSAgPoNWBKIGOZyAhPIBWB6IEOp6BhPAA\n",
       "Wh2IEuh4BhLCA2h1IEqg42EgCQ+g1YEogY6HgYTwgFYHogQ6HgYSwgNaHYgS6HgY\n",
       "SAgPaHUgSqDjYSAhPKDVgSiBjoeBhPCAVgeiBDoeBhLCA1odiBLoeBhICA9odSBK\n",
       "oONhICE8oNWBKAE6noGE8IBWB6IE6HgGEsIDWh2IEqDjGUg1xObNm5cuXTpr1qzF\n",
       "ixcXFBTs9vb5+flry9n1HYUHtDoQJTCQMJCqgdmzZ3fv3r3T57p27friiy/u+i7p\n",
       "6emdysnOzhYe0OpAlMBAwkCqxpYtW9a5c+fwzH7sscdmzJjx1FNPRRfnzp27s7sU\n",
       "FRV16dIlLS0t64sWLlwoPKDVgSiBgYSBVI0NGzYsPK3//ve/x0f++c9/hiPp6ek7\n",
       "u8u7774bbjB69GjhAa0ORAkMJA+CgZQ8iouLu3btGp7WH3/8cXywqKioW7du4WB+\n",
       "fn6F98rNzQ3XTps2TXhAqwNRAgPJg2AgJY/169eH53Tv3r3LHB84cGA4vnjx4grv\n",
       "NW7cuHDt/Pnzc3Jyxo8fH5bSypUrhQe0OhAlMJAwkKq3ZcuWhed0//79yxzPzMwM\n",
       "x+fMmVPhvR566KHoXA6JZ2gYNWpUcXHxrsNToXeAL2PmzJkeBBAl2Ps67ZxSbSAl\n",
       "j3//+9/hOT1w4MAyx//yl7+E47NmzarwXrfffnu4dtCgQWFBLV26NDs7OxpLzmIH\n",
       "/tkbRAl8BwkDqRpbsmRJhQPpscce29lAKikpmTJlytSpUxO/XzRv3rzoe0rhWuEB\n",
       "rQ5ECQwkDKRq6e233w7P6X79+pU5/sgjj+z6TN/lpaWlhbusW7dOeECrA1ECAwkD\n",
       "qVr66KOPwnP6lltuKS0tTTx+7733huNLly4tf5dwyy1btpT/daOMjIxdnNdBeECr\n",
       "A1ECAwkDaX9XUlLSvXv38LRetWpVfHDTpk1dunTp3LlzeKP8XfLy8sLtR4wYkXiw\n",
       "qKgoNTV1F2cGFx7Q6kCUwEDCQKoGwtQJT+shQ4bE30SKztAwYMCA6OLq1aun7BBd\n",
       "DBMoXJuSkrJs2bLoSLjj2LFjw8G+ffsKD2h1IEpgIGEgVWPr16+PXha2d+/eI0eO\n",
       "vOuuu8LbnTt3jn++bvLkyWVO4DhmzJhwsUuXLpmZmVlZWf3794/O0LB8+XLhAa0O\n",
       "RAkMJAyk6i0Mm759+8Znsu/Tp8/rr78eXxsNpDCH4iPbt2+fNGnSrbfeGt0+XDVo\n",
       "0KA1a9YID2h1IEpgIGEgITyg1YEogY6HgYTwgFYHogQ6HgYSwgNaHYgSoOMZSAgP\n",
       "aHUgSoCOZyAhPKDVgSgBOp6BhPCAVgeiBOh4BhLCA1odiBKg4xlICA9odSBKgI5n\n",
       "ICE8oNWBKAE6noGE8IBWB6IE6HgGEsIDWh2IEqDjGUgID2h1IEqAjmcgITyg1QGi\n",
       "BDqegYTwgFYHiBLoeAYSwgNaHSBKoOMZSAgPaHWAKIGOZyAhPKDVAaIEOp6BhPCA\n",
       "VgeIEuh4BhLCA1odIEqg4xlI/1979x5bZX3/AVxEEDYRhxqdblFQJ1O8ZESNLrvo\n",
       "vMRL1IDoEjOMkdBSkTkUEjQIgkhVzEQRFNR4i4iiIhpEVwJoUW4Kiim0EqkI2K0V\n",
       "bW2HFNr9PvGJJ2etnD6l1exnX6+/2u/5nqc9355Pvp93z3meg+IBXR2glECPJyCh\n",
       "eEBXBygl0OMJSCge0NUBSgn0eAISigfQ1YFSAj2egITiAXR1oJRAjycgoXgAXR0o\n",
       "JdDjCUgoHkBXB0oJ9HgCEooH0NWBUgI9noCE4gF0daCUQI8nIKF4AF0dKCXQ4wlI\n",
       "KB5AVwdKCfR4AhKKB9DVgVICPR4CkuIBdHWglECPh4CE4gFdHSgl0OMhIKF4QFcH\n",
       "Sgn0eAhIKB7Q1YFSAj0eAhKKB3R1oJRAj4eAhOIBXR0oJdDjISCheEBXB0oJ9HgI\n",
       "SCge0NWBUgI9nkUQkFA8oKsDpQTo8QQkFA/o6kApAXo8AQnFA7o6UEqAHk9AQvGA\n",
       "rg6UEqDHE5BQPKCrA6UE6PEEJBQP6OpAKQF6PAEJxQO6OlBKgB5PQELxgK4OlBKg\n",
       "xxOQUDygqwOlBOjxBCQUD+jqQCkBejwBCcUDujpAKYEeT0BC8YCuDlBKoMcTkFA8\n",
       "oKsDlBLo8QQkFA/o6gClBHo8AQnFA7o6QCmBHk9AQvGArg5QSqDHE5BQPKCrA5QS\n",
       "6PEEJBQP6OoApQR6PAEJxQO6OkApgR5PQELxgK4OUEqgxxOQUDyArg6UEujxBCQU\n",
       "D6CrA6UEejwBCcUD6OpAKYEeT0BC8QC6OlBKoMcTkFA8gK4OlBLo8QQkFA+gqwOl\n",
       "BHo8AQnFA+jqQCmBHk9AQvEAujpQSqDHE5BQPICuDpQS6PEQkBSPRQBdHSgl0OMh\n",
       "IKF4QFcHSgn0eAhIKB7Q1YFSAj0eAhKKB3R1oJRAj4eAhOIBXR0oJdDjISCheEBX\n",
       "B0oJ9HgISCge0NWBUgI9HgISigd0daCUQI+nxxOQUDyglEApAapJQCKjrq6utLS0\n",
       "uLi4pKSkpqZG8YB9CJQSqCYEpA5q2bJlI0aMGPqtgoKC1157TfGAfQiUEqgmBKQO\n",
       "p6ysLC8vLyph5syZS5cufeqpp5JvV6xYoXjAPgRKCVQTAlLHMnXq1CiDZ555JjOy\n",
       "cOHCGBk3bpziAfsQKCVQTQhIHciuXbsKCgqiDD7//PPMYH19/fXXXx+DVVVVigfs\n",
       "Q6CUQDUhIHUUFRUVUQOjRo1qMl5YWBjjJSUligfsQ6CUQDUhIHUUZWVlUQOTJk1q\n",
       "Mj5jxowYX758ueIB+xAoJVBNCEgdxYYNG6IGCgsLm4w/+uijMV5cXJy7eAAA+PHR\n",
       "JAtIHdf69eu/MyDNnDmzxYAEAAAISD8qH330UQShCRMmNBmfNm1amit9AwAAAtKP\n",
       "R2VlZQSh4cOHNzY2Zo+PHTs2xktLSy0RAAAISB1FQ0PDiBEjIguVl5dnBqurq/Pz\n",
       "8/Py8uILSwQAAAJSB/Lwww9HQJoyZUrmRaTkCg2TJ0+2OAAAICB1LBUVFcnHwo4a\n",
       "NWrWrFm33HJLfJ2Xl+f9dQAAICB1RBs3bhw/fnzmwo5jxoxZu3atZQEAAAEJAABA\n",
       "QAIAABCQAAAABCQAAAABCQAAQECi7erq6kpLS4uLi0tKSmpqaiwI7IWqqqqtzSgo\n",
       "aJWKioolS5bU1tbaquD7KCVblYBEKsuWLRsxYkTmguAFBQWvvfaaZYHWGjdu3NBm\n",
       "5s2bZ2UgvZkzZ0bhfPTRR7Yq+D5KyVYlINGysrKyvLy8qI0opKVLlz711FPJtytW\n",
       "rLA4kF59fX1+fv7o0aPn/Ld169ZZHEhjx44d8+fPT9q1Jl2drQrapZRsVQISqUyd\n",
       "OjXq55lnnsmMLFy4MEbGjRtncSC9Tz75JArn8ccftxTQWtGc3X777ddff33m/9lN\n",
       "ujpbFbRLKdmqBCRatmvXroKCgiiVzz//PPu/C0lpVVVVWSJI6e23346qKSoqshSw\n",
       "F13dbd8aNmxYk67OVgXtUkq2KgGJVCoqKqJORo0a1WS8sLAwxktKSiwRpPTcc89F\n",
       "1bz33ntvvvnm3LlzY/v5+OOPLQu01rRp05p0dbYqaJdSslUJSKRSVlYWdTJp0qQm\n",
       "4zNmzIjx5cuXWyJI6e9//3ty4nj2aa+PPPLIrl27LA60pauzVUF7BSRblYBEyzZs\n",
       "2BCFUVhY2GT80UcfjfHi4mJLBCnddNNNUTV33XVXtGulpaXz5s1LdiCXBoI2dnW2\n",
       "KmivgGSrEpBo2fr1679z10kuDWnXgZQaGhreeOONf/zjH9n/hFu5cmXyj7q41RLB\n",
       "Xnd1tipol1KyVQlIpBJlE1UxYcKE7ywql0+FNho9enSU0rZt2ywF7HVXZ6uCdikl\n",
       "W5WARCqVlZVREsOHD29sbMweHzt2bIyXlpZaIkgjKmjHjh3N38M9ceJEJ5FDG7s6\n",
       "WxW0SynZqgQkUmloaEg+mLy8vDwzWF1dnZ+fn5eXF19YIkjj3XffjTp6+OGHswfr\n",
       "6+tvuOEGlyGGNnZ1tipol1KyVQlIpBV1ElUxZcqUzH/mktNeJ0+ebHEgpdhXomqG\n",
       "DRtWVlaWjERBPfvsszE4fvx46wNt6epsVdAupWSrEpBIq6KiIvmsvVGjRs2aNeuW\n",
       "W26Jr/Py8rxpAVpl9uzZUTv5+fkzZsyYM2fOpEmTktNeN27caHGgjQHJVgXtUkq2\n",
       "KgGJtKIqxo8fn7kc/pgxY9auXWtZoFV27969YMGCG2+8Mamj2H7uuuuuTz/91MpA\n",
       "qySfbtT8zHJbFbS9lGxVAhKtU1dXt3nz5pqaGksBe62xsbGqqmrLli0+dA9sVWCr\n",
       "EpAAAAAEJAAAAAEJAABAQAIAABCQAAAABCQAAAABCQC+L2vXrp3zrSVLluSeXFtb\n",
       "OyfLV199lXv+4sWLX3rppQ67tlu2bIlVKisr8zQDEJAAaB+VlZXdUxg4cODeHf/m\n",
       "m2/e51v9+vXLPXnTpk37ZHnzzTdzTF6zZs1+++133nnn/cj+ItOnT48Fv/rqq1uc\n",
       "WVVVdeCBB55yyim7d+/2TAYQkABoB//617/2SeHcc89tS0C6+OKLo+9/9tlnc0+u\n",
       "qamZ/o3evXvnDkgRCfr379+pU6f33nvvR/YXeeCBB+KxX3LJJWkm33777TF5xowZ\n",
       "nskAAhIA7aCxsbHmvx1zzDHRc48ZMyZ78N///ndbAtLkyZNbda8zzzwzd0CaPXt2\n",
       "TBgwYMCP7y/SqoAUf5oePXocdthhX3/9tSczgIAEQPv71a9+FQ36+PHj2+Vo31NA\n",
       "Ouuss2LC/PnzO3hACtdcc03Mf/zxxz11AQQkAFp23333DR48+MMPP1y6dGl+fv5J\n",
       "J5103HHHDRo0aM2aNXsRkIqKiq666qp+/fr17t37jDPOuPHGG3NfJOA7A1KLB8kd\n",
       "kN5///249eCDD66vr2/VL7Zq1aqCgoLTTz89pg0bNuyFF15ofvBFixYlc4455phz\n",
       "zjknfvPq6uomc1asWPHXv/71d7/7Xcy57LLLJk6c+MUXX+zdgr/88svXXXfdySef\n",
       "fOyxxw4cODB+evOAlPuhvfHGGzG/f//+nuoAAhIALbvggguigY6mv2vXrtmnFcW3\n",
       "77zzTqsC0pQpU5qfntSzZ88PPvggfUBKc5DcAemee+6JW88///xWHfPee+/t0qVL\n",
       "kzkjR47MTGhsbBw7dmynTp2azPnlL3+5devWzLQ777xzv/32azLnqKOOitTUqgXf\n",
       "vXv38OHDm//akZSyA1KLD622tjYZ3LZtm2c7gIAEQKqAFE499dRFixZt2bLliSee\n",
       "+MUvfhEjl112WfqAtHPnzp/85CdxU15e3qZNm6qrq4uKivr06RMjV155ZcqAlPIg\n",
       "uQPSxRdfnBwh/THjgce3nTt3jgi0cePGjz/++I477kgCzAMPPJDMmTt3brJQgwcP\n",
       "jiQT0+Kmgw8+OEYuvPDCZM4rr7ySzImRlStXRiaZM2fO4YcfHiOxpMmZWikX/LHH\n",
       "HkumDRkyZPXq1eXl5U8//fQhhxySDCYBKeVyHXrooTHy5JNPerYDCEgApApI0Xl/\n",
       "+eWXmcHCwsIYjFY7fUAqKSlJevd33303M7hgwYJevXr95je/SRmQUh4kd0D6+c9/\n",
       "HrfGQ0h/zH79+jV/UFOnTo3BeLz/+ebloxNOOCG+/fOf/5w95/7774/BLl26JG+0\n",
       "69u3b3JNv5ifmRNRav/99888zDQL3tDQcPTRR8dIk8t5x2NJXp5KAlLK5TrttNNi\n",
       "zg033ODZDiAgAZAqII0YMSJ7cM2aNTHYo0eP9AEpevrkpZLo7GfNmpXyDV1NAlLK\n",
       "g+QISJFMkgiRuWh4i8fMXMp869atO7JE5kleRFq9enXcK5mzatWq7PvW19cvXLjw\n",
       "9ddfjy8yc5q/NTEvLy/Gkw9lSrPg5eXlzZNPYtCgQZmAlHK5rrzyypgTd/RsBxCQ\n",
       "AEgVkKZOnZo9uG7duhg84IAD0gek8MQTT3Tv3j1zJkyfPn2GDBmyePHi9AEp5UFy\n",
       "BKTt27cnd1y+fHnKYy5ZsiT3pzy9+OKL8bOS9+Dl+NDVOGDM2XfffSNcNblp5syZ\n",
       "yZlIKRe8qKhoTz/u7rvvzj4HKc1yjR49Om76wx/+4NkOICABkCogPfTQQ20PSP/5\n",
       "5u1kcdPpp5+efaGCa6+9NvstZ7kDUpqD5AhI1dXVyfzi4uKUx3z11VeTb4/eg9mz\n",
       "Z8+bN29PC5KxYMGCmBPHb/5gk89l6tWrV8oFT85l6tq1a/OfMm3atCZXsWtxuW69\n",
       "9dYY+e1vf+vZDiAgAfCDBqSM2traCBXRlCf9+p5eR8r9OUh7Okjuc5C6desWtz79\n",
       "9NMpjxkBI3nlJ/uy4E2sXbs2mb99+/bs8YaGhli66dOnb926df369cmczZs3N7n7\n",
       "xIkTYzwyTMoFzxzqs88+a3KokSNH7ulzkPa0XFdffXV8e/nll3u2AwhIAPxAAemV\n",
       "V17p27fvFVdckT1YU1Nz4IEHxvz77rsvTUBKeZDcAemoo46KWyOTpDxmhJwePXrE\n",
       "13Pnzs2eU15eHg+2T58+W7Zsqaur69y5c8yZNm1a9pw5c+Yk4aqqqiryVXJNubFj\n",
       "x2bP2blzZ3Jt7uuuuy7lgsddfvrTn8bIHXfc0eRQyUlHSUBKuVxJZBo6dKhnO4CA\n",
       "BMAPFJA++OCD5LSZl19+OTO4fv365AJuRUVFaQJSyoPkDkgDBw7MpJGUx7ztttvi\n",
       "6yOPPDJz5lIkoksvvTQGI4EkI0OGDEneJpe5BsOGDRtOPvnkGPz973+fjEQ0im+7\n",
       "deuWuUREHOcvf/lL8ta7mJ9+wceMGRMjEZPmz5+fjHz99deRhbIv851yuY444ojm\n",
       "PxEAAQmA7zEgNTY2nn/++Un7HrFhwIABf/zjH5NO/YQTTkg+AqjFgJTyILkDUjyW\n",
       "uPWcc85Jf8yamppf//rXSdg46aSTIvAkEyLVLFy4MDnOtm3bkguIx5xTTz01uTJ4\n",
       "6N69+4cffpjM+eqrr0455ZRkPA547rnnJh+UFCZMmNCqBd++ffuJJ56Y3Pf4448/\n",
       "++yzk9eFkhepkoCU5qFFrEo+3DaCk2c7gIAEQKqA9Mgjj2QPJufAHHTQQc3nJ137\n",
       "d56DFDFj2LBhyXvDEt26dbvqqqv++c9/7umnNz8HKc1BcgekzZs3R4bp2bNnZIP0\n",
       "x6yrqxs6dGjcKzMnIkcmHSUqKysHDRqURJTEWWed1eTC3/FD//a3v2U+0TXCScSb\n",
       "7Fd40i94xK3BgwdnfqX4na+55pp77703+xykFh9acv295AJ6AAhIAPzQduzYUVZW\n",
       "tmzZsmj6I3XknrynizTkPkjugBQGDBjQ/JyilL/Ypk2bVqxYkSPUNTQ0bNiwYfXq\n",
       "1cmHw+7Jp59+unLlygg5bVzPxsbG+IXXrVu3a9euvVjzSH05LoMBgIAEwP+Q3Fex\n",
       "25MWA9Jbb721p0u9dSgRln72s59169atqqrKkw1AQALg/0dAuvTSSx988MHZs2fn\n",
       "nlxbW/vgN3r37p07IIWLLroo5qxcubIjL++dd97Z/Kp6AAhIAPxPB6REv379ck/e\n",
       "tGnTPllyB6TS0tKuXbv+6U9/6rBrW1VV1bNnz759+2bOxQJAQALgf9r777//3Lde\n",
       "f/313JOj0X/++ecz8ysrK3PPX7ZsWUzbvXt3hw1I8fAjKHqaAQhIAAAAAhIAAICA\n",
       "BAAAICABAAAISAAAAAISAACAgAQAACAgAQAACEgAAAACEgAAgIAEAAAgIAEAAAhI\n",
       "AAAAAhIAAICABAAAICABAAAISAAAAAISAACAgAQAACAgAQAACEgAAAACEgAAgIAE\n",
       "AAAgIAEAAAhIAAAAAhIAAICABAAAICABAAAgIAEAAAhIAAAAAhIAAICABAAAICAB\n",
       "AAAISAAAAAISAABA6/0fAwmI7mBcKmQAAAAASUVORK5CYII=\" style=\"clip-path:url(#clipPath2);\" height=\"840\" preserveAspectRatio=\"none\"\n",
       "    /></g\n",
       "  ></g\n",
       "></svg\n",
       ">\n"
      ]
     },
     "metadata": {},
     "output_type": "display_data"
    }
   ],
   "source": [
    "step(Hz)\n",
    "grid\n",
    "title('Example 1 - Part 3 - As Analogue Signal')\n",
    "xlabel('nTs [s]')\n",
    "ylabel('Step response y(t)')\n",
    "axis([0,15,0,3.5])"
   ]
  },
  {
   "cell_type": "markdown",
   "metadata": {
    "slideshow": {
     "slide_type": "subslide"
    }
   },
   "source": [
    "### Simulink Model\n",
    "\n",
    "See [dtm.slx](https://cpjobling.github.io/eg-247-textbook/dt_systems/4/matlab/dtm.slx):\n",
    "\n",
    "![Simulink model](./pictures/simulink_model.png)"
   ]
  },
  {
   "cell_type": "code",
   "execution_count": 12,
   "metadata": {
    "slideshow": {
     "slide_type": "fragment"
    }
   },
   "outputs": [],
   "source": [
    "dtm"
   ]
  },
  {
   "cell_type": "markdown",
   "metadata": {
    "slideshow": {
     "slide_type": "notes"
    }
   },
   "source": [
    "#### Results\n",
    "\n",
    "![Simulink results](./pictures/scope.png)"
   ]
  },
  {
   "cell_type": "markdown",
   "metadata": {
    "slideshow": {
     "slide_type": "slide"
    }
   },
   "source": [
    "## Converting Continuous Time Systems to Discrete Time Systems\n",
    "\n",
    "In analogue electronics, to implement a filter we would need to resort to op-amp circuits with resistors, capacitors and inductors acting as energy dissipation, storage and release devices."
   ]
  },
  {
   "cell_type": "markdown",
   "metadata": {
    "slideshow": {
     "slide_type": "subslide"
    }
   },
   "source": [
    "* In modern digital electronics, it is often more convenient to take the original transfer function $H(s)$ and produce an equivalent $H(z)$."
   ]
  },
  {
   "cell_type": "markdown",
   "metadata": {
    "slideshow": {
     "slide_type": "fragment"
    }
   },
   "source": [
    "* We can then determine a *difference equation* that will respresent $h[n]$ and implement this as *computer algorithm*."
   ]
  },
  {
   "cell_type": "markdown",
   "metadata": {
    "slideshow": {
     "slide_type": "fragment"
    }
   },
   "source": [
    "* Simple storage of past values in memory becomes the repository of past state rather than the integrators and derivative circuits that are needed in the analogue world. "
   ]
  },
  {
   "cell_type": "markdown",
   "metadata": {
    "slideshow": {
     "slide_type": "subslide"
    }
   },
   "source": [
    "To achieve this, all we need is to be able to do is to *sample* and *process* the signals quickly enough to avoid violating Nyquist-Shannon's sampling theorem."
   ]
  },
  {
   "cell_type": "markdown",
   "metadata": {
    "slideshow": {
     "slide_type": "subslide"
    }
   },
   "source": [
    "### Continuous System Equivalents\n",
    "\n",
    "* There is no digital system that uniquely represents a continuous system\n",
    "* This is because as we are sampling, we only have knowledge of signals being processed at the sampling instants, and need to *reconstruct* the inter-sample behaviour.\n",
    "* In practice, only a small number of transformations are used.\n",
    "* The derivation of these is beyond the scope of this module, but **in class** we'll demonstrate the ones that MATLAB provides in a function called `c2d`"
   ]
  },
  {
   "cell_type": "markdown",
   "metadata": {
    "slideshow": {
     "slide_type": "subslide"
    }
   },
   "source": [
    "### MATLAB c2d function\n",
    "\n",
    "Let's see what the help function says:"
   ]
  },
  {
   "cell_type": "code",
   "execution_count": 13,
   "metadata": {
    "slideshow": {
     "slide_type": "notes"
    }
   },
   "outputs": [
    {
     "name": "stdout",
     "output_type": "stream",
     "text": [
      " C2D  Converts continuous-time dynamic system to discrete time.\n",
      " \n",
      "    SYSD = C2D(SYSC,TS,METHOD) computes a discrete-time model SYSD with\n",
      "    sample time TS that approximates the continuous-time model SYSC.\n",
      "    The string METHOD selects the discretization method among the following:\n",
      "       'zoh'           Zero-order hold on the inputs\n",
      "       'foh'           Linear interpolation of inputs\n",
      "       'impulse'       Impulse-invariant discretization\n",
      "       'tustin'        Bilinear (Tustin) approximation.\n",
      "       'matched'       Matched pole-zero method (for SISO systems only).\n",
      "       'least-squares' Least-squares minimization of the error between\n",
      "                       frequency responses of the continuous and discrete\n",
      "                       systems (for SISO systems only).\n",
      "       'damped'        Damped Tustin approximation based on TRBDF2 formula\n",
      "                       (sparse models only).\n",
      "    The default is 'zoh' when METHOD is omitted. The sample time TS should\n",
      "    be specified in the time units of SYSC (see \"TimeUnit\" property).\n",
      " \n",
      "    C2D(SYSC,TS,OPTIONS) gives access to additional discretization options. \n",
      "    Use C2DOPTIONS to create and configure the option set OPTIONS. For \n",
      "    example, you can specify a prewarping frequency for the Tustin method by:\n",
      "       opt = c2dOptions('Method','tustin','PrewarpFrequency',.5);\n",
      "       sysd = c2d(sysc,.1,opt);\n",
      " \n",
      "    For state-space models,\n",
      "       [SYSD,G] = C2D(SYSC,Ts,METHOD)\n",
      "    also returns the matrix G mapping the states xc(t) of SYSC to the states \n",
      "    xd[k] of SYSD:\n",
      "       xd[k] = G * [xc(k*Ts) ; u[k]]\n",
      "    Given an initial condition x0 for SYSC and an initial input value u0=u(0), \n",
      "    the equivalent initial condition for SYSD is (assuming u(t)=0 for t<0):\n",
      "       xd[0] = G * [x0;u0] .\n",
      " \n",
      "    See also C2DOPTIONS, D2C, D2D, DYNAMICSYSTEM.\n",
      "\n",
      "    Documentation for c2d\n",
      "       doc c2d\n",
      "\n",
      "    Other functions named c2d\n",
      "\n",
      "       DynamicSystem/c2d    ltipack.tfdata/c2d\n",
      "\n"
     ]
    }
   ],
   "source": [
    "help c2d"
   ]
  },
  {
   "cell_type": "code",
   "execution_count": 14,
   "metadata": {
    "slideshow": {
     "slide_type": "fragment"
    }
   },
   "outputs": [],
   "source": [
    "doc c2d"
   ]
  },
  {
   "cell_type": "markdown",
   "metadata": {
    "slideshow": {
     "slide_type": "subslide"
    }
   },
   "source": [
    "### Example 6\n",
    "\n",
    "* Design a 2nd-order butterworth low-pass anti-aliasing filter with transfer function $H(s)$ for use in sampling music. \n",
    "* The cut-off frequency $\\omega_c = 20$&nbsp;kHz and the filter should have an attenuation of at least $-80$&nbsp;dB in the stop band. \n",
    "* Choose a suitable sampling frequency for the audio signal and give the transfer function $H(z)$ and an algorithm to implement $h[n]$"
   ]
  },
  {
   "cell_type": "markdown",
   "metadata": {
    "slideshow": {
     "slide_type": "subslide"
    }
   },
   "source": [
    "### Solution\n",
    "\n",
    "See [digi_butter.mlx](https://cpjobling.github.io/eg-247-textbook/dt_systems/4/matlab/digi_butter.mlx)."
   ]
  },
  {
   "cell_type": "markdown",
   "metadata": {
    "slideshow": {
     "slide_type": "subslide"
    }
   },
   "source": [
    "First determine the cut-off frequency $\\omega_c$\n",
    "\n",
    "$$\\omega_c = 2\\pi f_c = 2\\times \\pi \\times 20\\times 10^3\\;\\mathrm{rad/s}$$"
   ]
  },
  {
   "cell_type": "code",
   "execution_count": 15,
   "metadata": {
    "slideshow": {
     "slide_type": "fragment"
    }
   },
   "outputs": [
    {
     "name": "stdout",
     "output_type": "stream",
     "text": [
      "wc =\n",
      "   1.2566e+05\n"
     ]
    }
   ],
   "source": [
    "wc = 2*pi*20e3"
   ]
  },
  {
   "cell_type": "markdown",
   "metadata": {
    "slideshow": {
     "slide_type": "fragment"
    }
   },
   "source": [
    "$$\\omega_c = 125.66\\times 10^3\\;\\mathrm{rad/s}$$"
   ]
  },
  {
   "cell_type": "markdown",
   "metadata": {
    "slideshow": {
     "slide_type": "subslide"
    }
   },
   "source": [
    "From the lecture on filters, we know the 2nd-order butterworth filter has transfer function:\n",
    "\n",
    "$$H(s) = \\frac{Y(s)}{U(s)} = \\frac{\\omega _c^2}{s^2 + \\omega _c\\sqrt 2 \\,s + \\omega _c^2}$$"
   ]
  },
  {
   "cell_type": "markdown",
   "metadata": {
    "slideshow": {
     "slide_type": "fragment"
    }
   },
   "source": [
    "Substituting for $\\omega_c = 125.6637\\times 10^3 $ this is ...?"
   ]
  },
  {
   "cell_type": "code",
   "execution_count": 16,
   "metadata": {
    "slideshow": {
     "slide_type": "fragment"
    }
   },
   "outputs": [
    {
     "name": "stdout",
     "output_type": "stream",
     "text": [
      "\n",
      "Hs =\n",
      " \n",
      "           1.579e10\n",
      "  ---------------------------\n",
      "  s^2 + 1.777e05 s + 1.579e10\n",
      " \n",
      "Continuous-time transfer function.\n",
      "\n"
     ]
    }
   ],
   "source": [
    "Hs = tf(wc^2,[1 wc*sqrt(2), wc^2])"
   ]
  },
  {
   "cell_type": "markdown",
   "metadata": {
    "slideshow": {
     "slide_type": "subslide"
    }
   },
   "source": [
    "$$H(s) = \\frac{15.79 \\times 10^9}{s^2 + 177.7 \\times 10^3 s + 15.79 \\times 10^9}$$"
   ]
  },
  {
   "cell_type": "markdown",
   "metadata": {
    "slideshow": {
     "slide_type": "subslide"
    }
   },
   "source": [
    "### Bode plot\n",
    "\n",
    "MATLAB:"
   ]
  },
  {
   "cell_type": "code",
   "execution_count": 17,
   "metadata": {
    "slideshow": {
     "slide_type": "subslide"
    }
   },
   "outputs": [
    {
     "data": {
      "image/svg+xml": [
       "<?xml version=\"1.0\"?>\n",
       "<!DOCTYPE svg PUBLIC '-//W3C//DTD SVG 1.0//EN'\n",
       "          'http://www.w3.org/TR/2001/REC-SVG-20010904/DTD/svg10.dtd'>\n",
       "<svg xmlns:xlink=\"http://www.w3.org/1999/xlink\" style=\"fill-opacity:1; color-rendering:auto; color-interpolation:auto; text-rendering:auto; stroke:black; stroke-linecap:square; stroke-miterlimit:10; shape-rendering:auto; stroke-opacity:1; fill:black; stroke-dasharray:none; font-weight:normal; stroke-width:1; font-family:'Dialog'; font-style:normal; stroke-linejoin:miter; font-size:12px; stroke-dashoffset:0; image-rendering:auto;\" width=\"560\" height=\"420\" xmlns=\"http://www.w3.org/2000/svg\"\n",
       "><!--Generated by the Batik Graphics2D SVG Generator--><defs id=\"genericDefs\"\n",
       "  /><g\n",
       "  ><defs id=\"defs1\"\n",
       "    ><clipPath clipPathUnits=\"userSpaceOnUse\" id=\"clipPath1\"\n",
       "      ><path d=\"M0 0 L560 0 L560 420 L0 420 L0 0 Z\"\n",
       "      /></clipPath\n",
       "      ><font horiz-adv-x=\"50.0\" id=\"font1\"\n",
       "      ><font-face ascent=\"95.200005\" descent=\"21.3\" units-per-em=\"100\" style=\"font-style:normal; font-family:Helvetica Neue; font-weight:normal;\"\n",
       "        /><missing-glyph horiz-adv-x=\"50.0\" d=\"M40.9 66.6 L10.2 66.6 L10.2 4.7 L40.9 4.7 ZM46 71.2 L46 0.1 L5.1 0.1 L5.1 71.2 Z\"\n",
       "        /><glyph unicode=\"0\" horiz-adv-x=\"55.6\" d=\"M13.2 34.9 Q13.2 37.5 13.25 40.65 Q13.3 43.8 13.75 46.95 Q14.2 50.1 15.05 53.1 Q15.9 56.1 17.55 58.35 Q19.2 60.6 21.7 62 Q24.2 63.4 27.8 63.4 Q31.4 63.4 33.9 62 Q36.4 60.6 38.05 58.35 Q39.7 56.1 40.55 53.1 Q41.4 50.1 41.85 46.95 Q42.3 43.8 42.35 40.65 Q42.4 37.5 42.4 34.9 Q42.4 30.9 42.15 25.95 Q41.9 21 40.55 16.65 Q39.2 12.3 36.2 9.3 Q33.2 6.3 27.8 6.3 Q22.4 6.3 19.4 9.3 Q16.4 12.3 15.05 16.65 Q13.7 21 13.45 25.95 Q13.2 30.9 13.2 34.9 ZM4.2 34.8 Q4.2 30.9 4.4 26.7 Q4.6 22.5 5.4 18.5 Q6.2 14.5 7.7 10.95 Q9.2 7.4 11.8 4.7 Q14.4 2 18.35 0.45 Q22.3 -1.1 27.8 -1.1 Q33.4 -1.1 37.3 0.45 Q41.2 2 43.8 4.7 Q46.4 7.4 47.9 10.95 Q49.4 14.5 50.2 18.5 Q51 22.5 51.2 26.7 Q51.4 30.9 51.4 34.8 Q51.4 38.7 51.2 42.9 Q51 47.1 50.2 51.1 Q49.4 55.1 47.9 58.7 Q46.4 62.3 43.8 65 Q41.2 67.7 37.25 69.3 Q33.3 70.9 27.8 70.9 Q22.3 70.9 18.35 69.3 Q14.4 67.7 11.8 65 Q9.2 62.3 7.7 58.7 Q6.2 55.1 5.4 51.1 Q4.6 47.1 4.4 42.9 Q4.2 38.7 4.2 34.8 Z\"\n",
       "        /><glyph unicode=\"2\" horiz-adv-x=\"55.6\" d=\"M4.4 45.8 L12.9 45.8 Q12.8 49 13.55 52.15 Q14.3 55.3 16 57.8 Q17.7 60.3 20.35 61.85 Q23 63.4 26.7 63.4 Q29.5 63.4 32 62.5 Q34.5 61.6 36.35 59.9 Q38.2 58.2 39.3 55.85 Q40.4 53.5 40.4 50.6 Q40.4 46.9 39.25 44.1 Q38.1 41.3 35.85 38.9 Q33.6 36.5 30.2 34.15 Q26.8 31.8 22.3 29 Q18.6 26.8 15.2 24.3 Q11.8 21.8 9.1 18.5 Q6.4 15.2 4.65 10.75 Q2.9 6.3 2.4 0 L48.7 0 L48.7 7.5 L12.3 7.5 Q12.9 10.8 14.85 13.35 Q16.8 15.9 19.55 18.1 Q22.3 20.3 25.6 22.25 Q28.9 24.2 32.2 26.2 Q35.5 28.3 38.6 30.6 Q41.7 32.9 44.1 35.75 Q46.5 38.6 47.95 42.2 Q49.4 45.8 49.4 50.5 Q49.4 55.5 47.65 59.3 Q45.9 63.1 42.9 65.65 Q39.9 68.2 35.85 69.55 Q31.8 70.9 27.2 70.9 Q21.6 70.9 17.2 69 Q12.8 67.1 9.85 63.75 Q6.9 60.4 5.5 55.8 Q4.1 51.2 4.4 45.8 Z\"\n",
       "        /><glyph unicode=\"1\" horiz-adv-x=\"55.6\" d=\"M35.6 0 L35.6 70.9 L29.1 70.9 Q28.4 66.9 26.5 64.3 Q24.6 61.7 21.85 60.2 Q19.1 58.7 15.7 58.15 Q12.3 57.6 8.7 57.6 L8.7 50.8 L27.1 50.8 L27.1 0 Z\"\n",
       "        /><glyph unicode=\"-\" horiz-adv-x=\"38.9\" d=\"M5 31.8 L5 23.8 L33.9 23.8 L33.9 31.8 Z\"\n",
       "        /><glyph unicode=\"8\" horiz-adv-x=\"55.6\" d=\"M15.5 52.5 Q15.5 55.2 16.5 57.2 Q17.5 59.2 19.15 60.6 Q20.8 62 23.1 62.7 Q25.4 63.4 27.9 63.4 Q33.1 63.4 36.45 60.65 Q39.8 57.9 39.8 52.5 Q39.8 47.1 36.5 44.1 Q33.2 41.1 28.1 41.1 Q25.5 41.1 23.2 41.8 Q20.9 42.5 19.2 43.9 Q17.5 45.3 16.5 47.45 Q15.5 49.6 15.5 52.5 ZM6.5 52.8 Q6.5 48 9.2 43.95 Q11.9 39.9 16.4 38.1 Q10.4 36 7.2 31.35 Q4 26.7 4 20.4 Q4 15 5.85 10.95 Q7.7 6.9 10.95 4.2 Q14.2 1.5 18.6 0.2 Q23 -1.1 28.1 -1.1 Q33 -1.1 37.3 0.3 Q41.6 1.7 44.75 4.45 Q47.9 7.2 49.75 11.2 Q51.6 15.2 51.6 20.4 Q51.6 27 48.5 31.55 Q45.4 36.1 39 38.1 Q43.5 40.1 46.15 44.05 Q48.8 48 48.8 52.8 Q48.8 56.2 47.6 59.45 Q46.4 62.7 43.85 65.25 Q41.3 67.8 37.2 69.35 Q33.1 70.9 27.3 70.9 Q23.2 70.9 19.45 69.7 Q15.7 68.5 12.8 66.2 Q9.9 63.9 8.2 60.55 Q6.5 57.2 6.5 52.8 ZM13 20 Q13 23.1 14.15 25.6 Q15.3 28.1 17.35 29.9 Q19.4 31.7 22.15 32.65 Q24.9 33.6 28 33.6 Q31 33.6 33.65 32.55 Q36.3 31.5 38.3 29.7 Q40.3 27.9 41.45 25.45 Q42.6 23 42.6 20.1 Q42.6 17.1 41.55 14.6 Q40.5 12.1 38.55 10.25 Q36.6 8.4 33.95 7.35 Q31.3 6.3 28.1 6.3 Q21.5 6.3 17.25 9.95 Q13 13.6 13 20 Z\"\n",
       "        /><glyph unicode=\"6\" horiz-adv-x=\"55.6\" d=\"M41.4 52.8 L49.9 52.8 Q49.1 61.6 43.9 66.25 Q38.7 70.9 29.9 70.9 Q22.3 70.9 17.3 67.7 Q12.3 64.5 9.3 59.2 Q6.3 53.9 5.05 47.05 Q3.8 40.2 3.8 32.9 Q3.8 27.3 4.65 21.3 Q5.5 15.3 8.1 10.3 Q10.7 5.3 15.5 2.1 Q20.3 -1.1 28.2 -1.1 Q34.9 -1.1 39.45 1.15 Q44 3.4 46.75 6.85 Q49.5 10.3 50.7 14.5 Q51.9 18.7 51.9 22.6 Q51.9 27.5 50.4 31.7 Q48.9 35.9 46.15 39 Q43.4 42.1 39.35 43.85 Q35.3 45.6 30.2 45.6 Q24.4 45.6 19.95 43.4 Q15.5 41.2 12.5 36.3 L12.3 36.5 Q12.4 40.6 13.1 45.3 Q13.8 50 15.65 54.05 Q17.5 58.1 20.8 60.75 Q24.1 63.4 29.5 63.4 Q34.6 63.4 37.7 60.5 Q40.8 57.6 41.4 52.8 ZM28.6 38.1 Q32.2 38.1 34.9 36.8 Q37.6 35.5 39.4 33.35 Q41.2 31.2 42.05 28.25 Q42.9 25.3 42.9 22 Q42.9 18.9 41.95 16.05 Q41 13.2 39.2 11 Q37.4 8.8 34.75 7.55 Q32.1 6.3 28.6 6.3 Q25.1 6.3 22.35 7.55 Q19.6 8.8 17.75 10.9 Q15.9 13 14.9 15.9 Q13.9 18.8 13.9 22.1 Q13.9 25.4 14.85 28.35 Q15.8 31.3 17.7 33.45 Q19.6 35.6 22.3 36.85 Q25 38.1 28.6 38.1 Z\"\n",
       "        /><glyph unicode=\"4\" horiz-adv-x=\"55.6\" d=\"M33.9 24.1 L10.1 24.1 L33.7 58.8 L33.9 58.8 ZM41.9 24.1 L41.9 70.9 L35.1 70.9 L2.8 24.8 L2.8 16.6 L33.9 16.6 L33.9 0 L41.9 0 L41.9 16.6 L51.5 16.6 L51.5 24.1 Z\"\n",
       "        /><glyph unicode=\")\" horiz-adv-x=\"25.9\" d=\"M-0.9 -19.7 L5.5 -19.7 Q13.3 -9.4 17.25 2.55 Q21.2 14.5 21.2 26.3 Q21.2 32.9 20.1 38.9 Q19 44.9 16.95 50.65 Q14.9 56.4 12 61.95 Q9.1 67.5 5.5 73.1 L-0.9 73.1 Q6.1 61.6 9.15 50.25 Q12.2 38.9 12.2 26.3 Q12.2 14.1 9.2 2.85 Q6.2 -8.4 -0.9 -19.7 Z\"\n",
       "        /><glyph unicode=\"B\" horiz-adv-x=\"68.5\" d=\"M17.3 40.7 L17.3 63.4 L36.3 63.4 Q39.4 63.4 42.15 63.05 Q44.9 62.7 47 61.5 Q49.1 60.3 50.3 58.1 Q51.5 55.9 51.5 52.1 Q51.5 46.4 47.95 43.55 Q44.4 40.7 36.3 40.7 ZM7.8 71.4 L7.8 0 L42.3 0 Q47.6 0 51.65 1.75 Q55.7 3.5 58.45 6.35 Q61.2 9.2 62.6 12.9 Q64 16.6 64 20.5 Q64 27.1 60.5 31.7 Q57 36.3 50.4 37.7 L50.4 37.9 Q55.5 39.9 58.25 44.05 Q61 48.2 61 53.9 Q61 59.3 58.55 63 Q56.1 66.7 52.6 68.8 Q51 69.8 48.75 70.3 Q46.5 70.8 43.9 71.05 Q41.3 71.3 38.65 71.35 Q36 71.4 33.7 71.4 ZM17.3 8 L17.3 32.7 L39 32.7 Q42 32.7 44.8 32.15 Q47.6 31.6 49.75 30.25 Q51.9 28.9 53.2 26.6 Q54.5 24.3 54.5 20.8 Q54.5 14.8 50.95 11.4 Q47.4 8 41.1 8 Z\"\n",
       "        /><glyph unicode=\"(\" horiz-adv-x=\"25.9\" d=\"M20.4 -19.7 L26.9 -19.7 Q19.8 -8.2 16.75 3.1 Q13.7 14.4 13.7 27 Q13.7 39.3 16.7 50.5 Q19.7 61.7 26.9 73.1 L20.4 73.1 Q12.6 62.8 8.65 50.8 Q4.7 38.8 4.7 27 Q4.7 20.4 5.8 14.4 Q6.9 8.4 8.95 2.7 Q11 -3 13.9 -8.55 Q16.8 -14.1 20.4 -19.7 Z\"\n",
       "        /><glyph unicode=\" \" horiz-adv-x=\"27.8\" d=\"\"\n",
       "        /><glyph unicode=\"e\" horiz-adv-x=\"53.7\" d=\"M42.3 30.8 L12.6 30.8 Q12.8 33.8 13.9 36.45 Q15 39.1 16.9 41.1 Q18.8 43.1 21.45 44.25 Q24.1 45.4 27.4 45.4 Q30.6 45.4 33.25 44.25 Q35.9 43.1 37.85 41.15 Q39.8 39.2 40.95 36.5 Q42.1 33.8 42.3 30.8 ZM50.5 16.4 L42.1 16.4 Q41 11.3 37.55 8.8 Q34.1 6.3 28.7 6.3 Q24.5 6.3 21.4 7.7 Q18.3 9.1 16.3 11.45 Q14.3 13.8 13.4 16.85 Q12.5 19.9 12.6 23.3 L51.3 23.3 Q51.5 28 50.45 33.2 Q49.4 38.4 46.65 42.8 Q43.9 47.2 39.35 50.05 Q34.8 52.9 27.9 52.9 Q22.6 52.9 18.15 50.9 Q13.7 48.9 10.45 45.3 Q7.2 41.7 5.4 36.8 Q3.6 31.9 3.6 26 Q3.8 20.1 5.35 15.1 Q6.9 10.1 10 6.5 Q13.1 2.9 17.65 0.9 Q22.2 -1.1 28.4 -1.1 Q37.2 -1.1 43 3.3 Q48.8 7.7 50.5 16.4 Z\"\n",
       "        /><glyph unicode=\"d\" horiz-adv-x=\"59.3\" d=\"M12.6 25.4 Q12.6 29.2 13.4 32.8 Q14.2 36.4 16 39.2 Q17.8 42 20.8 43.7 Q23.8 45.4 28.1 45.4 Q32.5 45.4 35.6 43.75 Q38.7 42.1 40.65 39.4 Q42.6 36.7 43.5 33.15 Q44.4 29.6 44.4 25.8 Q44.4 22.2 43.55 18.7 Q42.7 15.2 40.8 12.45 Q38.9 9.7 35.9 8 Q32.9 6.3 28.6 6.3 Q24.5 6.3 21.45 7.9 Q18.4 9.5 16.45 12.2 Q14.5 14.9 13.55 18.35 Q12.6 21.8 12.6 25.4 ZM52.6 0 L52.6 71.4 L44.1 71.4 L44.1 44.8 L43.9 44.8 Q42.5 47.1 40.45 48.65 Q38.4 50.2 36.1 51.15 Q33.8 52.1 31.5 52.5 Q29.2 52.9 27.2 52.9 Q21.3 52.9 16.85 50.75 Q12.4 48.6 9.45 44.95 Q6.5 41.3 5.05 36.4 Q3.6 31.5 3.6 26 Q3.6 20.5 5.1 15.6 Q6.6 10.7 9.55 7 Q12.5 3.3 16.95 1.1 Q21.4 -1.1 27.4 -1.1 Q32.8 -1.1 37.3 0.8 Q41.8 2.7 43.9 7 L44.1 7 L44.1 0 Z\"\n",
       "        /><glyph unicode=\"u\" horiz-adv-x=\"55.6\" d=\"M49.2 0 L49.2 51.7 L40.7 51.7 L40.7 22.5 Q40.7 19 39.75 16.05 Q38.8 13.1 36.9 10.9 Q35 8.7 32.15 7.5 Q29.3 6.3 25.4 6.3 Q20.5 6.3 17.7 9.1 Q14.9 11.9 14.9 16.7 L14.9 51.7 L6.4 51.7 L6.4 17.7 Q6.4 13.5 7.25 10.05 Q8.1 6.6 10.2 4.1 Q12.3 1.6 15.7 0.25 Q19.1 -1.1 24.2 -1.1 Q29.9 -1.1 34.1 1.15 Q38.3 3.4 41 8.2 L41.2 8.2 L41.2 0 Z\"\n",
       "        /><glyph unicode=\"t\" horiz-adv-x=\"31.5\" d=\"M18.2 51.7 L18.2 67.2 L9.7 67.2 L9.7 51.7 L0.9 51.7 L0.9 44.2 L9.7 44.2 L9.7 11.3 Q9.7 7.7 10.4 5.5 Q11.1 3.3 12.55 2.1 Q14 0.9 16.35 0.45 Q18.7 0 22 0 L28.5 0 L28.5 7.5 L24.6 7.5 Q22.6 7.5 21.35 7.65 Q20.1 7.8 19.4 8.3 Q18.7 8.8 18.45 9.7 Q18.2 10.6 18.2 12.1 L18.2 44.2 L28.5 44.2 L28.5 51.7 Z\"\n",
       "        /><glyph unicode=\"i\" horiz-adv-x=\"22.2\" d=\"M15.4 61 L15.4 71.4 L6.9 71.4 L6.9 61 ZM6.9 51.7 L6.9 0 L15.4 0 L15.4 51.7 Z\"\n",
       "        /><glyph unicode=\"n\" horiz-adv-x=\"55.6\" d=\"M6.4 51.7 L6.4 0 L14.9 0 L14.9 29.2 Q14.9 32.7 15.85 35.65 Q16.8 38.6 18.7 40.8 Q20.6 43 23.45 44.2 Q26.3 45.4 30.2 45.4 Q35.1 45.4 37.9 42.6 Q40.7 39.8 40.7 35 L40.7 0 L49.2 0 L49.2 34 Q49.2 38.2 48.35 41.65 Q47.5 45.1 45.4 47.6 Q43.3 50.1 39.9 51.5 Q36.5 52.9 31.4 52.9 Q19.9 52.9 14.6 43.5 L14.4 43.5 L14.4 51.7 Z\"\n",
       "        /><glyph unicode=\"g\" horiz-adv-x=\"57.4\" d=\"M51 4.4 L51 51.7 L43 51.7 L43 44.3 L42.9 44.3 Q40.6 48.6 36.5 50.75 Q32.4 52.9 27.5 52.9 Q20.8 52.9 16.2 50.35 Q11.6 47.8 8.8 43.85 Q6 39.9 4.8 35.05 Q3.6 30.2 3.6 25.6 Q3.6 20.3 5.05 15.55 Q6.5 10.8 9.4 7.25 Q12.3 3.7 16.6 1.6 Q20.9 -0.5 26.7 -0.5 Q31.7 -0.5 36.15 1.75 Q40.6 4 42.8 8.8 L43 8.8 L43 5.4 Q43 1.1 42.15 -2.5 Q41.3 -6.1 39.4 -8.65 Q37.5 -11.2 34.6 -12.65 Q31.7 -14.1 27.5 -14.1 Q25.4 -14.1 23.1 -13.65 Q20.8 -13.2 18.85 -12.2 Q16.9 -11.2 15.55 -9.6 Q14.2 -8 14.1 -5.7 L5.6 -5.7 Q5.8 -9.9 7.8 -12.8 Q9.8 -15.7 12.85 -17.5 Q15.9 -19.3 19.65 -20.1 Q23.4 -20.9 27 -20.9 Q39.4 -20.9 45.2 -14.6 Q51 -8.3 51 4.4 ZM27.2 6.9 Q23 6.9 20.2 8.65 Q17.4 10.4 15.7 13.25 Q14 16.1 13.3 19.6 Q12.6 23.1 12.6 26.6 Q12.6 30.3 13.45 33.7 Q14.3 37.1 16.15 39.7 Q18 42.3 20.9 43.85 Q23.8 45.4 27.9 45.4 Q31.9 45.4 34.7 43.8 Q37.5 42.2 39.25 39.55 Q41 36.9 41.8 33.6 Q42.6 30.3 42.6 26.9 Q42.6 23.3 41.75 19.7 Q40.9 16.1 39.1 13.25 Q37.3 10.4 34.35 8.65 Q31.4 6.9 27.2 6.9 Z\"\n",
       "        /><glyph unicode=\"a\" horiz-adv-x=\"53.7\" d=\"M52.2 0.2 Q50 -1.1 46.1 -1.1 Q42.8 -1.1 40.85 0.75 Q38.9 2.6 38.9 6.8 Q35.4 2.6 30.75 0.75 Q26.1 -1.1 20.7 -1.1 Q17.2 -1.1 14.05 -0.3 Q10.9 0.5 8.6 2.2 Q6.3 3.9 4.95 6.65 Q3.6 9.4 3.6 13.3 Q3.6 17.7 5.1 20.5 Q6.6 23.3 9.05 25.05 Q11.5 26.8 14.65 27.7 Q17.8 28.6 21.1 29.2 Q24.6 29.9 27.75 30.25 Q30.9 30.6 33.3 31.25 Q35.7 31.9 37.1 33.15 Q38.5 34.4 38.5 36.8 Q38.5 39.6 37.45 41.3 Q36.4 43 34.75 43.9 Q33.1 44.8 31.05 45.1 Q29 45.4 27 45.4 Q21.6 45.4 18 43.35 Q14.4 41.3 14.1 35.6 L5.6 35.6 Q5.8 40.4 7.6 43.7 Q9.4 47 12.4 49.05 Q15.4 51.1 19.25 52 Q23.1 52.9 27.5 52.9 Q31 52.9 34.45 52.4 Q37.9 51.9 40.7 50.35 Q43.5 48.8 45.2 46 Q46.9 43.2 46.9 38.7 L46.9 12.1 Q46.9 9.1 47.25 7.7 Q47.6 6.3 49.6 6.3 Q50.7 6.3 52.2 6.8 ZM38.4 26.7 Q36.8 25.5 34.2 24.95 Q31.6 24.4 28.75 24.05 Q25.9 23.7 23 23.25 Q20.1 22.8 17.8 21.8 Q15.5 20.8 14.05 18.95 Q12.6 17.1 12.6 13.9 Q12.6 11.8 13.45 10.35 Q14.3 8.9 15.65 8 Q17 7.1 18.8 6.7 Q20.6 6.3 22.6 6.3 Q26.8 6.3 29.8 7.45 Q32.8 8.6 34.7 10.35 Q36.6 12.1 37.5 14.15 Q38.4 16.2 38.4 18 Z\"\n",
       "        /><glyph unicode=\"M\" horiz-adv-x=\"87.1\" d=\"M8 71.4 L8 0 L17 0 L17 59.4 L17.2 59.4 L39.5 0 L47.6 0 L69.9 59.4 L70.1 59.4 L70.1 0 L79.1 0 L79.1 71.4 L66.1 71.4 L43.5 11.4 L21 71.4 Z\"\n",
       "        /><glyph unicode=\"5\" horiz-adv-x=\"55.6\" d=\"M47 62.2 L47 69.7 L12 69.7 L5.4 32.9 L12.7 32.5 Q15.2 35.5 18.45 37.35 Q21.7 39.2 25.9 39.2 Q29.5 39.2 32.45 38 Q35.4 36.8 37.5 34.65 Q39.6 32.5 40.75 29.55 Q41.9 26.6 41.9 23.1 Q41.9 18.9 40.7 15.75 Q39.5 12.6 37.45 10.5 Q35.4 8.4 32.65 7.35 Q29.9 6.3 26.9 6.3 Q23.7 6.3 21.05 7.25 Q18.4 8.2 16.45 9.95 Q14.5 11.7 13.35 14.05 Q12.2 16.4 12 19.1 L3.5 19.1 Q3.6 14.3 5.4 10.5 Q7.2 6.7 10.3 4.15 Q13.4 1.6 17.45 0.25 Q21.5 -1.1 26.1 -1.1 Q32.3 -1.1 36.95 0.85 Q41.6 2.8 44.7 6.1 Q47.8 9.4 49.35 13.65 Q50.9 17.9 50.9 22.4 Q50.9 28.5 49.1 33.05 Q47.3 37.6 44.2 40.65 Q41.1 43.7 36.9 45.2 Q32.7 46.7 28 46.7 Q24.4 46.7 20.75 45.45 Q17.1 44.2 14.8 41.6 L14.6 41.8 L18.4 62.2 Z\"\n",
       "        /><glyph unicode=\"7\" horiz-adv-x=\"55.6\" d=\"M50.9 62.4 L50.9 69.7 L5 69.7 L5 61.7 L42.2 61.7 Q36.6 55.8 31.75 48.8 Q26.9 41.8 23.2 33.95 Q19.5 26.1 17.15 17.55 Q14.8 9 14.2 0 L23.7 0 Q24.2 8.3 26.5 17.1 Q28.8 25.9 32.45 34.2 Q36.1 42.5 40.8 49.8 Q45.5 57.1 50.9 62.4 Z\"\n",
       "        /><glyph unicode=\"3\" horiz-adv-x=\"55.6\" d=\"M21.8 40.5 L21.8 33.3 Q24.2 33.6 26.9 33.6 Q30.1 33.6 32.85 32.75 Q35.6 31.9 37.6 30.15 Q39.6 28.4 40.8 25.85 Q42 23.3 42 20 Q42 16.8 40.75 14.25 Q39.5 11.7 37.4 9.95 Q35.3 8.2 32.5 7.25 Q29.7 6.3 26.6 6.3 Q19.3 6.3 15.5 10.65 Q11.7 15 11.5 21.9 L3 21.9 Q2.9 16.4 4.55 12.1 Q6.2 7.8 9.3 4.85 Q12.4 1.9 16.8 0.4 Q21.2 -1.1 26.6 -1.1 Q31.6 -1.1 36.05 0.25 Q40.5 1.6 43.8 4.3 Q47.1 7 49.05 11.05 Q51 15.1 51 20.4 Q51 26.8 47.85 31.5 Q44.7 36.2 38.2 37.6 L38.2 37.8 Q42.4 39.7 45.2 43.4 Q48 47.1 48 51.9 Q48 56.8 46.35 60.4 Q44.7 64 41.8 66.3 Q38.9 68.6 34.95 69.75 Q31 70.9 26.4 70.9 Q21.1 70.9 17.05 69.2 Q13 67.5 10.3 64.5 Q7.6 61.5 6.15 57.3 Q4.7 53.1 4.5 48 L13 48 Q13 51.1 13.8 53.9 Q14.6 56.7 16.25 58.8 Q17.9 60.9 20.45 62.15 Q23 63.4 26.4 63.4 Q31.8 63.4 35.4 60.55 Q39 57.7 39 52 Q39 49.2 37.9 47 Q36.8 44.8 34.95 43.35 Q33.1 41.9 30.65 41.15 Q28.2 40.4 25.5 40.4 L23.7 40.4 Q23.2 40.4 22.7 40.4 Q22.3 40.4 21.8 40.5 Z\"\n",
       "        /><glyph unicode=\"9\" horiz-adv-x=\"55.6\" d=\"M13.4 17.1 L4.9 17.1 Q5.7 7.9 11.6 3.4 Q17.5 -1.1 26.4 -1.1 Q39.3 -1.1 45.15 8.75 Q51 18.6 51 37 Q51 47.1 49.05 53.65 Q47.1 60.2 43.8 64 Q40.5 67.8 36.1 69.35 Q31.7 70.9 26.7 70.9 Q21.6 70.9 17.3 69.2 Q13 67.5 9.9 64.45 Q6.8 61.4 5.1 57.15 Q3.4 52.9 3.4 47.8 Q3.4 42.6 4.85 38.2 Q6.3 33.8 9.15 30.7 Q12 27.6 16.2 25.85 Q20.4 24.1 25.8 24.1 Q31 24.1 35.4 26.75 Q39.8 29.4 42.2 33.9 L42.4 33.7 Q42 19.8 38.1 13.05 Q34.2 6.3 26.4 6.3 Q21.3 6.3 17.6 9.1 Q13.9 11.9 13.4 17.1 ZM40.9 47.2 Q40.9 44.1 39.9 41.25 Q38.9 38.4 37 36.25 Q35.1 34.1 32.4 32.85 Q29.7 31.6 26.4 31.6 Q23.3 31.6 20.75 32.85 Q18.2 34.1 16.35 36.2 Q14.5 38.3 13.45 41 Q12.4 43.7 12.4 46.6 Q12.4 49.9 13.15 52.9 Q13.9 55.9 15.55 58.25 Q17.2 60.6 19.85 62 Q22.5 63.4 26.3 63.4 Q29.9 63.4 32.6 62.1 Q35.3 60.8 37.15 58.55 Q39 56.3 39.95 53.4 Q40.9 50.5 40.9 47.2 Z\"\n",
       "        /><glyph unicode=\"s\" horiz-adv-x=\"50.0\" d=\"M11.6 16.3 L3.1 16.3 Q3.3 11.5 5.1 8.15 Q6.9 4.8 9.9 2.75 Q12.9 0.7 16.8 -0.2 Q20.7 -1.1 25 -1.1 Q28.9 -1.1 32.85 -0.35 Q36.8 0.4 39.95 2.3 Q43.1 4.2 45.05 7.3 Q47 10.4 47 15.1 Q47 18.8 45.55 21.3 Q44.1 23.8 41.75 25.45 Q39.4 27.1 36.35 28.1 Q33.3 29.1 30.1 29.8 Q27.1 30.5 24.1 31.15 Q21.1 31.8 18.7 32.75 Q16.3 33.7 14.75 35.15 Q13.2 36.6 13.2 38.8 Q13.2 40.8 14.2 42.05 Q15.2 43.3 16.8 44.05 Q18.4 44.8 20.35 45.1 Q22.3 45.4 24.2 45.4 Q26.3 45.4 28.35 44.95 Q30.4 44.5 32.1 43.5 Q33.8 42.5 34.9 40.85 Q36 39.2 36.2 36.7 L44.7 36.7 Q44.4 41.4 42.7 44.55 Q41 47.7 38.15 49.55 Q35.3 51.4 31.6 52.15 Q27.9 52.9 23.5 52.9 Q20.1 52.9 16.65 52.05 Q13.2 51.2 10.45 49.45 Q7.7 47.7 5.95 44.9 Q4.2 42.1 4.2 38.2 Q4.2 33.2 6.7 30.4 Q9.2 27.6 12.95 26.05 Q16.7 24.5 21.1 23.65 Q25.5 22.8 29.25 21.75 Q33 20.7 35.5 19 Q38 17.3 38 14 Q38 11.6 36.8 10.05 Q35.6 8.5 33.75 7.7 Q31.9 6.9 29.7 6.6 Q27.5 6.3 25.5 6.3 Q22.9 6.3 20.45 6.8 Q18 7.3 16.05 8.45 Q14.1 9.6 12.9 11.55 Q11.7 13.5 11.6 16.3 Z\"\n",
       "        /><glyph unicode=\"h\" horiz-adv-x=\"55.6\" d=\"M6.4 71.4 L6.4 0 L14.9 0 L14.9 29.2 Q14.9 32.7 15.85 35.65 Q16.8 38.6 18.7 40.8 Q20.6 43 23.45 44.2 Q26.3 45.4 30.2 45.4 Q35.1 45.4 37.9 42.6 Q40.7 39.8 40.7 35 L40.7 0 L49.2 0 L49.2 34 Q49.2 38.2 48.35 41.65 Q47.5 45.1 45.4 47.6 Q43.3 50.1 39.9 51.5 Q36.5 52.9 31.4 52.9 Q29.1 52.9 26.65 52.4 Q24.2 51.9 21.95 50.85 Q19.7 49.8 17.9 48.15 Q16.1 46.5 15.1 44.1 L14.9 44.1 L14.9 71.4 Z\"\n",
       "        /><glyph unicode=\"P\" horiz-adv-x=\"64.8\" d=\"M17.3 37.2 L17.3 63.4 L35.9 63.4 Q44 63.4 47.75 60.05 Q51.5 56.7 51.5 50.3 Q51.5 43.9 47.75 40.5 Q44 37.1 35.9 37.2 ZM7.8 71.4 L7.8 0 L17.3 0 L17.3 29.2 L39.1 29.2 Q49.9 29.1 55.45 34.7 Q61 40.3 61 50.3 Q61 60.3 55.45 65.85 Q49.9 71.4 39.1 71.4 Z\"\n",
       "        /><glyph unicode=\"/\" horiz-adv-x=\"33.3\" d=\"M27.8 73.1 L-1.7 -1.6 L5.5 -1.6 L35.1 73.1 Z\"\n",
       "        /><glyph unicode=\"y\" horiz-adv-x=\"50.0\" d=\"M26.7 -6.9 Q25.2 -10.7 23.75 -13.3 Q22.3 -15.9 20.55 -17.55 Q18.8 -19.2 16.65 -19.95 Q14.5 -20.7 11.7 -20.7 Q10.2 -20.7 8.7 -20.5 Q7.2 -20.3 5.8 -19.8 L5.8 -12 Q6.9 -12.5 8.35 -12.85 Q9.8 -13.2 10.8 -13.2 Q13.4 -13.2 15.15 -11.95 Q16.9 -10.7 17.8 -8.4 L21.3 0.3 L0.8 51.7 L10.4 51.7 L25.5 9.4 L25.7 9.4 L40.2 51.7 L49.2 51.7 Z\"\n",
       "        /><glyph unicode=\"c\" horiz-adv-x=\"53.7\" d=\"M41.5 35.1 L50.3 35.1 Q49.8 39.7 47.9 43.05 Q46 46.4 43.05 48.6 Q40.1 50.8 36.25 51.85 Q32.4 52.9 28 52.9 Q21.9 52.9 17.3 50.75 Q12.7 48.6 9.65 44.85 Q6.6 41.1 5.1 36.05 Q3.6 31 3.6 25.2 Q3.6 19.4 5.15 14.55 Q6.7 9.7 9.75 6.2 Q12.8 2.7 17.35 0.8 Q21.9 -1.1 27.8 -1.1 Q37.7 -1.1 43.45 4.1 Q49.2 9.3 50.6 18.9 L41.9 18.9 Q41.1 12.9 37.55 9.6 Q34 6.3 27.7 6.3 Q23.7 6.3 20.8 7.9 Q17.9 9.5 16.1 12.15 Q14.3 14.8 13.45 18.2 Q12.6 21.6 12.6 25.2 Q12.6 29.1 13.4 32.75 Q14.2 36.4 16.05 39.2 Q17.9 42 21 43.7 Q24.1 45.4 28.7 45.4 Q34.1 45.4 37.3 42.7 Q40.5 40 41.5 35.1 Z\"\n",
       "        /><glyph unicode=\"q\" horiz-adv-x=\"59.3\" d=\"M12.6 25.4 Q12.6 29.2 13.4 32.8 Q14.2 36.4 16 39.2 Q17.8 42 20.8 43.7 Q23.8 45.4 28.1 45.4 Q32.5 45.4 35.6 43.75 Q38.7 42.1 40.65 39.4 Q42.6 36.7 43.5 33.15 Q44.4 29.6 44.4 25.8 Q44.4 22.2 43.55 18.7 Q42.7 15.2 40.8 12.45 Q38.9 9.7 35.9 8 Q32.9 6.3 28.6 6.3 Q24.5 6.3 21.45 7.9 Q18.4 9.5 16.45 12.2 Q14.5 14.9 13.55 18.35 Q12.6 21.8 12.6 25.4 ZM52.6 -19.7 L52.6 51.7 L44.1 51.7 L44.1 44.8 L43.9 44.8 Q42.5 47.1 40.45 48.65 Q38.4 50.2 36.1 51.15 Q33.8 52.1 31.5 52.5 Q29.2 52.9 27.2 52.9 Q21.3 52.9 16.85 50.75 Q12.4 48.6 9.45 44.95 Q6.5 41.3 5.05 36.4 Q3.6 31.5 3.6 26 Q3.6 20.5 5.1 15.6 Q6.6 10.7 9.55 7 Q12.5 3.3 16.95 1.1 Q21.4 -1.1 27.4 -1.1 Q32.8 -1.1 37.3 0.8 Q41.8 2.7 43.9 7 L44.1 7 L44.1 -19.7 Z\"\n",
       "        /><glyph unicode=\"r\" horiz-adv-x=\"33.3\" d=\"M6.1 51.7 L6.1 0 L14.6 0 L14.6 23 Q14.6 28 15.6 31.85 Q16.6 35.7 18.8 38.4 Q21 41.1 24.6 42.5 Q28.2 43.9 33.3 43.9 L33.3 52.9 Q26.4 53.1 21.9 50.1 Q17.4 47.1 14.3 40.8 L14.1 40.8 L14.1 51.7 Z\"\n",
       "        /><glyph unicode=\"F\" horiz-adv-x=\"57.4\" d=\"M7.8 71.4 L7.8 0 L17.3 0 L17.3 32.7 L50.1 32.7 L50.1 40.7 L17.3 40.7 L17.3 63.4 L54.7 63.4 L54.7 71.4 Z\"\n",
       "      /></font\n",
       "      ><font horiz-adv-x=\"50.0\" id=\"font2\"\n",
       "      ><font-face ascent=\"97.5\" descent=\"21.699999\" units-per-em=\"100\" style=\"font-style:normal; font-family:Helvetica Neue; font-weight:bold;\"\n",
       "        /><missing-glyph horiz-adv-x=\"50.0\" d=\"M39.1 60.7 L11.1 60.7 L11.1 9.5 L39.1 9.5 ZM48.2 69.8 L48.2 0.3 L1.7 0.3 L1.7 69.8 Z\"\n",
       "        /><glyph unicode=\"m\" horiz-adv-x=\"90.6\" d=\"M5.8 51.7 L5.8 0 L20 0 L20 30 Q20 33.8 21.1 36.15 Q22.2 38.5 23.75 39.75 Q25.3 41 26.95 41.45 Q28.6 41.9 29.6 41.9 Q33 41.9 34.75 40.75 Q36.5 39.6 37.25 37.7 Q38 35.8 38.1 33.55 Q38.2 31.3 38.2 29 L38.2 0 L52.4 0 L52.4 28.8 Q52.4 31.2 52.75 33.55 Q53.1 35.9 54.15 37.75 Q55.2 39.6 57.05 40.75 Q58.9 41.9 61.9 41.9 Q64.9 41.9 66.65 40.9 Q68.4 39.9 69.3 38.2 Q70.2 36.5 70.4 34.2 Q70.6 31.9 70.6 29.3 L70.6 0 L84.8 0 L84.8 34.6 Q84.8 39.6 83.4 43.15 Q82 46.7 79.5 48.9 Q77 51.1 73.5 52.1 Q70 53.1 65.9 53.1 Q60.5 53.1 56.55 50.5 Q52.6 47.9 50.3 44.5 Q48.2 49.3 44.15 51.2 Q40.1 53.1 35.2 53.1 Q30.1 53.1 26.15 50.9 Q22.2 48.7 19.4 44.7 L19.2 44.7 L19.2 51.7 Z\"\n",
       "        /><glyph unicode=\"r\" horiz-adv-x=\"38.9\" d=\"M5.4 51.7 L5.4 0 L19.6 0 L19.6 23.3 Q19.6 26.8 20.3 29.8 Q21 32.8 22.65 35.05 Q24.3 37.3 27 38.6 Q29.7 39.9 33.6 39.9 Q34.9 39.9 36.3 39.75 Q37.7 39.6 38.7 39.4 L38.7 52.6 Q37 53.1 35.6 53.1 Q32.9 53.1 30.4 52.3 Q27.9 51.5 25.7 50.05 Q23.5 48.6 21.8 46.55 Q20.1 44.5 19.1 42.1 L18.9 42.1 L18.9 51.7 Z\"\n",
       "        /><glyph unicode=\"g\" horiz-adv-x=\"61.1\" d=\"M29.5 12.2 Q26.2 12.2 24 13.6 Q21.8 15 20.45 17.2 Q19.1 19.4 18.55 22.15 Q18 24.9 18 27.7 Q18 30.6 18.65 33.25 Q19.3 35.9 20.75 37.95 Q22.2 40 24.35 41.2 Q26.5 42.4 29.5 42.4 Q33 42.4 35.3 41.1 Q37.6 39.8 39 37.6 Q40.4 35.4 41 32.55 Q41.6 29.7 41.6 26.5 Q41.6 23.7 40.85 21.15 Q40.1 18.6 38.6 16.6 Q37.1 14.6 34.8 13.4 Q32.5 12.2 29.5 12.2 ZM55.1 3.3 L55.1 51.7 L41.6 51.7 L41.6 44.8 L41.4 44.8 Q38.8 49.3 34.95 51.2 Q31.1 53.1 26 53.1 Q20.6 53.1 16.45 51 Q12.3 48.9 9.5 45.35 Q6.7 41.8 5.25 37.15 Q3.8 32.5 3.8 27.5 Q3.8 22.2 5.05 17.45 Q6.3 12.7 9 9.15 Q11.7 5.6 15.9 3.55 Q20.1 1.5 25.9 1.5 Q30.6 1.5 34.85 3.45 Q39.1 5.4 41.4 9.5 L41.6 9.5 L41.6 2.7 Q41.7 -2.8 38.95 -6.4 Q36.2 -10 30.2 -10 Q26.4 -10 23.5 -8.45 Q20.6 -6.9 19.6 -2.9 L5.5 -2.9 Q5.8 -7.3 7.95 -10.45 Q10.1 -13.6 13.35 -15.6 Q16.6 -17.6 20.55 -18.55 Q24.5 -19.5 28.3 -19.5 Q37.2 -19.5 42.5 -17.1 Q47.8 -14.7 50.6 -11.25 Q53.4 -7.8 54.25 -3.8 Q55.1 0.2 55.1 3.3 Z\"\n",
       "        /><glyph unicode=\"a\" horiz-adv-x=\"57.4\" d=\"M4.8 35.8 Q5.1 40.8 7.3 44.1 Q9.5 47.4 12.9 49.4 Q16.3 51.4 20.55 52.25 Q24.8 53.1 29.1 53.1 Q33 53.1 37 52.55 Q41 52 44.3 50.4 Q47.6 48.8 49.7 45.95 Q51.8 43.1 51.8 38.4 L51.8 11.5 Q51.8 8 52.2 4.8 Q52.6 1.6 53.6 0 L39.2 0 Q38.8 1.2 38.55 2.45 Q38.3 3.7 38.2 5 Q34.8 1.5 30.2 0.1 Q25.6 -1.3 20.8 -1.3 Q17.1 -1.3 13.9 -0.4 Q10.7 0.5 8.3 2.4 Q5.9 4.3 4.55 7.2 Q3.2 10.1 3.2 14.1 Q3.2 18.5 4.75 21.35 Q6.3 24.2 8.75 25.9 Q11.2 27.6 14.35 28.45 Q17.5 29.3 20.7 29.8 Q23.9 30.3 27 30.6 Q30.1 30.9 32.5 31.5 Q34.9 32.1 36.3 33.25 Q37.7 34.4 37.6 36.6 Q37.6 38.9 36.85 40.25 Q36.1 41.6 34.85 42.35 Q33.6 43.1 31.95 43.35 Q30.3 43.6 28.4 43.6 Q24.2 43.6 21.8 41.8 Q19.4 40 19 35.8 ZM37.6 25.3 Q36.7 24.5 35.35 24.05 Q34 23.6 32.45 23.3 Q30.9 23 29.2 22.8 Q27.5 22.6 25.8 22.3 Q24.2 22 22.65 21.5 Q21.1 21 19.95 20.15 Q18.8 19.3 18.1 18 Q17.4 16.7 17.4 14.7 Q17.4 12.8 18.1 11.5 Q18.8 10.2 20 9.45 Q21.2 8.7 22.8 8.4 Q24.4 8.1 26.1 8.1 Q30.3 8.1 32.6 9.5 Q34.9 10.9 36 12.85 Q37.1 14.8 37.35 16.8 Q37.6 18.8 37.6 20 Z\"\n",
       "        /><glyph unicode=\"i\" horiz-adv-x=\"25.8\" d=\"M20 59.7 L20 71.4 L5.8 71.4 L5.8 59.7 ZM5.8 51.7 L5.8 0 L20 0 L20 51.7 Z\"\n",
       "        /><glyph unicode=\"D\" horiz-adv-x=\"74.1\" d=\"M22.6 13.2 L22.6 58.2 L33.8 58.2 Q39.6 58.2 43.55 56.55 Q47.5 54.9 49.9 51.8 Q52.3 48.7 53.35 44.35 Q54.4 40 54.4 34.6 Q54.4 28.7 52.9 24.6 Q51.4 20.5 48.9 17.95 Q46.4 15.4 43.2 14.3 Q40 13.2 36.6 13.2 ZM6.9 71.4 L6.9 0 L37.7 0 Q45.9 0 51.95 2.75 Q58 5.5 62.05 10.3 Q66.1 15.1 68.1 21.7 Q70.1 28.3 70.1 36.1 Q70.1 45 67.65 51.6 Q65.2 58.2 60.85 62.6 Q56.5 67 50.55 69.2 Q44.6 71.4 37.7 71.4 Z\"\n",
       "        /><glyph unicode=\" \" horiz-adv-x=\"27.8\" d=\"\"\n",
       "        /><glyph unicode=\"e\" horiz-adv-x=\"57.4\" d=\"M40.2 31.4 L17.1 31.4 Q17.2 32.9 17.75 34.8 Q18.3 36.7 19.65 38.4 Q21 40.1 23.25 41.25 Q25.5 42.4 28.9 42.4 Q34.1 42.4 36.65 39.6 Q39.2 36.8 40.2 31.4 ZM17.1 22.4 L54.4 22.4 Q54.8 28.4 53.4 33.9 Q52 39.4 48.85 43.7 Q45.7 48 40.8 50.55 Q35.9 53.1 29.3 53.1 Q23.4 53.1 18.55 51 Q13.7 48.9 10.2 45.25 Q6.7 41.6 4.8 36.6 Q2.9 31.6 2.9 25.8 Q2.9 19.8 4.75 14.8 Q6.6 9.8 10 6.2 Q13.4 2.6 18.3 0.65 Q23.2 -1.3 29.3 -1.3 Q38.1 -1.3 44.3 2.7 Q50.5 6.7 53.5 16 L41 16 Q40.3 13.6 37.2 11.45 Q34.1 9.3 29.8 9.3 Q23.8 9.3 20.6 12.4 Q17.4 15.5 17.1 22.4 Z\"\n",
       "        /><glyph unicode=\"d\" horiz-adv-x=\"61.1\" d=\"M42.1 26 Q42.1 22.8 41.5 19.8 Q40.9 16.8 39.5 14.45 Q38.1 12.1 35.75 10.7 Q33.4 9.3 29.9 9.3 Q26.6 9.3 24.25 10.75 Q21.9 12.2 20.35 14.55 Q18.8 16.9 18.1 19.9 Q17.4 22.9 17.4 25.9 Q17.4 29.1 18.05 32.05 Q18.7 35 20.15 37.3 Q21.6 39.6 24 41 Q26.4 42.4 29.9 42.4 Q33.4 42.4 35.7 41 Q38 39.6 39.45 37.35 Q40.9 35.1 41.5 32.15 Q42.1 29.2 42.1 26 ZM42.3 6.6 L42.3 0 L55.8 0 L55.8 71.4 L41.6 71.4 L41.6 45.4 L41.4 45.4 Q39 49.2 34.85 51.15 Q30.7 53.1 26.1 53.1 Q20.4 53.1 16.1 50.85 Q11.8 48.6 8.95 44.9 Q6.1 41.2 4.65 36.35 Q3.2 31.5 3.2 26.3 Q3.2 20.9 4.65 15.9 Q6.1 10.9 8.95 7.05 Q11.8 3.2 16.2 0.95 Q20.6 -1.3 26.4 -1.3 Q31.5 -1.3 35.55 0.55 Q39.6 2.4 42.1 6.6 Z\"\n",
       "        /><glyph unicode=\"o\" horiz-adv-x=\"61.1\" d=\"M18 25.8 Q18 28.9 18.6 31.9 Q19.2 34.9 20.65 37.2 Q22.1 39.5 24.5 40.95 Q26.9 42.4 30.5 42.4 Q34.1 42.4 36.55 40.95 Q39 39.5 40.45 37.2 Q41.9 34.9 42.5 31.9 Q43.1 28.9 43.1 25.8 Q43.1 22.7 42.5 19.75 Q41.9 16.8 40.45 14.45 Q39 12.1 36.55 10.7 Q34.1 9.3 30.5 9.3 Q26.9 9.3 24.5 10.7 Q22.1 12.1 20.65 14.45 Q19.2 16.8 18.6 19.75 Q18 22.7 18 25.8 ZM3.8 25.8 Q3.8 19.6 5.7 14.6 Q7.6 9.6 11.1 6.05 Q14.6 2.5 19.5 0.6 Q24.4 -1.3 30.5 -1.3 Q36.6 -1.3 41.55 0.6 Q46.5 2.5 50 6.05 Q53.5 9.6 55.4 14.6 Q57.3 19.6 57.3 25.8 Q57.3 32 55.4 37.05 Q53.5 42.1 50 45.65 Q46.5 49.2 41.55 51.15 Q36.6 53.1 30.5 53.1 Q24.4 53.1 19.5 51.15 Q14.6 49.2 11.1 45.65 Q7.6 42.1 5.7 37.05 Q3.8 32 3.8 25.8 Z\"\n",
       "        /><glyph unicode=\"B\" horiz-adv-x=\"70.4\" d=\"M22.6 42.5 L22.6 59.2 L37.3 59.2 Q39.4 59.2 41.35 58.85 Q43.3 58.5 44.8 57.6 Q46.3 56.7 47.2 55.1 Q48.1 53.5 48.1 51 Q48.1 46.5 45.4 44.5 Q42.7 42.5 38.5 42.5 ZM6.9 71.4 L6.9 0 L41.5 0 Q46.3 0 50.85 1.2 Q55.4 2.4 58.95 4.9 Q62.5 7.4 64.6 11.35 Q66.7 15.3 66.7 20.7 Q66.7 27.4 63.45 32.15 Q60.2 36.9 53.6 38.8 Q58.4 41.1 60.85 44.7 Q63.3 48.3 63.3 53.7 Q63.3 58.7 61.65 62.1 Q60 65.5 57 67.55 Q54 69.6 49.8 70.5 Q45.6 71.4 40.5 71.4 ZM22.6 12.2 L22.6 31.8 L39.7 31.8 Q44.8 31.8 47.9 29.45 Q51 27.1 51 21.6 Q51 18.8 50.05 17 Q49.1 15.2 47.5 14.15 Q45.9 13.1 43.8 12.65 Q41.7 12.2 39.4 12.2 Z\"\n",
       "      /></font\n",
       "    ></defs\n",
       "    ><g style=\"fill:white; stroke:white;\"\n",
       "    ><rect x=\"0\" y=\"0\" width=\"560\" style=\"clip-path:url(#clipPath1); stroke:none;\" height=\"420\"\n",
       "    /></g\n",
       "    ><g style=\"fill:white; text-rendering:optimizeSpeed; color-rendering:optimizeSpeed; image-rendering:optimizeSpeed; shape-rendering:crispEdges; stroke:white; color-interpolation:sRGB;\"\n",
       "    ><rect x=\"0\" width=\"560\" height=\"420\" y=\"0\" style=\"stroke:none;\"\n",
       "      /><path style=\"stroke:none;\" d=\"M85 216 L507 216 L507 51.5 L85 51.5 Z\"\n",
       "    /></g\n",
       "    ><g style=\"fill-opacity:0.251; color-rendering:optimizeQuality; color-interpolation:linearRGB; text-rendering:geometricPrecision; stroke:rgb(102,102,102); stroke-linecap:butt; stroke-miterlimit:1; stroke-opacity:0.251; fill:rgb(102,102,102); stroke-dasharray:1,3; stroke-width:0.5; stroke-linejoin:bevel; image-rendering:optimizeQuality;\"\n",
       "    ><line y2=\"51.5\" style=\"fill:none;\" x1=\"116.7587\" x2=\"116.7587\" y1=\"216\"\n",
       "      /><line y2=\"51.5\" style=\"fill:none;\" x1=\"135.3363\" x2=\"135.3363\" y1=\"216\"\n",
       "      /><line y2=\"51.5\" style=\"fill:none;\" x1=\"148.5173\" x2=\"148.5173\" y1=\"216\"\n",
       "      /><line y2=\"51.5\" style=\"fill:none;\" x1=\"158.7413\" x2=\"158.7413\" y1=\"216\"\n",
       "      /><line y2=\"51.5\" style=\"fill:none;\" x1=\"167.095\" x2=\"167.095\" y1=\"216\"\n",
       "      /><line y2=\"51.5\" style=\"fill:none;\" x1=\"174.1578\" x2=\"174.1578\" y1=\"216\"\n",
       "      /><line y2=\"51.5\" style=\"fill:none;\" x1=\"180.276\" x2=\"180.276\" y1=\"216\"\n",
       "      /><line y2=\"51.5\" style=\"fill:none;\" x1=\"185.6726\" x2=\"185.6726\" y1=\"216\"\n",
       "      /><line y2=\"51.5\" style=\"fill:none;\" x1=\"222.2587\" x2=\"222.2587\" y1=\"216\"\n",
       "      /><line y2=\"51.5\" style=\"fill:none;\" x1=\"240.8363\" x2=\"240.8363\" y1=\"216\"\n",
       "      /><line y2=\"51.5\" style=\"fill:none;\" x1=\"254.0173\" x2=\"254.0173\" y1=\"216\"\n",
       "      /><line y2=\"51.5\" style=\"fill:none;\" x1=\"264.2413\" x2=\"264.2413\" y1=\"216\"\n",
       "      /><line y2=\"51.5\" style=\"fill:none;\" x1=\"272.595\" x2=\"272.595\" y1=\"216\"\n",
       "      /><line y2=\"51.5\" style=\"fill:none;\" x1=\"279.6578\" x2=\"279.6578\" y1=\"216\"\n",
       "      /><line y2=\"51.5\" style=\"fill:none;\" x1=\"285.776\" x2=\"285.776\" y1=\"216\"\n",
       "      /><line y2=\"51.5\" style=\"fill:none;\" x1=\"291.1726\" x2=\"291.1726\" y1=\"216\"\n",
       "      /><line y2=\"51.5\" style=\"fill:none;\" x1=\"327.7587\" x2=\"327.7587\" y1=\"216\"\n",
       "      /><line y2=\"51.5\" style=\"fill:none;\" x1=\"346.3363\" x2=\"346.3363\" y1=\"216\"\n",
       "      /><line y2=\"51.5\" style=\"fill:none;\" x1=\"359.5173\" x2=\"359.5173\" y1=\"216\"\n",
       "      /><line y2=\"51.5\" style=\"fill:none;\" x1=\"369.7413\" x2=\"369.7413\" y1=\"216\"\n",
       "      /><line y2=\"51.5\" style=\"fill:none;\" x1=\"378.095\" x2=\"378.095\" y1=\"216\"\n",
       "      /><line y2=\"51.5\" style=\"fill:none;\" x1=\"385.1578\" x2=\"385.1578\" y1=\"216\"\n",
       "      /><line y2=\"51.5\" style=\"fill:none;\" x1=\"391.276\" x2=\"391.276\" y1=\"216\"\n",
       "      /><line y2=\"51.5\" style=\"fill:none;\" x1=\"396.6726\" x2=\"396.6726\" y1=\"216\"\n",
       "      /><line y2=\"51.5\" style=\"fill:none;\" x1=\"433.2587\" x2=\"433.2587\" y1=\"216\"\n",
       "      /><line y2=\"51.5\" style=\"fill:none;\" x1=\"451.8363\" x2=\"451.8363\" y1=\"216\"\n",
       "      /><line y2=\"51.5\" style=\"fill:none;\" x1=\"465.0173\" x2=\"465.0173\" y1=\"216\"\n",
       "      /><line y2=\"51.5\" style=\"fill:none;\" x1=\"475.2413\" x2=\"475.2413\" y1=\"216\"\n",
       "      /><line y2=\"51.5\" style=\"fill:none;\" x1=\"483.595\" x2=\"483.595\" y1=\"216\"\n",
       "      /><line y2=\"51.5\" style=\"fill:none;\" x1=\"490.6578\" x2=\"490.6578\" y1=\"216\"\n",
       "      /><line y2=\"51.5\" style=\"fill:none;\" x1=\"496.776\" x2=\"496.776\" y1=\"216\"\n",
       "      /><line y2=\"51.5\" style=\"fill:none;\" x1=\"502.1726\" x2=\"502.1726\" y1=\"216\"\n",
       "    /></g\n",
       "    ><g style=\"stroke-linecap:butt; fill-opacity:0.149; fill:rgb(38,38,38); text-rendering:geometricPrecision; image-rendering:optimizeQuality; color-rendering:optimizeQuality; stroke-linejoin:round; stroke:rgb(38,38,38); color-interpolation:linearRGB; stroke-width:0.5; stroke-opacity:0.149;\"\n",
       "    ><line y2=\"51.5\" style=\"fill:none;\" x1=\"85\" x2=\"85\" y1=\"216\"\n",
       "      /><line y2=\"51.5\" style=\"fill:none;\" x1=\"190.5\" x2=\"190.5\" y1=\"216\"\n",
       "      /><line y2=\"51.5\" style=\"fill:none;\" x1=\"296\" x2=\"296\" y1=\"216\"\n",
       "      /><line y2=\"51.5\" style=\"fill:none;\" x1=\"401.5\" x2=\"401.5\" y1=\"216\"\n",
       "      /><line y2=\"51.5\" style=\"fill:none;\" x1=\"507\" x2=\"507\" y1=\"216\"\n",
       "      /><line y2=\"216\" style=\"fill:none;\" x1=\"507\" x2=\"85\" y1=\"216\"\n",
       "      /><line y2=\"188.5833\" style=\"fill:none;\" x1=\"507\" x2=\"85\" y1=\"188.5833\"\n",
       "      /><line y2=\"161.1667\" style=\"fill:none;\" x1=\"507\" x2=\"85\" y1=\"161.1667\"\n",
       "      /><line y2=\"133.75\" style=\"fill:none;\" x1=\"507\" x2=\"85\" y1=\"133.75\"\n",
       "      /><line y2=\"106.3333\" style=\"fill:none;\" x1=\"507\" x2=\"85\" y1=\"106.3333\"\n",
       "      /><line y2=\"78.9167\" style=\"fill:none;\" x1=\"507\" x2=\"85\" y1=\"78.9167\"\n",
       "      /><line y2=\"51.5\" style=\"fill:none;\" x1=\"507\" x2=\"85\" y1=\"51.5\"\n",
       "    /></g\n",
       "    ><g style=\"fill:rgb(102,102,102); text-rendering:geometricPrecision; image-rendering:optimizeQuality; color-rendering:optimizeQuality; stroke-linejoin:round; stroke:rgb(102,102,102); color-interpolation:linearRGB; stroke-width:0.5;\"\n",
       "    ><line y2=\"216\" style=\"fill:none;\" x1=\"85\" x2=\"507\" y1=\"216\"\n",
       "      /><line y2=\"51.5\" style=\"fill:none;\" x1=\"85\" x2=\"507\" y1=\"51.5\"\n",
       "      /><line y2=\"211.78\" style=\"fill:none;\" x1=\"85\" x2=\"85\" y1=\"216\"\n",
       "      /><line y2=\"211.78\" style=\"fill:none;\" x1=\"190.5\" x2=\"190.5\" y1=\"216\"\n",
       "      /><line y2=\"211.78\" style=\"fill:none;\" x1=\"296\" x2=\"296\" y1=\"216\"\n",
       "      /><line y2=\"211.78\" style=\"fill:none;\" x1=\"401.5\" x2=\"401.5\" y1=\"216\"\n",
       "      /><line y2=\"211.78\" style=\"fill:none;\" x1=\"507\" x2=\"507\" y1=\"216\"\n",
       "      /><line y2=\"55.72\" style=\"fill:none;\" x1=\"85\" x2=\"85\" y1=\"51.5\"\n",
       "      /><line y2=\"55.72\" style=\"fill:none;\" x1=\"190.5\" x2=\"190.5\" y1=\"51.5\"\n",
       "      /><line y2=\"55.72\" style=\"fill:none;\" x1=\"296\" x2=\"296\" y1=\"51.5\"\n",
       "      /><line y2=\"55.72\" style=\"fill:none;\" x1=\"401.5\" x2=\"401.5\" y1=\"51.5\"\n",
       "      /><line y2=\"55.72\" style=\"fill:none;\" x1=\"507\" x2=\"507\" y1=\"51.5\"\n",
       "      /><line y2=\"213.89\" style=\"fill:none;\" x1=\"85\" x2=\"85\" y1=\"216\"\n",
       "      /><line y2=\"213.89\" style=\"fill:none;\" x1=\"116.7587\" x2=\"116.7587\" y1=\"216\"\n",
       "      /><line y2=\"213.89\" style=\"fill:none;\" x1=\"135.3363\" x2=\"135.3363\" y1=\"216\"\n",
       "      /><line y2=\"213.89\" style=\"fill:none;\" x1=\"148.5173\" x2=\"148.5173\" y1=\"216\"\n",
       "      /><line y2=\"213.89\" style=\"fill:none;\" x1=\"158.7413\" x2=\"158.7413\" y1=\"216\"\n",
       "      /><line y2=\"213.89\" style=\"fill:none;\" x1=\"167.095\" x2=\"167.095\" y1=\"216\"\n",
       "      /><line y2=\"213.89\" style=\"fill:none;\" x1=\"174.1578\" x2=\"174.1578\" y1=\"216\"\n",
       "      /><line y2=\"213.89\" style=\"fill:none;\" x1=\"180.276\" x2=\"180.276\" y1=\"216\"\n",
       "      /><line y2=\"213.89\" style=\"fill:none;\" x1=\"185.6726\" x2=\"185.6726\" y1=\"216\"\n",
       "      /><line y2=\"213.89\" style=\"fill:none;\" x1=\"190.5\" x2=\"190.5\" y1=\"216\"\n",
       "      /><line y2=\"213.89\" style=\"fill:none;\" x1=\"222.2587\" x2=\"222.2587\" y1=\"216\"\n",
       "      /><line y2=\"213.89\" style=\"fill:none;\" x1=\"240.8363\" x2=\"240.8363\" y1=\"216\"\n",
       "      /><line y2=\"213.89\" style=\"fill:none;\" x1=\"254.0173\" x2=\"254.0173\" y1=\"216\"\n",
       "      /><line y2=\"213.89\" style=\"fill:none;\" x1=\"264.2413\" x2=\"264.2413\" y1=\"216\"\n",
       "      /><line y2=\"213.89\" style=\"fill:none;\" x1=\"272.595\" x2=\"272.595\" y1=\"216\"\n",
       "      /><line y2=\"213.89\" style=\"fill:none;\" x1=\"279.6578\" x2=\"279.6578\" y1=\"216\"\n",
       "      /><line y2=\"213.89\" style=\"fill:none;\" x1=\"285.776\" x2=\"285.776\" y1=\"216\"\n",
       "      /><line y2=\"213.89\" style=\"fill:none;\" x1=\"291.1726\" x2=\"291.1726\" y1=\"216\"\n",
       "      /><line y2=\"213.89\" style=\"fill:none;\" x1=\"296\" x2=\"296\" y1=\"216\"\n",
       "      /><line y2=\"213.89\" style=\"fill:none;\" x1=\"327.7587\" x2=\"327.7587\" y1=\"216\"\n",
       "      /><line y2=\"213.89\" style=\"fill:none;\" x1=\"346.3363\" x2=\"346.3363\" y1=\"216\"\n",
       "      /><line y2=\"213.89\" style=\"fill:none;\" x1=\"359.5173\" x2=\"359.5173\" y1=\"216\"\n",
       "      /><line y2=\"213.89\" style=\"fill:none;\" x1=\"369.7413\" x2=\"369.7413\" y1=\"216\"\n",
       "      /><line y2=\"213.89\" style=\"fill:none;\" x1=\"378.095\" x2=\"378.095\" y1=\"216\"\n",
       "      /><line y2=\"213.89\" style=\"fill:none;\" x1=\"385.1578\" x2=\"385.1578\" y1=\"216\"\n",
       "      /><line y2=\"213.89\" style=\"fill:none;\" x1=\"391.276\" x2=\"391.276\" y1=\"216\"\n",
       "      /><line y2=\"213.89\" style=\"fill:none;\" x1=\"396.6726\" x2=\"396.6726\" y1=\"216\"\n",
       "      /><line y2=\"213.89\" style=\"fill:none;\" x1=\"401.5\" x2=\"401.5\" y1=\"216\"\n",
       "      /><line y2=\"213.89\" style=\"fill:none;\" x1=\"433.2587\" x2=\"433.2587\" y1=\"216\"\n",
       "      /><line y2=\"213.89\" style=\"fill:none;\" x1=\"451.8363\" x2=\"451.8363\" y1=\"216\"\n",
       "      /><line y2=\"213.89\" style=\"fill:none;\" x1=\"465.0173\" x2=\"465.0173\" y1=\"216\"\n",
       "      /><line y2=\"213.89\" style=\"fill:none;\" x1=\"475.2413\" x2=\"475.2413\" y1=\"216\"\n",
       "      /><line y2=\"213.89\" style=\"fill:none;\" x1=\"483.595\" x2=\"483.595\" y1=\"216\"\n",
       "      /><line y2=\"213.89\" style=\"fill:none;\" x1=\"490.6578\" x2=\"490.6578\" y1=\"216\"\n",
       "      /><line y2=\"213.89\" style=\"fill:none;\" x1=\"496.776\" x2=\"496.776\" y1=\"216\"\n",
       "      /><line y2=\"213.89\" style=\"fill:none;\" x1=\"502.1726\" x2=\"502.1726\" y1=\"216\"\n",
       "      /><line y2=\"213.89\" style=\"fill:none;\" x1=\"507\" x2=\"507\" y1=\"216\"\n",
       "      /><line y2=\"53.61\" style=\"fill:none;\" x1=\"85\" x2=\"85\" y1=\"51.5\"\n",
       "      /><line y2=\"53.61\" style=\"fill:none;\" x1=\"116.7587\" x2=\"116.7587\" y1=\"51.5\"\n",
       "      /><line y2=\"53.61\" style=\"fill:none;\" x1=\"135.3363\" x2=\"135.3363\" y1=\"51.5\"\n",
       "      /><line y2=\"53.61\" style=\"fill:none;\" x1=\"148.5173\" x2=\"148.5173\" y1=\"51.5\"\n",
       "      /><line y2=\"53.61\" style=\"fill:none;\" x1=\"158.7413\" x2=\"158.7413\" y1=\"51.5\"\n",
       "      /><line y2=\"53.61\" style=\"fill:none;\" x1=\"167.095\" x2=\"167.095\" y1=\"51.5\"\n",
       "      /><line y2=\"53.61\" style=\"fill:none;\" x1=\"174.1578\" x2=\"174.1578\" y1=\"51.5\"\n",
       "      /><line y2=\"53.61\" style=\"fill:none;\" x1=\"180.276\" x2=\"180.276\" y1=\"51.5\"\n",
       "      /><line y2=\"53.61\" style=\"fill:none;\" x1=\"185.6726\" x2=\"185.6726\" y1=\"51.5\"\n",
       "      /><line y2=\"53.61\" style=\"fill:none;\" x1=\"190.5\" x2=\"190.5\" y1=\"51.5\"\n",
       "      /><line y2=\"53.61\" style=\"fill:none;\" x1=\"222.2587\" x2=\"222.2587\" y1=\"51.5\"\n",
       "      /><line y2=\"53.61\" style=\"fill:none;\" x1=\"240.8363\" x2=\"240.8363\" y1=\"51.5\"\n",
       "      /><line y2=\"53.61\" style=\"fill:none;\" x1=\"254.0173\" x2=\"254.0173\" y1=\"51.5\"\n",
       "      /><line y2=\"53.61\" style=\"fill:none;\" x1=\"264.2413\" x2=\"264.2413\" y1=\"51.5\"\n",
       "      /><line y2=\"53.61\" style=\"fill:none;\" x1=\"272.595\" x2=\"272.595\" y1=\"51.5\"\n",
       "      /><line y2=\"53.61\" style=\"fill:none;\" x1=\"279.6578\" x2=\"279.6578\" y1=\"51.5\"\n",
       "      /><line y2=\"53.61\" style=\"fill:none;\" x1=\"285.776\" x2=\"285.776\" y1=\"51.5\"\n",
       "      /><line y2=\"53.61\" style=\"fill:none;\" x1=\"291.1726\" x2=\"291.1726\" y1=\"51.5\"\n",
       "      /><line y2=\"53.61\" style=\"fill:none;\" x1=\"296\" x2=\"296\" y1=\"51.5\"\n",
       "      /><line y2=\"53.61\" style=\"fill:none;\" x1=\"327.7587\" x2=\"327.7587\" y1=\"51.5\"\n",
       "      /><line y2=\"53.61\" style=\"fill:none;\" x1=\"346.3363\" x2=\"346.3363\" y1=\"51.5\"\n",
       "      /><line y2=\"53.61\" style=\"fill:none;\" x1=\"359.5173\" x2=\"359.5173\" y1=\"51.5\"\n",
       "      /><line y2=\"53.61\" style=\"fill:none;\" x1=\"369.7413\" x2=\"369.7413\" y1=\"51.5\"\n",
       "      /><line y2=\"53.61\" style=\"fill:none;\" x1=\"378.095\" x2=\"378.095\" y1=\"51.5\"\n",
       "      /><line y2=\"53.61\" style=\"fill:none;\" x1=\"385.1578\" x2=\"385.1578\" y1=\"51.5\"\n",
       "      /><line y2=\"53.61\" style=\"fill:none;\" x1=\"391.276\" x2=\"391.276\" y1=\"51.5\"\n",
       "      /><line y2=\"53.61\" style=\"fill:none;\" x1=\"396.6726\" x2=\"396.6726\" y1=\"51.5\"\n",
       "      /><line y2=\"53.61\" style=\"fill:none;\" x1=\"401.5\" x2=\"401.5\" y1=\"51.5\"\n",
       "      /><line y2=\"53.61\" style=\"fill:none;\" x1=\"433.2587\" x2=\"433.2587\" y1=\"51.5\"\n",
       "      /><line y2=\"53.61\" style=\"fill:none;\" x1=\"451.8363\" x2=\"451.8363\" y1=\"51.5\"\n",
       "      /><line y2=\"53.61\" style=\"fill:none;\" x1=\"465.0173\" x2=\"465.0173\" y1=\"51.5\"\n",
       "      /><line y2=\"53.61\" style=\"fill:none;\" x1=\"475.2413\" x2=\"475.2413\" y1=\"51.5\"\n",
       "      /><line y2=\"53.61\" style=\"fill:none;\" x1=\"483.595\" x2=\"483.595\" y1=\"51.5\"\n",
       "      /><line y2=\"53.61\" style=\"fill:none;\" x1=\"490.6578\" x2=\"490.6578\" y1=\"51.5\"\n",
       "      /><line y2=\"53.61\" style=\"fill:none;\" x1=\"496.776\" x2=\"496.776\" y1=\"51.5\"\n",
       "      /><line y2=\"53.61\" style=\"fill:none;\" x1=\"502.1726\" x2=\"502.1726\" y1=\"51.5\"\n",
       "      /><line y2=\"53.61\" style=\"fill:none;\" x1=\"507\" x2=\"507\" y1=\"51.5\"\n",
       "      /><line y2=\"51.5\" style=\"fill:none;\" x1=\"85\" x2=\"85\" y1=\"216\"\n",
       "      /><line y2=\"51.5\" style=\"fill:none;\" x1=\"507\" x2=\"507\" y1=\"216\"\n",
       "      /><line y2=\"216\" style=\"fill:none;\" x1=\"85\" x2=\"89.22\" y1=\"216\"\n",
       "      /><line y2=\"188.5833\" style=\"fill:none;\" x1=\"85\" x2=\"89.22\" y1=\"188.5833\"\n",
       "      /><line y2=\"161.1667\" style=\"fill:none;\" x1=\"85\" x2=\"89.22\" y1=\"161.1667\"\n",
       "      /><line y2=\"133.75\" style=\"fill:none;\" x1=\"85\" x2=\"89.22\" y1=\"133.75\"\n",
       "      /><line y2=\"106.3333\" style=\"fill:none;\" x1=\"85\" x2=\"89.22\" y1=\"106.3333\"\n",
       "      /><line y2=\"78.9167\" style=\"fill:none;\" x1=\"85\" x2=\"89.22\" y1=\"78.9167\"\n",
       "      /><line y2=\"51.5\" style=\"fill:none;\" x1=\"85\" x2=\"89.22\" y1=\"51.5\"\n",
       "      /><line y2=\"216\" style=\"fill:none;\" x1=\"507\" x2=\"502.78\" y1=\"216\"\n",
       "      /><line y2=\"188.5833\" style=\"fill:none;\" x1=\"507\" x2=\"502.78\" y1=\"188.5833\"\n",
       "      /><line y2=\"161.1667\" style=\"fill:none;\" x1=\"507\" x2=\"502.78\" y1=\"161.1667\"\n",
       "      /><line y2=\"133.75\" style=\"fill:none;\" x1=\"507\" x2=\"502.78\" y1=\"133.75\"\n",
       "      /><line y2=\"106.3333\" style=\"fill:none;\" x1=\"507\" x2=\"502.78\" y1=\"106.3333\"\n",
       "      /><line y2=\"78.9167\" style=\"fill:none;\" x1=\"507\" x2=\"502.78\" y1=\"78.9167\"\n",
       "      /><line y2=\"51.5\" style=\"fill:none;\" x1=\"507\" x2=\"502.78\" y1=\"51.5\"\n",
       "    /></g\n",
       "    ><g transform=\"translate(81,216)\" style=\"font-size:10px; fill:rgb(102,102,102); text-rendering:geometricPrecision; image-rendering:optimizeQuality; color-rendering:optimizeQuality; font-family:'Helvetica Neue'; stroke:rgb(102,102,102); color-interpolation:linearRGB;\"\n",
       "    ><text x=\"-21\" xml:space=\"preserve\" y=\"3.5\" style=\"stroke:none;\"\n",
       "      >-120</text\n",
       "    ></g\n",
       "    ><g transform=\"translate(81,188.5833)\" style=\"font-size:10px; fill:rgb(102,102,102); text-rendering:geometricPrecision; image-rendering:optimizeQuality; color-rendering:optimizeQuality; font-family:'Helvetica Neue'; stroke:rgb(102,102,102); color-interpolation:linearRGB;\"\n",
       "    ><text x=\"-21\" xml:space=\"preserve\" y=\"3.5\" style=\"stroke:none;\"\n",
       "      >-100</text\n",
       "    ></g\n",
       "    ><g transform=\"translate(81,161.1667)\" style=\"font-size:10px; fill:rgb(102,102,102); text-rendering:geometricPrecision; image-rendering:optimizeQuality; color-rendering:optimizeQuality; font-family:'Helvetica Neue'; stroke:rgb(102,102,102); color-interpolation:linearRGB;\"\n",
       "    ><text x=\"-16\" xml:space=\"preserve\" y=\"3.5\" style=\"stroke:none;\"\n",
       "      >-80</text\n",
       "    ></g\n",
       "    ><g transform=\"translate(81,133.75)\" style=\"font-size:10px; fill:rgb(102,102,102); text-rendering:geometricPrecision; image-rendering:optimizeQuality; color-rendering:optimizeQuality; font-family:'Helvetica Neue'; stroke:rgb(102,102,102); color-interpolation:linearRGB;\"\n",
       "    ><text x=\"-16\" xml:space=\"preserve\" y=\"3.5\" style=\"stroke:none;\"\n",
       "      >-60</text\n",
       "    ></g\n",
       "    ><g transform=\"translate(81,106.3333)\" style=\"font-size:10px; fill:rgb(102,102,102); text-rendering:geometricPrecision; image-rendering:optimizeQuality; color-rendering:optimizeQuality; font-family:'Helvetica Neue'; stroke:rgb(102,102,102); color-interpolation:linearRGB;\"\n",
       "    ><text x=\"-16\" xml:space=\"preserve\" y=\"3.5\" style=\"stroke:none;\"\n",
       "      >-40</text\n",
       "    ></g\n",
       "    ><g transform=\"translate(81,78.9167)\" style=\"font-size:10px; fill:rgb(102,102,102); text-rendering:geometricPrecision; image-rendering:optimizeQuality; color-rendering:optimizeQuality; font-family:'Helvetica Neue'; stroke:rgb(102,102,102); color-interpolation:linearRGB;\"\n",
       "    ><text x=\"-16\" xml:space=\"preserve\" y=\"3.5\" style=\"stroke:none;\"\n",
       "      >-20</text\n",
       "    ></g\n",
       "    ><g transform=\"translate(81,51.5)\" style=\"font-size:10px; fill:rgb(102,102,102); text-rendering:geometricPrecision; image-rendering:optimizeQuality; color-rendering:optimizeQuality; font-family:'Helvetica Neue'; stroke:rgb(102,102,102); color-interpolation:linearRGB;\"\n",
       "    ><text x=\"-6\" xml:space=\"preserve\" y=\"3.5\" style=\"stroke:none;\"\n",
       "      >0</text\n",
       "    ></g\n",
       "    ><g transform=\"translate(57,133.7499) rotate(-90)\" style=\"font-size:11px; text-rendering:geometricPrecision; color-rendering:optimizeQuality; image-rendering:optimizeQuality; font-family:'Helvetica Neue'; color-interpolation:linearRGB;\"\n",
       "    ><text x=\"-38\" xml:space=\"preserve\" y=\"-3\" style=\"stroke:none;\"\n",
       "      >Magnitude (dB)</text\n",
       "    ></g\n",
       "    ><g style=\"stroke-linecap:butt; fill:rgb(0,114,189); text-rendering:geometricPrecision; image-rendering:optimizeQuality; color-rendering:optimizeQuality; stroke-linejoin:round; stroke:rgb(0,114,189); color-interpolation:linearRGB; stroke-width:0.5;\"\n",
       "    ><path d=\"M85 51.5002 L92.1525 51.5004 L99.3051 51.5008 L106.4576 51.5015 L113.6102 51.5029 L120.7627 51.5054 L127.9153 51.5101 L135.0678 51.5189 L142.2203 51.5352 L149.3729 51.5655 L156.5254 51.6217 L163.678 51.7253 L170.8305 51.914 L177.983 52.251 L185.1356 52.8335 L192.2881 53.7886 L199.4407 55.2433 L206.5932 57.2666 L213.7458 59.8294 L220.8983 62.8221 L228.0509 66.1118 L235.2034 69.5869 L242.3559 73.1704 L249.5085 76.8148 L256.661 80.4929 L263.8136 84.1891 L270.9661 87.8952 L278.1187 91.6066 L285.2712 95.3208 L292.4237 99.0366 L299.5763 102.7532 L306.7288 106.4702 L313.8813 110.1874 L321.0339 113.9048 L328.1864 117.6222 L335.339 121.3397 L342.4915 125.0572 L349.6441 128.7747 L356.7966 132.4922 L363.9492 136.2097 L371.1017 139.9272 L378.2542 143.6447 L385.4068 147.3622 L392.5593 151.0798 L399.7119 154.7973 L406.8644 158.5148 L414.0169 162.2323 L421.1695 165.9498 L428.322 169.6673 L435.4746 173.3849 L442.6271 177.1024 L449.7797 180.8199 L456.9322 184.5374 L464.0847 188.2549 L471.2373 191.9724 L478.3898 195.6899 L485.5424 199.4075 L492.6949 203.125 L499.8474 206.8425 L507 210.56\" style=\"fill:none; fill-rule:evenodd;\"\n",
       "    /></g\n",
       "    ><g style=\"fill:white; text-rendering:optimizeSpeed; color-rendering:optimizeSpeed; image-rendering:optimizeSpeed; shape-rendering:crispEdges; stroke:white; color-interpolation:sRGB;\"\n",
       "    ><path style=\"stroke:none;\" d=\"M85 374 L507 374 L507 228 L85 228 Z\"\n",
       "    /></g\n",
       "    ><g style=\"fill-opacity:0.251; color-rendering:optimizeQuality; color-interpolation:linearRGB; text-rendering:geometricPrecision; stroke:rgb(102,102,102); stroke-linecap:butt; stroke-miterlimit:1; stroke-opacity:0.251; fill:rgb(102,102,102); stroke-dasharray:1,3; stroke-width:0.5; stroke-linejoin:bevel; image-rendering:optimizeQuality;\"\n",
       "    ><line y2=\"228\" style=\"fill:none;\" x1=\"116.7587\" x2=\"116.7587\" y1=\"374\"\n",
       "      /><line y2=\"228\" style=\"fill:none;\" x1=\"135.3363\" x2=\"135.3363\" y1=\"374\"\n",
       "      /><line y2=\"228\" style=\"fill:none;\" x1=\"148.5173\" x2=\"148.5173\" y1=\"374\"\n",
       "      /><line y2=\"228\" style=\"fill:none;\" x1=\"158.7413\" x2=\"158.7413\" y1=\"374\"\n",
       "      /><line y2=\"228\" style=\"fill:none;\" x1=\"167.095\" x2=\"167.095\" y1=\"374\"\n",
       "      /><line y2=\"228\" style=\"fill:none;\" x1=\"174.1578\" x2=\"174.1578\" y1=\"374\"\n",
       "      /><line y2=\"228\" style=\"fill:none;\" x1=\"180.276\" x2=\"180.276\" y1=\"374\"\n",
       "      /><line y2=\"228\" style=\"fill:none;\" x1=\"185.6726\" x2=\"185.6726\" y1=\"374\"\n",
       "      /><line y2=\"228\" style=\"fill:none;\" x1=\"222.2587\" x2=\"222.2587\" y1=\"374\"\n",
       "      /><line y2=\"228\" style=\"fill:none;\" x1=\"240.8363\" x2=\"240.8363\" y1=\"374\"\n",
       "      /><line y2=\"228\" style=\"fill:none;\" x1=\"254.0173\" x2=\"254.0173\" y1=\"374\"\n",
       "      /><line y2=\"228\" style=\"fill:none;\" x1=\"264.2413\" x2=\"264.2413\" y1=\"374\"\n",
       "      /><line y2=\"228\" style=\"fill:none;\" x1=\"272.595\" x2=\"272.595\" y1=\"374\"\n",
       "      /><line y2=\"228\" style=\"fill:none;\" x1=\"279.6578\" x2=\"279.6578\" y1=\"374\"\n",
       "      /><line y2=\"228\" style=\"fill:none;\" x1=\"285.776\" x2=\"285.776\" y1=\"374\"\n",
       "      /><line y2=\"228\" style=\"fill:none;\" x1=\"291.1726\" x2=\"291.1726\" y1=\"374\"\n",
       "      /><line y2=\"228\" style=\"fill:none;\" x1=\"327.7587\" x2=\"327.7587\" y1=\"374\"\n",
       "      /><line y2=\"228\" style=\"fill:none;\" x1=\"346.3363\" x2=\"346.3363\" y1=\"374\"\n",
       "      /><line y2=\"228\" style=\"fill:none;\" x1=\"359.5173\" x2=\"359.5173\" y1=\"374\"\n",
       "      /><line y2=\"228\" style=\"fill:none;\" x1=\"369.7413\" x2=\"369.7413\" y1=\"374\"\n",
       "      /><line y2=\"228\" style=\"fill:none;\" x1=\"378.095\" x2=\"378.095\" y1=\"374\"\n",
       "      /><line y2=\"228\" style=\"fill:none;\" x1=\"385.1578\" x2=\"385.1578\" y1=\"374\"\n",
       "      /><line y2=\"228\" style=\"fill:none;\" x1=\"391.276\" x2=\"391.276\" y1=\"374\"\n",
       "      /><line y2=\"228\" style=\"fill:none;\" x1=\"396.6726\" x2=\"396.6726\" y1=\"374\"\n",
       "      /><line y2=\"228\" style=\"fill:none;\" x1=\"433.2587\" x2=\"433.2587\" y1=\"374\"\n",
       "      /><line y2=\"228\" style=\"fill:none;\" x1=\"451.8363\" x2=\"451.8363\" y1=\"374\"\n",
       "      /><line y2=\"228\" style=\"fill:none;\" x1=\"465.0173\" x2=\"465.0173\" y1=\"374\"\n",
       "      /><line y2=\"228\" style=\"fill:none;\" x1=\"475.2413\" x2=\"475.2413\" y1=\"374\"\n",
       "      /><line y2=\"228\" style=\"fill:none;\" x1=\"483.595\" x2=\"483.595\" y1=\"374\"\n",
       "      /><line y2=\"228\" style=\"fill:none;\" x1=\"490.6578\" x2=\"490.6578\" y1=\"374\"\n",
       "      /><line y2=\"228\" style=\"fill:none;\" x1=\"496.776\" x2=\"496.776\" y1=\"374\"\n",
       "      /><line y2=\"228\" style=\"fill:none;\" x1=\"502.1726\" x2=\"502.1726\" y1=\"374\"\n",
       "    /></g\n",
       "    ><g style=\"stroke-linecap:butt; fill-opacity:0.149; fill:rgb(38,38,38); text-rendering:geometricPrecision; image-rendering:optimizeQuality; color-rendering:optimizeQuality; stroke-linejoin:round; stroke:rgb(38,38,38); color-interpolation:linearRGB; stroke-width:0.5; stroke-opacity:0.149;\"\n",
       "    ><line y2=\"228\" style=\"fill:none;\" x1=\"85\" x2=\"85\" y1=\"374\"\n",
       "      /><line y2=\"228\" style=\"fill:none;\" x1=\"190.5\" x2=\"190.5\" y1=\"374\"\n",
       "      /><line y2=\"228\" style=\"fill:none;\" x1=\"296\" x2=\"296\" y1=\"374\"\n",
       "      /><line y2=\"228\" style=\"fill:none;\" x1=\"401.5\" x2=\"401.5\" y1=\"374\"\n",
       "      /><line y2=\"228\" style=\"fill:none;\" x1=\"507\" x2=\"507\" y1=\"374\"\n",
       "      /><line y2=\"372.5686\" style=\"fill:none;\" x1=\"507\" x2=\"85\" y1=\"372.5686\"\n",
       "      /><line y2=\"336.7843\" style=\"fill:none;\" x1=\"507\" x2=\"85\" y1=\"336.7843\"\n",
       "      /><line y2=\"301\" style=\"fill:none;\" x1=\"507\" x2=\"85\" y1=\"301\"\n",
       "      /><line y2=\"265.2157\" style=\"fill:none;\" x1=\"507\" x2=\"85\" y1=\"265.2157\"\n",
       "      /><line y2=\"229.4314\" style=\"fill:none;\" x1=\"507\" x2=\"85\" y1=\"229.4314\"\n",
       "    /></g\n",
       "    ><g style=\"fill:rgb(102,102,102); text-rendering:geometricPrecision; image-rendering:optimizeQuality; color-rendering:optimizeQuality; stroke-linejoin:round; stroke:rgb(102,102,102); color-interpolation:linearRGB; stroke-width:0.5;\"\n",
       "    ><line y2=\"374\" style=\"fill:none;\" x1=\"85\" x2=\"507\" y1=\"374\"\n",
       "      /><line y2=\"228\" style=\"fill:none;\" x1=\"85\" x2=\"507\" y1=\"228\"\n",
       "      /><line y2=\"369.78\" style=\"fill:none;\" x1=\"85\" x2=\"85\" y1=\"374\"\n",
       "      /><line y2=\"369.78\" style=\"fill:none;\" x1=\"190.5\" x2=\"190.5\" y1=\"374\"\n",
       "      /><line y2=\"369.78\" style=\"fill:none;\" x1=\"296\" x2=\"296\" y1=\"374\"\n",
       "      /><line y2=\"369.78\" style=\"fill:none;\" x1=\"401.5\" x2=\"401.5\" y1=\"374\"\n",
       "      /><line y2=\"369.78\" style=\"fill:none;\" x1=\"507\" x2=\"507\" y1=\"374\"\n",
       "      /><line y2=\"232.22\" style=\"fill:none;\" x1=\"85\" x2=\"85\" y1=\"228\"\n",
       "      /><line y2=\"232.22\" style=\"fill:none;\" x1=\"190.5\" x2=\"190.5\" y1=\"228\"\n",
       "      /><line y2=\"232.22\" style=\"fill:none;\" x1=\"296\" x2=\"296\" y1=\"228\"\n",
       "      /><line y2=\"232.22\" style=\"fill:none;\" x1=\"401.5\" x2=\"401.5\" y1=\"228\"\n",
       "      /><line y2=\"232.22\" style=\"fill:none;\" x1=\"507\" x2=\"507\" y1=\"228\"\n",
       "      /><line y2=\"371.89\" style=\"fill:none;\" x1=\"85\" x2=\"85\" y1=\"374\"\n",
       "      /><line y2=\"371.89\" style=\"fill:none;\" x1=\"116.7587\" x2=\"116.7587\" y1=\"374\"\n",
       "      /><line y2=\"371.89\" style=\"fill:none;\" x1=\"135.3363\" x2=\"135.3363\" y1=\"374\"\n",
       "      /><line y2=\"371.89\" style=\"fill:none;\" x1=\"148.5173\" x2=\"148.5173\" y1=\"374\"\n",
       "      /><line y2=\"371.89\" style=\"fill:none;\" x1=\"158.7413\" x2=\"158.7413\" y1=\"374\"\n",
       "      /><line y2=\"371.89\" style=\"fill:none;\" x1=\"167.095\" x2=\"167.095\" y1=\"374\"\n",
       "      /><line y2=\"371.89\" style=\"fill:none;\" x1=\"174.1578\" x2=\"174.1578\" y1=\"374\"\n",
       "      /><line y2=\"371.89\" style=\"fill:none;\" x1=\"180.276\" x2=\"180.276\" y1=\"374\"\n",
       "      /><line y2=\"371.89\" style=\"fill:none;\" x1=\"185.6726\" x2=\"185.6726\" y1=\"374\"\n",
       "      /><line y2=\"371.89\" style=\"fill:none;\" x1=\"190.5\" x2=\"190.5\" y1=\"374\"\n",
       "      /><line y2=\"371.89\" style=\"fill:none;\" x1=\"222.2587\" x2=\"222.2587\" y1=\"374\"\n",
       "      /><line y2=\"371.89\" style=\"fill:none;\" x1=\"240.8363\" x2=\"240.8363\" y1=\"374\"\n",
       "      /><line y2=\"371.89\" style=\"fill:none;\" x1=\"254.0173\" x2=\"254.0173\" y1=\"374\"\n",
       "      /><line y2=\"371.89\" style=\"fill:none;\" x1=\"264.2413\" x2=\"264.2413\" y1=\"374\"\n",
       "      /><line y2=\"371.89\" style=\"fill:none;\" x1=\"272.595\" x2=\"272.595\" y1=\"374\"\n",
       "      /><line y2=\"371.89\" style=\"fill:none;\" x1=\"279.6578\" x2=\"279.6578\" y1=\"374\"\n",
       "      /><line y2=\"371.89\" style=\"fill:none;\" x1=\"285.776\" x2=\"285.776\" y1=\"374\"\n",
       "      /><line y2=\"371.89\" style=\"fill:none;\" x1=\"291.1726\" x2=\"291.1726\" y1=\"374\"\n",
       "      /><line y2=\"371.89\" style=\"fill:none;\" x1=\"296\" x2=\"296\" y1=\"374\"\n",
       "      /><line y2=\"371.89\" style=\"fill:none;\" x1=\"327.7587\" x2=\"327.7587\" y1=\"374\"\n",
       "      /><line y2=\"371.89\" style=\"fill:none;\" x1=\"346.3363\" x2=\"346.3363\" y1=\"374\"\n",
       "      /><line y2=\"371.89\" style=\"fill:none;\" x1=\"359.5173\" x2=\"359.5173\" y1=\"374\"\n",
       "      /><line y2=\"371.89\" style=\"fill:none;\" x1=\"369.7413\" x2=\"369.7413\" y1=\"374\"\n",
       "      /><line y2=\"371.89\" style=\"fill:none;\" x1=\"378.095\" x2=\"378.095\" y1=\"374\"\n",
       "      /><line y2=\"371.89\" style=\"fill:none;\" x1=\"385.1578\" x2=\"385.1578\" y1=\"374\"\n",
       "      /><line y2=\"371.89\" style=\"fill:none;\" x1=\"391.276\" x2=\"391.276\" y1=\"374\"\n",
       "      /><line y2=\"371.89\" style=\"fill:none;\" x1=\"396.6726\" x2=\"396.6726\" y1=\"374\"\n",
       "      /><line y2=\"371.89\" style=\"fill:none;\" x1=\"401.5\" x2=\"401.5\" y1=\"374\"\n",
       "      /><line y2=\"371.89\" style=\"fill:none;\" x1=\"433.2587\" x2=\"433.2587\" y1=\"374\"\n",
       "      /><line y2=\"371.89\" style=\"fill:none;\" x1=\"451.8363\" x2=\"451.8363\" y1=\"374\"\n",
       "      /><line y2=\"371.89\" style=\"fill:none;\" x1=\"465.0173\" x2=\"465.0173\" y1=\"374\"\n",
       "      /><line y2=\"371.89\" style=\"fill:none;\" x1=\"475.2413\" x2=\"475.2413\" y1=\"374\"\n",
       "      /><line y2=\"371.89\" style=\"fill:none;\" x1=\"483.595\" x2=\"483.595\" y1=\"374\"\n",
       "      /><line y2=\"371.89\" style=\"fill:none;\" x1=\"490.6578\" x2=\"490.6578\" y1=\"374\"\n",
       "      /><line y2=\"371.89\" style=\"fill:none;\" x1=\"496.776\" x2=\"496.776\" y1=\"374\"\n",
       "      /><line y2=\"371.89\" style=\"fill:none;\" x1=\"502.1726\" x2=\"502.1726\" y1=\"374\"\n",
       "      /><line y2=\"371.89\" style=\"fill:none;\" x1=\"507\" x2=\"507\" y1=\"374\"\n",
       "      /><line y2=\"230.11\" style=\"fill:none;\" x1=\"85\" x2=\"85\" y1=\"228\"\n",
       "      /><line y2=\"230.11\" style=\"fill:none;\" x1=\"116.7587\" x2=\"116.7587\" y1=\"228\"\n",
       "      /><line y2=\"230.11\" style=\"fill:none;\" x1=\"135.3363\" x2=\"135.3363\" y1=\"228\"\n",
       "      /><line y2=\"230.11\" style=\"fill:none;\" x1=\"148.5173\" x2=\"148.5173\" y1=\"228\"\n",
       "      /><line y2=\"230.11\" style=\"fill:none;\" x1=\"158.7413\" x2=\"158.7413\" y1=\"228\"\n",
       "      /><line y2=\"230.11\" style=\"fill:none;\" x1=\"167.095\" x2=\"167.095\" y1=\"228\"\n",
       "      /><line y2=\"230.11\" style=\"fill:none;\" x1=\"174.1578\" x2=\"174.1578\" y1=\"228\"\n",
       "      /><line y2=\"230.11\" style=\"fill:none;\" x1=\"180.276\" x2=\"180.276\" y1=\"228\"\n",
       "      /><line y2=\"230.11\" style=\"fill:none;\" x1=\"185.6726\" x2=\"185.6726\" y1=\"228\"\n",
       "      /><line y2=\"230.11\" style=\"fill:none;\" x1=\"190.5\" x2=\"190.5\" y1=\"228\"\n",
       "      /><line y2=\"230.11\" style=\"fill:none;\" x1=\"222.2587\" x2=\"222.2587\" y1=\"228\"\n",
       "      /><line y2=\"230.11\" style=\"fill:none;\" x1=\"240.8363\" x2=\"240.8363\" y1=\"228\"\n",
       "      /><line y2=\"230.11\" style=\"fill:none;\" x1=\"254.0173\" x2=\"254.0173\" y1=\"228\"\n",
       "      /><line y2=\"230.11\" style=\"fill:none;\" x1=\"264.2413\" x2=\"264.2413\" y1=\"228\"\n",
       "      /><line y2=\"230.11\" style=\"fill:none;\" x1=\"272.595\" x2=\"272.595\" y1=\"228\"\n",
       "      /><line y2=\"230.11\" style=\"fill:none;\" x1=\"279.6578\" x2=\"279.6578\" y1=\"228\"\n",
       "      /><line y2=\"230.11\" style=\"fill:none;\" x1=\"285.776\" x2=\"285.776\" y1=\"228\"\n",
       "      /><line y2=\"230.11\" style=\"fill:none;\" x1=\"291.1726\" x2=\"291.1726\" y1=\"228\"\n",
       "      /><line y2=\"230.11\" style=\"fill:none;\" x1=\"296\" x2=\"296\" y1=\"228\"\n",
       "      /><line y2=\"230.11\" style=\"fill:none;\" x1=\"327.7587\" x2=\"327.7587\" y1=\"228\"\n",
       "      /><line y2=\"230.11\" style=\"fill:none;\" x1=\"346.3363\" x2=\"346.3363\" y1=\"228\"\n",
       "      /><line y2=\"230.11\" style=\"fill:none;\" x1=\"359.5173\" x2=\"359.5173\" y1=\"228\"\n",
       "      /><line y2=\"230.11\" style=\"fill:none;\" x1=\"369.7413\" x2=\"369.7413\" y1=\"228\"\n",
       "      /><line y2=\"230.11\" style=\"fill:none;\" x1=\"378.095\" x2=\"378.095\" y1=\"228\"\n",
       "      /><line y2=\"230.11\" style=\"fill:none;\" x1=\"385.1578\" x2=\"385.1578\" y1=\"228\"\n",
       "      /><line y2=\"230.11\" style=\"fill:none;\" x1=\"391.276\" x2=\"391.276\" y1=\"228\"\n",
       "      /><line y2=\"230.11\" style=\"fill:none;\" x1=\"396.6726\" x2=\"396.6726\" y1=\"228\"\n",
       "      /><line y2=\"230.11\" style=\"fill:none;\" x1=\"401.5\" x2=\"401.5\" y1=\"228\"\n",
       "      /><line y2=\"230.11\" style=\"fill:none;\" x1=\"433.2587\" x2=\"433.2587\" y1=\"228\"\n",
       "      /><line y2=\"230.11\" style=\"fill:none;\" x1=\"451.8363\" x2=\"451.8363\" y1=\"228\"\n",
       "      /><line y2=\"230.11\" style=\"fill:none;\" x1=\"465.0173\" x2=\"465.0173\" y1=\"228\"\n",
       "      /><line y2=\"230.11\" style=\"fill:none;\" x1=\"475.2413\" x2=\"475.2413\" y1=\"228\"\n",
       "      /><line y2=\"230.11\" style=\"fill:none;\" x1=\"483.595\" x2=\"483.595\" y1=\"228\"\n",
       "      /><line y2=\"230.11\" style=\"fill:none;\" x1=\"490.6578\" x2=\"490.6578\" y1=\"228\"\n",
       "      /><line y2=\"230.11\" style=\"fill:none;\" x1=\"496.776\" x2=\"496.776\" y1=\"228\"\n",
       "      /><line y2=\"230.11\" style=\"fill:none;\" x1=\"502.1726\" x2=\"502.1726\" y1=\"228\"\n",
       "      /><line y2=\"230.11\" style=\"fill:none;\" x1=\"507\" x2=\"507\" y1=\"228\"\n",
       "    /></g\n",
       "    ><g transform=\"translate(76,391)\" style=\"font-size:10px; fill:rgb(102,102,102); text-rendering:geometricPrecision; image-rendering:optimizeQuality; color-rendering:optimizeQuality; font-family:'Helvetica Neue'; stroke:rgb(102,102,102); color-interpolation:linearRGB;\"\n",
       "    ><text x=\"0\" xml:space=\"preserve\" y=\"0\" style=\"stroke:none;\"\n",
       "      >10</text\n",
       "    ></g\n",
       "    ><g transform=\"translate(88,386)\" style=\"font-size:8px; fill:rgb(102,102,102); text-rendering:geometricPrecision; image-rendering:optimizeQuality; color-rendering:optimizeQuality; font-family:'Helvetica Neue'; stroke:rgb(102,102,102); color-interpolation:linearRGB;\"\n",
       "    ><text x=\"0\" xml:space=\"preserve\" y=\"0\" style=\"stroke:none;\"\n",
       "      >4</text\n",
       "    ></g\n",
       "    ><g transform=\"translate(182,391)\" style=\"font-size:10px; fill:rgb(102,102,102); text-rendering:geometricPrecision; image-rendering:optimizeQuality; color-rendering:optimizeQuality; font-family:'Helvetica Neue'; stroke:rgb(102,102,102); color-interpolation:linearRGB;\"\n",
       "    ><text x=\"0\" xml:space=\"preserve\" y=\"0\" style=\"stroke:none;\"\n",
       "      >10</text\n",
       "    ></g\n",
       "    ><g transform=\"translate(194,386)\" style=\"font-size:8px; fill:rgb(102,102,102); text-rendering:geometricPrecision; image-rendering:optimizeQuality; color-rendering:optimizeQuality; font-family:'Helvetica Neue'; stroke:rgb(102,102,102); color-interpolation:linearRGB;\"\n",
       "    ><text x=\"0\" xml:space=\"preserve\" y=\"0\" style=\"stroke:none;\"\n",
       "      >5</text\n",
       "    ></g\n",
       "    ><g transform=\"translate(287,391)\" style=\"font-size:10px; fill:rgb(102,102,102); text-rendering:geometricPrecision; image-rendering:optimizeQuality; color-rendering:optimizeQuality; font-family:'Helvetica Neue'; stroke:rgb(102,102,102); color-interpolation:linearRGB;\"\n",
       "    ><text x=\"0\" xml:space=\"preserve\" y=\"0\" style=\"stroke:none;\"\n",
       "      >10</text\n",
       "    ></g\n",
       "    ><g transform=\"translate(299,386)\" style=\"font-size:8px; fill:rgb(102,102,102); text-rendering:geometricPrecision; image-rendering:optimizeQuality; color-rendering:optimizeQuality; font-family:'Helvetica Neue'; stroke:rgb(102,102,102); color-interpolation:linearRGB;\"\n",
       "    ><text x=\"0\" xml:space=\"preserve\" y=\"0\" style=\"stroke:none;\"\n",
       "      >6</text\n",
       "    ></g\n",
       "    ><g transform=\"translate(393,391)\" style=\"font-size:10px; fill:rgb(102,102,102); text-rendering:geometricPrecision; image-rendering:optimizeQuality; color-rendering:optimizeQuality; font-family:'Helvetica Neue'; stroke:rgb(102,102,102); color-interpolation:linearRGB;\"\n",
       "    ><text x=\"0\" xml:space=\"preserve\" y=\"0\" style=\"stroke:none;\"\n",
       "      >10</text\n",
       "    ></g\n",
       "    ><g transform=\"translate(405,386)\" style=\"font-size:8px; fill:rgb(102,102,102); text-rendering:geometricPrecision; image-rendering:optimizeQuality; color-rendering:optimizeQuality; font-family:'Helvetica Neue'; stroke:rgb(102,102,102); color-interpolation:linearRGB;\"\n",
       "    ><text x=\"0\" xml:space=\"preserve\" y=\"0\" style=\"stroke:none;\"\n",
       "      >7</text\n",
       "    ></g\n",
       "    ><g transform=\"translate(498,391)\" style=\"font-size:10px; fill:rgb(102,102,102); text-rendering:geometricPrecision; image-rendering:optimizeQuality; color-rendering:optimizeQuality; font-family:'Helvetica Neue'; stroke:rgb(102,102,102); color-interpolation:linearRGB;\"\n",
       "    ><text x=\"0\" xml:space=\"preserve\" y=\"0\" style=\"stroke:none;\"\n",
       "      >10</text\n",
       "    ></g\n",
       "    ><g transform=\"translate(510,386)\" style=\"font-size:8px; fill:rgb(102,102,102); text-rendering:geometricPrecision; image-rendering:optimizeQuality; color-rendering:optimizeQuality; font-family:'Helvetica Neue'; stroke:rgb(102,102,102); color-interpolation:linearRGB;\"\n",
       "    ><text x=\"0\" xml:space=\"preserve\" y=\"0\" style=\"stroke:none;\"\n",
       "      >8</text\n",
       "    ></g\n",
       "    ><g style=\"fill:rgb(102,102,102); text-rendering:geometricPrecision; image-rendering:optimizeQuality; color-rendering:optimizeQuality; stroke-linejoin:round; stroke:rgb(102,102,102); color-interpolation:linearRGB; stroke-width:0.5;\"\n",
       "    ><line y2=\"228\" style=\"fill:none;\" x1=\"85\" x2=\"85\" y1=\"374\"\n",
       "      /><line y2=\"228\" style=\"fill:none;\" x1=\"507\" x2=\"507\" y1=\"374\"\n",
       "      /><line y2=\"372.5686\" style=\"fill:none;\" x1=\"85\" x2=\"89.22\" y1=\"372.5686\"\n",
       "      /><line y2=\"336.7843\" style=\"fill:none;\" x1=\"85\" x2=\"89.22\" y1=\"336.7843\"\n",
       "      /><line y2=\"301\" style=\"fill:none;\" x1=\"85\" x2=\"89.22\" y1=\"301\"\n",
       "      /><line y2=\"265.2157\" style=\"fill:none;\" x1=\"85\" x2=\"89.22\" y1=\"265.2157\"\n",
       "      /><line y2=\"229.4314\" style=\"fill:none;\" x1=\"85\" x2=\"89.22\" y1=\"229.4314\"\n",
       "      /><line y2=\"372.5686\" style=\"fill:none;\" x1=\"507\" x2=\"502.78\" y1=\"372.5686\"\n",
       "      /><line y2=\"336.7843\" style=\"fill:none;\" x1=\"507\" x2=\"502.78\" y1=\"336.7843\"\n",
       "      /><line y2=\"301\" style=\"fill:none;\" x1=\"507\" x2=\"502.78\" y1=\"301\"\n",
       "      /><line y2=\"265.2157\" style=\"fill:none;\" x1=\"507\" x2=\"502.78\" y1=\"265.2157\"\n",
       "      /><line y2=\"229.4314\" style=\"fill:none;\" x1=\"507\" x2=\"502.78\" y1=\"229.4314\"\n",
       "    /></g\n",
       "    ><g transform=\"translate(81,372.5686)\" style=\"font-size:10px; fill:rgb(102,102,102); text-rendering:geometricPrecision; image-rendering:optimizeQuality; color-rendering:optimizeQuality; font-family:'Helvetica Neue'; stroke:rgb(102,102,102); color-interpolation:linearRGB;\"\n",
       "    ><text x=\"-21\" xml:space=\"preserve\" y=\"3.5\" style=\"stroke:none;\"\n",
       "      >-180</text\n",
       "    ></g\n",
       "    ><g transform=\"translate(81,336.7843)\" style=\"font-size:10px; fill:rgb(102,102,102); text-rendering:geometricPrecision; image-rendering:optimizeQuality; color-rendering:optimizeQuality; font-family:'Helvetica Neue'; stroke:rgb(102,102,102); color-interpolation:linearRGB;\"\n",
       "    ><text x=\"-21\" xml:space=\"preserve\" y=\"3.5\" style=\"stroke:none;\"\n",
       "      >-135</text\n",
       "    ></g\n",
       "    ><g transform=\"translate(81,301)\" style=\"font-size:10px; fill:rgb(102,102,102); text-rendering:geometricPrecision; image-rendering:optimizeQuality; color-rendering:optimizeQuality; font-family:'Helvetica Neue'; stroke:rgb(102,102,102); color-interpolation:linearRGB;\"\n",
       "    ><text x=\"-16\" xml:space=\"preserve\" y=\"3.5\" style=\"stroke:none;\"\n",
       "      >-90</text\n",
       "    ></g\n",
       "    ><g transform=\"translate(81,265.2157)\" style=\"font-size:10px; fill:rgb(102,102,102); text-rendering:geometricPrecision; image-rendering:optimizeQuality; color-rendering:optimizeQuality; font-family:'Helvetica Neue'; stroke:rgb(102,102,102); color-interpolation:linearRGB;\"\n",
       "    ><text x=\"-16\" xml:space=\"preserve\" y=\"3.5\" style=\"stroke:none;\"\n",
       "      >-45</text\n",
       "    ></g\n",
       "    ><g transform=\"translate(81,229.4314)\" style=\"font-size:10px; fill:rgb(102,102,102); text-rendering:geometricPrecision; image-rendering:optimizeQuality; color-rendering:optimizeQuality; font-family:'Helvetica Neue'; stroke:rgb(102,102,102); color-interpolation:linearRGB;\"\n",
       "    ><text x=\"-6\" xml:space=\"preserve\" y=\"3.5\" style=\"stroke:none;\"\n",
       "      >0</text\n",
       "    ></g\n",
       "    ><g transform=\"translate(57,300.9999) rotate(-90)\" style=\"font-size:11px; text-rendering:geometricPrecision; color-rendering:optimizeQuality; image-rendering:optimizeQuality; font-family:'Helvetica Neue'; color-interpolation:linearRGB;\"\n",
       "    ><text x=\"-29.5\" xml:space=\"preserve\" y=\"-3\" style=\"stroke:none;\"\n",
       "      >Phase (deg)</text\n",
       "    ></g\n",
       "    ><g style=\"stroke-linecap:butt; fill:rgb(0,114,189); text-rendering:geometricPrecision; image-rendering:optimizeQuality; color-rendering:optimizeQuality; stroke-linejoin:round; stroke:rgb(0,114,189); color-interpolation:linearRGB; stroke-width:0.5;\"\n",
       "    ><path d=\"M85 234.5697 L92.1525 235.4424 L99.3051 236.4653 L106.4576 237.6653 L113.6102 239.0749 L120.7627 240.7334 L127.9153 242.689 L135.0678 245.0011 L142.2203 247.7442 L149.3729 251.0113 L156.5254 254.9188 L163.678 259.609 L170.8305 265.2451 L177.983 271.9875 L185.1356 279.9329 L192.2881 289.0071 L199.4407 298.8552 L206.5932 308.8539 L213.7458 318.3198 L220.8983 326.7704 L228.0509 334.0214 L235.2034 340.1117 L242.3559 345.1848 L249.5085 349.4074 L256.661 352.9321 L263.8136 355.8861 L270.9661 358.372 L278.1187 360.4717 L285.2712 362.2505 L292.4237 363.761 L299.5763 365.0461 L306.7288 366.141 L313.8813 367.0748 L321.0339 367.8718 L328.1864 368.5526 L335.339 369.1342 L342.4915 369.6313 L349.6441 370.0563 L356.7966 370.4197 L363.9492 370.7305 L371.1017 370.9963 L378.2542 371.2236 L385.4068 371.4181 L392.5593 371.5844 L399.7119 371.7267 L406.8644 371.8484 L414.0169 371.9525 L421.1695 372.0415 L428.322 372.1177 L435.4746 372.1829 L442.6271 372.2386 L449.7797 372.2863 L456.9322 372.3271 L464.0847 372.362 L471.2373 372.3919 L478.3898 372.4174 L485.5424 372.4393 L492.6949 372.458 L499.8474 372.474 L507 372.4877\" style=\"fill:none; fill-rule:evenodd;\"\n",
       "    /></g\n",
       "    ><g transform=\"translate(295,44.45)\" style=\"font-size:11px; text-rendering:geometricPrecision; image-rendering:optimizeQuality; color-rendering:optimizeQuality; font-family:'Helvetica Neue'; color-interpolation:linearRGB; font-weight:bold;\"\n",
       "    ><text x=\"-38\" xml:space=\"preserve\" y=\"-3\" style=\"stroke:none;\"\n",
       "      >Bode Diagram</text\n",
       "    ></g\n",
       "    ><g transform=\"translate(295,392.5)\" style=\"font-size:11px; text-rendering:geometricPrecision; color-rendering:optimizeQuality; image-rendering:optimizeQuality; font-family:'Helvetica Neue'; color-interpolation:linearRGB;\"\n",
       "    ><text x=\"-45\" xml:space=\"preserve\" y=\"11\" style=\"stroke:none;\"\n",
       "      >Frequency  (rad/s)</text\n",
       "    ></g\n",
       "  ></g\n",
       "></svg\n",
       ">\n"
      ]
     },
     "metadata": {},
     "output_type": "display_data"
    }
   ],
   "source": [
    "bode(Hs,{1e4,1e8})\n",
    "grid"
   ]
  },
  {
   "cell_type": "markdown",
   "metadata": {
    "slideshow": {
     "slide_type": "subslide"
    }
   },
   "source": [
    "### Sampling Frequency\n",
    "\n",
    "From the bode diagram, the frequency at which $|H(j\\omega)|$ is $-80$&nbsp;dB is approx $12.6\\times 10^6$&nbsp;rad/s.\n",
    "\n",
    "To avoid aliasing, we should choose a sampling frequency twice this = ?"
   ]
  },
  {
   "cell_type": "markdown",
   "metadata": {
    "slideshow": {
     "slide_type": "fragment"
    }
   },
   "source": [
    "$\\omega_s = 2\\times 12.6\\times 10^6$&nbsp;rad/s."
   ]
  },
  {
   "cell_type": "code",
   "execution_count": 18,
   "metadata": {
    "slideshow": {
     "slide_type": "fragment"
    }
   },
   "outputs": [
    {
     "name": "stdout",
     "output_type": "stream",
     "text": [
      "ws =\n",
      "    25200000\n"
     ]
    }
   ],
   "source": [
    "ws = 2* 12.6e6"
   ]
  },
  {
   "cell_type": "markdown",
   "metadata": {
    "slideshow": {
     "slide_type": "subslide"
    }
   },
   "source": [
    "So\n",
    "\n",
    "$\\omega_s = 25.2\\times 10^6$&nbsp;rad/s."
   ]
  },
  {
   "cell_type": "markdown",
   "metadata": {
    "slideshow": {
     "slide_type": "fragment"
    }
   },
   "source": [
    "Sampling frequency ($f_s$) in Hz  = ?"
   ]
  },
  {
   "cell_type": "markdown",
   "metadata": {
    "slideshow": {
     "slide_type": "fragment"
    }
   },
   "source": [
    "$$f_s = \\omega_s/(2\\pi)\\;\\mathrm{Mhz}$$\n"
   ]
  },
  {
   "cell_type": "code",
   "execution_count": 19,
   "metadata": {
    "slideshow": {
     "slide_type": "fragment"
    }
   },
   "outputs": [
    {
     "name": "stdout",
     "output_type": "stream",
     "text": [
      "fs =\n",
      "   4.0107e+06\n"
     ]
    }
   ],
   "source": [
    "fs = ws/(2*pi)"
   ]
  },
  {
   "cell_type": "markdown",
   "metadata": {
    "slideshow": {
     "slide_type": "subslide"
    }
   },
   "source": [
    "$$f_s = 40.11\\;\\mathrm{Mhz}$$\n",
    "\n",
    "Sampling time $T_s = ?$"
   ]
  },
  {
   "cell_type": "markdown",
   "metadata": {
    "slideshow": {
     "slide_type": "fragment"
    }
   },
   "source": [
    "$T_s = 1/fs\\;\\mathrm{s}$"
   ]
  },
  {
   "cell_type": "code",
   "execution_count": 20,
   "metadata": {
    "slideshow": {
     "slide_type": "fragment"
    }
   },
   "outputs": [
    {
     "name": "stdout",
     "output_type": "stream",
     "text": [
      "Ts =\n",
      "   2.4933e-07\n"
     ]
    }
   ],
   "source": [
    "Ts = 1/fs"
   ]
  },
  {
   "cell_type": "markdown",
   "metadata": {
    "slideshow": {
     "slide_type": "subslide"
    }
   },
   "source": [
    "$$T_s = 1/f_s \\approx 0.25\\;\\mu\\mathrm{s}$$"
   ]
  },
  {
   "cell_type": "markdown",
   "metadata": {
    "slideshow": {
     "slide_type": "subslide"
    }
   },
   "source": [
    "### Digital Butterworth\n",
    "\n",
    "zero-order-hold equivalent"
   ]
  },
  {
   "cell_type": "code",
   "execution_count": 21,
   "metadata": {},
   "outputs": [
    {
     "name": "stdout",
     "output_type": "stream",
     "text": [
      "\n",
      "Hz =\n",
      " \n",
      "  0.0004836 z + 0.0004765\n",
      "  -----------------------\n",
      "  z^2 - 1.956 z + 0.9567\n",
      " \n",
      "Sample time: 2.4933e-07 seconds\n",
      "Discrete-time transfer function.\n",
      "\n"
     ]
    }
   ],
   "source": [
    "Hz = c2d(Hs, Ts)"
   ]
  },
  {
   "cell_type": "markdown",
   "metadata": {
    "slideshow": {
     "slide_type": "subslide"
    }
   },
   "source": [
    "### Step response"
   ]
  },
  {
   "cell_type": "code",
   "execution_count": 22,
   "metadata": {},
   "outputs": [
    {
     "data": {
      "image/svg+xml": [
       "<?xml version=\"1.0\"?>\n",
       "<!DOCTYPE svg PUBLIC '-//W3C//DTD SVG 1.0//EN'\n",
       "          'http://www.w3.org/TR/2001/REC-SVG-20010904/DTD/svg10.dtd'>\n",
       "<svg xmlns:xlink=\"http://www.w3.org/1999/xlink\" style=\"fill-opacity:1; color-rendering:auto; color-interpolation:auto; text-rendering:auto; stroke:black; stroke-linecap:square; stroke-miterlimit:10; shape-rendering:auto; stroke-opacity:1; fill:black; stroke-dasharray:none; font-weight:normal; stroke-width:1; font-family:'Dialog'; font-style:normal; stroke-linejoin:miter; font-size:12px; stroke-dashoffset:0; image-rendering:auto;\" width=\"560\" height=\"420\" xmlns=\"http://www.w3.org/2000/svg\"\n",
       "><!--Generated by the Batik Graphics2D SVG Generator--><defs id=\"genericDefs\"\n",
       "  /><g\n",
       "  ><defs id=\"defs1\"\n",
       "    ><clipPath clipPathUnits=\"userSpaceOnUse\" id=\"clipPath1\"\n",
       "      ><path d=\"M0 0 L560 0 L560 420 L0 420 L0 0 Z\"\n",
       "      /></clipPath\n",
       "      ><clipPath clipPathUnits=\"userSpaceOnUse\" id=\"clipPath2\"\n",
       "      ><path d=\"M0 0 L1119.9999 0 L1119.9999 839.9999 L0 839.9999 L0 0 Z\"\n",
       "      /></clipPath\n",
       "    ></defs\n",
       "    ><g style=\"fill:white; stroke:white;\"\n",
       "    ><rect x=\"0\" y=\"0\" width=\"560\" style=\"clip-path:url(#clipPath1); stroke:none;\" height=\"420\"\n",
       "    /></g\n",
       "    ><g transform=\"scale(0.5,0.5)\"\n",
       "    ><image x=\"0\" y=\"0\" width=\"1120\" xlink:href=\"data:image/png;base64,iVBORw0KGgoAAAANSUhEUgAABGAAAANICAIAAAAHNA4rAABPTElEQVR42uzdD3zV\n",
       "db34ccgU/5TdrIcZWnLr3q6Zt1Kra49b90HXunXL0upaD/qj9MvLxoCp6JaQyIRx\n",
       "mYB6UbiDAaKSICZpkPwJFjA3YRALAzc2EJCCRgx0XCbK2Px94ivfzj37C27Adp7P\n",
       "x3n0gO/Ooflx7/F+ebazHm8AAABwRA9HAAAAIJAAAAAEEgAAgEACAAAQSAAAAAIJ\n",
       "AABAIAEAAAgkAAAAgQQAACCQAAAABBIAAIBAAgAAEEgAAAACCQAAQCABAAAIJAAA\n",
       "AIEEAAAgkAAAAAQSAACAQAIAABBIAAAAAgkAAEAgAQAACCQAAACBBAAAIJAAAAAE\n",
       "EgAAgEACAAAQSAAAAAIJAABAIAEAAAgkAAAAgQQAACCQAAAABBIAAIBAAgAAEEgA\n",
       "AAAIJAAAAIEEAAAgkAAAAAQSAACAQAIAABBIAAAAAgkAAEAgAQAACCQAAACBBAAA\n",
       "IJAAAAAEEgAAgEACAAAQSAAAAAIJAABAIAEAAAgkAAAAgQQAACCQAAAABBIAAIBA\n",
       "AgAAEEgAAAACCQAAQCABAAAIJAAAAIEEAAAgkAAAAAQSAACAQAIAABBIAHQbr7/+\n",
       "enl5+a9+9auFCxdu3Lixrq7OmQAgkABIObW1tTk5Oe95z3t6JDj77LMzMjK2bt0a\n",
       "362xsbHuqBP57g0cOPCsFlx44YVf+cpXnnrqKf8SARBIAHSAUDuf/exne7Tgggsu\n",
       "2LZtW3TPnTt3xteXL19+wt7DH//4xz3aMnToUP8qARBIALxVmZmZcWa8//3v79ev\n",
       "33XXXfeud70rvnjFFVc0DaQlS5acrEA644i3v/3tSY20YsUK/zYBEEgAvCX/8A//\n",
       "EAXGxz72sQMHDkQX9+/ff+WVV8btsWfPnlMkkHbt2hVdPHz4cElJyZe//OX4Tbfd\n",
       "dpt/mwAIJACOX11dXRwY3/ve9xLf9Oijj55+1PLly9PS0q699tr4zn379r3hhhvm\n",
       "zp0b33/9+vUZGRlXXXXV+973vi9+8YsjRozYvn17/NbBgwffcMQLL7wwefLkL33p\n",
       "SxdccME///M/h6pJvFv7AylSXFwcv+m6665LfFPr70+wcuXK/v37X3bZZeeff/4H\n",
       "PvCBcM/c3Nzdu3cf3/scrtxyyy1f+MIXwn3+8R//8fvf//7jjz+edJ/4DywvL//F\n",
       "L34R3uHevXt/8IMf/Na3vrVhw4Zjet/a+c8IgEAC4NhcdNFFUWD07NkzPT39ueee\n",
       "a2hoaHq38Nam3/lz8803R2/Ny8s744wzkt4alvtVq1ZFd4i/Zu/yyy9verfwf3p8\n",
       "gbRmzZr4TSNHjoyvt/n+zJgx421ve1vTf6I+ffrE33PV/vc5/GnveMc7mv5pX/va\n",
       "1/bu3RvfLf4Dr7nmmqTzPOuss9atW9f+9609/4wACCQAjlmIoqQl+7zzzvvmN785\n",
       "adKkF198Mb7bv//7v3/hC1+I7/OpT33qK1/5ypQpU8Kbnnzyyfj6Bz/4wSuuuCL+\n",
       "7TnnnPPnP/85sQ2CsP1/8pOf/Pu///v4yoUXXvj6668fayC99NJL3/3ud+M3FRYW\n",
       "RtfbfH8aGxvf/e53R1euuuqq8ePHDxgwILwpunLjjTcm9Uzr7/Nvf/vb0047Lbp4\n",
       "5plnhj8wvCm+W/ynJf2BwTvf+c7E3/br1++NIy8V2J73rT1nDoBAAuCYvfrqq5/7\n",
       "3OeafWm4UAX/8R//EX9lV7Pfg3Tw4MHevXtHFwcNGhQ9+7Rly5Z4yx8xYkRiG5xx\n",
       "xhlLly6NHnvvvffGf+DUqVPbE0h9+vT5uyMuvvjixHf1G9/4xuHDh9v5/rzwwgvx\n",
       "A+OvEhw7duw7j/joRz+a1DOtv88hY+JQiZ/hufnmm+O7NX0a7eyzz3788ccPHTr0\n",
       "/PPPx/8gH/rQh8J92vO+tfPMARBIAByPsGHPnDnzM5/5TLNfR3fZZZe18iINpaWl\n",
       "8VforVmzpvyo6667Ls6GxDZI+k6nSy+9NLp+/fXXtyeQmvWJT3yitra2/e/Prl27\n",
       "4sf26tXrxhtvfPTRR0NgJP3/tud9DnkZfzlcfn5+fJ/QMHGuhLxJ+gN/+MMfxvf8\n",
       "0Y9+FFdT+G173rd2njkAAgmAtyQkUFjHf/CDH5x33nmJBZKXl9dSIE2fPr31ejn9\n",
       "9NMT2+B//ud/Ev8fBw0aFF2/8sor2xNIvXv3/vARSe9h3759j+n9Cc3T7Df5jB49\n",
       "Ov4xuO15n9etWxc/fOPGjYl3+9KXvhRdD+eZ9AeOGjUqvtsDDzwQXTzttNOiK22+\n",
       "b+38ZwRAIAFwbELnjD1i/Pjxhw4diq+HX+fm5sYLd9j1WwqkCRMmtPlTXPft2xe3\n",
       "wUMPPZT4DmRlZUXXQ/O0J5Di70FqaGgoKSmJn8wJwm/b//7U19eH9+Rzn/tc05+n\n",
       "dPXVVzc2Nib2TCvv87PPPhs/sLKyMvFu3/jGN+Iv/0sKpPvvvz++27Rp05ICqc33\n",
       "rZ3/jD68AQQSAMcmcdUuLS1Neuvf/u3fxj8iqaVAeuaZZ+Iv9/rTn/60tzlhp4/b\n",
       "YNiwYYn/F9/61rfi1f+YAimS+FzKfffd1/73J/4Tamtrf/nLXw4ePPhv/uZv4j/q\n",
       "hRdeSOyZVt7n6urq+FGLFi1KvNtHP/rR6PpPfvKTYwqkNt+3Y/1nBEAgAdAuRUVF\n",
       "8eb9T//0T4mvSb127drTTz898XtmEgNp5syZ0d127NgRf+fSnDlz4oc/8cQTnz3i\n",
       "hhtuSGyDiy666OWXX47us23btl69ekXXQwYcRyDt27cvflNWVlY735+pU6e+44hP\n",
       "fepT8R0Snwtavnx5+9/n888/P/rt17/+9ThLli1bFv9pjz32WPsDqT3vWzvPHACB\n",
       "BMCxOXjwYOJXqZ1zzjnXXnvtf/7nf37xi1+M6yiYP39+uHPIp/jKBRdcEP8s1P79\n",
       "+8ev9nbNNdc88MADIWnOPPPMxG/gSXyF64997GPjx48fO3bsBz7wgfjl8ioqKo4j\n",
       "kIKzzz47elN4t6Mrbb4/ia8Ud+utt4bm2bp164033hhdefvb337gwIH2v88PPvhg\n",
       "4g8+mjJlyk9/+tP4xyJdcskl8SuYtyeQ2vm+tefMARBIAByzsILHz4E0a+jQofGd\n",
       "4y+6S/xBsXv27Em6nvjaCa+99lpiGzT7I1BvueWWVt7D1gPpsssuS/oivfa8P9df\n",
       "f31L/7xDhgxJ6pnW3+eGhobQk83+USGTiouL43e1nV9i1573rT3/jAAIJACOR6iO\n",
       "7Ozsc889N2nV/uQnP/mLX/wi8btZSktLL7/88qRACv73f/934MCB8c8zjX4Kanhr\n",
       "01eEGzNmzHe+8534J6ued95548ePb/3dS/xRtk1/BOoNN9wQvyh2/IVwbb4/9fX1\n",
       "d9555wUXXJD4zxt+O3LkyPift/3vc2ik0Dzvfe97E19H7pprrtm+fXvi3ZoNpJkz\n",
       "ZzZ9kYY237f2/DMCIJAAOH6vvfZaZWXlkiVL5s2b99vf/raVl0F79dVXQ1NVV1eH\n",
       "VT6pEzZv3rx06dINGzaE+7TSBmG5LyoqCv93nfpaAq28P3GKVFVVrTgivDPRj5p9\n",
       "K+9zOJbf/OY34f8u8SUBj0/r71v7/xkBEEgAnHKaffLE+wyAQAJAIHmfARBIAKSw\n",
       "97znPW8/YuLEid5nAAQSAACAQAIAABBIAAAAAgkAAEAgAQAACCQAAACBBAAAIJAA\n",
       "AAAEEidLdXX1ihUrDhw40J4719XVbdq0qbi4uKKiIvza6QEAgEDqVgoKCgYMGLB5\n",
       "8+bW79bY2Lh06dKMjIwBR2VmZi5btswBAgCAQOoODh48OH/+/Kh22gyklStXhrsN\n",
       "HDhw7ty5RUVF06dPT0tLC1fWrl3rJAEAQCB1YRs2bLj77rsHDRoUPx3UeiA1NDTc\n",
       "fvvt4W6lpaXxxSiuxo0b5zwBAEAgde1AuuuogQMHthlIu3fvDve54447Ghsb44s1\n",
       "NTXh4pAhQ5wnAAAIpG5i0qRJbQbSjh07Qko9/PDDSRfDA7Ozs50hAAAIpBQKpGbN\n",
       "nDkzPDA/P98ZAgCAQErdQGpsbHzyySfDozIyMnbt2tXKPQcAANAd2aIFkkB6Uyii\n",
       "vLy88JDBgwdv3Lix9TsbnhPDOTtq54yjds44akctkDjRgdTQ0LBw4cLoRyGFRqqu\n",
       "rjY8Pkk5apyzo8Y5O2pHjUBKxUCqr6+fMmVKuOfNN99cVFSU+HJ2hscnKUeNc3bU\n",
       "OGdH7agRSKkVSNE3HeXk5Ozbt8/w+CTlqHHOjhrn7KgdNQIphQJpx44dvz4i+m2I\n",
       "ooyMjCFDhtTW1hoen6QcNc7ZUeOcHbWjdggCKbUCacmSJYmvT7Jq1aroZ8Le38Qj\n",
       "jzxieHySctQ4Z0eNc3bUjhqB1E3k5+e3FEjp6enRb+fOndvSKzzeeeedhscnKUeN\n",
       "c3bUOGdH7agRSBgeAAA7HgIJwwMAYMdDIGF4AACw4wkkDA8AAHY8gYThAQDAjieQ\n",
       "MDwAANjxBBKGBwAAO55AwvAAAGDHE0gYHgAA7HgCCcMDAIAdTyBheAAAsOMJJAwP\n",
       "AAB2PIGE4QEAwI4nkDA8AADY8QQShgcAADueQMLwAABgxxNIGB4AAOx4AgnDAwCA\n",
       "HU8gYXgAALDjCSQMDwAAdjyBhOEBAMCOJ5AwPAAA2PEEEoYHAAA7nkDC8AAAYMcT\n",
       "SBgeAADseAIJwwMAgB1PIGF4AACw4wkkDA8AAHY8gYThAQDAjieQMDwAANjxBBKG\n",
       "BwAAO55AwvAAAGDHQyBheAAA7HgIJAwPAIAdD4GE4QEAsOMhkDA8AAB2PAQShgcA\n",
       "wI6HQMLwAADY8RBIGB4AADseAgnDAwCAHU8gYXgAALDjCSQMDwAAdjyBhOEBAMCO\n",
       "J5AwPAAA2PEEEoYHAAA7nkDC8AAAYMcTSBgeAADseAIJwwMAgB1PIGF4AACw4wkk\n",
       "DA8AAHY8gYThAQDAjieQMDwAANjxBBKGBwAAO55AwvAAAGDHE0gYHgAA7HgCCcMD\n",
       "AIAdTyBheAAAsOMJJAwPAAB2PIGE4QEAwI4nkDA8AADY8QQShgcAADueQMLwAABg\n",
       "xxNIGB4AAOx4AgnDAwCAHU8gYXgAALDjCSQMDwAAdjyBhOEBAMCOJ5AwPAAA2PEE\n",
       "kiMwPAAA2PEQSBgeAAA7HgIJwwMAYMdDIGF4AADseAgkDA8AgB0PgYThAQCw4yGQ\n",
       "MDwAAHY8BBKGBwDAjodAwvAAqaT/nPLo1ndyWbj1GFqYdAtv6pNbEt2i+7R+i+8c\n",
       "3dr5B+Ys3hrd/BsB7HgCCcMD0Inxk1gmp36QtBRs4V2Nsyq+j3/FgB1PIGF4AFqr\n",
       "oBAVqdMP8T9p/GyViALseAIJwwOkYg7FX6LmTI4pohK/tM/X9QF2PIGE4QHkEMma\n",
       "fgOVJ6AAO55AwvAAp8bfKAlfLOc0TpFGbfaLGB0O2PEQSBgeoLNW8Gjzjm7OpIu2\n",
       "U/zFew4H7HgIJMMDcAwSvxnGaWgnwI4nkDA8QEr+beHL57STdgI7nkDC8AApLvHn\n",
       "qDoN2mynpi+453DAjieQMDyALgLtBHY8gYThAbp+F3mRaLQT2PEEEoYH0EW6iFNI\n",
       "/JNwE9spvvkhuWDHE0gYHqBTusjX0dENPoAT20nngx1PIGF4gGPjdbrp9rzgHtjx\n",
       "BBKGB9BF0Lb4i/c8AYUdD4GUKqqrq1esWHHgwAHDA0Ti/5TuKKD9I5P06hEiCoEk\n",
       "kOiqCgoKwkhs3rzZ8ABvHPk+DYcAIgqBhEBKRQcPHpw/f/6AIwQSpLh4RbOlwUmP\n",
       "qPjL+eLviUr8Aj8vyodAEkh0vA0bNtx9992DBg0acJRAghT9nJ7wLelOA7piTcVP\n",
       "QzVbU/6rBwJJINHeQLrrqIEDBwokSEHxD41xFJA6NdX0uamkH7nrSSqBhEDijUmT\n",
       "JgkkSDW6CDiOrGr6bFXTvopf988LvQgkgYRAAk75z+C+oA444X11fKHV9OGKSyAJ\n",
       "JE65QOpxxIAmoust3d91110/da437SLn47rrrneZ65+9MdxyFm9NDqcvZ/e4/r6m\n",
       "P6Wqx02P/eV2tMH+ejtyPfGeb37Z4fX3xX9O8p//5ez4Kw//+hRZeH+64Hkm7W+J\n",
       "G52tWCBxzIHkvy5AF+UV6gA6QxxLTZ/vSnrSrD23Zl8Cvs1bMwV4XDc7nkBCIEH3\n",
       "l/iXrtMAwI4nkBBIkNJ0EQACSSAhkCDlP017JQYABJJAQiABEV0EgEASSAgkSHW+\n",
       "4wgAgSSQ6AD5+fkCCboBXQSAQBJIGB7QRV7CGwA7nkDC8ABHA8khAGDHE0gYHkj1\n",
       "LvLEEQB2PIGE4QHeDCSHAIAdTyBheCClxc8aeeIIADueQMLwQKrzxBEAdjyBhOGB\n",
       "VOdnHAFgxxNIGB7gTboIADueQMLwQMp/wh1aGN0EEgB2PIGE4YFUp4sAsOMJJAwP\n",
       "pDrfcQSAHU8gYXiAN+kiAOx4AgnDAwgkAOx4AgnDAxztIj8EFgA7nkDC8ABvBpJD\n",
       "AMCOJ5AwPJDan1W9ljcAdjyBhOEBIroIADueQMLwAAIJADueQMLwAEfEr8cgkACw\n",
       "4wkkDA+kOl0EgB1PIGF4INX1nVwW3QQSAHY8gYThgVSniwCw4wkkDA8gkACw4wkk\n",
       "DA8Qfer0w44AsOMJJAwPENFFANjxBBKGBxBIANjxBBKGBzjCa9YBYMcTSBge4E26\n",
       "CAA7nkDC8AACCQA7nkDC8ABH9J9THt0EEgB2PIGE4YGU/0Q5tNAhAGDHE0gYHkAg\n",
       "AWDHE0gYHiDhK+sEEgB2PIGE4YGU//yoiwCw4wkkDA8gkACw4wkkDA/wF/FPgxVI\n",
       "ANjxBBKGB1L+06IuAsCOJ5AwPIBAAsCOh0AyPMCbXRTfnAYAdjyBhOGBVA8khwCA\n",
       "HQ+BZHgAgQSAHQ+BhOEBr1kHgB0PgYThgb9+EtRFANjxEEgYHhBIANjxEEgYHhBI\n",
       "ANjxEEgYHkjQf055dBNIANjxEEgYHlL+c58uAsCOh0DC8IBAAsCOh0DC8MBf9Mkt\n",
       "iW4CCQA7HgIJw0PKf8rTRQDY8RBIGB4QSADY8RBIGB4QSADY8RBIGB5I0HdyWXQT\n",
       "SADY8RBIGB5S/jOdLgLAjodAwvCAQALAjodAwvDAX+Qs3hrdBBIAdjwEEoaHlP8E\n",
       "p4sAsOMhkDA8IJAAsOMhkDA8IJAAwI4nkDA8kMCLegNgx3MIAgnDA0c/r+kiAOx4\n",
       "CCQMDwgkALDjCSQMDwgkALDjCSQMDyTwrUcAYMcTSBgeOPrpTBcBgB1PIGF4QCAB\n",
       "gB1PIGF4QCABgB1PIGF4IIFvPQIAO55AwvDA0c9iuggA7HgCCcMDAgkA7HgCCcMD\n",
       "AgkA7HgCCcMDCfrPKY9uAgkA7HgCCcNDyn/y0kUAYMcTSBgeEEgAYMcTSBgeEEgA\n",
       "YMcTSBgeEEgAYMcTSBgeaMprMwCAHU8gYXjg6OcsXQQAdjyBhOEBgQQAdjyBhOEB\n",
       "gQQAdjyBhOGBBH1yS6KbQAIAO55AwvCQ8p+qdBEA2PEEEoYHBBIA2PEEEoYHBBIA\n",
       "2PEEEoYHEvipRwBgxxNIGB44+hlKFwGAHU8gYXhAIAGAHU8gYXhAIAGAHU8gYXhA\n",
       "IAGAHU8gYXigKT8WFgDseAIJwwNHPzHpIgCw4wkkDA8IJACw4wkkDA8IJACw4wkk\n",
       "WlVXV1dZWVlcXFxeXr5///72POTAgQMbN24sKioK/1tbW2t4EEgAIJAQSN1BSUlJ\n",
       "ZmbmgKMyMjIWLVrU+kOWLVuW9JCnn37a8NCF9J9THt0EEgAIJIHEX1VVVaWlpYWP\n",
       "7IKCgpUrV86aNSv6bWlpaUsP+d3vfhfukJ6eHu5cVFQ0bdq0EEjhSnFxseGhy3w+\n",
       "0kUAIJAEEk1NnDgxfFjPnj07vrJ48eJwZeTIkS09JKRUuEPiU0aPP/54uDJhwgTD\n",
       "g0ACAIGEQOqq6uvroyd/9u7dG188dOjQoEGDwsWamppmHxVCKLx1/fr18ZXoOaWc\n",
       "nBzDg0ACAIGEQOqqqqurw8d0VlZW0vW8vLxwvby8vNlHLViwILz10Ucfja/MmDEj\n",
       "XHniiScMD6c433oEAAJJINGiqqqq8DE9ZsyYpOv5+fnh+urVq5t9VG1tbW5ubrjD\n",
       "fffdN2/evNGjR0dfkpf4NJTh4RT9NKSLAEAgCSRasmnTpvAxnZeXl3Q9ekaopRdd\n",
       "aGhoWLhw4YD/a/78+Y2Nja0PT7P8W0AgAUCXCCHrnEDq/ioqKpoNpOhlGFoKpEce\n",
       "eSS8dfDgwfPmzVuzZk1Io5tvvjlcefDBB/3XBQQSAKRaODkEgdR9bN68OXxMjxo1\n",
       "Kun6pEmTWnql78OHD2dmZqalpVVVVcUXd+7cGb2uw8svv2x4EEgAIJAQSF3Snj17\n",
       "oueCkr46bsSIEeF6ZWVl04eEi82+CPiDDz4Yrq9atcrwcArqO7ksugkkABBIAokW\n",
       "NTQ0ZGZmhg/r7du3xxdra2vT09PT0tLCL5o+JNwz3P/OO+9Mun7vvfeG62VlZYaH\n",
       "U/Gzjy4CAIEkkGiPqVOnRj/jNX4SKXqFhrFjx0a/3bFjx6+PiH4b/+iklStXxg95\n",
       "/vnn047Yt2+f4UEgAYBAQiB1VdXV1dG3D2VlZU2bNm348OHh1yF14q+vW7JkSdLr\n",
       "k/zmN7+JroSHzJo1a/LkyeH+4bdPP/204UEgAYBAQiB1bVu2bMnJyYlfqHHYsGHr\n",
       "16+P3xoFUnp6euJDSkpKwt3ih9x2222hmhoaGgwPAgkABBICCcPDqchrMwCAHU8g\n",
       "YXjgTX1ySxwCANjxBBKGBwQSANjxBBKGBwQSANjxBBKGBwQSANjxBBKGB5L1n1Me\n",
       "3QQSANjxBBKGh1SniwDAjieQMDwgkADAjieQMDwgkADAjieQMDwgkADAjieQMDwg\n",
       "kADAjieQMDzQyqeYoYU5i7eGm6MAADueQMLwkOo8cQQAdjyBhOEBgQQAdjyBhOEB\n",
       "gQQAdjyBhOEBgQQAdjyBhOGB5rsovjkNALDjCSQMD6keSA4BAOx4AgnDAwIJAOx4\n",
       "AgnDAwIJAOx4AgnDAwIJAOx4AgnDA8n6Ti6LbgIJAOx4AgnDQ6rTRQBgxxNIGB4Q\n",
       "SABgxxNIGB4QSABgxxNIGB4QSABgxxNIGB4QSABgxxNIGB5otYvim9MAADueQMLw\n",
       "kOqB5BAAwI4nkDA8IJAAwI4nkDA8IJAAwI4nkDA8IJAAwI4nkDA8kCxn8dboJpAA\n",
       "wI4nkDA8pDpdBAB2PIGE4QGBBAB2PIGE4QGBBAB2PIGE4QGBBAB2PIGE4QGBBAB2\n",
       "PIGE4YGW9Z1cFt0EEgDY8QQShodUp4sAwI4nkDA8IJAAwI4nkDA8IJAAwI4nkDA8\n",
       "IJAAwI4nkDA8IJAAwI4nkDA80GoXxTenAQB2PIGE4SHVA8khAIAdTyBheEAgAYAd\n",
       "TyBheEAgAYAdTyBheEAgAYAdTyBheEAgAYAdTyBheKDlLvLidQBgxxNIGB54M5Ac\n",
       "AgDY8QQSHebQoUMLFiyYMGFCdnZ2+O26dev2799veBBIAIAdTyClnLFjx55//vk9\n",
       "jgpXrr766rPOOmvUqFGGB4EEANjxBFIKGTp0aNRFvXv3jgPpW9/6VvTr0aNHGx4E\n",
       "EgBgxxNIKaGoqChU0GmnnTZt2rTw2wsuuCAKpNdffz03Nzf8+txzz62trTU8CCQA\n",
       "wI4nkLq/UaNGhQrKysqKfhsHUuQjH/lI+G1xcbHh4ZTtIi9eBwACSSDRYb7yla+E\n",
       "BCoqKmo2kH784x+H386ZM8fwcMoGkkMAAIEkkOgwP/zhD0MCPfPMM80GUpRPnkFC\n",
       "IAEAdjyBlBImTpwYEiiEUNNA+t3vfterV6+ePXue9Nf7NjwIJAAQSAikE6GmpubC\n",
       "Cy8MUfS1r33tueeeO++888Kv//CHP0yfPv39739/+PX3vvc9w4NAAgDseAIpVaxY\n",
       "seId73hHj+Zccsklp8KPizU8CCQAEEgIpBNn586dP/jBD9797nfHaXTxxRffe++9\n",
       "r732muHhFNR/Tnl0E0gAIJAEEp1o165d69atq6mpMTycynQRAAgkgYThAYEEAHY8\n",
       "BFJHu/baay87Fn/84x8NDwIJALDjCaTu6dJLL+1xLLZt22Z4EEgAgB1PIHVPK1as\n",
       "WJDgX//1X0MFnX322QMHDpw9e/aiRYsKCgq+8IUvRHU0ZcqUV1991fAgkAAAO55A\n",
       "6v7Wrl3bs2fP8847b9OmTUlv+u///u8QSJdeemljY6PhQSABAHY8gdT9DRo0KFTQ\n",
       "/fff3+xbr7zyyvDWF1980fBwSnwiGFoYvbq3owAAgSSQ6BTR19c9++yzzb71pptu\n",
       "Cm+dN2+e4eFU4IkjABBICKTOdf3114cE+tnPftbsW/v27RveWlhYaHgQSACAHU8g\n",
       "dX/jxo0LCfTpT3/6wIEDSW9auHDhaaed1rNnz9raWsODQAIA7HgCqfurrKw855xz\n",
       "QiN94hOfePjhh7ds2fLnP/953bp1t91221lnnRWuf/Ob3zQ8CCQAwI4nkFLF7Nmz\n",
       "e/bs2exPQLrkkktO+tNHhgeBBAACCYF0QpWVlX3961/v1atXnEYXXXTRPffcU1dX\n",
       "Z3g4+fM/tDC6CSQAEEgIpBOnoaHhpZdeev755/fv3294OHXoIgAQSAikE6Surm5P\n",
       "W0I4GR4EEgBgxxNI3d/IkSN7tGXbtm2GB4EEANjxBJJA6nHeeef96U9/MjwIJADA\n",
       "jieQur9Dhw4daGLr1q2PPvroxRdf/J73vKesrMzwIJAAADueQEp1L7744jvf+c4L\n",
       "LrigsbHR8HDi9Z9THt0EEgAIJATSKeHb3/52jx49ysvLDQ8nni4CAIGEQDq1fPe7\n",
       "3w2B9PjjjxseBBIAYMcTSClt796955xzTgikoqIiw4NAAgDseAKp+1u6dOlPmtOv\n",
       "X7+zzz471FH433379hkeBBIAYMcTSN1f6y/z/ba3vW369OmGB4EEANjxBFJKWLBg\n",
       "QXpzbrnllgkTJmzevNnwIJAAADueQMLwcJKmfWhhdBNIAGDHQyCdaMuWLRs2bFhp\n",
       "aWmzb83Pzw9v9T1InEi6CAAEEgLppIm+B2nKlCnNvvUzn/lMeOu2bdsMDwIJALDj\n",
       "CaRu69lnny084oYbbggJdOuttxY28fTTT7/rXe8Kb921a5fhQSABAHY8gdRtnX/+\n",
       "+T3aJzRSfX19K39UXV1dZWVlcXFxeXn5/v372/kOHDhwoKysrLS09A9/+IPhQSAB\n",
       "gEBCIJ1Mn/70pz90xLvf/e5QQe9973s/1MTf/d3fff7zn3/iiSda+XNKSkoyMzMH\n",
       "HJWRkbFo0aI202jcuHFpaWnxox588MHXX3/d8CCQAEAgIZBOsta/B6l1VVVVUecU\n",
       "FBSsXLly1qxZ0W9besmH4ODBg2PGjAn3yc3NfeaZZ+bMmXPrrbeG34ZfGB4EEgAI\n",
       "JATSSTZ16tQrrrhi3rx5x/HYiRMnhg/r2bNnx1cWL14croToaukhS5YsCXcYP358\n",
       "Q0NDdGXDhg3hytChQxsbGw1PSg/50ML+c8rDzVEAgEBCIHU99fX1GRkZ4cN67969\n",
       "8cVDhw4NGjQoXKypqWn2UaNHjw5vTXrVhxUrVhQWFsbJZHhSkyeOAEAgIZBOjrvu\n",
       "uuv73//++PHjw6/nzZv3/bb8+c9/bvqHVFdXh4/prKyspOt5eXnhenl5M88DvPzy\n",
       "y+FNw4cPf+PI19pVVFRs3LixtrbW8CCQAEAgIZBOmksvvbRHjx5f/epX3zj6PUit\n",
       "a/bnIFVVVYWP6TFjxiRdz8/PD9dXr17d9CHhzwlvmjx58s9//vPEF2l46KGHQi8Z\n",
       "HoHkEABAICGQToIpU6bk5uY+/vjj4ddFRUW5bXnllVea/iGbNm0KH9N5eXlJ12fM\n",
       "mBGuFxcXN33I73//+/Cm9PT08L/333//woULw/swePDg8Ntp06a1PjzN8q9SIAEA\n",
       "XSKErHMCqfurqKhoNpAKCgpaCqS1a9dGk/DYY4/FF7dv3x4l086dO/3XBYEEAKRU\n",
       "ODkEgdR9bN68OXxMjxo1Kun6pEmTWnql7xdeeCEKpKSfJ/vAAw+Ei88995zhSUHR\n",
       "K9eFm0ACAIGEQDo5srOzv38smn2Rhj179oSP6cGDBye9PPeIESPC9crKyqYPeeml\n",
       "l8KbhgwZknT9Zz/7Wbjeyk+YNTzdmC4CAIGEQDrJohdpaL9mX6ShoaEhMzMzfFhv\n",
       "3749vlhbW5uenp6Wltbsa9OFh9xyyy3hIfv27Uu8Pn78+HBxzZo1hkcgAQACCYF0\n",
       "os2YMSP3WDT7Ig1vHPkhs+HDesKECfGTSNErNIwdOzb67Y4dO359RPyQhx56KNwh\n",
       "PPDw4cPRlfXr10fPRLXyet+GRyABAAIJgXSqq66ujn4sbFZW1rRp04YPHx5+nZaW\n",
       "Fn993ZIlS5Jen+Tll1++4447wpWcnJw5c+bk5+dHr/f9zDPPGB6BBAAIJATSqeLA\n",
       "gQOFhYVTpkwZPXr0o48+unr16qRvLmrWli1bQurEL9Q4bNiw9evXx2+NAik9PT3x\n",
       "Ibt27XrggQeiL8+LHtLsS94ZHoEEAAgkBNJJ0NDQcN99951//vlJ33p0+eWXL126\n",
       "1PAgkAAAO55ASiHZ2dlREZ1++umXXHLJVVdddeGFF8ZXWnn1bcPDces7uSy6CSQA\n",
       "EEgIpFPIypUroxa66aabdu3aFV9ftWrVFVdcEa5ffPHFhocOp4sAADueQDoV3XXX\n",
       "XaGCvv3tbzd9U01NTfR1d1u3bjU8CCQAwI4nkLq/r371qyGBfvnLXzb71u985zvh\n",
       "rfPmzTM8CCQAwI4nkLq/KIGWLVvW7Fv79esX3vrUU08ZHgQSAGDHE0jdX15eXkig\n",
       "22+/vembDhw40Lt37/DWP/7xj4YHgQQA2PEEUve3Y8eOiy66qGfPnlOmTDl8+HB8\n",
       "fffu3dFX3/Xr18/wIJAAADueQEoJ8+fP/5d/+Zfohez69Onzve99b+DAgddcc82Z\n",
       "Z54ZXfzBD34wIMGSJUsMD2+li+Kb0wAAgeQQBNIpZ+TIkT2OxT333GN4eCuB5BAA\n",
       "ADueQDp1LVu2bNixWLlypeFBIAEAdjyBhOFBIAEAdjyBhOFBIAEAdjyBlCL27dv3\n",
       "4IMPDhw48P+1YM+ePYYHgQQA2PEEUvdXU1PTp0+f1l+YYdu2bYYHgQQA2PEEUvd3\n",
       "9913hwQ67bTTrr322p/85Cd3Nufll182PLzFLvLq3gCAHU8gdQHXXXddCKSxY8ca\n",
       "HjpP38llDgEAsOMJpC7g3/7t30IgFRUVGR4EEgBgxxNIqS76QbE//elPDQ8CCQCw\n",
       "4wmkVPe73/2uV69eH/jABzZt2mR4EEgAgB1PIKW6uXPnRq9Wd9VVVw1pzt69ew0P\n",
       "AgkAsOMJpO5v9+7dH/nIR7zMNwIJALDjCSTeGD9+fEignj17Xn311UOGDBnaHM8g\n",
       "cdxdFN+cBgBgxxNIXcA3v/nNEEi5ubmGh84IJIcAANjxBFJX8u1vfzsE0qpVqwwP\n",
       "AgkAsOMJpFR37733hkCaOnWq4UEgAQB2PIGU6nbs2NG7d+/zzz+/qqrK8CCQAAA7\n",
       "nkBKaaWlpWlpaT169OjVq1e/fv1+0px9+/YZHgQSAGDHE0jd38iRI3u0xct8I5AA\n",
       "ADueQEoJCxYsSG9LTU2N4aH9+s8pj24CCQCw4wmkbmXTpk3Z2dm7d+82PLSfLgIA\n",
       "7HgCqVupq6t75JFHPv/5z/sSOwQSAGDHE0ipa926dQMHDnzXu94VfwNSz549d+zY\n",
       "YXgQSACAHU8gpYpXXnll8uTJl19+eeJrM3zsYx/Ly8s76XVkeAQSACCQEEgnyMqV\n",
       "K3/4wx+eddZZiWl07bXXlpWVGR4EEgBgxxNIKaG6uvqee+75yEc+EkdRaKTvfOc7\n",
       "V1xxRfh1QUGB4UEgAQB2PIGUEtLS0k4//fSoi972trd98YtfnDlz5v79+8ObfvSj\n",
       "HwkkBBIAYMcTSCnk0ksvDRV0xhlnjBs3bteuXYlvEkgc/5QOLYx+/JGjAADseAKp\n",
       "6wVS0Lt379tvv/35558XSLx1njgCAOx4AqlLqqyszM7Oft/73hd/A9LHP/7x8ePH\n",
       "79y5UyAhkAAAO55ASkX19fVPPfXU1772tdNOOy3+fqQzzzwz/GLq1KmGB4EEANjx\n",
       "BFIq+uMf/5ibm/uhD30ofkLp3HPPvemmm5599lnDg0ACAOx4AikVNTY2FhYW9uvX\n",
       "r1evXnEpffjDHx41atSrr75qeBBIAIAdTyClor17906cOPHjH/94nEnbtm0zPAgk\n",
       "AMCOJ5BS2po1a8JH7bnnnvvSSy8ZHlrSJ7ckugkkAMCOJ5C6v4MHDxoeWqGLAAA7\n",
       "nkDC8CCQAAA7nkDC8CCQAAA7nkDC8CCQAAA7nkDC8CCQAAA7nkDC8CCQAAA7nkDC\n",
       "8NCeLopvTgMAsOMJJAxPqgeSQwAA7HgCCcODQAIA7HgCCcODQAIA7HgCCcODQAIA\n",
       "7HgCCcODQAIA7HgCCcODQAIA7HgCCcODQAIA7HgCCcND+0ZxaGH/OeXh5igAADue\n",
       "QMLwpDpPHAEAdjyBhOFBIAEAdjyBhOFBIAEAdjyBhOFBIAEAdjyBhOFBIAEAdjyB\n",
       "hOFBIAEAdjyBhOGhTX1yS6KbQAIA7HgCCcOT6nQRAGDHE0gYHgQSAGDHE0gYHgQS\n",
       "AGDHE0gYHgQSAGDHE0gYHgQSAGDHE0gYHgQSAGDHE0gYHgQSAGDHE0gYHto9eEML\n",
       "+88pDzdHAQDY8QQShifVeeIIALDjCSQMDwIJALDjCSQMDwIJALDjCSQMDwIJALDj\n",
       "CSQMDwIJALDjCSQMDwIJALDjCSQMD23qk1sS3QQSAGDHE0gYnlSniwAAO55AwvAg\n",
       "kAAAO55AwvAgkAAAO55AwvAgkAAAO55AwvAgkAAAO55AwvAgkAAAO55AwvAgkAAA\n",
       "O55AwvDQ7jEbWhjSKLo5DQDAjieQMDwpTRcBAHY8gYThQSABAHY8gYThQSABAHY8\n",
       "gUTHqqurq6ysLC4uLi8v379//zE99pVXXlmxYsX27dsNj0ACAAQSAqnLKykpyczM\n",
       "HHBURkbGokWL2vnYxsbG+++/PzxqwYIFhkcgAQACCYHUtVVVVaWlpYWP7IKCgpUr\n",
       "V86aNSv6bWlpaXsevmzZsiirBJJAAgAEEgKpy5s4cWL4sJ49e3Z8ZfHixeHKyJEj\n",
       "23zszp07Bw0aNGTIEIF00vWfUx7dBBIAIJAEEsepvr4+IyMjfFjv3bs3vnjo0KGQ\n",
       "PeFiTU1N648dPXr0bbfdtnz5coF00ukiAEAgCSTequrq6vAxnZWVlXQ9Ly8vXC8v\n",
       "L2/lsfPmzQv3KSsrW7t2rUASSACAQEIgdXlVVVXhY3rMmDFJ1/Pz88P11atXt/TA\n",
       "ysrKtLS0GTNmhF8LJIEEAAgkBFJ3sGnTpvAxnZeXl3Q9lE+4Xlxc3OyjXn311Tvu\n",
       "uCM7O7uuru6YAqlZ/i0IJACgS4SQdU4gdX8VFRXNBlJBQUErgRTl08aNG6PfegZJ\n",
       "IAEAqRxODkEgdR+bN28OH9OjRo1Kuj5p0qSWXul73bp14U3Tpk07eNSqVavClaee\n",
       "eir8+vDhw4ZHIAEAAgmB1CXt2bMnfEwPHjy4sbEx8fqIESPC9crKyqYPeeKJJ1p5\n",
       "gnX58uWGRyABAAIJgdQlNTQ0ZGZmhg/r7du3xxdra2vT09PT0tLCL5o+ZM2aNfn/\n",
       "16hRo6KfmxR+HX/dneE5QUM1tDC6CSQAQCAJJDrA1KlTw4f1hAkT4ieRom8xGjt2\n",
       "bPTbHTt2/PqIlv4E34N0EukiAEAgCSQ6UnV1dfRjYbOysqZNmzZ8+PDw67S0tPjr\n",
       "65YsWdL665MIJIEEAAgkBFL3sWXLlpycnPj7iIYNG7Z+/fr4rVEgpaent/TwsrKy\n",
       "cIdnnnnG8AgkAEAgIZAwPAIJALDjIZAwPAIJALDjIZAwPAIJAMCOJ5AwPAIJAMCO\n",
       "J5AwPKfULA0t7D+nPNwcBQBgxxNIGJ5U54kjAMCOJ5AwPAgkAMCOJ5AwPAgkAMCO\n",
       "J5AwPAgkAMCOJ5AwPAgkAMCOJ5AwPAgkAMCOJ5AwPLQpemnvcBNIAIAdTyBheFKd\n",
       "LgIA7HgCCcODQAIA7HgCCcODQAIA7HgCCcODQAIA7HgCCcODQAIA7HgCCcODQAIA\n",
       "7HgCCcODQAIA7HgCCcNDuydnaGF0E0gAgB1PIGF4Up0uAgDseAIJw4NAAgDseAIJ\n",
       "w4NAAgDseAIJw4NAAgDseAIJw4NAAgDseAIJw4NAAgDseAIJw4NAAgDseAIJw0O7\n",
       "B+bIDz5SRwCAHU8gYXjwxBEAYMcTSBgeBBIAYMcTSBgeBBIAYMcTSBgeBBIAYMcT\n",
       "SBgeBBIAYMcTSBgeBBIAYMdDIBke2tZ/Tnl0E0gAgB1PIGF4Up0uAgDseAIJw4NA\n",
       "AgDseAIJw4NAAgDseAIJw4NAAgDseAIJw4NAAgDseAgkw4NAAgDseAgkDI9AAgDs\n",
       "eAgkDE+7x2NoYXQTSACAHU8gYXhSnS4CAOx4AgnDg0ACAOx4AgnDg0ACAOx4AgnD\n",
       "g0ACAOx4CCTDY3gEEgBgx0MgYXgEEgBgx0MgYXgEEgBgx0MgYXjaPRVDC/vPKQ83\n",
       "RwEA2PEEEoYn1XniCACw4wkkDA8CCQCw4wkkDA8CCQCw4yGQMDwCCQCw4yGQMDwC\n",
       "CQCw4yGQMDwCCQCw4yGQMDzt6aL45jQAADueQMLwpDQ/+AgAsOMhkAwPAgkAsOMh\n",
       "kDA8AgkAsOMhkDA8AgkAsOMhkDA8AgkAsOMhkDA8AgkAsOMhkDA8AgkAsOMhkDA8\n",
       "7dUnt8TPPgIA7HgIJAzPX3jiCACw4yGQMDwCCQCw4yGQMDwCCQCw4yGQMDwCCQCw\n",
       "4yGQMDwCCQCw4yGQMDwCCQCw4yGQMDxtil7aO9wEEgBgx0MgkerDo4sAADseAgnD\n",
       "I5AAADseAgnDI5AAADseAgnDI5AAADseAgnDI5AAADseAgnDI5AAADseAgnDI5AA\n",
       "AASSQMLwtFef3JKQRuoIALDjIZAwPJ44AgDseAgkDI9AAgDseAgkDI9AAgDseAgk\n",
       "DI9AAgDseAgkDI9AAgDseAgkDI9AAgAQSAIJw9OOD/ShhdFNIAEAdjwEEqk+PLoI\n",
       "ALDjIZAwPAIJALDjIZAwPAIJALDjIZAwPAIJALDjOQSB1A3V1dVVVlYWFxeXl5fv\n",
       "37+/nQ/ZtGlTeEhFRUX4teERSACAQEIgdQclJSWZmZkDjsrIyFi0aFEr929sbFy6\n",
       "dGm4W/yQ8PBly5YZHoEEAAgkBFLXVlVVlZaWFj6yCwoKVq5cOWvWrOi3paWlLT0k\n",
       "3C3cYeDAgXPnzi0qKpo+fXr0kLVr16by8PSdXBbdBBIAIJAQSF3VxIkTw4f17Nmz\n",
       "4yuLFy8OV0aOHNns/RsaGm6//fakgpo/f364Mm7cuFQeHl0EAAgkBFLXVl9fH32l\n",
       "3N69e+OLhw4dGjRoULhYU1PT9CG7d+8Ob7rjjjsaGxvji+Ge4eKQIUMEEgCAQEIg\n",
       "dVXV1dXhYzorKyvpel5eXrheXt7Mxr9jx4677rrr4YcfTroY7p+dnS2QAAAEEgKp\n",
       "q6qqqgof02PGjEm6np+fH66vXr26nX/OzJkzw/3DowQSAIBAQiB1VZs2bQof03l5\n",
       "eUnXZ8yYEa4XFxe3+Sc0NjY++eST0Wvf7dq1q/XhaZZAAgDoEiHU7dc5gcQbFRUV\n",
       "zQZSQUFBewIpFFH0xXiDBw/euHFjiv/XBYEEAKRmODkEgdR9bN68OXxMjxo1Kun6\n",
       "pEmTWn+l74aGhoULF0Yv8BAaqbq6OmWHJ3RRfPMRBQAIJARSF7Znz57o+Z/El6QL\n",
       "RowYEa5XVlY2+6j6+vopU6aEO9x8881FRUVJj03BQPKBBAAIJARSd9DQ0JCZmRk+\n",
       "rLdv3x5frK2tTU9PT0tLC79o9lHRNx3l5OTs27fP8AgkAEAgIZC6j6lTp4YP6wkT\n",
       "JsRPBEWv0DB27Njotzt27Pj1EdFvQxRlZGQMGTKkpXwSSAAAAgmB1FVVV1dHPxY2\n",
       "Kytr2rRpw4cPD79OS0uLv75uyZIlia9PsmrVquhnwt7fxCOPPCKQAAAEEgKpa9uy\n",
       "ZUtOTk78Qo3Dhg1bv359/NYokNLT06Pfzp07t6VXeLzzzjsFEgCAQEIgkbrDI5AA\n",
       "ADseAolUHx6v7g0AIJAEEobnr4Hk3ykAgEASSBgegQQAIJAEEoZHIAEACCSBhOER\n",
       "SAAAAkkgYXgEEgCAQBJIGB6BBAAgkAQShqd1fSeXRTeBBAAgkAQSqT48uggAQCAJ\n",
       "JAyPQAIAEEgCCcMjkAAABJJAwvAIJAAAgSSQMDwCCQBAIAkkDI9AAgAQSAIJw9Om\n",
       "Prkl0U0gAQAIJIFEqg+PLgIAEEgCCcMjkAAABJJAwvAIJAAAgSSQMDwCCQBAIAkk\n",
       "DI9AAgAQSAIJwyOQAAAEkkDC8LSpT25J38ll4eZfHwCAQBJIpPrweOIIAEAgCSQM\n",
       "j0ACABBIAgnDI5AAAASSQMLwCCQAAIEkkDA8AgkAQCAJJAxPy6JXrgs3gQQAIJAE\n",
       "Eqk+PLoIAEAgCSQMj0ACABBIAgnDI5AAAASSQMLwCCQAAIEkkDA8AgkAQCAJJAyP\n",
       "QAIAEEgCCcPTpr6Ty3IWbw03/7IAAASSQCLVh8cTRwAAAkkgYXgEEgCAQBJIGB6B\n",
       "BAAgkAQShkcgAQAIJIGE4RFIAAACSSBheFrWJ7ckpJE6AgAQSAIJw+OJIwAAgSSQ\n",
       "MDwCCQBAIAkkDI9AAgAQSAIJwyOQAAAEkkDC8AgkAACBJJAwPK3oO7ksZ/HWcPOv\n",
       "BgBAIAkkUn14PHEEACCQBBKGRyABAAgkgYThEUgAAAJJIGF4BBIAgEASSBieZvSd\n",
       "XBbdBBIAgEASSKT68OgiAACBJJAwPAIJAEAgCSQMj0ACABBIAgnDI5AAAASSQMLw\n",
       "CCQAAIEkkDA8LeuTWxLSSB0BAAgkgYTh8cQRAIBAEkgYHoEEACCQBBKGRyABAAgk\n",
       "gYThEUgAAAJJIGF4mtMntyS6OX8AAIEkkEj14fHEEQCAQBJIGB6BBAAgkAQShkcg\n",
       "AQAIJIGE4RFIAAACSSBheJrRJ7ek7+SycHPsAAACSSCR6sPjiSMAAIEkkDA8AgkA\n",
       "QCAJJAyPQAIAEEgCCcOTKGfx1ugmkAAABJJAItWHRxcBAAgkgYThEUgAAAJJIGF4\n",
       "BBIAgEASSBgegQQAIJAEEoanGX4sLACAQBJIGJ435Sze6ngBAASSQMLwCCQAAIEk\n",
       "kDA8AgkAQCAJJAxPrE9uSXRztgAAAkkgkerD44kjAACBJJAwPAIJAEAgCSQMj0AC\n",
       "ABBIAgnDk6jv5LKQRuoIAEAgCSQMjyeOAAAEkkDC8AgkAACBJJAwPBEv6g0AIJAE\n",
       "EobnTZ44AgAQSAIJwyOQAAAEkkDC8BzhK+sAAASSQMLwvMkTRz5JOWrn7BActXPG\n",
       "UTtqgcSprq6urrKysri4uLy8fP/+/R0+PP3nlEc3geSTlKN2zg7BUTtnHLWjFkic\n",
       "0kpKSjIzMwcclZGRsWjRoo4dHl3kk5Sjxjk7aueMo3bUAokuoKqqKi0tLUxCQUHB\n",
       "ypUrZ82aFf22tLRUIPkk5ahxzo4a5+yoHTUCKbVMnDgxjMHs2bPjK4sXLw5XRo4c\n",
       "+daHp+/kspBG6sgnKUeNc3bUzhlH7agFEl1AfX19RkZGGIO9e/fGFw8dOjRo0KBw\n",
       "saam5viGJ3RRdJNGPkk5apyzo3bOOGpHLZDoMqqrq8MMZGVlJV3Py8sL18vLy49p\n",
       "eKInizxl5JOUo8Y5O2rnjKN21AKJLqmqqirMwJgxY5Ku5+fnh+urV69uz/B4vsgn\n",
       "KUeNc3bUzhlH7agRSN3Bpk2bwgzk5eUlXZ8xY0a4Xlxc3Mpjrxz8QHQbAABAN2JJ\n",
       "Fkipq6KiotlAKigoaDOQAAAAgdStbN68OYTQqFGjkq5PmjSpPa/0DQAACKTuY8+e\n",
       "PSGEBg8e3NjYmHh9xIgR4XplZaUjAgAAgZQqGhoaMjMzQwtt3749vlhbW5uenp6W\n",
       "lhZ+4YgAAEAgpZCpU6eGQJowYUL8JFL0Cg1jx451OAAAIJBSS3V1dfRjYbOysqZN\n",
       "mzZ8+PDw67S0NF9fBwAAAikVbdmyJScnJ35hx2HDhq1fv96xAACAQAIAABBIAAAA\n",
       "AgkAAEAgAQAACCQAAACBxFtXV1dXWVlZXFxcXl6+f/9+B9LZqqurV6xYceDAAUfR\n",
       "eR/SmzZtCh/SFRUV4dcOpPO88sorGzZsiI764MGDDuQEHHj47JH4c8DpQDU1NTub\n",
       "8NdiJwl/CZaVlZWWlv7hD39wGh2usbFxZ8t8uhZItKGkpCQzMzN+QfCMjIxFixY5\n",
       "lk5VUFAQjnrz5s2OojP+Sli6dGn4MI4/pMOH97Jly5xMh2toaHj66afT09Pjo771\n",
       "1ltDKTmZTv3wvv/++8NRL1iwwGl0hpEjRw5oInycO5kOT6Nx48alpaXFh/zggw++\n",
       "/vrrTqYD7du3b0DLfv/73zsigUSLqqqqos9QYWVfuXLlrFmzot+WlpY6nM5w8ODB\n",
       "+fPnR5+eBFJnCB/G4WwHDhw4d+7coqKi6dOnRx/Sa9eudTgda/ny5eFghwwZ8tRT\n",
       "T4Uovffee8NvQy+9+OKLDqeThNSPPnsIpM5w6NCh8AGcnZ099//asGGDw+nYvwfH\n",
       "jBkTPoxzc3OfeeaZOXPm3HrrreG34RcOp2MrtKCJKVOmhKMOfy2+9NJLjkgg0aKJ\n",
       "EyeGUZk9e3Z8ZfHixeHKyJEjHU7HCn/F3n333YMGDYr/+41A6nANDQ233357UuFH\n",
       "RTpu3Djn07GysrLCwVZUVMRX8vLywpUnn3zS4XSGnTt3hk8goUgFUicJK2M424cf\n",
       "fthRdKolS5aEcx4/fnz4jB3//RiuDB06tLGx0fl0qvD5ORz1L3/5S0chkGhRfX19\n",
       "9JVIe/fujS8eOnQoWuJramocUccG0l1HDRw4UCB1ht27d4eDveOOOxL/lg0fydET\n",
       "Hc6nA73yyivhVEeMGJF4MXp+Iz8/3/l0xqfr0aNH33bbbdETdwKpMzz33HPhbH1F\n",
       "bmcLH8nhnHft2pV4ccWKFYWFhXEy0RlWr14dTn7SpElCVCDRmurq6jAqWVlZSdej\n",
       "/wxcXl7uiDpJ+PQkkDrDjh07Qn8m/QfgcDGcdnZ2tvPpQPv37y8qKnr++ecTL4Y0\n",
       "Ckf9m9/8xvl0uHnz5oWzLSsrW7t2rUDqJE888UR0yOFj+8knnwyltHXrVsfSsV5+\n",
       "+eVwyMOHD3/jyNfaVVRUbNy4sba21sl0tldeeWXIkCGZmZledEQg0YaqqqrweWrM\n",
       "mDFJ16MtZ/Xq1Y5IIHUDM2fO9LRGp9qyZUtxcXH09bqjR4/28owdrrKyMi0tbcaM\n",
       "GeHXAqnzRC+AkfgSL8H06dPr6+sdTkfZtm1bONXJkyf//Oc/T3yRhoceesjrqp2A\n",
       "vwp96hBItG3Tpk1hWvLy8pKuh7+Gw3WvRiWQurrGxsbo663DxpP05Rx0oPHjx8db\n",
       "TllZmQPpWK+++uodd9yRnZ0dvWC9QOo8t912Wzjbe+65Z/Xq1SFKn3766SiWvIpd\n",
       "B/r9738fvZpL+N9QpAsXLnz88ccHDx4cfjtt2jTn03ldGnI0fIS/9tprTkMg0YaK\n",
       "iopmAyl6EWqBJJC6tFBE0ReLhr96N27c6EA6z4svvrhu3bqwREY/MOCJJ55wJh0o\n",
       "+i9W8cewQOokDQ0Nv/71r5cuXZr4fNGaNWui/8Lie2M6SvQBHDz22GPxxe3bt0fJ\n",
       "tHPnTkfUGaIXr/vVr37lKAQSbQsLehiYUaNGNbu+e6VvgdR1F52FCxdG/+k3NFJ1\n",
       "dbUzOWGllJaWNmTIEF+S1FFCeUb/Zf3gUatWrQpXnnrqqfDrw4cPO6LOlp2d3fQV\n",
       "BThuL7zwQhRISd8J88ADD4SLzz33nCPqcHV1ddFfiLt373YaAom27dmzJ/rv60mv\n",
       "ZzJixIhwvbKy0hEJpC4nrObRfyq7+eabi4qKvFZPJ1m/fv0jjzzS9AvqcnJyfPbo\n",
       "QNHLBrRk+fLljqijhM8VoTmbtn30kmtetaijRK+l3vRlRX/2s5+F635OfWeIfjzg\n",
       "f/3XfzkKgUS7NDQ0RF8Ss3379vhibW1tenp6WlqaV5URSF1R9E1HYU3ft2+f0+g8\n",
       "JSUl0UsyJF0fNmxYuL7j/7d370FVlWscx4+phBVSWtN9TOxC5m1y0hmbbmo2XUYL\n",
       "AmssnUaSi4JkUmGRVy4VpigjCelImIhjFlqkReEFp0QUFIZbTBICkhAGSggCnuf4\n",
       "zFlntbdsdh0Ike/nr73f/ey91npZLNaPvdb7lpbSRR0iIyMj5s+WLFmiU9XJY64d\n",
       "7UD6Zd3atWvNjU1NTTrxFPNedOCJR2BgoHSpxSFab2WUHZ4u6nA6gs6uXbvoCgIS\n",
       "7CV/DOTXJjIy0vhHu17vHh4eTucQkLod+Yvr5+cnJzTE+85WVlZmPd/xt99+q/8b\n",
       "5tKvzsM9SJ1EJ0zz9fUtKirSFvmzuHnzZv2HC/3TgdavX69Z1DhQZGdn6/UsHLo7\n",
       "g14map7UGwQktKOyslKnhQ0KCoqLi1uwYIE89vb25goZAlJ3pLdnyAn6Civx8fH0\n",
       "T8dKSEjQ+9djY2OTkpJ0SAzuIiAgdV+JiYk6wFpMTIzs0qGhobqHFxcX0zkd6NSp\n",
       "U2+99ZYmT+lz6W0d7/urr76iczpcfX29Hpml2+kNAhL+Ajn0620DKjg4ODs7m27p\n",
       "VDrTFAGpw8k5TVt3a7zzzjv0T8c6d+5cSkqKXqarFi5ceOjQIXqmUx0+fJhTyU7S\n",
       "3Nwsu7ReAKZJ6b333jt+/Dg90+EqKipWrVplHD3kxIOBczuJTjwlezVdQUDC3/wf\n",
       "Q2lpKfMrA/hLWltba2pq5Oihs/QAl8EuXV1dXVZWxmCMna2lpUX6mamlQUACAAAA\n",
       "AAISAAAAABCQAAAAAICABAAAAAAEJAAAAAAgIAEAAAAAAQkAgC6Tlpb2+eef98xt\n",
       "LysrS0pKKioqYjcAAAISAKBTVFVV9bODu7u7FPv6+srjRYsWddXaZmVl9enT5/HH\n",
       "H7+cfgRr1qyRXp02bVq7ldXV1f379x85cmRzczO7LgAQkAAAHe/kyZP/ssPEiROl\n",
       "eObMmfL47bff7pJVlVQwevToXr16HT58+HL6EaxevVp69ZlnnrGnePHixVIcExPD\n",
       "rgsABCQAQMdrbW2t+7MhQ4bIKXhwcLC58Y8//pDipKSk2bNnf/31112yqomJibJi\n",
       "bm5ul9mP4C8FJPlZODk53XjjjWfPnmXvBQACEgCg0919991yvt6F19G1Zdy4cbJi\n",
       "27dv78kBScyYMUPqN2zYwL4K9HDl5eUr/uz777+nWwhIAIB/LiCtW7du+vTpW7du\n",
       "1acrV66Up7m5uWlpaV5eXsOGDRs7duzrr79eV1cnryYkJHh6erq4uIwePdrf37+s\n",
       "rMz8UQcPHvTz8xszZoy8y9fX97PPPrO9VkeOHJG1GjhwYFNTk9GYmpo6depU+YTB\n",
       "gwfLogMDA60HMLBnQd99953WDBkyZPz48eHh4bW1tRY1Bw4cmDt37kMPPSQ1U6ZM\n",
       "Wbp06alTp4xXja7Ys2ePj4/P8OHD77rrLg8Pj6ysLIvPSU5Onjlz5ogRI+688053\n",
       "d3dZtHVAsr1d33zzjdRLr7KvAj1cenr6rFmzYk3kEES3EJAAAP9cQLK4B+mJJ56Q\n",
       "py+++GKfPn3MNyxNnjxZYpLFXUySBzQ4ieXLl/ft29eiYN68eTbW6oMPPpCaSZMm\n",
       "GS2RkZHW90o5OzsfPXrUqGl3Qa2trSEhIb169bKouf3228vLy42ysLAwi20UgwYN\n",
       "ktRk7gpJWQ4ODuYaefrDDz9oTXNz85w5c6zXWXrGHJDa3a4zZ85oY0VFBbsr0JMl\n",
       "JSW9+eab9AMBCQBwaQUkMW7cuH379p04cUICiXFOP2HChMTExLKysujoaG3Ztm3b\n",
       "+Qtf18jj3r17SzIpLi7++eefly1bprli9erVba3V008/LQXe3t76tLGx8aqrrtKW\n",
       "Y8eO1dbWpqamuri4SIunp6fW2LOgrVu36rpNnz5dkoyUyUsDBw6UlieffFJrduzY\n",
       "oTXSkpGRIbFETkpuuukmabntttv07iyjK0aNGiXLla2Oj4+XV6VlypQp+jnr16/X\n",
       "Gi8vr8zMzJKSko0bN15//fXaqAHJnu0SN9xwg7R88skn7K5AT7ZixYpVq1bRDwQk\n",
       "AMClFZAGDx7c0NBg1AwbNky/8dDkoMaOHSuN4eHhRoHF50dFRUmjLLqttbr55pul\n",
       "ICIiQp/m5eVprjh06JBRk5KSMmDAgPvvv9+8JjYW1NraOnToUHn6wgsvmGvkhEMa\n",
       "+/btqxfaubq66jh+Um/USJS68sorjY3SrpC08/vvvxs1srbSKPFGHre0tNxxxx3y\n",
       "1GI4b9kQ/W5KA5I92yUeeOABqfH392d3BXqy+fPny3EmLCwsMDAwNDQ0PT2dPiEg\n",
       "AQC6PiAtWbLEXDN58mRpfPXVV82NkkCkcenSpcao4uXl5Q0mEkX0u53MzEzr5Uoy\n",
       "0RSxefNmbZG8od/hSOqIi4uzvtjMngXJu7Tm4MGD5vc2NTXt3Llz165d8sCoMa6U\n",
       "M3h7e0u7TsqkXREQEGAuyMrKkkYnJyd5XFJSYp18lIeHhxGQ2t0u5enpKTXyRnZX\n",
       "oMc6ffr0rFmzfHx8YmJiNm3aFBQUJE9TU1PpGQISAKCLA9JHH31krnnuueekcfny\n",
       "5ebGl156SQPS7t27bU+4pJfhWaipqdFXf/zxR6MxPj6+X79+xhtdXFy8vLzS0tL0\n",
       "VXsWtHfvXr0Gz8a8q/KBUnPFFVeYvyVTsbGxeieS0RVRUVHmgpycHGm85pprzl8Y\n",
       "d6GtZb3//vvme5Bsb5d644035KVHHnmE3RXoIaqqqnaaFBcXy4Hx008/leOMFpw5\n",
       "c0aODAEBAebvukFAAgBc6gHpyy+/1PP+O9qQmJhovdza2lp9l8UFJHKKIOs5ZswY\n",
       "8wgKr7zyipwf2LOgL774wggwbUlJSZEa+Xzrcw6dl2nAgAFtdYU5IOmNTA4ODtaL\n",
       "0Hu0zKPY2dguLZAfgbQ8+OCD7K5At1NZWbl7927JM9Yv1dfXFxYWyoEuLy/PGNVG\n",
       "HT16dJaJHL6s356cnCwvnTx5kk4mIAEAuk1AklN//ULGPFq3PRwdHeWNGzduvOir\n",
       "cqohpwsSGDRLpKWl2bOg7Oxsra+pqTG3t7S0yEatWbOmvLw8Pz9fa0pLSy3eLpsj\n",
       "7RJj7AlIxuecOHHC4nPmzZvX1jxI1tul7dOmTZOnzz77LLsr0O3ExsZKjPnpp58s\n",
       "2vfv3x8QEGBEID8/P/Os3M3NzWdM5MgmB5PMzEw5Xhk1Ui9v/OWXX+hkAhIAoNsE\n",
       "JPlb7uTkJI+NyZRUSUmJLNfFxcViuiTDoEGD9BP06Y4dO1xdXZ9//nlzTV1dXf/+\n",
       "/aVs5cqV9iyovr6+d+/eUhMdHW2uSUpK0nBVXV0tZyE6rFxISIi5prGxUYfnlj6x\n",
       "JyBJ/dVXXy1Ply1bZvE5etORBqR2t0tbNDLJmRC7K9CNNDQ0bN++XfOPRUAqKiry\n",
       "9vbWSY327NmTkJCgT425BKzt3btXCnJzc42WyMhIHx8fOarQ1QQkAEC3CUjy+N13\n",
       "35XHt956q3FDkQQVHdpBskFba+Xu7m6kkfMXrjbRW3qSk5ONmvz8fB1ZTm9TtmdB\n",
       "Xl5eepmcMQZDQUHBiBEjpPHhhx/WFolG8tTR0dEYIkI+5+WXX9ZL76TenoAkgoOD\n",
       "5anEJDlD0pazZ89KFjIP823PdolbbrnFenEALllyNFi8ePHs2bONL4gsAlJUVJQ0\n",
       "btq0yWjZuXOntCxcuLCtz6ypqZk7d+78+fPT09MlJm3YsEHqt2zZQm8TkAAA3Swg\n",
       "1dXV3XvvvRoDhg8fLjlEz/4lbMgJQVtrJUuRmvHjx+vT1tbWSZMmabSQPOPm5vbo\n",
       "o4/q5wwdOlRHGLdnQRUVFTqAuNSMGjVKRwYX/fr1M/4ve/r06ZEjR2q7fODEiRN1\n",
       "oiTzCH72BCQ5m7nvvvv0jffcc89jjz2m3wvpN1QakOzZLolVOrOtBCd2V6C7BKR3\n",
       "/8vX19ciIJ07d87Pz08af/vtN6OxqalJA1V1dXVbH1tYWCgJShOXv7//tm3b5KPo\n",
       "bQISAKCD6Un8RQOSj4+P+SVNBR9//PFfCkjnL3wDI3/OnZ2djREIJAzYSEeitLRU\n",
       "Moy8ReKBtkj+kfMMvW5NOTo6Tp069ddffzXeZc+CqqqqPDw8NKUY895aDPwtC33t\n",
       "tdeMSV0ln0jCMX/Jc9Gu0PuOrr32WqNFstb06dON9ZEVnjFjhs6ua9yD1O526eB7\n",
       "OnoegC4UHx9vHJHMcnNzbUxJFB0dbRGQKisrpSUoKMiiMiIiQtrz8vJsr4YcNCRE\n",
       "MXgdAQkAcDk4duzYgQMHzJHGBjc3N+t7ihoaGoqKivbv3y9pROLQ315QS0tLQUFB\n",
       "ZmamTg7bluPHj2dkZEjO+X+2Ws5jZG1zcnJs/K/XxnbJCZMxQS2ALnTkyJHIyEiL\n",
       "jCTpyLrRdkCSX3ZpCQ0NtaiMiYmRdvP0BiAgAQDwP/v27WtrtLeeQ8LSdddd5+jo\n",
       "aOOqGwBdlZHaTUcXDUgFBQXSEhERYVG5bt06abfxZRQISACAnu6pp56SjJSRkdFj\n",
       "eyAsLMx6SD0AXcgIRfLgww8/tJ2OLhqQ8vPzLxqQdEBwAhIBCQCANhUWFjo4OEyY\n",
       "MKFnbn51dbWzs7Orq2u7Z2AA/uGMFBoaak86umhAksfSYgz6YlFpY6RvEJAAAPjP\n",
       "XIpbtmxpbm7umQFJtl1SIrsBcEnJycmRgLRixYq/F5CqqqqkZc6cORYDLYSEhEg7\n",
       "v/IEJAAAAKDbMG5Dys3NtScjWQeklpaWgIAAaSwpKTEaa2trfXx8vL29bY8cAwIS\n",
       "AAAAcKnIzs42X1n39wZpEGvXrpVGea/xJZKO0MB4lQQkAAAAoNukow4Z5vv8hamQ\n",
       "dFrYoKCguLi4BQsWyGNvb2+uryMgAQAAAN1DfHx8Y2OjdbvtiWJ1diOLgCSKi4sX\n",
       "LVo067+Cg4MlgNHJBCQAAACg56qvry8tLa2rq6MrCEgAAAAAQEACAAAAAAISAAAA\n",
       "ABCQAAAAAICABAAAAAAEJAAAAAAgIAEAAAAAAQkAAAAACEgAAAAAQEACAAAAAAIS\n",
       "AAAAABCQAAAAAICABAAAAAAEJAAAAAAgIAEAAAAAAQkAAAAACEgAAAAAQEACAAAA\n",
       "AAISAAAAABCQAAAAAAAEJAAAAAAgIAEAAAAAAQkAAAAACEgAAAAAQEACAAAAAAIS\n",
       "AAAAABCQAAAAAICABAAAAAAEJAAAAAAgIAEAAABAB/o3zP6+9hj/r7gAAAAASUVO\n",
       "RK5CYII=\" style=\"clip-path:url(#clipPath2);\" height=\"840\" preserveAspectRatio=\"none\"\n",
       "    /></g\n",
       "  ></g\n",
       "></svg\n",
       ">\n"
      ]
     },
     "metadata": {},
     "output_type": "display_data"
    }
   ],
   "source": [
    "step(Hz)"
   ]
  },
  {
   "cell_type": "markdown",
   "metadata": {
    "slideshow": {
     "slide_type": "subslide"
    }
   },
   "source": [
    "### Algorithm\n",
    "\n",
    "From previous result:\n",
    "\n",
    "$$H(z) = \\frac{Y(z)}{U(z)} = \\frac{486.6\\times 10^{-6}z +  476.5\\times 10^{-6}}{z^2 - 1.956z + 0.9567}$$\n",
    "\n",
    "Dividing top and bottom by $z^2$ ..."
   ]
  },
  {
   "cell_type": "markdown",
   "metadata": {
    "slideshow": {
     "slide_type": "fragment"
    }
   },
   "source": [
    "$$H(z) = \\frac{Y(z)}{U(z)} = \\frac{486.6\\times 10^{-6}z^{-1} +  476.5\\times 10^{-6}z^{-2}}{1 - 1.956z^{-1} + 0.9567z^{-2}}$$"
   ]
  },
  {
   "cell_type": "markdown",
   "metadata": {
    "slideshow": {
     "slide_type": "subslide"
    }
   },
   "source": [
    "expanding out ...\n",
    "\n",
    "$$\\begin{array}{l}\n",
    "Y(z) - 1.956{z^{ - 1}}Y(z) + 0.9567{z^{ - 2}}Y(z) = \\\\\n",
    "\\quad 486.6 \\times {10^{ - 6}}{z^{ - 1}}U(z) + 476.5 \\times {10^{ - 6}}{z^{ - 2}}U(z)\n",
    "\\end{array}$$"
   ]
  },
  {
   "cell_type": "markdown",
   "metadata": {
    "slideshow": {
     "slide_type": "subslide"
    }
   },
   "source": [
    "Inverse z-transform gives ...\n",
    "\n",
    "$$\\begin{array}{l}\n",
    "y[n] - 1.956y[n - 1] + 0.9567y[n - 2] = \\\\\n",
    "\\quad 486.6 \\times {10^{ - 6}}u[n - 1] + 476.5 \\times {10^{ - 6}}u[n - 2]\n",
    "\\end{array}$$\n",
    "\n"
   ]
  },
  {
   "cell_type": "markdown",
   "metadata": {
    "slideshow": {
     "slide_type": "fragment"
    }
   },
   "source": [
    "in algorithmic form (compute $y[n]$ from past values of $u$ and $y$) ...\n",
    "\n",
    "$$\\begin{array}{l}\n",
    "y[n] = 1.956y[n - 1] - 0.9567y[n - 2] + 486.6 \\times {10^{ - 6}}u[n - 1] + ...\\\\\n",
    "\\quad 476.5 \\times {10^{ - 6}}u[n - 2]\n",
    "\\end{array}$$"
   ]
  },
  {
   "cell_type": "markdown",
   "metadata": {
    "slideshow": {
     "slide_type": "subslide"
    }
   },
   "source": [
    "### Block Diagram of the digital BW filter\n",
    "\n",
    "![digital filter](pictures/digifilter-bd.png)"
   ]
  },
  {
   "cell_type": "markdown",
   "metadata": {
    "slideshow": {
     "slide_type": "subslide"
    }
   },
   "source": [
    "### As Simulink Model\n",
    "\n",
    "[digifilter.slx](https://cpjobling.github.io/eg-247-textbook/dt_systems/4/matlab/digifilter.slx)"
   ]
  },
  {
   "cell_type": "code",
   "execution_count": 23,
   "metadata": {
    "slideshow": {
     "slide_type": "fragment"
    }
   },
   "outputs": [],
   "source": [
    "open digifilter"
   ]
  },
  {
   "cell_type": "markdown",
   "metadata": {
    "slideshow": {
     "slide_type": "subslide"
    }
   },
   "source": [
    "### Convert to code\n",
    "\n",
    "To implement:\n",
    "$$y[n] = 1.956 y[n-1] - 0.9567 y[n - 2] + 486.6\\times 10^{-6} u[n-1] + 476.5\\times 10^{-6} u[n-2]$$"
   ]
  },
  {
   "cell_type": "markdown",
   "metadata": {
    "slideshow": {
     "slide_type": "subslide"
    }
   },
   "source": [
    "    /* Initialize */\n",
    "    Ts = 2.4933e-07; /* more probably some fraction of clock speed */\n",
    "    ynm1 = 0; ynm2 = 0; unm1 = 0; unm2 = 0;\n",
    "    while (true) {\n",
    "        un = read_adc;\n",
    "        yn = 1.956*ynm1 - 0.9567*ynm2 + 486.6e-6*unm1 + 476.5e-6*unm2;\n",
    "        write_dac(yn);\n",
    "        /* store past values */\n",
    "        ynm2 = ynm1; ynm1 = yn;\n",
    "        unm2 = unm1; unm1 = un;\n",
    "        wait(Ts);\n",
    "    }"
   ]
  },
  {
   "cell_type": "markdown",
   "metadata": {
    "slideshow": {
     "slide_type": "notes"
    }
   },
   "source": [
    "### Comments\n",
    "\n",
    "PC soundcards can sample audio at 44.1 kHz so this implies that the anti-aliasing filter is much sharper than this one as $f_s/2 = 22.05$ kHz.\n",
    "\n",
    "You might wish to find out what order butterworth filter would be needed to have $f_c = 20$ kHz and $f_{\\mathrm{stop}}$ of 22.05 kHz."
   ]
  },
  {
   "cell_type": "markdown",
   "metadata": {
    "slideshow": {
     "slide_type": "slide"
    }
   },
   "source": [
    "## Summary\n",
    "\n",
    "* Discrete Time Systems\n",
    "* Transfer Functions in the Z-Domain\n",
    "* Modelling digital systems in MATLAB/Simulink\n",
    "* Continuous System Equivalents\n",
    "* In-class demonstration: Digital Butterworth Filter"
   ]
  },
  {
   "cell_type": "markdown",
   "metadata": {},
   "source": [
    "## Reference\n",
    "\n",
    "{% bibliography --cited %}"
   ]
  },
  {
   "cell_type": "markdown",
   "metadata": {
    "slideshow": {
     "slide_type": "notes"
    }
   },
   "source": [
    "## Solutions to Example 5"
   ]
  },
  {
   "cell_type": "markdown",
   "metadata": {
    "slideshow": {
     "slide_type": "notes"
    }
   },
   "source": [
    "### Solution to 5.1.\n",
    "\n",
    "The transfer function is\n",
    "\n",
    "$$H(z) = \\frac{Y(z)}{X(z)} = \\frac{z^2 + z}{z^2 - 0.5z + 0.125}$$"
   ]
  },
  {
   "cell_type": "markdown",
   "metadata": {
    "slideshow": {
     "slide_type": "notes"
    }
   },
   "source": [
    "### Solution to 5.2.\n",
    "\n",
    "The DT impulse response:\n",
    "\n",
    "$$h[n] = \\left( \\frac{\\sqrt 2}{4} \\right)^n{\\left( \\cos \\left( \\frac{n\\pi}{4} \\right) + 5\\sin \\left( \\frac{n\\pi}{4} \\right) \\right)}$$\n"
   ]
  },
  {
   "cell_type": "markdown",
   "metadata": {
    "slideshow": {
     "slide_type": "notes"
    }
   },
   "source": [
    "### Solution to 5.3.\n",
    "\n",
    "Step response:\n",
    "\n",
    "$$y[n] = \\left(3.2 - \\left( \\frac{\\sqrt 2}{4} \\right)^n\\left( 2.2 \\cos \\left( \\frac{n\\pi}{4} \\right) + 0.6\\sin \\left(\\frac{n\\pi}{4} \\right) \\right)\\right) u_0[n]$$"
   ]
  }
 ],
 "metadata": {
  "anaconda-cloud": {},
  "celltoolbar": "Slideshow",
  "jupytext": {
   "formats": "ipynb,md:myst"
  },
  "kernelspec": {
   "display_name": "MATLAB",
   "language": "matlab",
   "name": "imatlab"
  },
  "language_info": {
   "codemirror_mode": "octave",
   "file_extension": ".m",
   "mimetype": "text/x-matlab",
   "name": "matlab",
   "nbconvert_exporter": "imatlab._exporter.MatlabExporter",
   "pygments_lexer": "matlab",
   "version": "9.9.0.1467703 (R2020b)"
  },
  "latex_envs": {
   "LaTeX_envs_menu_present": true,
   "autoclose": true,
   "autocomplete": true,
   "bibliofile": "biblio.bib",
   "cite_by": "apalike",
   "current_citInitial": 1,
   "eqLabelWithNumbers": true,
   "eqNumInitial": 1,
   "hotkeys": {
    "equation": "Ctrl-E",
    "itemize": "Ctrl-I"
   },
   "labels_anchors": false,
   "latex_user_defs": false,
   "report_style_numbering": false,
   "user_envs_cfg": false
  }
 },
 "nbformat": 4,
 "nbformat_minor": 2
}
