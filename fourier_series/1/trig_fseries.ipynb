{
 "cells": [
  {
   "cell_type": "markdown",
   "metadata": {
    "slideshow": {
     "slide_type": "slide"
    }
   },
   "source": [
    "# Trigonometric Fourier Series\n",
    "\n",
    "\n",
    "\n",
    "Any periodic waveform can be approximated by a DC component (which may be 0) and the sum of the fundamental and harmomic sinusoidal waveforms. This has important applications in many applications of electronics but is particularly crucial for signal processing and communications."
   ]
  },
  {
   "cell_type": "markdown",
   "metadata": {
    "slideshow": {
     "slide_type": "skip"
    }
   },
   "source": [
    "## Colophon\n",
    "\n",
    "An annotatable worksheet for this presentation is available as [**Worksheet 9**](https://cpjobling.github.io/eg-247-textbook/fourier_series/1/worksheet9.html).\n",
    "\n",
    "* The source code for this page is [fourier_series/1/trig_fseries.md](https://github.com/cpjobling/eg-247-textbook/blob/master/fourier_series/1/trig_fseries.md).\n",
    "\n",
    "* You can view the notes for this presentation as a webpage ([HTML](https://cpjobling.github.io/eg-247-textbook/fourier_series/1/trig_fseries.html)). \n",
    "\n",
    "* This page is downloadable as a [PDF](https://cpjobling.github.io/eg-247-textbook/fourier_series/1/trig_fseries.pdf) file."
   ]
  },
  {
   "cell_type": "markdown",
   "metadata": {
    "slideshow": {
     "slide_type": "notes"
    }
   },
   "source": [
    "## Revision?\n",
    "\n",
    "I believe that this subject has been covered in EG-150 Signals and Systems and so we present the notes as background for the Fourier transform."
   ]
  },
  {
   "cell_type": "markdown",
   "metadata": {
    "slideshow": {
     "slide_type": "slide"
    }
   },
   "source": [
    "## Agenda"
   ]
  },
  {
   "cell_type": "markdown",
   "metadata": {
    "slideshow": {
     "slide_type": "fragment"
    }
   },
   "source": [
    "* Motivating examples"
   ]
  },
  {
   "cell_type": "markdown",
   "metadata": {
    "slideshow": {
     "slide_type": "fragment"
    }
   },
   "source": [
    "* Wave analysis and the Trig. Fourier Series"
   ]
  },
  {
   "cell_type": "markdown",
   "metadata": {
    "slideshow": {
     "slide_type": "fragment"
    }
   },
   "source": [
    "* Symmetry in Trigonometric Fourier Series"
   ]
  },
  {
   "cell_type": "markdown",
   "metadata": {
    "slideshow": {
     "slide_type": "fragment"
    }
   },
   "source": [
    "* Computing coefficients of Trig. Fourier Series in MATLAB"
   ]
  },
  {
   "cell_type": "markdown",
   "metadata": {
    "slideshow": {
     "slide_type": "fragment"
    }
   },
   "source": [
    "* Gibbs Phenomenon"
   ]
  },
  {
   "cell_type": "markdown",
   "metadata": {
    "slideshow": {
     "slide_type": "notes"
    }
   },
   "source": [
    "## Motivating Examples\n",
    "\n",
    "This [Fourier Series demo](http://dspfirst.gatech.edu/matlab/#fseriesdemo), developed by Members of the Center for Signal and Image Processing (CSIP) at the [School of Electrical and Computer Engineering](https://www.ece.gatech.edu/) at the [Georgia Institute of Technology](https://www.gatech.edu/), shows how periodic signals can be synthesised by a sum of sinusoidal signals.\n",
    "\n",
    "It is here used as a motivational example in our introduction to [Fourier Series](https://en.wikipedia.org/wiki/Fourier_series). (See also [Fourier Series](https://mathworld.wolfram.com/FourierSeries.html) from Wolfram MathWorld referenced in the **Quick Reference** on Blackboard.)\n",
    "\n",
    "To install this example, download the [zip file](http://dspfirst.gatech.edu/matlab/ZipFiles/fseriesdemo-v144.zip) and unpack it somewhere on your MATLAB path."
   ]
  },
  {
   "cell_type": "markdown",
   "metadata": {
    "slideshow": {
     "slide_type": "slide"
    }
   },
   "source": [
    "## Wave Analysis\n",
    "\n",
    "* [Jean Baptiste Joseph Fourier](https://en.wikipedia.org/wiki/Joseph_Fourier) (21 March 1768 – 16 May 1830) discovered that any _**periodic**_ signal could be represented as a series of *harmonically related* sinusoids.\n",
    "\n",
    "* An *harmonic* is a frequency whose value is an integer multiple of some *fundamental frequency*\n",
    "\n",
    "* For example, the frequencies 2 MHz, 3 Mhz, 4 MHz are the second, third and fourth harmonics of a sinusoid with fundamental frequency 1 Mhz."
   ]
  },
  {
   "cell_type": "markdown",
   "metadata": {
    "slideshow": {
     "slide_type": "subslide"
    }
   },
   "source": [
    "### The Trigonometric Fourier Series\n",
    "\n",
    "Any periodic waveform $f(t)$ can be represented as\n",
    "\n",
    "$$\n",
    "\\begin{eqnarray*}\n",
    "  f(t) &=& \\frac{1}{2}{a_0} + {a_1}\\cos \\Omega_0 t + {a_2}\\cos 2\\Omega_0 t + {a_3}\\cos 3\\Omega_0 t +  \\cdots  + {a_n}\\cos n\\Omega_0 t +  \\cdots  \\\\ \n",
    "   &+& {b_1}\\sin \\Omega_0 t + {b_2}\\sin 2\\Omega_0 t + {b_3}\\sin 3\\Omega_0 t +  \\cdots  + {b_n}\\sin n\\Omega_0 t +  \\cdots  \\\\ \n",
    "\\end{eqnarray*}\n",
    "$$\n",
    "\n",
    "or equivalently (if more confusingly)\n",
    "\n",
    "$$\n",
    "f(t) = \\frac{1}{2}{a_0} + \\sum\\limits_{n = 1}^\\infty  {({a_n}\\cos n\\Omega_0 t + {b_n}\\sin n\\Omega_0 t)}\n",
    "$$\n",
    "\n",
    "where $\\Omega_0$ rad/s is the *fundamental frequency*."
   ]
  },
  {
   "cell_type": "markdown",
   "metadata": {
    "slideshow": {
     "slide_type": "subslide"
    }
   },
   "source": [
    "### Notation\n",
    "\n",
    "* The first term $a_o/2$ is a constant and represents the DC (average) component of the signal $f(t)$\n",
    "* The terms with coefficients $a_1$ and $b_1$ together represent the fundamental frequency component of $f(t)$ at frequency $\\Omega_0$.\n",
    "* The terms with coefficients $a_2$ and $b_2$ together represent the second harmonic frequency component of $f(t)$ at frequency $2\\Omega_0$.\n",
    "\n",
    "And so on."
   ]
  },
  {
   "cell_type": "markdown",
   "metadata": {
    "slideshow": {
     "slide_type": "subslide"
    }
   },
   "source": [
    "Since any periodic function $f(t)$ can be expressed as a Fourier series, it follows that the sum of the DC, fundamental, second harmonic and so on must produce the waveform $f(t)$."
   ]
  },
  {
   "cell_type": "markdown",
   "metadata": {
    "slideshow": {
     "slide_type": "subslide"
    }
   },
   "source": [
    "### Sums of sinusoids\n",
    "\n",
    "In general, the sum of two or more sinusoids does not produce a sinusoid as shown below.\n",
    "\n",
    "<img src=\"pictures/7_1.png\">\n",
    "\n",
    "To generate this picture use [fourier_series1.m](https://cpjobling.github.io/eg-247-textbook/fourier_series/matlab/fourier_series1.m)."
   ]
  },
  {
   "cell_type": "markdown",
   "metadata": {
    "slideshow": {
     "slide_type": "subslide"
    }
   },
   "source": [
    "### Evaluation of the Fourier series coefficients\n",
    "\n",
    "The coefficients are obtained from the following expressions (valid for any periodic waveform with fundamental frequency $\\Omega_0$ so long as we integrate over one period $0\\to T_0$ where $T_0 = 2\\pi/\\Omega_0$), and $\\theta = \\Omega_0 t$:\n",
    "\n",
    "$$\\frac{1}{2}a_0 = \\frac{1}{T_0}\\int_{0}^{T_0}f(t)d t = \\frac{1}{\\pi}\\int_{0}^{2\\pi}f(\\theta )d \\theta$$\n",
    "\n",
    "$$a_n = \\frac{1}{T_0}\\int_{0}^{T_0}f(t)\\cos n\\Omega_0 t\\,dt = \\frac{1}{2\\pi}\\int_{0}^{2\\pi}f(\\theta)\\cos n\\theta\\,d\\theta$$\n",
    "\n",
    "$$b_n = \\frac{1}{T_0}\\int_{0}^{T_0}f(t)\\sin n\\Omega_0 t\\,dt = \\frac{1}{2\\pi}\\int_{0}^{2\\pi}f(\\theta)\\cos n\\theta \\,d\\theta$$"
   ]
  },
  {
   "cell_type": "markdown",
   "metadata": {
    "slideshow": {
     "slide_type": "slide"
    }
   },
   "source": [
    "## Odd, Even and Half-wave Symmetry\n",
    "\n",
    "### Odd and even symmetry\n",
    "\n",
    "* An *odd* function is one for which $f(t) = -f(-t)$. The function $\\sin t$ is an *odd* function.\n",
    "* An *even* function is one for which $f(t) = f(-t)$. The function $\\cos t$ is an *even* function."
   ]
  },
  {
   "cell_type": "markdown",
   "metadata": {
    "slideshow": {
     "slide_type": "fragment"
    }
   },
   "source": [
    "### Half-wave symmetry\n",
    "\n",
    "* A periodic function with period $T$ is a function for which $f(t) = f(t + T)$\n",
    "* A periodic function with period $T$, has *half-wave symmetry* if $f(t) = -f(t + T/2)$"
   ]
  },
  {
   "cell_type": "markdown",
   "metadata": {
    "slideshow": {
     "slide_type": "subslide"
    }
   },
   "source": [
    "## Symmetry in Trigonometric Fourier Series\n",
    "\n",
    "There are simplifications we can make if the original periodic properties has certain properties:\n",
    "\n",
    "* If $f(t)$ is odd, $a_0=0$ and there will be no cosine terms so ${a_n} = 0\\; \\forall n > 0$\n",
    "* If $f(t)$ is even, there will be no sine terms and ${b_n} = 0\\; \\forall n > 0$. The DC may or may not be zero.\n",
    "* If $f(t)$ has *half-wave symmetry* only the odd harmonics will be present. That is $a_n$ and $b_n$ is zero for all even values of $n$ (0, 2, 4, ...)"
   ]
  },
  {
   "cell_type": "markdown",
   "metadata": {
    "slideshow": {
     "slide_type": "notes"
    }
   },
   "source": [
    "### Symmetry in Common Waveforms\n",
    "\n",
    "To reproduce the following waveforms (without annotation) publish the script [waves.m](https://cpjobling.github.io/eg-247-textbook/fourier_series/matlab/waves.m)."
   ]
  },
  {
   "cell_type": "markdown",
   "metadata": {
    "slideshow": {
     "slide_type": "notes"
    }
   },
   "source": [
    "#### Squarewave\n",
    "\n",
    "<img src=\"pictures/square.png\">\n",
    "\n",
    "* Average value over period $T$ is ...?\n",
    "* It is an **odd**/**even**function?\n",
    "* It **has/has not** half-wave symmetry $f(t)=-f(t+T/2)$?"
   ]
  },
  {
   "cell_type": "markdown",
   "metadata": {
    "slideshow": {
     "slide_type": "notes"
    }
   },
   "source": [
    "#### Shifted Squarewave\n",
    "\n",
    "<img src=\"pictures/shifted_sq.png\">\n",
    "\n",
    "* Average value over period $T$ is ...?\n",
    "* It is an **odd**/**even** function?\n",
    "* It **has/has not** half-wave symmetry $f(t)=-f(t+T/2)$?"
   ]
  },
  {
   "cell_type": "markdown",
   "metadata": {
    "slideshow": {
     "slide_type": "notes"
    }
   },
   "source": [
    "#### Sawtooth\n",
    "\n",
    "<img src=\"pictures/sawtooth.png\">\n",
    "\n",
    "* Average value over period $T$ is ...?\n",
    "* It is an **odd**/**even** function?\n",
    "* It **has/has not** half-wave symmetry $f(t)=-f(t+T/2)$?"
   ]
  },
  {
   "cell_type": "markdown",
   "metadata": {
    "slideshow": {
     "slide_type": "notes"
    }
   },
   "source": [
    "#### Triangle\n",
    "\n",
    "<img src=\"pictures/triangle.png\">\n",
    "\n",
    "* Average value over period $T$ is ...?\n",
    "* It is an **odd**/**even**function?\n",
    "* It **has/has not** half-wave symmetry $f(t)=-f(t+T/2)$?"
   ]
  },
  {
   "cell_type": "markdown",
   "metadata": {
    "slideshow": {
     "slide_type": "notes"
    }
   },
   "source": [
    "### Symmetry in fundamental, Second and Third Harmonics\n",
    "\n",
    "In the following, $T/2$ is taken to be the half-period of the fundamental sinewave."
   ]
  },
  {
   "cell_type": "markdown",
   "metadata": {
    "slideshow": {
     "slide_type": "notes"
    }
   },
   "source": [
    "#### Fundamental\n",
    "\n",
    "<img src=\"pictures/fundamental.png\">\n",
    "\n",
    "\n",
    "* Average value over period $T$ is ...?\n",
    "* It is an **odd**/**even**function?\n",
    "* It **has/has not** half-wave symmetry $f(t)=-f(t+T/2)$?"
   ]
  },
  {
   "cell_type": "markdown",
   "metadata": {
    "slideshow": {
     "slide_type": "notes"
    }
   },
   "source": [
    "#### Second Harmonic\n",
    "\n",
    "<img src=\"pictures/2nd_harm.png\">\n",
    "\n",
    "\n",
    "* Average value over period $T$ is ...?\n",
    "* It is an **odd**/**even** function?\n",
    "* It **has/has not** half-wave symmetry $f(t)=-f(t+T/2)$?"
   ]
  },
  {
   "cell_type": "markdown",
   "metadata": {
    "slideshow": {
     "slide_type": "notes"
    }
   },
   "source": [
    "#### Third Harmonic\n",
    "\n",
    "<img src=\"pictures/3rd_harm.png\">\n",
    "\n",
    "* Average value over period $T$ is ...?\n",
    "* It is an **odd**/**even** function?\n",
    "* It **has/has not** half-wave symmetry $f(t)=-f(t+T/2)$?"
   ]
  },
  {
   "cell_type": "markdown",
   "metadata": {
    "slideshow": {
     "slide_type": "subslide"
    }
   },
   "source": [
    "### Some simplifications that result from symmetry\n",
    "\n",
    "* The limits of the integrals used to compute the coefficents $a_n$ and $b_n$ of the Fourier series are given as $0\\to 2\\pi$ which is one period $T$\n",
    "* We could also choose to integrate from $-\\pi \\to \\pi$\n",
    "* If the function is *odd*, or *even* or has *half-wave symmetry* we can compute $a_n$ and $b_n$ by integrating from $0\\to \\pi$ and multiplying by 2.\n",
    "* If we have *half-wave symmetry* we can compute $a_n$ and $b_n$ by integrating from $0\\to \\pi/2$ and multiplying by 4."
   ]
  },
  {
   "cell_type": "markdown",
   "metadata": {
    "slideshow": {
     "slide_type": "notes"
    }
   },
   "source": [
    "(For more details see page 7-10 of Karris)"
   ]
  },
  {
   "cell_type": "markdown",
   "metadata": {
    "slideshow": {
     "slide_type": "subslide"
    }
   },
   "source": [
    "## Computing coefficients of Trig. Fourier Series in MATLAB \n",
    "\n",
    "As an example let's take a square wave with amplitude $\\pm A$ and period $T$.\n",
    "\n",
    "<img src=\"pictures/square_wave.png\">"
   ]
  },
  {
   "cell_type": "markdown",
   "metadata": {
    "slideshow": {
     "slide_type": "subslide"
    }
   },
   "source": [
    "### Solution"
   ]
  },
  {
   "cell_type": "code",
   "execution_count": 1,
   "metadata": {
    "slideshow": {
     "slide_type": "fragment"
    }
   },
   "outputs": [],
   "source": [
    "clear all\n",
    "cd ../matlab\n",
    "format compact\n",
    "imatlab_export_fig('print-svg')  % Static svg figures."
   ]
  },
  {
   "cell_type": "code",
   "execution_count": 2,
   "metadata": {
    "slideshow": {
     "slide_type": "fragment"
    }
   },
   "outputs": [],
   "source": [
    "syms t n A pi\n",
    "n = [1:11];"
   ]
  },
  {
   "cell_type": "markdown",
   "metadata": {
    "slideshow": {
     "slide_type": "subslide"
    }
   },
   "source": [
    "DC component"
   ]
  },
  {
   "cell_type": "code",
   "execution_count": 3,
   "metadata": {
    "slideshow": {
     "slide_type": "fragment"
    }
   },
   "outputs": [
    {
     "name": "stdout",
     "output_type": "stream",
     "text": [
      "half_a0 =\n",
      "0\n"
     ]
    }
   ],
   "source": [
    "half_a0 = 1/(2*pi)*(int(A,t,0,pi)+int(-A,t,pi,2*pi))"
   ]
  },
  {
   "cell_type": "markdown",
   "metadata": {
    "slideshow": {
     "slide_type": "subslide"
    }
   },
   "source": [
    "Compute harmonics"
   ]
  },
  {
   "cell_type": "code",
   "execution_count": 4,
   "metadata": {
    "slideshow": {
     "slide_type": "fragment"
    }
   },
   "outputs": [],
   "source": [
    "ai = 1/pi*(int(A*cos(n*t),t,0,pi)+int(-A*cos(n*t),t,pi,2*pi));\n",
    "bi = 1/pi*(int(A*sin(n*t),t,0,pi)+int(-A*sin(n*t),t,pi,2*pi));"
   ]
  },
  {
   "cell_type": "markdown",
   "metadata": {
    "slideshow": {
     "slide_type": "subslide"
    }
   },
   "source": [
    "Reconstruct $f(t)$ from harmonic sine functions"
   ]
  },
  {
   "cell_type": "code",
   "execution_count": 5,
   "metadata": {
    "slideshow": {
     "slide_type": "fragment"
    }
   },
   "outputs": [],
   "source": [
    "ft = half_a0;\n",
    "for k=1:length(n)\n",
    "    ft = ft + ai(k)*cos(k*t) + bi(k)*sin(k*t);\n",
    "end;"
   ]
  },
  {
   "cell_type": "markdown",
   "metadata": {
    "slideshow": {
     "slide_type": "subslide"
    }
   },
   "source": [
    "Make numeric"
   ]
  },
  {
   "cell_type": "code",
   "execution_count": 6,
   "metadata": {
    "slideshow": {
     "slide_type": "fragment"
    }
   },
   "outputs": [],
   "source": [
    "ft_num = subs(ft,A,1.0);"
   ]
  },
  {
   "cell_type": "markdown",
   "metadata": {
    "slideshow": {
     "slide_type": "fragment"
    }
   },
   "source": [
    "Print using 4 sig digits"
   ]
  },
  {
   "cell_type": "code",
   "execution_count": 7,
   "metadata": {
    "slideshow": {
     "slide_type": "fragment"
    }
   },
   "outputs": [
    {
     "name": "stdout",
     "output_type": "stream",
     "text": [
      "ft_num =\n",
      "(cos(9*t)*(0.2222*sin(9*pi) - 0.1111*sin(18*pi)))/pi + (cos(5*t)*(0.4000*sin(5*pi) - 0.2000*sin(10*pi)))/pi + (cos(10*t)*(0.2000*sin(10*pi) - 0.1000*sin(20*pi)))/pi + (cos(11*t)*(0.1818*sin(11*pi) - 0.0909*sin(22*pi)))/pi + (cos(3*t)*(0.6667*sin(3*pi) - 0.3333*sin(6*pi)))/pi + (cos(6*t)*(0.3333*sin(6*pi) - 0.1667*sin(12*pi)))/pi + (sin(5*t)*(0.2000*cos(10*pi) - 0.2000*cos(5*pi) + 0.4000*sin(2.5000*pi)^2))/pi + (sin(10*t)*(0.1000*cos(20*pi) - 0.1000*cos(10*pi) + 0.2000*sin(5*pi)^2))/pi + (sin(9*t)*(0.1111*cos(18*pi) - 0.1111*cos(9*pi) + 0.2222*sin(4.5000*pi)^2))/pi + (sin(11*t)*(0.0909*cos(22*pi) - 0.0909*cos(11*pi) + 0.1818*sin(5.5000*pi)^2))/pi + (cos(7*t)*(0.2857*sin(7*pi) - 0.1429*sin(14*pi)))/pi + (sin(3*t)*(0.3333*cos(6*pi) - 0.3333*cos(3*pi) + 0.6667*sin(1.5000*pi)^2))/pi + (sin(6*t)*(0.1667*cos(12*pi) - 0.1667*cos(6*pi) + 0.3333*sin(3*pi)^2))/pi + (sin(7*t)*(0.1429*cos(14*pi) - 0.1429*cos(7*pi) + 0.2857*sin(3.5000*pi)^2))/pi + (sin(2*t)*(sin(pi)^2*(4*sin(pi)^2 - 3) + sin(pi)^2))/pi + (sin(4*t)*(0.2500*cos(8*pi) - 0.2500*cos(4*pi) + 0.5000*sin(2*pi)^2))/pi + (sin(8*t)*(0.1250*cos(16*pi) - 0.1250*cos(8*pi) + 0.2500*sin(4*pi)^2))/pi + (cos(2*t)*(0.5000*sin(2*pi) + 0.5000*sin(2*pi)*(4*sin(pi)^2 - 1)))/pi + (cos(4*t)*(0.5000*sin(4*pi) - 0.2500*sin(8*pi)))/pi + (cos(8*t)*(0.2500*sin(8*pi) - 0.1250*sin(16*pi)))/pi + (cos(t)*(sin(pi) - 1*sin(pi)*(2*cos(pi) - 1)))/pi + (sin(t)*((2*cos(pi) + 1)*(cos(pi) - 1) - 1*cos(pi) + 1))/pi\n"
     ]
    }
   ],
   "source": [
    "ft_num = vpa(ft_num, 4)"
   ]
  },
  {
   "cell_type": "markdown",
   "metadata": {
    "slideshow": {
     "slide_type": "subslide"
    }
   },
   "source": [
    "Plot result"
   ]
  },
  {
   "cell_type": "code",
   "execution_count": 8,
   "metadata": {
    "slideshow": {
     "slide_type": "subslide"
    }
   },
   "outputs": [
    {
     "data": {
      "image/svg+xml": [
       "<?xml version=\"1.0\"?>\n",
       "<!DOCTYPE svg PUBLIC '-//W3C//DTD SVG 1.0//EN'\n",
       "          'http://www.w3.org/TR/2001/REC-SVG-20010904/DTD/svg10.dtd'>\n",
       "<svg xmlns:xlink=\"http://www.w3.org/1999/xlink\" style=\"fill-opacity:1; color-rendering:auto; color-interpolation:auto; text-rendering:auto; stroke:black; stroke-linecap:square; stroke-miterlimit:10; shape-rendering:auto; stroke-opacity:1; fill:black; stroke-dasharray:none; font-weight:normal; stroke-width:1; font-family:'Dialog'; font-style:normal; stroke-linejoin:miter; font-size:12px; stroke-dashoffset:0; image-rendering:auto;\" width=\"560\" height=\"420\" xmlns=\"http://www.w3.org/2000/svg\"\n",
       "><!--Generated by the Batik Graphics2D SVG Generator--><defs id=\"genericDefs\"\n",
       "  /><g\n",
       "  ><defs id=\"defs1\"\n",
       "    ><clipPath clipPathUnits=\"userSpaceOnUse\" id=\"clipPath1\"\n",
       "      ><path d=\"M0 0 L560 0 L560 420 L0 420 L0 0 Z\"\n",
       "      /></clipPath\n",
       "    ></defs\n",
       "    ><g style=\"fill:white; stroke:white;\"\n",
       "    ><rect x=\"0\" y=\"0\" width=\"560\" style=\"clip-path:url(#clipPath1); stroke:none;\" height=\"420\"\n",
       "    /></g\n",
       "    ><g style=\"fill:white; text-rendering:optimizeSpeed; color-rendering:optimizeSpeed; image-rendering:optimizeSpeed; shape-rendering:crispEdges; stroke:white; color-interpolation:sRGB;\"\n",
       "    ><rect x=\"0\" width=\"560\" height=\"420\" y=\"0\" style=\"stroke:none;\"\n",
       "      /><path style=\"stroke:none;\" d=\"M73 374 L507 374 L507 31 L73 31 Z\"\n",
       "    /></g\n",
       "    ><g style=\"stroke-linecap:butt; fill-opacity:0.149; fill:rgb(38,38,38); text-rendering:geometricPrecision; image-rendering:optimizeQuality; color-rendering:optimizeQuality; stroke-linejoin:round; stroke:rgb(38,38,38); color-interpolation:linearRGB; stroke-width:0.5; stroke-opacity:0.149;\"\n",
       "    ><line y2=\"31\" style=\"fill:none;\" x1=\"82.7803\" x2=\"82.7803\" y1=\"374\"\n",
       "      /><line y2=\"31\" style=\"fill:none;\" x1=\"151.8535\" x2=\"151.8535\" y1=\"374\"\n",
       "      /><line y2=\"31\" style=\"fill:none;\" x1=\"220.9268\" x2=\"220.9268\" y1=\"374\"\n",
       "      /><line y2=\"31\" style=\"fill:none;\" x1=\"290\" x2=\"290\" y1=\"374\"\n",
       "      /><line y2=\"31\" style=\"fill:none;\" x1=\"359.0732\" x2=\"359.0732\" y1=\"374\"\n",
       "      /><line y2=\"31\" style=\"fill:none;\" x1=\"428.1465\" x2=\"428.1465\" y1=\"374\"\n",
       "      /><line y2=\"31\" style=\"fill:none;\" x1=\"497.2197\" x2=\"497.2197\" y1=\"374\"\n",
       "      /><line y2=\"321.2848\" style=\"fill:none;\" x1=\"507\" x2=\"73\" y1=\"321.2848\"\n",
       "      /><line y2=\"261.8924\" style=\"fill:none;\" x1=\"507\" x2=\"73\" y1=\"261.8924\"\n",
       "      /><line y2=\"202.5\" style=\"fill:none;\" x1=\"507\" x2=\"73\" y1=\"202.5\"\n",
       "      /><line y2=\"143.1076\" style=\"fill:none;\" x1=\"507\" x2=\"73\" y1=\"143.1076\"\n",
       "      /><line y2=\"83.7152\" style=\"fill:none;\" x1=\"507\" x2=\"73\" y1=\"83.7152\"\n",
       "      /><line x1=\"73\" x2=\"507\" y1=\"374\" style=\"stroke-linecap:square; fill-opacity:1; fill:none; stroke-opacity:1;\" y2=\"374\"\n",
       "      /><line x1=\"73\" x2=\"507\" y1=\"31\" style=\"stroke-linecap:square; fill-opacity:1; fill:none; stroke-opacity:1;\" y2=\"31\"\n",
       "      /><line x1=\"82.7803\" x2=\"82.7803\" y1=\"374\" style=\"stroke-linecap:square; fill-opacity:1; fill:none; stroke-opacity:1;\" y2=\"369.66\"\n",
       "      /><line x1=\"151.8535\" x2=\"151.8535\" y1=\"374\" style=\"stroke-linecap:square; fill-opacity:1; fill:none; stroke-opacity:1;\" y2=\"369.66\"\n",
       "      /><line x1=\"220.9268\" x2=\"220.9268\" y1=\"374\" style=\"stroke-linecap:square; fill-opacity:1; fill:none; stroke-opacity:1;\" y2=\"369.66\"\n",
       "      /><line x1=\"290\" x2=\"290\" y1=\"374\" style=\"stroke-linecap:square; fill-opacity:1; fill:none; stroke-opacity:1;\" y2=\"369.66\"\n",
       "      /><line x1=\"359.0732\" x2=\"359.0732\" y1=\"374\" style=\"stroke-linecap:square; fill-opacity:1; fill:none; stroke-opacity:1;\" y2=\"369.66\"\n",
       "      /><line x1=\"428.1465\" x2=\"428.1465\" y1=\"374\" style=\"stroke-linecap:square; fill-opacity:1; fill:none; stroke-opacity:1;\" y2=\"369.66\"\n",
       "      /><line x1=\"497.2197\" x2=\"497.2197\" y1=\"374\" style=\"stroke-linecap:square; fill-opacity:1; fill:none; stroke-opacity:1;\" y2=\"369.66\"\n",
       "      /><line x1=\"82.7803\" x2=\"82.7803\" y1=\"31\" style=\"stroke-linecap:square; fill-opacity:1; fill:none; stroke-opacity:1;\" y2=\"35.34\"\n",
       "      /><line x1=\"151.8535\" x2=\"151.8535\" y1=\"31\" style=\"stroke-linecap:square; fill-opacity:1; fill:none; stroke-opacity:1;\" y2=\"35.34\"\n",
       "      /><line x1=\"220.9268\" x2=\"220.9268\" y1=\"31\" style=\"stroke-linecap:square; fill-opacity:1; fill:none; stroke-opacity:1;\" y2=\"35.34\"\n",
       "      /><line x1=\"290\" x2=\"290\" y1=\"31\" style=\"stroke-linecap:square; fill-opacity:1; fill:none; stroke-opacity:1;\" y2=\"35.34\"\n",
       "      /><line x1=\"359.0732\" x2=\"359.0732\" y1=\"31\" style=\"stroke-linecap:square; fill-opacity:1; fill:none; stroke-opacity:1;\" y2=\"35.34\"\n",
       "      /><line x1=\"428.1465\" x2=\"428.1465\" y1=\"31\" style=\"stroke-linecap:square; fill-opacity:1; fill:none; stroke-opacity:1;\" y2=\"35.34\"\n",
       "      /><line x1=\"497.2197\" x2=\"497.2197\" y1=\"31\" style=\"stroke-linecap:square; fill-opacity:1; fill:none; stroke-opacity:1;\" y2=\"35.34\"\n",
       "    /></g\n",
       "    ><g transform=\"translate(82.7803,378)\" style=\"font-size:10px; fill:rgb(38,38,38); text-rendering:geometricPrecision; image-rendering:optimizeQuality; color-rendering:optimizeQuality; font-family:'Helvetica Neue'; stroke:rgb(38,38,38); color-interpolation:linearRGB;\"\n",
       "    ><path style=\"stroke:none;\" d=\"M-4.5 6.82 L-4.5 7.62 L-1.61 7.62 L-1.61 6.82 ZM3.03 4.72 L3.88 4.72 Q3.8 3.84 3.28 3.375 Q2.76 2.91 1.88 2.91 Q1.12 2.91 0.62 3.23 Q0.12 3.55 -0.18 4.08 Q-0.48 4.61 -0.605 5.295 Q-0.73 5.98 -0.73 6.71 Q-0.73 7.27 -0.645 7.87 Q-0.56 8.47 -0.3 8.97 Q-0.04 9.47 0.44 9.79 Q0.92 10.11 1.71 10.11 Q2.38 10.11 2.835 9.885 Q3.29 9.66 3.565 9.315 Q3.84 8.97 3.96 8.55 Q4.08 8.13 4.08 7.74 Q4.08 7.25 3.93 6.83 Q3.78 6.41 3.505 6.1 Q3.23 5.79 2.825 5.615 Q2.42 5.44 1.91 5.44 Q1.33 5.44 0.885 5.66 Q0.44 5.88 0.14 6.37 L0.12 6.35 Q0.13 5.94 0.2 5.47 Q0.27 5 0.455 4.595 Q0.64 4.19 0.97 3.925 Q1.3 3.66 1.84 3.66 Q2.35 3.66 2.66 3.95 Q2.97 4.24 3.03 4.72 ZM1.75 6.19 Q2.11 6.19 2.38 6.32 Q2.65 6.45 2.83 6.665 Q3.01 6.88 3.095 7.175 Q3.18 7.47 3.18 7.8 Q3.18 8.11 3.085 8.395 Q2.99 8.68 2.81 8.9 Q2.63 9.12 2.365 9.245 Q2.1 9.37 1.75 9.37 Q1.4 9.37 1.125 9.245 Q0.85 9.12 0.665 8.91 Q0.48 8.7 0.38 8.41 Q0.28 8.12 0.28 7.79 Q0.28 7.46 0.375 7.165 Q0.47 6.87 0.66 6.655 Q0.85 6.44 1.12 6.315 Q1.39 6.19 1.75 6.19 Z\"\n",
       "    /></g\n",
       "    ><g transform=\"translate(151.8535,378)\" style=\"font-size:10px; fill:rgb(38,38,38); text-rendering:geometricPrecision; image-rendering:optimizeQuality; color-rendering:optimizeQuality; font-family:'Helvetica Neue'; stroke:rgb(38,38,38); color-interpolation:linearRGB;\"\n",
       "    ><path style=\"stroke:none;\" d=\"M-4.5 6.82 L-4.5 7.62 L-1.61 7.62 L-1.61 6.82 ZM2.28 7.59 L-0.1 7.59 L2.26 4.12 L2.28 4.12 ZM3.08 7.59 L3.08 2.91 L2.4 2.91 L-0.83 7.52 L-0.83 8.34 L2.28 8.34 L2.28 10 L3.08 10 L3.08 8.34 L4.04 8.34 L4.04 7.59 Z\"\n",
       "    /></g\n",
       "    ><g transform=\"translate(220.9268,378)\" style=\"font-size:10px; fill:rgb(38,38,38); text-rendering:geometricPrecision; image-rendering:optimizeQuality; color-rendering:optimizeQuality; font-family:'Helvetica Neue'; stroke:rgb(38,38,38); color-interpolation:linearRGB;\"\n",
       "    ><path style=\"stroke:none;\" d=\"M-4.5 6.82 L-4.5 7.62 L-1.61 7.62 L-1.61 6.82 ZM-0.67 5.42 L0.18 5.42 Q0.17 5.1 0.245 4.785 Q0.32 4.47 0.49 4.22 Q0.66 3.97 0.925 3.815 Q1.19 3.66 1.56 3.66 Q1.84 3.66 2.09 3.75 Q2.34 3.84 2.525 4.01 Q2.71 4.18 2.82 4.415 Q2.93 4.65 2.93 4.94 Q2.93 5.31 2.815 5.59 Q2.7 5.87 2.475 6.11 Q2.25 6.35 1.91 6.585 Q1.57 6.82 1.12 7.1 Q0.75 7.32 0.41 7.57 Q0.07 7.82 -0.2 8.15 Q-0.47 8.48 -0.645 8.925 Q-0.82 9.37 -0.87 10 L3.76 10 L3.76 9.25 L0.12 9.25 Q0.18 8.92 0.375 8.665 Q0.57 8.41 0.845 8.19 Q1.12 7.97 1.45 7.775 Q1.78 7.58 2.11 7.38 Q2.44 7.17 2.75 6.94 Q3.06 6.71 3.3 6.425 Q3.54 6.14 3.685 5.78 Q3.83 5.42 3.83 4.95 Q3.83 4.45 3.655 4.07 Q3.48 3.69 3.18 3.435 Q2.88 3.18 2.475 3.045 Q2.07 2.91 1.61 2.91 Q1.05 2.91 0.61 3.1 Q0.17 3.29 -0.125 3.625 Q-0.42 3.96 -0.56 4.42 Q-0.7 4.88 -0.67 5.42 Z\"\n",
       "    /></g\n",
       "    ><g transform=\"translate(290,378)\" style=\"font-size:10px; fill:rgb(38,38,38); text-rendering:geometricPrecision; image-rendering:optimizeQuality; color-rendering:optimizeQuality; font-family:'Helvetica Neue'; stroke:rgb(38,38,38); color-interpolation:linearRGB;\"\n",
       "    ><path style=\"stroke:none;\" d=\"M-1.68 6.51 Q-1.68 6.25 -1.675 5.935 Q-1.67 5.62 -1.625 5.305 Q-1.58 4.99 -1.495 4.69 Q-1.41 4.39 -1.245 4.165 Q-1.08 3.94 -0.83 3.8 Q-0.58 3.66 -0.22 3.66 Q0.14 3.66 0.39 3.8 Q0.64 3.94 0.805 4.165 Q0.97 4.39 1.055 4.69 Q1.14 4.99 1.185 5.305 Q1.23 5.62 1.235 5.935 Q1.24 6.25 1.24 6.51 Q1.24 6.91 1.215 7.405 Q1.19 7.9 1.055 8.335 Q0.92 8.77 0.62 9.07 Q0.32 9.37 -0.22 9.37 Q-0.76 9.37 -1.06 9.07 Q-1.36 8.77 -1.495 8.335 Q-1.63 7.9 -1.655 7.405 Q-1.68 6.91 -1.68 6.51 ZM-2.58 6.52 Q-2.58 6.91 -2.56 7.33 Q-2.54 7.75 -2.46 8.15 Q-2.38 8.55 -2.23 8.905 Q-2.08 9.26 -1.82 9.53 Q-1.56 9.8 -1.165 9.955 Q-0.77 10.11 -0.22 10.11 Q0.34 10.11 0.73 9.955 Q1.12 9.8 1.38 9.53 Q1.64 9.26 1.79 8.905 Q1.94 8.55 2.02 8.15 Q2.1 7.75 2.12 7.33 Q2.14 6.91 2.14 6.52 Q2.14 6.13 2.12 5.71 Q2.1 5.29 2.02 4.89 Q1.94 4.49 1.79 4.13 Q1.64 3.77 1.38 3.5 Q1.12 3.23 0.725 3.07 Q0.33 2.91 -0.22 2.91 Q-0.77 2.91 -1.165 3.07 Q-1.56 3.23 -1.82 3.5 Q-2.08 3.77 -2.23 4.13 Q-2.38 4.49 -2.46 4.89 Q-2.54 5.29 -2.56 5.71 Q-2.58 6.13 -2.58 6.52 Z\"\n",
       "    /></g\n",
       "    ><g transform=\"translate(359.0732,378)\" style=\"font-size:10px; fill:rgb(38,38,38); text-rendering:geometricPrecision; image-rendering:optimizeQuality; color-rendering:optimizeQuality; font-family:'Helvetica Neue'; stroke:rgb(38,38,38); color-interpolation:linearRGB;\"\n",
       "    ><path style=\"stroke:none;\" d=\"M-2.56 5.42 L-1.71 5.42 Q-1.72 5.1 -1.645 4.785 Q-1.57 4.47 -1.4 4.22 Q-1.23 3.97 -0.965 3.815 Q-0.7 3.66 -0.33 3.66 Q-0.05 3.66 0.2 3.75 Q0.45 3.84 0.635 4.01 Q0.82 4.18 0.93 4.415 Q1.04 4.65 1.04 4.94 Q1.04 5.31 0.925 5.59 Q0.81 5.87 0.585 6.11 Q0.36 6.35 0.02 6.585 Q-0.32 6.82 -0.77 7.1 Q-1.14 7.32 -1.48 7.57 Q-1.82 7.82 -2.09 8.15 Q-2.36 8.48 -2.535 8.925 Q-2.71 9.37 -2.76 10 L1.87 10 L1.87 9.25 L-1.77 9.25 Q-1.71 8.92 -1.515 8.665 Q-1.32 8.41 -1.045 8.19 Q-0.77 7.97 -0.44 7.775 Q-0.11 7.58 0.22 7.38 Q0.55 7.17 0.86 6.94 Q1.17 6.71 1.41 6.425 Q1.65 6.14 1.795 5.78 Q1.94 5.42 1.94 4.95 Q1.94 4.45 1.765 4.07 Q1.59 3.69 1.29 3.435 Q0.99 3.18 0.585 3.045 Q0.18 2.91 -0.28 2.91 Q-0.84 2.91 -1.28 3.1 Q-1.72 3.29 -2.015 3.625 Q-2.31 3.96 -2.45 4.42 Q-2.59 4.88 -2.56 5.42 Z\"\n",
       "    /></g\n",
       "    ><g transform=\"translate(428.1465,378)\" style=\"font-size:10px; fill:rgb(38,38,38); text-rendering:geometricPrecision; image-rendering:optimizeQuality; color-rendering:optimizeQuality; font-family:'Helvetica Neue'; stroke:rgb(38,38,38); color-interpolation:linearRGB;\"\n",
       "    ><path style=\"stroke:none;\" d=\"M0.39 7.59 L-1.99 7.59 L0.37 4.12 L0.39 4.12 ZM1.19 7.59 L1.19 2.91 L0.51 2.91 L-2.72 7.52 L-2.72 8.34 L0.39 8.34 L0.39 10 L1.19 10 L1.19 8.34 L2.15 8.34 L2.15 7.59 Z\"\n",
       "    /></g\n",
       "    ><g transform=\"translate(497.2197,378)\" style=\"font-size:10px; fill:rgb(38,38,38); text-rendering:geometricPrecision; image-rendering:optimizeQuality; color-rendering:optimizeQuality; font-family:'Helvetica Neue'; stroke:rgb(38,38,38); color-interpolation:linearRGB;\"\n",
       "    ><path style=\"stroke:none;\" d=\"M1.14 4.72 L1.99 4.72 Q1.91 3.84 1.39 3.375 Q0.87 2.91 -0.01 2.91 Q-0.77 2.91 -1.27 3.23 Q-1.77 3.55 -2.07 4.08 Q-2.37 4.61 -2.495 5.295 Q-2.62 5.98 -2.62 6.71 Q-2.62 7.27 -2.535 7.87 Q-2.45 8.47 -2.19 8.97 Q-1.93 9.47 -1.45 9.79 Q-0.97 10.11 -0.18 10.11 Q0.49 10.11 0.945 9.885 Q1.4 9.66 1.675 9.315 Q1.95 8.97 2.07 8.55 Q2.19 8.13 2.19 7.74 Q2.19 7.25 2.04 6.83 Q1.89 6.41 1.615 6.1 Q1.34 5.79 0.935 5.615 Q0.53 5.44 0.02 5.44 Q-0.56 5.44 -1.005 5.66 Q-1.45 5.88 -1.75 6.37 L-1.77 6.35 Q-1.76 5.94 -1.69 5.47 Q-1.62 5 -1.435 4.595 Q-1.25 4.19 -0.92 3.925 Q-0.59 3.66 -0.05 3.66 Q0.46 3.66 0.77 3.95 Q1.08 4.24 1.14 4.72 ZM-0.14 6.19 Q0.22 6.19 0.49 6.32 Q0.76 6.45 0.94 6.665 Q1.12 6.88 1.205 7.175 Q1.29 7.47 1.29 7.8 Q1.29 8.11 1.195 8.395 Q1.1 8.68 0.92 8.9 Q0.74 9.12 0.475 9.245 Q0.21 9.37 -0.14 9.37 Q-0.49 9.37 -0.765 9.245 Q-1.04 9.12 -1.225 8.91 Q-1.41 8.7 -1.51 8.41 Q-1.61 8.12 -1.61 7.79 Q-1.61 7.46 -1.515 7.165 Q-1.42 6.87 -1.23 6.655 Q-1.04 6.44 -0.77 6.315 Q-0.5 6.19 -0.14 6.19 Z\"\n",
       "    /></g\n",
       "    ><g transform=\"translate(288,403)\" style=\"font-size:11px; fill:rgb(38,38,38); text-rendering:geometricPrecision; image-rendering:optimizeQuality; color-rendering:optimizeQuality; font-family:'Helvetica Neue'; stroke:rgb(38,38,38); color-interpolation:linearRGB;\"\n",
       "    ><path style=\"stroke:none;\" d=\"M2.002 -5.687 L2.002 -7.392 L1.067 -7.392 L1.067 -5.687 L0.099 -5.687 L0.099 -4.862 L1.067 -4.862 L1.067 -1.243 Q1.067 -0.847 1.144 -0.605 Q1.221 -0.363 1.3805 -0.231 Q1.54 -0.099 1.7985 -0.0495 Q2.057 0 2.42 0 L3.135 0 L3.135 -0.825 L2.706 -0.825 Q2.486 -0.825 2.3485 -0.8415 Q2.211 -0.858 2.134 -0.913 Q2.057 -0.968 2.0295 -1.067 Q2.002 -1.166 2.002 -1.331 L2.002 -4.862 L3.135 -4.862 L3.135 -5.687 Z\"\n",
       "    /></g\n",
       "    ><g style=\"fill:rgb(38,38,38); text-rendering:geometricPrecision; image-rendering:optimizeQuality; color-rendering:optimizeQuality; stroke-linejoin:round; stroke:rgb(38,38,38); color-interpolation:linearRGB; stroke-width:0.5;\"\n",
       "    ><line y2=\"31\" style=\"fill:none;\" x1=\"73\" x2=\"73\" y1=\"374\"\n",
       "      /><line y2=\"31\" style=\"fill:none;\" x1=\"507\" x2=\"507\" y1=\"374\"\n",
       "      /><line y2=\"321.2848\" style=\"fill:none;\" x1=\"73\" x2=\"77.34\" y1=\"321.2848\"\n",
       "      /><line y2=\"261.8924\" style=\"fill:none;\" x1=\"73\" x2=\"77.34\" y1=\"261.8924\"\n",
       "      /><line y2=\"202.5\" style=\"fill:none;\" x1=\"73\" x2=\"77.34\" y1=\"202.5\"\n",
       "      /><line y2=\"143.1076\" style=\"fill:none;\" x1=\"73\" x2=\"77.34\" y1=\"143.1076\"\n",
       "      /><line y2=\"83.7152\" style=\"fill:none;\" x1=\"73\" x2=\"77.34\" y1=\"83.7152\"\n",
       "      /><line y2=\"321.2848\" style=\"fill:none;\" x1=\"507\" x2=\"502.66\" y1=\"321.2848\"\n",
       "      /><line y2=\"261.8924\" style=\"fill:none;\" x1=\"507\" x2=\"502.66\" y1=\"261.8924\"\n",
       "      /><line y2=\"202.5\" style=\"fill:none;\" x1=\"507\" x2=\"502.66\" y1=\"202.5\"\n",
       "      /><line y2=\"143.1076\" style=\"fill:none;\" x1=\"507\" x2=\"502.66\" y1=\"143.1076\"\n",
       "      /><line y2=\"83.7152\" style=\"fill:none;\" x1=\"507\" x2=\"502.66\" y1=\"83.7152\"\n",
       "    /></g\n",
       "    ><g transform=\"translate(69,321.2848)\" style=\"font-size:10px; fill:rgb(38,38,38); text-rendering:geometricPrecision; image-rendering:optimizeQuality; color-rendering:optimizeQuality; font-family:'Helvetica Neue'; stroke:rgb(38,38,38); color-interpolation:linearRGB;\"\n",
       "    ><path style=\"stroke:none;\" d=\"M-9.5 0.32 L-9.5 1.12 L-6.61 1.12 L-6.61 0.32 ZM-2.55 3.5 L-2.55 -3.59 L-3.2 -3.59 Q-3.27 -3.19 -3.46 -2.93 Q-3.65 -2.67 -3.925 -2.52 Q-4.2 -2.37 -4.54 -2.315 Q-4.88 -2.26 -5.24 -2.26 L-5.24 -1.58 L-3.4 -1.58 L-3.4 3.5 Z\"\n",
       "    /></g\n",
       "    ><g transform=\"translate(69,261.8924)\" style=\"font-size:10px; fill:rgb(38,38,38); text-rendering:geometricPrecision; image-rendering:optimizeQuality; color-rendering:optimizeQuality; font-family:'Helvetica Neue'; stroke:rgb(38,38,38); color-interpolation:linearRGB;\"\n",
       "    ><path style=\"stroke:none;\" d=\"M-17.5 0.32 L-17.5 1.12 L-14.61 1.12 L-14.61 0.32 ZM-12.79 0.01 Q-12.79 -0.25 -12.785 -0.565 Q-12.78 -0.88 -12.735 -1.195 Q-12.69 -1.51 -12.605 -1.81 Q-12.52 -2.11 -12.355 -2.335 Q-12.19 -2.56 -11.94 -2.7 Q-11.69 -2.84 -11.33 -2.84 Q-10.97 -2.84 -10.72 -2.7 Q-10.47 -2.56 -10.305 -2.335 Q-10.14 -2.11 -10.055 -1.81 Q-9.97 -1.51 -9.925 -1.195 Q-9.88 -0.88 -9.875 -0.565 Q-9.87 -0.25 -9.87 0.01 Q-9.87 0.41 -9.895 0.905 Q-9.92 1.4 -10.055 1.835 Q-10.19 2.27 -10.49 2.57 Q-10.79 2.87 -11.33 2.87 Q-11.87 2.87 -12.17 2.57 Q-12.47 2.27 -12.605 1.835 Q-12.74 1.4 -12.765 0.905 Q-12.79 0.41 -12.79 0.01 ZM-13.69 0.02 Q-13.69 0.41 -13.67 0.83 Q-13.65 1.25 -13.57 1.65 Q-13.49 2.05 -13.34 2.405 Q-13.19 2.76 -12.93 3.03 Q-12.67 3.3 -12.275 3.455 Q-11.88 3.61 -11.33 3.61 Q-10.77 3.61 -10.38 3.455 Q-9.99 3.3 -9.73 3.03 Q-9.47 2.76 -9.32 2.405 Q-9.17 2.05 -9.09 1.65 Q-9.01 1.25 -8.99 0.83 Q-8.97 0.41 -8.97 0.02 Q-8.97 -0.37 -8.99 -0.79 Q-9.01 -1.21 -9.09 -1.61 Q-9.17 -2.01 -9.32 -2.37 Q-9.47 -2.73 -9.73 -3 Q-9.99 -3.27 -10.385 -3.43 Q-10.78 -3.59 -11.33 -3.59 Q-11.88 -3.59 -12.275 -3.43 Q-12.67 -3.27 -12.93 -3 Q-13.19 -2.73 -13.34 -2.37 Q-13.49 -2.01 -13.57 -1.61 Q-13.65 -1.21 -13.67 -0.79 Q-13.69 -0.37 -13.69 0.02 ZM-7.72 2.39 L-7.72 3.5 L-6.61 3.5 L-6.61 2.39 ZM-1.07 -2.72 L-1.07 -3.47 L-4.57 -3.47 L-5.23 0.21 L-4.5 0.25 Q-4.25 -0.05 -3.925 -0.235 Q-3.6 -0.42 -3.18 -0.42 Q-2.82 -0.42 -2.525 -0.3 Q-2.23 -0.18 -2.02 0.035 Q-1.81 0.25 -1.695 0.545 Q-1.58 0.84 -1.58 1.19 Q-1.58 1.61 -1.7 1.925 Q-1.82 2.24 -2.025 2.45 Q-2.23 2.66 -2.505 2.765 Q-2.78 2.87 -3.08 2.87 Q-3.4 2.87 -3.665 2.775 Q-3.93 2.68 -4.125 2.505 Q-4.32 2.33 -4.435 2.095 Q-4.55 1.86 -4.57 1.59 L-5.42 1.59 Q-5.41 2.07 -5.23 2.45 Q-5.05 2.83 -4.74 3.085 Q-4.43 3.34 -4.025 3.475 Q-3.62 3.61 -3.16 3.61 Q-2.54 3.61 -2.075 3.415 Q-1.61 3.22 -1.3 2.89 Q-0.99 2.56 -0.835 2.135 Q-0.68 1.71 -0.68 1.26 Q-0.68 0.65 -0.86 0.195 Q-1.04 -0.26 -1.35 -0.565 Q-1.66 -0.87 -2.08 -1.02 Q-2.5 -1.17 -2.97 -1.17 Q-3.33 -1.17 -3.695 -1.045 Q-4.06 -0.92 -4.29 -0.66 L-4.31 -0.68 L-3.93 -2.72 Z\"\n",
       "    /></g\n",
       "    ><g transform=\"translate(69,202.5)\" style=\"font-size:10px; fill:rgb(38,38,38); text-rendering:geometricPrecision; image-rendering:optimizeQuality; color-rendering:optimizeQuality; font-family:'Helvetica Neue'; stroke:rgb(38,38,38); color-interpolation:linearRGB;\"\n",
       "    ><path style=\"stroke:none;\" d=\"M-4.68 0.01 Q-4.68 -0.25 -4.675 -0.565 Q-4.67 -0.88 -4.625 -1.195 Q-4.58 -1.51 -4.495 -1.81 Q-4.41 -2.11 -4.245 -2.335 Q-4.08 -2.56 -3.83 -2.7 Q-3.58 -2.84 -3.22 -2.84 Q-2.86 -2.84 -2.61 -2.7 Q-2.36 -2.56 -2.195 -2.335 Q-2.03 -2.11 -1.945 -1.81 Q-1.86 -1.51 -1.815 -1.195 Q-1.77 -0.88 -1.765 -0.565 Q-1.76 -0.25 -1.76 0.01 Q-1.76 0.41 -1.785 0.905 Q-1.81 1.4 -1.945 1.835 Q-2.08 2.27 -2.38 2.57 Q-2.68 2.87 -3.22 2.87 Q-3.76 2.87 -4.06 2.57 Q-4.36 2.27 -4.495 1.835 Q-4.63 1.4 -4.655 0.905 Q-4.68 0.41 -4.68 0.01 ZM-5.58 0.02 Q-5.58 0.41 -5.56 0.83 Q-5.54 1.25 -5.46 1.65 Q-5.38 2.05 -5.23 2.405 Q-5.08 2.76 -4.82 3.03 Q-4.56 3.3 -4.165 3.455 Q-3.77 3.61 -3.22 3.61 Q-2.66 3.61 -2.27 3.455 Q-1.88 3.3 -1.62 3.03 Q-1.36 2.76 -1.21 2.405 Q-1.06 2.05 -0.98 1.65 Q-0.9 1.25 -0.88 0.83 Q-0.86 0.41 -0.86 0.02 Q-0.86 -0.37 -0.88 -0.79 Q-0.9 -1.21 -0.98 -1.61 Q-1.06 -2.01 -1.21 -2.37 Q-1.36 -2.73 -1.62 -3 Q-1.88 -3.27 -2.275 -3.43 Q-2.67 -3.59 -3.22 -3.59 Q-3.77 -3.59 -4.165 -3.43 Q-4.56 -3.27 -4.82 -3 Q-5.08 -2.73 -5.23 -2.37 Q-5.38 -2.01 -5.46 -1.61 Q-5.54 -1.21 -5.56 -0.79 Q-5.58 -0.37 -5.58 0.02 Z\"\n",
       "    /></g\n",
       "    ><g transform=\"translate(69,143.1076)\" style=\"font-size:10px; fill:rgb(38,38,38); text-rendering:geometricPrecision; image-rendering:optimizeQuality; color-rendering:optimizeQuality; font-family:'Helvetica Neue'; stroke:rgb(38,38,38); color-interpolation:linearRGB;\"\n",
       "    ><path style=\"stroke:none;\" d=\"M-12.68 0.01 Q-12.68 -0.25 -12.675 -0.565 Q-12.67 -0.88 -12.625 -1.195 Q-12.58 -1.51 -12.495 -1.81 Q-12.41 -2.11 -12.245 -2.335 Q-12.08 -2.56 -11.83 -2.7 Q-11.58 -2.84 -11.22 -2.84 Q-10.86 -2.84 -10.61 -2.7 Q-10.36 -2.56 -10.195 -2.335 Q-10.03 -2.11 -9.945 -1.81 Q-9.86 -1.51 -9.815 -1.195 Q-9.77 -0.88 -9.765 -0.565 Q-9.76 -0.25 -9.76 0.01 Q-9.76 0.41 -9.785 0.905 Q-9.81 1.4 -9.945 1.835 Q-10.08 2.27 -10.38 2.57 Q-10.68 2.87 -11.22 2.87 Q-11.76 2.87 -12.06 2.57 Q-12.36 2.27 -12.495 1.835 Q-12.63 1.4 -12.655 0.905 Q-12.68 0.41 -12.68 0.01 ZM-13.58 0.02 Q-13.58 0.41 -13.56 0.83 Q-13.54 1.25 -13.46 1.65 Q-13.38 2.05 -13.23 2.405 Q-13.08 2.76 -12.82 3.03 Q-12.56 3.3 -12.165 3.455 Q-11.77 3.61 -11.22 3.61 Q-10.66 3.61 -10.27 3.455 Q-9.88 3.3 -9.62 3.03 Q-9.36 2.76 -9.21 2.405 Q-9.06 2.05 -8.98 1.65 Q-8.9 1.25 -8.88 0.83 Q-8.86 0.41 -8.86 0.02 Q-8.86 -0.37 -8.88 -0.79 Q-8.9 -1.21 -8.98 -1.61 Q-9.06 -2.01 -9.21 -2.37 Q-9.36 -2.73 -9.62 -3 Q-9.88 -3.27 -10.275 -3.43 Q-10.67 -3.59 -11.22 -3.59 Q-11.77 -3.59 -12.165 -3.43 Q-12.56 -3.27 -12.82 -3 Q-13.08 -2.73 -13.23 -2.37 Q-13.38 -2.01 -13.46 -1.61 Q-13.54 -1.21 -13.56 -0.79 Q-13.58 -0.37 -13.58 0.02 ZM-7.61 2.39 L-7.61 3.5 L-6.5 3.5 L-6.5 2.39 ZM-0.96 -2.72 L-0.96 -3.47 L-4.46 -3.47 L-5.12 0.21 L-4.39 0.25 Q-4.14 -0.05 -3.815 -0.235 Q-3.49 -0.42 -3.07 -0.42 Q-2.71 -0.42 -2.415 -0.3 Q-2.12 -0.18 -1.91 0.035 Q-1.7 0.25 -1.585 0.545 Q-1.47 0.84 -1.47 1.19 Q-1.47 1.61 -1.59 1.925 Q-1.71 2.24 -1.915 2.45 Q-2.12 2.66 -2.395 2.765 Q-2.67 2.87 -2.97 2.87 Q-3.29 2.87 -3.555 2.775 Q-3.82 2.68 -4.015 2.505 Q-4.21 2.33 -4.325 2.095 Q-4.44 1.86 -4.46 1.59 L-5.31 1.59 Q-5.3 2.07 -5.12 2.45 Q-4.94 2.83 -4.63 3.085 Q-4.32 3.34 -3.915 3.475 Q-3.51 3.61 -3.05 3.61 Q-2.43 3.61 -1.965 3.415 Q-1.5 3.22 -1.19 2.89 Q-0.88 2.56 -0.725 2.135 Q-0.57 1.71 -0.57 1.26 Q-0.57 0.65 -0.75 0.195 Q-0.93 -0.26 -1.24 -0.565 Q-1.55 -0.87 -1.97 -1.02 Q-2.39 -1.17 -2.86 -1.17 Q-3.22 -1.17 -3.585 -1.045 Q-3.95 -0.92 -4.18 -0.66 L-4.2 -0.68 L-3.82 -2.72 Z\"\n",
       "    /></g\n",
       "    ><g transform=\"translate(69,83.7152)\" style=\"font-size:10px; fill:rgb(38,38,38); text-rendering:geometricPrecision; image-rendering:optimizeQuality; color-rendering:optimizeQuality; font-family:'Helvetica Neue'; stroke:rgb(38,38,38); color-interpolation:linearRGB;\"\n",
       "    ><path style=\"stroke:none;\" d=\"M-2.44 3.5 L-2.44 -3.59 L-3.09 -3.59 Q-3.16 -3.19 -3.35 -2.93 Q-3.54 -2.67 -3.815 -2.52 Q-4.09 -2.37 -4.43 -2.315 Q-4.77 -2.26 -5.13 -2.26 L-5.13 -1.58 L-3.29 -1.58 L-3.29 3.5 Z\"\n",
       "    /></g\n",
       "    ><g transform=\"translate(22,25)\" style=\"font-size:11px; text-rendering:geometricPrecision; image-rendering:optimizeQuality; color-rendering:optimizeQuality; font-family:'Helvetica Neue'; color-interpolation:linearRGB; font-weight:bold;\"\n",
       "    ><path style=\"stroke:none;\" d=\"M3.333 -8.041 L2.024 -8.041 Q1.661 -7.513 1.3915 -6.886 Q1.122 -6.259 0.9405 -5.588 Q0.759 -4.917 0.6655 -4.2405 Q0.572 -3.564 0.572 -2.948 Q0.572 -1.65 0.9515 -0.396 Q1.331 0.858 2.024 1.991 L3.322 1.991 Q2.695 0.792 2.4145 -0.473 Q2.134 -1.738 2.134 -3.058 Q2.134 -4.356 2.42 -5.6155 Q2.706 -6.875 3.333 -8.041 Z\"\n",
       "    /></g\n",
       "    ><g transform=\"translate(26,25)\" style=\"font-size:11px; text-rendering:geometricPrecision; image-rendering:optimizeQuality; color-rendering:optimizeQuality; font-family:'Helvetica Neue'; color-interpolation:linearRGB; font-weight:bold;\"\n",
       "    ><path style=\"stroke:none;\" d=\"M1.804 -1.848 L0.319 -1.848 Q0.341 -1.276 0.5775 -0.8965 Q0.814 -0.517 1.1825 -0.286 Q1.551 -0.055 2.024 0.044 Q2.497 0.143 2.992 0.143 Q3.476 0.143 3.9435 0.0495 Q4.411 -0.044 4.774 -0.275 Q5.137 -0.506 5.3625 -0.8855 Q5.588 -1.265 5.588 -1.826 Q5.588 -2.222 5.434 -2.4915 Q5.28 -2.761 5.027 -2.9425 Q4.774 -3.124 4.4495 -3.234 Q4.125 -3.344 3.784 -3.421 Q3.454 -3.498 3.135 -3.564 Q2.816 -3.63 2.5685 -3.7125 Q2.321 -3.795 2.167 -3.927 Q2.013 -4.059 2.013 -4.268 Q2.013 -4.444 2.101 -4.5485 Q2.189 -4.653 2.3155 -4.708 Q2.442 -4.763 2.596 -4.7795 Q2.75 -4.796 2.882 -4.796 Q3.3 -4.796 3.608 -4.6365 Q3.916 -4.477 3.949 -4.026 L5.434 -4.026 Q5.39 -4.554 5.1645 -4.9005 Q4.939 -5.247 4.598 -5.456 Q4.257 -5.665 3.8225 -5.753 Q3.388 -5.841 2.926 -5.841 Q2.464 -5.841 2.024 -5.7585 Q1.584 -5.676 1.232 -5.4725 Q0.88 -5.269 0.6655 -4.917 Q0.451 -4.565 0.451 -4.015 Q0.451 -3.641 0.605 -3.3825 Q0.759 -3.124 1.012 -2.9535 Q1.265 -2.783 1.5895 -2.6785 Q1.914 -2.574 2.255 -2.497 Q3.091 -2.321 3.5585 -2.145 Q4.026 -1.969 4.026 -1.617 Q4.026 -1.408 3.927 -1.2705 Q3.828 -1.133 3.6795 -1.0505 Q3.531 -0.968 3.3495 -0.9295 Q3.168 -0.891 3.003 -0.891 Q2.772 -0.891 2.5575 -0.946 Q2.343 -1.001 2.178 -1.1165 Q2.013 -1.232 1.9085 -1.4135 Q1.804 -1.595 1.804 -1.848 ZM8.107 -6.567 L8.107 -7.854 L6.545 -7.854 L6.545 -6.567 ZM6.545 -5.687 L6.545 0 L8.107 0 L8.107 -5.687 ZM9.339 -5.687 L9.339 0 L10.901 0 L10.901 -2.981 Q10.901 -3.85 11.187 -4.2295 Q11.473 -4.609 12.111 -4.609 Q12.672 -4.609 12.892 -4.2625 Q13.112 -3.916 13.112 -3.212 L13.112 0 L14.674 0 L14.674 -3.498 Q14.674 -4.026 14.5805 -4.4605 Q14.487 -4.895 14.256 -5.1975 Q14.025 -5.5 13.6235 -5.6705 Q13.222 -5.841 12.595 -5.841 Q12.1 -5.841 11.627 -5.6155 Q11.154 -5.39 10.857 -4.895 L10.824 -4.895 L10.824 -5.687 Z\"\n",
       "    /></g\n",
       "    ><g transform=\"translate(42,25)\" style=\"font-size:11px; text-rendering:geometricPrecision; image-rendering:optimizeQuality; color-rendering:optimizeQuality; font-family:'Helvetica Neue'; color-interpolation:linearRGB; font-weight:bold;\"\n",
       "    ><path style=\"stroke:none;\" d=\"M3.333 -8.041 L2.024 -8.041 Q1.661 -7.513 1.3915 -6.886 Q1.122 -6.259 0.9405 -5.588 Q0.759 -4.917 0.6655 -4.2405 Q0.572 -3.564 0.572 -2.948 Q0.572 -1.65 0.9515 -0.396 Q1.331 0.858 2.024 1.991 L3.322 1.991 Q2.695 0.792 2.4145 -0.473 Q2.134 -1.738 2.134 -3.058 Q2.134 -4.356 2.42 -5.6155 Q2.706 -6.875 3.333 -8.041 Z\"\n",
       "    /></g\n",
       "    ><g transform=\"translate(46,25)\" style=\"font-size:11px; text-rendering:geometricPrecision; image-rendering:optimizeQuality; color-rendering:optimizeQuality; font-family:'Helvetica Neue'; color-interpolation:linearRGB; font-weight:bold;\"\n",
       "    ><path style=\"stroke:none;\" d=\"M2.574 -5.687 L2.574 -7.392 L1.012 -7.392 L1.012 -5.687 L0.066 -5.687 L0.066 -4.642 L1.012 -4.642 L1.012 -1.287 Q1.012 -0.858 1.155 -0.594 Q1.298 -0.33 1.5455 -0.187 Q1.793 -0.044 2.1175 0.0055 Q2.442 0.055 2.805 0.055 Q3.036 0.055 3.278 0.044 Q3.52 0.033 3.718 0 L3.718 -1.21 Q3.608 -1.188 3.487 -1.177 Q3.366 -1.166 3.234 -1.166 Q2.838 -1.166 2.706 -1.298 Q2.574 -1.43 2.574 -1.826 L2.574 -4.642 L3.718 -4.642 L3.718 -5.687 Z\"\n",
       "    /></g\n",
       "    ><g transform=\"translate(50,25)\" style=\"font-size:11px; text-rendering:geometricPrecision; image-rendering:optimizeQuality; color-rendering:optimizeQuality; font-family:'Helvetica Neue'; color-interpolation:linearRGB; font-weight:bold;\"\n",
       "    ><path style=\"stroke:none;\" d=\"M-0.066 1.991 L1.232 1.991 Q1.595 1.474 1.87 0.847 Q2.145 0.22 2.3265 -0.4455 Q2.508 -1.111 2.596 -1.7875 Q2.684 -2.464 2.684 -3.08 Q2.684 -4.378 2.3045 -5.643 Q1.925 -6.908 1.232 -8.041 L-0.055 -8.041 Q0.55 -6.842 0.836 -5.566 Q1.122 -4.29 1.122 -2.97 Q1.122 -1.672 0.8305 -0.4235 Q0.539 0.825 -0.066 1.991 ZM9.647 -8.041 L8.338 -8.041 Q7.975 -7.513 7.7055 -6.886 Q7.436 -6.259 7.2545 -5.588 Q7.073 -4.917 6.9795 -4.2405 Q6.886 -3.564 6.886 -2.948 Q6.886 -1.65 7.2655 -0.396 Q7.645 0.858 8.338 1.991 L9.636 1.991 Q9.009 0.792 8.7285 -0.473 Q8.448 -1.738 8.448 -3.058 Q8.448 -4.356 8.734 -5.6155 Q9.02 -6.875 9.647 -8.041 ZM12.903 -8.041 L11.594 -8.041 Q11.231 -7.513 10.9615 -6.886 Q10.692 -6.259 10.5105 -5.588 Q10.329 -4.917 10.2355 -4.2405 Q10.142 -3.564 10.142 -2.948 Q10.142 -1.65 10.5215 -0.396 Q10.901 0.858 11.594 1.991 L12.892 1.991 Q12.265 0.792 11.9845 -0.473 Q11.704 -1.738 11.704 -3.058 Q11.704 -4.356 11.99 -5.6155 Q12.276 -6.875 12.903 -8.041 Z\"\n",
       "    /></g\n",
       "    ><g transform=\"translate(63,25)\" style=\"font-size:11px; text-rendering:geometricPrecision; image-rendering:optimizeQuality; color-rendering:optimizeQuality; font-family:'Helvetica Neue'; color-interpolation:linearRGB; font-weight:bold;\"\n",
       "    ><path style=\"stroke:none;\" d=\"M0.407 -4.741 L1.903 -4.741 Q1.903 -5.049 1.9635 -5.3625 Q2.024 -5.676 2.167 -5.9345 Q2.31 -6.193 2.5465 -6.3525 Q2.783 -6.512 3.124 -6.512 Q3.63 -6.512 3.9545 -6.1985 Q4.279 -5.885 4.279 -5.324 Q4.279 -4.972 4.1195 -4.697 Q3.96 -4.422 3.7235 -4.202 Q3.487 -3.982 3.201 -3.8005 Q2.915 -3.619 2.662 -3.443 Q2.167 -3.102 1.7215 -2.772 Q1.276 -2.442 0.946 -2.0515 Q0.616 -1.661 0.4235 -1.166 Q0.231 -0.671 0.231 0 L5.885 0 L5.885 -1.342 L2.244 -1.342 Q2.53 -1.738 2.904 -2.035 Q3.278 -2.332 3.674 -2.5905 Q4.07 -2.849 4.4605 -3.113 Q4.851 -3.377 5.159 -3.7015 Q5.467 -4.026 5.654 -4.444 Q5.841 -4.862 5.841 -5.445 Q5.841 -6.006 5.6265 -6.457 Q5.412 -6.908 5.049 -7.216 Q4.686 -7.524 4.2075 -7.689 Q3.729 -7.854 3.201 -7.854 Q2.508 -7.854 1.9745 -7.6175 Q1.441 -7.381 1.089 -6.9575 Q0.737 -6.534 0.561 -5.9675 Q0.385 -5.401 0.407 -4.741 Z\"\n",
       "    /></g\n",
       "    ><g transform=\"translate(74,25)\" style=\"font-size:11px; text-rendering:geometricPrecision; image-rendering:optimizeQuality; color-rendering:optimizeQuality; font-family:'Helvetica Neue'; color-interpolation:linearRGB; font-weight:bold;\"\n",
       "    ><path style=\"stroke:none;\" d=\"M4.466 -3.685 L5.995 -3.685 Q5.962 -4.235 5.731 -4.6365 Q5.5 -5.038 5.1315 -5.3075 Q4.763 -5.577 4.2955 -5.709 Q3.828 -5.841 3.322 -5.841 Q2.629 -5.841 2.09 -5.61 Q1.551 -5.379 1.177 -4.9665 Q0.803 -4.554 0.6105 -3.9875 Q0.418 -3.421 0.418 -2.761 Q0.418 -2.123 0.627 -1.5895 Q0.836 -1.056 1.21 -0.671 Q1.584 -0.286 2.1175 -0.0715 Q2.651 0.143 3.289 0.143 Q4.422 0.143 5.148 -0.451 Q5.874 -1.045 6.028 -2.178 L4.521 -2.178 Q4.444 -1.65 4.1415 -1.3365 Q3.839 -1.023 3.278 -1.023 Q2.915 -1.023 2.662 -1.188 Q2.409 -1.353 2.2605 -1.6115 Q2.112 -1.87 2.046 -2.189 Q1.98 -2.508 1.98 -2.816 Q1.98 -3.135 2.046 -3.4595 Q2.112 -3.784 2.2715 -4.0535 Q2.431 -4.323 2.684 -4.4935 Q2.937 -4.664 3.311 -4.664 Q4.312 -4.664 4.466 -3.685 ZM8.294 -2.838 Q8.294 -3.179 8.36 -3.509 Q8.426 -3.839 8.5855 -4.092 Q8.745 -4.345 9.009 -4.5045 Q9.273 -4.664 9.669 -4.664 Q10.065 -4.664 10.3345 -4.5045 Q10.604 -4.345 10.7635 -4.092 Q10.923 -3.839 10.989 -3.509 Q11.055 -3.179 11.055 -2.838 Q11.055 -2.497 10.989 -2.1725 Q10.923 -1.848 10.7635 -1.5895 Q10.604 -1.331 10.3345 -1.177 Q10.065 -1.023 9.669 -1.023 Q9.273 -1.023 9.009 -1.177 Q8.745 -1.331 8.5855 -1.5895 Q8.426 -1.848 8.36 -2.1725 Q8.294 -2.497 8.294 -2.838 ZM6.732 -2.838 Q6.732 -2.156 6.941 -1.606 Q7.15 -1.056 7.535 -0.6655 Q7.92 -0.275 8.459 -0.066 Q8.998 0.143 9.669 0.143 Q10.34 0.143 10.8845 -0.066 Q11.429 -0.275 11.814 -0.6655 Q12.199 -1.056 12.408 -1.606 Q12.617 -2.156 12.617 -2.838 Q12.617 -3.52 12.408 -4.0755 Q12.199 -4.631 11.814 -5.0215 Q11.429 -5.412 10.8845 -5.6265 Q10.34 -5.841 9.669 -5.841 Q8.998 -5.841 8.459 -5.6265 Q7.92 -5.412 7.535 -5.0215 Q7.15 -4.631 6.941 -4.0755 Q6.732 -3.52 6.732 -2.838 ZM14.839 -1.848 L13.354 -1.848 Q13.376 -1.276 13.6125 -0.8965 Q13.849 -0.517 14.2175 -0.286 Q14.586 -0.055 15.059 0.044 Q15.532 0.143 16.027 0.143 Q16.511 0.143 16.9785 0.0495 Q17.446 -0.044 17.809 -0.275 Q18.172 -0.506 18.3975 -0.8855 Q18.623 -1.265 18.623 -1.826 Q18.623 -2.222 18.469 -2.4915 Q18.315 -2.761 18.062 -2.9425 Q17.809 -3.124 17.4845 -3.234 Q17.16 -3.344 16.819 -3.421 Q16.489 -3.498 16.17 -3.564 Q15.851 -3.63 15.6035 -3.7125 Q15.356 -3.795 15.202 -3.927 Q15.048 -4.059 15.048 -4.268 Q15.048 -4.444 15.136 -4.5485 Q15.224 -4.653 15.3505 -4.708 Q15.477 -4.763 15.631 -4.7795 Q15.785 -4.796 15.917 -4.796 Q16.335 -4.796 16.643 -4.6365 Q16.951 -4.477 16.984 -4.026 L18.469 -4.026 Q18.425 -4.554 18.1995 -4.9005 Q17.974 -5.247 17.633 -5.456 Q17.292 -5.665 16.8575 -5.753 Q16.423 -5.841 15.961 -5.841 Q15.499 -5.841 15.059 -5.7585 Q14.619 -5.676 14.267 -5.4725 Q13.915 -5.269 13.7005 -4.917 Q13.486 -4.565 13.486 -4.015 Q13.486 -3.641 13.64 -3.3825 Q13.794 -3.124 14.047 -2.9535 Q14.3 -2.783 14.6245 -2.6785 Q14.949 -2.574 15.29 -2.497 Q16.126 -2.321 16.5935 -2.145 Q17.061 -1.969 17.061 -1.617 Q17.061 -1.408 16.962 -1.2705 Q16.863 -1.133 16.7145 -1.0505 Q16.566 -0.968 16.3845 -0.9295 Q16.203 -0.891 16.038 -0.891 Q15.807 -0.891 15.5925 -0.946 Q15.378 -1.001 15.213 -1.1165 Q15.048 -1.232 14.9435 -1.4135 Q14.839 -1.595 14.839 -1.848 Z\"\n",
       "    /></g\n",
       "    ><g transform=\"translate(93,25)\" style=\"font-size:11px; text-rendering:geometricPrecision; image-rendering:optimizeQuality; color-rendering:optimizeQuality; font-family:'Helvetica Neue'; color-interpolation:linearRGB; font-weight:bold;\"\n",
       "    ><path style=\"stroke:none;\" d=\"M3.333 -8.041 L2.024 -8.041 Q1.661 -7.513 1.3915 -6.886 Q1.122 -6.259 0.9405 -5.588 Q0.759 -4.917 0.6655 -4.2405 Q0.572 -3.564 0.572 -2.948 Q0.572 -1.65 0.9515 -0.396 Q1.331 0.858 2.024 1.991 L3.322 1.991 Q2.695 0.792 2.4145 -0.473 Q2.134 -1.738 2.134 -3.058 Q2.134 -4.356 2.42 -5.6155 Q2.706 -6.875 3.333 -8.041 Z\"\n",
       "    /></g\n",
       "    ><g transform=\"translate(97,25)\" style=\"font-size:11px; text-rendering:geometricPrecision; image-rendering:optimizeQuality; color-rendering:optimizeQuality; font-family:'mwb_cmmi10'; color-interpolation:linearRGB; font-weight:bold;\"\n",
       "    ><path style=\"stroke:none;\" d=\"M1.1094 -0.1875 Q1.1094 -0.25 1.1562 -0.3594 Q1.4688 -1 1.7344 -1.6172 Q2 -2.2344 2.2109 -2.8203 Q2.4219 -3.4062 2.5938 -4.0625 L1.8906 -4.0625 Q1.8906 -4.0625 1.8438 -3.8125 Q1.7969 -3.5625 1.5625 -3.1719 Q1.5312 -3.125 0.5 -3.125 L0.3594 -3.125 Q0.2656 -3.125 0.2656 -3.2344 Q0.2656 -3.25 0.2812 -3.2969 Q0.6406 -3.9062 1.0547 -4.3281 Q1.4688 -4.75 1.9844 -4.75 L5.9688 -4.75 Q7.0781 -4.75 7.1641 -4.6719 Q7.25 -4.5938 7.25 -4.4688 Q7.25 -4.2969 7.1328 -4.1797 Q7.0156 -4.0625 5.8594 -4.0625 L5.4531 -4.0625 Q5.2812 -3.2031 5.2656 -2.375 Q5.2656 -1.3125 5.625 -0.4688 Q5.6562 -0.3906 5.6562 -0.3281 Q5.6562 -0.2031 5.5859 -0.1016 Q5.5156 0 5.4062 0.0625 Q5.2969 0.125 4.1719 0.125 Q3.8906 0.125 3.7812 -0.3516 Q3.6719 -0.8281 3.6719 -1.2656 Q3.6719 -1.8906 3.7812 -2.4766 Q3.8906 -3.0625 4.125 -4.0625 L3.9219 -4.0625 Q3.0625 -0.5312 2.875 -0.1719 Q2.7188 0.125 1.4531 0.125 Q1.3125 0.125 1.2109 0.0391 Q1.1094 -0.0469 1.1094 -0.1875 Z\"\n",
       "    /></g\n",
       "    ><g transform=\"translate(104,25)\" style=\"font-size:11px; text-rendering:geometricPrecision; image-rendering:optimizeQuality; color-rendering:optimizeQuality; font-family:'Helvetica Neue'; color-interpolation:linearRGB; font-weight:bold;\"\n",
       "    ><path style=\"stroke:none;\" d=\"M-0.066 1.991 L1.232 1.991 Q1.595 1.474 1.87 0.847 Q2.145 0.22 2.3265 -0.4455 Q2.508 -1.111 2.596 -1.7875 Q2.684 -2.464 2.684 -3.08 Q2.684 -4.378 2.3045 -5.643 Q1.925 -6.908 1.232 -8.041 L-0.055 -8.041 Q0.55 -6.842 0.836 -5.566 Q1.122 -4.29 1.122 -2.97 Q1.122 -1.672 0.8305 -0.4235 Q0.539 0.825 -0.066 1.991 ZM10.208 -3.366 L10.208 -5.555 L9.031 -5.555 L9.031 -3.366 L6.842 -3.366 L6.842 -2.189 L9.031 -2.189 L9.031 0 L10.208 0 L10.208 -2.189 L12.397 -2.189 L12.397 -3.366 Z\"\n",
       "    /></g\n",
       "    ><g transform=\"translate(120,25)\" style=\"font-size:11px; text-rendering:geometricPrecision; image-rendering:optimizeQuality; color-rendering:optimizeQuality; font-family:'Helvetica Neue'; color-interpolation:linearRGB; font-weight:bold;\"\n",
       "    ><path style=\"stroke:none;\" d=\"M4.312 0 L4.312 -7.7 L3.069 -7.7 Q3.003 -7.26 2.794 -6.963 Q2.585 -6.666 2.2825 -6.4845 Q1.98 -6.303 1.6005 -6.2315 Q1.221 -6.16 0.814 -6.171 L0.814 -4.994 L2.75 -4.994 L2.75 0 Z\"\n",
       "    /></g\n",
       "    ><g transform=\"translate(127,25)\" style=\"font-size:11px; text-rendering:geometricPrecision; image-rendering:optimizeQuality; color-rendering:optimizeQuality; font-family:'Helvetica Neue'; color-interpolation:linearRGB; font-weight:bold;\"\n",
       "    ><path style=\"stroke:none;\" d=\"M-0.066 1.991 L1.232 1.991 Q1.595 1.474 1.87 0.847 Q2.145 0.22 2.3265 -0.4455 Q2.508 -1.111 2.596 -1.7875 Q2.684 -2.464 2.684 -3.08 Q2.684 -4.378 2.3045 -5.643 Q1.925 -6.908 1.232 -8.041 L-0.055 -8.041 Q0.55 -6.842 0.836 -5.566 Q1.122 -4.29 1.122 -2.97 Q1.122 -1.672 0.8305 -0.4235 Q0.539 0.825 -0.066 1.991 ZM9.647 -8.041 L8.338 -8.041 Q7.975 -7.513 7.7055 -6.886 Q7.436 -6.259 7.2545 -5.588 Q7.073 -4.917 6.9795 -4.2405 Q6.886 -3.564 6.886 -2.948 Q6.886 -1.65 7.2655 -0.396 Q7.645 0.858 8.338 1.991 L9.636 1.991 Q9.009 0.792 8.7285 -0.473 Q8.448 -1.738 8.448 -3.058 Q8.448 -4.356 8.734 -5.6155 Q9.02 -6.875 9.647 -8.041 Z\"\n",
       "    /></g\n",
       "    ><g transform=\"translate(137,25)\" style=\"font-size:11px; text-rendering:geometricPrecision; image-rendering:optimizeQuality; color-rendering:optimizeQuality; font-family:'Helvetica Neue'; color-interpolation:linearRGB; font-weight:bold;\"\n",
       "    ><path style=\"stroke:none;\" d=\"M4.466 -3.685 L5.995 -3.685 Q5.962 -4.235 5.731 -4.6365 Q5.5 -5.038 5.1315 -5.3075 Q4.763 -5.577 4.2955 -5.709 Q3.828 -5.841 3.322 -5.841 Q2.629 -5.841 2.09 -5.61 Q1.551 -5.379 1.177 -4.9665 Q0.803 -4.554 0.6105 -3.9875 Q0.418 -3.421 0.418 -2.761 Q0.418 -2.123 0.627 -1.5895 Q0.836 -1.056 1.21 -0.671 Q1.584 -0.286 2.1175 -0.0715 Q2.651 0.143 3.289 0.143 Q4.422 0.143 5.148 -0.451 Q5.874 -1.045 6.028 -2.178 L4.521 -2.178 Q4.444 -1.65 4.1415 -1.3365 Q3.839 -1.023 3.278 -1.023 Q2.915 -1.023 2.662 -1.188 Q2.409 -1.353 2.2605 -1.6115 Q2.112 -1.87 2.046 -2.189 Q1.98 -2.508 1.98 -2.816 Q1.98 -3.135 2.046 -3.4595 Q2.112 -3.784 2.2715 -4.0535 Q2.431 -4.323 2.684 -4.4935 Q2.937 -4.664 3.311 -4.664 Q4.312 -4.664 4.466 -3.685 ZM8.294 -2.838 Q8.294 -3.179 8.36 -3.509 Q8.426 -3.839 8.5855 -4.092 Q8.745 -4.345 9.009 -4.5045 Q9.273 -4.664 9.669 -4.664 Q10.065 -4.664 10.3345 -4.5045 Q10.604 -4.345 10.7635 -4.092 Q10.923 -3.839 10.989 -3.509 Q11.055 -3.179 11.055 -2.838 Q11.055 -2.497 10.989 -2.1725 Q10.923 -1.848 10.7635 -1.5895 Q10.604 -1.331 10.3345 -1.177 Q10.065 -1.023 9.669 -1.023 Q9.273 -1.023 9.009 -1.177 Q8.745 -1.331 8.5855 -1.5895 Q8.426 -1.848 8.36 -2.1725 Q8.294 -2.497 8.294 -2.838 ZM6.732 -2.838 Q6.732 -2.156 6.941 -1.606 Q7.15 -1.056 7.535 -0.6655 Q7.92 -0.275 8.459 -0.066 Q8.998 0.143 9.669 0.143 Q10.34 0.143 10.8845 -0.066 Q11.429 -0.275 11.814 -0.6655 Q12.199 -1.056 12.408 -1.606 Q12.617 -2.156 12.617 -2.838 Q12.617 -3.52 12.408 -4.0755 Q12.199 -4.631 11.814 -5.0215 Q11.429 -5.412 10.8845 -5.6265 Q10.34 -5.841 9.669 -5.841 Q8.998 -5.841 8.459 -5.6265 Q7.92 -5.412 7.535 -5.0215 Q7.15 -4.631 6.941 -4.0755 Q6.732 -3.52 6.732 -2.838 ZM14.839 -1.848 L13.354 -1.848 Q13.376 -1.276 13.6125 -0.8965 Q13.849 -0.517 14.2175 -0.286 Q14.586 -0.055 15.059 0.044 Q15.532 0.143 16.027 0.143 Q16.511 0.143 16.9785 0.0495 Q17.446 -0.044 17.809 -0.275 Q18.172 -0.506 18.3975 -0.8855 Q18.623 -1.265 18.623 -1.826 Q18.623 -2.222 18.469 -2.4915 Q18.315 -2.761 18.062 -2.9425 Q17.809 -3.124 17.4845 -3.234 Q17.16 -3.344 16.819 -3.421 Q16.489 -3.498 16.17 -3.564 Q15.851 -3.63 15.6035 -3.7125 Q15.356 -3.795 15.202 -3.927 Q15.048 -4.059 15.048 -4.268 Q15.048 -4.444 15.136 -4.5485 Q15.224 -4.653 15.3505 -4.708 Q15.477 -4.763 15.631 -4.7795 Q15.785 -4.796 15.917 -4.796 Q16.335 -4.796 16.643 -4.6365 Q16.951 -4.477 16.984 -4.026 L18.469 -4.026 Q18.425 -4.554 18.1995 -4.9005 Q17.974 -5.247 17.633 -5.456 Q17.292 -5.665 16.8575 -5.753 Q16.423 -5.841 15.961 -5.841 Q15.499 -5.841 15.059 -5.7585 Q14.619 -5.676 14.267 -5.4725 Q13.915 -5.269 13.7005 -4.917 Q13.486 -4.565 13.486 -4.015 Q13.486 -3.641 13.64 -3.3825 Q13.794 -3.124 14.047 -2.9535 Q14.3 -2.783 14.6245 -2.6785 Q14.949 -2.574 15.29 -2.497 Q16.126 -2.321 16.5935 -2.145 Q17.061 -1.969 17.061 -1.617 Q17.061 -1.408 16.962 -1.2705 Q16.863 -1.133 16.7145 -1.0505 Q16.566 -0.968 16.3845 -0.9295 Q16.203 -0.891 16.038 -0.891 Q15.807 -0.891 15.5925 -0.946 Q15.378 -1.001 15.213 -1.1165 Q15.048 -1.232 14.9435 -1.4135 Q14.839 -1.595 14.839 -1.848 Z\"\n",
       "    /></g\n",
       "    ><g transform=\"translate(156,25)\" style=\"font-size:11px; text-rendering:geometricPrecision; image-rendering:optimizeQuality; color-rendering:optimizeQuality; font-family:'Helvetica Neue'; color-interpolation:linearRGB; font-weight:bold;\"\n",
       "    ><path style=\"stroke:none;\" d=\"M3.333 -8.041 L2.024 -8.041 Q1.661 -7.513 1.3915 -6.886 Q1.122 -6.259 0.9405 -5.588 Q0.759 -4.917 0.6655 -4.2405 Q0.572 -3.564 0.572 -2.948 Q0.572 -1.65 0.9515 -0.396 Q1.331 0.858 2.024 1.991 L3.322 1.991 Q2.695 0.792 2.4145 -0.473 Q2.134 -1.738 2.134 -3.058 Q2.134 -4.356 2.42 -5.6155 Q2.706 -6.875 3.333 -8.041 Z\"\n",
       "    /></g\n",
       "    ><g transform=\"translate(160,25)\" style=\"font-size:11px; text-rendering:geometricPrecision; image-rendering:optimizeQuality; color-rendering:optimizeQuality; font-family:'mwb_cmmi10'; color-interpolation:linearRGB; font-weight:bold;\"\n",
       "    ><path style=\"stroke:none;\" d=\"M1.1094 -0.1875 Q1.1094 -0.25 1.1562 -0.3594 Q1.4688 -1 1.7344 -1.6172 Q2 -2.2344 2.2109 -2.8203 Q2.4219 -3.4062 2.5938 -4.0625 L1.8906 -4.0625 Q1.8906 -4.0625 1.8438 -3.8125 Q1.7969 -3.5625 1.5625 -3.1719 Q1.5312 -3.125 0.5 -3.125 L0.3594 -3.125 Q0.2656 -3.125 0.2656 -3.2344 Q0.2656 -3.25 0.2812 -3.2969 Q0.6406 -3.9062 1.0547 -4.3281 Q1.4688 -4.75 1.9844 -4.75 L5.9688 -4.75 Q7.0781 -4.75 7.1641 -4.6719 Q7.25 -4.5938 7.25 -4.4688 Q7.25 -4.2969 7.1328 -4.1797 Q7.0156 -4.0625 5.8594 -4.0625 L5.4531 -4.0625 Q5.2812 -3.2031 5.2656 -2.375 Q5.2656 -1.3125 5.625 -0.4688 Q5.6562 -0.3906 5.6562 -0.3281 Q5.6562 -0.2031 5.5859 -0.1016 Q5.5156 0 5.4062 0.0625 Q5.2969 0.125 4.1719 0.125 Q3.8906 0.125 3.7812 -0.3516 Q3.6719 -0.8281 3.6719 -1.2656 Q3.6719 -1.8906 3.7812 -2.4766 Q3.8906 -3.0625 4.125 -4.0625 L3.9219 -4.0625 Q3.0625 -0.5312 2.875 -0.1719 Q2.7188 0.125 1.4531 0.125 Q1.3125 0.125 1.2109 0.0391 Q1.1094 -0.0469 1.1094 -0.1875 Z\"\n",
       "    /></g\n",
       "    ><g transform=\"translate(167,25)\" style=\"font-size:11px; text-rendering:geometricPrecision; image-rendering:optimizeQuality; color-rendering:optimizeQuality; font-family:'Helvetica Neue'; color-interpolation:linearRGB; font-weight:bold;\"\n",
       "    ><path style=\"stroke:none;\" d=\"M-0.066 1.991 L1.232 1.991 Q1.595 1.474 1.87 0.847 Q2.145 0.22 2.3265 -0.4455 Q2.508 -1.111 2.596 -1.7875 Q2.684 -2.464 2.684 -3.08 Q2.684 -4.378 2.3045 -5.643 Q1.925 -6.908 1.232 -8.041 L-0.055 -8.041 Q0.55 -6.842 0.836 -5.566 Q1.122 -4.29 1.122 -2.97 Q1.122 -1.672 0.8305 -0.4235 Q0.539 0.825 -0.066 1.991 ZM6.897 -3.674 L6.897 -2.332 L10.208 -2.332 L10.208 -3.674 Z\"\n",
       "    /></g\n",
       "    ><g transform=\"translate(181,25)\" style=\"font-size:11px; text-rendering:geometricPrecision; image-rendering:optimizeQuality; color-rendering:optimizeQuality; font-family:'Helvetica Neue'; color-interpolation:linearRGB; font-weight:bold;\"\n",
       "    ><path style=\"stroke:none;\" d=\"M4.312 0 L4.312 -7.7 L3.069 -7.7 Q3.003 -7.26 2.794 -6.963 Q2.585 -6.666 2.2825 -6.4845 Q1.98 -6.303 1.6005 -6.2315 Q1.221 -6.16 0.814 -6.171 L0.814 -4.994 L2.75 -4.994 L2.75 0 Z\"\n",
       "    /></g\n",
       "    ><g transform=\"translate(188,25)\" style=\"font-size:11px; text-rendering:geometricPrecision; image-rendering:optimizeQuality; color-rendering:optimizeQuality; font-family:'Helvetica Neue'; color-interpolation:linearRGB; font-weight:bold;\"\n",
       "    ><path style=\"stroke:none;\" d=\"M-0.066 1.991 L1.232 1.991 Q1.595 1.474 1.87 0.847 Q2.145 0.22 2.3265 -0.4455 Q2.508 -1.111 2.596 -1.7875 Q2.684 -2.464 2.684 -3.08 Q2.684 -4.378 2.3045 -5.643 Q1.925 -6.908 1.232 -8.041 L-0.055 -8.041 Q0.55 -6.842 0.836 -5.566 Q1.122 -4.29 1.122 -2.97 Q1.122 -1.672 0.8305 -0.4235 Q0.539 0.825 -0.066 1.991 ZM6.897 -3.674 L6.897 -2.332 L10.208 -2.332 L10.208 -3.674 Z\"\n",
       "    /></g\n",
       "    ><g transform=\"translate(202,25)\" style=\"font-size:11px; text-rendering:geometricPrecision; image-rendering:optimizeQuality; color-rendering:optimizeQuality; font-family:'Helvetica Neue'; color-interpolation:linearRGB; font-weight:bold;\"\n",
       "    ><path style=\"stroke:none;\" d=\"M4.312 0 L4.312 -7.7 L3.069 -7.7 Q3.003 -7.26 2.794 -6.963 Q2.585 -6.666 2.2825 -6.4845 Q1.98 -6.303 1.6005 -6.2315 Q1.221 -6.16 0.814 -6.171 L0.814 -4.994 L2.75 -4.994 L2.75 0 Z\"\n",
       "    /></g\n",
       "    ><g transform=\"translate(213,25)\" style=\"font-size:11px; text-rendering:geometricPrecision; image-rendering:optimizeQuality; color-rendering:optimizeQuality; font-family:'Helvetica Neue'; color-interpolation:linearRGB; font-weight:bold;\"\n",
       "    ><path style=\"stroke:none;\" d=\"M4.466 -3.685 L5.995 -3.685 Q5.962 -4.235 5.731 -4.6365 Q5.5 -5.038 5.1315 -5.3075 Q4.763 -5.577 4.2955 -5.709 Q3.828 -5.841 3.322 -5.841 Q2.629 -5.841 2.09 -5.61 Q1.551 -5.379 1.177 -4.9665 Q0.803 -4.554 0.6105 -3.9875 Q0.418 -3.421 0.418 -2.761 Q0.418 -2.123 0.627 -1.5895 Q0.836 -1.056 1.21 -0.671 Q1.584 -0.286 2.1175 -0.0715 Q2.651 0.143 3.289 0.143 Q4.422 0.143 5.148 -0.451 Q5.874 -1.045 6.028 -2.178 L4.521 -2.178 Q4.444 -1.65 4.1415 -1.3365 Q3.839 -1.023 3.278 -1.023 Q2.915 -1.023 2.662 -1.188 Q2.409 -1.353 2.2605 -1.6115 Q2.112 -1.87 2.046 -2.189 Q1.98 -2.508 1.98 -2.816 Q1.98 -3.135 2.046 -3.4595 Q2.112 -3.784 2.2715 -4.0535 Q2.431 -4.323 2.684 -4.4935 Q2.937 -4.664 3.311 -4.664 Q4.312 -4.664 4.466 -3.685 ZM8.294 -2.838 Q8.294 -3.179 8.36 -3.509 Q8.426 -3.839 8.5855 -4.092 Q8.745 -4.345 9.009 -4.5045 Q9.273 -4.664 9.669 -4.664 Q10.065 -4.664 10.3345 -4.5045 Q10.604 -4.345 10.7635 -4.092 Q10.923 -3.839 10.989 -3.509 Q11.055 -3.179 11.055 -2.838 Q11.055 -2.497 10.989 -2.1725 Q10.923 -1.848 10.7635 -1.5895 Q10.604 -1.331 10.3345 -1.177 Q10.065 -1.023 9.669 -1.023 Q9.273 -1.023 9.009 -1.177 Q8.745 -1.331 8.5855 -1.5895 Q8.426 -1.848 8.36 -2.1725 Q8.294 -2.497 8.294 -2.838 ZM6.732 -2.838 Q6.732 -2.156 6.941 -1.606 Q7.15 -1.056 7.535 -0.6655 Q7.92 -0.275 8.459 -0.066 Q8.998 0.143 9.669 0.143 Q10.34 0.143 10.8845 -0.066 Q11.429 -0.275 11.814 -0.6655 Q12.199 -1.056 12.408 -1.606 Q12.617 -2.156 12.617 -2.838 Q12.617 -3.52 12.408 -4.0755 Q12.199 -4.631 11.814 -5.0215 Q11.429 -5.412 10.8845 -5.6265 Q10.34 -5.841 9.669 -5.841 Q8.998 -5.841 8.459 -5.6265 Q7.92 -5.412 7.535 -5.0215 Q7.15 -4.631 6.941 -4.0755 Q6.732 -3.52 6.732 -2.838 ZM14.839 -1.848 L13.354 -1.848 Q13.376 -1.276 13.6125 -0.8965 Q13.849 -0.517 14.2175 -0.286 Q14.586 -0.055 15.059 0.044 Q15.532 0.143 16.027 0.143 Q16.511 0.143 16.9785 0.0495 Q17.446 -0.044 17.809 -0.275 Q18.172 -0.506 18.3975 -0.8855 Q18.623 -1.265 18.623 -1.826 Q18.623 -2.222 18.469 -2.4915 Q18.315 -2.761 18.062 -2.9425 Q17.809 -3.124 17.4845 -3.234 Q17.16 -3.344 16.819 -3.421 Q16.489 -3.498 16.17 -3.564 Q15.851 -3.63 15.6035 -3.7125 Q15.356 -3.795 15.202 -3.927 Q15.048 -4.059 15.048 -4.268 Q15.048 -4.444 15.136 -4.5485 Q15.224 -4.653 15.3505 -4.708 Q15.477 -4.763 15.631 -4.7795 Q15.785 -4.796 15.917 -4.796 Q16.335 -4.796 16.643 -4.6365 Q16.951 -4.477 16.984 -4.026 L18.469 -4.026 Q18.425 -4.554 18.1995 -4.9005 Q17.974 -5.247 17.633 -5.456 Q17.292 -5.665 16.8575 -5.753 Q16.423 -5.841 15.961 -5.841 Q15.499 -5.841 15.059 -5.7585 Q14.619 -5.676 14.267 -5.4725 Q13.915 -5.269 13.7005 -4.917 Q13.486 -4.565 13.486 -4.015 Q13.486 -3.641 13.64 -3.3825 Q13.794 -3.124 14.047 -2.9535 Q14.3 -2.783 14.6245 -2.6785 Q14.949 -2.574 15.29 -2.497 Q16.126 -2.321 16.5935 -2.145 Q17.061 -1.969 17.061 -1.617 Q17.061 -1.408 16.962 -1.2705 Q16.863 -1.133 16.7145 -1.0505 Q16.566 -0.968 16.3845 -0.9295 Q16.203 -0.891 16.038 -0.891 Q15.807 -0.891 15.5925 -0.946 Q15.378 -1.001 15.213 -1.1165 Q15.048 -1.232 14.9435 -1.4135 Q14.839 -1.595 14.839 -1.848 Z\"\n",
       "    /></g\n",
       "    ><g transform=\"translate(232,25)\" style=\"font-size:11px; text-rendering:geometricPrecision; image-rendering:optimizeQuality; color-rendering:optimizeQuality; font-family:'Helvetica Neue'; color-interpolation:linearRGB; font-weight:bold;\"\n",
       "    ><path style=\"stroke:none;\" d=\"M3.333 -8.041 L2.024 -8.041 Q1.661 -7.513 1.3915 -6.886 Q1.122 -6.259 0.9405 -5.588 Q0.759 -4.917 0.6655 -4.2405 Q0.572 -3.564 0.572 -2.948 Q0.572 -1.65 0.9515 -0.396 Q1.331 0.858 2.024 1.991 L3.322 1.991 Q2.695 0.792 2.4145 -0.473 Q2.134 -1.738 2.134 -3.058 Q2.134 -4.356 2.42 -5.6155 Q2.706 -6.875 3.333 -8.041 Z\"\n",
       "    /></g\n",
       "    ><g transform=\"translate(236,25)\" style=\"font-size:11px; text-rendering:geometricPrecision; image-rendering:optimizeQuality; color-rendering:optimizeQuality; font-family:'mwb_cmmi10'; color-interpolation:linearRGB; font-weight:bold;\"\n",
       "    ><path style=\"stroke:none;\" d=\"M1.1094 -0.1875 Q1.1094 -0.25 1.1562 -0.3594 Q1.4688 -1 1.7344 -1.6172 Q2 -2.2344 2.2109 -2.8203 Q2.4219 -3.4062 2.5938 -4.0625 L1.8906 -4.0625 Q1.8906 -4.0625 1.8438 -3.8125 Q1.7969 -3.5625 1.5625 -3.1719 Q1.5312 -3.125 0.5 -3.125 L0.3594 -3.125 Q0.2656 -3.125 0.2656 -3.2344 Q0.2656 -3.25 0.2812 -3.2969 Q0.6406 -3.9062 1.0547 -4.3281 Q1.4688 -4.75 1.9844 -4.75 L5.9688 -4.75 Q7.0781 -4.75 7.1641 -4.6719 Q7.25 -4.5938 7.25 -4.4688 Q7.25 -4.2969 7.1328 -4.1797 Q7.0156 -4.0625 5.8594 -4.0625 L5.4531 -4.0625 Q5.2812 -3.2031 5.2656 -2.375 Q5.2656 -1.3125 5.625 -0.4688 Q5.6562 -0.3906 5.6562 -0.3281 Q5.6562 -0.2031 5.5859 -0.1016 Q5.5156 0 5.4062 0.0625 Q5.2969 0.125 4.1719 0.125 Q3.8906 0.125 3.7812 -0.3516 Q3.6719 -0.8281 3.6719 -1.2656 Q3.6719 -1.8906 3.7812 -2.4766 Q3.8906 -3.0625 4.125 -4.0625 L3.9219 -4.0625 Q3.0625 -0.5312 2.875 -0.1719 Q2.7188 0.125 1.4531 0.125 Q1.3125 0.125 1.2109 0.0391 Q1.1094 -0.0469 1.1094 -0.1875 Z\"\n",
       "    /></g\n",
       "    ><g transform=\"translate(243,25)\" style=\"font-size:11px; text-rendering:geometricPrecision; image-rendering:optimizeQuality; color-rendering:optimizeQuality; font-family:'Helvetica Neue'; color-interpolation:linearRGB; font-weight:bold;\"\n",
       "    ><path style=\"stroke:none;\" d=\"M-0.066 1.991 L1.232 1.991 Q1.595 1.474 1.87 0.847 Q2.145 0.22 2.3265 -0.4455 Q2.508 -1.111 2.596 -1.7875 Q2.684 -2.464 2.684 -3.08 Q2.684 -4.378 2.3045 -5.643 Q1.925 -6.908 1.232 -8.041 L-0.055 -8.041 Q0.55 -6.842 0.836 -5.566 Q1.122 -4.29 1.122 -2.97 Q1.122 -1.672 0.8305 -0.4235 Q0.539 0.825 -0.066 1.991 ZM10.208 -3.366 L10.208 -5.555 L9.031 -5.555 L9.031 -3.366 L6.842 -3.366 L6.842 -2.189 L9.031 -2.189 L9.031 0 L10.208 0 L10.208 -2.189 L12.397 -2.189 L12.397 -3.366 Z\"\n",
       "    /></g\n",
       "    ><g transform=\"translate(259,25)\" style=\"font-size:11px; text-rendering:geometricPrecision; image-rendering:optimizeQuality; color-rendering:optimizeQuality; font-family:'Helvetica Neue'; color-interpolation:linearRGB; font-weight:bold;\"\n",
       "    ><path style=\"stroke:none;\" d=\"M4.312 0 L4.312 -7.7 L3.069 -7.7 Q3.003 -7.26 2.794 -6.963 Q2.585 -6.666 2.2825 -6.4845 Q1.98 -6.303 1.6005 -6.2315 Q1.221 -6.16 0.814 -6.171 L0.814 -4.994 L2.75 -4.994 L2.75 0 Z\"\n",
       "    /></g\n",
       "    ><g transform=\"translate(266,25)\" style=\"font-size:11px; text-rendering:geometricPrecision; image-rendering:optimizeQuality; color-rendering:optimizeQuality; font-family:'Helvetica Neue'; color-interpolation:linearRGB; font-weight:bold;\"\n",
       "    ><path style=\"stroke:none;\" d=\"M-0.066 1.991 L1.232 1.991 Q1.595 1.474 1.87 0.847 Q2.145 0.22 2.3265 -0.4455 Q2.508 -1.111 2.596 -1.7875 Q2.684 -2.464 2.684 -3.08 Q2.684 -4.378 2.3045 -5.643 Q1.925 -6.908 1.232 -8.041 L-0.055 -8.041 Q0.55 -6.842 0.836 -5.566 Q1.122 -4.29 1.122 -2.97 Q1.122 -1.672 0.8305 -0.4235 Q0.539 0.825 -0.066 1.991 ZM3.19 1.991 L4.488 1.991 Q4.851 1.474 5.126 0.847 Q5.401 0.22 5.5825 -0.4455 Q5.764 -1.111 5.852 -1.7875 Q5.94 -2.464 5.94 -3.08 Q5.94 -4.378 5.5605 -5.643 Q5.181 -6.908 4.488 -8.041 L3.201 -8.041 Q3.806 -6.842 4.092 -5.566 Q4.378 -4.29 4.378 -2.97 Q4.378 -1.672 4.0865 -0.4235 Q3.795 0.825 3.19 1.991 ZM9.46 -8.041 L6.402 0.176 L7.645 0.176 L10.714 -8.041 Z\"\n",
       "    /></g\n",
       "    ><g transform=\"translate(277,25)\" style=\"font-size:11px; text-rendering:geometricPrecision; image-rendering:optimizeQuality; color-rendering:optimizeQuality; font-family:'mwb_cmmi10'; color-interpolation:linearRGB; font-weight:bold;\"\n",
       "    ><path style=\"stroke:none;\" d=\"M1.1094 -0.1875 Q1.1094 -0.25 1.1562 -0.3594 Q1.4688 -1 1.7344 -1.6172 Q2 -2.2344 2.2109 -2.8203 Q2.4219 -3.4062 2.5938 -4.0625 L1.8906 -4.0625 Q1.8906 -4.0625 1.8438 -3.8125 Q1.7969 -3.5625 1.5625 -3.1719 Q1.5312 -3.125 0.5 -3.125 L0.3594 -3.125 Q0.2656 -3.125 0.2656 -3.2344 Q0.2656 -3.25 0.2812 -3.2969 Q0.6406 -3.9062 1.0547 -4.3281 Q1.4688 -4.75 1.9844 -4.75 L5.9688 -4.75 Q7.0781 -4.75 7.1641 -4.6719 Q7.25 -4.5938 7.25 -4.4688 Q7.25 -4.2969 7.1328 -4.1797 Q7.0156 -4.0625 5.8594 -4.0625 L5.4531 -4.0625 Q5.2812 -3.2031 5.2656 -2.375 Q5.2656 -1.3125 5.625 -0.4688 Q5.6562 -0.3906 5.6562 -0.3281 Q5.6562 -0.2031 5.5859 -0.1016 Q5.5156 0 5.4062 0.0625 Q5.2969 0.125 4.1719 0.125 Q3.8906 0.125 3.7812 -0.3516 Q3.6719 -0.8281 3.6719 -1.2656 Q3.6719 -1.8906 3.7812 -2.4766 Q3.8906 -3.0625 4.125 -4.0625 L3.9219 -4.0625 Q3.0625 -0.5312 2.875 -0.1719 Q2.7188 0.125 1.4531 0.125 Q1.3125 0.125 1.2109 0.0391 Q1.1094 -0.0469 1.1094 -0.1875 Z\"\n",
       "    /></g\n",
       "    ><g transform=\"translate(284,25)\" style=\"font-size:11px; text-rendering:geometricPrecision; image-rendering:optimizeQuality; color-rendering:optimizeQuality; font-family:'Helvetica Neue'; color-interpolation:linearRGB; font-weight:bold;\"\n",
       "    ><path style=\"stroke:none;\" d=\"M6.952 -3.366 L6.952 -5.555 L5.775 -5.555 L5.775 -3.366 L3.586 -3.366 L3.586 -2.189 L5.775 -2.189 L5.775 0 L6.952 0 L6.952 -2.189 L9.141 -2.189 L9.141 -3.366 ZM10.318 -1.694 L10.318 0 L12.045 0 L12.045 -1.694 ZM13.376 -1.694 L13.376 0 L15.103 0 L15.103 -1.694 ZM16.434 -1.694 L16.434 0 L18.161 0 L18.161 -1.694 ZM22.726 -3.366 L22.726 -5.555 L21.549 -5.555 L21.549 -3.366 L19.36 -3.366 L19.36 -2.189 L21.549 -2.189 L21.549 0 L22.726 0 L22.726 -2.189 L24.915 -2.189 L24.915 -3.366 ZM31.823 -8.041 L30.514 -8.041 Q30.151 -7.513 29.8815 -6.886 Q29.612 -6.259 29.4305 -5.588 Q29.249 -4.917 29.1555 -4.2405 Q29.062 -3.564 29.062 -2.948 Q29.062 -1.65 29.4415 -0.396 Q29.821 0.858 30.514 1.991 L31.812 1.991 Q31.185 0.792 30.9045 -0.473 Q30.624 -1.738 30.624 -3.058 Q30.624 -4.356 30.91 -5.6155 Q31.196 -6.875 31.823 -8.041 Z\"\n",
       "    /></g\n",
       "    ><g transform=\"translate(316,25)\" style=\"font-size:11px; text-rendering:geometricPrecision; image-rendering:optimizeQuality; color-rendering:optimizeQuality; font-family:'Helvetica Neue'; color-interpolation:linearRGB; font-weight:bold;\"\n",
       "    ><path style=\"stroke:none;\" d=\"M4.466 -3.685 L5.995 -3.685 Q5.962 -4.235 5.731 -4.6365 Q5.5 -5.038 5.1315 -5.3075 Q4.763 -5.577 4.2955 -5.709 Q3.828 -5.841 3.322 -5.841 Q2.629 -5.841 2.09 -5.61 Q1.551 -5.379 1.177 -4.9665 Q0.803 -4.554 0.6105 -3.9875 Q0.418 -3.421 0.418 -2.761 Q0.418 -2.123 0.627 -1.5895 Q0.836 -1.056 1.21 -0.671 Q1.584 -0.286 2.1175 -0.0715 Q2.651 0.143 3.289 0.143 Q4.422 0.143 5.148 -0.451 Q5.874 -1.045 6.028 -2.178 L4.521 -2.178 Q4.444 -1.65 4.1415 -1.3365 Q3.839 -1.023 3.278 -1.023 Q2.915 -1.023 2.662 -1.188 Q2.409 -1.353 2.2605 -1.6115 Q2.112 -1.87 2.046 -2.189 Q1.98 -2.508 1.98 -2.816 Q1.98 -3.135 2.046 -3.4595 Q2.112 -3.784 2.2715 -4.0535 Q2.431 -4.323 2.684 -4.4935 Q2.937 -4.664 3.311 -4.664 Q4.312 -4.664 4.466 -3.685 ZM8.294 -2.838 Q8.294 -3.179 8.36 -3.509 Q8.426 -3.839 8.5855 -4.092 Q8.745 -4.345 9.009 -4.5045 Q9.273 -4.664 9.669 -4.664 Q10.065 -4.664 10.3345 -4.5045 Q10.604 -4.345 10.7635 -4.092 Q10.923 -3.839 10.989 -3.509 Q11.055 -3.179 11.055 -2.838 Q11.055 -2.497 10.989 -2.1725 Q10.923 -1.848 10.7635 -1.5895 Q10.604 -1.331 10.3345 -1.177 Q10.065 -1.023 9.669 -1.023 Q9.273 -1.023 9.009 -1.177 Q8.745 -1.331 8.5855 -1.5895 Q8.426 -1.848 8.36 -2.1725 Q8.294 -2.497 8.294 -2.838 ZM6.732 -2.838 Q6.732 -2.156 6.941 -1.606 Q7.15 -1.056 7.535 -0.6655 Q7.92 -0.275 8.459 -0.066 Q8.998 0.143 9.669 0.143 Q10.34 0.143 10.8845 -0.066 Q11.429 -0.275 11.814 -0.6655 Q12.199 -1.056 12.408 -1.606 Q12.617 -2.156 12.617 -2.838 Q12.617 -3.52 12.408 -4.0755 Q12.199 -4.631 11.814 -5.0215 Q11.429 -5.412 10.8845 -5.6265 Q10.34 -5.841 9.669 -5.841 Q8.998 -5.841 8.459 -5.6265 Q7.92 -5.412 7.535 -5.0215 Q7.15 -4.631 6.941 -4.0755 Q6.732 -3.52 6.732 -2.838 ZM14.839 -1.848 L13.354 -1.848 Q13.376 -1.276 13.6125 -0.8965 Q13.849 -0.517 14.2175 -0.286 Q14.586 -0.055 15.059 0.044 Q15.532 0.143 16.027 0.143 Q16.511 0.143 16.9785 0.0495 Q17.446 -0.044 17.809 -0.275 Q18.172 -0.506 18.3975 -0.8855 Q18.623 -1.265 18.623 -1.826 Q18.623 -2.222 18.469 -2.4915 Q18.315 -2.761 18.062 -2.9425 Q17.809 -3.124 17.4845 -3.234 Q17.16 -3.344 16.819 -3.421 Q16.489 -3.498 16.17 -3.564 Q15.851 -3.63 15.6035 -3.7125 Q15.356 -3.795 15.202 -3.927 Q15.048 -4.059 15.048 -4.268 Q15.048 -4.444 15.136 -4.5485 Q15.224 -4.653 15.3505 -4.708 Q15.477 -4.763 15.631 -4.7795 Q15.785 -4.796 15.917 -4.796 Q16.335 -4.796 16.643 -4.6365 Q16.951 -4.477 16.984 -4.026 L18.469 -4.026 Q18.425 -4.554 18.1995 -4.9005 Q17.974 -5.247 17.633 -5.456 Q17.292 -5.665 16.8575 -5.753 Q16.423 -5.841 15.961 -5.841 Q15.499 -5.841 15.059 -5.7585 Q14.619 -5.676 14.267 -5.4725 Q13.915 -5.269 13.7005 -4.917 Q13.486 -4.565 13.486 -4.015 Q13.486 -3.641 13.64 -3.3825 Q13.794 -3.124 14.047 -2.9535 Q14.3 -2.783 14.6245 -2.6785 Q14.949 -2.574 15.29 -2.497 Q16.126 -2.321 16.5935 -2.145 Q17.061 -1.969 17.061 -1.617 Q17.061 -1.408 16.962 -1.2705 Q16.863 -1.133 16.7145 -1.0505 Q16.566 -0.968 16.3845 -0.9295 Q16.203 -0.891 16.038 -0.891 Q15.807 -0.891 15.5925 -0.946 Q15.378 -1.001 15.213 -1.1165 Q15.048 -1.232 14.9435 -1.4135 Q14.839 -1.595 14.839 -1.848 Z\"\n",
       "    /></g\n",
       "    ><g transform=\"translate(335,25)\" style=\"font-size:11px; text-rendering:geometricPrecision; image-rendering:optimizeQuality; color-rendering:optimizeQuality; font-family:'Helvetica Neue'; color-interpolation:linearRGB; font-weight:bold;\"\n",
       "    ><path style=\"stroke:none;\" d=\"M3.333 -8.041 L2.024 -8.041 Q1.661 -7.513 1.3915 -6.886 Q1.122 -6.259 0.9405 -5.588 Q0.759 -4.917 0.6655 -4.2405 Q0.572 -3.564 0.572 -2.948 Q0.572 -1.65 0.9515 -0.396 Q1.331 0.858 2.024 1.991 L3.322 1.991 Q2.695 0.792 2.4145 -0.473 Q2.134 -1.738 2.134 -3.058 Q2.134 -4.356 2.42 -5.6155 Q2.706 -6.875 3.333 -8.041 Z\"\n",
       "    /></g\n",
       "    ><g transform=\"translate(339,25)\" style=\"font-size:11px; text-rendering:geometricPrecision; image-rendering:optimizeQuality; color-rendering:optimizeQuality; font-family:'Helvetica Neue'; color-interpolation:linearRGB; font-weight:bold;\"\n",
       "    ><path style=\"stroke:none;\" d=\"M5.687 -6.358 L5.687 -7.7 L0.429 -7.7 L0.429 -6.248 L4.081 -6.248 Q2.981 -4.917 2.3045 -3.322 Q1.628 -1.727 1.496 0 L3.168 0 Q3.179 -0.77 3.3495 -1.661 Q3.52 -2.552 3.8335 -3.421 Q4.147 -4.29 4.6145 -5.06 Q5.082 -5.83 5.687 -6.358 Z\"\n",
       "    /></g\n",
       "    ><g transform=\"translate(350,25)\" style=\"font-size:11px; text-rendering:geometricPrecision; image-rendering:optimizeQuality; color-rendering:optimizeQuality; font-family:'Helvetica Neue'; color-interpolation:linearRGB; font-weight:bold;\"\n",
       "    ><path style=\"stroke:none;\" d=\"M2.574 -5.687 L2.574 -7.392 L1.012 -7.392 L1.012 -5.687 L0.066 -5.687 L0.066 -4.642 L1.012 -4.642 L1.012 -1.287 Q1.012 -0.858 1.155 -0.594 Q1.298 -0.33 1.5455 -0.187 Q1.793 -0.044 2.1175 0.0055 Q2.442 0.055 2.805 0.055 Q3.036 0.055 3.278 0.044 Q3.52 0.033 3.718 0 L3.718 -1.21 Q3.608 -1.188 3.487 -1.177 Q3.366 -1.166 3.234 -1.166 Q2.838 -1.166 2.706 -1.298 Q2.574 -1.43 2.574 -1.826 L2.574 -4.642 L3.718 -4.642 L3.718 -5.687 Z\"\n",
       "    /></g\n",
       "    ><g transform=\"translate(354,25)\" style=\"font-size:11px; text-rendering:geometricPrecision; image-rendering:optimizeQuality; color-rendering:optimizeQuality; font-family:'Helvetica Neue'; color-interpolation:linearRGB; font-weight:bold;\"\n",
       "    ><path style=\"stroke:none;\" d=\"M-0.066 1.991 L1.232 1.991 Q1.595 1.474 1.87 0.847 Q2.145 0.22 2.3265 -0.4455 Q2.508 -1.111 2.596 -1.7875 Q2.684 -2.464 2.684 -3.08 Q2.684 -4.378 2.3045 -5.643 Q1.925 -6.908 1.232 -8.041 L-0.055 -8.041 Q0.55 -6.842 0.836 -5.566 Q1.122 -4.29 1.122 -2.97 Q1.122 -1.672 0.8305 -0.4235 Q0.539 0.825 -0.066 1.991 ZM9.647 -8.041 L8.338 -8.041 Q7.975 -7.513 7.7055 -6.886 Q7.436 -6.259 7.2545 -5.588 Q7.073 -4.917 6.9795 -4.2405 Q6.886 -3.564 6.886 -2.948 Q6.886 -1.65 7.2655 -0.396 Q7.645 0.858 8.338 1.991 L9.636 1.991 Q9.009 0.792 8.7285 -0.473 Q8.448 -1.738 8.448 -3.058 Q8.448 -4.356 8.734 -5.6155 Q9.02 -6.875 9.647 -8.041 Z\"\n",
       "    /></g\n",
       "    ><g transform=\"translate(364,25)\" style=\"font-size:11px; text-rendering:geometricPrecision; image-rendering:optimizeQuality; color-rendering:optimizeQuality; font-family:'Helvetica Neue'; color-interpolation:linearRGB; font-weight:bold;\"\n",
       "    ><path style=\"stroke:none;\" d=\"M1.793 -3.883 Q1.793 -4.081 1.7985 -4.3615 Q1.804 -4.642 1.837 -4.939 Q1.87 -5.236 1.947 -5.5275 Q2.024 -5.819 2.1615 -6.05 Q2.299 -6.281 2.5135 -6.424 Q2.728 -6.567 3.047 -6.567 Q3.366 -6.567 3.586 -6.424 Q3.806 -6.281 3.949 -6.05 Q4.092 -5.819 4.1635 -5.5275 Q4.235 -5.236 4.2735 -4.939 Q4.312 -4.642 4.3175 -4.3615 Q4.323 -4.081 4.323 -3.883 Q4.323 -3.553 4.301 -3.0855 Q4.279 -2.618 4.1635 -2.1835 Q4.048 -1.749 3.7895 -1.441 Q3.531 -1.133 3.047 -1.133 Q2.574 -1.133 2.321 -1.441 Q2.068 -1.749 1.9525 -2.1835 Q1.837 -2.618 1.815 -3.0855 Q1.793 -3.553 1.793 -3.883 ZM0.231 -3.883 Q0.231 -2.728 0.4565 -1.9525 Q0.682 -1.177 1.067 -0.715 Q1.452 -0.253 1.9635 -0.055 Q2.475 0.143 3.047 0.143 Q3.63 0.143 4.1415 -0.055 Q4.653 -0.253 5.0435 -0.715 Q5.434 -1.177 5.6595 -1.9525 Q5.885 -2.728 5.885 -3.883 Q5.885 -5.005 5.6595 -5.7695 Q5.434 -6.534 5.0435 -6.996 Q4.653 -7.458 4.1415 -7.656 Q3.63 -7.854 3.047 -7.854 Q2.475 -7.854 1.9635 -7.656 Q1.452 -7.458 1.067 -6.996 Q0.682 -6.534 0.4565 -5.7695 Q0.231 -5.005 0.231 -3.883 ZM6.776 -1.694 L6.776 0 L8.503 0 L8.503 -1.694 ZM9.581 -4.741 L11.077 -4.741 Q11.077 -5.049 11.1375 -5.3625 Q11.198 -5.676 11.341 -5.9345 Q11.484 -6.193 11.7205 -6.3525 Q11.957 -6.512 12.298 -6.512 Q12.804 -6.512 13.1285 -6.1985 Q13.453 -5.885 13.453 -5.324 Q13.453 -4.972 13.2935 -4.697 Q13.134 -4.422 12.8975 -4.202 Q12.661 -3.982 12.375 -3.8005 Q12.089 -3.619 11.836 -3.443 Q11.341 -3.102 10.8955 -2.772 Q10.45 -2.442 10.12 -2.0515 Q9.79 -1.661 9.5975 -1.166 Q9.405 -0.671 9.405 0 L15.059 0 L15.059 -1.342 L11.418 -1.342 Q11.704 -1.738 12.078 -2.035 Q12.452 -2.332 12.848 -2.5905 Q13.244 -2.849 13.6345 -3.113 Q14.025 -3.377 14.333 -3.7015 Q14.641 -4.026 14.828 -4.444 Q15.015 -4.862 15.015 -5.445 Q15.015 -6.006 14.8005 -6.457 Q14.586 -6.908 14.223 -7.216 Q13.86 -7.524 13.3815 -7.689 Q12.903 -7.854 12.375 -7.854 Q11.682 -7.854 11.1485 -7.6175 Q10.615 -7.381 10.263 -6.9575 Q9.911 -6.534 9.735 -5.9675 Q9.559 -5.401 9.581 -4.741 ZM17.182 -5.61 Q17.182 -5.874 17.2755 -6.072 Q17.369 -6.27 17.534 -6.402 Q17.699 -6.534 17.9135 -6.6055 Q18.128 -6.677 18.359 -6.677 Q18.722 -6.677 18.9475 -6.567 Q19.173 -6.457 19.2995 -6.292 Q19.426 -6.127 19.47 -5.9455 Q19.514 -5.764 19.514 -5.61 Q19.514 -5.115 19.184 -4.8565 Q18.854 -4.598 18.359 -4.598 Q17.886 -4.598 17.534 -4.8565 Q17.182 -5.115 17.182 -5.61 ZM15.763 -5.753 Q15.763 -5.181 16.049 -4.752 Q16.335 -4.323 16.896 -4.169 L16.896 -4.147 Q16.203 -3.982 15.8235 -3.487 Q15.444 -2.992 15.444 -2.255 Q15.444 -1.628 15.6915 -1.177 Q15.939 -0.726 16.3515 -0.429 Q16.764 -0.132 17.2865 0.0055 Q17.809 0.143 18.37 0.143 Q18.909 0.143 19.426 -0.0055 Q19.943 -0.154 20.35 -0.451 Q20.757 -0.748 21.0045 -1.199 Q21.252 -1.65 21.252 -2.266 Q21.252 -2.992 20.878 -3.4925 Q20.504 -3.993 19.811 -4.147 L19.811 -4.169 Q20.372 -4.356 20.6525 -4.785 Q20.933 -5.214 20.933 -5.786 Q20.933 -6.072 20.801 -6.4295 Q20.669 -6.787 20.3665 -7.1005 Q20.064 -7.414 19.569 -7.634 Q19.074 -7.854 18.359 -7.854 Q17.886 -7.854 17.424 -7.722 Q16.962 -7.59 16.5935 -7.326 Q16.225 -7.062 15.994 -6.666 Q15.763 -6.27 15.763 -5.753 ZM17.006 -2.332 Q17.006 -2.926 17.402 -3.2395 Q17.798 -3.553 18.37 -3.553 Q18.645 -3.553 18.8815 -3.465 Q19.118 -3.377 19.2995 -3.212 Q19.481 -3.047 19.5855 -2.8215 Q19.69 -2.596 19.69 -2.321 Q19.69 -2.035 19.591 -1.793 Q19.492 -1.551 19.3105 -1.3805 Q19.129 -1.21 18.8925 -1.1165 Q18.656 -1.023 18.37 -1.023 Q18.095 -1.023 17.842 -1.1165 Q17.589 -1.21 17.4075 -1.3805 Q17.226 -1.551 17.116 -1.793 Q17.006 -2.035 17.006 -2.332 ZM26.906 -6.413 L26.906 -7.7 L22.605 -7.7 L21.846 -3.443 L23.254 -3.443 Q23.485 -3.762 23.749 -3.9105 Q24.013 -4.059 24.431 -4.059 Q24.75 -4.059 24.992 -3.949 Q25.234 -3.839 25.41 -3.641 Q25.586 -3.443 25.674 -3.179 Q25.762 -2.915 25.762 -2.618 Q25.762 -2.332 25.6685 -2.0625 Q25.575 -1.793 25.4045 -1.5895 Q25.234 -1.386 24.9865 -1.2595 Q24.739 -1.133 24.431 -1.133 Q23.903 -1.133 23.562 -1.4465 Q23.221 -1.76 23.166 -2.288 L21.604 -2.288 Q21.615 -1.683 21.8515 -1.2265 Q22.088 -0.77 22.484 -0.462 Q22.88 -0.154 23.3915 -0.0055 Q23.903 0.143 24.464 0.143 Q25.047 0.154 25.564 -0.0495 Q26.081 -0.253 26.4715 -0.627 Q26.862 -1.001 27.093 -1.5125 Q27.324 -2.024 27.324 -2.618 Q27.324 -3.157 27.1645 -3.6355 Q27.005 -4.114 26.7025 -4.466 Q26.4 -4.818 25.96 -5.027 Q25.52 -5.236 24.948 -5.236 Q24.486 -5.236 24.123 -5.0985 Q23.76 -4.961 23.441 -4.642 L23.419 -4.664 L23.727 -6.413 ZM33.209 -6.358 L33.209 -7.7 L27.951 -7.7 L27.951 -6.248 L31.603 -6.248 Q30.503 -4.917 29.8265 -3.322 Q29.15 -1.727 29.018 0 L30.69 0 Q30.701 -0.77 30.8715 -1.661 Q31.042 -2.552 31.3555 -3.421 Q31.669 -4.29 32.1365 -5.06 Q32.604 -5.83 33.209 -6.358 Z\"\n",
       "    /></g\n",
       "    ><g transform=\"translate(402,25)\" style=\"font-size:11px; text-rendering:geometricPrecision; image-rendering:optimizeQuality; color-rendering:optimizeQuality; font-family:'Helvetica Neue'; color-interpolation:linearRGB; font-weight:bold;\"\n",
       "    ><path style=\"stroke:none;\" d=\"M1.804 -1.848 L0.319 -1.848 Q0.341 -1.276 0.5775 -0.8965 Q0.814 -0.517 1.1825 -0.286 Q1.551 -0.055 2.024 0.044 Q2.497 0.143 2.992 0.143 Q3.476 0.143 3.9435 0.0495 Q4.411 -0.044 4.774 -0.275 Q5.137 -0.506 5.3625 -0.8855 Q5.588 -1.265 5.588 -1.826 Q5.588 -2.222 5.434 -2.4915 Q5.28 -2.761 5.027 -2.9425 Q4.774 -3.124 4.4495 -3.234 Q4.125 -3.344 3.784 -3.421 Q3.454 -3.498 3.135 -3.564 Q2.816 -3.63 2.5685 -3.7125 Q2.321 -3.795 2.167 -3.927 Q2.013 -4.059 2.013 -4.268 Q2.013 -4.444 2.101 -4.5485 Q2.189 -4.653 2.3155 -4.708 Q2.442 -4.763 2.596 -4.7795 Q2.75 -4.796 2.882 -4.796 Q3.3 -4.796 3.608 -4.6365 Q3.916 -4.477 3.949 -4.026 L5.434 -4.026 Q5.39 -4.554 5.1645 -4.9005 Q4.939 -5.247 4.598 -5.456 Q4.257 -5.665 3.8225 -5.753 Q3.388 -5.841 2.926 -5.841 Q2.464 -5.841 2.024 -5.7585 Q1.584 -5.676 1.232 -5.4725 Q0.88 -5.269 0.6655 -4.917 Q0.451 -4.565 0.451 -4.015 Q0.451 -3.641 0.605 -3.3825 Q0.759 -3.124 1.012 -2.9535 Q1.265 -2.783 1.5895 -2.6785 Q1.914 -2.574 2.255 -2.497 Q3.091 -2.321 3.5585 -2.145 Q4.026 -1.969 4.026 -1.617 Q4.026 -1.408 3.927 -1.2705 Q3.828 -1.133 3.6795 -1.0505 Q3.531 -0.968 3.3495 -0.9295 Q3.168 -0.891 3.003 -0.891 Q2.772 -0.891 2.5575 -0.946 Q2.343 -1.001 2.178 -1.1165 Q2.013 -1.232 1.9085 -1.4135 Q1.804 -1.595 1.804 -1.848 ZM8.107 -6.567 L8.107 -7.854 L6.545 -7.854 L6.545 -6.567 ZM6.545 -5.687 L6.545 0 L8.107 0 L8.107 -5.687 ZM9.339 -5.687 L9.339 0 L10.901 0 L10.901 -2.981 Q10.901 -3.85 11.187 -4.2295 Q11.473 -4.609 12.111 -4.609 Q12.672 -4.609 12.892 -4.2625 Q13.112 -3.916 13.112 -3.212 L13.112 0 L14.674 0 L14.674 -3.498 Q14.674 -4.026 14.5805 -4.4605 Q14.487 -4.895 14.256 -5.1975 Q14.025 -5.5 13.6235 -5.6705 Q13.222 -5.841 12.595 -5.841 Q12.1 -5.841 11.627 -5.6155 Q11.154 -5.39 10.857 -4.895 L10.824 -4.895 L10.824 -5.687 Z\"\n",
       "    /></g\n",
       "    ><g transform=\"translate(418,25)\" style=\"font-size:11px; text-rendering:geometricPrecision; image-rendering:optimizeQuality; color-rendering:optimizeQuality; font-family:'Helvetica Neue'; color-interpolation:linearRGB; font-weight:bold;\"\n",
       "    ><path style=\"stroke:none;\" d=\"M3.333 -8.041 L2.024 -8.041 Q1.661 -7.513 1.3915 -6.886 Q1.122 -6.259 0.9405 -5.588 Q0.759 -4.917 0.6655 -4.2405 Q0.572 -3.564 0.572 -2.948 Q0.572 -1.65 0.9515 -0.396 Q1.331 0.858 2.024 1.991 L3.322 1.991 Q2.695 0.792 2.4145 -0.473 Q2.134 -1.738 2.134 -3.058 Q2.134 -4.356 2.42 -5.6155 Q2.706 -6.875 3.333 -8.041 Z\"\n",
       "    /></g\n",
       "    ><g transform=\"translate(422,25)\" style=\"font-size:11px; text-rendering:geometricPrecision; image-rendering:optimizeQuality; color-rendering:optimizeQuality; font-family:'Helvetica Neue'; color-interpolation:linearRGB; font-weight:bold;\"\n",
       "    ><path style=\"stroke:none;\" d=\"M5.687 -6.358 L5.687 -7.7 L0.429 -7.7 L0.429 -6.248 L4.081 -6.248 Q2.981 -4.917 2.3045 -3.322 Q1.628 -1.727 1.496 0 L3.168 0 Q3.179 -0.77 3.3495 -1.661 Q3.52 -2.552 3.8335 -3.421 Q4.147 -4.29 4.6145 -5.06 Q5.082 -5.83 5.687 -6.358 Z\"\n",
       "    /></g\n",
       "    ><g transform=\"translate(433,25)\" style=\"font-size:11px; text-rendering:geometricPrecision; image-rendering:optimizeQuality; color-rendering:optimizeQuality; font-family:'mwb_cmmi10'; color-interpolation:linearRGB; font-weight:bold;\"\n",
       "    ><path style=\"stroke:none;\" d=\"M1.1094 -0.1875 Q1.1094 -0.25 1.1562 -0.3594 Q1.4688 -1 1.7344 -1.6172 Q2 -2.2344 2.2109 -2.8203 Q2.4219 -3.4062 2.5938 -4.0625 L1.8906 -4.0625 Q1.8906 -4.0625 1.8438 -3.8125 Q1.7969 -3.5625 1.5625 -3.1719 Q1.5312 -3.125 0.5 -3.125 L0.3594 -3.125 Q0.2656 -3.125 0.2656 -3.2344 Q0.2656 -3.25 0.2812 -3.2969 Q0.6406 -3.9062 1.0547 -4.3281 Q1.4688 -4.75 1.9844 -4.75 L5.9688 -4.75 Q7.0781 -4.75 7.1641 -4.6719 Q7.25 -4.5938 7.25 -4.4688 Q7.25 -4.2969 7.1328 -4.1797 Q7.0156 -4.0625 5.8594 -4.0625 L5.4531 -4.0625 Q5.2812 -3.2031 5.2656 -2.375 Q5.2656 -1.3125 5.625 -0.4688 Q5.6562 -0.3906 5.6562 -0.3281 Q5.6562 -0.2031 5.5859 -0.1016 Q5.5156 0 5.4062 0.0625 Q5.2969 0.125 4.1719 0.125 Q3.8906 0.125 3.7812 -0.3516 Q3.6719 -0.8281 3.6719 -1.2656 Q3.6719 -1.8906 3.7812 -2.4766 Q3.8906 -3.0625 4.125 -4.0625 L3.9219 -4.0625 Q3.0625 -0.5312 2.875 -0.1719 Q2.7188 0.125 1.4531 0.125 Q1.3125 0.125 1.2109 0.0391 Q1.1094 -0.0469 1.1094 -0.1875 Z\"\n",
       "    /></g\n",
       "    ><g transform=\"translate(440,25)\" style=\"font-size:11px; text-rendering:geometricPrecision; image-rendering:optimizeQuality; color-rendering:optimizeQuality; font-family:'Helvetica Neue'; color-interpolation:linearRGB; font-weight:bold;\"\n",
       "    ><path style=\"stroke:none;\" d=\"M-0.066 1.991 L1.232 1.991 Q1.595 1.474 1.87 0.847 Q2.145 0.22 2.3265 -0.4455 Q2.508 -1.111 2.596 -1.7875 Q2.684 -2.464 2.684 -3.08 Q2.684 -4.378 2.3045 -5.643 Q1.925 -6.908 1.232 -8.041 L-0.055 -8.041 Q0.55 -6.842 0.836 -5.566 Q1.122 -4.29 1.122 -2.97 Q1.122 -1.672 0.8305 -0.4235 Q0.539 0.825 -0.066 1.991 ZM6.897 -3.674 L6.897 -2.332 L10.208 -2.332 L10.208 -3.674 Z\"\n",
       "    /></g\n",
       "    ><g transform=\"translate(454,25)\" style=\"font-size:11px; text-rendering:geometricPrecision; image-rendering:optimizeQuality; color-rendering:optimizeQuality; font-family:'Helvetica Neue'; color-interpolation:linearRGB; font-weight:bold;\"\n",
       "    ><path style=\"stroke:none;\" d=\"M1.793 -3.883 Q1.793 -4.081 1.7985 -4.3615 Q1.804 -4.642 1.837 -4.939 Q1.87 -5.236 1.947 -5.5275 Q2.024 -5.819 2.1615 -6.05 Q2.299 -6.281 2.5135 -6.424 Q2.728 -6.567 3.047 -6.567 Q3.366 -6.567 3.586 -6.424 Q3.806 -6.281 3.949 -6.05 Q4.092 -5.819 4.1635 -5.5275 Q4.235 -5.236 4.2735 -4.939 Q4.312 -4.642 4.3175 -4.3615 Q4.323 -4.081 4.323 -3.883 Q4.323 -3.553 4.301 -3.0855 Q4.279 -2.618 4.1635 -2.1835 Q4.048 -1.749 3.7895 -1.441 Q3.531 -1.133 3.047 -1.133 Q2.574 -1.133 2.321 -1.441 Q2.068 -1.749 1.9525 -2.1835 Q1.837 -2.618 1.815 -3.0855 Q1.793 -3.553 1.793 -3.883 ZM0.231 -3.883 Q0.231 -2.728 0.4565 -1.9525 Q0.682 -1.177 1.067 -0.715 Q1.452 -0.253 1.9635 -0.055 Q2.475 0.143 3.047 0.143 Q3.63 0.143 4.1415 -0.055 Q4.653 -0.253 5.0435 -0.715 Q5.434 -1.177 5.6595 -1.9525 Q5.885 -2.728 5.885 -3.883 Q5.885 -5.005 5.6595 -5.7695 Q5.434 -6.534 5.0435 -6.996 Q4.653 -7.458 4.1415 -7.656 Q3.63 -7.854 3.047 -7.854 Q2.475 -7.854 1.9635 -7.656 Q1.452 -7.458 1.067 -6.996 Q0.682 -6.534 0.4565 -5.7695 Q0.231 -5.005 0.231 -3.883 ZM6.776 -1.694 L6.776 0 L8.503 0 L8.503 -1.694 ZM13.486 0 L13.486 -7.7 L12.243 -7.7 Q12.177 -7.26 11.968 -6.963 Q11.759 -6.666 11.4565 -6.4845 Q11.154 -6.303 10.7745 -6.2315 Q10.395 -6.16 9.988 -6.171 L9.988 -4.994 L11.924 -4.994 L11.924 0 ZM18.722 -5.742 L18.722 -3.069 L16.698 -3.069 L18.689 -5.742 ZM18.722 -1.782 L18.722 0 L20.207 0 L20.207 -1.782 L21.23 -1.782 L21.23 -3.069 L20.207 -3.069 L20.207 -7.7 L18.81 -7.7 L15.466 -3.212 L15.466 -1.782 ZM21.813 -4.741 L23.309 -4.741 Q23.309 -5.049 23.3695 -5.3625 Q23.43 -5.676 23.573 -5.9345 Q23.716 -6.193 23.9525 -6.3525 Q24.189 -6.512 24.53 -6.512 Q25.036 -6.512 25.3605 -6.1985 Q25.685 -5.885 25.685 -5.324 Q25.685 -4.972 25.5255 -4.697 Q25.366 -4.422 25.1295 -4.202 Q24.893 -3.982 24.607 -3.8005 Q24.321 -3.619 24.068 -3.443 Q23.573 -3.102 23.1275 -2.772 Q22.682 -2.442 22.352 -2.0515 Q22.022 -1.661 21.8295 -1.166 Q21.637 -0.671 21.637 0 L27.291 0 L27.291 -1.342 L23.65 -1.342 Q23.936 -1.738 24.31 -2.035 Q24.684 -2.332 25.08 -2.5905 Q25.476 -2.849 25.8665 -3.113 Q26.257 -3.377 26.565 -3.7015 Q26.873 -4.026 27.06 -4.444 Q27.247 -4.862 27.247 -5.445 Q27.247 -6.006 27.0325 -6.457 Q26.818 -6.908 26.455 -7.216 Q26.092 -7.524 25.6135 -7.689 Q25.135 -7.854 24.607 -7.854 Q23.914 -7.854 23.3805 -7.6175 Q22.847 -7.381 22.495 -6.9575 Q22.143 -6.534 21.967 -5.9675 Q21.791 -5.401 21.813 -4.741 ZM30.492 -3.707 Q30.195 -3.707 29.9695 -3.8335 Q29.744 -3.96 29.601 -4.1635 Q29.458 -4.367 29.3865 -4.6255 Q29.315 -4.884 29.315 -5.159 Q29.315 -5.423 29.392 -5.676 Q29.469 -5.929 29.623 -6.127 Q29.777 -6.325 29.997 -6.446 Q30.217 -6.567 30.492 -6.567 Q30.789 -6.567 31.02 -6.446 Q31.251 -6.325 31.4105 -6.1215 Q31.57 -5.918 31.6525 -5.6595 Q31.735 -5.401 31.735 -5.137 Q31.735 -4.851 31.658 -4.5925 Q31.581 -4.334 31.427 -4.136 Q31.273 -3.938 31.042 -3.8225 Q30.811 -3.707 30.492 -3.707 ZM29.37 -1.98 L27.885 -1.98 Q27.951 -1.474 28.16 -1.078 Q28.369 -0.682 28.699 -0.407 Q29.029 -0.132 29.458 0.0055 Q29.887 0.143 30.382 0.143 Q31.207 0.143 31.779 -0.2145 Q32.351 -0.572 32.714 -1.1495 Q33.077 -1.727 33.242 -2.442 Q33.407 -3.157 33.407 -3.872 Q33.407 -4.598 33.275 -5.313 Q33.143 -6.028 32.802 -6.5945 Q32.461 -7.161 31.8945 -7.5075 Q31.328 -7.854 30.448 -7.854 Q29.843 -7.854 29.348 -7.634 Q28.853 -7.414 28.4955 -7.0345 Q28.138 -6.655 27.9455 -6.1435 Q27.753 -5.632 27.753 -5.038 Q27.753 -4.576 27.896 -4.125 Q28.039 -3.674 28.347 -3.322 Q28.677 -2.959 29.15 -2.7445 Q29.623 -2.53 30.118 -2.53 Q30.679 -2.53 31.108 -2.728 Q31.537 -2.926 31.856 -3.388 L31.878 -3.366 Q31.856 -3.047 31.7845 -2.64 Q31.713 -2.233 31.548 -1.8755 Q31.383 -1.518 31.108 -1.2705 Q30.833 -1.023 30.404 -1.023 Q29.997 -1.023 29.722 -1.309 Q29.447 -1.595 29.37 -1.98 Z\"\n",
       "    /></g\n",
       "    ><g transform=\"translate(492,25)\" style=\"font-size:11px; text-rendering:geometricPrecision; image-rendering:optimizeQuality; color-rendering:optimizeQuality; font-family:'Helvetica Neue'; color-interpolation:linearRGB; font-weight:bold;\"\n",
       "    ><path style=\"stroke:none;\" d=\"M1.804 -1.848 L0.319 -1.848 Q0.341 -1.276 0.5775 -0.8965 Q0.814 -0.517 1.1825 -0.286 Q1.551 -0.055 2.024 0.044 Q2.497 0.143 2.992 0.143 Q3.476 0.143 3.9435 0.0495 Q4.411 -0.044 4.774 -0.275 Q5.137 -0.506 5.3625 -0.8855 Q5.588 -1.265 5.588 -1.826 Q5.588 -2.222 5.434 -2.4915 Q5.28 -2.761 5.027 -2.9425 Q4.774 -3.124 4.4495 -3.234 Q4.125 -3.344 3.784 -3.421 Q3.454 -3.498 3.135 -3.564 Q2.816 -3.63 2.5685 -3.7125 Q2.321 -3.795 2.167 -3.927 Q2.013 -4.059 2.013 -4.268 Q2.013 -4.444 2.101 -4.5485 Q2.189 -4.653 2.3155 -4.708 Q2.442 -4.763 2.596 -4.7795 Q2.75 -4.796 2.882 -4.796 Q3.3 -4.796 3.608 -4.6365 Q3.916 -4.477 3.949 -4.026 L5.434 -4.026 Q5.39 -4.554 5.1645 -4.9005 Q4.939 -5.247 4.598 -5.456 Q4.257 -5.665 3.8225 -5.753 Q3.388 -5.841 2.926 -5.841 Q2.464 -5.841 2.024 -5.7585 Q1.584 -5.676 1.232 -5.4725 Q0.88 -5.269 0.6655 -4.917 Q0.451 -4.565 0.451 -4.015 Q0.451 -3.641 0.605 -3.3825 Q0.759 -3.124 1.012 -2.9535 Q1.265 -2.783 1.5895 -2.6785 Q1.914 -2.574 2.255 -2.497 Q3.091 -2.321 3.5585 -2.145 Q4.026 -1.969 4.026 -1.617 Q4.026 -1.408 3.927 -1.2705 Q3.828 -1.133 3.6795 -1.0505 Q3.531 -0.968 3.3495 -0.9295 Q3.168 -0.891 3.003 -0.891 Q2.772 -0.891 2.5575 -0.946 Q2.343 -1.001 2.178 -1.1165 Q2.013 -1.232 1.9085 -1.4135 Q1.804 -1.595 1.804 -1.848 ZM8.107 -6.567 L8.107 -7.854 L6.545 -7.854 L6.545 -6.567 ZM6.545 -5.687 L6.545 0 L8.107 0 L8.107 -5.687 ZM9.339 -5.687 L9.339 0 L10.901 0 L10.901 -2.981 Q10.901 -3.85 11.187 -4.2295 Q11.473 -4.609 12.111 -4.609 Q12.672 -4.609 12.892 -4.2625 Q13.112 -3.916 13.112 -3.212 L13.112 0 L14.674 0 L14.674 -3.498 Q14.674 -4.026 14.5805 -4.4605 Q14.487 -4.895 14.256 -5.1975 Q14.025 -5.5 13.6235 -5.6705 Q13.222 -5.841 12.595 -5.841 Q12.1 -5.841 11.627 -5.6155 Q11.154 -5.39 10.857 -4.895 L10.824 -4.895 L10.824 -5.687 Z\"\n",
       "    /></g\n",
       "    ><g transform=\"translate(508,25)\" style=\"font-size:11px; text-rendering:geometricPrecision; image-rendering:optimizeQuality; color-rendering:optimizeQuality; font-family:'Helvetica Neue'; color-interpolation:linearRGB; font-weight:bold;\"\n",
       "    ><path style=\"stroke:none;\" d=\"M3.333 -8.041 L2.024 -8.041 Q1.661 -7.513 1.3915 -6.886 Q1.122 -6.259 0.9405 -5.588 Q0.759 -4.917 0.6655 -4.2405 Q0.572 -3.564 0.572 -2.948 Q0.572 -1.65 0.9515 -0.396 Q1.331 0.858 2.024 1.991 L3.322 1.991 Q2.695 0.792 2.4145 -0.473 Q2.134 -1.738 2.134 -3.058 Q2.134 -4.356 2.42 -5.6155 Q2.706 -6.875 3.333 -8.041 Z\"\n",
       "    /></g\n",
       "    ><g transform=\"translate(512,25)\" style=\"font-size:11px; text-rendering:geometricPrecision; image-rendering:optimizeQuality; color-rendering:optimizeQuality; font-family:'Helvetica Neue'; color-interpolation:linearRGB; font-weight:bold;\"\n",
       "    ><path style=\"stroke:none;\" d=\"M4.312 0 L4.312 -7.7 L3.069 -7.7 Q3.003 -7.26 2.794 -6.963 Q2.585 -6.666 2.2825 -6.4845 Q1.98 -6.303 1.6005 -6.2315 Q1.221 -6.16 0.814 -6.171 L0.814 -4.994 L2.75 -4.994 L2.75 0 ZM9.548 -5.742 L9.548 -3.069 L7.524 -3.069 L9.515 -5.742 ZM9.548 -1.782 L9.548 0 L11.033 0 L11.033 -1.782 L12.056 -1.782 L12.056 -3.069 L11.033 -3.069 L11.033 -7.7 L9.636 -7.7 L6.292 -3.212 L6.292 -1.782 Z\"\n",
       "    /></g\n",
       "    ><g transform=\"translate(529,25)\" style=\"font-size:11px; text-rendering:geometricPrecision; image-rendering:optimizeQuality; color-rendering:optimizeQuality; font-family:'mwb_cmmi10'; color-interpolation:linearRGB; font-weight:bold;\"\n",
       "    ><path style=\"stroke:none;\" d=\"M1.1094 -0.1875 Q1.1094 -0.25 1.1562 -0.3594 Q1.4688 -1 1.7344 -1.6172 Q2 -2.2344 2.2109 -2.8203 Q2.4219 -3.4062 2.5938 -4.0625 L1.8906 -4.0625 Q1.8906 -4.0625 1.8438 -3.8125 Q1.7969 -3.5625 1.5625 -3.1719 Q1.5312 -3.125 0.5 -3.125 L0.3594 -3.125 Q0.2656 -3.125 0.2656 -3.2344 Q0.2656 -3.25 0.2812 -3.2969 Q0.6406 -3.9062 1.0547 -4.3281 Q1.4688 -4.75 1.9844 -4.75 L5.9688 -4.75 Q7.0781 -4.75 7.1641 -4.6719 Q7.25 -4.5938 7.25 -4.4688 Q7.25 -4.2969 7.1328 -4.1797 Q7.0156 -4.0625 5.8594 -4.0625 L5.4531 -4.0625 Q5.2812 -3.2031 5.2656 -2.375 Q5.2656 -1.3125 5.625 -0.4688 Q5.6562 -0.3906 5.6562 -0.3281 Q5.6562 -0.2031 5.5859 -0.1016 Q5.5156 0 5.4062 0.0625 Q5.2969 0.125 4.1719 0.125 Q3.8906 0.125 3.7812 -0.3516 Q3.6719 -0.8281 3.6719 -1.2656 Q3.6719 -1.8906 3.7812 -2.4766 Q3.8906 -3.0625 4.125 -4.0625 L3.9219 -4.0625 Q3.0625 -0.5312 2.875 -0.1719 Q2.7188 0.125 1.4531 0.125 Q1.3125 0.125 1.2109 0.0391 Q1.1094 -0.0469 1.1094 -0.1875 Z\"\n",
       "    /></g\n",
       "    ><g transform=\"translate(536,25)\" style=\"font-size:11px; text-rendering:geometricPrecision; image-rendering:optimizeQuality; color-rendering:optimizeQuality; font-family:'Helvetica Neue'; color-interpolation:linearRGB; font-weight:bold;\"\n",
       "    ><path style=\"stroke:none;\" d=\"M-0.066 1.991 L1.232 1.991 Q1.595 1.474 1.87 0.847 Q2.145 0.22 2.3265 -0.4455 Q2.508 -1.111 2.596 -1.7875 Q2.684 -2.464 2.684 -3.08 Q2.684 -4.378 2.3045 -5.643 Q1.925 -6.908 1.232 -8.041 L-0.055 -8.041 Q0.55 -6.842 0.836 -5.566 Q1.122 -4.29 1.122 -2.97 Q1.122 -1.672 0.8305 -0.4235 Q0.539 0.825 -0.066 1.991 ZM3.19 1.991 L4.488 1.991 Q4.851 1.474 5.126 0.847 Q5.401 0.22 5.5825 -0.4455 Q5.764 -1.111 5.852 -1.7875 Q5.94 -2.464 5.94 -3.08 Q5.94 -4.378 5.5605 -5.643 Q5.181 -6.908 4.488 -8.041 L3.201 -8.041 Q3.806 -6.842 4.092 -5.566 Q4.378 -4.29 4.378 -2.97 Q4.378 -1.672 4.0865 -0.4235 Q3.795 0.825 3.19 1.991 ZM6.446 1.991 L7.744 1.991 Q8.107 1.474 8.382 0.847 Q8.657 0.22 8.8385 -0.4455 Q9.02 -1.111 9.108 -1.7875 Q9.196 -2.464 9.196 -3.08 Q9.196 -4.378 8.8165 -5.643 Q8.437 -6.908 7.744 -8.041 L6.457 -8.041 Q7.062 -6.842 7.348 -5.566 Q7.634 -4.29 7.634 -2.97 Q7.634 -1.672 7.3425 -0.4235 Q7.051 0.825 6.446 1.991 ZM12.716 -8.041 L9.658 0.176 L10.901 0.176 L13.97 -8.041 Z\"\n",
       "    /></g\n",
       "    ><g transform=\"translate(550,25)\" style=\"font-size:11px; text-rendering:geometricPrecision; image-rendering:optimizeQuality; color-rendering:optimizeQuality; font-family:'mwb_cmmi10'; color-interpolation:linearRGB; font-weight:bold;\"\n",
       "    ><path style=\"stroke:none;\" d=\"M1.1094 -0.1875 Q1.1094 -0.25 1.1562 -0.3594 Q1.4688 -1 1.7344 -1.6172 Q2 -2.2344 2.2109 -2.8203 Q2.4219 -3.4062 2.5938 -4.0625 L1.8906 -4.0625 Q1.8906 -4.0625 1.8438 -3.8125 Q1.7969 -3.5625 1.5625 -3.1719 Q1.5312 -3.125 0.5 -3.125 L0.3594 -3.125 Q0.2656 -3.125 0.2656 -3.2344 Q0.2656 -3.25 0.2812 -3.2969 Q0.6406 -3.9062 1.0547 -4.3281 Q1.4688 -4.75 1.9844 -4.75 L5.9688 -4.75 Q7.0781 -4.75 7.1641 -4.6719 Q7.25 -4.5938 7.25 -4.4688 Q7.25 -4.2969 7.1328 -4.1797 Q7.0156 -4.0625 5.8594 -4.0625 L5.4531 -4.0625 Q5.2812 -3.2031 5.2656 -2.375 Q5.2656 -1.3125 5.625 -0.4688 Q5.6562 -0.3906 5.6562 -0.3281 Q5.6562 -0.2031 5.5859 -0.1016 Q5.5156 0 5.4062 0.0625 Q5.2969 0.125 4.1719 0.125 Q3.8906 0.125 3.7812 -0.3516 Q3.6719 -0.8281 3.6719 -1.2656 Q3.6719 -1.8906 3.7812 -2.4766 Q3.8906 -3.0625 4.125 -4.0625 L3.9219 -4.0625 Q3.0625 -0.5312 2.875 -0.1719 Q2.7188 0.125 1.4531 0.125 Q1.3125 0.125 1.2109 0.0391 Q1.1094 -0.0469 1.1094 -0.1875 Z\"\n",
       "    /></g\n",
       "    ><g style=\"stroke-linecap:butt; fill:rgb(0,114,189); text-rendering:geometricPrecision; image-rendering:optimizeQuality; color-rendering:optimizeQuality; stroke-linejoin:round; stroke:rgb(0,114,189); color-interpolation:linearRGB; stroke-width:0.5;\"\n",
       "    ><path d=\"M73 202.5 L74.0023 176.3404 L75.0046 151.2192 L76.0069 128.1015 L77.0092 107.8111 L78.0115 90.9751 L79.0139 77.9847 L80.0162 68.9747 L81.0185 63.8248 L82.0208 62.1798 L83.0231 63.4892 L84.0254 67.0598 L85.0277 72.1182 L86.03 77.8768 L87.0323 83.5973 L88.0346 88.6467 L89.0369 92.5409 L90.0393 94.9727 L91.0416 95.8224 L92.0439 95.1505 L93.0462 93.1753 L94.0485 90.2362 L95.0508 86.7488 L96.0531 83.1556 L97.0554 79.8775 L98.0577 77.2703 L99.06 75.5911 L100.0624 74.9769 L101.0647 75.4368 L102.067 76.8581 L103.0693 79.0257 L104.0716 81.6505 L105.0739 84.4054 L106.0762 86.9632 L107.0785 89.0331 L108.0808 90.3918 L109.0831 90.9062 L110.0855 90.5448 L111.0878 89.378 L112.0901 87.5671 L113.0924 85.343 L114.0947 82.9784 L115.097 80.7552 L116.0993 78.9328 L117.1016 77.7181 L118.1039 77.2438 L119.1062 77.5537 L120.1086 78.5996 L121.1108 80.248 L122.1132 82.2968 L123.1155 84.4989 L124.1178 86.5914 L125.1201 88.3263 L126.1224 89.4987 L127.1247 89.9704 L128.127 89.686 L129.1293 88.6788 L130.1317 87.0676 L131.1339 85.0424 L132.1363 82.8432 L133.1386 80.7318 L134.1409 78.9621 L135.1432 77.75 L136.1455 77.2481 L137.1478 77.5268 L138.1501 78.5655 L139.1524 80.2529 L140.1547 82.3986 L141.157 84.7539 L142.1593 87.0396 L143.1617 88.9776 L144.164 90.3237 L145.1663 90.8969 L146.1686 90.6026 L147.1709 89.4463 L148.1732 87.5365 L149.1755 85.0756 L150.1778 82.3401 L151.1801 79.6514 L152.1824 77.3403 L153.1848 75.7088 L154.1871 74.9936 L155.1894 75.3352 L156.1917 76.756 L157.194 79.1509 L158.1963 82.2913 L159.1986 85.8432 L160.2009 89.3985 L161.2032 92.5156 L162.2056 94.7674 L163.2079 95.791 L164.2102 95.334 L165.2125 93.2938 L166.2148 89.7437 L167.2171 84.9443 L168.2194 79.3374 L169.2217 73.5223 L170.224 68.2159 L171.2263 64.1992 L172.2286 62.2553 L173.2309 63.1035 L174.2333 67.3355 L175.2356 75.3594 L176.2379 87.3572 L177.2402 103.2587 L178.2425 122.7356 L179.2448 145.2169 L180.2471 169.9232 L181.2494 195.9189 L182.2517 222.1772 L183.254 247.6525 L184.2563 271.3549 L185.2587 292.4195 L186.261 310.1655 L187.2633 324.1401 L188.2656 334.1436 L189.2679 340.2339 L190.2702 342.7103 L191.2725 342.0791 L192.2748 339.0033 L193.2771 334.2425 L194.2794 328.5867 L195.2818 322.7924 L196.2841 317.5234 L197.2864 313.3044 L198.2887 310.4884 L199.291 309.2421 L200.2933 309.5484 L201.2956 311.2256 L202.2979 313.9605 L203.3002 317.3522 L204.3025 320.96 L205.3049 324.3534 L206.3072 327.1568 L207.3095 329.0857 L208.3118 329.972 L209.3141 329.7747 L210.3164 328.5771 L211.3187 326.5713 L212.321 324.031 L213.3233 321.2773 L214.3256 318.6409 L215.3279 316.425 L216.3302 314.8722 L217.3326 314.1397 L218.3349 314.2849 L219.3372 315.2622 L220.3395 316.9315 L221.3418 319.0767 L222.3441 321.4328 L223.3464 323.7171 L224.3487 325.6617 L225.351 327.0439 L226.3533 327.711 L227.3557 327.5963 L228.358 326.725 L229.3603 325.2105 L230.3626 323.2399 L231.3649 321.0516 L232.3672 318.9073 L233.3695 317.0617 L234.3718 315.7328 L235.3741 315.0773 L236.3764 315.1723 L237.3788 316.0067 L238.3811 317.4823 L239.3834 319.425 L240.3857 321.6049 L241.388 323.7629 L242.3903 325.6403 L243.3926 327.0089 L244.3949 327.6984 L245.3972 327.6165 L246.3995 326.7608 L247.4018 325.2206 L248.4042 323.168 L249.4065 320.8395 L250.4088 318.5097 L251.4111 316.4601 L252.4134 314.9461 L253.4157 314.1671 L254.418 314.241 L255.4203 315.188 L256.4226 316.925 L257.425 319.2716 L258.4272 321.9674 L259.4296 324.6991 L260.4319 327.1347 L261.4342 328.9614 L262.4365 329.923 L263.4388 329.8526 L264.4411 328.6968 L265.4434 326.5287 L266.4457 323.547 L267.448 320.0619 L268.4503 316.4666 L269.4527 313.1985 L270.455 310.693 L271.4573 309.3336 L272.4596 309.4044 L273.4619 311.0485 L274.4642 314.2383 L275.4665 318.76 L276.4688 324.2156 L277.4711 330.0421 L278.4734 335.5473 L279.4757 339.9609 L280.4781 342.4941 L281.4804 342.4054 L282.4827 339.0657 L283.485 332.0162 L284.4873 321.0154 L285.4896 306.0691 L286.4919 287.4415 L287.4942 265.6456 L288.4965 241.4129 L289.4988 215.6456 L290.5012 189.3544 L291.5035 163.5871 L292.5058 139.3544 L293.5081 117.5585 L294.5104 98.9309 L295.5127 83.9846 L296.515 72.9838 L297.5173 65.9343 L298.5196 62.5946 L299.5219 62.5059 L300.5243 65.0391 L301.5266 69.4527 L302.5289 74.958 L303.5312 80.7844 L304.5335 86.24 L305.5358 90.7617 L306.5381 93.9515 L307.5404 95.5956 L308.5427 95.6663 L309.545 94.307 L310.5473 91.8015 L311.5497 88.5334 L312.552 84.9381 L313.5543 81.453 L314.5566 78.4713 L315.5589 76.3032 L316.5612 75.1474 L317.5635 75.077 L318.5658 76.0386 L319.5681 77.8653 L320.5704 80.3009 L321.5728 83.0326 L322.575 85.7284 L323.5774 88.075 L324.5797 89.812 L325.582 90.759 L326.5843 90.8329 L327.5866 90.0539 L328.5889 88.54 L329.5912 86.4903 L330.5935 84.1605 L331.5959 81.832 L332.5981 79.7794 L333.6005 78.2392 L334.6028 77.3835 L335.6051 77.3016 L336.6074 77.9911 L337.6097 79.3597 L338.612 81.2371 L339.6143 83.3951 L340.6166 85.575 L341.6189 87.5177 L342.6212 88.9932 L343.6236 89.8277 L344.6259 89.9227 L345.6282 89.2672 L346.6305 87.9383 L347.6328 86.0927 L348.6351 83.9484 L349.6374 81.7601 L350.6397 79.7895 L351.642 78.275 L352.6443 77.4038 L353.6466 77.289 L354.649 77.9561 L355.6513 79.3384 L356.6536 81.2829 L357.6559 83.5672 L358.6582 85.9233 L359.6605 88.0685 L360.6628 89.7377 L361.6651 90.7151 L362.6674 90.8603 L363.6697 90.1278 L364.6721 88.575 L365.6744 86.3591 L366.6767 83.7227 L367.679 80.969 L368.6813 78.4287 L369.6836 76.4229 L370.6859 75.2253 L371.6882 75.028 L372.6905 75.9143 L373.6928 77.8432 L374.6952 80.6466 L375.6974 84.04 L376.6998 87.6478 L377.7021 91.0395 L378.7044 93.7744 L379.7067 95.4516 L380.709 95.7579 L381.7113 94.5116 L382.7136 91.6956 L383.7159 87.4766 L384.7182 82.2076 L385.7206 76.4133 L386.7229 70.7575 L387.7252 65.9967 L388.7275 62.9209 L389.7298 62.2897 L390.7321 64.7661 L391.7344 70.8564 L392.7367 80.8599 L393.739 94.8345 L394.7413 112.5805 L395.7437 133.6451 L396.746 157.3475 L397.7483 182.8228 L398.7506 209.0811 L399.7529 235.0768 L400.7552 259.7831 L401.7575 282.2644 L402.7598 301.7413 L403.7621 317.6428 L404.7644 329.6406 L405.7668 337.6645 L406.769 341.8965 L407.7714 342.7447 L408.7737 340.8008 L409.776 336.7841 L410.7783 331.4777 L411.7806 325.6626 L412.7829 320.0557 L413.7852 315.2563 L414.7875 311.7062 L415.7898 309.666 L416.7921 309.209 L417.7945 310.2326 L418.7968 312.4844 L419.7991 315.6015 L420.8014 319.1568 L421.8037 322.7087 L422.806 325.8492 L423.8083 328.244 L424.8106 329.6648 L425.8129 330.0063 L426.8152 329.2912 L427.8176 327.6597 L428.8199 325.3486 L429.8222 322.6599 L430.8245 319.9244 L431.8268 317.4635 L432.8291 315.5537 L433.8314 314.3974 L434.8337 314.1031 L435.836 314.6763 L436.8383 316.0224 L437.8406 317.9604 L438.843 320.2461 L439.8453 322.6014 L440.8476 324.7471 L441.8499 326.4345 L442.8522 327.4732 L443.8545 327.752 L444.8568 327.25 L445.8591 326.0379 L446.8614 324.2682 L447.8637 322.1568 L448.8661 319.9576 L449.8683 317.9324 L450.8707 316.3212 L451.873 315.314 L452.8753 315.0296 L453.8776 315.5013 L454.8799 316.6737 L455.8822 318.4086 L456.8845 320.5011 L457.8868 322.7032 L458.8892 324.752 L459.8914 326.4005 L460.8938 327.4464 L461.8961 327.7562 L462.8984 327.2819 L463.9007 326.0672 L464.903 324.2448 L465.9053 322.0216 L466.9076 319.657 L467.9099 317.4329 L468.9123 315.622 L469.9146 314.4552 L470.9169 314.0938 L471.9192 314.6082 L472.9215 315.9669 L473.9238 318.0368 L474.9261 320.5946 L475.9284 323.3495 L476.9307 325.9743 L477.933 328.1419 L478.9353 329.5632 L479.9377 330.023 L480.9399 329.4088 L481.9423 327.7297 L482.9446 325.1225 L483.9469 321.8444 L484.9492 318.2512 L485.9515 314.7638 L486.9538 311.8246 L487.9561 309.8495 L488.9584 309.1776 L489.9607 310.0273 L490.963 312.4591 L491.9654 316.3533 L492.9677 321.4027 L493.97 327.1232 L494.9723 332.8818 L495.9746 337.9402 L496.9769 341.5108 L497.9792 342.8202 L498.9815 341.1752 L499.9838 336.0253 L500.9861 327.0154 L501.9885 314.0249 L502.9908 297.1889 L503.9931 276.8985 L504.9954 253.7808 L505.9977 228.6596 L507 202.5\" style=\"fill:none; fill-rule:evenodd;\"\n",
       "    /></g\n",
       "  ></g\n",
       "></svg\n",
       ">\n"
      ]
     },
     "metadata": {},
     "output_type": "display_data"
    }
   ],
   "source": [
    "ezplot(ft_num),grid"
   ]
  },
  {
   "cell_type": "markdown",
   "metadata": {
    "slideshow": {
     "slide_type": "subslide"
    }
   },
   "source": [
    "Plot original signal (we could use `heaviside` for this as well)"
   ]
  },
  {
   "cell_type": "code",
   "execution_count": 9,
   "metadata": {
    "slideshow": {
     "slide_type": "fragment"
    }
   },
   "outputs": [
    {
     "data": {
      "image/svg+xml": [
       "<?xml version=\"1.0\"?>\n",
       "<!DOCTYPE svg PUBLIC '-//W3C//DTD SVG 1.0//EN'\n",
       "          'http://www.w3.org/TR/2001/REC-SVG-20010904/DTD/svg10.dtd'>\n",
       "<svg xmlns:xlink=\"http://www.w3.org/1999/xlink\" style=\"fill-opacity:1; color-rendering:auto; color-interpolation:auto; text-rendering:auto; stroke:black; stroke-linecap:square; stroke-miterlimit:10; shape-rendering:auto; stroke-opacity:1; fill:black; stroke-dasharray:none; font-weight:normal; stroke-width:1; font-family:'Dialog'; font-style:normal; stroke-linejoin:miter; font-size:12px; stroke-dashoffset:0; image-rendering:auto;\" width=\"560\" height=\"420\" xmlns=\"http://www.w3.org/2000/svg\"\n",
       "><!--Generated by the Batik Graphics2D SVG Generator--><defs id=\"genericDefs\"\n",
       "  /><g\n",
       "  ><defs id=\"defs1\"\n",
       "    ><clipPath clipPathUnits=\"userSpaceOnUse\" id=\"clipPath1\"\n",
       "      ><path d=\"M0 0 L560 0 L560 420 L0 420 L0 0 Z\"\n",
       "      /></clipPath\n",
       "      ><font horiz-adv-x=\"50.0\" id=\"font1\"\n",
       "      ><font-face ascent=\"95.200005\" descent=\"21.3\" units-per-em=\"100\" style=\"font-style:normal; font-family:Helvetica Neue; font-weight:normal;\"\n",
       "        /><missing-glyph horiz-adv-x=\"50.0\" d=\"M40.9 66.6 L10.2 66.6 L10.2 4.7 L40.9 4.7 ZM46 71.2 L46 0.1 L5.1 0.1 L5.1 71.2 Z\"\n",
       "        /><glyph unicode=\"6\" horiz-adv-x=\"55.6\" d=\"M41.4 52.8 L49.9 52.8 Q49.1 61.6 43.9 66.25 Q38.7 70.9 29.9 70.9 Q22.3 70.9 17.3 67.7 Q12.3 64.5 9.3 59.2 Q6.3 53.9 5.05 47.05 Q3.8 40.2 3.8 32.9 Q3.8 27.3 4.65 21.3 Q5.5 15.3 8.1 10.3 Q10.7 5.3 15.5 2.1 Q20.3 -1.1 28.2 -1.1 Q34.9 -1.1 39.45 1.15 Q44 3.4 46.75 6.85 Q49.5 10.3 50.7 14.5 Q51.9 18.7 51.9 22.6 Q51.9 27.5 50.4 31.7 Q48.9 35.9 46.15 39 Q43.4 42.1 39.35 43.85 Q35.3 45.6 30.2 45.6 Q24.4 45.6 19.95 43.4 Q15.5 41.2 12.5 36.3 L12.3 36.5 Q12.4 40.6 13.1 45.3 Q13.8 50 15.65 54.05 Q17.5 58.1 20.8 60.75 Q24.1 63.4 29.5 63.4 Q34.6 63.4 37.7 60.5 Q40.8 57.6 41.4 52.8 ZM28.6 38.1 Q32.2 38.1 34.9 36.8 Q37.6 35.5 39.4 33.35 Q41.2 31.2 42.05 28.25 Q42.9 25.3 42.9 22 Q42.9 18.9 41.95 16.05 Q41 13.2 39.2 11 Q37.4 8.8 34.75 7.55 Q32.1 6.3 28.6 6.3 Q25.1 6.3 22.35 7.55 Q19.6 8.8 17.75 10.9 Q15.9 13 14.9 15.9 Q13.9 18.8 13.9 22.1 Q13.9 25.4 14.85 28.35 Q15.8 31.3 17.7 33.45 Q19.6 35.6 22.3 36.85 Q25 38.1 28.6 38.1 Z\"\n",
       "        /><glyph unicode=\"-\" horiz-adv-x=\"38.9\" d=\"M5 31.8 L5 23.8 L33.9 23.8 L33.9 31.8 Z\"\n",
       "        /><glyph unicode=\"4\" horiz-adv-x=\"55.6\" d=\"M33.9 24.1 L10.1 24.1 L33.7 58.8 L33.9 58.8 ZM41.9 24.1 L41.9 70.9 L35.1 70.9 L2.8 24.8 L2.8 16.6 L33.9 16.6 L33.9 0 L41.9 0 L41.9 16.6 L51.5 16.6 L51.5 24.1 Z\"\n",
       "        /><glyph unicode=\"2\" horiz-adv-x=\"55.6\" d=\"M4.4 45.8 L12.9 45.8 Q12.8 49 13.55 52.15 Q14.3 55.3 16 57.8 Q17.7 60.3 20.35 61.85 Q23 63.4 26.7 63.4 Q29.5 63.4 32 62.5 Q34.5 61.6 36.35 59.9 Q38.2 58.2 39.3 55.85 Q40.4 53.5 40.4 50.6 Q40.4 46.9 39.25 44.1 Q38.1 41.3 35.85 38.9 Q33.6 36.5 30.2 34.15 Q26.8 31.8 22.3 29 Q18.6 26.8 15.2 24.3 Q11.8 21.8 9.1 18.5 Q6.4 15.2 4.65 10.75 Q2.9 6.3 2.4 0 L48.7 0 L48.7 7.5 L12.3 7.5 Q12.9 10.8 14.85 13.35 Q16.8 15.9 19.55 18.1 Q22.3 20.3 25.6 22.25 Q28.9 24.2 32.2 26.2 Q35.5 28.3 38.6 30.6 Q41.7 32.9 44.1 35.75 Q46.5 38.6 47.95 42.2 Q49.4 45.8 49.4 50.5 Q49.4 55.5 47.65 59.3 Q45.9 63.1 42.9 65.65 Q39.9 68.2 35.85 69.55 Q31.8 70.9 27.2 70.9 Q21.6 70.9 17.2 69 Q12.8 67.1 9.85 63.75 Q6.9 60.4 5.5 55.8 Q4.1 51.2 4.4 45.8 Z\"\n",
       "        /><glyph unicode=\"0\" horiz-adv-x=\"55.6\" d=\"M13.2 34.9 Q13.2 37.5 13.25 40.65 Q13.3 43.8 13.75 46.95 Q14.2 50.1 15.05 53.1 Q15.9 56.1 17.55 58.35 Q19.2 60.6 21.7 62 Q24.2 63.4 27.8 63.4 Q31.4 63.4 33.9 62 Q36.4 60.6 38.05 58.35 Q39.7 56.1 40.55 53.1 Q41.4 50.1 41.85 46.95 Q42.3 43.8 42.35 40.65 Q42.4 37.5 42.4 34.9 Q42.4 30.9 42.15 25.95 Q41.9 21 40.55 16.65 Q39.2 12.3 36.2 9.3 Q33.2 6.3 27.8 6.3 Q22.4 6.3 19.4 9.3 Q16.4 12.3 15.05 16.65 Q13.7 21 13.45 25.95 Q13.2 30.9 13.2 34.9 ZM4.2 34.8 Q4.2 30.9 4.4 26.7 Q4.6 22.5 5.4 18.5 Q6.2 14.5 7.7 10.95 Q9.2 7.4 11.8 4.7 Q14.4 2 18.35 0.45 Q22.3 -1.1 27.8 -1.1 Q33.4 -1.1 37.3 0.45 Q41.2 2 43.8 4.7 Q46.4 7.4 47.9 10.95 Q49.4 14.5 50.2 18.5 Q51 22.5 51.2 26.7 Q51.4 30.9 51.4 34.8 Q51.4 38.7 51.2 42.9 Q51 47.1 50.2 51.1 Q49.4 55.1 47.9 58.7 Q46.4 62.3 43.8 65 Q41.2 67.7 37.25 69.3 Q33.3 70.9 27.8 70.9 Q22.3 70.9 18.35 69.3 Q14.4 67.7 11.8 65 Q9.2 62.3 7.7 58.7 Q6.2 55.1 5.4 51.1 Q4.6 47.1 4.4 42.9 Q4.2 38.7 4.2 34.8 Z\"\n",
       "        /><glyph unicode=\"t\" horiz-adv-x=\"31.5\" d=\"M18.2 51.7 L18.2 67.2 L9.7 67.2 L9.7 51.7 L0.9 51.7 L0.9 44.2 L9.7 44.2 L9.7 11.3 Q9.7 7.7 10.4 5.5 Q11.1 3.3 12.55 2.1 Q14 0.9 16.35 0.45 Q18.7 0 22 0 L28.5 0 L28.5 7.5 L24.6 7.5 Q22.6 7.5 21.35 7.65 Q20.1 7.8 19.4 8.3 Q18.7 8.8 18.45 9.7 Q18.2 10.6 18.2 12.1 L18.2 44.2 L28.5 44.2 L28.5 51.7 Z\"\n",
       "        /><glyph unicode=\"1\" horiz-adv-x=\"55.6\" d=\"M35.6 0 L35.6 70.9 L29.1 70.9 Q28.4 66.9 26.5 64.3 Q24.6 61.7 21.85 60.2 Q19.1 58.7 15.7 58.15 Q12.3 57.6 8.7 57.6 L8.7 50.8 L27.1 50.8 L27.1 0 Z\"\n",
       "        /><glyph unicode=\"5\" horiz-adv-x=\"55.6\" d=\"M47 62.2 L47 69.7 L12 69.7 L5.4 32.9 L12.7 32.5 Q15.2 35.5 18.45 37.35 Q21.7 39.2 25.9 39.2 Q29.5 39.2 32.45 38 Q35.4 36.8 37.5 34.65 Q39.6 32.5 40.75 29.55 Q41.9 26.6 41.9 23.1 Q41.9 18.9 40.7 15.75 Q39.5 12.6 37.45 10.5 Q35.4 8.4 32.65 7.35 Q29.9 6.3 26.9 6.3 Q23.7 6.3 21.05 7.25 Q18.4 8.2 16.45 9.95 Q14.5 11.7 13.35 14.05 Q12.2 16.4 12 19.1 L3.5 19.1 Q3.6 14.3 5.4 10.5 Q7.2 6.7 10.3 4.15 Q13.4 1.6 17.45 0.25 Q21.5 -1.1 26.1 -1.1 Q32.3 -1.1 36.95 0.85 Q41.6 2.8 44.7 6.1 Q47.8 9.4 49.35 13.65 Q50.9 17.9 50.9 22.4 Q50.9 28.5 49.1 33.05 Q47.3 37.6 44.2 40.65 Q41.1 43.7 36.9 45.2 Q32.7 46.7 28 46.7 Q24.4 46.7 20.75 45.45 Q17.1 44.2 14.8 41.6 L14.6 41.8 L18.4 62.2 Z\"\n",
       "        /><glyph unicode=\".\" horiz-adv-x=\"27.8\" d=\"M8.3 11.1 L8.3 0 L19.4 0 L19.4 11.1 Z\"\n",
       "      /></font\n",
       "      ><font horiz-adv-x=\"50.0\" id=\"font2\"\n",
       "      ><font-face ascent=\"97.5\" descent=\"21.699999\" units-per-em=\"100\" style=\"font-style:normal; font-family:Helvetica Neue; font-weight:bold;\"\n",
       "        /><missing-glyph horiz-adv-x=\"50.0\" d=\"M39.1 60.7 L11.1 60.7 L11.1 9.5 L39.1 9.5 ZM48.2 69.8 L48.2 0.3 L1.7 0.3 L1.7 69.8 Z\"\n",
       "        /><glyph unicode=\"w\" horiz-adv-x=\"81.4\" d=\"M64.5 0 L80.8 51.7 L66.2 51.7 L56.7 16.7 L56.5 16.7 L47.7 51.7 L33.9 51.7 L25.3 16.6 L25.1 16.6 L15.6 51.7 L0.6 51.7 L17 0 L31.7 0 L40.5 34.7 L40.7 34.7 L49.9 0 Z\"\n",
       "        /><glyph unicode=\"i\" horiz-adv-x=\"25.8\" d=\"M20 59.7 L20 71.4 L5.8 71.4 L5.8 59.7 ZM5.8 51.7 L5.8 0 L20 0 L20 51.7 Z\"\n",
       "        /><glyph unicode=\"m\" horiz-adv-x=\"90.6\" d=\"M5.8 51.7 L5.8 0 L20 0 L20 30 Q20 33.8 21.1 36.15 Q22.2 38.5 23.75 39.75 Q25.3 41 26.95 41.45 Q28.6 41.9 29.6 41.9 Q33 41.9 34.75 40.75 Q36.5 39.6 37.25 37.7 Q38 35.8 38.1 33.55 Q38.2 31.3 38.2 29 L38.2 0 L52.4 0 L52.4 28.8 Q52.4 31.2 52.75 33.55 Q53.1 35.9 54.15 37.75 Q55.2 39.6 57.05 40.75 Q58.9 41.9 61.9 41.9 Q64.9 41.9 66.65 40.9 Q68.4 39.9 69.3 38.2 Q70.2 36.5 70.4 34.2 Q70.6 31.9 70.6 29.3 L70.6 0 L84.8 0 L84.8 34.6 Q84.8 39.6 83.4 43.15 Q82 46.7 79.5 48.9 Q77 51.1 73.5 52.1 Q70 53.1 65.9 53.1 Q60.5 53.1 56.55 50.5 Q52.6 47.9 50.3 44.5 Q48.2 49.3 44.15 51.2 Q40.1 53.1 35.2 53.1 Q30.1 53.1 26.15 50.9 Q22.2 48.7 19.4 44.7 L19.2 44.7 L19.2 51.7 Z\"\n",
       "        /><glyph unicode=\"f\" horiz-adv-x=\"33.3\" d=\"M8.5 42.2 L8.5 0 L22.7 0 L22.7 42.2 L32.5 42.2 L32.5 51.7 L22.7 51.7 L22.7 54.8 Q22.7 58 23.95 59.35 Q25.2 60.7 28.1 60.7 Q30.8 60.7 33.3 60.4 L33.3 71 Q31.5 71.1 29.6 71.25 Q27.7 71.4 25.8 71.4 Q17.1 71.4 12.8 67 Q8.5 62.6 8.5 55.7 L8.5 51.7 L0 51.7 L0 42.2 Z\"\n",
       "        /><glyph unicode=\"d\" horiz-adv-x=\"61.1\" d=\"M42.1 26 Q42.1 22.8 41.5 19.8 Q40.9 16.8 39.5 14.45 Q38.1 12.1 35.75 10.7 Q33.4 9.3 29.9 9.3 Q26.6 9.3 24.25 10.75 Q21.9 12.2 20.35 14.55 Q18.8 16.9 18.1 19.9 Q17.4 22.9 17.4 25.9 Q17.4 29.1 18.05 32.05 Q18.7 35 20.15 37.3 Q21.6 39.6 24 41 Q26.4 42.4 29.9 42.4 Q33.4 42.4 35.7 41 Q38 39.6 39.45 37.35 Q40.9 35.1 41.5 32.15 Q42.1 29.2 42.1 26 ZM42.3 6.6 L42.3 0 L55.8 0 L55.8 71.4 L41.6 71.4 L41.6 45.4 L41.4 45.4 Q39 49.2 34.85 51.15 Q30.7 53.1 26.1 53.1 Q20.4 53.1 16.1 50.85 Q11.8 48.6 8.95 44.9 Q6.1 41.2 4.65 36.35 Q3.2 31.5 3.2 26.3 Q3.2 20.9 4.65 15.9 Q6.1 10.9 8.95 7.05 Q11.8 3.2 16.2 0.95 Q20.6 -1.3 26.4 -1.3 Q31.5 -1.3 35.55 0.55 Q39.6 2.4 42.1 6.6 Z\"\n",
       "        /><glyph unicode=\"t\" horiz-adv-x=\"35.2\" d=\"M23.4 51.7 L23.4 67.2 L9.2 67.2 L9.2 51.7 L0.6 51.7 L0.6 42.2 L9.2 42.2 L9.2 11.7 Q9.2 7.8 10.5 5.4 Q11.8 3 14.05 1.7 Q16.3 0.4 19.25 -0.05 Q22.2 -0.5 25.5 -0.5 Q27.6 -0.5 29.8 -0.4 Q32 -0.3 33.8 0 L33.8 11 Q32.8 10.8 31.7 10.7 Q30.6 10.6 29.4 10.6 Q25.8 10.6 24.6 11.8 Q23.4 13 23.4 16.6 L23.4 42.2 L33.8 42.2 L33.8 51.7 Z\"\n",
       "        /><glyph unicode=\"s\" horiz-adv-x=\"53.7\" d=\"M16.4 16.8 L2.9 16.8 Q3.1 11.6 5.25 8.15 Q7.4 4.7 10.75 2.6 Q14.1 0.5 18.4 -0.4 Q22.7 -1.3 27.2 -1.3 Q31.6 -1.3 35.85 -0.45 Q40.1 0.4 43.4 2.5 Q46.7 4.6 48.75 8.05 Q50.8 11.5 50.8 16.6 Q50.8 20.2 49.4 22.65 Q48 25.1 45.7 26.75 Q43.4 28.4 40.45 29.4 Q37.5 30.4 34.4 31.1 Q31.4 31.8 28.5 32.4 Q25.6 33 23.35 33.75 Q21.1 34.5 19.7 35.7 Q18.3 36.9 18.3 38.8 Q18.3 40.4 19.1 41.35 Q19.9 42.3 21.05 42.8 Q22.2 43.3 23.6 43.45 Q25 43.6 26.2 43.6 Q30 43.6 32.8 42.15 Q35.6 40.7 35.9 36.6 L49.4 36.6 Q49 41.4 46.95 44.55 Q44.9 47.7 41.8 49.6 Q38.7 51.5 34.75 52.3 Q30.8 53.1 26.6 53.1 Q22.4 53.1 18.4 52.35 Q14.4 51.6 11.2 49.75 Q8 47.9 6.05 44.7 Q4.1 41.5 4.1 36.5 Q4.1 33.1 5.5 30.75 Q6.9 28.4 9.2 26.85 Q11.5 25.3 14.45 24.35 Q17.4 23.4 20.5 22.7 Q28.1 21.1 32.35 19.5 Q36.6 17.9 36.6 14.7 Q36.6 12.8 35.7 11.55 Q34.8 10.3 33.45 9.55 Q32.1 8.8 30.45 8.45 Q28.8 8.1 27.3 8.1 Q25.2 8.1 23.25 8.6 Q21.3 9.1 19.8 10.15 Q18.3 11.2 17.35 12.85 Q16.4 14.5 16.4 16.8 Z\"\n",
       "        /><glyph unicode=\"n\" horiz-adv-x=\"59.3\" d=\"M5.4 51.7 L5.4 0 L19.6 0 L19.6 27.1 Q19.6 35 22.2 38.45 Q24.8 41.9 30.6 41.9 Q35.7 41.9 37.7 38.75 Q39.7 35.6 39.7 29.2 L39.7 0 L53.9 0 L53.9 31.8 Q53.9 36.6 53.05 40.55 Q52.2 44.5 50.1 47.25 Q48 50 44.35 51.55 Q40.7 53.1 35 53.1 Q30.5 53.1 26.2 51.05 Q21.9 49 19.2 44.5 L18.9 44.5 L18.9 51.7 Z\"\n",
       "        /><glyph unicode=\"o\" horiz-adv-x=\"61.1\" d=\"M18 25.8 Q18 28.9 18.6 31.9 Q19.2 34.9 20.65 37.2 Q22.1 39.5 24.5 40.95 Q26.9 42.4 30.5 42.4 Q34.1 42.4 36.55 40.95 Q39 39.5 40.45 37.2 Q41.9 34.9 42.5 31.9 Q43.1 28.9 43.1 25.8 Q43.1 22.7 42.5 19.75 Q41.9 16.8 40.45 14.45 Q39 12.1 36.55 10.7 Q34.1 9.3 30.5 9.3 Q26.9 9.3 24.5 10.7 Q22.1 12.1 20.65 14.45 Q19.2 16.8 18.6 19.75 Q18 22.7 18 25.8 ZM3.8 25.8 Q3.8 19.6 5.7 14.6 Q7.6 9.6 11.1 6.05 Q14.6 2.5 19.5 0.6 Q24.4 -1.3 30.5 -1.3 Q36.6 -1.3 41.55 0.6 Q46.5 2.5 50 6.05 Q53.5 9.6 55.4 14.6 Q57.3 19.6 57.3 25.8 Q57.3 32 55.4 37.05 Q53.5 42.1 50 45.65 Q46.5 49.2 41.55 51.15 Q36.6 53.1 30.5 53.1 Q24.4 53.1 19.5 51.15 Q14.6 49.2 11.1 45.65 Q7.6 42.1 5.7 37.05 Q3.8 32 3.8 25.8 Z\"\n",
       "        /><glyph unicode=\"c\" horiz-adv-x=\"57.4\" d=\"M40.6 33.5 L54.5 33.5 Q54.2 38.5 52.1 42.15 Q50 45.8 46.65 48.25 Q43.3 50.7 39.05 51.9 Q34.8 53.1 30.2 53.1 Q23.9 53.1 19 51 Q14.1 48.9 10.7 45.15 Q7.3 41.4 5.55 36.25 Q3.8 31.1 3.8 25.1 Q3.8 19.3 5.7 14.45 Q7.6 9.6 11 6.1 Q14.4 2.6 19.25 0.65 Q24.1 -1.3 29.9 -1.3 Q40.2 -1.3 46.8 4.1 Q53.4 9.5 54.8 19.8 L41.1 19.8 Q40.4 15 37.65 12.15 Q34.9 9.3 29.8 9.3 Q26.5 9.3 24.2 10.8 Q21.9 12.3 20.55 14.65 Q19.2 17 18.6 19.9 Q18 22.8 18 25.6 Q18 28.5 18.6 31.45 Q19.2 34.4 20.65 36.85 Q22.1 39.3 24.4 40.85 Q26.7 42.4 30.1 42.4 Q39.2 42.4 40.6 33.5 Z\"\n",
       "        /><glyph unicode=\"R\" horiz-adv-x=\"72.2\" d=\"M22.6 39.1 L22.6 59.2 L39.8 59.2 Q45.2 59.2 47.9 56.85 Q50.6 54.5 50.6 49.3 Q50.6 43.9 47.9 41.5 Q45.2 39.1 39.8 39.1 ZM6.9 71.4 L6.9 0 L22.6 0 L22.6 27.9 L38.3 27.9 Q44.2 27.9 46.8 25.3 Q49.4 22.7 50.2 17.1 Q50.8 12.8 51.1 8.1 Q51.4 3.4 52.7 0 L68.4 0 Q67.3 1.5 66.75 3.65 Q66.2 5.8 65.95 8.2 Q65.7 10.6 65.6 12.9 Q65.5 15.2 65.4 16.9 Q65.2 19.6 64.65 22.3 Q64.1 25 62.9 27.25 Q61.7 29.5 59.8 31.15 Q57.9 32.8 55 33.6 L55 33.8 Q61 36.2 63.65 40.8 Q66.3 45.4 66.3 51.7 Q66.3 55.8 64.85 59.35 Q63.4 62.9 60.65 65.6 Q57.9 68.3 54.05 69.85 Q50.2 71.4 45.4 71.4 Z\"\n",
       "        /><glyph unicode=\"v\" horiz-adv-x=\"52.0\" d=\"M34 0 L51.5 51.7 L37.4 51.7 L26.5 16.4 L26.3 16.4 L15.4 51.7 L0.5 51.7 L18.2 0 Z\"\n",
       "        /><glyph unicode=\"W\" horiz-adv-x=\"94.4\" d=\"M74.9 0 L94.1 71.4 L78.7 71.4 L67 22.2 L66.8 22.2 L54.6 71.4 L39.9 71.4 L27.5 22.8 L27.3 22.8 L16 71.4 L0.3 71.4 L19.2 0 L35.1 0 L47 48.6 L47.2 48.6 L59.3 0 Z\"\n",
       "        /><glyph unicode=\" \" horiz-adv-x=\"27.8\" d=\"\"\n",
       "        /><glyph unicode=\"e\" horiz-adv-x=\"57.4\" d=\"M40.2 31.4 L17.1 31.4 Q17.2 32.9 17.75 34.8 Q18.3 36.7 19.65 38.4 Q21 40.1 23.25 41.25 Q25.5 42.4 28.9 42.4 Q34.1 42.4 36.65 39.6 Q39.2 36.8 40.2 31.4 ZM17.1 22.4 L54.4 22.4 Q54.8 28.4 53.4 33.9 Q52 39.4 48.85 43.7 Q45.7 48 40.8 50.55 Q35.9 53.1 29.3 53.1 Q23.4 53.1 18.55 51 Q13.7 48.9 10.2 45.25 Q6.7 41.6 4.8 36.6 Q2.9 31.6 2.9 25.8 Q2.9 19.8 4.75 14.8 Q6.6 9.8 10 6.2 Q13.4 2.6 18.3 0.65 Q23.2 -1.3 29.3 -1.3 Q38.1 -1.3 44.3 2.7 Q50.5 6.7 53.5 16 L41 16 Q40.3 13.6 37.2 11.45 Q34.1 9.3 29.8 9.3 Q23.8 9.3 20.6 12.4 Q17.4 15.5 17.1 22.4 Z\"\n",
       "        /><glyph unicode=\"r\" horiz-adv-x=\"38.9\" d=\"M5.4 51.7 L5.4 0 L19.6 0 L19.6 23.3 Q19.6 26.8 20.3 29.8 Q21 32.8 22.65 35.05 Q24.3 37.3 27 38.6 Q29.7 39.9 33.6 39.9 Q34.9 39.9 36.3 39.75 Q37.7 39.6 38.7 39.4 L38.7 52.6 Q37 53.1 35.6 53.1 Q32.9 53.1 30.4 52.3 Q27.9 51.5 25.7 50.05 Q23.5 48.6 21.8 46.55 Q20.1 44.5 19.1 42.1 L18.9 42.1 L18.9 51.7 Z\"\n",
       "        /><glyph unicode=\"a\" horiz-adv-x=\"57.4\" d=\"M4.8 35.8 Q5.1 40.8 7.3 44.1 Q9.5 47.4 12.9 49.4 Q16.3 51.4 20.55 52.25 Q24.8 53.1 29.1 53.1 Q33 53.1 37 52.55 Q41 52 44.3 50.4 Q47.6 48.8 49.7 45.95 Q51.8 43.1 51.8 38.4 L51.8 11.5 Q51.8 8 52.2 4.8 Q52.6 1.6 53.6 0 L39.2 0 Q38.8 1.2 38.55 2.45 Q38.3 3.7 38.2 5 Q34.8 1.5 30.2 0.1 Q25.6 -1.3 20.8 -1.3 Q17.1 -1.3 13.9 -0.4 Q10.7 0.5 8.3 2.4 Q5.9 4.3 4.55 7.2 Q3.2 10.1 3.2 14.1 Q3.2 18.5 4.75 21.35 Q6.3 24.2 8.75 25.9 Q11.2 27.6 14.35 28.45 Q17.5 29.3 20.7 29.8 Q23.9 30.3 27 30.6 Q30.1 30.9 32.5 31.5 Q34.9 32.1 36.3 33.25 Q37.7 34.4 37.6 36.6 Q37.6 38.9 36.85 40.25 Q36.1 41.6 34.85 42.35 Q33.6 43.1 31.95 43.35 Q30.3 43.6 28.4 43.6 Q24.2 43.6 21.8 41.8 Q19.4 40 19 35.8 ZM37.6 25.3 Q36.7 24.5 35.35 24.05 Q34 23.6 32.45 23.3 Q30.9 23 29.2 22.8 Q27.5 22.6 25.8 22.3 Q24.2 22 22.65 21.5 Q21.1 21 19.95 20.15 Q18.8 19.3 18.1 18 Q17.4 16.7 17.4 14.7 Q17.4 12.8 18.1 11.5 Q18.8 10.2 20 9.45 Q21.2 8.7 22.8 8.4 Q24.4 8.1 26.1 8.1 Q30.3 8.1 32.6 9.5 Q34.9 10.9 36 12.85 Q37.1 14.8 37.35 16.8 Q37.6 18.8 37.6 20 Z\"\n",
       "        /><glyph unicode=\"u\" horiz-adv-x=\"59.3\" d=\"M53.9 0 L53.9 51.7 L39.7 51.7 L39.7 24.6 Q39.7 16.7 37.1 13.25 Q34.5 9.8 28.7 9.8 Q23.6 9.8 21.6 12.95 Q19.6 16.1 19.6 22.5 L19.6 51.7 L5.4 51.7 L5.4 19.9 Q5.4 15.1 6.25 11.15 Q7.1 7.2 9.2 4.45 Q11.3 1.7 14.95 0.2 Q18.6 -1.3 24.3 -1.3 Q28.8 -1.3 33.1 0.7 Q37.4 2.7 40.1 7.2 L40.4 7.2 L40.4 0 Z\"\n",
       "        /><glyph unicode=\"q\" horiz-adv-x=\"61.1\" d=\"M17.4 25.8 Q17.4 29 18.05 31.95 Q18.7 34.9 20.2 37.25 Q21.7 39.6 24.1 41 Q26.5 42.4 30 42.4 Q33.3 42.4 35.65 40.9 Q38 39.4 39.4 37 Q40.8 34.6 41.45 31.6 Q42.1 28.6 42.1 25.6 Q42.1 22.4 41.45 19.45 Q40.8 16.5 39.35 14.25 Q37.9 12 35.55 10.65 Q33.2 9.3 29.7 9.3 Q26.2 9.3 23.85 10.7 Q21.5 12.1 20.05 14.45 Q18.6 16.8 18 19.75 Q17.4 22.7 17.4 25.8 ZM55.8 -18.1 L55.8 51.7 L42.3 51.7 L42.3 45.1 L42.1 45.1 Q39.7 49.4 35.45 51.25 Q31.2 53.1 26.4 53.1 Q20.5 53.1 16.15 50.8 Q11.8 48.5 8.9 44.65 Q6 40.8 4.6 35.8 Q3.2 30.8 3.2 25.5 Q3.2 18 5.3 12.85 Q7.4 7.7 10.6 4.55 Q13.8 1.4 17.65 0.05 Q21.5 -1.3 25.1 -1.3 Q29.9 -1.3 34.4 0.5 Q38.9 2.3 41.4 6.5 L41.6 6.5 L41.6 -18.1 Z\"\n",
       "        /><glyph unicode=\"S\" horiz-adv-x=\"64.9\" d=\"M17.6 23.7 L2.4 23.7 Q2.3 17.1 4.8 12.3 Q7.3 7.5 11.55 4.4 Q15.8 1.3 21.35 -0.15 Q26.9 -1.6 32.8 -1.6 Q40.1 -1.6 45.65 0.1 Q51.2 1.8 54.95 4.85 Q58.7 7.9 60.6 12.1 Q62.5 16.3 62.5 21.2 Q62.5 27.2 59.95 31.05 Q57.4 34.9 53.9 37.2 Q50.4 39.5 46.85 40.55 Q43.3 41.6 41.3 42 Q34.6 43.7 30.45 44.8 Q26.3 45.9 23.95 47 Q21.6 48.1 20.8 49.4 Q20 50.7 20 52.8 Q20 55.1 21 56.6 Q22 58.1 23.55 59.1 Q25.1 60.1 27 60.5 Q28.9 60.9 30.8 60.9 Q33.7 60.9 36.15 60.4 Q38.6 59.9 40.5 58.7 Q42.4 57.5 43.55 55.4 Q44.7 53.3 44.9 50.1 L60.1 50.1 Q60.1 56.3 57.75 60.65 Q55.4 65 51.4 67.8 Q47.4 70.6 42.25 71.85 Q37.1 73.1 31.5 73.1 Q26.7 73.1 21.9 71.8 Q17.1 70.5 13.3 67.8 Q9.5 65.1 7.15 61.05 Q4.8 57 4.8 51.5 Q4.8 46.6 6.65 43.15 Q8.5 39.7 11.5 37.4 Q14.5 35.1 18.3 33.65 Q22.1 32.2 26.1 31.2 Q30 30.1 33.8 29.2 Q37.6 28.3 40.6 27.1 Q43.6 25.9 45.45 24.1 Q47.3 22.3 47.3 19.4 Q47.3 16.7 45.9 14.95 Q44.5 13.2 42.4 12.2 Q40.3 11.2 37.9 10.85 Q35.5 10.5 33.4 10.5 Q30.3 10.5 27.4 11.25 Q24.5 12 22.35 13.55 Q20.2 15.1 18.9 17.6 Q17.6 20.1 17.6 23.7 Z\"\n",
       "      /></font\n",
       "    ></defs\n",
       "    ><g style=\"fill:white; stroke:white;\"\n",
       "    ><rect x=\"0\" y=\"0\" width=\"560\" style=\"clip-path:url(#clipPath1); stroke:none;\" height=\"420\"\n",
       "    /></g\n",
       "    ><g style=\"fill:white; text-rendering:optimizeSpeed; color-rendering:optimizeSpeed; image-rendering:optimizeSpeed; shape-rendering:crispEdges; stroke:white; color-interpolation:sRGB;\"\n",
       "    ><rect x=\"0\" width=\"560\" height=\"420\" y=\"0\" style=\"stroke:none;\"\n",
       "      /><path style=\"stroke:none;\" d=\"M73 374 L507 374 L507 31 L73 31 Z\"\n",
       "    /></g\n",
       "    ><g style=\"stroke-linecap:butt; fill-opacity:0.149; fill:rgb(38,38,38); text-rendering:geometricPrecision; image-rendering:optimizeQuality; color-rendering:optimizeQuality; stroke-linejoin:round; stroke:rgb(38,38,38); color-interpolation:linearRGB; stroke-width:0.5; stroke-opacity:0.149;\"\n",
       "    ><line y2=\"31\" style=\"fill:none;\" x1=\"82.7803\" x2=\"82.7803\" y1=\"374\"\n",
       "      /><line y2=\"31\" style=\"fill:none;\" x1=\"151.8535\" x2=\"151.8535\" y1=\"374\"\n",
       "      /><line y2=\"31\" style=\"fill:none;\" x1=\"220.9268\" x2=\"220.9268\" y1=\"374\"\n",
       "      /><line y2=\"31\" style=\"fill:none;\" x1=\"290\" x2=\"290\" y1=\"374\"\n",
       "      /><line y2=\"31\" style=\"fill:none;\" x1=\"359.0732\" x2=\"359.0732\" y1=\"374\"\n",
       "      /><line y2=\"31\" style=\"fill:none;\" x1=\"428.1465\" x2=\"428.1465\" y1=\"374\"\n",
       "      /><line y2=\"31\" style=\"fill:none;\" x1=\"497.2197\" x2=\"497.2197\" y1=\"374\"\n",
       "      /><line y2=\"321.2848\" style=\"fill:none;\" x1=\"507\" x2=\"73\" y1=\"321.2848\"\n",
       "      /><line y2=\"261.8924\" style=\"fill:none;\" x1=\"507\" x2=\"73\" y1=\"261.8924\"\n",
       "      /><line y2=\"202.5\" style=\"fill:none;\" x1=\"507\" x2=\"73\" y1=\"202.5\"\n",
       "      /><line y2=\"143.1076\" style=\"fill:none;\" x1=\"507\" x2=\"73\" y1=\"143.1076\"\n",
       "      /><line y2=\"83.7152\" style=\"fill:none;\" x1=\"507\" x2=\"73\" y1=\"83.7152\"\n",
       "      /><line x1=\"73\" x2=\"507\" y1=\"374\" style=\"stroke-linecap:square; fill-opacity:1; fill:none; stroke-opacity:1;\" y2=\"374\"\n",
       "      /><line x1=\"73\" x2=\"507\" y1=\"31\" style=\"stroke-linecap:square; fill-opacity:1; fill:none; stroke-opacity:1;\" y2=\"31\"\n",
       "      /><line x1=\"82.7803\" x2=\"82.7803\" y1=\"374\" style=\"stroke-linecap:square; fill-opacity:1; fill:none; stroke-opacity:1;\" y2=\"369.66\"\n",
       "      /><line x1=\"151.8535\" x2=\"151.8535\" y1=\"374\" style=\"stroke-linecap:square; fill-opacity:1; fill:none; stroke-opacity:1;\" y2=\"369.66\"\n",
       "      /><line x1=\"220.9268\" x2=\"220.9268\" y1=\"374\" style=\"stroke-linecap:square; fill-opacity:1; fill:none; stroke-opacity:1;\" y2=\"369.66\"\n",
       "      /><line x1=\"290\" x2=\"290\" y1=\"374\" style=\"stroke-linecap:square; fill-opacity:1; fill:none; stroke-opacity:1;\" y2=\"369.66\"\n",
       "      /><line x1=\"359.0732\" x2=\"359.0732\" y1=\"374\" style=\"stroke-linecap:square; fill-opacity:1; fill:none; stroke-opacity:1;\" y2=\"369.66\"\n",
       "      /><line x1=\"428.1465\" x2=\"428.1465\" y1=\"374\" style=\"stroke-linecap:square; fill-opacity:1; fill:none; stroke-opacity:1;\" y2=\"369.66\"\n",
       "      /><line x1=\"497.2197\" x2=\"497.2197\" y1=\"374\" style=\"stroke-linecap:square; fill-opacity:1; fill:none; stroke-opacity:1;\" y2=\"369.66\"\n",
       "      /><line x1=\"82.7803\" x2=\"82.7803\" y1=\"31\" style=\"stroke-linecap:square; fill-opacity:1; fill:none; stroke-opacity:1;\" y2=\"35.34\"\n",
       "      /><line x1=\"151.8535\" x2=\"151.8535\" y1=\"31\" style=\"stroke-linecap:square; fill-opacity:1; fill:none; stroke-opacity:1;\" y2=\"35.34\"\n",
       "      /><line x1=\"220.9268\" x2=\"220.9268\" y1=\"31\" style=\"stroke-linecap:square; fill-opacity:1; fill:none; stroke-opacity:1;\" y2=\"35.34\"\n",
       "      /><line x1=\"290\" x2=\"290\" y1=\"31\" style=\"stroke-linecap:square; fill-opacity:1; fill:none; stroke-opacity:1;\" y2=\"35.34\"\n",
       "      /><line x1=\"359.0732\" x2=\"359.0732\" y1=\"31\" style=\"stroke-linecap:square; fill-opacity:1; fill:none; stroke-opacity:1;\" y2=\"35.34\"\n",
       "      /><line x1=\"428.1465\" x2=\"428.1465\" y1=\"31\" style=\"stroke-linecap:square; fill-opacity:1; fill:none; stroke-opacity:1;\" y2=\"35.34\"\n",
       "      /><line x1=\"497.2197\" x2=\"497.2197\" y1=\"31\" style=\"stroke-linecap:square; fill-opacity:1; fill:none; stroke-opacity:1;\" y2=\"35.34\"\n",
       "    /></g\n",
       "    ><g transform=\"translate(82.7803,378)\" style=\"font-size:10px; fill:rgb(38,38,38); text-rendering:geometricPrecision; image-rendering:optimizeQuality; color-rendering:optimizeQuality; font-family:'Helvetica Neue'; stroke:rgb(38,38,38); color-interpolation:linearRGB;\"\n",
       "    ><text x=\"-5\" xml:space=\"preserve\" y=\"10\" style=\"stroke:none;\"\n",
       "      >-6</text\n",
       "    ></g\n",
       "    ><g transform=\"translate(151.8535,378)\" style=\"font-size:10px; fill:rgb(38,38,38); text-rendering:geometricPrecision; image-rendering:optimizeQuality; color-rendering:optimizeQuality; font-family:'Helvetica Neue'; stroke:rgb(38,38,38); color-interpolation:linearRGB;\"\n",
       "    ><text x=\"-5\" xml:space=\"preserve\" y=\"10\" style=\"stroke:none;\"\n",
       "      >-4</text\n",
       "    ></g\n",
       "    ><g transform=\"translate(220.9268,378)\" style=\"font-size:10px; fill:rgb(38,38,38); text-rendering:geometricPrecision; image-rendering:optimizeQuality; color-rendering:optimizeQuality; font-family:'Helvetica Neue'; stroke:rgb(38,38,38); color-interpolation:linearRGB;\"\n",
       "    ><text x=\"-5\" xml:space=\"preserve\" y=\"10\" style=\"stroke:none;\"\n",
       "      >-2</text\n",
       "    ></g\n",
       "    ><g transform=\"translate(290,378)\" style=\"font-size:10px; fill:rgb(38,38,38); text-rendering:geometricPrecision; image-rendering:optimizeQuality; color-rendering:optimizeQuality; font-family:'Helvetica Neue'; stroke:rgb(38,38,38); color-interpolation:linearRGB;\"\n",
       "    ><text x=\"-3\" xml:space=\"preserve\" y=\"10\" style=\"stroke:none;\"\n",
       "      >0</text\n",
       "    ></g\n",
       "    ><g transform=\"translate(359.0732,378)\" style=\"font-size:10px; fill:rgb(38,38,38); text-rendering:geometricPrecision; image-rendering:optimizeQuality; color-rendering:optimizeQuality; font-family:'Helvetica Neue'; stroke:rgb(38,38,38); color-interpolation:linearRGB;\"\n",
       "    ><text x=\"-3\" xml:space=\"preserve\" y=\"10\" style=\"stroke:none;\"\n",
       "      >2</text\n",
       "    ></g\n",
       "    ><g transform=\"translate(428.1465,378)\" style=\"font-size:10px; fill:rgb(38,38,38); text-rendering:geometricPrecision; image-rendering:optimizeQuality; color-rendering:optimizeQuality; font-family:'Helvetica Neue'; stroke:rgb(38,38,38); color-interpolation:linearRGB;\"\n",
       "    ><text x=\"-3\" xml:space=\"preserve\" y=\"10\" style=\"stroke:none;\"\n",
       "      >4</text\n",
       "    ></g\n",
       "    ><g transform=\"translate(497.2197,378)\" style=\"font-size:10px; fill:rgb(38,38,38); text-rendering:geometricPrecision; image-rendering:optimizeQuality; color-rendering:optimizeQuality; font-family:'Helvetica Neue'; stroke:rgb(38,38,38); color-interpolation:linearRGB;\"\n",
       "    ><text x=\"-3\" xml:space=\"preserve\" y=\"10\" style=\"stroke:none;\"\n",
       "      >6</text\n",
       "    ></g\n",
       "    ><g transform=\"translate(288,403)\" style=\"font-size:11px; fill:rgb(38,38,38); text-rendering:geometricPrecision; image-rendering:optimizeQuality; color-rendering:optimizeQuality; font-family:'Helvetica Neue'; stroke:rgb(38,38,38); color-interpolation:linearRGB;\"\n",
       "    ><text x=\"0\" xml:space=\"preserve\" y=\"0\" style=\"stroke:none;\"\n",
       "      >t</text\n",
       "    ></g\n",
       "    ><g style=\"fill:rgb(38,38,38); text-rendering:geometricPrecision; image-rendering:optimizeQuality; color-rendering:optimizeQuality; stroke-linejoin:round; stroke:rgb(38,38,38); color-interpolation:linearRGB; stroke-width:0.5;\"\n",
       "    ><line y2=\"31\" style=\"fill:none;\" x1=\"73\" x2=\"73\" y1=\"374\"\n",
       "      /><line y2=\"31\" style=\"fill:none;\" x1=\"507\" x2=\"507\" y1=\"374\"\n",
       "      /><line y2=\"321.2848\" style=\"fill:none;\" x1=\"73\" x2=\"77.34\" y1=\"321.2848\"\n",
       "      /><line y2=\"261.8924\" style=\"fill:none;\" x1=\"73\" x2=\"77.34\" y1=\"261.8924\"\n",
       "      /><line y2=\"202.5\" style=\"fill:none;\" x1=\"73\" x2=\"77.34\" y1=\"202.5\"\n",
       "      /><line y2=\"143.1076\" style=\"fill:none;\" x1=\"73\" x2=\"77.34\" y1=\"143.1076\"\n",
       "      /><line y2=\"83.7152\" style=\"fill:none;\" x1=\"73\" x2=\"77.34\" y1=\"83.7152\"\n",
       "      /><line y2=\"321.2848\" style=\"fill:none;\" x1=\"507\" x2=\"502.66\" y1=\"321.2848\"\n",
       "      /><line y2=\"261.8924\" style=\"fill:none;\" x1=\"507\" x2=\"502.66\" y1=\"261.8924\"\n",
       "      /><line y2=\"202.5\" style=\"fill:none;\" x1=\"507\" x2=\"502.66\" y1=\"202.5\"\n",
       "      /><line y2=\"143.1076\" style=\"fill:none;\" x1=\"507\" x2=\"502.66\" y1=\"143.1076\"\n",
       "      /><line y2=\"83.7152\" style=\"fill:none;\" x1=\"507\" x2=\"502.66\" y1=\"83.7152\"\n",
       "    /></g\n",
       "    ><g transform=\"translate(69,321.2848)\" style=\"font-size:10px; fill:rgb(38,38,38); text-rendering:geometricPrecision; image-rendering:optimizeQuality; color-rendering:optimizeQuality; font-family:'Helvetica Neue'; stroke:rgb(38,38,38); color-interpolation:linearRGB;\"\n",
       "    ><text x=\"-10\" xml:space=\"preserve\" y=\"3.5\" style=\"stroke:none;\"\n",
       "      >-1</text\n",
       "    ></g\n",
       "    ><g transform=\"translate(69,261.8924)\" style=\"font-size:10px; fill:rgb(38,38,38); text-rendering:geometricPrecision; image-rendering:optimizeQuality; color-rendering:optimizeQuality; font-family:'Helvetica Neue'; stroke:rgb(38,38,38); color-interpolation:linearRGB;\"\n",
       "    ><text x=\"-18\" xml:space=\"preserve\" y=\"3.5\" style=\"stroke:none;\"\n",
       "      >-0.5</text\n",
       "    ></g\n",
       "    ><g transform=\"translate(69,202.5)\" style=\"font-size:10px; fill:rgb(38,38,38); text-rendering:geometricPrecision; image-rendering:optimizeQuality; color-rendering:optimizeQuality; font-family:'Helvetica Neue'; stroke:rgb(38,38,38); color-interpolation:linearRGB;\"\n",
       "    ><text x=\"-6\" xml:space=\"preserve\" y=\"3.5\" style=\"stroke:none;\"\n",
       "      >0</text\n",
       "    ></g\n",
       "    ><g transform=\"translate(69,143.1076)\" style=\"font-size:10px; fill:rgb(38,38,38); text-rendering:geometricPrecision; image-rendering:optimizeQuality; color-rendering:optimizeQuality; font-family:'Helvetica Neue'; stroke:rgb(38,38,38); color-interpolation:linearRGB;\"\n",
       "    ><text x=\"-14\" xml:space=\"preserve\" y=\"3.5\" style=\"stroke:none;\"\n",
       "      >0.5</text\n",
       "    ></g\n",
       "    ><g transform=\"translate(69,83.7152)\" style=\"font-size:10px; fill:rgb(38,38,38); text-rendering:geometricPrecision; image-rendering:optimizeQuality; color-rendering:optimizeQuality; font-family:'Helvetica Neue'; stroke:rgb(38,38,38); color-interpolation:linearRGB;\"\n",
       "    ><text x=\"-6\" xml:space=\"preserve\" y=\"3.5\" style=\"stroke:none;\"\n",
       "      >1</text\n",
       "    ></g\n",
       "    ><g transform=\"translate(290.0003,28.25)\" style=\"font-size:11px; text-rendering:geometricPrecision; image-rendering:optimizeQuality; color-rendering:optimizeQuality; font-family:'Helvetica Neue'; color-interpolation:linearRGB; font-weight:bold;\"\n",
       "    ><text x=\"-118.5\" xml:space=\"preserve\" y=\"-3\" style=\"stroke:none;\"\n",
       "      >Square Wave Reconstructed from Sinewaves</text\n",
       "    ></g\n",
       "    ><g style=\"stroke-linecap:butt; fill:rgb(0,114,189); text-rendering:geometricPrecision; image-rendering:optimizeQuality; color-rendering:optimizeQuality; stroke-linejoin:round; stroke:rgb(0,114,189); color-interpolation:linearRGB; stroke-width:0.5;\"\n",
       "    ><path d=\"M73 202.5 L74.0023 176.3404 L75.0046 151.2192 L76.0069 128.1015 L77.0092 107.8111 L78.0115 90.9751 L79.0139 77.9847 L80.0162 68.9747 L81.0185 63.8248 L82.0208 62.1798 L83.0231 63.4892 L84.0254 67.0598 L85.0277 72.1182 L86.03 77.8768 L87.0323 83.5973 L88.0346 88.6467 L89.0369 92.5409 L90.0393 94.9727 L91.0416 95.8224 L92.0439 95.1505 L93.0462 93.1753 L94.0485 90.2362 L95.0508 86.7488 L96.0531 83.1556 L97.0554 79.8775 L98.0577 77.2703 L99.06 75.5911 L100.0624 74.9769 L101.0647 75.4368 L102.067 76.8581 L103.0693 79.0257 L104.0716 81.6505 L105.0739 84.4054 L106.0762 86.9632 L107.0785 89.0331 L108.0808 90.3918 L109.0831 90.9062 L110.0855 90.5448 L111.0878 89.378 L112.0901 87.5671 L113.0924 85.343 L114.0947 82.9784 L115.097 80.7552 L116.0993 78.9328 L117.1016 77.7181 L118.1039 77.2438 L119.1062 77.5537 L120.1086 78.5996 L121.1108 80.248 L122.1132 82.2968 L123.1155 84.4989 L124.1178 86.5914 L125.1201 88.3263 L126.1224 89.4987 L127.1247 89.9704 L128.127 89.686 L129.1293 88.6788 L130.1317 87.0676 L131.1339 85.0424 L132.1363 82.8432 L133.1386 80.7318 L134.1409 78.9621 L135.1432 77.75 L136.1455 77.2481 L137.1478 77.5268 L138.1501 78.5655 L139.1524 80.2529 L140.1547 82.3986 L141.157 84.7539 L142.1593 87.0396 L143.1617 88.9776 L144.164 90.3237 L145.1663 90.8969 L146.1686 90.6026 L147.1709 89.4463 L148.1732 87.5365 L149.1755 85.0756 L150.1778 82.3401 L151.1801 79.6514 L152.1824 77.3403 L153.1848 75.7088 L154.1871 74.9936 L155.1894 75.3352 L156.1917 76.756 L157.194 79.1509 L158.1963 82.2913 L159.1986 85.8432 L160.2009 89.3985 L161.2032 92.5156 L162.2056 94.7674 L163.2079 95.791 L164.2102 95.334 L165.2125 93.2938 L166.2148 89.7437 L167.2171 84.9443 L168.2194 79.3374 L169.2217 73.5223 L170.224 68.2159 L171.2263 64.1992 L172.2286 62.2553 L173.2309 63.1035 L174.2333 67.3355 L175.2356 75.3594 L176.2379 87.3572 L177.2402 103.2587 L178.2425 122.7356 L179.2448 145.2169 L180.2471 169.9232 L181.2494 195.9189 L182.2517 222.1772 L183.254 247.6525 L184.2563 271.3549 L185.2587 292.4195 L186.261 310.1655 L187.2633 324.1401 L188.2656 334.1436 L189.2679 340.2339 L190.2702 342.7103 L191.2725 342.0791 L192.2748 339.0033 L193.2771 334.2425 L194.2794 328.5867 L195.2818 322.7924 L196.2841 317.5234 L197.2864 313.3044 L198.2887 310.4884 L199.291 309.2421 L200.2933 309.5484 L201.2956 311.2256 L202.2979 313.9605 L203.3002 317.3522 L204.3025 320.96 L205.3049 324.3534 L206.3072 327.1568 L207.3095 329.0857 L208.3118 329.972 L209.3141 329.7747 L210.3164 328.5771 L211.3187 326.5713 L212.321 324.031 L213.3233 321.2773 L214.3256 318.6409 L215.3279 316.425 L216.3302 314.8722 L217.3326 314.1397 L218.3349 314.2849 L219.3372 315.2622 L220.3395 316.9315 L221.3418 319.0767 L222.3441 321.4328 L223.3464 323.7171 L224.3487 325.6617 L225.351 327.0439 L226.3533 327.711 L227.3557 327.5963 L228.358 326.725 L229.3603 325.2105 L230.3626 323.2399 L231.3649 321.0516 L232.3672 318.9073 L233.3695 317.0617 L234.3718 315.7328 L235.3741 315.0773 L236.3764 315.1723 L237.3788 316.0067 L238.3811 317.4823 L239.3834 319.425 L240.3857 321.6049 L241.388 323.7629 L242.3903 325.6403 L243.3926 327.0089 L244.3949 327.6984 L245.3972 327.6165 L246.3995 326.7608 L247.4018 325.2206 L248.4042 323.168 L249.4065 320.8395 L250.4088 318.5097 L251.4111 316.4601 L252.4134 314.9461 L253.4157 314.1671 L254.418 314.241 L255.4203 315.188 L256.4226 316.925 L257.425 319.2716 L258.4272 321.9674 L259.4296 324.6991 L260.4319 327.1347 L261.4342 328.9614 L262.4365 329.923 L263.4388 329.8526 L264.4411 328.6968 L265.4434 326.5287 L266.4457 323.547 L267.448 320.0619 L268.4503 316.4666 L269.4527 313.1985 L270.455 310.693 L271.4573 309.3336 L272.4596 309.4044 L273.4619 311.0485 L274.4642 314.2383 L275.4665 318.76 L276.4688 324.2156 L277.4711 330.0421 L278.4734 335.5473 L279.4757 339.9609 L280.4781 342.4941 L281.4804 342.4054 L282.4827 339.0657 L283.485 332.0162 L284.4873 321.0154 L285.4896 306.0691 L286.4919 287.4415 L287.4942 265.6456 L288.4965 241.4129 L289.4988 215.6456 L290.5012 189.3544 L291.5035 163.5871 L292.5058 139.3544 L293.5081 117.5585 L294.5104 98.9309 L295.5127 83.9846 L296.515 72.9838 L297.5173 65.9343 L298.5196 62.5946 L299.5219 62.5059 L300.5243 65.0391 L301.5266 69.4527 L302.5289 74.958 L303.5312 80.7844 L304.5335 86.24 L305.5358 90.7617 L306.5381 93.9515 L307.5404 95.5956 L308.5427 95.6663 L309.545 94.307 L310.5473 91.8015 L311.5497 88.5334 L312.552 84.9381 L313.5543 81.453 L314.5566 78.4713 L315.5589 76.3032 L316.5612 75.1474 L317.5635 75.077 L318.5658 76.0386 L319.5681 77.8653 L320.5704 80.3009 L321.5728 83.0326 L322.575 85.7284 L323.5774 88.075 L324.5797 89.812 L325.582 90.759 L326.5843 90.8329 L327.5866 90.0539 L328.5889 88.54 L329.5912 86.4903 L330.5935 84.1605 L331.5959 81.832 L332.5981 79.7794 L333.6005 78.2392 L334.6028 77.3835 L335.6051 77.3016 L336.6074 77.9911 L337.6097 79.3597 L338.612 81.2371 L339.6143 83.3951 L340.6166 85.575 L341.6189 87.5177 L342.6212 88.9932 L343.6236 89.8277 L344.6259 89.9227 L345.6282 89.2672 L346.6305 87.9383 L347.6328 86.0927 L348.6351 83.9484 L349.6374 81.7601 L350.6397 79.7895 L351.642 78.275 L352.6443 77.4038 L353.6466 77.289 L354.649 77.9561 L355.6513 79.3384 L356.6536 81.2829 L357.6559 83.5672 L358.6582 85.9233 L359.6605 88.0685 L360.6628 89.7377 L361.6651 90.7151 L362.6674 90.8603 L363.6697 90.1278 L364.6721 88.575 L365.6744 86.3591 L366.6767 83.7227 L367.679 80.969 L368.6813 78.4287 L369.6836 76.4229 L370.6859 75.2253 L371.6882 75.028 L372.6905 75.9143 L373.6928 77.8432 L374.6952 80.6466 L375.6974 84.04 L376.6998 87.6478 L377.7021 91.0395 L378.7044 93.7744 L379.7067 95.4516 L380.709 95.7579 L381.7113 94.5116 L382.7136 91.6956 L383.7159 87.4766 L384.7182 82.2076 L385.7206 76.4133 L386.7229 70.7575 L387.7252 65.9967 L388.7275 62.9209 L389.7298 62.2897 L390.7321 64.7661 L391.7344 70.8564 L392.7367 80.8599 L393.739 94.8345 L394.7413 112.5805 L395.7437 133.6451 L396.746 157.3475 L397.7483 182.8228 L398.7506 209.0811 L399.7529 235.0768 L400.7552 259.7831 L401.7575 282.2644 L402.7598 301.7413 L403.7621 317.6428 L404.7644 329.6406 L405.7668 337.6645 L406.769 341.8965 L407.7714 342.7447 L408.7737 340.8008 L409.776 336.7841 L410.7783 331.4777 L411.7806 325.6626 L412.7829 320.0557 L413.7852 315.2563 L414.7875 311.7062 L415.7898 309.666 L416.7921 309.209 L417.7945 310.2326 L418.7968 312.4844 L419.7991 315.6015 L420.8014 319.1568 L421.8037 322.7087 L422.806 325.8492 L423.8083 328.244 L424.8106 329.6648 L425.8129 330.0063 L426.8152 329.2912 L427.8176 327.6597 L428.8199 325.3486 L429.8222 322.6599 L430.8245 319.9244 L431.8268 317.4635 L432.8291 315.5537 L433.8314 314.3974 L434.8337 314.1031 L435.836 314.6763 L436.8383 316.0224 L437.8406 317.9604 L438.843 320.2461 L439.8453 322.6014 L440.8476 324.7471 L441.8499 326.4345 L442.8522 327.4732 L443.8545 327.752 L444.8568 327.25 L445.8591 326.0379 L446.8614 324.2682 L447.8637 322.1568 L448.8661 319.9576 L449.8683 317.9324 L450.8707 316.3212 L451.873 315.314 L452.8753 315.0296 L453.8776 315.5013 L454.8799 316.6737 L455.8822 318.4086 L456.8845 320.5011 L457.8868 322.7032 L458.8892 324.752 L459.8914 326.4005 L460.8938 327.4464 L461.8961 327.7562 L462.8984 327.2819 L463.9007 326.0672 L464.903 324.2448 L465.9053 322.0216 L466.9076 319.657 L467.9099 317.4329 L468.9123 315.622 L469.9146 314.4552 L470.9169 314.0938 L471.9192 314.6082 L472.9215 315.9669 L473.9238 318.0368 L474.9261 320.5946 L475.9284 323.3495 L476.9307 325.9743 L477.933 328.1419 L478.9353 329.5632 L479.9377 330.023 L480.9399 329.4088 L481.9423 327.7297 L482.9446 325.1225 L483.9469 321.8444 L484.9492 318.2512 L485.9515 314.7638 L486.9538 311.8246 L487.9561 309.8495 L488.9584 309.1776 L489.9607 310.0273 L490.963 312.4591 L491.9654 316.3533 L492.9677 321.4027 L493.97 327.1232 L494.9723 332.8818 L495.9746 337.9402 L496.9769 341.5108 L497.9792 342.8202 L498.9815 341.1752 L499.9838 336.0253 L500.9861 327.0154 L501.9885 314.0249 L502.9908 297.1889 L503.9931 276.8985 L504.9954 253.7808 L505.9977 228.6596 L507 202.5\" style=\"fill:none; fill-rule:evenodd;\"\n",
       "      /><path d=\"M72.9483 321.2848 L73 321.2848 L73 202.5 L73 83.7152 L181.5 83.7152 L181.5 202.5 L181.5 321.2848 L290 321.2848 L290 202.5 L290 83.7152 L398.5 83.7152 L398.5 202.5 L398.5 321.2848 L507 321.2848 L507 202.5 L507 83.7152 L507.0517 83.7152\" style=\"fill:none; fill-rule:evenodd; stroke:red;\"\n",
       "    /></g\n",
       "  ></g\n",
       "></svg\n",
       ">\n"
      ]
     },
     "metadata": {},
     "output_type": "display_data"
    }
   ],
   "source": [
    "ezplot(ft_num)\n",
    "hold on\n",
    "clear pi\n",
    "t = [-3,-2,-2,-2,-1,-1,-1,0,0,0,1,1,1,2,2,2,3]*pi;\n",
    "f = [-1,-1,0,1,1,0,-1,-1,0,1,1,0,-1,-1,0,1,1];\n",
    "plot(t,f,'r-')\n",
    "grid\n",
    "title('Square Wave Reconstructed from Sinewaves')\n",
    "hold off"
   ]
  },
  {
   "cell_type": "markdown",
   "metadata": {
    "slideshow": {
     "slide_type": "notes"
    }
   },
   "source": [
    "To run the full solution yourself download and run [square_ftrig.mlx](https://cpjobling.github.io/eg-247-textbook/fourier_series/matlab/square_ftrig.mlx)."
   ]
  },
  {
   "cell_type": "markdown",
   "metadata": {
    "slideshow": {
     "slide_type": "subslide"
    }
   },
   "source": [
    "The Result confirms that:\n",
    "\n",
    "* $a_0 = 0$\n",
    "* $a_i = 0$: function is odd\n",
    "* $b_i = 0$: for $i$ even - half-wave symmetry\n",
    "\n",
    "```\n",
    "ft =\n",
    " \n",
    "(4*A*sin(t))/pi + (4*A*sin(3*t))/(3*pi) + (4*A*sin(5*t))/(5*pi) + (4*A*sin(7*t))/(7*pi) + (4*A*sin(9*t))/(9*pi) + (4*A*sin(11*t))/(11*pi)\n",
    "```"
   ]
  },
  {
   "cell_type": "markdown",
   "metadata": {
    "slideshow": {
     "slide_type": "notes"
    }
   },
   "source": [
    "Note that the coefficients match those given in the textbook (Section 7.4.1).\n",
    "\n",
    "$$f(t) = \\frac{4A}{\\pi}\\left(\\sin \\Omega_0 t + \\frac{1}{3}\\sin 3\\Omega_0 t + \\frac{1}{5}\\sin 5\\Omega_0 t + \\cdots\\right) = \\frac{4A}{\\pi}\\sum_{n=\\mathrm{odd}}\\frac{1}{n}\\sin n\\Omega_0 t$$"
   ]
  },
  {
   "cell_type": "markdown",
   "metadata": {
    "slideshow": {
     "slide_type": "subslide"
    }
   },
   "source": [
    "### Using symmetry - computing the Fourier series coefficients of the shifted square wave\n",
    "\n",
    "<img src=\"pictures/shifted_square_wave.png\">"
   ]
  },
  {
   "cell_type": "markdown",
   "metadata": {
    "slideshow": {
     "slide_type": "notes"
    }
   },
   "source": [
    "Calculation of Fourier coefficients for Shifted Square Wave Exploiting half-wave symmetry. This is almost the same procedure as before. You can confirm the results by downloading and executing this file: [shifted_sq_ftrig.mlx](https://cpjobling.github.io/eg-247-textbook/fourier_series/matlab/shifted_sq_ftrig.mlx)."
   ]
  },
  {
   "cell_type": "code",
   "execution_count": 10,
   "metadata": {
    "slideshow": {
     "slide_type": "notes"
    }
   },
   "outputs": [],
   "source": [
    "clear all\n",
    "syms t n A pi"
   ]
  },
  {
   "cell_type": "markdown",
   "metadata": {
    "slideshow": {
     "slide_type": "notes"
    }
   },
   "source": [
    "Define harmonics"
   ]
  },
  {
   "cell_type": "code",
   "execution_count": 11,
   "metadata": {
    "slideshow": {
     "slide_type": "notes"
    }
   },
   "outputs": [],
   "source": [
    "n = [1:11];"
   ]
  },
  {
   "cell_type": "markdown",
   "metadata": {
    "slideshow": {
     "slide_type": "notes"
    }
   },
   "source": [
    "DC component"
   ]
  },
  {
   "cell_type": "code",
   "execution_count": 12,
   "metadata": {
    "slideshow": {
     "slide_type": "notes"
    }
   },
   "outputs": [
    {
     "name": "stdout",
     "output_type": "stream",
     "text": [
      "half_a0 =\n",
      "     0\n"
     ]
    }
   ],
   "source": [
    "half_a0 = 0"
   ]
  },
  {
   "cell_type": "markdown",
   "metadata": {
    "slideshow": {
     "slide_type": "notes"
    }
   },
   "source": [
    "Compute harmonics - use half-wave symmetry"
   ]
  },
  {
   "cell_type": "code",
   "execution_count": 13,
   "metadata": {
    "slideshow": {
     "slide_type": "notes"
    }
   },
   "outputs": [],
   "source": [
    "ai = 4/pi*int(A*cos(n*t),t,0,(sym(pi)/2));"
   ]
  },
  {
   "cell_type": "code",
   "execution_count": 14,
   "metadata": {
    "slideshow": {
     "slide_type": "notes"
    }
   },
   "outputs": [],
   "source": [
    "bi = zeros(size(n));"
   ]
  },
  {
   "cell_type": "markdown",
   "metadata": {
    "slideshow": {
     "slide_type": "notes"
    }
   },
   "source": [
    "Reconstruct f(t) from harmonic sine functions"
   ]
  },
  {
   "cell_type": "code",
   "execution_count": 15,
   "metadata": {
    "slideshow": {
     "slide_type": "notes"
    }
   },
   "outputs": [],
   "source": [
    "ft = half_a0;\n",
    "for k=1:length(n)\n",
    "    ft = ft + ai(k)*cos(k*t) + bi(k)*sin(k*t);\n",
    "end"
   ]
  },
  {
   "cell_type": "markdown",
   "metadata": {
    "slideshow": {
     "slide_type": "notes"
    }
   },
   "source": [
    "Make numeric and print to 4 sig. figs."
   ]
  },
  {
   "cell_type": "code",
   "execution_count": 16,
   "metadata": {
    "slideshow": {
     "slide_type": "notes"
    }
   },
   "outputs": [
    {
     "name": "stdout",
     "output_type": "stream",
     "text": [
      "ft_num =\n",
      "(cos(4*t)*sin(2*pi))/pi + (0.5000*cos(8*t)*sin(4*pi))/pi + (0.4444*cos(9*t)*sin(4.5000*pi))/pi + (0.8000*sin(2.5000*pi)*cos(5*t))/pi + (0.4000*sin(5*pi)*cos(10*t))/pi + (0.3636*sin(5.5000*pi)*cos(11*t))/pi + (1.3333*sin(1.5000*pi)*cos(3*t))/pi + (0.6667*sin(3*pi)*cos(6*t))/pi + (0.5714*sin(3.5000*pi)*cos(7*t))/pi + (4*cos(t)*sin(0.5000*pi))/pi + (2*sin(pi)*cos(2*t))/pi\n"
     ]
    }
   ],
   "source": [
    "ft_num = subs(ft,A,1.0);\n",
    "ft_num = vpa(ft_num, 4)"
   ]
  },
  {
   "cell_type": "markdown",
   "metadata": {
    "slideshow": {
     "slide_type": "notes"
    }
   },
   "source": [
    "plot result and overlay original signal (we could use `heaviside` for this as well."
   ]
  },
  {
   "cell_type": "code",
   "execution_count": 17,
   "metadata": {
    "slideshow": {
     "slide_type": "notes"
    }
   },
   "outputs": [],
   "source": [
    "clear pi\n",
    "ezplot(ft_num)\n",
    "hold on\n",
    "t = [-3,-2,-2,-2,-1,-1,-1,0,0,0,1,1,1,2,2,2,3]*pi;\n",
    "f = [-1,-1,0,1,1,0,-1,-1,0,1,1,0,-1,-1,0,1,1];\n",
    "plot(t-pi/2,f,'r-')\n",
    "axis([-10,10,-1.5,1.5])\n",
    "grid\n",
    "title('Shifted Square Waveform Reconstructed from Cosines')\n",
    "hold off"
   ]
  },
  {
   "cell_type": "markdown",
   "metadata": {
    "slideshow": {
     "slide_type": "subslide"
    }
   },
   "source": [
    "* As before $a_0=0$\n",
    "* We observe that this function is even, so all $b_k$ coefficents will be zero\n",
    "* The waveform has half-wave symmetry, so only odd indexed coefficents will be present.\n",
    "* Further more, because it has half-wave symmetry we can just integrate from $0 \\to \\pi/2$ and multiply the result by 4."
   ]
  },
  {
   "cell_type": "markdown",
   "metadata": {
    "slideshow": {
     "slide_type": "notes"
    }
   },
   "source": [
    "Note that the coefficients match those given in the textbook (Section 7.4.2).\n",
    "\n",
    "$$f(t) = \\frac{4A}{\\pi}\\left(\\cos \\Omega_0 t - \\frac{1}{3}\\cos 3\\Omega_0 t + \\frac{1}{5}\\cos 5\\Omega_0 t - \\cdots\\right) = \\frac{4A}{\\pi}\\sum_{n=\\mathrm{odd}}(-1)^{\\frac{n-1}{2}} \\frac{1}{n}\\cos n\\Omega_0 t$$"
   ]
  },
  {
   "cell_type": "markdown",
   "metadata": {
    "slideshow": {
     "slide_type": "slide"
    }
   },
   "source": [
    "## Gibbs Phenomenon\n",
    "\n",
    "In an earlier slide we found that the trigonometric for of the Fourier series of the square waveform is\n",
    "\n",
    "$$f(t) = \\frac{4A}{\\pi}\\left(\\sin \\Omega_0 t + \\frac{1}{3}\\sin 3\\Omega_0 t + \\frac{1}{5}\\sin 5\\Omega_0 t + \\cdots\\right) = \\frac{4A}{\\pi}\\sum_{n=\\mathrm{odd}}\\frac{1}{n}\\sin n\\Omega_0 t$$"
   ]
  },
  {
   "cell_type": "markdown",
   "metadata": {
    "slideshow": {
     "slide_type": "slide"
    }
   },
   "source": [
    "This figure shows the approximation for the first 11 harmonics:\n",
    "\n",
    "<img src=\"pictures/fsq_trig.png\">\n",
    "\n",
    "As we add more harmonics, the sum looks more and more like a square wave. However the crests do not become flattened; this is known as *Gibbs Phenomenon* and it occurs because of the discontinuity of the perfect sqare waveform as it changes from \n",
    "$+A$ to $-A$ and *vice versa*."
   ]
  }
 ],
 "metadata": {
  "anaconda-cloud": {},
  "celltoolbar": "Slideshow",
  "jupytext": {
   "formats": "ipynb,md:myst"
  },
  "kernelspec": {
   "display_name": "MATLAB",
   "language": "matlab",
   "name": "imatlab"
  },
  "language_info": {
   "codemirror_mode": "octave",
   "file_extension": ".m",
   "mimetype": "text/x-matlab",
   "name": "matlab",
   "nbconvert_exporter": "imatlab._exporter.MatlabExporter",
   "pygments_lexer": "matlab",
   "version": "9.11.0.1769968 (R2021b)"
  }
 },
 "nbformat": 4,
 "nbformat_minor": 4
}
