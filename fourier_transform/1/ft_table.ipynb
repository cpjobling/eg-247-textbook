{
 "cells": [
  {
   "cell_type": "markdown",
   "metadata": {},
   "source": [
    "# Common Fourier Transform Pairs\n",
    "\n",
    "|     | **Name**                         | $f(t)$                            | $F(\\omega)$ | **Remarks**                           |\n",
    "|-----| ---------------------------------|-----------------------------------|-------------|---------------------------------------|\n",
    "| 1.  | Dirac delta                      | $\\delta(t)$                       | $1$         | Constant energy at *all* frequencies. |\n",
    "| 2.  | Time sample                      | $\\delta(t-t_0)$                   |  $e^{-j\\omega t_0}$ |  \n",
    "| 3.  | Phase shift                      | $e^{j\\omega_0 t}$                 |  $2\\pi\\delta(\\omega - \\omega_0)$ |  \n",
    "| 4.  | *Signum*                         | $\\operatorname{sgn} t$          |  $\\displaystyle{\\frac{2}{j\\omega}}$ |  also known as sign function\n",
    "| 5.  |  Unit step                       | $u_0(t)$                          |  $\\displaystyle{\\frac{1}{j\\omega}+\\pi\\delta(\\omega)}$ |  \n",
    "| 6.  |  Cosine                          | $\\cos \\omega_0 t$                 |  $\\pi\\left[\\delta(\\omega-\\omega_0)+\\delta(\\omega+\\omega_0)\\right]$ |  \n",
    "| 7.  |  Sine                            | $\\sin \\omega_0 t$                 |  $-j\\pi\\left[\\delta(\\omega-\\omega_0)-\\delta(\\omega+\\omega_0)\\right]$ |  \n",
    "| 8.  |  Single pole                     | $e^{-at}u_0(t)$                   |  $\\displaystyle{\\frac{1}{j\\omega + a}}$ |  $a \\gt 0$ |\n",
    "| 9.  |  Double pole                     | $te^{-at}u_0(t)$                  |  $\\displaystyle{\\frac{1}{(j\\omega + a)^2}}$ |  $a \\gt 0$ |\n",
    "| 10. |  Complex pole (cosine component) | $e^{-at}\\cos \\omega_0 t\\;u_0(t)$  |  $\\displaystyle{\\frac{j\\omega + a}{(j\\omega + a)^2+\\omega_0^2}}$ |  $a\\gt 0$\n",
    "| 11. |  Complex pole (sine component)   | $e^{-a t}\\sin \\omega_0 t\\;u_0(t)$ |  $\\displaystyle{\\frac{\\omega}{(j\\omega + a)^2+\\omega_0^2}}$ |  $a\\gt 0$ |\n",
    "\n",
    "See also: [Wikibooks: Engineering Tables/Fourier Transform Table](https://en.wikibooks.org/wiki/Engineering_Tables/Fourier_Transform_Table) and [Fourier Transform&mdash;WolframMathworld](https://mathworld.wolfram.com/FourierTransform.html) for more complete references."
   ]
  }
 ],
 "metadata": {
  "jupytext": {
   "cell_metadata_filter": "-all",
   "notebook_metadata_filter": "-all"
  },
  "kernelspec": {
   "display_name": "Python 3 (ipykernel)",
   "language": "python",
   "name": "python3"
  },
  "language_info": {
   "codemirror_mode": {
    "name": "ipython",
    "version": 3
   },
   "file_extension": ".py",
   "mimetype": "text/x-python",
   "name": "python",
   "nbconvert_exporter": "python",
   "pygments_lexer": "ipython3",
   "version": "3.9.7"
  }
 },
 "nbformat": 4,
 "nbformat_minor": 4
}
