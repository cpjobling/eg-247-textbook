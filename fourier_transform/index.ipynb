{
 "cells": [
  {
   "cell_type": "markdown",
   "metadata": {},
   "source": [
    "# Fourier Transform\n",
    "\n",
    "This chapter continues our coverage of **Fourier Analysis** with an introduction to the **Fourier Transform**.\n",
    "\n",
    "* **Fourier Series** is used when we are dealing with signals that are *periodic* in time. It is based on harmonics of the fundamental frequency $\\Omega_0$ of the periodic signal where the period $T = 2\\pi/\\Omega_0$.\n",
    "\n",
    "* The line spectrum occur at integer multiples of the fundamental frequency $k\\omega_0$ and is a *discrete* (or sampled) function of frequency.\n",
    "\n",
    "* As the period $T$ is increased, the distance between harmonics decreases because $\\Omega_0$ reduces.\n",
    "\n",
    "* In the limit $T\\to \\infty$, the signal becomes **aperiodic** and $k\\Omega_0 \\to \\omega$ which is a *continuous* function of frequency.\n",
    "\n",
    "This is the basis of the **Fourier Transform** which is very important as the basis for data transmission, signal filtering, and the determination of system frequency response.\n",
    "\n",
    "## Scope and Background Reading\n",
    "\n",
    "The material in this presentation and notes is based on Chapter 8 (Starting at Section 8.1) of Karris {cite}`karris`. I also used Chapter 5 of {cite}`boulet` from the **Recommended Reading List**.\n",
    "\n"
   ]
  }
 ],
 "metadata": {
  "kernelspec": {
   "display_name": "Matlab",
   "language": "matlab",
   "name": "matlab"
  },
  "language_info": {
   "codemirror_mode": "octave",
   "file_extension": ".m",
   "help_links": [
    {
     "text": "MetaKernel Magics",
     "url": "https://metakernel.readthedocs.io/en/latest/source/README.html"
    }
   ],
   "mimetype": "text/x-octave",
   "name": "matlab",
   "version": "0.16.9"
  }
 },
 "nbformat": 4,
 "nbformat_minor": 4
}
