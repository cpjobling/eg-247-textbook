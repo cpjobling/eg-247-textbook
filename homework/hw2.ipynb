{
 "cells": [
  {
   "cell_type": "markdown",
   "metadata": {
    "slideshow": {
     "slide_type": "slide"
    }
   },
   "source": [
    "# Homework 2\n",
    "\n",
    "## The Laplace and Inverse Laplace Transforms\n",
    "\n",
    "This questions are based on the end of Chapter 2 and Chapter 3 questions in {% cite karris %}.\n",
    "\n",
    "### The Laplace Transform\n",
    "\n",
    "We will distribute this PDF to the _Homework_ section of your personal section of the **OneNote Class Notebook** then you can use the *ink feature* (if supported) to hand-write or sketch your answers. You may wish to use MATLAB to solve or check your solutuons to some of these problems. You may include your MATLAB solutions as extra items in your records for [Lab 2](../labs/lab02/index).\n",
    "\n",
    "<i>Hint</i>: $u_0(t)$ is used as a \"gating function\" which changes the limits on the Laplace transform integral.\n",
    "\n",
    "<ol>\n",
    "    <li>Derive the Laplace transformation of the following time domain signals: \n",
    "        <ol>\n",
    "            <li>$13$</li>\n",
    "            <li>$5u_0(t)$</li>\n",
    "            <li>$22u_0(t - 10)$</li>\n",
    "            <li>$6tu_0(t)$</li>\n",
    "            <li>$3t^4u_0(t)$</li>\n",
    "        </ol>\n",
    "    </li>\n",
    "    <li>Derive the Laplace transformation of the following time domain signals: \n",
    "        <ol>\n",
    "            <li>$j10$</li>\n",
    "            <li>$j6\\angle -90^\\circ$</li>\n",
    "            <li>$4e^{-4t}u_0(t)$</li>\n",
    "            <li>$7t^6e^{-4t}u_0(t)$</li>\n",
    "            <li>$14\\delta(t)$</li>\n",
    "        </ol>\n",
    "    </li>\n",
    "    <li>Derive the Laplace transformation of the following time domain signals: \n",
    "        <ol>\n",
    "            <li>$\\left(t^3 + 4t^2 + 3t + 5\\right)u_0(t)$</li>\n",
    "            <li>$3(3t-2)\\delta(t-3)$</li>\n",
    "            <li>$\\left(2\\sin 4t\\right)u_0(t)$</li>\n",
    "            <li>$\\left(7\\cos5t\\right)u_0(t)$</li>\n",
    "        </ol>\n",
    "    </li>\n",
    "    <li>Derive the Laplace transformation of the following time domain signals: \n",
    "        <ol>\n",
    "            <li>$3t\\left(\\sin 5t\\right)u_0(t)$</li>\n",
    "            <li>$2t^2\\left(\\cos 3t\\right)u_0(t)$</li>\n",
    "            <li>$2e^{-5t}\\sin 5t$</li>\n",
    "            <li>$8e^{-3t}\\cos 4t$</li>\n",
    "            <li>$\\left(\\cos t\\right)\\delta(t-\\pi/4)$\n",
    "        </ol>\n",
    "    </li>\n",
    "    <li>Derive the Laplace transformation of the following time domain signals: \n",
    "        <ol>\n",
    "            <li>$5tu_0(t-3)$</li>\n",
    "            <li>$\\left(2t^2 - 5t + 4\\right)u_0(t-3)$</li>\n",
    "            <li>$(t-3)e^{-2t}u_0(t-2)$</li>\n",
    "        </ol>\n",
    "    </li>\n",
    "    <li>Derive the Laplace transformation of the following derivatives: \n",
    "        <ol>\n",
    "            <li>$\\frac{d}{dt}\\left(\\sin 3t\\right)$</li>\n",
    "            <li>$\\frac{d}{dt}\\left(3e^{-4t}\\right)$</li>\n",
    "        </ol>\n",
    "    </li>\n",
    "</ol>"
   ]
  },
  {
   "cell_type": "markdown",
   "metadata": {},
   "source": [
    "### The Inverse Laplace Transform\n",
    "\n",
    "Find the inverse Laplace transform of the following:\n",
    "<ol>\n",
    "            <li>$$\\frac{5}{s+2}$$</li>\n",
    "            <li>$$\\frac{2}{(s+2)(s+4)}$$</li>\n",
    "            <li>$$\\frac{6}{(s+2)^2}$$</li>\n",
    "            <li>$$\\frac{4s+2}{s^2+4s+85}$$</li>\n",
    "</ol>\n",
    "\n"
   ]
  },
  {
   "cell_type": "markdown",
   "metadata": {},
   "source": [
    "### Reference\n",
    "\n",
    "{% bibliography --cited %}\n"
   ]
  }
 ],
 "metadata": {
  "kernelspec": {
   "display_name": "Python 3",
   "language": "python",
   "name": "python3"
  },
  "language_info": {
   "codemirror_mode": {
    "name": "ipython",
    "version": 3
   },
   "file_extension": ".py",
   "mimetype": "text/x-python",
   "name": "python",
   "nbconvert_exporter": "python",
   "pygments_lexer": "ipython3",
   "version": "3.7.5"
  }
 },
 "nbformat": 4,
 "nbformat_minor": 1
}
