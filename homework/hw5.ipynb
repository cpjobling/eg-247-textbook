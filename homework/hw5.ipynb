{
 "cells": [
  {
   "cell_type": "markdown",
   "metadata": {
    "slideshow": {
     "slide_type": "slide"
    }
   },
   "source": [
    "# Homework 5\n",
    "\n",
    "\n",
    "## Fourier Series\n",
    "\n",
    "\n",
    "1. Compute the exponential Fourier series for the wave forms shown in [Worksheet 9](../fourier_series/1/worksheet9).\n",
    "2. Compute the exponential Fourier series of a full-wave rectified sinusoid. \n",
    "    a. Give the power spectrum for this signal \n",
    "    b. estimate the total harmonic distortion for the first 7 harmonics. \n"
   ]
  }
 ],
 "metadata": {
  "kernelspec": {
   "display_name": "Python 3",
   "language": "python",
   "name": "python3"
  },
  "language_info": {
   "codemirror_mode": {
    "name": "ipython",
    "version": 3
   },
   "file_extension": ".py",
   "mimetype": "text/x-python",
   "name": "python",
   "nbconvert_exporter": "python",
   "pygments_lexer": "ipython3",
   "version": "3.7.5"
  }
 },
 "nbformat": 4,
 "nbformat_minor": 4
}
