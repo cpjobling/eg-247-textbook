{
 "cells": [
  {
   "cell_type": "markdown",
   "metadata": {},
   "source": [
    "# Homework 7\n",
    "\n",
    "## Fourier Transforms\n",
    "\n",
    "* Review the worked solutions that you will find as a number of \"PenCasts\" in the [Worked Solutions to Selected Week 7 Problems](https://canvas.swansea.ac.uk/courses/646/pages/worked-solutions-to-selected-week-7-problems?module_item_id=403389) page on Canvas. \n",
    "* Attempt Questions 7—11 of the End of Chapter Problems ([Section 8.10](https://ebookcentral.proquest.com/lib/swansea-ebooks/reader.action?docID=3384197&ppg=315)) in Karris."
   ]
  }
 ],
 "metadata": {
  "kernelspec": {
   "display_name": "Matlab",
   "language": "matlab",
   "name": "matlab"
  },
  "language_info": {
   "codemirror_mode": "octave",
   "file_extension": ".m",
   "help_links": [
    {
     "text": "MetaKernel Magics",
     "url": "https://metakernel.readthedocs.io/en/latest/source/README.html"
    }
   ],
   "mimetype": "text/x-octave",
   "name": "matlab",
   "version": "0.16.7"
  }
 },
 "nbformat": 4,
 "nbformat_minor": 4
}
