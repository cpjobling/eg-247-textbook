{
 "cells": [
  {
   "cell_type": "markdown",
   "metadata": {},
   "source": [
    "# Homework 8\n",
    "\n",
    "## Sampling Theory and the Z-Transform\n",
    "\n",
    "### Sampling Theory\n",
    "\n",
    "You should take the scripts home ([to be found here](https://github.com/cpjobling/eg-247-textbook/tree/master/content/dt_systems/1/matlab)) and play with them.\n",
    "\n",
    "* Try increasing the sampling frequency: 8000 Hz, 11025 Hz, 22050 Hz, 44100 Hz, 48000 Hz, and 96000 Hz are supported by most PC sound cards.\n",
    "* Try increasing the bits per sample: 8, 16, 24 are available.\n",
    "\n",
    "### Z-Transform\n",
    "\n",
    "Problems 1 to 3 in [Section 9.10 Exercises](https://ebookcentral.proquest.com/lib/swansea-ebooks/reader.action?docID=3384197&ppg=329) of Karris explore the z-Transform."
   ]
  }
 ],
 "metadata": {
  "kernelspec": {
   "display_name": "Matlab",
   "language": "matlab",
   "name": "matlab"
  },
  "language_info": {
   "codemirror_mode": "octave",
   "file_extension": ".m",
   "help_links": [
    {
     "text": "MetaKernel Magics",
     "url": "https://metakernel.readthedocs.io/en/latest/source/README.html"
    }
   ],
   "mimetype": "text/x-octave",
   "name": "matlab",
   "version": "0.16.7"
  }
 },
 "nbformat": 4,
 "nbformat_minor": 4
}
