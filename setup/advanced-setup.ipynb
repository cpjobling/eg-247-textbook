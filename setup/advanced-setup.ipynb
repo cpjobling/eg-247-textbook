{
 "cells": [
  {
   "cell_type": "markdown",
   "id": "d5890899",
   "metadata": {},
   "source": [
    "# Quick Start - For Advanced Users\n",
    "\n",
    "If you want to use Python environments and the command line for installation, please follow these instructions after installing Anaconda.\n",
    "\n",
    "Not much explanation is given as if you are advanced enough to want to do this, you should be comfortable in following the steps.\n",
    "\n",
    "## On Windows\n",
    "\n",
    "Run the **Anaconda Prompt** as an Administrator.\n",
    "\n",
    "## On Mac and Linux\n",
    "\n",
    "Open a terminal window.\n",
    "\n",
    "## Go to eg-247-textbook folder\n",
    "\n",
    "Create and launch EG-247 Textbook environment:\n",
    "\n",
    "```shell\n",
    "conda update conda\n",
    "conda create -n eg-247-textbook python=3.9 anaconda\n",
    "conda activate eg-247-textbook # source activate eg-247 on mac or unix\n",
    "```\n",
    "\n",
    "Test packages:\n",
    "\n",
    "Download [soton-test-python-installation.py](https://fangohr.github.io/blog/code/python/soton-test-python-installation.py).\n",
    "\n",
    "Run:\n",
    "\n",
    "```shell\n",
    "python soton-test-python-installation.py\n",
    "```\n",
    "\n",
    "Install [Rise](https://damianavila.github.io/RISE/set index.html) for active slides:\n",
    "\n",
    "```shell\n",
    "conda install rise\n",
    "```\n"
   ]
  },
  {
   "cell_type": "markdown",
   "id": "f582c78c",
   "metadata": {},
   "source": [
    "## Install MATLAB kernel\n",
    "\n",
    "This assumes windows.\n",
    "\n",
    "First install the Python-MATLAB bridge.\n",
    "\n",
    "```shell\n",
    "set MATLAB_HOME=\"C:\\Program Files\\MATLAB\\R2022b\"\n",
    "cd %MATLAB_HOME%\\extern\\engines\\python\n",
    "python setup.py install\n",
    "```\n",
    "Now`MATLAB_KERNEL`\n",
    "\n",
    "```shell\n",
    "pip install matlab_kernel\n",
    "```\n",
    "\n",
    "Now when you launch a jupyter notebook\n",
    "\n",
    "```shell\n",
    "jupyter notebook content\\introduction\\index.ipynb\n",
    "```\n",
    "\n",
    "you should have a MATLAB kernel as well as a Python 3 kernel and the [Rise](https://damianavila.github.io/RISE/index.html) slide show feature should be available."
   ]
  },
  {
   "cell_type": "markdown",
   "id": "a84eff65",
   "metadata": {},
   "source": [
    "## Export environment settings\n",
    "\n",
    "Export settings:\n",
    "\n",
    "```shell\n",
    "conda env export --file environment.yml\n",
    "```\n",
    "\n",
    "To recreate the EG-247 Textbook environment on another machine with Anaconda installed, you should be able to copy the `environment.yml` file and execute:\n",
    "\n",
    "```shell\n",
    "conda env create --file environment.yml\n",
    "```\n",
    "\n",
    "## Exit EG-247 Environment\n",
    "\n",
    "```shell\n",
    "conda deactivate # source deactivate on mac or linux\n",
    "```\n"
   ]
  }
 ],
 "metadata": {
  "jupytext": {
   "cell_metadata_filter": "-all",
   "notebook_metadata_filter": "-all"
  },
  "kernelspec": {
   "display_name": "Python 3 (ipykernel)",
   "language": "python",
   "name": "python3"
  },
  "language_info": {
   "codemirror_mode": {
    "name": "ipython",
    "version": 3
   },
   "file_extension": ".py",
   "mimetype": "text/x-python",
   "name": "python",
   "nbconvert_exporter": "python",
   "pygments_lexer": "ipython3",
   "version": "3.9.13"
  }
 },
 "nbformat": 4,
 "nbformat_minor": 5
}
